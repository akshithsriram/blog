{
 "cells": [
  {
   "cell_type": "markdown",
   "metadata": {
    "papermill": {
     "duration": 0.025516,
     "end_time": "2020-12-10T10:13:53.065165",
     "exception": false,
     "start_time": "2020-12-10T10:13:53.039649",
     "status": "completed"
    },
    "tags": []
   },
   "source": [
    "# \"A Basic Neural Network: Differentiate Hand-Written Digits\"\n",
    "\n",
    "- badges: true\n",
    "- author: Akshith Sriram"
   ]
  },
  {
   "cell_type": "markdown",
   "metadata": {
    "papermill": {
     "duration": 0.021995,
     "end_time": "2020-12-10T10:13:53.109777",
     "exception": false,
     "start_time": "2020-12-10T10:13:53.087782",
     "status": "completed"
    },
    "tags": []
   },
   "source": [
    "### Key Objectives:\n",
    "- Building a neural network that differentiates two hand-written digits 3 and 8.\n",
    "- Comparing the results of this Neural Network (NN) to that of a Logistic Regression (LR) model.\n",
    "\n",
    "### Requirements:\n",
    "- 'Kudzu' : A neural network library that was designed during our course by [Univ.AI](www.univ.ai). \n",
    "- MNIST Database\n",
    "\n",
    "If MNIST is not installed, use the command `!pip install mnist` given below.\n",
    "It can be run both from the command line and Jupyter Notebook."
   ]
  },
  {
   "cell_type": "code",
   "execution_count": 1,
   "metadata": {
    "execution": {
     "iopub.execute_input": "2020-12-10T10:13:53.158096Z",
     "iopub.status.busy": "2020-12-10T10:13:53.157587Z",
     "iopub.status.idle": "2020-12-10T10:13:54.482856Z",
     "shell.execute_reply": "2020-12-10T10:13:54.483324Z"
    },
    "papermill": {
     "duration": 1.351892,
     "end_time": "2020-12-10T10:13:54.483512",
     "exception": false,
     "start_time": "2020-12-10T10:13:53.131620",
     "status": "completed"
    },
    "tags": []
   },
   "outputs": [
    {
     "name": "stdout",
     "output_type": "stream",
     "text": [
      "Collecting mnist\r\n"
     ]
    },
    {
     "name": "stdout",
     "output_type": "stream",
     "text": [
      "  Downloading mnist-0.2.2-py2.py3-none-any.whl (3.5 kB)\r\n"
     ]
    },
    {
     "name": "stdout",
     "output_type": "stream",
     "text": [
      "Requirement already satisfied: numpy in /opt/hostedtoolcache/Python/3.6.12/x64/lib/python3.6/site-packages (from mnist) (1.19.4)\r\n"
     ]
    },
    {
     "name": "stdout",
     "output_type": "stream",
     "text": [
      "Installing collected packages: mnist\r\n",
      "Successfully installed mnist-0.2.2\r\n"
     ]
    },
    {
     "name": "stdout",
     "output_type": "stream",
     "text": [
      "\u001b[33mWARNING: You are using pip version 20.2.4; however, version 20.3.1 is available.\r\n",
      "You should consider upgrading via the '/opt/hostedtoolcache/Python/3.6.12/x64/bin/python -m pip install --upgrade pip' command.\u001b[0m\r\n"
     ]
    }
   ],
   "source": [
    "!pip install mnist "
   ]
  },
  {
   "cell_type": "markdown",
   "metadata": {
    "papermill": {
     "duration": 0.023156,
     "end_time": "2020-12-10T10:13:54.531054",
     "exception": false,
     "start_time": "2020-12-10T10:13:54.507898",
     "status": "completed"
    },
    "tags": []
   },
   "source": [
    "#### Importing necessary libraries"
   ]
  },
  {
   "cell_type": "code",
   "execution_count": 2,
   "metadata": {
    "execution": {
     "iopub.execute_input": "2020-12-10T10:13:54.596725Z",
     "iopub.status.busy": "2020-12-10T10:13:54.584436Z",
     "iopub.status.idle": "2020-12-10T10:13:55.077198Z",
     "shell.execute_reply": "2020-12-10T10:13:55.076725Z"
    },
    "papermill": {
     "duration": 0.522146,
     "end_time": "2020-12-10T10:13:55.077324",
     "exception": false,
     "start_time": "2020-12-10T10:13:54.555178",
     "status": "completed"
    },
    "tags": []
   },
   "outputs": [],
   "source": [
    "%load_ext autoreload\n",
    "%autoreload 2\n",
    "\n",
    "%matplotlib inline\n",
    "import matplotlib.pyplot as plt\n",
    "\n",
    "import numpy as np\n",
    "import pandas as pd"
   ]
  },
  {
   "cell_type": "markdown",
   "metadata": {
    "papermill": {
     "duration": 0.023606,
     "end_time": "2020-12-10T10:13:55.124496",
     "exception": false,
     "start_time": "2020-12-10T10:13:55.100890",
     "status": "completed"
    },
    "tags": []
   },
   "source": [
    "### Preparing the Data"
   ]
  },
  {
   "cell_type": "code",
   "execution_count": 3,
   "metadata": {
    "execution": {
     "iopub.execute_input": "2020-12-10T10:13:55.174704Z",
     "iopub.status.busy": "2020-12-10T10:13:55.174201Z",
     "iopub.status.idle": "2020-12-10T10:13:55.185642Z",
     "shell.execute_reply": "2020-12-10T10:13:55.185219Z"
    },
    "papermill": {
     "duration": 0.037996,
     "end_time": "2020-12-10T10:13:55.185750",
     "exception": false,
     "start_time": "2020-12-10T10:13:55.147754",
     "status": "completed"
    },
    "tags": []
   },
   "outputs": [],
   "source": [
    "import mnist"
   ]
  },
  {
   "cell_type": "code",
   "execution_count": 4,
   "metadata": {
    "execution": {
     "iopub.execute_input": "2020-12-10T10:13:55.235290Z",
     "iopub.status.busy": "2020-12-10T10:13:55.234804Z",
     "iopub.status.idle": "2020-12-10T10:13:55.895961Z",
     "shell.execute_reply": "2020-12-10T10:13:55.896505Z"
    },
    "papermill": {
     "duration": 0.687707,
     "end_time": "2020-12-10T10:13:55.896665",
     "exception": false,
     "start_time": "2020-12-10T10:13:55.208958",
     "status": "completed"
    },
    "tags": []
   },
   "outputs": [],
   "source": [
    "train_images = mnist.train_images()\n",
    "train_labels = mnist.train_labels()"
   ]
  },
  {
   "cell_type": "code",
   "execution_count": 5,
   "metadata": {
    "execution": {
     "iopub.execute_input": "2020-12-10T10:13:56.478774Z",
     "iopub.status.busy": "2020-12-10T10:13:56.478169Z",
     "iopub.status.idle": "2020-12-10T10:13:56.493946Z",
     "shell.execute_reply": "2020-12-10T10:13:56.493539Z"
    },
    "papermill": {
     "duration": 0.565756,
     "end_time": "2020-12-10T10:13:56.494062",
     "exception": false,
     "start_time": "2020-12-10T10:13:55.928306",
     "status": "completed"
    },
    "tags": []
   },
   "outputs": [
    {
     "data": {
      "text/plain": [
       "((60000, 28, 28), (60000,))"
      ]
     },
     "execution_count": 5,
     "metadata": {},
     "output_type": "execute_result"
    }
   ],
   "source": [
    "train_images.shape, train_labels.shape"
   ]
  },
  {
   "cell_type": "code",
   "execution_count": 6,
   "metadata": {
    "execution": {
     "iopub.execute_input": "2020-12-10T10:13:57.869046Z",
     "iopub.status.busy": "2020-12-10T10:13:57.868447Z",
     "iopub.status.idle": "2020-12-10T10:13:58.096765Z",
     "shell.execute_reply": "2020-12-10T10:13:58.096281Z"
    },
    "papermill": {
     "duration": 0.824719,
     "end_time": "2020-12-10T10:13:58.096886",
     "exception": false,
     "start_time": "2020-12-10T10:13:57.272167",
     "status": "completed"
    },
    "tags": []
   },
   "outputs": [],
   "source": [
    "test_images = mnist.test_images()\n",
    "test_labels = mnist.test_labels()"
   ]
  },
  {
   "cell_type": "code",
   "execution_count": 7,
   "metadata": {
    "execution": {
     "iopub.execute_input": "2020-12-10T10:13:58.183802Z",
     "iopub.status.busy": "2020-12-10T10:13:58.183108Z",
     "iopub.status.idle": "2020-12-10T10:13:58.193693Z",
     "shell.execute_reply": "2020-12-10T10:13:58.193247Z"
    },
    "papermill": {
     "duration": 0.072981,
     "end_time": "2020-12-10T10:13:58.193807",
     "exception": false,
     "start_time": "2020-12-10T10:13:58.120826",
     "status": "completed"
    },
    "tags": []
   },
   "outputs": [
    {
     "data": {
      "text/plain": [
       "((10000, 28, 28), (10000,))"
      ]
     },
     "execution_count": 7,
     "metadata": {},
     "output_type": "execute_result"
    }
   ],
   "source": [
    "test_images.shape, test_labels.shape"
   ]
  },
  {
   "cell_type": "code",
   "execution_count": 8,
   "metadata": {
    "execution": {
     "iopub.execute_input": "2020-12-10T10:13:58.246679Z",
     "iopub.status.busy": "2020-12-10T10:13:58.246186Z",
     "iopub.status.idle": "2020-12-10T10:13:58.374240Z",
     "shell.execute_reply": "2020-12-10T10:13:58.373433Z"
    },
    "papermill": {
     "duration": 0.156756,
     "end_time": "2020-12-10T10:13:58.374371",
     "exception": false,
     "start_time": "2020-12-10T10:13:58.217615",
     "status": "completed"
    },
    "tags": []
   },
   "outputs": [
    {
     "name": "stdout",
     "output_type": "stream",
     "text": [
      "2\n"
     ]
    },
    {
     "data": {
      "text/plain": [
       "<matplotlib.image.AxesImage at 0x7f621019c358>"
      ]
     },
     "execution_count": 8,
     "metadata": {},
     "output_type": "execute_result"
    },
    {
     "data": {
      "image/png": "[encoded data removed]",
      "text/plain": [
       "<Figure size 432x288 with 1 Axes>"
      ]
     },
     "metadata": {
      "needs_background": "light"
     },
     "output_type": "display_data"
    }
   ],
   "source": [
    "image_index = 7776 # You may select anything up to 60,000\n",
    "print(train_labels[image_index]) \n",
    "plt.imshow(train_images[image_index], cmap='Greys')"
   ]
  },
  {
   "cell_type": "markdown",
   "metadata": {
    "papermill": {
     "duration": 0.025303,
     "end_time": "2020-12-10T10:13:58.424708",
     "exception": false,
     "start_time": "2020-12-10T10:13:58.399405",
     "status": "completed"
    },
    "tags": []
   },
   "source": [
    "## Filter data to get 3 and 8 out"
   ]
  },
  {
   "cell_type": "code",
   "execution_count": 9,
   "metadata": {
    "execution": {
     "iopub.execute_input": "2020-12-10T10:13:58.484644Z",
     "iopub.status.busy": "2020-12-10T10:13:58.478011Z",
     "iopub.status.idle": "2020-12-10T10:13:58.492168Z",
     "shell.execute_reply": "2020-12-10T10:13:58.492558Z"
    },
    "papermill": {
     "duration": 0.043099,
     "end_time": "2020-12-10T10:13:58.492693",
     "exception": false,
     "start_time": "2020-12-10T10:13:58.449594",
     "status": "completed"
    },
    "tags": []
   },
   "outputs": [],
   "source": [
    "train_filter = np.where((train_labels == 3 ) | (train_labels == 8))\n",
    "test_filter = np.where((test_labels == 3) | (test_labels == 8))\n",
    "X_train, y_train = train_images[train_filter], train_labels[train_filter]\n",
    "X_test, y_test = test_images[test_filter], test_labels[test_filter]"
   ]
  },
  {
   "cell_type": "markdown",
   "metadata": {
    "papermill": {
     "duration": 0.024701,
     "end_time": "2020-12-10T10:13:58.542272",
     "exception": false,
     "start_time": "2020-12-10T10:13:58.517571",
     "status": "completed"
    },
    "tags": []
   },
   "source": [
    "We normalize the pixel values in the 0 to 1 range"
   ]
  },
  {
   "cell_type": "code",
   "execution_count": 10,
   "metadata": {
    "execution": {
     "iopub.execute_input": "2020-12-10T10:13:58.598666Z",
     "iopub.status.busy": "2020-12-10T10:13:58.598169Z",
     "iopub.status.idle": "2020-12-10T10:13:58.640100Z",
     "shell.execute_reply": "2020-12-10T10:13:58.639478Z"
    },
    "papermill": {
     "duration": 0.073296,
     "end_time": "2020-12-10T10:13:58.640243",
     "exception": false,
     "start_time": "2020-12-10T10:13:58.566947",
     "status": "completed"
    },
    "tags": []
   },
   "outputs": [],
   "source": [
    "X_train = X_train/255.\n",
    "X_test = X_test/255."
   ]
  },
  {
   "cell_type": "markdown",
   "metadata": {
    "papermill": {
     "duration": 0.024755,
     "end_time": "2020-12-10T10:13:58.690508",
     "exception": false,
     "start_time": "2020-12-10T10:13:58.665753",
     "status": "completed"
    },
    "tags": []
   },
   "source": [
    "Setup the labels as 1 (when the digit is 3) and 0 (when the digit is 8)"
   ]
  },
  {
   "cell_type": "code",
   "execution_count": 11,
   "metadata": {
    "execution": {
     "iopub.execute_input": "2020-12-10T10:13:58.745560Z",
     "iopub.status.busy": "2020-12-10T10:13:58.745060Z",
     "iopub.status.idle": "2020-12-10T10:13:58.754371Z",
     "shell.execute_reply": "2020-12-10T10:13:58.754773Z"
    },
    "papermill": {
     "duration": 0.0397,
     "end_time": "2020-12-10T10:13:58.754899",
     "exception": false,
     "start_time": "2020-12-10T10:13:58.715199",
     "status": "completed"
    },
    "tags": []
   },
   "outputs": [],
   "source": [
    "y_train = 1*(y_train==3)\n",
    "y_test = 1*(y_test==3)"
   ]
  },
  {
   "cell_type": "code",
   "execution_count": 12,
   "metadata": {
    "execution": {
     "iopub.execute_input": "2020-12-10T10:13:58.807662Z",
     "iopub.status.busy": "2020-12-10T10:13:58.807175Z",
     "iopub.status.idle": "2020-12-10T10:13:58.819654Z",
     "shell.execute_reply": "2020-12-10T10:13:58.819233Z"
    },
    "papermill": {
     "duration": 0.039987,
     "end_time": "2020-12-10T10:13:58.819760",
     "exception": false,
     "start_time": "2020-12-10T10:13:58.779773",
     "status": "completed"
    },
    "tags": []
   },
   "outputs": [
    {
     "data": {
      "text/plain": [
       "((11982, 28, 28), (1984, 28, 28))"
      ]
     },
     "execution_count": 12,
     "metadata": {},
     "output_type": "execute_result"
    }
   ],
   "source": [
    "X_train.shape, X_test.shape"
   ]
  },
  {
   "cell_type": "markdown",
   "metadata": {
    "papermill": {
     "duration": 0.025033,
     "end_time": "2020-12-10T10:13:58.869760",
     "exception": false,
     "start_time": "2020-12-10T10:13:58.844727",
     "status": "completed"
    },
    "tags": []
   },
   "source": [
    "### Reshape the input data to create a linear array"
   ]
  },
  {
   "cell_type": "code",
   "execution_count": 13,
   "metadata": {
    "execution": {
     "iopub.execute_input": "2020-12-10T10:13:58.929008Z",
     "iopub.status.busy": "2020-12-10T10:13:58.928488Z",
     "iopub.status.idle": "2020-12-10T10:13:58.937705Z",
     "shell.execute_reply": "2020-12-10T10:13:58.937300Z"
    },
    "papermill": {
     "duration": 0.042923,
     "end_time": "2020-12-10T10:13:58.937816",
     "exception": false,
     "start_time": "2020-12-10T10:13:58.894893",
     "status": "completed"
    },
    "tags": []
   },
   "outputs": [
    {
     "data": {
      "text/plain": [
       "((11982, 784), (1984, 784))"
      ]
     },
     "execution_count": 13,
     "metadata": {},
     "output_type": "execute_result"
    }
   ],
   "source": [
    "X_train = X_train.reshape(X_train.shape[0], -1)\n",
    "X_test = X_test.reshape(X_test.shape[0], -1)\n",
    "X_train.shape, X_test.shape"
   ]
  },
  {
   "cell_type": "markdown",
   "metadata": {
    "papermill": {
     "duration": 0.025231,
     "end_time": "2020-12-10T10:13:58.988379",
     "exception": false,
     "start_time": "2020-12-10T10:13:58.963148",
     "status": "completed"
    },
    "tags": []
   },
   "source": [
    "### Importing appropriate functions from 'Kudzu'"
   ]
  },
  {
   "cell_type": "code",
   "execution_count": 14,
   "metadata": {
    "execution": {
     "iopub.execute_input": "2020-12-10T10:13:59.048864Z",
     "iopub.status.busy": "2020-12-10T10:13:59.048353Z",
     "iopub.status.idle": "2020-12-10T10:13:59.064084Z",
     "shell.execute_reply": "2020-12-10T10:13:59.063644Z"
    },
    "papermill": {
     "duration": 0.050484,
     "end_time": "2020-12-10T10:13:59.064207",
     "exception": false,
     "start_time": "2020-12-10T10:13:59.013723",
     "status": "completed"
    },
    "tags": []
   },
   "outputs": [],
   "source": [
    "from kudzu.layer import Sigmoid\n",
    "from kudzu.layer import Relu\n",
    "from kudzu.layer import Affine, Sigmoid\n",
    "\n",
    "from kudzu.model import Model\n",
    "from kudzu.train import Learner\n",
    "from kudzu.optim import GD\n",
    "from kudzu.data import Data, Dataloader, Sampler\n",
    "\n",
    "from kudzu.callbacks import AccCallback\n",
    "from kudzu.callbacks import ClfCallback\n",
    "\n",
    "from kudzu.loss import MSE"
   ]
  },
  {
   "cell_type": "markdown",
   "metadata": {
    "papermill": {
     "duration": 0.025211,
     "end_time": "2020-12-10T10:13:59.114714",
     "exception": false,
     "start_time": "2020-12-10T10:13:59.089503",
     "status": "completed"
    },
    "tags": []
   },
   "source": [
    "### Let us create a `Config` class, to store important parameters. \n",
    "This class essentially plays the role of a dictionary."
   ]
  },
  {
   "cell_type": "code",
   "execution_count": 15,
   "metadata": {
    "execution": {
     "iopub.execute_input": "2020-12-10T10:13:59.169408Z",
     "iopub.status.busy": "2020-12-10T10:13:59.168884Z",
     "iopub.status.idle": "2020-12-10T10:13:59.179448Z",
     "shell.execute_reply": "2020-12-10T10:13:59.179829Z"
    },
    "papermill": {
     "duration": 0.039868,
     "end_time": "2020-12-10T10:13:59.179960",
     "exception": false,
     "start_time": "2020-12-10T10:13:59.140092",
     "status": "completed"
    },
    "tags": []
   },
   "outputs": [],
   "source": [
    "class Config:\n",
    "    pass\n",
    "config = Config()\n",
    "config.lr = 0.001\n",
    "config.num_epochs = 251\n",
    "config.bs = 50"
   ]
  },
  {
   "cell_type": "markdown",
   "metadata": {
    "papermill": {
     "duration": 0.025244,
     "end_time": "2020-12-10T10:13:59.230384",
     "exception": false,
     "start_time": "2020-12-10T10:13:59.205140",
     "status": "completed"
    },
    "tags": []
   },
   "source": [
    "### Initializing data to the variables"
   ]
  },
  {
   "cell_type": "code",
   "execution_count": 16,
   "metadata": {
    "execution": {
     "iopub.execute_input": "2020-12-10T10:13:59.286992Z",
     "iopub.status.busy": "2020-12-10T10:13:59.286483Z",
     "iopub.status.idle": "2020-12-10T10:13:59.297097Z",
     "shell.execute_reply": "2020-12-10T10:13:59.296696Z"
    },
    "papermill": {
     "duration": 0.04142,
     "end_time": "2020-12-10T10:13:59.297208",
     "exception": false,
     "start_time": "2020-12-10T10:13:59.255788",
     "status": "completed"
    },
    "tags": []
   },
   "outputs": [],
   "source": [
    "data = Data(X_train, y_train.reshape(-1,1))\n",
    "sampler = Sampler(data, config.bs, shuffle=True)\n",
    "\n",
    "dl = Dataloader(data, sampler)\n",
    "\n",
    "opt = GD(config.lr)\n",
    "loss = MSE()"
   ]
  },
  {
   "cell_type": "code",
   "execution_count": 17,
   "metadata": {
    "execution": {
     "iopub.execute_input": "2020-12-10T10:13:59.352396Z",
     "iopub.status.busy": "2020-12-10T10:13:59.351873Z",
     "iopub.status.idle": "2020-12-10T10:13:59.361527Z",
     "shell.execute_reply": "2020-12-10T10:13:59.361907Z"
    },
    "papermill": {
     "duration": 0.039701,
     "end_time": "2020-12-10T10:13:59.362035",
     "exception": false,
     "start_time": "2020-12-10T10:13:59.322334",
     "status": "completed"
    },
    "tags": []
   },
   "outputs": [],
   "source": [
    "training_xdata = X_train\n",
    "testing_xdata = X_test\n",
    "training_ydata = y_train.reshape(-1,1)\n",
    "testing_ydata = y_test.reshape(-1,1)"
   ]
  },
  {
   "cell_type": "markdown",
   "metadata": {
    "papermill": {
     "duration": 0.025489,
     "end_time": "2020-12-10T10:13:59.413034",
     "exception": false,
     "start_time": "2020-12-10T10:13:59.387545",
     "status": "completed"
    },
    "tags": []
   },
   "source": [
    "### Running Models with the Training data\n",
    "Details about the network layers:\n",
    "- A first affine layer has 784 inputs and does 100 affine transforms. These are followed by a Relu\n",
    "- A second affine layer has 100 inputs from the 100 activations of the past layer, and does 100 affine transforms. These are followed by a Relu\n",
    "- A third affine layer has 100 activations and does 2 affine transformations to create an embedding for visualization. There is no non-linearity here.\n",
    "- A final \"logistic regression\" which has an affine transform from 2 inputs to 1 output, which is squeezed through a sigmoid.\n",
    "\n",
    "Help taken from Anshuman's Notebook."
   ]
  },
  {
   "cell_type": "code",
   "execution_count": 18,
   "metadata": {
    "execution": {
     "iopub.execute_input": "2020-12-10T10:13:59.471029Z",
     "iopub.status.busy": "2020-12-10T10:13:59.470516Z",
     "iopub.status.idle": "2020-12-10T10:13:59.484062Z",
     "shell.execute_reply": "2020-12-10T10:13:59.484501Z"
    },
    "papermill": {
     "duration": 0.046049,
     "end_time": "2020-12-10T10:13:59.484627",
     "exception": false,
     "start_time": "2020-12-10T10:13:59.438578",
     "status": "completed"
    },
    "tags": []
   },
   "outputs": [],
   "source": [
    "# layers for the Neural Network\n",
    "layers = [Affine(\"first\", 784, 100), Relu(\"first\"), Affine(\"second\", 100, 100), Relu(\"second\"), Affine(\"third\", 100, 2), Affine(\"final\", 2, 1), Sigmoid(\"final\")]\n",
    "model_nn = Model(layers)\n",
    "\n",
    "# layers for the Logistic Regression\n",
    "layers_lr = [Affine(\"logits\", 784, 1), Sigmoid(\"sigmoid\")]\n",
    "model_lr = Model(layers_lr)"
   ]
  },
  {
   "cell_type": "code",
   "execution_count": 19,
   "metadata": {
    "execution": {
     "iopub.execute_input": "2020-12-10T10:13:59.544617Z",
     "iopub.status.busy": "2020-12-10T10:13:59.544103Z",
     "iopub.status.idle": "2020-12-10T10:13:59.551740Z",
     "shell.execute_reply": "2020-12-10T10:13:59.552143Z"
    },
    "papermill": {
     "duration": 0.042392,
     "end_time": "2020-12-10T10:13:59.552278",
     "exception": false,
     "start_time": "2020-12-10T10:13:59.509886",
     "status": "completed"
    },
    "tags": []
   },
   "outputs": [],
   "source": [
    "# suffix _nn stands for Neural Network.\n",
    "learner_nn = Learner(loss, model_nn, opt, config.num_epochs)\n",
    "acc_nn = ClfCallback(learner_nn, config.bs, training_xdata , testing_xdata, training_ydata, testing_ydata)\n",
    "learner_nn.set_callbacks([acc_nn])"
   ]
  },
  {
   "cell_type": "code",
   "execution_count": 20,
   "metadata": {
    "execution": {
     "iopub.execute_input": "2020-12-10T10:13:59.609141Z",
     "iopub.status.busy": "2020-12-10T10:13:59.608642Z",
     "iopub.status.idle": "2020-12-10T10:15:15.051998Z",
     "shell.execute_reply": "2020-12-10T10:15:15.052501Z"
    },
    "papermill": {
     "duration": 75.475036,
     "end_time": "2020-12-10T10:15:15.052641",
     "exception": false,
     "start_time": "2020-12-10T10:13:59.577605",
     "status": "completed"
    },
    "tags": []
   },
   "outputs": [
    {
     "name": "stdout",
     "output_type": "stream",
     "text": [
      "====== Neural Network ======\n"
     ]
    },
    {
     "name": "stdout",
     "output_type": "stream",
     "text": [
      "Epoch 0, Loss 0.2422\n",
      "Training Accuracy: 0.5541, Testing Accuracy: 0.5524\n",
      "\n"
     ]
    },
    {
     "name": "stdout",
     "output_type": "stream",
     "text": [
      "Epoch 10, Loss 0.1343\n",
      "Training Accuracy: 0.9020, Testing Accuracy: 0.9224\n",
      "\n"
     ]
    },
    {
     "name": "stdout",
     "output_type": "stream",
     "text": [
      "Epoch 20, Loss 0.0723\n",
      "Training Accuracy: 0.9277, Testing Accuracy: 0.9420\n",
      "\n"
     ]
    },
    {
     "name": "stdout",
     "output_type": "stream",
     "text": [
      "Epoch 30, Loss 0.053\n",
      "Training Accuracy: 0.9423, Testing Accuracy: 0.9536\n",
      "\n"
     ]
    },
    {
     "name": "stdout",
     "output_type": "stream",
     "text": [
      "Epoch 40, Loss 0.044\n",
      "Training Accuracy: 0.9500, Testing Accuracy: 0.9587\n",
      "\n"
     ]
    },
    {
     "name": "stdout",
     "output_type": "stream",
     "text": [
      "Epoch 50, Loss 0.0389\n",
      "Training Accuracy: 0.9543, Testing Accuracy: 0.9637\n",
      "\n"
     ]
    },
    {
     "name": "stdout",
     "output_type": "stream",
     "text": [
      "Epoch 60, Loss 0.0356\n",
      "Training Accuracy: 0.9571, Testing Accuracy: 0.9682\n",
      "\n"
     ]
    },
    {
     "name": "stdout",
     "output_type": "stream",
     "text": [
      "Epoch 70, Loss 0.0332\n",
      "Training Accuracy: 0.9604, Testing Accuracy: 0.9688\n",
      "\n"
     ]
    },
    {
     "name": "stdout",
     "output_type": "stream",
     "text": [
      "Epoch 80, Loss 0.0314\n",
      "Training Accuracy: 0.9622, Testing Accuracy: 0.9708\n",
      "\n"
     ]
    },
    {
     "name": "stdout",
     "output_type": "stream",
     "text": [
      "Epoch 90, Loss 0.03\n",
      "Training Accuracy: 0.9641, Testing Accuracy: 0.9708\n",
      "\n"
     ]
    },
    {
     "name": "stdout",
     "output_type": "stream",
     "text": [
      "Epoch 100, Loss 0.0287\n",
      "Training Accuracy: 0.9662, Testing Accuracy: 0.9718\n",
      "\n"
     ]
    },
    {
     "name": "stdout",
     "output_type": "stream",
     "text": [
      "Epoch 110, Loss 0.0277\n",
      "Training Accuracy: 0.9676, Testing Accuracy: 0.9718\n",
      "\n"
     ]
    },
    {
     "name": "stdout",
     "output_type": "stream",
     "text": [
      "Epoch 120, Loss 0.0268\n",
      "Training Accuracy: 0.9680, Testing Accuracy: 0.9718\n",
      "\n"
     ]
    },
    {
     "name": "stdout",
     "output_type": "stream",
     "text": [
      "Epoch 130, Loss 0.026\n",
      "Training Accuracy: 0.9689, Testing Accuracy: 0.9723\n",
      "\n"
     ]
    },
    {
     "name": "stdout",
     "output_type": "stream",
     "text": [
      "Epoch 140, Loss 0.0253\n",
      "Training Accuracy: 0.9706, Testing Accuracy: 0.9728\n",
      "\n"
     ]
    },
    {
     "name": "stdout",
     "output_type": "stream",
     "text": [
      "Epoch 150, Loss 0.0246\n",
      "Training Accuracy: 0.9715, Testing Accuracy: 0.9733\n",
      "\n"
     ]
    },
    {
     "name": "stdout",
     "output_type": "stream",
     "text": [
      "Epoch 160, Loss 0.024\n",
      "Training Accuracy: 0.9724, Testing Accuracy: 0.9738\n",
      "\n"
     ]
    },
    {
     "name": "stdout",
     "output_type": "stream",
     "text": [
      "Epoch 170, Loss 0.0234\n",
      "Training Accuracy: 0.9730, Testing Accuracy: 0.9748\n",
      "\n"
     ]
    },
    {
     "name": "stdout",
     "output_type": "stream",
     "text": [
      "Epoch 180, Loss 0.0229\n",
      "Training Accuracy: 0.9734, Testing Accuracy: 0.9748\n",
      "\n"
     ]
    },
    {
     "name": "stdout",
     "output_type": "stream",
     "text": [
      "Epoch 190, Loss 0.0224\n",
      "Training Accuracy: 0.9740, Testing Accuracy: 0.9763\n",
      "\n"
     ]
    },
    {
     "name": "stdout",
     "output_type": "stream",
     "text": [
      "Epoch 200, Loss 0.0219\n",
      "Training Accuracy: 0.9747, Testing Accuracy: 0.9763\n",
      "\n"
     ]
    },
    {
     "name": "stdout",
     "output_type": "stream",
     "text": [
      "Epoch 210, Loss 0.0215\n",
      "Training Accuracy: 0.9755, Testing Accuracy: 0.9768\n",
      "\n"
     ]
    },
    {
     "name": "stdout",
     "output_type": "stream",
     "text": [
      "Epoch 220, Loss 0.0211\n",
      "Training Accuracy: 0.9755, Testing Accuracy: 0.9773\n",
      "\n"
     ]
    },
    {
     "name": "stdout",
     "output_type": "stream",
     "text": [
      "Epoch 230, Loss 0.0206\n",
      "Training Accuracy: 0.9763, Testing Accuracy: 0.9773\n",
      "\n"
     ]
    },
    {
     "name": "stdout",
     "output_type": "stream",
     "text": [
      "Epoch 240, Loss 0.0203\n",
      "Training Accuracy: 0.9770, Testing Accuracy: 0.9773\n",
      "\n"
     ]
    },
    {
     "name": "stdout",
     "output_type": "stream",
     "text": [
      "Epoch 250, Loss 0.0199\n",
      "Training Accuracy: 0.9775, Testing Accuracy: 0.9773\n",
      "\n"
     ]
    },
    {
     "data": {
      "text/plain": [
       "0.04159955969559113"
      ]
     },
     "execution_count": 20,
     "metadata": {},
     "output_type": "execute_result"
    }
   ],
   "source": [
    "print(\"====== Neural Network ======\")\n",
    "learner_nn.train_loop(dl)"
   ]
  },
  {
   "cell_type": "markdown",
   "metadata": {
    "papermill": {
     "duration": 0.032277,
     "end_time": "2020-12-10T10:15:15.117473",
     "exception": false,
     "start_time": "2020-12-10T10:15:15.085196",
     "status": "completed"
    },
    "tags": []
   },
   "source": [
    "### Logistic Regression based Implementation."
   ]
  },
  {
   "cell_type": "code",
   "execution_count": 21,
   "metadata": {
    "execution": {
     "iopub.execute_input": "2020-12-10T10:15:15.189121Z",
     "iopub.status.busy": "2020-12-10T10:15:15.188612Z",
     "iopub.status.idle": "2020-12-10T10:15:15.196395Z",
     "shell.execute_reply": "2020-12-10T10:15:15.196770Z"
    },
    "papermill": {
     "duration": 0.047194,
     "end_time": "2020-12-10T10:15:15.196902",
     "exception": false,
     "start_time": "2020-12-10T10:15:15.149708",
     "status": "completed"
    },
    "tags": []
   },
   "outputs": [],
   "source": [
    "learner_lr = Learner(loss, model_lr, opt, config.num_epochs)\n",
    "acc_lr = ClfCallback(learner_lr, config.bs, training_xdata , testing_xdata, training_ydata, testing_ydata)\n",
    "learner_lr.set_callbacks([acc_lr])"
   ]
  },
  {
   "cell_type": "code",
   "execution_count": 22,
   "metadata": {
    "execution": {
     "iopub.execute_input": "2020-12-10T10:15:15.276592Z",
     "iopub.status.busy": "2020-12-10T10:15:15.271722Z",
     "iopub.status.idle": "2020-12-10T10:15:28.558431Z",
     "shell.execute_reply": "2020-12-10T10:15:28.557995Z"
    },
    "papermill": {
     "duration": 13.329289,
     "end_time": "2020-12-10T10:15:28.558548",
     "exception": false,
     "start_time": "2020-12-10T10:15:15.229259",
     "status": "completed"
    },
    "tags": []
   },
   "outputs": [
    {
     "name": "stdout",
     "output_type": "stream",
     "text": [
      "====== Logistic Regression ======\n",
      "Epoch 0, Loss 0.2195\n",
      "Training Accuracy: 0.7543, Testing Accuracy: 0.7228\n",
      "\n"
     ]
    },
    {
     "name": "stdout",
     "output_type": "stream",
     "text": [
      "Epoch 10, Loss 0.0938\n",
      "Training Accuracy: 0.9256, Testing Accuracy: 0.9345\n",
      "\n"
     ]
    },
    {
     "name": "stdout",
     "output_type": "stream",
     "text": [
      "Epoch 20, Loss 0.0742\n",
      "Training Accuracy: 0.9331, Testing Accuracy: 0.9425\n",
      "\n"
     ]
    },
    {
     "name": "stdout",
     "output_type": "stream",
     "text": [
      "Epoch 30, Loss 0.0651\n",
      "Training Accuracy: 0.9393, Testing Accuracy: 0.9466\n",
      "\n"
     ]
    },
    {
     "name": "stdout",
     "output_type": "stream",
     "text": [
      "Epoch 40, Loss 0.0594\n",
      "Training Accuracy: 0.9428, Testing Accuracy: 0.9506\n",
      "\n"
     ]
    },
    {
     "name": "stdout",
     "output_type": "stream",
     "text": [
      "Epoch 50, Loss 0.0555\n",
      "Training Accuracy: 0.9452, Testing Accuracy: 0.9526\n",
      "\n"
     ]
    },
    {
     "name": "stdout",
     "output_type": "stream",
     "text": [
      "Epoch 60, Loss 0.0526\n",
      "Training Accuracy: 0.9479, Testing Accuracy: 0.9556\n",
      "\n"
     ]
    },
    {
     "name": "stdout",
     "output_type": "stream",
     "text": [
      "Epoch 70, Loss 0.0503\n",
      "Training Accuracy: 0.9497, Testing Accuracy: 0.9577\n",
      "\n"
     ]
    },
    {
     "name": "stdout",
     "output_type": "stream",
     "text": [
      "Epoch 80, Loss 0.0484\n",
      "Training Accuracy: 0.9508, Testing Accuracy: 0.9602\n",
      "\n"
     ]
    },
    {
     "name": "stdout",
     "output_type": "stream",
     "text": [
      "Epoch 90, Loss 0.0468\n",
      "Training Accuracy: 0.9524, Testing Accuracy: 0.9622\n",
      "\n"
     ]
    },
    {
     "name": "stdout",
     "output_type": "stream",
     "text": [
      "Epoch 100, Loss 0.0455\n",
      "Training Accuracy: 0.9529, Testing Accuracy: 0.9637\n",
      "\n"
     ]
    },
    {
     "name": "stdout",
     "output_type": "stream",
     "text": [
      "Epoch 110, Loss 0.0444\n",
      "Training Accuracy: 0.9533, Testing Accuracy: 0.9647\n",
      "\n"
     ]
    },
    {
     "name": "stdout",
     "output_type": "stream",
     "text": [
      "Epoch 120, Loss 0.0434\n",
      "Training Accuracy: 0.9538, Testing Accuracy: 0.9647\n",
      "\n"
     ]
    },
    {
     "name": "stdout",
     "output_type": "stream",
     "text": [
      "Epoch 130, Loss 0.0425\n",
      "Training Accuracy: 0.9548, Testing Accuracy: 0.9647\n",
      "\n"
     ]
    },
    {
     "name": "stdout",
     "output_type": "stream",
     "text": [
      "Epoch 140, Loss 0.0417\n",
      "Training Accuracy: 0.9554, Testing Accuracy: 0.9647\n",
      "\n"
     ]
    },
    {
     "name": "stdout",
     "output_type": "stream",
     "text": [
      "Epoch 150, Loss 0.041\n",
      "Training Accuracy: 0.9561, Testing Accuracy: 0.9647\n",
      "\n"
     ]
    },
    {
     "name": "stdout",
     "output_type": "stream",
     "text": [
      "Epoch 160, Loss 0.0404\n",
      "Training Accuracy: 0.9570, Testing Accuracy: 0.9652\n",
      "\n"
     ]
    },
    {
     "name": "stdout",
     "output_type": "stream",
     "text": [
      "Epoch 170, Loss 0.0398\n",
      "Training Accuracy: 0.9576, Testing Accuracy: 0.9652\n",
      "\n"
     ]
    },
    {
     "name": "stdout",
     "output_type": "stream",
     "text": [
      "Epoch 180, Loss 0.0392\n",
      "Training Accuracy: 0.9579, Testing Accuracy: 0.9657\n",
      "\n"
     ]
    },
    {
     "name": "stdout",
     "output_type": "stream",
     "text": [
      "Epoch 190, Loss 0.0387\n",
      "Training Accuracy: 0.9584, Testing Accuracy: 0.9657\n",
      "\n"
     ]
    },
    {
     "name": "stdout",
     "output_type": "stream",
     "text": [
      "Epoch 200, Loss 0.0383\n",
      "Training Accuracy: 0.9590, Testing Accuracy: 0.9667\n",
      "\n"
     ]
    },
    {
     "name": "stdout",
     "output_type": "stream",
     "text": [
      "Epoch 210, Loss 0.0379\n",
      "Training Accuracy: 0.9594, Testing Accuracy: 0.9667\n",
      "\n"
     ]
    },
    {
     "name": "stdout",
     "output_type": "stream",
     "text": [
      "Epoch 220, Loss 0.0375\n",
      "Training Accuracy: 0.9598, Testing Accuracy: 0.9667\n",
      "\n"
     ]
    },
    {
     "name": "stdout",
     "output_type": "stream",
     "text": [
      "Epoch 230, Loss 0.0371\n",
      "Training Accuracy: 0.9601, Testing Accuracy: 0.9667\n",
      "\n"
     ]
    },
    {
     "name": "stdout",
     "output_type": "stream",
     "text": [
      "Epoch 240, Loss 0.0367\n",
      "Training Accuracy: 0.9607, Testing Accuracy: 0.9662\n",
      "\n"
     ]
    },
    {
     "name": "stdout",
     "output_type": "stream",
     "text": [
      "Epoch 250, Loss 0.0364\n",
      "Training Accuracy: 0.9609, Testing Accuracy: 0.9667\n",
      "\n"
     ]
    },
    {
     "data": {
      "text/plain": [
       "0.016322080109268992"
      ]
     },
     "execution_count": 22,
     "metadata": {},
     "output_type": "execute_result"
    }
   ],
   "source": [
    "print(\"====== Logistic Regression ======\")\n",
    "learner_lr.train_loop(dl)"
   ]
  },
  {
   "cell_type": "markdown",
   "metadata": {
    "papermill": {
     "duration": 0.039249,
     "end_time": "2020-12-10T10:15:28.637186",
     "exception": false,
     "start_time": "2020-12-10T10:15:28.597937",
     "status": "completed"
    },
    "tags": []
   },
   "source": [
    "### Comparing results of NN and LR"
   ]
  },
  {
   "cell_type": "code",
   "execution_count": 23,
   "metadata": {
    "execution": {
     "iopub.execute_input": "2020-12-10T10:15:28.721403Z",
     "iopub.status.busy": "2020-12-10T10:15:28.720889Z",
     "iopub.status.idle": "2020-12-10T10:15:28.929172Z",
     "shell.execute_reply": "2020-12-10T10:15:28.929559Z"
    },
    "papermill": {
     "duration": 0.253432,
     "end_time": "2020-12-10T10:15:28.929701",
     "exception": false,
     "start_time": "2020-12-10T10:15:28.676269",
     "status": "completed"
    },
    "tags": []
   },
   "outputs": [
    {
     "data": {
      "text/plain": [
       "<matplotlib.legend.Legend at 0x7f62095c3c88>"
      ]
     },
     "execution_count": 23,
     "metadata": {},
     "output_type": "execute_result"
    },
    {
     "data": {
      "image/png": "[encoded data removed]",
      "text/plain": [
       "<Figure size 1080x720 with 1 Axes>"
      ]
     },
     "metadata": {
      "needs_background": "light"
     },
     "output_type": "display_data"
    }
   ],
   "source": [
    "plt.figure(figsize=(15,10))\n",
    "\n",
    "# Neural Network plots\n",
    "plt.plot(acc_nn.accuracies, 'r-', label = \"Training Accuracies - NN\")\n",
    "plt.plot(acc_nn.test_accuracies, 'g-', label = \"Testing Accuracies - NN\")\n",
    "\n",
    "# Logistic Regression plots\n",
    "plt.plot(acc_lr.accuracies, 'k-', label = \"Training Accuracies - LR\")\n",
    "plt.plot(acc_lr.test_accuracies, 'b-', label = \"Testing Accuracies - LR\")\n",
    "\n",
    "plt.ylim(0.8, 1)\n",
    "\n",
    "plt.legend()\n",
    "\n"
   ]
  },
  {
   "cell_type": "markdown",
   "metadata": {
    "papermill": {
     "duration": 0.041235,
     "end_time": "2020-12-10T10:15:29.012023",
     "exception": false,
     "start_time": "2020-12-10T10:15:28.970788",
     "status": "completed"
    },
    "tags": []
   },
   "source": [
    "### From the plot, we can observe the following:\n",
    "- Neural Network achieves higher accuracy than the Logistic Regression model.\n",
    "- This apparently, is because of overfitting, i.e. NN captures more noise than data.\n",
    "- Testing accuracy of NN drops below the Training accuracy at higher epochs. This explains the over-fitting on training data.\n",
    "- Logistic Regression gives a reliable accuracy, without the above mentioned problem.\n"
   ]
  },
  {
   "cell_type": "markdown",
   "metadata": {
    "papermill": {
     "duration": 0.040736,
     "end_time": "2020-12-10T10:15:29.093542",
     "exception": false,
     "start_time": "2020-12-10T10:15:29.052806",
     "status": "completed"
    },
    "tags": []
   },
   "source": [
    "### Moving till the last but one layer (excluding it).\n",
    "#### Plotting the outputs of this layer of the NN."
   ]
  },
  {
   "cell_type": "code",
   "execution_count": 24,
   "metadata": {
    "execution": {
     "iopub.execute_input": "2020-12-10T10:15:29.180817Z",
     "iopub.status.busy": "2020-12-10T10:15:29.180298Z",
     "iopub.status.idle": "2020-12-10T10:15:29.189972Z",
     "shell.execute_reply": "2020-12-10T10:15:29.190371Z"
    },
    "papermill": {
     "duration": 0.056005,
     "end_time": "2020-12-10T10:15:29.190498",
     "exception": false,
     "start_time": "2020-12-10T10:15:29.134493",
     "status": "completed"
    },
    "tags": []
   },
   "outputs": [],
   "source": [
    "model_new = Model(layers[:-2])"
   ]
  },
  {
   "cell_type": "code",
   "execution_count": 25,
   "metadata": {
    "execution": {
     "iopub.execute_input": "2020-12-10T10:15:29.286279Z",
     "iopub.status.busy": "2020-12-10T10:15:29.284733Z",
     "iopub.status.idle": "2020-12-10T10:15:29.297336Z",
     "shell.execute_reply": "2020-12-10T10:15:29.297744Z"
    },
    "papermill": {
     "duration": 0.066675,
     "end_time": "2020-12-10T10:15:29.297876",
     "exception": false,
     "start_time": "2020-12-10T10:15:29.231201",
     "status": "completed"
    },
    "tags": []
   },
   "outputs": [],
   "source": [
    "plot_testing = model_new(testing_xdata)"
   ]
  },
  {
   "cell_type": "code",
   "execution_count": 26,
   "metadata": {
    "execution": {
     "iopub.execute_input": "2020-12-10T10:15:29.389295Z",
     "iopub.status.busy": "2020-12-10T10:15:29.388781Z",
     "iopub.status.idle": "2020-12-10T10:15:29.561831Z",
     "shell.execute_reply": "2020-12-10T10:15:29.561390Z"
    },
    "papermill": {
     "duration": 0.222958,
     "end_time": "2020-12-10T10:15:29.561950",
     "exception": false,
     "start_time": "2020-12-10T10:15:29.338992",
     "status": "completed"
    },
    "tags": []
   },
   "outputs": [
    {
     "data": {
      "text/plain": [
       "Text(0.5, 1.0, 'Outputs')"
      ]
     },
     "execution_count": 26,
     "metadata": {},
     "output_type": "execute_result"
    },
    {
     "data": {
      "image/png": "[encoded data removed]",
      "text/plain": [
       "<Figure size 576x504 with 1 Axes>"
      ]
     },
     "metadata": {
      "needs_background": "light"
     },
     "output_type": "display_data"
    }
   ],
   "source": [
    "plt.figure(figsize=(8,7))\n",
    "plt.scatter(plot_testing[:,0], plot_testing[:,1], alpha = 0.1, c = y_test.ravel());\n",
    "plt.title('Outputs')"
   ]
  },
  {
   "cell_type": "markdown",
   "metadata": {
    "papermill": {
     "duration": 0.04256,
     "end_time": "2020-12-10T10:15:29.647092",
     "exception": false,
     "start_time": "2020-12-10T10:15:29.604532",
     "status": "completed"
    },
    "tags": []
   },
   "source": [
    "### Plotting probability contours"
   ]
  },
  {
   "cell_type": "code",
   "execution_count": 27,
   "metadata": {
    "execution": {
     "iopub.execute_input": "2020-12-10T10:15:29.740620Z",
     "iopub.status.busy": "2020-12-10T10:15:29.736106Z",
     "iopub.status.idle": "2020-12-10T10:15:29.748509Z",
     "shell.execute_reply": "2020-12-10T10:15:29.748909Z"
    },
    "papermill": {
     "duration": 0.059783,
     "end_time": "2020-12-10T10:15:29.749039",
     "exception": false,
     "start_time": "2020-12-10T10:15:29.689256",
     "status": "completed"
    },
    "tags": []
   },
   "outputs": [],
   "source": [
    "model_prob = Model(layers[-2:]) "
   ]
  },
  {
   "cell_type": "code",
   "execution_count": 28,
   "metadata": {
    "execution": {
     "iopub.execute_input": "2020-12-10T10:15:29.840663Z",
     "iopub.status.busy": "2020-12-10T10:15:29.840147Z",
     "iopub.status.idle": "2020-12-10T10:15:29.855271Z",
     "shell.execute_reply": "2020-12-10T10:15:29.855673Z"
    },
    "papermill": {
     "duration": 0.064465,
     "end_time": "2020-12-10T10:15:29.855802",
     "exception": false,
     "start_time": "2020-12-10T10:15:29.791337",
     "status": "completed"
    },
    "tags": []
   },
   "outputs": [],
   "source": [
    "# Adjust the x and y ranges according to the above generated plot.\n",
    "x_range = np.linspace(-4, 1, 100) \n",
    "y_range = np.linspace(-6, 6, 100) \n",
    "x_grid, y_grid = np.meshgrid(x_range, y_range) # x_grid and y_grig are of size 100 X 100\n",
    "\n",
    "# converting x_grid and y_grid to continuous arrays\n",
    "x_grid_flat = np.ravel(x_grid)\n",
    "y_grid_flat = np.ravel(y_grid)\n",
    "\n",
    "# The last layer of the current model takes two columns as input. Hence transpose of np.vstack() is required.\n",
    "X = np.vstack((x_grid_flat, y_grid_flat)).T\n",
    "\n",
    "# x_grid and y_grid are of size 100 x 100\n",
    "probability_contour = model_prob(X).reshape(100,100) "
   ]
  },
  {
   "cell_type": "code",
   "execution_count": 29,
   "metadata": {
    "execution": {
     "iopub.execute_input": "2020-12-10T10:15:29.956679Z",
     "iopub.status.busy": "2020-12-10T10:15:29.955085Z",
     "iopub.status.idle": "2020-12-10T10:15:30.171042Z",
     "shell.execute_reply": "2020-12-10T10:15:30.170543Z"
    },
    "papermill": {
     "duration": 0.27303,
     "end_time": "2020-12-10T10:15:30.171173",
     "exception": false,
     "start_time": "2020-12-10T10:15:29.898143",
     "status": "completed"
    },
    "tags": []
   },
   "outputs": [
    {
     "data": {
      "image/png": "[encoded data removed]",
      "text/plain": [
       "<Figure size 720x648 with 1 Axes>"
      ]
     },
     "metadata": {
      "needs_background": "light"
     },
     "output_type": "display_data"
    }
   ],
   "source": [
    "plt.figure(figsize=(10,9))\n",
    "plt.scatter(plot_testing[:,0], plot_testing[:,1], alpha = 0.1, c = y_test.ravel())\n",
    "contours = plt.contour(x_grid,y_grid,probability_contour)\n",
    "plt.title('Probability Contours')\n",
    "plt.clabel(contours, inline = True );"
   ]
  }
 ],
 "metadata": {
  "kernelspec": {
   "display_name": "Python 3",
   "language": "python",
   "name": "python3"
  },
  "language_info": {
   "codemirror_mode": {
    "name": "ipython",
    "version": 3
   },
   "file_extension": ".py",
   "mimetype": "text/x-python",
   "name": "python",
   "nbconvert_exporter": "python",
   "pygments_lexer": "ipython3",
   "version": "3.6.12"
  },
  "papermill": {
   "duration": 99.313591,
   "end_time": "2020-12-10T10:15:31.437468",
   "environment_variables": {},
   "exception": null,
   "input_path": "2020-08-11-NeuralNetwork.ipynb",
   "output_path": "2020-08-11-NeuralNetwork.ipynb",
   "parameters": {},
   "start_time": "2020-12-10T10:13:52.123877",
   "version": "2.1.2"
  }
 },
 "nbformat": 4,
 "nbformat_minor": 4
}