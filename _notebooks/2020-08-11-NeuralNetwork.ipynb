{
 "cells": [
  {
   "cell_type": "markdown",
   "id": "fitted-suggestion",
   "metadata": {
    "papermill": {
     "duration": 0.031473,
     "end_time": "2021-08-05T10:05:23.459348",
     "exception": false,
     "start_time": "2021-08-05T10:05:23.427875",
     "status": "completed"
    },
    "tags": []
   },
   "source": [
    "# \"A Basic Neural Network: Differentiate Hand-Written Digits\"\n",
    "\n",
    "- badges: true\n",
    "- author: Akshith Sriram"
   ]
  },
  {
   "cell_type": "markdown",
   "id": "signal-flexibility",
   "metadata": {
    "papermill": {
     "duration": 0.026396,
     "end_time": "2021-08-05T10:05:23.512891",
     "exception": false,
     "start_time": "2021-08-05T10:05:23.486495",
     "status": "completed"
    },
    "tags": []
   },
   "source": [
    "### Key Objectives:\n",
    "- Building a neural network that differentiates two hand-written digits 3 and 8.\n",
    "- Comparing the results of this Neural Network (NN) to that of a Logistic Regression (LR) model.\n",
    "\n",
    "### Requirements:\n",
    "- 'Kudzu' : A neural network library that was designed during our course by [Univ.AI](www.univ.ai). \n",
    "- MNIST Database\n",
    "\n",
    "If MNIST is not installed, use the command `!pip install mnist` given below.\n",
    "It can be run both from the command line and Jupyter Notebook."
   ]
  },
  {
   "cell_type": "code",
   "execution_count": 1,
   "id": "british-texture",
   "metadata": {
    "execution": {
     "iopub.execute_input": "2021-08-05T10:05:23.577692Z",
     "iopub.status.busy": "2021-08-05T10:05:23.576970Z",
     "iopub.status.idle": "2021-08-05T10:05:26.087858Z",
     "shell.execute_reply": "2021-08-05T10:05:26.087321Z"
    },
    "papermill": {
     "duration": 2.547621,
     "end_time": "2021-08-05T10:05:26.088000",
     "exception": false,
     "start_time": "2021-08-05T10:05:23.540379",
     "status": "completed"
    },
    "tags": []
   },
   "outputs": [
    {
     "name": "stdout",
     "output_type": "stream",
     "text": [
      "Collecting mnist\r\n"
     ]
    },
    {
     "name": "stdout",
     "output_type": "stream",
     "text": [
      "  Downloading mnist-0.2.2-py2.py3-none-any.whl (3.5 kB)\r\n",
      "Requirement already satisfied: numpy in /opt/hostedtoolcache/Python/3.6.14/x64/lib/python3.6/site-packages (from mnist) (1.19.5)\r\n"
     ]
    },
    {
     "name": "stdout",
     "output_type": "stream",
     "text": [
      "Installing collected packages: mnist\r\n"
     ]
    },
    {
     "name": "stdout",
     "output_type": "stream",
     "text": [
      "Successfully installed mnist-0.2.2\r\n"
     ]
    }
   ],
   "source": [
    "!pip install mnist "
   ]
  },
  {
   "cell_type": "markdown",
   "id": "stunning-extra",
   "metadata": {
    "papermill": {
     "duration": 0.028204,
     "end_time": "2021-08-05T10:05:26.144914",
     "exception": false,
     "start_time": "2021-08-05T10:05:26.116710",
     "status": "completed"
    },
    "tags": []
   },
   "source": [
    "#### Importing necessary libraries"
   ]
  },
  {
   "cell_type": "code",
   "execution_count": 2,
   "id": "wooden-france",
   "metadata": {
    "execution": {
     "iopub.execute_input": "2021-08-05T10:05:26.209760Z",
     "iopub.status.busy": "2021-08-05T10:05:26.209138Z",
     "iopub.status.idle": "2021-08-05T10:05:26.758377Z",
     "shell.execute_reply": "2021-08-05T10:05:26.757828Z"
    },
    "papermill": {
     "duration": 0.585386,
     "end_time": "2021-08-05T10:05:26.758521",
     "exception": false,
     "start_time": "2021-08-05T10:05:26.173135",
     "status": "completed"
    },
    "tags": []
   },
   "outputs": [],
   "source": [
    "%load_ext autoreload\n",
    "%autoreload 2\n",
    "\n",
    "%matplotlib inline\n",
    "import matplotlib.pyplot as plt\n",
    "\n",
    "import numpy as np\n",
    "import pandas as pd"
   ]
  },
  {
   "cell_type": "markdown",
   "id": "stunning-physics",
   "metadata": {
    "papermill": {
     "duration": 0.028175,
     "end_time": "2021-08-05T10:05:26.815438",
     "exception": false,
     "start_time": "2021-08-05T10:05:26.787263",
     "status": "completed"
    },
    "tags": []
   },
   "source": [
    "### Preparing the Data"
   ]
  },
  {
   "cell_type": "code",
   "execution_count": 3,
   "id": "unauthorized-remainder",
   "metadata": {
    "execution": {
     "iopub.execute_input": "2021-08-05T10:05:26.876987Z",
     "iopub.status.busy": "2021-08-05T10:05:26.876366Z",
     "iopub.status.idle": "2021-08-05T10:05:26.889361Z",
     "shell.execute_reply": "2021-08-05T10:05:26.888850Z"
    },
    "papermill": {
     "duration": 0.045941,
     "end_time": "2021-08-05T10:05:26.889495",
     "exception": false,
     "start_time": "2021-08-05T10:05:26.843554",
     "status": "completed"
    },
    "tags": []
   },
   "outputs": [],
   "source": [
    "import mnist"
   ]
  },
  {
   "cell_type": "code",
   "execution_count": 4,
   "id": "correct-antarctica",
   "metadata": {
    "execution": {
     "iopub.execute_input": "2021-08-05T10:05:26.953478Z",
     "iopub.status.busy": "2021-08-05T10:05:26.951998Z",
     "iopub.status.idle": "2021-08-05T10:10:21.258061Z",
     "shell.execute_reply": "2021-08-05T10:10:21.257078Z"
    },
    "papermill": {
     "duration": 294.33933,
     "end_time": "2021-08-05T10:10:21.258199",
     "exception": false,
     "start_time": "2021-08-05T10:05:26.918869",
     "status": "completed"
    },
    "tags": []
   },
   "outputs": [],
   "source": [
    "train_images = mnist.train_images()\n",
    "train_labels = mnist.train_labels()"
   ]
  },
  {
   "cell_type": "code",
   "execution_count": 5,
   "id": "musical-prospect",
   "metadata": {
    "execution": {
     "iopub.execute_input": "2021-08-05T10:10:21.327209Z",
     "iopub.status.busy": "2021-08-05T10:10:21.320400Z",
     "iopub.status.idle": "2021-08-05T10:10:21.336333Z",
     "shell.execute_reply": "2021-08-05T10:10:21.336767Z"
    },
    "papermill": {
     "duration": 0.048912,
     "end_time": "2021-08-05T10:10:21.336902",
     "exception": false,
     "start_time": "2021-08-05T10:10:21.287990",
     "status": "completed"
    },
    "tags": []
   },
   "outputs": [
    {
     "data": {
      "text/plain": [
       "((60000, 28, 28), (60000,))"
      ]
     },
     "execution_count": 5,
     "metadata": {},
     "output_type": "execute_result"
    }
   ],
   "source": [
    "train_images.shape, train_labels.shape"
   ]
  },
  {
   "cell_type": "code",
   "execution_count": 6,
   "id": "preliminary-elizabeth",
   "metadata": {
    "execution": {
     "iopub.execute_input": "2021-08-05T10:10:21.396607Z",
     "iopub.status.busy": "2021-08-05T10:10:21.396029Z",
     "iopub.status.idle": "2021-08-05T10:11:08.611656Z",
     "shell.execute_reply": "2021-08-05T10:11:08.610521Z"
    },
    "papermill": {
     "duration": 47.246743,
     "end_time": "2021-08-05T10:11:08.611827",
     "exception": false,
     "start_time": "2021-08-05T10:10:21.365084",
     "status": "completed"
    },
    "tags": []
   },
   "outputs": [],
   "source": [
    "test_images = mnist.test_images()\n",
    "test_labels = mnist.test_labels()"
   ]
  },
  {
   "cell_type": "code",
   "execution_count": 7,
   "id": "acknowledged-oxygen",
   "metadata": {
    "execution": {
     "iopub.execute_input": "2021-08-05T10:11:08.678070Z",
     "iopub.status.busy": "2021-08-05T10:11:08.673274Z",
     "iopub.status.idle": "2021-08-05T10:11:08.688060Z",
     "shell.execute_reply": "2021-08-05T10:11:08.687581Z"
    },
    "papermill": {
     "duration": 0.047333,
     "end_time": "2021-08-05T10:11:08.688189",
     "exception": false,
     "start_time": "2021-08-05T10:11:08.640856",
     "status": "completed"
    },
    "tags": []
   },
   "outputs": [
    {
     "data": {
      "text/plain": [
       "((10000, 28, 28), (10000,))"
      ]
     },
     "execution_count": 7,
     "metadata": {},
     "output_type": "execute_result"
    }
   ],
   "source": [
    "test_images.shape, test_labels.shape"
   ]
  },
  {
   "cell_type": "code",
   "execution_count": 8,
   "id": "innovative-organic",
   "metadata": {
    "execution": {
     "iopub.execute_input": "2021-08-05T10:11:08.751478Z",
     "iopub.status.busy": "2021-08-05T10:11:08.750885Z",
     "iopub.status.idle": "2021-08-05T10:11:08.893402Z",
     "shell.execute_reply": "2021-08-05T10:11:08.893977Z"
    },
    "papermill": {
     "duration": 0.177403,
     "end_time": "2021-08-05T10:11:08.894146",
     "exception": false,
     "start_time": "2021-08-05T10:11:08.716743",
     "status": "completed"
    },
    "tags": []
   },
   "outputs": [
    {
     "name": "stdout",
     "output_type": "stream",
     "text": [
      "2\n"
     ]
    },
    {
     "data": {
      "text/plain": [
       "<matplotlib.image.AxesImage at 0x7faa13652a20>"
      ]
     },
     "execution_count": 8,
     "metadata": {},
     "output_type": "execute_result"
    },
    {
     "data": {
      "image/png": "[encoded data removed]",
      "text/plain": [
       "<Figure size 432x288 with 1 Axes>"
      ]
     },
     "metadata": {
      "needs_background": "light"
     },
     "output_type": "display_data"
    }
   ],
   "source": [
    "image_index = 7776 # You may select anything up to 60,000\n",
    "print(train_labels[image_index]) \n",
    "plt.imshow(train_images[image_index], cmap='Greys')"
   ]
  },
  {
   "cell_type": "markdown",
   "id": "facial-modem",
   "metadata": {
    "papermill": {
     "duration": 0.029244,
     "end_time": "2021-08-05T10:11:08.954157",
     "exception": false,
     "start_time": "2021-08-05T10:11:08.924913",
     "status": "completed"
    },
    "tags": []
   },
   "source": [
    "## Filter data to get 3 and 8 out"
   ]
  },
  {
   "cell_type": "code",
   "execution_count": 9,
   "id": "thousand-acquisition",
   "metadata": {
    "execution": {
     "iopub.execute_input": "2021-08-05T10:11:09.018679Z",
     "iopub.status.busy": "2021-08-05T10:11:09.018063Z",
     "iopub.status.idle": "2021-08-05T10:11:09.036496Z",
     "shell.execute_reply": "2021-08-05T10:11:09.036028Z"
    },
    "papermill": {
     "duration": 0.05277,
     "end_time": "2021-08-05T10:11:09.036612",
     "exception": false,
     "start_time": "2021-08-05T10:11:08.983842",
     "status": "completed"
    },
    "tags": []
   },
   "outputs": [],
   "source": [
    "train_filter = np.where((train_labels == 3 ) | (train_labels == 8))\n",
    "test_filter = np.where((test_labels == 3) | (test_labels == 8))\n",
    "X_train, y_train = train_images[train_filter], train_labels[train_filter]\n",
    "X_test, y_test = test_images[test_filter], test_labels[test_filter]"
   ]
  },
  {
   "cell_type": "markdown",
   "id": "ruled-access",
   "metadata": {
    "papermill": {
     "duration": 0.030131,
     "end_time": "2021-08-05T10:11:09.096868",
     "exception": false,
     "start_time": "2021-08-05T10:11:09.066737",
     "status": "completed"
    },
    "tags": []
   },
   "source": [
    "We normalize the pixel values in the 0 to 1 range"
   ]
  },
  {
   "cell_type": "code",
   "execution_count": 10,
   "id": "isolated-denver",
   "metadata": {
    "execution": {
     "iopub.execute_input": "2021-08-05T10:11:09.161042Z",
     "iopub.status.busy": "2021-08-05T10:11:09.160447Z",
     "iopub.status.idle": "2021-08-05T10:11:09.210376Z",
     "shell.execute_reply": "2021-08-05T10:11:09.209787Z"
    },
    "papermill": {
     "duration": 0.08446,
     "end_time": "2021-08-05T10:11:09.210538",
     "exception": false,
     "start_time": "2021-08-05T10:11:09.126078",
     "status": "completed"
    },
    "tags": []
   },
   "outputs": [],
   "source": [
    "X_train = X_train/255.\n",
    "X_test = X_test/255."
   ]
  },
  {
   "cell_type": "markdown",
   "id": "perfect-summary",
   "metadata": {
    "papermill": {
     "duration": 0.030164,
     "end_time": "2021-08-05T10:11:09.271210",
     "exception": false,
     "start_time": "2021-08-05T10:11:09.241046",
     "status": "completed"
    },
    "tags": []
   },
   "source": [
    "Setup the labels as 1 (when the digit is 3) and 0 (when the digit is 8)"
   ]
  },
  {
   "cell_type": "code",
   "execution_count": 11,
   "id": "personalized-growing",
   "metadata": {
    "execution": {
     "iopub.execute_input": "2021-08-05T10:11:09.334504Z",
     "iopub.status.busy": "2021-08-05T10:11:09.333906Z",
     "iopub.status.idle": "2021-08-05T10:11:09.346378Z",
     "shell.execute_reply": "2021-08-05T10:11:09.345914Z"
    },
    "papermill": {
     "duration": 0.045734,
     "end_time": "2021-08-05T10:11:09.346492",
     "exception": false,
     "start_time": "2021-08-05T10:11:09.300758",
     "status": "completed"
    },
    "tags": []
   },
   "outputs": [],
   "source": [
    "y_train = 1*(y_train==3)\n",
    "y_test = 1*(y_test==3)"
   ]
  },
  {
   "cell_type": "code",
   "execution_count": 12,
   "id": "considered-virgin",
   "metadata": {
    "execution": {
     "iopub.execute_input": "2021-08-05T10:11:09.410423Z",
     "iopub.status.busy": "2021-08-05T10:11:09.409878Z",
     "iopub.status.idle": "2021-08-05T10:11:09.424760Z",
     "shell.execute_reply": "2021-08-05T10:11:09.425239Z"
    },
    "papermill": {
     "duration": 0.049132,
     "end_time": "2021-08-05T10:11:09.425378",
     "exception": false,
     "start_time": "2021-08-05T10:11:09.376246",
     "status": "completed"
    },
    "tags": []
   },
   "outputs": [
    {
     "data": {
      "text/plain": [
       "((11982, 28, 28), (1984, 28, 28))"
      ]
     },
     "execution_count": 12,
     "metadata": {},
     "output_type": "execute_result"
    }
   ],
   "source": [
    "X_train.shape, X_test.shape"
   ]
  },
  {
   "cell_type": "markdown",
   "id": "civilian-mobile",
   "metadata": {
    "papermill": {
     "duration": 0.029662,
     "end_time": "2021-08-05T10:11:09.484465",
     "exception": false,
     "start_time": "2021-08-05T10:11:09.454803",
     "status": "completed"
    },
    "tags": []
   },
   "source": [
    "### Reshape the input data to create a linear array"
   ]
  },
  {
   "cell_type": "code",
   "execution_count": 13,
   "id": "colonial-adams",
   "metadata": {
    "execution": {
     "iopub.execute_input": "2021-08-05T10:11:09.548726Z",
     "iopub.status.busy": "2021-08-05T10:11:09.548136Z",
     "iopub.status.idle": "2021-08-05T10:11:09.562512Z",
     "shell.execute_reply": "2021-08-05T10:11:09.561972Z"
    },
    "papermill": {
     "duration": 0.048262,
     "end_time": "2021-08-05T10:11:09.562628",
     "exception": false,
     "start_time": "2021-08-05T10:11:09.514366",
     "status": "completed"
    },
    "tags": []
   },
   "outputs": [
    {
     "data": {
      "text/plain": [
       "((11982, 784), (1984, 784))"
      ]
     },
     "execution_count": 13,
     "metadata": {},
     "output_type": "execute_result"
    }
   ],
   "source": [
    "X_train = X_train.reshape(X_train.shape[0], -1)\n",
    "X_test = X_test.reshape(X_test.shape[0], -1)\n",
    "X_train.shape, X_test.shape"
   ]
  },
  {
   "cell_type": "markdown",
   "id": "smart-details",
   "metadata": {
    "papermill": {
     "duration": 0.029847,
     "end_time": "2021-08-05T10:11:09.622417",
     "exception": false,
     "start_time": "2021-08-05T10:11:09.592570",
     "status": "completed"
    },
    "tags": []
   },
   "source": [
    "### Importing appropriate functions from 'Kudzu'"
   ]
  },
  {
   "cell_type": "code",
   "execution_count": 14,
   "id": "celtic-trial",
   "metadata": {
    "execution": {
     "iopub.execute_input": "2021-08-05T10:11:09.691977Z",
     "iopub.status.busy": "2021-08-05T10:11:09.691428Z",
     "iopub.status.idle": "2021-08-05T10:11:09.708323Z",
     "shell.execute_reply": "2021-08-05T10:11:09.707852Z"
    },
    "papermill": {
     "duration": 0.055825,
     "end_time": "2021-08-05T10:11:09.708445",
     "exception": false,
     "start_time": "2021-08-05T10:11:09.652620",
     "status": "completed"
    },
    "tags": []
   },
   "outputs": [],
   "source": [
    "from kudzu.layer import Sigmoid\n",
    "from kudzu.layer import Relu\n",
    "from kudzu.layer import Affine, Sigmoid\n",
    "\n",
    "from kudzu.model import Model\n",
    "from kudzu.train import Learner\n",
    "from kudzu.optim import GD\n",
    "from kudzu.data import Data, Dataloader, Sampler\n",
    "\n",
    "from kudzu.callbacks import AccCallback\n",
    "from kudzu.callbacks import ClfCallback\n",
    "\n",
    "from kudzu.loss import MSE"
   ]
  },
  {
   "cell_type": "markdown",
   "id": "coupled-customer",
   "metadata": {
    "papermill": {
     "duration": 0.029454,
     "end_time": "2021-08-05T10:11:09.767733",
     "exception": false,
     "start_time": "2021-08-05T10:11:09.738279",
     "status": "completed"
    },
    "tags": []
   },
   "source": [
    "### Let us create a `Config` class, to store important parameters. \n",
    "This class essentially plays the role of a dictionary."
   ]
  },
  {
   "cell_type": "code",
   "execution_count": 15,
   "id": "young-ceiling",
   "metadata": {
    "execution": {
     "iopub.execute_input": "2021-08-05T10:11:09.831471Z",
     "iopub.status.busy": "2021-08-05T10:11:09.830922Z",
     "iopub.status.idle": "2021-08-05T10:11:09.842517Z",
     "shell.execute_reply": "2021-08-05T10:11:09.842932Z"
    },
    "papermill": {
     "duration": 0.045647,
     "end_time": "2021-08-05T10:11:09.843060",
     "exception": false,
     "start_time": "2021-08-05T10:11:09.797413",
     "status": "completed"
    },
    "tags": []
   },
   "outputs": [],
   "source": [
    "class Config:\n",
    "    pass\n",
    "config = Config()\n",
    "config.lr = 0.001\n",
    "config.num_epochs = 251\n",
    "config.bs = 50"
   ]
  },
  {
   "cell_type": "markdown",
   "id": "according-mandate",
   "metadata": {
    "papermill": {
     "duration": 0.031537,
     "end_time": "2021-08-05T10:11:09.904222",
     "exception": false,
     "start_time": "2021-08-05T10:11:09.872685",
     "status": "completed"
    },
    "tags": []
   },
   "source": [
    "### Initializing data to the variables"
   ]
  },
  {
   "cell_type": "code",
   "execution_count": 16,
   "id": "academic-disposition",
   "metadata": {
    "execution": {
     "iopub.execute_input": "2021-08-05T10:11:09.970963Z",
     "iopub.status.busy": "2021-08-05T10:11:09.970370Z",
     "iopub.status.idle": "2021-08-05T10:11:09.982924Z",
     "shell.execute_reply": "2021-08-05T10:11:09.983384Z"
    },
    "papermill": {
     "duration": 0.047675,
     "end_time": "2021-08-05T10:11:09.983525",
     "exception": false,
     "start_time": "2021-08-05T10:11:09.935850",
     "status": "completed"
    },
    "tags": []
   },
   "outputs": [],
   "source": [
    "data = Data(X_train, y_train.reshape(-1,1))\n",
    "sampler = Sampler(data, config.bs, shuffle=True)\n",
    "\n",
    "dl = Dataloader(data, sampler)\n",
    "\n",
    "opt = GD(config.lr)\n",
    "loss = MSE()"
   ]
  },
  {
   "cell_type": "code",
   "execution_count": 17,
   "id": "featured-commission",
   "metadata": {
    "execution": {
     "iopub.execute_input": "2021-08-05T10:11:10.048632Z",
     "iopub.status.busy": "2021-08-05T10:11:10.048033Z",
     "iopub.status.idle": "2021-08-05T10:11:10.060891Z",
     "shell.execute_reply": "2021-08-05T10:11:10.060451Z"
    },
    "papermill": {
     "duration": 0.047337,
     "end_time": "2021-08-05T10:11:10.061010",
     "exception": false,
     "start_time": "2021-08-05T10:11:10.013673",
     "status": "completed"
    },
    "tags": []
   },
   "outputs": [],
   "source": [
    "training_xdata = X_train\n",
    "testing_xdata = X_test\n",
    "training_ydata = y_train.reshape(-1,1)\n",
    "testing_ydata = y_test.reshape(-1,1)"
   ]
  },
  {
   "cell_type": "markdown",
   "id": "played-safety",
   "metadata": {
    "papermill": {
     "duration": 0.030382,
     "end_time": "2021-08-05T10:11:10.121997",
     "exception": false,
     "start_time": "2021-08-05T10:11:10.091615",
     "status": "completed"
    },
    "tags": []
   },
   "source": [
    "### Running Models with the Training data\n",
    "Details about the network layers:\n",
    "- A first affine layer has 784 inputs and does 100 affine transforms. These are followed by a Relu\n",
    "- A second affine layer has 100 inputs from the 100 activations of the past layer, and does 100 affine transforms. These are followed by a Relu\n",
    "- A third affine layer has 100 activations and does 2 affine transformations to create an embedding for visualization. There is no non-linearity here.\n",
    "- A final \"logistic regression\" which has an affine transform from 2 inputs to 1 output, which is squeezed through a sigmoid.\n",
    "\n",
    "Help taken from Anshuman's Notebook."
   ]
  },
  {
   "cell_type": "code",
   "execution_count": 18,
   "id": "asian-bankruptcy",
   "metadata": {
    "execution": {
     "iopub.execute_input": "2021-08-05T10:11:10.188607Z",
     "iopub.status.busy": "2021-08-05T10:11:10.187991Z",
     "iopub.status.idle": "2021-08-05T10:11:10.204200Z",
     "shell.execute_reply": "2021-08-05T10:11:10.203725Z"
    },
    "papermill": {
     "duration": 0.052125,
     "end_time": "2021-08-05T10:11:10.204328",
     "exception": false,
     "start_time": "2021-08-05T10:11:10.152203",
     "status": "completed"
    },
    "tags": []
   },
   "outputs": [],
   "source": [
    "# layers for the Neural Network\n",
    "layers = [Affine(\"first\", 784, 100), Relu(\"first\"), Affine(\"second\", 100, 100), Relu(\"second\"), Affine(\"third\", 100, 2), Affine(\"final\", 2, 1), Sigmoid(\"final\")]\n",
    "model_nn = Model(layers)\n",
    "\n",
    "# layers for the Logistic Regression\n",
    "layers_lr = [Affine(\"logits\", 784, 1), Sigmoid(\"sigmoid\")]\n",
    "model_lr = Model(layers_lr)"
   ]
  },
  {
   "cell_type": "code",
   "execution_count": 19,
   "id": "removed-butler",
   "metadata": {
    "execution": {
     "iopub.execute_input": "2021-08-05T10:11:10.271611Z",
     "iopub.status.busy": "2021-08-05T10:11:10.271012Z",
     "iopub.status.idle": "2021-08-05T10:11:10.284438Z",
     "shell.execute_reply": "2021-08-05T10:11:10.283954Z"
    },
    "papermill": {
     "duration": 0.048519,
     "end_time": "2021-08-05T10:11:10.284564",
     "exception": false,
     "start_time": "2021-08-05T10:11:10.236045",
     "status": "completed"
    },
    "tags": []
   },
   "outputs": [],
   "source": [
    "# suffix _nn stands for Neural Network.\n",
    "learner_nn = Learner(loss, model_nn, opt, config.num_epochs)\n",
    "acc_nn = ClfCallback(learner_nn, config.bs, training_xdata , testing_xdata, training_ydata, testing_ydata)\n",
    "learner_nn.set_callbacks([acc_nn])"
   ]
  },
  {
   "cell_type": "code",
   "execution_count": 20,
   "id": "conceptual-throw",
   "metadata": {
    "execution": {
     "iopub.execute_input": "2021-08-05T10:11:10.348661Z",
     "iopub.status.busy": "2021-08-05T10:11:10.348116Z",
     "iopub.status.idle": "2021-08-05T10:12:35.144701Z",
     "shell.execute_reply": "2021-08-05T10:12:35.145262Z"
    },
    "papermill": {
     "duration": 84.830404,
     "end_time": "2021-08-05T10:12:35.145411",
     "exception": false,
     "start_time": "2021-08-05T10:11:10.315007",
     "status": "completed"
    },
    "tags": []
   },
   "outputs": [
    {
     "name": "stdout",
     "output_type": "stream",
     "text": [
      "====== Neural Network ======\n"
     ]
    },
    {
     "name": "stdout",
     "output_type": "stream",
     "text": [
      "Epoch 0, Loss 0.1879\n",
      "Training Accuracy: 0.8297, Testing Accuracy: 0.8443\n",
      "\n"
     ]
    },
    {
     "name": "stdout",
     "output_type": "stream",
     "text": [
      "Epoch 10, Loss 0.053\n",
      "Training Accuracy: 0.9458, Testing Accuracy: 0.9536\n",
      "\n"
     ]
    },
    {
     "name": "stdout",
     "output_type": "stream",
     "text": [
      "Epoch 20, Loss 0.0393\n",
      "Training Accuracy: 0.9571, Testing Accuracy: 0.9637\n",
      "\n"
     ]
    },
    {
     "name": "stdout",
     "output_type": "stream",
     "text": [
      "Epoch 30, Loss 0.0338\n",
      "Training Accuracy: 0.9626, Testing Accuracy: 0.9652\n",
      "\n"
     ]
    },
    {
     "name": "stdout",
     "output_type": "stream",
     "text": [
      "Epoch 40, Loss 0.0306\n",
      "Training Accuracy: 0.9649, Testing Accuracy: 0.9682\n",
      "\n"
     ]
    },
    {
     "name": "stdout",
     "output_type": "stream",
     "text": [
      "Epoch 50, Loss 0.0284\n",
      "Training Accuracy: 0.9672, Testing Accuracy: 0.9688\n",
      "\n"
     ]
    },
    {
     "name": "stdout",
     "output_type": "stream",
     "text": [
      "Epoch 60, Loss 0.0267\n",
      "Training Accuracy: 0.9692, Testing Accuracy: 0.9693\n",
      "\n"
     ]
    },
    {
     "name": "stdout",
     "output_type": "stream",
     "text": [
      "Epoch 70, Loss 0.0254\n",
      "Training Accuracy: 0.9715, Testing Accuracy: 0.9703\n",
      "\n"
     ]
    },
    {
     "name": "stdout",
     "output_type": "stream",
     "text": [
      "Epoch 80, Loss 0.0243\n",
      "Training Accuracy: 0.9723, Testing Accuracy: 0.9713\n",
      "\n"
     ]
    },
    {
     "name": "stdout",
     "output_type": "stream",
     "text": [
      "Epoch 90, Loss 0.0233\n",
      "Training Accuracy: 0.9737, Testing Accuracy: 0.9713\n",
      "\n"
     ]
    },
    {
     "name": "stdout",
     "output_type": "stream",
     "text": [
      "Epoch 100, Loss 0.0224\n",
      "Training Accuracy: 0.9744, Testing Accuracy: 0.9723\n",
      "\n"
     ]
    },
    {
     "name": "stdout",
     "output_type": "stream",
     "text": [
      "Epoch 110, Loss 0.0216\n",
      "Training Accuracy: 0.9756, Testing Accuracy: 0.9723\n",
      "\n"
     ]
    },
    {
     "name": "stdout",
     "output_type": "stream",
     "text": [
      "Epoch 120, Loss 0.0209\n",
      "Training Accuracy: 0.9765, Testing Accuracy: 0.9728\n",
      "\n"
     ]
    },
    {
     "name": "stdout",
     "output_type": "stream",
     "text": [
      "Epoch 130, Loss 0.0203\n",
      "Training Accuracy: 0.9776, Testing Accuracy: 0.9728\n",
      "\n"
     ]
    },
    {
     "name": "stdout",
     "output_type": "stream",
     "text": [
      "Epoch 140, Loss 0.0196\n",
      "Training Accuracy: 0.9786, Testing Accuracy: 0.9743\n",
      "\n"
     ]
    },
    {
     "name": "stdout",
     "output_type": "stream",
     "text": [
      "Epoch 150, Loss 0.019\n",
      "Training Accuracy: 0.9796, Testing Accuracy: 0.9743\n",
      "\n"
     ]
    },
    {
     "name": "stdout",
     "output_type": "stream",
     "text": [
      "Epoch 160, Loss 0.0185\n",
      "Training Accuracy: 0.9805, Testing Accuracy: 0.9748\n",
      "\n"
     ]
    },
    {
     "name": "stdout",
     "output_type": "stream",
     "text": [
      "Epoch 170, Loss 0.018\n",
      "Training Accuracy: 0.9807, Testing Accuracy: 0.9748\n",
      "\n"
     ]
    },
    {
     "name": "stdout",
     "output_type": "stream",
     "text": [
      "Epoch 180, Loss 0.0175\n",
      "Training Accuracy: 0.9812, Testing Accuracy: 0.9748\n",
      "\n"
     ]
    },
    {
     "name": "stdout",
     "output_type": "stream",
     "text": [
      "Epoch 190, Loss 0.017\n",
      "Training Accuracy: 0.9819, Testing Accuracy: 0.9758\n",
      "\n"
     ]
    },
    {
     "name": "stdout",
     "output_type": "stream",
     "text": [
      "Epoch 200, Loss 0.0166\n",
      "Training Accuracy: 0.9825, Testing Accuracy: 0.9758\n",
      "\n"
     ]
    },
    {
     "name": "stdout",
     "output_type": "stream",
     "text": [
      "Epoch 210, Loss 0.0162\n",
      "Training Accuracy: 0.9831, Testing Accuracy: 0.9763\n",
      "\n"
     ]
    },
    {
     "name": "stdout",
     "output_type": "stream",
     "text": [
      "Epoch 220, Loss 0.0157\n",
      "Training Accuracy: 0.9839, Testing Accuracy: 0.9773\n",
      "\n"
     ]
    },
    {
     "name": "stdout",
     "output_type": "stream",
     "text": [
      "Epoch 230, Loss 0.0154\n",
      "Training Accuracy: 0.9840, Testing Accuracy: 0.9783\n",
      "\n"
     ]
    },
    {
     "name": "stdout",
     "output_type": "stream",
     "text": [
      "Epoch 240, Loss 0.015\n",
      "Training Accuracy: 0.9844, Testing Accuracy: 0.9783\n",
      "\n"
     ]
    },
    {
     "name": "stdout",
     "output_type": "stream",
     "text": [
      "Epoch 250, Loss 0.0146\n",
      "Training Accuracy: 0.9846, Testing Accuracy: 0.9783\n",
      "\n"
     ]
    },
    {
     "data": {
      "text/plain": [
       "0.009871144986950074"
      ]
     },
     "execution_count": 20,
     "metadata": {},
     "output_type": "execute_result"
    }
   ],
   "source": [
    "print(\"====== Neural Network ======\")\n",
    "learner_nn.train_loop(dl)"
   ]
  },
  {
   "cell_type": "markdown",
   "id": "competent-suffering",
   "metadata": {
    "papermill": {
     "duration": 0.037852,
     "end_time": "2021-08-05T10:12:35.224906",
     "exception": false,
     "start_time": "2021-08-05T10:12:35.187054",
     "status": "completed"
    },
    "tags": []
   },
   "source": [
    "### Logistic Regression based Implementation."
   ]
  },
  {
   "cell_type": "code",
   "execution_count": 21,
   "id": "qualified-psychiatry",
   "metadata": {
    "execution": {
     "iopub.execute_input": "2021-08-05T10:12:35.309680Z",
     "iopub.status.busy": "2021-08-05T10:12:35.309040Z",
     "iopub.status.idle": "2021-08-05T10:12:35.320352Z",
     "shell.execute_reply": "2021-08-05T10:12:35.319878Z"
    },
    "papermill": {
     "duration": 0.057213,
     "end_time": "2021-08-05T10:12:35.320471",
     "exception": false,
     "start_time": "2021-08-05T10:12:35.263258",
     "status": "completed"
    },
    "tags": []
   },
   "outputs": [],
   "source": [
    "learner_lr = Learner(loss, model_lr, opt, config.num_epochs)\n",
    "acc_lr = ClfCallback(learner_lr, config.bs, training_xdata , testing_xdata, training_ydata, testing_ydata)\n",
    "learner_lr.set_callbacks([acc_lr])"
   ]
  },
  {
   "cell_type": "code",
   "execution_count": 22,
   "id": "average-outside",
   "metadata": {
    "execution": {
     "iopub.execute_input": "2021-08-05T10:12:35.401723Z",
     "iopub.status.busy": "2021-08-05T10:12:35.400099Z",
     "iopub.status.idle": "2021-08-05T10:12:50.617573Z",
     "shell.execute_reply": "2021-08-05T10:12:50.618390Z"
    },
    "papermill": {
     "duration": 15.259797,
     "end_time": "2021-08-05T10:12:50.618549",
     "exception": false,
     "start_time": "2021-08-05T10:12:35.358752",
     "status": "completed"
    },
    "tags": []
   },
   "outputs": [
    {
     "name": "stdout",
     "output_type": "stream",
     "text": [
      "====== Logistic Regression ======\n",
      "Epoch 0, Loss 0.2429\n",
      "Training Accuracy: 0.6801, Testing Accuracy: 0.6830\n",
      "\n"
     ]
    },
    {
     "name": "stdout",
     "output_type": "stream",
     "text": [
      "Epoch 10, Loss 0.1062\n",
      "Training Accuracy: 0.9025, Testing Accuracy: 0.9042\n",
      "\n"
     ]
    },
    {
     "name": "stdout",
     "output_type": "stream",
     "text": [
      "Epoch 20, Loss 0.0811\n",
      "Training Accuracy: 0.9257, Testing Accuracy: 0.9315\n",
      "\n"
     ]
    },
    {
     "name": "stdout",
     "output_type": "stream",
     "text": [
      "Epoch 30, Loss 0.0695\n",
      "Training Accuracy: 0.9342, Testing Accuracy: 0.9451\n",
      "\n"
     ]
    },
    {
     "name": "stdout",
     "output_type": "stream",
     "text": [
      "Epoch 40, Loss 0.0626\n",
      "Training Accuracy: 0.9392, Testing Accuracy: 0.9491\n",
      "\n"
     ]
    },
    {
     "name": "stdout",
     "output_type": "stream",
     "text": [
      "Epoch 50, Loss 0.0579\n",
      "Training Accuracy: 0.9432, Testing Accuracy: 0.9541\n",
      "\n"
     ]
    },
    {
     "name": "stdout",
     "output_type": "stream",
     "text": [
      "Epoch 60, Loss 0.0545\n",
      "Training Accuracy: 0.9454, Testing Accuracy: 0.9572\n",
      "\n"
     ]
    },
    {
     "name": "stdout",
     "output_type": "stream",
     "text": [
      "Epoch 70, Loss 0.0518\n",
      "Training Accuracy: 0.9477, Testing Accuracy: 0.9602\n",
      "\n"
     ]
    },
    {
     "name": "stdout",
     "output_type": "stream",
     "text": [
      "Epoch 80, Loss 0.0497\n",
      "Training Accuracy: 0.9497, Testing Accuracy: 0.9617\n",
      "\n"
     ]
    },
    {
     "name": "stdout",
     "output_type": "stream",
     "text": [
      "Epoch 90, Loss 0.048\n",
      "Training Accuracy: 0.9519, Testing Accuracy: 0.9627\n",
      "\n"
     ]
    },
    {
     "name": "stdout",
     "output_type": "stream",
     "text": [
      "Epoch 100, Loss 0.0465\n",
      "Training Accuracy: 0.9528, Testing Accuracy: 0.9647\n",
      "\n"
     ]
    },
    {
     "name": "stdout",
     "output_type": "stream",
     "text": [
      "Epoch 110, Loss 0.0453\n",
      "Training Accuracy: 0.9543, Testing Accuracy: 0.9637\n",
      "\n"
     ]
    },
    {
     "name": "stdout",
     "output_type": "stream",
     "text": [
      "Epoch 120, Loss 0.0442\n",
      "Training Accuracy: 0.9545, Testing Accuracy: 0.9642\n",
      "\n"
     ]
    },
    {
     "name": "stdout",
     "output_type": "stream",
     "text": [
      "Epoch 130, Loss 0.0432\n",
      "Training Accuracy: 0.9551, Testing Accuracy: 0.9642\n",
      "\n"
     ]
    },
    {
     "name": "stdout",
     "output_type": "stream",
     "text": [
      "Epoch 140, Loss 0.0424\n",
      "Training Accuracy: 0.9559, Testing Accuracy: 0.9642\n",
      "\n"
     ]
    },
    {
     "name": "stdout",
     "output_type": "stream",
     "text": [
      "Epoch 150, Loss 0.0416\n",
      "Training Accuracy: 0.9566, Testing Accuracy: 0.9652\n",
      "\n"
     ]
    },
    {
     "name": "stdout",
     "output_type": "stream",
     "text": [
      "Epoch 160, Loss 0.0409\n",
      "Training Accuracy: 0.9574, Testing Accuracy: 0.9652\n",
      "\n"
     ]
    },
    {
     "name": "stdout",
     "output_type": "stream",
     "text": [
      "Epoch 170, Loss 0.0403\n",
      "Training Accuracy: 0.9581, Testing Accuracy: 0.9652\n",
      "\n"
     ]
    },
    {
     "name": "stdout",
     "output_type": "stream",
     "text": [
      "Epoch 180, Loss 0.0397\n",
      "Training Accuracy: 0.9589, Testing Accuracy: 0.9652\n",
      "\n"
     ]
    },
    {
     "name": "stdout",
     "output_type": "stream",
     "text": [
      "Epoch 190, Loss 0.0392\n",
      "Training Accuracy: 0.9591, Testing Accuracy: 0.9652\n",
      "\n"
     ]
    },
    {
     "name": "stdout",
     "output_type": "stream",
     "text": [
      "Epoch 200, Loss 0.0387\n",
      "Training Accuracy: 0.9596, Testing Accuracy: 0.9657\n",
      "\n"
     ]
    },
    {
     "name": "stdout",
     "output_type": "stream",
     "text": [
      "Epoch 210, Loss 0.0383\n",
      "Training Accuracy: 0.9594, Testing Accuracy: 0.9657\n",
      "\n"
     ]
    },
    {
     "name": "stdout",
     "output_type": "stream",
     "text": [
      "Epoch 220, Loss 0.0379\n",
      "Training Accuracy: 0.9597, Testing Accuracy: 0.9657\n",
      "\n"
     ]
    },
    {
     "name": "stdout",
     "output_type": "stream",
     "text": [
      "Epoch 230, Loss 0.0375\n",
      "Training Accuracy: 0.9600, Testing Accuracy: 0.9657\n",
      "\n"
     ]
    },
    {
     "name": "stdout",
     "output_type": "stream",
     "text": [
      "Epoch 240, Loss 0.0371\n",
      "Training Accuracy: 0.9603, Testing Accuracy: 0.9662\n",
      "\n"
     ]
    },
    {
     "name": "stdout",
     "output_type": "stream",
     "text": [
      "Epoch 250, Loss 0.0368\n",
      "Training Accuracy: 0.9609, Testing Accuracy: 0.9667\n",
      "\n"
     ]
    },
    {
     "data": {
      "text/plain": [
       "0.014819899819057151"
      ]
     },
     "execution_count": 22,
     "metadata": {},
     "output_type": "execute_result"
    }
   ],
   "source": [
    "print(\"====== Logistic Regression ======\")\n",
    "learner_lr.train_loop(dl)"
   ]
  },
  {
   "cell_type": "markdown",
   "id": "adjusted-possible",
   "metadata": {
    "papermill": {
     "duration": 0.046224,
     "end_time": "2021-08-05T10:12:50.710619",
     "exception": false,
     "start_time": "2021-08-05T10:12:50.664395",
     "status": "completed"
    },
    "tags": []
   },
   "source": [
    "### Comparing results of NN and LR"
   ]
  },
  {
   "cell_type": "code",
   "execution_count": 23,
   "id": "mental-multimedia",
   "metadata": {
    "execution": {
     "iopub.execute_input": "2021-08-05T10:12:50.809955Z",
     "iopub.status.busy": "2021-08-05T10:12:50.809342Z",
     "iopub.status.idle": "2021-08-05T10:12:51.081900Z",
     "shell.execute_reply": "2021-08-05T10:12:51.081378Z"
    },
    "papermill": {
     "duration": 0.324679,
     "end_time": "2021-08-05T10:12:51.082032",
     "exception": false,
     "start_time": "2021-08-05T10:12:50.757353",
     "status": "completed"
    },
    "tags": []
   },
   "outputs": [
    {
     "data": {
      "text/plain": [
       "<matplotlib.legend.Legend at 0x7faa0b1af668>"
      ]
     },
     "execution_count": 23,
     "metadata": {},
     "output_type": "execute_result"
    },
    {
     "data": {
      "image/png": "[encoded data removed]",
      "text/plain": [
       "<Figure size 1080x720 with 1 Axes>"
      ]
     },
     "metadata": {
      "needs_background": "light"
     },
     "output_type": "display_data"
    }
   ],
   "source": [
    "plt.figure(figsize=(15,10))\n",
    "\n",
    "# Neural Network plots\n",
    "plt.plot(acc_nn.accuracies, 'r-', label = \"Training Accuracies - NN\")\n",
    "plt.plot(acc_nn.test_accuracies, 'g-', label = \"Testing Accuracies - NN\")\n",
    "\n",
    "# Logistic Regression plots\n",
    "plt.plot(acc_lr.accuracies, 'k-', label = \"Training Accuracies - LR\")\n",
    "plt.plot(acc_lr.test_accuracies, 'b-', label = \"Testing Accuracies - LR\")\n",
    "\n",
    "plt.ylim(0.8, 1)\n",
    "\n",
    "plt.legend()\n",
    "\n"
   ]
  },
  {
   "cell_type": "markdown",
   "id": "sexual-flesh",
   "metadata": {
    "papermill": {
     "duration": 0.047308,
     "end_time": "2021-08-05T10:12:51.177425",
     "exception": false,
     "start_time": "2021-08-05T10:12:51.130117",
     "status": "completed"
    },
    "tags": []
   },
   "source": [
    "### From the plot, we can observe the following:\n",
    "- Neural Network achieves higher accuracy than the Logistic Regression model.\n",
    "- This apparently, is because of overfitting, i.e. NN captures more noise than data.\n",
    "- Testing accuracy of NN drops below the Training accuracy at higher epochs. This explains the over-fitting on training data.\n",
    "- Logistic Regression gives a reliable accuracy, without the above mentioned problem.\n"
   ]
  },
  {
   "cell_type": "markdown",
   "id": "institutional-pacific",
   "metadata": {
    "papermill": {
     "duration": 0.048878,
     "end_time": "2021-08-05T10:12:51.274481",
     "exception": false,
     "start_time": "2021-08-05T10:12:51.225603",
     "status": "completed"
    },
    "tags": []
   },
   "source": [
    "### Moving till the last but one layer (excluding it).\n",
    "#### Plotting the outputs of this layer of the NN."
   ]
  },
  {
   "cell_type": "code",
   "execution_count": 24,
   "id": "economic-server",
   "metadata": {
    "execution": {
     "iopub.execute_input": "2021-08-05T10:12:51.379118Z",
     "iopub.status.busy": "2021-08-05T10:12:51.378051Z",
     "iopub.status.idle": "2021-08-05T10:12:51.390346Z",
     "shell.execute_reply": "2021-08-05T10:12:51.389833Z"
    },
    "papermill": {
     "duration": 0.067823,
     "end_time": "2021-08-05T10:12:51.390476",
     "exception": false,
     "start_time": "2021-08-05T10:12:51.322653",
     "status": "completed"
    },
    "tags": []
   },
   "outputs": [],
   "source": [
    "model_new = Model(layers[:-2])"
   ]
  },
  {
   "cell_type": "code",
   "execution_count": 25,
   "id": "varied-upgrade",
   "metadata": {
    "execution": {
     "iopub.execute_input": "2021-08-05T10:12:51.495232Z",
     "iopub.status.busy": "2021-08-05T10:12:51.494622Z",
     "iopub.status.idle": "2021-08-05T10:12:51.514384Z",
     "shell.execute_reply": "2021-08-05T10:12:51.515097Z"
    },
    "papermill": {
     "duration": 0.075082,
     "end_time": "2021-08-05T10:12:51.515242",
     "exception": false,
     "start_time": "2021-08-05T10:12:51.440160",
     "status": "completed"
    },
    "tags": []
   },
   "outputs": [],
   "source": [
    "plot_testing = model_new(testing_xdata)"
   ]
  },
  {
   "cell_type": "code",
   "execution_count": 26,
   "id": "specific-handling",
   "metadata": {
    "execution": {
     "iopub.execute_input": "2021-08-05T10:12:51.660253Z",
     "iopub.status.busy": "2021-08-05T10:12:51.659657Z",
     "iopub.status.idle": "2021-08-05T10:12:51.859667Z",
     "shell.execute_reply": "2021-08-05T10:12:51.859181Z"
    },
    "papermill": {
     "duration": 0.253579,
     "end_time": "2021-08-05T10:12:51.859788",
     "exception": false,
     "start_time": "2021-08-05T10:12:51.606209",
     "status": "completed"
    },
    "tags": []
   },
   "outputs": [
    {
     "data": {
      "text/plain": [
       "Text(0.5, 1.0, 'Outputs')"
      ]
     },
     "execution_count": 26,
     "metadata": {},
     "output_type": "execute_result"
    },
    {
     "data": {
      "image/png": "[encoded data removed]",
      "text/plain": [
       "<Figure size 576x504 with 1 Axes>"
      ]
     },
     "metadata": {
      "needs_background": "light"
     },
     "output_type": "display_data"
    }
   ],
   "source": [
    "plt.figure(figsize=(8,7))\n",
    "plt.scatter(plot_testing[:,0], plot_testing[:,1], alpha = 0.1, c = y_test.ravel());\n",
    "plt.title('Outputs')"
   ]
  },
  {
   "cell_type": "markdown",
   "id": "described-knowing",
   "metadata": {
    "papermill": {
     "duration": 0.049843,
     "end_time": "2021-08-05T10:12:51.960223",
     "exception": false,
     "start_time": "2021-08-05T10:12:51.910380",
     "status": "completed"
    },
    "tags": []
   },
   "source": [
    "### Plotting probability contours"
   ]
  },
  {
   "cell_type": "code",
   "execution_count": 27,
   "id": "needed-growing",
   "metadata": {
    "execution": {
     "iopub.execute_input": "2021-08-05T10:12:52.064323Z",
     "iopub.status.busy": "2021-08-05T10:12:52.063588Z",
     "iopub.status.idle": "2021-08-05T10:12:52.075467Z",
     "shell.execute_reply": "2021-08-05T10:12:52.076064Z"
    },
    "papermill": {
     "duration": 0.065732,
     "end_time": "2021-08-05T10:12:52.076230",
     "exception": false,
     "start_time": "2021-08-05T10:12:52.010498",
     "status": "completed"
    },
    "tags": []
   },
   "outputs": [],
   "source": [
    "model_prob = Model(layers[-2:]) "
   ]
  },
  {
   "cell_type": "code",
   "execution_count": 28,
   "id": "introductory-enforcement",
   "metadata": {
    "execution": {
     "iopub.execute_input": "2021-08-05T10:12:52.184606Z",
     "iopub.status.busy": "2021-08-05T10:12:52.184045Z",
     "iopub.status.idle": "2021-08-05T10:12:52.197892Z",
     "shell.execute_reply": "2021-08-05T10:12:52.198331Z"
    },
    "papermill": {
     "duration": 0.069943,
     "end_time": "2021-08-05T10:12:52.198473",
     "exception": false,
     "start_time": "2021-08-05T10:12:52.128530",
     "status": "completed"
    },
    "tags": []
   },
   "outputs": [],
   "source": [
    "# Adjust the x and y ranges according to the above generated plot.\n",
    "x_range = np.linspace(-4, 1, 100) \n",
    "y_range = np.linspace(-6, 6, 100) \n",
    "x_grid, y_grid = np.meshgrid(x_range, y_range) # x_grid and y_grig are of size 100 X 100\n",
    "\n",
    "# converting x_grid and y_grid to continuous arrays\n",
    "x_grid_flat = np.ravel(x_grid)\n",
    "y_grid_flat = np.ravel(y_grid)\n",
    "\n",
    "# The last layer of the current model takes two columns as input. Hence transpose of np.vstack() is required.\n",
    "X = np.vstack((x_grid_flat, y_grid_flat)).T\n",
    "\n",
    "# x_grid and y_grid are of size 100 x 100\n",
    "probability_contour = model_prob(X).reshape(100,100) "
   ]
  },
  {
   "cell_type": "code",
   "execution_count": 29,
   "id": "understood-landing",
   "metadata": {
    "execution": {
     "iopub.execute_input": "2021-08-05T10:12:52.322718Z",
     "iopub.status.busy": "2021-08-05T10:12:52.322122Z",
     "iopub.status.idle": "2021-08-05T10:12:52.587172Z",
     "shell.execute_reply": "2021-08-05T10:12:52.587746Z"
    },
    "papermill": {
     "duration": 0.327881,
     "end_time": "2021-08-05T10:12:52.587898",
     "exception": false,
     "start_time": "2021-08-05T10:12:52.260017",
     "status": "completed"
    },
    "tags": []
   },
   "outputs": [
    {
     "data": {
      "image/png": "[encoded data removed]",
      "text/plain": [
       "<Figure size 720x648 with 1 Axes>"
      ]
     },
     "metadata": {
      "needs_background": "light"
     },
     "output_type": "display_data"
    }
   ],
   "source": [
    "plt.figure(figsize=(10,9))\n",
    "plt.scatter(plot_testing[:,0], plot_testing[:,1], alpha = 0.1, c = y_test.ravel())\n",
    "contours = plt.contour(x_grid,y_grid,probability_contour)\n",
    "plt.title('Probability Contours')\n",
    "plt.clabel(contours, inline = True );"
   ]
  }
 ],
 "metadata": {
  "kernelspec": {
   "display_name": "Python 3",
   "language": "python",
   "name": "python3"
  },
  "language_info": {
   "codemirror_mode": {
    "name": "ipython",
    "version": 3
   },
   "file_extension": ".py",
   "mimetype": "text/x-python",
   "name": "python",
   "nbconvert_exporter": "python",
   "pygments_lexer": "ipython3",
   "version": "3.6.14"
  },
  "papermill": {
   "duration": 451.446781,
   "end_time": "2021-08-05T10:12:53.800634",
   "environment_variables": {},
   "exception": null,
   "input_path": "2020-08-11-NeuralNetwork.ipynb",
   "output_path": "2020-08-11-NeuralNetwork.ipynb",
   "parameters": {},
   "start_time": "2021-08-05T10:05:22.353853",
   "version": "2.1.2"
  }
 },
 "nbformat": 4,
 "nbformat_minor": 5
}