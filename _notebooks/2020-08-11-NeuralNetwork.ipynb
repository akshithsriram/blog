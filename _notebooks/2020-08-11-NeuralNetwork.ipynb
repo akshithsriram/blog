{
 "cells": [
  {
   "cell_type": "markdown",
   "metadata": {
    "papermill": {
     "duration": 0.031794,
     "end_time": "2020-10-01T00:06:49.464820",
     "exception": false,
     "start_time": "2020-10-01T00:06:49.433026",
     "status": "completed"
    },
    "tags": []
   },
   "source": [
    "# \"A Basic Neural Network: Differentiate Hand-Written Digits\"\n",
    "\n",
    "- badges: true\n",
    "- author: Akshith Sriram"
   ]
  },
  {
   "cell_type": "markdown",
   "metadata": {
    "papermill": {
     "duration": 0.022791,
     "end_time": "2020-10-01T00:06:49.512811",
     "exception": false,
     "start_time": "2020-10-01T00:06:49.490020",
     "status": "completed"
    },
    "tags": []
   },
   "source": [
    "### Key Objectives:\n",
    "- Building a neural network that differentiates two hand-written digits 3 and 8.\n",
    "- Comparing the results of this Neural Network (NN) to that of a Logistic Regression (LR) model.\n",
    "\n",
    "### Requirements:\n",
    "- 'Kudzu' : A neural network library that was designed during our course by [Univ.AI](www.univ.ai). \n",
    "- MNIST Database\n",
    "\n",
    "If MNIST is not installed, use the command `!pip install mnist` given below.\n",
    "It can be run both from the command line and Jupyter Notebook."
   ]
  },
  {
   "cell_type": "code",
   "execution_count": 1,
   "metadata": {
    "execution": {
     "iopub.execute_input": "2020-10-01T00:06:49.563386Z",
     "iopub.status.busy": "2020-10-01T00:06:49.562867Z",
     "iopub.status.idle": "2020-10-01T00:06:50.900238Z",
     "shell.execute_reply": "2020-10-01T00:06:50.899347Z"
    },
    "papermill": {
     "duration": 1.366257,
     "end_time": "2020-10-01T00:06:50.900490",
     "exception": false,
     "start_time": "2020-10-01T00:06:49.534233",
     "status": "completed"
    },
    "tags": []
   },
   "outputs": [
    {
     "name": "stdout",
     "output_type": "stream",
     "text": [
      "Collecting mnist\r\n"
     ]
    },
    {
     "name": "stdout",
     "output_type": "stream",
     "text": [
      "  Downloading mnist-0.2.2-py2.py3-none-any.whl (3.5 kB)\r\n"
     ]
    },
    {
     "name": "stdout",
     "output_type": "stream",
     "text": [
      "Requirement already satisfied: numpy in /opt/hostedtoolcache/Python/3.6.12/x64/lib/python3.6/site-packages (from mnist) (1.19.2)\r\n"
     ]
    },
    {
     "name": "stdout",
     "output_type": "stream",
     "text": [
      "Installing collected packages: mnist\r\n"
     ]
    },
    {
     "name": "stdout",
     "output_type": "stream",
     "text": [
      "Successfully installed mnist-0.2.2\r\n"
     ]
    }
   ],
   "source": [
    "!pip install mnist "
   ]
  },
  {
   "cell_type": "markdown",
   "metadata": {
    "papermill": {
     "duration": 0.025175,
     "end_time": "2020-10-01T00:06:50.950549",
     "exception": false,
     "start_time": "2020-10-01T00:06:50.925374",
     "status": "completed"
    },
    "tags": []
   },
   "source": [
    "#### Importing necessary libraries"
   ]
  },
  {
   "cell_type": "code",
   "execution_count": 2,
   "metadata": {
    "execution": {
     "iopub.execute_input": "2020-10-01T00:06:51.471305Z",
     "iopub.status.busy": "2020-10-01T00:06:51.470734Z",
     "iopub.status.idle": "2020-10-01T00:06:51.974960Z",
     "shell.execute_reply": "2020-10-01T00:06:51.973881Z"
    },
    "papermill": {
     "duration": 0.952602,
     "end_time": "2020-10-01T00:06:51.975113",
     "exception": false,
     "start_time": "2020-10-01T00:06:51.022511",
     "status": "completed"
    },
    "tags": []
   },
   "outputs": [],
   "source": [
    "%load_ext autoreload\n",
    "%autoreload 2\n",
    "\n",
    "%matplotlib inline\n",
    "import matplotlib.pyplot as plt\n",
    "\n",
    "import numpy as np\n",
    "import pandas as pd"
   ]
  },
  {
   "cell_type": "markdown",
   "metadata": {
    "papermill": {
     "duration": 0.024629,
     "end_time": "2020-10-01T00:06:52.023057",
     "exception": false,
     "start_time": "2020-10-01T00:06:51.998428",
     "status": "completed"
    },
    "tags": []
   },
   "source": [
    "### Preparing the Data"
   ]
  },
  {
   "cell_type": "code",
   "execution_count": 3,
   "metadata": {
    "execution": {
     "iopub.execute_input": "2020-10-01T00:06:52.076032Z",
     "iopub.status.busy": "2020-10-01T00:06:52.075085Z",
     "iopub.status.idle": "2020-10-01T00:06:52.085981Z",
     "shell.execute_reply": "2020-10-01T00:06:52.085375Z"
    },
    "papermill": {
     "duration": 0.039703,
     "end_time": "2020-10-01T00:06:52.086112",
     "exception": false,
     "start_time": "2020-10-01T00:06:52.046409",
     "status": "completed"
    },
    "tags": []
   },
   "outputs": [],
   "source": [
    "import mnist"
   ]
  },
  {
   "cell_type": "code",
   "execution_count": 4,
   "metadata": {
    "execution": {
     "iopub.execute_input": "2020-10-01T00:06:52.137456Z",
     "iopub.status.busy": "2020-10-01T00:06:52.136900Z",
     "iopub.status.idle": "2020-10-01T00:06:53.039569Z",
     "shell.execute_reply": "2020-10-01T00:06:53.039080Z"
    },
    "papermill": {
     "duration": 0.930097,
     "end_time": "2020-10-01T00:06:53.039687",
     "exception": false,
     "start_time": "2020-10-01T00:06:52.109590",
     "status": "completed"
    },
    "tags": []
   },
   "outputs": [],
   "source": [
    "train_images = mnist.train_images()\n",
    "train_labels = mnist.train_labels()"
   ]
  },
  {
   "cell_type": "code",
   "execution_count": 5,
   "metadata": {
    "execution": {
     "iopub.execute_input": "2020-10-01T00:06:53.089021Z",
     "iopub.status.busy": "2020-10-01T00:06:53.088546Z",
     "iopub.status.idle": "2020-10-01T00:06:53.101884Z",
     "shell.execute_reply": "2020-10-01T00:06:53.101402Z"
    },
    "papermill": {
     "duration": 0.039317,
     "end_time": "2020-10-01T00:06:53.101997",
     "exception": false,
     "start_time": "2020-10-01T00:06:53.062680",
     "status": "completed"
    },
    "tags": []
   },
   "outputs": [
    {
     "data": {
      "text/plain": [
       "((60000, 28, 28), (60000,))"
      ]
     },
     "execution_count": 5,
     "metadata": {},
     "output_type": "execute_result"
    }
   ],
   "source": [
    "train_images.shape, train_labels.shape"
   ]
  },
  {
   "cell_type": "code",
   "execution_count": 6,
   "metadata": {
    "execution": {
     "iopub.execute_input": "2020-10-01T00:06:53.150017Z",
     "iopub.status.busy": "2020-10-01T00:06:53.149452Z",
     "iopub.status.idle": "2020-10-01T00:06:53.419699Z",
     "shell.execute_reply": "2020-10-01T00:06:53.420507Z"
    },
    "papermill": {
     "duration": 0.296509,
     "end_time": "2020-10-01T00:06:53.420777",
     "exception": false,
     "start_time": "2020-10-01T00:06:53.124268",
     "status": "completed"
    },
    "tags": []
   },
   "outputs": [],
   "source": [
    "test_images = mnist.test_images()\n",
    "test_labels = mnist.test_labels()"
   ]
  },
  {
   "cell_type": "code",
   "execution_count": 7,
   "metadata": {
    "execution": {
     "iopub.execute_input": "2020-10-01T00:06:53.474507Z",
     "iopub.status.busy": "2020-10-01T00:06:53.474012Z",
     "iopub.status.idle": "2020-10-01T00:06:53.486058Z",
     "shell.execute_reply": "2020-10-01T00:06:53.485592Z"
    },
    "papermill": {
     "duration": 0.03966,
     "end_time": "2020-10-01T00:06:53.486174",
     "exception": false,
     "start_time": "2020-10-01T00:06:53.446514",
     "status": "completed"
    },
    "tags": []
   },
   "outputs": [
    {
     "data": {
      "text/plain": [
       "((10000, 28, 28), (10000,))"
      ]
     },
     "execution_count": 7,
     "metadata": {},
     "output_type": "execute_result"
    }
   ],
   "source": [
    "test_images.shape, test_labels.shape"
   ]
  },
  {
   "cell_type": "code",
   "execution_count": 8,
   "metadata": {
    "execution": {
     "iopub.execute_input": "2020-10-01T00:06:53.534607Z",
     "iopub.status.busy": "2020-10-01T00:06:53.534093Z",
     "iopub.status.idle": "2020-10-01T00:06:53.664443Z",
     "shell.execute_reply": "2020-10-01T00:06:53.665255Z"
    },
    "papermill": {
     "duration": 0.156815,
     "end_time": "2020-10-01T00:06:53.665476",
     "exception": false,
     "start_time": "2020-10-01T00:06:53.508661",
     "status": "completed"
    },
    "tags": []
   },
   "outputs": [
    {
     "name": "stdout",
     "output_type": "stream",
     "text": [
      "2\n"
     ]
    },
    {
     "data": {
      "text/plain": [
       "<matplotlib.image.AxesImage at 0x7f9fe624f7f0>"
      ]
     },
     "execution_count": 8,
     "metadata": {},
     "output_type": "execute_result"
    },
    {
     "data": {
      "image/png": "[encoded data removed]",
      "text/plain": [
       "<Figure size 432x288 with 1 Axes>"
      ]
     },
     "metadata": {
      "needs_background": "light"
     },
     "output_type": "display_data"
    }
   ],
   "source": [
    "image_index = 7776 # You may select anything up to 60,000\n",
    "print(train_labels[image_index]) \n",
    "plt.imshow(train_images[image_index], cmap='Greys')"
   ]
  },
  {
   "cell_type": "markdown",
   "metadata": {
    "papermill": {
     "duration": 0.025206,
     "end_time": "2020-10-01T00:06:53.716820",
     "exception": false,
     "start_time": "2020-10-01T00:06:53.691614",
     "status": "completed"
    },
    "tags": []
   },
   "source": [
    "## Filter data to get 3 and 8 out"
   ]
  },
  {
   "cell_type": "code",
   "execution_count": 9,
   "metadata": {
    "execution": {
     "iopub.execute_input": "2020-10-01T00:06:53.770690Z",
     "iopub.status.busy": "2020-10-01T00:06:53.770158Z",
     "iopub.status.idle": "2020-10-01T00:06:53.789795Z",
     "shell.execute_reply": "2020-10-01T00:06:53.789190Z"
    },
    "papermill": {
     "duration": 0.049915,
     "end_time": "2020-10-01T00:06:53.789953",
     "exception": false,
     "start_time": "2020-10-01T00:06:53.740038",
     "status": "completed"
    },
    "tags": []
   },
   "outputs": [],
   "source": [
    "train_filter = np.where((train_labels == 3 ) | (train_labels == 8))\n",
    "test_filter = np.where((test_labels == 3) | (test_labels == 8))\n",
    "X_train, y_train = train_images[train_filter], train_labels[train_filter]\n",
    "X_test, y_test = test_images[test_filter], test_labels[test_filter]"
   ]
  },
  {
   "cell_type": "markdown",
   "metadata": {
    "papermill": {
     "duration": 0.022891,
     "end_time": "2020-10-01T00:06:53.839338",
     "exception": false,
     "start_time": "2020-10-01T00:06:53.816447",
     "status": "completed"
    },
    "tags": []
   },
   "source": [
    "We normalize the pixel values in the 0 to 1 range"
   ]
  },
  {
   "cell_type": "code",
   "execution_count": 10,
   "metadata": {
    "execution": {
     "iopub.execute_input": "2020-10-01T00:06:53.892935Z",
     "iopub.status.busy": "2020-10-01T00:06:53.890524Z",
     "iopub.status.idle": "2020-10-01T00:06:53.940829Z",
     "shell.execute_reply": "2020-10-01T00:06:53.940241Z"
    },
    "papermill": {
     "duration": 0.077213,
     "end_time": "2020-10-01T00:06:53.940958",
     "exception": false,
     "start_time": "2020-10-01T00:06:53.863745",
     "status": "completed"
    },
    "tags": []
   },
   "outputs": [],
   "source": [
    "X_train = X_train/255.\n",
    "X_test = X_test/255."
   ]
  },
  {
   "cell_type": "markdown",
   "metadata": {
    "papermill": {
     "duration": 0.02666,
     "end_time": "2020-10-01T00:06:53.993265",
     "exception": false,
     "start_time": "2020-10-01T00:06:53.966605",
     "status": "completed"
    },
    "tags": []
   },
   "source": [
    "Setup the labels as 1 (when the digit is 3) and 0 (when the digit is 8)"
   ]
  },
  {
   "cell_type": "code",
   "execution_count": 11,
   "metadata": {
    "execution": {
     "iopub.execute_input": "2020-10-01T00:06:54.046127Z",
     "iopub.status.busy": "2020-10-01T00:06:54.045574Z",
     "iopub.status.idle": "2020-10-01T00:06:54.058584Z",
     "shell.execute_reply": "2020-10-01T00:06:54.057692Z"
    },
    "papermill": {
     "duration": 0.039975,
     "end_time": "2020-10-01T00:06:54.058692",
     "exception": false,
     "start_time": "2020-10-01T00:06:54.018717",
     "status": "completed"
    },
    "tags": []
   },
   "outputs": [],
   "source": [
    "y_train = 1*(y_train==3)\n",
    "y_test = 1*(y_test==3)"
   ]
  },
  {
   "cell_type": "code",
   "execution_count": 12,
   "metadata": {
    "execution": {
     "iopub.execute_input": "2020-10-01T00:06:54.118598Z",
     "iopub.status.busy": "2020-10-01T00:06:54.110263Z",
     "iopub.status.idle": "2020-10-01T00:06:54.125860Z",
     "shell.execute_reply": "2020-10-01T00:06:54.126351Z"
    },
    "papermill": {
     "duration": 0.04391,
     "end_time": "2020-10-01T00:06:54.126478",
     "exception": false,
     "start_time": "2020-10-01T00:06:54.082568",
     "status": "completed"
    },
    "tags": []
   },
   "outputs": [
    {
     "data": {
      "text/plain": [
       "((11982, 28, 28), (1984, 28, 28))"
      ]
     },
     "execution_count": 12,
     "metadata": {},
     "output_type": "execute_result"
    }
   ],
   "source": [
    "X_train.shape, X_test.shape"
   ]
  },
  {
   "cell_type": "markdown",
   "metadata": {
    "papermill": {
     "duration": 0.025987,
     "end_time": "2020-10-01T00:06:54.177596",
     "exception": false,
     "start_time": "2020-10-01T00:06:54.151609",
     "status": "completed"
    },
    "tags": []
   },
   "source": [
    "### Reshape the input data to create a linear array"
   ]
  },
  {
   "cell_type": "code",
   "execution_count": 13,
   "metadata": {
    "execution": {
     "iopub.execute_input": "2020-10-01T00:06:54.230879Z",
     "iopub.status.busy": "2020-10-01T00:06:54.230025Z",
     "iopub.status.idle": "2020-10-01T00:06:54.243039Z",
     "shell.execute_reply": "2020-10-01T00:06:54.243441Z"
    },
    "papermill": {
     "duration": 0.040692,
     "end_time": "2020-10-01T00:06:54.243553",
     "exception": false,
     "start_time": "2020-10-01T00:06:54.202861",
     "status": "completed"
    },
    "tags": []
   },
   "outputs": [
    {
     "data": {
      "text/plain": [
       "((11982, 784), (1984, 784))"
      ]
     },
     "execution_count": 13,
     "metadata": {},
     "output_type": "execute_result"
    }
   ],
   "source": [
    "X_train = X_train.reshape(X_train.shape[0], -1)\n",
    "X_test = X_test.reshape(X_test.shape[0], -1)\n",
    "X_train.shape, X_test.shape"
   ]
  },
  {
   "cell_type": "markdown",
   "metadata": {
    "papermill": {
     "duration": 0.024986,
     "end_time": "2020-10-01T00:06:54.293890",
     "exception": false,
     "start_time": "2020-10-01T00:06:54.268904",
     "status": "completed"
    },
    "tags": []
   },
   "source": [
    "### Importing appropriate functions from 'Kudzu'"
   ]
  },
  {
   "cell_type": "code",
   "execution_count": 14,
   "metadata": {
    "execution": {
     "iopub.execute_input": "2020-10-01T00:06:54.350102Z",
     "iopub.status.busy": "2020-10-01T00:06:54.349496Z",
     "iopub.status.idle": "2020-10-01T00:06:54.369722Z",
     "shell.execute_reply": "2020-10-01T00:06:54.369093Z"
    },
    "papermill": {
     "duration": 0.051259,
     "end_time": "2020-10-01T00:06:54.369865",
     "exception": false,
     "start_time": "2020-10-01T00:06:54.318606",
     "status": "completed"
    },
    "tags": []
   },
   "outputs": [],
   "source": [
    "from kudzu.layer import Sigmoid\n",
    "from kudzu.layer import Relu\n",
    "from kudzu.layer import Affine, Sigmoid\n",
    "\n",
    "from kudzu.model import Model\n",
    "from kudzu.train import Learner\n",
    "from kudzu.optim import GD\n",
    "from kudzu.data import Data, Dataloader, Sampler\n",
    "\n",
    "from kudzu.callbacks import AccCallback\n",
    "from kudzu.callbacks import ClfCallback\n",
    "\n",
    "from kudzu.loss import MSE"
   ]
  },
  {
   "cell_type": "markdown",
   "metadata": {
    "papermill": {
     "duration": 0.022514,
     "end_time": "2020-10-01T00:06:54.417814",
     "exception": false,
     "start_time": "2020-10-01T00:06:54.395300",
     "status": "completed"
    },
    "tags": []
   },
   "source": [
    "### Let us create a `Config` class, to store important parameters. \n",
    "This class essentially plays the role of a dictionary."
   ]
  },
  {
   "cell_type": "code",
   "execution_count": 15,
   "metadata": {
    "execution": {
     "iopub.execute_input": "2020-10-01T00:06:54.476532Z",
     "iopub.status.busy": "2020-10-01T00:06:54.475955Z",
     "iopub.status.idle": "2020-10-01T00:06:54.488439Z",
     "shell.execute_reply": "2020-10-01T00:06:54.487972Z"
    },
    "papermill": {
     "duration": 0.044917,
     "end_time": "2020-10-01T00:06:54.488563",
     "exception": false,
     "start_time": "2020-10-01T00:06:54.443646",
     "status": "completed"
    },
    "tags": []
   },
   "outputs": [],
   "source": [
    "class Config:\n",
    "    pass\n",
    "config = Config()\n",
    "config.lr = 0.001\n",
    "config.num_epochs = 251\n",
    "config.bs = 50"
   ]
  },
  {
   "cell_type": "markdown",
   "metadata": {
    "papermill": {
     "duration": 0.025415,
     "end_time": "2020-10-01T00:06:54.539767",
     "exception": false,
     "start_time": "2020-10-01T00:06:54.514352",
     "status": "completed"
    },
    "tags": []
   },
   "source": [
    "### Initializing data to the variables"
   ]
  },
  {
   "cell_type": "code",
   "execution_count": 16,
   "metadata": {
    "execution": {
     "iopub.execute_input": "2020-10-01T00:06:54.592667Z",
     "iopub.status.busy": "2020-10-01T00:06:54.592179Z",
     "iopub.status.idle": "2020-10-01T00:06:54.605251Z",
     "shell.execute_reply": "2020-10-01T00:06:54.604779Z"
    },
    "papermill": {
     "duration": 0.042171,
     "end_time": "2020-10-01T00:06:54.605353",
     "exception": false,
     "start_time": "2020-10-01T00:06:54.563182",
     "status": "completed"
    },
    "tags": []
   },
   "outputs": [],
   "source": [
    "data = Data(X_train, y_train.reshape(-1,1))\n",
    "sampler = Sampler(data, config.bs, shuffle=True)\n",
    "\n",
    "dl = Dataloader(data, sampler)\n",
    "\n",
    "opt = GD(config.lr)\n",
    "loss = MSE()"
   ]
  },
  {
   "cell_type": "code",
   "execution_count": 17,
   "metadata": {
    "execution": {
     "iopub.execute_input": "2020-10-01T00:06:54.662859Z",
     "iopub.status.busy": "2020-10-01T00:06:54.662275Z",
     "iopub.status.idle": "2020-10-01T00:06:54.675806Z",
     "shell.execute_reply": "2020-10-01T00:06:54.675340Z"
    },
    "papermill": {
     "duration": 0.044721,
     "end_time": "2020-10-01T00:06:54.675909",
     "exception": false,
     "start_time": "2020-10-01T00:06:54.631188",
     "status": "completed"
    },
    "tags": []
   },
   "outputs": [],
   "source": [
    "training_xdata = X_train\n",
    "testing_xdata = X_test\n",
    "training_ydata = y_train.reshape(-1,1)\n",
    "testing_ydata = y_test.reshape(-1,1)"
   ]
  },
  {
   "cell_type": "markdown",
   "metadata": {
    "papermill": {
     "duration": 0.027315,
     "end_time": "2020-10-01T00:06:54.730193",
     "exception": false,
     "start_time": "2020-10-01T00:06:54.702878",
     "status": "completed"
    },
    "tags": []
   },
   "source": [
    "### Running Models with the Training data\n",
    "Details about the network layers:\n",
    "- A first affine layer has 784 inputs and does 100 affine transforms. These are followed by a Relu\n",
    "- A second affine layer has 100 inputs from the 100 activations of the past layer, and does 100 affine transforms. These are followed by a Relu\n",
    "- A third affine layer has 100 activations and does 2 affine transformations to create an embedding for visualization. There is no non-linearity here.\n",
    "- A final \"logistic regression\" which has an affine transform from 2 inputs to 1 output, which is squeezed through a sigmoid.\n",
    "\n",
    "Help taken from Anshuman's Notebook."
   ]
  },
  {
   "cell_type": "code",
   "execution_count": 18,
   "metadata": {
    "execution": {
     "iopub.execute_input": "2020-10-01T00:06:54.788769Z",
     "iopub.status.busy": "2020-10-01T00:06:54.788170Z",
     "iopub.status.idle": "2020-10-01T00:06:54.805120Z",
     "shell.execute_reply": "2020-10-01T00:06:54.805580Z"
    },
    "papermill": {
     "duration": 0.048011,
     "end_time": "2020-10-01T00:06:54.805724",
     "exception": false,
     "start_time": "2020-10-01T00:06:54.757713",
     "status": "completed"
    },
    "tags": []
   },
   "outputs": [],
   "source": [
    "# layers for the Neural Network\n",
    "layers = [Affine(\"first\", 784, 100), Relu(\"first\"), Affine(\"second\", 100, 100), Relu(\"second\"), Affine(\"third\", 100, 2), Affine(\"final\", 2, 1), Sigmoid(\"final\")]\n",
    "model_nn = Model(layers)\n",
    "\n",
    "# layers for the Logistic Regression\n",
    "layers_lr = [Affine(\"logits\", 784, 1), Sigmoid(\"sigmoid\")]\n",
    "model_lr = Model(layers_lr)"
   ]
  },
  {
   "cell_type": "code",
   "execution_count": 19,
   "metadata": {
    "execution": {
     "iopub.execute_input": "2020-10-01T00:06:54.860908Z",
     "iopub.status.busy": "2020-10-01T00:06:54.860360Z",
     "iopub.status.idle": "2020-10-01T00:06:54.872113Z",
     "shell.execute_reply": "2020-10-01T00:06:54.872570Z"
    },
    "papermill": {
     "duration": 0.04185,
     "end_time": "2020-10-01T00:06:54.872703",
     "exception": false,
     "start_time": "2020-10-01T00:06:54.830853",
     "status": "completed"
    },
    "tags": []
   },
   "outputs": [],
   "source": [
    "# suffix _nn stands for Neural Network.\n",
    "learner_nn = Learner(loss, model_nn, opt, config.num_epochs)\n",
    "acc_nn = ClfCallback(learner_nn, config.bs, training_xdata , testing_xdata, training_ydata, testing_ydata)\n",
    "learner_nn.set_callbacks([acc_nn])"
   ]
  },
  {
   "cell_type": "code",
   "execution_count": 20,
   "metadata": {
    "execution": {
     "iopub.execute_input": "2020-10-01T00:06:54.926019Z",
     "iopub.status.busy": "2020-10-01T00:06:54.925405Z",
     "iopub.status.idle": "2020-10-01T00:08:12.810216Z",
     "shell.execute_reply": "2020-10-01T00:08:12.811006Z"
    },
    "papermill": {
     "duration": 77.914006,
     "end_time": "2020-10-01T00:08:12.811158",
     "exception": false,
     "start_time": "2020-10-01T00:06:54.897152",
     "status": "completed"
    },
    "tags": []
   },
   "outputs": [
    {
     "name": "stdout",
     "output_type": "stream",
     "text": [
      "====== Neural Network ======\n"
     ]
    },
    {
     "name": "stdout",
     "output_type": "stream",
     "text": [
      "Epoch 0, Loss 0.2168\n",
      "Training Accuracy: 0.8102, Testing Accuracy: 0.8211\n",
      "\n"
     ]
    },
    {
     "name": "stdout",
     "output_type": "stream",
     "text": [
      "Epoch 10, Loss 0.0705\n",
      "Training Accuracy: 0.9318, Testing Accuracy: 0.9435\n",
      "\n"
     ]
    },
    {
     "name": "stdout",
     "output_type": "stream",
     "text": [
      "Epoch 20, Loss 0.0473\n",
      "Training Accuracy: 0.9506, Testing Accuracy: 0.9556\n",
      "\n"
     ]
    },
    {
     "name": "stdout",
     "output_type": "stream",
     "text": [
      "Epoch 30, Loss 0.0388\n",
      "Training Accuracy: 0.9569, Testing Accuracy: 0.9602\n",
      "\n"
     ]
    },
    {
     "name": "stdout",
     "output_type": "stream",
     "text": [
      "Epoch 40, Loss 0.0343\n",
      "Training Accuracy: 0.9625, Testing Accuracy: 0.9627\n",
      "\n"
     ]
    },
    {
     "name": "stdout",
     "output_type": "stream",
     "text": [
      "Epoch 50, Loss 0.0313\n",
      "Training Accuracy: 0.9654, Testing Accuracy: 0.9688\n",
      "\n"
     ]
    },
    {
     "name": "stdout",
     "output_type": "stream",
     "text": [
      "Epoch 60, Loss 0.0292\n",
      "Training Accuracy: 0.9677, Testing Accuracy: 0.9693\n",
      "\n"
     ]
    },
    {
     "name": "stdout",
     "output_type": "stream",
     "text": [
      "Epoch 70, Loss 0.0275\n",
      "Training Accuracy: 0.9688, Testing Accuracy: 0.9718\n",
      "\n"
     ]
    },
    {
     "name": "stdout",
     "output_type": "stream",
     "text": [
      "Epoch 80, Loss 0.0262\n",
      "Training Accuracy: 0.9700, Testing Accuracy: 0.9723\n",
      "\n"
     ]
    },
    {
     "name": "stdout",
     "output_type": "stream",
     "text": [
      "Epoch 90, Loss 0.0251\n",
      "Training Accuracy: 0.9712, Testing Accuracy: 0.9728\n",
      "\n"
     ]
    },
    {
     "name": "stdout",
     "output_type": "stream",
     "text": [
      "Epoch 100, Loss 0.0241\n",
      "Training Accuracy: 0.9722, Testing Accuracy: 0.9733\n",
      "\n"
     ]
    },
    {
     "name": "stdout",
     "output_type": "stream",
     "text": [
      "Epoch 110, Loss 0.0232\n",
      "Training Accuracy: 0.9734, Testing Accuracy: 0.9733\n",
      "\n"
     ]
    },
    {
     "name": "stdout",
     "output_type": "stream",
     "text": [
      "Epoch 120, Loss 0.0225\n",
      "Training Accuracy: 0.9748, Testing Accuracy: 0.9738\n",
      "\n"
     ]
    },
    {
     "name": "stdout",
     "output_type": "stream",
     "text": [
      "Epoch 130, Loss 0.0218\n",
      "Training Accuracy: 0.9755, Testing Accuracy: 0.9743\n",
      "\n"
     ]
    },
    {
     "name": "stdout",
     "output_type": "stream",
     "text": [
      "Epoch 140, Loss 0.0212\n",
      "Training Accuracy: 0.9760, Testing Accuracy: 0.9738\n",
      "\n"
     ]
    },
    {
     "name": "stdout",
     "output_type": "stream",
     "text": [
      "Epoch 150, Loss 0.0206\n",
      "Training Accuracy: 0.9768, Testing Accuracy: 0.9738\n",
      "\n"
     ]
    },
    {
     "name": "stdout",
     "output_type": "stream",
     "text": [
      "Epoch 160, Loss 0.02\n",
      "Training Accuracy: 0.9770, Testing Accuracy: 0.9738\n",
      "\n"
     ]
    },
    {
     "name": "stdout",
     "output_type": "stream",
     "text": [
      "Epoch 170, Loss 0.0195\n",
      "Training Accuracy: 0.9778, Testing Accuracy: 0.9738\n",
      "\n"
     ]
    },
    {
     "name": "stdout",
     "output_type": "stream",
     "text": [
      "Epoch 180, Loss 0.019\n",
      "Training Accuracy: 0.9787, Testing Accuracy: 0.9743\n",
      "\n"
     ]
    },
    {
     "name": "stdout",
     "output_type": "stream",
     "text": [
      "Epoch 190, Loss 0.0186\n",
      "Training Accuracy: 0.9791, Testing Accuracy: 0.9743\n",
      "\n"
     ]
    },
    {
     "name": "stdout",
     "output_type": "stream",
     "text": [
      "Epoch 200, Loss 0.0181\n",
      "Training Accuracy: 0.9796, Testing Accuracy: 0.9748\n",
      "\n"
     ]
    },
    {
     "name": "stdout",
     "output_type": "stream",
     "text": [
      "Epoch 210, Loss 0.0177\n",
      "Training Accuracy: 0.9806, Testing Accuracy: 0.9743\n",
      "\n"
     ]
    },
    {
     "name": "stdout",
     "output_type": "stream",
     "text": [
      "Epoch 220, Loss 0.0173\n",
      "Training Accuracy: 0.9810, Testing Accuracy: 0.9748\n",
      "\n"
     ]
    },
    {
     "name": "stdout",
     "output_type": "stream",
     "text": [
      "Epoch 230, Loss 0.0169\n",
      "Training Accuracy: 0.9814, Testing Accuracy: 0.9753\n",
      "\n"
     ]
    },
    {
     "name": "stdout",
     "output_type": "stream",
     "text": [
      "Epoch 240, Loss 0.0165\n",
      "Training Accuracy: 0.9819, Testing Accuracy: 0.9753\n",
      "\n"
     ]
    },
    {
     "name": "stdout",
     "output_type": "stream",
     "text": [
      "Epoch 250, Loss 0.0161\n",
      "Training Accuracy: 0.9824, Testing Accuracy: 0.9753\n",
      "\n"
     ]
    },
    {
     "data": {
      "text/plain": [
       "0.014097240509184553"
      ]
     },
     "execution_count": 20,
     "metadata": {},
     "output_type": "execute_result"
    }
   ],
   "source": [
    "print(\"====== Neural Network ======\")\n",
    "learner_nn.train_loop(dl)"
   ]
  },
  {
   "cell_type": "markdown",
   "metadata": {
    "papermill": {
     "duration": 0.035573,
     "end_time": "2020-10-01T00:08:12.883990",
     "exception": false,
     "start_time": "2020-10-01T00:08:12.848417",
     "status": "completed"
    },
    "tags": []
   },
   "source": [
    "### Logistic Regression based Implementation."
   ]
  },
  {
   "cell_type": "code",
   "execution_count": 21,
   "metadata": {
    "execution": {
     "iopub.execute_input": "2020-10-01T00:08:12.954630Z",
     "iopub.status.busy": "2020-10-01T00:08:12.953988Z",
     "iopub.status.idle": "2020-10-01T00:08:12.965257Z",
     "shell.execute_reply": "2020-10-01T00:08:12.965693Z"
    },
    "papermill": {
     "duration": 0.047642,
     "end_time": "2020-10-01T00:08:12.965837",
     "exception": false,
     "start_time": "2020-10-01T00:08:12.918195",
     "status": "completed"
    },
    "tags": []
   },
   "outputs": [],
   "source": [
    "learner_lr = Learner(loss, model_lr, opt, config.num_epochs)\n",
    "acc_lr = ClfCallback(learner_lr, config.bs, training_xdata , testing_xdata, training_ydata, testing_ydata)\n",
    "learner_lr.set_callbacks([acc_lr])"
   ]
  },
  {
   "cell_type": "code",
   "execution_count": 22,
   "metadata": {
    "execution": {
     "iopub.execute_input": "2020-10-01T00:08:13.038971Z",
     "iopub.status.busy": "2020-10-01T00:08:13.038382Z",
     "iopub.status.idle": "2020-10-01T00:08:28.535930Z",
     "shell.execute_reply": "2020-10-01T00:08:28.536593Z"
    },
    "papermill": {
     "duration": 15.538524,
     "end_time": "2020-10-01T00:08:28.536733",
     "exception": false,
     "start_time": "2020-10-01T00:08:12.998209",
     "status": "completed"
    },
    "tags": []
   },
   "outputs": [
    {
     "name": "stdout",
     "output_type": "stream",
     "text": [
      "====== Logistic Regression ======\n",
      "Epoch 0, Loss 0.2292\n",
      "Training Accuracy: 0.7047, Testing Accuracy: 0.7016\n",
      "\n"
     ]
    },
    {
     "name": "stdout",
     "output_type": "stream",
     "text": [
      "Epoch 10, Loss 0.1076\n",
      "Training Accuracy: 0.8934, Testing Accuracy: 0.9032\n",
      "\n"
     ]
    },
    {
     "name": "stdout",
     "output_type": "stream",
     "text": [
      "Epoch 20, Loss 0.0821\n",
      "Training Accuracy: 0.9217, Testing Accuracy: 0.9304\n",
      "\n"
     ]
    },
    {
     "name": "stdout",
     "output_type": "stream",
     "text": [
      "Epoch 30, Loss 0.0702\n",
      "Training Accuracy: 0.9334, Testing Accuracy: 0.9435\n",
      "\n"
     ]
    },
    {
     "name": "stdout",
     "output_type": "stream",
     "text": [
      "Epoch 40, Loss 0.063\n",
      "Training Accuracy: 0.9397, Testing Accuracy: 0.9491\n",
      "\n"
     ]
    },
    {
     "name": "stdout",
     "output_type": "stream",
     "text": [
      "Epoch 50, Loss 0.0582\n",
      "Training Accuracy: 0.9440, Testing Accuracy: 0.9531\n",
      "\n"
     ]
    },
    {
     "name": "stdout",
     "output_type": "stream",
     "text": [
      "Epoch 60, Loss 0.0547\n",
      "Training Accuracy: 0.9471, Testing Accuracy: 0.9541\n",
      "\n"
     ]
    },
    {
     "name": "stdout",
     "output_type": "stream",
     "text": [
      "Epoch 70, Loss 0.0519\n",
      "Training Accuracy: 0.9488, Testing Accuracy: 0.9582\n",
      "\n"
     ]
    },
    {
     "name": "stdout",
     "output_type": "stream",
     "text": [
      "Epoch 80, Loss 0.0498\n",
      "Training Accuracy: 0.9513, Testing Accuracy: 0.9582\n",
      "\n"
     ]
    },
    {
     "name": "stdout",
     "output_type": "stream",
     "text": [
      "Epoch 90, Loss 0.048\n",
      "Training Accuracy: 0.9518, Testing Accuracy: 0.9607\n",
      "\n"
     ]
    },
    {
     "name": "stdout",
     "output_type": "stream",
     "text": [
      "Epoch 100, Loss 0.0465\n",
      "Training Accuracy: 0.9525, Testing Accuracy: 0.9617\n",
      "\n"
     ]
    },
    {
     "name": "stdout",
     "output_type": "stream",
     "text": [
      "Epoch 110, Loss 0.0452\n",
      "Training Accuracy: 0.9539, Testing Accuracy: 0.9637\n",
      "\n"
     ]
    },
    {
     "name": "stdout",
     "output_type": "stream",
     "text": [
      "Epoch 120, Loss 0.0441\n",
      "Training Accuracy: 0.9546, Testing Accuracy: 0.9642\n",
      "\n"
     ]
    },
    {
     "name": "stdout",
     "output_type": "stream",
     "text": [
      "Epoch 130, Loss 0.0432\n",
      "Training Accuracy: 0.9551, Testing Accuracy: 0.9642\n",
      "\n"
     ]
    },
    {
     "name": "stdout",
     "output_type": "stream",
     "text": [
      "Epoch 140, Loss 0.0423\n",
      "Training Accuracy: 0.9559, Testing Accuracy: 0.9647\n",
      "\n"
     ]
    },
    {
     "name": "stdout",
     "output_type": "stream",
     "text": [
      "Epoch 150, Loss 0.0416\n",
      "Training Accuracy: 0.9565, Testing Accuracy: 0.9652\n",
      "\n"
     ]
    },
    {
     "name": "stdout",
     "output_type": "stream",
     "text": [
      "Epoch 160, Loss 0.0409\n",
      "Training Accuracy: 0.9574, Testing Accuracy: 0.9662\n",
      "\n"
     ]
    },
    {
     "name": "stdout",
     "output_type": "stream",
     "text": [
      "Epoch 170, Loss 0.0402\n",
      "Training Accuracy: 0.9575, Testing Accuracy: 0.9662\n",
      "\n"
     ]
    },
    {
     "name": "stdout",
     "output_type": "stream",
     "text": [
      "Epoch 180, Loss 0.0397\n",
      "Training Accuracy: 0.9576, Testing Accuracy: 0.9662\n",
      "\n"
     ]
    },
    {
     "name": "stdout",
     "output_type": "stream",
     "text": [
      "Epoch 190, Loss 0.0391\n",
      "Training Accuracy: 0.9583, Testing Accuracy: 0.9667\n",
      "\n"
     ]
    },
    {
     "name": "stdout",
     "output_type": "stream",
     "text": [
      "Epoch 200, Loss 0.0386\n",
      "Training Accuracy: 0.9593, Testing Accuracy: 0.9667\n",
      "\n"
     ]
    },
    {
     "name": "stdout",
     "output_type": "stream",
     "text": [
      "Epoch 210, Loss 0.0382\n",
      "Training Accuracy: 0.9594, Testing Accuracy: 0.9672\n",
      "\n"
     ]
    },
    {
     "name": "stdout",
     "output_type": "stream",
     "text": [
      "Epoch 220, Loss 0.0378\n",
      "Training Accuracy: 0.9597, Testing Accuracy: 0.9672\n",
      "\n"
     ]
    },
    {
     "name": "stdout",
     "output_type": "stream",
     "text": [
      "Epoch 230, Loss 0.0374\n",
      "Training Accuracy: 0.9601, Testing Accuracy: 0.9672\n",
      "\n"
     ]
    },
    {
     "name": "stdout",
     "output_type": "stream",
     "text": [
      "Epoch 240, Loss 0.037\n",
      "Training Accuracy: 0.9608, Testing Accuracy: 0.9667\n",
      "\n"
     ]
    },
    {
     "name": "stdout",
     "output_type": "stream",
     "text": [
      "Epoch 250, Loss 0.0367\n",
      "Training Accuracy: 0.9610, Testing Accuracy: 0.9662\n",
      "\n"
     ]
    },
    {
     "data": {
      "text/plain": [
       "0.019971257170392383"
      ]
     },
     "execution_count": 22,
     "metadata": {},
     "output_type": "execute_result"
    }
   ],
   "source": [
    "print(\"====== Logistic Regression ======\")\n",
    "learner_lr.train_loop(dl)"
   ]
  },
  {
   "cell_type": "markdown",
   "metadata": {
    "papermill": {
     "duration": 0.041231,
     "end_time": "2020-10-01T00:08:28.620051",
     "exception": false,
     "start_time": "2020-10-01T00:08:28.578820",
     "status": "completed"
    },
    "tags": []
   },
   "source": [
    "### Comparing results of NN and LR"
   ]
  },
  {
   "cell_type": "code",
   "execution_count": 23,
   "metadata": {
    "execution": {
     "iopub.execute_input": "2020-10-01T00:08:28.708936Z",
     "iopub.status.busy": "2020-10-01T00:08:28.707279Z",
     "iopub.status.idle": "2020-10-01T00:08:28.928112Z",
     "shell.execute_reply": "2020-10-01T00:08:28.927630Z"
    },
    "papermill": {
     "duration": 0.266666,
     "end_time": "2020-10-01T00:08:28.928241",
     "exception": false,
     "start_time": "2020-10-01T00:08:28.661575",
     "status": "completed"
    },
    "tags": []
   },
   "outputs": [
    {
     "data": {
      "text/plain": [
       "<matplotlib.legend.Legend at 0x7f9fe3db62b0>"
      ]
     },
     "execution_count": 23,
     "metadata": {},
     "output_type": "execute_result"
    },
    {
     "data": {
      "image/png": "[encoded data removed]",
      "text/plain": [
       "<Figure size 1080x720 with 1 Axes>"
      ]
     },
     "metadata": {
      "needs_background": "light"
     },
     "output_type": "display_data"
    }
   ],
   "source": [
    "plt.figure(figsize=(15,10))\n",
    "\n",
    "# Neural Network plots\n",
    "plt.plot(acc_nn.accuracies, 'r-', label = \"Training Accuracies - NN\")\n",
    "plt.plot(acc_nn.test_accuracies, 'g-', label = \"Testing Accuracies - NN\")\n",
    "\n",
    "# Logistic Regression plots\n",
    "plt.plot(acc_lr.accuracies, 'k-', label = \"Training Accuracies - LR\")\n",
    "plt.plot(acc_lr.test_accuracies, 'b-', label = \"Testing Accuracies - LR\")\n",
    "\n",
    "plt.ylim(0.8, 1)\n",
    "\n",
    "plt.legend()\n",
    "\n"
   ]
  },
  {
   "cell_type": "markdown",
   "metadata": {
    "papermill": {
     "duration": 0.042241,
     "end_time": "2020-10-01T00:08:29.011371",
     "exception": false,
     "start_time": "2020-10-01T00:08:28.969130",
     "status": "completed"
    },
    "tags": []
   },
   "source": [
    "### From the plot, we can observe the following:\n",
    "- Neural Network achieves higher accuracy than the Logistic Regression model.\n",
    "- This apparently, is because of overfitting, i.e. NN captures more noise than data.\n",
    "- Testing accuracy of NN drops below the Training accuracy at higher epochs. This explains the over-fitting on training data.\n",
    "- Logistic Regression gives a reliable accuracy, without the above mentioned problem.\n"
   ]
  },
  {
   "cell_type": "markdown",
   "metadata": {
    "papermill": {
     "duration": 0.044428,
     "end_time": "2020-10-01T00:08:29.097124",
     "exception": false,
     "start_time": "2020-10-01T00:08:29.052696",
     "status": "completed"
    },
    "tags": []
   },
   "source": [
    "### Moving till the last but one layer (excluding it).\n",
    "#### Plotting the outputs of this layer of the NN."
   ]
  },
  {
   "cell_type": "code",
   "execution_count": 24,
   "metadata": {
    "execution": {
     "iopub.execute_input": "2020-10-01T00:08:29.194121Z",
     "iopub.status.busy": "2020-10-01T00:08:29.186246Z",
     "iopub.status.idle": "2020-10-01T00:08:29.197978Z",
     "shell.execute_reply": "2020-10-01T00:08:29.198412Z"
    },
    "papermill": {
     "duration": 0.058144,
     "end_time": "2020-10-01T00:08:29.198552",
     "exception": false,
     "start_time": "2020-10-01T00:08:29.140408",
     "status": "completed"
    },
    "tags": []
   },
   "outputs": [],
   "source": [
    "model_new = Model(layers[:-2])"
   ]
  },
  {
   "cell_type": "code",
   "execution_count": 25,
   "metadata": {
    "execution": {
     "iopub.execute_input": "2020-10-01T00:08:29.284550Z",
     "iopub.status.busy": "2020-10-01T00:08:29.284014Z",
     "iopub.status.idle": "2020-10-01T00:08:29.304120Z",
     "shell.execute_reply": "2020-10-01T00:08:29.304600Z"
    },
    "papermill": {
     "duration": 0.065003,
     "end_time": "2020-10-01T00:08:29.304770",
     "exception": false,
     "start_time": "2020-10-01T00:08:29.239767",
     "status": "completed"
    },
    "tags": []
   },
   "outputs": [],
   "source": [
    "plot_testing = model_new(testing_xdata)"
   ]
  },
  {
   "cell_type": "code",
   "execution_count": 26,
   "metadata": {
    "execution": {
     "iopub.execute_input": "2020-10-01T00:08:29.394846Z",
     "iopub.status.busy": "2020-10-01T00:08:29.394303Z",
     "iopub.status.idle": "2020-10-01T00:08:29.594150Z",
     "shell.execute_reply": "2020-10-01T00:08:29.594547Z"
    },
    "papermill": {
     "duration": 0.247484,
     "end_time": "2020-10-01T00:08:29.594685",
     "exception": false,
     "start_time": "2020-10-01T00:08:29.347201",
     "status": "completed"
    },
    "tags": []
   },
   "outputs": [
    {
     "data": {
      "text/plain": [
       "Text(0.5, 1.0, 'Outputs')"
      ]
     },
     "execution_count": 26,
     "metadata": {},
     "output_type": "execute_result"
    },
    {
     "data": {
      "image/png": "[encoded data removed]",
      "text/plain": [
       "<Figure size 576x504 with 1 Axes>"
      ]
     },
     "metadata": {
      "needs_background": "light"
     },
     "output_type": "display_data"
    }
   ],
   "source": [
    "plt.figure(figsize=(8,7))\n",
    "plt.scatter(plot_testing[:,0], plot_testing[:,1], alpha = 0.1, c = y_test.ravel());\n",
    "plt.title('Outputs')"
   ]
  },
  {
   "cell_type": "markdown",
   "metadata": {
    "papermill": {
     "duration": 0.043512,
     "end_time": "2020-10-01T00:08:29.684322",
     "exception": false,
     "start_time": "2020-10-01T00:08:29.640810",
     "status": "completed"
    },
    "tags": []
   },
   "source": [
    "### Plotting probability contours"
   ]
  },
  {
   "cell_type": "code",
   "execution_count": 27,
   "metadata": {
    "execution": {
     "iopub.execute_input": "2020-10-01T00:08:29.774964Z",
     "iopub.status.busy": "2020-10-01T00:08:29.774402Z",
     "iopub.status.idle": "2020-10-01T00:08:29.786519Z",
     "shell.execute_reply": "2020-10-01T00:08:29.786023Z"
    },
    "papermill": {
     "duration": 0.060127,
     "end_time": "2020-10-01T00:08:29.786635",
     "exception": false,
     "start_time": "2020-10-01T00:08:29.726508",
     "status": "completed"
    },
    "tags": []
   },
   "outputs": [],
   "source": [
    "model_prob = Model(layers[-2:]) "
   ]
  },
  {
   "cell_type": "code",
   "execution_count": 28,
   "metadata": {
    "execution": {
     "iopub.execute_input": "2020-10-01T00:08:29.878106Z",
     "iopub.status.busy": "2020-10-01T00:08:29.877559Z",
     "iopub.status.idle": "2020-10-01T00:08:29.891093Z",
     "shell.execute_reply": "2020-10-01T00:08:29.891494Z"
    },
    "papermill": {
     "duration": 0.060774,
     "end_time": "2020-10-01T00:08:29.891617",
     "exception": false,
     "start_time": "2020-10-01T00:08:29.830843",
     "status": "completed"
    },
    "tags": []
   },
   "outputs": [],
   "source": [
    "# Adjust the x and y ranges according to the above generated plot.\n",
    "x_range = np.linspace(-4, 1, 100) \n",
    "y_range = np.linspace(-6, 6, 100) \n",
    "x_grid, y_grid = np.meshgrid(x_range, y_range) # x_grid and y_grig are of size 100 X 100\n",
    "\n",
    "# converting x_grid and y_grid to continuous arrays\n",
    "x_grid_flat = np.ravel(x_grid)\n",
    "y_grid_flat = np.ravel(y_grid)\n",
    "\n",
    "# The last layer of the current model takes two columns as input. Hence transpose of np.vstack() is required.\n",
    "X = np.vstack((x_grid_flat, y_grid_flat)).T\n",
    "\n",
    "# x_grid and y_grid are of size 100 x 100\n",
    "probability_contour = model_prob(X).reshape(100,100) "
   ]
  },
  {
   "cell_type": "code",
   "execution_count": 29,
   "metadata": {
    "execution": {
     "iopub.execute_input": "2020-10-01T00:08:29.988578Z",
     "iopub.status.busy": "2020-10-01T00:08:29.988035Z",
     "iopub.status.idle": "2020-10-01T00:08:30.222491Z",
     "shell.execute_reply": "2020-10-01T00:08:30.222926Z"
    },
    "papermill": {
     "duration": 0.287761,
     "end_time": "2020-10-01T00:08:30.223064",
     "exception": false,
     "start_time": "2020-10-01T00:08:29.935303",
     "status": "completed"
    },
    "tags": []
   },
   "outputs": [
    {
     "data": {
      "image/png": "[encoded data removed]",
      "text/plain": [
       "<Figure size 720x648 with 1 Axes>"
      ]
     },
     "metadata": {
      "needs_background": "light"
     },
     "output_type": "display_data"
    }
   ],
   "source": [
    "plt.figure(figsize=(10,9))\n",
    "plt.scatter(plot_testing[:,0], plot_testing[:,1], alpha = 0.1, c = y_test.ravel())\n",
    "contours = plt.contour(x_grid,y_grid,probability_contour)\n",
    "plt.title('Probability Contours')\n",
    "plt.clabel(contours, inline = True );"
   ]
  }
 ],
 "metadata": {
  "kernelspec": {
   "display_name": "Python 3",
   "language": "python",
   "name": "python3"
  },
  "language_info": {
   "codemirror_mode": {
    "name": "ipython",
    "version": 3
   },
   "file_extension": ".py",
   "mimetype": "text/x-python",
   "name": "python",
   "nbconvert_exporter": "python",
   "pygments_lexer": "ipython3",
   "version": "3.6.12"
  },
  "papermill": {
   "duration": 102.194269,
   "end_time": "2020-10-01T00:08:30.576554",
   "environment_variables": {},
   "exception": null,
   "input_path": "2020-08-11-NeuralNetwork.ipynb",
   "output_path": "2020-08-11-NeuralNetwork.ipynb",
   "parameters": {},
   "start_time": "2020-10-01T00:06:48.382285",
   "version": "2.1.2"
  }
 },
 "nbformat": 4,
 "nbformat_minor": 4
}