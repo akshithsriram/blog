{
 "cells": [
  {
   "cell_type": "markdown",
   "id": "fitted-suggestion",
   "metadata": {
    "papermill": {
     "duration": 0.035023,
     "end_time": "2021-01-28T20:04:21.140291",
     "exception": false,
     "start_time": "2021-01-28T20:04:21.105268",
     "status": "completed"
    },
    "tags": []
   },
   "source": [
    "# \"A Basic Neural Network: Differentiate Hand-Written Digits\"\n",
    "\n",
    "- badges: true\n",
    "- author: Akshith Sriram"
   ]
  },
  {
   "cell_type": "markdown",
   "id": "signal-flexibility",
   "metadata": {
    "papermill": {
     "duration": 0.032866,
     "end_time": "2021-01-28T20:04:21.205687",
     "exception": false,
     "start_time": "2021-01-28T20:04:21.172821",
     "status": "completed"
    },
    "tags": []
   },
   "source": [
    "### Key Objectives:\n",
    "- Building a neural network that differentiates two hand-written digits 3 and 8.\n",
    "- Comparing the results of this Neural Network (NN) to that of a Logistic Regression (LR) model.\n",
    "\n",
    "### Requirements:\n",
    "- 'Kudzu' : A neural network library that was designed during our course by [Univ.AI](www.univ.ai). \n",
    "- MNIST Database\n",
    "\n",
    "If MNIST is not installed, use the command `!pip install mnist` given below.\n",
    "It can be run both from the command line and Jupyter Notebook."
   ]
  },
  {
   "cell_type": "code",
   "execution_count": 1,
   "id": "british-texture",
   "metadata": {
    "execution": {
     "iopub.execute_input": "2021-01-28T20:04:21.281406Z",
     "iopub.status.busy": "2021-01-28T20:04:21.280714Z",
     "iopub.status.idle": "2021-01-28T20:04:23.272816Z",
     "shell.execute_reply": "2021-01-28T20:04:23.271625Z"
    },
    "papermill": {
     "duration": 2.03518,
     "end_time": "2021-01-28T20:04:23.272984",
     "exception": false,
     "start_time": "2021-01-28T20:04:21.237804",
     "status": "completed"
    },
    "tags": []
   },
   "outputs": [
    {
     "name": "stdout",
     "output_type": "stream",
     "text": [
      "Collecting mnist\r\n"
     ]
    },
    {
     "name": "stdout",
     "output_type": "stream",
     "text": [
      "  Downloading mnist-0.2.2-py2.py3-none-any.whl (3.5 kB)\r\n"
     ]
    },
    {
     "name": "stdout",
     "output_type": "stream",
     "text": [
      "Requirement already satisfied: numpy in /opt/hostedtoolcache/Python/3.6.12/x64/lib/python3.6/site-packages (from mnist) (1.19.5)\r\n"
     ]
    },
    {
     "name": "stdout",
     "output_type": "stream",
     "text": [
      "Installing collected packages: mnist\r\n"
     ]
    },
    {
     "name": "stdout",
     "output_type": "stream",
     "text": [
      "Successfully installed mnist-0.2.2\r\n"
     ]
    },
    {
     "name": "stdout",
     "output_type": "stream",
     "text": [
      "\u001b[33mWARNING: You are using pip version 20.3.4; however, version 21.0 is available.\r\n",
      "You should consider upgrading via the '/opt/hostedtoolcache/Python/3.6.12/x64/bin/python -m pip install --upgrade pip' command.\u001b[0m\r\n"
     ]
    }
   ],
   "source": [
    "!pip install mnist "
   ]
  },
  {
   "cell_type": "markdown",
   "id": "stunning-extra",
   "metadata": {
    "papermill": {
     "duration": 0.035595,
     "end_time": "2021-01-28T20:04:23.342062",
     "exception": false,
     "start_time": "2021-01-28T20:04:23.306467",
     "status": "completed"
    },
    "tags": []
   },
   "source": [
    "#### Importing necessary libraries"
   ]
  },
  {
   "cell_type": "code",
   "execution_count": 2,
   "id": "wooden-france",
   "metadata": {
    "execution": {
     "iopub.execute_input": "2021-01-28T20:04:23.417388Z",
     "iopub.status.busy": "2021-01-28T20:04:23.416728Z",
     "iopub.status.idle": "2021-01-28T20:04:24.008104Z",
     "shell.execute_reply": "2021-01-28T20:04:24.007133Z"
    },
    "papermill": {
     "duration": 0.631695,
     "end_time": "2021-01-28T20:04:24.008253",
     "exception": false,
     "start_time": "2021-01-28T20:04:23.376558",
     "status": "completed"
    },
    "tags": []
   },
   "outputs": [],
   "source": [
    "%load_ext autoreload\n",
    "%autoreload 2\n",
    "\n",
    "%matplotlib inline\n",
    "import matplotlib.pyplot as plt\n",
    "\n",
    "import numpy as np\n",
    "import pandas as pd"
   ]
  },
  {
   "cell_type": "markdown",
   "id": "stunning-physics",
   "metadata": {
    "papermill": {
     "duration": 0.033369,
     "end_time": "2021-01-28T20:04:24.075263",
     "exception": false,
     "start_time": "2021-01-28T20:04:24.041894",
     "status": "completed"
    },
    "tags": []
   },
   "source": [
    "### Preparing the Data"
   ]
  },
  {
   "cell_type": "code",
   "execution_count": 3,
   "id": "unauthorized-remainder",
   "metadata": {
    "execution": {
     "iopub.execute_input": "2021-01-28T20:04:24.150149Z",
     "iopub.status.busy": "2021-01-28T20:04:24.149483Z",
     "iopub.status.idle": "2021-01-28T20:04:24.161215Z",
     "shell.execute_reply": "2021-01-28T20:04:24.160677Z"
    },
    "papermill": {
     "duration": 0.052158,
     "end_time": "2021-01-28T20:04:24.161354",
     "exception": false,
     "start_time": "2021-01-28T20:04:24.109196",
     "status": "completed"
    },
    "tags": []
   },
   "outputs": [],
   "source": [
    "import mnist"
   ]
  },
  {
   "cell_type": "code",
   "execution_count": 4,
   "id": "correct-antarctica",
   "metadata": {
    "execution": {
     "iopub.execute_input": "2021-01-28T20:04:24.248625Z",
     "iopub.status.busy": "2021-01-28T20:04:24.243130Z",
     "iopub.status.idle": "2021-01-28T20:04:25.037618Z",
     "shell.execute_reply": "2021-01-28T20:04:25.037031Z"
    },
    "papermill": {
     "duration": 0.841675,
     "end_time": "2021-01-28T20:04:25.037772",
     "exception": false,
     "start_time": "2021-01-28T20:04:24.196097",
     "status": "completed"
    },
    "tags": []
   },
   "outputs": [],
   "source": [
    "train_images = mnist.train_images()\n",
    "train_labels = mnist.train_labels()"
   ]
  },
  {
   "cell_type": "code",
   "execution_count": 5,
   "id": "musical-prospect",
   "metadata": {
    "execution": {
     "iopub.execute_input": "2021-01-28T20:04:25.114431Z",
     "iopub.status.busy": "2021-01-28T20:04:25.113782Z",
     "iopub.status.idle": "2021-01-28T20:04:25.131686Z",
     "shell.execute_reply": "2021-01-28T20:04:25.131082Z"
    },
    "papermill": {
     "duration": 0.060865,
     "end_time": "2021-01-28T20:04:25.131825",
     "exception": false,
     "start_time": "2021-01-28T20:04:25.070960",
     "status": "completed"
    },
    "tags": []
   },
   "outputs": [
    {
     "data": {
      "text/plain": [
       "((60000, 28, 28), (60000,))"
      ]
     },
     "execution_count": 5,
     "metadata": {},
     "output_type": "execute_result"
    }
   ],
   "source": [
    "train_images.shape, train_labels.shape"
   ]
  },
  {
   "cell_type": "code",
   "execution_count": 6,
   "id": "preliminary-elizabeth",
   "metadata": {
    "execution": {
     "iopub.execute_input": "2021-01-28T20:04:25.215236Z",
     "iopub.status.busy": "2021-01-28T20:04:25.214163Z",
     "iopub.status.idle": "2021-01-28T20:04:25.488380Z",
     "shell.execute_reply": "2021-01-28T20:04:25.487787Z"
    },
    "papermill": {
     "duration": 0.32422,
     "end_time": "2021-01-28T20:04:25.488529",
     "exception": false,
     "start_time": "2021-01-28T20:04:25.164309",
     "status": "completed"
    },
    "tags": []
   },
   "outputs": [],
   "source": [
    "test_images = mnist.test_images()\n",
    "test_labels = mnist.test_labels()"
   ]
  },
  {
   "cell_type": "code",
   "execution_count": 7,
   "id": "acknowledged-oxygen",
   "metadata": {
    "execution": {
     "iopub.execute_input": "2021-01-28T20:04:25.575332Z",
     "iopub.status.busy": "2021-01-28T20:04:25.572024Z",
     "iopub.status.idle": "2021-01-28T20:04:25.578918Z",
     "shell.execute_reply": "2021-01-28T20:04:25.578367Z"
    },
    "papermill": {
     "duration": 0.055818,
     "end_time": "2021-01-28T20:04:25.579050",
     "exception": false,
     "start_time": "2021-01-28T20:04:25.523232",
     "status": "completed"
    },
    "tags": []
   },
   "outputs": [
    {
     "data": {
      "text/plain": [
       "((10000, 28, 28), (10000,))"
      ]
     },
     "execution_count": 7,
     "metadata": {},
     "output_type": "execute_result"
    }
   ],
   "source": [
    "test_images.shape, test_labels.shape"
   ]
  },
  {
   "cell_type": "code",
   "execution_count": 8,
   "id": "innovative-organic",
   "metadata": {
    "execution": {
     "iopub.execute_input": "2021-01-28T20:04:25.652989Z",
     "iopub.status.busy": "2021-01-28T20:04:25.652341Z",
     "iopub.status.idle": "2021-01-28T20:04:25.829889Z",
     "shell.execute_reply": "2021-01-28T20:04:25.830440Z"
    },
    "papermill": {
     "duration": 0.217545,
     "end_time": "2021-01-28T20:04:25.830610",
     "exception": false,
     "start_time": "2021-01-28T20:04:25.613065",
     "status": "completed"
    },
    "tags": []
   },
   "outputs": [
    {
     "name": "stdout",
     "output_type": "stream",
     "text": [
      "2\n"
     ]
    },
    {
     "data": {
      "text/plain": [
       "<matplotlib.image.AxesImage at 0x7f1d6a600f60>"
      ]
     },
     "execution_count": 8,
     "metadata": {},
     "output_type": "execute_result"
    },
    {
     "data": {
      "image/png": "[encoded data removed]",
      "text/plain": [
       "<Figure size 432x288 with 1 Axes>"
      ]
     },
     "metadata": {
      "needs_background": "light"
     },
     "output_type": "display_data"
    }
   ],
   "source": [
    "image_index = 7776 # You may select anything up to 60,000\n",
    "print(train_labels[image_index]) \n",
    "plt.imshow(train_images[image_index], cmap='Greys')"
   ]
  },
  {
   "cell_type": "markdown",
   "id": "facial-modem",
   "metadata": {
    "papermill": {
     "duration": 0.035335,
     "end_time": "2021-01-28T20:04:25.901662",
     "exception": false,
     "start_time": "2021-01-28T20:04:25.866327",
     "status": "completed"
    },
    "tags": []
   },
   "source": [
    "## Filter data to get 3 and 8 out"
   ]
  },
  {
   "cell_type": "code",
   "execution_count": 9,
   "id": "thousand-acquisition",
   "metadata": {
    "execution": {
     "iopub.execute_input": "2021-01-28T20:04:26.000581Z",
     "iopub.status.busy": "2021-01-28T20:04:25.993844Z",
     "iopub.status.idle": "2021-01-28T20:04:26.014730Z",
     "shell.execute_reply": "2021-01-28T20:04:26.012503Z"
    },
    "papermill": {
     "duration": 0.078832,
     "end_time": "2021-01-28T20:04:26.014885",
     "exception": false,
     "start_time": "2021-01-28T20:04:25.936053",
     "status": "completed"
    },
    "tags": []
   },
   "outputs": [],
   "source": [
    "train_filter = np.where((train_labels == 3 ) | (train_labels == 8))\n",
    "test_filter = np.where((test_labels == 3) | (test_labels == 8))\n",
    "X_train, y_train = train_images[train_filter], train_labels[train_filter]\n",
    "X_test, y_test = test_images[test_filter], test_labels[test_filter]"
   ]
  },
  {
   "cell_type": "markdown",
   "id": "ruled-access",
   "metadata": {
    "papermill": {
     "duration": 0.037493,
     "end_time": "2021-01-28T20:04:26.092740",
     "exception": false,
     "start_time": "2021-01-28T20:04:26.055247",
     "status": "completed"
    },
    "tags": []
   },
   "source": [
    "We normalize the pixel values in the 0 to 1 range"
   ]
  },
  {
   "cell_type": "code",
   "execution_count": 10,
   "id": "isolated-denver",
   "metadata": {
    "execution": {
     "iopub.execute_input": "2021-01-28T20:04:26.168210Z",
     "iopub.status.busy": "2021-01-28T20:04:26.167531Z",
     "iopub.status.idle": "2021-01-28T20:04:26.230248Z",
     "shell.execute_reply": "2021-01-28T20:04:26.229678Z"
    },
    "papermill": {
     "duration": 0.102134,
     "end_time": "2021-01-28T20:04:26.230401",
     "exception": false,
     "start_time": "2021-01-28T20:04:26.128267",
     "status": "completed"
    },
    "tags": []
   },
   "outputs": [],
   "source": [
    "X_train = X_train/255.\n",
    "X_test = X_test/255."
   ]
  },
  {
   "cell_type": "markdown",
   "id": "perfect-summary",
   "metadata": {
    "papermill": {
     "duration": 0.03459,
     "end_time": "2021-01-28T20:04:26.301508",
     "exception": false,
     "start_time": "2021-01-28T20:04:26.266918",
     "status": "completed"
    },
    "tags": []
   },
   "source": [
    "Setup the labels as 1 (when the digit is 3) and 0 (when the digit is 8)"
   ]
  },
  {
   "cell_type": "code",
   "execution_count": 11,
   "id": "personalized-growing",
   "metadata": {
    "execution": {
     "iopub.execute_input": "2021-01-28T20:04:26.394984Z",
     "iopub.status.busy": "2021-01-28T20:04:26.394080Z",
     "iopub.status.idle": "2021-01-28T20:04:26.397965Z",
     "shell.execute_reply": "2021-01-28T20:04:26.398504Z"
    },
    "papermill": {
     "duration": 0.059583,
     "end_time": "2021-01-28T20:04:26.398656",
     "exception": false,
     "start_time": "2021-01-28T20:04:26.339073",
     "status": "completed"
    },
    "tags": []
   },
   "outputs": [],
   "source": [
    "y_train = 1*(y_train==3)\n",
    "y_test = 1*(y_test==3)"
   ]
  },
  {
   "cell_type": "code",
   "execution_count": 12,
   "id": "considered-virgin",
   "metadata": {
    "execution": {
     "iopub.execute_input": "2021-01-28T20:04:26.481275Z",
     "iopub.status.busy": "2021-01-28T20:04:26.479886Z",
     "iopub.status.idle": "2021-01-28T20:04:26.490984Z",
     "shell.execute_reply": "2021-01-28T20:04:26.490424Z"
    },
    "papermill": {
     "duration": 0.056088,
     "end_time": "2021-01-28T20:04:26.491118",
     "exception": false,
     "start_time": "2021-01-28T20:04:26.435030",
     "status": "completed"
    },
    "tags": []
   },
   "outputs": [
    {
     "data": {
      "text/plain": [
       "((11982, 28, 28), (1984, 28, 28))"
      ]
     },
     "execution_count": 12,
     "metadata": {},
     "output_type": "execute_result"
    }
   ],
   "source": [
    "X_train.shape, X_test.shape"
   ]
  },
  {
   "cell_type": "markdown",
   "id": "civilian-mobile",
   "metadata": {
    "papermill": {
     "duration": 0.035573,
     "end_time": "2021-01-28T20:04:26.565456",
     "exception": false,
     "start_time": "2021-01-28T20:04:26.529883",
     "status": "completed"
    },
    "tags": []
   },
   "source": [
    "### Reshape the input data to create a linear array"
   ]
  },
  {
   "cell_type": "code",
   "execution_count": 13,
   "id": "colonial-adams",
   "metadata": {
    "execution": {
     "iopub.execute_input": "2021-01-28T20:04:26.653984Z",
     "iopub.status.busy": "2021-01-28T20:04:26.645089Z",
     "iopub.status.idle": "2021-01-28T20:04:26.657463Z",
     "shell.execute_reply": "2021-01-28T20:04:26.656896Z"
    },
    "papermill": {
     "duration": 0.056503,
     "end_time": "2021-01-28T20:04:26.657599",
     "exception": false,
     "start_time": "2021-01-28T20:04:26.601096",
     "status": "completed"
    },
    "tags": []
   },
   "outputs": [
    {
     "data": {
      "text/plain": [
       "((11982, 784), (1984, 784))"
      ]
     },
     "execution_count": 13,
     "metadata": {},
     "output_type": "execute_result"
    }
   ],
   "source": [
    "X_train = X_train.reshape(X_train.shape[0], -1)\n",
    "X_test = X_test.reshape(X_test.shape[0], -1)\n",
    "X_train.shape, X_test.shape"
   ]
  },
  {
   "cell_type": "markdown",
   "id": "smart-details",
   "metadata": {
    "papermill": {
     "duration": 0.036289,
     "end_time": "2021-01-28T20:04:26.729833",
     "exception": false,
     "start_time": "2021-01-28T20:04:26.693544",
     "status": "completed"
    },
    "tags": []
   },
   "source": [
    "### Importing appropriate functions from 'Kudzu'"
   ]
  },
  {
   "cell_type": "code",
   "execution_count": 14,
   "id": "celtic-trial",
   "metadata": {
    "execution": {
     "iopub.execute_input": "2021-01-28T20:04:26.811028Z",
     "iopub.status.busy": "2021-01-28T20:04:26.810373Z",
     "iopub.status.idle": "2021-01-28T20:04:26.829359Z",
     "shell.execute_reply": "2021-01-28T20:04:26.828788Z"
    },
    "papermill": {
     "duration": 0.062226,
     "end_time": "2021-01-28T20:04:26.829494",
     "exception": false,
     "start_time": "2021-01-28T20:04:26.767268",
     "status": "completed"
    },
    "tags": []
   },
   "outputs": [],
   "source": [
    "from kudzu.layer import Sigmoid\n",
    "from kudzu.layer import Relu\n",
    "from kudzu.layer import Affine, Sigmoid\n",
    "\n",
    "from kudzu.model import Model\n",
    "from kudzu.train import Learner\n",
    "from kudzu.optim import GD\n",
    "from kudzu.data import Data, Dataloader, Sampler\n",
    "\n",
    "from kudzu.callbacks import AccCallback\n",
    "from kudzu.callbacks import ClfCallback\n",
    "\n",
    "from kudzu.loss import MSE"
   ]
  },
  {
   "cell_type": "markdown",
   "id": "coupled-customer",
   "metadata": {
    "papermill": {
     "duration": 0.205197,
     "end_time": "2021-01-28T20:04:27.072503",
     "exception": false,
     "start_time": "2021-01-28T20:04:26.867306",
     "status": "completed"
    },
    "tags": []
   },
   "source": [
    "### Let us create a `Config` class, to store important parameters. \n",
    "This class essentially plays the role of a dictionary."
   ]
  },
  {
   "cell_type": "code",
   "execution_count": 15,
   "id": "young-ceiling",
   "metadata": {
    "execution": {
     "iopub.execute_input": "2021-01-28T20:04:27.724899Z",
     "iopub.status.busy": "2021-01-28T20:04:27.724243Z",
     "iopub.status.idle": "2021-01-28T20:04:27.735522Z",
     "shell.execute_reply": "2021-01-28T20:04:27.734953Z"
    },
    "papermill": {
     "duration": 0.067918,
     "end_time": "2021-01-28T20:04:27.735669",
     "exception": false,
     "start_time": "2021-01-28T20:04:27.667751",
     "status": "completed"
    },
    "tags": []
   },
   "outputs": [],
   "source": [
    "class Config:\n",
    "    pass\n",
    "config = Config()\n",
    "config.lr = 0.001\n",
    "config.num_epochs = 251\n",
    "config.bs = 50"
   ]
  },
  {
   "cell_type": "markdown",
   "id": "according-mandate",
   "metadata": {
    "papermill": {
     "duration": 0.035287,
     "end_time": "2021-01-28T20:04:27.807911",
     "exception": false,
     "start_time": "2021-01-28T20:04:27.772624",
     "status": "completed"
    },
    "tags": []
   },
   "source": [
    "### Initializing data to the variables"
   ]
  },
  {
   "cell_type": "code",
   "execution_count": 16,
   "id": "academic-disposition",
   "metadata": {
    "execution": {
     "iopub.execute_input": "2021-01-28T20:04:27.900952Z",
     "iopub.status.busy": "2021-01-28T20:04:27.900276Z",
     "iopub.status.idle": "2021-01-28T20:04:27.911218Z",
     "shell.execute_reply": "2021-01-28T20:04:27.910633Z"
    },
    "papermill": {
     "duration": 0.064135,
     "end_time": "2021-01-28T20:04:27.911370",
     "exception": false,
     "start_time": "2021-01-28T20:04:27.847235",
     "status": "completed"
    },
    "tags": []
   },
   "outputs": [],
   "source": [
    "data = Data(X_train, y_train.reshape(-1,1))\n",
    "sampler = Sampler(data, config.bs, shuffle=True)\n",
    "\n",
    "dl = Dataloader(data, sampler)\n",
    "\n",
    "opt = GD(config.lr)\n",
    "loss = MSE()"
   ]
  },
  {
   "cell_type": "code",
   "execution_count": 17,
   "id": "featured-commission",
   "metadata": {
    "execution": {
     "iopub.execute_input": "2021-01-28T20:04:27.992667Z",
     "iopub.status.busy": "2021-01-28T20:04:27.992029Z",
     "iopub.status.idle": "2021-01-28T20:04:28.003282Z",
     "shell.execute_reply": "2021-01-28T20:04:28.003917Z"
    },
    "papermill": {
     "duration": 0.054363,
     "end_time": "2021-01-28T20:04:28.004065",
     "exception": false,
     "start_time": "2021-01-28T20:04:27.949702",
     "status": "completed"
    },
    "tags": []
   },
   "outputs": [],
   "source": [
    "training_xdata = X_train\n",
    "testing_xdata = X_test\n",
    "training_ydata = y_train.reshape(-1,1)\n",
    "testing_ydata = y_test.reshape(-1,1)"
   ]
  },
  {
   "cell_type": "markdown",
   "id": "played-safety",
   "metadata": {
    "papermill": {
     "duration": 0.036483,
     "end_time": "2021-01-28T20:04:28.077382",
     "exception": false,
     "start_time": "2021-01-28T20:04:28.040899",
     "status": "completed"
    },
    "tags": []
   },
   "source": [
    "### Running Models with the Training data\n",
    "Details about the network layers:\n",
    "- A first affine layer has 784 inputs and does 100 affine transforms. These are followed by a Relu\n",
    "- A second affine layer has 100 inputs from the 100 activations of the past layer, and does 100 affine transforms. These are followed by a Relu\n",
    "- A third affine layer has 100 activations and does 2 affine transformations to create an embedding for visualization. There is no non-linearity here.\n",
    "- A final \"logistic regression\" which has an affine transform from 2 inputs to 1 output, which is squeezed through a sigmoid.\n",
    "\n",
    "Help taken from Anshuman's Notebook."
   ]
  },
  {
   "cell_type": "code",
   "execution_count": 18,
   "id": "asian-bankruptcy",
   "metadata": {
    "execution": {
     "iopub.execute_input": "2021-01-28T20:04:28.156928Z",
     "iopub.status.busy": "2021-01-28T20:04:28.156277Z",
     "iopub.status.idle": "2021-01-28T20:04:28.174500Z",
     "shell.execute_reply": "2021-01-28T20:04:28.173937Z"
    },
    "papermill": {
     "duration": 0.059529,
     "end_time": "2021-01-28T20:04:28.174640",
     "exception": false,
     "start_time": "2021-01-28T20:04:28.115111",
     "status": "completed"
    },
    "tags": []
   },
   "outputs": [],
   "source": [
    "# layers for the Neural Network\n",
    "layers = [Affine(\"first\", 784, 100), Relu(\"first\"), Affine(\"second\", 100, 100), Relu(\"second\"), Affine(\"third\", 100, 2), Affine(\"final\", 2, 1), Sigmoid(\"final\")]\n",
    "model_nn = Model(layers)\n",
    "\n",
    "# layers for the Logistic Regression\n",
    "layers_lr = [Affine(\"logits\", 784, 1), Sigmoid(\"sigmoid\")]\n",
    "model_lr = Model(layers_lr)"
   ]
  },
  {
   "cell_type": "code",
   "execution_count": 19,
   "id": "removed-butler",
   "metadata": {
    "execution": {
     "iopub.execute_input": "2021-01-28T20:04:28.252815Z",
     "iopub.status.busy": "2021-01-28T20:04:28.252171Z",
     "iopub.status.idle": "2021-01-28T20:04:28.262678Z",
     "shell.execute_reply": "2021-01-28T20:04:28.263281Z"
    },
    "papermill": {
     "duration": 0.054108,
     "end_time": "2021-01-28T20:04:28.263419",
     "exception": false,
     "start_time": "2021-01-28T20:04:28.209311",
     "status": "completed"
    },
    "tags": []
   },
   "outputs": [],
   "source": [
    "# suffix _nn stands for Neural Network.\n",
    "learner_nn = Learner(loss, model_nn, opt, config.num_epochs)\n",
    "acc_nn = ClfCallback(learner_nn, config.bs, training_xdata , testing_xdata, training_ydata, testing_ydata)\n",
    "learner_nn.set_callbacks([acc_nn])"
   ]
  },
  {
   "cell_type": "code",
   "execution_count": 20,
   "id": "conceptual-throw",
   "metadata": {
    "execution": {
     "iopub.execute_input": "2021-01-28T20:04:28.353449Z",
     "iopub.status.busy": "2021-01-28T20:04:28.348674Z",
     "iopub.status.idle": "2021-01-28T20:06:36.310647Z",
     "shell.execute_reply": "2021-01-28T20:06:36.310104Z"
    },
    "papermill": {
     "duration": 128.012199,
     "end_time": "2021-01-28T20:06:36.310797",
     "exception": false,
     "start_time": "2021-01-28T20:04:28.298598",
     "status": "completed"
    },
    "tags": []
   },
   "outputs": [
    {
     "name": "stdout",
     "output_type": "stream",
     "text": [
      "====== Neural Network ======\n"
     ]
    },
    {
     "name": "stdout",
     "output_type": "stream",
     "text": [
      "Epoch 0, Loss 0.2475\n",
      "Training Accuracy: 0.5727, Testing Accuracy: 0.5837\n",
      "\n"
     ]
    },
    {
     "name": "stdout",
     "output_type": "stream",
     "text": [
      "Epoch 10, Loss 0.0962\n",
      "Training Accuracy: 0.9137, Testing Accuracy: 0.9168\n",
      "\n"
     ]
    },
    {
     "name": "stdout",
     "output_type": "stream",
     "text": [
      "Epoch 20, Loss 0.0575\n",
      "Training Accuracy: 0.9387, Testing Accuracy: 0.9435\n",
      "\n"
     ]
    },
    {
     "name": "stdout",
     "output_type": "stream",
     "text": [
      "Epoch 30, Loss 0.0448\n",
      "Training Accuracy: 0.9486, Testing Accuracy: 0.9567\n",
      "\n"
     ]
    },
    {
     "name": "stdout",
     "output_type": "stream",
     "text": [
      "Epoch 40, Loss 0.0386\n",
      "Training Accuracy: 0.9553, Testing Accuracy: 0.9602\n",
      "\n"
     ]
    },
    {
     "name": "stdout",
     "output_type": "stream",
     "text": [
      "Epoch 50, Loss 0.035\n",
      "Training Accuracy: 0.9586, Testing Accuracy: 0.9632\n",
      "\n"
     ]
    },
    {
     "name": "stdout",
     "output_type": "stream",
     "text": [
      "Epoch 60, Loss 0.0325\n",
      "Training Accuracy: 0.9612, Testing Accuracy: 0.9642\n",
      "\n"
     ]
    },
    {
     "name": "stdout",
     "output_type": "stream",
     "text": [
      "Epoch 70, Loss 0.0307\n",
      "Training Accuracy: 0.9630, Testing Accuracy: 0.9657\n",
      "\n"
     ]
    },
    {
     "name": "stdout",
     "output_type": "stream",
     "text": [
      "Epoch 80, Loss 0.0292\n",
      "Training Accuracy: 0.9650, Testing Accuracy: 0.9677\n",
      "\n"
     ]
    },
    {
     "name": "stdout",
     "output_type": "stream",
     "text": [
      "Epoch 90, Loss 0.028\n",
      "Training Accuracy: 0.9668, Testing Accuracy: 0.9698\n",
      "\n"
     ]
    },
    {
     "name": "stdout",
     "output_type": "stream",
     "text": [
      "Epoch 100, Loss 0.027\n",
      "Training Accuracy: 0.9685, Testing Accuracy: 0.9688\n",
      "\n"
     ]
    },
    {
     "name": "stdout",
     "output_type": "stream",
     "text": [
      "Epoch 110, Loss 0.0262\n",
      "Training Accuracy: 0.9699, Testing Accuracy: 0.9708\n",
      "\n"
     ]
    },
    {
     "name": "stdout",
     "output_type": "stream",
     "text": [
      "Epoch 120, Loss 0.0254\n",
      "Training Accuracy: 0.9712, Testing Accuracy: 0.9708\n",
      "\n"
     ]
    },
    {
     "name": "stdout",
     "output_type": "stream",
     "text": [
      "Epoch 130, Loss 0.0248\n",
      "Training Accuracy: 0.9723, Testing Accuracy: 0.9713\n",
      "\n"
     ]
    },
    {
     "name": "stdout",
     "output_type": "stream",
     "text": [
      "Epoch 140, Loss 0.0242\n",
      "Training Accuracy: 0.9725, Testing Accuracy: 0.9708\n",
      "\n"
     ]
    },
    {
     "name": "stdout",
     "output_type": "stream",
     "text": [
      "Epoch 150, Loss 0.0236\n",
      "Training Accuracy: 0.9730, Testing Accuracy: 0.9718\n",
      "\n"
     ]
    },
    {
     "name": "stdout",
     "output_type": "stream",
     "text": [
      "Epoch 160, Loss 0.0231\n",
      "Training Accuracy: 0.9735, Testing Accuracy: 0.9723\n",
      "\n"
     ]
    },
    {
     "name": "stdout",
     "output_type": "stream",
     "text": [
      "Epoch 170, Loss 0.0226\n",
      "Training Accuracy: 0.9740, Testing Accuracy: 0.9718\n",
      "\n"
     ]
    },
    {
     "name": "stdout",
     "output_type": "stream",
     "text": [
      "Epoch 180, Loss 0.0222\n",
      "Training Accuracy: 0.9746, Testing Accuracy: 0.9728\n",
      "\n"
     ]
    },
    {
     "name": "stdout",
     "output_type": "stream",
     "text": [
      "Epoch 190, Loss 0.0218\n",
      "Training Accuracy: 0.9750, Testing Accuracy: 0.9728\n",
      "\n"
     ]
    },
    {
     "name": "stdout",
     "output_type": "stream",
     "text": [
      "Epoch 200, Loss 0.0214\n",
      "Training Accuracy: 0.9756, Testing Accuracy: 0.9728\n",
      "\n"
     ]
    },
    {
     "name": "stdout",
     "output_type": "stream",
     "text": [
      "Epoch 210, Loss 0.021\n",
      "Training Accuracy: 0.9762, Testing Accuracy: 0.9733\n",
      "\n"
     ]
    },
    {
     "name": "stdout",
     "output_type": "stream",
     "text": [
      "Epoch 220, Loss 0.0206\n",
      "Training Accuracy: 0.9767, Testing Accuracy: 0.9728\n",
      "\n"
     ]
    },
    {
     "name": "stdout",
     "output_type": "stream",
     "text": [
      "Epoch 230, Loss 0.0203\n",
      "Training Accuracy: 0.9770, Testing Accuracy: 0.9733\n",
      "\n"
     ]
    },
    {
     "name": "stdout",
     "output_type": "stream",
     "text": [
      "Epoch 240, Loss 0.0199\n",
      "Training Accuracy: 0.9774, Testing Accuracy: 0.9733\n",
      "\n"
     ]
    },
    {
     "name": "stdout",
     "output_type": "stream",
     "text": [
      "Epoch 250, Loss 0.0196\n",
      "Training Accuracy: 0.9777, Testing Accuracy: 0.9723\n",
      "\n"
     ]
    },
    {
     "data": {
      "text/plain": [
       "0.01253707069085853"
      ]
     },
     "execution_count": 20,
     "metadata": {},
     "output_type": "execute_result"
    }
   ],
   "source": [
    "print(\"====== Neural Network ======\")\n",
    "learner_nn.train_loop(dl)"
   ]
  },
  {
   "cell_type": "markdown",
   "id": "competent-suffering",
   "metadata": {
    "papermill": {
     "duration": 0.043687,
     "end_time": "2021-01-28T20:06:36.405154",
     "exception": false,
     "start_time": "2021-01-28T20:06:36.361467",
     "status": "completed"
    },
    "tags": []
   },
   "source": [
    "### Logistic Regression based Implementation."
   ]
  },
  {
   "cell_type": "code",
   "execution_count": 21,
   "id": "qualified-psychiatry",
   "metadata": {
    "execution": {
     "iopub.execute_input": "2021-01-28T20:06:36.504527Z",
     "iopub.status.busy": "2021-01-28T20:06:36.503857Z",
     "iopub.status.idle": "2021-01-28T20:06:36.517316Z",
     "shell.execute_reply": "2021-01-28T20:06:36.516744Z"
    },
    "papermill": {
     "duration": 0.066778,
     "end_time": "2021-01-28T20:06:36.517461",
     "exception": false,
     "start_time": "2021-01-28T20:06:36.450683",
     "status": "completed"
    },
    "tags": []
   },
   "outputs": [],
   "source": [
    "learner_lr = Learner(loss, model_lr, opt, config.num_epochs)\n",
    "acc_lr = ClfCallback(learner_lr, config.bs, training_xdata , testing_xdata, training_ydata, testing_ydata)\n",
    "learner_lr.set_callbacks([acc_lr])"
   ]
  },
  {
   "cell_type": "code",
   "execution_count": 22,
   "id": "average-outside",
   "metadata": {
    "execution": {
     "iopub.execute_input": "2021-01-28T20:06:36.610682Z",
     "iopub.status.busy": "2021-01-28T20:06:36.609559Z",
     "iopub.status.idle": "2021-01-28T20:06:55.167643Z",
     "shell.execute_reply": "2021-01-28T20:06:55.168438Z"
    },
    "papermill": {
     "duration": 18.608024,
     "end_time": "2021-01-28T20:06:55.168606",
     "exception": false,
     "start_time": "2021-01-28T20:06:36.560582",
     "status": "completed"
    },
    "tags": []
   },
   "outputs": [
    {
     "name": "stdout",
     "output_type": "stream",
     "text": [
      "====== Logistic Regression ======\n",
      "Epoch 0, Loss 0.2171\n",
      "Training Accuracy: 0.7804, Testing Accuracy: 0.7933\n",
      "\n"
     ]
    },
    {
     "name": "stdout",
     "output_type": "stream",
     "text": [
      "Epoch 10, Loss 0.0976\n",
      "Training Accuracy: 0.9201, Testing Accuracy: 0.9304\n",
      "\n"
     ]
    },
    {
     "name": "stdout",
     "output_type": "stream",
     "text": [
      "Epoch 20, Loss 0.076\n",
      "Training Accuracy: 0.9337, Testing Accuracy: 0.9420\n",
      "\n"
     ]
    },
    {
     "name": "stdout",
     "output_type": "stream",
     "text": [
      "Epoch 30, Loss 0.066\n",
      "Training Accuracy: 0.9408, Testing Accuracy: 0.9501\n",
      "\n"
     ]
    },
    {
     "name": "stdout",
     "output_type": "stream",
     "text": [
      "Epoch 40, Loss 0.0599\n",
      "Training Accuracy: 0.9449, Testing Accuracy: 0.9536\n",
      "\n"
     ]
    },
    {
     "name": "stdout",
     "output_type": "stream",
     "text": [
      "Epoch 50, Loss 0.0557\n",
      "Training Accuracy: 0.9470, Testing Accuracy: 0.9567\n",
      "\n"
     ]
    },
    {
     "name": "stdout",
     "output_type": "stream",
     "text": [
      "Epoch 60, Loss 0.0527\n",
      "Training Accuracy: 0.9491, Testing Accuracy: 0.9582\n",
      "\n"
     ]
    },
    {
     "name": "stdout",
     "output_type": "stream",
     "text": [
      "Epoch 70, Loss 0.0503\n",
      "Training Accuracy: 0.9510, Testing Accuracy: 0.9597\n",
      "\n"
     ]
    },
    {
     "name": "stdout",
     "output_type": "stream",
     "text": [
      "Epoch 80, Loss 0.0484\n",
      "Training Accuracy: 0.9524, Testing Accuracy: 0.9602\n",
      "\n"
     ]
    },
    {
     "name": "stdout",
     "output_type": "stream",
     "text": [
      "Epoch 90, Loss 0.0468\n",
      "Training Accuracy: 0.9532, Testing Accuracy: 0.9612\n",
      "\n"
     ]
    },
    {
     "name": "stdout",
     "output_type": "stream",
     "text": [
      "Epoch 100, Loss 0.0455\n",
      "Training Accuracy: 0.9538, Testing Accuracy: 0.9617\n",
      "\n"
     ]
    },
    {
     "name": "stdout",
     "output_type": "stream",
     "text": [
      "Epoch 110, Loss 0.0443\n",
      "Training Accuracy: 0.9547, Testing Accuracy: 0.9622\n",
      "\n"
     ]
    },
    {
     "name": "stdout",
     "output_type": "stream",
     "text": [
      "Epoch 120, Loss 0.0433\n",
      "Training Accuracy: 0.9550, Testing Accuracy: 0.9637\n",
      "\n"
     ]
    },
    {
     "name": "stdout",
     "output_type": "stream",
     "text": [
      "Epoch 130, Loss 0.0424\n",
      "Training Accuracy: 0.9556, Testing Accuracy: 0.9637\n",
      "\n"
     ]
    },
    {
     "name": "stdout",
     "output_type": "stream",
     "text": [
      "Epoch 140, Loss 0.0416\n",
      "Training Accuracy: 0.9559, Testing Accuracy: 0.9642\n",
      "\n"
     ]
    },
    {
     "name": "stdout",
     "output_type": "stream",
     "text": [
      "Epoch 150, Loss 0.0409\n",
      "Training Accuracy: 0.9567, Testing Accuracy: 0.9652\n",
      "\n"
     ]
    },
    {
     "name": "stdout",
     "output_type": "stream",
     "text": [
      "Epoch 160, Loss 0.0403\n",
      "Training Accuracy: 0.9572, Testing Accuracy: 0.9657\n",
      "\n"
     ]
    },
    {
     "name": "stdout",
     "output_type": "stream",
     "text": [
      "Epoch 170, Loss 0.0397\n",
      "Training Accuracy: 0.9577, Testing Accuracy: 0.9662\n",
      "\n"
     ]
    },
    {
     "name": "stdout",
     "output_type": "stream",
     "text": [
      "Epoch 180, Loss 0.0392\n",
      "Training Accuracy: 0.9584, Testing Accuracy: 0.9657\n",
      "\n"
     ]
    },
    {
     "name": "stdout",
     "output_type": "stream",
     "text": [
      "Epoch 190, Loss 0.0387\n",
      "Training Accuracy: 0.9586, Testing Accuracy: 0.9652\n",
      "\n"
     ]
    },
    {
     "name": "stdout",
     "output_type": "stream",
     "text": [
      "Epoch 200, Loss 0.0382\n",
      "Training Accuracy: 0.9590, Testing Accuracy: 0.9652\n",
      "\n"
     ]
    },
    {
     "name": "stdout",
     "output_type": "stream",
     "text": [
      "Epoch 210, Loss 0.0378\n",
      "Training Accuracy: 0.9595, Testing Accuracy: 0.9662\n",
      "\n"
     ]
    },
    {
     "name": "stdout",
     "output_type": "stream",
     "text": [
      "Epoch 220, Loss 0.0374\n",
      "Training Accuracy: 0.9597, Testing Accuracy: 0.9662\n",
      "\n"
     ]
    },
    {
     "name": "stdout",
     "output_type": "stream",
     "text": [
      "Epoch 230, Loss 0.037\n",
      "Training Accuracy: 0.9601, Testing Accuracy: 0.9662\n",
      "\n"
     ]
    },
    {
     "name": "stdout",
     "output_type": "stream",
     "text": [
      "Epoch 240, Loss 0.0367\n",
      "Training Accuracy: 0.9604, Testing Accuracy: 0.9672\n",
      "\n"
     ]
    },
    {
     "name": "stdout",
     "output_type": "stream",
     "text": [
      "Epoch 250, Loss 0.0364\n",
      "Training Accuracy: 0.9613, Testing Accuracy: 0.9672\n",
      "\n"
     ]
    },
    {
     "data": {
      "text/plain": [
       "0.034108752249060494"
      ]
     },
     "execution_count": 22,
     "metadata": {},
     "output_type": "execute_result"
    }
   ],
   "source": [
    "print(\"====== Logistic Regression ======\")\n",
    "learner_lr.train_loop(dl)"
   ]
  },
  {
   "cell_type": "markdown",
   "id": "adjusted-possible",
   "metadata": {
    "papermill": {
     "duration": 0.054646,
     "end_time": "2021-01-28T20:06:55.279739",
     "exception": false,
     "start_time": "2021-01-28T20:06:55.225093",
     "status": "completed"
    },
    "tags": []
   },
   "source": [
    "### Comparing results of NN and LR"
   ]
  },
  {
   "cell_type": "code",
   "execution_count": 23,
   "id": "mental-multimedia",
   "metadata": {
    "execution": {
     "iopub.execute_input": "2021-01-28T20:06:55.426272Z",
     "iopub.status.busy": "2021-01-28T20:06:55.410790Z",
     "iopub.status.idle": "2021-01-28T20:06:55.670010Z",
     "shell.execute_reply": "2021-01-28T20:06:55.669449Z"
    },
    "papermill": {
     "duration": 0.335803,
     "end_time": "2021-01-28T20:06:55.670152",
     "exception": false,
     "start_time": "2021-01-28T20:06:55.334349",
     "status": "completed"
    },
    "tags": []
   },
   "outputs": [
    {
     "data": {
      "text/plain": [
       "<matplotlib.legend.Legend at 0x7f1d621e4898>"
      ]
     },
     "execution_count": 23,
     "metadata": {},
     "output_type": "execute_result"
    },
    {
     "data": {
      "image/png": "[encoded data removed]",
      "text/plain": [
       "<Figure size 1080x720 with 1 Axes>"
      ]
     },
     "metadata": {
      "needs_background": "light"
     },
     "output_type": "display_data"
    }
   ],
   "source": [
    "plt.figure(figsize=(15,10))\n",
    "\n",
    "# Neural Network plots\n",
    "plt.plot(acc_nn.accuracies, 'r-', label = \"Training Accuracies - NN\")\n",
    "plt.plot(acc_nn.test_accuracies, 'g-', label = \"Testing Accuracies - NN\")\n",
    "\n",
    "# Logistic Regression plots\n",
    "plt.plot(acc_lr.accuracies, 'k-', label = \"Training Accuracies - LR\")\n",
    "plt.plot(acc_lr.test_accuracies, 'b-', label = \"Testing Accuracies - LR\")\n",
    "\n",
    "plt.ylim(0.8, 1)\n",
    "\n",
    "plt.legend()\n",
    "\n"
   ]
  },
  {
   "cell_type": "markdown",
   "id": "sexual-flesh",
   "metadata": {
    "papermill": {
     "duration": 0.054377,
     "end_time": "2021-01-28T20:06:55.781074",
     "exception": false,
     "start_time": "2021-01-28T20:06:55.726697",
     "status": "completed"
    },
    "tags": []
   },
   "source": [
    "### From the plot, we can observe the following:\n",
    "- Neural Network achieves higher accuracy than the Logistic Regression model.\n",
    "- This apparently, is because of overfitting, i.e. NN captures more noise than data.\n",
    "- Testing accuracy of NN drops below the Training accuracy at higher epochs. This explains the over-fitting on training data.\n",
    "- Logistic Regression gives a reliable accuracy, without the above mentioned problem.\n"
   ]
  },
  {
   "cell_type": "markdown",
   "id": "institutional-pacific",
   "metadata": {
    "papermill": {
     "duration": 0.054048,
     "end_time": "2021-01-28T20:06:55.895534",
     "exception": false,
     "start_time": "2021-01-28T20:06:55.841486",
     "status": "completed"
    },
    "tags": []
   },
   "source": [
    "### Moving till the last but one layer (excluding it).\n",
    "#### Plotting the outputs of this layer of the NN."
   ]
  },
  {
   "cell_type": "code",
   "execution_count": 24,
   "id": "economic-server",
   "metadata": {
    "execution": {
     "iopub.execute_input": "2021-01-28T20:06:56.024894Z",
     "iopub.status.busy": "2021-01-28T20:06:56.024251Z",
     "iopub.status.idle": "2021-01-28T20:06:56.028399Z",
     "shell.execute_reply": "2021-01-28T20:06:56.027866Z"
    },
    "papermill": {
     "duration": 0.078729,
     "end_time": "2021-01-28T20:06:56.028536",
     "exception": false,
     "start_time": "2021-01-28T20:06:55.949807",
     "status": "completed"
    },
    "tags": []
   },
   "outputs": [],
   "source": [
    "model_new = Model(layers[:-2])"
   ]
  },
  {
   "cell_type": "code",
   "execution_count": 25,
   "id": "varied-upgrade",
   "metadata": {
    "execution": {
     "iopub.execute_input": "2021-01-28T20:06:56.157408Z",
     "iopub.status.busy": "2021-01-28T20:06:56.150151Z",
     "iopub.status.idle": "2021-01-28T20:06:56.182218Z",
     "shell.execute_reply": "2021-01-28T20:06:56.183009Z"
    },
    "papermill": {
     "duration": 0.099168,
     "end_time": "2021-01-28T20:06:56.183186",
     "exception": false,
     "start_time": "2021-01-28T20:06:56.084018",
     "status": "completed"
    },
    "tags": []
   },
   "outputs": [],
   "source": [
    "plot_testing = model_new(testing_xdata)"
   ]
  },
  {
   "cell_type": "code",
   "execution_count": 26,
   "id": "specific-handling",
   "metadata": {
    "execution": {
     "iopub.execute_input": "2021-01-28T20:06:56.336449Z",
     "iopub.status.busy": "2021-01-28T20:06:56.318781Z",
     "iopub.status.idle": "2021-01-28T20:06:56.547967Z",
     "shell.execute_reply": "2021-01-28T20:06:56.547373Z"
    },
    "papermill": {
     "duration": 0.30734,
     "end_time": "2021-01-28T20:06:56.548113",
     "exception": false,
     "start_time": "2021-01-28T20:06:56.240773",
     "status": "completed"
    },
    "tags": []
   },
   "outputs": [
    {
     "data": {
      "text/plain": [
       "Text(0.5, 1.0, 'Outputs')"
      ]
     },
     "execution_count": 26,
     "metadata": {},
     "output_type": "execute_result"
    },
    {
     "data": {
      "image/png": "[encoded data removed]",
      "text/plain": [
       "<Figure size 576x504 with 1 Axes>"
      ]
     },
     "metadata": {
      "needs_background": "light"
     },
     "output_type": "display_data"
    }
   ],
   "source": [
    "plt.figure(figsize=(8,7))\n",
    "plt.scatter(plot_testing[:,0], plot_testing[:,1], alpha = 0.1, c = y_test.ravel());\n",
    "plt.title('Outputs')"
   ]
  },
  {
   "cell_type": "markdown",
   "id": "described-knowing",
   "metadata": {
    "papermill": {
     "duration": 0.057347,
     "end_time": "2021-01-28T20:06:56.663853",
     "exception": false,
     "start_time": "2021-01-28T20:06:56.606506",
     "status": "completed"
    },
    "tags": []
   },
   "source": [
    "### Plotting probability contours"
   ]
  },
  {
   "cell_type": "code",
   "execution_count": 27,
   "id": "needed-growing",
   "metadata": {
    "execution": {
     "iopub.execute_input": "2021-01-28T20:06:56.816858Z",
     "iopub.status.busy": "2021-01-28T20:06:56.809318Z",
     "iopub.status.idle": "2021-01-28T20:06:56.819213Z",
     "shell.execute_reply": "2021-01-28T20:06:56.819747Z"
    },
    "papermill": {
     "duration": 0.096996,
     "end_time": "2021-01-28T20:06:56.819909",
     "exception": false,
     "start_time": "2021-01-28T20:06:56.722913",
     "status": "completed"
    },
    "tags": []
   },
   "outputs": [],
   "source": [
    "model_prob = Model(layers[-2:]) "
   ]
  },
  {
   "cell_type": "code",
   "execution_count": 28,
   "id": "introductory-enforcement",
   "metadata": {
    "execution": {
     "iopub.execute_input": "2021-01-28T20:06:56.944919Z",
     "iopub.status.busy": "2021-01-28T20:06:56.944274Z",
     "iopub.status.idle": "2021-01-28T20:06:56.956504Z",
     "shell.execute_reply": "2021-01-28T20:06:56.957012Z"
    },
    "papermill": {
     "duration": 0.078017,
     "end_time": "2021-01-28T20:06:56.957168",
     "exception": false,
     "start_time": "2021-01-28T20:06:56.879151",
     "status": "completed"
    },
    "tags": []
   },
   "outputs": [],
   "source": [
    "# Adjust the x and y ranges according to the above generated plot.\n",
    "x_range = np.linspace(-4, 1, 100) \n",
    "y_range = np.linspace(-6, 6, 100) \n",
    "x_grid, y_grid = np.meshgrid(x_range, y_range) # x_grid and y_grig are of size 100 X 100\n",
    "\n",
    "# converting x_grid and y_grid to continuous arrays\n",
    "x_grid_flat = np.ravel(x_grid)\n",
    "y_grid_flat = np.ravel(y_grid)\n",
    "\n",
    "# The last layer of the current model takes two columns as input. Hence transpose of np.vstack() is required.\n",
    "X = np.vstack((x_grid_flat, y_grid_flat)).T\n",
    "\n",
    "# x_grid and y_grid are of size 100 x 100\n",
    "probability_contour = model_prob(X).reshape(100,100) "
   ]
  },
  {
   "cell_type": "code",
   "execution_count": 29,
   "id": "understood-landing",
   "metadata": {
    "execution": {
     "iopub.execute_input": "2021-01-28T20:06:57.083115Z",
     "iopub.status.busy": "2021-01-28T20:06:57.082458Z",
     "iopub.status.idle": "2021-01-28T20:06:57.363773Z",
     "shell.execute_reply": "2021-01-28T20:06:57.363179Z"
    },
    "papermill": {
     "duration": 0.350141,
     "end_time": "2021-01-28T20:06:57.363926",
     "exception": false,
     "start_time": "2021-01-28T20:06:57.013785",
     "status": "completed"
    },
    "tags": []
   },
   "outputs": [
    {
     "data": {
      "image/png": "[encoded data removed]",
      "text/plain": [
       "<Figure size 720x648 with 1 Axes>"
      ]
     },
     "metadata": {
      "needs_background": "light"
     },
     "output_type": "display_data"
    }
   ],
   "source": [
    "plt.figure(figsize=(10,9))\n",
    "plt.scatter(plot_testing[:,0], plot_testing[:,1], alpha = 0.1, c = y_test.ravel())\n",
    "contours = plt.contour(x_grid,y_grid,probability_contour)\n",
    "plt.title('Probability Contours')\n",
    "plt.clabel(contours, inline = True );"
   ]
  }
 ],
 "metadata": {
  "kernelspec": {
   "display_name": "Python 3",
   "language": "python",
   "name": "python3"
  },
  "language_info": {
   "codemirror_mode": {
    "name": "ipython",
    "version": 3
   },
   "file_extension": ".py",
   "mimetype": "text/x-python",
   "name": "python",
   "nbconvert_exporter": "python",
   "pygments_lexer": "ipython3",
   "version": "3.6.12"
  },
  "papermill": {
   "duration": 157.751381,
   "end_time": "2021-01-28T20:06:57.730550",
   "environment_variables": {},
   "exception": null,
   "input_path": "2020-08-11-NeuralNetwork.ipynb",
   "output_path": "2020-08-11-NeuralNetwork.ipynb",
   "parameters": {},
   "start_time": "2021-01-28T20:04:19.979169",
   "version": "2.1.2"
  }
 },
 "nbformat": 4,
 "nbformat_minor": 5
}