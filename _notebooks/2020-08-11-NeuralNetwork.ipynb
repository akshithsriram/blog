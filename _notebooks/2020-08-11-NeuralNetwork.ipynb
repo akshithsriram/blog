{
 "cells": [
  {
   "cell_type": "markdown",
   "id": "fitted-suggestion",
   "metadata": {
    "papermill": {
     "duration": 0.03684,
     "end_time": "2021-07-20T10:04:56.187596",
     "exception": false,
     "start_time": "2021-07-20T10:04:56.150756",
     "status": "completed"
    },
    "tags": []
   },
   "source": [
    "# \"A Basic Neural Network: Differentiate Hand-Written Digits\"\n",
    "\n",
    "- badges: true\n",
    "- author: Akshith Sriram"
   ]
  },
  {
   "cell_type": "markdown",
   "id": "signal-flexibility",
   "metadata": {
    "papermill": {
     "duration": 0.028421,
     "end_time": "2021-07-20T10:04:56.244964",
     "exception": false,
     "start_time": "2021-07-20T10:04:56.216543",
     "status": "completed"
    },
    "tags": []
   },
   "source": [
    "### Key Objectives:\n",
    "- Building a neural network that differentiates two hand-written digits 3 and 8.\n",
    "- Comparing the results of this Neural Network (NN) to that of a Logistic Regression (LR) model.\n",
    "\n",
    "### Requirements:\n",
    "- 'Kudzu' : A neural network library that was designed during our course by [Univ.AI](www.univ.ai). \n",
    "- MNIST Database\n",
    "\n",
    "If MNIST is not installed, use the command `!pip install mnist` given below.\n",
    "It can be run both from the command line and Jupyter Notebook."
   ]
  },
  {
   "cell_type": "code",
   "execution_count": 1,
   "id": "british-texture",
   "metadata": {
    "execution": {
     "iopub.execute_input": "2021-07-20T10:04:56.316816Z",
     "iopub.status.busy": "2021-07-20T10:04:56.316196Z",
     "iopub.status.idle": "2021-07-20T10:04:57.798809Z",
     "shell.execute_reply": "2021-07-20T10:04:57.797068Z"
    },
    "papermill": {
     "duration": 1.524751,
     "end_time": "2021-07-20T10:04:57.799055",
     "exception": false,
     "start_time": "2021-07-20T10:04:56.274304",
     "status": "completed"
    },
    "tags": []
   },
   "outputs": [
    {
     "name": "stdout",
     "output_type": "stream",
     "text": [
      "Collecting mnist\r\n"
     ]
    },
    {
     "name": "stdout",
     "output_type": "stream",
     "text": [
      "  Downloading mnist-0.2.2-py2.py3-none-any.whl (3.5 kB)\r\n",
      "Requirement already satisfied: numpy in /opt/hostedtoolcache/Python/3.6.14/x64/lib/python3.6/site-packages (from mnist) (1.19.5)\r\n"
     ]
    },
    {
     "name": "stdout",
     "output_type": "stream",
     "text": [
      "Installing collected packages: mnist\r\n",
      "Successfully installed mnist-0.2.2\r\n"
     ]
    }
   ],
   "source": [
    "!pip install mnist "
   ]
  },
  {
   "cell_type": "markdown",
   "id": "stunning-extra",
   "metadata": {
    "papermill": {
     "duration": 0.029503,
     "end_time": "2021-07-20T10:04:57.857783",
     "exception": false,
     "start_time": "2021-07-20T10:04:57.828280",
     "status": "completed"
    },
    "tags": []
   },
   "source": [
    "#### Importing necessary libraries"
   ]
  },
  {
   "cell_type": "code",
   "execution_count": 2,
   "id": "wooden-france",
   "metadata": {
    "execution": {
     "iopub.execute_input": "2021-07-20T10:04:57.928025Z",
     "iopub.status.busy": "2021-07-20T10:04:57.924214Z",
     "iopub.status.idle": "2021-07-20T10:04:58.517916Z",
     "shell.execute_reply": "2021-07-20T10:04:58.517012Z"
    },
    "papermill": {
     "duration": 0.630486,
     "end_time": "2021-07-20T10:04:58.518135",
     "exception": false,
     "start_time": "2021-07-20T10:04:57.887649",
     "status": "completed"
    },
    "tags": []
   },
   "outputs": [],
   "source": [
    "%load_ext autoreload\n",
    "%autoreload 2\n",
    "\n",
    "%matplotlib inline\n",
    "import matplotlib.pyplot as plt\n",
    "\n",
    "import numpy as np\n",
    "import pandas as pd"
   ]
  },
  {
   "cell_type": "markdown",
   "id": "stunning-physics",
   "metadata": {
    "papermill": {
     "duration": 0.034983,
     "end_time": "2021-07-20T10:04:58.584510",
     "exception": false,
     "start_time": "2021-07-20T10:04:58.549527",
     "status": "completed"
    },
    "tags": []
   },
   "source": [
    "### Preparing the Data"
   ]
  },
  {
   "cell_type": "code",
   "execution_count": 3,
   "id": "unauthorized-remainder",
   "metadata": {
    "execution": {
     "iopub.execute_input": "2021-07-20T10:04:58.647392Z",
     "iopub.status.busy": "2021-07-20T10:04:58.646787Z",
     "iopub.status.idle": "2021-07-20T10:04:58.662192Z",
     "shell.execute_reply": "2021-07-20T10:04:58.661068Z"
    },
    "papermill": {
     "duration": 0.04902,
     "end_time": "2021-07-20T10:04:58.662329",
     "exception": false,
     "start_time": "2021-07-20T10:04:58.613309",
     "status": "completed"
    },
    "tags": []
   },
   "outputs": [],
   "source": [
    "import mnist"
   ]
  },
  {
   "cell_type": "code",
   "execution_count": 4,
   "id": "correct-antarctica",
   "metadata": {
    "execution": {
     "iopub.execute_input": "2021-07-20T10:04:58.726877Z",
     "iopub.status.busy": "2021-07-20T10:04:58.724233Z",
     "iopub.status.idle": "2021-07-20T10:09:41.604718Z",
     "shell.execute_reply": "2021-07-20T10:09:41.604203Z"
    },
    "papermill": {
     "duration": 282.913508,
     "end_time": "2021-07-20T10:09:41.604864",
     "exception": false,
     "start_time": "2021-07-20T10:04:58.691356",
     "status": "completed"
    },
    "tags": []
   },
   "outputs": [],
   "source": [
    "train_images = mnist.train_images()\n",
    "train_labels = mnist.train_labels()"
   ]
  },
  {
   "cell_type": "code",
   "execution_count": 5,
   "id": "musical-prospect",
   "metadata": {
    "execution": {
     "iopub.execute_input": "2021-07-20T10:09:41.668264Z",
     "iopub.status.busy": "2021-07-20T10:09:41.667665Z",
     "iopub.status.idle": "2021-07-20T10:09:41.682831Z",
     "shell.execute_reply": "2021-07-20T10:09:41.682390Z"
    },
    "papermill": {
     "duration": 0.048105,
     "end_time": "2021-07-20T10:09:41.682952",
     "exception": false,
     "start_time": "2021-07-20T10:09:41.634847",
     "status": "completed"
    },
    "tags": []
   },
   "outputs": [
    {
     "data": {
      "text/plain": [
       "((60000, 28, 28), (60000,))"
      ]
     },
     "execution_count": 5,
     "metadata": {},
     "output_type": "execute_result"
    }
   ],
   "source": [
    "train_images.shape, train_labels.shape"
   ]
  },
  {
   "cell_type": "code",
   "execution_count": 6,
   "id": "preliminary-elizabeth",
   "metadata": {
    "execution": {
     "iopub.execute_input": "2021-07-20T10:09:41.746738Z",
     "iopub.status.busy": "2021-07-20T10:09:41.746152Z",
     "iopub.status.idle": "2021-07-20T10:10:31.180085Z",
     "shell.execute_reply": "2021-07-20T10:10:31.178702Z"
    },
    "papermill": {
     "duration": 49.468515,
     "end_time": "2021-07-20T10:10:31.180269",
     "exception": false,
     "start_time": "2021-07-20T10:09:41.711754",
     "status": "completed"
    },
    "tags": []
   },
   "outputs": [],
   "source": [
    "test_images = mnist.test_images()\n",
    "test_labels = mnist.test_labels()"
   ]
  },
  {
   "cell_type": "code",
   "execution_count": 7,
   "id": "acknowledged-oxygen",
   "metadata": {
    "execution": {
     "iopub.execute_input": "2021-07-20T10:10:31.246314Z",
     "iopub.status.busy": "2021-07-20T10:10:31.242840Z",
     "iopub.status.idle": "2021-07-20T10:10:31.256877Z",
     "shell.execute_reply": "2021-07-20T10:10:31.256439Z"
    },
    "papermill": {
     "duration": 0.046567,
     "end_time": "2021-07-20T10:10:31.256994",
     "exception": false,
     "start_time": "2021-07-20T10:10:31.210427",
     "status": "completed"
    },
    "tags": []
   },
   "outputs": [
    {
     "data": {
      "text/plain": [
       "((10000, 28, 28), (10000,))"
      ]
     },
     "execution_count": 7,
     "metadata": {},
     "output_type": "execute_result"
    }
   ],
   "source": [
    "test_images.shape, test_labels.shape"
   ]
  },
  {
   "cell_type": "code",
   "execution_count": 8,
   "id": "innovative-organic",
   "metadata": {
    "execution": {
     "iopub.execute_input": "2021-07-20T10:10:31.317828Z",
     "iopub.status.busy": "2021-07-20T10:10:31.317257Z",
     "iopub.status.idle": "2021-07-20T10:10:31.458311Z",
     "shell.execute_reply": "2021-07-20T10:10:31.458755Z"
    },
    "papermill": {
     "duration": 0.173936,
     "end_time": "2021-07-20T10:10:31.458894",
     "exception": false,
     "start_time": "2021-07-20T10:10:31.284958",
     "status": "completed"
    },
    "tags": []
   },
   "outputs": [
    {
     "name": "stdout",
     "output_type": "stream",
     "text": [
      "2\n"
     ]
    },
    {
     "data": {
      "text/plain": [
       "<matplotlib.image.AxesImage at 0x7f46660e1588>"
      ]
     },
     "execution_count": 8,
     "metadata": {},
     "output_type": "execute_result"
    },
    {
     "data": {
      "image/png": "[encoded data removed]",
      "text/plain": [
       "<Figure size 432x288 with 1 Axes>"
      ]
     },
     "metadata": {
      "needs_background": "light"
     },
     "output_type": "display_data"
    }
   ],
   "source": [
    "image_index = 7776 # You may select anything up to 60,000\n",
    "print(train_labels[image_index]) \n",
    "plt.imshow(train_images[image_index], cmap='Greys')"
   ]
  },
  {
   "cell_type": "markdown",
   "id": "facial-modem",
   "metadata": {
    "papermill": {
     "duration": 0.029457,
     "end_time": "2021-07-20T10:10:31.519409",
     "exception": false,
     "start_time": "2021-07-20T10:10:31.489952",
     "status": "completed"
    },
    "tags": []
   },
   "source": [
    "## Filter data to get 3 and 8 out"
   ]
  },
  {
   "cell_type": "code",
   "execution_count": 9,
   "id": "thousand-acquisition",
   "metadata": {
    "execution": {
     "iopub.execute_input": "2021-07-20T10:10:31.582318Z",
     "iopub.status.busy": "2021-07-20T10:10:31.581774Z",
     "iopub.status.idle": "2021-07-20T10:10:31.603222Z",
     "shell.execute_reply": "2021-07-20T10:10:31.602662Z"
    },
    "papermill": {
     "duration": 0.054506,
     "end_time": "2021-07-20T10:10:31.603357",
     "exception": false,
     "start_time": "2021-07-20T10:10:31.548851",
     "status": "completed"
    },
    "tags": []
   },
   "outputs": [],
   "source": [
    "train_filter = np.where((train_labels == 3 ) | (train_labels == 8))\n",
    "test_filter = np.where((test_labels == 3) | (test_labels == 8))\n",
    "X_train, y_train = train_images[train_filter], train_labels[train_filter]\n",
    "X_test, y_test = test_images[test_filter], test_labels[test_filter]"
   ]
  },
  {
   "cell_type": "markdown",
   "id": "ruled-access",
   "metadata": {
    "papermill": {
     "duration": 0.029461,
     "end_time": "2021-07-20T10:10:31.663577",
     "exception": false,
     "start_time": "2021-07-20T10:10:31.634116",
     "status": "completed"
    },
    "tags": []
   },
   "source": [
    "We normalize the pixel values in the 0 to 1 range"
   ]
  },
  {
   "cell_type": "code",
   "execution_count": 10,
   "id": "isolated-denver",
   "metadata": {
    "execution": {
     "iopub.execute_input": "2021-07-20T10:10:31.726839Z",
     "iopub.status.busy": "2021-07-20T10:10:31.726257Z",
     "iopub.status.idle": "2021-07-20T10:10:31.780271Z",
     "shell.execute_reply": "2021-07-20T10:10:31.779430Z"
    },
    "papermill": {
     "duration": 0.087488,
     "end_time": "2021-07-20T10:10:31.780483",
     "exception": false,
     "start_time": "2021-07-20T10:10:31.692995",
     "status": "completed"
    },
    "tags": []
   },
   "outputs": [],
   "source": [
    "X_train = X_train/255.\n",
    "X_test = X_test/255."
   ]
  },
  {
   "cell_type": "markdown",
   "id": "perfect-summary",
   "metadata": {
    "papermill": {
     "duration": 0.028986,
     "end_time": "2021-07-20T10:10:31.839217",
     "exception": false,
     "start_time": "2021-07-20T10:10:31.810231",
     "status": "completed"
    },
    "tags": []
   },
   "source": [
    "Setup the labels as 1 (when the digit is 3) and 0 (when the digit is 8)"
   ]
  },
  {
   "cell_type": "code",
   "execution_count": 11,
   "id": "personalized-growing",
   "metadata": {
    "execution": {
     "iopub.execute_input": "2021-07-20T10:10:31.901863Z",
     "iopub.status.busy": "2021-07-20T10:10:31.901247Z",
     "iopub.status.idle": "2021-07-20T10:10:31.915527Z",
     "shell.execute_reply": "2021-07-20T10:10:31.915087Z"
    },
    "papermill": {
     "duration": 0.047005,
     "end_time": "2021-07-20T10:10:31.915642",
     "exception": false,
     "start_time": "2021-07-20T10:10:31.868637",
     "status": "completed"
    },
    "tags": []
   },
   "outputs": [],
   "source": [
    "y_train = 1*(y_train==3)\n",
    "y_test = 1*(y_test==3)"
   ]
  },
  {
   "cell_type": "code",
   "execution_count": 12,
   "id": "considered-virgin",
   "metadata": {
    "execution": {
     "iopub.execute_input": "2021-07-20T10:10:31.982646Z",
     "iopub.status.busy": "2021-07-20T10:10:31.982071Z",
     "iopub.status.idle": "2021-07-20T10:10:31.994435Z",
     "shell.execute_reply": "2021-07-20T10:10:31.993980Z"
    },
    "papermill": {
     "duration": 0.0496,
     "end_time": "2021-07-20T10:10:31.994545",
     "exception": false,
     "start_time": "2021-07-20T10:10:31.944945",
     "status": "completed"
    },
    "tags": []
   },
   "outputs": [
    {
     "data": {
      "text/plain": [
       "((11982, 28, 28), (1984, 28, 28))"
      ]
     },
     "execution_count": 12,
     "metadata": {},
     "output_type": "execute_result"
    }
   ],
   "source": [
    "X_train.shape, X_test.shape"
   ]
  },
  {
   "cell_type": "markdown",
   "id": "civilian-mobile",
   "metadata": {
    "papermill": {
     "duration": 0.028302,
     "end_time": "2021-07-20T10:10:32.051852",
     "exception": false,
     "start_time": "2021-07-20T10:10:32.023550",
     "status": "completed"
    },
    "tags": []
   },
   "source": [
    "### Reshape the input data to create a linear array"
   ]
  },
  {
   "cell_type": "code",
   "execution_count": 13,
   "id": "colonial-adams",
   "metadata": {
    "execution": {
     "iopub.execute_input": "2021-07-20T10:10:32.113937Z",
     "iopub.status.busy": "2021-07-20T10:10:32.113382Z",
     "iopub.status.idle": "2021-07-20T10:10:32.127173Z",
     "shell.execute_reply": "2021-07-20T10:10:32.126716Z"
    },
    "papermill": {
     "duration": 0.046092,
     "end_time": "2021-07-20T10:10:32.127281",
     "exception": false,
     "start_time": "2021-07-20T10:10:32.081189",
     "status": "completed"
    },
    "tags": []
   },
   "outputs": [
    {
     "data": {
      "text/plain": [
       "((11982, 784), (1984, 784))"
      ]
     },
     "execution_count": 13,
     "metadata": {},
     "output_type": "execute_result"
    }
   ],
   "source": [
    "X_train = X_train.reshape(X_train.shape[0], -1)\n",
    "X_test = X_test.reshape(X_test.shape[0], -1)\n",
    "X_train.shape, X_test.shape"
   ]
  },
  {
   "cell_type": "markdown",
   "id": "smart-details",
   "metadata": {
    "papermill": {
     "duration": 0.029825,
     "end_time": "2021-07-20T10:10:32.185957",
     "exception": false,
     "start_time": "2021-07-20T10:10:32.156132",
     "status": "completed"
    },
    "tags": []
   },
   "source": [
    "### Importing appropriate functions from 'Kudzu'"
   ]
  },
  {
   "cell_type": "code",
   "execution_count": 14,
   "id": "celtic-trial",
   "metadata": {
    "execution": {
     "iopub.execute_input": "2021-07-20T10:10:32.251023Z",
     "iopub.status.busy": "2021-07-20T10:10:32.250472Z",
     "iopub.status.idle": "2021-07-20T10:10:32.269605Z",
     "shell.execute_reply": "2021-07-20T10:10:32.269119Z"
    },
    "papermill": {
     "duration": 0.053614,
     "end_time": "2021-07-20T10:10:32.269721",
     "exception": false,
     "start_time": "2021-07-20T10:10:32.216107",
     "status": "completed"
    },
    "tags": []
   },
   "outputs": [],
   "source": [
    "from kudzu.layer import Sigmoid\n",
    "from kudzu.layer import Relu\n",
    "from kudzu.layer import Affine, Sigmoid\n",
    "\n",
    "from kudzu.model import Model\n",
    "from kudzu.train import Learner\n",
    "from kudzu.optim import GD\n",
    "from kudzu.data import Data, Dataloader, Sampler\n",
    "\n",
    "from kudzu.callbacks import AccCallback\n",
    "from kudzu.callbacks import ClfCallback\n",
    "\n",
    "from kudzu.loss import MSE"
   ]
  },
  {
   "cell_type": "markdown",
   "id": "coupled-customer",
   "metadata": {
    "papermill": {
     "duration": 0.029807,
     "end_time": "2021-07-20T10:10:32.329925",
     "exception": false,
     "start_time": "2021-07-20T10:10:32.300118",
     "status": "completed"
    },
    "tags": []
   },
   "source": [
    "### Let us create a `Config` class, to store important parameters. \n",
    "This class essentially plays the role of a dictionary."
   ]
  },
  {
   "cell_type": "code",
   "execution_count": 15,
   "id": "young-ceiling",
   "metadata": {
    "execution": {
     "iopub.execute_input": "2021-07-20T10:10:32.393078Z",
     "iopub.status.busy": "2021-07-20T10:10:32.392590Z",
     "iopub.status.idle": "2021-07-20T10:10:32.405073Z",
     "shell.execute_reply": "2021-07-20T10:10:32.404664Z"
    },
    "papermill": {
     "duration": 0.045863,
     "end_time": "2021-07-20T10:10:32.405173",
     "exception": false,
     "start_time": "2021-07-20T10:10:32.359310",
     "status": "completed"
    },
    "tags": []
   },
   "outputs": [],
   "source": [
    "class Config:\n",
    "    pass\n",
    "config = Config()\n",
    "config.lr = 0.001\n",
    "config.num_epochs = 251\n",
    "config.bs = 50"
   ]
  },
  {
   "cell_type": "markdown",
   "id": "according-mandate",
   "metadata": {
    "papermill": {
     "duration": 0.030326,
     "end_time": "2021-07-20T10:10:32.464658",
     "exception": false,
     "start_time": "2021-07-20T10:10:32.434332",
     "status": "completed"
    },
    "tags": []
   },
   "source": [
    "### Initializing data to the variables"
   ]
  },
  {
   "cell_type": "code",
   "execution_count": 16,
   "id": "academic-disposition",
   "metadata": {
    "execution": {
     "iopub.execute_input": "2021-07-20T10:10:32.529176Z",
     "iopub.status.busy": "2021-07-20T10:10:32.528694Z",
     "iopub.status.idle": "2021-07-20T10:10:32.543775Z",
     "shell.execute_reply": "2021-07-20T10:10:32.543339Z"
    },
    "papermill": {
     "duration": 0.049545,
     "end_time": "2021-07-20T10:10:32.543889",
     "exception": false,
     "start_time": "2021-07-20T10:10:32.494344",
     "status": "completed"
    },
    "tags": []
   },
   "outputs": [],
   "source": [
    "data = Data(X_train, y_train.reshape(-1,1))\n",
    "sampler = Sampler(data, config.bs, shuffle=True)\n",
    "\n",
    "dl = Dataloader(data, sampler)\n",
    "\n",
    "opt = GD(config.lr)\n",
    "loss = MSE()"
   ]
  },
  {
   "cell_type": "code",
   "execution_count": 17,
   "id": "featured-commission",
   "metadata": {
    "execution": {
     "iopub.execute_input": "2021-07-20T10:10:32.606271Z",
     "iopub.status.busy": "2021-07-20T10:10:32.605732Z",
     "iopub.status.idle": "2021-07-20T10:10:32.617585Z",
     "shell.execute_reply": "2021-07-20T10:10:32.618089Z"
    },
    "papermill": {
     "duration": 0.045918,
     "end_time": "2021-07-20T10:10:32.618228",
     "exception": false,
     "start_time": "2021-07-20T10:10:32.572310",
     "status": "completed"
    },
    "tags": []
   },
   "outputs": [],
   "source": [
    "training_xdata = X_train\n",
    "testing_xdata = X_test\n",
    "training_ydata = y_train.reshape(-1,1)\n",
    "testing_ydata = y_test.reshape(-1,1)"
   ]
  },
  {
   "cell_type": "markdown",
   "id": "played-safety",
   "metadata": {
    "papermill": {
     "duration": 0.029943,
     "end_time": "2021-07-20T10:10:32.676712",
     "exception": false,
     "start_time": "2021-07-20T10:10:32.646769",
     "status": "completed"
    },
    "tags": []
   },
   "source": [
    "### Running Models with the Training data\n",
    "Details about the network layers:\n",
    "- A first affine layer has 784 inputs and does 100 affine transforms. These are followed by a Relu\n",
    "- A second affine layer has 100 inputs from the 100 activations of the past layer, and does 100 affine transforms. These are followed by a Relu\n",
    "- A third affine layer has 100 activations and does 2 affine transformations to create an embedding for visualization. There is no non-linearity here.\n",
    "- A final \"logistic regression\" which has an affine transform from 2 inputs to 1 output, which is squeezed through a sigmoid.\n",
    "\n",
    "Help taken from Anshuman's Notebook."
   ]
  },
  {
   "cell_type": "code",
   "execution_count": 18,
   "id": "asian-bankruptcy",
   "metadata": {
    "execution": {
     "iopub.execute_input": "2021-07-20T10:10:32.739572Z",
     "iopub.status.busy": "2021-07-20T10:10:32.739047Z",
     "iopub.status.idle": "2021-07-20T10:10:32.754657Z",
     "shell.execute_reply": "2021-07-20T10:10:32.755136Z"
    },
    "papermill": {
     "duration": 0.048981,
     "end_time": "2021-07-20T10:10:32.755268",
     "exception": false,
     "start_time": "2021-07-20T10:10:32.706287",
     "status": "completed"
    },
    "tags": []
   },
   "outputs": [],
   "source": [
    "# layers for the Neural Network\n",
    "layers = [Affine(\"first\", 784, 100), Relu(\"first\"), Affine(\"second\", 100, 100), Relu(\"second\"), Affine(\"third\", 100, 2), Affine(\"final\", 2, 1), Sigmoid(\"final\")]\n",
    "model_nn = Model(layers)\n",
    "\n",
    "# layers for the Logistic Regression\n",
    "layers_lr = [Affine(\"logits\", 784, 1), Sigmoid(\"sigmoid\")]\n",
    "model_lr = Model(layers_lr)"
   ]
  },
  {
   "cell_type": "code",
   "execution_count": 19,
   "id": "removed-butler",
   "metadata": {
    "execution": {
     "iopub.execute_input": "2021-07-20T10:10:32.815683Z",
     "iopub.status.busy": "2021-07-20T10:10:32.815219Z",
     "iopub.status.idle": "2021-07-20T10:10:32.827823Z",
     "shell.execute_reply": "2021-07-20T10:10:32.828280Z"
    },
    "papermill": {
     "duration": 0.04478,
     "end_time": "2021-07-20T10:10:32.828396",
     "exception": false,
     "start_time": "2021-07-20T10:10:32.783616",
     "status": "completed"
    },
    "tags": []
   },
   "outputs": [],
   "source": [
    "# suffix _nn stands for Neural Network.\n",
    "learner_nn = Learner(loss, model_nn, opt, config.num_epochs)\n",
    "acc_nn = ClfCallback(learner_nn, config.bs, training_xdata , testing_xdata, training_ydata, testing_ydata)\n",
    "learner_nn.set_callbacks([acc_nn])"
   ]
  },
  {
   "cell_type": "code",
   "execution_count": 20,
   "id": "conceptual-throw",
   "metadata": {
    "execution": {
     "iopub.execute_input": "2021-07-20T10:10:32.890360Z",
     "iopub.status.busy": "2021-07-20T10:10:32.889868Z",
     "iopub.status.idle": "2021-07-20T10:11:58.471543Z",
     "shell.execute_reply": "2021-07-20T10:11:58.472347Z"
    },
    "papermill": {
     "duration": 85.616749,
     "end_time": "2021-07-20T10:11:58.472507",
     "exception": false,
     "start_time": "2021-07-20T10:10:32.855758",
     "status": "completed"
    },
    "tags": []
   },
   "outputs": [
    {
     "name": "stdout",
     "output_type": "stream",
     "text": [
      "====== Neural Network ======\n"
     ]
    },
    {
     "name": "stdout",
     "output_type": "stream",
     "text": [
      "Epoch 0, Loss 0.2505\n",
      "Training Accuracy: 0.5117, Testing Accuracy: 0.5091\n",
      "\n"
     ]
    },
    {
     "name": "stdout",
     "output_type": "stream",
     "text": [
      "Epoch 10, Loss 0.2479\n",
      "Training Accuracy: 0.5118, Testing Accuracy: 0.5086\n",
      "\n"
     ]
    },
    {
     "name": "stdout",
     "output_type": "stream",
     "text": [
      "Epoch 20, Loss 0.2403\n",
      "Training Accuracy: 0.5371, Testing Accuracy: 0.5378\n",
      "\n"
     ]
    },
    {
     "name": "stdout",
     "output_type": "stream",
     "text": [
      "Epoch 30, Loss 0.2031\n",
      "Training Accuracy: 0.8232, Testing Accuracy: 0.8160\n",
      "\n"
     ]
    },
    {
     "name": "stdout",
     "output_type": "stream",
     "text": [
      "Epoch 40, Loss 0.1043\n",
      "Training Accuracy: 0.9120, Testing Accuracy: 0.9214\n",
      "\n"
     ]
    },
    {
     "name": "stdout",
     "output_type": "stream",
     "text": [
      "Epoch 50, Loss 0.0633\n",
      "Training Accuracy: 0.9321, Testing Accuracy: 0.9456\n",
      "\n"
     ]
    },
    {
     "name": "stdout",
     "output_type": "stream",
     "text": [
      "Epoch 60, Loss 0.0487\n",
      "Training Accuracy: 0.9445, Testing Accuracy: 0.9561\n",
      "\n"
     ]
    },
    {
     "name": "stdout",
     "output_type": "stream",
     "text": [
      "Epoch 70, Loss 0.0416\n",
      "Training Accuracy: 0.9503, Testing Accuracy: 0.9617\n",
      "\n"
     ]
    },
    {
     "name": "stdout",
     "output_type": "stream",
     "text": [
      "Epoch 80, Loss 0.0373\n",
      "Training Accuracy: 0.9563, Testing Accuracy: 0.9642\n",
      "\n"
     ]
    },
    {
     "name": "stdout",
     "output_type": "stream",
     "text": [
      "Epoch 90, Loss 0.0345\n",
      "Training Accuracy: 0.9588, Testing Accuracy: 0.9657\n",
      "\n"
     ]
    },
    {
     "name": "stdout",
     "output_type": "stream",
     "text": [
      "Epoch 100, Loss 0.0325\n",
      "Training Accuracy: 0.9612, Testing Accuracy: 0.9672\n",
      "\n"
     ]
    },
    {
     "name": "stdout",
     "output_type": "stream",
     "text": [
      "Epoch 110, Loss 0.0309\n",
      "Training Accuracy: 0.9629, Testing Accuracy: 0.9682\n",
      "\n"
     ]
    },
    {
     "name": "stdout",
     "output_type": "stream",
     "text": [
      "Epoch 120, Loss 0.0296\n",
      "Training Accuracy: 0.9641, Testing Accuracy: 0.9688\n",
      "\n"
     ]
    },
    {
     "name": "stdout",
     "output_type": "stream",
     "text": [
      "Epoch 130, Loss 0.0285\n",
      "Training Accuracy: 0.9654, Testing Accuracy: 0.9688\n",
      "\n"
     ]
    },
    {
     "name": "stdout",
     "output_type": "stream",
     "text": [
      "Epoch 140, Loss 0.0275\n",
      "Training Accuracy: 0.9659, Testing Accuracy: 0.9688\n",
      "\n"
     ]
    },
    {
     "name": "stdout",
     "output_type": "stream",
     "text": [
      "Epoch 150, Loss 0.0267\n",
      "Training Accuracy: 0.9670, Testing Accuracy: 0.9693\n",
      "\n"
     ]
    },
    {
     "name": "stdout",
     "output_type": "stream",
     "text": [
      "Epoch 160, Loss 0.026\n",
      "Training Accuracy: 0.9685, Testing Accuracy: 0.9693\n",
      "\n"
     ]
    },
    {
     "name": "stdout",
     "output_type": "stream",
     "text": [
      "Epoch 170, Loss 0.0253\n",
      "Training Accuracy: 0.9693, Testing Accuracy: 0.9688\n",
      "\n"
     ]
    },
    {
     "name": "stdout",
     "output_type": "stream",
     "text": [
      "Epoch 180, Loss 0.0247\n",
      "Training Accuracy: 0.9705, Testing Accuracy: 0.9688\n",
      "\n"
     ]
    },
    {
     "name": "stdout",
     "output_type": "stream",
     "text": [
      "Epoch 190, Loss 0.0241\n",
      "Training Accuracy: 0.9710, Testing Accuracy: 0.9698\n",
      "\n"
     ]
    },
    {
     "name": "stdout",
     "output_type": "stream",
     "text": [
      "Epoch 200, Loss 0.0235\n",
      "Training Accuracy: 0.9715, Testing Accuracy: 0.9708\n",
      "\n"
     ]
    },
    {
     "name": "stdout",
     "output_type": "stream",
     "text": [
      "Epoch 210, Loss 0.023\n",
      "Training Accuracy: 0.9720, Testing Accuracy: 0.9713\n",
      "\n"
     ]
    },
    {
     "name": "stdout",
     "output_type": "stream",
     "text": [
      "Epoch 220, Loss 0.0225\n",
      "Training Accuracy: 0.9729, Testing Accuracy: 0.9713\n",
      "\n"
     ]
    },
    {
     "name": "stdout",
     "output_type": "stream",
     "text": [
      "Epoch 230, Loss 0.0221\n",
      "Training Accuracy: 0.9736, Testing Accuracy: 0.9713\n",
      "\n"
     ]
    },
    {
     "name": "stdout",
     "output_type": "stream",
     "text": [
      "Epoch 240, Loss 0.0216\n",
      "Training Accuracy: 0.9743, Testing Accuracy: 0.9713\n",
      "\n"
     ]
    },
    {
     "name": "stdout",
     "output_type": "stream",
     "text": [
      "Epoch 250, Loss 0.0212\n",
      "Training Accuracy: 0.9748, Testing Accuracy: 0.9713\n",
      "\n"
     ]
    },
    {
     "data": {
      "text/plain": [
       "0.04156789857877362"
      ]
     },
     "execution_count": 20,
     "metadata": {},
     "output_type": "execute_result"
    }
   ],
   "source": [
    "print(\"====== Neural Network ======\")\n",
    "learner_nn.train_loop(dl)"
   ]
  },
  {
   "cell_type": "markdown",
   "id": "competent-suffering",
   "metadata": {
    "papermill": {
     "duration": 0.038833,
     "end_time": "2021-07-20T10:11:58.550799",
     "exception": false,
     "start_time": "2021-07-20T10:11:58.511966",
     "status": "completed"
    },
    "tags": []
   },
   "source": [
    "### Logistic Regression based Implementation."
   ]
  },
  {
   "cell_type": "code",
   "execution_count": 21,
   "id": "qualified-psychiatry",
   "metadata": {
    "execution": {
     "iopub.execute_input": "2021-07-20T10:11:58.643549Z",
     "iopub.status.busy": "2021-07-20T10:11:58.642424Z",
     "iopub.status.idle": "2021-07-20T10:11:58.644431Z",
     "shell.execute_reply": "2021-07-20T10:11:58.644870Z"
    },
    "papermill": {
     "duration": 0.055408,
     "end_time": "2021-07-20T10:11:58.645007",
     "exception": false,
     "start_time": "2021-07-20T10:11:58.589599",
     "status": "completed"
    },
    "tags": []
   },
   "outputs": [],
   "source": [
    "learner_lr = Learner(loss, model_lr, opt, config.num_epochs)\n",
    "acc_lr = ClfCallback(learner_lr, config.bs, training_xdata , testing_xdata, training_ydata, testing_ydata)\n",
    "learner_lr.set_callbacks([acc_lr])"
   ]
  },
  {
   "cell_type": "code",
   "execution_count": 22,
   "id": "average-outside",
   "metadata": {
    "execution": {
     "iopub.execute_input": "2021-07-20T10:11:58.728847Z",
     "iopub.status.busy": "2021-07-20T10:11:58.728252Z",
     "iopub.status.idle": "2021-07-20T10:12:13.067432Z",
     "shell.execute_reply": "2021-07-20T10:12:13.067947Z"
    },
    "papermill": {
     "duration": 14.383949,
     "end_time": "2021-07-20T10:12:13.068086",
     "exception": false,
     "start_time": "2021-07-20T10:11:58.684137",
     "status": "completed"
    },
    "tags": []
   },
   "outputs": [
    {
     "name": "stdout",
     "output_type": "stream",
     "text": [
      "====== Logistic Regression ======\n",
      "Epoch 0, Loss 0.2497\n",
      "Training Accuracy: 0.6555, Testing Accuracy: 0.6482\n",
      "\n"
     ]
    },
    {
     "name": "stdout",
     "output_type": "stream",
     "text": [
      "Epoch 10, Loss 0.1036\n",
      "Training Accuracy: 0.9135, Testing Accuracy: 0.9224\n",
      "\n"
     ]
    },
    {
     "name": "stdout",
     "output_type": "stream",
     "text": [
      "Epoch 20, Loss 0.0797\n",
      "Training Accuracy: 0.9276, Testing Accuracy: 0.9385\n",
      "\n"
     ]
    },
    {
     "name": "stdout",
     "output_type": "stream",
     "text": [
      "Epoch 30, Loss 0.0687\n",
      "Training Accuracy: 0.9369, Testing Accuracy: 0.9471\n",
      "\n"
     ]
    },
    {
     "name": "stdout",
     "output_type": "stream",
     "text": [
      "Epoch 40, Loss 0.0621\n",
      "Training Accuracy: 0.9422, Testing Accuracy: 0.9536\n",
      "\n"
     ]
    },
    {
     "name": "stdout",
     "output_type": "stream",
     "text": [
      "Epoch 50, Loss 0.0575\n",
      "Training Accuracy: 0.9448, Testing Accuracy: 0.9556\n",
      "\n"
     ]
    },
    {
     "name": "stdout",
     "output_type": "stream",
     "text": [
      "Epoch 60, Loss 0.0542\n",
      "Training Accuracy: 0.9473, Testing Accuracy: 0.9551\n",
      "\n"
     ]
    },
    {
     "name": "stdout",
     "output_type": "stream",
     "text": [
      "Epoch 70, Loss 0.0516\n",
      "Training Accuracy: 0.9494, Testing Accuracy: 0.9582\n",
      "\n"
     ]
    },
    {
     "name": "stdout",
     "output_type": "stream",
     "text": [
      "Epoch 80, Loss 0.0495\n",
      "Training Accuracy: 0.9507, Testing Accuracy: 0.9587\n",
      "\n"
     ]
    },
    {
     "name": "stdout",
     "output_type": "stream",
     "text": [
      "Epoch 90, Loss 0.0478\n",
      "Training Accuracy: 0.9518, Testing Accuracy: 0.9592\n",
      "\n"
     ]
    },
    {
     "name": "stdout",
     "output_type": "stream",
     "text": [
      "Epoch 100, Loss 0.0463\n",
      "Training Accuracy: 0.9533, Testing Accuracy: 0.9602\n",
      "\n"
     ]
    },
    {
     "name": "stdout",
     "output_type": "stream",
     "text": [
      "Epoch 110, Loss 0.0451\n",
      "Training Accuracy: 0.9545, Testing Accuracy: 0.9607\n",
      "\n"
     ]
    },
    {
     "name": "stdout",
     "output_type": "stream",
     "text": [
      "Epoch 120, Loss 0.044\n",
      "Training Accuracy: 0.9548, Testing Accuracy: 0.9622\n",
      "\n"
     ]
    },
    {
     "name": "stdout",
     "output_type": "stream",
     "text": [
      "Epoch 130, Loss 0.0431\n",
      "Training Accuracy: 0.9555, Testing Accuracy: 0.9622\n",
      "\n"
     ]
    },
    {
     "name": "stdout",
     "output_type": "stream",
     "text": [
      "Epoch 140, Loss 0.0422\n",
      "Training Accuracy: 0.9563, Testing Accuracy: 0.9627\n",
      "\n"
     ]
    },
    {
     "name": "stdout",
     "output_type": "stream",
     "text": [
      "Epoch 150, Loss 0.0415\n",
      "Training Accuracy: 0.9572, Testing Accuracy: 0.9632\n",
      "\n"
     ]
    },
    {
     "name": "stdout",
     "output_type": "stream",
     "text": [
      "Epoch 160, Loss 0.0408\n",
      "Training Accuracy: 0.9579, Testing Accuracy: 0.9637\n",
      "\n"
     ]
    },
    {
     "name": "stdout",
     "output_type": "stream",
     "text": [
      "Epoch 170, Loss 0.0402\n",
      "Training Accuracy: 0.9581, Testing Accuracy: 0.9647\n",
      "\n"
     ]
    },
    {
     "name": "stdout",
     "output_type": "stream",
     "text": [
      "Epoch 180, Loss 0.0396\n",
      "Training Accuracy: 0.9587, Testing Accuracy: 0.9652\n",
      "\n"
     ]
    },
    {
     "name": "stdout",
     "output_type": "stream",
     "text": [
      "Epoch 190, Loss 0.0391\n",
      "Training Accuracy: 0.9589, Testing Accuracy: 0.9652\n",
      "\n"
     ]
    },
    {
     "name": "stdout",
     "output_type": "stream",
     "text": [
      "Epoch 200, Loss 0.0386\n",
      "Training Accuracy: 0.9593, Testing Accuracy: 0.9652\n",
      "\n"
     ]
    },
    {
     "name": "stdout",
     "output_type": "stream",
     "text": [
      "Epoch 210, Loss 0.0382\n",
      "Training Accuracy: 0.9599, Testing Accuracy: 0.9657\n",
      "\n"
     ]
    },
    {
     "name": "stdout",
     "output_type": "stream",
     "text": [
      "Epoch 220, Loss 0.0377\n",
      "Training Accuracy: 0.9601, Testing Accuracy: 0.9662\n",
      "\n"
     ]
    },
    {
     "name": "stdout",
     "output_type": "stream",
     "text": [
      "Epoch 230, Loss 0.0373\n",
      "Training Accuracy: 0.9604, Testing Accuracy: 0.9662\n",
      "\n"
     ]
    },
    {
     "name": "stdout",
     "output_type": "stream",
     "text": [
      "Epoch 240, Loss 0.037\n",
      "Training Accuracy: 0.9609, Testing Accuracy: 0.9672\n",
      "\n"
     ]
    },
    {
     "name": "stdout",
     "output_type": "stream",
     "text": [
      "Epoch 250, Loss 0.0366\n",
      "Training Accuracy: 0.9610, Testing Accuracy: 0.9672\n",
      "\n"
     ]
    },
    {
     "data": {
      "text/plain": [
       "0.05113391485332368"
      ]
     },
     "execution_count": 22,
     "metadata": {},
     "output_type": "execute_result"
    }
   ],
   "source": [
    "print(\"====== Logistic Regression ======\")\n",
    "learner_lr.train_loop(dl)"
   ]
  },
  {
   "cell_type": "markdown",
   "id": "adjusted-possible",
   "metadata": {
    "papermill": {
     "duration": 0.045827,
     "end_time": "2021-07-20T10:12:13.163748",
     "exception": false,
     "start_time": "2021-07-20T10:12:13.117921",
     "status": "completed"
    },
    "tags": []
   },
   "source": [
    "### Comparing results of NN and LR"
   ]
  },
  {
   "cell_type": "code",
   "execution_count": 23,
   "id": "mental-multimedia",
   "metadata": {
    "execution": {
     "iopub.execute_input": "2021-07-20T10:12:13.265020Z",
     "iopub.status.busy": "2021-07-20T10:12:13.264432Z",
     "iopub.status.idle": "2021-07-20T10:12:13.512789Z",
     "shell.execute_reply": "2021-07-20T10:12:13.512158Z"
    },
    "papermill": {
     "duration": 0.304554,
     "end_time": "2021-07-20T10:12:13.512893",
     "exception": false,
     "start_time": "2021-07-20T10:12:13.208339",
     "status": "completed"
    },
    "tags": []
   },
   "outputs": [
    {
     "data": {
      "text/plain": [
       "<matplotlib.legend.Legend at 0x7f465dc45160>"
      ]
     },
     "execution_count": 23,
     "metadata": {},
     "output_type": "execute_result"
    },
    {
     "data": {
      "image/png": "[encoded data removed]",
      "text/plain": [
       "<Figure size 1080x720 with 1 Axes>"
      ]
     },
     "metadata": {
      "needs_background": "light"
     },
     "output_type": "display_data"
    }
   ],
   "source": [
    "plt.figure(figsize=(15,10))\n",
    "\n",
    "# Neural Network plots\n",
    "plt.plot(acc_nn.accuracies, 'r-', label = \"Training Accuracies - NN\")\n",
    "plt.plot(acc_nn.test_accuracies, 'g-', label = \"Testing Accuracies - NN\")\n",
    "\n",
    "# Logistic Regression plots\n",
    "plt.plot(acc_lr.accuracies, 'k-', label = \"Training Accuracies - LR\")\n",
    "plt.plot(acc_lr.test_accuracies, 'b-', label = \"Testing Accuracies - LR\")\n",
    "\n",
    "plt.ylim(0.8, 1)\n",
    "\n",
    "plt.legend()\n",
    "\n"
   ]
  },
  {
   "cell_type": "markdown",
   "id": "sexual-flesh",
   "metadata": {
    "papermill": {
     "duration": 0.042051,
     "end_time": "2021-07-20T10:12:13.601760",
     "exception": false,
     "start_time": "2021-07-20T10:12:13.559709",
     "status": "completed"
    },
    "tags": []
   },
   "source": [
    "### From the plot, we can observe the following:\n",
    "- Neural Network achieves higher accuracy than the Logistic Regression model.\n",
    "- This apparently, is because of overfitting, i.e. NN captures more noise than data.\n",
    "- Testing accuracy of NN drops below the Training accuracy at higher epochs. This explains the over-fitting on training data.\n",
    "- Logistic Regression gives a reliable accuracy, without the above mentioned problem.\n"
   ]
  },
  {
   "cell_type": "markdown",
   "id": "institutional-pacific",
   "metadata": {
    "papermill": {
     "duration": 0.046072,
     "end_time": "2021-07-20T10:12:13.690348",
     "exception": false,
     "start_time": "2021-07-20T10:12:13.644276",
     "status": "completed"
    },
    "tags": []
   },
   "source": [
    "### Moving till the last but one layer (excluding it).\n",
    "#### Plotting the outputs of this layer of the NN."
   ]
  },
  {
   "cell_type": "code",
   "execution_count": 24,
   "id": "economic-server",
   "metadata": {
    "execution": {
     "iopub.execute_input": "2021-07-20T10:12:13.794455Z",
     "iopub.status.busy": "2021-07-20T10:12:13.791256Z",
     "iopub.status.idle": "2021-07-20T10:12:13.803885Z",
     "shell.execute_reply": "2021-07-20T10:12:13.803396Z"
    },
    "papermill": {
     "duration": 0.066241,
     "end_time": "2021-07-20T10:12:13.804002",
     "exception": false,
     "start_time": "2021-07-20T10:12:13.737761",
     "status": "completed"
    },
    "tags": []
   },
   "outputs": [],
   "source": [
    "model_new = Model(layers[:-2])"
   ]
  },
  {
   "cell_type": "code",
   "execution_count": 25,
   "id": "varied-upgrade",
   "metadata": {
    "execution": {
     "iopub.execute_input": "2021-07-20T10:12:13.925823Z",
     "iopub.status.busy": "2021-07-20T10:12:13.920554Z",
     "iopub.status.idle": "2021-07-20T10:12:13.942787Z",
     "shell.execute_reply": "2021-07-20T10:12:13.944607Z"
    },
    "papermill": {
     "duration": 0.096065,
     "end_time": "2021-07-20T10:12:13.944751",
     "exception": false,
     "start_time": "2021-07-20T10:12:13.848686",
     "status": "completed"
    },
    "tags": []
   },
   "outputs": [],
   "source": [
    "plot_testing = model_new(testing_xdata)"
   ]
  },
  {
   "cell_type": "code",
   "execution_count": 26,
   "id": "specific-handling",
   "metadata": {
    "execution": {
     "iopub.execute_input": "2021-07-20T10:12:14.063806Z",
     "iopub.status.busy": "2021-07-20T10:12:14.062786Z",
     "iopub.status.idle": "2021-07-20T10:12:14.273118Z",
     "shell.execute_reply": "2021-07-20T10:12:14.273552Z"
    },
    "papermill": {
     "duration": 0.279466,
     "end_time": "2021-07-20T10:12:14.273710",
     "exception": false,
     "start_time": "2021-07-20T10:12:13.994244",
     "status": "completed"
    },
    "tags": []
   },
   "outputs": [
    {
     "data": {
      "text/plain": [
       "Text(0.5, 1.0, 'Outputs')"
      ]
     },
     "execution_count": 26,
     "metadata": {},
     "output_type": "execute_result"
    },
    {
     "data": {
      "image/png": "[encoded data removed]",
      "text/plain": [
       "<Figure size 576x504 with 1 Axes>"
      ]
     },
     "metadata": {
      "needs_background": "light"
     },
     "output_type": "display_data"
    }
   ],
   "source": [
    "plt.figure(figsize=(8,7))\n",
    "plt.scatter(plot_testing[:,0], plot_testing[:,1], alpha = 0.1, c = y_test.ravel());\n",
    "plt.title('Outputs')"
   ]
  },
  {
   "cell_type": "markdown",
   "id": "described-knowing",
   "metadata": {
    "papermill": {
     "duration": 0.048475,
     "end_time": "2021-07-20T10:12:14.371935",
     "exception": false,
     "start_time": "2021-07-20T10:12:14.323460",
     "status": "completed"
    },
    "tags": []
   },
   "source": [
    "### Plotting probability contours"
   ]
  },
  {
   "cell_type": "code",
   "execution_count": 27,
   "id": "needed-growing",
   "metadata": {
    "execution": {
     "iopub.execute_input": "2021-07-20T10:12:14.473976Z",
     "iopub.status.busy": "2021-07-20T10:12:14.473462Z",
     "iopub.status.idle": "2021-07-20T10:12:14.488889Z",
     "shell.execute_reply": "2021-07-20T10:12:14.489385Z"
    },
    "papermill": {
     "duration": 0.068636,
     "end_time": "2021-07-20T10:12:14.489525",
     "exception": false,
     "start_time": "2021-07-20T10:12:14.420889",
     "status": "completed"
    },
    "tags": []
   },
   "outputs": [],
   "source": [
    "model_prob = Model(layers[-2:]) "
   ]
  },
  {
   "cell_type": "code",
   "execution_count": 28,
   "id": "introductory-enforcement",
   "metadata": {
    "execution": {
     "iopub.execute_input": "2021-07-20T10:12:14.593491Z",
     "iopub.status.busy": "2021-07-20T10:12:14.592914Z",
     "iopub.status.idle": "2021-07-20T10:12:14.607359Z",
     "shell.execute_reply": "2021-07-20T10:12:14.607805Z"
    },
    "papermill": {
     "duration": 0.068999,
     "end_time": "2021-07-20T10:12:14.607954",
     "exception": false,
     "start_time": "2021-07-20T10:12:14.538955",
     "status": "completed"
    },
    "tags": []
   },
   "outputs": [],
   "source": [
    "# Adjust the x and y ranges according to the above generated plot.\n",
    "x_range = np.linspace(-4, 1, 100) \n",
    "y_range = np.linspace(-6, 6, 100) \n",
    "x_grid, y_grid = np.meshgrid(x_range, y_range) # x_grid and y_grig are of size 100 X 100\n",
    "\n",
    "# converting x_grid and y_grid to continuous arrays\n",
    "x_grid_flat = np.ravel(x_grid)\n",
    "y_grid_flat = np.ravel(y_grid)\n",
    "\n",
    "# The last layer of the current model takes two columns as input. Hence transpose of np.vstack() is required.\n",
    "X = np.vstack((x_grid_flat, y_grid_flat)).T\n",
    "\n",
    "# x_grid and y_grid are of size 100 x 100\n",
    "probability_contour = model_prob(X).reshape(100,100) "
   ]
  },
  {
   "cell_type": "code",
   "execution_count": 29,
   "id": "understood-landing",
   "metadata": {
    "execution": {
     "iopub.execute_input": "2021-07-20T10:12:14.722755Z",
     "iopub.status.busy": "2021-07-20T10:12:14.722210Z",
     "iopub.status.idle": "2021-07-20T10:12:14.982309Z",
     "shell.execute_reply": "2021-07-20T10:12:14.981888Z"
    },
    "papermill": {
     "duration": 0.320534,
     "end_time": "2021-07-20T10:12:14.982417",
     "exception": false,
     "start_time": "2021-07-20T10:12:14.661883",
     "status": "completed"
    },
    "tags": []
   },
   "outputs": [
    {
     "data": {
      "image/png": "[encoded data removed]",
      "text/plain": [
       "<Figure size 720x648 with 1 Axes>"
      ]
     },
     "metadata": {
      "needs_background": "light"
     },
     "output_type": "display_data"
    }
   ],
   "source": [
    "plt.figure(figsize=(10,9))\n",
    "plt.scatter(plot_testing[:,0], plot_testing[:,1], alpha = 0.1, c = y_test.ravel())\n",
    "contours = plt.contour(x_grid,y_grid,probability_contour)\n",
    "plt.title('Probability Contours')\n",
    "plt.clabel(contours, inline = True );"
   ]
  }
 ],
 "metadata": {
  "kernelspec": {
   "display_name": "Python 3",
   "language": "python",
   "name": "python3"
  },
  "language_info": {
   "codemirror_mode": {
    "name": "ipython",
    "version": 3
   },
   "file_extension": ".py",
   "mimetype": "text/x-python",
   "name": "python",
   "nbconvert_exporter": "python",
   "pygments_lexer": "ipython3",
   "version": "3.6.14"
  },
  "papermill": {
   "duration": 440.348752,
   "end_time": "2021-07-20T10:12:15.343176",
   "environment_variables": {},
   "exception": null,
   "input_path": "2020-08-11-NeuralNetwork.ipynb",
   "output_path": "2020-08-11-NeuralNetwork.ipynb",
   "parameters": {},
   "start_time": "2021-07-20T10:04:54.994424",
   "version": "2.1.2"
  }
 },
 "nbformat": 4,
 "nbformat_minor": 5
}