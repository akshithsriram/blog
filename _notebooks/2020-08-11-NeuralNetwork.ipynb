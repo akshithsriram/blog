{
 "cells": [
  {
   "cell_type": "markdown",
   "metadata": {
    "papermill": {
     "duration": 0.033278,
     "end_time": "2020-09-21T20:04:55.335537",
     "exception": false,
     "start_time": "2020-09-21T20:04:55.302259",
     "status": "completed"
    },
    "tags": []
   },
   "source": [
    "# \"A Basic Neural Network: Differentiate Hand-Written Digits\"\n",
    "\n",
    "- badges: true\n",
    "- author: Akshith Sriram"
   ]
  },
  {
   "cell_type": "markdown",
   "metadata": {
    "papermill": {
     "duration": 0.025397,
     "end_time": "2020-09-21T20:04:55.387065",
     "exception": false,
     "start_time": "2020-09-21T20:04:55.361668",
     "status": "completed"
    },
    "tags": []
   },
   "source": [
    "### Key Objectives:\n",
    "- Building a neural network that differentiates two hand-written digits 3 and 8.\n",
    "- Comparing the results of this Neural Network (NN) to that of a Logistic Regression (LR) model.\n",
    "\n",
    "### Requirements:\n",
    "- 'Kudzu' : A neural network library that was designed during our course by [Univ.AI](www.univ.ai). \n",
    "- MNIST Database\n",
    "\n",
    "If MNIST is not installed, use the command `!pip install mnist` given below.\n",
    "It can be run both from the command line and Jupyter Notebook."
   ]
  },
  {
   "cell_type": "code",
   "execution_count": 1,
   "metadata": {
    "execution": {
     "iopub.execute_input": "2020-09-21T20:04:55.443200Z",
     "iopub.status.busy": "2020-09-21T20:04:55.442518Z",
     "iopub.status.idle": "2020-09-21T20:04:56.957300Z",
     "shell.execute_reply": "2020-09-21T20:04:56.956203Z"
    },
    "papermill": {
     "duration": 1.545066,
     "end_time": "2020-09-21T20:04:56.957486",
     "exception": false,
     "start_time": "2020-09-21T20:04:55.412420",
     "status": "completed"
    },
    "tags": []
   },
   "outputs": [
    {
     "name": "stdout",
     "output_type": "stream",
     "text": [
      "Collecting mnist\r\n"
     ]
    },
    {
     "name": "stdout",
     "output_type": "stream",
     "text": [
      "  Downloading mnist-0.2.2-py2.py3-none-any.whl (3.5 kB)\r\n",
      "Requirement already satisfied: numpy in /opt/hostedtoolcache/Python/3.6.12/x64/lib/python3.6/site-packages (from mnist) (1.19.2)\r\n"
     ]
    },
    {
     "name": "stdout",
     "output_type": "stream",
     "text": [
      "Installing collected packages: mnist\r\n"
     ]
    },
    {
     "name": "stdout",
     "output_type": "stream",
     "text": [
      "Successfully installed mnist-0.2.2\r\n"
     ]
    }
   ],
   "source": [
    "!pip install mnist "
   ]
  },
  {
   "cell_type": "markdown",
   "metadata": {
    "papermill": {
     "duration": 0.143139,
     "end_time": "2020-09-21T20:04:57.127924",
     "exception": false,
     "start_time": "2020-09-21T20:04:56.984785",
     "status": "completed"
    },
    "tags": []
   },
   "source": [
    "#### Importing necessary libraries"
   ]
  },
  {
   "cell_type": "code",
   "execution_count": 2,
   "metadata": {
    "execution": {
     "iopub.execute_input": "2020-09-21T20:04:57.194537Z",
     "iopub.status.busy": "2020-09-21T20:04:57.193921Z",
     "iopub.status.idle": "2020-09-21T20:04:57.795302Z",
     "shell.execute_reply": "2020-09-21T20:04:57.794347Z"
    },
    "papermill": {
     "duration": 0.636537,
     "end_time": "2020-09-21T20:04:57.795550",
     "exception": false,
     "start_time": "2020-09-21T20:04:57.159013",
     "status": "completed"
    },
    "tags": []
   },
   "outputs": [],
   "source": [
    "%load_ext autoreload\n",
    "%autoreload 2\n",
    "\n",
    "%matplotlib inline\n",
    "import matplotlib.pyplot as plt\n",
    "\n",
    "import numpy as np\n",
    "import pandas as pd"
   ]
  },
  {
   "cell_type": "markdown",
   "metadata": {
    "papermill": {
     "duration": 0.026716,
     "end_time": "2020-09-21T20:04:57.850202",
     "exception": false,
     "start_time": "2020-09-21T20:04:57.823486",
     "status": "completed"
    },
    "tags": []
   },
   "source": [
    "### Preparing the Data"
   ]
  },
  {
   "cell_type": "code",
   "execution_count": 3,
   "metadata": {
    "execution": {
     "iopub.execute_input": "2020-09-21T20:04:57.908241Z",
     "iopub.status.busy": "2020-09-21T20:04:57.907625Z",
     "iopub.status.idle": "2020-09-21T20:04:57.922057Z",
     "shell.execute_reply": "2020-09-21T20:04:57.922513Z"
    },
    "papermill": {
     "duration": 0.046005,
     "end_time": "2020-09-21T20:04:57.922679",
     "exception": false,
     "start_time": "2020-09-21T20:04:57.876674",
     "status": "completed"
    },
    "tags": []
   },
   "outputs": [],
   "source": [
    "import mnist"
   ]
  },
  {
   "cell_type": "code",
   "execution_count": 4,
   "metadata": {
    "execution": {
     "iopub.execute_input": "2020-09-21T20:04:57.978587Z",
     "iopub.status.busy": "2020-09-21T20:04:57.977984Z",
     "iopub.status.idle": "2020-09-21T20:04:58.840663Z",
     "shell.execute_reply": "2020-09-21T20:04:58.840078Z"
    },
    "papermill": {
     "duration": 0.891997,
     "end_time": "2020-09-21T20:04:58.840821",
     "exception": false,
     "start_time": "2020-09-21T20:04:57.948824",
     "status": "completed"
    },
    "tags": []
   },
   "outputs": [],
   "source": [
    "train_images = mnist.train_images()\n",
    "train_labels = mnist.train_labels()"
   ]
  },
  {
   "cell_type": "code",
   "execution_count": 5,
   "metadata": {
    "execution": {
     "iopub.execute_input": "2020-09-21T20:04:58.898892Z",
     "iopub.status.busy": "2020-09-21T20:04:58.898265Z",
     "iopub.status.idle": "2020-09-21T20:04:58.917182Z",
     "shell.execute_reply": "2020-09-21T20:04:58.917700Z"
    },
    "papermill": {
     "duration": 0.0505,
     "end_time": "2020-09-21T20:04:58.917853",
     "exception": false,
     "start_time": "2020-09-21T20:04:58.867353",
     "status": "completed"
    },
    "tags": []
   },
   "outputs": [
    {
     "data": {
      "text/plain": [
       "((60000, 28, 28), (60000,))"
      ]
     },
     "execution_count": 5,
     "metadata": {},
     "output_type": "execute_result"
    }
   ],
   "source": [
    "train_images.shape, train_labels.shape"
   ]
  },
  {
   "cell_type": "code",
   "execution_count": 6,
   "metadata": {
    "execution": {
     "iopub.execute_input": "2020-09-21T20:04:58.976558Z",
     "iopub.status.busy": "2020-09-21T20:04:58.975960Z",
     "iopub.status.idle": "2020-09-21T20:04:59.248935Z",
     "shell.execute_reply": "2020-09-21T20:04:59.247724Z"
    },
    "papermill": {
     "duration": 0.304996,
     "end_time": "2020-09-21T20:04:59.249115",
     "exception": false,
     "start_time": "2020-09-21T20:04:58.944119",
     "status": "completed"
    },
    "tags": []
   },
   "outputs": [],
   "source": [
    "test_images = mnist.test_images()\n",
    "test_labels = mnist.test_labels()"
   ]
  },
  {
   "cell_type": "code",
   "execution_count": 7,
   "metadata": {
    "execution": {
     "iopub.execute_input": "2020-09-21T20:04:59.307213Z",
     "iopub.status.busy": "2020-09-21T20:04:59.306553Z",
     "iopub.status.idle": "2020-09-21T20:04:59.320893Z",
     "shell.execute_reply": "2020-09-21T20:04:59.320273Z"
    },
    "papermill": {
     "duration": 0.045206,
     "end_time": "2020-09-21T20:04:59.321043",
     "exception": false,
     "start_time": "2020-09-21T20:04:59.275837",
     "status": "completed"
    },
    "tags": []
   },
   "outputs": [
    {
     "data": {
      "text/plain": [
       "((10000, 28, 28), (10000,))"
      ]
     },
     "execution_count": 7,
     "metadata": {},
     "output_type": "execute_result"
    }
   ],
   "source": [
    "test_images.shape, test_labels.shape"
   ]
  },
  {
   "cell_type": "code",
   "execution_count": 8,
   "metadata": {
    "execution": {
     "iopub.execute_input": "2020-09-21T20:04:59.383289Z",
     "iopub.status.busy": "2020-09-21T20:04:59.382073Z",
     "iopub.status.idle": "2020-09-21T20:04:59.540501Z",
     "shell.execute_reply": "2020-09-21T20:04:59.539960Z"
    },
    "papermill": {
     "duration": 0.191037,
     "end_time": "2020-09-21T20:04:59.540646",
     "exception": false,
     "start_time": "2020-09-21T20:04:59.349609",
     "status": "completed"
    },
    "tags": []
   },
   "outputs": [
    {
     "name": "stdout",
     "output_type": "stream",
     "text": [
      "2\n"
     ]
    },
    {
     "data": {
      "text/plain": [
       "<matplotlib.image.AxesImage at 0x7f36e224e7f0>"
      ]
     },
     "execution_count": 8,
     "metadata": {},
     "output_type": "execute_result"
    },
    {
     "data": {
      "image/png": "[encoded data removed]",
      "text/plain": [
       "<Figure size 432x288 with 1 Axes>"
      ]
     },
     "metadata": {
      "needs_background": "light"
     },
     "output_type": "display_data"
    }
   ],
   "source": [
    "image_index = 7776 # You may select anything up to 60,000\n",
    "print(train_labels[image_index]) \n",
    "plt.imshow(train_images[image_index], cmap='Greys')"
   ]
  },
  {
   "cell_type": "markdown",
   "metadata": {
    "papermill": {
     "duration": 0.028423,
     "end_time": "2020-09-21T20:04:59.598407",
     "exception": false,
     "start_time": "2020-09-21T20:04:59.569984",
     "status": "completed"
    },
    "tags": []
   },
   "source": [
    "## Filter data to get 3 and 8 out"
   ]
  },
  {
   "cell_type": "code",
   "execution_count": 9,
   "metadata": {
    "execution": {
     "iopub.execute_input": "2020-09-21T20:04:59.661851Z",
     "iopub.status.busy": "2020-09-21T20:04:59.661220Z",
     "iopub.status.idle": "2020-09-21T20:04:59.680283Z",
     "shell.execute_reply": "2020-09-21T20:04:59.679772Z"
    },
    "papermill": {
     "duration": 0.053646,
     "end_time": "2020-09-21T20:04:59.680431",
     "exception": false,
     "start_time": "2020-09-21T20:04:59.626785",
     "status": "completed"
    },
    "tags": []
   },
   "outputs": [],
   "source": [
    "train_filter = np.where((train_labels == 3 ) | (train_labels == 8))\n",
    "test_filter = np.where((test_labels == 3) | (test_labels == 8))\n",
    "X_train, y_train = train_images[train_filter], train_labels[train_filter]\n",
    "X_test, y_test = test_images[test_filter], test_labels[test_filter]"
   ]
  },
  {
   "cell_type": "markdown",
   "metadata": {
    "papermill": {
     "duration": 0.028093,
     "end_time": "2020-09-21T20:04:59.736925",
     "exception": false,
     "start_time": "2020-09-21T20:04:59.708832",
     "status": "completed"
    },
    "tags": []
   },
   "source": [
    "We normalize the pixel values in the 0 to 1 range"
   ]
  },
  {
   "cell_type": "code",
   "execution_count": 10,
   "metadata": {
    "execution": {
     "iopub.execute_input": "2020-09-21T20:04:59.802445Z",
     "iopub.status.busy": "2020-09-21T20:04:59.801811Z",
     "iopub.status.idle": "2020-09-21T20:04:59.850050Z",
     "shell.execute_reply": "2020-09-21T20:04:59.850918Z"
    },
    "papermill": {
     "duration": 0.086166,
     "end_time": "2020-09-21T20:04:59.851203",
     "exception": false,
     "start_time": "2020-09-21T20:04:59.765037",
     "status": "completed"
    },
    "tags": []
   },
   "outputs": [],
   "source": [
    "X_train = X_train/255.\n",
    "X_test = X_test/255."
   ]
  },
  {
   "cell_type": "markdown",
   "metadata": {
    "papermill": {
     "duration": 0.027977,
     "end_time": "2020-09-21T20:04:59.908809",
     "exception": false,
     "start_time": "2020-09-21T20:04:59.880832",
     "status": "completed"
    },
    "tags": []
   },
   "source": [
    "Setup the labels as 1 (when the digit is 3) and 0 (when the digit is 8)"
   ]
  },
  {
   "cell_type": "code",
   "execution_count": 11,
   "metadata": {
    "execution": {
     "iopub.execute_input": "2020-09-21T20:04:59.968003Z",
     "iopub.status.busy": "2020-09-21T20:04:59.967388Z",
     "iopub.status.idle": "2020-09-21T20:04:59.983574Z",
     "shell.execute_reply": "2020-09-21T20:04:59.982478Z"
    },
    "papermill": {
     "duration": 0.046977,
     "end_time": "2020-09-21T20:04:59.983716",
     "exception": false,
     "start_time": "2020-09-21T20:04:59.936739",
     "status": "completed"
    },
    "tags": []
   },
   "outputs": [],
   "source": [
    "y_train = 1*(y_train==3)\n",
    "y_test = 1*(y_test==3)"
   ]
  },
  {
   "cell_type": "code",
   "execution_count": 12,
   "metadata": {
    "execution": {
     "iopub.execute_input": "2020-09-21T20:05:00.046103Z",
     "iopub.status.busy": "2020-09-21T20:05:00.044183Z",
     "iopub.status.idle": "2020-09-21T20:05:00.058052Z",
     "shell.execute_reply": "2020-09-21T20:05:00.058506Z"
    },
    "papermill": {
     "duration": 0.04688,
     "end_time": "2020-09-21T20:05:00.058673",
     "exception": false,
     "start_time": "2020-09-21T20:05:00.011793",
     "status": "completed"
    },
    "tags": []
   },
   "outputs": [
    {
     "data": {
      "text/plain": [
       "((11982, 28, 28), (1984, 28, 28))"
      ]
     },
     "execution_count": 12,
     "metadata": {},
     "output_type": "execute_result"
    }
   ],
   "source": [
    "X_train.shape, X_test.shape"
   ]
  },
  {
   "cell_type": "markdown",
   "metadata": {
    "papermill": {
     "duration": 0.031334,
     "end_time": "2020-09-21T20:05:00.119290",
     "exception": false,
     "start_time": "2020-09-21T20:05:00.087956",
     "status": "completed"
    },
    "tags": []
   },
   "source": [
    "### Reshape the input data to create a linear array"
   ]
  },
  {
   "cell_type": "code",
   "execution_count": 13,
   "metadata": {
    "execution": {
     "iopub.execute_input": "2020-09-21T20:05:00.183915Z",
     "iopub.status.busy": "2020-09-21T20:05:00.183299Z",
     "iopub.status.idle": "2020-09-21T20:05:00.200573Z",
     "shell.execute_reply": "2020-09-21T20:05:00.200086Z"
    },
    "papermill": {
     "duration": 0.052264,
     "end_time": "2020-09-21T20:05:00.200714",
     "exception": false,
     "start_time": "2020-09-21T20:05:00.148450",
     "status": "completed"
    },
    "tags": []
   },
   "outputs": [
    {
     "data": {
      "text/plain": [
       "((11982, 784), (1984, 784))"
      ]
     },
     "execution_count": 13,
     "metadata": {},
     "output_type": "execute_result"
    }
   ],
   "source": [
    "X_train = X_train.reshape(X_train.shape[0], -1)\n",
    "X_test = X_test.reshape(X_test.shape[0], -1)\n",
    "X_train.shape, X_test.shape"
   ]
  },
  {
   "cell_type": "markdown",
   "metadata": {
    "papermill": {
     "duration": 0.02991,
     "end_time": "2020-09-21T20:05:00.260429",
     "exception": false,
     "start_time": "2020-09-21T20:05:00.230519",
     "status": "completed"
    },
    "tags": []
   },
   "source": [
    "### Importing appropriate functions from 'Kudzu'"
   ]
  },
  {
   "cell_type": "code",
   "execution_count": 14,
   "metadata": {
    "execution": {
     "iopub.execute_input": "2020-09-21T20:05:00.325702Z",
     "iopub.status.busy": "2020-09-21T20:05:00.324600Z",
     "iopub.status.idle": "2020-09-21T20:05:00.349644Z",
     "shell.execute_reply": "2020-09-21T20:05:00.348851Z"
    },
    "papermill": {
     "duration": 0.059754,
     "end_time": "2020-09-21T20:05:00.349804",
     "exception": false,
     "start_time": "2020-09-21T20:05:00.290050",
     "status": "completed"
    },
    "tags": []
   },
   "outputs": [],
   "source": [
    "from kudzu.layer import Sigmoid\n",
    "from kudzu.layer import Relu\n",
    "from kudzu.layer import Affine, Sigmoid\n",
    "\n",
    "from kudzu.model import Model\n",
    "from kudzu.train import Learner\n",
    "from kudzu.optim import GD\n",
    "from kudzu.data import Data, Dataloader, Sampler\n",
    "\n",
    "from kudzu.callbacks import AccCallback\n",
    "from kudzu.callbacks import ClfCallback\n",
    "\n",
    "from kudzu.loss import MSE"
   ]
  },
  {
   "cell_type": "markdown",
   "metadata": {
    "papermill": {
     "duration": 0.02963,
     "end_time": "2020-09-21T20:05:00.409032",
     "exception": false,
     "start_time": "2020-09-21T20:05:00.379402",
     "status": "completed"
    },
    "tags": []
   },
   "source": [
    "### Let us create a `Config` class, to store important parameters. \n",
    "This class essentially plays the role of a dictionary."
   ]
  },
  {
   "cell_type": "code",
   "execution_count": 15,
   "metadata": {
    "execution": {
     "iopub.execute_input": "2020-09-21T20:05:00.477175Z",
     "iopub.status.busy": "2020-09-21T20:05:00.476573Z",
     "iopub.status.idle": "2020-09-21T20:05:00.492240Z",
     "shell.execute_reply": "2020-09-21T20:05:00.492718Z"
    },
    "papermill": {
     "duration": 0.052997,
     "end_time": "2020-09-21T20:05:00.492896",
     "exception": false,
     "start_time": "2020-09-21T20:05:00.439899",
     "status": "completed"
    },
    "tags": []
   },
   "outputs": [],
   "source": [
    "class Config:\n",
    "    pass\n",
    "config = Config()\n",
    "config.lr = 0.001\n",
    "config.num_epochs = 251\n",
    "config.bs = 50"
   ]
  },
  {
   "cell_type": "markdown",
   "metadata": {
    "papermill": {
     "duration": 0.028592,
     "end_time": "2020-09-21T20:05:00.549941",
     "exception": false,
     "start_time": "2020-09-21T20:05:00.521349",
     "status": "completed"
    },
    "tags": []
   },
   "source": [
    "### Initializing data to the variables"
   ]
  },
  {
   "cell_type": "code",
   "execution_count": 16,
   "metadata": {
    "execution": {
     "iopub.execute_input": "2020-09-21T20:05:00.614262Z",
     "iopub.status.busy": "2020-09-21T20:05:00.613654Z",
     "iopub.status.idle": "2020-09-21T20:05:00.629252Z",
     "shell.execute_reply": "2020-09-21T20:05:00.628749Z"
    },
    "papermill": {
     "duration": 0.050054,
     "end_time": "2020-09-21T20:05:00.629395",
     "exception": false,
     "start_time": "2020-09-21T20:05:00.579341",
     "status": "completed"
    },
    "tags": []
   },
   "outputs": [],
   "source": [
    "data = Data(X_train, y_train.reshape(-1,1))\n",
    "sampler = Sampler(data, config.bs, shuffle=True)\n",
    "\n",
    "dl = Dataloader(data, sampler)\n",
    "\n",
    "opt = GD(config.lr)\n",
    "loss = MSE()"
   ]
  },
  {
   "cell_type": "code",
   "execution_count": 17,
   "metadata": {
    "execution": {
     "iopub.execute_input": "2020-09-21T20:05:00.694315Z",
     "iopub.status.busy": "2020-09-21T20:05:00.693212Z",
     "iopub.status.idle": "2020-09-21T20:05:00.708609Z",
     "shell.execute_reply": "2020-09-21T20:05:00.708086Z"
    },
    "papermill": {
     "duration": 0.050856,
     "end_time": "2020-09-21T20:05:00.708758",
     "exception": false,
     "start_time": "2020-09-21T20:05:00.657902",
     "status": "completed"
    },
    "tags": []
   },
   "outputs": [],
   "source": [
    "training_xdata = X_train\n",
    "testing_xdata = X_test\n",
    "training_ydata = y_train.reshape(-1,1)\n",
    "testing_ydata = y_test.reshape(-1,1)"
   ]
  },
  {
   "cell_type": "markdown",
   "metadata": {
    "papermill": {
     "duration": 0.030288,
     "end_time": "2020-09-21T20:05:00.768582",
     "exception": false,
     "start_time": "2020-09-21T20:05:00.738294",
     "status": "completed"
    },
    "tags": []
   },
   "source": [
    "### Running Models with the Training data\n",
    "Details about the network layers:\n",
    "- A first affine layer has 784 inputs and does 100 affine transforms. These are followed by a Relu\n",
    "- A second affine layer has 100 inputs from the 100 activations of the past layer, and does 100 affine transforms. These are followed by a Relu\n",
    "- A third affine layer has 100 activations and does 2 affine transformations to create an embedding for visualization. There is no non-linearity here.\n",
    "- A final \"logistic regression\" which has an affine transform from 2 inputs to 1 output, which is squeezed through a sigmoid.\n",
    "\n",
    "Help taken from Anshuman's Notebook."
   ]
  },
  {
   "cell_type": "code",
   "execution_count": 18,
   "metadata": {
    "execution": {
     "iopub.execute_input": "2020-09-21T20:05:00.836518Z",
     "iopub.status.busy": "2020-09-21T20:05:00.835458Z",
     "iopub.status.idle": "2020-09-21T20:05:00.856798Z",
     "shell.execute_reply": "2020-09-21T20:05:00.855758Z"
    },
    "papermill": {
     "duration": 0.056054,
     "end_time": "2020-09-21T20:05:00.856944",
     "exception": false,
     "start_time": "2020-09-21T20:05:00.800890",
     "status": "completed"
    },
    "tags": []
   },
   "outputs": [],
   "source": [
    "# layers for the Neural Network\n",
    "layers = [Affine(\"first\", 784, 100), Relu(\"first\"), Affine(\"second\", 100, 100), Relu(\"second\"), Affine(\"third\", 100, 2), Affine(\"final\", 2, 1), Sigmoid(\"final\")]\n",
    "model_nn = Model(layers)\n",
    "\n",
    "# layers for the Logistic Regression\n",
    "layers_lr = [Affine(\"logits\", 784, 1), Sigmoid(\"sigmoid\")]\n",
    "model_lr = Model(layers_lr)"
   ]
  },
  {
   "cell_type": "code",
   "execution_count": 19,
   "metadata": {
    "execution": {
     "iopub.execute_input": "2020-09-21T20:05:00.922882Z",
     "iopub.status.busy": "2020-09-21T20:05:00.921907Z",
     "iopub.status.idle": "2020-09-21T20:05:00.939153Z",
     "shell.execute_reply": "2020-09-21T20:05:00.939642Z"
    },
    "papermill": {
     "duration": 0.052337,
     "end_time": "2020-09-21T20:05:00.939817",
     "exception": false,
     "start_time": "2020-09-21T20:05:00.887480",
     "status": "completed"
    },
    "tags": []
   },
   "outputs": [],
   "source": [
    "# suffix _nn stands for Neural Network.\n",
    "learner_nn = Learner(loss, model_nn, opt, config.num_epochs)\n",
    "acc_nn = ClfCallback(learner_nn, config.bs, training_xdata , testing_xdata, training_ydata, testing_ydata)\n",
    "learner_nn.set_callbacks([acc_nn])"
   ]
  },
  {
   "cell_type": "code",
   "execution_count": 20,
   "metadata": {
    "execution": {
     "iopub.execute_input": "2020-09-21T20:05:01.010599Z",
     "iopub.status.busy": "2020-09-21T20:05:01.009963Z",
     "iopub.status.idle": "2020-09-21T20:06:29.313564Z",
     "shell.execute_reply": "2020-09-21T20:06:29.314376Z"
    },
    "papermill": {
     "duration": 88.345297,
     "end_time": "2020-09-21T20:06:29.314556",
     "exception": false,
     "start_time": "2020-09-21T20:05:00.969259",
     "status": "completed"
    },
    "tags": []
   },
   "outputs": [
    {
     "name": "stdout",
     "output_type": "stream",
     "text": [
      "====== Neural Network ======\n"
     ]
    },
    {
     "name": "stdout",
     "output_type": "stream",
     "text": [
      "Epoch 0, Loss 0.2415\n",
      "Training Accuracy: 0.6751, Testing Accuracy: 0.6764\n",
      "\n"
     ]
    },
    {
     "name": "stdout",
     "output_type": "stream",
     "text": [
      "Epoch 10, Loss 0.1112\n",
      "Training Accuracy: 0.9068, Testing Accuracy: 0.9219\n",
      "\n"
     ]
    },
    {
     "name": "stdout",
     "output_type": "stream",
     "text": [
      "Epoch 20, Loss 0.0626\n",
      "Training Accuracy: 0.9365, Testing Accuracy: 0.9506\n",
      "\n"
     ]
    },
    {
     "name": "stdout",
     "output_type": "stream",
     "text": [
      "Epoch 30, Loss 0.0474\n",
      "Training Accuracy: 0.9476, Testing Accuracy: 0.9582\n",
      "\n"
     ]
    },
    {
     "name": "stdout",
     "output_type": "stream",
     "text": [
      "Epoch 40, Loss 0.0404\n",
      "Training Accuracy: 0.9538, Testing Accuracy: 0.9632\n",
      "\n"
     ]
    },
    {
     "name": "stdout",
     "output_type": "stream",
     "text": [
      "Epoch 50, Loss 0.0364\n",
      "Training Accuracy: 0.9587, Testing Accuracy: 0.9637\n",
      "\n"
     ]
    },
    {
     "name": "stdout",
     "output_type": "stream",
     "text": [
      "Epoch 60, Loss 0.0337\n",
      "Training Accuracy: 0.9609, Testing Accuracy: 0.9642\n",
      "\n"
     ]
    },
    {
     "name": "stdout",
     "output_type": "stream",
     "text": [
      "Epoch 70, Loss 0.0317\n",
      "Training Accuracy: 0.9630, Testing Accuracy: 0.9647\n",
      "\n"
     ]
    },
    {
     "name": "stdout",
     "output_type": "stream",
     "text": [
      "Epoch 80, Loss 0.0302\n",
      "Training Accuracy: 0.9644, Testing Accuracy: 0.9662\n",
      "\n"
     ]
    },
    {
     "name": "stdout",
     "output_type": "stream",
     "text": [
      "Epoch 90, Loss 0.029\n",
      "Training Accuracy: 0.9661, Testing Accuracy: 0.9672\n",
      "\n"
     ]
    },
    {
     "name": "stdout",
     "output_type": "stream",
     "text": [
      "Epoch 100, Loss 0.0279\n",
      "Training Accuracy: 0.9673, Testing Accuracy: 0.9677\n",
      "\n"
     ]
    },
    {
     "name": "stdout",
     "output_type": "stream",
     "text": [
      "Epoch 110, Loss 0.027\n",
      "Training Accuracy: 0.9686, Testing Accuracy: 0.9688\n",
      "\n"
     ]
    },
    {
     "name": "stdout",
     "output_type": "stream",
     "text": [
      "Epoch 120, Loss 0.0262\n",
      "Training Accuracy: 0.9696, Testing Accuracy: 0.9698\n",
      "\n"
     ]
    },
    {
     "name": "stdout",
     "output_type": "stream",
     "text": [
      "Epoch 130, Loss 0.0255\n",
      "Training Accuracy: 0.9704, Testing Accuracy: 0.9708\n",
      "\n"
     ]
    },
    {
     "name": "stdout",
     "output_type": "stream",
     "text": [
      "Epoch 140, Loss 0.0249\n",
      "Training Accuracy: 0.9708, Testing Accuracy: 0.9708\n",
      "\n"
     ]
    },
    {
     "name": "stdout",
     "output_type": "stream",
     "text": [
      "Epoch 150, Loss 0.0243\n",
      "Training Accuracy: 0.9720, Testing Accuracy: 0.9713\n",
      "\n"
     ]
    },
    {
     "name": "stdout",
     "output_type": "stream",
     "text": [
      "Epoch 160, Loss 0.0238\n",
      "Training Accuracy: 0.9728, Testing Accuracy: 0.9703\n",
      "\n"
     ]
    },
    {
     "name": "stdout",
     "output_type": "stream",
     "text": [
      "Epoch 170, Loss 0.0232\n",
      "Training Accuracy: 0.9735, Testing Accuracy: 0.9708\n",
      "\n"
     ]
    },
    {
     "name": "stdout",
     "output_type": "stream",
     "text": [
      "Epoch 180, Loss 0.0228\n",
      "Training Accuracy: 0.9740, Testing Accuracy: 0.9713\n",
      "\n"
     ]
    },
    {
     "name": "stdout",
     "output_type": "stream",
     "text": [
      "Epoch 190, Loss 0.0223\n",
      "Training Accuracy: 0.9750, Testing Accuracy: 0.9713\n",
      "\n"
     ]
    },
    {
     "name": "stdout",
     "output_type": "stream",
     "text": [
      "Epoch 200, Loss 0.0219\n",
      "Training Accuracy: 0.9752, Testing Accuracy: 0.9713\n",
      "\n"
     ]
    },
    {
     "name": "stdout",
     "output_type": "stream",
     "text": [
      "Epoch 210, Loss 0.0215\n",
      "Training Accuracy: 0.9757, Testing Accuracy: 0.9718\n",
      "\n"
     ]
    },
    {
     "name": "stdout",
     "output_type": "stream",
     "text": [
      "Epoch 220, Loss 0.0211\n",
      "Training Accuracy: 0.9765, Testing Accuracy: 0.9718\n",
      "\n"
     ]
    },
    {
     "name": "stdout",
     "output_type": "stream",
     "text": [
      "Epoch 230, Loss 0.0207\n",
      "Training Accuracy: 0.9771, Testing Accuracy: 0.9718\n",
      "\n"
     ]
    },
    {
     "name": "stdout",
     "output_type": "stream",
     "text": [
      "Epoch 240, Loss 0.0203\n",
      "Training Accuracy: 0.9781, Testing Accuracy: 0.9728\n",
      "\n"
     ]
    },
    {
     "name": "stdout",
     "output_type": "stream",
     "text": [
      "Epoch 250, Loss 0.02\n",
      "Training Accuracy: 0.9781, Testing Accuracy: 0.9728\n",
      "\n"
     ]
    },
    {
     "data": {
      "text/plain": [
       "0.05213166382593588"
      ]
     },
     "execution_count": 20,
     "metadata": {},
     "output_type": "execute_result"
    }
   ],
   "source": [
    "print(\"====== Neural Network ======\")\n",
    "learner_nn.train_loop(dl)"
   ]
  },
  {
   "cell_type": "markdown",
   "metadata": {
    "papermill": {
     "duration": 0.036302,
     "end_time": "2020-09-21T20:06:29.388464",
     "exception": false,
     "start_time": "2020-09-21T20:06:29.352162",
     "status": "completed"
    },
    "tags": []
   },
   "source": [
    "### Logistic Regression based Implementation."
   ]
  },
  {
   "cell_type": "code",
   "execution_count": 21,
   "metadata": {
    "execution": {
     "iopub.execute_input": "2020-09-21T20:06:29.472583Z",
     "iopub.status.busy": "2020-09-21T20:06:29.471954Z",
     "iopub.status.idle": "2020-09-21T20:06:29.480736Z",
     "shell.execute_reply": "2020-09-21T20:06:29.481217Z"
    },
    "papermill": {
     "duration": 0.05556,
     "end_time": "2020-09-21T20:06:29.481379",
     "exception": false,
     "start_time": "2020-09-21T20:06:29.425819",
     "status": "completed"
    },
    "tags": []
   },
   "outputs": [],
   "source": [
    "learner_lr = Learner(loss, model_lr, opt, config.num_epochs)\n",
    "acc_lr = ClfCallback(learner_lr, config.bs, training_xdata , testing_xdata, training_ydata, testing_ydata)\n",
    "learner_lr.set_callbacks([acc_lr])"
   ]
  },
  {
   "cell_type": "code",
   "execution_count": 22,
   "metadata": {
    "execution": {
     "iopub.execute_input": "2020-09-21T20:06:29.563827Z",
     "iopub.status.busy": "2020-09-21T20:06:29.562670Z",
     "iopub.status.idle": "2020-09-21T20:06:47.467127Z",
     "shell.execute_reply": "2020-09-21T20:06:47.467620Z"
    },
    "papermill": {
     "duration": 17.949696,
     "end_time": "2020-09-21T20:06:47.467790",
     "exception": false,
     "start_time": "2020-09-21T20:06:29.518094",
     "status": "completed"
    },
    "tags": []
   },
   "outputs": [
    {
     "name": "stdout",
     "output_type": "stream",
     "text": [
      "====== Logistic Regression ======\n",
      "Epoch 0, Loss 0.2019\n",
      "Training Accuracy: 0.7890, Testing Accuracy: 0.7807\n",
      "\n"
     ]
    },
    {
     "name": "stdout",
     "output_type": "stream",
     "text": [
      "Epoch 10, Loss 0.1014\n",
      "Training Accuracy: 0.9028, Testing Accuracy: 0.9027\n",
      "\n"
     ]
    },
    {
     "name": "stdout",
     "output_type": "stream",
     "text": [
      "Epoch 20, Loss 0.0796\n",
      "Training Accuracy: 0.9236, Testing Accuracy: 0.9269\n",
      "\n"
     ]
    },
    {
     "name": "stdout",
     "output_type": "stream",
     "text": [
      "Epoch 30, Loss 0.0691\n",
      "Training Accuracy: 0.9321, Testing Accuracy: 0.9360\n",
      "\n"
     ]
    },
    {
     "name": "stdout",
     "output_type": "stream",
     "text": [
      "Epoch 40, Loss 0.0625\n",
      "Training Accuracy: 0.9389, Testing Accuracy: 0.9451\n",
      "\n"
     ]
    },
    {
     "name": "stdout",
     "output_type": "stream",
     "text": [
      "Epoch 50, Loss 0.058\n",
      "Training Accuracy: 0.9429, Testing Accuracy: 0.9496\n",
      "\n"
     ]
    },
    {
     "name": "stdout",
     "output_type": "stream",
     "text": [
      "Epoch 60, Loss 0.0547\n",
      "Training Accuracy: 0.9453, Testing Accuracy: 0.9526\n",
      "\n"
     ]
    },
    {
     "name": "stdout",
     "output_type": "stream",
     "text": [
      "Epoch 70, Loss 0.0521\n",
      "Training Accuracy: 0.9469, Testing Accuracy: 0.9551\n",
      "\n"
     ]
    },
    {
     "name": "stdout",
     "output_type": "stream",
     "text": [
      "Epoch 80, Loss 0.05\n",
      "Training Accuracy: 0.9478, Testing Accuracy: 0.9572\n",
      "\n"
     ]
    },
    {
     "name": "stdout",
     "output_type": "stream",
     "text": [
      "Epoch 90, Loss 0.0483\n",
      "Training Accuracy: 0.9493, Testing Accuracy: 0.9587\n",
      "\n"
     ]
    },
    {
     "name": "stdout",
     "output_type": "stream",
     "text": [
      "Epoch 100, Loss 0.0468\n",
      "Training Accuracy: 0.9503, Testing Accuracy: 0.9602\n",
      "\n"
     ]
    },
    {
     "name": "stdout",
     "output_type": "stream",
     "text": [
      "Epoch 110, Loss 0.0456\n",
      "Training Accuracy: 0.9510, Testing Accuracy: 0.9602\n",
      "\n"
     ]
    },
    {
     "name": "stdout",
     "output_type": "stream",
     "text": [
      "Epoch 120, Loss 0.0445\n",
      "Training Accuracy: 0.9526, Testing Accuracy: 0.9617\n",
      "\n"
     ]
    },
    {
     "name": "stdout",
     "output_type": "stream",
     "text": [
      "Epoch 130, Loss 0.0435\n",
      "Training Accuracy: 0.9538, Testing Accuracy: 0.9617\n",
      "\n"
     ]
    },
    {
     "name": "stdout",
     "output_type": "stream",
     "text": [
      "Epoch 140, Loss 0.0427\n",
      "Training Accuracy: 0.9550, Testing Accuracy: 0.9637\n",
      "\n"
     ]
    },
    {
     "name": "stdout",
     "output_type": "stream",
     "text": [
      "Epoch 150, Loss 0.0419\n",
      "Training Accuracy: 0.9553, Testing Accuracy: 0.9637\n",
      "\n"
     ]
    },
    {
     "name": "stdout",
     "output_type": "stream",
     "text": [
      "Epoch 160, Loss 0.0412\n",
      "Training Accuracy: 0.9564, Testing Accuracy: 0.9637\n",
      "\n"
     ]
    },
    {
     "name": "stdout",
     "output_type": "stream",
     "text": [
      "Epoch 170, Loss 0.0406\n",
      "Training Accuracy: 0.9574, Testing Accuracy: 0.9637\n",
      "\n"
     ]
    },
    {
     "name": "stdout",
     "output_type": "stream",
     "text": [
      "Epoch 180, Loss 0.04\n",
      "Training Accuracy: 0.9578, Testing Accuracy: 0.9642\n",
      "\n"
     ]
    },
    {
     "name": "stdout",
     "output_type": "stream",
     "text": [
      "Epoch 190, Loss 0.0395\n",
      "Training Accuracy: 0.9581, Testing Accuracy: 0.9637\n",
      "\n"
     ]
    },
    {
     "name": "stdout",
     "output_type": "stream",
     "text": [
      "Epoch 200, Loss 0.039\n",
      "Training Accuracy: 0.9583, Testing Accuracy: 0.9642\n",
      "\n"
     ]
    },
    {
     "name": "stdout",
     "output_type": "stream",
     "text": [
      "Epoch 210, Loss 0.0385\n",
      "Training Accuracy: 0.9589, Testing Accuracy: 0.9642\n",
      "\n"
     ]
    },
    {
     "name": "stdout",
     "output_type": "stream",
     "text": [
      "Epoch 220, Loss 0.0381\n",
      "Training Accuracy: 0.9594, Testing Accuracy: 0.9647\n",
      "\n"
     ]
    },
    {
     "name": "stdout",
     "output_type": "stream",
     "text": [
      "Epoch 230, Loss 0.0377\n",
      "Training Accuracy: 0.9599, Testing Accuracy: 0.9647\n",
      "\n"
     ]
    },
    {
     "name": "stdout",
     "output_type": "stream",
     "text": [
      "Epoch 240, Loss 0.0373\n",
      "Training Accuracy: 0.9606, Testing Accuracy: 0.9652\n",
      "\n"
     ]
    },
    {
     "name": "stdout",
     "output_type": "stream",
     "text": [
      "Epoch 250, Loss 0.037\n",
      "Training Accuracy: 0.9608, Testing Accuracy: 0.9652\n",
      "\n"
     ]
    },
    {
     "data": {
      "text/plain": [
       "0.022587793928293305"
      ]
     },
     "execution_count": 22,
     "metadata": {},
     "output_type": "execute_result"
    }
   ],
   "source": [
    "print(\"====== Logistic Regression ======\")\n",
    "learner_lr.train_loop(dl)"
   ]
  },
  {
   "cell_type": "markdown",
   "metadata": {
    "papermill": {
     "duration": 0.046517,
     "end_time": "2020-09-21T20:06:47.559833",
     "exception": false,
     "start_time": "2020-09-21T20:06:47.513316",
     "status": "completed"
    },
    "tags": []
   },
   "source": [
    "### Comparing results of NN and LR"
   ]
  },
  {
   "cell_type": "code",
   "execution_count": 23,
   "metadata": {
    "execution": {
     "iopub.execute_input": "2020-09-21T20:06:47.661635Z",
     "iopub.status.busy": "2020-09-21T20:06:47.661003Z",
     "iopub.status.idle": "2020-09-21T20:06:47.918786Z",
     "shell.execute_reply": "2020-09-21T20:06:47.918249Z"
    },
    "papermill": {
     "duration": 0.314452,
     "end_time": "2020-09-21T20:06:47.918939",
     "exception": false,
     "start_time": "2020-09-21T20:06:47.604487",
     "status": "completed"
    },
    "tags": []
   },
   "outputs": [
    {
     "data": {
      "text/plain": [
       "<matplotlib.legend.Legend at 0x7f36db6062e8>"
      ]
     },
     "execution_count": 23,
     "metadata": {},
     "output_type": "execute_result"
    },
    {
     "data": {
      "image/png": "[encoded data removed]",
      "text/plain": [
       "<Figure size 1080x720 with 1 Axes>"
      ]
     },
     "metadata": {
      "needs_background": "light"
     },
     "output_type": "display_data"
    }
   ],
   "source": [
    "plt.figure(figsize=(15,10))\n",
    "\n",
    "# Neural Network plots\n",
    "plt.plot(acc_nn.accuracies, 'r-', label = \"Training Accuracies - NN\")\n",
    "plt.plot(acc_nn.test_accuracies, 'g-', label = \"Testing Accuracies - NN\")\n",
    "\n",
    "# Logistic Regression plots\n",
    "plt.plot(acc_lr.accuracies, 'k-', label = \"Training Accuracies - LR\")\n",
    "plt.plot(acc_lr.test_accuracies, 'b-', label = \"Testing Accuracies - LR\")\n",
    "\n",
    "plt.ylim(0.8, 1)\n",
    "\n",
    "plt.legend()\n",
    "\n"
   ]
  },
  {
   "cell_type": "markdown",
   "metadata": {
    "papermill": {
     "duration": 0.046494,
     "end_time": "2020-09-21T20:06:48.012122",
     "exception": false,
     "start_time": "2020-09-21T20:06:47.965628",
     "status": "completed"
    },
    "tags": []
   },
   "source": [
    "### From the plot, we can observe the following:\n",
    "- Neural Network achieves higher accuracy than the Logistic Regression model.\n",
    "- This apparently, is because of overfitting, i.e. NN captures more noise than data.\n",
    "- Testing accuracy of NN drops below the Training accuracy at higher epochs. This explains the over-fitting on training data.\n",
    "- Logistic Regression gives a reliable accuracy, without the above mentioned problem.\n"
   ]
  },
  {
   "cell_type": "markdown",
   "metadata": {
    "papermill": {
     "duration": 0.046863,
     "end_time": "2020-09-21T20:06:48.105575",
     "exception": false,
     "start_time": "2020-09-21T20:06:48.058712",
     "status": "completed"
    },
    "tags": []
   },
   "source": [
    "### Moving till the last but one layer (excluding it).\n",
    "#### Plotting the outputs of this layer of the NN."
   ]
  },
  {
   "cell_type": "code",
   "execution_count": 24,
   "metadata": {
    "execution": {
     "iopub.execute_input": "2020-09-21T20:06:48.203536Z",
     "iopub.status.busy": "2020-09-21T20:06:48.202738Z",
     "iopub.status.idle": "2020-09-21T20:06:48.216167Z",
     "shell.execute_reply": "2020-09-21T20:06:48.215537Z"
    },
    "papermill": {
     "duration": 0.064315,
     "end_time": "2020-09-21T20:06:48.216308",
     "exception": false,
     "start_time": "2020-09-21T20:06:48.151993",
     "status": "completed"
    },
    "tags": []
   },
   "outputs": [],
   "source": [
    "model_new = Model(layers[:-2])"
   ]
  },
  {
   "cell_type": "code",
   "execution_count": 25,
   "metadata": {
    "execution": {
     "iopub.execute_input": "2020-09-21T20:06:48.320508Z",
     "iopub.status.busy": "2020-09-21T20:06:48.319890Z",
     "iopub.status.idle": "2020-09-21T20:06:48.338986Z",
     "shell.execute_reply": "2020-09-21T20:06:48.338404Z"
    },
    "papermill": {
     "duration": 0.075242,
     "end_time": "2020-09-21T20:06:48.339139",
     "exception": false,
     "start_time": "2020-09-21T20:06:48.263897",
     "status": "completed"
    },
    "tags": []
   },
   "outputs": [],
   "source": [
    "plot_testing = model_new(testing_xdata)"
   ]
  },
  {
   "cell_type": "code",
   "execution_count": 26,
   "metadata": {
    "execution": {
     "iopub.execute_input": "2020-09-21T20:06:48.448590Z",
     "iopub.status.busy": "2020-09-21T20:06:48.447956Z",
     "iopub.status.idle": "2020-09-21T20:06:48.671532Z",
     "shell.execute_reply": "2020-09-21T20:06:48.672096Z"
    },
    "papermill": {
     "duration": 0.283704,
     "end_time": "2020-09-21T20:06:48.672290",
     "exception": false,
     "start_time": "2020-09-21T20:06:48.388586",
     "status": "completed"
    },
    "tags": []
   },
   "outputs": [
    {
     "data": {
      "text/plain": [
       "Text(0.5, 1.0, 'Outputs')"
      ]
     },
     "execution_count": 26,
     "metadata": {},
     "output_type": "execute_result"
    },
    {
     "data": {
      "image/png": "[encoded data removed]",
      "text/plain": [
       "<Figure size 576x504 with 1 Axes>"
      ]
     },
     "metadata": {
      "needs_background": "light"
     },
     "output_type": "display_data"
    }
   ],
   "source": [
    "plt.figure(figsize=(8,7))\n",
    "plt.scatter(plot_testing[:,0], plot_testing[:,1], alpha = 0.1, c = y_test.ravel());\n",
    "plt.title('Outputs')"
   ]
  },
  {
   "cell_type": "markdown",
   "metadata": {
    "papermill": {
     "duration": 0.050113,
     "end_time": "2020-09-21T20:06:48.774592",
     "exception": false,
     "start_time": "2020-09-21T20:06:48.724479",
     "status": "completed"
    },
    "tags": []
   },
   "source": [
    "### Plotting probability contours"
   ]
  },
  {
   "cell_type": "code",
   "execution_count": 27,
   "metadata": {
    "execution": {
     "iopub.execute_input": "2020-09-21T20:06:48.873416Z",
     "iopub.status.busy": "2020-09-21T20:06:48.872852Z",
     "iopub.status.idle": "2020-09-21T20:06:48.887777Z",
     "shell.execute_reply": "2020-09-21T20:06:48.887249Z"
    },
    "papermill": {
     "duration": 0.066333,
     "end_time": "2020-09-21T20:06:48.887915",
     "exception": false,
     "start_time": "2020-09-21T20:06:48.821582",
     "status": "completed"
    },
    "tags": []
   },
   "outputs": [],
   "source": [
    "model_prob = Model(layers[-2:]) "
   ]
  },
  {
   "cell_type": "code",
   "execution_count": 28,
   "metadata": {
    "execution": {
     "iopub.execute_input": "2020-09-21T20:06:48.990904Z",
     "iopub.status.busy": "2020-09-21T20:06:48.990240Z",
     "iopub.status.idle": "2020-09-21T20:06:49.005740Z",
     "shell.execute_reply": "2020-09-21T20:06:49.006316Z"
    },
    "papermill": {
     "duration": 0.07038,
     "end_time": "2020-09-21T20:06:49.006478",
     "exception": false,
     "start_time": "2020-09-21T20:06:48.936098",
     "status": "completed"
    },
    "tags": []
   },
   "outputs": [],
   "source": [
    "# Adjust the x and y ranges according to the above generated plot.\n",
    "x_range = np.linspace(-4, 1, 100) \n",
    "y_range = np.linspace(-6, 6, 100) \n",
    "x_grid, y_grid = np.meshgrid(x_range, y_range) # x_grid and y_grig are of size 100 X 100\n",
    "\n",
    "# converting x_grid and y_grid to continuous arrays\n",
    "x_grid_flat = np.ravel(x_grid)\n",
    "y_grid_flat = np.ravel(y_grid)\n",
    "\n",
    "# The last layer of the current model takes two columns as input. Hence transpose of np.vstack() is required.\n",
    "X = np.vstack((x_grid_flat, y_grid_flat)).T\n",
    "\n",
    "# x_grid and y_grid are of size 100 x 100\n",
    "probability_contour = model_prob(X).reshape(100,100) "
   ]
  },
  {
   "cell_type": "code",
   "execution_count": 29,
   "metadata": {
    "execution": {
     "iopub.execute_input": "2020-09-21T20:06:49.108694Z",
     "iopub.status.busy": "2020-09-21T20:06:49.108092Z",
     "iopub.status.idle": "2020-09-21T20:06:49.369215Z",
     "shell.execute_reply": "2020-09-21T20:06:49.369679Z"
    },
    "papermill": {
     "duration": 0.315304,
     "end_time": "2020-09-21T20:06:49.369855",
     "exception": false,
     "start_time": "2020-09-21T20:06:49.054551",
     "status": "completed"
    },
    "tags": []
   },
   "outputs": [
    {
     "data": {
      "image/png": "[encoded data removed]",
      "text/plain": [
       "<Figure size 720x648 with 1 Axes>"
      ]
     },
     "metadata": {
      "needs_background": "light"
     },
     "output_type": "display_data"
    }
   ],
   "source": [
    "plt.figure(figsize=(10,9))\n",
    "plt.scatter(plot_testing[:,0], plot_testing[:,1], alpha = 0.1, c = y_test.ravel())\n",
    "contours = plt.contour(x_grid,y_grid,probability_contour)\n",
    "plt.title('Probability Contours')\n",
    "plt.clabel(contours, inline = True );"
   ]
  }
 ],
 "metadata": {
  "kernelspec": {
   "display_name": "Python 3",
   "language": "python",
   "name": "python3"
  },
  "language_info": {
   "codemirror_mode": {
    "name": "ipython",
    "version": 3
   },
   "file_extension": ".py",
   "mimetype": "text/x-python",
   "name": "python",
   "nbconvert_exporter": "python",
   "pygments_lexer": "ipython3",
   "version": "3.6.12"
  },
  "papermill": {
   "duration": 116.412001,
   "end_time": "2020-09-21T20:06:50.607182",
   "environment_variables": {},
   "exception": null,
   "input_path": "2020-08-11-NeuralNetwork.ipynb",
   "output_path": "2020-08-11-NeuralNetwork.ipynb",
   "parameters": {},
   "start_time": "2020-09-21T20:04:54.195181",
   "version": "2.1.2"
  }
 },
 "nbformat": 4,
 "nbformat_minor": 4
}