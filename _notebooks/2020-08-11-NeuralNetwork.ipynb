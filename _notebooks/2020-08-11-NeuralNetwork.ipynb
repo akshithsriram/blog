{
 "cells": [
  {
   "cell_type": "markdown",
   "metadata": {
    "papermill": {
     "duration": 0.025893,
     "end_time": "2020-08-12T00:05:21.045094",
     "exception": false,
     "start_time": "2020-08-12T00:05:21.019201",
     "status": "completed"
    },
    "tags": []
   },
   "source": [
    "# \"A Basic Neural Network: Differentiate Hand-Written Digits\"\n",
    "\n",
    "- badges: true\n",
    "- author: Akshith Sriram"
   ]
  },
  {
   "cell_type": "markdown",
   "metadata": {
    "papermill": {
     "duration": 0.025474,
     "end_time": "2020-08-12T00:05:21.095598",
     "exception": false,
     "start_time": "2020-08-12T00:05:21.070124",
     "status": "completed"
    },
    "tags": []
   },
   "source": [
    "### Key Objectives:\n",
    "- Building a neural network that differentiates two hand-written digits 3 and 8.\n",
    "- Comparing the results of this Neural Network (NN) to that of a Logistic Regression (LR) model.\n",
    "\n",
    "### Requirements:\n",
    "- 'Kudzu' : A neural network library that was designed during our course by [Univ.AI](www.univ.ai). \n",
    "- MNIST Database\n",
    "\n",
    "If MNIST is not installed, use the command `!pip install mnist` given below.\n",
    "It can be run both from the command line and Jupyter Notebook."
   ]
  },
  {
   "cell_type": "code",
   "execution_count": 1,
   "metadata": {
    "execution": {
     "iopub.execute_input": "2020-08-12T00:05:21.147574Z",
     "iopub.status.busy": "2020-08-12T00:05:21.147085Z",
     "iopub.status.idle": "2020-08-12T00:05:22.563805Z",
     "shell.execute_reply": "2020-08-12T00:05:22.563004Z"
    },
    "papermill": {
     "duration": 1.444798,
     "end_time": "2020-08-12T00:05:22.563971",
     "exception": false,
     "start_time": "2020-08-12T00:05:21.119173",
     "status": "completed"
    },
    "tags": []
   },
   "outputs": [
    {
     "name": "stdout",
     "output_type": "stream",
     "text": [
      "Collecting mnist\r\n",
      "  Downloading mnist-0.2.2-py2.py3-none-any.whl (3.5 kB)\r\n"
     ]
    },
    {
     "name": "stdout",
     "output_type": "stream",
     "text": [
      "Requirement already satisfied: numpy in /opt/hostedtoolcache/Python/3.6.11/x64/lib/python3.6/site-packages (from mnist) (1.19.1)\r\n"
     ]
    },
    {
     "name": "stdout",
     "output_type": "stream",
     "text": [
      "Installing collected packages: mnist\r\n"
     ]
    },
    {
     "name": "stdout",
     "output_type": "stream",
     "text": [
      "Successfully installed mnist-0.2.2\r\n"
     ]
    },
    {
     "name": "stdout",
     "output_type": "stream",
     "text": [
      "\u001b[33mWARNING: You are using pip version 20.2; however, version 20.2.2 is available.\r\n",
      "You should consider upgrading via the '/opt/hostedtoolcache/Python/3.6.11/x64/bin/python -m pip install --upgrade pip' command.\u001b[0m\r\n"
     ]
    }
   ],
   "source": [
    "!pip install mnist "
   ]
  },
  {
   "cell_type": "markdown",
   "metadata": {
    "papermill": {
     "duration": 0.249641,
     "end_time": "2020-08-12T00:05:22.904468",
     "exception": false,
     "start_time": "2020-08-12T00:05:22.654827",
     "status": "completed"
    },
    "tags": []
   },
   "source": [
    "#### Importing necessary libraries"
   ]
  },
  {
   "cell_type": "code",
   "execution_count": 2,
   "metadata": {
    "execution": {
     "iopub.execute_input": "2020-08-12T00:05:23.819551Z",
     "iopub.status.busy": "2020-08-12T00:05:23.819060Z",
     "iopub.status.idle": "2020-08-12T00:05:24.336995Z",
     "shell.execute_reply": "2020-08-12T00:05:24.336475Z"
    },
    "papermill": {
     "duration": 0.824179,
     "end_time": "2020-08-12T00:05:24.337134",
     "exception": false,
     "start_time": "2020-08-12T00:05:23.512955",
     "status": "completed"
    },
    "tags": []
   },
   "outputs": [],
   "source": [
    "%load_ext autoreload\n",
    "%autoreload 2\n",
    "\n",
    "%matplotlib inline\n",
    "import matplotlib.pyplot as plt\n",
    "\n",
    "import numpy as np\n",
    "import pandas as pd"
   ]
  },
  {
   "cell_type": "markdown",
   "metadata": {
    "papermill": {
     "duration": 0.023222,
     "end_time": "2020-08-12T00:05:24.385522",
     "exception": false,
     "start_time": "2020-08-12T00:05:24.362300",
     "status": "completed"
    },
    "tags": []
   },
   "source": [
    "### Preparing the Data"
   ]
  },
  {
   "cell_type": "code",
   "execution_count": 3,
   "metadata": {
    "execution": {
     "iopub.execute_input": "2020-08-12T00:05:24.436541Z",
     "iopub.status.busy": "2020-08-12T00:05:24.436004Z",
     "iopub.status.idle": "2020-08-12T00:05:24.450012Z",
     "shell.execute_reply": "2020-08-12T00:05:24.449547Z"
    },
    "papermill": {
     "duration": 0.041125,
     "end_time": "2020-08-12T00:05:24.450126",
     "exception": false,
     "start_time": "2020-08-12T00:05:24.409001",
     "status": "completed"
    },
    "tags": []
   },
   "outputs": [],
   "source": [
    "import mnist"
   ]
  },
  {
   "cell_type": "code",
   "execution_count": 4,
   "metadata": {
    "execution": {
     "iopub.execute_input": "2020-08-12T00:05:24.504529Z",
     "iopub.status.busy": "2020-08-12T00:05:24.504060Z",
     "iopub.status.idle": "2020-08-12T00:05:25.149885Z",
     "shell.execute_reply": "2020-08-12T00:05:25.149374Z"
    },
    "papermill": {
     "duration": 0.673203,
     "end_time": "2020-08-12T00:05:25.150012",
     "exception": false,
     "start_time": "2020-08-12T00:05:24.476809",
     "status": "completed"
    },
    "tags": []
   },
   "outputs": [],
   "source": [
    "train_images = mnist.train_images()\n",
    "train_labels = mnist.train_labels()"
   ]
  },
  {
   "cell_type": "code",
   "execution_count": 5,
   "metadata": {
    "execution": {
     "iopub.execute_input": "2020-08-12T00:05:25.206754Z",
     "iopub.status.busy": "2020-08-12T00:05:25.206148Z",
     "iopub.status.idle": "2020-08-12T00:05:25.221549Z",
     "shell.execute_reply": "2020-08-12T00:05:25.221076Z"
    },
    "papermill": {
     "duration": 0.044678,
     "end_time": "2020-08-12T00:05:25.221670",
     "exception": false,
     "start_time": "2020-08-12T00:05:25.176992",
     "status": "completed"
    },
    "tags": []
   },
   "outputs": [
    {
     "data": {
      "text/plain": [
       "((60000, 28, 28), (60000,))"
      ]
     },
     "execution_count": 5,
     "metadata": {},
     "output_type": "execute_result"
    }
   ],
   "source": [
    "train_images.shape, train_labels.shape"
   ]
  },
  {
   "cell_type": "code",
   "execution_count": 6,
   "metadata": {
    "execution": {
     "iopub.execute_input": "2020-08-12T00:05:25.278911Z",
     "iopub.status.busy": "2020-08-12T00:05:25.278344Z",
     "iopub.status.idle": "2020-08-12T00:05:25.533892Z",
     "shell.execute_reply": "2020-08-12T00:05:25.532981Z"
    },
    "papermill": {
     "duration": 0.286684,
     "end_time": "2020-08-12T00:05:25.534106",
     "exception": false,
     "start_time": "2020-08-12T00:05:25.247422",
     "status": "completed"
    },
    "tags": []
   },
   "outputs": [],
   "source": [
    "test_images = mnist.test_images()\n",
    "test_labels = mnist.test_labels()"
   ]
  },
  {
   "cell_type": "code",
   "execution_count": 7,
   "metadata": {
    "execution": {
     "iopub.execute_input": "2020-08-12T00:05:25.587720Z",
     "iopub.status.busy": "2020-08-12T00:05:25.587168Z",
     "iopub.status.idle": "2020-08-12T00:05:25.599890Z",
     "shell.execute_reply": "2020-08-12T00:05:25.599486Z"
    },
    "papermill": {
     "duration": 0.040365,
     "end_time": "2020-08-12T00:05:25.599990",
     "exception": false,
     "start_time": "2020-08-12T00:05:25.559625",
     "status": "completed"
    },
    "tags": []
   },
   "outputs": [
    {
     "data": {
      "text/plain": [
       "((10000, 28, 28), (10000,))"
      ]
     },
     "execution_count": 7,
     "metadata": {},
     "output_type": "execute_result"
    }
   ],
   "source": [
    "test_images.shape, test_labels.shape"
   ]
  },
  {
   "cell_type": "code",
   "execution_count": 8,
   "metadata": {
    "execution": {
     "iopub.execute_input": "2020-08-12T00:05:25.653068Z",
     "iopub.status.busy": "2020-08-12T00:05:25.652489Z",
     "iopub.status.idle": "2020-08-12T00:05:25.798664Z",
     "shell.execute_reply": "2020-08-12T00:05:25.798207Z"
    },
    "papermill": {
     "duration": 0.175043,
     "end_time": "2020-08-12T00:05:25.798788",
     "exception": false,
     "start_time": "2020-08-12T00:05:25.623745",
     "status": "completed"
    },
    "tags": []
   },
   "outputs": [
    {
     "name": "stdout",
     "output_type": "stream",
     "text": [
      "2\n"
     ]
    },
    {
     "data": {
      "text/plain": [
       "<matplotlib.image.AxesImage at 0x7f1ca12bc320>"
      ]
     },
     "execution_count": 8,
     "metadata": {},
     "output_type": "execute_result"
    },
    {
     "data": {
      "image/png": "[encoded data removed]",
      "text/plain": [
       "<Figure size 432x288 with 1 Axes>"
      ]
     },
     "metadata": {
      "needs_background": "light"
     },
     "output_type": "display_data"
    }
   ],
   "source": [
    "image_index = 7776 # You may select anything up to 60,000\n",
    "print(train_labels[image_index]) \n",
    "plt.imshow(train_images[image_index], cmap='Greys')"
   ]
  },
  {
   "cell_type": "markdown",
   "metadata": {
    "papermill": {
     "duration": 0.024173,
     "end_time": "2020-08-12T00:05:25.847465",
     "exception": false,
     "start_time": "2020-08-12T00:05:25.823292",
     "status": "completed"
    },
    "tags": []
   },
   "source": [
    "## Filter data to get 3 and 8 out"
   ]
  },
  {
   "cell_type": "code",
   "execution_count": 9,
   "metadata": {
    "execution": {
     "iopub.execute_input": "2020-08-12T00:05:25.900048Z",
     "iopub.status.busy": "2020-08-12T00:05:25.899631Z",
     "iopub.status.idle": "2020-08-12T00:05:25.914139Z",
     "shell.execute_reply": "2020-08-12T00:05:25.914551Z"
    },
    "papermill": {
     "duration": 0.042824,
     "end_time": "2020-08-12T00:05:25.914651",
     "exception": false,
     "start_time": "2020-08-12T00:05:25.871827",
     "status": "completed"
    },
    "tags": []
   },
   "outputs": [],
   "source": [
    "train_filter = np.where((train_labels == 3 ) | (train_labels == 8))\n",
    "test_filter = np.where((test_labels == 3) | (test_labels == 8))\n",
    "X_train, y_train = train_images[train_filter], train_labels[train_filter]\n",
    "X_test, y_test = test_images[test_filter], test_labels[test_filter]"
   ]
  },
  {
   "cell_type": "markdown",
   "metadata": {
    "papermill": {
     "duration": 0.025603,
     "end_time": "2020-08-12T00:05:25.965648",
     "exception": false,
     "start_time": "2020-08-12T00:05:25.940045",
     "status": "completed"
    },
    "tags": []
   },
   "source": [
    "We normalize the pixel values in the 0 to 1 range"
   ]
  },
  {
   "cell_type": "code",
   "execution_count": 10,
   "metadata": {
    "execution": {
     "iopub.execute_input": "2020-08-12T00:05:26.019502Z",
     "iopub.status.busy": "2020-08-12T00:05:26.018915Z",
     "iopub.status.idle": "2020-08-12T00:05:26.082557Z",
     "shell.execute_reply": "2020-08-12T00:05:26.082028Z"
    },
    "papermill": {
     "duration": 0.092417,
     "end_time": "2020-08-12T00:05:26.082749",
     "exception": false,
     "start_time": "2020-08-12T00:05:25.990332",
     "status": "completed"
    },
    "tags": []
   },
   "outputs": [],
   "source": [
    "X_train = X_train/255.\n",
    "X_test = X_test/255."
   ]
  },
  {
   "cell_type": "markdown",
   "metadata": {
    "papermill": {
     "duration": 0.024991,
     "end_time": "2020-08-12T00:05:26.133438",
     "exception": false,
     "start_time": "2020-08-12T00:05:26.108447",
     "status": "completed"
    },
    "tags": []
   },
   "source": [
    "Setup the labels as 1 (when the digit is 3) and 0 (when the digit is 8)"
   ]
  },
  {
   "cell_type": "code",
   "execution_count": 11,
   "metadata": {
    "execution": {
     "iopub.execute_input": "2020-08-12T00:05:26.188832Z",
     "iopub.status.busy": "2020-08-12T00:05:26.188315Z",
     "iopub.status.idle": "2020-08-12T00:05:26.201503Z",
     "shell.execute_reply": "2020-08-12T00:05:26.200524Z"
    },
    "papermill": {
     "duration": 0.042622,
     "end_time": "2020-08-12T00:05:26.201623",
     "exception": false,
     "start_time": "2020-08-12T00:05:26.159001",
     "status": "completed"
    },
    "tags": []
   },
   "outputs": [],
   "source": [
    "y_train = 1*(y_train==3)\n",
    "y_test = 1*(y_test==3)"
   ]
  },
  {
   "cell_type": "code",
   "execution_count": 12,
   "metadata": {
    "execution": {
     "iopub.execute_input": "2020-08-12T00:05:26.259779Z",
     "iopub.status.busy": "2020-08-12T00:05:26.253527Z",
     "iopub.status.idle": "2020-08-12T00:05:26.266276Z",
     "shell.execute_reply": "2020-08-12T00:05:26.265708Z"
    },
    "papermill": {
     "duration": 0.039076,
     "end_time": "2020-08-12T00:05:26.266419",
     "exception": false,
     "start_time": "2020-08-12T00:05:26.227343",
     "status": "completed"
    },
    "tags": []
   },
   "outputs": [
    {
     "data": {
      "text/plain": [
       "((11982, 28, 28), (1984, 28, 28))"
      ]
     },
     "execution_count": 12,
     "metadata": {},
     "output_type": "execute_result"
    }
   ],
   "source": [
    "X_train.shape, X_test.shape"
   ]
  },
  {
   "cell_type": "markdown",
   "metadata": {
    "papermill": {
     "duration": 0.026379,
     "end_time": "2020-08-12T00:05:26.317961",
     "exception": false,
     "start_time": "2020-08-12T00:05:26.291582",
     "status": "completed"
    },
    "tags": []
   },
   "source": [
    "### Reshape the input data to create a linear array"
   ]
  },
  {
   "cell_type": "code",
   "execution_count": 13,
   "metadata": {
    "execution": {
     "iopub.execute_input": "2020-08-12T00:05:26.372800Z",
     "iopub.status.busy": "2020-08-12T00:05:26.372187Z",
     "iopub.status.idle": "2020-08-12T00:05:26.384722Z",
     "shell.execute_reply": "2020-08-12T00:05:26.384320Z"
    },
    "papermill": {
     "duration": 0.040075,
     "end_time": "2020-08-12T00:05:26.384821",
     "exception": false,
     "start_time": "2020-08-12T00:05:26.344746",
     "status": "completed"
    },
    "tags": []
   },
   "outputs": [
    {
     "data": {
      "text/plain": [
       "((11982, 784), (1984, 784))"
      ]
     },
     "execution_count": 13,
     "metadata": {},
     "output_type": "execute_result"
    }
   ],
   "source": [
    "X_train = X_train.reshape(X_train.shape[0], -1)\n",
    "X_test = X_test.reshape(X_test.shape[0], -1)\n",
    "X_train.shape, X_test.shape"
   ]
  },
  {
   "cell_type": "markdown",
   "metadata": {
    "papermill": {
     "duration": 0.024899,
     "end_time": "2020-08-12T00:05:26.434545",
     "exception": false,
     "start_time": "2020-08-12T00:05:26.409646",
     "status": "completed"
    },
    "tags": []
   },
   "source": [
    "### Importing appropriate functions from 'Kudzu'"
   ]
  },
  {
   "cell_type": "code",
   "execution_count": 14,
   "metadata": {
    "execution": {
     "iopub.execute_input": "2020-08-12T00:05:26.490567Z",
     "iopub.status.busy": "2020-08-12T00:05:26.490096Z",
     "iopub.status.idle": "2020-08-12T00:05:26.508101Z",
     "shell.execute_reply": "2020-08-12T00:05:26.507598Z"
    },
    "papermill": {
     "duration": 0.049293,
     "end_time": "2020-08-12T00:05:26.508223",
     "exception": false,
     "start_time": "2020-08-12T00:05:26.458930",
     "status": "completed"
    },
    "tags": []
   },
   "outputs": [],
   "source": [
    "from kudzu.layer import Sigmoid\n",
    "from kudzu.layer import Relu\n",
    "from kudzu.layer import Affine, Sigmoid\n",
    "\n",
    "from kudzu.model import Model\n",
    "from kudzu.train import Learner\n",
    "from kudzu.optim import GD\n",
    "from kudzu.data import Data, Dataloader, Sampler\n",
    "\n",
    "from kudzu.callbacks import AccCallback\n",
    "from kudzu.callbacks import ClfCallback\n",
    "\n",
    "from kudzu.loss import MSE"
   ]
  },
  {
   "cell_type": "markdown",
   "metadata": {
    "papermill": {
     "duration": 0.026836,
     "end_time": "2020-08-12T00:05:26.563460",
     "exception": false,
     "start_time": "2020-08-12T00:05:26.536624",
     "status": "completed"
    },
    "tags": []
   },
   "source": [
    "### Let us create a `Config` class, to store important parameters. \n",
    "This class essentially plays the role of a dictionary."
   ]
  },
  {
   "cell_type": "code",
   "execution_count": 15,
   "metadata": {
    "execution": {
     "iopub.execute_input": "2020-08-12T00:05:26.620609Z",
     "iopub.status.busy": "2020-08-12T00:05:26.616997Z",
     "iopub.status.idle": "2020-08-12T00:05:26.630645Z",
     "shell.execute_reply": "2020-08-12T00:05:26.630194Z"
    },
    "papermill": {
     "duration": 0.042513,
     "end_time": "2020-08-12T00:05:26.630748",
     "exception": false,
     "start_time": "2020-08-12T00:05:26.588235",
     "status": "completed"
    },
    "tags": []
   },
   "outputs": [],
   "source": [
    "class Config:\n",
    "    pass\n",
    "config = Config()\n",
    "config.lr = 0.001\n",
    "config.num_epochs = 251\n",
    "config.bs = 50"
   ]
  },
  {
   "cell_type": "markdown",
   "metadata": {
    "papermill": {
     "duration": 0.025762,
     "end_time": "2020-08-12T00:05:26.684033",
     "exception": false,
     "start_time": "2020-08-12T00:05:26.658271",
     "status": "completed"
    },
    "tags": []
   },
   "source": [
    "### Initializing data to the variables"
   ]
  },
  {
   "cell_type": "code",
   "execution_count": 16,
   "metadata": {
    "execution": {
     "iopub.execute_input": "2020-08-12T00:05:26.738993Z",
     "iopub.status.busy": "2020-08-12T00:05:26.738555Z",
     "iopub.status.idle": "2020-08-12T00:05:26.749266Z",
     "shell.execute_reply": "2020-08-12T00:05:26.749734Z"
    },
    "papermill": {
     "duration": 0.040347,
     "end_time": "2020-08-12T00:05:26.749848",
     "exception": false,
     "start_time": "2020-08-12T00:05:26.709501",
     "status": "completed"
    },
    "tags": []
   },
   "outputs": [],
   "source": [
    "data = Data(X_train, y_train.reshape(-1,1))\n",
    "sampler = Sampler(data, config.bs, shuffle=True)\n",
    "\n",
    "dl = Dataloader(data, sampler)\n",
    "\n",
    "opt = GD(config.lr)\n",
    "loss = MSE()"
   ]
  },
  {
   "cell_type": "code",
   "execution_count": 17,
   "metadata": {
    "execution": {
     "iopub.execute_input": "2020-08-12T00:05:26.804316Z",
     "iopub.status.busy": "2020-08-12T00:05:26.803535Z",
     "iopub.status.idle": "2020-08-12T00:05:26.816995Z",
     "shell.execute_reply": "2020-08-12T00:05:26.817453Z"
    },
    "papermill": {
     "duration": 0.042685,
     "end_time": "2020-08-12T00:05:26.817586",
     "exception": false,
     "start_time": "2020-08-12T00:05:26.774901",
     "status": "completed"
    },
    "tags": []
   },
   "outputs": [],
   "source": [
    "training_xdata = X_train\n",
    "testing_xdata = X_test\n",
    "training_ydata = y_train.reshape(-1,1)\n",
    "testing_ydata = y_test.reshape(-1,1)"
   ]
  },
  {
   "cell_type": "markdown",
   "metadata": {
    "papermill": {
     "duration": 0.024759,
     "end_time": "2020-08-12T00:05:26.866588",
     "exception": false,
     "start_time": "2020-08-12T00:05:26.841829",
     "status": "completed"
    },
    "tags": []
   },
   "source": [
    "### Running Models with the Training data\n",
    "Details about the network layers:\n",
    "- A first affine layer has 784 inputs and does 100 affine transforms. These are followed by a Relu\n",
    "- A second affine layer has 100 inputs from the 100 activations of the past layer, and does 100 affine transforms. These are followed by a Relu\n",
    "- A third affine layer has 100 activations and does 2 affine transformations to create an embedding for visualization. There is no non-linearity here.\n",
    "- A final \"logistic regression\" which has an affine transform from 2 inputs to 1 output, which is squeezed through a sigmoid.\n",
    "\n",
    "Help taken from Anshuman's Notebook."
   ]
  },
  {
   "cell_type": "code",
   "execution_count": 18,
   "metadata": {
    "execution": {
     "iopub.execute_input": "2020-08-12T00:05:26.922701Z",
     "iopub.status.busy": "2020-08-12T00:05:26.922142Z",
     "iopub.status.idle": "2020-08-12T00:05:26.938805Z",
     "shell.execute_reply": "2020-08-12T00:05:26.938327Z"
    },
    "papermill": {
     "duration": 0.047789,
     "end_time": "2020-08-12T00:05:26.938953",
     "exception": false,
     "start_time": "2020-08-12T00:05:26.891164",
     "status": "completed"
    },
    "tags": []
   },
   "outputs": [],
   "source": [
    "# layers for the Neural Network\n",
    "layers = [Affine(\"first\", 784, 100), Relu(\"first\"), Affine(\"second\", 100, 100), Relu(\"second\"), Affine(\"third\", 100, 2), Affine(\"final\", 2, 1), Sigmoid(\"final\")]\n",
    "model_nn = Model(layers)\n",
    "\n",
    "# layers for the Logistic Regression\n",
    "layers_lr = [Affine(\"logits\", 784, 1), Sigmoid(\"sigmoid\")]\n",
    "model_lr = Model(layers_lr)"
   ]
  },
  {
   "cell_type": "code",
   "execution_count": 19,
   "metadata": {
    "execution": {
     "iopub.execute_input": "2020-08-12T00:05:26.997112Z",
     "iopub.status.busy": "2020-08-12T00:05:26.996533Z",
     "iopub.status.idle": "2020-08-12T00:05:27.011266Z",
     "shell.execute_reply": "2020-08-12T00:05:27.010622Z"
    },
    "papermill": {
     "duration": 0.046177,
     "end_time": "2020-08-12T00:05:27.011394",
     "exception": false,
     "start_time": "2020-08-12T00:05:26.965217",
     "status": "completed"
    },
    "tags": []
   },
   "outputs": [],
   "source": [
    "# suffix _nn stands for Neural Network.\n",
    "learner_nn = Learner(loss, model_nn, opt, config.num_epochs)\n",
    "acc_nn = ClfCallback(learner_nn, config.bs, training_xdata , testing_xdata, training_ydata, testing_ydata)\n",
    "learner_nn.set_callbacks([acc_nn])"
   ]
  },
  {
   "cell_type": "code",
   "execution_count": 20,
   "metadata": {
    "execution": {
     "iopub.execute_input": "2020-08-12T00:05:27.071214Z",
     "iopub.status.busy": "2020-08-12T00:05:27.070579Z",
     "iopub.status.idle": "2020-08-12T00:06:47.681796Z",
     "shell.execute_reply": "2020-08-12T00:06:47.682216Z"
    },
    "papermill": {
     "duration": 80.643834,
     "end_time": "2020-08-12T00:06:47.682347",
     "exception": false,
     "start_time": "2020-08-12T00:05:27.038513",
     "status": "completed"
    },
    "tags": []
   },
   "outputs": [
    {
     "name": "stdout",
     "output_type": "stream",
     "text": [
      "====== Neural Network ======\n"
     ]
    },
    {
     "name": "stdout",
     "output_type": "stream",
     "text": [
      "Epoch 0, Loss 0.2394\n",
      "Training Accuracy: 0.6299, Testing Accuracy: 0.6401\n",
      "\n"
     ]
    },
    {
     "name": "stdout",
     "output_type": "stream",
     "text": [
      "Epoch 10, Loss 0.1121\n",
      "Training Accuracy: 0.9141, Testing Accuracy: 0.9224\n",
      "\n"
     ]
    },
    {
     "name": "stdout",
     "output_type": "stream",
     "text": [
      "Epoch 20, Loss 0.0641\n",
      "Training Accuracy: 0.9347, Testing Accuracy: 0.9456\n",
      "\n"
     ]
    },
    {
     "name": "stdout",
     "output_type": "stream",
     "text": [
      "Epoch 30, Loss 0.0486\n",
      "Training Accuracy: 0.9485, Testing Accuracy: 0.9587\n",
      "\n"
     ]
    },
    {
     "name": "stdout",
     "output_type": "stream",
     "text": [
      "Epoch 40, Loss 0.0412\n",
      "Training Accuracy: 0.9536, Testing Accuracy: 0.9637\n",
      "\n"
     ]
    },
    {
     "name": "stdout",
     "output_type": "stream",
     "text": [
      "Epoch 50, Loss 0.0368\n",
      "Training Accuracy: 0.9584, Testing Accuracy: 0.9657\n",
      "\n"
     ]
    },
    {
     "name": "stdout",
     "output_type": "stream",
     "text": [
      "Epoch 60, Loss 0.0339\n",
      "Training Accuracy: 0.9607, Testing Accuracy: 0.9662\n",
      "\n"
     ]
    },
    {
     "name": "stdout",
     "output_type": "stream",
     "text": [
      "Epoch 70, Loss 0.0318\n",
      "Training Accuracy: 0.9624, Testing Accuracy: 0.9672\n",
      "\n"
     ]
    },
    {
     "name": "stdout",
     "output_type": "stream",
     "text": [
      "Epoch 80, Loss 0.0301\n",
      "Training Accuracy: 0.9641, Testing Accuracy: 0.9698\n",
      "\n"
     ]
    },
    {
     "name": "stdout",
     "output_type": "stream",
     "text": [
      "Epoch 90, Loss 0.0288\n",
      "Training Accuracy: 0.9654, Testing Accuracy: 0.9708\n",
      "\n"
     ]
    },
    {
     "name": "stdout",
     "output_type": "stream",
     "text": [
      "Epoch 100, Loss 0.0276\n",
      "Training Accuracy: 0.9674, Testing Accuracy: 0.9708\n",
      "\n"
     ]
    },
    {
     "name": "stdout",
     "output_type": "stream",
     "text": [
      "Epoch 110, Loss 0.0266\n",
      "Training Accuracy: 0.9688, Testing Accuracy: 0.9708\n",
      "\n"
     ]
    },
    {
     "name": "stdout",
     "output_type": "stream",
     "text": [
      "Epoch 120, Loss 0.0257\n",
      "Training Accuracy: 0.9698, Testing Accuracy: 0.9708\n",
      "\n"
     ]
    },
    {
     "name": "stdout",
     "output_type": "stream",
     "text": [
      "Epoch 130, Loss 0.025\n",
      "Training Accuracy: 0.9710, Testing Accuracy: 0.9713\n",
      "\n"
     ]
    },
    {
     "name": "stdout",
     "output_type": "stream",
     "text": [
      "Epoch 140, Loss 0.0243\n",
      "Training Accuracy: 0.9713, Testing Accuracy: 0.9708\n",
      "\n"
     ]
    },
    {
     "name": "stdout",
     "output_type": "stream",
     "text": [
      "Epoch 150, Loss 0.0236\n",
      "Training Accuracy: 0.9722, Testing Accuracy: 0.9703\n",
      "\n"
     ]
    },
    {
     "name": "stdout",
     "output_type": "stream",
     "text": [
      "Epoch 160, Loss 0.0231\n",
      "Training Accuracy: 0.9730, Testing Accuracy: 0.9713\n",
      "\n"
     ]
    },
    {
     "name": "stdout",
     "output_type": "stream",
     "text": [
      "Epoch 170, Loss 0.0226\n",
      "Training Accuracy: 0.9734, Testing Accuracy: 0.9718\n",
      "\n"
     ]
    },
    {
     "name": "stdout",
     "output_type": "stream",
     "text": [
      "Epoch 180, Loss 0.0221\n",
      "Training Accuracy: 0.9740, Testing Accuracy: 0.9713\n",
      "\n"
     ]
    },
    {
     "name": "stdout",
     "output_type": "stream",
     "text": [
      "Epoch 190, Loss 0.0216\n",
      "Training Accuracy: 0.9748, Testing Accuracy: 0.9708\n",
      "\n"
     ]
    },
    {
     "name": "stdout",
     "output_type": "stream",
     "text": [
      "Epoch 200, Loss 0.0212\n",
      "Training Accuracy: 0.9756, Testing Accuracy: 0.9713\n",
      "\n"
     ]
    },
    {
     "name": "stdout",
     "output_type": "stream",
     "text": [
      "Epoch 210, Loss 0.0207\n",
      "Training Accuracy: 0.9764, Testing Accuracy: 0.9708\n",
      "\n"
     ]
    },
    {
     "name": "stdout",
     "output_type": "stream",
     "text": [
      "Epoch 220, Loss 0.0203\n",
      "Training Accuracy: 0.9770, Testing Accuracy: 0.9703\n",
      "\n"
     ]
    },
    {
     "name": "stdout",
     "output_type": "stream",
     "text": [
      "Epoch 230, Loss 0.0199\n",
      "Training Accuracy: 0.9774, Testing Accuracy: 0.9703\n",
      "\n"
     ]
    },
    {
     "name": "stdout",
     "output_type": "stream",
     "text": [
      "Epoch 240, Loss 0.0196\n",
      "Training Accuracy: 0.9781, Testing Accuracy: 0.9708\n",
      "\n"
     ]
    },
    {
     "name": "stdout",
     "output_type": "stream",
     "text": [
      "Epoch 250, Loss 0.0192\n",
      "Training Accuracy: 0.9786, Testing Accuracy: 0.9708\n",
      "\n"
     ]
    },
    {
     "data": {
      "text/plain": [
       "0.0017508130056442656"
      ]
     },
     "execution_count": 20,
     "metadata": {},
     "output_type": "execute_result"
    }
   ],
   "source": [
    "print(\"====== Neural Network ======\")\n",
    "learner_nn.train_loop(dl)"
   ]
  },
  {
   "cell_type": "markdown",
   "metadata": {
    "papermill": {
     "duration": 0.033284,
     "end_time": "2020-08-12T00:06:47.753246",
     "exception": false,
     "start_time": "2020-08-12T00:06:47.719962",
     "status": "completed"
    },
    "tags": []
   },
   "source": [
    "### Logistic Regression based Implementation."
   ]
  },
  {
   "cell_type": "code",
   "execution_count": 21,
   "metadata": {
    "execution": {
     "iopub.execute_input": "2020-08-12T00:06:47.830267Z",
     "iopub.status.busy": "2020-08-12T00:06:47.827810Z",
     "iopub.status.idle": "2020-08-12T00:06:47.840813Z",
     "shell.execute_reply": "2020-08-12T00:06:47.841287Z"
    },
    "papermill": {
     "duration": 0.053247,
     "end_time": "2020-08-12T00:06:47.841428",
     "exception": false,
     "start_time": "2020-08-12T00:06:47.788181",
     "status": "completed"
    },
    "tags": []
   },
   "outputs": [],
   "source": [
    "learner_lr = Learner(loss, model_lr, opt, config.num_epochs)\n",
    "acc_lr = ClfCallback(learner_lr, config.bs, training_xdata , testing_xdata, training_ydata, testing_ydata)\n",
    "learner_lr.set_callbacks([acc_lr])"
   ]
  },
  {
   "cell_type": "code",
   "execution_count": 22,
   "metadata": {
    "execution": {
     "iopub.execute_input": "2020-08-12T00:06:47.916591Z",
     "iopub.status.busy": "2020-08-12T00:06:47.914029Z",
     "iopub.status.idle": "2020-08-12T00:07:02.665098Z",
     "shell.execute_reply": "2020-08-12T00:07:02.665984Z"
    },
    "papermill": {
     "duration": 14.790197,
     "end_time": "2020-08-12T00:07:02.666153",
     "exception": false,
     "start_time": "2020-08-12T00:06:47.875956",
     "status": "completed"
    },
    "tags": []
   },
   "outputs": [
    {
     "name": "stdout",
     "output_type": "stream",
     "text": [
      "====== Logistic Regression ======\n",
      "Epoch 0, Loss 0.2362\n",
      "Training Accuracy: 0.6967, Testing Accuracy: 0.6996\n",
      "\n"
     ]
    },
    {
     "name": "stdout",
     "output_type": "stream",
     "text": [
      "Epoch 10, Loss 0.1043\n",
      "Training Accuracy: 0.9046, Testing Accuracy: 0.9158\n",
      "\n"
     ]
    },
    {
     "name": "stdout",
     "output_type": "stream",
     "text": [
      "Epoch 20, Loss 0.0796\n",
      "Training Accuracy: 0.9278, Testing Accuracy: 0.9395\n",
      "\n"
     ]
    },
    {
     "name": "stdout",
     "output_type": "stream",
     "text": [
      "Epoch 30, Loss 0.0683\n",
      "Training Accuracy: 0.9377, Testing Accuracy: 0.9501\n",
      "\n"
     ]
    },
    {
     "name": "stdout",
     "output_type": "stream",
     "text": [
      "Epoch 40, Loss 0.0616\n",
      "Training Accuracy: 0.9414, Testing Accuracy: 0.9572\n",
      "\n"
     ]
    },
    {
     "name": "stdout",
     "output_type": "stream",
     "text": [
      "Epoch 50, Loss 0.057\n",
      "Training Accuracy: 0.9448, Testing Accuracy: 0.9592\n",
      "\n"
     ]
    },
    {
     "name": "stdout",
     "output_type": "stream",
     "text": [
      "Epoch 60, Loss 0.0537\n",
      "Training Accuracy: 0.9473, Testing Accuracy: 0.9592\n",
      "\n"
     ]
    },
    {
     "name": "stdout",
     "output_type": "stream",
     "text": [
      "Epoch 70, Loss 0.0511\n",
      "Training Accuracy: 0.9498, Testing Accuracy: 0.9622\n",
      "\n"
     ]
    },
    {
     "name": "stdout",
     "output_type": "stream",
     "text": [
      "Epoch 80, Loss 0.049\n",
      "Training Accuracy: 0.9515, Testing Accuracy: 0.9622\n",
      "\n"
     ]
    },
    {
     "name": "stdout",
     "output_type": "stream",
     "text": [
      "Epoch 90, Loss 0.0474\n",
      "Training Accuracy: 0.9528, Testing Accuracy: 0.9627\n",
      "\n"
     ]
    },
    {
     "name": "stdout",
     "output_type": "stream",
     "text": [
      "Epoch 100, Loss 0.0459\n",
      "Training Accuracy: 0.9535, Testing Accuracy: 0.9627\n",
      "\n"
     ]
    },
    {
     "name": "stdout",
     "output_type": "stream",
     "text": [
      "Epoch 110, Loss 0.0447\n",
      "Training Accuracy: 0.9549, Testing Accuracy: 0.9632\n",
      "\n"
     ]
    },
    {
     "name": "stdout",
     "output_type": "stream",
     "text": [
      "Epoch 120, Loss 0.0436\n",
      "Training Accuracy: 0.9554, Testing Accuracy: 0.9642\n",
      "\n"
     ]
    },
    {
     "name": "stdout",
     "output_type": "stream",
     "text": [
      "Epoch 130, Loss 0.0427\n",
      "Training Accuracy: 0.9558, Testing Accuracy: 0.9642\n",
      "\n"
     ]
    },
    {
     "name": "stdout",
     "output_type": "stream",
     "text": [
      "Epoch 140, Loss 0.0419\n",
      "Training Accuracy: 0.9562, Testing Accuracy: 0.9642\n",
      "\n"
     ]
    },
    {
     "name": "stdout",
     "output_type": "stream",
     "text": [
      "Epoch 150, Loss 0.0411\n",
      "Training Accuracy: 0.9570, Testing Accuracy: 0.9642\n",
      "\n"
     ]
    },
    {
     "name": "stdout",
     "output_type": "stream",
     "text": [
      "Epoch 160, Loss 0.0405\n",
      "Training Accuracy: 0.9579, Testing Accuracy: 0.9652\n",
      "\n"
     ]
    },
    {
     "name": "stdout",
     "output_type": "stream",
     "text": [
      "Epoch 170, Loss 0.0398\n",
      "Training Accuracy: 0.9579, Testing Accuracy: 0.9652\n",
      "\n"
     ]
    },
    {
     "name": "stdout",
     "output_type": "stream",
     "text": [
      "Epoch 180, Loss 0.0393\n",
      "Training Accuracy: 0.9585, Testing Accuracy: 0.9652\n",
      "\n"
     ]
    },
    {
     "name": "stdout",
     "output_type": "stream",
     "text": [
      "Epoch 190, Loss 0.0388\n",
      "Training Accuracy: 0.9589, Testing Accuracy: 0.9657\n",
      "\n"
     ]
    },
    {
     "name": "stdout",
     "output_type": "stream",
     "text": [
      "Epoch 200, Loss 0.0383\n",
      "Training Accuracy: 0.9594, Testing Accuracy: 0.9667\n",
      "\n"
     ]
    },
    {
     "name": "stdout",
     "output_type": "stream",
     "text": [
      "Epoch 210, Loss 0.0378\n",
      "Training Accuracy: 0.9594, Testing Accuracy: 0.9662\n",
      "\n"
     ]
    },
    {
     "name": "stdout",
     "output_type": "stream",
     "text": [
      "Epoch 220, Loss 0.0374\n",
      "Training Accuracy: 0.9602, Testing Accuracy: 0.9662\n",
      "\n"
     ]
    },
    {
     "name": "stdout",
     "output_type": "stream",
     "text": [
      "Epoch 230, Loss 0.037\n",
      "Training Accuracy: 0.9606, Testing Accuracy: 0.9662\n",
      "\n"
     ]
    },
    {
     "name": "stdout",
     "output_type": "stream",
     "text": [
      "Epoch 240, Loss 0.0367\n",
      "Training Accuracy: 0.9609, Testing Accuracy: 0.9667\n",
      "\n"
     ]
    },
    {
     "name": "stdout",
     "output_type": "stream",
     "text": [
      "Epoch 250, Loss 0.0364\n",
      "Training Accuracy: 0.9610, Testing Accuracy: 0.9667\n",
      "\n"
     ]
    },
    {
     "data": {
      "text/plain": [
       "0.0319985778660423"
      ]
     },
     "execution_count": 22,
     "metadata": {},
     "output_type": "execute_result"
    }
   ],
   "source": [
    "print(\"====== Logistic Regression ======\")\n",
    "learner_lr.train_loop(dl)"
   ]
  },
  {
   "cell_type": "markdown",
   "metadata": {
    "papermill": {
     "duration": 0.039914,
     "end_time": "2020-08-12T00:07:02.751251",
     "exception": false,
     "start_time": "2020-08-12T00:07:02.711337",
     "status": "completed"
    },
    "tags": []
   },
   "source": [
    "### Comparing results of NN and LR"
   ]
  },
  {
   "cell_type": "code",
   "execution_count": 23,
   "metadata": {
    "execution": {
     "iopub.execute_input": "2020-08-12T00:07:02.837956Z",
     "iopub.status.busy": "2020-08-12T00:07:02.836938Z",
     "iopub.status.idle": "2020-08-12T00:07:03.057726Z",
     "shell.execute_reply": "2020-08-12T00:07:03.058192Z"
    },
    "papermill": {
     "duration": 0.266623,
     "end_time": "2020-08-12T00:07:03.058347",
     "exception": false,
     "start_time": "2020-08-12T00:07:02.791724",
     "status": "completed"
    },
    "tags": []
   },
   "outputs": [
    {
     "data": {
      "text/plain": [
       "<matplotlib.legend.Legend at 0x7f1c9c6f0a90>"
      ]
     },
     "execution_count": 23,
     "metadata": {},
     "output_type": "execute_result"
    },
    {
     "data": {
      "image/png": "[encoded data removed]",
      "text/plain": [
       "<Figure size 1080x720 with 1 Axes>"
      ]
     },
     "metadata": {
      "needs_background": "light"
     },
     "output_type": "display_data"
    }
   ],
   "source": [
    "plt.figure(figsize=(15,10))\n",
    "\n",
    "# Neural Network plots\n",
    "plt.plot(acc_nn.accuracies, 'r-', label = \"Training Accuracies - NN\")\n",
    "plt.plot(acc_nn.test_accuracies, 'g-', label = \"Testing Accuracies - NN\")\n",
    "\n",
    "# Logistic Regression plots\n",
    "plt.plot(acc_lr.accuracies, 'k-', label = \"Training Accuracies - LR\")\n",
    "plt.plot(acc_lr.test_accuracies, 'b-', label = \"Testing Accuracies - LR\")\n",
    "\n",
    "plt.ylim(0.8, 1)\n",
    "\n",
    "plt.legend()\n",
    "\n"
   ]
  },
  {
   "cell_type": "markdown",
   "metadata": {
    "papermill": {
     "duration": 0.038647,
     "end_time": "2020-08-12T00:07:03.137070",
     "exception": false,
     "start_time": "2020-08-12T00:07:03.098423",
     "status": "completed"
    },
    "tags": []
   },
   "source": [
    "### From the plot, we can observe the following:\n",
    "- Neural Network achieves higher accuracy than the Logistic Regression model.\n",
    "- This apparently, is because of overfitting, i.e. NN captures more noise than data.\n",
    "- Testing accuracy of NN drops below the Training accuracy at higher epochs. This explains the over-fitting on training data.\n",
    "- Logistic Regression gives a reliable accuracy, without the above mentioned problem.\n"
   ]
  },
  {
   "cell_type": "markdown",
   "metadata": {
    "papermill": {
     "duration": 0.048228,
     "end_time": "2020-08-12T00:07:03.225923",
     "exception": false,
     "start_time": "2020-08-12T00:07:03.177695",
     "status": "completed"
    },
    "tags": []
   },
   "source": [
    "### Moving till the last but one layer (excluding it).\n",
    "#### Plotting the outputs of this layer of the NN."
   ]
  },
  {
   "cell_type": "code",
   "execution_count": 24,
   "metadata": {
    "execution": {
     "iopub.execute_input": "2020-08-12T00:07:03.315416Z",
     "iopub.status.busy": "2020-08-12T00:07:03.314795Z",
     "iopub.status.idle": "2020-08-12T00:07:03.328564Z",
     "shell.execute_reply": "2020-08-12T00:07:03.327866Z"
    },
    "papermill": {
     "duration": 0.062321,
     "end_time": "2020-08-12T00:07:03.328705",
     "exception": false,
     "start_time": "2020-08-12T00:07:03.266384",
     "status": "completed"
    },
    "tags": []
   },
   "outputs": [],
   "source": [
    "model_new = Model(layers[:-2])"
   ]
  },
  {
   "cell_type": "code",
   "execution_count": 25,
   "metadata": {
    "execution": {
     "iopub.execute_input": "2020-08-12T00:07:03.419267Z",
     "iopub.status.busy": "2020-08-12T00:07:03.418696Z",
     "iopub.status.idle": "2020-08-12T00:07:03.438096Z",
     "shell.execute_reply": "2020-08-12T00:07:03.438590Z"
    },
    "papermill": {
     "duration": 0.066475,
     "end_time": "2020-08-12T00:07:03.438746",
     "exception": false,
     "start_time": "2020-08-12T00:07:03.372271",
     "status": "completed"
    },
    "tags": []
   },
   "outputs": [],
   "source": [
    "plot_testing = model_new(testing_xdata)"
   ]
  },
  {
   "cell_type": "code",
   "execution_count": 26,
   "metadata": {
    "execution": {
     "iopub.execute_input": "2020-08-12T00:07:03.536224Z",
     "iopub.status.busy": "2020-08-12T00:07:03.535683Z",
     "iopub.status.idle": "2020-08-12T00:07:03.733907Z",
     "shell.execute_reply": "2020-08-12T00:07:03.733212Z"
    },
    "papermill": {
     "duration": 0.251737,
     "end_time": "2020-08-12T00:07:03.734033",
     "exception": false,
     "start_time": "2020-08-12T00:07:03.482296",
     "status": "completed"
    },
    "tags": []
   },
   "outputs": [
    {
     "data": {
      "text/plain": [
       "Text(0.5, 1.0, 'Outputs')"
      ]
     },
     "execution_count": 26,
     "metadata": {},
     "output_type": "execute_result"
    },
    {
     "data": {
      "image/png": "[encoded data removed]",
      "text/plain": [
       "<Figure size 576x504 with 1 Axes>"
      ]
     },
     "metadata": {
      "needs_background": "light"
     },
     "output_type": "display_data"
    }
   ],
   "source": [
    "plt.figure(figsize=(8,7))\n",
    "plt.scatter(plot_testing[:,0], plot_testing[:,1], alpha = 0.1, c = y_test.ravel());\n",
    "plt.title('Outputs')"
   ]
  },
  {
   "cell_type": "markdown",
   "metadata": {
    "papermill": {
     "duration": 0.059666,
     "end_time": "2020-08-12T00:07:03.837224",
     "exception": false,
     "start_time": "2020-08-12T00:07:03.777558",
     "status": "completed"
    },
    "tags": []
   },
   "source": [
    "### Plotting probability contours"
   ]
  },
  {
   "cell_type": "code",
   "execution_count": 27,
   "metadata": {
    "execution": {
     "iopub.execute_input": "2020-08-12T00:07:03.940174Z",
     "iopub.status.busy": "2020-08-12T00:07:03.939528Z",
     "iopub.status.idle": "2020-08-12T00:07:03.947401Z",
     "shell.execute_reply": "2020-08-12T00:07:03.946906Z"
    },
    "papermill": {
     "duration": 0.060445,
     "end_time": "2020-08-12T00:07:03.947542",
     "exception": false,
     "start_time": "2020-08-12T00:07:03.887097",
     "status": "completed"
    },
    "tags": []
   },
   "outputs": [],
   "source": [
    "model_prob = Model(layers[-2:]) "
   ]
  },
  {
   "cell_type": "code",
   "execution_count": 28,
   "metadata": {
    "execution": {
     "iopub.execute_input": "2020-08-12T00:07:04.044942Z",
     "iopub.status.busy": "2020-08-12T00:07:04.044300Z",
     "iopub.status.idle": "2020-08-12T00:07:04.058530Z",
     "shell.execute_reply": "2020-08-12T00:07:04.058917Z"
    },
    "papermill": {
     "duration": 0.064191,
     "end_time": "2020-08-12T00:07:04.059052",
     "exception": false,
     "start_time": "2020-08-12T00:07:03.994861",
     "status": "completed"
    },
    "tags": []
   },
   "outputs": [],
   "source": [
    "# Adjust the x and y ranges according to the above generated plot.\n",
    "x_range = np.linspace(-4, 1, 100) \n",
    "y_range = np.linspace(-6, 6, 100) \n",
    "x_grid, y_grid = np.meshgrid(x_range, y_range) # x_grid and y_grig are of size 100 X 100\n",
    "\n",
    "# converting x_grid and y_grid to continuous arrays\n",
    "x_grid_flat = np.ravel(x_grid)\n",
    "y_grid_flat = np.ravel(y_grid)\n",
    "\n",
    "# The last layer of the current model takes two columns as input. Hence transpose of np.vstack() is required.\n",
    "X = np.vstack((x_grid_flat, y_grid_flat)).T\n",
    "\n",
    "# x_grid and y_grid are of size 100 x 100\n",
    "probability_contour = model_prob(X).reshape(100,100) "
   ]
  },
  {
   "cell_type": "code",
   "execution_count": 29,
   "metadata": {
    "execution": {
     "iopub.execute_input": "2020-08-12T00:07:04.156211Z",
     "iopub.status.busy": "2020-08-12T00:07:04.155683Z",
     "iopub.status.idle": "2020-08-12T00:07:04.405303Z",
     "shell.execute_reply": "2020-08-12T00:07:04.405731Z"
    },
    "papermill": {
     "duration": 0.30069,
     "end_time": "2020-08-12T00:07:04.405882",
     "exception": false,
     "start_time": "2020-08-12T00:07:04.105192",
     "status": "completed"
    },
    "tags": []
   },
   "outputs": [
    {
     "data": {
      "image/png": "[encoded data removed]",
      "text/plain": [
       "<Figure size 720x648 with 1 Axes>"
      ]
     },
     "metadata": {
      "needs_background": "light"
     },
     "output_type": "display_data"
    }
   ],
   "source": [
    "plt.figure(figsize=(10,9))\n",
    "plt.scatter(plot_testing[:,0], plot_testing[:,1], alpha = 0.1, c = y_test.ravel())\n",
    "contours = plt.contour(x_grid,y_grid,probability_contour)\n",
    "plt.title('Probability Contours')\n",
    "plt.clabel(contours, inline = True );"
   ]
  }
 ],
 "metadata": {
  "kernelspec": {
   "display_name": "Python 3",
   "language": "python",
   "name": "python3"
  },
  "language_info": {
   "codemirror_mode": {
    "name": "ipython",
    "version": 3
   },
   "file_extension": ".py",
   "mimetype": "text/x-python",
   "name": "python",
   "nbconvert_exporter": "python",
   "pygments_lexer": "ipython3",
   "version": "3.6.11"
  },
  "papermill": {
   "duration": 104.789252,
   "end_time": "2020-08-12T00:07:04.759460",
   "environment_variables": {},
   "exception": null,
   "input_path": "2020-08-11-NeuralNetwork.ipynb",
   "output_path": "2020-08-11-NeuralNetwork.ipynb",
   "parameters": {},
   "start_time": "2020-08-12T00:05:19.970208",
   "version": "2.1.2"
  }
 },
 "nbformat": 4,
 "nbformat_minor": 4
}