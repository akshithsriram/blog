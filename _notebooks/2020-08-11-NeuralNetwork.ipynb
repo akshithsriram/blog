{
 "cells": [
  {
   "cell_type": "markdown",
   "metadata": {
    "papermill": {
     "duration": 0.029984,
     "end_time": "2020-08-18T00:05:29.015216",
     "exception": false,
     "start_time": "2020-08-18T00:05:28.985232",
     "status": "completed"
    },
    "tags": []
   },
   "source": [
    "# \"A Basic Neural Network: Differentiate Hand-Written Digits\"\n",
    "\n",
    "- badges: true\n",
    "- author: Akshith Sriram"
   ]
  },
  {
   "cell_type": "markdown",
   "metadata": {
    "papermill": {
     "duration": 0.025396,
     "end_time": "2020-08-18T00:05:29.068142",
     "exception": false,
     "start_time": "2020-08-18T00:05:29.042746",
     "status": "completed"
    },
    "tags": []
   },
   "source": [
    "### Key Objectives:\n",
    "- Building a neural network that differentiates two hand-written digits 3 and 8.\n",
    "- Comparing the results of this Neural Network (NN) to that of a Logistic Regression (LR) model.\n",
    "\n",
    "### Requirements:\n",
    "- 'Kudzu' : A neural network library that was designed during our course by [Univ.AI](www.univ.ai). \n",
    "- MNIST Database\n",
    "\n",
    "If MNIST is not installed, use the command `!pip install mnist` given below.\n",
    "It can be run both from the command line and Jupyter Notebook."
   ]
  },
  {
   "cell_type": "code",
   "execution_count": 1,
   "metadata": {
    "execution": {
     "iopub.execute_input": "2020-08-18T00:05:29.123605Z",
     "iopub.status.busy": "2020-08-18T00:05:29.122946Z",
     "iopub.status.idle": "2020-08-18T00:05:30.590725Z",
     "shell.execute_reply": "2020-08-18T00:05:30.589741Z"
    },
    "papermill": {
     "duration": 1.497397,
     "end_time": "2020-08-18T00:05:30.590897",
     "exception": false,
     "start_time": "2020-08-18T00:05:29.093500",
     "status": "completed"
    },
    "tags": []
   },
   "outputs": [
    {
     "name": "stdout",
     "output_type": "stream",
     "text": [
      "Collecting mnist\r\n"
     ]
    },
    {
     "name": "stdout",
     "output_type": "stream",
     "text": [
      "  Downloading mnist-0.2.2-py2.py3-none-any.whl (3.5 kB)\r\n"
     ]
    },
    {
     "name": "stdout",
     "output_type": "stream",
     "text": [
      "Requirement already satisfied: numpy in /opt/hostedtoolcache/Python/3.6.11/x64/lib/python3.6/site-packages (from mnist) (1.19.1)\r\n"
     ]
    },
    {
     "name": "stdout",
     "output_type": "stream",
     "text": [
      "Installing collected packages: mnist\r\n",
      "Successfully installed mnist-0.2.2\r\n"
     ]
    },
    {
     "name": "stdout",
     "output_type": "stream",
     "text": [
      "\u001b[33mWARNING: You are using pip version 20.2.1; however, version 20.2.2 is available.\r\n",
      "You should consider upgrading via the '/opt/hostedtoolcache/Python/3.6.11/x64/bin/python -m pip install --upgrade pip' command.\u001b[0m\r\n"
     ]
    }
   ],
   "source": [
    "!pip install mnist "
   ]
  },
  {
   "cell_type": "markdown",
   "metadata": {
    "papermill": {
     "duration": 0.027197,
     "end_time": "2020-08-18T00:05:30.645600",
     "exception": false,
     "start_time": "2020-08-18T00:05:30.618403",
     "status": "completed"
    },
    "tags": []
   },
   "source": [
    "#### Importing necessary libraries"
   ]
  },
  {
   "cell_type": "code",
   "execution_count": 2,
   "metadata": {
    "execution": {
     "iopub.execute_input": "2020-08-18T00:05:30.708344Z",
     "iopub.status.busy": "2020-08-18T00:05:30.707747Z",
     "iopub.status.idle": "2020-08-18T00:05:31.311639Z",
     "shell.execute_reply": "2020-08-18T00:05:31.310801Z"
    },
    "papermill": {
     "duration": 0.638692,
     "end_time": "2020-08-18T00:05:31.311829",
     "exception": false,
     "start_time": "2020-08-18T00:05:30.673137",
     "status": "completed"
    },
    "tags": []
   },
   "outputs": [],
   "source": [
    "%load_ext autoreload\n",
    "%autoreload 2\n",
    "\n",
    "%matplotlib inline\n",
    "import matplotlib.pyplot as plt\n",
    "\n",
    "import numpy as np\n",
    "import pandas as pd"
   ]
  },
  {
   "cell_type": "markdown",
   "metadata": {
    "papermill": {
     "duration": 0.315782,
     "end_time": "2020-08-18T00:05:31.655958",
     "exception": false,
     "start_time": "2020-08-18T00:05:31.340176",
     "status": "completed"
    },
    "tags": []
   },
   "source": [
    "### Preparing the Data"
   ]
  },
  {
   "cell_type": "code",
   "execution_count": 3,
   "metadata": {
    "execution": {
     "iopub.execute_input": "2020-08-18T00:05:31.716298Z",
     "iopub.status.busy": "2020-08-18T00:05:31.715291Z",
     "iopub.status.idle": "2020-08-18T00:05:31.728784Z",
     "shell.execute_reply": "2020-08-18T00:05:31.728243Z"
    },
    "papermill": {
     "duration": 0.044109,
     "end_time": "2020-08-18T00:05:31.728933",
     "exception": false,
     "start_time": "2020-08-18T00:05:31.684824",
     "status": "completed"
    },
    "tags": []
   },
   "outputs": [],
   "source": [
    "import mnist"
   ]
  },
  {
   "cell_type": "code",
   "execution_count": 4,
   "metadata": {
    "execution": {
     "iopub.execute_input": "2020-08-18T00:05:31.787082Z",
     "iopub.status.busy": "2020-08-18T00:05:31.786490Z",
     "iopub.status.idle": "2020-08-18T00:05:32.904597Z",
     "shell.execute_reply": "2020-08-18T00:05:32.903996Z"
    },
    "papermill": {
     "duration": 1.148686,
     "end_time": "2020-08-18T00:05:32.904759",
     "exception": false,
     "start_time": "2020-08-18T00:05:31.756073",
     "status": "completed"
    },
    "tags": []
   },
   "outputs": [],
   "source": [
    "train_images = mnist.train_images()\n",
    "train_labels = mnist.train_labels()"
   ]
  },
  {
   "cell_type": "code",
   "execution_count": 5,
   "metadata": {
    "execution": {
     "iopub.execute_input": "2020-08-18T00:05:32.964870Z",
     "iopub.status.busy": "2020-08-18T00:05:32.964264Z",
     "iopub.status.idle": "2020-08-18T00:05:32.981991Z",
     "shell.execute_reply": "2020-08-18T00:05:32.982746Z"
    },
    "papermill": {
     "duration": 0.049554,
     "end_time": "2020-08-18T00:05:32.982905",
     "exception": false,
     "start_time": "2020-08-18T00:05:32.933351",
     "status": "completed"
    },
    "tags": []
   },
   "outputs": [
    {
     "data": {
      "text/plain": [
       "((60000, 28, 28), (60000,))"
      ]
     },
     "execution_count": 5,
     "metadata": {},
     "output_type": "execute_result"
    }
   ],
   "source": [
    "train_images.shape, train_labels.shape"
   ]
  },
  {
   "cell_type": "code",
   "execution_count": 6,
   "metadata": {
    "execution": {
     "iopub.execute_input": "2020-08-18T00:05:33.044540Z",
     "iopub.status.busy": "2020-08-18T00:05:33.043946Z",
     "iopub.status.idle": "2020-08-18T00:05:33.488793Z",
     "shell.execute_reply": "2020-08-18T00:05:33.488027Z"
    },
    "papermill": {
     "duration": 0.478515,
     "end_time": "2020-08-18T00:05:33.488944",
     "exception": false,
     "start_time": "2020-08-18T00:05:33.010429",
     "status": "completed"
    },
    "tags": []
   },
   "outputs": [],
   "source": [
    "test_images = mnist.test_images()\n",
    "test_labels = mnist.test_labels()"
   ]
  },
  {
   "cell_type": "code",
   "execution_count": 7,
   "metadata": {
    "execution": {
     "iopub.execute_input": "2020-08-18T00:05:33.548021Z",
     "iopub.status.busy": "2020-08-18T00:05:33.547315Z",
     "iopub.status.idle": "2020-08-18T00:05:33.562654Z",
     "shell.execute_reply": "2020-08-18T00:05:33.562063Z"
    },
    "papermill": {
     "duration": 0.046376,
     "end_time": "2020-08-18T00:05:33.562786",
     "exception": false,
     "start_time": "2020-08-18T00:05:33.516410",
     "status": "completed"
    },
    "tags": []
   },
   "outputs": [
    {
     "data": {
      "text/plain": [
       "((10000, 28, 28), (10000,))"
      ]
     },
     "execution_count": 7,
     "metadata": {},
     "output_type": "execute_result"
    }
   ],
   "source": [
    "test_images.shape, test_labels.shape"
   ]
  },
  {
   "cell_type": "code",
   "execution_count": 8,
   "metadata": {
    "execution": {
     "iopub.execute_input": "2020-08-18T00:05:33.623137Z",
     "iopub.status.busy": "2020-08-18T00:05:33.622555Z",
     "iopub.status.idle": "2020-08-18T00:05:33.774833Z",
     "shell.execute_reply": "2020-08-18T00:05:33.774021Z"
    },
    "papermill": {
     "duration": 0.183605,
     "end_time": "2020-08-18T00:05:33.774976",
     "exception": false,
     "start_time": "2020-08-18T00:05:33.591371",
     "status": "completed"
    },
    "tags": []
   },
   "outputs": [
    {
     "name": "stdout",
     "output_type": "stream",
     "text": [
      "2\n"
     ]
    },
    {
     "data": {
      "text/plain": [
       "<matplotlib.image.AxesImage at 0x7f46bc7a4278>"
      ]
     },
     "execution_count": 8,
     "metadata": {},
     "output_type": "execute_result"
    },
    {
     "data": {
      "image/png": "[encoded data removed]",
      "text/plain": [
       "<Figure size 432x288 with 1 Axes>"
      ]
     },
     "metadata": {
      "needs_background": "light"
     },
     "output_type": "display_data"
    }
   ],
   "source": [
    "image_index = 7776 # You may select anything up to 60,000\n",
    "print(train_labels[image_index]) \n",
    "plt.imshow(train_images[image_index], cmap='Greys')"
   ]
  },
  {
   "cell_type": "markdown",
   "metadata": {
    "papermill": {
     "duration": 0.028583,
     "end_time": "2020-08-18T00:05:33.832545",
     "exception": false,
     "start_time": "2020-08-18T00:05:33.803962",
     "status": "completed"
    },
    "tags": []
   },
   "source": [
    "## Filter data to get 3 and 8 out"
   ]
  },
  {
   "cell_type": "code",
   "execution_count": 9,
   "metadata": {
    "execution": {
     "iopub.execute_input": "2020-08-18T00:05:33.895184Z",
     "iopub.status.busy": "2020-08-18T00:05:33.894564Z",
     "iopub.status.idle": "2020-08-18T00:05:33.913665Z",
     "shell.execute_reply": "2020-08-18T00:05:33.913163Z"
    },
    "papermill": {
     "duration": 0.052726,
     "end_time": "2020-08-18T00:05:33.913823",
     "exception": false,
     "start_time": "2020-08-18T00:05:33.861097",
     "status": "completed"
    },
    "tags": []
   },
   "outputs": [],
   "source": [
    "train_filter = np.where((train_labels == 3 ) | (train_labels == 8))\n",
    "test_filter = np.where((test_labels == 3) | (test_labels == 8))\n",
    "X_train, y_train = train_images[train_filter], train_labels[train_filter]\n",
    "X_test, y_test = test_images[test_filter], test_labels[test_filter]"
   ]
  },
  {
   "cell_type": "markdown",
   "metadata": {
    "papermill": {
     "duration": 0.028372,
     "end_time": "2020-08-18T00:05:33.970843",
     "exception": false,
     "start_time": "2020-08-18T00:05:33.942471",
     "status": "completed"
    },
    "tags": []
   },
   "source": [
    "We normalize the pixel values in the 0 to 1 range"
   ]
  },
  {
   "cell_type": "code",
   "execution_count": 10,
   "metadata": {
    "execution": {
     "iopub.execute_input": "2020-08-18T00:05:34.033612Z",
     "iopub.status.busy": "2020-08-18T00:05:34.033022Z",
     "iopub.status.idle": "2020-08-18T00:05:34.088810Z",
     "shell.execute_reply": "2020-08-18T00:05:34.088223Z"
    },
    "papermill": {
     "duration": 0.088913,
     "end_time": "2020-08-18T00:05:34.088968",
     "exception": false,
     "start_time": "2020-08-18T00:05:34.000055",
     "status": "completed"
    },
    "tags": []
   },
   "outputs": [],
   "source": [
    "X_train = X_train/255.\n",
    "X_test = X_test/255."
   ]
  },
  {
   "cell_type": "markdown",
   "metadata": {
    "papermill": {
     "duration": 0.030447,
     "end_time": "2020-08-18T00:05:34.149648",
     "exception": false,
     "start_time": "2020-08-18T00:05:34.119201",
     "status": "completed"
    },
    "tags": []
   },
   "source": [
    "Setup the labels as 1 (when the digit is 3) and 0 (when the digit is 8)"
   ]
  },
  {
   "cell_type": "code",
   "execution_count": 11,
   "metadata": {
    "execution": {
     "iopub.execute_input": "2020-08-18T00:05:34.214887Z",
     "iopub.status.busy": "2020-08-18T00:05:34.214300Z",
     "iopub.status.idle": "2020-08-18T00:05:34.228069Z",
     "shell.execute_reply": "2020-08-18T00:05:34.227576Z"
    },
    "papermill": {
     "duration": 0.049541,
     "end_time": "2020-08-18T00:05:34.228206",
     "exception": false,
     "start_time": "2020-08-18T00:05:34.178665",
     "status": "completed"
    },
    "tags": []
   },
   "outputs": [],
   "source": [
    "y_train = 1*(y_train==3)\n",
    "y_test = 1*(y_test==3)"
   ]
  },
  {
   "cell_type": "code",
   "execution_count": 12,
   "metadata": {
    "execution": {
     "iopub.execute_input": "2020-08-18T00:05:34.299948Z",
     "iopub.status.busy": "2020-08-18T00:05:34.299219Z",
     "iopub.status.idle": "2020-08-18T00:05:34.312902Z",
     "shell.execute_reply": "2020-08-18T00:05:34.313382Z"
    },
    "papermill": {
     "duration": 0.056368,
     "end_time": "2020-08-18T00:05:34.313541",
     "exception": false,
     "start_time": "2020-08-18T00:05:34.257173",
     "status": "completed"
    },
    "tags": []
   },
   "outputs": [
    {
     "data": {
      "text/plain": [
       "((11982, 28, 28), (1984, 28, 28))"
      ]
     },
     "execution_count": 12,
     "metadata": {},
     "output_type": "execute_result"
    }
   ],
   "source": [
    "X_train.shape, X_test.shape"
   ]
  },
  {
   "cell_type": "markdown",
   "metadata": {
    "papermill": {
     "duration": 0.028969,
     "end_time": "2020-08-18T00:05:34.371518",
     "exception": false,
     "start_time": "2020-08-18T00:05:34.342549",
     "status": "completed"
    },
    "tags": []
   },
   "source": [
    "### Reshape the input data to create a linear array"
   ]
  },
  {
   "cell_type": "code",
   "execution_count": 13,
   "metadata": {
    "execution": {
     "iopub.execute_input": "2020-08-18T00:05:34.434805Z",
     "iopub.status.busy": "2020-08-18T00:05:34.434194Z",
     "iopub.status.idle": "2020-08-18T00:05:34.449610Z",
     "shell.execute_reply": "2020-08-18T00:05:34.449128Z"
    },
    "papermill": {
     "duration": 0.048829,
     "end_time": "2020-08-18T00:05:34.449769",
     "exception": false,
     "start_time": "2020-08-18T00:05:34.400940",
     "status": "completed"
    },
    "tags": []
   },
   "outputs": [
    {
     "data": {
      "text/plain": [
       "((11982, 784), (1984, 784))"
      ]
     },
     "execution_count": 13,
     "metadata": {},
     "output_type": "execute_result"
    }
   ],
   "source": [
    "X_train = X_train.reshape(X_train.shape[0], -1)\n",
    "X_test = X_test.reshape(X_test.shape[0], -1)\n",
    "X_train.shape, X_test.shape"
   ]
  },
  {
   "cell_type": "markdown",
   "metadata": {
    "papermill": {
     "duration": 0.029057,
     "end_time": "2020-08-18T00:05:34.508305",
     "exception": false,
     "start_time": "2020-08-18T00:05:34.479248",
     "status": "completed"
    },
    "tags": []
   },
   "source": [
    "### Importing appropriate functions from 'Kudzu'"
   ]
  },
  {
   "cell_type": "code",
   "execution_count": 14,
   "metadata": {
    "execution": {
     "iopub.execute_input": "2020-08-18T00:05:34.574573Z",
     "iopub.status.busy": "2020-08-18T00:05:34.573961Z",
     "iopub.status.idle": "2020-08-18T00:05:34.596222Z",
     "shell.execute_reply": "2020-08-18T00:05:34.595635Z"
    },
    "papermill": {
     "duration": 0.058632,
     "end_time": "2020-08-18T00:05:34.596383",
     "exception": false,
     "start_time": "2020-08-18T00:05:34.537751",
     "status": "completed"
    },
    "tags": []
   },
   "outputs": [],
   "source": [
    "from kudzu.layer import Sigmoid\n",
    "from kudzu.layer import Relu\n",
    "from kudzu.layer import Affine, Sigmoid\n",
    "\n",
    "from kudzu.model import Model\n",
    "from kudzu.train import Learner\n",
    "from kudzu.optim import GD\n",
    "from kudzu.data import Data, Dataloader, Sampler\n",
    "\n",
    "from kudzu.callbacks import AccCallback\n",
    "from kudzu.callbacks import ClfCallback\n",
    "\n",
    "from kudzu.loss import MSE"
   ]
  },
  {
   "cell_type": "markdown",
   "metadata": {
    "papermill": {
     "duration": 0.028892,
     "end_time": "2020-08-18T00:05:34.655644",
     "exception": false,
     "start_time": "2020-08-18T00:05:34.626752",
     "status": "completed"
    },
    "tags": []
   },
   "source": [
    "### Let us create a `Config` class, to store important parameters. \n",
    "This class essentially plays the role of a dictionary."
   ]
  },
  {
   "cell_type": "code",
   "execution_count": 15,
   "metadata": {
    "execution": {
     "iopub.execute_input": "2020-08-18T00:05:34.717917Z",
     "iopub.status.busy": "2020-08-18T00:05:34.717265Z",
     "iopub.status.idle": "2020-08-18T00:05:34.731788Z",
     "shell.execute_reply": "2020-08-18T00:05:34.731216Z"
    },
    "papermill": {
     "duration": 0.047425,
     "end_time": "2020-08-18T00:05:34.731910",
     "exception": false,
     "start_time": "2020-08-18T00:05:34.684485",
     "status": "completed"
    },
    "tags": []
   },
   "outputs": [],
   "source": [
    "class Config:\n",
    "    pass\n",
    "config = Config()\n",
    "config.lr = 0.001\n",
    "config.num_epochs = 251\n",
    "config.bs = 50"
   ]
  },
  {
   "cell_type": "markdown",
   "metadata": {
    "papermill": {
     "duration": 0.029001,
     "end_time": "2020-08-18T00:05:34.794376",
     "exception": false,
     "start_time": "2020-08-18T00:05:34.765375",
     "status": "completed"
    },
    "tags": []
   },
   "source": [
    "### Initializing data to the variables"
   ]
  },
  {
   "cell_type": "code",
   "execution_count": 16,
   "metadata": {
    "execution": {
     "iopub.execute_input": "2020-08-18T00:05:34.856856Z",
     "iopub.status.busy": "2020-08-18T00:05:34.856269Z",
     "iopub.status.idle": "2020-08-18T00:05:34.870192Z",
     "shell.execute_reply": "2020-08-18T00:05:34.870722Z"
    },
    "papermill": {
     "duration": 0.047826,
     "end_time": "2020-08-18T00:05:34.870898",
     "exception": false,
     "start_time": "2020-08-18T00:05:34.823072",
     "status": "completed"
    },
    "tags": []
   },
   "outputs": [],
   "source": [
    "data = Data(X_train, y_train.reshape(-1,1))\n",
    "sampler = Sampler(data, config.bs, shuffle=True)\n",
    "\n",
    "dl = Dataloader(data, sampler)\n",
    "\n",
    "opt = GD(config.lr)\n",
    "loss = MSE()"
   ]
  },
  {
   "cell_type": "code",
   "execution_count": 17,
   "metadata": {
    "execution": {
     "iopub.execute_input": "2020-08-18T00:05:34.934920Z",
     "iopub.status.busy": "2020-08-18T00:05:34.934336Z",
     "iopub.status.idle": "2020-08-18T00:05:34.947178Z",
     "shell.execute_reply": "2020-08-18T00:05:34.947625Z"
    },
    "papermill": {
     "duration": 0.04671,
     "end_time": "2020-08-18T00:05:34.947778",
     "exception": false,
     "start_time": "2020-08-18T00:05:34.901068",
     "status": "completed"
    },
    "tags": []
   },
   "outputs": [],
   "source": [
    "training_xdata = X_train\n",
    "testing_xdata = X_test\n",
    "training_ydata = y_train.reshape(-1,1)\n",
    "testing_ydata = y_test.reshape(-1,1)"
   ]
  },
  {
   "cell_type": "markdown",
   "metadata": {
    "papermill": {
     "duration": 0.028973,
     "end_time": "2020-08-18T00:05:35.006159",
     "exception": false,
     "start_time": "2020-08-18T00:05:34.977186",
     "status": "completed"
    },
    "tags": []
   },
   "source": [
    "### Running Models with the Training data\n",
    "Details about the network layers:\n",
    "- A first affine layer has 784 inputs and does 100 affine transforms. These are followed by a Relu\n",
    "- A second affine layer has 100 inputs from the 100 activations of the past layer, and does 100 affine transforms. These are followed by a Relu\n",
    "- A third affine layer has 100 activations and does 2 affine transformations to create an embedding for visualization. There is no non-linearity here.\n",
    "- A final \"logistic regression\" which has an affine transform from 2 inputs to 1 output, which is squeezed through a sigmoid.\n",
    "\n",
    "Help taken from Anshuman's Notebook."
   ]
  },
  {
   "cell_type": "code",
   "execution_count": 18,
   "metadata": {
    "execution": {
     "iopub.execute_input": "2020-08-18T00:05:35.073465Z",
     "iopub.status.busy": "2020-08-18T00:05:35.072867Z",
     "iopub.status.idle": "2020-08-18T00:05:35.091577Z",
     "shell.execute_reply": "2020-08-18T00:05:35.091069Z"
    },
    "papermill": {
     "duration": 0.056085,
     "end_time": "2020-08-18T00:05:35.091710",
     "exception": false,
     "start_time": "2020-08-18T00:05:35.035625",
     "status": "completed"
    },
    "tags": []
   },
   "outputs": [],
   "source": [
    "# layers for the Neural Network\n",
    "layers = [Affine(\"first\", 784, 100), Relu(\"first\"), Affine(\"second\", 100, 100), Relu(\"second\"), Affine(\"third\", 100, 2), Affine(\"final\", 2, 1), Sigmoid(\"final\")]\n",
    "model_nn = Model(layers)\n",
    "\n",
    "# layers for the Logistic Regression\n",
    "layers_lr = [Affine(\"logits\", 784, 1), Sigmoid(\"sigmoid\")]\n",
    "model_lr = Model(layers_lr)"
   ]
  },
  {
   "cell_type": "code",
   "execution_count": 19,
   "metadata": {
    "execution": {
     "iopub.execute_input": "2020-08-18T00:05:35.155613Z",
     "iopub.status.busy": "2020-08-18T00:05:35.154835Z",
     "iopub.status.idle": "2020-08-18T00:05:35.168344Z",
     "shell.execute_reply": "2020-08-18T00:05:35.168905Z"
    },
    "papermill": {
     "duration": 0.047755,
     "end_time": "2020-08-18T00:05:35.169058",
     "exception": false,
     "start_time": "2020-08-18T00:05:35.121303",
     "status": "completed"
    },
    "tags": []
   },
   "outputs": [],
   "source": [
    "# suffix _nn stands for Neural Network.\n",
    "learner_nn = Learner(loss, model_nn, opt, config.num_epochs)\n",
    "acc_nn = ClfCallback(learner_nn, config.bs, training_xdata , testing_xdata, training_ydata, testing_ydata)\n",
    "learner_nn.set_callbacks([acc_nn])"
   ]
  },
  {
   "cell_type": "code",
   "execution_count": 20,
   "metadata": {
    "execution": {
     "iopub.execute_input": "2020-08-18T00:05:35.231256Z",
     "iopub.status.busy": "2020-08-18T00:05:35.230668Z",
     "iopub.status.idle": "2020-08-18T00:07:01.004659Z",
     "shell.execute_reply": "2020-08-18T00:07:01.005454Z"
    },
    "papermill": {
     "duration": 85.806891,
     "end_time": "2020-08-18T00:07:01.005614",
     "exception": false,
     "start_time": "2020-08-18T00:05:35.198723",
     "status": "completed"
    },
    "tags": []
   },
   "outputs": [
    {
     "name": "stdout",
     "output_type": "stream",
     "text": [
      "====== Neural Network ======\n"
     ]
    },
    {
     "name": "stdout",
     "output_type": "stream",
     "text": [
      "Epoch 0, Loss 0.2506\n",
      "Training Accuracy: 0.4931, Testing Accuracy: 0.4934\n",
      "\n"
     ]
    },
    {
     "name": "stdout",
     "output_type": "stream",
     "text": [
      "Epoch 10, Loss 0.1387\n",
      "Training Accuracy: 0.9008, Testing Accuracy: 0.9108\n",
      "\n"
     ]
    },
    {
     "name": "stdout",
     "output_type": "stream",
     "text": [
      "Epoch 20, Loss 0.0726\n",
      "Training Accuracy: 0.9290, Testing Accuracy: 0.9395\n",
      "\n"
     ]
    },
    {
     "name": "stdout",
     "output_type": "stream",
     "text": [
      "Epoch 30, Loss 0.0523\n",
      "Training Accuracy: 0.9431, Testing Accuracy: 0.9531\n",
      "\n"
     ]
    },
    {
     "name": "stdout",
     "output_type": "stream",
     "text": [
      "Epoch 40, Loss 0.0432\n",
      "Training Accuracy: 0.9509, Testing Accuracy: 0.9592\n",
      "\n"
     ]
    },
    {
     "name": "stdout",
     "output_type": "stream",
     "text": [
      "Epoch 50, Loss 0.038\n",
      "Training Accuracy: 0.9561, Testing Accuracy: 0.9642\n",
      "\n"
     ]
    },
    {
     "name": "stdout",
     "output_type": "stream",
     "text": [
      "Epoch 60, Loss 0.0347\n",
      "Training Accuracy: 0.9591, Testing Accuracy: 0.9667\n",
      "\n"
     ]
    },
    {
     "name": "stdout",
     "output_type": "stream",
     "text": [
      "Epoch 70, Loss 0.0324\n",
      "Training Accuracy: 0.9621, Testing Accuracy: 0.9667\n",
      "\n"
     ]
    },
    {
     "name": "stdout",
     "output_type": "stream",
     "text": [
      "Epoch 80, Loss 0.0306\n",
      "Training Accuracy: 0.9639, Testing Accuracy: 0.9682\n",
      "\n"
     ]
    },
    {
     "name": "stdout",
     "output_type": "stream",
     "text": [
      "Epoch 90, Loss 0.0292\n",
      "Training Accuracy: 0.9654, Testing Accuracy: 0.9693\n",
      "\n"
     ]
    },
    {
     "name": "stdout",
     "output_type": "stream",
     "text": [
      "Epoch 100, Loss 0.028\n",
      "Training Accuracy: 0.9667, Testing Accuracy: 0.9698\n",
      "\n"
     ]
    },
    {
     "name": "stdout",
     "output_type": "stream",
     "text": [
      "Epoch 110, Loss 0.027\n",
      "Training Accuracy: 0.9680, Testing Accuracy: 0.9693\n",
      "\n"
     ]
    },
    {
     "name": "stdout",
     "output_type": "stream",
     "text": [
      "Epoch 120, Loss 0.0262\n",
      "Training Accuracy: 0.9690, Testing Accuracy: 0.9693\n",
      "\n"
     ]
    },
    {
     "name": "stdout",
     "output_type": "stream",
     "text": [
      "Epoch 130, Loss 0.0254\n",
      "Training Accuracy: 0.9702, Testing Accuracy: 0.9698\n",
      "\n"
     ]
    },
    {
     "name": "stdout",
     "output_type": "stream",
     "text": [
      "Epoch 140, Loss 0.0248\n",
      "Training Accuracy: 0.9710, Testing Accuracy: 0.9703\n",
      "\n"
     ]
    },
    {
     "name": "stdout",
     "output_type": "stream",
     "text": [
      "Epoch 150, Loss 0.0241\n",
      "Training Accuracy: 0.9717, Testing Accuracy: 0.9708\n",
      "\n"
     ]
    },
    {
     "name": "stdout",
     "output_type": "stream",
     "text": [
      "Epoch 160, Loss 0.0236\n",
      "Training Accuracy: 0.9723, Testing Accuracy: 0.9708\n",
      "\n"
     ]
    },
    {
     "name": "stdout",
     "output_type": "stream",
     "text": [
      "Epoch 170, Loss 0.0231\n",
      "Training Accuracy: 0.9728, Testing Accuracy: 0.9703\n",
      "\n"
     ]
    },
    {
     "name": "stdout",
     "output_type": "stream",
     "text": [
      "Epoch 180, Loss 0.0226\n",
      "Training Accuracy: 0.9730, Testing Accuracy: 0.9703\n",
      "\n"
     ]
    },
    {
     "name": "stdout",
     "output_type": "stream",
     "text": [
      "Epoch 190, Loss 0.0221\n",
      "Training Accuracy: 0.9743, Testing Accuracy: 0.9698\n",
      "\n"
     ]
    },
    {
     "name": "stdout",
     "output_type": "stream",
     "text": [
      "Epoch 200, Loss 0.0217\n",
      "Training Accuracy: 0.9748, Testing Accuracy: 0.9703\n",
      "\n"
     ]
    },
    {
     "name": "stdout",
     "output_type": "stream",
     "text": [
      "Epoch 210, Loss 0.0213\n",
      "Training Accuracy: 0.9755, Testing Accuracy: 0.9703\n",
      "\n"
     ]
    },
    {
     "name": "stdout",
     "output_type": "stream",
     "text": [
      "Epoch 220, Loss 0.0209\n",
      "Training Accuracy: 0.9755, Testing Accuracy: 0.9703\n",
      "\n"
     ]
    },
    {
     "name": "stdout",
     "output_type": "stream",
     "text": [
      "Epoch 230, Loss 0.0205\n",
      "Training Accuracy: 0.9760, Testing Accuracy: 0.9703\n",
      "\n"
     ]
    },
    {
     "name": "stdout",
     "output_type": "stream",
     "text": [
      "Epoch 240, Loss 0.0202\n",
      "Training Accuracy: 0.9762, Testing Accuracy: 0.9708\n",
      "\n"
     ]
    },
    {
     "name": "stdout",
     "output_type": "stream",
     "text": [
      "Epoch 250, Loss 0.0198\n",
      "Training Accuracy: 0.9767, Testing Accuracy: 0.9708\n",
      "\n"
     ]
    },
    {
     "data": {
      "text/plain": [
       "0.003467250716962361"
      ]
     },
     "execution_count": 20,
     "metadata": {},
     "output_type": "execute_result"
    }
   ],
   "source": [
    "print(\"====== Neural Network ======\")\n",
    "learner_nn.train_loop(dl)"
   ]
  },
  {
   "cell_type": "markdown",
   "metadata": {
    "papermill": {
     "duration": 0.037401,
     "end_time": "2020-08-18T00:07:01.081514",
     "exception": false,
     "start_time": "2020-08-18T00:07:01.044113",
     "status": "completed"
    },
    "tags": []
   },
   "source": [
    "### Logistic Regression based Implementation."
   ]
  },
  {
   "cell_type": "code",
   "execution_count": 21,
   "metadata": {
    "execution": {
     "iopub.execute_input": "2020-08-18T00:07:01.162169Z",
     "iopub.status.busy": "2020-08-18T00:07:01.161306Z",
     "iopub.status.idle": "2020-08-18T00:07:01.177158Z",
     "shell.execute_reply": "2020-08-18T00:07:01.176524Z"
    },
    "papermill": {
     "duration": 0.057709,
     "end_time": "2020-08-18T00:07:01.177292",
     "exception": false,
     "start_time": "2020-08-18T00:07:01.119583",
     "status": "completed"
    },
    "tags": []
   },
   "outputs": [],
   "source": [
    "learner_lr = Learner(loss, model_lr, opt, config.num_epochs)\n",
    "acc_lr = ClfCallback(learner_lr, config.bs, training_xdata , testing_xdata, training_ydata, testing_ydata)\n",
    "learner_lr.set_callbacks([acc_lr])"
   ]
  },
  {
   "cell_type": "code",
   "execution_count": 22,
   "metadata": {
    "execution": {
     "iopub.execute_input": "2020-08-18T00:07:01.264509Z",
     "iopub.status.busy": "2020-08-18T00:07:01.261149Z",
     "iopub.status.idle": "2020-08-18T00:07:17.072505Z",
     "shell.execute_reply": "2020-08-18T00:07:17.071928Z"
    },
    "papermill": {
     "duration": 15.857223,
     "end_time": "2020-08-18T00:07:17.072630",
     "exception": false,
     "start_time": "2020-08-18T00:07:01.215407",
     "status": "completed"
    },
    "tags": []
   },
   "outputs": [
    {
     "name": "stdout",
     "output_type": "stream",
     "text": [
      "====== Logistic Regression ======\n",
      "Epoch 0, Loss 0.2742\n",
      "Training Accuracy: 0.5821, Testing Accuracy: 0.5983\n",
      "\n"
     ]
    },
    {
     "name": "stdout",
     "output_type": "stream",
     "text": [
      "Epoch 10, Loss 0.1048\n",
      "Training Accuracy: 0.9116, Testing Accuracy: 0.9204\n",
      "\n"
     ]
    },
    {
     "name": "stdout",
     "output_type": "stream",
     "text": [
      "Epoch 20, Loss 0.0802\n",
      "Training Accuracy: 0.9288, Testing Accuracy: 0.9350\n",
      "\n"
     ]
    },
    {
     "name": "stdout",
     "output_type": "stream",
     "text": [
      "Epoch 30, Loss 0.069\n",
      "Training Accuracy: 0.9363, Testing Accuracy: 0.9471\n",
      "\n"
     ]
    },
    {
     "name": "stdout",
     "output_type": "stream",
     "text": [
      "Epoch 40, Loss 0.0623\n",
      "Training Accuracy: 0.9406, Testing Accuracy: 0.9511\n",
      "\n"
     ]
    },
    {
     "name": "stdout",
     "output_type": "stream",
     "text": [
      "Epoch 50, Loss 0.0577\n",
      "Training Accuracy: 0.9437, Testing Accuracy: 0.9541\n",
      "\n"
     ]
    },
    {
     "name": "stdout",
     "output_type": "stream",
     "text": [
      "Epoch 60, Loss 0.0543\n",
      "Training Accuracy: 0.9463, Testing Accuracy: 0.9577\n",
      "\n"
     ]
    },
    {
     "name": "stdout",
     "output_type": "stream",
     "text": [
      "Epoch 70, Loss 0.0517\n",
      "Training Accuracy: 0.9484, Testing Accuracy: 0.9582\n",
      "\n"
     ]
    },
    {
     "name": "stdout",
     "output_type": "stream",
     "text": [
      "Epoch 80, Loss 0.0496\n",
      "Training Accuracy: 0.9499, Testing Accuracy: 0.9602\n",
      "\n"
     ]
    },
    {
     "name": "stdout",
     "output_type": "stream",
     "text": [
      "Epoch 90, Loss 0.0479\n",
      "Training Accuracy: 0.9511, Testing Accuracy: 0.9612\n",
      "\n"
     ]
    },
    {
     "name": "stdout",
     "output_type": "stream",
     "text": [
      "Epoch 100, Loss 0.0465\n",
      "Training Accuracy: 0.9521, Testing Accuracy: 0.9612\n",
      "\n"
     ]
    },
    {
     "name": "stdout",
     "output_type": "stream",
     "text": [
      "Epoch 110, Loss 0.0452\n",
      "Training Accuracy: 0.9525, Testing Accuracy: 0.9617\n",
      "\n"
     ]
    },
    {
     "name": "stdout",
     "output_type": "stream",
     "text": [
      "Epoch 120, Loss 0.0441\n",
      "Training Accuracy: 0.9533, Testing Accuracy: 0.9627\n",
      "\n"
     ]
    },
    {
     "name": "stdout",
     "output_type": "stream",
     "text": [
      "Epoch 130, Loss 0.0432\n",
      "Training Accuracy: 0.9543, Testing Accuracy: 0.9642\n",
      "\n"
     ]
    },
    {
     "name": "stdout",
     "output_type": "stream",
     "text": [
      "Epoch 140, Loss 0.0423\n",
      "Training Accuracy: 0.9548, Testing Accuracy: 0.9642\n",
      "\n"
     ]
    },
    {
     "name": "stdout",
     "output_type": "stream",
     "text": [
      "Epoch 150, Loss 0.0416\n",
      "Training Accuracy: 0.9559, Testing Accuracy: 0.9642\n",
      "\n"
     ]
    },
    {
     "name": "stdout",
     "output_type": "stream",
     "text": [
      "Epoch 160, Loss 0.0409\n",
      "Training Accuracy: 0.9571, Testing Accuracy: 0.9642\n",
      "\n"
     ]
    },
    {
     "name": "stdout",
     "output_type": "stream",
     "text": [
      "Epoch 170, Loss 0.0403\n",
      "Training Accuracy: 0.9578, Testing Accuracy: 0.9637\n",
      "\n"
     ]
    },
    {
     "name": "stdout",
     "output_type": "stream",
     "text": [
      "Epoch 180, Loss 0.0397\n",
      "Training Accuracy: 0.9584, Testing Accuracy: 0.9647\n",
      "\n"
     ]
    },
    {
     "name": "stdout",
     "output_type": "stream",
     "text": [
      "Epoch 190, Loss 0.0392\n",
      "Training Accuracy: 0.9587, Testing Accuracy: 0.9652\n",
      "\n"
     ]
    },
    {
     "name": "stdout",
     "output_type": "stream",
     "text": [
      "Epoch 200, Loss 0.0387\n",
      "Training Accuracy: 0.9593, Testing Accuracy: 0.9652\n",
      "\n"
     ]
    },
    {
     "name": "stdout",
     "output_type": "stream",
     "text": [
      "Epoch 210, Loss 0.0382\n",
      "Training Accuracy: 0.9596, Testing Accuracy: 0.9652\n",
      "\n"
     ]
    },
    {
     "name": "stdout",
     "output_type": "stream",
     "text": [
      "Epoch 220, Loss 0.0378\n",
      "Training Accuracy: 0.9601, Testing Accuracy: 0.9652\n",
      "\n"
     ]
    },
    {
     "name": "stdout",
     "output_type": "stream",
     "text": [
      "Epoch 230, Loss 0.0374\n",
      "Training Accuracy: 0.9604, Testing Accuracy: 0.9652\n",
      "\n"
     ]
    },
    {
     "name": "stdout",
     "output_type": "stream",
     "text": [
      "Epoch 240, Loss 0.037\n",
      "Training Accuracy: 0.9607, Testing Accuracy: 0.9657\n",
      "\n"
     ]
    },
    {
     "name": "stdout",
     "output_type": "stream",
     "text": [
      "Epoch 250, Loss 0.0367\n",
      "Training Accuracy: 0.9611, Testing Accuracy: 0.9662\n",
      "\n"
     ]
    },
    {
     "data": {
      "text/plain": [
       "0.05310928297014582"
      ]
     },
     "execution_count": 22,
     "metadata": {},
     "output_type": "execute_result"
    }
   ],
   "source": [
    "print(\"====== Logistic Regression ======\")\n",
    "learner_lr.train_loop(dl)"
   ]
  },
  {
   "cell_type": "markdown",
   "metadata": {
    "papermill": {
     "duration": 0.045154,
     "end_time": "2020-08-18T00:07:17.163195",
     "exception": false,
     "start_time": "2020-08-18T00:07:17.118041",
     "status": "completed"
    },
    "tags": []
   },
   "source": [
    "### Comparing results of NN and LR"
   ]
  },
  {
   "cell_type": "code",
   "execution_count": 23,
   "metadata": {
    "execution": {
     "iopub.execute_input": "2020-08-18T00:07:17.263014Z",
     "iopub.status.busy": "2020-08-18T00:07:17.262423Z",
     "iopub.status.idle": "2020-08-18T00:07:17.497371Z",
     "shell.execute_reply": "2020-08-18T00:07:17.496868Z"
    },
    "papermill": {
     "duration": 0.288645,
     "end_time": "2020-08-18T00:07:17.497502",
     "exception": false,
     "start_time": "2020-08-18T00:07:17.208857",
     "status": "completed"
    },
    "tags": []
   },
   "outputs": [
    {
     "data": {
      "text/plain": [
       "<matplotlib.legend.Legend at 0x7f46bc3819b0>"
      ]
     },
     "execution_count": 23,
     "metadata": {},
     "output_type": "execute_result"
    },
    {
     "data": {
      "image/png": "[encoded data removed]",
      "text/plain": [
       "<Figure size 1080x720 with 1 Axes>"
      ]
     },
     "metadata": {
      "needs_background": "light"
     },
     "output_type": "display_data"
    }
   ],
   "source": [
    "plt.figure(figsize=(15,10))\n",
    "\n",
    "# Neural Network plots\n",
    "plt.plot(acc_nn.accuracies, 'r-', label = \"Training Accuracies - NN\")\n",
    "plt.plot(acc_nn.test_accuracies, 'g-', label = \"Testing Accuracies - NN\")\n",
    "\n",
    "# Logistic Regression plots\n",
    "plt.plot(acc_lr.accuracies, 'k-', label = \"Training Accuracies - LR\")\n",
    "plt.plot(acc_lr.test_accuracies, 'b-', label = \"Testing Accuracies - LR\")\n",
    "\n",
    "plt.ylim(0.8, 1)\n",
    "\n",
    "plt.legend()\n",
    "\n"
   ]
  },
  {
   "cell_type": "markdown",
   "metadata": {
    "papermill": {
     "duration": 0.045512,
     "end_time": "2020-08-18T00:07:17.588959",
     "exception": false,
     "start_time": "2020-08-18T00:07:17.543447",
     "status": "completed"
    },
    "tags": []
   },
   "source": [
    "### From the plot, we can observe the following:\n",
    "- Neural Network achieves higher accuracy than the Logistic Regression model.\n",
    "- This apparently, is because of overfitting, i.e. NN captures more noise than data.\n",
    "- Testing accuracy of NN drops below the Training accuracy at higher epochs. This explains the over-fitting on training data.\n",
    "- Logistic Regression gives a reliable accuracy, without the above mentioned problem.\n"
   ]
  },
  {
   "cell_type": "markdown",
   "metadata": {
    "papermill": {
     "duration": 0.046539,
     "end_time": "2020-08-18T00:07:17.682117",
     "exception": false,
     "start_time": "2020-08-18T00:07:17.635578",
     "status": "completed"
    },
    "tags": []
   },
   "source": [
    "### Moving till the last but one layer (excluding it).\n",
    "#### Plotting the outputs of this layer of the NN."
   ]
  },
  {
   "cell_type": "code",
   "execution_count": 24,
   "metadata": {
    "execution": {
     "iopub.execute_input": "2020-08-18T00:07:17.780369Z",
     "iopub.status.busy": "2020-08-18T00:07:17.779756Z",
     "iopub.status.idle": "2020-08-18T00:07:17.792341Z",
     "shell.execute_reply": "2020-08-18T00:07:17.791830Z"
    },
    "papermill": {
     "duration": 0.064024,
     "end_time": "2020-08-18T00:07:17.792474",
     "exception": false,
     "start_time": "2020-08-18T00:07:17.728450",
     "status": "completed"
    },
    "tags": []
   },
   "outputs": [],
   "source": [
    "model_new = Model(layers[:-2])"
   ]
  },
  {
   "cell_type": "code",
   "execution_count": 25,
   "metadata": {
    "execution": {
     "iopub.execute_input": "2020-08-18T00:07:17.894942Z",
     "iopub.status.busy": "2020-08-18T00:07:17.893382Z",
     "iopub.status.idle": "2020-08-18T00:07:17.914457Z",
     "shell.execute_reply": "2020-08-18T00:07:17.914949Z"
    },
    "papermill": {
     "duration": 0.075103,
     "end_time": "2020-08-18T00:07:17.915108",
     "exception": false,
     "start_time": "2020-08-18T00:07:17.840005",
     "status": "completed"
    },
    "tags": []
   },
   "outputs": [],
   "source": [
    "plot_testing = model_new(testing_xdata)"
   ]
  },
  {
   "cell_type": "code",
   "execution_count": 26,
   "metadata": {
    "execution": {
     "iopub.execute_input": "2020-08-18T00:07:18.019183Z",
     "iopub.status.busy": "2020-08-18T00:07:18.018596Z",
     "iopub.status.idle": "2020-08-18T00:07:18.238261Z",
     "shell.execute_reply": "2020-08-18T00:07:18.238734Z"
    },
    "papermill": {
     "duration": 0.274925,
     "end_time": "2020-08-18T00:07:18.238892",
     "exception": false,
     "start_time": "2020-08-18T00:07:17.963967",
     "status": "completed"
    },
    "tags": []
   },
   "outputs": [
    {
     "data": {
      "text/plain": [
       "Text(0.5, 1.0, 'Outputs')"
      ]
     },
     "execution_count": 26,
     "metadata": {},
     "output_type": "execute_result"
    },
    {
     "data": {
      "image/png": "[encoded data removed]",
      "text/plain": [
       "<Figure size 576x504 with 1 Axes>"
      ]
     },
     "metadata": {
      "needs_background": "light"
     },
     "output_type": "display_data"
    }
   ],
   "source": [
    "plt.figure(figsize=(8,7))\n",
    "plt.scatter(plot_testing[:,0], plot_testing[:,1], alpha = 0.1, c = y_test.ravel());\n",
    "plt.title('Outputs')"
   ]
  },
  {
   "cell_type": "markdown",
   "metadata": {
    "papermill": {
     "duration": 0.050097,
     "end_time": "2020-08-18T00:07:18.339749",
     "exception": false,
     "start_time": "2020-08-18T00:07:18.289652",
     "status": "completed"
    },
    "tags": []
   },
   "source": [
    "### Plotting probability contours"
   ]
  },
  {
   "cell_type": "code",
   "execution_count": 27,
   "metadata": {
    "execution": {
     "iopub.execute_input": "2020-08-18T00:07:18.442722Z",
     "iopub.status.busy": "2020-08-18T00:07:18.442144Z",
     "iopub.status.idle": "2020-08-18T00:07:18.455481Z",
     "shell.execute_reply": "2020-08-18T00:07:18.455917Z"
    },
    "papermill": {
     "duration": 0.066179,
     "end_time": "2020-08-18T00:07:18.456070",
     "exception": false,
     "start_time": "2020-08-18T00:07:18.389891",
     "status": "completed"
    },
    "tags": []
   },
   "outputs": [],
   "source": [
    "model_prob = Model(layers[-2:]) "
   ]
  },
  {
   "cell_type": "code",
   "execution_count": 28,
   "metadata": {
    "execution": {
     "iopub.execute_input": "2020-08-18T00:07:18.559343Z",
     "iopub.status.busy": "2020-08-18T00:07:18.558795Z",
     "iopub.status.idle": "2020-08-18T00:07:18.572965Z",
     "shell.execute_reply": "2020-08-18T00:07:18.573412Z"
    },
    "papermill": {
     "duration": 0.06877,
     "end_time": "2020-08-18T00:07:18.573569",
     "exception": false,
     "start_time": "2020-08-18T00:07:18.504799",
     "status": "completed"
    },
    "tags": []
   },
   "outputs": [],
   "source": [
    "# Adjust the x and y ranges according to the above generated plot.\n",
    "x_range = np.linspace(-4, 1, 100) \n",
    "y_range = np.linspace(-6, 6, 100) \n",
    "x_grid, y_grid = np.meshgrid(x_range, y_range) # x_grid and y_grig are of size 100 X 100\n",
    "\n",
    "# converting x_grid and y_grid to continuous arrays\n",
    "x_grid_flat = np.ravel(x_grid)\n",
    "y_grid_flat = np.ravel(y_grid)\n",
    "\n",
    "# The last layer of the current model takes two columns as input. Hence transpose of np.vstack() is required.\n",
    "X = np.vstack((x_grid_flat, y_grid_flat)).T\n",
    "\n",
    "# x_grid and y_grid are of size 100 x 100\n",
    "probability_contour = model_prob(X).reshape(100,100) "
   ]
  },
  {
   "cell_type": "code",
   "execution_count": 29,
   "metadata": {
    "execution": {
     "iopub.execute_input": "2020-08-18T00:07:18.683629Z",
     "iopub.status.busy": "2020-08-18T00:07:18.683083Z",
     "iopub.status.idle": "2020-08-18T00:07:18.932619Z",
     "shell.execute_reply": "2020-08-18T00:07:18.933130Z"
    },
    "papermill": {
     "duration": 0.308596,
     "end_time": "2020-08-18T00:07:18.933281",
     "exception": false,
     "start_time": "2020-08-18T00:07:18.624685",
     "status": "completed"
    },
    "tags": []
   },
   "outputs": [
    {
     "data": {
      "image/png": "[encoded data removed]",
      "text/plain": [
       "<Figure size 720x648 with 1 Axes>"
      ]
     },
     "metadata": {
      "needs_background": "light"
     },
     "output_type": "display_data"
    }
   ],
   "source": [
    "plt.figure(figsize=(10,9))\n",
    "plt.scatter(plot_testing[:,0], plot_testing[:,1], alpha = 0.1, c = y_test.ravel())\n",
    "contours = plt.contour(x_grid,y_grid,probability_contour)\n",
    "plt.title('Probability Contours')\n",
    "plt.clabel(contours, inline = True );"
   ]
  }
 ],
 "metadata": {
  "kernelspec": {
   "display_name": "Python 3",
   "language": "python",
   "name": "python3"
  },
  "language_info": {
   "codemirror_mode": {
    "name": "ipython",
    "version": 3
   },
   "file_extension": ".py",
   "mimetype": "text/x-python",
   "name": "python",
   "nbconvert_exporter": "python",
   "pygments_lexer": "ipython3",
   "version": "3.6.11"
  },
  "papermill": {
   "duration": 112.353426,
   "end_time": "2020-08-18T00:07:20.179993",
   "environment_variables": {},
   "exception": null,
   "input_path": "2020-08-11-NeuralNetwork.ipynb",
   "output_path": "2020-08-11-NeuralNetwork.ipynb",
   "parameters": {},
   "start_time": "2020-08-18T00:05:27.826567",
   "version": "2.1.2"
  }
 },
 "nbformat": 4,
 "nbformat_minor": 4
}