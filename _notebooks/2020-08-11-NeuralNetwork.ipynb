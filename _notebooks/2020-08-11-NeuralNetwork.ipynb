{
 "cells": [
  {
   "cell_type": "markdown",
   "metadata": {
    "papermill": {
     "duration": 0.025376,
     "end_time": "2020-12-02T20:04:10.323074",
     "exception": false,
     "start_time": "2020-12-02T20:04:10.297698",
     "status": "completed"
    },
    "tags": []
   },
   "source": [
    "# \"A Basic Neural Network: Differentiate Hand-Written Digits\"\n",
    "\n",
    "- badges: true\n",
    "- author: Akshith Sriram"
   ]
  },
  {
   "cell_type": "markdown",
   "metadata": {
    "papermill": {
     "duration": 0.022722,
     "end_time": "2020-12-02T20:04:10.367812",
     "exception": false,
     "start_time": "2020-12-02T20:04:10.345090",
     "status": "completed"
    },
    "tags": []
   },
   "source": [
    "### Key Objectives:\n",
    "- Building a neural network that differentiates two hand-written digits 3 and 8.\n",
    "- Comparing the results of this Neural Network (NN) to that of a Logistic Regression (LR) model.\n",
    "\n",
    "### Requirements:\n",
    "- 'Kudzu' : A neural network library that was designed during our course by [Univ.AI](www.univ.ai). \n",
    "- MNIST Database\n",
    "\n",
    "If MNIST is not installed, use the command `!pip install mnist` given below.\n",
    "It can be run both from the command line and Jupyter Notebook."
   ]
  },
  {
   "cell_type": "code",
   "execution_count": 1,
   "metadata": {
    "execution": {
     "iopub.execute_input": "2020-12-02T20:04:10.427915Z",
     "iopub.status.busy": "2020-12-02T20:04:10.427259Z",
     "iopub.status.idle": "2020-12-02T20:04:13.704151Z",
     "shell.execute_reply": "2020-12-02T20:04:13.704648Z"
    },
    "papermill": {
     "duration": 3.314314,
     "end_time": "2020-12-02T20:04:13.704817",
     "exception": false,
     "start_time": "2020-12-02T20:04:10.390503",
     "status": "completed"
    },
    "tags": []
   },
   "outputs": [
    {
     "name": "stdout",
     "output_type": "stream",
     "text": [
      "Collecting mnist\r\n",
      "  Downloading mnist-0.2.2-py2.py3-none-any.whl (3.5 kB)\r\n"
     ]
    },
    {
     "name": "stdout",
     "output_type": "stream",
     "text": [
      "Requirement already satisfied: numpy in /opt/hostedtoolcache/Python/3.6.12/x64/lib/python3.6/site-packages (from mnist) (1.19.4)\r\n"
     ]
    },
    {
     "name": "stdout",
     "output_type": "stream",
     "text": [
      "Installing collected packages: mnist\r\n"
     ]
    },
    {
     "name": "stdout",
     "output_type": "stream",
     "text": [
      "Successfully installed mnist-0.2.2\r\n"
     ]
    },
    {
     "name": "stdout",
     "output_type": "stream",
     "text": [
      "\u001b[33mWARNING: You are using pip version 20.2.4; however, version 20.3 is available.\r\n",
      "You should consider upgrading via the '/opt/hostedtoolcache/Python/3.6.12/x64/bin/python -m pip install --upgrade pip' command.\u001b[0m\r\n"
     ]
    }
   ],
   "source": [
    "!pip install mnist "
   ]
  },
  {
   "cell_type": "markdown",
   "metadata": {
    "papermill": {
     "duration": 0.023298,
     "end_time": "2020-12-02T20:04:13.752003",
     "exception": false,
     "start_time": "2020-12-02T20:04:13.728705",
     "status": "completed"
    },
    "tags": []
   },
   "source": [
    "#### Importing necessary libraries"
   ]
  },
  {
   "cell_type": "code",
   "execution_count": 2,
   "metadata": {
    "execution": {
     "iopub.execute_input": "2020-12-02T20:04:13.814851Z",
     "iopub.status.busy": "2020-12-02T20:04:13.814260Z",
     "iopub.status.idle": "2020-12-02T20:04:14.336609Z",
     "shell.execute_reply": "2020-12-02T20:04:14.337088Z"
    },
    "papermill": {
     "duration": 0.560701,
     "end_time": "2020-12-02T20:04:14.337256",
     "exception": false,
     "start_time": "2020-12-02T20:04:13.776555",
     "status": "completed"
    },
    "tags": []
   },
   "outputs": [],
   "source": [
    "%load_ext autoreload\n",
    "%autoreload 2\n",
    "\n",
    "%matplotlib inline\n",
    "import matplotlib.pyplot as plt\n",
    "\n",
    "import numpy as np\n",
    "import pandas as pd"
   ]
  },
  {
   "cell_type": "markdown",
   "metadata": {
    "papermill": {
     "duration": 0.023528,
     "end_time": "2020-12-02T20:04:14.384234",
     "exception": false,
     "start_time": "2020-12-02T20:04:14.360706",
     "status": "completed"
    },
    "tags": []
   },
   "source": [
    "### Preparing the Data"
   ]
  },
  {
   "cell_type": "code",
   "execution_count": 3,
   "metadata": {
    "execution": {
     "iopub.execute_input": "2020-12-02T20:04:14.435530Z",
     "iopub.status.busy": "2020-12-02T20:04:14.434992Z",
     "iopub.status.idle": "2020-12-02T20:04:14.445543Z",
     "shell.execute_reply": "2020-12-02T20:04:14.445018Z"
    },
    "papermill": {
     "duration": 0.037447,
     "end_time": "2020-12-02T20:04:14.445693",
     "exception": false,
     "start_time": "2020-12-02T20:04:14.408246",
     "status": "completed"
    },
    "tags": []
   },
   "outputs": [],
   "source": [
    "import mnist"
   ]
  },
  {
   "cell_type": "code",
   "execution_count": 4,
   "metadata": {
    "execution": {
     "iopub.execute_input": "2020-12-02T20:04:14.501343Z",
     "iopub.status.busy": "2020-12-02T20:04:14.500772Z",
     "iopub.status.idle": "2020-12-02T20:04:16.066318Z",
     "shell.execute_reply": "2020-12-02T20:04:16.065634Z"
    },
    "papermill": {
     "duration": 1.59414,
     "end_time": "2020-12-02T20:04:16.066459",
     "exception": false,
     "start_time": "2020-12-02T20:04:14.472319",
     "status": "completed"
    },
    "tags": []
   },
   "outputs": [],
   "source": [
    "train_images = mnist.train_images()\n",
    "train_labels = mnist.train_labels()"
   ]
  },
  {
   "cell_type": "code",
   "execution_count": 5,
   "metadata": {
    "execution": {
     "iopub.execute_input": "2020-12-02T20:04:16.124913Z",
     "iopub.status.busy": "2020-12-02T20:04:16.124263Z",
     "iopub.status.idle": "2020-12-02T20:04:16.137844Z",
     "shell.execute_reply": "2020-12-02T20:04:16.138389Z"
    },
    "papermill": {
     "duration": 0.044138,
     "end_time": "2020-12-02T20:04:16.138516",
     "exception": false,
     "start_time": "2020-12-02T20:04:16.094378",
     "status": "completed"
    },
    "tags": []
   },
   "outputs": [
    {
     "data": {
      "text/plain": [
       "((60000, 28, 28), (60000,))"
      ]
     },
     "execution_count": 5,
     "metadata": {},
     "output_type": "execute_result"
    }
   ],
   "source": [
    "train_images.shape, train_labels.shape"
   ]
  },
  {
   "cell_type": "code",
   "execution_count": 6,
   "metadata": {
    "execution": {
     "iopub.execute_input": "2020-12-02T20:04:16.189598Z",
     "iopub.status.busy": "2020-12-02T20:04:16.189056Z",
     "iopub.status.idle": "2020-12-02T20:04:17.034685Z",
     "shell.execute_reply": "2020-12-02T20:04:17.034080Z"
    },
    "papermill": {
     "duration": 0.873298,
     "end_time": "2020-12-02T20:04:17.034924",
     "exception": false,
     "start_time": "2020-12-02T20:04:16.161626",
     "status": "completed"
    },
    "tags": []
   },
   "outputs": [],
   "source": [
    "test_images = mnist.test_images()\n",
    "test_labels = mnist.test_labels()"
   ]
  },
  {
   "cell_type": "code",
   "execution_count": 7,
   "metadata": {
    "execution": {
     "iopub.execute_input": "2020-12-02T20:04:17.089594Z",
     "iopub.status.busy": "2020-12-02T20:04:17.089008Z",
     "iopub.status.idle": "2020-12-02T20:04:17.100622Z",
     "shell.execute_reply": "2020-12-02T20:04:17.100193Z"
    },
    "papermill": {
     "duration": 0.040289,
     "end_time": "2020-12-02T20:04:17.100734",
     "exception": false,
     "start_time": "2020-12-02T20:04:17.060445",
     "status": "completed"
    },
    "tags": []
   },
   "outputs": [
    {
     "data": {
      "text/plain": [
       "((10000, 28, 28), (10000,))"
      ]
     },
     "execution_count": 7,
     "metadata": {},
     "output_type": "execute_result"
    }
   ],
   "source": [
    "test_images.shape, test_labels.shape"
   ]
  },
  {
   "cell_type": "code",
   "execution_count": 8,
   "metadata": {
    "execution": {
     "iopub.execute_input": "2020-12-02T20:04:17.155327Z",
     "iopub.status.busy": "2020-12-02T20:04:17.154761Z",
     "iopub.status.idle": "2020-12-02T20:04:17.311655Z",
     "shell.execute_reply": "2020-12-02T20:04:17.311192Z"
    },
    "papermill": {
     "duration": 0.185351,
     "end_time": "2020-12-02T20:04:17.311783",
     "exception": false,
     "start_time": "2020-12-02T20:04:17.126432",
     "status": "completed"
    },
    "tags": []
   },
   "outputs": [
    {
     "name": "stdout",
     "output_type": "stream",
     "text": [
      "2\n"
     ]
    },
    {
     "data": {
      "text/plain": [
       "<matplotlib.image.AxesImage at 0x7fa5452db0b8>"
      ]
     },
     "execution_count": 8,
     "metadata": {},
     "output_type": "execute_result"
    },
    {
     "data": {
      "image/png": "[encoded data removed]",
      "text/plain": [
       "<Figure size 432x288 with 1 Axes>"
      ]
     },
     "metadata": {
      "needs_background": "light"
     },
     "output_type": "display_data"
    }
   ],
   "source": [
    "image_index = 7776 # You may select anything up to 60,000\n",
    "print(train_labels[image_index]) \n",
    "plt.imshow(train_images[image_index], cmap='Greys')"
   ]
  },
  {
   "cell_type": "markdown",
   "metadata": {
    "papermill": {
     "duration": 0.030495,
     "end_time": "2020-12-02T20:04:17.368420",
     "exception": false,
     "start_time": "2020-12-02T20:04:17.337925",
     "status": "completed"
    },
    "tags": []
   },
   "source": [
    "## Filter data to get 3 and 8 out"
   ]
  },
  {
   "cell_type": "code",
   "execution_count": 9,
   "metadata": {
    "execution": {
     "iopub.execute_input": "2020-12-02T20:04:17.426823Z",
     "iopub.status.busy": "2020-12-02T20:04:17.426162Z",
     "iopub.status.idle": "2020-12-02T20:04:17.444522Z",
     "shell.execute_reply": "2020-12-02T20:04:17.443902Z"
    },
    "papermill": {
     "duration": 0.048185,
     "end_time": "2020-12-02T20:04:17.444641",
     "exception": false,
     "start_time": "2020-12-02T20:04:17.396456",
     "status": "completed"
    },
    "tags": []
   },
   "outputs": [],
   "source": [
    "train_filter = np.where((train_labels == 3 ) | (train_labels == 8))\n",
    "test_filter = np.where((test_labels == 3) | (test_labels == 8))\n",
    "X_train, y_train = train_images[train_filter], train_labels[train_filter]\n",
    "X_test, y_test = test_images[test_filter], test_labels[test_filter]"
   ]
  },
  {
   "cell_type": "markdown",
   "metadata": {
    "papermill": {
     "duration": 0.026527,
     "end_time": "2020-12-02T20:04:17.496861",
     "exception": false,
     "start_time": "2020-12-02T20:04:17.470334",
     "status": "completed"
    },
    "tags": []
   },
   "source": [
    "We normalize the pixel values in the 0 to 1 range"
   ]
  },
  {
   "cell_type": "code",
   "execution_count": 10,
   "metadata": {
    "execution": {
     "iopub.execute_input": "2020-12-02T20:04:17.553920Z",
     "iopub.status.busy": "2020-12-02T20:04:17.553236Z",
     "iopub.status.idle": "2020-12-02T20:04:17.612542Z",
     "shell.execute_reply": "2020-12-02T20:04:17.612994Z"
    },
    "papermill": {
     "duration": 0.090578,
     "end_time": "2020-12-02T20:04:17.613143",
     "exception": false,
     "start_time": "2020-12-02T20:04:17.522565",
     "status": "completed"
    },
    "tags": []
   },
   "outputs": [],
   "source": [
    "X_train = X_train/255.\n",
    "X_test = X_test/255."
   ]
  },
  {
   "cell_type": "markdown",
   "metadata": {
    "papermill": {
     "duration": 0.635381,
     "end_time": "2020-12-02T20:04:18.278335",
     "exception": false,
     "start_time": "2020-12-02T20:04:17.642954",
     "status": "completed"
    },
    "tags": []
   },
   "source": [
    "Setup the labels as 1 (when the digit is 3) and 0 (when the digit is 8)"
   ]
  },
  {
   "cell_type": "code",
   "execution_count": 11,
   "metadata": {
    "execution": {
     "iopub.execute_input": "2020-12-02T20:04:18.906257Z",
     "iopub.status.busy": "2020-12-02T20:04:18.905560Z",
     "iopub.status.idle": "2020-12-02T20:04:18.917755Z",
     "shell.execute_reply": "2020-12-02T20:04:18.917293Z"
    },
    "papermill": {
     "duration": 0.046926,
     "end_time": "2020-12-02T20:04:18.917889",
     "exception": false,
     "start_time": "2020-12-02T20:04:18.870963",
     "status": "completed"
    },
    "tags": []
   },
   "outputs": [],
   "source": [
    "y_train = 1*(y_train==3)\n",
    "y_test = 1*(y_test==3)"
   ]
  },
  {
   "cell_type": "code",
   "execution_count": 12,
   "metadata": {
    "execution": {
     "iopub.execute_input": "2020-12-02T20:04:18.971987Z",
     "iopub.status.busy": "2020-12-02T20:04:18.971440Z",
     "iopub.status.idle": "2020-12-02T20:04:18.983313Z",
     "shell.execute_reply": "2020-12-02T20:04:18.982786Z"
    },
    "papermill": {
     "duration": 0.040126,
     "end_time": "2020-12-02T20:04:18.983419",
     "exception": false,
     "start_time": "2020-12-02T20:04:18.943293",
     "status": "completed"
    },
    "tags": []
   },
   "outputs": [
    {
     "data": {
      "text/plain": [
       "((11982, 28, 28), (1984, 28, 28))"
      ]
     },
     "execution_count": 12,
     "metadata": {},
     "output_type": "execute_result"
    }
   ],
   "source": [
    "X_train.shape, X_test.shape"
   ]
  },
  {
   "cell_type": "markdown",
   "metadata": {
    "papermill": {
     "duration": 0.026318,
     "end_time": "2020-12-02T20:04:19.036264",
     "exception": false,
     "start_time": "2020-12-02T20:04:19.009946",
     "status": "completed"
    },
    "tags": []
   },
   "source": [
    "### Reshape the input data to create a linear array"
   ]
  },
  {
   "cell_type": "code",
   "execution_count": 13,
   "metadata": {
    "execution": {
     "iopub.execute_input": "2020-12-02T20:04:19.096713Z",
     "iopub.status.busy": "2020-12-02T20:04:19.096117Z",
     "iopub.status.idle": "2020-12-02T20:04:19.109292Z",
     "shell.execute_reply": "2020-12-02T20:04:19.110144Z"
    },
    "papermill": {
     "duration": 0.045431,
     "end_time": "2020-12-02T20:04:19.110279",
     "exception": false,
     "start_time": "2020-12-02T20:04:19.064848",
     "status": "completed"
    },
    "tags": []
   },
   "outputs": [
    {
     "data": {
      "text/plain": [
       "((11982, 784), (1984, 784))"
      ]
     },
     "execution_count": 13,
     "metadata": {},
     "output_type": "execute_result"
    }
   ],
   "source": [
    "X_train = X_train.reshape(X_train.shape[0], -1)\n",
    "X_test = X_test.reshape(X_test.shape[0], -1)\n",
    "X_train.shape, X_test.shape"
   ]
  },
  {
   "cell_type": "markdown",
   "metadata": {
    "papermill": {
     "duration": 0.027222,
     "end_time": "2020-12-02T20:04:19.167149",
     "exception": false,
     "start_time": "2020-12-02T20:04:19.139927",
     "status": "completed"
    },
    "tags": []
   },
   "source": [
    "### Importing appropriate functions from 'Kudzu'"
   ]
  },
  {
   "cell_type": "code",
   "execution_count": 14,
   "metadata": {
    "execution": {
     "iopub.execute_input": "2020-12-02T20:04:19.226326Z",
     "iopub.status.busy": "2020-12-02T20:04:19.225713Z",
     "iopub.status.idle": "2020-12-02T20:04:19.245728Z",
     "shell.execute_reply": "2020-12-02T20:04:19.246264Z"
    },
    "papermill": {
     "duration": 0.051329,
     "end_time": "2020-12-02T20:04:19.246403",
     "exception": false,
     "start_time": "2020-12-02T20:04:19.195074",
     "status": "completed"
    },
    "tags": []
   },
   "outputs": [],
   "source": [
    "from kudzu.layer import Sigmoid\n",
    "from kudzu.layer import Relu\n",
    "from kudzu.layer import Affine, Sigmoid\n",
    "\n",
    "from kudzu.model import Model\n",
    "from kudzu.train import Learner\n",
    "from kudzu.optim import GD\n",
    "from kudzu.data import Data, Dataloader, Sampler\n",
    "\n",
    "from kudzu.callbacks import AccCallback\n",
    "from kudzu.callbacks import ClfCallback\n",
    "\n",
    "from kudzu.loss import MSE"
   ]
  },
  {
   "cell_type": "markdown",
   "metadata": {
    "papermill": {
     "duration": 0.027595,
     "end_time": "2020-12-02T20:04:19.300649",
     "exception": false,
     "start_time": "2020-12-02T20:04:19.273054",
     "status": "completed"
    },
    "tags": []
   },
   "source": [
    "### Let us create a `Config` class, to store important parameters. \n",
    "This class essentially plays the role of a dictionary."
   ]
  },
  {
   "cell_type": "code",
   "execution_count": 15,
   "metadata": {
    "execution": {
     "iopub.execute_input": "2020-12-02T20:04:19.360947Z",
     "iopub.status.busy": "2020-12-02T20:04:19.360348Z",
     "iopub.status.idle": "2020-12-02T20:04:19.371754Z",
     "shell.execute_reply": "2020-12-02T20:04:19.371058Z"
    },
    "papermill": {
     "duration": 0.041532,
     "end_time": "2020-12-02T20:04:19.371898",
     "exception": false,
     "start_time": "2020-12-02T20:04:19.330366",
     "status": "completed"
    },
    "tags": []
   },
   "outputs": [],
   "source": [
    "class Config:\n",
    "    pass\n",
    "config = Config()\n",
    "config.lr = 0.001\n",
    "config.num_epochs = 251\n",
    "config.bs = 50"
   ]
  },
  {
   "cell_type": "markdown",
   "metadata": {
    "papermill": {
     "duration": 0.026562,
     "end_time": "2020-12-02T20:04:19.430312",
     "exception": false,
     "start_time": "2020-12-02T20:04:19.403750",
     "status": "completed"
    },
    "tags": []
   },
   "source": [
    "### Initializing data to the variables"
   ]
  },
  {
   "cell_type": "code",
   "execution_count": 16,
   "metadata": {
    "execution": {
     "iopub.execute_input": "2020-12-02T20:04:19.484858Z",
     "iopub.status.busy": "2020-12-02T20:04:19.484346Z",
     "iopub.status.idle": "2020-12-02T20:04:19.495923Z",
     "shell.execute_reply": "2020-12-02T20:04:19.495512Z"
    },
    "papermill": {
     "duration": 0.040354,
     "end_time": "2020-12-02T20:04:19.496032",
     "exception": false,
     "start_time": "2020-12-02T20:04:19.455678",
     "status": "completed"
    },
    "tags": []
   },
   "outputs": [],
   "source": [
    "data = Data(X_train, y_train.reshape(-1,1))\n",
    "sampler = Sampler(data, config.bs, shuffle=True)\n",
    "\n",
    "dl = Dataloader(data, sampler)\n",
    "\n",
    "opt = GD(config.lr)\n",
    "loss = MSE()"
   ]
  },
  {
   "cell_type": "code",
   "execution_count": 17,
   "metadata": {
    "execution": {
     "iopub.execute_input": "2020-12-02T20:04:19.549372Z",
     "iopub.status.busy": "2020-12-02T20:04:19.548730Z",
     "iopub.status.idle": "2020-12-02T20:04:19.558713Z",
     "shell.execute_reply": "2020-12-02T20:04:19.559217Z"
    },
    "papermill": {
     "duration": 0.038559,
     "end_time": "2020-12-02T20:04:19.559331",
     "exception": false,
     "start_time": "2020-12-02T20:04:19.520772",
     "status": "completed"
    },
    "tags": []
   },
   "outputs": [],
   "source": [
    "training_xdata = X_train\n",
    "testing_xdata = X_test\n",
    "training_ydata = y_train.reshape(-1,1)\n",
    "testing_ydata = y_test.reshape(-1,1)"
   ]
  },
  {
   "cell_type": "markdown",
   "metadata": {
    "papermill": {
     "duration": 0.028273,
     "end_time": "2020-12-02T20:04:19.618670",
     "exception": false,
     "start_time": "2020-12-02T20:04:19.590397",
     "status": "completed"
    },
    "tags": []
   },
   "source": [
    "### Running Models with the Training data\n",
    "Details about the network layers:\n",
    "- A first affine layer has 784 inputs and does 100 affine transforms. These are followed by a Relu\n",
    "- A second affine layer has 100 inputs from the 100 activations of the past layer, and does 100 affine transforms. These are followed by a Relu\n",
    "- A third affine layer has 100 activations and does 2 affine transformations to create an embedding for visualization. There is no non-linearity here.\n",
    "- A final \"logistic regression\" which has an affine transform from 2 inputs to 1 output, which is squeezed through a sigmoid.\n",
    "\n",
    "Help taken from Anshuman's Notebook."
   ]
  },
  {
   "cell_type": "code",
   "execution_count": 18,
   "metadata": {
    "execution": {
     "iopub.execute_input": "2020-12-02T20:04:19.678788Z",
     "iopub.status.busy": "2020-12-02T20:04:19.678065Z",
     "iopub.status.idle": "2020-12-02T20:04:19.693276Z",
     "shell.execute_reply": "2020-12-02T20:04:19.692676Z"
    },
    "papermill": {
     "duration": 0.047402,
     "end_time": "2020-12-02T20:04:19.693438",
     "exception": false,
     "start_time": "2020-12-02T20:04:19.646036",
     "status": "completed"
    },
    "tags": []
   },
   "outputs": [],
   "source": [
    "# layers for the Neural Network\n",
    "layers = [Affine(\"first\", 784, 100), Relu(\"first\"), Affine(\"second\", 100, 100), Relu(\"second\"), Affine(\"third\", 100, 2), Affine(\"final\", 2, 1), Sigmoid(\"final\")]\n",
    "model_nn = Model(layers)\n",
    "\n",
    "# layers for the Logistic Regression\n",
    "layers_lr = [Affine(\"logits\", 784, 1), Sigmoid(\"sigmoid\")]\n",
    "model_lr = Model(layers_lr)"
   ]
  },
  {
   "cell_type": "code",
   "execution_count": 19,
   "metadata": {
    "execution": {
     "iopub.execute_input": "2020-12-02T20:04:19.747949Z",
     "iopub.status.busy": "2020-12-02T20:04:19.747372Z",
     "iopub.status.idle": "2020-12-02T20:04:19.757720Z",
     "shell.execute_reply": "2020-12-02T20:04:19.757286Z"
    },
    "papermill": {
     "duration": 0.039037,
     "end_time": "2020-12-02T20:04:19.757830",
     "exception": false,
     "start_time": "2020-12-02T20:04:19.718793",
     "status": "completed"
    },
    "tags": []
   },
   "outputs": [],
   "source": [
    "# suffix _nn stands for Neural Network.\n",
    "learner_nn = Learner(loss, model_nn, opt, config.num_epochs)\n",
    "acc_nn = ClfCallback(learner_nn, config.bs, training_xdata , testing_xdata, training_ydata, testing_ydata)\n",
    "learner_nn.set_callbacks([acc_nn])"
   ]
  },
  {
   "cell_type": "code",
   "execution_count": 20,
   "metadata": {
    "execution": {
     "iopub.execute_input": "2020-12-02T20:04:19.814393Z",
     "iopub.status.busy": "2020-12-02T20:04:19.813828Z",
     "iopub.status.idle": "2020-12-02T20:06:30.872972Z",
     "shell.execute_reply": "2020-12-02T20:06:30.872205Z"
    },
    "papermill": {
     "duration": 131.089377,
     "end_time": "2020-12-02T20:06:30.873121",
     "exception": false,
     "start_time": "2020-12-02T20:04:19.783744",
     "status": "completed"
    },
    "tags": []
   },
   "outputs": [
    {
     "name": "stdout",
     "output_type": "stream",
     "text": [
      "====== Neural Network ======\n"
     ]
    },
    {
     "name": "stdout",
     "output_type": "stream",
     "text": [
      "Epoch 0, Loss 0.2364\n",
      "Training Accuracy: 0.7344, Testing Accuracy: 0.7424\n",
      "\n"
     ]
    },
    {
     "name": "stdout",
     "output_type": "stream",
     "text": [
      "Epoch 10, Loss 0.0818\n",
      "Training Accuracy: 0.9234, Testing Accuracy: 0.9365\n",
      "\n"
     ]
    },
    {
     "name": "stdout",
     "output_type": "stream",
     "text": [
      "Epoch 20, Loss 0.053\n",
      "Training Accuracy: 0.9439, Testing Accuracy: 0.9577\n",
      "\n"
     ]
    },
    {
     "name": "stdout",
     "output_type": "stream",
     "text": [
      "Epoch 30, Loss 0.043\n",
      "Training Accuracy: 0.9514, Testing Accuracy: 0.9617\n",
      "\n"
     ]
    },
    {
     "name": "stdout",
     "output_type": "stream",
     "text": [
      "Epoch 40, Loss 0.0377\n",
      "Training Accuracy: 0.9565, Testing Accuracy: 0.9647\n",
      "\n"
     ]
    },
    {
     "name": "stdout",
     "output_type": "stream",
     "text": [
      "Epoch 50, Loss 0.0343\n",
      "Training Accuracy: 0.9599, Testing Accuracy: 0.9677\n",
      "\n"
     ]
    },
    {
     "name": "stdout",
     "output_type": "stream",
     "text": [
      "Epoch 60, Loss 0.032\n",
      "Training Accuracy: 0.9628, Testing Accuracy: 0.9703\n",
      "\n"
     ]
    },
    {
     "name": "stdout",
     "output_type": "stream",
     "text": [
      "Epoch 70, Loss 0.0301\n",
      "Training Accuracy: 0.9653, Testing Accuracy: 0.9693\n",
      "\n"
     ]
    },
    {
     "name": "stdout",
     "output_type": "stream",
     "text": [
      "Epoch 80, Loss 0.0286\n",
      "Training Accuracy: 0.9671, Testing Accuracy: 0.9708\n",
      "\n"
     ]
    },
    {
     "name": "stdout",
     "output_type": "stream",
     "text": [
      "Epoch 90, Loss 0.0274\n",
      "Training Accuracy: 0.9684, Testing Accuracy: 0.9728\n",
      "\n"
     ]
    },
    {
     "name": "stdout",
     "output_type": "stream",
     "text": [
      "Epoch 100, Loss 0.0264\n",
      "Training Accuracy: 0.9695, Testing Accuracy: 0.9733\n",
      "\n"
     ]
    },
    {
     "name": "stdout",
     "output_type": "stream",
     "text": [
      "Epoch 110, Loss 0.0255\n",
      "Training Accuracy: 0.9705, Testing Accuracy: 0.9738\n",
      "\n"
     ]
    },
    {
     "name": "stdout",
     "output_type": "stream",
     "text": [
      "Epoch 120, Loss 0.0247\n",
      "Training Accuracy: 0.9710, Testing Accuracy: 0.9738\n",
      "\n"
     ]
    },
    {
     "name": "stdout",
     "output_type": "stream",
     "text": [
      "Epoch 130, Loss 0.024\n",
      "Training Accuracy: 0.9720, Testing Accuracy: 0.9748\n",
      "\n"
     ]
    },
    {
     "name": "stdout",
     "output_type": "stream",
     "text": [
      "Epoch 140, Loss 0.0233\n",
      "Training Accuracy: 0.9726, Testing Accuracy: 0.9753\n",
      "\n"
     ]
    },
    {
     "name": "stdout",
     "output_type": "stream",
     "text": [
      "Epoch 150, Loss 0.0227\n",
      "Training Accuracy: 0.9737, Testing Accuracy: 0.9753\n",
      "\n"
     ]
    },
    {
     "name": "stdout",
     "output_type": "stream",
     "text": [
      "Epoch 160, Loss 0.0221\n",
      "Training Accuracy: 0.9744, Testing Accuracy: 0.9753\n",
      "\n"
     ]
    },
    {
     "name": "stdout",
     "output_type": "stream",
     "text": [
      "Epoch 170, Loss 0.0216\n",
      "Training Accuracy: 0.9751, Testing Accuracy: 0.9753\n",
      "\n"
     ]
    },
    {
     "name": "stdout",
     "output_type": "stream",
     "text": [
      "Epoch 180, Loss 0.0211\n",
      "Training Accuracy: 0.9757, Testing Accuracy: 0.9743\n",
      "\n"
     ]
    },
    {
     "name": "stdout",
     "output_type": "stream",
     "text": [
      "Epoch 190, Loss 0.0207\n",
      "Training Accuracy: 0.9765, Testing Accuracy: 0.9743\n",
      "\n"
     ]
    },
    {
     "name": "stdout",
     "output_type": "stream",
     "text": [
      "Epoch 200, Loss 0.0202\n",
      "Training Accuracy: 0.9773, Testing Accuracy: 0.9743\n",
      "\n"
     ]
    },
    {
     "name": "stdout",
     "output_type": "stream",
     "text": [
      "Epoch 210, Loss 0.0198\n",
      "Training Accuracy: 0.9777, Testing Accuracy: 0.9758\n",
      "\n"
     ]
    },
    {
     "name": "stdout",
     "output_type": "stream",
     "text": [
      "Epoch 220, Loss 0.0194\n",
      "Training Accuracy: 0.9783, Testing Accuracy: 0.9758\n",
      "\n"
     ]
    },
    {
     "name": "stdout",
     "output_type": "stream",
     "text": [
      "Epoch 230, Loss 0.019\n",
      "Training Accuracy: 0.9783, Testing Accuracy: 0.9758\n",
      "\n"
     ]
    },
    {
     "name": "stdout",
     "output_type": "stream",
     "text": [
      "Epoch 240, Loss 0.0187\n",
      "Training Accuracy: 0.9791, Testing Accuracy: 0.9748\n",
      "\n"
     ]
    },
    {
     "name": "stdout",
     "output_type": "stream",
     "text": [
      "Epoch 250, Loss 0.0183\n",
      "Training Accuracy: 0.9792, Testing Accuracy: 0.9753\n",
      "\n"
     ]
    },
    {
     "data": {
      "text/plain": [
       "0.00506877972808028"
      ]
     },
     "execution_count": 20,
     "metadata": {},
     "output_type": "execute_result"
    }
   ],
   "source": [
    "print(\"====== Neural Network ======\")\n",
    "learner_nn.train_loop(dl)"
   ]
  },
  {
   "cell_type": "markdown",
   "metadata": {
    "papermill": {
     "duration": 0.032997,
     "end_time": "2020-12-02T20:06:30.941141",
     "exception": false,
     "start_time": "2020-12-02T20:06:30.908144",
     "status": "completed"
    },
    "tags": []
   },
   "source": [
    "### Logistic Regression based Implementation."
   ]
  },
  {
   "cell_type": "code",
   "execution_count": 21,
   "metadata": {
    "execution": {
     "iopub.execute_input": "2020-12-02T20:06:31.021568Z",
     "iopub.status.busy": "2020-12-02T20:06:31.020386Z",
     "iopub.status.idle": "2020-12-02T20:06:31.032418Z",
     "shell.execute_reply": "2020-12-02T20:06:31.031908Z"
    },
    "papermill": {
     "duration": 0.05467,
     "end_time": "2020-12-02T20:06:31.032549",
     "exception": false,
     "start_time": "2020-12-02T20:06:30.977879",
     "status": "completed"
    },
    "tags": []
   },
   "outputs": [],
   "source": [
    "learner_lr = Learner(loss, model_lr, opt, config.num_epochs)\n",
    "acc_lr = ClfCallback(learner_lr, config.bs, training_xdata , testing_xdata, training_ydata, testing_ydata)\n",
    "learner_lr.set_callbacks([acc_lr])"
   ]
  },
  {
   "cell_type": "code",
   "execution_count": 22,
   "metadata": {
    "execution": {
     "iopub.execute_input": "2020-12-02T20:06:31.106757Z",
     "iopub.status.busy": "2020-12-02T20:06:31.105957Z",
     "iopub.status.idle": "2020-12-02T20:06:50.478954Z",
     "shell.execute_reply": "2020-12-02T20:06:50.479881Z"
    },
    "papermill": {
     "duration": 19.411241,
     "end_time": "2020-12-02T20:06:50.480032",
     "exception": false,
     "start_time": "2020-12-02T20:06:31.068791",
     "status": "completed"
    },
    "tags": []
   },
   "outputs": [
    {
     "name": "stdout",
     "output_type": "stream",
     "text": [
      "====== Logistic Regression ======\n",
      "Epoch 0, Loss 0.2395\n",
      "Training Accuracy: 0.6790, Testing Accuracy: 0.6709\n",
      "\n"
     ]
    },
    {
     "name": "stdout",
     "output_type": "stream",
     "text": [
      "Epoch 10, Loss 0.1006\n",
      "Training Accuracy: 0.9210, Testing Accuracy: 0.9214\n",
      "\n"
     ]
    },
    {
     "name": "stdout",
     "output_type": "stream",
     "text": [
      "Epoch 20, Loss 0.0769\n",
      "Training Accuracy: 0.9362, Testing Accuracy: 0.9451\n",
      "\n"
     ]
    },
    {
     "name": "stdout",
     "output_type": "stream",
     "text": [
      "Epoch 30, Loss 0.0662\n",
      "Training Accuracy: 0.9432, Testing Accuracy: 0.9506\n",
      "\n"
     ]
    },
    {
     "name": "stdout",
     "output_type": "stream",
     "text": [
      "Epoch 40, Loss 0.0598\n",
      "Training Accuracy: 0.9461, Testing Accuracy: 0.9536\n",
      "\n"
     ]
    },
    {
     "name": "stdout",
     "output_type": "stream",
     "text": [
      "Epoch 50, Loss 0.0555\n",
      "Training Accuracy: 0.9488, Testing Accuracy: 0.9582\n",
      "\n"
     ]
    },
    {
     "name": "stdout",
     "output_type": "stream",
     "text": [
      "Epoch 60, Loss 0.0524\n",
      "Training Accuracy: 0.9503, Testing Accuracy: 0.9587\n",
      "\n"
     ]
    },
    {
     "name": "stdout",
     "output_type": "stream",
     "text": [
      "Epoch 70, Loss 0.05\n",
      "Training Accuracy: 0.9523, Testing Accuracy: 0.9597\n",
      "\n"
     ]
    },
    {
     "name": "stdout",
     "output_type": "stream",
     "text": [
      "Epoch 80, Loss 0.0481\n",
      "Training Accuracy: 0.9534, Testing Accuracy: 0.9607\n",
      "\n"
     ]
    },
    {
     "name": "stdout",
     "output_type": "stream",
     "text": [
      "Epoch 90, Loss 0.0465\n",
      "Training Accuracy: 0.9551, Testing Accuracy: 0.9617\n",
      "\n"
     ]
    },
    {
     "name": "stdout",
     "output_type": "stream",
     "text": [
      "Epoch 100, Loss 0.0452\n",
      "Training Accuracy: 0.9559, Testing Accuracy: 0.9637\n",
      "\n"
     ]
    },
    {
     "name": "stdout",
     "output_type": "stream",
     "text": [
      "Epoch 110, Loss 0.044\n",
      "Training Accuracy: 0.9567, Testing Accuracy: 0.9647\n",
      "\n"
     ]
    },
    {
     "name": "stdout",
     "output_type": "stream",
     "text": [
      "Epoch 120, Loss 0.043\n",
      "Training Accuracy: 0.9570, Testing Accuracy: 0.9657\n",
      "\n"
     ]
    },
    {
     "name": "stdout",
     "output_type": "stream",
     "text": [
      "Epoch 130, Loss 0.0421\n",
      "Training Accuracy: 0.9573, Testing Accuracy: 0.9652\n",
      "\n"
     ]
    },
    {
     "name": "stdout",
     "output_type": "stream",
     "text": [
      "Epoch 140, Loss 0.0414\n",
      "Training Accuracy: 0.9581, Testing Accuracy: 0.9657\n",
      "\n"
     ]
    },
    {
     "name": "stdout",
     "output_type": "stream",
     "text": [
      "Epoch 150, Loss 0.0407\n",
      "Training Accuracy: 0.9587, Testing Accuracy: 0.9662\n",
      "\n"
     ]
    },
    {
     "name": "stdout",
     "output_type": "stream",
     "text": [
      "Epoch 160, Loss 0.04\n",
      "Training Accuracy: 0.9590, Testing Accuracy: 0.9662\n",
      "\n"
     ]
    },
    {
     "name": "stdout",
     "output_type": "stream",
     "text": [
      "Epoch 170, Loss 0.0395\n",
      "Training Accuracy: 0.9592, Testing Accuracy: 0.9662\n",
      "\n"
     ]
    },
    {
     "name": "stdout",
     "output_type": "stream",
     "text": [
      "Epoch 180, Loss 0.0389\n",
      "Training Accuracy: 0.9597, Testing Accuracy: 0.9662\n",
      "\n"
     ]
    },
    {
     "name": "stdout",
     "output_type": "stream",
     "text": [
      "Epoch 190, Loss 0.0385\n",
      "Training Accuracy: 0.9599, Testing Accuracy: 0.9667\n",
      "\n"
     ]
    },
    {
     "name": "stdout",
     "output_type": "stream",
     "text": [
      "Epoch 200, Loss 0.038\n",
      "Training Accuracy: 0.9601, Testing Accuracy: 0.9667\n",
      "\n"
     ]
    },
    {
     "name": "stdout",
     "output_type": "stream",
     "text": [
      "Epoch 210, Loss 0.0376\n",
      "Training Accuracy: 0.9603, Testing Accuracy: 0.9667\n",
      "\n"
     ]
    },
    {
     "name": "stdout",
     "output_type": "stream",
     "text": [
      "Epoch 220, Loss 0.0372\n",
      "Training Accuracy: 0.9605, Testing Accuracy: 0.9667\n",
      "\n"
     ]
    },
    {
     "name": "stdout",
     "output_type": "stream",
     "text": [
      "Epoch 230, Loss 0.0368\n",
      "Training Accuracy: 0.9609, Testing Accuracy: 0.9672\n",
      "\n"
     ]
    },
    {
     "name": "stdout",
     "output_type": "stream",
     "text": [
      "Epoch 240, Loss 0.0365\n",
      "Training Accuracy: 0.9610, Testing Accuracy: 0.9672\n",
      "\n"
     ]
    },
    {
     "name": "stdout",
     "output_type": "stream",
     "text": [
      "Epoch 250, Loss 0.0362\n",
      "Training Accuracy: 0.9611, Testing Accuracy: 0.9672\n",
      "\n"
     ]
    },
    {
     "data": {
      "text/plain": [
       "0.01773739767137617"
      ]
     },
     "execution_count": 22,
     "metadata": {},
     "output_type": "execute_result"
    }
   ],
   "source": [
    "print(\"====== Logistic Regression ======\")\n",
    "learner_lr.train_loop(dl)"
   ]
  },
  {
   "cell_type": "markdown",
   "metadata": {
    "papermill": {
     "duration": 0.043711,
     "end_time": "2020-12-02T20:06:50.572448",
     "exception": false,
     "start_time": "2020-12-02T20:06:50.528737",
     "status": "completed"
    },
    "tags": []
   },
   "source": [
    "### Comparing results of NN and LR"
   ]
  },
  {
   "cell_type": "code",
   "execution_count": 23,
   "metadata": {
    "execution": {
     "iopub.execute_input": "2020-12-02T20:06:50.662205Z",
     "iopub.status.busy": "2020-12-02T20:06:50.661675Z",
     "iopub.status.idle": "2020-12-02T20:06:50.914111Z",
     "shell.execute_reply": "2020-12-02T20:06:50.913638Z"
    },
    "papermill": {
     "duration": 0.298954,
     "end_time": "2020-12-02T20:06:50.914236",
     "exception": false,
     "start_time": "2020-12-02T20:06:50.615282",
     "status": "completed"
    },
    "tags": []
   },
   "outputs": [
    {
     "data": {
      "text/plain": [
       "<matplotlib.legend.Legend at 0x7fa542eab9b0>"
      ]
     },
     "execution_count": 23,
     "metadata": {},
     "output_type": "execute_result"
    },
    {
     "data": {
      "image/png": "[encoded data removed]",
      "text/plain": [
       "<Figure size 1080x720 with 1 Axes>"
      ]
     },
     "metadata": {
      "needs_background": "light"
     },
     "output_type": "display_data"
    }
   ],
   "source": [
    "plt.figure(figsize=(15,10))\n",
    "\n",
    "# Neural Network plots\n",
    "plt.plot(acc_nn.accuracies, 'r-', label = \"Training Accuracies - NN\")\n",
    "plt.plot(acc_nn.test_accuracies, 'g-', label = \"Testing Accuracies - NN\")\n",
    "\n",
    "# Logistic Regression plots\n",
    "plt.plot(acc_lr.accuracies, 'k-', label = \"Training Accuracies - LR\")\n",
    "plt.plot(acc_lr.test_accuracies, 'b-', label = \"Testing Accuracies - LR\")\n",
    "\n",
    "plt.ylim(0.8, 1)\n",
    "\n",
    "plt.legend()\n",
    "\n"
   ]
  },
  {
   "cell_type": "markdown",
   "metadata": {
    "papermill": {
     "duration": 0.043823,
     "end_time": "2020-12-02T20:06:50.999478",
     "exception": false,
     "start_time": "2020-12-02T20:06:50.955655",
     "status": "completed"
    },
    "tags": []
   },
   "source": [
    "### From the plot, we can observe the following:\n",
    "- Neural Network achieves higher accuracy than the Logistic Regression model.\n",
    "- This apparently, is because of overfitting, i.e. NN captures more noise than data.\n",
    "- Testing accuracy of NN drops below the Training accuracy at higher epochs. This explains the over-fitting on training data.\n",
    "- Logistic Regression gives a reliable accuracy, without the above mentioned problem.\n"
   ]
  },
  {
   "cell_type": "markdown",
   "metadata": {
    "papermill": {
     "duration": 0.046519,
     "end_time": "2020-12-02T20:06:51.093785",
     "exception": false,
     "start_time": "2020-12-02T20:06:51.047266",
     "status": "completed"
    },
    "tags": []
   },
   "source": [
    "### Moving till the last but one layer (excluding it).\n",
    "#### Plotting the outputs of this layer of the NN."
   ]
  },
  {
   "cell_type": "code",
   "execution_count": 24,
   "metadata": {
    "execution": {
     "iopub.execute_input": "2020-12-02T20:06:51.186621Z",
     "iopub.status.busy": "2020-12-02T20:06:51.185669Z",
     "iopub.status.idle": "2020-12-02T20:06:51.196744Z",
     "shell.execute_reply": "2020-12-02T20:06:51.197293Z"
    },
    "papermill": {
     "duration": 0.06085,
     "end_time": "2020-12-02T20:06:51.197462",
     "exception": false,
     "start_time": "2020-12-02T20:06:51.136612",
     "status": "completed"
    },
    "tags": []
   },
   "outputs": [],
   "source": [
    "model_new = Model(layers[:-2])"
   ]
  },
  {
   "cell_type": "code",
   "execution_count": 25,
   "metadata": {
    "execution": {
     "iopub.execute_input": "2020-12-02T20:06:51.295476Z",
     "iopub.status.busy": "2020-12-02T20:06:51.287982Z",
     "iopub.status.idle": "2020-12-02T20:06:51.313557Z",
     "shell.execute_reply": "2020-12-02T20:06:51.314286Z"
    },
    "papermill": {
     "duration": 0.075666,
     "end_time": "2020-12-02T20:06:51.314449",
     "exception": false,
     "start_time": "2020-12-02T20:06:51.238783",
     "status": "completed"
    },
    "tags": []
   },
   "outputs": [],
   "source": [
    "plot_testing = model_new(testing_xdata)"
   ]
  },
  {
   "cell_type": "code",
   "execution_count": 26,
   "metadata": {
    "execution": {
     "iopub.execute_input": "2020-12-02T20:06:51.412197Z",
     "iopub.status.busy": "2020-12-02T20:06:51.411586Z",
     "iopub.status.idle": "2020-12-02T20:06:51.653187Z",
     "shell.execute_reply": "2020-12-02T20:06:51.653632Z"
    },
    "papermill": {
     "duration": 0.294216,
     "end_time": "2020-12-02T20:06:51.653780",
     "exception": false,
     "start_time": "2020-12-02T20:06:51.359564",
     "status": "completed"
    },
    "tags": []
   },
   "outputs": [
    {
     "data": {
      "text/plain": [
       "Text(0.5, 1.0, 'Outputs')"
      ]
     },
     "execution_count": 26,
     "metadata": {},
     "output_type": "execute_result"
    },
    {
     "data": {
      "image/png": "[encoded data removed]",
      "text/plain": [
       "<Figure size 576x504 with 1 Axes>"
      ]
     },
     "metadata": {
      "needs_background": "light"
     },
     "output_type": "display_data"
    }
   ],
   "source": [
    "plt.figure(figsize=(8,7))\n",
    "plt.scatter(plot_testing[:,0], plot_testing[:,1], alpha = 0.1, c = y_test.ravel());\n",
    "plt.title('Outputs')"
   ]
  },
  {
   "cell_type": "markdown",
   "metadata": {
    "papermill": {
     "duration": 0.046716,
     "end_time": "2020-12-02T20:06:51.748890",
     "exception": false,
     "start_time": "2020-12-02T20:06:51.702174",
     "status": "completed"
    },
    "tags": []
   },
   "source": [
    "### Plotting probability contours"
   ]
  },
  {
   "cell_type": "code",
   "execution_count": 27,
   "metadata": {
    "execution": {
     "iopub.execute_input": "2020-12-02T20:06:51.846189Z",
     "iopub.status.busy": "2020-12-02T20:06:51.845472Z",
     "iopub.status.idle": "2020-12-02T20:06:51.857434Z",
     "shell.execute_reply": "2020-12-02T20:06:51.857853Z"
    },
    "papermill": {
     "duration": 0.061805,
     "end_time": "2020-12-02T20:06:51.857988",
     "exception": false,
     "start_time": "2020-12-02T20:06:51.796183",
     "status": "completed"
    },
    "tags": []
   },
   "outputs": [],
   "source": [
    "model_prob = Model(layers[-2:]) "
   ]
  },
  {
   "cell_type": "code",
   "execution_count": 28,
   "metadata": {
    "execution": {
     "iopub.execute_input": "2020-12-02T20:06:51.952631Z",
     "iopub.status.busy": "2020-12-02T20:06:51.952022Z",
     "iopub.status.idle": "2020-12-02T20:06:51.964804Z",
     "shell.execute_reply": "2020-12-02T20:06:51.965226Z"
    },
    "papermill": {
     "duration": 0.061745,
     "end_time": "2020-12-02T20:06:51.965360",
     "exception": false,
     "start_time": "2020-12-02T20:06:51.903615",
     "status": "completed"
    },
    "tags": []
   },
   "outputs": [],
   "source": [
    "# Adjust the x and y ranges according to the above generated plot.\n",
    "x_range = np.linspace(-4, 1, 100) \n",
    "y_range = np.linspace(-6, 6, 100) \n",
    "x_grid, y_grid = np.meshgrid(x_range, y_range) # x_grid and y_grig are of size 100 X 100\n",
    "\n",
    "# converting x_grid and y_grid to continuous arrays\n",
    "x_grid_flat = np.ravel(x_grid)\n",
    "y_grid_flat = np.ravel(y_grid)\n",
    "\n",
    "# The last layer of the current model takes two columns as input. Hence transpose of np.vstack() is required.\n",
    "X = np.vstack((x_grid_flat, y_grid_flat)).T\n",
    "\n",
    "# x_grid and y_grid are of size 100 x 100\n",
    "probability_contour = model_prob(X).reshape(100,100) "
   ]
  },
  {
   "cell_type": "code",
   "execution_count": 29,
   "metadata": {
    "execution": {
     "iopub.execute_input": "2020-12-02T20:06:52.096541Z",
     "iopub.status.busy": "2020-12-02T20:06:52.095916Z",
     "iopub.status.idle": "2020-12-02T20:06:52.348121Z",
     "shell.execute_reply": "2020-12-02T20:06:52.347650Z"
    },
    "papermill": {
     "duration": 0.336202,
     "end_time": "2020-12-02T20:06:52.348285",
     "exception": false,
     "start_time": "2020-12-02T20:06:52.012083",
     "status": "completed"
    },
    "tags": []
   },
   "outputs": [
    {
     "data": {
      "image/png": "[encoded data removed]",
      "text/plain": [
       "<Figure size 720x648 with 1 Axes>"
      ]
     },
     "metadata": {
      "needs_background": "light"
     },
     "output_type": "display_data"
    }
   ],
   "source": [
    "plt.figure(figsize=(10,9))\n",
    "plt.scatter(plot_testing[:,0], plot_testing[:,1], alpha = 0.1, c = y_test.ravel())\n",
    "contours = plt.contour(x_grid,y_grid,probability_contour)\n",
    "plt.title('Probability Contours')\n",
    "plt.clabel(contours, inline = True );"
   ]
  }
 ],
 "metadata": {
  "kernelspec": {
   "display_name": "Python 3",
   "language": "python",
   "name": "python3"
  },
  "language_info": {
   "codemirror_mode": {
    "name": "ipython",
    "version": 3
   },
   "file_extension": ".py",
   "mimetype": "text/x-python",
   "name": "python",
   "nbconvert_exporter": "python",
   "pygments_lexer": "ipython3",
   "version": "3.6.12"
  },
  "papermill": {
   "duration": 164.377978,
   "end_time": "2020-12-02T20:06:53.595638",
   "environment_variables": {},
   "exception": null,
   "input_path": "2020-08-11-NeuralNetwork.ipynb",
   "output_path": "2020-08-11-NeuralNetwork.ipynb",
   "parameters": {},
   "start_time": "2020-12-02T20:04:09.217660",
   "version": "2.1.2"
  }
 },
 "nbformat": 4,
 "nbformat_minor": 4
}