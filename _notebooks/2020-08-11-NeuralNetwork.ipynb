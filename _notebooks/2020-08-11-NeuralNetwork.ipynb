{
 "cells": [
  {
   "cell_type": "markdown",
   "metadata": {
    "papermill": {
     "duration": 0.034313,
     "end_time": "2020-11-08T20:04:15.177301",
     "exception": false,
     "start_time": "2020-11-08T20:04:15.142988",
     "status": "completed"
    },
    "tags": []
   },
   "source": [
    "# \"A Basic Neural Network: Differentiate Hand-Written Digits\"\n",
    "\n",
    "- badges: true\n",
    "- author: Akshith Sriram"
   ]
  },
  {
   "cell_type": "markdown",
   "metadata": {
    "papermill": {
     "duration": 0.031635,
     "end_time": "2020-11-08T20:04:15.243576",
     "exception": false,
     "start_time": "2020-11-08T20:04:15.211941",
     "status": "completed"
    },
    "tags": []
   },
   "source": [
    "### Key Objectives:\n",
    "- Building a neural network that differentiates two hand-written digits 3 and 8.\n",
    "- Comparing the results of this Neural Network (NN) to that of a Logistic Regression (LR) model.\n",
    "\n",
    "### Requirements:\n",
    "- 'Kudzu' : A neural network library that was designed during our course by [Univ.AI](www.univ.ai). \n",
    "- MNIST Database\n",
    "\n",
    "If MNIST is not installed, use the command `!pip install mnist` given below.\n",
    "It can be run both from the command line and Jupyter Notebook."
   ]
  },
  {
   "cell_type": "code",
   "execution_count": 1,
   "metadata": {
    "execution": {
     "iopub.execute_input": "2020-11-08T20:04:15.310697Z",
     "iopub.status.busy": "2020-11-08T20:04:15.310011Z",
     "iopub.status.idle": "2020-11-08T20:04:16.952770Z",
     "shell.execute_reply": "2020-11-08T20:04:16.952089Z"
    },
    "papermill": {
     "duration": 1.678441,
     "end_time": "2020-11-08T20:04:16.952947",
     "exception": false,
     "start_time": "2020-11-08T20:04:15.274506",
     "status": "completed"
    },
    "tags": []
   },
   "outputs": [
    {
     "name": "stdout",
     "output_type": "stream",
     "text": [
      "Collecting mnist\r\n"
     ]
    },
    {
     "name": "stdout",
     "output_type": "stream",
     "text": [
      "  Downloading mnist-0.2.2-py2.py3-none-any.whl (3.5 kB)\r\n",
      "Requirement already satisfied: numpy in /opt/hostedtoolcache/Python/3.6.12/x64/lib/python3.6/site-packages (from mnist) (1.19.4)\r\n"
     ]
    },
    {
     "name": "stdout",
     "output_type": "stream",
     "text": [
      "Installing collected packages: mnist\r\n"
     ]
    },
    {
     "name": "stdout",
     "output_type": "stream",
     "text": [
      "Successfully installed mnist-0.2.2\r\n"
     ]
    }
   ],
   "source": [
    "!pip install mnist "
   ]
  },
  {
   "cell_type": "markdown",
   "metadata": {
    "papermill": {
     "duration": 0.031855,
     "end_time": "2020-11-08T20:04:17.018483",
     "exception": false,
     "start_time": "2020-11-08T20:04:16.986628",
     "status": "completed"
    },
    "tags": []
   },
   "source": [
    "#### Importing necessary libraries"
   ]
  },
  {
   "cell_type": "code",
   "execution_count": 2,
   "metadata": {
    "execution": {
     "iopub.execute_input": "2020-11-08T20:04:17.104433Z",
     "iopub.status.busy": "2020-11-08T20:04:17.096097Z",
     "iopub.status.idle": "2020-11-08T20:04:17.762039Z",
     "shell.execute_reply": "2020-11-08T20:04:17.760338Z"
    },
    "papermill": {
     "duration": 0.710736,
     "end_time": "2020-11-08T20:04:17.762205",
     "exception": false,
     "start_time": "2020-11-08T20:04:17.051469",
     "status": "completed"
    },
    "tags": []
   },
   "outputs": [],
   "source": [
    "%load_ext autoreload\n",
    "%autoreload 2\n",
    "\n",
    "%matplotlib inline\n",
    "import matplotlib.pyplot as plt\n",
    "\n",
    "import numpy as np\n",
    "import pandas as pd"
   ]
  },
  {
   "cell_type": "markdown",
   "metadata": {
    "papermill": {
     "duration": 0.031614,
     "end_time": "2020-11-08T20:04:17.826653",
     "exception": false,
     "start_time": "2020-11-08T20:04:17.795039",
     "status": "completed"
    },
    "tags": []
   },
   "source": [
    "### Preparing the Data"
   ]
  },
  {
   "cell_type": "code",
   "execution_count": 3,
   "metadata": {
    "execution": {
     "iopub.execute_input": "2020-11-08T20:04:17.899081Z",
     "iopub.status.busy": "2020-11-08T20:04:17.893977Z",
     "iopub.status.idle": "2020-11-08T20:04:17.910152Z",
     "shell.execute_reply": "2020-11-08T20:04:17.909514Z"
    },
    "papermill": {
     "duration": 0.051701,
     "end_time": "2020-11-08T20:04:17.910317",
     "exception": false,
     "start_time": "2020-11-08T20:04:17.858616",
     "status": "completed"
    },
    "tags": []
   },
   "outputs": [],
   "source": [
    "import mnist"
   ]
  },
  {
   "cell_type": "code",
   "execution_count": 4,
   "metadata": {
    "execution": {
     "iopub.execute_input": "2020-11-08T20:04:17.976160Z",
     "iopub.status.busy": "2020-11-08T20:04:17.975349Z",
     "iopub.status.idle": "2020-11-08T20:04:18.750409Z",
     "shell.execute_reply": "2020-11-08T20:04:18.749795Z"
    },
    "papermill": {
     "duration": 0.809331,
     "end_time": "2020-11-08T20:04:18.750565",
     "exception": false,
     "start_time": "2020-11-08T20:04:17.941234",
     "status": "completed"
    },
    "tags": []
   },
   "outputs": [],
   "source": [
    "train_images = mnist.train_images()\n",
    "train_labels = mnist.train_labels()"
   ]
  },
  {
   "cell_type": "code",
   "execution_count": 5,
   "metadata": {
    "execution": {
     "iopub.execute_input": "2020-11-08T20:04:18.816657Z",
     "iopub.status.busy": "2020-11-08T20:04:18.815952Z",
     "iopub.status.idle": "2020-11-08T20:04:18.832206Z",
     "shell.execute_reply": "2020-11-08T20:04:18.831601Z"
    },
    "papermill": {
     "duration": 0.050902,
     "end_time": "2020-11-08T20:04:18.832368",
     "exception": false,
     "start_time": "2020-11-08T20:04:18.781466",
     "status": "completed"
    },
    "tags": []
   },
   "outputs": [
    {
     "data": {
      "text/plain": [
       "((60000, 28, 28), (60000,))"
      ]
     },
     "execution_count": 5,
     "metadata": {},
     "output_type": "execute_result"
    }
   ],
   "source": [
    "train_images.shape, train_labels.shape"
   ]
  },
  {
   "cell_type": "code",
   "execution_count": 6,
   "metadata": {
    "execution": {
     "iopub.execute_input": "2020-11-08T20:04:18.898610Z",
     "iopub.status.busy": "2020-11-08T20:04:18.897838Z",
     "iopub.status.idle": "2020-11-08T20:04:19.155926Z",
     "shell.execute_reply": "2020-11-08T20:04:19.155333Z"
    },
    "papermill": {
     "duration": 0.29309,
     "end_time": "2020-11-08T20:04:19.156082",
     "exception": false,
     "start_time": "2020-11-08T20:04:18.862992",
     "status": "completed"
    },
    "tags": []
   },
   "outputs": [],
   "source": [
    "test_images = mnist.test_images()\n",
    "test_labels = mnist.test_labels()"
   ]
  },
  {
   "cell_type": "code",
   "execution_count": 7,
   "metadata": {
    "execution": {
     "iopub.execute_input": "2020-11-08T20:04:19.223354Z",
     "iopub.status.busy": "2020-11-08T20:04:19.222693Z",
     "iopub.status.idle": "2020-11-08T20:04:19.241012Z",
     "shell.execute_reply": "2020-11-08T20:04:19.240056Z"
    },
    "papermill": {
     "duration": 0.054011,
     "end_time": "2020-11-08T20:04:19.241387",
     "exception": false,
     "start_time": "2020-11-08T20:04:19.187376",
     "status": "completed"
    },
    "tags": []
   },
   "outputs": [
    {
     "data": {
      "text/plain": [
       "((10000, 28, 28), (10000,))"
      ]
     },
     "execution_count": 7,
     "metadata": {},
     "output_type": "execute_result"
    }
   ],
   "source": [
    "test_images.shape, test_labels.shape"
   ]
  },
  {
   "cell_type": "code",
   "execution_count": 8,
   "metadata": {
    "execution": {
     "iopub.execute_input": "2020-11-08T20:04:19.318776Z",
     "iopub.status.busy": "2020-11-08T20:04:19.312061Z",
     "iopub.status.idle": "2020-11-08T20:04:19.503232Z",
     "shell.execute_reply": "2020-11-08T20:04:19.503981Z"
    },
    "papermill": {
     "duration": 0.229982,
     "end_time": "2020-11-08T20:04:19.504167",
     "exception": false,
     "start_time": "2020-11-08T20:04:19.274185",
     "status": "completed"
    },
    "tags": []
   },
   "outputs": [
    {
     "name": "stdout",
     "output_type": "stream",
     "text": [
      "2\n"
     ]
    },
    {
     "data": {
      "text/plain": [
       "<matplotlib.image.AxesImage at 0x7f0b85325438>"
      ]
     },
     "execution_count": 8,
     "metadata": {},
     "output_type": "execute_result"
    },
    {
     "data": {
      "image/png": "[encoded data removed]",
      "text/plain": [
       "<Figure size 432x288 with 1 Axes>"
      ]
     },
     "metadata": {
      "needs_background": "light"
     },
     "output_type": "display_data"
    }
   ],
   "source": [
    "image_index = 7776 # You may select anything up to 60,000\n",
    "print(train_labels[image_index]) \n",
    "plt.imshow(train_images[image_index], cmap='Greys')"
   ]
  },
  {
   "cell_type": "markdown",
   "metadata": {
    "papermill": {
     "duration": 0.034651,
     "end_time": "2020-11-08T20:04:19.573984",
     "exception": false,
     "start_time": "2020-11-08T20:04:19.539333",
     "status": "completed"
    },
    "tags": []
   },
   "source": [
    "## Filter data to get 3 and 8 out"
   ]
  },
  {
   "cell_type": "code",
   "execution_count": 9,
   "metadata": {
    "execution": {
     "iopub.execute_input": "2020-11-08T20:04:19.647036Z",
     "iopub.status.busy": "2020-11-08T20:04:19.646350Z",
     "iopub.status.idle": "2020-11-08T20:04:19.671649Z",
     "shell.execute_reply": "2020-11-08T20:04:19.671066Z"
    },
    "papermill": {
     "duration": 0.063878,
     "end_time": "2020-11-08T20:04:19.671807",
     "exception": false,
     "start_time": "2020-11-08T20:04:19.607929",
     "status": "completed"
    },
    "tags": []
   },
   "outputs": [],
   "source": [
    "train_filter = np.where((train_labels == 3 ) | (train_labels == 8))\n",
    "test_filter = np.where((test_labels == 3) | (test_labels == 8))\n",
    "X_train, y_train = train_images[train_filter], train_labels[train_filter]\n",
    "X_test, y_test = test_images[test_filter], test_labels[test_filter]"
   ]
  },
  {
   "cell_type": "markdown",
   "metadata": {
    "papermill": {
     "duration": 0.032168,
     "end_time": "2020-11-08T20:04:19.735874",
     "exception": false,
     "start_time": "2020-11-08T20:04:19.703706",
     "status": "completed"
    },
    "tags": []
   },
   "source": [
    "We normalize the pixel values in the 0 to 1 range"
   ]
  },
  {
   "cell_type": "code",
   "execution_count": 10,
   "metadata": {
    "execution": {
     "iopub.execute_input": "2020-11-08T20:04:19.804076Z",
     "iopub.status.busy": "2020-11-08T20:04:19.803315Z",
     "iopub.status.idle": "2020-11-08T20:04:19.876951Z",
     "shell.execute_reply": "2020-11-08T20:04:19.876325Z"
    },
    "papermill": {
     "duration": 0.109193,
     "end_time": "2020-11-08T20:04:19.877122",
     "exception": false,
     "start_time": "2020-11-08T20:04:19.767929",
     "status": "completed"
    },
    "tags": []
   },
   "outputs": [],
   "source": [
    "X_train = X_train/255.\n",
    "X_test = X_test/255."
   ]
  },
  {
   "cell_type": "markdown",
   "metadata": {
    "papermill": {
     "duration": 0.035608,
     "end_time": "2020-11-08T20:04:19.949434",
     "exception": false,
     "start_time": "2020-11-08T20:04:19.913826",
     "status": "completed"
    },
    "tags": []
   },
   "source": [
    "Setup the labels as 1 (when the digit is 3) and 0 (when the digit is 8)"
   ]
  },
  {
   "cell_type": "code",
   "execution_count": 11,
   "metadata": {
    "execution": {
     "iopub.execute_input": "2020-11-08T20:04:20.027219Z",
     "iopub.status.busy": "2020-11-08T20:04:20.026469Z",
     "iopub.status.idle": "2020-11-08T20:04:20.040856Z",
     "shell.execute_reply": "2020-11-08T20:04:20.041425Z"
    },
    "papermill": {
     "duration": 0.053811,
     "end_time": "2020-11-08T20:04:20.041595",
     "exception": false,
     "start_time": "2020-11-08T20:04:19.987784",
     "status": "completed"
    },
    "tags": []
   },
   "outputs": [],
   "source": [
    "y_train = 1*(y_train==3)\n",
    "y_test = 1*(y_test==3)"
   ]
  },
  {
   "cell_type": "code",
   "execution_count": 12,
   "metadata": {
    "execution": {
     "iopub.execute_input": "2020-11-08T20:04:20.120176Z",
     "iopub.status.busy": "2020-11-08T20:04:20.119507Z",
     "iopub.status.idle": "2020-11-08T20:04:20.135705Z",
     "shell.execute_reply": "2020-11-08T20:04:20.135034Z"
    },
    "papermill": {
     "duration": 0.056125,
     "end_time": "2020-11-08T20:04:20.135853",
     "exception": false,
     "start_time": "2020-11-08T20:04:20.079728",
     "status": "completed"
    },
    "tags": []
   },
   "outputs": [
    {
     "data": {
      "text/plain": [
       "((11982, 28, 28), (1984, 28, 28))"
      ]
     },
     "execution_count": 12,
     "metadata": {},
     "output_type": "execute_result"
    }
   ],
   "source": [
    "X_train.shape, X_test.shape"
   ]
  },
  {
   "cell_type": "markdown",
   "metadata": {
    "papermill": {
     "duration": 0.035058,
     "end_time": "2020-11-08T20:04:20.204718",
     "exception": false,
     "start_time": "2020-11-08T20:04:20.169660",
     "status": "completed"
    },
    "tags": []
   },
   "source": [
    "### Reshape the input data to create a linear array"
   ]
  },
  {
   "cell_type": "code",
   "execution_count": 13,
   "metadata": {
    "execution": {
     "iopub.execute_input": "2020-11-08T20:04:20.281229Z",
     "iopub.status.busy": "2020-11-08T20:04:20.280514Z",
     "iopub.status.idle": "2020-11-08T20:04:20.296217Z",
     "shell.execute_reply": "2020-11-08T20:04:20.295609Z"
    },
    "papermill": {
     "duration": 0.056725,
     "end_time": "2020-11-08T20:04:20.296391",
     "exception": false,
     "start_time": "2020-11-08T20:04:20.239666",
     "status": "completed"
    },
    "tags": []
   },
   "outputs": [
    {
     "data": {
      "text/plain": [
       "((11982, 784), (1984, 784))"
      ]
     },
     "execution_count": 13,
     "metadata": {},
     "output_type": "execute_result"
    }
   ],
   "source": [
    "X_train = X_train.reshape(X_train.shape[0], -1)\n",
    "X_test = X_test.reshape(X_test.shape[0], -1)\n",
    "X_train.shape, X_test.shape"
   ]
  },
  {
   "cell_type": "markdown",
   "metadata": {
    "papermill": {
     "duration": 0.035596,
     "end_time": "2020-11-08T20:04:20.365801",
     "exception": false,
     "start_time": "2020-11-08T20:04:20.330205",
     "status": "completed"
    },
    "tags": []
   },
   "source": [
    "### Importing appropriate functions from 'Kudzu'"
   ]
  },
  {
   "cell_type": "code",
   "execution_count": 14,
   "metadata": {
    "execution": {
     "iopub.execute_input": "2020-11-08T20:04:20.443754Z",
     "iopub.status.busy": "2020-11-08T20:04:20.442909Z",
     "iopub.status.idle": "2020-11-08T20:04:20.466683Z",
     "shell.execute_reply": "2020-11-08T20:04:20.466083Z"
    },
    "papermill": {
     "duration": 0.065979,
     "end_time": "2020-11-08T20:04:20.466842",
     "exception": false,
     "start_time": "2020-11-08T20:04:20.400863",
     "status": "completed"
    },
    "tags": []
   },
   "outputs": [],
   "source": [
    "from kudzu.layer import Sigmoid\n",
    "from kudzu.layer import Relu\n",
    "from kudzu.layer import Affine, Sigmoid\n",
    "\n",
    "from kudzu.model import Model\n",
    "from kudzu.train import Learner\n",
    "from kudzu.optim import GD\n",
    "from kudzu.data import Data, Dataloader, Sampler\n",
    "\n",
    "from kudzu.callbacks import AccCallback\n",
    "from kudzu.callbacks import ClfCallback\n",
    "\n",
    "from kudzu.loss import MSE"
   ]
  },
  {
   "cell_type": "markdown",
   "metadata": {
    "papermill": {
     "duration": 0.03349,
     "end_time": "2020-11-08T20:04:20.534117",
     "exception": false,
     "start_time": "2020-11-08T20:04:20.500627",
     "status": "completed"
    },
    "tags": []
   },
   "source": [
    "### Let us create a `Config` class, to store important parameters. \n",
    "This class essentially plays the role of a dictionary."
   ]
  },
  {
   "cell_type": "code",
   "execution_count": 15,
   "metadata": {
    "execution": {
     "iopub.execute_input": "2020-11-08T20:04:20.610022Z",
     "iopub.status.busy": "2020-11-08T20:04:20.609305Z",
     "iopub.status.idle": "2020-11-08T20:04:20.624148Z",
     "shell.execute_reply": "2020-11-08T20:04:20.624788Z"
    },
    "papermill": {
     "duration": 0.056481,
     "end_time": "2020-11-08T20:04:20.624978",
     "exception": false,
     "start_time": "2020-11-08T20:04:20.568497",
     "status": "completed"
    },
    "tags": []
   },
   "outputs": [],
   "source": [
    "class Config:\n",
    "    pass\n",
    "config = Config()\n",
    "config.lr = 0.001\n",
    "config.num_epochs = 251\n",
    "config.bs = 50"
   ]
  },
  {
   "cell_type": "markdown",
   "metadata": {
    "papermill": {
     "duration": 0.034556,
     "end_time": "2020-11-08T20:04:20.694762",
     "exception": false,
     "start_time": "2020-11-08T20:04:20.660206",
     "status": "completed"
    },
    "tags": []
   },
   "source": [
    "### Initializing data to the variables"
   ]
  },
  {
   "cell_type": "code",
   "execution_count": 16,
   "metadata": {
    "execution": {
     "iopub.execute_input": "2020-11-08T20:04:20.767873Z",
     "iopub.status.busy": "2020-11-08T20:04:20.767191Z",
     "iopub.status.idle": "2020-11-08T20:04:20.786138Z",
     "shell.execute_reply": "2020-11-08T20:04:20.786821Z"
    },
    "papermill": {
     "duration": 0.05728,
     "end_time": "2020-11-08T20:04:20.787000",
     "exception": false,
     "start_time": "2020-11-08T20:04:20.729720",
     "status": "completed"
    },
    "tags": []
   },
   "outputs": [],
   "source": [
    "data = Data(X_train, y_train.reshape(-1,1))\n",
    "sampler = Sampler(data, config.bs, shuffle=True)\n",
    "\n",
    "dl = Dataloader(data, sampler)\n",
    "\n",
    "opt = GD(config.lr)\n",
    "loss = MSE()"
   ]
  },
  {
   "cell_type": "code",
   "execution_count": 17,
   "metadata": {
    "execution": {
     "iopub.execute_input": "2020-11-08T20:04:20.864521Z",
     "iopub.status.busy": "2020-11-08T20:04:20.863817Z",
     "iopub.status.idle": "2020-11-08T20:04:20.878249Z",
     "shell.execute_reply": "2020-11-08T20:04:20.879365Z"
    },
    "papermill": {
     "duration": 0.058007,
     "end_time": "2020-11-08T20:04:20.879568",
     "exception": false,
     "start_time": "2020-11-08T20:04:20.821561",
     "status": "completed"
    },
    "tags": []
   },
   "outputs": [],
   "source": [
    "training_xdata = X_train\n",
    "testing_xdata = X_test\n",
    "training_ydata = y_train.reshape(-1,1)\n",
    "testing_ydata = y_test.reshape(-1,1)"
   ]
  },
  {
   "cell_type": "markdown",
   "metadata": {
    "papermill": {
     "duration": 0.033941,
     "end_time": "2020-11-08T20:04:20.947978",
     "exception": false,
     "start_time": "2020-11-08T20:04:20.914037",
     "status": "completed"
    },
    "tags": []
   },
   "source": [
    "### Running Models with the Training data\n",
    "Details about the network layers:\n",
    "- A first affine layer has 784 inputs and does 100 affine transforms. These are followed by a Relu\n",
    "- A second affine layer has 100 inputs from the 100 activations of the past layer, and does 100 affine transforms. These are followed by a Relu\n",
    "- A third affine layer has 100 activations and does 2 affine transformations to create an embedding for visualization. There is no non-linearity here.\n",
    "- A final \"logistic regression\" which has an affine transform from 2 inputs to 1 output, which is squeezed through a sigmoid.\n",
    "\n",
    "Help taken from Anshuman's Notebook."
   ]
  },
  {
   "cell_type": "code",
   "execution_count": 18,
   "metadata": {
    "execution": {
     "iopub.execute_input": "2020-11-08T20:04:21.022543Z",
     "iopub.status.busy": "2020-11-08T20:04:21.021778Z",
     "iopub.status.idle": "2020-11-08T20:04:21.042042Z",
     "shell.execute_reply": "2020-11-08T20:04:21.041447Z"
    },
    "papermill": {
     "duration": 0.058931,
     "end_time": "2020-11-08T20:04:21.042207",
     "exception": false,
     "start_time": "2020-11-08T20:04:20.983276",
     "status": "completed"
    },
    "tags": []
   },
   "outputs": [],
   "source": [
    "# layers for the Neural Network\n",
    "layers = [Affine(\"first\", 784, 100), Relu(\"first\"), Affine(\"second\", 100, 100), Relu(\"second\"), Affine(\"third\", 100, 2), Affine(\"final\", 2, 1), Sigmoid(\"final\")]\n",
    "model_nn = Model(layers)\n",
    "\n",
    "# layers for the Logistic Regression\n",
    "layers_lr = [Affine(\"logits\", 784, 1), Sigmoid(\"sigmoid\")]\n",
    "model_lr = Model(layers_lr)"
   ]
  },
  {
   "cell_type": "code",
   "execution_count": 19,
   "metadata": {
    "execution": {
     "iopub.execute_input": "2020-11-08T20:04:21.115607Z",
     "iopub.status.busy": "2020-11-08T20:04:21.114896Z",
     "iopub.status.idle": "2020-11-08T20:04:21.130020Z",
     "shell.execute_reply": "2020-11-08T20:04:21.129353Z"
    },
    "papermill": {
     "duration": 0.054078,
     "end_time": "2020-11-08T20:04:21.130182",
     "exception": false,
     "start_time": "2020-11-08T20:04:21.076104",
     "status": "completed"
    },
    "tags": []
   },
   "outputs": [],
   "source": [
    "# suffix _nn stands for Neural Network.\n",
    "learner_nn = Learner(loss, model_nn, opt, config.num_epochs)\n",
    "acc_nn = ClfCallback(learner_nn, config.bs, training_xdata , testing_xdata, training_ydata, testing_ydata)\n",
    "learner_nn.set_callbacks([acc_nn])"
   ]
  },
  {
   "cell_type": "code",
   "execution_count": 20,
   "metadata": {
    "execution": {
     "iopub.execute_input": "2020-11-08T20:04:21.204608Z",
     "iopub.status.busy": "2020-11-08T20:04:21.203893Z",
     "iopub.status.idle": "2020-11-08T20:06:41.597588Z",
     "shell.execute_reply": "2020-11-08T20:06:41.596423Z"
    },
    "papermill": {
     "duration": 140.433289,
     "end_time": "2020-11-08T20:06:41.597790",
     "exception": false,
     "start_time": "2020-11-08T20:04:21.164501",
     "status": "completed"
    },
    "tags": []
   },
   "outputs": [
    {
     "name": "stdout",
     "output_type": "stream",
     "text": [
      "====== Neural Network ======\n"
     ]
    },
    {
     "name": "stdout",
     "output_type": "stream",
     "text": [
      "Epoch 0, Loss 0.2341\n",
      "Training Accuracy: 0.7176, Testing Accuracy: 0.7429\n",
      "\n"
     ]
    },
    {
     "name": "stdout",
     "output_type": "stream",
     "text": [
      "Epoch 10, Loss 0.0969\n",
      "Training Accuracy: 0.9155, Testing Accuracy: 0.9299\n",
      "\n"
     ]
    },
    {
     "name": "stdout",
     "output_type": "stream",
     "text": [
      "Epoch 20, Loss 0.0581\n",
      "Training Accuracy: 0.9412, Testing Accuracy: 0.9501\n",
      "\n"
     ]
    },
    {
     "name": "stdout",
     "output_type": "stream",
     "text": [
      "Epoch 30, Loss 0.045\n",
      "Training Accuracy: 0.9514, Testing Accuracy: 0.9612\n",
      "\n"
     ]
    },
    {
     "name": "stdout",
     "output_type": "stream",
     "text": [
      "Epoch 40, Loss 0.0387\n",
      "Training Accuracy: 0.9578, Testing Accuracy: 0.9657\n",
      "\n"
     ]
    },
    {
     "name": "stdout",
     "output_type": "stream",
     "text": [
      "Epoch 50, Loss 0.035\n",
      "Training Accuracy: 0.9615, Testing Accuracy: 0.9657\n",
      "\n"
     ]
    },
    {
     "name": "stdout",
     "output_type": "stream",
     "text": [
      "Epoch 60, Loss 0.0325\n",
      "Training Accuracy: 0.9638, Testing Accuracy: 0.9677\n",
      "\n"
     ]
    },
    {
     "name": "stdout",
     "output_type": "stream",
     "text": [
      "Epoch 70, Loss 0.0306\n",
      "Training Accuracy: 0.9652, Testing Accuracy: 0.9682\n",
      "\n"
     ]
    },
    {
     "name": "stdout",
     "output_type": "stream",
     "text": [
      "Epoch 80, Loss 0.0292\n",
      "Training Accuracy: 0.9673, Testing Accuracy: 0.9693\n",
      "\n"
     ]
    },
    {
     "name": "stdout",
     "output_type": "stream",
     "text": [
      "Epoch 90, Loss 0.028\n",
      "Training Accuracy: 0.9689, Testing Accuracy: 0.9703\n",
      "\n"
     ]
    },
    {
     "name": "stdout",
     "output_type": "stream",
     "text": [
      "Epoch 100, Loss 0.027\n",
      "Training Accuracy: 0.9694, Testing Accuracy: 0.9703\n",
      "\n"
     ]
    },
    {
     "name": "stdout",
     "output_type": "stream",
     "text": [
      "Epoch 110, Loss 0.0261\n",
      "Training Accuracy: 0.9702, Testing Accuracy: 0.9708\n",
      "\n"
     ]
    },
    {
     "name": "stdout",
     "output_type": "stream",
     "text": [
      "Epoch 120, Loss 0.0253\n",
      "Training Accuracy: 0.9715, Testing Accuracy: 0.9718\n",
      "\n"
     ]
    },
    {
     "name": "stdout",
     "output_type": "stream",
     "text": [
      "Epoch 130, Loss 0.0246\n",
      "Training Accuracy: 0.9720, Testing Accuracy: 0.9728\n",
      "\n"
     ]
    },
    {
     "name": "stdout",
     "output_type": "stream",
     "text": [
      "Epoch 140, Loss 0.024\n",
      "Training Accuracy: 0.9726, Testing Accuracy: 0.9733\n",
      "\n"
     ]
    },
    {
     "name": "stdout",
     "output_type": "stream",
     "text": [
      "Epoch 150, Loss 0.0234\n",
      "Training Accuracy: 0.9738, Testing Accuracy: 0.9738\n",
      "\n"
     ]
    },
    {
     "name": "stdout",
     "output_type": "stream",
     "text": [
      "Epoch 160, Loss 0.0228\n",
      "Training Accuracy: 0.9746, Testing Accuracy: 0.9733\n",
      "\n"
     ]
    },
    {
     "name": "stdout",
     "output_type": "stream",
     "text": [
      "Epoch 170, Loss 0.0223\n",
      "Training Accuracy: 0.9755, Testing Accuracy: 0.9738\n",
      "\n"
     ]
    },
    {
     "name": "stdout",
     "output_type": "stream",
     "text": [
      "Epoch 180, Loss 0.0219\n",
      "Training Accuracy: 0.9763, Testing Accuracy: 0.9748\n",
      "\n"
     ]
    },
    {
     "name": "stdout",
     "output_type": "stream",
     "text": [
      "Epoch 190, Loss 0.0214\n",
      "Training Accuracy: 0.9766, Testing Accuracy: 0.9753\n",
      "\n"
     ]
    },
    {
     "name": "stdout",
     "output_type": "stream",
     "text": [
      "Epoch 200, Loss 0.021\n",
      "Training Accuracy: 0.9770, Testing Accuracy: 0.9753\n",
      "\n"
     ]
    },
    {
     "name": "stdout",
     "output_type": "stream",
     "text": [
      "Epoch 210, Loss 0.0206\n",
      "Training Accuracy: 0.9771, Testing Accuracy: 0.9753\n",
      "\n"
     ]
    },
    {
     "name": "stdout",
     "output_type": "stream",
     "text": [
      "Epoch 220, Loss 0.0202\n",
      "Training Accuracy: 0.9777, Testing Accuracy: 0.9758\n",
      "\n"
     ]
    },
    {
     "name": "stdout",
     "output_type": "stream",
     "text": [
      "Epoch 230, Loss 0.0198\n",
      "Training Accuracy: 0.9781, Testing Accuracy: 0.9758\n",
      "\n"
     ]
    },
    {
     "name": "stdout",
     "output_type": "stream",
     "text": [
      "Epoch 240, Loss 0.0195\n",
      "Training Accuracy: 0.9788, Testing Accuracy: 0.9753\n",
      "\n"
     ]
    },
    {
     "name": "stdout",
     "output_type": "stream",
     "text": [
      "Epoch 250, Loss 0.0191\n",
      "Training Accuracy: 0.9796, Testing Accuracy: 0.9748\n",
      "\n"
     ]
    },
    {
     "data": {
      "text/plain": [
       "0.009224832828722499"
      ]
     },
     "execution_count": 20,
     "metadata": {},
     "output_type": "execute_result"
    }
   ],
   "source": [
    "print(\"====== Neural Network ======\")\n",
    "learner_nn.train_loop(dl)"
   ]
  },
  {
   "cell_type": "markdown",
   "metadata": {
    "papermill": {
     "duration": 0.043409,
     "end_time": "2020-11-08T20:06:41.688337",
     "exception": false,
     "start_time": "2020-11-08T20:06:41.644928",
     "status": "completed"
    },
    "tags": []
   },
   "source": [
    "### Logistic Regression based Implementation."
   ]
  },
  {
   "cell_type": "code",
   "execution_count": 21,
   "metadata": {
    "execution": {
     "iopub.execute_input": "2020-11-08T20:06:41.790176Z",
     "iopub.status.busy": "2020-11-08T20:06:41.789289Z",
     "iopub.status.idle": "2020-11-08T20:06:41.802759Z",
     "shell.execute_reply": "2020-11-08T20:06:41.803299Z"
    },
    "papermill": {
     "duration": 0.064001,
     "end_time": "2020-11-08T20:06:41.803477",
     "exception": false,
     "start_time": "2020-11-08T20:06:41.739476",
     "status": "completed"
    },
    "tags": []
   },
   "outputs": [],
   "source": [
    "learner_lr = Learner(loss, model_lr, opt, config.num_epochs)\n",
    "acc_lr = ClfCallback(learner_lr, config.bs, training_xdata , testing_xdata, training_ydata, testing_ydata)\n",
    "learner_lr.set_callbacks([acc_lr])"
   ]
  },
  {
   "cell_type": "code",
   "execution_count": 22,
   "metadata": {
    "execution": {
     "iopub.execute_input": "2020-11-08T20:06:41.903074Z",
     "iopub.status.busy": "2020-11-08T20:06:41.902395Z",
     "iopub.status.idle": "2020-11-08T20:07:02.515249Z",
     "shell.execute_reply": "2020-11-08T20:07:02.515828Z"
    },
    "papermill": {
     "duration": 20.665097,
     "end_time": "2020-11-08T20:07:02.516002",
     "exception": false,
     "start_time": "2020-11-08T20:06:41.850905",
     "status": "completed"
    },
    "tags": []
   },
   "outputs": [
    {
     "name": "stdout",
     "output_type": "stream",
     "text": [
      "====== Logistic Regression ======\n",
      "Epoch 0, Loss 0.2527\n",
      "Training Accuracy: 0.6471, Testing Accuracy: 0.6502\n",
      "\n"
     ]
    },
    {
     "name": "stdout",
     "output_type": "stream",
     "text": [
      "Epoch 10, Loss 0.1026\n",
      "Training Accuracy: 0.9145, Testing Accuracy: 0.9214\n",
      "\n"
     ]
    },
    {
     "name": "stdout",
     "output_type": "stream",
     "text": [
      "Epoch 20, Loss 0.0782\n",
      "Training Accuracy: 0.9308, Testing Accuracy: 0.9425\n",
      "\n"
     ]
    },
    {
     "name": "stdout",
     "output_type": "stream",
     "text": [
      "Epoch 30, Loss 0.0673\n",
      "Training Accuracy: 0.9370, Testing Accuracy: 0.9481\n",
      "\n"
     ]
    },
    {
     "name": "stdout",
     "output_type": "stream",
     "text": [
      "Epoch 40, Loss 0.0609\n",
      "Training Accuracy: 0.9430, Testing Accuracy: 0.9526\n",
      "\n"
     ]
    },
    {
     "name": "stdout",
     "output_type": "stream",
     "text": [
      "Epoch 50, Loss 0.0565\n",
      "Training Accuracy: 0.9454, Testing Accuracy: 0.9546\n",
      "\n"
     ]
    },
    {
     "name": "stdout",
     "output_type": "stream",
     "text": [
      "Epoch 60, Loss 0.0533\n",
      "Training Accuracy: 0.9486, Testing Accuracy: 0.9567\n",
      "\n"
     ]
    },
    {
     "name": "stdout",
     "output_type": "stream",
     "text": [
      "Epoch 70, Loss 0.0508\n",
      "Training Accuracy: 0.9512, Testing Accuracy: 0.9577\n",
      "\n"
     ]
    },
    {
     "name": "stdout",
     "output_type": "stream",
     "text": [
      "Epoch 80, Loss 0.0488\n",
      "Training Accuracy: 0.9523, Testing Accuracy: 0.9587\n",
      "\n"
     ]
    },
    {
     "name": "stdout",
     "output_type": "stream",
     "text": [
      "Epoch 90, Loss 0.0472\n",
      "Training Accuracy: 0.9533, Testing Accuracy: 0.9592\n",
      "\n"
     ]
    },
    {
     "name": "stdout",
     "output_type": "stream",
     "text": [
      "Epoch 100, Loss 0.0458\n",
      "Training Accuracy: 0.9548, Testing Accuracy: 0.9592\n",
      "\n"
     ]
    },
    {
     "name": "stdout",
     "output_type": "stream",
     "text": [
      "Epoch 110, Loss 0.0446\n",
      "Training Accuracy: 0.9558, Testing Accuracy: 0.9602\n",
      "\n"
     ]
    },
    {
     "name": "stdout",
     "output_type": "stream",
     "text": [
      "Epoch 120, Loss 0.0436\n",
      "Training Accuracy: 0.9567, Testing Accuracy: 0.9617\n",
      "\n"
     ]
    },
    {
     "name": "stdout",
     "output_type": "stream",
     "text": [
      "Epoch 130, Loss 0.0427\n",
      "Training Accuracy: 0.9567, Testing Accuracy: 0.9617\n",
      "\n"
     ]
    },
    {
     "name": "stdout",
     "output_type": "stream",
     "text": [
      "Epoch 140, Loss 0.0419\n",
      "Training Accuracy: 0.9572, Testing Accuracy: 0.9627\n",
      "\n"
     ]
    },
    {
     "name": "stdout",
     "output_type": "stream",
     "text": [
      "Epoch 150, Loss 0.0411\n",
      "Training Accuracy: 0.9579, Testing Accuracy: 0.9632\n",
      "\n"
     ]
    },
    {
     "name": "stdout",
     "output_type": "stream",
     "text": [
      "Epoch 160, Loss 0.0405\n",
      "Training Accuracy: 0.9580, Testing Accuracy: 0.9637\n",
      "\n"
     ]
    },
    {
     "name": "stdout",
     "output_type": "stream",
     "text": [
      "Epoch 170, Loss 0.0399\n",
      "Training Accuracy: 0.9587, Testing Accuracy: 0.9647\n",
      "\n"
     ]
    },
    {
     "name": "stdout",
     "output_type": "stream",
     "text": [
      "Epoch 180, Loss 0.0393\n",
      "Training Accuracy: 0.9592, Testing Accuracy: 0.9652\n",
      "\n"
     ]
    },
    {
     "name": "stdout",
     "output_type": "stream",
     "text": [
      "Epoch 190, Loss 0.0388\n",
      "Training Accuracy: 0.9597, Testing Accuracy: 0.9657\n",
      "\n"
     ]
    },
    {
     "name": "stdout",
     "output_type": "stream",
     "text": [
      "Epoch 200, Loss 0.0384\n",
      "Training Accuracy: 0.9602, Testing Accuracy: 0.9647\n",
      "\n"
     ]
    },
    {
     "name": "stdout",
     "output_type": "stream",
     "text": [
      "Epoch 210, Loss 0.0379\n",
      "Training Accuracy: 0.9605, Testing Accuracy: 0.9652\n",
      "\n"
     ]
    },
    {
     "name": "stdout",
     "output_type": "stream",
     "text": [
      "Epoch 220, Loss 0.0375\n",
      "Training Accuracy: 0.9606, Testing Accuracy: 0.9662\n",
      "\n"
     ]
    },
    {
     "name": "stdout",
     "output_type": "stream",
     "text": [
      "Epoch 230, Loss 0.0371\n",
      "Training Accuracy: 0.9609, Testing Accuracy: 0.9662\n",
      "\n"
     ]
    },
    {
     "name": "stdout",
     "output_type": "stream",
     "text": [
      "Epoch 240, Loss 0.0368\n",
      "Training Accuracy: 0.9610, Testing Accuracy: 0.9662\n",
      "\n"
     ]
    },
    {
     "name": "stdout",
     "output_type": "stream",
     "text": [
      "Epoch 250, Loss 0.0365\n",
      "Training Accuracy: 0.9610, Testing Accuracy: 0.9667\n",
      "\n"
     ]
    },
    {
     "data": {
      "text/plain": [
       "0.026227426257212427"
      ]
     },
     "execution_count": 22,
     "metadata": {},
     "output_type": "execute_result"
    }
   ],
   "source": [
    "print(\"====== Logistic Regression ======\")\n",
    "learner_lr.train_loop(dl)"
   ]
  },
  {
   "cell_type": "markdown",
   "metadata": {
    "papermill": {
     "duration": 0.052694,
     "end_time": "2020-11-08T20:07:02.620918",
     "exception": false,
     "start_time": "2020-11-08T20:07:02.568224",
     "status": "completed"
    },
    "tags": []
   },
   "source": [
    "### Comparing results of NN and LR"
   ]
  },
  {
   "cell_type": "code",
   "execution_count": 23,
   "metadata": {
    "execution": {
     "iopub.execute_input": "2020-11-08T20:07:02.734968Z",
     "iopub.status.busy": "2020-11-08T20:07:02.734277Z",
     "iopub.status.idle": "2020-11-08T20:07:03.042389Z",
     "shell.execute_reply": "2020-11-08T20:07:03.041168Z"
    },
    "papermill": {
     "duration": 0.367173,
     "end_time": "2020-11-08T20:07:03.042548",
     "exception": false,
     "start_time": "2020-11-08T20:07:02.675375",
     "status": "completed"
    },
    "tags": []
   },
   "outputs": [
    {
     "data": {
      "text/plain": [
       "<matplotlib.legend.Legend at 0x7f0b82e8e160>"
      ]
     },
     "execution_count": 23,
     "metadata": {},
     "output_type": "execute_result"
    },
    {
     "data": {
      "image/png": "[encoded data removed]",
      "text/plain": [
       "<Figure size 1080x720 with 1 Axes>"
      ]
     },
     "metadata": {
      "needs_background": "light"
     },
     "output_type": "display_data"
    }
   ],
   "source": [
    "plt.figure(figsize=(15,10))\n",
    "\n",
    "# Neural Network plots\n",
    "plt.plot(acc_nn.accuracies, 'r-', label = \"Training Accuracies - NN\")\n",
    "plt.plot(acc_nn.test_accuracies, 'g-', label = \"Testing Accuracies - NN\")\n",
    "\n",
    "# Logistic Regression plots\n",
    "plt.plot(acc_lr.accuracies, 'k-', label = \"Training Accuracies - LR\")\n",
    "plt.plot(acc_lr.test_accuracies, 'b-', label = \"Testing Accuracies - LR\")\n",
    "\n",
    "plt.ylim(0.8, 1)\n",
    "\n",
    "plt.legend()\n",
    "\n"
   ]
  },
  {
   "cell_type": "markdown",
   "metadata": {
    "papermill": {
     "duration": 0.061795,
     "end_time": "2020-11-08T20:07:03.167086",
     "exception": false,
     "start_time": "2020-11-08T20:07:03.105291",
     "status": "completed"
    },
    "tags": []
   },
   "source": [
    "### From the plot, we can observe the following:\n",
    "- Neural Network achieves higher accuracy than the Logistic Regression model.\n",
    "- This apparently, is because of overfitting, i.e. NN captures more noise than data.\n",
    "- Testing accuracy of NN drops below the Training accuracy at higher epochs. This explains the over-fitting on training data.\n",
    "- Logistic Regression gives a reliable accuracy, without the above mentioned problem.\n"
   ]
  },
  {
   "cell_type": "markdown",
   "metadata": {
    "papermill": {
     "duration": 0.055554,
     "end_time": "2020-11-08T20:07:03.280277",
     "exception": false,
     "start_time": "2020-11-08T20:07:03.224723",
     "status": "completed"
    },
    "tags": []
   },
   "source": [
    "### Moving till the last but one layer (excluding it).\n",
    "#### Plotting the outputs of this layer of the NN."
   ]
  },
  {
   "cell_type": "code",
   "execution_count": 24,
   "metadata": {
    "execution": {
     "iopub.execute_input": "2020-11-08T20:07:03.399356Z",
     "iopub.status.busy": "2020-11-08T20:07:03.398683Z",
     "iopub.status.idle": "2020-11-08T20:07:03.411488Z",
     "shell.execute_reply": "2020-11-08T20:07:03.410844Z"
    },
    "papermill": {
     "duration": 0.075213,
     "end_time": "2020-11-08T20:07:03.411644",
     "exception": false,
     "start_time": "2020-11-08T20:07:03.336431",
     "status": "completed"
    },
    "tags": []
   },
   "outputs": [],
   "source": [
    "model_new = Model(layers[:-2])"
   ]
  },
  {
   "cell_type": "code",
   "execution_count": 25,
   "metadata": {
    "execution": {
     "iopub.execute_input": "2020-11-08T20:07:03.532438Z",
     "iopub.status.busy": "2020-11-08T20:07:03.529175Z",
     "iopub.status.idle": "2020-11-08T20:07:03.557546Z",
     "shell.execute_reply": "2020-11-08T20:07:03.558138Z"
    },
    "papermill": {
     "duration": 0.091082,
     "end_time": "2020-11-08T20:07:03.558328",
     "exception": false,
     "start_time": "2020-11-08T20:07:03.467246",
     "status": "completed"
    },
    "tags": []
   },
   "outputs": [],
   "source": [
    "plot_testing = model_new(testing_xdata)"
   ]
  },
  {
   "cell_type": "code",
   "execution_count": 26,
   "metadata": {
    "execution": {
     "iopub.execute_input": "2020-11-08T20:07:03.677156Z",
     "iopub.status.busy": "2020-11-08T20:07:03.675824Z",
     "iopub.status.idle": "2020-11-08T20:07:03.932535Z",
     "shell.execute_reply": "2020-11-08T20:07:03.936791Z"
    },
    "papermill": {
     "duration": 0.322462,
     "end_time": "2020-11-08T20:07:03.937282",
     "exception": false,
     "start_time": "2020-11-08T20:07:03.614820",
     "status": "completed"
    },
    "tags": []
   },
   "outputs": [
    {
     "data": {
      "text/plain": [
       "Text(0.5, 1.0, 'Outputs')"
      ]
     },
     "execution_count": 26,
     "metadata": {},
     "output_type": "execute_result"
    },
    {
     "data": {
      "image/png": "[encoded data removed]",
      "text/plain": [
       "<Figure size 576x504 with 1 Axes>"
      ]
     },
     "metadata": {
      "needs_background": "light"
     },
     "output_type": "display_data"
    }
   ],
   "source": [
    "plt.figure(figsize=(8,7))\n",
    "plt.scatter(plot_testing[:,0], plot_testing[:,1], alpha = 0.1, c = y_test.ravel());\n",
    "plt.title('Outputs')"
   ]
  },
  {
   "cell_type": "markdown",
   "metadata": {
    "papermill": {
     "duration": 0.060003,
     "end_time": "2020-11-08T20:07:04.057900",
     "exception": false,
     "start_time": "2020-11-08T20:07:03.997897",
     "status": "completed"
    },
    "tags": []
   },
   "source": [
    "### Plotting probability contours"
   ]
  },
  {
   "cell_type": "code",
   "execution_count": 27,
   "metadata": {
    "execution": {
     "iopub.execute_input": "2020-11-08T20:07:04.176922Z",
     "iopub.status.busy": "2020-11-08T20:07:04.176213Z",
     "iopub.status.idle": "2020-11-08T20:07:04.197287Z",
     "shell.execute_reply": "2020-11-08T20:07:04.198006Z"
    },
    "papermill": {
     "duration": 0.083427,
     "end_time": "2020-11-08T20:07:04.198203",
     "exception": false,
     "start_time": "2020-11-08T20:07:04.114776",
     "status": "completed"
    },
    "tags": []
   },
   "outputs": [],
   "source": [
    "model_prob = Model(layers[-2:]) "
   ]
  },
  {
   "cell_type": "code",
   "execution_count": 28,
   "metadata": {
    "execution": {
     "iopub.execute_input": "2020-11-08T20:07:04.321056Z",
     "iopub.status.busy": "2020-11-08T20:07:04.320047Z",
     "iopub.status.idle": "2020-11-08T20:07:04.336540Z",
     "shell.execute_reply": "2020-11-08T20:07:04.337200Z"
    },
    "papermill": {
     "duration": 0.081341,
     "end_time": "2020-11-08T20:07:04.337396",
     "exception": false,
     "start_time": "2020-11-08T20:07:04.256055",
     "status": "completed"
    },
    "tags": []
   },
   "outputs": [],
   "source": [
    "# Adjust the x and y ranges according to the above generated plot.\n",
    "x_range = np.linspace(-4, 1, 100) \n",
    "y_range = np.linspace(-6, 6, 100) \n",
    "x_grid, y_grid = np.meshgrid(x_range, y_range) # x_grid and y_grig are of size 100 X 100\n",
    "\n",
    "# converting x_grid and y_grid to continuous arrays\n",
    "x_grid_flat = np.ravel(x_grid)\n",
    "y_grid_flat = np.ravel(y_grid)\n",
    "\n",
    "# The last layer of the current model takes two columns as input. Hence transpose of np.vstack() is required.\n",
    "X = np.vstack((x_grid_flat, y_grid_flat)).T\n",
    "\n",
    "# x_grid and y_grid are of size 100 x 100\n",
    "probability_contour = model_prob(X).reshape(100,100) "
   ]
  },
  {
   "cell_type": "code",
   "execution_count": 29,
   "metadata": {
    "execution": {
     "iopub.execute_input": "2020-11-08T20:07:04.462625Z",
     "iopub.status.busy": "2020-11-08T20:07:04.461908Z",
     "iopub.status.idle": "2020-11-08T20:07:04.769263Z",
     "shell.execute_reply": "2020-11-08T20:07:04.768116Z"
    },
    "papermill": {
     "duration": 0.376259,
     "end_time": "2020-11-08T20:07:04.769478",
     "exception": false,
     "start_time": "2020-11-08T20:07:04.393219",
     "status": "completed"
    },
    "tags": []
   },
   "outputs": [
    {
     "data": {
      "image/png": "[encoded data removed]",
      "text/plain": [
       "<Figure size 720x648 with 1 Axes>"
      ]
     },
     "metadata": {
      "needs_background": "light"
     },
     "output_type": "display_data"
    }
   ],
   "source": [
    "plt.figure(figsize=(10,9))\n",
    "plt.scatter(plot_testing[:,0], plot_testing[:,1], alpha = 0.1, c = y_test.ravel())\n",
    "contours = plt.contour(x_grid,y_grid,probability_contour)\n",
    "plt.title('Probability Contours')\n",
    "plt.clabel(contours, inline = True );"
   ]
  }
 ],
 "metadata": {
  "kernelspec": {
   "display_name": "Python 3",
   "language": "python",
   "name": "python3"
  },
  "language_info": {
   "codemirror_mode": {
    "name": "ipython",
    "version": 3
   },
   "file_extension": ".py",
   "mimetype": "text/x-python",
   "name": "python",
   "nbconvert_exporter": "python",
   "pygments_lexer": "ipython3",
   "version": "3.6.12"
  },
  "papermill": {
   "duration": 171.293335,
   "end_time": "2020-11-08T20:07:05.259644",
   "environment_variables": {},
   "exception": null,
   "input_path": "2020-08-11-NeuralNetwork.ipynb",
   "output_path": "2020-08-11-NeuralNetwork.ipynb",
   "parameters": {},
   "start_time": "2020-11-08T20:04:13.966309",
   "version": "2.1.2"
  }
 },
 "nbformat": 4,
 "nbformat_minor": 4
}