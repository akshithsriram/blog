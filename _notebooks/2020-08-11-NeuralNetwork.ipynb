{
 "cells": [
  {
   "cell_type": "markdown",
   "metadata": {
    "papermill": {
     "duration": 0.031007,
     "end_time": "2020-11-22T20:03:55.132123",
     "exception": false,
     "start_time": "2020-11-22T20:03:55.101116",
     "status": "completed"
    },
    "tags": []
   },
   "source": [
    "# \"A Basic Neural Network: Differentiate Hand-Written Digits\"\n",
    "\n",
    "- badges: true\n",
    "- author: Akshith Sriram"
   ]
  },
  {
   "cell_type": "markdown",
   "metadata": {
    "papermill": {
     "duration": 0.024652,
     "end_time": "2020-11-22T20:03:55.182173",
     "exception": false,
     "start_time": "2020-11-22T20:03:55.157521",
     "status": "completed"
    },
    "tags": []
   },
   "source": [
    "### Key Objectives:\n",
    "- Building a neural network that differentiates two hand-written digits 3 and 8.\n",
    "- Comparing the results of this Neural Network (NN) to that of a Logistic Regression (LR) model.\n",
    "\n",
    "### Requirements:\n",
    "- 'Kudzu' : A neural network library that was designed during our course by [Univ.AI](www.univ.ai). \n",
    "- MNIST Database\n",
    "\n",
    "If MNIST is not installed, use the command `!pip install mnist` given below.\n",
    "It can be run both from the command line and Jupyter Notebook."
   ]
  },
  {
   "cell_type": "code",
   "execution_count": 1,
   "metadata": {
    "execution": {
     "iopub.execute_input": "2020-11-22T20:03:55.239522Z",
     "iopub.status.busy": "2020-11-22T20:03:55.238866Z",
     "iopub.status.idle": "2020-11-22T20:03:56.785117Z",
     "shell.execute_reply": "2020-11-22T20:03:56.784225Z"
    },
    "papermill": {
     "duration": 1.578502,
     "end_time": "2020-11-22T20:03:56.785365",
     "exception": false,
     "start_time": "2020-11-22T20:03:55.206863",
     "status": "completed"
    },
    "tags": []
   },
   "outputs": [
    {
     "name": "stdout",
     "output_type": "stream",
     "text": [
      "Collecting mnist\r\n",
      "  Downloading mnist-0.2.2-py2.py3-none-any.whl (3.5 kB)\r\n"
     ]
    },
    {
     "name": "stdout",
     "output_type": "stream",
     "text": [
      "Requirement already satisfied: numpy in /opt/hostedtoolcache/Python/3.6.12/x64/lib/python3.6/site-packages (from mnist) (1.19.4)\r\n"
     ]
    },
    {
     "name": "stdout",
     "output_type": "stream",
     "text": [
      "Installing collected packages: mnist\r\n"
     ]
    },
    {
     "name": "stdout",
     "output_type": "stream",
     "text": [
      "Successfully installed mnist-0.2.2\r\n"
     ]
    }
   ],
   "source": [
    "!pip install mnist "
   ]
  },
  {
   "cell_type": "markdown",
   "metadata": {
    "papermill": {
     "duration": 0.026239,
     "end_time": "2020-11-22T20:03:56.840403",
     "exception": false,
     "start_time": "2020-11-22T20:03:56.814164",
     "status": "completed"
    },
    "tags": []
   },
   "source": [
    "#### Importing necessary libraries"
   ]
  },
  {
   "cell_type": "code",
   "execution_count": 2,
   "metadata": {
    "execution": {
     "iopub.execute_input": "2020-11-22T20:03:56.901510Z",
     "iopub.status.busy": "2020-11-22T20:03:56.900916Z",
     "iopub.status.idle": "2020-11-22T20:03:57.477859Z",
     "shell.execute_reply": "2020-11-22T20:03:57.476910Z"
    },
    "papermill": {
     "duration": 0.610717,
     "end_time": "2020-11-22T20:03:57.478011",
     "exception": false,
     "start_time": "2020-11-22T20:03:56.867294",
     "status": "completed"
    },
    "tags": []
   },
   "outputs": [],
   "source": [
    "%load_ext autoreload\n",
    "%autoreload 2\n",
    "\n",
    "%matplotlib inline\n",
    "import matplotlib.pyplot as plt\n",
    "\n",
    "import numpy as np\n",
    "import pandas as pd"
   ]
  },
  {
   "cell_type": "markdown",
   "metadata": {
    "papermill": {
     "duration": 0.026109,
     "end_time": "2020-11-22T20:03:57.530775",
     "exception": false,
     "start_time": "2020-11-22T20:03:57.504666",
     "status": "completed"
    },
    "tags": []
   },
   "source": [
    "### Preparing the Data"
   ]
  },
  {
   "cell_type": "code",
   "execution_count": 3,
   "metadata": {
    "execution": {
     "iopub.execute_input": "2020-11-22T20:03:57.589691Z",
     "iopub.status.busy": "2020-11-22T20:03:57.588628Z",
     "iopub.status.idle": "2020-11-22T20:03:57.600523Z",
     "shell.execute_reply": "2020-11-22T20:03:57.599912Z"
    },
    "papermill": {
     "duration": 0.04361,
     "end_time": "2020-11-22T20:03:57.600654",
     "exception": false,
     "start_time": "2020-11-22T20:03:57.557044",
     "status": "completed"
    },
    "tags": []
   },
   "outputs": [],
   "source": [
    "import mnist"
   ]
  },
  {
   "cell_type": "code",
   "execution_count": 4,
   "metadata": {
    "execution": {
     "iopub.execute_input": "2020-11-22T20:03:57.657518Z",
     "iopub.status.busy": "2020-11-22T20:03:57.656525Z",
     "iopub.status.idle": "2020-11-22T20:03:58.413376Z",
     "shell.execute_reply": "2020-11-22T20:03:58.412816Z"
    },
    "papermill": {
     "duration": 0.78662,
     "end_time": "2020-11-22T20:03:58.413519",
     "exception": false,
     "start_time": "2020-11-22T20:03:57.626899",
     "status": "completed"
    },
    "tags": []
   },
   "outputs": [],
   "source": [
    "train_images = mnist.train_images()\n",
    "train_labels = mnist.train_labels()"
   ]
  },
  {
   "cell_type": "code",
   "execution_count": 5,
   "metadata": {
    "execution": {
     "iopub.execute_input": "2020-11-22T20:03:58.475125Z",
     "iopub.status.busy": "2020-11-22T20:03:58.474556Z",
     "iopub.status.idle": "2020-11-22T20:03:58.489673Z",
     "shell.execute_reply": "2020-11-22T20:03:58.489205Z"
    },
    "papermill": {
     "duration": 0.050034,
     "end_time": "2020-11-22T20:03:58.489796",
     "exception": false,
     "start_time": "2020-11-22T20:03:58.439762",
     "status": "completed"
    },
    "tags": []
   },
   "outputs": [
    {
     "data": {
      "text/plain": [
       "((60000, 28, 28), (60000,))"
      ]
     },
     "execution_count": 5,
     "metadata": {},
     "output_type": "execute_result"
    }
   ],
   "source": [
    "train_images.shape, train_labels.shape"
   ]
  },
  {
   "cell_type": "code",
   "execution_count": 6,
   "metadata": {
    "execution": {
     "iopub.execute_input": "2020-11-22T20:03:58.546833Z",
     "iopub.status.busy": "2020-11-22T20:03:58.546240Z",
     "iopub.status.idle": "2020-11-22T20:03:58.795743Z",
     "shell.execute_reply": "2020-11-22T20:03:58.794829Z"
    },
    "papermill": {
     "duration": 0.280363,
     "end_time": "2020-11-22T20:03:58.795973",
     "exception": false,
     "start_time": "2020-11-22T20:03:58.515610",
     "status": "completed"
    },
    "tags": []
   },
   "outputs": [],
   "source": [
    "test_images = mnist.test_images()\n",
    "test_labels = mnist.test_labels()"
   ]
  },
  {
   "cell_type": "code",
   "execution_count": 7,
   "metadata": {
    "execution": {
     "iopub.execute_input": "2020-11-22T20:03:58.855800Z",
     "iopub.status.busy": "2020-11-22T20:03:58.855180Z",
     "iopub.status.idle": "2020-11-22T20:03:58.870342Z",
     "shell.execute_reply": "2020-11-22T20:03:58.869880Z"
    },
    "papermill": {
     "duration": 0.046889,
     "end_time": "2020-11-22T20:03:58.870486",
     "exception": false,
     "start_time": "2020-11-22T20:03:58.823597",
     "status": "completed"
    },
    "tags": []
   },
   "outputs": [
    {
     "data": {
      "text/plain": [
       "((10000, 28, 28), (10000,))"
      ]
     },
     "execution_count": 7,
     "metadata": {},
     "output_type": "execute_result"
    }
   ],
   "source": [
    "test_images.shape, test_labels.shape"
   ]
  },
  {
   "cell_type": "code",
   "execution_count": 8,
   "metadata": {
    "execution": {
     "iopub.execute_input": "2020-11-22T20:03:58.934431Z",
     "iopub.status.busy": "2020-11-22T20:03:58.933825Z",
     "iopub.status.idle": "2020-11-22T20:03:59.081413Z",
     "shell.execute_reply": "2020-11-22T20:03:59.080931Z"
    },
    "papermill": {
     "duration": 0.185485,
     "end_time": "2020-11-22T20:03:59.081562",
     "exception": false,
     "start_time": "2020-11-22T20:03:58.896077",
     "status": "completed"
    },
    "tags": []
   },
   "outputs": [
    {
     "name": "stdout",
     "output_type": "stream",
     "text": [
      "2\n"
     ]
    },
    {
     "data": {
      "text/plain": [
       "<matplotlib.image.AxesImage at 0x7f6f74844080>"
      ]
     },
     "execution_count": 8,
     "metadata": {},
     "output_type": "execute_result"
    },
    {
     "data": {
      "image/png": "[encoded data removed]",
      "text/plain": [
       "<Figure size 432x288 with 1 Axes>"
      ]
     },
     "metadata": {
      "needs_background": "light"
     },
     "output_type": "display_data"
    }
   ],
   "source": [
    "image_index = 7776 # You may select anything up to 60,000\n",
    "print(train_labels[image_index]) \n",
    "plt.imshow(train_images[image_index], cmap='Greys')"
   ]
  },
  {
   "cell_type": "markdown",
   "metadata": {
    "papermill": {
     "duration": 0.027199,
     "end_time": "2020-11-22T20:03:59.136511",
     "exception": false,
     "start_time": "2020-11-22T20:03:59.109312",
     "status": "completed"
    },
    "tags": []
   },
   "source": [
    "## Filter data to get 3 and 8 out"
   ]
  },
  {
   "cell_type": "code",
   "execution_count": 9,
   "metadata": {
    "execution": {
     "iopub.execute_input": "2020-11-22T20:03:59.196209Z",
     "iopub.status.busy": "2020-11-22T20:03:59.195163Z",
     "iopub.status.idle": "2020-11-22T20:03:59.212434Z",
     "shell.execute_reply": "2020-11-22T20:03:59.211958Z"
    },
    "papermill": {
     "duration": 0.048887,
     "end_time": "2020-11-22T20:03:59.212565",
     "exception": false,
     "start_time": "2020-11-22T20:03:59.163678",
     "status": "completed"
    },
    "tags": []
   },
   "outputs": [],
   "source": [
    "train_filter = np.where((train_labels == 3 ) | (train_labels == 8))\n",
    "test_filter = np.where((test_labels == 3) | (test_labels == 8))\n",
    "X_train, y_train = train_images[train_filter], train_labels[train_filter]\n",
    "X_test, y_test = test_images[test_filter], test_labels[test_filter]"
   ]
  },
  {
   "cell_type": "markdown",
   "metadata": {
    "papermill": {
     "duration": 0.026816,
     "end_time": "2020-11-22T20:03:59.266606",
     "exception": false,
     "start_time": "2020-11-22T20:03:59.239790",
     "status": "completed"
    },
    "tags": []
   },
   "source": [
    "We normalize the pixel values in the 0 to 1 range"
   ]
  },
  {
   "cell_type": "code",
   "execution_count": 10,
   "metadata": {
    "execution": {
     "iopub.execute_input": "2020-11-22T20:03:59.326245Z",
     "iopub.status.busy": "2020-11-22T20:03:59.325677Z",
     "iopub.status.idle": "2020-11-22T20:03:59.379505Z",
     "shell.execute_reply": "2020-11-22T20:03:59.378306Z"
    },
    "papermill": {
     "duration": 0.085838,
     "end_time": "2020-11-22T20:03:59.379670",
     "exception": false,
     "start_time": "2020-11-22T20:03:59.293832",
     "status": "completed"
    },
    "tags": []
   },
   "outputs": [],
   "source": [
    "X_train = X_train/255.\n",
    "X_test = X_test/255."
   ]
  },
  {
   "cell_type": "markdown",
   "metadata": {
    "papermill": {
     "duration": 0.027511,
     "end_time": "2020-11-22T20:03:59.434518",
     "exception": false,
     "start_time": "2020-11-22T20:03:59.407007",
     "status": "completed"
    },
    "tags": []
   },
   "source": [
    "Setup the labels as 1 (when the digit is 3) and 0 (when the digit is 8)"
   ]
  },
  {
   "cell_type": "code",
   "execution_count": 11,
   "metadata": {
    "execution": {
     "iopub.execute_input": "2020-11-22T20:03:59.494470Z",
     "iopub.status.busy": "2020-11-22T20:03:59.493439Z",
     "iopub.status.idle": "2020-11-22T20:03:59.505205Z",
     "shell.execute_reply": "2020-11-22T20:03:59.504698Z"
    },
    "papermill": {
     "duration": 0.043484,
     "end_time": "2020-11-22T20:03:59.505337",
     "exception": false,
     "start_time": "2020-11-22T20:03:59.461853",
     "status": "completed"
    },
    "tags": []
   },
   "outputs": [],
   "source": [
    "y_train = 1*(y_train==3)\n",
    "y_test = 1*(y_test==3)"
   ]
  },
  {
   "cell_type": "code",
   "execution_count": 12,
   "metadata": {
    "execution": {
     "iopub.execute_input": "2020-11-22T20:03:59.564630Z",
     "iopub.status.busy": "2020-11-22T20:03:59.564083Z",
     "iopub.status.idle": "2020-11-22T20:03:59.579719Z",
     "shell.execute_reply": "2020-11-22T20:03:59.580256Z"
    },
    "papermill": {
     "duration": 0.047351,
     "end_time": "2020-11-22T20:03:59.580399",
     "exception": false,
     "start_time": "2020-11-22T20:03:59.533048",
     "status": "completed"
    },
    "tags": []
   },
   "outputs": [
    {
     "data": {
      "text/plain": [
       "((11982, 28, 28), (1984, 28, 28))"
      ]
     },
     "execution_count": 12,
     "metadata": {},
     "output_type": "execute_result"
    }
   ],
   "source": [
    "X_train.shape, X_test.shape"
   ]
  },
  {
   "cell_type": "markdown",
   "metadata": {
    "papermill": {
     "duration": 0.027379,
     "end_time": "2020-11-22T20:03:59.635085",
     "exception": false,
     "start_time": "2020-11-22T20:03:59.607706",
     "status": "completed"
    },
    "tags": []
   },
   "source": [
    "### Reshape the input data to create a linear array"
   ]
  },
  {
   "cell_type": "code",
   "execution_count": 13,
   "metadata": {
    "execution": {
     "iopub.execute_input": "2020-11-22T20:03:59.694653Z",
     "iopub.status.busy": "2020-11-22T20:03:59.694058Z",
     "iopub.status.idle": "2020-11-22T20:03:59.709775Z",
     "shell.execute_reply": "2020-11-22T20:03:59.708980Z"
    },
    "papermill": {
     "duration": 0.047054,
     "end_time": "2020-11-22T20:03:59.709911",
     "exception": false,
     "start_time": "2020-11-22T20:03:59.662857",
     "status": "completed"
    },
    "tags": []
   },
   "outputs": [
    {
     "data": {
      "text/plain": [
       "((11982, 784), (1984, 784))"
      ]
     },
     "execution_count": 13,
     "metadata": {},
     "output_type": "execute_result"
    }
   ],
   "source": [
    "X_train = X_train.reshape(X_train.shape[0], -1)\n",
    "X_test = X_test.reshape(X_test.shape[0], -1)\n",
    "X_train.shape, X_test.shape"
   ]
  },
  {
   "cell_type": "markdown",
   "metadata": {
    "papermill": {
     "duration": 0.027257,
     "end_time": "2020-11-22T20:03:59.764872",
     "exception": false,
     "start_time": "2020-11-22T20:03:59.737615",
     "status": "completed"
    },
    "tags": []
   },
   "source": [
    "### Importing appropriate functions from 'Kudzu'"
   ]
  },
  {
   "cell_type": "code",
   "execution_count": 14,
   "metadata": {
    "execution": {
     "iopub.execute_input": "2020-11-22T20:03:59.840955Z",
     "iopub.status.busy": "2020-11-22T20:03:59.834905Z",
     "iopub.status.idle": "2020-11-22T20:03:59.851368Z",
     "shell.execute_reply": "2020-11-22T20:03:59.850243Z"
    },
    "papermill": {
     "duration": 0.058622,
     "end_time": "2020-11-22T20:03:59.851502",
     "exception": false,
     "start_time": "2020-11-22T20:03:59.792880",
     "status": "completed"
    },
    "tags": []
   },
   "outputs": [],
   "source": [
    "from kudzu.layer import Sigmoid\n",
    "from kudzu.layer import Relu\n",
    "from kudzu.layer import Affine, Sigmoid\n",
    "\n",
    "from kudzu.model import Model\n",
    "from kudzu.train import Learner\n",
    "from kudzu.optim import GD\n",
    "from kudzu.data import Data, Dataloader, Sampler\n",
    "\n",
    "from kudzu.callbacks import AccCallback\n",
    "from kudzu.callbacks import ClfCallback\n",
    "\n",
    "from kudzu.loss import MSE"
   ]
  },
  {
   "cell_type": "markdown",
   "metadata": {
    "papermill": {
     "duration": 0.027496,
     "end_time": "2020-11-22T20:03:59.907387",
     "exception": false,
     "start_time": "2020-11-22T20:03:59.879891",
     "status": "completed"
    },
    "tags": []
   },
   "source": [
    "### Let us create a `Config` class, to store important parameters. \n",
    "This class essentially plays the role of a dictionary."
   ]
  },
  {
   "cell_type": "code",
   "execution_count": 15,
   "metadata": {
    "execution": {
     "iopub.execute_input": "2020-11-22T20:03:59.968760Z",
     "iopub.status.busy": "2020-11-22T20:03:59.968196Z",
     "iopub.status.idle": "2020-11-22T20:03:59.983241Z",
     "shell.execute_reply": "2020-11-22T20:03:59.983769Z"
    },
    "papermill": {
     "duration": 0.048057,
     "end_time": "2020-11-22T20:03:59.983973",
     "exception": false,
     "start_time": "2020-11-22T20:03:59.935916",
     "status": "completed"
    },
    "tags": []
   },
   "outputs": [],
   "source": [
    "class Config:\n",
    "    pass\n",
    "config = Config()\n",
    "config.lr = 0.001\n",
    "config.num_epochs = 251\n",
    "config.bs = 50"
   ]
  },
  {
   "cell_type": "markdown",
   "metadata": {
    "papermill": {
     "duration": 0.028226,
     "end_time": "2020-11-22T20:04:00.040671",
     "exception": false,
     "start_time": "2020-11-22T20:04:00.012445",
     "status": "completed"
    },
    "tags": []
   },
   "source": [
    "### Initializing data to the variables"
   ]
  },
  {
   "cell_type": "code",
   "execution_count": 16,
   "metadata": {
    "execution": {
     "iopub.execute_input": "2020-11-22T20:04:00.102391Z",
     "iopub.status.busy": "2020-11-22T20:04:00.101764Z",
     "iopub.status.idle": "2020-11-22T20:04:00.116442Z",
     "shell.execute_reply": "2020-11-22T20:04:00.115841Z"
    },
    "papermill": {
     "duration": 0.047709,
     "end_time": "2020-11-22T20:04:00.116572",
     "exception": false,
     "start_time": "2020-11-22T20:04:00.068863",
     "status": "completed"
    },
    "tags": []
   },
   "outputs": [],
   "source": [
    "data = Data(X_train, y_train.reshape(-1,1))\n",
    "sampler = Sampler(data, config.bs, shuffle=True)\n",
    "\n",
    "dl = Dataloader(data, sampler)\n",
    "\n",
    "opt = GD(config.lr)\n",
    "loss = MSE()"
   ]
  },
  {
   "cell_type": "code",
   "execution_count": 17,
   "metadata": {
    "execution": {
     "iopub.execute_input": "2020-11-22T20:04:00.178177Z",
     "iopub.status.busy": "2020-11-22T20:04:00.176626Z",
     "iopub.status.idle": "2020-11-22T20:04:00.191456Z",
     "shell.execute_reply": "2020-11-22T20:04:00.190945Z"
    },
    "papermill": {
     "duration": 0.046942,
     "end_time": "2020-11-22T20:04:00.191587",
     "exception": false,
     "start_time": "2020-11-22T20:04:00.144645",
     "status": "completed"
    },
    "tags": []
   },
   "outputs": [],
   "source": [
    "training_xdata = X_train\n",
    "testing_xdata = X_test\n",
    "training_ydata = y_train.reshape(-1,1)\n",
    "testing_ydata = y_test.reshape(-1,1)"
   ]
  },
  {
   "cell_type": "markdown",
   "metadata": {
    "papermill": {
     "duration": 0.028232,
     "end_time": "2020-11-22T20:04:00.248266",
     "exception": false,
     "start_time": "2020-11-22T20:04:00.220034",
     "status": "completed"
    },
    "tags": []
   },
   "source": [
    "### Running Models with the Training data\n",
    "Details about the network layers:\n",
    "- A first affine layer has 784 inputs and does 100 affine transforms. These are followed by a Relu\n",
    "- A second affine layer has 100 inputs from the 100 activations of the past layer, and does 100 affine transforms. These are followed by a Relu\n",
    "- A third affine layer has 100 activations and does 2 affine transformations to create an embedding for visualization. There is no non-linearity here.\n",
    "- A final \"logistic regression\" which has an affine transform from 2 inputs to 1 output, which is squeezed through a sigmoid.\n",
    "\n",
    "Help taken from Anshuman's Notebook."
   ]
  },
  {
   "cell_type": "code",
   "execution_count": 18,
   "metadata": {
    "execution": {
     "iopub.execute_input": "2020-11-22T20:04:00.321770Z",
     "iopub.status.busy": "2020-11-22T20:04:00.310374Z",
     "iopub.status.idle": "2020-11-22T20:04:00.329495Z",
     "shell.execute_reply": "2020-11-22T20:04:00.329022Z"
    },
    "papermill": {
     "duration": 0.053649,
     "end_time": "2020-11-22T20:04:00.329623",
     "exception": false,
     "start_time": "2020-11-22T20:04:00.275974",
     "status": "completed"
    },
    "tags": []
   },
   "outputs": [],
   "source": [
    "# layers for the Neural Network\n",
    "layers = [Affine(\"first\", 784, 100), Relu(\"first\"), Affine(\"second\", 100, 100), Relu(\"second\"), Affine(\"third\", 100, 2), Affine(\"final\", 2, 1), Sigmoid(\"final\")]\n",
    "model_nn = Model(layers)\n",
    "\n",
    "# layers for the Logistic Regression\n",
    "layers_lr = [Affine(\"logits\", 784, 1), Sigmoid(\"sigmoid\")]\n",
    "model_lr = Model(layers_lr)"
   ]
  },
  {
   "cell_type": "code",
   "execution_count": 19,
   "metadata": {
    "execution": {
     "iopub.execute_input": "2020-11-22T20:04:00.391542Z",
     "iopub.status.busy": "2020-11-22T20:04:00.390953Z",
     "iopub.status.idle": "2020-11-22T20:04:00.404241Z",
     "shell.execute_reply": "2020-11-22T20:04:00.403726Z"
    },
    "papermill": {
     "duration": 0.046522,
     "end_time": "2020-11-22T20:04:00.404362",
     "exception": false,
     "start_time": "2020-11-22T20:04:00.357840",
     "status": "completed"
    },
    "tags": []
   },
   "outputs": [],
   "source": [
    "# suffix _nn stands for Neural Network.\n",
    "learner_nn = Learner(loss, model_nn, opt, config.num_epochs)\n",
    "acc_nn = ClfCallback(learner_nn, config.bs, training_xdata , testing_xdata, training_ydata, testing_ydata)\n",
    "learner_nn.set_callbacks([acc_nn])"
   ]
  },
  {
   "cell_type": "code",
   "execution_count": 20,
   "metadata": {
    "execution": {
     "iopub.execute_input": "2020-11-22T20:04:00.465597Z",
     "iopub.status.busy": "2020-11-22T20:04:00.464995Z",
     "iopub.status.idle": "2020-11-22T20:05:25.770739Z",
     "shell.execute_reply": "2020-11-22T20:05:25.771302Z"
    },
    "papermill": {
     "duration": 85.338584,
     "end_time": "2020-11-22T20:05:25.771457",
     "exception": false,
     "start_time": "2020-11-22T20:04:00.432873",
     "status": "completed"
    },
    "tags": []
   },
   "outputs": [
    {
     "name": "stdout",
     "output_type": "stream",
     "text": [
      "====== Neural Network ======\n"
     ]
    },
    {
     "name": "stdout",
     "output_type": "stream",
     "text": [
      "Epoch 0, Loss 0.2534\n",
      "Training Accuracy: 0.4950, Testing Accuracy: 0.4990\n",
      "\n"
     ]
    },
    {
     "name": "stdout",
     "output_type": "stream",
     "text": [
      "Epoch 10, Loss 0.1681\n",
      "Training Accuracy: 0.8874, Testing Accuracy: 0.9022\n",
      "\n"
     ]
    },
    {
     "name": "stdout",
     "output_type": "stream",
     "text": [
      "Epoch 20, Loss 0.0819\n",
      "Training Accuracy: 0.9216, Testing Accuracy: 0.9350\n",
      "\n"
     ]
    },
    {
     "name": "stdout",
     "output_type": "stream",
     "text": [
      "Epoch 30, Loss 0.0563\n",
      "Training Accuracy: 0.9392, Testing Accuracy: 0.9496\n",
      "\n"
     ]
    },
    {
     "name": "stdout",
     "output_type": "stream",
     "text": [
      "Epoch 40, Loss 0.0457\n",
      "Training Accuracy: 0.9488, Testing Accuracy: 0.9597\n",
      "\n"
     ]
    },
    {
     "name": "stdout",
     "output_type": "stream",
     "text": [
      "Epoch 50, Loss 0.04\n",
      "Training Accuracy: 0.9543, Testing Accuracy: 0.9622\n",
      "\n"
     ]
    },
    {
     "name": "stdout",
     "output_type": "stream",
     "text": [
      "Epoch 60, Loss 0.0365\n",
      "Training Accuracy: 0.9571, Testing Accuracy: 0.9642\n",
      "\n"
     ]
    },
    {
     "name": "stdout",
     "output_type": "stream",
     "text": [
      "Epoch 70, Loss 0.0341\n",
      "Training Accuracy: 0.9590, Testing Accuracy: 0.9667\n",
      "\n"
     ]
    },
    {
     "name": "stdout",
     "output_type": "stream",
     "text": [
      "Epoch 80, Loss 0.0322\n",
      "Training Accuracy: 0.9610, Testing Accuracy: 0.9677\n",
      "\n"
     ]
    },
    {
     "name": "stdout",
     "output_type": "stream",
     "text": [
      "Epoch 90, Loss 0.0308\n",
      "Training Accuracy: 0.9629, Testing Accuracy: 0.9688\n",
      "\n"
     ]
    },
    {
     "name": "stdout",
     "output_type": "stream",
     "text": [
      "Epoch 100, Loss 0.0295\n",
      "Training Accuracy: 0.9651, Testing Accuracy: 0.9677\n",
      "\n"
     ]
    },
    {
     "name": "stdout",
     "output_type": "stream",
     "text": [
      "Epoch 110, Loss 0.0285\n",
      "Training Accuracy: 0.9655, Testing Accuracy: 0.9693\n",
      "\n"
     ]
    },
    {
     "name": "stdout",
     "output_type": "stream",
     "text": [
      "Epoch 120, Loss 0.0276\n",
      "Training Accuracy: 0.9668, Testing Accuracy: 0.9693\n",
      "\n"
     ]
    },
    {
     "name": "stdout",
     "output_type": "stream",
     "text": [
      "Epoch 130, Loss 0.0268\n",
      "Training Accuracy: 0.9677, Testing Accuracy: 0.9698\n",
      "\n"
     ]
    },
    {
     "name": "stdout",
     "output_type": "stream",
     "text": [
      "Epoch 140, Loss 0.0261\n",
      "Training Accuracy: 0.9683, Testing Accuracy: 0.9698\n",
      "\n"
     ]
    },
    {
     "name": "stdout",
     "output_type": "stream",
     "text": [
      "Epoch 150, Loss 0.0255\n",
      "Training Accuracy: 0.9690, Testing Accuracy: 0.9703\n",
      "\n"
     ]
    },
    {
     "name": "stdout",
     "output_type": "stream",
     "text": [
      "Epoch 160, Loss 0.0249\n",
      "Training Accuracy: 0.9700, Testing Accuracy: 0.9703\n",
      "\n"
     ]
    },
    {
     "name": "stdout",
     "output_type": "stream",
     "text": [
      "Epoch 170, Loss 0.0243\n",
      "Training Accuracy: 0.9707, Testing Accuracy: 0.9703\n",
      "\n"
     ]
    },
    {
     "name": "stdout",
     "output_type": "stream",
     "text": [
      "Epoch 180, Loss 0.0238\n",
      "Training Accuracy: 0.9717, Testing Accuracy: 0.9708\n",
      "\n"
     ]
    },
    {
     "name": "stdout",
     "output_type": "stream",
     "text": [
      "Epoch 190, Loss 0.0233\n",
      "Training Accuracy: 0.9725, Testing Accuracy: 0.9718\n",
      "\n"
     ]
    },
    {
     "name": "stdout",
     "output_type": "stream",
     "text": [
      "Epoch 200, Loss 0.0228\n",
      "Training Accuracy: 0.9737, Testing Accuracy: 0.9723\n",
      "\n"
     ]
    },
    {
     "name": "stdout",
     "output_type": "stream",
     "text": [
      "Epoch 210, Loss 0.0224\n",
      "Training Accuracy: 0.9737, Testing Accuracy: 0.9723\n",
      "\n"
     ]
    },
    {
     "name": "stdout",
     "output_type": "stream",
     "text": [
      "Epoch 220, Loss 0.022\n",
      "Training Accuracy: 0.9745, Testing Accuracy: 0.9743\n",
      "\n"
     ]
    },
    {
     "name": "stdout",
     "output_type": "stream",
     "text": [
      "Epoch 230, Loss 0.0216\n",
      "Training Accuracy: 0.9750, Testing Accuracy: 0.9743\n",
      "\n"
     ]
    },
    {
     "name": "stdout",
     "output_type": "stream",
     "text": [
      "Epoch 240, Loss 0.0212\n",
      "Training Accuracy: 0.9755, Testing Accuracy: 0.9743\n",
      "\n"
     ]
    },
    {
     "name": "stdout",
     "output_type": "stream",
     "text": [
      "Epoch 250, Loss 0.0208\n",
      "Training Accuracy: 0.9760, Testing Accuracy: 0.9743\n",
      "\n"
     ]
    },
    {
     "data": {
      "text/plain": [
       "0.037229918566625254"
      ]
     },
     "execution_count": 20,
     "metadata": {},
     "output_type": "execute_result"
    }
   ],
   "source": [
    "print(\"====== Neural Network ======\")\n",
    "learner_nn.train_loop(dl)"
   ]
  },
  {
   "cell_type": "markdown",
   "metadata": {
    "papermill": {
     "duration": 0.036786,
     "end_time": "2020-11-22T20:05:25.846003",
     "exception": false,
     "start_time": "2020-11-22T20:05:25.809217",
     "status": "completed"
    },
    "tags": []
   },
   "source": [
    "### Logistic Regression based Implementation."
   ]
  },
  {
   "cell_type": "code",
   "execution_count": 21,
   "metadata": {
    "execution": {
     "iopub.execute_input": "2020-11-22T20:05:25.942171Z",
     "iopub.status.busy": "2020-11-22T20:05:25.941563Z",
     "iopub.status.idle": "2020-11-22T20:05:25.954770Z",
     "shell.execute_reply": "2020-11-22T20:05:25.955217Z"
    },
    "papermill": {
     "duration": 0.055581,
     "end_time": "2020-11-22T20:05:25.955371",
     "exception": false,
     "start_time": "2020-11-22T20:05:25.899790",
     "status": "completed"
    },
    "tags": []
   },
   "outputs": [],
   "source": [
    "learner_lr = Learner(loss, model_lr, opt, config.num_epochs)\n",
    "acc_lr = ClfCallback(learner_lr, config.bs, training_xdata , testing_xdata, training_ydata, testing_ydata)\n",
    "learner_lr.set_callbacks([acc_lr])"
   ]
  },
  {
   "cell_type": "code",
   "execution_count": 22,
   "metadata": {
    "execution": {
     "iopub.execute_input": "2020-11-22T20:05:26.040869Z",
     "iopub.status.busy": "2020-11-22T20:05:26.036312Z",
     "iopub.status.idle": "2020-11-22T20:05:41.414477Z",
     "shell.execute_reply": "2020-11-22T20:05:41.415272Z"
    },
    "papermill": {
     "duration": 15.423372,
     "end_time": "2020-11-22T20:05:41.415432",
     "exception": false,
     "start_time": "2020-11-22T20:05:25.992060",
     "status": "completed"
    },
    "tags": []
   },
   "outputs": [
    {
     "name": "stdout",
     "output_type": "stream",
     "text": [
      "====== Logistic Regression ======\n",
      "Epoch 0, Loss 0.2399\n",
      "Training Accuracy: 0.6899, Testing Accuracy: 0.7233\n",
      "\n"
     ]
    },
    {
     "name": "stdout",
     "output_type": "stream",
     "text": [
      "Epoch 10, Loss 0.103\n",
      "Training Accuracy: 0.9039, Testing Accuracy: 0.9148\n",
      "\n"
     ]
    },
    {
     "name": "stdout",
     "output_type": "stream",
     "text": [
      "Epoch 20, Loss 0.0798\n",
      "Training Accuracy: 0.9225, Testing Accuracy: 0.9390\n",
      "\n"
     ]
    },
    {
     "name": "stdout",
     "output_type": "stream",
     "text": [
      "Epoch 30, Loss 0.069\n",
      "Training Accuracy: 0.9303, Testing Accuracy: 0.9461\n",
      "\n"
     ]
    },
    {
     "name": "stdout",
     "output_type": "stream",
     "text": [
      "Epoch 40, Loss 0.0624\n",
      "Training Accuracy: 0.9358, Testing Accuracy: 0.9486\n",
      "\n"
     ]
    },
    {
     "name": "stdout",
     "output_type": "stream",
     "text": [
      "Epoch 50, Loss 0.0579\n",
      "Training Accuracy: 0.9407, Testing Accuracy: 0.9526\n",
      "\n"
     ]
    },
    {
     "name": "stdout",
     "output_type": "stream",
     "text": [
      "Epoch 60, Loss 0.0545\n",
      "Training Accuracy: 0.9446, Testing Accuracy: 0.9572\n",
      "\n"
     ]
    },
    {
     "name": "stdout",
     "output_type": "stream",
     "text": [
      "Epoch 70, Loss 0.0519\n",
      "Training Accuracy: 0.9473, Testing Accuracy: 0.9592\n",
      "\n"
     ]
    },
    {
     "name": "stdout",
     "output_type": "stream",
     "text": [
      "Epoch 80, Loss 0.0498\n",
      "Training Accuracy: 0.9488, Testing Accuracy: 0.9582\n",
      "\n"
     ]
    },
    {
     "name": "stdout",
     "output_type": "stream",
     "text": [
      "Epoch 90, Loss 0.0481\n",
      "Training Accuracy: 0.9499, Testing Accuracy: 0.9587\n",
      "\n"
     ]
    },
    {
     "name": "stdout",
     "output_type": "stream",
     "text": [
      "Epoch 100, Loss 0.0466\n",
      "Training Accuracy: 0.9511, Testing Accuracy: 0.9592\n",
      "\n"
     ]
    },
    {
     "name": "stdout",
     "output_type": "stream",
     "text": [
      "Epoch 110, Loss 0.0454\n",
      "Training Accuracy: 0.9523, Testing Accuracy: 0.9607\n",
      "\n"
     ]
    },
    {
     "name": "stdout",
     "output_type": "stream",
     "text": [
      "Epoch 120, Loss 0.0443\n",
      "Training Accuracy: 0.9536, Testing Accuracy: 0.9612\n",
      "\n"
     ]
    },
    {
     "name": "stdout",
     "output_type": "stream",
     "text": [
      "Epoch 130, Loss 0.0433\n",
      "Training Accuracy: 0.9543, Testing Accuracy: 0.9622\n",
      "\n"
     ]
    },
    {
     "name": "stdout",
     "output_type": "stream",
     "text": [
      "Epoch 140, Loss 0.0425\n",
      "Training Accuracy: 0.9554, Testing Accuracy: 0.9627\n",
      "\n"
     ]
    },
    {
     "name": "stdout",
     "output_type": "stream",
     "text": [
      "Epoch 150, Loss 0.0417\n",
      "Training Accuracy: 0.9562, Testing Accuracy: 0.9632\n",
      "\n"
     ]
    },
    {
     "name": "stdout",
     "output_type": "stream",
     "text": [
      "Epoch 160, Loss 0.041\n",
      "Training Accuracy: 0.9568, Testing Accuracy: 0.9632\n",
      "\n"
     ]
    },
    {
     "name": "stdout",
     "output_type": "stream",
     "text": [
      "Epoch 170, Loss 0.0404\n",
      "Training Accuracy: 0.9573, Testing Accuracy: 0.9632\n",
      "\n"
     ]
    },
    {
     "name": "stdout",
     "output_type": "stream",
     "text": [
      "Epoch 180, Loss 0.0398\n",
      "Training Accuracy: 0.9583, Testing Accuracy: 0.9647\n",
      "\n"
     ]
    },
    {
     "name": "stdout",
     "output_type": "stream",
     "text": [
      "Epoch 190, Loss 0.0393\n",
      "Training Accuracy: 0.9590, Testing Accuracy: 0.9647\n",
      "\n"
     ]
    },
    {
     "name": "stdout",
     "output_type": "stream",
     "text": [
      "Epoch 200, Loss 0.0388\n",
      "Training Accuracy: 0.9591, Testing Accuracy: 0.9657\n",
      "\n"
     ]
    },
    {
     "name": "stdout",
     "output_type": "stream",
     "text": [
      "Epoch 210, Loss 0.0383\n",
      "Training Accuracy: 0.9594, Testing Accuracy: 0.9667\n",
      "\n"
     ]
    },
    {
     "name": "stdout",
     "output_type": "stream",
     "text": [
      "Epoch 220, Loss 0.0379\n",
      "Training Accuracy: 0.9599, Testing Accuracy: 0.9672\n",
      "\n"
     ]
    },
    {
     "name": "stdout",
     "output_type": "stream",
     "text": [
      "Epoch 230, Loss 0.0375\n",
      "Training Accuracy: 0.9603, Testing Accuracy: 0.9677\n",
      "\n"
     ]
    },
    {
     "name": "stdout",
     "output_type": "stream",
     "text": [
      "Epoch 240, Loss 0.0371\n",
      "Training Accuracy: 0.9606, Testing Accuracy: 0.9688\n",
      "\n"
     ]
    },
    {
     "name": "stdout",
     "output_type": "stream",
     "text": [
      "Epoch 250, Loss 0.0368\n",
      "Training Accuracy: 0.9606, Testing Accuracy: 0.9688\n",
      "\n"
     ]
    },
    {
     "data": {
      "text/plain": [
       "0.010047803997631385"
      ]
     },
     "execution_count": 22,
     "metadata": {},
     "output_type": "execute_result"
    }
   ],
   "source": [
    "print(\"====== Logistic Regression ======\")\n",
    "learner_lr.train_loop(dl)"
   ]
  },
  {
   "cell_type": "markdown",
   "metadata": {
    "papermill": {
     "duration": 0.043388,
     "end_time": "2020-11-22T20:05:41.503375",
     "exception": false,
     "start_time": "2020-11-22T20:05:41.459987",
     "status": "completed"
    },
    "tags": []
   },
   "source": [
    "### Comparing results of NN and LR"
   ]
  },
  {
   "cell_type": "code",
   "execution_count": 23,
   "metadata": {
    "execution": {
     "iopub.execute_input": "2020-11-22T20:05:41.596605Z",
     "iopub.status.busy": "2020-11-22T20:05:41.595446Z",
     "iopub.status.idle": "2020-11-22T20:05:41.830535Z",
     "shell.execute_reply": "2020-11-22T20:05:41.829994Z"
    },
    "papermill": {
     "duration": 0.284096,
     "end_time": "2020-11-22T20:05:41.830670",
     "exception": false,
     "start_time": "2020-11-22T20:05:41.546574",
     "status": "completed"
    },
    "tags": []
   },
   "outputs": [
    {
     "data": {
      "text/plain": [
       "<matplotlib.legend.Legend at 0x7f6f6d0899e8>"
      ]
     },
     "execution_count": 23,
     "metadata": {},
     "output_type": "execute_result"
    },
    {
     "data": {
      "image/png": "[encoded data removed]",
      "text/plain": [
       "<Figure size 1080x720 with 1 Axes>"
      ]
     },
     "metadata": {
      "needs_background": "light"
     },
     "output_type": "display_data"
    }
   ],
   "source": [
    "plt.figure(figsize=(15,10))\n",
    "\n",
    "# Neural Network plots\n",
    "plt.plot(acc_nn.accuracies, 'r-', label = \"Training Accuracies - NN\")\n",
    "plt.plot(acc_nn.test_accuracies, 'g-', label = \"Testing Accuracies - NN\")\n",
    "\n",
    "# Logistic Regression plots\n",
    "plt.plot(acc_lr.accuracies, 'k-', label = \"Training Accuracies - LR\")\n",
    "plt.plot(acc_lr.test_accuracies, 'b-', label = \"Testing Accuracies - LR\")\n",
    "\n",
    "plt.ylim(0.8, 1)\n",
    "\n",
    "plt.legend()\n",
    "\n"
   ]
  },
  {
   "cell_type": "markdown",
   "metadata": {
    "papermill": {
     "duration": 0.044997,
     "end_time": "2020-11-22T20:05:41.922175",
     "exception": false,
     "start_time": "2020-11-22T20:05:41.877178",
     "status": "completed"
    },
    "tags": []
   },
   "source": [
    "### From the plot, we can observe the following:\n",
    "- Neural Network achieves higher accuracy than the Logistic Regression model.\n",
    "- This apparently, is because of overfitting, i.e. NN captures more noise than data.\n",
    "- Testing accuracy of NN drops below the Training accuracy at higher epochs. This explains the over-fitting on training data.\n",
    "- Logistic Regression gives a reliable accuracy, without the above mentioned problem.\n"
   ]
  },
  {
   "cell_type": "markdown",
   "metadata": {
    "papermill": {
     "duration": 0.045715,
     "end_time": "2020-11-22T20:05:42.013661",
     "exception": false,
     "start_time": "2020-11-22T20:05:41.967946",
     "status": "completed"
    },
    "tags": []
   },
   "source": [
    "### Moving till the last but one layer (excluding it).\n",
    "#### Plotting the outputs of this layer of the NN."
   ]
  },
  {
   "cell_type": "code",
   "execution_count": 24,
   "metadata": {
    "execution": {
     "iopub.execute_input": "2020-11-22T20:05:42.108707Z",
     "iopub.status.busy": "2020-11-22T20:05:42.108110Z",
     "iopub.status.idle": "2020-11-22T20:05:42.123168Z",
     "shell.execute_reply": "2020-11-22T20:05:42.122691Z"
    },
    "papermill": {
     "duration": 0.064834,
     "end_time": "2020-11-22T20:05:42.123299",
     "exception": false,
     "start_time": "2020-11-22T20:05:42.058465",
     "status": "completed"
    },
    "tags": []
   },
   "outputs": [],
   "source": [
    "model_new = Model(layers[:-2])"
   ]
  },
  {
   "cell_type": "code",
   "execution_count": 25,
   "metadata": {
    "execution": {
     "iopub.execute_input": "2020-11-22T20:05:42.218435Z",
     "iopub.status.busy": "2020-11-22T20:05:42.217860Z",
     "iopub.status.idle": "2020-11-22T20:05:42.237195Z",
     "shell.execute_reply": "2020-11-22T20:05:42.237868Z"
    },
    "papermill": {
     "duration": 0.070504,
     "end_time": "2020-11-22T20:05:42.238014",
     "exception": false,
     "start_time": "2020-11-22T20:05:42.167510",
     "status": "completed"
    },
    "tags": []
   },
   "outputs": [],
   "source": [
    "plot_testing = model_new(testing_xdata)"
   ]
  },
  {
   "cell_type": "code",
   "execution_count": 26,
   "metadata": {
    "execution": {
     "iopub.execute_input": "2020-11-22T20:05:42.333495Z",
     "iopub.status.busy": "2020-11-22T20:05:42.332948Z",
     "iopub.status.idle": "2020-11-22T20:05:42.530988Z",
     "shell.execute_reply": "2020-11-22T20:05:42.531439Z"
    },
    "papermill": {
     "duration": 0.248293,
     "end_time": "2020-11-22T20:05:42.531600",
     "exception": false,
     "start_time": "2020-11-22T20:05:42.283307",
     "status": "completed"
    },
    "tags": []
   },
   "outputs": [
    {
     "data": {
      "text/plain": [
       "Text(0.5, 1.0, 'Outputs')"
      ]
     },
     "execution_count": 26,
     "metadata": {},
     "output_type": "execute_result"
    },
    {
     "data": {
      "image/png": "[encoded data removed]",
      "text/plain": [
       "<Figure size 576x504 with 1 Axes>"
      ]
     },
     "metadata": {
      "needs_background": "light"
     },
     "output_type": "display_data"
    }
   ],
   "source": [
    "plt.figure(figsize=(8,7))\n",
    "plt.scatter(plot_testing[:,0], plot_testing[:,1], alpha = 0.1, c = y_test.ravel());\n",
    "plt.title('Outputs')"
   ]
  },
  {
   "cell_type": "markdown",
   "metadata": {
    "papermill": {
     "duration": 0.048234,
     "end_time": "2020-11-22T20:05:42.628279",
     "exception": false,
     "start_time": "2020-11-22T20:05:42.580045",
     "status": "completed"
    },
    "tags": []
   },
   "source": [
    "### Plotting probability contours"
   ]
  },
  {
   "cell_type": "code",
   "execution_count": 27,
   "metadata": {
    "execution": {
     "iopub.execute_input": "2020-11-22T20:05:42.730776Z",
     "iopub.status.busy": "2020-11-22T20:05:42.730175Z",
     "iopub.status.idle": "2020-11-22T20:05:42.742811Z",
     "shell.execute_reply": "2020-11-22T20:05:42.743287Z"
    },
    "papermill": {
     "duration": 0.067606,
     "end_time": "2020-11-22T20:05:42.743438",
     "exception": false,
     "start_time": "2020-11-22T20:05:42.675832",
     "status": "completed"
    },
    "tags": []
   },
   "outputs": [],
   "source": [
    "model_prob = Model(layers[-2:]) "
   ]
  },
  {
   "cell_type": "code",
   "execution_count": 28,
   "metadata": {
    "execution": {
     "iopub.execute_input": "2020-11-22T20:05:42.847302Z",
     "iopub.status.busy": "2020-11-22T20:05:42.846681Z",
     "iopub.status.idle": "2020-11-22T20:05:42.860369Z",
     "shell.execute_reply": "2020-11-22T20:05:42.860821Z"
    },
    "papermill": {
     "duration": 0.069766,
     "end_time": "2020-11-22T20:05:42.860975",
     "exception": false,
     "start_time": "2020-11-22T20:05:42.791209",
     "status": "completed"
    },
    "tags": []
   },
   "outputs": [],
   "source": [
    "# Adjust the x and y ranges according to the above generated plot.\n",
    "x_range = np.linspace(-4, 1, 100) \n",
    "y_range = np.linspace(-6, 6, 100) \n",
    "x_grid, y_grid = np.meshgrid(x_range, y_range) # x_grid and y_grig are of size 100 X 100\n",
    "\n",
    "# converting x_grid and y_grid to continuous arrays\n",
    "x_grid_flat = np.ravel(x_grid)\n",
    "y_grid_flat = np.ravel(y_grid)\n",
    "\n",
    "# The last layer of the current model takes two columns as input. Hence transpose of np.vstack() is required.\n",
    "X = np.vstack((x_grid_flat, y_grid_flat)).T\n",
    "\n",
    "# x_grid and y_grid are of size 100 x 100\n",
    "probability_contour = model_prob(X).reshape(100,100) "
   ]
  },
  {
   "cell_type": "code",
   "execution_count": 29,
   "metadata": {
    "execution": {
     "iopub.execute_input": "2020-11-22T20:05:42.969132Z",
     "iopub.status.busy": "2020-11-22T20:05:42.968517Z",
     "iopub.status.idle": "2020-11-22T20:05:43.210022Z",
     "shell.execute_reply": "2020-11-22T20:05:43.210503Z"
    },
    "papermill": {
     "duration": 0.301622,
     "end_time": "2020-11-22T20:05:43.210647",
     "exception": false,
     "start_time": "2020-11-22T20:05:42.909025",
     "status": "completed"
    },
    "tags": []
   },
   "outputs": [
    {
     "data": {
      "image/png": "[encoded data removed]",
      "text/plain": [
       "<Figure size 720x648 with 1 Axes>"
      ]
     },
     "metadata": {
      "needs_background": "light"
     },
     "output_type": "display_data"
    }
   ],
   "source": [
    "plt.figure(figsize=(10,9))\n",
    "plt.scatter(plot_testing[:,0], plot_testing[:,1], alpha = 0.1, c = y_test.ravel())\n",
    "contours = plt.contour(x_grid,y_grid,probability_contour)\n",
    "plt.title('Probability Contours')\n",
    "plt.clabel(contours, inline = True );"
   ]
  }
 ],
 "metadata": {
  "kernelspec": {
   "display_name": "Python 3",
   "language": "python",
   "name": "python3"
  },
  "language_info": {
   "codemirror_mode": {
    "name": "ipython",
    "version": 3
   },
   "file_extension": ".py",
   "mimetype": "text/x-python",
   "name": "python",
   "nbconvert_exporter": "python",
   "pygments_lexer": "ipython3",
   "version": "3.6.12"
  },
  "papermill": {
   "duration": 109.651989,
   "end_time": "2020-11-22T20:05:43.668594",
   "environment_variables": {},
   "exception": null,
   "input_path": "2020-08-11-NeuralNetwork.ipynb",
   "output_path": "2020-08-11-NeuralNetwork.ipynb",
   "parameters": {},
   "start_time": "2020-11-22T20:03:54.016605",
   "version": "2.1.2"
  }
 },
 "nbformat": 4,
 "nbformat_minor": 4
}