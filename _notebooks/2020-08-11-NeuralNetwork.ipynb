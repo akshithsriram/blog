{
 "cells": [
  {
   "cell_type": "markdown",
   "metadata": {
    "papermill": {
     "duration": 0.032213,
     "end_time": "2020-11-09T20:03:44.202364",
     "exception": false,
     "start_time": "2020-11-09T20:03:44.170151",
     "status": "completed"
    },
    "tags": []
   },
   "source": [
    "# \"A Basic Neural Network: Differentiate Hand-Written Digits\"\n",
    "\n",
    "- badges: true\n",
    "- author: Akshith Sriram"
   ]
  },
  {
   "cell_type": "markdown",
   "metadata": {
    "papermill": {
     "duration": 0.025151,
     "end_time": "2020-11-09T20:03:44.253530",
     "exception": false,
     "start_time": "2020-11-09T20:03:44.228379",
     "status": "completed"
    },
    "tags": []
   },
   "source": [
    "### Key Objectives:\n",
    "- Building a neural network that differentiates two hand-written digits 3 and 8.\n",
    "- Comparing the results of this Neural Network (NN) to that of a Logistic Regression (LR) model.\n",
    "\n",
    "### Requirements:\n",
    "- 'Kudzu' : A neural network library that was designed during our course by [Univ.AI](www.univ.ai). \n",
    "- MNIST Database\n",
    "\n",
    "If MNIST is not installed, use the command `!pip install mnist` given below.\n",
    "It can be run both from the command line and Jupyter Notebook."
   ]
  },
  {
   "cell_type": "code",
   "execution_count": 1,
   "metadata": {
    "execution": {
     "iopub.execute_input": "2020-11-09T20:03:44.308710Z",
     "iopub.status.busy": "2020-11-09T20:03:44.308085Z",
     "iopub.status.idle": "2020-11-09T20:03:45.849291Z",
     "shell.execute_reply": "2020-11-09T20:03:45.848548Z"
    },
    "papermill": {
     "duration": 1.570765,
     "end_time": "2020-11-09T20:03:45.849502",
     "exception": false,
     "start_time": "2020-11-09T20:03:44.278737",
     "status": "completed"
    },
    "tags": []
   },
   "outputs": [
    {
     "name": "stdout",
     "output_type": "stream",
     "text": [
      "Collecting mnist\r\n",
      "  Downloading mnist-0.2.2-py2.py3-none-any.whl (3.5 kB)\r\n"
     ]
    },
    {
     "name": "stdout",
     "output_type": "stream",
     "text": [
      "Requirement already satisfied: numpy in /opt/hostedtoolcache/Python/3.6.12/x64/lib/python3.6/site-packages (from mnist) (1.19.4)\r\n"
     ]
    },
    {
     "name": "stdout",
     "output_type": "stream",
     "text": [
      "Installing collected packages: mnist\r\n"
     ]
    },
    {
     "name": "stdout",
     "output_type": "stream",
     "text": [
      "Successfully installed mnist-0.2.2\r\n"
     ]
    }
   ],
   "source": [
    "!pip install mnist "
   ]
  },
  {
   "cell_type": "markdown",
   "metadata": {
    "papermill": {
     "duration": 0.026829,
     "end_time": "2020-11-09T20:03:45.906418",
     "exception": false,
     "start_time": "2020-11-09T20:03:45.879589",
     "status": "completed"
    },
    "tags": []
   },
   "source": [
    "#### Importing necessary libraries"
   ]
  },
  {
   "cell_type": "code",
   "execution_count": 2,
   "metadata": {
    "execution": {
     "iopub.execute_input": "2020-11-09T20:03:45.969120Z",
     "iopub.status.busy": "2020-11-09T20:03:45.968532Z",
     "iopub.status.idle": "2020-11-09T20:03:46.549768Z",
     "shell.execute_reply": "2020-11-09T20:03:46.548859Z"
    },
    "papermill": {
     "duration": 0.615808,
     "end_time": "2020-11-09T20:03:46.549958",
     "exception": false,
     "start_time": "2020-11-09T20:03:45.934150",
     "status": "completed"
    },
    "tags": []
   },
   "outputs": [],
   "source": [
    "%load_ext autoreload\n",
    "%autoreload 2\n",
    "\n",
    "%matplotlib inline\n",
    "import matplotlib.pyplot as plt\n",
    "\n",
    "import numpy as np\n",
    "import pandas as pd"
   ]
  },
  {
   "cell_type": "markdown",
   "metadata": {
    "papermill": {
     "duration": 0.317697,
     "end_time": "2020-11-09T20:03:46.899326",
     "exception": false,
     "start_time": "2020-11-09T20:03:46.581629",
     "status": "completed"
    },
    "tags": []
   },
   "source": [
    "### Preparing the Data"
   ]
  },
  {
   "cell_type": "code",
   "execution_count": 3,
   "metadata": {
    "execution": {
     "iopub.execute_input": "2020-11-09T20:03:46.965260Z",
     "iopub.status.busy": "2020-11-09T20:03:46.964158Z",
     "iopub.status.idle": "2020-11-09T20:03:46.977847Z",
     "shell.execute_reply": "2020-11-09T20:03:46.977329Z"
    },
    "papermill": {
     "duration": 0.048741,
     "end_time": "2020-11-09T20:03:46.977976",
     "exception": false,
     "start_time": "2020-11-09T20:03:46.929235",
     "status": "completed"
    },
    "tags": []
   },
   "outputs": [],
   "source": [
    "import mnist"
   ]
  },
  {
   "cell_type": "code",
   "execution_count": 4,
   "metadata": {
    "execution": {
     "iopub.execute_input": "2020-11-09T20:03:47.037867Z",
     "iopub.status.busy": "2020-11-09T20:03:47.037051Z",
     "iopub.status.idle": "2020-11-09T20:03:47.809095Z",
     "shell.execute_reply": "2020-11-09T20:03:47.808425Z"
    },
    "papermill": {
     "duration": 0.803749,
     "end_time": "2020-11-09T20:03:47.809232",
     "exception": false,
     "start_time": "2020-11-09T20:03:47.005483",
     "status": "completed"
    },
    "tags": []
   },
   "outputs": [],
   "source": [
    "train_images = mnist.train_images()\n",
    "train_labels = mnist.train_labels()"
   ]
  },
  {
   "cell_type": "code",
   "execution_count": 5,
   "metadata": {
    "execution": {
     "iopub.execute_input": "2020-11-09T20:03:47.872153Z",
     "iopub.status.busy": "2020-11-09T20:03:47.871545Z",
     "iopub.status.idle": "2020-11-09T20:03:47.887543Z",
     "shell.execute_reply": "2020-11-09T20:03:47.888186Z"
    },
    "papermill": {
     "duration": 0.050814,
     "end_time": "2020-11-09T20:03:47.888362",
     "exception": false,
     "start_time": "2020-11-09T20:03:47.837548",
     "status": "completed"
    },
    "tags": []
   },
   "outputs": [
    {
     "data": {
      "text/plain": [
       "((60000, 28, 28), (60000,))"
      ]
     },
     "execution_count": 5,
     "metadata": {},
     "output_type": "execute_result"
    }
   ],
   "source": [
    "train_images.shape, train_labels.shape"
   ]
  },
  {
   "cell_type": "code",
   "execution_count": 6,
   "metadata": {
    "execution": {
     "iopub.execute_input": "2020-11-09T20:03:47.958061Z",
     "iopub.status.busy": "2020-11-09T20:03:47.957021Z",
     "iopub.status.idle": "2020-11-09T20:03:48.196246Z",
     "shell.execute_reply": "2020-11-09T20:03:48.195706Z"
    },
    "papermill": {
     "duration": 0.278408,
     "end_time": "2020-11-09T20:03:48.196392",
     "exception": false,
     "start_time": "2020-11-09T20:03:47.917984",
     "status": "completed"
    },
    "tags": []
   },
   "outputs": [],
   "source": [
    "test_images = mnist.test_images()\n",
    "test_labels = mnist.test_labels()"
   ]
  },
  {
   "cell_type": "code",
   "execution_count": 7,
   "metadata": {
    "execution": {
     "iopub.execute_input": "2020-11-09T20:03:48.259004Z",
     "iopub.status.busy": "2020-11-09T20:03:48.258408Z",
     "iopub.status.idle": "2020-11-09T20:03:48.273300Z",
     "shell.execute_reply": "2020-11-09T20:03:48.272793Z"
    },
    "papermill": {
     "duration": 0.047512,
     "end_time": "2020-11-09T20:03:48.273426",
     "exception": false,
     "start_time": "2020-11-09T20:03:48.225914",
     "status": "completed"
    },
    "tags": []
   },
   "outputs": [
    {
     "data": {
      "text/plain": [
       "((10000, 28, 28), (10000,))"
      ]
     },
     "execution_count": 7,
     "metadata": {},
     "output_type": "execute_result"
    }
   ],
   "source": [
    "test_images.shape, test_labels.shape"
   ]
  },
  {
   "cell_type": "code",
   "execution_count": 8,
   "metadata": {
    "execution": {
     "iopub.execute_input": "2020-11-09T20:03:48.336365Z",
     "iopub.status.busy": "2020-11-09T20:03:48.335754Z",
     "iopub.status.idle": "2020-11-09T20:03:48.485738Z",
     "shell.execute_reply": "2020-11-09T20:03:48.486421Z"
    },
    "papermill": {
     "duration": 0.183518,
     "end_time": "2020-11-09T20:03:48.486582",
     "exception": false,
     "start_time": "2020-11-09T20:03:48.303064",
     "status": "completed"
    },
    "tags": []
   },
   "outputs": [
    {
     "name": "stdout",
     "output_type": "stream",
     "text": [
      "2\n"
     ]
    },
    {
     "data": {
      "text/plain": [
       "<matplotlib.image.AxesImage at 0x7f3d1d98d470>"
      ]
     },
     "execution_count": 8,
     "metadata": {},
     "output_type": "execute_result"
    },
    {
     "data": {
      "image/png": "[encoded data removed]",
      "text/plain": [
       "<Figure size 432x288 with 1 Axes>"
      ]
     },
     "metadata": {
      "needs_background": "light"
     },
     "output_type": "display_data"
    }
   ],
   "source": [
    "image_index = 7776 # You may select anything up to 60,000\n",
    "print(train_labels[image_index]) \n",
    "plt.imshow(train_images[image_index], cmap='Greys')"
   ]
  },
  {
   "cell_type": "markdown",
   "metadata": {
    "papermill": {
     "duration": 0.031919,
     "end_time": "2020-11-09T20:03:48.554465",
     "exception": false,
     "start_time": "2020-11-09T20:03:48.522546",
     "status": "completed"
    },
    "tags": []
   },
   "source": [
    "## Filter data to get 3 and 8 out"
   ]
  },
  {
   "cell_type": "code",
   "execution_count": 9,
   "metadata": {
    "execution": {
     "iopub.execute_input": "2020-11-09T20:03:48.622875Z",
     "iopub.status.busy": "2020-11-09T20:03:48.622257Z",
     "iopub.status.idle": "2020-11-09T20:03:48.638581Z",
     "shell.execute_reply": "2020-11-09T20:03:48.638014Z"
    },
    "papermill": {
     "duration": 0.055262,
     "end_time": "2020-11-09T20:03:48.638711",
     "exception": false,
     "start_time": "2020-11-09T20:03:48.583449",
     "status": "completed"
    },
    "tags": []
   },
   "outputs": [],
   "source": [
    "train_filter = np.where((train_labels == 3 ) | (train_labels == 8))\n",
    "test_filter = np.where((test_labels == 3) | (test_labels == 8))\n",
    "X_train, y_train = train_images[train_filter], train_labels[train_filter]\n",
    "X_test, y_test = test_images[test_filter], test_labels[test_filter]"
   ]
  },
  {
   "cell_type": "markdown",
   "metadata": {
    "papermill": {
     "duration": 0.028154,
     "end_time": "2020-11-09T20:03:48.695374",
     "exception": false,
     "start_time": "2020-11-09T20:03:48.667220",
     "status": "completed"
    },
    "tags": []
   },
   "source": [
    "We normalize the pixel values in the 0 to 1 range"
   ]
  },
  {
   "cell_type": "code",
   "execution_count": 10,
   "metadata": {
    "execution": {
     "iopub.execute_input": "2020-11-09T20:03:48.756758Z",
     "iopub.status.busy": "2020-11-09T20:03:48.755472Z",
     "iopub.status.idle": "2020-11-09T20:03:48.813011Z",
     "shell.execute_reply": "2020-11-09T20:03:48.813827Z"
    },
    "papermill": {
     "duration": 0.090384,
     "end_time": "2020-11-09T20:03:48.814083",
     "exception": false,
     "start_time": "2020-11-09T20:03:48.723699",
     "status": "completed"
    },
    "tags": []
   },
   "outputs": [],
   "source": [
    "X_train = X_train/255.\n",
    "X_test = X_test/255."
   ]
  },
  {
   "cell_type": "markdown",
   "metadata": {
    "papermill": {
     "duration": 0.028375,
     "end_time": "2020-11-09T20:03:48.872867",
     "exception": false,
     "start_time": "2020-11-09T20:03:48.844492",
     "status": "completed"
    },
    "tags": []
   },
   "source": [
    "Setup the labels as 1 (when the digit is 3) and 0 (when the digit is 8)"
   ]
  },
  {
   "cell_type": "code",
   "execution_count": 11,
   "metadata": {
    "execution": {
     "iopub.execute_input": "2020-11-09T20:03:48.933256Z",
     "iopub.status.busy": "2020-11-09T20:03:48.932650Z",
     "iopub.status.idle": "2020-11-09T20:03:48.947895Z",
     "shell.execute_reply": "2020-11-09T20:03:48.948418Z"
    },
    "papermill": {
     "duration": 0.047493,
     "end_time": "2020-11-09T20:03:48.948565",
     "exception": false,
     "start_time": "2020-11-09T20:03:48.901072",
     "status": "completed"
    },
    "tags": []
   },
   "outputs": [],
   "source": [
    "y_train = 1*(y_train==3)\n",
    "y_test = 1*(y_test==3)"
   ]
  },
  {
   "cell_type": "code",
   "execution_count": 12,
   "metadata": {
    "execution": {
     "iopub.execute_input": "2020-11-09T20:03:49.012596Z",
     "iopub.status.busy": "2020-11-09T20:03:49.011986Z",
     "iopub.status.idle": "2020-11-09T20:03:49.026097Z",
     "shell.execute_reply": "2020-11-09T20:03:49.025596Z"
    },
    "papermill": {
     "duration": 0.04943,
     "end_time": "2020-11-09T20:03:49.026225",
     "exception": false,
     "start_time": "2020-11-09T20:03:48.976795",
     "status": "completed"
    },
    "tags": []
   },
   "outputs": [
    {
     "data": {
      "text/plain": [
       "((11982, 28, 28), (1984, 28, 28))"
      ]
     },
     "execution_count": 12,
     "metadata": {},
     "output_type": "execute_result"
    }
   ],
   "source": [
    "X_train.shape, X_test.shape"
   ]
  },
  {
   "cell_type": "markdown",
   "metadata": {
    "papermill": {
     "duration": 0.02857,
     "end_time": "2020-11-09T20:03:49.083245",
     "exception": false,
     "start_time": "2020-11-09T20:03:49.054675",
     "status": "completed"
    },
    "tags": []
   },
   "source": [
    "### Reshape the input data to create a linear array"
   ]
  },
  {
   "cell_type": "code",
   "execution_count": 13,
   "metadata": {
    "execution": {
     "iopub.execute_input": "2020-11-09T20:03:49.145352Z",
     "iopub.status.busy": "2020-11-09T20:03:49.144762Z",
     "iopub.status.idle": "2020-11-09T20:03:49.160269Z",
     "shell.execute_reply": "2020-11-09T20:03:49.159774Z"
    },
    "papermill": {
     "duration": 0.048567,
     "end_time": "2020-11-09T20:03:49.160402",
     "exception": false,
     "start_time": "2020-11-09T20:03:49.111835",
     "status": "completed"
    },
    "tags": []
   },
   "outputs": [
    {
     "data": {
      "text/plain": [
       "((11982, 784), (1984, 784))"
      ]
     },
     "execution_count": 13,
     "metadata": {},
     "output_type": "execute_result"
    }
   ],
   "source": [
    "X_train = X_train.reshape(X_train.shape[0], -1)\n",
    "X_test = X_test.reshape(X_test.shape[0], -1)\n",
    "X_train.shape, X_test.shape"
   ]
  },
  {
   "cell_type": "markdown",
   "metadata": {
    "papermill": {
     "duration": 0.028723,
     "end_time": "2020-11-09T20:03:49.217976",
     "exception": false,
     "start_time": "2020-11-09T20:03:49.189253",
     "status": "completed"
    },
    "tags": []
   },
   "source": [
    "### Importing appropriate functions from 'Kudzu'"
   ]
  },
  {
   "cell_type": "code",
   "execution_count": 14,
   "metadata": {
    "execution": {
     "iopub.execute_input": "2020-11-09T20:03:49.280675Z",
     "iopub.status.busy": "2020-11-09T20:03:49.280049Z",
     "iopub.status.idle": "2020-11-09T20:03:49.302951Z",
     "shell.execute_reply": "2020-11-09T20:03:49.302300Z"
    },
    "papermill": {
     "duration": 0.056004,
     "end_time": "2020-11-09T20:03:49.303100",
     "exception": false,
     "start_time": "2020-11-09T20:03:49.247096",
     "status": "completed"
    },
    "tags": []
   },
   "outputs": [],
   "source": [
    "from kudzu.layer import Sigmoid\n",
    "from kudzu.layer import Relu\n",
    "from kudzu.layer import Affine, Sigmoid\n",
    "\n",
    "from kudzu.model import Model\n",
    "from kudzu.train import Learner\n",
    "from kudzu.optim import GD\n",
    "from kudzu.data import Data, Dataloader, Sampler\n",
    "\n",
    "from kudzu.callbacks import AccCallback\n",
    "from kudzu.callbacks import ClfCallback\n",
    "\n",
    "from kudzu.loss import MSE"
   ]
  },
  {
   "cell_type": "markdown",
   "metadata": {
    "papermill": {
     "duration": 0.028856,
     "end_time": "2020-11-09T20:03:49.360935",
     "exception": false,
     "start_time": "2020-11-09T20:03:49.332079",
     "status": "completed"
    },
    "tags": []
   },
   "source": [
    "### Let us create a `Config` class, to store important parameters. \n",
    "This class essentially plays the role of a dictionary."
   ]
  },
  {
   "cell_type": "code",
   "execution_count": 15,
   "metadata": {
    "execution": {
     "iopub.execute_input": "2020-11-09T20:03:49.423017Z",
     "iopub.status.busy": "2020-11-09T20:03:49.422435Z",
     "iopub.status.idle": "2020-11-09T20:03:49.435267Z",
     "shell.execute_reply": "2020-11-09T20:03:49.434773Z"
    },
    "papermill": {
     "duration": 0.045581,
     "end_time": "2020-11-09T20:03:49.435387",
     "exception": false,
     "start_time": "2020-11-09T20:03:49.389806",
     "status": "completed"
    },
    "tags": []
   },
   "outputs": [],
   "source": [
    "class Config:\n",
    "    pass\n",
    "config = Config()\n",
    "config.lr = 0.001\n",
    "config.num_epochs = 251\n",
    "config.bs = 50"
   ]
  },
  {
   "cell_type": "markdown",
   "metadata": {
    "papermill": {
     "duration": 0.028423,
     "end_time": "2020-11-09T20:03:49.492518",
     "exception": false,
     "start_time": "2020-11-09T20:03:49.464095",
     "status": "completed"
    },
    "tags": []
   },
   "source": [
    "### Initializing data to the variables"
   ]
  },
  {
   "cell_type": "code",
   "execution_count": 16,
   "metadata": {
    "execution": {
     "iopub.execute_input": "2020-11-09T20:03:49.556130Z",
     "iopub.status.busy": "2020-11-09T20:03:49.555541Z",
     "iopub.status.idle": "2020-11-09T20:03:49.568260Z",
     "shell.execute_reply": "2020-11-09T20:03:49.568755Z"
    },
    "papermill": {
     "duration": 0.047567,
     "end_time": "2020-11-09T20:03:49.568904",
     "exception": false,
     "start_time": "2020-11-09T20:03:49.521337",
     "status": "completed"
    },
    "tags": []
   },
   "outputs": [],
   "source": [
    "data = Data(X_train, y_train.reshape(-1,1))\n",
    "sampler = Sampler(data, config.bs, shuffle=True)\n",
    "\n",
    "dl = Dataloader(data, sampler)\n",
    "\n",
    "opt = GD(config.lr)\n",
    "loss = MSE()"
   ]
  },
  {
   "cell_type": "code",
   "execution_count": 17,
   "metadata": {
    "execution": {
     "iopub.execute_input": "2020-11-09T20:03:49.630649Z",
     "iopub.status.busy": "2020-11-09T20:03:49.630059Z",
     "iopub.status.idle": "2020-11-09T20:03:49.643494Z",
     "shell.execute_reply": "2020-11-09T20:03:49.643966Z"
    },
    "papermill": {
     "duration": 0.046253,
     "end_time": "2020-11-09T20:03:49.644116",
     "exception": false,
     "start_time": "2020-11-09T20:03:49.597863",
     "status": "completed"
    },
    "tags": []
   },
   "outputs": [],
   "source": [
    "training_xdata = X_train\n",
    "testing_xdata = X_test\n",
    "training_ydata = y_train.reshape(-1,1)\n",
    "testing_ydata = y_test.reshape(-1,1)"
   ]
  },
  {
   "cell_type": "markdown",
   "metadata": {
    "papermill": {
     "duration": 0.028769,
     "end_time": "2020-11-09T20:03:49.702002",
     "exception": false,
     "start_time": "2020-11-09T20:03:49.673233",
     "status": "completed"
    },
    "tags": []
   },
   "source": [
    "### Running Models with the Training data\n",
    "Details about the network layers:\n",
    "- A first affine layer has 784 inputs and does 100 affine transforms. These are followed by a Relu\n",
    "- A second affine layer has 100 inputs from the 100 activations of the past layer, and does 100 affine transforms. These are followed by a Relu\n",
    "- A third affine layer has 100 activations and does 2 affine transformations to create an embedding for visualization. There is no non-linearity here.\n",
    "- A final \"logistic regression\" which has an affine transform from 2 inputs to 1 output, which is squeezed through a sigmoid.\n",
    "\n",
    "Help taken from Anshuman's Notebook."
   ]
  },
  {
   "cell_type": "code",
   "execution_count": 18,
   "metadata": {
    "execution": {
     "iopub.execute_input": "2020-11-09T20:03:49.764685Z",
     "iopub.status.busy": "2020-11-09T20:03:49.764052Z",
     "iopub.status.idle": "2020-11-09T20:03:49.791042Z",
     "shell.execute_reply": "2020-11-09T20:03:49.791502Z"
    },
    "papermill": {
     "duration": 0.060805,
     "end_time": "2020-11-09T20:03:49.791661",
     "exception": false,
     "start_time": "2020-11-09T20:03:49.730856",
     "status": "completed"
    },
    "tags": []
   },
   "outputs": [],
   "source": [
    "# layers for the Neural Network\n",
    "layers = [Affine(\"first\", 784, 100), Relu(\"first\"), Affine(\"second\", 100, 100), Relu(\"second\"), Affine(\"third\", 100, 2), Affine(\"final\", 2, 1), Sigmoid(\"final\")]\n",
    "model_nn = Model(layers)\n",
    "\n",
    "# layers for the Logistic Regression\n",
    "layers_lr = [Affine(\"logits\", 784, 1), Sigmoid(\"sigmoid\")]\n",
    "model_lr = Model(layers_lr)"
   ]
  },
  {
   "cell_type": "code",
   "execution_count": 19,
   "metadata": {
    "execution": {
     "iopub.execute_input": "2020-11-09T20:03:49.857304Z",
     "iopub.status.busy": "2020-11-09T20:03:49.856697Z",
     "iopub.status.idle": "2020-11-09T20:03:49.867960Z",
     "shell.execute_reply": "2020-11-09T20:03:49.867483Z"
    },
    "papermill": {
     "duration": 0.047257,
     "end_time": "2020-11-09T20:03:49.868094",
     "exception": false,
     "start_time": "2020-11-09T20:03:49.820837",
     "status": "completed"
    },
    "tags": []
   },
   "outputs": [],
   "source": [
    "# suffix _nn stands for Neural Network.\n",
    "learner_nn = Learner(loss, model_nn, opt, config.num_epochs)\n",
    "acc_nn = ClfCallback(learner_nn, config.bs, training_xdata , testing_xdata, training_ydata, testing_ydata)\n",
    "learner_nn.set_callbacks([acc_nn])"
   ]
  },
  {
   "cell_type": "code",
   "execution_count": 20,
   "metadata": {
    "execution": {
     "iopub.execute_input": "2020-11-09T20:03:49.934750Z",
     "iopub.status.busy": "2020-11-09T20:03:49.934164Z",
     "iopub.status.idle": "2020-11-09T20:05:17.652244Z",
     "shell.execute_reply": "2020-11-09T20:05:17.652813Z"
    },
    "papermill": {
     "duration": 87.756032,
     "end_time": "2020-11-09T20:05:17.652970",
     "exception": false,
     "start_time": "2020-11-09T20:03:49.896938",
     "status": "completed"
    },
    "tags": []
   },
   "outputs": [
    {
     "name": "stdout",
     "output_type": "stream",
     "text": [
      "====== Neural Network ======\n"
     ]
    },
    {
     "name": "stdout",
     "output_type": "stream",
     "text": [
      "Epoch 0, Loss 0.2244\n",
      "Training Accuracy: 0.7566, Testing Accuracy: 0.7460\n",
      "\n"
     ]
    },
    {
     "name": "stdout",
     "output_type": "stream",
     "text": [
      "Epoch 10, Loss 0.0709\n",
      "Training Accuracy: 0.9326, Testing Accuracy: 0.9435\n",
      "\n"
     ]
    },
    {
     "name": "stdout",
     "output_type": "stream",
     "text": [
      "Epoch 20, Loss 0.0462\n",
      "Training Accuracy: 0.9546, Testing Accuracy: 0.9632\n",
      "\n"
     ]
    },
    {
     "name": "stdout",
     "output_type": "stream",
     "text": [
      "Epoch 30, Loss 0.0377\n",
      "Training Accuracy: 0.9600, Testing Accuracy: 0.9652\n",
      "\n"
     ]
    },
    {
     "name": "stdout",
     "output_type": "stream",
     "text": [
      "Epoch 40, Loss 0.0333\n",
      "Training Accuracy: 0.9632, Testing Accuracy: 0.9677\n",
      "\n"
     ]
    },
    {
     "name": "stdout",
     "output_type": "stream",
     "text": [
      "Epoch 50, Loss 0.0305\n",
      "Training Accuracy: 0.9657, Testing Accuracy: 0.9688\n",
      "\n"
     ]
    },
    {
     "name": "stdout",
     "output_type": "stream",
     "text": [
      "Epoch 60, Loss 0.0285\n",
      "Training Accuracy: 0.9685, Testing Accuracy: 0.9718\n",
      "\n"
     ]
    },
    {
     "name": "stdout",
     "output_type": "stream",
     "text": [
      "Epoch 70, Loss 0.0269\n",
      "Training Accuracy: 0.9697, Testing Accuracy: 0.9723\n",
      "\n"
     ]
    },
    {
     "name": "stdout",
     "output_type": "stream",
     "text": [
      "Epoch 80, Loss 0.0256\n",
      "Training Accuracy: 0.9709, Testing Accuracy: 0.9728\n",
      "\n"
     ]
    },
    {
     "name": "stdout",
     "output_type": "stream",
     "text": [
      "Epoch 90, Loss 0.0245\n",
      "Training Accuracy: 0.9721, Testing Accuracy: 0.9733\n",
      "\n"
     ]
    },
    {
     "name": "stdout",
     "output_type": "stream",
     "text": [
      "Epoch 100, Loss 0.0236\n",
      "Training Accuracy: 0.9730, Testing Accuracy: 0.9738\n",
      "\n"
     ]
    },
    {
     "name": "stdout",
     "output_type": "stream",
     "text": [
      "Epoch 110, Loss 0.0227\n",
      "Training Accuracy: 0.9742, Testing Accuracy: 0.9733\n",
      "\n"
     ]
    },
    {
     "name": "stdout",
     "output_type": "stream",
     "text": [
      "Epoch 120, Loss 0.0219\n",
      "Training Accuracy: 0.9751, Testing Accuracy: 0.9738\n",
      "\n"
     ]
    },
    {
     "name": "stdout",
     "output_type": "stream",
     "text": [
      "Epoch 130, Loss 0.0212\n",
      "Training Accuracy: 0.9760, Testing Accuracy: 0.9738\n",
      "\n"
     ]
    },
    {
     "name": "stdout",
     "output_type": "stream",
     "text": [
      "Epoch 140, Loss 0.0206\n",
      "Training Accuracy: 0.9768, Testing Accuracy: 0.9738\n",
      "\n"
     ]
    },
    {
     "name": "stdout",
     "output_type": "stream",
     "text": [
      "Epoch 150, Loss 0.0199\n",
      "Training Accuracy: 0.9778, Testing Accuracy: 0.9743\n",
      "\n"
     ]
    },
    {
     "name": "stdout",
     "output_type": "stream",
     "text": [
      "Epoch 160, Loss 0.0194\n",
      "Training Accuracy: 0.9783, Testing Accuracy: 0.9748\n",
      "\n"
     ]
    },
    {
     "name": "stdout",
     "output_type": "stream",
     "text": [
      "Epoch 170, Loss 0.0188\n",
      "Training Accuracy: 0.9795, Testing Accuracy: 0.9753\n",
      "\n"
     ]
    },
    {
     "name": "stdout",
     "output_type": "stream",
     "text": [
      "Epoch 180, Loss 0.0183\n",
      "Training Accuracy: 0.9801, Testing Accuracy: 0.9753\n",
      "\n"
     ]
    },
    {
     "name": "stdout",
     "output_type": "stream",
     "text": [
      "Epoch 190, Loss 0.0178\n",
      "Training Accuracy: 0.9810, Testing Accuracy: 0.9758\n",
      "\n"
     ]
    },
    {
     "name": "stdout",
     "output_type": "stream",
     "text": [
      "Epoch 200, Loss 0.0174\n",
      "Training Accuracy: 0.9816, Testing Accuracy: 0.9763\n",
      "\n"
     ]
    },
    {
     "name": "stdout",
     "output_type": "stream",
     "text": [
      "Epoch 210, Loss 0.0169\n",
      "Training Accuracy: 0.9821, Testing Accuracy: 0.9768\n",
      "\n"
     ]
    },
    {
     "name": "stdout",
     "output_type": "stream",
     "text": [
      "Epoch 220, Loss 0.0165\n",
      "Training Accuracy: 0.9824, Testing Accuracy: 0.9768\n",
      "\n"
     ]
    },
    {
     "name": "stdout",
     "output_type": "stream",
     "text": [
      "Epoch 230, Loss 0.0161\n",
      "Training Accuracy: 0.9828, Testing Accuracy: 0.9768\n",
      "\n"
     ]
    },
    {
     "name": "stdout",
     "output_type": "stream",
     "text": [
      "Epoch 240, Loss 0.0157\n",
      "Training Accuracy: 0.9834, Testing Accuracy: 0.9773\n",
      "\n"
     ]
    },
    {
     "name": "stdout",
     "output_type": "stream",
     "text": [
      "Epoch 250, Loss 0.0154\n",
      "Training Accuracy: 0.9836, Testing Accuracy: 0.9778\n",
      "\n"
     ]
    },
    {
     "data": {
      "text/plain": [
       "0.043277621473053904"
      ]
     },
     "execution_count": 20,
     "metadata": {},
     "output_type": "execute_result"
    }
   ],
   "source": [
    "print(\"====== Neural Network ======\")\n",
    "learner_nn.train_loop(dl)"
   ]
  },
  {
   "cell_type": "markdown",
   "metadata": {
    "papermill": {
     "duration": 0.036842,
     "end_time": "2020-11-09T20:05:17.727028",
     "exception": false,
     "start_time": "2020-11-09T20:05:17.690186",
     "status": "completed"
    },
    "tags": []
   },
   "source": [
    "### Logistic Regression based Implementation."
   ]
  },
  {
   "cell_type": "code",
   "execution_count": 21,
   "metadata": {
    "execution": {
     "iopub.execute_input": "2020-11-09T20:05:17.813937Z",
     "iopub.status.busy": "2020-11-09T20:05:17.813117Z",
     "iopub.status.idle": "2020-11-09T20:05:17.822274Z",
     "shell.execute_reply": "2020-11-09T20:05:17.821800Z"
    },
    "papermill": {
     "duration": 0.058046,
     "end_time": "2020-11-09T20:05:17.822405",
     "exception": false,
     "start_time": "2020-11-09T20:05:17.764359",
     "status": "completed"
    },
    "tags": []
   },
   "outputs": [],
   "source": [
    "learner_lr = Learner(loss, model_lr, opt, config.num_epochs)\n",
    "acc_lr = ClfCallback(learner_lr, config.bs, training_xdata , testing_xdata, training_ydata, testing_ydata)\n",
    "learner_lr.set_callbacks([acc_lr])"
   ]
  },
  {
   "cell_type": "code",
   "execution_count": 22,
   "metadata": {
    "execution": {
     "iopub.execute_input": "2020-11-09T20:05:17.903750Z",
     "iopub.status.busy": "2020-11-09T20:05:17.901485Z",
     "iopub.status.idle": "2020-11-09T20:05:33.841997Z",
     "shell.execute_reply": "2020-11-09T20:05:33.842795Z"
    },
    "papermill": {
     "duration": 15.983342,
     "end_time": "2020-11-09T20:05:33.842959",
     "exception": false,
     "start_time": "2020-11-09T20:05:17.859617",
     "status": "completed"
    },
    "tags": []
   },
   "outputs": [
    {
     "name": "stdout",
     "output_type": "stream",
     "text": [
      "====== Logistic Regression ======\n",
      "Epoch 0, Loss 0.2653\n",
      "Training Accuracy: 0.5746, Testing Accuracy: 0.6013\n",
      "\n"
     ]
    },
    {
     "name": "stdout",
     "output_type": "stream",
     "text": [
      "Epoch 10, Loss 0.1029\n",
      "Training Accuracy: 0.9158, Testing Accuracy: 0.9254\n",
      "\n"
     ]
    },
    {
     "name": "stdout",
     "output_type": "stream",
     "text": [
      "Epoch 20, Loss 0.0787\n",
      "Training Accuracy: 0.9290, Testing Accuracy: 0.9405\n",
      "\n"
     ]
    },
    {
     "name": "stdout",
     "output_type": "stream",
     "text": [
      "Epoch 30, Loss 0.0678\n",
      "Training Accuracy: 0.9378, Testing Accuracy: 0.9486\n",
      "\n"
     ]
    },
    {
     "name": "stdout",
     "output_type": "stream",
     "text": [
      "Epoch 40, Loss 0.0612\n",
      "Training Accuracy: 0.9436, Testing Accuracy: 0.9551\n",
      "\n"
     ]
    },
    {
     "name": "stdout",
     "output_type": "stream",
     "text": [
      "Epoch 50, Loss 0.0568\n",
      "Training Accuracy: 0.9466, Testing Accuracy: 0.9561\n",
      "\n"
     ]
    },
    {
     "name": "stdout",
     "output_type": "stream",
     "text": [
      "Epoch 60, Loss 0.0535\n",
      "Training Accuracy: 0.9487, Testing Accuracy: 0.9577\n",
      "\n"
     ]
    },
    {
     "name": "stdout",
     "output_type": "stream",
     "text": [
      "Epoch 70, Loss 0.051\n",
      "Training Accuracy: 0.9498, Testing Accuracy: 0.9582\n",
      "\n"
     ]
    },
    {
     "name": "stdout",
     "output_type": "stream",
     "text": [
      "Epoch 80, Loss 0.049\n",
      "Training Accuracy: 0.9510, Testing Accuracy: 0.9602\n",
      "\n"
     ]
    },
    {
     "name": "stdout",
     "output_type": "stream",
     "text": [
      "Epoch 90, Loss 0.0474\n",
      "Training Accuracy: 0.9520, Testing Accuracy: 0.9607\n",
      "\n"
     ]
    },
    {
     "name": "stdout",
     "output_type": "stream",
     "text": [
      "Epoch 100, Loss 0.046\n",
      "Training Accuracy: 0.9534, Testing Accuracy: 0.9617\n",
      "\n"
     ]
    },
    {
     "name": "stdout",
     "output_type": "stream",
     "text": [
      "Epoch 110, Loss 0.0448\n",
      "Training Accuracy: 0.9543, Testing Accuracy: 0.9622\n",
      "\n"
     ]
    },
    {
     "name": "stdout",
     "output_type": "stream",
     "text": [
      "Epoch 120, Loss 0.0438\n",
      "Training Accuracy: 0.9554, Testing Accuracy: 0.9627\n",
      "\n"
     ]
    },
    {
     "name": "stdout",
     "output_type": "stream",
     "text": [
      "Epoch 130, Loss 0.0429\n",
      "Training Accuracy: 0.9561, Testing Accuracy: 0.9637\n",
      "\n"
     ]
    },
    {
     "name": "stdout",
     "output_type": "stream",
     "text": [
      "Epoch 140, Loss 0.0421\n",
      "Training Accuracy: 0.9563, Testing Accuracy: 0.9637\n",
      "\n"
     ]
    },
    {
     "name": "stdout",
     "output_type": "stream",
     "text": [
      "Epoch 150, Loss 0.0413\n",
      "Training Accuracy: 0.9565, Testing Accuracy: 0.9647\n",
      "\n"
     ]
    },
    {
     "name": "stdout",
     "output_type": "stream",
     "text": [
      "Epoch 160, Loss 0.0407\n",
      "Training Accuracy: 0.9569, Testing Accuracy: 0.9647\n",
      "\n"
     ]
    },
    {
     "name": "stdout",
     "output_type": "stream",
     "text": [
      "Epoch 170, Loss 0.0401\n",
      "Training Accuracy: 0.9572, Testing Accuracy: 0.9647\n",
      "\n"
     ]
    },
    {
     "name": "stdout",
     "output_type": "stream",
     "text": [
      "Epoch 180, Loss 0.0395\n",
      "Training Accuracy: 0.9573, Testing Accuracy: 0.9652\n",
      "\n"
     ]
    },
    {
     "name": "stdout",
     "output_type": "stream",
     "text": [
      "Epoch 190, Loss 0.039\n",
      "Training Accuracy: 0.9576, Testing Accuracy: 0.9652\n",
      "\n"
     ]
    },
    {
     "name": "stdout",
     "output_type": "stream",
     "text": [
      "Epoch 200, Loss 0.0385\n",
      "Training Accuracy: 0.9584, Testing Accuracy: 0.9657\n",
      "\n"
     ]
    },
    {
     "name": "stdout",
     "output_type": "stream",
     "text": [
      "Epoch 210, Loss 0.0381\n",
      "Training Accuracy: 0.9588, Testing Accuracy: 0.9657\n",
      "\n"
     ]
    },
    {
     "name": "stdout",
     "output_type": "stream",
     "text": [
      "Epoch 220, Loss 0.0377\n",
      "Training Accuracy: 0.9589, Testing Accuracy: 0.9662\n",
      "\n"
     ]
    },
    {
     "name": "stdout",
     "output_type": "stream",
     "text": [
      "Epoch 230, Loss 0.0373\n",
      "Training Accuracy: 0.9588, Testing Accuracy: 0.9667\n",
      "\n"
     ]
    },
    {
     "name": "stdout",
     "output_type": "stream",
     "text": [
      "Epoch 240, Loss 0.037\n",
      "Training Accuracy: 0.9589, Testing Accuracy: 0.9672\n",
      "\n"
     ]
    },
    {
     "name": "stdout",
     "output_type": "stream",
     "text": [
      "Epoch 250, Loss 0.0366\n",
      "Training Accuracy: 0.9594, Testing Accuracy: 0.9677\n",
      "\n"
     ]
    },
    {
     "data": {
      "text/plain": [
       "0.01841830278590177"
      ]
     },
     "execution_count": 22,
     "metadata": {},
     "output_type": "execute_result"
    }
   ],
   "source": [
    "print(\"====== Logistic Regression ======\")\n",
    "learner_lr.train_loop(dl)"
   ]
  },
  {
   "cell_type": "markdown",
   "metadata": {
    "papermill": {
     "duration": 0.04441,
     "end_time": "2020-11-09T20:05:33.933356",
     "exception": false,
     "start_time": "2020-11-09T20:05:33.888946",
     "status": "completed"
    },
    "tags": []
   },
   "source": [
    "### Comparing results of NN and LR"
   ]
  },
  {
   "cell_type": "code",
   "execution_count": 23,
   "metadata": {
    "execution": {
     "iopub.execute_input": "2020-11-09T20:05:34.028744Z",
     "iopub.status.busy": "2020-11-09T20:05:34.027664Z",
     "iopub.status.idle": "2020-11-09T20:05:34.270120Z",
     "shell.execute_reply": "2020-11-09T20:05:34.270604Z"
    },
    "papermill": {
     "duration": 0.292937,
     "end_time": "2020-11-09T20:05:34.270757",
     "exception": false,
     "start_time": "2020-11-09T20:05:33.977820",
     "status": "completed"
    },
    "tags": []
   },
   "outputs": [
    {
     "data": {
      "text/plain": [
       "<matplotlib.legend.Legend at 0x7f3d1b4f8160>"
      ]
     },
     "execution_count": 23,
     "metadata": {},
     "output_type": "execute_result"
    },
    {
     "data": {
      "image/png": "[encoded data removed]",
      "text/plain": [
       "<Figure size 1080x720 with 1 Axes>"
      ]
     },
     "metadata": {
      "needs_background": "light"
     },
     "output_type": "display_data"
    }
   ],
   "source": [
    "plt.figure(figsize=(15,10))\n",
    "\n",
    "# Neural Network plots\n",
    "plt.plot(acc_nn.accuracies, 'r-', label = \"Training Accuracies - NN\")\n",
    "plt.plot(acc_nn.test_accuracies, 'g-', label = \"Testing Accuracies - NN\")\n",
    "\n",
    "# Logistic Regression plots\n",
    "plt.plot(acc_lr.accuracies, 'k-', label = \"Training Accuracies - LR\")\n",
    "plt.plot(acc_lr.test_accuracies, 'b-', label = \"Testing Accuracies - LR\")\n",
    "\n",
    "plt.ylim(0.8, 1)\n",
    "\n",
    "plt.legend()\n",
    "\n"
   ]
  },
  {
   "cell_type": "markdown",
   "metadata": {
    "papermill": {
     "duration": 0.046061,
     "end_time": "2020-11-09T20:05:34.363223",
     "exception": false,
     "start_time": "2020-11-09T20:05:34.317162",
     "status": "completed"
    },
    "tags": []
   },
   "source": [
    "### From the plot, we can observe the following:\n",
    "- Neural Network achieves higher accuracy than the Logistic Regression model.\n",
    "- This apparently, is because of overfitting, i.e. NN captures more noise than data.\n",
    "- Testing accuracy of NN drops below the Training accuracy at higher epochs. This explains the over-fitting on training data.\n",
    "- Logistic Regression gives a reliable accuracy, without the above mentioned problem.\n"
   ]
  },
  {
   "cell_type": "markdown",
   "metadata": {
    "papermill": {
     "duration": 0.046571,
     "end_time": "2020-11-09T20:05:34.455759",
     "exception": false,
     "start_time": "2020-11-09T20:05:34.409188",
     "status": "completed"
    },
    "tags": []
   },
   "source": [
    "### Moving till the last but one layer (excluding it).\n",
    "#### Plotting the outputs of this layer of the NN."
   ]
  },
  {
   "cell_type": "code",
   "execution_count": 24,
   "metadata": {
    "execution": {
     "iopub.execute_input": "2020-11-09T20:05:34.553195Z",
     "iopub.status.busy": "2020-11-09T20:05:34.552604Z",
     "iopub.status.idle": "2020-11-09T20:05:34.565309Z",
     "shell.execute_reply": "2020-11-09T20:05:34.565778Z"
    },
    "papermill": {
     "duration": 0.063985,
     "end_time": "2020-11-09T20:05:34.565923",
     "exception": false,
     "start_time": "2020-11-09T20:05:34.501938",
     "status": "completed"
    },
    "tags": []
   },
   "outputs": [],
   "source": [
    "model_new = Model(layers[:-2])"
   ]
  },
  {
   "cell_type": "code",
   "execution_count": 25,
   "metadata": {
    "execution": {
     "iopub.execute_input": "2020-11-09T20:05:34.676994Z",
     "iopub.status.busy": "2020-11-09T20:05:34.673024Z",
     "iopub.status.idle": "2020-11-09T20:05:34.688051Z",
     "shell.execute_reply": "2020-11-09T20:05:34.688777Z"
    },
    "papermill": {
     "duration": 0.077226,
     "end_time": "2020-11-09T20:05:34.688931",
     "exception": false,
     "start_time": "2020-11-09T20:05:34.611705",
     "status": "completed"
    },
    "tags": []
   },
   "outputs": [],
   "source": [
    "plot_testing = model_new(testing_xdata)"
   ]
  },
  {
   "cell_type": "code",
   "execution_count": 26,
   "metadata": {
    "execution": {
     "iopub.execute_input": "2020-11-09T20:05:34.786243Z",
     "iopub.status.busy": "2020-11-09T20:05:34.785653Z",
     "iopub.status.idle": "2020-11-09T20:05:34.990863Z",
     "shell.execute_reply": "2020-11-09T20:05:34.991346Z"
    },
    "papermill": {
     "duration": 0.256048,
     "end_time": "2020-11-09T20:05:34.991502",
     "exception": false,
     "start_time": "2020-11-09T20:05:34.735454",
     "status": "completed"
    },
    "tags": []
   },
   "outputs": [
    {
     "data": {
      "text/plain": [
       "Text(0.5, 1.0, 'Outputs')"
      ]
     },
     "execution_count": 26,
     "metadata": {},
     "output_type": "execute_result"
    },
    {
     "data": {
      "image/png": "[encoded data removed]",
      "text/plain": [
       "<Figure size 576x504 with 1 Axes>"
      ]
     },
     "metadata": {
      "needs_background": "light"
     },
     "output_type": "display_data"
    }
   ],
   "source": [
    "plt.figure(figsize=(8,7))\n",
    "plt.scatter(plot_testing[:,0], plot_testing[:,1], alpha = 0.1, c = y_test.ravel());\n",
    "plt.title('Outputs')"
   ]
  },
  {
   "cell_type": "markdown",
   "metadata": {
    "papermill": {
     "duration": 0.048363,
     "end_time": "2020-11-09T20:05:35.088661",
     "exception": false,
     "start_time": "2020-11-09T20:05:35.040298",
     "status": "completed"
    },
    "tags": []
   },
   "source": [
    "### Plotting probability contours"
   ]
  },
  {
   "cell_type": "code",
   "execution_count": 27,
   "metadata": {
    "execution": {
     "iopub.execute_input": "2020-11-09T20:05:35.191131Z",
     "iopub.status.busy": "2020-11-09T20:05:35.190538Z",
     "iopub.status.idle": "2020-11-09T20:05:35.203571Z",
     "shell.execute_reply": "2020-11-09T20:05:35.203094Z"
    },
    "papermill": {
     "duration": 0.066629,
     "end_time": "2020-11-09T20:05:35.203705",
     "exception": false,
     "start_time": "2020-11-09T20:05:35.137076",
     "status": "completed"
    },
    "tags": []
   },
   "outputs": [],
   "source": [
    "model_prob = Model(layers[-2:]) "
   ]
  },
  {
   "cell_type": "code",
   "execution_count": 28,
   "metadata": {
    "execution": {
     "iopub.execute_input": "2020-11-09T20:05:35.309605Z",
     "iopub.status.busy": "2020-11-09T20:05:35.309021Z",
     "iopub.status.idle": "2020-11-09T20:05:35.323551Z",
     "shell.execute_reply": "2020-11-09T20:05:35.324004Z"
    },
    "papermill": {
     "duration": 0.071679,
     "end_time": "2020-11-09T20:05:35.324154",
     "exception": false,
     "start_time": "2020-11-09T20:05:35.252475",
     "status": "completed"
    },
    "tags": []
   },
   "outputs": [],
   "source": [
    "# Adjust the x and y ranges according to the above generated plot.\n",
    "x_range = np.linspace(-4, 1, 100) \n",
    "y_range = np.linspace(-6, 6, 100) \n",
    "x_grid, y_grid = np.meshgrid(x_range, y_range) # x_grid and y_grig are of size 100 X 100\n",
    "\n",
    "# converting x_grid and y_grid to continuous arrays\n",
    "x_grid_flat = np.ravel(x_grid)\n",
    "y_grid_flat = np.ravel(y_grid)\n",
    "\n",
    "# The last layer of the current model takes two columns as input. Hence transpose of np.vstack() is required.\n",
    "X = np.vstack((x_grid_flat, y_grid_flat)).T\n",
    "\n",
    "# x_grid and y_grid are of size 100 x 100\n",
    "probability_contour = model_prob(X).reshape(100,100) "
   ]
  },
  {
   "cell_type": "code",
   "execution_count": 29,
   "metadata": {
    "execution": {
     "iopub.execute_input": "2020-11-09T20:05:35.437692Z",
     "iopub.status.busy": "2020-11-09T20:05:35.437110Z",
     "iopub.status.idle": "2020-11-09T20:05:35.689570Z",
     "shell.execute_reply": "2020-11-09T20:05:35.690027Z"
    },
    "papermill": {
     "duration": 0.317027,
     "end_time": "2020-11-09T20:05:35.690185",
     "exception": false,
     "start_time": "2020-11-09T20:05:35.373158",
     "status": "completed"
    },
    "tags": []
   },
   "outputs": [
    {
     "data": {
      "image/png": "[encoded data removed]",
      "text/plain": [
       "<Figure size 720x648 with 1 Axes>"
      ]
     },
     "metadata": {
      "needs_background": "light"
     },
     "output_type": "display_data"
    }
   ],
   "source": [
    "plt.figure(figsize=(10,9))\n",
    "plt.scatter(plot_testing[:,0], plot_testing[:,1], alpha = 0.1, c = y_test.ravel())\n",
    "contours = plt.contour(x_grid,y_grid,probability_contour)\n",
    "plt.title('Probability Contours')\n",
    "plt.clabel(contours, inline = True );"
   ]
  }
 ],
 "metadata": {
  "kernelspec": {
   "display_name": "Python 3",
   "language": "python",
   "name": "python3"
  },
  "language_info": {
   "codemirror_mode": {
    "name": "ipython",
    "version": 3
   },
   "file_extension": ".py",
   "mimetype": "text/x-python",
   "name": "python",
   "nbconvert_exporter": "python",
   "pygments_lexer": "ipython3",
   "version": "3.6.12"
  },
  "papermill": {
   "duration": 113.077882,
   "end_time": "2020-11-09T20:05:36.150498",
   "environment_variables": {},
   "exception": null,
   "input_path": "2020-08-11-NeuralNetwork.ipynb",
   "output_path": "2020-08-11-NeuralNetwork.ipynb",
   "parameters": {},
   "start_time": "2020-11-09T20:03:43.072616",
   "version": "2.1.2"
  }
 },
 "nbformat": 4,
 "nbformat_minor": 4
}