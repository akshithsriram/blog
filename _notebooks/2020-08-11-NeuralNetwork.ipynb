{
 "cells": [
  {
   "cell_type": "markdown",
   "metadata": {
    "papermill": {
     "duration": 0.032351,
     "end_time": "2021-01-13T20:29:16.998600",
     "exception": false,
     "start_time": "2021-01-13T20:29:16.966249",
     "status": "completed"
    },
    "tags": []
   },
   "source": [
    "# \"A Basic Neural Network: Differentiate Hand-Written Digits\"\n",
    "\n",
    "- badges: true\n",
    "- author: Akshith Sriram"
   ]
  },
  {
   "cell_type": "markdown",
   "metadata": {
    "papermill": {
     "duration": 0.027236,
     "end_time": "2021-01-13T20:29:17.052255",
     "exception": false,
     "start_time": "2021-01-13T20:29:17.025019",
     "status": "completed"
    },
    "tags": []
   },
   "source": [
    "### Key Objectives:\n",
    "- Building a neural network that differentiates two hand-written digits 3 and 8.\n",
    "- Comparing the results of this Neural Network (NN) to that of a Logistic Regression (LR) model.\n",
    "\n",
    "### Requirements:\n",
    "- 'Kudzu' : A neural network library that was designed during our course by [Univ.AI](www.univ.ai). \n",
    "- MNIST Database\n",
    "\n",
    "If MNIST is not installed, use the command `!pip install mnist` given below.\n",
    "It can be run both from the command line and Jupyter Notebook."
   ]
  },
  {
   "cell_type": "code",
   "execution_count": 1,
   "metadata": {
    "execution": {
     "iopub.execute_input": "2021-01-13T20:29:17.118228Z",
     "iopub.status.busy": "2021-01-13T20:29:17.117593Z",
     "iopub.status.idle": "2021-01-13T20:29:18.639020Z",
     "shell.execute_reply": "2021-01-13T20:29:18.638027Z"
    },
    "papermill": {
     "duration": 1.561452,
     "end_time": "2021-01-13T20:29:18.639195",
     "exception": false,
     "start_time": "2021-01-13T20:29:17.077743",
     "status": "completed"
    },
    "tags": []
   },
   "outputs": [
    {
     "name": "stdout",
     "output_type": "stream",
     "text": [
      "Collecting mnist\r\n"
     ]
    },
    {
     "name": "stdout",
     "output_type": "stream",
     "text": [
      "  Downloading mnist-0.2.2-py2.py3-none-any.whl (3.5 kB)\r\n",
      "Requirement already satisfied: numpy in /opt/hostedtoolcache/Python/3.6.12/x64/lib/python3.6/site-packages (from mnist) (1.19.5)\r\n"
     ]
    },
    {
     "name": "stdout",
     "output_type": "stream",
     "text": [
      "Installing collected packages: mnist\r\n"
     ]
    },
    {
     "name": "stdout",
     "output_type": "stream",
     "text": [
      "Successfully installed mnist-0.2.2\r\n",
      "\u001b[33mWARNING: You are using pip version 20.3.1; however, version 20.3.3 is available.\r\n",
      "You should consider upgrading via the '/opt/hostedtoolcache/Python/3.6.12/x64/bin/python -m pip install --upgrade pip' command.\u001b[0m\r\n"
     ]
    }
   ],
   "source": [
    "!pip install mnist "
   ]
  },
  {
   "cell_type": "markdown",
   "metadata": {
    "papermill": {
     "duration": 0.028714,
     "end_time": "2021-01-13T20:29:18.696053",
     "exception": false,
     "start_time": "2021-01-13T20:29:18.667339",
     "status": "completed"
    },
    "tags": []
   },
   "source": [
    "#### Importing necessary libraries"
   ]
  },
  {
   "cell_type": "code",
   "execution_count": 2,
   "metadata": {
    "execution": {
     "iopub.execute_input": "2021-01-13T20:29:18.760778Z",
     "iopub.status.busy": "2021-01-13T20:29:18.759168Z",
     "iopub.status.idle": "2021-01-13T20:29:19.346573Z",
     "shell.execute_reply": "2021-01-13T20:29:19.346038Z"
    },
    "papermill": {
     "duration": 0.623717,
     "end_time": "2021-01-13T20:29:19.346725",
     "exception": false,
     "start_time": "2021-01-13T20:29:18.723008",
     "status": "completed"
    },
    "tags": []
   },
   "outputs": [],
   "source": [
    "%load_ext autoreload\n",
    "%autoreload 2\n",
    "\n",
    "%matplotlib inline\n",
    "import matplotlib.pyplot as plt\n",
    "\n",
    "import numpy as np\n",
    "import pandas as pd"
   ]
  },
  {
   "cell_type": "markdown",
   "metadata": {
    "papermill": {
     "duration": 0.026584,
     "end_time": "2021-01-13T20:29:19.400442",
     "exception": false,
     "start_time": "2021-01-13T20:29:19.373858",
     "status": "completed"
    },
    "tags": []
   },
   "source": [
    "### Preparing the Data"
   ]
  },
  {
   "cell_type": "code",
   "execution_count": 3,
   "metadata": {
    "execution": {
     "iopub.execute_input": "2021-01-13T20:29:19.459563Z",
     "iopub.status.busy": "2021-01-13T20:29:19.458965Z",
     "iopub.status.idle": "2021-01-13T20:29:19.472394Z",
     "shell.execute_reply": "2021-01-13T20:29:19.471904Z"
    },
    "papermill": {
     "duration": 0.045368,
     "end_time": "2021-01-13T20:29:19.472534",
     "exception": false,
     "start_time": "2021-01-13T20:29:19.427166",
     "status": "completed"
    },
    "tags": []
   },
   "outputs": [],
   "source": [
    "import mnist"
   ]
  },
  {
   "cell_type": "code",
   "execution_count": 4,
   "metadata": {
    "execution": {
     "iopub.execute_input": "2021-01-13T20:29:19.530491Z",
     "iopub.status.busy": "2021-01-13T20:29:19.529918Z",
     "iopub.status.idle": "2021-01-13T20:29:20.509079Z",
     "shell.execute_reply": "2021-01-13T20:29:20.508216Z"
    },
    "papermill": {
     "duration": 1.010138,
     "end_time": "2021-01-13T20:29:20.509350",
     "exception": false,
     "start_time": "2021-01-13T20:29:19.499212",
     "status": "completed"
    },
    "tags": []
   },
   "outputs": [],
   "source": [
    "train_images = mnist.train_images()\n",
    "train_labels = mnist.train_labels()"
   ]
  },
  {
   "cell_type": "code",
   "execution_count": 5,
   "metadata": {
    "execution": {
     "iopub.execute_input": "2021-01-13T20:29:20.586379Z",
     "iopub.status.busy": "2021-01-13T20:29:20.585778Z",
     "iopub.status.idle": "2021-01-13T20:29:20.602645Z",
     "shell.execute_reply": "2021-01-13T20:29:20.602140Z"
    },
    "papermill": {
     "duration": 0.060911,
     "end_time": "2021-01-13T20:29:20.602776",
     "exception": false,
     "start_time": "2021-01-13T20:29:20.541865",
     "status": "completed"
    },
    "tags": []
   },
   "outputs": [
    {
     "data": {
      "text/plain": [
       "((60000, 28, 28), (60000,))"
      ]
     },
     "execution_count": 5,
     "metadata": {},
     "output_type": "execute_result"
    }
   ],
   "source": [
    "train_images.shape, train_labels.shape"
   ]
  },
  {
   "cell_type": "code",
   "execution_count": 6,
   "metadata": {
    "execution": {
     "iopub.execute_input": "2021-01-13T20:29:20.664216Z",
     "iopub.status.busy": "2021-01-13T20:29:20.663066Z",
     "iopub.status.idle": "2021-01-13T20:29:20.968822Z",
     "shell.execute_reply": "2021-01-13T20:29:20.968299Z"
    },
    "papermill": {
     "duration": 0.338855,
     "end_time": "2021-01-13T20:29:20.968968",
     "exception": false,
     "start_time": "2021-01-13T20:29:20.630113",
     "status": "completed"
    },
    "tags": []
   },
   "outputs": [],
   "source": [
    "test_images = mnist.test_images()\n",
    "test_labels = mnist.test_labels()"
   ]
  },
  {
   "cell_type": "code",
   "execution_count": 7,
   "metadata": {
    "execution": {
     "iopub.execute_input": "2021-01-13T20:29:21.033476Z",
     "iopub.status.busy": "2021-01-13T20:29:21.031461Z",
     "iopub.status.idle": "2021-01-13T20:29:21.046563Z",
     "shell.execute_reply": "2021-01-13T20:29:21.046050Z"
    },
    "papermill": {
     "duration": 0.050216,
     "end_time": "2021-01-13T20:29:21.046700",
     "exception": false,
     "start_time": "2021-01-13T20:29:20.996484",
     "status": "completed"
    },
    "tags": []
   },
   "outputs": [
    {
     "data": {
      "text/plain": [
       "((10000, 28, 28), (10000,))"
      ]
     },
     "execution_count": 7,
     "metadata": {},
     "output_type": "execute_result"
    }
   ],
   "source": [
    "test_images.shape, test_labels.shape"
   ]
  },
  {
   "cell_type": "code",
   "execution_count": 8,
   "metadata": {
    "execution": {
     "iopub.execute_input": "2021-01-13T20:29:21.118100Z",
     "iopub.status.busy": "2021-01-13T20:29:21.117493Z",
     "iopub.status.idle": "2021-01-13T20:29:21.265882Z",
     "shell.execute_reply": "2021-01-13T20:29:21.265386Z"
    },
    "papermill": {
     "duration": 0.184994,
     "end_time": "2021-01-13T20:29:21.266014",
     "exception": false,
     "start_time": "2021-01-13T20:29:21.081020",
     "status": "completed"
    },
    "tags": []
   },
   "outputs": [
    {
     "name": "stdout",
     "output_type": "stream",
     "text": [
      "2\n"
     ]
    },
    {
     "data": {
      "text/plain": [
       "<matplotlib.image.AxesImage at 0x7fe4394d7390>"
      ]
     },
     "execution_count": 8,
     "metadata": {},
     "output_type": "execute_result"
    },
    {
     "data": {
      "image/png": "[encoded data removed]",
      "text/plain": [
       "<Figure size 432x288 with 1 Axes>"
      ]
     },
     "metadata": {
      "needs_background": "light"
     },
     "output_type": "display_data"
    }
   ],
   "source": [
    "image_index = 7776 # You may select anything up to 60,000\n",
    "print(train_labels[image_index]) \n",
    "plt.imshow(train_images[image_index], cmap='Greys')"
   ]
  },
  {
   "cell_type": "markdown",
   "metadata": {
    "papermill": {
     "duration": 0.027385,
     "end_time": "2021-01-13T20:29:21.320887",
     "exception": false,
     "start_time": "2021-01-13T20:29:21.293502",
     "status": "completed"
    },
    "tags": []
   },
   "source": [
    "## Filter data to get 3 and 8 out"
   ]
  },
  {
   "cell_type": "code",
   "execution_count": 9,
   "metadata": {
    "execution": {
     "iopub.execute_input": "2021-01-13T20:29:21.386156Z",
     "iopub.status.busy": "2021-01-13T20:29:21.381212Z",
     "iopub.status.idle": "2021-01-13T20:29:21.397713Z",
     "shell.execute_reply": "2021-01-13T20:29:21.398167Z"
    },
    "papermill": {
     "duration": 0.049567,
     "end_time": "2021-01-13T20:29:21.398325",
     "exception": false,
     "start_time": "2021-01-13T20:29:21.348758",
     "status": "completed"
    },
    "tags": []
   },
   "outputs": [],
   "source": [
    "train_filter = np.where((train_labels == 3 ) | (train_labels == 8))\n",
    "test_filter = np.where((test_labels == 3) | (test_labels == 8))\n",
    "X_train, y_train = train_images[train_filter], train_labels[train_filter]\n",
    "X_test, y_test = test_images[test_filter], test_labels[test_filter]"
   ]
  },
  {
   "cell_type": "markdown",
   "metadata": {
    "papermill": {
     "duration": 0.028434,
     "end_time": "2021-01-13T20:29:21.454937",
     "exception": false,
     "start_time": "2021-01-13T20:29:21.426503",
     "status": "completed"
    },
    "tags": []
   },
   "source": [
    "We normalize the pixel values in the 0 to 1 range"
   ]
  },
  {
   "cell_type": "code",
   "execution_count": 10,
   "metadata": {
    "execution": {
     "iopub.execute_input": "2021-01-13T20:29:21.517575Z",
     "iopub.status.busy": "2021-01-13T20:29:21.516943Z",
     "iopub.status.idle": "2021-01-13T20:29:21.577192Z",
     "shell.execute_reply": "2021-01-13T20:29:21.576479Z"
    },
    "papermill": {
     "duration": 0.093976,
     "end_time": "2021-01-13T20:29:21.577347",
     "exception": false,
     "start_time": "2021-01-13T20:29:21.483371",
     "status": "completed"
    },
    "tags": []
   },
   "outputs": [],
   "source": [
    "X_train = X_train/255.\n",
    "X_test = X_test/255."
   ]
  },
  {
   "cell_type": "markdown",
   "metadata": {
    "papermill": {
     "duration": 0.027594,
     "end_time": "2021-01-13T20:29:21.632775",
     "exception": false,
     "start_time": "2021-01-13T20:29:21.605181",
     "status": "completed"
    },
    "tags": []
   },
   "source": [
    "Setup the labels as 1 (when the digit is 3) and 0 (when the digit is 8)"
   ]
  },
  {
   "cell_type": "code",
   "execution_count": 11,
   "metadata": {
    "execution": {
     "iopub.execute_input": "2021-01-13T20:29:21.694590Z",
     "iopub.status.busy": "2021-01-13T20:29:21.693990Z",
     "iopub.status.idle": "2021-01-13T20:29:21.708709Z",
     "shell.execute_reply": "2021-01-13T20:29:21.708198Z"
    },
    "papermill": {
     "duration": 0.048509,
     "end_time": "2021-01-13T20:29:21.708842",
     "exception": false,
     "start_time": "2021-01-13T20:29:21.660333",
     "status": "completed"
    },
    "tags": []
   },
   "outputs": [],
   "source": [
    "y_train = 1*(y_train==3)\n",
    "y_test = 1*(y_test==3)"
   ]
  },
  {
   "cell_type": "code",
   "execution_count": 12,
   "metadata": {
    "execution": {
     "iopub.execute_input": "2021-01-13T20:29:21.770159Z",
     "iopub.status.busy": "2021-01-13T20:29:21.769607Z",
     "iopub.status.idle": "2021-01-13T20:29:21.785078Z",
     "shell.execute_reply": "2021-01-13T20:29:21.784603Z"
    },
    "papermill": {
     "duration": 0.048038,
     "end_time": "2021-01-13T20:29:21.785214",
     "exception": false,
     "start_time": "2021-01-13T20:29:21.737176",
     "status": "completed"
    },
    "tags": []
   },
   "outputs": [
    {
     "data": {
      "text/plain": [
       "((11982, 28, 28), (1984, 28, 28))"
      ]
     },
     "execution_count": 12,
     "metadata": {},
     "output_type": "execute_result"
    }
   ],
   "source": [
    "X_train.shape, X_test.shape"
   ]
  },
  {
   "cell_type": "markdown",
   "metadata": {
    "papermill": {
     "duration": 0.027555,
     "end_time": "2021-01-13T20:29:21.840986",
     "exception": false,
     "start_time": "2021-01-13T20:29:21.813431",
     "status": "completed"
    },
    "tags": []
   },
   "source": [
    "### Reshape the input data to create a linear array"
   ]
  },
  {
   "cell_type": "code",
   "execution_count": 13,
   "metadata": {
    "execution": {
     "iopub.execute_input": "2021-01-13T20:29:21.902062Z",
     "iopub.status.busy": "2021-01-13T20:29:21.901453Z",
     "iopub.status.idle": "2021-01-13T20:29:21.917277Z",
     "shell.execute_reply": "2021-01-13T20:29:21.916802Z"
    },
    "papermill": {
     "duration": 0.048545,
     "end_time": "2021-01-13T20:29:21.917445",
     "exception": false,
     "start_time": "2021-01-13T20:29:21.868900",
     "status": "completed"
    },
    "tags": []
   },
   "outputs": [
    {
     "data": {
      "text/plain": [
       "((11982, 784), (1984, 784))"
      ]
     },
     "execution_count": 13,
     "metadata": {},
     "output_type": "execute_result"
    }
   ],
   "source": [
    "X_train = X_train.reshape(X_train.shape[0], -1)\n",
    "X_test = X_test.reshape(X_test.shape[0], -1)\n",
    "X_train.shape, X_test.shape"
   ]
  },
  {
   "cell_type": "markdown",
   "metadata": {
    "papermill": {
     "duration": 0.027813,
     "end_time": "2021-01-13T20:29:21.973746",
     "exception": false,
     "start_time": "2021-01-13T20:29:21.945933",
     "status": "completed"
    },
    "tags": []
   },
   "source": [
    "### Importing appropriate functions from 'Kudzu'"
   ]
  },
  {
   "cell_type": "code",
   "execution_count": 14,
   "metadata": {
    "execution": {
     "iopub.execute_input": "2021-01-13T20:29:22.037003Z",
     "iopub.status.busy": "2021-01-13T20:29:22.036399Z",
     "iopub.status.idle": "2021-01-13T20:29:22.058476Z",
     "shell.execute_reply": "2021-01-13T20:29:22.057801Z"
    },
    "papermill": {
     "duration": 0.05559,
     "end_time": "2021-01-13T20:29:22.058658",
     "exception": false,
     "start_time": "2021-01-13T20:29:22.003068",
     "status": "completed"
    },
    "tags": []
   },
   "outputs": [],
   "source": [
    "from kudzu.layer import Sigmoid\n",
    "from kudzu.layer import Relu\n",
    "from kudzu.layer import Affine, Sigmoid\n",
    "\n",
    "from kudzu.model import Model\n",
    "from kudzu.train import Learner\n",
    "from kudzu.optim import GD\n",
    "from kudzu.data import Data, Dataloader, Sampler\n",
    "\n",
    "from kudzu.callbacks import AccCallback\n",
    "from kudzu.callbacks import ClfCallback\n",
    "\n",
    "from kudzu.loss import MSE"
   ]
  },
  {
   "cell_type": "markdown",
   "metadata": {
    "papermill": {
     "duration": 0.028987,
     "end_time": "2021-01-13T20:29:22.117201",
     "exception": false,
     "start_time": "2021-01-13T20:29:22.088214",
     "status": "completed"
    },
    "tags": []
   },
   "source": [
    "### Let us create a `Config` class, to store important parameters. \n",
    "This class essentially plays the role of a dictionary."
   ]
  },
  {
   "cell_type": "code",
   "execution_count": 15,
   "metadata": {
    "execution": {
     "iopub.execute_input": "2021-01-13T20:29:22.180189Z",
     "iopub.status.busy": "2021-01-13T20:29:22.179599Z",
     "iopub.status.idle": "2021-01-13T20:29:22.195144Z",
     "shell.execute_reply": "2021-01-13T20:29:22.194663Z"
    },
    "papermill": {
     "duration": 0.049418,
     "end_time": "2021-01-13T20:29:22.195282",
     "exception": false,
     "start_time": "2021-01-13T20:29:22.145864",
     "status": "completed"
    },
    "tags": []
   },
   "outputs": [],
   "source": [
    "class Config:\n",
    "    pass\n",
    "config = Config()\n",
    "config.lr = 0.001\n",
    "config.num_epochs = 251\n",
    "config.bs = 50"
   ]
  },
  {
   "cell_type": "markdown",
   "metadata": {
    "papermill": {
     "duration": 0.02831,
     "end_time": "2021-01-13T20:29:22.252962",
     "exception": false,
     "start_time": "2021-01-13T20:29:22.224652",
     "status": "completed"
    },
    "tags": []
   },
   "source": [
    "### Initializing data to the variables"
   ]
  },
  {
   "cell_type": "code",
   "execution_count": 16,
   "metadata": {
    "execution": {
     "iopub.execute_input": "2021-01-13T20:29:22.316498Z",
     "iopub.status.busy": "2021-01-13T20:29:22.315893Z",
     "iopub.status.idle": "2021-01-13T20:29:22.328501Z",
     "shell.execute_reply": "2021-01-13T20:29:22.328040Z"
    },
    "papermill": {
     "duration": 0.047741,
     "end_time": "2021-01-13T20:29:22.328627",
     "exception": false,
     "start_time": "2021-01-13T20:29:22.280886",
     "status": "completed"
    },
    "tags": []
   },
   "outputs": [],
   "source": [
    "data = Data(X_train, y_train.reshape(-1,1))\n",
    "sampler = Sampler(data, config.bs, shuffle=True)\n",
    "\n",
    "dl = Dataloader(data, sampler)\n",
    "\n",
    "opt = GD(config.lr)\n",
    "loss = MSE()"
   ]
  },
  {
   "cell_type": "code",
   "execution_count": 17,
   "metadata": {
    "execution": {
     "iopub.execute_input": "2021-01-13T20:29:22.389272Z",
     "iopub.status.busy": "2021-01-13T20:29:22.388671Z",
     "iopub.status.idle": "2021-01-13T20:29:22.405768Z",
     "shell.execute_reply": "2021-01-13T20:29:22.406272Z"
    },
    "papermill": {
     "duration": 0.050332,
     "end_time": "2021-01-13T20:29:22.406430",
     "exception": false,
     "start_time": "2021-01-13T20:29:22.356098",
     "status": "completed"
    },
    "tags": []
   },
   "outputs": [],
   "source": [
    "training_xdata = X_train\n",
    "testing_xdata = X_test\n",
    "training_ydata = y_train.reshape(-1,1)\n",
    "testing_ydata = y_test.reshape(-1,1)"
   ]
  },
  {
   "cell_type": "markdown",
   "metadata": {
    "papermill": {
     "duration": 0.029645,
     "end_time": "2021-01-13T20:29:22.466369",
     "exception": false,
     "start_time": "2021-01-13T20:29:22.436724",
     "status": "completed"
    },
    "tags": []
   },
   "source": [
    "### Running Models with the Training data\n",
    "Details about the network layers:\n",
    "- A first affine layer has 784 inputs and does 100 affine transforms. These are followed by a Relu\n",
    "- A second affine layer has 100 inputs from the 100 activations of the past layer, and does 100 affine transforms. These are followed by a Relu\n",
    "- A third affine layer has 100 activations and does 2 affine transformations to create an embedding for visualization. There is no non-linearity here.\n",
    "- A final \"logistic regression\" which has an affine transform from 2 inputs to 1 output, which is squeezed through a sigmoid.\n",
    "\n",
    "Help taken from Anshuman's Notebook."
   ]
  },
  {
   "cell_type": "code",
   "execution_count": 18,
   "metadata": {
    "execution": {
     "iopub.execute_input": "2021-01-13T20:29:23.505691Z",
     "iopub.status.busy": "2021-01-13T20:29:23.505065Z",
     "iopub.status.idle": "2021-01-13T20:29:23.525397Z",
     "shell.execute_reply": "2021-01-13T20:29:23.526049Z"
    },
    "papermill": {
     "duration": 0.825255,
     "end_time": "2021-01-13T20:29:23.526260",
     "exception": false,
     "start_time": "2021-01-13T20:29:22.701005",
     "status": "completed"
    },
    "tags": []
   },
   "outputs": [],
   "source": [
    "# layers for the Neural Network\n",
    "layers = [Affine(\"first\", 784, 100), Relu(\"first\"), Affine(\"second\", 100, 100), Relu(\"second\"), Affine(\"third\", 100, 2), Affine(\"final\", 2, 1), Sigmoid(\"final\")]\n",
    "model_nn = Model(layers)\n",
    "\n",
    "# layers for the Logistic Regression\n",
    "layers_lr = [Affine(\"logits\", 784, 1), Sigmoid(\"sigmoid\")]\n",
    "model_lr = Model(layers_lr)"
   ]
  },
  {
   "cell_type": "code",
   "execution_count": 19,
   "metadata": {
    "execution": {
     "iopub.execute_input": "2021-01-13T20:29:23.589138Z",
     "iopub.status.busy": "2021-01-13T20:29:23.588584Z",
     "iopub.status.idle": "2021-01-13T20:29:23.603508Z",
     "shell.execute_reply": "2021-01-13T20:29:23.603019Z"
    },
    "papermill": {
     "duration": 0.047513,
     "end_time": "2021-01-13T20:29:23.603641",
     "exception": false,
     "start_time": "2021-01-13T20:29:23.556128",
     "status": "completed"
    },
    "tags": []
   },
   "outputs": [],
   "source": [
    "# suffix _nn stands for Neural Network.\n",
    "learner_nn = Learner(loss, model_nn, opt, config.num_epochs)\n",
    "acc_nn = ClfCallback(learner_nn, config.bs, training_xdata , testing_xdata, training_ydata, testing_ydata)\n",
    "learner_nn.set_callbacks([acc_nn])"
   ]
  },
  {
   "cell_type": "code",
   "execution_count": 20,
   "metadata": {
    "execution": {
     "iopub.execute_input": "2021-01-13T20:29:23.664558Z",
     "iopub.status.busy": "2021-01-13T20:29:23.663959Z",
     "iopub.status.idle": "2021-01-13T20:30:51.246039Z",
     "shell.execute_reply": "2021-01-13T20:30:51.246754Z"
    },
    "papermill": {
     "duration": 87.615542,
     "end_time": "2021-01-13T20:30:51.246915",
     "exception": false,
     "start_time": "2021-01-13T20:29:23.631373",
     "status": "completed"
    },
    "tags": []
   },
   "outputs": [
    {
     "name": "stdout",
     "output_type": "stream",
     "text": [
      "====== Neural Network ======\n"
     ]
    },
    {
     "name": "stdout",
     "output_type": "stream",
     "text": [
      "Epoch 0, Loss 0.2311\n",
      "Training Accuracy: 0.7449, Testing Accuracy: 0.7697\n",
      "\n"
     ]
    },
    {
     "name": "stdout",
     "output_type": "stream",
     "text": [
      "Epoch 10, Loss 0.0624\n",
      "Training Accuracy: 0.9352, Testing Accuracy: 0.9451\n",
      "\n"
     ]
    },
    {
     "name": "stdout",
     "output_type": "stream",
     "text": [
      "Epoch 20, Loss 0.0428\n",
      "Training Accuracy: 0.9530, Testing Accuracy: 0.9612\n",
      "\n"
     ]
    },
    {
     "name": "stdout",
     "output_type": "stream",
     "text": [
      "Epoch 30, Loss 0.0357\n",
      "Training Accuracy: 0.9597, Testing Accuracy: 0.9672\n",
      "\n"
     ]
    },
    {
     "name": "stdout",
     "output_type": "stream",
     "text": [
      "Epoch 40, Loss 0.0318\n",
      "Training Accuracy: 0.9639, Testing Accuracy: 0.9682\n",
      "\n"
     ]
    },
    {
     "name": "stdout",
     "output_type": "stream",
     "text": [
      "Epoch 50, Loss 0.0292\n",
      "Training Accuracy: 0.9664, Testing Accuracy: 0.9703\n",
      "\n"
     ]
    },
    {
     "name": "stdout",
     "output_type": "stream",
     "text": [
      "Epoch 60, Loss 0.0273\n",
      "Training Accuracy: 0.9685, Testing Accuracy: 0.9723\n",
      "\n"
     ]
    },
    {
     "name": "stdout",
     "output_type": "stream",
     "text": [
      "Epoch 70, Loss 0.0259\n",
      "Training Accuracy: 0.9706, Testing Accuracy: 0.9733\n",
      "\n"
     ]
    },
    {
     "name": "stdout",
     "output_type": "stream",
     "text": [
      "Epoch 80, Loss 0.0246\n",
      "Training Accuracy: 0.9718, Testing Accuracy: 0.9733\n",
      "\n"
     ]
    },
    {
     "name": "stdout",
     "output_type": "stream",
     "text": [
      "Epoch 90, Loss 0.0236\n",
      "Training Accuracy: 0.9737, Testing Accuracy: 0.9743\n",
      "\n"
     ]
    },
    {
     "name": "stdout",
     "output_type": "stream",
     "text": [
      "Epoch 100, Loss 0.0227\n",
      "Training Accuracy: 0.9745, Testing Accuracy: 0.9758\n",
      "\n"
     ]
    },
    {
     "name": "stdout",
     "output_type": "stream",
     "text": [
      "Epoch 110, Loss 0.0218\n",
      "Training Accuracy: 0.9759, Testing Accuracy: 0.9748\n",
      "\n"
     ]
    },
    {
     "name": "stdout",
     "output_type": "stream",
     "text": [
      "Epoch 120, Loss 0.0211\n",
      "Training Accuracy: 0.9773, Testing Accuracy: 0.9758\n",
      "\n"
     ]
    },
    {
     "name": "stdout",
     "output_type": "stream",
     "text": [
      "Epoch 130, Loss 0.0204\n",
      "Training Accuracy: 0.9784, Testing Accuracy: 0.9758\n",
      "\n"
     ]
    },
    {
     "name": "stdout",
     "output_type": "stream",
     "text": [
      "Epoch 140, Loss 0.0197\n",
      "Training Accuracy: 0.9791, Testing Accuracy: 0.9758\n",
      "\n"
     ]
    },
    {
     "name": "stdout",
     "output_type": "stream",
     "text": [
      "Epoch 150, Loss 0.0191\n",
      "Training Accuracy: 0.9791, Testing Accuracy: 0.9768\n",
      "\n"
     ]
    },
    {
     "name": "stdout",
     "output_type": "stream",
     "text": [
      "Epoch 160, Loss 0.0185\n",
      "Training Accuracy: 0.9796, Testing Accuracy: 0.9773\n",
      "\n"
     ]
    },
    {
     "name": "stdout",
     "output_type": "stream",
     "text": [
      "Epoch 170, Loss 0.018\n",
      "Training Accuracy: 0.9800, Testing Accuracy: 0.9778\n",
      "\n"
     ]
    },
    {
     "name": "stdout",
     "output_type": "stream",
     "text": [
      "Epoch 180, Loss 0.0175\n",
      "Training Accuracy: 0.9802, Testing Accuracy: 0.9778\n",
      "\n"
     ]
    },
    {
     "name": "stdout",
     "output_type": "stream",
     "text": [
      "Epoch 190, Loss 0.0171\n",
      "Training Accuracy: 0.9804, Testing Accuracy: 0.9778\n",
      "\n"
     ]
    },
    {
     "name": "stdout",
     "output_type": "stream",
     "text": [
      "Epoch 200, Loss 0.0166\n",
      "Training Accuracy: 0.9810, Testing Accuracy: 0.9788\n",
      "\n"
     ]
    },
    {
     "name": "stdout",
     "output_type": "stream",
     "text": [
      "Epoch 210, Loss 0.0162\n",
      "Training Accuracy: 0.9821, Testing Accuracy: 0.9788\n",
      "\n"
     ]
    },
    {
     "name": "stdout",
     "output_type": "stream",
     "text": [
      "Epoch 220, Loss 0.0158\n",
      "Training Accuracy: 0.9828, Testing Accuracy: 0.9788\n",
      "\n"
     ]
    },
    {
     "name": "stdout",
     "output_type": "stream",
     "text": [
      "Epoch 230, Loss 0.0154\n",
      "Training Accuracy: 0.9832, Testing Accuracy: 0.9798\n",
      "\n"
     ]
    },
    {
     "name": "stdout",
     "output_type": "stream",
     "text": [
      "Epoch 240, Loss 0.015\n",
      "Training Accuracy: 0.9840, Testing Accuracy: 0.9798\n",
      "\n"
     ]
    },
    {
     "name": "stdout",
     "output_type": "stream",
     "text": [
      "Epoch 250, Loss 0.0147\n",
      "Training Accuracy: 0.9844, Testing Accuracy: 0.9803\n",
      "\n"
     ]
    },
    {
     "data": {
      "text/plain": [
       "0.0012465439760109252"
      ]
     },
     "execution_count": 20,
     "metadata": {},
     "output_type": "execute_result"
    }
   ],
   "source": [
    "print(\"====== Neural Network ======\")\n",
    "learner_nn.train_loop(dl)"
   ]
  },
  {
   "cell_type": "markdown",
   "metadata": {
    "papermill": {
     "duration": 0.036672,
     "end_time": "2021-01-13T20:30:51.321663",
     "exception": false,
     "start_time": "2021-01-13T20:30:51.284991",
     "status": "completed"
    },
    "tags": []
   },
   "source": [
    "### Logistic Regression based Implementation."
   ]
  },
  {
   "cell_type": "code",
   "execution_count": 21,
   "metadata": {
    "execution": {
     "iopub.execute_input": "2021-01-13T20:30:51.402046Z",
     "iopub.status.busy": "2021-01-13T20:30:51.401457Z",
     "iopub.status.idle": "2021-01-13T20:30:51.412875Z",
     "shell.execute_reply": "2021-01-13T20:30:51.412393Z"
    },
    "papermill": {
     "duration": 0.054516,
     "end_time": "2021-01-13T20:30:51.413014",
     "exception": false,
     "start_time": "2021-01-13T20:30:51.358498",
     "status": "completed"
    },
    "tags": []
   },
   "outputs": [],
   "source": [
    "learner_lr = Learner(loss, model_lr, opt, config.num_epochs)\n",
    "acc_lr = ClfCallback(learner_lr, config.bs, training_xdata , testing_xdata, training_ydata, testing_ydata)\n",
    "learner_lr.set_callbacks([acc_lr])"
   ]
  },
  {
   "cell_type": "code",
   "execution_count": 22,
   "metadata": {
    "execution": {
     "iopub.execute_input": "2021-01-13T20:30:51.492754Z",
     "iopub.status.busy": "2021-01-13T20:30:51.492068Z",
     "iopub.status.idle": "2021-01-13T20:31:06.804173Z",
     "shell.execute_reply": "2021-01-13T20:31:06.805004Z"
    },
    "papermill": {
     "duration": 15.354581,
     "end_time": "2021-01-13T20:31:06.805166",
     "exception": false,
     "start_time": "2021-01-13T20:30:51.450585",
     "status": "completed"
    },
    "tags": []
   },
   "outputs": [
    {
     "name": "stdout",
     "output_type": "stream",
     "text": [
      "====== Logistic Regression ======\n",
      "Epoch 0, Loss 0.241\n",
      "Training Accuracy: 0.6959, Testing Accuracy: 0.7263\n",
      "\n"
     ]
    },
    {
     "name": "stdout",
     "output_type": "stream",
     "text": [
      "Epoch 10, Loss 0.1045\n",
      "Training Accuracy: 0.9067, Testing Accuracy: 0.9214\n",
      "\n"
     ]
    },
    {
     "name": "stdout",
     "output_type": "stream",
     "text": [
      "Epoch 20, Loss 0.08\n",
      "Training Accuracy: 0.9264, Testing Accuracy: 0.9410\n",
      "\n"
     ]
    },
    {
     "name": "stdout",
     "output_type": "stream",
     "text": [
      "Epoch 30, Loss 0.0687\n",
      "Training Accuracy: 0.9357, Testing Accuracy: 0.9506\n",
      "\n"
     ]
    },
    {
     "name": "stdout",
     "output_type": "stream",
     "text": [
      "Epoch 40, Loss 0.0619\n",
      "Training Accuracy: 0.9404, Testing Accuracy: 0.9546\n",
      "\n"
     ]
    },
    {
     "name": "stdout",
     "output_type": "stream",
     "text": [
      "Epoch 50, Loss 0.0573\n",
      "Training Accuracy: 0.9445, Testing Accuracy: 0.9582\n",
      "\n"
     ]
    },
    {
     "name": "stdout",
     "output_type": "stream",
     "text": [
      "Epoch 60, Loss 0.0539\n",
      "Training Accuracy: 0.9473, Testing Accuracy: 0.9597\n",
      "\n"
     ]
    },
    {
     "name": "stdout",
     "output_type": "stream",
     "text": [
      "Epoch 70, Loss 0.0513\n",
      "Training Accuracy: 0.9494, Testing Accuracy: 0.9612\n",
      "\n"
     ]
    },
    {
     "name": "stdout",
     "output_type": "stream",
     "text": [
      "Epoch 80, Loss 0.0492\n",
      "Training Accuracy: 0.9510, Testing Accuracy: 0.9622\n",
      "\n"
     ]
    },
    {
     "name": "stdout",
     "output_type": "stream",
     "text": [
      "Epoch 90, Loss 0.0475\n",
      "Training Accuracy: 0.9530, Testing Accuracy: 0.9637\n",
      "\n"
     ]
    },
    {
     "name": "stdout",
     "output_type": "stream",
     "text": [
      "Epoch 100, Loss 0.0461\n",
      "Training Accuracy: 0.9547, Testing Accuracy: 0.9652\n",
      "\n"
     ]
    },
    {
     "name": "stdout",
     "output_type": "stream",
     "text": [
      "Epoch 110, Loss 0.0449\n",
      "Training Accuracy: 0.9553, Testing Accuracy: 0.9657\n",
      "\n"
     ]
    },
    {
     "name": "stdout",
     "output_type": "stream",
     "text": [
      "Epoch 120, Loss 0.0438\n",
      "Training Accuracy: 0.9563, Testing Accuracy: 0.9662\n",
      "\n"
     ]
    },
    {
     "name": "stdout",
     "output_type": "stream",
     "text": [
      "Epoch 130, Loss 0.0429\n",
      "Training Accuracy: 0.9571, Testing Accuracy: 0.9672\n",
      "\n"
     ]
    },
    {
     "name": "stdout",
     "output_type": "stream",
     "text": [
      "Epoch 140, Loss 0.042\n",
      "Training Accuracy: 0.9574, Testing Accuracy: 0.9672\n",
      "\n"
     ]
    },
    {
     "name": "stdout",
     "output_type": "stream",
     "text": [
      "Epoch 150, Loss 0.0413\n",
      "Training Accuracy: 0.9581, Testing Accuracy: 0.9672\n",
      "\n"
     ]
    },
    {
     "name": "stdout",
     "output_type": "stream",
     "text": [
      "Epoch 160, Loss 0.0406\n",
      "Training Accuracy: 0.9586, Testing Accuracy: 0.9682\n",
      "\n"
     ]
    },
    {
     "name": "stdout",
     "output_type": "stream",
     "text": [
      "Epoch 170, Loss 0.04\n",
      "Training Accuracy: 0.9586, Testing Accuracy: 0.9688\n",
      "\n"
     ]
    },
    {
     "name": "stdout",
     "output_type": "stream",
     "text": [
      "Epoch 180, Loss 0.0394\n",
      "Training Accuracy: 0.9590, Testing Accuracy: 0.9688\n",
      "\n"
     ]
    },
    {
     "name": "stdout",
     "output_type": "stream",
     "text": [
      "Epoch 190, Loss 0.0389\n",
      "Training Accuracy: 0.9592, Testing Accuracy: 0.9682\n",
      "\n"
     ]
    },
    {
     "name": "stdout",
     "output_type": "stream",
     "text": [
      "Epoch 200, Loss 0.0384\n",
      "Training Accuracy: 0.9596, Testing Accuracy: 0.9688\n",
      "\n"
     ]
    },
    {
     "name": "stdout",
     "output_type": "stream",
     "text": [
      "Epoch 210, Loss 0.038\n",
      "Training Accuracy: 0.9604, Testing Accuracy: 0.9682\n",
      "\n"
     ]
    },
    {
     "name": "stdout",
     "output_type": "stream",
     "text": [
      "Epoch 220, Loss 0.0376\n",
      "Training Accuracy: 0.9609, Testing Accuracy: 0.9677\n",
      "\n"
     ]
    },
    {
     "name": "stdout",
     "output_type": "stream",
     "text": [
      "Epoch 230, Loss 0.0372\n",
      "Training Accuracy: 0.9612, Testing Accuracy: 0.9682\n",
      "\n"
     ]
    },
    {
     "name": "stdout",
     "output_type": "stream",
     "text": [
      "Epoch 240, Loss 0.0368\n",
      "Training Accuracy: 0.9614, Testing Accuracy: 0.9677\n",
      "\n"
     ]
    },
    {
     "name": "stdout",
     "output_type": "stream",
     "text": [
      "Epoch 250, Loss 0.0365\n",
      "Training Accuracy: 0.9618, Testing Accuracy: 0.9682\n",
      "\n"
     ]
    },
    {
     "data": {
      "text/plain": [
       "0.03466992266709444"
      ]
     },
     "execution_count": 22,
     "metadata": {},
     "output_type": "execute_result"
    }
   ],
   "source": [
    "print(\"====== Logistic Regression ======\")\n",
    "learner_lr.train_loop(dl)"
   ]
  },
  {
   "cell_type": "markdown",
   "metadata": {
    "papermill": {
     "duration": 0.042751,
     "end_time": "2021-01-13T20:31:06.892815",
     "exception": false,
     "start_time": "2021-01-13T20:31:06.850064",
     "status": "completed"
    },
    "tags": []
   },
   "source": [
    "### Comparing results of NN and LR"
   ]
  },
  {
   "cell_type": "code",
   "execution_count": 23,
   "metadata": {
    "execution": {
     "iopub.execute_input": "2021-01-13T20:31:06.985032Z",
     "iopub.status.busy": "2021-01-13T20:31:06.983970Z",
     "iopub.status.idle": "2021-01-13T20:31:07.216880Z",
     "shell.execute_reply": "2021-01-13T20:31:07.216364Z"
    },
    "papermill": {
     "duration": 0.281325,
     "end_time": "2021-01-13T20:31:07.217015",
     "exception": false,
     "start_time": "2021-01-13T20:31:06.935690",
     "status": "completed"
    },
    "tags": []
   },
   "outputs": [
    {
     "data": {
      "text/plain": [
       "<matplotlib.legend.Legend at 0x7fe42bcb3048>"
      ]
     },
     "execution_count": 23,
     "metadata": {},
     "output_type": "execute_result"
    },
    {
     "data": {
      "image/png": "[encoded data removed]",
      "text/plain": [
       "<Figure size 1080x720 with 1 Axes>"
      ]
     },
     "metadata": {
      "needs_background": "light"
     },
     "output_type": "display_data"
    }
   ],
   "source": [
    "plt.figure(figsize=(15,10))\n",
    "\n",
    "# Neural Network plots\n",
    "plt.plot(acc_nn.accuracies, 'r-', label = \"Training Accuracies - NN\")\n",
    "plt.plot(acc_nn.test_accuracies, 'g-', label = \"Testing Accuracies - NN\")\n",
    "\n",
    "# Logistic Regression plots\n",
    "plt.plot(acc_lr.accuracies, 'k-', label = \"Training Accuracies - LR\")\n",
    "plt.plot(acc_lr.test_accuracies, 'b-', label = \"Testing Accuracies - LR\")\n",
    "\n",
    "plt.ylim(0.8, 1)\n",
    "\n",
    "plt.legend()\n",
    "\n"
   ]
  },
  {
   "cell_type": "markdown",
   "metadata": {
    "papermill": {
     "duration": 0.046036,
     "end_time": "2021-01-13T20:31:07.309959",
     "exception": false,
     "start_time": "2021-01-13T20:31:07.263923",
     "status": "completed"
    },
    "tags": []
   },
   "source": [
    "### From the plot, we can observe the following:\n",
    "- Neural Network achieves higher accuracy than the Logistic Regression model.\n",
    "- This apparently, is because of overfitting, i.e. NN captures more noise than data.\n",
    "- Testing accuracy of NN drops below the Training accuracy at higher epochs. This explains the over-fitting on training data.\n",
    "- Logistic Regression gives a reliable accuracy, without the above mentioned problem.\n"
   ]
  },
  {
   "cell_type": "markdown",
   "metadata": {
    "papermill": {
     "duration": 0.046016,
     "end_time": "2021-01-13T20:31:07.400829",
     "exception": false,
     "start_time": "2021-01-13T20:31:07.354813",
     "status": "completed"
    },
    "tags": []
   },
   "source": [
    "### Moving till the last but one layer (excluding it).\n",
    "#### Plotting the outputs of this layer of the NN."
   ]
  },
  {
   "cell_type": "code",
   "execution_count": 24,
   "metadata": {
    "execution": {
     "iopub.execute_input": "2021-01-13T20:31:07.496599Z",
     "iopub.status.busy": "2021-01-13T20:31:07.495985Z",
     "iopub.status.idle": "2021-01-13T20:31:07.509856Z",
     "shell.execute_reply": "2021-01-13T20:31:07.509218Z"
    },
    "papermill": {
     "duration": 0.063368,
     "end_time": "2021-01-13T20:31:07.509978",
     "exception": false,
     "start_time": "2021-01-13T20:31:07.446610",
     "status": "completed"
    },
    "tags": []
   },
   "outputs": [],
   "source": [
    "model_new = Model(layers[:-2])"
   ]
  },
  {
   "cell_type": "code",
   "execution_count": 25,
   "metadata": {
    "execution": {
     "iopub.execute_input": "2021-01-13T20:31:07.616619Z",
     "iopub.status.busy": "2021-01-13T20:31:07.616012Z",
     "iopub.status.idle": "2021-01-13T20:31:07.636670Z",
     "shell.execute_reply": "2021-01-13T20:31:07.637144Z"
    },
    "papermill": {
     "duration": 0.072616,
     "end_time": "2021-01-13T20:31:07.637323",
     "exception": false,
     "start_time": "2021-01-13T20:31:07.564707",
     "status": "completed"
    },
    "tags": []
   },
   "outputs": [],
   "source": [
    "plot_testing = model_new(testing_xdata)"
   ]
  },
  {
   "cell_type": "code",
   "execution_count": 26,
   "metadata": {
    "execution": {
     "iopub.execute_input": "2021-01-13T20:31:07.738562Z",
     "iopub.status.busy": "2021-01-13T20:31:07.737966Z",
     "iopub.status.idle": "2021-01-13T20:31:07.945866Z",
     "shell.execute_reply": "2021-01-13T20:31:07.946615Z"
    },
    "papermill": {
     "duration": 0.261599,
     "end_time": "2021-01-13T20:31:07.946835",
     "exception": false,
     "start_time": "2021-01-13T20:31:07.685236",
     "status": "completed"
    },
    "tags": []
   },
   "outputs": [
    {
     "data": {
      "text/plain": [
       "Text(0.5, 1.0, 'Outputs')"
      ]
     },
     "execution_count": 26,
     "metadata": {},
     "output_type": "execute_result"
    },
    {
     "data": {
      "image/png": "[encoded data removed]",
      "text/plain": [
       "<Figure size 576x504 with 1 Axes>"
      ]
     },
     "metadata": {
      "needs_background": "light"
     },
     "output_type": "display_data"
    }
   ],
   "source": [
    "plt.figure(figsize=(8,7))\n",
    "plt.scatter(plot_testing[:,0], plot_testing[:,1], alpha = 0.1, c = y_test.ravel());\n",
    "plt.title('Outputs')"
   ]
  },
  {
   "cell_type": "markdown",
   "metadata": {
    "papermill": {
     "duration": 0.04824,
     "end_time": "2021-01-13T20:31:08.045248",
     "exception": false,
     "start_time": "2021-01-13T20:31:07.997008",
     "status": "completed"
    },
    "tags": []
   },
   "source": [
    "### Plotting probability contours"
   ]
  },
  {
   "cell_type": "code",
   "execution_count": 27,
   "metadata": {
    "execution": {
     "iopub.execute_input": "2021-01-13T20:31:08.145546Z",
     "iopub.status.busy": "2021-01-13T20:31:08.144913Z",
     "iopub.status.idle": "2021-01-13T20:31:08.157713Z",
     "shell.execute_reply": "2021-01-13T20:31:08.158168Z"
    },
    "papermill": {
     "duration": 0.064815,
     "end_time": "2021-01-13T20:31:08.158326",
     "exception": false,
     "start_time": "2021-01-13T20:31:08.093511",
     "status": "completed"
    },
    "tags": []
   },
   "outputs": [],
   "source": [
    "model_prob = Model(layers[-2:]) "
   ]
  },
  {
   "cell_type": "code",
   "execution_count": 28,
   "metadata": {
    "execution": {
     "iopub.execute_input": "2021-01-13T20:31:08.266192Z",
     "iopub.status.busy": "2021-01-13T20:31:08.259742Z",
     "iopub.status.idle": "2021-01-13T20:31:08.274598Z",
     "shell.execute_reply": "2021-01-13T20:31:08.275051Z"
    },
    "papermill": {
     "duration": 0.068897,
     "end_time": "2021-01-13T20:31:08.275209",
     "exception": false,
     "start_time": "2021-01-13T20:31:08.206312",
     "status": "completed"
    },
    "tags": []
   },
   "outputs": [],
   "source": [
    "# Adjust the x and y ranges according to the above generated plot.\n",
    "x_range = np.linspace(-4, 1, 100) \n",
    "y_range = np.linspace(-6, 6, 100) \n",
    "x_grid, y_grid = np.meshgrid(x_range, y_range) # x_grid and y_grig are of size 100 X 100\n",
    "\n",
    "# converting x_grid and y_grid to continuous arrays\n",
    "x_grid_flat = np.ravel(x_grid)\n",
    "y_grid_flat = np.ravel(y_grid)\n",
    "\n",
    "# The last layer of the current model takes two columns as input. Hence transpose of np.vstack() is required.\n",
    "X = np.vstack((x_grid_flat, y_grid_flat)).T\n",
    "\n",
    "# x_grid and y_grid are of size 100 x 100\n",
    "probability_contour = model_prob(X).reshape(100,100) "
   ]
  },
  {
   "cell_type": "code",
   "execution_count": 29,
   "metadata": {
    "execution": {
     "iopub.execute_input": "2021-01-13T20:31:08.412503Z",
     "iopub.status.busy": "2021-01-13T20:31:08.411956Z",
     "iopub.status.idle": "2021-01-13T20:31:08.679132Z",
     "shell.execute_reply": "2021-01-13T20:31:08.678609Z"
    },
    "papermill": {
     "duration": 0.321452,
     "end_time": "2021-01-13T20:31:08.679268",
     "exception": false,
     "start_time": "2021-01-13T20:31:08.357816",
     "status": "completed"
    },
    "tags": []
   },
   "outputs": [
    {
     "data": {
      "image/png": "[encoded data removed]",
      "text/plain": [
       "<Figure size 720x648 with 1 Axes>"
      ]
     },
     "metadata": {
      "needs_background": "light"
     },
     "output_type": "display_data"
    }
   ],
   "source": [
    "plt.figure(figsize=(10,9))\n",
    "plt.scatter(plot_testing[:,0], plot_testing[:,1], alpha = 0.1, c = y_test.ravel())\n",
    "contours = plt.contour(x_grid,y_grid,probability_contour)\n",
    "plt.title('Probability Contours')\n",
    "plt.clabel(contours, inline = True );"
   ]
  }
 ],
 "metadata": {
  "kernelspec": {
   "display_name": "Python 3",
   "language": "python",
   "name": "python3"
  },
  "language_info": {
   "codemirror_mode": {
    "name": "ipython",
    "version": 3
   },
   "file_extension": ".py",
   "mimetype": "text/x-python",
   "name": "python",
   "nbconvert_exporter": "python",
   "pygments_lexer": "ipython3",
   "version": "3.6.12"
  },
  "papermill": {
   "duration": 113.281867,
   "end_time": "2021-01-13T20:31:09.139628",
   "environment_variables": {},
   "exception": null,
   "input_path": "2020-08-11-NeuralNetwork.ipynb",
   "output_path": "2020-08-11-NeuralNetwork.ipynb",
   "parameters": {},
   "start_time": "2021-01-13T20:29:15.857761",
   "version": "2.1.2"
  }
 },
 "nbformat": 4,
 "nbformat_minor": 4
}