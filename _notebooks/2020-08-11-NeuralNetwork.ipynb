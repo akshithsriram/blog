{
 "cells": [
  {
   "cell_type": "markdown",
   "metadata": {
    "papermill": {
     "duration": 0.031523,
     "end_time": "2020-10-15T00:16:34.074860",
     "exception": false,
     "start_time": "2020-10-15T00:16:34.043337",
     "status": "completed"
    },
    "tags": []
   },
   "source": [
    "# \"A Basic Neural Network: Differentiate Hand-Written Digits\"\n",
    "\n",
    "- badges: true\n",
    "- author: Akshith Sriram"
   ]
  },
  {
   "cell_type": "markdown",
   "metadata": {
    "papermill": {
     "duration": 0.029083,
     "end_time": "2020-10-15T00:16:34.611167",
     "exception": false,
     "start_time": "2020-10-15T00:16:34.582084",
     "status": "completed"
    },
    "tags": []
   },
   "source": [
    "### Key Objectives:\n",
    "- Building a neural network that differentiates two hand-written digits 3 and 8.\n",
    "- Comparing the results of this Neural Network (NN) to that of a Logistic Regression (LR) model.\n",
    "\n",
    "### Requirements:\n",
    "- 'Kudzu' : A neural network library that was designed during our course by [Univ.AI](www.univ.ai). \n",
    "- MNIST Database\n",
    "\n",
    "If MNIST is not installed, use the command `!pip install mnist` given below.\n",
    "It can be run both from the command line and Jupyter Notebook."
   ]
  },
  {
   "cell_type": "code",
   "execution_count": 1,
   "metadata": {
    "execution": {
     "iopub.execute_input": "2020-10-15T00:16:34.666650Z",
     "iopub.status.busy": "2020-10-15T00:16:34.665899Z",
     "iopub.status.idle": "2020-10-15T00:16:36.042432Z",
     "shell.execute_reply": "2020-10-15T00:16:36.041669Z"
    },
    "papermill": {
     "duration": 1.405444,
     "end_time": "2020-10-15T00:16:36.042624",
     "exception": false,
     "start_time": "2020-10-15T00:16:34.637180",
     "status": "completed"
    },
    "tags": []
   },
   "outputs": [
    {
     "name": "stdout",
     "output_type": "stream",
     "text": [
      "Collecting mnist\r\n"
     ]
    },
    {
     "name": "stdout",
     "output_type": "stream",
     "text": [
      "  Downloading mnist-0.2.2-py2.py3-none-any.whl (3.5 kB)\r\n"
     ]
    },
    {
     "name": "stdout",
     "output_type": "stream",
     "text": [
      "Requirement already satisfied: numpy in /opt/hostedtoolcache/Python/3.6.12/x64/lib/python3.6/site-packages (from mnist) (1.19.2)\r\n"
     ]
    },
    {
     "name": "stdout",
     "output_type": "stream",
     "text": [
      "Installing collected packages: mnist\r\n"
     ]
    },
    {
     "name": "stdout",
     "output_type": "stream",
     "text": [
      "Successfully installed mnist-0.2.2\r\n"
     ]
    }
   ],
   "source": [
    "!pip install mnist "
   ]
  },
  {
   "cell_type": "markdown",
   "metadata": {
    "papermill": {
     "duration": 0.028027,
     "end_time": "2020-10-15T00:16:36.097356",
     "exception": false,
     "start_time": "2020-10-15T00:16:36.069329",
     "status": "completed"
    },
    "tags": []
   },
   "source": [
    "#### Importing necessary libraries"
   ]
  },
  {
   "cell_type": "code",
   "execution_count": 2,
   "metadata": {
    "execution": {
     "iopub.execute_input": "2020-10-15T00:16:36.156522Z",
     "iopub.status.busy": "2020-10-15T00:16:36.155954Z",
     "iopub.status.idle": "2020-10-15T00:16:36.737565Z",
     "shell.execute_reply": "2020-10-15T00:16:36.736489Z"
    },
    "papermill": {
     "duration": 0.614815,
     "end_time": "2020-10-15T00:16:36.737842",
     "exception": false,
     "start_time": "2020-10-15T00:16:36.123027",
     "status": "completed"
    },
    "tags": []
   },
   "outputs": [],
   "source": [
    "%load_ext autoreload\n",
    "%autoreload 2\n",
    "\n",
    "%matplotlib inline\n",
    "import matplotlib.pyplot as plt\n",
    "\n",
    "import numpy as np\n",
    "import pandas as pd"
   ]
  },
  {
   "cell_type": "markdown",
   "metadata": {
    "papermill": {
     "duration": 0.024164,
     "end_time": "2020-10-15T00:16:36.792004",
     "exception": false,
     "start_time": "2020-10-15T00:16:36.767840",
     "status": "completed"
    },
    "tags": []
   },
   "source": [
    "### Preparing the Data"
   ]
  },
  {
   "cell_type": "code",
   "execution_count": 3,
   "metadata": {
    "execution": {
     "iopub.execute_input": "2020-10-15T00:16:36.852753Z",
     "iopub.status.busy": "2020-10-15T00:16:36.847131Z",
     "iopub.status.idle": "2020-10-15T00:16:36.860916Z",
     "shell.execute_reply": "2020-10-15T00:16:36.860319Z"
    },
    "papermill": {
     "duration": 0.043416,
     "end_time": "2020-10-15T00:16:36.861043",
     "exception": false,
     "start_time": "2020-10-15T00:16:36.817627",
     "status": "completed"
    },
    "tags": []
   },
   "outputs": [],
   "source": [
    "import mnist"
   ]
  },
  {
   "cell_type": "code",
   "execution_count": 4,
   "metadata": {
    "execution": {
     "iopub.execute_input": "2020-10-15T00:16:36.914132Z",
     "iopub.status.busy": "2020-10-15T00:16:36.913565Z",
     "iopub.status.idle": "2020-10-15T00:16:37.676507Z",
     "shell.execute_reply": "2020-10-15T00:16:37.675828Z"
    },
    "papermill": {
     "duration": 0.791264,
     "end_time": "2020-10-15T00:16:37.676649",
     "exception": false,
     "start_time": "2020-10-15T00:16:36.885385",
     "status": "completed"
    },
    "tags": []
   },
   "outputs": [],
   "source": [
    "train_images = mnist.train_images()\n",
    "train_labels = mnist.train_labels()"
   ]
  },
  {
   "cell_type": "code",
   "execution_count": 5,
   "metadata": {
    "execution": {
     "iopub.execute_input": "2020-10-15T00:16:37.732050Z",
     "iopub.status.busy": "2020-10-15T00:16:37.731425Z",
     "iopub.status.idle": "2020-10-15T00:16:37.747614Z",
     "shell.execute_reply": "2020-10-15T00:16:37.747132Z"
    },
    "papermill": {
     "duration": 0.045732,
     "end_time": "2020-10-15T00:16:37.747760",
     "exception": false,
     "start_time": "2020-10-15T00:16:37.702028",
     "status": "completed"
    },
    "tags": []
   },
   "outputs": [
    {
     "data": {
      "text/plain": [
       "((60000, 28, 28), (60000,))"
      ]
     },
     "execution_count": 5,
     "metadata": {},
     "output_type": "execute_result"
    }
   ],
   "source": [
    "train_images.shape, train_labels.shape"
   ]
  },
  {
   "cell_type": "code",
   "execution_count": 6,
   "metadata": {
    "execution": {
     "iopub.execute_input": "2020-10-15T00:16:37.801451Z",
     "iopub.status.busy": "2020-10-15T00:16:37.800914Z",
     "iopub.status.idle": "2020-10-15T00:16:38.053227Z",
     "shell.execute_reply": "2020-10-15T00:16:38.052658Z"
    },
    "papermill": {
     "duration": 0.280565,
     "end_time": "2020-10-15T00:16:38.053369",
     "exception": false,
     "start_time": "2020-10-15T00:16:37.772804",
     "status": "completed"
    },
    "tags": []
   },
   "outputs": [],
   "source": [
    "test_images = mnist.test_images()\n",
    "test_labels = mnist.test_labels()"
   ]
  },
  {
   "cell_type": "code",
   "execution_count": 7,
   "metadata": {
    "execution": {
     "iopub.execute_input": "2020-10-15T00:16:38.107969Z",
     "iopub.status.busy": "2020-10-15T00:16:38.107377Z",
     "iopub.status.idle": "2020-10-15T00:16:38.121262Z",
     "shell.execute_reply": "2020-10-15T00:16:38.121695Z"
    },
    "papermill": {
     "duration": 0.042928,
     "end_time": "2020-10-15T00:16:38.121819",
     "exception": false,
     "start_time": "2020-10-15T00:16:38.078891",
     "status": "completed"
    },
    "tags": []
   },
   "outputs": [
    {
     "data": {
      "text/plain": [
       "((10000, 28, 28), (10000,))"
      ]
     },
     "execution_count": 7,
     "metadata": {},
     "output_type": "execute_result"
    }
   ],
   "source": [
    "test_images.shape, test_labels.shape"
   ]
  },
  {
   "cell_type": "code",
   "execution_count": 8,
   "metadata": {
    "execution": {
     "iopub.execute_input": "2020-10-15T00:16:38.179313Z",
     "iopub.status.busy": "2020-10-15T00:16:38.178770Z",
     "iopub.status.idle": "2020-10-15T00:16:38.322898Z",
     "shell.execute_reply": "2020-10-15T00:16:38.322368Z"
    },
    "papermill": {
     "duration": 0.176086,
     "end_time": "2020-10-15T00:16:38.323033",
     "exception": false,
     "start_time": "2020-10-15T00:16:38.146947",
     "status": "completed"
    },
    "tags": []
   },
   "outputs": [
    {
     "name": "stdout",
     "output_type": "stream",
     "text": [
      "2\n"
     ]
    },
    {
     "data": {
      "text/plain": [
       "<matplotlib.image.AxesImage at 0x7ff9c020e9b0>"
      ]
     },
     "execution_count": 8,
     "metadata": {},
     "output_type": "execute_result"
    },
    {
     "data": {
      "image/png": "[encoded data removed]",
      "text/plain": [
       "<Figure size 432x288 with 1 Axes>"
      ]
     },
     "metadata": {
      "needs_background": "light"
     },
     "output_type": "display_data"
    }
   ],
   "source": [
    "image_index = 7776 # You may select anything up to 60,000\n",
    "print(train_labels[image_index]) \n",
    "plt.imshow(train_images[image_index], cmap='Greys')"
   ]
  },
  {
   "cell_type": "markdown",
   "metadata": {
    "papermill": {
     "duration": 0.027319,
     "end_time": "2020-10-15T00:16:38.377830",
     "exception": false,
     "start_time": "2020-10-15T00:16:38.350511",
     "status": "completed"
    },
    "tags": []
   },
   "source": [
    "## Filter data to get 3 and 8 out"
   ]
  },
  {
   "cell_type": "code",
   "execution_count": 9,
   "metadata": {
    "execution": {
     "iopub.execute_input": "2020-10-15T00:16:38.437787Z",
     "iopub.status.busy": "2020-10-15T00:16:38.437221Z",
     "iopub.status.idle": "2020-10-15T00:16:38.457322Z",
     "shell.execute_reply": "2020-10-15T00:16:38.456825Z"
    },
    "papermill": {
     "duration": 0.052889,
     "end_time": "2020-10-15T00:16:38.457459",
     "exception": false,
     "start_time": "2020-10-15T00:16:38.404570",
     "status": "completed"
    },
    "tags": []
   },
   "outputs": [],
   "source": [
    "train_filter = np.where((train_labels == 3 ) | (train_labels == 8))\n",
    "test_filter = np.where((test_labels == 3) | (test_labels == 8))\n",
    "X_train, y_train = train_images[train_filter], train_labels[train_filter]\n",
    "X_test, y_test = test_images[test_filter], test_labels[test_filter]"
   ]
  },
  {
   "cell_type": "markdown",
   "metadata": {
    "papermill": {
     "duration": 0.025916,
     "end_time": "2020-10-15T00:16:38.508991",
     "exception": false,
     "start_time": "2020-10-15T00:16:38.483075",
     "status": "completed"
    },
    "tags": []
   },
   "source": [
    "We normalize the pixel values in the 0 to 1 range"
   ]
  },
  {
   "cell_type": "code",
   "execution_count": 10,
   "metadata": {
    "execution": {
     "iopub.execute_input": "2020-10-15T00:16:38.568149Z",
     "iopub.status.busy": "2020-10-15T00:16:38.567503Z",
     "iopub.status.idle": "2020-10-15T00:16:38.619844Z",
     "shell.execute_reply": "2020-10-15T00:16:38.619219Z"
    },
    "papermill": {
     "duration": 0.084586,
     "end_time": "2020-10-15T00:16:38.619985",
     "exception": false,
     "start_time": "2020-10-15T00:16:38.535399",
     "status": "completed"
    },
    "tags": []
   },
   "outputs": [],
   "source": [
    "X_train = X_train/255.\n",
    "X_test = X_test/255."
   ]
  },
  {
   "cell_type": "markdown",
   "metadata": {
    "papermill": {
     "duration": 0.027164,
     "end_time": "2020-10-15T00:16:38.674678",
     "exception": false,
     "start_time": "2020-10-15T00:16:38.647514",
     "status": "completed"
    },
    "tags": []
   },
   "source": [
    "Setup the labels as 1 (when the digit is 3) and 0 (when the digit is 8)"
   ]
  },
  {
   "cell_type": "code",
   "execution_count": 11,
   "metadata": {
    "execution": {
     "iopub.execute_input": "2020-10-15T00:16:38.731952Z",
     "iopub.status.busy": "2020-10-15T00:16:38.731366Z",
     "iopub.status.idle": "2020-10-15T00:16:38.744149Z",
     "shell.execute_reply": "2020-10-15T00:16:38.744643Z"
    },
    "papermill": {
     "duration": 0.044438,
     "end_time": "2020-10-15T00:16:38.744797",
     "exception": false,
     "start_time": "2020-10-15T00:16:38.700359",
     "status": "completed"
    },
    "tags": []
   },
   "outputs": [],
   "source": [
    "y_train = 1*(y_train==3)\n",
    "y_test = 1*(y_test==3)"
   ]
  },
  {
   "cell_type": "code",
   "execution_count": 12,
   "metadata": {
    "execution": {
     "iopub.execute_input": "2020-10-15T00:16:38.807864Z",
     "iopub.status.busy": "2020-10-15T00:16:38.806864Z",
     "iopub.status.idle": "2020-10-15T00:16:38.823287Z",
     "shell.execute_reply": "2020-10-15T00:16:38.822776Z"
    },
    "papermill": {
     "duration": 0.046399,
     "end_time": "2020-10-15T00:16:38.823414",
     "exception": false,
     "start_time": "2020-10-15T00:16:38.777015",
     "status": "completed"
    },
    "tags": []
   },
   "outputs": [
    {
     "data": {
      "text/plain": [
       "((11982, 28, 28), (1984, 28, 28))"
      ]
     },
     "execution_count": 12,
     "metadata": {},
     "output_type": "execute_result"
    }
   ],
   "source": [
    "X_train.shape, X_test.shape"
   ]
  },
  {
   "cell_type": "markdown",
   "metadata": {
    "papermill": {
     "duration": 0.027669,
     "end_time": "2020-10-15T00:16:38.877866",
     "exception": false,
     "start_time": "2020-10-15T00:16:38.850197",
     "status": "completed"
    },
    "tags": []
   },
   "source": [
    "### Reshape the input data to create a linear array"
   ]
  },
  {
   "cell_type": "code",
   "execution_count": 13,
   "metadata": {
    "execution": {
     "iopub.execute_input": "2020-10-15T00:16:39.023359Z",
     "iopub.status.busy": "2020-10-15T00:16:39.022777Z",
     "iopub.status.idle": "2020-10-15T00:16:39.037754Z",
     "shell.execute_reply": "2020-10-15T00:16:39.037281Z"
    },
    "papermill": {
     "duration": 0.049594,
     "end_time": "2020-10-15T00:16:39.037891",
     "exception": false,
     "start_time": "2020-10-15T00:16:38.988297",
     "status": "completed"
    },
    "tags": []
   },
   "outputs": [
    {
     "data": {
      "text/plain": [
       "((11982, 784), (1984, 784))"
      ]
     },
     "execution_count": 13,
     "metadata": {},
     "output_type": "execute_result"
    }
   ],
   "source": [
    "X_train = X_train.reshape(X_train.shape[0], -1)\n",
    "X_test = X_test.reshape(X_test.shape[0], -1)\n",
    "X_train.shape, X_test.shape"
   ]
  },
  {
   "cell_type": "markdown",
   "metadata": {
    "papermill": {
     "duration": 0.035623,
     "end_time": "2020-10-15T00:16:39.103017",
     "exception": false,
     "start_time": "2020-10-15T00:16:39.067394",
     "status": "completed"
    },
    "tags": []
   },
   "source": [
    "### Importing appropriate functions from 'Kudzu'"
   ]
  },
  {
   "cell_type": "code",
   "execution_count": 14,
   "metadata": {
    "execution": {
     "iopub.execute_input": "2020-10-15T00:16:39.161934Z",
     "iopub.status.busy": "2020-10-15T00:16:39.161382Z",
     "iopub.status.idle": "2020-10-15T00:16:39.183902Z",
     "shell.execute_reply": "2020-10-15T00:16:39.184462Z"
    },
    "papermill": {
     "duration": 0.054672,
     "end_time": "2020-10-15T00:16:39.184645",
     "exception": false,
     "start_time": "2020-10-15T00:16:39.129973",
     "status": "completed"
    },
    "tags": []
   },
   "outputs": [],
   "source": [
    "from kudzu.layer import Sigmoid\n",
    "from kudzu.layer import Relu\n",
    "from kudzu.layer import Affine, Sigmoid\n",
    "\n",
    "from kudzu.model import Model\n",
    "from kudzu.train import Learner\n",
    "from kudzu.optim import GD\n",
    "from kudzu.data import Data, Dataloader, Sampler\n",
    "\n",
    "from kudzu.callbacks import AccCallback\n",
    "from kudzu.callbacks import ClfCallback\n",
    "\n",
    "from kudzu.loss import MSE"
   ]
  },
  {
   "cell_type": "markdown",
   "metadata": {
    "papermill": {
     "duration": 0.028074,
     "end_time": "2020-10-15T00:16:39.241048",
     "exception": false,
     "start_time": "2020-10-15T00:16:39.212974",
     "status": "completed"
    },
    "tags": []
   },
   "source": [
    "### Let us create a `Config` class, to store important parameters. \n",
    "This class essentially plays the role of a dictionary."
   ]
  },
  {
   "cell_type": "code",
   "execution_count": 15,
   "metadata": {
    "execution": {
     "iopub.execute_input": "2020-10-15T00:16:39.303615Z",
     "iopub.status.busy": "2020-10-15T00:16:39.302973Z",
     "iopub.status.idle": "2020-10-15T00:16:39.316896Z",
     "shell.execute_reply": "2020-10-15T00:16:39.316404Z"
    },
    "papermill": {
     "duration": 0.047253,
     "end_time": "2020-10-15T00:16:39.317016",
     "exception": false,
     "start_time": "2020-10-15T00:16:39.269763",
     "status": "completed"
    },
    "tags": []
   },
   "outputs": [],
   "source": [
    "class Config:\n",
    "    pass\n",
    "config = Config()\n",
    "config.lr = 0.001\n",
    "config.num_epochs = 251\n",
    "config.bs = 50"
   ]
  },
  {
   "cell_type": "markdown",
   "metadata": {
    "papermill": {
     "duration": 0.029395,
     "end_time": "2020-10-15T00:16:39.373897",
     "exception": false,
     "start_time": "2020-10-15T00:16:39.344502",
     "status": "completed"
    },
    "tags": []
   },
   "source": [
    "### Initializing data to the variables"
   ]
  },
  {
   "cell_type": "code",
   "execution_count": 16,
   "metadata": {
    "execution": {
     "iopub.execute_input": "2020-10-15T00:16:39.434159Z",
     "iopub.status.busy": "2020-10-15T00:16:39.433524Z",
     "iopub.status.idle": "2020-10-15T00:16:39.445888Z",
     "shell.execute_reply": "2020-10-15T00:16:39.446312Z"
    },
    "papermill": {
     "duration": 0.045256,
     "end_time": "2020-10-15T00:16:39.446454",
     "exception": false,
     "start_time": "2020-10-15T00:16:39.401198",
     "status": "completed"
    },
    "tags": []
   },
   "outputs": [],
   "source": [
    "data = Data(X_train, y_train.reshape(-1,1))\n",
    "sampler = Sampler(data, config.bs, shuffle=True)\n",
    "\n",
    "dl = Dataloader(data, sampler)\n",
    "\n",
    "opt = GD(config.lr)\n",
    "loss = MSE()"
   ]
  },
  {
   "cell_type": "code",
   "execution_count": 17,
   "metadata": {
    "execution": {
     "iopub.execute_input": "2020-10-15T00:16:39.504843Z",
     "iopub.status.busy": "2020-10-15T00:16:39.504302Z",
     "iopub.status.idle": "2020-10-15T00:16:39.518746Z",
     "shell.execute_reply": "2020-10-15T00:16:39.519193Z"
    },
    "papermill": {
     "duration": 0.045611,
     "end_time": "2020-10-15T00:16:39.519330",
     "exception": false,
     "start_time": "2020-10-15T00:16:39.473719",
     "status": "completed"
    },
    "tags": []
   },
   "outputs": [],
   "source": [
    "training_xdata = X_train\n",
    "testing_xdata = X_test\n",
    "training_ydata = y_train.reshape(-1,1)\n",
    "testing_ydata = y_test.reshape(-1,1)"
   ]
  },
  {
   "cell_type": "markdown",
   "metadata": {
    "papermill": {
     "duration": 0.027807,
     "end_time": "2020-10-15T00:16:39.574459",
     "exception": false,
     "start_time": "2020-10-15T00:16:39.546652",
     "status": "completed"
    },
    "tags": []
   },
   "source": [
    "### Running Models with the Training data\n",
    "Details about the network layers:\n",
    "- A first affine layer has 784 inputs and does 100 affine transforms. These are followed by a Relu\n",
    "- A second affine layer has 100 inputs from the 100 activations of the past layer, and does 100 affine transforms. These are followed by a Relu\n",
    "- A third affine layer has 100 activations and does 2 affine transformations to create an embedding for visualization. There is no non-linearity here.\n",
    "- A final \"logistic regression\" which has an affine transform from 2 inputs to 1 output, which is squeezed through a sigmoid.\n",
    "\n",
    "Help taken from Anshuman's Notebook."
   ]
  },
  {
   "cell_type": "code",
   "execution_count": 18,
   "metadata": {
    "execution": {
     "iopub.execute_input": "2020-10-15T00:16:39.637105Z",
     "iopub.status.busy": "2020-10-15T00:16:39.636544Z",
     "iopub.status.idle": "2020-10-15T00:16:39.653565Z",
     "shell.execute_reply": "2020-10-15T00:16:39.654061Z"
    },
    "papermill": {
     "duration": 0.05041,
     "end_time": "2020-10-15T00:16:39.654237",
     "exception": false,
     "start_time": "2020-10-15T00:16:39.603827",
     "status": "completed"
    },
    "tags": []
   },
   "outputs": [],
   "source": [
    "# layers for the Neural Network\n",
    "layers = [Affine(\"first\", 784, 100), Relu(\"first\"), Affine(\"second\", 100, 100), Relu(\"second\"), Affine(\"third\", 100, 2), Affine(\"final\", 2, 1), Sigmoid(\"final\")]\n",
    "model_nn = Model(layers)\n",
    "\n",
    "# layers for the Logistic Regression\n",
    "layers_lr = [Affine(\"logits\", 784, 1), Sigmoid(\"sigmoid\")]\n",
    "model_lr = Model(layers_lr)"
   ]
  },
  {
   "cell_type": "code",
   "execution_count": 19,
   "metadata": {
    "execution": {
     "iopub.execute_input": "2020-10-15T00:16:39.715267Z",
     "iopub.status.busy": "2020-10-15T00:16:39.714713Z",
     "iopub.status.idle": "2020-10-15T00:16:39.728945Z",
     "shell.execute_reply": "2020-10-15T00:16:39.728048Z"
    },
    "papermill": {
     "duration": 0.046729,
     "end_time": "2020-10-15T00:16:39.729158",
     "exception": false,
     "start_time": "2020-10-15T00:16:39.682429",
     "status": "completed"
    },
    "tags": []
   },
   "outputs": [],
   "source": [
    "# suffix _nn stands for Neural Network.\n",
    "learner_nn = Learner(loss, model_nn, opt, config.num_epochs)\n",
    "acc_nn = ClfCallback(learner_nn, config.bs, training_xdata , testing_xdata, training_ydata, testing_ydata)\n",
    "learner_nn.set_callbacks([acc_nn])"
   ]
  },
  {
   "cell_type": "code",
   "execution_count": 20,
   "metadata": {
    "execution": {
     "iopub.execute_input": "2020-10-15T00:16:39.793730Z",
     "iopub.status.busy": "2020-10-15T00:16:39.793168Z",
     "iopub.status.idle": "2020-10-15T00:18:01.294668Z",
     "shell.execute_reply": "2020-10-15T00:18:01.295676Z"
    },
    "papermill": {
     "duration": 81.533772,
     "end_time": "2020-10-15T00:18:01.295846",
     "exception": false,
     "start_time": "2020-10-15T00:16:39.762074",
     "status": "completed"
    },
    "tags": []
   },
   "outputs": [
    {
     "name": "stdout",
     "output_type": "stream",
     "text": [
      "====== Neural Network ======\n"
     ]
    },
    {
     "name": "stdout",
     "output_type": "stream",
     "text": [
      "Epoch 0, Loss 0.2309\n",
      "Training Accuracy: 0.7328, Testing Accuracy: 0.7359\n",
      "\n"
     ]
    },
    {
     "name": "stdout",
     "output_type": "stream",
     "text": [
      "Epoch 10, Loss 0.0762\n",
      "Training Accuracy: 0.9293, Testing Accuracy: 0.9425\n",
      "\n"
     ]
    },
    {
     "name": "stdout",
     "output_type": "stream",
     "text": [
      "Epoch 20, Loss 0.0499\n",
      "Training Accuracy: 0.9482, Testing Accuracy: 0.9597\n",
      "\n"
     ]
    },
    {
     "name": "stdout",
     "output_type": "stream",
     "text": [
      "Epoch 30, Loss 0.0405\n",
      "Training Accuracy: 0.9556, Testing Accuracy: 0.9637\n",
      "\n"
     ]
    },
    {
     "name": "stdout",
     "output_type": "stream",
     "text": [
      "Epoch 40, Loss 0.0357\n",
      "Training Accuracy: 0.9594, Testing Accuracy: 0.9672\n",
      "\n"
     ]
    },
    {
     "name": "stdout",
     "output_type": "stream",
     "text": [
      "Epoch 50, Loss 0.0327\n",
      "Training Accuracy: 0.9629, Testing Accuracy: 0.9693\n",
      "\n"
     ]
    },
    {
     "name": "stdout",
     "output_type": "stream",
     "text": [
      "Epoch 60, Loss 0.0305\n",
      "Training Accuracy: 0.9650, Testing Accuracy: 0.9688\n",
      "\n"
     ]
    },
    {
     "name": "stdout",
     "output_type": "stream",
     "text": [
      "Epoch 70, Loss 0.0288\n",
      "Training Accuracy: 0.9662, Testing Accuracy: 0.9677\n",
      "\n"
     ]
    },
    {
     "name": "stdout",
     "output_type": "stream",
     "text": [
      "Epoch 80, Loss 0.0275\n",
      "Training Accuracy: 0.9679, Testing Accuracy: 0.9688\n",
      "\n"
     ]
    },
    {
     "name": "stdout",
     "output_type": "stream",
     "text": [
      "Epoch 90, Loss 0.0264\n",
      "Training Accuracy: 0.9695, Testing Accuracy: 0.9688\n",
      "\n"
     ]
    },
    {
     "name": "stdout",
     "output_type": "stream",
     "text": [
      "Epoch 100, Loss 0.0254\n",
      "Training Accuracy: 0.9708, Testing Accuracy: 0.9693\n",
      "\n"
     ]
    },
    {
     "name": "stdout",
     "output_type": "stream",
     "text": [
      "Epoch 110, Loss 0.0246\n",
      "Training Accuracy: 0.9719, Testing Accuracy: 0.9693\n",
      "\n"
     ]
    },
    {
     "name": "stdout",
     "output_type": "stream",
     "text": [
      "Epoch 120, Loss 0.0238\n",
      "Training Accuracy: 0.9723, Testing Accuracy: 0.9703\n",
      "\n"
     ]
    },
    {
     "name": "stdout",
     "output_type": "stream",
     "text": [
      "Epoch 130, Loss 0.0231\n",
      "Training Accuracy: 0.9735, Testing Accuracy: 0.9708\n",
      "\n"
     ]
    },
    {
     "name": "stdout",
     "output_type": "stream",
     "text": [
      "Epoch 140, Loss 0.0225\n",
      "Training Accuracy: 0.9742, Testing Accuracy: 0.9718\n",
      "\n"
     ]
    },
    {
     "name": "stdout",
     "output_type": "stream",
     "text": [
      "Epoch 150, Loss 0.0219\n",
      "Training Accuracy: 0.9748, Testing Accuracy: 0.9718\n",
      "\n"
     ]
    },
    {
     "name": "stdout",
     "output_type": "stream",
     "text": [
      "Epoch 160, Loss 0.0213\n",
      "Training Accuracy: 0.9753, Testing Accuracy: 0.9723\n",
      "\n"
     ]
    },
    {
     "name": "stdout",
     "output_type": "stream",
     "text": [
      "Epoch 170, Loss 0.0207\n",
      "Training Accuracy: 0.9755, Testing Accuracy: 0.9728\n",
      "\n"
     ]
    },
    {
     "name": "stdout",
     "output_type": "stream",
     "text": [
      "Epoch 180, Loss 0.0202\n",
      "Training Accuracy: 0.9764, Testing Accuracy: 0.9733\n",
      "\n"
     ]
    },
    {
     "name": "stdout",
     "output_type": "stream",
     "text": [
      "Epoch 190, Loss 0.0197\n",
      "Training Accuracy: 0.9770, Testing Accuracy: 0.9728\n",
      "\n"
     ]
    },
    {
     "name": "stdout",
     "output_type": "stream",
     "text": [
      "Epoch 200, Loss 0.0192\n",
      "Training Accuracy: 0.9781, Testing Accuracy: 0.9738\n",
      "\n"
     ]
    },
    {
     "name": "stdout",
     "output_type": "stream",
     "text": [
      "Epoch 210, Loss 0.0188\n",
      "Training Accuracy: 0.9789, Testing Accuracy: 0.9748\n",
      "\n"
     ]
    },
    {
     "name": "stdout",
     "output_type": "stream",
     "text": [
      "Epoch 220, Loss 0.0183\n",
      "Training Accuracy: 0.9791, Testing Accuracy: 0.9748\n",
      "\n"
     ]
    },
    {
     "name": "stdout",
     "output_type": "stream",
     "text": [
      "Epoch 230, Loss 0.0179\n",
      "Training Accuracy: 0.9802, Testing Accuracy: 0.9748\n",
      "\n"
     ]
    },
    {
     "name": "stdout",
     "output_type": "stream",
     "text": [
      "Epoch 240, Loss 0.0174\n",
      "Training Accuracy: 0.9804, Testing Accuracy: 0.9748\n",
      "\n"
     ]
    },
    {
     "name": "stdout",
     "output_type": "stream",
     "text": [
      "Epoch 250, Loss 0.017\n",
      "Training Accuracy: 0.9809, Testing Accuracy: 0.9753\n",
      "\n"
     ]
    },
    {
     "data": {
      "text/plain": [
       "0.03498930061434225"
      ]
     },
     "execution_count": 20,
     "metadata": {},
     "output_type": "execute_result"
    }
   ],
   "source": [
    "print(\"====== Neural Network ======\")\n",
    "learner_nn.train_loop(dl)"
   ]
  },
  {
   "cell_type": "markdown",
   "metadata": {
    "papermill": {
     "duration": 0.035863,
     "end_time": "2020-10-15T00:18:01.367048",
     "exception": false,
     "start_time": "2020-10-15T00:18:01.331185",
     "status": "completed"
    },
    "tags": []
   },
   "source": [
    "### Logistic Regression based Implementation."
   ]
  },
  {
   "cell_type": "code",
   "execution_count": 21,
   "metadata": {
    "execution": {
     "iopub.execute_input": "2020-10-15T00:18:01.445314Z",
     "iopub.status.busy": "2020-10-15T00:18:01.444162Z",
     "iopub.status.idle": "2020-10-15T00:18:01.456368Z",
     "shell.execute_reply": "2020-10-15T00:18:01.455855Z"
    },
    "papermill": {
     "duration": 0.05274,
     "end_time": "2020-10-15T00:18:01.456497",
     "exception": false,
     "start_time": "2020-10-15T00:18:01.403757",
     "status": "completed"
    },
    "tags": []
   },
   "outputs": [],
   "source": [
    "learner_lr = Learner(loss, model_lr, opt, config.num_epochs)\n",
    "acc_lr = ClfCallback(learner_lr, config.bs, training_xdata , testing_xdata, training_ydata, testing_ydata)\n",
    "learner_lr.set_callbacks([acc_lr])"
   ]
  },
  {
   "cell_type": "code",
   "execution_count": 22,
   "metadata": {
    "execution": {
     "iopub.execute_input": "2020-10-15T00:18:01.532562Z",
     "iopub.status.busy": "2020-10-15T00:18:01.531958Z",
     "iopub.status.idle": "2020-10-15T00:18:17.662809Z",
     "shell.execute_reply": "2020-10-15T00:18:17.663608Z"
    },
    "papermill": {
     "duration": 16.172378,
     "end_time": "2020-10-15T00:18:17.663788",
     "exception": false,
     "start_time": "2020-10-15T00:18:01.491410",
     "status": "completed"
    },
    "tags": []
   },
   "outputs": [
    {
     "name": "stdout",
     "output_type": "stream",
     "text": [
      "====== Logistic Regression ======\n",
      "Epoch 0, Loss 0.2239\n",
      "Training Accuracy: 0.7452, Testing Accuracy: 0.7308\n",
      "\n"
     ]
    },
    {
     "name": "stdout",
     "output_type": "stream",
     "text": [
      "Epoch 10, Loss 0.1012\n",
      "Training Accuracy: 0.9155, Testing Accuracy: 0.9294\n",
      "\n"
     ]
    },
    {
     "name": "stdout",
     "output_type": "stream",
     "text": [
      "Epoch 20, Loss 0.0783\n",
      "Training Accuracy: 0.9305, Testing Accuracy: 0.9420\n",
      "\n"
     ]
    },
    {
     "name": "stdout",
     "output_type": "stream",
     "text": [
      "Epoch 30, Loss 0.0676\n",
      "Training Accuracy: 0.9384, Testing Accuracy: 0.9486\n",
      "\n"
     ]
    },
    {
     "name": "stdout",
     "output_type": "stream",
     "text": [
      "Epoch 40, Loss 0.0611\n",
      "Training Accuracy: 0.9434, Testing Accuracy: 0.9546\n",
      "\n"
     ]
    },
    {
     "name": "stdout",
     "output_type": "stream",
     "text": [
      "Epoch 50, Loss 0.0567\n",
      "Training Accuracy: 0.9463, Testing Accuracy: 0.9556\n",
      "\n"
     ]
    },
    {
     "name": "stdout",
     "output_type": "stream",
     "text": [
      "Epoch 60, Loss 0.0535\n",
      "Training Accuracy: 0.9485, Testing Accuracy: 0.9582\n",
      "\n"
     ]
    },
    {
     "name": "stdout",
     "output_type": "stream",
     "text": [
      "Epoch 70, Loss 0.051\n",
      "Training Accuracy: 0.9496, Testing Accuracy: 0.9597\n",
      "\n"
     ]
    },
    {
     "name": "stdout",
     "output_type": "stream",
     "text": [
      "Epoch 80, Loss 0.049\n",
      "Training Accuracy: 0.9508, Testing Accuracy: 0.9612\n",
      "\n"
     ]
    },
    {
     "name": "stdout",
     "output_type": "stream",
     "text": [
      "Epoch 90, Loss 0.0473\n",
      "Training Accuracy: 0.9521, Testing Accuracy: 0.9622\n",
      "\n"
     ]
    },
    {
     "name": "stdout",
     "output_type": "stream",
     "text": [
      "Epoch 100, Loss 0.046\n",
      "Training Accuracy: 0.9536, Testing Accuracy: 0.9627\n",
      "\n"
     ]
    },
    {
     "name": "stdout",
     "output_type": "stream",
     "text": [
      "Epoch 110, Loss 0.0448\n",
      "Training Accuracy: 0.9550, Testing Accuracy: 0.9637\n",
      "\n"
     ]
    },
    {
     "name": "stdout",
     "output_type": "stream",
     "text": [
      "Epoch 120, Loss 0.0437\n",
      "Training Accuracy: 0.9553, Testing Accuracy: 0.9637\n",
      "\n"
     ]
    },
    {
     "name": "stdout",
     "output_type": "stream",
     "text": [
      "Epoch 130, Loss 0.0428\n",
      "Training Accuracy: 0.9553, Testing Accuracy: 0.9632\n",
      "\n"
     ]
    },
    {
     "name": "stdout",
     "output_type": "stream",
     "text": [
      "Epoch 140, Loss 0.042\n",
      "Training Accuracy: 0.9563, Testing Accuracy: 0.9642\n",
      "\n"
     ]
    },
    {
     "name": "stdout",
     "output_type": "stream",
     "text": [
      "Epoch 150, Loss 0.0413\n",
      "Training Accuracy: 0.9564, Testing Accuracy: 0.9642\n",
      "\n"
     ]
    },
    {
     "name": "stdout",
     "output_type": "stream",
     "text": [
      "Epoch 160, Loss 0.0406\n",
      "Training Accuracy: 0.9575, Testing Accuracy: 0.9657\n",
      "\n"
     ]
    },
    {
     "name": "stdout",
     "output_type": "stream",
     "text": [
      "Epoch 170, Loss 0.04\n",
      "Training Accuracy: 0.9580, Testing Accuracy: 0.9662\n",
      "\n"
     ]
    },
    {
     "name": "stdout",
     "output_type": "stream",
     "text": [
      "Epoch 180, Loss 0.0394\n",
      "Training Accuracy: 0.9586, Testing Accuracy: 0.9667\n",
      "\n"
     ]
    },
    {
     "name": "stdout",
     "output_type": "stream",
     "text": [
      "Epoch 190, Loss 0.0389\n",
      "Training Accuracy: 0.9592, Testing Accuracy: 0.9667\n",
      "\n"
     ]
    },
    {
     "name": "stdout",
     "output_type": "stream",
     "text": [
      "Epoch 200, Loss 0.0385\n",
      "Training Accuracy: 0.9595, Testing Accuracy: 0.9672\n",
      "\n"
     ]
    },
    {
     "name": "stdout",
     "output_type": "stream",
     "text": [
      "Epoch 210, Loss 0.038\n",
      "Training Accuracy: 0.9596, Testing Accuracy: 0.9672\n",
      "\n"
     ]
    },
    {
     "name": "stdout",
     "output_type": "stream",
     "text": [
      "Epoch 220, Loss 0.0376\n",
      "Training Accuracy: 0.9602, Testing Accuracy: 0.9672\n",
      "\n"
     ]
    },
    {
     "name": "stdout",
     "output_type": "stream",
     "text": [
      "Epoch 230, Loss 0.0372\n",
      "Training Accuracy: 0.9601, Testing Accuracy: 0.9672\n",
      "\n"
     ]
    },
    {
     "name": "stdout",
     "output_type": "stream",
     "text": [
      "Epoch 240, Loss 0.0369\n",
      "Training Accuracy: 0.9602, Testing Accuracy: 0.9672\n",
      "\n"
     ]
    },
    {
     "name": "stdout",
     "output_type": "stream",
     "text": [
      "Epoch 250, Loss 0.0365\n",
      "Training Accuracy: 0.9604, Testing Accuracy: 0.9672\n",
      "\n"
     ]
    },
    {
     "data": {
      "text/plain": [
       "0.03581891820160793"
      ]
     },
     "execution_count": 22,
     "metadata": {},
     "output_type": "execute_result"
    }
   ],
   "source": [
    "print(\"====== Logistic Regression ======\")\n",
    "learner_lr.train_loop(dl)"
   ]
  },
  {
   "cell_type": "markdown",
   "metadata": {
    "papermill": {
     "duration": 0.042244,
     "end_time": "2020-10-15T00:18:17.749869",
     "exception": false,
     "start_time": "2020-10-15T00:18:17.707625",
     "status": "completed"
    },
    "tags": []
   },
   "source": [
    "### Comparing results of NN and LR"
   ]
  },
  {
   "cell_type": "code",
   "execution_count": 23,
   "metadata": {
    "execution": {
     "iopub.execute_input": "2020-10-15T00:18:17.841154Z",
     "iopub.status.busy": "2020-10-15T00:18:17.840304Z",
     "iopub.status.idle": "2020-10-15T00:18:18.058878Z",
     "shell.execute_reply": "2020-10-15T00:18:18.058448Z"
    },
    "papermill": {
     "duration": 0.267765,
     "end_time": "2020-10-15T00:18:18.058996",
     "exception": false,
     "start_time": "2020-10-15T00:18:17.791231",
     "status": "completed"
    },
    "tags": []
   },
   "outputs": [
    {
     "data": {
      "text/plain": [
       "<matplotlib.legend.Legend at 0x7ff9bdd742b0>"
      ]
     },
     "execution_count": 23,
     "metadata": {},
     "output_type": "execute_result"
    },
    {
     "data": {
      "image/png": "[encoded data removed]",
      "text/plain": [
       "<Figure size 1080x720 with 1 Axes>"
      ]
     },
     "metadata": {
      "needs_background": "light"
     },
     "output_type": "display_data"
    }
   ],
   "source": [
    "plt.figure(figsize=(15,10))\n",
    "\n",
    "# Neural Network plots\n",
    "plt.plot(acc_nn.accuracies, 'r-', label = \"Training Accuracies - NN\")\n",
    "plt.plot(acc_nn.test_accuracies, 'g-', label = \"Testing Accuracies - NN\")\n",
    "\n",
    "# Logistic Regression plots\n",
    "plt.plot(acc_lr.accuracies, 'k-', label = \"Training Accuracies - LR\")\n",
    "plt.plot(acc_lr.test_accuracies, 'b-', label = \"Testing Accuracies - LR\")\n",
    "\n",
    "plt.ylim(0.8, 1)\n",
    "\n",
    "plt.legend()\n",
    "\n"
   ]
  },
  {
   "cell_type": "markdown",
   "metadata": {
    "papermill": {
     "duration": 0.04278,
     "end_time": "2020-10-15T00:18:18.144672",
     "exception": false,
     "start_time": "2020-10-15T00:18:18.101892",
     "status": "completed"
    },
    "tags": []
   },
   "source": [
    "### From the plot, we can observe the following:\n",
    "- Neural Network achieves higher accuracy than the Logistic Regression model.\n",
    "- This apparently, is because of overfitting, i.e. NN captures more noise than data.\n",
    "- Testing accuracy of NN drops below the Training accuracy at higher epochs. This explains the over-fitting on training data.\n",
    "- Logistic Regression gives a reliable accuracy, without the above mentioned problem.\n"
   ]
  },
  {
   "cell_type": "markdown",
   "metadata": {
    "papermill": {
     "duration": 0.043426,
     "end_time": "2020-10-15T00:18:18.231307",
     "exception": false,
     "start_time": "2020-10-15T00:18:18.187881",
     "status": "completed"
    },
    "tags": []
   },
   "source": [
    "### Moving till the last but one layer (excluding it).\n",
    "#### Plotting the outputs of this layer of the NN."
   ]
  },
  {
   "cell_type": "code",
   "execution_count": 24,
   "metadata": {
    "execution": {
     "iopub.execute_input": "2020-10-15T00:18:18.320417Z",
     "iopub.status.busy": "2020-10-15T00:18:18.319811Z",
     "iopub.status.idle": "2020-10-15T00:18:18.333439Z",
     "shell.execute_reply": "2020-10-15T00:18:18.332934Z"
    },
    "papermill": {
     "duration": 0.060939,
     "end_time": "2020-10-15T00:18:18.333591",
     "exception": false,
     "start_time": "2020-10-15T00:18:18.272652",
     "status": "completed"
    },
    "tags": []
   },
   "outputs": [],
   "source": [
    "model_new = Model(layers[:-2])"
   ]
  },
  {
   "cell_type": "code",
   "execution_count": 25,
   "metadata": {
    "execution": {
     "iopub.execute_input": "2020-10-15T00:18:18.426536Z",
     "iopub.status.busy": "2020-10-15T00:18:18.425979Z",
     "iopub.status.idle": "2020-10-15T00:18:18.450310Z",
     "shell.execute_reply": "2020-10-15T00:18:18.451022Z"
    },
    "papermill": {
     "duration": 0.073983,
     "end_time": "2020-10-15T00:18:18.451188",
     "exception": false,
     "start_time": "2020-10-15T00:18:18.377205",
     "status": "completed"
    },
    "tags": []
   },
   "outputs": [],
   "source": [
    "plot_testing = model_new(testing_xdata)"
   ]
  },
  {
   "cell_type": "code",
   "execution_count": 26,
   "metadata": {
    "execution": {
     "iopub.execute_input": "2020-10-15T00:18:18.546954Z",
     "iopub.status.busy": "2020-10-15T00:18:18.546256Z",
     "iopub.status.idle": "2020-10-15T00:18:18.775170Z",
     "shell.execute_reply": "2020-10-15T00:18:18.774709Z"
    },
    "papermill": {
     "duration": 0.279503,
     "end_time": "2020-10-15T00:18:18.775307",
     "exception": false,
     "start_time": "2020-10-15T00:18:18.495804",
     "status": "completed"
    },
    "tags": []
   },
   "outputs": [
    {
     "data": {
      "text/plain": [
       "Text(0.5, 1.0, 'Outputs')"
      ]
     },
     "execution_count": 26,
     "metadata": {},
     "output_type": "execute_result"
    },
    {
     "data": {
      "image/png": "[encoded data removed]",
      "text/plain": [
       "<Figure size 576x504 with 1 Axes>"
      ]
     },
     "metadata": {
      "needs_background": "light"
     },
     "output_type": "display_data"
    }
   ],
   "source": [
    "plt.figure(figsize=(8,7))\n",
    "plt.scatter(plot_testing[:,0], plot_testing[:,1], alpha = 0.1, c = y_test.ravel());\n",
    "plt.title('Outputs')"
   ]
  },
  {
   "cell_type": "markdown",
   "metadata": {
    "papermill": {
     "duration": 0.044448,
     "end_time": "2020-10-15T00:18:18.865364",
     "exception": false,
     "start_time": "2020-10-15T00:18:18.820916",
     "status": "completed"
    },
    "tags": []
   },
   "source": [
    "### Plotting probability contours"
   ]
  },
  {
   "cell_type": "code",
   "execution_count": 27,
   "metadata": {
    "execution": {
     "iopub.execute_input": "2020-10-15T00:18:18.965453Z",
     "iopub.status.busy": "2020-10-15T00:18:18.964907Z",
     "iopub.status.idle": "2020-10-15T00:18:18.978204Z",
     "shell.execute_reply": "2020-10-15T00:18:18.977722Z"
    },
    "papermill": {
     "duration": 0.067417,
     "end_time": "2020-10-15T00:18:18.978311",
     "exception": false,
     "start_time": "2020-10-15T00:18:18.910894",
     "status": "completed"
    },
    "tags": []
   },
   "outputs": [],
   "source": [
    "model_prob = Model(layers[-2:]) "
   ]
  },
  {
   "cell_type": "code",
   "execution_count": 28,
   "metadata": {
    "execution": {
     "iopub.execute_input": "2020-10-15T00:18:19.076028Z",
     "iopub.status.busy": "2020-10-15T00:18:19.075499Z",
     "iopub.status.idle": "2020-10-15T00:18:19.090329Z",
     "shell.execute_reply": "2020-10-15T00:18:19.090904Z"
    },
    "papermill": {
     "duration": 0.065677,
     "end_time": "2020-10-15T00:18:19.091068",
     "exception": false,
     "start_time": "2020-10-15T00:18:19.025391",
     "status": "completed"
    },
    "tags": []
   },
   "outputs": [],
   "source": [
    "# Adjust the x and y ranges according to the above generated plot.\n",
    "x_range = np.linspace(-4, 1, 100) \n",
    "y_range = np.linspace(-6, 6, 100) \n",
    "x_grid, y_grid = np.meshgrid(x_range, y_range) # x_grid and y_grig are of size 100 X 100\n",
    "\n",
    "# converting x_grid and y_grid to continuous arrays\n",
    "x_grid_flat = np.ravel(x_grid)\n",
    "y_grid_flat = np.ravel(y_grid)\n",
    "\n",
    "# The last layer of the current model takes two columns as input. Hence transpose of np.vstack() is required.\n",
    "X = np.vstack((x_grid_flat, y_grid_flat)).T\n",
    "\n",
    "# x_grid and y_grid are of size 100 x 100\n",
    "probability_contour = model_prob(X).reshape(100,100) "
   ]
  },
  {
   "cell_type": "code",
   "execution_count": 29,
   "metadata": {
    "execution": {
     "iopub.execute_input": "2020-10-15T00:18:19.195380Z",
     "iopub.status.busy": "2020-10-15T00:18:19.192862Z",
     "iopub.status.idle": "2020-10-15T00:18:19.438301Z",
     "shell.execute_reply": "2020-10-15T00:18:19.438959Z"
    },
    "papermill": {
     "duration": 0.300019,
     "end_time": "2020-10-15T00:18:19.439161",
     "exception": false,
     "start_time": "2020-10-15T00:18:19.139142",
     "status": "completed"
    },
    "tags": []
   },
   "outputs": [
    {
     "data": {
      "image/png": "[encoded data removed]",
      "text/plain": [
       "<Figure size 720x648 with 1 Axes>"
      ]
     },
     "metadata": {
      "needs_background": "light"
     },
     "output_type": "display_data"
    }
   ],
   "source": [
    "plt.figure(figsize=(10,9))\n",
    "plt.scatter(plot_testing[:,0], plot_testing[:,1], alpha = 0.1, c = y_test.ravel())\n",
    "contours = plt.contour(x_grid,y_grid,probability_contour)\n",
    "plt.title('Probability Contours')\n",
    "plt.clabel(contours, inline = True );"
   ]
  }
 ],
 "metadata": {
  "kernelspec": {
   "display_name": "Python 3",
   "language": "python",
   "name": "python3"
  },
  "language_info": {
   "codemirror_mode": {
    "name": "ipython",
    "version": 3
   },
   "file_extension": ".py",
   "mimetype": "text/x-python",
   "name": "python",
   "nbconvert_exporter": "python",
   "pygments_lexer": "ipython3",
   "version": "3.6.12"
  },
  "papermill": {
   "duration": 106.977097,
   "end_time": "2020-10-15T00:18:19.902390",
   "environment_variables": {},
   "exception": null,
   "input_path": "2020-08-11-NeuralNetwork.ipynb",
   "output_path": "2020-08-11-NeuralNetwork.ipynb",
   "parameters": {},
   "start_time": "2020-10-15T00:16:32.925293",
   "version": "2.1.2"
  }
 },
 "nbformat": 4,
 "nbformat_minor": 4
}