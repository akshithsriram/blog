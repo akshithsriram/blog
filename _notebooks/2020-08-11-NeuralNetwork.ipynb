{
 "cells": [
  {
   "cell_type": "markdown",
   "metadata": {
    "papermill": {
     "duration": 0.029366,
     "end_time": "2021-01-05T20:11:49.635279",
     "exception": false,
     "start_time": "2021-01-05T20:11:49.605913",
     "status": "completed"
    },
    "tags": []
   },
   "source": [
    "# \"A Basic Neural Network: Differentiate Hand-Written Digits\"\n",
    "\n",
    "- badges: true\n",
    "- author: Akshith Sriram"
   ]
  },
  {
   "cell_type": "markdown",
   "metadata": {
    "papermill": {
     "duration": 0.025935,
     "end_time": "2021-01-05T20:11:49.686911",
     "exception": false,
     "start_time": "2021-01-05T20:11:49.660976",
     "status": "completed"
    },
    "tags": []
   },
   "source": [
    "### Key Objectives:\n",
    "- Building a neural network that differentiates two hand-written digits 3 and 8.\n",
    "- Comparing the results of this Neural Network (NN) to that of a Logistic Regression (LR) model.\n",
    "\n",
    "### Requirements:\n",
    "- 'Kudzu' : A neural network library that was designed during our course by [Univ.AI](www.univ.ai). \n",
    "- MNIST Database\n",
    "\n",
    "If MNIST is not installed, use the command `!pip install mnist` given below.\n",
    "It can be run both from the command line and Jupyter Notebook."
   ]
  },
  {
   "cell_type": "code",
   "execution_count": 1,
   "metadata": {
    "execution": {
     "iopub.execute_input": "2021-01-05T20:11:49.754919Z",
     "iopub.status.busy": "2021-01-05T20:11:49.754118Z",
     "iopub.status.idle": "2021-01-05T20:11:51.300489Z",
     "shell.execute_reply": "2021-01-05T20:11:51.300968Z"
    },
    "papermill": {
     "duration": 1.585606,
     "end_time": "2021-01-05T20:11:51.301531",
     "exception": false,
     "start_time": "2021-01-05T20:11:49.715925",
     "status": "completed"
    },
    "tags": []
   },
   "outputs": [
    {
     "name": "stdout",
     "output_type": "stream",
     "text": [
      "Collecting mnist\r\n"
     ]
    },
    {
     "name": "stdout",
     "output_type": "stream",
     "text": [
      "  Downloading mnist-0.2.2-py2.py3-none-any.whl (3.5 kB)\r\n",
      "Requirement already satisfied: numpy in /opt/hostedtoolcache/Python/3.6.12/x64/lib/python3.6/site-packages (from mnist) (1.19.5)\r\n"
     ]
    },
    {
     "name": "stdout",
     "output_type": "stream",
     "text": [
      "Installing collected packages: mnist\r\n",
      "Successfully installed mnist-0.2.2\r\n"
     ]
    },
    {
     "name": "stdout",
     "output_type": "stream",
     "text": [
      "\u001b[33mWARNING: You are using pip version 20.3.1; however, version 20.3.3 is available.\r\n",
      "You should consider upgrading via the '/opt/hostedtoolcache/Python/3.6.12/x64/bin/python -m pip install --upgrade pip' command.\u001b[0m\r\n"
     ]
    }
   ],
   "source": [
    "!pip install mnist "
   ]
  },
  {
   "cell_type": "markdown",
   "metadata": {
    "papermill": {
     "duration": 0.030993,
     "end_time": "2021-01-05T20:11:51.364716",
     "exception": false,
     "start_time": "2021-01-05T20:11:51.333723",
     "status": "completed"
    },
    "tags": []
   },
   "source": [
    "#### Importing necessary libraries"
   ]
  },
  {
   "cell_type": "code",
   "execution_count": 2,
   "metadata": {
    "execution": {
     "iopub.execute_input": "2021-01-05T20:11:51.427300Z",
     "iopub.status.busy": "2021-01-05T20:11:51.426657Z",
     "iopub.status.idle": "2021-01-05T20:11:52.005237Z",
     "shell.execute_reply": "2021-01-05T20:11:52.003750Z"
    },
    "papermill": {
     "duration": 0.614175,
     "end_time": "2021-01-05T20:11:52.005423",
     "exception": false,
     "start_time": "2021-01-05T20:11:51.391248",
     "status": "completed"
    },
    "tags": []
   },
   "outputs": [],
   "source": [
    "%load_ext autoreload\n",
    "%autoreload 2\n",
    "\n",
    "%matplotlib inline\n",
    "import matplotlib.pyplot as plt\n",
    "\n",
    "import numpy as np\n",
    "import pandas as pd"
   ]
  },
  {
   "cell_type": "markdown",
   "metadata": {
    "papermill": {
     "duration": 0.027,
     "end_time": "2021-01-05T20:11:52.059299",
     "exception": false,
     "start_time": "2021-01-05T20:11:52.032299",
     "status": "completed"
    },
    "tags": []
   },
   "source": [
    "### Preparing the Data"
   ]
  },
  {
   "cell_type": "code",
   "execution_count": 3,
   "metadata": {
    "execution": {
     "iopub.execute_input": "2021-01-05T20:11:52.117744Z",
     "iopub.status.busy": "2021-01-05T20:11:52.116697Z",
     "iopub.status.idle": "2021-01-05T20:11:52.130753Z",
     "shell.execute_reply": "2021-01-05T20:11:52.130240Z"
    },
    "papermill": {
     "duration": 0.046052,
     "end_time": "2021-01-05T20:11:52.130888",
     "exception": false,
     "start_time": "2021-01-05T20:11:52.084836",
     "status": "completed"
    },
    "tags": []
   },
   "outputs": [],
   "source": [
    "import mnist"
   ]
  },
  {
   "cell_type": "code",
   "execution_count": 4,
   "metadata": {
    "execution": {
     "iopub.execute_input": "2021-01-05T20:11:52.189192Z",
     "iopub.status.busy": "2021-01-05T20:11:52.187891Z",
     "iopub.status.idle": "2021-01-05T20:11:53.156652Z",
     "shell.execute_reply": "2021-01-05T20:11:53.157167Z"
    },
    "papermill": {
     "duration": 0.999638,
     "end_time": "2021-01-05T20:11:53.157326",
     "exception": false,
     "start_time": "2021-01-05T20:11:52.157688",
     "status": "completed"
    },
    "tags": []
   },
   "outputs": [],
   "source": [
    "train_images = mnist.train_images()\n",
    "train_labels = mnist.train_labels()"
   ]
  },
  {
   "cell_type": "code",
   "execution_count": 5,
   "metadata": {
    "execution": {
     "iopub.execute_input": "2021-01-05T20:11:53.216403Z",
     "iopub.status.busy": "2021-01-05T20:11:53.215805Z",
     "iopub.status.idle": "2021-01-05T20:11:53.234446Z",
     "shell.execute_reply": "2021-01-05T20:11:53.233931Z"
    },
    "papermill": {
     "duration": 0.05047,
     "end_time": "2021-01-05T20:11:53.234578",
     "exception": false,
     "start_time": "2021-01-05T20:11:53.184108",
     "status": "completed"
    },
    "tags": []
   },
   "outputs": [
    {
     "data": {
      "text/plain": [
       "((60000, 28, 28), (60000,))"
      ]
     },
     "execution_count": 5,
     "metadata": {},
     "output_type": "execute_result"
    }
   ],
   "source": [
    "train_images.shape, train_labels.shape"
   ]
  },
  {
   "cell_type": "code",
   "execution_count": 6,
   "metadata": {
    "execution": {
     "iopub.execute_input": "2021-01-05T20:11:53.294994Z",
     "iopub.status.busy": "2021-01-05T20:11:53.294370Z",
     "iopub.status.idle": "2021-01-05T20:11:53.769740Z",
     "shell.execute_reply": "2021-01-05T20:11:53.770228Z"
    },
    "papermill": {
     "duration": 0.508792,
     "end_time": "2021-01-05T20:11:53.770395",
     "exception": false,
     "start_time": "2021-01-05T20:11:53.261603",
     "status": "completed"
    },
    "tags": []
   },
   "outputs": [],
   "source": [
    "test_images = mnist.test_images()\n",
    "test_labels = mnist.test_labels()"
   ]
  },
  {
   "cell_type": "code",
   "execution_count": 7,
   "metadata": {
    "execution": {
     "iopub.execute_input": "2021-01-05T20:11:53.830366Z",
     "iopub.status.busy": "2021-01-05T20:11:53.829820Z",
     "iopub.status.idle": "2021-01-05T20:11:53.844093Z",
     "shell.execute_reply": "2021-01-05T20:11:53.843450Z"
    },
    "papermill": {
     "duration": 0.04615,
     "end_time": "2021-01-05T20:11:53.844246",
     "exception": false,
     "start_time": "2021-01-05T20:11:53.798096",
     "status": "completed"
    },
    "tags": []
   },
   "outputs": [
    {
     "data": {
      "text/plain": [
       "((10000, 28, 28), (10000,))"
      ]
     },
     "execution_count": 7,
     "metadata": {},
     "output_type": "execute_result"
    }
   ],
   "source": [
    "test_images.shape, test_labels.shape"
   ]
  },
  {
   "cell_type": "code",
   "execution_count": 8,
   "metadata": {
    "execution": {
     "iopub.execute_input": "2021-01-05T20:11:53.904281Z",
     "iopub.status.busy": "2021-01-05T20:11:53.903737Z",
     "iopub.status.idle": "2021-01-05T20:11:54.045724Z",
     "shell.execute_reply": "2021-01-05T20:11:54.046190Z"
    },
    "papermill": {
     "duration": 0.173959,
     "end_time": "2021-01-05T20:11:54.046336",
     "exception": false,
     "start_time": "2021-01-05T20:11:53.872377",
     "status": "completed"
    },
    "tags": []
   },
   "outputs": [
    {
     "name": "stdout",
     "output_type": "stream",
     "text": [
      "2\n"
     ]
    },
    {
     "data": {
      "text/plain": [
       "<matplotlib.image.AxesImage at 0x7f0717bf3278>"
      ]
     },
     "execution_count": 8,
     "metadata": {},
     "output_type": "execute_result"
    },
    {
     "data": {
      "image/png": "[encoded data removed]",
      "text/plain": [
       "<Figure size 432x288 with 1 Axes>"
      ]
     },
     "metadata": {
      "needs_background": "light"
     },
     "output_type": "display_data"
    }
   ],
   "source": [
    "image_index = 7776 # You may select anything up to 60,000\n",
    "print(train_labels[image_index]) \n",
    "plt.imshow(train_images[image_index], cmap='Greys')"
   ]
  },
  {
   "cell_type": "markdown",
   "metadata": {
    "papermill": {
     "duration": 0.028586,
     "end_time": "2021-01-05T20:11:54.103046",
     "exception": false,
     "start_time": "2021-01-05T20:11:54.074460",
     "status": "completed"
    },
    "tags": []
   },
   "source": [
    "## Filter data to get 3 and 8 out"
   ]
  },
  {
   "cell_type": "code",
   "execution_count": 9,
   "metadata": {
    "execution": {
     "iopub.execute_input": "2021-01-05T20:11:54.164030Z",
     "iopub.status.busy": "2021-01-05T20:11:54.163478Z",
     "iopub.status.idle": "2021-01-05T20:11:54.180338Z",
     "shell.execute_reply": "2021-01-05T20:11:54.180813Z"
    },
    "papermill": {
     "duration": 0.050255,
     "end_time": "2021-01-05T20:11:54.180952",
     "exception": false,
     "start_time": "2021-01-05T20:11:54.130697",
     "status": "completed"
    },
    "tags": []
   },
   "outputs": [],
   "source": [
    "train_filter = np.where((train_labels == 3 ) | (train_labels == 8))\n",
    "test_filter = np.where((test_labels == 3) | (test_labels == 8))\n",
    "X_train, y_train = train_images[train_filter], train_labels[train_filter]\n",
    "X_test, y_test = test_images[test_filter], test_labels[test_filter]"
   ]
  },
  {
   "cell_type": "markdown",
   "metadata": {
    "papermill": {
     "duration": 0.026783,
     "end_time": "2021-01-05T20:11:54.234749",
     "exception": false,
     "start_time": "2021-01-05T20:11:54.207966",
     "status": "completed"
    },
    "tags": []
   },
   "source": [
    "We normalize the pixel values in the 0 to 1 range"
   ]
  },
  {
   "cell_type": "code",
   "execution_count": 10,
   "metadata": {
    "execution": {
     "iopub.execute_input": "2021-01-05T20:11:54.296911Z",
     "iopub.status.busy": "2021-01-05T20:11:54.296356Z",
     "iopub.status.idle": "2021-01-05T20:11:54.347934Z",
     "shell.execute_reply": "2021-01-05T20:11:54.347416Z"
    },
    "papermill": {
     "duration": 0.085749,
     "end_time": "2021-01-05T20:11:54.348074",
     "exception": false,
     "start_time": "2021-01-05T20:11:54.262325",
     "status": "completed"
    },
    "tags": []
   },
   "outputs": [],
   "source": [
    "X_train = X_train/255.\n",
    "X_test = X_test/255."
   ]
  },
  {
   "cell_type": "markdown",
   "metadata": {
    "papermill": {
     "duration": 0.027659,
     "end_time": "2021-01-05T20:11:54.403866",
     "exception": false,
     "start_time": "2021-01-05T20:11:54.376207",
     "status": "completed"
    },
    "tags": []
   },
   "source": [
    "Setup the labels as 1 (when the digit is 3) and 0 (when the digit is 8)"
   ]
  },
  {
   "cell_type": "code",
   "execution_count": 11,
   "metadata": {
    "execution": {
     "iopub.execute_input": "2021-01-05T20:11:54.462646Z",
     "iopub.status.busy": "2021-01-05T20:11:54.462061Z",
     "iopub.status.idle": "2021-01-05T20:11:54.479252Z",
     "shell.execute_reply": "2021-01-05T20:11:54.478782Z"
    },
    "papermill": {
     "duration": 0.04811,
     "end_time": "2021-01-05T20:11:54.479377",
     "exception": false,
     "start_time": "2021-01-05T20:11:54.431267",
     "status": "completed"
    },
    "tags": []
   },
   "outputs": [],
   "source": [
    "y_train = 1*(y_train==3)\n",
    "y_test = 1*(y_test==3)"
   ]
  },
  {
   "cell_type": "code",
   "execution_count": 12,
   "metadata": {
    "execution": {
     "iopub.execute_input": "2021-01-05T20:11:54.539649Z",
     "iopub.status.busy": "2021-01-05T20:11:54.539034Z",
     "iopub.status.idle": "2021-01-05T20:11:54.553684Z",
     "shell.execute_reply": "2021-01-05T20:11:54.553201Z"
    },
    "papermill": {
     "duration": 0.047462,
     "end_time": "2021-01-05T20:11:54.553817",
     "exception": false,
     "start_time": "2021-01-05T20:11:54.506355",
     "status": "completed"
    },
    "tags": []
   },
   "outputs": [
    {
     "data": {
      "text/plain": [
       "((11982, 28, 28), (1984, 28, 28))"
      ]
     },
     "execution_count": 12,
     "metadata": {},
     "output_type": "execute_result"
    }
   ],
   "source": [
    "X_train.shape, X_test.shape"
   ]
  },
  {
   "cell_type": "markdown",
   "metadata": {
    "papermill": {
     "duration": 0.028511,
     "end_time": "2021-01-05T20:11:54.610930",
     "exception": false,
     "start_time": "2021-01-05T20:11:54.582419",
     "status": "completed"
    },
    "tags": []
   },
   "source": [
    "### Reshape the input data to create a linear array"
   ]
  },
  {
   "cell_type": "code",
   "execution_count": 13,
   "metadata": {
    "execution": {
     "iopub.execute_input": "2021-01-05T20:11:54.673394Z",
     "iopub.status.busy": "2021-01-05T20:11:54.672798Z",
     "iopub.status.idle": "2021-01-05T20:11:54.687591Z",
     "shell.execute_reply": "2021-01-05T20:11:54.687071Z"
    },
    "papermill": {
     "duration": 0.047816,
     "end_time": "2021-01-05T20:11:54.687721",
     "exception": false,
     "start_time": "2021-01-05T20:11:54.639905",
     "status": "completed"
    },
    "tags": []
   },
   "outputs": [
    {
     "data": {
      "text/plain": [
       "((11982, 784), (1984, 784))"
      ]
     },
     "execution_count": 13,
     "metadata": {},
     "output_type": "execute_result"
    }
   ],
   "source": [
    "X_train = X_train.reshape(X_train.shape[0], -1)\n",
    "X_test = X_test.reshape(X_test.shape[0], -1)\n",
    "X_train.shape, X_test.shape"
   ]
  },
  {
   "cell_type": "markdown",
   "metadata": {
    "papermill": {
     "duration": 0.028899,
     "end_time": "2021-01-05T20:11:54.745572",
     "exception": false,
     "start_time": "2021-01-05T20:11:54.716673",
     "status": "completed"
    },
    "tags": []
   },
   "source": [
    "### Importing appropriate functions from 'Kudzu'"
   ]
  },
  {
   "cell_type": "code",
   "execution_count": 14,
   "metadata": {
    "execution": {
     "iopub.execute_input": "2021-01-05T20:11:54.809797Z",
     "iopub.status.busy": "2021-01-05T20:11:54.809189Z",
     "iopub.status.idle": "2021-01-05T20:11:54.832942Z",
     "shell.execute_reply": "2021-01-05T20:11:54.832260Z"
    },
    "papermill": {
     "duration": 0.058375,
     "end_time": "2021-01-05T20:11:54.833122",
     "exception": false,
     "start_time": "2021-01-05T20:11:54.774747",
     "status": "completed"
    },
    "tags": []
   },
   "outputs": [],
   "source": [
    "from kudzu.layer import Sigmoid\n",
    "from kudzu.layer import Relu\n",
    "from kudzu.layer import Affine, Sigmoid\n",
    "\n",
    "from kudzu.model import Model\n",
    "from kudzu.train import Learner\n",
    "from kudzu.optim import GD\n",
    "from kudzu.data import Data, Dataloader, Sampler\n",
    "\n",
    "from kudzu.callbacks import AccCallback\n",
    "from kudzu.callbacks import ClfCallback\n",
    "\n",
    "from kudzu.loss import MSE"
   ]
  },
  {
   "cell_type": "markdown",
   "metadata": {
    "papermill": {
     "duration": 0.029126,
     "end_time": "2021-01-05T20:11:54.892294",
     "exception": false,
     "start_time": "2021-01-05T20:11:54.863168",
     "status": "completed"
    },
    "tags": []
   },
   "source": [
    "### Let us create a `Config` class, to store important parameters. \n",
    "This class essentially plays the role of a dictionary."
   ]
  },
  {
   "cell_type": "code",
   "execution_count": 15,
   "metadata": {
    "execution": {
     "iopub.execute_input": "2021-01-05T20:11:54.955108Z",
     "iopub.status.busy": "2021-01-05T20:11:54.954473Z",
     "iopub.status.idle": "2021-01-05T20:11:54.970647Z",
     "shell.execute_reply": "2021-01-05T20:11:54.971296Z"
    },
    "papermill": {
     "duration": 0.05005,
     "end_time": "2021-01-05T20:11:54.971470",
     "exception": false,
     "start_time": "2021-01-05T20:11:54.921420",
     "status": "completed"
    },
    "tags": []
   },
   "outputs": [],
   "source": [
    "class Config:\n",
    "    pass\n",
    "config = Config()\n",
    "config.lr = 0.001\n",
    "config.num_epochs = 251\n",
    "config.bs = 50"
   ]
  },
  {
   "cell_type": "markdown",
   "metadata": {
    "papermill": {
     "duration": 0.257452,
     "end_time": "2021-01-05T20:11:55.258576",
     "exception": false,
     "start_time": "2021-01-05T20:11:55.001124",
     "status": "completed"
    },
    "tags": []
   },
   "source": [
    "### Initializing data to the variables"
   ]
  },
  {
   "cell_type": "code",
   "execution_count": 16,
   "metadata": {
    "execution": {
     "iopub.execute_input": "2021-01-05T20:11:56.112803Z",
     "iopub.status.busy": "2021-01-05T20:11:56.112177Z",
     "iopub.status.idle": "2021-01-05T20:11:56.120888Z",
     "shell.execute_reply": "2021-01-05T20:11:56.121881Z"
    },
    "papermill": {
     "duration": 0.366471,
     "end_time": "2021-01-05T20:11:56.122152",
     "exception": false,
     "start_time": "2021-01-05T20:11:55.755681",
     "status": "completed"
    },
    "tags": []
   },
   "outputs": [],
   "source": [
    "data = Data(X_train, y_train.reshape(-1,1))\n",
    "sampler = Sampler(data, config.bs, shuffle=True)\n",
    "\n",
    "dl = Dataloader(data, sampler)\n",
    "\n",
    "opt = GD(config.lr)\n",
    "loss = MSE()"
   ]
  },
  {
   "cell_type": "code",
   "execution_count": 17,
   "metadata": {
    "execution": {
     "iopub.execute_input": "2021-01-05T20:11:56.514165Z",
     "iopub.status.busy": "2021-01-05T20:11:56.513006Z",
     "iopub.status.idle": "2021-01-05T20:11:56.525147Z",
     "shell.execute_reply": "2021-01-05T20:11:56.525614Z"
    },
    "papermill": {
     "duration": 0.371832,
     "end_time": "2021-01-05T20:11:56.525778",
     "exception": false,
     "start_time": "2021-01-05T20:11:56.153946",
     "status": "completed"
    },
    "tags": []
   },
   "outputs": [],
   "source": [
    "training_xdata = X_train\n",
    "testing_xdata = X_test\n",
    "training_ydata = y_train.reshape(-1,1)\n",
    "testing_ydata = y_test.reshape(-1,1)"
   ]
  },
  {
   "cell_type": "markdown",
   "metadata": {
    "papermill": {
     "duration": 0.03077,
     "end_time": "2021-01-05T20:11:56.586715",
     "exception": false,
     "start_time": "2021-01-05T20:11:56.555945",
     "status": "completed"
    },
    "tags": []
   },
   "source": [
    "### Running Models with the Training data\n",
    "Details about the network layers:\n",
    "- A first affine layer has 784 inputs and does 100 affine transforms. These are followed by a Relu\n",
    "- A second affine layer has 100 inputs from the 100 activations of the past layer, and does 100 affine transforms. These are followed by a Relu\n",
    "- A third affine layer has 100 activations and does 2 affine transformations to create an embedding for visualization. There is no non-linearity here.\n",
    "- A final \"logistic regression\" which has an affine transform from 2 inputs to 1 output, which is squeezed through a sigmoid.\n",
    "\n",
    "Help taken from Anshuman's Notebook."
   ]
  },
  {
   "cell_type": "code",
   "execution_count": 18,
   "metadata": {
    "execution": {
     "iopub.execute_input": "2021-01-05T20:11:56.653750Z",
     "iopub.status.busy": "2021-01-05T20:11:56.653146Z",
     "iopub.status.idle": "2021-01-05T20:11:56.671336Z",
     "shell.execute_reply": "2021-01-05T20:11:56.670750Z"
    },
    "papermill": {
     "duration": 0.054346,
     "end_time": "2021-01-05T20:11:56.671481",
     "exception": false,
     "start_time": "2021-01-05T20:11:56.617135",
     "status": "completed"
    },
    "tags": []
   },
   "outputs": [],
   "source": [
    "# layers for the Neural Network\n",
    "layers = [Affine(\"first\", 784, 100), Relu(\"first\"), Affine(\"second\", 100, 100), Relu(\"second\"), Affine(\"third\", 100, 2), Affine(\"final\", 2, 1), Sigmoid(\"final\")]\n",
    "model_nn = Model(layers)\n",
    "\n",
    "# layers for the Logistic Regression\n",
    "layers_lr = [Affine(\"logits\", 784, 1), Sigmoid(\"sigmoid\")]\n",
    "model_lr = Model(layers_lr)"
   ]
  },
  {
   "cell_type": "code",
   "execution_count": 19,
   "metadata": {
    "execution": {
     "iopub.execute_input": "2021-01-05T20:11:56.740732Z",
     "iopub.status.busy": "2021-01-05T20:11:56.739940Z",
     "iopub.status.idle": "2021-01-05T20:11:56.752915Z",
     "shell.execute_reply": "2021-01-05T20:11:56.752417Z"
    },
    "papermill": {
     "duration": 0.049609,
     "end_time": "2021-01-05T20:11:56.753050",
     "exception": false,
     "start_time": "2021-01-05T20:11:56.703441",
     "status": "completed"
    },
    "tags": []
   },
   "outputs": [],
   "source": [
    "# suffix _nn stands for Neural Network.\n",
    "learner_nn = Learner(loss, model_nn, opt, config.num_epochs)\n",
    "acc_nn = ClfCallback(learner_nn, config.bs, training_xdata , testing_xdata, training_ydata, testing_ydata)\n",
    "learner_nn.set_callbacks([acc_nn])"
   ]
  },
  {
   "cell_type": "code",
   "execution_count": 20,
   "metadata": {
    "execution": {
     "iopub.execute_input": "2021-01-05T20:11:56.821598Z",
     "iopub.status.busy": "2021-01-05T20:11:56.820988Z",
     "iopub.status.idle": "2021-01-05T20:13:26.749960Z",
     "shell.execute_reply": "2021-01-05T20:13:26.749453Z"
    },
    "papermill": {
     "duration": 89.965823,
     "end_time": "2021-01-05T20:13:26.750091",
     "exception": false,
     "start_time": "2021-01-05T20:11:56.784268",
     "status": "completed"
    },
    "tags": []
   },
   "outputs": [
    {
     "name": "stdout",
     "output_type": "stream",
     "text": [
      "====== Neural Network ======\n"
     ]
    },
    {
     "name": "stdout",
     "output_type": "stream",
     "text": [
      "Epoch 0, Loss 0.232\n",
      "Training Accuracy: 0.7277, Testing Accuracy: 0.7263\n",
      "\n"
     ]
    },
    {
     "name": "stdout",
     "output_type": "stream",
     "text": [
      "Epoch 10, Loss 0.095\n",
      "Training Accuracy: 0.9070, Testing Accuracy: 0.9093\n",
      "\n"
     ]
    },
    {
     "name": "stdout",
     "output_type": "stream",
     "text": [
      "Epoch 20, Loss 0.0598\n",
      "Training Accuracy: 0.9358, Testing Accuracy: 0.9471\n",
      "\n"
     ]
    },
    {
     "name": "stdout",
     "output_type": "stream",
     "text": [
      "Epoch 30, Loss 0.0467\n",
      "Training Accuracy: 0.9479, Testing Accuracy: 0.9567\n",
      "\n"
     ]
    },
    {
     "name": "stdout",
     "output_type": "stream",
     "text": [
      "Epoch 40, Loss 0.0402\n",
      "Training Accuracy: 0.9543, Testing Accuracy: 0.9602\n",
      "\n"
     ]
    },
    {
     "name": "stdout",
     "output_type": "stream",
     "text": [
      "Epoch 50, Loss 0.0362\n",
      "Training Accuracy: 0.9576, Testing Accuracy: 0.9647\n",
      "\n"
     ]
    },
    {
     "name": "stdout",
     "output_type": "stream",
     "text": [
      "Epoch 60, Loss 0.0335\n",
      "Training Accuracy: 0.9611, Testing Accuracy: 0.9682\n",
      "\n"
     ]
    },
    {
     "name": "stdout",
     "output_type": "stream",
     "text": [
      "Epoch 70, Loss 0.0315\n",
      "Training Accuracy: 0.9625, Testing Accuracy: 0.9693\n",
      "\n"
     ]
    },
    {
     "name": "stdout",
     "output_type": "stream",
     "text": [
      "Epoch 80, Loss 0.0299\n",
      "Training Accuracy: 0.9645, Testing Accuracy: 0.9698\n",
      "\n"
     ]
    },
    {
     "name": "stdout",
     "output_type": "stream",
     "text": [
      "Epoch 90, Loss 0.0286\n",
      "Training Accuracy: 0.9661, Testing Accuracy: 0.9693\n",
      "\n"
     ]
    },
    {
     "name": "stdout",
     "output_type": "stream",
     "text": [
      "Epoch 100, Loss 0.0275\n",
      "Training Accuracy: 0.9672, Testing Accuracy: 0.9698\n",
      "\n"
     ]
    },
    {
     "name": "stdout",
     "output_type": "stream",
     "text": [
      "Epoch 110, Loss 0.0266\n",
      "Training Accuracy: 0.9690, Testing Accuracy: 0.9718\n",
      "\n"
     ]
    },
    {
     "name": "stdout",
     "output_type": "stream",
     "text": [
      "Epoch 120, Loss 0.0257\n",
      "Training Accuracy: 0.9700, Testing Accuracy: 0.9713\n",
      "\n"
     ]
    },
    {
     "name": "stdout",
     "output_type": "stream",
     "text": [
      "Epoch 130, Loss 0.025\n",
      "Training Accuracy: 0.9707, Testing Accuracy: 0.9733\n",
      "\n"
     ]
    },
    {
     "name": "stdout",
     "output_type": "stream",
     "text": [
      "Epoch 140, Loss 0.0243\n",
      "Training Accuracy: 0.9716, Testing Accuracy: 0.9733\n",
      "\n"
     ]
    },
    {
     "name": "stdout",
     "output_type": "stream",
     "text": [
      "Epoch 150, Loss 0.0237\n",
      "Training Accuracy: 0.9721, Testing Accuracy: 0.9738\n",
      "\n"
     ]
    },
    {
     "name": "stdout",
     "output_type": "stream",
     "text": [
      "Epoch 160, Loss 0.0231\n",
      "Training Accuracy: 0.9727, Testing Accuracy: 0.9738\n",
      "\n"
     ]
    },
    {
     "name": "stdout",
     "output_type": "stream",
     "text": [
      "Epoch 170, Loss 0.0226\n",
      "Training Accuracy: 0.9735, Testing Accuracy: 0.9733\n",
      "\n"
     ]
    },
    {
     "name": "stdout",
     "output_type": "stream",
     "text": [
      "Epoch 180, Loss 0.022\n",
      "Training Accuracy: 0.9741, Testing Accuracy: 0.9738\n",
      "\n"
     ]
    },
    {
     "name": "stdout",
     "output_type": "stream",
     "text": [
      "Epoch 190, Loss 0.0216\n",
      "Training Accuracy: 0.9748, Testing Accuracy: 0.9738\n",
      "\n"
     ]
    },
    {
     "name": "stdout",
     "output_type": "stream",
     "text": [
      "Epoch 200, Loss 0.0211\n",
      "Training Accuracy: 0.9756, Testing Accuracy: 0.9738\n",
      "\n"
     ]
    },
    {
     "name": "stdout",
     "output_type": "stream",
     "text": [
      "Epoch 210, Loss 0.0207\n",
      "Training Accuracy: 0.9762, Testing Accuracy: 0.9743\n",
      "\n"
     ]
    },
    {
     "name": "stdout",
     "output_type": "stream",
     "text": [
      "Epoch 220, Loss 0.0202\n",
      "Training Accuracy: 0.9769, Testing Accuracy: 0.9743\n",
      "\n"
     ]
    },
    {
     "name": "stdout",
     "output_type": "stream",
     "text": [
      "Epoch 230, Loss 0.0198\n",
      "Training Accuracy: 0.9773, Testing Accuracy: 0.9743\n",
      "\n"
     ]
    },
    {
     "name": "stdout",
     "output_type": "stream",
     "text": [
      "Epoch 240, Loss 0.0194\n",
      "Training Accuracy: 0.9782, Testing Accuracy: 0.9748\n",
      "\n"
     ]
    },
    {
     "name": "stdout",
     "output_type": "stream",
     "text": [
      "Epoch 250, Loss 0.019\n",
      "Training Accuracy: 0.9790, Testing Accuracy: 0.9753\n",
      "\n"
     ]
    },
    {
     "data": {
      "text/plain": [
       "0.008805799169553907"
      ]
     },
     "execution_count": 20,
     "metadata": {},
     "output_type": "execute_result"
    }
   ],
   "source": [
    "print(\"====== Neural Network ======\")\n",
    "learner_nn.train_loop(dl)"
   ]
  },
  {
   "cell_type": "markdown",
   "metadata": {
    "papermill": {
     "duration": 0.037202,
     "end_time": "2021-01-05T20:13:26.825108",
     "exception": false,
     "start_time": "2021-01-05T20:13:26.787906",
     "status": "completed"
    },
    "tags": []
   },
   "source": [
    "### Logistic Regression based Implementation."
   ]
  },
  {
   "cell_type": "code",
   "execution_count": 21,
   "metadata": {
    "execution": {
     "iopub.execute_input": "2021-01-05T20:13:26.909958Z",
     "iopub.status.busy": "2021-01-05T20:13:26.909367Z",
     "iopub.status.idle": "2021-01-05T20:13:26.919404Z",
     "shell.execute_reply": "2021-01-05T20:13:26.919853Z"
    },
    "papermill": {
     "duration": 0.057927,
     "end_time": "2021-01-05T20:13:26.920003",
     "exception": false,
     "start_time": "2021-01-05T20:13:26.862076",
     "status": "completed"
    },
    "tags": []
   },
   "outputs": [],
   "source": [
    "learner_lr = Learner(loss, model_lr, opt, config.num_epochs)\n",
    "acc_lr = ClfCallback(learner_lr, config.bs, training_xdata , testing_xdata, training_ydata, testing_ydata)\n",
    "learner_lr.set_callbacks([acc_lr])"
   ]
  },
  {
   "cell_type": "code",
   "execution_count": 22,
   "metadata": {
    "execution": {
     "iopub.execute_input": "2021-01-05T20:13:26.998536Z",
     "iopub.status.busy": "2021-01-05T20:13:26.997941Z",
     "iopub.status.idle": "2021-01-05T20:13:42.792678Z",
     "shell.execute_reply": "2021-01-05T20:13:42.793154Z"
    },
    "papermill": {
     "duration": 15.836144,
     "end_time": "2021-01-05T20:13:42.793307",
     "exception": false,
     "start_time": "2021-01-05T20:13:26.957163",
     "status": "completed"
    },
    "tags": []
   },
   "outputs": [
    {
     "name": "stdout",
     "output_type": "stream",
     "text": [
      "====== Logistic Regression ======\n",
      "Epoch 0, Loss 0.218\n",
      "Training Accuracy: 0.7824, Testing Accuracy: 0.7923\n",
      "\n"
     ]
    },
    {
     "name": "stdout",
     "output_type": "stream",
     "text": [
      "Epoch 10, Loss 0.0985\n",
      "Training Accuracy: 0.9155, Testing Accuracy: 0.9284\n",
      "\n"
     ]
    },
    {
     "name": "stdout",
     "output_type": "stream",
     "text": [
      "Epoch 20, Loss 0.0774\n",
      "Training Accuracy: 0.9297, Testing Accuracy: 0.9430\n",
      "\n"
     ]
    },
    {
     "name": "stdout",
     "output_type": "stream",
     "text": [
      "Epoch 30, Loss 0.0674\n",
      "Training Accuracy: 0.9372, Testing Accuracy: 0.9476\n",
      "\n"
     ]
    },
    {
     "name": "stdout",
     "output_type": "stream",
     "text": [
      "Epoch 40, Loss 0.0613\n",
      "Training Accuracy: 0.9412, Testing Accuracy: 0.9526\n",
      "\n"
     ]
    },
    {
     "name": "stdout",
     "output_type": "stream",
     "text": [
      "Epoch 50, Loss 0.057\n",
      "Training Accuracy: 0.9438, Testing Accuracy: 0.9536\n",
      "\n"
     ]
    },
    {
     "name": "stdout",
     "output_type": "stream",
     "text": [
      "Epoch 60, Loss 0.0538\n",
      "Training Accuracy: 0.9467, Testing Accuracy: 0.9561\n",
      "\n"
     ]
    },
    {
     "name": "stdout",
     "output_type": "stream",
     "text": [
      "Epoch 70, Loss 0.0514\n",
      "Training Accuracy: 0.9481, Testing Accuracy: 0.9567\n",
      "\n"
     ]
    },
    {
     "name": "stdout",
     "output_type": "stream",
     "text": [
      "Epoch 80, Loss 0.0494\n",
      "Training Accuracy: 0.9499, Testing Accuracy: 0.9582\n",
      "\n"
     ]
    },
    {
     "name": "stdout",
     "output_type": "stream",
     "text": [
      "Epoch 90, Loss 0.0477\n",
      "Training Accuracy: 0.9515, Testing Accuracy: 0.9607\n",
      "\n"
     ]
    },
    {
     "name": "stdout",
     "output_type": "stream",
     "text": [
      "Epoch 100, Loss 0.0463\n",
      "Training Accuracy: 0.9524, Testing Accuracy: 0.9632\n",
      "\n"
     ]
    },
    {
     "name": "stdout",
     "output_type": "stream",
     "text": [
      "Epoch 110, Loss 0.0451\n",
      "Training Accuracy: 0.9543, Testing Accuracy: 0.9627\n",
      "\n"
     ]
    },
    {
     "name": "stdout",
     "output_type": "stream",
     "text": [
      "Epoch 120, Loss 0.044\n",
      "Training Accuracy: 0.9554, Testing Accuracy: 0.9627\n",
      "\n"
     ]
    },
    {
     "name": "stdout",
     "output_type": "stream",
     "text": [
      "Epoch 130, Loss 0.0431\n",
      "Training Accuracy: 0.9564, Testing Accuracy: 0.9647\n",
      "\n"
     ]
    },
    {
     "name": "stdout",
     "output_type": "stream",
     "text": [
      "Epoch 140, Loss 0.0423\n",
      "Training Accuracy: 0.9571, Testing Accuracy: 0.9652\n",
      "\n"
     ]
    },
    {
     "name": "stdout",
     "output_type": "stream",
     "text": [
      "Epoch 150, Loss 0.0415\n",
      "Training Accuracy: 0.9574, Testing Accuracy: 0.9657\n",
      "\n"
     ]
    },
    {
     "name": "stdout",
     "output_type": "stream",
     "text": [
      "Epoch 160, Loss 0.0409\n",
      "Training Accuracy: 0.9579, Testing Accuracy: 0.9662\n",
      "\n"
     ]
    },
    {
     "name": "stdout",
     "output_type": "stream",
     "text": [
      "Epoch 170, Loss 0.0403\n",
      "Training Accuracy: 0.9586, Testing Accuracy: 0.9657\n",
      "\n"
     ]
    },
    {
     "name": "stdout",
     "output_type": "stream",
     "text": [
      "Epoch 180, Loss 0.0397\n",
      "Training Accuracy: 0.9589, Testing Accuracy: 0.9662\n",
      "\n"
     ]
    },
    {
     "name": "stdout",
     "output_type": "stream",
     "text": [
      "Epoch 190, Loss 0.0392\n",
      "Training Accuracy: 0.9592, Testing Accuracy: 0.9667\n",
      "\n"
     ]
    },
    {
     "name": "stdout",
     "output_type": "stream",
     "text": [
      "Epoch 200, Loss 0.0387\n",
      "Training Accuracy: 0.9594, Testing Accuracy: 0.9667\n",
      "\n"
     ]
    },
    {
     "name": "stdout",
     "output_type": "stream",
     "text": [
      "Epoch 210, Loss 0.0382\n",
      "Training Accuracy: 0.9599, Testing Accuracy: 0.9672\n",
      "\n"
     ]
    },
    {
     "name": "stdout",
     "output_type": "stream",
     "text": [
      "Epoch 220, Loss 0.0378\n",
      "Training Accuracy: 0.9603, Testing Accuracy: 0.9672\n",
      "\n"
     ]
    },
    {
     "name": "stdout",
     "output_type": "stream",
     "text": [
      "Epoch 230, Loss 0.0374\n",
      "Training Accuracy: 0.9606, Testing Accuracy: 0.9677\n",
      "\n"
     ]
    },
    {
     "name": "stdout",
     "output_type": "stream",
     "text": [
      "Epoch 240, Loss 0.0371\n",
      "Training Accuracy: 0.9611, Testing Accuracy: 0.9677\n",
      "\n"
     ]
    },
    {
     "name": "stdout",
     "output_type": "stream",
     "text": [
      "Epoch 250, Loss 0.0367\n",
      "Training Accuracy: 0.9612, Testing Accuracy: 0.9677\n",
      "\n"
     ]
    },
    {
     "data": {
      "text/plain": [
       "0.03940815840306599"
      ]
     },
     "execution_count": 22,
     "metadata": {},
     "output_type": "execute_result"
    }
   ],
   "source": [
    "print(\"====== Logistic Regression ======\")\n",
    "learner_lr.train_loop(dl)"
   ]
  },
  {
   "cell_type": "markdown",
   "metadata": {
    "papermill": {
     "duration": 0.044892,
     "end_time": "2021-01-05T20:13:42.884118",
     "exception": false,
     "start_time": "2021-01-05T20:13:42.839226",
     "status": "completed"
    },
    "tags": []
   },
   "source": [
    "### Comparing results of NN and LR"
   ]
  },
  {
   "cell_type": "code",
   "execution_count": 23,
   "metadata": {
    "execution": {
     "iopub.execute_input": "2021-01-05T20:13:42.985239Z",
     "iopub.status.busy": "2021-01-05T20:13:42.984195Z",
     "iopub.status.idle": "2021-01-05T20:13:43.225293Z",
     "shell.execute_reply": "2021-01-05T20:13:43.224767Z"
    },
    "papermill": {
     "duration": 0.295735,
     "end_time": "2021-01-05T20:13:43.225425",
     "exception": false,
     "start_time": "2021-01-05T20:13:42.929690",
     "status": "completed"
    },
    "tags": []
   },
   "outputs": [
    {
     "data": {
      "text/plain": [
       "<matplotlib.legend.Legend at 0x7f071301bbe0>"
      ]
     },
     "execution_count": 23,
     "metadata": {},
     "output_type": "execute_result"
    },
    {
     "data": {
      "image/png": "[encoded data removed]",
      "text/plain": [
       "<Figure size 1080x720 with 1 Axes>"
      ]
     },
     "metadata": {
      "needs_background": "light"
     },
     "output_type": "display_data"
    }
   ],
   "source": [
    "plt.figure(figsize=(15,10))\n",
    "\n",
    "# Neural Network plots\n",
    "plt.plot(acc_nn.accuracies, 'r-', label = \"Training Accuracies - NN\")\n",
    "plt.plot(acc_nn.test_accuracies, 'g-', label = \"Testing Accuracies - NN\")\n",
    "\n",
    "# Logistic Regression plots\n",
    "plt.plot(acc_lr.accuracies, 'k-', label = \"Training Accuracies - LR\")\n",
    "plt.plot(acc_lr.test_accuracies, 'b-', label = \"Testing Accuracies - LR\")\n",
    "\n",
    "plt.ylim(0.8, 1)\n",
    "\n",
    "plt.legend()\n",
    "\n"
   ]
  },
  {
   "cell_type": "markdown",
   "metadata": {
    "papermill": {
     "duration": 0.04805,
     "end_time": "2021-01-05T20:13:43.321673",
     "exception": false,
     "start_time": "2021-01-05T20:13:43.273623",
     "status": "completed"
    },
    "tags": []
   },
   "source": [
    "### From the plot, we can observe the following:\n",
    "- Neural Network achieves higher accuracy than the Logistic Regression model.\n",
    "- This apparently, is because of overfitting, i.e. NN captures more noise than data.\n",
    "- Testing accuracy of NN drops below the Training accuracy at higher epochs. This explains the over-fitting on training data.\n",
    "- Logistic Regression gives a reliable accuracy, without the above mentioned problem.\n"
   ]
  },
  {
   "cell_type": "markdown",
   "metadata": {
    "papermill": {
     "duration": 0.048257,
     "end_time": "2021-01-05T20:13:43.418177",
     "exception": false,
     "start_time": "2021-01-05T20:13:43.369920",
     "status": "completed"
    },
    "tags": []
   },
   "source": [
    "### Moving till the last but one layer (excluding it).\n",
    "#### Plotting the outputs of this layer of the NN."
   ]
  },
  {
   "cell_type": "code",
   "execution_count": 24,
   "metadata": {
    "execution": {
     "iopub.execute_input": "2021-01-05T20:13:43.520432Z",
     "iopub.status.busy": "2021-01-05T20:13:43.519842Z",
     "iopub.status.idle": "2021-01-05T20:13:43.532636Z",
     "shell.execute_reply": "2021-01-05T20:13:43.533114Z"
    },
    "papermill": {
     "duration": 0.06704,
     "end_time": "2021-01-05T20:13:43.533264",
     "exception": false,
     "start_time": "2021-01-05T20:13:43.466224",
     "status": "completed"
    },
    "tags": []
   },
   "outputs": [],
   "source": [
    "model_new = Model(layers[:-2])"
   ]
  },
  {
   "cell_type": "code",
   "execution_count": 25,
   "metadata": {
    "execution": {
     "iopub.execute_input": "2021-01-05T20:13:43.639917Z",
     "iopub.status.busy": "2021-01-05T20:13:43.634276Z",
     "iopub.status.idle": "2021-01-05T20:13:43.654629Z",
     "shell.execute_reply": "2021-01-05T20:13:43.655380Z"
    },
    "papermill": {
     "duration": 0.073939,
     "end_time": "2021-01-05T20:13:43.655544",
     "exception": false,
     "start_time": "2021-01-05T20:13:43.581605",
     "status": "completed"
    },
    "tags": []
   },
   "outputs": [],
   "source": [
    "plot_testing = model_new(testing_xdata)"
   ]
  },
  {
   "cell_type": "code",
   "execution_count": 26,
   "metadata": {
    "execution": {
     "iopub.execute_input": "2021-01-05T20:13:43.760615Z",
     "iopub.status.busy": "2021-01-05T20:13:43.760009Z",
     "iopub.status.idle": "2021-01-05T20:13:43.960103Z",
     "shell.execute_reply": "2021-01-05T20:13:43.959587Z"
    },
    "papermill": {
     "duration": 0.256783,
     "end_time": "2021-01-05T20:13:43.960235",
     "exception": false,
     "start_time": "2021-01-05T20:13:43.703452",
     "status": "completed"
    },
    "tags": []
   },
   "outputs": [
    {
     "data": {
      "text/plain": [
       "Text(0.5, 1.0, 'Outputs')"
      ]
     },
     "execution_count": 26,
     "metadata": {},
     "output_type": "execute_result"
    },
    {
     "data": {
      "image/png": "[encoded data removed]",
      "text/plain": [
       "<Figure size 576x504 with 1 Axes>"
      ]
     },
     "metadata": {
      "needs_background": "light"
     },
     "output_type": "display_data"
    }
   ],
   "source": [
    "plt.figure(figsize=(8,7))\n",
    "plt.scatter(plot_testing[:,0], plot_testing[:,1], alpha = 0.1, c = y_test.ravel());\n",
    "plt.title('Outputs')"
   ]
  },
  {
   "cell_type": "markdown",
   "metadata": {
    "papermill": {
     "duration": 0.048198,
     "end_time": "2021-01-05T20:13:44.057344",
     "exception": false,
     "start_time": "2021-01-05T20:13:44.009146",
     "status": "completed"
    },
    "tags": []
   },
   "source": [
    "### Plotting probability contours"
   ]
  },
  {
   "cell_type": "code",
   "execution_count": 27,
   "metadata": {
    "execution": {
     "iopub.execute_input": "2021-01-05T20:13:44.161674Z",
     "iopub.status.busy": "2021-01-05T20:13:44.159027Z",
     "iopub.status.idle": "2021-01-05T20:13:44.172537Z",
     "shell.execute_reply": "2021-01-05T20:13:44.171761Z"
    },
    "papermill": {
     "duration": 0.067857,
     "end_time": "2021-01-05T20:13:44.172668",
     "exception": false,
     "start_time": "2021-01-05T20:13:44.104811",
     "status": "completed"
    },
    "tags": []
   },
   "outputs": [],
   "source": [
    "model_prob = Model(layers[-2:]) "
   ]
  },
  {
   "cell_type": "code",
   "execution_count": 28,
   "metadata": {
    "execution": {
     "iopub.execute_input": "2021-01-05T20:13:44.274873Z",
     "iopub.status.busy": "2021-01-05T20:13:44.274271Z",
     "iopub.status.idle": "2021-01-05T20:13:44.289112Z",
     "shell.execute_reply": "2021-01-05T20:13:44.289572Z"
    },
    "papermill": {
     "duration": 0.068664,
     "end_time": "2021-01-05T20:13:44.289729",
     "exception": false,
     "start_time": "2021-01-05T20:13:44.221065",
     "status": "completed"
    },
    "tags": []
   },
   "outputs": [],
   "source": [
    "# Adjust the x and y ranges according to the above generated plot.\n",
    "x_range = np.linspace(-4, 1, 100) \n",
    "y_range = np.linspace(-6, 6, 100) \n",
    "x_grid, y_grid = np.meshgrid(x_range, y_range) # x_grid and y_grig are of size 100 X 100\n",
    "\n",
    "# converting x_grid and y_grid to continuous arrays\n",
    "x_grid_flat = np.ravel(x_grid)\n",
    "y_grid_flat = np.ravel(y_grid)\n",
    "\n",
    "# The last layer of the current model takes two columns as input. Hence transpose of np.vstack() is required.\n",
    "X = np.vstack((x_grid_flat, y_grid_flat)).T\n",
    "\n",
    "# x_grid and y_grid are of size 100 x 100\n",
    "probability_contour = model_prob(X).reshape(100,100) "
   ]
  },
  {
   "cell_type": "code",
   "execution_count": 29,
   "metadata": {
    "execution": {
     "iopub.execute_input": "2021-01-05T20:13:44.421876Z",
     "iopub.status.busy": "2021-01-05T20:13:44.421252Z",
     "iopub.status.idle": "2021-01-05T20:13:44.671546Z",
     "shell.execute_reply": "2021-01-05T20:13:44.670453Z"
    },
    "papermill": {
     "duration": 0.304877,
     "end_time": "2021-01-05T20:13:44.672016",
     "exception": false,
     "start_time": "2021-01-05T20:13:44.367139",
     "status": "completed"
    },
    "tags": []
   },
   "outputs": [
    {
     "data": {
      "image/png": "[encoded data removed]",
      "text/plain": [
       "<Figure size 720x648 with 1 Axes>"
      ]
     },
     "metadata": {
      "needs_background": "light"
     },
     "output_type": "display_data"
    }
   ],
   "source": [
    "plt.figure(figsize=(10,9))\n",
    "plt.scatter(plot_testing[:,0], plot_testing[:,1], alpha = 0.1, c = y_test.ravel())\n",
    "contours = plt.contour(x_grid,y_grid,probability_contour)\n",
    "plt.title('Probability Contours')\n",
    "plt.clabel(contours, inline = True );"
   ]
  }
 ],
 "metadata": {
  "kernelspec": {
   "display_name": "Python 3",
   "language": "python",
   "name": "python3"
  },
  "language_info": {
   "codemirror_mode": {
    "name": "ipython",
    "version": 3
   },
   "file_extension": ".py",
   "mimetype": "text/x-python",
   "name": "python",
   "nbconvert_exporter": "python",
   "pygments_lexer": "ipython3",
   "version": "3.6.12"
  },
  "papermill": {
   "duration": 117.378384,
   "end_time": "2021-01-05T20:13:45.900447",
   "environment_variables": {},
   "exception": null,
   "input_path": "2020-08-11-NeuralNetwork.ipynb",
   "output_path": "2020-08-11-NeuralNetwork.ipynb",
   "parameters": {},
   "start_time": "2021-01-05T20:11:48.522063",
   "version": "2.1.2"
  }
 },
 "nbformat": 4,
 "nbformat_minor": 4
}