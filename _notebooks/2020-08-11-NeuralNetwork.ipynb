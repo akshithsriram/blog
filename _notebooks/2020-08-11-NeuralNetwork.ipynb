{
 "cells": [
  {
   "cell_type": "markdown",
   "metadata": {
    "papermill": {
     "duration": 0.024515,
     "end_time": "2020-12-18T00:07:38.950638",
     "exception": false,
     "start_time": "2020-12-18T00:07:38.926123",
     "status": "completed"
    },
    "tags": []
   },
   "source": [
    "# \"A Basic Neural Network: Differentiate Hand-Written Digits\"\n",
    "\n",
    "- badges: true\n",
    "- author: Akshith Sriram"
   ]
  },
  {
   "cell_type": "markdown",
   "metadata": {
    "papermill": {
     "duration": 0.021229,
     "end_time": "2020-12-18T00:07:38.994287",
     "exception": false,
     "start_time": "2020-12-18T00:07:38.973058",
     "status": "completed"
    },
    "tags": []
   },
   "source": [
    "### Key Objectives:\n",
    "- Building a neural network that differentiates two hand-written digits 3 and 8.\n",
    "- Comparing the results of this Neural Network (NN) to that of a Logistic Regression (LR) model.\n",
    "\n",
    "### Requirements:\n",
    "- 'Kudzu' : A neural network library that was designed during our course by [Univ.AI](www.univ.ai). \n",
    "- MNIST Database\n",
    "\n",
    "If MNIST is not installed, use the command `!pip install mnist` given below.\n",
    "It can be run both from the command line and Jupyter Notebook."
   ]
  },
  {
   "cell_type": "code",
   "execution_count": 1,
   "metadata": {
    "execution": {
     "iopub.execute_input": "2020-12-18T00:07:39.054633Z",
     "iopub.status.busy": "2020-12-18T00:07:39.054131Z",
     "iopub.status.idle": "2020-12-18T00:07:40.353148Z",
     "shell.execute_reply": "2020-12-18T00:07:40.351642Z"
    },
    "papermill": {
     "duration": 1.33454,
     "end_time": "2020-12-18T00:07:40.353426",
     "exception": false,
     "start_time": "2020-12-18T00:07:39.018886",
     "status": "completed"
    },
    "tags": []
   },
   "outputs": [
    {
     "name": "stdout",
     "output_type": "stream",
     "text": [
      "Collecting mnist\r\n"
     ]
    },
    {
     "name": "stdout",
     "output_type": "stream",
     "text": [
      "  Downloading mnist-0.2.2-py2.py3-none-any.whl (3.5 kB)\r\n",
      "Requirement already satisfied: numpy in /opt/hostedtoolcache/Python/3.6.12/x64/lib/python3.6/site-packages (from mnist) (1.19.4)\r\n"
     ]
    },
    {
     "name": "stdout",
     "output_type": "stream",
     "text": [
      "Installing collected packages: mnist\r\n"
     ]
    },
    {
     "name": "stdout",
     "output_type": "stream",
     "text": [
      "Successfully installed mnist-0.2.2\r\n",
      "\u001b[33mWARNING: You are using pip version 20.3.1; however, version 20.3.3 is available.\r\n",
      "You should consider upgrading via the '/opt/hostedtoolcache/Python/3.6.12/x64/bin/python -m pip install --upgrade pip' command.\u001b[0m\r\n"
     ]
    }
   ],
   "source": [
    "!pip install mnist "
   ]
  },
  {
   "cell_type": "markdown",
   "metadata": {
    "papermill": {
     "duration": 0.021404,
     "end_time": "2020-12-18T00:07:40.398731",
     "exception": false,
     "start_time": "2020-12-18T00:07:40.377327",
     "status": "completed"
    },
    "tags": []
   },
   "source": [
    "#### Importing necessary libraries"
   ]
  },
  {
   "cell_type": "code",
   "execution_count": 2,
   "metadata": {
    "execution": {
     "iopub.execute_input": "2020-12-18T00:07:40.453262Z",
     "iopub.status.busy": "2020-12-18T00:07:40.452779Z",
     "iopub.status.idle": "2020-12-18T00:07:40.946258Z",
     "shell.execute_reply": "2020-12-18T00:07:40.945725Z"
    },
    "papermill": {
     "duration": 0.523426,
     "end_time": "2020-12-18T00:07:40.946397",
     "exception": false,
     "start_time": "2020-12-18T00:07:40.422971",
     "status": "completed"
    },
    "tags": []
   },
   "outputs": [],
   "source": [
    "%load_ext autoreload\n",
    "%autoreload 2\n",
    "\n",
    "%matplotlib inline\n",
    "import matplotlib.pyplot as plt\n",
    "\n",
    "import numpy as np\n",
    "import pandas as pd"
   ]
  },
  {
   "cell_type": "markdown",
   "metadata": {
    "papermill": {
     "duration": 0.027658,
     "end_time": "2020-12-18T00:07:41.002978",
     "exception": false,
     "start_time": "2020-12-18T00:07:40.975320",
     "status": "completed"
    },
    "tags": []
   },
   "source": [
    "### Preparing the Data"
   ]
  },
  {
   "cell_type": "code",
   "execution_count": 3,
   "metadata": {
    "execution": {
     "iopub.execute_input": "2020-12-18T00:07:41.055884Z",
     "iopub.status.busy": "2020-12-18T00:07:41.054959Z",
     "iopub.status.idle": "2020-12-18T00:07:41.071390Z",
     "shell.execute_reply": "2020-12-18T00:07:41.070841Z"
    },
    "papermill": {
     "duration": 0.043812,
     "end_time": "2020-12-18T00:07:41.071499",
     "exception": false,
     "start_time": "2020-12-18T00:07:41.027687",
     "status": "completed"
    },
    "tags": []
   },
   "outputs": [],
   "source": [
    "import mnist"
   ]
  },
  {
   "cell_type": "code",
   "execution_count": 4,
   "metadata": {
    "execution": {
     "iopub.execute_input": "2020-12-18T00:07:41.122995Z",
     "iopub.status.busy": "2020-12-18T00:07:41.122455Z",
     "iopub.status.idle": "2020-12-18T00:07:41.831313Z",
     "shell.execute_reply": "2020-12-18T00:07:41.830334Z"
    },
    "papermill": {
     "duration": 0.736375,
     "end_time": "2020-12-18T00:07:41.831542",
     "exception": false,
     "start_time": "2020-12-18T00:07:41.095167",
     "status": "completed"
    },
    "tags": []
   },
   "outputs": [],
   "source": [
    "train_images = mnist.train_images()\n",
    "train_labels = mnist.train_labels()"
   ]
  },
  {
   "cell_type": "code",
   "execution_count": 5,
   "metadata": {
    "execution": {
     "iopub.execute_input": "2020-12-18T00:07:41.886375Z",
     "iopub.status.busy": "2020-12-18T00:07:41.885783Z",
     "iopub.status.idle": "2020-12-18T00:07:41.903138Z",
     "shell.execute_reply": "2020-12-18T00:07:41.902735Z"
    },
    "papermill": {
     "duration": 0.050205,
     "end_time": "2020-12-18T00:07:41.903250",
     "exception": false,
     "start_time": "2020-12-18T00:07:41.853045",
     "status": "completed"
    },
    "tags": []
   },
   "outputs": [
    {
     "data": {
      "text/plain": [
       "((60000, 28, 28), (60000,))"
      ]
     },
     "execution_count": 5,
     "metadata": {},
     "output_type": "execute_result"
    }
   ],
   "source": [
    "train_images.shape, train_labels.shape"
   ]
  },
  {
   "cell_type": "code",
   "execution_count": 6,
   "metadata": {
    "execution": {
     "iopub.execute_input": "2020-12-18T00:07:41.953769Z",
     "iopub.status.busy": "2020-12-18T00:07:41.953294Z",
     "iopub.status.idle": "2020-12-18T00:07:42.246724Z",
     "shell.execute_reply": "2020-12-18T00:07:42.245328Z"
    },
    "papermill": {
     "duration": 0.322223,
     "end_time": "2020-12-18T00:07:42.246852",
     "exception": false,
     "start_time": "2020-12-18T00:07:41.924629",
     "status": "completed"
    },
    "tags": []
   },
   "outputs": [],
   "source": [
    "test_images = mnist.test_images()\n",
    "test_labels = mnist.test_labels()"
   ]
  },
  {
   "cell_type": "code",
   "execution_count": 7,
   "metadata": {
    "execution": {
     "iopub.execute_input": "2020-12-18T00:07:42.295527Z",
     "iopub.status.busy": "2020-12-18T00:07:42.294383Z",
     "iopub.status.idle": "2020-12-18T00:07:42.305480Z",
     "shell.execute_reply": "2020-12-18T00:07:42.305869Z"
    },
    "papermill": {
     "duration": 0.037842,
     "end_time": "2020-12-18T00:07:42.305983",
     "exception": false,
     "start_time": "2020-12-18T00:07:42.268141",
     "status": "completed"
    },
    "tags": []
   },
   "outputs": [
    {
     "data": {
      "text/plain": [
       "((10000, 28, 28), (10000,))"
      ]
     },
     "execution_count": 7,
     "metadata": {},
     "output_type": "execute_result"
    }
   ],
   "source": [
    "test_images.shape, test_labels.shape"
   ]
  },
  {
   "cell_type": "code",
   "execution_count": 8,
   "metadata": {
    "execution": {
     "iopub.execute_input": "2020-12-18T00:07:42.359166Z",
     "iopub.status.busy": "2020-12-18T00:07:42.358412Z",
     "iopub.status.idle": "2020-12-18T00:07:42.495699Z",
     "shell.execute_reply": "2020-12-18T00:07:42.494996Z"
    },
    "papermill": {
     "duration": 0.165955,
     "end_time": "2020-12-18T00:07:42.495827",
     "exception": false,
     "start_time": "2020-12-18T00:07:42.329872",
     "status": "completed"
    },
    "tags": []
   },
   "outputs": [
    {
     "name": "stdout",
     "output_type": "stream",
     "text": [
      "2\n"
     ]
    },
    {
     "data": {
      "text/plain": [
       "<matplotlib.image.AxesImage at 0x7f56e4d0a278>"
      ]
     },
     "execution_count": 8,
     "metadata": {},
     "output_type": "execute_result"
    },
    {
     "data": {
      "image/png": "[encoded data removed]",
      "text/plain": [
       "<Figure size 432x288 with 1 Axes>"
      ]
     },
     "metadata": {
      "needs_background": "light"
     },
     "output_type": "display_data"
    }
   ],
   "source": [
    "image_index = 7776 # You may select anything up to 60,000\n",
    "print(train_labels[image_index]) \n",
    "plt.imshow(train_images[image_index], cmap='Greys')"
   ]
  },
  {
   "cell_type": "markdown",
   "metadata": {
    "papermill": {
     "duration": 0.023106,
     "end_time": "2020-12-18T00:07:42.544038",
     "exception": false,
     "start_time": "2020-12-18T00:07:42.520932",
     "status": "completed"
    },
    "tags": []
   },
   "source": [
    "## Filter data to get 3 and 8 out"
   ]
  },
  {
   "cell_type": "code",
   "execution_count": 9,
   "metadata": {
    "execution": {
     "iopub.execute_input": "2020-12-18T00:07:42.598059Z",
     "iopub.status.busy": "2020-12-18T00:07:42.596790Z",
     "iopub.status.idle": "2020-12-18T00:07:42.615712Z",
     "shell.execute_reply": "2020-12-18T00:07:42.615282Z"
    },
    "papermill": {
     "duration": 0.049128,
     "end_time": "2020-12-18T00:07:42.615824",
     "exception": false,
     "start_time": "2020-12-18T00:07:42.566696",
     "status": "completed"
    },
    "tags": []
   },
   "outputs": [],
   "source": [
    "train_filter = np.where((train_labels == 3 ) | (train_labels == 8))\n",
    "test_filter = np.where((test_labels == 3) | (test_labels == 8))\n",
    "X_train, y_train = train_images[train_filter], train_labels[train_filter]\n",
    "X_test, y_test = test_images[test_filter], test_labels[test_filter]"
   ]
  },
  {
   "cell_type": "markdown",
   "metadata": {
    "papermill": {
     "duration": 0.023937,
     "end_time": "2020-12-18T00:07:42.663419",
     "exception": false,
     "start_time": "2020-12-18T00:07:42.639482",
     "status": "completed"
    },
    "tags": []
   },
   "source": [
    "We normalize the pixel values in the 0 to 1 range"
   ]
  },
  {
   "cell_type": "code",
   "execution_count": 10,
   "metadata": {
    "execution": {
     "iopub.execute_input": "2020-12-18T00:07:42.714164Z",
     "iopub.status.busy": "2020-12-18T00:07:42.713620Z",
     "iopub.status.idle": "2020-12-18T00:07:42.766084Z",
     "shell.execute_reply": "2020-12-18T00:07:42.767104Z"
    },
    "papermill": {
     "duration": 0.080667,
     "end_time": "2020-12-18T00:07:42.767381",
     "exception": false,
     "start_time": "2020-12-18T00:07:42.686714",
     "status": "completed"
    },
    "tags": []
   },
   "outputs": [],
   "source": [
    "X_train = X_train/255.\n",
    "X_test = X_test/255."
   ]
  },
  {
   "cell_type": "markdown",
   "metadata": {
    "papermill": {
     "duration": 0.024753,
     "end_time": "2020-12-18T00:07:42.820029",
     "exception": false,
     "start_time": "2020-12-18T00:07:42.795276",
     "status": "completed"
    },
    "tags": []
   },
   "source": [
    "Setup the labels as 1 (when the digit is 3) and 0 (when the digit is 8)"
   ]
  },
  {
   "cell_type": "code",
   "execution_count": 11,
   "metadata": {
    "execution": {
     "iopub.execute_input": "2020-12-18T00:07:42.874583Z",
     "iopub.status.busy": "2020-12-18T00:07:42.874098Z",
     "iopub.status.idle": "2020-12-18T00:07:42.885633Z",
     "shell.execute_reply": "2020-12-18T00:07:42.885997Z"
    },
    "papermill": {
     "duration": 0.041341,
     "end_time": "2020-12-18T00:07:42.886120",
     "exception": false,
     "start_time": "2020-12-18T00:07:42.844779",
     "status": "completed"
    },
    "tags": []
   },
   "outputs": [],
   "source": [
    "y_train = 1*(y_train==3)\n",
    "y_test = 1*(y_test==3)"
   ]
  },
  {
   "cell_type": "code",
   "execution_count": 12,
   "metadata": {
    "execution": {
     "iopub.execute_input": "2020-12-18T00:07:42.934899Z",
     "iopub.status.busy": "2020-12-18T00:07:42.934411Z",
     "iopub.status.idle": "2020-12-18T00:07:42.947005Z",
     "shell.execute_reply": "2020-12-18T00:07:42.946490Z"
    },
    "papermill": {
     "duration": 0.03772,
     "end_time": "2020-12-18T00:07:42.947138",
     "exception": false,
     "start_time": "2020-12-18T00:07:42.909418",
     "status": "completed"
    },
    "tags": []
   },
   "outputs": [
    {
     "data": {
      "text/plain": [
       "((11982, 28, 28), (1984, 28, 28))"
      ]
     },
     "execution_count": 12,
     "metadata": {},
     "output_type": "execute_result"
    }
   ],
   "source": [
    "X_train.shape, X_test.shape"
   ]
  },
  {
   "cell_type": "markdown",
   "metadata": {
    "papermill": {
     "duration": 0.024469,
     "end_time": "2020-12-18T00:07:43.004283",
     "exception": false,
     "start_time": "2020-12-18T00:07:42.979814",
     "status": "completed"
    },
    "tags": []
   },
   "source": [
    "### Reshape the input data to create a linear array"
   ]
  },
  {
   "cell_type": "code",
   "execution_count": 13,
   "metadata": {
    "execution": {
     "iopub.execute_input": "2020-12-18T00:07:43.055263Z",
     "iopub.status.busy": "2020-12-18T00:07:43.054758Z",
     "iopub.status.idle": "2020-12-18T00:07:43.067713Z",
     "shell.execute_reply": "2020-12-18T00:07:43.068152Z"
    },
    "papermill": {
     "duration": 0.040704,
     "end_time": "2020-12-18T00:07:43.068273",
     "exception": false,
     "start_time": "2020-12-18T00:07:43.027569",
     "status": "completed"
    },
    "tags": []
   },
   "outputs": [
    {
     "data": {
      "text/plain": [
       "((11982, 784), (1984, 784))"
      ]
     },
     "execution_count": 13,
     "metadata": {},
     "output_type": "execute_result"
    }
   ],
   "source": [
    "X_train = X_train.reshape(X_train.shape[0], -1)\n",
    "X_test = X_test.reshape(X_test.shape[0], -1)\n",
    "X_train.shape, X_test.shape"
   ]
  },
  {
   "cell_type": "markdown",
   "metadata": {
    "papermill": {
     "duration": 0.02342,
     "end_time": "2020-12-18T00:07:43.116570",
     "exception": false,
     "start_time": "2020-12-18T00:07:43.093150",
     "status": "completed"
    },
    "tags": []
   },
   "source": [
    "### Importing appropriate functions from 'Kudzu'"
   ]
  },
  {
   "cell_type": "code",
   "execution_count": 14,
   "metadata": {
    "execution": {
     "iopub.execute_input": "2020-12-18T00:07:43.172673Z",
     "iopub.status.busy": "2020-12-18T00:07:43.172166Z",
     "iopub.status.idle": "2020-12-18T00:07:43.193299Z",
     "shell.execute_reply": "2020-12-18T00:07:43.192473Z"
    },
    "papermill": {
     "duration": 0.051893,
     "end_time": "2020-12-18T00:07:43.193509",
     "exception": false,
     "start_time": "2020-12-18T00:07:43.141616",
     "status": "completed"
    },
    "tags": []
   },
   "outputs": [],
   "source": [
    "from kudzu.layer import Sigmoid\n",
    "from kudzu.layer import Relu\n",
    "from kudzu.layer import Affine, Sigmoid\n",
    "\n",
    "from kudzu.model import Model\n",
    "from kudzu.train import Learner\n",
    "from kudzu.optim import GD\n",
    "from kudzu.data import Data, Dataloader, Sampler\n",
    "\n",
    "from kudzu.callbacks import AccCallback\n",
    "from kudzu.callbacks import ClfCallback\n",
    "\n",
    "from kudzu.loss import MSE"
   ]
  },
  {
   "cell_type": "markdown",
   "metadata": {
    "papermill": {
     "duration": 0.025216,
     "end_time": "2020-12-18T00:07:43.245258",
     "exception": false,
     "start_time": "2020-12-18T00:07:43.220042",
     "status": "completed"
    },
    "tags": []
   },
   "source": [
    "### Let us create a `Config` class, to store important parameters. \n",
    "This class essentially plays the role of a dictionary."
   ]
  },
  {
   "cell_type": "code",
   "execution_count": 15,
   "metadata": {
    "execution": {
     "iopub.execute_input": "2020-12-18T00:07:43.297541Z",
     "iopub.status.busy": "2020-12-18T00:07:43.297060Z",
     "iopub.status.idle": "2020-12-18T00:07:43.309271Z",
     "shell.execute_reply": "2020-12-18T00:07:43.309713Z"
    },
    "papermill": {
     "duration": 0.040825,
     "end_time": "2020-12-18T00:07:43.309842",
     "exception": false,
     "start_time": "2020-12-18T00:07:43.269017",
     "status": "completed"
    },
    "tags": []
   },
   "outputs": [],
   "source": [
    "class Config:\n",
    "    pass\n",
    "config = Config()\n",
    "config.lr = 0.001\n",
    "config.num_epochs = 251\n",
    "config.bs = 50"
   ]
  },
  {
   "cell_type": "markdown",
   "metadata": {
    "papermill": {
     "duration": 0.021901,
     "end_time": "2020-12-18T00:07:43.357273",
     "exception": false,
     "start_time": "2020-12-18T00:07:43.335372",
     "status": "completed"
    },
    "tags": []
   },
   "source": [
    "### Initializing data to the variables"
   ]
  },
  {
   "cell_type": "code",
   "execution_count": 16,
   "metadata": {
    "execution": {
     "iopub.execute_input": "2020-12-18T00:07:43.410497Z",
     "iopub.status.busy": "2020-12-18T00:07:43.409960Z",
     "iopub.status.idle": "2020-12-18T00:07:43.420746Z",
     "shell.execute_reply": "2020-12-18T00:07:43.420304Z"
    },
    "papermill": {
     "duration": 0.039845,
     "end_time": "2020-12-18T00:07:43.420846",
     "exception": false,
     "start_time": "2020-12-18T00:07:43.381001",
     "status": "completed"
    },
    "tags": []
   },
   "outputs": [],
   "source": [
    "data = Data(X_train, y_train.reshape(-1,1))\n",
    "sampler = Sampler(data, config.bs, shuffle=True)\n",
    "\n",
    "dl = Dataloader(data, sampler)\n",
    "\n",
    "opt = GD(config.lr)\n",
    "loss = MSE()"
   ]
  },
  {
   "cell_type": "code",
   "execution_count": 17,
   "metadata": {
    "execution": {
     "iopub.execute_input": "2020-12-18T00:07:43.477353Z",
     "iopub.status.busy": "2020-12-18T00:07:43.476797Z",
     "iopub.status.idle": "2020-12-18T00:07:43.487751Z",
     "shell.execute_reply": "2020-12-18T00:07:43.488087Z"
    },
    "papermill": {
     "duration": 0.044081,
     "end_time": "2020-12-18T00:07:43.488184",
     "exception": false,
     "start_time": "2020-12-18T00:07:43.444103",
     "status": "completed"
    },
    "tags": []
   },
   "outputs": [],
   "source": [
    "training_xdata = X_train\n",
    "testing_xdata = X_test\n",
    "training_ydata = y_train.reshape(-1,1)\n",
    "testing_ydata = y_test.reshape(-1,1)"
   ]
  },
  {
   "cell_type": "markdown",
   "metadata": {
    "papermill": {
     "duration": 0.024926,
     "end_time": "2020-12-18T00:07:43.536290",
     "exception": false,
     "start_time": "2020-12-18T00:07:43.511364",
     "status": "completed"
    },
    "tags": []
   },
   "source": [
    "### Running Models with the Training data\n",
    "Details about the network layers:\n",
    "- A first affine layer has 784 inputs and does 100 affine transforms. These are followed by a Relu\n",
    "- A second affine layer has 100 inputs from the 100 activations of the past layer, and does 100 affine transforms. These are followed by a Relu\n",
    "- A third affine layer has 100 activations and does 2 affine transformations to create an embedding for visualization. There is no non-linearity here.\n",
    "- A final \"logistic regression\" which has an affine transform from 2 inputs to 1 output, which is squeezed through a sigmoid.\n",
    "\n",
    "Help taken from Anshuman's Notebook."
   ]
  },
  {
   "cell_type": "code",
   "execution_count": 18,
   "metadata": {
    "execution": {
     "iopub.execute_input": "2020-12-18T00:07:43.586568Z",
     "iopub.status.busy": "2020-12-18T00:07:43.586085Z",
     "iopub.status.idle": "2020-12-18T00:07:43.601977Z",
     "shell.execute_reply": "2020-12-18T00:07:43.601505Z"
    },
    "papermill": {
     "duration": 0.042968,
     "end_time": "2020-12-18T00:07:43.602088",
     "exception": false,
     "start_time": "2020-12-18T00:07:43.559120",
     "status": "completed"
    },
    "tags": []
   },
   "outputs": [],
   "source": [
    "# layers for the Neural Network\n",
    "layers = [Affine(\"first\", 784, 100), Relu(\"first\"), Affine(\"second\", 100, 100), Relu(\"second\"), Affine(\"third\", 100, 2), Affine(\"final\", 2, 1), Sigmoid(\"final\")]\n",
    "model_nn = Model(layers)\n",
    "\n",
    "# layers for the Logistic Regression\n",
    "layers_lr = [Affine(\"logits\", 784, 1), Sigmoid(\"sigmoid\")]\n",
    "model_lr = Model(layers_lr)"
   ]
  },
  {
   "cell_type": "code",
   "execution_count": 19,
   "metadata": {
    "execution": {
     "iopub.execute_input": "2020-12-18T00:07:43.655815Z",
     "iopub.status.busy": "2020-12-18T00:07:43.654746Z",
     "iopub.status.idle": "2020-12-18T00:07:43.664642Z",
     "shell.execute_reply": "2020-12-18T00:07:43.664208Z"
    },
    "papermill": {
     "duration": 0.036384,
     "end_time": "2020-12-18T00:07:43.664738",
     "exception": false,
     "start_time": "2020-12-18T00:07:43.628354",
     "status": "completed"
    },
    "tags": []
   },
   "outputs": [],
   "source": [
    "# suffix _nn stands for Neural Network.\n",
    "learner_nn = Learner(loss, model_nn, opt, config.num_epochs)\n",
    "acc_nn = ClfCallback(learner_nn, config.bs, training_xdata , testing_xdata, training_ydata, testing_ydata)\n",
    "learner_nn.set_callbacks([acc_nn])"
   ]
  },
  {
   "cell_type": "code",
   "execution_count": 20,
   "metadata": {
    "execution": {
     "iopub.execute_input": "2020-12-18T00:07:43.716748Z",
     "iopub.status.busy": "2020-12-18T00:07:43.716258Z",
     "iopub.status.idle": "2020-12-18T00:09:03.500741Z",
     "shell.execute_reply": "2020-12-18T00:09:03.500268Z"
    },
    "papermill": {
     "duration": 79.812197,
     "end_time": "2020-12-18T00:09:03.500867",
     "exception": false,
     "start_time": "2020-12-18T00:07:43.688670",
     "status": "completed"
    },
    "tags": []
   },
   "outputs": [
    {
     "name": "stdout",
     "output_type": "stream",
     "text": [
      "====== Neural Network ======\n"
     ]
    },
    {
     "name": "stdout",
     "output_type": "stream",
     "text": [
      "Epoch 0, Loss 0.2162\n",
      "Training Accuracy: 0.8096, Testing Accuracy: 0.8120\n",
      "\n"
     ]
    },
    {
     "name": "stdout",
     "output_type": "stream",
     "text": [
      "Epoch 10, Loss 0.0599\n",
      "Training Accuracy: 0.9398, Testing Accuracy: 0.9486\n",
      "\n"
     ]
    },
    {
     "name": "stdout",
     "output_type": "stream",
     "text": [
      "Epoch 20, Loss 0.0426\n",
      "Training Accuracy: 0.9532, Testing Accuracy: 0.9587\n",
      "\n"
     ]
    },
    {
     "name": "stdout",
     "output_type": "stream",
     "text": [
      "Epoch 30, Loss 0.0358\n",
      "Training Accuracy: 0.9591, Testing Accuracy: 0.9642\n",
      "\n"
     ]
    },
    {
     "name": "stdout",
     "output_type": "stream",
     "text": [
      "Epoch 40, Loss 0.032\n",
      "Training Accuracy: 0.9640, Testing Accuracy: 0.9672\n",
      "\n"
     ]
    },
    {
     "name": "stdout",
     "output_type": "stream",
     "text": [
      "Epoch 50, Loss 0.0294\n",
      "Training Accuracy: 0.9670, Testing Accuracy: 0.9682\n",
      "\n"
     ]
    },
    {
     "name": "stdout",
     "output_type": "stream",
     "text": [
      "Epoch 60, Loss 0.0276\n",
      "Training Accuracy: 0.9696, Testing Accuracy: 0.9682\n",
      "\n"
     ]
    },
    {
     "name": "stdout",
     "output_type": "stream",
     "text": [
      "Epoch 70, Loss 0.0262\n",
      "Training Accuracy: 0.9703, Testing Accuracy: 0.9693\n",
      "\n"
     ]
    },
    {
     "name": "stdout",
     "output_type": "stream",
     "text": [
      "Epoch 80, Loss 0.025\n",
      "Training Accuracy: 0.9717, Testing Accuracy: 0.9703\n",
      "\n"
     ]
    },
    {
     "name": "stdout",
     "output_type": "stream",
     "text": [
      "Epoch 90, Loss 0.024\n",
      "Training Accuracy: 0.9731, Testing Accuracy: 0.9703\n",
      "\n"
     ]
    },
    {
     "name": "stdout",
     "output_type": "stream",
     "text": [
      "Epoch 100, Loss 0.0232\n",
      "Training Accuracy: 0.9740, Testing Accuracy: 0.9713\n",
      "\n"
     ]
    },
    {
     "name": "stdout",
     "output_type": "stream",
     "text": [
      "Epoch 110, Loss 0.0225\n",
      "Training Accuracy: 0.9748, Testing Accuracy: 0.9728\n",
      "\n"
     ]
    },
    {
     "name": "stdout",
     "output_type": "stream",
     "text": [
      "Epoch 120, Loss 0.0218\n",
      "Training Accuracy: 0.9756, Testing Accuracy: 0.9728\n",
      "\n"
     ]
    },
    {
     "name": "stdout",
     "output_type": "stream",
     "text": [
      "Epoch 130, Loss 0.0212\n",
      "Training Accuracy: 0.9767, Testing Accuracy: 0.9743\n",
      "\n"
     ]
    },
    {
     "name": "stdout",
     "output_type": "stream",
     "text": [
      "Epoch 140, Loss 0.0206\n",
      "Training Accuracy: 0.9771, Testing Accuracy: 0.9753\n",
      "\n"
     ]
    },
    {
     "name": "stdout",
     "output_type": "stream",
     "text": [
      "Epoch 150, Loss 0.0201\n",
      "Training Accuracy: 0.9774, Testing Accuracy: 0.9748\n",
      "\n"
     ]
    },
    {
     "name": "stdout",
     "output_type": "stream",
     "text": [
      "Epoch 160, Loss 0.0196\n",
      "Training Accuracy: 0.9782, Testing Accuracy: 0.9748\n",
      "\n"
     ]
    },
    {
     "name": "stdout",
     "output_type": "stream",
     "text": [
      "Epoch 170, Loss 0.0192\n",
      "Training Accuracy: 0.9790, Testing Accuracy: 0.9748\n",
      "\n"
     ]
    },
    {
     "name": "stdout",
     "output_type": "stream",
     "text": [
      "Epoch 180, Loss 0.0187\n",
      "Training Accuracy: 0.9794, Testing Accuracy: 0.9763\n",
      "\n"
     ]
    },
    {
     "name": "stdout",
     "output_type": "stream",
     "text": [
      "Epoch 190, Loss 0.0183\n",
      "Training Accuracy: 0.9800, Testing Accuracy: 0.9768\n",
      "\n"
     ]
    },
    {
     "name": "stdout",
     "output_type": "stream",
     "text": [
      "Epoch 200, Loss 0.0179\n",
      "Training Accuracy: 0.9802, Testing Accuracy: 0.9763\n",
      "\n"
     ]
    },
    {
     "name": "stdout",
     "output_type": "stream",
     "text": [
      "Epoch 210, Loss 0.0175\n",
      "Training Accuracy: 0.9808, Testing Accuracy: 0.9768\n",
      "\n"
     ]
    },
    {
     "name": "stdout",
     "output_type": "stream",
     "text": [
      "Epoch 220, Loss 0.0171\n",
      "Training Accuracy: 0.9810, Testing Accuracy: 0.9763\n",
      "\n"
     ]
    },
    {
     "name": "stdout",
     "output_type": "stream",
     "text": [
      "Epoch 230, Loss 0.0168\n",
      "Training Accuracy: 0.9816, Testing Accuracy: 0.9768\n",
      "\n"
     ]
    },
    {
     "name": "stdout",
     "output_type": "stream",
     "text": [
      "Epoch 240, Loss 0.0164\n",
      "Training Accuracy: 0.9822, Testing Accuracy: 0.9768\n",
      "\n"
     ]
    },
    {
     "name": "stdout",
     "output_type": "stream",
     "text": [
      "Epoch 250, Loss 0.0161\n",
      "Training Accuracy: 0.9827, Testing Accuracy: 0.9768\n",
      "\n"
     ]
    },
    {
     "data": {
      "text/plain": [
       "0.014807024390367064"
      ]
     },
     "execution_count": 20,
     "metadata": {},
     "output_type": "execute_result"
    }
   ],
   "source": [
    "print(\"====== Neural Network ======\")\n",
    "learner_nn.train_loop(dl)"
   ]
  },
  {
   "cell_type": "markdown",
   "metadata": {
    "papermill": {
     "duration": 0.049788,
     "end_time": "2020-12-18T00:09:03.585491",
     "exception": false,
     "start_time": "2020-12-18T00:09:03.535703",
     "status": "completed"
    },
    "tags": []
   },
   "source": [
    "### Logistic Regression based Implementation."
   ]
  },
  {
   "cell_type": "code",
   "execution_count": 21,
   "metadata": {
    "execution": {
     "iopub.execute_input": "2020-12-18T00:09:03.660344Z",
     "iopub.status.busy": "2020-12-18T00:09:03.659815Z",
     "iopub.status.idle": "2020-12-18T00:09:03.671326Z",
     "shell.execute_reply": "2020-12-18T00:09:03.670849Z"
    },
    "papermill": {
     "duration": 0.050243,
     "end_time": "2020-12-18T00:09:03.671454",
     "exception": false,
     "start_time": "2020-12-18T00:09:03.621211",
     "status": "completed"
    },
    "tags": []
   },
   "outputs": [],
   "source": [
    "learner_lr = Learner(loss, model_lr, opt, config.num_epochs)\n",
    "acc_lr = ClfCallback(learner_lr, config.bs, training_xdata , testing_xdata, training_ydata, testing_ydata)\n",
    "learner_lr.set_callbacks([acc_lr])"
   ]
  },
  {
   "cell_type": "code",
   "execution_count": 22,
   "metadata": {
    "execution": {
     "iopub.execute_input": "2020-12-18T00:09:03.743716Z",
     "iopub.status.busy": "2020-12-18T00:09:03.743218Z",
     "iopub.status.idle": "2020-12-18T00:09:17.640276Z",
     "shell.execute_reply": "2020-12-18T00:09:17.641072Z"
    },
    "papermill": {
     "duration": 13.935893,
     "end_time": "2020-12-18T00:09:17.641235",
     "exception": false,
     "start_time": "2020-12-18T00:09:03.705342",
     "status": "completed"
    },
    "tags": []
   },
   "outputs": [
    {
     "name": "stdout",
     "output_type": "stream",
     "text": [
      "====== Logistic Regression ======\n",
      "Epoch 0, Loss 0.2616\n",
      "Training Accuracy: 0.6536, Testing Accuracy: 0.6290\n",
      "\n"
     ]
    },
    {
     "name": "stdout",
     "output_type": "stream",
     "text": [
      "Epoch 10, Loss 0.105\n",
      "Training Accuracy: 0.9039, Testing Accuracy: 0.9143\n",
      "\n"
     ]
    },
    {
     "name": "stdout",
     "output_type": "stream",
     "text": [
      "Epoch 20, Loss 0.0803\n",
      "Training Accuracy: 0.9251, Testing Accuracy: 0.9415\n",
      "\n"
     ]
    },
    {
     "name": "stdout",
     "output_type": "stream",
     "text": [
      "Epoch 30, Loss 0.069\n",
      "Training Accuracy: 0.9352, Testing Accuracy: 0.9486\n",
      "\n"
     ]
    },
    {
     "name": "stdout",
     "output_type": "stream",
     "text": [
      "Epoch 40, Loss 0.0622\n",
      "Training Accuracy: 0.9389, Testing Accuracy: 0.9511\n",
      "\n"
     ]
    },
    {
     "name": "stdout",
     "output_type": "stream",
     "text": [
      "Epoch 50, Loss 0.0576\n",
      "Training Accuracy: 0.9420, Testing Accuracy: 0.9541\n",
      "\n"
     ]
    },
    {
     "name": "stdout",
     "output_type": "stream",
     "text": [
      "Epoch 60, Loss 0.0543\n",
      "Training Accuracy: 0.9453, Testing Accuracy: 0.9556\n",
      "\n"
     ]
    },
    {
     "name": "stdout",
     "output_type": "stream",
     "text": [
      "Epoch 70, Loss 0.0517\n",
      "Training Accuracy: 0.9473, Testing Accuracy: 0.9587\n",
      "\n"
     ]
    },
    {
     "name": "stdout",
     "output_type": "stream",
     "text": [
      "Epoch 80, Loss 0.0496\n",
      "Training Accuracy: 0.9490, Testing Accuracy: 0.9597\n",
      "\n"
     ]
    },
    {
     "name": "stdout",
     "output_type": "stream",
     "text": [
      "Epoch 90, Loss 0.0478\n",
      "Training Accuracy: 0.9499, Testing Accuracy: 0.9597\n",
      "\n"
     ]
    },
    {
     "name": "stdout",
     "output_type": "stream",
     "text": [
      "Epoch 100, Loss 0.0464\n",
      "Training Accuracy: 0.9515, Testing Accuracy: 0.9612\n",
      "\n"
     ]
    },
    {
     "name": "stdout",
     "output_type": "stream",
     "text": [
      "Epoch 110, Loss 0.0452\n",
      "Training Accuracy: 0.9527, Testing Accuracy: 0.9617\n",
      "\n"
     ]
    },
    {
     "name": "stdout",
     "output_type": "stream",
     "text": [
      "Epoch 120, Loss 0.0441\n",
      "Training Accuracy: 0.9544, Testing Accuracy: 0.9622\n",
      "\n"
     ]
    },
    {
     "name": "stdout",
     "output_type": "stream",
     "text": [
      "Epoch 130, Loss 0.0431\n",
      "Training Accuracy: 0.9559, Testing Accuracy: 0.9622\n",
      "\n"
     ]
    },
    {
     "name": "stdout",
     "output_type": "stream",
     "text": [
      "Epoch 140, Loss 0.0423\n",
      "Training Accuracy: 0.9565, Testing Accuracy: 0.9627\n",
      "\n"
     ]
    },
    {
     "name": "stdout",
     "output_type": "stream",
     "text": [
      "Epoch 150, Loss 0.0415\n",
      "Training Accuracy: 0.9574, Testing Accuracy: 0.9642\n",
      "\n"
     ]
    },
    {
     "name": "stdout",
     "output_type": "stream",
     "text": [
      "Epoch 160, Loss 0.0408\n",
      "Training Accuracy: 0.9579, Testing Accuracy: 0.9642\n",
      "\n"
     ]
    },
    {
     "name": "stdout",
     "output_type": "stream",
     "text": [
      "Epoch 170, Loss 0.0402\n",
      "Training Accuracy: 0.9581, Testing Accuracy: 0.9642\n",
      "\n"
     ]
    },
    {
     "name": "stdout",
     "output_type": "stream",
     "text": [
      "Epoch 180, Loss 0.0396\n",
      "Training Accuracy: 0.9587, Testing Accuracy: 0.9647\n",
      "\n"
     ]
    },
    {
     "name": "stdout",
     "output_type": "stream",
     "text": [
      "Epoch 190, Loss 0.0391\n",
      "Training Accuracy: 0.9593, Testing Accuracy: 0.9647\n",
      "\n"
     ]
    },
    {
     "name": "stdout",
     "output_type": "stream",
     "text": [
      "Epoch 200, Loss 0.0386\n",
      "Training Accuracy: 0.9598, Testing Accuracy: 0.9647\n",
      "\n"
     ]
    },
    {
     "name": "stdout",
     "output_type": "stream",
     "text": [
      "Epoch 210, Loss 0.0382\n",
      "Training Accuracy: 0.9600, Testing Accuracy: 0.9657\n",
      "\n"
     ]
    },
    {
     "name": "stdout",
     "output_type": "stream",
     "text": [
      "Epoch 220, Loss 0.0377\n",
      "Training Accuracy: 0.9604, Testing Accuracy: 0.9667\n",
      "\n"
     ]
    },
    {
     "name": "stdout",
     "output_type": "stream",
     "text": [
      "Epoch 230, Loss 0.0374\n",
      "Training Accuracy: 0.9607, Testing Accuracy: 0.9672\n",
      "\n"
     ]
    },
    {
     "name": "stdout",
     "output_type": "stream",
     "text": [
      "Epoch 240, Loss 0.037\n",
      "Training Accuracy: 0.9611, Testing Accuracy: 0.9672\n",
      "\n"
     ]
    },
    {
     "name": "stdout",
     "output_type": "stream",
     "text": [
      "Epoch 250, Loss 0.0366\n",
      "Training Accuracy: 0.9612, Testing Accuracy: 0.9672\n",
      "\n"
     ]
    },
    {
     "data": {
      "text/plain": [
       "0.037460728933074144"
      ]
     },
     "execution_count": 22,
     "metadata": {},
     "output_type": "execute_result"
    }
   ],
   "source": [
    "print(\"====== Logistic Regression ======\")\n",
    "learner_lr.train_loop(dl)"
   ]
  },
  {
   "cell_type": "markdown",
   "metadata": {
    "papermill": {
     "duration": 0.042784,
     "end_time": "2020-12-18T00:09:17.728099",
     "exception": false,
     "start_time": "2020-12-18T00:09:17.685315",
     "status": "completed"
    },
    "tags": []
   },
   "source": [
    "### Comparing results of NN and LR"
   ]
  },
  {
   "cell_type": "code",
   "execution_count": 23,
   "metadata": {
    "execution": {
     "iopub.execute_input": "2020-12-18T00:09:17.815464Z",
     "iopub.status.busy": "2020-12-18T00:09:17.814358Z",
     "iopub.status.idle": "2020-12-18T00:09:18.024320Z",
     "shell.execute_reply": "2020-12-18T00:09:18.023772Z"
    },
    "papermill": {
     "duration": 0.256205,
     "end_time": "2020-12-18T00:09:18.024453",
     "exception": false,
     "start_time": "2020-12-18T00:09:17.768248",
     "status": "completed"
    },
    "tags": []
   },
   "outputs": [
    {
     "data": {
      "text/plain": [
       "<matplotlib.legend.Legend at 0x7f56e28dab70>"
      ]
     },
     "execution_count": 23,
     "metadata": {},
     "output_type": "execute_result"
    },
    {
     "data": {
      "image/png": "[encoded data removed]",
      "text/plain": [
       "<Figure size 1080x720 with 1 Axes>"
      ]
     },
     "metadata": {
      "needs_background": "light"
     },
     "output_type": "display_data"
    }
   ],
   "source": [
    "plt.figure(figsize=(15,10))\n",
    "\n",
    "# Neural Network plots\n",
    "plt.plot(acc_nn.accuracies, 'r-', label = \"Training Accuracies - NN\")\n",
    "plt.plot(acc_nn.test_accuracies, 'g-', label = \"Testing Accuracies - NN\")\n",
    "\n",
    "# Logistic Regression plots\n",
    "plt.plot(acc_lr.accuracies, 'k-', label = \"Training Accuracies - LR\")\n",
    "plt.plot(acc_lr.test_accuracies, 'b-', label = \"Testing Accuracies - LR\")\n",
    "\n",
    "plt.ylim(0.8, 1)\n",
    "\n",
    "plt.legend()\n",
    "\n"
   ]
  },
  {
   "cell_type": "markdown",
   "metadata": {
    "papermill": {
     "duration": 0.043712,
     "end_time": "2020-12-18T00:09:18.110299",
     "exception": false,
     "start_time": "2020-12-18T00:09:18.066587",
     "status": "completed"
    },
    "tags": []
   },
   "source": [
    "### From the plot, we can observe the following:\n",
    "- Neural Network achieves higher accuracy than the Logistic Regression model.\n",
    "- This apparently, is because of overfitting, i.e. NN captures more noise than data.\n",
    "- Testing accuracy of NN drops below the Training accuracy at higher epochs. This explains the over-fitting on training data.\n",
    "- Logistic Regression gives a reliable accuracy, without the above mentioned problem.\n"
   ]
  },
  {
   "cell_type": "markdown",
   "metadata": {
    "papermill": {
     "duration": 0.040733,
     "end_time": "2020-12-18T00:09:18.194092",
     "exception": false,
     "start_time": "2020-12-18T00:09:18.153359",
     "status": "completed"
    },
    "tags": []
   },
   "source": [
    "### Moving till the last but one layer (excluding it).\n",
    "#### Plotting the outputs of this layer of the NN."
   ]
  },
  {
   "cell_type": "code",
   "execution_count": 24,
   "metadata": {
    "execution": {
     "iopub.execute_input": "2020-12-18T00:09:18.284268Z",
     "iopub.status.busy": "2020-12-18T00:09:18.283714Z",
     "iopub.status.idle": "2020-12-18T00:09:18.292716Z",
     "shell.execute_reply": "2020-12-18T00:09:18.293160Z"
    },
    "papermill": {
     "duration": 0.057629,
     "end_time": "2020-12-18T00:09:18.293295",
     "exception": false,
     "start_time": "2020-12-18T00:09:18.235666",
     "status": "completed"
    },
    "tags": []
   },
   "outputs": [],
   "source": [
    "model_new = Model(layers[:-2])"
   ]
  },
  {
   "cell_type": "code",
   "execution_count": 25,
   "metadata": {
    "execution": {
     "iopub.execute_input": "2020-12-18T00:09:18.378748Z",
     "iopub.status.busy": "2020-12-18T00:09:18.378206Z",
     "iopub.status.idle": "2020-12-18T00:09:18.398467Z",
     "shell.execute_reply": "2020-12-18T00:09:18.398859Z"
    },
    "papermill": {
     "duration": 0.064936,
     "end_time": "2020-12-18T00:09:18.398985",
     "exception": false,
     "start_time": "2020-12-18T00:09:18.334049",
     "status": "completed"
    },
    "tags": []
   },
   "outputs": [],
   "source": [
    "plot_testing = model_new(testing_xdata)"
   ]
  },
  {
   "cell_type": "code",
   "execution_count": 26,
   "metadata": {
    "execution": {
     "iopub.execute_input": "2020-12-18T00:09:18.496587Z",
     "iopub.status.busy": "2020-12-18T00:09:18.496028Z",
     "iopub.status.idle": "2020-12-18T00:09:18.698469Z",
     "shell.execute_reply": "2020-12-18T00:09:18.698932Z"
    },
    "papermill": {
     "duration": 0.257134,
     "end_time": "2020-12-18T00:09:18.699119",
     "exception": false,
     "start_time": "2020-12-18T00:09:18.441985",
     "status": "completed"
    },
    "tags": []
   },
   "outputs": [
    {
     "data": {
      "text/plain": [
       "Text(0.5, 1.0, 'Outputs')"
      ]
     },
     "execution_count": 26,
     "metadata": {},
     "output_type": "execute_result"
    },
    {
     "data": {
      "image/png": "[encoded data removed]",
      "text/plain": [
       "<Figure size 576x504 with 1 Axes>"
      ]
     },
     "metadata": {
      "needs_background": "light"
     },
     "output_type": "display_data"
    }
   ],
   "source": [
    "plt.figure(figsize=(8,7))\n",
    "plt.scatter(plot_testing[:,0], plot_testing[:,1], alpha = 0.1, c = y_test.ravel());\n",
    "plt.title('Outputs')"
   ]
  },
  {
   "cell_type": "markdown",
   "metadata": {
    "papermill": {
     "duration": 0.044881,
     "end_time": "2020-12-18T00:09:18.793110",
     "exception": false,
     "start_time": "2020-12-18T00:09:18.748229",
     "status": "completed"
    },
    "tags": []
   },
   "source": [
    "### Plotting probability contours"
   ]
  },
  {
   "cell_type": "code",
   "execution_count": 27,
   "metadata": {
    "execution": {
     "iopub.execute_input": "2020-12-18T00:09:18.888248Z",
     "iopub.status.busy": "2020-12-18T00:09:18.887701Z",
     "iopub.status.idle": "2020-12-18T00:09:18.900432Z",
     "shell.execute_reply": "2020-12-18T00:09:18.899950Z"
    },
    "papermill": {
     "duration": 0.06104,
     "end_time": "2020-12-18T00:09:18.900555",
     "exception": false,
     "start_time": "2020-12-18T00:09:18.839515",
     "status": "completed"
    },
    "tags": []
   },
   "outputs": [],
   "source": [
    "model_prob = Model(layers[-2:]) "
   ]
  },
  {
   "cell_type": "code",
   "execution_count": 28,
   "metadata": {
    "execution": {
     "iopub.execute_input": "2020-12-18T00:09:18.987592Z",
     "iopub.status.busy": "2020-12-18T00:09:18.987094Z",
     "iopub.status.idle": "2020-12-18T00:09:19.002573Z",
     "shell.execute_reply": "2020-12-18T00:09:19.002946Z"
    },
    "papermill": {
     "duration": 0.061808,
     "end_time": "2020-12-18T00:09:19.003103",
     "exception": false,
     "start_time": "2020-12-18T00:09:18.941295",
     "status": "completed"
    },
    "tags": []
   },
   "outputs": [],
   "source": [
    "# Adjust the x and y ranges according to the above generated plot.\n",
    "x_range = np.linspace(-4, 1, 100) \n",
    "y_range = np.linspace(-6, 6, 100) \n",
    "x_grid, y_grid = np.meshgrid(x_range, y_range) # x_grid and y_grig are of size 100 X 100\n",
    "\n",
    "# converting x_grid and y_grid to continuous arrays\n",
    "x_grid_flat = np.ravel(x_grid)\n",
    "y_grid_flat = np.ravel(y_grid)\n",
    "\n",
    "# The last layer of the current model takes two columns as input. Hence transpose of np.vstack() is required.\n",
    "X = np.vstack((x_grid_flat, y_grid_flat)).T\n",
    "\n",
    "# x_grid and y_grid are of size 100 x 100\n",
    "probability_contour = model_prob(X).reshape(100,100) "
   ]
  },
  {
   "cell_type": "code",
   "execution_count": 29,
   "metadata": {
    "execution": {
     "iopub.execute_input": "2020-12-18T00:09:19.096909Z",
     "iopub.status.busy": "2020-12-18T00:09:19.096365Z",
     "iopub.status.idle": "2020-12-18T00:09:19.319372Z",
     "shell.execute_reply": "2020-12-18T00:09:19.318880Z"
    },
    "papermill": {
     "duration": 0.271516,
     "end_time": "2020-12-18T00:09:19.319492",
     "exception": false,
     "start_time": "2020-12-18T00:09:19.047976",
     "status": "completed"
    },
    "tags": []
   },
   "outputs": [
    {
     "data": {
      "image/png": "[encoded data removed]",
      "text/plain": [
       "<Figure size 720x648 with 1 Axes>"
      ]
     },
     "metadata": {
      "needs_background": "light"
     },
     "output_type": "display_data"
    }
   ],
   "source": [
    "plt.figure(figsize=(10,9))\n",
    "plt.scatter(plot_testing[:,0], plot_testing[:,1], alpha = 0.1, c = y_test.ravel())\n",
    "contours = plt.contour(x_grid,y_grid,probability_contour)\n",
    "plt.title('Probability Contours')\n",
    "plt.clabel(contours, inline = True );"
   ]
  }
 ],
 "metadata": {
  "kernelspec": {
   "display_name": "Python 3",
   "language": "python",
   "name": "python3"
  },
  "language_info": {
   "codemirror_mode": {
    "name": "ipython",
    "version": 3
   },
   "file_extension": ".py",
   "mimetype": "text/x-python",
   "name": "python",
   "nbconvert_exporter": "python",
   "pygments_lexer": "ipython3",
   "version": "3.6.12"
  },
  "papermill": {
   "duration": 101.814245,
   "end_time": "2020-12-18T00:09:19.697111",
   "environment_variables": {},
   "exception": null,
   "input_path": "2020-08-11-NeuralNetwork.ipynb",
   "output_path": "2020-08-11-NeuralNetwork.ipynb",
   "parameters": {},
   "start_time": "2020-12-18T00:07:37.882866",
   "version": "2.1.2"
  }
 },
 "nbformat": 4,
 "nbformat_minor": 4
}