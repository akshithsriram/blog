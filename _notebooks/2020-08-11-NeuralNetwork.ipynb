{
 "cells": [
  {
   "cell_type": "markdown",
   "id": "fitted-suggestion",
   "metadata": {
    "papermill": {
     "duration": 0.037877,
     "end_time": "2021-05-17T10:07:38.161941",
     "exception": false,
     "start_time": "2021-05-17T10:07:38.124064",
     "status": "completed"
    },
    "tags": []
   },
   "source": [
    "# \"A Basic Neural Network: Differentiate Hand-Written Digits\"\n",
    "\n",
    "- badges: true\n",
    "- author: Akshith Sriram"
   ]
  },
  {
   "cell_type": "markdown",
   "id": "signal-flexibility",
   "metadata": {
    "papermill": {
     "duration": 0.029274,
     "end_time": "2021-05-17T10:07:38.221404",
     "exception": false,
     "start_time": "2021-05-17T10:07:38.192130",
     "status": "completed"
    },
    "tags": []
   },
   "source": [
    "### Key Objectives:\n",
    "- Building a neural network that differentiates two hand-written digits 3 and 8.\n",
    "- Comparing the results of this Neural Network (NN) to that of a Logistic Regression (LR) model.\n",
    "\n",
    "### Requirements:\n",
    "- 'Kudzu' : A neural network library that was designed during our course by [Univ.AI](www.univ.ai). \n",
    "- MNIST Database\n",
    "\n",
    "If MNIST is not installed, use the command `!pip install mnist` given below.\n",
    "It can be run both from the command line and Jupyter Notebook."
   ]
  },
  {
   "cell_type": "code",
   "execution_count": 1,
   "id": "british-texture",
   "metadata": {
    "execution": {
     "iopub.execute_input": "2021-05-17T10:07:38.292318Z",
     "iopub.status.busy": "2021-05-17T10:07:38.291487Z",
     "iopub.status.idle": "2021-05-17T10:07:39.999296Z",
     "shell.execute_reply": "2021-05-17T10:07:39.999838Z"
    },
    "papermill": {
     "duration": 1.749259,
     "end_time": "2021-05-17T10:07:40.000040",
     "exception": false,
     "start_time": "2021-05-17T10:07:38.250781",
     "status": "completed"
    },
    "tags": []
   },
   "outputs": [
    {
     "name": "stdout",
     "output_type": "stream",
     "text": [
      "Collecting mnist\r\n"
     ]
    },
    {
     "name": "stdout",
     "output_type": "stream",
     "text": [
      "  Downloading mnist-0.2.2-py2.py3-none-any.whl (3.5 kB)\r\n",
      "Requirement already satisfied: numpy in /opt/hostedtoolcache/Python/3.6.13/x64/lib/python3.6/site-packages (from mnist) (1.19.5)\r\n"
     ]
    },
    {
     "name": "stdout",
     "output_type": "stream",
     "text": [
      "Installing collected packages: mnist\r\n"
     ]
    },
    {
     "name": "stdout",
     "output_type": "stream",
     "text": [
      "Successfully installed mnist-0.2.2\r\n"
     ]
    }
   ],
   "source": [
    "!pip install mnist "
   ]
  },
  {
   "cell_type": "markdown",
   "id": "stunning-extra",
   "metadata": {
    "papermill": {
     "duration": 0.03093,
     "end_time": "2021-05-17T10:07:40.063455",
     "exception": false,
     "start_time": "2021-05-17T10:07:40.032525",
     "status": "completed"
    },
    "tags": []
   },
   "source": [
    "#### Importing necessary libraries"
   ]
  },
  {
   "cell_type": "code",
   "execution_count": 2,
   "id": "wooden-france",
   "metadata": {
    "execution": {
     "iopub.execute_input": "2021-05-17T10:07:40.147660Z",
     "iopub.status.busy": "2021-05-17T10:07:40.146849Z",
     "iopub.status.idle": "2021-05-17T10:07:40.744397Z",
     "shell.execute_reply": "2021-05-17T10:07:40.743768Z"
    },
    "papermill": {
     "duration": 0.63818,
     "end_time": "2021-05-17T10:07:40.744550",
     "exception": false,
     "start_time": "2021-05-17T10:07:40.106370",
     "status": "completed"
    },
    "tags": []
   },
   "outputs": [],
   "source": [
    "%load_ext autoreload\n",
    "%autoreload 2\n",
    "\n",
    "%matplotlib inline\n",
    "import matplotlib.pyplot as plt\n",
    "\n",
    "import numpy as np\n",
    "import pandas as pd"
   ]
  },
  {
   "cell_type": "markdown",
   "id": "stunning-physics",
   "metadata": {
    "papermill": {
     "duration": 0.031176,
     "end_time": "2021-05-17T10:07:40.807145",
     "exception": false,
     "start_time": "2021-05-17T10:07:40.775969",
     "status": "completed"
    },
    "tags": []
   },
   "source": [
    "### Preparing the Data"
   ]
  },
  {
   "cell_type": "code",
   "execution_count": 3,
   "id": "unauthorized-remainder",
   "metadata": {
    "execution": {
     "iopub.execute_input": "2021-05-17T10:07:40.872111Z",
     "iopub.status.busy": "2021-05-17T10:07:40.871407Z",
     "iopub.status.idle": "2021-05-17T10:07:40.886002Z",
     "shell.execute_reply": "2021-05-17T10:07:40.885506Z"
    },
    "papermill": {
     "duration": 0.048413,
     "end_time": "2021-05-17T10:07:40.886133",
     "exception": false,
     "start_time": "2021-05-17T10:07:40.837720",
     "status": "completed"
    },
    "tags": []
   },
   "outputs": [],
   "source": [
    "import mnist"
   ]
  },
  {
   "cell_type": "code",
   "execution_count": 4,
   "id": "correct-antarctica",
   "metadata": {
    "execution": {
     "iopub.execute_input": "2021-05-17T10:07:40.951824Z",
     "iopub.status.busy": "2021-05-17T10:07:40.951207Z",
     "iopub.status.idle": "2021-05-17T10:12:38.380947Z",
     "shell.execute_reply": "2021-05-17T10:12:38.379920Z"
    },
    "papermill": {
     "duration": 297.46397,
     "end_time": "2021-05-17T10:12:38.381087",
     "exception": false,
     "start_time": "2021-05-17T10:07:40.917117",
     "status": "completed"
    },
    "tags": []
   },
   "outputs": [],
   "source": [
    "train_images = mnist.train_images()\n",
    "train_labels = mnist.train_labels()"
   ]
  },
  {
   "cell_type": "code",
   "execution_count": 5,
   "id": "musical-prospect",
   "metadata": {
    "execution": {
     "iopub.execute_input": "2021-05-17T10:12:38.448543Z",
     "iopub.status.busy": "2021-05-17T10:12:38.447312Z",
     "iopub.status.idle": "2021-05-17T10:12:38.464677Z",
     "shell.execute_reply": "2021-05-17T10:12:38.464188Z"
    },
    "papermill": {
     "duration": 0.052057,
     "end_time": "2021-05-17T10:12:38.464805",
     "exception": false,
     "start_time": "2021-05-17T10:12:38.412748",
     "status": "completed"
    },
    "tags": []
   },
   "outputs": [
    {
     "data": {
      "text/plain": [
       "((60000, 28, 28), (60000,))"
      ]
     },
     "execution_count": 5,
     "metadata": {},
     "output_type": "execute_result"
    }
   ],
   "source": [
    "train_images.shape, train_labels.shape"
   ]
  },
  {
   "cell_type": "code",
   "execution_count": 6,
   "id": "preliminary-elizabeth",
   "metadata": {
    "execution": {
     "iopub.execute_input": "2021-05-17T10:12:38.532489Z",
     "iopub.status.busy": "2021-05-17T10:12:38.531893Z",
     "iopub.status.idle": "2021-05-17T10:13:25.765484Z",
     "shell.execute_reply": "2021-05-17T10:13:25.764455Z"
    },
    "papermill": {
     "duration": 47.269656,
     "end_time": "2021-05-17T10:13:25.765631",
     "exception": false,
     "start_time": "2021-05-17T10:12:38.495975",
     "status": "completed"
    },
    "tags": []
   },
   "outputs": [],
   "source": [
    "test_images = mnist.test_images()\n",
    "test_labels = mnist.test_labels()"
   ]
  },
  {
   "cell_type": "code",
   "execution_count": 7,
   "id": "acknowledged-oxygen",
   "metadata": {
    "execution": {
     "iopub.execute_input": "2021-05-17T10:13:25.840643Z",
     "iopub.status.busy": "2021-05-17T10:13:25.840038Z",
     "iopub.status.idle": "2021-05-17T10:13:25.849687Z",
     "shell.execute_reply": "2021-05-17T10:13:25.849209Z"
    },
    "papermill": {
     "duration": 0.052783,
     "end_time": "2021-05-17T10:13:25.849814",
     "exception": false,
     "start_time": "2021-05-17T10:13:25.797031",
     "status": "completed"
    },
    "tags": []
   },
   "outputs": [
    {
     "data": {
      "text/plain": [
       "((10000, 28, 28), (10000,))"
      ]
     },
     "execution_count": 7,
     "metadata": {},
     "output_type": "execute_result"
    }
   ],
   "source": [
    "test_images.shape, test_labels.shape"
   ]
  },
  {
   "cell_type": "code",
   "execution_count": 8,
   "id": "innovative-organic",
   "metadata": {
    "execution": {
     "iopub.execute_input": "2021-05-17T10:13:25.918329Z",
     "iopub.status.busy": "2021-05-17T10:13:25.917746Z",
     "iopub.status.idle": "2021-05-17T10:13:26.087122Z",
     "shell.execute_reply": "2021-05-17T10:13:26.086531Z"
    },
    "papermill": {
     "duration": 0.206069,
     "end_time": "2021-05-17T10:13:26.087273",
     "exception": false,
     "start_time": "2021-05-17T10:13:25.881204",
     "status": "completed"
    },
    "tags": []
   },
   "outputs": [
    {
     "name": "stdout",
     "output_type": "stream",
     "text": [
      "2\n"
     ]
    },
    {
     "data": {
      "text/plain": [
       "<matplotlib.image.AxesImage at 0x7f3c08e7a3c8>"
      ]
     },
     "execution_count": 8,
     "metadata": {},
     "output_type": "execute_result"
    },
    {
     "data": {
      "image/png": "[encoded data removed]",
      "text/plain": [
       "<Figure size 432x288 with 1 Axes>"
      ]
     },
     "metadata": {
      "needs_background": "light"
     },
     "output_type": "display_data"
    }
   ],
   "source": [
    "image_index = 7776 # You may select anything up to 60,000\n",
    "print(train_labels[image_index]) \n",
    "plt.imshow(train_images[image_index], cmap='Greys')"
   ]
  },
  {
   "cell_type": "markdown",
   "id": "facial-modem",
   "metadata": {
    "papermill": {
     "duration": 0.034454,
     "end_time": "2021-05-17T10:13:26.156925",
     "exception": false,
     "start_time": "2021-05-17T10:13:26.122471",
     "status": "completed"
    },
    "tags": []
   },
   "source": [
    "## Filter data to get 3 and 8 out"
   ]
  },
  {
   "cell_type": "code",
   "execution_count": 9,
   "id": "thousand-acquisition",
   "metadata": {
    "execution": {
     "iopub.execute_input": "2021-05-17T10:13:26.242024Z",
     "iopub.status.busy": "2021-05-17T10:13:26.241411Z",
     "iopub.status.idle": "2021-05-17T10:13:26.256950Z",
     "shell.execute_reply": "2021-05-17T10:13:26.256447Z"
    },
    "papermill": {
     "duration": 0.066726,
     "end_time": "2021-05-17T10:13:26.257079",
     "exception": false,
     "start_time": "2021-05-17T10:13:26.190353",
     "status": "completed"
    },
    "tags": []
   },
   "outputs": [],
   "source": [
    "train_filter = np.where((train_labels == 3 ) | (train_labels == 8))\n",
    "test_filter = np.where((test_labels == 3) | (test_labels == 8))\n",
    "X_train, y_train = train_images[train_filter], train_labels[train_filter]\n",
    "X_test, y_test = test_images[test_filter], test_labels[test_filter]"
   ]
  },
  {
   "cell_type": "markdown",
   "id": "ruled-access",
   "metadata": {
    "papermill": {
     "duration": 0.033627,
     "end_time": "2021-05-17T10:13:26.324921",
     "exception": false,
     "start_time": "2021-05-17T10:13:26.291294",
     "status": "completed"
    },
    "tags": []
   },
   "source": [
    "We normalize the pixel values in the 0 to 1 range"
   ]
  },
  {
   "cell_type": "code",
   "execution_count": 10,
   "id": "isolated-denver",
   "metadata": {
    "execution": {
     "iopub.execute_input": "2021-05-17T10:13:26.401139Z",
     "iopub.status.busy": "2021-05-17T10:13:26.400545Z",
     "iopub.status.idle": "2021-05-17T10:13:26.454359Z",
     "shell.execute_reply": "2021-05-17T10:13:26.453754Z"
    },
    "papermill": {
     "duration": 0.094277,
     "end_time": "2021-05-17T10:13:26.454510",
     "exception": false,
     "start_time": "2021-05-17T10:13:26.360233",
     "status": "completed"
    },
    "tags": []
   },
   "outputs": [],
   "source": [
    "X_train = X_train/255.\n",
    "X_test = X_test/255."
   ]
  },
  {
   "cell_type": "markdown",
   "id": "perfect-summary",
   "metadata": {
    "papermill": {
     "duration": 0.03286,
     "end_time": "2021-05-17T10:13:26.525058",
     "exception": false,
     "start_time": "2021-05-17T10:13:26.492198",
     "status": "completed"
    },
    "tags": []
   },
   "source": [
    "Setup the labels as 1 (when the digit is 3) and 0 (when the digit is 8)"
   ]
  },
  {
   "cell_type": "code",
   "execution_count": 11,
   "id": "personalized-growing",
   "metadata": {
    "execution": {
     "iopub.execute_input": "2021-05-17T10:13:26.596260Z",
     "iopub.status.busy": "2021-05-17T10:13:26.595629Z",
     "iopub.status.idle": "2021-05-17T10:13:26.608644Z",
     "shell.execute_reply": "2021-05-17T10:13:26.609127Z"
    },
    "papermill": {
     "duration": 0.051725,
     "end_time": "2021-05-17T10:13:26.609280",
     "exception": false,
     "start_time": "2021-05-17T10:13:26.557555",
     "status": "completed"
    },
    "tags": []
   },
   "outputs": [],
   "source": [
    "y_train = 1*(y_train==3)\n",
    "y_test = 1*(y_test==3)"
   ]
  },
  {
   "cell_type": "code",
   "execution_count": 12,
   "id": "considered-virgin",
   "metadata": {
    "execution": {
     "iopub.execute_input": "2021-05-17T10:13:26.679334Z",
     "iopub.status.busy": "2021-05-17T10:13:26.678760Z",
     "iopub.status.idle": "2021-05-17T10:13:26.693773Z",
     "shell.execute_reply": "2021-05-17T10:13:26.694290Z"
    },
    "papermill": {
     "duration": 0.052352,
     "end_time": "2021-05-17T10:13:26.694439",
     "exception": false,
     "start_time": "2021-05-17T10:13:26.642087",
     "status": "completed"
    },
    "tags": []
   },
   "outputs": [
    {
     "data": {
      "text/plain": [
       "((11982, 28, 28), (1984, 28, 28))"
      ]
     },
     "execution_count": 12,
     "metadata": {},
     "output_type": "execute_result"
    }
   ],
   "source": [
    "X_train.shape, X_test.shape"
   ]
  },
  {
   "cell_type": "markdown",
   "id": "civilian-mobile",
   "metadata": {
    "papermill": {
     "duration": 0.033526,
     "end_time": "2021-05-17T10:13:26.762150",
     "exception": false,
     "start_time": "2021-05-17T10:13:26.728624",
     "status": "completed"
    },
    "tags": []
   },
   "source": [
    "### Reshape the input data to create a linear array"
   ]
  },
  {
   "cell_type": "code",
   "execution_count": 13,
   "id": "colonial-adams",
   "metadata": {
    "execution": {
     "iopub.execute_input": "2021-05-17T10:13:26.836936Z",
     "iopub.status.busy": "2021-05-17T10:13:26.836317Z",
     "iopub.status.idle": "2021-05-17T10:13:26.851663Z",
     "shell.execute_reply": "2021-05-17T10:13:26.851155Z"
    },
    "papermill": {
     "duration": 0.054872,
     "end_time": "2021-05-17T10:13:26.851793",
     "exception": false,
     "start_time": "2021-05-17T10:13:26.796921",
     "status": "completed"
    },
    "tags": []
   },
   "outputs": [
    {
     "data": {
      "text/plain": [
       "((11982, 784), (1984, 784))"
      ]
     },
     "execution_count": 13,
     "metadata": {},
     "output_type": "execute_result"
    }
   ],
   "source": [
    "X_train = X_train.reshape(X_train.shape[0], -1)\n",
    "X_test = X_test.reshape(X_test.shape[0], -1)\n",
    "X_train.shape, X_test.shape"
   ]
  },
  {
   "cell_type": "markdown",
   "id": "smart-details",
   "metadata": {
    "papermill": {
     "duration": 0.035215,
     "end_time": "2021-05-17T10:13:26.922075",
     "exception": false,
     "start_time": "2021-05-17T10:13:26.886860",
     "status": "completed"
    },
    "tags": []
   },
   "source": [
    "### Importing appropriate functions from 'Kudzu'"
   ]
  },
  {
   "cell_type": "code",
   "execution_count": 14,
   "id": "celtic-trial",
   "metadata": {
    "execution": {
     "iopub.execute_input": "2021-05-17T10:13:27.008652Z",
     "iopub.status.busy": "2021-05-17T10:13:27.007602Z",
     "iopub.status.idle": "2021-05-17T10:13:27.025999Z",
     "shell.execute_reply": "2021-05-17T10:13:27.025508Z"
    },
    "papermill": {
     "duration": 0.062975,
     "end_time": "2021-05-17T10:13:27.026129",
     "exception": false,
     "start_time": "2021-05-17T10:13:26.963154",
     "status": "completed"
    },
    "tags": []
   },
   "outputs": [],
   "source": [
    "from kudzu.layer import Sigmoid\n",
    "from kudzu.layer import Relu\n",
    "from kudzu.layer import Affine, Sigmoid\n",
    "\n",
    "from kudzu.model import Model\n",
    "from kudzu.train import Learner\n",
    "from kudzu.optim import GD\n",
    "from kudzu.data import Data, Dataloader, Sampler\n",
    "\n",
    "from kudzu.callbacks import AccCallback\n",
    "from kudzu.callbacks import ClfCallback\n",
    "\n",
    "from kudzu.loss import MSE"
   ]
  },
  {
   "cell_type": "markdown",
   "id": "coupled-customer",
   "metadata": {
    "papermill": {
     "duration": 0.03789,
     "end_time": "2021-05-17T10:13:27.106298",
     "exception": false,
     "start_time": "2021-05-17T10:13:27.068408",
     "status": "completed"
    },
    "tags": []
   },
   "source": [
    "### Let us create a `Config` class, to store important parameters. \n",
    "This class essentially plays the role of a dictionary."
   ]
  },
  {
   "cell_type": "code",
   "execution_count": 15,
   "id": "young-ceiling",
   "metadata": {
    "execution": {
     "iopub.execute_input": "2021-05-17T10:13:27.193479Z",
     "iopub.status.busy": "2021-05-17T10:13:27.191486Z",
     "iopub.status.idle": "2021-05-17T10:13:27.195629Z",
     "shell.execute_reply": "2021-05-17T10:13:27.196081Z"
    },
    "papermill": {
     "duration": 0.056378,
     "end_time": "2021-05-17T10:13:27.196228",
     "exception": false,
     "start_time": "2021-05-17T10:13:27.139850",
     "status": "completed"
    },
    "tags": []
   },
   "outputs": [],
   "source": [
    "class Config:\n",
    "    pass\n",
    "config = Config()\n",
    "config.lr = 0.001\n",
    "config.num_epochs = 251\n",
    "config.bs = 50"
   ]
  },
  {
   "cell_type": "markdown",
   "id": "according-mandate",
   "metadata": {
    "papermill": {
     "duration": 0.033141,
     "end_time": "2021-05-17T10:13:27.262726",
     "exception": false,
     "start_time": "2021-05-17T10:13:27.229585",
     "status": "completed"
    },
    "tags": []
   },
   "source": [
    "### Initializing data to the variables"
   ]
  },
  {
   "cell_type": "code",
   "execution_count": 16,
   "id": "academic-disposition",
   "metadata": {
    "execution": {
     "iopub.execute_input": "2021-05-17T10:13:27.334322Z",
     "iopub.status.busy": "2021-05-17T10:13:27.333712Z",
     "iopub.status.idle": "2021-05-17T10:13:27.346918Z",
     "shell.execute_reply": "2021-05-17T10:13:27.347388Z"
    },
    "papermill": {
     "duration": 0.051713,
     "end_time": "2021-05-17T10:13:27.347571",
     "exception": false,
     "start_time": "2021-05-17T10:13:27.295858",
     "status": "completed"
    },
    "tags": []
   },
   "outputs": [],
   "source": [
    "data = Data(X_train, y_train.reshape(-1,1))\n",
    "sampler = Sampler(data, config.bs, shuffle=True)\n",
    "\n",
    "dl = Dataloader(data, sampler)\n",
    "\n",
    "opt = GD(config.lr)\n",
    "loss = MSE()"
   ]
  },
  {
   "cell_type": "code",
   "execution_count": 17,
   "id": "featured-commission",
   "metadata": {
    "execution": {
     "iopub.execute_input": "2021-05-17T10:13:27.427208Z",
     "iopub.status.busy": "2021-05-17T10:13:27.426596Z",
     "iopub.status.idle": "2021-05-17T10:13:27.436631Z",
     "shell.execute_reply": "2021-05-17T10:13:27.436117Z"
    },
    "papermill": {
     "duration": 0.055952,
     "end_time": "2021-05-17T10:13:27.436759",
     "exception": false,
     "start_time": "2021-05-17T10:13:27.380807",
     "status": "completed"
    },
    "tags": []
   },
   "outputs": [],
   "source": [
    "training_xdata = X_train\n",
    "testing_xdata = X_test\n",
    "training_ydata = y_train.reshape(-1,1)\n",
    "testing_ydata = y_test.reshape(-1,1)"
   ]
  },
  {
   "cell_type": "markdown",
   "id": "played-safety",
   "metadata": {
    "papermill": {
     "duration": 0.033526,
     "end_time": "2021-05-17T10:13:27.503581",
     "exception": false,
     "start_time": "2021-05-17T10:13:27.470055",
     "status": "completed"
    },
    "tags": []
   },
   "source": [
    "### Running Models with the Training data\n",
    "Details about the network layers:\n",
    "- A first affine layer has 784 inputs and does 100 affine transforms. These are followed by a Relu\n",
    "- A second affine layer has 100 inputs from the 100 activations of the past layer, and does 100 affine transforms. These are followed by a Relu\n",
    "- A third affine layer has 100 activations and does 2 affine transformations to create an embedding for visualization. There is no non-linearity here.\n",
    "- A final \"logistic regression\" which has an affine transform from 2 inputs to 1 output, which is squeezed through a sigmoid.\n",
    "\n",
    "Help taken from Anshuman's Notebook."
   ]
  },
  {
   "cell_type": "code",
   "execution_count": 18,
   "id": "asian-bankruptcy",
   "metadata": {
    "execution": {
     "iopub.execute_input": "2021-05-17T10:13:27.575397Z",
     "iopub.status.busy": "2021-05-17T10:13:27.574804Z",
     "iopub.status.idle": "2021-05-17T10:13:27.591633Z",
     "shell.execute_reply": "2021-05-17T10:13:27.592126Z"
    },
    "papermill": {
     "duration": 0.055531,
     "end_time": "2021-05-17T10:13:27.592281",
     "exception": false,
     "start_time": "2021-05-17T10:13:27.536750",
     "status": "completed"
    },
    "tags": []
   },
   "outputs": [],
   "source": [
    "# layers for the Neural Network\n",
    "layers = [Affine(\"first\", 784, 100), Relu(\"first\"), Affine(\"second\", 100, 100), Relu(\"second\"), Affine(\"third\", 100, 2), Affine(\"final\", 2, 1), Sigmoid(\"final\")]\n",
    "model_nn = Model(layers)\n",
    "\n",
    "# layers for the Logistic Regression\n",
    "layers_lr = [Affine(\"logits\", 784, 1), Sigmoid(\"sigmoid\")]\n",
    "model_lr = Model(layers_lr)"
   ]
  },
  {
   "cell_type": "code",
   "execution_count": 19,
   "id": "removed-butler",
   "metadata": {
    "execution": {
     "iopub.execute_input": "2021-05-17T10:13:27.664960Z",
     "iopub.status.busy": "2021-05-17T10:13:27.664383Z",
     "iopub.status.idle": "2021-05-17T10:13:27.676668Z",
     "shell.execute_reply": "2021-05-17T10:13:27.676193Z"
    },
    "papermill": {
     "duration": 0.051082,
     "end_time": "2021-05-17T10:13:27.676793",
     "exception": false,
     "start_time": "2021-05-17T10:13:27.625711",
     "status": "completed"
    },
    "tags": []
   },
   "outputs": [],
   "source": [
    "# suffix _nn stands for Neural Network.\n",
    "learner_nn = Learner(loss, model_nn, opt, config.num_epochs)\n",
    "acc_nn = ClfCallback(learner_nn, config.bs, training_xdata , testing_xdata, training_ydata, testing_ydata)\n",
    "learner_nn.set_callbacks([acc_nn])"
   ]
  },
  {
   "cell_type": "code",
   "execution_count": 20,
   "id": "conceptual-throw",
   "metadata": {
    "execution": {
     "iopub.execute_input": "2021-05-17T10:13:27.748970Z",
     "iopub.status.busy": "2021-05-17T10:13:27.748378Z",
     "iopub.status.idle": "2021-05-17T10:14:57.090144Z",
     "shell.execute_reply": "2021-05-17T10:14:57.090702Z"
    },
    "papermill": {
     "duration": 89.382356,
     "end_time": "2021-05-17T10:14:57.090855",
     "exception": false,
     "start_time": "2021-05-17T10:13:27.708499",
     "status": "completed"
    },
    "tags": []
   },
   "outputs": [
    {
     "name": "stdout",
     "output_type": "stream",
     "text": [
      "====== Neural Network ======\n"
     ]
    },
    {
     "name": "stdout",
     "output_type": "stream",
     "text": [
      "Epoch 0, Loss 0.2449\n",
      "Training Accuracy: 0.7012, Testing Accuracy: 0.7087\n",
      "\n"
     ]
    },
    {
     "name": "stdout",
     "output_type": "stream",
     "text": [
      "Epoch 10, Loss 0.0816\n",
      "Training Accuracy: 0.9199, Testing Accuracy: 0.9415\n",
      "\n"
     ]
    },
    {
     "name": "stdout",
     "output_type": "stream",
     "text": [
      "Epoch 20, Loss 0.0514\n",
      "Training Accuracy: 0.9448, Testing Accuracy: 0.9647\n",
      "\n"
     ]
    },
    {
     "name": "stdout",
     "output_type": "stream",
     "text": [
      "Epoch 30, Loss 0.0408\n",
      "Training Accuracy: 0.9548, Testing Accuracy: 0.9667\n",
      "\n"
     ]
    },
    {
     "name": "stdout",
     "output_type": "stream",
     "text": [
      "Epoch 40, Loss 0.0353\n",
      "Training Accuracy: 0.9608, Testing Accuracy: 0.9698\n",
      "\n"
     ]
    },
    {
     "name": "stdout",
     "output_type": "stream",
     "text": [
      "Epoch 50, Loss 0.0318\n",
      "Training Accuracy: 0.9636, Testing Accuracy: 0.9718\n",
      "\n"
     ]
    },
    {
     "name": "stdout",
     "output_type": "stream",
     "text": [
      "Epoch 60, Loss 0.0294\n",
      "Training Accuracy: 0.9660, Testing Accuracy: 0.9723\n",
      "\n"
     ]
    },
    {
     "name": "stdout",
     "output_type": "stream",
     "text": [
      "Epoch 70, Loss 0.0276\n",
      "Training Accuracy: 0.9689, Testing Accuracy: 0.9728\n",
      "\n"
     ]
    },
    {
     "name": "stdout",
     "output_type": "stream",
     "text": [
      "Epoch 80, Loss 0.0262\n",
      "Training Accuracy: 0.9705, Testing Accuracy: 0.9728\n",
      "\n"
     ]
    },
    {
     "name": "stdout",
     "output_type": "stream",
     "text": [
      "Epoch 90, Loss 0.025\n",
      "Training Accuracy: 0.9721, Testing Accuracy: 0.9728\n",
      "\n"
     ]
    },
    {
     "name": "stdout",
     "output_type": "stream",
     "text": [
      "Epoch 100, Loss 0.024\n",
      "Training Accuracy: 0.9735, Testing Accuracy: 0.9723\n",
      "\n"
     ]
    },
    {
     "name": "stdout",
     "output_type": "stream",
     "text": [
      "Epoch 110, Loss 0.0231\n",
      "Training Accuracy: 0.9741, Testing Accuracy: 0.9718\n",
      "\n"
     ]
    },
    {
     "name": "stdout",
     "output_type": "stream",
     "text": [
      "Epoch 120, Loss 0.0223\n",
      "Training Accuracy: 0.9746, Testing Accuracy: 0.9713\n",
      "\n"
     ]
    },
    {
     "name": "stdout",
     "output_type": "stream",
     "text": [
      "Epoch 130, Loss 0.0216\n",
      "Training Accuracy: 0.9755, Testing Accuracy: 0.9738\n",
      "\n"
     ]
    },
    {
     "name": "stdout",
     "output_type": "stream",
     "text": [
      "Epoch 140, Loss 0.021\n",
      "Training Accuracy: 0.9763, Testing Accuracy: 0.9748\n",
      "\n"
     ]
    },
    {
     "name": "stdout",
     "output_type": "stream",
     "text": [
      "Epoch 150, Loss 0.0204\n",
      "Training Accuracy: 0.9765, Testing Accuracy: 0.9748\n",
      "\n"
     ]
    },
    {
     "name": "stdout",
     "output_type": "stream",
     "text": [
      "Epoch 160, Loss 0.0198\n",
      "Training Accuracy: 0.9770, Testing Accuracy: 0.9748\n",
      "\n"
     ]
    },
    {
     "name": "stdout",
     "output_type": "stream",
     "text": [
      "Epoch 170, Loss 0.0193\n",
      "Training Accuracy: 0.9775, Testing Accuracy: 0.9753\n",
      "\n"
     ]
    },
    {
     "name": "stdout",
     "output_type": "stream",
     "text": [
      "Epoch 180, Loss 0.0188\n",
      "Training Accuracy: 0.9786, Testing Accuracy: 0.9763\n",
      "\n"
     ]
    },
    {
     "name": "stdout",
     "output_type": "stream",
     "text": [
      "Epoch 190, Loss 0.0183\n",
      "Training Accuracy: 0.9794, Testing Accuracy: 0.9768\n",
      "\n"
     ]
    },
    {
     "name": "stdout",
     "output_type": "stream",
     "text": [
      "Epoch 200, Loss 0.0178\n",
      "Training Accuracy: 0.9803, Testing Accuracy: 0.9768\n",
      "\n"
     ]
    },
    {
     "name": "stdout",
     "output_type": "stream",
     "text": [
      "Epoch 210, Loss 0.0174\n",
      "Training Accuracy: 0.9810, Testing Accuracy: 0.9768\n",
      "\n"
     ]
    },
    {
     "name": "stdout",
     "output_type": "stream",
     "text": [
      "Epoch 220, Loss 0.017\n",
      "Training Accuracy: 0.9818, Testing Accuracy: 0.9778\n",
      "\n"
     ]
    },
    {
     "name": "stdout",
     "output_type": "stream",
     "text": [
      "Epoch 230, Loss 0.0166\n",
      "Training Accuracy: 0.9823, Testing Accuracy: 0.9783\n",
      "\n"
     ]
    },
    {
     "name": "stdout",
     "output_type": "stream",
     "text": [
      "Epoch 240, Loss 0.0162\n",
      "Training Accuracy: 0.9827, Testing Accuracy: 0.9783\n",
      "\n"
     ]
    },
    {
     "name": "stdout",
     "output_type": "stream",
     "text": [
      "Epoch 250, Loss 0.0158\n",
      "Training Accuracy: 0.9834, Testing Accuracy: 0.9783\n",
      "\n"
     ]
    },
    {
     "data": {
      "text/plain": [
       "0.0036146277471207217"
      ]
     },
     "execution_count": 20,
     "metadata": {},
     "output_type": "execute_result"
    }
   ],
   "source": [
    "print(\"====== Neural Network ======\")\n",
    "learner_nn.train_loop(dl)"
   ]
  },
  {
   "cell_type": "markdown",
   "id": "competent-suffering",
   "metadata": {
    "papermill": {
     "duration": 0.041696,
     "end_time": "2021-05-17T10:14:57.175029",
     "exception": false,
     "start_time": "2021-05-17T10:14:57.133333",
     "status": "completed"
    },
    "tags": []
   },
   "source": [
    "### Logistic Regression based Implementation."
   ]
  },
  {
   "cell_type": "code",
   "execution_count": 21,
   "id": "qualified-psychiatry",
   "metadata": {
    "execution": {
     "iopub.execute_input": "2021-05-17T10:14:57.264468Z",
     "iopub.status.busy": "2021-05-17T10:14:57.263850Z",
     "iopub.status.idle": "2021-05-17T10:14:57.280294Z",
     "shell.execute_reply": "2021-05-17T10:14:57.279753Z"
    },
    "papermill": {
     "duration": 0.064006,
     "end_time": "2021-05-17T10:14:57.280420",
     "exception": false,
     "start_time": "2021-05-17T10:14:57.216414",
     "status": "completed"
    },
    "tags": []
   },
   "outputs": [],
   "source": [
    "learner_lr = Learner(loss, model_lr, opt, config.num_epochs)\n",
    "acc_lr = ClfCallback(learner_lr, config.bs, training_xdata , testing_xdata, training_ydata, testing_ydata)\n",
    "learner_lr.set_callbacks([acc_lr])"
   ]
  },
  {
   "cell_type": "code",
   "execution_count": 22,
   "id": "average-outside",
   "metadata": {
    "execution": {
     "iopub.execute_input": "2021-05-17T10:14:57.372364Z",
     "iopub.status.busy": "2021-05-17T10:14:57.369804Z",
     "iopub.status.idle": "2021-05-17T10:15:13.260760Z",
     "shell.execute_reply": "2021-05-17T10:15:13.261242Z"
    },
    "papermill": {
     "duration": 15.938919,
     "end_time": "2021-05-17T10:15:13.261435",
     "exception": false,
     "start_time": "2021-05-17T10:14:57.322516",
     "status": "completed"
    },
    "tags": []
   },
   "outputs": [
    {
     "name": "stdout",
     "output_type": "stream",
     "text": [
      "====== Logistic Regression ======\n",
      "Epoch 0, Loss 0.2281\n",
      "Training Accuracy: 0.7036, Testing Accuracy: 0.7137\n",
      "\n"
     ]
    },
    {
     "name": "stdout",
     "output_type": "stream",
     "text": [
      "Epoch 10, Loss 0.1069\n",
      "Training Accuracy: 0.8933, Testing Accuracy: 0.9017\n",
      "\n"
     ]
    },
    {
     "name": "stdout",
     "output_type": "stream",
     "text": [
      "Epoch 20, Loss 0.082\n",
      "Training Accuracy: 0.9187, Testing Accuracy: 0.9309\n",
      "\n"
     ]
    },
    {
     "name": "stdout",
     "output_type": "stream",
     "text": [
      "Epoch 30, Loss 0.0703\n",
      "Training Accuracy: 0.9309, Testing Accuracy: 0.9446\n",
      "\n"
     ]
    },
    {
     "name": "stdout",
     "output_type": "stream",
     "text": [
      "Epoch 40, Loss 0.0633\n",
      "Training Accuracy: 0.9386, Testing Accuracy: 0.9501\n",
      "\n"
     ]
    },
    {
     "name": "stdout",
     "output_type": "stream",
     "text": [
      "Epoch 50, Loss 0.0586\n",
      "Training Accuracy: 0.9427, Testing Accuracy: 0.9531\n",
      "\n"
     ]
    },
    {
     "name": "stdout",
     "output_type": "stream",
     "text": [
      "Epoch 60, Loss 0.0551\n",
      "Training Accuracy: 0.9453, Testing Accuracy: 0.9577\n",
      "\n"
     ]
    },
    {
     "name": "stdout",
     "output_type": "stream",
     "text": [
      "Epoch 70, Loss 0.0524\n",
      "Training Accuracy: 0.9468, Testing Accuracy: 0.9587\n",
      "\n"
     ]
    },
    {
     "name": "stdout",
     "output_type": "stream",
     "text": [
      "Epoch 80, Loss 0.0502\n",
      "Training Accuracy: 0.9483, Testing Accuracy: 0.9617\n",
      "\n"
     ]
    },
    {
     "name": "stdout",
     "output_type": "stream",
     "text": [
      "Epoch 90, Loss 0.0485\n",
      "Training Accuracy: 0.9502, Testing Accuracy: 0.9627\n",
      "\n"
     ]
    },
    {
     "name": "stdout",
     "output_type": "stream",
     "text": [
      "Epoch 100, Loss 0.047\n",
      "Training Accuracy: 0.9511, Testing Accuracy: 0.9632\n",
      "\n"
     ]
    },
    {
     "name": "stdout",
     "output_type": "stream",
     "text": [
      "Epoch 110, Loss 0.0457\n",
      "Training Accuracy: 0.9519, Testing Accuracy: 0.9637\n",
      "\n"
     ]
    },
    {
     "name": "stdout",
     "output_type": "stream",
     "text": [
      "Epoch 120, Loss 0.0446\n",
      "Training Accuracy: 0.9528, Testing Accuracy: 0.9647\n",
      "\n"
     ]
    },
    {
     "name": "stdout",
     "output_type": "stream",
     "text": [
      "Epoch 130, Loss 0.0436\n",
      "Training Accuracy: 0.9533, Testing Accuracy: 0.9647\n",
      "\n"
     ]
    },
    {
     "name": "stdout",
     "output_type": "stream",
     "text": [
      "Epoch 140, Loss 0.0427\n",
      "Training Accuracy: 0.9543, Testing Accuracy: 0.9652\n",
      "\n"
     ]
    },
    {
     "name": "stdout",
     "output_type": "stream",
     "text": [
      "Epoch 150, Loss 0.042\n",
      "Training Accuracy: 0.9548, Testing Accuracy: 0.9657\n",
      "\n"
     ]
    },
    {
     "name": "stdout",
     "output_type": "stream",
     "text": [
      "Epoch 160, Loss 0.0413\n",
      "Training Accuracy: 0.9554, Testing Accuracy: 0.9667\n",
      "\n"
     ]
    },
    {
     "name": "stdout",
     "output_type": "stream",
     "text": [
      "Epoch 170, Loss 0.0406\n",
      "Training Accuracy: 0.9564, Testing Accuracy: 0.9672\n",
      "\n"
     ]
    },
    {
     "name": "stdout",
     "output_type": "stream",
     "text": [
      "Epoch 180, Loss 0.04\n",
      "Training Accuracy: 0.9570, Testing Accuracy: 0.9677\n",
      "\n"
     ]
    },
    {
     "name": "stdout",
     "output_type": "stream",
     "text": [
      "Epoch 190, Loss 0.0395\n",
      "Training Accuracy: 0.9578, Testing Accuracy: 0.9677\n",
      "\n"
     ]
    },
    {
     "name": "stdout",
     "output_type": "stream",
     "text": [
      "Epoch 200, Loss 0.039\n",
      "Training Accuracy: 0.9586, Testing Accuracy: 0.9677\n",
      "\n"
     ]
    },
    {
     "name": "stdout",
     "output_type": "stream",
     "text": [
      "Epoch 210, Loss 0.0385\n",
      "Training Accuracy: 0.9591, Testing Accuracy: 0.9672\n",
      "\n"
     ]
    },
    {
     "name": "stdout",
     "output_type": "stream",
     "text": [
      "Epoch 220, Loss 0.0381\n",
      "Training Accuracy: 0.9594, Testing Accuracy: 0.9672\n",
      "\n"
     ]
    },
    {
     "name": "stdout",
     "output_type": "stream",
     "text": [
      "Epoch 230, Loss 0.0377\n",
      "Training Accuracy: 0.9596, Testing Accuracy: 0.9677\n",
      "\n"
     ]
    },
    {
     "name": "stdout",
     "output_type": "stream",
     "text": [
      "Epoch 240, Loss 0.0373\n",
      "Training Accuracy: 0.9604, Testing Accuracy: 0.9682\n",
      "\n"
     ]
    },
    {
     "name": "stdout",
     "output_type": "stream",
     "text": [
      "Epoch 250, Loss 0.037\n",
      "Training Accuracy: 0.9603, Testing Accuracy: 0.9682\n",
      "\n"
     ]
    },
    {
     "data": {
      "text/plain": [
       "0.02663646208839056"
      ]
     },
     "execution_count": 22,
     "metadata": {},
     "output_type": "execute_result"
    }
   ],
   "source": [
    "print(\"====== Logistic Regression ======\")\n",
    "learner_lr.train_loop(dl)"
   ]
  },
  {
   "cell_type": "markdown",
   "id": "adjusted-possible",
   "metadata": {
    "papermill": {
     "duration": 0.049094,
     "end_time": "2021-05-17T10:15:13.360353",
     "exception": false,
     "start_time": "2021-05-17T10:15:13.311259",
     "status": "completed"
    },
    "tags": []
   },
   "source": [
    "### Comparing results of NN and LR"
   ]
  },
  {
   "cell_type": "code",
   "execution_count": 23,
   "id": "mental-multimedia",
   "metadata": {
    "execution": {
     "iopub.execute_input": "2021-05-17T10:15:13.466866Z",
     "iopub.status.busy": "2021-05-17T10:15:13.466215Z",
     "iopub.status.idle": "2021-05-17T10:15:13.718640Z",
     "shell.execute_reply": "2021-05-17T10:15:13.719148Z"
    },
    "papermill": {
     "duration": 0.309556,
     "end_time": "2021-05-17T10:15:13.719308",
     "exception": false,
     "start_time": "2021-05-17T10:15:13.409752",
     "status": "completed"
    },
    "tags": []
   },
   "outputs": [
    {
     "data": {
      "text/plain": [
       "<matplotlib.legend.Legend at 0x7f3c009dc1d0>"
      ]
     },
     "execution_count": 23,
     "metadata": {},
     "output_type": "execute_result"
    },
    {
     "data": {
      "image/png": "[encoded data removed]",
      "text/plain": [
       "<Figure size 1080x720 with 1 Axes>"
      ]
     },
     "metadata": {
      "needs_background": "light"
     },
     "output_type": "display_data"
    }
   ],
   "source": [
    "plt.figure(figsize=(15,10))\n",
    "\n",
    "# Neural Network plots\n",
    "plt.plot(acc_nn.accuracies, 'r-', label = \"Training Accuracies - NN\")\n",
    "plt.plot(acc_nn.test_accuracies, 'g-', label = \"Testing Accuracies - NN\")\n",
    "\n",
    "# Logistic Regression plots\n",
    "plt.plot(acc_lr.accuracies, 'k-', label = \"Training Accuracies - LR\")\n",
    "plt.plot(acc_lr.test_accuracies, 'b-', label = \"Testing Accuracies - LR\")\n",
    "\n",
    "plt.ylim(0.8, 1)\n",
    "\n",
    "plt.legend()\n",
    "\n"
   ]
  },
  {
   "cell_type": "markdown",
   "id": "sexual-flesh",
   "metadata": {
    "papermill": {
     "duration": 0.051357,
     "end_time": "2021-05-17T10:15:13.821905",
     "exception": false,
     "start_time": "2021-05-17T10:15:13.770548",
     "status": "completed"
    },
    "tags": []
   },
   "source": [
    "### From the plot, we can observe the following:\n",
    "- Neural Network achieves higher accuracy than the Logistic Regression model.\n",
    "- This apparently, is because of overfitting, i.e. NN captures more noise than data.\n",
    "- Testing accuracy of NN drops below the Training accuracy at higher epochs. This explains the over-fitting on training data.\n",
    "- Logistic Regression gives a reliable accuracy, without the above mentioned problem.\n"
   ]
  },
  {
   "cell_type": "markdown",
   "id": "institutional-pacific",
   "metadata": {
    "papermill": {
     "duration": 0.051112,
     "end_time": "2021-05-17T10:15:13.924604",
     "exception": false,
     "start_time": "2021-05-17T10:15:13.873492",
     "status": "completed"
    },
    "tags": []
   },
   "source": [
    "### Moving till the last but one layer (excluding it).\n",
    "#### Plotting the outputs of this layer of the NN."
   ]
  },
  {
   "cell_type": "code",
   "execution_count": 24,
   "id": "economic-server",
   "metadata": {
    "execution": {
     "iopub.execute_input": "2021-05-17T10:15:14.032197Z",
     "iopub.status.busy": "2021-05-17T10:15:14.031573Z",
     "iopub.status.idle": "2021-05-17T10:15:14.044285Z",
     "shell.execute_reply": "2021-05-17T10:15:14.043758Z"
    },
    "papermill": {
     "duration": 0.068563,
     "end_time": "2021-05-17T10:15:14.044406",
     "exception": false,
     "start_time": "2021-05-17T10:15:13.975843",
     "status": "completed"
    },
    "tags": []
   },
   "outputs": [],
   "source": [
    "model_new = Model(layers[:-2])"
   ]
  },
  {
   "cell_type": "code",
   "execution_count": 25,
   "id": "varied-upgrade",
   "metadata": {
    "execution": {
     "iopub.execute_input": "2021-05-17T10:15:14.183990Z",
     "iopub.status.busy": "2021-05-17T10:15:14.183377Z",
     "iopub.status.idle": "2021-05-17T10:15:14.203666Z",
     "shell.execute_reply": "2021-05-17T10:15:14.204251Z"
    },
    "papermill": {
     "duration": 0.1086,
     "end_time": "2021-05-17T10:15:14.204402",
     "exception": false,
     "start_time": "2021-05-17T10:15:14.095802",
     "status": "completed"
    },
    "tags": []
   },
   "outputs": [],
   "source": [
    "plot_testing = model_new(testing_xdata)"
   ]
  },
  {
   "cell_type": "code",
   "execution_count": 26,
   "id": "specific-handling",
   "metadata": {
    "execution": {
     "iopub.execute_input": "2021-05-17T10:15:14.317839Z",
     "iopub.status.busy": "2021-05-17T10:15:14.317240Z",
     "iopub.status.idle": "2021-05-17T10:15:14.532200Z",
     "shell.execute_reply": "2021-05-17T10:15:14.531640Z"
    },
    "papermill": {
     "duration": 0.276334,
     "end_time": "2021-05-17T10:15:14.532332",
     "exception": false,
     "start_time": "2021-05-17T10:15:14.255998",
     "status": "completed"
    },
    "tags": []
   },
   "outputs": [
    {
     "data": {
      "text/plain": [
       "Text(0.5, 1.0, 'Outputs')"
      ]
     },
     "execution_count": 26,
     "metadata": {},
     "output_type": "execute_result"
    },
    {
     "data": {
      "image/png": "[encoded data removed]",
      "text/plain": [
       "<Figure size 576x504 with 1 Axes>"
      ]
     },
     "metadata": {
      "needs_background": "light"
     },
     "output_type": "display_data"
    }
   ],
   "source": [
    "plt.figure(figsize=(8,7))\n",
    "plt.scatter(plot_testing[:,0], plot_testing[:,1], alpha = 0.1, c = y_test.ravel());\n",
    "plt.title('Outputs')"
   ]
  },
  {
   "cell_type": "markdown",
   "id": "described-knowing",
   "metadata": {
    "papermill": {
     "duration": 0.054891,
     "end_time": "2021-05-17T10:15:14.643017",
     "exception": false,
     "start_time": "2021-05-17T10:15:14.588126",
     "status": "completed"
    },
    "tags": []
   },
   "source": [
    "### Plotting probability contours"
   ]
  },
  {
   "cell_type": "code",
   "execution_count": 27,
   "id": "needed-growing",
   "metadata": {
    "execution": {
     "iopub.execute_input": "2021-05-17T10:15:14.757265Z",
     "iopub.status.busy": "2021-05-17T10:15:14.756650Z",
     "iopub.status.idle": "2021-05-17T10:15:14.769719Z",
     "shell.execute_reply": "2021-05-17T10:15:14.769264Z"
    },
    "papermill": {
     "duration": 0.072016,
     "end_time": "2021-05-17T10:15:14.769838",
     "exception": false,
     "start_time": "2021-05-17T10:15:14.697822",
     "status": "completed"
    },
    "tags": []
   },
   "outputs": [],
   "source": [
    "model_prob = Model(layers[-2:]) "
   ]
  },
  {
   "cell_type": "code",
   "execution_count": 28,
   "id": "introductory-enforcement",
   "metadata": {
    "execution": {
     "iopub.execute_input": "2021-05-17T10:15:14.889469Z",
     "iopub.status.busy": "2021-05-17T10:15:14.887315Z",
     "iopub.status.idle": "2021-05-17T10:15:14.903513Z",
     "shell.execute_reply": "2021-05-17T10:15:14.903984Z"
    },
    "papermill": {
     "duration": 0.079175,
     "end_time": "2021-05-17T10:15:14.904131",
     "exception": false,
     "start_time": "2021-05-17T10:15:14.824956",
     "status": "completed"
    },
    "tags": []
   },
   "outputs": [],
   "source": [
    "# Adjust the x and y ranges according to the above generated plot.\n",
    "x_range = np.linspace(-4, 1, 100) \n",
    "y_range = np.linspace(-6, 6, 100) \n",
    "x_grid, y_grid = np.meshgrid(x_range, y_range) # x_grid and y_grig are of size 100 X 100\n",
    "\n",
    "# converting x_grid and y_grid to continuous arrays\n",
    "x_grid_flat = np.ravel(x_grid)\n",
    "y_grid_flat = np.ravel(y_grid)\n",
    "\n",
    "# The last layer of the current model takes two columns as input. Hence transpose of np.vstack() is required.\n",
    "X = np.vstack((x_grid_flat, y_grid_flat)).T\n",
    "\n",
    "# x_grid and y_grid are of size 100 x 100\n",
    "probability_contour = model_prob(X).reshape(100,100) "
   ]
  },
  {
   "cell_type": "code",
   "execution_count": 29,
   "id": "understood-landing",
   "metadata": {
    "execution": {
     "iopub.execute_input": "2021-05-17T10:15:15.020057Z",
     "iopub.status.busy": "2021-05-17T10:15:15.019392Z",
     "iopub.status.idle": "2021-05-17T10:15:15.294431Z",
     "shell.execute_reply": "2021-05-17T10:15:15.294902Z"
    },
    "papermill": {
     "duration": 0.335407,
     "end_time": "2021-05-17T10:15:15.295056",
     "exception": false,
     "start_time": "2021-05-17T10:15:14.959649",
     "status": "completed"
    },
    "tags": []
   },
   "outputs": [
    {
     "data": {
      "image/png": "[encoded data removed]",
      "text/plain": [
       "<Figure size 720x648 with 1 Axes>"
      ]
     },
     "metadata": {
      "needs_background": "light"
     },
     "output_type": "display_data"
    }
   ],
   "source": [
    "plt.figure(figsize=(10,9))\n",
    "plt.scatter(plot_testing[:,0], plot_testing[:,1], alpha = 0.1, c = y_test.ravel())\n",
    "contours = plt.contour(x_grid,y_grid,probability_contour)\n",
    "plt.title('Probability Contours')\n",
    "plt.clabel(contours, inline = True );"
   ]
  }
 ],
 "metadata": {
  "kernelspec": {
   "display_name": "Python 3",
   "language": "python",
   "name": "python3"
  },
  "language_info": {
   "codemirror_mode": {
    "name": "ipython",
    "version": 3
   },
   "file_extension": ".py",
   "mimetype": "text/x-python",
   "name": "python",
   "nbconvert_exporter": "python",
   "pygments_lexer": "ipython3",
   "version": "3.6.13"
  },
  "papermill": {
   "duration": 458.737285,
   "end_time": "2021-05-17T10:15:15.763446",
   "environment_variables": {},
   "exception": null,
   "input_path": "2020-08-11-NeuralNetwork.ipynb",
   "output_path": "2020-08-11-NeuralNetwork.ipynb",
   "parameters": {},
   "start_time": "2021-05-17T10:07:37.026161",
   "version": "2.1.2"
  }
 },
 "nbformat": 4,
 "nbformat_minor": 5
}