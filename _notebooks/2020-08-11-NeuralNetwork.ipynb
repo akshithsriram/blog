{
 "cells": [
  {
   "cell_type": "markdown",
   "metadata": {
    "papermill": {
     "duration": 0.273874,
     "end_time": "2020-10-07T20:04:16.627098",
     "exception": false,
     "start_time": "2020-10-07T20:04:16.353224",
     "status": "completed"
    },
    "tags": []
   },
   "source": [
    "# \"A Basic Neural Network: Differentiate Hand-Written Digits\"\n",
    "\n",
    "- badges: true\n",
    "- author: Akshith Sriram"
   ]
  },
  {
   "cell_type": "markdown",
   "metadata": {
    "papermill": {
     "duration": 0.908429,
     "end_time": "2020-10-07T20:04:17.735837",
     "exception": false,
     "start_time": "2020-10-07T20:04:16.827408",
     "status": "completed"
    },
    "tags": []
   },
   "source": [
    "### Key Objectives:\n",
    "- Building a neural network that differentiates two hand-written digits 3 and 8.\n",
    "- Comparing the results of this Neural Network (NN) to that of a Logistic Regression (LR) model.\n",
    "\n",
    "### Requirements:\n",
    "- 'Kudzu' : A neural network library that was designed during our course by [Univ.AI](www.univ.ai). \n",
    "- MNIST Database\n",
    "\n",
    "If MNIST is not installed, use the command `!pip install mnist` given below.\n",
    "It can be run both from the command line and Jupyter Notebook."
   ]
  },
  {
   "cell_type": "code",
   "execution_count": 1,
   "metadata": {
    "execution": {
     "iopub.execute_input": "2020-10-07T20:04:18.103496Z",
     "iopub.status.busy": "2020-10-07T20:04:18.102867Z",
     "iopub.status.idle": "2020-10-07T20:04:19.522110Z",
     "shell.execute_reply": "2020-10-07T20:04:19.521082Z"
    },
    "papermill": {
     "duration": 1.446463,
     "end_time": "2020-10-07T20:04:19.522291",
     "exception": false,
     "start_time": "2020-10-07T20:04:18.075828",
     "status": "completed"
    },
    "tags": []
   },
   "outputs": [
    {
     "name": "stdout",
     "output_type": "stream",
     "text": [
      "Collecting mnist\r\n"
     ]
    },
    {
     "name": "stdout",
     "output_type": "stream",
     "text": [
      "  Downloading mnist-0.2.2-py2.py3-none-any.whl (3.5 kB)\r\n"
     ]
    },
    {
     "name": "stdout",
     "output_type": "stream",
     "text": [
      "Requirement already satisfied: numpy in /opt/hostedtoolcache/Python/3.6.12/x64/lib/python3.6/site-packages (from mnist) (1.19.2)\r\n"
     ]
    },
    {
     "name": "stdout",
     "output_type": "stream",
     "text": [
      "Installing collected packages: mnist\r\n",
      "Successfully installed mnist-0.2.2\r\n"
     ]
    }
   ],
   "source": [
    "!pip install mnist "
   ]
  },
  {
   "cell_type": "markdown",
   "metadata": {
    "papermill": {
     "duration": 0.023507,
     "end_time": "2020-10-07T20:04:19.569785",
     "exception": false,
     "start_time": "2020-10-07T20:04:19.546278",
     "status": "completed"
    },
    "tags": []
   },
   "source": [
    "#### Importing necessary libraries"
   ]
  },
  {
   "cell_type": "code",
   "execution_count": 2,
   "metadata": {
    "execution": {
     "iopub.execute_input": "2020-10-07T20:04:19.636275Z",
     "iopub.status.busy": "2020-10-07T20:04:19.624977Z",
     "iopub.status.idle": "2020-10-07T20:04:20.159285Z",
     "shell.execute_reply": "2020-10-07T20:04:20.158756Z"
    },
    "papermill": {
     "duration": 0.56499,
     "end_time": "2020-10-07T20:04:20.159441",
     "exception": false,
     "start_time": "2020-10-07T20:04:19.594451",
     "status": "completed"
    },
    "tags": []
   },
   "outputs": [],
   "source": [
    "%load_ext autoreload\n",
    "%autoreload 2\n",
    "\n",
    "%matplotlib inline\n",
    "import matplotlib.pyplot as plt\n",
    "\n",
    "import numpy as np\n",
    "import pandas as pd"
   ]
  },
  {
   "cell_type": "markdown",
   "metadata": {
    "papermill": {
     "duration": 0.023937,
     "end_time": "2020-10-07T20:04:20.207322",
     "exception": false,
     "start_time": "2020-10-07T20:04:20.183385",
     "status": "completed"
    },
    "tags": []
   },
   "source": [
    "### Preparing the Data"
   ]
  },
  {
   "cell_type": "code",
   "execution_count": 3,
   "metadata": {
    "execution": {
     "iopub.execute_input": "2020-10-07T20:04:20.258930Z",
     "iopub.status.busy": "2020-10-07T20:04:20.258400Z",
     "iopub.status.idle": "2020-10-07T20:04:20.270489Z",
     "shell.execute_reply": "2020-10-07T20:04:20.270073Z"
    },
    "papermill": {
     "duration": 0.039733,
     "end_time": "2020-10-07T20:04:20.270613",
     "exception": false,
     "start_time": "2020-10-07T20:04:20.230880",
     "status": "completed"
    },
    "tags": []
   },
   "outputs": [],
   "source": [
    "import mnist"
   ]
  },
  {
   "cell_type": "code",
   "execution_count": 4,
   "metadata": {
    "execution": {
     "iopub.execute_input": "2020-10-07T20:04:20.322755Z",
     "iopub.status.busy": "2020-10-07T20:04:20.322244Z",
     "iopub.status.idle": "2020-10-07T20:04:21.064809Z",
     "shell.execute_reply": "2020-10-07T20:04:21.064260Z"
    },
    "papermill": {
     "duration": 0.770509,
     "end_time": "2020-10-07T20:04:21.064960",
     "exception": false,
     "start_time": "2020-10-07T20:04:20.294451",
     "status": "completed"
    },
    "tags": []
   },
   "outputs": [],
   "source": [
    "train_images = mnist.train_images()\n",
    "train_labels = mnist.train_labels()"
   ]
  },
  {
   "cell_type": "code",
   "execution_count": 5,
   "metadata": {
    "execution": {
     "iopub.execute_input": "2020-10-07T20:04:21.118305Z",
     "iopub.status.busy": "2020-10-07T20:04:21.117781Z",
     "iopub.status.idle": "2020-10-07T20:04:21.133023Z",
     "shell.execute_reply": "2020-10-07T20:04:21.132608Z"
    },
    "papermill": {
     "duration": 0.044211,
     "end_time": "2020-10-07T20:04:21.133153",
     "exception": false,
     "start_time": "2020-10-07T20:04:21.088942",
     "status": "completed"
    },
    "tags": []
   },
   "outputs": [
    {
     "data": {
      "text/plain": [
       "((60000, 28, 28), (60000,))"
      ]
     },
     "execution_count": 5,
     "metadata": {},
     "output_type": "execute_result"
    }
   ],
   "source": [
    "train_images.shape, train_labels.shape"
   ]
  },
  {
   "cell_type": "code",
   "execution_count": 6,
   "metadata": {
    "execution": {
     "iopub.execute_input": "2020-10-07T20:04:21.185043Z",
     "iopub.status.busy": "2020-10-07T20:04:21.184519Z",
     "iopub.status.idle": "2020-10-07T20:04:21.459770Z",
     "shell.execute_reply": "2020-10-07T20:04:21.460275Z"
    },
    "papermill": {
     "duration": 0.303442,
     "end_time": "2020-10-07T20:04:21.460450",
     "exception": false,
     "start_time": "2020-10-07T20:04:21.157008",
     "status": "completed"
    },
    "tags": []
   },
   "outputs": [],
   "source": [
    "test_images = mnist.test_images()\n",
    "test_labels = mnist.test_labels()"
   ]
  },
  {
   "cell_type": "code",
   "execution_count": 7,
   "metadata": {
    "execution": {
     "iopub.execute_input": "2020-10-07T20:04:21.518746Z",
     "iopub.status.busy": "2020-10-07T20:04:21.518213Z",
     "iopub.status.idle": "2020-10-07T20:04:21.527074Z",
     "shell.execute_reply": "2020-10-07T20:04:21.526661Z"
    },
    "papermill": {
     "duration": 0.042777,
     "end_time": "2020-10-07T20:04:21.527194",
     "exception": false,
     "start_time": "2020-10-07T20:04:21.484417",
     "status": "completed"
    },
    "tags": []
   },
   "outputs": [
    {
     "data": {
      "text/plain": [
       "((10000, 28, 28), (10000,))"
      ]
     },
     "execution_count": 7,
     "metadata": {},
     "output_type": "execute_result"
    }
   ],
   "source": [
    "test_images.shape, test_labels.shape"
   ]
  },
  {
   "cell_type": "code",
   "execution_count": 8,
   "metadata": {
    "execution": {
     "iopub.execute_input": "2020-10-07T20:04:21.607637Z",
     "iopub.status.busy": "2020-10-07T20:04:21.594943Z",
     "iopub.status.idle": "2020-10-07T20:04:21.719267Z",
     "shell.execute_reply": "2020-10-07T20:04:21.718826Z"
    },
    "papermill": {
     "duration": 0.168039,
     "end_time": "2020-10-07T20:04:21.719400",
     "exception": false,
     "start_time": "2020-10-07T20:04:21.551361",
     "status": "completed"
    },
    "tags": []
   },
   "outputs": [
    {
     "name": "stdout",
     "output_type": "stream",
     "text": [
      "2\n"
     ]
    },
    {
     "data": {
      "text/plain": [
       "<matplotlib.image.AxesImage at 0x7f3b345bba20>"
      ]
     },
     "execution_count": 8,
     "metadata": {},
     "output_type": "execute_result"
    },
    {
     "data": {
      "image/png": "[encoded data removed]",
      "text/plain": [
       "<Figure size 432x288 with 1 Axes>"
      ]
     },
     "metadata": {
      "needs_background": "light"
     },
     "output_type": "display_data"
    }
   ],
   "source": [
    "image_index = 7776 # You may select anything up to 60,000\n",
    "print(train_labels[image_index]) \n",
    "plt.imshow(train_images[image_index], cmap='Greys')"
   ]
  },
  {
   "cell_type": "markdown",
   "metadata": {
    "papermill": {
     "duration": 0.024987,
     "end_time": "2020-10-07T20:04:21.769694",
     "exception": false,
     "start_time": "2020-10-07T20:04:21.744707",
     "status": "completed"
    },
    "tags": []
   },
   "source": [
    "## Filter data to get 3 and 8 out"
   ]
  },
  {
   "cell_type": "code",
   "execution_count": 9,
   "metadata": {
    "execution": {
     "iopub.execute_input": "2020-10-07T20:04:21.830149Z",
     "iopub.status.busy": "2020-10-07T20:04:21.823922Z",
     "iopub.status.idle": "2020-10-07T20:04:21.842800Z",
     "shell.execute_reply": "2020-10-07T20:04:21.842346Z"
    },
    "papermill": {
     "duration": 0.048134,
     "end_time": "2020-10-07T20:04:21.842939",
     "exception": false,
     "start_time": "2020-10-07T20:04:21.794805",
     "status": "completed"
    },
    "tags": []
   },
   "outputs": [],
   "source": [
    "train_filter = np.where((train_labels == 3 ) | (train_labels == 8))\n",
    "test_filter = np.where((test_labels == 3) | (test_labels == 8))\n",
    "X_train, y_train = train_images[train_filter], train_labels[train_filter]\n",
    "X_test, y_test = test_images[test_filter], test_labels[test_filter]"
   ]
  },
  {
   "cell_type": "markdown",
   "metadata": {
    "papermill": {
     "duration": 0.025621,
     "end_time": "2020-10-07T20:04:21.895154",
     "exception": false,
     "start_time": "2020-10-07T20:04:21.869533",
     "status": "completed"
    },
    "tags": []
   },
   "source": [
    "We normalize the pixel values in the 0 to 1 range"
   ]
  },
  {
   "cell_type": "code",
   "execution_count": 10,
   "metadata": {
    "execution": {
     "iopub.execute_input": "2020-10-07T20:04:21.956628Z",
     "iopub.status.busy": "2020-10-07T20:04:21.956049Z",
     "iopub.status.idle": "2020-10-07T20:04:22.003218Z",
     "shell.execute_reply": "2020-10-07T20:04:22.002656Z"
    },
    "papermill": {
     "duration": 0.081299,
     "end_time": "2020-10-07T20:04:22.003382",
     "exception": false,
     "start_time": "2020-10-07T20:04:21.922083",
     "status": "completed"
    },
    "tags": []
   },
   "outputs": [],
   "source": [
    "X_train = X_train/255.\n",
    "X_test = X_test/255."
   ]
  },
  {
   "cell_type": "markdown",
   "metadata": {
    "papermill": {
     "duration": 0.025229,
     "end_time": "2020-10-07T20:04:22.054694",
     "exception": false,
     "start_time": "2020-10-07T20:04:22.029465",
     "status": "completed"
    },
    "tags": []
   },
   "source": [
    "Setup the labels as 1 (when the digit is 3) and 0 (when the digit is 8)"
   ]
  },
  {
   "cell_type": "code",
   "execution_count": 11,
   "metadata": {
    "execution": {
     "iopub.execute_input": "2020-10-07T20:04:22.121345Z",
     "iopub.status.busy": "2020-10-07T20:04:22.115919Z",
     "iopub.status.idle": "2020-10-07T20:04:22.123296Z",
     "shell.execute_reply": "2020-10-07T20:04:22.123704Z"
    },
    "papermill": {
     "duration": 0.043851,
     "end_time": "2020-10-07T20:04:22.123852",
     "exception": false,
     "start_time": "2020-10-07T20:04:22.080001",
     "status": "completed"
    },
    "tags": []
   },
   "outputs": [],
   "source": [
    "y_train = 1*(y_train==3)\n",
    "y_test = 1*(y_test==3)"
   ]
  },
  {
   "cell_type": "code",
   "execution_count": 12,
   "metadata": {
    "execution": {
     "iopub.execute_input": "2020-10-07T20:04:22.194888Z",
     "iopub.status.busy": "2020-10-07T20:04:22.194329Z",
     "iopub.status.idle": "2020-10-07T20:04:22.199075Z",
     "shell.execute_reply": "2020-10-07T20:04:22.198646Z"
    },
    "papermill": {
     "duration": 0.049896,
     "end_time": "2020-10-07T20:04:22.199201",
     "exception": false,
     "start_time": "2020-10-07T20:04:22.149305",
     "status": "completed"
    },
    "tags": []
   },
   "outputs": [
    {
     "data": {
      "text/plain": [
       "((11982, 28, 28), (1984, 28, 28))"
      ]
     },
     "execution_count": 12,
     "metadata": {},
     "output_type": "execute_result"
    }
   ],
   "source": [
    "X_train.shape, X_test.shape"
   ]
  },
  {
   "cell_type": "markdown",
   "metadata": {
    "papermill": {
     "duration": 0.02538,
     "end_time": "2020-10-07T20:04:22.249978",
     "exception": false,
     "start_time": "2020-10-07T20:04:22.224598",
     "status": "completed"
    },
    "tags": []
   },
   "source": [
    "### Reshape the input data to create a linear array"
   ]
  },
  {
   "cell_type": "code",
   "execution_count": 13,
   "metadata": {
    "execution": {
     "iopub.execute_input": "2020-10-07T20:04:22.305684Z",
     "iopub.status.busy": "2020-10-07T20:04:22.305132Z",
     "iopub.status.idle": "2020-10-07T20:04:22.318459Z",
     "shell.execute_reply": "2020-10-07T20:04:22.318042Z"
    },
    "papermill": {
     "duration": 0.043066,
     "end_time": "2020-10-07T20:04:22.318592",
     "exception": false,
     "start_time": "2020-10-07T20:04:22.275526",
     "status": "completed"
    },
    "tags": []
   },
   "outputs": [
    {
     "data": {
      "text/plain": [
       "((11982, 784), (1984, 784))"
      ]
     },
     "execution_count": 13,
     "metadata": {},
     "output_type": "execute_result"
    }
   ],
   "source": [
    "X_train = X_train.reshape(X_train.shape[0], -1)\n",
    "X_test = X_test.reshape(X_test.shape[0], -1)\n",
    "X_train.shape, X_test.shape"
   ]
  },
  {
   "cell_type": "markdown",
   "metadata": {
    "papermill": {
     "duration": 0.025444,
     "end_time": "2020-10-07T20:04:22.369621",
     "exception": false,
     "start_time": "2020-10-07T20:04:22.344177",
     "status": "completed"
    },
    "tags": []
   },
   "source": [
    "### Importing appropriate functions from 'Kudzu'"
   ]
  },
  {
   "cell_type": "code",
   "execution_count": 14,
   "metadata": {
    "execution": {
     "iopub.execute_input": "2020-10-07T20:04:22.427754Z",
     "iopub.status.busy": "2020-10-07T20:04:22.427236Z",
     "iopub.status.idle": "2020-10-07T20:04:22.443996Z",
     "shell.execute_reply": "2020-10-07T20:04:22.444403Z"
    },
    "papermill": {
     "duration": 0.049281,
     "end_time": "2020-10-07T20:04:22.444550",
     "exception": false,
     "start_time": "2020-10-07T20:04:22.395269",
     "status": "completed"
    },
    "tags": []
   },
   "outputs": [],
   "source": [
    "from kudzu.layer import Sigmoid\n",
    "from kudzu.layer import Relu\n",
    "from kudzu.layer import Affine, Sigmoid\n",
    "\n",
    "from kudzu.model import Model\n",
    "from kudzu.train import Learner\n",
    "from kudzu.optim import GD\n",
    "from kudzu.data import Data, Dataloader, Sampler\n",
    "\n",
    "from kudzu.callbacks import AccCallback\n",
    "from kudzu.callbacks import ClfCallback\n",
    "\n",
    "from kudzu.loss import MSE"
   ]
  },
  {
   "cell_type": "markdown",
   "metadata": {
    "papermill": {
     "duration": 0.025475,
     "end_time": "2020-10-07T20:04:22.495521",
     "exception": false,
     "start_time": "2020-10-07T20:04:22.470046",
     "status": "completed"
    },
    "tags": []
   },
   "source": [
    "### Let us create a `Config` class, to store important parameters. \n",
    "This class essentially plays the role of a dictionary."
   ]
  },
  {
   "cell_type": "code",
   "execution_count": 15,
   "metadata": {
    "execution": {
     "iopub.execute_input": "2020-10-07T20:04:22.564272Z",
     "iopub.status.busy": "2020-10-07T20:04:22.559536Z",
     "iopub.status.idle": "2020-10-07T20:04:22.566698Z",
     "shell.execute_reply": "2020-10-07T20:04:22.566186Z"
    },
    "papermill": {
     "duration": 0.0455,
     "end_time": "2020-10-07T20:04:22.566827",
     "exception": false,
     "start_time": "2020-10-07T20:04:22.521327",
     "status": "completed"
    },
    "tags": []
   },
   "outputs": [],
   "source": [
    "class Config:\n",
    "    pass\n",
    "config = Config()\n",
    "config.lr = 0.001\n",
    "config.num_epochs = 251\n",
    "config.bs = 50"
   ]
  },
  {
   "cell_type": "markdown",
   "metadata": {
    "papermill": {
     "duration": 0.026111,
     "end_time": "2020-10-07T20:04:22.618621",
     "exception": false,
     "start_time": "2020-10-07T20:04:22.592510",
     "status": "completed"
    },
    "tags": []
   },
   "source": [
    "### Initializing data to the variables"
   ]
  },
  {
   "cell_type": "code",
   "execution_count": 16,
   "metadata": {
    "execution": {
     "iopub.execute_input": "2020-10-07T20:04:22.686261Z",
     "iopub.status.busy": "2020-10-07T20:04:22.678207Z",
     "iopub.status.idle": "2020-10-07T20:04:22.688707Z",
     "shell.execute_reply": "2020-10-07T20:04:22.688249Z"
    },
    "papermill": {
     "duration": 0.044442,
     "end_time": "2020-10-07T20:04:22.688833",
     "exception": false,
     "start_time": "2020-10-07T20:04:22.644391",
     "status": "completed"
    },
    "tags": []
   },
   "outputs": [],
   "source": [
    "data = Data(X_train, y_train.reshape(-1,1))\n",
    "sampler = Sampler(data, config.bs, shuffle=True)\n",
    "\n",
    "dl = Dataloader(data, sampler)\n",
    "\n",
    "opt = GD(config.lr)\n",
    "loss = MSE()"
   ]
  },
  {
   "cell_type": "code",
   "execution_count": 17,
   "metadata": {
    "execution": {
     "iopub.execute_input": "2020-10-07T20:04:22.758264Z",
     "iopub.status.busy": "2020-10-07T20:04:22.754140Z",
     "iopub.status.idle": "2020-10-07T20:04:22.760179Z",
     "shell.execute_reply": "2020-10-07T20:04:22.760566Z"
    },
    "papermill": {
     "duration": 0.046041,
     "end_time": "2020-10-07T20:04:22.760715",
     "exception": false,
     "start_time": "2020-10-07T20:04:22.714674",
     "status": "completed"
    },
    "tags": []
   },
   "outputs": [],
   "source": [
    "training_xdata = X_train\n",
    "testing_xdata = X_test\n",
    "training_ydata = y_train.reshape(-1,1)\n",
    "testing_ydata = y_test.reshape(-1,1)"
   ]
  },
  {
   "cell_type": "markdown",
   "metadata": {
    "papermill": {
     "duration": 0.536532,
     "end_time": "2020-10-07T20:04:23.324332",
     "exception": false,
     "start_time": "2020-10-07T20:04:22.787800",
     "status": "completed"
    },
    "tags": []
   },
   "source": [
    "### Running Models with the Training data\n",
    "Details about the network layers:\n",
    "- A first affine layer has 784 inputs and does 100 affine transforms. These are followed by a Relu\n",
    "- A second affine layer has 100 inputs from the 100 activations of the past layer, and does 100 affine transforms. These are followed by a Relu\n",
    "- A third affine layer has 100 activations and does 2 affine transformations to create an embedding for visualization. There is no non-linearity here.\n",
    "- A final \"logistic regression\" which has an affine transform from 2 inputs to 1 output, which is squeezed through a sigmoid.\n",
    "\n",
    "Help taken from Anshuman's Notebook."
   ]
  },
  {
   "cell_type": "code",
   "execution_count": 18,
   "metadata": {
    "execution": {
     "iopub.execute_input": "2020-10-07T20:04:24.241675Z",
     "iopub.status.busy": "2020-10-07T20:04:24.240760Z",
     "iopub.status.idle": "2020-10-07T20:04:24.254001Z",
     "shell.execute_reply": "2020-10-07T20:04:24.253578Z"
    },
    "papermill": {
     "duration": 0.475484,
     "end_time": "2020-10-07T20:04:24.254128",
     "exception": false,
     "start_time": "2020-10-07T20:04:23.778644",
     "status": "completed"
    },
    "tags": []
   },
   "outputs": [],
   "source": [
    "# layers for the Neural Network\n",
    "layers = [Affine(\"first\", 784, 100), Relu(\"first\"), Affine(\"second\", 100, 100), Relu(\"second\"), Affine(\"third\", 100, 2), Affine(\"final\", 2, 1), Sigmoid(\"final\")]\n",
    "model_nn = Model(layers)\n",
    "\n",
    "# layers for the Logistic Regression\n",
    "layers_lr = [Affine(\"logits\", 784, 1), Sigmoid(\"sigmoid\")]\n",
    "model_lr = Model(layers_lr)"
   ]
  },
  {
   "cell_type": "code",
   "execution_count": 19,
   "metadata": {
    "execution": {
     "iopub.execute_input": "2020-10-07T20:04:24.323869Z",
     "iopub.status.busy": "2020-10-07T20:04:24.321956Z",
     "iopub.status.idle": "2020-10-07T20:04:24.326284Z",
     "shell.execute_reply": "2020-10-07T20:04:24.325771Z"
    },
    "papermill": {
     "duration": 0.046562,
     "end_time": "2020-10-07T20:04:24.326402",
     "exception": false,
     "start_time": "2020-10-07T20:04:24.279840",
     "status": "completed"
    },
    "tags": []
   },
   "outputs": [],
   "source": [
    "# suffix _nn stands for Neural Network.\n",
    "learner_nn = Learner(loss, model_nn, opt, config.num_epochs)\n",
    "acc_nn = ClfCallback(learner_nn, config.bs, training_xdata , testing_xdata, training_ydata, testing_ydata)\n",
    "learner_nn.set_callbacks([acc_nn])"
   ]
  },
  {
   "cell_type": "code",
   "execution_count": 20,
   "metadata": {
    "execution": {
     "iopub.execute_input": "2020-10-07T20:04:24.386728Z",
     "iopub.status.busy": "2020-10-07T20:04:24.386222Z",
     "iopub.status.idle": "2020-10-07T20:05:44.045926Z",
     "shell.execute_reply": "2020-10-07T20:05:44.046414Z"
    },
    "papermill": {
     "duration": 79.69469,
     "end_time": "2020-10-07T20:05:44.046567",
     "exception": false,
     "start_time": "2020-10-07T20:04:24.351877",
     "status": "completed"
    },
    "tags": []
   },
   "outputs": [
    {
     "name": "stdout",
     "output_type": "stream",
     "text": [
      "====== Neural Network ======\n"
     ]
    },
    {
     "name": "stdout",
     "output_type": "stream",
     "text": [
      "Epoch 0, Loss 0.2417\n",
      "Training Accuracy: 0.6764, Testing Accuracy: 0.6759\n",
      "\n"
     ]
    },
    {
     "name": "stdout",
     "output_type": "stream",
     "text": [
      "Epoch 10, Loss 0.1185\n",
      "Training Accuracy: 0.9072, Testing Accuracy: 0.9224\n",
      "\n"
     ]
    },
    {
     "name": "stdout",
     "output_type": "stream",
     "text": [
      "Epoch 20, Loss 0.064\n",
      "Training Accuracy: 0.9361, Testing Accuracy: 0.9481\n",
      "\n"
     ]
    },
    {
     "name": "stdout",
     "output_type": "stream",
     "text": [
      "Epoch 30, Loss 0.0475\n",
      "Training Accuracy: 0.9483, Testing Accuracy: 0.9607\n",
      "\n"
     ]
    },
    {
     "name": "stdout",
     "output_type": "stream",
     "text": [
      "Epoch 40, Loss 0.0401\n",
      "Training Accuracy: 0.9543, Testing Accuracy: 0.9647\n",
      "\n"
     ]
    },
    {
     "name": "stdout",
     "output_type": "stream",
     "text": [
      "Epoch 50, Loss 0.0358\n",
      "Training Accuracy: 0.9595, Testing Accuracy: 0.9682\n",
      "\n"
     ]
    },
    {
     "name": "stdout",
     "output_type": "stream",
     "text": [
      "Epoch 60, Loss 0.033\n",
      "Training Accuracy: 0.9620, Testing Accuracy: 0.9677\n",
      "\n"
     ]
    },
    {
     "name": "stdout",
     "output_type": "stream",
     "text": [
      "Epoch 70, Loss 0.0309\n",
      "Training Accuracy: 0.9643, Testing Accuracy: 0.9672\n",
      "\n"
     ]
    },
    {
     "name": "stdout",
     "output_type": "stream",
     "text": [
      "Epoch 80, Loss 0.0293\n",
      "Training Accuracy: 0.9660, Testing Accuracy: 0.9672\n",
      "\n"
     ]
    },
    {
     "name": "stdout",
     "output_type": "stream",
     "text": [
      "Epoch 90, Loss 0.0281\n",
      "Training Accuracy: 0.9667, Testing Accuracy: 0.9688\n",
      "\n"
     ]
    },
    {
     "name": "stdout",
     "output_type": "stream",
     "text": [
      "Epoch 100, Loss 0.027\n",
      "Training Accuracy: 0.9680, Testing Accuracy: 0.9698\n",
      "\n"
     ]
    },
    {
     "name": "stdout",
     "output_type": "stream",
     "text": [
      "Epoch 110, Loss 0.0261\n",
      "Training Accuracy: 0.9696, Testing Accuracy: 0.9708\n",
      "\n"
     ]
    },
    {
     "name": "stdout",
     "output_type": "stream",
     "text": [
      "Epoch 120, Loss 0.0254\n",
      "Training Accuracy: 0.9706, Testing Accuracy: 0.9708\n",
      "\n"
     ]
    },
    {
     "name": "stdout",
     "output_type": "stream",
     "text": [
      "Epoch 130, Loss 0.0247\n",
      "Training Accuracy: 0.9711, Testing Accuracy: 0.9703\n",
      "\n"
     ]
    },
    {
     "name": "stdout",
     "output_type": "stream",
     "text": [
      "Epoch 140, Loss 0.0241\n",
      "Training Accuracy: 0.9722, Testing Accuracy: 0.9698\n",
      "\n"
     ]
    },
    {
     "name": "stdout",
     "output_type": "stream",
     "text": [
      "Epoch 150, Loss 0.0235\n",
      "Training Accuracy: 0.9730, Testing Accuracy: 0.9708\n",
      "\n"
     ]
    },
    {
     "name": "stdout",
     "output_type": "stream",
     "text": [
      "Epoch 160, Loss 0.023\n",
      "Training Accuracy: 0.9735, Testing Accuracy: 0.9703\n",
      "\n"
     ]
    },
    {
     "name": "stdout",
     "output_type": "stream",
     "text": [
      "Epoch 170, Loss 0.0225\n",
      "Training Accuracy: 0.9744, Testing Accuracy: 0.9713\n",
      "\n"
     ]
    },
    {
     "name": "stdout",
     "output_type": "stream",
     "text": [
      "Epoch 180, Loss 0.022\n",
      "Training Accuracy: 0.9750, Testing Accuracy: 0.9718\n",
      "\n"
     ]
    },
    {
     "name": "stdout",
     "output_type": "stream",
     "text": [
      "Epoch 190, Loss 0.0216\n",
      "Training Accuracy: 0.9754, Testing Accuracy: 0.9713\n",
      "\n"
     ]
    },
    {
     "name": "stdout",
     "output_type": "stream",
     "text": [
      "Epoch 200, Loss 0.0212\n",
      "Training Accuracy: 0.9760, Testing Accuracy: 0.9713\n",
      "\n"
     ]
    },
    {
     "name": "stdout",
     "output_type": "stream",
     "text": [
      "Epoch 210, Loss 0.0208\n",
      "Training Accuracy: 0.9759, Testing Accuracy: 0.9713\n",
      "\n"
     ]
    },
    {
     "name": "stdout",
     "output_type": "stream",
     "text": [
      "Epoch 220, Loss 0.0205\n",
      "Training Accuracy: 0.9766, Testing Accuracy: 0.9713\n",
      "\n"
     ]
    },
    {
     "name": "stdout",
     "output_type": "stream",
     "text": [
      "Epoch 230, Loss 0.0201\n",
      "Training Accuracy: 0.9768, Testing Accuracy: 0.9713\n",
      "\n"
     ]
    },
    {
     "name": "stdout",
     "output_type": "stream",
     "text": [
      "Epoch 240, Loss 0.0198\n",
      "Training Accuracy: 0.9771, Testing Accuracy: 0.9713\n",
      "\n"
     ]
    },
    {
     "name": "stdout",
     "output_type": "stream",
     "text": [
      "Epoch 250, Loss 0.0194\n",
      "Training Accuracy: 0.9775, Testing Accuracy: 0.9713\n",
      "\n"
     ]
    },
    {
     "data": {
      "text/plain": [
       "0.029237264023421333"
      ]
     },
     "execution_count": 20,
     "metadata": {},
     "output_type": "execute_result"
    }
   ],
   "source": [
    "print(\"====== Neural Network ======\")\n",
    "learner_nn.train_loop(dl)"
   ]
  },
  {
   "cell_type": "markdown",
   "metadata": {
    "papermill": {
     "duration": 0.032838,
     "end_time": "2020-10-07T20:05:44.112726",
     "exception": false,
     "start_time": "2020-10-07T20:05:44.079888",
     "status": "completed"
    },
    "tags": []
   },
   "source": [
    "### Logistic Regression based Implementation."
   ]
  },
  {
   "cell_type": "code",
   "execution_count": 21,
   "metadata": {
    "execution": {
     "iopub.execute_input": "2020-10-07T20:05:44.183774Z",
     "iopub.status.busy": "2020-10-07T20:05:44.183233Z",
     "iopub.status.idle": "2020-10-07T20:05:44.194892Z",
     "shell.execute_reply": "2020-10-07T20:05:44.195314Z"
    },
    "papermill": {
     "duration": 0.050135,
     "end_time": "2020-10-07T20:05:44.195452",
     "exception": false,
     "start_time": "2020-10-07T20:05:44.145317",
     "status": "completed"
    },
    "tags": []
   },
   "outputs": [],
   "source": [
    "learner_lr = Learner(loss, model_lr, opt, config.num_epochs)\n",
    "acc_lr = ClfCallback(learner_lr, config.bs, training_xdata , testing_xdata, training_ydata, testing_ydata)\n",
    "learner_lr.set_callbacks([acc_lr])"
   ]
  },
  {
   "cell_type": "code",
   "execution_count": 22,
   "metadata": {
    "execution": {
     "iopub.execute_input": "2020-10-07T20:05:44.265398Z",
     "iopub.status.busy": "2020-10-07T20:05:44.264834Z",
     "iopub.status.idle": "2020-10-07T20:06:00.462366Z",
     "shell.execute_reply": "2020-10-07T20:06:00.462810Z"
    },
    "papermill": {
     "duration": 16.234754,
     "end_time": "2020-10-07T20:06:00.462967",
     "exception": false,
     "start_time": "2020-10-07T20:05:44.228213",
     "status": "completed"
    },
    "tags": []
   },
   "outputs": [
    {
     "name": "stdout",
     "output_type": "stream",
     "text": [
      "====== Logistic Regression ======\n",
      "Epoch 0, Loss 0.2499\n",
      "Training Accuracy: 0.6486, Testing Accuracy: 0.6472\n",
      "\n"
     ]
    },
    {
     "name": "stdout",
     "output_type": "stream",
     "text": [
      "Epoch 10, Loss 0.1042\n",
      "Training Accuracy: 0.9088, Testing Accuracy: 0.9234\n",
      "\n"
     ]
    },
    {
     "name": "stdout",
     "output_type": "stream",
     "text": [
      "Epoch 20, Loss 0.0792\n",
      "Training Accuracy: 0.9284, Testing Accuracy: 0.9425\n",
      "\n"
     ]
    },
    {
     "name": "stdout",
     "output_type": "stream",
     "text": [
      "Epoch 30, Loss 0.068\n",
      "Training Accuracy: 0.9369, Testing Accuracy: 0.9501\n",
      "\n"
     ]
    },
    {
     "name": "stdout",
     "output_type": "stream",
     "text": [
      "Epoch 40, Loss 0.0614\n",
      "Training Accuracy: 0.9417, Testing Accuracy: 0.9551\n",
      "\n"
     ]
    },
    {
     "name": "stdout",
     "output_type": "stream",
     "text": [
      "Epoch 50, Loss 0.0569\n",
      "Training Accuracy: 0.9454, Testing Accuracy: 0.9582\n",
      "\n"
     ]
    },
    {
     "name": "stdout",
     "output_type": "stream",
     "text": [
      "Epoch 60, Loss 0.0536\n",
      "Training Accuracy: 0.9488, Testing Accuracy: 0.9602\n",
      "\n"
     ]
    },
    {
     "name": "stdout",
     "output_type": "stream",
     "text": [
      "Epoch 70, Loss 0.051\n",
      "Training Accuracy: 0.9510, Testing Accuracy: 0.9612\n",
      "\n"
     ]
    },
    {
     "name": "stdout",
     "output_type": "stream",
     "text": [
      "Epoch 80, Loss 0.049\n",
      "Training Accuracy: 0.9526, Testing Accuracy: 0.9632\n",
      "\n"
     ]
    },
    {
     "name": "stdout",
     "output_type": "stream",
     "text": [
      "Epoch 90, Loss 0.0473\n",
      "Training Accuracy: 0.9539, Testing Accuracy: 0.9647\n",
      "\n"
     ]
    },
    {
     "name": "stdout",
     "output_type": "stream",
     "text": [
      "Epoch 100, Loss 0.0459\n",
      "Training Accuracy: 0.9548, Testing Accuracy: 0.9642\n",
      "\n"
     ]
    },
    {
     "name": "stdout",
     "output_type": "stream",
     "text": [
      "Epoch 110, Loss 0.0447\n",
      "Training Accuracy: 0.9555, Testing Accuracy: 0.9647\n",
      "\n"
     ]
    },
    {
     "name": "stdout",
     "output_type": "stream",
     "text": [
      "Epoch 120, Loss 0.0437\n",
      "Training Accuracy: 0.9560, Testing Accuracy: 0.9652\n",
      "\n"
     ]
    },
    {
     "name": "stdout",
     "output_type": "stream",
     "text": [
      "Epoch 130, Loss 0.0428\n",
      "Training Accuracy: 0.9569, Testing Accuracy: 0.9657\n",
      "\n"
     ]
    },
    {
     "name": "stdout",
     "output_type": "stream",
     "text": [
      "Epoch 140, Loss 0.0419\n",
      "Training Accuracy: 0.9576, Testing Accuracy: 0.9657\n",
      "\n"
     ]
    },
    {
     "name": "stdout",
     "output_type": "stream",
     "text": [
      "Epoch 150, Loss 0.0412\n",
      "Training Accuracy: 0.9582, Testing Accuracy: 0.9662\n",
      "\n"
     ]
    },
    {
     "name": "stdout",
     "output_type": "stream",
     "text": [
      "Epoch 160, Loss 0.0405\n",
      "Training Accuracy: 0.9587, Testing Accuracy: 0.9662\n",
      "\n"
     ]
    },
    {
     "name": "stdout",
     "output_type": "stream",
     "text": [
      "Epoch 170, Loss 0.0399\n",
      "Training Accuracy: 0.9589, Testing Accuracy: 0.9662\n",
      "\n"
     ]
    },
    {
     "name": "stdout",
     "output_type": "stream",
     "text": [
      "Epoch 180, Loss 0.0394\n",
      "Training Accuracy: 0.9592, Testing Accuracy: 0.9667\n",
      "\n"
     ]
    },
    {
     "name": "stdout",
     "output_type": "stream",
     "text": [
      "Epoch 190, Loss 0.0389\n",
      "Training Accuracy: 0.9598, Testing Accuracy: 0.9667\n",
      "\n"
     ]
    },
    {
     "name": "stdout",
     "output_type": "stream",
     "text": [
      "Epoch 200, Loss 0.0384\n",
      "Training Accuracy: 0.9604, Testing Accuracy: 0.9662\n",
      "\n"
     ]
    },
    {
     "name": "stdout",
     "output_type": "stream",
     "text": [
      "Epoch 210, Loss 0.038\n",
      "Training Accuracy: 0.9609, Testing Accuracy: 0.9662\n",
      "\n"
     ]
    },
    {
     "name": "stdout",
     "output_type": "stream",
     "text": [
      "Epoch 220, Loss 0.0376\n",
      "Training Accuracy: 0.9609, Testing Accuracy: 0.9667\n",
      "\n"
     ]
    },
    {
     "name": "stdout",
     "output_type": "stream",
     "text": [
      "Epoch 230, Loss 0.0372\n",
      "Training Accuracy: 0.9614, Testing Accuracy: 0.9667\n",
      "\n"
     ]
    },
    {
     "name": "stdout",
     "output_type": "stream",
     "text": [
      "Epoch 240, Loss 0.0368\n",
      "Training Accuracy: 0.9619, Testing Accuracy: 0.9672\n",
      "\n"
     ]
    },
    {
     "name": "stdout",
     "output_type": "stream",
     "text": [
      "Epoch 250, Loss 0.0365\n",
      "Training Accuracy: 0.9622, Testing Accuracy: 0.9677\n",
      "\n"
     ]
    },
    {
     "data": {
      "text/plain": [
       "0.011502325887336715"
      ]
     },
     "execution_count": 22,
     "metadata": {},
     "output_type": "execute_result"
    }
   ],
   "source": [
    "print(\"====== Logistic Regression ======\")\n",
    "learner_lr.train_loop(dl)"
   ]
  },
  {
   "cell_type": "markdown",
   "metadata": {
    "papermill": {
     "duration": 0.039446,
     "end_time": "2020-10-07T20:06:00.543360",
     "exception": false,
     "start_time": "2020-10-07T20:06:00.503914",
     "status": "completed"
    },
    "tags": []
   },
   "source": [
    "### Comparing results of NN and LR"
   ]
  },
  {
   "cell_type": "code",
   "execution_count": 23,
   "metadata": {
    "execution": {
     "iopub.execute_input": "2020-10-07T20:06:00.656231Z",
     "iopub.status.busy": "2020-10-07T20:06:00.640338Z",
     "iopub.status.idle": "2020-10-07T20:06:00.846994Z",
     "shell.execute_reply": "2020-10-07T20:06:00.846532Z"
    },
    "papermill": {
     "duration": 0.264287,
     "end_time": "2020-10-07T20:06:00.847127",
     "exception": false,
     "start_time": "2020-10-07T20:06:00.582840",
     "status": "completed"
    },
    "tags": []
   },
   "outputs": [
    {
     "data": {
      "text/plain": [
       "<matplotlib.legend.Legend at 0x7f3b32121128>"
      ]
     },
     "execution_count": 23,
     "metadata": {},
     "output_type": "execute_result"
    },
    {
     "data": {
      "image/png": "[encoded data removed]",
      "text/plain": [
       "<Figure size 1080x720 with 1 Axes>"
      ]
     },
     "metadata": {
      "needs_background": "light"
     },
     "output_type": "display_data"
    }
   ],
   "source": [
    "plt.figure(figsize=(15,10))\n",
    "\n",
    "# Neural Network plots\n",
    "plt.plot(acc_nn.accuracies, 'r-', label = \"Training Accuracies - NN\")\n",
    "plt.plot(acc_nn.test_accuracies, 'g-', label = \"Testing Accuracies - NN\")\n",
    "\n",
    "# Logistic Regression plots\n",
    "plt.plot(acc_lr.accuracies, 'k-', label = \"Training Accuracies - LR\")\n",
    "plt.plot(acc_lr.test_accuracies, 'b-', label = \"Testing Accuracies - LR\")\n",
    "\n",
    "plt.ylim(0.8, 1)\n",
    "\n",
    "plt.legend()\n",
    "\n"
   ]
  },
  {
   "cell_type": "markdown",
   "metadata": {
    "papermill": {
     "duration": 0.041142,
     "end_time": "2020-10-07T20:06:00.929834",
     "exception": false,
     "start_time": "2020-10-07T20:06:00.888692",
     "status": "completed"
    },
    "tags": []
   },
   "source": [
    "### From the plot, we can observe the following:\n",
    "- Neural Network achieves higher accuracy than the Logistic Regression model.\n",
    "- This apparently, is because of overfitting, i.e. NN captures more noise than data.\n",
    "- Testing accuracy of NN drops below the Training accuracy at higher epochs. This explains the over-fitting on training data.\n",
    "- Logistic Regression gives a reliable accuracy, without the above mentioned problem.\n"
   ]
  },
  {
   "cell_type": "markdown",
   "metadata": {
    "papermill": {
     "duration": 0.041188,
     "end_time": "2020-10-07T20:06:01.012231",
     "exception": false,
     "start_time": "2020-10-07T20:06:00.971043",
     "status": "completed"
    },
    "tags": []
   },
   "source": [
    "### Moving till the last but one layer (excluding it).\n",
    "#### Plotting the outputs of this layer of the NN."
   ]
  },
  {
   "cell_type": "code",
   "execution_count": 24,
   "metadata": {
    "execution": {
     "iopub.execute_input": "2020-10-07T20:06:01.110776Z",
     "iopub.status.busy": "2020-10-07T20:06:01.110030Z",
     "iopub.status.idle": "2020-10-07T20:06:01.116144Z",
     "shell.execute_reply": "2020-10-07T20:06:01.116546Z"
    },
    "papermill": {
     "duration": 0.063135,
     "end_time": "2020-10-07T20:06:01.116687",
     "exception": false,
     "start_time": "2020-10-07T20:06:01.053552",
     "status": "completed"
    },
    "tags": []
   },
   "outputs": [],
   "source": [
    "model_new = Model(layers[:-2])"
   ]
  },
  {
   "cell_type": "code",
   "execution_count": 25,
   "metadata": {
    "execution": {
     "iopub.execute_input": "2020-10-07T20:06:01.206026Z",
     "iopub.status.busy": "2020-10-07T20:06:01.202247Z",
     "iopub.status.idle": "2020-10-07T20:06:01.223210Z",
     "shell.execute_reply": "2020-10-07T20:06:01.223634Z"
    },
    "papermill": {
     "duration": 0.06567,
     "end_time": "2020-10-07T20:06:01.223785",
     "exception": false,
     "start_time": "2020-10-07T20:06:01.158115",
     "status": "completed"
    },
    "tags": []
   },
   "outputs": [],
   "source": [
    "plot_testing = model_new(testing_xdata)"
   ]
  },
  {
   "cell_type": "code",
   "execution_count": 26,
   "metadata": {
    "execution": {
     "iopub.execute_input": "2020-10-07T20:06:01.312590Z",
     "iopub.status.busy": "2020-10-07T20:06:01.312076Z",
     "iopub.status.idle": "2020-10-07T20:06:01.508041Z",
     "shell.execute_reply": "2020-10-07T20:06:01.508428Z"
    },
    "papermill": {
     "duration": 0.242682,
     "end_time": "2020-10-07T20:06:01.508586",
     "exception": false,
     "start_time": "2020-10-07T20:06:01.265904",
     "status": "completed"
    },
    "tags": []
   },
   "outputs": [
    {
     "data": {
      "text/plain": [
       "Text(0.5, 1.0, 'Outputs')"
      ]
     },
     "execution_count": 26,
     "metadata": {},
     "output_type": "execute_result"
    },
    {
     "data": {
      "image/png": "[encoded data removed]",
      "text/plain": [
       "<Figure size 576x504 with 1 Axes>"
      ]
     },
     "metadata": {
      "needs_background": "light"
     },
     "output_type": "display_data"
    }
   ],
   "source": [
    "plt.figure(figsize=(8,7))\n",
    "plt.scatter(plot_testing[:,0], plot_testing[:,1], alpha = 0.1, c = y_test.ravel());\n",
    "plt.title('Outputs')"
   ]
  },
  {
   "cell_type": "markdown",
   "metadata": {
    "papermill": {
     "duration": 0.043186,
     "end_time": "2020-10-07T20:06:01.595376",
     "exception": false,
     "start_time": "2020-10-07T20:06:01.552190",
     "status": "completed"
    },
    "tags": []
   },
   "source": [
    "### Plotting probability contours"
   ]
  },
  {
   "cell_type": "code",
   "execution_count": 27,
   "metadata": {
    "execution": {
     "iopub.execute_input": "2020-10-07T20:06:01.701538Z",
     "iopub.status.busy": "2020-10-07T20:06:01.700928Z",
     "iopub.status.idle": "2020-10-07T20:06:01.705095Z",
     "shell.execute_reply": "2020-10-07T20:06:01.705522Z"
    },
    "papermill": {
     "duration": 0.067156,
     "end_time": "2020-10-07T20:06:01.705681",
     "exception": false,
     "start_time": "2020-10-07T20:06:01.638525",
     "status": "completed"
    },
    "tags": []
   },
   "outputs": [],
   "source": [
    "model_prob = Model(layers[-2:]) "
   ]
  },
  {
   "cell_type": "code",
   "execution_count": 28,
   "metadata": {
    "execution": {
     "iopub.execute_input": "2020-10-07T20:06:01.807436Z",
     "iopub.status.busy": "2020-10-07T20:06:01.806883Z",
     "iopub.status.idle": "2020-10-07T20:06:01.813933Z",
     "shell.execute_reply": "2020-10-07T20:06:01.813407Z"
    },
    "papermill": {
     "duration": 0.064943,
     "end_time": "2020-10-07T20:06:01.814060",
     "exception": false,
     "start_time": "2020-10-07T20:06:01.749117",
     "status": "completed"
    },
    "tags": []
   },
   "outputs": [],
   "source": [
    "# Adjust the x and y ranges according to the above generated plot.\n",
    "x_range = np.linspace(-4, 1, 100) \n",
    "y_range = np.linspace(-6, 6, 100) \n",
    "x_grid, y_grid = np.meshgrid(x_range, y_range) # x_grid and y_grig are of size 100 X 100\n",
    "\n",
    "# converting x_grid and y_grid to continuous arrays\n",
    "x_grid_flat = np.ravel(x_grid)\n",
    "y_grid_flat = np.ravel(y_grid)\n",
    "\n",
    "# The last layer of the current model takes two columns as input. Hence transpose of np.vstack() is required.\n",
    "X = np.vstack((x_grid_flat, y_grid_flat)).T\n",
    "\n",
    "# x_grid and y_grid are of size 100 x 100\n",
    "probability_contour = model_prob(X).reshape(100,100) "
   ]
  },
  {
   "cell_type": "code",
   "execution_count": 29,
   "metadata": {
    "execution": {
     "iopub.execute_input": "2020-10-07T20:06:01.914590Z",
     "iopub.status.busy": "2020-10-07T20:06:01.914067Z",
     "iopub.status.idle": "2020-10-07T20:06:02.152267Z",
     "shell.execute_reply": "2020-10-07T20:06:02.151836Z"
    },
    "papermill": {
     "duration": 0.294721,
     "end_time": "2020-10-07T20:06:02.152422",
     "exception": false,
     "start_time": "2020-10-07T20:06:01.857701",
     "status": "completed"
    },
    "tags": []
   },
   "outputs": [
    {
     "data": {
      "image/png": "[encoded data removed]",
      "text/plain": [
       "<Figure size 720x648 with 1 Axes>"
      ]
     },
     "metadata": {
      "needs_background": "light"
     },
     "output_type": "display_data"
    }
   ],
   "source": [
    "plt.figure(figsize=(10,9))\n",
    "plt.scatter(plot_testing[:,0], plot_testing[:,1], alpha = 0.1, c = y_test.ravel())\n",
    "contours = plt.contour(x_grid,y_grid,probability_contour)\n",
    "plt.title('Probability Contours')\n",
    "plt.clabel(contours, inline = True );"
   ]
  }
 ],
 "metadata": {
  "kernelspec": {
   "display_name": "Python 3",
   "language": "python",
   "name": "python3"
  },
  "language_info": {
   "codemirror_mode": {
    "name": "ipython",
    "version": 3
   },
   "file_extension": ".py",
   "mimetype": "text/x-python",
   "name": "python",
   "nbconvert_exporter": "python",
   "pygments_lexer": "ipython3",
   "version": "3.6.12"
  },
  "papermill": {
   "duration": 107.304747,
   "end_time": "2020-10-07T20:06:02.607342",
   "environment_variables": {},
   "exception": null,
   "input_path": "2020-08-11-NeuralNetwork.ipynb",
   "output_path": "2020-08-11-NeuralNetwork.ipynb",
   "parameters": {},
   "start_time": "2020-10-07T20:04:15.302595",
   "version": "2.1.2"
  }
 },
 "nbformat": 4,
 "nbformat_minor": 4
}