{
 "cells": [
  {
   "cell_type": "markdown",
   "metadata": {
    "papermill": {
     "duration": 0.035503,
     "end_time": "2020-10-29T00:07:39.838495",
     "exception": false,
     "start_time": "2020-10-29T00:07:39.802992",
     "status": "completed"
    },
    "tags": []
   },
   "source": [
    "# \"A Basic Neural Network: Differentiate Hand-Written Digits\"\n",
    "\n",
    "- badges: true\n",
    "- author: Akshith Sriram"
   ]
  },
  {
   "cell_type": "markdown",
   "metadata": {
    "papermill": {
     "duration": 0.027211,
     "end_time": "2020-10-29T00:07:39.893376",
     "exception": false,
     "start_time": "2020-10-29T00:07:39.866165",
     "status": "completed"
    },
    "tags": []
   },
   "source": [
    "### Key Objectives:\n",
    "- Building a neural network that differentiates two hand-written digits 3 and 8.\n",
    "- Comparing the results of this Neural Network (NN) to that of a Logistic Regression (LR) model.\n",
    "\n",
    "### Requirements:\n",
    "- 'Kudzu' : A neural network library that was designed during our course by [Univ.AI](www.univ.ai). \n",
    "- MNIST Database\n",
    "\n",
    "If MNIST is not installed, use the command `!pip install mnist` given below.\n",
    "It can be run both from the command line and Jupyter Notebook."
   ]
  },
  {
   "cell_type": "code",
   "execution_count": 1,
   "metadata": {
    "execution": {
     "iopub.execute_input": "2020-10-29T00:07:39.955006Z",
     "iopub.status.busy": "2020-10-29T00:07:39.954297Z",
     "iopub.status.idle": "2020-10-29T00:07:41.634041Z",
     "shell.execute_reply": "2020-10-29T00:07:41.633365Z"
    },
    "papermill": {
     "duration": 1.71389,
     "end_time": "2020-10-29T00:07:41.634230",
     "exception": false,
     "start_time": "2020-10-29T00:07:39.920340",
     "status": "completed"
    },
    "tags": []
   },
   "outputs": [
    {
     "name": "stdout",
     "output_type": "stream",
     "text": [
      "Collecting mnist\r\n"
     ]
    },
    {
     "name": "stdout",
     "output_type": "stream",
     "text": [
      "  Downloading mnist-0.2.2-py2.py3-none-any.whl (3.5 kB)\r\n",
      "Requirement already satisfied: numpy in /opt/hostedtoolcache/Python/3.6.12/x64/lib/python3.6/site-packages (from mnist) (1.19.2)\r\n"
     ]
    },
    {
     "name": "stdout",
     "output_type": "stream",
     "text": [
      "Installing collected packages: mnist\r\n"
     ]
    },
    {
     "name": "stdout",
     "output_type": "stream",
     "text": [
      "Successfully installed mnist-0.2.2\r\n"
     ]
    },
    {
     "name": "stdout",
     "output_type": "stream",
     "text": [
      "\u001b[33mWARNING: You are using pip version 20.2.3; however, version 20.2.4 is available.\r\n",
      "You should consider upgrading via the '/opt/hostedtoolcache/Python/3.6.12/x64/bin/python -m pip install --upgrade pip' command.\u001b[0m\r\n"
     ]
    }
   ],
   "source": [
    "!pip install mnist "
   ]
  },
  {
   "cell_type": "markdown",
   "metadata": {
    "papermill": {
     "duration": 0.031858,
     "end_time": "2020-10-29T00:07:41.698343",
     "exception": false,
     "start_time": "2020-10-29T00:07:41.666485",
     "status": "completed"
    },
    "tags": []
   },
   "source": [
    "#### Importing necessary libraries"
   ]
  },
  {
   "cell_type": "code",
   "execution_count": 2,
   "metadata": {
    "execution": {
     "iopub.execute_input": "2020-10-29T00:07:41.773552Z",
     "iopub.status.busy": "2020-10-29T00:07:41.772804Z",
     "iopub.status.idle": "2020-10-29T00:07:42.361739Z",
     "shell.execute_reply": "2020-10-29T00:07:42.360992Z"
    },
    "papermill": {
     "duration": 0.62866,
     "end_time": "2020-10-29T00:07:42.361918",
     "exception": false,
     "start_time": "2020-10-29T00:07:41.733258",
     "status": "completed"
    },
    "tags": []
   },
   "outputs": [],
   "source": [
    "%load_ext autoreload\n",
    "%autoreload 2\n",
    "\n",
    "%matplotlib inline\n",
    "import matplotlib.pyplot as plt\n",
    "\n",
    "import numpy as np\n",
    "import pandas as pd"
   ]
  },
  {
   "cell_type": "markdown",
   "metadata": {
    "papermill": {
     "duration": 0.033029,
     "end_time": "2020-10-29T00:07:42.429869",
     "exception": false,
     "start_time": "2020-10-29T00:07:42.396840",
     "status": "completed"
    },
    "tags": []
   },
   "source": [
    "### Preparing the Data"
   ]
  },
  {
   "cell_type": "code",
   "execution_count": 3,
   "metadata": {
    "execution": {
     "iopub.execute_input": "2020-10-29T00:07:42.510538Z",
     "iopub.status.busy": "2020-10-29T00:07:42.509826Z",
     "iopub.status.idle": "2020-10-29T00:07:42.520631Z",
     "shell.execute_reply": "2020-10-29T00:07:42.520013Z"
    },
    "papermill": {
     "duration": 0.059393,
     "end_time": "2020-10-29T00:07:42.520783",
     "exception": false,
     "start_time": "2020-10-29T00:07:42.461390",
     "status": "completed"
    },
    "tags": []
   },
   "outputs": [],
   "source": [
    "import mnist"
   ]
  },
  {
   "cell_type": "code",
   "execution_count": 4,
   "metadata": {
    "execution": {
     "iopub.execute_input": "2020-10-29T00:07:42.600424Z",
     "iopub.status.busy": "2020-10-29T00:07:42.599715Z",
     "iopub.status.idle": "2020-10-29T00:07:44.283415Z",
     "shell.execute_reply": "2020-10-29T00:07:44.284052Z"
    },
    "papermill": {
     "duration": 1.730889,
     "end_time": "2020-10-29T00:07:44.284276",
     "exception": false,
     "start_time": "2020-10-29T00:07:42.553387",
     "status": "completed"
    },
    "tags": []
   },
   "outputs": [],
   "source": [
    "train_images = mnist.train_images()\n",
    "train_labels = mnist.train_labels()"
   ]
  },
  {
   "cell_type": "code",
   "execution_count": 5,
   "metadata": {
    "execution": {
     "iopub.execute_input": "2020-10-29T00:07:44.356871Z",
     "iopub.status.busy": "2020-10-29T00:07:44.355904Z",
     "iopub.status.idle": "2020-10-29T00:07:44.371483Z",
     "shell.execute_reply": "2020-10-29T00:07:44.372041Z"
    },
    "papermill": {
     "duration": 0.054681,
     "end_time": "2020-10-29T00:07:44.372214",
     "exception": false,
     "start_time": "2020-10-29T00:07:44.317533",
     "status": "completed"
    },
    "tags": []
   },
   "outputs": [
    {
     "data": {
      "text/plain": [
       "((60000, 28, 28), (60000,))"
      ]
     },
     "execution_count": 5,
     "metadata": {},
     "output_type": "execute_result"
    }
   ],
   "source": [
    "train_images.shape, train_labels.shape"
   ]
  },
  {
   "cell_type": "code",
   "execution_count": 6,
   "metadata": {
    "execution": {
     "iopub.execute_input": "2020-10-29T00:07:44.441317Z",
     "iopub.status.busy": "2020-10-29T00:07:44.440608Z",
     "iopub.status.idle": "2020-10-29T00:07:46.799036Z",
     "shell.execute_reply": "2020-10-29T00:07:46.797742Z"
    },
    "papermill": {
     "duration": 2.394709,
     "end_time": "2020-10-29T00:07:46.799207",
     "exception": false,
     "start_time": "2020-10-29T00:07:44.404498",
     "status": "completed"
    },
    "tags": []
   },
   "outputs": [],
   "source": [
    "test_images = mnist.test_images()\n",
    "test_labels = mnist.test_labels()"
   ]
  },
  {
   "cell_type": "code",
   "execution_count": 7,
   "metadata": {
    "execution": {
     "iopub.execute_input": "2020-10-29T00:07:46.878543Z",
     "iopub.status.busy": "2020-10-29T00:07:46.869091Z",
     "iopub.status.idle": "2020-10-29T00:07:46.886222Z",
     "shell.execute_reply": "2020-10-29T00:07:46.885604Z"
    },
    "papermill": {
     "duration": 0.053553,
     "end_time": "2020-10-29T00:07:46.886374",
     "exception": false,
     "start_time": "2020-10-29T00:07:46.832821",
     "status": "completed"
    },
    "tags": []
   },
   "outputs": [
    {
     "data": {
      "text/plain": [
       "((10000, 28, 28), (10000,))"
      ]
     },
     "execution_count": 7,
     "metadata": {},
     "output_type": "execute_result"
    }
   ],
   "source": [
    "test_images.shape, test_labels.shape"
   ]
  },
  {
   "cell_type": "code",
   "execution_count": 8,
   "metadata": {
    "execution": {
     "iopub.execute_input": "2020-10-29T00:07:46.963691Z",
     "iopub.status.busy": "2020-10-29T00:07:46.956178Z",
     "iopub.status.idle": "2020-10-29T00:07:47.140231Z",
     "shell.execute_reply": "2020-10-29T00:07:47.139653Z"
    },
    "papermill": {
     "duration": 0.221984,
     "end_time": "2020-10-29T00:07:47.140381",
     "exception": false,
     "start_time": "2020-10-29T00:07:46.918397",
     "status": "completed"
    },
    "tags": []
   },
   "outputs": [
    {
     "name": "stdout",
     "output_type": "stream",
     "text": [
      "2\n"
     ]
    },
    {
     "data": {
      "text/plain": [
       "<matplotlib.image.AxesImage at 0x7f208de7e978>"
      ]
     },
     "execution_count": 8,
     "metadata": {},
     "output_type": "execute_result"
    },
    {
     "data": {
      "image/png": "[encoded data removed]",
      "text/plain": [
       "<Figure size 432x288 with 1 Axes>"
      ]
     },
     "metadata": {
      "needs_background": "light"
     },
     "output_type": "display_data"
    }
   ],
   "source": [
    "image_index = 7776 # You may select anything up to 60,000\n",
    "print(train_labels[image_index]) \n",
    "plt.imshow(train_images[image_index], cmap='Greys')"
   ]
  },
  {
   "cell_type": "markdown",
   "metadata": {
    "papermill": {
     "duration": 0.031336,
     "end_time": "2020-10-29T00:07:47.202913",
     "exception": false,
     "start_time": "2020-10-29T00:07:47.171577",
     "status": "completed"
    },
    "tags": []
   },
   "source": [
    "## Filter data to get 3 and 8 out"
   ]
  },
  {
   "cell_type": "code",
   "execution_count": 9,
   "metadata": {
    "execution": {
     "iopub.execute_input": "2020-10-29T00:07:47.270699Z",
     "iopub.status.busy": "2020-10-29T00:07:47.270053Z",
     "iopub.status.idle": "2020-10-29T00:07:47.289936Z",
     "shell.execute_reply": "2020-10-29T00:07:47.290453Z"
    },
    "papermill": {
     "duration": 0.056189,
     "end_time": "2020-10-29T00:07:47.290630",
     "exception": false,
     "start_time": "2020-10-29T00:07:47.234441",
     "status": "completed"
    },
    "tags": []
   },
   "outputs": [],
   "source": [
    "train_filter = np.where((train_labels == 3 ) | (train_labels == 8))\n",
    "test_filter = np.where((test_labels == 3) | (test_labels == 8))\n",
    "X_train, y_train = train_images[train_filter], train_labels[train_filter]\n",
    "X_test, y_test = test_images[test_filter], test_labels[test_filter]"
   ]
  },
  {
   "cell_type": "markdown",
   "metadata": {
    "papermill": {
     "duration": 0.03096,
     "end_time": "2020-10-29T00:07:47.351923",
     "exception": false,
     "start_time": "2020-10-29T00:07:47.320963",
     "status": "completed"
    },
    "tags": []
   },
   "source": [
    "We normalize the pixel values in the 0 to 1 range"
   ]
  },
  {
   "cell_type": "code",
   "execution_count": 10,
   "metadata": {
    "execution": {
     "iopub.execute_input": "2020-10-29T00:07:47.416831Z",
     "iopub.status.busy": "2020-10-29T00:07:47.416182Z",
     "iopub.status.idle": "2020-10-29T00:07:47.482886Z",
     "shell.execute_reply": "2020-10-29T00:07:47.483409Z"
    },
    "papermill": {
     "duration": 0.100979,
     "end_time": "2020-10-29T00:07:47.483589",
     "exception": false,
     "start_time": "2020-10-29T00:07:47.382610",
     "status": "completed"
    },
    "tags": []
   },
   "outputs": [],
   "source": [
    "X_train = X_train/255.\n",
    "X_test = X_test/255."
   ]
  },
  {
   "cell_type": "markdown",
   "metadata": {
    "papermill": {
     "duration": 0.034081,
     "end_time": "2020-10-29T00:07:47.548139",
     "exception": false,
     "start_time": "2020-10-29T00:07:47.514058",
     "status": "completed"
    },
    "tags": []
   },
   "source": [
    "Setup the labels as 1 (when the digit is 3) and 0 (when the digit is 8)"
   ]
  },
  {
   "cell_type": "code",
   "execution_count": 11,
   "metadata": {
    "execution": {
     "iopub.execute_input": "2020-10-29T00:07:47.618907Z",
     "iopub.status.busy": "2020-10-29T00:07:47.618260Z",
     "iopub.status.idle": "2020-10-29T00:07:47.629614Z",
     "shell.execute_reply": "2020-10-29T00:07:47.629029Z"
    },
    "papermill": {
     "duration": 0.051733,
     "end_time": "2020-10-29T00:07:47.629752",
     "exception": false,
     "start_time": "2020-10-29T00:07:47.578019",
     "status": "completed"
    },
    "tags": []
   },
   "outputs": [],
   "source": [
    "y_train = 1*(y_train==3)\n",
    "y_test = 1*(y_test==3)"
   ]
  },
  {
   "cell_type": "code",
   "execution_count": 12,
   "metadata": {
    "execution": {
     "iopub.execute_input": "2020-10-29T00:07:47.695111Z",
     "iopub.status.busy": "2020-10-29T00:07:47.694304Z",
     "iopub.status.idle": "2020-10-29T00:07:47.708787Z",
     "shell.execute_reply": "2020-10-29T00:07:47.708080Z"
    },
    "papermill": {
     "duration": 0.049115,
     "end_time": "2020-10-29T00:07:47.708942",
     "exception": false,
     "start_time": "2020-10-29T00:07:47.659827",
     "status": "completed"
    },
    "tags": []
   },
   "outputs": [
    {
     "data": {
      "text/plain": [
       "((11982, 28, 28), (1984, 28, 28))"
      ]
     },
     "execution_count": 12,
     "metadata": {},
     "output_type": "execute_result"
    }
   ],
   "source": [
    "X_train.shape, X_test.shape"
   ]
  },
  {
   "cell_type": "markdown",
   "metadata": {
    "papermill": {
     "duration": 0.035982,
     "end_time": "2020-10-29T00:07:47.780582",
     "exception": false,
     "start_time": "2020-10-29T00:07:47.744600",
     "status": "completed"
    },
    "tags": []
   },
   "source": [
    "### Reshape the input data to create a linear array"
   ]
  },
  {
   "cell_type": "code",
   "execution_count": 13,
   "metadata": {
    "execution": {
     "iopub.execute_input": "2020-10-29T00:07:47.857381Z",
     "iopub.status.busy": "2020-10-29T00:07:47.856666Z",
     "iopub.status.idle": "2020-10-29T00:07:47.871210Z",
     "shell.execute_reply": "2020-10-29T00:07:47.871766Z"
    },
    "papermill": {
     "duration": 0.057182,
     "end_time": "2020-10-29T00:07:47.871945",
     "exception": false,
     "start_time": "2020-10-29T00:07:47.814763",
     "status": "completed"
    },
    "tags": []
   },
   "outputs": [
    {
     "data": {
      "text/plain": [
       "((11982, 784), (1984, 784))"
      ]
     },
     "execution_count": 13,
     "metadata": {},
     "output_type": "execute_result"
    }
   ],
   "source": [
    "X_train = X_train.reshape(X_train.shape[0], -1)\n",
    "X_test = X_test.reshape(X_test.shape[0], -1)\n",
    "X_train.shape, X_test.shape"
   ]
  },
  {
   "cell_type": "markdown",
   "metadata": {
    "papermill": {
     "duration": 0.034855,
     "end_time": "2020-10-29T00:07:47.941650",
     "exception": false,
     "start_time": "2020-10-29T00:07:47.906795",
     "status": "completed"
    },
    "tags": []
   },
   "source": [
    "### Importing appropriate functions from 'Kudzu'"
   ]
  },
  {
   "cell_type": "code",
   "execution_count": 14,
   "metadata": {
    "execution": {
     "iopub.execute_input": "2020-10-29T00:07:48.022851Z",
     "iopub.status.busy": "2020-10-29T00:07:48.022164Z",
     "iopub.status.idle": "2020-10-29T00:07:48.040379Z",
     "shell.execute_reply": "2020-10-29T00:07:48.040889Z"
    },
    "papermill": {
     "duration": 0.062351,
     "end_time": "2020-10-29T00:07:48.041065",
     "exception": false,
     "start_time": "2020-10-29T00:07:47.978714",
     "status": "completed"
    },
    "tags": []
   },
   "outputs": [],
   "source": [
    "from kudzu.layer import Sigmoid\n",
    "from kudzu.layer import Relu\n",
    "from kudzu.layer import Affine, Sigmoid\n",
    "\n",
    "from kudzu.model import Model\n",
    "from kudzu.train import Learner\n",
    "from kudzu.optim import GD\n",
    "from kudzu.data import Data, Dataloader, Sampler\n",
    "\n",
    "from kudzu.callbacks import AccCallback\n",
    "from kudzu.callbacks import ClfCallback\n",
    "\n",
    "from kudzu.loss import MSE"
   ]
  },
  {
   "cell_type": "markdown",
   "metadata": {
    "papermill": {
     "duration": 0.032636,
     "end_time": "2020-10-29T00:07:48.104965",
     "exception": false,
     "start_time": "2020-10-29T00:07:48.072329",
     "status": "completed"
    },
    "tags": []
   },
   "source": [
    "### Let us create a `Config` class, to store important parameters. \n",
    "This class essentially plays the role of a dictionary."
   ]
  },
  {
   "cell_type": "code",
   "execution_count": 15,
   "metadata": {
    "execution": {
     "iopub.execute_input": "2020-10-29T00:07:48.179733Z",
     "iopub.status.busy": "2020-10-29T00:07:48.179083Z",
     "iopub.status.idle": "2020-10-29T00:07:48.191210Z",
     "shell.execute_reply": "2020-10-29T00:07:48.191778Z"
    },
    "papermill": {
     "duration": 0.053543,
     "end_time": "2020-10-29T00:07:48.191944",
     "exception": false,
     "start_time": "2020-10-29T00:07:48.138401",
     "status": "completed"
    },
    "tags": []
   },
   "outputs": [],
   "source": [
    "class Config:\n",
    "    pass\n",
    "config = Config()\n",
    "config.lr = 0.001\n",
    "config.num_epochs = 251\n",
    "config.bs = 50"
   ]
  },
  {
   "cell_type": "markdown",
   "metadata": {
    "papermill": {
     "duration": 0.030943,
     "end_time": "2020-10-29T00:07:48.257362",
     "exception": false,
     "start_time": "2020-10-29T00:07:48.226419",
     "status": "completed"
    },
    "tags": []
   },
   "source": [
    "### Initializing data to the variables"
   ]
  },
  {
   "cell_type": "code",
   "execution_count": 16,
   "metadata": {
    "execution": {
     "iopub.execute_input": "2020-10-29T00:07:48.329027Z",
     "iopub.status.busy": "2020-10-29T00:07:48.328379Z",
     "iopub.status.idle": "2020-10-29T00:07:48.340255Z",
     "shell.execute_reply": "2020-10-29T00:07:48.339696Z"
    },
    "papermill": {
     "duration": 0.05134,
     "end_time": "2020-10-29T00:07:48.340397",
     "exception": false,
     "start_time": "2020-10-29T00:07:48.289057",
     "status": "completed"
    },
    "tags": []
   },
   "outputs": [],
   "source": [
    "data = Data(X_train, y_train.reshape(-1,1))\n",
    "sampler = Sampler(data, config.bs, shuffle=True)\n",
    "\n",
    "dl = Dataloader(data, sampler)\n",
    "\n",
    "opt = GD(config.lr)\n",
    "loss = MSE()"
   ]
  },
  {
   "cell_type": "code",
   "execution_count": 17,
   "metadata": {
    "execution": {
     "iopub.execute_input": "2020-10-29T00:07:48.423460Z",
     "iopub.status.busy": "2020-10-29T00:07:48.422805Z",
     "iopub.status.idle": "2020-10-29T00:07:48.435052Z",
     "shell.execute_reply": "2020-10-29T00:07:48.434459Z"
    },
    "papermill": {
     "duration": 0.061039,
     "end_time": "2020-10-29T00:07:48.435199",
     "exception": false,
     "start_time": "2020-10-29T00:07:48.374160",
     "status": "completed"
    },
    "tags": []
   },
   "outputs": [],
   "source": [
    "training_xdata = X_train\n",
    "testing_xdata = X_test\n",
    "training_ydata = y_train.reshape(-1,1)\n",
    "testing_ydata = y_test.reshape(-1,1)"
   ]
  },
  {
   "cell_type": "markdown",
   "metadata": {
    "papermill": {
     "duration": 0.032972,
     "end_time": "2020-10-29T00:07:48.499627",
     "exception": false,
     "start_time": "2020-10-29T00:07:48.466655",
     "status": "completed"
    },
    "tags": []
   },
   "source": [
    "### Running Models with the Training data\n",
    "Details about the network layers:\n",
    "- A first affine layer has 784 inputs and does 100 affine transforms. These are followed by a Relu\n",
    "- A second affine layer has 100 inputs from the 100 activations of the past layer, and does 100 affine transforms. These are followed by a Relu\n",
    "- A third affine layer has 100 activations and does 2 affine transformations to create an embedding for visualization. There is no non-linearity here.\n",
    "- A final \"logistic regression\" which has an affine transform from 2 inputs to 1 output, which is squeezed through a sigmoid.\n",
    "\n",
    "Help taken from Anshuman's Notebook."
   ]
  },
  {
   "cell_type": "code",
   "execution_count": 18,
   "metadata": {
    "execution": {
     "iopub.execute_input": "2020-10-29T00:07:48.572966Z",
     "iopub.status.busy": "2020-10-29T00:07:48.572307Z",
     "iopub.status.idle": "2020-10-29T00:07:48.590300Z",
     "shell.execute_reply": "2020-10-29T00:07:48.590865Z"
    },
    "papermill": {
     "duration": 0.059405,
     "end_time": "2020-10-29T00:07:48.591036",
     "exception": false,
     "start_time": "2020-10-29T00:07:48.531631",
     "status": "completed"
    },
    "tags": []
   },
   "outputs": [],
   "source": [
    "# layers for the Neural Network\n",
    "layers = [Affine(\"first\", 784, 100), Relu(\"first\"), Affine(\"second\", 100, 100), Relu(\"second\"), Affine(\"third\", 100, 2), Affine(\"final\", 2, 1), Sigmoid(\"final\")]\n",
    "model_nn = Model(layers)\n",
    "\n",
    "# layers for the Logistic Regression\n",
    "layers_lr = [Affine(\"logits\", 784, 1), Sigmoid(\"sigmoid\")]\n",
    "model_lr = Model(layers_lr)"
   ]
  },
  {
   "cell_type": "code",
   "execution_count": 19,
   "metadata": {
    "execution": {
     "iopub.execute_input": "2020-10-29T00:07:48.659883Z",
     "iopub.status.busy": "2020-10-29T00:07:48.659226Z",
     "iopub.status.idle": "2020-10-29T00:07:48.671370Z",
     "shell.execute_reply": "2020-10-29T00:07:48.671934Z"
    },
    "papermill": {
     "duration": 0.049676,
     "end_time": "2020-10-29T00:07:48.672093",
     "exception": false,
     "start_time": "2020-10-29T00:07:48.622417",
     "status": "completed"
    },
    "tags": []
   },
   "outputs": [],
   "source": [
    "# suffix _nn stands for Neural Network.\n",
    "learner_nn = Learner(loss, model_nn, opt, config.num_epochs)\n",
    "acc_nn = ClfCallback(learner_nn, config.bs, training_xdata , testing_xdata, training_ydata, testing_ydata)\n",
    "learner_nn.set_callbacks([acc_nn])"
   ]
  },
  {
   "cell_type": "code",
   "execution_count": 20,
   "metadata": {
    "execution": {
     "iopub.execute_input": "2020-10-29T00:07:48.757956Z",
     "iopub.status.busy": "2020-10-29T00:07:48.746407Z",
     "iopub.status.idle": "2020-10-29T00:09:55.242509Z",
     "shell.execute_reply": "2020-10-29T00:09:55.241940Z"
    },
    "papermill": {
     "duration": 126.538739,
     "end_time": "2020-10-29T00:09:55.242653",
     "exception": false,
     "start_time": "2020-10-29T00:07:48.703914",
     "status": "completed"
    },
    "tags": []
   },
   "outputs": [
    {
     "name": "stdout",
     "output_type": "stream",
     "text": [
      "====== Neural Network ======\n"
     ]
    },
    {
     "name": "stdout",
     "output_type": "stream",
     "text": [
      "Epoch 0, Loss 0.2486\n",
      "Training Accuracy: 0.5357, Testing Accuracy: 0.5272\n",
      "\n"
     ]
    },
    {
     "name": "stdout",
     "output_type": "stream",
     "text": [
      "Epoch 10, Loss 0.1588\n",
      "Training Accuracy: 0.8881, Testing Accuracy: 0.9042\n",
      "\n"
     ]
    },
    {
     "name": "stdout",
     "output_type": "stream",
     "text": [
      "Epoch 20, Loss 0.0808\n",
      "Training Accuracy: 0.9226, Testing Accuracy: 0.9385\n",
      "\n"
     ]
    },
    {
     "name": "stdout",
     "output_type": "stream",
     "text": [
      "Epoch 30, Loss 0.0561\n",
      "Training Accuracy: 0.9401, Testing Accuracy: 0.9556\n",
      "\n"
     ]
    },
    {
     "name": "stdout",
     "output_type": "stream",
     "text": [
      "Epoch 40, Loss 0.0457\n",
      "Training Accuracy: 0.9481, Testing Accuracy: 0.9637\n",
      "\n"
     ]
    },
    {
     "name": "stdout",
     "output_type": "stream",
     "text": [
      "Epoch 50, Loss 0.04\n",
      "Training Accuracy: 0.9546, Testing Accuracy: 0.9647\n",
      "\n"
     ]
    },
    {
     "name": "stdout",
     "output_type": "stream",
     "text": [
      "Epoch 60, Loss 0.0364\n",
      "Training Accuracy: 0.9582, Testing Accuracy: 0.9662\n",
      "\n"
     ]
    },
    {
     "name": "stdout",
     "output_type": "stream",
     "text": [
      "Epoch 70, Loss 0.0339\n",
      "Training Accuracy: 0.9609, Testing Accuracy: 0.9688\n",
      "\n"
     ]
    },
    {
     "name": "stdout",
     "output_type": "stream",
     "text": [
      "Epoch 80, Loss 0.0319\n",
      "Training Accuracy: 0.9624, Testing Accuracy: 0.9688\n",
      "\n"
     ]
    },
    {
     "name": "stdout",
     "output_type": "stream",
     "text": [
      "Epoch 90, Loss 0.0304\n",
      "Training Accuracy: 0.9644, Testing Accuracy: 0.9677\n",
      "\n"
     ]
    },
    {
     "name": "stdout",
     "output_type": "stream",
     "text": [
      "Epoch 100, Loss 0.0292\n",
      "Training Accuracy: 0.9654, Testing Accuracy: 0.9672\n",
      "\n"
     ]
    },
    {
     "name": "stdout",
     "output_type": "stream",
     "text": [
      "Epoch 110, Loss 0.0281\n",
      "Training Accuracy: 0.9670, Testing Accuracy: 0.9667\n",
      "\n"
     ]
    },
    {
     "name": "stdout",
     "output_type": "stream",
     "text": [
      "Epoch 120, Loss 0.0272\n",
      "Training Accuracy: 0.9679, Testing Accuracy: 0.9657\n",
      "\n"
     ]
    },
    {
     "name": "stdout",
     "output_type": "stream",
     "text": [
      "Epoch 130, Loss 0.0264\n",
      "Training Accuracy: 0.9691, Testing Accuracy: 0.9657\n",
      "\n"
     ]
    },
    {
     "name": "stdout",
     "output_type": "stream",
     "text": [
      "Epoch 140, Loss 0.0256\n",
      "Training Accuracy: 0.9698, Testing Accuracy: 0.9672\n",
      "\n"
     ]
    },
    {
     "name": "stdout",
     "output_type": "stream",
     "text": [
      "Epoch 150, Loss 0.025\n",
      "Training Accuracy: 0.9701, Testing Accuracy: 0.9672\n",
      "\n"
     ]
    },
    {
     "name": "stdout",
     "output_type": "stream",
     "text": [
      "Epoch 160, Loss 0.0244\n",
      "Training Accuracy: 0.9709, Testing Accuracy: 0.9672\n",
      "\n"
     ]
    },
    {
     "name": "stdout",
     "output_type": "stream",
     "text": [
      "Epoch 170, Loss 0.0239\n",
      "Training Accuracy: 0.9710, Testing Accuracy: 0.9698\n",
      "\n"
     ]
    },
    {
     "name": "stdout",
     "output_type": "stream",
     "text": [
      "Epoch 180, Loss 0.0234\n",
      "Training Accuracy: 0.9715, Testing Accuracy: 0.9703\n",
      "\n"
     ]
    },
    {
     "name": "stdout",
     "output_type": "stream",
     "text": [
      "Epoch 190, Loss 0.0229\n",
      "Training Accuracy: 0.9726, Testing Accuracy: 0.9703\n",
      "\n"
     ]
    },
    {
     "name": "stdout",
     "output_type": "stream",
     "text": [
      "Epoch 200, Loss 0.0224\n",
      "Training Accuracy: 0.9730, Testing Accuracy: 0.9708\n",
      "\n"
     ]
    },
    {
     "name": "stdout",
     "output_type": "stream",
     "text": [
      "Epoch 210, Loss 0.022\n",
      "Training Accuracy: 0.9740, Testing Accuracy: 0.9713\n",
      "\n"
     ]
    },
    {
     "name": "stdout",
     "output_type": "stream",
     "text": [
      "Epoch 220, Loss 0.0216\n",
      "Training Accuracy: 0.9748, Testing Accuracy: 0.9708\n",
      "\n"
     ]
    },
    {
     "name": "stdout",
     "output_type": "stream",
     "text": [
      "Epoch 230, Loss 0.0212\n",
      "Training Accuracy: 0.9752, Testing Accuracy: 0.9703\n",
      "\n"
     ]
    },
    {
     "name": "stdout",
     "output_type": "stream",
     "text": [
      "Epoch 240, Loss 0.0208\n",
      "Training Accuracy: 0.9758, Testing Accuracy: 0.9713\n",
      "\n"
     ]
    },
    {
     "name": "stdout",
     "output_type": "stream",
     "text": [
      "Epoch 250, Loss 0.0205\n",
      "Training Accuracy: 0.9764, Testing Accuracy: 0.9713\n",
      "\n"
     ]
    },
    {
     "data": {
      "text/plain": [
       "0.07058992786914609"
      ]
     },
     "execution_count": 20,
     "metadata": {},
     "output_type": "execute_result"
    }
   ],
   "source": [
    "print(\"====== Neural Network ======\")\n",
    "learner_nn.train_loop(dl)"
   ]
  },
  {
   "cell_type": "markdown",
   "metadata": {
    "papermill": {
     "duration": 0.045003,
     "end_time": "2020-10-29T00:09:55.332125",
     "exception": false,
     "start_time": "2020-10-29T00:09:55.287122",
     "status": "completed"
    },
    "tags": []
   },
   "source": [
    "### Logistic Regression based Implementation."
   ]
  },
  {
   "cell_type": "code",
   "execution_count": 21,
   "metadata": {
    "execution": {
     "iopub.execute_input": "2020-10-29T00:09:55.437382Z",
     "iopub.status.busy": "2020-10-29T00:09:55.436340Z",
     "iopub.status.idle": "2020-10-29T00:09:55.446887Z",
     "shell.execute_reply": "2020-10-29T00:09:55.446330Z"
    },
    "papermill": {
     "duration": 0.07085,
     "end_time": "2020-10-29T00:09:55.447025",
     "exception": false,
     "start_time": "2020-10-29T00:09:55.376175",
     "status": "completed"
    },
    "tags": []
   },
   "outputs": [],
   "source": [
    "learner_lr = Learner(loss, model_lr, opt, config.num_epochs)\n",
    "acc_lr = ClfCallback(learner_lr, config.bs, training_xdata , testing_xdata, training_ydata, testing_ydata)\n",
    "learner_lr.set_callbacks([acc_lr])"
   ]
  },
  {
   "cell_type": "code",
   "execution_count": 22,
   "metadata": {
    "execution": {
     "iopub.execute_input": "2020-10-29T00:09:55.535036Z",
     "iopub.status.busy": "2020-10-29T00:09:55.534390Z",
     "iopub.status.idle": "2020-10-29T00:10:14.075084Z",
     "shell.execute_reply": "2020-10-29T00:10:14.076048Z"
    },
    "papermill": {
     "duration": 18.58836,
     "end_time": "2020-10-29T00:10:14.076236",
     "exception": false,
     "start_time": "2020-10-29T00:09:55.487876",
     "status": "completed"
    },
    "tags": []
   },
   "outputs": [
    {
     "name": "stdout",
     "output_type": "stream",
     "text": [
      "====== Logistic Regression ======\n",
      "Epoch 0, Loss 0.2571\n",
      "Training Accuracy: 0.6061, Testing Accuracy: 0.6144\n",
      "\n"
     ]
    },
    {
     "name": "stdout",
     "output_type": "stream",
     "text": [
      "Epoch 10, Loss 0.1066\n",
      "Training Accuracy: 0.9034, Testing Accuracy: 0.9183\n",
      "\n"
     ]
    },
    {
     "name": "stdout",
     "output_type": "stream",
     "text": [
      "Epoch 20, Loss 0.081\n",
      "Training Accuracy: 0.9248, Testing Accuracy: 0.9365\n",
      "\n"
     ]
    },
    {
     "name": "stdout",
     "output_type": "stream",
     "text": [
      "Epoch 30, Loss 0.0693\n",
      "Training Accuracy: 0.9348, Testing Accuracy: 0.9456\n",
      "\n"
     ]
    },
    {
     "name": "stdout",
     "output_type": "stream",
     "text": [
      "Epoch 40, Loss 0.0622\n",
      "Training Accuracy: 0.9408, Testing Accuracy: 0.9506\n",
      "\n"
     ]
    },
    {
     "name": "stdout",
     "output_type": "stream",
     "text": [
      "Epoch 50, Loss 0.0575\n",
      "Training Accuracy: 0.9451, Testing Accuracy: 0.9526\n",
      "\n"
     ]
    },
    {
     "name": "stdout",
     "output_type": "stream",
     "text": [
      "Epoch 60, Loss 0.0541\n",
      "Training Accuracy: 0.9483, Testing Accuracy: 0.9541\n",
      "\n"
     ]
    },
    {
     "name": "stdout",
     "output_type": "stream",
     "text": [
      "Epoch 70, Loss 0.0514\n",
      "Training Accuracy: 0.9505, Testing Accuracy: 0.9561\n",
      "\n"
     ]
    },
    {
     "name": "stdout",
     "output_type": "stream",
     "text": [
      "Epoch 80, Loss 0.0493\n",
      "Training Accuracy: 0.9524, Testing Accuracy: 0.9567\n",
      "\n"
     ]
    },
    {
     "name": "stdout",
     "output_type": "stream",
     "text": [
      "Epoch 90, Loss 0.0476\n",
      "Training Accuracy: 0.9531, Testing Accuracy: 0.9587\n",
      "\n"
     ]
    },
    {
     "name": "stdout",
     "output_type": "stream",
     "text": [
      "Epoch 100, Loss 0.0461\n",
      "Training Accuracy: 0.9543, Testing Accuracy: 0.9597\n",
      "\n"
     ]
    },
    {
     "name": "stdout",
     "output_type": "stream",
     "text": [
      "Epoch 110, Loss 0.0449\n",
      "Training Accuracy: 0.9553, Testing Accuracy: 0.9607\n",
      "\n"
     ]
    },
    {
     "name": "stdout",
     "output_type": "stream",
     "text": [
      "Epoch 120, Loss 0.0438\n",
      "Training Accuracy: 0.9556, Testing Accuracy: 0.9607\n",
      "\n"
     ]
    },
    {
     "name": "stdout",
     "output_type": "stream",
     "text": [
      "Epoch 130, Loss 0.0429\n",
      "Training Accuracy: 0.9565, Testing Accuracy: 0.9607\n",
      "\n"
     ]
    },
    {
     "name": "stdout",
     "output_type": "stream",
     "text": [
      "Epoch 140, Loss 0.0421\n",
      "Training Accuracy: 0.9570, Testing Accuracy: 0.9617\n",
      "\n"
     ]
    },
    {
     "name": "stdout",
     "output_type": "stream",
     "text": [
      "Epoch 150, Loss 0.0413\n",
      "Training Accuracy: 0.9573, Testing Accuracy: 0.9637\n",
      "\n"
     ]
    },
    {
     "name": "stdout",
     "output_type": "stream",
     "text": [
      "Epoch 160, Loss 0.0406\n",
      "Training Accuracy: 0.9577, Testing Accuracy: 0.9642\n",
      "\n"
     ]
    },
    {
     "name": "stdout",
     "output_type": "stream",
     "text": [
      "Epoch 170, Loss 0.04\n",
      "Training Accuracy: 0.9583, Testing Accuracy: 0.9647\n",
      "\n"
     ]
    },
    {
     "name": "stdout",
     "output_type": "stream",
     "text": [
      "Epoch 180, Loss 0.0395\n",
      "Training Accuracy: 0.9589, Testing Accuracy: 0.9647\n",
      "\n"
     ]
    },
    {
     "name": "stdout",
     "output_type": "stream",
     "text": [
      "Epoch 190, Loss 0.0389\n",
      "Training Accuracy: 0.9591, Testing Accuracy: 0.9652\n",
      "\n"
     ]
    },
    {
     "name": "stdout",
     "output_type": "stream",
     "text": [
      "Epoch 200, Loss 0.0385\n",
      "Training Accuracy: 0.9596, Testing Accuracy: 0.9657\n",
      "\n"
     ]
    },
    {
     "name": "stdout",
     "output_type": "stream",
     "text": [
      "Epoch 210, Loss 0.038\n",
      "Training Accuracy: 0.9600, Testing Accuracy: 0.9652\n",
      "\n"
     ]
    },
    {
     "name": "stdout",
     "output_type": "stream",
     "text": [
      "Epoch 220, Loss 0.0376\n",
      "Training Accuracy: 0.9604, Testing Accuracy: 0.9652\n",
      "\n"
     ]
    },
    {
     "name": "stdout",
     "output_type": "stream",
     "text": [
      "Epoch 230, Loss 0.0372\n",
      "Training Accuracy: 0.9609, Testing Accuracy: 0.9652\n",
      "\n"
     ]
    },
    {
     "name": "stdout",
     "output_type": "stream",
     "text": [
      "Epoch 240, Loss 0.0369\n",
      "Training Accuracy: 0.9612, Testing Accuracy: 0.9657\n",
      "\n"
     ]
    },
    {
     "name": "stdout",
     "output_type": "stream",
     "text": [
      "Epoch 250, Loss 0.0365\n",
      "Training Accuracy: 0.9617, Testing Accuracy: 0.9667\n",
      "\n"
     ]
    },
    {
     "data": {
      "text/plain": [
       "0.03214290490878431"
      ]
     },
     "execution_count": 22,
     "metadata": {},
     "output_type": "execute_result"
    }
   ],
   "source": [
    "print(\"====== Logistic Regression ======\")\n",
    "learner_lr.train_loop(dl)"
   ]
  },
  {
   "cell_type": "markdown",
   "metadata": {
    "papermill": {
     "duration": 0.051753,
     "end_time": "2020-10-29T00:10:14.180205",
     "exception": false,
     "start_time": "2020-10-29T00:10:14.128452",
     "status": "completed"
    },
    "tags": []
   },
   "source": [
    "### Comparing results of NN and LR"
   ]
  },
  {
   "cell_type": "code",
   "execution_count": 23,
   "metadata": {
    "execution": {
     "iopub.execute_input": "2020-10-29T00:10:14.298936Z",
     "iopub.status.busy": "2020-10-29T00:10:14.296162Z",
     "iopub.status.idle": "2020-10-29T00:10:14.582008Z",
     "shell.execute_reply": "2020-10-29T00:10:14.581409Z"
    },
    "papermill": {
     "duration": 0.34508,
     "end_time": "2020-10-29T00:10:14.582157",
     "exception": false,
     "start_time": "2020-10-29T00:10:14.237077",
     "status": "completed"
    },
    "tags": []
   },
   "outputs": [
    {
     "data": {
      "text/plain": [
       "<matplotlib.legend.Legend at 0x7f208b9dd2b0>"
      ]
     },
     "execution_count": 23,
     "metadata": {},
     "output_type": "execute_result"
    },
    {
     "data": {
      "image/png": "[encoded data removed]",
      "text/plain": [
       "<Figure size 1080x720 with 1 Axes>"
      ]
     },
     "metadata": {
      "needs_background": "light"
     },
     "output_type": "display_data"
    }
   ],
   "source": [
    "plt.figure(figsize=(15,10))\n",
    "\n",
    "# Neural Network plots\n",
    "plt.plot(acc_nn.accuracies, 'r-', label = \"Training Accuracies - NN\")\n",
    "plt.plot(acc_nn.test_accuracies, 'g-', label = \"Testing Accuracies - NN\")\n",
    "\n",
    "# Logistic Regression plots\n",
    "plt.plot(acc_lr.accuracies, 'k-', label = \"Training Accuracies - LR\")\n",
    "plt.plot(acc_lr.test_accuracies, 'b-', label = \"Testing Accuracies - LR\")\n",
    "\n",
    "plt.ylim(0.8, 1)\n",
    "\n",
    "plt.legend()\n",
    "\n"
   ]
  },
  {
   "cell_type": "markdown",
   "metadata": {
    "papermill": {
     "duration": 0.051649,
     "end_time": "2020-10-29T00:10:14.686412",
     "exception": false,
     "start_time": "2020-10-29T00:10:14.634763",
     "status": "completed"
    },
    "tags": []
   },
   "source": [
    "### From the plot, we can observe the following:\n",
    "- Neural Network achieves higher accuracy than the Logistic Regression model.\n",
    "- This apparently, is because of overfitting, i.e. NN captures more noise than data.\n",
    "- Testing accuracy of NN drops below the Training accuracy at higher epochs. This explains the over-fitting on training data.\n",
    "- Logistic Regression gives a reliable accuracy, without the above mentioned problem.\n"
   ]
  },
  {
   "cell_type": "markdown",
   "metadata": {
    "papermill": {
     "duration": 0.051812,
     "end_time": "2020-10-29T00:10:14.790597",
     "exception": false,
     "start_time": "2020-10-29T00:10:14.738785",
     "status": "completed"
    },
    "tags": []
   },
   "source": [
    "### Moving till the last but one layer (excluding it).\n",
    "#### Plotting the outputs of this layer of the NN."
   ]
  },
  {
   "cell_type": "code",
   "execution_count": 24,
   "metadata": {
    "execution": {
     "iopub.execute_input": "2020-10-29T00:10:14.905717Z",
     "iopub.status.busy": "2020-10-29T00:10:14.904806Z",
     "iopub.status.idle": "2020-10-29T00:10:14.924622Z",
     "shell.execute_reply": "2020-10-29T00:10:14.925157Z"
    },
    "papermill": {
     "duration": 0.077028,
     "end_time": "2020-10-29T00:10:14.925312",
     "exception": false,
     "start_time": "2020-10-29T00:10:14.848284",
     "status": "completed"
    },
    "tags": []
   },
   "outputs": [],
   "source": [
    "model_new = Model(layers[:-2])"
   ]
  },
  {
   "cell_type": "code",
   "execution_count": 25,
   "metadata": {
    "execution": {
     "iopub.execute_input": "2020-10-29T00:10:15.047640Z",
     "iopub.status.busy": "2020-10-29T00:10:15.044483Z",
     "iopub.status.idle": "2020-10-29T00:10:15.070053Z",
     "shell.execute_reply": "2020-10-29T00:10:15.070613Z"
    },
    "papermill": {
     "duration": 0.085823,
     "end_time": "2020-10-29T00:10:15.070791",
     "exception": false,
     "start_time": "2020-10-29T00:10:14.984968",
     "status": "completed"
    },
    "tags": []
   },
   "outputs": [],
   "source": [
    "plot_testing = model_new(testing_xdata)"
   ]
  },
  {
   "cell_type": "code",
   "execution_count": 26,
   "metadata": {
    "execution": {
     "iopub.execute_input": "2020-10-29T00:10:15.182223Z",
     "iopub.status.busy": "2020-10-29T00:10:15.181338Z",
     "iopub.status.idle": "2020-10-29T00:10:15.412518Z",
     "shell.execute_reply": "2020-10-29T00:10:15.413115Z"
    },
    "papermill": {
     "duration": 0.291841,
     "end_time": "2020-10-29T00:10:15.414107",
     "exception": false,
     "start_time": "2020-10-29T00:10:15.122266",
     "status": "completed"
    },
    "tags": []
   },
   "outputs": [
    {
     "data": {
      "text/plain": [
       "Text(0.5, 1.0, 'Outputs')"
      ]
     },
     "execution_count": 26,
     "metadata": {},
     "output_type": "execute_result"
    },
    {
     "data": {
      "image/png": "[encoded data removed]",
      "text/plain": [
       "<Figure size 576x504 with 1 Axes>"
      ]
     },
     "metadata": {
      "needs_background": "light"
     },
     "output_type": "display_data"
    }
   ],
   "source": [
    "plt.figure(figsize=(8,7))\n",
    "plt.scatter(plot_testing[:,0], plot_testing[:,1], alpha = 0.1, c = y_test.ravel());\n",
    "plt.title('Outputs')"
   ]
  },
  {
   "cell_type": "markdown",
   "metadata": {
    "papermill": {
     "duration": 0.051568,
     "end_time": "2020-10-29T00:10:15.523011",
     "exception": false,
     "start_time": "2020-10-29T00:10:15.471443",
     "status": "completed"
    },
    "tags": []
   },
   "source": [
    "### Plotting probability contours"
   ]
  },
  {
   "cell_type": "code",
   "execution_count": 27,
   "metadata": {
    "execution": {
     "iopub.execute_input": "2020-10-29T00:10:15.638929Z",
     "iopub.status.busy": "2020-10-29T00:10:15.638272Z",
     "iopub.status.idle": "2020-10-29T00:10:15.648859Z",
     "shell.execute_reply": "2020-10-29T00:10:15.648305Z"
    },
    "papermill": {
     "duration": 0.072318,
     "end_time": "2020-10-29T00:10:15.648996",
     "exception": false,
     "start_time": "2020-10-29T00:10:15.576678",
     "status": "completed"
    },
    "tags": []
   },
   "outputs": [],
   "source": [
    "model_prob = Model(layers[-2:]) "
   ]
  },
  {
   "cell_type": "code",
   "execution_count": 28,
   "metadata": {
    "execution": {
     "iopub.execute_input": "2020-10-29T00:10:15.758046Z",
     "iopub.status.busy": "2020-10-29T00:10:15.757372Z",
     "iopub.status.idle": "2020-10-29T00:10:15.772206Z",
     "shell.execute_reply": "2020-10-29T00:10:15.773544Z"
    },
    "papermill": {
     "duration": 0.072783,
     "end_time": "2020-10-29T00:10:15.773723",
     "exception": false,
     "start_time": "2020-10-29T00:10:15.700940",
     "status": "completed"
    },
    "tags": []
   },
   "outputs": [],
   "source": [
    "# Adjust the x and y ranges according to the above generated plot.\n",
    "x_range = np.linspace(-4, 1, 100) \n",
    "y_range = np.linspace(-6, 6, 100) \n",
    "x_grid, y_grid = np.meshgrid(x_range, y_range) # x_grid and y_grig are of size 100 X 100\n",
    "\n",
    "# converting x_grid and y_grid to continuous arrays\n",
    "x_grid_flat = np.ravel(x_grid)\n",
    "y_grid_flat = np.ravel(y_grid)\n",
    "\n",
    "# The last layer of the current model takes two columns as input. Hence transpose of np.vstack() is required.\n",
    "X = np.vstack((x_grid_flat, y_grid_flat)).T\n",
    "\n",
    "# x_grid and y_grid are of size 100 x 100\n",
    "probability_contour = model_prob(X).reshape(100,100) "
   ]
  },
  {
   "cell_type": "code",
   "execution_count": 29,
   "metadata": {
    "execution": {
     "iopub.execute_input": "2020-10-29T00:10:15.910713Z",
     "iopub.status.busy": "2020-10-29T00:10:15.894343Z",
     "iopub.status.idle": "2020-10-29T00:10:16.180243Z",
     "shell.execute_reply": "2020-10-29T00:10:16.179698Z"
    },
    "papermill": {
     "duration": 0.352202,
     "end_time": "2020-10-29T00:10:16.180394",
     "exception": false,
     "start_time": "2020-10-29T00:10:15.828192",
     "status": "completed"
    },
    "tags": []
   },
   "outputs": [
    {
     "data": {
      "image/png": "[encoded data removed]",
      "text/plain": [
       "<Figure size 720x648 with 1 Axes>"
      ]
     },
     "metadata": {
      "needs_background": "light"
     },
     "output_type": "display_data"
    }
   ],
   "source": [
    "plt.figure(figsize=(10,9))\n",
    "plt.scatter(plot_testing[:,0], plot_testing[:,1], alpha = 0.1, c = y_test.ravel())\n",
    "contours = plt.contour(x_grid,y_grid,probability_contour)\n",
    "plt.title('Probability Contours')\n",
    "plt.clabel(contours, inline = True );"
   ]
  }
 ],
 "metadata": {
  "kernelspec": {
   "display_name": "Python 3",
   "language": "python",
   "name": "python3"
  },
  "language_info": {
   "codemirror_mode": {
    "name": "ipython",
    "version": 3
   },
   "file_extension": ".py",
   "mimetype": "text/x-python",
   "name": "python",
   "nbconvert_exporter": "python",
   "pygments_lexer": "ipython3",
   "version": "3.6.12"
  },
  "papermill": {
   "duration": 157.905967,
   "end_time": "2020-10-29T00:10:16.568033",
   "environment_variables": {},
   "exception": null,
   "input_path": "2020-08-11-NeuralNetwork.ipynb",
   "output_path": "2020-08-11-NeuralNetwork.ipynb",
   "parameters": {},
   "start_time": "2020-10-29T00:07:38.662066",
   "version": "2.1.2"
  }
 },
 "nbformat": 4,
 "nbformat_minor": 4
}