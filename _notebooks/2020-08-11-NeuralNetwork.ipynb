{
 "cells": [
  {
   "cell_type": "markdown",
   "metadata": {
    "papermill": {
     "duration": 0.032517,
     "end_time": "2020-09-15T10:04:57.488730",
     "exception": false,
     "start_time": "2020-09-15T10:04:57.456213",
     "status": "completed"
    },
    "tags": []
   },
   "source": [
    "# \"A Basic Neural Network: Differentiate Hand-Written Digits\"\n",
    "\n",
    "- badges: true\n",
    "- author: Akshith Sriram"
   ]
  },
  {
   "cell_type": "markdown",
   "metadata": {
    "papermill": {
     "duration": 0.027694,
     "end_time": "2020-09-15T10:04:57.556849",
     "exception": false,
     "start_time": "2020-09-15T10:04:57.529155",
     "status": "completed"
    },
    "tags": []
   },
   "source": [
    "### Key Objectives:\n",
    "- Building a neural network that differentiates two hand-written digits 3 and 8.\n",
    "- Comparing the results of this Neural Network (NN) to that of a Logistic Regression (LR) model.\n",
    "\n",
    "### Requirements:\n",
    "- 'Kudzu' : A neural network library that was designed during our course by [Univ.AI](www.univ.ai). \n",
    "- MNIST Database\n",
    "\n",
    "If MNIST is not installed, use the command `!pip install mnist` given below.\n",
    "It can be run both from the command line and Jupyter Notebook."
   ]
  },
  {
   "cell_type": "code",
   "execution_count": 1,
   "metadata": {
    "execution": {
     "iopub.execute_input": "2020-09-15T10:04:57.618478Z",
     "iopub.status.busy": "2020-09-15T10:04:57.617119Z",
     "iopub.status.idle": "2020-09-15T10:04:59.318889Z",
     "shell.execute_reply": "2020-09-15T10:04:59.317640Z"
    },
    "papermill": {
     "duration": 1.735223,
     "end_time": "2020-09-15T10:04:59.319112",
     "exception": false,
     "start_time": "2020-09-15T10:04:57.583889",
     "status": "completed"
    },
    "tags": []
   },
   "outputs": [
    {
     "name": "stdout",
     "output_type": "stream",
     "text": [
      "Collecting mnist\r\n"
     ]
    },
    {
     "name": "stdout",
     "output_type": "stream",
     "text": [
      "  Downloading mnist-0.2.2-py2.py3-none-any.whl (3.5 kB)\r\n",
      "Requirement already satisfied: numpy in /opt/hostedtoolcache/Python/3.6.12/x64/lib/python3.6/site-packages (from mnist) (1.19.2)\r\n"
     ]
    },
    {
     "name": "stdout",
     "output_type": "stream",
     "text": [
      "Installing collected packages: mnist\r\n"
     ]
    },
    {
     "name": "stdout",
     "output_type": "stream",
     "text": [
      "Successfully installed mnist-0.2.2\r\n"
     ]
    }
   ],
   "source": [
    "!pip install mnist "
   ]
  },
  {
   "cell_type": "markdown",
   "metadata": {
    "papermill": {
     "duration": 0.027356,
     "end_time": "2020-09-15T10:04:59.376397",
     "exception": false,
     "start_time": "2020-09-15T10:04:59.349041",
     "status": "completed"
    },
    "tags": []
   },
   "source": [
    "#### Importing necessary libraries"
   ]
  },
  {
   "cell_type": "code",
   "execution_count": 2,
   "metadata": {
    "execution": {
     "iopub.execute_input": "2020-09-15T10:04:59.441987Z",
     "iopub.status.busy": "2020-09-15T10:04:59.441243Z",
     "iopub.status.idle": "2020-09-15T10:05:00.081286Z",
     "shell.execute_reply": "2020-09-15T10:05:00.080138Z"
    },
    "papermill": {
     "duration": 0.677288,
     "end_time": "2020-09-15T10:05:00.081496",
     "exception": false,
     "start_time": "2020-09-15T10:04:59.404208",
     "status": "completed"
    },
    "tags": []
   },
   "outputs": [],
   "source": [
    "%load_ext autoreload\n",
    "%autoreload 2\n",
    "\n",
    "%matplotlib inline\n",
    "import matplotlib.pyplot as plt\n",
    "\n",
    "import numpy as np\n",
    "import pandas as pd"
   ]
  },
  {
   "cell_type": "markdown",
   "metadata": {
    "papermill": {
     "duration": 0.028312,
     "end_time": "2020-09-15T10:05:00.140604",
     "exception": false,
     "start_time": "2020-09-15T10:05:00.112292",
     "status": "completed"
    },
    "tags": []
   },
   "source": [
    "### Preparing the Data"
   ]
  },
  {
   "cell_type": "code",
   "execution_count": 3,
   "metadata": {
    "execution": {
     "iopub.execute_input": "2020-09-15T10:05:00.203262Z",
     "iopub.status.busy": "2020-09-15T10:05:00.201693Z",
     "iopub.status.idle": "2020-09-15T10:05:00.215252Z",
     "shell.execute_reply": "2020-09-15T10:05:00.214748Z"
    },
    "papermill": {
     "duration": 0.046101,
     "end_time": "2020-09-15T10:05:00.215392",
     "exception": false,
     "start_time": "2020-09-15T10:05:00.169291",
     "status": "completed"
    },
    "tags": []
   },
   "outputs": [],
   "source": [
    "import mnist"
   ]
  },
  {
   "cell_type": "code",
   "execution_count": 4,
   "metadata": {
    "execution": {
     "iopub.execute_input": "2020-09-15T10:05:00.273432Z",
     "iopub.status.busy": "2020-09-15T10:05:00.272814Z",
     "iopub.status.idle": "2020-09-15T10:05:01.235364Z",
     "shell.execute_reply": "2020-09-15T10:05:01.235920Z"
    },
    "papermill": {
     "duration": 0.99341,
     "end_time": "2020-09-15T10:05:01.236088",
     "exception": false,
     "start_time": "2020-09-15T10:05:00.242678",
     "status": "completed"
    },
    "tags": []
   },
   "outputs": [],
   "source": [
    "train_images = mnist.train_images()\n",
    "train_labels = mnist.train_labels()"
   ]
  },
  {
   "cell_type": "code",
   "execution_count": 5,
   "metadata": {
    "execution": {
     "iopub.execute_input": "2020-09-15T10:05:01.299000Z",
     "iopub.status.busy": "2020-09-15T10:05:01.298374Z",
     "iopub.status.idle": "2020-09-15T10:05:01.315743Z",
     "shell.execute_reply": "2020-09-15T10:05:01.316267Z"
    },
    "papermill": {
     "duration": 0.050722,
     "end_time": "2020-09-15T10:05:01.316427",
     "exception": false,
     "start_time": "2020-09-15T10:05:01.265705",
     "status": "completed"
    },
    "tags": []
   },
   "outputs": [
    {
     "data": {
      "text/plain": [
       "((60000, 28, 28), (60000,))"
      ]
     },
     "execution_count": 5,
     "metadata": {},
     "output_type": "execute_result"
    }
   ],
   "source": [
    "train_images.shape, train_labels.shape"
   ]
  },
  {
   "cell_type": "code",
   "execution_count": 6,
   "metadata": {
    "execution": {
     "iopub.execute_input": "2020-09-15T10:05:01.378282Z",
     "iopub.status.busy": "2020-09-15T10:05:01.377638Z",
     "iopub.status.idle": "2020-09-15T10:05:01.815837Z",
     "shell.execute_reply": "2020-09-15T10:05:01.815082Z"
    },
    "papermill": {
     "duration": 0.471078,
     "end_time": "2020-09-15T10:05:01.815985",
     "exception": false,
     "start_time": "2020-09-15T10:05:01.344907",
     "status": "completed"
    },
    "tags": []
   },
   "outputs": [],
   "source": [
    "test_images = mnist.test_images()\n",
    "test_labels = mnist.test_labels()"
   ]
  },
  {
   "cell_type": "code",
   "execution_count": 7,
   "metadata": {
    "execution": {
     "iopub.execute_input": "2020-09-15T10:05:01.878815Z",
     "iopub.status.busy": "2020-09-15T10:05:01.878205Z",
     "iopub.status.idle": "2020-09-15T10:05:01.893869Z",
     "shell.execute_reply": "2020-09-15T10:05:01.894449Z"
    },
    "papermill": {
     "duration": 0.050208,
     "end_time": "2020-09-15T10:05:01.894611",
     "exception": false,
     "start_time": "2020-09-15T10:05:01.844403",
     "status": "completed"
    },
    "tags": []
   },
   "outputs": [
    {
     "data": {
      "text/plain": [
       "((10000, 28, 28), (10000,))"
      ]
     },
     "execution_count": 7,
     "metadata": {},
     "output_type": "execute_result"
    }
   ],
   "source": [
    "test_images.shape, test_labels.shape"
   ]
  },
  {
   "cell_type": "code",
   "execution_count": 8,
   "metadata": {
    "execution": {
     "iopub.execute_input": "2020-09-15T10:05:01.958793Z",
     "iopub.status.busy": "2020-09-15T10:05:01.958168Z",
     "iopub.status.idle": "2020-09-15T10:05:02.120557Z",
     "shell.execute_reply": "2020-09-15T10:05:02.121064Z"
    },
    "papermill": {
     "duration": 0.196377,
     "end_time": "2020-09-15T10:05:02.121229",
     "exception": false,
     "start_time": "2020-09-15T10:05:01.924852",
     "status": "completed"
    },
    "tags": []
   },
   "outputs": [
    {
     "name": "stdout",
     "output_type": "stream",
     "text": [
      "2\n"
     ]
    },
    {
     "data": {
      "text/plain": [
       "<matplotlib.image.AxesImage at 0x7f99292e17f0>"
      ]
     },
     "execution_count": 8,
     "metadata": {},
     "output_type": "execute_result"
    },
    {
     "data": {
      "image/png": "[encoded data removed]",
      "text/plain": [
       "<Figure size 432x288 with 1 Axes>"
      ]
     },
     "metadata": {
      "needs_background": "light"
     },
     "output_type": "display_data"
    }
   ],
   "source": [
    "image_index = 7776 # You may select anything up to 60,000\n",
    "print(train_labels[image_index]) \n",
    "plt.imshow(train_images[image_index], cmap='Greys')"
   ]
  },
  {
   "cell_type": "markdown",
   "metadata": {
    "papermill": {
     "duration": 0.029426,
     "end_time": "2020-09-15T10:05:02.179754",
     "exception": false,
     "start_time": "2020-09-15T10:05:02.150328",
     "status": "completed"
    },
    "tags": []
   },
   "source": [
    "## Filter data to get 3 and 8 out"
   ]
  },
  {
   "cell_type": "code",
   "execution_count": 9,
   "metadata": {
    "execution": {
     "iopub.execute_input": "2020-09-15T10:05:02.243036Z",
     "iopub.status.busy": "2020-09-15T10:05:02.242409Z",
     "iopub.status.idle": "2020-09-15T10:05:02.266774Z",
     "shell.execute_reply": "2020-09-15T10:05:02.266095Z"
    },
    "papermill": {
     "duration": 0.058406,
     "end_time": "2020-09-15T10:05:02.266957",
     "exception": false,
     "start_time": "2020-09-15T10:05:02.208551",
     "status": "completed"
    },
    "tags": []
   },
   "outputs": [],
   "source": [
    "train_filter = np.where((train_labels == 3 ) | (train_labels == 8))\n",
    "test_filter = np.where((test_labels == 3) | (test_labels == 8))\n",
    "X_train, y_train = train_images[train_filter], train_labels[train_filter]\n",
    "X_test, y_test = test_images[test_filter], test_labels[test_filter]"
   ]
  },
  {
   "cell_type": "markdown",
   "metadata": {
    "papermill": {
     "duration": 0.028758,
     "end_time": "2020-09-15T10:05:02.325357",
     "exception": false,
     "start_time": "2020-09-15T10:05:02.296599",
     "status": "completed"
    },
    "tags": []
   },
   "source": [
    "We normalize the pixel values in the 0 to 1 range"
   ]
  },
  {
   "cell_type": "code",
   "execution_count": 10,
   "metadata": {
    "execution": {
     "iopub.execute_input": "2020-09-15T10:05:02.387443Z",
     "iopub.status.busy": "2020-09-15T10:05:02.386834Z",
     "iopub.status.idle": "2020-09-15T10:05:02.444584Z",
     "shell.execute_reply": "2020-09-15T10:05:02.443842Z"
    },
    "papermill": {
     "duration": 0.090433,
     "end_time": "2020-09-15T10:05:02.444782",
     "exception": false,
     "start_time": "2020-09-15T10:05:02.354349",
     "status": "completed"
    },
    "tags": []
   },
   "outputs": [],
   "source": [
    "X_train = X_train/255.\n",
    "X_test = X_test/255."
   ]
  },
  {
   "cell_type": "markdown",
   "metadata": {
    "papermill": {
     "duration": 0.028925,
     "end_time": "2020-09-15T10:05:02.505141",
     "exception": false,
     "start_time": "2020-09-15T10:05:02.476216",
     "status": "completed"
    },
    "tags": []
   },
   "source": [
    "Setup the labels as 1 (when the digit is 3) and 0 (when the digit is 8)"
   ]
  },
  {
   "cell_type": "code",
   "execution_count": 11,
   "metadata": {
    "execution": {
     "iopub.execute_input": "2020-09-15T10:05:02.571017Z",
     "iopub.status.busy": "2020-09-15T10:05:02.567534Z",
     "iopub.status.idle": "2020-09-15T10:05:02.582085Z",
     "shell.execute_reply": "2020-09-15T10:05:02.581450Z"
    },
    "papermill": {
     "duration": 0.048028,
     "end_time": "2020-09-15T10:05:02.582232",
     "exception": false,
     "start_time": "2020-09-15T10:05:02.534204",
     "status": "completed"
    },
    "tags": []
   },
   "outputs": [],
   "source": [
    "y_train = 1*(y_train==3)\n",
    "y_test = 1*(y_test==3)"
   ]
  },
  {
   "cell_type": "code",
   "execution_count": 12,
   "metadata": {
    "execution": {
     "iopub.execute_input": "2020-09-15T10:05:02.648597Z",
     "iopub.status.busy": "2020-09-15T10:05:02.647984Z",
     "iopub.status.idle": "2020-09-15T10:05:02.666158Z",
     "shell.execute_reply": "2020-09-15T10:05:02.665633Z"
    },
    "papermill": {
     "duration": 0.053609,
     "end_time": "2020-09-15T10:05:02.666300",
     "exception": false,
     "start_time": "2020-09-15T10:05:02.612691",
     "status": "completed"
    },
    "tags": []
   },
   "outputs": [
    {
     "data": {
      "text/plain": [
       "((11982, 28, 28), (1984, 28, 28))"
      ]
     },
     "execution_count": 12,
     "metadata": {},
     "output_type": "execute_result"
    }
   ],
   "source": [
    "X_train.shape, X_test.shape"
   ]
  },
  {
   "cell_type": "markdown",
   "metadata": {
    "papermill": {
     "duration": 0.030798,
     "end_time": "2020-09-15T10:05:02.727293",
     "exception": false,
     "start_time": "2020-09-15T10:05:02.696495",
     "status": "completed"
    },
    "tags": []
   },
   "source": [
    "### Reshape the input data to create a linear array"
   ]
  },
  {
   "cell_type": "code",
   "execution_count": 13,
   "metadata": {
    "execution": {
     "iopub.execute_input": "2020-09-15T10:05:02.794800Z",
     "iopub.status.busy": "2020-09-15T10:05:02.794171Z",
     "iopub.status.idle": "2020-09-15T10:05:02.810132Z",
     "shell.execute_reply": "2020-09-15T10:05:02.810676Z"
    },
    "papermill": {
     "duration": 0.052293,
     "end_time": "2020-09-15T10:05:02.810838",
     "exception": false,
     "start_time": "2020-09-15T10:05:02.758545",
     "status": "completed"
    },
    "tags": []
   },
   "outputs": [
    {
     "data": {
      "text/plain": [
       "((11982, 784), (1984, 784))"
      ]
     },
     "execution_count": 13,
     "metadata": {},
     "output_type": "execute_result"
    }
   ],
   "source": [
    "X_train = X_train.reshape(X_train.shape[0], -1)\n",
    "X_test = X_test.reshape(X_test.shape[0], -1)\n",
    "X_train.shape, X_test.shape"
   ]
  },
  {
   "cell_type": "markdown",
   "metadata": {
    "papermill": {
     "duration": 0.030823,
     "end_time": "2020-09-15T10:05:02.871971",
     "exception": false,
     "start_time": "2020-09-15T10:05:02.841148",
     "status": "completed"
    },
    "tags": []
   },
   "source": [
    "### Importing appropriate functions from 'Kudzu'"
   ]
  },
  {
   "cell_type": "code",
   "execution_count": 14,
   "metadata": {
    "execution": {
     "iopub.execute_input": "2020-09-15T10:05:02.940090Z",
     "iopub.status.busy": "2020-09-15T10:05:02.939439Z",
     "iopub.status.idle": "2020-09-15T10:05:02.960422Z",
     "shell.execute_reply": "2020-09-15T10:05:02.959874Z"
    },
    "papermill": {
     "duration": 0.057513,
     "end_time": "2020-09-15T10:05:02.960563",
     "exception": false,
     "start_time": "2020-09-15T10:05:02.903050",
     "status": "completed"
    },
    "tags": []
   },
   "outputs": [],
   "source": [
    "from kudzu.layer import Sigmoid\n",
    "from kudzu.layer import Relu\n",
    "from kudzu.layer import Affine, Sigmoid\n",
    "\n",
    "from kudzu.model import Model\n",
    "from kudzu.train import Learner\n",
    "from kudzu.optim import GD\n",
    "from kudzu.data import Data, Dataloader, Sampler\n",
    "\n",
    "from kudzu.callbacks import AccCallback\n",
    "from kudzu.callbacks import ClfCallback\n",
    "\n",
    "from kudzu.loss import MSE"
   ]
  },
  {
   "cell_type": "markdown",
   "metadata": {
    "papermill": {
     "duration": 0.030828,
     "end_time": "2020-09-15T10:05:03.022188",
     "exception": false,
     "start_time": "2020-09-15T10:05:02.991360",
     "status": "completed"
    },
    "tags": []
   },
   "source": [
    "### Let us create a `Config` class, to store important parameters. \n",
    "This class essentially plays the role of a dictionary."
   ]
  },
  {
   "cell_type": "code",
   "execution_count": 15,
   "metadata": {
    "execution": {
     "iopub.execute_input": "2020-09-15T10:05:03.090007Z",
     "iopub.status.busy": "2020-09-15T10:05:03.089357Z",
     "iopub.status.idle": "2020-09-15T10:05:03.103121Z",
     "shell.execute_reply": "2020-09-15T10:05:03.103600Z"
    },
    "papermill": {
     "duration": 0.050296,
     "end_time": "2020-09-15T10:05:03.103766",
     "exception": false,
     "start_time": "2020-09-15T10:05:03.053470",
     "status": "completed"
    },
    "tags": []
   },
   "outputs": [],
   "source": [
    "class Config:\n",
    "    pass\n",
    "config = Config()\n",
    "config.lr = 0.001\n",
    "config.num_epochs = 251\n",
    "config.bs = 50"
   ]
  },
  {
   "cell_type": "markdown",
   "metadata": {
    "papermill": {
     "duration": 0.030343,
     "end_time": "2020-09-15T10:05:03.164386",
     "exception": false,
     "start_time": "2020-09-15T10:05:03.134043",
     "status": "completed"
    },
    "tags": []
   },
   "source": [
    "### Initializing data to the variables"
   ]
  },
  {
   "cell_type": "code",
   "execution_count": 16,
   "metadata": {
    "execution": {
     "iopub.execute_input": "2020-09-15T10:05:03.232010Z",
     "iopub.status.busy": "2020-09-15T10:05:03.231348Z",
     "iopub.status.idle": "2020-09-15T10:05:03.246240Z",
     "shell.execute_reply": "2020-09-15T10:05:03.245704Z"
    },
    "papermill": {
     "duration": 0.051008,
     "end_time": "2020-09-15T10:05:03.246384",
     "exception": false,
     "start_time": "2020-09-15T10:05:03.195376",
     "status": "completed"
    },
    "tags": []
   },
   "outputs": [],
   "source": [
    "data = Data(X_train, y_train.reshape(-1,1))\n",
    "sampler = Sampler(data, config.bs, shuffle=True)\n",
    "\n",
    "dl = Dataloader(data, sampler)\n",
    "\n",
    "opt = GD(config.lr)\n",
    "loss = MSE()"
   ]
  },
  {
   "cell_type": "code",
   "execution_count": 17,
   "metadata": {
    "execution": {
     "iopub.execute_input": "2020-09-15T10:05:03.313195Z",
     "iopub.status.busy": "2020-09-15T10:05:03.312533Z",
     "iopub.status.idle": "2020-09-15T10:05:03.326041Z",
     "shell.execute_reply": "2020-09-15T10:05:03.325354Z"
    },
    "papermill": {
     "duration": 0.049837,
     "end_time": "2020-09-15T10:05:03.326185",
     "exception": false,
     "start_time": "2020-09-15T10:05:03.276348",
     "status": "completed"
    },
    "tags": []
   },
   "outputs": [],
   "source": [
    "training_xdata = X_train\n",
    "testing_xdata = X_test\n",
    "training_ydata = y_train.reshape(-1,1)\n",
    "testing_ydata = y_test.reshape(-1,1)"
   ]
  },
  {
   "cell_type": "markdown",
   "metadata": {
    "papermill": {
     "duration": 0.029736,
     "end_time": "2020-09-15T10:05:03.385987",
     "exception": false,
     "start_time": "2020-09-15T10:05:03.356251",
     "status": "completed"
    },
    "tags": []
   },
   "source": [
    "### Running Models with the Training data\n",
    "Details about the network layers:\n",
    "- A first affine layer has 784 inputs and does 100 affine transforms. These are followed by a Relu\n",
    "- A second affine layer has 100 inputs from the 100 activations of the past layer, and does 100 affine transforms. These are followed by a Relu\n",
    "- A third affine layer has 100 activations and does 2 affine transformations to create an embedding for visualization. There is no non-linearity here.\n",
    "- A final \"logistic regression\" which has an affine transform from 2 inputs to 1 output, which is squeezed through a sigmoid.\n",
    "\n",
    "Help taken from Anshuman's Notebook."
   ]
  },
  {
   "cell_type": "code",
   "execution_count": 18,
   "metadata": {
    "execution": {
     "iopub.execute_input": "2020-09-15T10:05:04.341678Z",
     "iopub.status.busy": "2020-09-15T10:05:04.339211Z",
     "iopub.status.idle": "2020-09-15T10:05:04.364366Z",
     "shell.execute_reply": "2020-09-15T10:05:04.365001Z"
    },
    "papermill": {
     "duration": 0.063063,
     "end_time": "2020-09-15T10:05:04.365207",
     "exception": false,
     "start_time": "2020-09-15T10:05:04.302144",
     "status": "completed"
    },
    "tags": []
   },
   "outputs": [],
   "source": [
    "# layers for the Neural Network\n",
    "layers = [Affine(\"first\", 784, 100), Relu(\"first\"), Affine(\"second\", 100, 100), Relu(\"second\"), Affine(\"third\", 100, 2), Affine(\"final\", 2, 1), Sigmoid(\"final\")]\n",
    "model_nn = Model(layers)\n",
    "\n",
    "# layers for the Logistic Regression\n",
    "layers_lr = [Affine(\"logits\", 784, 1), Sigmoid(\"sigmoid\")]\n",
    "model_lr = Model(layers_lr)"
   ]
  },
  {
   "cell_type": "code",
   "execution_count": 19,
   "metadata": {
    "execution": {
     "iopub.execute_input": "2020-09-15T10:05:04.430182Z",
     "iopub.status.busy": "2020-09-15T10:05:04.429527Z",
     "iopub.status.idle": "2020-09-15T10:05:04.443481Z",
     "shell.execute_reply": "2020-09-15T10:05:04.442971Z"
    },
    "papermill": {
     "duration": 0.048177,
     "end_time": "2020-09-15T10:05:04.443622",
     "exception": false,
     "start_time": "2020-09-15T10:05:04.395445",
     "status": "completed"
    },
    "tags": []
   },
   "outputs": [],
   "source": [
    "# suffix _nn stands for Neural Network.\n",
    "learner_nn = Learner(loss, model_nn, opt, config.num_epochs)\n",
    "acc_nn = ClfCallback(learner_nn, config.bs, training_xdata , testing_xdata, training_ydata, testing_ydata)\n",
    "learner_nn.set_callbacks([acc_nn])"
   ]
  },
  {
   "cell_type": "code",
   "execution_count": 20,
   "metadata": {
    "execution": {
     "iopub.execute_input": "2020-09-15T10:05:04.508170Z",
     "iopub.status.busy": "2020-09-15T10:05:04.507560Z",
     "iopub.status.idle": "2020-09-15T10:06:36.707078Z",
     "shell.execute_reply": "2020-09-15T10:06:36.708027Z"
    },
    "papermill": {
     "duration": 92.234897,
     "end_time": "2020-09-15T10:06:36.708202",
     "exception": false,
     "start_time": "2020-09-15T10:05:04.473305",
     "status": "completed"
    },
    "tags": []
   },
   "outputs": [
    {
     "name": "stdout",
     "output_type": "stream",
     "text": [
      "====== Neural Network ======\n"
     ]
    },
    {
     "name": "stdout",
     "output_type": "stream",
     "text": [
      "Epoch 0, Loss 0.2398\n",
      "Training Accuracy: 0.7031, Testing Accuracy: 0.7147\n",
      "\n"
     ]
    },
    {
     "name": "stdout",
     "output_type": "stream",
     "text": [
      "Epoch 10, Loss 0.1076\n",
      "Training Accuracy: 0.9018, Testing Accuracy: 0.9103\n",
      "\n"
     ]
    },
    {
     "name": "stdout",
     "output_type": "stream",
     "text": [
      "Epoch 20, Loss 0.064\n",
      "Training Accuracy: 0.9318, Testing Accuracy: 0.9420\n",
      "\n"
     ]
    },
    {
     "name": "stdout",
     "output_type": "stream",
     "text": [
      "Epoch 30, Loss 0.0486\n",
      "Training Accuracy: 0.9460, Testing Accuracy: 0.9546\n",
      "\n"
     ]
    },
    {
     "name": "stdout",
     "output_type": "stream",
     "text": [
      "Epoch 40, Loss 0.0411\n",
      "Training Accuracy: 0.9537, Testing Accuracy: 0.9602\n",
      "\n"
     ]
    },
    {
     "name": "stdout",
     "output_type": "stream",
     "text": [
      "Epoch 50, Loss 0.0366\n",
      "Training Accuracy: 0.9579, Testing Accuracy: 0.9637\n",
      "\n"
     ]
    },
    {
     "name": "stdout",
     "output_type": "stream",
     "text": [
      "Epoch 60, Loss 0.0337\n",
      "Training Accuracy: 0.9608, Testing Accuracy: 0.9662\n",
      "\n"
     ]
    },
    {
     "name": "stdout",
     "output_type": "stream",
     "text": [
      "Epoch 70, Loss 0.0315\n",
      "Training Accuracy: 0.9639, Testing Accuracy: 0.9688\n",
      "\n"
     ]
    },
    {
     "name": "stdout",
     "output_type": "stream",
     "text": [
      "Epoch 80, Loss 0.0298\n",
      "Training Accuracy: 0.9658, Testing Accuracy: 0.9703\n",
      "\n"
     ]
    },
    {
     "name": "stdout",
     "output_type": "stream",
     "text": [
      "Epoch 90, Loss 0.0284\n",
      "Training Accuracy: 0.9671, Testing Accuracy: 0.9708\n",
      "\n"
     ]
    },
    {
     "name": "stdout",
     "output_type": "stream",
     "text": [
      "Epoch 100, Loss 0.0272\n",
      "Training Accuracy: 0.9686, Testing Accuracy: 0.9708\n",
      "\n"
     ]
    },
    {
     "name": "stdout",
     "output_type": "stream",
     "text": [
      "Epoch 110, Loss 0.0261\n",
      "Training Accuracy: 0.9695, Testing Accuracy: 0.9713\n",
      "\n"
     ]
    },
    {
     "name": "stdout",
     "output_type": "stream",
     "text": [
      "Epoch 120, Loss 0.0252\n",
      "Training Accuracy: 0.9702, Testing Accuracy: 0.9718\n",
      "\n"
     ]
    },
    {
     "name": "stdout",
     "output_type": "stream",
     "text": [
      "Epoch 130, Loss 0.0244\n",
      "Training Accuracy: 0.9718, Testing Accuracy: 0.9738\n",
      "\n"
     ]
    },
    {
     "name": "stdout",
     "output_type": "stream",
     "text": [
      "Epoch 140, Loss 0.0237\n",
      "Training Accuracy: 0.9721, Testing Accuracy: 0.9743\n",
      "\n"
     ]
    },
    {
     "name": "stdout",
     "output_type": "stream",
     "text": [
      "Epoch 150, Loss 0.023\n",
      "Training Accuracy: 0.9730, Testing Accuracy: 0.9733\n",
      "\n"
     ]
    },
    {
     "name": "stdout",
     "output_type": "stream",
     "text": [
      "Epoch 160, Loss 0.0223\n",
      "Training Accuracy: 0.9737, Testing Accuracy: 0.9738\n",
      "\n"
     ]
    },
    {
     "name": "stdout",
     "output_type": "stream",
     "text": [
      "Epoch 170, Loss 0.0217\n",
      "Training Accuracy: 0.9748, Testing Accuracy: 0.9733\n",
      "\n"
     ]
    },
    {
     "name": "stdout",
     "output_type": "stream",
     "text": [
      "Epoch 180, Loss 0.0212\n",
      "Training Accuracy: 0.9750, Testing Accuracy: 0.9733\n",
      "\n"
     ]
    },
    {
     "name": "stdout",
     "output_type": "stream",
     "text": [
      "Epoch 190, Loss 0.0207\n",
      "Training Accuracy: 0.9762, Testing Accuracy: 0.9733\n",
      "\n"
     ]
    },
    {
     "name": "stdout",
     "output_type": "stream",
     "text": [
      "Epoch 200, Loss 0.0202\n",
      "Training Accuracy: 0.9768, Testing Accuracy: 0.9738\n",
      "\n"
     ]
    },
    {
     "name": "stdout",
     "output_type": "stream",
     "text": [
      "Epoch 210, Loss 0.0197\n",
      "Training Accuracy: 0.9776, Testing Accuracy: 0.9743\n",
      "\n"
     ]
    },
    {
     "name": "stdout",
     "output_type": "stream",
     "text": [
      "Epoch 220, Loss 0.0192\n",
      "Training Accuracy: 0.9781, Testing Accuracy: 0.9748\n",
      "\n"
     ]
    },
    {
     "name": "stdout",
     "output_type": "stream",
     "text": [
      "Epoch 230, Loss 0.0188\n",
      "Training Accuracy: 0.9791, Testing Accuracy: 0.9758\n",
      "\n"
     ]
    },
    {
     "name": "stdout",
     "output_type": "stream",
     "text": [
      "Epoch 240, Loss 0.0184\n",
      "Training Accuracy: 0.9795, Testing Accuracy: 0.9753\n",
      "\n"
     ]
    },
    {
     "name": "stdout",
     "output_type": "stream",
     "text": [
      "Epoch 250, Loss 0.018\n",
      "Training Accuracy: 0.9800, Testing Accuracy: 0.9758\n",
      "\n"
     ]
    },
    {
     "data": {
      "text/plain": [
       "0.00828433059660648"
      ]
     },
     "execution_count": 20,
     "metadata": {},
     "output_type": "execute_result"
    }
   ],
   "source": [
    "print(\"====== Neural Network ======\")\n",
    "learner_nn.train_loop(dl)"
   ]
  },
  {
   "cell_type": "markdown",
   "metadata": {
    "papermill": {
     "duration": 0.041405,
     "end_time": "2020-09-15T10:06:36.791715",
     "exception": false,
     "start_time": "2020-09-15T10:06:36.750310",
     "status": "completed"
    },
    "tags": []
   },
   "source": [
    "### Logistic Regression based Implementation."
   ]
  },
  {
   "cell_type": "code",
   "execution_count": 21,
   "metadata": {
    "execution": {
     "iopub.execute_input": "2020-09-15T10:06:36.876109Z",
     "iopub.status.busy": "2020-09-15T10:06:36.875112Z",
     "iopub.status.idle": "2020-09-15T10:06:36.888814Z",
     "shell.execute_reply": "2020-09-15T10:06:36.888286Z"
    },
    "papermill": {
     "duration": 0.058048,
     "end_time": "2020-09-15T10:06:36.888961",
     "exception": false,
     "start_time": "2020-09-15T10:06:36.830913",
     "status": "completed"
    },
    "tags": []
   },
   "outputs": [],
   "source": [
    "learner_lr = Learner(loss, model_lr, opt, config.num_epochs)\n",
    "acc_lr = ClfCallback(learner_lr, config.bs, training_xdata , testing_xdata, training_ydata, testing_ydata)\n",
    "learner_lr.set_callbacks([acc_lr])"
   ]
  },
  {
   "cell_type": "code",
   "execution_count": 22,
   "metadata": {
    "execution": {
     "iopub.execute_input": "2020-09-15T10:06:36.983023Z",
     "iopub.status.busy": "2020-09-15T10:06:36.981413Z",
     "iopub.status.idle": "2020-09-15T10:06:55.339109Z",
     "shell.execute_reply": "2020-09-15T10:06:55.339638Z"
    },
    "papermill": {
     "duration": 18.412329,
     "end_time": "2020-09-15T10:06:55.339800",
     "exception": false,
     "start_time": "2020-09-15T10:06:36.927471",
     "status": "completed"
    },
    "tags": []
   },
   "outputs": [
    {
     "name": "stdout",
     "output_type": "stream",
     "text": [
      "====== Logistic Regression ======\n",
      "Epoch 0, Loss 0.2635\n",
      "Training Accuracy: 0.6128, Testing Accuracy: 0.6008\n",
      "\n"
     ]
    },
    {
     "name": "stdout",
     "output_type": "stream",
     "text": [
      "Epoch 10, Loss 0.1049\n",
      "Training Accuracy: 0.9098, Testing Accuracy: 0.9224\n",
      "\n"
     ]
    },
    {
     "name": "stdout",
     "output_type": "stream",
     "text": [
      "Epoch 20, Loss 0.0797\n",
      "Training Accuracy: 0.9277, Testing Accuracy: 0.9390\n",
      "\n"
     ]
    },
    {
     "name": "stdout",
     "output_type": "stream",
     "text": [
      "Epoch 30, Loss 0.0684\n",
      "Training Accuracy: 0.9367, Testing Accuracy: 0.9501\n",
      "\n"
     ]
    },
    {
     "name": "stdout",
     "output_type": "stream",
     "text": [
      "Epoch 40, Loss 0.0617\n",
      "Training Accuracy: 0.9410, Testing Accuracy: 0.9536\n",
      "\n"
     ]
    },
    {
     "name": "stdout",
     "output_type": "stream",
     "text": [
      "Epoch 50, Loss 0.0571\n",
      "Training Accuracy: 0.9447, Testing Accuracy: 0.9572\n",
      "\n"
     ]
    },
    {
     "name": "stdout",
     "output_type": "stream",
     "text": [
      "Epoch 60, Loss 0.0538\n",
      "Training Accuracy: 0.9485, Testing Accuracy: 0.9567\n",
      "\n"
     ]
    },
    {
     "name": "stdout",
     "output_type": "stream",
     "text": [
      "Epoch 70, Loss 0.0512\n",
      "Training Accuracy: 0.9496, Testing Accuracy: 0.9587\n",
      "\n"
     ]
    },
    {
     "name": "stdout",
     "output_type": "stream",
     "text": [
      "Epoch 80, Loss 0.0491\n",
      "Training Accuracy: 0.9508, Testing Accuracy: 0.9607\n",
      "\n"
     ]
    },
    {
     "name": "stdout",
     "output_type": "stream",
     "text": [
      "Epoch 90, Loss 0.0474\n",
      "Training Accuracy: 0.9526, Testing Accuracy: 0.9607\n",
      "\n"
     ]
    },
    {
     "name": "stdout",
     "output_type": "stream",
     "text": [
      "Epoch 100, Loss 0.046\n",
      "Training Accuracy: 0.9538, Testing Accuracy: 0.9617\n",
      "\n"
     ]
    },
    {
     "name": "stdout",
     "output_type": "stream",
     "text": [
      "Epoch 110, Loss 0.0448\n",
      "Training Accuracy: 0.9545, Testing Accuracy: 0.9627\n",
      "\n"
     ]
    },
    {
     "name": "stdout",
     "output_type": "stream",
     "text": [
      "Epoch 120, Loss 0.0438\n",
      "Training Accuracy: 0.9553, Testing Accuracy: 0.9627\n",
      "\n"
     ]
    },
    {
     "name": "stdout",
     "output_type": "stream",
     "text": [
      "Epoch 130, Loss 0.0428\n",
      "Training Accuracy: 0.9564, Testing Accuracy: 0.9637\n",
      "\n"
     ]
    },
    {
     "name": "stdout",
     "output_type": "stream",
     "text": [
      "Epoch 140, Loss 0.042\n",
      "Training Accuracy: 0.9569, Testing Accuracy: 0.9642\n",
      "\n"
     ]
    },
    {
     "name": "stdout",
     "output_type": "stream",
     "text": [
      "Epoch 150, Loss 0.0413\n",
      "Training Accuracy: 0.9577, Testing Accuracy: 0.9647\n",
      "\n"
     ]
    },
    {
     "name": "stdout",
     "output_type": "stream",
     "text": [
      "Epoch 160, Loss 0.0406\n",
      "Training Accuracy: 0.9579, Testing Accuracy: 0.9652\n",
      "\n"
     ]
    },
    {
     "name": "stdout",
     "output_type": "stream",
     "text": [
      "Epoch 170, Loss 0.04\n",
      "Training Accuracy: 0.9584, Testing Accuracy: 0.9652\n",
      "\n"
     ]
    },
    {
     "name": "stdout",
     "output_type": "stream",
     "text": [
      "Epoch 180, Loss 0.0394\n",
      "Training Accuracy: 0.9589, Testing Accuracy: 0.9652\n",
      "\n"
     ]
    },
    {
     "name": "stdout",
     "output_type": "stream",
     "text": [
      "Epoch 190, Loss 0.0389\n",
      "Training Accuracy: 0.9590, Testing Accuracy: 0.9652\n",
      "\n"
     ]
    },
    {
     "name": "stdout",
     "output_type": "stream",
     "text": [
      "Epoch 200, Loss 0.0385\n",
      "Training Accuracy: 0.9594, Testing Accuracy: 0.9657\n",
      "\n"
     ]
    },
    {
     "name": "stdout",
     "output_type": "stream",
     "text": [
      "Epoch 210, Loss 0.038\n",
      "Training Accuracy: 0.9598, Testing Accuracy: 0.9667\n",
      "\n"
     ]
    },
    {
     "name": "stdout",
     "output_type": "stream",
     "text": [
      "Epoch 220, Loss 0.0376\n",
      "Training Accuracy: 0.9600, Testing Accuracy: 0.9667\n",
      "\n"
     ]
    },
    {
     "name": "stdout",
     "output_type": "stream",
     "text": [
      "Epoch 230, Loss 0.0372\n",
      "Training Accuracy: 0.9600, Testing Accuracy: 0.9672\n",
      "\n"
     ]
    },
    {
     "name": "stdout",
     "output_type": "stream",
     "text": [
      "Epoch 240, Loss 0.0369\n",
      "Training Accuracy: 0.9606, Testing Accuracy: 0.9667\n",
      "\n"
     ]
    },
    {
     "name": "stdout",
     "output_type": "stream",
     "text": [
      "Epoch 250, Loss 0.0365\n",
      "Training Accuracy: 0.9608, Testing Accuracy: 0.9672\n",
      "\n"
     ]
    },
    {
     "data": {
      "text/plain": [
       "0.02608442918086491"
      ]
     },
     "execution_count": 22,
     "metadata": {},
     "output_type": "execute_result"
    }
   ],
   "source": [
    "print(\"====== Logistic Regression ======\")\n",
    "learner_lr.train_loop(dl)"
   ]
  },
  {
   "cell_type": "markdown",
   "metadata": {
    "papermill": {
     "duration": 0.054159,
     "end_time": "2020-09-15T10:06:55.446779",
     "exception": false,
     "start_time": "2020-09-15T10:06:55.392620",
     "status": "completed"
    },
    "tags": []
   },
   "source": [
    "### Comparing results of NN and LR"
   ]
  },
  {
   "cell_type": "code",
   "execution_count": 23,
   "metadata": {
    "execution": {
     "iopub.execute_input": "2020-09-15T10:06:55.550272Z",
     "iopub.status.busy": "2020-09-15T10:06:55.549606Z",
     "iopub.status.idle": "2020-09-15T10:06:55.803531Z",
     "shell.execute_reply": "2020-09-15T10:06:55.804025Z"
    },
    "papermill": {
     "duration": 0.309026,
     "end_time": "2020-09-15T10:06:55.804248",
     "exception": false,
     "start_time": "2020-09-15T10:06:55.495222",
     "status": "completed"
    },
    "tags": []
   },
   "outputs": [
    {
     "data": {
      "text/plain": [
       "<matplotlib.legend.Legend at 0x7f9926e47278>"
      ]
     },
     "execution_count": 23,
     "metadata": {},
     "output_type": "execute_result"
    },
    {
     "data": {
      "image/png": "[encoded data removed]",
      "text/plain": [
       "<Figure size 1080x720 with 1 Axes>"
      ]
     },
     "metadata": {
      "needs_background": "light"
     },
     "output_type": "display_data"
    }
   ],
   "source": [
    "plt.figure(figsize=(15,10))\n",
    "\n",
    "# Neural Network plots\n",
    "plt.plot(acc_nn.accuracies, 'r-', label = \"Training Accuracies - NN\")\n",
    "plt.plot(acc_nn.test_accuracies, 'g-', label = \"Testing Accuracies - NN\")\n",
    "\n",
    "# Logistic Regression plots\n",
    "plt.plot(acc_lr.accuracies, 'k-', label = \"Training Accuracies - LR\")\n",
    "plt.plot(acc_lr.test_accuracies, 'b-', label = \"Testing Accuracies - LR\")\n",
    "\n",
    "plt.ylim(0.8, 1)\n",
    "\n",
    "plt.legend()\n",
    "\n"
   ]
  },
  {
   "cell_type": "markdown",
   "metadata": {
    "papermill": {
     "duration": 0.049409,
     "end_time": "2020-09-15T10:06:55.902973",
     "exception": false,
     "start_time": "2020-09-15T10:06:55.853564",
     "status": "completed"
    },
    "tags": []
   },
   "source": [
    "### From the plot, we can observe the following:\n",
    "- Neural Network achieves higher accuracy than the Logistic Regression model.\n",
    "- This apparently, is because of overfitting, i.e. NN captures more noise than data.\n",
    "- Testing accuracy of NN drops below the Training accuracy at higher epochs. This explains the over-fitting on training data.\n",
    "- Logistic Regression gives a reliable accuracy, without the above mentioned problem.\n"
   ]
  },
  {
   "cell_type": "markdown",
   "metadata": {
    "papermill": {
     "duration": 0.049056,
     "end_time": "2020-09-15T10:06:56.000659",
     "exception": false,
     "start_time": "2020-09-15T10:06:55.951603",
     "status": "completed"
    },
    "tags": []
   },
   "source": [
    "### Moving till the last but one layer (excluding it).\n",
    "#### Plotting the outputs of this layer of the NN."
   ]
  },
  {
   "cell_type": "code",
   "execution_count": 24,
   "metadata": {
    "execution": {
     "iopub.execute_input": "2020-09-15T10:06:56.107205Z",
     "iopub.status.busy": "2020-09-15T10:06:56.106322Z",
     "iopub.status.idle": "2020-09-15T10:06:56.118788Z",
     "shell.execute_reply": "2020-09-15T10:06:56.119461Z"
    },
    "papermill": {
     "duration": 0.069252,
     "end_time": "2020-09-15T10:06:56.119624",
     "exception": false,
     "start_time": "2020-09-15T10:06:56.050372",
     "status": "completed"
    },
    "tags": []
   },
   "outputs": [],
   "source": [
    "model_new = Model(layers[:-2])"
   ]
  },
  {
   "cell_type": "code",
   "execution_count": 25,
   "metadata": {
    "execution": {
     "iopub.execute_input": "2020-09-15T10:06:56.222275Z",
     "iopub.status.busy": "2020-09-15T10:06:56.221628Z",
     "iopub.status.idle": "2020-09-15T10:06:56.243417Z",
     "shell.execute_reply": "2020-09-15T10:06:56.243948Z"
    },
    "papermill": {
     "duration": 0.07513,
     "end_time": "2020-09-15T10:06:56.244111",
     "exception": false,
     "start_time": "2020-09-15T10:06:56.168981",
     "status": "completed"
    },
    "tags": []
   },
   "outputs": [],
   "source": [
    "plot_testing = model_new(testing_xdata)"
   ]
  },
  {
   "cell_type": "code",
   "execution_count": 26,
   "metadata": {
    "execution": {
     "iopub.execute_input": "2020-09-15T10:06:56.349538Z",
     "iopub.status.busy": "2020-09-15T10:06:56.348931Z",
     "iopub.status.idle": "2020-09-15T10:06:56.581091Z",
     "shell.execute_reply": "2020-09-15T10:06:56.580325Z"
    },
    "papermill": {
     "duration": 0.288091,
     "end_time": "2020-09-15T10:06:56.581242",
     "exception": false,
     "start_time": "2020-09-15T10:06:56.293151",
     "status": "completed"
    },
    "tags": []
   },
   "outputs": [
    {
     "data": {
      "text/plain": [
       "Text(0.5, 1.0, 'Outputs')"
      ]
     },
     "execution_count": 26,
     "metadata": {},
     "output_type": "execute_result"
    },
    {
     "data": {
      "image/png": "[encoded data removed]",
      "text/plain": [
       "<Figure size 576x504 with 1 Axes>"
      ]
     },
     "metadata": {
      "needs_background": "light"
     },
     "output_type": "display_data"
    }
   ],
   "source": [
    "plt.figure(figsize=(8,7))\n",
    "plt.scatter(plot_testing[:,0], plot_testing[:,1], alpha = 0.1, c = y_test.ravel());\n",
    "plt.title('Outputs')"
   ]
  },
  {
   "cell_type": "markdown",
   "metadata": {
    "papermill": {
     "duration": 0.052788,
     "end_time": "2020-09-15T10:06:56.689025",
     "exception": false,
     "start_time": "2020-09-15T10:06:56.636237",
     "status": "completed"
    },
    "tags": []
   },
   "source": [
    "### Plotting probability contours"
   ]
  },
  {
   "cell_type": "code",
   "execution_count": 27,
   "metadata": {
    "execution": {
     "iopub.execute_input": "2020-09-15T10:06:56.806681Z",
     "iopub.status.busy": "2020-09-15T10:06:56.798619Z",
     "iopub.status.idle": "2020-09-15T10:06:56.814333Z",
     "shell.execute_reply": "2020-09-15T10:06:56.813693Z"
    },
    "papermill": {
     "duration": 0.07212,
     "end_time": "2020-09-15T10:06:56.814471",
     "exception": false,
     "start_time": "2020-09-15T10:06:56.742351",
     "status": "completed"
    },
    "tags": []
   },
   "outputs": [],
   "source": [
    "model_prob = Model(layers[-2:]) "
   ]
  },
  {
   "cell_type": "code",
   "execution_count": 28,
   "metadata": {
    "execution": {
     "iopub.execute_input": "2020-09-15T10:06:56.928842Z",
     "iopub.status.busy": "2020-09-15T10:06:56.928175Z",
     "iopub.status.idle": "2020-09-15T10:06:56.942599Z",
     "shell.execute_reply": "2020-09-15T10:06:56.943068Z"
    },
    "papermill": {
     "duration": 0.07424,
     "end_time": "2020-09-15T10:06:56.943224",
     "exception": false,
     "start_time": "2020-09-15T10:06:56.868984",
     "status": "completed"
    },
    "tags": []
   },
   "outputs": [],
   "source": [
    "# Adjust the x and y ranges according to the above generated plot.\n",
    "x_range = np.linspace(-4, 1, 100) \n",
    "y_range = np.linspace(-6, 6, 100) \n",
    "x_grid, y_grid = np.meshgrid(x_range, y_range) # x_grid and y_grig are of size 100 X 100\n",
    "\n",
    "# converting x_grid and y_grid to continuous arrays\n",
    "x_grid_flat = np.ravel(x_grid)\n",
    "y_grid_flat = np.ravel(y_grid)\n",
    "\n",
    "# The last layer of the current model takes two columns as input. Hence transpose of np.vstack() is required.\n",
    "X = np.vstack((x_grid_flat, y_grid_flat)).T\n",
    "\n",
    "# x_grid and y_grid are of size 100 x 100\n",
    "probability_contour = model_prob(X).reshape(100,100) "
   ]
  },
  {
   "cell_type": "code",
   "execution_count": 29,
   "metadata": {
    "execution": {
     "iopub.execute_input": "2020-09-15T10:06:57.059388Z",
     "iopub.status.busy": "2020-09-15T10:06:57.058775Z",
     "iopub.status.idle": "2020-09-15T10:06:57.330702Z",
     "shell.execute_reply": "2020-09-15T10:06:57.330156Z"
    },
    "papermill": {
     "duration": 0.337064,
     "end_time": "2020-09-15T10:06:57.330843",
     "exception": false,
     "start_time": "2020-09-15T10:06:56.993779",
     "status": "completed"
    },
    "tags": []
   },
   "outputs": [
    {
     "data": {
      "image/png": "[encoded data removed]",
      "text/plain": [
       "<Figure size 720x648 with 1 Axes>"
      ]
     },
     "metadata": {
      "needs_background": "light"
     },
     "output_type": "display_data"
    }
   ],
   "source": [
    "plt.figure(figsize=(10,9))\n",
    "plt.scatter(plot_testing[:,0], plot_testing[:,1], alpha = 0.1, c = y_test.ravel())\n",
    "contours = plt.contour(x_grid,y_grid,probability_contour)\n",
    "plt.title('Probability Contours')\n",
    "plt.clabel(contours, inline = True );"
   ]
  }
 ],
 "metadata": {
  "kernelspec": {
   "display_name": "Python 3",
   "language": "python",
   "name": "python3"
  },
  "language_info": {
   "codemirror_mode": {
    "name": "ipython",
    "version": 3
   },
   "file_extension": ".py",
   "mimetype": "text/x-python",
   "name": "python",
   "nbconvert_exporter": "python",
   "pygments_lexer": "ipython3",
   "version": "3.6.12"
  },
  "papermill": {
   "duration": 122.397651,
   "end_time": "2020-09-15T10:06:58.743926",
   "environment_variables": {},
   "exception": null,
   "input_path": "2020-08-11-NeuralNetwork.ipynb",
   "output_path": "2020-08-11-NeuralNetwork.ipynb",
   "parameters": {},
   "start_time": "2020-09-15T10:04:56.346275",
   "version": "2.1.2"
  }
 },
 "nbformat": 4,
 "nbformat_minor": 4
}