{
 "cells": [
  {
   "cell_type": "markdown",
   "metadata": {
    "papermill": {
     "duration": 0.029174,
     "end_time": "2020-10-18T00:07:47.628138",
     "exception": false,
     "start_time": "2020-10-18T00:07:47.598964",
     "status": "completed"
    },
    "tags": []
   },
   "source": [
    "# \"A Basic Neural Network: Differentiate Hand-Written Digits\"\n",
    "\n",
    "- badges: true\n",
    "- author: Akshith Sriram"
   ]
  },
  {
   "cell_type": "markdown",
   "metadata": {
    "papermill": {
     "duration": 0.024488,
     "end_time": "2020-10-18T00:07:47.677993",
     "exception": false,
     "start_time": "2020-10-18T00:07:47.653505",
     "status": "completed"
    },
    "tags": []
   },
   "source": [
    "### Key Objectives:\n",
    "- Building a neural network that differentiates two hand-written digits 3 and 8.\n",
    "- Comparing the results of this Neural Network (NN) to that of a Logistic Regression (LR) model.\n",
    "\n",
    "### Requirements:\n",
    "- 'Kudzu' : A neural network library that was designed during our course by [Univ.AI](www.univ.ai). \n",
    "- MNIST Database\n",
    "\n",
    "If MNIST is not installed, use the command `!pip install mnist` given below.\n",
    "It can be run both from the command line and Jupyter Notebook."
   ]
  },
  {
   "cell_type": "code",
   "execution_count": 1,
   "metadata": {
    "execution": {
     "iopub.execute_input": "2020-10-18T00:07:47.731057Z",
     "iopub.status.busy": "2020-10-18T00:07:47.730482Z",
     "iopub.status.idle": "2020-10-18T00:07:49.277438Z",
     "shell.execute_reply": "2020-10-18T00:07:49.276913Z"
    },
    "papermill": {
     "duration": 1.576774,
     "end_time": "2020-10-18T00:07:49.277579",
     "exception": false,
     "start_time": "2020-10-18T00:07:47.700805",
     "status": "completed"
    },
    "tags": []
   },
   "outputs": [
    {
     "name": "stdout",
     "output_type": "stream",
     "text": [
      "Collecting mnist\r\n"
     ]
    },
    {
     "name": "stdout",
     "output_type": "stream",
     "text": [
      "  Downloading mnist-0.2.2-py2.py3-none-any.whl (3.5 kB)\r\n"
     ]
    },
    {
     "name": "stdout",
     "output_type": "stream",
     "text": [
      "Requirement already satisfied: numpy in /opt/hostedtoolcache/Python/3.6.12/x64/lib/python3.6/site-packages (from mnist) (1.19.2)\r\n"
     ]
    },
    {
     "name": "stdout",
     "output_type": "stream",
     "text": [
      "Installing collected packages: mnist\r\n",
      "Successfully installed mnist-0.2.2\r\n"
     ]
    },
    {
     "name": "stdout",
     "output_type": "stream",
     "text": [
      "\u001b[33mWARNING: You are using pip version 20.2.3; however, version 20.2.4 is available.\r\n",
      "You should consider upgrading via the '/opt/hostedtoolcache/Python/3.6.12/x64/bin/python -m pip install --upgrade pip' command.\u001b[0m\r\n"
     ]
    }
   ],
   "source": [
    "!pip install mnist "
   ]
  },
  {
   "cell_type": "markdown",
   "metadata": {
    "papermill": {
     "duration": 0.026958,
     "end_time": "2020-10-18T00:07:49.330319",
     "exception": false,
     "start_time": "2020-10-18T00:07:49.303361",
     "status": "completed"
    },
    "tags": []
   },
   "source": [
    "#### Importing necessary libraries"
   ]
  },
  {
   "cell_type": "code",
   "execution_count": 2,
   "metadata": {
    "execution": {
     "iopub.execute_input": "2020-10-18T00:07:49.387961Z",
     "iopub.status.busy": "2020-10-18T00:07:49.387218Z",
     "iopub.status.idle": "2020-10-18T00:07:49.969201Z",
     "shell.execute_reply": "2020-10-18T00:07:49.968556Z"
    },
    "papermill": {
     "duration": 0.61406,
     "end_time": "2020-10-18T00:07:49.969373",
     "exception": false,
     "start_time": "2020-10-18T00:07:49.355313",
     "status": "completed"
    },
    "tags": []
   },
   "outputs": [],
   "source": [
    "%load_ext autoreload\n",
    "%autoreload 2\n",
    "\n",
    "%matplotlib inline\n",
    "import matplotlib.pyplot as plt\n",
    "\n",
    "import numpy as np\n",
    "import pandas as pd"
   ]
  },
  {
   "cell_type": "markdown",
   "metadata": {
    "papermill": {
     "duration": 0.031001,
     "end_time": "2020-10-18T00:07:50.026751",
     "exception": false,
     "start_time": "2020-10-18T00:07:49.995750",
     "status": "completed"
    },
    "tags": []
   },
   "source": [
    "### Preparing the Data"
   ]
  },
  {
   "cell_type": "code",
   "execution_count": 3,
   "metadata": {
    "execution": {
     "iopub.execute_input": "2020-10-18T00:07:50.085638Z",
     "iopub.status.busy": "2020-10-18T00:07:50.084830Z",
     "iopub.status.idle": "2020-10-18T00:07:50.096346Z",
     "shell.execute_reply": "2020-10-18T00:07:50.095859Z"
    },
    "papermill": {
     "duration": 0.044954,
     "end_time": "2020-10-18T00:07:50.096475",
     "exception": false,
     "start_time": "2020-10-18T00:07:50.051521",
     "status": "completed"
    },
    "tags": []
   },
   "outputs": [],
   "source": [
    "import mnist"
   ]
  },
  {
   "cell_type": "code",
   "execution_count": 4,
   "metadata": {
    "execution": {
     "iopub.execute_input": "2020-10-18T00:07:50.150380Z",
     "iopub.status.busy": "2020-10-18T00:07:50.149798Z",
     "iopub.status.idle": "2020-10-18T00:07:51.060917Z",
     "shell.execute_reply": "2020-10-18T00:07:51.060323Z"
    },
    "papermill": {
     "duration": 0.939537,
     "end_time": "2020-10-18T00:07:51.061072",
     "exception": false,
     "start_time": "2020-10-18T00:07:50.121535",
     "status": "completed"
    },
    "tags": []
   },
   "outputs": [],
   "source": [
    "train_images = mnist.train_images()\n",
    "train_labels = mnist.train_labels()"
   ]
  },
  {
   "cell_type": "code",
   "execution_count": 5,
   "metadata": {
    "execution": {
     "iopub.execute_input": "2020-10-18T00:07:51.121532Z",
     "iopub.status.busy": "2020-10-18T00:07:51.120900Z",
     "iopub.status.idle": "2020-10-18T00:07:51.135017Z",
     "shell.execute_reply": "2020-10-18T00:07:51.135536Z"
    },
    "papermill": {
     "duration": 0.0452,
     "end_time": "2020-10-18T00:07:51.135683",
     "exception": false,
     "start_time": "2020-10-18T00:07:51.090483",
     "status": "completed"
    },
    "tags": []
   },
   "outputs": [
    {
     "data": {
      "text/plain": [
       "((60000, 28, 28), (60000,))"
      ]
     },
     "execution_count": 5,
     "metadata": {},
     "output_type": "execute_result"
    }
   ],
   "source": [
    "train_images.shape, train_labels.shape"
   ]
  },
  {
   "cell_type": "code",
   "execution_count": 6,
   "metadata": {
    "execution": {
     "iopub.execute_input": "2020-10-18T00:07:51.194326Z",
     "iopub.status.busy": "2020-10-18T00:07:51.193781Z",
     "iopub.status.idle": "2020-10-18T00:07:51.631853Z",
     "shell.execute_reply": "2020-10-18T00:07:51.632514Z"
    },
    "papermill": {
     "duration": 0.472809,
     "end_time": "2020-10-18T00:07:51.632726",
     "exception": false,
     "start_time": "2020-10-18T00:07:51.159917",
     "status": "completed"
    },
    "tags": []
   },
   "outputs": [],
   "source": [
    "test_images = mnist.test_images()\n",
    "test_labels = mnist.test_labels()"
   ]
  },
  {
   "cell_type": "code",
   "execution_count": 7,
   "metadata": {
    "execution": {
     "iopub.execute_input": "2020-10-18T00:07:51.688194Z",
     "iopub.status.busy": "2020-10-18T00:07:51.687541Z",
     "iopub.status.idle": "2020-10-18T00:07:51.700103Z",
     "shell.execute_reply": "2020-10-18T00:07:51.700487Z"
    },
    "papermill": {
     "duration": 0.041023,
     "end_time": "2020-10-18T00:07:51.700616",
     "exception": false,
     "start_time": "2020-10-18T00:07:51.659593",
     "status": "completed"
    },
    "tags": []
   },
   "outputs": [
    {
     "data": {
      "text/plain": [
       "((10000, 28, 28), (10000,))"
      ]
     },
     "execution_count": 7,
     "metadata": {},
     "output_type": "execute_result"
    }
   ],
   "source": [
    "test_images.shape, test_labels.shape"
   ]
  },
  {
   "cell_type": "code",
   "execution_count": 8,
   "metadata": {
    "execution": {
     "iopub.execute_input": "2020-10-18T00:07:51.751794Z",
     "iopub.status.busy": "2020-10-18T00:07:51.751239Z",
     "iopub.status.idle": "2020-10-18T00:07:51.900118Z",
     "shell.execute_reply": "2020-10-18T00:07:51.900584Z"
    },
    "papermill": {
     "duration": 0.176937,
     "end_time": "2020-10-18T00:07:51.900737",
     "exception": false,
     "start_time": "2020-10-18T00:07:51.723800",
     "status": "completed"
    },
    "tags": []
   },
   "outputs": [
    {
     "name": "stdout",
     "output_type": "stream",
     "text": [
      "2\n"
     ]
    },
    {
     "data": {
      "text/plain": [
       "<matplotlib.image.AxesImage at 0x7fd469202940>"
      ]
     },
     "execution_count": 8,
     "metadata": {},
     "output_type": "execute_result"
    },
    {
     "data": {
      "image/png": "[encoded data removed]",
      "text/plain": [
       "<Figure size 432x288 with 1 Axes>"
      ]
     },
     "metadata": {
      "needs_background": "light"
     },
     "output_type": "display_data"
    }
   ],
   "source": [
    "image_index = 7776 # You may select anything up to 60,000\n",
    "print(train_labels[image_index]) \n",
    "plt.imshow(train_images[image_index], cmap='Greys')"
   ]
  },
  {
   "cell_type": "markdown",
   "metadata": {
    "papermill": {
     "duration": 0.725018,
     "end_time": "2020-10-18T00:07:52.655557",
     "exception": false,
     "start_time": "2020-10-18T00:07:51.930539",
     "status": "completed"
    },
    "tags": []
   },
   "source": [
    "## Filter data to get 3 and 8 out"
   ]
  },
  {
   "cell_type": "code",
   "execution_count": 9,
   "metadata": {
    "execution": {
     "iopub.execute_input": "2020-10-18T00:07:52.722410Z",
     "iopub.status.busy": "2020-10-18T00:07:52.721878Z",
     "iopub.status.idle": "2020-10-18T00:07:52.737891Z",
     "shell.execute_reply": "2020-10-18T00:07:52.737334Z"
    },
    "papermill": {
     "duration": 0.054621,
     "end_time": "2020-10-18T00:07:52.738041",
     "exception": false,
     "start_time": "2020-10-18T00:07:52.683420",
     "status": "completed"
    },
    "tags": []
   },
   "outputs": [],
   "source": [
    "train_filter = np.where((train_labels == 3 ) | (train_labels == 8))\n",
    "test_filter = np.where((test_labels == 3) | (test_labels == 8))\n",
    "X_train, y_train = train_images[train_filter], train_labels[train_filter]\n",
    "X_test, y_test = test_images[test_filter], test_labels[test_filter]"
   ]
  },
  {
   "cell_type": "markdown",
   "metadata": {
    "papermill": {
     "duration": 0.030522,
     "end_time": "2020-10-18T00:07:52.797685",
     "exception": false,
     "start_time": "2020-10-18T00:07:52.767163",
     "status": "completed"
    },
    "tags": []
   },
   "source": [
    "We normalize the pixel values in the 0 to 1 range"
   ]
  },
  {
   "cell_type": "code",
   "execution_count": 10,
   "metadata": {
    "execution": {
     "iopub.execute_input": "2020-10-18T00:07:52.868856Z",
     "iopub.status.busy": "2020-10-18T00:07:52.862040Z",
     "iopub.status.idle": "2020-10-18T00:07:52.910679Z",
     "shell.execute_reply": "2020-10-18T00:07:52.910057Z"
    },
    "papermill": {
     "duration": 0.086878,
     "end_time": "2020-10-18T00:07:52.910852",
     "exception": false,
     "start_time": "2020-10-18T00:07:52.823974",
     "status": "completed"
    },
    "tags": []
   },
   "outputs": [],
   "source": [
    "X_train = X_train/255.\n",
    "X_test = X_test/255."
   ]
  },
  {
   "cell_type": "markdown",
   "metadata": {
    "papermill": {
     "duration": 0.027777,
     "end_time": "2020-10-18T00:07:52.966121",
     "exception": false,
     "start_time": "2020-10-18T00:07:52.938344",
     "status": "completed"
    },
    "tags": []
   },
   "source": [
    "Setup the labels as 1 (when the digit is 3) and 0 (when the digit is 8)"
   ]
  },
  {
   "cell_type": "code",
   "execution_count": 11,
   "metadata": {
    "execution": {
     "iopub.execute_input": "2020-10-18T00:07:53.030842Z",
     "iopub.status.busy": "2020-10-18T00:07:53.030236Z",
     "iopub.status.idle": "2020-10-18T00:07:53.039848Z",
     "shell.execute_reply": "2020-10-18T00:07:53.039337Z"
    },
    "papermill": {
     "duration": 0.045934,
     "end_time": "2020-10-18T00:07:53.039980",
     "exception": false,
     "start_time": "2020-10-18T00:07:52.994046",
     "status": "completed"
    },
    "tags": []
   },
   "outputs": [],
   "source": [
    "y_train = 1*(y_train==3)\n",
    "y_test = 1*(y_test==3)"
   ]
  },
  {
   "cell_type": "code",
   "execution_count": 12,
   "metadata": {
    "execution": {
     "iopub.execute_input": "2020-10-18T00:07:53.100075Z",
     "iopub.status.busy": "2020-10-18T00:07:53.099466Z",
     "iopub.status.idle": "2020-10-18T00:07:53.114769Z",
     "shell.execute_reply": "2020-10-18T00:07:53.114254Z"
    },
    "papermill": {
     "duration": 0.046593,
     "end_time": "2020-10-18T00:07:53.114907",
     "exception": false,
     "start_time": "2020-10-18T00:07:53.068314",
     "status": "completed"
    },
    "tags": []
   },
   "outputs": [
    {
     "data": {
      "text/plain": [
       "((11982, 28, 28), (1984, 28, 28))"
      ]
     },
     "execution_count": 12,
     "metadata": {},
     "output_type": "execute_result"
    }
   ],
   "source": [
    "X_train.shape, X_test.shape"
   ]
  },
  {
   "cell_type": "markdown",
   "metadata": {
    "papermill": {
     "duration": 0.02775,
     "end_time": "2020-10-18T00:07:53.170355",
     "exception": false,
     "start_time": "2020-10-18T00:07:53.142605",
     "status": "completed"
    },
    "tags": []
   },
   "source": [
    "### Reshape the input data to create a linear array"
   ]
  },
  {
   "cell_type": "code",
   "execution_count": 13,
   "metadata": {
    "execution": {
     "iopub.execute_input": "2020-10-18T00:07:53.233427Z",
     "iopub.status.busy": "2020-10-18T00:07:53.232801Z",
     "iopub.status.idle": "2020-10-18T00:07:53.245824Z",
     "shell.execute_reply": "2020-10-18T00:07:53.245352Z"
    },
    "papermill": {
     "duration": 0.048473,
     "end_time": "2020-10-18T00:07:53.245945",
     "exception": false,
     "start_time": "2020-10-18T00:07:53.197472",
     "status": "completed"
    },
    "tags": []
   },
   "outputs": [
    {
     "data": {
      "text/plain": [
       "((11982, 784), (1984, 784))"
      ]
     },
     "execution_count": 13,
     "metadata": {},
     "output_type": "execute_result"
    }
   ],
   "source": [
    "X_train = X_train.reshape(X_train.shape[0], -1)\n",
    "X_test = X_test.reshape(X_test.shape[0], -1)\n",
    "X_train.shape, X_test.shape"
   ]
  },
  {
   "cell_type": "markdown",
   "metadata": {
    "papermill": {
     "duration": 0.028997,
     "end_time": "2020-10-18T00:07:53.303134",
     "exception": false,
     "start_time": "2020-10-18T00:07:53.274137",
     "status": "completed"
    },
    "tags": []
   },
   "source": [
    "### Importing appropriate functions from 'Kudzu'"
   ]
  },
  {
   "cell_type": "code",
   "execution_count": 14,
   "metadata": {
    "execution": {
     "iopub.execute_input": "2020-10-18T00:07:53.379689Z",
     "iopub.status.busy": "2020-10-18T00:07:53.369891Z",
     "iopub.status.idle": "2020-10-18T00:07:53.388312Z",
     "shell.execute_reply": "2020-10-18T00:07:53.387787Z"
    },
    "papermill": {
     "duration": 0.056853,
     "end_time": "2020-10-18T00:07:53.388440",
     "exception": false,
     "start_time": "2020-10-18T00:07:53.331587",
     "status": "completed"
    },
    "tags": []
   },
   "outputs": [],
   "source": [
    "from kudzu.layer import Sigmoid\n",
    "from kudzu.layer import Relu\n",
    "from kudzu.layer import Affine, Sigmoid\n",
    "\n",
    "from kudzu.model import Model\n",
    "from kudzu.train import Learner\n",
    "from kudzu.optim import GD\n",
    "from kudzu.data import Data, Dataloader, Sampler\n",
    "\n",
    "from kudzu.callbacks import AccCallback\n",
    "from kudzu.callbacks import ClfCallback\n",
    "\n",
    "from kudzu.loss import MSE"
   ]
  },
  {
   "cell_type": "markdown",
   "metadata": {
    "papermill": {
     "duration": 0.028133,
     "end_time": "2020-10-18T00:07:53.442609",
     "exception": false,
     "start_time": "2020-10-18T00:07:53.414476",
     "status": "completed"
    },
    "tags": []
   },
   "source": [
    "### Let us create a `Config` class, to store important parameters. \n",
    "This class essentially plays the role of a dictionary."
   ]
  },
  {
   "cell_type": "code",
   "execution_count": 15,
   "metadata": {
    "execution": {
     "iopub.execute_input": "2020-10-18T00:07:53.507485Z",
     "iopub.status.busy": "2020-10-18T00:07:53.506866Z",
     "iopub.status.idle": "2020-10-18T00:07:53.519573Z",
     "shell.execute_reply": "2020-10-18T00:07:53.519037Z"
    },
    "papermill": {
     "duration": 0.047904,
     "end_time": "2020-10-18T00:07:53.519704",
     "exception": false,
     "start_time": "2020-10-18T00:07:53.471800",
     "status": "completed"
    },
    "tags": []
   },
   "outputs": [],
   "source": [
    "class Config:\n",
    "    pass\n",
    "config = Config()\n",
    "config.lr = 0.001\n",
    "config.num_epochs = 251\n",
    "config.bs = 50"
   ]
  },
  {
   "cell_type": "markdown",
   "metadata": {
    "papermill": {
     "duration": 0.025331,
     "end_time": "2020-10-18T00:07:53.571378",
     "exception": false,
     "start_time": "2020-10-18T00:07:53.546047",
     "status": "completed"
    },
    "tags": []
   },
   "source": [
    "### Initializing data to the variables"
   ]
  },
  {
   "cell_type": "code",
   "execution_count": 16,
   "metadata": {
    "execution": {
     "iopub.execute_input": "2020-10-18T00:07:53.635035Z",
     "iopub.status.busy": "2020-10-18T00:07:53.634441Z",
     "iopub.status.idle": "2020-10-18T00:07:53.648361Z",
     "shell.execute_reply": "2020-10-18T00:07:53.647804Z"
    },
    "papermill": {
     "duration": 0.049454,
     "end_time": "2020-10-18T00:07:53.648499",
     "exception": false,
     "start_time": "2020-10-18T00:07:53.599045",
     "status": "completed"
    },
    "tags": []
   },
   "outputs": [],
   "source": [
    "data = Data(X_train, y_train.reshape(-1,1))\n",
    "sampler = Sampler(data, config.bs, shuffle=True)\n",
    "\n",
    "dl = Dataloader(data, sampler)\n",
    "\n",
    "opt = GD(config.lr)\n",
    "loss = MSE()"
   ]
  },
  {
   "cell_type": "code",
   "execution_count": 17,
   "metadata": {
    "execution": {
     "iopub.execute_input": "2020-10-18T00:07:53.708299Z",
     "iopub.status.busy": "2020-10-18T00:07:53.707675Z",
     "iopub.status.idle": "2020-10-18T00:07:53.719209Z",
     "shell.execute_reply": "2020-10-18T00:07:53.719703Z"
    },
    "papermill": {
     "duration": 0.043418,
     "end_time": "2020-10-18T00:07:53.719848",
     "exception": false,
     "start_time": "2020-10-18T00:07:53.676430",
     "status": "completed"
    },
    "tags": []
   },
   "outputs": [],
   "source": [
    "training_xdata = X_train\n",
    "testing_xdata = X_test\n",
    "training_ydata = y_train.reshape(-1,1)\n",
    "testing_ydata = y_test.reshape(-1,1)"
   ]
  },
  {
   "cell_type": "markdown",
   "metadata": {
    "papermill": {
     "duration": 0.02784,
     "end_time": "2020-10-18T00:07:53.774464",
     "exception": false,
     "start_time": "2020-10-18T00:07:53.746624",
     "status": "completed"
    },
    "tags": []
   },
   "source": [
    "### Running Models with the Training data\n",
    "Details about the network layers:\n",
    "- A first affine layer has 784 inputs and does 100 affine transforms. These are followed by a Relu\n",
    "- A second affine layer has 100 inputs from the 100 activations of the past layer, and does 100 affine transforms. These are followed by a Relu\n",
    "- A third affine layer has 100 activations and does 2 affine transformations to create an embedding for visualization. There is no non-linearity here.\n",
    "- A final \"logistic regression\" which has an affine transform from 2 inputs to 1 output, which is squeezed through a sigmoid.\n",
    "\n",
    "Help taken from Anshuman's Notebook."
   ]
  },
  {
   "cell_type": "code",
   "execution_count": 18,
   "metadata": {
    "execution": {
     "iopub.execute_input": "2020-10-18T00:07:53.838289Z",
     "iopub.status.busy": "2020-10-18T00:07:53.837676Z",
     "iopub.status.idle": "2020-10-18T00:07:53.858117Z",
     "shell.execute_reply": "2020-10-18T00:07:53.857581Z"
    },
    "papermill": {
     "duration": 0.056528,
     "end_time": "2020-10-18T00:07:53.858257",
     "exception": false,
     "start_time": "2020-10-18T00:07:53.801729",
     "status": "completed"
    },
    "tags": []
   },
   "outputs": [],
   "source": [
    "# layers for the Neural Network\n",
    "layers = [Affine(\"first\", 784, 100), Relu(\"first\"), Affine(\"second\", 100, 100), Relu(\"second\"), Affine(\"third\", 100, 2), Affine(\"final\", 2, 1), Sigmoid(\"final\")]\n",
    "model_nn = Model(layers)\n",
    "\n",
    "# layers for the Logistic Regression\n",
    "layers_lr = [Affine(\"logits\", 784, 1), Sigmoid(\"sigmoid\")]\n",
    "model_lr = Model(layers_lr)"
   ]
  },
  {
   "cell_type": "code",
   "execution_count": 19,
   "metadata": {
    "execution": {
     "iopub.execute_input": "2020-10-18T00:07:53.922883Z",
     "iopub.status.busy": "2020-10-18T00:07:53.922387Z",
     "iopub.status.idle": "2020-10-18T00:07:53.935452Z",
     "shell.execute_reply": "2020-10-18T00:07:53.936130Z"
    },
    "papermill": {
     "duration": 0.048623,
     "end_time": "2020-10-18T00:07:53.936288",
     "exception": false,
     "start_time": "2020-10-18T00:07:53.887665",
     "status": "completed"
    },
    "tags": []
   },
   "outputs": [],
   "source": [
    "# suffix _nn stands for Neural Network.\n",
    "learner_nn = Learner(loss, model_nn, opt, config.num_epochs)\n",
    "acc_nn = ClfCallback(learner_nn, config.bs, training_xdata , testing_xdata, training_ydata, testing_ydata)\n",
    "learner_nn.set_callbacks([acc_nn])"
   ]
  },
  {
   "cell_type": "code",
   "execution_count": 20,
   "metadata": {
    "execution": {
     "iopub.execute_input": "2020-10-18T00:07:53.999509Z",
     "iopub.status.busy": "2020-10-18T00:07:53.998924Z",
     "iopub.status.idle": "2020-10-18T00:09:20.630575Z",
     "shell.execute_reply": "2020-10-18T00:09:20.631354Z"
    },
    "papermill": {
     "duration": 86.668714,
     "end_time": "2020-10-18T00:09:20.631517",
     "exception": false,
     "start_time": "2020-10-18T00:07:53.962803",
     "status": "completed"
    },
    "tags": []
   },
   "outputs": [
    {
     "name": "stdout",
     "output_type": "stream",
     "text": [
      "====== Neural Network ======\n"
     ]
    },
    {
     "name": "stdout",
     "output_type": "stream",
     "text": [
      "Epoch 0, Loss 0.2644\n",
      "Training Accuracy: 0.5376, Testing Accuracy: 0.5544\n",
      "\n"
     ]
    },
    {
     "name": "stdout",
     "output_type": "stream",
     "text": [
      "Epoch 10, Loss 0.0951\n",
      "Training Accuracy: 0.9159, Testing Accuracy: 0.9209\n",
      "\n"
     ]
    },
    {
     "name": "stdout",
     "output_type": "stream",
     "text": [
      "Epoch 20, Loss 0.0572\n",
      "Training Accuracy: 0.9420, Testing Accuracy: 0.9491\n",
      "\n"
     ]
    },
    {
     "name": "stdout",
     "output_type": "stream",
     "text": [
      "Epoch 30, Loss 0.0449\n",
      "Training Accuracy: 0.9516, Testing Accuracy: 0.9567\n",
      "\n"
     ]
    },
    {
     "name": "stdout",
     "output_type": "stream",
     "text": [
      "Epoch 40, Loss 0.0389\n",
      "Training Accuracy: 0.9569, Testing Accuracy: 0.9592\n",
      "\n"
     ]
    },
    {
     "name": "stdout",
     "output_type": "stream",
     "text": [
      "Epoch 50, Loss 0.0353\n",
      "Training Accuracy: 0.9600, Testing Accuracy: 0.9607\n",
      "\n"
     ]
    },
    {
     "name": "stdout",
     "output_type": "stream",
     "text": [
      "Epoch 60, Loss 0.0328\n",
      "Training Accuracy: 0.9629, Testing Accuracy: 0.9617\n",
      "\n"
     ]
    },
    {
     "name": "stdout",
     "output_type": "stream",
     "text": [
      "Epoch 70, Loss 0.031\n",
      "Training Accuracy: 0.9644, Testing Accuracy: 0.9652\n",
      "\n"
     ]
    },
    {
     "name": "stdout",
     "output_type": "stream",
     "text": [
      "Epoch 80, Loss 0.0295\n",
      "Training Accuracy: 0.9667, Testing Accuracy: 0.9667\n",
      "\n"
     ]
    },
    {
     "name": "stdout",
     "output_type": "stream",
     "text": [
      "Epoch 90, Loss 0.0283\n",
      "Training Accuracy: 0.9680, Testing Accuracy: 0.9672\n",
      "\n"
     ]
    },
    {
     "name": "stdout",
     "output_type": "stream",
     "text": [
      "Epoch 100, Loss 0.0273\n",
      "Training Accuracy: 0.9690, Testing Accuracy: 0.9677\n",
      "\n"
     ]
    },
    {
     "name": "stdout",
     "output_type": "stream",
     "text": [
      "Epoch 110, Loss 0.0264\n",
      "Training Accuracy: 0.9700, Testing Accuracy: 0.9677\n",
      "\n"
     ]
    },
    {
     "name": "stdout",
     "output_type": "stream",
     "text": [
      "Epoch 120, Loss 0.0257\n",
      "Training Accuracy: 0.9707, Testing Accuracy: 0.9672\n",
      "\n"
     ]
    },
    {
     "name": "stdout",
     "output_type": "stream",
     "text": [
      "Epoch 130, Loss 0.025\n",
      "Training Accuracy: 0.9715, Testing Accuracy: 0.9677\n",
      "\n"
     ]
    },
    {
     "name": "stdout",
     "output_type": "stream",
     "text": [
      "Epoch 140, Loss 0.0244\n",
      "Training Accuracy: 0.9723, Testing Accuracy: 0.9688\n",
      "\n"
     ]
    },
    {
     "name": "stdout",
     "output_type": "stream",
     "text": [
      "Epoch 150, Loss 0.0238\n",
      "Training Accuracy: 0.9727, Testing Accuracy: 0.9698\n",
      "\n"
     ]
    },
    {
     "name": "stdout",
     "output_type": "stream",
     "text": [
      "Epoch 160, Loss 0.0233\n",
      "Training Accuracy: 0.9735, Testing Accuracy: 0.9703\n",
      "\n"
     ]
    },
    {
     "name": "stdout",
     "output_type": "stream",
     "text": [
      "Epoch 170, Loss 0.0228\n",
      "Training Accuracy: 0.9744, Testing Accuracy: 0.9703\n",
      "\n"
     ]
    },
    {
     "name": "stdout",
     "output_type": "stream",
     "text": [
      "Epoch 180, Loss 0.0223\n",
      "Training Accuracy: 0.9753, Testing Accuracy: 0.9708\n",
      "\n"
     ]
    },
    {
     "name": "stdout",
     "output_type": "stream",
     "text": [
      "Epoch 190, Loss 0.0218\n",
      "Training Accuracy: 0.9759, Testing Accuracy: 0.9718\n",
      "\n"
     ]
    },
    {
     "name": "stdout",
     "output_type": "stream",
     "text": [
      "Epoch 200, Loss 0.0214\n",
      "Training Accuracy: 0.9762, Testing Accuracy: 0.9723\n",
      "\n"
     ]
    },
    {
     "name": "stdout",
     "output_type": "stream",
     "text": [
      "Epoch 210, Loss 0.021\n",
      "Training Accuracy: 0.9765, Testing Accuracy: 0.9723\n",
      "\n"
     ]
    },
    {
     "name": "stdout",
     "output_type": "stream",
     "text": [
      "Epoch 220, Loss 0.0206\n",
      "Training Accuracy: 0.9766, Testing Accuracy: 0.9713\n",
      "\n"
     ]
    },
    {
     "name": "stdout",
     "output_type": "stream",
     "text": [
      "Epoch 230, Loss 0.0202\n",
      "Training Accuracy: 0.9771, Testing Accuracy: 0.9718\n",
      "\n"
     ]
    },
    {
     "name": "stdout",
     "output_type": "stream",
     "text": [
      "Epoch 240, Loss 0.0198\n",
      "Training Accuracy: 0.9779, Testing Accuracy: 0.9713\n",
      "\n"
     ]
    },
    {
     "name": "stdout",
     "output_type": "stream",
     "text": [
      "Epoch 250, Loss 0.0195\n",
      "Training Accuracy: 0.9781, Testing Accuracy: 0.9723\n",
      "\n"
     ]
    },
    {
     "data": {
      "text/plain": [
       "0.00851584287274271"
      ]
     },
     "execution_count": 20,
     "metadata": {},
     "output_type": "execute_result"
    }
   ],
   "source": [
    "print(\"====== Neural Network ======\")\n",
    "learner_nn.train_loop(dl)"
   ]
  },
  {
   "cell_type": "markdown",
   "metadata": {
    "papermill": {
     "duration": 0.037317,
     "end_time": "2020-10-18T00:09:20.705892",
     "exception": false,
     "start_time": "2020-10-18T00:09:20.668575",
     "status": "completed"
    },
    "tags": []
   },
   "source": [
    "### Logistic Regression based Implementation."
   ]
  },
  {
   "cell_type": "code",
   "execution_count": 21,
   "metadata": {
    "execution": {
     "iopub.execute_input": "2020-10-18T00:09:20.783098Z",
     "iopub.status.busy": "2020-10-18T00:09:20.782029Z",
     "iopub.status.idle": "2020-10-18T00:09:20.794715Z",
     "shell.execute_reply": "2020-10-18T00:09:20.794233Z"
    },
    "papermill": {
     "duration": 0.053639,
     "end_time": "2020-10-18T00:09:20.794830",
     "exception": false,
     "start_time": "2020-10-18T00:09:20.741191",
     "status": "completed"
    },
    "tags": []
   },
   "outputs": [],
   "source": [
    "learner_lr = Learner(loss, model_lr, opt, config.num_epochs)\n",
    "acc_lr = ClfCallback(learner_lr, config.bs, training_xdata , testing_xdata, training_ydata, testing_ydata)\n",
    "learner_lr.set_callbacks([acc_lr])"
   ]
  },
  {
   "cell_type": "code",
   "execution_count": 22,
   "metadata": {
    "execution": {
     "iopub.execute_input": "2020-10-18T00:09:20.869373Z",
     "iopub.status.busy": "2020-10-18T00:09:20.868398Z",
     "iopub.status.idle": "2020-10-18T00:09:37.995118Z",
     "shell.execute_reply": "2020-10-18T00:09:37.994635Z"
    },
    "papermill": {
     "duration": 17.164535,
     "end_time": "2020-10-18T00:09:37.995250",
     "exception": false,
     "start_time": "2020-10-18T00:09:20.830715",
     "status": "completed"
    },
    "tags": []
   },
   "outputs": [
    {
     "name": "stdout",
     "output_type": "stream",
     "text": [
      "====== Logistic Regression ======\n",
      "Epoch 0, Loss 0.2586\n",
      "Training Accuracy: 0.5740, Testing Accuracy: 0.5650\n",
      "\n"
     ]
    },
    {
     "name": "stdout",
     "output_type": "stream",
     "text": [
      "Epoch 10, Loss 0.1117\n",
      "Training Accuracy: 0.8872, Testing Accuracy: 0.8977\n",
      "\n"
     ]
    },
    {
     "name": "stdout",
     "output_type": "stream",
     "text": [
      "Epoch 20, Loss 0.0845\n",
      "Training Accuracy: 0.9169, Testing Accuracy: 0.9229\n",
      "\n"
     ]
    },
    {
     "name": "stdout",
     "output_type": "stream",
     "text": [
      "Epoch 30, Loss 0.0719\n",
      "Training Accuracy: 0.9296, Testing Accuracy: 0.9375\n",
      "\n"
     ]
    },
    {
     "name": "stdout",
     "output_type": "stream",
     "text": [
      "Epoch 40, Loss 0.0644\n",
      "Training Accuracy: 0.9362, Testing Accuracy: 0.9456\n",
      "\n"
     ]
    },
    {
     "name": "stdout",
     "output_type": "stream",
     "text": [
      "Epoch 50, Loss 0.0594\n",
      "Training Accuracy: 0.9404, Testing Accuracy: 0.9506\n",
      "\n"
     ]
    },
    {
     "name": "stdout",
     "output_type": "stream",
     "text": [
      "Epoch 60, Loss 0.0557\n",
      "Training Accuracy: 0.9431, Testing Accuracy: 0.9556\n",
      "\n"
     ]
    },
    {
     "name": "stdout",
     "output_type": "stream",
     "text": [
      "Epoch 70, Loss 0.0529\n",
      "Training Accuracy: 0.9468, Testing Accuracy: 0.9567\n",
      "\n"
     ]
    },
    {
     "name": "stdout",
     "output_type": "stream",
     "text": [
      "Epoch 80, Loss 0.0506\n",
      "Training Accuracy: 0.9483, Testing Accuracy: 0.9577\n",
      "\n"
     ]
    },
    {
     "name": "stdout",
     "output_type": "stream",
     "text": [
      "Epoch 90, Loss 0.0488\n",
      "Training Accuracy: 0.9499, Testing Accuracy: 0.9577\n",
      "\n"
     ]
    },
    {
     "name": "stdout",
     "output_type": "stream",
     "text": [
      "Epoch 100, Loss 0.0473\n",
      "Training Accuracy: 0.9513, Testing Accuracy: 0.9597\n",
      "\n"
     ]
    },
    {
     "name": "stdout",
     "output_type": "stream",
     "text": [
      "Epoch 110, Loss 0.046\n",
      "Training Accuracy: 0.9520, Testing Accuracy: 0.9607\n",
      "\n"
     ]
    },
    {
     "name": "stdout",
     "output_type": "stream",
     "text": [
      "Epoch 120, Loss 0.0448\n",
      "Training Accuracy: 0.9536, Testing Accuracy: 0.9607\n",
      "\n"
     ]
    },
    {
     "name": "stdout",
     "output_type": "stream",
     "text": [
      "Epoch 130, Loss 0.0438\n",
      "Training Accuracy: 0.9549, Testing Accuracy: 0.9617\n",
      "\n"
     ]
    },
    {
     "name": "stdout",
     "output_type": "stream",
     "text": [
      "Epoch 140, Loss 0.0429\n",
      "Training Accuracy: 0.9554, Testing Accuracy: 0.9617\n",
      "\n"
     ]
    },
    {
     "name": "stdout",
     "output_type": "stream",
     "text": [
      "Epoch 150, Loss 0.0421\n",
      "Training Accuracy: 0.9561, Testing Accuracy: 0.9627\n",
      "\n"
     ]
    },
    {
     "name": "stdout",
     "output_type": "stream",
     "text": [
      "Epoch 160, Loss 0.0414\n",
      "Training Accuracy: 0.9566, Testing Accuracy: 0.9647\n",
      "\n"
     ]
    },
    {
     "name": "stdout",
     "output_type": "stream",
     "text": [
      "Epoch 170, Loss 0.0408\n",
      "Training Accuracy: 0.9573, Testing Accuracy: 0.9652\n",
      "\n"
     ]
    },
    {
     "name": "stdout",
     "output_type": "stream",
     "text": [
      "Epoch 180, Loss 0.0402\n",
      "Training Accuracy: 0.9579, Testing Accuracy: 0.9657\n",
      "\n"
     ]
    },
    {
     "name": "stdout",
     "output_type": "stream",
     "text": [
      "Epoch 190, Loss 0.0396\n",
      "Training Accuracy: 0.9581, Testing Accuracy: 0.9662\n",
      "\n"
     ]
    },
    {
     "name": "stdout",
     "output_type": "stream",
     "text": [
      "Epoch 200, Loss 0.0391\n",
      "Training Accuracy: 0.9583, Testing Accuracy: 0.9657\n",
      "\n"
     ]
    },
    {
     "name": "stdout",
     "output_type": "stream",
     "text": [
      "Epoch 210, Loss 0.0386\n",
      "Training Accuracy: 0.9588, Testing Accuracy: 0.9662\n",
      "\n"
     ]
    },
    {
     "name": "stdout",
     "output_type": "stream",
     "text": [
      "Epoch 220, Loss 0.0382\n",
      "Training Accuracy: 0.9589, Testing Accuracy: 0.9662\n",
      "\n"
     ]
    },
    {
     "name": "stdout",
     "output_type": "stream",
     "text": [
      "Epoch 230, Loss 0.0378\n",
      "Training Accuracy: 0.9593, Testing Accuracy: 0.9662\n",
      "\n"
     ]
    },
    {
     "name": "stdout",
     "output_type": "stream",
     "text": [
      "Epoch 240, Loss 0.0374\n",
      "Training Accuracy: 0.9595, Testing Accuracy: 0.9667\n",
      "\n"
     ]
    },
    {
     "name": "stdout",
     "output_type": "stream",
     "text": [
      "Epoch 250, Loss 0.037\n",
      "Training Accuracy: 0.9596, Testing Accuracy: 0.9672\n",
      "\n"
     ]
    },
    {
     "data": {
      "text/plain": [
       "0.01847443767184037"
      ]
     },
     "execution_count": 22,
     "metadata": {},
     "output_type": "execute_result"
    }
   ],
   "source": [
    "print(\"====== Logistic Regression ======\")\n",
    "learner_lr.train_loop(dl)"
   ]
  },
  {
   "cell_type": "markdown",
   "metadata": {
    "papermill": {
     "duration": 0.044874,
     "end_time": "2020-10-18T00:09:38.083665",
     "exception": false,
     "start_time": "2020-10-18T00:09:38.038791",
     "status": "completed"
    },
    "tags": []
   },
   "source": [
    "### Comparing results of NN and LR"
   ]
  },
  {
   "cell_type": "code",
   "execution_count": 23,
   "metadata": {
    "execution": {
     "iopub.execute_input": "2020-10-18T00:09:38.177186Z",
     "iopub.status.busy": "2020-10-18T00:09:38.176680Z",
     "iopub.status.idle": "2020-10-18T00:09:38.421520Z",
     "shell.execute_reply": "2020-10-18T00:09:38.421006Z"
    },
    "papermill": {
     "duration": 0.296265,
     "end_time": "2020-10-18T00:09:38.421659",
     "exception": false,
     "start_time": "2020-10-18T00:09:38.125394",
     "status": "completed"
    },
    "tags": []
   },
   "outputs": [
    {
     "data": {
      "text/plain": [
       "<matplotlib.legend.Legend at 0x7fd466d632e8>"
      ]
     },
     "execution_count": 23,
     "metadata": {},
     "output_type": "execute_result"
    },
    {
     "data": {
      "image/png": "[encoded data removed]",
      "text/plain": [
       "<Figure size 1080x720 with 1 Axes>"
      ]
     },
     "metadata": {
      "needs_background": "light"
     },
     "output_type": "display_data"
    }
   ],
   "source": [
    "plt.figure(figsize=(15,10))\n",
    "\n",
    "# Neural Network plots\n",
    "plt.plot(acc_nn.accuracies, 'r-', label = \"Training Accuracies - NN\")\n",
    "plt.plot(acc_nn.test_accuracies, 'g-', label = \"Testing Accuracies - NN\")\n",
    "\n",
    "# Logistic Regression plots\n",
    "plt.plot(acc_lr.accuracies, 'k-', label = \"Training Accuracies - LR\")\n",
    "plt.plot(acc_lr.test_accuracies, 'b-', label = \"Testing Accuracies - LR\")\n",
    "\n",
    "plt.ylim(0.8, 1)\n",
    "\n",
    "plt.legend()\n",
    "\n"
   ]
  },
  {
   "cell_type": "markdown",
   "metadata": {
    "papermill": {
     "duration": 0.048104,
     "end_time": "2020-10-18T00:09:38.513451",
     "exception": false,
     "start_time": "2020-10-18T00:09:38.465347",
     "status": "completed"
    },
    "tags": []
   },
   "source": [
    "### From the plot, we can observe the following:\n",
    "- Neural Network achieves higher accuracy than the Logistic Regression model.\n",
    "- This apparently, is because of overfitting, i.e. NN captures more noise than data.\n",
    "- Testing accuracy of NN drops below the Training accuracy at higher epochs. This explains the over-fitting on training data.\n",
    "- Logistic Regression gives a reliable accuracy, without the above mentioned problem.\n"
   ]
  },
  {
   "cell_type": "markdown",
   "metadata": {
    "papermill": {
     "duration": 0.043434,
     "end_time": "2020-10-18T00:09:38.601689",
     "exception": false,
     "start_time": "2020-10-18T00:09:38.558255",
     "status": "completed"
    },
    "tags": []
   },
   "source": [
    "### Moving till the last but one layer (excluding it).\n",
    "#### Plotting the outputs of this layer of the NN."
   ]
  },
  {
   "cell_type": "code",
   "execution_count": 24,
   "metadata": {
    "execution": {
     "iopub.execute_input": "2020-10-18T00:09:38.702284Z",
     "iopub.status.busy": "2020-10-18T00:09:38.700573Z",
     "iopub.status.idle": "2020-10-18T00:09:38.713126Z",
     "shell.execute_reply": "2020-10-18T00:09:38.712547Z"
    },
    "papermill": {
     "duration": 0.066483,
     "end_time": "2020-10-18T00:09:38.713261",
     "exception": false,
     "start_time": "2020-10-18T00:09:38.646778",
     "status": "completed"
    },
    "tags": []
   },
   "outputs": [],
   "source": [
    "model_new = Model(layers[:-2])"
   ]
  },
  {
   "cell_type": "code",
   "execution_count": 25,
   "metadata": {
    "execution": {
     "iopub.execute_input": "2020-10-18T00:09:38.813569Z",
     "iopub.status.busy": "2020-10-18T00:09:38.812929Z",
     "iopub.status.idle": "2020-10-18T00:09:38.832623Z",
     "shell.execute_reply": "2020-10-18T00:09:38.833156Z"
    },
    "papermill": {
     "duration": 0.072544,
     "end_time": "2020-10-18T00:09:38.833321",
     "exception": false,
     "start_time": "2020-10-18T00:09:38.760777",
     "status": "completed"
    },
    "tags": []
   },
   "outputs": [],
   "source": [
    "plot_testing = model_new(testing_xdata)"
   ]
  },
  {
   "cell_type": "code",
   "execution_count": 26,
   "metadata": {
    "execution": {
     "iopub.execute_input": "2020-10-18T00:09:38.941817Z",
     "iopub.status.busy": "2020-10-18T00:09:38.941199Z",
     "iopub.status.idle": "2020-10-18T00:09:39.164611Z",
     "shell.execute_reply": "2020-10-18T00:09:39.165102Z"
    },
    "papermill": {
     "duration": 0.284116,
     "end_time": "2020-10-18T00:09:39.165257",
     "exception": false,
     "start_time": "2020-10-18T00:09:38.881141",
     "status": "completed"
    },
    "tags": []
   },
   "outputs": [
    {
     "data": {
      "text/plain": [
       "Text(0.5, 1.0, 'Outputs')"
      ]
     },
     "execution_count": 26,
     "metadata": {},
     "output_type": "execute_result"
    },
    {
     "data": {
      "image/png": "[encoded data removed]",
      "text/plain": [
       "<Figure size 576x504 with 1 Axes>"
      ]
     },
     "metadata": {
      "needs_background": "light"
     },
     "output_type": "display_data"
    }
   ],
   "source": [
    "plt.figure(figsize=(8,7))\n",
    "plt.scatter(plot_testing[:,0], plot_testing[:,1], alpha = 0.1, c = y_test.ravel());\n",
    "plt.title('Outputs')"
   ]
  },
  {
   "cell_type": "markdown",
   "metadata": {
    "papermill": {
     "duration": 0.045355,
     "end_time": "2020-10-18T00:09:39.258988",
     "exception": false,
     "start_time": "2020-10-18T00:09:39.213633",
     "status": "completed"
    },
    "tags": []
   },
   "source": [
    "### Plotting probability contours"
   ]
  },
  {
   "cell_type": "code",
   "execution_count": 27,
   "metadata": {
    "execution": {
     "iopub.execute_input": "2020-10-18T00:09:39.356382Z",
     "iopub.status.busy": "2020-10-18T00:09:39.355783Z",
     "iopub.status.idle": "2020-10-18T00:09:39.369211Z",
     "shell.execute_reply": "2020-10-18T00:09:39.368711Z"
    },
    "papermill": {
     "duration": 0.065013,
     "end_time": "2020-10-18T00:09:39.369334",
     "exception": false,
     "start_time": "2020-10-18T00:09:39.304321",
     "status": "completed"
    },
    "tags": []
   },
   "outputs": [],
   "source": [
    "model_prob = Model(layers[-2:]) "
   ]
  },
  {
   "cell_type": "code",
   "execution_count": 28,
   "metadata": {
    "execution": {
     "iopub.execute_input": "2020-10-18T00:09:39.466446Z",
     "iopub.status.busy": "2020-10-18T00:09:39.465875Z",
     "iopub.status.idle": "2020-10-18T00:09:39.479841Z",
     "shell.execute_reply": "2020-10-18T00:09:39.480302Z"
    },
    "papermill": {
     "duration": 0.063624,
     "end_time": "2020-10-18T00:09:39.480454",
     "exception": false,
     "start_time": "2020-10-18T00:09:39.416830",
     "status": "completed"
    },
    "tags": []
   },
   "outputs": [],
   "source": [
    "# Adjust the x and y ranges according to the above generated plot.\n",
    "x_range = np.linspace(-4, 1, 100) \n",
    "y_range = np.linspace(-6, 6, 100) \n",
    "x_grid, y_grid = np.meshgrid(x_range, y_range) # x_grid and y_grig are of size 100 X 100\n",
    "\n",
    "# converting x_grid and y_grid to continuous arrays\n",
    "x_grid_flat = np.ravel(x_grid)\n",
    "y_grid_flat = np.ravel(y_grid)\n",
    "\n",
    "# The last layer of the current model takes two columns as input. Hence transpose of np.vstack() is required.\n",
    "X = np.vstack((x_grid_flat, y_grid_flat)).T\n",
    "\n",
    "# x_grid and y_grid are of size 100 x 100\n",
    "probability_contour = model_prob(X).reshape(100,100) "
   ]
  },
  {
   "cell_type": "code",
   "execution_count": 29,
   "metadata": {
    "execution": {
     "iopub.execute_input": "2020-10-18T00:09:39.589781Z",
     "iopub.status.busy": "2020-10-18T00:09:39.589127Z",
     "iopub.status.idle": "2020-10-18T00:09:39.845779Z",
     "shell.execute_reply": "2020-10-18T00:09:39.845177Z"
    },
    "papermill": {
     "duration": 0.316294,
     "end_time": "2020-10-18T00:09:39.845929",
     "exception": false,
     "start_time": "2020-10-18T00:09:39.529635",
     "status": "completed"
    },
    "tags": []
   },
   "outputs": [
    {
     "data": {
      "image/png": "[encoded data removed]",
      "text/plain": [
       "<Figure size 720x648 with 1 Axes>"
      ]
     },
     "metadata": {
      "needs_background": "light"
     },
     "output_type": "display_data"
    }
   ],
   "source": [
    "plt.figure(figsize=(10,9))\n",
    "plt.scatter(plot_testing[:,0], plot_testing[:,1], alpha = 0.1, c = y_test.ravel())\n",
    "contours = plt.contour(x_grid,y_grid,probability_contour)\n",
    "plt.title('Probability Contours')\n",
    "plt.clabel(contours, inline = True );"
   ]
  }
 ],
 "metadata": {
  "kernelspec": {
   "display_name": "Python 3",
   "language": "python",
   "name": "python3"
  },
  "language_info": {
   "codemirror_mode": {
    "name": "ipython",
    "version": 3
   },
   "file_extension": ".py",
   "mimetype": "text/x-python",
   "name": "python",
   "nbconvert_exporter": "python",
   "pygments_lexer": "ipython3",
   "version": "3.6.12"
  },
  "papermill": {
   "duration": 113.795243,
   "end_time": "2020-10-18T00:09:40.307418",
   "environment_variables": {},
   "exception": null,
   "input_path": "2020-08-11-NeuralNetwork.ipynb",
   "output_path": "2020-08-11-NeuralNetwork.ipynb",
   "parameters": {},
   "start_time": "2020-10-18T00:07:46.512175",
   "version": "2.1.2"
  }
 },
 "nbformat": 4,
 "nbformat_minor": 4
}