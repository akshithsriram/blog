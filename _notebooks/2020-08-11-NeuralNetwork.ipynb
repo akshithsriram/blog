{
 "cells": [
  {
   "cell_type": "markdown",
   "metadata": {
    "papermill": {
     "duration": 0.0309,
     "end_time": "2020-12-14T10:14:04.459658",
     "exception": false,
     "start_time": "2020-12-14T10:14:04.428758",
     "status": "completed"
    },
    "tags": []
   },
   "source": [
    "# \"A Basic Neural Network: Differentiate Hand-Written Digits\"\n",
    "\n",
    "- badges: true\n",
    "- author: Akshith Sriram"
   ]
  },
  {
   "cell_type": "markdown",
   "metadata": {
    "papermill": {
     "duration": 0.025176,
     "end_time": "2020-12-14T10:14:04.511667",
     "exception": false,
     "start_time": "2020-12-14T10:14:04.486491",
     "status": "completed"
    },
    "tags": []
   },
   "source": [
    "### Key Objectives:\n",
    "- Building a neural network that differentiates two hand-written digits 3 and 8.\n",
    "- Comparing the results of this Neural Network (NN) to that of a Logistic Regression (LR) model.\n",
    "\n",
    "### Requirements:\n",
    "- 'Kudzu' : A neural network library that was designed during our course by [Univ.AI](www.univ.ai). \n",
    "- MNIST Database\n",
    "\n",
    "If MNIST is not installed, use the command `!pip install mnist` given below.\n",
    "It can be run both from the command line and Jupyter Notebook."
   ]
  },
  {
   "cell_type": "code",
   "execution_count": 1,
   "metadata": {
    "execution": {
     "iopub.execute_input": "2020-12-14T10:14:04.572895Z",
     "iopub.status.busy": "2020-12-14T10:14:04.572290Z",
     "iopub.status.idle": "2020-12-14T10:14:06.033682Z",
     "shell.execute_reply": "2020-12-14T10:14:06.034152Z"
    },
    "papermill": {
     "duration": 1.496705,
     "end_time": "2020-12-14T10:14:06.034340",
     "exception": false,
     "start_time": "2020-12-14T10:14:04.537635",
     "status": "completed"
    },
    "tags": []
   },
   "outputs": [
    {
     "name": "stdout",
     "output_type": "stream",
     "text": [
      "Collecting mnist\r\n"
     ]
    },
    {
     "name": "stdout",
     "output_type": "stream",
     "text": [
      "  Downloading mnist-0.2.2-py2.py3-none-any.whl (3.5 kB)\r\n"
     ]
    },
    {
     "name": "stdout",
     "output_type": "stream",
     "text": [
      "Requirement already satisfied: numpy in /opt/hostedtoolcache/Python/3.6.12/x64/lib/python3.6/site-packages (from mnist) (1.19.4)\r\n"
     ]
    },
    {
     "name": "stdout",
     "output_type": "stream",
     "text": [
      "Installing collected packages: mnist\r\n"
     ]
    },
    {
     "name": "stdout",
     "output_type": "stream",
     "text": [
      "Successfully installed mnist-0.2.2\r\n"
     ]
    },
    {
     "name": "stdout",
     "output_type": "stream",
     "text": [
      "\u001b[33mWARNING: You are using pip version 20.2.4; however, version 20.3.1 is available.\r\n",
      "You should consider upgrading via the '/opt/hostedtoolcache/Python/3.6.12/x64/bin/python -m pip install --upgrade pip' command.\u001b[0m\r\n"
     ]
    }
   ],
   "source": [
    "!pip install mnist "
   ]
  },
  {
   "cell_type": "markdown",
   "metadata": {
    "papermill": {
     "duration": 0.027769,
     "end_time": "2020-12-14T10:14:06.088223",
     "exception": false,
     "start_time": "2020-12-14T10:14:06.060454",
     "status": "completed"
    },
    "tags": []
   },
   "source": [
    "#### Importing necessary libraries"
   ]
  },
  {
   "cell_type": "code",
   "execution_count": 2,
   "metadata": {
    "execution": {
     "iopub.execute_input": "2020-12-14T10:14:06.149468Z",
     "iopub.status.busy": "2020-12-14T10:14:06.148734Z",
     "iopub.status.idle": "2020-12-14T10:14:06.688323Z",
     "shell.execute_reply": "2020-12-14T10:14:06.688795Z"
    },
    "papermill": {
     "duration": 0.573214,
     "end_time": "2020-12-14T10:14:06.688985",
     "exception": false,
     "start_time": "2020-12-14T10:14:06.115771",
     "status": "completed"
    },
    "tags": []
   },
   "outputs": [],
   "source": [
    "%load_ext autoreload\n",
    "%autoreload 2\n",
    "\n",
    "%matplotlib inline\n",
    "import matplotlib.pyplot as plt\n",
    "\n",
    "import numpy as np\n",
    "import pandas as pd"
   ]
  },
  {
   "cell_type": "markdown",
   "metadata": {
    "papermill": {
     "duration": 0.028161,
     "end_time": "2020-12-14T10:14:06.744116",
     "exception": false,
     "start_time": "2020-12-14T10:14:06.715955",
     "status": "completed"
    },
    "tags": []
   },
   "source": [
    "### Preparing the Data"
   ]
  },
  {
   "cell_type": "code",
   "execution_count": 3,
   "metadata": {
    "execution": {
     "iopub.execute_input": "2020-12-14T10:14:06.812858Z",
     "iopub.status.busy": "2020-12-14T10:14:06.806965Z",
     "iopub.status.idle": "2020-12-14T10:14:06.815452Z",
     "shell.execute_reply": "2020-12-14T10:14:06.814931Z"
    },
    "papermill": {
     "duration": 0.044448,
     "end_time": "2020-12-14T10:14:06.815571",
     "exception": false,
     "start_time": "2020-12-14T10:14:06.771123",
     "status": "completed"
    },
    "tags": []
   },
   "outputs": [],
   "source": [
    "import mnist"
   ]
  },
  {
   "cell_type": "code",
   "execution_count": 4,
   "metadata": {
    "execution": {
     "iopub.execute_input": "2020-12-14T10:14:06.871502Z",
     "iopub.status.busy": "2020-12-14T10:14:06.870914Z",
     "iopub.status.idle": "2020-12-14T10:14:07.810445Z",
     "shell.execute_reply": "2020-12-14T10:14:07.809843Z"
    },
    "papermill": {
     "duration": 0.967771,
     "end_time": "2020-12-14T10:14:07.810594",
     "exception": false,
     "start_time": "2020-12-14T10:14:06.842823",
     "status": "completed"
    },
    "tags": []
   },
   "outputs": [],
   "source": [
    "train_images = mnist.train_images()\n",
    "train_labels = mnist.train_labels()"
   ]
  },
  {
   "cell_type": "code",
   "execution_count": 5,
   "metadata": {
    "execution": {
     "iopub.execute_input": "2020-12-14T10:14:07.881175Z",
     "iopub.status.busy": "2020-12-14T10:14:07.873961Z",
     "iopub.status.idle": "2020-12-14T10:14:07.883839Z",
     "shell.execute_reply": "2020-12-14T10:14:07.884314Z"
    },
    "papermill": {
     "duration": 0.04583,
     "end_time": "2020-12-14T10:14:07.884444",
     "exception": false,
     "start_time": "2020-12-14T10:14:07.838614",
     "status": "completed"
    },
    "tags": []
   },
   "outputs": [
    {
     "data": {
      "text/plain": [
       "((60000, 28, 28), (60000,))"
      ]
     },
     "execution_count": 5,
     "metadata": {},
     "output_type": "execute_result"
    }
   ],
   "source": [
    "train_images.shape, train_labels.shape"
   ]
  },
  {
   "cell_type": "code",
   "execution_count": 6,
   "metadata": {
    "execution": {
     "iopub.execute_input": "2020-12-14T10:14:07.958835Z",
     "iopub.status.busy": "2020-12-14T10:14:07.958197Z",
     "iopub.status.idle": "2020-12-14T10:14:08.353503Z",
     "shell.execute_reply": "2020-12-14T10:14:08.352884Z"
    },
    "papermill": {
     "duration": 0.441675,
     "end_time": "2020-12-14T10:14:08.353659",
     "exception": false,
     "start_time": "2020-12-14T10:14:07.911984",
     "status": "completed"
    },
    "tags": []
   },
   "outputs": [],
   "source": [
    "test_images = mnist.test_images()\n",
    "test_labels = mnist.test_labels()"
   ]
  },
  {
   "cell_type": "code",
   "execution_count": 7,
   "metadata": {
    "execution": {
     "iopub.execute_input": "2020-12-14T10:14:08.422549Z",
     "iopub.status.busy": "2020-12-14T10:14:08.414063Z",
     "iopub.status.idle": "2020-12-14T10:14:08.429287Z",
     "shell.execute_reply": "2020-12-14T10:14:08.428371Z"
    },
    "papermill": {
     "duration": 0.047233,
     "end_time": "2020-12-14T10:14:08.429430",
     "exception": false,
     "start_time": "2020-12-14T10:14:08.382197",
     "status": "completed"
    },
    "tags": []
   },
   "outputs": [
    {
     "data": {
      "text/plain": [
       "((10000, 28, 28), (10000,))"
      ]
     },
     "execution_count": 7,
     "metadata": {},
     "output_type": "execute_result"
    }
   ],
   "source": [
    "test_images.shape, test_labels.shape"
   ]
  },
  {
   "cell_type": "code",
   "execution_count": 8,
   "metadata": {
    "execution": {
     "iopub.execute_input": "2020-12-14T10:14:08.499611Z",
     "iopub.status.busy": "2020-12-14T10:14:08.499041Z",
     "iopub.status.idle": "2020-12-14T10:14:08.660174Z",
     "shell.execute_reply": "2020-12-14T10:14:08.659650Z"
    },
    "papermill": {
     "duration": 0.198172,
     "end_time": "2020-12-14T10:14:08.660310",
     "exception": false,
     "start_time": "2020-12-14T10:14:08.462138",
     "status": "completed"
    },
    "tags": []
   },
   "outputs": [
    {
     "name": "stdout",
     "output_type": "stream",
     "text": [
      "2\n"
     ]
    },
    {
     "data": {
      "text/plain": [
       "<matplotlib.image.AxesImage at 0x7f88fa5bd2b0>"
      ]
     },
     "execution_count": 8,
     "metadata": {},
     "output_type": "execute_result"
    },
    {
     "data": {
      "image/png": "[encoded data removed]",
      "text/plain": [
       "<Figure size 432x288 with 1 Axes>"
      ]
     },
     "metadata": {
      "needs_background": "light"
     },
     "output_type": "display_data"
    }
   ],
   "source": [
    "image_index = 7776 # You may select anything up to 60,000\n",
    "print(train_labels[image_index]) \n",
    "plt.imshow(train_images[image_index], cmap='Greys')"
   ]
  },
  {
   "cell_type": "markdown",
   "metadata": {
    "papermill": {
     "duration": 0.467037,
     "end_time": "2020-12-14T10:14:09.156670",
     "exception": false,
     "start_time": "2020-12-14T10:14:08.689633",
     "status": "completed"
    },
    "tags": []
   },
   "source": [
    "## Filter data to get 3 and 8 out"
   ]
  },
  {
   "cell_type": "code",
   "execution_count": 9,
   "metadata": {
    "execution": {
     "iopub.execute_input": "2020-12-14T10:14:09.230489Z",
     "iopub.status.busy": "2020-12-14T10:14:09.228653Z",
     "iopub.status.idle": "2020-12-14T10:14:09.244761Z",
     "shell.execute_reply": "2020-12-14T10:14:09.244202Z"
    },
    "papermill": {
     "duration": 0.056615,
     "end_time": "2020-12-14T10:14:09.244913",
     "exception": false,
     "start_time": "2020-12-14T10:14:09.188298",
     "status": "completed"
    },
    "tags": []
   },
   "outputs": [],
   "source": [
    "train_filter = np.where((train_labels == 3 ) | (train_labels == 8))\n",
    "test_filter = np.where((test_labels == 3) | (test_labels == 8))\n",
    "X_train, y_train = train_images[train_filter], train_labels[train_filter]\n",
    "X_test, y_test = test_images[test_filter], test_labels[test_filter]"
   ]
  },
  {
   "cell_type": "markdown",
   "metadata": {
    "papermill": {
     "duration": 0.02923,
     "end_time": "2020-12-14T10:14:09.305771",
     "exception": false,
     "start_time": "2020-12-14T10:14:09.276541",
     "status": "completed"
    },
    "tags": []
   },
   "source": [
    "We normalize the pixel values in the 0 to 1 range"
   ]
  },
  {
   "cell_type": "code",
   "execution_count": 10,
   "metadata": {
    "execution": {
     "iopub.execute_input": "2020-12-14T10:14:09.368909Z",
     "iopub.status.busy": "2020-12-14T10:14:09.368317Z",
     "iopub.status.idle": "2020-12-14T10:14:09.426037Z",
     "shell.execute_reply": "2020-12-14T10:14:09.425468Z"
    },
    "papermill": {
     "duration": 0.091313,
     "end_time": "2020-12-14T10:14:09.426177",
     "exception": false,
     "start_time": "2020-12-14T10:14:09.334864",
     "status": "completed"
    },
    "tags": []
   },
   "outputs": [],
   "source": [
    "X_train = X_train/255.\n",
    "X_test = X_test/255."
   ]
  },
  {
   "cell_type": "markdown",
   "metadata": {
    "papermill": {
     "duration": 0.027642,
     "end_time": "2020-12-14T10:14:09.482203",
     "exception": false,
     "start_time": "2020-12-14T10:14:09.454561",
     "status": "completed"
    },
    "tags": []
   },
   "source": [
    "Setup the labels as 1 (when the digit is 3) and 0 (when the digit is 8)"
   ]
  },
  {
   "cell_type": "code",
   "execution_count": 11,
   "metadata": {
    "execution": {
     "iopub.execute_input": "2020-12-14T10:14:09.557065Z",
     "iopub.status.busy": "2020-12-14T10:14:09.556432Z",
     "iopub.status.idle": "2020-12-14T10:14:09.560290Z",
     "shell.execute_reply": "2020-12-14T10:14:09.559724Z"
    },
    "papermill": {
     "duration": 0.049629,
     "end_time": "2020-12-14T10:14:09.560408",
     "exception": false,
     "start_time": "2020-12-14T10:14:09.510779",
     "status": "completed"
    },
    "tags": []
   },
   "outputs": [],
   "source": [
    "y_train = 1*(y_train==3)\n",
    "y_test = 1*(y_test==3)"
   ]
  },
  {
   "cell_type": "code",
   "execution_count": 12,
   "metadata": {
    "execution": {
     "iopub.execute_input": "2020-12-14T10:14:09.630570Z",
     "iopub.status.busy": "2020-12-14T10:14:09.620227Z",
     "iopub.status.idle": "2020-12-14T10:14:09.633348Z",
     "shell.execute_reply": "2020-12-14T10:14:09.633890Z"
    },
    "papermill": {
     "duration": 0.046097,
     "end_time": "2020-12-14T10:14:09.634022",
     "exception": false,
     "start_time": "2020-12-14T10:14:09.587925",
     "status": "completed"
    },
    "tags": []
   },
   "outputs": [
    {
     "data": {
      "text/plain": [
       "((11982, 28, 28), (1984, 28, 28))"
      ]
     },
     "execution_count": 12,
     "metadata": {},
     "output_type": "execute_result"
    }
   ],
   "source": [
    "X_train.shape, X_test.shape"
   ]
  },
  {
   "cell_type": "markdown",
   "metadata": {
    "papermill": {
     "duration": 0.028793,
     "end_time": "2020-12-14T10:14:09.691131",
     "exception": false,
     "start_time": "2020-12-14T10:14:09.662338",
     "status": "completed"
    },
    "tags": []
   },
   "source": [
    "### Reshape the input data to create a linear array"
   ]
  },
  {
   "cell_type": "code",
   "execution_count": 13,
   "metadata": {
    "execution": {
     "iopub.execute_input": "2020-12-14T10:14:09.750587Z",
     "iopub.status.busy": "2020-12-14T10:14:09.750009Z",
     "iopub.status.idle": "2020-12-14T10:14:09.763181Z",
     "shell.execute_reply": "2020-12-14T10:14:09.763625Z"
    },
    "papermill": {
     "duration": 0.043965,
     "end_time": "2020-12-14T10:14:09.763868",
     "exception": false,
     "start_time": "2020-12-14T10:14:09.719903",
     "status": "completed"
    },
    "tags": []
   },
   "outputs": [
    {
     "data": {
      "text/plain": [
       "((11982, 784), (1984, 784))"
      ]
     },
     "execution_count": 13,
     "metadata": {},
     "output_type": "execute_result"
    }
   ],
   "source": [
    "X_train = X_train.reshape(X_train.shape[0], -1)\n",
    "X_test = X_test.reshape(X_test.shape[0], -1)\n",
    "X_train.shape, X_test.shape"
   ]
  },
  {
   "cell_type": "markdown",
   "metadata": {
    "papermill": {
     "duration": 0.029522,
     "end_time": "2020-12-14T10:14:09.823290",
     "exception": false,
     "start_time": "2020-12-14T10:14:09.793768",
     "status": "completed"
    },
    "tags": []
   },
   "source": [
    "### Importing appropriate functions from 'Kudzu'"
   ]
  },
  {
   "cell_type": "code",
   "execution_count": 14,
   "metadata": {
    "execution": {
     "iopub.execute_input": "2020-12-14T10:14:09.899241Z",
     "iopub.status.busy": "2020-12-14T10:14:09.898658Z",
     "iopub.status.idle": "2020-12-14T10:14:09.907597Z",
     "shell.execute_reply": "2020-12-14T10:14:09.908150Z"
    },
    "papermill": {
     "duration": 0.055257,
     "end_time": "2020-12-14T10:14:09.908285",
     "exception": false,
     "start_time": "2020-12-14T10:14:09.853028",
     "status": "completed"
    },
    "tags": []
   },
   "outputs": [],
   "source": [
    "from kudzu.layer import Sigmoid\n",
    "from kudzu.layer import Relu\n",
    "from kudzu.layer import Affine, Sigmoid\n",
    "\n",
    "from kudzu.model import Model\n",
    "from kudzu.train import Learner\n",
    "from kudzu.optim import GD\n",
    "from kudzu.data import Data, Dataloader, Sampler\n",
    "\n",
    "from kudzu.callbacks import AccCallback\n",
    "from kudzu.callbacks import ClfCallback\n",
    "\n",
    "from kudzu.loss import MSE"
   ]
  },
  {
   "cell_type": "markdown",
   "metadata": {
    "papermill": {
     "duration": 0.031048,
     "end_time": "2020-12-14T10:14:09.972024",
     "exception": false,
     "start_time": "2020-12-14T10:14:09.940976",
     "status": "completed"
    },
    "tags": []
   },
   "source": [
    "### Let us create a `Config` class, to store important parameters. \n",
    "This class essentially plays the role of a dictionary."
   ]
  },
  {
   "cell_type": "code",
   "execution_count": 15,
   "metadata": {
    "execution": {
     "iopub.execute_input": "2020-12-14T10:14:10.034430Z",
     "iopub.status.busy": "2020-12-14T10:14:10.033833Z",
     "iopub.status.idle": "2020-12-14T10:14:10.044294Z",
     "shell.execute_reply": "2020-12-14T10:14:10.044847Z"
    },
    "papermill": {
     "duration": 0.043278,
     "end_time": "2020-12-14T10:14:10.044996",
     "exception": false,
     "start_time": "2020-12-14T10:14:10.001718",
     "status": "completed"
    },
    "tags": []
   },
   "outputs": [],
   "source": [
    "class Config:\n",
    "    pass\n",
    "config = Config()\n",
    "config.lr = 0.001\n",
    "config.num_epochs = 251\n",
    "config.bs = 50"
   ]
  },
  {
   "cell_type": "markdown",
   "metadata": {
    "papermill": {
     "duration": 0.028242,
     "end_time": "2020-12-14T10:14:10.103661",
     "exception": false,
     "start_time": "2020-12-14T10:14:10.075419",
     "status": "completed"
    },
    "tags": []
   },
   "source": [
    "### Initializing data to the variables"
   ]
  },
  {
   "cell_type": "code",
   "execution_count": 16,
   "metadata": {
    "execution": {
     "iopub.execute_input": "2020-12-14T10:14:10.173530Z",
     "iopub.status.busy": "2020-12-14T10:14:10.168106Z",
     "iopub.status.idle": "2020-12-14T10:14:10.175631Z",
     "shell.execute_reply": "2020-12-14T10:14:10.176107Z"
    },
    "papermill": {
     "duration": 0.044627,
     "end_time": "2020-12-14T10:14:10.176234",
     "exception": false,
     "start_time": "2020-12-14T10:14:10.131607",
     "status": "completed"
    },
    "tags": []
   },
   "outputs": [],
   "source": [
    "data = Data(X_train, y_train.reshape(-1,1))\n",
    "sampler = Sampler(data, config.bs, shuffle=True)\n",
    "\n",
    "dl = Dataloader(data, sampler)\n",
    "\n",
    "opt = GD(config.lr)\n",
    "loss = MSE()"
   ]
  },
  {
   "cell_type": "code",
   "execution_count": 17,
   "metadata": {
    "execution": {
     "iopub.execute_input": "2020-12-14T10:14:10.240279Z",
     "iopub.status.busy": "2020-12-14T10:14:10.239312Z",
     "iopub.status.idle": "2020-12-14T10:14:10.250779Z",
     "shell.execute_reply": "2020-12-14T10:14:10.251250Z"
    },
    "papermill": {
     "duration": 0.047112,
     "end_time": "2020-12-14T10:14:10.251382",
     "exception": false,
     "start_time": "2020-12-14T10:14:10.204270",
     "status": "completed"
    },
    "tags": []
   },
   "outputs": [],
   "source": [
    "training_xdata = X_train\n",
    "testing_xdata = X_test\n",
    "training_ydata = y_train.reshape(-1,1)\n",
    "testing_ydata = y_test.reshape(-1,1)"
   ]
  },
  {
   "cell_type": "markdown",
   "metadata": {
    "papermill": {
     "duration": 0.030882,
     "end_time": "2020-12-14T10:14:10.310437",
     "exception": false,
     "start_time": "2020-12-14T10:14:10.279555",
     "status": "completed"
    },
    "tags": []
   },
   "source": [
    "### Running Models with the Training data\n",
    "Details about the network layers:\n",
    "- A first affine layer has 784 inputs and does 100 affine transforms. These are followed by a Relu\n",
    "- A second affine layer has 100 inputs from the 100 activations of the past layer, and does 100 affine transforms. These are followed by a Relu\n",
    "- A third affine layer has 100 activations and does 2 affine transformations to create an embedding for visualization. There is no non-linearity here.\n",
    "- A final \"logistic regression\" which has an affine transform from 2 inputs to 1 output, which is squeezed through a sigmoid.\n",
    "\n",
    "Help taken from Anshuman's Notebook."
   ]
  },
  {
   "cell_type": "code",
   "execution_count": 18,
   "metadata": {
    "execution": {
     "iopub.execute_input": "2020-12-14T10:14:10.390434Z",
     "iopub.status.busy": "2020-12-14T10:14:10.389774Z",
     "iopub.status.idle": "2020-12-14T10:14:10.396651Z",
     "shell.execute_reply": "2020-12-14T10:14:10.397126Z"
    },
    "papermill": {
     "duration": 0.056592,
     "end_time": "2020-12-14T10:14:10.397271",
     "exception": false,
     "start_time": "2020-12-14T10:14:10.340679",
     "status": "completed"
    },
    "tags": []
   },
   "outputs": [],
   "source": [
    "# layers for the Neural Network\n",
    "layers = [Affine(\"first\", 784, 100), Relu(\"first\"), Affine(\"second\", 100, 100), Relu(\"second\"), Affine(\"third\", 100, 2), Affine(\"final\", 2, 1), Sigmoid(\"final\")]\n",
    "model_nn = Model(layers)\n",
    "\n",
    "# layers for the Logistic Regression\n",
    "layers_lr = [Affine(\"logits\", 784, 1), Sigmoid(\"sigmoid\")]\n",
    "model_lr = Model(layers_lr)"
   ]
  },
  {
   "cell_type": "code",
   "execution_count": 19,
   "metadata": {
    "execution": {
     "iopub.execute_input": "2020-12-14T10:14:10.471716Z",
     "iopub.status.busy": "2020-12-14T10:14:10.459767Z",
     "iopub.status.idle": "2020-12-14T10:14:10.475447Z",
     "shell.execute_reply": "2020-12-14T10:14:10.474566Z"
    },
    "papermill": {
     "duration": 0.048625,
     "end_time": "2020-12-14T10:14:10.475577",
     "exception": false,
     "start_time": "2020-12-14T10:14:10.426952",
     "status": "completed"
    },
    "tags": []
   },
   "outputs": [],
   "source": [
    "# suffix _nn stands for Neural Network.\n",
    "learner_nn = Learner(loss, model_nn, opt, config.num_epochs)\n",
    "acc_nn = ClfCallback(learner_nn, config.bs, training_xdata , testing_xdata, training_ydata, testing_ydata)\n",
    "learner_nn.set_callbacks([acc_nn])"
   ]
  },
  {
   "cell_type": "code",
   "execution_count": 20,
   "metadata": {
    "execution": {
     "iopub.execute_input": "2020-12-14T10:14:10.550162Z",
     "iopub.status.busy": "2020-12-14T10:14:10.541651Z",
     "iopub.status.idle": "2020-12-14T10:16:07.775678Z",
     "shell.execute_reply": "2020-12-14T10:16:07.775181Z"
    },
    "papermill": {
     "duration": 117.269663,
     "end_time": "2020-12-14T10:16:07.775810",
     "exception": false,
     "start_time": "2020-12-14T10:14:10.506147",
     "status": "completed"
    },
    "tags": []
   },
   "outputs": [
    {
     "name": "stdout",
     "output_type": "stream",
     "text": [
      "====== Neural Network ======\n"
     ]
    },
    {
     "name": "stdout",
     "output_type": "stream",
     "text": [
      "Epoch 0, Loss 0.2461\n",
      "Training Accuracy: 0.6410, Testing Accuracy: 0.6411\n",
      "\n"
     ]
    },
    {
     "name": "stdout",
     "output_type": "stream",
     "text": [
      "Epoch 10, Loss 0.1071\n",
      "Training Accuracy: 0.9009, Testing Accuracy: 0.9037\n",
      "\n"
     ]
    },
    {
     "name": "stdout",
     "output_type": "stream",
     "text": [
      "Epoch 20, Loss 0.0629\n",
      "Training Accuracy: 0.9357, Testing Accuracy: 0.9451\n",
      "\n"
     ]
    },
    {
     "name": "stdout",
     "output_type": "stream",
     "text": [
      "Epoch 30, Loss 0.0478\n",
      "Training Accuracy: 0.9486, Testing Accuracy: 0.9597\n",
      "\n"
     ]
    },
    {
     "name": "stdout",
     "output_type": "stream",
     "text": [
      "Epoch 40, Loss 0.0406\n",
      "Training Accuracy: 0.9561, Testing Accuracy: 0.9627\n",
      "\n"
     ]
    },
    {
     "name": "stdout",
     "output_type": "stream",
     "text": [
      "Epoch 50, Loss 0.0365\n",
      "Training Accuracy: 0.9599, Testing Accuracy: 0.9657\n",
      "\n"
     ]
    },
    {
     "name": "stdout",
     "output_type": "stream",
     "text": [
      "Epoch 60, Loss 0.0337\n",
      "Training Accuracy: 0.9614, Testing Accuracy: 0.9677\n",
      "\n"
     ]
    },
    {
     "name": "stdout",
     "output_type": "stream",
     "text": [
      "Epoch 70, Loss 0.0317\n",
      "Training Accuracy: 0.9632, Testing Accuracy: 0.9688\n",
      "\n"
     ]
    },
    {
     "name": "stdout",
     "output_type": "stream",
     "text": [
      "Epoch 80, Loss 0.0301\n",
      "Training Accuracy: 0.9644, Testing Accuracy: 0.9693\n",
      "\n"
     ]
    },
    {
     "name": "stdout",
     "output_type": "stream",
     "text": [
      "Epoch 90, Loss 0.0288\n",
      "Training Accuracy: 0.9659, Testing Accuracy: 0.9713\n",
      "\n"
     ]
    },
    {
     "name": "stdout",
     "output_type": "stream",
     "text": [
      "Epoch 100, Loss 0.0277\n",
      "Training Accuracy: 0.9669, Testing Accuracy: 0.9723\n",
      "\n"
     ]
    },
    {
     "name": "stdout",
     "output_type": "stream",
     "text": [
      "Epoch 110, Loss 0.0267\n",
      "Training Accuracy: 0.9681, Testing Accuracy: 0.9723\n",
      "\n"
     ]
    },
    {
     "name": "stdout",
     "output_type": "stream",
     "text": [
      "Epoch 120, Loss 0.0259\n",
      "Training Accuracy: 0.9685, Testing Accuracy: 0.9733\n",
      "\n"
     ]
    },
    {
     "name": "stdout",
     "output_type": "stream",
     "text": [
      "Epoch 130, Loss 0.0251\n",
      "Training Accuracy: 0.9697, Testing Accuracy: 0.9738\n",
      "\n"
     ]
    },
    {
     "name": "stdout",
     "output_type": "stream",
     "text": [
      "Epoch 140, Loss 0.0244\n",
      "Training Accuracy: 0.9710, Testing Accuracy: 0.9743\n",
      "\n"
     ]
    },
    {
     "name": "stdout",
     "output_type": "stream",
     "text": [
      "Epoch 150, Loss 0.0238\n",
      "Training Accuracy: 0.9715, Testing Accuracy: 0.9753\n",
      "\n"
     ]
    },
    {
     "name": "stdout",
     "output_type": "stream",
     "text": [
      "Epoch 160, Loss 0.0233\n",
      "Training Accuracy: 0.9724, Testing Accuracy: 0.9758\n",
      "\n"
     ]
    },
    {
     "name": "stdout",
     "output_type": "stream",
     "text": [
      "Epoch 170, Loss 0.0227\n",
      "Training Accuracy: 0.9728, Testing Accuracy: 0.9768\n",
      "\n"
     ]
    },
    {
     "name": "stdout",
     "output_type": "stream",
     "text": [
      "Epoch 180, Loss 0.0222\n",
      "Training Accuracy: 0.9740, Testing Accuracy: 0.9768\n",
      "\n"
     ]
    },
    {
     "name": "stdout",
     "output_type": "stream",
     "text": [
      "Epoch 190, Loss 0.0218\n",
      "Training Accuracy: 0.9744, Testing Accuracy: 0.9763\n",
      "\n"
     ]
    },
    {
     "name": "stdout",
     "output_type": "stream",
     "text": [
      "Epoch 200, Loss 0.0213\n",
      "Training Accuracy: 0.9751, Testing Accuracy: 0.9763\n",
      "\n"
     ]
    },
    {
     "name": "stdout",
     "output_type": "stream",
     "text": [
      "Epoch 210, Loss 0.0209\n",
      "Training Accuracy: 0.9758, Testing Accuracy: 0.9758\n",
      "\n"
     ]
    },
    {
     "name": "stdout",
     "output_type": "stream",
     "text": [
      "Epoch 220, Loss 0.0205\n",
      "Training Accuracy: 0.9764, Testing Accuracy: 0.9763\n",
      "\n"
     ]
    },
    {
     "name": "stdout",
     "output_type": "stream",
     "text": [
      "Epoch 230, Loss 0.0202\n",
      "Training Accuracy: 0.9767, Testing Accuracy: 0.9763\n",
      "\n"
     ]
    },
    {
     "name": "stdout",
     "output_type": "stream",
     "text": [
      "Epoch 240, Loss 0.0198\n",
      "Training Accuracy: 0.9774, Testing Accuracy: 0.9763\n",
      "\n"
     ]
    },
    {
     "name": "stdout",
     "output_type": "stream",
     "text": [
      "Epoch 250, Loss 0.0195\n",
      "Training Accuracy: 0.9777, Testing Accuracy: 0.9763\n",
      "\n"
     ]
    },
    {
     "data": {
      "text/plain": [
       "0.002402241985122252"
      ]
     },
     "execution_count": 20,
     "metadata": {},
     "output_type": "execute_result"
    }
   ],
   "source": [
    "print(\"====== Neural Network ======\")\n",
    "learner_nn.train_loop(dl)"
   ]
  },
  {
   "cell_type": "markdown",
   "metadata": {
    "papermill": {
     "duration": 0.038172,
     "end_time": "2020-12-14T10:16:07.851094",
     "exception": false,
     "start_time": "2020-12-14T10:16:07.812922",
     "status": "completed"
    },
    "tags": []
   },
   "source": [
    "### Logistic Regression based Implementation."
   ]
  },
  {
   "cell_type": "code",
   "execution_count": 21,
   "metadata": {
    "execution": {
     "iopub.execute_input": "2020-12-14T10:16:07.937581Z",
     "iopub.status.busy": "2020-12-14T10:16:07.936976Z",
     "iopub.status.idle": "2020-12-14T10:16:07.946973Z",
     "shell.execute_reply": "2020-12-14T10:16:07.947500Z"
    },
    "papermill": {
     "duration": 0.05691,
     "end_time": "2020-12-14T10:16:07.947643",
     "exception": false,
     "start_time": "2020-12-14T10:16:07.890733",
     "status": "completed"
    },
    "tags": []
   },
   "outputs": [],
   "source": [
    "learner_lr = Learner(loss, model_lr, opt, config.num_epochs)\n",
    "acc_lr = ClfCallback(learner_lr, config.bs, training_xdata , testing_xdata, training_ydata, testing_ydata)\n",
    "learner_lr.set_callbacks([acc_lr])"
   ]
  },
  {
   "cell_type": "code",
   "execution_count": 22,
   "metadata": {
    "execution": {
     "iopub.execute_input": "2020-12-14T10:16:08.032607Z",
     "iopub.status.busy": "2020-12-14T10:16:08.026898Z",
     "iopub.status.idle": "2020-12-14T10:16:25.642595Z",
     "shell.execute_reply": "2020-12-14T10:16:25.643444Z"
    },
    "papermill": {
     "duration": 17.656986,
     "end_time": "2020-12-14T10:16:25.643606",
     "exception": false,
     "start_time": "2020-12-14T10:16:07.986620",
     "status": "completed"
    },
    "tags": []
   },
   "outputs": [
    {
     "name": "stdout",
     "output_type": "stream",
     "text": [
      "====== Logistic Regression ======\n",
      "Epoch 0, Loss 0.2689\n",
      "Training Accuracy: 0.5775, Testing Accuracy: 0.5927\n",
      "\n"
     ]
    },
    {
     "name": "stdout",
     "output_type": "stream",
     "text": [
      "Epoch 10, Loss 0.1098\n",
      "Training Accuracy: 0.8934, Testing Accuracy: 0.9088\n",
      "\n"
     ]
    },
    {
     "name": "stdout",
     "output_type": "stream",
     "text": [
      "Epoch 20, Loss 0.0826\n",
      "Training Accuracy: 0.9218, Testing Accuracy: 0.9360\n",
      "\n"
     ]
    },
    {
     "name": "stdout",
     "output_type": "stream",
     "text": [
      "Epoch 30, Loss 0.0703\n",
      "Training Accuracy: 0.9339, Testing Accuracy: 0.9441\n",
      "\n"
     ]
    },
    {
     "name": "stdout",
     "output_type": "stream",
     "text": [
      "Epoch 40, Loss 0.0629\n",
      "Training Accuracy: 0.9407, Testing Accuracy: 0.9511\n",
      "\n"
     ]
    },
    {
     "name": "stdout",
     "output_type": "stream",
     "text": [
      "Epoch 50, Loss 0.058\n",
      "Training Accuracy: 0.9437, Testing Accuracy: 0.9572\n",
      "\n"
     ]
    },
    {
     "name": "stdout",
     "output_type": "stream",
     "text": [
      "Epoch 60, Loss 0.0545\n",
      "Training Accuracy: 0.9462, Testing Accuracy: 0.9567\n",
      "\n"
     ]
    },
    {
     "name": "stdout",
     "output_type": "stream",
     "text": [
      "Epoch 70, Loss 0.0517\n",
      "Training Accuracy: 0.9483, Testing Accuracy: 0.9597\n",
      "\n"
     ]
    },
    {
     "name": "stdout",
     "output_type": "stream",
     "text": [
      "Epoch 80, Loss 0.0495\n",
      "Training Accuracy: 0.9506, Testing Accuracy: 0.9602\n",
      "\n"
     ]
    },
    {
     "name": "stdout",
     "output_type": "stream",
     "text": [
      "Epoch 90, Loss 0.0478\n",
      "Training Accuracy: 0.9519, Testing Accuracy: 0.9622\n",
      "\n"
     ]
    },
    {
     "name": "stdout",
     "output_type": "stream",
     "text": [
      "Epoch 100, Loss 0.0463\n",
      "Training Accuracy: 0.9536, Testing Accuracy: 0.9637\n",
      "\n"
     ]
    },
    {
     "name": "stdout",
     "output_type": "stream",
     "text": [
      "Epoch 110, Loss 0.045\n",
      "Training Accuracy: 0.9546, Testing Accuracy: 0.9652\n",
      "\n"
     ]
    },
    {
     "name": "stdout",
     "output_type": "stream",
     "text": [
      "Epoch 120, Loss 0.0439\n",
      "Training Accuracy: 0.9551, Testing Accuracy: 0.9652\n",
      "\n"
     ]
    },
    {
     "name": "stdout",
     "output_type": "stream",
     "text": [
      "Epoch 130, Loss 0.0429\n",
      "Training Accuracy: 0.9553, Testing Accuracy: 0.9657\n",
      "\n"
     ]
    },
    {
     "name": "stdout",
     "output_type": "stream",
     "text": [
      "Epoch 140, Loss 0.0421\n",
      "Training Accuracy: 0.9558, Testing Accuracy: 0.9652\n",
      "\n"
     ]
    },
    {
     "name": "stdout",
     "output_type": "stream",
     "text": [
      "Epoch 150, Loss 0.0413\n",
      "Training Accuracy: 0.9567, Testing Accuracy: 0.9652\n",
      "\n"
     ]
    },
    {
     "name": "stdout",
     "output_type": "stream",
     "text": [
      "Epoch 160, Loss 0.0406\n",
      "Training Accuracy: 0.9574, Testing Accuracy: 0.9657\n",
      "\n"
     ]
    },
    {
     "name": "stdout",
     "output_type": "stream",
     "text": [
      "Epoch 170, Loss 0.04\n",
      "Training Accuracy: 0.9580, Testing Accuracy: 0.9657\n",
      "\n"
     ]
    },
    {
     "name": "stdout",
     "output_type": "stream",
     "text": [
      "Epoch 180, Loss 0.0394\n",
      "Training Accuracy: 0.9586, Testing Accuracy: 0.9662\n",
      "\n"
     ]
    },
    {
     "name": "stdout",
     "output_type": "stream",
     "text": [
      "Epoch 190, Loss 0.0389\n",
      "Training Accuracy: 0.9592, Testing Accuracy: 0.9662\n",
      "\n"
     ]
    },
    {
     "name": "stdout",
     "output_type": "stream",
     "text": [
      "Epoch 200, Loss 0.0384\n",
      "Training Accuracy: 0.9594, Testing Accuracy: 0.9662\n",
      "\n"
     ]
    },
    {
     "name": "stdout",
     "output_type": "stream",
     "text": [
      "Epoch 210, Loss 0.0379\n",
      "Training Accuracy: 0.9599, Testing Accuracy: 0.9662\n",
      "\n"
     ]
    },
    {
     "name": "stdout",
     "output_type": "stream",
     "text": [
      "Epoch 220, Loss 0.0375\n",
      "Training Accuracy: 0.9603, Testing Accuracy: 0.9667\n",
      "\n"
     ]
    },
    {
     "name": "stdout",
     "output_type": "stream",
     "text": [
      "Epoch 230, Loss 0.0371\n",
      "Training Accuracy: 0.9604, Testing Accuracy: 0.9667\n",
      "\n"
     ]
    },
    {
     "name": "stdout",
     "output_type": "stream",
     "text": [
      "Epoch 240, Loss 0.0368\n",
      "Training Accuracy: 0.9608, Testing Accuracy: 0.9672\n",
      "\n"
     ]
    },
    {
     "name": "stdout",
     "output_type": "stream",
     "text": [
      "Epoch 250, Loss 0.0364\n",
      "Training Accuracy: 0.9612, Testing Accuracy: 0.9672\n",
      "\n"
     ]
    },
    {
     "data": {
      "text/plain": [
       "0.024479310965382514"
      ]
     },
     "execution_count": 22,
     "metadata": {},
     "output_type": "execute_result"
    }
   ],
   "source": [
    "print(\"====== Logistic Regression ======\")\n",
    "learner_lr.train_loop(dl)"
   ]
  },
  {
   "cell_type": "markdown",
   "metadata": {
    "papermill": {
     "duration": 0.047887,
     "end_time": "2020-12-14T10:16:25.735799",
     "exception": false,
     "start_time": "2020-12-14T10:16:25.687912",
     "status": "completed"
    },
    "tags": []
   },
   "source": [
    "### Comparing results of NN and LR"
   ]
  },
  {
   "cell_type": "code",
   "execution_count": 23,
   "metadata": {
    "execution": {
     "iopub.execute_input": "2020-12-14T10:16:25.838291Z",
     "iopub.status.busy": "2020-12-14T10:16:25.834862Z",
     "iopub.status.idle": "2020-12-14T10:16:26.091476Z",
     "shell.execute_reply": "2020-12-14T10:16:26.091940Z"
    },
    "papermill": {
     "duration": 0.313373,
     "end_time": "2020-12-14T10:16:26.092112",
     "exception": false,
     "start_time": "2020-12-14T10:16:25.778739",
     "status": "completed"
    },
    "tags": []
   },
   "outputs": [
    {
     "data": {
      "text/plain": [
       "<matplotlib.legend.Legend at 0x7f88f39e2ba8>"
      ]
     },
     "execution_count": 23,
     "metadata": {},
     "output_type": "execute_result"
    },
    {
     "data": {
      "image/png": "[encoded data removed]",
      "text/plain": [
       "<Figure size 1080x720 with 1 Axes>"
      ]
     },
     "metadata": {
      "needs_background": "light"
     },
     "output_type": "display_data"
    }
   ],
   "source": [
    "plt.figure(figsize=(15,10))\n",
    "\n",
    "# Neural Network plots\n",
    "plt.plot(acc_nn.accuracies, 'r-', label = \"Training Accuracies - NN\")\n",
    "plt.plot(acc_nn.test_accuracies, 'g-', label = \"Testing Accuracies - NN\")\n",
    "\n",
    "# Logistic Regression plots\n",
    "plt.plot(acc_lr.accuracies, 'k-', label = \"Training Accuracies - LR\")\n",
    "plt.plot(acc_lr.test_accuracies, 'b-', label = \"Testing Accuracies - LR\")\n",
    "\n",
    "plt.ylim(0.8, 1)\n",
    "\n",
    "plt.legend()\n",
    "\n"
   ]
  },
  {
   "cell_type": "markdown",
   "metadata": {
    "papermill": {
     "duration": 0.050427,
     "end_time": "2020-12-14T10:16:26.189150",
     "exception": false,
     "start_time": "2020-12-14T10:16:26.138723",
     "status": "completed"
    },
    "tags": []
   },
   "source": [
    "### From the plot, we can observe the following:\n",
    "- Neural Network achieves higher accuracy than the Logistic Regression model.\n",
    "- This apparently, is because of overfitting, i.e. NN captures more noise than data.\n",
    "- Testing accuracy of NN drops below the Training accuracy at higher epochs. This explains the over-fitting on training data.\n",
    "- Logistic Regression gives a reliable accuracy, without the above mentioned problem.\n"
   ]
  },
  {
   "cell_type": "markdown",
   "metadata": {
    "papermill": {
     "duration": 0.045227,
     "end_time": "2020-12-14T10:16:26.278988",
     "exception": false,
     "start_time": "2020-12-14T10:16:26.233761",
     "status": "completed"
    },
    "tags": []
   },
   "source": [
    "### Moving till the last but one layer (excluding it).\n",
    "#### Plotting the outputs of this layer of the NN."
   ]
  },
  {
   "cell_type": "code",
   "execution_count": 24,
   "metadata": {
    "execution": {
     "iopub.execute_input": "2020-12-14T10:16:26.381777Z",
     "iopub.status.busy": "2020-12-14T10:16:26.374012Z",
     "iopub.status.idle": "2020-12-14T10:16:26.385680Z",
     "shell.execute_reply": "2020-12-14T10:16:26.385156Z"
    },
    "papermill": {
     "duration": 0.061468,
     "end_time": "2020-12-14T10:16:26.385798",
     "exception": false,
     "start_time": "2020-12-14T10:16:26.324330",
     "status": "completed"
    },
    "tags": []
   },
   "outputs": [],
   "source": [
    "model_new = Model(layers[:-2])"
   ]
  },
  {
   "cell_type": "code",
   "execution_count": 25,
   "metadata": {
    "execution": {
     "iopub.execute_input": "2020-12-14T10:16:26.493735Z",
     "iopub.status.busy": "2020-12-14T10:16:26.484724Z",
     "iopub.status.idle": "2020-12-14T10:16:26.503761Z",
     "shell.execute_reply": "2020-12-14T10:16:26.504313Z"
    },
    "papermill": {
     "duration": 0.072974,
     "end_time": "2020-12-14T10:16:26.504461",
     "exception": false,
     "start_time": "2020-12-14T10:16:26.431487",
     "status": "completed"
    },
    "tags": []
   },
   "outputs": [],
   "source": [
    "plot_testing = model_new(testing_xdata)"
   ]
  },
  {
   "cell_type": "code",
   "execution_count": 26,
   "metadata": {
    "execution": {
     "iopub.execute_input": "2020-12-14T10:16:26.614288Z",
     "iopub.status.busy": "2020-12-14T10:16:26.613690Z",
     "iopub.status.idle": "2020-12-14T10:16:26.819892Z",
     "shell.execute_reply": "2020-12-14T10:16:26.819393Z"
    },
    "papermill": {
     "duration": 0.269048,
     "end_time": "2020-12-14T10:16:26.820024",
     "exception": false,
     "start_time": "2020-12-14T10:16:26.550976",
     "status": "completed"
    },
    "tags": []
   },
   "outputs": [
    {
     "data": {
      "text/plain": [
       "Text(0.5, 1.0, 'Outputs')"
      ]
     },
     "execution_count": 26,
     "metadata": {},
     "output_type": "execute_result"
    },
    {
     "data": {
      "image/png": "[encoded data removed]",
      "text/plain": [
       "<Figure size 576x504 with 1 Axes>"
      ]
     },
     "metadata": {
      "needs_background": "light"
     },
     "output_type": "display_data"
    }
   ],
   "source": [
    "plt.figure(figsize=(8,7))\n",
    "plt.scatter(plot_testing[:,0], plot_testing[:,1], alpha = 0.1, c = y_test.ravel());\n",
    "plt.title('Outputs')"
   ]
  },
  {
   "cell_type": "markdown",
   "metadata": {
    "papermill": {
     "duration": 0.048059,
     "end_time": "2020-12-14T10:16:26.915404",
     "exception": false,
     "start_time": "2020-12-14T10:16:26.867345",
     "status": "completed"
    },
    "tags": []
   },
   "source": [
    "### Plotting probability contours"
   ]
  },
  {
   "cell_type": "code",
   "execution_count": 27,
   "metadata": {
    "execution": {
     "iopub.execute_input": "2020-12-14T10:16:27.031661Z",
     "iopub.status.busy": "2020-12-14T10:16:27.025771Z",
     "iopub.status.idle": "2020-12-14T10:16:27.033851Z",
     "shell.execute_reply": "2020-12-14T10:16:27.034352Z"
    },
    "papermill": {
     "duration": 0.071759,
     "end_time": "2020-12-14T10:16:27.034488",
     "exception": false,
     "start_time": "2020-12-14T10:16:26.962729",
     "status": "completed"
    },
    "tags": []
   },
   "outputs": [],
   "source": [
    "model_prob = Model(layers[-2:]) "
   ]
  },
  {
   "cell_type": "code",
   "execution_count": 28,
   "metadata": {
    "execution": {
     "iopub.execute_input": "2020-12-14T10:16:27.141749Z",
     "iopub.status.busy": "2020-12-14T10:16:27.141088Z",
     "iopub.status.idle": "2020-12-14T10:16:27.156758Z",
     "shell.execute_reply": "2020-12-14T10:16:27.157240Z"
    },
    "papermill": {
     "duration": 0.071271,
     "end_time": "2020-12-14T10:16:27.157384",
     "exception": false,
     "start_time": "2020-12-14T10:16:27.086113",
     "status": "completed"
    },
    "tags": []
   },
   "outputs": [],
   "source": [
    "# Adjust the x and y ranges according to the above generated plot.\n",
    "x_range = np.linspace(-4, 1, 100) \n",
    "y_range = np.linspace(-6, 6, 100) \n",
    "x_grid, y_grid = np.meshgrid(x_range, y_range) # x_grid and y_grig are of size 100 X 100\n",
    "\n",
    "# converting x_grid and y_grid to continuous arrays\n",
    "x_grid_flat = np.ravel(x_grid)\n",
    "y_grid_flat = np.ravel(y_grid)\n",
    "\n",
    "# The last layer of the current model takes two columns as input. Hence transpose of np.vstack() is required.\n",
    "X = np.vstack((x_grid_flat, y_grid_flat)).T\n",
    "\n",
    "# x_grid and y_grid are of size 100 x 100\n",
    "probability_contour = model_prob(X).reshape(100,100) "
   ]
  },
  {
   "cell_type": "code",
   "execution_count": 29,
   "metadata": {
    "execution": {
     "iopub.execute_input": "2020-12-14T10:16:27.280106Z",
     "iopub.status.busy": "2020-12-14T10:16:27.279407Z",
     "iopub.status.idle": "2020-12-14T10:16:27.533410Z",
     "shell.execute_reply": "2020-12-14T10:16:27.532804Z"
    },
    "papermill": {
     "duration": 0.328101,
     "end_time": "2020-12-14T10:16:27.533553",
     "exception": false,
     "start_time": "2020-12-14T10:16:27.205452",
     "status": "completed"
    },
    "tags": []
   },
   "outputs": [
    {
     "data": {
      "image/png": "[encoded data removed]",
      "text/plain": [
       "<Figure size 720x648 with 1 Axes>"
      ]
     },
     "metadata": {
      "needs_background": "light"
     },
     "output_type": "display_data"
    }
   ],
   "source": [
    "plt.figure(figsize=(10,9))\n",
    "plt.scatter(plot_testing[:,0], plot_testing[:,1], alpha = 0.1, c = y_test.ravel())\n",
    "contours = plt.contour(x_grid,y_grid,probability_contour)\n",
    "plt.title('Probability Contours')\n",
    "plt.clabel(contours, inline = True );"
   ]
  }
 ],
 "metadata": {
  "kernelspec": {
   "display_name": "Python 3",
   "language": "python",
   "name": "python3"
  },
  "language_info": {
   "codemirror_mode": {
    "name": "ipython",
    "version": 3
   },
   "file_extension": ".py",
   "mimetype": "text/x-python",
   "name": "python",
   "nbconvert_exporter": "python",
   "pygments_lexer": "ipython3",
   "version": "3.6.12"
  },
  "papermill": {
   "duration": 144.522801,
   "end_time": "2020-12-14T10:16:27.891236",
   "environment_variables": {},
   "exception": null,
   "input_path": "2020-08-11-NeuralNetwork.ipynb",
   "output_path": "2020-08-11-NeuralNetwork.ipynb",
   "parameters": {},
   "start_time": "2020-12-14T10:14:03.368435",
   "version": "2.1.2"
  }
 },
 "nbformat": 4,
 "nbformat_minor": 4
}