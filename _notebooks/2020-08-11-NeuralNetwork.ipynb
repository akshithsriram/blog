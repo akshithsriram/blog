{
 "cells": [
  {
   "cell_type": "markdown",
   "metadata": {
    "papermill": {
     "duration": 0.035129,
     "end_time": "2020-10-02T00:06:21.344221",
     "exception": false,
     "start_time": "2020-10-02T00:06:21.309092",
     "status": "completed"
    },
    "tags": []
   },
   "source": [
    "# \"A Basic Neural Network: Differentiate Hand-Written Digits\"\n",
    "\n",
    "- badges: true\n",
    "- author: Akshith Sriram"
   ]
  },
  {
   "cell_type": "markdown",
   "metadata": {
    "papermill": {
     "duration": 0.060007,
     "end_time": "2020-10-02T00:06:21.432475",
     "exception": false,
     "start_time": "2020-10-02T00:06:21.372468",
     "status": "completed"
    },
    "tags": []
   },
   "source": [
    "### Key Objectives:\n",
    "- Building a neural network that differentiates two hand-written digits 3 and 8.\n",
    "- Comparing the results of this Neural Network (NN) to that of a Logistic Regression (LR) model.\n",
    "\n",
    "### Requirements:\n",
    "- 'Kudzu' : A neural network library that was designed during our course by [Univ.AI](www.univ.ai). \n",
    "- MNIST Database\n",
    "\n",
    "If MNIST is not installed, use the command `!pip install mnist` given below.\n",
    "It can be run both from the command line and Jupyter Notebook."
   ]
  },
  {
   "cell_type": "code",
   "execution_count": 1,
   "metadata": {
    "execution": {
     "iopub.execute_input": "2020-10-02T00:06:21.740472Z",
     "iopub.status.busy": "2020-10-02T00:06:21.735612Z",
     "iopub.status.idle": "2020-10-02T00:06:23.560240Z",
     "shell.execute_reply": "2020-10-02T00:06:23.559259Z"
    },
    "papermill": {
     "duration": 1.871292,
     "end_time": "2020-10-02T00:06:23.560424",
     "exception": false,
     "start_time": "2020-10-02T00:06:21.689132",
     "status": "completed"
    },
    "tags": []
   },
   "outputs": [
    {
     "name": "stdout",
     "output_type": "stream",
     "text": [
      "Collecting mnist\r\n"
     ]
    },
    {
     "name": "stdout",
     "output_type": "stream",
     "text": [
      "  Downloading mnist-0.2.2-py2.py3-none-any.whl (3.5 kB)\r\n"
     ]
    },
    {
     "name": "stdout",
     "output_type": "stream",
     "text": [
      "Requirement already satisfied: numpy in /opt/hostedtoolcache/Python/3.6.12/x64/lib/python3.6/site-packages (from mnist) (1.19.2)\r\n"
     ]
    },
    {
     "name": "stdout",
     "output_type": "stream",
     "text": [
      "Installing collected packages: mnist\r\n"
     ]
    },
    {
     "name": "stdout",
     "output_type": "stream",
     "text": [
      "Successfully installed mnist-0.2.2\r\n"
     ]
    }
   ],
   "source": [
    "!pip install mnist "
   ]
  },
  {
   "cell_type": "markdown",
   "metadata": {
    "papermill": {
     "duration": 0.031874,
     "end_time": "2020-10-02T00:06:23.624371",
     "exception": false,
     "start_time": "2020-10-02T00:06:23.592497",
     "status": "completed"
    },
    "tags": []
   },
   "source": [
    "#### Importing necessary libraries"
   ]
  },
  {
   "cell_type": "code",
   "execution_count": 2,
   "metadata": {
    "execution": {
     "iopub.execute_input": "2020-10-02T00:06:23.706310Z",
     "iopub.status.busy": "2020-10-02T00:06:23.705437Z",
     "iopub.status.idle": "2020-10-02T00:06:24.379099Z",
     "shell.execute_reply": "2020-10-02T00:06:24.378482Z"
    },
    "papermill": {
     "duration": 0.720714,
     "end_time": "2020-10-02T00:06:24.379272",
     "exception": false,
     "start_time": "2020-10-02T00:06:23.658558",
     "status": "completed"
    },
    "tags": []
   },
   "outputs": [],
   "source": [
    "%load_ext autoreload\n",
    "%autoreload 2\n",
    "\n",
    "%matplotlib inline\n",
    "import matplotlib.pyplot as plt\n",
    "\n",
    "import numpy as np\n",
    "import pandas as pd"
   ]
  },
  {
   "cell_type": "markdown",
   "metadata": {
    "papermill": {
     "duration": 0.031011,
     "end_time": "2020-10-02T00:06:24.443171",
     "exception": false,
     "start_time": "2020-10-02T00:06:24.412160",
     "status": "completed"
    },
    "tags": []
   },
   "source": [
    "### Preparing the Data"
   ]
  },
  {
   "cell_type": "code",
   "execution_count": 3,
   "metadata": {
    "execution": {
     "iopub.execute_input": "2020-10-02T00:06:24.506942Z",
     "iopub.status.busy": "2020-10-02T00:06:24.506224Z",
     "iopub.status.idle": "2020-10-02T00:06:24.520303Z",
     "shell.execute_reply": "2020-10-02T00:06:24.519670Z"
    },
    "papermill": {
     "duration": 0.047139,
     "end_time": "2020-10-02T00:06:24.520442",
     "exception": false,
     "start_time": "2020-10-02T00:06:24.473303",
     "status": "completed"
    },
    "tags": []
   },
   "outputs": [],
   "source": [
    "import mnist"
   ]
  },
  {
   "cell_type": "code",
   "execution_count": 4,
   "metadata": {
    "execution": {
     "iopub.execute_input": "2020-10-02T00:06:24.584460Z",
     "iopub.status.busy": "2020-10-02T00:06:24.583690Z",
     "iopub.status.idle": "2020-10-02T00:06:25.556070Z",
     "shell.execute_reply": "2020-10-02T00:06:25.556729Z"
    },
    "papermill": {
     "duration": 1.007307,
     "end_time": "2020-10-02T00:06:25.557052",
     "exception": false,
     "start_time": "2020-10-02T00:06:24.549745",
     "status": "completed"
    },
    "tags": []
   },
   "outputs": [],
   "source": [
    "train_images = mnist.train_images()\n",
    "train_labels = mnist.train_labels()"
   ]
  },
  {
   "cell_type": "code",
   "execution_count": 5,
   "metadata": {
    "execution": {
     "iopub.execute_input": "2020-10-02T00:06:25.624408Z",
     "iopub.status.busy": "2020-10-02T00:06:25.623768Z",
     "iopub.status.idle": "2020-10-02T00:06:25.642151Z",
     "shell.execute_reply": "2020-10-02T00:06:25.643167Z"
    },
    "papermill": {
     "duration": 0.055266,
     "end_time": "2020-10-02T00:06:25.643413",
     "exception": false,
     "start_time": "2020-10-02T00:06:25.588147",
     "status": "completed"
    },
    "tags": []
   },
   "outputs": [
    {
     "data": {
      "text/plain": [
       "((60000, 28, 28), (60000,))"
      ]
     },
     "execution_count": 5,
     "metadata": {},
     "output_type": "execute_result"
    }
   ],
   "source": [
    "train_images.shape, train_labels.shape"
   ]
  },
  {
   "cell_type": "code",
   "execution_count": 6,
   "metadata": {
    "execution": {
     "iopub.execute_input": "2020-10-02T00:06:25.709572Z",
     "iopub.status.busy": "2020-10-02T00:06:25.708830Z",
     "iopub.status.idle": "2020-10-02T00:06:26.140927Z",
     "shell.execute_reply": "2020-10-02T00:06:26.141449Z"
    },
    "papermill": {
     "duration": 0.467413,
     "end_time": "2020-10-02T00:06:26.141643",
     "exception": false,
     "start_time": "2020-10-02T00:06:25.674230",
     "status": "completed"
    },
    "tags": []
   },
   "outputs": [],
   "source": [
    "test_images = mnist.test_images()\n",
    "test_labels = mnist.test_labels()"
   ]
  },
  {
   "cell_type": "code",
   "execution_count": 7,
   "metadata": {
    "execution": {
     "iopub.execute_input": "2020-10-02T00:06:26.204482Z",
     "iopub.status.busy": "2020-10-02T00:06:26.203863Z",
     "iopub.status.idle": "2020-10-02T00:06:26.219836Z",
     "shell.execute_reply": "2020-10-02T00:06:26.219328Z"
    },
    "papermill": {
     "duration": 0.04889,
     "end_time": "2020-10-02T00:06:26.219969",
     "exception": false,
     "start_time": "2020-10-02T00:06:26.171079",
     "status": "completed"
    },
    "tags": []
   },
   "outputs": [
    {
     "data": {
      "text/plain": [
       "((10000, 28, 28), (10000,))"
      ]
     },
     "execution_count": 7,
     "metadata": {},
     "output_type": "execute_result"
    }
   ],
   "source": [
    "test_images.shape, test_labels.shape"
   ]
  },
  {
   "cell_type": "code",
   "execution_count": 8,
   "metadata": {
    "execution": {
     "iopub.execute_input": "2020-10-02T00:06:26.284717Z",
     "iopub.status.busy": "2020-10-02T00:06:26.283974Z",
     "iopub.status.idle": "2020-10-02T00:06:26.478435Z",
     "shell.execute_reply": "2020-10-02T00:06:26.477734Z"
    },
    "papermill": {
     "duration": 0.229434,
     "end_time": "2020-10-02T00:06:26.478608",
     "exception": false,
     "start_time": "2020-10-02T00:06:26.249174",
     "status": "completed"
    },
    "tags": []
   },
   "outputs": [
    {
     "name": "stdout",
     "output_type": "stream",
     "text": [
      "2\n"
     ]
    },
    {
     "data": {
      "text/plain": [
       "<matplotlib.image.AxesImage at 0x7fddf174c7f0>"
      ]
     },
     "execution_count": 8,
     "metadata": {},
     "output_type": "execute_result"
    },
    {
     "data": {
      "image/png": "[encoded data removed]",
      "text/plain": [
       "<Figure size 432x288 with 1 Axes>"
      ]
     },
     "metadata": {
      "needs_background": "light"
     },
     "output_type": "display_data"
    }
   ],
   "source": [
    "image_index = 7776 # You may select anything up to 60,000\n",
    "print(train_labels[image_index]) \n",
    "plt.imshow(train_images[image_index], cmap='Greys')"
   ]
  },
  {
   "cell_type": "markdown",
   "metadata": {
    "papermill": {
     "duration": 0.03333,
     "end_time": "2020-10-02T00:06:26.546112",
     "exception": false,
     "start_time": "2020-10-02T00:06:26.512782",
     "status": "completed"
    },
    "tags": []
   },
   "source": [
    "## Filter data to get 3 and 8 out"
   ]
  },
  {
   "cell_type": "code",
   "execution_count": 9,
   "metadata": {
    "execution": {
     "iopub.execute_input": "2020-10-02T00:06:26.617152Z",
     "iopub.status.busy": "2020-10-02T00:06:26.616435Z",
     "iopub.status.idle": "2020-10-02T00:06:26.639198Z",
     "shell.execute_reply": "2020-10-02T00:06:26.638550Z"
    },
    "papermill": {
     "duration": 0.060624,
     "end_time": "2020-10-02T00:06:26.639365",
     "exception": false,
     "start_time": "2020-10-02T00:06:26.578741",
     "status": "completed"
    },
    "tags": []
   },
   "outputs": [],
   "source": [
    "train_filter = np.where((train_labels == 3 ) | (train_labels == 8))\n",
    "test_filter = np.where((test_labels == 3) | (test_labels == 8))\n",
    "X_train, y_train = train_images[train_filter], train_labels[train_filter]\n",
    "X_test, y_test = test_images[test_filter], test_labels[test_filter]"
   ]
  },
  {
   "cell_type": "markdown",
   "metadata": {
    "papermill": {
     "duration": 0.034094,
     "end_time": "2020-10-02T00:06:26.706270",
     "exception": false,
     "start_time": "2020-10-02T00:06:26.672176",
     "status": "completed"
    },
    "tags": []
   },
   "source": [
    "We normalize the pixel values in the 0 to 1 range"
   ]
  },
  {
   "cell_type": "code",
   "execution_count": 10,
   "metadata": {
    "execution": {
     "iopub.execute_input": "2020-10-02T00:06:26.778811Z",
     "iopub.status.busy": "2020-10-02T00:06:26.778110Z",
     "iopub.status.idle": "2020-10-02T00:06:26.847716Z",
     "shell.execute_reply": "2020-10-02T00:06:26.846978Z"
    },
    "papermill": {
     "duration": 0.10753,
     "end_time": "2020-10-02T00:06:26.847894",
     "exception": false,
     "start_time": "2020-10-02T00:06:26.740364",
     "status": "completed"
    },
    "tags": []
   },
   "outputs": [],
   "source": [
    "X_train = X_train/255.\n",
    "X_test = X_test/255."
   ]
  },
  {
   "cell_type": "markdown",
   "metadata": {
    "papermill": {
     "duration": 0.033641,
     "end_time": "2020-10-02T00:06:26.916117",
     "exception": false,
     "start_time": "2020-10-02T00:06:26.882476",
     "status": "completed"
    },
    "tags": []
   },
   "source": [
    "Setup the labels as 1 (when the digit is 3) and 0 (when the digit is 8)"
   ]
  },
  {
   "cell_type": "code",
   "execution_count": 11,
   "metadata": {
    "execution": {
     "iopub.execute_input": "2020-10-02T00:06:26.987178Z",
     "iopub.status.busy": "2020-10-02T00:06:26.986365Z",
     "iopub.status.idle": "2020-10-02T00:06:27.005734Z",
     "shell.execute_reply": "2020-10-02T00:06:27.005166Z"
    },
    "papermill": {
     "duration": 0.0572,
     "end_time": "2020-10-02T00:06:27.005895",
     "exception": false,
     "start_time": "2020-10-02T00:06:26.948695",
     "status": "completed"
    },
    "tags": []
   },
   "outputs": [],
   "source": [
    "y_train = 1*(y_train==3)\n",
    "y_test = 1*(y_test==3)"
   ]
  },
  {
   "cell_type": "code",
   "execution_count": 12,
   "metadata": {
    "execution": {
     "iopub.execute_input": "2020-10-02T00:06:27.075111Z",
     "iopub.status.busy": "2020-10-02T00:06:27.074439Z",
     "iopub.status.idle": "2020-10-02T00:06:27.088905Z",
     "shell.execute_reply": "2020-10-02T00:06:27.089603Z"
    },
    "papermill": {
     "duration": 0.051585,
     "end_time": "2020-10-02T00:06:27.089786",
     "exception": false,
     "start_time": "2020-10-02T00:06:27.038201",
     "status": "completed"
    },
    "tags": []
   },
   "outputs": [
    {
     "data": {
      "text/plain": [
       "((11982, 28, 28), (1984, 28, 28))"
      ]
     },
     "execution_count": 12,
     "metadata": {},
     "output_type": "execute_result"
    }
   ],
   "source": [
    "X_train.shape, X_test.shape"
   ]
  },
  {
   "cell_type": "markdown",
   "metadata": {
    "papermill": {
     "duration": 0.032955,
     "end_time": "2020-10-02T00:06:27.155664",
     "exception": false,
     "start_time": "2020-10-02T00:06:27.122709",
     "status": "completed"
    },
    "tags": []
   },
   "source": [
    "### Reshape the input data to create a linear array"
   ]
  },
  {
   "cell_type": "code",
   "execution_count": 13,
   "metadata": {
    "execution": {
     "iopub.execute_input": "2020-10-02T00:06:27.228289Z",
     "iopub.status.busy": "2020-10-02T00:06:27.227628Z",
     "iopub.status.idle": "2020-10-02T00:06:27.243633Z",
     "shell.execute_reply": "2020-10-02T00:06:27.243080Z"
    },
    "papermill": {
     "duration": 0.055309,
     "end_time": "2020-10-02T00:06:27.243790",
     "exception": false,
     "start_time": "2020-10-02T00:06:27.188481",
     "status": "completed"
    },
    "tags": []
   },
   "outputs": [
    {
     "data": {
      "text/plain": [
       "((11982, 784), (1984, 784))"
      ]
     },
     "execution_count": 13,
     "metadata": {},
     "output_type": "execute_result"
    }
   ],
   "source": [
    "X_train = X_train.reshape(X_train.shape[0], -1)\n",
    "X_test = X_test.reshape(X_test.shape[0], -1)\n",
    "X_train.shape, X_test.shape"
   ]
  },
  {
   "cell_type": "markdown",
   "metadata": {
    "papermill": {
     "duration": 0.033308,
     "end_time": "2020-10-02T00:06:27.310305",
     "exception": false,
     "start_time": "2020-10-02T00:06:27.276997",
     "status": "completed"
    },
    "tags": []
   },
   "source": [
    "### Importing appropriate functions from 'Kudzu'"
   ]
  },
  {
   "cell_type": "code",
   "execution_count": 14,
   "metadata": {
    "execution": {
     "iopub.execute_input": "2020-10-02T00:06:27.384268Z",
     "iopub.status.busy": "2020-10-02T00:06:27.383624Z",
     "iopub.status.idle": "2020-10-02T00:06:27.406056Z",
     "shell.execute_reply": "2020-10-02T00:06:27.405482Z"
    },
    "papermill": {
     "duration": 0.062091,
     "end_time": "2020-10-02T00:06:27.406205",
     "exception": false,
     "start_time": "2020-10-02T00:06:27.344114",
     "status": "completed"
    },
    "tags": []
   },
   "outputs": [],
   "source": [
    "from kudzu.layer import Sigmoid\n",
    "from kudzu.layer import Relu\n",
    "from kudzu.layer import Affine, Sigmoid\n",
    "\n",
    "from kudzu.model import Model\n",
    "from kudzu.train import Learner\n",
    "from kudzu.optim import GD\n",
    "from kudzu.data import Data, Dataloader, Sampler\n",
    "\n",
    "from kudzu.callbacks import AccCallback\n",
    "from kudzu.callbacks import ClfCallback\n",
    "\n",
    "from kudzu.loss import MSE"
   ]
  },
  {
   "cell_type": "markdown",
   "metadata": {
    "papermill": {
     "duration": 0.031188,
     "end_time": "2020-10-02T00:06:27.469540",
     "exception": false,
     "start_time": "2020-10-02T00:06:27.438352",
     "status": "completed"
    },
    "tags": []
   },
   "source": [
    "### Let us create a `Config` class, to store important parameters. \n",
    "This class essentially plays the role of a dictionary."
   ]
  },
  {
   "cell_type": "code",
   "execution_count": 15,
   "metadata": {
    "execution": {
     "iopub.execute_input": "2020-10-02T00:06:27.546682Z",
     "iopub.status.busy": "2020-10-02T00:06:27.545968Z",
     "iopub.status.idle": "2020-10-02T00:06:27.560844Z",
     "shell.execute_reply": "2020-10-02T00:06:27.560325Z"
    },
    "papermill": {
     "duration": 0.052843,
     "end_time": "2020-10-02T00:06:27.560990",
     "exception": false,
     "start_time": "2020-10-02T00:06:27.508147",
     "status": "completed"
    },
    "tags": []
   },
   "outputs": [],
   "source": [
    "class Config:\n",
    "    pass\n",
    "config = Config()\n",
    "config.lr = 0.001\n",
    "config.num_epochs = 251\n",
    "config.bs = 50"
   ]
  },
  {
   "cell_type": "markdown",
   "metadata": {
    "papermill": {
     "duration": 0.030942,
     "end_time": "2020-10-02T00:06:27.623692",
     "exception": false,
     "start_time": "2020-10-02T00:06:27.592750",
     "status": "completed"
    },
    "tags": []
   },
   "source": [
    "### Initializing data to the variables"
   ]
  },
  {
   "cell_type": "code",
   "execution_count": 16,
   "metadata": {
    "execution": {
     "iopub.execute_input": "2020-10-02T00:06:27.694251Z",
     "iopub.status.busy": "2020-10-02T00:06:27.693558Z",
     "iopub.status.idle": "2020-10-02T00:06:27.708719Z",
     "shell.execute_reply": "2020-10-02T00:06:27.708182Z"
    },
    "papermill": {
     "duration": 0.052731,
     "end_time": "2020-10-02T00:06:27.708870",
     "exception": false,
     "start_time": "2020-10-02T00:06:27.656139",
     "status": "completed"
    },
    "tags": []
   },
   "outputs": [],
   "source": [
    "data = Data(X_train, y_train.reshape(-1,1))\n",
    "sampler = Sampler(data, config.bs, shuffle=True)\n",
    "\n",
    "dl = Dataloader(data, sampler)\n",
    "\n",
    "opt = GD(config.lr)\n",
    "loss = MSE()"
   ]
  },
  {
   "cell_type": "code",
   "execution_count": 17,
   "metadata": {
    "execution": {
     "iopub.execute_input": "2020-10-02T00:06:27.789002Z",
     "iopub.status.busy": "2020-10-02T00:06:27.788292Z",
     "iopub.status.idle": "2020-10-02T00:06:27.802366Z",
     "shell.execute_reply": "2020-10-02T00:06:27.802972Z"
    },
    "papermill": {
     "duration": 0.053849,
     "end_time": "2020-10-02T00:06:27.803143",
     "exception": false,
     "start_time": "2020-10-02T00:06:27.749294",
     "status": "completed"
    },
    "tags": []
   },
   "outputs": [],
   "source": [
    "training_xdata = X_train\n",
    "testing_xdata = X_test\n",
    "training_ydata = y_train.reshape(-1,1)\n",
    "testing_ydata = y_test.reshape(-1,1)"
   ]
  },
  {
   "cell_type": "markdown",
   "metadata": {
    "papermill": {
     "duration": 0.03133,
     "end_time": "2020-10-02T00:06:27.867310",
     "exception": false,
     "start_time": "2020-10-02T00:06:27.835980",
     "status": "completed"
    },
    "tags": []
   },
   "source": [
    "### Running Models with the Training data\n",
    "Details about the network layers:\n",
    "- A first affine layer has 784 inputs and does 100 affine transforms. These are followed by a Relu\n",
    "- A second affine layer has 100 inputs from the 100 activations of the past layer, and does 100 affine transforms. These are followed by a Relu\n",
    "- A third affine layer has 100 activations and does 2 affine transformations to create an embedding for visualization. There is no non-linearity here.\n",
    "- A final \"logistic regression\" which has an affine transform from 2 inputs to 1 output, which is squeezed through a sigmoid.\n",
    "\n",
    "Help taken from Anshuman's Notebook."
   ]
  },
  {
   "cell_type": "code",
   "execution_count": 18,
   "metadata": {
    "execution": {
     "iopub.execute_input": "2020-10-02T00:06:27.938944Z",
     "iopub.status.busy": "2020-10-02T00:06:27.938210Z",
     "iopub.status.idle": "2020-10-02T00:06:27.958987Z",
     "shell.execute_reply": "2020-10-02T00:06:27.959494Z"
    },
    "papermill": {
     "duration": 0.059623,
     "end_time": "2020-10-02T00:06:27.959670",
     "exception": false,
     "start_time": "2020-10-02T00:06:27.900047",
     "status": "completed"
    },
    "tags": []
   },
   "outputs": [],
   "source": [
    "# layers for the Neural Network\n",
    "layers = [Affine(\"first\", 784, 100), Relu(\"first\"), Affine(\"second\", 100, 100), Relu(\"second\"), Affine(\"third\", 100, 2), Affine(\"final\", 2, 1), Sigmoid(\"final\")]\n",
    "model_nn = Model(layers)\n",
    "\n",
    "# layers for the Logistic Regression\n",
    "layers_lr = [Affine(\"logits\", 784, 1), Sigmoid(\"sigmoid\")]\n",
    "model_lr = Model(layers_lr)"
   ]
  },
  {
   "cell_type": "code",
   "execution_count": 19,
   "metadata": {
    "execution": {
     "iopub.execute_input": "2020-10-02T00:06:28.032114Z",
     "iopub.status.busy": "2020-10-02T00:06:28.031403Z",
     "iopub.status.idle": "2020-10-02T00:06:28.045991Z",
     "shell.execute_reply": "2020-10-02T00:06:28.045362Z"
    },
    "papermill": {
     "duration": 0.053667,
     "end_time": "2020-10-02T00:06:28.046156",
     "exception": false,
     "start_time": "2020-10-02T00:06:27.992489",
     "status": "completed"
    },
    "tags": []
   },
   "outputs": [],
   "source": [
    "# suffix _nn stands for Neural Network.\n",
    "learner_nn = Learner(loss, model_nn, opt, config.num_epochs)\n",
    "acc_nn = ClfCallback(learner_nn, config.bs, training_xdata , testing_xdata, training_ydata, testing_ydata)\n",
    "learner_nn.set_callbacks([acc_nn])"
   ]
  },
  {
   "cell_type": "code",
   "execution_count": 20,
   "metadata": {
    "execution": {
     "iopub.execute_input": "2020-10-02T00:06:28.120766Z",
     "iopub.status.busy": "2020-10-02T00:06:28.120015Z",
     "iopub.status.idle": "2020-10-02T00:08:49.399431Z",
     "shell.execute_reply": "2020-10-02T00:08:49.400182Z"
    },
    "papermill": {
     "duration": 141.318881,
     "end_time": "2020-10-02T00:08:49.400442",
     "exception": false,
     "start_time": "2020-10-02T00:06:28.081561",
     "status": "completed"
    },
    "tags": []
   },
   "outputs": [
    {
     "name": "stdout",
     "output_type": "stream",
     "text": [
      "====== Neural Network ======\n"
     ]
    },
    {
     "name": "stdout",
     "output_type": "stream",
     "text": [
      "Epoch 0, Loss 0.2216\n",
      "Training Accuracy: 0.7788, Testing Accuracy: 0.7828\n",
      "\n"
     ]
    },
    {
     "name": "stdout",
     "output_type": "stream",
     "text": [
      "Epoch 10, Loss 0.0742\n",
      "Training Accuracy: 0.9296, Testing Accuracy: 0.9400\n",
      "\n"
     ]
    },
    {
     "name": "stdout",
     "output_type": "stream",
     "text": [
      "Epoch 20, Loss 0.0495\n",
      "Training Accuracy: 0.9487, Testing Accuracy: 0.9592\n",
      "\n"
     ]
    },
    {
     "name": "stdout",
     "output_type": "stream",
     "text": [
      "Epoch 30, Loss 0.0406\n",
      "Training Accuracy: 0.9564, Testing Accuracy: 0.9657\n",
      "\n"
     ]
    },
    {
     "name": "stdout",
     "output_type": "stream",
     "text": [
      "Epoch 40, Loss 0.0359\n",
      "Training Accuracy: 0.9600, Testing Accuracy: 0.9662\n",
      "\n"
     ]
    },
    {
     "name": "stdout",
     "output_type": "stream",
     "text": [
      "Epoch 50, Loss 0.0329\n",
      "Training Accuracy: 0.9626, Testing Accuracy: 0.9667\n",
      "\n"
     ]
    },
    {
     "name": "stdout",
     "output_type": "stream",
     "text": [
      "Epoch 60, Loss 0.0308\n",
      "Training Accuracy: 0.9649, Testing Accuracy: 0.9662\n",
      "\n"
     ]
    },
    {
     "name": "stdout",
     "output_type": "stream",
     "text": [
      "Epoch 70, Loss 0.0291\n",
      "Training Accuracy: 0.9671, Testing Accuracy: 0.9672\n",
      "\n"
     ]
    },
    {
     "name": "stdout",
     "output_type": "stream",
     "text": [
      "Epoch 80, Loss 0.0278\n",
      "Training Accuracy: 0.9684, Testing Accuracy: 0.9682\n",
      "\n"
     ]
    },
    {
     "name": "stdout",
     "output_type": "stream",
     "text": [
      "Epoch 90, Loss 0.0267\n",
      "Training Accuracy: 0.9700, Testing Accuracy: 0.9677\n",
      "\n"
     ]
    },
    {
     "name": "stdout",
     "output_type": "stream",
     "text": [
      "Epoch 100, Loss 0.0257\n",
      "Training Accuracy: 0.9705, Testing Accuracy: 0.9698\n",
      "\n"
     ]
    },
    {
     "name": "stdout",
     "output_type": "stream",
     "text": [
      "Epoch 110, Loss 0.0249\n",
      "Training Accuracy: 0.9714, Testing Accuracy: 0.9703\n",
      "\n"
     ]
    },
    {
     "name": "stdout",
     "output_type": "stream",
     "text": [
      "Epoch 120, Loss 0.0242\n",
      "Training Accuracy: 0.9726, Testing Accuracy: 0.9703\n",
      "\n"
     ]
    },
    {
     "name": "stdout",
     "output_type": "stream",
     "text": [
      "Epoch 130, Loss 0.0236\n",
      "Training Accuracy: 0.9731, Testing Accuracy: 0.9703\n",
      "\n"
     ]
    },
    {
     "name": "stdout",
     "output_type": "stream",
     "text": [
      "Epoch 140, Loss 0.023\n",
      "Training Accuracy: 0.9740, Testing Accuracy: 0.9703\n",
      "\n"
     ]
    },
    {
     "name": "stdout",
     "output_type": "stream",
     "text": [
      "Epoch 150, Loss 0.0224\n",
      "Training Accuracy: 0.9747, Testing Accuracy: 0.9723\n",
      "\n"
     ]
    },
    {
     "name": "stdout",
     "output_type": "stream",
     "text": [
      "Epoch 160, Loss 0.0219\n",
      "Training Accuracy: 0.9750, Testing Accuracy: 0.9723\n",
      "\n"
     ]
    },
    {
     "name": "stdout",
     "output_type": "stream",
     "text": [
      "Epoch 170, Loss 0.0215\n",
      "Training Accuracy: 0.9759, Testing Accuracy: 0.9718\n",
      "\n"
     ]
    },
    {
     "name": "stdout",
     "output_type": "stream",
     "text": [
      "Epoch 180, Loss 0.021\n",
      "Training Accuracy: 0.9765, Testing Accuracy: 0.9718\n",
      "\n"
     ]
    },
    {
     "name": "stdout",
     "output_type": "stream",
     "text": [
      "Epoch 190, Loss 0.0206\n",
      "Training Accuracy: 0.9771, Testing Accuracy: 0.9728\n",
      "\n"
     ]
    },
    {
     "name": "stdout",
     "output_type": "stream",
     "text": [
      "Epoch 200, Loss 0.0202\n",
      "Training Accuracy: 0.9779, Testing Accuracy: 0.9733\n",
      "\n"
     ]
    },
    {
     "name": "stdout",
     "output_type": "stream",
     "text": [
      "Epoch 210, Loss 0.0198\n",
      "Training Accuracy: 0.9783, Testing Accuracy: 0.9733\n",
      "\n"
     ]
    },
    {
     "name": "stdout",
     "output_type": "stream",
     "text": [
      "Epoch 220, Loss 0.0195\n",
      "Training Accuracy: 0.9786, Testing Accuracy: 0.9743\n",
      "\n"
     ]
    },
    {
     "name": "stdout",
     "output_type": "stream",
     "text": [
      "Epoch 230, Loss 0.0191\n",
      "Training Accuracy: 0.9791, Testing Accuracy: 0.9738\n",
      "\n"
     ]
    },
    {
     "name": "stdout",
     "output_type": "stream",
     "text": [
      "Epoch 240, Loss 0.0188\n",
      "Training Accuracy: 0.9793, Testing Accuracy: 0.9738\n",
      "\n"
     ]
    },
    {
     "name": "stdout",
     "output_type": "stream",
     "text": [
      "Epoch 250, Loss 0.0185\n",
      "Training Accuracy: 0.9797, Testing Accuracy: 0.9743\n",
      "\n"
     ]
    },
    {
     "data": {
      "text/plain": [
       "0.012275995598161258"
      ]
     },
     "execution_count": 20,
     "metadata": {},
     "output_type": "execute_result"
    }
   ],
   "source": [
    "print(\"====== Neural Network ======\")\n",
    "learner_nn.train_loop(dl)"
   ]
  },
  {
   "cell_type": "markdown",
   "metadata": {
    "papermill": {
     "duration": 0.046461,
     "end_time": "2020-10-02T00:08:49.492948",
     "exception": false,
     "start_time": "2020-10-02T00:08:49.446487",
     "status": "completed"
    },
    "tags": []
   },
   "source": [
    "### Logistic Regression based Implementation."
   ]
  },
  {
   "cell_type": "code",
   "execution_count": 21,
   "metadata": {
    "execution": {
     "iopub.execute_input": "2020-10-02T00:08:49.599324Z",
     "iopub.status.busy": "2020-10-02T00:08:49.598633Z",
     "iopub.status.idle": "2020-10-02T00:08:49.612016Z",
     "shell.execute_reply": "2020-10-02T00:08:49.612527Z"
    },
    "papermill": {
     "duration": 0.0627,
     "end_time": "2020-10-02T00:08:49.612696",
     "exception": false,
     "start_time": "2020-10-02T00:08:49.549996",
     "status": "completed"
    },
    "tags": []
   },
   "outputs": [],
   "source": [
    "learner_lr = Learner(loss, model_lr, opt, config.num_epochs)\n",
    "acc_lr = ClfCallback(learner_lr, config.bs, training_xdata , testing_xdata, training_ydata, testing_ydata)\n",
    "learner_lr.set_callbacks([acc_lr])"
   ]
  },
  {
   "cell_type": "code",
   "execution_count": 22,
   "metadata": {
    "execution": {
     "iopub.execute_input": "2020-10-02T00:08:49.706072Z",
     "iopub.status.busy": "2020-10-02T00:08:49.705318Z",
     "iopub.status.idle": "2020-10-02T00:09:11.600906Z",
     "shell.execute_reply": "2020-10-02T00:09:11.601472Z"
    },
    "papermill": {
     "duration": 21.945915,
     "end_time": "2020-10-02T00:09:11.601666",
     "exception": false,
     "start_time": "2020-10-02T00:08:49.655751",
     "status": "completed"
    },
    "tags": []
   },
   "outputs": [
    {
     "name": "stdout",
     "output_type": "stream",
     "text": [
      "====== Logistic Regression ======\n",
      "Epoch 0, Loss 0.2245\n",
      "Training Accuracy: 0.7406, Testing Accuracy: 0.7319\n",
      "\n"
     ]
    },
    {
     "name": "stdout",
     "output_type": "stream",
     "text": [
      "Epoch 10, Loss 0.0998\n",
      "Training Accuracy: 0.9133, Testing Accuracy: 0.9274\n",
      "\n"
     ]
    },
    {
     "name": "stdout",
     "output_type": "stream",
     "text": [
      "Epoch 20, Loss 0.0775\n",
      "Training Accuracy: 0.9303, Testing Accuracy: 0.9405\n",
      "\n"
     ]
    },
    {
     "name": "stdout",
     "output_type": "stream",
     "text": [
      "Epoch 30, Loss 0.0671\n",
      "Training Accuracy: 0.9369, Testing Accuracy: 0.9496\n",
      "\n"
     ]
    },
    {
     "name": "stdout",
     "output_type": "stream",
     "text": [
      "Epoch 40, Loss 0.0609\n",
      "Training Accuracy: 0.9413, Testing Accuracy: 0.9561\n",
      "\n"
     ]
    },
    {
     "name": "stdout",
     "output_type": "stream",
     "text": [
      "Epoch 50, Loss 0.0566\n",
      "Training Accuracy: 0.9460, Testing Accuracy: 0.9582\n",
      "\n"
     ]
    },
    {
     "name": "stdout",
     "output_type": "stream",
     "text": [
      "Epoch 60, Loss 0.0534\n",
      "Training Accuracy: 0.9489, Testing Accuracy: 0.9577\n",
      "\n"
     ]
    },
    {
     "name": "stdout",
     "output_type": "stream",
     "text": [
      "Epoch 70, Loss 0.0509\n",
      "Training Accuracy: 0.9503, Testing Accuracy: 0.9602\n",
      "\n"
     ]
    },
    {
     "name": "stdout",
     "output_type": "stream",
     "text": [
      "Epoch 80, Loss 0.0489\n",
      "Training Accuracy: 0.9517, Testing Accuracy: 0.9612\n",
      "\n"
     ]
    },
    {
     "name": "stdout",
     "output_type": "stream",
     "text": [
      "Epoch 90, Loss 0.0473\n",
      "Training Accuracy: 0.9525, Testing Accuracy: 0.9627\n",
      "\n"
     ]
    },
    {
     "name": "stdout",
     "output_type": "stream",
     "text": [
      "Epoch 100, Loss 0.0459\n",
      "Training Accuracy: 0.9532, Testing Accuracy: 0.9632\n",
      "\n"
     ]
    },
    {
     "name": "stdout",
     "output_type": "stream",
     "text": [
      "Epoch 110, Loss 0.0447\n",
      "Training Accuracy: 0.9543, Testing Accuracy: 0.9632\n",
      "\n"
     ]
    },
    {
     "name": "stdout",
     "output_type": "stream",
     "text": [
      "Epoch 120, Loss 0.0436\n",
      "Training Accuracy: 0.9548, Testing Accuracy: 0.9642\n",
      "\n"
     ]
    },
    {
     "name": "stdout",
     "output_type": "stream",
     "text": [
      "Epoch 130, Loss 0.0427\n",
      "Training Accuracy: 0.9554, Testing Accuracy: 0.9642\n",
      "\n"
     ]
    },
    {
     "name": "stdout",
     "output_type": "stream",
     "text": [
      "Epoch 140, Loss 0.0419\n",
      "Training Accuracy: 0.9560, Testing Accuracy: 0.9642\n",
      "\n"
     ]
    },
    {
     "name": "stdout",
     "output_type": "stream",
     "text": [
      "Epoch 150, Loss 0.0412\n",
      "Training Accuracy: 0.9563, Testing Accuracy: 0.9647\n",
      "\n"
     ]
    },
    {
     "name": "stdout",
     "output_type": "stream",
     "text": [
      "Epoch 160, Loss 0.0405\n",
      "Training Accuracy: 0.9575, Testing Accuracy: 0.9662\n",
      "\n"
     ]
    },
    {
     "name": "stdout",
     "output_type": "stream",
     "text": [
      "Epoch 170, Loss 0.0399\n",
      "Training Accuracy: 0.9582, Testing Accuracy: 0.9667\n",
      "\n"
     ]
    },
    {
     "name": "stdout",
     "output_type": "stream",
     "text": [
      "Epoch 180, Loss 0.0394\n",
      "Training Accuracy: 0.9588, Testing Accuracy: 0.9672\n",
      "\n"
     ]
    },
    {
     "name": "stdout",
     "output_type": "stream",
     "text": [
      "Epoch 190, Loss 0.0389\n",
      "Training Accuracy: 0.9596, Testing Accuracy: 0.9677\n",
      "\n"
     ]
    },
    {
     "name": "stdout",
     "output_type": "stream",
     "text": [
      "Epoch 200, Loss 0.0384\n",
      "Training Accuracy: 0.9601, Testing Accuracy: 0.9677\n",
      "\n"
     ]
    },
    {
     "name": "stdout",
     "output_type": "stream",
     "text": [
      "Epoch 210, Loss 0.038\n",
      "Training Accuracy: 0.9603, Testing Accuracy: 0.9682\n",
      "\n"
     ]
    },
    {
     "name": "stdout",
     "output_type": "stream",
     "text": [
      "Epoch 220, Loss 0.0376\n",
      "Training Accuracy: 0.9606, Testing Accuracy: 0.9682\n",
      "\n"
     ]
    },
    {
     "name": "stdout",
     "output_type": "stream",
     "text": [
      "Epoch 230, Loss 0.0372\n",
      "Training Accuracy: 0.9609, Testing Accuracy: 0.9682\n",
      "\n"
     ]
    },
    {
     "name": "stdout",
     "output_type": "stream",
     "text": [
      "Epoch 240, Loss 0.0368\n",
      "Training Accuracy: 0.9612, Testing Accuracy: 0.9682\n",
      "\n"
     ]
    },
    {
     "name": "stdout",
     "output_type": "stream",
     "text": [
      "Epoch 250, Loss 0.0365\n",
      "Training Accuracy: 0.9614, Testing Accuracy: 0.9682\n",
      "\n"
     ]
    },
    {
     "data": {
      "text/plain": [
       "0.050483842998057644"
      ]
     },
     "execution_count": 22,
     "metadata": {},
     "output_type": "execute_result"
    }
   ],
   "source": [
    "print(\"====== Logistic Regression ======\")\n",
    "learner_lr.train_loop(dl)"
   ]
  },
  {
   "cell_type": "markdown",
   "metadata": {
    "papermill": {
     "duration": 0.051602,
     "end_time": "2020-10-02T00:09:11.706868",
     "exception": false,
     "start_time": "2020-10-02T00:09:11.655266",
     "status": "completed"
    },
    "tags": []
   },
   "source": [
    "### Comparing results of NN and LR"
   ]
  },
  {
   "cell_type": "code",
   "execution_count": 23,
   "metadata": {
    "execution": {
     "iopub.execute_input": "2020-10-02T00:09:11.820728Z",
     "iopub.status.busy": "2020-10-02T00:09:11.820005Z",
     "iopub.status.idle": "2020-10-02T00:09:12.132724Z",
     "shell.execute_reply": "2020-10-02T00:09:12.132030Z"
    },
    "papermill": {
     "duration": 0.373669,
     "end_time": "2020-10-02T00:09:12.132891",
     "exception": false,
     "start_time": "2020-10-02T00:09:11.759222",
     "status": "completed"
    },
    "tags": []
   },
   "outputs": [
    {
     "data": {
      "text/plain": [
       "<matplotlib.legend.Legend at 0x7fddef2b22b0>"
      ]
     },
     "execution_count": 23,
     "metadata": {},
     "output_type": "execute_result"
    },
    {
     "data": {
      "image/png": "[encoded data removed]",
      "text/plain": [
       "<Figure size 1080x720 with 1 Axes>"
      ]
     },
     "metadata": {
      "needs_background": "light"
     },
     "output_type": "display_data"
    }
   ],
   "source": [
    "plt.figure(figsize=(15,10))\n",
    "\n",
    "# Neural Network plots\n",
    "plt.plot(acc_nn.accuracies, 'r-', label = \"Training Accuracies - NN\")\n",
    "plt.plot(acc_nn.test_accuracies, 'g-', label = \"Testing Accuracies - NN\")\n",
    "\n",
    "# Logistic Regression plots\n",
    "plt.plot(acc_lr.accuracies, 'k-', label = \"Training Accuracies - LR\")\n",
    "plt.plot(acc_lr.test_accuracies, 'b-', label = \"Testing Accuracies - LR\")\n",
    "\n",
    "plt.ylim(0.8, 1)\n",
    "\n",
    "plt.legend()\n",
    "\n"
   ]
  },
  {
   "cell_type": "markdown",
   "metadata": {
    "papermill": {
     "duration": 0.054523,
     "end_time": "2020-10-02T00:09:12.242230",
     "exception": false,
     "start_time": "2020-10-02T00:09:12.187707",
     "status": "completed"
    },
    "tags": []
   },
   "source": [
    "### From the plot, we can observe the following:\n",
    "- Neural Network achieves higher accuracy than the Logistic Regression model.\n",
    "- This apparently, is because of overfitting, i.e. NN captures more noise than data.\n",
    "- Testing accuracy of NN drops below the Training accuracy at higher epochs. This explains the over-fitting on training data.\n",
    "- Logistic Regression gives a reliable accuracy, without the above mentioned problem.\n"
   ]
  },
  {
   "cell_type": "markdown",
   "metadata": {
    "papermill": {
     "duration": 0.054286,
     "end_time": "2020-10-02T00:09:12.351720",
     "exception": false,
     "start_time": "2020-10-02T00:09:12.297434",
     "status": "completed"
    },
    "tags": []
   },
   "source": [
    "### Moving till the last but one layer (excluding it).\n",
    "#### Plotting the outputs of this layer of the NN."
   ]
  },
  {
   "cell_type": "code",
   "execution_count": 24,
   "metadata": {
    "execution": {
     "iopub.execute_input": "2020-10-02T00:09:12.466524Z",
     "iopub.status.busy": "2020-10-02T00:09:12.465795Z",
     "iopub.status.idle": "2020-10-02T00:09:12.480613Z",
     "shell.execute_reply": "2020-10-02T00:09:12.481179Z"
    },
    "papermill": {
     "duration": 0.076511,
     "end_time": "2020-10-02T00:09:12.481465",
     "exception": false,
     "start_time": "2020-10-02T00:09:12.404954",
     "status": "completed"
    },
    "tags": []
   },
   "outputs": [],
   "source": [
    "model_new = Model(layers[:-2])"
   ]
  },
  {
   "cell_type": "code",
   "execution_count": 25,
   "metadata": {
    "execution": {
     "iopub.execute_input": "2020-10-02T00:09:12.592516Z",
     "iopub.status.busy": "2020-10-02T00:09:12.591891Z",
     "iopub.status.idle": "2020-10-02T00:09:12.639799Z",
     "shell.execute_reply": "2020-10-02T00:09:12.640389Z"
    },
    "papermill": {
     "duration": 0.106222,
     "end_time": "2020-10-02T00:09:12.640589",
     "exception": false,
     "start_time": "2020-10-02T00:09:12.534367",
     "status": "completed"
    },
    "tags": []
   },
   "outputs": [],
   "source": [
    "plot_testing = model_new(testing_xdata)"
   ]
  },
  {
   "cell_type": "code",
   "execution_count": 26,
   "metadata": {
    "execution": {
     "iopub.execute_input": "2020-10-02T00:09:12.761899Z",
     "iopub.status.busy": "2020-10-02T00:09:12.761158Z",
     "iopub.status.idle": "2020-10-02T00:09:13.012135Z",
     "shell.execute_reply": "2020-10-02T00:09:13.012693Z"
    },
    "papermill": {
     "duration": 0.314766,
     "end_time": "2020-10-02T00:09:13.012886",
     "exception": false,
     "start_time": "2020-10-02T00:09:12.698120",
     "status": "completed"
    },
    "tags": []
   },
   "outputs": [
    {
     "data": {
      "text/plain": [
       "Text(0.5, 1.0, 'Outputs')"
      ]
     },
     "execution_count": 26,
     "metadata": {},
     "output_type": "execute_result"
    },
    {
     "data": {
      "image/png": "[encoded data removed]",
      "text/plain": [
       "<Figure size 576x504 with 1 Axes>"
      ]
     },
     "metadata": {
      "needs_background": "light"
     },
     "output_type": "display_data"
    }
   ],
   "source": [
    "plt.figure(figsize=(8,7))\n",
    "plt.scatter(plot_testing[:,0], plot_testing[:,1], alpha = 0.1, c = y_test.ravel());\n",
    "plt.title('Outputs')"
   ]
  },
  {
   "cell_type": "markdown",
   "metadata": {
    "papermill": {
     "duration": 0.052472,
     "end_time": "2020-10-02T00:09:13.119135",
     "exception": false,
     "start_time": "2020-10-02T00:09:13.066663",
     "status": "completed"
    },
    "tags": []
   },
   "source": [
    "### Plotting probability contours"
   ]
  },
  {
   "cell_type": "code",
   "execution_count": 27,
   "metadata": {
    "execution": {
     "iopub.execute_input": "2020-10-02T00:09:13.242474Z",
     "iopub.status.busy": "2020-10-02T00:09:13.241786Z",
     "iopub.status.idle": "2020-10-02T00:09:13.253830Z",
     "shell.execute_reply": "2020-10-02T00:09:13.253277Z"
    },
    "papermill": {
     "duration": 0.077377,
     "end_time": "2020-10-02T00:09:13.253998",
     "exception": false,
     "start_time": "2020-10-02T00:09:13.176621",
     "status": "completed"
    },
    "tags": []
   },
   "outputs": [],
   "source": [
    "model_prob = Model(layers[-2:]) "
   ]
  },
  {
   "cell_type": "code",
   "execution_count": 28,
   "metadata": {
    "execution": {
     "iopub.execute_input": "2020-10-02T00:09:13.375049Z",
     "iopub.status.busy": "2020-10-02T00:09:13.374358Z",
     "iopub.status.idle": "2020-10-02T00:09:13.390270Z",
     "shell.execute_reply": "2020-10-02T00:09:13.390787Z"
    },
    "papermill": {
     "duration": 0.082205,
     "end_time": "2020-10-02T00:09:13.390970",
     "exception": false,
     "start_time": "2020-10-02T00:09:13.308765",
     "status": "completed"
    },
    "tags": []
   },
   "outputs": [],
   "source": [
    "# Adjust the x and y ranges according to the above generated plot.\n",
    "x_range = np.linspace(-4, 1, 100) \n",
    "y_range = np.linspace(-6, 6, 100) \n",
    "x_grid, y_grid = np.meshgrid(x_range, y_range) # x_grid and y_grig are of size 100 X 100\n",
    "\n",
    "# converting x_grid and y_grid to continuous arrays\n",
    "x_grid_flat = np.ravel(x_grid)\n",
    "y_grid_flat = np.ravel(y_grid)\n",
    "\n",
    "# The last layer of the current model takes two columns as input. Hence transpose of np.vstack() is required.\n",
    "X = np.vstack((x_grid_flat, y_grid_flat)).T\n",
    "\n",
    "# x_grid and y_grid are of size 100 x 100\n",
    "probability_contour = model_prob(X).reshape(100,100) "
   ]
  },
  {
   "cell_type": "code",
   "execution_count": 29,
   "metadata": {
    "execution": {
     "iopub.execute_input": "2020-10-02T00:09:13.559261Z",
     "iopub.status.busy": "2020-10-02T00:09:13.542462Z",
     "iopub.status.idle": "2020-10-02T00:09:13.861386Z",
     "shell.execute_reply": "2020-10-02T00:09:13.860774Z"
    },
    "papermill": {
     "duration": 0.412525,
     "end_time": "2020-10-02T00:09:13.861565",
     "exception": false,
     "start_time": "2020-10-02T00:09:13.449040",
     "status": "completed"
    },
    "tags": []
   },
   "outputs": [
    {
     "data": {
      "image/png": "[encoded data removed]",
      "text/plain": [
       "<Figure size 720x648 with 1 Axes>"
      ]
     },
     "metadata": {
      "needs_background": "light"
     },
     "output_type": "display_data"
    }
   ],
   "source": [
    "plt.figure(figsize=(10,9))\n",
    "plt.scatter(plot_testing[:,0], plot_testing[:,1], alpha = 0.1, c = y_test.ravel())\n",
    "contours = plt.contour(x_grid,y_grid,probability_contour)\n",
    "plt.title('Probability Contours')\n",
    "plt.clabel(contours, inline = True );"
   ]
  }
 ],
 "metadata": {
  "kernelspec": {
   "display_name": "Python 3",
   "language": "python",
   "name": "python3"
  },
  "language_info": {
   "codemirror_mode": {
    "name": "ipython",
    "version": 3
   },
   "file_extension": ".py",
   "mimetype": "text/x-python",
   "name": "python",
   "nbconvert_exporter": "python",
   "pygments_lexer": "ipython3",
   "version": "3.6.12"
  },
  "papermill": {
   "duration": 174.162584,
   "end_time": "2020-10-02T00:09:14.327481",
   "environment_variables": {},
   "exception": null,
   "input_path": "2020-08-11-NeuralNetwork.ipynb",
   "output_path": "2020-08-11-NeuralNetwork.ipynb",
   "parameters": {},
   "start_time": "2020-10-02T00:06:20.164897",
   "version": "2.1.2"
  }
 },
 "nbformat": 4,
 "nbformat_minor": 4
}