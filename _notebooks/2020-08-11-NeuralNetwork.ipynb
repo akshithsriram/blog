{
 "cells": [
  {
   "cell_type": "markdown",
   "metadata": {
    "papermill": {
     "duration": 0.024671,
     "end_time": "2020-11-22T10:04:39.339424",
     "exception": false,
     "start_time": "2020-11-22T10:04:39.314753",
     "status": "completed"
    },
    "tags": []
   },
   "source": [
    "# \"A Basic Neural Network: Differentiate Hand-Written Digits\"\n",
    "\n",
    "- badges: true\n",
    "- author: Akshith Sriram"
   ]
  },
  {
   "cell_type": "markdown",
   "metadata": {
    "papermill": {
     "duration": 0.021123,
     "end_time": "2020-11-22T10:04:39.383731",
     "exception": false,
     "start_time": "2020-11-22T10:04:39.362608",
     "status": "completed"
    },
    "tags": []
   },
   "source": [
    "### Key Objectives:\n",
    "- Building a neural network that differentiates two hand-written digits 3 and 8.\n",
    "- Comparing the results of this Neural Network (NN) to that of a Logistic Regression (LR) model.\n",
    "\n",
    "### Requirements:\n",
    "- 'Kudzu' : A neural network library that was designed during our course by [Univ.AI](www.univ.ai). \n",
    "- MNIST Database\n",
    "\n",
    "If MNIST is not installed, use the command `!pip install mnist` given below.\n",
    "It can be run both from the command line and Jupyter Notebook."
   ]
  },
  {
   "cell_type": "code",
   "execution_count": 1,
   "metadata": {
    "execution": {
     "iopub.execute_input": "2020-11-22T10:04:39.435323Z",
     "iopub.status.busy": "2020-11-22T10:04:39.434801Z",
     "iopub.status.idle": "2020-11-22T10:04:40.728936Z",
     "shell.execute_reply": "2020-11-22T10:04:40.729836Z"
    },
    "papermill": {
     "duration": 1.324659,
     "end_time": "2020-11-22T10:04:40.730169",
     "exception": false,
     "start_time": "2020-11-22T10:04:39.405510",
     "status": "completed"
    },
    "tags": []
   },
   "outputs": [
    {
     "name": "stdout",
     "output_type": "stream",
     "text": [
      "Collecting mnist\r\n"
     ]
    },
    {
     "name": "stdout",
     "output_type": "stream",
     "text": [
      "  Downloading mnist-0.2.2-py2.py3-none-any.whl (3.5 kB)\r\n"
     ]
    },
    {
     "name": "stdout",
     "output_type": "stream",
     "text": [
      "Requirement already satisfied: numpy in /opt/hostedtoolcache/Python/3.6.12/x64/lib/python3.6/site-packages (from mnist) (1.19.4)\r\n"
     ]
    },
    {
     "name": "stdout",
     "output_type": "stream",
     "text": [
      "Installing collected packages: mnist\r\n",
      "Successfully installed mnist-0.2.2\r\n"
     ]
    }
   ],
   "source": [
    "!pip install mnist "
   ]
  },
  {
   "cell_type": "markdown",
   "metadata": {
    "papermill": {
     "duration": 0.023376,
     "end_time": "2020-11-22T10:04:40.776928",
     "exception": false,
     "start_time": "2020-11-22T10:04:40.753552",
     "status": "completed"
    },
    "tags": []
   },
   "source": [
    "#### Importing necessary libraries"
   ]
  },
  {
   "cell_type": "code",
   "execution_count": 2,
   "metadata": {
    "execution": {
     "iopub.execute_input": "2020-11-22T10:04:40.829898Z",
     "iopub.status.busy": "2020-11-22T10:04:40.829028Z",
     "iopub.status.idle": "2020-11-22T10:04:41.378251Z",
     "shell.execute_reply": "2020-11-22T10:04:41.377295Z"
    },
    "papermill": {
     "duration": 0.578303,
     "end_time": "2020-11-22T10:04:41.378376",
     "exception": false,
     "start_time": "2020-11-22T10:04:40.800073",
     "status": "completed"
    },
    "tags": []
   },
   "outputs": [],
   "source": [
    "%load_ext autoreload\n",
    "%autoreload 2\n",
    "\n",
    "%matplotlib inline\n",
    "import matplotlib.pyplot as plt\n",
    "\n",
    "import numpy as np\n",
    "import pandas as pd"
   ]
  },
  {
   "cell_type": "markdown",
   "metadata": {
    "papermill": {
     "duration": 0.022792,
     "end_time": "2020-11-22T10:04:41.423258",
     "exception": false,
     "start_time": "2020-11-22T10:04:41.400466",
     "status": "completed"
    },
    "tags": []
   },
   "source": [
    "### Preparing the Data"
   ]
  },
  {
   "cell_type": "code",
   "execution_count": 3,
   "metadata": {
    "execution": {
     "iopub.execute_input": "2020-11-22T10:04:41.476441Z",
     "iopub.status.busy": "2020-11-22T10:04:41.475377Z",
     "iopub.status.idle": "2020-11-22T10:04:41.483998Z",
     "shell.execute_reply": "2020-11-22T10:04:41.483524Z"
    },
    "papermill": {
     "duration": 0.038357,
     "end_time": "2020-11-22T10:04:41.484131",
     "exception": false,
     "start_time": "2020-11-22T10:04:41.445774",
     "status": "completed"
    },
    "tags": []
   },
   "outputs": [],
   "source": [
    "import mnist"
   ]
  },
  {
   "cell_type": "code",
   "execution_count": 4,
   "metadata": {
    "execution": {
     "iopub.execute_input": "2020-11-22T10:04:41.534304Z",
     "iopub.status.busy": "2020-11-22T10:04:41.533693Z",
     "iopub.status.idle": "2020-11-22T10:04:42.202395Z",
     "shell.execute_reply": "2020-11-22T10:04:42.201451Z"
    },
    "papermill": {
     "duration": 0.695987,
     "end_time": "2020-11-22T10:04:42.202631",
     "exception": false,
     "start_time": "2020-11-22T10:04:41.506644",
     "status": "completed"
    },
    "tags": []
   },
   "outputs": [],
   "source": [
    "train_images = mnist.train_images()\n",
    "train_labels = mnist.train_labels()"
   ]
  },
  {
   "cell_type": "code",
   "execution_count": 5,
   "metadata": {
    "execution": {
     "iopub.execute_input": "2020-11-22T10:04:42.256244Z",
     "iopub.status.busy": "2020-11-22T10:04:42.255745Z",
     "iopub.status.idle": "2020-11-22T10:04:42.270504Z",
     "shell.execute_reply": "2020-11-22T10:04:42.269977Z"
    },
    "papermill": {
     "duration": 0.041455,
     "end_time": "2020-11-22T10:04:42.270620",
     "exception": false,
     "start_time": "2020-11-22T10:04:42.229165",
     "status": "completed"
    },
    "tags": []
   },
   "outputs": [
    {
     "data": {
      "text/plain": [
       "((60000, 28, 28), (60000,))"
      ]
     },
     "execution_count": 5,
     "metadata": {},
     "output_type": "execute_result"
    }
   ],
   "source": [
    "train_images.shape, train_labels.shape"
   ]
  },
  {
   "cell_type": "code",
   "execution_count": 6,
   "metadata": {
    "execution": {
     "iopub.execute_input": "2020-11-22T10:04:42.320746Z",
     "iopub.status.busy": "2020-11-22T10:04:42.319845Z",
     "iopub.status.idle": "2020-11-22T10:04:42.585785Z",
     "shell.execute_reply": "2020-11-22T10:04:42.585286Z"
    },
    "papermill": {
     "duration": 0.293299,
     "end_time": "2020-11-22T10:04:42.585925",
     "exception": false,
     "start_time": "2020-11-22T10:04:42.292626",
     "status": "completed"
    },
    "tags": []
   },
   "outputs": [],
   "source": [
    "test_images = mnist.test_images()\n",
    "test_labels = mnist.test_labels()"
   ]
  },
  {
   "cell_type": "code",
   "execution_count": 7,
   "metadata": {
    "execution": {
     "iopub.execute_input": "2020-11-22T10:04:42.640233Z",
     "iopub.status.busy": "2020-11-22T10:04:42.639144Z",
     "iopub.status.idle": "2020-11-22T10:04:42.648517Z",
     "shell.execute_reply": "2020-11-22T10:04:42.648890Z"
    },
    "papermill": {
     "duration": 0.039647,
     "end_time": "2020-11-22T10:04:42.649025",
     "exception": false,
     "start_time": "2020-11-22T10:04:42.609378",
     "status": "completed"
    },
    "tags": []
   },
   "outputs": [
    {
     "data": {
      "text/plain": [
       "((10000, 28, 28), (10000,))"
      ]
     },
     "execution_count": 7,
     "metadata": {},
     "output_type": "execute_result"
    }
   ],
   "source": [
    "test_images.shape, test_labels.shape"
   ]
  },
  {
   "cell_type": "code",
   "execution_count": 8,
   "metadata": {
    "execution": {
     "iopub.execute_input": "2020-11-22T10:04:42.698792Z",
     "iopub.status.busy": "2020-11-22T10:04:42.698288Z",
     "iopub.status.idle": "2020-11-22T10:04:42.839446Z",
     "shell.execute_reply": "2020-11-22T10:04:42.839004Z"
    },
    "papermill": {
     "duration": 0.167842,
     "end_time": "2020-11-22T10:04:42.839563",
     "exception": false,
     "start_time": "2020-11-22T10:04:42.671721",
     "status": "completed"
    },
    "tags": []
   },
   "outputs": [
    {
     "name": "stdout",
     "output_type": "stream",
     "text": [
      "2\n"
     ]
    },
    {
     "data": {
      "text/plain": [
       "<matplotlib.image.AxesImage at 0x7fafa0134080>"
      ]
     },
     "execution_count": 8,
     "metadata": {},
     "output_type": "execute_result"
    },
    {
     "data": {
      "image/png": "[encoded data removed]",
      "text/plain": [
       "<Figure size 432x288 with 1 Axes>"
      ]
     },
     "metadata": {
      "needs_background": "light"
     },
     "output_type": "display_data"
    }
   ],
   "source": [
    "image_index = 7776 # You may select anything up to 60,000\n",
    "print(train_labels[image_index]) \n",
    "plt.imshow(train_images[image_index], cmap='Greys')"
   ]
  },
  {
   "cell_type": "markdown",
   "metadata": {
    "papermill": {
     "duration": 0.024701,
     "end_time": "2020-11-22T10:04:42.888944",
     "exception": false,
     "start_time": "2020-11-22T10:04:42.864243",
     "status": "completed"
    },
    "tags": []
   },
   "source": [
    "## Filter data to get 3 and 8 out"
   ]
  },
  {
   "cell_type": "code",
   "execution_count": 9,
   "metadata": {
    "execution": {
     "iopub.execute_input": "2020-11-22T10:04:42.941050Z",
     "iopub.status.busy": "2020-11-22T10:04:42.940538Z",
     "iopub.status.idle": "2020-11-22T10:04:42.959749Z",
     "shell.execute_reply": "2020-11-22T10:04:42.959230Z"
    },
    "papermill": {
     "duration": 0.047103,
     "end_time": "2020-11-22T10:04:42.959867",
     "exception": false,
     "start_time": "2020-11-22T10:04:42.912764",
     "status": "completed"
    },
    "tags": []
   },
   "outputs": [],
   "source": [
    "train_filter = np.where((train_labels == 3 ) | (train_labels == 8))\n",
    "test_filter = np.where((test_labels == 3) | (test_labels == 8))\n",
    "X_train, y_train = train_images[train_filter], train_labels[train_filter]\n",
    "X_test, y_test = test_images[test_filter], test_labels[test_filter]"
   ]
  },
  {
   "cell_type": "markdown",
   "metadata": {
    "papermill": {
     "duration": 0.023559,
     "end_time": "2020-11-22T10:04:43.007303",
     "exception": false,
     "start_time": "2020-11-22T10:04:42.983744",
     "status": "completed"
    },
    "tags": []
   },
   "source": [
    "We normalize the pixel values in the 0 to 1 range"
   ]
  },
  {
   "cell_type": "code",
   "execution_count": 10,
   "metadata": {
    "execution": {
     "iopub.execute_input": "2020-11-22T10:04:43.064522Z",
     "iopub.status.busy": "2020-11-22T10:04:43.063939Z",
     "iopub.status.idle": "2020-11-22T10:04:43.112616Z",
     "shell.execute_reply": "2020-11-22T10:04:43.111963Z"
    },
    "papermill": {
     "duration": 0.081608,
     "end_time": "2020-11-22T10:04:43.112789",
     "exception": false,
     "start_time": "2020-11-22T10:04:43.031181",
     "status": "completed"
    },
    "tags": []
   },
   "outputs": [],
   "source": [
    "X_train = X_train/255.\n",
    "X_test = X_test/255."
   ]
  },
  {
   "cell_type": "markdown",
   "metadata": {
    "papermill": {
     "duration": 0.025391,
     "end_time": "2020-11-22T10:04:43.164745",
     "exception": false,
     "start_time": "2020-11-22T10:04:43.139354",
     "status": "completed"
    },
    "tags": []
   },
   "source": [
    "Setup the labels as 1 (when the digit is 3) and 0 (when the digit is 8)"
   ]
  },
  {
   "cell_type": "code",
   "execution_count": 11,
   "metadata": {
    "execution": {
     "iopub.execute_input": "2020-11-22T10:04:43.218575Z",
     "iopub.status.busy": "2020-11-22T10:04:43.218062Z",
     "iopub.status.idle": "2020-11-22T10:04:43.230567Z",
     "shell.execute_reply": "2020-11-22T10:04:43.231050Z"
    },
    "papermill": {
     "duration": 0.040993,
     "end_time": "2020-11-22T10:04:43.231211",
     "exception": false,
     "start_time": "2020-11-22T10:04:43.190218",
     "status": "completed"
    },
    "tags": []
   },
   "outputs": [],
   "source": [
    "y_train = 1*(y_train==3)\n",
    "y_test = 1*(y_test==3)"
   ]
  },
  {
   "cell_type": "code",
   "execution_count": 12,
   "metadata": {
    "execution": {
     "iopub.execute_input": "2020-11-22T10:04:43.282922Z",
     "iopub.status.busy": "2020-11-22T10:04:43.282344Z",
     "iopub.status.idle": "2020-11-22T10:04:43.295361Z",
     "shell.execute_reply": "2020-11-22T10:04:43.294959Z"
    },
    "papermill": {
     "duration": 0.040643,
     "end_time": "2020-11-22T10:04:43.295478",
     "exception": false,
     "start_time": "2020-11-22T10:04:43.254835",
     "status": "completed"
    },
    "tags": []
   },
   "outputs": [
    {
     "data": {
      "text/plain": [
       "((11982, 28, 28), (1984, 28, 28))"
      ]
     },
     "execution_count": 12,
     "metadata": {},
     "output_type": "execute_result"
    }
   ],
   "source": [
    "X_train.shape, X_test.shape"
   ]
  },
  {
   "cell_type": "markdown",
   "metadata": {
    "papermill": {
     "duration": 0.024245,
     "end_time": "2020-11-22T10:04:43.343136",
     "exception": false,
     "start_time": "2020-11-22T10:04:43.318891",
     "status": "completed"
    },
    "tags": []
   },
   "source": [
    "### Reshape the input data to create a linear array"
   ]
  },
  {
   "cell_type": "code",
   "execution_count": 13,
   "metadata": {
    "execution": {
     "iopub.execute_input": "2020-11-22T10:04:43.400016Z",
     "iopub.status.busy": "2020-11-22T10:04:43.399444Z",
     "iopub.status.idle": "2020-11-22T10:04:43.413153Z",
     "shell.execute_reply": "2020-11-22T10:04:43.413518Z"
    },
    "papermill": {
     "duration": 0.044611,
     "end_time": "2020-11-22T10:04:43.413656",
     "exception": false,
     "start_time": "2020-11-22T10:04:43.369045",
     "status": "completed"
    },
    "tags": []
   },
   "outputs": [
    {
     "data": {
      "text/plain": [
       "((11982, 784), (1984, 784))"
      ]
     },
     "execution_count": 13,
     "metadata": {},
     "output_type": "execute_result"
    }
   ],
   "source": [
    "X_train = X_train.reshape(X_train.shape[0], -1)\n",
    "X_test = X_test.reshape(X_test.shape[0], -1)\n",
    "X_train.shape, X_test.shape"
   ]
  },
  {
   "cell_type": "markdown",
   "metadata": {
    "papermill": {
     "duration": 0.024631,
     "end_time": "2020-11-22T10:04:43.462234",
     "exception": false,
     "start_time": "2020-11-22T10:04:43.437603",
     "status": "completed"
    },
    "tags": []
   },
   "source": [
    "### Importing appropriate functions from 'Kudzu'"
   ]
  },
  {
   "cell_type": "code",
   "execution_count": 14,
   "metadata": {
    "execution": {
     "iopub.execute_input": "2020-11-22T10:04:43.530916Z",
     "iopub.status.busy": "2020-11-22T10:04:43.525317Z",
     "iopub.status.idle": "2020-11-22T10:04:43.539182Z",
     "shell.execute_reply": "2020-11-22T10:04:43.538724Z"
    },
    "papermill": {
     "duration": 0.052724,
     "end_time": "2020-11-22T10:04:43.539300",
     "exception": false,
     "start_time": "2020-11-22T10:04:43.486576",
     "status": "completed"
    },
    "tags": []
   },
   "outputs": [],
   "source": [
    "from kudzu.layer import Sigmoid\n",
    "from kudzu.layer import Relu\n",
    "from kudzu.layer import Affine, Sigmoid\n",
    "\n",
    "from kudzu.model import Model\n",
    "from kudzu.train import Learner\n",
    "from kudzu.optim import GD\n",
    "from kudzu.data import Data, Dataloader, Sampler\n",
    "\n",
    "from kudzu.callbacks import AccCallback\n",
    "from kudzu.callbacks import ClfCallback\n",
    "\n",
    "from kudzu.loss import MSE"
   ]
  },
  {
   "cell_type": "markdown",
   "metadata": {
    "papermill": {
     "duration": 0.025484,
     "end_time": "2020-11-22T10:04:43.590060",
     "exception": false,
     "start_time": "2020-11-22T10:04:43.564576",
     "status": "completed"
    },
    "tags": []
   },
   "source": [
    "### Let us create a `Config` class, to store important parameters. \n",
    "This class essentially plays the role of a dictionary."
   ]
  },
  {
   "cell_type": "code",
   "execution_count": 15,
   "metadata": {
    "execution": {
     "iopub.execute_input": "2020-11-22T10:04:43.646584Z",
     "iopub.status.busy": "2020-11-22T10:04:43.645975Z",
     "iopub.status.idle": "2020-11-22T10:04:43.657141Z",
     "shell.execute_reply": "2020-11-22T10:04:43.657516Z"
    },
    "papermill": {
     "duration": 0.04124,
     "end_time": "2020-11-22T10:04:43.657656",
     "exception": false,
     "start_time": "2020-11-22T10:04:43.616416",
     "status": "completed"
    },
    "tags": []
   },
   "outputs": [],
   "source": [
    "class Config:\n",
    "    pass\n",
    "config = Config()\n",
    "config.lr = 0.001\n",
    "config.num_epochs = 251\n",
    "config.bs = 50"
   ]
  },
  {
   "cell_type": "markdown",
   "metadata": {
    "papermill": {
     "duration": 0.02453,
     "end_time": "2020-11-22T10:04:43.706149",
     "exception": false,
     "start_time": "2020-11-22T10:04:43.681619",
     "status": "completed"
    },
    "tags": []
   },
   "source": [
    "### Initializing data to the variables"
   ]
  },
  {
   "cell_type": "code",
   "execution_count": 16,
   "metadata": {
    "execution": {
     "iopub.execute_input": "2020-11-22T10:04:43.774224Z",
     "iopub.status.busy": "2020-11-22T10:04:43.766354Z",
     "iopub.status.idle": "2020-11-22T10:04:43.776441Z",
     "shell.execute_reply": "2020-11-22T10:04:43.776038Z"
    },
    "papermill": {
     "duration": 0.04499,
     "end_time": "2020-11-22T10:04:43.776561",
     "exception": false,
     "start_time": "2020-11-22T10:04:43.731571",
     "status": "completed"
    },
    "tags": []
   },
   "outputs": [],
   "source": [
    "data = Data(X_train, y_train.reshape(-1,1))\n",
    "sampler = Sampler(data, config.bs, shuffle=True)\n",
    "\n",
    "dl = Dataloader(data, sampler)\n",
    "\n",
    "opt = GD(config.lr)\n",
    "loss = MSE()"
   ]
  },
  {
   "cell_type": "code",
   "execution_count": 17,
   "metadata": {
    "execution": {
     "iopub.execute_input": "2020-11-22T10:04:43.830560Z",
     "iopub.status.busy": "2020-11-22T10:04:43.829915Z",
     "iopub.status.idle": "2020-11-22T10:04:43.842426Z",
     "shell.execute_reply": "2020-11-22T10:04:43.842811Z"
    },
    "papermill": {
     "duration": 0.042463,
     "end_time": "2020-11-22T10:04:43.842970",
     "exception": false,
     "start_time": "2020-11-22T10:04:43.800507",
     "status": "completed"
    },
    "tags": []
   },
   "outputs": [],
   "source": [
    "training_xdata = X_train\n",
    "testing_xdata = X_test\n",
    "training_ydata = y_train.reshape(-1,1)\n",
    "testing_ydata = y_test.reshape(-1,1)"
   ]
  },
  {
   "cell_type": "markdown",
   "metadata": {
    "papermill": {
     "duration": 0.045198,
     "end_time": "2020-11-22T10:04:44.059730",
     "exception": false,
     "start_time": "2020-11-22T10:04:44.014532",
     "status": "completed"
    },
    "tags": []
   },
   "source": [
    "### Running Models with the Training data\n",
    "Details about the network layers:\n",
    "- A first affine layer has 784 inputs and does 100 affine transforms. These are followed by a Relu\n",
    "- A second affine layer has 100 inputs from the 100 activations of the past layer, and does 100 affine transforms. These are followed by a Relu\n",
    "- A third affine layer has 100 activations and does 2 affine transformations to create an embedding for visualization. There is no non-linearity here.\n",
    "- A final \"logistic regression\" which has an affine transform from 2 inputs to 1 output, which is squeezed through a sigmoid.\n",
    "\n",
    "Help taken from Anshuman's Notebook."
   ]
  },
  {
   "cell_type": "code",
   "execution_count": 18,
   "metadata": {
    "execution": {
     "iopub.execute_input": "2020-11-22T10:04:44.159428Z",
     "iopub.status.busy": "2020-11-22T10:04:44.158778Z",
     "iopub.status.idle": "2020-11-22T10:04:44.176843Z",
     "shell.execute_reply": "2020-11-22T10:04:44.176337Z"
    },
    "papermill": {
     "duration": 0.069974,
     "end_time": "2020-11-22T10:04:44.176981",
     "exception": false,
     "start_time": "2020-11-22T10:04:44.107007",
     "status": "completed"
    },
    "tags": []
   },
   "outputs": [],
   "source": [
    "# layers for the Neural Network\n",
    "layers = [Affine(\"first\", 784, 100), Relu(\"first\"), Affine(\"second\", 100, 100), Relu(\"second\"), Affine(\"third\", 100, 2), Affine(\"final\", 2, 1), Sigmoid(\"final\")]\n",
    "model_nn = Model(layers)\n",
    "\n",
    "# layers for the Logistic Regression\n",
    "layers_lr = [Affine(\"logits\", 784, 1), Sigmoid(\"sigmoid\")]\n",
    "model_lr = Model(layers_lr)"
   ]
  },
  {
   "cell_type": "code",
   "execution_count": 19,
   "metadata": {
    "execution": {
     "iopub.execute_input": "2020-11-22T10:04:44.263842Z",
     "iopub.status.busy": "2020-11-22T10:04:44.262563Z",
     "iopub.status.idle": "2020-11-22T10:04:44.277192Z",
     "shell.execute_reply": "2020-11-22T10:04:44.276749Z"
    },
    "papermill": {
     "duration": 0.061295,
     "end_time": "2020-11-22T10:04:44.277319",
     "exception": false,
     "start_time": "2020-11-22T10:04:44.216024",
     "status": "completed"
    },
    "tags": []
   },
   "outputs": [],
   "source": [
    "# suffix _nn stands for Neural Network.\n",
    "learner_nn = Learner(loss, model_nn, opt, config.num_epochs)\n",
    "acc_nn = ClfCallback(learner_nn, config.bs, training_xdata , testing_xdata, training_ydata, testing_ydata)\n",
    "learner_nn.set_callbacks([acc_nn])"
   ]
  },
  {
   "cell_type": "code",
   "execution_count": 20,
   "metadata": {
    "execution": {
     "iopub.execute_input": "2020-11-22T10:04:44.365849Z",
     "iopub.status.busy": "2020-11-22T10:04:44.365246Z",
     "iopub.status.idle": "2020-11-22T10:06:03.525670Z",
     "shell.execute_reply": "2020-11-22T10:06:03.526168Z"
    },
    "papermill": {
     "duration": 79.207243,
     "end_time": "2020-11-22T10:06:03.526308",
     "exception": false,
     "start_time": "2020-11-22T10:04:44.319065",
     "status": "completed"
    },
    "tags": []
   },
   "outputs": [
    {
     "name": "stdout",
     "output_type": "stream",
     "text": [
      "====== Neural Network ======\n"
     ]
    },
    {
     "name": "stdout",
     "output_type": "stream",
     "text": [
      "Epoch 0, Loss 0.2702\n",
      "Training Accuracy: 0.5484, Testing Accuracy: 0.5428\n",
      "\n"
     ]
    },
    {
     "name": "stdout",
     "output_type": "stream",
     "text": [
      "Epoch 10, Loss 0.088\n",
      "Training Accuracy: 0.9215, Testing Accuracy: 0.9309\n",
      "\n"
     ]
    },
    {
     "name": "stdout",
     "output_type": "stream",
     "text": [
      "Epoch 20, Loss 0.0526\n",
      "Training Accuracy: 0.9468, Testing Accuracy: 0.9551\n",
      "\n"
     ]
    },
    {
     "name": "stdout",
     "output_type": "stream",
     "text": [
      "Epoch 30, Loss 0.0414\n",
      "Training Accuracy: 0.9543, Testing Accuracy: 0.9622\n",
      "\n"
     ]
    },
    {
     "name": "stdout",
     "output_type": "stream",
     "text": [
      "Epoch 40, Loss 0.0362\n",
      "Training Accuracy: 0.9591, Testing Accuracy: 0.9647\n",
      "\n"
     ]
    },
    {
     "name": "stdout",
     "output_type": "stream",
     "text": [
      "Epoch 50, Loss 0.0331\n",
      "Training Accuracy: 0.9621, Testing Accuracy: 0.9672\n",
      "\n"
     ]
    },
    {
     "name": "stdout",
     "output_type": "stream",
     "text": [
      "Epoch 60, Loss 0.0309\n",
      "Training Accuracy: 0.9639, Testing Accuracy: 0.9708\n",
      "\n"
     ]
    },
    {
     "name": "stdout",
     "output_type": "stream",
     "text": [
      "Epoch 70, Loss 0.0293\n",
      "Training Accuracy: 0.9654, Testing Accuracy: 0.9713\n",
      "\n"
     ]
    },
    {
     "name": "stdout",
     "output_type": "stream",
     "text": [
      "Epoch 80, Loss 0.0279\n",
      "Training Accuracy: 0.9669, Testing Accuracy: 0.9713\n",
      "\n"
     ]
    },
    {
     "name": "stdout",
     "output_type": "stream",
     "text": [
      "Epoch 90, Loss 0.0268\n",
      "Training Accuracy: 0.9684, Testing Accuracy: 0.9718\n",
      "\n"
     ]
    },
    {
     "name": "stdout",
     "output_type": "stream",
     "text": [
      "Epoch 100, Loss 0.0259\n",
      "Training Accuracy: 0.9691, Testing Accuracy: 0.9723\n",
      "\n"
     ]
    },
    {
     "name": "stdout",
     "output_type": "stream",
     "text": [
      "Epoch 110, Loss 0.025\n",
      "Training Accuracy: 0.9705, Testing Accuracy: 0.9728\n",
      "\n"
     ]
    },
    {
     "name": "stdout",
     "output_type": "stream",
     "text": [
      "Epoch 120, Loss 0.0243\n",
      "Training Accuracy: 0.9712, Testing Accuracy: 0.9733\n",
      "\n"
     ]
    },
    {
     "name": "stdout",
     "output_type": "stream",
     "text": [
      "Epoch 130, Loss 0.0236\n",
      "Training Accuracy: 0.9720, Testing Accuracy: 0.9728\n",
      "\n"
     ]
    },
    {
     "name": "stdout",
     "output_type": "stream",
     "text": [
      "Epoch 140, Loss 0.0229\n",
      "Training Accuracy: 0.9725, Testing Accuracy: 0.9738\n",
      "\n"
     ]
    },
    {
     "name": "stdout",
     "output_type": "stream",
     "text": [
      "Epoch 150, Loss 0.0223\n",
      "Training Accuracy: 0.9734, Testing Accuracy: 0.9738\n",
      "\n"
     ]
    },
    {
     "name": "stdout",
     "output_type": "stream",
     "text": [
      "Epoch 160, Loss 0.0218\n",
      "Training Accuracy: 0.9745, Testing Accuracy: 0.9743\n",
      "\n"
     ]
    },
    {
     "name": "stdout",
     "output_type": "stream",
     "text": [
      "Epoch 170, Loss 0.0213\n",
      "Training Accuracy: 0.9755, Testing Accuracy: 0.9748\n",
      "\n"
     ]
    },
    {
     "name": "stdout",
     "output_type": "stream",
     "text": [
      "Epoch 180, Loss 0.0208\n",
      "Training Accuracy: 0.9761, Testing Accuracy: 0.9748\n",
      "\n"
     ]
    },
    {
     "name": "stdout",
     "output_type": "stream",
     "text": [
      "Epoch 190, Loss 0.0204\n",
      "Training Accuracy: 0.9767, Testing Accuracy: 0.9748\n",
      "\n"
     ]
    },
    {
     "name": "stdout",
     "output_type": "stream",
     "text": [
      "Epoch 200, Loss 0.02\n",
      "Training Accuracy: 0.9775, Testing Accuracy: 0.9748\n",
      "\n"
     ]
    },
    {
     "name": "stdout",
     "output_type": "stream",
     "text": [
      "Epoch 210, Loss 0.0195\n",
      "Training Accuracy: 0.9780, Testing Accuracy: 0.9753\n",
      "\n"
     ]
    },
    {
     "name": "stdout",
     "output_type": "stream",
     "text": [
      "Epoch 220, Loss 0.0192\n",
      "Training Accuracy: 0.9784, Testing Accuracy: 0.9753\n",
      "\n"
     ]
    },
    {
     "name": "stdout",
     "output_type": "stream",
     "text": [
      "Epoch 230, Loss 0.0188\n",
      "Training Accuracy: 0.9788, Testing Accuracy: 0.9758\n",
      "\n"
     ]
    },
    {
     "name": "stdout",
     "output_type": "stream",
     "text": [
      "Epoch 240, Loss 0.0184\n",
      "Training Accuracy: 0.9791, Testing Accuracy: 0.9758\n",
      "\n"
     ]
    },
    {
     "name": "stdout",
     "output_type": "stream",
     "text": [
      "Epoch 250, Loss 0.0181\n",
      "Training Accuracy: 0.9798, Testing Accuracy: 0.9763\n",
      "\n"
     ]
    },
    {
     "data": {
      "text/plain": [
       "0.01697874216566595"
      ]
     },
     "execution_count": 20,
     "metadata": {},
     "output_type": "execute_result"
    }
   ],
   "source": [
    "print(\"====== Neural Network ======\")\n",
    "learner_nn.train_loop(dl)"
   ]
  },
  {
   "cell_type": "markdown",
   "metadata": {
    "papermill": {
     "duration": 0.032879,
     "end_time": "2020-11-22T10:06:03.593341",
     "exception": false,
     "start_time": "2020-11-22T10:06:03.560462",
     "status": "completed"
    },
    "tags": []
   },
   "source": [
    "### Logistic Regression based Implementation."
   ]
  },
  {
   "cell_type": "code",
   "execution_count": 21,
   "metadata": {
    "execution": {
     "iopub.execute_input": "2020-11-22T10:06:03.671565Z",
     "iopub.status.busy": "2020-11-22T10:06:03.662210Z",
     "iopub.status.idle": "2020-11-22T10:06:03.676660Z",
     "shell.execute_reply": "2020-11-22T10:06:03.677170Z"
    },
    "papermill": {
     "duration": 0.052736,
     "end_time": "2020-11-22T10:06:03.677334",
     "exception": false,
     "start_time": "2020-11-22T10:06:03.624598",
     "status": "completed"
    },
    "tags": []
   },
   "outputs": [],
   "source": [
    "learner_lr = Learner(loss, model_lr, opt, config.num_epochs)\n",
    "acc_lr = ClfCallback(learner_lr, config.bs, training_xdata , testing_xdata, training_ydata, testing_ydata)\n",
    "learner_lr.set_callbacks([acc_lr])"
   ]
  },
  {
   "cell_type": "code",
   "execution_count": 22,
   "metadata": {
    "execution": {
     "iopub.execute_input": "2020-11-22T10:06:03.746486Z",
     "iopub.status.busy": "2020-11-22T10:06:03.745946Z",
     "iopub.status.idle": "2020-11-22T10:06:17.917226Z",
     "shell.execute_reply": "2020-11-22T10:06:17.918056Z"
    },
    "papermill": {
     "duration": 14.208178,
     "end_time": "2020-11-22T10:06:17.918215",
     "exception": false,
     "start_time": "2020-11-22T10:06:03.710037",
     "status": "completed"
    },
    "tags": []
   },
   "outputs": [
    {
     "name": "stdout",
     "output_type": "stream",
     "text": [
      "====== Logistic Regression ======\n",
      "Epoch 0, Loss 0.1911\n",
      "Training Accuracy: 0.8066, Testing Accuracy: 0.8170\n",
      "\n"
     ]
    },
    {
     "name": "stdout",
     "output_type": "stream",
     "text": [
      "Epoch 10, Loss 0.0994\n",
      "Training Accuracy: 0.9099, Testing Accuracy: 0.9068\n",
      "\n"
     ]
    },
    {
     "name": "stdout",
     "output_type": "stream",
     "text": [
      "Epoch 20, Loss 0.078\n",
      "Training Accuracy: 0.9270, Testing Accuracy: 0.9294\n",
      "\n"
     ]
    },
    {
     "name": "stdout",
     "output_type": "stream",
     "text": [
      "Epoch 30, Loss 0.0675\n",
      "Training Accuracy: 0.9363, Testing Accuracy: 0.9410\n",
      "\n"
     ]
    },
    {
     "name": "stdout",
     "output_type": "stream",
     "text": [
      "Epoch 40, Loss 0.061\n",
      "Training Accuracy: 0.9414, Testing Accuracy: 0.9486\n",
      "\n"
     ]
    },
    {
     "name": "stdout",
     "output_type": "stream",
     "text": [
      "Epoch 50, Loss 0.0566\n",
      "Training Accuracy: 0.9448, Testing Accuracy: 0.9511\n",
      "\n"
     ]
    },
    {
     "name": "stdout",
     "output_type": "stream",
     "text": [
      "Epoch 60, Loss 0.0533\n",
      "Training Accuracy: 0.9468, Testing Accuracy: 0.9541\n",
      "\n"
     ]
    },
    {
     "name": "stdout",
     "output_type": "stream",
     "text": [
      "Epoch 70, Loss 0.0508\n",
      "Training Accuracy: 0.9488, Testing Accuracy: 0.9567\n",
      "\n"
     ]
    },
    {
     "name": "stdout",
     "output_type": "stream",
     "text": [
      "Epoch 80, Loss 0.0488\n",
      "Training Accuracy: 0.9499, Testing Accuracy: 0.9577\n",
      "\n"
     ]
    },
    {
     "name": "stdout",
     "output_type": "stream",
     "text": [
      "Epoch 90, Loss 0.0471\n",
      "Training Accuracy: 0.9520, Testing Accuracy: 0.9602\n",
      "\n"
     ]
    },
    {
     "name": "stdout",
     "output_type": "stream",
     "text": [
      "Epoch 100, Loss 0.0457\n",
      "Training Accuracy: 0.9529, Testing Accuracy: 0.9627\n",
      "\n"
     ]
    },
    {
     "name": "stdout",
     "output_type": "stream",
     "text": [
      "Epoch 110, Loss 0.0445\n",
      "Training Accuracy: 0.9543, Testing Accuracy: 0.9627\n",
      "\n"
     ]
    },
    {
     "name": "stdout",
     "output_type": "stream",
     "text": [
      "Epoch 120, Loss 0.0435\n",
      "Training Accuracy: 0.9549, Testing Accuracy: 0.9622\n",
      "\n"
     ]
    },
    {
     "name": "stdout",
     "output_type": "stream",
     "text": [
      "Epoch 130, Loss 0.0426\n",
      "Training Accuracy: 0.9555, Testing Accuracy: 0.9627\n",
      "\n"
     ]
    },
    {
     "name": "stdout",
     "output_type": "stream",
     "text": [
      "Epoch 140, Loss 0.0417\n",
      "Training Accuracy: 0.9564, Testing Accuracy: 0.9627\n",
      "\n"
     ]
    },
    {
     "name": "stdout",
     "output_type": "stream",
     "text": [
      "Epoch 150, Loss 0.041\n",
      "Training Accuracy: 0.9574, Testing Accuracy: 0.9637\n",
      "\n"
     ]
    },
    {
     "name": "stdout",
     "output_type": "stream",
     "text": [
      "Epoch 160, Loss 0.0404\n",
      "Training Accuracy: 0.9578, Testing Accuracy: 0.9632\n",
      "\n"
     ]
    },
    {
     "name": "stdout",
     "output_type": "stream",
     "text": [
      "Epoch 170, Loss 0.0398\n",
      "Training Accuracy: 0.9582, Testing Accuracy: 0.9632\n",
      "\n"
     ]
    },
    {
     "name": "stdout",
     "output_type": "stream",
     "text": [
      "Epoch 180, Loss 0.0392\n",
      "Training Accuracy: 0.9591, Testing Accuracy: 0.9637\n",
      "\n"
     ]
    },
    {
     "name": "stdout",
     "output_type": "stream",
     "text": [
      "Epoch 190, Loss 0.0387\n",
      "Training Accuracy: 0.9593, Testing Accuracy: 0.9662\n",
      "\n"
     ]
    },
    {
     "name": "stdout",
     "output_type": "stream",
     "text": [
      "Epoch 200, Loss 0.0382\n",
      "Training Accuracy: 0.9599, Testing Accuracy: 0.9667\n",
      "\n"
     ]
    },
    {
     "name": "stdout",
     "output_type": "stream",
     "text": [
      "Epoch 210, Loss 0.0378\n",
      "Training Accuracy: 0.9602, Testing Accuracy: 0.9667\n",
      "\n"
     ]
    },
    {
     "name": "stdout",
     "output_type": "stream",
     "text": [
      "Epoch 220, Loss 0.0374\n",
      "Training Accuracy: 0.9606, Testing Accuracy: 0.9667\n",
      "\n"
     ]
    },
    {
     "name": "stdout",
     "output_type": "stream",
     "text": [
      "Epoch 230, Loss 0.037\n",
      "Training Accuracy: 0.9611, Testing Accuracy: 0.9667\n",
      "\n"
     ]
    },
    {
     "name": "stdout",
     "output_type": "stream",
     "text": [
      "Epoch 240, Loss 0.0367\n",
      "Training Accuracy: 0.9614, Testing Accuracy: 0.9667\n",
      "\n"
     ]
    },
    {
     "name": "stdout",
     "output_type": "stream",
     "text": [
      "Epoch 250, Loss 0.0363\n",
      "Training Accuracy: 0.9620, Testing Accuracy: 0.9667\n",
      "\n"
     ]
    },
    {
     "data": {
      "text/plain": [
       "0.01797655995775943"
      ]
     },
     "execution_count": 22,
     "metadata": {},
     "output_type": "execute_result"
    }
   ],
   "source": [
    "print(\"====== Logistic Regression ======\")\n",
    "learner_lr.train_loop(dl)"
   ]
  },
  {
   "cell_type": "markdown",
   "metadata": {
    "papermill": {
     "duration": 0.037443,
     "end_time": "2020-11-22T10:06:17.997172",
     "exception": false,
     "start_time": "2020-11-22T10:06:17.959729",
     "status": "completed"
    },
    "tags": []
   },
   "source": [
    "### Comparing results of NN and LR"
   ]
  },
  {
   "cell_type": "code",
   "execution_count": 23,
   "metadata": {
    "execution": {
     "iopub.execute_input": "2020-11-22T10:06:18.082508Z",
     "iopub.status.busy": "2020-11-22T10:06:18.081389Z",
     "iopub.status.idle": "2020-11-22T10:06:18.302114Z",
     "shell.execute_reply": "2020-11-22T10:06:18.301456Z"
    },
    "papermill": {
     "duration": 0.266593,
     "end_time": "2020-11-22T10:06:18.302257",
     "exception": false,
     "start_time": "2020-11-22T10:06:18.035664",
     "status": "completed"
    },
    "tags": []
   },
   "outputs": [
    {
     "data": {
      "text/plain": [
       "<matplotlib.legend.Legend at 0x7faf9dd059b0>"
      ]
     },
     "execution_count": 23,
     "metadata": {},
     "output_type": "execute_result"
    },
    {
     "data": {
      "image/png": "[encoded data removed]",
      "text/plain": [
       "<Figure size 1080x720 with 1 Axes>"
      ]
     },
     "metadata": {
      "needs_background": "light"
     },
     "output_type": "display_data"
    }
   ],
   "source": [
    "plt.figure(figsize=(15,10))\n",
    "\n",
    "# Neural Network plots\n",
    "plt.plot(acc_nn.accuracies, 'r-', label = \"Training Accuracies - NN\")\n",
    "plt.plot(acc_nn.test_accuracies, 'g-', label = \"Testing Accuracies - NN\")\n",
    "\n",
    "# Logistic Regression plots\n",
    "plt.plot(acc_lr.accuracies, 'k-', label = \"Training Accuracies - LR\")\n",
    "plt.plot(acc_lr.test_accuracies, 'b-', label = \"Testing Accuracies - LR\")\n",
    "\n",
    "plt.ylim(0.8, 1)\n",
    "\n",
    "plt.legend()\n",
    "\n"
   ]
  },
  {
   "cell_type": "markdown",
   "metadata": {
    "papermill": {
     "duration": 0.039074,
     "end_time": "2020-11-22T10:06:18.383809",
     "exception": false,
     "start_time": "2020-11-22T10:06:18.344735",
     "status": "completed"
    },
    "tags": []
   },
   "source": [
    "### From the plot, we can observe the following:\n",
    "- Neural Network achieves higher accuracy than the Logistic Regression model.\n",
    "- This apparently, is because of overfitting, i.e. NN captures more noise than data.\n",
    "- Testing accuracy of NN drops below the Training accuracy at higher epochs. This explains the over-fitting on training data.\n",
    "- Logistic Regression gives a reliable accuracy, without the above mentioned problem.\n"
   ]
  },
  {
   "cell_type": "markdown",
   "metadata": {
    "papermill": {
     "duration": 0.040426,
     "end_time": "2020-11-22T10:06:18.462632",
     "exception": false,
     "start_time": "2020-11-22T10:06:18.422206",
     "status": "completed"
    },
    "tags": []
   },
   "source": [
    "### Moving till the last but one layer (excluding it).\n",
    "#### Plotting the outputs of this layer of the NN."
   ]
  },
  {
   "cell_type": "code",
   "execution_count": 24,
   "metadata": {
    "execution": {
     "iopub.execute_input": "2020-11-22T10:06:18.546625Z",
     "iopub.status.busy": "2020-11-22T10:06:18.545659Z",
     "iopub.status.idle": "2020-11-22T10:06:18.557353Z",
     "shell.execute_reply": "2020-11-22T10:06:18.556849Z"
    },
    "papermill": {
     "duration": 0.055866,
     "end_time": "2020-11-22T10:06:18.557492",
     "exception": false,
     "start_time": "2020-11-22T10:06:18.501626",
     "status": "completed"
    },
    "tags": []
   },
   "outputs": [],
   "source": [
    "model_new = Model(layers[:-2])"
   ]
  },
  {
   "cell_type": "code",
   "execution_count": 25,
   "metadata": {
    "execution": {
     "iopub.execute_input": "2020-11-22T10:06:18.640377Z",
     "iopub.status.busy": "2020-11-22T10:06:18.639873Z",
     "iopub.status.idle": "2020-11-22T10:06:18.660453Z",
     "shell.execute_reply": "2020-11-22T10:06:18.660898Z"
    },
    "papermill": {
     "duration": 0.063637,
     "end_time": "2020-11-22T10:06:18.661089",
     "exception": false,
     "start_time": "2020-11-22T10:06:18.597452",
     "status": "completed"
    },
    "tags": []
   },
   "outputs": [],
   "source": [
    "plot_testing = model_new(testing_xdata)"
   ]
  },
  {
   "cell_type": "code",
   "execution_count": 26,
   "metadata": {
    "execution": {
     "iopub.execute_input": "2020-11-22T10:06:18.755389Z",
     "iopub.status.busy": "2020-11-22T10:06:18.754749Z",
     "iopub.status.idle": "2020-11-22T10:06:18.932962Z",
     "shell.execute_reply": "2020-11-22T10:06:18.933390Z"
    },
    "papermill": {
     "duration": 0.231637,
     "end_time": "2020-11-22T10:06:18.933546",
     "exception": false,
     "start_time": "2020-11-22T10:06:18.701909",
     "status": "completed"
    },
    "tags": []
   },
   "outputs": [
    {
     "data": {
      "text/plain": [
       "Text(0.5, 1.0, 'Outputs')"
      ]
     },
     "execution_count": 26,
     "metadata": {},
     "output_type": "execute_result"
    },
    {
     "data": {
      "image/png": "[encoded data removed]",
      "text/plain": [
       "<Figure size 576x504 with 1 Axes>"
      ]
     },
     "metadata": {
      "needs_background": "light"
     },
     "output_type": "display_data"
    }
   ],
   "source": [
    "plt.figure(figsize=(8,7))\n",
    "plt.scatter(plot_testing[:,0], plot_testing[:,1], alpha = 0.1, c = y_test.ravel());\n",
    "plt.title('Outputs')"
   ]
  },
  {
   "cell_type": "markdown",
   "metadata": {
    "papermill": {
     "duration": 0.041022,
     "end_time": "2020-11-22T10:06:19.015331",
     "exception": false,
     "start_time": "2020-11-22T10:06:18.974309",
     "status": "completed"
    },
    "tags": []
   },
   "source": [
    "### Plotting probability contours"
   ]
  },
  {
   "cell_type": "code",
   "execution_count": 27,
   "metadata": {
    "execution": {
     "iopub.execute_input": "2020-11-22T10:06:19.100815Z",
     "iopub.status.busy": "2020-11-22T10:06:19.100162Z",
     "iopub.status.idle": "2020-11-22T10:06:19.114536Z",
     "shell.execute_reply": "2020-11-22T10:06:19.113944Z"
    },
    "papermill": {
     "duration": 0.058726,
     "end_time": "2020-11-22T10:06:19.114679",
     "exception": false,
     "start_time": "2020-11-22T10:06:19.055953",
     "status": "completed"
    },
    "tags": []
   },
   "outputs": [],
   "source": [
    "model_prob = Model(layers[-2:]) "
   ]
  },
  {
   "cell_type": "code",
   "execution_count": 28,
   "metadata": {
    "execution": {
     "iopub.execute_input": "2020-11-22T10:06:19.201609Z",
     "iopub.status.busy": "2020-11-22T10:06:19.201050Z",
     "iopub.status.idle": "2020-11-22T10:06:19.214165Z",
     "shell.execute_reply": "2020-11-22T10:06:19.214615Z"
    },
    "papermill": {
     "duration": 0.060047,
     "end_time": "2020-11-22T10:06:19.214775",
     "exception": false,
     "start_time": "2020-11-22T10:06:19.154728",
     "status": "completed"
    },
    "tags": []
   },
   "outputs": [],
   "source": [
    "# Adjust the x and y ranges according to the above generated plot.\n",
    "x_range = np.linspace(-4, 1, 100) \n",
    "y_range = np.linspace(-6, 6, 100) \n",
    "x_grid, y_grid = np.meshgrid(x_range, y_range) # x_grid and y_grig are of size 100 X 100\n",
    "\n",
    "# converting x_grid and y_grid to continuous arrays\n",
    "x_grid_flat = np.ravel(x_grid)\n",
    "y_grid_flat = np.ravel(y_grid)\n",
    "\n",
    "# The last layer of the current model takes two columns as input. Hence transpose of np.vstack() is required.\n",
    "X = np.vstack((x_grid_flat, y_grid_flat)).T\n",
    "\n",
    "# x_grid and y_grid are of size 100 x 100\n",
    "probability_contour = model_prob(X).reshape(100,100) "
   ]
  },
  {
   "cell_type": "code",
   "execution_count": 29,
   "metadata": {
    "execution": {
     "iopub.execute_input": "2020-11-22T10:06:19.311421Z",
     "iopub.status.busy": "2020-11-22T10:06:19.310907Z",
     "iopub.status.idle": "2020-11-22T10:06:19.526390Z",
     "shell.execute_reply": "2020-11-22T10:06:19.525953Z"
    },
    "papermill": {
     "duration": 0.26995,
     "end_time": "2020-11-22T10:06:19.526511",
     "exception": false,
     "start_time": "2020-11-22T10:06:19.256561",
     "status": "completed"
    },
    "tags": []
   },
   "outputs": [
    {
     "data": {
      "image/png": "[encoded data removed]",
      "text/plain": [
       "<Figure size 720x648 with 1 Axes>"
      ]
     },
     "metadata": {
      "needs_background": "light"
     },
     "output_type": "display_data"
    }
   ],
   "source": [
    "plt.figure(figsize=(10,9))\n",
    "plt.scatter(plot_testing[:,0], plot_testing[:,1], alpha = 0.1, c = y_test.ravel())\n",
    "contours = plt.contour(x_grid,y_grid,probability_contour)\n",
    "plt.title('Probability Contours')\n",
    "plt.clabel(contours, inline = True );"
   ]
  }
 ],
 "metadata": {
  "kernelspec": {
   "display_name": "Python 3",
   "language": "python",
   "name": "python3"
  },
  "language_info": {
   "codemirror_mode": {
    "name": "ipython",
    "version": 3
   },
   "file_extension": ".py",
   "mimetype": "text/x-python",
   "name": "python",
   "nbconvert_exporter": "python",
   "pygments_lexer": "ipython3",
   "version": "3.6.12"
  },
  "papermill": {
   "duration": 101.726146,
   "end_time": "2020-11-22T10:06:19.979300",
   "environment_variables": {},
   "exception": null,
   "input_path": "2020-08-11-NeuralNetwork.ipynb",
   "output_path": "2020-08-11-NeuralNetwork.ipynb",
   "parameters": {},
   "start_time": "2020-11-22T10:04:38.253154",
   "version": "2.1.2"
  }
 },
 "nbformat": 4,
 "nbformat_minor": 4
}