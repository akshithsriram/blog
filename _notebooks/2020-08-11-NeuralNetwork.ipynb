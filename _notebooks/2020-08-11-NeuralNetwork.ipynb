{
 "cells": [
  {
   "cell_type": "markdown",
   "metadata": {
    "papermill": {
     "duration": 0.029417,
     "end_time": "2020-12-30T00:15:24.894241",
     "exception": false,
     "start_time": "2020-12-30T00:15:24.864824",
     "status": "completed"
    },
    "tags": []
   },
   "source": [
    "# \"A Basic Neural Network: Differentiate Hand-Written Digits\"\n",
    "\n",
    "- badges: true\n",
    "- author: Akshith Sriram"
   ]
  },
  {
   "cell_type": "markdown",
   "metadata": {
    "papermill": {
     "duration": 0.027003,
     "end_time": "2020-12-30T00:15:24.947570",
     "exception": false,
     "start_time": "2020-12-30T00:15:24.920567",
     "status": "completed"
    },
    "tags": []
   },
   "source": [
    "### Key Objectives:\n",
    "- Building a neural network that differentiates two hand-written digits 3 and 8.\n",
    "- Comparing the results of this Neural Network (NN) to that of a Logistic Regression (LR) model.\n",
    "\n",
    "### Requirements:\n",
    "- 'Kudzu' : A neural network library that was designed during our course by [Univ.AI](www.univ.ai). \n",
    "- MNIST Database\n",
    "\n",
    "If MNIST is not installed, use the command `!pip install mnist` given below.\n",
    "It can be run both from the command line and Jupyter Notebook."
   ]
  },
  {
   "cell_type": "code",
   "execution_count": 1,
   "metadata": {
    "execution": {
     "iopub.execute_input": "2020-12-30T00:15:25.009639Z",
     "iopub.status.busy": "2020-12-30T00:15:25.006809Z",
     "iopub.status.idle": "2020-12-30T00:15:26.618485Z",
     "shell.execute_reply": "2020-12-30T00:15:26.616551Z"
    },
    "papermill": {
     "duration": 1.645751,
     "end_time": "2020-12-30T00:15:26.618856",
     "exception": false,
     "start_time": "2020-12-30T00:15:24.973105",
     "status": "completed"
    },
    "tags": []
   },
   "outputs": [
    {
     "name": "stdout",
     "output_type": "stream",
     "text": [
      "Collecting mnist\r\n"
     ]
    },
    {
     "name": "stdout",
     "output_type": "stream",
     "text": [
      "  Downloading mnist-0.2.2-py2.py3-none-any.whl (3.5 kB)\r\n",
      "Requirement already satisfied: numpy in /opt/hostedtoolcache/Python/3.6.12/x64/lib/python3.6/site-packages (from mnist) (1.19.4)\r\n"
     ]
    },
    {
     "name": "stdout",
     "output_type": "stream",
     "text": [
      "Installing collected packages: mnist\r\n"
     ]
    },
    {
     "name": "stdout",
     "output_type": "stream",
     "text": [
      "Successfully installed mnist-0.2.2\r\n"
     ]
    },
    {
     "name": "stdout",
     "output_type": "stream",
     "text": [
      "\u001b[33mWARNING: You are using pip version 20.3.1; however, version 20.3.3 is available.\r\n",
      "You should consider upgrading via the '/opt/hostedtoolcache/Python/3.6.12/x64/bin/python -m pip install --upgrade pip' command.\u001b[0m\r\n"
     ]
    }
   ],
   "source": [
    "!pip install mnist "
   ]
  },
  {
   "cell_type": "markdown",
   "metadata": {
    "papermill": {
     "duration": 0.027859,
     "end_time": "2020-12-30T00:15:26.679892",
     "exception": false,
     "start_time": "2020-12-30T00:15:26.652033",
     "status": "completed"
    },
    "tags": []
   },
   "source": [
    "#### Importing necessary libraries"
   ]
  },
  {
   "cell_type": "code",
   "execution_count": 2,
   "metadata": {
    "execution": {
     "iopub.execute_input": "2020-12-30T00:15:26.755069Z",
     "iopub.status.busy": "2020-12-30T00:15:26.754448Z",
     "iopub.status.idle": "2020-12-30T00:15:27.352118Z",
     "shell.execute_reply": "2020-12-30T00:15:27.351596Z"
    },
    "papermill": {
     "duration": 0.63893,
     "end_time": "2020-12-30T00:15:27.352278",
     "exception": false,
     "start_time": "2020-12-30T00:15:26.713348",
     "status": "completed"
    },
    "tags": []
   },
   "outputs": [],
   "source": [
    "%load_ext autoreload\n",
    "%autoreload 2\n",
    "\n",
    "%matplotlib inline\n",
    "import matplotlib.pyplot as plt\n",
    "\n",
    "import numpy as np\n",
    "import pandas as pd"
   ]
  },
  {
   "cell_type": "markdown",
   "metadata": {
    "papermill": {
     "duration": 0.029013,
     "end_time": "2020-12-30T00:15:27.409946",
     "exception": false,
     "start_time": "2020-12-30T00:15:27.380933",
     "status": "completed"
    },
    "tags": []
   },
   "source": [
    "### Preparing the Data"
   ]
  },
  {
   "cell_type": "code",
   "execution_count": 3,
   "metadata": {
    "execution": {
     "iopub.execute_input": "2020-12-30T00:15:27.478137Z",
     "iopub.status.busy": "2020-12-30T00:15:27.477385Z",
     "iopub.status.idle": "2020-12-30T00:15:27.490123Z",
     "shell.execute_reply": "2020-12-30T00:15:27.490623Z"
    },
    "papermill": {
     "duration": 0.051755,
     "end_time": "2020-12-30T00:15:27.490783",
     "exception": false,
     "start_time": "2020-12-30T00:15:27.439028",
     "status": "completed"
    },
    "tags": []
   },
   "outputs": [],
   "source": [
    "import mnist"
   ]
  },
  {
   "cell_type": "code",
   "execution_count": 4,
   "metadata": {
    "execution": {
     "iopub.execute_input": "2020-12-30T00:15:27.553544Z",
     "iopub.status.busy": "2020-12-30T00:15:27.552926Z",
     "iopub.status.idle": "2020-12-30T00:15:28.300636Z",
     "shell.execute_reply": "2020-12-30T00:15:28.301178Z"
    },
    "papermill": {
     "duration": 0.782269,
     "end_time": "2020-12-30T00:15:28.301349",
     "exception": false,
     "start_time": "2020-12-30T00:15:27.519080",
     "status": "completed"
    },
    "tags": []
   },
   "outputs": [],
   "source": [
    "train_images = mnist.train_images()\n",
    "train_labels = mnist.train_labels()"
   ]
  },
  {
   "cell_type": "code",
   "execution_count": 5,
   "metadata": {
    "execution": {
     "iopub.execute_input": "2020-12-30T00:15:28.362804Z",
     "iopub.status.busy": "2020-12-30T00:15:28.362171Z",
     "iopub.status.idle": "2020-12-30T00:15:28.374819Z",
     "shell.execute_reply": "2020-12-30T00:15:28.375384Z"
    },
    "papermill": {
     "duration": 0.047085,
     "end_time": "2020-12-30T00:15:28.375543",
     "exception": false,
     "start_time": "2020-12-30T00:15:28.328458",
     "status": "completed"
    },
    "tags": []
   },
   "outputs": [
    {
     "data": {
      "text/plain": [
       "((60000, 28, 28), (60000,))"
      ]
     },
     "execution_count": 5,
     "metadata": {},
     "output_type": "execute_result"
    }
   ],
   "source": [
    "train_images.shape, train_labels.shape"
   ]
  },
  {
   "cell_type": "code",
   "execution_count": 6,
   "metadata": {
    "execution": {
     "iopub.execute_input": "2020-12-30T00:15:28.441437Z",
     "iopub.status.busy": "2020-12-30T00:15:28.440821Z",
     "iopub.status.idle": "2020-12-30T00:15:28.710295Z",
     "shell.execute_reply": "2020-12-30T00:15:28.710934Z"
    },
    "papermill": {
     "duration": 0.307399,
     "end_time": "2020-12-30T00:15:28.711111",
     "exception": false,
     "start_time": "2020-12-30T00:15:28.403712",
     "status": "completed"
    },
    "tags": []
   },
   "outputs": [],
   "source": [
    "test_images = mnist.test_images()\n",
    "test_labels = mnist.test_labels()"
   ]
  },
  {
   "cell_type": "code",
   "execution_count": 7,
   "metadata": {
    "execution": {
     "iopub.execute_input": "2020-12-30T00:15:28.773917Z",
     "iopub.status.busy": "2020-12-30T00:15:28.773229Z",
     "iopub.status.idle": "2020-12-30T00:15:28.786798Z",
     "shell.execute_reply": "2020-12-30T00:15:28.787282Z"
    },
    "papermill": {
     "duration": 0.047392,
     "end_time": "2020-12-30T00:15:28.787443",
     "exception": false,
     "start_time": "2020-12-30T00:15:28.740051",
     "status": "completed"
    },
    "tags": []
   },
   "outputs": [
    {
     "data": {
      "text/plain": [
       "((10000, 28, 28), (10000,))"
      ]
     },
     "execution_count": 7,
     "metadata": {},
     "output_type": "execute_result"
    }
   ],
   "source": [
    "test_images.shape, test_labels.shape"
   ]
  },
  {
   "cell_type": "code",
   "execution_count": 8,
   "metadata": {
    "execution": {
     "iopub.execute_input": "2020-12-30T00:15:28.853606Z",
     "iopub.status.busy": "2020-12-30T00:15:28.852981Z",
     "iopub.status.idle": "2020-12-30T00:15:29.010513Z",
     "shell.execute_reply": "2020-12-30T00:15:29.010999Z"
    },
    "papermill": {
     "duration": 0.193801,
     "end_time": "2020-12-30T00:15:29.011155",
     "exception": false,
     "start_time": "2020-12-30T00:15:28.817354",
     "status": "completed"
    },
    "tags": []
   },
   "outputs": [
    {
     "name": "stdout",
     "output_type": "stream",
     "text": [
      "2\n"
     ]
    },
    {
     "data": {
      "text/plain": [
       "<matplotlib.image.AxesImage at 0x7f29591b02b0>"
      ]
     },
     "execution_count": 8,
     "metadata": {},
     "output_type": "execute_result"
    },
    {
     "data": {
      "image/png": "[encoded data removed]",
      "text/plain": [
       "<Figure size 432x288 with 1 Axes>"
      ]
     },
     "metadata": {
      "needs_background": "light"
     },
     "output_type": "display_data"
    }
   ],
   "source": [
    "image_index = 7776 # You may select anything up to 60,000\n",
    "print(train_labels[image_index]) \n",
    "plt.imshow(train_images[image_index], cmap='Greys')"
   ]
  },
  {
   "cell_type": "markdown",
   "metadata": {
    "papermill": {
     "duration": 0.035472,
     "end_time": "2020-12-30T00:15:29.079764",
     "exception": false,
     "start_time": "2020-12-30T00:15:29.044292",
     "status": "completed"
    },
    "tags": []
   },
   "source": [
    "## Filter data to get 3 and 8 out"
   ]
  },
  {
   "cell_type": "code",
   "execution_count": 9,
   "metadata": {
    "execution": {
     "iopub.execute_input": "2020-12-30T00:15:29.154475Z",
     "iopub.status.busy": "2020-12-30T00:15:29.153849Z",
     "iopub.status.idle": "2020-12-30T00:15:29.173538Z",
     "shell.execute_reply": "2020-12-30T00:15:29.174017Z"
    },
    "papermill": {
     "duration": 0.056732,
     "end_time": "2020-12-30T00:15:29.174182",
     "exception": false,
     "start_time": "2020-12-30T00:15:29.117450",
     "status": "completed"
    },
    "tags": []
   },
   "outputs": [],
   "source": [
    "train_filter = np.where((train_labels == 3 ) | (train_labels == 8))\n",
    "test_filter = np.where((test_labels == 3) | (test_labels == 8))\n",
    "X_train, y_train = train_images[train_filter], train_labels[train_filter]\n",
    "X_test, y_test = test_images[test_filter], test_labels[test_filter]"
   ]
  },
  {
   "cell_type": "markdown",
   "metadata": {
    "papermill": {
     "duration": 0.028737,
     "end_time": "2020-12-30T00:15:29.231895",
     "exception": false,
     "start_time": "2020-12-30T00:15:29.203158",
     "status": "completed"
    },
    "tags": []
   },
   "source": [
    "We normalize the pixel values in the 0 to 1 range"
   ]
  },
  {
   "cell_type": "code",
   "execution_count": 10,
   "metadata": {
    "execution": {
     "iopub.execute_input": "2020-12-30T00:15:29.294072Z",
     "iopub.status.busy": "2020-12-30T00:15:29.293474Z",
     "iopub.status.idle": "2020-12-30T00:15:29.353151Z",
     "shell.execute_reply": "2020-12-30T00:15:29.352184Z"
    },
    "papermill": {
     "duration": 0.092835,
     "end_time": "2020-12-30T00:15:29.353374",
     "exception": false,
     "start_time": "2020-12-30T00:15:29.260539",
     "status": "completed"
    },
    "tags": []
   },
   "outputs": [],
   "source": [
    "X_train = X_train/255.\n",
    "X_test = X_test/255."
   ]
  },
  {
   "cell_type": "markdown",
   "metadata": {
    "papermill": {
     "duration": 0.028693,
     "end_time": "2020-12-30T00:15:29.412114",
     "exception": false,
     "start_time": "2020-12-30T00:15:29.383421",
     "status": "completed"
    },
    "tags": []
   },
   "source": [
    "Setup the labels as 1 (when the digit is 3) and 0 (when the digit is 8)"
   ]
  },
  {
   "cell_type": "code",
   "execution_count": 11,
   "metadata": {
    "execution": {
     "iopub.execute_input": "2020-12-30T00:15:29.474439Z",
     "iopub.status.busy": "2020-12-30T00:15:29.473848Z",
     "iopub.status.idle": "2020-12-30T00:15:29.489196Z",
     "shell.execute_reply": "2020-12-30T00:15:29.488655Z"
    },
    "papermill": {
     "duration": 0.048563,
     "end_time": "2020-12-30T00:15:29.489335",
     "exception": false,
     "start_time": "2020-12-30T00:15:29.440772",
     "status": "completed"
    },
    "tags": []
   },
   "outputs": [],
   "source": [
    "y_train = 1*(y_train==3)\n",
    "y_test = 1*(y_test==3)"
   ]
  },
  {
   "cell_type": "code",
   "execution_count": 12,
   "metadata": {
    "execution": {
     "iopub.execute_input": "2020-12-30T00:15:29.553482Z",
     "iopub.status.busy": "2020-12-30T00:15:29.552865Z",
     "iopub.status.idle": "2020-12-30T00:15:29.566992Z",
     "shell.execute_reply": "2020-12-30T00:15:29.566505Z"
    },
    "papermill": {
     "duration": 0.04883,
     "end_time": "2020-12-30T00:15:29.567129",
     "exception": false,
     "start_time": "2020-12-30T00:15:29.518299",
     "status": "completed"
    },
    "tags": []
   },
   "outputs": [
    {
     "data": {
      "text/plain": [
       "((11982, 28, 28), (1984, 28, 28))"
      ]
     },
     "execution_count": 12,
     "metadata": {},
     "output_type": "execute_result"
    }
   ],
   "source": [
    "X_train.shape, X_test.shape"
   ]
  },
  {
   "cell_type": "markdown",
   "metadata": {
    "papermill": {
     "duration": 0.029065,
     "end_time": "2020-12-30T00:15:29.625300",
     "exception": false,
     "start_time": "2020-12-30T00:15:29.596235",
     "status": "completed"
    },
    "tags": []
   },
   "source": [
    "### Reshape the input data to create a linear array"
   ]
  },
  {
   "cell_type": "code",
   "execution_count": 13,
   "metadata": {
    "execution": {
     "iopub.execute_input": "2020-12-30T00:15:29.690006Z",
     "iopub.status.busy": "2020-12-30T00:15:29.689400Z",
     "iopub.status.idle": "2020-12-30T00:15:29.706097Z",
     "shell.execute_reply": "2020-12-30T00:15:29.705599Z"
    },
    "papermill": {
     "duration": 0.051447,
     "end_time": "2020-12-30T00:15:29.706236",
     "exception": false,
     "start_time": "2020-12-30T00:15:29.654789",
     "status": "completed"
    },
    "tags": []
   },
   "outputs": [
    {
     "data": {
      "text/plain": [
       "((11982, 784), (1984, 784))"
      ]
     },
     "execution_count": 13,
     "metadata": {},
     "output_type": "execute_result"
    }
   ],
   "source": [
    "X_train = X_train.reshape(X_train.shape[0], -1)\n",
    "X_test = X_test.reshape(X_test.shape[0], -1)\n",
    "X_train.shape, X_test.shape"
   ]
  },
  {
   "cell_type": "markdown",
   "metadata": {
    "papermill": {
     "duration": 0.029424,
     "end_time": "2020-12-30T00:15:29.765052",
     "exception": false,
     "start_time": "2020-12-30T00:15:29.735628",
     "status": "completed"
    },
    "tags": []
   },
   "source": [
    "### Importing appropriate functions from 'Kudzu'"
   ]
  },
  {
   "cell_type": "code",
   "execution_count": 14,
   "metadata": {
    "execution": {
     "iopub.execute_input": "2020-12-30T00:15:29.830997Z",
     "iopub.status.busy": "2020-12-30T00:15:29.830378Z",
     "iopub.status.idle": "2020-12-30T00:15:29.853533Z",
     "shell.execute_reply": "2020-12-30T00:15:29.852996Z"
    },
    "papermill": {
     "duration": 0.05895,
     "end_time": "2020-12-30T00:15:29.853677",
     "exception": false,
     "start_time": "2020-12-30T00:15:29.794727",
     "status": "completed"
    },
    "tags": []
   },
   "outputs": [],
   "source": [
    "from kudzu.layer import Sigmoid\n",
    "from kudzu.layer import Relu\n",
    "from kudzu.layer import Affine, Sigmoid\n",
    "\n",
    "from kudzu.model import Model\n",
    "from kudzu.train import Learner\n",
    "from kudzu.optim import GD\n",
    "from kudzu.data import Data, Dataloader, Sampler\n",
    "\n",
    "from kudzu.callbacks import AccCallback\n",
    "from kudzu.callbacks import ClfCallback\n",
    "\n",
    "from kudzu.loss import MSE"
   ]
  },
  {
   "cell_type": "markdown",
   "metadata": {
    "papermill": {
     "duration": 0.032234,
     "end_time": "2020-12-30T00:15:29.922311",
     "exception": false,
     "start_time": "2020-12-30T00:15:29.890077",
     "status": "completed"
    },
    "tags": []
   },
   "source": [
    "### Let us create a `Config` class, to store important parameters. \n",
    "This class essentially plays the role of a dictionary."
   ]
  },
  {
   "cell_type": "code",
   "execution_count": 15,
   "metadata": {
    "execution": {
     "iopub.execute_input": "2020-12-30T00:15:29.988875Z",
     "iopub.status.busy": "2020-12-30T00:15:29.988243Z",
     "iopub.status.idle": "2020-12-30T00:15:30.002494Z",
     "shell.execute_reply": "2020-12-30T00:15:30.001999Z"
    },
    "papermill": {
     "duration": 0.047881,
     "end_time": "2020-12-30T00:15:30.002639",
     "exception": false,
     "start_time": "2020-12-30T00:15:29.954758",
     "status": "completed"
    },
    "tags": []
   },
   "outputs": [],
   "source": [
    "class Config:\n",
    "    pass\n",
    "config = Config()\n",
    "config.lr = 0.001\n",
    "config.num_epochs = 251\n",
    "config.bs = 50"
   ]
  },
  {
   "cell_type": "markdown",
   "metadata": {
    "papermill": {
     "duration": 0.029352,
     "end_time": "2020-12-30T00:15:30.061325",
     "exception": false,
     "start_time": "2020-12-30T00:15:30.031973",
     "status": "completed"
    },
    "tags": []
   },
   "source": [
    "### Initializing data to the variables"
   ]
  },
  {
   "cell_type": "code",
   "execution_count": 16,
   "metadata": {
    "execution": {
     "iopub.execute_input": "2020-12-30T00:15:30.125353Z",
     "iopub.status.busy": "2020-12-30T00:15:30.124702Z",
     "iopub.status.idle": "2020-12-30T00:15:30.138427Z",
     "shell.execute_reply": "2020-12-30T00:15:30.137930Z"
    },
    "papermill": {
     "duration": 0.047584,
     "end_time": "2020-12-30T00:15:30.138568",
     "exception": false,
     "start_time": "2020-12-30T00:15:30.090984",
     "status": "completed"
    },
    "tags": []
   },
   "outputs": [],
   "source": [
    "data = Data(X_train, y_train.reshape(-1,1))\n",
    "sampler = Sampler(data, config.bs, shuffle=True)\n",
    "\n",
    "dl = Dataloader(data, sampler)\n",
    "\n",
    "opt = GD(config.lr)\n",
    "loss = MSE()"
   ]
  },
  {
   "cell_type": "code",
   "execution_count": 17,
   "metadata": {
    "execution": {
     "iopub.execute_input": "2020-12-30T00:15:30.201980Z",
     "iopub.status.busy": "2020-12-30T00:15:30.201341Z",
     "iopub.status.idle": "2020-12-30T00:15:30.216222Z",
     "shell.execute_reply": "2020-12-30T00:15:30.215684Z"
    },
    "papermill": {
     "duration": 0.048429,
     "end_time": "2020-12-30T00:15:30.216358",
     "exception": false,
     "start_time": "2020-12-30T00:15:30.167929",
     "status": "completed"
    },
    "tags": []
   },
   "outputs": [],
   "source": [
    "training_xdata = X_train\n",
    "testing_xdata = X_test\n",
    "training_ydata = y_train.reshape(-1,1)\n",
    "testing_ydata = y_test.reshape(-1,1)"
   ]
  },
  {
   "cell_type": "markdown",
   "metadata": {
    "papermill": {
     "duration": 0.032541,
     "end_time": "2020-12-30T00:15:30.281977",
     "exception": false,
     "start_time": "2020-12-30T00:15:30.249436",
     "status": "completed"
    },
    "tags": []
   },
   "source": [
    "### Running Models with the Training data\n",
    "Details about the network layers:\n",
    "- A first affine layer has 784 inputs and does 100 affine transforms. These are followed by a Relu\n",
    "- A second affine layer has 100 inputs from the 100 activations of the past layer, and does 100 affine transforms. These are followed by a Relu\n",
    "- A third affine layer has 100 activations and does 2 affine transformations to create an embedding for visualization. There is no non-linearity here.\n",
    "- A final \"logistic regression\" which has an affine transform from 2 inputs to 1 output, which is squeezed through a sigmoid.\n",
    "\n",
    "Help taken from Anshuman's Notebook."
   ]
  },
  {
   "cell_type": "code",
   "execution_count": 18,
   "metadata": {
    "execution": {
     "iopub.execute_input": "2020-12-30T00:15:30.354121Z",
     "iopub.status.busy": "2020-12-30T00:15:30.353463Z",
     "iopub.status.idle": "2020-12-30T00:15:30.372937Z",
     "shell.execute_reply": "2020-12-30T00:15:30.372386Z"
    },
    "papermill": {
     "duration": 0.057495,
     "end_time": "2020-12-30T00:15:30.373082",
     "exception": false,
     "start_time": "2020-12-30T00:15:30.315587",
     "status": "completed"
    },
    "tags": []
   },
   "outputs": [],
   "source": [
    "# layers for the Neural Network\n",
    "layers = [Affine(\"first\", 784, 100), Relu(\"first\"), Affine(\"second\", 100, 100), Relu(\"second\"), Affine(\"third\", 100, 2), Affine(\"final\", 2, 1), Sigmoid(\"final\")]\n",
    "model_nn = Model(layers)\n",
    "\n",
    "# layers for the Logistic Regression\n",
    "layers_lr = [Affine(\"logits\", 784, 1), Sigmoid(\"sigmoid\")]\n",
    "model_lr = Model(layers_lr)"
   ]
  },
  {
   "cell_type": "code",
   "execution_count": 19,
   "metadata": {
    "execution": {
     "iopub.execute_input": "2020-12-30T00:15:30.436455Z",
     "iopub.status.busy": "2020-12-30T00:15:30.435838Z",
     "iopub.status.idle": "2020-12-30T00:15:30.451174Z",
     "shell.execute_reply": "2020-12-30T00:15:30.450654Z"
    },
    "papermill": {
     "duration": 0.048585,
     "end_time": "2020-12-30T00:15:30.451320",
     "exception": false,
     "start_time": "2020-12-30T00:15:30.402735",
     "status": "completed"
    },
    "tags": []
   },
   "outputs": [],
   "source": [
    "# suffix _nn stands for Neural Network.\n",
    "learner_nn = Learner(loss, model_nn, opt, config.num_epochs)\n",
    "acc_nn = ClfCallback(learner_nn, config.bs, training_xdata , testing_xdata, training_ydata, testing_ydata)\n",
    "learner_nn.set_callbacks([acc_nn])"
   ]
  },
  {
   "cell_type": "code",
   "execution_count": 20,
   "metadata": {
    "execution": {
     "iopub.execute_input": "2020-12-30T00:15:30.513869Z",
     "iopub.status.busy": "2020-12-30T00:15:30.513254Z",
     "iopub.status.idle": "2020-12-30T00:17:03.413658Z",
     "shell.execute_reply": "2020-12-30T00:17:03.413159Z"
    },
    "papermill": {
     "duration": 92.933129,
     "end_time": "2020-12-30T00:17:03.413799",
     "exception": false,
     "start_time": "2020-12-30T00:15:30.480670",
     "status": "completed"
    },
    "tags": []
   },
   "outputs": [
    {
     "name": "stdout",
     "output_type": "stream",
     "text": [
      "====== Neural Network ======\n"
     ]
    },
    {
     "name": "stdout",
     "output_type": "stream",
     "text": [
      "Epoch 0, Loss 0.2485\n",
      "Training Accuracy: 0.5651, Testing Accuracy: 0.5464\n",
      "\n"
     ]
    },
    {
     "name": "stdout",
     "output_type": "stream",
     "text": [
      "Epoch 10, Loss 0.1814\n",
      "Training Accuracy: 0.8993, Testing Accuracy: 0.9052\n",
      "\n"
     ]
    },
    {
     "name": "stdout",
     "output_type": "stream",
     "text": [
      "Epoch 20, Loss 0.0889\n",
      "Training Accuracy: 0.9222, Testing Accuracy: 0.9315\n",
      "\n"
     ]
    },
    {
     "name": "stdout",
     "output_type": "stream",
     "text": [
      "Epoch 30, Loss 0.0584\n",
      "Training Accuracy: 0.9391, Testing Accuracy: 0.9461\n",
      "\n"
     ]
    },
    {
     "name": "stdout",
     "output_type": "stream",
     "text": [
      "Epoch 40, Loss 0.0466\n",
      "Training Accuracy: 0.9488, Testing Accuracy: 0.9551\n",
      "\n"
     ]
    },
    {
     "name": "stdout",
     "output_type": "stream",
     "text": [
      "Epoch 50, Loss 0.0404\n",
      "Training Accuracy: 0.9538, Testing Accuracy: 0.9597\n",
      "\n"
     ]
    },
    {
     "name": "stdout",
     "output_type": "stream",
     "text": [
      "Epoch 60, Loss 0.0366\n",
      "Training Accuracy: 0.9574, Testing Accuracy: 0.9647\n",
      "\n"
     ]
    },
    {
     "name": "stdout",
     "output_type": "stream",
     "text": [
      "Epoch 70, Loss 0.0339\n",
      "Training Accuracy: 0.9603, Testing Accuracy: 0.9672\n",
      "\n"
     ]
    },
    {
     "name": "stdout",
     "output_type": "stream",
     "text": [
      "Epoch 80, Loss 0.032\n",
      "Training Accuracy: 0.9629, Testing Accuracy: 0.9698\n",
      "\n"
     ]
    },
    {
     "name": "stdout",
     "output_type": "stream",
     "text": [
      "Epoch 90, Loss 0.0304\n",
      "Training Accuracy: 0.9643, Testing Accuracy: 0.9708\n",
      "\n"
     ]
    },
    {
     "name": "stdout",
     "output_type": "stream",
     "text": [
      "Epoch 100, Loss 0.0292\n",
      "Training Accuracy: 0.9656, Testing Accuracy: 0.9728\n",
      "\n"
     ]
    },
    {
     "name": "stdout",
     "output_type": "stream",
     "text": [
      "Epoch 110, Loss 0.0281\n",
      "Training Accuracy: 0.9668, Testing Accuracy: 0.9733\n",
      "\n"
     ]
    },
    {
     "name": "stdout",
     "output_type": "stream",
     "text": [
      "Epoch 120, Loss 0.0272\n",
      "Training Accuracy: 0.9685, Testing Accuracy: 0.9728\n",
      "\n"
     ]
    },
    {
     "name": "stdout",
     "output_type": "stream",
     "text": [
      "Epoch 130, Loss 0.0264\n",
      "Training Accuracy: 0.9691, Testing Accuracy: 0.9733\n",
      "\n"
     ]
    },
    {
     "name": "stdout",
     "output_type": "stream",
     "text": [
      "Epoch 140, Loss 0.0257\n",
      "Training Accuracy: 0.9695, Testing Accuracy: 0.9748\n",
      "\n"
     ]
    },
    {
     "name": "stdout",
     "output_type": "stream",
     "text": [
      "Epoch 150, Loss 0.025\n",
      "Training Accuracy: 0.9706, Testing Accuracy: 0.9753\n",
      "\n"
     ]
    },
    {
     "name": "stdout",
     "output_type": "stream",
     "text": [
      "Epoch 160, Loss 0.0244\n",
      "Training Accuracy: 0.9716, Testing Accuracy: 0.9753\n",
      "\n"
     ]
    },
    {
     "name": "stdout",
     "output_type": "stream",
     "text": [
      "Epoch 170, Loss 0.0239\n",
      "Training Accuracy: 0.9725, Testing Accuracy: 0.9753\n",
      "\n"
     ]
    },
    {
     "name": "stdout",
     "output_type": "stream",
     "text": [
      "Epoch 180, Loss 0.0234\n",
      "Training Accuracy: 0.9731, Testing Accuracy: 0.9743\n",
      "\n"
     ]
    },
    {
     "name": "stdout",
     "output_type": "stream",
     "text": [
      "Epoch 190, Loss 0.0229\n",
      "Training Accuracy: 0.9738, Testing Accuracy: 0.9743\n",
      "\n"
     ]
    },
    {
     "name": "stdout",
     "output_type": "stream",
     "text": [
      "Epoch 200, Loss 0.0225\n",
      "Training Accuracy: 0.9743, Testing Accuracy: 0.9748\n",
      "\n"
     ]
    },
    {
     "name": "stdout",
     "output_type": "stream",
     "text": [
      "Epoch 210, Loss 0.0221\n",
      "Training Accuracy: 0.9747, Testing Accuracy: 0.9753\n",
      "\n"
     ]
    },
    {
     "name": "stdout",
     "output_type": "stream",
     "text": [
      "Epoch 220, Loss 0.0217\n",
      "Training Accuracy: 0.9754, Testing Accuracy: 0.9753\n",
      "\n"
     ]
    },
    {
     "name": "stdout",
     "output_type": "stream",
     "text": [
      "Epoch 230, Loss 0.0213\n",
      "Training Accuracy: 0.9758, Testing Accuracy: 0.9748\n",
      "\n"
     ]
    },
    {
     "name": "stdout",
     "output_type": "stream",
     "text": [
      "Epoch 240, Loss 0.021\n",
      "Training Accuracy: 0.9766, Testing Accuracy: 0.9748\n",
      "\n"
     ]
    },
    {
     "name": "stdout",
     "output_type": "stream",
     "text": [
      "Epoch 250, Loss 0.0206\n",
      "Training Accuracy: 0.9770, Testing Accuracy: 0.9743\n",
      "\n"
     ]
    },
    {
     "data": {
      "text/plain": [
       "0.03682532812971362"
      ]
     },
     "execution_count": 20,
     "metadata": {},
     "output_type": "execute_result"
    }
   ],
   "source": [
    "print(\"====== Neural Network ======\")\n",
    "learner_nn.train_loop(dl)"
   ]
  },
  {
   "cell_type": "markdown",
   "metadata": {
    "papermill": {
     "duration": 0.037494,
     "end_time": "2020-12-30T00:17:03.489507",
     "exception": false,
     "start_time": "2020-12-30T00:17:03.452013",
     "status": "completed"
    },
    "tags": []
   },
   "source": [
    "### Logistic Regression based Implementation."
   ]
  },
  {
   "cell_type": "code",
   "execution_count": 21,
   "metadata": {
    "execution": {
     "iopub.execute_input": "2020-12-30T00:17:03.570925Z",
     "iopub.status.busy": "2020-12-30T00:17:03.570284Z",
     "iopub.status.idle": "2020-12-30T00:17:03.587932Z",
     "shell.execute_reply": "2020-12-30T00:17:03.587390Z"
    },
    "papermill": {
     "duration": 0.061143,
     "end_time": "2020-12-30T00:17:03.588069",
     "exception": false,
     "start_time": "2020-12-30T00:17:03.526926",
     "status": "completed"
    },
    "tags": []
   },
   "outputs": [],
   "source": [
    "learner_lr = Learner(loss, model_lr, opt, config.num_epochs)\n",
    "acc_lr = ClfCallback(learner_lr, config.bs, training_xdata , testing_xdata, training_ydata, testing_ydata)\n",
    "learner_lr.set_callbacks([acc_lr])"
   ]
  },
  {
   "cell_type": "code",
   "execution_count": 22,
   "metadata": {
    "execution": {
     "iopub.execute_input": "2020-12-30T00:17:03.677055Z",
     "iopub.status.busy": "2020-12-30T00:17:03.676373Z",
     "iopub.status.idle": "2020-12-30T00:17:19.995714Z",
     "shell.execute_reply": "2020-12-30T00:17:19.996445Z"
    },
    "papermill": {
     "duration": 16.368286,
     "end_time": "2020-12-30T00:17:19.996607",
     "exception": false,
     "start_time": "2020-12-30T00:17:03.628321",
     "status": "completed"
    },
    "tags": []
   },
   "outputs": [
    {
     "name": "stdout",
     "output_type": "stream",
     "text": [
      "====== Logistic Regression ======\n",
      "Epoch 0, Loss 0.2487\n",
      "Training Accuracy: 0.7026, Testing Accuracy: 0.7273\n",
      "\n"
     ]
    },
    {
     "name": "stdout",
     "output_type": "stream",
     "text": [
      "Epoch 10, Loss 0.0992\n",
      "Training Accuracy: 0.9205, Testing Accuracy: 0.9320\n",
      "\n"
     ]
    },
    {
     "name": "stdout",
     "output_type": "stream",
     "text": [
      "Epoch 20, Loss 0.077\n",
      "Training Accuracy: 0.9331, Testing Accuracy: 0.9466\n",
      "\n"
     ]
    },
    {
     "name": "stdout",
     "output_type": "stream",
     "text": [
      "Epoch 30, Loss 0.0668\n",
      "Training Accuracy: 0.9387, Testing Accuracy: 0.9486\n",
      "\n"
     ]
    },
    {
     "name": "stdout",
     "output_type": "stream",
     "text": [
      "Epoch 40, Loss 0.0606\n",
      "Training Accuracy: 0.9425, Testing Accuracy: 0.9546\n",
      "\n"
     ]
    },
    {
     "name": "stdout",
     "output_type": "stream",
     "text": [
      "Epoch 50, Loss 0.0563\n",
      "Training Accuracy: 0.9458, Testing Accuracy: 0.9577\n",
      "\n"
     ]
    },
    {
     "name": "stdout",
     "output_type": "stream",
     "text": [
      "Epoch 60, Loss 0.0532\n",
      "Training Accuracy: 0.9487, Testing Accuracy: 0.9597\n",
      "\n"
     ]
    },
    {
     "name": "stdout",
     "output_type": "stream",
     "text": [
      "Epoch 70, Loss 0.0508\n",
      "Training Accuracy: 0.9513, Testing Accuracy: 0.9602\n",
      "\n"
     ]
    },
    {
     "name": "stdout",
     "output_type": "stream",
     "text": [
      "Epoch 80, Loss 0.0488\n",
      "Training Accuracy: 0.9528, Testing Accuracy: 0.9612\n",
      "\n"
     ]
    },
    {
     "name": "stdout",
     "output_type": "stream",
     "text": [
      "Epoch 90, Loss 0.0472\n",
      "Training Accuracy: 0.9541, Testing Accuracy: 0.9622\n",
      "\n"
     ]
    },
    {
     "name": "stdout",
     "output_type": "stream",
     "text": [
      "Epoch 100, Loss 0.0458\n",
      "Training Accuracy: 0.9550, Testing Accuracy: 0.9622\n",
      "\n"
     ]
    },
    {
     "name": "stdout",
     "output_type": "stream",
     "text": [
      "Epoch 110, Loss 0.0446\n",
      "Training Accuracy: 0.9557, Testing Accuracy: 0.9637\n",
      "\n"
     ]
    },
    {
     "name": "stdout",
     "output_type": "stream",
     "text": [
      "Epoch 120, Loss 0.0436\n",
      "Training Accuracy: 0.9561, Testing Accuracy: 0.9642\n",
      "\n"
     ]
    },
    {
     "name": "stdout",
     "output_type": "stream",
     "text": [
      "Epoch 130, Loss 0.0427\n",
      "Training Accuracy: 0.9568, Testing Accuracy: 0.9632\n",
      "\n"
     ]
    },
    {
     "name": "stdout",
     "output_type": "stream",
     "text": [
      "Epoch 140, Loss 0.0419\n",
      "Training Accuracy: 0.9574, Testing Accuracy: 0.9632\n",
      "\n"
     ]
    },
    {
     "name": "stdout",
     "output_type": "stream",
     "text": [
      "Epoch 150, Loss 0.0412\n",
      "Training Accuracy: 0.9579, Testing Accuracy: 0.9637\n",
      "\n"
     ]
    },
    {
     "name": "stdout",
     "output_type": "stream",
     "text": [
      "Epoch 160, Loss 0.0405\n",
      "Training Accuracy: 0.9584, Testing Accuracy: 0.9647\n",
      "\n"
     ]
    },
    {
     "name": "stdout",
     "output_type": "stream",
     "text": [
      "Epoch 170, Loss 0.0399\n",
      "Training Accuracy: 0.9593, Testing Accuracy: 0.9652\n",
      "\n"
     ]
    },
    {
     "name": "stdout",
     "output_type": "stream",
     "text": [
      "Epoch 180, Loss 0.0394\n",
      "Training Accuracy: 0.9597, Testing Accuracy: 0.9662\n",
      "\n"
     ]
    },
    {
     "name": "stdout",
     "output_type": "stream",
     "text": [
      "Epoch 190, Loss 0.0389\n",
      "Training Accuracy: 0.9597, Testing Accuracy: 0.9662\n",
      "\n"
     ]
    },
    {
     "name": "stdout",
     "output_type": "stream",
     "text": [
      "Epoch 200, Loss 0.0384\n",
      "Training Accuracy: 0.9603, Testing Accuracy: 0.9662\n",
      "\n"
     ]
    },
    {
     "name": "stdout",
     "output_type": "stream",
     "text": [
      "Epoch 210, Loss 0.038\n",
      "Training Accuracy: 0.9604, Testing Accuracy: 0.9667\n",
      "\n"
     ]
    },
    {
     "name": "stdout",
     "output_type": "stream",
     "text": [
      "Epoch 220, Loss 0.0376\n",
      "Training Accuracy: 0.9608, Testing Accuracy: 0.9667\n",
      "\n"
     ]
    },
    {
     "name": "stdout",
     "output_type": "stream",
     "text": [
      "Epoch 230, Loss 0.0372\n",
      "Training Accuracy: 0.9613, Testing Accuracy: 0.9662\n",
      "\n"
     ]
    },
    {
     "name": "stdout",
     "output_type": "stream",
     "text": [
      "Epoch 240, Loss 0.0368\n",
      "Training Accuracy: 0.9613, Testing Accuracy: 0.9662\n",
      "\n"
     ]
    },
    {
     "name": "stdout",
     "output_type": "stream",
     "text": [
      "Epoch 250, Loss 0.0365\n",
      "Training Accuracy: 0.9616, Testing Accuracy: 0.9662\n",
      "\n"
     ]
    },
    {
     "data": {
      "text/plain": [
       "0.03221672532555826"
      ]
     },
     "execution_count": 22,
     "metadata": {},
     "output_type": "execute_result"
    }
   ],
   "source": [
    "print(\"====== Logistic Regression ======\")\n",
    "learner_lr.train_loop(dl)"
   ]
  },
  {
   "cell_type": "markdown",
   "metadata": {
    "papermill": {
     "duration": 0.054089,
     "end_time": "2020-12-30T00:17:20.096650",
     "exception": false,
     "start_time": "2020-12-30T00:17:20.042561",
     "status": "completed"
    },
    "tags": []
   },
   "source": [
    "### Comparing results of NN and LR"
   ]
  },
  {
   "cell_type": "code",
   "execution_count": 23,
   "metadata": {
    "execution": {
     "iopub.execute_input": "2020-12-30T00:17:20.194723Z",
     "iopub.status.busy": "2020-12-30T00:17:20.193666Z",
     "iopub.status.idle": "2020-12-30T00:17:20.450849Z",
     "shell.execute_reply": "2020-12-30T00:17:20.451314Z"
    },
    "papermill": {
     "duration": 0.309842,
     "end_time": "2020-12-30T00:17:20.451481",
     "exception": false,
     "start_time": "2020-12-30T00:17:20.141639",
     "status": "completed"
    },
    "tags": []
   },
   "outputs": [
    {
     "data": {
      "text/plain": [
       "<matplotlib.legend.Legend at 0x7f2958d87be0>"
      ]
     },
     "execution_count": 23,
     "metadata": {},
     "output_type": "execute_result"
    },
    {
     "data": {
      "image/png": "[encoded data removed]",
      "text/plain": [
       "<Figure size 1080x720 with 1 Axes>"
      ]
     },
     "metadata": {
      "needs_background": "light"
     },
     "output_type": "display_data"
    }
   ],
   "source": [
    "plt.figure(figsize=(15,10))\n",
    "\n",
    "# Neural Network plots\n",
    "plt.plot(acc_nn.accuracies, 'r-', label = \"Training Accuracies - NN\")\n",
    "plt.plot(acc_nn.test_accuracies, 'g-', label = \"Testing Accuracies - NN\")\n",
    "\n",
    "# Logistic Regression plots\n",
    "plt.plot(acc_lr.accuracies, 'k-', label = \"Training Accuracies - LR\")\n",
    "plt.plot(acc_lr.test_accuracies, 'b-', label = \"Testing Accuracies - LR\")\n",
    "\n",
    "plt.ylim(0.8, 1)\n",
    "\n",
    "plt.legend()\n",
    "\n"
   ]
  },
  {
   "cell_type": "markdown",
   "metadata": {
    "papermill": {
     "duration": 0.04735,
     "end_time": "2020-12-30T00:17:20.546612",
     "exception": false,
     "start_time": "2020-12-30T00:17:20.499262",
     "status": "completed"
    },
    "tags": []
   },
   "source": [
    "### From the plot, we can observe the following:\n",
    "- Neural Network achieves higher accuracy than the Logistic Regression model.\n",
    "- This apparently, is because of overfitting, i.e. NN captures more noise than data.\n",
    "- Testing accuracy of NN drops below the Training accuracy at higher epochs. This explains the over-fitting on training data.\n",
    "- Logistic Regression gives a reliable accuracy, without the above mentioned problem.\n"
   ]
  },
  {
   "cell_type": "markdown",
   "metadata": {
    "papermill": {
     "duration": 0.047578,
     "end_time": "2020-12-30T00:17:20.641654",
     "exception": false,
     "start_time": "2020-12-30T00:17:20.594076",
     "status": "completed"
    },
    "tags": []
   },
   "source": [
    "### Moving till the last but one layer (excluding it).\n",
    "#### Plotting the outputs of this layer of the NN."
   ]
  },
  {
   "cell_type": "code",
   "execution_count": 24,
   "metadata": {
    "execution": {
     "iopub.execute_input": "2020-12-30T00:17:20.750842Z",
     "iopub.status.busy": "2020-12-30T00:17:20.741908Z",
     "iopub.status.idle": "2020-12-30T00:17:20.759663Z",
     "shell.execute_reply": "2020-12-30T00:17:20.758764Z"
    },
    "papermill": {
     "duration": 0.070511,
     "end_time": "2020-12-30T00:17:20.759879",
     "exception": false,
     "start_time": "2020-12-30T00:17:20.689368",
     "status": "completed"
    },
    "tags": []
   },
   "outputs": [],
   "source": [
    "model_new = Model(layers[:-2])"
   ]
  },
  {
   "cell_type": "code",
   "execution_count": 25,
   "metadata": {
    "execution": {
     "iopub.execute_input": "2020-12-30T00:17:20.861885Z",
     "iopub.status.busy": "2020-12-30T00:17:20.861287Z",
     "iopub.status.idle": "2020-12-30T00:17:20.882976Z",
     "shell.execute_reply": "2020-12-30T00:17:20.883771Z"
    },
    "papermill": {
     "duration": 0.073466,
     "end_time": "2020-12-30T00:17:20.883938",
     "exception": false,
     "start_time": "2020-12-30T00:17:20.810472",
     "status": "completed"
    },
    "tags": []
   },
   "outputs": [],
   "source": [
    "plot_testing = model_new(testing_xdata)"
   ]
  },
  {
   "cell_type": "code",
   "execution_count": 26,
   "metadata": {
    "execution": {
     "iopub.execute_input": "2020-12-30T00:17:20.990460Z",
     "iopub.status.busy": "2020-12-30T00:17:20.989847Z",
     "iopub.status.idle": "2020-12-30T00:17:21.186134Z",
     "shell.execute_reply": "2020-12-30T00:17:21.185625Z"
    },
    "papermill": {
     "duration": 0.254732,
     "end_time": "2020-12-30T00:17:21.186276",
     "exception": false,
     "start_time": "2020-12-30T00:17:20.931544",
     "status": "completed"
    },
    "tags": []
   },
   "outputs": [
    {
     "data": {
      "text/plain": [
       "Text(0.5, 1.0, 'Outputs')"
      ]
     },
     "execution_count": 26,
     "metadata": {},
     "output_type": "execute_result"
    },
    {
     "data": {
      "image/png": "[encoded data removed]",
      "text/plain": [
       "<Figure size 576x504 with 1 Axes>"
      ]
     },
     "metadata": {
      "needs_background": "light"
     },
     "output_type": "display_data"
    }
   ],
   "source": [
    "plt.figure(figsize=(8,7))\n",
    "plt.scatter(plot_testing[:,0], plot_testing[:,1], alpha = 0.1, c = y_test.ravel());\n",
    "plt.title('Outputs')"
   ]
  },
  {
   "cell_type": "markdown",
   "metadata": {
    "papermill": {
     "duration": 0.052821,
     "end_time": "2020-12-30T00:17:21.291216",
     "exception": false,
     "start_time": "2020-12-30T00:17:21.238395",
     "status": "completed"
    },
    "tags": []
   },
   "source": [
    "### Plotting probability contours"
   ]
  },
  {
   "cell_type": "code",
   "execution_count": 27,
   "metadata": {
    "execution": {
     "iopub.execute_input": "2020-12-30T00:17:21.408112Z",
     "iopub.status.busy": "2020-12-30T00:17:21.407466Z",
     "iopub.status.idle": "2020-12-30T00:17:21.420459Z",
     "shell.execute_reply": "2020-12-30T00:17:21.420959Z"
    },
    "papermill": {
     "duration": 0.074272,
     "end_time": "2020-12-30T00:17:21.421130",
     "exception": false,
     "start_time": "2020-12-30T00:17:21.346858",
     "status": "completed"
    },
    "tags": []
   },
   "outputs": [],
   "source": [
    "model_prob = Model(layers[-2:]) "
   ]
  },
  {
   "cell_type": "code",
   "execution_count": 28,
   "metadata": {
    "execution": {
     "iopub.execute_input": "2020-12-30T00:17:21.525284Z",
     "iopub.status.busy": "2020-12-30T00:17:21.524642Z",
     "iopub.status.idle": "2020-12-30T00:17:21.540142Z",
     "shell.execute_reply": "2020-12-30T00:17:21.540600Z"
    },
    "papermill": {
     "duration": 0.07005,
     "end_time": "2020-12-30T00:17:21.540786",
     "exception": false,
     "start_time": "2020-12-30T00:17:21.470736",
     "status": "completed"
    },
    "tags": []
   },
   "outputs": [],
   "source": [
    "# Adjust the x and y ranges according to the above generated plot.\n",
    "x_range = np.linspace(-4, 1, 100) \n",
    "y_range = np.linspace(-6, 6, 100) \n",
    "x_grid, y_grid = np.meshgrid(x_range, y_range) # x_grid and y_grig are of size 100 X 100\n",
    "\n",
    "# converting x_grid and y_grid to continuous arrays\n",
    "x_grid_flat = np.ravel(x_grid)\n",
    "y_grid_flat = np.ravel(y_grid)\n",
    "\n",
    "# The last layer of the current model takes two columns as input. Hence transpose of np.vstack() is required.\n",
    "X = np.vstack((x_grid_flat, y_grid_flat)).T\n",
    "\n",
    "# x_grid and y_grid are of size 100 x 100\n",
    "probability_contour = model_prob(X).reshape(100,100) "
   ]
  },
  {
   "cell_type": "code",
   "execution_count": 29,
   "metadata": {
    "execution": {
     "iopub.execute_input": "2020-12-30T00:17:21.681573Z",
     "iopub.status.busy": "2020-12-30T00:17:21.680478Z",
     "iopub.status.idle": "2020-12-30T00:17:21.939615Z",
     "shell.execute_reply": "2020-12-30T00:17:21.940085Z"
    },
    "papermill": {
     "duration": 0.314649,
     "end_time": "2020-12-30T00:17:21.940250",
     "exception": false,
     "start_time": "2020-12-30T00:17:21.625601",
     "status": "completed"
    },
    "tags": []
   },
   "outputs": [
    {
     "data": {
      "image/png": "[encoded data removed]",
      "text/plain": [
       "<Figure size 720x648 with 1 Axes>"
      ]
     },
     "metadata": {
      "needs_background": "light"
     },
     "output_type": "display_data"
    }
   ],
   "source": [
    "plt.figure(figsize=(10,9))\n",
    "plt.scatter(plot_testing[:,0], plot_testing[:,1], alpha = 0.1, c = y_test.ravel())\n",
    "contours = plt.contour(x_grid,y_grid,probability_contour)\n",
    "plt.title('Probability Contours')\n",
    "plt.clabel(contours, inline = True );"
   ]
  }
 ],
 "metadata": {
  "kernelspec": {
   "display_name": "Python 3",
   "language": "python",
   "name": "python3"
  },
  "language_info": {
   "codemirror_mode": {
    "name": "ipython",
    "version": 3
   },
   "file_extension": ".py",
   "mimetype": "text/x-python",
   "name": "python",
   "nbconvert_exporter": "python",
   "pygments_lexer": "ipython3",
   "version": "3.6.12"
  },
  "papermill": {
   "duration": 119.407534,
   "end_time": "2020-12-30T00:17:23.161274",
   "environment_variables": {},
   "exception": null,
   "input_path": "2020-08-11-NeuralNetwork.ipynb",
   "output_path": "2020-08-11-NeuralNetwork.ipynb",
   "parameters": {},
   "start_time": "2020-12-30T00:15:23.753740",
   "version": "2.1.2"
  }
 },
 "nbformat": 4,
 "nbformat_minor": 4
}