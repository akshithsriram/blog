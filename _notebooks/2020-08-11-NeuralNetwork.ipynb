{
 "cells": [
  {
   "cell_type": "markdown",
   "metadata": {
    "papermill": {
     "duration": 0.038685,
     "end_time": "2020-09-10T10:04:41.066352",
     "exception": false,
     "start_time": "2020-09-10T10:04:41.027667",
     "status": "completed"
    },
    "tags": []
   },
   "source": [
    "# \"A Basic Neural Network: Differentiate Hand-Written Digits\"\n",
    "\n",
    "- badges: true\n",
    "- author: Akshith Sriram"
   ]
  },
  {
   "cell_type": "markdown",
   "metadata": {
    "papermill": {
     "duration": 0.037842,
     "end_time": "2020-09-10T10:04:41.143695",
     "exception": false,
     "start_time": "2020-09-10T10:04:41.105853",
     "status": "completed"
    },
    "tags": []
   },
   "source": [
    "### Key Objectives:\n",
    "- Building a neural network that differentiates two hand-written digits 3 and 8.\n",
    "- Comparing the results of this Neural Network (NN) to that of a Logistic Regression (LR) model.\n",
    "\n",
    "### Requirements:\n",
    "- 'Kudzu' : A neural network library that was designed during our course by [Univ.AI](www.univ.ai). \n",
    "- MNIST Database\n",
    "\n",
    "If MNIST is not installed, use the command `!pip install mnist` given below.\n",
    "It can be run both from the command line and Jupyter Notebook."
   ]
  },
  {
   "cell_type": "code",
   "execution_count": 1,
   "metadata": {
    "execution": {
     "iopub.execute_input": "2020-09-10T10:04:41.232560Z",
     "iopub.status.busy": "2020-09-10T10:04:41.231717Z",
     "iopub.status.idle": "2020-09-10T10:04:43.300481Z",
     "shell.execute_reply": "2020-09-10T10:04:43.299038Z"
    },
    "papermill": {
     "duration": 2.119571,
     "end_time": "2020-09-10T10:04:43.300888",
     "exception": false,
     "start_time": "2020-09-10T10:04:41.181317",
     "status": "completed"
    },
    "tags": []
   },
   "outputs": [
    {
     "name": "stdout",
     "output_type": "stream",
     "text": [
      "Collecting mnist\r\n"
     ]
    },
    {
     "name": "stdout",
     "output_type": "stream",
     "text": [
      "  Downloading mnist-0.2.2-py2.py3-none-any.whl (3.5 kB)\r\n"
     ]
    },
    {
     "name": "stdout",
     "output_type": "stream",
     "text": [
      "Requirement already satisfied: numpy in /opt/hostedtoolcache/Python/3.6.12/x64/lib/python3.6/site-packages (from mnist) (1.19.1)\r\n"
     ]
    },
    {
     "name": "stdout",
     "output_type": "stream",
     "text": [
      "Installing collected packages: mnist\r\n"
     ]
    },
    {
     "name": "stdout",
     "output_type": "stream",
     "text": [
      "Successfully installed mnist-0.2.2\r\n"
     ]
    },
    {
     "name": "stdout",
     "output_type": "stream",
     "text": [
      "\u001b[33mWARNING: You are using pip version 20.2.2; however, version 20.2.3 is available.\r\n",
      "You should consider upgrading via the '/opt/hostedtoolcache/Python/3.6.12/x64/bin/python -m pip install --upgrade pip' command.\u001b[0m\r\n"
     ]
    }
   ],
   "source": [
    "!pip install mnist "
   ]
  },
  {
   "cell_type": "markdown",
   "metadata": {
    "papermill": {
     "duration": 0.037349,
     "end_time": "2020-09-10T10:04:43.377827",
     "exception": false,
     "start_time": "2020-09-10T10:04:43.340478",
     "status": "completed"
    },
    "tags": []
   },
   "source": [
    "#### Importing necessary libraries"
   ]
  },
  {
   "cell_type": "code",
   "execution_count": 2,
   "metadata": {
    "execution": {
     "iopub.execute_input": "2020-09-10T10:04:43.471097Z",
     "iopub.status.busy": "2020-09-10T10:04:43.469706Z",
     "iopub.status.idle": "2020-09-10T10:04:44.255387Z",
     "shell.execute_reply": "2020-09-10T10:04:44.254431Z"
    },
    "papermill": {
     "duration": 0.830586,
     "end_time": "2020-09-10T10:04:44.255542",
     "exception": false,
     "start_time": "2020-09-10T10:04:43.424956",
     "status": "completed"
    },
    "tags": []
   },
   "outputs": [],
   "source": [
    "%load_ext autoreload\n",
    "%autoreload 2\n",
    "\n",
    "%matplotlib inline\n",
    "import matplotlib.pyplot as plt\n",
    "\n",
    "import numpy as np\n",
    "import pandas as pd"
   ]
  },
  {
   "cell_type": "markdown",
   "metadata": {
    "papermill": {
     "duration": 0.048116,
     "end_time": "2020-09-10T10:04:44.342792",
     "exception": false,
     "start_time": "2020-09-10T10:04:44.294676",
     "status": "completed"
    },
    "tags": []
   },
   "source": [
    "### Preparing the Data"
   ]
  },
  {
   "cell_type": "code",
   "execution_count": 3,
   "metadata": {
    "execution": {
     "iopub.execute_input": "2020-09-10T10:04:44.419745Z",
     "iopub.status.busy": "2020-09-10T10:04:44.419047Z",
     "iopub.status.idle": "2020-09-10T10:04:44.433807Z",
     "shell.execute_reply": "2020-09-10T10:04:44.433131Z"
    },
    "papermill": {
     "duration": 0.055009,
     "end_time": "2020-09-10T10:04:44.433973",
     "exception": false,
     "start_time": "2020-09-10T10:04:44.378964",
     "status": "completed"
    },
    "tags": []
   },
   "outputs": [],
   "source": [
    "import mnist"
   ]
  },
  {
   "cell_type": "code",
   "execution_count": 4,
   "metadata": {
    "execution": {
     "iopub.execute_input": "2020-09-10T10:04:44.509618Z",
     "iopub.status.busy": "2020-09-10T10:04:44.508410Z",
     "iopub.status.idle": "2020-09-10T10:04:46.225804Z",
     "shell.execute_reply": "2020-09-10T10:04:46.226351Z"
    },
    "papermill": {
     "duration": 1.75786,
     "end_time": "2020-09-10T10:04:46.226549",
     "exception": false,
     "start_time": "2020-09-10T10:04:44.468689",
     "status": "completed"
    },
    "tags": []
   },
   "outputs": [],
   "source": [
    "train_images = mnist.train_images()\n",
    "train_labels = mnist.train_labels()"
   ]
  },
  {
   "cell_type": "code",
   "execution_count": 5,
   "metadata": {
    "execution": {
     "iopub.execute_input": "2020-09-10T10:04:46.311325Z",
     "iopub.status.busy": "2020-09-10T10:04:46.310585Z",
     "iopub.status.idle": "2020-09-10T10:04:46.330942Z",
     "shell.execute_reply": "2020-09-10T10:04:46.331606Z"
    },
    "papermill": {
     "duration": 0.060739,
     "end_time": "2020-09-10T10:04:46.331786",
     "exception": false,
     "start_time": "2020-09-10T10:04:46.271047",
     "status": "completed"
    },
    "tags": []
   },
   "outputs": [
    {
     "data": {
      "text/plain": [
       "((60000, 28, 28), (60000,))"
      ]
     },
     "execution_count": 5,
     "metadata": {},
     "output_type": "execute_result"
    }
   ],
   "source": [
    "train_images.shape, train_labels.shape"
   ]
  },
  {
   "cell_type": "code",
   "execution_count": 6,
   "metadata": {
    "execution": {
     "iopub.execute_input": "2020-09-10T10:04:46.410333Z",
     "iopub.status.busy": "2020-09-10T10:04:46.409658Z",
     "iopub.status.idle": "2020-09-10T10:04:47.271752Z",
     "shell.execute_reply": "2020-09-10T10:04:47.272431Z"
    },
    "papermill": {
     "duration": 0.908316,
     "end_time": "2020-09-10T10:04:47.272695",
     "exception": false,
     "start_time": "2020-09-10T10:04:46.364379",
     "status": "completed"
    },
    "tags": []
   },
   "outputs": [],
   "source": [
    "test_images = mnist.test_images()\n",
    "test_labels = mnist.test_labels()"
   ]
  },
  {
   "cell_type": "code",
   "execution_count": 7,
   "metadata": {
    "execution": {
     "iopub.execute_input": "2020-09-10T10:04:47.354723Z",
     "iopub.status.busy": "2020-09-10T10:04:47.353930Z",
     "iopub.status.idle": "2020-09-10T10:04:47.369658Z",
     "shell.execute_reply": "2020-09-10T10:04:47.370497Z"
    },
    "papermill": {
     "duration": 0.058916,
     "end_time": "2020-09-10T10:04:47.370665",
     "exception": false,
     "start_time": "2020-09-10T10:04:47.311749",
     "status": "completed"
    },
    "tags": []
   },
   "outputs": [
    {
     "data": {
      "text/plain": [
       "((10000, 28, 28), (10000,))"
      ]
     },
     "execution_count": 7,
     "metadata": {},
     "output_type": "execute_result"
    }
   ],
   "source": [
    "test_images.shape, test_labels.shape"
   ]
  },
  {
   "cell_type": "code",
   "execution_count": 8,
   "metadata": {
    "execution": {
     "iopub.execute_input": "2020-09-10T10:04:47.455643Z",
     "iopub.status.busy": "2020-09-10T10:04:47.454737Z",
     "iopub.status.idle": "2020-09-10T10:04:47.669235Z",
     "shell.execute_reply": "2020-09-10T10:04:47.669823Z"
    },
    "papermill": {
     "duration": 0.258297,
     "end_time": "2020-09-10T10:04:47.670009",
     "exception": false,
     "start_time": "2020-09-10T10:04:47.411712",
     "status": "completed"
    },
    "tags": []
   },
   "outputs": [
    {
     "name": "stdout",
     "output_type": "stream",
     "text": [
      "2\n"
     ]
    },
    {
     "data": {
      "text/plain": [
       "<matplotlib.image.AxesImage at 0x7f183890cc50>"
      ]
     },
     "execution_count": 8,
     "metadata": {},
     "output_type": "execute_result"
    },
    {
     "data": {
      "image/png": "[encoded data removed]",
      "text/plain": [
       "<Figure size 432x288 with 1 Axes>"
      ]
     },
     "metadata": {
      "needs_background": "light"
     },
     "output_type": "display_data"
    }
   ],
   "source": [
    "image_index = 7776 # You may select anything up to 60,000\n",
    "print(train_labels[image_index]) \n",
    "plt.imshow(train_images[image_index], cmap='Greys')"
   ]
  },
  {
   "cell_type": "markdown",
   "metadata": {
    "papermill": {
     "duration": 0.04116,
     "end_time": "2020-09-10T10:04:47.754819",
     "exception": false,
     "start_time": "2020-09-10T10:04:47.713659",
     "status": "completed"
    },
    "tags": []
   },
   "source": [
    "## Filter data to get 3 and 8 out"
   ]
  },
  {
   "cell_type": "code",
   "execution_count": 9,
   "metadata": {
    "execution": {
     "iopub.execute_input": "2020-09-10T10:04:47.846442Z",
     "iopub.status.busy": "2020-09-10T10:04:47.845441Z",
     "iopub.status.idle": "2020-09-10T10:04:47.870062Z",
     "shell.execute_reply": "2020-09-10T10:04:47.869481Z"
    },
    "papermill": {
     "duration": 0.074051,
     "end_time": "2020-09-10T10:04:47.870327",
     "exception": false,
     "start_time": "2020-09-10T10:04:47.796276",
     "status": "completed"
    },
    "tags": []
   },
   "outputs": [],
   "source": [
    "train_filter = np.where((train_labels == 3 ) | (train_labels == 8))\n",
    "test_filter = np.where((test_labels == 3) | (test_labels == 8))\n",
    "X_train, y_train = train_images[train_filter], train_labels[train_filter]\n",
    "X_test, y_test = test_images[test_filter], test_labels[test_filter]"
   ]
  },
  {
   "cell_type": "markdown",
   "metadata": {
    "papermill": {
     "duration": 0.039516,
     "end_time": "2020-09-10T10:04:47.948539",
     "exception": false,
     "start_time": "2020-09-10T10:04:47.909023",
     "status": "completed"
    },
    "tags": []
   },
   "source": [
    "We normalize the pixel values in the 0 to 1 range"
   ]
  },
  {
   "cell_type": "code",
   "execution_count": 10,
   "metadata": {
    "execution": {
     "iopub.execute_input": "2020-09-10T10:04:48.029643Z",
     "iopub.status.busy": "2020-09-10T10:04:48.028575Z",
     "iopub.status.idle": "2020-09-10T10:04:48.102730Z",
     "shell.execute_reply": "2020-09-10T10:04:48.101978Z"
    },
    "papermill": {
     "duration": 0.116434,
     "end_time": "2020-09-10T10:04:48.102891",
     "exception": false,
     "start_time": "2020-09-10T10:04:47.986457",
     "status": "completed"
    },
    "tags": []
   },
   "outputs": [],
   "source": [
    "X_train = X_train/255.\n",
    "X_test = X_test/255."
   ]
  },
  {
   "cell_type": "markdown",
   "metadata": {
    "papermill": {
     "duration": 0.043601,
     "end_time": "2020-09-10T10:04:48.191935",
     "exception": false,
     "start_time": "2020-09-10T10:04:48.148334",
     "status": "completed"
    },
    "tags": []
   },
   "source": [
    "Setup the labels as 1 (when the digit is 3) and 0 (when the digit is 8)"
   ]
  },
  {
   "cell_type": "code",
   "execution_count": 11,
   "metadata": {
    "execution": {
     "iopub.execute_input": "2020-09-10T10:04:48.282607Z",
     "iopub.status.busy": "2020-09-10T10:04:48.281937Z",
     "iopub.status.idle": "2020-09-10T10:04:48.295687Z",
     "shell.execute_reply": "2020-09-10T10:04:48.296327Z"
    },
    "papermill": {
     "duration": 0.06105,
     "end_time": "2020-09-10T10:04:48.296490",
     "exception": false,
     "start_time": "2020-09-10T10:04:48.235440",
     "status": "completed"
    },
    "tags": []
   },
   "outputs": [],
   "source": [
    "y_train = 1*(y_train==3)\n",
    "y_test = 1*(y_test==3)"
   ]
  },
  {
   "cell_type": "code",
   "execution_count": 12,
   "metadata": {
    "execution": {
     "iopub.execute_input": "2020-09-10T10:04:48.382982Z",
     "iopub.status.busy": "2020-09-10T10:04:48.382023Z",
     "iopub.status.idle": "2020-09-10T10:04:48.404333Z",
     "shell.execute_reply": "2020-09-10T10:04:48.404921Z"
    },
    "papermill": {
     "duration": 0.068298,
     "end_time": "2020-09-10T10:04:48.405180",
     "exception": false,
     "start_time": "2020-09-10T10:04:48.336882",
     "status": "completed"
    },
    "tags": []
   },
   "outputs": [
    {
     "data": {
      "text/plain": [
       "((11982, 28, 28), (1984, 28, 28))"
      ]
     },
     "execution_count": 12,
     "metadata": {},
     "output_type": "execute_result"
    }
   ],
   "source": [
    "X_train.shape, X_test.shape"
   ]
  },
  {
   "cell_type": "markdown",
   "metadata": {
    "papermill": {
     "duration": 0.036592,
     "end_time": "2020-09-10T10:04:48.478928",
     "exception": false,
     "start_time": "2020-09-10T10:04:48.442336",
     "status": "completed"
    },
    "tags": []
   },
   "source": [
    "### Reshape the input data to create a linear array"
   ]
  },
  {
   "cell_type": "code",
   "execution_count": 13,
   "metadata": {
    "execution": {
     "iopub.execute_input": "2020-09-10T10:04:48.559419Z",
     "iopub.status.busy": "2020-09-10T10:04:48.558739Z",
     "iopub.status.idle": "2020-09-10T10:04:48.581336Z",
     "shell.execute_reply": "2020-09-10T10:04:48.580687Z"
    },
    "papermill": {
     "duration": 0.065809,
     "end_time": "2020-09-10T10:04:48.581576",
     "exception": false,
     "start_time": "2020-09-10T10:04:48.515767",
     "status": "completed"
    },
    "tags": []
   },
   "outputs": [
    {
     "data": {
      "text/plain": [
       "((11982, 784), (1984, 784))"
      ]
     },
     "execution_count": 13,
     "metadata": {},
     "output_type": "execute_result"
    }
   ],
   "source": [
    "X_train = X_train.reshape(X_train.shape[0], -1)\n",
    "X_test = X_test.reshape(X_test.shape[0], -1)\n",
    "X_train.shape, X_test.shape"
   ]
  },
  {
   "cell_type": "markdown",
   "metadata": {
    "papermill": {
     "duration": 0.036922,
     "end_time": "2020-09-10T10:04:48.657396",
     "exception": false,
     "start_time": "2020-09-10T10:04:48.620474",
     "status": "completed"
    },
    "tags": []
   },
   "source": [
    "### Importing appropriate functions from 'Kudzu'"
   ]
  },
  {
   "cell_type": "code",
   "execution_count": 14,
   "metadata": {
    "execution": {
     "iopub.execute_input": "2020-09-10T10:04:48.750031Z",
     "iopub.status.busy": "2020-09-10T10:04:48.748949Z",
     "iopub.status.idle": "2020-09-10T10:04:48.779786Z",
     "shell.execute_reply": "2020-09-10T10:04:48.779090Z"
    },
    "papermill": {
     "duration": 0.082842,
     "end_time": "2020-09-10T10:04:48.779937",
     "exception": false,
     "start_time": "2020-09-10T10:04:48.697095",
     "status": "completed"
    },
    "tags": []
   },
   "outputs": [],
   "source": [
    "from kudzu.layer import Sigmoid\n",
    "from kudzu.layer import Relu\n",
    "from kudzu.layer import Affine, Sigmoid\n",
    "\n",
    "from kudzu.model import Model\n",
    "from kudzu.train import Learner\n",
    "from kudzu.optim import GD\n",
    "from kudzu.data import Data, Dataloader, Sampler\n",
    "\n",
    "from kudzu.callbacks import AccCallback\n",
    "from kudzu.callbacks import ClfCallback\n",
    "\n",
    "from kudzu.loss import MSE"
   ]
  },
  {
   "cell_type": "markdown",
   "metadata": {
    "papermill": {
     "duration": 0.042533,
     "end_time": "2020-09-10T10:04:48.860591",
     "exception": false,
     "start_time": "2020-09-10T10:04:48.818058",
     "status": "completed"
    },
    "tags": []
   },
   "source": [
    "### Let us create a `Config` class, to store important parameters. \n",
    "This class essentially plays the role of a dictionary."
   ]
  },
  {
   "cell_type": "code",
   "execution_count": 15,
   "metadata": {
    "execution": {
     "iopub.execute_input": "2020-09-10T10:04:48.945344Z",
     "iopub.status.busy": "2020-09-10T10:04:48.944685Z",
     "iopub.status.idle": "2020-09-10T10:04:48.957962Z",
     "shell.execute_reply": "2020-09-10T10:04:48.958556Z"
    },
    "papermill": {
     "duration": 0.056945,
     "end_time": "2020-09-10T10:04:48.958808",
     "exception": false,
     "start_time": "2020-09-10T10:04:48.901863",
     "status": "completed"
    },
    "tags": []
   },
   "outputs": [],
   "source": [
    "class Config:\n",
    "    pass\n",
    "config = Config()\n",
    "config.lr = 0.001\n",
    "config.num_epochs = 251\n",
    "config.bs = 50"
   ]
  },
  {
   "cell_type": "markdown",
   "metadata": {
    "papermill": {
     "duration": 0.042311,
     "end_time": "2020-09-10T10:04:49.043223",
     "exception": false,
     "start_time": "2020-09-10T10:04:49.000912",
     "status": "completed"
    },
    "tags": []
   },
   "source": [
    "### Initializing data to the variables"
   ]
  },
  {
   "cell_type": "code",
   "execution_count": 16,
   "metadata": {
    "execution": {
     "iopub.execute_input": "2020-09-10T10:04:49.143415Z",
     "iopub.status.busy": "2020-09-10T10:04:49.142773Z",
     "iopub.status.idle": "2020-09-10T10:04:49.160748Z",
     "shell.execute_reply": "2020-09-10T10:04:49.161633Z"
    },
    "papermill": {
     "duration": 0.069638,
     "end_time": "2020-09-10T10:04:49.161815",
     "exception": false,
     "start_time": "2020-09-10T10:04:49.092177",
     "status": "completed"
    },
    "tags": []
   },
   "outputs": [],
   "source": [
    "data = Data(X_train, y_train.reshape(-1,1))\n",
    "sampler = Sampler(data, config.bs, shuffle=True)\n",
    "\n",
    "dl = Dataloader(data, sampler)\n",
    "\n",
    "opt = GD(config.lr)\n",
    "loss = MSE()"
   ]
  },
  {
   "cell_type": "code",
   "execution_count": 17,
   "metadata": {
    "execution": {
     "iopub.execute_input": "2020-09-10T10:04:49.256845Z",
     "iopub.status.busy": "2020-09-10T10:04:49.256147Z",
     "iopub.status.idle": "2020-09-10T10:04:49.274293Z",
     "shell.execute_reply": "2020-09-10T10:04:49.273427Z"
    },
    "papermill": {
     "duration": 0.064343,
     "end_time": "2020-09-10T10:04:49.274620",
     "exception": false,
     "start_time": "2020-09-10T10:04:49.210277",
     "status": "completed"
    },
    "tags": []
   },
   "outputs": [],
   "source": [
    "training_xdata = X_train\n",
    "testing_xdata = X_test\n",
    "training_ydata = y_train.reshape(-1,1)\n",
    "testing_ydata = y_test.reshape(-1,1)"
   ]
  },
  {
   "cell_type": "markdown",
   "metadata": {
    "papermill": {
     "duration": 0.037477,
     "end_time": "2020-09-10T10:04:49.364457",
     "exception": false,
     "start_time": "2020-09-10T10:04:49.326980",
     "status": "completed"
    },
    "tags": []
   },
   "source": [
    "### Running Models with the Training data\n",
    "Details about the network layers:\n",
    "- A first affine layer has 784 inputs and does 100 affine transforms. These are followed by a Relu\n",
    "- A second affine layer has 100 inputs from the 100 activations of the past layer, and does 100 affine transforms. These are followed by a Relu\n",
    "- A third affine layer has 100 activations and does 2 affine transformations to create an embedding for visualization. There is no non-linearity here.\n",
    "- A final \"logistic regression\" which has an affine transform from 2 inputs to 1 output, which is squeezed through a sigmoid.\n",
    "\n",
    "Help taken from Anshuman's Notebook."
   ]
  },
  {
   "cell_type": "code",
   "execution_count": 18,
   "metadata": {
    "execution": {
     "iopub.execute_input": "2020-09-10T10:04:49.454556Z",
     "iopub.status.busy": "2020-09-10T10:04:49.453856Z",
     "iopub.status.idle": "2020-09-10T10:04:49.475204Z",
     "shell.execute_reply": "2020-09-10T10:04:49.474577Z"
    },
    "papermill": {
     "duration": 0.065325,
     "end_time": "2020-09-10T10:04:49.475349",
     "exception": false,
     "start_time": "2020-09-10T10:04:49.410024",
     "status": "completed"
    },
    "tags": []
   },
   "outputs": [],
   "source": [
    "# layers for the Neural Network\n",
    "layers = [Affine(\"first\", 784, 100), Relu(\"first\"), Affine(\"second\", 100, 100), Relu(\"second\"), Affine(\"third\", 100, 2), Affine(\"final\", 2, 1), Sigmoid(\"final\")]\n",
    "model_nn = Model(layers)\n",
    "\n",
    "# layers for the Logistic Regression\n",
    "layers_lr = [Affine(\"logits\", 784, 1), Sigmoid(\"sigmoid\")]\n",
    "model_lr = Model(layers_lr)"
   ]
  },
  {
   "cell_type": "code",
   "execution_count": 19,
   "metadata": {
    "execution": {
     "iopub.execute_input": "2020-09-10T10:04:49.559136Z",
     "iopub.status.busy": "2020-09-10T10:04:49.558323Z",
     "iopub.status.idle": "2020-09-10T10:04:49.573528Z",
     "shell.execute_reply": "2020-09-10T10:04:49.574193Z"
    },
    "papermill": {
     "duration": 0.058821,
     "end_time": "2020-09-10T10:04:49.574376",
     "exception": false,
     "start_time": "2020-09-10T10:04:49.515555",
     "status": "completed"
    },
    "tags": []
   },
   "outputs": [],
   "source": [
    "# suffix _nn stands for Neural Network.\n",
    "learner_nn = Learner(loss, model_nn, opt, config.num_epochs)\n",
    "acc_nn = ClfCallback(learner_nn, config.bs, training_xdata , testing_xdata, training_ydata, testing_ydata)\n",
    "learner_nn.set_callbacks([acc_nn])"
   ]
  },
  {
   "cell_type": "code",
   "execution_count": 20,
   "metadata": {
    "execution": {
     "iopub.execute_input": "2020-09-10T10:04:49.656373Z",
     "iopub.status.busy": "2020-09-10T10:04:49.655608Z",
     "iopub.status.idle": "2020-09-10T10:07:32.406199Z",
     "shell.execute_reply": "2020-09-10T10:07:32.405598Z"
    },
    "papermill": {
     "duration": 162.794844,
     "end_time": "2020-09-10T10:07:32.406349",
     "exception": false,
     "start_time": "2020-09-10T10:04:49.611505",
     "status": "completed"
    },
    "tags": []
   },
   "outputs": [
    {
     "name": "stdout",
     "output_type": "stream",
     "text": [
      "====== Neural Network ======\n"
     ]
    },
    {
     "name": "stdout",
     "output_type": "stream",
     "text": [
      "Epoch 0, Loss 0.2127\n",
      "Training Accuracy: 0.8220, Testing Accuracy: 0.8473\n",
      "\n"
     ]
    },
    {
     "name": "stdout",
     "output_type": "stream",
     "text": [
      "Epoch 10, Loss 0.0521\n",
      "Training Accuracy: 0.9441, Testing Accuracy: 0.9546\n",
      "\n"
     ]
    },
    {
     "name": "stdout",
     "output_type": "stream",
     "text": [
      "Epoch 20, Loss 0.0378\n",
      "Training Accuracy: 0.9589, Testing Accuracy: 0.9632\n",
      "\n"
     ]
    },
    {
     "name": "stdout",
     "output_type": "stream",
     "text": [
      "Epoch 30, Loss 0.0321\n",
      "Training Accuracy: 0.9642, Testing Accuracy: 0.9662\n",
      "\n"
     ]
    },
    {
     "name": "stdout",
     "output_type": "stream",
     "text": [
      "Epoch 40, Loss 0.0288\n",
      "Training Accuracy: 0.9678, Testing Accuracy: 0.9677\n",
      "\n"
     ]
    },
    {
     "name": "stdout",
     "output_type": "stream",
     "text": [
      "Epoch 50, Loss 0.0265\n",
      "Training Accuracy: 0.9699, Testing Accuracy: 0.9698\n",
      "\n"
     ]
    },
    {
     "name": "stdout",
     "output_type": "stream",
     "text": [
      "Epoch 60, Loss 0.0249\n",
      "Training Accuracy: 0.9714, Testing Accuracy: 0.9718\n",
      "\n"
     ]
    },
    {
     "name": "stdout",
     "output_type": "stream",
     "text": [
      "Epoch 70, Loss 0.0235\n",
      "Training Accuracy: 0.9730, Testing Accuracy: 0.9723\n",
      "\n"
     ]
    },
    {
     "name": "stdout",
     "output_type": "stream",
     "text": [
      "Epoch 80, Loss 0.0224\n",
      "Training Accuracy: 0.9740, Testing Accuracy: 0.9723\n",
      "\n"
     ]
    },
    {
     "name": "stdout",
     "output_type": "stream",
     "text": [
      "Epoch 90, Loss 0.0214\n",
      "Training Accuracy: 0.9756, Testing Accuracy: 0.9738\n",
      "\n"
     ]
    },
    {
     "name": "stdout",
     "output_type": "stream",
     "text": [
      "Epoch 100, Loss 0.0206\n",
      "Training Accuracy: 0.9769, Testing Accuracy: 0.9753\n",
      "\n"
     ]
    },
    {
     "name": "stdout",
     "output_type": "stream",
     "text": [
      "Epoch 110, Loss 0.0198\n",
      "Training Accuracy: 0.9774, Testing Accuracy: 0.9753\n",
      "\n"
     ]
    },
    {
     "name": "stdout",
     "output_type": "stream",
     "text": [
      "Epoch 120, Loss 0.0191\n",
      "Training Accuracy: 0.9787, Testing Accuracy: 0.9753\n",
      "\n"
     ]
    },
    {
     "name": "stdout",
     "output_type": "stream",
     "text": [
      "Epoch 130, Loss 0.0185\n",
      "Training Accuracy: 0.9791, Testing Accuracy: 0.9753\n",
      "\n"
     ]
    },
    {
     "name": "stdout",
     "output_type": "stream",
     "text": [
      "Epoch 140, Loss 0.0179\n",
      "Training Accuracy: 0.9803, Testing Accuracy: 0.9758\n",
      "\n"
     ]
    },
    {
     "name": "stdout",
     "output_type": "stream",
     "text": [
      "Epoch 150, Loss 0.0174\n",
      "Training Accuracy: 0.9815, Testing Accuracy: 0.9773\n",
      "\n"
     ]
    },
    {
     "name": "stdout",
     "output_type": "stream",
     "text": [
      "Epoch 160, Loss 0.0168\n",
      "Training Accuracy: 0.9821, Testing Accuracy: 0.9778\n",
      "\n"
     ]
    },
    {
     "name": "stdout",
     "output_type": "stream",
     "text": [
      "Epoch 170, Loss 0.0163\n",
      "Training Accuracy: 0.9833, Testing Accuracy: 0.9773\n",
      "\n"
     ]
    },
    {
     "name": "stdout",
     "output_type": "stream",
     "text": [
      "Epoch 180, Loss 0.0159\n",
      "Training Accuracy: 0.9835, Testing Accuracy: 0.9798\n",
      "\n"
     ]
    },
    {
     "name": "stdout",
     "output_type": "stream",
     "text": [
      "Epoch 190, Loss 0.0154\n",
      "Training Accuracy: 0.9836, Testing Accuracy: 0.9798\n",
      "\n"
     ]
    },
    {
     "name": "stdout",
     "output_type": "stream",
     "text": [
      "Epoch 200, Loss 0.015\n",
      "Training Accuracy: 0.9838, Testing Accuracy: 0.9798\n",
      "\n"
     ]
    },
    {
     "name": "stdout",
     "output_type": "stream",
     "text": [
      "Epoch 210, Loss 0.0146\n",
      "Training Accuracy: 0.9844, Testing Accuracy: 0.9798\n",
      "\n"
     ]
    },
    {
     "name": "stdout",
     "output_type": "stream",
     "text": [
      "Epoch 220, Loss 0.0142\n",
      "Training Accuracy: 0.9851, Testing Accuracy: 0.9798\n",
      "\n"
     ]
    },
    {
     "name": "stdout",
     "output_type": "stream",
     "text": [
      "Epoch 230, Loss 0.0138\n",
      "Training Accuracy: 0.9856, Testing Accuracy: 0.9798\n",
      "\n"
     ]
    },
    {
     "name": "stdout",
     "output_type": "stream",
     "text": [
      "Epoch 240, Loss 0.0135\n",
      "Training Accuracy: 0.9862, Testing Accuracy: 0.9803\n",
      "\n"
     ]
    },
    {
     "name": "stdout",
     "output_type": "stream",
     "text": [
      "Epoch 250, Loss 0.0131\n",
      "Training Accuracy: 0.9868, Testing Accuracy: 0.9798\n",
      "\n"
     ]
    },
    {
     "data": {
      "text/plain": [
       "0.0006681918279209842"
      ]
     },
     "execution_count": 20,
     "metadata": {},
     "output_type": "execute_result"
    }
   ],
   "source": [
    "print(\"====== Neural Network ======\")\n",
    "learner_nn.train_loop(dl)"
   ]
  },
  {
   "cell_type": "markdown",
   "metadata": {
    "papermill": {
     "duration": 0.050595,
     "end_time": "2020-09-10T10:07:32.507555",
     "exception": false,
     "start_time": "2020-09-10T10:07:32.456960",
     "status": "completed"
    },
    "tags": []
   },
   "source": [
    "### Logistic Regression based Implementation."
   ]
  },
  {
   "cell_type": "code",
   "execution_count": 21,
   "metadata": {
    "execution": {
     "iopub.execute_input": "2020-09-10T10:07:32.615821Z",
     "iopub.status.busy": "2020-09-10T10:07:32.615090Z",
     "iopub.status.idle": "2020-09-10T10:07:32.631287Z",
     "shell.execute_reply": "2020-09-10T10:07:32.630541Z"
    },
    "papermill": {
     "duration": 0.072554,
     "end_time": "2020-09-10T10:07:32.631478",
     "exception": false,
     "start_time": "2020-09-10T10:07:32.558924",
     "status": "completed"
    },
    "tags": []
   },
   "outputs": [],
   "source": [
    "learner_lr = Learner(loss, model_lr, opt, config.num_epochs)\n",
    "acc_lr = ClfCallback(learner_lr, config.bs, training_xdata , testing_xdata, training_ydata, testing_ydata)\n",
    "learner_lr.set_callbacks([acc_lr])"
   ]
  },
  {
   "cell_type": "code",
   "execution_count": 22,
   "metadata": {
    "execution": {
     "iopub.execute_input": "2020-09-10T10:07:32.751558Z",
     "iopub.status.busy": "2020-09-10T10:07:32.750716Z",
     "iopub.status.idle": "2020-09-10T10:07:56.558342Z",
     "shell.execute_reply": "2020-09-10T10:07:56.559277Z"
    },
    "papermill": {
     "duration": 23.87459,
     "end_time": "2020-09-10T10:07:56.559456",
     "exception": false,
     "start_time": "2020-09-10T10:07:32.684866",
     "status": "completed"
    },
    "tags": []
   },
   "outputs": [
    {
     "name": "stdout",
     "output_type": "stream",
     "text": [
      "====== Logistic Regression ======\n",
      "Epoch 0, Loss 0.2482\n",
      "Training Accuracy: 0.6607, Testing Accuracy: 0.6447\n",
      "\n"
     ]
    },
    {
     "name": "stdout",
     "output_type": "stream",
     "text": [
      "Epoch 10, Loss 0.1037\n",
      "Training Accuracy: 0.9095, Testing Accuracy: 0.9173\n",
      "\n"
     ]
    },
    {
     "name": "stdout",
     "output_type": "stream",
     "text": [
      "Epoch 20, Loss 0.0791\n",
      "Training Accuracy: 0.9293, Testing Accuracy: 0.9415\n",
      "\n"
     ]
    },
    {
     "name": "stdout",
     "output_type": "stream",
     "text": [
      "Epoch 30, Loss 0.0679\n",
      "Training Accuracy: 0.9363, Testing Accuracy: 0.9476\n",
      "\n"
     ]
    },
    {
     "name": "stdout",
     "output_type": "stream",
     "text": [
      "Epoch 40, Loss 0.0613\n",
      "Training Accuracy: 0.9414, Testing Accuracy: 0.9541\n",
      "\n"
     ]
    },
    {
     "name": "stdout",
     "output_type": "stream",
     "text": [
      "Epoch 50, Loss 0.0568\n",
      "Training Accuracy: 0.9457, Testing Accuracy: 0.9561\n",
      "\n"
     ]
    },
    {
     "name": "stdout",
     "output_type": "stream",
     "text": [
      "Epoch 60, Loss 0.0535\n",
      "Training Accuracy: 0.9481, Testing Accuracy: 0.9572\n",
      "\n"
     ]
    },
    {
     "name": "stdout",
     "output_type": "stream",
     "text": [
      "Epoch 70, Loss 0.0509\n",
      "Training Accuracy: 0.9498, Testing Accuracy: 0.9597\n",
      "\n"
     ]
    },
    {
     "name": "stdout",
     "output_type": "stream",
     "text": [
      "Epoch 80, Loss 0.0489\n",
      "Training Accuracy: 0.9516, Testing Accuracy: 0.9607\n",
      "\n"
     ]
    },
    {
     "name": "stdout",
     "output_type": "stream",
     "text": [
      "Epoch 90, Loss 0.0472\n",
      "Training Accuracy: 0.9528, Testing Accuracy: 0.9627\n",
      "\n"
     ]
    },
    {
     "name": "stdout",
     "output_type": "stream",
     "text": [
      "Epoch 100, Loss 0.0458\n",
      "Training Accuracy: 0.9534, Testing Accuracy: 0.9652\n",
      "\n"
     ]
    },
    {
     "name": "stdout",
     "output_type": "stream",
     "text": [
      "Epoch 110, Loss 0.0446\n",
      "Training Accuracy: 0.9552, Testing Accuracy: 0.9657\n",
      "\n"
     ]
    },
    {
     "name": "stdout",
     "output_type": "stream",
     "text": [
      "Epoch 120, Loss 0.0436\n",
      "Training Accuracy: 0.9556, Testing Accuracy: 0.9657\n",
      "\n"
     ]
    },
    {
     "name": "stdout",
     "output_type": "stream",
     "text": [
      "Epoch 130, Loss 0.0427\n",
      "Training Accuracy: 0.9563, Testing Accuracy: 0.9667\n",
      "\n"
     ]
    },
    {
     "name": "stdout",
     "output_type": "stream",
     "text": [
      "Epoch 140, Loss 0.0418\n",
      "Training Accuracy: 0.9567, Testing Accuracy: 0.9672\n",
      "\n"
     ]
    },
    {
     "name": "stdout",
     "output_type": "stream",
     "text": [
      "Epoch 150, Loss 0.0411\n",
      "Training Accuracy: 0.9574, Testing Accuracy: 0.9677\n",
      "\n"
     ]
    },
    {
     "name": "stdout",
     "output_type": "stream",
     "text": [
      "Epoch 160, Loss 0.0405\n",
      "Training Accuracy: 0.9579, Testing Accuracy: 0.9682\n",
      "\n"
     ]
    },
    {
     "name": "stdout",
     "output_type": "stream",
     "text": [
      "Epoch 170, Loss 0.0399\n",
      "Training Accuracy: 0.9583, Testing Accuracy: 0.9682\n",
      "\n"
     ]
    },
    {
     "name": "stdout",
     "output_type": "stream",
     "text": [
      "Epoch 180, Loss 0.0393\n",
      "Training Accuracy: 0.9588, Testing Accuracy: 0.9682\n",
      "\n"
     ]
    },
    {
     "name": "stdout",
     "output_type": "stream",
     "text": [
      "Epoch 190, Loss 0.0388\n",
      "Training Accuracy: 0.9589, Testing Accuracy: 0.9682\n",
      "\n"
     ]
    },
    {
     "name": "stdout",
     "output_type": "stream",
     "text": [
      "Epoch 200, Loss 0.0383\n",
      "Training Accuracy: 0.9597, Testing Accuracy: 0.9682\n",
      "\n"
     ]
    },
    {
     "name": "stdout",
     "output_type": "stream",
     "text": [
      "Epoch 210, Loss 0.0379\n",
      "Training Accuracy: 0.9603, Testing Accuracy: 0.9693\n",
      "\n"
     ]
    },
    {
     "name": "stdout",
     "output_type": "stream",
     "text": [
      "Epoch 220, Loss 0.0375\n",
      "Training Accuracy: 0.9604, Testing Accuracy: 0.9688\n",
      "\n"
     ]
    },
    {
     "name": "stdout",
     "output_type": "stream",
     "text": [
      "Epoch 230, Loss 0.0371\n",
      "Training Accuracy: 0.9605, Testing Accuracy: 0.9693\n",
      "\n"
     ]
    },
    {
     "name": "stdout",
     "output_type": "stream",
     "text": [
      "Epoch 240, Loss 0.0368\n",
      "Training Accuracy: 0.9609, Testing Accuracy: 0.9698\n",
      "\n"
     ]
    },
    {
     "name": "stdout",
     "output_type": "stream",
     "text": [
      "Epoch 250, Loss 0.0364\n",
      "Training Accuracy: 0.9611, Testing Accuracy: 0.9698\n",
      "\n"
     ]
    },
    {
     "data": {
      "text/plain": [
       "0.048581071932219014"
      ]
     },
     "execution_count": 22,
     "metadata": {},
     "output_type": "execute_result"
    }
   ],
   "source": [
    "print(\"====== Logistic Regression ======\")\n",
    "learner_lr.train_loop(dl)"
   ]
  },
  {
   "cell_type": "markdown",
   "metadata": {
    "papermill": {
     "duration": 0.056944,
     "end_time": "2020-09-10T10:07:56.675617",
     "exception": false,
     "start_time": "2020-09-10T10:07:56.618673",
     "status": "completed"
    },
    "tags": []
   },
   "source": [
    "### Comparing results of NN and LR"
   ]
  },
  {
   "cell_type": "code",
   "execution_count": 23,
   "metadata": {
    "execution": {
     "iopub.execute_input": "2020-09-10T10:07:56.818590Z",
     "iopub.status.busy": "2020-09-10T10:07:56.817195Z",
     "iopub.status.idle": "2020-09-10T10:07:57.137051Z",
     "shell.execute_reply": "2020-09-10T10:07:57.136233Z"
    },
    "papermill": {
     "duration": 0.394189,
     "end_time": "2020-09-10T10:07:57.137258",
     "exception": false,
     "start_time": "2020-09-10T10:07:56.743069",
     "status": "completed"
    },
    "tags": []
   },
   "outputs": [
    {
     "data": {
      "text/plain": [
       "<matplotlib.legend.Legend at 0x7f18384f03c8>"
      ]
     },
     "execution_count": 23,
     "metadata": {},
     "output_type": "execute_result"
    },
    {
     "data": {
      "image/png": "[encoded data removed]",
      "text/plain": [
       "<Figure size 1080x720 with 1 Axes>"
      ]
     },
     "metadata": {
      "needs_background": "light"
     },
     "output_type": "display_data"
    }
   ],
   "source": [
    "plt.figure(figsize=(15,10))\n",
    "\n",
    "# Neural Network plots\n",
    "plt.plot(acc_nn.accuracies, 'r-', label = \"Training Accuracies - NN\")\n",
    "plt.plot(acc_nn.test_accuracies, 'g-', label = \"Testing Accuracies - NN\")\n",
    "\n",
    "# Logistic Regression plots\n",
    "plt.plot(acc_lr.accuracies, 'k-', label = \"Training Accuracies - LR\")\n",
    "plt.plot(acc_lr.test_accuracies, 'b-', label = \"Testing Accuracies - LR\")\n",
    "\n",
    "plt.ylim(0.8, 1)\n",
    "\n",
    "plt.legend()\n",
    "\n"
   ]
  },
  {
   "cell_type": "markdown",
   "metadata": {
    "papermill": {
     "duration": 0.068842,
     "end_time": "2020-09-10T10:07:57.269089",
     "exception": false,
     "start_time": "2020-09-10T10:07:57.200247",
     "status": "completed"
    },
    "tags": []
   },
   "source": [
    "### From the plot, we can observe the following:\n",
    "- Neural Network achieves higher accuracy than the Logistic Regression model.\n",
    "- This apparently, is because of overfitting, i.e. NN captures more noise than data.\n",
    "- Testing accuracy of NN drops below the Training accuracy at higher epochs. This explains the over-fitting on training data.\n",
    "- Logistic Regression gives a reliable accuracy, without the above mentioned problem.\n"
   ]
  },
  {
   "cell_type": "markdown",
   "metadata": {
    "papermill": {
     "duration": 0.062798,
     "end_time": "2020-09-10T10:07:57.404719",
     "exception": false,
     "start_time": "2020-09-10T10:07:57.341921",
     "status": "completed"
    },
    "tags": []
   },
   "source": [
    "### Moving till the last but one layer (excluding it).\n",
    "#### Plotting the outputs of this layer of the NN."
   ]
  },
  {
   "cell_type": "code",
   "execution_count": 24,
   "metadata": {
    "execution": {
     "iopub.execute_input": "2020-09-10T10:07:57.554439Z",
     "iopub.status.busy": "2020-09-10T10:07:57.553053Z",
     "iopub.status.idle": "2020-09-10T10:07:57.569323Z",
     "shell.execute_reply": "2020-09-10T10:07:57.568088Z"
    },
    "papermill": {
     "duration": 0.082507,
     "end_time": "2020-09-10T10:07:57.569540",
     "exception": false,
     "start_time": "2020-09-10T10:07:57.487033",
     "status": "completed"
    },
    "tags": []
   },
   "outputs": [],
   "source": [
    "model_new = Model(layers[:-2])"
   ]
  },
  {
   "cell_type": "code",
   "execution_count": 25,
   "metadata": {
    "execution": {
     "iopub.execute_input": "2020-09-10T10:07:57.720094Z",
     "iopub.status.busy": "2020-09-10T10:07:57.719051Z",
     "iopub.status.idle": "2020-09-10T10:07:57.754009Z",
     "shell.execute_reply": "2020-09-10T10:07:57.754656Z"
    },
    "papermill": {
     "duration": 0.115942,
     "end_time": "2020-09-10T10:07:57.754841",
     "exception": false,
     "start_time": "2020-09-10T10:07:57.638899",
     "status": "completed"
    },
    "tags": []
   },
   "outputs": [],
   "source": [
    "plot_testing = model_new(testing_xdata)"
   ]
  },
  {
   "cell_type": "code",
   "execution_count": 26,
   "metadata": {
    "execution": {
     "iopub.execute_input": "2020-09-10T10:07:57.890889Z",
     "iopub.status.busy": "2020-09-10T10:07:57.889118Z",
     "iopub.status.idle": "2020-09-10T10:07:58.204827Z",
     "shell.execute_reply": "2020-09-10T10:07:58.205619Z"
    },
    "papermill": {
     "duration": 0.389799,
     "end_time": "2020-09-10T10:07:58.206051",
     "exception": false,
     "start_time": "2020-09-10T10:07:57.816252",
     "status": "completed"
    },
    "tags": []
   },
   "outputs": [
    {
     "data": {
      "text/plain": [
       "Text(0.5, 1.0, 'Outputs')"
      ]
     },
     "execution_count": 26,
     "metadata": {},
     "output_type": "execute_result"
    },
    {
     "data": {
      "image/png": "[encoded data removed]",
      "text/plain": [
       "<Figure size 576x504 with 1 Axes>"
      ]
     },
     "metadata": {
      "needs_background": "light"
     },
     "output_type": "display_data"
    }
   ],
   "source": [
    "plt.figure(figsize=(8,7))\n",
    "plt.scatter(plot_testing[:,0], plot_testing[:,1], alpha = 0.1, c = y_test.ravel());\n",
    "plt.title('Outputs')"
   ]
  },
  {
   "cell_type": "markdown",
   "metadata": {
    "papermill": {
     "duration": 0.065979,
     "end_time": "2020-09-10T10:07:58.341904",
     "exception": false,
     "start_time": "2020-09-10T10:07:58.275925",
     "status": "completed"
    },
    "tags": []
   },
   "source": [
    "### Plotting probability contours"
   ]
  },
  {
   "cell_type": "code",
   "execution_count": 27,
   "metadata": {
    "execution": {
     "iopub.execute_input": "2020-09-10T10:07:58.485813Z",
     "iopub.status.busy": "2020-09-10T10:07:58.485086Z",
     "iopub.status.idle": "2020-09-10T10:07:58.504085Z",
     "shell.execute_reply": "2020-09-10T10:07:58.504673Z"
    },
    "papermill": {
     "duration": 0.089771,
     "end_time": "2020-09-10T10:07:58.504855",
     "exception": false,
     "start_time": "2020-09-10T10:07:58.415084",
     "status": "completed"
    },
    "tags": []
   },
   "outputs": [],
   "source": [
    "model_prob = Model(layers[-2:]) "
   ]
  },
  {
   "cell_type": "code",
   "execution_count": 28,
   "metadata": {
    "execution": {
     "iopub.execute_input": "2020-09-10T10:07:58.672716Z",
     "iopub.status.busy": "2020-09-10T10:07:58.671624Z",
     "iopub.status.idle": "2020-09-10T10:07:58.687579Z",
     "shell.execute_reply": "2020-09-10T10:07:58.688497Z"
    },
    "papermill": {
     "duration": 0.115932,
     "end_time": "2020-09-10T10:07:58.688693",
     "exception": false,
     "start_time": "2020-09-10T10:07:58.572761",
     "status": "completed"
    },
    "tags": []
   },
   "outputs": [],
   "source": [
    "# Adjust the x and y ranges according to the above generated plot.\n",
    "x_range = np.linspace(-4, 1, 100) \n",
    "y_range = np.linspace(-6, 6, 100) \n",
    "x_grid, y_grid = np.meshgrid(x_range, y_range) # x_grid and y_grig are of size 100 X 100\n",
    "\n",
    "# converting x_grid and y_grid to continuous arrays\n",
    "x_grid_flat = np.ravel(x_grid)\n",
    "y_grid_flat = np.ravel(y_grid)\n",
    "\n",
    "# The last layer of the current model takes two columns as input. Hence transpose of np.vstack() is required.\n",
    "X = np.vstack((x_grid_flat, y_grid_flat)).T\n",
    "\n",
    "# x_grid and y_grid are of size 100 x 100\n",
    "probability_contour = model_prob(X).reshape(100,100) "
   ]
  },
  {
   "cell_type": "code",
   "execution_count": 29,
   "metadata": {
    "execution": {
     "iopub.execute_input": "2020-09-10T10:07:58.833898Z",
     "iopub.status.busy": "2020-09-10T10:07:58.833041Z",
     "iopub.status.idle": "2020-09-10T10:07:59.208649Z",
     "shell.execute_reply": "2020-09-10T10:07:59.207093Z"
    },
    "papermill": {
     "duration": 0.457084,
     "end_time": "2020-09-10T10:07:59.208809",
     "exception": false,
     "start_time": "2020-09-10T10:07:58.751725",
     "status": "completed"
    },
    "tags": []
   },
   "outputs": [
    {
     "data": {
      "image/png": "[encoded data removed]",
      "text/plain": [
       "<Figure size 720x648 with 1 Axes>"
      ]
     },
     "metadata": {
      "needs_background": "light"
     },
     "output_type": "display_data"
    }
   ],
   "source": [
    "plt.figure(figsize=(10,9))\n",
    "plt.scatter(plot_testing[:,0], plot_testing[:,1], alpha = 0.1, c = y_test.ravel())\n",
    "contours = plt.contour(x_grid,y_grid,probability_contour)\n",
    "plt.title('Probability Contours')\n",
    "plt.clabel(contours, inline = True );"
   ]
  }
 ],
 "metadata": {
  "kernelspec": {
   "display_name": "Python 3",
   "language": "python",
   "name": "python3"
  },
  "language_info": {
   "codemirror_mode": {
    "name": "ipython",
    "version": 3
   },
   "file_extension": ".py",
   "mimetype": "text/x-python",
   "name": "python",
   "nbconvert_exporter": "python",
   "pygments_lexer": "ipython3",
   "version": "3.6.12"
  },
  "papermill": {
   "duration": 200.009481,
   "end_time": "2020-09-10T10:07:59.692718",
   "environment_variables": {},
   "exception": null,
   "input_path": "2020-08-11-NeuralNetwork.ipynb",
   "output_path": "2020-08-11-NeuralNetwork.ipynb",
   "parameters": {},
   "start_time": "2020-09-10T10:04:39.683237",
   "version": "2.1.2"
  }
 },
 "nbformat": 4,
 "nbformat_minor": 4
}