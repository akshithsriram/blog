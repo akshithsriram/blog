{
 "cells": [
  {
   "cell_type": "markdown",
   "id": "fitted-suggestion",
   "metadata": {
    "papermill": {
     "duration": 0.032063,
     "end_time": "2021-02-05T10:04:42.249063",
     "exception": false,
     "start_time": "2021-02-05T10:04:42.217000",
     "status": "completed"
    },
    "tags": []
   },
   "source": [
    "# \"A Basic Neural Network: Differentiate Hand-Written Digits\"\n",
    "\n",
    "- badges: true\n",
    "- author: Akshith Sriram"
   ]
  },
  {
   "cell_type": "markdown",
   "id": "signal-flexibility",
   "metadata": {
    "papermill": {
     "duration": 0.025932,
     "end_time": "2021-02-05T10:04:42.299914",
     "exception": false,
     "start_time": "2021-02-05T10:04:42.273982",
     "status": "completed"
    },
    "tags": []
   },
   "source": [
    "### Key Objectives:\n",
    "- Building a neural network that differentiates two hand-written digits 3 and 8.\n",
    "- Comparing the results of this Neural Network (NN) to that of a Logistic Regression (LR) model.\n",
    "\n",
    "### Requirements:\n",
    "- 'Kudzu' : A neural network library that was designed during our course by [Univ.AI](www.univ.ai). \n",
    "- MNIST Database\n",
    "\n",
    "If MNIST is not installed, use the command `!pip install mnist` given below.\n",
    "It can be run both from the command line and Jupyter Notebook."
   ]
  },
  {
   "cell_type": "code",
   "execution_count": 1,
   "id": "british-texture",
   "metadata": {
    "execution": {
     "iopub.execute_input": "2021-02-05T10:04:42.364322Z",
     "iopub.status.busy": "2021-02-05T10:04:42.363596Z",
     "iopub.status.idle": "2021-02-05T10:04:43.725406Z",
     "shell.execute_reply": "2021-02-05T10:04:43.723905Z"
    },
    "papermill": {
     "duration": 1.402596,
     "end_time": "2021-02-05T10:04:43.725667",
     "exception": false,
     "start_time": "2021-02-05T10:04:42.323071",
     "status": "completed"
    },
    "tags": []
   },
   "outputs": [
    {
     "name": "stdout",
     "output_type": "stream",
     "text": [
      "Collecting mnist\r\n"
     ]
    },
    {
     "name": "stdout",
     "output_type": "stream",
     "text": [
      "  Downloading mnist-0.2.2-py2.py3-none-any.whl (3.5 kB)\r\n",
      "Requirement already satisfied: numpy in /opt/hostedtoolcache/Python/3.6.12/x64/lib/python3.6/site-packages (from mnist) (1.19.5)\r\n"
     ]
    },
    {
     "name": "stdout",
     "output_type": "stream",
     "text": [
      "Installing collected packages: mnist\r\n"
     ]
    },
    {
     "name": "stdout",
     "output_type": "stream",
     "text": [
      "Successfully installed mnist-0.2.2\r\n"
     ]
    }
   ],
   "source": [
    "!pip install mnist "
   ]
  },
  {
   "cell_type": "markdown",
   "id": "stunning-extra",
   "metadata": {
    "papermill": {
     "duration": 0.025608,
     "end_time": "2021-02-05T10:04:43.776062",
     "exception": false,
     "start_time": "2021-02-05T10:04:43.750454",
     "status": "completed"
    },
    "tags": []
   },
   "source": [
    "#### Importing necessary libraries"
   ]
  },
  {
   "cell_type": "code",
   "execution_count": 2,
   "id": "wooden-france",
   "metadata": {
    "execution": {
     "iopub.execute_input": "2021-02-05T10:04:43.838172Z",
     "iopub.status.busy": "2021-02-05T10:04:43.835515Z",
     "iopub.status.idle": "2021-02-05T10:04:44.332846Z",
     "shell.execute_reply": "2021-02-05T10:04:44.331968Z"
    },
    "papermill": {
     "duration": 0.531183,
     "end_time": "2021-02-05T10:04:44.333072",
     "exception": false,
     "start_time": "2021-02-05T10:04:43.801889",
     "status": "completed"
    },
    "tags": []
   },
   "outputs": [],
   "source": [
    "%load_ext autoreload\n",
    "%autoreload 2\n",
    "\n",
    "%matplotlib inline\n",
    "import matplotlib.pyplot as plt\n",
    "\n",
    "import numpy as np\n",
    "import pandas as pd"
   ]
  },
  {
   "cell_type": "markdown",
   "id": "stunning-physics",
   "metadata": {
    "papermill": {
     "duration": 0.024836,
     "end_time": "2021-02-05T10:04:44.382588",
     "exception": false,
     "start_time": "2021-02-05T10:04:44.357752",
     "status": "completed"
    },
    "tags": []
   },
   "source": [
    "### Preparing the Data"
   ]
  },
  {
   "cell_type": "code",
   "execution_count": 3,
   "id": "unauthorized-remainder",
   "metadata": {
    "execution": {
     "iopub.execute_input": "2021-02-05T10:04:44.438250Z",
     "iopub.status.busy": "2021-02-05T10:04:44.437708Z",
     "iopub.status.idle": "2021-02-05T10:04:44.449597Z",
     "shell.execute_reply": "2021-02-05T10:04:44.449990Z"
    },
    "papermill": {
     "duration": 0.042378,
     "end_time": "2021-02-05T10:04:44.450121",
     "exception": false,
     "start_time": "2021-02-05T10:04:44.407743",
     "status": "completed"
    },
    "tags": []
   },
   "outputs": [],
   "source": [
    "import mnist"
   ]
  },
  {
   "cell_type": "code",
   "execution_count": 4,
   "id": "correct-antarctica",
   "metadata": {
    "execution": {
     "iopub.execute_input": "2021-02-05T10:04:44.503272Z",
     "iopub.status.busy": "2021-02-05T10:04:44.502750Z",
     "iopub.status.idle": "2021-02-05T10:04:46.219575Z",
     "shell.execute_reply": "2021-02-05T10:04:46.218409Z"
    },
    "papermill": {
     "duration": 1.744816,
     "end_time": "2021-02-05T10:04:46.219703",
     "exception": false,
     "start_time": "2021-02-05T10:04:44.474887",
     "status": "completed"
    },
    "tags": []
   },
   "outputs": [],
   "source": [
    "train_images = mnist.train_images()\n",
    "train_labels = mnist.train_labels()"
   ]
  },
  {
   "cell_type": "code",
   "execution_count": 5,
   "id": "musical-prospect",
   "metadata": {
    "execution": {
     "iopub.execute_input": "2021-02-05T10:04:46.279498Z",
     "iopub.status.busy": "2021-02-05T10:04:46.269767Z",
     "iopub.status.idle": "2021-02-05T10:04:46.282250Z",
     "shell.execute_reply": "2021-02-05T10:04:46.281861Z"
    },
    "papermill": {
     "duration": 0.038969,
     "end_time": "2021-02-05T10:04:46.282353",
     "exception": false,
     "start_time": "2021-02-05T10:04:46.243384",
     "status": "completed"
    },
    "tags": []
   },
   "outputs": [
    {
     "data": {
      "text/plain": [
       "((60000, 28, 28), (60000,))"
      ]
     },
     "execution_count": 5,
     "metadata": {},
     "output_type": "execute_result"
    }
   ],
   "source": [
    "train_images.shape, train_labels.shape"
   ]
  },
  {
   "cell_type": "code",
   "execution_count": 6,
   "id": "preliminary-elizabeth",
   "metadata": {
    "execution": {
     "iopub.execute_input": "2021-02-05T10:04:46.333351Z",
     "iopub.status.busy": "2021-02-05T10:04:46.332869Z",
     "iopub.status.idle": "2021-02-05T10:04:46.729987Z",
     "shell.execute_reply": "2021-02-05T10:04:46.729105Z"
    },
    "papermill": {
     "duration": 0.423313,
     "end_time": "2021-02-05T10:04:46.730209",
     "exception": false,
     "start_time": "2021-02-05T10:04:46.306896",
     "status": "completed"
    },
    "tags": []
   },
   "outputs": [],
   "source": [
    "test_images = mnist.test_images()\n",
    "test_labels = mnist.test_labels()"
   ]
  },
  {
   "cell_type": "code",
   "execution_count": 7,
   "id": "acknowledged-oxygen",
   "metadata": {
    "execution": {
     "iopub.execute_input": "2021-02-05T10:04:46.784156Z",
     "iopub.status.busy": "2021-02-05T10:04:46.783728Z",
     "iopub.status.idle": "2021-02-05T10:04:46.795280Z",
     "shell.execute_reply": "2021-02-05T10:04:46.794866Z"
    },
    "papermill": {
     "duration": 0.039555,
     "end_time": "2021-02-05T10:04:46.795388",
     "exception": false,
     "start_time": "2021-02-05T10:04:46.755833",
     "status": "completed"
    },
    "tags": []
   },
   "outputs": [
    {
     "data": {
      "text/plain": [
       "((10000, 28, 28), (10000,))"
      ]
     },
     "execution_count": 7,
     "metadata": {},
     "output_type": "execute_result"
    }
   ],
   "source": [
    "test_images.shape, test_labels.shape"
   ]
  },
  {
   "cell_type": "code",
   "execution_count": 8,
   "id": "innovative-organic",
   "metadata": {
    "execution": {
     "iopub.execute_input": "2021-02-05T10:04:46.847759Z",
     "iopub.status.busy": "2021-02-05T10:04:46.846952Z",
     "iopub.status.idle": "2021-02-05T10:04:46.991591Z",
     "shell.execute_reply": "2021-02-05T10:04:46.992033Z"
    },
    "papermill": {
     "duration": 0.173048,
     "end_time": "2021-02-05T10:04:46.992170",
     "exception": false,
     "start_time": "2021-02-05T10:04:46.819122",
     "status": "completed"
    },
    "tags": []
   },
   "outputs": [
    {
     "name": "stdout",
     "output_type": "stream",
     "text": [
      "2\n"
     ]
    },
    {
     "data": {
      "text/plain": [
       "<matplotlib.image.AxesImage at 0x7f30cbcedf60>"
      ]
     },
     "execution_count": 8,
     "metadata": {},
     "output_type": "execute_result"
    },
    {
     "data": {
      "image/png": "[encoded data removed]",
      "text/plain": [
       "<Figure size 432x288 with 1 Axes>"
      ]
     },
     "metadata": {
      "needs_background": "light"
     },
     "output_type": "display_data"
    }
   ],
   "source": [
    "image_index = 7776 # You may select anything up to 60,000\n",
    "print(train_labels[image_index]) \n",
    "plt.imshow(train_images[image_index], cmap='Greys')"
   ]
  },
  {
   "cell_type": "markdown",
   "id": "facial-modem",
   "metadata": {
    "papermill": {
     "duration": 0.029347,
     "end_time": "2021-02-05T10:04:47.049629",
     "exception": false,
     "start_time": "2021-02-05T10:04:47.020282",
     "status": "completed"
    },
    "tags": []
   },
   "source": [
    "## Filter data to get 3 and 8 out"
   ]
  },
  {
   "cell_type": "code",
   "execution_count": 9,
   "id": "thousand-acquisition",
   "metadata": {
    "execution": {
     "iopub.execute_input": "2021-02-05T10:04:47.119853Z",
     "iopub.status.busy": "2021-02-05T10:04:47.113695Z",
     "iopub.status.idle": "2021-02-05T10:04:47.130935Z",
     "shell.execute_reply": "2021-02-05T10:04:47.130468Z"
    },
    "papermill": {
     "duration": 0.051533,
     "end_time": "2021-02-05T10:04:47.131081",
     "exception": false,
     "start_time": "2021-02-05T10:04:47.079548",
     "status": "completed"
    },
    "tags": []
   },
   "outputs": [],
   "source": [
    "train_filter = np.where((train_labels == 3 ) | (train_labels == 8))\n",
    "test_filter = np.where((test_labels == 3) | (test_labels == 8))\n",
    "X_train, y_train = train_images[train_filter], train_labels[train_filter]\n",
    "X_test, y_test = test_images[test_filter], test_labels[test_filter]"
   ]
  },
  {
   "cell_type": "markdown",
   "id": "ruled-access",
   "metadata": {
    "papermill": {
     "duration": 0.028859,
     "end_time": "2021-02-05T10:04:47.187594",
     "exception": false,
     "start_time": "2021-02-05T10:04:47.158735",
     "status": "completed"
    },
    "tags": []
   },
   "source": [
    "We normalize the pixel values in the 0 to 1 range"
   ]
  },
  {
   "cell_type": "code",
   "execution_count": 10,
   "id": "isolated-denver",
   "metadata": {
    "execution": {
     "iopub.execute_input": "2021-02-05T10:04:47.252500Z",
     "iopub.status.busy": "2021-02-05T10:04:47.251902Z",
     "iopub.status.idle": "2021-02-05T10:04:47.304576Z",
     "shell.execute_reply": "2021-02-05T10:04:47.303698Z"
    },
    "papermill": {
     "duration": 0.087636,
     "end_time": "2021-02-05T10:04:47.304801",
     "exception": false,
     "start_time": "2021-02-05T10:04:47.217165",
     "status": "completed"
    },
    "tags": []
   },
   "outputs": [],
   "source": [
    "X_train = X_train/255.\n",
    "X_test = X_test/255."
   ]
  },
  {
   "cell_type": "markdown",
   "id": "perfect-summary",
   "metadata": {
    "papermill": {
     "duration": 0.029045,
     "end_time": "2021-02-05T10:04:47.365114",
     "exception": false,
     "start_time": "2021-02-05T10:04:47.336069",
     "status": "completed"
    },
    "tags": []
   },
   "source": [
    "Setup the labels as 1 (when the digit is 3) and 0 (when the digit is 8)"
   ]
  },
  {
   "cell_type": "code",
   "execution_count": 11,
   "id": "personalized-growing",
   "metadata": {
    "execution": {
     "iopub.execute_input": "2021-02-05T10:04:47.444366Z",
     "iopub.status.busy": "2021-02-05T10:04:47.443793Z",
     "iopub.status.idle": "2021-02-05T10:04:47.449322Z",
     "shell.execute_reply": "2021-02-05T10:04:47.450111Z"
    },
    "papermill": {
     "duration": 0.054479,
     "end_time": "2021-02-05T10:04:47.450257",
     "exception": false,
     "start_time": "2021-02-05T10:04:47.395778",
     "status": "completed"
    },
    "tags": []
   },
   "outputs": [],
   "source": [
    "y_train = 1*(y_train==3)\n",
    "y_test = 1*(y_test==3)"
   ]
  },
  {
   "cell_type": "code",
   "execution_count": 12,
   "id": "considered-virgin",
   "metadata": {
    "execution": {
     "iopub.execute_input": "2021-02-05T10:04:48.201877Z",
     "iopub.status.busy": "2021-02-05T10:04:48.201234Z",
     "iopub.status.idle": "2021-02-05T10:04:48.218884Z",
     "shell.execute_reply": "2021-02-05T10:04:48.219391Z"
    },
    "papermill": {
     "duration": 0.73855,
     "end_time": "2021-02-05T10:04:48.219545",
     "exception": false,
     "start_time": "2021-02-05T10:04:47.480995",
     "status": "completed"
    },
    "tags": []
   },
   "outputs": [
    {
     "data": {
      "text/plain": [
       "((11982, 28, 28), (1984, 28, 28))"
      ]
     },
     "execution_count": 12,
     "metadata": {},
     "output_type": "execute_result"
    }
   ],
   "source": [
    "X_train.shape, X_test.shape"
   ]
  },
  {
   "cell_type": "markdown",
   "id": "civilian-mobile",
   "metadata": {
    "papermill": {
     "duration": 0.081974,
     "end_time": "2021-02-05T10:04:48.540961",
     "exception": false,
     "start_time": "2021-02-05T10:04:48.458987",
     "status": "completed"
    },
    "tags": []
   },
   "source": [
    "### Reshape the input data to create a linear array"
   ]
  },
  {
   "cell_type": "code",
   "execution_count": 13,
   "id": "colonial-adams",
   "metadata": {
    "execution": {
     "iopub.execute_input": "2021-02-05T10:04:48.867570Z",
     "iopub.status.busy": "2021-02-05T10:04:48.866969Z",
     "iopub.status.idle": "2021-02-05T10:04:48.877597Z",
     "shell.execute_reply": "2021-02-05T10:04:48.877126Z"
    },
    "papermill": {
     "duration": 0.083066,
     "end_time": "2021-02-05T10:04:48.877719",
     "exception": false,
     "start_time": "2021-02-05T10:04:48.794653",
     "status": "completed"
    },
    "tags": []
   },
   "outputs": [
    {
     "data": {
      "text/plain": [
       "((11982, 784), (1984, 784))"
      ]
     },
     "execution_count": 13,
     "metadata": {},
     "output_type": "execute_result"
    }
   ],
   "source": [
    "X_train = X_train.reshape(X_train.shape[0], -1)\n",
    "X_test = X_test.reshape(X_test.shape[0], -1)\n",
    "X_train.shape, X_test.shape"
   ]
  },
  {
   "cell_type": "markdown",
   "id": "smart-details",
   "metadata": {
    "papermill": {
     "duration": 0.02702,
     "end_time": "2021-02-05T10:04:48.934323",
     "exception": false,
     "start_time": "2021-02-05T10:04:48.907303",
     "status": "completed"
    },
    "tags": []
   },
   "source": [
    "### Importing appropriate functions from 'Kudzu'"
   ]
  },
  {
   "cell_type": "code",
   "execution_count": 14,
   "id": "celtic-trial",
   "metadata": {
    "execution": {
     "iopub.execute_input": "2021-02-05T10:04:48.992571Z",
     "iopub.status.busy": "2021-02-05T10:04:48.992043Z",
     "iopub.status.idle": "2021-02-05T10:04:49.012531Z",
     "shell.execute_reply": "2021-02-05T10:04:49.011643Z"
    },
    "papermill": {
     "duration": 0.051771,
     "end_time": "2021-02-05T10:04:49.012734",
     "exception": false,
     "start_time": "2021-02-05T10:04:48.960963",
     "status": "completed"
    },
    "tags": []
   },
   "outputs": [],
   "source": [
    "from kudzu.layer import Sigmoid\n",
    "from kudzu.layer import Relu\n",
    "from kudzu.layer import Affine, Sigmoid\n",
    "\n",
    "from kudzu.model import Model\n",
    "from kudzu.train import Learner\n",
    "from kudzu.optim import GD\n",
    "from kudzu.data import Data, Dataloader, Sampler\n",
    "\n",
    "from kudzu.callbacks import AccCallback\n",
    "from kudzu.callbacks import ClfCallback\n",
    "\n",
    "from kudzu.loss import MSE"
   ]
  },
  {
   "cell_type": "markdown",
   "id": "coupled-customer",
   "metadata": {
    "papermill": {
     "duration": 0.028397,
     "end_time": "2021-02-05T10:04:49.072384",
     "exception": false,
     "start_time": "2021-02-05T10:04:49.043987",
     "status": "completed"
    },
    "tags": []
   },
   "source": [
    "### Let us create a `Config` class, to store important parameters. \n",
    "This class essentially plays the role of a dictionary."
   ]
  },
  {
   "cell_type": "code",
   "execution_count": 15,
   "id": "young-ceiling",
   "metadata": {
    "execution": {
     "iopub.execute_input": "2021-02-05T10:04:49.129210Z",
     "iopub.status.busy": "2021-02-05T10:04:49.128727Z",
     "iopub.status.idle": "2021-02-05T10:04:49.141820Z",
     "shell.execute_reply": "2021-02-05T10:04:49.141364Z"
    },
    "papermill": {
     "duration": 0.044368,
     "end_time": "2021-02-05T10:04:49.141936",
     "exception": false,
     "start_time": "2021-02-05T10:04:49.097568",
     "status": "completed"
    },
    "tags": []
   },
   "outputs": [],
   "source": [
    "class Config:\n",
    "    pass\n",
    "config = Config()\n",
    "config.lr = 0.001\n",
    "config.num_epochs = 251\n",
    "config.bs = 50"
   ]
  },
  {
   "cell_type": "markdown",
   "id": "according-mandate",
   "metadata": {
    "papermill": {
     "duration": 0.02565,
     "end_time": "2021-02-05T10:04:49.193658",
     "exception": false,
     "start_time": "2021-02-05T10:04:49.168008",
     "status": "completed"
    },
    "tags": []
   },
   "source": [
    "### Initializing data to the variables"
   ]
  },
  {
   "cell_type": "code",
   "execution_count": 16,
   "id": "academic-disposition",
   "metadata": {
    "execution": {
     "iopub.execute_input": "2021-02-05T10:04:49.251090Z",
     "iopub.status.busy": "2021-02-05T10:04:49.250497Z",
     "iopub.status.idle": "2021-02-05T10:04:49.264052Z",
     "shell.execute_reply": "2021-02-05T10:04:49.263670Z"
    },
    "papermill": {
     "duration": 0.044434,
     "end_time": "2021-02-05T10:04:49.264141",
     "exception": false,
     "start_time": "2021-02-05T10:04:49.219707",
     "status": "completed"
    },
    "tags": []
   },
   "outputs": [],
   "source": [
    "data = Data(X_train, y_train.reshape(-1,1))\n",
    "sampler = Sampler(data, config.bs, shuffle=True)\n",
    "\n",
    "dl = Dataloader(data, sampler)\n",
    "\n",
    "opt = GD(config.lr)\n",
    "loss = MSE()"
   ]
  },
  {
   "cell_type": "code",
   "execution_count": 17,
   "id": "featured-commission",
   "metadata": {
    "execution": {
     "iopub.execute_input": "2021-02-05T10:04:49.320367Z",
     "iopub.status.busy": "2021-02-05T10:04:49.319823Z",
     "iopub.status.idle": "2021-02-05T10:04:49.332567Z",
     "shell.execute_reply": "2021-02-05T10:04:49.332160Z"
    },
    "papermill": {
     "duration": 0.043027,
     "end_time": "2021-02-05T10:04:49.332664",
     "exception": false,
     "start_time": "2021-02-05T10:04:49.289637",
     "status": "completed"
    },
    "tags": []
   },
   "outputs": [],
   "source": [
    "training_xdata = X_train\n",
    "testing_xdata = X_test\n",
    "training_ydata = y_train.reshape(-1,1)\n",
    "testing_ydata = y_test.reshape(-1,1)"
   ]
  },
  {
   "cell_type": "markdown",
   "id": "played-safety",
   "metadata": {
    "papermill": {
     "duration": 0.027664,
     "end_time": "2021-02-05T10:04:49.385500",
     "exception": false,
     "start_time": "2021-02-05T10:04:49.357836",
     "status": "completed"
    },
    "tags": []
   },
   "source": [
    "### Running Models with the Training data\n",
    "Details about the network layers:\n",
    "- A first affine layer has 784 inputs and does 100 affine transforms. These are followed by a Relu\n",
    "- A second affine layer has 100 inputs from the 100 activations of the past layer, and does 100 affine transforms. These are followed by a Relu\n",
    "- A third affine layer has 100 activations and does 2 affine transformations to create an embedding for visualization. There is no non-linearity here.\n",
    "- A final \"logistic regression\" which has an affine transform from 2 inputs to 1 output, which is squeezed through a sigmoid.\n",
    "\n",
    "Help taken from Anshuman's Notebook."
   ]
  },
  {
   "cell_type": "code",
   "execution_count": 18,
   "id": "asian-bankruptcy",
   "metadata": {
    "execution": {
     "iopub.execute_input": "2021-02-05T10:04:49.445842Z",
     "iopub.status.busy": "2021-02-05T10:04:49.445348Z",
     "iopub.status.idle": "2021-02-05T10:04:49.460537Z",
     "shell.execute_reply": "2021-02-05T10:04:49.460905Z"
    },
    "papermill": {
     "duration": 0.047636,
     "end_time": "2021-02-05T10:04:49.461037",
     "exception": false,
     "start_time": "2021-02-05T10:04:49.413401",
     "status": "completed"
    },
    "tags": []
   },
   "outputs": [],
   "source": [
    "# layers for the Neural Network\n",
    "layers = [Affine(\"first\", 784, 100), Relu(\"first\"), Affine(\"second\", 100, 100), Relu(\"second\"), Affine(\"third\", 100, 2), Affine(\"final\", 2, 1), Sigmoid(\"final\")]\n",
    "model_nn = Model(layers)\n",
    "\n",
    "# layers for the Logistic Regression\n",
    "layers_lr = [Affine(\"logits\", 784, 1), Sigmoid(\"sigmoid\")]\n",
    "model_lr = Model(layers_lr)"
   ]
  },
  {
   "cell_type": "code",
   "execution_count": 19,
   "id": "removed-butler",
   "metadata": {
    "execution": {
     "iopub.execute_input": "2021-02-05T10:04:49.517185Z",
     "iopub.status.busy": "2021-02-05T10:04:49.516584Z",
     "iopub.status.idle": "2021-02-05T10:04:49.527158Z",
     "shell.execute_reply": "2021-02-05T10:04:49.527529Z"
    },
    "papermill": {
     "duration": 0.040436,
     "end_time": "2021-02-05T10:04:49.527643",
     "exception": false,
     "start_time": "2021-02-05T10:04:49.487207",
     "status": "completed"
    },
    "tags": []
   },
   "outputs": [],
   "source": [
    "# suffix _nn stands for Neural Network.\n",
    "learner_nn = Learner(loss, model_nn, opt, config.num_epochs)\n",
    "acc_nn = ClfCallback(learner_nn, config.bs, training_xdata , testing_xdata, training_ydata, testing_ydata)\n",
    "learner_nn.set_callbacks([acc_nn])"
   ]
  },
  {
   "cell_type": "code",
   "execution_count": 20,
   "id": "conceptual-throw",
   "metadata": {
    "execution": {
     "iopub.execute_input": "2021-02-05T10:04:49.589029Z",
     "iopub.status.busy": "2021-02-05T10:04:49.588463Z",
     "iopub.status.idle": "2021-02-05T10:06:10.863427Z",
     "shell.execute_reply": "2021-02-05T10:06:10.864139Z"
    },
    "papermill": {
     "duration": 81.307825,
     "end_time": "2021-02-05T10:06:10.864281",
     "exception": false,
     "start_time": "2021-02-05T10:04:49.556456",
     "status": "completed"
    },
    "tags": []
   },
   "outputs": [
    {
     "name": "stdout",
     "output_type": "stream",
     "text": [
      "====== Neural Network ======\n"
     ]
    },
    {
     "name": "stdout",
     "output_type": "stream",
     "text": [
      "Epoch 0, Loss 0.2225\n",
      "Training Accuracy: 0.7757, Testing Accuracy: 0.7853\n",
      "\n"
     ]
    },
    {
     "name": "stdout",
     "output_type": "stream",
     "text": [
      "Epoch 10, Loss 0.0737\n",
      "Training Accuracy: 0.9287, Testing Accuracy: 0.9360\n",
      "\n"
     ]
    },
    {
     "name": "stdout",
     "output_type": "stream",
     "text": [
      "Epoch 20, Loss 0.0493\n",
      "Training Accuracy: 0.9468, Testing Accuracy: 0.9516\n",
      "\n"
     ]
    },
    {
     "name": "stdout",
     "output_type": "stream",
     "text": [
      "Epoch 30, Loss 0.0403\n",
      "Training Accuracy: 0.9547, Testing Accuracy: 0.9637\n",
      "\n"
     ]
    },
    {
     "name": "stdout",
     "output_type": "stream",
     "text": [
      "Epoch 40, Loss 0.0356\n",
      "Training Accuracy: 0.9595, Testing Accuracy: 0.9662\n",
      "\n"
     ]
    },
    {
     "name": "stdout",
     "output_type": "stream",
     "text": [
      "Epoch 50, Loss 0.0326\n",
      "Training Accuracy: 0.9629, Testing Accuracy: 0.9677\n",
      "\n"
     ]
    },
    {
     "name": "stdout",
     "output_type": "stream",
     "text": [
      "Epoch 60, Loss 0.0304\n",
      "Training Accuracy: 0.9645, Testing Accuracy: 0.9693\n",
      "\n"
     ]
    },
    {
     "name": "stdout",
     "output_type": "stream",
     "text": [
      "Epoch 70, Loss 0.0287\n",
      "Training Accuracy: 0.9664, Testing Accuracy: 0.9713\n",
      "\n"
     ]
    },
    {
     "name": "stdout",
     "output_type": "stream",
     "text": [
      "Epoch 80, Loss 0.0274\n",
      "Training Accuracy: 0.9683, Testing Accuracy: 0.9728\n",
      "\n"
     ]
    },
    {
     "name": "stdout",
     "output_type": "stream",
     "text": [
      "Epoch 90, Loss 0.0262\n",
      "Training Accuracy: 0.9699, Testing Accuracy: 0.9733\n",
      "\n"
     ]
    },
    {
     "name": "stdout",
     "output_type": "stream",
     "text": [
      "Epoch 100, Loss 0.0252\n",
      "Training Accuracy: 0.9710, Testing Accuracy: 0.9728\n",
      "\n"
     ]
    },
    {
     "name": "stdout",
     "output_type": "stream",
     "text": [
      "Epoch 110, Loss 0.0243\n",
      "Training Accuracy: 0.9727, Testing Accuracy: 0.9728\n",
      "\n"
     ]
    },
    {
     "name": "stdout",
     "output_type": "stream",
     "text": [
      "Epoch 120, Loss 0.0236\n",
      "Training Accuracy: 0.9732, Testing Accuracy: 0.9723\n",
      "\n"
     ]
    },
    {
     "name": "stdout",
     "output_type": "stream",
     "text": [
      "Epoch 130, Loss 0.0228\n",
      "Training Accuracy: 0.9742, Testing Accuracy: 0.9723\n",
      "\n"
     ]
    },
    {
     "name": "stdout",
     "output_type": "stream",
     "text": [
      "Epoch 140, Loss 0.0222\n",
      "Training Accuracy: 0.9753, Testing Accuracy: 0.9728\n",
      "\n"
     ]
    },
    {
     "name": "stdout",
     "output_type": "stream",
     "text": [
      "Epoch 150, Loss 0.0216\n",
      "Training Accuracy: 0.9760, Testing Accuracy: 0.9723\n",
      "\n"
     ]
    },
    {
     "name": "stdout",
     "output_type": "stream",
     "text": [
      "Epoch 160, Loss 0.021\n",
      "Training Accuracy: 0.9763, Testing Accuracy: 0.9718\n",
      "\n"
     ]
    },
    {
     "name": "stdout",
     "output_type": "stream",
     "text": [
      "Epoch 170, Loss 0.0205\n",
      "Training Accuracy: 0.9769, Testing Accuracy: 0.9718\n",
      "\n"
     ]
    },
    {
     "name": "stdout",
     "output_type": "stream",
     "text": [
      "Epoch 180, Loss 0.02\n",
      "Training Accuracy: 0.9775, Testing Accuracy: 0.9728\n",
      "\n"
     ]
    },
    {
     "name": "stdout",
     "output_type": "stream",
     "text": [
      "Epoch 190, Loss 0.0196\n",
      "Training Accuracy: 0.9784, Testing Accuracy: 0.9728\n",
      "\n"
     ]
    },
    {
     "name": "stdout",
     "output_type": "stream",
     "text": [
      "Epoch 200, Loss 0.0192\n",
      "Training Accuracy: 0.9791, Testing Accuracy: 0.9738\n",
      "\n"
     ]
    },
    {
     "name": "stdout",
     "output_type": "stream",
     "text": [
      "Epoch 210, Loss 0.0187\n",
      "Training Accuracy: 0.9796, Testing Accuracy: 0.9743\n",
      "\n"
     ]
    },
    {
     "name": "stdout",
     "output_type": "stream",
     "text": [
      "Epoch 220, Loss 0.0183\n",
      "Training Accuracy: 0.9802, Testing Accuracy: 0.9753\n",
      "\n"
     ]
    },
    {
     "name": "stdout",
     "output_type": "stream",
     "text": [
      "Epoch 230, Loss 0.018\n",
      "Training Accuracy: 0.9806, Testing Accuracy: 0.9763\n",
      "\n"
     ]
    },
    {
     "name": "stdout",
     "output_type": "stream",
     "text": [
      "Epoch 240, Loss 0.0176\n",
      "Training Accuracy: 0.9808, Testing Accuracy: 0.9778\n",
      "\n"
     ]
    },
    {
     "name": "stdout",
     "output_type": "stream",
     "text": [
      "Epoch 250, Loss 0.0173\n",
      "Training Accuracy: 0.9816, Testing Accuracy: 0.9778\n",
      "\n"
     ]
    },
    {
     "data": {
      "text/plain": [
       "0.022881184010407875"
      ]
     },
     "execution_count": 20,
     "metadata": {},
     "output_type": "execute_result"
    }
   ],
   "source": [
    "print(\"====== Neural Network ======\")\n",
    "learner_nn.train_loop(dl)"
   ]
  },
  {
   "cell_type": "markdown",
   "id": "competent-suffering",
   "metadata": {
    "papermill": {
     "duration": 0.034006,
     "end_time": "2021-02-05T10:06:10.934086",
     "exception": false,
     "start_time": "2021-02-05T10:06:10.900080",
     "status": "completed"
    },
    "tags": []
   },
   "source": [
    "### Logistic Regression based Implementation."
   ]
  },
  {
   "cell_type": "code",
   "execution_count": 21,
   "id": "qualified-psychiatry",
   "metadata": {
    "execution": {
     "iopub.execute_input": "2021-02-05T10:06:11.009421Z",
     "iopub.status.busy": "2021-02-05T10:06:11.006943Z",
     "iopub.status.idle": "2021-02-05T10:06:11.019091Z",
     "shell.execute_reply": "2021-02-05T10:06:11.019472Z"
    },
    "papermill": {
     "duration": 0.051385,
     "end_time": "2021-02-05T10:06:11.019598",
     "exception": false,
     "start_time": "2021-02-05T10:06:10.968213",
     "status": "completed"
    },
    "tags": []
   },
   "outputs": [],
   "source": [
    "learner_lr = Learner(loss, model_lr, opt, config.num_epochs)\n",
    "acc_lr = ClfCallback(learner_lr, config.bs, training_xdata , testing_xdata, training_ydata, testing_ydata)\n",
    "learner_lr.set_callbacks([acc_lr])"
   ]
  },
  {
   "cell_type": "code",
   "execution_count": 22,
   "id": "average-outside",
   "metadata": {
    "execution": {
     "iopub.execute_input": "2021-02-05T10:06:11.090373Z",
     "iopub.status.busy": "2021-02-05T10:06:11.089774Z",
     "iopub.status.idle": "2021-02-05T10:06:25.241201Z",
     "shell.execute_reply": "2021-02-05T10:06:25.241879Z"
    },
    "papermill": {
     "duration": 14.189118,
     "end_time": "2021-02-05T10:06:25.242020",
     "exception": false,
     "start_time": "2021-02-05T10:06:11.052902",
     "status": "completed"
    },
    "tags": []
   },
   "outputs": [
    {
     "name": "stdout",
     "output_type": "stream",
     "text": [
      "====== Logistic Regression ======\n",
      "Epoch 0, Loss 0.2481\n",
      "Training Accuracy: 0.6652, Testing Accuracy: 0.6850\n",
      "\n"
     ]
    },
    {
     "name": "stdout",
     "output_type": "stream",
     "text": [
      "Epoch 10, Loss 0.1003\n",
      "Training Accuracy: 0.9181, Testing Accuracy: 0.9315\n",
      "\n"
     ]
    },
    {
     "name": "stdout",
     "output_type": "stream",
     "text": [
      "Epoch 20, Loss 0.0771\n",
      "Training Accuracy: 0.9314, Testing Accuracy: 0.9400\n",
      "\n"
     ]
    },
    {
     "name": "stdout",
     "output_type": "stream",
     "text": [
      "Epoch 30, Loss 0.0667\n",
      "Training Accuracy: 0.9381, Testing Accuracy: 0.9471\n",
      "\n"
     ]
    },
    {
     "name": "stdout",
     "output_type": "stream",
     "text": [
      "Epoch 40, Loss 0.0605\n",
      "Training Accuracy: 0.9424, Testing Accuracy: 0.9516\n",
      "\n"
     ]
    },
    {
     "name": "stdout",
     "output_type": "stream",
     "text": [
      "Epoch 50, Loss 0.0562\n",
      "Training Accuracy: 0.9457, Testing Accuracy: 0.9567\n",
      "\n"
     ]
    },
    {
     "name": "stdout",
     "output_type": "stream",
     "text": [
      "Epoch 60, Loss 0.0531\n",
      "Training Accuracy: 0.9473, Testing Accuracy: 0.9592\n",
      "\n"
     ]
    },
    {
     "name": "stdout",
     "output_type": "stream",
     "text": [
      "Epoch 70, Loss 0.0506\n",
      "Training Accuracy: 0.9495, Testing Accuracy: 0.9602\n",
      "\n"
     ]
    },
    {
     "name": "stdout",
     "output_type": "stream",
     "text": [
      "Epoch 80, Loss 0.0487\n",
      "Training Accuracy: 0.9510, Testing Accuracy: 0.9602\n",
      "\n"
     ]
    },
    {
     "name": "stdout",
     "output_type": "stream",
     "text": [
      "Epoch 90, Loss 0.0471\n",
      "Training Accuracy: 0.9523, Testing Accuracy: 0.9607\n",
      "\n"
     ]
    },
    {
     "name": "stdout",
     "output_type": "stream",
     "text": [
      "Epoch 100, Loss 0.0457\n",
      "Training Accuracy: 0.9535, Testing Accuracy: 0.9607\n",
      "\n"
     ]
    },
    {
     "name": "stdout",
     "output_type": "stream",
     "text": [
      "Epoch 110, Loss 0.0445\n",
      "Training Accuracy: 0.9543, Testing Accuracy: 0.9612\n",
      "\n"
     ]
    },
    {
     "name": "stdout",
     "output_type": "stream",
     "text": [
      "Epoch 120, Loss 0.0435\n",
      "Training Accuracy: 0.9548, Testing Accuracy: 0.9617\n",
      "\n"
     ]
    },
    {
     "name": "stdout",
     "output_type": "stream",
     "text": [
      "Epoch 130, Loss 0.0426\n",
      "Training Accuracy: 0.9560, Testing Accuracy: 0.9622\n",
      "\n"
     ]
    },
    {
     "name": "stdout",
     "output_type": "stream",
     "text": [
      "Epoch 140, Loss 0.0418\n",
      "Training Accuracy: 0.9564, Testing Accuracy: 0.9622\n",
      "\n"
     ]
    },
    {
     "name": "stdout",
     "output_type": "stream",
     "text": [
      "Epoch 150, Loss 0.0411\n",
      "Training Accuracy: 0.9572, Testing Accuracy: 0.9627\n",
      "\n"
     ]
    },
    {
     "name": "stdout",
     "output_type": "stream",
     "text": [
      "Epoch 160, Loss 0.0404\n",
      "Training Accuracy: 0.9577, Testing Accuracy: 0.9627\n",
      "\n"
     ]
    },
    {
     "name": "stdout",
     "output_type": "stream",
     "text": [
      "Epoch 170, Loss 0.0398\n",
      "Training Accuracy: 0.9583, Testing Accuracy: 0.9627\n",
      "\n"
     ]
    },
    {
     "name": "stdout",
     "output_type": "stream",
     "text": [
      "Epoch 180, Loss 0.0392\n",
      "Training Accuracy: 0.9589, Testing Accuracy: 0.9627\n",
      "\n"
     ]
    },
    {
     "name": "stdout",
     "output_type": "stream",
     "text": [
      "Epoch 190, Loss 0.0387\n",
      "Training Accuracy: 0.9594, Testing Accuracy: 0.9632\n",
      "\n"
     ]
    },
    {
     "name": "stdout",
     "output_type": "stream",
     "text": [
      "Epoch 200, Loss 0.0383\n",
      "Training Accuracy: 0.9597, Testing Accuracy: 0.9627\n",
      "\n"
     ]
    },
    {
     "name": "stdout",
     "output_type": "stream",
     "text": [
      "Epoch 210, Loss 0.0378\n",
      "Training Accuracy: 0.9602, Testing Accuracy: 0.9632\n",
      "\n"
     ]
    },
    {
     "name": "stdout",
     "output_type": "stream",
     "text": [
      "Epoch 220, Loss 0.0374\n",
      "Training Accuracy: 0.9606, Testing Accuracy: 0.9632\n",
      "\n"
     ]
    },
    {
     "name": "stdout",
     "output_type": "stream",
     "text": [
      "Epoch 230, Loss 0.0371\n",
      "Training Accuracy: 0.9607, Testing Accuracy: 0.9637\n",
      "\n"
     ]
    },
    {
     "name": "stdout",
     "output_type": "stream",
     "text": [
      "Epoch 240, Loss 0.0367\n",
      "Training Accuracy: 0.9614, Testing Accuracy: 0.9642\n",
      "\n"
     ]
    },
    {
     "name": "stdout",
     "output_type": "stream",
     "text": [
      "Epoch 250, Loss 0.0364\n",
      "Training Accuracy: 0.9616, Testing Accuracy: 0.9647\n",
      "\n"
     ]
    },
    {
     "data": {
      "text/plain": [
       "0.013749811321547447"
      ]
     },
     "execution_count": 22,
     "metadata": {},
     "output_type": "execute_result"
    }
   ],
   "source": [
    "print(\"====== Logistic Regression ======\")\n",
    "learner_lr.train_loop(dl)"
   ]
  },
  {
   "cell_type": "markdown",
   "id": "adjusted-possible",
   "metadata": {
    "papermill": {
     "duration": 0.04259,
     "end_time": "2021-02-05T10:06:25.327148",
     "exception": false,
     "start_time": "2021-02-05T10:06:25.284558",
     "status": "completed"
    },
    "tags": []
   },
   "source": [
    "### Comparing results of NN and LR"
   ]
  },
  {
   "cell_type": "code",
   "execution_count": 23,
   "id": "mental-multimedia",
   "metadata": {
    "execution": {
     "iopub.execute_input": "2021-02-05T10:06:25.413151Z",
     "iopub.status.busy": "2021-02-05T10:06:25.412067Z",
     "iopub.status.idle": "2021-02-05T10:06:25.623499Z",
     "shell.execute_reply": "2021-02-05T10:06:25.623955Z"
    },
    "papermill": {
     "duration": 0.25754,
     "end_time": "2021-02-05T10:06:25.624102",
     "exception": false,
     "start_time": "2021-02-05T10:06:25.366562",
     "status": "completed"
    },
    "tags": []
   },
   "outputs": [
    {
     "data": {
      "text/plain": [
       "<matplotlib.legend.Legend at 0x7f30c38d0908>"
      ]
     },
     "execution_count": 23,
     "metadata": {},
     "output_type": "execute_result"
    },
    {
     "data": {
      "image/png": "[encoded data removed]",
      "text/plain": [
       "<Figure size 1080x720 with 1 Axes>"
      ]
     },
     "metadata": {
      "needs_background": "light"
     },
     "output_type": "display_data"
    }
   ],
   "source": [
    "plt.figure(figsize=(15,10))\n",
    "\n",
    "# Neural Network plots\n",
    "plt.plot(acc_nn.accuracies, 'r-', label = \"Training Accuracies - NN\")\n",
    "plt.plot(acc_nn.test_accuracies, 'g-', label = \"Testing Accuracies - NN\")\n",
    "\n",
    "# Logistic Regression plots\n",
    "plt.plot(acc_lr.accuracies, 'k-', label = \"Training Accuracies - LR\")\n",
    "plt.plot(acc_lr.test_accuracies, 'b-', label = \"Testing Accuracies - LR\")\n",
    "\n",
    "plt.ylim(0.8, 1)\n",
    "\n",
    "plt.legend()\n",
    "\n"
   ]
  },
  {
   "cell_type": "markdown",
   "id": "sexual-flesh",
   "metadata": {
    "papermill": {
     "duration": 0.042529,
     "end_time": "2021-02-05T10:06:25.709302",
     "exception": false,
     "start_time": "2021-02-05T10:06:25.666773",
     "status": "completed"
    },
    "tags": []
   },
   "source": [
    "### From the plot, we can observe the following:\n",
    "- Neural Network achieves higher accuracy than the Logistic Regression model.\n",
    "- This apparently, is because of overfitting, i.e. NN captures more noise than data.\n",
    "- Testing accuracy of NN drops below the Training accuracy at higher epochs. This explains the over-fitting on training data.\n",
    "- Logistic Regression gives a reliable accuracy, without the above mentioned problem.\n"
   ]
  },
  {
   "cell_type": "markdown",
   "id": "institutional-pacific",
   "metadata": {
    "papermill": {
     "duration": 0.039921,
     "end_time": "2021-02-05T10:06:25.788849",
     "exception": false,
     "start_time": "2021-02-05T10:06:25.748928",
     "status": "completed"
    },
    "tags": []
   },
   "source": [
    "### Moving till the last but one layer (excluding it).\n",
    "#### Plotting the outputs of this layer of the NN."
   ]
  },
  {
   "cell_type": "code",
   "execution_count": 24,
   "id": "economic-server",
   "metadata": {
    "execution": {
     "iopub.execute_input": "2021-02-05T10:06:25.875937Z",
     "iopub.status.busy": "2021-02-05T10:06:25.875422Z",
     "iopub.status.idle": "2021-02-05T10:06:25.887455Z",
     "shell.execute_reply": "2021-02-05T10:06:25.886750Z"
    },
    "papermill": {
     "duration": 0.058507,
     "end_time": "2021-02-05T10:06:25.887577",
     "exception": false,
     "start_time": "2021-02-05T10:06:25.829070",
     "status": "completed"
    },
    "tags": []
   },
   "outputs": [],
   "source": [
    "model_new = Model(layers[:-2])"
   ]
  },
  {
   "cell_type": "code",
   "execution_count": 25,
   "id": "varied-upgrade",
   "metadata": {
    "execution": {
     "iopub.execute_input": "2021-02-05T10:06:25.974693Z",
     "iopub.status.busy": "2021-02-05T10:06:25.974270Z",
     "iopub.status.idle": "2021-02-05T10:06:25.992266Z",
     "shell.execute_reply": "2021-02-05T10:06:25.992662Z"
    },
    "papermill": {
     "duration": 0.06307,
     "end_time": "2021-02-05T10:06:25.992787",
     "exception": false,
     "start_time": "2021-02-05T10:06:25.929717",
     "status": "completed"
    },
    "tags": []
   },
   "outputs": [],
   "source": [
    "plot_testing = model_new(testing_xdata)"
   ]
  },
  {
   "cell_type": "code",
   "execution_count": 26,
   "id": "specific-handling",
   "metadata": {
    "execution": {
     "iopub.execute_input": "2021-02-05T10:06:26.092456Z",
     "iopub.status.busy": "2021-02-05T10:06:26.091867Z",
     "iopub.status.idle": "2021-02-05T10:06:26.272125Z",
     "shell.execute_reply": "2021-02-05T10:06:26.271695Z"
    },
    "papermill": {
     "duration": 0.232891,
     "end_time": "2021-02-05T10:06:26.272239",
     "exception": false,
     "start_time": "2021-02-05T10:06:26.039348",
     "status": "completed"
    },
    "tags": []
   },
   "outputs": [
    {
     "data": {
      "text/plain": [
       "Text(0.5, 1.0, 'Outputs')"
      ]
     },
     "execution_count": 26,
     "metadata": {},
     "output_type": "execute_result"
    },
    {
     "data": {
      "image/png": "[encoded data removed]",
      "text/plain": [
       "<Figure size 576x504 with 1 Axes>"
      ]
     },
     "metadata": {
      "needs_background": "light"
     },
     "output_type": "display_data"
    }
   ],
   "source": [
    "plt.figure(figsize=(8,7))\n",
    "plt.scatter(plot_testing[:,0], plot_testing[:,1], alpha = 0.1, c = y_test.ravel());\n",
    "plt.title('Outputs')"
   ]
  },
  {
   "cell_type": "markdown",
   "id": "described-knowing",
   "metadata": {
    "papermill": {
     "duration": 0.041451,
     "end_time": "2021-02-05T10:06:26.366233",
     "exception": false,
     "start_time": "2021-02-05T10:06:26.324782",
     "status": "completed"
    },
    "tags": []
   },
   "source": [
    "### Plotting probability contours"
   ]
  },
  {
   "cell_type": "code",
   "execution_count": 27,
   "id": "needed-growing",
   "metadata": {
    "execution": {
     "iopub.execute_input": "2021-02-05T10:06:26.457539Z",
     "iopub.status.busy": "2021-02-05T10:06:26.456994Z",
     "iopub.status.idle": "2021-02-05T10:06:26.471709Z",
     "shell.execute_reply": "2021-02-05T10:06:26.471106Z"
    },
    "papermill": {
     "duration": 0.064287,
     "end_time": "2021-02-05T10:06:26.471846",
     "exception": false,
     "start_time": "2021-02-05T10:06:26.407559",
     "status": "completed"
    },
    "tags": []
   },
   "outputs": [],
   "source": [
    "model_prob = Model(layers[-2:]) "
   ]
  },
  {
   "cell_type": "code",
   "execution_count": 28,
   "id": "introductory-enforcement",
   "metadata": {
    "execution": {
     "iopub.execute_input": "2021-02-05T10:06:26.564598Z",
     "iopub.status.busy": "2021-02-05T10:06:26.564135Z",
     "iopub.status.idle": "2021-02-05T10:06:26.578676Z",
     "shell.execute_reply": "2021-02-05T10:06:26.579137Z"
    },
    "papermill": {
     "duration": 0.062091,
     "end_time": "2021-02-05T10:06:26.579280",
     "exception": false,
     "start_time": "2021-02-05T10:06:26.517189",
     "status": "completed"
    },
    "tags": []
   },
   "outputs": [],
   "source": [
    "# Adjust the x and y ranges according to the above generated plot.\n",
    "x_range = np.linspace(-4, 1, 100) \n",
    "y_range = np.linspace(-6, 6, 100) \n",
    "x_grid, y_grid = np.meshgrid(x_range, y_range) # x_grid and y_grig are of size 100 X 100\n",
    "\n",
    "# converting x_grid and y_grid to continuous arrays\n",
    "x_grid_flat = np.ravel(x_grid)\n",
    "y_grid_flat = np.ravel(y_grid)\n",
    "\n",
    "# The last layer of the current model takes two columns as input. Hence transpose of np.vstack() is required.\n",
    "X = np.vstack((x_grid_flat, y_grid_flat)).T\n",
    "\n",
    "# x_grid and y_grid are of size 100 x 100\n",
    "probability_contour = model_prob(X).reshape(100,100) "
   ]
  },
  {
   "cell_type": "code",
   "execution_count": 29,
   "id": "understood-landing",
   "metadata": {
    "execution": {
     "iopub.execute_input": "2021-02-05T10:06:26.706563Z",
     "iopub.status.busy": "2021-02-05T10:06:26.706019Z",
     "iopub.status.idle": "2021-02-05T10:06:26.938102Z",
     "shell.execute_reply": "2021-02-05T10:06:26.938482Z"
    },
    "papermill": {
     "duration": 0.287542,
     "end_time": "2021-02-05T10:06:26.938622",
     "exception": false,
     "start_time": "2021-02-05T10:06:26.651080",
     "status": "completed"
    },
    "tags": []
   },
   "outputs": [
    {
     "data": {
      "image/png": "[encoded data removed]",
      "text/plain": [
       "<Figure size 720x648 with 1 Axes>"
      ]
     },
     "metadata": {
      "needs_background": "light"
     },
     "output_type": "display_data"
    }
   ],
   "source": [
    "plt.figure(figsize=(10,9))\n",
    "plt.scatter(plot_testing[:,0], plot_testing[:,1], alpha = 0.1, c = y_test.ravel())\n",
    "contours = plt.contour(x_grid,y_grid,probability_contour)\n",
    "plt.title('Probability Contours')\n",
    "plt.clabel(contours, inline = True );"
   ]
  }
 ],
 "metadata": {
  "kernelspec": {
   "display_name": "Python 3",
   "language": "python",
   "name": "python3"
  },
  "language_info": {
   "codemirror_mode": {
    "name": "ipython",
    "version": 3
   },
   "file_extension": ".py",
   "mimetype": "text/x-python",
   "name": "python",
   "nbconvert_exporter": "python",
   "pygments_lexer": "ipython3",
   "version": "3.6.12"
  },
  "papermill": {
   "duration": 106.134726,
   "end_time": "2021-02-05T10:06:27.295268",
   "environment_variables": {},
   "exception": null,
   "input_path": "2020-08-11-NeuralNetwork.ipynb",
   "output_path": "2020-08-11-NeuralNetwork.ipynb",
   "parameters": {},
   "start_time": "2021-02-05T10:04:41.160542",
   "version": "2.1.2"
  }
 },
 "nbformat": 4,
 "nbformat_minor": 5
}