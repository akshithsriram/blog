{
 "cells": [
  {
   "cell_type": "markdown",
   "metadata": {
    "papermill": {
     "duration": 0.032076,
     "end_time": "2020-10-11T00:07:31.364497",
     "exception": false,
     "start_time": "2020-10-11T00:07:31.332421",
     "status": "completed"
    },
    "tags": []
   },
   "source": [
    "# \"A Basic Neural Network: Differentiate Hand-Written Digits\"\n",
    "\n",
    "- badges: true\n",
    "- author: Akshith Sriram"
   ]
  },
  {
   "cell_type": "markdown",
   "metadata": {
    "papermill": {
     "duration": 0.026002,
     "end_time": "2020-10-11T00:07:31.476442",
     "exception": false,
     "start_time": "2020-10-11T00:07:31.450440",
     "status": "completed"
    },
    "tags": []
   },
   "source": [
    "### Key Objectives:\n",
    "- Building a neural network that differentiates two hand-written digits 3 and 8.\n",
    "- Comparing the results of this Neural Network (NN) to that of a Logistic Regression (LR) model.\n",
    "\n",
    "### Requirements:\n",
    "- 'Kudzu' : A neural network library that was designed during our course by [Univ.AI](www.univ.ai). \n",
    "- MNIST Database\n",
    "\n",
    "If MNIST is not installed, use the command `!pip install mnist` given below.\n",
    "It can be run both from the command line and Jupyter Notebook."
   ]
  },
  {
   "cell_type": "code",
   "execution_count": 1,
   "metadata": {
    "execution": {
     "iopub.execute_input": "2020-10-11T00:07:31.531868Z",
     "iopub.status.busy": "2020-10-11T00:07:31.531262Z",
     "iopub.status.idle": "2020-10-11T00:07:33.106352Z",
     "shell.execute_reply": "2020-10-11T00:07:33.106877Z"
    },
    "papermill": {
     "duration": 1.605595,
     "end_time": "2020-10-11T00:07:33.107056",
     "exception": false,
     "start_time": "2020-10-11T00:07:31.501461",
     "status": "completed"
    },
    "tags": []
   },
   "outputs": [
    {
     "name": "stdout",
     "output_type": "stream",
     "text": [
      "Collecting mnist\r\n"
     ]
    },
    {
     "name": "stdout",
     "output_type": "stream",
     "text": [
      "  Downloading mnist-0.2.2-py2.py3-none-any.whl (3.5 kB)\r\n"
     ]
    },
    {
     "name": "stdout",
     "output_type": "stream",
     "text": [
      "Requirement already satisfied: numpy in /opt/hostedtoolcache/Python/3.6.12/x64/lib/python3.6/site-packages (from mnist) (1.19.2)\r\n"
     ]
    },
    {
     "name": "stdout",
     "output_type": "stream",
     "text": [
      "Installing collected packages: mnist\r\n"
     ]
    },
    {
     "name": "stdout",
     "output_type": "stream",
     "text": [
      "Successfully installed mnist-0.2.2\r\n"
     ]
    }
   ],
   "source": [
    "!pip install mnist "
   ]
  },
  {
   "cell_type": "markdown",
   "metadata": {
    "papermill": {
     "duration": 0.026513,
     "end_time": "2020-10-11T00:07:33.160281",
     "exception": false,
     "start_time": "2020-10-11T00:07:33.133768",
     "status": "completed"
    },
    "tags": []
   },
   "source": [
    "#### Importing necessary libraries"
   ]
  },
  {
   "cell_type": "code",
   "execution_count": 2,
   "metadata": {
    "execution": {
     "iopub.execute_input": "2020-10-11T00:07:33.222269Z",
     "iopub.status.busy": "2020-10-11T00:07:33.221645Z",
     "iopub.status.idle": "2020-10-11T00:07:33.820919Z",
     "shell.execute_reply": "2020-10-11T00:07:33.820306Z"
    },
    "papermill": {
     "duration": 0.633425,
     "end_time": "2020-10-11T00:07:33.821084",
     "exception": false,
     "start_time": "2020-10-11T00:07:33.187659",
     "status": "completed"
    },
    "tags": []
   },
   "outputs": [],
   "source": [
    "%load_ext autoreload\n",
    "%autoreload 2\n",
    "\n",
    "%matplotlib inline\n",
    "import matplotlib.pyplot as plt\n",
    "\n",
    "import numpy as np\n",
    "import pandas as pd"
   ]
  },
  {
   "cell_type": "markdown",
   "metadata": {
    "papermill": {
     "duration": 0.026828,
     "end_time": "2020-10-11T00:07:33.875303",
     "exception": false,
     "start_time": "2020-10-11T00:07:33.848475",
     "status": "completed"
    },
    "tags": []
   },
   "source": [
    "### Preparing the Data"
   ]
  },
  {
   "cell_type": "code",
   "execution_count": 3,
   "metadata": {
    "execution": {
     "iopub.execute_input": "2020-10-11T00:07:33.932386Z",
     "iopub.status.busy": "2020-10-11T00:07:33.931797Z",
     "iopub.status.idle": "2020-10-11T00:07:33.944507Z",
     "shell.execute_reply": "2020-10-11T00:07:33.945012Z"
    },
    "papermill": {
     "duration": 0.043457,
     "end_time": "2020-10-11T00:07:33.945166",
     "exception": false,
     "start_time": "2020-10-11T00:07:33.901709",
     "status": "completed"
    },
    "tags": []
   },
   "outputs": [],
   "source": [
    "import mnist"
   ]
  },
  {
   "cell_type": "code",
   "execution_count": 4,
   "metadata": {
    "execution": {
     "iopub.execute_input": "2020-10-11T00:07:34.002002Z",
     "iopub.status.busy": "2020-10-11T00:07:34.001422Z",
     "iopub.status.idle": "2020-10-11T00:07:34.962262Z",
     "shell.execute_reply": "2020-10-11T00:07:34.961136Z"
    },
    "papermill": {
     "duration": 0.990531,
     "end_time": "2020-10-11T00:07:34.962409",
     "exception": false,
     "start_time": "2020-10-11T00:07:33.971878",
     "status": "completed"
    },
    "tags": []
   },
   "outputs": [],
   "source": [
    "train_images = mnist.train_images()\n",
    "train_labels = mnist.train_labels()"
   ]
  },
  {
   "cell_type": "code",
   "execution_count": 5,
   "metadata": {
    "execution": {
     "iopub.execute_input": "2020-10-11T00:07:35.019667Z",
     "iopub.status.busy": "2020-10-11T00:07:35.019044Z",
     "iopub.status.idle": "2020-10-11T00:07:35.034032Z",
     "shell.execute_reply": "2020-10-11T00:07:35.033533Z"
    },
    "papermill": {
     "duration": 0.045162,
     "end_time": "2020-10-11T00:07:35.034194",
     "exception": false,
     "start_time": "2020-10-11T00:07:34.989032",
     "status": "completed"
    },
    "tags": []
   },
   "outputs": [
    {
     "data": {
      "text/plain": [
       "((60000, 28, 28), (60000,))"
      ]
     },
     "execution_count": 5,
     "metadata": {},
     "output_type": "execute_result"
    }
   ],
   "source": [
    "train_images.shape, train_labels.shape"
   ]
  },
  {
   "cell_type": "code",
   "execution_count": 6,
   "metadata": {
    "execution": {
     "iopub.execute_input": "2020-10-11T00:07:35.095751Z",
     "iopub.status.busy": "2020-10-11T00:07:35.095170Z",
     "iopub.status.idle": "2020-10-11T00:07:35.562581Z",
     "shell.execute_reply": "2020-10-11T00:07:35.561915Z"
    },
    "papermill": {
     "duration": 0.50097,
     "end_time": "2020-10-11T00:07:35.562735",
     "exception": false,
     "start_time": "2020-10-11T00:07:35.061765",
     "status": "completed"
    },
    "tags": []
   },
   "outputs": [],
   "source": [
    "test_images = mnist.test_images()\n",
    "test_labels = mnist.test_labels()"
   ]
  },
  {
   "cell_type": "code",
   "execution_count": 7,
   "metadata": {
    "execution": {
     "iopub.execute_input": "2020-10-11T00:07:35.625217Z",
     "iopub.status.busy": "2020-10-11T00:07:35.624642Z",
     "iopub.status.idle": "2020-10-11T00:07:35.638692Z",
     "shell.execute_reply": "2020-10-11T00:07:35.638211Z"
    },
    "papermill": {
     "duration": 0.047344,
     "end_time": "2020-10-11T00:07:35.638825",
     "exception": false,
     "start_time": "2020-10-11T00:07:35.591481",
     "status": "completed"
    },
    "tags": []
   },
   "outputs": [
    {
     "data": {
      "text/plain": [
       "((10000, 28, 28), (10000,))"
      ]
     },
     "execution_count": 7,
     "metadata": {},
     "output_type": "execute_result"
    }
   ],
   "source": [
    "test_images.shape, test_labels.shape"
   ]
  },
  {
   "cell_type": "code",
   "execution_count": 8,
   "metadata": {
    "execution": {
     "iopub.execute_input": "2020-10-11T00:07:35.699455Z",
     "iopub.status.busy": "2020-10-11T00:07:35.698871Z",
     "iopub.status.idle": "2020-10-11T00:07:35.845161Z",
     "shell.execute_reply": "2020-10-11T00:07:35.845726Z"
    },
    "papermill": {
     "duration": 0.179874,
     "end_time": "2020-10-11T00:07:35.845901",
     "exception": false,
     "start_time": "2020-10-11T00:07:35.666027",
     "status": "completed"
    },
    "tags": []
   },
   "outputs": [
    {
     "name": "stdout",
     "output_type": "stream",
     "text": [
      "2\n"
     ]
    },
    {
     "data": {
      "text/plain": [
       "<matplotlib.image.AxesImage at 0x7f52e406c978>"
      ]
     },
     "execution_count": 8,
     "metadata": {},
     "output_type": "execute_result"
    },
    {
     "data": {
      "image/png": "[encoded data removed]",
      "text/plain": [
       "<Figure size 432x288 with 1 Axes>"
      ]
     },
     "metadata": {
      "needs_background": "light"
     },
     "output_type": "display_data"
    }
   ],
   "source": [
    "image_index = 7776 # You may select anything up to 60,000\n",
    "print(train_labels[image_index]) \n",
    "plt.imshow(train_images[image_index], cmap='Greys')"
   ]
  },
  {
   "cell_type": "markdown",
   "metadata": {
    "papermill": {
     "duration": 0.028948,
     "end_time": "2020-10-11T00:07:35.906415",
     "exception": false,
     "start_time": "2020-10-11T00:07:35.877467",
     "status": "completed"
    },
    "tags": []
   },
   "source": [
    "## Filter data to get 3 and 8 out"
   ]
  },
  {
   "cell_type": "code",
   "execution_count": 9,
   "metadata": {
    "execution": {
     "iopub.execute_input": "2020-10-11T00:07:35.968760Z",
     "iopub.status.busy": "2020-10-11T00:07:35.968170Z",
     "iopub.status.idle": "2020-10-11T00:07:35.987439Z",
     "shell.execute_reply": "2020-10-11T00:07:35.987981Z"
    },
    "papermill": {
     "duration": 0.053235,
     "end_time": "2020-10-11T00:07:35.988147",
     "exception": false,
     "start_time": "2020-10-11T00:07:35.934912",
     "status": "completed"
    },
    "tags": []
   },
   "outputs": [],
   "source": [
    "train_filter = np.where((train_labels == 3 ) | (train_labels == 8))\n",
    "test_filter = np.where((test_labels == 3) | (test_labels == 8))\n",
    "X_train, y_train = train_images[train_filter], train_labels[train_filter]\n",
    "X_test, y_test = test_images[test_filter], test_labels[test_filter]"
   ]
  },
  {
   "cell_type": "markdown",
   "metadata": {
    "papermill": {
     "duration": 0.430681,
     "end_time": "2020-10-11T00:07:36.449631",
     "exception": false,
     "start_time": "2020-10-11T00:07:36.018950",
     "status": "completed"
    },
    "tags": []
   },
   "source": [
    "We normalize the pixel values in the 0 to 1 range"
   ]
  },
  {
   "cell_type": "code",
   "execution_count": 10,
   "metadata": {
    "execution": {
     "iopub.execute_input": "2020-10-11T00:07:36.515175Z",
     "iopub.status.busy": "2020-10-11T00:07:36.513045Z",
     "iopub.status.idle": "2020-10-11T00:07:36.565532Z",
     "shell.execute_reply": "2020-10-11T00:07:36.564928Z"
    },
    "papermill": {
     "duration": 0.087419,
     "end_time": "2020-10-11T00:07:36.565693",
     "exception": false,
     "start_time": "2020-10-11T00:07:36.478274",
     "status": "completed"
    },
    "tags": []
   },
   "outputs": [],
   "source": [
    "X_train = X_train/255.\n",
    "X_test = X_test/255."
   ]
  },
  {
   "cell_type": "markdown",
   "metadata": {
    "papermill": {
     "duration": 0.028447,
     "end_time": "2020-10-11T00:07:36.624116",
     "exception": false,
     "start_time": "2020-10-11T00:07:36.595669",
     "status": "completed"
    },
    "tags": []
   },
   "source": [
    "Setup the labels as 1 (when the digit is 3) and 0 (when the digit is 8)"
   ]
  },
  {
   "cell_type": "code",
   "execution_count": 11,
   "metadata": {
    "execution": {
     "iopub.execute_input": "2020-10-11T00:07:36.684845Z",
     "iopub.status.busy": "2020-10-11T00:07:36.684243Z",
     "iopub.status.idle": "2020-10-11T00:07:36.696868Z",
     "shell.execute_reply": "2020-10-11T00:07:36.696391Z"
    },
    "papermill": {
     "duration": 0.044508,
     "end_time": "2020-10-11T00:07:36.697000",
     "exception": false,
     "start_time": "2020-10-11T00:07:36.652492",
     "status": "completed"
    },
    "tags": []
   },
   "outputs": [],
   "source": [
    "y_train = 1*(y_train==3)\n",
    "y_test = 1*(y_test==3)"
   ]
  },
  {
   "cell_type": "code",
   "execution_count": 12,
   "metadata": {
    "execution": {
     "iopub.execute_input": "2020-10-11T00:07:36.766230Z",
     "iopub.status.busy": "2020-10-11T00:07:36.765622Z",
     "iopub.status.idle": "2020-10-11T00:07:36.775141Z",
     "shell.execute_reply": "2020-10-11T00:07:36.774662Z"
    },
    "papermill": {
     "duration": 0.04978,
     "end_time": "2020-10-11T00:07:36.775272",
     "exception": false,
     "start_time": "2020-10-11T00:07:36.725492",
     "status": "completed"
    },
    "tags": []
   },
   "outputs": [
    {
     "data": {
      "text/plain": [
       "((11982, 28, 28), (1984, 28, 28))"
      ]
     },
     "execution_count": 12,
     "metadata": {},
     "output_type": "execute_result"
    }
   ],
   "source": [
    "X_train.shape, X_test.shape"
   ]
  },
  {
   "cell_type": "markdown",
   "metadata": {
    "papermill": {
     "duration": 0.028655,
     "end_time": "2020-10-11T00:07:36.832449",
     "exception": false,
     "start_time": "2020-10-11T00:07:36.803794",
     "status": "completed"
    },
    "tags": []
   },
   "source": [
    "### Reshape the input data to create a linear array"
   ]
  },
  {
   "cell_type": "code",
   "execution_count": 13,
   "metadata": {
    "execution": {
     "iopub.execute_input": "2020-10-11T00:07:36.896756Z",
     "iopub.status.busy": "2020-10-11T00:07:36.896179Z",
     "iopub.status.idle": "2020-10-11T00:07:36.909444Z",
     "shell.execute_reply": "2020-10-11T00:07:36.908939Z"
    },
    "papermill": {
     "duration": 0.048234,
     "end_time": "2020-10-11T00:07:36.909574",
     "exception": false,
     "start_time": "2020-10-11T00:07:36.861340",
     "status": "completed"
    },
    "tags": []
   },
   "outputs": [
    {
     "data": {
      "text/plain": [
       "((11982, 784), (1984, 784))"
      ]
     },
     "execution_count": 13,
     "metadata": {},
     "output_type": "execute_result"
    }
   ],
   "source": [
    "X_train = X_train.reshape(X_train.shape[0], -1)\n",
    "X_test = X_test.reshape(X_test.shape[0], -1)\n",
    "X_train.shape, X_test.shape"
   ]
  },
  {
   "cell_type": "markdown",
   "metadata": {
    "papermill": {
     "duration": 0.028707,
     "end_time": "2020-10-11T00:07:36.967152",
     "exception": false,
     "start_time": "2020-10-11T00:07:36.938445",
     "status": "completed"
    },
    "tags": []
   },
   "source": [
    "### Importing appropriate functions from 'Kudzu'"
   ]
  },
  {
   "cell_type": "code",
   "execution_count": 14,
   "metadata": {
    "execution": {
     "iopub.execute_input": "2020-10-11T00:07:37.029963Z",
     "iopub.status.busy": "2020-10-11T00:07:37.029374Z",
     "iopub.status.idle": "2020-10-11T00:07:37.053778Z",
     "shell.execute_reply": "2020-10-11T00:07:37.053194Z"
    },
    "papermill": {
     "duration": 0.05782,
     "end_time": "2020-10-11T00:07:37.053934",
     "exception": false,
     "start_time": "2020-10-11T00:07:36.996114",
     "status": "completed"
    },
    "tags": []
   },
   "outputs": [],
   "source": [
    "from kudzu.layer import Sigmoid\n",
    "from kudzu.layer import Relu\n",
    "from kudzu.layer import Affine, Sigmoid\n",
    "\n",
    "from kudzu.model import Model\n",
    "from kudzu.train import Learner\n",
    "from kudzu.optim import GD\n",
    "from kudzu.data import Data, Dataloader, Sampler\n",
    "\n",
    "from kudzu.callbacks import AccCallback\n",
    "from kudzu.callbacks import ClfCallback\n",
    "\n",
    "from kudzu.loss import MSE"
   ]
  },
  {
   "cell_type": "markdown",
   "metadata": {
    "papermill": {
     "duration": 0.028855,
     "end_time": "2020-10-11T00:07:37.112299",
     "exception": false,
     "start_time": "2020-10-11T00:07:37.083444",
     "status": "completed"
    },
    "tags": []
   },
   "source": [
    "### Let us create a `Config` class, to store important parameters. \n",
    "This class essentially plays the role of a dictionary."
   ]
  },
  {
   "cell_type": "code",
   "execution_count": 15,
   "metadata": {
    "execution": {
     "iopub.execute_input": "2020-10-11T00:07:37.179167Z",
     "iopub.status.busy": "2020-10-11T00:07:37.178402Z",
     "iopub.status.idle": "2020-10-11T00:07:37.188550Z",
     "shell.execute_reply": "2020-10-11T00:07:37.189033Z"
    },
    "papermill": {
     "duration": 0.047917,
     "end_time": "2020-10-11T00:07:37.189198",
     "exception": false,
     "start_time": "2020-10-11T00:07:37.141281",
     "status": "completed"
    },
    "tags": []
   },
   "outputs": [],
   "source": [
    "class Config:\n",
    "    pass\n",
    "config = Config()\n",
    "config.lr = 0.001\n",
    "config.num_epochs = 251\n",
    "config.bs = 50"
   ]
  },
  {
   "cell_type": "markdown",
   "metadata": {
    "papermill": {
     "duration": 0.029035,
     "end_time": "2020-10-11T00:07:37.247650",
     "exception": false,
     "start_time": "2020-10-11T00:07:37.218615",
     "status": "completed"
    },
    "tags": []
   },
   "source": [
    "### Initializing data to the variables"
   ]
  },
  {
   "cell_type": "code",
   "execution_count": 16,
   "metadata": {
    "execution": {
     "iopub.execute_input": "2020-10-11T00:07:37.313774Z",
     "iopub.status.busy": "2020-10-11T00:07:37.313126Z",
     "iopub.status.idle": "2020-10-11T00:07:37.325749Z",
     "shell.execute_reply": "2020-10-11T00:07:37.326245Z"
    },
    "papermill": {
     "duration": 0.049462,
     "end_time": "2020-10-11T00:07:37.326413",
     "exception": false,
     "start_time": "2020-10-11T00:07:37.276951",
     "status": "completed"
    },
    "tags": []
   },
   "outputs": [],
   "source": [
    "data = Data(X_train, y_train.reshape(-1,1))\n",
    "sampler = Sampler(data, config.bs, shuffle=True)\n",
    "\n",
    "dl = Dataloader(data, sampler)\n",
    "\n",
    "opt = GD(config.lr)\n",
    "loss = MSE()"
   ]
  },
  {
   "cell_type": "code",
   "execution_count": 17,
   "metadata": {
    "execution": {
     "iopub.execute_input": "2020-10-11T00:07:37.392958Z",
     "iopub.status.busy": "2020-10-11T00:07:37.392369Z",
     "iopub.status.idle": "2020-10-11T00:07:37.409394Z",
     "shell.execute_reply": "2020-10-11T00:07:37.408901Z"
    },
    "papermill": {
     "duration": 0.053692,
     "end_time": "2020-10-11T00:07:37.409531",
     "exception": false,
     "start_time": "2020-10-11T00:07:37.355839",
     "status": "completed"
    },
    "tags": []
   },
   "outputs": [],
   "source": [
    "training_xdata = X_train\n",
    "testing_xdata = X_test\n",
    "training_ydata = y_train.reshape(-1,1)\n",
    "testing_ydata = y_test.reshape(-1,1)"
   ]
  },
  {
   "cell_type": "markdown",
   "metadata": {
    "papermill": {
     "duration": 0.028818,
     "end_time": "2020-10-11T00:07:37.467388",
     "exception": false,
     "start_time": "2020-10-11T00:07:37.438570",
     "status": "completed"
    },
    "tags": []
   },
   "source": [
    "### Running Models with the Training data\n",
    "Details about the network layers:\n",
    "- A first affine layer has 784 inputs and does 100 affine transforms. These are followed by a Relu\n",
    "- A second affine layer has 100 inputs from the 100 activations of the past layer, and does 100 affine transforms. These are followed by a Relu\n",
    "- A third affine layer has 100 activations and does 2 affine transformations to create an embedding for visualization. There is no non-linearity here.\n",
    "- A final \"logistic regression\" which has an affine transform from 2 inputs to 1 output, which is squeezed through a sigmoid.\n",
    "\n",
    "Help taken from Anshuman's Notebook."
   ]
  },
  {
   "cell_type": "code",
   "execution_count": 18,
   "metadata": {
    "execution": {
     "iopub.execute_input": "2020-10-11T00:07:37.531624Z",
     "iopub.status.busy": "2020-10-11T00:07:37.531019Z",
     "iopub.status.idle": "2020-10-11T00:07:37.548899Z",
     "shell.execute_reply": "2020-10-11T00:07:37.549404Z"
    },
    "papermill": {
     "duration": 0.053422,
     "end_time": "2020-10-11T00:07:37.549577",
     "exception": false,
     "start_time": "2020-10-11T00:07:37.496155",
     "status": "completed"
    },
    "tags": []
   },
   "outputs": [],
   "source": [
    "# layers for the Neural Network\n",
    "layers = [Affine(\"first\", 784, 100), Relu(\"first\"), Affine(\"second\", 100, 100), Relu(\"second\"), Affine(\"third\", 100, 2), Affine(\"final\", 2, 1), Sigmoid(\"final\")]\n",
    "model_nn = Model(layers)\n",
    "\n",
    "# layers for the Logistic Regression\n",
    "layers_lr = [Affine(\"logits\", 784, 1), Sigmoid(\"sigmoid\")]\n",
    "model_lr = Model(layers_lr)"
   ]
  },
  {
   "cell_type": "code",
   "execution_count": 19,
   "metadata": {
    "execution": {
     "iopub.execute_input": "2020-10-11T00:07:37.613182Z",
     "iopub.status.busy": "2020-10-11T00:07:37.612587Z",
     "iopub.status.idle": "2020-10-11T00:07:37.625967Z",
     "shell.execute_reply": "2020-10-11T00:07:37.625479Z"
    },
    "papermill": {
     "duration": 0.046846,
     "end_time": "2020-10-11T00:07:37.626103",
     "exception": false,
     "start_time": "2020-10-11T00:07:37.579257",
     "status": "completed"
    },
    "tags": []
   },
   "outputs": [],
   "source": [
    "# suffix _nn stands for Neural Network.\n",
    "learner_nn = Learner(loss, model_nn, opt, config.num_epochs)\n",
    "acc_nn = ClfCallback(learner_nn, config.bs, training_xdata , testing_xdata, training_ydata, testing_ydata)\n",
    "learner_nn.set_callbacks([acc_nn])"
   ]
  },
  {
   "cell_type": "code",
   "execution_count": 20,
   "metadata": {
    "execution": {
     "iopub.execute_input": "2020-10-11T00:07:37.688508Z",
     "iopub.status.busy": "2020-10-11T00:07:37.687446Z",
     "iopub.status.idle": "2020-10-11T00:09:02.893131Z",
     "shell.execute_reply": "2020-10-11T00:09:02.892632Z"
    },
    "papermill": {
     "duration": 85.238127,
     "end_time": "2020-10-11T00:09:02.893259",
     "exception": false,
     "start_time": "2020-10-11T00:07:37.655132",
     "status": "completed"
    },
    "tags": []
   },
   "outputs": [
    {
     "name": "stdout",
     "output_type": "stream",
     "text": [
      "====== Neural Network ======\n"
     ]
    },
    {
     "name": "stdout",
     "output_type": "stream",
     "text": [
      "Epoch 0, Loss 0.2469\n",
      "Training Accuracy: 0.6224, Testing Accuracy: 0.6416\n",
      "\n"
     ]
    },
    {
     "name": "stdout",
     "output_type": "stream",
     "text": [
      "Epoch 10, Loss 0.1196\n",
      "Training Accuracy: 0.9057, Testing Accuracy: 0.9173\n",
      "\n"
     ]
    },
    {
     "name": "stdout",
     "output_type": "stream",
     "text": [
      "Epoch 20, Loss 0.0661\n",
      "Training Accuracy: 0.9332, Testing Accuracy: 0.9430\n",
      "\n"
     ]
    },
    {
     "name": "stdout",
     "output_type": "stream",
     "text": [
      "Epoch 30, Loss 0.0493\n",
      "Training Accuracy: 0.9469, Testing Accuracy: 0.9546\n",
      "\n"
     ]
    },
    {
     "name": "stdout",
     "output_type": "stream",
     "text": [
      "Epoch 40, Loss 0.0415\n",
      "Training Accuracy: 0.9542, Testing Accuracy: 0.9622\n",
      "\n"
     ]
    },
    {
     "name": "stdout",
     "output_type": "stream",
     "text": [
      "Epoch 50, Loss 0.037\n",
      "Training Accuracy: 0.9582, Testing Accuracy: 0.9642\n",
      "\n"
     ]
    },
    {
     "name": "stdout",
     "output_type": "stream",
     "text": [
      "Epoch 60, Loss 0.0341\n",
      "Training Accuracy: 0.9624, Testing Accuracy: 0.9667\n",
      "\n"
     ]
    },
    {
     "name": "stdout",
     "output_type": "stream",
     "text": [
      "Epoch 70, Loss 0.032\n",
      "Training Accuracy: 0.9646, Testing Accuracy: 0.9677\n",
      "\n"
     ]
    },
    {
     "name": "stdout",
     "output_type": "stream",
     "text": [
      "Epoch 80, Loss 0.0304\n",
      "Training Accuracy: 0.9659, Testing Accuracy: 0.9682\n",
      "\n"
     ]
    },
    {
     "name": "stdout",
     "output_type": "stream",
     "text": [
      "Epoch 90, Loss 0.0292\n",
      "Training Accuracy: 0.9668, Testing Accuracy: 0.9677\n",
      "\n"
     ]
    },
    {
     "name": "stdout",
     "output_type": "stream",
     "text": [
      "Epoch 100, Loss 0.0281\n",
      "Training Accuracy: 0.9676, Testing Accuracy: 0.9693\n",
      "\n"
     ]
    },
    {
     "name": "stdout",
     "output_type": "stream",
     "text": [
      "Epoch 110, Loss 0.0272\n",
      "Training Accuracy: 0.9678, Testing Accuracy: 0.9693\n",
      "\n"
     ]
    },
    {
     "name": "stdout",
     "output_type": "stream",
     "text": [
      "Epoch 120, Loss 0.0264\n",
      "Training Accuracy: 0.9690, Testing Accuracy: 0.9693\n",
      "\n"
     ]
    },
    {
     "name": "stdout",
     "output_type": "stream",
     "text": [
      "Epoch 130, Loss 0.0257\n",
      "Training Accuracy: 0.9696, Testing Accuracy: 0.9698\n",
      "\n"
     ]
    },
    {
     "name": "stdout",
     "output_type": "stream",
     "text": [
      "Epoch 140, Loss 0.0251\n",
      "Training Accuracy: 0.9705, Testing Accuracy: 0.9703\n",
      "\n"
     ]
    },
    {
     "name": "stdout",
     "output_type": "stream",
     "text": [
      "Epoch 150, Loss 0.0245\n",
      "Training Accuracy: 0.9715, Testing Accuracy: 0.9708\n",
      "\n"
     ]
    },
    {
     "name": "stdout",
     "output_type": "stream",
     "text": [
      "Epoch 160, Loss 0.024\n",
      "Training Accuracy: 0.9725, Testing Accuracy: 0.9713\n",
      "\n"
     ]
    },
    {
     "name": "stdout",
     "output_type": "stream",
     "text": [
      "Epoch 170, Loss 0.0235\n",
      "Training Accuracy: 0.9729, Testing Accuracy: 0.9723\n",
      "\n"
     ]
    },
    {
     "name": "stdout",
     "output_type": "stream",
     "text": [
      "Epoch 180, Loss 0.0231\n",
      "Training Accuracy: 0.9731, Testing Accuracy: 0.9733\n",
      "\n"
     ]
    },
    {
     "name": "stdout",
     "output_type": "stream",
     "text": [
      "Epoch 190, Loss 0.0226\n",
      "Training Accuracy: 0.9735, Testing Accuracy: 0.9738\n",
      "\n"
     ]
    },
    {
     "name": "stdout",
     "output_type": "stream",
     "text": [
      "Epoch 200, Loss 0.0222\n",
      "Training Accuracy: 0.9738, Testing Accuracy: 0.9738\n",
      "\n"
     ]
    },
    {
     "name": "stdout",
     "output_type": "stream",
     "text": [
      "Epoch 210, Loss 0.0218\n",
      "Training Accuracy: 0.9740, Testing Accuracy: 0.9738\n",
      "\n"
     ]
    },
    {
     "name": "stdout",
     "output_type": "stream",
     "text": [
      "Epoch 220, Loss 0.0214\n",
      "Training Accuracy: 0.9745, Testing Accuracy: 0.9743\n",
      "\n"
     ]
    },
    {
     "name": "stdout",
     "output_type": "stream",
     "text": [
      "Epoch 230, Loss 0.021\n",
      "Training Accuracy: 0.9748, Testing Accuracy: 0.9743\n",
      "\n"
     ]
    },
    {
     "name": "stdout",
     "output_type": "stream",
     "text": [
      "Epoch 240, Loss 0.0206\n",
      "Training Accuracy: 0.9755, Testing Accuracy: 0.9743\n",
      "\n"
     ]
    },
    {
     "name": "stdout",
     "output_type": "stream",
     "text": [
      "Epoch 250, Loss 0.0202\n",
      "Training Accuracy: 0.9765, Testing Accuracy: 0.9743\n",
      "\n"
     ]
    },
    {
     "data": {
      "text/plain": [
       "0.03375967435271329"
      ]
     },
     "execution_count": 20,
     "metadata": {},
     "output_type": "execute_result"
    }
   ],
   "source": [
    "print(\"====== Neural Network ======\")\n",
    "learner_nn.train_loop(dl)"
   ]
  },
  {
   "cell_type": "markdown",
   "metadata": {
    "papermill": {
     "duration": 0.079936,
     "end_time": "2020-10-11T00:09:03.010799",
     "exception": false,
     "start_time": "2020-10-11T00:09:02.930863",
     "status": "completed"
    },
    "tags": []
   },
   "source": [
    "### Logistic Regression based Implementation."
   ]
  },
  {
   "cell_type": "code",
   "execution_count": 21,
   "metadata": {
    "execution": {
     "iopub.execute_input": "2020-10-11T00:09:03.090030Z",
     "iopub.status.busy": "2020-10-11T00:09:03.089424Z",
     "iopub.status.idle": "2020-10-11T00:09:03.102425Z",
     "shell.execute_reply": "2020-10-11T00:09:03.102937Z"
    },
    "papermill": {
     "duration": 0.055293,
     "end_time": "2020-10-11T00:09:03.103086",
     "exception": false,
     "start_time": "2020-10-11T00:09:03.047793",
     "status": "completed"
    },
    "tags": []
   },
   "outputs": [],
   "source": [
    "learner_lr = Learner(loss, model_lr, opt, config.num_epochs)\n",
    "acc_lr = ClfCallback(learner_lr, config.bs, training_xdata , testing_xdata, training_ydata, testing_ydata)\n",
    "learner_lr.set_callbacks([acc_lr])"
   ]
  },
  {
   "cell_type": "code",
   "execution_count": 22,
   "metadata": {
    "execution": {
     "iopub.execute_input": "2020-10-11T00:09:03.185481Z",
     "iopub.status.busy": "2020-10-11T00:09:03.183813Z",
     "iopub.status.idle": "2020-10-11T00:09:20.557688Z",
     "shell.execute_reply": "2020-10-11T00:09:20.558255Z"
    },
    "papermill": {
     "duration": 17.417874,
     "end_time": "2020-10-11T00:09:20.558412",
     "exception": false,
     "start_time": "2020-10-11T00:09:03.140538",
     "status": "completed"
    },
    "tags": []
   },
   "outputs": [
    {
     "name": "stdout",
     "output_type": "stream",
     "text": [
      "====== Logistic Regression ======\n",
      "Epoch 0, Loss 0.2558\n",
      "Training Accuracy: 0.6320, Testing Accuracy: 0.6285\n",
      "\n"
     ]
    },
    {
     "name": "stdout",
     "output_type": "stream",
     "text": [
      "Epoch 10, Loss 0.1031\n",
      "Training Accuracy: 0.9121, Testing Accuracy: 0.9294\n",
      "\n"
     ]
    },
    {
     "name": "stdout",
     "output_type": "stream",
     "text": [
      "Epoch 20, Loss 0.079\n",
      "Training Accuracy: 0.9281, Testing Accuracy: 0.9430\n",
      "\n"
     ]
    },
    {
     "name": "stdout",
     "output_type": "stream",
     "text": [
      "Epoch 30, Loss 0.068\n",
      "Training Accuracy: 0.9359, Testing Accuracy: 0.9511\n",
      "\n"
     ]
    },
    {
     "name": "stdout",
     "output_type": "stream",
     "text": [
      "Epoch 40, Loss 0.0613\n",
      "Training Accuracy: 0.9415, Testing Accuracy: 0.9551\n",
      "\n"
     ]
    },
    {
     "name": "stdout",
     "output_type": "stream",
     "text": [
      "Epoch 50, Loss 0.0568\n",
      "Training Accuracy: 0.9463, Testing Accuracy: 0.9582\n",
      "\n"
     ]
    },
    {
     "name": "stdout",
     "output_type": "stream",
     "text": [
      "Epoch 60, Loss 0.0535\n",
      "Training Accuracy: 0.9484, Testing Accuracy: 0.9602\n",
      "\n"
     ]
    },
    {
     "name": "stdout",
     "output_type": "stream",
     "text": [
      "Epoch 70, Loss 0.0509\n",
      "Training Accuracy: 0.9501, Testing Accuracy: 0.9602\n",
      "\n"
     ]
    },
    {
     "name": "stdout",
     "output_type": "stream",
     "text": [
      "Epoch 80, Loss 0.0488\n",
      "Training Accuracy: 0.9523, Testing Accuracy: 0.9592\n",
      "\n"
     ]
    },
    {
     "name": "stdout",
     "output_type": "stream",
     "text": [
      "Epoch 90, Loss 0.0471\n",
      "Training Accuracy: 0.9533, Testing Accuracy: 0.9602\n",
      "\n"
     ]
    },
    {
     "name": "stdout",
     "output_type": "stream",
     "text": [
      "Epoch 100, Loss 0.0457\n",
      "Training Accuracy: 0.9546, Testing Accuracy: 0.9607\n",
      "\n"
     ]
    },
    {
     "name": "stdout",
     "output_type": "stream",
     "text": [
      "Epoch 110, Loss 0.0445\n",
      "Training Accuracy: 0.9553, Testing Accuracy: 0.9632\n",
      "\n"
     ]
    },
    {
     "name": "stdout",
     "output_type": "stream",
     "text": [
      "Epoch 120, Loss 0.0435\n",
      "Training Accuracy: 0.9569, Testing Accuracy: 0.9647\n",
      "\n"
     ]
    },
    {
     "name": "stdout",
     "output_type": "stream",
     "text": [
      "Epoch 130, Loss 0.0425\n",
      "Training Accuracy: 0.9574, Testing Accuracy: 0.9652\n",
      "\n"
     ]
    },
    {
     "name": "stdout",
     "output_type": "stream",
     "text": [
      "Epoch 140, Loss 0.0417\n",
      "Training Accuracy: 0.9584, Testing Accuracy: 0.9657\n",
      "\n"
     ]
    },
    {
     "name": "stdout",
     "output_type": "stream",
     "text": [
      "Epoch 150, Loss 0.041\n",
      "Training Accuracy: 0.9592, Testing Accuracy: 0.9657\n",
      "\n"
     ]
    },
    {
     "name": "stdout",
     "output_type": "stream",
     "text": [
      "Epoch 160, Loss 0.0403\n",
      "Training Accuracy: 0.9593, Testing Accuracy: 0.9662\n",
      "\n"
     ]
    },
    {
     "name": "stdout",
     "output_type": "stream",
     "text": [
      "Epoch 170, Loss 0.0397\n",
      "Training Accuracy: 0.9594, Testing Accuracy: 0.9662\n",
      "\n"
     ]
    },
    {
     "name": "stdout",
     "output_type": "stream",
     "text": [
      "Epoch 180, Loss 0.0391\n",
      "Training Accuracy: 0.9602, Testing Accuracy: 0.9662\n",
      "\n"
     ]
    },
    {
     "name": "stdout",
     "output_type": "stream",
     "text": [
      "Epoch 190, Loss 0.0386\n",
      "Training Accuracy: 0.9605, Testing Accuracy: 0.9662\n",
      "\n"
     ]
    },
    {
     "name": "stdout",
     "output_type": "stream",
     "text": [
      "Epoch 200, Loss 0.0382\n",
      "Training Accuracy: 0.9609, Testing Accuracy: 0.9662\n",
      "\n"
     ]
    },
    {
     "name": "stdout",
     "output_type": "stream",
     "text": [
      "Epoch 210, Loss 0.0377\n",
      "Training Accuracy: 0.9609, Testing Accuracy: 0.9662\n",
      "\n"
     ]
    },
    {
     "name": "stdout",
     "output_type": "stream",
     "text": [
      "Epoch 220, Loss 0.0373\n",
      "Training Accuracy: 0.9613, Testing Accuracy: 0.9662\n",
      "\n"
     ]
    },
    {
     "name": "stdout",
     "output_type": "stream",
     "text": [
      "Epoch 230, Loss 0.0369\n",
      "Training Accuracy: 0.9613, Testing Accuracy: 0.9667\n",
      "\n"
     ]
    },
    {
     "name": "stdout",
     "output_type": "stream",
     "text": [
      "Epoch 240, Loss 0.0366\n",
      "Training Accuracy: 0.9613, Testing Accuracy: 0.9677\n",
      "\n"
     ]
    },
    {
     "name": "stdout",
     "output_type": "stream",
     "text": [
      "Epoch 250, Loss 0.0362\n",
      "Training Accuracy: 0.9614, Testing Accuracy: 0.9677\n",
      "\n"
     ]
    },
    {
     "data": {
      "text/plain": [
       "0.035880605132794736"
      ]
     },
     "execution_count": 22,
     "metadata": {},
     "output_type": "execute_result"
    }
   ],
   "source": [
    "print(\"====== Logistic Regression ======\")\n",
    "learner_lr.train_loop(dl)"
   ]
  },
  {
   "cell_type": "markdown",
   "metadata": {
    "papermill": {
     "duration": 0.044638,
     "end_time": "2020-10-11T00:09:20.647956",
     "exception": false,
     "start_time": "2020-10-11T00:09:20.603318",
     "status": "completed"
    },
    "tags": []
   },
   "source": [
    "### Comparing results of NN and LR"
   ]
  },
  {
   "cell_type": "code",
   "execution_count": 23,
   "metadata": {
    "execution": {
     "iopub.execute_input": "2020-10-11T00:09:20.746269Z",
     "iopub.status.busy": "2020-10-11T00:09:20.745526Z",
     "iopub.status.idle": "2020-10-11T00:09:20.984798Z",
     "shell.execute_reply": "2020-10-11T00:09:20.985267Z"
    },
    "papermill": {
     "duration": 0.293405,
     "end_time": "2020-10-11T00:09:20.985430",
     "exception": false,
     "start_time": "2020-10-11T00:09:20.692025",
     "status": "completed"
    },
    "tags": []
   },
   "outputs": [
    {
     "data": {
      "text/plain": [
       "<matplotlib.legend.Legend at 0x7f52e1bd00f0>"
      ]
     },
     "execution_count": 23,
     "metadata": {},
     "output_type": "execute_result"
    },
    {
     "data": {
      "image/png": "[encoded data removed]",
      "text/plain": [
       "<Figure size 1080x720 with 1 Axes>"
      ]
     },
     "metadata": {
      "needs_background": "light"
     },
     "output_type": "display_data"
    }
   ],
   "source": [
    "plt.figure(figsize=(15,10))\n",
    "\n",
    "# Neural Network plots\n",
    "plt.plot(acc_nn.accuracies, 'r-', label = \"Training Accuracies - NN\")\n",
    "plt.plot(acc_nn.test_accuracies, 'g-', label = \"Testing Accuracies - NN\")\n",
    "\n",
    "# Logistic Regression plots\n",
    "plt.plot(acc_lr.accuracies, 'k-', label = \"Training Accuracies - LR\")\n",
    "plt.plot(acc_lr.test_accuracies, 'b-', label = \"Testing Accuracies - LR\")\n",
    "\n",
    "plt.ylim(0.8, 1)\n",
    "\n",
    "plt.legend()\n",
    "\n"
   ]
  },
  {
   "cell_type": "markdown",
   "metadata": {
    "papermill": {
     "duration": 0.046059,
     "end_time": "2020-10-11T00:09:21.077928",
     "exception": false,
     "start_time": "2020-10-11T00:09:21.031869",
     "status": "completed"
    },
    "tags": []
   },
   "source": [
    "### From the plot, we can observe the following:\n",
    "- Neural Network achieves higher accuracy than the Logistic Regression model.\n",
    "- This apparently, is because of overfitting, i.e. NN captures more noise than data.\n",
    "- Testing accuracy of NN drops below the Training accuracy at higher epochs. This explains the over-fitting on training data.\n",
    "- Logistic Regression gives a reliable accuracy, without the above mentioned problem.\n"
   ]
  },
  {
   "cell_type": "markdown",
   "metadata": {
    "papermill": {
     "duration": 0.045856,
     "end_time": "2020-10-11T00:09:21.169686",
     "exception": false,
     "start_time": "2020-10-11T00:09:21.123830",
     "status": "completed"
    },
    "tags": []
   },
   "source": [
    "### Moving till the last but one layer (excluding it).\n",
    "#### Plotting the outputs of this layer of the NN."
   ]
  },
  {
   "cell_type": "code",
   "execution_count": 24,
   "metadata": {
    "execution": {
     "iopub.execute_input": "2020-10-11T00:09:21.266112Z",
     "iopub.status.busy": "2020-10-11T00:09:21.265516Z",
     "iopub.status.idle": "2020-10-11T00:09:21.279134Z",
     "shell.execute_reply": "2020-10-11T00:09:21.279596Z"
    },
    "papermill": {
     "duration": 0.064252,
     "end_time": "2020-10-11T00:09:21.279749",
     "exception": false,
     "start_time": "2020-10-11T00:09:21.215497",
     "status": "completed"
    },
    "tags": []
   },
   "outputs": [],
   "source": [
    "model_new = Model(layers[:-2])"
   ]
  },
  {
   "cell_type": "code",
   "execution_count": 25,
   "metadata": {
    "execution": {
     "iopub.execute_input": "2020-10-11T00:09:21.377710Z",
     "iopub.status.busy": "2020-10-11T00:09:21.377120Z",
     "iopub.status.idle": "2020-10-11T00:09:21.399357Z",
     "shell.execute_reply": "2020-10-11T00:09:21.398855Z"
    },
    "papermill": {
     "duration": 0.072783,
     "end_time": "2020-10-11T00:09:21.399490",
     "exception": false,
     "start_time": "2020-10-11T00:09:21.326707",
     "status": "completed"
    },
    "tags": []
   },
   "outputs": [],
   "source": [
    "plot_testing = model_new(testing_xdata)"
   ]
  },
  {
   "cell_type": "code",
   "execution_count": 26,
   "metadata": {
    "execution": {
     "iopub.execute_input": "2020-10-11T00:09:21.507479Z",
     "iopub.status.busy": "2020-10-11T00:09:21.506907Z",
     "iopub.status.idle": "2020-10-11T00:09:21.717532Z",
     "shell.execute_reply": "2020-10-11T00:09:21.717050Z"
    },
    "papermill": {
     "duration": 0.270947,
     "end_time": "2020-10-11T00:09:21.717667",
     "exception": false,
     "start_time": "2020-10-11T00:09:21.446720",
     "status": "completed"
    },
    "tags": []
   },
   "outputs": [
    {
     "data": {
      "text/plain": [
       "Text(0.5, 1.0, 'Outputs')"
      ]
     },
     "execution_count": 26,
     "metadata": {},
     "output_type": "execute_result"
    },
    {
     "data": {
      "image/png": "[encoded data removed]",
      "text/plain": [
       "<Figure size 576x504 with 1 Axes>"
      ]
     },
     "metadata": {
      "needs_background": "light"
     },
     "output_type": "display_data"
    }
   ],
   "source": [
    "plt.figure(figsize=(8,7))\n",
    "plt.scatter(plot_testing[:,0], plot_testing[:,1], alpha = 0.1, c = y_test.ravel());\n",
    "plt.title('Outputs')"
   ]
  },
  {
   "cell_type": "markdown",
   "metadata": {
    "papermill": {
     "duration": 0.049148,
     "end_time": "2020-10-11T00:09:21.816415",
     "exception": false,
     "start_time": "2020-10-11T00:09:21.767267",
     "status": "completed"
    },
    "tags": []
   },
   "source": [
    "### Plotting probability contours"
   ]
  },
  {
   "cell_type": "code",
   "execution_count": 27,
   "metadata": {
    "execution": {
     "iopub.execute_input": "2020-10-11T00:09:21.920307Z",
     "iopub.status.busy": "2020-10-11T00:09:21.919661Z",
     "iopub.status.idle": "2020-10-11T00:09:21.931019Z",
     "shell.execute_reply": "2020-10-11T00:09:21.931436Z"
    },
    "papermill": {
     "duration": 0.066762,
     "end_time": "2020-10-11T00:09:21.931574",
     "exception": false,
     "start_time": "2020-10-11T00:09:21.864812",
     "status": "completed"
    },
    "tags": []
   },
   "outputs": [],
   "source": [
    "model_prob = Model(layers[-2:]) "
   ]
  },
  {
   "cell_type": "code",
   "execution_count": 28,
   "metadata": {
    "execution": {
     "iopub.execute_input": "2020-10-11T00:09:22.035560Z",
     "iopub.status.busy": "2020-10-11T00:09:22.034972Z",
     "iopub.status.idle": "2020-10-11T00:09:22.049468Z",
     "shell.execute_reply": "2020-10-11T00:09:22.049912Z"
    },
    "papermill": {
     "duration": 0.069767,
     "end_time": "2020-10-11T00:09:22.050065",
     "exception": false,
     "start_time": "2020-10-11T00:09:21.980298",
     "status": "completed"
    },
    "tags": []
   },
   "outputs": [],
   "source": [
    "# Adjust the x and y ranges according to the above generated plot.\n",
    "x_range = np.linspace(-4, 1, 100) \n",
    "y_range = np.linspace(-6, 6, 100) \n",
    "x_grid, y_grid = np.meshgrid(x_range, y_range) # x_grid and y_grig are of size 100 X 100\n",
    "\n",
    "# converting x_grid and y_grid to continuous arrays\n",
    "x_grid_flat = np.ravel(x_grid)\n",
    "y_grid_flat = np.ravel(y_grid)\n",
    "\n",
    "# The last layer of the current model takes two columns as input. Hence transpose of np.vstack() is required.\n",
    "X = np.vstack((x_grid_flat, y_grid_flat)).T\n",
    "\n",
    "# x_grid and y_grid are of size 100 x 100\n",
    "probability_contour = model_prob(X).reshape(100,100) "
   ]
  },
  {
   "cell_type": "code",
   "execution_count": 29,
   "metadata": {
    "execution": {
     "iopub.execute_input": "2020-10-11T00:09:22.160034Z",
     "iopub.status.busy": "2020-10-11T00:09:22.159458Z",
     "iopub.status.idle": "2020-10-11T00:09:22.416756Z",
     "shell.execute_reply": "2020-10-11T00:09:22.416160Z"
    },
    "papermill": {
     "duration": 0.316027,
     "end_time": "2020-10-11T00:09:22.416905",
     "exception": false,
     "start_time": "2020-10-11T00:09:22.100878",
     "status": "completed"
    },
    "tags": []
   },
   "outputs": [
    {
     "data": {
      "image/png": "[encoded data removed]",
      "text/plain": [
       "<Figure size 720x648 with 1 Axes>"
      ]
     },
     "metadata": {
      "needs_background": "light"
     },
     "output_type": "display_data"
    }
   ],
   "source": [
    "plt.figure(figsize=(10,9))\n",
    "plt.scatter(plot_testing[:,0], plot_testing[:,1], alpha = 0.1, c = y_test.ravel())\n",
    "contours = plt.contour(x_grid,y_grid,probability_contour)\n",
    "plt.title('Probability Contours')\n",
    "plt.clabel(contours, inline = True );"
   ]
  }
 ],
 "metadata": {
  "kernelspec": {
   "display_name": "Python 3",
   "language": "python",
   "name": "python3"
  },
  "language_info": {
   "codemirror_mode": {
    "name": "ipython",
    "version": 3
   },
   "file_extension": ".py",
   "mimetype": "text/x-python",
   "name": "python",
   "nbconvert_exporter": "python",
   "pygments_lexer": "ipython3",
   "version": "3.6.12"
  },
  "papermill": {
   "duration": 113.398874,
   "end_time": "2020-10-11T00:09:23.635906",
   "environment_variables": {},
   "exception": null,
   "input_path": "2020-08-11-NeuralNetwork.ipynb",
   "output_path": "2020-08-11-NeuralNetwork.ipynb",
   "parameters": {},
   "start_time": "2020-10-11T00:07:30.237032",
   "version": "2.1.2"
  }
 },
 "nbformat": 4,
 "nbformat_minor": 4
}