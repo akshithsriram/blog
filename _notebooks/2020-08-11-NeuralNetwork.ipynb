{
 "cells": [
  {
   "cell_type": "markdown",
   "id": "fitted-suggestion",
   "metadata": {
    "papermill": {
     "duration": 0.032383,
     "end_time": "2021-07-03T10:04:53.396475",
     "exception": false,
     "start_time": "2021-07-03T10:04:53.364092",
     "status": "completed"
    },
    "tags": []
   },
   "source": [
    "# \"A Basic Neural Network: Differentiate Hand-Written Digits\"\n",
    "\n",
    "- badges: true\n",
    "- author: Akshith Sriram"
   ]
  },
  {
   "cell_type": "markdown",
   "id": "signal-flexibility",
   "metadata": {
    "papermill": {
     "duration": 0.02719,
     "end_time": "2021-07-03T10:04:53.452345",
     "exception": false,
     "start_time": "2021-07-03T10:04:53.425155",
     "status": "completed"
    },
    "tags": []
   },
   "source": [
    "### Key Objectives:\n",
    "- Building a neural network that differentiates two hand-written digits 3 and 8.\n",
    "- Comparing the results of this Neural Network (NN) to that of a Logistic Regression (LR) model.\n",
    "\n",
    "### Requirements:\n",
    "- 'Kudzu' : A neural network library that was designed during our course by [Univ.AI](www.univ.ai). \n",
    "- MNIST Database\n",
    "\n",
    "If MNIST is not installed, use the command `!pip install mnist` given below.\n",
    "It can be run both from the command line and Jupyter Notebook."
   ]
  },
  {
   "cell_type": "code",
   "execution_count": 1,
   "id": "british-texture",
   "metadata": {
    "execution": {
     "iopub.execute_input": "2021-07-03T10:04:53.521400Z",
     "iopub.status.busy": "2021-07-03T10:04:53.520812Z",
     "iopub.status.idle": "2021-07-03T10:04:55.003719Z",
     "shell.execute_reply": "2021-07-03T10:04:55.004607Z"
    },
    "papermill": {
     "duration": 1.524494,
     "end_time": "2021-07-03T10:04:55.004893",
     "exception": false,
     "start_time": "2021-07-03T10:04:53.480399",
     "status": "completed"
    },
    "tags": []
   },
   "outputs": [
    {
     "name": "stdout",
     "output_type": "stream",
     "text": [
      "Collecting mnist\r\n"
     ]
    },
    {
     "name": "stdout",
     "output_type": "stream",
     "text": [
      "  Downloading mnist-0.2.2-py2.py3-none-any.whl (3.5 kB)\r\n",
      "Requirement already satisfied: numpy in /opt/hostedtoolcache/Python/3.6.13/x64/lib/python3.6/site-packages (from mnist) (1.19.5)\r\n"
     ]
    },
    {
     "name": "stdout",
     "output_type": "stream",
     "text": [
      "Installing collected packages: mnist\r\n"
     ]
    },
    {
     "name": "stdout",
     "output_type": "stream",
     "text": [
      "Successfully installed mnist-0.2.2\r\n"
     ]
    }
   ],
   "source": [
    "!pip install mnist "
   ]
  },
  {
   "cell_type": "markdown",
   "id": "stunning-extra",
   "metadata": {
    "papermill": {
     "duration": 0.028775,
     "end_time": "2021-07-03T10:04:55.063923",
     "exception": false,
     "start_time": "2021-07-03T10:04:55.035148",
     "status": "completed"
    },
    "tags": []
   },
   "source": [
    "#### Importing necessary libraries"
   ]
  },
  {
   "cell_type": "code",
   "execution_count": 2,
   "id": "wooden-france",
   "metadata": {
    "execution": {
     "iopub.execute_input": "2021-07-03T10:04:55.131609Z",
     "iopub.status.busy": "2021-07-03T10:04:55.129094Z",
     "iopub.status.idle": "2021-07-03T10:04:55.707489Z",
     "shell.execute_reply": "2021-07-03T10:04:55.706613Z"
    },
    "papermill": {
     "duration": 0.616092,
     "end_time": "2021-07-03T10:04:55.707705",
     "exception": false,
     "start_time": "2021-07-03T10:04:55.091613",
     "status": "completed"
    },
    "tags": []
   },
   "outputs": [],
   "source": [
    "%load_ext autoreload\n",
    "%autoreload 2\n",
    "\n",
    "%matplotlib inline\n",
    "import matplotlib.pyplot as plt\n",
    "\n",
    "import numpy as np\n",
    "import pandas as pd"
   ]
  },
  {
   "cell_type": "markdown",
   "id": "stunning-physics",
   "metadata": {
    "papermill": {
     "duration": 0.029425,
     "end_time": "2021-07-03T10:04:55.767707",
     "exception": false,
     "start_time": "2021-07-03T10:04:55.738282",
     "status": "completed"
    },
    "tags": []
   },
   "source": [
    "### Preparing the Data"
   ]
  },
  {
   "cell_type": "code",
   "execution_count": 3,
   "id": "unauthorized-remainder",
   "metadata": {
    "execution": {
     "iopub.execute_input": "2021-07-03T10:04:55.831195Z",
     "iopub.status.busy": "2021-07-03T10:04:55.830598Z",
     "iopub.status.idle": "2021-07-03T10:04:55.843481Z",
     "shell.execute_reply": "2021-07-03T10:04:55.844008Z"
    },
    "papermill": {
     "duration": 0.04725,
     "end_time": "2021-07-03T10:04:55.844156",
     "exception": false,
     "start_time": "2021-07-03T10:04:55.796906",
     "status": "completed"
    },
    "tags": []
   },
   "outputs": [],
   "source": [
    "import mnist"
   ]
  },
  {
   "cell_type": "code",
   "execution_count": 4,
   "id": "correct-antarctica",
   "metadata": {
    "execution": {
     "iopub.execute_input": "2021-07-03T10:04:55.906932Z",
     "iopub.status.busy": "2021-07-03T10:04:55.905849Z",
     "iopub.status.idle": "2021-07-03T10:07:04.062284Z",
     "shell.execute_reply": "2021-07-03T10:07:04.061767Z"
    },
    "papermill": {
     "duration": 128.188617,
     "end_time": "2021-07-03T10:07:04.062431",
     "exception": false,
     "start_time": "2021-07-03T10:04:55.873814",
     "status": "completed"
    },
    "tags": []
   },
   "outputs": [],
   "source": [
    "train_images = mnist.train_images()\n",
    "train_labels = mnist.train_labels()"
   ]
  },
  {
   "cell_type": "code",
   "execution_count": 5,
   "id": "musical-prospect",
   "metadata": {
    "execution": {
     "iopub.execute_input": "2021-07-03T10:07:04.127781Z",
     "iopub.status.busy": "2021-07-03T10:07:04.127236Z",
     "iopub.status.idle": "2021-07-03T10:07:04.141317Z",
     "shell.execute_reply": "2021-07-03T10:07:04.141862Z"
    },
    "papermill": {
     "duration": 0.049095,
     "end_time": "2021-07-03T10:07:04.142006",
     "exception": false,
     "start_time": "2021-07-03T10:07:04.092911",
     "status": "completed"
    },
    "tags": []
   },
   "outputs": [
    {
     "data": {
      "text/plain": [
       "((60000, 28, 28), (60000,))"
      ]
     },
     "execution_count": 5,
     "metadata": {},
     "output_type": "execute_result"
    }
   ],
   "source": [
    "train_images.shape, train_labels.shape"
   ]
  },
  {
   "cell_type": "code",
   "execution_count": 6,
   "id": "preliminary-elizabeth",
   "metadata": {
    "execution": {
     "iopub.execute_input": "2021-07-03T10:07:04.209188Z",
     "iopub.status.busy": "2021-07-03T10:07:04.208647Z",
     "iopub.status.idle": "2021-07-03T10:07:32.298029Z",
     "shell.execute_reply": "2021-07-03T10:07:32.296877Z"
    },
    "papermill": {
     "duration": 28.12706,
     "end_time": "2021-07-03T10:07:32.298170",
     "exception": false,
     "start_time": "2021-07-03T10:07:04.171110",
     "status": "completed"
    },
    "tags": []
   },
   "outputs": [],
   "source": [
    "test_images = mnist.test_images()\n",
    "test_labels = mnist.test_labels()"
   ]
  },
  {
   "cell_type": "code",
   "execution_count": 7,
   "id": "acknowledged-oxygen",
   "metadata": {
    "execution": {
     "iopub.execute_input": "2021-07-03T10:07:32.366786Z",
     "iopub.status.busy": "2021-07-03T10:07:32.366184Z",
     "iopub.status.idle": "2021-07-03T10:07:32.377686Z",
     "shell.execute_reply": "2021-07-03T10:07:32.378227Z"
    },
    "papermill": {
     "duration": 0.05069,
     "end_time": "2021-07-03T10:07:32.378367",
     "exception": false,
     "start_time": "2021-07-03T10:07:32.327677",
     "status": "completed"
    },
    "tags": []
   },
   "outputs": [
    {
     "data": {
      "text/plain": [
       "((10000, 28, 28), (10000,))"
      ]
     },
     "execution_count": 7,
     "metadata": {},
     "output_type": "execute_result"
    }
   ],
   "source": [
    "test_images.shape, test_labels.shape"
   ]
  },
  {
   "cell_type": "code",
   "execution_count": 8,
   "id": "innovative-organic",
   "metadata": {
    "execution": {
     "iopub.execute_input": "2021-07-03T10:07:32.440541Z",
     "iopub.status.busy": "2021-07-03T10:07:32.439995Z",
     "iopub.status.idle": "2021-07-03T10:07:32.597843Z",
     "shell.execute_reply": "2021-07-03T10:07:32.597360Z"
    },
    "papermill": {
     "duration": 0.190231,
     "end_time": "2021-07-03T10:07:32.597964",
     "exception": false,
     "start_time": "2021-07-03T10:07:32.407733",
     "status": "completed"
    },
    "tags": []
   },
   "outputs": [
    {
     "name": "stdout",
     "output_type": "stream",
     "text": [
      "2\n"
     ]
    },
    {
     "data": {
      "text/plain": [
       "<matplotlib.image.AxesImage at 0x7ff1b12575c0>"
      ]
     },
     "execution_count": 8,
     "metadata": {},
     "output_type": "execute_result"
    },
    {
     "data": {
      "image/png": "[encoded data removed]",
      "text/plain": [
       "<Figure size 432x288 with 1 Axes>"
      ]
     },
     "metadata": {
      "needs_background": "light"
     },
     "output_type": "display_data"
    }
   ],
   "source": [
    "image_index = 7776 # You may select anything up to 60,000\n",
    "print(train_labels[image_index]) \n",
    "plt.imshow(train_images[image_index], cmap='Greys')"
   ]
  },
  {
   "cell_type": "markdown",
   "id": "facial-modem",
   "metadata": {
    "papermill": {
     "duration": 0.031581,
     "end_time": "2021-07-03T10:07:32.661304",
     "exception": false,
     "start_time": "2021-07-03T10:07:32.629723",
     "status": "completed"
    },
    "tags": []
   },
   "source": [
    "## Filter data to get 3 and 8 out"
   ]
  },
  {
   "cell_type": "code",
   "execution_count": 9,
   "id": "thousand-acquisition",
   "metadata": {
    "execution": {
     "iopub.execute_input": "2021-07-03T10:07:32.742597Z",
     "iopub.status.busy": "2021-07-03T10:07:32.740541Z",
     "iopub.status.idle": "2021-07-03T10:07:32.759430Z",
     "shell.execute_reply": "2021-07-03T10:07:32.758923Z"
    },
    "papermill": {
     "duration": 0.05897,
     "end_time": "2021-07-03T10:07:32.759558",
     "exception": false,
     "start_time": "2021-07-03T10:07:32.700588",
     "status": "completed"
    },
    "tags": []
   },
   "outputs": [],
   "source": [
    "train_filter = np.where((train_labels == 3 ) | (train_labels == 8))\n",
    "test_filter = np.where((test_labels == 3) | (test_labels == 8))\n",
    "X_train, y_train = train_images[train_filter], train_labels[train_filter]\n",
    "X_test, y_test = test_images[test_filter], test_labels[test_filter]"
   ]
  },
  {
   "cell_type": "markdown",
   "id": "ruled-access",
   "metadata": {
    "papermill": {
     "duration": 0.030604,
     "end_time": "2021-07-03T10:07:32.820573",
     "exception": false,
     "start_time": "2021-07-03T10:07:32.789969",
     "status": "completed"
    },
    "tags": []
   },
   "source": [
    "We normalize the pixel values in the 0 to 1 range"
   ]
  },
  {
   "cell_type": "code",
   "execution_count": 10,
   "id": "isolated-denver",
   "metadata": {
    "execution": {
     "iopub.execute_input": "2021-07-03T10:07:32.886958Z",
     "iopub.status.busy": "2021-07-03T10:07:32.886418Z",
     "iopub.status.idle": "2021-07-03T10:07:32.942213Z",
     "shell.execute_reply": "2021-07-03T10:07:32.941318Z"
    },
    "papermill": {
     "duration": 0.091446,
     "end_time": "2021-07-03T10:07:32.942417",
     "exception": false,
     "start_time": "2021-07-03T10:07:32.850971",
     "status": "completed"
    },
    "tags": []
   },
   "outputs": [],
   "source": [
    "X_train = X_train/255.\n",
    "X_test = X_test/255."
   ]
  },
  {
   "cell_type": "markdown",
   "id": "perfect-summary",
   "metadata": {
    "papermill": {
     "duration": 0.031301,
     "end_time": "2021-07-03T10:07:33.004399",
     "exception": false,
     "start_time": "2021-07-03T10:07:32.973098",
     "status": "completed"
    },
    "tags": []
   },
   "source": [
    "Setup the labels as 1 (when the digit is 3) and 0 (when the digit is 8)"
   ]
  },
  {
   "cell_type": "code",
   "execution_count": 11,
   "id": "personalized-growing",
   "metadata": {
    "execution": {
     "iopub.execute_input": "2021-07-03T10:07:33.074307Z",
     "iopub.status.busy": "2021-07-03T10:07:33.073734Z",
     "iopub.status.idle": "2021-07-03T10:07:33.085227Z",
     "shell.execute_reply": "2021-07-03T10:07:33.085643Z"
    },
    "papermill": {
     "duration": 0.051082,
     "end_time": "2021-07-03T10:07:33.085809",
     "exception": false,
     "start_time": "2021-07-03T10:07:33.034727",
     "status": "completed"
    },
    "tags": []
   },
   "outputs": [],
   "source": [
    "y_train = 1*(y_train==3)\n",
    "y_test = 1*(y_test==3)"
   ]
  },
  {
   "cell_type": "code",
   "execution_count": 12,
   "id": "considered-virgin",
   "metadata": {
    "execution": {
     "iopub.execute_input": "2021-07-03T10:07:33.152435Z",
     "iopub.status.busy": "2021-07-03T10:07:33.151829Z",
     "iopub.status.idle": "2021-07-03T10:07:33.166317Z",
     "shell.execute_reply": "2021-07-03T10:07:33.165743Z"
    },
    "papermill": {
     "duration": 0.050909,
     "end_time": "2021-07-03T10:07:33.166438",
     "exception": false,
     "start_time": "2021-07-03T10:07:33.115529",
     "status": "completed"
    },
    "tags": []
   },
   "outputs": [
    {
     "data": {
      "text/plain": [
       "((11982, 28, 28), (1984, 28, 28))"
      ]
     },
     "execution_count": 12,
     "metadata": {},
     "output_type": "execute_result"
    }
   ],
   "source": [
    "X_train.shape, X_test.shape"
   ]
  },
  {
   "cell_type": "markdown",
   "id": "civilian-mobile",
   "metadata": {
    "papermill": {
     "duration": 0.030362,
     "end_time": "2021-07-03T10:07:33.227738",
     "exception": false,
     "start_time": "2021-07-03T10:07:33.197376",
     "status": "completed"
    },
    "tags": []
   },
   "source": [
    "### Reshape the input data to create a linear array"
   ]
  },
  {
   "cell_type": "code",
   "execution_count": 13,
   "id": "colonial-adams",
   "metadata": {
    "execution": {
     "iopub.execute_input": "2021-07-03T10:07:33.294889Z",
     "iopub.status.busy": "2021-07-03T10:07:33.294290Z",
     "iopub.status.idle": "2021-07-03T10:07:33.309646Z",
     "shell.execute_reply": "2021-07-03T10:07:33.310108Z"
    },
    "papermill": {
     "duration": 0.051646,
     "end_time": "2021-07-03T10:07:33.310242",
     "exception": false,
     "start_time": "2021-07-03T10:07:33.258596",
     "status": "completed"
    },
    "tags": []
   },
   "outputs": [
    {
     "data": {
      "text/plain": [
       "((11982, 784), (1984, 784))"
      ]
     },
     "execution_count": 13,
     "metadata": {},
     "output_type": "execute_result"
    }
   ],
   "source": [
    "X_train = X_train.reshape(X_train.shape[0], -1)\n",
    "X_test = X_test.reshape(X_test.shape[0], -1)\n",
    "X_train.shape, X_test.shape"
   ]
  },
  {
   "cell_type": "markdown",
   "id": "smart-details",
   "metadata": {
    "papermill": {
     "duration": 0.031892,
     "end_time": "2021-07-03T10:07:33.373854",
     "exception": false,
     "start_time": "2021-07-03T10:07:33.341962",
     "status": "completed"
    },
    "tags": []
   },
   "source": [
    "### Importing appropriate functions from 'Kudzu'"
   ]
  },
  {
   "cell_type": "code",
   "execution_count": 14,
   "id": "celtic-trial",
   "metadata": {
    "execution": {
     "iopub.execute_input": "2021-07-03T10:07:33.445622Z",
     "iopub.status.busy": "2021-07-03T10:07:33.445029Z",
     "iopub.status.idle": "2021-07-03T10:07:33.465197Z",
     "shell.execute_reply": "2021-07-03T10:07:33.465751Z"
    },
    "papermill": {
     "duration": 0.06097,
     "end_time": "2021-07-03T10:07:33.465923",
     "exception": false,
     "start_time": "2021-07-03T10:07:33.404953",
     "status": "completed"
    },
    "tags": []
   },
   "outputs": [],
   "source": [
    "from kudzu.layer import Sigmoid\n",
    "from kudzu.layer import Relu\n",
    "from kudzu.layer import Affine, Sigmoid\n",
    "\n",
    "from kudzu.model import Model\n",
    "from kudzu.train import Learner\n",
    "from kudzu.optim import GD\n",
    "from kudzu.data import Data, Dataloader, Sampler\n",
    "\n",
    "from kudzu.callbacks import AccCallback\n",
    "from kudzu.callbacks import ClfCallback\n",
    "\n",
    "from kudzu.loss import MSE"
   ]
  },
  {
   "cell_type": "markdown",
   "id": "coupled-customer",
   "metadata": {
    "papermill": {
     "duration": 0.031825,
     "end_time": "2021-07-03T10:07:33.530144",
     "exception": false,
     "start_time": "2021-07-03T10:07:33.498319",
     "status": "completed"
    },
    "tags": []
   },
   "source": [
    "### Let us create a `Config` class, to store important parameters. \n",
    "This class essentially plays the role of a dictionary."
   ]
  },
  {
   "cell_type": "code",
   "execution_count": 15,
   "id": "young-ceiling",
   "metadata": {
    "execution": {
     "iopub.execute_input": "2021-07-03T10:07:33.601309Z",
     "iopub.status.busy": "2021-07-03T10:07:33.600766Z",
     "iopub.status.idle": "2021-07-03T10:07:33.612440Z",
     "shell.execute_reply": "2021-07-03T10:07:33.611987Z"
    },
    "papermill": {
     "duration": 0.050594,
     "end_time": "2021-07-03T10:07:33.612577",
     "exception": false,
     "start_time": "2021-07-03T10:07:33.561983",
     "status": "completed"
    },
    "tags": []
   },
   "outputs": [],
   "source": [
    "class Config:\n",
    "    pass\n",
    "config = Config()\n",
    "config.lr = 0.001\n",
    "config.num_epochs = 251\n",
    "config.bs = 50"
   ]
  },
  {
   "cell_type": "markdown",
   "id": "according-mandate",
   "metadata": {
    "papermill": {
     "duration": 0.031951,
     "end_time": "2021-07-03T10:07:33.675055",
     "exception": false,
     "start_time": "2021-07-03T10:07:33.643104",
     "status": "completed"
    },
    "tags": []
   },
   "source": [
    "### Initializing data to the variables"
   ]
  },
  {
   "cell_type": "code",
   "execution_count": 16,
   "id": "academic-disposition",
   "metadata": {
    "execution": {
     "iopub.execute_input": "2021-07-03T10:07:33.744707Z",
     "iopub.status.busy": "2021-07-03T10:07:33.744105Z",
     "iopub.status.idle": "2021-07-03T10:07:33.756331Z",
     "shell.execute_reply": "2021-07-03T10:07:33.755815Z"
    },
    "papermill": {
     "duration": 0.050031,
     "end_time": "2021-07-03T10:07:33.756456",
     "exception": false,
     "start_time": "2021-07-03T10:07:33.706425",
     "status": "completed"
    },
    "tags": []
   },
   "outputs": [],
   "source": [
    "data = Data(X_train, y_train.reshape(-1,1))\n",
    "sampler = Sampler(data, config.bs, shuffle=True)\n",
    "\n",
    "dl = Dataloader(data, sampler)\n",
    "\n",
    "opt = GD(config.lr)\n",
    "loss = MSE()"
   ]
  },
  {
   "cell_type": "code",
   "execution_count": 17,
   "id": "featured-commission",
   "metadata": {
    "execution": {
     "iopub.execute_input": "2021-07-03T10:07:33.823339Z",
     "iopub.status.busy": "2021-07-03T10:07:33.822767Z",
     "iopub.status.idle": "2021-07-03T10:07:33.839845Z",
     "shell.execute_reply": "2021-07-03T10:07:33.840330Z"
    },
    "papermill": {
     "duration": 0.052368,
     "end_time": "2021-07-03T10:07:33.840459",
     "exception": false,
     "start_time": "2021-07-03T10:07:33.788091",
     "status": "completed"
    },
    "tags": []
   },
   "outputs": [],
   "source": [
    "training_xdata = X_train\n",
    "testing_xdata = X_test\n",
    "training_ydata = y_train.reshape(-1,1)\n",
    "testing_ydata = y_test.reshape(-1,1)"
   ]
  },
  {
   "cell_type": "markdown",
   "id": "played-safety",
   "metadata": {
    "papermill": {
     "duration": 0.031038,
     "end_time": "2021-07-03T10:07:33.901773",
     "exception": false,
     "start_time": "2021-07-03T10:07:33.870735",
     "status": "completed"
    },
    "tags": []
   },
   "source": [
    "### Running Models with the Training data\n",
    "Details about the network layers:\n",
    "- A first affine layer has 784 inputs and does 100 affine transforms. These are followed by a Relu\n",
    "- A second affine layer has 100 inputs from the 100 activations of the past layer, and does 100 affine transforms. These are followed by a Relu\n",
    "- A third affine layer has 100 activations and does 2 affine transformations to create an embedding for visualization. There is no non-linearity here.\n",
    "- A final \"logistic regression\" which has an affine transform from 2 inputs to 1 output, which is squeezed through a sigmoid.\n",
    "\n",
    "Help taken from Anshuman's Notebook."
   ]
  },
  {
   "cell_type": "code",
   "execution_count": 18,
   "id": "asian-bankruptcy",
   "metadata": {
    "execution": {
     "iopub.execute_input": "2021-07-03T10:07:33.968604Z",
     "iopub.status.busy": "2021-07-03T10:07:33.968031Z",
     "iopub.status.idle": "2021-07-03T10:07:33.983881Z",
     "shell.execute_reply": "2021-07-03T10:07:33.983413Z"
    },
    "papermill": {
     "duration": 0.051363,
     "end_time": "2021-07-03T10:07:33.984033",
     "exception": false,
     "start_time": "2021-07-03T10:07:33.932670",
     "status": "completed"
    },
    "tags": []
   },
   "outputs": [],
   "source": [
    "# layers for the Neural Network\n",
    "layers = [Affine(\"first\", 784, 100), Relu(\"first\"), Affine(\"second\", 100, 100), Relu(\"second\"), Affine(\"third\", 100, 2), Affine(\"final\", 2, 1), Sigmoid(\"final\")]\n",
    "model_nn = Model(layers)\n",
    "\n",
    "# layers for the Logistic Regression\n",
    "layers_lr = [Affine(\"logits\", 784, 1), Sigmoid(\"sigmoid\")]\n",
    "model_lr = Model(layers_lr)"
   ]
  },
  {
   "cell_type": "code",
   "execution_count": 19,
   "id": "removed-butler",
   "metadata": {
    "execution": {
     "iopub.execute_input": "2021-07-03T10:07:34.052499Z",
     "iopub.status.busy": "2021-07-03T10:07:34.051933Z",
     "iopub.status.idle": "2021-07-03T10:07:34.067104Z",
     "shell.execute_reply": "2021-07-03T10:07:34.066610Z"
    },
    "papermill": {
     "duration": 0.051995,
     "end_time": "2021-07-03T10:07:34.067221",
     "exception": false,
     "start_time": "2021-07-03T10:07:34.015226",
     "status": "completed"
    },
    "tags": []
   },
   "outputs": [],
   "source": [
    "# suffix _nn stands for Neural Network.\n",
    "learner_nn = Learner(loss, model_nn, opt, config.num_epochs)\n",
    "acc_nn = ClfCallback(learner_nn, config.bs, training_xdata , testing_xdata, training_ydata, testing_ydata)\n",
    "learner_nn.set_callbacks([acc_nn])"
   ]
  },
  {
   "cell_type": "code",
   "execution_count": 20,
   "id": "conceptual-throw",
   "metadata": {
    "execution": {
     "iopub.execute_input": "2021-07-03T10:07:34.136777Z",
     "iopub.status.busy": "2021-07-03T10:07:34.136201Z",
     "iopub.status.idle": "2021-07-03T10:08:58.872192Z",
     "shell.execute_reply": "2021-07-03T10:08:58.872713Z"
    },
    "papermill": {
     "duration": 84.774775,
     "end_time": "2021-07-03T10:08:58.872854",
     "exception": false,
     "start_time": "2021-07-03T10:07:34.098079",
     "status": "completed"
    },
    "tags": []
   },
   "outputs": [
    {
     "name": "stdout",
     "output_type": "stream",
     "text": [
      "====== Neural Network ======\n"
     ]
    },
    {
     "name": "stdout",
     "output_type": "stream",
     "text": [
      "Epoch 0, Loss 0.2447\n",
      "Training Accuracy: 0.6415, Testing Accuracy: 0.6472\n",
      "\n"
     ]
    },
    {
     "name": "stdout",
     "output_type": "stream",
     "text": [
      "Epoch 10, Loss 0.1318\n",
      "Training Accuracy: 0.8854, Testing Accuracy: 0.8916\n",
      "\n"
     ]
    },
    {
     "name": "stdout",
     "output_type": "stream",
     "text": [
      "Epoch 20, Loss 0.0717\n",
      "Training Accuracy: 0.9260, Testing Accuracy: 0.9355\n",
      "\n"
     ]
    },
    {
     "name": "stdout",
     "output_type": "stream",
     "text": [
      "Epoch 30, Loss 0.0518\n",
      "Training Accuracy: 0.9442, Testing Accuracy: 0.9556\n",
      "\n"
     ]
    },
    {
     "name": "stdout",
     "output_type": "stream",
     "text": [
      "Epoch 40, Loss 0.0427\n",
      "Training Accuracy: 0.9524, Testing Accuracy: 0.9617\n",
      "\n"
     ]
    },
    {
     "name": "stdout",
     "output_type": "stream",
     "text": [
      "Epoch 50, Loss 0.0375\n",
      "Training Accuracy: 0.9569, Testing Accuracy: 0.9657\n",
      "\n"
     ]
    },
    {
     "name": "stdout",
     "output_type": "stream",
     "text": [
      "Epoch 60, Loss 0.0342\n",
      "Training Accuracy: 0.9604, Testing Accuracy: 0.9672\n",
      "\n"
     ]
    },
    {
     "name": "stdout",
     "output_type": "stream",
     "text": [
      "Epoch 70, Loss 0.0319\n",
      "Training Accuracy: 0.9627, Testing Accuracy: 0.9672\n",
      "\n"
     ]
    },
    {
     "name": "stdout",
     "output_type": "stream",
     "text": [
      "Epoch 80, Loss 0.0301\n",
      "Training Accuracy: 0.9657, Testing Accuracy: 0.9682\n",
      "\n"
     ]
    },
    {
     "name": "stdout",
     "output_type": "stream",
     "text": [
      "Epoch 90, Loss 0.0288\n",
      "Training Accuracy: 0.9672, Testing Accuracy: 0.9708\n",
      "\n"
     ]
    },
    {
     "name": "stdout",
     "output_type": "stream",
     "text": [
      "Epoch 100, Loss 0.0276\n",
      "Training Accuracy: 0.9688, Testing Accuracy: 0.9708\n",
      "\n"
     ]
    },
    {
     "name": "stdout",
     "output_type": "stream",
     "text": [
      "Epoch 110, Loss 0.0267\n",
      "Training Accuracy: 0.9704, Testing Accuracy: 0.9708\n",
      "\n"
     ]
    },
    {
     "name": "stdout",
     "output_type": "stream",
     "text": [
      "Epoch 120, Loss 0.0259\n",
      "Training Accuracy: 0.9711, Testing Accuracy: 0.9718\n",
      "\n"
     ]
    },
    {
     "name": "stdout",
     "output_type": "stream",
     "text": [
      "Epoch 130, Loss 0.0251\n",
      "Training Accuracy: 0.9722, Testing Accuracy: 0.9723\n",
      "\n"
     ]
    },
    {
     "name": "stdout",
     "output_type": "stream",
     "text": [
      "Epoch 140, Loss 0.0245\n",
      "Training Accuracy: 0.9726, Testing Accuracy: 0.9733\n",
      "\n"
     ]
    },
    {
     "name": "stdout",
     "output_type": "stream",
     "text": [
      "Epoch 150, Loss 0.0239\n",
      "Training Accuracy: 0.9730, Testing Accuracy: 0.9733\n",
      "\n"
     ]
    },
    {
     "name": "stdout",
     "output_type": "stream",
     "text": [
      "Epoch 160, Loss 0.0234\n",
      "Training Accuracy: 0.9738, Testing Accuracy: 0.9733\n",
      "\n"
     ]
    },
    {
     "name": "stdout",
     "output_type": "stream",
     "text": [
      "Epoch 170, Loss 0.0229\n",
      "Training Accuracy: 0.9742, Testing Accuracy: 0.9738\n",
      "\n"
     ]
    },
    {
     "name": "stdout",
     "output_type": "stream",
     "text": [
      "Epoch 180, Loss 0.0224\n",
      "Training Accuracy: 0.9741, Testing Accuracy: 0.9738\n",
      "\n"
     ]
    },
    {
     "name": "stdout",
     "output_type": "stream",
     "text": [
      "Epoch 190, Loss 0.022\n",
      "Training Accuracy: 0.9746, Testing Accuracy: 0.9738\n",
      "\n"
     ]
    },
    {
     "name": "stdout",
     "output_type": "stream",
     "text": [
      "Epoch 200, Loss 0.0216\n",
      "Training Accuracy: 0.9749, Testing Accuracy: 0.9738\n",
      "\n"
     ]
    },
    {
     "name": "stdout",
     "output_type": "stream",
     "text": [
      "Epoch 210, Loss 0.0212\n",
      "Training Accuracy: 0.9755, Testing Accuracy: 0.9738\n",
      "\n"
     ]
    },
    {
     "name": "stdout",
     "output_type": "stream",
     "text": [
      "Epoch 220, Loss 0.0208\n",
      "Training Accuracy: 0.9759, Testing Accuracy: 0.9738\n",
      "\n"
     ]
    },
    {
     "name": "stdout",
     "output_type": "stream",
     "text": [
      "Epoch 230, Loss 0.0204\n",
      "Training Accuracy: 0.9766, Testing Accuracy: 0.9743\n",
      "\n"
     ]
    },
    {
     "name": "stdout",
     "output_type": "stream",
     "text": [
      "Epoch 240, Loss 0.0201\n",
      "Training Accuracy: 0.9773, Testing Accuracy: 0.9748\n",
      "\n"
     ]
    },
    {
     "name": "stdout",
     "output_type": "stream",
     "text": [
      "Epoch 250, Loss 0.0197\n",
      "Training Accuracy: 0.9777, Testing Accuracy: 0.9753\n",
      "\n"
     ]
    },
    {
     "data": {
      "text/plain": [
       "0.012850414011899614"
      ]
     },
     "execution_count": 20,
     "metadata": {},
     "output_type": "execute_result"
    }
   ],
   "source": [
    "print(\"====== Neural Network ======\")\n",
    "learner_nn.train_loop(dl)"
   ]
  },
  {
   "cell_type": "markdown",
   "id": "competent-suffering",
   "metadata": {
    "papermill": {
     "duration": 0.039992,
     "end_time": "2021-07-03T10:08:58.956983",
     "exception": false,
     "start_time": "2021-07-03T10:08:58.916991",
     "status": "completed"
    },
    "tags": []
   },
   "source": [
    "### Logistic Regression based Implementation."
   ]
  },
  {
   "cell_type": "code",
   "execution_count": 21,
   "id": "qualified-psychiatry",
   "metadata": {
    "execution": {
     "iopub.execute_input": "2021-07-03T10:08:59.049144Z",
     "iopub.status.busy": "2021-07-03T10:08:59.048512Z",
     "iopub.status.idle": "2021-07-03T10:08:59.054286Z",
     "shell.execute_reply": "2021-07-03T10:08:59.053276Z"
    },
    "papermill": {
     "duration": 0.058309,
     "end_time": "2021-07-03T10:08:59.054413",
     "exception": false,
     "start_time": "2021-07-03T10:08:58.996104",
     "status": "completed"
    },
    "tags": []
   },
   "outputs": [],
   "source": [
    "learner_lr = Learner(loss, model_lr, opt, config.num_epochs)\n",
    "acc_lr = ClfCallback(learner_lr, config.bs, training_xdata , testing_xdata, training_ydata, testing_ydata)\n",
    "learner_lr.set_callbacks([acc_lr])"
   ]
  },
  {
   "cell_type": "code",
   "execution_count": 22,
   "id": "average-outside",
   "metadata": {
    "execution": {
     "iopub.execute_input": "2021-07-03T10:08:59.145173Z",
     "iopub.status.busy": "2021-07-03T10:08:59.143571Z",
     "iopub.status.idle": "2021-07-03T10:09:14.584049Z",
     "shell.execute_reply": "2021-07-03T10:09:14.584609Z"
    },
    "papermill": {
     "duration": 15.489804,
     "end_time": "2021-07-03T10:09:14.584757",
     "exception": false,
     "start_time": "2021-07-03T10:08:59.094953",
     "status": "completed"
    },
    "tags": []
   },
   "outputs": [
    {
     "name": "stdout",
     "output_type": "stream",
     "text": [
      "====== Logistic Regression ======\n",
      "Epoch 0, Loss 0.2307\n",
      "Training Accuracy: 0.6854, Testing Accuracy: 0.6547\n",
      "\n"
     ]
    },
    {
     "name": "stdout",
     "output_type": "stream",
     "text": [
      "Epoch 10, Loss 0.1029\n",
      "Training Accuracy: 0.9072, Testing Accuracy: 0.9138\n",
      "\n"
     ]
    },
    {
     "name": "stdout",
     "output_type": "stream",
     "text": [
      "Epoch 20, Loss 0.0788\n",
      "Training Accuracy: 0.9271, Testing Accuracy: 0.9395\n",
      "\n"
     ]
    },
    {
     "name": "stdout",
     "output_type": "stream",
     "text": [
      "Epoch 30, Loss 0.0678\n",
      "Training Accuracy: 0.9370, Testing Accuracy: 0.9466\n",
      "\n"
     ]
    },
    {
     "name": "stdout",
     "output_type": "stream",
     "text": [
      "Epoch 40, Loss 0.0612\n",
      "Training Accuracy: 0.9421, Testing Accuracy: 0.9501\n",
      "\n"
     ]
    },
    {
     "name": "stdout",
     "output_type": "stream",
     "text": [
      "Epoch 50, Loss 0.0567\n",
      "Training Accuracy: 0.9453, Testing Accuracy: 0.9556\n",
      "\n"
     ]
    },
    {
     "name": "stdout",
     "output_type": "stream",
     "text": [
      "Epoch 60, Loss 0.0534\n",
      "Training Accuracy: 0.9482, Testing Accuracy: 0.9587\n",
      "\n"
     ]
    },
    {
     "name": "stdout",
     "output_type": "stream",
     "text": [
      "Epoch 70, Loss 0.0509\n",
      "Training Accuracy: 0.9503, Testing Accuracy: 0.9592\n",
      "\n"
     ]
    },
    {
     "name": "stdout",
     "output_type": "stream",
     "text": [
      "Epoch 80, Loss 0.0489\n",
      "Training Accuracy: 0.9517, Testing Accuracy: 0.9607\n",
      "\n"
     ]
    },
    {
     "name": "stdout",
     "output_type": "stream",
     "text": [
      "Epoch 90, Loss 0.0472\n",
      "Training Accuracy: 0.9528, Testing Accuracy: 0.9622\n",
      "\n"
     ]
    },
    {
     "name": "stdout",
     "output_type": "stream",
     "text": [
      "Epoch 100, Loss 0.0459\n",
      "Training Accuracy: 0.9538, Testing Accuracy: 0.9632\n",
      "\n"
     ]
    },
    {
     "name": "stdout",
     "output_type": "stream",
     "text": [
      "Epoch 110, Loss 0.0447\n",
      "Training Accuracy: 0.9547, Testing Accuracy: 0.9637\n",
      "\n"
     ]
    },
    {
     "name": "stdout",
     "output_type": "stream",
     "text": [
      "Epoch 120, Loss 0.0436\n",
      "Training Accuracy: 0.9560, Testing Accuracy: 0.9642\n",
      "\n"
     ]
    },
    {
     "name": "stdout",
     "output_type": "stream",
     "text": [
      "Epoch 130, Loss 0.0427\n",
      "Training Accuracy: 0.9564, Testing Accuracy: 0.9652\n",
      "\n"
     ]
    },
    {
     "name": "stdout",
     "output_type": "stream",
     "text": [
      "Epoch 140, Loss 0.0419\n",
      "Training Accuracy: 0.9572, Testing Accuracy: 0.9642\n",
      "\n"
     ]
    },
    {
     "name": "stdout",
     "output_type": "stream",
     "text": [
      "Epoch 150, Loss 0.0412\n",
      "Training Accuracy: 0.9581, Testing Accuracy: 0.9662\n",
      "\n"
     ]
    },
    {
     "name": "stdout",
     "output_type": "stream",
     "text": [
      "Epoch 160, Loss 0.0405\n",
      "Training Accuracy: 0.9581, Testing Accuracy: 0.9667\n",
      "\n"
     ]
    },
    {
     "name": "stdout",
     "output_type": "stream",
     "text": [
      "Epoch 170, Loss 0.0399\n",
      "Training Accuracy: 0.9582, Testing Accuracy: 0.9667\n",
      "\n"
     ]
    },
    {
     "name": "stdout",
     "output_type": "stream",
     "text": [
      "Epoch 180, Loss 0.0393\n",
      "Training Accuracy: 0.9588, Testing Accuracy: 0.9672\n",
      "\n"
     ]
    },
    {
     "name": "stdout",
     "output_type": "stream",
     "text": [
      "Epoch 190, Loss 0.0388\n",
      "Training Accuracy: 0.9594, Testing Accuracy: 0.9672\n",
      "\n"
     ]
    },
    {
     "name": "stdout",
     "output_type": "stream",
     "text": [
      "Epoch 200, Loss 0.0384\n",
      "Training Accuracy: 0.9597, Testing Accuracy: 0.9672\n",
      "\n"
     ]
    },
    {
     "name": "stdout",
     "output_type": "stream",
     "text": [
      "Epoch 210, Loss 0.0379\n",
      "Training Accuracy: 0.9601, Testing Accuracy: 0.9677\n",
      "\n"
     ]
    },
    {
     "name": "stdout",
     "output_type": "stream",
     "text": [
      "Epoch 220, Loss 0.0375\n",
      "Training Accuracy: 0.9603, Testing Accuracy: 0.9688\n",
      "\n"
     ]
    },
    {
     "name": "stdout",
     "output_type": "stream",
     "text": [
      "Epoch 230, Loss 0.0372\n",
      "Training Accuracy: 0.9604, Testing Accuracy: 0.9688\n",
      "\n"
     ]
    },
    {
     "name": "stdout",
     "output_type": "stream",
     "text": [
      "Epoch 240, Loss 0.0368\n",
      "Training Accuracy: 0.9606, Testing Accuracy: 0.9688\n",
      "\n"
     ]
    },
    {
     "name": "stdout",
     "output_type": "stream",
     "text": [
      "Epoch 250, Loss 0.0365\n",
      "Training Accuracy: 0.9607, Testing Accuracy: 0.9677\n",
      "\n"
     ]
    },
    {
     "data": {
      "text/plain": [
       "0.025278703655211766"
      ]
     },
     "execution_count": 22,
     "metadata": {},
     "output_type": "execute_result"
    }
   ],
   "source": [
    "print(\"====== Logistic Regression ======\")\n",
    "learner_lr.train_loop(dl)"
   ]
  },
  {
   "cell_type": "markdown",
   "id": "adjusted-possible",
   "metadata": {
    "papermill": {
     "duration": 0.046952,
     "end_time": "2021-07-03T10:09:14.682337",
     "exception": false,
     "start_time": "2021-07-03T10:09:14.635385",
     "status": "completed"
    },
    "tags": []
   },
   "source": [
    "### Comparing results of NN and LR"
   ]
  },
  {
   "cell_type": "code",
   "execution_count": 23,
   "id": "mental-multimedia",
   "metadata": {
    "execution": {
     "iopub.execute_input": "2021-07-03T10:09:14.785105Z",
     "iopub.status.busy": "2021-07-03T10:09:14.782104Z",
     "iopub.status.idle": "2021-07-03T10:09:15.054817Z",
     "shell.execute_reply": "2021-07-03T10:09:15.054324Z"
    },
    "papermill": {
     "duration": 0.326303,
     "end_time": "2021-07-03T10:09:15.054950",
     "exception": false,
     "start_time": "2021-07-03T10:09:14.728647",
     "status": "completed"
    },
    "tags": []
   },
   "outputs": [
    {
     "data": {
      "text/plain": [
       "<matplotlib.legend.Legend at 0x7ff1a8dbb208>"
      ]
     },
     "execution_count": 23,
     "metadata": {},
     "output_type": "execute_result"
    },
    {
     "data": {
      "image/png": "[encoded data removed]",
      "text/plain": [
       "<Figure size 1080x720 with 1 Axes>"
      ]
     },
     "metadata": {
      "needs_background": "light"
     },
     "output_type": "display_data"
    }
   ],
   "source": [
    "plt.figure(figsize=(15,10))\n",
    "\n",
    "# Neural Network plots\n",
    "plt.plot(acc_nn.accuracies, 'r-', label = \"Training Accuracies - NN\")\n",
    "plt.plot(acc_nn.test_accuracies, 'g-', label = \"Testing Accuracies - NN\")\n",
    "\n",
    "# Logistic Regression plots\n",
    "plt.plot(acc_lr.accuracies, 'k-', label = \"Training Accuracies - LR\")\n",
    "plt.plot(acc_lr.test_accuracies, 'b-', label = \"Testing Accuracies - LR\")\n",
    "\n",
    "plt.ylim(0.8, 1)\n",
    "\n",
    "plt.legend()\n",
    "\n"
   ]
  },
  {
   "cell_type": "markdown",
   "id": "sexual-flesh",
   "metadata": {
    "papermill": {
     "duration": 0.049351,
     "end_time": "2021-07-03T10:09:15.152723",
     "exception": false,
     "start_time": "2021-07-03T10:09:15.103372",
     "status": "completed"
    },
    "tags": []
   },
   "source": [
    "### From the plot, we can observe the following:\n",
    "- Neural Network achieves higher accuracy than the Logistic Regression model.\n",
    "- This apparently, is because of overfitting, i.e. NN captures more noise than data.\n",
    "- Testing accuracy of NN drops below the Training accuracy at higher epochs. This explains the over-fitting on training data.\n",
    "- Logistic Regression gives a reliable accuracy, without the above mentioned problem.\n"
   ]
  },
  {
   "cell_type": "markdown",
   "id": "institutional-pacific",
   "metadata": {
    "papermill": {
     "duration": 0.049167,
     "end_time": "2021-07-03T10:09:15.250216",
     "exception": false,
     "start_time": "2021-07-03T10:09:15.201049",
     "status": "completed"
    },
    "tags": []
   },
   "source": [
    "### Moving till the last but one layer (excluding it).\n",
    "#### Plotting the outputs of this layer of the NN."
   ]
  },
  {
   "cell_type": "code",
   "execution_count": 24,
   "id": "economic-server",
   "metadata": {
    "execution": {
     "iopub.execute_input": "2021-07-03T10:09:15.359016Z",
     "iopub.status.busy": "2021-07-03T10:09:15.358196Z",
     "iopub.status.idle": "2021-07-03T10:09:15.369060Z",
     "shell.execute_reply": "2021-07-03T10:09:15.368284Z"
    },
    "papermill": {
     "duration": 0.068962,
     "end_time": "2021-07-03T10:09:15.369188",
     "exception": false,
     "start_time": "2021-07-03T10:09:15.300226",
     "status": "completed"
    },
    "tags": []
   },
   "outputs": [],
   "source": [
    "model_new = Model(layers[:-2])"
   ]
  },
  {
   "cell_type": "code",
   "execution_count": 25,
   "id": "varied-upgrade",
   "metadata": {
    "execution": {
     "iopub.execute_input": "2021-07-03T10:09:15.472912Z",
     "iopub.status.busy": "2021-07-03T10:09:15.470706Z",
     "iopub.status.idle": "2021-07-03T10:09:15.490880Z",
     "shell.execute_reply": "2021-07-03T10:09:15.491589Z"
    },
    "papermill": {
     "duration": 0.074068,
     "end_time": "2021-07-03T10:09:15.491732",
     "exception": false,
     "start_time": "2021-07-03T10:09:15.417664",
     "status": "completed"
    },
    "tags": []
   },
   "outputs": [],
   "source": [
    "plot_testing = model_new(testing_xdata)"
   ]
  },
  {
   "cell_type": "code",
   "execution_count": 26,
   "id": "specific-handling",
   "metadata": {
    "execution": {
     "iopub.execute_input": "2021-07-03T10:09:15.638121Z",
     "iopub.status.busy": "2021-07-03T10:09:15.637547Z",
     "iopub.status.idle": "2021-07-03T10:09:15.855648Z",
     "shell.execute_reply": "2021-07-03T10:09:15.855127Z"
    },
    "papermill": {
     "duration": 0.303424,
     "end_time": "2021-07-03T10:09:15.855777",
     "exception": false,
     "start_time": "2021-07-03T10:09:15.552353",
     "status": "completed"
    },
    "tags": []
   },
   "outputs": [
    {
     "data": {
      "text/plain": [
       "Text(0.5, 1.0, 'Outputs')"
      ]
     },
     "execution_count": 26,
     "metadata": {},
     "output_type": "execute_result"
    },
    {
     "data": {
      "image/png": "[encoded data removed]",
      "text/plain": [
       "<Figure size 576x504 with 1 Axes>"
      ]
     },
     "metadata": {
      "needs_background": "light"
     },
     "output_type": "display_data"
    }
   ],
   "source": [
    "plt.figure(figsize=(8,7))\n",
    "plt.scatter(plot_testing[:,0], plot_testing[:,1], alpha = 0.1, c = y_test.ravel());\n",
    "plt.title('Outputs')"
   ]
  },
  {
   "cell_type": "markdown",
   "id": "described-knowing",
   "metadata": {
    "papermill": {
     "duration": 0.049237,
     "end_time": "2021-07-03T10:09:15.954996",
     "exception": false,
     "start_time": "2021-07-03T10:09:15.905759",
     "status": "completed"
    },
    "tags": []
   },
   "source": [
    "### Plotting probability contours"
   ]
  },
  {
   "cell_type": "code",
   "execution_count": 27,
   "id": "needed-growing",
   "metadata": {
    "execution": {
     "iopub.execute_input": "2021-07-03T10:09:16.064732Z",
     "iopub.status.busy": "2021-07-03T10:09:16.060600Z",
     "iopub.status.idle": "2021-07-03T10:09:16.073332Z",
     "shell.execute_reply": "2021-07-03T10:09:16.072735Z"
    },
    "papermill": {
     "duration": 0.067977,
     "end_time": "2021-07-03T10:09:16.073444",
     "exception": false,
     "start_time": "2021-07-03T10:09:16.005467",
     "status": "completed"
    },
    "tags": []
   },
   "outputs": [],
   "source": [
    "model_prob = Model(layers[-2:]) "
   ]
  },
  {
   "cell_type": "code",
   "execution_count": 28,
   "id": "introductory-enforcement",
   "metadata": {
    "execution": {
     "iopub.execute_input": "2021-07-03T10:09:16.182192Z",
     "iopub.status.busy": "2021-07-03T10:09:16.181648Z",
     "iopub.status.idle": "2021-07-03T10:09:16.197206Z",
     "shell.execute_reply": "2021-07-03T10:09:16.196721Z"
    },
    "papermill": {
     "duration": 0.073198,
     "end_time": "2021-07-03T10:09:16.197326",
     "exception": false,
     "start_time": "2021-07-03T10:09:16.124128",
     "status": "completed"
    },
    "tags": []
   },
   "outputs": [],
   "source": [
    "# Adjust the x and y ranges according to the above generated plot.\n",
    "x_range = np.linspace(-4, 1, 100) \n",
    "y_range = np.linspace(-6, 6, 100) \n",
    "x_grid, y_grid = np.meshgrid(x_range, y_range) # x_grid and y_grig are of size 100 X 100\n",
    "\n",
    "# converting x_grid and y_grid to continuous arrays\n",
    "x_grid_flat = np.ravel(x_grid)\n",
    "y_grid_flat = np.ravel(y_grid)\n",
    "\n",
    "# The last layer of the current model takes two columns as input. Hence transpose of np.vstack() is required.\n",
    "X = np.vstack((x_grid_flat, y_grid_flat)).T\n",
    "\n",
    "# x_grid and y_grid are of size 100 x 100\n",
    "probability_contour = model_prob(X).reshape(100,100) "
   ]
  },
  {
   "cell_type": "code",
   "execution_count": 29,
   "id": "understood-landing",
   "metadata": {
    "execution": {
     "iopub.execute_input": "2021-07-03T10:09:16.321528Z",
     "iopub.status.busy": "2021-07-03T10:09:16.320937Z",
     "iopub.status.idle": "2021-07-03T10:09:16.599032Z",
     "shell.execute_reply": "2021-07-03T10:09:16.599493Z"
    },
    "papermill": {
     "duration": 0.345427,
     "end_time": "2021-07-03T10:09:16.599638",
     "exception": false,
     "start_time": "2021-07-03T10:09:16.254211",
     "status": "completed"
    },
    "tags": []
   },
   "outputs": [
    {
     "data": {
      "image/png": "[encoded data removed]",
      "text/plain": [
       "<Figure size 720x648 with 1 Axes>"
      ]
     },
     "metadata": {
      "needs_background": "light"
     },
     "output_type": "display_data"
    }
   ],
   "source": [
    "plt.figure(figsize=(10,9))\n",
    "plt.scatter(plot_testing[:,0], plot_testing[:,1], alpha = 0.1, c = y_test.ravel())\n",
    "contours = plt.contour(x_grid,y_grid,probability_contour)\n",
    "plt.title('Probability Contours')\n",
    "plt.clabel(contours, inline = True );"
   ]
  }
 ],
 "metadata": {
  "kernelspec": {
   "display_name": "Python 3",
   "language": "python",
   "name": "python3"
  },
  "language_info": {
   "codemirror_mode": {
    "name": "ipython",
    "version": 3
   },
   "file_extension": ".py",
   "mimetype": "text/x-python",
   "name": "python",
   "nbconvert_exporter": "python",
   "pygments_lexer": "ipython3",
   "version": "3.6.13"
  },
  "papermill": {
   "duration": 264.935606,
   "end_time": "2021-07-03T10:09:17.061653",
   "environment_variables": {},
   "exception": null,
   "input_path": "2020-08-11-NeuralNetwork.ipynb",
   "output_path": "2020-08-11-NeuralNetwork.ipynb",
   "parameters": {},
   "start_time": "2021-07-03T10:04:52.126047",
   "version": "2.1.2"
  }
 },
 "nbformat": 4,
 "nbformat_minor": 5
}