{
 "cells": [
  {
   "cell_type": "markdown",
   "id": "fitted-suggestion",
   "metadata": {
    "papermill": {
     "duration": 0.03459,
     "end_time": "2021-05-29T00:40:19.438471",
     "exception": false,
     "start_time": "2021-05-29T00:40:19.403881",
     "status": "completed"
    },
    "tags": []
   },
   "source": [
    "# \"A Basic Neural Network: Differentiate Hand-Written Digits\"\n",
    "\n",
    "- badges: true\n",
    "- author: Akshith Sriram"
   ]
  },
  {
   "cell_type": "markdown",
   "id": "signal-flexibility",
   "metadata": {
    "papermill": {
     "duration": 0.031229,
     "end_time": "2021-05-29T00:40:19.501006",
     "exception": false,
     "start_time": "2021-05-29T00:40:19.469777",
     "status": "completed"
    },
    "tags": []
   },
   "source": [
    "### Key Objectives:\n",
    "- Building a neural network that differentiates two hand-written digits 3 and 8.\n",
    "- Comparing the results of this Neural Network (NN) to that of a Logistic Regression (LR) model.\n",
    "\n",
    "### Requirements:\n",
    "- 'Kudzu' : A neural network library that was designed during our course by [Univ.AI](www.univ.ai). \n",
    "- MNIST Database\n",
    "\n",
    "If MNIST is not installed, use the command `!pip install mnist` given below.\n",
    "It can be run both from the command line and Jupyter Notebook."
   ]
  },
  {
   "cell_type": "code",
   "execution_count": 1,
   "id": "british-texture",
   "metadata": {
    "execution": {
     "iopub.execute_input": "2021-05-29T00:40:19.584816Z",
     "iopub.status.busy": "2021-05-29T00:40:19.584003Z",
     "iopub.status.idle": "2021-05-29T00:40:21.258122Z",
     "shell.execute_reply": "2021-05-29T00:40:21.257160Z"
    },
    "papermill": {
     "duration": 1.7201,
     "end_time": "2021-05-29T00:40:21.258264",
     "exception": false,
     "start_time": "2021-05-29T00:40:19.538164",
     "status": "completed"
    },
    "tags": []
   },
   "outputs": [
    {
     "name": "stdout",
     "output_type": "stream",
     "text": [
      "Collecting mnist\r\n"
     ]
    },
    {
     "name": "stdout",
     "output_type": "stream",
     "text": [
      "  Downloading mnist-0.2.2-py2.py3-none-any.whl (3.5 kB)\r\n",
      "Requirement already satisfied: numpy in /opt/hostedtoolcache/Python/3.6.13/x64/lib/python3.6/site-packages (from mnist) (1.19.5)\r\n"
     ]
    },
    {
     "name": "stdout",
     "output_type": "stream",
     "text": [
      "Installing collected packages: mnist\r\n"
     ]
    },
    {
     "name": "stdout",
     "output_type": "stream",
     "text": [
      "Successfully installed mnist-0.2.2\r\n"
     ]
    }
   ],
   "source": [
    "!pip install mnist "
   ]
  },
  {
   "cell_type": "markdown",
   "id": "stunning-extra",
   "metadata": {
    "papermill": {
     "duration": 0.033026,
     "end_time": "2021-05-29T00:40:21.323511",
     "exception": false,
     "start_time": "2021-05-29T00:40:21.290485",
     "status": "completed"
    },
    "tags": []
   },
   "source": [
    "#### Importing necessary libraries"
   ]
  },
  {
   "cell_type": "code",
   "execution_count": 2,
   "id": "wooden-france",
   "metadata": {
    "execution": {
     "iopub.execute_input": "2021-05-29T00:40:21.394779Z",
     "iopub.status.busy": "2021-05-29T00:40:21.394174Z",
     "iopub.status.idle": "2021-05-29T00:40:21.993467Z",
     "shell.execute_reply": "2021-05-29T00:40:21.992397Z"
    },
    "papermill": {
     "duration": 0.639267,
     "end_time": "2021-05-29T00:40:21.993645",
     "exception": false,
     "start_time": "2021-05-29T00:40:21.354378",
     "status": "completed"
    },
    "tags": []
   },
   "outputs": [],
   "source": [
    "%load_ext autoreload\n",
    "%autoreload 2\n",
    "\n",
    "%matplotlib inline\n",
    "import matplotlib.pyplot as plt\n",
    "\n",
    "import numpy as np\n",
    "import pandas as pd"
   ]
  },
  {
   "cell_type": "markdown",
   "id": "stunning-physics",
   "metadata": {
    "papermill": {
     "duration": 0.03397,
     "end_time": "2021-05-29T00:40:22.063097",
     "exception": false,
     "start_time": "2021-05-29T00:40:22.029127",
     "status": "completed"
    },
    "tags": []
   },
   "source": [
    "### Preparing the Data"
   ]
  },
  {
   "cell_type": "code",
   "execution_count": 3,
   "id": "unauthorized-remainder",
   "metadata": {
    "execution": {
     "iopub.execute_input": "2021-05-29T00:40:22.141705Z",
     "iopub.status.busy": "2021-05-29T00:40:22.141051Z",
     "iopub.status.idle": "2021-05-29T00:40:22.154234Z",
     "shell.execute_reply": "2021-05-29T00:40:22.154752Z"
    },
    "papermill": {
     "duration": 0.057958,
     "end_time": "2021-05-29T00:40:22.154919",
     "exception": false,
     "start_time": "2021-05-29T00:40:22.096961",
     "status": "completed"
    },
    "tags": []
   },
   "outputs": [],
   "source": [
    "import mnist"
   ]
  },
  {
   "cell_type": "code",
   "execution_count": 4,
   "id": "correct-antarctica",
   "metadata": {
    "execution": {
     "iopub.execute_input": "2021-05-29T00:40:22.242243Z",
     "iopub.status.busy": "2021-05-29T00:40:22.232519Z",
     "iopub.status.idle": "2021-05-29T00:41:55.444049Z",
     "shell.execute_reply": "2021-05-29T00:41:55.442884Z"
    },
    "papermill": {
     "duration": 93.255426,
     "end_time": "2021-05-29T00:41:55.444195",
     "exception": false,
     "start_time": "2021-05-29T00:40:22.188769",
     "status": "completed"
    },
    "tags": []
   },
   "outputs": [],
   "source": [
    "train_images = mnist.train_images()\n",
    "train_labels = mnist.train_labels()"
   ]
  },
  {
   "cell_type": "code",
   "execution_count": 5,
   "id": "musical-prospect",
   "metadata": {
    "execution": {
     "iopub.execute_input": "2021-05-29T00:41:55.540406Z",
     "iopub.status.busy": "2021-05-29T00:41:55.534963Z",
     "iopub.status.idle": "2021-05-29T00:41:55.555457Z",
     "shell.execute_reply": "2021-05-29T00:41:55.554660Z"
    },
    "papermill": {
     "duration": 0.063252,
     "end_time": "2021-05-29T00:41:55.555846",
     "exception": false,
     "start_time": "2021-05-29T00:41:55.492594",
     "status": "completed"
    },
    "tags": []
   },
   "outputs": [
    {
     "data": {
      "text/plain": [
       "((60000, 28, 28), (60000,))"
      ]
     },
     "execution_count": 5,
     "metadata": {},
     "output_type": "execute_result"
    }
   ],
   "source": [
    "train_images.shape, train_labels.shape"
   ]
  },
  {
   "cell_type": "code",
   "execution_count": 6,
   "id": "preliminary-elizabeth",
   "metadata": {
    "execution": {
     "iopub.execute_input": "2021-05-29T00:41:55.634264Z",
     "iopub.status.busy": "2021-05-29T00:41:55.633606Z",
     "iopub.status.idle": "2021-05-29T00:42:10.563710Z",
     "shell.execute_reply": "2021-05-29T00:42:10.563009Z"
    },
    "papermill": {
     "duration": 14.97064,
     "end_time": "2021-05-29T00:42:10.563881",
     "exception": false,
     "start_time": "2021-05-29T00:41:55.593241",
     "status": "completed"
    },
    "tags": []
   },
   "outputs": [],
   "source": [
    "test_images = mnist.test_images()\n",
    "test_labels = mnist.test_labels()"
   ]
  },
  {
   "cell_type": "code",
   "execution_count": 7,
   "id": "acknowledged-oxygen",
   "metadata": {
    "execution": {
     "iopub.execute_input": "2021-05-29T00:42:10.654359Z",
     "iopub.status.busy": "2021-05-29T00:42:10.648733Z",
     "iopub.status.idle": "2021-05-29T00:42:10.661795Z",
     "shell.execute_reply": "2021-05-29T00:42:10.661153Z"
    },
    "papermill": {
     "duration": 0.060158,
     "end_time": "2021-05-29T00:42:10.661925",
     "exception": false,
     "start_time": "2021-05-29T00:42:10.601767",
     "status": "completed"
    },
    "tags": []
   },
   "outputs": [
    {
     "data": {
      "text/plain": [
       "((10000, 28, 28), (10000,))"
      ]
     },
     "execution_count": 7,
     "metadata": {},
     "output_type": "execute_result"
    }
   ],
   "source": [
    "test_images.shape, test_labels.shape"
   ]
  },
  {
   "cell_type": "code",
   "execution_count": 8,
   "id": "innovative-organic",
   "metadata": {
    "execution": {
     "iopub.execute_input": "2021-05-29T00:42:10.734222Z",
     "iopub.status.busy": "2021-05-29T00:42:10.733535Z",
     "iopub.status.idle": "2021-05-29T00:42:10.914857Z",
     "shell.execute_reply": "2021-05-29T00:42:10.914310Z"
    },
    "papermill": {
     "duration": 0.218835,
     "end_time": "2021-05-29T00:42:10.914999",
     "exception": false,
     "start_time": "2021-05-29T00:42:10.696164",
     "status": "completed"
    },
    "tags": []
   },
   "outputs": [
    {
     "name": "stdout",
     "output_type": "stream",
     "text": [
      "2\n"
     ]
    },
    {
     "data": {
      "text/plain": [
       "<matplotlib.image.AxesImage at 0x7f4fb2b09668>"
      ]
     },
     "execution_count": 8,
     "metadata": {},
     "output_type": "execute_result"
    },
    {
     "data": {
      "image/png": "[encoded data removed]",
      "text/plain": [
       "<Figure size 432x288 with 1 Axes>"
      ]
     },
     "metadata": {
      "needs_background": "light"
     },
     "output_type": "display_data"
    }
   ],
   "source": [
    "image_index = 7776 # You may select anything up to 60,000\n",
    "print(train_labels[image_index]) \n",
    "plt.imshow(train_images[image_index], cmap='Greys')"
   ]
  },
  {
   "cell_type": "markdown",
   "id": "facial-modem",
   "metadata": {
    "papermill": {
     "duration": 0.034311,
     "end_time": "2021-05-29T00:42:10.983048",
     "exception": false,
     "start_time": "2021-05-29T00:42:10.948737",
     "status": "completed"
    },
    "tags": []
   },
   "source": [
    "## Filter data to get 3 and 8 out"
   ]
  },
  {
   "cell_type": "code",
   "execution_count": 9,
   "id": "thousand-acquisition",
   "metadata": {
    "execution": {
     "iopub.execute_input": "2021-05-29T00:42:11.064413Z",
     "iopub.status.busy": "2021-05-29T00:42:11.056342Z",
     "iopub.status.idle": "2021-05-29T00:42:11.083089Z",
     "shell.execute_reply": "2021-05-29T00:42:11.082537Z"
    },
    "papermill": {
     "duration": 0.065554,
     "end_time": "2021-05-29T00:42:11.083226",
     "exception": false,
     "start_time": "2021-05-29T00:42:11.017672",
     "status": "completed"
    },
    "tags": []
   },
   "outputs": [],
   "source": [
    "train_filter = np.where((train_labels == 3 ) | (train_labels == 8))\n",
    "test_filter = np.where((test_labels == 3) | (test_labels == 8))\n",
    "X_train, y_train = train_images[train_filter], train_labels[train_filter]\n",
    "X_test, y_test = test_images[test_filter], test_labels[test_filter]"
   ]
  },
  {
   "cell_type": "markdown",
   "id": "ruled-access",
   "metadata": {
    "papermill": {
     "duration": 0.037045,
     "end_time": "2021-05-29T00:42:11.154068",
     "exception": false,
     "start_time": "2021-05-29T00:42:11.117023",
     "status": "completed"
    },
    "tags": []
   },
   "source": [
    "We normalize the pixel values in the 0 to 1 range"
   ]
  },
  {
   "cell_type": "code",
   "execution_count": 10,
   "id": "isolated-denver",
   "metadata": {
    "execution": {
     "iopub.execute_input": "2021-05-29T00:42:11.231546Z",
     "iopub.status.busy": "2021-05-29T00:42:11.230936Z",
     "iopub.status.idle": "2021-05-29T00:42:11.293342Z",
     "shell.execute_reply": "2021-05-29T00:42:11.292769Z"
    },
    "papermill": {
     "duration": 0.100826,
     "end_time": "2021-05-29T00:42:11.293472",
     "exception": false,
     "start_time": "2021-05-29T00:42:11.192646",
     "status": "completed"
    },
    "tags": []
   },
   "outputs": [],
   "source": [
    "X_train = X_train/255.\n",
    "X_test = X_test/255."
   ]
  },
  {
   "cell_type": "markdown",
   "id": "perfect-summary",
   "metadata": {
    "papermill": {
     "duration": 0.033187,
     "end_time": "2021-05-29T00:42:11.360491",
     "exception": false,
     "start_time": "2021-05-29T00:42:11.327304",
     "status": "completed"
    },
    "tags": []
   },
   "source": [
    "Setup the labels as 1 (when the digit is 3) and 0 (when the digit is 8)"
   ]
  },
  {
   "cell_type": "code",
   "execution_count": 11,
   "id": "personalized-growing",
   "metadata": {
    "execution": {
     "iopub.execute_input": "2021-05-29T00:42:11.436681Z",
     "iopub.status.busy": "2021-05-29T00:42:11.435975Z",
     "iopub.status.idle": "2021-05-29T00:42:11.448133Z",
     "shell.execute_reply": "2021-05-29T00:42:11.447585Z"
    },
    "papermill": {
     "duration": 0.05377,
     "end_time": "2021-05-29T00:42:11.448290",
     "exception": false,
     "start_time": "2021-05-29T00:42:11.394520",
     "status": "completed"
    },
    "tags": []
   },
   "outputs": [],
   "source": [
    "y_train = 1*(y_train==3)\n",
    "y_test = 1*(y_test==3)"
   ]
  },
  {
   "cell_type": "code",
   "execution_count": 12,
   "id": "considered-virgin",
   "metadata": {
    "execution": {
     "iopub.execute_input": "2021-05-29T00:42:11.524243Z",
     "iopub.status.busy": "2021-05-29T00:42:11.523674Z",
     "iopub.status.idle": "2021-05-29T00:42:11.538142Z",
     "shell.execute_reply": "2021-05-29T00:42:11.538789Z"
    },
    "papermill": {
     "duration": 0.055556,
     "end_time": "2021-05-29T00:42:11.538972",
     "exception": false,
     "start_time": "2021-05-29T00:42:11.483416",
     "status": "completed"
    },
    "tags": []
   },
   "outputs": [
    {
     "data": {
      "text/plain": [
       "((11982, 28, 28), (1984, 28, 28))"
      ]
     },
     "execution_count": 12,
     "metadata": {},
     "output_type": "execute_result"
    }
   ],
   "source": [
    "X_train.shape, X_test.shape"
   ]
  },
  {
   "cell_type": "markdown",
   "id": "civilian-mobile",
   "metadata": {
    "papermill": {
     "duration": 0.038685,
     "end_time": "2021-05-29T00:42:11.611393",
     "exception": false,
     "start_time": "2021-05-29T00:42:11.572708",
     "status": "completed"
    },
    "tags": []
   },
   "source": [
    "### Reshape the input data to create a linear array"
   ]
  },
  {
   "cell_type": "code",
   "execution_count": 13,
   "id": "colonial-adams",
   "metadata": {
    "execution": {
     "iopub.execute_input": "2021-05-29T00:42:11.683136Z",
     "iopub.status.busy": "2021-05-29T00:42:11.682509Z",
     "iopub.status.idle": "2021-05-29T00:42:11.698258Z",
     "shell.execute_reply": "2021-05-29T00:42:11.697664Z"
    },
    "papermill": {
     "duration": 0.052924,
     "end_time": "2021-05-29T00:42:11.698369",
     "exception": false,
     "start_time": "2021-05-29T00:42:11.645445",
     "status": "completed"
    },
    "tags": []
   },
   "outputs": [
    {
     "data": {
      "text/plain": [
       "((11982, 784), (1984, 784))"
      ]
     },
     "execution_count": 13,
     "metadata": {},
     "output_type": "execute_result"
    }
   ],
   "source": [
    "X_train = X_train.reshape(X_train.shape[0], -1)\n",
    "X_test = X_test.reshape(X_test.shape[0], -1)\n",
    "X_train.shape, X_test.shape"
   ]
  },
  {
   "cell_type": "markdown",
   "id": "smart-details",
   "metadata": {
    "papermill": {
     "duration": 0.034463,
     "end_time": "2021-05-29T00:42:11.765752",
     "exception": false,
     "start_time": "2021-05-29T00:42:11.731289",
     "status": "completed"
    },
    "tags": []
   },
   "source": [
    "### Importing appropriate functions from 'Kudzu'"
   ]
  },
  {
   "cell_type": "code",
   "execution_count": 14,
   "id": "celtic-trial",
   "metadata": {
    "execution": {
     "iopub.execute_input": "2021-05-29T00:42:11.839908Z",
     "iopub.status.busy": "2021-05-29T00:42:11.839284Z",
     "iopub.status.idle": "2021-05-29T00:42:11.857742Z",
     "shell.execute_reply": "2021-05-29T00:42:11.858285Z"
    },
    "papermill": {
     "duration": 0.056652,
     "end_time": "2021-05-29T00:42:11.858413",
     "exception": false,
     "start_time": "2021-05-29T00:42:11.801761",
     "status": "completed"
    },
    "tags": []
   },
   "outputs": [],
   "source": [
    "from kudzu.layer import Sigmoid\n",
    "from kudzu.layer import Relu\n",
    "from kudzu.layer import Affine, Sigmoid\n",
    "\n",
    "from kudzu.model import Model\n",
    "from kudzu.train import Learner\n",
    "from kudzu.optim import GD\n",
    "from kudzu.data import Data, Dataloader, Sampler\n",
    "\n",
    "from kudzu.callbacks import AccCallback\n",
    "from kudzu.callbacks import ClfCallback\n",
    "\n",
    "from kudzu.loss import MSE"
   ]
  },
  {
   "cell_type": "markdown",
   "id": "coupled-customer",
   "metadata": {
    "papermill": {
     "duration": 0.034934,
     "end_time": "2021-05-29T00:42:11.927599",
     "exception": false,
     "start_time": "2021-05-29T00:42:11.892665",
     "status": "completed"
    },
    "tags": []
   },
   "source": [
    "### Let us create a `Config` class, to store important parameters. \n",
    "This class essentially plays the role of a dictionary."
   ]
  },
  {
   "cell_type": "code",
   "execution_count": 15,
   "id": "young-ceiling",
   "metadata": {
    "execution": {
     "iopub.execute_input": "2021-05-29T00:42:12.002453Z",
     "iopub.status.busy": "2021-05-29T00:42:12.001828Z",
     "iopub.status.idle": "2021-05-29T00:42:12.016942Z",
     "shell.execute_reply": "2021-05-29T00:42:12.016430Z"
    },
    "papermill": {
     "duration": 0.05577,
     "end_time": "2021-05-29T00:42:12.017058",
     "exception": false,
     "start_time": "2021-05-29T00:42:11.961288",
     "status": "completed"
    },
    "tags": []
   },
   "outputs": [],
   "source": [
    "class Config:\n",
    "    pass\n",
    "config = Config()\n",
    "config.lr = 0.001\n",
    "config.num_epochs = 251\n",
    "config.bs = 50"
   ]
  },
  {
   "cell_type": "markdown",
   "id": "according-mandate",
   "metadata": {
    "papermill": {
     "duration": 0.037325,
     "end_time": "2021-05-29T00:42:12.090178",
     "exception": false,
     "start_time": "2021-05-29T00:42:12.052853",
     "status": "completed"
    },
    "tags": []
   },
   "source": [
    "### Initializing data to the variables"
   ]
  },
  {
   "cell_type": "code",
   "execution_count": 16,
   "id": "academic-disposition",
   "metadata": {
    "execution": {
     "iopub.execute_input": "2021-05-29T00:42:12.170355Z",
     "iopub.status.busy": "2021-05-29T00:42:12.169607Z",
     "iopub.status.idle": "2021-05-29T00:42:12.181093Z",
     "shell.execute_reply": "2021-05-29T00:42:12.180369Z"
    },
    "papermill": {
     "duration": 0.05606,
     "end_time": "2021-05-29T00:42:12.181233",
     "exception": false,
     "start_time": "2021-05-29T00:42:12.125173",
     "status": "completed"
    },
    "tags": []
   },
   "outputs": [],
   "source": [
    "data = Data(X_train, y_train.reshape(-1,1))\n",
    "sampler = Sampler(data, config.bs, shuffle=True)\n",
    "\n",
    "dl = Dataloader(data, sampler)\n",
    "\n",
    "opt = GD(config.lr)\n",
    "loss = MSE()"
   ]
  },
  {
   "cell_type": "code",
   "execution_count": 17,
   "id": "featured-commission",
   "metadata": {
    "execution": {
     "iopub.execute_input": "2021-05-29T00:42:12.265671Z",
     "iopub.status.busy": "2021-05-29T00:42:12.264949Z",
     "iopub.status.idle": "2021-05-29T00:42:12.278179Z",
     "shell.execute_reply": "2021-05-29T00:42:12.277605Z"
    },
    "papermill": {
     "duration": 0.061375,
     "end_time": "2021-05-29T00:42:12.278318",
     "exception": false,
     "start_time": "2021-05-29T00:42:12.216943",
     "status": "completed"
    },
    "tags": []
   },
   "outputs": [],
   "source": [
    "training_xdata = X_train\n",
    "testing_xdata = X_test\n",
    "training_ydata = y_train.reshape(-1,1)\n",
    "testing_ydata = y_test.reshape(-1,1)"
   ]
  },
  {
   "cell_type": "markdown",
   "id": "played-safety",
   "metadata": {
    "papermill": {
     "duration": 0.039101,
     "end_time": "2021-05-29T00:42:12.354895",
     "exception": false,
     "start_time": "2021-05-29T00:42:12.315794",
     "status": "completed"
    },
    "tags": []
   },
   "source": [
    "### Running Models with the Training data\n",
    "Details about the network layers:\n",
    "- A first affine layer has 784 inputs and does 100 affine transforms. These are followed by a Relu\n",
    "- A second affine layer has 100 inputs from the 100 activations of the past layer, and does 100 affine transforms. These are followed by a Relu\n",
    "- A third affine layer has 100 activations and does 2 affine transformations to create an embedding for visualization. There is no non-linearity here.\n",
    "- A final \"logistic regression\" which has an affine transform from 2 inputs to 1 output, which is squeezed through a sigmoid.\n",
    "\n",
    "Help taken from Anshuman's Notebook."
   ]
  },
  {
   "cell_type": "code",
   "execution_count": 18,
   "id": "asian-bankruptcy",
   "metadata": {
    "execution": {
     "iopub.execute_input": "2021-05-29T00:42:12.436044Z",
     "iopub.status.busy": "2021-05-29T00:42:12.435343Z",
     "iopub.status.idle": "2021-05-29T00:42:12.450619Z",
     "shell.execute_reply": "2021-05-29T00:42:12.451122Z"
    },
    "papermill": {
     "duration": 0.057743,
     "end_time": "2021-05-29T00:42:12.451272",
     "exception": false,
     "start_time": "2021-05-29T00:42:12.393529",
     "status": "completed"
    },
    "tags": []
   },
   "outputs": [],
   "source": [
    "# layers for the Neural Network\n",
    "layers = [Affine(\"first\", 784, 100), Relu(\"first\"), Affine(\"second\", 100, 100), Relu(\"second\"), Affine(\"third\", 100, 2), Affine(\"final\", 2, 1), Sigmoid(\"final\")]\n",
    "model_nn = Model(layers)\n",
    "\n",
    "# layers for the Logistic Regression\n",
    "layers_lr = [Affine(\"logits\", 784, 1), Sigmoid(\"sigmoid\")]\n",
    "model_lr = Model(layers_lr)"
   ]
  },
  {
   "cell_type": "code",
   "execution_count": 19,
   "id": "removed-butler",
   "metadata": {
    "execution": {
     "iopub.execute_input": "2021-05-29T00:42:12.529384Z",
     "iopub.status.busy": "2021-05-29T00:42:12.528722Z",
     "iopub.status.idle": "2021-05-29T00:42:12.542783Z",
     "shell.execute_reply": "2021-05-29T00:42:12.542239Z"
    },
    "papermill": {
     "duration": 0.057428,
     "end_time": "2021-05-29T00:42:12.542907",
     "exception": false,
     "start_time": "2021-05-29T00:42:12.485479",
     "status": "completed"
    },
    "tags": []
   },
   "outputs": [],
   "source": [
    "# suffix _nn stands for Neural Network.\n",
    "learner_nn = Learner(loss, model_nn, opt, config.num_epochs)\n",
    "acc_nn = ClfCallback(learner_nn, config.bs, training_xdata , testing_xdata, training_ydata, testing_ydata)\n",
    "learner_nn.set_callbacks([acc_nn])"
   ]
  },
  {
   "cell_type": "code",
   "execution_count": 20,
   "id": "conceptual-throw",
   "metadata": {
    "execution": {
     "iopub.execute_input": "2021-05-29T00:42:12.630857Z",
     "iopub.status.busy": "2021-05-29T00:42:12.630184Z",
     "iopub.status.idle": "2021-05-29T00:44:38.363020Z",
     "shell.execute_reply": "2021-05-29T00:44:38.363757Z"
    },
    "papermill": {
     "duration": 145.775344,
     "end_time": "2021-05-29T00:44:38.364021",
     "exception": false,
     "start_time": "2021-05-29T00:42:12.588677",
     "status": "completed"
    },
    "tags": []
   },
   "outputs": [
    {
     "name": "stdout",
     "output_type": "stream",
     "text": [
      "====== Neural Network ======\n"
     ]
    },
    {
     "name": "stdout",
     "output_type": "stream",
     "text": [
      "Epoch 0, Loss 0.2049\n",
      "Training Accuracy: 0.8240, Testing Accuracy: 0.8281\n",
      "\n"
     ]
    },
    {
     "name": "stdout",
     "output_type": "stream",
     "text": [
      "Epoch 10, Loss 0.0627\n",
      "Training Accuracy: 0.9337, Testing Accuracy: 0.9430\n",
      "\n"
     ]
    },
    {
     "name": "stdout",
     "output_type": "stream",
     "text": [
      "Epoch 20, Loss 0.044\n",
      "Training Accuracy: 0.9519, Testing Accuracy: 0.9577\n",
      "\n"
     ]
    },
    {
     "name": "stdout",
     "output_type": "stream",
     "text": [
      "Epoch 30, Loss 0.0364\n",
      "Training Accuracy: 0.9590, Testing Accuracy: 0.9627\n",
      "\n"
     ]
    },
    {
     "name": "stdout",
     "output_type": "stream",
     "text": [
      "Epoch 40, Loss 0.0323\n",
      "Training Accuracy: 0.9631, Testing Accuracy: 0.9642\n",
      "\n"
     ]
    },
    {
     "name": "stdout",
     "output_type": "stream",
     "text": [
      "Epoch 50, Loss 0.0296\n",
      "Training Accuracy: 0.9656, Testing Accuracy: 0.9642\n",
      "\n"
     ]
    },
    {
     "name": "stdout",
     "output_type": "stream",
     "text": [
      "Epoch 60, Loss 0.0277\n",
      "Training Accuracy: 0.9681, Testing Accuracy: 0.9677\n",
      "\n"
     ]
    },
    {
     "name": "stdout",
     "output_type": "stream",
     "text": [
      "Epoch 70, Loss 0.0262\n",
      "Training Accuracy: 0.9699, Testing Accuracy: 0.9677\n",
      "\n"
     ]
    },
    {
     "name": "stdout",
     "output_type": "stream",
     "text": [
      "Epoch 80, Loss 0.025\n",
      "Training Accuracy: 0.9709, Testing Accuracy: 0.9693\n",
      "\n"
     ]
    },
    {
     "name": "stdout",
     "output_type": "stream",
     "text": [
      "Epoch 90, Loss 0.0239\n",
      "Training Accuracy: 0.9723, Testing Accuracy: 0.9698\n",
      "\n"
     ]
    },
    {
     "name": "stdout",
     "output_type": "stream",
     "text": [
      "Epoch 100, Loss 0.023\n",
      "Training Accuracy: 0.9735, Testing Accuracy: 0.9708\n",
      "\n"
     ]
    },
    {
     "name": "stdout",
     "output_type": "stream",
     "text": [
      "Epoch 110, Loss 0.0222\n",
      "Training Accuracy: 0.9747, Testing Accuracy: 0.9723\n",
      "\n"
     ]
    },
    {
     "name": "stdout",
     "output_type": "stream",
     "text": [
      "Epoch 120, Loss 0.0215\n",
      "Training Accuracy: 0.9755, Testing Accuracy: 0.9723\n",
      "\n"
     ]
    },
    {
     "name": "stdout",
     "output_type": "stream",
     "text": [
      "Epoch 130, Loss 0.0209\n",
      "Training Accuracy: 0.9763, Testing Accuracy: 0.9728\n",
      "\n"
     ]
    },
    {
     "name": "stdout",
     "output_type": "stream",
     "text": [
      "Epoch 140, Loss 0.0203\n",
      "Training Accuracy: 0.9771, Testing Accuracy: 0.9733\n",
      "\n"
     ]
    },
    {
     "name": "stdout",
     "output_type": "stream",
     "text": [
      "Epoch 150, Loss 0.0197\n",
      "Training Accuracy: 0.9781, Testing Accuracy: 0.9743\n",
      "\n"
     ]
    },
    {
     "name": "stdout",
     "output_type": "stream",
     "text": [
      "Epoch 160, Loss 0.0192\n",
      "Training Accuracy: 0.9791, Testing Accuracy: 0.9743\n",
      "\n"
     ]
    },
    {
     "name": "stdout",
     "output_type": "stream",
     "text": [
      "Epoch 170, Loss 0.0187\n",
      "Training Accuracy: 0.9795, Testing Accuracy: 0.9748\n",
      "\n"
     ]
    },
    {
     "name": "stdout",
     "output_type": "stream",
     "text": [
      "Epoch 180, Loss 0.0182\n",
      "Training Accuracy: 0.9798, Testing Accuracy: 0.9748\n",
      "\n"
     ]
    },
    {
     "name": "stdout",
     "output_type": "stream",
     "text": [
      "Epoch 190, Loss 0.0178\n",
      "Training Accuracy: 0.9809, Testing Accuracy: 0.9753\n",
      "\n"
     ]
    },
    {
     "name": "stdout",
     "output_type": "stream",
     "text": [
      "Epoch 200, Loss 0.0174\n",
      "Training Accuracy: 0.9814, Testing Accuracy: 0.9753\n",
      "\n"
     ]
    },
    {
     "name": "stdout",
     "output_type": "stream",
     "text": [
      "Epoch 210, Loss 0.017\n",
      "Training Accuracy: 0.9818, Testing Accuracy: 0.9753\n",
      "\n"
     ]
    },
    {
     "name": "stdout",
     "output_type": "stream",
     "text": [
      "Epoch 220, Loss 0.0166\n",
      "Training Accuracy: 0.9818, Testing Accuracy: 0.9753\n",
      "\n"
     ]
    },
    {
     "name": "stdout",
     "output_type": "stream",
     "text": [
      "Epoch 230, Loss 0.0162\n",
      "Training Accuracy: 0.9823, Testing Accuracy: 0.9758\n",
      "\n"
     ]
    },
    {
     "name": "stdout",
     "output_type": "stream",
     "text": [
      "Epoch 240, Loss 0.0159\n",
      "Training Accuracy: 0.9830, Testing Accuracy: 0.9758\n",
      "\n"
     ]
    },
    {
     "name": "stdout",
     "output_type": "stream",
     "text": [
      "Epoch 250, Loss 0.0155\n",
      "Training Accuracy: 0.9832, Testing Accuracy: 0.9758\n",
      "\n"
     ]
    },
    {
     "data": {
      "text/plain": [
       "0.03114584100371619"
      ]
     },
     "execution_count": 20,
     "metadata": {},
     "output_type": "execute_result"
    }
   ],
   "source": [
    "print(\"====== Neural Network ======\")\n",
    "learner_nn.train_loop(dl)"
   ]
  },
  {
   "cell_type": "markdown",
   "id": "competent-suffering",
   "metadata": {
    "papermill": {
     "duration": 0.048499,
     "end_time": "2021-05-29T00:44:38.462849",
     "exception": false,
     "start_time": "2021-05-29T00:44:38.414350",
     "status": "completed"
    },
    "tags": []
   },
   "source": [
    "### Logistic Regression based Implementation."
   ]
  },
  {
   "cell_type": "code",
   "execution_count": 21,
   "id": "qualified-psychiatry",
   "metadata": {
    "execution": {
     "iopub.execute_input": "2021-05-29T00:44:38.560926Z",
     "iopub.status.busy": "2021-05-29T00:44:38.560208Z",
     "iopub.status.idle": "2021-05-29T00:44:38.590170Z",
     "shell.execute_reply": "2021-05-29T00:44:38.591143Z"
    },
    "papermill": {
     "duration": 0.081491,
     "end_time": "2021-05-29T00:44:38.591286",
     "exception": false,
     "start_time": "2021-05-29T00:44:38.509795",
     "status": "completed"
    },
    "tags": []
   },
   "outputs": [],
   "source": [
    "learner_lr = Learner(loss, model_lr, opt, config.num_epochs)\n",
    "acc_lr = ClfCallback(learner_lr, config.bs, training_xdata , testing_xdata, training_ydata, testing_ydata)\n",
    "learner_lr.set_callbacks([acc_lr])"
   ]
  },
  {
   "cell_type": "code",
   "execution_count": 22,
   "id": "average-outside",
   "metadata": {
    "execution": {
     "iopub.execute_input": "2021-05-29T00:44:38.686934Z",
     "iopub.status.busy": "2021-05-29T00:44:38.686281Z",
     "iopub.status.idle": "2021-05-29T00:44:59.332929Z",
     "shell.execute_reply": "2021-05-29T00:44:59.333663Z"
    },
    "papermill": {
     "duration": 20.695844,
     "end_time": "2021-05-29T00:44:59.333808",
     "exception": false,
     "start_time": "2021-05-29T00:44:38.637964",
     "status": "completed"
    },
    "tags": []
   },
   "outputs": [
    {
     "name": "stdout",
     "output_type": "stream",
     "text": [
      "====== Logistic Regression ======\n",
      "Epoch 0, Loss 0.2311\n",
      "Training Accuracy: 0.7154, Testing Accuracy: 0.6910\n",
      "\n"
     ]
    },
    {
     "name": "stdout",
     "output_type": "stream",
     "text": [
      "Epoch 10, Loss 0.1027\n",
      "Training Accuracy: 0.9081, Testing Accuracy: 0.9178\n",
      "\n"
     ]
    },
    {
     "name": "stdout",
     "output_type": "stream",
     "text": [
      "Epoch 20, Loss 0.0795\n",
      "Training Accuracy: 0.9240, Testing Accuracy: 0.9395\n",
      "\n"
     ]
    },
    {
     "name": "stdout",
     "output_type": "stream",
     "text": [
      "Epoch 30, Loss 0.0686\n",
      "Training Accuracy: 0.9342, Testing Accuracy: 0.9471\n",
      "\n"
     ]
    },
    {
     "name": "stdout",
     "output_type": "stream",
     "text": [
      "Epoch 40, Loss 0.062\n",
      "Training Accuracy: 0.9401, Testing Accuracy: 0.9506\n",
      "\n"
     ]
    },
    {
     "name": "stdout",
     "output_type": "stream",
     "text": [
      "Epoch 50, Loss 0.0574\n",
      "Training Accuracy: 0.9422, Testing Accuracy: 0.9556\n",
      "\n"
     ]
    },
    {
     "name": "stdout",
     "output_type": "stream",
     "text": [
      "Epoch 60, Loss 0.054\n",
      "Training Accuracy: 0.9462, Testing Accuracy: 0.9561\n",
      "\n"
     ]
    },
    {
     "name": "stdout",
     "output_type": "stream",
     "text": [
      "Epoch 70, Loss 0.0514\n",
      "Training Accuracy: 0.9476, Testing Accuracy: 0.9577\n",
      "\n"
     ]
    },
    {
     "name": "stdout",
     "output_type": "stream",
     "text": [
      "Epoch 80, Loss 0.0494\n",
      "Training Accuracy: 0.9497, Testing Accuracy: 0.9597\n",
      "\n"
     ]
    },
    {
     "name": "stdout",
     "output_type": "stream",
     "text": [
      "Epoch 90, Loss 0.0476\n",
      "Training Accuracy: 0.9510, Testing Accuracy: 0.9622\n",
      "\n"
     ]
    },
    {
     "name": "stdout",
     "output_type": "stream",
     "text": [
      "Epoch 100, Loss 0.0462\n",
      "Training Accuracy: 0.9521, Testing Accuracy: 0.9632\n",
      "\n"
     ]
    },
    {
     "name": "stdout",
     "output_type": "stream",
     "text": [
      "Epoch 110, Loss 0.045\n",
      "Training Accuracy: 0.9530, Testing Accuracy: 0.9647\n",
      "\n"
     ]
    },
    {
     "name": "stdout",
     "output_type": "stream",
     "text": [
      "Epoch 120, Loss 0.0439\n",
      "Training Accuracy: 0.9538, Testing Accuracy: 0.9647\n",
      "\n"
     ]
    },
    {
     "name": "stdout",
     "output_type": "stream",
     "text": [
      "Epoch 130, Loss 0.0429\n",
      "Training Accuracy: 0.9543, Testing Accuracy: 0.9647\n",
      "\n"
     ]
    },
    {
     "name": "stdout",
     "output_type": "stream",
     "text": [
      "Epoch 140, Loss 0.0421\n",
      "Training Accuracy: 0.9551, Testing Accuracy: 0.9647\n",
      "\n"
     ]
    },
    {
     "name": "stdout",
     "output_type": "stream",
     "text": [
      "Epoch 150, Loss 0.0413\n",
      "Training Accuracy: 0.9560, Testing Accuracy: 0.9647\n",
      "\n"
     ]
    },
    {
     "name": "stdout",
     "output_type": "stream",
     "text": [
      "Epoch 160, Loss 0.0407\n",
      "Training Accuracy: 0.9568, Testing Accuracy: 0.9647\n",
      "\n"
     ]
    },
    {
     "name": "stdout",
     "output_type": "stream",
     "text": [
      "Epoch 170, Loss 0.04\n",
      "Training Accuracy: 0.9575, Testing Accuracy: 0.9652\n",
      "\n"
     ]
    },
    {
     "name": "stdout",
     "output_type": "stream",
     "text": [
      "Epoch 180, Loss 0.0395\n",
      "Training Accuracy: 0.9580, Testing Accuracy: 0.9652\n",
      "\n"
     ]
    },
    {
     "name": "stdout",
     "output_type": "stream",
     "text": [
      "Epoch 190, Loss 0.039\n",
      "Training Accuracy: 0.9585, Testing Accuracy: 0.9652\n",
      "\n"
     ]
    },
    {
     "name": "stdout",
     "output_type": "stream",
     "text": [
      "Epoch 200, Loss 0.0385\n",
      "Training Accuracy: 0.9592, Testing Accuracy: 0.9652\n",
      "\n"
     ]
    },
    {
     "name": "stdout",
     "output_type": "stream",
     "text": [
      "Epoch 210, Loss 0.038\n",
      "Training Accuracy: 0.9599, Testing Accuracy: 0.9657\n",
      "\n"
     ]
    },
    {
     "name": "stdout",
     "output_type": "stream",
     "text": [
      "Epoch 220, Loss 0.0376\n",
      "Training Accuracy: 0.9604, Testing Accuracy: 0.9657\n",
      "\n"
     ]
    },
    {
     "name": "stdout",
     "output_type": "stream",
     "text": [
      "Epoch 230, Loss 0.0372\n",
      "Training Accuracy: 0.9607, Testing Accuracy: 0.9662\n",
      "\n"
     ]
    },
    {
     "name": "stdout",
     "output_type": "stream",
     "text": [
      "Epoch 240, Loss 0.0369\n",
      "Training Accuracy: 0.9609, Testing Accuracy: 0.9667\n",
      "\n"
     ]
    },
    {
     "name": "stdout",
     "output_type": "stream",
     "text": [
      "Epoch 250, Loss 0.0365\n",
      "Training Accuracy: 0.9612, Testing Accuracy: 0.9672\n",
      "\n"
     ]
    },
    {
     "data": {
      "text/plain": [
       "0.033211936706146916"
      ]
     },
     "execution_count": 22,
     "metadata": {},
     "output_type": "execute_result"
    }
   ],
   "source": [
    "print(\"====== Logistic Regression ======\")\n",
    "learner_lr.train_loop(dl)"
   ]
  },
  {
   "cell_type": "markdown",
   "id": "adjusted-possible",
   "metadata": {
    "papermill": {
     "duration": 0.052242,
     "end_time": "2021-05-29T00:44:59.441236",
     "exception": false,
     "start_time": "2021-05-29T00:44:59.388994",
     "status": "completed"
    },
    "tags": []
   },
   "source": [
    "### Comparing results of NN and LR"
   ]
  },
  {
   "cell_type": "code",
   "execution_count": 23,
   "id": "mental-multimedia",
   "metadata": {
    "execution": {
     "iopub.execute_input": "2021-05-29T00:44:59.550500Z",
     "iopub.status.busy": "2021-05-29T00:44:59.549880Z",
     "iopub.status.idle": "2021-05-29T00:44:59.843847Z",
     "shell.execute_reply": "2021-05-29T00:44:59.844355Z"
    },
    "papermill": {
     "duration": 0.350846,
     "end_time": "2021-05-29T00:44:59.844506",
     "exception": false,
     "start_time": "2021-05-29T00:44:59.493660",
     "status": "completed"
    },
    "tags": []
   },
   "outputs": [
    {
     "data": {
      "text/plain": [
       "<matplotlib.legend.Legend at 0x7f4faa66d0b8>"
      ]
     },
     "execution_count": 23,
     "metadata": {},
     "output_type": "execute_result"
    },
    {
     "data": {
      "image/png": "[encoded data removed]",
      "text/plain": [
       "<Figure size 1080x720 with 1 Axes>"
      ]
     },
     "metadata": {
      "needs_background": "light"
     },
     "output_type": "display_data"
    }
   ],
   "source": [
    "plt.figure(figsize=(15,10))\n",
    "\n",
    "# Neural Network plots\n",
    "plt.plot(acc_nn.accuracies, 'r-', label = \"Training Accuracies - NN\")\n",
    "plt.plot(acc_nn.test_accuracies, 'g-', label = \"Testing Accuracies - NN\")\n",
    "\n",
    "# Logistic Regression plots\n",
    "plt.plot(acc_lr.accuracies, 'k-', label = \"Training Accuracies - LR\")\n",
    "plt.plot(acc_lr.test_accuracies, 'b-', label = \"Testing Accuracies - LR\")\n",
    "\n",
    "plt.ylim(0.8, 1)\n",
    "\n",
    "plt.legend()\n",
    "\n"
   ]
  },
  {
   "cell_type": "markdown",
   "id": "sexual-flesh",
   "metadata": {
    "papermill": {
     "duration": 0.056645,
     "end_time": "2021-05-29T00:44:59.971766",
     "exception": false,
     "start_time": "2021-05-29T00:44:59.915121",
     "status": "completed"
    },
    "tags": []
   },
   "source": [
    "### From the plot, we can observe the following:\n",
    "- Neural Network achieves higher accuracy than the Logistic Regression model.\n",
    "- This apparently, is because of overfitting, i.e. NN captures more noise than data.\n",
    "- Testing accuracy of NN drops below the Training accuracy at higher epochs. This explains the over-fitting on training data.\n",
    "- Logistic Regression gives a reliable accuracy, without the above mentioned problem.\n"
   ]
  },
  {
   "cell_type": "markdown",
   "id": "institutional-pacific",
   "metadata": {
    "papermill": {
     "duration": 0.057558,
     "end_time": "2021-05-29T00:45:00.085908",
     "exception": false,
     "start_time": "2021-05-29T00:45:00.028350",
     "status": "completed"
    },
    "tags": []
   },
   "source": [
    "### Moving till the last but one layer (excluding it).\n",
    "#### Plotting the outputs of this layer of the NN."
   ]
  },
  {
   "cell_type": "code",
   "execution_count": 24,
   "id": "economic-server",
   "metadata": {
    "execution": {
     "iopub.execute_input": "2021-05-29T00:45:00.210963Z",
     "iopub.status.busy": "2021-05-29T00:45:00.210061Z",
     "iopub.status.idle": "2021-05-29T00:45:00.220521Z",
     "shell.execute_reply": "2021-05-29T00:45:00.219263Z"
    },
    "papermill": {
     "duration": 0.080139,
     "end_time": "2021-05-29T00:45:00.220652",
     "exception": false,
     "start_time": "2021-05-29T00:45:00.140513",
     "status": "completed"
    },
    "tags": []
   },
   "outputs": [],
   "source": [
    "model_new = Model(layers[:-2])"
   ]
  },
  {
   "cell_type": "code",
   "execution_count": 25,
   "id": "varied-upgrade",
   "metadata": {
    "execution": {
     "iopub.execute_input": "2021-05-29T00:45:00.341670Z",
     "iopub.status.busy": "2021-05-29T00:45:00.339391Z",
     "iopub.status.idle": "2021-05-29T00:45:00.375488Z",
     "shell.execute_reply": "2021-05-29T00:45:00.375977Z"
    },
    "papermill": {
     "duration": 0.096846,
     "end_time": "2021-05-29T00:45:00.376131",
     "exception": false,
     "start_time": "2021-05-29T00:45:00.279285",
     "status": "completed"
    },
    "tags": []
   },
   "outputs": [],
   "source": [
    "plot_testing = model_new(testing_xdata)"
   ]
  },
  {
   "cell_type": "code",
   "execution_count": 26,
   "id": "specific-handling",
   "metadata": {
    "execution": {
     "iopub.execute_input": "2021-05-29T00:45:00.516049Z",
     "iopub.status.busy": "2021-05-29T00:45:00.515338Z",
     "iopub.status.idle": "2021-05-29T00:45:00.733408Z",
     "shell.execute_reply": "2021-05-29T00:45:00.734168Z"
    },
    "papermill": {
     "duration": 0.27965,
     "end_time": "2021-05-29T00:45:00.734388",
     "exception": false,
     "start_time": "2021-05-29T00:45:00.454738",
     "status": "completed"
    },
    "tags": []
   },
   "outputs": [
    {
     "data": {
      "text/plain": [
       "Text(0.5, 1.0, 'Outputs')"
      ]
     },
     "execution_count": 26,
     "metadata": {},
     "output_type": "execute_result"
    },
    {
     "data": {
      "image/png": "[encoded data removed]",
      "text/plain": [
       "<Figure size 576x504 with 1 Axes>"
      ]
     },
     "metadata": {
      "needs_background": "light"
     },
     "output_type": "display_data"
    }
   ],
   "source": [
    "plt.figure(figsize=(8,7))\n",
    "plt.scatter(plot_testing[:,0], plot_testing[:,1], alpha = 0.1, c = y_test.ravel());\n",
    "plt.title('Outputs')"
   ]
  },
  {
   "cell_type": "markdown",
   "id": "described-knowing",
   "metadata": {
    "papermill": {
     "duration": 0.066173,
     "end_time": "2021-05-29T00:45:00.862249",
     "exception": false,
     "start_time": "2021-05-29T00:45:00.796076",
     "status": "completed"
    },
    "tags": []
   },
   "source": [
    "### Plotting probability contours"
   ]
  },
  {
   "cell_type": "code",
   "execution_count": 27,
   "id": "needed-growing",
   "metadata": {
    "execution": {
     "iopub.execute_input": "2021-05-29T00:45:00.986894Z",
     "iopub.status.busy": "2021-05-29T00:45:00.986272Z",
     "iopub.status.idle": "2021-05-29T00:45:00.998450Z",
     "shell.execute_reply": "2021-05-29T00:45:00.997915Z"
    },
    "papermill": {
     "duration": 0.076731,
     "end_time": "2021-05-29T00:45:00.998563",
     "exception": false,
     "start_time": "2021-05-29T00:45:00.921832",
     "status": "completed"
    },
    "tags": []
   },
   "outputs": [],
   "source": [
    "model_prob = Model(layers[-2:]) "
   ]
  },
  {
   "cell_type": "code",
   "execution_count": 28,
   "id": "introductory-enforcement",
   "metadata": {
    "execution": {
     "iopub.execute_input": "2021-05-29T00:45:01.118752Z",
     "iopub.status.busy": "2021-05-29T00:45:01.118118Z",
     "iopub.status.idle": "2021-05-29T00:45:01.132700Z",
     "shell.execute_reply": "2021-05-29T00:45:01.133475Z"
    },
    "papermill": {
     "duration": 0.079055,
     "end_time": "2021-05-29T00:45:01.133674",
     "exception": false,
     "start_time": "2021-05-29T00:45:01.054619",
     "status": "completed"
    },
    "tags": []
   },
   "outputs": [],
   "source": [
    "# Adjust the x and y ranges according to the above generated plot.\n",
    "x_range = np.linspace(-4, 1, 100) \n",
    "y_range = np.linspace(-6, 6, 100) \n",
    "x_grid, y_grid = np.meshgrid(x_range, y_range) # x_grid and y_grig are of size 100 X 100\n",
    "\n",
    "# converting x_grid and y_grid to continuous arrays\n",
    "x_grid_flat = np.ravel(x_grid)\n",
    "y_grid_flat = np.ravel(y_grid)\n",
    "\n",
    "# The last layer of the current model takes two columns as input. Hence transpose of np.vstack() is required.\n",
    "X = np.vstack((x_grid_flat, y_grid_flat)).T\n",
    "\n",
    "# x_grid and y_grid are of size 100 x 100\n",
    "probability_contour = model_prob(X).reshape(100,100) "
   ]
  },
  {
   "cell_type": "code",
   "execution_count": 29,
   "id": "understood-landing",
   "metadata": {
    "execution": {
     "iopub.execute_input": "2021-05-29T00:45:01.259456Z",
     "iopub.status.busy": "2021-05-29T00:45:01.258699Z",
     "iopub.status.idle": "2021-05-29T00:45:01.544660Z",
     "shell.execute_reply": "2021-05-29T00:45:01.544076Z"
    },
    "papermill": {
     "duration": 0.351574,
     "end_time": "2021-05-29T00:45:01.545101",
     "exception": false,
     "start_time": "2021-05-29T00:45:01.193527",
     "status": "completed"
    },
    "tags": []
   },
   "outputs": [
    {
     "data": {
      "image/png": "[encoded data removed]",
      "text/plain": [
       "<Figure size 720x648 with 1 Axes>"
      ]
     },
     "metadata": {
      "needs_background": "light"
     },
     "output_type": "display_data"
    }
   ],
   "source": [
    "plt.figure(figsize=(10,9))\n",
    "plt.scatter(plot_testing[:,0], plot_testing[:,1], alpha = 0.1, c = y_test.ravel())\n",
    "contours = plt.contour(x_grid,y_grid,probability_contour)\n",
    "plt.title('Probability Contours')\n",
    "plt.clabel(contours, inline = True );"
   ]
  }
 ],
 "metadata": {
  "kernelspec": {
   "display_name": "Python 3",
   "language": "python",
   "name": "python3"
  },
  "language_info": {
   "codemirror_mode": {
    "name": "ipython",
    "version": 3
   },
   "file_extension": ".py",
   "mimetype": "text/x-python",
   "name": "python",
   "nbconvert_exporter": "python",
   "pygments_lexer": "ipython3",
   "version": "3.6.13"
  },
  "papermill": {
   "duration": 283.617575,
   "end_time": "2021-05-29T00:45:01.914915",
   "environment_variables": {},
   "exception": null,
   "input_path": "2020-08-11-NeuralNetwork.ipynb",
   "output_path": "2020-08-11-NeuralNetwork.ipynb",
   "parameters": {},
   "start_time": "2021-05-29T00:40:18.297340",
   "version": "2.1.2"
  }
 },
 "nbformat": 4,
 "nbformat_minor": 5
}