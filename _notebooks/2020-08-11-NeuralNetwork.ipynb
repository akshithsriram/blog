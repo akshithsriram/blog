{
 "cells": [
  {
   "cell_type": "markdown",
   "metadata": {
    "papermill": {
     "duration": 0.030092,
     "end_time": "2020-11-27T20:07:23.482361",
     "exception": false,
     "start_time": "2020-11-27T20:07:23.452269",
     "status": "completed"
    },
    "tags": []
   },
   "source": [
    "# \"A Basic Neural Network: Differentiate Hand-Written Digits\"\n",
    "\n",
    "- badges: true\n",
    "- author: Akshith Sriram"
   ]
  },
  {
   "cell_type": "markdown",
   "metadata": {
    "papermill": {
     "duration": 0.025912,
     "end_time": "2020-11-27T20:07:23.534505",
     "exception": false,
     "start_time": "2020-11-27T20:07:23.508593",
     "status": "completed"
    },
    "tags": []
   },
   "source": [
    "### Key Objectives:\n",
    "- Building a neural network that differentiates two hand-written digits 3 and 8.\n",
    "- Comparing the results of this Neural Network (NN) to that of a Logistic Regression (LR) model.\n",
    "\n",
    "### Requirements:\n",
    "- 'Kudzu' : A neural network library that was designed during our course by [Univ.AI](www.univ.ai). \n",
    "- MNIST Database\n",
    "\n",
    "If MNIST is not installed, use the command `!pip install mnist` given below.\n",
    "It can be run both from the command line and Jupyter Notebook."
   ]
  },
  {
   "cell_type": "code",
   "execution_count": 1,
   "metadata": {
    "execution": {
     "iopub.execute_input": "2020-11-27T20:07:23.594309Z",
     "iopub.status.busy": "2020-11-27T20:07:23.593735Z",
     "iopub.status.idle": "2020-11-27T20:07:25.055110Z",
     "shell.execute_reply": "2020-11-27T20:07:25.054588Z"
    },
    "papermill": {
     "duration": 1.494513,
     "end_time": "2020-11-27T20:07:25.055257",
     "exception": false,
     "start_time": "2020-11-27T20:07:23.560744",
     "status": "completed"
    },
    "tags": []
   },
   "outputs": [
    {
     "name": "stdout",
     "output_type": "stream",
     "text": [
      "Collecting mnist\r\n"
     ]
    },
    {
     "name": "stdout",
     "output_type": "stream",
     "text": [
      "  Downloading mnist-0.2.2-py2.py3-none-any.whl (3.5 kB)\r\n",
      "Requirement already satisfied: numpy in /opt/hostedtoolcache/Python/3.6.12/x64/lib/python3.6/site-packages (from mnist) (1.19.4)\r\n"
     ]
    },
    {
     "name": "stdout",
     "output_type": "stream",
     "text": [
      "Installing collected packages: mnist\r\n"
     ]
    },
    {
     "name": "stdout",
     "output_type": "stream",
     "text": [
      "Successfully installed mnist-0.2.2\r\n"
     ]
    }
   ],
   "source": [
    "!pip install mnist "
   ]
  },
  {
   "cell_type": "markdown",
   "metadata": {
    "papermill": {
     "duration": 0.027659,
     "end_time": "2020-11-27T20:07:25.141729",
     "exception": false,
     "start_time": "2020-11-27T20:07:25.114070",
     "status": "completed"
    },
    "tags": []
   },
   "source": [
    "#### Importing necessary libraries"
   ]
  },
  {
   "cell_type": "code",
   "execution_count": 2,
   "metadata": {
    "execution": {
     "iopub.execute_input": "2020-11-27T20:07:25.354319Z",
     "iopub.status.busy": "2020-11-27T20:07:25.353721Z",
     "iopub.status.idle": "2020-11-27T20:07:25.931238Z",
     "shell.execute_reply": "2020-11-27T20:07:25.930568Z"
    },
    "papermill": {
     "duration": 0.614426,
     "end_time": "2020-11-27T20:07:25.931408",
     "exception": false,
     "start_time": "2020-11-27T20:07:25.316982",
     "status": "completed"
    },
    "tags": []
   },
   "outputs": [],
   "source": [
    "%load_ext autoreload\n",
    "%autoreload 2\n",
    "\n",
    "%matplotlib inline\n",
    "import matplotlib.pyplot as plt\n",
    "\n",
    "import numpy as np\n",
    "import pandas as pd"
   ]
  },
  {
   "cell_type": "markdown",
   "metadata": {
    "papermill": {
     "duration": 0.028301,
     "end_time": "2020-11-27T20:07:25.989427",
     "exception": false,
     "start_time": "2020-11-27T20:07:25.961126",
     "status": "completed"
    },
    "tags": []
   },
   "source": [
    "### Preparing the Data"
   ]
  },
  {
   "cell_type": "code",
   "execution_count": 3,
   "metadata": {
    "execution": {
     "iopub.execute_input": "2020-11-27T20:07:26.052156Z",
     "iopub.status.busy": "2020-11-27T20:07:26.051526Z",
     "iopub.status.idle": "2020-11-27T20:07:26.062915Z",
     "shell.execute_reply": "2020-11-27T20:07:26.062438Z"
    },
    "papermill": {
     "duration": 0.046493,
     "end_time": "2020-11-27T20:07:26.063033",
     "exception": false,
     "start_time": "2020-11-27T20:07:26.016540",
     "status": "completed"
    },
    "tags": []
   },
   "outputs": [],
   "source": [
    "import mnist"
   ]
  },
  {
   "cell_type": "code",
   "execution_count": 4,
   "metadata": {
    "execution": {
     "iopub.execute_input": "2020-11-27T20:07:26.127318Z",
     "iopub.status.busy": "2020-11-27T20:07:26.126767Z",
     "iopub.status.idle": "2020-11-27T20:07:26.819343Z",
     "shell.execute_reply": "2020-11-27T20:07:26.818771Z"
    },
    "papermill": {
     "duration": 0.723184,
     "end_time": "2020-11-27T20:07:26.819522",
     "exception": false,
     "start_time": "2020-11-27T20:07:26.096338",
     "status": "completed"
    },
    "tags": []
   },
   "outputs": [],
   "source": [
    "train_images = mnist.train_images()\n",
    "train_labels = mnist.train_labels()"
   ]
  },
  {
   "cell_type": "code",
   "execution_count": 5,
   "metadata": {
    "execution": {
     "iopub.execute_input": "2020-11-27T20:07:26.883645Z",
     "iopub.status.busy": "2020-11-27T20:07:26.883082Z",
     "iopub.status.idle": "2020-11-27T20:07:26.897332Z",
     "shell.execute_reply": "2020-11-27T20:07:26.897979Z"
    },
    "papermill": {
     "duration": 0.049936,
     "end_time": "2020-11-27T20:07:26.898153",
     "exception": false,
     "start_time": "2020-11-27T20:07:26.848217",
     "status": "completed"
    },
    "tags": []
   },
   "outputs": [
    {
     "data": {
      "text/plain": [
       "((60000, 28, 28), (60000,))"
      ]
     },
     "execution_count": 5,
     "metadata": {},
     "output_type": "execute_result"
    }
   ],
   "source": [
    "train_images.shape, train_labels.shape"
   ]
  },
  {
   "cell_type": "code",
   "execution_count": 6,
   "metadata": {
    "execution": {
     "iopub.execute_input": "2020-11-27T20:07:26.963334Z",
     "iopub.status.busy": "2020-11-27T20:07:26.962462Z",
     "iopub.status.idle": "2020-11-27T20:07:27.250491Z",
     "shell.execute_reply": "2020-11-27T20:07:27.249939Z"
    },
    "papermill": {
     "duration": 0.323343,
     "end_time": "2020-11-27T20:07:27.250757",
     "exception": false,
     "start_time": "2020-11-27T20:07:26.927414",
     "status": "completed"
    },
    "tags": []
   },
   "outputs": [],
   "source": [
    "test_images = mnist.test_images()\n",
    "test_labels = mnist.test_labels()"
   ]
  },
  {
   "cell_type": "code",
   "execution_count": 7,
   "metadata": {
    "execution": {
     "iopub.execute_input": "2020-11-27T20:07:27.311523Z",
     "iopub.status.busy": "2020-11-27T20:07:27.310891Z",
     "iopub.status.idle": "2020-11-27T20:07:27.326791Z",
     "shell.execute_reply": "2020-11-27T20:07:27.326242Z"
    },
    "papermill": {
     "duration": 0.048213,
     "end_time": "2020-11-27T20:07:27.326912",
     "exception": false,
     "start_time": "2020-11-27T20:07:27.278699",
     "status": "completed"
    },
    "tags": []
   },
   "outputs": [
    {
     "data": {
      "text/plain": [
       "((10000, 28, 28), (10000,))"
      ]
     },
     "execution_count": 7,
     "metadata": {},
     "output_type": "execute_result"
    }
   ],
   "source": [
    "test_images.shape, test_labels.shape"
   ]
  },
  {
   "cell_type": "code",
   "execution_count": 8,
   "metadata": {
    "execution": {
     "iopub.execute_input": "2020-11-27T20:07:27.393132Z",
     "iopub.status.busy": "2020-11-27T20:07:27.392562Z",
     "iopub.status.idle": "2020-11-27T20:07:27.567273Z",
     "shell.execute_reply": "2020-11-27T20:07:27.567780Z"
    },
    "papermill": {
     "duration": 0.211029,
     "end_time": "2020-11-27T20:07:27.567985",
     "exception": false,
     "start_time": "2020-11-27T20:07:27.356956",
     "status": "completed"
    },
    "tags": []
   },
   "outputs": [
    {
     "name": "stdout",
     "output_type": "stream",
     "text": [
      "2\n"
     ]
    },
    {
     "data": {
      "text/plain": [
       "<matplotlib.image.AxesImage at 0x7ff5654dd080>"
      ]
     },
     "execution_count": 8,
     "metadata": {},
     "output_type": "execute_result"
    },
    {
     "data": {
      "image/png": "[encoded data removed]",
      "text/plain": [
       "<Figure size 432x288 with 1 Axes>"
      ]
     },
     "metadata": {
      "needs_background": "light"
     },
     "output_type": "display_data"
    }
   ],
   "source": [
    "image_index = 7776 # You may select anything up to 60,000\n",
    "print(train_labels[image_index]) \n",
    "plt.imshow(train_images[image_index], cmap='Greys')"
   ]
  },
  {
   "cell_type": "markdown",
   "metadata": {
    "papermill": {
     "duration": 0.030211,
     "end_time": "2020-11-27T20:07:27.627861",
     "exception": false,
     "start_time": "2020-11-27T20:07:27.597650",
     "status": "completed"
    },
    "tags": []
   },
   "source": [
    "## Filter data to get 3 and 8 out"
   ]
  },
  {
   "cell_type": "code",
   "execution_count": 9,
   "metadata": {
    "execution": {
     "iopub.execute_input": "2020-11-27T20:07:27.703723Z",
     "iopub.status.busy": "2020-11-27T20:07:27.694207Z",
     "iopub.status.idle": "2020-11-27T20:07:27.710098Z",
     "shell.execute_reply": "2020-11-27T20:07:27.710574Z"
    },
    "papermill": {
     "duration": 0.052971,
     "end_time": "2020-11-27T20:07:27.710813",
     "exception": false,
     "start_time": "2020-11-27T20:07:27.657842",
     "status": "completed"
    },
    "tags": []
   },
   "outputs": [],
   "source": [
    "train_filter = np.where((train_labels == 3 ) | (train_labels == 8))\n",
    "test_filter = np.where((test_labels == 3) | (test_labels == 8))\n",
    "X_train, y_train = train_images[train_filter], train_labels[train_filter]\n",
    "X_test, y_test = test_images[test_filter], test_labels[test_filter]"
   ]
  },
  {
   "cell_type": "markdown",
   "metadata": {
    "papermill": {
     "duration": 0.028414,
     "end_time": "2020-11-27T20:07:27.768413",
     "exception": false,
     "start_time": "2020-11-27T20:07:27.739999",
     "status": "completed"
    },
    "tags": []
   },
   "source": [
    "We normalize the pixel values in the 0 to 1 range"
   ]
  },
  {
   "cell_type": "code",
   "execution_count": 10,
   "metadata": {
    "execution": {
     "iopub.execute_input": "2020-11-27T20:07:27.828617Z",
     "iopub.status.busy": "2020-11-27T20:07:27.827982Z",
     "iopub.status.idle": "2020-11-27T20:07:27.892328Z",
     "shell.execute_reply": "2020-11-27T20:07:27.891612Z"
    },
    "papermill": {
     "duration": 0.09647,
     "end_time": "2020-11-27T20:07:27.892476",
     "exception": false,
     "start_time": "2020-11-27T20:07:27.796006",
     "status": "completed"
    },
    "tags": []
   },
   "outputs": [],
   "source": [
    "X_train = X_train/255.\n",
    "X_test = X_test/255."
   ]
  },
  {
   "cell_type": "markdown",
   "metadata": {
    "papermill": {
     "duration": 0.029176,
     "end_time": "2020-11-27T20:07:27.951986",
     "exception": false,
     "start_time": "2020-11-27T20:07:27.922810",
     "status": "completed"
    },
    "tags": []
   },
   "source": [
    "Setup the labels as 1 (when the digit is 3) and 0 (when the digit is 8)"
   ]
  },
  {
   "cell_type": "code",
   "execution_count": 11,
   "metadata": {
    "execution": {
     "iopub.execute_input": "2020-11-27T20:07:28.012470Z",
     "iopub.status.busy": "2020-11-27T20:07:28.011969Z",
     "iopub.status.idle": "2020-11-27T20:07:28.025383Z",
     "shell.execute_reply": "2020-11-27T20:07:28.026232Z"
    },
    "papermill": {
     "duration": 0.045148,
     "end_time": "2020-11-27T20:07:28.026408",
     "exception": false,
     "start_time": "2020-11-27T20:07:27.981260",
     "status": "completed"
    },
    "tags": []
   },
   "outputs": [],
   "source": [
    "y_train = 1*(y_train==3)\n",
    "y_test = 1*(y_test==3)"
   ]
  },
  {
   "cell_type": "code",
   "execution_count": 12,
   "metadata": {
    "execution": {
     "iopub.execute_input": "2020-11-27T20:07:28.087854Z",
     "iopub.status.busy": "2020-11-27T20:07:28.087215Z",
     "iopub.status.idle": "2020-11-27T20:07:28.100382Z",
     "shell.execute_reply": "2020-11-27T20:07:28.100878Z"
    },
    "papermill": {
     "duration": 0.047436,
     "end_time": "2020-11-27T20:07:28.101073",
     "exception": false,
     "start_time": "2020-11-27T20:07:28.053637",
     "status": "completed"
    },
    "tags": []
   },
   "outputs": [
    {
     "data": {
      "text/plain": [
       "((11982, 28, 28), (1984, 28, 28))"
      ]
     },
     "execution_count": 12,
     "metadata": {},
     "output_type": "execute_result"
    }
   ],
   "source": [
    "X_train.shape, X_test.shape"
   ]
  },
  {
   "cell_type": "markdown",
   "metadata": {
    "papermill": {
     "duration": 0.027828,
     "end_time": "2020-11-27T20:07:28.156644",
     "exception": false,
     "start_time": "2020-11-27T20:07:28.128816",
     "status": "completed"
    },
    "tags": []
   },
   "source": [
    "### Reshape the input data to create a linear array"
   ]
  },
  {
   "cell_type": "code",
   "execution_count": 13,
   "metadata": {
    "execution": {
     "iopub.execute_input": "2020-11-27T20:07:28.234782Z",
     "iopub.status.busy": "2020-11-27T20:07:28.226842Z",
     "iopub.status.idle": "2020-11-27T20:07:28.238258Z",
     "shell.execute_reply": "2020-11-27T20:07:28.237800Z"
    },
    "papermill": {
     "duration": 0.050071,
     "end_time": "2020-11-27T20:07:28.238406",
     "exception": false,
     "start_time": "2020-11-27T20:07:28.188335",
     "status": "completed"
    },
    "tags": []
   },
   "outputs": [
    {
     "data": {
      "text/plain": [
       "((11982, 784), (1984, 784))"
      ]
     },
     "execution_count": 13,
     "metadata": {},
     "output_type": "execute_result"
    }
   ],
   "source": [
    "X_train = X_train.reshape(X_train.shape[0], -1)\n",
    "X_test = X_test.reshape(X_test.shape[0], -1)\n",
    "X_train.shape, X_test.shape"
   ]
  },
  {
   "cell_type": "markdown",
   "metadata": {
    "papermill": {
     "duration": 0.029703,
     "end_time": "2020-11-27T20:07:28.297920",
     "exception": false,
     "start_time": "2020-11-27T20:07:28.268217",
     "status": "completed"
    },
    "tags": []
   },
   "source": [
    "### Importing appropriate functions from 'Kudzu'"
   ]
  },
  {
   "cell_type": "code",
   "execution_count": 14,
   "metadata": {
    "execution": {
     "iopub.execute_input": "2020-11-27T20:07:28.364871Z",
     "iopub.status.busy": "2020-11-27T20:07:28.364265Z",
     "iopub.status.idle": "2020-11-27T20:07:28.383302Z",
     "shell.execute_reply": "2020-11-27T20:07:28.382769Z"
    },
    "papermill": {
     "duration": 0.054599,
     "end_time": "2020-11-27T20:07:28.383410",
     "exception": false,
     "start_time": "2020-11-27T20:07:28.328811",
     "status": "completed"
    },
    "tags": []
   },
   "outputs": [],
   "source": [
    "from kudzu.layer import Sigmoid\n",
    "from kudzu.layer import Relu\n",
    "from kudzu.layer import Affine, Sigmoid\n",
    "\n",
    "from kudzu.model import Model\n",
    "from kudzu.train import Learner\n",
    "from kudzu.optim import GD\n",
    "from kudzu.data import Data, Dataloader, Sampler\n",
    "\n",
    "from kudzu.callbacks import AccCallback\n",
    "from kudzu.callbacks import ClfCallback\n",
    "\n",
    "from kudzu.loss import MSE"
   ]
  },
  {
   "cell_type": "markdown",
   "metadata": {
    "papermill": {
     "duration": 0.041145,
     "end_time": "2020-11-27T20:07:28.455713",
     "exception": false,
     "start_time": "2020-11-27T20:07:28.414568",
     "status": "completed"
    },
    "tags": []
   },
   "source": [
    "### Let us create a `Config` class, to store important parameters. \n",
    "This class essentially plays the role of a dictionary."
   ]
  },
  {
   "cell_type": "code",
   "execution_count": 15,
   "metadata": {
    "execution": {
     "iopub.execute_input": "2020-11-27T20:07:28.522297Z",
     "iopub.status.busy": "2020-11-27T20:07:28.521573Z",
     "iopub.status.idle": "2020-11-27T20:07:28.533567Z",
     "shell.execute_reply": "2020-11-27T20:07:28.534282Z"
    },
    "papermill": {
     "duration": 0.04789,
     "end_time": "2020-11-27T20:07:28.534432",
     "exception": false,
     "start_time": "2020-11-27T20:07:28.486542",
     "status": "completed"
    },
    "tags": []
   },
   "outputs": [],
   "source": [
    "class Config:\n",
    "    pass\n",
    "config = Config()\n",
    "config.lr = 0.001\n",
    "config.num_epochs = 251\n",
    "config.bs = 50"
   ]
  },
  {
   "cell_type": "markdown",
   "metadata": {
    "papermill": {
     "duration": 0.031176,
     "end_time": "2020-11-27T20:07:28.594602",
     "exception": false,
     "start_time": "2020-11-27T20:07:28.563426",
     "status": "completed"
    },
    "tags": []
   },
   "source": [
    "### Initializing data to the variables"
   ]
  },
  {
   "cell_type": "code",
   "execution_count": 16,
   "metadata": {
    "execution": {
     "iopub.execute_input": "2020-11-27T20:07:28.659240Z",
     "iopub.status.busy": "2020-11-27T20:07:28.658363Z",
     "iopub.status.idle": "2020-11-27T20:07:28.670712Z",
     "shell.execute_reply": "2020-11-27T20:07:28.671195Z"
    },
    "papermill": {
     "duration": 0.047325,
     "end_time": "2020-11-27T20:07:28.671395",
     "exception": false,
     "start_time": "2020-11-27T20:07:28.624070",
     "status": "completed"
    },
    "tags": []
   },
   "outputs": [],
   "source": [
    "data = Data(X_train, y_train.reshape(-1,1))\n",
    "sampler = Sampler(data, config.bs, shuffle=True)\n",
    "\n",
    "dl = Dataloader(data, sampler)\n",
    "\n",
    "opt = GD(config.lr)\n",
    "loss = MSE()"
   ]
  },
  {
   "cell_type": "code",
   "execution_count": 17,
   "metadata": {
    "execution": {
     "iopub.execute_input": "2020-11-27T20:07:28.736129Z",
     "iopub.status.busy": "2020-11-27T20:07:28.735450Z",
     "iopub.status.idle": "2020-11-27T20:07:28.747479Z",
     "shell.execute_reply": "2020-11-27T20:07:28.748050Z"
    },
    "papermill": {
     "duration": 0.046162,
     "end_time": "2020-11-27T20:07:28.748167",
     "exception": false,
     "start_time": "2020-11-27T20:07:28.702005",
     "status": "completed"
    },
    "tags": []
   },
   "outputs": [],
   "source": [
    "training_xdata = X_train\n",
    "testing_xdata = X_test\n",
    "training_ydata = y_train.reshape(-1,1)\n",
    "testing_ydata = y_test.reshape(-1,1)"
   ]
  },
  {
   "cell_type": "markdown",
   "metadata": {
    "papermill": {
     "duration": 0.0313,
     "end_time": "2020-11-27T20:07:28.808463",
     "exception": false,
     "start_time": "2020-11-27T20:07:28.777163",
     "status": "completed"
    },
    "tags": []
   },
   "source": [
    "### Running Models with the Training data\n",
    "Details about the network layers:\n",
    "- A first affine layer has 784 inputs and does 100 affine transforms. These are followed by a Relu\n",
    "- A second affine layer has 100 inputs from the 100 activations of the past layer, and does 100 affine transforms. These are followed by a Relu\n",
    "- A third affine layer has 100 activations and does 2 affine transformations to create an embedding for visualization. There is no non-linearity here.\n",
    "- A final \"logistic regression\" which has an affine transform from 2 inputs to 1 output, which is squeezed through a sigmoid.\n",
    "\n",
    "Help taken from Anshuman's Notebook."
   ]
  },
  {
   "cell_type": "code",
   "execution_count": 18,
   "metadata": {
    "execution": {
     "iopub.execute_input": "2020-11-27T20:07:28.877125Z",
     "iopub.status.busy": "2020-11-27T20:07:28.876529Z",
     "iopub.status.idle": "2020-11-27T20:07:28.892454Z",
     "shell.execute_reply": "2020-11-27T20:07:28.891959Z"
    },
    "papermill": {
     "duration": 0.05257,
     "end_time": "2020-11-27T20:07:28.892583",
     "exception": false,
     "start_time": "2020-11-27T20:07:28.840013",
     "status": "completed"
    },
    "tags": []
   },
   "outputs": [],
   "source": [
    "# layers for the Neural Network\n",
    "layers = [Affine(\"first\", 784, 100), Relu(\"first\"), Affine(\"second\", 100, 100), Relu(\"second\"), Affine(\"third\", 100, 2), Affine(\"final\", 2, 1), Sigmoid(\"final\")]\n",
    "model_nn = Model(layers)\n",
    "\n",
    "# layers for the Logistic Regression\n",
    "layers_lr = [Affine(\"logits\", 784, 1), Sigmoid(\"sigmoid\")]\n",
    "model_lr = Model(layers_lr)"
   ]
  },
  {
   "cell_type": "code",
   "execution_count": 19,
   "metadata": {
    "execution": {
     "iopub.execute_input": "2020-11-27T20:07:28.957968Z",
     "iopub.status.busy": "2020-11-27T20:07:28.957354Z",
     "iopub.status.idle": "2020-11-27T20:07:28.969897Z",
     "shell.execute_reply": "2020-11-27T20:07:28.970482Z"
    },
    "papermill": {
     "duration": 0.046797,
     "end_time": "2020-11-27T20:07:28.970601",
     "exception": false,
     "start_time": "2020-11-27T20:07:28.923804",
     "status": "completed"
    },
    "tags": []
   },
   "outputs": [],
   "source": [
    "# suffix _nn stands for Neural Network.\n",
    "learner_nn = Learner(loss, model_nn, opt, config.num_epochs)\n",
    "acc_nn = ClfCallback(learner_nn, config.bs, training_xdata , testing_xdata, training_ydata, testing_ydata)\n",
    "learner_nn.set_callbacks([acc_nn])"
   ]
  },
  {
   "cell_type": "code",
   "execution_count": 20,
   "metadata": {
    "execution": {
     "iopub.execute_input": "2020-11-27T20:07:29.033929Z",
     "iopub.status.busy": "2020-11-27T20:07:29.033325Z",
     "iopub.status.idle": "2020-11-27T20:09:49.125998Z",
     "shell.execute_reply": "2020-11-27T20:09:49.125333Z"
    },
    "papermill": {
     "duration": 140.12724,
     "end_time": "2020-11-27T20:09:49.126126",
     "exception": false,
     "start_time": "2020-11-27T20:07:28.998886",
     "status": "completed"
    },
    "tags": []
   },
   "outputs": [
    {
     "name": "stdout",
     "output_type": "stream",
     "text": [
      "====== Neural Network ======\n"
     ]
    },
    {
     "name": "stdout",
     "output_type": "stream",
     "text": [
      "Epoch 0, Loss 0.2352\n",
      "Training Accuracy: 0.7245, Testing Accuracy: 0.7359\n",
      "\n"
     ]
    },
    {
     "name": "stdout",
     "output_type": "stream",
     "text": [
      "Epoch 10, Loss 0.0855\n",
      "Training Accuracy: 0.9180, Testing Accuracy: 0.9269\n",
      "\n"
     ]
    },
    {
     "name": "stdout",
     "output_type": "stream",
     "text": [
      "Epoch 20, Loss 0.0522\n",
      "Training Accuracy: 0.9458, Testing Accuracy: 0.9511\n",
      "\n"
     ]
    },
    {
     "name": "stdout",
     "output_type": "stream",
     "text": [
      "Epoch 30, Loss 0.041\n",
      "Training Accuracy: 0.9563, Testing Accuracy: 0.9592\n",
      "\n"
     ]
    },
    {
     "name": "stdout",
     "output_type": "stream",
     "text": [
      "Epoch 40, Loss 0.0355\n",
      "Training Accuracy: 0.9608, Testing Accuracy: 0.9637\n",
      "\n"
     ]
    },
    {
     "name": "stdout",
     "output_type": "stream",
     "text": [
      "Epoch 50, Loss 0.0321\n",
      "Training Accuracy: 0.9638, Testing Accuracy: 0.9657\n",
      "\n"
     ]
    },
    {
     "name": "stdout",
     "output_type": "stream",
     "text": [
      "Epoch 60, Loss 0.0298\n",
      "Training Accuracy: 0.9664, Testing Accuracy: 0.9688\n",
      "\n"
     ]
    },
    {
     "name": "stdout",
     "output_type": "stream",
     "text": [
      "Epoch 70, Loss 0.0281\n",
      "Training Accuracy: 0.9688, Testing Accuracy: 0.9708\n",
      "\n"
     ]
    },
    {
     "name": "stdout",
     "output_type": "stream",
     "text": [
      "Epoch 80, Loss 0.0267\n",
      "Training Accuracy: 0.9695, Testing Accuracy: 0.9703\n",
      "\n"
     ]
    },
    {
     "name": "stdout",
     "output_type": "stream",
     "text": [
      "Epoch 90, Loss 0.0256\n",
      "Training Accuracy: 0.9710, Testing Accuracy: 0.9703\n",
      "\n"
     ]
    },
    {
     "name": "stdout",
     "output_type": "stream",
     "text": [
      "Epoch 100, Loss 0.0246\n",
      "Training Accuracy: 0.9718, Testing Accuracy: 0.9718\n",
      "\n"
     ]
    },
    {
     "name": "stdout",
     "output_type": "stream",
     "text": [
      "Epoch 110, Loss 0.0237\n",
      "Training Accuracy: 0.9730, Testing Accuracy: 0.9728\n",
      "\n"
     ]
    },
    {
     "name": "stdout",
     "output_type": "stream",
     "text": [
      "Epoch 120, Loss 0.023\n",
      "Training Accuracy: 0.9738, Testing Accuracy: 0.9733\n",
      "\n"
     ]
    },
    {
     "name": "stdout",
     "output_type": "stream",
     "text": [
      "Epoch 130, Loss 0.0223\n",
      "Training Accuracy: 0.9747, Testing Accuracy: 0.9733\n",
      "\n"
     ]
    },
    {
     "name": "stdout",
     "output_type": "stream",
     "text": [
      "Epoch 140, Loss 0.0218\n",
      "Training Accuracy: 0.9755, Testing Accuracy: 0.9733\n",
      "\n"
     ]
    },
    {
     "name": "stdout",
     "output_type": "stream",
     "text": [
      "Epoch 150, Loss 0.0212\n",
      "Training Accuracy: 0.9761, Testing Accuracy: 0.9738\n",
      "\n"
     ]
    },
    {
     "name": "stdout",
     "output_type": "stream",
     "text": [
      "Epoch 160, Loss 0.0207\n",
      "Training Accuracy: 0.9765, Testing Accuracy: 0.9738\n",
      "\n"
     ]
    },
    {
     "name": "stdout",
     "output_type": "stream",
     "text": [
      "Epoch 170, Loss 0.0202\n",
      "Training Accuracy: 0.9770, Testing Accuracy: 0.9743\n",
      "\n"
     ]
    },
    {
     "name": "stdout",
     "output_type": "stream",
     "text": [
      "Epoch 180, Loss 0.0198\n",
      "Training Accuracy: 0.9776, Testing Accuracy: 0.9738\n",
      "\n"
     ]
    },
    {
     "name": "stdout",
     "output_type": "stream",
     "text": [
      "Epoch 190, Loss 0.0194\n",
      "Training Accuracy: 0.9777, Testing Accuracy: 0.9738\n",
      "\n"
     ]
    },
    {
     "name": "stdout",
     "output_type": "stream",
     "text": [
      "Epoch 200, Loss 0.019\n",
      "Training Accuracy: 0.9782, Testing Accuracy: 0.9743\n",
      "\n"
     ]
    },
    {
     "name": "stdout",
     "output_type": "stream",
     "text": [
      "Epoch 210, Loss 0.0186\n",
      "Training Accuracy: 0.9792, Testing Accuracy: 0.9748\n",
      "\n"
     ]
    },
    {
     "name": "stdout",
     "output_type": "stream",
     "text": [
      "Epoch 220, Loss 0.0183\n",
      "Training Accuracy: 0.9796, Testing Accuracy: 0.9758\n",
      "\n"
     ]
    },
    {
     "name": "stdout",
     "output_type": "stream",
     "text": [
      "Epoch 230, Loss 0.0179\n",
      "Training Accuracy: 0.9797, Testing Accuracy: 0.9763\n",
      "\n"
     ]
    },
    {
     "name": "stdout",
     "output_type": "stream",
     "text": [
      "Epoch 240, Loss 0.0176\n",
      "Training Accuracy: 0.9802, Testing Accuracy: 0.9758\n",
      "\n"
     ]
    },
    {
     "name": "stdout",
     "output_type": "stream",
     "text": [
      "Epoch 250, Loss 0.0173\n",
      "Training Accuracy: 0.9805, Testing Accuracy: 0.9758\n",
      "\n"
     ]
    },
    {
     "data": {
      "text/plain": [
       "0.00572582623318727"
      ]
     },
     "execution_count": 20,
     "metadata": {},
     "output_type": "execute_result"
    }
   ],
   "source": [
    "print(\"====== Neural Network ======\")\n",
    "learner_nn.train_loop(dl)"
   ]
  },
  {
   "cell_type": "markdown",
   "metadata": {
    "papermill": {
     "duration": 0.037994,
     "end_time": "2020-11-27T20:09:49.203722",
     "exception": false,
     "start_time": "2020-11-27T20:09:49.165728",
     "status": "completed"
    },
    "tags": []
   },
   "source": [
    "### Logistic Regression based Implementation."
   ]
  },
  {
   "cell_type": "code",
   "execution_count": 21,
   "metadata": {
    "execution": {
     "iopub.execute_input": "2020-11-27T20:09:49.285819Z",
     "iopub.status.busy": "2020-11-27T20:09:49.285154Z",
     "iopub.status.idle": "2020-11-27T20:09:49.297933Z",
     "shell.execute_reply": "2020-11-27T20:09:49.298391Z"
    },
    "papermill": {
     "duration": 0.05542,
     "end_time": "2020-11-27T20:09:49.298511",
     "exception": false,
     "start_time": "2020-11-27T20:09:49.243091",
     "status": "completed"
    },
    "tags": []
   },
   "outputs": [],
   "source": [
    "learner_lr = Learner(loss, model_lr, opt, config.num_epochs)\n",
    "acc_lr = ClfCallback(learner_lr, config.bs, training_xdata , testing_xdata, training_ydata, testing_ydata)\n",
    "learner_lr.set_callbacks([acc_lr])"
   ]
  },
  {
   "cell_type": "code",
   "execution_count": 22,
   "metadata": {
    "execution": {
     "iopub.execute_input": "2020-11-27T20:09:49.382827Z",
     "iopub.status.busy": "2020-11-27T20:09:49.380539Z",
     "iopub.status.idle": "2020-11-27T20:10:09.530241Z",
     "shell.execute_reply": "2020-11-27T20:10:09.531014Z"
    },
    "papermill": {
     "duration": 20.192938,
     "end_time": "2020-11-27T20:10:09.531189",
     "exception": false,
     "start_time": "2020-11-27T20:09:49.338251",
     "status": "completed"
    },
    "tags": []
   },
   "outputs": [
    {
     "name": "stdout",
     "output_type": "stream",
     "text": [
      "====== Logistic Regression ======\n",
      "Epoch 0, Loss 0.2533\n",
      "Training Accuracy: 0.6461, Testing Accuracy: 0.6547\n",
      "\n"
     ]
    },
    {
     "name": "stdout",
     "output_type": "stream",
     "text": [
      "Epoch 10, Loss 0.1058\n",
      "Training Accuracy: 0.9022, Testing Accuracy: 0.9123\n",
      "\n"
     ]
    },
    {
     "name": "stdout",
     "output_type": "stream",
     "text": [
      "Epoch 20, Loss 0.0809\n",
      "Training Accuracy: 0.9242, Testing Accuracy: 0.9299\n",
      "\n"
     ]
    },
    {
     "name": "stdout",
     "output_type": "stream",
     "text": [
      "Epoch 30, Loss 0.0695\n",
      "Training Accuracy: 0.9342, Testing Accuracy: 0.9410\n",
      "\n"
     ]
    },
    {
     "name": "stdout",
     "output_type": "stream",
     "text": [
      "Epoch 40, Loss 0.0626\n",
      "Training Accuracy: 0.9393, Testing Accuracy: 0.9486\n",
      "\n"
     ]
    },
    {
     "name": "stdout",
     "output_type": "stream",
     "text": [
      "Epoch 50, Loss 0.058\n",
      "Training Accuracy: 0.9434, Testing Accuracy: 0.9511\n",
      "\n"
     ]
    },
    {
     "name": "stdout",
     "output_type": "stream",
     "text": [
      "Epoch 60, Loss 0.0545\n",
      "Training Accuracy: 0.9463, Testing Accuracy: 0.9526\n",
      "\n"
     ]
    },
    {
     "name": "stdout",
     "output_type": "stream",
     "text": [
      "Epoch 70, Loss 0.0519\n",
      "Training Accuracy: 0.9478, Testing Accuracy: 0.9567\n",
      "\n"
     ]
    },
    {
     "name": "stdout",
     "output_type": "stream",
     "text": [
      "Epoch 80, Loss 0.0498\n",
      "Training Accuracy: 0.9494, Testing Accuracy: 0.9577\n",
      "\n"
     ]
    },
    {
     "name": "stdout",
     "output_type": "stream",
     "text": [
      "Epoch 90, Loss 0.048\n",
      "Training Accuracy: 0.9509, Testing Accuracy: 0.9597\n",
      "\n"
     ]
    },
    {
     "name": "stdout",
     "output_type": "stream",
     "text": [
      "Epoch 100, Loss 0.0465\n",
      "Training Accuracy: 0.9524, Testing Accuracy: 0.9617\n",
      "\n"
     ]
    },
    {
     "name": "stdout",
     "output_type": "stream",
     "text": [
      "Epoch 110, Loss 0.0453\n",
      "Training Accuracy: 0.9534, Testing Accuracy: 0.9637\n",
      "\n"
     ]
    },
    {
     "name": "stdout",
     "output_type": "stream",
     "text": [
      "Epoch 120, Loss 0.0442\n",
      "Training Accuracy: 0.9541, Testing Accuracy: 0.9642\n",
      "\n"
     ]
    },
    {
     "name": "stdout",
     "output_type": "stream",
     "text": [
      "Epoch 130, Loss 0.0432\n",
      "Training Accuracy: 0.9547, Testing Accuracy: 0.9647\n",
      "\n"
     ]
    },
    {
     "name": "stdout",
     "output_type": "stream",
     "text": [
      "Epoch 140, Loss 0.0424\n",
      "Training Accuracy: 0.9555, Testing Accuracy: 0.9642\n",
      "\n"
     ]
    },
    {
     "name": "stdout",
     "output_type": "stream",
     "text": [
      "Epoch 150, Loss 0.0416\n",
      "Training Accuracy: 0.9558, Testing Accuracy: 0.9657\n",
      "\n"
     ]
    },
    {
     "name": "stdout",
     "output_type": "stream",
     "text": [
      "Epoch 160, Loss 0.0409\n",
      "Training Accuracy: 0.9564, Testing Accuracy: 0.9657\n",
      "\n"
     ]
    },
    {
     "name": "stdout",
     "output_type": "stream",
     "text": [
      "Epoch 170, Loss 0.0403\n",
      "Training Accuracy: 0.9566, Testing Accuracy: 0.9657\n",
      "\n"
     ]
    },
    {
     "name": "stdout",
     "output_type": "stream",
     "text": [
      "Epoch 180, Loss 0.0397\n",
      "Training Accuracy: 0.9569, Testing Accuracy: 0.9662\n",
      "\n"
     ]
    },
    {
     "name": "stdout",
     "output_type": "stream",
     "text": [
      "Epoch 190, Loss 0.0391\n",
      "Training Accuracy: 0.9577, Testing Accuracy: 0.9657\n",
      "\n"
     ]
    },
    {
     "name": "stdout",
     "output_type": "stream",
     "text": [
      "Epoch 200, Loss 0.0387\n",
      "Training Accuracy: 0.9582, Testing Accuracy: 0.9662\n",
      "\n"
     ]
    },
    {
     "name": "stdout",
     "output_type": "stream",
     "text": [
      "Epoch 210, Loss 0.0382\n",
      "Training Accuracy: 0.9584, Testing Accuracy: 0.9667\n",
      "\n"
     ]
    },
    {
     "name": "stdout",
     "output_type": "stream",
     "text": [
      "Epoch 220, Loss 0.0378\n",
      "Training Accuracy: 0.9590, Testing Accuracy: 0.9672\n",
      "\n"
     ]
    },
    {
     "name": "stdout",
     "output_type": "stream",
     "text": [
      "Epoch 230, Loss 0.0374\n",
      "Training Accuracy: 0.9592, Testing Accuracy: 0.9672\n",
      "\n"
     ]
    },
    {
     "name": "stdout",
     "output_type": "stream",
     "text": [
      "Epoch 240, Loss 0.037\n",
      "Training Accuracy: 0.9599, Testing Accuracy: 0.9672\n",
      "\n"
     ]
    },
    {
     "name": "stdout",
     "output_type": "stream",
     "text": [
      "Epoch 250, Loss 0.0367\n",
      "Training Accuracy: 0.9599, Testing Accuracy: 0.9672\n",
      "\n"
     ]
    },
    {
     "data": {
      "text/plain": [
       "0.06486781719427498"
      ]
     },
     "execution_count": 22,
     "metadata": {},
     "output_type": "execute_result"
    }
   ],
   "source": [
    "print(\"====== Logistic Regression ======\")\n",
    "learner_lr.train_loop(dl)"
   ]
  },
  {
   "cell_type": "markdown",
   "metadata": {
    "papermill": {
     "duration": 0.047863,
     "end_time": "2020-11-27T20:10:09.628594",
     "exception": false,
     "start_time": "2020-11-27T20:10:09.580731",
     "status": "completed"
    },
    "tags": []
   },
   "source": [
    "### Comparing results of NN and LR"
   ]
  },
  {
   "cell_type": "code",
   "execution_count": 23,
   "metadata": {
    "execution": {
     "iopub.execute_input": "2020-11-27T20:10:09.734561Z",
     "iopub.status.busy": "2020-11-27T20:10:09.733961Z",
     "iopub.status.idle": "2020-11-27T20:10:10.015045Z",
     "shell.execute_reply": "2020-11-27T20:10:10.014574Z"
    },
    "papermill": {
     "duration": 0.336275,
     "end_time": "2020-11-27T20:10:10.015166",
     "exception": false,
     "start_time": "2020-11-27T20:10:09.678891",
     "status": "completed"
    },
    "tags": []
   },
   "outputs": [
    {
     "data": {
      "text/plain": [
       "<matplotlib.legend.Legend at 0x7ff55dd219b0>"
      ]
     },
     "execution_count": 23,
     "metadata": {},
     "output_type": "execute_result"
    },
    {
     "data": {
      "image/png": "[encoded data removed]",
      "text/plain": [
       "<Figure size 1080x720 with 1 Axes>"
      ]
     },
     "metadata": {
      "needs_background": "light"
     },
     "output_type": "display_data"
    }
   ],
   "source": [
    "plt.figure(figsize=(15,10))\n",
    "\n",
    "# Neural Network plots\n",
    "plt.plot(acc_nn.accuracies, 'r-', label = \"Training Accuracies - NN\")\n",
    "plt.plot(acc_nn.test_accuracies, 'g-', label = \"Testing Accuracies - NN\")\n",
    "\n",
    "# Logistic Regression plots\n",
    "plt.plot(acc_lr.accuracies, 'k-', label = \"Training Accuracies - LR\")\n",
    "plt.plot(acc_lr.test_accuracies, 'b-', label = \"Testing Accuracies - LR\")\n",
    "\n",
    "plt.ylim(0.8, 1)\n",
    "\n",
    "plt.legend()\n",
    "\n"
   ]
  },
  {
   "cell_type": "markdown",
   "metadata": {
    "papermill": {
     "duration": 0.047281,
     "end_time": "2020-11-27T20:10:10.110651",
     "exception": false,
     "start_time": "2020-11-27T20:10:10.063370",
     "status": "completed"
    },
    "tags": []
   },
   "source": [
    "### From the plot, we can observe the following:\n",
    "- Neural Network achieves higher accuracy than the Logistic Regression model.\n",
    "- This apparently, is because of overfitting, i.e. NN captures more noise than data.\n",
    "- Testing accuracy of NN drops below the Training accuracy at higher epochs. This explains the over-fitting on training data.\n",
    "- Logistic Regression gives a reliable accuracy, without the above mentioned problem.\n"
   ]
  },
  {
   "cell_type": "markdown",
   "metadata": {
    "papermill": {
     "duration": 0.049906,
     "end_time": "2020-11-27T20:10:10.208820",
     "exception": false,
     "start_time": "2020-11-27T20:10:10.158914",
     "status": "completed"
    },
    "tags": []
   },
   "source": [
    "### Moving till the last but one layer (excluding it).\n",
    "#### Plotting the outputs of this layer of the NN."
   ]
  },
  {
   "cell_type": "code",
   "execution_count": 24,
   "metadata": {
    "execution": {
     "iopub.execute_input": "2020-11-27T20:10:10.306739Z",
     "iopub.status.busy": "2020-11-27T20:10:10.306096Z",
     "iopub.status.idle": "2020-11-27T20:10:10.319470Z",
     "shell.execute_reply": "2020-11-27T20:10:10.320048Z"
    },
    "papermill": {
     "duration": 0.065238,
     "end_time": "2020-11-27T20:10:10.320173",
     "exception": false,
     "start_time": "2020-11-27T20:10:10.254935",
     "status": "completed"
    },
    "tags": []
   },
   "outputs": [],
   "source": [
    "model_new = Model(layers[:-2])"
   ]
  },
  {
   "cell_type": "code",
   "execution_count": 25,
   "metadata": {
    "execution": {
     "iopub.execute_input": "2020-11-27T20:10:10.420508Z",
     "iopub.status.busy": "2020-11-27T20:10:10.419871Z",
     "iopub.status.idle": "2020-11-27T20:10:10.445779Z",
     "shell.execute_reply": "2020-11-27T20:10:10.446554Z"
    },
    "papermill": {
     "duration": 0.079224,
     "end_time": "2020-11-27T20:10:10.446745",
     "exception": false,
     "start_time": "2020-11-27T20:10:10.367521",
     "status": "completed"
    },
    "tags": []
   },
   "outputs": [],
   "source": [
    "plot_testing = model_new(testing_xdata)"
   ]
  },
  {
   "cell_type": "code",
   "execution_count": 26,
   "metadata": {
    "execution": {
     "iopub.execute_input": "2020-11-27T20:10:10.555333Z",
     "iopub.status.busy": "2020-11-27T20:10:10.554646Z",
     "iopub.status.idle": "2020-11-27T20:10:10.810177Z",
     "shell.execute_reply": "2020-11-27T20:10:10.810614Z"
    },
    "papermill": {
     "duration": 0.31247,
     "end_time": "2020-11-27T20:10:10.810764",
     "exception": false,
     "start_time": "2020-11-27T20:10:10.498294",
     "status": "completed"
    },
    "tags": []
   },
   "outputs": [
    {
     "data": {
      "text/plain": [
       "Text(0.5, 1.0, 'Outputs')"
      ]
     },
     "execution_count": 26,
     "metadata": {},
     "output_type": "execute_result"
    },
    {
     "data": {
      "image/png": "[encoded data removed]",
      "text/plain": [
       "<Figure size 576x504 with 1 Axes>"
      ]
     },
     "metadata": {
      "needs_background": "light"
     },
     "output_type": "display_data"
    }
   ],
   "source": [
    "plt.figure(figsize=(8,7))\n",
    "plt.scatter(plot_testing[:,0], plot_testing[:,1], alpha = 0.1, c = y_test.ravel());\n",
    "plt.title('Outputs')"
   ]
  },
  {
   "cell_type": "markdown",
   "metadata": {
    "papermill": {
     "duration": 0.047304,
     "end_time": "2020-11-27T20:10:10.907669",
     "exception": false,
     "start_time": "2020-11-27T20:10:10.860365",
     "status": "completed"
    },
    "tags": []
   },
   "source": [
    "### Plotting probability contours"
   ]
  },
  {
   "cell_type": "code",
   "execution_count": 27,
   "metadata": {
    "execution": {
     "iopub.execute_input": "2020-11-27T20:10:11.013007Z",
     "iopub.status.busy": "2020-11-27T20:10:11.011155Z",
     "iopub.status.idle": "2020-11-27T20:10:11.024550Z",
     "shell.execute_reply": "2020-11-27T20:10:11.025053Z"
    },
    "papermill": {
     "duration": 0.071301,
     "end_time": "2020-11-27T20:10:11.025220",
     "exception": false,
     "start_time": "2020-11-27T20:10:10.953919",
     "status": "completed"
    },
    "tags": []
   },
   "outputs": [],
   "source": [
    "model_prob = Model(layers[-2:]) "
   ]
  },
  {
   "cell_type": "code",
   "execution_count": 28,
   "metadata": {
    "execution": {
     "iopub.execute_input": "2020-11-27T20:10:11.132411Z",
     "iopub.status.busy": "2020-11-27T20:10:11.131658Z",
     "iopub.status.idle": "2020-11-27T20:10:11.146340Z",
     "shell.execute_reply": "2020-11-27T20:10:11.146852Z"
    },
    "papermill": {
     "duration": 0.06825,
     "end_time": "2020-11-27T20:10:11.147059",
     "exception": false,
     "start_time": "2020-11-27T20:10:11.078809",
     "status": "completed"
    },
    "tags": []
   },
   "outputs": [],
   "source": [
    "# Adjust the x and y ranges according to the above generated plot.\n",
    "x_range = np.linspace(-4, 1, 100) \n",
    "y_range = np.linspace(-6, 6, 100) \n",
    "x_grid, y_grid = np.meshgrid(x_range, y_range) # x_grid and y_grig are of size 100 X 100\n",
    "\n",
    "# converting x_grid and y_grid to continuous arrays\n",
    "x_grid_flat = np.ravel(x_grid)\n",
    "y_grid_flat = np.ravel(y_grid)\n",
    "\n",
    "# The last layer of the current model takes two columns as input. Hence transpose of np.vstack() is required.\n",
    "X = np.vstack((x_grid_flat, y_grid_flat)).T\n",
    "\n",
    "# x_grid and y_grid are of size 100 x 100\n",
    "probability_contour = model_prob(X).reshape(100,100) "
   ]
  },
  {
   "cell_type": "code",
   "execution_count": 29,
   "metadata": {
    "execution": {
     "iopub.execute_input": "2020-11-27T20:10:11.259055Z",
     "iopub.status.busy": "2020-11-27T20:10:11.258302Z",
     "iopub.status.idle": "2020-11-27T20:10:11.540555Z",
     "shell.execute_reply": "2020-11-27T20:10:11.540087Z"
    },
    "papermill": {
     "duration": 0.341951,
     "end_time": "2020-11-27T20:10:11.540676",
     "exception": false,
     "start_time": "2020-11-27T20:10:11.198725",
     "status": "completed"
    },
    "tags": []
   },
   "outputs": [
    {
     "data": {
      "image/png": "[encoded data removed]",
      "text/plain": [
       "<Figure size 720x648 with 1 Axes>"
      ]
     },
     "metadata": {
      "needs_background": "light"
     },
     "output_type": "display_data"
    }
   ],
   "source": [
    "plt.figure(figsize=(10,9))\n",
    "plt.scatter(plot_testing[:,0], plot_testing[:,1], alpha = 0.1, c = y_test.ravel())\n",
    "contours = plt.contour(x_grid,y_grid,probability_contour)\n",
    "plt.title('Probability Contours')\n",
    "plt.clabel(contours, inline = True );"
   ]
  }
 ],
 "metadata": {
  "kernelspec": {
   "display_name": "Python 3",
   "language": "python",
   "name": "python3"
  },
  "language_info": {
   "codemirror_mode": {
    "name": "ipython",
    "version": 3
   },
   "file_extension": ".py",
   "mimetype": "text/x-python",
   "name": "python",
   "nbconvert_exporter": "python",
   "pygments_lexer": "ipython3",
   "version": "3.6.12"
  },
  "papermill": {
   "duration": 169.550939,
   "end_time": "2020-11-27T20:10:11.920002",
   "environment_variables": {},
   "exception": null,
   "input_path": "2020-08-11-NeuralNetwork.ipynb",
   "output_path": "2020-08-11-NeuralNetwork.ipynb",
   "parameters": {},
   "start_time": "2020-11-27T20:07:22.369063",
   "version": "2.1.2"
  }
 },
 "nbformat": 4,
 "nbformat_minor": 4
}