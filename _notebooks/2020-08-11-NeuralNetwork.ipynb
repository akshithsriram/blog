{
 "cells": [
  {
   "cell_type": "markdown",
   "metadata": {
    "papermill": {
     "duration": 0.056486,
     "end_time": "2020-11-15T00:06:26.102017",
     "exception": false,
     "start_time": "2020-11-15T00:06:26.045531",
     "status": "completed"
    },
    "tags": []
   },
   "source": [
    "# \"A Basic Neural Network: Differentiate Hand-Written Digits\"\n",
    "\n",
    "- badges: true\n",
    "- author: Akshith Sriram"
   ]
  },
  {
   "cell_type": "markdown",
   "metadata": {
    "papermill": {
     "duration": 0.047363,
     "end_time": "2020-11-15T00:06:26.196443",
     "exception": false,
     "start_time": "2020-11-15T00:06:26.149080",
     "status": "completed"
    },
    "tags": []
   },
   "source": [
    "### Key Objectives:\n",
    "- Building a neural network that differentiates two hand-written digits 3 and 8.\n",
    "- Comparing the results of this Neural Network (NN) to that of a Logistic Regression (LR) model.\n",
    "\n",
    "### Requirements:\n",
    "- 'Kudzu' : A neural network library that was designed during our course by [Univ.AI](www.univ.ai). \n",
    "- MNIST Database\n",
    "\n",
    "If MNIST is not installed, use the command `!pip install mnist` given below.\n",
    "It can be run both from the command line and Jupyter Notebook."
   ]
  },
  {
   "cell_type": "code",
   "execution_count": 1,
   "metadata": {
    "execution": {
     "iopub.execute_input": "2020-11-15T00:06:26.309871Z",
     "iopub.status.busy": "2020-11-15T00:06:26.309259Z",
     "iopub.status.idle": "2020-11-15T00:06:27.711834Z",
     "shell.execute_reply": "2020-11-15T00:06:27.710881Z"
    },
    "papermill": {
     "duration": 1.454246,
     "end_time": "2020-11-15T00:06:27.712098",
     "exception": false,
     "start_time": "2020-11-15T00:06:26.257852",
     "status": "completed"
    },
    "tags": []
   },
   "outputs": [
    {
     "name": "stdout",
     "output_type": "stream",
     "text": [
      "Collecting mnist\r\n"
     ]
    },
    {
     "name": "stdout",
     "output_type": "stream",
     "text": [
      "  Downloading mnist-0.2.2-py2.py3-none-any.whl (3.5 kB)\r\n"
     ]
    },
    {
     "name": "stdout",
     "output_type": "stream",
     "text": [
      "Requirement already satisfied: numpy in /opt/hostedtoolcache/Python/3.6.12/x64/lib/python3.6/site-packages (from mnist) (1.19.4)\r\n"
     ]
    },
    {
     "name": "stdout",
     "output_type": "stream",
     "text": [
      "Installing collected packages: mnist\r\n"
     ]
    },
    {
     "name": "stdout",
     "output_type": "stream",
     "text": [
      "Successfully installed mnist-0.2.2\r\n"
     ]
    }
   ],
   "source": [
    "!pip install mnist "
   ]
  },
  {
   "cell_type": "markdown",
   "metadata": {
    "papermill": {
     "duration": 0.023113,
     "end_time": "2020-11-15T00:06:27.762202",
     "exception": false,
     "start_time": "2020-11-15T00:06:27.739089",
     "status": "completed"
    },
    "tags": []
   },
   "source": [
    "#### Importing necessary libraries"
   ]
  },
  {
   "cell_type": "code",
   "execution_count": 2,
   "metadata": {
    "execution": {
     "iopub.execute_input": "2020-11-15T00:06:27.819545Z",
     "iopub.status.busy": "2020-11-15T00:06:27.818920Z",
     "iopub.status.idle": "2020-11-15T00:06:28.353506Z",
     "shell.execute_reply": "2020-11-15T00:06:28.353048Z"
    },
    "papermill": {
     "duration": 0.565491,
     "end_time": "2020-11-15T00:06:28.353636",
     "exception": false,
     "start_time": "2020-11-15T00:06:27.788145",
     "status": "completed"
    },
    "tags": []
   },
   "outputs": [],
   "source": [
    "%load_ext autoreload\n",
    "%autoreload 2\n",
    "\n",
    "%matplotlib inline\n",
    "import matplotlib.pyplot as plt\n",
    "\n",
    "import numpy as np\n",
    "import pandas as pd"
   ]
  },
  {
   "cell_type": "markdown",
   "metadata": {
    "papermill": {
     "duration": 0.023536,
     "end_time": "2020-11-15T00:06:28.400717",
     "exception": false,
     "start_time": "2020-11-15T00:06:28.377181",
     "status": "completed"
    },
    "tags": []
   },
   "source": [
    "### Preparing the Data"
   ]
  },
  {
   "cell_type": "code",
   "execution_count": 3,
   "metadata": {
    "execution": {
     "iopub.execute_input": "2020-11-15T00:06:28.460329Z",
     "iopub.status.busy": "2020-11-15T00:06:28.458047Z",
     "iopub.status.idle": "2020-11-15T00:06:28.467579Z",
     "shell.execute_reply": "2020-11-15T00:06:28.468003Z"
    },
    "papermill": {
     "duration": 0.04488,
     "end_time": "2020-11-15T00:06:28.468150",
     "exception": false,
     "start_time": "2020-11-15T00:06:28.423270",
     "status": "completed"
    },
    "tags": []
   },
   "outputs": [],
   "source": [
    "import mnist"
   ]
  },
  {
   "cell_type": "code",
   "execution_count": 4,
   "metadata": {
    "execution": {
     "iopub.execute_input": "2020-11-15T00:06:28.521226Z",
     "iopub.status.busy": "2020-11-15T00:06:28.519643Z",
     "iopub.status.idle": "2020-11-15T00:06:29.760426Z",
     "shell.execute_reply": "2020-11-15T00:06:29.759755Z"
    },
    "papermill": {
     "duration": 1.268471,
     "end_time": "2020-11-15T00:06:29.760608",
     "exception": false,
     "start_time": "2020-11-15T00:06:28.492137",
     "status": "completed"
    },
    "tags": []
   },
   "outputs": [],
   "source": [
    "train_images = mnist.train_images()\n",
    "train_labels = mnist.train_labels()"
   ]
  },
  {
   "cell_type": "code",
   "execution_count": 5,
   "metadata": {
    "execution": {
     "iopub.execute_input": "2020-11-15T00:06:29.821054Z",
     "iopub.status.busy": "2020-11-15T00:06:29.820427Z",
     "iopub.status.idle": "2020-11-15T00:06:29.844326Z",
     "shell.execute_reply": "2020-11-15T00:06:29.843824Z"
    },
    "papermill": {
     "duration": 0.055463,
     "end_time": "2020-11-15T00:06:29.844461",
     "exception": false,
     "start_time": "2020-11-15T00:06:29.788998",
     "status": "completed"
    },
    "tags": []
   },
   "outputs": [
    {
     "data": {
      "text/plain": [
       "((60000, 28, 28), (60000,))"
      ]
     },
     "execution_count": 5,
     "metadata": {},
     "output_type": "execute_result"
    }
   ],
   "source": [
    "train_images.shape, train_labels.shape"
   ]
  },
  {
   "cell_type": "code",
   "execution_count": 6,
   "metadata": {
    "execution": {
     "iopub.execute_input": "2020-11-15T00:06:29.900802Z",
     "iopub.status.busy": "2020-11-15T00:06:29.899830Z",
     "iopub.status.idle": "2020-11-15T00:06:30.540261Z",
     "shell.execute_reply": "2020-11-15T00:06:30.541109Z"
    },
    "papermill": {
     "duration": 0.671179,
     "end_time": "2020-11-15T00:06:30.541425",
     "exception": false,
     "start_time": "2020-11-15T00:06:29.870246",
     "status": "completed"
    },
    "tags": []
   },
   "outputs": [],
   "source": [
    "test_images = mnist.test_images()\n",
    "test_labels = mnist.test_labels()"
   ]
  },
  {
   "cell_type": "code",
   "execution_count": 7,
   "metadata": {
    "execution": {
     "iopub.execute_input": "2020-11-15T00:06:30.598165Z",
     "iopub.status.busy": "2020-11-15T00:06:30.597575Z",
     "iopub.status.idle": "2020-11-15T00:06:30.611444Z",
     "shell.execute_reply": "2020-11-15T00:06:30.611024Z"
    },
    "papermill": {
     "duration": 0.043075,
     "end_time": "2020-11-15T00:06:30.611550",
     "exception": false,
     "start_time": "2020-11-15T00:06:30.568475",
     "status": "completed"
    },
    "tags": []
   },
   "outputs": [
    {
     "data": {
      "text/plain": [
       "((10000, 28, 28), (10000,))"
      ]
     },
     "execution_count": 7,
     "metadata": {},
     "output_type": "execute_result"
    }
   ],
   "source": [
    "test_images.shape, test_labels.shape"
   ]
  },
  {
   "cell_type": "code",
   "execution_count": 8,
   "metadata": {
    "execution": {
     "iopub.execute_input": "2020-11-15T00:06:30.660176Z",
     "iopub.status.busy": "2020-11-15T00:06:30.659690Z",
     "iopub.status.idle": "2020-11-15T00:06:30.793529Z",
     "shell.execute_reply": "2020-11-15T00:06:30.793028Z"
    },
    "papermill": {
     "duration": 0.15911,
     "end_time": "2020-11-15T00:06:30.793644",
     "exception": false,
     "start_time": "2020-11-15T00:06:30.634534",
     "status": "completed"
    },
    "tags": []
   },
   "outputs": [
    {
     "name": "stdout",
     "output_type": "stream",
     "text": [
      "2\n"
     ]
    },
    {
     "data": {
      "text/plain": [
       "<matplotlib.image.AxesImage at 0x7f5471524630>"
      ]
     },
     "execution_count": 8,
     "metadata": {},
     "output_type": "execute_result"
    },
    {
     "data": {
      "image/png": "[encoded data removed]",
      "text/plain": [
       "<Figure size 432x288 with 1 Axes>"
      ]
     },
     "metadata": {
      "needs_background": "light"
     },
     "output_type": "display_data"
    }
   ],
   "source": [
    "image_index = 7776 # You may select anything up to 60,000\n",
    "print(train_labels[image_index]) \n",
    "plt.imshow(train_images[image_index], cmap='Greys')"
   ]
  },
  {
   "cell_type": "markdown",
   "metadata": {
    "papermill": {
     "duration": 0.024126,
     "end_time": "2020-11-15T00:06:30.841756",
     "exception": false,
     "start_time": "2020-11-15T00:06:30.817630",
     "status": "completed"
    },
    "tags": []
   },
   "source": [
    "## Filter data to get 3 and 8 out"
   ]
  },
  {
   "cell_type": "code",
   "execution_count": 9,
   "metadata": {
    "execution": {
     "iopub.execute_input": "2020-11-15T00:06:30.895003Z",
     "iopub.status.busy": "2020-11-15T00:06:30.894298Z",
     "iopub.status.idle": "2020-11-15T00:06:30.909104Z",
     "shell.execute_reply": "2020-11-15T00:06:30.909538Z"
    },
    "papermill": {
     "duration": 0.043518,
     "end_time": "2020-11-15T00:06:30.909697",
     "exception": false,
     "start_time": "2020-11-15T00:06:30.866179",
     "status": "completed"
    },
    "tags": []
   },
   "outputs": [],
   "source": [
    "train_filter = np.where((train_labels == 3 ) | (train_labels == 8))\n",
    "test_filter = np.where((test_labels == 3) | (test_labels == 8))\n",
    "X_train, y_train = train_images[train_filter], train_labels[train_filter]\n",
    "X_test, y_test = test_images[test_filter], test_labels[test_filter]"
   ]
  },
  {
   "cell_type": "markdown",
   "metadata": {
    "papermill": {
     "duration": 0.024223,
     "end_time": "2020-11-15T00:06:30.958564",
     "exception": false,
     "start_time": "2020-11-15T00:06:30.934341",
     "status": "completed"
    },
    "tags": []
   },
   "source": [
    "We normalize the pixel values in the 0 to 1 range"
   ]
  },
  {
   "cell_type": "code",
   "execution_count": 10,
   "metadata": {
    "execution": {
     "iopub.execute_input": "2020-11-15T00:06:31.012812Z",
     "iopub.status.busy": "2020-11-15T00:06:31.012321Z",
     "iopub.status.idle": "2020-11-15T00:06:31.060382Z",
     "shell.execute_reply": "2020-11-15T00:06:31.059621Z"
    },
    "papermill": {
     "duration": 0.077352,
     "end_time": "2020-11-15T00:06:31.060585",
     "exception": false,
     "start_time": "2020-11-15T00:06:30.983233",
     "status": "completed"
    },
    "tags": []
   },
   "outputs": [],
   "source": [
    "X_train = X_train/255.\n",
    "X_test = X_test/255."
   ]
  },
  {
   "cell_type": "markdown",
   "metadata": {
    "papermill": {
     "duration": 0.026777,
     "end_time": "2020-11-15T00:06:31.115285",
     "exception": false,
     "start_time": "2020-11-15T00:06:31.088508",
     "status": "completed"
    },
    "tags": []
   },
   "source": [
    "Setup the labels as 1 (when the digit is 3) and 0 (when the digit is 8)"
   ]
  },
  {
   "cell_type": "code",
   "execution_count": 11,
   "metadata": {
    "execution": {
     "iopub.execute_input": "2020-11-15T00:06:31.171963Z",
     "iopub.status.busy": "2020-11-15T00:06:31.171387Z",
     "iopub.status.idle": "2020-11-15T00:06:31.186310Z",
     "shell.execute_reply": "2020-11-15T00:06:31.186728Z"
    },
    "papermill": {
     "duration": 0.043464,
     "end_time": "2020-11-15T00:06:31.186895",
     "exception": false,
     "start_time": "2020-11-15T00:06:31.143431",
     "status": "completed"
    },
    "tags": []
   },
   "outputs": [],
   "source": [
    "y_train = 1*(y_train==3)\n",
    "y_test = 1*(y_test==3)"
   ]
  },
  {
   "cell_type": "code",
   "execution_count": 12,
   "metadata": {
    "execution": {
     "iopub.execute_input": "2020-11-15T00:06:31.241715Z",
     "iopub.status.busy": "2020-11-15T00:06:31.241030Z",
     "iopub.status.idle": "2020-11-15T00:06:31.256285Z",
     "shell.execute_reply": "2020-11-15T00:06:31.255811Z"
    },
    "papermill": {
     "duration": 0.044375,
     "end_time": "2020-11-15T00:06:31.256401",
     "exception": false,
     "start_time": "2020-11-15T00:06:31.212026",
     "status": "completed"
    },
    "tags": []
   },
   "outputs": [
    {
     "data": {
      "text/plain": [
       "((11982, 28, 28), (1984, 28, 28))"
      ]
     },
     "execution_count": 12,
     "metadata": {},
     "output_type": "execute_result"
    }
   ],
   "source": [
    "X_train.shape, X_test.shape"
   ]
  },
  {
   "cell_type": "markdown",
   "metadata": {
    "papermill": {
     "duration": 0.025751,
     "end_time": "2020-11-15T00:06:31.307673",
     "exception": false,
     "start_time": "2020-11-15T00:06:31.281922",
     "status": "completed"
    },
    "tags": []
   },
   "source": [
    "### Reshape the input data to create a linear array"
   ]
  },
  {
   "cell_type": "code",
   "execution_count": 13,
   "metadata": {
    "execution": {
     "iopub.execute_input": "2020-11-15T00:06:31.364661Z",
     "iopub.status.busy": "2020-11-15T00:06:31.364113Z",
     "iopub.status.idle": "2020-11-15T00:06:31.379985Z",
     "shell.execute_reply": "2020-11-15T00:06:31.379592Z"
    },
    "papermill": {
     "duration": 0.046716,
     "end_time": "2020-11-15T00:06:31.380092",
     "exception": false,
     "start_time": "2020-11-15T00:06:31.333376",
     "status": "completed"
    },
    "tags": []
   },
   "outputs": [
    {
     "data": {
      "text/plain": [
       "((11982, 784), (1984, 784))"
      ]
     },
     "execution_count": 13,
     "metadata": {},
     "output_type": "execute_result"
    }
   ],
   "source": [
    "X_train = X_train.reshape(X_train.shape[0], -1)\n",
    "X_test = X_test.reshape(X_test.shape[0], -1)\n",
    "X_train.shape, X_test.shape"
   ]
  },
  {
   "cell_type": "markdown",
   "metadata": {
    "papermill": {
     "duration": 0.024669,
     "end_time": "2020-11-15T00:06:31.428202",
     "exception": false,
     "start_time": "2020-11-15T00:06:31.403533",
     "status": "completed"
    },
    "tags": []
   },
   "source": [
    "### Importing appropriate functions from 'Kudzu'"
   ]
  },
  {
   "cell_type": "code",
   "execution_count": 14,
   "metadata": {
    "execution": {
     "iopub.execute_input": "2020-11-15T00:06:31.485918Z",
     "iopub.status.busy": "2020-11-15T00:06:31.485345Z",
     "iopub.status.idle": "2020-11-15T00:06:31.506252Z",
     "shell.execute_reply": "2020-11-15T00:06:31.505606Z"
    },
    "papermill": {
     "duration": 0.051788,
     "end_time": "2020-11-15T00:06:31.506693",
     "exception": false,
     "start_time": "2020-11-15T00:06:31.454905",
     "status": "completed"
    },
    "tags": []
   },
   "outputs": [],
   "source": [
    "from kudzu.layer import Sigmoid\n",
    "from kudzu.layer import Relu\n",
    "from kudzu.layer import Affine, Sigmoid\n",
    "\n",
    "from kudzu.model import Model\n",
    "from kudzu.train import Learner\n",
    "from kudzu.optim import GD\n",
    "from kudzu.data import Data, Dataloader, Sampler\n",
    "\n",
    "from kudzu.callbacks import AccCallback\n",
    "from kudzu.callbacks import ClfCallback\n",
    "\n",
    "from kudzu.loss import MSE"
   ]
  },
  {
   "cell_type": "markdown",
   "metadata": {
    "papermill": {
     "duration": 0.024822,
     "end_time": "2020-11-15T00:06:31.557935",
     "exception": false,
     "start_time": "2020-11-15T00:06:31.533113",
     "status": "completed"
    },
    "tags": []
   },
   "source": [
    "### Let us create a `Config` class, to store important parameters. \n",
    "This class essentially plays the role of a dictionary."
   ]
  },
  {
   "cell_type": "code",
   "execution_count": 15,
   "metadata": {
    "execution": {
     "iopub.execute_input": "2020-11-15T00:06:31.613836Z",
     "iopub.status.busy": "2020-11-15T00:06:31.613216Z",
     "iopub.status.idle": "2020-11-15T00:06:31.626337Z",
     "shell.execute_reply": "2020-11-15T00:06:31.625933Z"
    },
    "papermill": {
     "duration": 0.042853,
     "end_time": "2020-11-15T00:06:31.626446",
     "exception": false,
     "start_time": "2020-11-15T00:06:31.583593",
     "status": "completed"
    },
    "tags": []
   },
   "outputs": [],
   "source": [
    "class Config:\n",
    "    pass\n",
    "config = Config()\n",
    "config.lr = 0.001\n",
    "config.num_epochs = 251\n",
    "config.bs = 50"
   ]
  },
  {
   "cell_type": "markdown",
   "metadata": {
    "papermill": {
     "duration": 0.031666,
     "end_time": "2020-11-15T00:06:31.683746",
     "exception": false,
     "start_time": "2020-11-15T00:06:31.652080",
     "status": "completed"
    },
    "tags": []
   },
   "source": [
    "### Initializing data to the variables"
   ]
  },
  {
   "cell_type": "code",
   "execution_count": 16,
   "metadata": {
    "execution": {
     "iopub.execute_input": "2020-11-15T00:06:31.745462Z",
     "iopub.status.busy": "2020-11-15T00:06:31.744969Z",
     "iopub.status.idle": "2020-11-15T00:06:31.760626Z",
     "shell.execute_reply": "2020-11-15T00:06:31.761071Z"
    },
    "papermill": {
     "duration": 0.045355,
     "end_time": "2020-11-15T00:06:31.761206",
     "exception": false,
     "start_time": "2020-11-15T00:06:31.715851",
     "status": "completed"
    },
    "tags": []
   },
   "outputs": [],
   "source": [
    "data = Data(X_train, y_train.reshape(-1,1))\n",
    "sampler = Sampler(data, config.bs, shuffle=True)\n",
    "\n",
    "dl = Dataloader(data, sampler)\n",
    "\n",
    "opt = GD(config.lr)\n",
    "loss = MSE()"
   ]
  },
  {
   "cell_type": "code",
   "execution_count": 17,
   "metadata": {
    "execution": {
     "iopub.execute_input": "2020-11-15T00:06:31.815246Z",
     "iopub.status.busy": "2020-11-15T00:06:31.814699Z",
     "iopub.status.idle": "2020-11-15T00:06:31.826586Z",
     "shell.execute_reply": "2020-11-15T00:06:31.827008Z"
    },
    "papermill": {
     "duration": 0.040756,
     "end_time": "2020-11-15T00:06:31.827143",
     "exception": false,
     "start_time": "2020-11-15T00:06:31.786387",
     "status": "completed"
    },
    "tags": []
   },
   "outputs": [],
   "source": [
    "training_xdata = X_train\n",
    "testing_xdata = X_test\n",
    "training_ydata = y_train.reshape(-1,1)\n",
    "testing_ydata = y_test.reshape(-1,1)"
   ]
  },
  {
   "cell_type": "markdown",
   "metadata": {
    "papermill": {
     "duration": 0.02612,
     "end_time": "2020-11-15T00:06:31.878355",
     "exception": false,
     "start_time": "2020-11-15T00:06:31.852235",
     "status": "completed"
    },
    "tags": []
   },
   "source": [
    "### Running Models with the Training data\n",
    "Details about the network layers:\n",
    "- A first affine layer has 784 inputs and does 100 affine transforms. These are followed by a Relu\n",
    "- A second affine layer has 100 inputs from the 100 activations of the past layer, and does 100 affine transforms. These are followed by a Relu\n",
    "- A third affine layer has 100 activations and does 2 affine transformations to create an embedding for visualization. There is no non-linearity here.\n",
    "- A final \"logistic regression\" which has an affine transform from 2 inputs to 1 output, which is squeezed through a sigmoid.\n",
    "\n",
    "Help taken from Anshuman's Notebook."
   ]
  },
  {
   "cell_type": "code",
   "execution_count": 18,
   "metadata": {
    "execution": {
     "iopub.execute_input": "2020-11-15T00:06:32.019289Z",
     "iopub.status.busy": "2020-11-15T00:06:32.018775Z",
     "iopub.status.idle": "2020-11-15T00:06:32.037640Z",
     "shell.execute_reply": "2020-11-15T00:06:32.037154Z"
    },
    "papermill": {
     "duration": 0.129805,
     "end_time": "2020-11-15T00:06:32.037793",
     "exception": false,
     "start_time": "2020-11-15T00:06:31.907988",
     "status": "completed"
    },
    "tags": []
   },
   "outputs": [],
   "source": [
    "# layers for the Neural Network\n",
    "layers = [Affine(\"first\", 784, 100), Relu(\"first\"), Affine(\"second\", 100, 100), Relu(\"second\"), Affine(\"third\", 100, 2), Affine(\"final\", 2, 1), Sigmoid(\"final\")]\n",
    "model_nn = Model(layers)\n",
    "\n",
    "# layers for the Logistic Regression\n",
    "layers_lr = [Affine(\"logits\", 784, 1), Sigmoid(\"sigmoid\")]\n",
    "model_lr = Model(layers_lr)"
   ]
  },
  {
   "cell_type": "code",
   "execution_count": 19,
   "metadata": {
    "execution": {
     "iopub.execute_input": "2020-11-15T00:06:32.099276Z",
     "iopub.status.busy": "2020-11-15T00:06:32.098707Z",
     "iopub.status.idle": "2020-11-15T00:06:32.112163Z",
     "shell.execute_reply": "2020-11-15T00:06:32.111705Z"
    },
    "papermill": {
     "duration": 0.046845,
     "end_time": "2020-11-15T00:06:32.112276",
     "exception": false,
     "start_time": "2020-11-15T00:06:32.065431",
     "status": "completed"
    },
    "tags": []
   },
   "outputs": [],
   "source": [
    "# suffix _nn stands for Neural Network.\n",
    "learner_nn = Learner(loss, model_nn, opt, config.num_epochs)\n",
    "acc_nn = ClfCallback(learner_nn, config.bs, training_xdata , testing_xdata, training_ydata, testing_ydata)\n",
    "learner_nn.set_callbacks([acc_nn])"
   ]
  },
  {
   "cell_type": "code",
   "execution_count": 20,
   "metadata": {
    "execution": {
     "iopub.execute_input": "2020-11-15T00:06:32.168707Z",
     "iopub.status.busy": "2020-11-15T00:06:32.168212Z",
     "iopub.status.idle": "2020-11-15T00:07:56.075560Z",
     "shell.execute_reply": "2020-11-15T00:07:56.075125Z"
    },
    "papermill": {
     "duration": 83.936244,
     "end_time": "2020-11-15T00:07:56.075681",
     "exception": false,
     "start_time": "2020-11-15T00:06:32.139437",
     "status": "completed"
    },
    "tags": []
   },
   "outputs": [
    {
     "name": "stdout",
     "output_type": "stream",
     "text": [
      "====== Neural Network ======\n"
     ]
    },
    {
     "name": "stdout",
     "output_type": "stream",
     "text": [
      "Epoch 0, Loss 0.2502\n",
      "Training Accuracy: 0.5330, Testing Accuracy: 0.5272\n",
      "\n"
     ]
    },
    {
     "name": "stdout",
     "output_type": "stream",
     "text": [
      "Epoch 10, Loss 0.1866\n",
      "Training Accuracy: 0.8755, Testing Accuracy: 0.8805\n",
      "\n"
     ]
    },
    {
     "name": "stdout",
     "output_type": "stream",
     "text": [
      "Epoch 20, Loss 0.088\n",
      "Training Accuracy: 0.9175, Testing Accuracy: 0.9254\n",
      "\n"
     ]
    },
    {
     "name": "stdout",
     "output_type": "stream",
     "text": [
      "Epoch 30, Loss 0.0566\n",
      "Training Accuracy: 0.9402, Testing Accuracy: 0.9501\n",
      "\n"
     ]
    },
    {
     "name": "stdout",
     "output_type": "stream",
     "text": [
      "Epoch 40, Loss 0.0445\n",
      "Training Accuracy: 0.9515, Testing Accuracy: 0.9597\n",
      "\n"
     ]
    },
    {
     "name": "stdout",
     "output_type": "stream",
     "text": [
      "Epoch 50, Loss 0.0385\n",
      "Training Accuracy: 0.9573, Testing Accuracy: 0.9632\n",
      "\n"
     ]
    },
    {
     "name": "stdout",
     "output_type": "stream",
     "text": [
      "Epoch 60, Loss 0.0349\n",
      "Training Accuracy: 0.9609, Testing Accuracy: 0.9632\n",
      "\n"
     ]
    },
    {
     "name": "stdout",
     "output_type": "stream",
     "text": [
      "Epoch 70, Loss 0.0325\n",
      "Training Accuracy: 0.9631, Testing Accuracy: 0.9642\n",
      "\n"
     ]
    },
    {
     "name": "stdout",
     "output_type": "stream",
     "text": [
      "Epoch 80, Loss 0.0308\n",
      "Training Accuracy: 0.9654, Testing Accuracy: 0.9647\n",
      "\n"
     ]
    },
    {
     "name": "stdout",
     "output_type": "stream",
     "text": [
      "Epoch 90, Loss 0.0294\n",
      "Training Accuracy: 0.9663, Testing Accuracy: 0.9662\n",
      "\n"
     ]
    },
    {
     "name": "stdout",
     "output_type": "stream",
     "text": [
      "Epoch 100, Loss 0.0283\n",
      "Training Accuracy: 0.9673, Testing Accuracy: 0.9667\n",
      "\n"
     ]
    },
    {
     "name": "stdout",
     "output_type": "stream",
     "text": [
      "Epoch 110, Loss 0.0274\n",
      "Training Accuracy: 0.9683, Testing Accuracy: 0.9672\n",
      "\n"
     ]
    },
    {
     "name": "stdout",
     "output_type": "stream",
     "text": [
      "Epoch 120, Loss 0.0266\n",
      "Training Accuracy: 0.9691, Testing Accuracy: 0.9672\n",
      "\n"
     ]
    },
    {
     "name": "stdout",
     "output_type": "stream",
     "text": [
      "Epoch 130, Loss 0.0258\n",
      "Training Accuracy: 0.9698, Testing Accuracy: 0.9682\n",
      "\n"
     ]
    },
    {
     "name": "stdout",
     "output_type": "stream",
     "text": [
      "Epoch 140, Loss 0.0252\n",
      "Training Accuracy: 0.9705, Testing Accuracy: 0.9682\n",
      "\n"
     ]
    },
    {
     "name": "stdout",
     "output_type": "stream",
     "text": [
      "Epoch 150, Loss 0.0246\n",
      "Training Accuracy: 0.9710, Testing Accuracy: 0.9677\n",
      "\n"
     ]
    },
    {
     "name": "stdout",
     "output_type": "stream",
     "text": [
      "Epoch 160, Loss 0.0241\n",
      "Training Accuracy: 0.9718, Testing Accuracy: 0.9677\n",
      "\n"
     ]
    },
    {
     "name": "stdout",
     "output_type": "stream",
     "text": [
      "Epoch 170, Loss 0.0236\n",
      "Training Accuracy: 0.9726, Testing Accuracy: 0.9688\n",
      "\n"
     ]
    },
    {
     "name": "stdout",
     "output_type": "stream",
     "text": [
      "Epoch 180, Loss 0.0231\n",
      "Training Accuracy: 0.9734, Testing Accuracy: 0.9693\n",
      "\n"
     ]
    },
    {
     "name": "stdout",
     "output_type": "stream",
     "text": [
      "Epoch 190, Loss 0.0227\n",
      "Training Accuracy: 0.9737, Testing Accuracy: 0.9693\n",
      "\n"
     ]
    },
    {
     "name": "stdout",
     "output_type": "stream",
     "text": [
      "Epoch 200, Loss 0.0222\n",
      "Training Accuracy: 0.9740, Testing Accuracy: 0.9693\n",
      "\n"
     ]
    },
    {
     "name": "stdout",
     "output_type": "stream",
     "text": [
      "Epoch 210, Loss 0.0218\n",
      "Training Accuracy: 0.9749, Testing Accuracy: 0.9703\n",
      "\n"
     ]
    },
    {
     "name": "stdout",
     "output_type": "stream",
     "text": [
      "Epoch 220, Loss 0.0215\n",
      "Training Accuracy: 0.9753, Testing Accuracy: 0.9713\n",
      "\n"
     ]
    },
    {
     "name": "stdout",
     "output_type": "stream",
     "text": [
      "Epoch 230, Loss 0.0211\n",
      "Training Accuracy: 0.9758, Testing Accuracy: 0.9708\n",
      "\n"
     ]
    },
    {
     "name": "stdout",
     "output_type": "stream",
     "text": [
      "Epoch 240, Loss 0.0207\n",
      "Training Accuracy: 0.9762, Testing Accuracy: 0.9713\n",
      "\n"
     ]
    },
    {
     "name": "stdout",
     "output_type": "stream",
     "text": [
      "Epoch 250, Loss 0.0204\n",
      "Training Accuracy: 0.9769, Testing Accuracy: 0.9723\n",
      "\n"
     ]
    },
    {
     "data": {
      "text/plain": [
       "0.02151767163223188"
      ]
     },
     "execution_count": 20,
     "metadata": {},
     "output_type": "execute_result"
    }
   ],
   "source": [
    "print(\"====== Neural Network ======\")\n",
    "learner_nn.train_loop(dl)"
   ]
  },
  {
   "cell_type": "markdown",
   "metadata": {
    "papermill": {
     "duration": 0.036941,
     "end_time": "2020-11-15T00:07:56.144549",
     "exception": false,
     "start_time": "2020-11-15T00:07:56.107608",
     "status": "completed"
    },
    "tags": []
   },
   "source": [
    "### Logistic Regression based Implementation."
   ]
  },
  {
   "cell_type": "code",
   "execution_count": 21,
   "metadata": {
    "execution": {
     "iopub.execute_input": "2020-11-15T00:07:56.222469Z",
     "iopub.status.busy": "2020-11-15T00:07:56.220531Z",
     "iopub.status.idle": "2020-11-15T00:07:56.235092Z",
     "shell.execute_reply": "2020-11-15T00:07:56.234604Z"
    },
    "papermill": {
     "duration": 0.054217,
     "end_time": "2020-11-15T00:07:56.235214",
     "exception": false,
     "start_time": "2020-11-15T00:07:56.180997",
     "status": "completed"
    },
    "tags": []
   },
   "outputs": [],
   "source": [
    "learner_lr = Learner(loss, model_lr, opt, config.num_epochs)\n",
    "acc_lr = ClfCallback(learner_lr, config.bs, training_xdata , testing_xdata, training_ydata, testing_ydata)\n",
    "learner_lr.set_callbacks([acc_lr])"
   ]
  },
  {
   "cell_type": "code",
   "execution_count": 22,
   "metadata": {
    "execution": {
     "iopub.execute_input": "2020-11-15T00:07:56.306434Z",
     "iopub.status.busy": "2020-11-15T00:07:56.305834Z",
     "iopub.status.idle": "2020-11-15T00:08:10.907988Z",
     "shell.execute_reply": "2020-11-15T00:08:10.908783Z"
    },
    "papermill": {
     "duration": 14.639806,
     "end_time": "2020-11-15T00:08:10.908945",
     "exception": false,
     "start_time": "2020-11-15T00:07:56.269139",
     "status": "completed"
    },
    "tags": []
   },
   "outputs": [
    {
     "name": "stdout",
     "output_type": "stream",
     "text": [
      "====== Logistic Regression ======\n",
      "Epoch 0, Loss 0.2545\n",
      "Training Accuracy: 0.6330, Testing Accuracy: 0.6890\n",
      "\n"
     ]
    },
    {
     "name": "stdout",
     "output_type": "stream",
     "text": [
      "Epoch 10, Loss 0.1023\n",
      "Training Accuracy: 0.9106, Testing Accuracy: 0.9173\n",
      "\n"
     ]
    },
    {
     "name": "stdout",
     "output_type": "stream",
     "text": [
      "Epoch 20, Loss 0.0786\n",
      "Training Accuracy: 0.9269, Testing Accuracy: 0.9390\n",
      "\n"
     ]
    },
    {
     "name": "stdout",
     "output_type": "stream",
     "text": [
      "Epoch 30, Loss 0.0678\n",
      "Training Accuracy: 0.9360, Testing Accuracy: 0.9491\n",
      "\n"
     ]
    },
    {
     "name": "stdout",
     "output_type": "stream",
     "text": [
      "Epoch 40, Loss 0.0612\n",
      "Training Accuracy: 0.9427, Testing Accuracy: 0.9506\n",
      "\n"
     ]
    },
    {
     "name": "stdout",
     "output_type": "stream",
     "text": [
      "Epoch 50, Loss 0.0567\n",
      "Training Accuracy: 0.9449, Testing Accuracy: 0.9536\n",
      "\n"
     ]
    },
    {
     "name": "stdout",
     "output_type": "stream",
     "text": [
      "Epoch 60, Loss 0.0535\n",
      "Training Accuracy: 0.9475, Testing Accuracy: 0.9582\n",
      "\n"
     ]
    },
    {
     "name": "stdout",
     "output_type": "stream",
     "text": [
      "Epoch 70, Loss 0.0509\n",
      "Training Accuracy: 0.9497, Testing Accuracy: 0.9587\n",
      "\n"
     ]
    },
    {
     "name": "stdout",
     "output_type": "stream",
     "text": [
      "Epoch 80, Loss 0.0489\n",
      "Training Accuracy: 0.9512, Testing Accuracy: 0.9612\n",
      "\n"
     ]
    },
    {
     "name": "stdout",
     "output_type": "stream",
     "text": [
      "Epoch 90, Loss 0.0472\n",
      "Training Accuracy: 0.9527, Testing Accuracy: 0.9622\n",
      "\n"
     ]
    },
    {
     "name": "stdout",
     "output_type": "stream",
     "text": [
      "Epoch 100, Loss 0.0458\n",
      "Training Accuracy: 0.9543, Testing Accuracy: 0.9637\n",
      "\n"
     ]
    },
    {
     "name": "stdout",
     "output_type": "stream",
     "text": [
      "Epoch 110, Loss 0.0446\n",
      "Training Accuracy: 0.9556, Testing Accuracy: 0.9642\n",
      "\n"
     ]
    },
    {
     "name": "stdout",
     "output_type": "stream",
     "text": [
      "Epoch 120, Loss 0.0436\n",
      "Training Accuracy: 0.9562, Testing Accuracy: 0.9652\n",
      "\n"
     ]
    },
    {
     "name": "stdout",
     "output_type": "stream",
     "text": [
      "Epoch 130, Loss 0.0427\n",
      "Training Accuracy: 0.9564, Testing Accuracy: 0.9652\n",
      "\n"
     ]
    },
    {
     "name": "stdout",
     "output_type": "stream",
     "text": [
      "Epoch 140, Loss 0.0418\n",
      "Training Accuracy: 0.9567, Testing Accuracy: 0.9647\n",
      "\n"
     ]
    },
    {
     "name": "stdout",
     "output_type": "stream",
     "text": [
      "Epoch 150, Loss 0.0411\n",
      "Training Accuracy: 0.9575, Testing Accuracy: 0.9647\n",
      "\n"
     ]
    },
    {
     "name": "stdout",
     "output_type": "stream",
     "text": [
      "Epoch 160, Loss 0.0404\n",
      "Training Accuracy: 0.9579, Testing Accuracy: 0.9647\n",
      "\n"
     ]
    },
    {
     "name": "stdout",
     "output_type": "stream",
     "text": [
      "Epoch 170, Loss 0.0398\n",
      "Training Accuracy: 0.9583, Testing Accuracy: 0.9647\n",
      "\n"
     ]
    },
    {
     "name": "stdout",
     "output_type": "stream",
     "text": [
      "Epoch 180, Loss 0.0393\n",
      "Training Accuracy: 0.9589, Testing Accuracy: 0.9647\n",
      "\n"
     ]
    },
    {
     "name": "stdout",
     "output_type": "stream",
     "text": [
      "Epoch 190, Loss 0.0388\n",
      "Training Accuracy: 0.9591, Testing Accuracy: 0.9642\n",
      "\n"
     ]
    },
    {
     "name": "stdout",
     "output_type": "stream",
     "text": [
      "Epoch 200, Loss 0.0383\n",
      "Training Accuracy: 0.9595, Testing Accuracy: 0.9642\n",
      "\n"
     ]
    },
    {
     "name": "stdout",
     "output_type": "stream",
     "text": [
      "Epoch 210, Loss 0.0379\n",
      "Training Accuracy: 0.9596, Testing Accuracy: 0.9647\n",
      "\n"
     ]
    },
    {
     "name": "stdout",
     "output_type": "stream",
     "text": [
      "Epoch 220, Loss 0.0375\n",
      "Training Accuracy: 0.9601, Testing Accuracy: 0.9647\n",
      "\n"
     ]
    },
    {
     "name": "stdout",
     "output_type": "stream",
     "text": [
      "Epoch 230, Loss 0.0371\n",
      "Training Accuracy: 0.9604, Testing Accuracy: 0.9647\n",
      "\n"
     ]
    },
    {
     "name": "stdout",
     "output_type": "stream",
     "text": [
      "Epoch 240, Loss 0.0367\n",
      "Training Accuracy: 0.9606, Testing Accuracy: 0.9652\n",
      "\n"
     ]
    },
    {
     "name": "stdout",
     "output_type": "stream",
     "text": [
      "Epoch 250, Loss 0.0364\n",
      "Training Accuracy: 0.9607, Testing Accuracy: 0.9652\n",
      "\n"
     ]
    },
    {
     "data": {
      "text/plain": [
       "0.04597226151215751"
      ]
     },
     "execution_count": 22,
     "metadata": {},
     "output_type": "execute_result"
    }
   ],
   "source": [
    "print(\"====== Logistic Regression ======\")\n",
    "learner_lr.train_loop(dl)"
   ]
  },
  {
   "cell_type": "markdown",
   "metadata": {
    "papermill": {
     "duration": 0.040046,
     "end_time": "2020-11-15T00:08:10.991560",
     "exception": false,
     "start_time": "2020-11-15T00:08:10.951514",
     "status": "completed"
    },
    "tags": []
   },
   "source": [
    "### Comparing results of NN and LR"
   ]
  },
  {
   "cell_type": "code",
   "execution_count": 23,
   "metadata": {
    "execution": {
     "iopub.execute_input": "2020-11-15T00:08:11.083680Z",
     "iopub.status.busy": "2020-11-15T00:08:11.082628Z",
     "iopub.status.idle": "2020-11-15T00:08:11.309117Z",
     "shell.execute_reply": "2020-11-15T00:08:11.308643Z"
    },
    "papermill": {
     "duration": 0.27376,
     "end_time": "2020-11-15T00:08:11.309252",
     "exception": false,
     "start_time": "2020-11-15T00:08:11.035492",
     "status": "completed"
    },
    "tags": []
   },
   "outputs": [
    {
     "data": {
      "text/plain": [
       "<matplotlib.legend.Legend at 0x7f546a8e52e8>"
      ]
     },
     "execution_count": 23,
     "metadata": {},
     "output_type": "execute_result"
    },
    {
     "data": {
      "image/png": "[encoded data removed]",
      "text/plain": [
       "<Figure size 1080x720 with 1 Axes>"
      ]
     },
     "metadata": {
      "needs_background": "light"
     },
     "output_type": "display_data"
    }
   ],
   "source": [
    "plt.figure(figsize=(15,10))\n",
    "\n",
    "# Neural Network plots\n",
    "plt.plot(acc_nn.accuracies, 'r-', label = \"Training Accuracies - NN\")\n",
    "plt.plot(acc_nn.test_accuracies, 'g-', label = \"Testing Accuracies - NN\")\n",
    "\n",
    "# Logistic Regression plots\n",
    "plt.plot(acc_lr.accuracies, 'k-', label = \"Training Accuracies - LR\")\n",
    "plt.plot(acc_lr.test_accuracies, 'b-', label = \"Testing Accuracies - LR\")\n",
    "\n",
    "plt.ylim(0.8, 1)\n",
    "\n",
    "plt.legend()\n",
    "\n"
   ]
  },
  {
   "cell_type": "markdown",
   "metadata": {
    "papermill": {
     "duration": 0.043035,
     "end_time": "2020-11-15T00:08:11.394813",
     "exception": false,
     "start_time": "2020-11-15T00:08:11.351778",
     "status": "completed"
    },
    "tags": []
   },
   "source": [
    "### From the plot, we can observe the following:\n",
    "- Neural Network achieves higher accuracy than the Logistic Regression model.\n",
    "- This apparently, is because of overfitting, i.e. NN captures more noise than data.\n",
    "- Testing accuracy of NN drops below the Training accuracy at higher epochs. This explains the over-fitting on training data.\n",
    "- Logistic Regression gives a reliable accuracy, without the above mentioned problem.\n"
   ]
  },
  {
   "cell_type": "markdown",
   "metadata": {
    "papermill": {
     "duration": 0.038485,
     "end_time": "2020-11-15T00:08:11.474382",
     "exception": false,
     "start_time": "2020-11-15T00:08:11.435897",
     "status": "completed"
    },
    "tags": []
   },
   "source": [
    "### Moving till the last but one layer (excluding it).\n",
    "#### Plotting the outputs of this layer of the NN."
   ]
  },
  {
   "cell_type": "code",
   "execution_count": 24,
   "metadata": {
    "execution": {
     "iopub.execute_input": "2020-11-15T00:08:11.571617Z",
     "iopub.status.busy": "2020-11-15T00:08:11.566940Z",
     "iopub.status.idle": "2020-11-15T00:08:11.577236Z",
     "shell.execute_reply": "2020-11-15T00:08:11.576165Z"
    },
    "papermill": {
     "duration": 0.063478,
     "end_time": "2020-11-15T00:08:11.577360",
     "exception": false,
     "start_time": "2020-11-15T00:08:11.513882",
     "status": "completed"
    },
    "tags": []
   },
   "outputs": [],
   "source": [
    "model_new = Model(layers[:-2])"
   ]
  },
  {
   "cell_type": "code",
   "execution_count": 25,
   "metadata": {
    "execution": {
     "iopub.execute_input": "2020-11-15T00:08:11.666806Z",
     "iopub.status.busy": "2020-11-15T00:08:11.666374Z",
     "iopub.status.idle": "2020-11-15T00:08:11.689630Z",
     "shell.execute_reply": "2020-11-15T00:08:11.690073Z"
    },
    "papermill": {
     "duration": 0.069231,
     "end_time": "2020-11-15T00:08:11.690211",
     "exception": false,
     "start_time": "2020-11-15T00:08:11.620980",
     "status": "completed"
    },
    "tags": []
   },
   "outputs": [],
   "source": [
    "plot_testing = model_new(testing_xdata)"
   ]
  },
  {
   "cell_type": "code",
   "execution_count": 26,
   "metadata": {
    "execution": {
     "iopub.execute_input": "2020-11-15T00:08:11.786972Z",
     "iopub.status.busy": "2020-11-15T00:08:11.786408Z",
     "iopub.status.idle": "2020-11-15T00:08:11.967829Z",
     "shell.execute_reply": "2020-11-15T00:08:11.967010Z"
    },
    "papermill": {
     "duration": 0.237453,
     "end_time": "2020-11-15T00:08:11.967978",
     "exception": false,
     "start_time": "2020-11-15T00:08:11.730525",
     "status": "completed"
    },
    "tags": []
   },
   "outputs": [
    {
     "data": {
      "text/plain": [
       "Text(0.5, 1.0, 'Outputs')"
      ]
     },
     "execution_count": 26,
     "metadata": {},
     "output_type": "execute_result"
    },
    {
     "data": {
      "image/png": "[encoded data removed]",
      "text/plain": [
       "<Figure size 576x504 with 1 Axes>"
      ]
     },
     "metadata": {
      "needs_background": "light"
     },
     "output_type": "display_data"
    }
   ],
   "source": [
    "plt.figure(figsize=(8,7))\n",
    "plt.scatter(plot_testing[:,0], plot_testing[:,1], alpha = 0.1, c = y_test.ravel());\n",
    "plt.title('Outputs')"
   ]
  },
  {
   "cell_type": "markdown",
   "metadata": {
    "papermill": {
     "duration": 0.048902,
     "end_time": "2020-11-15T00:08:12.069201",
     "exception": false,
     "start_time": "2020-11-15T00:08:12.020299",
     "status": "completed"
    },
    "tags": []
   },
   "source": [
    "### Plotting probability contours"
   ]
  },
  {
   "cell_type": "code",
   "execution_count": 27,
   "metadata": {
    "execution": {
     "iopub.execute_input": "2020-11-15T00:08:12.169272Z",
     "iopub.status.busy": "2020-11-15T00:08:12.168671Z",
     "iopub.status.idle": "2020-11-15T00:08:12.180032Z",
     "shell.execute_reply": "2020-11-15T00:08:12.180614Z"
    },
    "papermill": {
     "duration": 0.065493,
     "end_time": "2020-11-15T00:08:12.180778",
     "exception": false,
     "start_time": "2020-11-15T00:08:12.115285",
     "status": "completed"
    },
    "tags": []
   },
   "outputs": [],
   "source": [
    "model_prob = Model(layers[-2:]) "
   ]
  },
  {
   "cell_type": "code",
   "execution_count": 28,
   "metadata": {
    "execution": {
     "iopub.execute_input": "2020-11-15T00:08:12.279737Z",
     "iopub.status.busy": "2020-11-15T00:08:12.279125Z",
     "iopub.status.idle": "2020-11-15T00:08:12.293375Z",
     "shell.execute_reply": "2020-11-15T00:08:12.293870Z"
    },
    "papermill": {
     "duration": 0.063215,
     "end_time": "2020-11-15T00:08:12.294043",
     "exception": false,
     "start_time": "2020-11-15T00:08:12.230828",
     "status": "completed"
    },
    "tags": []
   },
   "outputs": [],
   "source": [
    "# Adjust the x and y ranges according to the above generated plot.\n",
    "x_range = np.linspace(-4, 1, 100) \n",
    "y_range = np.linspace(-6, 6, 100) \n",
    "x_grid, y_grid = np.meshgrid(x_range, y_range) # x_grid and y_grig are of size 100 X 100\n",
    "\n",
    "# converting x_grid and y_grid to continuous arrays\n",
    "x_grid_flat = np.ravel(x_grid)\n",
    "y_grid_flat = np.ravel(y_grid)\n",
    "\n",
    "# The last layer of the current model takes two columns as input. Hence transpose of np.vstack() is required.\n",
    "X = np.vstack((x_grid_flat, y_grid_flat)).T\n",
    "\n",
    "# x_grid and y_grid are of size 100 x 100\n",
    "probability_contour = model_prob(X).reshape(100,100) "
   ]
  },
  {
   "cell_type": "code",
   "execution_count": 29,
   "metadata": {
    "execution": {
     "iopub.execute_input": "2020-11-15T00:08:12.403477Z",
     "iopub.status.busy": "2020-11-15T00:08:12.402872Z",
     "iopub.status.idle": "2020-11-15T00:08:12.634746Z",
     "shell.execute_reply": "2020-11-15T00:08:12.635224Z"
    },
    "papermill": {
     "duration": 0.288237,
     "end_time": "2020-11-15T00:08:12.635397",
     "exception": false,
     "start_time": "2020-11-15T00:08:12.347160",
     "status": "completed"
    },
    "tags": []
   },
   "outputs": [
    {
     "data": {
      "image/png": "[encoded data removed]",
      "text/plain": [
       "<Figure size 720x648 with 1 Axes>"
      ]
     },
     "metadata": {
      "needs_background": "light"
     },
     "output_type": "display_data"
    }
   ],
   "source": [
    "plt.figure(figsize=(10,9))\n",
    "plt.scatter(plot_testing[:,0], plot_testing[:,1], alpha = 0.1, c = y_test.ravel())\n",
    "contours = plt.contour(x_grid,y_grid,probability_contour)\n",
    "plt.title('Probability Contours')\n",
    "plt.clabel(contours, inline = True );"
   ]
  }
 ],
 "metadata": {
  "kernelspec": {
   "display_name": "Python 3",
   "language": "python",
   "name": "python3"
  },
  "language_info": {
   "codemirror_mode": {
    "name": "ipython",
    "version": 3
   },
   "file_extension": ".py",
   "mimetype": "text/x-python",
   "name": "python",
   "nbconvert_exporter": "python",
   "pygments_lexer": "ipython3",
   "version": "3.6.12"
  },
  "papermill": {
   "duration": 108.122463,
   "end_time": "2020-11-15T00:08:13.095878",
   "environment_variables": {},
   "exception": null,
   "input_path": "2020-08-11-NeuralNetwork.ipynb",
   "output_path": "2020-08-11-NeuralNetwork.ipynb",
   "parameters": {},
   "start_time": "2020-11-15T00:06:24.973415",
   "version": "2.1.2"
  }
 },
 "nbformat": 4,
 "nbformat_minor": 4
}