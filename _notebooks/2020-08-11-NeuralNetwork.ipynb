{
 "cells": [
  {
   "cell_type": "markdown",
   "id": "fitted-suggestion",
   "metadata": {
    "papermill": {
     "duration": 0.032656,
     "end_time": "2021-01-23T00:36:15.220771",
     "exception": false,
     "start_time": "2021-01-23T00:36:15.188115",
     "status": "completed"
    },
    "tags": []
   },
   "source": [
    "# \"A Basic Neural Network: Differentiate Hand-Written Digits\"\n",
    "\n",
    "- badges: true\n",
    "- author: Akshith Sriram"
   ]
  },
  {
   "cell_type": "markdown",
   "id": "signal-flexibility",
   "metadata": {
    "papermill": {
     "duration": 0.029563,
     "end_time": "2021-01-23T00:36:15.279431",
     "exception": false,
     "start_time": "2021-01-23T00:36:15.249868",
     "status": "completed"
    },
    "tags": []
   },
   "source": [
    "### Key Objectives:\n",
    "- Building a neural network that differentiates two hand-written digits 3 and 8.\n",
    "- Comparing the results of this Neural Network (NN) to that of a Logistic Regression (LR) model.\n",
    "\n",
    "### Requirements:\n",
    "- 'Kudzu' : A neural network library that was designed during our course by [Univ.AI](www.univ.ai). \n",
    "- MNIST Database\n",
    "\n",
    "If MNIST is not installed, use the command `!pip install mnist` given below.\n",
    "It can be run both from the command line and Jupyter Notebook."
   ]
  },
  {
   "cell_type": "code",
   "execution_count": 1,
   "id": "british-texture",
   "metadata": {
    "execution": {
     "iopub.execute_input": "2021-01-23T00:36:15.347708Z",
     "iopub.status.busy": "2021-01-23T00:36:15.347078Z",
     "iopub.status.idle": "2021-01-23T00:36:16.967075Z",
     "shell.execute_reply": "2021-01-23T00:36:16.965265Z"
    },
    "papermill": {
     "duration": 1.658561,
     "end_time": "2021-01-23T00:36:16.967322",
     "exception": false,
     "start_time": "2021-01-23T00:36:15.308761",
     "status": "completed"
    },
    "tags": []
   },
   "outputs": [
    {
     "name": "stdout",
     "output_type": "stream",
     "text": [
      "Collecting mnist\r\n"
     ]
    },
    {
     "name": "stdout",
     "output_type": "stream",
     "text": [
      "  Downloading mnist-0.2.2-py2.py3-none-any.whl (3.5 kB)\r\n",
      "Requirement already satisfied: numpy in /opt/hostedtoolcache/Python/3.6.12/x64/lib/python3.6/site-packages (from mnist) (1.19.5)\r\n"
     ]
    },
    {
     "name": "stdout",
     "output_type": "stream",
     "text": [
      "Installing collected packages: mnist\r\n"
     ]
    },
    {
     "name": "stdout",
     "output_type": "stream",
     "text": [
      "Successfully installed mnist-0.2.2\r\n",
      "\u001b[33mWARNING: You are using pip version 20.3.1; however, version 20.3.3 is available.\r\n",
      "You should consider upgrading via the '/opt/hostedtoolcache/Python/3.6.12/x64/bin/python -m pip install --upgrade pip' command.\u001b[0m\r\n"
     ]
    }
   ],
   "source": [
    "!pip install mnist "
   ]
  },
  {
   "cell_type": "markdown",
   "id": "stunning-extra",
   "metadata": {
    "papermill": {
     "duration": 0.02923,
     "end_time": "2021-01-23T00:36:17.033058",
     "exception": false,
     "start_time": "2021-01-23T00:36:17.003828",
     "status": "completed"
    },
    "tags": []
   },
   "source": [
    "#### Importing necessary libraries"
   ]
  },
  {
   "cell_type": "code",
   "execution_count": 2,
   "id": "wooden-france",
   "metadata": {
    "execution": {
     "iopub.execute_input": "2021-01-23T00:36:17.105679Z",
     "iopub.status.busy": "2021-01-23T00:36:17.105042Z",
     "iopub.status.idle": "2021-01-23T00:36:17.690458Z",
     "shell.execute_reply": "2021-01-23T00:36:17.689583Z"
    },
    "papermill": {
     "duration": 0.62621,
     "end_time": "2021-01-23T00:36:17.690686",
     "exception": false,
     "start_time": "2021-01-23T00:36:17.064476",
     "status": "completed"
    },
    "tags": []
   },
   "outputs": [],
   "source": [
    "%load_ext autoreload\n",
    "%autoreload 2\n",
    "\n",
    "%matplotlib inline\n",
    "import matplotlib.pyplot as plt\n",
    "\n",
    "import numpy as np\n",
    "import pandas as pd"
   ]
  },
  {
   "cell_type": "markdown",
   "id": "stunning-physics",
   "metadata": {
    "papermill": {
     "duration": 0.02965,
     "end_time": "2021-01-23T00:36:17.753823",
     "exception": false,
     "start_time": "2021-01-23T00:36:17.724173",
     "status": "completed"
    },
    "tags": []
   },
   "source": [
    "### Preparing the Data"
   ]
  },
  {
   "cell_type": "code",
   "execution_count": 3,
   "id": "unauthorized-remainder",
   "metadata": {
    "execution": {
     "iopub.execute_input": "2021-01-23T00:36:17.817024Z",
     "iopub.status.busy": "2021-01-23T00:36:17.816436Z",
     "iopub.status.idle": "2021-01-23T00:36:17.831404Z",
     "shell.execute_reply": "2021-01-23T00:36:17.830673Z"
    },
    "papermill": {
     "duration": 0.048364,
     "end_time": "2021-01-23T00:36:17.831592",
     "exception": false,
     "start_time": "2021-01-23T00:36:17.783228",
     "status": "completed"
    },
    "tags": []
   },
   "outputs": [],
   "source": [
    "import mnist"
   ]
  },
  {
   "cell_type": "code",
   "execution_count": 4,
   "id": "correct-antarctica",
   "metadata": {
    "execution": {
     "iopub.execute_input": "2021-01-23T00:36:17.897154Z",
     "iopub.status.busy": "2021-01-23T00:36:17.896386Z",
     "iopub.status.idle": "2021-01-23T00:36:18.851101Z",
     "shell.execute_reply": "2021-01-23T00:36:18.851578Z"
    },
    "papermill": {
     "duration": 0.989366,
     "end_time": "2021-01-23T00:36:18.851756",
     "exception": false,
     "start_time": "2021-01-23T00:36:17.862390",
     "status": "completed"
    },
    "tags": []
   },
   "outputs": [],
   "source": [
    "train_images = mnist.train_images()\n",
    "train_labels = mnist.train_labels()"
   ]
  },
  {
   "cell_type": "code",
   "execution_count": 5,
   "id": "musical-prospect",
   "metadata": {
    "execution": {
     "iopub.execute_input": "2021-01-23T00:36:18.915829Z",
     "iopub.status.busy": "2021-01-23T00:36:18.915193Z",
     "iopub.status.idle": "2021-01-23T00:36:18.932823Z",
     "shell.execute_reply": "2021-01-23T00:36:18.932319Z"
    },
    "papermill": {
     "duration": 0.051485,
     "end_time": "2021-01-23T00:36:18.932953",
     "exception": false,
     "start_time": "2021-01-23T00:36:18.881468",
     "status": "completed"
    },
    "tags": []
   },
   "outputs": [
    {
     "data": {
      "text/plain": [
       "((60000, 28, 28), (60000,))"
      ]
     },
     "execution_count": 5,
     "metadata": {},
     "output_type": "execute_result"
    }
   ],
   "source": [
    "train_images.shape, train_labels.shape"
   ]
  },
  {
   "cell_type": "code",
   "execution_count": 6,
   "id": "preliminary-elizabeth",
   "metadata": {
    "execution": {
     "iopub.execute_input": "2021-01-23T00:36:18.996159Z",
     "iopub.status.busy": "2021-01-23T00:36:18.995558Z",
     "iopub.status.idle": "2021-01-23T00:36:19.329872Z",
     "shell.execute_reply": "2021-01-23T00:36:19.329310Z"
    },
    "papermill": {
     "duration": 0.367501,
     "end_time": "2021-01-23T00:36:19.330012",
     "exception": false,
     "start_time": "2021-01-23T00:36:18.962511",
     "status": "completed"
    },
    "tags": []
   },
   "outputs": [],
   "source": [
    "test_images = mnist.test_images()\n",
    "test_labels = mnist.test_labels()"
   ]
  },
  {
   "cell_type": "code",
   "execution_count": 7,
   "id": "acknowledged-oxygen",
   "metadata": {
    "execution": {
     "iopub.execute_input": "2021-01-23T00:36:19.395329Z",
     "iopub.status.busy": "2021-01-23T00:36:19.394751Z",
     "iopub.status.idle": "2021-01-23T00:36:19.409337Z",
     "shell.execute_reply": "2021-01-23T00:36:19.409882Z"
    },
    "papermill": {
     "duration": 0.0501,
     "end_time": "2021-01-23T00:36:19.410030",
     "exception": false,
     "start_time": "2021-01-23T00:36:19.359930",
     "status": "completed"
    },
    "tags": []
   },
   "outputs": [
    {
     "data": {
      "text/plain": [
       "((10000, 28, 28), (10000,))"
      ]
     },
     "execution_count": 7,
     "metadata": {},
     "output_type": "execute_result"
    }
   ],
   "source": [
    "test_images.shape, test_labels.shape"
   ]
  },
  {
   "cell_type": "code",
   "execution_count": 8,
   "id": "innovative-organic",
   "metadata": {
    "execution": {
     "iopub.execute_input": "2021-01-23T00:36:19.483264Z",
     "iopub.status.busy": "2021-01-23T00:36:19.482663Z",
     "iopub.status.idle": "2021-01-23T00:36:19.630625Z",
     "shell.execute_reply": "2021-01-23T00:36:19.631796Z"
    },
    "papermill": {
     "duration": 0.183231,
     "end_time": "2021-01-23T00:36:19.632051",
     "exception": false,
     "start_time": "2021-01-23T00:36:19.448820",
     "status": "completed"
    },
    "tags": []
   },
   "outputs": [
    {
     "name": "stdout",
     "output_type": "stream",
     "text": [
      "2\n"
     ]
    },
    {
     "data": {
      "text/plain": [
       "<matplotlib.image.AxesImage at 0x7f179eeb5a20>"
      ]
     },
     "execution_count": 8,
     "metadata": {},
     "output_type": "execute_result"
    },
    {
     "data": {
      "image/png": "[encoded data removed]",
      "text/plain": [
       "<Figure size 432x288 with 1 Axes>"
      ]
     },
     "metadata": {
      "needs_background": "light"
     },
     "output_type": "display_data"
    }
   ],
   "source": [
    "image_index = 7776 # You may select anything up to 60,000\n",
    "print(train_labels[image_index]) \n",
    "plt.imshow(train_images[image_index], cmap='Greys')"
   ]
  },
  {
   "cell_type": "markdown",
   "id": "facial-modem",
   "metadata": {
    "papermill": {
     "duration": 0.03073,
     "end_time": "2021-01-23T00:36:19.693965",
     "exception": false,
     "start_time": "2021-01-23T00:36:19.663235",
     "status": "completed"
    },
    "tags": []
   },
   "source": [
    "## Filter data to get 3 and 8 out"
   ]
  },
  {
   "cell_type": "code",
   "execution_count": 9,
   "id": "thousand-acquisition",
   "metadata": {
    "execution": {
     "iopub.execute_input": "2021-01-23T00:36:19.760472Z",
     "iopub.status.busy": "2021-01-23T00:36:19.759871Z",
     "iopub.status.idle": "2021-01-23T00:36:19.785625Z",
     "shell.execute_reply": "2021-01-23T00:36:19.784948Z"
    },
    "papermill": {
     "duration": 0.061374,
     "end_time": "2021-01-23T00:36:19.785789",
     "exception": false,
     "start_time": "2021-01-23T00:36:19.724415",
     "status": "completed"
    },
    "tags": []
   },
   "outputs": [],
   "source": [
    "train_filter = np.where((train_labels == 3 ) | (train_labels == 8))\n",
    "test_filter = np.where((test_labels == 3) | (test_labels == 8))\n",
    "X_train, y_train = train_images[train_filter], train_labels[train_filter]\n",
    "X_test, y_test = test_images[test_filter], test_labels[test_filter]"
   ]
  },
  {
   "cell_type": "markdown",
   "id": "ruled-access",
   "metadata": {
    "papermill": {
     "duration": 0.030851,
     "end_time": "2021-01-23T00:36:19.849488",
     "exception": false,
     "start_time": "2021-01-23T00:36:19.818637",
     "status": "completed"
    },
    "tags": []
   },
   "source": [
    "We normalize the pixel values in the 0 to 1 range"
   ]
  },
  {
   "cell_type": "code",
   "execution_count": 10,
   "id": "isolated-denver",
   "metadata": {
    "execution": {
     "iopub.execute_input": "2021-01-23T00:36:19.914920Z",
     "iopub.status.busy": "2021-01-23T00:36:19.914319Z",
     "iopub.status.idle": "2021-01-23T00:36:19.966306Z",
     "shell.execute_reply": "2021-01-23T00:36:19.966768Z"
    },
    "papermill": {
     "duration": 0.086727,
     "end_time": "2021-01-23T00:36:19.966930",
     "exception": false,
     "start_time": "2021-01-23T00:36:19.880203",
     "status": "completed"
    },
    "tags": []
   },
   "outputs": [],
   "source": [
    "X_train = X_train/255.\n",
    "X_test = X_test/255."
   ]
  },
  {
   "cell_type": "markdown",
   "id": "perfect-summary",
   "metadata": {
    "papermill": {
     "duration": 0.030466,
     "end_time": "2021-01-23T00:36:20.028118",
     "exception": false,
     "start_time": "2021-01-23T00:36:19.997652",
     "status": "completed"
    },
    "tags": []
   },
   "source": [
    "Setup the labels as 1 (when the digit is 3) and 0 (when the digit is 8)"
   ]
  },
  {
   "cell_type": "code",
   "execution_count": 11,
   "id": "personalized-growing",
   "metadata": {
    "execution": {
     "iopub.execute_input": "2021-01-23T00:36:20.093590Z",
     "iopub.status.busy": "2021-01-23T00:36:20.092947Z",
     "iopub.status.idle": "2021-01-23T00:36:20.105154Z",
     "shell.execute_reply": "2021-01-23T00:36:20.105641Z"
    },
    "papermill": {
     "duration": 0.046928,
     "end_time": "2021-01-23T00:36:20.105789",
     "exception": false,
     "start_time": "2021-01-23T00:36:20.058861",
     "status": "completed"
    },
    "tags": []
   },
   "outputs": [],
   "source": [
    "y_train = 1*(y_train==3)\n",
    "y_test = 1*(y_test==3)"
   ]
  },
  {
   "cell_type": "code",
   "execution_count": 12,
   "id": "considered-virgin",
   "metadata": {
    "execution": {
     "iopub.execute_input": "2021-01-23T00:36:20.171443Z",
     "iopub.status.busy": "2021-01-23T00:36:20.170861Z",
     "iopub.status.idle": "2021-01-23T00:36:20.185369Z",
     "shell.execute_reply": "2021-01-23T00:36:20.184836Z"
    },
    "papermill": {
     "duration": 0.04894,
     "end_time": "2021-01-23T00:36:20.185503",
     "exception": false,
     "start_time": "2021-01-23T00:36:20.136563",
     "status": "completed"
    },
    "tags": []
   },
   "outputs": [
    {
     "data": {
      "text/plain": [
       "((11982, 28, 28), (1984, 28, 28))"
      ]
     },
     "execution_count": 12,
     "metadata": {},
     "output_type": "execute_result"
    }
   ],
   "source": [
    "X_train.shape, X_test.shape"
   ]
  },
  {
   "cell_type": "markdown",
   "id": "civilian-mobile",
   "metadata": {
    "papermill": {
     "duration": 0.031389,
     "end_time": "2021-01-23T00:36:20.247760",
     "exception": false,
     "start_time": "2021-01-23T00:36:20.216371",
     "status": "completed"
    },
    "tags": []
   },
   "source": [
    "### Reshape the input data to create a linear array"
   ]
  },
  {
   "cell_type": "code",
   "execution_count": 13,
   "id": "colonial-adams",
   "metadata": {
    "execution": {
     "iopub.execute_input": "2021-01-23T00:36:20.315933Z",
     "iopub.status.busy": "2021-01-23T00:36:20.315348Z",
     "iopub.status.idle": "2021-01-23T00:36:20.332353Z",
     "shell.execute_reply": "2021-01-23T00:36:20.331862Z"
    },
    "papermill": {
     "duration": 0.053642,
     "end_time": "2021-01-23T00:36:20.332481",
     "exception": false,
     "start_time": "2021-01-23T00:36:20.278839",
     "status": "completed"
    },
    "tags": []
   },
   "outputs": [
    {
     "data": {
      "text/plain": [
       "((11982, 784), (1984, 784))"
      ]
     },
     "execution_count": 13,
     "metadata": {},
     "output_type": "execute_result"
    }
   ],
   "source": [
    "X_train = X_train.reshape(X_train.shape[0], -1)\n",
    "X_test = X_test.reshape(X_test.shape[0], -1)\n",
    "X_train.shape, X_test.shape"
   ]
  },
  {
   "cell_type": "markdown",
   "id": "smart-details",
   "metadata": {
    "papermill": {
     "duration": 0.031231,
     "end_time": "2021-01-23T00:36:20.394953",
     "exception": false,
     "start_time": "2021-01-23T00:36:20.363722",
     "status": "completed"
    },
    "tags": []
   },
   "source": [
    "### Importing appropriate functions from 'Kudzu'"
   ]
  },
  {
   "cell_type": "code",
   "execution_count": 14,
   "id": "celtic-trial",
   "metadata": {
    "execution": {
     "iopub.execute_input": "2021-01-23T00:36:20.463999Z",
     "iopub.status.busy": "2021-01-23T00:36:20.463405Z",
     "iopub.status.idle": "2021-01-23T00:36:20.483970Z",
     "shell.execute_reply": "2021-01-23T00:36:20.483483Z"
    },
    "papermill": {
     "duration": 0.057692,
     "end_time": "2021-01-23T00:36:20.484105",
     "exception": false,
     "start_time": "2021-01-23T00:36:20.426413",
     "status": "completed"
    },
    "tags": []
   },
   "outputs": [],
   "source": [
    "from kudzu.layer import Sigmoid\n",
    "from kudzu.layer import Relu\n",
    "from kudzu.layer import Affine, Sigmoid\n",
    "\n",
    "from kudzu.model import Model\n",
    "from kudzu.train import Learner\n",
    "from kudzu.optim import GD\n",
    "from kudzu.data import Data, Dataloader, Sampler\n",
    "\n",
    "from kudzu.callbacks import AccCallback\n",
    "from kudzu.callbacks import ClfCallback\n",
    "\n",
    "from kudzu.loss import MSE"
   ]
  },
  {
   "cell_type": "markdown",
   "id": "coupled-customer",
   "metadata": {
    "papermill": {
     "duration": 0.031155,
     "end_time": "2021-01-23T00:36:20.546609",
     "exception": false,
     "start_time": "2021-01-23T00:36:20.515454",
     "status": "completed"
    },
    "tags": []
   },
   "source": [
    "### Let us create a `Config` class, to store important parameters. \n",
    "This class essentially plays the role of a dictionary."
   ]
  },
  {
   "cell_type": "code",
   "execution_count": 15,
   "id": "young-ceiling",
   "metadata": {
    "execution": {
     "iopub.execute_input": "2021-01-23T00:36:20.616815Z",
     "iopub.status.busy": "2021-01-23T00:36:20.616166Z",
     "iopub.status.idle": "2021-01-23T00:36:20.628758Z",
     "shell.execute_reply": "2021-01-23T00:36:20.629273Z"
    },
    "papermill": {
     "duration": 0.051383,
     "end_time": "2021-01-23T00:36:20.629431",
     "exception": false,
     "start_time": "2021-01-23T00:36:20.578048",
     "status": "completed"
    },
    "tags": []
   },
   "outputs": [],
   "source": [
    "class Config:\n",
    "    pass\n",
    "config = Config()\n",
    "config.lr = 0.001\n",
    "config.num_epochs = 251\n",
    "config.bs = 50"
   ]
  },
  {
   "cell_type": "markdown",
   "id": "according-mandate",
   "metadata": {
    "papermill": {
     "duration": 0.03146,
     "end_time": "2021-01-23T00:36:20.692219",
     "exception": false,
     "start_time": "2021-01-23T00:36:20.660759",
     "status": "completed"
    },
    "tags": []
   },
   "source": [
    "### Initializing data to the variables"
   ]
  },
  {
   "cell_type": "code",
   "execution_count": 16,
   "id": "academic-disposition",
   "metadata": {
    "execution": {
     "iopub.execute_input": "2021-01-23T00:36:20.760312Z",
     "iopub.status.busy": "2021-01-23T00:36:20.759594Z",
     "iopub.status.idle": "2021-01-23T00:36:20.774445Z",
     "shell.execute_reply": "2021-01-23T00:36:20.773867Z"
    },
    "papermill": {
     "duration": 0.050779,
     "end_time": "2021-01-23T00:36:20.774573",
     "exception": false,
     "start_time": "2021-01-23T00:36:20.723794",
     "status": "completed"
    },
    "tags": []
   },
   "outputs": [],
   "source": [
    "data = Data(X_train, y_train.reshape(-1,1))\n",
    "sampler = Sampler(data, config.bs, shuffle=True)\n",
    "\n",
    "dl = Dataloader(data, sampler)\n",
    "\n",
    "opt = GD(config.lr)\n",
    "loss = MSE()"
   ]
  },
  {
   "cell_type": "code",
   "execution_count": 17,
   "id": "featured-commission",
   "metadata": {
    "execution": {
     "iopub.execute_input": "2021-01-23T00:36:20.841350Z",
     "iopub.status.busy": "2021-01-23T00:36:20.840732Z",
     "iopub.status.idle": "2021-01-23T00:36:20.854615Z",
     "shell.execute_reply": "2021-01-23T00:36:20.854139Z"
    },
    "papermill": {
     "duration": 0.048721,
     "end_time": "2021-01-23T00:36:20.854750",
     "exception": false,
     "start_time": "2021-01-23T00:36:20.806029",
     "status": "completed"
    },
    "tags": []
   },
   "outputs": [],
   "source": [
    "training_xdata = X_train\n",
    "testing_xdata = X_test\n",
    "training_ydata = y_train.reshape(-1,1)\n",
    "testing_ydata = y_test.reshape(-1,1)"
   ]
  },
  {
   "cell_type": "markdown",
   "id": "played-safety",
   "metadata": {
    "papermill": {
     "duration": 0.031261,
     "end_time": "2021-01-23T00:36:20.917414",
     "exception": false,
     "start_time": "2021-01-23T00:36:20.886153",
     "status": "completed"
    },
    "tags": []
   },
   "source": [
    "### Running Models with the Training data\n",
    "Details about the network layers:\n",
    "- A first affine layer has 784 inputs and does 100 affine transforms. These are followed by a Relu\n",
    "- A second affine layer has 100 inputs from the 100 activations of the past layer, and does 100 affine transforms. These are followed by a Relu\n",
    "- A third affine layer has 100 activations and does 2 affine transformations to create an embedding for visualization. There is no non-linearity here.\n",
    "- A final \"logistic regression\" which has an affine transform from 2 inputs to 1 output, which is squeezed through a sigmoid.\n",
    "\n",
    "Help taken from Anshuman's Notebook."
   ]
  },
  {
   "cell_type": "code",
   "execution_count": 18,
   "id": "asian-bankruptcy",
   "metadata": {
    "execution": {
     "iopub.execute_input": "2021-01-23T00:36:20.987511Z",
     "iopub.status.busy": "2021-01-23T00:36:20.986912Z",
     "iopub.status.idle": "2021-01-23T00:36:21.008373Z",
     "shell.execute_reply": "2021-01-23T00:36:21.009019Z"
    },
    "papermill": {
     "duration": 0.06053,
     "end_time": "2021-01-23T00:36:21.009243",
     "exception": false,
     "start_time": "2021-01-23T00:36:20.948713",
     "status": "completed"
    },
    "tags": []
   },
   "outputs": [],
   "source": [
    "# layers for the Neural Network\n",
    "layers = [Affine(\"first\", 784, 100), Relu(\"first\"), Affine(\"second\", 100, 100), Relu(\"second\"), Affine(\"third\", 100, 2), Affine(\"final\", 2, 1), Sigmoid(\"final\")]\n",
    "model_nn = Model(layers)\n",
    "\n",
    "# layers for the Logistic Regression\n",
    "layers_lr = [Affine(\"logits\", 784, 1), Sigmoid(\"sigmoid\")]\n",
    "model_lr = Model(layers_lr)"
   ]
  },
  {
   "cell_type": "code",
   "execution_count": 19,
   "id": "removed-butler",
   "metadata": {
    "execution": {
     "iopub.execute_input": "2021-01-23T00:36:21.078291Z",
     "iopub.status.busy": "2021-01-23T00:36:21.077685Z",
     "iopub.status.idle": "2021-01-23T00:36:21.092953Z",
     "shell.execute_reply": "2021-01-23T00:36:21.092442Z"
    },
    "papermill": {
     "duration": 0.05179,
     "end_time": "2021-01-23T00:36:21.093104",
     "exception": false,
     "start_time": "2021-01-23T00:36:21.041314",
     "status": "completed"
    },
    "tags": []
   },
   "outputs": [],
   "source": [
    "# suffix _nn stands for Neural Network.\n",
    "learner_nn = Learner(loss, model_nn, opt, config.num_epochs)\n",
    "acc_nn = ClfCallback(learner_nn, config.bs, training_xdata , testing_xdata, training_ydata, testing_ydata)\n",
    "learner_nn.set_callbacks([acc_nn])"
   ]
  },
  {
   "cell_type": "code",
   "execution_count": 20,
   "id": "conceptual-throw",
   "metadata": {
    "execution": {
     "iopub.execute_input": "2021-01-23T00:36:21.160183Z",
     "iopub.status.busy": "2021-01-23T00:36:21.159552Z",
     "iopub.status.idle": "2021-01-23T00:37:48.815142Z",
     "shell.execute_reply": "2021-01-23T00:37:48.815695Z"
    },
    "papermill": {
     "duration": 87.691447,
     "end_time": "2021-01-23T00:37:48.815850",
     "exception": false,
     "start_time": "2021-01-23T00:36:21.124403",
     "status": "completed"
    },
    "tags": []
   },
   "outputs": [
    {
     "name": "stdout",
     "output_type": "stream",
     "text": [
      "====== Neural Network ======\n"
     ]
    },
    {
     "name": "stdout",
     "output_type": "stream",
     "text": [
      "Epoch 0, Loss 0.25\n",
      "Training Accuracy: 0.5532, Testing Accuracy: 0.5565\n",
      "\n"
     ]
    },
    {
     "name": "stdout",
     "output_type": "stream",
     "text": [
      "Epoch 10, Loss 0.1423\n",
      "Training Accuracy: 0.8933, Testing Accuracy: 0.9002\n",
      "\n"
     ]
    },
    {
     "name": "stdout",
     "output_type": "stream",
     "text": [
      "Epoch 20, Loss 0.0763\n",
      "Training Accuracy: 0.9223, Testing Accuracy: 0.9315\n",
      "\n"
     ]
    },
    {
     "name": "stdout",
     "output_type": "stream",
     "text": [
      "Epoch 30, Loss 0.0542\n",
      "Training Accuracy: 0.9409, Testing Accuracy: 0.9536\n",
      "\n"
     ]
    },
    {
     "name": "stdout",
     "output_type": "stream",
     "text": [
      "Epoch 40, Loss 0.0437\n",
      "Training Accuracy: 0.9516, Testing Accuracy: 0.9602\n",
      "\n"
     ]
    },
    {
     "name": "stdout",
     "output_type": "stream",
     "text": [
      "Epoch 50, Loss 0.0379\n",
      "Training Accuracy: 0.9574, Testing Accuracy: 0.9632\n",
      "\n"
     ]
    },
    {
     "name": "stdout",
     "output_type": "stream",
     "text": [
      "Epoch 60, Loss 0.0344\n",
      "Training Accuracy: 0.9603, Testing Accuracy: 0.9652\n",
      "\n"
     ]
    },
    {
     "name": "stdout",
     "output_type": "stream",
     "text": [
      "Epoch 70, Loss 0.032\n",
      "Training Accuracy: 0.9629, Testing Accuracy: 0.9667\n",
      "\n"
     ]
    },
    {
     "name": "stdout",
     "output_type": "stream",
     "text": [
      "Epoch 80, Loss 0.0302\n",
      "Training Accuracy: 0.9642, Testing Accuracy: 0.9698\n",
      "\n"
     ]
    },
    {
     "name": "stdout",
     "output_type": "stream",
     "text": [
      "Epoch 90, Loss 0.0288\n",
      "Training Accuracy: 0.9655, Testing Accuracy: 0.9693\n",
      "\n"
     ]
    },
    {
     "name": "stdout",
     "output_type": "stream",
     "text": [
      "Epoch 100, Loss 0.0276\n",
      "Training Accuracy: 0.9669, Testing Accuracy: 0.9693\n",
      "\n"
     ]
    },
    {
     "name": "stdout",
     "output_type": "stream",
     "text": [
      "Epoch 110, Loss 0.0267\n",
      "Training Accuracy: 0.9695, Testing Accuracy: 0.9698\n",
      "\n"
     ]
    },
    {
     "name": "stdout",
     "output_type": "stream",
     "text": [
      "Epoch 120, Loss 0.0259\n",
      "Training Accuracy: 0.9705, Testing Accuracy: 0.9708\n",
      "\n"
     ]
    },
    {
     "name": "stdout",
     "output_type": "stream",
     "text": [
      "Epoch 130, Loss 0.0251\n",
      "Training Accuracy: 0.9713, Testing Accuracy: 0.9728\n",
      "\n"
     ]
    },
    {
     "name": "stdout",
     "output_type": "stream",
     "text": [
      "Epoch 140, Loss 0.0245\n",
      "Training Accuracy: 0.9723, Testing Accuracy: 0.9743\n",
      "\n"
     ]
    },
    {
     "name": "stdout",
     "output_type": "stream",
     "text": [
      "Epoch 150, Loss 0.0239\n",
      "Training Accuracy: 0.9732, Testing Accuracy: 0.9738\n",
      "\n"
     ]
    },
    {
     "name": "stdout",
     "output_type": "stream",
     "text": [
      "Epoch 160, Loss 0.0233\n",
      "Training Accuracy: 0.9735, Testing Accuracy: 0.9733\n",
      "\n"
     ]
    },
    {
     "name": "stdout",
     "output_type": "stream",
     "text": [
      "Epoch 170, Loss 0.0228\n",
      "Training Accuracy: 0.9740, Testing Accuracy: 0.9733\n",
      "\n"
     ]
    },
    {
     "name": "stdout",
     "output_type": "stream",
     "text": [
      "Epoch 180, Loss 0.0224\n",
      "Training Accuracy: 0.9744, Testing Accuracy: 0.9733\n",
      "\n"
     ]
    },
    {
     "name": "stdout",
     "output_type": "stream",
     "text": [
      "Epoch 190, Loss 0.0219\n",
      "Training Accuracy: 0.9749, Testing Accuracy: 0.9738\n",
      "\n"
     ]
    },
    {
     "name": "stdout",
     "output_type": "stream",
     "text": [
      "Epoch 200, Loss 0.0215\n",
      "Training Accuracy: 0.9751, Testing Accuracy: 0.9748\n",
      "\n"
     ]
    },
    {
     "name": "stdout",
     "output_type": "stream",
     "text": [
      "Epoch 210, Loss 0.0212\n",
      "Training Accuracy: 0.9757, Testing Accuracy: 0.9753\n",
      "\n"
     ]
    },
    {
     "name": "stdout",
     "output_type": "stream",
     "text": [
      "Epoch 220, Loss 0.0208\n",
      "Training Accuracy: 0.9765, Testing Accuracy: 0.9758\n",
      "\n"
     ]
    },
    {
     "name": "stdout",
     "output_type": "stream",
     "text": [
      "Epoch 230, Loss 0.0204\n",
      "Training Accuracy: 0.9770, Testing Accuracy: 0.9753\n",
      "\n"
     ]
    },
    {
     "name": "stdout",
     "output_type": "stream",
     "text": [
      "Epoch 240, Loss 0.0201\n",
      "Training Accuracy: 0.9774, Testing Accuracy: 0.9758\n",
      "\n"
     ]
    },
    {
     "name": "stdout",
     "output_type": "stream",
     "text": [
      "Epoch 250, Loss 0.0198\n",
      "Training Accuracy: 0.9781, Testing Accuracy: 0.9763\n",
      "\n"
     ]
    },
    {
     "data": {
      "text/plain": [
       "0.01726783958730438"
      ]
     },
     "execution_count": 20,
     "metadata": {},
     "output_type": "execute_result"
    }
   ],
   "source": [
    "print(\"====== Neural Network ======\")\n",
    "learner_nn.train_loop(dl)"
   ]
  },
  {
   "cell_type": "markdown",
   "id": "competent-suffering",
   "metadata": {
    "papermill": {
     "duration": 0.038949,
     "end_time": "2021-01-23T00:37:48.895324",
     "exception": false,
     "start_time": "2021-01-23T00:37:48.856375",
     "status": "completed"
    },
    "tags": []
   },
   "source": [
    "### Logistic Regression based Implementation."
   ]
  },
  {
   "cell_type": "code",
   "execution_count": 21,
   "id": "qualified-psychiatry",
   "metadata": {
    "execution": {
     "iopub.execute_input": "2021-01-23T00:37:48.978425Z",
     "iopub.status.busy": "2021-01-23T00:37:48.977827Z",
     "iopub.status.idle": "2021-01-23T00:37:48.990483Z",
     "shell.execute_reply": "2021-01-23T00:37:48.990002Z"
    },
    "papermill": {
     "duration": 0.056395,
     "end_time": "2021-01-23T00:37:48.990616",
     "exception": false,
     "start_time": "2021-01-23T00:37:48.934221",
     "status": "completed"
    },
    "tags": []
   },
   "outputs": [],
   "source": [
    "learner_lr = Learner(loss, model_lr, opt, config.num_epochs)\n",
    "acc_lr = ClfCallback(learner_lr, config.bs, training_xdata , testing_xdata, training_ydata, testing_ydata)\n",
    "learner_lr.set_callbacks([acc_lr])"
   ]
  },
  {
   "cell_type": "code",
   "execution_count": 22,
   "id": "average-outside",
   "metadata": {
    "execution": {
     "iopub.execute_input": "2021-01-23T00:37:49.073408Z",
     "iopub.status.busy": "2021-01-23T00:37:49.072763Z",
     "iopub.status.idle": "2021-01-23T00:38:04.571861Z",
     "shell.execute_reply": "2021-01-23T00:38:04.572694Z"
    },
    "papermill": {
     "duration": 15.542773,
     "end_time": "2021-01-23T00:38:04.572854",
     "exception": false,
     "start_time": "2021-01-23T00:37:49.030081",
     "status": "completed"
    },
    "tags": []
   },
   "outputs": [
    {
     "name": "stdout",
     "output_type": "stream",
     "text": [
      "====== Logistic Regression ======\n",
      "Epoch 0, Loss 0.2621\n",
      "Training Accuracy: 0.6044, Testing Accuracy: 0.6013\n",
      "\n"
     ]
    },
    {
     "name": "stdout",
     "output_type": "stream",
     "text": [
      "Epoch 10, Loss 0.1054\n",
      "Training Accuracy: 0.9052, Testing Accuracy: 0.9068\n",
      "\n"
     ]
    },
    {
     "name": "stdout",
     "output_type": "stream",
     "text": [
      "Epoch 20, Loss 0.0801\n",
      "Training Accuracy: 0.9254, Testing Accuracy: 0.9289\n",
      "\n"
     ]
    },
    {
     "name": "stdout",
     "output_type": "stream",
     "text": [
      "Epoch 30, Loss 0.0687\n",
      "Training Accuracy: 0.9361, Testing Accuracy: 0.9430\n",
      "\n"
     ]
    },
    {
     "name": "stdout",
     "output_type": "stream",
     "text": [
      "Epoch 40, Loss 0.0619\n",
      "Training Accuracy: 0.9412, Testing Accuracy: 0.9506\n",
      "\n"
     ]
    },
    {
     "name": "stdout",
     "output_type": "stream",
     "text": [
      "Epoch 50, Loss 0.0573\n",
      "Training Accuracy: 0.9448, Testing Accuracy: 0.9526\n",
      "\n"
     ]
    },
    {
     "name": "stdout",
     "output_type": "stream",
     "text": [
      "Epoch 60, Loss 0.0539\n",
      "Training Accuracy: 0.9465, Testing Accuracy: 0.9556\n",
      "\n"
     ]
    },
    {
     "name": "stdout",
     "output_type": "stream",
     "text": [
      "Epoch 70, Loss 0.0513\n",
      "Training Accuracy: 0.9483, Testing Accuracy: 0.9587\n",
      "\n"
     ]
    },
    {
     "name": "stdout",
     "output_type": "stream",
     "text": [
      "Epoch 80, Loss 0.0493\n",
      "Training Accuracy: 0.9490, Testing Accuracy: 0.9607\n",
      "\n"
     ]
    },
    {
     "name": "stdout",
     "output_type": "stream",
     "text": [
      "Epoch 90, Loss 0.0476\n",
      "Training Accuracy: 0.9507, Testing Accuracy: 0.9607\n",
      "\n"
     ]
    },
    {
     "name": "stdout",
     "output_type": "stream",
     "text": [
      "Epoch 100, Loss 0.0461\n",
      "Training Accuracy: 0.9520, Testing Accuracy: 0.9612\n",
      "\n"
     ]
    },
    {
     "name": "stdout",
     "output_type": "stream",
     "text": [
      "Epoch 110, Loss 0.0449\n",
      "Training Accuracy: 0.9532, Testing Accuracy: 0.9617\n",
      "\n"
     ]
    },
    {
     "name": "stdout",
     "output_type": "stream",
     "text": [
      "Epoch 120, Loss 0.0438\n",
      "Training Accuracy: 0.9544, Testing Accuracy: 0.9632\n",
      "\n"
     ]
    },
    {
     "name": "stdout",
     "output_type": "stream",
     "text": [
      "Epoch 130, Loss 0.0429\n",
      "Training Accuracy: 0.9558, Testing Accuracy: 0.9632\n",
      "\n"
     ]
    },
    {
     "name": "stdout",
     "output_type": "stream",
     "text": [
      "Epoch 140, Loss 0.0421\n",
      "Training Accuracy: 0.9566, Testing Accuracy: 0.9632\n",
      "\n"
     ]
    },
    {
     "name": "stdout",
     "output_type": "stream",
     "text": [
      "Epoch 150, Loss 0.0413\n",
      "Training Accuracy: 0.9569, Testing Accuracy: 0.9632\n",
      "\n"
     ]
    },
    {
     "name": "stdout",
     "output_type": "stream",
     "text": [
      "Epoch 160, Loss 0.0407\n",
      "Training Accuracy: 0.9572, Testing Accuracy: 0.9637\n",
      "\n"
     ]
    },
    {
     "name": "stdout",
     "output_type": "stream",
     "text": [
      "Epoch 170, Loss 0.0401\n",
      "Training Accuracy: 0.9575, Testing Accuracy: 0.9637\n",
      "\n"
     ]
    },
    {
     "name": "stdout",
     "output_type": "stream",
     "text": [
      "Epoch 180, Loss 0.0395\n",
      "Training Accuracy: 0.9584, Testing Accuracy: 0.9652\n",
      "\n"
     ]
    },
    {
     "name": "stdout",
     "output_type": "stream",
     "text": [
      "Epoch 190, Loss 0.039\n",
      "Training Accuracy: 0.9589, Testing Accuracy: 0.9657\n",
      "\n"
     ]
    },
    {
     "name": "stdout",
     "output_type": "stream",
     "text": [
      "Epoch 200, Loss 0.0385\n",
      "Training Accuracy: 0.9593, Testing Accuracy: 0.9657\n",
      "\n"
     ]
    },
    {
     "name": "stdout",
     "output_type": "stream",
     "text": [
      "Epoch 210, Loss 0.0381\n",
      "Training Accuracy: 0.9597, Testing Accuracy: 0.9657\n",
      "\n"
     ]
    },
    {
     "name": "stdout",
     "output_type": "stream",
     "text": [
      "Epoch 220, Loss 0.0376\n",
      "Training Accuracy: 0.9603, Testing Accuracy: 0.9652\n",
      "\n"
     ]
    },
    {
     "name": "stdout",
     "output_type": "stream",
     "text": [
      "Epoch 230, Loss 0.0373\n",
      "Training Accuracy: 0.9604, Testing Accuracy: 0.9652\n",
      "\n"
     ]
    },
    {
     "name": "stdout",
     "output_type": "stream",
     "text": [
      "Epoch 240, Loss 0.0369\n",
      "Training Accuracy: 0.9608, Testing Accuracy: 0.9652\n",
      "\n"
     ]
    },
    {
     "name": "stdout",
     "output_type": "stream",
     "text": [
      "Epoch 250, Loss 0.0366\n",
      "Training Accuracy: 0.9609, Testing Accuracy: 0.9662\n",
      "\n"
     ]
    },
    {
     "data": {
      "text/plain": [
       "0.03298601154642914"
      ]
     },
     "execution_count": 22,
     "metadata": {},
     "output_type": "execute_result"
    }
   ],
   "source": [
    "print(\"====== Logistic Regression ======\")\n",
    "learner_lr.train_loop(dl)"
   ]
  },
  {
   "cell_type": "markdown",
   "id": "adjusted-possible",
   "metadata": {
    "papermill": {
     "duration": 0.0488,
     "end_time": "2021-01-23T00:38:04.669959",
     "exception": false,
     "start_time": "2021-01-23T00:38:04.621159",
     "status": "completed"
    },
    "tags": []
   },
   "source": [
    "### Comparing results of NN and LR"
   ]
  },
  {
   "cell_type": "code",
   "execution_count": 23,
   "id": "mental-multimedia",
   "metadata": {
    "execution": {
     "iopub.execute_input": "2021-01-23T00:38:04.771139Z",
     "iopub.status.busy": "2021-01-23T00:38:04.770197Z",
     "iopub.status.idle": "2021-01-23T00:38:05.010832Z",
     "shell.execute_reply": "2021-01-23T00:38:05.010342Z"
    },
    "papermill": {
     "duration": 0.293163,
     "end_time": "2021-01-23T00:38:05.010967",
     "exception": false,
     "start_time": "2021-01-23T00:38:04.717804",
     "status": "completed"
    },
    "tags": []
   },
   "outputs": [
    {
     "data": {
      "text/plain": [
       "<matplotlib.legend.Legend at 0x7f1796a1a390>"
      ]
     },
     "execution_count": 23,
     "metadata": {},
     "output_type": "execute_result"
    },
    {
     "data": {
      "image/png": "[encoded data removed]",
      "text/plain": [
       "<Figure size 1080x720 with 1 Axes>"
      ]
     },
     "metadata": {
      "needs_background": "light"
     },
     "output_type": "display_data"
    }
   ],
   "source": [
    "plt.figure(figsize=(15,10))\n",
    "\n",
    "# Neural Network plots\n",
    "plt.plot(acc_nn.accuracies, 'r-', label = \"Training Accuracies - NN\")\n",
    "plt.plot(acc_nn.test_accuracies, 'g-', label = \"Testing Accuracies - NN\")\n",
    "\n",
    "# Logistic Regression plots\n",
    "plt.plot(acc_lr.accuracies, 'k-', label = \"Training Accuracies - LR\")\n",
    "plt.plot(acc_lr.test_accuracies, 'b-', label = \"Testing Accuracies - LR\")\n",
    "\n",
    "plt.ylim(0.8, 1)\n",
    "\n",
    "plt.legend()\n",
    "\n"
   ]
  },
  {
   "cell_type": "markdown",
   "id": "sexual-flesh",
   "metadata": {
    "papermill": {
     "duration": 0.04867,
     "end_time": "2021-01-23T00:38:05.108819",
     "exception": false,
     "start_time": "2021-01-23T00:38:05.060149",
     "status": "completed"
    },
    "tags": []
   },
   "source": [
    "### From the plot, we can observe the following:\n",
    "- Neural Network achieves higher accuracy than the Logistic Regression model.\n",
    "- This apparently, is because of overfitting, i.e. NN captures more noise than data.\n",
    "- Testing accuracy of NN drops below the Training accuracy at higher epochs. This explains the over-fitting on training data.\n",
    "- Logistic Regression gives a reliable accuracy, without the above mentioned problem.\n"
   ]
  },
  {
   "cell_type": "markdown",
   "id": "institutional-pacific",
   "metadata": {
    "papermill": {
     "duration": 0.048866,
     "end_time": "2021-01-23T00:38:05.206385",
     "exception": false,
     "start_time": "2021-01-23T00:38:05.157519",
     "status": "completed"
    },
    "tags": []
   },
   "source": [
    "### Moving till the last but one layer (excluding it).\n",
    "#### Plotting the outputs of this layer of the NN."
   ]
  },
  {
   "cell_type": "code",
   "execution_count": 24,
   "id": "economic-server",
   "metadata": {
    "execution": {
     "iopub.execute_input": "2021-01-23T00:38:05.309911Z",
     "iopub.status.busy": "2021-01-23T00:38:05.309306Z",
     "iopub.status.idle": "2021-01-23T00:38:05.327479Z",
     "shell.execute_reply": "2021-01-23T00:38:05.326979Z"
    },
    "papermill": {
     "duration": 0.071884,
     "end_time": "2021-01-23T00:38:05.327614",
     "exception": false,
     "start_time": "2021-01-23T00:38:05.255730",
     "status": "completed"
    },
    "tags": []
   },
   "outputs": [],
   "source": [
    "model_new = Model(layers[:-2])"
   ]
  },
  {
   "cell_type": "code",
   "execution_count": 25,
   "id": "varied-upgrade",
   "metadata": {
    "execution": {
     "iopub.execute_input": "2021-01-23T00:38:05.430680Z",
     "iopub.status.busy": "2021-01-23T00:38:05.430103Z",
     "iopub.status.idle": "2021-01-23T00:38:05.450513Z",
     "shell.execute_reply": "2021-01-23T00:38:05.451026Z"
    },
    "papermill": {
     "duration": 0.074134,
     "end_time": "2021-01-23T00:38:05.451179",
     "exception": false,
     "start_time": "2021-01-23T00:38:05.377045",
     "status": "completed"
    },
    "tags": []
   },
   "outputs": [],
   "source": [
    "plot_testing = model_new(testing_xdata)"
   ]
  },
  {
   "cell_type": "code",
   "execution_count": 26,
   "id": "specific-handling",
   "metadata": {
    "execution": {
     "iopub.execute_input": "2021-01-23T00:38:05.562783Z",
     "iopub.status.busy": "2021-01-23T00:38:05.562186Z",
     "iopub.status.idle": "2021-01-23T00:38:05.757488Z",
     "shell.execute_reply": "2021-01-23T00:38:05.756945Z"
    },
    "papermill": {
     "duration": 0.254514,
     "end_time": "2021-01-23T00:38:05.757629",
     "exception": false,
     "start_time": "2021-01-23T00:38:05.503115",
     "status": "completed"
    },
    "tags": []
   },
   "outputs": [
    {
     "data": {
      "text/plain": [
       "Text(0.5, 1.0, 'Outputs')"
      ]
     },
     "execution_count": 26,
     "metadata": {},
     "output_type": "execute_result"
    },
    {
     "data": {
      "image/png": "[encoded data removed]",
      "text/plain": [
       "<Figure size 576x504 with 1 Axes>"
      ]
     },
     "metadata": {
      "needs_background": "light"
     },
     "output_type": "display_data"
    }
   ],
   "source": [
    "plt.figure(figsize=(8,7))\n",
    "plt.scatter(plot_testing[:,0], plot_testing[:,1], alpha = 0.1, c = y_test.ravel());\n",
    "plt.title('Outputs')"
   ]
  },
  {
   "cell_type": "markdown",
   "id": "described-knowing",
   "metadata": {
    "papermill": {
     "duration": 0.052847,
     "end_time": "2021-01-23T00:38:05.862558",
     "exception": false,
     "start_time": "2021-01-23T00:38:05.809711",
     "status": "completed"
    },
    "tags": []
   },
   "source": [
    "### Plotting probability contours"
   ]
  },
  {
   "cell_type": "code",
   "execution_count": 27,
   "id": "needed-growing",
   "metadata": {
    "execution": {
     "iopub.execute_input": "2021-01-23T00:38:05.971645Z",
     "iopub.status.busy": "2021-01-23T00:38:05.971063Z",
     "iopub.status.idle": "2021-01-23T00:38:05.986341Z",
     "shell.execute_reply": "2021-01-23T00:38:05.985836Z"
    },
    "papermill": {
     "duration": 0.072365,
     "end_time": "2021-01-23T00:38:05.986474",
     "exception": false,
     "start_time": "2021-01-23T00:38:05.914109",
     "status": "completed"
    },
    "tags": []
   },
   "outputs": [],
   "source": [
    "model_prob = Model(layers[-2:]) "
   ]
  },
  {
   "cell_type": "code",
   "execution_count": 28,
   "id": "introductory-enforcement",
   "metadata": {
    "execution": {
     "iopub.execute_input": "2021-01-23T00:38:06.096861Z",
     "iopub.status.busy": "2021-01-23T00:38:06.096255Z",
     "iopub.status.idle": "2021-01-23T00:38:06.111481Z",
     "shell.execute_reply": "2021-01-23T00:38:06.111959Z"
    },
    "papermill": {
     "duration": 0.073435,
     "end_time": "2021-01-23T00:38:06.112115",
     "exception": false,
     "start_time": "2021-01-23T00:38:06.038680",
     "status": "completed"
    },
    "tags": []
   },
   "outputs": [],
   "source": [
    "# Adjust the x and y ranges according to the above generated plot.\n",
    "x_range = np.linspace(-4, 1, 100) \n",
    "y_range = np.linspace(-6, 6, 100) \n",
    "x_grid, y_grid = np.meshgrid(x_range, y_range) # x_grid and y_grig are of size 100 X 100\n",
    "\n",
    "# converting x_grid and y_grid to continuous arrays\n",
    "x_grid_flat = np.ravel(x_grid)\n",
    "y_grid_flat = np.ravel(y_grid)\n",
    "\n",
    "# The last layer of the current model takes two columns as input. Hence transpose of np.vstack() is required.\n",
    "X = np.vstack((x_grid_flat, y_grid_flat)).T\n",
    "\n",
    "# x_grid and y_grid are of size 100 x 100\n",
    "probability_contour = model_prob(X).reshape(100,100) "
   ]
  },
  {
   "cell_type": "code",
   "execution_count": 29,
   "id": "understood-landing",
   "metadata": {
    "execution": {
     "iopub.execute_input": "2021-01-23T00:38:06.250558Z",
     "iopub.status.busy": "2021-01-23T00:38:06.249946Z",
     "iopub.status.idle": "2021-01-23T00:38:06.507834Z",
     "shell.execute_reply": "2021-01-23T00:38:06.508310Z"
    },
    "papermill": {
     "duration": 0.315764,
     "end_time": "2021-01-23T00:38:06.508479",
     "exception": false,
     "start_time": "2021-01-23T00:38:06.192715",
     "status": "completed"
    },
    "tags": []
   },
   "outputs": [
    {
     "data": {
      "image/png": "[encoded data removed]",
      "text/plain": [
       "<Figure size 720x648 with 1 Axes>"
      ]
     },
     "metadata": {
      "needs_background": "light"
     },
     "output_type": "display_data"
    }
   ],
   "source": [
    "plt.figure(figsize=(10,9))\n",
    "plt.scatter(plot_testing[:,0], plot_testing[:,1], alpha = 0.1, c = y_test.ravel())\n",
    "contours = plt.contour(x_grid,y_grid,probability_contour)\n",
    "plt.title('Probability Contours')\n",
    "plt.clabel(contours, inline = True );"
   ]
  }
 ],
 "metadata": {
  "kernelspec": {
   "display_name": "Python 3",
   "language": "python",
   "name": "python3"
  },
  "language_info": {
   "codemirror_mode": {
    "name": "ipython",
    "version": 3
   },
   "file_extension": ".py",
   "mimetype": "text/x-python",
   "name": "python",
   "nbconvert_exporter": "python",
   "pygments_lexer": "ipython3",
   "version": "3.6.12"
  },
  "papermill": {
   "duration": 113.087536,
   "end_time": "2021-01-23T00:38:06.971058",
   "environment_variables": {},
   "exception": null,
   "input_path": "2020-08-11-NeuralNetwork.ipynb",
   "output_path": "2020-08-11-NeuralNetwork.ipynb",
   "parameters": {},
   "start_time": "2021-01-23T00:36:13.883522",
   "version": "2.1.2"
  }
 },
 "nbformat": 4,
 "nbformat_minor": 5
}