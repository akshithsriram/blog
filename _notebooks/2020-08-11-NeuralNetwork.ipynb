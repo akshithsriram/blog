{
 "cells": [
  {
   "cell_type": "markdown",
   "metadata": {
    "papermill": {
     "duration": 0.034782,
     "end_time": "2020-09-29T00:07:09.315679",
     "exception": false,
     "start_time": "2020-09-29T00:07:09.280897",
     "status": "completed"
    },
    "tags": []
   },
   "source": [
    "# \"A Basic Neural Network: Differentiate Hand-Written Digits\"\n",
    "\n",
    "- badges: true\n",
    "- author: Akshith Sriram"
   ]
  },
  {
   "cell_type": "markdown",
   "metadata": {
    "papermill": {
     "duration": 0.030081,
     "end_time": "2020-09-29T00:07:09.373687",
     "exception": false,
     "start_time": "2020-09-29T00:07:09.343606",
     "status": "completed"
    },
    "tags": []
   },
   "source": [
    "### Key Objectives:\n",
    "- Building a neural network that differentiates two hand-written digits 3 and 8.\n",
    "- Comparing the results of this Neural Network (NN) to that of a Logistic Regression (LR) model.\n",
    "\n",
    "### Requirements:\n",
    "- 'Kudzu' : A neural network library that was designed during our course by [Univ.AI](www.univ.ai). \n",
    "- MNIST Database\n",
    "\n",
    "If MNIST is not installed, use the command `!pip install mnist` given below.\n",
    "It can be run both from the command line and Jupyter Notebook."
   ]
  },
  {
   "cell_type": "code",
   "execution_count": 1,
   "metadata": {
    "execution": {
     "iopub.execute_input": "2020-09-29T00:07:09.443605Z",
     "iopub.status.busy": "2020-09-29T00:07:09.442894Z",
     "iopub.status.idle": "2020-09-29T00:07:11.086110Z",
     "shell.execute_reply": "2020-09-29T00:07:11.086606Z"
    },
    "papermill": {
     "duration": 1.678135,
     "end_time": "2020-09-29T00:07:11.086804",
     "exception": false,
     "start_time": "2020-09-29T00:07:09.408669",
     "status": "completed"
    },
    "tags": []
   },
   "outputs": [
    {
     "name": "stdout",
     "output_type": "stream",
     "text": [
      "Collecting mnist\r\n"
     ]
    },
    {
     "name": "stdout",
     "output_type": "stream",
     "text": [
      "  Downloading mnist-0.2.2-py2.py3-none-any.whl (3.5 kB)\r\n",
      "Requirement already satisfied: numpy in /opt/hostedtoolcache/Python/3.6.12/x64/lib/python3.6/site-packages (from mnist) (1.19.2)\r\n"
     ]
    },
    {
     "name": "stdout",
     "output_type": "stream",
     "text": [
      "Installing collected packages: mnist\r\n"
     ]
    },
    {
     "name": "stdout",
     "output_type": "stream",
     "text": [
      "Successfully installed mnist-0.2.2\r\n"
     ]
    }
   ],
   "source": [
    "!pip install mnist "
   ]
  },
  {
   "cell_type": "markdown",
   "metadata": {
    "papermill": {
     "duration": 0.027694,
     "end_time": "2020-09-29T00:07:11.144016",
     "exception": false,
     "start_time": "2020-09-29T00:07:11.116322",
     "status": "completed"
    },
    "tags": []
   },
   "source": [
    "#### Importing necessary libraries"
   ]
  },
  {
   "cell_type": "code",
   "execution_count": 2,
   "metadata": {
    "execution": {
     "iopub.execute_input": "2020-09-29T00:07:11.206454Z",
     "iopub.status.busy": "2020-09-29T00:07:11.205816Z",
     "iopub.status.idle": "2020-09-29T00:07:11.822712Z",
     "shell.execute_reply": "2020-09-29T00:07:11.822189Z"
    },
    "papermill": {
     "duration": 0.651535,
     "end_time": "2020-09-29T00:07:11.822875",
     "exception": false,
     "start_time": "2020-09-29T00:07:11.171340",
     "status": "completed"
    },
    "tags": []
   },
   "outputs": [],
   "source": [
    "%load_ext autoreload\n",
    "%autoreload 2\n",
    "\n",
    "%matplotlib inline\n",
    "import matplotlib.pyplot as plt\n",
    "\n",
    "import numpy as np\n",
    "import pandas as pd"
   ]
  },
  {
   "cell_type": "markdown",
   "metadata": {
    "papermill": {
     "duration": 0.027078,
     "end_time": "2020-09-29T00:07:11.880123",
     "exception": false,
     "start_time": "2020-09-29T00:07:11.853045",
     "status": "completed"
    },
    "tags": []
   },
   "source": [
    "### Preparing the Data"
   ]
  },
  {
   "cell_type": "code",
   "execution_count": 3,
   "metadata": {
    "execution": {
     "iopub.execute_input": "2020-09-29T00:07:11.940434Z",
     "iopub.status.busy": "2020-09-29T00:07:11.939793Z",
     "iopub.status.idle": "2020-09-29T00:07:11.951821Z",
     "shell.execute_reply": "2020-09-29T00:07:11.951304Z"
    },
    "papermill": {
     "duration": 0.04418,
     "end_time": "2020-09-29T00:07:11.951952",
     "exception": false,
     "start_time": "2020-09-29T00:07:11.907772",
     "status": "completed"
    },
    "tags": []
   },
   "outputs": [],
   "source": [
    "import mnist"
   ]
  },
  {
   "cell_type": "code",
   "execution_count": 4,
   "metadata": {
    "execution": {
     "iopub.execute_input": "2020-09-29T00:07:12.013820Z",
     "iopub.status.busy": "2020-09-29T00:07:12.013109Z",
     "iopub.status.idle": "2020-09-29T00:07:13.215053Z",
     "shell.execute_reply": "2020-09-29T00:07:13.214523Z"
    },
    "papermill": {
     "duration": 1.236328,
     "end_time": "2020-09-29T00:07:13.215235",
     "exception": false,
     "start_time": "2020-09-29T00:07:11.978907",
     "status": "completed"
    },
    "tags": []
   },
   "outputs": [],
   "source": [
    "train_images = mnist.train_images()\n",
    "train_labels = mnist.train_labels()"
   ]
  },
  {
   "cell_type": "code",
   "execution_count": 5,
   "metadata": {
    "execution": {
     "iopub.execute_input": "2020-09-29T00:07:13.279306Z",
     "iopub.status.busy": "2020-09-29T00:07:13.278575Z",
     "iopub.status.idle": "2020-09-29T00:07:13.294474Z",
     "shell.execute_reply": "2020-09-29T00:07:13.295087Z"
    },
    "papermill": {
     "duration": 0.051971,
     "end_time": "2020-09-29T00:07:13.295283",
     "exception": false,
     "start_time": "2020-09-29T00:07:13.243312",
     "status": "completed"
    },
    "tags": []
   },
   "outputs": [
    {
     "data": {
      "text/plain": [
       "((60000, 28, 28), (60000,))"
      ]
     },
     "execution_count": 5,
     "metadata": {},
     "output_type": "execute_result"
    }
   ],
   "source": [
    "train_images.shape, train_labels.shape"
   ]
  },
  {
   "cell_type": "code",
   "execution_count": 6,
   "metadata": {
    "execution": {
     "iopub.execute_input": "2020-09-29T00:07:13.712587Z",
     "iopub.status.busy": "2020-09-29T00:07:13.711968Z",
     "iopub.status.idle": "2020-09-29T00:07:14.325798Z",
     "shell.execute_reply": "2020-09-29T00:07:14.326327Z"
    },
    "papermill": {
     "duration": 0.839206,
     "end_time": "2020-09-29T00:07:14.326544",
     "exception": false,
     "start_time": "2020-09-29T00:07:13.487338",
     "status": "completed"
    },
    "tags": []
   },
   "outputs": [],
   "source": [
    "test_images = mnist.test_images()\n",
    "test_labels = mnist.test_labels()"
   ]
  },
  {
   "cell_type": "code",
   "execution_count": 7,
   "metadata": {
    "execution": {
     "iopub.execute_input": "2020-09-29T00:07:14.411613Z",
     "iopub.status.busy": "2020-09-29T00:07:14.408070Z",
     "iopub.status.idle": "2020-09-29T00:07:14.417081Z",
     "shell.execute_reply": "2020-09-29T00:07:14.417634Z"
    },
    "papermill": {
     "duration": 0.050667,
     "end_time": "2020-09-29T00:07:14.417768",
     "exception": false,
     "start_time": "2020-09-29T00:07:14.367101",
     "status": "completed"
    },
    "tags": []
   },
   "outputs": [
    {
     "data": {
      "text/plain": [
       "((10000, 28, 28), (10000,))"
      ]
     },
     "execution_count": 7,
     "metadata": {},
     "output_type": "execute_result"
    }
   ],
   "source": [
    "test_images.shape, test_labels.shape"
   ]
  },
  {
   "cell_type": "code",
   "execution_count": 8,
   "metadata": {
    "execution": {
     "iopub.execute_input": "2020-09-29T00:07:14.476280Z",
     "iopub.status.busy": "2020-09-29T00:07:14.475686Z",
     "iopub.status.idle": "2020-09-29T00:07:14.635687Z",
     "shell.execute_reply": "2020-09-29T00:07:14.636207Z"
    },
    "papermill": {
     "duration": 0.190551,
     "end_time": "2020-09-29T00:07:14.636368",
     "exception": false,
     "start_time": "2020-09-29T00:07:14.445817",
     "status": "completed"
    },
    "tags": []
   },
   "outputs": [
    {
     "name": "stdout",
     "output_type": "stream",
     "text": [
      "2\n"
     ]
    },
    {
     "data": {
      "text/plain": [
       "<matplotlib.image.AxesImage at 0x7f4edca607b8>"
      ]
     },
     "execution_count": 8,
     "metadata": {},
     "output_type": "execute_result"
    },
    {
     "data": {
      "image/png": "[encoded data removed]",
      "text/plain": [
       "<Figure size 432x288 with 1 Axes>"
      ]
     },
     "metadata": {
      "needs_background": "light"
     },
     "output_type": "display_data"
    }
   ],
   "source": [
    "image_index = 7776 # You may select anything up to 60,000\n",
    "print(train_labels[image_index]) \n",
    "plt.imshow(train_images[image_index], cmap='Greys')"
   ]
  },
  {
   "cell_type": "markdown",
   "metadata": {
    "papermill": {
     "duration": 0.030036,
     "end_time": "2020-09-29T00:07:14.696660",
     "exception": false,
     "start_time": "2020-09-29T00:07:14.666624",
     "status": "completed"
    },
    "tags": []
   },
   "source": [
    "## Filter data to get 3 and 8 out"
   ]
  },
  {
   "cell_type": "code",
   "execution_count": 9,
   "metadata": {
    "execution": {
     "iopub.execute_input": "2020-09-29T00:07:14.758480Z",
     "iopub.status.busy": "2020-09-29T00:07:14.757773Z",
     "iopub.status.idle": "2020-09-29T00:07:14.778094Z",
     "shell.execute_reply": "2020-09-29T00:07:14.777531Z"
    },
    "papermill": {
     "duration": 0.053782,
     "end_time": "2020-09-29T00:07:14.778267",
     "exception": false,
     "start_time": "2020-09-29T00:07:14.724485",
     "status": "completed"
    },
    "tags": []
   },
   "outputs": [],
   "source": [
    "train_filter = np.where((train_labels == 3 ) | (train_labels == 8))\n",
    "test_filter = np.where((test_labels == 3) | (test_labels == 8))\n",
    "X_train, y_train = train_images[train_filter], train_labels[train_filter]\n",
    "X_test, y_test = test_images[test_filter], test_labels[test_filter]"
   ]
  },
  {
   "cell_type": "markdown",
   "metadata": {
    "papermill": {
     "duration": 0.029196,
     "end_time": "2020-09-29T00:07:14.836370",
     "exception": false,
     "start_time": "2020-09-29T00:07:14.807174",
     "status": "completed"
    },
    "tags": []
   },
   "source": [
    "We normalize the pixel values in the 0 to 1 range"
   ]
  },
  {
   "cell_type": "code",
   "execution_count": 10,
   "metadata": {
    "execution": {
     "iopub.execute_input": "2020-09-29T00:07:14.904497Z",
     "iopub.status.busy": "2020-09-29T00:07:14.903863Z",
     "iopub.status.idle": "2020-09-29T00:07:14.965029Z",
     "shell.execute_reply": "2020-09-29T00:07:14.964462Z"
    },
    "papermill": {
     "duration": 0.097199,
     "end_time": "2020-09-29T00:07:14.965182",
     "exception": false,
     "start_time": "2020-09-29T00:07:14.867983",
     "status": "completed"
    },
    "tags": []
   },
   "outputs": [],
   "source": [
    "X_train = X_train/255.\n",
    "X_test = X_test/255."
   ]
  },
  {
   "cell_type": "markdown",
   "metadata": {
    "papermill": {
     "duration": 0.032059,
     "end_time": "2020-09-29T00:07:15.028134",
     "exception": false,
     "start_time": "2020-09-29T00:07:14.996075",
     "status": "completed"
    },
    "tags": []
   },
   "source": [
    "Setup the labels as 1 (when the digit is 3) and 0 (when the digit is 8)"
   ]
  },
  {
   "cell_type": "code",
   "execution_count": 11,
   "metadata": {
    "execution": {
     "iopub.execute_input": "2020-09-29T00:07:15.101672Z",
     "iopub.status.busy": "2020-09-29T00:07:15.101020Z",
     "iopub.status.idle": "2020-09-29T00:07:15.112244Z",
     "shell.execute_reply": "2020-09-29T00:07:15.112847Z"
    },
    "papermill": {
     "duration": 0.05054,
     "end_time": "2020-09-29T00:07:15.112995",
     "exception": false,
     "start_time": "2020-09-29T00:07:15.062455",
     "status": "completed"
    },
    "tags": []
   },
   "outputs": [],
   "source": [
    "y_train = 1*(y_train==3)\n",
    "y_test = 1*(y_test==3)"
   ]
  },
  {
   "cell_type": "code",
   "execution_count": 12,
   "metadata": {
    "execution": {
     "iopub.execute_input": "2020-09-29T00:07:15.176124Z",
     "iopub.status.busy": "2020-09-29T00:07:15.175490Z",
     "iopub.status.idle": "2020-09-29T00:07:15.189289Z",
     "shell.execute_reply": "2020-09-29T00:07:15.190109Z"
    },
    "papermill": {
     "duration": 0.046736,
     "end_time": "2020-09-29T00:07:15.190273",
     "exception": false,
     "start_time": "2020-09-29T00:07:15.143537",
     "status": "completed"
    },
    "tags": []
   },
   "outputs": [
    {
     "data": {
      "text/plain": [
       "((11982, 28, 28), (1984, 28, 28))"
      ]
     },
     "execution_count": 12,
     "metadata": {},
     "output_type": "execute_result"
    }
   ],
   "source": [
    "X_train.shape, X_test.shape"
   ]
  },
  {
   "cell_type": "markdown",
   "metadata": {
    "papermill": {
     "duration": 0.030166,
     "end_time": "2020-09-29T00:07:15.249265",
     "exception": false,
     "start_time": "2020-09-29T00:07:15.219099",
     "status": "completed"
    },
    "tags": []
   },
   "source": [
    "### Reshape the input data to create a linear array"
   ]
  },
  {
   "cell_type": "code",
   "execution_count": 13,
   "metadata": {
    "execution": {
     "iopub.execute_input": "2020-09-29T00:07:15.331206Z",
     "iopub.status.busy": "2020-09-29T00:07:15.330324Z",
     "iopub.status.idle": "2020-09-29T00:07:15.337083Z",
     "shell.execute_reply": "2020-09-29T00:07:15.337607Z"
    },
    "papermill": {
     "duration": 0.057897,
     "end_time": "2020-09-29T00:07:15.337783",
     "exception": false,
     "start_time": "2020-09-29T00:07:15.279886",
     "status": "completed"
    },
    "tags": []
   },
   "outputs": [
    {
     "data": {
      "text/plain": [
       "((11982, 784), (1984, 784))"
      ]
     },
     "execution_count": 13,
     "metadata": {},
     "output_type": "execute_result"
    }
   ],
   "source": [
    "X_train = X_train.reshape(X_train.shape[0], -1)\n",
    "X_test = X_test.reshape(X_test.shape[0], -1)\n",
    "X_train.shape, X_test.shape"
   ]
  },
  {
   "cell_type": "markdown",
   "metadata": {
    "papermill": {
     "duration": 0.036733,
     "end_time": "2020-09-29T00:07:15.408318",
     "exception": false,
     "start_time": "2020-09-29T00:07:15.371585",
     "status": "completed"
    },
    "tags": []
   },
   "source": [
    "### Importing appropriate functions from 'Kudzu'"
   ]
  },
  {
   "cell_type": "code",
   "execution_count": 14,
   "metadata": {
    "execution": {
     "iopub.execute_input": "2020-09-29T00:07:15.487503Z",
     "iopub.status.busy": "2020-09-29T00:07:15.486791Z",
     "iopub.status.idle": "2020-09-29T00:07:15.505359Z",
     "shell.execute_reply": "2020-09-29T00:07:15.504747Z"
    },
    "papermill": {
     "duration": 0.059748,
     "end_time": "2020-09-29T00:07:15.505506",
     "exception": false,
     "start_time": "2020-09-29T00:07:15.445758",
     "status": "completed"
    },
    "tags": []
   },
   "outputs": [],
   "source": [
    "from kudzu.layer import Sigmoid\n",
    "from kudzu.layer import Relu\n",
    "from kudzu.layer import Affine, Sigmoid\n",
    "\n",
    "from kudzu.model import Model\n",
    "from kudzu.train import Learner\n",
    "from kudzu.optim import GD\n",
    "from kudzu.data import Data, Dataloader, Sampler\n",
    "\n",
    "from kudzu.callbacks import AccCallback\n",
    "from kudzu.callbacks import ClfCallback\n",
    "\n",
    "from kudzu.loss import MSE"
   ]
  },
  {
   "cell_type": "markdown",
   "metadata": {
    "papermill": {
     "duration": 0.030587,
     "end_time": "2020-09-29T00:07:15.566750",
     "exception": false,
     "start_time": "2020-09-29T00:07:15.536163",
     "status": "completed"
    },
    "tags": []
   },
   "source": [
    "### Let us create a `Config` class, to store important parameters. \n",
    "This class essentially plays the role of a dictionary."
   ]
  },
  {
   "cell_type": "code",
   "execution_count": 15,
   "metadata": {
    "execution": {
     "iopub.execute_input": "2020-09-29T00:07:15.633272Z",
     "iopub.status.busy": "2020-09-29T00:07:15.632639Z",
     "iopub.status.idle": "2020-09-29T00:07:15.644540Z",
     "shell.execute_reply": "2020-09-29T00:07:15.644028Z"
    },
    "papermill": {
     "duration": 0.047407,
     "end_time": "2020-09-29T00:07:15.644668",
     "exception": false,
     "start_time": "2020-09-29T00:07:15.597261",
     "status": "completed"
    },
    "tags": []
   },
   "outputs": [],
   "source": [
    "class Config:\n",
    "    pass\n",
    "config = Config()\n",
    "config.lr = 0.001\n",
    "config.num_epochs = 251\n",
    "config.bs = 50"
   ]
  },
  {
   "cell_type": "markdown",
   "metadata": {
    "papermill": {
     "duration": 0.030574,
     "end_time": "2020-09-29T00:07:15.707237",
     "exception": false,
     "start_time": "2020-09-29T00:07:15.676663",
     "status": "completed"
    },
    "tags": []
   },
   "source": [
    "### Initializing data to the variables"
   ]
  },
  {
   "cell_type": "code",
   "execution_count": 16,
   "metadata": {
    "execution": {
     "iopub.execute_input": "2020-09-29T00:07:15.775067Z",
     "iopub.status.busy": "2020-09-29T00:07:15.774413Z",
     "iopub.status.idle": "2020-09-29T00:07:15.786343Z",
     "shell.execute_reply": "2020-09-29T00:07:15.785817Z"
    },
    "papermill": {
     "duration": 0.04925,
     "end_time": "2020-09-29T00:07:15.786487",
     "exception": false,
     "start_time": "2020-09-29T00:07:15.737237",
     "status": "completed"
    },
    "tags": []
   },
   "outputs": [],
   "source": [
    "data = Data(X_train, y_train.reshape(-1,1))\n",
    "sampler = Sampler(data, config.bs, shuffle=True)\n",
    "\n",
    "dl = Dataloader(data, sampler)\n",
    "\n",
    "opt = GD(config.lr)\n",
    "loss = MSE()"
   ]
  },
  {
   "cell_type": "code",
   "execution_count": 17,
   "metadata": {
    "execution": {
     "iopub.execute_input": "2020-09-29T00:07:15.849822Z",
     "iopub.status.busy": "2020-09-29T00:07:15.849156Z",
     "iopub.status.idle": "2020-09-29T00:07:15.861038Z",
     "shell.execute_reply": "2020-09-29T00:07:15.861628Z"
    },
    "papermill": {
     "duration": 0.045937,
     "end_time": "2020-09-29T00:07:15.861783",
     "exception": false,
     "start_time": "2020-09-29T00:07:15.815846",
     "status": "completed"
    },
    "tags": []
   },
   "outputs": [],
   "source": [
    "training_xdata = X_train\n",
    "testing_xdata = X_test\n",
    "training_ydata = y_train.reshape(-1,1)\n",
    "testing_ydata = y_test.reshape(-1,1)"
   ]
  },
  {
   "cell_type": "markdown",
   "metadata": {
    "papermill": {
     "duration": 0.032204,
     "end_time": "2020-09-29T00:07:15.929286",
     "exception": false,
     "start_time": "2020-09-29T00:07:15.897082",
     "status": "completed"
    },
    "tags": []
   },
   "source": [
    "### Running Models with the Training data\n",
    "Details about the network layers:\n",
    "- A first affine layer has 784 inputs and does 100 affine transforms. These are followed by a Relu\n",
    "- A second affine layer has 100 inputs from the 100 activations of the past layer, and does 100 affine transforms. These are followed by a Relu\n",
    "- A third affine layer has 100 activations and does 2 affine transformations to create an embedding for visualization. There is no non-linearity here.\n",
    "- A final \"logistic regression\" which has an affine transform from 2 inputs to 1 output, which is squeezed through a sigmoid.\n",
    "\n",
    "Help taken from Anshuman's Notebook."
   ]
  },
  {
   "cell_type": "code",
   "execution_count": 18,
   "metadata": {
    "execution": {
     "iopub.execute_input": "2020-09-29T00:07:15.995265Z",
     "iopub.status.busy": "2020-09-29T00:07:15.994612Z",
     "iopub.status.idle": "2020-09-29T00:07:16.012325Z",
     "shell.execute_reply": "2020-09-29T00:07:16.012821Z"
    },
    "papermill": {
     "duration": 0.053438,
     "end_time": "2020-09-29T00:07:16.012985",
     "exception": false,
     "start_time": "2020-09-29T00:07:15.959547",
     "status": "completed"
    },
    "tags": []
   },
   "outputs": [],
   "source": [
    "# layers for the Neural Network\n",
    "layers = [Affine(\"first\", 784, 100), Relu(\"first\"), Affine(\"second\", 100, 100), Relu(\"second\"), Affine(\"third\", 100, 2), Affine(\"final\", 2, 1), Sigmoid(\"final\")]\n",
    "model_nn = Model(layers)\n",
    "\n",
    "# layers for the Logistic Regression\n",
    "layers_lr = [Affine(\"logits\", 784, 1), Sigmoid(\"sigmoid\")]\n",
    "model_lr = Model(layers_lr)"
   ]
  },
  {
   "cell_type": "code",
   "execution_count": 19,
   "metadata": {
    "execution": {
     "iopub.execute_input": "2020-09-29T00:07:16.077184Z",
     "iopub.status.busy": "2020-09-29T00:07:16.076558Z",
     "iopub.status.idle": "2020-09-29T00:07:16.089782Z",
     "shell.execute_reply": "2020-09-29T00:07:16.089298Z"
    },
    "papermill": {
     "duration": 0.047655,
     "end_time": "2020-09-29T00:07:16.089929",
     "exception": false,
     "start_time": "2020-09-29T00:07:16.042274",
     "status": "completed"
    },
    "tags": []
   },
   "outputs": [],
   "source": [
    "# suffix _nn stands for Neural Network.\n",
    "learner_nn = Learner(loss, model_nn, opt, config.num_epochs)\n",
    "acc_nn = ClfCallback(learner_nn, config.bs, training_xdata , testing_xdata, training_ydata, testing_ydata)\n",
    "learner_nn.set_callbacks([acc_nn])"
   ]
  },
  {
   "cell_type": "code",
   "execution_count": 20,
   "metadata": {
    "execution": {
     "iopub.execute_input": "2020-09-29T00:07:16.152622Z",
     "iopub.status.busy": "2020-09-29T00:07:16.151978Z",
     "iopub.status.idle": "2020-09-29T00:09:19.170170Z",
     "shell.execute_reply": "2020-09-29T00:09:19.170803Z"
    },
    "papermill": {
     "duration": 123.051978,
     "end_time": "2020-09-29T00:09:19.170981",
     "exception": false,
     "start_time": "2020-09-29T00:07:16.119003",
     "status": "completed"
    },
    "tags": []
   },
   "outputs": [
    {
     "name": "stdout",
     "output_type": "stream",
     "text": [
      "====== Neural Network ======\n"
     ]
    },
    {
     "name": "stdout",
     "output_type": "stream",
     "text": [
      "Epoch 0, Loss 0.2483\n",
      "Training Accuracy: 0.6236, Testing Accuracy: 0.6321\n",
      "\n"
     ]
    },
    {
     "name": "stdout",
     "output_type": "stream",
     "text": [
      "Epoch 10, Loss 0.0846\n",
      "Training Accuracy: 0.9266, Testing Accuracy: 0.9365\n",
      "\n"
     ]
    },
    {
     "name": "stdout",
     "output_type": "stream",
     "text": [
      "Epoch 20, Loss 0.0525\n",
      "Training Accuracy: 0.9475, Testing Accuracy: 0.9561\n",
      "\n"
     ]
    },
    {
     "name": "stdout",
     "output_type": "stream",
     "text": [
      "Epoch 30, Loss 0.0419\n",
      "Training Accuracy: 0.9540, Testing Accuracy: 0.9652\n",
      "\n"
     ]
    },
    {
     "name": "stdout",
     "output_type": "stream",
     "text": [
      "Epoch 40, Loss 0.0366\n",
      "Training Accuracy: 0.9582, Testing Accuracy: 0.9698\n",
      "\n"
     ]
    },
    {
     "name": "stdout",
     "output_type": "stream",
     "text": [
      "Epoch 50, Loss 0.0333\n",
      "Training Accuracy: 0.9617, Testing Accuracy: 0.9723\n",
      "\n"
     ]
    },
    {
     "name": "stdout",
     "output_type": "stream",
     "text": [
      "Epoch 60, Loss 0.031\n",
      "Training Accuracy: 0.9641, Testing Accuracy: 0.9738\n",
      "\n"
     ]
    },
    {
     "name": "stdout",
     "output_type": "stream",
     "text": [
      "Epoch 70, Loss 0.0293\n",
      "Training Accuracy: 0.9659, Testing Accuracy: 0.9743\n",
      "\n"
     ]
    },
    {
     "name": "stdout",
     "output_type": "stream",
     "text": [
      "Epoch 80, Loss 0.0279\n",
      "Training Accuracy: 0.9675, Testing Accuracy: 0.9738\n",
      "\n"
     ]
    },
    {
     "name": "stdout",
     "output_type": "stream",
     "text": [
      "Epoch 90, Loss 0.0267\n",
      "Training Accuracy: 0.9689, Testing Accuracy: 0.9733\n",
      "\n"
     ]
    },
    {
     "name": "stdout",
     "output_type": "stream",
     "text": [
      "Epoch 100, Loss 0.0257\n",
      "Training Accuracy: 0.9700, Testing Accuracy: 0.9733\n",
      "\n"
     ]
    },
    {
     "name": "stdout",
     "output_type": "stream",
     "text": [
      "Epoch 110, Loss 0.0248\n",
      "Training Accuracy: 0.9713, Testing Accuracy: 0.9733\n",
      "\n"
     ]
    },
    {
     "name": "stdout",
     "output_type": "stream",
     "text": [
      "Epoch 120, Loss 0.024\n",
      "Training Accuracy: 0.9721, Testing Accuracy: 0.9738\n",
      "\n"
     ]
    },
    {
     "name": "stdout",
     "output_type": "stream",
     "text": [
      "Epoch 130, Loss 0.0232\n",
      "Training Accuracy: 0.9728, Testing Accuracy: 0.9738\n",
      "\n"
     ]
    },
    {
     "name": "stdout",
     "output_type": "stream",
     "text": [
      "Epoch 140, Loss 0.0226\n",
      "Training Accuracy: 0.9740, Testing Accuracy: 0.9738\n",
      "\n"
     ]
    },
    {
     "name": "stdout",
     "output_type": "stream",
     "text": [
      "Epoch 150, Loss 0.0219\n",
      "Training Accuracy: 0.9748, Testing Accuracy: 0.9723\n",
      "\n"
     ]
    },
    {
     "name": "stdout",
     "output_type": "stream",
     "text": [
      "Epoch 160, Loss 0.0214\n",
      "Training Accuracy: 0.9757, Testing Accuracy: 0.9723\n",
      "\n"
     ]
    },
    {
     "name": "stdout",
     "output_type": "stream",
     "text": [
      "Epoch 170, Loss 0.0208\n",
      "Training Accuracy: 0.9762, Testing Accuracy: 0.9723\n",
      "\n"
     ]
    },
    {
     "name": "stdout",
     "output_type": "stream",
     "text": [
      "Epoch 180, Loss 0.0203\n",
      "Training Accuracy: 0.9768, Testing Accuracy: 0.9728\n",
      "\n"
     ]
    },
    {
     "name": "stdout",
     "output_type": "stream",
     "text": [
      "Epoch 190, Loss 0.0198\n",
      "Training Accuracy: 0.9771, Testing Accuracy: 0.9728\n",
      "\n"
     ]
    },
    {
     "name": "stdout",
     "output_type": "stream",
     "text": [
      "Epoch 200, Loss 0.0194\n",
      "Training Accuracy: 0.9777, Testing Accuracy: 0.9733\n",
      "\n"
     ]
    },
    {
     "name": "stdout",
     "output_type": "stream",
     "text": [
      "Epoch 210, Loss 0.0189\n",
      "Training Accuracy: 0.9784, Testing Accuracy: 0.9738\n",
      "\n"
     ]
    },
    {
     "name": "stdout",
     "output_type": "stream",
     "text": [
      "Epoch 220, Loss 0.0185\n",
      "Training Accuracy: 0.9791, Testing Accuracy: 0.9743\n",
      "\n"
     ]
    },
    {
     "name": "stdout",
     "output_type": "stream",
     "text": [
      "Epoch 230, Loss 0.0181\n",
      "Training Accuracy: 0.9796, Testing Accuracy: 0.9743\n",
      "\n"
     ]
    },
    {
     "name": "stdout",
     "output_type": "stream",
     "text": [
      "Epoch 240, Loss 0.0177\n",
      "Training Accuracy: 0.9798, Testing Accuracy: 0.9748\n",
      "\n"
     ]
    },
    {
     "name": "stdout",
     "output_type": "stream",
     "text": [
      "Epoch 250, Loss 0.0173\n",
      "Training Accuracy: 0.9807, Testing Accuracy: 0.9748\n",
      "\n"
     ]
    },
    {
     "data": {
      "text/plain": [
       "0.03434277016890896"
      ]
     },
     "execution_count": 20,
     "metadata": {},
     "output_type": "execute_result"
    }
   ],
   "source": [
    "print(\"====== Neural Network ======\")\n",
    "learner_nn.train_loop(dl)"
   ]
  },
  {
   "cell_type": "markdown",
   "metadata": {
    "papermill": {
     "duration": 0.039913,
     "end_time": "2020-09-29T00:09:19.252218",
     "exception": false,
     "start_time": "2020-09-29T00:09:19.212305",
     "status": "completed"
    },
    "tags": []
   },
   "source": [
    "### Logistic Regression based Implementation."
   ]
  },
  {
   "cell_type": "code",
   "execution_count": 21,
   "metadata": {
    "execution": {
     "iopub.execute_input": "2020-09-29T00:09:19.358755Z",
     "iopub.status.busy": "2020-09-29T00:09:19.357625Z",
     "iopub.status.idle": "2020-09-29T00:09:19.368204Z",
     "shell.execute_reply": "2020-09-29T00:09:19.368654Z"
    },
    "papermill": {
     "duration": 0.060121,
     "end_time": "2020-09-29T00:09:19.368840",
     "exception": false,
     "start_time": "2020-09-29T00:09:19.308719",
     "status": "completed"
    },
    "tags": []
   },
   "outputs": [],
   "source": [
    "learner_lr = Learner(loss, model_lr, opt, config.num_epochs)\n",
    "acc_lr = ClfCallback(learner_lr, config.bs, training_xdata , testing_xdata, training_ydata, testing_ydata)\n",
    "learner_lr.set_callbacks([acc_lr])"
   ]
  },
  {
   "cell_type": "code",
   "execution_count": 22,
   "metadata": {
    "execution": {
     "iopub.execute_input": "2020-09-29T00:09:19.460476Z",
     "iopub.status.busy": "2020-09-29T00:09:19.459178Z",
     "iopub.status.idle": "2020-09-29T00:09:37.510157Z",
     "shell.execute_reply": "2020-09-29T00:09:37.509269Z"
    },
    "papermill": {
     "duration": 18.099568,
     "end_time": "2020-09-29T00:09:37.510324",
     "exception": false,
     "start_time": "2020-09-29T00:09:19.410756",
     "status": "completed"
    },
    "tags": []
   },
   "outputs": [
    {
     "name": "stdout",
     "output_type": "stream",
     "text": [
      "====== Logistic Regression ======\n",
      "Epoch 0, Loss 0.2725\n",
      "Training Accuracy: 0.5474, Testing Accuracy: 0.5277\n",
      "\n"
     ]
    },
    {
     "name": "stdout",
     "output_type": "stream",
     "text": [
      "Epoch 10, Loss 0.1057\n",
      "Training Accuracy: 0.9107, Testing Accuracy: 0.9229\n",
      "\n"
     ]
    },
    {
     "name": "stdout",
     "output_type": "stream",
     "text": [
      "Epoch 20, Loss 0.0802\n",
      "Training Accuracy: 0.9286, Testing Accuracy: 0.9400\n",
      "\n"
     ]
    },
    {
     "name": "stdout",
     "output_type": "stream",
     "text": [
      "Epoch 30, Loss 0.0689\n",
      "Training Accuracy: 0.9367, Testing Accuracy: 0.9491\n",
      "\n"
     ]
    },
    {
     "name": "stdout",
     "output_type": "stream",
     "text": [
      "Epoch 40, Loss 0.0622\n",
      "Training Accuracy: 0.9411, Testing Accuracy: 0.9516\n",
      "\n"
     ]
    },
    {
     "name": "stdout",
     "output_type": "stream",
     "text": [
      "Epoch 50, Loss 0.0576\n",
      "Training Accuracy: 0.9442, Testing Accuracy: 0.9526\n",
      "\n"
     ]
    },
    {
     "name": "stdout",
     "output_type": "stream",
     "text": [
      "Epoch 60, Loss 0.0542\n",
      "Training Accuracy: 0.9462, Testing Accuracy: 0.9551\n",
      "\n"
     ]
    },
    {
     "name": "stdout",
     "output_type": "stream",
     "text": [
      "Epoch 70, Loss 0.0517\n",
      "Training Accuracy: 0.9477, Testing Accuracy: 0.9582\n",
      "\n"
     ]
    },
    {
     "name": "stdout",
     "output_type": "stream",
     "text": [
      "Epoch 80, Loss 0.0496\n",
      "Training Accuracy: 0.9495, Testing Accuracy: 0.9597\n",
      "\n"
     ]
    },
    {
     "name": "stdout",
     "output_type": "stream",
     "text": [
      "Epoch 90, Loss 0.0479\n",
      "Training Accuracy: 0.9508, Testing Accuracy: 0.9617\n",
      "\n"
     ]
    },
    {
     "name": "stdout",
     "output_type": "stream",
     "text": [
      "Epoch 100, Loss 0.0464\n",
      "Training Accuracy: 0.9524, Testing Accuracy: 0.9622\n",
      "\n"
     ]
    },
    {
     "name": "stdout",
     "output_type": "stream",
     "text": [
      "Epoch 110, Loss 0.0452\n",
      "Training Accuracy: 0.9535, Testing Accuracy: 0.9627\n",
      "\n"
     ]
    },
    {
     "name": "stdout",
     "output_type": "stream",
     "text": [
      "Epoch 120, Loss 0.0441\n",
      "Training Accuracy: 0.9543, Testing Accuracy: 0.9652\n",
      "\n"
     ]
    },
    {
     "name": "stdout",
     "output_type": "stream",
     "text": [
      "Epoch 130, Loss 0.0432\n",
      "Training Accuracy: 0.9548, Testing Accuracy: 0.9657\n",
      "\n"
     ]
    },
    {
     "name": "stdout",
     "output_type": "stream",
     "text": [
      "Epoch 140, Loss 0.0423\n",
      "Training Accuracy: 0.9558, Testing Accuracy: 0.9662\n",
      "\n"
     ]
    },
    {
     "name": "stdout",
     "output_type": "stream",
     "text": [
      "Epoch 150, Loss 0.0416\n",
      "Training Accuracy: 0.9565, Testing Accuracy: 0.9662\n",
      "\n"
     ]
    },
    {
     "name": "stdout",
     "output_type": "stream",
     "text": [
      "Epoch 160, Loss 0.0409\n",
      "Training Accuracy: 0.9574, Testing Accuracy: 0.9662\n",
      "\n"
     ]
    },
    {
     "name": "stdout",
     "output_type": "stream",
     "text": [
      "Epoch 170, Loss 0.0403\n",
      "Training Accuracy: 0.9579, Testing Accuracy: 0.9657\n",
      "\n"
     ]
    },
    {
     "name": "stdout",
     "output_type": "stream",
     "text": [
      "Epoch 180, Loss 0.0397\n",
      "Training Accuracy: 0.9581, Testing Accuracy: 0.9652\n",
      "\n"
     ]
    },
    {
     "name": "stdout",
     "output_type": "stream",
     "text": [
      "Epoch 190, Loss 0.0392\n",
      "Training Accuracy: 0.9584, Testing Accuracy: 0.9662\n",
      "\n"
     ]
    },
    {
     "name": "stdout",
     "output_type": "stream",
     "text": [
      "Epoch 200, Loss 0.0387\n",
      "Training Accuracy: 0.9584, Testing Accuracy: 0.9662\n",
      "\n"
     ]
    },
    {
     "name": "stdout",
     "output_type": "stream",
     "text": [
      "Epoch 210, Loss 0.0383\n",
      "Training Accuracy: 0.9585, Testing Accuracy: 0.9662\n",
      "\n"
     ]
    },
    {
     "name": "stdout",
     "output_type": "stream",
     "text": [
      "Epoch 220, Loss 0.0379\n",
      "Training Accuracy: 0.9589, Testing Accuracy: 0.9662\n",
      "\n"
     ]
    },
    {
     "name": "stdout",
     "output_type": "stream",
     "text": [
      "Epoch 230, Loss 0.0375\n",
      "Training Accuracy: 0.9595, Testing Accuracy: 0.9662\n",
      "\n"
     ]
    },
    {
     "name": "stdout",
     "output_type": "stream",
     "text": [
      "Epoch 240, Loss 0.0371\n",
      "Training Accuracy: 0.9596, Testing Accuracy: 0.9662\n",
      "\n"
     ]
    },
    {
     "name": "stdout",
     "output_type": "stream",
     "text": [
      "Epoch 250, Loss 0.0368\n",
      "Training Accuracy: 0.9597, Testing Accuracy: 0.9657\n",
      "\n"
     ]
    },
    {
     "data": {
      "text/plain": [
       "0.12949165454031464"
      ]
     },
     "execution_count": 22,
     "metadata": {},
     "output_type": "execute_result"
    }
   ],
   "source": [
    "print(\"====== Logistic Regression ======\")\n",
    "learner_lr.train_loop(dl)"
   ]
  },
  {
   "cell_type": "markdown",
   "metadata": {
    "papermill": {
     "duration": 0.04689,
     "end_time": "2020-09-29T00:09:37.605246",
     "exception": false,
     "start_time": "2020-09-29T00:09:37.558356",
     "status": "completed"
    },
    "tags": []
   },
   "source": [
    "### Comparing results of NN and LR"
   ]
  },
  {
   "cell_type": "code",
   "execution_count": 23,
   "metadata": {
    "execution": {
     "iopub.execute_input": "2020-09-29T00:09:37.701852Z",
     "iopub.status.busy": "2020-09-29T00:09:37.700800Z",
     "iopub.status.idle": "2020-09-29T00:09:37.962224Z",
     "shell.execute_reply": "2020-09-29T00:09:37.962762Z"
    },
    "papermill": {
     "duration": 0.311547,
     "end_time": "2020-09-29T00:09:37.962937",
     "exception": false,
     "start_time": "2020-09-29T00:09:37.651390",
     "status": "completed"
    },
    "tags": []
   },
   "outputs": [
    {
     "data": {
      "text/plain": [
       "<matplotlib.legend.Legend at 0x7f4eda5c7208>"
      ]
     },
     "execution_count": 23,
     "metadata": {},
     "output_type": "execute_result"
    },
    {
     "data": {
      "image/png": "[encoded data removed]",
      "text/plain": [
       "<Figure size 1080x720 with 1 Axes>"
      ]
     },
     "metadata": {
      "needs_background": "light"
     },
     "output_type": "display_data"
    }
   ],
   "source": [
    "plt.figure(figsize=(15,10))\n",
    "\n",
    "# Neural Network plots\n",
    "plt.plot(acc_nn.accuracies, 'r-', label = \"Training Accuracies - NN\")\n",
    "plt.plot(acc_nn.test_accuracies, 'g-', label = \"Testing Accuracies - NN\")\n",
    "\n",
    "# Logistic Regression plots\n",
    "plt.plot(acc_lr.accuracies, 'k-', label = \"Training Accuracies - LR\")\n",
    "plt.plot(acc_lr.test_accuracies, 'b-', label = \"Testing Accuracies - LR\")\n",
    "\n",
    "plt.ylim(0.8, 1)\n",
    "\n",
    "plt.legend()\n",
    "\n"
   ]
  },
  {
   "cell_type": "markdown",
   "metadata": {
    "papermill": {
     "duration": 0.045647,
     "end_time": "2020-09-29T00:09:38.055815",
     "exception": false,
     "start_time": "2020-09-29T00:09:38.010168",
     "status": "completed"
    },
    "tags": []
   },
   "source": [
    "### From the plot, we can observe the following:\n",
    "- Neural Network achieves higher accuracy than the Logistic Regression model.\n",
    "- This apparently, is because of overfitting, i.e. NN captures more noise than data.\n",
    "- Testing accuracy of NN drops below the Training accuracy at higher epochs. This explains the over-fitting on training data.\n",
    "- Logistic Regression gives a reliable accuracy, without the above mentioned problem.\n"
   ]
  },
  {
   "cell_type": "markdown",
   "metadata": {
    "papermill": {
     "duration": 0.045458,
     "end_time": "2020-09-29T00:09:38.146346",
     "exception": false,
     "start_time": "2020-09-29T00:09:38.100888",
     "status": "completed"
    },
    "tags": []
   },
   "source": [
    "### Moving till the last but one layer (excluding it).\n",
    "#### Plotting the outputs of this layer of the NN."
   ]
  },
  {
   "cell_type": "code",
   "execution_count": 24,
   "metadata": {
    "execution": {
     "iopub.execute_input": "2020-09-29T00:09:38.246590Z",
     "iopub.status.busy": "2020-09-29T00:09:38.245987Z",
     "iopub.status.idle": "2020-09-29T00:09:38.256469Z",
     "shell.execute_reply": "2020-09-29T00:09:38.255579Z"
    },
    "papermill": {
     "duration": 0.065734,
     "end_time": "2020-09-29T00:09:38.256601",
     "exception": false,
     "start_time": "2020-09-29T00:09:38.190867",
     "status": "completed"
    },
    "tags": []
   },
   "outputs": [],
   "source": [
    "model_new = Model(layers[:-2])"
   ]
  },
  {
   "cell_type": "code",
   "execution_count": 25,
   "metadata": {
    "execution": {
     "iopub.execute_input": "2020-09-29T00:09:38.371476Z",
     "iopub.status.busy": "2020-09-29T00:09:38.359982Z",
     "iopub.status.idle": "2020-09-29T00:09:38.381866Z",
     "shell.execute_reply": "2020-09-29T00:09:38.382653Z"
    },
    "papermill": {
     "duration": 0.07927,
     "end_time": "2020-09-29T00:09:38.382819",
     "exception": false,
     "start_time": "2020-09-29T00:09:38.303549",
     "status": "completed"
    },
    "tags": []
   },
   "outputs": [],
   "source": [
    "plot_testing = model_new(testing_xdata)"
   ]
  },
  {
   "cell_type": "code",
   "execution_count": 26,
   "metadata": {
    "execution": {
     "iopub.execute_input": "2020-09-29T00:09:38.519085Z",
     "iopub.status.busy": "2020-09-29T00:09:38.516776Z",
     "iopub.status.idle": "2020-09-29T00:09:38.708707Z",
     "shell.execute_reply": "2020-09-29T00:09:38.709230Z"
    },
    "papermill": {
     "duration": 0.275233,
     "end_time": "2020-09-29T00:09:38.709389",
     "exception": false,
     "start_time": "2020-09-29T00:09:38.434156",
     "status": "completed"
    },
    "tags": []
   },
   "outputs": [
    {
     "data": {
      "text/plain": [
       "Text(0.5, 1.0, 'Outputs')"
      ]
     },
     "execution_count": 26,
     "metadata": {},
     "output_type": "execute_result"
    },
    {
     "data": {
      "image/png": "[encoded data removed]",
      "text/plain": [
       "<Figure size 576x504 with 1 Axes>"
      ]
     },
     "metadata": {
      "needs_background": "light"
     },
     "output_type": "display_data"
    }
   ],
   "source": [
    "plt.figure(figsize=(8,7))\n",
    "plt.scatter(plot_testing[:,0], plot_testing[:,1], alpha = 0.1, c = y_test.ravel());\n",
    "plt.title('Outputs')"
   ]
  },
  {
   "cell_type": "markdown",
   "metadata": {
    "papermill": {
     "duration": 0.04765,
     "end_time": "2020-09-29T00:09:38.805017",
     "exception": false,
     "start_time": "2020-09-29T00:09:38.757367",
     "status": "completed"
    },
    "tags": []
   },
   "source": [
    "### Plotting probability contours"
   ]
  },
  {
   "cell_type": "code",
   "execution_count": 27,
   "metadata": {
    "execution": {
     "iopub.execute_input": "2020-09-29T00:09:38.910120Z",
     "iopub.status.busy": "2020-09-29T00:09:38.909534Z",
     "iopub.status.idle": "2020-09-29T00:09:38.919258Z",
     "shell.execute_reply": "2020-09-29T00:09:38.919950Z"
    },
    "papermill": {
     "duration": 0.066509,
     "end_time": "2020-09-29T00:09:38.920093",
     "exception": false,
     "start_time": "2020-09-29T00:09:38.853584",
     "status": "completed"
    },
    "tags": []
   },
   "outputs": [],
   "source": [
    "model_prob = Model(layers[-2:]) "
   ]
  },
  {
   "cell_type": "code",
   "execution_count": 28,
   "metadata": {
    "execution": {
     "iopub.execute_input": "2020-09-29T00:09:39.047624Z",
     "iopub.status.busy": "2020-09-29T00:09:39.045190Z",
     "iopub.status.idle": "2020-09-29T00:09:39.057845Z",
     "shell.execute_reply": "2020-09-29T00:09:39.057143Z"
    },
    "papermill": {
     "duration": 0.085791,
     "end_time": "2020-09-29T00:09:39.057985",
     "exception": false,
     "start_time": "2020-09-29T00:09:38.972194",
     "status": "completed"
    },
    "tags": []
   },
   "outputs": [],
   "source": [
    "# Adjust the x and y ranges according to the above generated plot.\n",
    "x_range = np.linspace(-4, 1, 100) \n",
    "y_range = np.linspace(-6, 6, 100) \n",
    "x_grid, y_grid = np.meshgrid(x_range, y_range) # x_grid and y_grig are of size 100 X 100\n",
    "\n",
    "# converting x_grid and y_grid to continuous arrays\n",
    "x_grid_flat = np.ravel(x_grid)\n",
    "y_grid_flat = np.ravel(y_grid)\n",
    "\n",
    "# The last layer of the current model takes two columns as input. Hence transpose of np.vstack() is required.\n",
    "X = np.vstack((x_grid_flat, y_grid_flat)).T\n",
    "\n",
    "# x_grid and y_grid are of size 100 x 100\n",
    "probability_contour = model_prob(X).reshape(100,100) "
   ]
  },
  {
   "cell_type": "code",
   "execution_count": 29,
   "metadata": {
    "execution": {
     "iopub.execute_input": "2020-09-29T00:09:39.166308Z",
     "iopub.status.busy": "2020-09-29T00:09:39.165612Z",
     "iopub.status.idle": "2020-09-29T00:09:39.450881Z",
     "shell.execute_reply": "2020-09-29T00:09:39.449869Z"
    },
    "papermill": {
     "duration": 0.343026,
     "end_time": "2020-09-29T00:09:39.451052",
     "exception": false,
     "start_time": "2020-09-29T00:09:39.108026",
     "status": "completed"
    },
    "tags": []
   },
   "outputs": [
    {
     "data": {
      "image/png": "[encoded data removed]",
      "text/plain": [
       "<Figure size 720x648 with 1 Axes>"
      ]
     },
     "metadata": {
      "needs_background": "light"
     },
     "output_type": "display_data"
    }
   ],
   "source": [
    "plt.figure(figsize=(10,9))\n",
    "plt.scatter(plot_testing[:,0], plot_testing[:,1], alpha = 0.1, c = y_test.ravel())\n",
    "contours = plt.contour(x_grid,y_grid,probability_contour)\n",
    "plt.title('Probability Contours')\n",
    "plt.clabel(contours, inline = True );"
   ]
  }
 ],
 "metadata": {
  "kernelspec": {
   "display_name": "Python 3",
   "language": "python",
   "name": "python3"
  },
  "language_info": {
   "codemirror_mode": {
    "name": "ipython",
    "version": 3
   },
   "file_extension": ".py",
   "mimetype": "text/x-python",
   "name": "python",
   "nbconvert_exporter": "python",
   "pygments_lexer": "ipython3",
   "version": "3.6.12"
  },
  "papermill": {
   "duration": 151.647996,
   "end_time": "2020-09-29T00:09:39.836145",
   "environment_variables": {},
   "exception": null,
   "input_path": "2020-08-11-NeuralNetwork.ipynb",
   "output_path": "2020-08-11-NeuralNetwork.ipynb",
   "parameters": {},
   "start_time": "2020-09-29T00:07:08.188149",
   "version": "2.1.2"
  }
 },
 "nbformat": 4,
 "nbformat_minor": 4
}