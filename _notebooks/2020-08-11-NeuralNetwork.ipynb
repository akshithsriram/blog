{
 "cells": [
  {
   "cell_type": "markdown",
   "id": "fitted-suggestion",
   "metadata": {
    "papermill": {
     "duration": 0.036104,
     "end_time": "2021-07-28T10:05:23.736045",
     "exception": false,
     "start_time": "2021-07-28T10:05:23.699941",
     "status": "completed"
    },
    "tags": []
   },
   "source": [
    "# \"A Basic Neural Network: Differentiate Hand-Written Digits\"\n",
    "\n",
    "- badges: true\n",
    "- author: Akshith Sriram"
   ]
  },
  {
   "cell_type": "markdown",
   "id": "signal-flexibility",
   "metadata": {
    "papermill": {
     "duration": 0.032346,
     "end_time": "2021-07-28T10:05:23.801543",
     "exception": false,
     "start_time": "2021-07-28T10:05:23.769197",
     "status": "completed"
    },
    "tags": []
   },
   "source": [
    "### Key Objectives:\n",
    "- Building a neural network that differentiates two hand-written digits 3 and 8.\n",
    "- Comparing the results of this Neural Network (NN) to that of a Logistic Regression (LR) model.\n",
    "\n",
    "### Requirements:\n",
    "- 'Kudzu' : A neural network library that was designed during our course by [Univ.AI](www.univ.ai). \n",
    "- MNIST Database\n",
    "\n",
    "If MNIST is not installed, use the command `!pip install mnist` given below.\n",
    "It can be run both from the command line and Jupyter Notebook."
   ]
  },
  {
   "cell_type": "code",
   "execution_count": 1,
   "id": "british-texture",
   "metadata": {
    "execution": {
     "iopub.execute_input": "2021-07-28T10:05:23.877438Z",
     "iopub.status.busy": "2021-07-28T10:05:23.876732Z",
     "iopub.status.idle": "2021-07-28T10:05:25.614466Z",
     "shell.execute_reply": "2021-07-28T10:05:25.614991Z"
    },
    "papermill": {
     "duration": 1.781059,
     "end_time": "2021-07-28T10:05:25.615185",
     "exception": false,
     "start_time": "2021-07-28T10:05:23.834126",
     "status": "completed"
    },
    "tags": []
   },
   "outputs": [
    {
     "name": "stdout",
     "output_type": "stream",
     "text": [
      "Collecting mnist\r\n"
     ]
    },
    {
     "name": "stdout",
     "output_type": "stream",
     "text": [
      "  Downloading mnist-0.2.2-py2.py3-none-any.whl (3.5 kB)\r\n",
      "Requirement already satisfied: numpy in /opt/hostedtoolcache/Python/3.6.14/x64/lib/python3.6/site-packages (from mnist) (1.19.5)\r\n"
     ]
    },
    {
     "name": "stdout",
     "output_type": "stream",
     "text": [
      "Installing collected packages: mnist\r\n",
      "Successfully installed mnist-0.2.2\r\n",
      "\u001b[33mWARNING: You are using pip version 21.1.3; however, version 21.2.1 is available.\r\n",
      "You should consider upgrading via the '/opt/hostedtoolcache/Python/3.6.14/x64/bin/python -m pip install --upgrade pip' command.\u001b[0m\r\n"
     ]
    }
   ],
   "source": [
    "!pip install mnist "
   ]
  },
  {
   "cell_type": "markdown",
   "id": "stunning-extra",
   "metadata": {
    "papermill": {
     "duration": 0.033429,
     "end_time": "2021-07-28T10:05:25.682660",
     "exception": false,
     "start_time": "2021-07-28T10:05:25.649231",
     "status": "completed"
    },
    "tags": []
   },
   "source": [
    "#### Importing necessary libraries"
   ]
  },
  {
   "cell_type": "code",
   "execution_count": 2,
   "id": "wooden-france",
   "metadata": {
    "execution": {
     "iopub.execute_input": "2021-07-28T10:05:25.758105Z",
     "iopub.status.busy": "2021-07-28T10:05:25.757420Z",
     "iopub.status.idle": "2021-07-28T10:05:26.395328Z",
     "shell.execute_reply": "2021-07-28T10:05:26.394760Z"
    },
    "papermill": {
     "duration": 0.679517,
     "end_time": "2021-07-28T10:05:26.395475",
     "exception": false,
     "start_time": "2021-07-28T10:05:25.715958",
     "status": "completed"
    },
    "tags": []
   },
   "outputs": [],
   "source": [
    "%load_ext autoreload\n",
    "%autoreload 2\n",
    "\n",
    "%matplotlib inline\n",
    "import matplotlib.pyplot as plt\n",
    "\n",
    "import numpy as np\n",
    "import pandas as pd"
   ]
  },
  {
   "cell_type": "markdown",
   "id": "stunning-physics",
   "metadata": {
    "papermill": {
     "duration": 0.033692,
     "end_time": "2021-07-28T10:05:26.463130",
     "exception": false,
     "start_time": "2021-07-28T10:05:26.429438",
     "status": "completed"
    },
    "tags": []
   },
   "source": [
    "### Preparing the Data"
   ]
  },
  {
   "cell_type": "code",
   "execution_count": 3,
   "id": "unauthorized-remainder",
   "metadata": {
    "execution": {
     "iopub.execute_input": "2021-07-28T10:05:26.534465Z",
     "iopub.status.busy": "2021-07-28T10:05:26.533396Z",
     "iopub.status.idle": "2021-07-28T10:05:26.547695Z",
     "shell.execute_reply": "2021-07-28T10:05:26.548248Z"
    },
    "papermill": {
     "duration": 0.0524,
     "end_time": "2021-07-28T10:05:26.548415",
     "exception": false,
     "start_time": "2021-07-28T10:05:26.496015",
     "status": "completed"
    },
    "tags": []
   },
   "outputs": [],
   "source": [
    "import mnist"
   ]
  },
  {
   "cell_type": "code",
   "execution_count": 4,
   "id": "correct-antarctica",
   "metadata": {
    "execution": {
     "iopub.execute_input": "2021-07-28T10:05:26.620372Z",
     "iopub.status.busy": "2021-07-28T10:05:26.619706Z",
     "iopub.status.idle": "2021-07-28T10:10:00.068956Z",
     "shell.execute_reply": "2021-07-28T10:10:00.069542Z"
    },
    "papermill": {
     "duration": 273.488244,
     "end_time": "2021-07-28T10:10:00.069731",
     "exception": false,
     "start_time": "2021-07-28T10:05:26.581487",
     "status": "completed"
    },
    "tags": []
   },
   "outputs": [],
   "source": [
    "train_images = mnist.train_images()\n",
    "train_labels = mnist.train_labels()"
   ]
  },
  {
   "cell_type": "code",
   "execution_count": 5,
   "id": "musical-prospect",
   "metadata": {
    "execution": {
     "iopub.execute_input": "2021-07-28T10:10:00.144480Z",
     "iopub.status.busy": "2021-07-28T10:10:00.143825Z",
     "iopub.status.idle": "2021-07-28T10:10:00.157913Z",
     "shell.execute_reply": "2021-07-28T10:10:00.158601Z"
    },
    "papermill": {
     "duration": 0.054893,
     "end_time": "2021-07-28T10:10:00.158771",
     "exception": false,
     "start_time": "2021-07-28T10:10:00.103878",
     "status": "completed"
    },
    "tags": []
   },
   "outputs": [
    {
     "data": {
      "text/plain": [
       "((60000, 28, 28), (60000,))"
      ]
     },
     "execution_count": 5,
     "metadata": {},
     "output_type": "execute_result"
    }
   ],
   "source": [
    "train_images.shape, train_labels.shape"
   ]
  },
  {
   "cell_type": "code",
   "execution_count": 6,
   "id": "preliminary-elizabeth",
   "metadata": {
    "execution": {
     "iopub.execute_input": "2021-07-28T10:10:00.231998Z",
     "iopub.status.busy": "2021-07-28T10:10:00.231327Z",
     "iopub.status.idle": "2021-07-28T10:10:34.100214Z",
     "shell.execute_reply": "2021-07-28T10:10:34.099632Z"
    },
    "papermill": {
     "duration": 33.907841,
     "end_time": "2021-07-28T10:10:34.100354",
     "exception": false,
     "start_time": "2021-07-28T10:10:00.192513",
     "status": "completed"
    },
    "tags": []
   },
   "outputs": [],
   "source": [
    "test_images = mnist.test_images()\n",
    "test_labels = mnist.test_labels()"
   ]
  },
  {
   "cell_type": "code",
   "execution_count": 7,
   "id": "acknowledged-oxygen",
   "metadata": {
    "execution": {
     "iopub.execute_input": "2021-07-28T10:10:34.177883Z",
     "iopub.status.busy": "2021-07-28T10:10:34.177224Z",
     "iopub.status.idle": "2021-07-28T10:10:34.192883Z",
     "shell.execute_reply": "2021-07-28T10:10:34.193420Z"
    },
    "papermill": {
     "duration": 0.058901,
     "end_time": "2021-07-28T10:10:34.193587",
     "exception": false,
     "start_time": "2021-07-28T10:10:34.134686",
     "status": "completed"
    },
    "tags": []
   },
   "outputs": [
    {
     "data": {
      "text/plain": [
       "((10000, 28, 28), (10000,))"
      ]
     },
     "execution_count": 7,
     "metadata": {},
     "output_type": "execute_result"
    }
   ],
   "source": [
    "test_images.shape, test_labels.shape"
   ]
  },
  {
   "cell_type": "code",
   "execution_count": 8,
   "id": "innovative-organic",
   "metadata": {
    "execution": {
     "iopub.execute_input": "2021-07-28T10:10:34.268072Z",
     "iopub.status.busy": "2021-07-28T10:10:34.267411Z",
     "iopub.status.idle": "2021-07-28T10:10:34.440043Z",
     "shell.execute_reply": "2021-07-28T10:10:34.440541Z"
    },
    "papermill": {
     "duration": 0.212124,
     "end_time": "2021-07-28T10:10:34.440703",
     "exception": false,
     "start_time": "2021-07-28T10:10:34.228579",
     "status": "completed"
    },
    "tags": []
   },
   "outputs": [
    {
     "name": "stdout",
     "output_type": "stream",
     "text": [
      "2\n"
     ]
    },
    {
     "data": {
      "text/plain": [
       "<matplotlib.image.AxesImage at 0x7f4c81b52588>"
      ]
     },
     "execution_count": 8,
     "metadata": {},
     "output_type": "execute_result"
    },
    {
     "data": {
      "image/png": "[encoded data removed]",
      "text/plain": [
       "<Figure size 432x288 with 1 Axes>"
      ]
     },
     "metadata": {
      "needs_background": "light"
     },
     "output_type": "display_data"
    }
   ],
   "source": [
    "image_index = 7776 # You may select anything up to 60,000\n",
    "print(train_labels[image_index]) \n",
    "plt.imshow(train_images[image_index], cmap='Greys')"
   ]
  },
  {
   "cell_type": "markdown",
   "id": "facial-modem",
   "metadata": {
    "papermill": {
     "duration": 0.038495,
     "end_time": "2021-07-28T10:10:34.516520",
     "exception": false,
     "start_time": "2021-07-28T10:10:34.478025",
     "status": "completed"
    },
    "tags": []
   },
   "source": [
    "## Filter data to get 3 and 8 out"
   ]
  },
  {
   "cell_type": "code",
   "execution_count": 9,
   "id": "thousand-acquisition",
   "metadata": {
    "execution": {
     "iopub.execute_input": "2021-07-28T10:10:34.593494Z",
     "iopub.status.busy": "2021-07-28T10:10:34.592804Z",
     "iopub.status.idle": "2021-07-28T10:10:34.609883Z",
     "shell.execute_reply": "2021-07-28T10:10:34.610397Z"
    },
    "papermill": {
     "duration": 0.058393,
     "end_time": "2021-07-28T10:10:34.610566",
     "exception": false,
     "start_time": "2021-07-28T10:10:34.552173",
     "status": "completed"
    },
    "tags": []
   },
   "outputs": [],
   "source": [
    "train_filter = np.where((train_labels == 3 ) | (train_labels == 8))\n",
    "test_filter = np.where((test_labels == 3) | (test_labels == 8))\n",
    "X_train, y_train = train_images[train_filter], train_labels[train_filter]\n",
    "X_test, y_test = test_images[test_filter], test_labels[test_filter]"
   ]
  },
  {
   "cell_type": "markdown",
   "id": "ruled-access",
   "metadata": {
    "papermill": {
     "duration": 0.036967,
     "end_time": "2021-07-28T10:10:34.684580",
     "exception": false,
     "start_time": "2021-07-28T10:10:34.647613",
     "status": "completed"
    },
    "tags": []
   },
   "source": [
    "We normalize the pixel values in the 0 to 1 range"
   ]
  },
  {
   "cell_type": "code",
   "execution_count": 10,
   "id": "isolated-denver",
   "metadata": {
    "execution": {
     "iopub.execute_input": "2021-07-28T10:10:34.759322Z",
     "iopub.status.busy": "2021-07-28T10:10:34.758653Z",
     "iopub.status.idle": "2021-07-28T10:10:34.816366Z",
     "shell.execute_reply": "2021-07-28T10:10:34.815805Z"
    },
    "papermill": {
     "duration": 0.097766,
     "end_time": "2021-07-28T10:10:34.816513",
     "exception": false,
     "start_time": "2021-07-28T10:10:34.718747",
     "status": "completed"
    },
    "tags": []
   },
   "outputs": [],
   "source": [
    "X_train = X_train/255.\n",
    "X_test = X_test/255."
   ]
  },
  {
   "cell_type": "markdown",
   "id": "perfect-summary",
   "metadata": {
    "papermill": {
     "duration": 0.036285,
     "end_time": "2021-07-28T10:10:34.888895",
     "exception": false,
     "start_time": "2021-07-28T10:10:34.852610",
     "status": "completed"
    },
    "tags": []
   },
   "source": [
    "Setup the labels as 1 (when the digit is 3) and 0 (when the digit is 8)"
   ]
  },
  {
   "cell_type": "code",
   "execution_count": 11,
   "id": "personalized-growing",
   "metadata": {
    "execution": {
     "iopub.execute_input": "2021-07-28T10:10:34.963300Z",
     "iopub.status.busy": "2021-07-28T10:10:34.962642Z",
     "iopub.status.idle": "2021-07-28T10:10:34.977804Z",
     "shell.execute_reply": "2021-07-28T10:10:34.977036Z"
    },
    "papermill": {
     "duration": 0.054634,
     "end_time": "2021-07-28T10:10:34.977992",
     "exception": false,
     "start_time": "2021-07-28T10:10:34.923358",
     "status": "completed"
    },
    "tags": []
   },
   "outputs": [],
   "source": [
    "y_train = 1*(y_train==3)\n",
    "y_test = 1*(y_test==3)"
   ]
  },
  {
   "cell_type": "code",
   "execution_count": 12,
   "id": "considered-virgin",
   "metadata": {
    "execution": {
     "iopub.execute_input": "2021-07-28T10:10:35.054494Z",
     "iopub.status.busy": "2021-07-28T10:10:35.053845Z",
     "iopub.status.idle": "2021-07-28T10:10:35.067948Z",
     "shell.execute_reply": "2021-07-28T10:10:35.068615Z"
    },
    "papermill": {
     "duration": 0.054771,
     "end_time": "2021-07-28T10:10:35.068774",
     "exception": false,
     "start_time": "2021-07-28T10:10:35.014003",
     "status": "completed"
    },
    "tags": []
   },
   "outputs": [
    {
     "data": {
      "text/plain": [
       "((11982, 28, 28), (1984, 28, 28))"
      ]
     },
     "execution_count": 12,
     "metadata": {},
     "output_type": "execute_result"
    }
   ],
   "source": [
    "X_train.shape, X_test.shape"
   ]
  },
  {
   "cell_type": "markdown",
   "id": "civilian-mobile",
   "metadata": {
    "papermill": {
     "duration": 0.034278,
     "end_time": "2021-07-28T10:10:35.137669",
     "exception": false,
     "start_time": "2021-07-28T10:10:35.103391",
     "status": "completed"
    },
    "tags": []
   },
   "source": [
    "### Reshape the input data to create a linear array"
   ]
  },
  {
   "cell_type": "code",
   "execution_count": 13,
   "id": "colonial-adams",
   "metadata": {
    "execution": {
     "iopub.execute_input": "2021-07-28T10:10:35.215120Z",
     "iopub.status.busy": "2021-07-28T10:10:35.214460Z",
     "iopub.status.idle": "2021-07-28T10:10:35.227760Z",
     "shell.execute_reply": "2021-07-28T10:10:35.226959Z"
    },
    "papermill": {
     "duration": 0.055228,
     "end_time": "2021-07-28T10:10:35.227902",
     "exception": false,
     "start_time": "2021-07-28T10:10:35.172674",
     "status": "completed"
    },
    "tags": []
   },
   "outputs": [
    {
     "data": {
      "text/plain": [
       "((11982, 784), (1984, 784))"
      ]
     },
     "execution_count": 13,
     "metadata": {},
     "output_type": "execute_result"
    }
   ],
   "source": [
    "X_train = X_train.reshape(X_train.shape[0], -1)\n",
    "X_test = X_test.reshape(X_test.shape[0], -1)\n",
    "X_train.shape, X_test.shape"
   ]
  },
  {
   "cell_type": "markdown",
   "id": "smart-details",
   "metadata": {
    "papermill": {
     "duration": 0.035958,
     "end_time": "2021-07-28T10:10:35.299031",
     "exception": false,
     "start_time": "2021-07-28T10:10:35.263073",
     "status": "completed"
    },
    "tags": []
   },
   "source": [
    "### Importing appropriate functions from 'Kudzu'"
   ]
  },
  {
   "cell_type": "code",
   "execution_count": 14,
   "id": "celtic-trial",
   "metadata": {
    "execution": {
     "iopub.execute_input": "2021-07-28T10:10:35.377975Z",
     "iopub.status.busy": "2021-07-28T10:10:35.377225Z",
     "iopub.status.idle": "2021-07-28T10:10:35.395691Z",
     "shell.execute_reply": "2021-07-28T10:10:35.396236Z"
    },
    "papermill": {
     "duration": 0.061387,
     "end_time": "2021-07-28T10:10:35.396392",
     "exception": false,
     "start_time": "2021-07-28T10:10:35.335005",
     "status": "completed"
    },
    "tags": []
   },
   "outputs": [],
   "source": [
    "from kudzu.layer import Sigmoid\n",
    "from kudzu.layer import Relu\n",
    "from kudzu.layer import Affine, Sigmoid\n",
    "\n",
    "from kudzu.model import Model\n",
    "from kudzu.train import Learner\n",
    "from kudzu.optim import GD\n",
    "from kudzu.data import Data, Dataloader, Sampler\n",
    "\n",
    "from kudzu.callbacks import AccCallback\n",
    "from kudzu.callbacks import ClfCallback\n",
    "\n",
    "from kudzu.loss import MSE"
   ]
  },
  {
   "cell_type": "markdown",
   "id": "coupled-customer",
   "metadata": {
    "papermill": {
     "duration": 0.03556,
     "end_time": "2021-07-28T10:10:35.466355",
     "exception": false,
     "start_time": "2021-07-28T10:10:35.430795",
     "status": "completed"
    },
    "tags": []
   },
   "source": [
    "### Let us create a `Config` class, to store important parameters. \n",
    "This class essentially plays the role of a dictionary."
   ]
  },
  {
   "cell_type": "code",
   "execution_count": 15,
   "id": "young-ceiling",
   "metadata": {
    "execution": {
     "iopub.execute_input": "2021-07-28T10:10:35.545679Z",
     "iopub.status.busy": "2021-07-28T10:10:35.544997Z",
     "iopub.status.idle": "2021-07-28T10:10:35.556464Z",
     "shell.execute_reply": "2021-07-28T10:10:35.557026Z"
    },
    "papermill": {
     "duration": 0.055646,
     "end_time": "2021-07-28T10:10:35.557178",
     "exception": false,
     "start_time": "2021-07-28T10:10:35.501532",
     "status": "completed"
    },
    "tags": []
   },
   "outputs": [],
   "source": [
    "class Config:\n",
    "    pass\n",
    "config = Config()\n",
    "config.lr = 0.001\n",
    "config.num_epochs = 251\n",
    "config.bs = 50"
   ]
  },
  {
   "cell_type": "markdown",
   "id": "according-mandate",
   "metadata": {
    "papermill": {
     "duration": 0.035552,
     "end_time": "2021-07-28T10:10:35.626938",
     "exception": false,
     "start_time": "2021-07-28T10:10:35.591386",
     "status": "completed"
    },
    "tags": []
   },
   "source": [
    "### Initializing data to the variables"
   ]
  },
  {
   "cell_type": "code",
   "execution_count": 16,
   "id": "academic-disposition",
   "metadata": {
    "execution": {
     "iopub.execute_input": "2021-07-28T10:10:35.713988Z",
     "iopub.status.busy": "2021-07-28T10:10:35.706956Z",
     "iopub.status.idle": "2021-07-28T10:10:35.718657Z",
     "shell.execute_reply": "2021-07-28T10:10:35.719178Z"
    },
    "papermill": {
     "duration": 0.057116,
     "end_time": "2021-07-28T10:10:35.719335",
     "exception": false,
     "start_time": "2021-07-28T10:10:35.662219",
     "status": "completed"
    },
    "tags": []
   },
   "outputs": [],
   "source": [
    "data = Data(X_train, y_train.reshape(-1,1))\n",
    "sampler = Sampler(data, config.bs, shuffle=True)\n",
    "\n",
    "dl = Dataloader(data, sampler)\n",
    "\n",
    "opt = GD(config.lr)\n",
    "loss = MSE()"
   ]
  },
  {
   "cell_type": "code",
   "execution_count": 17,
   "id": "featured-commission",
   "metadata": {
    "execution": {
     "iopub.execute_input": "2021-07-28T10:10:35.798422Z",
     "iopub.status.busy": "2021-07-28T10:10:35.797784Z",
     "iopub.status.idle": "2021-07-28T10:10:35.809653Z",
     "shell.execute_reply": "2021-07-28T10:10:35.810194Z"
    },
    "papermill": {
     "duration": 0.0554,
     "end_time": "2021-07-28T10:10:35.810357",
     "exception": false,
     "start_time": "2021-07-28T10:10:35.754957",
     "status": "completed"
    },
    "tags": []
   },
   "outputs": [],
   "source": [
    "training_xdata = X_train\n",
    "testing_xdata = X_test\n",
    "training_ydata = y_train.reshape(-1,1)\n",
    "testing_ydata = y_test.reshape(-1,1)"
   ]
  },
  {
   "cell_type": "markdown",
   "id": "played-safety",
   "metadata": {
    "papermill": {
     "duration": 0.03729,
     "end_time": "2021-07-28T10:10:35.884366",
     "exception": false,
     "start_time": "2021-07-28T10:10:35.847076",
     "status": "completed"
    },
    "tags": []
   },
   "source": [
    "### Running Models with the Training data\n",
    "Details about the network layers:\n",
    "- A first affine layer has 784 inputs and does 100 affine transforms. These are followed by a Relu\n",
    "- A second affine layer has 100 inputs from the 100 activations of the past layer, and does 100 affine transforms. These are followed by a Relu\n",
    "- A third affine layer has 100 activations and does 2 affine transformations to create an embedding for visualization. There is no non-linearity here.\n",
    "- A final \"logistic regression\" which has an affine transform from 2 inputs to 1 output, which is squeezed through a sigmoid.\n",
    "\n",
    "Help taken from Anshuman's Notebook."
   ]
  },
  {
   "cell_type": "code",
   "execution_count": 18,
   "id": "asian-bankruptcy",
   "metadata": {
    "execution": {
     "iopub.execute_input": "2021-07-28T10:10:35.959900Z",
     "iopub.status.busy": "2021-07-28T10:10:35.959237Z",
     "iopub.status.idle": "2021-07-28T10:10:35.975330Z",
     "shell.execute_reply": "2021-07-28T10:10:35.974817Z"
    },
    "papermill": {
     "duration": 0.055348,
     "end_time": "2021-07-28T10:10:35.975447",
     "exception": false,
     "start_time": "2021-07-28T10:10:35.920099",
     "status": "completed"
    },
    "tags": []
   },
   "outputs": [],
   "source": [
    "# layers for the Neural Network\n",
    "layers = [Affine(\"first\", 784, 100), Relu(\"first\"), Affine(\"second\", 100, 100), Relu(\"second\"), Affine(\"third\", 100, 2), Affine(\"final\", 2, 1), Sigmoid(\"final\")]\n",
    "model_nn = Model(layers)\n",
    "\n",
    "# layers for the Logistic Regression\n",
    "layers_lr = [Affine(\"logits\", 784, 1), Sigmoid(\"sigmoid\")]\n",
    "model_lr = Model(layers_lr)"
   ]
  },
  {
   "cell_type": "code",
   "execution_count": 19,
   "id": "removed-butler",
   "metadata": {
    "execution": {
     "iopub.execute_input": "2021-07-28T10:10:36.049161Z",
     "iopub.status.busy": "2021-07-28T10:10:36.048448Z",
     "iopub.status.idle": "2021-07-28T10:10:36.062995Z",
     "shell.execute_reply": "2021-07-28T10:10:36.062413Z"
    },
    "papermill": {
     "duration": 0.05344,
     "end_time": "2021-07-28T10:10:36.063129",
     "exception": false,
     "start_time": "2021-07-28T10:10:36.009689",
     "status": "completed"
    },
    "tags": []
   },
   "outputs": [],
   "source": [
    "# suffix _nn stands for Neural Network.\n",
    "learner_nn = Learner(loss, model_nn, opt, config.num_epochs)\n",
    "acc_nn = ClfCallback(learner_nn, config.bs, training_xdata , testing_xdata, training_ydata, testing_ydata)\n",
    "learner_nn.set_callbacks([acc_nn])"
   ]
  },
  {
   "cell_type": "code",
   "execution_count": 20,
   "id": "conceptual-throw",
   "metadata": {
    "execution": {
     "iopub.execute_input": "2021-07-28T10:10:36.140849Z",
     "iopub.status.busy": "2021-07-28T10:10:36.140151Z",
     "iopub.status.idle": "2021-07-28T10:12:44.144454Z",
     "shell.execute_reply": "2021-07-28T10:12:44.145351Z"
    },
    "papermill": {
     "duration": 128.046203,
     "end_time": "2021-07-28T10:12:44.145520",
     "exception": false,
     "start_time": "2021-07-28T10:10:36.099317",
     "status": "completed"
    },
    "tags": []
   },
   "outputs": [
    {
     "name": "stdout",
     "output_type": "stream",
     "text": [
      "====== Neural Network ======\n"
     ]
    },
    {
     "name": "stdout",
     "output_type": "stream",
     "text": [
      "Epoch 0, Loss 0.2507\n",
      "Training Accuracy: 0.6125, Testing Accuracy: 0.6114\n",
      "\n"
     ]
    },
    {
     "name": "stdout",
     "output_type": "stream",
     "text": [
      "Epoch 10, Loss 0.088\n",
      "Training Accuracy: 0.9133, Testing Accuracy: 0.9183\n",
      "\n"
     ]
    },
    {
     "name": "stdout",
     "output_type": "stream",
     "text": [
      "Epoch 20, Loss 0.0535\n",
      "Training Accuracy: 0.9444, Testing Accuracy: 0.9526\n",
      "\n"
     ]
    },
    {
     "name": "stdout",
     "output_type": "stream",
     "text": [
      "Epoch 30, Loss 0.0419\n",
      "Training Accuracy: 0.9528, Testing Accuracy: 0.9607\n",
      "\n"
     ]
    },
    {
     "name": "stdout",
     "output_type": "stream",
     "text": [
      "Epoch 40, Loss 0.0362\n",
      "Training Accuracy: 0.9589, Testing Accuracy: 0.9662\n",
      "\n"
     ]
    },
    {
     "name": "stdout",
     "output_type": "stream",
     "text": [
      "Epoch 50, Loss 0.0327\n",
      "Training Accuracy: 0.9624, Testing Accuracy: 0.9677\n",
      "\n"
     ]
    },
    {
     "name": "stdout",
     "output_type": "stream",
     "text": [
      "Epoch 60, Loss 0.0302\n",
      "Training Accuracy: 0.9652, Testing Accuracy: 0.9682\n",
      "\n"
     ]
    },
    {
     "name": "stdout",
     "output_type": "stream",
     "text": [
      "Epoch 70, Loss 0.0284\n",
      "Training Accuracy: 0.9673, Testing Accuracy: 0.9703\n",
      "\n"
     ]
    },
    {
     "name": "stdout",
     "output_type": "stream",
     "text": [
      "Epoch 80, Loss 0.0269\n",
      "Training Accuracy: 0.9694, Testing Accuracy: 0.9703\n",
      "\n"
     ]
    },
    {
     "name": "stdout",
     "output_type": "stream",
     "text": [
      "Epoch 90, Loss 0.0256\n",
      "Training Accuracy: 0.9707, Testing Accuracy: 0.9713\n",
      "\n"
     ]
    },
    {
     "name": "stdout",
     "output_type": "stream",
     "text": [
      "Epoch 100, Loss 0.0246\n",
      "Training Accuracy: 0.9721, Testing Accuracy: 0.9718\n",
      "\n"
     ]
    },
    {
     "name": "stdout",
     "output_type": "stream",
     "text": [
      "Epoch 110, Loss 0.0237\n",
      "Training Accuracy: 0.9736, Testing Accuracy: 0.9723\n",
      "\n"
     ]
    },
    {
     "name": "stdout",
     "output_type": "stream",
     "text": [
      "Epoch 120, Loss 0.0229\n",
      "Training Accuracy: 0.9740, Testing Accuracy: 0.9723\n",
      "\n"
     ]
    },
    {
     "name": "stdout",
     "output_type": "stream",
     "text": [
      "Epoch 130, Loss 0.0221\n",
      "Training Accuracy: 0.9751, Testing Accuracy: 0.9723\n",
      "\n"
     ]
    },
    {
     "name": "stdout",
     "output_type": "stream",
     "text": [
      "Epoch 140, Loss 0.0215\n",
      "Training Accuracy: 0.9761, Testing Accuracy: 0.9718\n",
      "\n"
     ]
    },
    {
     "name": "stdout",
     "output_type": "stream",
     "text": [
      "Epoch 150, Loss 0.0209\n",
      "Training Accuracy: 0.9767, Testing Accuracy: 0.9723\n",
      "\n"
     ]
    },
    {
     "name": "stdout",
     "output_type": "stream",
     "text": [
      "Epoch 160, Loss 0.0203\n",
      "Training Accuracy: 0.9775, Testing Accuracy: 0.9728\n",
      "\n"
     ]
    },
    {
     "name": "stdout",
     "output_type": "stream",
     "text": [
      "Epoch 170, Loss 0.0198\n",
      "Training Accuracy: 0.9781, Testing Accuracy: 0.9733\n",
      "\n"
     ]
    },
    {
     "name": "stdout",
     "output_type": "stream",
     "text": [
      "Epoch 180, Loss 0.0193\n",
      "Training Accuracy: 0.9787, Testing Accuracy: 0.9743\n",
      "\n"
     ]
    },
    {
     "name": "stdout",
     "output_type": "stream",
     "text": [
      "Epoch 190, Loss 0.0188\n",
      "Training Accuracy: 0.9792, Testing Accuracy: 0.9748\n",
      "\n"
     ]
    },
    {
     "name": "stdout",
     "output_type": "stream",
     "text": [
      "Epoch 200, Loss 0.0183\n",
      "Training Accuracy: 0.9798, Testing Accuracy: 0.9748\n",
      "\n"
     ]
    },
    {
     "name": "stdout",
     "output_type": "stream",
     "text": [
      "Epoch 210, Loss 0.0179\n",
      "Training Accuracy: 0.9806, Testing Accuracy: 0.9753\n",
      "\n"
     ]
    },
    {
     "name": "stdout",
     "output_type": "stream",
     "text": [
      "Epoch 220, Loss 0.0175\n",
      "Training Accuracy: 0.9810, Testing Accuracy: 0.9763\n",
      "\n"
     ]
    },
    {
     "name": "stdout",
     "output_type": "stream",
     "text": [
      "Epoch 230, Loss 0.0171\n",
      "Training Accuracy: 0.9816, Testing Accuracy: 0.9763\n",
      "\n"
     ]
    },
    {
     "name": "stdout",
     "output_type": "stream",
     "text": [
      "Epoch 240, Loss 0.0167\n",
      "Training Accuracy: 0.9824, Testing Accuracy: 0.9773\n",
      "\n"
     ]
    },
    {
     "name": "stdout",
     "output_type": "stream",
     "text": [
      "Epoch 250, Loss 0.0163\n",
      "Training Accuracy: 0.9827, Testing Accuracy: 0.9778\n",
      "\n"
     ]
    },
    {
     "data": {
      "text/plain": [
       "0.050760241137387134"
      ]
     },
     "execution_count": 20,
     "metadata": {},
     "output_type": "execute_result"
    }
   ],
   "source": [
    "print(\"====== Neural Network ======\")\n",
    "learner_nn.train_loop(dl)"
   ]
  },
  {
   "cell_type": "markdown",
   "id": "competent-suffering",
   "metadata": {
    "papermill": {
     "duration": 0.044692,
     "end_time": "2021-07-28T10:12:44.235985",
     "exception": false,
     "start_time": "2021-07-28T10:12:44.191293",
     "status": "completed"
    },
    "tags": []
   },
   "source": [
    "### Logistic Regression based Implementation."
   ]
  },
  {
   "cell_type": "code",
   "execution_count": 21,
   "id": "qualified-psychiatry",
   "metadata": {
    "execution": {
     "iopub.execute_input": "2021-07-28T10:12:44.340082Z",
     "iopub.status.busy": "2021-07-28T10:12:44.339440Z",
     "iopub.status.idle": "2021-07-28T10:12:44.350543Z",
     "shell.execute_reply": "2021-07-28T10:12:44.351068Z"
    },
    "papermill": {
     "duration": 0.065312,
     "end_time": "2021-07-28T10:12:44.351227",
     "exception": false,
     "start_time": "2021-07-28T10:12:44.285915",
     "status": "completed"
    },
    "tags": []
   },
   "outputs": [],
   "source": [
    "learner_lr = Learner(loss, model_lr, opt, config.num_epochs)\n",
    "acc_lr = ClfCallback(learner_lr, config.bs, training_xdata , testing_xdata, training_ydata, testing_ydata)\n",
    "learner_lr.set_callbacks([acc_lr])"
   ]
  },
  {
   "cell_type": "code",
   "execution_count": 22,
   "id": "average-outside",
   "metadata": {
    "execution": {
     "iopub.execute_input": "2021-07-28T10:12:44.455850Z",
     "iopub.status.busy": "2021-07-28T10:12:44.455188Z",
     "iopub.status.idle": "2021-07-28T10:13:02.880917Z",
     "shell.execute_reply": "2021-07-28T10:13:02.881775Z"
    },
    "papermill": {
     "duration": 18.477372,
     "end_time": "2021-07-28T10:13:02.881946",
     "exception": false,
     "start_time": "2021-07-28T10:12:44.404574",
     "status": "completed"
    },
    "tags": []
   },
   "outputs": [
    {
     "name": "stdout",
     "output_type": "stream",
     "text": [
      "====== Logistic Regression ======\n",
      "Epoch 0, Loss 0.2474\n",
      "Training Accuracy: 0.6380, Testing Accuracy: 0.6285\n",
      "\n"
     ]
    },
    {
     "name": "stdout",
     "output_type": "stream",
     "text": [
      "Epoch 10, Loss 0.1039\n",
      "Training Accuracy: 0.9086, Testing Accuracy: 0.9214\n",
      "\n"
     ]
    },
    {
     "name": "stdout",
     "output_type": "stream",
     "text": [
      "Epoch 20, Loss 0.0791\n",
      "Training Accuracy: 0.9286, Testing Accuracy: 0.9415\n",
      "\n"
     ]
    },
    {
     "name": "stdout",
     "output_type": "stream",
     "text": [
      "Epoch 30, Loss 0.068\n",
      "Training Accuracy: 0.9379, Testing Accuracy: 0.9486\n",
      "\n"
     ]
    },
    {
     "name": "stdout",
     "output_type": "stream",
     "text": [
      "Epoch 40, Loss 0.0613\n",
      "Training Accuracy: 0.9426, Testing Accuracy: 0.9541\n",
      "\n"
     ]
    },
    {
     "name": "stdout",
     "output_type": "stream",
     "text": [
      "Epoch 50, Loss 0.0569\n",
      "Training Accuracy: 0.9462, Testing Accuracy: 0.9561\n",
      "\n"
     ]
    },
    {
     "name": "stdout",
     "output_type": "stream",
     "text": [
      "Epoch 60, Loss 0.0536\n",
      "Training Accuracy: 0.9483, Testing Accuracy: 0.9587\n",
      "\n"
     ]
    },
    {
     "name": "stdout",
     "output_type": "stream",
     "text": [
      "Epoch 70, Loss 0.051\n",
      "Training Accuracy: 0.9496, Testing Accuracy: 0.9587\n",
      "\n"
     ]
    },
    {
     "name": "stdout",
     "output_type": "stream",
     "text": [
      "Epoch 80, Loss 0.049\n",
      "Training Accuracy: 0.9516, Testing Accuracy: 0.9597\n",
      "\n"
     ]
    },
    {
     "name": "stdout",
     "output_type": "stream",
     "text": [
      "Epoch 90, Loss 0.0473\n",
      "Training Accuracy: 0.9531, Testing Accuracy: 0.9617\n",
      "\n"
     ]
    },
    {
     "name": "stdout",
     "output_type": "stream",
     "text": [
      "Epoch 100, Loss 0.0459\n",
      "Training Accuracy: 0.9543, Testing Accuracy: 0.9637\n",
      "\n"
     ]
    },
    {
     "name": "stdout",
     "output_type": "stream",
     "text": [
      "Epoch 110, Loss 0.0447\n",
      "Training Accuracy: 0.9545, Testing Accuracy: 0.9647\n",
      "\n"
     ]
    },
    {
     "name": "stdout",
     "output_type": "stream",
     "text": [
      "Epoch 120, Loss 0.0436\n",
      "Training Accuracy: 0.9554, Testing Accuracy: 0.9652\n",
      "\n"
     ]
    },
    {
     "name": "stdout",
     "output_type": "stream",
     "text": [
      "Epoch 130, Loss 0.0427\n",
      "Training Accuracy: 0.9563, Testing Accuracy: 0.9652\n",
      "\n"
     ]
    },
    {
     "name": "stdout",
     "output_type": "stream",
     "text": [
      "Epoch 140, Loss 0.0419\n",
      "Training Accuracy: 0.9574, Testing Accuracy: 0.9652\n",
      "\n"
     ]
    },
    {
     "name": "stdout",
     "output_type": "stream",
     "text": [
      "Epoch 150, Loss 0.0411\n",
      "Training Accuracy: 0.9579, Testing Accuracy: 0.9657\n",
      "\n"
     ]
    },
    {
     "name": "stdout",
     "output_type": "stream",
     "text": [
      "Epoch 160, Loss 0.0405\n",
      "Training Accuracy: 0.9580, Testing Accuracy: 0.9662\n",
      "\n"
     ]
    },
    {
     "name": "stdout",
     "output_type": "stream",
     "text": [
      "Epoch 170, Loss 0.0398\n",
      "Training Accuracy: 0.9581, Testing Accuracy: 0.9667\n",
      "\n"
     ]
    },
    {
     "name": "stdout",
     "output_type": "stream",
     "text": [
      "Epoch 180, Loss 0.0393\n",
      "Training Accuracy: 0.9588, Testing Accuracy: 0.9672\n",
      "\n"
     ]
    },
    {
     "name": "stdout",
     "output_type": "stream",
     "text": [
      "Epoch 190, Loss 0.0388\n",
      "Training Accuracy: 0.9593, Testing Accuracy: 0.9672\n",
      "\n"
     ]
    },
    {
     "name": "stdout",
     "output_type": "stream",
     "text": [
      "Epoch 200, Loss 0.0383\n",
      "Training Accuracy: 0.9599, Testing Accuracy: 0.9677\n",
      "\n"
     ]
    },
    {
     "name": "stdout",
     "output_type": "stream",
     "text": [
      "Epoch 210, Loss 0.0379\n",
      "Training Accuracy: 0.9603, Testing Accuracy: 0.9677\n",
      "\n"
     ]
    },
    {
     "name": "stdout",
     "output_type": "stream",
     "text": [
      "Epoch 220, Loss 0.0375\n",
      "Training Accuracy: 0.9607, Testing Accuracy: 0.9682\n",
      "\n"
     ]
    },
    {
     "name": "stdout",
     "output_type": "stream",
     "text": [
      "Epoch 230, Loss 0.0371\n",
      "Training Accuracy: 0.9610, Testing Accuracy: 0.9688\n",
      "\n"
     ]
    },
    {
     "name": "stdout",
     "output_type": "stream",
     "text": [
      "Epoch 240, Loss 0.0367\n",
      "Training Accuracy: 0.9613, Testing Accuracy: 0.9688\n",
      "\n"
     ]
    },
    {
     "name": "stdout",
     "output_type": "stream",
     "text": [
      "Epoch 250, Loss 0.0364\n",
      "Training Accuracy: 0.9615, Testing Accuracy: 0.9698\n",
      "\n"
     ]
    },
    {
     "data": {
      "text/plain": [
       "0.06362680958105023"
      ]
     },
     "execution_count": 22,
     "metadata": {},
     "output_type": "execute_result"
    }
   ],
   "source": [
    "print(\"====== Logistic Regression ======\")\n",
    "learner_lr.train_loop(dl)"
   ]
  },
  {
   "cell_type": "markdown",
   "id": "adjusted-possible",
   "metadata": {
    "papermill": {
     "duration": 0.05981,
     "end_time": "2021-07-28T10:13:03.001129",
     "exception": false,
     "start_time": "2021-07-28T10:13:02.941319",
     "status": "completed"
    },
    "tags": []
   },
   "source": [
    "### Comparing results of NN and LR"
   ]
  },
  {
   "cell_type": "code",
   "execution_count": 23,
   "id": "mental-multimedia",
   "metadata": {
    "execution": {
     "iopub.execute_input": "2021-07-28T10:13:03.121192Z",
     "iopub.status.busy": "2021-07-28T10:13:03.120358Z",
     "iopub.status.idle": "2021-07-28T10:13:03.428822Z",
     "shell.execute_reply": "2021-07-28T10:13:03.428251Z"
    },
    "papermill": {
     "duration": 0.370287,
     "end_time": "2021-07-28T10:13:03.428959",
     "exception": false,
     "start_time": "2021-07-28T10:13:03.058672",
     "status": "completed"
    },
    "tags": []
   },
   "outputs": [
    {
     "data": {
      "text/plain": [
       "<matplotlib.legend.Legend at 0x7f4c74f0b1d0>"
      ]
     },
     "execution_count": 23,
     "metadata": {},
     "output_type": "execute_result"
    },
    {
     "data": {
      "image/png": "[encoded data removed]",
      "text/plain": [
       "<Figure size 1080x720 with 1 Axes>"
      ]
     },
     "metadata": {
      "needs_background": "light"
     },
     "output_type": "display_data"
    }
   ],
   "source": [
    "plt.figure(figsize=(15,10))\n",
    "\n",
    "# Neural Network plots\n",
    "plt.plot(acc_nn.accuracies, 'r-', label = \"Training Accuracies - NN\")\n",
    "plt.plot(acc_nn.test_accuracies, 'g-', label = \"Testing Accuracies - NN\")\n",
    "\n",
    "# Logistic Regression plots\n",
    "plt.plot(acc_lr.accuracies, 'k-', label = \"Training Accuracies - LR\")\n",
    "plt.plot(acc_lr.test_accuracies, 'b-', label = \"Testing Accuracies - LR\")\n",
    "\n",
    "plt.ylim(0.8, 1)\n",
    "\n",
    "plt.legend()\n",
    "\n"
   ]
  },
  {
   "cell_type": "markdown",
   "id": "sexual-flesh",
   "metadata": {
    "papermill": {
     "duration": 0.056516,
     "end_time": "2021-07-28T10:13:03.542051",
     "exception": false,
     "start_time": "2021-07-28T10:13:03.485535",
     "status": "completed"
    },
    "tags": []
   },
   "source": [
    "### From the plot, we can observe the following:\n",
    "- Neural Network achieves higher accuracy than the Logistic Regression model.\n",
    "- This apparently, is because of overfitting, i.e. NN captures more noise than data.\n",
    "- Testing accuracy of NN drops below the Training accuracy at higher epochs. This explains the over-fitting on training data.\n",
    "- Logistic Regression gives a reliable accuracy, without the above mentioned problem.\n"
   ]
  },
  {
   "cell_type": "markdown",
   "id": "institutional-pacific",
   "metadata": {
    "papermill": {
     "duration": 0.057029,
     "end_time": "2021-07-28T10:13:03.657292",
     "exception": false,
     "start_time": "2021-07-28T10:13:03.600263",
     "status": "completed"
    },
    "tags": []
   },
   "source": [
    "### Moving till the last but one layer (excluding it).\n",
    "#### Plotting the outputs of this layer of the NN."
   ]
  },
  {
   "cell_type": "code",
   "execution_count": 24,
   "id": "economic-server",
   "metadata": {
    "execution": {
     "iopub.execute_input": "2021-07-28T10:13:03.779939Z",
     "iopub.status.busy": "2021-07-28T10:13:03.779270Z",
     "iopub.status.idle": "2021-07-28T10:13:03.792155Z",
     "shell.execute_reply": "2021-07-28T10:13:03.791563Z"
    },
    "papermill": {
     "duration": 0.076134,
     "end_time": "2021-07-28T10:13:03.792281",
     "exception": false,
     "start_time": "2021-07-28T10:13:03.716147",
     "status": "completed"
    },
    "tags": []
   },
   "outputs": [],
   "source": [
    "model_new = Model(layers[:-2])"
   ]
  },
  {
   "cell_type": "code",
   "execution_count": 25,
   "id": "varied-upgrade",
   "metadata": {
    "execution": {
     "iopub.execute_input": "2021-07-28T10:13:03.938821Z",
     "iopub.status.busy": "2021-07-28T10:13:03.938175Z",
     "iopub.status.idle": "2021-07-28T10:13:03.967366Z",
     "shell.execute_reply": "2021-07-28T10:13:03.967987Z"
    },
    "papermill": {
     "duration": 0.118028,
     "end_time": "2021-07-28T10:13:03.968148",
     "exception": false,
     "start_time": "2021-07-28T10:13:03.850120",
     "status": "completed"
    },
    "tags": []
   },
   "outputs": [],
   "source": [
    "plot_testing = model_new(testing_xdata)"
   ]
  },
  {
   "cell_type": "code",
   "execution_count": 26,
   "id": "specific-handling",
   "metadata": {
    "execution": {
     "iopub.execute_input": "2021-07-28T10:13:04.108821Z",
     "iopub.status.busy": "2021-07-28T10:13:04.108086Z",
     "iopub.status.idle": "2021-07-28T10:13:04.411515Z",
     "shell.execute_reply": "2021-07-28T10:13:04.412010Z"
    },
    "papermill": {
     "duration": 0.375025,
     "end_time": "2021-07-28T10:13:04.412173",
     "exception": false,
     "start_time": "2021-07-28T10:13:04.037148",
     "status": "completed"
    },
    "tags": []
   },
   "outputs": [
    {
     "data": {
      "text/plain": [
       "Text(0.5, 1.0, 'Outputs')"
      ]
     },
     "execution_count": 26,
     "metadata": {},
     "output_type": "execute_result"
    },
    {
     "data": {
      "image/png": "[encoded data removed]",
      "text/plain": [
       "<Figure size 576x504 with 1 Axes>"
      ]
     },
     "metadata": {
      "needs_background": "light"
     },
     "output_type": "display_data"
    }
   ],
   "source": [
    "plt.figure(figsize=(8,7))\n",
    "plt.scatter(plot_testing[:,0], plot_testing[:,1], alpha = 0.1, c = y_test.ravel());\n",
    "plt.title('Outputs')"
   ]
  },
  {
   "cell_type": "markdown",
   "id": "described-knowing",
   "metadata": {
    "papermill": {
     "duration": 0.060144,
     "end_time": "2021-07-28T10:13:04.534267",
     "exception": false,
     "start_time": "2021-07-28T10:13:04.474123",
     "status": "completed"
    },
    "tags": []
   },
   "source": [
    "### Plotting probability contours"
   ]
  },
  {
   "cell_type": "code",
   "execution_count": 27,
   "id": "needed-growing",
   "metadata": {
    "execution": {
     "iopub.execute_input": "2021-07-28T10:13:04.657998Z",
     "iopub.status.busy": "2021-07-28T10:13:04.657350Z",
     "iopub.status.idle": "2021-07-28T10:13:04.671211Z",
     "shell.execute_reply": "2021-07-28T10:13:04.670656Z"
    },
    "papermill": {
     "duration": 0.078002,
     "end_time": "2021-07-28T10:13:04.671342",
     "exception": false,
     "start_time": "2021-07-28T10:13:04.593340",
     "status": "completed"
    },
    "tags": []
   },
   "outputs": [],
   "source": [
    "model_prob = Model(layers[-2:]) "
   ]
  },
  {
   "cell_type": "code",
   "execution_count": 28,
   "id": "introductory-enforcement",
   "metadata": {
    "execution": {
     "iopub.execute_input": "2021-07-28T10:13:04.798739Z",
     "iopub.status.busy": "2021-07-28T10:13:04.798084Z",
     "iopub.status.idle": "2021-07-28T10:13:04.811328Z",
     "shell.execute_reply": "2021-07-28T10:13:04.812178Z"
    },
    "papermill": {
     "duration": 0.081898,
     "end_time": "2021-07-28T10:13:04.812372",
     "exception": false,
     "start_time": "2021-07-28T10:13:04.730474",
     "status": "completed"
    },
    "tags": []
   },
   "outputs": [],
   "source": [
    "# Adjust the x and y ranges according to the above generated plot.\n",
    "x_range = np.linspace(-4, 1, 100) \n",
    "y_range = np.linspace(-6, 6, 100) \n",
    "x_grid, y_grid = np.meshgrid(x_range, y_range) # x_grid and y_grig are of size 100 X 100\n",
    "\n",
    "# converting x_grid and y_grid to continuous arrays\n",
    "x_grid_flat = np.ravel(x_grid)\n",
    "y_grid_flat = np.ravel(y_grid)\n",
    "\n",
    "# The last layer of the current model takes two columns as input. Hence transpose of np.vstack() is required.\n",
    "X = np.vstack((x_grid_flat, y_grid_flat)).T\n",
    "\n",
    "# x_grid and y_grid are of size 100 x 100\n",
    "probability_contour = model_prob(X).reshape(100,100) "
   ]
  },
  {
   "cell_type": "code",
   "execution_count": 29,
   "id": "understood-landing",
   "metadata": {
    "execution": {
     "iopub.execute_input": "2021-07-28T10:13:04.943170Z",
     "iopub.status.busy": "2021-07-28T10:13:04.942524Z",
     "iopub.status.idle": "2021-07-28T10:13:05.287461Z",
     "shell.execute_reply": "2021-07-28T10:13:05.286889Z"
    },
    "papermill": {
     "duration": 0.407413,
     "end_time": "2021-07-28T10:13:05.287596",
     "exception": false,
     "start_time": "2021-07-28T10:13:04.880183",
     "status": "completed"
    },
    "tags": []
   },
   "outputs": [
    {
     "data": {
      "image/png": "[encoded data removed]",
      "text/plain": [
       "<Figure size 720x648 with 1 Axes>"
      ]
     },
     "metadata": {
      "needs_background": "light"
     },
     "output_type": "display_data"
    }
   ],
   "source": [
    "plt.figure(figsize=(10,9))\n",
    "plt.scatter(plot_testing[:,0], plot_testing[:,1], alpha = 0.1, c = y_test.ravel())\n",
    "contours = plt.contour(x_grid,y_grid,probability_contour)\n",
    "plt.title('Probability Contours')\n",
    "plt.clabel(contours, inline = True );"
   ]
  }
 ],
 "metadata": {
  "kernelspec": {
   "display_name": "Python 3",
   "language": "python",
   "name": "python3"
  },
  "language_info": {
   "codemirror_mode": {
    "name": "ipython",
    "version": 3
   },
   "file_extension": ".py",
   "mimetype": "text/x-python",
   "name": "python",
   "nbconvert_exporter": "python",
   "pygments_lexer": "ipython3",
   "version": "3.6.14"
  },
  "papermill": {
   "duration": 463.240509,
   "end_time": "2021-07-28T10:13:05.772786",
   "environment_variables": {},
   "exception": null,
   "input_path": "2020-08-11-NeuralNetwork.ipynb",
   "output_path": "2020-08-11-NeuralNetwork.ipynb",
   "parameters": {},
   "start_time": "2021-07-28T10:05:22.532277",
   "version": "2.1.2"
  }
 },
 "nbformat": 4,
 "nbformat_minor": 5
}