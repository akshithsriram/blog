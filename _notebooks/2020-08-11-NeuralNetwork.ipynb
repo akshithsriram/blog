{
 "cells": [
  {
   "cell_type": "markdown",
   "metadata": {
    "papermill": {
     "duration": 0.035352,
     "end_time": "2020-12-25T10:09:23.748126",
     "exception": false,
     "start_time": "2020-12-25T10:09:23.712774",
     "status": "completed"
    },
    "tags": []
   },
   "source": [
    "# \"A Basic Neural Network: Differentiate Hand-Written Digits\"\n",
    "\n",
    "- badges: true\n",
    "- author: Akshith Sriram"
   ]
  },
  {
   "cell_type": "markdown",
   "metadata": {
    "papermill": {
     "duration": 0.030292,
     "end_time": "2020-12-25T10:09:23.807606",
     "exception": false,
     "start_time": "2020-12-25T10:09:23.777314",
     "status": "completed"
    },
    "tags": []
   },
   "source": [
    "### Key Objectives:\n",
    "- Building a neural network that differentiates two hand-written digits 3 and 8.\n",
    "- Comparing the results of this Neural Network (NN) to that of a Logistic Regression (LR) model.\n",
    "\n",
    "### Requirements:\n",
    "- 'Kudzu' : A neural network library that was designed during our course by [Univ.AI](www.univ.ai). \n",
    "- MNIST Database\n",
    "\n",
    "If MNIST is not installed, use the command `!pip install mnist` given below.\n",
    "It can be run both from the command line and Jupyter Notebook."
   ]
  },
  {
   "cell_type": "code",
   "execution_count": 1,
   "metadata": {
    "execution": {
     "iopub.execute_input": "2020-12-25T10:09:23.873121Z",
     "iopub.status.busy": "2020-12-25T10:09:23.872442Z",
     "iopub.status.idle": "2020-12-25T10:09:25.735730Z",
     "shell.execute_reply": "2020-12-25T10:09:25.735089Z"
    },
    "papermill": {
     "duration": 1.899457,
     "end_time": "2020-12-25T10:09:25.735916",
     "exception": false,
     "start_time": "2020-12-25T10:09:23.836459",
     "status": "completed"
    },
    "tags": []
   },
   "outputs": [
    {
     "name": "stdout",
     "output_type": "stream",
     "text": [
      "Collecting mnist\r\n"
     ]
    },
    {
     "name": "stdout",
     "output_type": "stream",
     "text": [
      "  Downloading mnist-0.2.2-py2.py3-none-any.whl (3.5 kB)\r\n",
      "Requirement already satisfied: numpy in /opt/hostedtoolcache/Python/3.6.12/x64/lib/python3.6/site-packages (from mnist) (1.19.4)\r\n"
     ]
    },
    {
     "name": "stdout",
     "output_type": "stream",
     "text": [
      "Installing collected packages: mnist\r\n"
     ]
    },
    {
     "name": "stdout",
     "output_type": "stream",
     "text": [
      "Successfully installed mnist-0.2.2\r\n"
     ]
    },
    {
     "name": "stdout",
     "output_type": "stream",
     "text": [
      "\u001b[33mWARNING: You are using pip version 20.3.1; however, version 20.3.3 is available.\r\n",
      "You should consider upgrading via the '/opt/hostedtoolcache/Python/3.6.12/x64/bin/python -m pip install --upgrade pip' command.\u001b[0m\r\n"
     ]
    }
   ],
   "source": [
    "!pip install mnist "
   ]
  },
  {
   "cell_type": "markdown",
   "metadata": {
    "papermill": {
     "duration": 0.030302,
     "end_time": "2020-12-25T10:09:25.796155",
     "exception": false,
     "start_time": "2020-12-25T10:09:25.765853",
     "status": "completed"
    },
    "tags": []
   },
   "source": [
    "#### Importing necessary libraries"
   ]
  },
  {
   "cell_type": "code",
   "execution_count": 2,
   "metadata": {
    "execution": {
     "iopub.execute_input": "2020-12-25T10:09:25.865833Z",
     "iopub.status.busy": "2020-12-25T10:09:25.861440Z",
     "iopub.status.idle": "2020-12-25T10:09:26.495868Z",
     "shell.execute_reply": "2020-12-25T10:09:26.495283Z"
    },
    "papermill": {
     "duration": 0.671637,
     "end_time": "2020-12-25T10:09:26.496028",
     "exception": false,
     "start_time": "2020-12-25T10:09:25.824391",
     "status": "completed"
    },
    "tags": []
   },
   "outputs": [],
   "source": [
    "%load_ext autoreload\n",
    "%autoreload 2\n",
    "\n",
    "%matplotlib inline\n",
    "import matplotlib.pyplot as plt\n",
    "\n",
    "import numpy as np\n",
    "import pandas as pd"
   ]
  },
  {
   "cell_type": "markdown",
   "metadata": {
    "papermill": {
     "duration": 0.029619,
     "end_time": "2020-12-25T10:09:26.555636",
     "exception": false,
     "start_time": "2020-12-25T10:09:26.526017",
     "status": "completed"
    },
    "tags": []
   },
   "source": [
    "### Preparing the Data"
   ]
  },
  {
   "cell_type": "code",
   "execution_count": 3,
   "metadata": {
    "execution": {
     "iopub.execute_input": "2020-12-25T10:09:26.634795Z",
     "iopub.status.busy": "2020-12-25T10:09:26.629098Z",
     "iopub.status.idle": "2020-12-25T10:09:26.637702Z",
     "shell.execute_reply": "2020-12-25T10:09:26.637119Z"
    },
    "papermill": {
     "duration": 0.050703,
     "end_time": "2020-12-25T10:09:26.637841",
     "exception": false,
     "start_time": "2020-12-25T10:09:26.587138",
     "status": "completed"
    },
    "tags": []
   },
   "outputs": [],
   "source": [
    "import mnist"
   ]
  },
  {
   "cell_type": "code",
   "execution_count": 4,
   "metadata": {
    "execution": {
     "iopub.execute_input": "2020-12-25T10:09:26.718138Z",
     "iopub.status.busy": "2020-12-25T10:09:26.709102Z",
     "iopub.status.idle": "2020-12-25T10:09:27.451766Z",
     "shell.execute_reply": "2020-12-25T10:09:27.451145Z"
    },
    "papermill": {
     "duration": 0.783622,
     "end_time": "2020-12-25T10:09:27.451924",
     "exception": false,
     "start_time": "2020-12-25T10:09:26.668302",
     "status": "completed"
    },
    "tags": []
   },
   "outputs": [],
   "source": [
    "train_images = mnist.train_images()\n",
    "train_labels = mnist.train_labels()"
   ]
  },
  {
   "cell_type": "code",
   "execution_count": 5,
   "metadata": {
    "execution": {
     "iopub.execute_input": "2020-12-25T10:09:27.517759Z",
     "iopub.status.busy": "2020-12-25T10:09:27.517099Z",
     "iopub.status.idle": "2020-12-25T10:09:27.532616Z",
     "shell.execute_reply": "2020-12-25T10:09:27.531808Z"
    },
    "papermill": {
     "duration": 0.052241,
     "end_time": "2020-12-25T10:09:27.532775",
     "exception": false,
     "start_time": "2020-12-25T10:09:27.480534",
     "status": "completed"
    },
    "tags": []
   },
   "outputs": [
    {
     "data": {
      "text/plain": [
       "((60000, 28, 28), (60000,))"
      ]
     },
     "execution_count": 5,
     "metadata": {},
     "output_type": "execute_result"
    }
   ],
   "source": [
    "train_images.shape, train_labels.shape"
   ]
  },
  {
   "cell_type": "code",
   "execution_count": 6,
   "metadata": {
    "execution": {
     "iopub.execute_input": "2020-12-25T10:09:27.602731Z",
     "iopub.status.busy": "2020-12-25T10:09:27.602059Z",
     "iopub.status.idle": "2020-12-25T10:09:27.868451Z",
     "shell.execute_reply": "2020-12-25T10:09:27.867778Z"
    },
    "papermill": {
     "duration": 0.300426,
     "end_time": "2020-12-25T10:09:27.868616",
     "exception": false,
     "start_time": "2020-12-25T10:09:27.568190",
     "status": "completed"
    },
    "tags": []
   },
   "outputs": [],
   "source": [
    "test_images = mnist.test_images()\n",
    "test_labels = mnist.test_labels()"
   ]
  },
  {
   "cell_type": "code",
   "execution_count": 7,
   "metadata": {
    "execution": {
     "iopub.execute_input": "2020-12-25T10:09:27.934005Z",
     "iopub.status.busy": "2020-12-25T10:09:27.933331Z",
     "iopub.status.idle": "2020-12-25T10:09:27.946914Z",
     "shell.execute_reply": "2020-12-25T10:09:27.946370Z"
    },
    "papermill": {
     "duration": 0.047446,
     "end_time": "2020-12-25T10:09:27.947059",
     "exception": false,
     "start_time": "2020-12-25T10:09:27.899613",
     "status": "completed"
    },
    "tags": []
   },
   "outputs": [
    {
     "data": {
      "text/plain": [
       "((10000, 28, 28), (10000,))"
      ]
     },
     "execution_count": 7,
     "metadata": {},
     "output_type": "execute_result"
    }
   ],
   "source": [
    "test_images.shape, test_labels.shape"
   ]
  },
  {
   "cell_type": "code",
   "execution_count": 8,
   "metadata": {
    "execution": {
     "iopub.execute_input": "2020-12-25T10:09:28.017785Z",
     "iopub.status.busy": "2020-12-25T10:09:28.017119Z",
     "iopub.status.idle": "2020-12-25T10:09:28.198565Z",
     "shell.execute_reply": "2020-12-25T10:09:28.199386Z"
    },
    "papermill": {
     "duration": 0.220664,
     "end_time": "2020-12-25T10:09:28.199609",
     "exception": false,
     "start_time": "2020-12-25T10:09:27.978945",
     "status": "completed"
    },
    "tags": []
   },
   "outputs": [
    {
     "name": "stdout",
     "output_type": "stream",
     "text": [
      "2\n"
     ]
    },
    {
     "data": {
      "text/plain": [
       "<matplotlib.image.AxesImage at 0x7fabc6483240>"
      ]
     },
     "execution_count": 8,
     "metadata": {},
     "output_type": "execute_result"
    },
    {
     "data": {
      "image/png": "[encoded data removed]",
      "text/plain": [
       "<Figure size 432x288 with 1 Axes>"
      ]
     },
     "metadata": {
      "needs_background": "light"
     },
     "output_type": "display_data"
    }
   ],
   "source": [
    "image_index = 7776 # You may select anything up to 60,000\n",
    "print(train_labels[image_index]) \n",
    "plt.imshow(train_images[image_index], cmap='Greys')"
   ]
  },
  {
   "cell_type": "markdown",
   "metadata": {
    "papermill": {
     "duration": 0.031608,
     "end_time": "2020-12-25T10:09:28.266950",
     "exception": false,
     "start_time": "2020-12-25T10:09:28.235342",
     "status": "completed"
    },
    "tags": []
   },
   "source": [
    "## Filter data to get 3 and 8 out"
   ]
  },
  {
   "cell_type": "code",
   "execution_count": 9,
   "metadata": {
    "execution": {
     "iopub.execute_input": "2020-12-25T10:09:28.341190Z",
     "iopub.status.busy": "2020-12-25T10:09:28.340515Z",
     "iopub.status.idle": "2020-12-25T10:09:28.361767Z",
     "shell.execute_reply": "2020-12-25T10:09:28.361168Z"
    },
    "papermill": {
     "duration": 0.06306,
     "end_time": "2020-12-25T10:09:28.361927",
     "exception": false,
     "start_time": "2020-12-25T10:09:28.298867",
     "status": "completed"
    },
    "tags": []
   },
   "outputs": [],
   "source": [
    "train_filter = np.where((train_labels == 3 ) | (train_labels == 8))\n",
    "test_filter = np.where((test_labels == 3) | (test_labels == 8))\n",
    "X_train, y_train = train_images[train_filter], train_labels[train_filter]\n",
    "X_test, y_test = test_images[test_filter], test_labels[test_filter]"
   ]
  },
  {
   "cell_type": "markdown",
   "metadata": {
    "papermill": {
     "duration": 0.033578,
     "end_time": "2020-12-25T10:09:28.427025",
     "exception": false,
     "start_time": "2020-12-25T10:09:28.393447",
     "status": "completed"
    },
    "tags": []
   },
   "source": [
    "We normalize the pixel values in the 0 to 1 range"
   ]
  },
  {
   "cell_type": "code",
   "execution_count": 10,
   "metadata": {
    "execution": {
     "iopub.execute_input": "2020-12-25T10:09:28.509812Z",
     "iopub.status.busy": "2020-12-25T10:09:28.509099Z",
     "iopub.status.idle": "2020-12-25T10:09:28.576608Z",
     "shell.execute_reply": "2020-12-25T10:09:28.577270Z"
    },
    "papermill": {
     "duration": 0.111403,
     "end_time": "2020-12-25T10:09:28.577462",
     "exception": false,
     "start_time": "2020-12-25T10:09:28.466059",
     "status": "completed"
    },
    "tags": []
   },
   "outputs": [],
   "source": [
    "X_train = X_train/255.\n",
    "X_test = X_test/255."
   ]
  },
  {
   "cell_type": "markdown",
   "metadata": {
    "papermill": {
     "duration": 0.032423,
     "end_time": "2020-12-25T10:09:28.641491",
     "exception": false,
     "start_time": "2020-12-25T10:09:28.609068",
     "status": "completed"
    },
    "tags": []
   },
   "source": [
    "Setup the labels as 1 (when the digit is 3) and 0 (when the digit is 8)"
   ]
  },
  {
   "cell_type": "code",
   "execution_count": 11,
   "metadata": {
    "execution": {
     "iopub.execute_input": "2020-12-25T10:09:28.708790Z",
     "iopub.status.busy": "2020-12-25T10:09:28.708085Z",
     "iopub.status.idle": "2020-12-25T10:09:28.721105Z",
     "shell.execute_reply": "2020-12-25T10:09:28.721662Z"
    },
    "papermill": {
     "duration": 0.049218,
     "end_time": "2020-12-25T10:09:28.721847",
     "exception": false,
     "start_time": "2020-12-25T10:09:28.672629",
     "status": "completed"
    },
    "tags": []
   },
   "outputs": [],
   "source": [
    "y_train = 1*(y_train==3)\n",
    "y_test = 1*(y_test==3)"
   ]
  },
  {
   "cell_type": "code",
   "execution_count": 12,
   "metadata": {
    "execution": {
     "iopub.execute_input": "2020-12-25T10:09:28.791050Z",
     "iopub.status.busy": "2020-12-25T10:09:28.790381Z",
     "iopub.status.idle": "2020-12-25T10:09:28.804608Z",
     "shell.execute_reply": "2020-12-25T10:09:28.805158Z"
    },
    "papermill": {
     "duration": 0.04954,
     "end_time": "2020-12-25T10:09:28.805321",
     "exception": false,
     "start_time": "2020-12-25T10:09:28.755781",
     "status": "completed"
    },
    "tags": []
   },
   "outputs": [
    {
     "data": {
      "text/plain": [
       "((11982, 28, 28), (1984, 28, 28))"
      ]
     },
     "execution_count": 12,
     "metadata": {},
     "output_type": "execute_result"
    }
   ],
   "source": [
    "X_train.shape, X_test.shape"
   ]
  },
  {
   "cell_type": "markdown",
   "metadata": {
    "papermill": {
     "duration": 0.034956,
     "end_time": "2020-12-25T10:09:28.871988",
     "exception": false,
     "start_time": "2020-12-25T10:09:28.837032",
     "status": "completed"
    },
    "tags": []
   },
   "source": [
    "### Reshape the input data to create a linear array"
   ]
  },
  {
   "cell_type": "code",
   "execution_count": 13,
   "metadata": {
    "execution": {
     "iopub.execute_input": "2020-12-25T10:09:28.952309Z",
     "iopub.status.busy": "2020-12-25T10:09:28.951430Z",
     "iopub.status.idle": "2020-12-25T10:09:28.966451Z",
     "shell.execute_reply": "2020-12-25T10:09:28.965686Z"
    },
    "papermill": {
     "duration": 0.058188,
     "end_time": "2020-12-25T10:09:28.966617",
     "exception": false,
     "start_time": "2020-12-25T10:09:28.908429",
     "status": "completed"
    },
    "tags": []
   },
   "outputs": [
    {
     "data": {
      "text/plain": [
       "((11982, 784), (1984, 784))"
      ]
     },
     "execution_count": 13,
     "metadata": {},
     "output_type": "execute_result"
    }
   ],
   "source": [
    "X_train = X_train.reshape(X_train.shape[0], -1)\n",
    "X_test = X_test.reshape(X_test.shape[0], -1)\n",
    "X_train.shape, X_test.shape"
   ]
  },
  {
   "cell_type": "markdown",
   "metadata": {
    "papermill": {
     "duration": 0.032159,
     "end_time": "2020-12-25T10:09:29.030391",
     "exception": false,
     "start_time": "2020-12-25T10:09:28.998232",
     "status": "completed"
    },
    "tags": []
   },
   "source": [
    "### Importing appropriate functions from 'Kudzu'"
   ]
  },
  {
   "cell_type": "code",
   "execution_count": 14,
   "metadata": {
    "execution": {
     "iopub.execute_input": "2020-12-25T10:09:29.104146Z",
     "iopub.status.busy": "2020-12-25T10:09:29.103475Z",
     "iopub.status.idle": "2020-12-25T10:09:29.128174Z",
     "shell.execute_reply": "2020-12-25T10:09:29.126960Z"
    },
    "papermill": {
     "duration": 0.062224,
     "end_time": "2020-12-25T10:09:29.128365",
     "exception": false,
     "start_time": "2020-12-25T10:09:29.066141",
     "status": "completed"
    },
    "tags": []
   },
   "outputs": [],
   "source": [
    "from kudzu.layer import Sigmoid\n",
    "from kudzu.layer import Relu\n",
    "from kudzu.layer import Affine, Sigmoid\n",
    "\n",
    "from kudzu.model import Model\n",
    "from kudzu.train import Learner\n",
    "from kudzu.optim import GD\n",
    "from kudzu.data import Data, Dataloader, Sampler\n",
    "\n",
    "from kudzu.callbacks import AccCallback\n",
    "from kudzu.callbacks import ClfCallback\n",
    "\n",
    "from kudzu.loss import MSE"
   ]
  },
  {
   "cell_type": "markdown",
   "metadata": {
    "papermill": {
     "duration": 0.031717,
     "end_time": "2020-12-25T10:09:29.196236",
     "exception": false,
     "start_time": "2020-12-25T10:09:29.164519",
     "status": "completed"
    },
    "tags": []
   },
   "source": [
    "### Let us create a `Config` class, to store important parameters. \n",
    "This class essentially plays the role of a dictionary."
   ]
  },
  {
   "cell_type": "code",
   "execution_count": 15,
   "metadata": {
    "execution": {
     "iopub.execute_input": "2020-12-25T10:09:29.263464Z",
     "iopub.status.busy": "2020-12-25T10:09:29.262804Z",
     "iopub.status.idle": "2020-12-25T10:09:29.277538Z",
     "shell.execute_reply": "2020-12-25T10:09:29.276965Z"
    },
    "papermill": {
     "duration": 0.050343,
     "end_time": "2020-12-25T10:09:29.277694",
     "exception": false,
     "start_time": "2020-12-25T10:09:29.227351",
     "status": "completed"
    },
    "tags": []
   },
   "outputs": [],
   "source": [
    "class Config:\n",
    "    pass\n",
    "config = Config()\n",
    "config.lr = 0.001\n",
    "config.num_epochs = 251\n",
    "config.bs = 50"
   ]
  },
  {
   "cell_type": "markdown",
   "metadata": {
    "papermill": {
     "duration": 0.030741,
     "end_time": "2020-12-25T10:09:29.340739",
     "exception": false,
     "start_time": "2020-12-25T10:09:29.309998",
     "status": "completed"
    },
    "tags": []
   },
   "source": [
    "### Initializing data to the variables"
   ]
  },
  {
   "cell_type": "code",
   "execution_count": 16,
   "metadata": {
    "execution": {
     "iopub.execute_input": "2020-12-25T10:09:29.423045Z",
     "iopub.status.busy": "2020-12-25T10:09:29.422369Z",
     "iopub.status.idle": "2020-12-25T10:09:29.431275Z",
     "shell.execute_reply": "2020-12-25T10:09:29.430723Z"
    },
    "papermill": {
     "duration": 0.05903,
     "end_time": "2020-12-25T10:09:29.431427",
     "exception": false,
     "start_time": "2020-12-25T10:09:29.372397",
     "status": "completed"
    },
    "tags": []
   },
   "outputs": [],
   "source": [
    "data = Data(X_train, y_train.reshape(-1,1))\n",
    "sampler = Sampler(data, config.bs, shuffle=True)\n",
    "\n",
    "dl = Dataloader(data, sampler)\n",
    "\n",
    "opt = GD(config.lr)\n",
    "loss = MSE()"
   ]
  },
  {
   "cell_type": "code",
   "execution_count": 17,
   "metadata": {
    "execution": {
     "iopub.execute_input": "2020-12-25T10:09:29.500894Z",
     "iopub.status.busy": "2020-12-25T10:09:29.500194Z",
     "iopub.status.idle": "2020-12-25T10:09:29.513510Z",
     "shell.execute_reply": "2020-12-25T10:09:29.512963Z"
    },
    "papermill": {
     "duration": 0.050788,
     "end_time": "2020-12-25T10:09:29.513657",
     "exception": false,
     "start_time": "2020-12-25T10:09:29.462869",
     "status": "completed"
    },
    "tags": []
   },
   "outputs": [],
   "source": [
    "training_xdata = X_train\n",
    "testing_xdata = X_test\n",
    "training_ydata = y_train.reshape(-1,1)\n",
    "testing_ydata = y_test.reshape(-1,1)"
   ]
  },
  {
   "cell_type": "markdown",
   "metadata": {
    "papermill": {
     "duration": 0.031556,
     "end_time": "2020-12-25T10:09:29.576789",
     "exception": false,
     "start_time": "2020-12-25T10:09:29.545233",
     "status": "completed"
    },
    "tags": []
   },
   "source": [
    "### Running Models with the Training data\n",
    "Details about the network layers:\n",
    "- A first affine layer has 784 inputs and does 100 affine transforms. These are followed by a Relu\n",
    "- A second affine layer has 100 inputs from the 100 activations of the past layer, and does 100 affine transforms. These are followed by a Relu\n",
    "- A third affine layer has 100 activations and does 2 affine transformations to create an embedding for visualization. There is no non-linearity here.\n",
    "- A final \"logistic regression\" which has an affine transform from 2 inputs to 1 output, which is squeezed through a sigmoid.\n",
    "\n",
    "Help taken from Anshuman's Notebook."
   ]
  },
  {
   "cell_type": "code",
   "execution_count": 18,
   "metadata": {
    "execution": {
     "iopub.execute_input": "2020-12-25T10:09:29.652231Z",
     "iopub.status.busy": "2020-12-25T10:09:29.651435Z",
     "iopub.status.idle": "2020-12-25T10:09:29.670567Z",
     "shell.execute_reply": "2020-12-25T10:09:29.669985Z"
    },
    "papermill": {
     "duration": 0.060573,
     "end_time": "2020-12-25T10:09:29.670725",
     "exception": false,
     "start_time": "2020-12-25T10:09:29.610152",
     "status": "completed"
    },
    "tags": []
   },
   "outputs": [],
   "source": [
    "# layers for the Neural Network\n",
    "layers = [Affine(\"first\", 784, 100), Relu(\"first\"), Affine(\"second\", 100, 100), Relu(\"second\"), Affine(\"third\", 100, 2), Affine(\"final\", 2, 1), Sigmoid(\"final\")]\n",
    "model_nn = Model(layers)\n",
    "\n",
    "# layers for the Logistic Regression\n",
    "layers_lr = [Affine(\"logits\", 784, 1), Sigmoid(\"sigmoid\")]\n",
    "model_lr = Model(layers_lr)"
   ]
  },
  {
   "cell_type": "code",
   "execution_count": 19,
   "metadata": {
    "execution": {
     "iopub.execute_input": "2020-12-25T10:09:29.750901Z",
     "iopub.status.busy": "2020-12-25T10:09:29.750216Z",
     "iopub.status.idle": "2020-12-25T10:09:29.758122Z",
     "shell.execute_reply": "2020-12-25T10:09:29.758652Z"
    },
    "papermill": {
     "duration": 0.056293,
     "end_time": "2020-12-25T10:09:29.758821",
     "exception": false,
     "start_time": "2020-12-25T10:09:29.702528",
     "status": "completed"
    },
    "tags": []
   },
   "outputs": [],
   "source": [
    "# suffix _nn stands for Neural Network.\n",
    "learner_nn = Learner(loss, model_nn, opt, config.num_epochs)\n",
    "acc_nn = ClfCallback(learner_nn, config.bs, training_xdata , testing_xdata, training_ydata, testing_ydata)\n",
    "learner_nn.set_callbacks([acc_nn])"
   ]
  },
  {
   "cell_type": "code",
   "execution_count": 20,
   "metadata": {
    "execution": {
     "iopub.execute_input": "2020-12-25T10:09:29.827259Z",
     "iopub.status.busy": "2020-12-25T10:09:29.826578Z",
     "iopub.status.idle": "2020-12-25T10:11:36.755116Z",
     "shell.execute_reply": "2020-12-25T10:11:36.754444Z"
    },
    "papermill": {
     "duration": 126.964842,
     "end_time": "2020-12-25T10:11:36.755269",
     "exception": false,
     "start_time": "2020-12-25T10:09:29.790427",
     "status": "completed"
    },
    "tags": []
   },
   "outputs": [
    {
     "name": "stdout",
     "output_type": "stream",
     "text": [
      "====== Neural Network ======\n"
     ]
    },
    {
     "name": "stdout",
     "output_type": "stream",
     "text": [
      "Epoch 0, Loss 0.2435\n",
      "Training Accuracy: 0.6507, Testing Accuracy: 0.6895\n",
      "\n"
     ]
    },
    {
     "name": "stdout",
     "output_type": "stream",
     "text": [
      "Epoch 10, Loss 0.1271\n",
      "Training Accuracy: 0.8999, Testing Accuracy: 0.9209\n",
      "\n"
     ]
    },
    {
     "name": "stdout",
     "output_type": "stream",
     "text": [
      "Epoch 20, Loss 0.0697\n",
      "Training Accuracy: 0.9282, Testing Accuracy: 0.9430\n",
      "\n"
     ]
    },
    {
     "name": "stdout",
     "output_type": "stream",
     "text": [
      "Epoch 30, Loss 0.0513\n",
      "Training Accuracy: 0.9445, Testing Accuracy: 0.9551\n",
      "\n"
     ]
    },
    {
     "name": "stdout",
     "output_type": "stream",
     "text": [
      "Epoch 40, Loss 0.0428\n",
      "Training Accuracy: 0.9515, Testing Accuracy: 0.9607\n",
      "\n"
     ]
    },
    {
     "name": "stdout",
     "output_type": "stream",
     "text": [
      "Epoch 50, Loss 0.0379\n",
      "Training Accuracy: 0.9567, Testing Accuracy: 0.9632\n",
      "\n"
     ]
    },
    {
     "name": "stdout",
     "output_type": "stream",
     "text": [
      "Epoch 60, Loss 0.0347\n",
      "Training Accuracy: 0.9600, Testing Accuracy: 0.9667\n",
      "\n"
     ]
    },
    {
     "name": "stdout",
     "output_type": "stream",
     "text": [
      "Epoch 70, Loss 0.0323\n",
      "Training Accuracy: 0.9624, Testing Accuracy: 0.9682\n",
      "\n"
     ]
    },
    {
     "name": "stdout",
     "output_type": "stream",
     "text": [
      "Epoch 80, Loss 0.0305\n",
      "Training Accuracy: 0.9639, Testing Accuracy: 0.9693\n",
      "\n"
     ]
    },
    {
     "name": "stdout",
     "output_type": "stream",
     "text": [
      "Epoch 90, Loss 0.0291\n",
      "Training Accuracy: 0.9657, Testing Accuracy: 0.9688\n",
      "\n"
     ]
    },
    {
     "name": "stdout",
     "output_type": "stream",
     "text": [
      "Epoch 100, Loss 0.0279\n",
      "Training Accuracy: 0.9665, Testing Accuracy: 0.9693\n",
      "\n"
     ]
    },
    {
     "name": "stdout",
     "output_type": "stream",
     "text": [
      "Epoch 110, Loss 0.0269\n",
      "Training Accuracy: 0.9678, Testing Accuracy: 0.9698\n",
      "\n"
     ]
    },
    {
     "name": "stdout",
     "output_type": "stream",
     "text": [
      "Epoch 120, Loss 0.026\n",
      "Training Accuracy: 0.9690, Testing Accuracy: 0.9708\n",
      "\n"
     ]
    },
    {
     "name": "stdout",
     "output_type": "stream",
     "text": [
      "Epoch 130, Loss 0.0252\n",
      "Training Accuracy: 0.9703, Testing Accuracy: 0.9723\n",
      "\n"
     ]
    },
    {
     "name": "stdout",
     "output_type": "stream",
     "text": [
      "Epoch 140, Loss 0.0246\n",
      "Training Accuracy: 0.9716, Testing Accuracy: 0.9723\n",
      "\n"
     ]
    },
    {
     "name": "stdout",
     "output_type": "stream",
     "text": [
      "Epoch 150, Loss 0.0239\n",
      "Training Accuracy: 0.9722, Testing Accuracy: 0.9713\n",
      "\n"
     ]
    },
    {
     "name": "stdout",
     "output_type": "stream",
     "text": [
      "Epoch 160, Loss 0.0234\n",
      "Training Accuracy: 0.9725, Testing Accuracy: 0.9718\n",
      "\n"
     ]
    },
    {
     "name": "stdout",
     "output_type": "stream",
     "text": [
      "Epoch 170, Loss 0.0228\n",
      "Training Accuracy: 0.9729, Testing Accuracy: 0.9713\n",
      "\n"
     ]
    },
    {
     "name": "stdout",
     "output_type": "stream",
     "text": [
      "Epoch 180, Loss 0.0223\n",
      "Training Accuracy: 0.9739, Testing Accuracy: 0.9708\n",
      "\n"
     ]
    },
    {
     "name": "stdout",
     "output_type": "stream",
     "text": [
      "Epoch 190, Loss 0.0219\n",
      "Training Accuracy: 0.9745, Testing Accuracy: 0.9708\n",
      "\n"
     ]
    },
    {
     "name": "stdout",
     "output_type": "stream",
     "text": [
      "Epoch 200, Loss 0.0214\n",
      "Training Accuracy: 0.9753, Testing Accuracy: 0.9713\n",
      "\n"
     ]
    },
    {
     "name": "stdout",
     "output_type": "stream",
     "text": [
      "Epoch 210, Loss 0.021\n",
      "Training Accuracy: 0.9757, Testing Accuracy: 0.9713\n",
      "\n"
     ]
    },
    {
     "name": "stdout",
     "output_type": "stream",
     "text": [
      "Epoch 220, Loss 0.0206\n",
      "Training Accuracy: 0.9763, Testing Accuracy: 0.9703\n",
      "\n"
     ]
    },
    {
     "name": "stdout",
     "output_type": "stream",
     "text": [
      "Epoch 230, Loss 0.0202\n",
      "Training Accuracy: 0.9768, Testing Accuracy: 0.9708\n",
      "\n"
     ]
    },
    {
     "name": "stdout",
     "output_type": "stream",
     "text": [
      "Epoch 240, Loss 0.0199\n",
      "Training Accuracy: 0.9774, Testing Accuracy: 0.9708\n",
      "\n"
     ]
    },
    {
     "name": "stdout",
     "output_type": "stream",
     "text": [
      "Epoch 250, Loss 0.0195\n",
      "Training Accuracy: 0.9781, Testing Accuracy: 0.9713\n",
      "\n"
     ]
    },
    {
     "data": {
      "text/plain": [
       "0.03137751075393395"
      ]
     },
     "execution_count": 20,
     "metadata": {},
     "output_type": "execute_result"
    }
   ],
   "source": [
    "print(\"====== Neural Network ======\")\n",
    "learner_nn.train_loop(dl)"
   ]
  },
  {
   "cell_type": "markdown",
   "metadata": {
    "papermill": {
     "duration": 0.039626,
     "end_time": "2020-12-25T10:11:36.836044",
     "exception": false,
     "start_time": "2020-12-25T10:11:36.796418",
     "status": "completed"
    },
    "tags": []
   },
   "source": [
    "### Logistic Regression based Implementation."
   ]
  },
  {
   "cell_type": "code",
   "execution_count": 21,
   "metadata": {
    "execution": {
     "iopub.execute_input": "2020-12-25T10:11:36.925869Z",
     "iopub.status.busy": "2020-12-25T10:11:36.925207Z",
     "iopub.status.idle": "2020-12-25T10:11:36.939396Z",
     "shell.execute_reply": "2020-12-25T10:11:36.938818Z"
    },
    "papermill": {
     "duration": 0.06068,
     "end_time": "2020-12-25T10:11:36.939557",
     "exception": false,
     "start_time": "2020-12-25T10:11:36.878877",
     "status": "completed"
    },
    "tags": []
   },
   "outputs": [],
   "source": [
    "learner_lr = Learner(loss, model_lr, opt, config.num_epochs)\n",
    "acc_lr = ClfCallback(learner_lr, config.bs, training_xdata , testing_xdata, training_ydata, testing_ydata)\n",
    "learner_lr.set_callbacks([acc_lr])"
   ]
  },
  {
   "cell_type": "code",
   "execution_count": 22,
   "metadata": {
    "execution": {
     "iopub.execute_input": "2020-12-25T10:11:37.031520Z",
     "iopub.status.busy": "2020-12-25T10:11:37.030770Z",
     "iopub.status.idle": "2020-12-25T10:11:56.651654Z",
     "shell.execute_reply": "2020-12-25T10:11:56.652612Z"
    },
    "papermill": {
     "duration": 19.669991,
     "end_time": "2020-12-25T10:11:56.652794",
     "exception": false,
     "start_time": "2020-12-25T10:11:36.982803",
     "status": "completed"
    },
    "tags": []
   },
   "outputs": [
    {
     "name": "stdout",
     "output_type": "stream",
     "text": [
      "====== Logistic Regression ======\n",
      "Epoch 0, Loss 0.236\n",
      "Training Accuracy: 0.7261, Testing Accuracy: 0.7344\n",
      "\n"
     ]
    },
    {
     "name": "stdout",
     "output_type": "stream",
     "text": [
      "Epoch 10, Loss 0.1017\n",
      "Training Accuracy: 0.9132, Testing Accuracy: 0.9209\n",
      "\n"
     ]
    },
    {
     "name": "stdout",
     "output_type": "stream",
     "text": [
      "Epoch 20, Loss 0.0785\n",
      "Training Accuracy: 0.9291, Testing Accuracy: 0.9395\n",
      "\n"
     ]
    },
    {
     "name": "stdout",
     "output_type": "stream",
     "text": [
      "Epoch 30, Loss 0.0678\n",
      "Training Accuracy: 0.9365, Testing Accuracy: 0.9446\n",
      "\n"
     ]
    },
    {
     "name": "stdout",
     "output_type": "stream",
     "text": [
      "Epoch 40, Loss 0.0614\n",
      "Training Accuracy: 0.9413, Testing Accuracy: 0.9501\n",
      "\n"
     ]
    },
    {
     "name": "stdout",
     "output_type": "stream",
     "text": [
      "Epoch 50, Loss 0.057\n",
      "Training Accuracy: 0.9449, Testing Accuracy: 0.9526\n",
      "\n"
     ]
    },
    {
     "name": "stdout",
     "output_type": "stream",
     "text": [
      "Epoch 60, Loss 0.0538\n",
      "Training Accuracy: 0.9466, Testing Accuracy: 0.9556\n",
      "\n"
     ]
    },
    {
     "name": "stdout",
     "output_type": "stream",
     "text": [
      "Epoch 70, Loss 0.0513\n",
      "Training Accuracy: 0.9484, Testing Accuracy: 0.9572\n",
      "\n"
     ]
    },
    {
     "name": "stdout",
     "output_type": "stream",
     "text": [
      "Epoch 80, Loss 0.0493\n",
      "Training Accuracy: 0.9496, Testing Accuracy: 0.9597\n",
      "\n"
     ]
    },
    {
     "name": "stdout",
     "output_type": "stream",
     "text": [
      "Epoch 90, Loss 0.0476\n",
      "Training Accuracy: 0.9512, Testing Accuracy: 0.9607\n",
      "\n"
     ]
    },
    {
     "name": "stdout",
     "output_type": "stream",
     "text": [
      "Epoch 100, Loss 0.0462\n",
      "Training Accuracy: 0.9525, Testing Accuracy: 0.9612\n",
      "\n"
     ]
    },
    {
     "name": "stdout",
     "output_type": "stream",
     "text": [
      "Epoch 110, Loss 0.045\n",
      "Training Accuracy: 0.9535, Testing Accuracy: 0.9617\n",
      "\n"
     ]
    },
    {
     "name": "stdout",
     "output_type": "stream",
     "text": [
      "Epoch 120, Loss 0.044\n",
      "Training Accuracy: 0.9542, Testing Accuracy: 0.9632\n",
      "\n"
     ]
    },
    {
     "name": "stdout",
     "output_type": "stream",
     "text": [
      "Epoch 130, Loss 0.0431\n",
      "Training Accuracy: 0.9548, Testing Accuracy: 0.9632\n",
      "\n"
     ]
    },
    {
     "name": "stdout",
     "output_type": "stream",
     "text": [
      "Epoch 140, Loss 0.0422\n",
      "Training Accuracy: 0.9557, Testing Accuracy: 0.9637\n",
      "\n"
     ]
    },
    {
     "name": "stdout",
     "output_type": "stream",
     "text": [
      "Epoch 150, Loss 0.0415\n",
      "Training Accuracy: 0.9563, Testing Accuracy: 0.9642\n",
      "\n"
     ]
    },
    {
     "name": "stdout",
     "output_type": "stream",
     "text": [
      "Epoch 160, Loss 0.0408\n",
      "Training Accuracy: 0.9572, Testing Accuracy: 0.9637\n",
      "\n"
     ]
    },
    {
     "name": "stdout",
     "output_type": "stream",
     "text": [
      "Epoch 170, Loss 0.0402\n",
      "Training Accuracy: 0.9577, Testing Accuracy: 0.9652\n",
      "\n"
     ]
    },
    {
     "name": "stdout",
     "output_type": "stream",
     "text": [
      "Epoch 180, Loss 0.0397\n",
      "Training Accuracy: 0.9584, Testing Accuracy: 0.9657\n",
      "\n"
     ]
    },
    {
     "name": "stdout",
     "output_type": "stream",
     "text": [
      "Epoch 190, Loss 0.0391\n",
      "Training Accuracy: 0.9585, Testing Accuracy: 0.9657\n",
      "\n"
     ]
    },
    {
     "name": "stdout",
     "output_type": "stream",
     "text": [
      "Epoch 200, Loss 0.0387\n",
      "Training Accuracy: 0.9592, Testing Accuracy: 0.9662\n",
      "\n"
     ]
    },
    {
     "name": "stdout",
     "output_type": "stream",
     "text": [
      "Epoch 210, Loss 0.0382\n",
      "Training Accuracy: 0.9593, Testing Accuracy: 0.9667\n",
      "\n"
     ]
    },
    {
     "name": "stdout",
     "output_type": "stream",
     "text": [
      "Epoch 220, Loss 0.0378\n",
      "Training Accuracy: 0.9596, Testing Accuracy: 0.9667\n",
      "\n"
     ]
    },
    {
     "name": "stdout",
     "output_type": "stream",
     "text": [
      "Epoch 230, Loss 0.0374\n",
      "Training Accuracy: 0.9599, Testing Accuracy: 0.9657\n",
      "\n"
     ]
    },
    {
     "name": "stdout",
     "output_type": "stream",
     "text": [
      "Epoch 240, Loss 0.0371\n",
      "Training Accuracy: 0.9602, Testing Accuracy: 0.9657\n",
      "\n"
     ]
    },
    {
     "name": "stdout",
     "output_type": "stream",
     "text": [
      "Epoch 250, Loss 0.0367\n",
      "Training Accuracy: 0.9605, Testing Accuracy: 0.9662\n",
      "\n"
     ]
    },
    {
     "data": {
      "text/plain": [
       "0.008659833037362914"
      ]
     },
     "execution_count": 22,
     "metadata": {},
     "output_type": "execute_result"
    }
   ],
   "source": [
    "print(\"====== Logistic Regression ======\")\n",
    "learner_lr.train_loop(dl)"
   ]
  },
  {
   "cell_type": "markdown",
   "metadata": {
    "papermill": {
     "duration": 0.050031,
     "end_time": "2020-12-25T10:11:56.757196",
     "exception": false,
     "start_time": "2020-12-25T10:11:56.707165",
     "status": "completed"
    },
    "tags": []
   },
   "source": [
    "### Comparing results of NN and LR"
   ]
  },
  {
   "cell_type": "code",
   "execution_count": 23,
   "metadata": {
    "execution": {
     "iopub.execute_input": "2020-12-25T10:11:56.875184Z",
     "iopub.status.busy": "2020-12-25T10:11:56.874482Z",
     "iopub.status.idle": "2020-12-25T10:11:57.149410Z",
     "shell.execute_reply": "2020-12-25T10:11:57.149972Z"
    },
    "papermill": {
     "duration": 0.340333,
     "end_time": "2020-12-25T10:11:57.150155",
     "exception": false,
     "start_time": "2020-12-25T10:11:56.809822",
     "status": "completed"
    },
    "tags": []
   },
   "outputs": [
    {
     "data": {
      "text/plain": [
       "<matplotlib.legend.Legend at 0x7fabc4053b70>"
      ]
     },
     "execution_count": 23,
     "metadata": {},
     "output_type": "execute_result"
    },
    {
     "data": {
      "image/png": "[encoded data removed]",
      "text/plain": [
       "<Figure size 1080x720 with 1 Axes>"
      ]
     },
     "metadata": {
      "needs_background": "light"
     },
     "output_type": "display_data"
    }
   ],
   "source": [
    "plt.figure(figsize=(15,10))\n",
    "\n",
    "# Neural Network plots\n",
    "plt.plot(acc_nn.accuracies, 'r-', label = \"Training Accuracies - NN\")\n",
    "plt.plot(acc_nn.test_accuracies, 'g-', label = \"Testing Accuracies - NN\")\n",
    "\n",
    "# Logistic Regression plots\n",
    "plt.plot(acc_lr.accuracies, 'k-', label = \"Training Accuracies - LR\")\n",
    "plt.plot(acc_lr.test_accuracies, 'b-', label = \"Testing Accuracies - LR\")\n",
    "\n",
    "plt.ylim(0.8, 1)\n",
    "\n",
    "plt.legend()\n",
    "\n"
   ]
  },
  {
   "cell_type": "markdown",
   "metadata": {
    "papermill": {
     "duration": 0.057041,
     "end_time": "2020-12-25T10:11:57.261112",
     "exception": false,
     "start_time": "2020-12-25T10:11:57.204071",
     "status": "completed"
    },
    "tags": []
   },
   "source": [
    "### From the plot, we can observe the following:\n",
    "- Neural Network achieves higher accuracy than the Logistic Regression model.\n",
    "- This apparently, is because of overfitting, i.e. NN captures more noise than data.\n",
    "- Testing accuracy of NN drops below the Training accuracy at higher epochs. This explains the over-fitting on training data.\n",
    "- Logistic Regression gives a reliable accuracy, without the above mentioned problem.\n"
   ]
  },
  {
   "cell_type": "markdown",
   "metadata": {
    "papermill": {
     "duration": 0.051745,
     "end_time": "2020-12-25T10:11:57.364299",
     "exception": false,
     "start_time": "2020-12-25T10:11:57.312554",
     "status": "completed"
    },
    "tags": []
   },
   "source": [
    "### Moving till the last but one layer (excluding it).\n",
    "#### Plotting the outputs of this layer of the NN."
   ]
  },
  {
   "cell_type": "code",
   "execution_count": 24,
   "metadata": {
    "execution": {
     "iopub.execute_input": "2020-12-25T10:11:57.477308Z",
     "iopub.status.busy": "2020-12-25T10:11:57.476634Z",
     "iopub.status.idle": "2020-12-25T10:11:57.486719Z",
     "shell.execute_reply": "2020-12-25T10:11:57.487269Z"
    },
    "papermill": {
     "duration": 0.072377,
     "end_time": "2020-12-25T10:11:57.487429",
     "exception": false,
     "start_time": "2020-12-25T10:11:57.415052",
     "status": "completed"
    },
    "tags": []
   },
   "outputs": [],
   "source": [
    "model_new = Model(layers[:-2])"
   ]
  },
  {
   "cell_type": "code",
   "execution_count": 25,
   "metadata": {
    "execution": {
     "iopub.execute_input": "2020-12-25T10:11:57.628388Z",
     "iopub.status.busy": "2020-12-25T10:11:57.622994Z",
     "iopub.status.idle": "2020-12-25T10:11:57.639199Z",
     "shell.execute_reply": "2020-12-25T10:11:57.639919Z"
    },
    "papermill": {
     "duration": 0.095029,
     "end_time": "2020-12-25T10:11:57.640112",
     "exception": false,
     "start_time": "2020-12-25T10:11:57.545083",
     "status": "completed"
    },
    "tags": []
   },
   "outputs": [],
   "source": [
    "plot_testing = model_new(testing_xdata)"
   ]
  },
  {
   "cell_type": "code",
   "execution_count": 26,
   "metadata": {
    "execution": {
     "iopub.execute_input": "2020-12-25T10:11:57.781775Z",
     "iopub.status.busy": "2020-12-25T10:11:57.764986Z",
     "iopub.status.idle": "2020-12-25T10:11:57.991241Z",
     "shell.execute_reply": "2020-12-25T10:11:57.990356Z"
    },
    "papermill": {
     "duration": 0.297582,
     "end_time": "2020-12-25T10:11:57.991404",
     "exception": false,
     "start_time": "2020-12-25T10:11:57.693822",
     "status": "completed"
    },
    "tags": []
   },
   "outputs": [
    {
     "data": {
      "text/plain": [
       "Text(0.5, 1.0, 'Outputs')"
      ]
     },
     "execution_count": 26,
     "metadata": {},
     "output_type": "execute_result"
    },
    {
     "data": {
      "image/png": "[encoded data removed]",
      "text/plain": [
       "<Figure size 576x504 with 1 Axes>"
      ]
     },
     "metadata": {
      "needs_background": "light"
     },
     "output_type": "display_data"
    }
   ],
   "source": [
    "plt.figure(figsize=(8,7))\n",
    "plt.scatter(plot_testing[:,0], plot_testing[:,1], alpha = 0.1, c = y_test.ravel());\n",
    "plt.title('Outputs')"
   ]
  },
  {
   "cell_type": "markdown",
   "metadata": {
    "papermill": {
     "duration": 0.054197,
     "end_time": "2020-12-25T10:11:58.101551",
     "exception": false,
     "start_time": "2020-12-25T10:11:58.047354",
     "status": "completed"
    },
    "tags": []
   },
   "source": [
    "### Plotting probability contours"
   ]
  },
  {
   "cell_type": "code",
   "execution_count": 27,
   "metadata": {
    "execution": {
     "iopub.execute_input": "2020-12-25T10:11:58.216751Z",
     "iopub.status.busy": "2020-12-25T10:11:58.216022Z",
     "iopub.status.idle": "2020-12-25T10:11:58.228121Z",
     "shell.execute_reply": "2020-12-25T10:11:58.228724Z"
    },
    "papermill": {
     "duration": 0.072911,
     "end_time": "2020-12-25T10:11:58.228899",
     "exception": false,
     "start_time": "2020-12-25T10:11:58.155988",
     "status": "completed"
    },
    "tags": []
   },
   "outputs": [],
   "source": [
    "model_prob = Model(layers[-2:]) "
   ]
  },
  {
   "cell_type": "code",
   "execution_count": 28,
   "metadata": {
    "execution": {
     "iopub.execute_input": "2020-12-25T10:11:58.374955Z",
     "iopub.status.busy": "2020-12-25T10:11:58.374257Z",
     "iopub.status.idle": "2020-12-25T10:11:58.388589Z",
     "shell.execute_reply": "2020-12-25T10:11:58.389106Z"
    },
    "papermill": {
     "duration": 0.107228,
     "end_time": "2020-12-25T10:11:58.389272",
     "exception": false,
     "start_time": "2020-12-25T10:11:58.282044",
     "status": "completed"
    },
    "tags": []
   },
   "outputs": [],
   "source": [
    "# Adjust the x and y ranges according to the above generated plot.\n",
    "x_range = np.linspace(-4, 1, 100) \n",
    "y_range = np.linspace(-6, 6, 100) \n",
    "x_grid, y_grid = np.meshgrid(x_range, y_range) # x_grid and y_grig are of size 100 X 100\n",
    "\n",
    "# converting x_grid and y_grid to continuous arrays\n",
    "x_grid_flat = np.ravel(x_grid)\n",
    "y_grid_flat = np.ravel(y_grid)\n",
    "\n",
    "# The last layer of the current model takes two columns as input. Hence transpose of np.vstack() is required.\n",
    "X = np.vstack((x_grid_flat, y_grid_flat)).T\n",
    "\n",
    "# x_grid and y_grid are of size 100 x 100\n",
    "probability_contour = model_prob(X).reshape(100,100) "
   ]
  },
  {
   "cell_type": "code",
   "execution_count": 29,
   "metadata": {
    "execution": {
     "iopub.execute_input": "2020-12-25T10:11:58.501551Z",
     "iopub.status.busy": "2020-12-25T10:11:58.500880Z",
     "iopub.status.idle": "2020-12-25T10:11:58.799899Z",
     "shell.execute_reply": "2020-12-25T10:11:58.799308Z"
    },
    "papermill": {
     "duration": 0.35712,
     "end_time": "2020-12-25T10:11:58.800052",
     "exception": false,
     "start_time": "2020-12-25T10:11:58.442932",
     "status": "completed"
    },
    "tags": []
   },
   "outputs": [
    {
     "data": {
      "image/png": "[encoded data removed]",
      "text/plain": [
       "<Figure size 720x648 with 1 Axes>"
      ]
     },
     "metadata": {
      "needs_background": "light"
     },
     "output_type": "display_data"
    }
   ],
   "source": [
    "plt.figure(figsize=(10,9))\n",
    "plt.scatter(plot_testing[:,0], plot_testing[:,1], alpha = 0.1, c = y_test.ravel())\n",
    "contours = plt.contour(x_grid,y_grid,probability_contour)\n",
    "plt.title('Probability Contours')\n",
    "plt.clabel(contours, inline = True );"
   ]
  }
 ],
 "metadata": {
  "kernelspec": {
   "display_name": "Python 3",
   "language": "python",
   "name": "python3"
  },
  "language_info": {
   "codemirror_mode": {
    "name": "ipython",
    "version": 3
   },
   "file_extension": ".py",
   "mimetype": "text/x-python",
   "name": "python",
   "nbconvert_exporter": "python",
   "pygments_lexer": "ipython3",
   "version": "3.6.12"
  },
  "papermill": {
   "duration": 156.686386,
   "end_time": "2020-12-25T10:11:59.263327",
   "environment_variables": {},
   "exception": null,
   "input_path": "2020-08-11-NeuralNetwork.ipynb",
   "output_path": "2020-08-11-NeuralNetwork.ipynb",
   "parameters": {},
   "start_time": "2020-12-25T10:09:22.576941",
   "version": "2.1.2"
  }
 },
 "nbformat": 4,
 "nbformat_minor": 4
}