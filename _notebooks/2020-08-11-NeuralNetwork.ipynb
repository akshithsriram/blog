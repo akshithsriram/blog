{
 "cells": [
  {
   "cell_type": "markdown",
   "id": "fitted-suggestion",
   "metadata": {
    "papermill": {
     "duration": 0.026617,
     "end_time": "2021-02-16T10:04:29.648626",
     "exception": false,
     "start_time": "2021-02-16T10:04:29.622009",
     "status": "completed"
    },
    "tags": []
   },
   "source": [
    "# \"A Basic Neural Network: Differentiate Hand-Written Digits\"\n",
    "\n",
    "- badges: true\n",
    "- author: Akshith Sriram"
   ]
  },
  {
   "cell_type": "markdown",
   "id": "signal-flexibility",
   "metadata": {
    "papermill": {
     "duration": 0.022081,
     "end_time": "2021-02-16T10:04:29.695009",
     "exception": false,
     "start_time": "2021-02-16T10:04:29.672928",
     "status": "completed"
    },
    "tags": []
   },
   "source": [
    "### Key Objectives:\n",
    "- Building a neural network that differentiates two hand-written digits 3 and 8.\n",
    "- Comparing the results of this Neural Network (NN) to that of a Logistic Regression (LR) model.\n",
    "\n",
    "### Requirements:\n",
    "- 'Kudzu' : A neural network library that was designed during our course by [Univ.AI](www.univ.ai). \n",
    "- MNIST Database\n",
    "\n",
    "If MNIST is not installed, use the command `!pip install mnist` given below.\n",
    "It can be run both from the command line and Jupyter Notebook."
   ]
  },
  {
   "cell_type": "code",
   "execution_count": 1,
   "id": "british-texture",
   "metadata": {
    "execution": {
     "iopub.execute_input": "2021-02-16T10:04:29.749490Z",
     "iopub.status.busy": "2021-02-16T10:04:29.748996Z",
     "iopub.status.idle": "2021-02-16T10:04:31.082849Z",
     "shell.execute_reply": "2021-02-16T10:04:31.082285Z"
    },
    "papermill": {
     "duration": 1.365852,
     "end_time": "2021-02-16T10:04:31.083024",
     "exception": false,
     "start_time": "2021-02-16T10:04:29.717172",
     "status": "completed"
    },
    "tags": []
   },
   "outputs": [
    {
     "name": "stdout",
     "output_type": "stream",
     "text": [
      "Collecting mnist\r\n"
     ]
    },
    {
     "name": "stdout",
     "output_type": "stream",
     "text": [
      "  Downloading mnist-0.2.2-py2.py3-none-any.whl (3.5 kB)\r\n",
      "Requirement already satisfied: numpy in /opt/hostedtoolcache/Python/3.6.12/x64/lib/python3.6/site-packages (from mnist) (1.19.5)\r\n"
     ]
    },
    {
     "name": "stdout",
     "output_type": "stream",
     "text": [
      "Installing collected packages: mnist\r\n",
      "Successfully installed mnist-0.2.2\r\n"
     ]
    }
   ],
   "source": [
    "!pip install mnist "
   ]
  },
  {
   "cell_type": "markdown",
   "id": "stunning-extra",
   "metadata": {
    "papermill": {
     "duration": 0.022921,
     "end_time": "2021-02-16T10:04:31.131185",
     "exception": false,
     "start_time": "2021-02-16T10:04:31.108264",
     "status": "completed"
    },
    "tags": []
   },
   "source": [
    "#### Importing necessary libraries"
   ]
  },
  {
   "cell_type": "code",
   "execution_count": 2,
   "id": "wooden-france",
   "metadata": {
    "execution": {
     "iopub.execute_input": "2021-02-16T10:04:31.186205Z",
     "iopub.status.busy": "2021-02-16T10:04:31.184163Z",
     "iopub.status.idle": "2021-02-16T10:04:31.674755Z",
     "shell.execute_reply": "2021-02-16T10:04:31.675281Z"
    },
    "papermill": {
     "duration": 0.521373,
     "end_time": "2021-02-16T10:04:31.675458",
     "exception": false,
     "start_time": "2021-02-16T10:04:31.154085",
     "status": "completed"
    },
    "tags": []
   },
   "outputs": [],
   "source": [
    "%load_ext autoreload\n",
    "%autoreload 2\n",
    "\n",
    "%matplotlib inline\n",
    "import matplotlib.pyplot as plt\n",
    "\n",
    "import numpy as np\n",
    "import pandas as pd"
   ]
  },
  {
   "cell_type": "markdown",
   "id": "stunning-physics",
   "metadata": {
    "papermill": {
     "duration": 0.022826,
     "end_time": "2021-02-16T10:04:31.722675",
     "exception": false,
     "start_time": "2021-02-16T10:04:31.699849",
     "status": "completed"
    },
    "tags": []
   },
   "source": [
    "### Preparing the Data"
   ]
  },
  {
   "cell_type": "code",
   "execution_count": 3,
   "id": "unauthorized-remainder",
   "metadata": {
    "execution": {
     "iopub.execute_input": "2021-02-16T10:04:31.777176Z",
     "iopub.status.busy": "2021-02-16T10:04:31.776696Z",
     "iopub.status.idle": "2021-02-16T10:04:31.784850Z",
     "shell.execute_reply": "2021-02-16T10:04:31.784473Z"
    },
    "papermill": {
     "duration": 0.039559,
     "end_time": "2021-02-16T10:04:31.784963",
     "exception": false,
     "start_time": "2021-02-16T10:04:31.745404",
     "status": "completed"
    },
    "tags": []
   },
   "outputs": [],
   "source": [
    "import mnist"
   ]
  },
  {
   "cell_type": "code",
   "execution_count": 4,
   "id": "correct-antarctica",
   "metadata": {
    "execution": {
     "iopub.execute_input": "2021-02-16T10:04:31.834551Z",
     "iopub.status.busy": "2021-02-16T10:04:31.834089Z",
     "iopub.status.idle": "2021-02-16T10:04:32.513891Z",
     "shell.execute_reply": "2021-02-16T10:04:32.513365Z"
    },
    "papermill": {
     "duration": 0.705976,
     "end_time": "2021-02-16T10:04:32.514033",
     "exception": false,
     "start_time": "2021-02-16T10:04:31.808057",
     "status": "completed"
    },
    "tags": []
   },
   "outputs": [],
   "source": [
    "train_images = mnist.train_images()\n",
    "train_labels = mnist.train_labels()"
   ]
  },
  {
   "cell_type": "code",
   "execution_count": 5,
   "id": "musical-prospect",
   "metadata": {
    "execution": {
     "iopub.execute_input": "2021-02-16T10:04:32.564498Z",
     "iopub.status.busy": "2021-02-16T10:04:32.564038Z",
     "iopub.status.idle": "2021-02-16T10:04:32.575838Z",
     "shell.execute_reply": "2021-02-16T10:04:32.576181Z"
    },
    "papermill": {
     "duration": 0.038561,
     "end_time": "2021-02-16T10:04:32.576348",
     "exception": false,
     "start_time": "2021-02-16T10:04:32.537787",
     "status": "completed"
    },
    "tags": []
   },
   "outputs": [
    {
     "data": {
      "text/plain": [
       "((60000, 28, 28), (60000,))"
      ]
     },
     "execution_count": 5,
     "metadata": {},
     "output_type": "execute_result"
    }
   ],
   "source": [
    "train_images.shape, train_labels.shape"
   ]
  },
  {
   "cell_type": "code",
   "execution_count": 6,
   "id": "preliminary-elizabeth",
   "metadata": {
    "execution": {
     "iopub.execute_input": "2021-02-16T10:04:32.626212Z",
     "iopub.status.busy": "2021-02-16T10:04:32.625680Z",
     "iopub.status.idle": "2021-02-16T10:04:32.897994Z",
     "shell.execute_reply": "2021-02-16T10:04:32.898474Z"
    },
    "papermill": {
     "duration": 0.299236,
     "end_time": "2021-02-16T10:04:32.898674",
     "exception": false,
     "start_time": "2021-02-16T10:04:32.599438",
     "status": "completed"
    },
    "tags": []
   },
   "outputs": [],
   "source": [
    "test_images = mnist.test_images()\n",
    "test_labels = mnist.test_labels()"
   ]
  },
  {
   "cell_type": "code",
   "execution_count": 7,
   "id": "acknowledged-oxygen",
   "metadata": {
    "execution": {
     "iopub.execute_input": "2021-02-16T10:04:32.967305Z",
     "iopub.status.busy": "2021-02-16T10:04:32.966715Z",
     "iopub.status.idle": "2021-02-16T10:04:32.975443Z",
     "shell.execute_reply": "2021-02-16T10:04:32.974982Z"
    },
    "papermill": {
     "duration": 0.045842,
     "end_time": "2021-02-16T10:04:32.975564",
     "exception": false,
     "start_time": "2021-02-16T10:04:32.929722",
     "status": "completed"
    },
    "tags": []
   },
   "outputs": [
    {
     "data": {
      "text/plain": [
       "((10000, 28, 28), (10000,))"
      ]
     },
     "execution_count": 7,
     "metadata": {},
     "output_type": "execute_result"
    }
   ],
   "source": [
    "test_images.shape, test_labels.shape"
   ]
  },
  {
   "cell_type": "code",
   "execution_count": 8,
   "id": "innovative-organic",
   "metadata": {
    "execution": {
     "iopub.execute_input": "2021-02-16T10:04:33.036484Z",
     "iopub.status.busy": "2021-02-16T10:04:33.035956Z",
     "iopub.status.idle": "2021-02-16T10:04:33.153383Z",
     "shell.execute_reply": "2021-02-16T10:04:33.153741Z"
    },
    "papermill": {
     "duration": 0.152054,
     "end_time": "2021-02-16T10:04:33.153878",
     "exception": false,
     "start_time": "2021-02-16T10:04:33.001824",
     "status": "completed"
    },
    "tags": []
   },
   "outputs": [
    {
     "name": "stdout",
     "output_type": "stream",
     "text": [
      "2\n"
     ]
    },
    {
     "data": {
      "text/plain": [
       "<matplotlib.image.AxesImage at 0x7fc3b8156320>"
      ]
     },
     "execution_count": 8,
     "metadata": {},
     "output_type": "execute_result"
    },
    {
     "data": {
      "image/png": "[encoded data removed]",
      "text/plain": [
       "<Figure size 432x288 with 1 Axes>"
      ]
     },
     "metadata": {
      "needs_background": "light"
     },
     "output_type": "display_data"
    }
   ],
   "source": [
    "image_index = 7776 # You may select anything up to 60,000\n",
    "print(train_labels[image_index]) \n",
    "plt.imshow(train_images[image_index], cmap='Greys')"
   ]
  },
  {
   "cell_type": "markdown",
   "id": "facial-modem",
   "metadata": {
    "papermill": {
     "duration": 0.024288,
     "end_time": "2021-02-16T10:04:33.202610",
     "exception": false,
     "start_time": "2021-02-16T10:04:33.178322",
     "status": "completed"
    },
    "tags": []
   },
   "source": [
    "## Filter data to get 3 and 8 out"
   ]
  },
  {
   "cell_type": "code",
   "execution_count": 9,
   "id": "thousand-acquisition",
   "metadata": {
    "execution": {
     "iopub.execute_input": "2021-02-16T10:04:33.255361Z",
     "iopub.status.busy": "2021-02-16T10:04:33.254856Z",
     "iopub.status.idle": "2021-02-16T10:04:33.273506Z",
     "shell.execute_reply": "2021-02-16T10:04:33.273023Z"
    },
    "papermill": {
     "duration": 0.046784,
     "end_time": "2021-02-16T10:04:33.273640",
     "exception": false,
     "start_time": "2021-02-16T10:04:33.226856",
     "status": "completed"
    },
    "tags": []
   },
   "outputs": [],
   "source": [
    "train_filter = np.where((train_labels == 3 ) | (train_labels == 8))\n",
    "test_filter = np.where((test_labels == 3) | (test_labels == 8))\n",
    "X_train, y_train = train_images[train_filter], train_labels[train_filter]\n",
    "X_test, y_test = test_images[test_filter], test_labels[test_filter]"
   ]
  },
  {
   "cell_type": "markdown",
   "id": "ruled-access",
   "metadata": {
    "papermill": {
     "duration": 0.024129,
     "end_time": "2021-02-16T10:04:33.323666",
     "exception": false,
     "start_time": "2021-02-16T10:04:33.299537",
     "status": "completed"
    },
    "tags": []
   },
   "source": [
    "We normalize the pixel values in the 0 to 1 range"
   ]
  },
  {
   "cell_type": "code",
   "execution_count": 10,
   "id": "isolated-denver",
   "metadata": {
    "execution": {
     "iopub.execute_input": "2021-02-16T10:04:33.389932Z",
     "iopub.status.busy": "2021-02-16T10:04:33.389447Z",
     "iopub.status.idle": "2021-02-16T10:04:33.426642Z",
     "shell.execute_reply": "2021-02-16T10:04:33.427139Z"
    },
    "papermill": {
     "duration": 0.07943,
     "end_time": "2021-02-16T10:04:33.427312",
     "exception": false,
     "start_time": "2021-02-16T10:04:33.347882",
     "status": "completed"
    },
    "tags": []
   },
   "outputs": [],
   "source": [
    "X_train = X_train/255.\n",
    "X_test = X_test/255."
   ]
  },
  {
   "cell_type": "markdown",
   "id": "perfect-summary",
   "metadata": {
    "papermill": {
     "duration": 0.024545,
     "end_time": "2021-02-16T10:04:33.477661",
     "exception": false,
     "start_time": "2021-02-16T10:04:33.453116",
     "status": "completed"
    },
    "tags": []
   },
   "source": [
    "Setup the labels as 1 (when the digit is 3) and 0 (when the digit is 8)"
   ]
  },
  {
   "cell_type": "code",
   "execution_count": 11,
   "id": "personalized-growing",
   "metadata": {
    "execution": {
     "iopub.execute_input": "2021-02-16T10:04:33.531158Z",
     "iopub.status.busy": "2021-02-16T10:04:33.530666Z",
     "iopub.status.idle": "2021-02-16T10:04:33.541329Z",
     "shell.execute_reply": "2021-02-16T10:04:33.540942Z"
    },
    "papermill": {
     "duration": 0.039539,
     "end_time": "2021-02-16T10:04:33.541439",
     "exception": false,
     "start_time": "2021-02-16T10:04:33.501900",
     "status": "completed"
    },
    "tags": []
   },
   "outputs": [],
   "source": [
    "y_train = 1*(y_train==3)\n",
    "y_test = 1*(y_test==3)"
   ]
  },
  {
   "cell_type": "code",
   "execution_count": 12,
   "id": "considered-virgin",
   "metadata": {
    "execution": {
     "iopub.execute_input": "2021-02-16T10:04:33.593735Z",
     "iopub.status.busy": "2021-02-16T10:04:33.593279Z",
     "iopub.status.idle": "2021-02-16T10:04:33.605479Z",
     "shell.execute_reply": "2021-02-16T10:04:33.605108Z"
    },
    "papermill": {
     "duration": 0.039731,
     "end_time": "2021-02-16T10:04:33.605590",
     "exception": false,
     "start_time": "2021-02-16T10:04:33.565859",
     "status": "completed"
    },
    "tags": []
   },
   "outputs": [
    {
     "data": {
      "text/plain": [
       "((11982, 28, 28), (1984, 28, 28))"
      ]
     },
     "execution_count": 12,
     "metadata": {},
     "output_type": "execute_result"
    }
   ],
   "source": [
    "X_train.shape, X_test.shape"
   ]
  },
  {
   "cell_type": "markdown",
   "id": "civilian-mobile",
   "metadata": {
    "papermill": {
     "duration": 0.024592,
     "end_time": "2021-02-16T10:04:33.654712",
     "exception": false,
     "start_time": "2021-02-16T10:04:33.630120",
     "status": "completed"
    },
    "tags": []
   },
   "source": [
    "### Reshape the input data to create a linear array"
   ]
  },
  {
   "cell_type": "code",
   "execution_count": 13,
   "id": "colonial-adams",
   "metadata": {
    "execution": {
     "iopub.execute_input": "2021-02-16T10:04:33.710643Z",
     "iopub.status.busy": "2021-02-16T10:04:33.710149Z",
     "iopub.status.idle": "2021-02-16T10:04:33.720041Z",
     "shell.execute_reply": "2021-02-16T10:04:33.720482Z"
    },
    "papermill": {
     "duration": 0.041333,
     "end_time": "2021-02-16T10:04:33.720612",
     "exception": false,
     "start_time": "2021-02-16T10:04:33.679279",
     "status": "completed"
    },
    "tags": []
   },
   "outputs": [
    {
     "data": {
      "text/plain": [
       "((11982, 784), (1984, 784))"
      ]
     },
     "execution_count": 13,
     "metadata": {},
     "output_type": "execute_result"
    }
   ],
   "source": [
    "X_train = X_train.reshape(X_train.shape[0], -1)\n",
    "X_test = X_test.reshape(X_test.shape[0], -1)\n",
    "X_train.shape, X_test.shape"
   ]
  },
  {
   "cell_type": "markdown",
   "id": "smart-details",
   "metadata": {
    "papermill": {
     "duration": 0.02451,
     "end_time": "2021-02-16T10:04:33.769847",
     "exception": false,
     "start_time": "2021-02-16T10:04:33.745337",
     "status": "completed"
    },
    "tags": []
   },
   "source": [
    "### Importing appropriate functions from 'Kudzu'"
   ]
  },
  {
   "cell_type": "code",
   "execution_count": 14,
   "id": "celtic-trial",
   "metadata": {
    "execution": {
     "iopub.execute_input": "2021-02-16T10:04:33.824401Z",
     "iopub.status.busy": "2021-02-16T10:04:33.823901Z",
     "iopub.status.idle": "2021-02-16T10:04:33.841973Z",
     "shell.execute_reply": "2021-02-16T10:04:33.841214Z"
    },
    "papermill": {
     "duration": 0.047521,
     "end_time": "2021-02-16T10:04:33.842090",
     "exception": false,
     "start_time": "2021-02-16T10:04:33.794569",
     "status": "completed"
    },
    "tags": []
   },
   "outputs": [],
   "source": [
    "from kudzu.layer import Sigmoid\n",
    "from kudzu.layer import Relu\n",
    "from kudzu.layer import Affine, Sigmoid\n",
    "\n",
    "from kudzu.model import Model\n",
    "from kudzu.train import Learner\n",
    "from kudzu.optim import GD\n",
    "from kudzu.data import Data, Dataloader, Sampler\n",
    "\n",
    "from kudzu.callbacks import AccCallback\n",
    "from kudzu.callbacks import ClfCallback\n",
    "\n",
    "from kudzu.loss import MSE"
   ]
  },
  {
   "cell_type": "markdown",
   "id": "coupled-customer",
   "metadata": {
    "papermill": {
     "duration": 0.0246,
     "end_time": "2021-02-16T10:04:33.891971",
     "exception": false,
     "start_time": "2021-02-16T10:04:33.867371",
     "status": "completed"
    },
    "tags": []
   },
   "source": [
    "### Let us create a `Config` class, to store important parameters. \n",
    "This class essentially plays the role of a dictionary."
   ]
  },
  {
   "cell_type": "code",
   "execution_count": 15,
   "id": "young-ceiling",
   "metadata": {
    "execution": {
     "iopub.execute_input": "2021-02-16T10:04:33.944806Z",
     "iopub.status.busy": "2021-02-16T10:04:33.944341Z",
     "iopub.status.idle": "2021-02-16T10:04:33.954926Z",
     "shell.execute_reply": "2021-02-16T10:04:33.954526Z"
    },
    "papermill": {
     "duration": 0.038403,
     "end_time": "2021-02-16T10:04:33.955047",
     "exception": false,
     "start_time": "2021-02-16T10:04:33.916644",
     "status": "completed"
    },
    "tags": []
   },
   "outputs": [],
   "source": [
    "class Config:\n",
    "    pass\n",
    "config = Config()\n",
    "config.lr = 0.001\n",
    "config.num_epochs = 251\n",
    "config.bs = 50"
   ]
  },
  {
   "cell_type": "markdown",
   "id": "according-mandate",
   "metadata": {
    "papermill": {
     "duration": 0.024591,
     "end_time": "2021-02-16T10:04:34.004247",
     "exception": false,
     "start_time": "2021-02-16T10:04:33.979656",
     "status": "completed"
    },
    "tags": []
   },
   "source": [
    "### Initializing data to the variables"
   ]
  },
  {
   "cell_type": "code",
   "execution_count": 16,
   "id": "academic-disposition",
   "metadata": {
    "execution": {
     "iopub.execute_input": "2021-02-16T10:04:34.058706Z",
     "iopub.status.busy": "2021-02-16T10:04:34.058233Z",
     "iopub.status.idle": "2021-02-16T10:04:34.068794Z",
     "shell.execute_reply": "2021-02-16T10:04:34.068411Z"
    },
    "papermill": {
     "duration": 0.039947,
     "end_time": "2021-02-16T10:04:34.068907",
     "exception": false,
     "start_time": "2021-02-16T10:04:34.028960",
     "status": "completed"
    },
    "tags": []
   },
   "outputs": [],
   "source": [
    "data = Data(X_train, y_train.reshape(-1,1))\n",
    "sampler = Sampler(data, config.bs, shuffle=True)\n",
    "\n",
    "dl = Dataloader(data, sampler)\n",
    "\n",
    "opt = GD(config.lr)\n",
    "loss = MSE()"
   ]
  },
  {
   "cell_type": "code",
   "execution_count": 17,
   "id": "featured-commission",
   "metadata": {
    "execution": {
     "iopub.execute_input": "2021-02-16T10:04:34.124385Z",
     "iopub.status.busy": "2021-02-16T10:04:34.123915Z",
     "iopub.status.idle": "2021-02-16T10:04:34.134353Z",
     "shell.execute_reply": "2021-02-16T10:04:34.134704Z"
    },
    "papermill": {
     "duration": 0.041219,
     "end_time": "2021-02-16T10:04:34.134832",
     "exception": false,
     "start_time": "2021-02-16T10:04:34.093613",
     "status": "completed"
    },
    "tags": []
   },
   "outputs": [],
   "source": [
    "training_xdata = X_train\n",
    "testing_xdata = X_test\n",
    "training_ydata = y_train.reshape(-1,1)\n",
    "testing_ydata = y_test.reshape(-1,1)"
   ]
  },
  {
   "cell_type": "markdown",
   "id": "played-safety",
   "metadata": {
    "papermill": {
     "duration": 0.024455,
     "end_time": "2021-02-16T10:04:34.184114",
     "exception": false,
     "start_time": "2021-02-16T10:04:34.159659",
     "status": "completed"
    },
    "tags": []
   },
   "source": [
    "### Running Models with the Training data\n",
    "Details about the network layers:\n",
    "- A first affine layer has 784 inputs and does 100 affine transforms. These are followed by a Relu\n",
    "- A second affine layer has 100 inputs from the 100 activations of the past layer, and does 100 affine transforms. These are followed by a Relu\n",
    "- A third affine layer has 100 activations and does 2 affine transformations to create an embedding for visualization. There is no non-linearity here.\n",
    "- A final \"logistic regression\" which has an affine transform from 2 inputs to 1 output, which is squeezed through a sigmoid.\n",
    "\n",
    "Help taken from Anshuman's Notebook."
   ]
  },
  {
   "cell_type": "code",
   "execution_count": 18,
   "id": "asian-bankruptcy",
   "metadata": {
    "execution": {
     "iopub.execute_input": "2021-02-16T10:04:34.254960Z",
     "iopub.status.busy": "2021-02-16T10:04:34.250043Z",
     "iopub.status.idle": "2021-02-16T10:04:34.257074Z",
     "shell.execute_reply": "2021-02-16T10:04:34.256697Z"
    },
    "papermill": {
     "duration": 0.048621,
     "end_time": "2021-02-16T10:04:34.257181",
     "exception": false,
     "start_time": "2021-02-16T10:04:34.208560",
     "status": "completed"
    },
    "tags": []
   },
   "outputs": [],
   "source": [
    "# layers for the Neural Network\n",
    "layers = [Affine(\"first\", 784, 100), Relu(\"first\"), Affine(\"second\", 100, 100), Relu(\"second\"), Affine(\"third\", 100, 2), Affine(\"final\", 2, 1), Sigmoid(\"final\")]\n",
    "model_nn = Model(layers)\n",
    "\n",
    "# layers for the Logistic Regression\n",
    "layers_lr = [Affine(\"logits\", 784, 1), Sigmoid(\"sigmoid\")]\n",
    "model_lr = Model(layers_lr)"
   ]
  },
  {
   "cell_type": "code",
   "execution_count": 19,
   "id": "removed-butler",
   "metadata": {
    "execution": {
     "iopub.execute_input": "2021-02-16T10:04:34.310643Z",
     "iopub.status.busy": "2021-02-16T10:04:34.310176Z",
     "iopub.status.idle": "2021-02-16T10:04:34.321613Z",
     "shell.execute_reply": "2021-02-16T10:04:34.321230Z"
    },
    "papermill": {
     "duration": 0.039761,
     "end_time": "2021-02-16T10:04:34.321724",
     "exception": false,
     "start_time": "2021-02-16T10:04:34.281963",
     "status": "completed"
    },
    "tags": []
   },
   "outputs": [],
   "source": [
    "# suffix _nn stands for Neural Network.\n",
    "learner_nn = Learner(loss, model_nn, opt, config.num_epochs)\n",
    "acc_nn = ClfCallback(learner_nn, config.bs, training_xdata , testing_xdata, training_ydata, testing_ydata)\n",
    "learner_nn.set_callbacks([acc_nn])"
   ]
  },
  {
   "cell_type": "code",
   "execution_count": 20,
   "id": "conceptual-throw",
   "metadata": {
    "execution": {
     "iopub.execute_input": "2021-02-16T10:04:34.378954Z",
     "iopub.status.busy": "2021-02-16T10:04:34.378463Z",
     "iopub.status.idle": "2021-02-16T10:05:54.539220Z",
     "shell.execute_reply": "2021-02-16T10:05:54.539665Z"
    },
    "papermill": {
     "duration": 80.193417,
     "end_time": "2021-02-16T10:05:54.539803",
     "exception": false,
     "start_time": "2021-02-16T10:04:34.346386",
     "status": "completed"
    },
    "tags": []
   },
   "outputs": [
    {
     "name": "stdout",
     "output_type": "stream",
     "text": [
      "====== Neural Network ======\n"
     ]
    },
    {
     "name": "stdout",
     "output_type": "stream",
     "text": [
      "Epoch 0, Loss 0.2416\n",
      "Training Accuracy: 0.6629, Testing Accuracy: 0.6835\n",
      "\n"
     ]
    },
    {
     "name": "stdout",
     "output_type": "stream",
     "text": [
      "Epoch 10, Loss 0.1019\n",
      "Training Accuracy: 0.9112, Testing Accuracy: 0.9209\n",
      "\n"
     ]
    },
    {
     "name": "stdout",
     "output_type": "stream",
     "text": [
      "Epoch 20, Loss 0.0584\n",
      "Training Accuracy: 0.9417, Testing Accuracy: 0.9546\n",
      "\n"
     ]
    },
    {
     "name": "stdout",
     "output_type": "stream",
     "text": [
      "Epoch 30, Loss 0.0449\n",
      "Training Accuracy: 0.9518, Testing Accuracy: 0.9587\n",
      "\n"
     ]
    },
    {
     "name": "stdout",
     "output_type": "stream",
     "text": [
      "Epoch 40, Loss 0.0386\n",
      "Training Accuracy: 0.9573, Testing Accuracy: 0.9632\n",
      "\n"
     ]
    },
    {
     "name": "stdout",
     "output_type": "stream",
     "text": [
      "Epoch 50, Loss 0.035\n",
      "Training Accuracy: 0.9604, Testing Accuracy: 0.9637\n",
      "\n"
     ]
    },
    {
     "name": "stdout",
     "output_type": "stream",
     "text": [
      "Epoch 60, Loss 0.0325\n",
      "Training Accuracy: 0.9640, Testing Accuracy: 0.9672\n",
      "\n"
     ]
    },
    {
     "name": "stdout",
     "output_type": "stream",
     "text": [
      "Epoch 70, Loss 0.0307\n",
      "Training Accuracy: 0.9656, Testing Accuracy: 0.9682\n",
      "\n"
     ]
    },
    {
     "name": "stdout",
     "output_type": "stream",
     "text": [
      "Epoch 80, Loss 0.0293\n",
      "Training Accuracy: 0.9671, Testing Accuracy: 0.9693\n",
      "\n"
     ]
    },
    {
     "name": "stdout",
     "output_type": "stream",
     "text": [
      "Epoch 90, Loss 0.0281\n",
      "Training Accuracy: 0.9680, Testing Accuracy: 0.9708\n",
      "\n"
     ]
    },
    {
     "name": "stdout",
     "output_type": "stream",
     "text": [
      "Epoch 100, Loss 0.0271\n",
      "Training Accuracy: 0.9695, Testing Accuracy: 0.9708\n",
      "\n"
     ]
    },
    {
     "name": "stdout",
     "output_type": "stream",
     "text": [
      "Epoch 110, Loss 0.0263\n",
      "Training Accuracy: 0.9702, Testing Accuracy: 0.9713\n",
      "\n"
     ]
    },
    {
     "name": "stdout",
     "output_type": "stream",
     "text": [
      "Epoch 120, Loss 0.0255\n",
      "Training Accuracy: 0.9710, Testing Accuracy: 0.9703\n",
      "\n"
     ]
    },
    {
     "name": "stdout",
     "output_type": "stream",
     "text": [
      "Epoch 130, Loss 0.0248\n",
      "Training Accuracy: 0.9718, Testing Accuracy: 0.9693\n",
      "\n"
     ]
    },
    {
     "name": "stdout",
     "output_type": "stream",
     "text": [
      "Epoch 140, Loss 0.0242\n",
      "Training Accuracy: 0.9725, Testing Accuracy: 0.9703\n",
      "\n"
     ]
    },
    {
     "name": "stdout",
     "output_type": "stream",
     "text": [
      "Epoch 150, Loss 0.0236\n",
      "Training Accuracy: 0.9730, Testing Accuracy: 0.9703\n",
      "\n"
     ]
    },
    {
     "name": "stdout",
     "output_type": "stream",
     "text": [
      "Epoch 160, Loss 0.023\n",
      "Training Accuracy: 0.9736, Testing Accuracy: 0.9708\n",
      "\n"
     ]
    },
    {
     "name": "stdout",
     "output_type": "stream",
     "text": [
      "Epoch 170, Loss 0.0225\n",
      "Training Accuracy: 0.9740, Testing Accuracy: 0.9703\n",
      "\n"
     ]
    },
    {
     "name": "stdout",
     "output_type": "stream",
     "text": [
      "Epoch 180, Loss 0.0221\n",
      "Training Accuracy: 0.9747, Testing Accuracy: 0.9713\n",
      "\n"
     ]
    },
    {
     "name": "stdout",
     "output_type": "stream",
     "text": [
      "Epoch 190, Loss 0.0216\n",
      "Training Accuracy: 0.9750, Testing Accuracy: 0.9718\n",
      "\n"
     ]
    },
    {
     "name": "stdout",
     "output_type": "stream",
     "text": [
      "Epoch 200, Loss 0.0212\n",
      "Training Accuracy: 0.9754, Testing Accuracy: 0.9718\n",
      "\n"
     ]
    },
    {
     "name": "stdout",
     "output_type": "stream",
     "text": [
      "Epoch 210, Loss 0.0208\n",
      "Training Accuracy: 0.9760, Testing Accuracy: 0.9723\n",
      "\n"
     ]
    },
    {
     "name": "stdout",
     "output_type": "stream",
     "text": [
      "Epoch 220, Loss 0.0204\n",
      "Training Accuracy: 0.9764, Testing Accuracy: 0.9723\n",
      "\n"
     ]
    },
    {
     "name": "stdout",
     "output_type": "stream",
     "text": [
      "Epoch 230, Loss 0.02\n",
      "Training Accuracy: 0.9771, Testing Accuracy: 0.9723\n",
      "\n"
     ]
    },
    {
     "name": "stdout",
     "output_type": "stream",
     "text": [
      "Epoch 240, Loss 0.0197\n",
      "Training Accuracy: 0.9774, Testing Accuracy: 0.9723\n",
      "\n"
     ]
    },
    {
     "name": "stdout",
     "output_type": "stream",
     "text": [
      "Epoch 250, Loss 0.0193\n",
      "Training Accuracy: 0.9779, Testing Accuracy: 0.9728\n",
      "\n"
     ]
    },
    {
     "data": {
      "text/plain": [
       "0.009791682761883322"
      ]
     },
     "execution_count": 20,
     "metadata": {},
     "output_type": "execute_result"
    }
   ],
   "source": [
    "print(\"====== Neural Network ======\")\n",
    "learner_nn.train_loop(dl)"
   ]
  },
  {
   "cell_type": "markdown",
   "id": "competent-suffering",
   "metadata": {
    "papermill": {
     "duration": 0.0307,
     "end_time": "2021-02-16T10:05:54.601911",
     "exception": false,
     "start_time": "2021-02-16T10:05:54.571211",
     "status": "completed"
    },
    "tags": []
   },
   "source": [
    "### Logistic Regression based Implementation."
   ]
  },
  {
   "cell_type": "code",
   "execution_count": 21,
   "id": "qualified-psychiatry",
   "metadata": {
    "execution": {
     "iopub.execute_input": "2021-02-16T10:05:54.677021Z",
     "iopub.status.busy": "2021-02-16T10:05:54.675964Z",
     "iopub.status.idle": "2021-02-16T10:05:54.681396Z",
     "shell.execute_reply": "2021-02-16T10:05:54.681740Z"
    },
    "papermill": {
     "duration": 0.049228,
     "end_time": "2021-02-16T10:05:54.681870",
     "exception": false,
     "start_time": "2021-02-16T10:05:54.632642",
     "status": "completed"
    },
    "tags": []
   },
   "outputs": [],
   "source": [
    "learner_lr = Learner(loss, model_lr, opt, config.num_epochs)\n",
    "acc_lr = ClfCallback(learner_lr, config.bs, training_xdata , testing_xdata, training_ydata, testing_ydata)\n",
    "learner_lr.set_callbacks([acc_lr])"
   ]
  },
  {
   "cell_type": "code",
   "execution_count": 22,
   "id": "average-outside",
   "metadata": {
    "execution": {
     "iopub.execute_input": "2021-02-16T10:05:54.750486Z",
     "iopub.status.busy": "2021-02-16T10:05:54.749638Z",
     "iopub.status.idle": "2021-02-16T10:06:08.552878Z",
     "shell.execute_reply": "2021-02-16T10:06:08.553508Z"
    },
    "papermill": {
     "duration": 13.840854,
     "end_time": "2021-02-16T10:06:08.553656",
     "exception": false,
     "start_time": "2021-02-16T10:05:54.712802",
     "status": "completed"
    },
    "tags": []
   },
   "outputs": [
    {
     "name": "stdout",
     "output_type": "stream",
     "text": [
      "====== Logistic Regression ======\n",
      "Epoch 0, Loss 0.2437\n",
      "Training Accuracy: 0.6492, Testing Accuracy: 0.6442\n",
      "\n"
     ]
    },
    {
     "name": "stdout",
     "output_type": "stream",
     "text": [
      "Epoch 10, Loss 0.109\n",
      "Training Accuracy: 0.8918, Testing Accuracy: 0.8977\n",
      "\n"
     ]
    },
    {
     "name": "stdout",
     "output_type": "stream",
     "text": [
      "Epoch 20, Loss 0.0824\n",
      "Training Accuracy: 0.9206, Testing Accuracy: 0.9284\n",
      "\n"
     ]
    },
    {
     "name": "stdout",
     "output_type": "stream",
     "text": [
      "Epoch 30, Loss 0.0703\n",
      "Training Accuracy: 0.9301, Testing Accuracy: 0.9430\n",
      "\n"
     ]
    },
    {
     "name": "stdout",
     "output_type": "stream",
     "text": [
      "Epoch 40, Loss 0.0631\n",
      "Training Accuracy: 0.9376, Testing Accuracy: 0.9476\n",
      "\n"
     ]
    },
    {
     "name": "stdout",
     "output_type": "stream",
     "text": [
      "Epoch 50, Loss 0.0582\n",
      "Training Accuracy: 0.9412, Testing Accuracy: 0.9506\n",
      "\n"
     ]
    },
    {
     "name": "stdout",
     "output_type": "stream",
     "text": [
      "Epoch 60, Loss 0.0547\n",
      "Training Accuracy: 0.9441, Testing Accuracy: 0.9556\n",
      "\n"
     ]
    },
    {
     "name": "stdout",
     "output_type": "stream",
     "text": [
      "Epoch 70, Loss 0.052\n",
      "Training Accuracy: 0.9467, Testing Accuracy: 0.9556\n",
      "\n"
     ]
    },
    {
     "name": "stdout",
     "output_type": "stream",
     "text": [
      "Epoch 80, Loss 0.0498\n",
      "Training Accuracy: 0.9491, Testing Accuracy: 0.9577\n",
      "\n"
     ]
    },
    {
     "name": "stdout",
     "output_type": "stream",
     "text": [
      "Epoch 90, Loss 0.0481\n",
      "Training Accuracy: 0.9509, Testing Accuracy: 0.9577\n",
      "\n"
     ]
    },
    {
     "name": "stdout",
     "output_type": "stream",
     "text": [
      "Epoch 100, Loss 0.0466\n",
      "Training Accuracy: 0.9523, Testing Accuracy: 0.9587\n",
      "\n"
     ]
    },
    {
     "name": "stdout",
     "output_type": "stream",
     "text": [
      "Epoch 110, Loss 0.0453\n",
      "Training Accuracy: 0.9539, Testing Accuracy: 0.9607\n",
      "\n"
     ]
    },
    {
     "name": "stdout",
     "output_type": "stream",
     "text": [
      "Epoch 120, Loss 0.0442\n",
      "Training Accuracy: 0.9550, Testing Accuracy: 0.9617\n",
      "\n"
     ]
    },
    {
     "name": "stdout",
     "output_type": "stream",
     "text": [
      "Epoch 130, Loss 0.0432\n",
      "Training Accuracy: 0.9559, Testing Accuracy: 0.9617\n",
      "\n"
     ]
    },
    {
     "name": "stdout",
     "output_type": "stream",
     "text": [
      "Epoch 140, Loss 0.0424\n",
      "Training Accuracy: 0.9561, Testing Accuracy: 0.9622\n",
      "\n"
     ]
    },
    {
     "name": "stdout",
     "output_type": "stream",
     "text": [
      "Epoch 150, Loss 0.0416\n",
      "Training Accuracy: 0.9563, Testing Accuracy: 0.9622\n",
      "\n"
     ]
    },
    {
     "name": "stdout",
     "output_type": "stream",
     "text": [
      "Epoch 160, Loss 0.0409\n",
      "Training Accuracy: 0.9573, Testing Accuracy: 0.9637\n",
      "\n"
     ]
    },
    {
     "name": "stdout",
     "output_type": "stream",
     "text": [
      "Epoch 170, Loss 0.0402\n",
      "Training Accuracy: 0.9576, Testing Accuracy: 0.9642\n",
      "\n"
     ]
    },
    {
     "name": "stdout",
     "output_type": "stream",
     "text": [
      "Epoch 180, Loss 0.0397\n",
      "Training Accuracy: 0.9577, Testing Accuracy: 0.9657\n",
      "\n"
     ]
    },
    {
     "name": "stdout",
     "output_type": "stream",
     "text": [
      "Epoch 190, Loss 0.0391\n",
      "Training Accuracy: 0.9583, Testing Accuracy: 0.9667\n",
      "\n"
     ]
    },
    {
     "name": "stdout",
     "output_type": "stream",
     "text": [
      "Epoch 200, Loss 0.0386\n",
      "Training Accuracy: 0.9588, Testing Accuracy: 0.9667\n",
      "\n"
     ]
    },
    {
     "name": "stdout",
     "output_type": "stream",
     "text": [
      "Epoch 210, Loss 0.0382\n",
      "Training Accuracy: 0.9590, Testing Accuracy: 0.9667\n",
      "\n"
     ]
    },
    {
     "name": "stdout",
     "output_type": "stream",
     "text": [
      "Epoch 220, Loss 0.0378\n",
      "Training Accuracy: 0.9593, Testing Accuracy: 0.9667\n",
      "\n"
     ]
    },
    {
     "name": "stdout",
     "output_type": "stream",
     "text": [
      "Epoch 230, Loss 0.0374\n",
      "Training Accuracy: 0.9604, Testing Accuracy: 0.9672\n",
      "\n"
     ]
    },
    {
     "name": "stdout",
     "output_type": "stream",
     "text": [
      "Epoch 240, Loss 0.037\n",
      "Training Accuracy: 0.9608, Testing Accuracy: 0.9677\n",
      "\n"
     ]
    },
    {
     "name": "stdout",
     "output_type": "stream",
     "text": [
      "Epoch 250, Loss 0.0366\n",
      "Training Accuracy: 0.9612, Testing Accuracy: 0.9682\n",
      "\n"
     ]
    },
    {
     "data": {
      "text/plain": [
       "0.011482841014192453"
      ]
     },
     "execution_count": 22,
     "metadata": {},
     "output_type": "execute_result"
    }
   ],
   "source": [
    "print(\"====== Logistic Regression ======\")\n",
    "learner_lr.train_loop(dl)"
   ]
  },
  {
   "cell_type": "markdown",
   "id": "adjusted-possible",
   "metadata": {
    "papermill": {
     "duration": 0.036705,
     "end_time": "2021-02-16T10:06:08.628015",
     "exception": false,
     "start_time": "2021-02-16T10:06:08.591310",
     "status": "completed"
    },
    "tags": []
   },
   "source": [
    "### Comparing results of NN and LR"
   ]
  },
  {
   "cell_type": "code",
   "execution_count": 23,
   "id": "mental-multimedia",
   "metadata": {
    "execution": {
     "iopub.execute_input": "2021-02-16T10:06:08.706451Z",
     "iopub.status.busy": "2021-02-16T10:06:08.705844Z",
     "iopub.status.idle": "2021-02-16T10:06:08.901044Z",
     "shell.execute_reply": "2021-02-16T10:06:08.900649Z"
    },
    "papermill": {
     "duration": 0.236299,
     "end_time": "2021-02-16T10:06:08.901162",
     "exception": false,
     "start_time": "2021-02-16T10:06:08.664863",
     "status": "completed"
    },
    "tags": []
   },
   "outputs": [
    {
     "data": {
      "text/plain": [
       "<matplotlib.legend.Legend at 0x7fc3afcacc88>"
      ]
     },
     "execution_count": 23,
     "metadata": {},
     "output_type": "execute_result"
    },
    {
     "data": {
      "image/png": "[encoded data removed]",
      "text/plain": [
       "<Figure size 1080x720 with 1 Axes>"
      ]
     },
     "metadata": {
      "needs_background": "light"
     },
     "output_type": "display_data"
    }
   ],
   "source": [
    "plt.figure(figsize=(15,10))\n",
    "\n",
    "# Neural Network plots\n",
    "plt.plot(acc_nn.accuracies, 'r-', label = \"Training Accuracies - NN\")\n",
    "plt.plot(acc_nn.test_accuracies, 'g-', label = \"Testing Accuracies - NN\")\n",
    "\n",
    "# Logistic Regression plots\n",
    "plt.plot(acc_lr.accuracies, 'k-', label = \"Training Accuracies - LR\")\n",
    "plt.plot(acc_lr.test_accuracies, 'b-', label = \"Testing Accuracies - LR\")\n",
    "\n",
    "plt.ylim(0.8, 1)\n",
    "\n",
    "plt.legend()\n",
    "\n"
   ]
  },
  {
   "cell_type": "markdown",
   "id": "sexual-flesh",
   "metadata": {
    "papermill": {
     "duration": 0.038291,
     "end_time": "2021-02-16T10:06:08.978114",
     "exception": false,
     "start_time": "2021-02-16T10:06:08.939823",
     "status": "completed"
    },
    "tags": []
   },
   "source": [
    "### From the plot, we can observe the following:\n",
    "- Neural Network achieves higher accuracy than the Logistic Regression model.\n",
    "- This apparently, is because of overfitting, i.e. NN captures more noise than data.\n",
    "- Testing accuracy of NN drops below the Training accuracy at higher epochs. This explains the over-fitting on training data.\n",
    "- Logistic Regression gives a reliable accuracy, without the above mentioned problem.\n"
   ]
  },
  {
   "cell_type": "markdown",
   "id": "institutional-pacific",
   "metadata": {
    "papermill": {
     "duration": 0.038289,
     "end_time": "2021-02-16T10:06:09.054693",
     "exception": false,
     "start_time": "2021-02-16T10:06:09.016404",
     "status": "completed"
    },
    "tags": []
   },
   "source": [
    "### Moving till the last but one layer (excluding it).\n",
    "#### Plotting the outputs of this layer of the NN."
   ]
  },
  {
   "cell_type": "code",
   "execution_count": 24,
   "id": "economic-server",
   "metadata": {
    "execution": {
     "iopub.execute_input": "2021-02-16T10:06:09.138570Z",
     "iopub.status.busy": "2021-02-16T10:06:09.137954Z",
     "iopub.status.idle": "2021-02-16T10:06:09.148782Z",
     "shell.execute_reply": "2021-02-16T10:06:09.148376Z"
    },
    "papermill": {
     "duration": 0.055816,
     "end_time": "2021-02-16T10:06:09.148894",
     "exception": false,
     "start_time": "2021-02-16T10:06:09.093078",
     "status": "completed"
    },
    "tags": []
   },
   "outputs": [],
   "source": [
    "model_new = Model(layers[:-2])"
   ]
  },
  {
   "cell_type": "code",
   "execution_count": 25,
   "id": "varied-upgrade",
   "metadata": {
    "execution": {
     "iopub.execute_input": "2021-02-16T10:06:09.232721Z",
     "iopub.status.busy": "2021-02-16T10:06:09.232224Z",
     "iopub.status.idle": "2021-02-16T10:06:09.248720Z",
     "shell.execute_reply": "2021-02-16T10:06:09.249325Z"
    },
    "papermill": {
     "duration": 0.062134,
     "end_time": "2021-02-16T10:06:09.249460",
     "exception": false,
     "start_time": "2021-02-16T10:06:09.187326",
     "status": "completed"
    },
    "tags": []
   },
   "outputs": [],
   "source": [
    "plot_testing = model_new(testing_xdata)"
   ]
  },
  {
   "cell_type": "code",
   "execution_count": 26,
   "id": "specific-handling",
   "metadata": {
    "execution": {
     "iopub.execute_input": "2021-02-16T10:06:09.331248Z",
     "iopub.status.busy": "2021-02-16T10:06:09.330752Z",
     "iopub.status.idle": "2021-02-16T10:06:09.509427Z",
     "shell.execute_reply": "2021-02-16T10:06:09.509032Z"
    },
    "papermill": {
     "duration": 0.221436,
     "end_time": "2021-02-16T10:06:09.509545",
     "exception": false,
     "start_time": "2021-02-16T10:06:09.288109",
     "status": "completed"
    },
    "tags": []
   },
   "outputs": [
    {
     "data": {
      "text/plain": [
       "Text(0.5, 1.0, 'Outputs')"
      ]
     },
     "execution_count": 26,
     "metadata": {},
     "output_type": "execute_result"
    },
    {
     "data": {
      "image/png": "[encoded data removed]",
      "text/plain": [
       "<Figure size 576x504 with 1 Axes>"
      ]
     },
     "metadata": {
      "needs_background": "light"
     },
     "output_type": "display_data"
    }
   ],
   "source": [
    "plt.figure(figsize=(8,7))\n",
    "plt.scatter(plot_testing[:,0], plot_testing[:,1], alpha = 0.1, c = y_test.ravel());\n",
    "plt.title('Outputs')"
   ]
  },
  {
   "cell_type": "markdown",
   "id": "described-knowing",
   "metadata": {
    "papermill": {
     "duration": 0.040009,
     "end_time": "2021-02-16T10:06:09.590063",
     "exception": false,
     "start_time": "2021-02-16T10:06:09.550054",
     "status": "completed"
    },
    "tags": []
   },
   "source": [
    "### Plotting probability contours"
   ]
  },
  {
   "cell_type": "code",
   "execution_count": 27,
   "id": "needed-growing",
   "metadata": {
    "execution": {
     "iopub.execute_input": "2021-02-16T10:06:09.684873Z",
     "iopub.status.busy": "2021-02-16T10:06:09.684380Z",
     "iopub.status.idle": "2021-02-16T10:06:09.686353Z",
     "shell.execute_reply": "2021-02-16T10:06:09.686749Z"
    },
    "papermill": {
     "duration": 0.056688,
     "end_time": "2021-02-16T10:06:09.686878",
     "exception": false,
     "start_time": "2021-02-16T10:06:09.630190",
     "status": "completed"
    },
    "tags": []
   },
   "outputs": [],
   "source": [
    "model_prob = Model(layers[-2:]) "
   ]
  },
  {
   "cell_type": "code",
   "execution_count": 28,
   "id": "introductory-enforcement",
   "metadata": {
    "execution": {
     "iopub.execute_input": "2021-02-16T10:06:09.780000Z",
     "iopub.status.busy": "2021-02-16T10:06:09.779226Z",
     "iopub.status.idle": "2021-02-16T10:06:09.789418Z",
     "shell.execute_reply": "2021-02-16T10:06:09.789793Z"
    },
    "papermill": {
     "duration": 0.062996,
     "end_time": "2021-02-16T10:06:09.789925",
     "exception": false,
     "start_time": "2021-02-16T10:06:09.726929",
     "status": "completed"
    },
    "tags": []
   },
   "outputs": [],
   "source": [
    "# Adjust the x and y ranges according to the above generated plot.\n",
    "x_range = np.linspace(-4, 1, 100) \n",
    "y_range = np.linspace(-6, 6, 100) \n",
    "x_grid, y_grid = np.meshgrid(x_range, y_range) # x_grid and y_grig are of size 100 X 100\n",
    "\n",
    "# converting x_grid and y_grid to continuous arrays\n",
    "x_grid_flat = np.ravel(x_grid)\n",
    "y_grid_flat = np.ravel(y_grid)\n",
    "\n",
    "# The last layer of the current model takes two columns as input. Hence transpose of np.vstack() is required.\n",
    "X = np.vstack((x_grid_flat, y_grid_flat)).T\n",
    "\n",
    "# x_grid and y_grid are of size 100 x 100\n",
    "probability_contour = model_prob(X).reshape(100,100) "
   ]
  },
  {
   "cell_type": "code",
   "execution_count": 29,
   "id": "understood-landing",
   "metadata": {
    "execution": {
     "iopub.execute_input": "2021-02-16T10:06:09.915622Z",
     "iopub.status.busy": "2021-02-16T10:06:09.911780Z",
     "iopub.status.idle": "2021-02-16T10:06:10.116490Z",
     "shell.execute_reply": "2021-02-16T10:06:10.116098Z"
    },
    "papermill": {
     "duration": 0.255707,
     "end_time": "2021-02-16T10:06:10.116608",
     "exception": false,
     "start_time": "2021-02-16T10:06:09.860901",
     "status": "completed"
    },
    "tags": []
   },
   "outputs": [
    {
     "data": {
      "image/png": "[encoded data removed]",
      "text/plain": [
       "<Figure size 720x648 with 1 Axes>"
      ]
     },
     "metadata": {
      "needs_background": "light"
     },
     "output_type": "display_data"
    }
   ],
   "source": [
    "plt.figure(figsize=(10,9))\n",
    "plt.scatter(plot_testing[:,0], plot_testing[:,1], alpha = 0.1, c = y_test.ravel())\n",
    "contours = plt.contour(x_grid,y_grid,probability_contour)\n",
    "plt.title('Probability Contours')\n",
    "plt.clabel(contours, inline = True );"
   ]
  }
 ],
 "metadata": {
  "kernelspec": {
   "display_name": "Python 3",
   "language": "python",
   "name": "python3"
  },
  "language_info": {
   "codemirror_mode": {
    "name": "ipython",
    "version": 3
   },
   "file_extension": ".py",
   "mimetype": "text/x-python",
   "name": "python",
   "nbconvert_exporter": "python",
   "pygments_lexer": "ipython3",
   "version": "3.6.12"
  },
  "papermill": {
   "duration": 101.979954,
   "end_time": "2021-02-16T10:06:10.567387",
   "environment_variables": {},
   "exception": null,
   "input_path": "2020-08-11-NeuralNetwork.ipynb",
   "output_path": "2020-08-11-NeuralNetwork.ipynb",
   "parameters": {},
   "start_time": "2021-02-16T10:04:28.587433",
   "version": "2.1.2"
  }
 },
 "nbformat": 4,
 "nbformat_minor": 5
}