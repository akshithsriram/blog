{
 "cells": [
  {
   "cell_type": "markdown",
   "id": "fitted-suggestion",
   "metadata": {
    "papermill": {
     "duration": 0.029981,
     "end_time": "2021-06-12T20:04:38.931454",
     "exception": false,
     "start_time": "2021-06-12T20:04:38.901473",
     "status": "completed"
    },
    "tags": []
   },
   "source": [
    "# \"A Basic Neural Network: Differentiate Hand-Written Digits\"\n",
    "\n",
    "- badges: true\n",
    "- author: Akshith Sriram"
   ]
  },
  {
   "cell_type": "markdown",
   "id": "signal-flexibility",
   "metadata": {
    "papermill": {
     "duration": 0.02543,
     "end_time": "2021-06-12T20:04:38.983062",
     "exception": false,
     "start_time": "2021-06-12T20:04:38.957632",
     "status": "completed"
    },
    "tags": []
   },
   "source": [
    "### Key Objectives:\n",
    "- Building a neural network that differentiates two hand-written digits 3 and 8.\n",
    "- Comparing the results of this Neural Network (NN) to that of a Logistic Regression (LR) model.\n",
    "\n",
    "### Requirements:\n",
    "- 'Kudzu' : A neural network library that was designed during our course by [Univ.AI](www.univ.ai). \n",
    "- MNIST Database\n",
    "\n",
    "If MNIST is not installed, use the command `!pip install mnist` given below.\n",
    "It can be run both from the command line and Jupyter Notebook."
   ]
  },
  {
   "cell_type": "code",
   "execution_count": 1,
   "id": "british-texture",
   "metadata": {
    "execution": {
     "iopub.execute_input": "2021-06-12T20:04:39.043616Z",
     "iopub.status.busy": "2021-06-12T20:04:39.043090Z",
     "iopub.status.idle": "2021-06-12T20:04:40.454143Z",
     "shell.execute_reply": "2021-06-12T20:04:40.454629Z"
    },
    "papermill": {
     "duration": 1.446527,
     "end_time": "2021-06-12T20:04:40.454812",
     "exception": false,
     "start_time": "2021-06-12T20:04:39.008285",
     "status": "completed"
    },
    "tags": []
   },
   "outputs": [
    {
     "name": "stdout",
     "output_type": "stream",
     "text": [
      "Collecting mnist\r\n"
     ]
    },
    {
     "name": "stdout",
     "output_type": "stream",
     "text": [
      "  Downloading mnist-0.2.2-py2.py3-none-any.whl (3.5 kB)\r\n"
     ]
    },
    {
     "name": "stdout",
     "output_type": "stream",
     "text": [
      "Requirement already satisfied: numpy in /opt/hostedtoolcache/Python/3.6.13/x64/lib/python3.6/site-packages (from mnist) (1.19.5)\r\n"
     ]
    },
    {
     "name": "stdout",
     "output_type": "stream",
     "text": [
      "Installing collected packages: mnist\r\n",
      "Successfully installed mnist-0.2.2\r\n"
     ]
    }
   ],
   "source": [
    "!pip install mnist "
   ]
  },
  {
   "cell_type": "markdown",
   "id": "stunning-extra",
   "metadata": {
    "papermill": {
     "duration": 0.026391,
     "end_time": "2021-06-12T20:04:40.508812",
     "exception": false,
     "start_time": "2021-06-12T20:04:40.482421",
     "status": "completed"
    },
    "tags": []
   },
   "source": [
    "#### Importing necessary libraries"
   ]
  },
  {
   "cell_type": "code",
   "execution_count": 2,
   "id": "wooden-france",
   "metadata": {
    "execution": {
     "iopub.execute_input": "2021-06-12T20:04:40.568864Z",
     "iopub.status.busy": "2021-06-12T20:04:40.568330Z",
     "iopub.status.idle": "2021-06-12T20:04:41.088145Z",
     "shell.execute_reply": "2021-06-12T20:04:41.088643Z"
    },
    "papermill": {
     "duration": 0.553615,
     "end_time": "2021-06-12T20:04:41.088797",
     "exception": false,
     "start_time": "2021-06-12T20:04:40.535182",
     "status": "completed"
    },
    "tags": []
   },
   "outputs": [],
   "source": [
    "%load_ext autoreload\n",
    "%autoreload 2\n",
    "\n",
    "%matplotlib inline\n",
    "import matplotlib.pyplot as plt\n",
    "\n",
    "import numpy as np\n",
    "import pandas as pd"
   ]
  },
  {
   "cell_type": "markdown",
   "id": "stunning-physics",
   "metadata": {
    "papermill": {
     "duration": 0.026902,
     "end_time": "2021-06-12T20:04:41.142721",
     "exception": false,
     "start_time": "2021-06-12T20:04:41.115819",
     "status": "completed"
    },
    "tags": []
   },
   "source": [
    "### Preparing the Data"
   ]
  },
  {
   "cell_type": "code",
   "execution_count": 3,
   "id": "unauthorized-remainder",
   "metadata": {
    "execution": {
     "iopub.execute_input": "2021-06-12T20:04:41.210617Z",
     "iopub.status.busy": "2021-06-12T20:04:41.204465Z",
     "iopub.status.idle": "2021-06-12T20:04:41.214609Z",
     "shell.execute_reply": "2021-06-12T20:04:41.214073Z"
    },
    "papermill": {
     "duration": 0.045575,
     "end_time": "2021-06-12T20:04:41.214718",
     "exception": false,
     "start_time": "2021-06-12T20:04:41.169143",
     "status": "completed"
    },
    "tags": []
   },
   "outputs": [],
   "source": [
    "import mnist"
   ]
  },
  {
   "cell_type": "code",
   "execution_count": 4,
   "id": "correct-antarctica",
   "metadata": {
    "execution": {
     "iopub.execute_input": "2021-06-12T20:04:41.282568Z",
     "iopub.status.busy": "2021-06-12T20:04:41.270780Z",
     "iopub.status.idle": "2021-06-12T20:05:46.536076Z",
     "shell.execute_reply": "2021-06-12T20:05:46.535564Z"
    },
    "papermill": {
     "duration": 65.294959,
     "end_time": "2021-06-12T20:05:46.536252",
     "exception": false,
     "start_time": "2021-06-12T20:04:41.241293",
     "status": "completed"
    },
    "tags": []
   },
   "outputs": [],
   "source": [
    "train_images = mnist.train_images()\n",
    "train_labels = mnist.train_labels()"
   ]
  },
  {
   "cell_type": "code",
   "execution_count": 5,
   "id": "musical-prospect",
   "metadata": {
    "execution": {
     "iopub.execute_input": "2021-06-12T20:05:46.603341Z",
     "iopub.status.busy": "2021-06-12T20:05:46.602812Z",
     "iopub.status.idle": "2021-06-12T20:05:46.610494Z",
     "shell.execute_reply": "2021-06-12T20:05:46.610891Z"
    },
    "papermill": {
     "duration": 0.047969,
     "end_time": "2021-06-12T20:05:46.611019",
     "exception": false,
     "start_time": "2021-06-12T20:05:46.563050",
     "status": "completed"
    },
    "tags": []
   },
   "outputs": [
    {
     "data": {
      "text/plain": [
       "((60000, 28, 28), (60000,))"
      ]
     },
     "execution_count": 5,
     "metadata": {},
     "output_type": "execute_result"
    }
   ],
   "source": [
    "train_images.shape, train_labels.shape"
   ]
  },
  {
   "cell_type": "code",
   "execution_count": 6,
   "id": "preliminary-elizabeth",
   "metadata": {
    "execution": {
     "iopub.execute_input": "2021-06-12T20:05:46.668282Z",
     "iopub.status.busy": "2021-06-12T20:05:46.667753Z",
     "iopub.status.idle": "2021-06-12T20:05:55.385238Z",
     "shell.execute_reply": "2021-06-12T20:05:55.384723Z"
    },
    "papermill": {
     "duration": 8.747566,
     "end_time": "2021-06-12T20:05:55.385374",
     "exception": false,
     "start_time": "2021-06-12T20:05:46.637808",
     "status": "completed"
    },
    "tags": []
   },
   "outputs": [],
   "source": [
    "test_images = mnist.test_images()\n",
    "test_labels = mnist.test_labels()"
   ]
  },
  {
   "cell_type": "code",
   "execution_count": 7,
   "id": "acknowledged-oxygen",
   "metadata": {
    "execution": {
     "iopub.execute_input": "2021-06-12T20:05:55.443775Z",
     "iopub.status.busy": "2021-06-12T20:05:55.443183Z",
     "iopub.status.idle": "2021-06-12T20:05:55.455491Z",
     "shell.execute_reply": "2021-06-12T20:05:55.455078Z"
    },
    "papermill": {
     "duration": 0.042543,
     "end_time": "2021-06-12T20:05:55.455605",
     "exception": false,
     "start_time": "2021-06-12T20:05:55.413062",
     "status": "completed"
    },
    "tags": []
   },
   "outputs": [
    {
     "data": {
      "text/plain": [
       "((10000, 28, 28), (10000,))"
      ]
     },
     "execution_count": 7,
     "metadata": {},
     "output_type": "execute_result"
    }
   ],
   "source": [
    "test_images.shape, test_labels.shape"
   ]
  },
  {
   "cell_type": "code",
   "execution_count": 8,
   "id": "innovative-organic",
   "metadata": {
    "execution": {
     "iopub.execute_input": "2021-06-12T20:05:55.545552Z",
     "iopub.status.busy": "2021-06-12T20:05:55.542249Z",
     "iopub.status.idle": "2021-06-12T20:05:55.650640Z",
     "shell.execute_reply": "2021-06-12T20:05:55.649780Z"
    },
    "papermill": {
     "duration": 0.16723,
     "end_time": "2021-06-12T20:05:55.650770",
     "exception": false,
     "start_time": "2021-06-12T20:05:55.483540",
     "status": "completed"
    },
    "tags": []
   },
   "outputs": [
    {
     "name": "stdout",
     "output_type": "stream",
     "text": [
      "2\n"
     ]
    },
    {
     "data": {
      "text/plain": [
       "<matplotlib.image.AxesImage at 0x7f8fa39806d8>"
      ]
     },
     "execution_count": 8,
     "metadata": {},
     "output_type": "execute_result"
    },
    {
     "data": {
      "image/png": "[encoded data removed]",
      "text/plain": [
       "<Figure size 432x288 with 1 Axes>"
      ]
     },
     "metadata": {
      "needs_background": "light"
     },
     "output_type": "display_data"
    }
   ],
   "source": [
    "image_index = 7776 # You may select anything up to 60,000\n",
    "print(train_labels[image_index]) \n",
    "plt.imshow(train_images[image_index], cmap='Greys')"
   ]
  },
  {
   "cell_type": "markdown",
   "id": "facial-modem",
   "metadata": {
    "papermill": {
     "duration": 0.028055,
     "end_time": "2021-06-12T20:05:55.707195",
     "exception": false,
     "start_time": "2021-06-12T20:05:55.679140",
     "status": "completed"
    },
    "tags": []
   },
   "source": [
    "## Filter data to get 3 and 8 out"
   ]
  },
  {
   "cell_type": "code",
   "execution_count": 9,
   "id": "thousand-acquisition",
   "metadata": {
    "execution": {
     "iopub.execute_input": "2021-06-12T20:05:55.768405Z",
     "iopub.status.busy": "2021-06-12T20:05:55.767213Z",
     "iopub.status.idle": "2021-06-12T20:05:55.784235Z",
     "shell.execute_reply": "2021-06-12T20:05:55.783680Z"
    },
    "papermill": {
     "duration": 0.049108,
     "end_time": "2021-06-12T20:05:55.784352",
     "exception": false,
     "start_time": "2021-06-12T20:05:55.735244",
     "status": "completed"
    },
    "tags": []
   },
   "outputs": [],
   "source": [
    "train_filter = np.where((train_labels == 3 ) | (train_labels == 8))\n",
    "test_filter = np.where((test_labels == 3) | (test_labels == 8))\n",
    "X_train, y_train = train_images[train_filter], train_labels[train_filter]\n",
    "X_test, y_test = test_images[test_filter], test_labels[test_filter]"
   ]
  },
  {
   "cell_type": "markdown",
   "id": "ruled-access",
   "metadata": {
    "papermill": {
     "duration": 0.028294,
     "end_time": "2021-06-12T20:05:55.840914",
     "exception": false,
     "start_time": "2021-06-12T20:05:55.812620",
     "status": "completed"
    },
    "tags": []
   },
   "source": [
    "We normalize the pixel values in the 0 to 1 range"
   ]
  },
  {
   "cell_type": "code",
   "execution_count": 10,
   "id": "isolated-denver",
   "metadata": {
    "execution": {
     "iopub.execute_input": "2021-06-12T20:05:55.907321Z",
     "iopub.status.busy": "2021-06-12T20:05:55.906787Z",
     "iopub.status.idle": "2021-06-12T20:05:55.950008Z",
     "shell.execute_reply": "2021-06-12T20:05:55.949510Z"
    },
    "papermill": {
     "duration": 0.081145,
     "end_time": "2021-06-12T20:05:55.950133",
     "exception": false,
     "start_time": "2021-06-12T20:05:55.868988",
     "status": "completed"
    },
    "tags": []
   },
   "outputs": [],
   "source": [
    "X_train = X_train/255.\n",
    "X_test = X_test/255."
   ]
  },
  {
   "cell_type": "markdown",
   "id": "perfect-summary",
   "metadata": {
    "papermill": {
     "duration": 0.028167,
     "end_time": "2021-06-12T20:05:56.006557",
     "exception": false,
     "start_time": "2021-06-12T20:05:55.978390",
     "status": "completed"
    },
    "tags": []
   },
   "source": [
    "Setup the labels as 1 (when the digit is 3) and 0 (when the digit is 8)"
   ]
  },
  {
   "cell_type": "code",
   "execution_count": 11,
   "id": "personalized-growing",
   "metadata": {
    "execution": {
     "iopub.execute_input": "2021-06-12T20:05:56.067272Z",
     "iopub.status.busy": "2021-06-12T20:05:56.066736Z",
     "iopub.status.idle": "2021-06-12T20:05:56.077764Z",
     "shell.execute_reply": "2021-06-12T20:05:56.078166Z"
    },
    "papermill": {
     "duration": 0.043628,
     "end_time": "2021-06-12T20:05:56.078303",
     "exception": false,
     "start_time": "2021-06-12T20:05:56.034675",
     "status": "completed"
    },
    "tags": []
   },
   "outputs": [],
   "source": [
    "y_train = 1*(y_train==3)\n",
    "y_test = 1*(y_test==3)"
   ]
  },
  {
   "cell_type": "code",
   "execution_count": 12,
   "id": "considered-virgin",
   "metadata": {
    "execution": {
     "iopub.execute_input": "2021-06-12T20:05:56.146556Z",
     "iopub.status.busy": "2021-06-12T20:05:56.146003Z",
     "iopub.status.idle": "2021-06-12T20:05:56.154070Z",
     "shell.execute_reply": "2021-06-12T20:05:56.153533Z"
    },
    "papermill": {
     "duration": 0.047607,
     "end_time": "2021-06-12T20:05:56.154186",
     "exception": false,
     "start_time": "2021-06-12T20:05:56.106579",
     "status": "completed"
    },
    "tags": []
   },
   "outputs": [
    {
     "data": {
      "text/plain": [
       "((11982, 28, 28), (1984, 28, 28))"
      ]
     },
     "execution_count": 12,
     "metadata": {},
     "output_type": "execute_result"
    }
   ],
   "source": [
    "X_train.shape, X_test.shape"
   ]
  },
  {
   "cell_type": "markdown",
   "id": "civilian-mobile",
   "metadata": {
    "papermill": {
     "duration": 0.028293,
     "end_time": "2021-06-12T20:05:56.210823",
     "exception": false,
     "start_time": "2021-06-12T20:05:56.182530",
     "status": "completed"
    },
    "tags": []
   },
   "source": [
    "### Reshape the input data to create a linear array"
   ]
  },
  {
   "cell_type": "code",
   "execution_count": 13,
   "id": "colonial-adams",
   "metadata": {
    "execution": {
     "iopub.execute_input": "2021-06-12T20:05:56.282383Z",
     "iopub.status.busy": "2021-06-12T20:05:56.274584Z",
     "iopub.status.idle": "2021-06-12T20:05:56.285398Z",
     "shell.execute_reply": "2021-06-12T20:05:56.284963Z"
    },
    "papermill": {
     "duration": 0.045955,
     "end_time": "2021-06-12T20:05:56.285510",
     "exception": false,
     "start_time": "2021-06-12T20:05:56.239555",
     "status": "completed"
    },
    "tags": []
   },
   "outputs": [
    {
     "data": {
      "text/plain": [
       "((11982, 784), (1984, 784))"
      ]
     },
     "execution_count": 13,
     "metadata": {},
     "output_type": "execute_result"
    }
   ],
   "source": [
    "X_train = X_train.reshape(X_train.shape[0], -1)\n",
    "X_test = X_test.reshape(X_test.shape[0], -1)\n",
    "X_train.shape, X_test.shape"
   ]
  },
  {
   "cell_type": "markdown",
   "id": "smart-details",
   "metadata": {
    "papermill": {
     "duration": 0.028545,
     "end_time": "2021-06-12T20:05:56.342702",
     "exception": false,
     "start_time": "2021-06-12T20:05:56.314157",
     "status": "completed"
    },
    "tags": []
   },
   "source": [
    "### Importing appropriate functions from 'Kudzu'"
   ]
  },
  {
   "cell_type": "code",
   "execution_count": 14,
   "id": "celtic-trial",
   "metadata": {
    "execution": {
     "iopub.execute_input": "2021-06-12T20:05:56.409557Z",
     "iopub.status.busy": "2021-06-12T20:05:56.408640Z",
     "iopub.status.idle": "2021-06-12T20:05:56.423917Z",
     "shell.execute_reply": "2021-06-12T20:05:56.423470Z"
    },
    "papermill": {
     "duration": 0.0526,
     "end_time": "2021-06-12T20:05:56.424030",
     "exception": false,
     "start_time": "2021-06-12T20:05:56.371430",
     "status": "completed"
    },
    "tags": []
   },
   "outputs": [],
   "source": [
    "from kudzu.layer import Sigmoid\n",
    "from kudzu.layer import Relu\n",
    "from kudzu.layer import Affine, Sigmoid\n",
    "\n",
    "from kudzu.model import Model\n",
    "from kudzu.train import Learner\n",
    "from kudzu.optim import GD\n",
    "from kudzu.data import Data, Dataloader, Sampler\n",
    "\n",
    "from kudzu.callbacks import AccCallback\n",
    "from kudzu.callbacks import ClfCallback\n",
    "\n",
    "from kudzu.loss import MSE"
   ]
  },
  {
   "cell_type": "markdown",
   "id": "coupled-customer",
   "metadata": {
    "papermill": {
     "duration": 0.028742,
     "end_time": "2021-06-12T20:05:56.481461",
     "exception": false,
     "start_time": "2021-06-12T20:05:56.452719",
     "status": "completed"
    },
    "tags": []
   },
   "source": [
    "### Let us create a `Config` class, to store important parameters. \n",
    "This class essentially plays the role of a dictionary."
   ]
  },
  {
   "cell_type": "code",
   "execution_count": 15,
   "id": "young-ceiling",
   "metadata": {
    "execution": {
     "iopub.execute_input": "2021-06-12T20:05:56.543060Z",
     "iopub.status.busy": "2021-06-12T20:05:56.542533Z",
     "iopub.status.idle": "2021-06-12T20:05:56.554344Z",
     "shell.execute_reply": "2021-06-12T20:05:56.553884Z"
    },
    "papermill": {
     "duration": 0.044344,
     "end_time": "2021-06-12T20:05:56.554465",
     "exception": false,
     "start_time": "2021-06-12T20:05:56.510121",
     "status": "completed"
    },
    "tags": []
   },
   "outputs": [],
   "source": [
    "class Config:\n",
    "    pass\n",
    "config = Config()\n",
    "config.lr = 0.001\n",
    "config.num_epochs = 251\n",
    "config.bs = 50"
   ]
  },
  {
   "cell_type": "markdown",
   "id": "according-mandate",
   "metadata": {
    "papermill": {
     "duration": 0.0285,
     "end_time": "2021-06-12T20:05:56.611656",
     "exception": false,
     "start_time": "2021-06-12T20:05:56.583156",
     "status": "completed"
    },
    "tags": []
   },
   "source": [
    "### Initializing data to the variables"
   ]
  },
  {
   "cell_type": "code",
   "execution_count": 16,
   "id": "academic-disposition",
   "metadata": {
    "execution": {
     "iopub.execute_input": "2021-06-12T20:05:56.674287Z",
     "iopub.status.busy": "2021-06-12T20:05:56.673741Z",
     "iopub.status.idle": "2021-06-12T20:05:56.685717Z",
     "shell.execute_reply": "2021-06-12T20:05:56.686159Z"
    },
    "papermill": {
     "duration": 0.045994,
     "end_time": "2021-06-12T20:05:56.686293",
     "exception": false,
     "start_time": "2021-06-12T20:05:56.640299",
     "status": "completed"
    },
    "tags": []
   },
   "outputs": [],
   "source": [
    "data = Data(X_train, y_train.reshape(-1,1))\n",
    "sampler = Sampler(data, config.bs, shuffle=True)\n",
    "\n",
    "dl = Dataloader(data, sampler)\n",
    "\n",
    "opt = GD(config.lr)\n",
    "loss = MSE()"
   ]
  },
  {
   "cell_type": "code",
   "execution_count": 17,
   "id": "featured-commission",
   "metadata": {
    "execution": {
     "iopub.execute_input": "2021-06-12T20:05:56.747030Z",
     "iopub.status.busy": "2021-06-12T20:05:56.746524Z",
     "iopub.status.idle": "2021-06-12T20:05:56.758186Z",
     "shell.execute_reply": "2021-06-12T20:05:56.758599Z"
    },
    "papermill": {
     "duration": 0.043888,
     "end_time": "2021-06-12T20:05:56.758732",
     "exception": false,
     "start_time": "2021-06-12T20:05:56.714844",
     "status": "completed"
    },
    "tags": []
   },
   "outputs": [],
   "source": [
    "training_xdata = X_train\n",
    "testing_xdata = X_test\n",
    "training_ydata = y_train.reshape(-1,1)\n",
    "testing_ydata = y_test.reshape(-1,1)"
   ]
  },
  {
   "cell_type": "markdown",
   "id": "played-safety",
   "metadata": {
    "papermill": {
     "duration": 0.028466,
     "end_time": "2021-06-12T20:05:56.815850",
     "exception": false,
     "start_time": "2021-06-12T20:05:56.787384",
     "status": "completed"
    },
    "tags": []
   },
   "source": [
    "### Running Models with the Training data\n",
    "Details about the network layers:\n",
    "- A first affine layer has 784 inputs and does 100 affine transforms. These are followed by a Relu\n",
    "- A second affine layer has 100 inputs from the 100 activations of the past layer, and does 100 affine transforms. These are followed by a Relu\n",
    "- A third affine layer has 100 activations and does 2 affine transformations to create an embedding for visualization. There is no non-linearity here.\n",
    "- A final \"logistic regression\" which has an affine transform from 2 inputs to 1 output, which is squeezed through a sigmoid.\n",
    "\n",
    "Help taken from Anshuman's Notebook."
   ]
  },
  {
   "cell_type": "code",
   "execution_count": 18,
   "id": "asian-bankruptcy",
   "metadata": {
    "execution": {
     "iopub.execute_input": "2021-06-12T20:05:56.888406Z",
     "iopub.status.busy": "2021-06-12T20:05:56.883402Z",
     "iopub.status.idle": "2021-06-12T20:05:56.894910Z",
     "shell.execute_reply": "2021-06-12T20:05:56.894504Z"
    },
    "papermill": {
     "duration": 0.050775,
     "end_time": "2021-06-12T20:05:56.895023",
     "exception": false,
     "start_time": "2021-06-12T20:05:56.844248",
     "status": "completed"
    },
    "tags": []
   },
   "outputs": [],
   "source": [
    "# layers for the Neural Network\n",
    "layers = [Affine(\"first\", 784, 100), Relu(\"first\"), Affine(\"second\", 100, 100), Relu(\"second\"), Affine(\"third\", 100, 2), Affine(\"final\", 2, 1), Sigmoid(\"final\")]\n",
    "model_nn = Model(layers)\n",
    "\n",
    "# layers for the Logistic Regression\n",
    "layers_lr = [Affine(\"logits\", 784, 1), Sigmoid(\"sigmoid\")]\n",
    "model_lr = Model(layers_lr)"
   ]
  },
  {
   "cell_type": "code",
   "execution_count": 19,
   "id": "removed-butler",
   "metadata": {
    "execution": {
     "iopub.execute_input": "2021-06-12T20:05:56.956417Z",
     "iopub.status.busy": "2021-06-12T20:05:56.955898Z",
     "iopub.status.idle": "2021-06-12T20:05:56.968325Z",
     "shell.execute_reply": "2021-06-12T20:05:56.967885Z"
    },
    "papermill": {
     "duration": 0.044716,
     "end_time": "2021-06-12T20:05:56.968438",
     "exception": false,
     "start_time": "2021-06-12T20:05:56.923722",
     "status": "completed"
    },
    "tags": []
   },
   "outputs": [],
   "source": [
    "# suffix _nn stands for Neural Network.\n",
    "learner_nn = Learner(loss, model_nn, opt, config.num_epochs)\n",
    "acc_nn = ClfCallback(learner_nn, config.bs, training_xdata , testing_xdata, training_ydata, testing_ydata)\n",
    "learner_nn.set_callbacks([acc_nn])"
   ]
  },
  {
   "cell_type": "code",
   "execution_count": 20,
   "id": "conceptual-throw",
   "metadata": {
    "execution": {
     "iopub.execute_input": "2021-06-12T20:05:57.037016Z",
     "iopub.status.busy": "2021-06-12T20:05:57.034760Z",
     "iopub.status.idle": "2021-06-12T20:07:11.872504Z",
     "shell.execute_reply": "2021-06-12T20:07:11.872982Z"
    },
    "papermill": {
     "duration": 74.876276,
     "end_time": "2021-06-12T20:07:11.873112",
     "exception": false,
     "start_time": "2021-06-12T20:05:56.996836",
     "status": "completed"
    },
    "tags": []
   },
   "outputs": [
    {
     "name": "stdout",
     "output_type": "stream",
     "text": [
      "====== Neural Network ======\n"
     ]
    },
    {
     "name": "stdout",
     "output_type": "stream",
     "text": [
      "Epoch 0, Loss 0.2517\n",
      "Training Accuracy: 0.4823, Testing Accuracy: 0.5040\n",
      "\n"
     ]
    },
    {
     "name": "stdout",
     "output_type": "stream",
     "text": [
      "Epoch 10, Loss 0.2306\n",
      "Training Accuracy: 0.8274, Testing Accuracy: 0.8407\n",
      "\n"
     ]
    },
    {
     "name": "stdout",
     "output_type": "stream",
     "text": [
      "Epoch 20, Loss 0.1565\n",
      "Training Accuracy: 0.8983, Testing Accuracy: 0.9083\n",
      "\n"
     ]
    },
    {
     "name": "stdout",
     "output_type": "stream",
     "text": [
      "Epoch 30, Loss 0.0775\n",
      "Training Accuracy: 0.9248, Testing Accuracy: 0.9400\n",
      "\n"
     ]
    },
    {
     "name": "stdout",
     "output_type": "stream",
     "text": [
      "Epoch 40, Loss 0.0542\n",
      "Training Accuracy: 0.9413, Testing Accuracy: 0.9536\n",
      "\n"
     ]
    },
    {
     "name": "stdout",
     "output_type": "stream",
     "text": [
      "Epoch 50, Loss 0.0447\n",
      "Training Accuracy: 0.9499, Testing Accuracy: 0.9602\n",
      "\n"
     ]
    },
    {
     "name": "stdout",
     "output_type": "stream",
     "text": [
      "Epoch 60, Loss 0.0396\n",
      "Training Accuracy: 0.9544, Testing Accuracy: 0.9642\n",
      "\n"
     ]
    },
    {
     "name": "stdout",
     "output_type": "stream",
     "text": [
      "Epoch 70, Loss 0.0364\n",
      "Training Accuracy: 0.9572, Testing Accuracy: 0.9667\n",
      "\n"
     ]
    },
    {
     "name": "stdout",
     "output_type": "stream",
     "text": [
      "Epoch 80, Loss 0.0341\n",
      "Training Accuracy: 0.9593, Testing Accuracy: 0.9693\n",
      "\n"
     ]
    },
    {
     "name": "stdout",
     "output_type": "stream",
     "text": [
      "Epoch 90, Loss 0.0323\n",
      "Training Accuracy: 0.9616, Testing Accuracy: 0.9703\n",
      "\n"
     ]
    },
    {
     "name": "stdout",
     "output_type": "stream",
     "text": [
      "Epoch 100, Loss 0.0309\n",
      "Training Accuracy: 0.9629, Testing Accuracy: 0.9703\n",
      "\n"
     ]
    },
    {
     "name": "stdout",
     "output_type": "stream",
     "text": [
      "Epoch 110, Loss 0.0297\n",
      "Training Accuracy: 0.9644, Testing Accuracy: 0.9708\n",
      "\n"
     ]
    },
    {
     "name": "stdout",
     "output_type": "stream",
     "text": [
      "Epoch 120, Loss 0.0287\n",
      "Training Accuracy: 0.9659, Testing Accuracy: 0.9708\n",
      "\n"
     ]
    },
    {
     "name": "stdout",
     "output_type": "stream",
     "text": [
      "Epoch 130, Loss 0.0278\n",
      "Training Accuracy: 0.9664, Testing Accuracy: 0.9718\n",
      "\n"
     ]
    },
    {
     "name": "stdout",
     "output_type": "stream",
     "text": [
      "Epoch 140, Loss 0.027\n",
      "Training Accuracy: 0.9679, Testing Accuracy: 0.9723\n",
      "\n"
     ]
    },
    {
     "name": "stdout",
     "output_type": "stream",
     "text": [
      "Epoch 150, Loss 0.0262\n",
      "Training Accuracy: 0.9688, Testing Accuracy: 0.9723\n",
      "\n"
     ]
    },
    {
     "name": "stdout",
     "output_type": "stream",
     "text": [
      "Epoch 160, Loss 0.0256\n",
      "Training Accuracy: 0.9693, Testing Accuracy: 0.9728\n",
      "\n"
     ]
    },
    {
     "name": "stdout",
     "output_type": "stream",
     "text": [
      "Epoch 170, Loss 0.025\n",
      "Training Accuracy: 0.9703, Testing Accuracy: 0.9728\n",
      "\n"
     ]
    },
    {
     "name": "stdout",
     "output_type": "stream",
     "text": [
      "Epoch 180, Loss 0.0244\n",
      "Training Accuracy: 0.9710, Testing Accuracy: 0.9733\n",
      "\n"
     ]
    },
    {
     "name": "stdout",
     "output_type": "stream",
     "text": [
      "Epoch 190, Loss 0.0239\n",
      "Training Accuracy: 0.9711, Testing Accuracy: 0.9728\n",
      "\n"
     ]
    },
    {
     "name": "stdout",
     "output_type": "stream",
     "text": [
      "Epoch 200, Loss 0.0234\n",
      "Training Accuracy: 0.9715, Testing Accuracy: 0.9728\n",
      "\n"
     ]
    },
    {
     "name": "stdout",
     "output_type": "stream",
     "text": [
      "Epoch 210, Loss 0.023\n",
      "Training Accuracy: 0.9727, Testing Accuracy: 0.9728\n",
      "\n"
     ]
    },
    {
     "name": "stdout",
     "output_type": "stream",
     "text": [
      "Epoch 220, Loss 0.0225\n",
      "Training Accuracy: 0.9731, Testing Accuracy: 0.9743\n",
      "\n"
     ]
    },
    {
     "name": "stdout",
     "output_type": "stream",
     "text": [
      "Epoch 230, Loss 0.0221\n",
      "Training Accuracy: 0.9738, Testing Accuracy: 0.9743\n",
      "\n"
     ]
    },
    {
     "name": "stdout",
     "output_type": "stream",
     "text": [
      "Epoch 240, Loss 0.0217\n",
      "Training Accuracy: 0.9744, Testing Accuracy: 0.9738\n",
      "\n"
     ]
    },
    {
     "name": "stdout",
     "output_type": "stream",
     "text": [
      "Epoch 250, Loss 0.0214\n",
      "Training Accuracy: 0.9747, Testing Accuracy: 0.9738\n",
      "\n"
     ]
    },
    {
     "data": {
      "text/plain": [
       "0.028655258642481547"
      ]
     },
     "execution_count": 20,
     "metadata": {},
     "output_type": "execute_result"
    }
   ],
   "source": [
    "print(\"====== Neural Network ======\")\n",
    "learner_nn.train_loop(dl)"
   ]
  },
  {
   "cell_type": "markdown",
   "id": "competent-suffering",
   "metadata": {
    "papermill": {
     "duration": 0.036421,
     "end_time": "2021-06-12T20:07:11.949220",
     "exception": false,
     "start_time": "2021-06-12T20:07:11.912799",
     "status": "completed"
    },
    "tags": []
   },
   "source": [
    "### Logistic Regression based Implementation."
   ]
  },
  {
   "cell_type": "code",
   "execution_count": 21,
   "id": "qualified-psychiatry",
   "metadata": {
    "execution": {
     "iopub.execute_input": "2021-06-12T20:07:12.031851Z",
     "iopub.status.busy": "2021-06-12T20:07:12.028133Z",
     "iopub.status.idle": "2021-06-12T20:07:12.040112Z",
     "shell.execute_reply": "2021-06-12T20:07:12.039698Z"
    },
    "papermill": {
     "duration": 0.054137,
     "end_time": "2021-06-12T20:07:12.040226",
     "exception": false,
     "start_time": "2021-06-12T20:07:11.986089",
     "status": "completed"
    },
    "tags": []
   },
   "outputs": [],
   "source": [
    "learner_lr = Learner(loss, model_lr, opt, config.num_epochs)\n",
    "acc_lr = ClfCallback(learner_lr, config.bs, training_xdata , testing_xdata, training_ydata, testing_ydata)\n",
    "learner_lr.set_callbacks([acc_lr])"
   ]
  },
  {
   "cell_type": "code",
   "execution_count": 22,
   "id": "average-outside",
   "metadata": {
    "execution": {
     "iopub.execute_input": "2021-06-12T20:07:12.117121Z",
     "iopub.status.busy": "2021-06-12T20:07:12.116589Z",
     "iopub.status.idle": "2021-06-12T20:07:25.411190Z",
     "shell.execute_reply": "2021-06-12T20:07:25.411861Z"
    },
    "papermill": {
     "duration": 13.335862,
     "end_time": "2021-06-12T20:07:25.412003",
     "exception": false,
     "start_time": "2021-06-12T20:07:12.076141",
     "status": "completed"
    },
    "tags": []
   },
   "outputs": [
    {
     "name": "stdout",
     "output_type": "stream",
     "text": [
      "====== Logistic Regression ======\n",
      "Epoch 0, Loss 0.2586\n",
      "Training Accuracy: 0.6131, Testing Accuracy: 0.5927\n",
      "\n"
     ]
    },
    {
     "name": "stdout",
     "output_type": "stream",
     "text": [
      "Epoch 10, Loss 0.1063\n",
      "Training Accuracy: 0.9052, Testing Accuracy: 0.9173\n",
      "\n"
     ]
    },
    {
     "name": "stdout",
     "output_type": "stream",
     "text": [
      "Epoch 20, Loss 0.0811\n",
      "Training Accuracy: 0.9241, Testing Accuracy: 0.9325\n",
      "\n"
     ]
    },
    {
     "name": "stdout",
     "output_type": "stream",
     "text": [
      "Epoch 30, Loss 0.0697\n",
      "Training Accuracy: 0.9327, Testing Accuracy: 0.9425\n",
      "\n"
     ]
    },
    {
     "name": "stdout",
     "output_type": "stream",
     "text": [
      "Epoch 40, Loss 0.0628\n",
      "Training Accuracy: 0.9384, Testing Accuracy: 0.9456\n",
      "\n"
     ]
    },
    {
     "name": "stdout",
     "output_type": "stream",
     "text": [
      "Epoch 50, Loss 0.0581\n",
      "Training Accuracy: 0.9430, Testing Accuracy: 0.9521\n",
      "\n"
     ]
    },
    {
     "name": "stdout",
     "output_type": "stream",
     "text": [
      "Epoch 60, Loss 0.0547\n",
      "Training Accuracy: 0.9457, Testing Accuracy: 0.9546\n",
      "\n"
     ]
    },
    {
     "name": "stdout",
     "output_type": "stream",
     "text": [
      "Epoch 70, Loss 0.0521\n",
      "Training Accuracy: 0.9479, Testing Accuracy: 0.9577\n",
      "\n"
     ]
    },
    {
     "name": "stdout",
     "output_type": "stream",
     "text": [
      "Epoch 80, Loss 0.0499\n",
      "Training Accuracy: 0.9496, Testing Accuracy: 0.9592\n",
      "\n"
     ]
    },
    {
     "name": "stdout",
     "output_type": "stream",
     "text": [
      "Epoch 90, Loss 0.0482\n",
      "Training Accuracy: 0.9513, Testing Accuracy: 0.9592\n",
      "\n"
     ]
    },
    {
     "name": "stdout",
     "output_type": "stream",
     "text": [
      "Epoch 100, Loss 0.0467\n",
      "Training Accuracy: 0.9526, Testing Accuracy: 0.9597\n",
      "\n"
     ]
    },
    {
     "name": "stdout",
     "output_type": "stream",
     "text": [
      "Epoch 110, Loss 0.0454\n",
      "Training Accuracy: 0.9537, Testing Accuracy: 0.9602\n",
      "\n"
     ]
    },
    {
     "name": "stdout",
     "output_type": "stream",
     "text": [
      "Epoch 120, Loss 0.0443\n",
      "Training Accuracy: 0.9538, Testing Accuracy: 0.9612\n",
      "\n"
     ]
    },
    {
     "name": "stdout",
     "output_type": "stream",
     "text": [
      "Epoch 130, Loss 0.0434\n",
      "Training Accuracy: 0.9548, Testing Accuracy: 0.9622\n",
      "\n"
     ]
    },
    {
     "name": "stdout",
     "output_type": "stream",
     "text": [
      "Epoch 140, Loss 0.0425\n",
      "Training Accuracy: 0.9558, Testing Accuracy: 0.9627\n",
      "\n"
     ]
    },
    {
     "name": "stdout",
     "output_type": "stream",
     "text": [
      "Epoch 150, Loss 0.0417\n",
      "Training Accuracy: 0.9564, Testing Accuracy: 0.9632\n",
      "\n"
     ]
    },
    {
     "name": "stdout",
     "output_type": "stream",
     "text": [
      "Epoch 160, Loss 0.041\n",
      "Training Accuracy: 0.9571, Testing Accuracy: 0.9642\n",
      "\n"
     ]
    },
    {
     "name": "stdout",
     "output_type": "stream",
     "text": [
      "Epoch 170, Loss 0.0404\n",
      "Training Accuracy: 0.9574, Testing Accuracy: 0.9642\n",
      "\n"
     ]
    },
    {
     "name": "stdout",
     "output_type": "stream",
     "text": [
      "Epoch 180, Loss 0.0398\n",
      "Training Accuracy: 0.9580, Testing Accuracy: 0.9652\n",
      "\n"
     ]
    },
    {
     "name": "stdout",
     "output_type": "stream",
     "text": [
      "Epoch 190, Loss 0.0393\n",
      "Training Accuracy: 0.9587, Testing Accuracy: 0.9652\n",
      "\n"
     ]
    },
    {
     "name": "stdout",
     "output_type": "stream",
     "text": [
      "Epoch 200, Loss 0.0388\n",
      "Training Accuracy: 0.9593, Testing Accuracy: 0.9652\n",
      "\n"
     ]
    },
    {
     "name": "stdout",
     "output_type": "stream",
     "text": [
      "Epoch 210, Loss 0.0383\n",
      "Training Accuracy: 0.9599, Testing Accuracy: 0.9647\n",
      "\n"
     ]
    },
    {
     "name": "stdout",
     "output_type": "stream",
     "text": [
      "Epoch 220, Loss 0.0379\n",
      "Training Accuracy: 0.9603, Testing Accuracy: 0.9657\n",
      "\n"
     ]
    },
    {
     "name": "stdout",
     "output_type": "stream",
     "text": [
      "Epoch 230, Loss 0.0375\n",
      "Training Accuracy: 0.9604, Testing Accuracy: 0.9657\n",
      "\n"
     ]
    },
    {
     "name": "stdout",
     "output_type": "stream",
     "text": [
      "Epoch 240, Loss 0.0371\n",
      "Training Accuracy: 0.9604, Testing Accuracy: 0.9662\n",
      "\n"
     ]
    },
    {
     "name": "stdout",
     "output_type": "stream",
     "text": [
      "Epoch 250, Loss 0.0368\n",
      "Training Accuracy: 0.9607, Testing Accuracy: 0.9662\n",
      "\n"
     ]
    },
    {
     "data": {
      "text/plain": [
       "0.006134391226791015"
      ]
     },
     "execution_count": 22,
     "metadata": {},
     "output_type": "execute_result"
    }
   ],
   "source": [
    "print(\"====== Logistic Regression ======\")\n",
    "learner_lr.train_loop(dl)"
   ]
  },
  {
   "cell_type": "markdown",
   "id": "adjusted-possible",
   "metadata": {
    "papermill": {
     "duration": 0.042875,
     "end_time": "2021-06-12T20:07:25.498124",
     "exception": false,
     "start_time": "2021-06-12T20:07:25.455249",
     "status": "completed"
    },
    "tags": []
   },
   "source": [
    "### Comparing results of NN and LR"
   ]
  },
  {
   "cell_type": "code",
   "execution_count": 23,
   "id": "mental-multimedia",
   "metadata": {
    "execution": {
     "iopub.execute_input": "2021-06-12T20:07:25.595134Z",
     "iopub.status.busy": "2021-06-12T20:07:25.594581Z",
     "iopub.status.idle": "2021-06-12T20:07:25.801784Z",
     "shell.execute_reply": "2021-06-12T20:07:25.802229Z"
    },
    "papermill": {
     "duration": 0.261569,
     "end_time": "2021-06-12T20:07:25.802365",
     "exception": false,
     "start_time": "2021-06-12T20:07:25.540796",
     "status": "completed"
    },
    "tags": []
   },
   "outputs": [
    {
     "data": {
      "text/plain": [
       "<matplotlib.legend.Legend at 0x7f8f9b4e2080>"
      ]
     },
     "execution_count": 23,
     "metadata": {},
     "output_type": "execute_result"
    },
    {
     "data": {
      "image/png": "[encoded data removed]",
      "text/plain": [
       "<Figure size 1080x720 with 1 Axes>"
      ]
     },
     "metadata": {
      "needs_background": "light"
     },
     "output_type": "display_data"
    }
   ],
   "source": [
    "plt.figure(figsize=(15,10))\n",
    "\n",
    "# Neural Network plots\n",
    "plt.plot(acc_nn.accuracies, 'r-', label = \"Training Accuracies - NN\")\n",
    "plt.plot(acc_nn.test_accuracies, 'g-', label = \"Testing Accuracies - NN\")\n",
    "\n",
    "# Logistic Regression plots\n",
    "plt.plot(acc_lr.accuracies, 'k-', label = \"Training Accuracies - LR\")\n",
    "plt.plot(acc_lr.test_accuracies, 'b-', label = \"Testing Accuracies - LR\")\n",
    "\n",
    "plt.ylim(0.8, 1)\n",
    "\n",
    "plt.legend()\n",
    "\n"
   ]
  },
  {
   "cell_type": "markdown",
   "id": "sexual-flesh",
   "metadata": {
    "papermill": {
     "duration": 0.044544,
     "end_time": "2021-06-12T20:07:25.891609",
     "exception": false,
     "start_time": "2021-06-12T20:07:25.847065",
     "status": "completed"
    },
    "tags": []
   },
   "source": [
    "### From the plot, we can observe the following:\n",
    "- Neural Network achieves higher accuracy than the Logistic Regression model.\n",
    "- This apparently, is because of overfitting, i.e. NN captures more noise than data.\n",
    "- Testing accuracy of NN drops below the Training accuracy at higher epochs. This explains the over-fitting on training data.\n",
    "- Logistic Regression gives a reliable accuracy, without the above mentioned problem.\n"
   ]
  },
  {
   "cell_type": "markdown",
   "id": "institutional-pacific",
   "metadata": {
    "papermill": {
     "duration": 0.044411,
     "end_time": "2021-06-12T20:07:25.980531",
     "exception": false,
     "start_time": "2021-06-12T20:07:25.936120",
     "status": "completed"
    },
    "tags": []
   },
   "source": [
    "### Moving till the last but one layer (excluding it).\n",
    "#### Plotting the outputs of this layer of the NN."
   ]
  },
  {
   "cell_type": "code",
   "execution_count": 24,
   "id": "economic-server",
   "metadata": {
    "execution": {
     "iopub.execute_input": "2021-06-12T20:07:26.087265Z",
     "iopub.status.busy": "2021-06-12T20:07:26.086272Z",
     "iopub.status.idle": "2021-06-12T20:07:26.089871Z",
     "shell.execute_reply": "2021-06-12T20:07:26.090281Z"
    },
    "papermill": {
     "duration": 0.065154,
     "end_time": "2021-06-12T20:07:26.090419",
     "exception": false,
     "start_time": "2021-06-12T20:07:26.025265",
     "status": "completed"
    },
    "tags": []
   },
   "outputs": [],
   "source": [
    "model_new = Model(layers[:-2])"
   ]
  },
  {
   "cell_type": "code",
   "execution_count": 25,
   "id": "varied-upgrade",
   "metadata": {
    "execution": {
     "iopub.execute_input": "2021-06-12T20:07:26.199144Z",
     "iopub.status.busy": "2021-06-12T20:07:26.195116Z",
     "iopub.status.idle": "2021-06-12T20:07:26.206897Z",
     "shell.execute_reply": "2021-06-12T20:07:26.207333Z"
    },
    "papermill": {
     "duration": 0.072457,
     "end_time": "2021-06-12T20:07:26.207468",
     "exception": false,
     "start_time": "2021-06-12T20:07:26.135011",
     "status": "completed"
    },
    "tags": []
   },
   "outputs": [],
   "source": [
    "plot_testing = model_new(testing_xdata)"
   ]
  },
  {
   "cell_type": "code",
   "execution_count": 26,
   "id": "specific-handling",
   "metadata": {
    "execution": {
     "iopub.execute_input": "2021-06-12T20:07:26.310619Z",
     "iopub.status.busy": "2021-06-12T20:07:26.310094Z",
     "iopub.status.idle": "2021-06-12T20:07:26.514059Z",
     "shell.execute_reply": "2021-06-12T20:07:26.514484Z"
    },
    "papermill": {
     "duration": 0.252535,
     "end_time": "2021-06-12T20:07:26.514621",
     "exception": false,
     "start_time": "2021-06-12T20:07:26.262086",
     "status": "completed"
    },
    "tags": []
   },
   "outputs": [
    {
     "data": {
      "text/plain": [
       "Text(0.5, 1.0, 'Outputs')"
      ]
     },
     "execution_count": 26,
     "metadata": {},
     "output_type": "execute_result"
    },
    {
     "data": {
      "image/png": "[encoded data removed]",
      "text/plain": [
       "<Figure size 576x504 with 1 Axes>"
      ]
     },
     "metadata": {
      "needs_background": "light"
     },
     "output_type": "display_data"
    }
   ],
   "source": [
    "plt.figure(figsize=(8,7))\n",
    "plt.scatter(plot_testing[:,0], plot_testing[:,1], alpha = 0.1, c = y_test.ravel());\n",
    "plt.title('Outputs')"
   ]
  },
  {
   "cell_type": "markdown",
   "id": "described-knowing",
   "metadata": {
    "papermill": {
     "duration": 0.077111,
     "end_time": "2021-06-12T20:07:26.638962",
     "exception": false,
     "start_time": "2021-06-12T20:07:26.561851",
     "status": "completed"
    },
    "tags": []
   },
   "source": [
    "### Plotting probability contours"
   ]
  },
  {
   "cell_type": "code",
   "execution_count": 27,
   "id": "needed-growing",
   "metadata": {
    "execution": {
     "iopub.execute_input": "2021-06-12T20:07:26.746371Z",
     "iopub.status.busy": "2021-06-12T20:07:26.745787Z",
     "iopub.status.idle": "2021-06-12T20:07:26.748418Z",
     "shell.execute_reply": "2021-06-12T20:07:26.748000Z"
    },
    "papermill": {
     "duration": 0.062057,
     "end_time": "2021-06-12T20:07:26.748534",
     "exception": false,
     "start_time": "2021-06-12T20:07:26.686477",
     "status": "completed"
    },
    "tags": []
   },
   "outputs": [],
   "source": [
    "model_prob = Model(layers[-2:]) "
   ]
  },
  {
   "cell_type": "code",
   "execution_count": 28,
   "id": "introductory-enforcement",
   "metadata": {
    "execution": {
     "iopub.execute_input": "2021-06-12T20:07:26.848131Z",
     "iopub.status.busy": "2021-06-12T20:07:26.847581Z",
     "iopub.status.idle": "2021-06-12T20:07:26.861290Z",
     "shell.execute_reply": "2021-06-12T20:07:26.861723Z"
    },
    "papermill": {
     "duration": 0.065925,
     "end_time": "2021-06-12T20:07:26.861863",
     "exception": false,
     "start_time": "2021-06-12T20:07:26.795938",
     "status": "completed"
    },
    "tags": []
   },
   "outputs": [],
   "source": [
    "# Adjust the x and y ranges according to the above generated plot.\n",
    "x_range = np.linspace(-4, 1, 100) \n",
    "y_range = np.linspace(-6, 6, 100) \n",
    "x_grid, y_grid = np.meshgrid(x_range, y_range) # x_grid and y_grig are of size 100 X 100\n",
    "\n",
    "# converting x_grid and y_grid to continuous arrays\n",
    "x_grid_flat = np.ravel(x_grid)\n",
    "y_grid_flat = np.ravel(y_grid)\n",
    "\n",
    "# The last layer of the current model takes two columns as input. Hence transpose of np.vstack() is required.\n",
    "X = np.vstack((x_grid_flat, y_grid_flat)).T\n",
    "\n",
    "# x_grid and y_grid are of size 100 x 100\n",
    "probability_contour = model_prob(X).reshape(100,100) "
   ]
  },
  {
   "cell_type": "code",
   "execution_count": 29,
   "id": "understood-landing",
   "metadata": {
    "execution": {
     "iopub.execute_input": "2021-06-12T20:07:26.964115Z",
     "iopub.status.busy": "2021-06-12T20:07:26.963582Z",
     "iopub.status.idle": "2021-06-12T20:07:27.195170Z",
     "shell.execute_reply": "2021-06-12T20:07:27.195853Z"
    },
    "papermill": {
     "duration": 0.286281,
     "end_time": "2021-06-12T20:07:27.195999",
     "exception": false,
     "start_time": "2021-06-12T20:07:26.909718",
     "status": "completed"
    },
    "tags": []
   },
   "outputs": [
    {
     "data": {
      "image/png": "[encoded data removed]",
      "text/plain": [
       "<Figure size 720x648 with 1 Axes>"
      ]
     },
     "metadata": {
      "needs_background": "light"
     },
     "output_type": "display_data"
    }
   ],
   "source": [
    "plt.figure(figsize=(10,9))\n",
    "plt.scatter(plot_testing[:,0], plot_testing[:,1], alpha = 0.1, c = y_test.ravel())\n",
    "contours = plt.contour(x_grid,y_grid,probability_contour)\n",
    "plt.title('Probability Contours')\n",
    "plt.clabel(contours, inline = True );"
   ]
  }
 ],
 "metadata": {
  "kernelspec": {
   "display_name": "Python 3",
   "language": "python",
   "name": "python3"
  },
  "language_info": {
   "codemirror_mode": {
    "name": "ipython",
    "version": 3
   },
   "file_extension": ".py",
   "mimetype": "text/x-python",
   "name": "python",
   "nbconvert_exporter": "python",
   "pygments_lexer": "ipython3",
   "version": "3.6.13"
  },
  "papermill": {
   "duration": 169.737502,
   "end_time": "2021-06-12T20:07:27.654402",
   "environment_variables": {},
   "exception": null,
   "input_path": "2020-08-11-NeuralNetwork.ipynb",
   "output_path": "2020-08-11-NeuralNetwork.ipynb",
   "parameters": {},
   "start_time": "2021-06-12T20:04:37.916900",
   "version": "2.1.2"
  }
 },
 "nbformat": 4,
 "nbformat_minor": 5
}