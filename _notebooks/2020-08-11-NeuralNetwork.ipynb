{
 "cells": [
  {
   "cell_type": "markdown",
   "metadata": {
    "papermill": {
     "duration": 0.029448,
     "end_time": "2020-11-26T20:04:29.885448",
     "exception": false,
     "start_time": "2020-11-26T20:04:29.856000",
     "status": "completed"
    },
    "tags": []
   },
   "source": [
    "# \"A Basic Neural Network: Differentiate Hand-Written Digits\"\n",
    "\n",
    "- badges: true\n",
    "- author: Akshith Sriram"
   ]
  },
  {
   "cell_type": "markdown",
   "metadata": {
    "papermill": {
     "duration": 0.023512,
     "end_time": "2020-11-26T20:04:29.932809",
     "exception": false,
     "start_time": "2020-11-26T20:04:29.909297",
     "status": "completed"
    },
    "tags": []
   },
   "source": [
    "### Key Objectives:\n",
    "- Building a neural network that differentiates two hand-written digits 3 and 8.\n",
    "- Comparing the results of this Neural Network (NN) to that of a Logistic Regression (LR) model.\n",
    "\n",
    "### Requirements:\n",
    "- 'Kudzu' : A neural network library that was designed during our course by [Univ.AI](www.univ.ai). \n",
    "- MNIST Database\n",
    "\n",
    "If MNIST is not installed, use the command `!pip install mnist` given below.\n",
    "It can be run both from the command line and Jupyter Notebook."
   ]
  },
  {
   "cell_type": "code",
   "execution_count": 1,
   "metadata": {
    "execution": {
     "iopub.execute_input": "2020-11-26T20:04:29.989388Z",
     "iopub.status.busy": "2020-11-26T20:04:29.988751Z",
     "iopub.status.idle": "2020-11-26T20:04:31.938185Z",
     "shell.execute_reply": "2020-11-26T20:04:31.938636Z"
    },
    "papermill": {
     "duration": 1.982692,
     "end_time": "2020-11-26T20:04:31.938822",
     "exception": false,
     "start_time": "2020-11-26T20:04:29.956130",
     "status": "completed"
    },
    "tags": []
   },
   "outputs": [
    {
     "name": "stdout",
     "output_type": "stream",
     "text": [
      "Collecting mnist\r\n"
     ]
    },
    {
     "name": "stdout",
     "output_type": "stream",
     "text": [
      "  Downloading mnist-0.2.2-py2.py3-none-any.whl (3.5 kB)\r\n"
     ]
    },
    {
     "name": "stdout",
     "output_type": "stream",
     "text": [
      "Requirement already satisfied: numpy in /opt/hostedtoolcache/Python/3.6.12/x64/lib/python3.6/site-packages (from mnist) (1.19.4)\r\n"
     ]
    },
    {
     "name": "stdout",
     "output_type": "stream",
     "text": [
      "Installing collected packages: mnist\r\n"
     ]
    },
    {
     "name": "stdout",
     "output_type": "stream",
     "text": [
      "Successfully installed mnist-0.2.2\r\n"
     ]
    }
   ],
   "source": [
    "!pip install mnist "
   ]
  },
  {
   "cell_type": "markdown",
   "metadata": {
    "papermill": {
     "duration": 0.024591,
     "end_time": "2020-11-26T20:04:31.992046",
     "exception": false,
     "start_time": "2020-11-26T20:04:31.967455",
     "status": "completed"
    },
    "tags": []
   },
   "source": [
    "#### Importing necessary libraries"
   ]
  },
  {
   "cell_type": "code",
   "execution_count": 2,
   "metadata": {
    "execution": {
     "iopub.execute_input": "2020-11-26T20:04:32.047438Z",
     "iopub.status.busy": "2020-11-26T20:04:32.046843Z",
     "iopub.status.idle": "2020-11-26T20:04:32.570948Z",
     "shell.execute_reply": "2020-11-26T20:04:32.571466Z"
    },
    "papermill": {
     "duration": 0.553757,
     "end_time": "2020-11-26T20:04:32.571630",
     "exception": false,
     "start_time": "2020-11-26T20:04:32.017873",
     "status": "completed"
    },
    "tags": []
   },
   "outputs": [],
   "source": [
    "%load_ext autoreload\n",
    "%autoreload 2\n",
    "\n",
    "%matplotlib inline\n",
    "import matplotlib.pyplot as plt\n",
    "\n",
    "import numpy as np\n",
    "import pandas as pd"
   ]
  },
  {
   "cell_type": "markdown",
   "metadata": {
    "papermill": {
     "duration": 0.024742,
     "end_time": "2020-11-26T20:04:32.621834",
     "exception": false,
     "start_time": "2020-11-26T20:04:32.597092",
     "status": "completed"
    },
    "tags": []
   },
   "source": [
    "### Preparing the Data"
   ]
  },
  {
   "cell_type": "code",
   "execution_count": 3,
   "metadata": {
    "execution": {
     "iopub.execute_input": "2020-11-26T20:04:32.676711Z",
     "iopub.status.busy": "2020-11-26T20:04:32.676111Z",
     "iopub.status.idle": "2020-11-26T20:04:32.688136Z",
     "shell.execute_reply": "2020-11-26T20:04:32.688602Z"
    },
    "papermill": {
     "duration": 0.039798,
     "end_time": "2020-11-26T20:04:32.688757",
     "exception": false,
     "start_time": "2020-11-26T20:04:32.648959",
     "status": "completed"
    },
    "tags": []
   },
   "outputs": [],
   "source": [
    "import mnist"
   ]
  },
  {
   "cell_type": "code",
   "execution_count": 4,
   "metadata": {
    "execution": {
     "iopub.execute_input": "2020-11-26T20:04:32.735139Z",
     "iopub.status.busy": "2020-11-26T20:04:32.734549Z",
     "iopub.status.idle": "2020-11-26T20:04:33.447500Z",
     "shell.execute_reply": "2020-11-26T20:04:33.446238Z"
    },
    "papermill": {
     "duration": 0.738467,
     "end_time": "2020-11-26T20:04:33.447647",
     "exception": false,
     "start_time": "2020-11-26T20:04:32.709180",
     "status": "completed"
    },
    "tags": []
   },
   "outputs": [],
   "source": [
    "train_images = mnist.train_images()\n",
    "train_labels = mnist.train_labels()"
   ]
  },
  {
   "cell_type": "code",
   "execution_count": 5,
   "metadata": {
    "execution": {
     "iopub.execute_input": "2020-11-26T20:04:33.502854Z",
     "iopub.status.busy": "2020-11-26T20:04:33.501298Z",
     "iopub.status.idle": "2020-11-26T20:04:33.515810Z",
     "shell.execute_reply": "2020-11-26T20:04:33.516503Z"
    },
    "papermill": {
     "duration": 0.04414,
     "end_time": "2020-11-26T20:04:33.516815",
     "exception": false,
     "start_time": "2020-11-26T20:04:33.472675",
     "status": "completed"
    },
    "tags": []
   },
   "outputs": [
    {
     "data": {
      "text/plain": [
       "((60000, 28, 28), (60000,))"
      ]
     },
     "execution_count": 5,
     "metadata": {},
     "output_type": "execute_result"
    }
   ],
   "source": [
    "train_images.shape, train_labels.shape"
   ]
  },
  {
   "cell_type": "code",
   "execution_count": 6,
   "metadata": {
    "execution": {
     "iopub.execute_input": "2020-11-26T20:04:33.575264Z",
     "iopub.status.busy": "2020-11-26T20:04:33.574694Z",
     "iopub.status.idle": "2020-11-26T20:04:33.906836Z",
     "shell.execute_reply": "2020-11-26T20:04:33.905939Z"
    },
    "papermill": {
     "duration": 0.363141,
     "end_time": "2020-11-26T20:04:33.907025",
     "exception": false,
     "start_time": "2020-11-26T20:04:33.543884",
     "status": "completed"
    },
    "tags": []
   },
   "outputs": [],
   "source": [
    "test_images = mnist.test_images()\n",
    "test_labels = mnist.test_labels()"
   ]
  },
  {
   "cell_type": "code",
   "execution_count": 7,
   "metadata": {
    "execution": {
     "iopub.execute_input": "2020-11-26T20:04:33.964952Z",
     "iopub.status.busy": "2020-11-26T20:04:33.964361Z",
     "iopub.status.idle": "2020-11-26T20:04:33.975429Z",
     "shell.execute_reply": "2020-11-26T20:04:33.975034Z"
    },
    "papermill": {
     "duration": 0.044525,
     "end_time": "2020-11-26T20:04:33.975542",
     "exception": false,
     "start_time": "2020-11-26T20:04:33.931017",
     "status": "completed"
    },
    "tags": []
   },
   "outputs": [
    {
     "data": {
      "text/plain": [
       "((10000, 28, 28), (10000,))"
      ]
     },
     "execution_count": 7,
     "metadata": {},
     "output_type": "execute_result"
    }
   ],
   "source": [
    "test_images.shape, test_labels.shape"
   ]
  },
  {
   "cell_type": "code",
   "execution_count": 8,
   "metadata": {
    "execution": {
     "iopub.execute_input": "2020-11-26T20:04:34.054243Z",
     "iopub.status.busy": "2020-11-26T20:04:34.037097Z",
     "iopub.status.idle": "2020-11-26T20:04:34.166823Z",
     "shell.execute_reply": "2020-11-26T20:04:34.166438Z"
    },
    "papermill": {
     "duration": 0.168734,
     "end_time": "2020-11-26T20:04:34.166929",
     "exception": false,
     "start_time": "2020-11-26T20:04:33.998195",
     "status": "completed"
    },
    "tags": []
   },
   "outputs": [
    {
     "name": "stdout",
     "output_type": "stream",
     "text": [
      "2\n"
     ]
    },
    {
     "data": {
      "text/plain": [
       "<matplotlib.image.AxesImage at 0x7ff0fa7db0f0>"
      ]
     },
     "execution_count": 8,
     "metadata": {},
     "output_type": "execute_result"
    },
    {
     "data": {
      "image/png": "[encoded data removed]",
      "text/plain": [
       "<Figure size 432x288 with 1 Axes>"
      ]
     },
     "metadata": {
      "needs_background": "light"
     },
     "output_type": "display_data"
    }
   ],
   "source": [
    "image_index = 7776 # You may select anything up to 60,000\n",
    "print(train_labels[image_index]) \n",
    "plt.imshow(train_images[image_index], cmap='Greys')"
   ]
  },
  {
   "cell_type": "markdown",
   "metadata": {
    "papermill": {
     "duration": 0.023478,
     "end_time": "2020-11-26T20:04:34.215540",
     "exception": false,
     "start_time": "2020-11-26T20:04:34.192062",
     "status": "completed"
    },
    "tags": []
   },
   "source": [
    "## Filter data to get 3 and 8 out"
   ]
  },
  {
   "cell_type": "code",
   "execution_count": 9,
   "metadata": {
    "execution": {
     "iopub.execute_input": "2020-11-26T20:04:34.268241Z",
     "iopub.status.busy": "2020-11-26T20:04:34.267668Z",
     "iopub.status.idle": "2020-11-26T20:04:34.284148Z",
     "shell.execute_reply": "2020-11-26T20:04:34.284635Z"
    },
    "papermill": {
     "duration": 0.045606,
     "end_time": "2020-11-26T20:04:34.284788",
     "exception": false,
     "start_time": "2020-11-26T20:04:34.239182",
     "status": "completed"
    },
    "tags": []
   },
   "outputs": [],
   "source": [
    "train_filter = np.where((train_labels == 3 ) | (train_labels == 8))\n",
    "test_filter = np.where((test_labels == 3) | (test_labels == 8))\n",
    "X_train, y_train = train_images[train_filter], train_labels[train_filter]\n",
    "X_test, y_test = test_images[test_filter], test_labels[test_filter]"
   ]
  },
  {
   "cell_type": "markdown",
   "metadata": {
    "papermill": {
     "duration": 0.028035,
     "end_time": "2020-11-26T20:04:34.339271",
     "exception": false,
     "start_time": "2020-11-26T20:04:34.311236",
     "status": "completed"
    },
    "tags": []
   },
   "source": [
    "We normalize the pixel values in the 0 to 1 range"
   ]
  },
  {
   "cell_type": "code",
   "execution_count": 10,
   "metadata": {
    "execution": {
     "iopub.execute_input": "2020-11-26T20:04:34.405847Z",
     "iopub.status.busy": "2020-11-26T20:04:34.405183Z",
     "iopub.status.idle": "2020-11-26T20:04:34.453565Z",
     "shell.execute_reply": "2020-11-26T20:04:34.452659Z"
    },
    "papermill": {
     "duration": 0.086477,
     "end_time": "2020-11-26T20:04:34.453799",
     "exception": false,
     "start_time": "2020-11-26T20:04:34.367322",
     "status": "completed"
    },
    "tags": []
   },
   "outputs": [],
   "source": [
    "X_train = X_train/255.\n",
    "X_test = X_test/255."
   ]
  },
  {
   "cell_type": "markdown",
   "metadata": {
    "papermill": {
     "duration": 0.025242,
     "end_time": "2020-11-26T20:04:34.507504",
     "exception": false,
     "start_time": "2020-11-26T20:04:34.482262",
     "status": "completed"
    },
    "tags": []
   },
   "source": [
    "Setup the labels as 1 (when the digit is 3) and 0 (when the digit is 8)"
   ]
  },
  {
   "cell_type": "code",
   "execution_count": 11,
   "metadata": {
    "execution": {
     "iopub.execute_input": "2020-11-26T20:04:34.564449Z",
     "iopub.status.busy": "2020-11-26T20:04:34.563896Z",
     "iopub.status.idle": "2020-11-26T20:04:34.577451Z",
     "shell.execute_reply": "2020-11-26T20:04:34.577030Z"
    },
    "papermill": {
     "duration": 0.045061,
     "end_time": "2020-11-26T20:04:34.577567",
     "exception": false,
     "start_time": "2020-11-26T20:04:34.532506",
     "status": "completed"
    },
    "tags": []
   },
   "outputs": [],
   "source": [
    "y_train = 1*(y_train==3)\n",
    "y_test = 1*(y_test==3)"
   ]
  },
  {
   "cell_type": "code",
   "execution_count": 12,
   "metadata": {
    "execution": {
     "iopub.execute_input": "2020-11-26T20:04:34.637073Z",
     "iopub.status.busy": "2020-11-26T20:04:34.636478Z",
     "iopub.status.idle": "2020-11-26T20:04:34.650672Z",
     "shell.execute_reply": "2020-11-26T20:04:34.651043Z"
    },
    "papermill": {
     "duration": 0.047197,
     "end_time": "2020-11-26T20:04:34.651159",
     "exception": false,
     "start_time": "2020-11-26T20:04:34.603962",
     "status": "completed"
    },
    "tags": []
   },
   "outputs": [
    {
     "data": {
      "text/plain": [
       "((11982, 28, 28), (1984, 28, 28))"
      ]
     },
     "execution_count": 12,
     "metadata": {},
     "output_type": "execute_result"
    }
   ],
   "source": [
    "X_train.shape, X_test.shape"
   ]
  },
  {
   "cell_type": "markdown",
   "metadata": {
    "papermill": {
     "duration": 0.023079,
     "end_time": "2020-11-26T20:04:34.700675",
     "exception": false,
     "start_time": "2020-11-26T20:04:34.677596",
     "status": "completed"
    },
    "tags": []
   },
   "source": [
    "### Reshape the input data to create a linear array"
   ]
  },
  {
   "cell_type": "code",
   "execution_count": 13,
   "metadata": {
    "execution": {
     "iopub.execute_input": "2020-11-26T20:04:34.755654Z",
     "iopub.status.busy": "2020-11-26T20:04:34.755100Z",
     "iopub.status.idle": "2020-11-26T20:04:34.769273Z",
     "shell.execute_reply": "2020-11-26T20:04:34.768823Z"
    },
    "papermill": {
     "duration": 0.044604,
     "end_time": "2020-11-26T20:04:34.769428",
     "exception": false,
     "start_time": "2020-11-26T20:04:34.724824",
     "status": "completed"
    },
    "tags": []
   },
   "outputs": [
    {
     "data": {
      "text/plain": [
       "((11982, 784), (1984, 784))"
      ]
     },
     "execution_count": 13,
     "metadata": {},
     "output_type": "execute_result"
    }
   ],
   "source": [
    "X_train = X_train.reshape(X_train.shape[0], -1)\n",
    "X_test = X_test.reshape(X_test.shape[0], -1)\n",
    "X_train.shape, X_test.shape"
   ]
  },
  {
   "cell_type": "markdown",
   "metadata": {
    "papermill": {
     "duration": 0.025843,
     "end_time": "2020-11-26T20:04:34.821948",
     "exception": false,
     "start_time": "2020-11-26T20:04:34.796105",
     "status": "completed"
    },
    "tags": []
   },
   "source": [
    "### Importing appropriate functions from 'Kudzu'"
   ]
  },
  {
   "cell_type": "code",
   "execution_count": 14,
   "metadata": {
    "execution": {
     "iopub.execute_input": "2020-11-26T20:04:34.879800Z",
     "iopub.status.busy": "2020-11-26T20:04:34.878741Z",
     "iopub.status.idle": "2020-11-26T20:04:34.899083Z",
     "shell.execute_reply": "2020-11-26T20:04:34.899493Z"
    },
    "papermill": {
     "duration": 0.051763,
     "end_time": "2020-11-26T20:04:34.899615",
     "exception": false,
     "start_time": "2020-11-26T20:04:34.847852",
     "status": "completed"
    },
    "tags": []
   },
   "outputs": [],
   "source": [
    "from kudzu.layer import Sigmoid\n",
    "from kudzu.layer import Relu\n",
    "from kudzu.layer import Affine, Sigmoid\n",
    "\n",
    "from kudzu.model import Model\n",
    "from kudzu.train import Learner\n",
    "from kudzu.optim import GD\n",
    "from kudzu.data import Data, Dataloader, Sampler\n",
    "\n",
    "from kudzu.callbacks import AccCallback\n",
    "from kudzu.callbacks import ClfCallback\n",
    "\n",
    "from kudzu.loss import MSE"
   ]
  },
  {
   "cell_type": "markdown",
   "metadata": {
    "papermill": {
     "duration": 0.028038,
     "end_time": "2020-11-26T20:04:34.956510",
     "exception": false,
     "start_time": "2020-11-26T20:04:34.928472",
     "status": "completed"
    },
    "tags": []
   },
   "source": [
    "### Let us create a `Config` class, to store important parameters. \n",
    "This class essentially plays the role of a dictionary."
   ]
  },
  {
   "cell_type": "code",
   "execution_count": 15,
   "metadata": {
    "execution": {
     "iopub.execute_input": "2020-11-26T20:04:35.017074Z",
     "iopub.status.busy": "2020-11-26T20:04:35.016413Z",
     "iopub.status.idle": "2020-11-26T20:04:35.027214Z",
     "shell.execute_reply": "2020-11-26T20:04:35.027664Z"
    },
    "papermill": {
     "duration": 0.04451,
     "end_time": "2020-11-26T20:04:35.027803",
     "exception": false,
     "start_time": "2020-11-26T20:04:34.983293",
     "status": "completed"
    },
    "tags": []
   },
   "outputs": [],
   "source": [
    "class Config:\n",
    "    pass\n",
    "config = Config()\n",
    "config.lr = 0.001\n",
    "config.num_epochs = 251\n",
    "config.bs = 50"
   ]
  },
  {
   "cell_type": "markdown",
   "metadata": {
    "papermill": {
     "duration": 0.026472,
     "end_time": "2020-11-26T20:04:35.079576",
     "exception": false,
     "start_time": "2020-11-26T20:04:35.053104",
     "status": "completed"
    },
    "tags": []
   },
   "source": [
    "### Initializing data to the variables"
   ]
  },
  {
   "cell_type": "code",
   "execution_count": 16,
   "metadata": {
    "execution": {
     "iopub.execute_input": "2020-11-26T20:04:35.141397Z",
     "iopub.status.busy": "2020-11-26T20:04:35.140750Z",
     "iopub.status.idle": "2020-11-26T20:04:35.150249Z",
     "shell.execute_reply": "2020-11-26T20:04:35.149882Z"
    },
    "papermill": {
     "duration": 0.043648,
     "end_time": "2020-11-26T20:04:35.150344",
     "exception": false,
     "start_time": "2020-11-26T20:04:35.106696",
     "status": "completed"
    },
    "tags": []
   },
   "outputs": [],
   "source": [
    "data = Data(X_train, y_train.reshape(-1,1))\n",
    "sampler = Sampler(data, config.bs, shuffle=True)\n",
    "\n",
    "dl = Dataloader(data, sampler)\n",
    "\n",
    "opt = GD(config.lr)\n",
    "loss = MSE()"
   ]
  },
  {
   "cell_type": "code",
   "execution_count": 17,
   "metadata": {
    "execution": {
     "iopub.execute_input": "2020-11-26T20:04:35.206511Z",
     "iopub.status.busy": "2020-11-26T20:04:35.205472Z",
     "iopub.status.idle": "2020-11-26T20:04:35.216605Z",
     "shell.execute_reply": "2020-11-26T20:04:35.216199Z"
    },
    "papermill": {
     "duration": 0.040082,
     "end_time": "2020-11-26T20:04:35.216711",
     "exception": false,
     "start_time": "2020-11-26T20:04:35.176629",
     "status": "completed"
    },
    "tags": []
   },
   "outputs": [],
   "source": [
    "training_xdata = X_train\n",
    "testing_xdata = X_test\n",
    "training_ydata = y_train.reshape(-1,1)\n",
    "testing_ydata = y_test.reshape(-1,1)"
   ]
  },
  {
   "cell_type": "markdown",
   "metadata": {
    "papermill": {
     "duration": 0.023346,
     "end_time": "2020-11-26T20:04:35.265354",
     "exception": false,
     "start_time": "2020-11-26T20:04:35.242008",
     "status": "completed"
    },
    "tags": []
   },
   "source": [
    "### Running Models with the Training data\n",
    "Details about the network layers:\n",
    "- A first affine layer has 784 inputs and does 100 affine transforms. These are followed by a Relu\n",
    "- A second affine layer has 100 inputs from the 100 activations of the past layer, and does 100 affine transforms. These are followed by a Relu\n",
    "- A third affine layer has 100 activations and does 2 affine transformations to create an embedding for visualization. There is no non-linearity here.\n",
    "- A final \"logistic regression\" which has an affine transform from 2 inputs to 1 output, which is squeezed through a sigmoid.\n",
    "\n",
    "Help taken from Anshuman's Notebook."
   ]
  },
  {
   "cell_type": "code",
   "execution_count": 18,
   "metadata": {
    "execution": {
     "iopub.execute_input": "2020-11-26T20:04:35.317677Z",
     "iopub.status.busy": "2020-11-26T20:04:35.316639Z",
     "iopub.status.idle": "2020-11-26T20:04:35.334196Z",
     "shell.execute_reply": "2020-11-26T20:04:35.333718Z"
    },
    "papermill": {
     "duration": 0.044926,
     "end_time": "2020-11-26T20:04:35.334299",
     "exception": false,
     "start_time": "2020-11-26T20:04:35.289373",
     "status": "completed"
    },
    "tags": []
   },
   "outputs": [],
   "source": [
    "# layers for the Neural Network\n",
    "layers = [Affine(\"first\", 784, 100), Relu(\"first\"), Affine(\"second\", 100, 100), Relu(\"second\"), Affine(\"third\", 100, 2), Affine(\"final\", 2, 1), Sigmoid(\"final\")]\n",
    "model_nn = Model(layers)\n",
    "\n",
    "# layers for the Logistic Regression\n",
    "layers_lr = [Affine(\"logits\", 784, 1), Sigmoid(\"sigmoid\")]\n",
    "model_lr = Model(layers_lr)"
   ]
  },
  {
   "cell_type": "code",
   "execution_count": 19,
   "metadata": {
    "execution": {
     "iopub.execute_input": "2020-11-26T20:04:35.386612Z",
     "iopub.status.busy": "2020-11-26T20:04:35.385520Z",
     "iopub.status.idle": "2020-11-26T20:04:35.399873Z",
     "shell.execute_reply": "2020-11-26T20:04:35.399406Z"
    },
    "papermill": {
     "duration": 0.043345,
     "end_time": "2020-11-26T20:04:35.399999",
     "exception": false,
     "start_time": "2020-11-26T20:04:35.356654",
     "status": "completed"
    },
    "tags": []
   },
   "outputs": [],
   "source": [
    "# suffix _nn stands for Neural Network.\n",
    "learner_nn = Learner(loss, model_nn, opt, config.num_epochs)\n",
    "acc_nn = ClfCallback(learner_nn, config.bs, training_xdata , testing_xdata, training_ydata, testing_ydata)\n",
    "learner_nn.set_callbacks([acc_nn])"
   ]
  },
  {
   "cell_type": "code",
   "execution_count": 20,
   "metadata": {
    "execution": {
     "iopub.execute_input": "2020-11-26T20:04:35.458440Z",
     "iopub.status.busy": "2020-11-26T20:04:35.457884Z",
     "iopub.status.idle": "2020-11-26T20:05:56.008476Z",
     "shell.execute_reply": "2020-11-26T20:05:56.008889Z"
    },
    "papermill": {
     "duration": 80.582011,
     "end_time": "2020-11-26T20:05:56.009013",
     "exception": false,
     "start_time": "2020-11-26T20:04:35.427002",
     "status": "completed"
    },
    "tags": []
   },
   "outputs": [
    {
     "name": "stdout",
     "output_type": "stream",
     "text": [
      "====== Neural Network ======\n"
     ]
    },
    {
     "name": "stdout",
     "output_type": "stream",
     "text": [
      "Epoch 0, Loss 0.2446\n",
      "Training Accuracy: 0.6378, Testing Accuracy: 0.6492\n",
      "\n"
     ]
    },
    {
     "name": "stdout",
     "output_type": "stream",
     "text": [
      "Epoch 10, Loss 0.1285\n",
      "Training Accuracy: 0.9004, Testing Accuracy: 0.9108\n",
      "\n"
     ]
    },
    {
     "name": "stdout",
     "output_type": "stream",
     "text": [
      "Epoch 20, Loss 0.0693\n",
      "Training Accuracy: 0.9294, Testing Accuracy: 0.9390\n",
      "\n"
     ]
    },
    {
     "name": "stdout",
     "output_type": "stream",
     "text": [
      "Epoch 30, Loss 0.0513\n",
      "Training Accuracy: 0.9433, Testing Accuracy: 0.9526\n",
      "\n"
     ]
    },
    {
     "name": "stdout",
     "output_type": "stream",
     "text": [
      "Epoch 40, Loss 0.043\n",
      "Training Accuracy: 0.9513, Testing Accuracy: 0.9587\n",
      "\n"
     ]
    },
    {
     "name": "stdout",
     "output_type": "stream",
     "text": [
      "Epoch 50, Loss 0.0383\n",
      "Training Accuracy: 0.9564, Testing Accuracy: 0.9622\n",
      "\n"
     ]
    },
    {
     "name": "stdout",
     "output_type": "stream",
     "text": [
      "Epoch 60, Loss 0.0353\n",
      "Training Accuracy: 0.9587, Testing Accuracy: 0.9637\n",
      "\n"
     ]
    },
    {
     "name": "stdout",
     "output_type": "stream",
     "text": [
      "Epoch 70, Loss 0.033\n",
      "Training Accuracy: 0.9614, Testing Accuracy: 0.9657\n",
      "\n"
     ]
    },
    {
     "name": "stdout",
     "output_type": "stream",
     "text": [
      "Epoch 80, Loss 0.0313\n",
      "Training Accuracy: 0.9634, Testing Accuracy: 0.9682\n",
      "\n"
     ]
    },
    {
     "name": "stdout",
     "output_type": "stream",
     "text": [
      "Epoch 90, Loss 0.0299\n",
      "Training Accuracy: 0.9652, Testing Accuracy: 0.9682\n",
      "\n"
     ]
    },
    {
     "name": "stdout",
     "output_type": "stream",
     "text": [
      "Epoch 100, Loss 0.0287\n",
      "Training Accuracy: 0.9660, Testing Accuracy: 0.9682\n",
      "\n"
     ]
    },
    {
     "name": "stdout",
     "output_type": "stream",
     "text": [
      "Epoch 110, Loss 0.0277\n",
      "Training Accuracy: 0.9676, Testing Accuracy: 0.9688\n",
      "\n"
     ]
    },
    {
     "name": "stdout",
     "output_type": "stream",
     "text": [
      "Epoch 120, Loss 0.0268\n",
      "Training Accuracy: 0.9690, Testing Accuracy: 0.9698\n",
      "\n"
     ]
    },
    {
     "name": "stdout",
     "output_type": "stream",
     "text": [
      "Epoch 130, Loss 0.0259\n",
      "Training Accuracy: 0.9702, Testing Accuracy: 0.9698\n",
      "\n"
     ]
    },
    {
     "name": "stdout",
     "output_type": "stream",
     "text": [
      "Epoch 140, Loss 0.0252\n",
      "Training Accuracy: 0.9711, Testing Accuracy: 0.9698\n",
      "\n"
     ]
    },
    {
     "name": "stdout",
     "output_type": "stream",
     "text": [
      "Epoch 150, Loss 0.0245\n",
      "Training Accuracy: 0.9719, Testing Accuracy: 0.9703\n",
      "\n"
     ]
    },
    {
     "name": "stdout",
     "output_type": "stream",
     "text": [
      "Epoch 160, Loss 0.0239\n",
      "Training Accuracy: 0.9725, Testing Accuracy: 0.9708\n",
      "\n"
     ]
    },
    {
     "name": "stdout",
     "output_type": "stream",
     "text": [
      "Epoch 170, Loss 0.0233\n",
      "Training Accuracy: 0.9735, Testing Accuracy: 0.9713\n",
      "\n"
     ]
    },
    {
     "name": "stdout",
     "output_type": "stream",
     "text": [
      "Epoch 180, Loss 0.0227\n",
      "Training Accuracy: 0.9740, Testing Accuracy: 0.9723\n",
      "\n"
     ]
    },
    {
     "name": "stdout",
     "output_type": "stream",
     "text": [
      "Epoch 190, Loss 0.0222\n",
      "Training Accuracy: 0.9745, Testing Accuracy: 0.9723\n",
      "\n"
     ]
    },
    {
     "name": "stdout",
     "output_type": "stream",
     "text": [
      "Epoch 200, Loss 0.0218\n",
      "Training Accuracy: 0.9751, Testing Accuracy: 0.9738\n",
      "\n"
     ]
    },
    {
     "name": "stdout",
     "output_type": "stream",
     "text": [
      "Epoch 210, Loss 0.0213\n",
      "Training Accuracy: 0.9759, Testing Accuracy: 0.9743\n",
      "\n"
     ]
    },
    {
     "name": "stdout",
     "output_type": "stream",
     "text": [
      "Epoch 220, Loss 0.0208\n",
      "Training Accuracy: 0.9765, Testing Accuracy: 0.9748\n",
      "\n"
     ]
    },
    {
     "name": "stdout",
     "output_type": "stream",
     "text": [
      "Epoch 230, Loss 0.0204\n",
      "Training Accuracy: 0.9770, Testing Accuracy: 0.9748\n",
      "\n"
     ]
    },
    {
     "name": "stdout",
     "output_type": "stream",
     "text": [
      "Epoch 240, Loss 0.02\n",
      "Training Accuracy: 0.9775, Testing Accuracy: 0.9748\n",
      "\n"
     ]
    },
    {
     "name": "stdout",
     "output_type": "stream",
     "text": [
      "Epoch 250, Loss 0.0196\n",
      "Training Accuracy: 0.9779, Testing Accuracy: 0.9748\n",
      "\n"
     ]
    },
    {
     "data": {
      "text/plain": [
       "0.0076897150031777686"
      ]
     },
     "execution_count": 20,
     "metadata": {},
     "output_type": "execute_result"
    }
   ],
   "source": [
    "print(\"====== Neural Network ======\")\n",
    "learner_nn.train_loop(dl)"
   ]
  },
  {
   "cell_type": "markdown",
   "metadata": {
    "papermill": {
     "duration": 0.03384,
     "end_time": "2020-11-26T20:05:56.073561",
     "exception": false,
     "start_time": "2020-11-26T20:05:56.039721",
     "status": "completed"
    },
    "tags": []
   },
   "source": [
    "### Logistic Regression based Implementation."
   ]
  },
  {
   "cell_type": "code",
   "execution_count": 21,
   "metadata": {
    "execution": {
     "iopub.execute_input": "2020-11-26T20:05:56.147621Z",
     "iopub.status.busy": "2020-11-26T20:05:56.147013Z",
     "iopub.status.idle": "2020-11-26T20:05:56.156244Z",
     "shell.execute_reply": "2020-11-26T20:05:56.156593Z"
    },
    "papermill": {
     "duration": 0.052336,
     "end_time": "2020-11-26T20:05:56.156730",
     "exception": false,
     "start_time": "2020-11-26T20:05:56.104394",
     "status": "completed"
    },
    "tags": []
   },
   "outputs": [],
   "source": [
    "learner_lr = Learner(loss, model_lr, opt, config.num_epochs)\n",
    "acc_lr = ClfCallback(learner_lr, config.bs, training_xdata , testing_xdata, training_ydata, testing_ydata)\n",
    "learner_lr.set_callbacks([acc_lr])"
   ]
  },
  {
   "cell_type": "code",
   "execution_count": 22,
   "metadata": {
    "execution": {
     "iopub.execute_input": "2020-11-26T20:05:56.223657Z",
     "iopub.status.busy": "2020-11-26T20:05:56.223094Z",
     "iopub.status.idle": "2020-11-26T20:06:10.496861Z",
     "shell.execute_reply": "2020-11-26T20:06:10.497617Z"
    },
    "papermill": {
     "duration": 14.309679,
     "end_time": "2020-11-26T20:06:10.497782",
     "exception": false,
     "start_time": "2020-11-26T20:05:56.188103",
     "status": "completed"
    },
    "tags": []
   },
   "outputs": [
    {
     "name": "stdout",
     "output_type": "stream",
     "text": [
      "====== Logistic Regression ======\n",
      "Epoch 0, Loss 0.2817\n",
      "Training Accuracy: 0.5522, Testing Accuracy: 0.5751\n",
      "\n"
     ]
    },
    {
     "name": "stdout",
     "output_type": "stream",
     "text": [
      "Epoch 10, Loss 0.1043\n",
      "Training Accuracy: 0.9109, Testing Accuracy: 0.9249\n",
      "\n"
     ]
    },
    {
     "name": "stdout",
     "output_type": "stream",
     "text": [
      "Epoch 20, Loss 0.0799\n",
      "Training Accuracy: 0.9268, Testing Accuracy: 0.9355\n",
      "\n"
     ]
    },
    {
     "name": "stdout",
     "output_type": "stream",
     "text": [
      "Epoch 30, Loss 0.069\n",
      "Training Accuracy: 0.9344, Testing Accuracy: 0.9425\n",
      "\n"
     ]
    },
    {
     "name": "stdout",
     "output_type": "stream",
     "text": [
      "Epoch 40, Loss 0.0624\n",
      "Training Accuracy: 0.9388, Testing Accuracy: 0.9476\n",
      "\n"
     ]
    },
    {
     "name": "stdout",
     "output_type": "stream",
     "text": [
      "Epoch 50, Loss 0.0579\n",
      "Training Accuracy: 0.9423, Testing Accuracy: 0.9496\n",
      "\n"
     ]
    },
    {
     "name": "stdout",
     "output_type": "stream",
     "text": [
      "Epoch 60, Loss 0.0545\n",
      "Training Accuracy: 0.9447, Testing Accuracy: 0.9531\n",
      "\n"
     ]
    },
    {
     "name": "stdout",
     "output_type": "stream",
     "text": [
      "Epoch 70, Loss 0.052\n",
      "Training Accuracy: 0.9469, Testing Accuracy: 0.9546\n",
      "\n"
     ]
    },
    {
     "name": "stdout",
     "output_type": "stream",
     "text": [
      "Epoch 80, Loss 0.0499\n",
      "Training Accuracy: 0.9488, Testing Accuracy: 0.9556\n",
      "\n"
     ]
    },
    {
     "name": "stdout",
     "output_type": "stream",
     "text": [
      "Epoch 90, Loss 0.0482\n",
      "Training Accuracy: 0.9501, Testing Accuracy: 0.9572\n",
      "\n"
     ]
    },
    {
     "name": "stdout",
     "output_type": "stream",
     "text": [
      "Epoch 100, Loss 0.0467\n",
      "Training Accuracy: 0.9521, Testing Accuracy: 0.9592\n",
      "\n"
     ]
    },
    {
     "name": "stdout",
     "output_type": "stream",
     "text": [
      "Epoch 110, Loss 0.0455\n",
      "Training Accuracy: 0.9526, Testing Accuracy: 0.9617\n",
      "\n"
     ]
    },
    {
     "name": "stdout",
     "output_type": "stream",
     "text": [
      "Epoch 120, Loss 0.0444\n",
      "Training Accuracy: 0.9536, Testing Accuracy: 0.9622\n",
      "\n"
     ]
    },
    {
     "name": "stdout",
     "output_type": "stream",
     "text": [
      "Epoch 130, Loss 0.0434\n",
      "Training Accuracy: 0.9543, Testing Accuracy: 0.9622\n",
      "\n"
     ]
    },
    {
     "name": "stdout",
     "output_type": "stream",
     "text": [
      "Epoch 140, Loss 0.0426\n",
      "Training Accuracy: 0.9553, Testing Accuracy: 0.9627\n",
      "\n"
     ]
    },
    {
     "name": "stdout",
     "output_type": "stream",
     "text": [
      "Epoch 150, Loss 0.0418\n",
      "Training Accuracy: 0.9559, Testing Accuracy: 0.9637\n",
      "\n"
     ]
    },
    {
     "name": "stdout",
     "output_type": "stream",
     "text": [
      "Epoch 160, Loss 0.0411\n",
      "Training Accuracy: 0.9564, Testing Accuracy: 0.9637\n",
      "\n"
     ]
    },
    {
     "name": "stdout",
     "output_type": "stream",
     "text": [
      "Epoch 170, Loss 0.0405\n",
      "Training Accuracy: 0.9568, Testing Accuracy: 0.9642\n",
      "\n"
     ]
    },
    {
     "name": "stdout",
     "output_type": "stream",
     "text": [
      "Epoch 180, Loss 0.0399\n",
      "Training Accuracy: 0.9569, Testing Accuracy: 0.9647\n",
      "\n"
     ]
    },
    {
     "name": "stdout",
     "output_type": "stream",
     "text": [
      "Epoch 190, Loss 0.0394\n",
      "Training Accuracy: 0.9579, Testing Accuracy: 0.9647\n",
      "\n"
     ]
    },
    {
     "name": "stdout",
     "output_type": "stream",
     "text": [
      "Epoch 200, Loss 0.0389\n",
      "Training Accuracy: 0.9587, Testing Accuracy: 0.9652\n",
      "\n"
     ]
    },
    {
     "name": "stdout",
     "output_type": "stream",
     "text": [
      "Epoch 210, Loss 0.0384\n",
      "Training Accuracy: 0.9594, Testing Accuracy: 0.9652\n",
      "\n"
     ]
    },
    {
     "name": "stdout",
     "output_type": "stream",
     "text": [
      "Epoch 220, Loss 0.038\n",
      "Training Accuracy: 0.9599, Testing Accuracy: 0.9652\n",
      "\n"
     ]
    },
    {
     "name": "stdout",
     "output_type": "stream",
     "text": [
      "Epoch 230, Loss 0.0376\n",
      "Training Accuracy: 0.9599, Testing Accuracy: 0.9662\n",
      "\n"
     ]
    },
    {
     "name": "stdout",
     "output_type": "stream",
     "text": [
      "Epoch 240, Loss 0.0372\n",
      "Training Accuracy: 0.9603, Testing Accuracy: 0.9667\n",
      "\n"
     ]
    },
    {
     "name": "stdout",
     "output_type": "stream",
     "text": [
      "Epoch 250, Loss 0.0369\n",
      "Training Accuracy: 0.9607, Testing Accuracy: 0.9677\n",
      "\n"
     ]
    },
    {
     "data": {
      "text/plain": [
       "0.030837583913992783"
      ]
     },
     "execution_count": 22,
     "metadata": {},
     "output_type": "execute_result"
    }
   ],
   "source": [
    "print(\"====== Logistic Regression ======\")\n",
    "learner_lr.train_loop(dl)"
   ]
  },
  {
   "cell_type": "markdown",
   "metadata": {
    "papermill": {
     "duration": 0.038059,
     "end_time": "2020-11-26T20:06:10.573555",
     "exception": false,
     "start_time": "2020-11-26T20:06:10.535496",
     "status": "completed"
    },
    "tags": []
   },
   "source": [
    "### Comparing results of NN and LR"
   ]
  },
  {
   "cell_type": "code",
   "execution_count": 23,
   "metadata": {
    "execution": {
     "iopub.execute_input": "2020-11-26T20:06:10.656847Z",
     "iopub.status.busy": "2020-11-26T20:06:10.656094Z",
     "iopub.status.idle": "2020-11-26T20:06:10.873196Z",
     "shell.execute_reply": "2020-11-26T20:06:10.872690Z"
    },
    "papermill": {
     "duration": 0.261984,
     "end_time": "2020-11-26T20:06:10.873354",
     "exception": false,
     "start_time": "2020-11-26T20:06:10.611370",
     "status": "completed"
    },
    "tags": []
   },
   "outputs": [
    {
     "data": {
      "text/plain": [
       "<matplotlib.legend.Legend at 0x7ff0f3c02940>"
      ]
     },
     "execution_count": 23,
     "metadata": {},
     "output_type": "execute_result"
    },
    {
     "data": {
      "image/png": "[encoded data removed]",
      "text/plain": [
       "<Figure size 1080x720 with 1 Axes>"
      ]
     },
     "metadata": {
      "needs_background": "light"
     },
     "output_type": "display_data"
    }
   ],
   "source": [
    "plt.figure(figsize=(15,10))\n",
    "\n",
    "# Neural Network plots\n",
    "plt.plot(acc_nn.accuracies, 'r-', label = \"Training Accuracies - NN\")\n",
    "plt.plot(acc_nn.test_accuracies, 'g-', label = \"Testing Accuracies - NN\")\n",
    "\n",
    "# Logistic Regression plots\n",
    "plt.plot(acc_lr.accuracies, 'k-', label = \"Training Accuracies - LR\")\n",
    "plt.plot(acc_lr.test_accuracies, 'b-', label = \"Testing Accuracies - LR\")\n",
    "\n",
    "plt.ylim(0.8, 1)\n",
    "\n",
    "plt.legend()\n",
    "\n"
   ]
  },
  {
   "cell_type": "markdown",
   "metadata": {
    "papermill": {
     "duration": 0.038021,
     "end_time": "2020-11-26T20:06:10.950929",
     "exception": false,
     "start_time": "2020-11-26T20:06:10.912908",
     "status": "completed"
    },
    "tags": []
   },
   "source": [
    "### From the plot, we can observe the following:\n",
    "- Neural Network achieves higher accuracy than the Logistic Regression model.\n",
    "- This apparently, is because of overfitting, i.e. NN captures more noise than data.\n",
    "- Testing accuracy of NN drops below the Training accuracy at higher epochs. This explains the over-fitting on training data.\n",
    "- Logistic Regression gives a reliable accuracy, without the above mentioned problem.\n"
   ]
  },
  {
   "cell_type": "markdown",
   "metadata": {
    "papermill": {
     "duration": 0.040695,
     "end_time": "2020-11-26T20:06:11.030499",
     "exception": false,
     "start_time": "2020-11-26T20:06:10.989804",
     "status": "completed"
    },
    "tags": []
   },
   "source": [
    "### Moving till the last but one layer (excluding it).\n",
    "#### Plotting the outputs of this layer of the NN."
   ]
  },
  {
   "cell_type": "code",
   "execution_count": 24,
   "metadata": {
    "execution": {
     "iopub.execute_input": "2020-11-26T20:06:11.128285Z",
     "iopub.status.busy": "2020-11-26T20:06:11.127653Z",
     "iopub.status.idle": "2020-11-26T20:06:11.138962Z",
     "shell.execute_reply": "2020-11-26T20:06:11.138512Z"
    },
    "papermill": {
     "duration": 0.064627,
     "end_time": "2020-11-26T20:06:11.139087",
     "exception": false,
     "start_time": "2020-11-26T20:06:11.074460",
     "status": "completed"
    },
    "tags": []
   },
   "outputs": [],
   "source": [
    "model_new = Model(layers[:-2])"
   ]
  },
  {
   "cell_type": "code",
   "execution_count": 25,
   "metadata": {
    "execution": {
     "iopub.execute_input": "2020-11-26T20:06:11.233783Z",
     "iopub.status.busy": "2020-11-26T20:06:11.233109Z",
     "iopub.status.idle": "2020-11-26T20:06:11.249530Z",
     "shell.execute_reply": "2020-11-26T20:06:11.249959Z"
    },
    "papermill": {
     "duration": 0.070314,
     "end_time": "2020-11-26T20:06:11.250124",
     "exception": false,
     "start_time": "2020-11-26T20:06:11.179810",
     "status": "completed"
    },
    "tags": []
   },
   "outputs": [],
   "source": [
    "plot_testing = model_new(testing_xdata)"
   ]
  },
  {
   "cell_type": "code",
   "execution_count": 26,
   "metadata": {
    "execution": {
     "iopub.execute_input": "2020-11-26T20:06:11.342615Z",
     "iopub.status.busy": "2020-11-26T20:06:11.342118Z",
     "iopub.status.idle": "2020-11-26T20:06:11.530238Z",
     "shell.execute_reply": "2020-11-26T20:06:11.530619Z"
    },
    "papermill": {
     "duration": 0.237765,
     "end_time": "2020-11-26T20:06:11.530762",
     "exception": false,
     "start_time": "2020-11-26T20:06:11.292997",
     "status": "completed"
    },
    "tags": []
   },
   "outputs": [
    {
     "data": {
      "text/plain": [
       "Text(0.5, 1.0, 'Outputs')"
      ]
     },
     "execution_count": 26,
     "metadata": {},
     "output_type": "execute_result"
    },
    {
     "data": {
      "image/png": "[encoded data removed]",
      "text/plain": [
       "<Figure size 576x504 with 1 Axes>"
      ]
     },
     "metadata": {
      "needs_background": "light"
     },
     "output_type": "display_data"
    }
   ],
   "source": [
    "plt.figure(figsize=(8,7))\n",
    "plt.scatter(plot_testing[:,0], plot_testing[:,1], alpha = 0.1, c = y_test.ravel());\n",
    "plt.title('Outputs')"
   ]
  },
  {
   "cell_type": "markdown",
   "metadata": {
    "papermill": {
     "duration": 0.046565,
     "end_time": "2020-11-26T20:06:11.622925",
     "exception": false,
     "start_time": "2020-11-26T20:06:11.576360",
     "status": "completed"
    },
    "tags": []
   },
   "source": [
    "### Plotting probability contours"
   ]
  },
  {
   "cell_type": "code",
   "execution_count": 27,
   "metadata": {
    "execution": {
     "iopub.execute_input": "2020-11-26T20:06:11.713134Z",
     "iopub.status.busy": "2020-11-26T20:06:11.711908Z",
     "iopub.status.idle": "2020-11-26T20:06:11.724411Z",
     "shell.execute_reply": "2020-11-26T20:06:11.724892Z"
    },
    "papermill": {
     "duration": 0.058415,
     "end_time": "2020-11-26T20:06:11.725049",
     "exception": false,
     "start_time": "2020-11-26T20:06:11.666634",
     "status": "completed"
    },
    "tags": []
   },
   "outputs": [],
   "source": [
    "model_prob = Model(layers[-2:]) "
   ]
  },
  {
   "cell_type": "code",
   "execution_count": 28,
   "metadata": {
    "execution": {
     "iopub.execute_input": "2020-11-26T20:06:11.815601Z",
     "iopub.status.busy": "2020-11-26T20:06:11.814118Z",
     "iopub.status.idle": "2020-11-26T20:06:11.827580Z",
     "shell.execute_reply": "2020-11-26T20:06:11.827976Z"
    },
    "papermill": {
     "duration": 0.061278,
     "end_time": "2020-11-26T20:06:11.828100",
     "exception": false,
     "start_time": "2020-11-26T20:06:11.766822",
     "status": "completed"
    },
    "tags": []
   },
   "outputs": [],
   "source": [
    "# Adjust the x and y ranges according to the above generated plot.\n",
    "x_range = np.linspace(-4, 1, 100) \n",
    "y_range = np.linspace(-6, 6, 100) \n",
    "x_grid, y_grid = np.meshgrid(x_range, y_range) # x_grid and y_grig are of size 100 X 100\n",
    "\n",
    "# converting x_grid and y_grid to continuous arrays\n",
    "x_grid_flat = np.ravel(x_grid)\n",
    "y_grid_flat = np.ravel(y_grid)\n",
    "\n",
    "# The last layer of the current model takes two columns as input. Hence transpose of np.vstack() is required.\n",
    "X = np.vstack((x_grid_flat, y_grid_flat)).T\n",
    "\n",
    "# x_grid and y_grid are of size 100 x 100\n",
    "probability_contour = model_prob(X).reshape(100,100) "
   ]
  },
  {
   "cell_type": "code",
   "execution_count": 29,
   "metadata": {
    "execution": {
     "iopub.execute_input": "2020-11-26T20:06:11.922560Z",
     "iopub.status.busy": "2020-11-26T20:06:11.922129Z",
     "iopub.status.idle": "2020-11-26T20:06:12.159220Z",
     "shell.execute_reply": "2020-11-26T20:06:12.158687Z"
    },
    "papermill": {
     "duration": 0.285718,
     "end_time": "2020-11-26T20:06:12.159360",
     "exception": false,
     "start_time": "2020-11-26T20:06:11.873642",
     "status": "completed"
    },
    "tags": []
   },
   "outputs": [
    {
     "data": {
      "image/png": "[encoded data removed]",
      "text/plain": [
       "<Figure size 720x648 with 1 Axes>"
      ]
     },
     "metadata": {
      "needs_background": "light"
     },
     "output_type": "display_data"
    }
   ],
   "source": [
    "plt.figure(figsize=(10,9))\n",
    "plt.scatter(plot_testing[:,0], plot_testing[:,1], alpha = 0.1, c = y_test.ravel())\n",
    "contours = plt.contour(x_grid,y_grid,probability_contour)\n",
    "plt.title('Probability Contours')\n",
    "plt.clabel(contours, inline = True );"
   ]
  }
 ],
 "metadata": {
  "kernelspec": {
   "display_name": "Python 3",
   "language": "python",
   "name": "python3"
  },
  "language_info": {
   "codemirror_mode": {
    "name": "ipython",
    "version": 3
   },
   "file_extension": ".py",
   "mimetype": "text/x-python",
   "name": "python",
   "nbconvert_exporter": "python",
   "pygments_lexer": "ipython3",
   "version": "3.6.12"
  },
  "papermill": {
   "duration": 103.716434,
   "end_time": "2020-11-26T20:06:12.516852",
   "environment_variables": {},
   "exception": null,
   "input_path": "2020-08-11-NeuralNetwork.ipynb",
   "output_path": "2020-08-11-NeuralNetwork.ipynb",
   "parameters": {},
   "start_time": "2020-11-26T20:04:28.800418",
   "version": "2.1.2"
  }
 },
 "nbformat": 4,
 "nbformat_minor": 4
}