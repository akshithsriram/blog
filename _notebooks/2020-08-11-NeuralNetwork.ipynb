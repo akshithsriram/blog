{
 "cells": [
  {
   "cell_type": "markdown",
   "metadata": {
    "papermill": {
     "duration": 0.029571,
     "end_time": "2021-01-19T10:39:15.157208",
     "exception": false,
     "start_time": "2021-01-19T10:39:15.127637",
     "status": "completed"
    },
    "tags": []
   },
   "source": [
    "# \"A Basic Neural Network: Differentiate Hand-Written Digits\"\n",
    "\n",
    "- badges: true\n",
    "- author: Akshith Sriram"
   ]
  },
  {
   "cell_type": "markdown",
   "metadata": {
    "papermill": {
     "duration": 0.02839,
     "end_time": "2021-01-19T10:39:15.212509",
     "exception": false,
     "start_time": "2021-01-19T10:39:15.184119",
     "status": "completed"
    },
    "tags": []
   },
   "source": [
    "### Key Objectives:\n",
    "- Building a neural network that differentiates two hand-written digits 3 and 8.\n",
    "- Comparing the results of this Neural Network (NN) to that of a Logistic Regression (LR) model.\n",
    "\n",
    "### Requirements:\n",
    "- 'Kudzu' : A neural network library that was designed during our course by [Univ.AI](www.univ.ai). \n",
    "- MNIST Database\n",
    "\n",
    "If MNIST is not installed, use the command `!pip install mnist` given below.\n",
    "It can be run both from the command line and Jupyter Notebook."
   ]
  },
  {
   "cell_type": "code",
   "execution_count": 1,
   "metadata": {
    "execution": {
     "iopub.execute_input": "2021-01-19T10:39:15.279991Z",
     "iopub.status.busy": "2021-01-19T10:39:15.279260Z",
     "iopub.status.idle": "2021-01-19T10:39:16.867526Z",
     "shell.execute_reply": "2021-01-19T10:39:16.866979Z"
    },
    "papermill": {
     "duration": 1.626584,
     "end_time": "2021-01-19T10:39:16.867683",
     "exception": false,
     "start_time": "2021-01-19T10:39:15.241099",
     "status": "completed"
    },
    "tags": []
   },
   "outputs": [
    {
     "name": "stdout",
     "output_type": "stream",
     "text": [
      "Collecting mnist\r\n"
     ]
    },
    {
     "name": "stdout",
     "output_type": "stream",
     "text": [
      "  Downloading mnist-0.2.2-py2.py3-none-any.whl (3.5 kB)\r\n",
      "Requirement already satisfied: numpy in /opt/hostedtoolcache/Python/3.6.12/x64/lib/python3.6/site-packages (from mnist) (1.19.5)\r\n"
     ]
    },
    {
     "name": "stdout",
     "output_type": "stream",
     "text": [
      "Installing collected packages: mnist\r\n",
      "Successfully installed mnist-0.2.2\r\n"
     ]
    }
   ],
   "source": [
    "!pip install mnist "
   ]
  },
  {
   "cell_type": "markdown",
   "metadata": {
    "papermill": {
     "duration": 0.026236,
     "end_time": "2021-01-19T10:39:16.920861",
     "exception": false,
     "start_time": "2021-01-19T10:39:16.894625",
     "status": "completed"
    },
    "tags": []
   },
   "source": [
    "#### Importing necessary libraries"
   ]
  },
  {
   "cell_type": "code",
   "execution_count": 2,
   "metadata": {
    "execution": {
     "iopub.execute_input": "2021-01-19T10:39:16.982741Z",
     "iopub.status.busy": "2021-01-19T10:39:16.982076Z",
     "iopub.status.idle": "2021-01-19T10:39:17.556378Z",
     "shell.execute_reply": "2021-01-19T10:39:17.555442Z"
    },
    "papermill": {
     "duration": 0.610383,
     "end_time": "2021-01-19T10:39:17.556527",
     "exception": false,
     "start_time": "2021-01-19T10:39:16.946144",
     "status": "completed"
    },
    "tags": []
   },
   "outputs": [],
   "source": [
    "%load_ext autoreload\n",
    "%autoreload 2\n",
    "\n",
    "%matplotlib inline\n",
    "import matplotlib.pyplot as plt\n",
    "\n",
    "import numpy as np\n",
    "import pandas as pd"
   ]
  },
  {
   "cell_type": "markdown",
   "metadata": {
    "papermill": {
     "duration": 0.028658,
     "end_time": "2021-01-19T10:39:17.614878",
     "exception": false,
     "start_time": "2021-01-19T10:39:17.586220",
     "status": "completed"
    },
    "tags": []
   },
   "source": [
    "### Preparing the Data"
   ]
  },
  {
   "cell_type": "code",
   "execution_count": 3,
   "metadata": {
    "execution": {
     "iopub.execute_input": "2021-01-19T10:39:17.678384Z",
     "iopub.status.busy": "2021-01-19T10:39:17.677743Z",
     "iopub.status.idle": "2021-01-19T10:39:17.690201Z",
     "shell.execute_reply": "2021-01-19T10:39:17.689607Z"
    },
    "papermill": {
     "duration": 0.046785,
     "end_time": "2021-01-19T10:39:17.690352",
     "exception": false,
     "start_time": "2021-01-19T10:39:17.643567",
     "status": "completed"
    },
    "tags": []
   },
   "outputs": [],
   "source": [
    "import mnist"
   ]
  },
  {
   "cell_type": "code",
   "execution_count": 4,
   "metadata": {
    "execution": {
     "iopub.execute_input": "2021-01-19T10:39:17.751917Z",
     "iopub.status.busy": "2021-01-19T10:39:17.751255Z",
     "iopub.status.idle": "2021-01-19T10:39:22.269931Z",
     "shell.execute_reply": "2021-01-19T10:39:22.269332Z"
    },
    "papermill": {
     "duration": 4.550364,
     "end_time": "2021-01-19T10:39:22.270100",
     "exception": false,
     "start_time": "2021-01-19T10:39:17.719736",
     "status": "completed"
    },
    "tags": []
   },
   "outputs": [],
   "source": [
    "train_images = mnist.train_images()\n",
    "train_labels = mnist.train_labels()"
   ]
  },
  {
   "cell_type": "code",
   "execution_count": 5,
   "metadata": {
    "execution": {
     "iopub.execute_input": "2021-01-19T10:39:22.334002Z",
     "iopub.status.busy": "2021-01-19T10:39:22.333318Z",
     "iopub.status.idle": "2021-01-19T10:39:22.348724Z",
     "shell.execute_reply": "2021-01-19T10:39:22.348148Z"
    },
    "papermill": {
     "duration": 0.048952,
     "end_time": "2021-01-19T10:39:22.348857",
     "exception": false,
     "start_time": "2021-01-19T10:39:22.299905",
     "status": "completed"
    },
    "tags": []
   },
   "outputs": [
    {
     "data": {
      "text/plain": [
       "((60000, 28, 28), (60000,))"
      ]
     },
     "execution_count": 5,
     "metadata": {},
     "output_type": "execute_result"
    }
   ],
   "source": [
    "train_images.shape, train_labels.shape"
   ]
  },
  {
   "cell_type": "code",
   "execution_count": 6,
   "metadata": {
    "execution": {
     "iopub.execute_input": "2021-01-19T10:39:22.415010Z",
     "iopub.status.busy": "2021-01-19T10:39:22.410120Z",
     "iopub.status.idle": "2021-01-19T10:39:23.284489Z",
     "shell.execute_reply": "2021-01-19T10:39:23.283853Z"
    },
    "papermill": {
     "duration": 0.906622,
     "end_time": "2021-01-19T10:39:23.284638",
     "exception": false,
     "start_time": "2021-01-19T10:39:22.378016",
     "status": "completed"
    },
    "tags": []
   },
   "outputs": [],
   "source": [
    "test_images = mnist.test_images()\n",
    "test_labels = mnist.test_labels()"
   ]
  },
  {
   "cell_type": "code",
   "execution_count": 7,
   "metadata": {
    "execution": {
     "iopub.execute_input": "2021-01-19T10:39:23.349586Z",
     "iopub.status.busy": "2021-01-19T10:39:23.348929Z",
     "iopub.status.idle": "2021-01-19T10:39:23.365006Z",
     "shell.execute_reply": "2021-01-19T10:39:23.364452Z"
    },
    "papermill": {
     "duration": 0.050342,
     "end_time": "2021-01-19T10:39:23.365141",
     "exception": false,
     "start_time": "2021-01-19T10:39:23.314799",
     "status": "completed"
    },
    "tags": []
   },
   "outputs": [
    {
     "data": {
      "text/plain": [
       "((10000, 28, 28), (10000,))"
      ]
     },
     "execution_count": 7,
     "metadata": {},
     "output_type": "execute_result"
    }
   ],
   "source": [
    "test_images.shape, test_labels.shape"
   ]
  },
  {
   "cell_type": "code",
   "execution_count": 8,
   "metadata": {
    "execution": {
     "iopub.execute_input": "2021-01-19T10:39:23.427095Z",
     "iopub.status.busy": "2021-01-19T10:39:23.426336Z",
     "iopub.status.idle": "2021-01-19T10:39:23.603473Z",
     "shell.execute_reply": "2021-01-19T10:39:23.602896Z"
    },
    "papermill": {
     "duration": 0.209497,
     "end_time": "2021-01-19T10:39:23.603626",
     "exception": false,
     "start_time": "2021-01-19T10:39:23.394129",
     "status": "completed"
    },
    "tags": []
   },
   "outputs": [
    {
     "name": "stdout",
     "output_type": "stream",
     "text": [
      "2\n"
     ]
    },
    {
     "data": {
      "text/plain": [
       "<matplotlib.image.AxesImage at 0x7f29991cc630>"
      ]
     },
     "execution_count": 8,
     "metadata": {},
     "output_type": "execute_result"
    },
    {
     "data": {
      "image/png": "[encoded data removed]",
      "text/plain": [
       "<Figure size 432x288 with 1 Axes>"
      ]
     },
     "metadata": {
      "needs_background": "light"
     },
     "output_type": "display_data"
    }
   ],
   "source": [
    "image_index = 7776 # You may select anything up to 60,000\n",
    "print(train_labels[image_index]) \n",
    "plt.imshow(train_images[image_index], cmap='Greys')"
   ]
  },
  {
   "cell_type": "markdown",
   "metadata": {
    "papermill": {
     "duration": 0.066417,
     "end_time": "2021-01-19T10:39:23.702590",
     "exception": false,
     "start_time": "2021-01-19T10:39:23.636173",
     "status": "completed"
    },
    "tags": []
   },
   "source": [
    "## Filter data to get 3 and 8 out"
   ]
  },
  {
   "cell_type": "code",
   "execution_count": 9,
   "metadata": {
    "execution": {
     "iopub.execute_input": "2021-01-19T10:39:23.773778Z",
     "iopub.status.busy": "2021-01-19T10:39:23.773159Z",
     "iopub.status.idle": "2021-01-19T10:39:23.791096Z",
     "shell.execute_reply": "2021-01-19T10:39:23.790509Z"
    },
    "papermill": {
     "duration": 0.057043,
     "end_time": "2021-01-19T10:39:23.791264",
     "exception": false,
     "start_time": "2021-01-19T10:39:23.734221",
     "status": "completed"
    },
    "tags": []
   },
   "outputs": [],
   "source": [
    "train_filter = np.where((train_labels == 3 ) | (train_labels == 8))\n",
    "test_filter = np.where((test_labels == 3) | (test_labels == 8))\n",
    "X_train, y_train = train_images[train_filter], train_labels[train_filter]\n",
    "X_test, y_test = test_images[test_filter], test_labels[test_filter]"
   ]
  },
  {
   "cell_type": "markdown",
   "metadata": {
    "papermill": {
     "duration": 0.03145,
     "end_time": "2021-01-19T10:39:23.853704",
     "exception": false,
     "start_time": "2021-01-19T10:39:23.822254",
     "status": "completed"
    },
    "tags": []
   },
   "source": [
    "We normalize the pixel values in the 0 to 1 range"
   ]
  },
  {
   "cell_type": "code",
   "execution_count": 10,
   "metadata": {
    "execution": {
     "iopub.execute_input": "2021-01-19T10:39:23.917279Z",
     "iopub.status.busy": "2021-01-19T10:39:23.916583Z",
     "iopub.status.idle": "2021-01-19T10:39:23.978285Z",
     "shell.execute_reply": "2021-01-19T10:39:23.977756Z"
    },
    "papermill": {
     "duration": 0.095053,
     "end_time": "2021-01-19T10:39:23.978424",
     "exception": false,
     "start_time": "2021-01-19T10:39:23.883371",
     "status": "completed"
    },
    "tags": []
   },
   "outputs": [],
   "source": [
    "X_train = X_train/255.\n",
    "X_test = X_test/255."
   ]
  },
  {
   "cell_type": "markdown",
   "metadata": {
    "papermill": {
     "duration": 0.028427,
     "end_time": "2021-01-19T10:39:24.036616",
     "exception": false,
     "start_time": "2021-01-19T10:39:24.008189",
     "status": "completed"
    },
    "tags": []
   },
   "source": [
    "Setup the labels as 1 (when the digit is 3) and 0 (when the digit is 8)"
   ]
  },
  {
   "cell_type": "code",
   "execution_count": 11,
   "metadata": {
    "execution": {
     "iopub.execute_input": "2021-01-19T10:39:24.103468Z",
     "iopub.status.busy": "2021-01-19T10:39:24.102771Z",
     "iopub.status.idle": "2021-01-19T10:39:24.115960Z",
     "shell.execute_reply": "2021-01-19T10:39:24.116531Z"
    },
    "papermill": {
     "duration": 0.048335,
     "end_time": "2021-01-19T10:39:24.116680",
     "exception": false,
     "start_time": "2021-01-19T10:39:24.068345",
     "status": "completed"
    },
    "tags": []
   },
   "outputs": [],
   "source": [
    "y_train = 1*(y_train==3)\n",
    "y_test = 1*(y_test==3)"
   ]
  },
  {
   "cell_type": "code",
   "execution_count": 12,
   "metadata": {
    "execution": {
     "iopub.execute_input": "2021-01-19T10:39:24.178461Z",
     "iopub.status.busy": "2021-01-19T10:39:24.177805Z",
     "iopub.status.idle": "2021-01-19T10:39:24.190239Z",
     "shell.execute_reply": "2021-01-19T10:39:24.189725Z"
    },
    "papermill": {
     "duration": 0.045424,
     "end_time": "2021-01-19T10:39:24.190359",
     "exception": false,
     "start_time": "2021-01-19T10:39:24.144935",
     "status": "completed"
    },
    "tags": []
   },
   "outputs": [
    {
     "data": {
      "text/plain": [
       "((11982, 28, 28), (1984, 28, 28))"
      ]
     },
     "execution_count": 12,
     "metadata": {},
     "output_type": "execute_result"
    }
   ],
   "source": [
    "X_train.shape, X_test.shape"
   ]
  },
  {
   "cell_type": "markdown",
   "metadata": {
    "papermill": {
     "duration": 0.028625,
     "end_time": "2021-01-19T10:39:24.247858",
     "exception": false,
     "start_time": "2021-01-19T10:39:24.219233",
     "status": "completed"
    },
    "tags": []
   },
   "source": [
    "### Reshape the input data to create a linear array"
   ]
  },
  {
   "cell_type": "code",
   "execution_count": 13,
   "metadata": {
    "execution": {
     "iopub.execute_input": "2021-01-19T10:39:24.309546Z",
     "iopub.status.busy": "2021-01-19T10:39:24.308783Z",
     "iopub.status.idle": "2021-01-19T10:39:24.322470Z",
     "shell.execute_reply": "2021-01-19T10:39:24.321974Z"
    },
    "papermill": {
     "duration": 0.045986,
     "end_time": "2021-01-19T10:39:24.322626",
     "exception": false,
     "start_time": "2021-01-19T10:39:24.276640",
     "status": "completed"
    },
    "tags": []
   },
   "outputs": [
    {
     "data": {
      "text/plain": [
       "((11982, 784), (1984, 784))"
      ]
     },
     "execution_count": 13,
     "metadata": {},
     "output_type": "execute_result"
    }
   ],
   "source": [
    "X_train = X_train.reshape(X_train.shape[0], -1)\n",
    "X_test = X_test.reshape(X_test.shape[0], -1)\n",
    "X_train.shape, X_test.shape"
   ]
  },
  {
   "cell_type": "markdown",
   "metadata": {
    "papermill": {
     "duration": 0.030023,
     "end_time": "2021-01-19T10:39:24.383532",
     "exception": false,
     "start_time": "2021-01-19T10:39:24.353509",
     "status": "completed"
    },
    "tags": []
   },
   "source": [
    "### Importing appropriate functions from 'Kudzu'"
   ]
  },
  {
   "cell_type": "code",
   "execution_count": 14,
   "metadata": {
    "execution": {
     "iopub.execute_input": "2021-01-19T10:39:24.446286Z",
     "iopub.status.busy": "2021-01-19T10:39:24.445632Z",
     "iopub.status.idle": "2021-01-19T10:39:24.465574Z",
     "shell.execute_reply": "2021-01-19T10:39:24.465036Z"
    },
    "papermill": {
     "duration": 0.053118,
     "end_time": "2021-01-19T10:39:24.465691",
     "exception": false,
     "start_time": "2021-01-19T10:39:24.412573",
     "status": "completed"
    },
    "tags": []
   },
   "outputs": [],
   "source": [
    "from kudzu.layer import Sigmoid\n",
    "from kudzu.layer import Relu\n",
    "from kudzu.layer import Affine, Sigmoid\n",
    "\n",
    "from kudzu.model import Model\n",
    "from kudzu.train import Learner\n",
    "from kudzu.optim import GD\n",
    "from kudzu.data import Data, Dataloader, Sampler\n",
    "\n",
    "from kudzu.callbacks import AccCallback\n",
    "from kudzu.callbacks import ClfCallback\n",
    "\n",
    "from kudzu.loss import MSE"
   ]
  },
  {
   "cell_type": "markdown",
   "metadata": {
    "papermill": {
     "duration": 0.029419,
     "end_time": "2021-01-19T10:39:24.529920",
     "exception": false,
     "start_time": "2021-01-19T10:39:24.500501",
     "status": "completed"
    },
    "tags": []
   },
   "source": [
    "### Let us create a `Config` class, to store important parameters. \n",
    "This class essentially plays the role of a dictionary."
   ]
  },
  {
   "cell_type": "code",
   "execution_count": 15,
   "metadata": {
    "execution": {
     "iopub.execute_input": "2021-01-19T10:39:24.598689Z",
     "iopub.status.busy": "2021-01-19T10:39:24.597949Z",
     "iopub.status.idle": "2021-01-19T10:39:24.608982Z",
     "shell.execute_reply": "2021-01-19T10:39:24.609538Z"
    },
    "papermill": {
     "duration": 0.051333,
     "end_time": "2021-01-19T10:39:24.609699",
     "exception": false,
     "start_time": "2021-01-19T10:39:24.558366",
     "status": "completed"
    },
    "tags": []
   },
   "outputs": [],
   "source": [
    "class Config:\n",
    "    pass\n",
    "config = Config()\n",
    "config.lr = 0.001\n",
    "config.num_epochs = 251\n",
    "config.bs = 50"
   ]
  },
  {
   "cell_type": "markdown",
   "metadata": {
    "papermill": {
     "duration": 0.030921,
     "end_time": "2021-01-19T10:39:24.670583",
     "exception": false,
     "start_time": "2021-01-19T10:39:24.639662",
     "status": "completed"
    },
    "tags": []
   },
   "source": [
    "### Initializing data to the variables"
   ]
  },
  {
   "cell_type": "code",
   "execution_count": 16,
   "metadata": {
    "execution": {
     "iopub.execute_input": "2021-01-19T10:39:24.750244Z",
     "iopub.status.busy": "2021-01-19T10:39:24.741422Z",
     "iopub.status.idle": "2021-01-19T10:39:24.754441Z",
     "shell.execute_reply": "2021-01-19T10:39:24.753889Z"
    },
    "papermill": {
     "duration": 0.054393,
     "end_time": "2021-01-19T10:39:24.754589",
     "exception": false,
     "start_time": "2021-01-19T10:39:24.700196",
     "status": "completed"
    },
    "tags": []
   },
   "outputs": [],
   "source": [
    "data = Data(X_train, y_train.reshape(-1,1))\n",
    "sampler = Sampler(data, config.bs, shuffle=True)\n",
    "\n",
    "dl = Dataloader(data, sampler)\n",
    "\n",
    "opt = GD(config.lr)\n",
    "loss = MSE()"
   ]
  },
  {
   "cell_type": "code",
   "execution_count": 17,
   "metadata": {
    "execution": {
     "iopub.execute_input": "2021-01-19T10:39:24.819980Z",
     "iopub.status.busy": "2021-01-19T10:39:24.819342Z",
     "iopub.status.idle": "2021-01-19T10:39:24.830796Z",
     "shell.execute_reply": "2021-01-19T10:39:24.831315Z"
    },
    "papermill": {
     "duration": 0.046311,
     "end_time": "2021-01-19T10:39:24.831441",
     "exception": false,
     "start_time": "2021-01-19T10:39:24.785130",
     "status": "completed"
    },
    "tags": []
   },
   "outputs": [],
   "source": [
    "training_xdata = X_train\n",
    "testing_xdata = X_test\n",
    "training_ydata = y_train.reshape(-1,1)\n",
    "testing_ydata = y_test.reshape(-1,1)"
   ]
  },
  {
   "cell_type": "markdown",
   "metadata": {
    "papermill": {
     "duration": 0.029251,
     "end_time": "2021-01-19T10:39:24.892639",
     "exception": false,
     "start_time": "2021-01-19T10:39:24.863388",
     "status": "completed"
    },
    "tags": []
   },
   "source": [
    "### Running Models with the Training data\n",
    "Details about the network layers:\n",
    "- A first affine layer has 784 inputs and does 100 affine transforms. These are followed by a Relu\n",
    "- A second affine layer has 100 inputs from the 100 activations of the past layer, and does 100 affine transforms. These are followed by a Relu\n",
    "- A third affine layer has 100 activations and does 2 affine transformations to create an embedding for visualization. There is no non-linearity here.\n",
    "- A final \"logistic regression\" which has an affine transform from 2 inputs to 1 output, which is squeezed through a sigmoid.\n",
    "\n",
    "Help taken from Anshuman's Notebook."
   ]
  },
  {
   "cell_type": "code",
   "execution_count": 18,
   "metadata": {
    "execution": {
     "iopub.execute_input": "2021-01-19T10:39:24.960589Z",
     "iopub.status.busy": "2021-01-19T10:39:24.959931Z",
     "iopub.status.idle": "2021-01-19T10:39:24.976747Z",
     "shell.execute_reply": "2021-01-19T10:39:24.976232Z"
    },
    "papermill": {
     "duration": 0.054121,
     "end_time": "2021-01-19T10:39:24.976870",
     "exception": false,
     "start_time": "2021-01-19T10:39:24.922749",
     "status": "completed"
    },
    "tags": []
   },
   "outputs": [],
   "source": [
    "# layers for the Neural Network\n",
    "layers = [Affine(\"first\", 784, 100), Relu(\"first\"), Affine(\"second\", 100, 100), Relu(\"second\"), Affine(\"third\", 100, 2), Affine(\"final\", 2, 1), Sigmoid(\"final\")]\n",
    "model_nn = Model(layers)\n",
    "\n",
    "# layers for the Logistic Regression\n",
    "layers_lr = [Affine(\"logits\", 784, 1), Sigmoid(\"sigmoid\")]\n",
    "model_lr = Model(layers_lr)"
   ]
  },
  {
   "cell_type": "code",
   "execution_count": 19,
   "metadata": {
    "execution": {
     "iopub.execute_input": "2021-01-19T10:39:25.039826Z",
     "iopub.status.busy": "2021-01-19T10:39:25.039246Z",
     "iopub.status.idle": "2021-01-19T10:39:25.051734Z",
     "shell.execute_reply": "2021-01-19T10:39:25.051201Z"
    },
    "papermill": {
     "duration": 0.044311,
     "end_time": "2021-01-19T10:39:25.051861",
     "exception": false,
     "start_time": "2021-01-19T10:39:25.007550",
     "status": "completed"
    },
    "tags": []
   },
   "outputs": [],
   "source": [
    "# suffix _nn stands for Neural Network.\n",
    "learner_nn = Learner(loss, model_nn, opt, config.num_epochs)\n",
    "acc_nn = ClfCallback(learner_nn, config.bs, training_xdata , testing_xdata, training_ydata, testing_ydata)\n",
    "learner_nn.set_callbacks([acc_nn])"
   ]
  },
  {
   "cell_type": "code",
   "execution_count": 20,
   "metadata": {
    "execution": {
     "iopub.execute_input": "2021-01-19T10:39:25.122389Z",
     "iopub.status.busy": "2021-01-19T10:39:25.121731Z",
     "iopub.status.idle": "2021-01-19T10:41:30.521567Z",
     "shell.execute_reply": "2021-01-19T10:41:30.522201Z"
    },
    "papermill": {
     "duration": 125.437189,
     "end_time": "2021-01-19T10:41:30.522381",
     "exception": false,
     "start_time": "2021-01-19T10:39:25.085192",
     "status": "completed"
    },
    "tags": []
   },
   "outputs": [
    {
     "name": "stdout",
     "output_type": "stream",
     "text": [
      "====== Neural Network ======\n"
     ]
    },
    {
     "name": "stdout",
     "output_type": "stream",
     "text": [
      "Epoch 0, Loss 0.2352\n",
      "Training Accuracy: 0.6860, Testing Accuracy: 0.6744\n",
      "\n"
     ]
    },
    {
     "name": "stdout",
     "output_type": "stream",
     "text": [
      "Epoch 10, Loss 0.0799\n",
      "Training Accuracy: 0.9248, Testing Accuracy: 0.9360\n",
      "\n"
     ]
    },
    {
     "name": "stdout",
     "output_type": "stream",
     "text": [
      "Epoch 20, Loss 0.0522\n",
      "Training Accuracy: 0.9450, Testing Accuracy: 0.9551\n",
      "\n"
     ]
    },
    {
     "name": "stdout",
     "output_type": "stream",
     "text": [
      "Epoch 30, Loss 0.0423\n",
      "Training Accuracy: 0.9539, Testing Accuracy: 0.9602\n",
      "\n"
     ]
    },
    {
     "name": "stdout",
     "output_type": "stream",
     "text": [
      "Epoch 40, Loss 0.0372\n",
      "Training Accuracy: 0.9587, Testing Accuracy: 0.9647\n",
      "\n"
     ]
    },
    {
     "name": "stdout",
     "output_type": "stream",
     "text": [
      "Epoch 50, Loss 0.0339\n",
      "Training Accuracy: 0.9625, Testing Accuracy: 0.9672\n",
      "\n"
     ]
    },
    {
     "name": "stdout",
     "output_type": "stream",
     "text": [
      "Epoch 60, Loss 0.0317\n",
      "Training Accuracy: 0.9645, Testing Accuracy: 0.9667\n",
      "\n"
     ]
    },
    {
     "name": "stdout",
     "output_type": "stream",
     "text": [
      "Epoch 70, Loss 0.03\n",
      "Training Accuracy: 0.9662, Testing Accuracy: 0.9698\n",
      "\n"
     ]
    },
    {
     "name": "stdout",
     "output_type": "stream",
     "text": [
      "Epoch 80, Loss 0.0286\n",
      "Training Accuracy: 0.9678, Testing Accuracy: 0.9698\n",
      "\n"
     ]
    },
    {
     "name": "stdout",
     "output_type": "stream",
     "text": [
      "Epoch 90, Loss 0.0275\n",
      "Training Accuracy: 0.9684, Testing Accuracy: 0.9698\n",
      "\n"
     ]
    },
    {
     "name": "stdout",
     "output_type": "stream",
     "text": [
      "Epoch 100, Loss 0.0265\n",
      "Training Accuracy: 0.9691, Testing Accuracy: 0.9688\n",
      "\n"
     ]
    },
    {
     "name": "stdout",
     "output_type": "stream",
     "text": [
      "Epoch 110, Loss 0.0256\n",
      "Training Accuracy: 0.9705, Testing Accuracy: 0.9693\n",
      "\n"
     ]
    },
    {
     "name": "stdout",
     "output_type": "stream",
     "text": [
      "Epoch 120, Loss 0.0249\n",
      "Training Accuracy: 0.9715, Testing Accuracy: 0.9688\n",
      "\n"
     ]
    },
    {
     "name": "stdout",
     "output_type": "stream",
     "text": [
      "Epoch 130, Loss 0.0242\n",
      "Training Accuracy: 0.9720, Testing Accuracy: 0.9693\n",
      "\n"
     ]
    },
    {
     "name": "stdout",
     "output_type": "stream",
     "text": [
      "Epoch 140, Loss 0.0236\n",
      "Training Accuracy: 0.9725, Testing Accuracy: 0.9688\n",
      "\n"
     ]
    },
    {
     "name": "stdout",
     "output_type": "stream",
     "text": [
      "Epoch 150, Loss 0.023\n",
      "Training Accuracy: 0.9732, Testing Accuracy: 0.9693\n",
      "\n"
     ]
    },
    {
     "name": "stdout",
     "output_type": "stream",
     "text": [
      "Epoch 160, Loss 0.0225\n",
      "Training Accuracy: 0.9736, Testing Accuracy: 0.9708\n",
      "\n"
     ]
    },
    {
     "name": "stdout",
     "output_type": "stream",
     "text": [
      "Epoch 170, Loss 0.022\n",
      "Training Accuracy: 0.9741, Testing Accuracy: 0.9718\n",
      "\n"
     ]
    },
    {
     "name": "stdout",
     "output_type": "stream",
     "text": [
      "Epoch 180, Loss 0.0215\n",
      "Training Accuracy: 0.9747, Testing Accuracy: 0.9723\n",
      "\n"
     ]
    },
    {
     "name": "stdout",
     "output_type": "stream",
     "text": [
      "Epoch 190, Loss 0.021\n",
      "Training Accuracy: 0.9752, Testing Accuracy: 0.9718\n",
      "\n"
     ]
    },
    {
     "name": "stdout",
     "output_type": "stream",
     "text": [
      "Epoch 200, Loss 0.0206\n",
      "Training Accuracy: 0.9762, Testing Accuracy: 0.9718\n",
      "\n"
     ]
    },
    {
     "name": "stdout",
     "output_type": "stream",
     "text": [
      "Epoch 210, Loss 0.0202\n",
      "Training Accuracy: 0.9766, Testing Accuracy: 0.9723\n",
      "\n"
     ]
    },
    {
     "name": "stdout",
     "output_type": "stream",
     "text": [
      "Epoch 220, Loss 0.0198\n",
      "Training Accuracy: 0.9774, Testing Accuracy: 0.9728\n",
      "\n"
     ]
    },
    {
     "name": "stdout",
     "output_type": "stream",
     "text": [
      "Epoch 230, Loss 0.0194\n",
      "Training Accuracy: 0.9775, Testing Accuracy: 0.9728\n",
      "\n"
     ]
    },
    {
     "name": "stdout",
     "output_type": "stream",
     "text": [
      "Epoch 240, Loss 0.019\n",
      "Training Accuracy: 0.9780, Testing Accuracy: 0.9728\n",
      "\n"
     ]
    },
    {
     "name": "stdout",
     "output_type": "stream",
     "text": [
      "Epoch 250, Loss 0.0187\n",
      "Training Accuracy: 0.9788, Testing Accuracy: 0.9728\n",
      "\n"
     ]
    },
    {
     "data": {
      "text/plain": [
       "0.007333295978245197"
      ]
     },
     "execution_count": 20,
     "metadata": {},
     "output_type": "execute_result"
    }
   ],
   "source": [
    "print(\"====== Neural Network ======\")\n",
    "learner_nn.train_loop(dl)"
   ]
  },
  {
   "cell_type": "markdown",
   "metadata": {
    "papermill": {
     "duration": 0.040316,
     "end_time": "2021-01-19T10:41:30.600037",
     "exception": false,
     "start_time": "2021-01-19T10:41:30.559721",
     "status": "completed"
    },
    "tags": []
   },
   "source": [
    "### Logistic Regression based Implementation."
   ]
  },
  {
   "cell_type": "code",
   "execution_count": 21,
   "metadata": {
    "execution": {
     "iopub.execute_input": "2021-01-19T10:41:30.679864Z",
     "iopub.status.busy": "2021-01-19T10:41:30.679273Z",
     "iopub.status.idle": "2021-01-19T10:41:30.691286Z",
     "shell.execute_reply": "2021-01-19T10:41:30.690617Z"
    },
    "papermill": {
     "duration": 0.053531,
     "end_time": "2021-01-19T10:41:30.691407",
     "exception": false,
     "start_time": "2021-01-19T10:41:30.637876",
     "status": "completed"
    },
    "tags": []
   },
   "outputs": [],
   "source": [
    "learner_lr = Learner(loss, model_lr, opt, config.num_epochs)\n",
    "acc_lr = ClfCallback(learner_lr, config.bs, training_xdata , testing_xdata, training_ydata, testing_ydata)\n",
    "learner_lr.set_callbacks([acc_lr])"
   ]
  },
  {
   "cell_type": "code",
   "execution_count": 22,
   "metadata": {
    "execution": {
     "iopub.execute_input": "2021-01-19T10:41:30.772958Z",
     "iopub.status.busy": "2021-01-19T10:41:30.772370Z",
     "iopub.status.idle": "2021-01-19T10:41:49.058106Z",
     "shell.execute_reply": "2021-01-19T10:41:49.057335Z"
    },
    "papermill": {
     "duration": 18.329776,
     "end_time": "2021-01-19T10:41:49.058262",
     "exception": false,
     "start_time": "2021-01-19T10:41:30.728486",
     "status": "completed"
    },
    "tags": []
   },
   "outputs": [
    {
     "name": "stdout",
     "output_type": "stream",
     "text": [
      "====== Logistic Regression ======\n",
      "Epoch 0, Loss 0.2195\n",
      "Training Accuracy: 0.7632, Testing Accuracy: 0.7510\n",
      "\n"
     ]
    },
    {
     "name": "stdout",
     "output_type": "stream",
     "text": [
      "Epoch 10, Loss 0.1013\n",
      "Training Accuracy: 0.9108, Testing Accuracy: 0.9249\n",
      "\n"
     ]
    },
    {
     "name": "stdout",
     "output_type": "stream",
     "text": [
      "Epoch 20, Loss 0.0781\n",
      "Training Accuracy: 0.9294, Testing Accuracy: 0.9390\n",
      "\n"
     ]
    },
    {
     "name": "stdout",
     "output_type": "stream",
     "text": [
      "Epoch 30, Loss 0.0671\n",
      "Training Accuracy: 0.9379, Testing Accuracy: 0.9471\n",
      "\n"
     ]
    },
    {
     "name": "stdout",
     "output_type": "stream",
     "text": [
      "Epoch 40, Loss 0.0606\n",
      "Training Accuracy: 0.9444, Testing Accuracy: 0.9526\n",
      "\n"
     ]
    },
    {
     "name": "stdout",
     "output_type": "stream",
     "text": [
      "Epoch 50, Loss 0.0561\n",
      "Training Accuracy: 0.9481, Testing Accuracy: 0.9561\n",
      "\n"
     ]
    },
    {
     "name": "stdout",
     "output_type": "stream",
     "text": [
      "Epoch 60, Loss 0.0529\n",
      "Training Accuracy: 0.9497, Testing Accuracy: 0.9577\n",
      "\n"
     ]
    },
    {
     "name": "stdout",
     "output_type": "stream",
     "text": [
      "Epoch 70, Loss 0.0504\n",
      "Training Accuracy: 0.9511, Testing Accuracy: 0.9597\n",
      "\n"
     ]
    },
    {
     "name": "stdout",
     "output_type": "stream",
     "text": [
      "Epoch 80, Loss 0.0484\n",
      "Training Accuracy: 0.9529, Testing Accuracy: 0.9632\n",
      "\n"
     ]
    },
    {
     "name": "stdout",
     "output_type": "stream",
     "text": [
      "Epoch 90, Loss 0.0467\n",
      "Training Accuracy: 0.9539, Testing Accuracy: 0.9637\n",
      "\n"
     ]
    },
    {
     "name": "stdout",
     "output_type": "stream",
     "text": [
      "Epoch 100, Loss 0.0453\n",
      "Training Accuracy: 0.9553, Testing Accuracy: 0.9657\n",
      "\n"
     ]
    },
    {
     "name": "stdout",
     "output_type": "stream",
     "text": [
      "Epoch 110, Loss 0.0441\n",
      "Training Accuracy: 0.9566, Testing Accuracy: 0.9667\n",
      "\n"
     ]
    },
    {
     "name": "stdout",
     "output_type": "stream",
     "text": [
      "Epoch 120, Loss 0.0431\n",
      "Training Accuracy: 0.9574, Testing Accuracy: 0.9677\n",
      "\n"
     ]
    },
    {
     "name": "stdout",
     "output_type": "stream",
     "text": [
      "Epoch 130, Loss 0.0422\n",
      "Training Accuracy: 0.9575, Testing Accuracy: 0.9682\n",
      "\n"
     ]
    },
    {
     "name": "stdout",
     "output_type": "stream",
     "text": [
      "Epoch 140, Loss 0.0414\n",
      "Training Accuracy: 0.9579, Testing Accuracy: 0.9682\n",
      "\n"
     ]
    },
    {
     "name": "stdout",
     "output_type": "stream",
     "text": [
      "Epoch 150, Loss 0.0407\n",
      "Training Accuracy: 0.9582, Testing Accuracy: 0.9688\n",
      "\n"
     ]
    },
    {
     "name": "stdout",
     "output_type": "stream",
     "text": [
      "Epoch 160, Loss 0.04\n",
      "Training Accuracy: 0.9587, Testing Accuracy: 0.9693\n",
      "\n"
     ]
    },
    {
     "name": "stdout",
     "output_type": "stream",
     "text": [
      "Epoch 170, Loss 0.0394\n",
      "Training Accuracy: 0.9589, Testing Accuracy: 0.9682\n",
      "\n"
     ]
    },
    {
     "name": "stdout",
     "output_type": "stream",
     "text": [
      "Epoch 180, Loss 0.0389\n",
      "Training Accuracy: 0.9596, Testing Accuracy: 0.9688\n",
      "\n"
     ]
    },
    {
     "name": "stdout",
     "output_type": "stream",
     "text": [
      "Epoch 190, Loss 0.0384\n",
      "Training Accuracy: 0.9599, Testing Accuracy: 0.9693\n",
      "\n"
     ]
    },
    {
     "name": "stdout",
     "output_type": "stream",
     "text": [
      "Epoch 200, Loss 0.038\n",
      "Training Accuracy: 0.9605, Testing Accuracy: 0.9698\n",
      "\n"
     ]
    },
    {
     "name": "stdout",
     "output_type": "stream",
     "text": [
      "Epoch 210, Loss 0.0375\n",
      "Training Accuracy: 0.9609, Testing Accuracy: 0.9698\n",
      "\n"
     ]
    },
    {
     "name": "stdout",
     "output_type": "stream",
     "text": [
      "Epoch 220, Loss 0.0371\n",
      "Training Accuracy: 0.9610, Testing Accuracy: 0.9703\n",
      "\n"
     ]
    },
    {
     "name": "stdout",
     "output_type": "stream",
     "text": [
      "Epoch 230, Loss 0.0368\n",
      "Training Accuracy: 0.9612, Testing Accuracy: 0.9703\n",
      "\n"
     ]
    },
    {
     "name": "stdout",
     "output_type": "stream",
     "text": [
      "Epoch 240, Loss 0.0364\n",
      "Training Accuracy: 0.9616, Testing Accuracy: 0.9703\n",
      "\n"
     ]
    },
    {
     "name": "stdout",
     "output_type": "stream",
     "text": [
      "Epoch 250, Loss 0.0361\n",
      "Training Accuracy: 0.9619, Testing Accuracy: 0.9703\n",
      "\n"
     ]
    },
    {
     "data": {
      "text/plain": [
       "0.03995445660404675"
      ]
     },
     "execution_count": 22,
     "metadata": {},
     "output_type": "execute_result"
    }
   ],
   "source": [
    "print(\"====== Logistic Regression ======\")\n",
    "learner_lr.train_loop(dl)"
   ]
  },
  {
   "cell_type": "markdown",
   "metadata": {
    "papermill": {
     "duration": 0.051675,
     "end_time": "2021-01-19T10:41:49.162027",
     "exception": false,
     "start_time": "2021-01-19T10:41:49.110352",
     "status": "completed"
    },
    "tags": []
   },
   "source": [
    "### Comparing results of NN and LR"
   ]
  },
  {
   "cell_type": "code",
   "execution_count": 23,
   "metadata": {
    "execution": {
     "iopub.execute_input": "2021-01-19T10:41:49.273350Z",
     "iopub.status.busy": "2021-01-19T10:41:49.272483Z",
     "iopub.status.idle": "2021-01-19T10:41:49.525341Z",
     "shell.execute_reply": "2021-01-19T10:41:49.524829Z"
    },
    "papermill": {
     "duration": 0.313691,
     "end_time": "2021-01-19T10:41:49.525476",
     "exception": false,
     "start_time": "2021-01-19T10:41:49.211785",
     "status": "completed"
    },
    "tags": []
   },
   "outputs": [
    {
     "data": {
      "text/plain": [
       "<matplotlib.legend.Legend at 0x7f2998db32b0>"
      ]
     },
     "execution_count": 23,
     "metadata": {},
     "output_type": "execute_result"
    },
    {
     "data": {
      "image/png": "[encoded data removed]",
      "text/plain": [
       "<Figure size 1080x720 with 1 Axes>"
      ]
     },
     "metadata": {
      "needs_background": "light"
     },
     "output_type": "display_data"
    }
   ],
   "source": [
    "plt.figure(figsize=(15,10))\n",
    "\n",
    "# Neural Network plots\n",
    "plt.plot(acc_nn.accuracies, 'r-', label = \"Training Accuracies - NN\")\n",
    "plt.plot(acc_nn.test_accuracies, 'g-', label = \"Testing Accuracies - NN\")\n",
    "\n",
    "# Logistic Regression plots\n",
    "plt.plot(acc_lr.accuracies, 'k-', label = \"Training Accuracies - LR\")\n",
    "plt.plot(acc_lr.test_accuracies, 'b-', label = \"Testing Accuracies - LR\")\n",
    "\n",
    "plt.ylim(0.8, 1)\n",
    "\n",
    "plt.legend()\n",
    "\n"
   ]
  },
  {
   "cell_type": "markdown",
   "metadata": {
    "papermill": {
     "duration": 0.054564,
     "end_time": "2021-01-19T10:41:49.629166",
     "exception": false,
     "start_time": "2021-01-19T10:41:49.574602",
     "status": "completed"
    },
    "tags": []
   },
   "source": [
    "### From the plot, we can observe the following:\n",
    "- Neural Network achieves higher accuracy than the Logistic Regression model.\n",
    "- This apparently, is because of overfitting, i.e. NN captures more noise than data.\n",
    "- Testing accuracy of NN drops below the Training accuracy at higher epochs. This explains the over-fitting on training data.\n",
    "- Logistic Regression gives a reliable accuracy, without the above mentioned problem.\n"
   ]
  },
  {
   "cell_type": "markdown",
   "metadata": {
    "papermill": {
     "duration": 0.047689,
     "end_time": "2021-01-19T10:41:49.730271",
     "exception": false,
     "start_time": "2021-01-19T10:41:49.682582",
     "status": "completed"
    },
    "tags": []
   },
   "source": [
    "### Moving till the last but one layer (excluding it).\n",
    "#### Plotting the outputs of this layer of the NN."
   ]
  },
  {
   "cell_type": "code",
   "execution_count": 24,
   "metadata": {
    "execution": {
     "iopub.execute_input": "2021-01-19T10:41:49.847458Z",
     "iopub.status.busy": "2021-01-19T10:41:49.846157Z",
     "iopub.status.idle": "2021-01-19T10:41:49.860595Z",
     "shell.execute_reply": "2021-01-19T10:41:49.860038Z"
    },
    "papermill": {
     "duration": 0.072557,
     "end_time": "2021-01-19T10:41:49.860760",
     "exception": false,
     "start_time": "2021-01-19T10:41:49.788203",
     "status": "completed"
    },
    "tags": []
   },
   "outputs": [],
   "source": [
    "model_new = Model(layers[:-2])"
   ]
  },
  {
   "cell_type": "code",
   "execution_count": 25,
   "metadata": {
    "execution": {
     "iopub.execute_input": "2021-01-19T10:41:49.980552Z",
     "iopub.status.busy": "2021-01-19T10:41:49.979605Z",
     "iopub.status.idle": "2021-01-19T10:41:49.997705Z",
     "shell.execute_reply": "2021-01-19T10:41:49.998249Z"
    },
    "papermill": {
     "duration": 0.086547,
     "end_time": "2021-01-19T10:41:49.998426",
     "exception": false,
     "start_time": "2021-01-19T10:41:49.911879",
     "status": "completed"
    },
    "tags": []
   },
   "outputs": [],
   "source": [
    "plot_testing = model_new(testing_xdata)"
   ]
  },
  {
   "cell_type": "code",
   "execution_count": 26,
   "metadata": {
    "execution": {
     "iopub.execute_input": "2021-01-19T10:41:50.116037Z",
     "iopub.status.busy": "2021-01-19T10:41:50.115378Z",
     "iopub.status.idle": "2021-01-19T10:41:50.343173Z",
     "shell.execute_reply": "2021-01-19T10:41:50.342544Z"
    },
    "papermill": {
     "duration": 0.29016,
     "end_time": "2021-01-19T10:41:50.343315",
     "exception": false,
     "start_time": "2021-01-19T10:41:50.053155",
     "status": "completed"
    },
    "tags": []
   },
   "outputs": [
    {
     "data": {
      "text/plain": [
       "Text(0.5, 1.0, 'Outputs')"
      ]
     },
     "execution_count": 26,
     "metadata": {},
     "output_type": "execute_result"
    },
    {
     "data": {
      "image/png": "[encoded data removed]",
      "text/plain": [
       "<Figure size 576x504 with 1 Axes>"
      ]
     },
     "metadata": {
      "needs_background": "light"
     },
     "output_type": "display_data"
    }
   ],
   "source": [
    "plt.figure(figsize=(8,7))\n",
    "plt.scatter(plot_testing[:,0], plot_testing[:,1], alpha = 0.1, c = y_test.ravel());\n",
    "plt.title('Outputs')"
   ]
  },
  {
   "cell_type": "markdown",
   "metadata": {
    "papermill": {
     "duration": 0.051233,
     "end_time": "2021-01-19T10:41:50.447506",
     "exception": false,
     "start_time": "2021-01-19T10:41:50.396273",
     "status": "completed"
    },
    "tags": []
   },
   "source": [
    "### Plotting probability contours"
   ]
  },
  {
   "cell_type": "code",
   "execution_count": 27,
   "metadata": {
    "execution": {
     "iopub.execute_input": "2021-01-19T10:41:50.552361Z",
     "iopub.status.busy": "2021-01-19T10:41:50.551688Z",
     "iopub.status.idle": "2021-01-19T10:41:50.564694Z",
     "shell.execute_reply": "2021-01-19T10:41:50.564128Z"
    },
    "papermill": {
     "duration": 0.067565,
     "end_time": "2021-01-19T10:41:50.564830",
     "exception": false,
     "start_time": "2021-01-19T10:41:50.497265",
     "status": "completed"
    },
    "tags": []
   },
   "outputs": [],
   "source": [
    "model_prob = Model(layers[-2:]) "
   ]
  },
  {
   "cell_type": "code",
   "execution_count": 28,
   "metadata": {
    "execution": {
     "iopub.execute_input": "2021-01-19T10:41:50.691288Z",
     "iopub.status.busy": "2021-01-19T10:41:50.690599Z",
     "iopub.status.idle": "2021-01-19T10:41:50.705795Z",
     "shell.execute_reply": "2021-01-19T10:41:50.706524Z"
    },
    "papermill": {
     "duration": 0.090096,
     "end_time": "2021-01-19T10:41:50.706676",
     "exception": false,
     "start_time": "2021-01-19T10:41:50.616580",
     "status": "completed"
    },
    "tags": []
   },
   "outputs": [],
   "source": [
    "# Adjust the x and y ranges according to the above generated plot.\n",
    "x_range = np.linspace(-4, 1, 100) \n",
    "y_range = np.linspace(-6, 6, 100) \n",
    "x_grid, y_grid = np.meshgrid(x_range, y_range) # x_grid and y_grig are of size 100 X 100\n",
    "\n",
    "# converting x_grid and y_grid to continuous arrays\n",
    "x_grid_flat = np.ravel(x_grid)\n",
    "y_grid_flat = np.ravel(y_grid)\n",
    "\n",
    "# The last layer of the current model takes two columns as input. Hence transpose of np.vstack() is required.\n",
    "X = np.vstack((x_grid_flat, y_grid_flat)).T\n",
    "\n",
    "# x_grid and y_grid are of size 100 x 100\n",
    "probability_contour = model_prob(X).reshape(100,100) "
   ]
  },
  {
   "cell_type": "code",
   "execution_count": 29,
   "metadata": {
    "execution": {
     "iopub.execute_input": "2021-01-19T10:41:50.815952Z",
     "iopub.status.busy": "2021-01-19T10:41:50.815375Z",
     "iopub.status.idle": "2021-01-19T10:41:51.081988Z",
     "shell.execute_reply": "2021-01-19T10:41:51.081062Z"
    },
    "papermill": {
     "duration": 0.32451,
     "end_time": "2021-01-19T10:41:51.082280",
     "exception": false,
     "start_time": "2021-01-19T10:41:50.757770",
     "status": "completed"
    },
    "tags": []
   },
   "outputs": [
    {
     "data": {
      "image/png": "[encoded data removed]",
      "text/plain": [
       "<Figure size 720x648 with 1 Axes>"
      ]
     },
     "metadata": {
      "needs_background": "light"
     },
     "output_type": "display_data"
    }
   ],
   "source": [
    "plt.figure(figsize=(10,9))\n",
    "plt.scatter(plot_testing[:,0], plot_testing[:,1], alpha = 0.1, c = y_test.ravel())\n",
    "contours = plt.contour(x_grid,y_grid,probability_contour)\n",
    "plt.title('Probability Contours')\n",
    "plt.clabel(contours, inline = True );"
   ]
  }
 ],
 "metadata": {
  "kernelspec": {
   "display_name": "Python 3",
   "language": "python",
   "name": "python3"
  },
  "language_info": {
   "codemirror_mode": {
    "name": "ipython",
    "version": 3
   },
   "file_extension": ".py",
   "mimetype": "text/x-python",
   "name": "python",
   "nbconvert_exporter": "python",
   "pygments_lexer": "ipython3",
   "version": "3.6.12"
  },
  "papermill": {
   "duration": 157.687737,
   "end_time": "2021-01-19T10:41:51.544560",
   "environment_variables": {},
   "exception": null,
   "input_path": "2020-08-11-NeuralNetwork.ipynb",
   "output_path": "2020-08-11-NeuralNetwork.ipynb",
   "parameters": {},
   "start_time": "2021-01-19T10:39:13.856823",
   "version": "2.1.2"
  }
 },
 "nbformat": 4,
 "nbformat_minor": 4
}