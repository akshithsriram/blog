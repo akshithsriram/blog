{
 "cells": [
  {
   "cell_type": "markdown",
   "metadata": {
    "papermill": {
     "duration": 0.034967,
     "end_time": "2020-10-23T10:04:46.279667",
     "exception": false,
     "start_time": "2020-10-23T10:04:46.244700",
     "status": "completed"
    },
    "tags": []
   },
   "source": [
    "# \"A Basic Neural Network: Differentiate Hand-Written Digits\"\n",
    "\n",
    "- badges: true\n",
    "- author: Akshith Sriram"
   ]
  },
  {
   "cell_type": "markdown",
   "metadata": {
    "papermill": {
     "duration": 0.031771,
     "end_time": "2020-10-23T10:04:46.341598",
     "exception": false,
     "start_time": "2020-10-23T10:04:46.309827",
     "status": "completed"
    },
    "tags": []
   },
   "source": [
    "### Key Objectives:\n",
    "- Building a neural network that differentiates two hand-written digits 3 and 8.\n",
    "- Comparing the results of this Neural Network (NN) to that of a Logistic Regression (LR) model.\n",
    "\n",
    "### Requirements:\n",
    "- 'Kudzu' : A neural network library that was designed during our course by [Univ.AI](www.univ.ai). \n",
    "- MNIST Database\n",
    "\n",
    "If MNIST is not installed, use the command `!pip install mnist` given below.\n",
    "It can be run both from the command line and Jupyter Notebook."
   ]
  },
  {
   "cell_type": "code",
   "execution_count": 1,
   "metadata": {
    "execution": {
     "iopub.execute_input": "2020-10-23T10:04:46.407968Z",
     "iopub.status.busy": "2020-10-23T10:04:46.407305Z",
     "iopub.status.idle": "2020-10-23T10:04:48.117533Z",
     "shell.execute_reply": "2020-10-23T10:04:48.116416Z"
    },
    "papermill": {
     "duration": 1.746221,
     "end_time": "2020-10-23T10:04:48.117732",
     "exception": false,
     "start_time": "2020-10-23T10:04:46.371511",
     "status": "completed"
    },
    "tags": []
   },
   "outputs": [
    {
     "name": "stdout",
     "output_type": "stream",
     "text": [
      "Collecting mnist\r\n"
     ]
    },
    {
     "name": "stdout",
     "output_type": "stream",
     "text": [
      "  Downloading mnist-0.2.2-py2.py3-none-any.whl (3.5 kB)\r\n",
      "Requirement already satisfied: numpy in /opt/hostedtoolcache/Python/3.6.12/x64/lib/python3.6/site-packages (from mnist) (1.19.2)\r\n"
     ]
    },
    {
     "name": "stdout",
     "output_type": "stream",
     "text": [
      "Installing collected packages: mnist\r\n"
     ]
    },
    {
     "name": "stdout",
     "output_type": "stream",
     "text": [
      "Successfully installed mnist-0.2.2\r\n",
      "\u001b[33mWARNING: You are using pip version 20.2.3; however, version 20.2.4 is available.\r\n",
      "You should consider upgrading via the '/opt/hostedtoolcache/Python/3.6.12/x64/bin/python -m pip install --upgrade pip' command.\u001b[0m\r\n"
     ]
    }
   ],
   "source": [
    "!pip install mnist "
   ]
  },
  {
   "cell_type": "markdown",
   "metadata": {
    "papermill": {
     "duration": 0.031529,
     "end_time": "2020-10-23T10:04:48.179903",
     "exception": false,
     "start_time": "2020-10-23T10:04:48.148374",
     "status": "completed"
    },
    "tags": []
   },
   "source": [
    "#### Importing necessary libraries"
   ]
  },
  {
   "cell_type": "code",
   "execution_count": 2,
   "metadata": {
    "execution": {
     "iopub.execute_input": "2020-10-23T10:04:48.252191Z",
     "iopub.status.busy": "2020-10-23T10:04:48.251592Z",
     "iopub.status.idle": "2020-10-23T10:04:48.874420Z",
     "shell.execute_reply": "2020-10-23T10:04:48.873739Z"
    },
    "papermill": {
     "duration": 0.661961,
     "end_time": "2020-10-23T10:04:48.874593",
     "exception": false,
     "start_time": "2020-10-23T10:04:48.212632",
     "status": "completed"
    },
    "tags": []
   },
   "outputs": [],
   "source": [
    "%load_ext autoreload\n",
    "%autoreload 2\n",
    "\n",
    "%matplotlib inline\n",
    "import matplotlib.pyplot as plt\n",
    "\n",
    "import numpy as np\n",
    "import pandas as pd"
   ]
  },
  {
   "cell_type": "markdown",
   "metadata": {
    "papermill": {
     "duration": 0.029926,
     "end_time": "2020-10-23T10:04:48.935559",
     "exception": false,
     "start_time": "2020-10-23T10:04:48.905633",
     "status": "completed"
    },
    "tags": []
   },
   "source": [
    "### Preparing the Data"
   ]
  },
  {
   "cell_type": "code",
   "execution_count": 3,
   "metadata": {
    "execution": {
     "iopub.execute_input": "2020-10-23T10:04:48.997393Z",
     "iopub.status.busy": "2020-10-23T10:04:48.996777Z",
     "iopub.status.idle": "2020-10-23T10:04:49.010408Z",
     "shell.execute_reply": "2020-10-23T10:04:49.009905Z"
    },
    "papermill": {
     "duration": 0.044948,
     "end_time": "2020-10-23T10:04:49.010540",
     "exception": false,
     "start_time": "2020-10-23T10:04:48.965592",
     "status": "completed"
    },
    "tags": []
   },
   "outputs": [],
   "source": [
    "import mnist"
   ]
  },
  {
   "cell_type": "code",
   "execution_count": 4,
   "metadata": {
    "execution": {
     "iopub.execute_input": "2020-10-23T10:04:49.076721Z",
     "iopub.status.busy": "2020-10-23T10:04:49.075955Z",
     "iopub.status.idle": "2020-10-23T10:04:53.551134Z",
     "shell.execute_reply": "2020-10-23T10:04:53.550444Z"
    },
    "papermill": {
     "duration": 4.509405,
     "end_time": "2020-10-23T10:04:53.551293",
     "exception": false,
     "start_time": "2020-10-23T10:04:49.041888",
     "status": "completed"
    },
    "tags": []
   },
   "outputs": [],
   "source": [
    "train_images = mnist.train_images()\n",
    "train_labels = mnist.train_labels()"
   ]
  },
  {
   "cell_type": "code",
   "execution_count": 5,
   "metadata": {
    "execution": {
     "iopub.execute_input": "2020-10-23T10:04:53.619029Z",
     "iopub.status.busy": "2020-10-23T10:04:53.618432Z",
     "iopub.status.idle": "2020-10-23T10:04:53.634901Z",
     "shell.execute_reply": "2020-10-23T10:04:53.634359Z"
    },
    "papermill": {
     "duration": 0.051545,
     "end_time": "2020-10-23T10:04:53.635035",
     "exception": false,
     "start_time": "2020-10-23T10:04:53.583490",
     "status": "completed"
    },
    "tags": []
   },
   "outputs": [
    {
     "data": {
      "text/plain": [
       "((60000, 28, 28), (60000,))"
      ]
     },
     "execution_count": 5,
     "metadata": {},
     "output_type": "execute_result"
    }
   ],
   "source": [
    "train_images.shape, train_labels.shape"
   ]
  },
  {
   "cell_type": "code",
   "execution_count": 6,
   "metadata": {
    "execution": {
     "iopub.execute_input": "2020-10-23T10:04:53.698368Z",
     "iopub.status.busy": "2020-10-23T10:04:53.697629Z",
     "iopub.status.idle": "2020-10-23T10:04:54.666562Z",
     "shell.execute_reply": "2020-10-23T10:04:54.665841Z"
    },
    "papermill": {
     "duration": 1.001476,
     "end_time": "2020-10-23T10:04:54.666707",
     "exception": false,
     "start_time": "2020-10-23T10:04:53.665231",
     "status": "completed"
    },
    "tags": []
   },
   "outputs": [],
   "source": [
    "test_images = mnist.test_images()\n",
    "test_labels = mnist.test_labels()"
   ]
  },
  {
   "cell_type": "code",
   "execution_count": 7,
   "metadata": {
    "execution": {
     "iopub.execute_input": "2020-10-23T10:04:54.734659Z",
     "iopub.status.busy": "2020-10-23T10:04:54.733872Z",
     "iopub.status.idle": "2020-10-23T10:04:54.748185Z",
     "shell.execute_reply": "2020-10-23T10:04:54.748751Z"
    },
    "papermill": {
     "duration": 0.049969,
     "end_time": "2020-10-23T10:04:54.748918",
     "exception": false,
     "start_time": "2020-10-23T10:04:54.698949",
     "status": "completed"
    },
    "tags": []
   },
   "outputs": [
    {
     "data": {
      "text/plain": [
       "((10000, 28, 28), (10000,))"
      ]
     },
     "execution_count": 7,
     "metadata": {},
     "output_type": "execute_result"
    }
   ],
   "source": [
    "test_images.shape, test_labels.shape"
   ]
  },
  {
   "cell_type": "code",
   "execution_count": 8,
   "metadata": {
    "execution": {
     "iopub.execute_input": "2020-10-23T10:04:54.830955Z",
     "iopub.status.busy": "2020-10-23T10:04:54.830347Z",
     "iopub.status.idle": "2020-10-23T10:04:55.003130Z",
     "shell.execute_reply": "2020-10-23T10:04:55.003674Z"
    },
    "papermill": {
     "duration": 0.215159,
     "end_time": "2020-10-23T10:04:55.003838",
     "exception": false,
     "start_time": "2020-10-23T10:04:54.788679",
     "status": "completed"
    },
    "tags": []
   },
   "outputs": [
    {
     "name": "stdout",
     "output_type": "stream",
     "text": [
      "2\n"
     ]
    },
    {
     "data": {
      "text/plain": [
       "<matplotlib.image.AxesImage at 0x7fb66a4f9908>"
      ]
     },
     "execution_count": 8,
     "metadata": {},
     "output_type": "execute_result"
    },
    {
     "data": {
      "image/png": "[encoded data removed]",
      "text/plain": [
       "<Figure size 432x288 with 1 Axes>"
      ]
     },
     "metadata": {
      "needs_background": "light"
     },
     "output_type": "display_data"
    }
   ],
   "source": [
    "image_index = 7776 # You may select anything up to 60,000\n",
    "print(train_labels[image_index]) \n",
    "plt.imshow(train_images[image_index], cmap='Greys')"
   ]
  },
  {
   "cell_type": "markdown",
   "metadata": {
    "papermill": {
     "duration": 0.032122,
     "end_time": "2020-10-23T10:04:55.066696",
     "exception": false,
     "start_time": "2020-10-23T10:04:55.034574",
     "status": "completed"
    },
    "tags": []
   },
   "source": [
    "## Filter data to get 3 and 8 out"
   ]
  },
  {
   "cell_type": "code",
   "execution_count": 9,
   "metadata": {
    "execution": {
     "iopub.execute_input": "2020-10-23T10:04:55.135428Z",
     "iopub.status.busy": "2020-10-23T10:04:55.134621Z",
     "iopub.status.idle": "2020-10-23T10:04:55.154676Z",
     "shell.execute_reply": "2020-10-23T10:04:55.154110Z"
    },
    "papermill": {
     "duration": 0.056079,
     "end_time": "2020-10-23T10:04:55.154809",
     "exception": false,
     "start_time": "2020-10-23T10:04:55.098730",
     "status": "completed"
    },
    "tags": []
   },
   "outputs": [],
   "source": [
    "train_filter = np.where((train_labels == 3 ) | (train_labels == 8))\n",
    "test_filter = np.where((test_labels == 3) | (test_labels == 8))\n",
    "X_train, y_train = train_images[train_filter], train_labels[train_filter]\n",
    "X_test, y_test = test_images[test_filter], test_labels[test_filter]"
   ]
  },
  {
   "cell_type": "markdown",
   "metadata": {
    "papermill": {
     "duration": 0.030605,
     "end_time": "2020-10-23T10:04:55.216841",
     "exception": false,
     "start_time": "2020-10-23T10:04:55.186236",
     "status": "completed"
    },
    "tags": []
   },
   "source": [
    "We normalize the pixel values in the 0 to 1 range"
   ]
  },
  {
   "cell_type": "code",
   "execution_count": 10,
   "metadata": {
    "execution": {
     "iopub.execute_input": "2020-10-23T10:04:55.293073Z",
     "iopub.status.busy": "2020-10-23T10:04:55.292265Z",
     "iopub.status.idle": "2020-10-23T10:04:55.356777Z",
     "shell.execute_reply": "2020-10-23T10:04:55.357242Z"
    },
    "papermill": {
     "duration": 0.109335,
     "end_time": "2020-10-23T10:04:55.357480",
     "exception": false,
     "start_time": "2020-10-23T10:04:55.248145",
     "status": "completed"
    },
    "tags": []
   },
   "outputs": [],
   "source": [
    "X_train = X_train/255.\n",
    "X_test = X_test/255."
   ]
  },
  {
   "cell_type": "markdown",
   "metadata": {
    "papermill": {
     "duration": 0.029563,
     "end_time": "2020-10-23T10:04:55.419459",
     "exception": false,
     "start_time": "2020-10-23T10:04:55.389896",
     "status": "completed"
    },
    "tags": []
   },
   "source": [
    "Setup the labels as 1 (when the digit is 3) and 0 (when the digit is 8)"
   ]
  },
  {
   "cell_type": "code",
   "execution_count": 11,
   "metadata": {
    "execution": {
     "iopub.execute_input": "2020-10-23T10:04:55.484318Z",
     "iopub.status.busy": "2020-10-23T10:04:55.483701Z",
     "iopub.status.idle": "2020-10-23T10:04:55.498760Z",
     "shell.execute_reply": "2020-10-23T10:04:55.498261Z"
    },
    "papermill": {
     "duration": 0.048467,
     "end_time": "2020-10-23T10:04:55.498900",
     "exception": false,
     "start_time": "2020-10-23T10:04:55.450433",
     "status": "completed"
    },
    "tags": []
   },
   "outputs": [],
   "source": [
    "y_train = 1*(y_train==3)\n",
    "y_test = 1*(y_test==3)"
   ]
  },
  {
   "cell_type": "code",
   "execution_count": 12,
   "metadata": {
    "execution": {
     "iopub.execute_input": "2020-10-23T10:04:55.565770Z",
     "iopub.status.busy": "2020-10-23T10:04:55.565030Z",
     "iopub.status.idle": "2020-10-23T10:04:55.580164Z",
     "shell.execute_reply": "2020-10-23T10:04:55.580671Z"
    },
    "papermill": {
     "duration": 0.049957,
     "end_time": "2020-10-23T10:04:55.580815",
     "exception": false,
     "start_time": "2020-10-23T10:04:55.530858",
     "status": "completed"
    },
    "tags": []
   },
   "outputs": [
    {
     "data": {
      "text/plain": [
       "((11982, 28, 28), (1984, 28, 28))"
      ]
     },
     "execution_count": 12,
     "metadata": {},
     "output_type": "execute_result"
    }
   ],
   "source": [
    "X_train.shape, X_test.shape"
   ]
  },
  {
   "cell_type": "markdown",
   "metadata": {
    "papermill": {
     "duration": 0.033722,
     "end_time": "2020-10-23T10:04:55.644333",
     "exception": false,
     "start_time": "2020-10-23T10:04:55.610611",
     "status": "completed"
    },
    "tags": []
   },
   "source": [
    "### Reshape the input data to create a linear array"
   ]
  },
  {
   "cell_type": "code",
   "execution_count": 13,
   "metadata": {
    "execution": {
     "iopub.execute_input": "2020-10-23T10:04:55.717589Z",
     "iopub.status.busy": "2020-10-23T10:04:55.716867Z",
     "iopub.status.idle": "2020-10-23T10:04:55.732634Z",
     "shell.execute_reply": "2020-10-23T10:04:55.732120Z"
    },
    "papermill": {
     "duration": 0.054429,
     "end_time": "2020-10-23T10:04:55.732804",
     "exception": false,
     "start_time": "2020-10-23T10:04:55.678375",
     "status": "completed"
    },
    "tags": []
   },
   "outputs": [
    {
     "data": {
      "text/plain": [
       "((11982, 784), (1984, 784))"
      ]
     },
     "execution_count": 13,
     "metadata": {},
     "output_type": "execute_result"
    }
   ],
   "source": [
    "X_train = X_train.reshape(X_train.shape[0], -1)\n",
    "X_test = X_test.reshape(X_test.shape[0], -1)\n",
    "X_train.shape, X_test.shape"
   ]
  },
  {
   "cell_type": "markdown",
   "metadata": {
    "papermill": {
     "duration": 0.033607,
     "end_time": "2020-10-23T10:04:55.800166",
     "exception": false,
     "start_time": "2020-10-23T10:04:55.766559",
     "status": "completed"
    },
    "tags": []
   },
   "source": [
    "### Importing appropriate functions from 'Kudzu'"
   ]
  },
  {
   "cell_type": "code",
   "execution_count": 14,
   "metadata": {
    "execution": {
     "iopub.execute_input": "2020-10-23T10:04:55.873160Z",
     "iopub.status.busy": "2020-10-23T10:04:55.872413Z",
     "iopub.status.idle": "2020-10-23T10:04:55.893937Z",
     "shell.execute_reply": "2020-10-23T10:04:55.893394Z"
    },
    "papermill": {
     "duration": 0.058437,
     "end_time": "2020-10-23T10:04:55.894080",
     "exception": false,
     "start_time": "2020-10-23T10:04:55.835643",
     "status": "completed"
    },
    "tags": []
   },
   "outputs": [],
   "source": [
    "from kudzu.layer import Sigmoid\n",
    "from kudzu.layer import Relu\n",
    "from kudzu.layer import Affine, Sigmoid\n",
    "\n",
    "from kudzu.model import Model\n",
    "from kudzu.train import Learner\n",
    "from kudzu.optim import GD\n",
    "from kudzu.data import Data, Dataloader, Sampler\n",
    "\n",
    "from kudzu.callbacks import AccCallback\n",
    "from kudzu.callbacks import ClfCallback\n",
    "\n",
    "from kudzu.loss import MSE"
   ]
  },
  {
   "cell_type": "markdown",
   "metadata": {
    "papermill": {
     "duration": 0.032477,
     "end_time": "2020-10-23T10:04:55.960062",
     "exception": false,
     "start_time": "2020-10-23T10:04:55.927585",
     "status": "completed"
    },
    "tags": []
   },
   "source": [
    "### Let us create a `Config` class, to store important parameters. \n",
    "This class essentially plays the role of a dictionary."
   ]
  },
  {
   "cell_type": "code",
   "execution_count": 15,
   "metadata": {
    "execution": {
     "iopub.execute_input": "2020-10-23T10:04:56.029563Z",
     "iopub.status.busy": "2020-10-23T10:04:56.028728Z",
     "iopub.status.idle": "2020-10-23T10:04:56.042764Z",
     "shell.execute_reply": "2020-10-23T10:04:56.042166Z"
    },
    "papermill": {
     "duration": 0.050846,
     "end_time": "2020-10-23T10:04:56.042906",
     "exception": false,
     "start_time": "2020-10-23T10:04:55.992060",
     "status": "completed"
    },
    "tags": []
   },
   "outputs": [],
   "source": [
    "class Config:\n",
    "    pass\n",
    "config = Config()\n",
    "config.lr = 0.001\n",
    "config.num_epochs = 251\n",
    "config.bs = 50"
   ]
  },
  {
   "cell_type": "markdown",
   "metadata": {
    "papermill": {
     "duration": 0.039441,
     "end_time": "2020-10-23T10:04:56.114566",
     "exception": false,
     "start_time": "2020-10-23T10:04:56.075125",
     "status": "completed"
    },
    "tags": []
   },
   "source": [
    "### Initializing data to the variables"
   ]
  },
  {
   "cell_type": "code",
   "execution_count": 16,
   "metadata": {
    "execution": {
     "iopub.execute_input": "2020-10-23T10:04:56.182641Z",
     "iopub.status.busy": "2020-10-23T10:04:56.182066Z",
     "iopub.status.idle": "2020-10-23T10:04:56.195199Z",
     "shell.execute_reply": "2020-10-23T10:04:56.194704Z"
    },
    "papermill": {
     "duration": 0.049525,
     "end_time": "2020-10-23T10:04:56.195320",
     "exception": false,
     "start_time": "2020-10-23T10:04:56.145795",
     "status": "completed"
    },
    "tags": []
   },
   "outputs": [],
   "source": [
    "data = Data(X_train, y_train.reshape(-1,1))\n",
    "sampler = Sampler(data, config.bs, shuffle=True)\n",
    "\n",
    "dl = Dataloader(data, sampler)\n",
    "\n",
    "opt = GD(config.lr)\n",
    "loss = MSE()"
   ]
  },
  {
   "cell_type": "code",
   "execution_count": 17,
   "metadata": {
    "execution": {
     "iopub.execute_input": "2020-10-23T10:04:56.270371Z",
     "iopub.status.busy": "2020-10-23T10:04:56.269506Z",
     "iopub.status.idle": "2020-10-23T10:04:56.289413Z",
     "shell.execute_reply": "2020-10-23T10:04:56.290055Z"
    },
    "papermill": {
     "duration": 0.061814,
     "end_time": "2020-10-23T10:04:56.290220",
     "exception": false,
     "start_time": "2020-10-23T10:04:56.228406",
     "status": "completed"
    },
    "tags": []
   },
   "outputs": [],
   "source": [
    "training_xdata = X_train\n",
    "testing_xdata = X_test\n",
    "training_ydata = y_train.reshape(-1,1)\n",
    "testing_ydata = y_test.reshape(-1,1)"
   ]
  },
  {
   "cell_type": "markdown",
   "metadata": {
    "papermill": {
     "duration": 0.033041,
     "end_time": "2020-10-23T10:04:56.356978",
     "exception": false,
     "start_time": "2020-10-23T10:04:56.323937",
     "status": "completed"
    },
    "tags": []
   },
   "source": [
    "### Running Models with the Training data\n",
    "Details about the network layers:\n",
    "- A first affine layer has 784 inputs and does 100 affine transforms. These are followed by a Relu\n",
    "- A second affine layer has 100 inputs from the 100 activations of the past layer, and does 100 affine transforms. These are followed by a Relu\n",
    "- A third affine layer has 100 activations and does 2 affine transformations to create an embedding for visualization. There is no non-linearity here.\n",
    "- A final \"logistic regression\" which has an affine transform from 2 inputs to 1 output, which is squeezed through a sigmoid.\n",
    "\n",
    "Help taken from Anshuman's Notebook."
   ]
  },
  {
   "cell_type": "code",
   "execution_count": 18,
   "metadata": {
    "execution": {
     "iopub.execute_input": "2020-10-23T10:04:56.433934Z",
     "iopub.status.busy": "2020-10-23T10:04:56.433240Z",
     "iopub.status.idle": "2020-10-23T10:04:56.449110Z",
     "shell.execute_reply": "2020-10-23T10:04:56.449686Z"
    },
    "papermill": {
     "duration": 0.059199,
     "end_time": "2020-10-23T10:04:56.449834",
     "exception": false,
     "start_time": "2020-10-23T10:04:56.390635",
     "status": "completed"
    },
    "tags": []
   },
   "outputs": [],
   "source": [
    "# layers for the Neural Network\n",
    "layers = [Affine(\"first\", 784, 100), Relu(\"first\"), Affine(\"second\", 100, 100), Relu(\"second\"), Affine(\"third\", 100, 2), Affine(\"final\", 2, 1), Sigmoid(\"final\")]\n",
    "model_nn = Model(layers)\n",
    "\n",
    "# layers for the Logistic Regression\n",
    "layers_lr = [Affine(\"logits\", 784, 1), Sigmoid(\"sigmoid\")]\n",
    "model_lr = Model(layers_lr)"
   ]
  },
  {
   "cell_type": "code",
   "execution_count": 19,
   "metadata": {
    "execution": {
     "iopub.execute_input": "2020-10-23T10:04:56.534171Z",
     "iopub.status.busy": "2020-10-23T10:04:56.528293Z",
     "iopub.status.idle": "2020-10-23T10:04:56.537958Z",
     "shell.execute_reply": "2020-10-23T10:04:56.538551Z"
    },
    "papermill": {
     "duration": 0.056039,
     "end_time": "2020-10-23T10:04:56.538706",
     "exception": false,
     "start_time": "2020-10-23T10:04:56.482667",
     "status": "completed"
    },
    "tags": []
   },
   "outputs": [],
   "source": [
    "# suffix _nn stands for Neural Network.\n",
    "learner_nn = Learner(loss, model_nn, opt, config.num_epochs)\n",
    "acc_nn = ClfCallback(learner_nn, config.bs, training_xdata , testing_xdata, training_ydata, testing_ydata)\n",
    "learner_nn.set_callbacks([acc_nn])"
   ]
  },
  {
   "cell_type": "code",
   "execution_count": 20,
   "metadata": {
    "execution": {
     "iopub.execute_input": "2020-10-23T10:04:56.608628Z",
     "iopub.status.busy": "2020-10-23T10:04:56.607952Z",
     "iopub.status.idle": "2020-10-23T10:07:16.828912Z",
     "shell.execute_reply": "2020-10-23T10:07:16.829401Z"
    },
    "papermill": {
     "duration": 140.258511,
     "end_time": "2020-10-23T10:07:16.829557",
     "exception": false,
     "start_time": "2020-10-23T10:04:56.571046",
     "status": "completed"
    },
    "tags": []
   },
   "outputs": [
    {
     "name": "stdout",
     "output_type": "stream",
     "text": [
      "====== Neural Network ======\n"
     ]
    },
    {
     "name": "stdout",
     "output_type": "stream",
     "text": [
      "Epoch 0, Loss 0.2175\n",
      "Training Accuracy: 0.7808, Testing Accuracy: 0.7823\n",
      "\n"
     ]
    },
    {
     "name": "stdout",
     "output_type": "stream",
     "text": [
      "Epoch 10, Loss 0.0893\n",
      "Training Accuracy: 0.9125, Testing Accuracy: 0.9214\n",
      "\n"
     ]
    },
    {
     "name": "stdout",
     "output_type": "stream",
     "text": [
      "Epoch 20, Loss 0.058\n",
      "Training Accuracy: 0.9373, Testing Accuracy: 0.9461\n",
      "\n"
     ]
    },
    {
     "name": "stdout",
     "output_type": "stream",
     "text": [
      "Epoch 30, Loss 0.0461\n",
      "Training Accuracy: 0.9481, Testing Accuracy: 0.9531\n",
      "\n"
     ]
    },
    {
     "name": "stdout",
     "output_type": "stream",
     "text": [
      "Epoch 40, Loss 0.0399\n",
      "Training Accuracy: 0.9549, Testing Accuracy: 0.9597\n",
      "\n"
     ]
    },
    {
     "name": "stdout",
     "output_type": "stream",
     "text": [
      "Epoch 50, Loss 0.0361\n",
      "Training Accuracy: 0.9583, Testing Accuracy: 0.9622\n",
      "\n"
     ]
    },
    {
     "name": "stdout",
     "output_type": "stream",
     "text": [
      "Epoch 60, Loss 0.0335\n",
      "Training Accuracy: 0.9601, Testing Accuracy: 0.9637\n",
      "\n"
     ]
    },
    {
     "name": "stdout",
     "output_type": "stream",
     "text": [
      "Epoch 70, Loss 0.0315\n",
      "Training Accuracy: 0.9625, Testing Accuracy: 0.9657\n",
      "\n"
     ]
    },
    {
     "name": "stdout",
     "output_type": "stream",
     "text": [
      "Epoch 80, Loss 0.03\n",
      "Training Accuracy: 0.9640, Testing Accuracy: 0.9688\n",
      "\n"
     ]
    },
    {
     "name": "stdout",
     "output_type": "stream",
     "text": [
      "Epoch 90, Loss 0.0287\n",
      "Training Accuracy: 0.9652, Testing Accuracy: 0.9703\n",
      "\n"
     ]
    },
    {
     "name": "stdout",
     "output_type": "stream",
     "text": [
      "Epoch 100, Loss 0.0276\n",
      "Training Accuracy: 0.9676, Testing Accuracy: 0.9698\n",
      "\n"
     ]
    },
    {
     "name": "stdout",
     "output_type": "stream",
     "text": [
      "Epoch 110, Loss 0.0266\n",
      "Training Accuracy: 0.9687, Testing Accuracy: 0.9688\n",
      "\n"
     ]
    },
    {
     "name": "stdout",
     "output_type": "stream",
     "text": [
      "Epoch 120, Loss 0.0258\n",
      "Training Accuracy: 0.9699, Testing Accuracy: 0.9688\n",
      "\n"
     ]
    },
    {
     "name": "stdout",
     "output_type": "stream",
     "text": [
      "Epoch 130, Loss 0.025\n",
      "Training Accuracy: 0.9709, Testing Accuracy: 0.9693\n",
      "\n"
     ]
    },
    {
     "name": "stdout",
     "output_type": "stream",
     "text": [
      "Epoch 140, Loss 0.0243\n",
      "Training Accuracy: 0.9715, Testing Accuracy: 0.9698\n",
      "\n"
     ]
    },
    {
     "name": "stdout",
     "output_type": "stream",
     "text": [
      "Epoch 150, Loss 0.0237\n",
      "Training Accuracy: 0.9720, Testing Accuracy: 0.9708\n",
      "\n"
     ]
    },
    {
     "name": "stdout",
     "output_type": "stream",
     "text": [
      "Epoch 160, Loss 0.0231\n",
      "Training Accuracy: 0.9731, Testing Accuracy: 0.9713\n",
      "\n"
     ]
    },
    {
     "name": "stdout",
     "output_type": "stream",
     "text": [
      "Epoch 170, Loss 0.0226\n",
      "Training Accuracy: 0.9739, Testing Accuracy: 0.9728\n",
      "\n"
     ]
    },
    {
     "name": "stdout",
     "output_type": "stream",
     "text": [
      "Epoch 180, Loss 0.0221\n",
      "Training Accuracy: 0.9744, Testing Accuracy: 0.9728\n",
      "\n"
     ]
    },
    {
     "name": "stdout",
     "output_type": "stream",
     "text": [
      "Epoch 190, Loss 0.0216\n",
      "Training Accuracy: 0.9748, Testing Accuracy: 0.9733\n",
      "\n"
     ]
    },
    {
     "name": "stdout",
     "output_type": "stream",
     "text": [
      "Epoch 200, Loss 0.0211\n",
      "Training Accuracy: 0.9754, Testing Accuracy: 0.9738\n",
      "\n"
     ]
    },
    {
     "name": "stdout",
     "output_type": "stream",
     "text": [
      "Epoch 210, Loss 0.0207\n",
      "Training Accuracy: 0.9761, Testing Accuracy: 0.9728\n",
      "\n"
     ]
    },
    {
     "name": "stdout",
     "output_type": "stream",
     "text": [
      "Epoch 220, Loss 0.0203\n",
      "Training Accuracy: 0.9770, Testing Accuracy: 0.9733\n",
      "\n"
     ]
    },
    {
     "name": "stdout",
     "output_type": "stream",
     "text": [
      "Epoch 230, Loss 0.0199\n",
      "Training Accuracy: 0.9772, Testing Accuracy: 0.9738\n",
      "\n"
     ]
    },
    {
     "name": "stdout",
     "output_type": "stream",
     "text": [
      "Epoch 240, Loss 0.0195\n",
      "Training Accuracy: 0.9781, Testing Accuracy: 0.9738\n",
      "\n"
     ]
    },
    {
     "name": "stdout",
     "output_type": "stream",
     "text": [
      "Epoch 250, Loss 0.0191\n",
      "Training Accuracy: 0.9790, Testing Accuracy: 0.9743\n",
      "\n"
     ]
    },
    {
     "data": {
      "text/plain": [
       "0.030820327986807644"
      ]
     },
     "execution_count": 20,
     "metadata": {},
     "output_type": "execute_result"
    }
   ],
   "source": [
    "print(\"====== Neural Network ======\")\n",
    "learner_nn.train_loop(dl)"
   ]
  },
  {
   "cell_type": "markdown",
   "metadata": {
    "papermill": {
     "duration": 0.047855,
     "end_time": "2020-10-23T10:07:16.945916",
     "exception": false,
     "start_time": "2020-10-23T10:07:16.898061",
     "status": "completed"
    },
    "tags": []
   },
   "source": [
    "### Logistic Regression based Implementation."
   ]
  },
  {
   "cell_type": "code",
   "execution_count": 21,
   "metadata": {
    "execution": {
     "iopub.execute_input": "2020-10-23T10:07:17.047585Z",
     "iopub.status.busy": "2020-10-23T10:07:17.046841Z",
     "iopub.status.idle": "2020-10-23T10:07:17.057043Z",
     "shell.execute_reply": "2020-10-23T10:07:17.057945Z"
    },
    "papermill": {
     "duration": 0.066916,
     "end_time": "2020-10-23T10:07:17.058136",
     "exception": false,
     "start_time": "2020-10-23T10:07:16.991220",
     "status": "completed"
    },
    "tags": []
   },
   "outputs": [],
   "source": [
    "learner_lr = Learner(loss, model_lr, opt, config.num_epochs)\n",
    "acc_lr = ClfCallback(learner_lr, config.bs, training_xdata , testing_xdata, training_ydata, testing_ydata)\n",
    "learner_lr.set_callbacks([acc_lr])"
   ]
  },
  {
   "cell_type": "code",
   "execution_count": 22,
   "metadata": {
    "execution": {
     "iopub.execute_input": "2020-10-23T10:07:17.146763Z",
     "iopub.status.busy": "2020-10-23T10:07:17.146182Z",
     "iopub.status.idle": "2020-10-23T10:07:37.673732Z",
     "shell.execute_reply": "2020-10-23T10:07:37.674739Z"
    },
    "papermill": {
     "duration": 20.574898,
     "end_time": "2020-10-23T10:07:37.674898",
     "exception": false,
     "start_time": "2020-10-23T10:07:17.100000",
     "status": "completed"
    },
    "tags": []
   },
   "outputs": [
    {
     "name": "stdout",
     "output_type": "stream",
     "text": [
      "====== Logistic Regression ======\n",
      "Epoch 0, Loss 0.241\n",
      "Training Accuracy: 0.6815, Testing Accuracy: 0.6915\n",
      "\n"
     ]
    },
    {
     "name": "stdout",
     "output_type": "stream",
     "text": [
      "Epoch 10, Loss 0.104\n",
      "Training Accuracy: 0.9022, Testing Accuracy: 0.9173\n",
      "\n"
     ]
    },
    {
     "name": "stdout",
     "output_type": "stream",
     "text": [
      "Epoch 20, Loss 0.0794\n",
      "Training Accuracy: 0.9271, Testing Accuracy: 0.9380\n",
      "\n"
     ]
    },
    {
     "name": "stdout",
     "output_type": "stream",
     "text": [
      "Epoch 30, Loss 0.0683\n",
      "Training Accuracy: 0.9351, Testing Accuracy: 0.9501\n",
      "\n"
     ]
    },
    {
     "name": "stdout",
     "output_type": "stream",
     "text": [
      "Epoch 40, Loss 0.0617\n",
      "Training Accuracy: 0.9402, Testing Accuracy: 0.9516\n",
      "\n"
     ]
    },
    {
     "name": "stdout",
     "output_type": "stream",
     "text": [
      "Epoch 50, Loss 0.0572\n",
      "Training Accuracy: 0.9448, Testing Accuracy: 0.9546\n",
      "\n"
     ]
    },
    {
     "name": "stdout",
     "output_type": "stream",
     "text": [
      "Epoch 60, Loss 0.0538\n",
      "Training Accuracy: 0.9481, Testing Accuracy: 0.9587\n",
      "\n"
     ]
    },
    {
     "name": "stdout",
     "output_type": "stream",
     "text": [
      "Epoch 70, Loss 0.0513\n",
      "Training Accuracy: 0.9506, Testing Accuracy: 0.9612\n",
      "\n"
     ]
    },
    {
     "name": "stdout",
     "output_type": "stream",
     "text": [
      "Epoch 80, Loss 0.0492\n",
      "Training Accuracy: 0.9521, Testing Accuracy: 0.9617\n",
      "\n"
     ]
    },
    {
     "name": "stdout",
     "output_type": "stream",
     "text": [
      "Epoch 90, Loss 0.0475\n",
      "Training Accuracy: 0.9537, Testing Accuracy: 0.9627\n",
      "\n"
     ]
    },
    {
     "name": "stdout",
     "output_type": "stream",
     "text": [
      "Epoch 100, Loss 0.0461\n",
      "Training Accuracy: 0.9550, Testing Accuracy: 0.9627\n",
      "\n"
     ]
    },
    {
     "name": "stdout",
     "output_type": "stream",
     "text": [
      "Epoch 110, Loss 0.0448\n",
      "Training Accuracy: 0.9555, Testing Accuracy: 0.9632\n",
      "\n"
     ]
    },
    {
     "name": "stdout",
     "output_type": "stream",
     "text": [
      "Epoch 120, Loss 0.0438\n",
      "Training Accuracy: 0.9562, Testing Accuracy: 0.9637\n",
      "\n"
     ]
    },
    {
     "name": "stdout",
     "output_type": "stream",
     "text": [
      "Epoch 130, Loss 0.0428\n",
      "Training Accuracy: 0.9569, Testing Accuracy: 0.9642\n",
      "\n"
     ]
    },
    {
     "name": "stdout",
     "output_type": "stream",
     "text": [
      "Epoch 140, Loss 0.042\n",
      "Training Accuracy: 0.9573, Testing Accuracy: 0.9647\n",
      "\n"
     ]
    },
    {
     "name": "stdout",
     "output_type": "stream",
     "text": [
      "Epoch 150, Loss 0.0412\n",
      "Training Accuracy: 0.9583, Testing Accuracy: 0.9652\n",
      "\n"
     ]
    },
    {
     "name": "stdout",
     "output_type": "stream",
     "text": [
      "Epoch 160, Loss 0.0406\n",
      "Training Accuracy: 0.9592, Testing Accuracy: 0.9657\n",
      "\n"
     ]
    },
    {
     "name": "stdout",
     "output_type": "stream",
     "text": [
      "Epoch 170, Loss 0.0399\n",
      "Training Accuracy: 0.9595, Testing Accuracy: 0.9657\n",
      "\n"
     ]
    },
    {
     "name": "stdout",
     "output_type": "stream",
     "text": [
      "Epoch 180, Loss 0.0394\n",
      "Training Accuracy: 0.9599, Testing Accuracy: 0.9667\n",
      "\n"
     ]
    },
    {
     "name": "stdout",
     "output_type": "stream",
     "text": [
      "Epoch 190, Loss 0.0389\n",
      "Training Accuracy: 0.9602, Testing Accuracy: 0.9677\n",
      "\n"
     ]
    },
    {
     "name": "stdout",
     "output_type": "stream",
     "text": [
      "Epoch 200, Loss 0.0384\n",
      "Training Accuracy: 0.9604, Testing Accuracy: 0.9682\n",
      "\n"
     ]
    },
    {
     "name": "stdout",
     "output_type": "stream",
     "text": [
      "Epoch 210, Loss 0.0379\n",
      "Training Accuracy: 0.9607, Testing Accuracy: 0.9682\n",
      "\n"
     ]
    },
    {
     "name": "stdout",
     "output_type": "stream",
     "text": [
      "Epoch 220, Loss 0.0375\n",
      "Training Accuracy: 0.9609, Testing Accuracy: 0.9682\n",
      "\n"
     ]
    },
    {
     "name": "stdout",
     "output_type": "stream",
     "text": [
      "Epoch 230, Loss 0.0371\n",
      "Training Accuracy: 0.9614, Testing Accuracy: 0.9682\n",
      "\n"
     ]
    },
    {
     "name": "stdout",
     "output_type": "stream",
     "text": [
      "Epoch 240, Loss 0.0368\n",
      "Training Accuracy: 0.9617, Testing Accuracy: 0.9682\n",
      "\n"
     ]
    },
    {
     "name": "stdout",
     "output_type": "stream",
     "text": [
      "Epoch 250, Loss 0.0364\n",
      "Training Accuracy: 0.9618, Testing Accuracy: 0.9682\n",
      "\n"
     ]
    },
    {
     "data": {
      "text/plain": [
       "0.004964590423011655"
      ]
     },
     "execution_count": 22,
     "metadata": {},
     "output_type": "execute_result"
    }
   ],
   "source": [
    "print(\"====== Logistic Regression ======\")\n",
    "learner_lr.train_loop(dl)"
   ]
  },
  {
   "cell_type": "markdown",
   "metadata": {
    "papermill": {
     "duration": 0.047529,
     "end_time": "2020-10-23T10:07:37.771586",
     "exception": false,
     "start_time": "2020-10-23T10:07:37.724057",
     "status": "completed"
    },
    "tags": []
   },
   "source": [
    "### Comparing results of NN and LR"
   ]
  },
  {
   "cell_type": "code",
   "execution_count": 23,
   "metadata": {
    "execution": {
     "iopub.execute_input": "2020-10-23T10:07:37.876379Z",
     "iopub.status.busy": "2020-10-23T10:07:37.875523Z",
     "iopub.status.idle": "2020-10-23T10:07:38.160079Z",
     "shell.execute_reply": "2020-10-23T10:07:38.159524Z"
    },
    "papermill": {
     "duration": 0.338481,
     "end_time": "2020-10-23T10:07:38.160222",
     "exception": false,
     "start_time": "2020-10-23T10:07:37.821741",
     "status": "completed"
    },
    "tags": []
   },
   "outputs": [
    {
     "data": {
      "text/plain": [
       "<matplotlib.legend.Legend at 0x7fb66805b2b0>"
      ]
     },
     "execution_count": 23,
     "metadata": {},
     "output_type": "execute_result"
    },
    {
     "data": {
      "image/png": "[encoded data removed]",
      "text/plain": [
       "<Figure size 1080x720 with 1 Axes>"
      ]
     },
     "metadata": {
      "needs_background": "light"
     },
     "output_type": "display_data"
    }
   ],
   "source": [
    "plt.figure(figsize=(15,10))\n",
    "\n",
    "# Neural Network plots\n",
    "plt.plot(acc_nn.accuracies, 'r-', label = \"Training Accuracies - NN\")\n",
    "plt.plot(acc_nn.test_accuracies, 'g-', label = \"Testing Accuracies - NN\")\n",
    "\n",
    "# Logistic Regression plots\n",
    "plt.plot(acc_lr.accuracies, 'k-', label = \"Training Accuracies - LR\")\n",
    "plt.plot(acc_lr.test_accuracies, 'b-', label = \"Testing Accuracies - LR\")\n",
    "\n",
    "plt.ylim(0.8, 1)\n",
    "\n",
    "plt.legend()\n",
    "\n"
   ]
  },
  {
   "cell_type": "markdown",
   "metadata": {
    "papermill": {
     "duration": 0.051999,
     "end_time": "2020-10-23T10:07:38.265031",
     "exception": false,
     "start_time": "2020-10-23T10:07:38.213032",
     "status": "completed"
    },
    "tags": []
   },
   "source": [
    "### From the plot, we can observe the following:\n",
    "- Neural Network achieves higher accuracy than the Logistic Regression model.\n",
    "- This apparently, is because of overfitting, i.e. NN captures more noise than data.\n",
    "- Testing accuracy of NN drops below the Training accuracy at higher epochs. This explains the over-fitting on training data.\n",
    "- Logistic Regression gives a reliable accuracy, without the above mentioned problem.\n"
   ]
  },
  {
   "cell_type": "markdown",
   "metadata": {
    "papermill": {
     "duration": 0.052051,
     "end_time": "2020-10-23T10:07:38.365941",
     "exception": false,
     "start_time": "2020-10-23T10:07:38.313890",
     "status": "completed"
    },
    "tags": []
   },
   "source": [
    "### Moving till the last but one layer (excluding it).\n",
    "#### Plotting the outputs of this layer of the NN."
   ]
  },
  {
   "cell_type": "code",
   "execution_count": 24,
   "metadata": {
    "execution": {
     "iopub.execute_input": "2020-10-23T10:07:38.474945Z",
     "iopub.status.busy": "2020-10-23T10:07:38.473822Z",
     "iopub.status.idle": "2020-10-23T10:07:38.487798Z",
     "shell.execute_reply": "2020-10-23T10:07:38.486953Z"
    },
    "papermill": {
     "duration": 0.069909,
     "end_time": "2020-10-23T10:07:38.487940",
     "exception": false,
     "start_time": "2020-10-23T10:07:38.418031",
     "status": "completed"
    },
    "tags": []
   },
   "outputs": [],
   "source": [
    "model_new = Model(layers[:-2])"
   ]
  },
  {
   "cell_type": "code",
   "execution_count": 25,
   "metadata": {
    "execution": {
     "iopub.execute_input": "2020-10-23T10:07:38.600858Z",
     "iopub.status.busy": "2020-10-23T10:07:38.600140Z",
     "iopub.status.idle": "2020-10-23T10:07:38.634821Z",
     "shell.execute_reply": "2020-10-23T10:07:38.635402Z"
    },
    "papermill": {
     "duration": 0.095014,
     "end_time": "2020-10-23T10:07:38.635582",
     "exception": false,
     "start_time": "2020-10-23T10:07:38.540568",
     "status": "completed"
    },
    "tags": []
   },
   "outputs": [],
   "source": [
    "plot_testing = model_new(testing_xdata)"
   ]
  },
  {
   "cell_type": "code",
   "execution_count": 26,
   "metadata": {
    "execution": {
     "iopub.execute_input": "2020-10-23T10:07:38.754393Z",
     "iopub.status.busy": "2020-10-23T10:07:38.753648Z",
     "iopub.status.idle": "2020-10-23T10:07:39.005720Z",
     "shell.execute_reply": "2020-10-23T10:07:39.006302Z"
    },
    "papermill": {
     "duration": 0.311949,
     "end_time": "2020-10-23T10:07:39.006498",
     "exception": false,
     "start_time": "2020-10-23T10:07:38.694549",
     "status": "completed"
    },
    "tags": []
   },
   "outputs": [
    {
     "data": {
      "text/plain": [
       "Text(0.5, 1.0, 'Outputs')"
      ]
     },
     "execution_count": 26,
     "metadata": {},
     "output_type": "execute_result"
    },
    {
     "data": {
      "image/png": "[encoded data removed]",
      "text/plain": [
       "<Figure size 576x504 with 1 Axes>"
      ]
     },
     "metadata": {
      "needs_background": "light"
     },
     "output_type": "display_data"
    }
   ],
   "source": [
    "plt.figure(figsize=(8,7))\n",
    "plt.scatter(plot_testing[:,0], plot_testing[:,1], alpha = 0.1, c = y_test.ravel());\n",
    "plt.title('Outputs')"
   ]
  },
  {
   "cell_type": "markdown",
   "metadata": {
    "papermill": {
     "duration": 0.052498,
     "end_time": "2020-10-23T10:07:39.114422",
     "exception": false,
     "start_time": "2020-10-23T10:07:39.061924",
     "status": "completed"
    },
    "tags": []
   },
   "source": [
    "### Plotting probability contours"
   ]
  },
  {
   "cell_type": "code",
   "execution_count": 27,
   "metadata": {
    "execution": {
     "iopub.execute_input": "2020-10-23T10:07:39.232901Z",
     "iopub.status.busy": "2020-10-23T10:07:39.232252Z",
     "iopub.status.idle": "2020-10-23T10:07:39.241605Z",
     "shell.execute_reply": "2020-10-23T10:07:39.242091Z"
    },
    "papermill": {
     "duration": 0.074476,
     "end_time": "2020-10-23T10:07:39.242238",
     "exception": false,
     "start_time": "2020-10-23T10:07:39.167762",
     "status": "completed"
    },
    "tags": []
   },
   "outputs": [],
   "source": [
    "model_prob = Model(layers[-2:]) "
   ]
  },
  {
   "cell_type": "code",
   "execution_count": 28,
   "metadata": {
    "execution": {
     "iopub.execute_input": "2020-10-23T10:07:39.362755Z",
     "iopub.status.busy": "2020-10-23T10:07:39.362016Z",
     "iopub.status.idle": "2020-10-23T10:07:39.377356Z",
     "shell.execute_reply": "2020-10-23T10:07:39.377939Z"
    },
    "papermill": {
     "duration": 0.077875,
     "end_time": "2020-10-23T10:07:39.378146",
     "exception": false,
     "start_time": "2020-10-23T10:07:39.300271",
     "status": "completed"
    },
    "tags": []
   },
   "outputs": [],
   "source": [
    "# Adjust the x and y ranges according to the above generated plot.\n",
    "x_range = np.linspace(-4, 1, 100) \n",
    "y_range = np.linspace(-6, 6, 100) \n",
    "x_grid, y_grid = np.meshgrid(x_range, y_range) # x_grid and y_grig are of size 100 X 100\n",
    "\n",
    "# converting x_grid and y_grid to continuous arrays\n",
    "x_grid_flat = np.ravel(x_grid)\n",
    "y_grid_flat = np.ravel(y_grid)\n",
    "\n",
    "# The last layer of the current model takes two columns as input. Hence transpose of np.vstack() is required.\n",
    "X = np.vstack((x_grid_flat, y_grid_flat)).T\n",
    "\n",
    "# x_grid and y_grid are of size 100 x 100\n",
    "probability_contour = model_prob(X).reshape(100,100) "
   ]
  },
  {
   "cell_type": "code",
   "execution_count": 29,
   "metadata": {
    "execution": {
     "iopub.execute_input": "2020-10-23T10:07:39.502719Z",
     "iopub.status.busy": "2020-10-23T10:07:39.501973Z",
     "iopub.status.idle": "2020-10-23T10:07:39.815505Z",
     "shell.execute_reply": "2020-10-23T10:07:39.816058Z"
    },
    "papermill": {
     "duration": 0.37852,
     "end_time": "2020-10-23T10:07:39.816230",
     "exception": false,
     "start_time": "2020-10-23T10:07:39.437710",
     "status": "completed"
    },
    "tags": []
   },
   "outputs": [
    {
     "data": {
      "image/png": "[encoded data removed]",
      "text/plain": [
       "<Figure size 720x648 with 1 Axes>"
      ]
     },
     "metadata": {
      "needs_background": "light"
     },
     "output_type": "display_data"
    }
   ],
   "source": [
    "plt.figure(figsize=(10,9))\n",
    "plt.scatter(plot_testing[:,0], plot_testing[:,1], alpha = 0.1, c = y_test.ravel())\n",
    "contours = plt.contour(x_grid,y_grid,probability_contour)\n",
    "plt.title('Probability Contours')\n",
    "plt.clabel(contours, inline = True );"
   ]
  }
 ],
 "metadata": {
  "kernelspec": {
   "display_name": "Python 3",
   "language": "python",
   "name": "python3"
  },
  "language_info": {
   "codemirror_mode": {
    "name": "ipython",
    "version": 3
   },
   "file_extension": ".py",
   "mimetype": "text/x-python",
   "name": "python",
   "nbconvert_exporter": "python",
   "pygments_lexer": "ipython3",
   "version": "3.6.12"
  },
  "papermill": {
   "duration": 175.065902,
   "end_time": "2020-10-23T10:07:40.203233",
   "environment_variables": {},
   "exception": null,
   "input_path": "2020-08-11-NeuralNetwork.ipynb",
   "output_path": "2020-08-11-NeuralNetwork.ipynb",
   "parameters": {},
   "start_time": "2020-10-23T10:04:45.137331",
   "version": "2.1.2"
  }
 },
 "nbformat": 4,
 "nbformat_minor": 4
}