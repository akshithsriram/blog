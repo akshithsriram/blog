{
 "cells": [
  {
   "cell_type": "markdown",
   "metadata": {
    "papermill": {
     "duration": 0.034552,
     "end_time": "2020-11-20T00:07:17.853045",
     "exception": false,
     "start_time": "2020-11-20T00:07:17.818493",
     "status": "completed"
    },
    "tags": []
   },
   "source": [
    "# \"A Basic Neural Network: Differentiate Hand-Written Digits\"\n",
    "\n",
    "- badges: true\n",
    "- author: Akshith Sriram"
   ]
  },
  {
   "cell_type": "markdown",
   "metadata": {
    "papermill": {
     "duration": 0.029866,
     "end_time": "2020-11-20T00:07:17.913179",
     "exception": false,
     "start_time": "2020-11-20T00:07:17.883313",
     "status": "completed"
    },
    "tags": []
   },
   "source": [
    "### Key Objectives:\n",
    "- Building a neural network that differentiates two hand-written digits 3 and 8.\n",
    "- Comparing the results of this Neural Network (NN) to that of a Logistic Regression (LR) model.\n",
    "\n",
    "### Requirements:\n",
    "- 'Kudzu' : A neural network library that was designed during our course by [Univ.AI](www.univ.ai). \n",
    "- MNIST Database\n",
    "\n",
    "If MNIST is not installed, use the command `!pip install mnist` given below.\n",
    "It can be run both from the command line and Jupyter Notebook."
   ]
  },
  {
   "cell_type": "code",
   "execution_count": 1,
   "metadata": {
    "execution": {
     "iopub.execute_input": "2020-11-20T00:07:17.977531Z",
     "iopub.status.busy": "2020-11-20T00:07:17.976859Z",
     "iopub.status.idle": "2020-11-20T00:07:19.662561Z",
     "shell.execute_reply": "2020-11-20T00:07:19.661888Z"
    },
    "papermill": {
     "duration": 1.720471,
     "end_time": "2020-11-20T00:07:19.662739",
     "exception": false,
     "start_time": "2020-11-20T00:07:17.942268",
     "status": "completed"
    },
    "tags": []
   },
   "outputs": [
    {
     "name": "stdout",
     "output_type": "stream",
     "text": [
      "Collecting mnist\r\n"
     ]
    },
    {
     "name": "stdout",
     "output_type": "stream",
     "text": [
      "  Downloading mnist-0.2.2-py2.py3-none-any.whl (3.5 kB)\r\n",
      "Requirement already satisfied: numpy in /opt/hostedtoolcache/Python/3.6.12/x64/lib/python3.6/site-packages (from mnist) (1.19.4)\r\n"
     ]
    },
    {
     "name": "stdout",
     "output_type": "stream",
     "text": [
      "Installing collected packages: mnist\r\n"
     ]
    },
    {
     "name": "stdout",
     "output_type": "stream",
     "text": [
      "Successfully installed mnist-0.2.2\r\n"
     ]
    }
   ],
   "source": [
    "!pip install mnist "
   ]
  },
  {
   "cell_type": "markdown",
   "metadata": {
    "papermill": {
     "duration": 0.03148,
     "end_time": "2020-11-20T00:07:19.725551",
     "exception": false,
     "start_time": "2020-11-20T00:07:19.694071",
     "status": "completed"
    },
    "tags": []
   },
   "source": [
    "#### Importing necessary libraries"
   ]
  },
  {
   "cell_type": "code",
   "execution_count": 2,
   "metadata": {
    "execution": {
     "iopub.execute_input": "2020-11-20T00:07:19.798495Z",
     "iopub.status.busy": "2020-11-20T00:07:19.797803Z",
     "iopub.status.idle": "2020-11-20T00:07:20.454178Z",
     "shell.execute_reply": "2020-11-20T00:07:20.453521Z"
    },
    "papermill": {
     "duration": 0.695809,
     "end_time": "2020-11-20T00:07:20.454338",
     "exception": false,
     "start_time": "2020-11-20T00:07:19.758529",
     "status": "completed"
    },
    "tags": []
   },
   "outputs": [],
   "source": [
    "%load_ext autoreload\n",
    "%autoreload 2\n",
    "\n",
    "%matplotlib inline\n",
    "import matplotlib.pyplot as plt\n",
    "\n",
    "import numpy as np\n",
    "import pandas as pd"
   ]
  },
  {
   "cell_type": "markdown",
   "metadata": {
    "papermill": {
     "duration": 0.0339,
     "end_time": "2020-11-20T00:07:20.520371",
     "exception": false,
     "start_time": "2020-11-20T00:07:20.486471",
     "status": "completed"
    },
    "tags": []
   },
   "source": [
    "### Preparing the Data"
   ]
  },
  {
   "cell_type": "code",
   "execution_count": 3,
   "metadata": {
    "execution": {
     "iopub.execute_input": "2020-11-20T00:07:20.592189Z",
     "iopub.status.busy": "2020-11-20T00:07:20.590583Z",
     "iopub.status.idle": "2020-11-20T00:07:20.603142Z",
     "shell.execute_reply": "2020-11-20T00:07:20.603767Z"
    },
    "papermill": {
     "duration": 0.051625,
     "end_time": "2020-11-20T00:07:20.603945",
     "exception": false,
     "start_time": "2020-11-20T00:07:20.552320",
     "status": "completed"
    },
    "tags": []
   },
   "outputs": [],
   "source": [
    "import mnist"
   ]
  },
  {
   "cell_type": "code",
   "execution_count": 4,
   "metadata": {
    "execution": {
     "iopub.execute_input": "2020-11-20T00:07:20.677386Z",
     "iopub.status.busy": "2020-11-20T00:07:20.676711Z",
     "iopub.status.idle": "2020-11-20T00:07:22.328993Z",
     "shell.execute_reply": "2020-11-20T00:07:22.328347Z"
    },
    "papermill": {
     "duration": 1.690359,
     "end_time": "2020-11-20T00:07:22.329157",
     "exception": false,
     "start_time": "2020-11-20T00:07:20.638798",
     "status": "completed"
    },
    "tags": []
   },
   "outputs": [],
   "source": [
    "train_images = mnist.train_images()\n",
    "train_labels = mnist.train_labels()"
   ]
  },
  {
   "cell_type": "code",
   "execution_count": 5,
   "metadata": {
    "execution": {
     "iopub.execute_input": "2020-11-20T00:07:22.396713Z",
     "iopub.status.busy": "2020-11-20T00:07:22.396033Z",
     "iopub.status.idle": "2020-11-20T00:07:22.413079Z",
     "shell.execute_reply": "2020-11-20T00:07:22.412514Z"
    },
    "papermill": {
     "duration": 0.053083,
     "end_time": "2020-11-20T00:07:22.413244",
     "exception": false,
     "start_time": "2020-11-20T00:07:22.360161",
     "status": "completed"
    },
    "tags": []
   },
   "outputs": [
    {
     "data": {
      "text/plain": [
       "((60000, 28, 28), (60000,))"
      ]
     },
     "execution_count": 5,
     "metadata": {},
     "output_type": "execute_result"
    }
   ],
   "source": [
    "train_images.shape, train_labels.shape"
   ]
  },
  {
   "cell_type": "code",
   "execution_count": 6,
   "metadata": {
    "execution": {
     "iopub.execute_input": "2020-11-20T00:07:22.480538Z",
     "iopub.status.busy": "2020-11-20T00:07:22.479857Z",
     "iopub.status.idle": "2020-11-20T00:07:23.347007Z",
     "shell.execute_reply": "2020-11-20T00:07:23.347595Z"
    },
    "papermill": {
     "duration": 0.903428,
     "end_time": "2020-11-20T00:07:23.347783",
     "exception": false,
     "start_time": "2020-11-20T00:07:22.444355",
     "status": "completed"
    },
    "tags": []
   },
   "outputs": [],
   "source": [
    "test_images = mnist.test_images()\n",
    "test_labels = mnist.test_labels()"
   ]
  },
  {
   "cell_type": "code",
   "execution_count": 7,
   "metadata": {
    "execution": {
     "iopub.execute_input": "2020-11-20T00:07:23.432183Z",
     "iopub.status.busy": "2020-11-20T00:07:23.429095Z",
     "iopub.status.idle": "2020-11-20T00:07:23.437433Z",
     "shell.execute_reply": "2020-11-20T00:07:23.436784Z"
    },
    "papermill": {
     "duration": 0.057762,
     "end_time": "2020-11-20T00:07:23.437690",
     "exception": false,
     "start_time": "2020-11-20T00:07:23.379928",
     "status": "completed"
    },
    "tags": []
   },
   "outputs": [
    {
     "data": {
      "text/plain": [
       "((10000, 28, 28), (10000,))"
      ]
     },
     "execution_count": 7,
     "metadata": {},
     "output_type": "execute_result"
    }
   ],
   "source": [
    "test_images.shape, test_labels.shape"
   ]
  },
  {
   "cell_type": "code",
   "execution_count": 8,
   "metadata": {
    "execution": {
     "iopub.execute_input": "2020-11-20T00:07:23.506959Z",
     "iopub.status.busy": "2020-11-20T00:07:23.506272Z",
     "iopub.status.idle": "2020-11-20T00:07:23.700630Z",
     "shell.execute_reply": "2020-11-20T00:07:23.699579Z"
    },
    "papermill": {
     "duration": 0.230435,
     "end_time": "2020-11-20T00:07:23.700789",
     "exception": false,
     "start_time": "2020-11-20T00:07:23.470354",
     "status": "completed"
    },
    "tags": []
   },
   "outputs": [
    {
     "name": "stdout",
     "output_type": "stream",
     "text": [
      "2\n"
     ]
    },
    {
     "data": {
      "text/plain": [
       "<matplotlib.image.AxesImage at 0x7f4861f040f0>"
      ]
     },
     "execution_count": 8,
     "metadata": {},
     "output_type": "execute_result"
    },
    {
     "data": {
      "image/png": "[encoded data removed]",
      "text/plain": [
       "<Figure size 432x288 with 1 Axes>"
      ]
     },
     "metadata": {
      "needs_background": "light"
     },
     "output_type": "display_data"
    }
   ],
   "source": [
    "image_index = 7776 # You may select anything up to 60,000\n",
    "print(train_labels[image_index]) \n",
    "plt.imshow(train_images[image_index], cmap='Greys')"
   ]
  },
  {
   "cell_type": "markdown",
   "metadata": {
    "papermill": {
     "duration": 0.034872,
     "end_time": "2020-11-20T00:07:23.768438",
     "exception": false,
     "start_time": "2020-11-20T00:07:23.733566",
     "status": "completed"
    },
    "tags": []
   },
   "source": [
    "## Filter data to get 3 and 8 out"
   ]
  },
  {
   "cell_type": "code",
   "execution_count": 9,
   "metadata": {
    "execution": {
     "iopub.execute_input": "2020-11-20T00:07:23.846694Z",
     "iopub.status.busy": "2020-11-20T00:07:23.842171Z",
     "iopub.status.idle": "2020-11-20T00:07:23.863737Z",
     "shell.execute_reply": "2020-11-20T00:07:23.863110Z"
    },
    "papermill": {
     "duration": 0.059316,
     "end_time": "2020-11-20T00:07:23.863907",
     "exception": false,
     "start_time": "2020-11-20T00:07:23.804591",
     "status": "completed"
    },
    "tags": []
   },
   "outputs": [],
   "source": [
    "train_filter = np.where((train_labels == 3 ) | (train_labels == 8))\n",
    "test_filter = np.where((test_labels == 3) | (test_labels == 8))\n",
    "X_train, y_train = train_images[train_filter], train_labels[train_filter]\n",
    "X_test, y_test = test_images[test_filter], test_labels[test_filter]"
   ]
  },
  {
   "cell_type": "markdown",
   "metadata": {
    "papermill": {
     "duration": 0.034368,
     "end_time": "2020-11-20T00:07:23.931898",
     "exception": false,
     "start_time": "2020-11-20T00:07:23.897530",
     "status": "completed"
    },
    "tags": []
   },
   "source": [
    "We normalize the pixel values in the 0 to 1 range"
   ]
  },
  {
   "cell_type": "code",
   "execution_count": 10,
   "metadata": {
    "execution": {
     "iopub.execute_input": "2020-11-20T00:07:24.010779Z",
     "iopub.status.busy": "2020-11-20T00:07:24.004446Z",
     "iopub.status.idle": "2020-11-20T00:07:24.067749Z",
     "shell.execute_reply": "2020-11-20T00:07:24.066955Z"
    },
    "papermill": {
     "duration": 0.101732,
     "end_time": "2020-11-20T00:07:24.067915",
     "exception": false,
     "start_time": "2020-11-20T00:07:23.966183",
     "status": "completed"
    },
    "tags": []
   },
   "outputs": [],
   "source": [
    "X_train = X_train/255.\n",
    "X_test = X_test/255."
   ]
  },
  {
   "cell_type": "markdown",
   "metadata": {
    "papermill": {
     "duration": 0.034708,
     "end_time": "2020-11-20T00:07:24.136819",
     "exception": false,
     "start_time": "2020-11-20T00:07:24.102111",
     "status": "completed"
    },
    "tags": []
   },
   "source": [
    "Setup the labels as 1 (when the digit is 3) and 0 (when the digit is 8)"
   ]
  },
  {
   "cell_type": "code",
   "execution_count": 11,
   "metadata": {
    "execution": {
     "iopub.execute_input": "2020-11-20T00:07:24.210874Z",
     "iopub.status.busy": "2020-11-20T00:07:24.210127Z",
     "iopub.status.idle": "2020-11-20T00:07:24.224898Z",
     "shell.execute_reply": "2020-11-20T00:07:24.224202Z"
    },
    "papermill": {
     "duration": 0.05241,
     "end_time": "2020-11-20T00:07:24.225049",
     "exception": false,
     "start_time": "2020-11-20T00:07:24.172639",
     "status": "completed"
    },
    "tags": []
   },
   "outputs": [],
   "source": [
    "y_train = 1*(y_train==3)\n",
    "y_test = 1*(y_test==3)"
   ]
  },
  {
   "cell_type": "code",
   "execution_count": 12,
   "metadata": {
    "execution": {
     "iopub.execute_input": "2020-11-20T00:07:24.295383Z",
     "iopub.status.busy": "2020-11-20T00:07:24.294698Z",
     "iopub.status.idle": "2020-11-20T00:07:24.308617Z",
     "shell.execute_reply": "2020-11-20T00:07:24.309271Z"
    },
    "papermill": {
     "duration": 0.05156,
     "end_time": "2020-11-20T00:07:24.309448",
     "exception": false,
     "start_time": "2020-11-20T00:07:24.257888",
     "status": "completed"
    },
    "tags": []
   },
   "outputs": [
    {
     "data": {
      "text/plain": [
       "((11982, 28, 28), (1984, 28, 28))"
      ]
     },
     "execution_count": 12,
     "metadata": {},
     "output_type": "execute_result"
    }
   ],
   "source": [
    "X_train.shape, X_test.shape"
   ]
  },
  {
   "cell_type": "markdown",
   "metadata": {
    "papermill": {
     "duration": 0.033777,
     "end_time": "2020-11-20T00:07:24.378959",
     "exception": false,
     "start_time": "2020-11-20T00:07:24.345182",
     "status": "completed"
    },
    "tags": []
   },
   "source": [
    "### Reshape the input data to create a linear array"
   ]
  },
  {
   "cell_type": "code",
   "execution_count": 13,
   "metadata": {
    "execution": {
     "iopub.execute_input": "2020-11-20T00:07:24.457944Z",
     "iopub.status.busy": "2020-11-20T00:07:24.457240Z",
     "iopub.status.idle": "2020-11-20T00:07:24.471845Z",
     "shell.execute_reply": "2020-11-20T00:07:24.472467Z"
    },
    "papermill": {
     "duration": 0.056055,
     "end_time": "2020-11-20T00:07:24.472644",
     "exception": false,
     "start_time": "2020-11-20T00:07:24.416589",
     "status": "completed"
    },
    "tags": []
   },
   "outputs": [
    {
     "data": {
      "text/plain": [
       "((11982, 784), (1984, 784))"
      ]
     },
     "execution_count": 13,
     "metadata": {},
     "output_type": "execute_result"
    }
   ],
   "source": [
    "X_train = X_train.reshape(X_train.shape[0], -1)\n",
    "X_test = X_test.reshape(X_test.shape[0], -1)\n",
    "X_train.shape, X_test.shape"
   ]
  },
  {
   "cell_type": "markdown",
   "metadata": {
    "papermill": {
     "duration": 0.034928,
     "end_time": "2020-11-20T00:07:24.541829",
     "exception": false,
     "start_time": "2020-11-20T00:07:24.506901",
     "status": "completed"
    },
    "tags": []
   },
   "source": [
    "### Importing appropriate functions from 'Kudzu'"
   ]
  },
  {
   "cell_type": "code",
   "execution_count": 14,
   "metadata": {
    "execution": {
     "iopub.execute_input": "2020-11-20T00:07:24.625018Z",
     "iopub.status.busy": "2020-11-20T00:07:24.624274Z",
     "iopub.status.idle": "2020-11-20T00:07:24.646484Z",
     "shell.execute_reply": "2020-11-20T00:07:24.645871Z"
    },
    "papermill": {
     "duration": 0.067236,
     "end_time": "2020-11-20T00:07:24.646650",
     "exception": false,
     "start_time": "2020-11-20T00:07:24.579414",
     "status": "completed"
    },
    "tags": []
   },
   "outputs": [],
   "source": [
    "from kudzu.layer import Sigmoid\n",
    "from kudzu.layer import Relu\n",
    "from kudzu.layer import Affine, Sigmoid\n",
    "\n",
    "from kudzu.model import Model\n",
    "from kudzu.train import Learner\n",
    "from kudzu.optim import GD\n",
    "from kudzu.data import Data, Dataloader, Sampler\n",
    "\n",
    "from kudzu.callbacks import AccCallback\n",
    "from kudzu.callbacks import ClfCallback\n",
    "\n",
    "from kudzu.loss import MSE"
   ]
  },
  {
   "cell_type": "markdown",
   "metadata": {
    "papermill": {
     "duration": 0.03473,
     "end_time": "2020-11-20T00:07:24.718325",
     "exception": false,
     "start_time": "2020-11-20T00:07:24.683595",
     "status": "completed"
    },
    "tags": []
   },
   "source": [
    "### Let us create a `Config` class, to store important parameters. \n",
    "This class essentially plays the role of a dictionary."
   ]
  },
  {
   "cell_type": "code",
   "execution_count": 15,
   "metadata": {
    "execution": {
     "iopub.execute_input": "2020-11-20T00:07:24.799292Z",
     "iopub.status.busy": "2020-11-20T00:07:24.798176Z",
     "iopub.status.idle": "2020-11-20T00:07:24.809163Z",
     "shell.execute_reply": "2020-11-20T00:07:24.808525Z"
    },
    "papermill": {
     "duration": 0.057325,
     "end_time": "2020-11-20T00:07:24.809317",
     "exception": false,
     "start_time": "2020-11-20T00:07:24.751992",
     "status": "completed"
    },
    "tags": []
   },
   "outputs": [],
   "source": [
    "class Config:\n",
    "    pass\n",
    "config = Config()\n",
    "config.lr = 0.001\n",
    "config.num_epochs = 251\n",
    "config.bs = 50"
   ]
  },
  {
   "cell_type": "markdown",
   "metadata": {
    "papermill": {
     "duration": 0.035611,
     "end_time": "2020-11-20T00:07:24.881206",
     "exception": false,
     "start_time": "2020-11-20T00:07:24.845595",
     "status": "completed"
    },
    "tags": []
   },
   "source": [
    "### Initializing data to the variables"
   ]
  },
  {
   "cell_type": "code",
   "execution_count": 16,
   "metadata": {
    "execution": {
     "iopub.execute_input": "2020-11-20T00:07:24.961918Z",
     "iopub.status.busy": "2020-11-20T00:07:24.959317Z",
     "iopub.status.idle": "2020-11-20T00:07:24.974208Z",
     "shell.execute_reply": "2020-11-20T00:07:24.973599Z"
    },
    "papermill": {
     "duration": 0.058363,
     "end_time": "2020-11-20T00:07:24.974382",
     "exception": false,
     "start_time": "2020-11-20T00:07:24.916019",
     "status": "completed"
    },
    "tags": []
   },
   "outputs": [],
   "source": [
    "data = Data(X_train, y_train.reshape(-1,1))\n",
    "sampler = Sampler(data, config.bs, shuffle=True)\n",
    "\n",
    "dl = Dataloader(data, sampler)\n",
    "\n",
    "opt = GD(config.lr)\n",
    "loss = MSE()"
   ]
  },
  {
   "cell_type": "code",
   "execution_count": 17,
   "metadata": {
    "execution": {
     "iopub.execute_input": "2020-11-20T00:07:25.054192Z",
     "iopub.status.busy": "2020-11-20T00:07:25.053484Z",
     "iopub.status.idle": "2020-11-20T00:07:25.068915Z",
     "shell.execute_reply": "2020-11-20T00:07:25.069480Z"
    },
    "papermill": {
     "duration": 0.060187,
     "end_time": "2020-11-20T00:07:25.069663",
     "exception": false,
     "start_time": "2020-11-20T00:07:25.009476",
     "status": "completed"
    },
    "tags": []
   },
   "outputs": [],
   "source": [
    "training_xdata = X_train\n",
    "testing_xdata = X_test\n",
    "training_ydata = y_train.reshape(-1,1)\n",
    "testing_ydata = y_test.reshape(-1,1)"
   ]
  },
  {
   "cell_type": "markdown",
   "metadata": {
    "papermill": {
     "duration": 0.033739,
     "end_time": "2020-11-20T00:07:25.139035",
     "exception": false,
     "start_time": "2020-11-20T00:07:25.105296",
     "status": "completed"
    },
    "tags": []
   },
   "source": [
    "### Running Models with the Training data\n",
    "Details about the network layers:\n",
    "- A first affine layer has 784 inputs and does 100 affine transforms. These are followed by a Relu\n",
    "- A second affine layer has 100 inputs from the 100 activations of the past layer, and does 100 affine transforms. These are followed by a Relu\n",
    "- A third affine layer has 100 activations and does 2 affine transformations to create an embedding for visualization. There is no non-linearity here.\n",
    "- A final \"logistic regression\" which has an affine transform from 2 inputs to 1 output, which is squeezed through a sigmoid.\n",
    "\n",
    "Help taken from Anshuman's Notebook."
   ]
  },
  {
   "cell_type": "code",
   "execution_count": 18,
   "metadata": {
    "execution": {
     "iopub.execute_input": "2020-11-20T00:07:25.215984Z",
     "iopub.status.busy": "2020-11-20T00:07:25.215302Z",
     "iopub.status.idle": "2020-11-20T00:07:25.234890Z",
     "shell.execute_reply": "2020-11-20T00:07:25.234290Z"
    },
    "papermill": {
     "duration": 0.06134,
     "end_time": "2020-11-20T00:07:25.235049",
     "exception": false,
     "start_time": "2020-11-20T00:07:25.173709",
     "status": "completed"
    },
    "tags": []
   },
   "outputs": [],
   "source": [
    "# layers for the Neural Network\n",
    "layers = [Affine(\"first\", 784, 100), Relu(\"first\"), Affine(\"second\", 100, 100), Relu(\"second\"), Affine(\"third\", 100, 2), Affine(\"final\", 2, 1), Sigmoid(\"final\")]\n",
    "model_nn = Model(layers)\n",
    "\n",
    "# layers for the Logistic Regression\n",
    "layers_lr = [Affine(\"logits\", 784, 1), Sigmoid(\"sigmoid\")]\n",
    "model_lr = Model(layers_lr)"
   ]
  },
  {
   "cell_type": "code",
   "execution_count": 19,
   "metadata": {
    "execution": {
     "iopub.execute_input": "2020-11-20T00:07:25.309805Z",
     "iopub.status.busy": "2020-11-20T00:07:25.309085Z",
     "iopub.status.idle": "2020-11-20T00:07:25.324838Z",
     "shell.execute_reply": "2020-11-20T00:07:25.325406Z"
    },
    "papermill": {
     "duration": 0.056114,
     "end_time": "2020-11-20T00:07:25.325618",
     "exception": false,
     "start_time": "2020-11-20T00:07:25.269504",
     "status": "completed"
    },
    "tags": []
   },
   "outputs": [],
   "source": [
    "# suffix _nn stands for Neural Network.\n",
    "learner_nn = Learner(loss, model_nn, opt, config.num_epochs)\n",
    "acc_nn = ClfCallback(learner_nn, config.bs, training_xdata , testing_xdata, training_ydata, testing_ydata)\n",
    "learner_nn.set_callbacks([acc_nn])"
   ]
  },
  {
   "cell_type": "code",
   "execution_count": 20,
   "metadata": {
    "execution": {
     "iopub.execute_input": "2020-11-20T00:07:25.402056Z",
     "iopub.status.busy": "2020-11-20T00:07:25.401335Z",
     "iopub.status.idle": "2020-11-20T00:09:42.373336Z",
     "shell.execute_reply": "2020-11-20T00:09:42.374201Z"
    },
    "papermill": {
     "duration": 137.013025,
     "end_time": "2020-11-20T00:09:42.374381",
     "exception": false,
     "start_time": "2020-11-20T00:07:25.361356",
     "status": "completed"
    },
    "tags": []
   },
   "outputs": [
    {
     "name": "stdout",
     "output_type": "stream",
     "text": [
      "====== Neural Network ======\n"
     ]
    },
    {
     "name": "stdout",
     "output_type": "stream",
     "text": [
      "Epoch 0, Loss 0.2476\n",
      "Training Accuracy: 0.5255, Testing Accuracy: 0.5302\n",
      "\n"
     ]
    },
    {
     "name": "stdout",
     "output_type": "stream",
     "text": [
      "Epoch 10, Loss 0.2167\n",
      "Training Accuracy: 0.8570, Testing Accuracy: 0.8629\n",
      "\n"
     ]
    },
    {
     "name": "stdout",
     "output_type": "stream",
     "text": [
      "Epoch 20, Loss 0.1194\n",
      "Training Accuracy: 0.9020, Testing Accuracy: 0.9062\n",
      "\n"
     ]
    },
    {
     "name": "stdout",
     "output_type": "stream",
     "text": [
      "Epoch 30, Loss 0.069\n",
      "Training Accuracy: 0.9297, Testing Accuracy: 0.9330\n",
      "\n"
     ]
    },
    {
     "name": "stdout",
     "output_type": "stream",
     "text": [
      "Epoch 40, Loss 0.052\n",
      "Training Accuracy: 0.9416, Testing Accuracy: 0.9476\n",
      "\n"
     ]
    },
    {
     "name": "stdout",
     "output_type": "stream",
     "text": [
      "Epoch 50, Loss 0.0437\n",
      "Training Accuracy: 0.9502, Testing Accuracy: 0.9541\n",
      "\n"
     ]
    },
    {
     "name": "stdout",
     "output_type": "stream",
     "text": [
      "Epoch 60, Loss 0.0389\n",
      "Training Accuracy: 0.9547, Testing Accuracy: 0.9602\n",
      "\n"
     ]
    },
    {
     "name": "stdout",
     "output_type": "stream",
     "text": [
      "Epoch 70, Loss 0.0358\n",
      "Training Accuracy: 0.9578, Testing Accuracy: 0.9632\n",
      "\n"
     ]
    },
    {
     "name": "stdout",
     "output_type": "stream",
     "text": [
      "Epoch 80, Loss 0.0335\n",
      "Training Accuracy: 0.9607, Testing Accuracy: 0.9652\n",
      "\n"
     ]
    },
    {
     "name": "stdout",
     "output_type": "stream",
     "text": [
      "Epoch 90, Loss 0.0317\n",
      "Training Accuracy: 0.9634, Testing Accuracy: 0.9652\n",
      "\n"
     ]
    },
    {
     "name": "stdout",
     "output_type": "stream",
     "text": [
      "Epoch 100, Loss 0.0303\n",
      "Training Accuracy: 0.9642, Testing Accuracy: 0.9657\n",
      "\n"
     ]
    },
    {
     "name": "stdout",
     "output_type": "stream",
     "text": [
      "Epoch 110, Loss 0.0291\n",
      "Training Accuracy: 0.9654, Testing Accuracy: 0.9682\n",
      "\n"
     ]
    },
    {
     "name": "stdout",
     "output_type": "stream",
     "text": [
      "Epoch 120, Loss 0.0281\n",
      "Training Accuracy: 0.9669, Testing Accuracy: 0.9682\n",
      "\n"
     ]
    },
    {
     "name": "stdout",
     "output_type": "stream",
     "text": [
      "Epoch 130, Loss 0.0272\n",
      "Training Accuracy: 0.9680, Testing Accuracy: 0.9688\n",
      "\n"
     ]
    },
    {
     "name": "stdout",
     "output_type": "stream",
     "text": [
      "Epoch 140, Loss 0.0264\n",
      "Training Accuracy: 0.9696, Testing Accuracy: 0.9693\n",
      "\n"
     ]
    },
    {
     "name": "stdout",
     "output_type": "stream",
     "text": [
      "Epoch 150, Loss 0.0257\n",
      "Training Accuracy: 0.9703, Testing Accuracy: 0.9703\n",
      "\n"
     ]
    },
    {
     "name": "stdout",
     "output_type": "stream",
     "text": [
      "Epoch 160, Loss 0.025\n",
      "Training Accuracy: 0.9710, Testing Accuracy: 0.9688\n",
      "\n"
     ]
    },
    {
     "name": "stdout",
     "output_type": "stream",
     "text": [
      "Epoch 170, Loss 0.0244\n",
      "Training Accuracy: 0.9720, Testing Accuracy: 0.9698\n",
      "\n"
     ]
    },
    {
     "name": "stdout",
     "output_type": "stream",
     "text": [
      "Epoch 180, Loss 0.0239\n",
      "Training Accuracy: 0.9725, Testing Accuracy: 0.9698\n",
      "\n"
     ]
    },
    {
     "name": "stdout",
     "output_type": "stream",
     "text": [
      "Epoch 190, Loss 0.0233\n",
      "Training Accuracy: 0.9733, Testing Accuracy: 0.9698\n",
      "\n"
     ]
    },
    {
     "name": "stdout",
     "output_type": "stream",
     "text": [
      "Epoch 200, Loss 0.0228\n",
      "Training Accuracy: 0.9740, Testing Accuracy: 0.9713\n",
      "\n"
     ]
    },
    {
     "name": "stdout",
     "output_type": "stream",
     "text": [
      "Epoch 210, Loss 0.0224\n",
      "Training Accuracy: 0.9742, Testing Accuracy: 0.9718\n",
      "\n"
     ]
    },
    {
     "name": "stdout",
     "output_type": "stream",
     "text": [
      "Epoch 220, Loss 0.0219\n",
      "Training Accuracy: 0.9746, Testing Accuracy: 0.9718\n",
      "\n"
     ]
    },
    {
     "name": "stdout",
     "output_type": "stream",
     "text": [
      "Epoch 230, Loss 0.0215\n",
      "Training Accuracy: 0.9755, Testing Accuracy: 0.9723\n",
      "\n"
     ]
    },
    {
     "name": "stdout",
     "output_type": "stream",
     "text": [
      "Epoch 240, Loss 0.0211\n",
      "Training Accuracy: 0.9760, Testing Accuracy: 0.9728\n",
      "\n"
     ]
    },
    {
     "name": "stdout",
     "output_type": "stream",
     "text": [
      "Epoch 250, Loss 0.0207\n",
      "Training Accuracy: 0.9765, Testing Accuracy: 0.9728\n",
      "\n"
     ]
    },
    {
     "data": {
      "text/plain": [
       "0.01863170812629305"
      ]
     },
     "execution_count": 20,
     "metadata": {},
     "output_type": "execute_result"
    }
   ],
   "source": [
    "print(\"====== Neural Network ======\")\n",
    "learner_nn.train_loop(dl)"
   ]
  },
  {
   "cell_type": "markdown",
   "metadata": {
    "papermill": {
     "duration": 0.040755,
     "end_time": "2020-11-20T00:09:42.457641",
     "exception": false,
     "start_time": "2020-11-20T00:09:42.416886",
     "status": "completed"
    },
    "tags": []
   },
   "source": [
    "### Logistic Regression based Implementation."
   ]
  },
  {
   "cell_type": "code",
   "execution_count": 21,
   "metadata": {
    "execution": {
     "iopub.execute_input": "2020-11-20T00:09:42.548717Z",
     "iopub.status.busy": "2020-11-20T00:09:42.548006Z",
     "iopub.status.idle": "2020-11-20T00:09:42.561157Z",
     "shell.execute_reply": "2020-11-20T00:09:42.561804Z"
    },
    "papermill": {
     "duration": 0.062451,
     "end_time": "2020-11-20T00:09:42.561972",
     "exception": false,
     "start_time": "2020-11-20T00:09:42.499521",
     "status": "completed"
    },
    "tags": []
   },
   "outputs": [],
   "source": [
    "learner_lr = Learner(loss, model_lr, opt, config.num_epochs)\n",
    "acc_lr = ClfCallback(learner_lr, config.bs, training_xdata , testing_xdata, training_ydata, testing_ydata)\n",
    "learner_lr.set_callbacks([acc_lr])"
   ]
  },
  {
   "cell_type": "code",
   "execution_count": 22,
   "metadata": {
    "execution": {
     "iopub.execute_input": "2020-11-20T00:09:42.656925Z",
     "iopub.status.busy": "2020-11-20T00:09:42.656092Z",
     "iopub.status.idle": "2020-11-20T00:10:02.966385Z",
     "shell.execute_reply": "2020-11-20T00:10:02.967281Z"
    },
    "papermill": {
     "duration": 20.363306,
     "end_time": "2020-11-20T00:10:02.967460",
     "exception": false,
     "start_time": "2020-11-20T00:09:42.604154",
     "status": "completed"
    },
    "tags": []
   },
   "outputs": [
    {
     "name": "stdout",
     "output_type": "stream",
     "text": [
      "====== Logistic Regression ======\n",
      "Epoch 0, Loss 0.2791\n",
      "Training Accuracy: 0.5128, Testing Accuracy: 0.4814\n",
      "\n"
     ]
    },
    {
     "name": "stdout",
     "output_type": "stream",
     "text": [
      "Epoch 10, Loss 0.1043\n",
      "Training Accuracy: 0.9160, Testing Accuracy: 0.9214\n",
      "\n"
     ]
    },
    {
     "name": "stdout",
     "output_type": "stream",
     "text": [
      "Epoch 20, Loss 0.0795\n",
      "Training Accuracy: 0.9302, Testing Accuracy: 0.9385\n",
      "\n"
     ]
    },
    {
     "name": "stdout",
     "output_type": "stream",
     "text": [
      "Epoch 30, Loss 0.0685\n",
      "Training Accuracy: 0.9364, Testing Accuracy: 0.9491\n",
      "\n"
     ]
    },
    {
     "name": "stdout",
     "output_type": "stream",
     "text": [
      "Epoch 40, Loss 0.0619\n",
      "Training Accuracy: 0.9406, Testing Accuracy: 0.9541\n",
      "\n"
     ]
    },
    {
     "name": "stdout",
     "output_type": "stream",
     "text": [
      "Epoch 50, Loss 0.0574\n",
      "Training Accuracy: 0.9433, Testing Accuracy: 0.9561\n",
      "\n"
     ]
    },
    {
     "name": "stdout",
     "output_type": "stream",
     "text": [
      "Epoch 60, Loss 0.0541\n",
      "Training Accuracy: 0.9449, Testing Accuracy: 0.9577\n",
      "\n"
     ]
    },
    {
     "name": "stdout",
     "output_type": "stream",
     "text": [
      "Epoch 70, Loss 0.0516\n",
      "Training Accuracy: 0.9464, Testing Accuracy: 0.9602\n",
      "\n"
     ]
    },
    {
     "name": "stdout",
     "output_type": "stream",
     "text": [
      "Epoch 80, Loss 0.0496\n",
      "Training Accuracy: 0.9489, Testing Accuracy: 0.9607\n",
      "\n"
     ]
    },
    {
     "name": "stdout",
     "output_type": "stream",
     "text": [
      "Epoch 90, Loss 0.0479\n",
      "Training Accuracy: 0.9503, Testing Accuracy: 0.9607\n",
      "\n"
     ]
    },
    {
     "name": "stdout",
     "output_type": "stream",
     "text": [
      "Epoch 100, Loss 0.0465\n",
      "Training Accuracy: 0.9512, Testing Accuracy: 0.9612\n",
      "\n"
     ]
    },
    {
     "name": "stdout",
     "output_type": "stream",
     "text": [
      "Epoch 110, Loss 0.0452\n",
      "Training Accuracy: 0.9521, Testing Accuracy: 0.9617\n",
      "\n"
     ]
    },
    {
     "name": "stdout",
     "output_type": "stream",
     "text": [
      "Epoch 120, Loss 0.0442\n",
      "Training Accuracy: 0.9532, Testing Accuracy: 0.9617\n",
      "\n"
     ]
    },
    {
     "name": "stdout",
     "output_type": "stream",
     "text": [
      "Epoch 130, Loss 0.0433\n",
      "Training Accuracy: 0.9536, Testing Accuracy: 0.9627\n",
      "\n"
     ]
    },
    {
     "name": "stdout",
     "output_type": "stream",
     "text": [
      "Epoch 140, Loss 0.0424\n",
      "Training Accuracy: 0.9542, Testing Accuracy: 0.9637\n",
      "\n"
     ]
    },
    {
     "name": "stdout",
     "output_type": "stream",
     "text": [
      "Epoch 150, Loss 0.0417\n",
      "Training Accuracy: 0.9549, Testing Accuracy: 0.9637\n",
      "\n"
     ]
    },
    {
     "name": "stdout",
     "output_type": "stream",
     "text": [
      "Epoch 160, Loss 0.041\n",
      "Training Accuracy: 0.9557, Testing Accuracy: 0.9647\n",
      "\n"
     ]
    },
    {
     "name": "stdout",
     "output_type": "stream",
     "text": [
      "Epoch 170, Loss 0.0404\n",
      "Training Accuracy: 0.9569, Testing Accuracy: 0.9652\n",
      "\n"
     ]
    },
    {
     "name": "stdout",
     "output_type": "stream",
     "text": [
      "Epoch 180, Loss 0.0398\n",
      "Training Accuracy: 0.9574, Testing Accuracy: 0.9662\n",
      "\n"
     ]
    },
    {
     "name": "stdout",
     "output_type": "stream",
     "text": [
      "Epoch 190, Loss 0.0393\n",
      "Training Accuracy: 0.9580, Testing Accuracy: 0.9672\n",
      "\n"
     ]
    },
    {
     "name": "stdout",
     "output_type": "stream",
     "text": [
      "Epoch 200, Loss 0.0388\n",
      "Training Accuracy: 0.9583, Testing Accuracy: 0.9667\n",
      "\n"
     ]
    },
    {
     "name": "stdout",
     "output_type": "stream",
     "text": [
      "Epoch 210, Loss 0.0384\n",
      "Training Accuracy: 0.9589, Testing Accuracy: 0.9667\n",
      "\n"
     ]
    },
    {
     "name": "stdout",
     "output_type": "stream",
     "text": [
      "Epoch 220, Loss 0.038\n",
      "Training Accuracy: 0.9594, Testing Accuracy: 0.9667\n",
      "\n"
     ]
    },
    {
     "name": "stdout",
     "output_type": "stream",
     "text": [
      "Epoch 230, Loss 0.0376\n",
      "Training Accuracy: 0.9597, Testing Accuracy: 0.9672\n",
      "\n"
     ]
    },
    {
     "name": "stdout",
     "output_type": "stream",
     "text": [
      "Epoch 240, Loss 0.0372\n",
      "Training Accuracy: 0.9601, Testing Accuracy: 0.9672\n",
      "\n"
     ]
    },
    {
     "name": "stdout",
     "output_type": "stream",
     "text": [
      "Epoch 250, Loss 0.0369\n",
      "Training Accuracy: 0.9607, Testing Accuracy: 0.9672\n",
      "\n"
     ]
    },
    {
     "data": {
      "text/plain": [
       "0.011106412774517124"
      ]
     },
     "execution_count": 22,
     "metadata": {},
     "output_type": "execute_result"
    }
   ],
   "source": [
    "print(\"====== Logistic Regression ======\")\n",
    "learner_lr.train_loop(dl)"
   ]
  },
  {
   "cell_type": "markdown",
   "metadata": {
    "papermill": {
     "duration": 0.050993,
     "end_time": "2020-11-20T00:10:03.070880",
     "exception": false,
     "start_time": "2020-11-20T00:10:03.019887",
     "status": "completed"
    },
    "tags": []
   },
   "source": [
    "### Comparing results of NN and LR"
   ]
  },
  {
   "cell_type": "code",
   "execution_count": 23,
   "metadata": {
    "execution": {
     "iopub.execute_input": "2020-11-20T00:10:03.183166Z",
     "iopub.status.busy": "2020-11-20T00:10:03.182475Z",
     "iopub.status.idle": "2020-11-20T00:10:03.469364Z",
     "shell.execute_reply": "2020-11-20T00:10:03.468772Z"
    },
    "papermill": {
     "duration": 0.347628,
     "end_time": "2020-11-20T00:10:03.469513",
     "exception": false,
     "start_time": "2020-11-20T00:10:03.121885",
     "status": "completed"
    },
    "tags": []
   },
   "outputs": [
    {
     "data": {
      "text/plain": [
       "<matplotlib.legend.Legend at 0x7f485fad39e8>"
      ]
     },
     "execution_count": 23,
     "metadata": {},
     "output_type": "execute_result"
    },
    {
     "data": {
      "image/png": "[encoded data removed]",
      "text/plain": [
       "<Figure size 1080x720 with 1 Axes>"
      ]
     },
     "metadata": {
      "needs_background": "light"
     },
     "output_type": "display_data"
    }
   ],
   "source": [
    "plt.figure(figsize=(15,10))\n",
    "\n",
    "# Neural Network plots\n",
    "plt.plot(acc_nn.accuracies, 'r-', label = \"Training Accuracies - NN\")\n",
    "plt.plot(acc_nn.test_accuracies, 'g-', label = \"Testing Accuracies - NN\")\n",
    "\n",
    "# Logistic Regression plots\n",
    "plt.plot(acc_lr.accuracies, 'k-', label = \"Training Accuracies - LR\")\n",
    "plt.plot(acc_lr.test_accuracies, 'b-', label = \"Testing Accuracies - LR\")\n",
    "\n",
    "plt.ylim(0.8, 1)\n",
    "\n",
    "plt.legend()\n",
    "\n"
   ]
  },
  {
   "cell_type": "markdown",
   "metadata": {
    "papermill": {
     "duration": 0.054958,
     "end_time": "2020-11-20T00:10:03.579233",
     "exception": false,
     "start_time": "2020-11-20T00:10:03.524275",
     "status": "completed"
    },
    "tags": []
   },
   "source": [
    "### From the plot, we can observe the following:\n",
    "- Neural Network achieves higher accuracy than the Logistic Regression model.\n",
    "- This apparently, is because of overfitting, i.e. NN captures more noise than data.\n",
    "- Testing accuracy of NN drops below the Training accuracy at higher epochs. This explains the over-fitting on training data.\n",
    "- Logistic Regression gives a reliable accuracy, without the above mentioned problem.\n"
   ]
  },
  {
   "cell_type": "markdown",
   "metadata": {
    "papermill": {
     "duration": 0.056255,
     "end_time": "2020-11-20T00:10:03.690109",
     "exception": false,
     "start_time": "2020-11-20T00:10:03.633854",
     "status": "completed"
    },
    "tags": []
   },
   "source": [
    "### Moving till the last but one layer (excluding it).\n",
    "#### Plotting the outputs of this layer of the NN."
   ]
  },
  {
   "cell_type": "code",
   "execution_count": 24,
   "metadata": {
    "execution": {
     "iopub.execute_input": "2020-11-20T00:10:03.815057Z",
     "iopub.status.busy": "2020-11-20T00:10:03.807723Z",
     "iopub.status.idle": "2020-11-20T00:10:03.821640Z",
     "shell.execute_reply": "2020-11-20T00:10:03.821042Z"
    },
    "papermill": {
     "duration": 0.075025,
     "end_time": "2020-11-20T00:10:03.821814",
     "exception": false,
     "start_time": "2020-11-20T00:10:03.746789",
     "status": "completed"
    },
    "tags": []
   },
   "outputs": [],
   "source": [
    "model_new = Model(layers[:-2])"
   ]
  },
  {
   "cell_type": "code",
   "execution_count": 25,
   "metadata": {
    "execution": {
     "iopub.execute_input": "2020-11-20T00:10:03.935402Z",
     "iopub.status.busy": "2020-11-20T00:10:03.934743Z",
     "iopub.status.idle": "2020-11-20T00:10:03.962763Z",
     "shell.execute_reply": "2020-11-20T00:10:03.963556Z"
    },
    "papermill": {
     "duration": 0.086968,
     "end_time": "2020-11-20T00:10:03.963739",
     "exception": false,
     "start_time": "2020-11-20T00:10:03.876771",
     "status": "completed"
    },
    "tags": []
   },
   "outputs": [],
   "source": [
    "plot_testing = model_new(testing_xdata)"
   ]
  },
  {
   "cell_type": "code",
   "execution_count": 26,
   "metadata": {
    "execution": {
     "iopub.execute_input": "2020-11-20T00:10:04.111133Z",
     "iopub.status.busy": "2020-11-20T00:10:04.088686Z",
     "iopub.status.idle": "2020-11-20T00:10:04.344611Z",
     "shell.execute_reply": "2020-11-20T00:10:04.345172Z"
    },
    "papermill": {
     "duration": 0.326554,
     "end_time": "2020-11-20T00:10:04.345353",
     "exception": false,
     "start_time": "2020-11-20T00:10:04.018799",
     "status": "completed"
    },
    "tags": []
   },
   "outputs": [
    {
     "data": {
      "text/plain": [
       "Text(0.5, 1.0, 'Outputs')"
      ]
     },
     "execution_count": 26,
     "metadata": {},
     "output_type": "execute_result"
    },
    {
     "data": {
      "image/png": "[encoded data removed]",
      "text/plain": [
       "<Figure size 576x504 with 1 Axes>"
      ]
     },
     "metadata": {
      "needs_background": "light"
     },
     "output_type": "display_data"
    }
   ],
   "source": [
    "plt.figure(figsize=(8,7))\n",
    "plt.scatter(plot_testing[:,0], plot_testing[:,1], alpha = 0.1, c = y_test.ravel());\n",
    "plt.title('Outputs')"
   ]
  },
  {
   "cell_type": "markdown",
   "metadata": {
    "papermill": {
     "duration": 0.056045,
     "end_time": "2020-11-20T00:10:04.460983",
     "exception": false,
     "start_time": "2020-11-20T00:10:04.404938",
     "status": "completed"
    },
    "tags": []
   },
   "source": [
    "### Plotting probability contours"
   ]
  },
  {
   "cell_type": "code",
   "execution_count": 27,
   "metadata": {
    "execution": {
     "iopub.execute_input": "2020-11-20T00:10:04.579590Z",
     "iopub.status.busy": "2020-11-20T00:10:04.578868Z",
     "iopub.status.idle": "2020-11-20T00:10:04.592909Z",
     "shell.execute_reply": "2020-11-20T00:10:04.593914Z"
    },
    "papermill": {
     "duration": 0.076999,
     "end_time": "2020-11-20T00:10:04.594094",
     "exception": false,
     "start_time": "2020-11-20T00:10:04.517095",
     "status": "completed"
    },
    "tags": []
   },
   "outputs": [],
   "source": [
    "model_prob = Model(layers[-2:]) "
   ]
  },
  {
   "cell_type": "code",
   "execution_count": 28,
   "metadata": {
    "execution": {
     "iopub.execute_input": "2020-11-20T00:10:04.715038Z",
     "iopub.status.busy": "2020-11-20T00:10:04.714342Z",
     "iopub.status.idle": "2020-11-20T00:10:04.730767Z",
     "shell.execute_reply": "2020-11-20T00:10:04.731327Z"
    },
    "papermill": {
     "duration": 0.08025,
     "end_time": "2020-11-20T00:10:04.731519",
     "exception": false,
     "start_time": "2020-11-20T00:10:04.651269",
     "status": "completed"
    },
    "tags": []
   },
   "outputs": [],
   "source": [
    "# Adjust the x and y ranges according to the above generated plot.\n",
    "x_range = np.linspace(-4, 1, 100) \n",
    "y_range = np.linspace(-6, 6, 100) \n",
    "x_grid, y_grid = np.meshgrid(x_range, y_range) # x_grid and y_grig are of size 100 X 100\n",
    "\n",
    "# converting x_grid and y_grid to continuous arrays\n",
    "x_grid_flat = np.ravel(x_grid)\n",
    "y_grid_flat = np.ravel(y_grid)\n",
    "\n",
    "# The last layer of the current model takes two columns as input. Hence transpose of np.vstack() is required.\n",
    "X = np.vstack((x_grid_flat, y_grid_flat)).T\n",
    "\n",
    "# x_grid and y_grid are of size 100 x 100\n",
    "probability_contour = model_prob(X).reshape(100,100) "
   ]
  },
  {
   "cell_type": "code",
   "execution_count": 29,
   "metadata": {
    "execution": {
     "iopub.execute_input": "2020-11-20T00:10:04.851315Z",
     "iopub.status.busy": "2020-11-20T00:10:04.850644Z",
     "iopub.status.idle": "2020-11-20T00:10:05.172530Z",
     "shell.execute_reply": "2020-11-20T00:10:05.171926Z"
    },
    "papermill": {
     "duration": 0.383117,
     "end_time": "2020-11-20T00:10:05.172683",
     "exception": false,
     "start_time": "2020-11-20T00:10:04.789566",
     "status": "completed"
    },
    "tags": []
   },
   "outputs": [
    {
     "data": {
      "image/png": "[encoded data removed]",
      "text/plain": [
       "<Figure size 720x648 with 1 Axes>"
      ]
     },
     "metadata": {
      "needs_background": "light"
     },
     "output_type": "display_data"
    }
   ],
   "source": [
    "plt.figure(figsize=(10,9))\n",
    "plt.scatter(plot_testing[:,0], plot_testing[:,1], alpha = 0.1, c = y_test.ravel())\n",
    "contours = plt.contour(x_grid,y_grid,probability_contour)\n",
    "plt.title('Probability Contours')\n",
    "plt.clabel(contours, inline = True );"
   ]
  }
 ],
 "metadata": {
  "kernelspec": {
   "display_name": "Python 3",
   "language": "python",
   "name": "python3"
  },
  "language_info": {
   "codemirror_mode": {
    "name": "ipython",
    "version": 3
   },
   "file_extension": ".py",
   "mimetype": "text/x-python",
   "name": "python",
   "nbconvert_exporter": "python",
   "pygments_lexer": "ipython3",
   "version": "3.6.12"
  },
  "papermill": {
   "duration": 169.030347,
   "end_time": "2020-11-20T00:10:05.667072",
   "environment_variables": {},
   "exception": null,
   "input_path": "2020-08-11-NeuralNetwork.ipynb",
   "output_path": "2020-08-11-NeuralNetwork.ipynb",
   "parameters": {},
   "start_time": "2020-11-20T00:07:16.636725",
   "version": "2.1.2"
  }
 },
 "nbformat": 4,
 "nbformat_minor": 4
}