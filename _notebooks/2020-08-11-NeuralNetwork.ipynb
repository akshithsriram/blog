{
 "cells": [
  {
   "cell_type": "markdown",
   "metadata": {
    "papermill": {
     "duration": 0.031854,
     "end_time": "2021-01-15T20:28:42.229535",
     "exception": false,
     "start_time": "2021-01-15T20:28:42.197681",
     "status": "completed"
    },
    "tags": []
   },
   "source": [
    "# \"A Basic Neural Network: Differentiate Hand-Written Digits\"\n",
    "\n",
    "- badges: true\n",
    "- author: Akshith Sriram"
   ]
  },
  {
   "cell_type": "markdown",
   "metadata": {
    "papermill": {
     "duration": 0.027115,
     "end_time": "2021-01-15T20:28:42.283553",
     "exception": false,
     "start_time": "2021-01-15T20:28:42.256438",
     "status": "completed"
    },
    "tags": []
   },
   "source": [
    "### Key Objectives:\n",
    "- Building a neural network that differentiates two hand-written digits 3 and 8.\n",
    "- Comparing the results of this Neural Network (NN) to that of a Logistic Regression (LR) model.\n",
    "\n",
    "### Requirements:\n",
    "- 'Kudzu' : A neural network library that was designed during our course by [Univ.AI](www.univ.ai). \n",
    "- MNIST Database\n",
    "\n",
    "If MNIST is not installed, use the command `!pip install mnist` given below.\n",
    "It can be run both from the command line and Jupyter Notebook."
   ]
  },
  {
   "cell_type": "code",
   "execution_count": 1,
   "metadata": {
    "execution": {
     "iopub.execute_input": "2021-01-15T20:28:42.346747Z",
     "iopub.status.busy": "2021-01-15T20:28:42.345870Z",
     "iopub.status.idle": "2021-01-15T20:28:43.960481Z",
     "shell.execute_reply": "2021-01-15T20:28:43.959948Z"
    },
    "papermill": {
     "duration": 1.651109,
     "end_time": "2021-01-15T20:28:43.960644",
     "exception": false,
     "start_time": "2021-01-15T20:28:42.309535",
     "status": "completed"
    },
    "tags": []
   },
   "outputs": [
    {
     "name": "stdout",
     "output_type": "stream",
     "text": [
      "Collecting mnist\r\n"
     ]
    },
    {
     "name": "stdout",
     "output_type": "stream",
     "text": [
      "  Downloading mnist-0.2.2-py2.py3-none-any.whl (3.5 kB)\r\n",
      "Requirement already satisfied: numpy in /opt/hostedtoolcache/Python/3.6.12/x64/lib/python3.6/site-packages (from mnist) (1.19.5)\r\n"
     ]
    },
    {
     "name": "stdout",
     "output_type": "stream",
     "text": [
      "Installing collected packages: mnist\r\n"
     ]
    },
    {
     "name": "stdout",
     "output_type": "stream",
     "text": [
      "Successfully installed mnist-0.2.2\r\n"
     ]
    }
   ],
   "source": [
    "!pip install mnist "
   ]
  },
  {
   "cell_type": "markdown",
   "metadata": {
    "papermill": {
     "duration": 0.029189,
     "end_time": "2021-01-15T20:28:44.017617",
     "exception": false,
     "start_time": "2021-01-15T20:28:43.988428",
     "status": "completed"
    },
    "tags": []
   },
   "source": [
    "#### Importing necessary libraries"
   ]
  },
  {
   "cell_type": "code",
   "execution_count": 2,
   "metadata": {
    "execution": {
     "iopub.execute_input": "2021-01-15T20:28:44.094893Z",
     "iopub.status.busy": "2021-01-15T20:28:44.092933Z",
     "iopub.status.idle": "2021-01-15T20:28:44.677470Z",
     "shell.execute_reply": "2021-01-15T20:28:44.676376Z"
    },
    "papermill": {
     "duration": 0.633004,
     "end_time": "2021-01-15T20:28:44.677623",
     "exception": false,
     "start_time": "2021-01-15T20:28:44.044619",
     "status": "completed"
    },
    "tags": []
   },
   "outputs": [],
   "source": [
    "%load_ext autoreload\n",
    "%autoreload 2\n",
    "\n",
    "%matplotlib inline\n",
    "import matplotlib.pyplot as plt\n",
    "\n",
    "import numpy as np\n",
    "import pandas as pd"
   ]
  },
  {
   "cell_type": "markdown",
   "metadata": {
    "papermill": {
     "duration": 0.026816,
     "end_time": "2021-01-15T20:28:44.731546",
     "exception": false,
     "start_time": "2021-01-15T20:28:44.704730",
     "status": "completed"
    },
    "tags": []
   },
   "source": [
    "### Preparing the Data"
   ]
  },
  {
   "cell_type": "code",
   "execution_count": 3,
   "metadata": {
    "execution": {
     "iopub.execute_input": "2021-01-15T20:28:44.795570Z",
     "iopub.status.busy": "2021-01-15T20:28:44.788800Z",
     "iopub.status.idle": "2021-01-15T20:28:44.800902Z",
     "shell.execute_reply": "2021-01-15T20:28:44.800420Z"
    },
    "papermill": {
     "duration": 0.042867,
     "end_time": "2021-01-15T20:28:44.801054",
     "exception": false,
     "start_time": "2021-01-15T20:28:44.758187",
     "status": "completed"
    },
    "tags": []
   },
   "outputs": [],
   "source": [
    "import mnist"
   ]
  },
  {
   "cell_type": "code",
   "execution_count": 4,
   "metadata": {
    "execution": {
     "iopub.execute_input": "2021-01-15T20:28:44.869002Z",
     "iopub.status.busy": "2021-01-15T20:28:44.868420Z",
     "iopub.status.idle": "2021-01-15T20:28:46.041211Z",
     "shell.execute_reply": "2021-01-15T20:28:46.041692Z"
    },
    "papermill": {
     "duration": 1.204877,
     "end_time": "2021-01-15T20:28:46.041862",
     "exception": false,
     "start_time": "2021-01-15T20:28:44.836985",
     "status": "completed"
    },
    "tags": []
   },
   "outputs": [],
   "source": [
    "train_images = mnist.train_images()\n",
    "train_labels = mnist.train_labels()"
   ]
  },
  {
   "cell_type": "code",
   "execution_count": 5,
   "metadata": {
    "execution": {
     "iopub.execute_input": "2021-01-15T20:28:46.117110Z",
     "iopub.status.busy": "2021-01-15T20:28:46.116507Z",
     "iopub.status.idle": "2021-01-15T20:28:46.143751Z",
     "shell.execute_reply": "2021-01-15T20:28:46.144291Z"
    },
    "papermill": {
     "duration": 0.069334,
     "end_time": "2021-01-15T20:28:46.144463",
     "exception": false,
     "start_time": "2021-01-15T20:28:46.075129",
     "status": "completed"
    },
    "tags": []
   },
   "outputs": [
    {
     "data": {
      "text/plain": [
       "((60000, 28, 28), (60000,))"
      ]
     },
     "execution_count": 5,
     "metadata": {},
     "output_type": "execute_result"
    }
   ],
   "source": [
    "train_images.shape, train_labels.shape"
   ]
  },
  {
   "cell_type": "code",
   "execution_count": 6,
   "metadata": {
    "execution": {
     "iopub.execute_input": "2021-01-15T20:28:46.210681Z",
     "iopub.status.busy": "2021-01-15T20:28:46.210061Z",
     "iopub.status.idle": "2021-01-15T20:28:46.793433Z",
     "shell.execute_reply": "2021-01-15T20:28:46.793953Z"
    },
    "papermill": {
     "duration": 0.614755,
     "end_time": "2021-01-15T20:28:46.794119",
     "exception": false,
     "start_time": "2021-01-15T20:28:46.179364",
     "status": "completed"
    },
    "tags": []
   },
   "outputs": [],
   "source": [
    "test_images = mnist.test_images()\n",
    "test_labels = mnist.test_labels()"
   ]
  },
  {
   "cell_type": "code",
   "execution_count": 7,
   "metadata": {
    "execution": {
     "iopub.execute_input": "2021-01-15T20:28:48.059561Z",
     "iopub.status.busy": "2021-01-15T20:28:48.058784Z",
     "iopub.status.idle": "2021-01-15T20:28:48.074372Z",
     "shell.execute_reply": "2021-01-15T20:28:48.074926Z"
    },
    "papermill": {
     "duration": 1.163319,
     "end_time": "2021-01-15T20:28:48.075086",
     "exception": false,
     "start_time": "2021-01-15T20:28:46.911767",
     "status": "completed"
    },
    "tags": []
   },
   "outputs": [
    {
     "data": {
      "text/plain": [
       "((10000, 28, 28), (10000,))"
      ]
     },
     "execution_count": 7,
     "metadata": {},
     "output_type": "execute_result"
    }
   ],
   "source": [
    "test_images.shape, test_labels.shape"
   ]
  },
  {
   "cell_type": "code",
   "execution_count": 8,
   "metadata": {
    "execution": {
     "iopub.execute_input": "2021-01-15T20:28:48.419054Z",
     "iopub.status.busy": "2021-01-15T20:28:48.418271Z",
     "iopub.status.idle": "2021-01-15T20:28:48.573405Z",
     "shell.execute_reply": "2021-01-15T20:28:48.572885Z"
    },
    "papermill": {
     "duration": 0.363723,
     "end_time": "2021-01-15T20:28:48.573540",
     "exception": false,
     "start_time": "2021-01-15T20:28:48.209817",
     "status": "completed"
    },
    "tags": []
   },
   "outputs": [
    {
     "name": "stdout",
     "output_type": "stream",
     "text": [
      "2\n"
     ]
    },
    {
     "data": {
      "text/plain": [
       "<matplotlib.image.AxesImage at 0x7ff1e530c5f8>"
      ]
     },
     "execution_count": 8,
     "metadata": {},
     "output_type": "execute_result"
    },
    {
     "data": {
      "image/png": "[encoded data removed]",
      "text/plain": [
       "<Figure size 432x288 with 1 Axes>"
      ]
     },
     "metadata": {
      "needs_background": "light"
     },
     "output_type": "display_data"
    }
   ],
   "source": [
    "image_index = 7776 # You may select anything up to 60,000\n",
    "print(train_labels[image_index]) \n",
    "plt.imshow(train_images[image_index], cmap='Greys')"
   ]
  },
  {
   "cell_type": "markdown",
   "metadata": {
    "papermill": {
     "duration": 0.028818,
     "end_time": "2021-01-15T20:28:48.631601",
     "exception": false,
     "start_time": "2021-01-15T20:28:48.602783",
     "status": "completed"
    },
    "tags": []
   },
   "source": [
    "## Filter data to get 3 and 8 out"
   ]
  },
  {
   "cell_type": "code",
   "execution_count": 9,
   "metadata": {
    "execution": {
     "iopub.execute_input": "2021-01-15T20:28:48.694742Z",
     "iopub.status.busy": "2021-01-15T20:28:48.694120Z",
     "iopub.status.idle": "2021-01-15T20:28:48.720156Z",
     "shell.execute_reply": "2021-01-15T20:28:48.719666Z"
    },
    "papermill": {
     "duration": 0.059774,
     "end_time": "2021-01-15T20:28:48.720293",
     "exception": false,
     "start_time": "2021-01-15T20:28:48.660519",
     "status": "completed"
    },
    "tags": []
   },
   "outputs": [],
   "source": [
    "train_filter = np.where((train_labels == 3 ) | (train_labels == 8))\n",
    "test_filter = np.where((test_labels == 3) | (test_labels == 8))\n",
    "X_train, y_train = train_images[train_filter], train_labels[train_filter]\n",
    "X_test, y_test = test_images[test_filter], test_labels[test_filter]"
   ]
  },
  {
   "cell_type": "markdown",
   "metadata": {
    "papermill": {
     "duration": 0.029755,
     "end_time": "2021-01-15T20:28:48.779640",
     "exception": false,
     "start_time": "2021-01-15T20:28:48.749885",
     "status": "completed"
    },
    "tags": []
   },
   "source": [
    "We normalize the pixel values in the 0 to 1 range"
   ]
  },
  {
   "cell_type": "code",
   "execution_count": 10,
   "metadata": {
    "execution": {
     "iopub.execute_input": "2021-01-15T20:28:48.841958Z",
     "iopub.status.busy": "2021-01-15T20:28:48.841378Z",
     "iopub.status.idle": "2021-01-15T20:28:48.905351Z",
     "shell.execute_reply": "2021-01-15T20:28:48.904402Z"
    },
    "papermill": {
     "duration": 0.09667,
     "end_time": "2021-01-15T20:28:48.905573",
     "exception": false,
     "start_time": "2021-01-15T20:28:48.808903",
     "status": "completed"
    },
    "tags": []
   },
   "outputs": [],
   "source": [
    "X_train = X_train/255.\n",
    "X_test = X_test/255."
   ]
  },
  {
   "cell_type": "markdown",
   "metadata": {
    "papermill": {
     "duration": 0.028942,
     "end_time": "2021-01-15T20:28:48.964141",
     "exception": false,
     "start_time": "2021-01-15T20:28:48.935199",
     "status": "completed"
    },
    "tags": []
   },
   "source": [
    "Setup the labels as 1 (when the digit is 3) and 0 (when the digit is 8)"
   ]
  },
  {
   "cell_type": "code",
   "execution_count": 11,
   "metadata": {
    "execution": {
     "iopub.execute_input": "2021-01-15T20:28:49.026846Z",
     "iopub.status.busy": "2021-01-15T20:28:49.026228Z",
     "iopub.status.idle": "2021-01-15T20:28:49.039200Z",
     "shell.execute_reply": "2021-01-15T20:28:49.038721Z"
    },
    "papermill": {
     "duration": 0.045765,
     "end_time": "2021-01-15T20:28:49.039333",
     "exception": false,
     "start_time": "2021-01-15T20:28:48.993568",
     "status": "completed"
    },
    "tags": []
   },
   "outputs": [],
   "source": [
    "y_train = 1*(y_train==3)\n",
    "y_test = 1*(y_test==3)"
   ]
  },
  {
   "cell_type": "code",
   "execution_count": 12,
   "metadata": {
    "execution": {
     "iopub.execute_input": "2021-01-15T20:28:49.110155Z",
     "iopub.status.busy": "2021-01-15T20:28:49.108701Z",
     "iopub.status.idle": "2021-01-15T20:28:49.124595Z",
     "shell.execute_reply": "2021-01-15T20:28:49.125072Z"
    },
    "papermill": {
     "duration": 0.055845,
     "end_time": "2021-01-15T20:28:49.125226",
     "exception": false,
     "start_time": "2021-01-15T20:28:49.069381",
     "status": "completed"
    },
    "tags": []
   },
   "outputs": [
    {
     "data": {
      "text/plain": [
       "((11982, 28, 28), (1984, 28, 28))"
      ]
     },
     "execution_count": 12,
     "metadata": {},
     "output_type": "execute_result"
    }
   ],
   "source": [
    "X_train.shape, X_test.shape"
   ]
  },
  {
   "cell_type": "markdown",
   "metadata": {
    "papermill": {
     "duration": 0.029448,
     "end_time": "2021-01-15T20:28:49.184319",
     "exception": false,
     "start_time": "2021-01-15T20:28:49.154871",
     "status": "completed"
    },
    "tags": []
   },
   "source": [
    "### Reshape the input data to create a linear array"
   ]
  },
  {
   "cell_type": "code",
   "execution_count": 13,
   "metadata": {
    "execution": {
     "iopub.execute_input": "2021-01-15T20:28:49.247992Z",
     "iopub.status.busy": "2021-01-15T20:28:49.247326Z",
     "iopub.status.idle": "2021-01-15T20:28:49.262220Z",
     "shell.execute_reply": "2021-01-15T20:28:49.261724Z"
    },
    "papermill": {
     "duration": 0.048545,
     "end_time": "2021-01-15T20:28:49.262416",
     "exception": false,
     "start_time": "2021-01-15T20:28:49.213871",
     "status": "completed"
    },
    "tags": []
   },
   "outputs": [
    {
     "data": {
      "text/plain": [
       "((11982, 784), (1984, 784))"
      ]
     },
     "execution_count": 13,
     "metadata": {},
     "output_type": "execute_result"
    }
   ],
   "source": [
    "X_train = X_train.reshape(X_train.shape[0], -1)\n",
    "X_test = X_test.reshape(X_test.shape[0], -1)\n",
    "X_train.shape, X_test.shape"
   ]
  },
  {
   "cell_type": "markdown",
   "metadata": {
    "papermill": {
     "duration": 0.035266,
     "end_time": "2021-01-15T20:28:49.327475",
     "exception": false,
     "start_time": "2021-01-15T20:28:49.292209",
     "status": "completed"
    },
    "tags": []
   },
   "source": [
    "### Importing appropriate functions from 'Kudzu'"
   ]
  },
  {
   "cell_type": "code",
   "execution_count": 14,
   "metadata": {
    "execution": {
     "iopub.execute_input": "2021-01-15T20:28:49.406154Z",
     "iopub.status.busy": "2021-01-15T20:28:49.405514Z",
     "iopub.status.idle": "2021-01-15T20:28:49.426452Z",
     "shell.execute_reply": "2021-01-15T20:28:49.425642Z"
    },
    "papermill": {
     "duration": 0.065509,
     "end_time": "2021-01-15T20:28:49.426618",
     "exception": false,
     "start_time": "2021-01-15T20:28:49.361109",
     "status": "completed"
    },
    "tags": []
   },
   "outputs": [],
   "source": [
    "from kudzu.layer import Sigmoid\n",
    "from kudzu.layer import Relu\n",
    "from kudzu.layer import Affine, Sigmoid\n",
    "\n",
    "from kudzu.model import Model\n",
    "from kudzu.train import Learner\n",
    "from kudzu.optim import GD\n",
    "from kudzu.data import Data, Dataloader, Sampler\n",
    "\n",
    "from kudzu.callbacks import AccCallback\n",
    "from kudzu.callbacks import ClfCallback\n",
    "\n",
    "from kudzu.loss import MSE"
   ]
  },
  {
   "cell_type": "markdown",
   "metadata": {
    "papermill": {
     "duration": 0.029218,
     "end_time": "2021-01-15T20:28:49.486869",
     "exception": false,
     "start_time": "2021-01-15T20:28:49.457651",
     "status": "completed"
    },
    "tags": []
   },
   "source": [
    "### Let us create a `Config` class, to store important parameters. \n",
    "This class essentially plays the role of a dictionary."
   ]
  },
  {
   "cell_type": "code",
   "execution_count": 15,
   "metadata": {
    "execution": {
     "iopub.execute_input": "2021-01-15T20:28:49.551897Z",
     "iopub.status.busy": "2021-01-15T20:28:49.551234Z",
     "iopub.status.idle": "2021-01-15T20:28:49.566219Z",
     "shell.execute_reply": "2021-01-15T20:28:49.570534Z"
    },
    "papermill": {
     "duration": 0.054137,
     "end_time": "2021-01-15T20:28:49.570711",
     "exception": false,
     "start_time": "2021-01-15T20:28:49.516574",
     "status": "completed"
    },
    "tags": []
   },
   "outputs": [],
   "source": [
    "class Config:\n",
    "    pass\n",
    "config = Config()\n",
    "config.lr = 0.001\n",
    "config.num_epochs = 251\n",
    "config.bs = 50"
   ]
  },
  {
   "cell_type": "markdown",
   "metadata": {
    "papermill": {
     "duration": 0.029692,
     "end_time": "2021-01-15T20:28:49.629961",
     "exception": false,
     "start_time": "2021-01-15T20:28:49.600269",
     "status": "completed"
    },
    "tags": []
   },
   "source": [
    "### Initializing data to the variables"
   ]
  },
  {
   "cell_type": "code",
   "execution_count": 16,
   "metadata": {
    "execution": {
     "iopub.execute_input": "2021-01-15T20:28:49.697125Z",
     "iopub.status.busy": "2021-01-15T20:28:49.696524Z",
     "iopub.status.idle": "2021-01-15T20:28:49.711087Z",
     "shell.execute_reply": "2021-01-15T20:28:49.710592Z"
    },
    "papermill": {
     "duration": 0.050129,
     "end_time": "2021-01-15T20:28:49.711229",
     "exception": false,
     "start_time": "2021-01-15T20:28:49.661100",
     "status": "completed"
    },
    "tags": []
   },
   "outputs": [],
   "source": [
    "data = Data(X_train, y_train.reshape(-1,1))\n",
    "sampler = Sampler(data, config.bs, shuffle=True)\n",
    "\n",
    "dl = Dataloader(data, sampler)\n",
    "\n",
    "opt = GD(config.lr)\n",
    "loss = MSE()"
   ]
  },
  {
   "cell_type": "code",
   "execution_count": 17,
   "metadata": {
    "execution": {
     "iopub.execute_input": "2021-01-15T20:28:49.782666Z",
     "iopub.status.busy": "2021-01-15T20:28:49.781748Z",
     "iopub.status.idle": "2021-01-15T20:28:49.794622Z",
     "shell.execute_reply": "2021-01-15T20:28:49.794079Z"
    },
    "papermill": {
     "duration": 0.053511,
     "end_time": "2021-01-15T20:28:49.794762",
     "exception": false,
     "start_time": "2021-01-15T20:28:49.741251",
     "status": "completed"
    },
    "tags": []
   },
   "outputs": [],
   "source": [
    "training_xdata = X_train\n",
    "testing_xdata = X_test\n",
    "training_ydata = y_train.reshape(-1,1)\n",
    "testing_ydata = y_test.reshape(-1,1)"
   ]
  },
  {
   "cell_type": "markdown",
   "metadata": {
    "papermill": {
     "duration": 0.045869,
     "end_time": "2021-01-15T20:28:49.877119",
     "exception": false,
     "start_time": "2021-01-15T20:28:49.831250",
     "status": "completed"
    },
    "tags": []
   },
   "source": [
    "### Running Models with the Training data\n",
    "Details about the network layers:\n",
    "- A first affine layer has 784 inputs and does 100 affine transforms. These are followed by a Relu\n",
    "- A second affine layer has 100 inputs from the 100 activations of the past layer, and does 100 affine transforms. These are followed by a Relu\n",
    "- A third affine layer has 100 activations and does 2 affine transformations to create an embedding for visualization. There is no non-linearity here.\n",
    "- A final \"logistic regression\" which has an affine transform from 2 inputs to 1 output, which is squeezed through a sigmoid.\n",
    "\n",
    "Help taken from Anshuman's Notebook."
   ]
  },
  {
   "cell_type": "code",
   "execution_count": 18,
   "metadata": {
    "execution": {
     "iopub.execute_input": "2021-01-15T20:28:49.948400Z",
     "iopub.status.busy": "2021-01-15T20:28:49.947638Z",
     "iopub.status.idle": "2021-01-15T20:28:49.969219Z",
     "shell.execute_reply": "2021-01-15T20:28:49.969871Z"
    },
    "papermill": {
     "duration": 0.059453,
     "end_time": "2021-01-15T20:28:49.970051",
     "exception": false,
     "start_time": "2021-01-15T20:28:49.910598",
     "status": "completed"
    },
    "tags": []
   },
   "outputs": [],
   "source": [
    "# layers for the Neural Network\n",
    "layers = [Affine(\"first\", 784, 100), Relu(\"first\"), Affine(\"second\", 100, 100), Relu(\"second\"), Affine(\"third\", 100, 2), Affine(\"final\", 2, 1), Sigmoid(\"final\")]\n",
    "model_nn = Model(layers)\n",
    "\n",
    "# layers for the Logistic Regression\n",
    "layers_lr = [Affine(\"logits\", 784, 1), Sigmoid(\"sigmoid\")]\n",
    "model_lr = Model(layers_lr)"
   ]
  },
  {
   "cell_type": "code",
   "execution_count": 19,
   "metadata": {
    "execution": {
     "iopub.execute_input": "2021-01-15T20:28:50.036599Z",
     "iopub.status.busy": "2021-01-15T20:28:50.036013Z",
     "iopub.status.idle": "2021-01-15T20:28:50.049438Z",
     "shell.execute_reply": "2021-01-15T20:28:50.048933Z"
    },
    "papermill": {
     "duration": 0.047914,
     "end_time": "2021-01-15T20:28:50.049569",
     "exception": false,
     "start_time": "2021-01-15T20:28:50.001655",
     "status": "completed"
    },
    "tags": []
   },
   "outputs": [],
   "source": [
    "# suffix _nn stands for Neural Network.\n",
    "learner_nn = Learner(loss, model_nn, opt, config.num_epochs)\n",
    "acc_nn = ClfCallback(learner_nn, config.bs, training_xdata , testing_xdata, training_ydata, testing_ydata)\n",
    "learner_nn.set_callbacks([acc_nn])"
   ]
  },
  {
   "cell_type": "code",
   "execution_count": 20,
   "metadata": {
    "execution": {
     "iopub.execute_input": "2021-01-15T20:28:50.112706Z",
     "iopub.status.busy": "2021-01-15T20:28:50.112055Z",
     "iopub.status.idle": "2021-01-15T20:30:27.908755Z",
     "shell.execute_reply": "2021-01-15T20:30:27.908268Z"
    },
    "papermill": {
     "duration": 97.830153,
     "end_time": "2021-01-15T20:30:27.908894",
     "exception": false,
     "start_time": "2021-01-15T20:28:50.078741",
     "status": "completed"
    },
    "tags": []
   },
   "outputs": [
    {
     "name": "stdout",
     "output_type": "stream",
     "text": [
      "====== Neural Network ======\n"
     ]
    },
    {
     "name": "stdout",
     "output_type": "stream",
     "text": [
      "Epoch 0, Loss 0.2568\n",
      "Training Accuracy: 0.4327, Testing Accuracy: 0.4476\n",
      "\n"
     ]
    },
    {
     "name": "stdout",
     "output_type": "stream",
     "text": [
      "Epoch 10, Loss 0.2033\n",
      "Training Accuracy: 0.8706, Testing Accuracy: 0.8861\n",
      "\n"
     ]
    },
    {
     "name": "stdout",
     "output_type": "stream",
     "text": [
      "Epoch 20, Loss 0.1042\n",
      "Training Accuracy: 0.9067, Testing Accuracy: 0.9229\n",
      "\n"
     ]
    },
    {
     "name": "stdout",
     "output_type": "stream",
     "text": [
      "Epoch 30, Loss 0.0655\n",
      "Training Accuracy: 0.9293, Testing Accuracy: 0.9456\n",
      "\n"
     ]
    },
    {
     "name": "stdout",
     "output_type": "stream",
     "text": [
      "Epoch 40, Loss 0.0509\n",
      "Training Accuracy: 0.9425, Testing Accuracy: 0.9531\n",
      "\n"
     ]
    },
    {
     "name": "stdout",
     "output_type": "stream",
     "text": [
      "Epoch 50, Loss 0.0433\n",
      "Training Accuracy: 0.9501, Testing Accuracy: 0.9582\n",
      "\n"
     ]
    },
    {
     "name": "stdout",
     "output_type": "stream",
     "text": [
      "Epoch 60, Loss 0.0388\n",
      "Training Accuracy: 0.9543, Testing Accuracy: 0.9622\n",
      "\n"
     ]
    },
    {
     "name": "stdout",
     "output_type": "stream",
     "text": [
      "Epoch 70, Loss 0.0358\n",
      "Training Accuracy: 0.9578, Testing Accuracy: 0.9637\n",
      "\n"
     ]
    },
    {
     "name": "stdout",
     "output_type": "stream",
     "text": [
      "Epoch 80, Loss 0.0336\n",
      "Training Accuracy: 0.9596, Testing Accuracy: 0.9667\n",
      "\n"
     ]
    },
    {
     "name": "stdout",
     "output_type": "stream",
     "text": [
      "Epoch 90, Loss 0.0319\n",
      "Training Accuracy: 0.9618, Testing Accuracy: 0.9677\n",
      "\n"
     ]
    },
    {
     "name": "stdout",
     "output_type": "stream",
     "text": [
      "Epoch 100, Loss 0.0305\n",
      "Training Accuracy: 0.9634, Testing Accuracy: 0.9677\n",
      "\n"
     ]
    },
    {
     "name": "stdout",
     "output_type": "stream",
     "text": [
      "Epoch 110, Loss 0.0294\n",
      "Training Accuracy: 0.9647, Testing Accuracy: 0.9677\n",
      "\n"
     ]
    },
    {
     "name": "stdout",
     "output_type": "stream",
     "text": [
      "Epoch 120, Loss 0.0283\n",
      "Training Accuracy: 0.9655, Testing Accuracy: 0.9693\n",
      "\n"
     ]
    },
    {
     "name": "stdout",
     "output_type": "stream",
     "text": [
      "Epoch 130, Loss 0.0274\n",
      "Training Accuracy: 0.9672, Testing Accuracy: 0.9693\n",
      "\n"
     ]
    },
    {
     "name": "stdout",
     "output_type": "stream",
     "text": [
      "Epoch 140, Loss 0.0266\n",
      "Training Accuracy: 0.9689, Testing Accuracy: 0.9693\n",
      "\n"
     ]
    },
    {
     "name": "stdout",
     "output_type": "stream",
     "text": [
      "Epoch 150, Loss 0.0259\n",
      "Training Accuracy: 0.9698, Testing Accuracy: 0.9693\n",
      "\n"
     ]
    },
    {
     "name": "stdout",
     "output_type": "stream",
     "text": [
      "Epoch 160, Loss 0.0253\n",
      "Training Accuracy: 0.9704, Testing Accuracy: 0.9703\n",
      "\n"
     ]
    },
    {
     "name": "stdout",
     "output_type": "stream",
     "text": [
      "Epoch 170, Loss 0.0247\n",
      "Training Accuracy: 0.9708, Testing Accuracy: 0.9708\n",
      "\n"
     ]
    },
    {
     "name": "stdout",
     "output_type": "stream",
     "text": [
      "Epoch 180, Loss 0.0241\n",
      "Training Accuracy: 0.9715, Testing Accuracy: 0.9703\n",
      "\n"
     ]
    },
    {
     "name": "stdout",
     "output_type": "stream",
     "text": [
      "Epoch 190, Loss 0.0236\n",
      "Training Accuracy: 0.9721, Testing Accuracy: 0.9703\n",
      "\n"
     ]
    },
    {
     "name": "stdout",
     "output_type": "stream",
     "text": [
      "Epoch 200, Loss 0.0231\n",
      "Training Accuracy: 0.9729, Testing Accuracy: 0.9713\n",
      "\n"
     ]
    },
    {
     "name": "stdout",
     "output_type": "stream",
     "text": [
      "Epoch 210, Loss 0.0226\n",
      "Training Accuracy: 0.9736, Testing Accuracy: 0.9708\n",
      "\n"
     ]
    },
    {
     "name": "stdout",
     "output_type": "stream",
     "text": [
      "Epoch 220, Loss 0.0221\n",
      "Training Accuracy: 0.9744, Testing Accuracy: 0.9708\n",
      "\n"
     ]
    },
    {
     "name": "stdout",
     "output_type": "stream",
     "text": [
      "Epoch 230, Loss 0.0217\n",
      "Training Accuracy: 0.9745, Testing Accuracy: 0.9713\n",
      "\n"
     ]
    },
    {
     "name": "stdout",
     "output_type": "stream",
     "text": [
      "Epoch 240, Loss 0.0213\n",
      "Training Accuracy: 0.9750, Testing Accuracy: 0.9713\n",
      "\n"
     ]
    },
    {
     "name": "stdout",
     "output_type": "stream",
     "text": [
      "Epoch 250, Loss 0.0209\n",
      "Training Accuracy: 0.9759, Testing Accuracy: 0.9708\n",
      "\n"
     ]
    },
    {
     "data": {
      "text/plain": [
       "0.015131974312989504"
      ]
     },
     "execution_count": 20,
     "metadata": {},
     "output_type": "execute_result"
    }
   ],
   "source": [
    "print(\"====== Neural Network ======\")\n",
    "learner_nn.train_loop(dl)"
   ]
  },
  {
   "cell_type": "markdown",
   "metadata": {
    "papermill": {
     "duration": 0.037486,
     "end_time": "2021-01-15T20:30:27.984355",
     "exception": false,
     "start_time": "2021-01-15T20:30:27.946869",
     "status": "completed"
    },
    "tags": []
   },
   "source": [
    "### Logistic Regression based Implementation."
   ]
  },
  {
   "cell_type": "code",
   "execution_count": 21,
   "metadata": {
    "execution": {
     "iopub.execute_input": "2021-01-15T20:30:28.065504Z",
     "iopub.status.busy": "2021-01-15T20:30:28.064882Z",
     "iopub.status.idle": "2021-01-15T20:30:28.079004Z",
     "shell.execute_reply": "2021-01-15T20:30:28.078439Z"
    },
    "papermill": {
     "duration": 0.057192,
     "end_time": "2021-01-15T20:30:28.079144",
     "exception": false,
     "start_time": "2021-01-15T20:30:28.021952",
     "status": "completed"
    },
    "tags": []
   },
   "outputs": [],
   "source": [
    "learner_lr = Learner(loss, model_lr, opt, config.num_epochs)\n",
    "acc_lr = ClfCallback(learner_lr, config.bs, training_xdata , testing_xdata, training_ydata, testing_ydata)\n",
    "learner_lr.set_callbacks([acc_lr])"
   ]
  },
  {
   "cell_type": "code",
   "execution_count": 22,
   "metadata": {
    "execution": {
     "iopub.execute_input": "2021-01-15T20:30:28.160937Z",
     "iopub.status.busy": "2021-01-15T20:30:28.160344Z",
     "iopub.status.idle": "2021-01-15T20:30:45.643477Z",
     "shell.execute_reply": "2021-01-15T20:30:45.644228Z"
    },
    "papermill": {
     "duration": 17.52731,
     "end_time": "2021-01-15T20:30:45.644397",
     "exception": false,
     "start_time": "2021-01-15T20:30:28.117087",
     "status": "completed"
    },
    "tags": []
   },
   "outputs": [
    {
     "name": "stdout",
     "output_type": "stream",
     "text": [
      "====== Logistic Regression ======\n",
      "Epoch 0, Loss 0.2439\n",
      "Training Accuracy: 0.6782, Testing Accuracy: 0.6830\n",
      "\n"
     ]
    },
    {
     "name": "stdout",
     "output_type": "stream",
     "text": [
      "Epoch 10, Loss 0.1016\n",
      "Training Accuracy: 0.9173, Testing Accuracy: 0.9279\n",
      "\n"
     ]
    },
    {
     "name": "stdout",
     "output_type": "stream",
     "text": [
      "Epoch 20, Loss 0.0782\n",
      "Training Accuracy: 0.9310, Testing Accuracy: 0.9441\n",
      "\n"
     ]
    },
    {
     "name": "stdout",
     "output_type": "stream",
     "text": [
      "Epoch 30, Loss 0.0676\n",
      "Training Accuracy: 0.9382, Testing Accuracy: 0.9511\n",
      "\n"
     ]
    },
    {
     "name": "stdout",
     "output_type": "stream",
     "text": [
      "Epoch 40, Loss 0.0613\n",
      "Training Accuracy: 0.9426, Testing Accuracy: 0.9561\n",
      "\n"
     ]
    },
    {
     "name": "stdout",
     "output_type": "stream",
     "text": [
      "Epoch 50, Loss 0.057\n",
      "Training Accuracy: 0.9453, Testing Accuracy: 0.9582\n",
      "\n"
     ]
    },
    {
     "name": "stdout",
     "output_type": "stream",
     "text": [
      "Epoch 60, Loss 0.0538\n",
      "Training Accuracy: 0.9476, Testing Accuracy: 0.9602\n",
      "\n"
     ]
    },
    {
     "name": "stdout",
     "output_type": "stream",
     "text": [
      "Epoch 70, Loss 0.0514\n",
      "Training Accuracy: 0.9495, Testing Accuracy: 0.9607\n",
      "\n"
     ]
    },
    {
     "name": "stdout",
     "output_type": "stream",
     "text": [
      "Epoch 80, Loss 0.0494\n",
      "Training Accuracy: 0.9506, Testing Accuracy: 0.9612\n",
      "\n"
     ]
    },
    {
     "name": "stdout",
     "output_type": "stream",
     "text": [
      "Epoch 90, Loss 0.0478\n",
      "Training Accuracy: 0.9522, Testing Accuracy: 0.9612\n",
      "\n"
     ]
    },
    {
     "name": "stdout",
     "output_type": "stream",
     "text": [
      "Epoch 100, Loss 0.0464\n",
      "Training Accuracy: 0.9529, Testing Accuracy: 0.9622\n",
      "\n"
     ]
    },
    {
     "name": "stdout",
     "output_type": "stream",
     "text": [
      "Epoch 110, Loss 0.0452\n",
      "Training Accuracy: 0.9534, Testing Accuracy: 0.9627\n",
      "\n"
     ]
    },
    {
     "name": "stdout",
     "output_type": "stream",
     "text": [
      "Epoch 120, Loss 0.0442\n",
      "Training Accuracy: 0.9541, Testing Accuracy: 0.9632\n",
      "\n"
     ]
    },
    {
     "name": "stdout",
     "output_type": "stream",
     "text": [
      "Epoch 130, Loss 0.0432\n",
      "Training Accuracy: 0.9552, Testing Accuracy: 0.9632\n",
      "\n"
     ]
    },
    {
     "name": "stdout",
     "output_type": "stream",
     "text": [
      "Epoch 140, Loss 0.0424\n",
      "Training Accuracy: 0.9558, Testing Accuracy: 0.9632\n",
      "\n"
     ]
    },
    {
     "name": "stdout",
     "output_type": "stream",
     "text": [
      "Epoch 150, Loss 0.0417\n",
      "Training Accuracy: 0.9561, Testing Accuracy: 0.9632\n",
      "\n"
     ]
    },
    {
     "name": "stdout",
     "output_type": "stream",
     "text": [
      "Epoch 160, Loss 0.041\n",
      "Training Accuracy: 0.9567, Testing Accuracy: 0.9637\n",
      "\n"
     ]
    },
    {
     "name": "stdout",
     "output_type": "stream",
     "text": [
      "Epoch 170, Loss 0.0404\n",
      "Training Accuracy: 0.9569, Testing Accuracy: 0.9637\n",
      "\n"
     ]
    },
    {
     "name": "stdout",
     "output_type": "stream",
     "text": [
      "Epoch 180, Loss 0.0399\n",
      "Training Accuracy: 0.9575, Testing Accuracy: 0.9642\n",
      "\n"
     ]
    },
    {
     "name": "stdout",
     "output_type": "stream",
     "text": [
      "Epoch 190, Loss 0.0394\n",
      "Training Accuracy: 0.9581, Testing Accuracy: 0.9642\n",
      "\n"
     ]
    },
    {
     "name": "stdout",
     "output_type": "stream",
     "text": [
      "Epoch 200, Loss 0.0389\n",
      "Training Accuracy: 0.9585, Testing Accuracy: 0.9652\n",
      "\n"
     ]
    },
    {
     "name": "stdout",
     "output_type": "stream",
     "text": [
      "Epoch 210, Loss 0.0384\n",
      "Training Accuracy: 0.9589, Testing Accuracy: 0.9652\n",
      "\n"
     ]
    },
    {
     "name": "stdout",
     "output_type": "stream",
     "text": [
      "Epoch 220, Loss 0.038\n",
      "Training Accuracy: 0.9591, Testing Accuracy: 0.9652\n",
      "\n"
     ]
    },
    {
     "name": "stdout",
     "output_type": "stream",
     "text": [
      "Epoch 230, Loss 0.0376\n",
      "Training Accuracy: 0.9594, Testing Accuracy: 0.9652\n",
      "\n"
     ]
    },
    {
     "name": "stdout",
     "output_type": "stream",
     "text": [
      "Epoch 240, Loss 0.0373\n",
      "Training Accuracy: 0.9595, Testing Accuracy: 0.9652\n",
      "\n"
     ]
    },
    {
     "name": "stdout",
     "output_type": "stream",
     "text": [
      "Epoch 250, Loss 0.0369\n",
      "Training Accuracy: 0.9597, Testing Accuracy: 0.9652\n",
      "\n"
     ]
    },
    {
     "data": {
      "text/plain": [
       "0.03051222428473725"
      ]
     },
     "execution_count": 22,
     "metadata": {},
     "output_type": "execute_result"
    }
   ],
   "source": [
    "print(\"====== Logistic Regression ======\")\n",
    "learner_lr.train_loop(dl)"
   ]
  },
  {
   "cell_type": "markdown",
   "metadata": {
    "papermill": {
     "duration": 0.045542,
     "end_time": "2021-01-15T20:30:45.736702",
     "exception": false,
     "start_time": "2021-01-15T20:30:45.691160",
     "status": "completed"
    },
    "tags": []
   },
   "source": [
    "### Comparing results of NN and LR"
   ]
  },
  {
   "cell_type": "code",
   "execution_count": 23,
   "metadata": {
    "execution": {
     "iopub.execute_input": "2021-01-15T20:30:45.833804Z",
     "iopub.status.busy": "2021-01-15T20:30:45.833123Z",
     "iopub.status.idle": "2021-01-15T20:30:46.076160Z",
     "shell.execute_reply": "2021-01-15T20:30:46.075657Z"
    },
    "papermill": {
     "duration": 0.294502,
     "end_time": "2021-01-15T20:30:46.076304",
     "exception": false,
     "start_time": "2021-01-15T20:30:45.781802",
     "status": "completed"
    },
    "tags": []
   },
   "outputs": [
    {
     "data": {
      "text/plain": [
       "<matplotlib.legend.Legend at 0x7ff1dcef02b0>"
      ]
     },
     "execution_count": 23,
     "metadata": {},
     "output_type": "execute_result"
    },
    {
     "data": {
      "image/png": "[encoded data removed]",
      "text/plain": [
       "<Figure size 1080x720 with 1 Axes>"
      ]
     },
     "metadata": {
      "needs_background": "light"
     },
     "output_type": "display_data"
    }
   ],
   "source": [
    "plt.figure(figsize=(15,10))\n",
    "\n",
    "# Neural Network plots\n",
    "plt.plot(acc_nn.accuracies, 'r-', label = \"Training Accuracies - NN\")\n",
    "plt.plot(acc_nn.test_accuracies, 'g-', label = \"Testing Accuracies - NN\")\n",
    "\n",
    "# Logistic Regression plots\n",
    "plt.plot(acc_lr.accuracies, 'k-', label = \"Training Accuracies - LR\")\n",
    "plt.plot(acc_lr.test_accuracies, 'b-', label = \"Testing Accuracies - LR\")\n",
    "\n",
    "plt.ylim(0.8, 1)\n",
    "\n",
    "plt.legend()\n",
    "\n"
   ]
  },
  {
   "cell_type": "markdown",
   "metadata": {
    "papermill": {
     "duration": 0.04811,
     "end_time": "2021-01-15T20:30:46.182248",
     "exception": false,
     "start_time": "2021-01-15T20:30:46.134138",
     "status": "completed"
    },
    "tags": []
   },
   "source": [
    "### From the plot, we can observe the following:\n",
    "- Neural Network achieves higher accuracy than the Logistic Regression model.\n",
    "- This apparently, is because of overfitting, i.e. NN captures more noise than data.\n",
    "- Testing accuracy of NN drops below the Training accuracy at higher epochs. This explains the over-fitting on training data.\n",
    "- Logistic Regression gives a reliable accuracy, without the above mentioned problem.\n"
   ]
  },
  {
   "cell_type": "markdown",
   "metadata": {
    "papermill": {
     "duration": 0.054035,
     "end_time": "2021-01-15T20:30:46.287383",
     "exception": false,
     "start_time": "2021-01-15T20:30:46.233348",
     "status": "completed"
    },
    "tags": []
   },
   "source": [
    "### Moving till the last but one layer (excluding it).\n",
    "#### Plotting the outputs of this layer of the NN."
   ]
  },
  {
   "cell_type": "code",
   "execution_count": 24,
   "metadata": {
    "execution": {
     "iopub.execute_input": "2021-01-15T20:30:46.390827Z",
     "iopub.status.busy": "2021-01-15T20:30:46.390184Z",
     "iopub.status.idle": "2021-01-15T20:30:46.403130Z",
     "shell.execute_reply": "2021-01-15T20:30:46.402616Z"
    },
    "papermill": {
     "duration": 0.066933,
     "end_time": "2021-01-15T20:30:46.403261",
     "exception": false,
     "start_time": "2021-01-15T20:30:46.336328",
     "status": "completed"
    },
    "tags": []
   },
   "outputs": [],
   "source": [
    "model_new = Model(layers[:-2])"
   ]
  },
  {
   "cell_type": "code",
   "execution_count": 25,
   "metadata": {
    "execution": {
     "iopub.execute_input": "2021-01-15T20:30:46.507931Z",
     "iopub.status.busy": "2021-01-15T20:30:46.507349Z",
     "iopub.status.idle": "2021-01-15T20:30:46.530074Z",
     "shell.execute_reply": "2021-01-15T20:30:46.530592Z"
    },
    "papermill": {
     "duration": 0.074715,
     "end_time": "2021-01-15T20:30:46.530760",
     "exception": false,
     "start_time": "2021-01-15T20:30:46.456045",
     "status": "completed"
    },
    "tags": []
   },
   "outputs": [],
   "source": [
    "plot_testing = model_new(testing_xdata)"
   ]
  },
  {
   "cell_type": "code",
   "execution_count": 26,
   "metadata": {
    "execution": {
     "iopub.execute_input": "2021-01-15T20:30:46.635895Z",
     "iopub.status.busy": "2021-01-15T20:30:46.635307Z",
     "iopub.status.idle": "2021-01-15T20:30:46.859340Z",
     "shell.execute_reply": "2021-01-15T20:30:46.859827Z"
    },
    "papermill": {
     "duration": 0.281554,
     "end_time": "2021-01-15T20:30:46.859991",
     "exception": false,
     "start_time": "2021-01-15T20:30:46.578437",
     "status": "completed"
    },
    "tags": []
   },
   "outputs": [
    {
     "data": {
      "text/plain": [
       "Text(0.5, 1.0, 'Outputs')"
      ]
     },
     "execution_count": 26,
     "metadata": {},
     "output_type": "execute_result"
    },
    {
     "data": {
      "image/png": "[encoded data removed]",
      "text/plain": [
       "<Figure size 576x504 with 1 Axes>"
      ]
     },
     "metadata": {
      "needs_background": "light"
     },
     "output_type": "display_data"
    }
   ],
   "source": [
    "plt.figure(figsize=(8,7))\n",
    "plt.scatter(plot_testing[:,0], plot_testing[:,1], alpha = 0.1, c = y_test.ravel());\n",
    "plt.title('Outputs')"
   ]
  },
  {
   "cell_type": "markdown",
   "metadata": {
    "papermill": {
     "duration": 0.050879,
     "end_time": "2021-01-15T20:30:46.965622",
     "exception": false,
     "start_time": "2021-01-15T20:30:46.914743",
     "status": "completed"
    },
    "tags": []
   },
   "source": [
    "### Plotting probability contours"
   ]
  },
  {
   "cell_type": "code",
   "execution_count": 27,
   "metadata": {
    "execution": {
     "iopub.execute_input": "2021-01-15T20:30:47.070549Z",
     "iopub.status.busy": "2021-01-15T20:30:47.069935Z",
     "iopub.status.idle": "2021-01-15T20:30:47.082997Z",
     "shell.execute_reply": "2021-01-15T20:30:47.083660Z"
    },
    "papermill": {
     "duration": 0.06824,
     "end_time": "2021-01-15T20:30:47.083872",
     "exception": false,
     "start_time": "2021-01-15T20:30:47.015632",
     "status": "completed"
    },
    "tags": []
   },
   "outputs": [],
   "source": [
    "model_prob = Model(layers[-2:]) "
   ]
  },
  {
   "cell_type": "code",
   "execution_count": 28,
   "metadata": {
    "execution": {
     "iopub.execute_input": "2021-01-15T20:30:47.194945Z",
     "iopub.status.busy": "2021-01-15T20:30:47.194342Z",
     "iopub.status.idle": "2021-01-15T20:30:47.209153Z",
     "shell.execute_reply": "2021-01-15T20:30:47.209613Z"
    },
    "papermill": {
     "duration": 0.07285,
     "end_time": "2021-01-15T20:30:47.209777",
     "exception": false,
     "start_time": "2021-01-15T20:30:47.136927",
     "status": "completed"
    },
    "tags": []
   },
   "outputs": [],
   "source": [
    "# Adjust the x and y ranges according to the above generated plot.\n",
    "x_range = np.linspace(-4, 1, 100) \n",
    "y_range = np.linspace(-6, 6, 100) \n",
    "x_grid, y_grid = np.meshgrid(x_range, y_range) # x_grid and y_grig are of size 100 X 100\n",
    "\n",
    "# converting x_grid and y_grid to continuous arrays\n",
    "x_grid_flat = np.ravel(x_grid)\n",
    "y_grid_flat = np.ravel(y_grid)\n",
    "\n",
    "# The last layer of the current model takes two columns as input. Hence transpose of np.vstack() is required.\n",
    "X = np.vstack((x_grid_flat, y_grid_flat)).T\n",
    "\n",
    "# x_grid and y_grid are of size 100 x 100\n",
    "probability_contour = model_prob(X).reshape(100,100) "
   ]
  },
  {
   "cell_type": "code",
   "execution_count": 29,
   "metadata": {
    "execution": {
     "iopub.execute_input": "2021-01-15T20:30:47.349104Z",
     "iopub.status.busy": "2021-01-15T20:30:47.348311Z",
     "iopub.status.idle": "2021-01-15T20:30:47.608780Z",
     "shell.execute_reply": "2021-01-15T20:30:47.609258Z"
    },
    "papermill": {
     "duration": 0.315689,
     "end_time": "2021-01-15T20:30:47.609417",
     "exception": false,
     "start_time": "2021-01-15T20:30:47.293728",
     "status": "completed"
    },
    "tags": []
   },
   "outputs": [
    {
     "data": {
      "image/png": "[encoded data removed]",
      "text/plain": [
       "<Figure size 720x648 with 1 Axes>"
      ]
     },
     "metadata": {
      "needs_background": "light"
     },
     "output_type": "display_data"
    }
   ],
   "source": [
    "plt.figure(figsize=(10,9))\n",
    "plt.scatter(plot_testing[:,0], plot_testing[:,1], alpha = 0.1, c = y_test.ravel())\n",
    "contours = plt.contour(x_grid,y_grid,probability_contour)\n",
    "plt.title('Probability Contours')\n",
    "plt.clabel(contours, inline = True );"
   ]
  }
 ],
 "metadata": {
  "kernelspec": {
   "display_name": "Python 3",
   "language": "python",
   "name": "python3"
  },
  "language_info": {
   "codemirror_mode": {
    "name": "ipython",
    "version": 3
   },
   "file_extension": ".py",
   "mimetype": "text/x-python",
   "name": "python",
   "nbconvert_exporter": "python",
   "pygments_lexer": "ipython3",
   "version": "3.6.12"
  },
  "papermill": {
   "duration": 126.982587,
   "end_time": "2021-01-15T20:30:48.069643",
   "environment_variables": {},
   "exception": null,
   "input_path": "2020-08-11-NeuralNetwork.ipynb",
   "output_path": "2020-08-11-NeuralNetwork.ipynb",
   "parameters": {},
   "start_time": "2021-01-15T20:28:41.087056",
   "version": "2.1.2"
  }
 },
 "nbformat": 4,
 "nbformat_minor": 4
}