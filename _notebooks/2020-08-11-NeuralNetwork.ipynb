{
 "cells": [
  {
   "cell_type": "markdown",
   "metadata": {
    "papermill": {
     "duration": 0.029226,
     "end_time": "2020-11-02T10:03:58.078577",
     "exception": false,
     "start_time": "2020-11-02T10:03:58.049351",
     "status": "completed"
    },
    "tags": []
   },
   "source": [
    "# \"A Basic Neural Network: Differentiate Hand-Written Digits\"\n",
    "\n",
    "- badges: true\n",
    "- author: Akshith Sriram"
   ]
  },
  {
   "cell_type": "markdown",
   "metadata": {
    "papermill": {
     "duration": 0.02432,
     "end_time": "2020-11-02T10:03:58.127736",
     "exception": false,
     "start_time": "2020-11-02T10:03:58.103416",
     "status": "completed"
    },
    "tags": []
   },
   "source": [
    "### Key Objectives:\n",
    "- Building a neural network that differentiates two hand-written digits 3 and 8.\n",
    "- Comparing the results of this Neural Network (NN) to that of a Logistic Regression (LR) model.\n",
    "\n",
    "### Requirements:\n",
    "- 'Kudzu' : A neural network library that was designed during our course by [Univ.AI](www.univ.ai). \n",
    "- MNIST Database\n",
    "\n",
    "If MNIST is not installed, use the command `!pip install mnist` given below.\n",
    "It can be run both from the command line and Jupyter Notebook."
   ]
  },
  {
   "cell_type": "code",
   "execution_count": 1,
   "metadata": {
    "execution": {
     "iopub.execute_input": "2020-11-02T10:03:58.183668Z",
     "iopub.status.busy": "2020-11-02T10:03:58.183048Z",
     "iopub.status.idle": "2020-11-02T10:03:59.540153Z",
     "shell.execute_reply": "2020-11-02T10:03:59.540738Z"
    },
    "papermill": {
     "duration": 1.386885,
     "end_time": "2020-11-02T10:03:59.540961",
     "exception": false,
     "start_time": "2020-11-02T10:03:58.154076",
     "status": "completed"
    },
    "tags": []
   },
   "outputs": [
    {
     "name": "stdout",
     "output_type": "stream",
     "text": [
      "Collecting mnist\r\n"
     ]
    },
    {
     "name": "stdout",
     "output_type": "stream",
     "text": [
      "  Downloading mnist-0.2.2-py2.py3-none-any.whl (3.5 kB)\r\n",
      "Requirement already satisfied: numpy in /opt/hostedtoolcache/Python/3.6.12/x64/lib/python3.6/site-packages (from mnist) (1.19.3)\r\n"
     ]
    },
    {
     "name": "stdout",
     "output_type": "stream",
     "text": [
      "Installing collected packages: mnist\r\n"
     ]
    },
    {
     "name": "stdout",
     "output_type": "stream",
     "text": [
      "Successfully installed mnist-0.2.2\r\n"
     ]
    }
   ],
   "source": [
    "!pip install mnist "
   ]
  },
  {
   "cell_type": "markdown",
   "metadata": {
    "papermill": {
     "duration": 0.025808,
     "end_time": "2020-11-02T10:03:59.593824",
     "exception": false,
     "start_time": "2020-11-02T10:03:59.568016",
     "status": "completed"
    },
    "tags": []
   },
   "source": [
    "#### Importing necessary libraries"
   ]
  },
  {
   "cell_type": "code",
   "execution_count": 2,
   "metadata": {
    "execution": {
     "iopub.execute_input": "2020-11-02T10:03:59.654017Z",
     "iopub.status.busy": "2020-11-02T10:03:59.653450Z",
     "iopub.status.idle": "2020-11-02T10:04:00.204908Z",
     "shell.execute_reply": "2020-11-02T10:04:00.203772Z"
    },
    "papermill": {
     "duration": 0.584889,
     "end_time": "2020-11-02T10:04:00.205063",
     "exception": false,
     "start_time": "2020-11-02T10:03:59.620174",
     "status": "completed"
    },
    "tags": []
   },
   "outputs": [],
   "source": [
    "%load_ext autoreload\n",
    "%autoreload 2\n",
    "\n",
    "%matplotlib inline\n",
    "import matplotlib.pyplot as plt\n",
    "\n",
    "import numpy as np\n",
    "import pandas as pd"
   ]
  },
  {
   "cell_type": "markdown",
   "metadata": {
    "papermill": {
     "duration": 0.026251,
     "end_time": "2020-11-02T10:04:00.257104",
     "exception": false,
     "start_time": "2020-11-02T10:04:00.230853",
     "status": "completed"
    },
    "tags": []
   },
   "source": [
    "### Preparing the Data"
   ]
  },
  {
   "cell_type": "code",
   "execution_count": 3,
   "metadata": {
    "execution": {
     "iopub.execute_input": "2020-11-02T10:04:00.314005Z",
     "iopub.status.busy": "2020-11-02T10:04:00.313428Z",
     "iopub.status.idle": "2020-11-02T10:04:00.324995Z",
     "shell.execute_reply": "2020-11-02T10:04:00.325472Z"
    },
    "papermill": {
     "duration": 0.042778,
     "end_time": "2020-11-02T10:04:00.325609",
     "exception": false,
     "start_time": "2020-11-02T10:04:00.282831",
     "status": "completed"
    },
    "tags": []
   },
   "outputs": [],
   "source": [
    "import mnist"
   ]
  },
  {
   "cell_type": "code",
   "execution_count": 4,
   "metadata": {
    "execution": {
     "iopub.execute_input": "2020-11-02T10:04:00.379001Z",
     "iopub.status.busy": "2020-11-02T10:04:00.378488Z",
     "iopub.status.idle": "2020-11-02T10:04:01.172571Z",
     "shell.execute_reply": "2020-11-02T10:04:01.173305Z"
    },
    "papermill": {
     "duration": 0.823179,
     "end_time": "2020-11-02T10:04:01.173493",
     "exception": false,
     "start_time": "2020-11-02T10:04:00.350314",
     "status": "completed"
    },
    "tags": []
   },
   "outputs": [],
   "source": [
    "train_images = mnist.train_images()\n",
    "train_labels = mnist.train_labels()"
   ]
  },
  {
   "cell_type": "code",
   "execution_count": 5,
   "metadata": {
    "execution": {
     "iopub.execute_input": "2020-11-02T10:04:01.227073Z",
     "iopub.status.busy": "2020-11-02T10:04:01.226476Z",
     "iopub.status.idle": "2020-11-02T10:04:01.241390Z",
     "shell.execute_reply": "2020-11-02T10:04:01.240915Z"
    },
    "papermill": {
     "duration": 0.042877,
     "end_time": "2020-11-02T10:04:01.241527",
     "exception": false,
     "start_time": "2020-11-02T10:04:01.198650",
     "status": "completed"
    },
    "tags": []
   },
   "outputs": [
    {
     "data": {
      "text/plain": [
       "((60000, 28, 28), (60000,))"
      ]
     },
     "execution_count": 5,
     "metadata": {},
     "output_type": "execute_result"
    }
   ],
   "source": [
    "train_images.shape, train_labels.shape"
   ]
  },
  {
   "cell_type": "code",
   "execution_count": 6,
   "metadata": {
    "execution": {
     "iopub.execute_input": "2020-11-02T10:04:01.295127Z",
     "iopub.status.busy": "2020-11-02T10:04:01.294543Z",
     "iopub.status.idle": "2020-11-02T10:04:01.536545Z",
     "shell.execute_reply": "2020-11-02T10:04:01.535646Z"
    },
    "papermill": {
     "duration": 0.2712,
     "end_time": "2020-11-02T10:04:01.536782",
     "exception": false,
     "start_time": "2020-11-02T10:04:01.265582",
     "status": "completed"
    },
    "tags": []
   },
   "outputs": [],
   "source": [
    "test_images = mnist.test_images()\n",
    "test_labels = mnist.test_labels()"
   ]
  },
  {
   "cell_type": "code",
   "execution_count": 7,
   "metadata": {
    "execution": {
     "iopub.execute_input": "2020-11-02T10:04:01.594228Z",
     "iopub.status.busy": "2020-11-02T10:04:01.593670Z",
     "iopub.status.idle": "2020-11-02T10:04:01.607641Z",
     "shell.execute_reply": "2020-11-02T10:04:01.607140Z"
    },
    "papermill": {
     "duration": 0.042975,
     "end_time": "2020-11-02T10:04:01.607766",
     "exception": false,
     "start_time": "2020-11-02T10:04:01.564791",
     "status": "completed"
    },
    "tags": []
   },
   "outputs": [
    {
     "data": {
      "text/plain": [
       "((10000, 28, 28), (10000,))"
      ]
     },
     "execution_count": 7,
     "metadata": {},
     "output_type": "execute_result"
    }
   ],
   "source": [
    "test_images.shape, test_labels.shape"
   ]
  },
  {
   "cell_type": "code",
   "execution_count": 8,
   "metadata": {
    "execution": {
     "iopub.execute_input": "2020-11-02T10:04:01.663891Z",
     "iopub.status.busy": "2020-11-02T10:04:01.663328Z",
     "iopub.status.idle": "2020-11-02T10:04:01.806776Z",
     "shell.execute_reply": "2020-11-02T10:04:01.806282Z"
    },
    "papermill": {
     "duration": 0.173243,
     "end_time": "2020-11-02T10:04:01.806926",
     "exception": false,
     "start_time": "2020-11-02T10:04:01.633683",
     "status": "completed"
    },
    "tags": []
   },
   "outputs": [
    {
     "name": "stdout",
     "output_type": "stream",
     "text": [
      "2\n"
     ]
    },
    {
     "data": {
      "text/plain": [
       "<matplotlib.image.AxesImage at 0x7f4308ce5438>"
      ]
     },
     "execution_count": 8,
     "metadata": {},
     "output_type": "execute_result"
    },
    {
     "data": {
      "image/png": "[encoded data removed]",
      "text/plain": [
       "<Figure size 432x288 with 1 Axes>"
      ]
     },
     "metadata": {
      "needs_background": "light"
     },
     "output_type": "display_data"
    }
   ],
   "source": [
    "image_index = 7776 # You may select anything up to 60,000\n",
    "print(train_labels[image_index]) \n",
    "plt.imshow(train_images[image_index], cmap='Greys')"
   ]
  },
  {
   "cell_type": "markdown",
   "metadata": {
    "papermill": {
     "duration": 0.025489,
     "end_time": "2020-11-02T10:04:01.858128",
     "exception": false,
     "start_time": "2020-11-02T10:04:01.832639",
     "status": "completed"
    },
    "tags": []
   },
   "source": [
    "## Filter data to get 3 and 8 out"
   ]
  },
  {
   "cell_type": "code",
   "execution_count": 9,
   "metadata": {
    "execution": {
     "iopub.execute_input": "2020-11-02T10:04:01.913453Z",
     "iopub.status.busy": "2020-11-02T10:04:01.912254Z",
     "iopub.status.idle": "2020-11-02T10:04:01.929387Z",
     "shell.execute_reply": "2020-11-02T10:04:01.928371Z"
    },
    "papermill": {
     "duration": 0.045985,
     "end_time": "2020-11-02T10:04:01.929514",
     "exception": false,
     "start_time": "2020-11-02T10:04:01.883529",
     "status": "completed"
    },
    "tags": []
   },
   "outputs": [],
   "source": [
    "train_filter = np.where((train_labels == 3 ) | (train_labels == 8))\n",
    "test_filter = np.where((test_labels == 3) | (test_labels == 8))\n",
    "X_train, y_train = train_images[train_filter], train_labels[train_filter]\n",
    "X_test, y_test = test_images[test_filter], test_labels[test_filter]"
   ]
  },
  {
   "cell_type": "markdown",
   "metadata": {
    "papermill": {
     "duration": 0.02497,
     "end_time": "2020-11-02T10:04:01.978955",
     "exception": false,
     "start_time": "2020-11-02T10:04:01.953985",
     "status": "completed"
    },
    "tags": []
   },
   "source": [
    "We normalize the pixel values in the 0 to 1 range"
   ]
  },
  {
   "cell_type": "code",
   "execution_count": 10,
   "metadata": {
    "execution": {
     "iopub.execute_input": "2020-11-02T10:04:02.036983Z",
     "iopub.status.busy": "2020-11-02T10:04:02.036380Z",
     "iopub.status.idle": "2020-11-02T10:04:02.088122Z",
     "shell.execute_reply": "2020-11-02T10:04:02.087228Z"
    },
    "papermill": {
     "duration": 0.083232,
     "end_time": "2020-11-02T10:04:02.088356",
     "exception": false,
     "start_time": "2020-11-02T10:04:02.005124",
     "status": "completed"
    },
    "tags": []
   },
   "outputs": [],
   "source": [
    "X_train = X_train/255.\n",
    "X_test = X_test/255."
   ]
  },
  {
   "cell_type": "markdown",
   "metadata": {
    "papermill": {
     "duration": 0.026892,
     "end_time": "2020-11-02T10:04:02.142485",
     "exception": false,
     "start_time": "2020-11-02T10:04:02.115593",
     "status": "completed"
    },
    "tags": []
   },
   "source": [
    "Setup the labels as 1 (when the digit is 3) and 0 (when the digit is 8)"
   ]
  },
  {
   "cell_type": "code",
   "execution_count": 11,
   "metadata": {
    "execution": {
     "iopub.execute_input": "2020-11-02T10:04:02.200998Z",
     "iopub.status.busy": "2020-11-02T10:04:02.200437Z",
     "iopub.status.idle": "2020-11-02T10:04:02.212771Z",
     "shell.execute_reply": "2020-11-02T10:04:02.213191Z"
    },
    "papermill": {
     "duration": 0.044274,
     "end_time": "2020-11-02T10:04:02.213329",
     "exception": false,
     "start_time": "2020-11-02T10:04:02.169055",
     "status": "completed"
    },
    "tags": []
   },
   "outputs": [],
   "source": [
    "y_train = 1*(y_train==3)\n",
    "y_test = 1*(y_test==3)"
   ]
  },
  {
   "cell_type": "code",
   "execution_count": 12,
   "metadata": {
    "execution": {
     "iopub.execute_input": "2020-11-02T10:04:02.267615Z",
     "iopub.status.busy": "2020-11-02T10:04:02.267046Z",
     "iopub.status.idle": "2020-11-02T10:04:02.282326Z",
     "shell.execute_reply": "2020-11-02T10:04:02.282745Z"
    },
    "papermill": {
     "duration": 0.044449,
     "end_time": "2020-11-02T10:04:02.282881",
     "exception": false,
     "start_time": "2020-11-02T10:04:02.238432",
     "status": "completed"
    },
    "tags": []
   },
   "outputs": [
    {
     "data": {
      "text/plain": [
       "((11982, 28, 28), (1984, 28, 28))"
      ]
     },
     "execution_count": 12,
     "metadata": {},
     "output_type": "execute_result"
    }
   ],
   "source": [
    "X_train.shape, X_test.shape"
   ]
  },
  {
   "cell_type": "markdown",
   "metadata": {
    "papermill": {
     "duration": 0.026483,
     "end_time": "2020-11-02T10:04:02.336738",
     "exception": false,
     "start_time": "2020-11-02T10:04:02.310255",
     "status": "completed"
    },
    "tags": []
   },
   "source": [
    "### Reshape the input data to create a linear array"
   ]
  },
  {
   "cell_type": "code",
   "execution_count": 13,
   "metadata": {
    "execution": {
     "iopub.execute_input": "2020-11-02T10:04:02.499613Z",
     "iopub.status.busy": "2020-11-02T10:04:02.494983Z",
     "iopub.status.idle": "2020-11-02T10:04:02.512208Z",
     "shell.execute_reply": "2020-11-02T10:04:02.511476Z"
    },
    "papermill": {
     "duration": 0.066615,
     "end_time": "2020-11-02T10:04:02.512340",
     "exception": false,
     "start_time": "2020-11-02T10:04:02.445725",
     "status": "completed"
    },
    "tags": []
   },
   "outputs": [
    {
     "data": {
      "text/plain": [
       "((11982, 784), (1984, 784))"
      ]
     },
     "execution_count": 13,
     "metadata": {},
     "output_type": "execute_result"
    }
   ],
   "source": [
    "X_train = X_train.reshape(X_train.shape[0], -1)\n",
    "X_test = X_test.reshape(X_test.shape[0], -1)\n",
    "X_train.shape, X_test.shape"
   ]
  },
  {
   "cell_type": "markdown",
   "metadata": {
    "papermill": {
     "duration": 0.453661,
     "end_time": "2020-11-02T10:04:02.993322",
     "exception": false,
     "start_time": "2020-11-02T10:04:02.539661",
     "status": "completed"
    },
    "tags": []
   },
   "source": [
    "### Importing appropriate functions from 'Kudzu'"
   ]
  },
  {
   "cell_type": "code",
   "execution_count": 14,
   "metadata": {
    "execution": {
     "iopub.execute_input": "2020-11-02T10:04:03.057059Z",
     "iopub.status.busy": "2020-11-02T10:04:03.056424Z",
     "iopub.status.idle": "2020-11-02T10:04:03.076688Z",
     "shell.execute_reply": "2020-11-02T10:04:03.076061Z"
    },
    "papermill": {
     "duration": 0.052607,
     "end_time": "2020-11-02T10:04:03.076824",
     "exception": false,
     "start_time": "2020-11-02T10:04:03.024217",
     "status": "completed"
    },
    "tags": []
   },
   "outputs": [],
   "source": [
    "from kudzu.layer import Sigmoid\n",
    "from kudzu.layer import Relu\n",
    "from kudzu.layer import Affine, Sigmoid\n",
    "\n",
    "from kudzu.model import Model\n",
    "from kudzu.train import Learner\n",
    "from kudzu.optim import GD\n",
    "from kudzu.data import Data, Dataloader, Sampler\n",
    "\n",
    "from kudzu.callbacks import AccCallback\n",
    "from kudzu.callbacks import ClfCallback\n",
    "\n",
    "from kudzu.loss import MSE"
   ]
  },
  {
   "cell_type": "markdown",
   "metadata": {
    "papermill": {
     "duration": 0.027627,
     "end_time": "2020-11-02T10:04:03.132162",
     "exception": false,
     "start_time": "2020-11-02T10:04:03.104535",
     "status": "completed"
    },
    "tags": []
   },
   "source": [
    "### Let us create a `Config` class, to store important parameters. \n",
    "This class essentially plays the role of a dictionary."
   ]
  },
  {
   "cell_type": "code",
   "execution_count": 15,
   "metadata": {
    "execution": {
     "iopub.execute_input": "2020-11-02T10:04:03.191908Z",
     "iopub.status.busy": "2020-11-02T10:04:03.191211Z",
     "iopub.status.idle": "2020-11-02T10:04:03.204238Z",
     "shell.execute_reply": "2020-11-02T10:04:03.204688Z"
    },
    "papermill": {
     "duration": 0.045007,
     "end_time": "2020-11-02T10:04:03.204825",
     "exception": false,
     "start_time": "2020-11-02T10:04:03.159818",
     "status": "completed"
    },
    "tags": []
   },
   "outputs": [],
   "source": [
    "class Config:\n",
    "    pass\n",
    "config = Config()\n",
    "config.lr = 0.001\n",
    "config.num_epochs = 251\n",
    "config.bs = 50"
   ]
  },
  {
   "cell_type": "markdown",
   "metadata": {
    "papermill": {
     "duration": 0.028106,
     "end_time": "2020-11-02T10:04:03.259761",
     "exception": false,
     "start_time": "2020-11-02T10:04:03.231655",
     "status": "completed"
    },
    "tags": []
   },
   "source": [
    "### Initializing data to the variables"
   ]
  },
  {
   "cell_type": "code",
   "execution_count": 16,
   "metadata": {
    "execution": {
     "iopub.execute_input": "2020-11-02T10:04:03.319976Z",
     "iopub.status.busy": "2020-11-02T10:04:03.319365Z",
     "iopub.status.idle": "2020-11-02T10:04:03.333763Z",
     "shell.execute_reply": "2020-11-02T10:04:03.333267Z"
    },
    "papermill": {
     "duration": 0.046937,
     "end_time": "2020-11-02T10:04:03.333892",
     "exception": false,
     "start_time": "2020-11-02T10:04:03.286955",
     "status": "completed"
    },
    "tags": []
   },
   "outputs": [],
   "source": [
    "data = Data(X_train, y_train.reshape(-1,1))\n",
    "sampler = Sampler(data, config.bs, shuffle=True)\n",
    "\n",
    "dl = Dataloader(data, sampler)\n",
    "\n",
    "opt = GD(config.lr)\n",
    "loss = MSE()"
   ]
  },
  {
   "cell_type": "code",
   "execution_count": 17,
   "metadata": {
    "execution": {
     "iopub.execute_input": "2020-11-02T10:04:03.392912Z",
     "iopub.status.busy": "2020-11-02T10:04:03.392366Z",
     "iopub.status.idle": "2020-11-02T10:04:03.405312Z",
     "shell.execute_reply": "2020-11-02T10:04:03.405767Z"
    },
    "papermill": {
     "duration": 0.045271,
     "end_time": "2020-11-02T10:04:03.405897",
     "exception": false,
     "start_time": "2020-11-02T10:04:03.360626",
     "status": "completed"
    },
    "tags": []
   },
   "outputs": [],
   "source": [
    "training_xdata = X_train\n",
    "testing_xdata = X_test\n",
    "training_ydata = y_train.reshape(-1,1)\n",
    "testing_ydata = y_test.reshape(-1,1)"
   ]
  },
  {
   "cell_type": "markdown",
   "metadata": {
    "papermill": {
     "duration": 0.024966,
     "end_time": "2020-11-02T10:04:03.457391",
     "exception": false,
     "start_time": "2020-11-02T10:04:03.432425",
     "status": "completed"
    },
    "tags": []
   },
   "source": [
    "### Running Models with the Training data\n",
    "Details about the network layers:\n",
    "- A first affine layer has 784 inputs and does 100 affine transforms. These are followed by a Relu\n",
    "- A second affine layer has 100 inputs from the 100 activations of the past layer, and does 100 affine transforms. These are followed by a Relu\n",
    "- A third affine layer has 100 activations and does 2 affine transformations to create an embedding for visualization. There is no non-linearity here.\n",
    "- A final \"logistic regression\" which has an affine transform from 2 inputs to 1 output, which is squeezed through a sigmoid.\n",
    "\n",
    "Help taken from Anshuman's Notebook."
   ]
  },
  {
   "cell_type": "code",
   "execution_count": 18,
   "metadata": {
    "execution": {
     "iopub.execute_input": "2020-11-02T10:04:03.518458Z",
     "iopub.status.busy": "2020-11-02T10:04:03.517849Z",
     "iopub.status.idle": "2020-11-02T10:04:03.534104Z",
     "shell.execute_reply": "2020-11-02T10:04:03.534550Z"
    },
    "papermill": {
     "duration": 0.051195,
     "end_time": "2020-11-02T10:04:03.534675",
     "exception": false,
     "start_time": "2020-11-02T10:04:03.483480",
     "status": "completed"
    },
    "tags": []
   },
   "outputs": [],
   "source": [
    "# layers for the Neural Network\n",
    "layers = [Affine(\"first\", 784, 100), Relu(\"first\"), Affine(\"second\", 100, 100), Relu(\"second\"), Affine(\"third\", 100, 2), Affine(\"final\", 2, 1), Sigmoid(\"final\")]\n",
    "model_nn = Model(layers)\n",
    "\n",
    "# layers for the Logistic Regression\n",
    "layers_lr = [Affine(\"logits\", 784, 1), Sigmoid(\"sigmoid\")]\n",
    "model_lr = Model(layers_lr)"
   ]
  },
  {
   "cell_type": "code",
   "execution_count": 19,
   "metadata": {
    "execution": {
     "iopub.execute_input": "2020-11-02T10:04:03.599725Z",
     "iopub.status.busy": "2020-11-02T10:04:03.595281Z",
     "iopub.status.idle": "2020-11-02T10:04:03.608752Z",
     "shell.execute_reply": "2020-11-02T10:04:03.609204Z"
    },
    "papermill": {
     "duration": 0.046036,
     "end_time": "2020-11-02T10:04:03.609334",
     "exception": false,
     "start_time": "2020-11-02T10:04:03.563298",
     "status": "completed"
    },
    "tags": []
   },
   "outputs": [],
   "source": [
    "# suffix _nn stands for Neural Network.\n",
    "learner_nn = Learner(loss, model_nn, opt, config.num_epochs)\n",
    "acc_nn = ClfCallback(learner_nn, config.bs, training_xdata , testing_xdata, training_ydata, testing_ydata)\n",
    "learner_nn.set_callbacks([acc_nn])"
   ]
  },
  {
   "cell_type": "code",
   "execution_count": 20,
   "metadata": {
    "execution": {
     "iopub.execute_input": "2020-11-02T10:04:03.666502Z",
     "iopub.status.busy": "2020-11-02T10:04:03.665885Z",
     "iopub.status.idle": "2020-11-02T10:05:29.060635Z",
     "shell.execute_reply": "2020-11-02T10:05:29.061155Z"
    },
    "papermill": {
     "duration": 85.425138,
     "end_time": "2020-11-02T10:05:29.061318",
     "exception": false,
     "start_time": "2020-11-02T10:04:03.636180",
     "status": "completed"
    },
    "tags": []
   },
   "outputs": [
    {
     "name": "stdout",
     "output_type": "stream",
     "text": [
      "====== Neural Network ======\n"
     ]
    },
    {
     "name": "stdout",
     "output_type": "stream",
     "text": [
      "Epoch 0, Loss 0.2461\n",
      "Training Accuracy: 0.6014, Testing Accuracy: 0.5842\n",
      "\n"
     ]
    },
    {
     "name": "stdout",
     "output_type": "stream",
     "text": [
      "Epoch 10, Loss 0.14\n",
      "Training Accuracy: 0.8969, Testing Accuracy: 0.9037\n",
      "\n"
     ]
    },
    {
     "name": "stdout",
     "output_type": "stream",
     "text": [
      "Epoch 20, Loss 0.071\n",
      "Training Accuracy: 0.9292, Testing Accuracy: 0.9410\n",
      "\n"
     ]
    },
    {
     "name": "stdout",
     "output_type": "stream",
     "text": [
      "Epoch 30, Loss 0.051\n",
      "Training Accuracy: 0.9450, Testing Accuracy: 0.9556\n",
      "\n"
     ]
    },
    {
     "name": "stdout",
     "output_type": "stream",
     "text": [
      "Epoch 40, Loss 0.0425\n",
      "Training Accuracy: 0.9528, Testing Accuracy: 0.9612\n",
      "\n"
     ]
    },
    {
     "name": "stdout",
     "output_type": "stream",
     "text": [
      "Epoch 50, Loss 0.0377\n",
      "Training Accuracy: 0.9574, Testing Accuracy: 0.9657\n",
      "\n"
     ]
    },
    {
     "name": "stdout",
     "output_type": "stream",
     "text": [
      "Epoch 60, Loss 0.0346\n",
      "Training Accuracy: 0.9598, Testing Accuracy: 0.9672\n",
      "\n"
     ]
    },
    {
     "name": "stdout",
     "output_type": "stream",
     "text": [
      "Epoch 70, Loss 0.0324\n",
      "Training Accuracy: 0.9617, Testing Accuracy: 0.9682\n",
      "\n"
     ]
    },
    {
     "name": "stdout",
     "output_type": "stream",
     "text": [
      "Epoch 80, Loss 0.0307\n",
      "Training Accuracy: 0.9639, Testing Accuracy: 0.9688\n",
      "\n"
     ]
    },
    {
     "name": "stdout",
     "output_type": "stream",
     "text": [
      "Epoch 90, Loss 0.0293\n",
      "Training Accuracy: 0.9662, Testing Accuracy: 0.9688\n",
      "\n"
     ]
    },
    {
     "name": "stdout",
     "output_type": "stream",
     "text": [
      "Epoch 100, Loss 0.0281\n",
      "Training Accuracy: 0.9679, Testing Accuracy: 0.9688\n",
      "\n"
     ]
    },
    {
     "name": "stdout",
     "output_type": "stream",
     "text": [
      "Epoch 110, Loss 0.0271\n",
      "Training Accuracy: 0.9685, Testing Accuracy: 0.9682\n",
      "\n"
     ]
    },
    {
     "name": "stdout",
     "output_type": "stream",
     "text": [
      "Epoch 120, Loss 0.0263\n",
      "Training Accuracy: 0.9691, Testing Accuracy: 0.9672\n",
      "\n"
     ]
    },
    {
     "name": "stdout",
     "output_type": "stream",
     "text": [
      "Epoch 130, Loss 0.0255\n",
      "Training Accuracy: 0.9700, Testing Accuracy: 0.9677\n",
      "\n"
     ]
    },
    {
     "name": "stdout",
     "output_type": "stream",
     "text": [
      "Epoch 140, Loss 0.0248\n",
      "Training Accuracy: 0.9709, Testing Accuracy: 0.9693\n",
      "\n"
     ]
    },
    {
     "name": "stdout",
     "output_type": "stream",
     "text": [
      "Epoch 150, Loss 0.0241\n",
      "Training Accuracy: 0.9716, Testing Accuracy: 0.9682\n",
      "\n"
     ]
    },
    {
     "name": "stdout",
     "output_type": "stream",
     "text": [
      "Epoch 160, Loss 0.0236\n",
      "Training Accuracy: 0.9727, Testing Accuracy: 0.9708\n",
      "\n"
     ]
    },
    {
     "name": "stdout",
     "output_type": "stream",
     "text": [
      "Epoch 170, Loss 0.023\n",
      "Training Accuracy: 0.9732, Testing Accuracy: 0.9703\n",
      "\n"
     ]
    },
    {
     "name": "stdout",
     "output_type": "stream",
     "text": [
      "Epoch 180, Loss 0.0225\n",
      "Training Accuracy: 0.9740, Testing Accuracy: 0.9703\n",
      "\n"
     ]
    },
    {
     "name": "stdout",
     "output_type": "stream",
     "text": [
      "Epoch 190, Loss 0.022\n",
      "Training Accuracy: 0.9745, Testing Accuracy: 0.9708\n",
      "\n"
     ]
    },
    {
     "name": "stdout",
     "output_type": "stream",
     "text": [
      "Epoch 200, Loss 0.0215\n",
      "Training Accuracy: 0.9755, Testing Accuracy: 0.9718\n",
      "\n"
     ]
    },
    {
     "name": "stdout",
     "output_type": "stream",
     "text": [
      "Epoch 210, Loss 0.021\n",
      "Training Accuracy: 0.9760, Testing Accuracy: 0.9718\n",
      "\n"
     ]
    },
    {
     "name": "stdout",
     "output_type": "stream",
     "text": [
      "Epoch 220, Loss 0.0206\n",
      "Training Accuracy: 0.9765, Testing Accuracy: 0.9728\n",
      "\n"
     ]
    },
    {
     "name": "stdout",
     "output_type": "stream",
     "text": [
      "Epoch 230, Loss 0.0202\n",
      "Training Accuracy: 0.9772, Testing Accuracy: 0.9728\n",
      "\n"
     ]
    },
    {
     "name": "stdout",
     "output_type": "stream",
     "text": [
      "Epoch 240, Loss 0.0198\n",
      "Training Accuracy: 0.9779, Testing Accuracy: 0.9743\n",
      "\n"
     ]
    },
    {
     "name": "stdout",
     "output_type": "stream",
     "text": [
      "Epoch 250, Loss 0.0194\n",
      "Training Accuracy: 0.9780, Testing Accuracy: 0.9738\n",
      "\n"
     ]
    },
    {
     "data": {
      "text/plain": [
       "0.0041149896325966395"
      ]
     },
     "execution_count": 20,
     "metadata": {},
     "output_type": "execute_result"
    }
   ],
   "source": [
    "print(\"====== Neural Network ======\")\n",
    "learner_nn.train_loop(dl)"
   ]
  },
  {
   "cell_type": "markdown",
   "metadata": {
    "papermill": {
     "duration": 0.034829,
     "end_time": "2020-11-02T10:05:29.132214",
     "exception": false,
     "start_time": "2020-11-02T10:05:29.097385",
     "status": "completed"
    },
    "tags": []
   },
   "source": [
    "### Logistic Regression based Implementation."
   ]
  },
  {
   "cell_type": "code",
   "execution_count": 21,
   "metadata": {
    "execution": {
     "iopub.execute_input": "2020-11-02T10:05:29.211277Z",
     "iopub.status.busy": "2020-11-02T10:05:29.208657Z",
     "iopub.status.idle": "2020-11-02T10:05:29.220344Z",
     "shell.execute_reply": "2020-11-02T10:05:29.219894Z"
    },
    "papermill": {
     "duration": 0.053484,
     "end_time": "2020-11-02T10:05:29.220466",
     "exception": false,
     "start_time": "2020-11-02T10:05:29.166982",
     "status": "completed"
    },
    "tags": []
   },
   "outputs": [],
   "source": [
    "learner_lr = Learner(loss, model_lr, opt, config.num_epochs)\n",
    "acc_lr = ClfCallback(learner_lr, config.bs, training_xdata , testing_xdata, training_ydata, testing_ydata)\n",
    "learner_lr.set_callbacks([acc_lr])"
   ]
  },
  {
   "cell_type": "code",
   "execution_count": 22,
   "metadata": {
    "execution": {
     "iopub.execute_input": "2020-11-02T10:05:29.296260Z",
     "iopub.status.busy": "2020-11-02T10:05:29.295709Z",
     "iopub.status.idle": "2020-11-02T10:05:44.538479Z",
     "shell.execute_reply": "2020-11-02T10:05:44.539319Z"
    },
    "papermill": {
     "duration": 15.285788,
     "end_time": "2020-11-02T10:05:44.539486",
     "exception": false,
     "start_time": "2020-11-02T10:05:29.253698",
     "status": "completed"
    },
    "tags": []
   },
   "outputs": [
    {
     "name": "stdout",
     "output_type": "stream",
     "text": [
      "====== Logistic Regression ======\n",
      "Epoch 0, Loss 0.2425\n",
      "Training Accuracy: 0.6695, Testing Accuracy: 0.6512\n",
      "\n"
     ]
    },
    {
     "name": "stdout",
     "output_type": "stream",
     "text": [
      "Epoch 10, Loss 0.1018\n",
      "Training Accuracy: 0.9120, Testing Accuracy: 0.9239\n",
      "\n"
     ]
    },
    {
     "name": "stdout",
     "output_type": "stream",
     "text": [
      "Epoch 20, Loss 0.0783\n",
      "Training Accuracy: 0.9272, Testing Accuracy: 0.9385\n",
      "\n"
     ]
    },
    {
     "name": "stdout",
     "output_type": "stream",
     "text": [
      "Epoch 30, Loss 0.0678\n",
      "Training Accuracy: 0.9354, Testing Accuracy: 0.9441\n",
      "\n"
     ]
    },
    {
     "name": "stdout",
     "output_type": "stream",
     "text": [
      "Epoch 40, Loss 0.0615\n",
      "Training Accuracy: 0.9390, Testing Accuracy: 0.9521\n",
      "\n"
     ]
    },
    {
     "name": "stdout",
     "output_type": "stream",
     "text": [
      "Epoch 50, Loss 0.0571\n",
      "Training Accuracy: 0.9427, Testing Accuracy: 0.9526\n",
      "\n"
     ]
    },
    {
     "name": "stdout",
     "output_type": "stream",
     "text": [
      "Epoch 60, Loss 0.0539\n",
      "Training Accuracy: 0.9453, Testing Accuracy: 0.9536\n",
      "\n"
     ]
    },
    {
     "name": "stdout",
     "output_type": "stream",
     "text": [
      "Epoch 70, Loss 0.0514\n",
      "Training Accuracy: 0.9469, Testing Accuracy: 0.9592\n",
      "\n"
     ]
    },
    {
     "name": "stdout",
     "output_type": "stream",
     "text": [
      "Epoch 80, Loss 0.0494\n",
      "Training Accuracy: 0.9488, Testing Accuracy: 0.9607\n",
      "\n"
     ]
    },
    {
     "name": "stdout",
     "output_type": "stream",
     "text": [
      "Epoch 90, Loss 0.0478\n",
      "Training Accuracy: 0.9502, Testing Accuracy: 0.9607\n",
      "\n"
     ]
    },
    {
     "name": "stdout",
     "output_type": "stream",
     "text": [
      "Epoch 100, Loss 0.0464\n",
      "Training Accuracy: 0.9509, Testing Accuracy: 0.9612\n",
      "\n"
     ]
    },
    {
     "name": "stdout",
     "output_type": "stream",
     "text": [
      "Epoch 110, Loss 0.0451\n",
      "Training Accuracy: 0.9521, Testing Accuracy: 0.9617\n",
      "\n"
     ]
    },
    {
     "name": "stdout",
     "output_type": "stream",
     "text": [
      "Epoch 120, Loss 0.0441\n",
      "Training Accuracy: 0.9528, Testing Accuracy: 0.9622\n",
      "\n"
     ]
    },
    {
     "name": "stdout",
     "output_type": "stream",
     "text": [
      "Epoch 130, Loss 0.0431\n",
      "Training Accuracy: 0.9538, Testing Accuracy: 0.9647\n",
      "\n"
     ]
    },
    {
     "name": "stdout",
     "output_type": "stream",
     "text": [
      "Epoch 140, Loss 0.0423\n",
      "Training Accuracy: 0.9546, Testing Accuracy: 0.9647\n",
      "\n"
     ]
    },
    {
     "name": "stdout",
     "output_type": "stream",
     "text": [
      "Epoch 150, Loss 0.0416\n",
      "Training Accuracy: 0.9554, Testing Accuracy: 0.9647\n",
      "\n"
     ]
    },
    {
     "name": "stdout",
     "output_type": "stream",
     "text": [
      "Epoch 160, Loss 0.0409\n",
      "Training Accuracy: 0.9555, Testing Accuracy: 0.9652\n",
      "\n"
     ]
    },
    {
     "name": "stdout",
     "output_type": "stream",
     "text": [
      "Epoch 170, Loss 0.0403\n",
      "Training Accuracy: 0.9559, Testing Accuracy: 0.9652\n",
      "\n"
     ]
    },
    {
     "name": "stdout",
     "output_type": "stream",
     "text": [
      "Epoch 180, Loss 0.0397\n",
      "Training Accuracy: 0.9568, Testing Accuracy: 0.9657\n",
      "\n"
     ]
    },
    {
     "name": "stdout",
     "output_type": "stream",
     "text": [
      "Epoch 190, Loss 0.0392\n",
      "Training Accuracy: 0.9578, Testing Accuracy: 0.9652\n",
      "\n"
     ]
    },
    {
     "name": "stdout",
     "output_type": "stream",
     "text": [
      "Epoch 200, Loss 0.0387\n",
      "Training Accuracy: 0.9584, Testing Accuracy: 0.9657\n",
      "\n"
     ]
    },
    {
     "name": "stdout",
     "output_type": "stream",
     "text": [
      "Epoch 210, Loss 0.0383\n",
      "Training Accuracy: 0.9589, Testing Accuracy: 0.9662\n",
      "\n"
     ]
    },
    {
     "name": "stdout",
     "output_type": "stream",
     "text": [
      "Epoch 220, Loss 0.0378\n",
      "Training Accuracy: 0.9592, Testing Accuracy: 0.9662\n",
      "\n"
     ]
    },
    {
     "name": "stdout",
     "output_type": "stream",
     "text": [
      "Epoch 230, Loss 0.0374\n",
      "Training Accuracy: 0.9595, Testing Accuracy: 0.9662\n",
      "\n"
     ]
    },
    {
     "name": "stdout",
     "output_type": "stream",
     "text": [
      "Epoch 240, Loss 0.0371\n",
      "Training Accuracy: 0.9599, Testing Accuracy: 0.9662\n",
      "\n"
     ]
    },
    {
     "name": "stdout",
     "output_type": "stream",
     "text": [
      "Epoch 250, Loss 0.0367\n",
      "Training Accuracy: 0.9600, Testing Accuracy: 0.9657\n",
      "\n"
     ]
    },
    {
     "data": {
      "text/plain": [
       "0.04064682558995316"
      ]
     },
     "execution_count": 22,
     "metadata": {},
     "output_type": "execute_result"
    }
   ],
   "source": [
    "print(\"====== Logistic Regression ======\")\n",
    "learner_lr.train_loop(dl)"
   ]
  },
  {
   "cell_type": "markdown",
   "metadata": {
    "papermill": {
     "duration": 0.04409,
     "end_time": "2020-11-02T10:05:44.628568",
     "exception": false,
     "start_time": "2020-11-02T10:05:44.584478",
     "status": "completed"
    },
    "tags": []
   },
   "source": [
    "### Comparing results of NN and LR"
   ]
  },
  {
   "cell_type": "code",
   "execution_count": 23,
   "metadata": {
    "execution": {
     "iopub.execute_input": "2020-11-02T10:05:44.722941Z",
     "iopub.status.busy": "2020-11-02T10:05:44.722308Z",
     "iopub.status.idle": "2020-11-02T10:05:44.967946Z",
     "shell.execute_reply": "2020-11-02T10:05:44.968421Z"
    },
    "papermill": {
     "duration": 0.295792,
     "end_time": "2020-11-02T10:05:44.968586",
     "exception": false,
     "start_time": "2020-11-02T10:05:44.672794",
     "status": "completed"
    },
    "tags": []
   },
   "outputs": [
    {
     "data": {
      "text/plain": [
       "<matplotlib.legend.Legend at 0x7f42fc0a3128>"
      ]
     },
     "execution_count": 23,
     "metadata": {},
     "output_type": "execute_result"
    },
    {
     "data": {
      "image/png": "[encoded data removed]",
      "text/plain": [
       "<Figure size 1080x720 with 1 Axes>"
      ]
     },
     "metadata": {
      "needs_background": "light"
     },
     "output_type": "display_data"
    }
   ],
   "source": [
    "plt.figure(figsize=(15,10))\n",
    "\n",
    "# Neural Network plots\n",
    "plt.plot(acc_nn.accuracies, 'r-', label = \"Training Accuracies - NN\")\n",
    "plt.plot(acc_nn.test_accuracies, 'g-', label = \"Testing Accuracies - NN\")\n",
    "\n",
    "# Logistic Regression plots\n",
    "plt.plot(acc_lr.accuracies, 'k-', label = \"Training Accuracies - LR\")\n",
    "plt.plot(acc_lr.test_accuracies, 'b-', label = \"Testing Accuracies - LR\")\n",
    "\n",
    "plt.ylim(0.8, 1)\n",
    "\n",
    "plt.legend()\n",
    "\n"
   ]
  },
  {
   "cell_type": "markdown",
   "metadata": {
    "papermill": {
     "duration": 0.045516,
     "end_time": "2020-11-02T10:05:45.060307",
     "exception": false,
     "start_time": "2020-11-02T10:05:45.014791",
     "status": "completed"
    },
    "tags": []
   },
   "source": [
    "### From the plot, we can observe the following:\n",
    "- Neural Network achieves higher accuracy than the Logistic Regression model.\n",
    "- This apparently, is because of overfitting, i.e. NN captures more noise than data.\n",
    "- Testing accuracy of NN drops below the Training accuracy at higher epochs. This explains the over-fitting on training data.\n",
    "- Logistic Regression gives a reliable accuracy, without the above mentioned problem.\n"
   ]
  },
  {
   "cell_type": "markdown",
   "metadata": {
    "papermill": {
     "duration": 0.045928,
     "end_time": "2020-11-02T10:05:45.152022",
     "exception": false,
     "start_time": "2020-11-02T10:05:45.106094",
     "status": "completed"
    },
    "tags": []
   },
   "source": [
    "### Moving till the last but one layer (excluding it).\n",
    "#### Plotting the outputs of this layer of the NN."
   ]
  },
  {
   "cell_type": "code",
   "execution_count": 24,
   "metadata": {
    "execution": {
     "iopub.execute_input": "2020-11-02T10:05:45.249362Z",
     "iopub.status.busy": "2020-11-02T10:05:45.248766Z",
     "iopub.status.idle": "2020-11-02T10:05:45.262863Z",
     "shell.execute_reply": "2020-11-02T10:05:45.262351Z"
    },
    "papermill": {
     "duration": 0.06513,
     "end_time": "2020-11-02T10:05:45.263032",
     "exception": false,
     "start_time": "2020-11-02T10:05:45.197902",
     "status": "completed"
    },
    "tags": []
   },
   "outputs": [],
   "source": [
    "model_new = Model(layers[:-2])"
   ]
  },
  {
   "cell_type": "code",
   "execution_count": 25,
   "metadata": {
    "execution": {
     "iopub.execute_input": "2020-11-02T10:05:45.359188Z",
     "iopub.status.busy": "2020-11-02T10:05:45.358559Z",
     "iopub.status.idle": "2020-11-02T10:05:45.380152Z",
     "shell.execute_reply": "2020-11-02T10:05:45.380921Z"
    },
    "papermill": {
     "duration": 0.073174,
     "end_time": "2020-11-02T10:05:45.381085",
     "exception": false,
     "start_time": "2020-11-02T10:05:45.307911",
     "status": "completed"
    },
    "tags": []
   },
   "outputs": [],
   "source": [
    "plot_testing = model_new(testing_xdata)"
   ]
  },
  {
   "cell_type": "code",
   "execution_count": 26,
   "metadata": {
    "execution": {
     "iopub.execute_input": "2020-11-02T10:05:45.480602Z",
     "iopub.status.busy": "2020-11-02T10:05:45.480006Z",
     "iopub.status.idle": "2020-11-02T10:05:45.688148Z",
     "shell.execute_reply": "2020-11-02T10:05:45.688613Z"
    },
    "papermill": {
     "duration": 0.261132,
     "end_time": "2020-11-02T10:05:45.688785",
     "exception": false,
     "start_time": "2020-11-02T10:05:45.427653",
     "status": "completed"
    },
    "tags": []
   },
   "outputs": [
    {
     "data": {
      "text/plain": [
       "Text(0.5, 1.0, 'Outputs')"
      ]
     },
     "execution_count": 26,
     "metadata": {},
     "output_type": "execute_result"
    },
    {
     "data": {
      "image/png": "[encoded data removed]",
      "text/plain": [
       "<Figure size 576x504 with 1 Axes>"
      ]
     },
     "metadata": {
      "needs_background": "light"
     },
     "output_type": "display_data"
    }
   ],
   "source": [
    "plt.figure(figsize=(8,7))\n",
    "plt.scatter(plot_testing[:,0], plot_testing[:,1], alpha = 0.1, c = y_test.ravel());\n",
    "plt.title('Outputs')"
   ]
  },
  {
   "cell_type": "markdown",
   "metadata": {
    "papermill": {
     "duration": 0.04906,
     "end_time": "2020-11-02T10:05:45.786771",
     "exception": false,
     "start_time": "2020-11-02T10:05:45.737711",
     "status": "completed"
    },
    "tags": []
   },
   "source": [
    "### Plotting probability contours"
   ]
  },
  {
   "cell_type": "code",
   "execution_count": 27,
   "metadata": {
    "execution": {
     "iopub.execute_input": "2020-11-02T10:05:45.887379Z",
     "iopub.status.busy": "2020-11-02T10:05:45.886737Z",
     "iopub.status.idle": "2020-11-02T10:05:45.899693Z",
     "shell.execute_reply": "2020-11-02T10:05:45.900224Z"
    },
    "papermill": {
     "duration": 0.065506,
     "end_time": "2020-11-02T10:05:45.900371",
     "exception": false,
     "start_time": "2020-11-02T10:05:45.834865",
     "status": "completed"
    },
    "tags": []
   },
   "outputs": [],
   "source": [
    "model_prob = Model(layers[-2:]) "
   ]
  },
  {
   "cell_type": "code",
   "execution_count": 28,
   "metadata": {
    "execution": {
     "iopub.execute_input": "2020-11-02T10:05:46.003169Z",
     "iopub.status.busy": "2020-11-02T10:05:46.002503Z",
     "iopub.status.idle": "2020-11-02T10:05:46.017662Z",
     "shell.execute_reply": "2020-11-02T10:05:46.018132Z"
    },
    "papermill": {
     "duration": 0.069232,
     "end_time": "2020-11-02T10:05:46.018293",
     "exception": false,
     "start_time": "2020-11-02T10:05:45.949061",
     "status": "completed"
    },
    "tags": []
   },
   "outputs": [],
   "source": [
    "# Adjust the x and y ranges according to the above generated plot.\n",
    "x_range = np.linspace(-4, 1, 100) \n",
    "y_range = np.linspace(-6, 6, 100) \n",
    "x_grid, y_grid = np.meshgrid(x_range, y_range) # x_grid and y_grig are of size 100 X 100\n",
    "\n",
    "# converting x_grid and y_grid to continuous arrays\n",
    "x_grid_flat = np.ravel(x_grid)\n",
    "y_grid_flat = np.ravel(y_grid)\n",
    "\n",
    "# The last layer of the current model takes two columns as input. Hence transpose of np.vstack() is required.\n",
    "X = np.vstack((x_grid_flat, y_grid_flat)).T\n",
    "\n",
    "# x_grid and y_grid are of size 100 x 100\n",
    "probability_contour = model_prob(X).reshape(100,100) "
   ]
  },
  {
   "cell_type": "code",
   "execution_count": 29,
   "metadata": {
    "execution": {
     "iopub.execute_input": "2020-11-02T10:05:46.132669Z",
     "iopub.status.busy": "2020-11-02T10:05:46.132045Z",
     "iopub.status.idle": "2020-11-02T10:05:46.389646Z",
     "shell.execute_reply": "2020-11-02T10:05:46.390133Z"
    },
    "papermill": {
     "duration": 0.313753,
     "end_time": "2020-11-02T10:05:46.390292",
     "exception": false,
     "start_time": "2020-11-02T10:05:46.076539",
     "status": "completed"
    },
    "tags": []
   },
   "outputs": [
    {
     "data": {
      "image/png": "[encoded data removed]",
      "text/plain": [
       "<Figure size 720x648 with 1 Axes>"
      ]
     },
     "metadata": {
      "needs_background": "light"
     },
     "output_type": "display_data"
    }
   ],
   "source": [
    "plt.figure(figsize=(10,9))\n",
    "plt.scatter(plot_testing[:,0], plot_testing[:,1], alpha = 0.1, c = y_test.ravel())\n",
    "contours = plt.contour(x_grid,y_grid,probability_contour)\n",
    "plt.title('Probability Contours')\n",
    "plt.clabel(contours, inline = True );"
   ]
  }
 ],
 "metadata": {
  "kernelspec": {
   "display_name": "Python 3",
   "language": "python",
   "name": "python3"
  },
  "language_info": {
   "codemirror_mode": {
    "name": "ipython",
    "version": 3
   },
   "file_extension": ".py",
   "mimetype": "text/x-python",
   "name": "python",
   "nbconvert_exporter": "python",
   "pygments_lexer": "ipython3",
   "version": "3.6.12"
  },
  "papermill": {
   "duration": 109.921796,
   "end_time": "2020-11-02T10:05:46.852855",
   "environment_variables": {},
   "exception": null,
   "input_path": "2020-08-11-NeuralNetwork.ipynb",
   "output_path": "2020-08-11-NeuralNetwork.ipynb",
   "parameters": {},
   "start_time": "2020-11-02T10:03:56.931059",
   "version": "2.1.2"
  }
 },
 "nbformat": 4,
 "nbformat_minor": 4
}