{
 "cells": [
  {
   "cell_type": "markdown",
   "id": "fitted-suggestion",
   "metadata": {
    "papermill": {
     "duration": 0.033259,
     "end_time": "2021-03-14T00:06:37.910157",
     "exception": false,
     "start_time": "2021-03-14T00:06:37.876898",
     "status": "completed"
    },
    "tags": []
   },
   "source": [
    "# \"A Basic Neural Network: Differentiate Hand-Written Digits\"\n",
    "\n",
    "- badges: true\n",
    "- author: Akshith Sriram"
   ]
  },
  {
   "cell_type": "markdown",
   "id": "signal-flexibility",
   "metadata": {
    "papermill": {
     "duration": 0.028182,
     "end_time": "2021-03-14T00:06:37.967032",
     "exception": false,
     "start_time": "2021-03-14T00:06:37.938850",
     "status": "completed"
    },
    "tags": []
   },
   "source": [
    "### Key Objectives:\n",
    "- Building a neural network that differentiates two hand-written digits 3 and 8.\n",
    "- Comparing the results of this Neural Network (NN) to that of a Logistic Regression (LR) model.\n",
    "\n",
    "### Requirements:\n",
    "- 'Kudzu' : A neural network library that was designed during our course by [Univ.AI](www.univ.ai). \n",
    "- MNIST Database\n",
    "\n",
    "If MNIST is not installed, use the command `!pip install mnist` given below.\n",
    "It can be run both from the command line and Jupyter Notebook."
   ]
  },
  {
   "cell_type": "code",
   "execution_count": 1,
   "id": "british-texture",
   "metadata": {
    "execution": {
     "iopub.execute_input": "2021-03-14T00:06:38.036281Z",
     "iopub.status.busy": "2021-03-14T00:06:38.035639Z",
     "iopub.status.idle": "2021-03-14T00:06:39.554168Z",
     "shell.execute_reply": "2021-03-14T00:06:39.552694Z"
    },
    "papermill": {
     "duration": 1.561265,
     "end_time": "2021-03-14T00:06:39.554398",
     "exception": false,
     "start_time": "2021-03-14T00:06:37.993133",
     "status": "completed"
    },
    "tags": []
   },
   "outputs": [
    {
     "name": "stdout",
     "output_type": "stream",
     "text": [
      "Collecting mnist\r\n"
     ]
    },
    {
     "name": "stdout",
     "output_type": "stream",
     "text": [
      "  Downloading mnist-0.2.2-py2.py3-none-any.whl (3.5 kB)\r\n",
      "Requirement already satisfied: numpy in /opt/hostedtoolcache/Python/3.6.13/x64/lib/python3.6/site-packages (from mnist) (1.19.5)\r\n"
     ]
    },
    {
     "name": "stdout",
     "output_type": "stream",
     "text": [
      "Installing collected packages: mnist\r\n"
     ]
    },
    {
     "name": "stdout",
     "output_type": "stream",
     "text": [
      "Successfully installed mnist-0.2.2\r\n"
     ]
    }
   ],
   "source": [
    "!pip install mnist "
   ]
  },
  {
   "cell_type": "markdown",
   "id": "stunning-extra",
   "metadata": {
    "papermill": {
     "duration": 0.029441,
     "end_time": "2021-03-14T00:06:39.616780",
     "exception": false,
     "start_time": "2021-03-14T00:06:39.587339",
     "status": "completed"
    },
    "tags": []
   },
   "source": [
    "#### Importing necessary libraries"
   ]
  },
  {
   "cell_type": "code",
   "execution_count": 2,
   "id": "wooden-france",
   "metadata": {
    "execution": {
     "iopub.execute_input": "2021-03-14T00:06:39.683762Z",
     "iopub.status.busy": "2021-03-14T00:06:39.683178Z",
     "iopub.status.idle": "2021-03-14T00:06:40.258739Z",
     "shell.execute_reply": "2021-03-14T00:06:40.257782Z"
    },
    "papermill": {
     "duration": 0.613389,
     "end_time": "2021-03-14T00:06:40.258950",
     "exception": false,
     "start_time": "2021-03-14T00:06:39.645561",
     "status": "completed"
    },
    "tags": []
   },
   "outputs": [],
   "source": [
    "%load_ext autoreload\n",
    "%autoreload 2\n",
    "\n",
    "%matplotlib inline\n",
    "import matplotlib.pyplot as plt\n",
    "\n",
    "import numpy as np\n",
    "import pandas as pd"
   ]
  },
  {
   "cell_type": "markdown",
   "id": "stunning-physics",
   "metadata": {
    "papermill": {
     "duration": 0.029583,
     "end_time": "2021-03-14T00:06:40.319428",
     "exception": false,
     "start_time": "2021-03-14T00:06:40.289845",
     "status": "completed"
    },
    "tags": []
   },
   "source": [
    "### Preparing the Data"
   ]
  },
  {
   "cell_type": "code",
   "execution_count": 3,
   "id": "unauthorized-remainder",
   "metadata": {
    "execution": {
     "iopub.execute_input": "2021-03-14T00:06:40.380468Z",
     "iopub.status.busy": "2021-03-14T00:06:40.379923Z",
     "iopub.status.idle": "2021-03-14T00:06:40.393462Z",
     "shell.execute_reply": "2021-03-14T00:06:40.393941Z"
    },
    "papermill": {
     "duration": 0.0466,
     "end_time": "2021-03-14T00:06:40.394127",
     "exception": false,
     "start_time": "2021-03-14T00:06:40.347527",
     "status": "completed"
    },
    "tags": []
   },
   "outputs": [],
   "source": [
    "import mnist"
   ]
  },
  {
   "cell_type": "code",
   "execution_count": 4,
   "id": "correct-antarctica",
   "metadata": {
    "execution": {
     "iopub.execute_input": "2021-03-14T00:06:40.462968Z",
     "iopub.status.busy": "2021-03-14T00:06:40.457245Z",
     "iopub.status.idle": "2021-03-14T00:10:18.815728Z",
     "shell.execute_reply": "2021-03-14T00:10:18.814857Z"
    },
    "papermill": {
     "duration": 218.393221,
     "end_time": "2021-03-14T00:10:18.815944",
     "exception": false,
     "start_time": "2021-03-14T00:06:40.422723",
     "status": "completed"
    },
    "tags": []
   },
   "outputs": [],
   "source": [
    "train_images = mnist.train_images()\n",
    "train_labels = mnist.train_labels()"
   ]
  },
  {
   "cell_type": "code",
   "execution_count": 5,
   "id": "musical-prospect",
   "metadata": {
    "execution": {
     "iopub.execute_input": "2021-03-14T00:10:18.878756Z",
     "iopub.status.busy": "2021-03-14T00:10:18.878177Z",
     "iopub.status.idle": "2021-03-14T00:10:18.893533Z",
     "shell.execute_reply": "2021-03-14T00:10:18.893040Z"
    },
    "papermill": {
     "duration": 0.048327,
     "end_time": "2021-03-14T00:10:18.893664",
     "exception": false,
     "start_time": "2021-03-14T00:10:18.845337",
     "status": "completed"
    },
    "tags": []
   },
   "outputs": [
    {
     "data": {
      "text/plain": [
       "((60000, 28, 28), (60000,))"
      ]
     },
     "execution_count": 5,
     "metadata": {},
     "output_type": "execute_result"
    }
   ],
   "source": [
    "train_images.shape, train_labels.shape"
   ]
  },
  {
   "cell_type": "code",
   "execution_count": 6,
   "id": "preliminary-elizabeth",
   "metadata": {
    "execution": {
     "iopub.execute_input": "2021-03-14T00:10:18.956418Z",
     "iopub.status.busy": "2021-03-14T00:10:18.955832Z",
     "iopub.status.idle": "2021-03-14T00:10:59.268243Z",
     "shell.execute_reply": "2021-03-14T00:10:59.267643Z"
    },
    "papermill": {
     "duration": 40.344889,
     "end_time": "2021-03-14T00:10:59.268395",
     "exception": false,
     "start_time": "2021-03-14T00:10:18.923506",
     "status": "completed"
    },
    "tags": []
   },
   "outputs": [],
   "source": [
    "test_images = mnist.test_images()\n",
    "test_labels = mnist.test_labels()"
   ]
  },
  {
   "cell_type": "code",
   "execution_count": 7,
   "id": "acknowledged-oxygen",
   "metadata": {
    "execution": {
     "iopub.execute_input": "2021-03-14T00:10:59.335450Z",
     "iopub.status.busy": "2021-03-14T00:10:59.334896Z",
     "iopub.status.idle": "2021-03-14T00:10:59.347807Z",
     "shell.execute_reply": "2021-03-14T00:10:59.347304Z"
    },
    "papermill": {
     "duration": 0.049936,
     "end_time": "2021-03-14T00:10:59.347932",
     "exception": false,
     "start_time": "2021-03-14T00:10:59.297996",
     "status": "completed"
    },
    "tags": []
   },
   "outputs": [
    {
     "data": {
      "text/plain": [
       "((10000, 28, 28), (10000,))"
      ]
     },
     "execution_count": 7,
     "metadata": {},
     "output_type": "execute_result"
    }
   ],
   "source": [
    "test_images.shape, test_labels.shape"
   ]
  },
  {
   "cell_type": "code",
   "execution_count": 8,
   "id": "innovative-organic",
   "metadata": {
    "execution": {
     "iopub.execute_input": "2021-03-14T00:10:59.413822Z",
     "iopub.status.busy": "2021-03-14T00:10:59.413233Z",
     "iopub.status.idle": "2021-03-14T00:10:59.556154Z",
     "shell.execute_reply": "2021-03-14T00:10:59.556629Z"
    },
    "papermill": {
     "duration": 0.180246,
     "end_time": "2021-03-14T00:10:59.556776",
     "exception": false,
     "start_time": "2021-03-14T00:10:59.376530",
     "status": "completed"
    },
    "tags": []
   },
   "outputs": [
    {
     "name": "stdout",
     "output_type": "stream",
     "text": [
      "2\n"
     ]
    },
    {
     "data": {
      "text/plain": [
       "<matplotlib.image.AxesImage at 0x7f6a7b710320>"
      ]
     },
     "execution_count": 8,
     "metadata": {},
     "output_type": "execute_result"
    },
    {
     "data": {
      "image/png": "[encoded data removed]",
      "text/plain": [
       "<Figure size 432x288 with 1 Axes>"
      ]
     },
     "metadata": {
      "needs_background": "light"
     },
     "output_type": "display_data"
    }
   ],
   "source": [
    "image_index = 7776 # You may select anything up to 60,000\n",
    "print(train_labels[image_index]) \n",
    "plt.imshow(train_images[image_index], cmap='Greys')"
   ]
  },
  {
   "cell_type": "markdown",
   "id": "facial-modem",
   "metadata": {
    "papermill": {
     "duration": 0.030916,
     "end_time": "2021-03-14T00:10:59.618409",
     "exception": false,
     "start_time": "2021-03-14T00:10:59.587493",
     "status": "completed"
    },
    "tags": []
   },
   "source": [
    "## Filter data to get 3 and 8 out"
   ]
  },
  {
   "cell_type": "code",
   "execution_count": 9,
   "id": "thousand-acquisition",
   "metadata": {
    "execution": {
     "iopub.execute_input": "2021-03-14T00:10:59.685747Z",
     "iopub.status.busy": "2021-03-14T00:10:59.684239Z",
     "iopub.status.idle": "2021-03-14T00:10:59.702617Z",
     "shell.execute_reply": "2021-03-14T00:10:59.702126Z"
    },
    "papermill": {
     "duration": 0.054999,
     "end_time": "2021-03-14T00:10:59.702749",
     "exception": false,
     "start_time": "2021-03-14T00:10:59.647750",
     "status": "completed"
    },
    "tags": []
   },
   "outputs": [],
   "source": [
    "train_filter = np.where((train_labels == 3 ) | (train_labels == 8))\n",
    "test_filter = np.where((test_labels == 3) | (test_labels == 8))\n",
    "X_train, y_train = train_images[train_filter], train_labels[train_filter]\n",
    "X_test, y_test = test_images[test_filter], test_labels[test_filter]"
   ]
  },
  {
   "cell_type": "markdown",
   "id": "ruled-access",
   "metadata": {
    "papermill": {
     "duration": 0.029292,
     "end_time": "2021-03-14T00:10:59.761690",
     "exception": false,
     "start_time": "2021-03-14T00:10:59.732398",
     "status": "completed"
    },
    "tags": []
   },
   "source": [
    "We normalize the pixel values in the 0 to 1 range"
   ]
  },
  {
   "cell_type": "code",
   "execution_count": 10,
   "id": "isolated-denver",
   "metadata": {
    "execution": {
     "iopub.execute_input": "2021-03-14T00:10:59.831291Z",
     "iopub.status.busy": "2021-03-14T00:10:59.830748Z",
     "iopub.status.idle": "2021-03-14T00:10:59.882921Z",
     "shell.execute_reply": "2021-03-14T00:10:59.882000Z"
    },
    "papermill": {
     "duration": 0.091535,
     "end_time": "2021-03-14T00:10:59.883124",
     "exception": false,
     "start_time": "2021-03-14T00:10:59.791589",
     "status": "completed"
    },
    "tags": []
   },
   "outputs": [],
   "source": [
    "X_train = X_train/255.\n",
    "X_test = X_test/255."
   ]
  },
  {
   "cell_type": "markdown",
   "id": "perfect-summary",
   "metadata": {
    "papermill": {
     "duration": 0.02995,
     "end_time": "2021-03-14T00:10:59.944031",
     "exception": false,
     "start_time": "2021-03-14T00:10:59.914081",
     "status": "completed"
    },
    "tags": []
   },
   "source": [
    "Setup the labels as 1 (when the digit is 3) and 0 (when the digit is 8)"
   ]
  },
  {
   "cell_type": "code",
   "execution_count": 11,
   "id": "personalized-growing",
   "metadata": {
    "execution": {
     "iopub.execute_input": "2021-03-14T00:11:00.010684Z",
     "iopub.status.busy": "2021-03-14T00:11:00.010124Z",
     "iopub.status.idle": "2021-03-14T00:11:00.025494Z",
     "shell.execute_reply": "2021-03-14T00:11:00.025048Z"
    },
    "papermill": {
     "duration": 0.050669,
     "end_time": "2021-03-14T00:11:00.025614",
     "exception": false,
     "start_time": "2021-03-14T00:10:59.974945",
     "status": "completed"
    },
    "tags": []
   },
   "outputs": [],
   "source": [
    "y_train = 1*(y_train==3)\n",
    "y_test = 1*(y_test==3)"
   ]
  },
  {
   "cell_type": "code",
   "execution_count": 12,
   "id": "considered-virgin",
   "metadata": {
    "execution": {
     "iopub.execute_input": "2021-03-14T00:11:00.089382Z",
     "iopub.status.busy": "2021-03-14T00:11:00.088847Z",
     "iopub.status.idle": "2021-03-14T00:11:00.103241Z",
     "shell.execute_reply": "2021-03-14T00:11:00.103689Z"
    },
    "papermill": {
     "duration": 0.049355,
     "end_time": "2021-03-14T00:11:00.103845",
     "exception": false,
     "start_time": "2021-03-14T00:11:00.054490",
     "status": "completed"
    },
    "tags": []
   },
   "outputs": [
    {
     "data": {
      "text/plain": [
       "((11982, 28, 28), (1984, 28, 28))"
      ]
     },
     "execution_count": 12,
     "metadata": {},
     "output_type": "execute_result"
    }
   ],
   "source": [
    "X_train.shape, X_test.shape"
   ]
  },
  {
   "cell_type": "markdown",
   "id": "civilian-mobile",
   "metadata": {
    "papermill": {
     "duration": 0.030711,
     "end_time": "2021-03-14T00:11:00.165392",
     "exception": false,
     "start_time": "2021-03-14T00:11:00.134681",
     "status": "completed"
    },
    "tags": []
   },
   "source": [
    "### Reshape the input data to create a linear array"
   ]
  },
  {
   "cell_type": "code",
   "execution_count": 13,
   "id": "colonial-adams",
   "metadata": {
    "execution": {
     "iopub.execute_input": "2021-03-14T00:11:00.231248Z",
     "iopub.status.busy": "2021-03-14T00:11:00.230658Z",
     "iopub.status.idle": "2021-03-14T00:11:00.245357Z",
     "shell.execute_reply": "2021-03-14T00:11:00.244885Z"
    },
    "papermill": {
     "duration": 0.049736,
     "end_time": "2021-03-14T00:11:00.245486",
     "exception": false,
     "start_time": "2021-03-14T00:11:00.195750",
     "status": "completed"
    },
    "tags": []
   },
   "outputs": [
    {
     "data": {
      "text/plain": [
       "((11982, 784), (1984, 784))"
      ]
     },
     "execution_count": 13,
     "metadata": {},
     "output_type": "execute_result"
    }
   ],
   "source": [
    "X_train = X_train.reshape(X_train.shape[0], -1)\n",
    "X_test = X_test.reshape(X_test.shape[0], -1)\n",
    "X_train.shape, X_test.shape"
   ]
  },
  {
   "cell_type": "markdown",
   "id": "smart-details",
   "metadata": {
    "papermill": {
     "duration": 0.029277,
     "end_time": "2021-03-14T00:11:00.305530",
     "exception": false,
     "start_time": "2021-03-14T00:11:00.276253",
     "status": "completed"
    },
    "tags": []
   },
   "source": [
    "### Importing appropriate functions from 'Kudzu'"
   ]
  },
  {
   "cell_type": "code",
   "execution_count": 14,
   "id": "celtic-trial",
   "metadata": {
    "execution": {
     "iopub.execute_input": "2021-03-14T00:11:00.370623Z",
     "iopub.status.busy": "2021-03-14T00:11:00.370102Z",
     "iopub.status.idle": "2021-03-14T00:11:00.390400Z",
     "shell.execute_reply": "2021-03-14T00:11:00.389926Z"
    },
    "papermill": {
     "duration": 0.055134,
     "end_time": "2021-03-14T00:11:00.390520",
     "exception": false,
     "start_time": "2021-03-14T00:11:00.335386",
     "status": "completed"
    },
    "tags": []
   },
   "outputs": [],
   "source": [
    "from kudzu.layer import Sigmoid\n",
    "from kudzu.layer import Relu\n",
    "from kudzu.layer import Affine, Sigmoid\n",
    "\n",
    "from kudzu.model import Model\n",
    "from kudzu.train import Learner\n",
    "from kudzu.optim import GD\n",
    "from kudzu.data import Data, Dataloader, Sampler\n",
    "\n",
    "from kudzu.callbacks import AccCallback\n",
    "from kudzu.callbacks import ClfCallback\n",
    "\n",
    "from kudzu.loss import MSE"
   ]
  },
  {
   "cell_type": "markdown",
   "id": "coupled-customer",
   "metadata": {
    "papermill": {
     "duration": 0.030043,
     "end_time": "2021-03-14T00:11:00.450559",
     "exception": false,
     "start_time": "2021-03-14T00:11:00.420516",
     "status": "completed"
    },
    "tags": []
   },
   "source": [
    "### Let us create a `Config` class, to store important parameters. \n",
    "This class essentially plays the role of a dictionary."
   ]
  },
  {
   "cell_type": "code",
   "execution_count": 15,
   "id": "young-ceiling",
   "metadata": {
    "execution": {
     "iopub.execute_input": "2021-03-14T00:11:00.516238Z",
     "iopub.status.busy": "2021-03-14T00:11:00.515632Z",
     "iopub.status.idle": "2021-03-14T00:11:00.527404Z",
     "shell.execute_reply": "2021-03-14T00:11:00.526955Z"
    },
    "papermill": {
     "duration": 0.046996,
     "end_time": "2021-03-14T00:11:00.527520",
     "exception": false,
     "start_time": "2021-03-14T00:11:00.480524",
     "status": "completed"
    },
    "tags": []
   },
   "outputs": [],
   "source": [
    "class Config:\n",
    "    pass\n",
    "config = Config()\n",
    "config.lr = 0.001\n",
    "config.num_epochs = 251\n",
    "config.bs = 50"
   ]
  },
  {
   "cell_type": "markdown",
   "id": "according-mandate",
   "metadata": {
    "papermill": {
     "duration": 0.029922,
     "end_time": "2021-03-14T00:11:00.588598",
     "exception": false,
     "start_time": "2021-03-14T00:11:00.558676",
     "status": "completed"
    },
    "tags": []
   },
   "source": [
    "### Initializing data to the variables"
   ]
  },
  {
   "cell_type": "code",
   "execution_count": 16,
   "id": "academic-disposition",
   "metadata": {
    "execution": {
     "iopub.execute_input": "2021-03-14T00:11:00.654964Z",
     "iopub.status.busy": "2021-03-14T00:11:00.654421Z",
     "iopub.status.idle": "2021-03-14T00:11:00.667736Z",
     "shell.execute_reply": "2021-03-14T00:11:00.667333Z"
    },
    "papermill": {
     "duration": 0.048087,
     "end_time": "2021-03-14T00:11:00.667835",
     "exception": false,
     "start_time": "2021-03-14T00:11:00.619748",
     "status": "completed"
    },
    "tags": []
   },
   "outputs": [],
   "source": [
    "data = Data(X_train, y_train.reshape(-1,1))\n",
    "sampler = Sampler(data, config.bs, shuffle=True)\n",
    "\n",
    "dl = Dataloader(data, sampler)\n",
    "\n",
    "opt = GD(config.lr)\n",
    "loss = MSE()"
   ]
  },
  {
   "cell_type": "code",
   "execution_count": 17,
   "id": "featured-commission",
   "metadata": {
    "execution": {
     "iopub.execute_input": "2021-03-14T00:11:00.730791Z",
     "iopub.status.busy": "2021-03-14T00:11:00.730242Z",
     "iopub.status.idle": "2021-03-14T00:11:00.744107Z",
     "shell.execute_reply": "2021-03-14T00:11:00.743606Z"
    },
    "papermill": {
     "duration": 0.047649,
     "end_time": "2021-03-14T00:11:00.744228",
     "exception": false,
     "start_time": "2021-03-14T00:11:00.696579",
     "status": "completed"
    },
    "tags": []
   },
   "outputs": [],
   "source": [
    "training_xdata = X_train\n",
    "testing_xdata = X_test\n",
    "training_ydata = y_train.reshape(-1,1)\n",
    "testing_ydata = y_test.reshape(-1,1)"
   ]
  },
  {
   "cell_type": "markdown",
   "id": "played-safety",
   "metadata": {
    "papermill": {
     "duration": 0.031504,
     "end_time": "2021-03-14T00:11:00.807321",
     "exception": false,
     "start_time": "2021-03-14T00:11:00.775817",
     "status": "completed"
    },
    "tags": []
   },
   "source": [
    "### Running Models with the Training data\n",
    "Details about the network layers:\n",
    "- A first affine layer has 784 inputs and does 100 affine transforms. These are followed by a Relu\n",
    "- A second affine layer has 100 inputs from the 100 activations of the past layer, and does 100 affine transforms. These are followed by a Relu\n",
    "- A third affine layer has 100 activations and does 2 affine transformations to create an embedding for visualization. There is no non-linearity here.\n",
    "- A final \"logistic regression\" which has an affine transform from 2 inputs to 1 output, which is squeezed through a sigmoid.\n",
    "\n",
    "Help taken from Anshuman's Notebook."
   ]
  },
  {
   "cell_type": "code",
   "execution_count": 18,
   "id": "asian-bankruptcy",
   "metadata": {
    "execution": {
     "iopub.execute_input": "2021-03-14T00:11:00.877581Z",
     "iopub.status.busy": "2021-03-14T00:11:00.876965Z",
     "iopub.status.idle": "2021-03-14T00:11:00.895019Z",
     "shell.execute_reply": "2021-03-14T00:11:00.894515Z"
    },
    "papermill": {
     "duration": 0.056316,
     "end_time": "2021-03-14T00:11:00.895152",
     "exception": false,
     "start_time": "2021-03-14T00:11:00.838836",
     "status": "completed"
    },
    "tags": []
   },
   "outputs": [],
   "source": [
    "# layers for the Neural Network\n",
    "layers = [Affine(\"first\", 784, 100), Relu(\"first\"), Affine(\"second\", 100, 100), Relu(\"second\"), Affine(\"third\", 100, 2), Affine(\"final\", 2, 1), Sigmoid(\"final\")]\n",
    "model_nn = Model(layers)\n",
    "\n",
    "# layers for the Logistic Regression\n",
    "layers_lr = [Affine(\"logits\", 784, 1), Sigmoid(\"sigmoid\")]\n",
    "model_lr = Model(layers_lr)"
   ]
  },
  {
   "cell_type": "code",
   "execution_count": 19,
   "id": "removed-butler",
   "metadata": {
    "execution": {
     "iopub.execute_input": "2021-03-14T00:11:00.961591Z",
     "iopub.status.busy": "2021-03-14T00:11:00.961045Z",
     "iopub.status.idle": "2021-03-14T00:11:00.973814Z",
     "shell.execute_reply": "2021-03-14T00:11:00.973305Z"
    },
    "papermill": {
     "duration": 0.047747,
     "end_time": "2021-03-14T00:11:00.973942",
     "exception": false,
     "start_time": "2021-03-14T00:11:00.926195",
     "status": "completed"
    },
    "tags": []
   },
   "outputs": [],
   "source": [
    "# suffix _nn stands for Neural Network.\n",
    "learner_nn = Learner(loss, model_nn, opt, config.num_epochs)\n",
    "acc_nn = ClfCallback(learner_nn, config.bs, training_xdata , testing_xdata, training_ydata, testing_ydata)\n",
    "learner_nn.set_callbacks([acc_nn])"
   ]
  },
  {
   "cell_type": "code",
   "execution_count": 20,
   "id": "conceptual-throw",
   "metadata": {
    "execution": {
     "iopub.execute_input": "2021-03-14T00:11:01.039128Z",
     "iopub.status.busy": "2021-03-14T00:11:01.038010Z",
     "iopub.status.idle": "2021-03-14T00:12:26.640430Z",
     "shell.execute_reply": "2021-03-14T00:12:26.640992Z"
    },
    "papermill": {
     "duration": 85.636574,
     "end_time": "2021-03-14T00:12:26.641140",
     "exception": false,
     "start_time": "2021-03-14T00:11:01.004566",
     "status": "completed"
    },
    "tags": []
   },
   "outputs": [
    {
     "name": "stdout",
     "output_type": "stream",
     "text": [
      "====== Neural Network ======\n"
     ]
    },
    {
     "name": "stdout",
     "output_type": "stream",
     "text": [
      "Epoch 0, Loss 0.2586\n",
      "Training Accuracy: 0.5612, Testing Accuracy: 0.5680\n",
      "\n"
     ]
    },
    {
     "name": "stdout",
     "output_type": "stream",
     "text": [
      "Epoch 10, Loss 0.0874\n",
      "Training Accuracy: 0.9212, Testing Accuracy: 0.9320\n",
      "\n"
     ]
    },
    {
     "name": "stdout",
     "output_type": "stream",
     "text": [
      "Epoch 20, Loss 0.0549\n",
      "Training Accuracy: 0.9418, Testing Accuracy: 0.9516\n",
      "\n"
     ]
    },
    {
     "name": "stdout",
     "output_type": "stream",
     "text": [
      "Epoch 30, Loss 0.044\n",
      "Training Accuracy: 0.9512, Testing Accuracy: 0.9607\n",
      "\n"
     ]
    },
    {
     "name": "stdout",
     "output_type": "stream",
     "text": [
      "Epoch 40, Loss 0.0384\n",
      "Training Accuracy: 0.9570, Testing Accuracy: 0.9627\n",
      "\n"
     ]
    },
    {
     "name": "stdout",
     "output_type": "stream",
     "text": [
      "Epoch 50, Loss 0.0349\n",
      "Training Accuracy: 0.9609, Testing Accuracy: 0.9657\n",
      "\n"
     ]
    },
    {
     "name": "stdout",
     "output_type": "stream",
     "text": [
      "Epoch 60, Loss 0.0324\n",
      "Training Accuracy: 0.9620, Testing Accuracy: 0.9693\n",
      "\n"
     ]
    },
    {
     "name": "stdout",
     "output_type": "stream",
     "text": [
      "Epoch 70, Loss 0.0305\n",
      "Training Accuracy: 0.9634, Testing Accuracy: 0.9698\n",
      "\n"
     ]
    },
    {
     "name": "stdout",
     "output_type": "stream",
     "text": [
      "Epoch 80, Loss 0.029\n",
      "Training Accuracy: 0.9655, Testing Accuracy: 0.9718\n",
      "\n"
     ]
    },
    {
     "name": "stdout",
     "output_type": "stream",
     "text": [
      "Epoch 90, Loss 0.0278\n",
      "Training Accuracy: 0.9675, Testing Accuracy: 0.9723\n",
      "\n"
     ]
    },
    {
     "name": "stdout",
     "output_type": "stream",
     "text": [
      "Epoch 100, Loss 0.0267\n",
      "Training Accuracy: 0.9691, Testing Accuracy: 0.9733\n",
      "\n"
     ]
    },
    {
     "name": "stdout",
     "output_type": "stream",
     "text": [
      "Epoch 110, Loss 0.0258\n",
      "Training Accuracy: 0.9697, Testing Accuracy: 0.9723\n",
      "\n"
     ]
    },
    {
     "name": "stdout",
     "output_type": "stream",
     "text": [
      "Epoch 120, Loss 0.025\n",
      "Training Accuracy: 0.9709, Testing Accuracy: 0.9723\n",
      "\n"
     ]
    },
    {
     "name": "stdout",
     "output_type": "stream",
     "text": [
      "Epoch 130, Loss 0.0243\n",
      "Training Accuracy: 0.9722, Testing Accuracy: 0.9713\n",
      "\n"
     ]
    },
    {
     "name": "stdout",
     "output_type": "stream",
     "text": [
      "Epoch 140, Loss 0.0236\n",
      "Training Accuracy: 0.9733, Testing Accuracy: 0.9738\n",
      "\n"
     ]
    },
    {
     "name": "stdout",
     "output_type": "stream",
     "text": [
      "Epoch 150, Loss 0.023\n",
      "Training Accuracy: 0.9739, Testing Accuracy: 0.9728\n",
      "\n"
     ]
    },
    {
     "name": "stdout",
     "output_type": "stream",
     "text": [
      "Epoch 160, Loss 0.0225\n",
      "Training Accuracy: 0.9745, Testing Accuracy: 0.9728\n",
      "\n"
     ]
    },
    {
     "name": "stdout",
     "output_type": "stream",
     "text": [
      "Epoch 170, Loss 0.0219\n",
      "Training Accuracy: 0.9750, Testing Accuracy: 0.9738\n",
      "\n"
     ]
    },
    {
     "name": "stdout",
     "output_type": "stream",
     "text": [
      "Epoch 180, Loss 0.0215\n",
      "Training Accuracy: 0.9752, Testing Accuracy: 0.9733\n",
      "\n"
     ]
    },
    {
     "name": "stdout",
     "output_type": "stream",
     "text": [
      "Epoch 190, Loss 0.021\n",
      "Training Accuracy: 0.9755, Testing Accuracy: 0.9738\n",
      "\n"
     ]
    },
    {
     "name": "stdout",
     "output_type": "stream",
     "text": [
      "Epoch 200, Loss 0.0206\n",
      "Training Accuracy: 0.9760, Testing Accuracy: 0.9743\n",
      "\n"
     ]
    },
    {
     "name": "stdout",
     "output_type": "stream",
     "text": [
      "Epoch 210, Loss 0.0202\n",
      "Training Accuracy: 0.9770, Testing Accuracy: 0.9743\n",
      "\n"
     ]
    },
    {
     "name": "stdout",
     "output_type": "stream",
     "text": [
      "Epoch 220, Loss 0.0198\n",
      "Training Accuracy: 0.9772, Testing Accuracy: 0.9738\n",
      "\n"
     ]
    },
    {
     "name": "stdout",
     "output_type": "stream",
     "text": [
      "Epoch 230, Loss 0.0194\n",
      "Training Accuracy: 0.9773, Testing Accuracy: 0.9748\n",
      "\n"
     ]
    },
    {
     "name": "stdout",
     "output_type": "stream",
     "text": [
      "Epoch 240, Loss 0.0191\n",
      "Training Accuracy: 0.9781, Testing Accuracy: 0.9748\n",
      "\n"
     ]
    },
    {
     "name": "stdout",
     "output_type": "stream",
     "text": [
      "Epoch 250, Loss 0.0187\n",
      "Training Accuracy: 0.9785, Testing Accuracy: 0.9748\n",
      "\n"
     ]
    },
    {
     "data": {
      "text/plain": [
       "0.0090576651227967"
      ]
     },
     "execution_count": 20,
     "metadata": {},
     "output_type": "execute_result"
    }
   ],
   "source": [
    "print(\"====== Neural Network ======\")\n",
    "learner_nn.train_loop(dl)"
   ]
  },
  {
   "cell_type": "markdown",
   "id": "competent-suffering",
   "metadata": {
    "papermill": {
     "duration": 0.039373,
     "end_time": "2021-03-14T00:12:26.720317",
     "exception": false,
     "start_time": "2021-03-14T00:12:26.680944",
     "status": "completed"
    },
    "tags": []
   },
   "source": [
    "### Logistic Regression based Implementation."
   ]
  },
  {
   "cell_type": "code",
   "execution_count": 21,
   "id": "qualified-psychiatry",
   "metadata": {
    "execution": {
     "iopub.execute_input": "2021-03-14T00:12:26.803435Z",
     "iopub.status.busy": "2021-03-14T00:12:26.802817Z",
     "iopub.status.idle": "2021-03-14T00:12:26.816804Z",
     "shell.execute_reply": "2021-03-14T00:12:26.816243Z"
    },
    "papermill": {
     "duration": 0.057817,
     "end_time": "2021-03-14T00:12:26.816924",
     "exception": false,
     "start_time": "2021-03-14T00:12:26.759107",
     "status": "completed"
    },
    "tags": []
   },
   "outputs": [],
   "source": [
    "learner_lr = Learner(loss, model_lr, opt, config.num_epochs)\n",
    "acc_lr = ClfCallback(learner_lr, config.bs, training_xdata , testing_xdata, training_ydata, testing_ydata)\n",
    "learner_lr.set_callbacks([acc_lr])"
   ]
  },
  {
   "cell_type": "code",
   "execution_count": 22,
   "id": "average-outside",
   "metadata": {
    "execution": {
     "iopub.execute_input": "2021-03-14T00:12:26.902858Z",
     "iopub.status.busy": "2021-03-14T00:12:26.901748Z",
     "iopub.status.idle": "2021-03-14T00:12:41.920088Z",
     "shell.execute_reply": "2021-03-14T00:12:41.920791Z"
    },
    "papermill": {
     "duration": 15.064554,
     "end_time": "2021-03-14T00:12:41.920932",
     "exception": false,
     "start_time": "2021-03-14T00:12:26.856378",
     "status": "completed"
    },
    "tags": []
   },
   "outputs": [
    {
     "name": "stdout",
     "output_type": "stream",
     "text": [
      "====== Logistic Regression ======\n",
      "Epoch 0, Loss 0.1962\n",
      "Training Accuracy: 0.7711, Testing Accuracy: 0.7681\n",
      "\n"
     ]
    },
    {
     "name": "stdout",
     "output_type": "stream",
     "text": [
      "Epoch 10, Loss 0.1023\n",
      "Training Accuracy: 0.8986, Testing Accuracy: 0.9062\n",
      "\n"
     ]
    },
    {
     "name": "stdout",
     "output_type": "stream",
     "text": [
      "Epoch 20, Loss 0.0799\n",
      "Training Accuracy: 0.9224, Testing Accuracy: 0.9345\n",
      "\n"
     ]
    },
    {
     "name": "stdout",
     "output_type": "stream",
     "text": [
      "Epoch 30, Loss 0.0688\n",
      "Training Accuracy: 0.9321, Testing Accuracy: 0.9456\n",
      "\n"
     ]
    },
    {
     "name": "stdout",
     "output_type": "stream",
     "text": [
      "Epoch 40, Loss 0.0621\n",
      "Training Accuracy: 0.9392, Testing Accuracy: 0.9491\n",
      "\n"
     ]
    },
    {
     "name": "stdout",
     "output_type": "stream",
     "text": [
      "Epoch 50, Loss 0.0574\n",
      "Training Accuracy: 0.9432, Testing Accuracy: 0.9556\n",
      "\n"
     ]
    },
    {
     "name": "stdout",
     "output_type": "stream",
     "text": [
      "Epoch 60, Loss 0.054\n",
      "Training Accuracy: 0.9458, Testing Accuracy: 0.9572\n",
      "\n"
     ]
    },
    {
     "name": "stdout",
     "output_type": "stream",
     "text": [
      "Epoch 70, Loss 0.0514\n",
      "Training Accuracy: 0.9491, Testing Accuracy: 0.9587\n",
      "\n"
     ]
    },
    {
     "name": "stdout",
     "output_type": "stream",
     "text": [
      "Epoch 80, Loss 0.0493\n",
      "Training Accuracy: 0.9508, Testing Accuracy: 0.9602\n",
      "\n"
     ]
    },
    {
     "name": "stdout",
     "output_type": "stream",
     "text": [
      "Epoch 90, Loss 0.0476\n",
      "Training Accuracy: 0.9522, Testing Accuracy: 0.9612\n",
      "\n"
     ]
    },
    {
     "name": "stdout",
     "output_type": "stream",
     "text": [
      "Epoch 100, Loss 0.0461\n",
      "Training Accuracy: 0.9537, Testing Accuracy: 0.9612\n",
      "\n"
     ]
    },
    {
     "name": "stdout",
     "output_type": "stream",
     "text": [
      "Epoch 110, Loss 0.0449\n",
      "Training Accuracy: 0.9548, Testing Accuracy: 0.9617\n",
      "\n"
     ]
    },
    {
     "name": "stdout",
     "output_type": "stream",
     "text": [
      "Epoch 120, Loss 0.0438\n",
      "Training Accuracy: 0.9565, Testing Accuracy: 0.9627\n",
      "\n"
     ]
    },
    {
     "name": "stdout",
     "output_type": "stream",
     "text": [
      "Epoch 130, Loss 0.0429\n",
      "Training Accuracy: 0.9571, Testing Accuracy: 0.9632\n",
      "\n"
     ]
    },
    {
     "name": "stdout",
     "output_type": "stream",
     "text": [
      "Epoch 140, Loss 0.042\n",
      "Training Accuracy: 0.9575, Testing Accuracy: 0.9642\n",
      "\n"
     ]
    },
    {
     "name": "stdout",
     "output_type": "stream",
     "text": [
      "Epoch 150, Loss 0.0413\n",
      "Training Accuracy: 0.9579, Testing Accuracy: 0.9652\n",
      "\n"
     ]
    },
    {
     "name": "stdout",
     "output_type": "stream",
     "text": [
      "Epoch 160, Loss 0.0406\n",
      "Training Accuracy: 0.9583, Testing Accuracy: 0.9657\n",
      "\n"
     ]
    },
    {
     "name": "stdout",
     "output_type": "stream",
     "text": [
      "Epoch 170, Loss 0.04\n",
      "Training Accuracy: 0.9588, Testing Accuracy: 0.9662\n",
      "\n"
     ]
    },
    {
     "name": "stdout",
     "output_type": "stream",
     "text": [
      "Epoch 180, Loss 0.0394\n",
      "Training Accuracy: 0.9590, Testing Accuracy: 0.9662\n",
      "\n"
     ]
    },
    {
     "name": "stdout",
     "output_type": "stream",
     "text": [
      "Epoch 190, Loss 0.0389\n",
      "Training Accuracy: 0.9593, Testing Accuracy: 0.9662\n",
      "\n"
     ]
    },
    {
     "name": "stdout",
     "output_type": "stream",
     "text": [
      "Epoch 200, Loss 0.0384\n",
      "Training Accuracy: 0.9599, Testing Accuracy: 0.9672\n",
      "\n"
     ]
    },
    {
     "name": "stdout",
     "output_type": "stream",
     "text": [
      "Epoch 210, Loss 0.038\n",
      "Training Accuracy: 0.9604, Testing Accuracy: 0.9672\n",
      "\n"
     ]
    },
    {
     "name": "stdout",
     "output_type": "stream",
     "text": [
      "Epoch 220, Loss 0.0376\n",
      "Training Accuracy: 0.9608, Testing Accuracy: 0.9677\n",
      "\n"
     ]
    },
    {
     "name": "stdout",
     "output_type": "stream",
     "text": [
      "Epoch 230, Loss 0.0372\n",
      "Training Accuracy: 0.9611, Testing Accuracy: 0.9672\n",
      "\n"
     ]
    },
    {
     "name": "stdout",
     "output_type": "stream",
     "text": [
      "Epoch 240, Loss 0.0368\n",
      "Training Accuracy: 0.9611, Testing Accuracy: 0.9672\n",
      "\n"
     ]
    },
    {
     "name": "stdout",
     "output_type": "stream",
     "text": [
      "Epoch 250, Loss 0.0365\n",
      "Training Accuracy: 0.9614, Testing Accuracy: 0.9672\n",
      "\n"
     ]
    },
    {
     "data": {
      "text/plain": [
       "0.007855811230763756"
      ]
     },
     "execution_count": 22,
     "metadata": {},
     "output_type": "execute_result"
    }
   ],
   "source": [
    "print(\"====== Logistic Regression ======\")\n",
    "learner_lr.train_loop(dl)"
   ]
  },
  {
   "cell_type": "markdown",
   "id": "adjusted-possible",
   "metadata": {
    "papermill": {
     "duration": 0.048023,
     "end_time": "2021-03-14T00:12:42.016342",
     "exception": false,
     "start_time": "2021-03-14T00:12:41.968319",
     "status": "completed"
    },
    "tags": []
   },
   "source": [
    "### Comparing results of NN and LR"
   ]
  },
  {
   "cell_type": "code",
   "execution_count": 23,
   "id": "mental-multimedia",
   "metadata": {
    "execution": {
     "iopub.execute_input": "2021-03-14T00:12:42.119296Z",
     "iopub.status.busy": "2021-03-14T00:12:42.118626Z",
     "iopub.status.idle": "2021-03-14T00:12:42.355209Z",
     "shell.execute_reply": "2021-03-14T00:12:42.355693Z"
    },
    "papermill": {
     "duration": 0.291956,
     "end_time": "2021-03-14T00:12:42.355834",
     "exception": false,
     "start_time": "2021-03-14T00:12:42.063878",
     "status": "completed"
    },
    "tags": []
   },
   "outputs": [
    {
     "data": {
      "text/plain": [
       "<matplotlib.legend.Legend at 0x7f6a732e4c88>"
      ]
     },
     "execution_count": 23,
     "metadata": {},
     "output_type": "execute_result"
    },
    {
     "data": {
      "image/png": "[encoded data removed]",
      "text/plain": [
       "<Figure size 1080x720 with 1 Axes>"
      ]
     },
     "metadata": {
      "needs_background": "light"
     },
     "output_type": "display_data"
    }
   ],
   "source": [
    "plt.figure(figsize=(15,10))\n",
    "\n",
    "# Neural Network plots\n",
    "plt.plot(acc_nn.accuracies, 'r-', label = \"Training Accuracies - NN\")\n",
    "plt.plot(acc_nn.test_accuracies, 'g-', label = \"Testing Accuracies - NN\")\n",
    "\n",
    "# Logistic Regression plots\n",
    "plt.plot(acc_lr.accuracies, 'k-', label = \"Training Accuracies - LR\")\n",
    "plt.plot(acc_lr.test_accuracies, 'b-', label = \"Testing Accuracies - LR\")\n",
    "\n",
    "plt.ylim(0.8, 1)\n",
    "\n",
    "plt.legend()\n",
    "\n"
   ]
  },
  {
   "cell_type": "markdown",
   "id": "sexual-flesh",
   "metadata": {
    "papermill": {
     "duration": 0.048455,
     "end_time": "2021-03-14T00:12:42.453572",
     "exception": false,
     "start_time": "2021-03-14T00:12:42.405117",
     "status": "completed"
    },
    "tags": []
   },
   "source": [
    "### From the plot, we can observe the following:\n",
    "- Neural Network achieves higher accuracy than the Logistic Regression model.\n",
    "- This apparently, is because of overfitting, i.e. NN captures more noise than data.\n",
    "- Testing accuracy of NN drops below the Training accuracy at higher epochs. This explains the over-fitting on training data.\n",
    "- Logistic Regression gives a reliable accuracy, without the above mentioned problem.\n"
   ]
  },
  {
   "cell_type": "markdown",
   "id": "institutional-pacific",
   "metadata": {
    "papermill": {
     "duration": 0.048475,
     "end_time": "2021-03-14T00:12:42.550095",
     "exception": false,
     "start_time": "2021-03-14T00:12:42.501620",
     "status": "completed"
    },
    "tags": []
   },
   "source": [
    "### Moving till the last but one layer (excluding it).\n",
    "#### Plotting the outputs of this layer of the NN."
   ]
  },
  {
   "cell_type": "code",
   "execution_count": 24,
   "id": "economic-server",
   "metadata": {
    "execution": {
     "iopub.execute_input": "2021-03-14T00:12:42.653824Z",
     "iopub.status.busy": "2021-03-14T00:12:42.653224Z",
     "iopub.status.idle": "2021-03-14T00:12:42.666352Z",
     "shell.execute_reply": "2021-03-14T00:12:42.665811Z"
    },
    "papermill": {
     "duration": 0.06655,
     "end_time": "2021-03-14T00:12:42.666484",
     "exception": false,
     "start_time": "2021-03-14T00:12:42.599934",
     "status": "completed"
    },
    "tags": []
   },
   "outputs": [],
   "source": [
    "model_new = Model(layers[:-2])"
   ]
  },
  {
   "cell_type": "code",
   "execution_count": 25,
   "id": "varied-upgrade",
   "metadata": {
    "execution": {
     "iopub.execute_input": "2021-03-14T00:12:42.768169Z",
     "iopub.status.busy": "2021-03-14T00:12:42.767585Z",
     "iopub.status.idle": "2021-03-14T00:12:42.787703Z",
     "shell.execute_reply": "2021-03-14T00:12:42.788195Z"
    },
    "papermill": {
     "duration": 0.072583,
     "end_time": "2021-03-14T00:12:42.788346",
     "exception": false,
     "start_time": "2021-03-14T00:12:42.715763",
     "status": "completed"
    },
    "tags": []
   },
   "outputs": [],
   "source": [
    "plot_testing = model_new(testing_xdata)"
   ]
  },
  {
   "cell_type": "code",
   "execution_count": 26,
   "id": "specific-handling",
   "metadata": {
    "execution": {
     "iopub.execute_input": "2021-03-14T00:12:42.899752Z",
     "iopub.status.busy": "2021-03-14T00:12:42.899158Z",
     "iopub.status.idle": "2021-03-14T00:12:43.079816Z",
     "shell.execute_reply": "2021-03-14T00:12:43.079307Z"
    },
    "papermill": {
     "duration": 0.241675,
     "end_time": "2021-03-14T00:12:43.079942",
     "exception": false,
     "start_time": "2021-03-14T00:12:42.838267",
     "status": "completed"
    },
    "tags": []
   },
   "outputs": [
    {
     "data": {
      "text/plain": [
       "Text(0.5, 1.0, 'Outputs')"
      ]
     },
     "execution_count": 26,
     "metadata": {},
     "output_type": "execute_result"
    },
    {
     "data": {
      "image/png": "[encoded data removed]",
      "text/plain": [
       "<Figure size 576x504 with 1 Axes>"
      ]
     },
     "metadata": {
      "needs_background": "light"
     },
     "output_type": "display_data"
    }
   ],
   "source": [
    "plt.figure(figsize=(8,7))\n",
    "plt.scatter(plot_testing[:,0], plot_testing[:,1], alpha = 0.1, c = y_test.ravel());\n",
    "plt.title('Outputs')"
   ]
  },
  {
   "cell_type": "markdown",
   "id": "described-knowing",
   "metadata": {
    "papermill": {
     "duration": 0.051957,
     "end_time": "2021-03-14T00:12:43.183696",
     "exception": false,
     "start_time": "2021-03-14T00:12:43.131739",
     "status": "completed"
    },
    "tags": []
   },
   "source": [
    "### Plotting probability contours"
   ]
  },
  {
   "cell_type": "code",
   "execution_count": 27,
   "id": "needed-growing",
   "metadata": {
    "execution": {
     "iopub.execute_input": "2021-03-14T00:12:43.333846Z",
     "iopub.status.busy": "2021-03-14T00:12:43.325502Z",
     "iopub.status.idle": "2021-03-14T00:12:43.336294Z",
     "shell.execute_reply": "2021-03-14T00:12:43.335784Z"
    },
    "papermill": {
     "duration": 0.101713,
     "end_time": "2021-03-14T00:12:43.336425",
     "exception": false,
     "start_time": "2021-03-14T00:12:43.234712",
     "status": "completed"
    },
    "tags": []
   },
   "outputs": [],
   "source": [
    "model_prob = Model(layers[-2:]) "
   ]
  },
  {
   "cell_type": "code",
   "execution_count": 28,
   "id": "introductory-enforcement",
   "metadata": {
    "execution": {
     "iopub.execute_input": "2021-03-14T00:12:43.447847Z",
     "iopub.status.busy": "2021-03-14T00:12:43.447268Z",
     "iopub.status.idle": "2021-03-14T00:12:43.458935Z",
     "shell.execute_reply": "2021-03-14T00:12:43.459373Z"
    },
    "papermill": {
     "duration": 0.07196,
     "end_time": "2021-03-14T00:12:43.459522",
     "exception": false,
     "start_time": "2021-03-14T00:12:43.387562",
     "status": "completed"
    },
    "tags": []
   },
   "outputs": [],
   "source": [
    "# Adjust the x and y ranges according to the above generated plot.\n",
    "x_range = np.linspace(-4, 1, 100) \n",
    "y_range = np.linspace(-6, 6, 100) \n",
    "x_grid, y_grid = np.meshgrid(x_range, y_range) # x_grid and y_grig are of size 100 X 100\n",
    "\n",
    "# converting x_grid and y_grid to continuous arrays\n",
    "x_grid_flat = np.ravel(x_grid)\n",
    "y_grid_flat = np.ravel(y_grid)\n",
    "\n",
    "# The last layer of the current model takes two columns as input. Hence transpose of np.vstack() is required.\n",
    "X = np.vstack((x_grid_flat, y_grid_flat)).T\n",
    "\n",
    "# x_grid and y_grid are of size 100 x 100\n",
    "probability_contour = model_prob(X).reshape(100,100) "
   ]
  },
  {
   "cell_type": "code",
   "execution_count": 29,
   "id": "understood-landing",
   "metadata": {
    "execution": {
     "iopub.execute_input": "2021-03-14T00:12:43.571835Z",
     "iopub.status.busy": "2021-03-14T00:12:43.571243Z",
     "iopub.status.idle": "2021-03-14T00:12:43.813800Z",
     "shell.execute_reply": "2021-03-14T00:12:43.814262Z"
    },
    "papermill": {
     "duration": 0.304571,
     "end_time": "2021-03-14T00:12:43.814407",
     "exception": false,
     "start_time": "2021-03-14T00:12:43.509836",
     "status": "completed"
    },
    "tags": []
   },
   "outputs": [
    {
     "data": {
      "image/png": "[encoded data removed]",
      "text/plain": [
       "<Figure size 720x648 with 1 Axes>"
      ]
     },
     "metadata": {
      "needs_background": "light"
     },
     "output_type": "display_data"
    }
   ],
   "source": [
    "plt.figure(figsize=(10,9))\n",
    "plt.scatter(plot_testing[:,0], plot_testing[:,1], alpha = 0.1, c = y_test.ravel())\n",
    "contours = plt.contour(x_grid,y_grid,probability_contour)\n",
    "plt.title('Probability Contours')\n",
    "plt.clabel(contours, inline = True );"
   ]
  }
 ],
 "metadata": {
  "kernelspec": {
   "display_name": "Python 3",
   "language": "python",
   "name": "python3"
  },
  "language_info": {
   "codemirror_mode": {
    "name": "ipython",
    "version": 3
   },
   "file_extension": ".py",
   "mimetype": "text/x-python",
   "name": "python",
   "nbconvert_exporter": "python",
   "pygments_lexer": "ipython3",
   "version": "3.6.13"
  },
  "papermill": {
   "duration": 368.475293,
   "end_time": "2021-03-14T00:12:45.250776",
   "environment_variables": {},
   "exception": null,
   "input_path": "2020-08-11-NeuralNetwork.ipynb",
   "output_path": "2020-08-11-NeuralNetwork.ipynb",
   "parameters": {},
   "start_time": "2021-03-14T00:06:36.775483",
   "version": "2.1.2"
  }
 },
 "nbformat": 4,
 "nbformat_minor": 5
}