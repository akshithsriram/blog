{
 "cells": [
  {
   "cell_type": "markdown",
   "metadata": {
    "papermill": {
     "duration": 0.033681,
     "end_time": "2020-11-28T00:06:38.387545",
     "exception": false,
     "start_time": "2020-11-28T00:06:38.353864",
     "status": "completed"
    },
    "tags": []
   },
   "source": [
    "# \"A Basic Neural Network: Differentiate Hand-Written Digits\"\n",
    "\n",
    "- badges: true\n",
    "- author: Akshith Sriram"
   ]
  },
  {
   "cell_type": "markdown",
   "metadata": {
    "papermill": {
     "duration": 0.029551,
     "end_time": "2020-11-28T00:06:38.447829",
     "exception": false,
     "start_time": "2020-11-28T00:06:38.418278",
     "status": "completed"
    },
    "tags": []
   },
   "source": [
    "### Key Objectives:\n",
    "- Building a neural network that differentiates two hand-written digits 3 and 8.\n",
    "- Comparing the results of this Neural Network (NN) to that of a Logistic Regression (LR) model.\n",
    "\n",
    "### Requirements:\n",
    "- 'Kudzu' : A neural network library that was designed during our course by [Univ.AI](www.univ.ai). \n",
    "- MNIST Database\n",
    "\n",
    "If MNIST is not installed, use the command `!pip install mnist` given below.\n",
    "It can be run both from the command line and Jupyter Notebook."
   ]
  },
  {
   "cell_type": "code",
   "execution_count": 1,
   "metadata": {
    "execution": {
     "iopub.execute_input": "2020-11-28T00:06:38.514327Z",
     "iopub.status.busy": "2020-11-28T00:06:38.513616Z",
     "iopub.status.idle": "2020-11-28T00:06:40.289706Z",
     "shell.execute_reply": "2020-11-28T00:06:40.288401Z"
    },
    "papermill": {
     "duration": 1.81165,
     "end_time": "2020-11-28T00:06:40.289889",
     "exception": false,
     "start_time": "2020-11-28T00:06:38.478239",
     "status": "completed"
    },
    "tags": []
   },
   "outputs": [
    {
     "name": "stdout",
     "output_type": "stream",
     "text": [
      "Collecting mnist\r\n"
     ]
    },
    {
     "name": "stdout",
     "output_type": "stream",
     "text": [
      "  Downloading mnist-0.2.2-py2.py3-none-any.whl (3.5 kB)\r\n"
     ]
    },
    {
     "name": "stdout",
     "output_type": "stream",
     "text": [
      "Requirement already satisfied: numpy in /opt/hostedtoolcache/Python/3.6.12/x64/lib/python3.6/site-packages (from mnist) (1.19.4)\r\n"
     ]
    },
    {
     "name": "stdout",
     "output_type": "stream",
     "text": [
      "Installing collected packages: mnist\r\n"
     ]
    },
    {
     "name": "stdout",
     "output_type": "stream",
     "text": [
      "Successfully installed mnist-0.2.2\r\n"
     ]
    }
   ],
   "source": [
    "!pip install mnist "
   ]
  },
  {
   "cell_type": "markdown",
   "metadata": {
    "papermill": {
     "duration": 0.0328,
     "end_time": "2020-11-28T00:06:40.358875",
     "exception": false,
     "start_time": "2020-11-28T00:06:40.326075",
     "status": "completed"
    },
    "tags": []
   },
   "source": [
    "#### Importing necessary libraries"
   ]
  },
  {
   "cell_type": "code",
   "execution_count": 2,
   "metadata": {
    "execution": {
     "iopub.execute_input": "2020-11-28T00:06:40.434116Z",
     "iopub.status.busy": "2020-11-28T00:06:40.433415Z",
     "iopub.status.idle": "2020-11-28T00:06:41.110106Z",
     "shell.execute_reply": "2020-11-28T00:06:41.110638Z"
    },
    "papermill": {
     "duration": 0.719734,
     "end_time": "2020-11-28T00:06:41.112598",
     "exception": false,
     "start_time": "2020-11-28T00:06:40.392864",
     "status": "completed"
    },
    "tags": []
   },
   "outputs": [],
   "source": [
    "%load_ext autoreload\n",
    "%autoreload 2\n",
    "\n",
    "%matplotlib inline\n",
    "import matplotlib.pyplot as plt\n",
    "\n",
    "import numpy as np\n",
    "import pandas as pd"
   ]
  },
  {
   "cell_type": "markdown",
   "metadata": {
    "papermill": {
     "duration": 0.034526,
     "end_time": "2020-11-28T00:06:41.181472",
     "exception": false,
     "start_time": "2020-11-28T00:06:41.146946",
     "status": "completed"
    },
    "tags": []
   },
   "source": [
    "### Preparing the Data"
   ]
  },
  {
   "cell_type": "code",
   "execution_count": 3,
   "metadata": {
    "execution": {
     "iopub.execute_input": "2020-11-28T00:06:41.258393Z",
     "iopub.status.busy": "2020-11-28T00:06:41.257650Z",
     "iopub.status.idle": "2020-11-28T00:06:41.273162Z",
     "shell.execute_reply": "2020-11-28T00:06:41.272478Z"
    },
    "papermill": {
     "duration": 0.058043,
     "end_time": "2020-11-28T00:06:41.273323",
     "exception": false,
     "start_time": "2020-11-28T00:06:41.215280",
     "status": "completed"
    },
    "tags": []
   },
   "outputs": [],
   "source": [
    "import mnist"
   ]
  },
  {
   "cell_type": "code",
   "execution_count": 4,
   "metadata": {
    "execution": {
     "iopub.execute_input": "2020-11-28T00:06:41.343067Z",
     "iopub.status.busy": "2020-11-28T00:06:41.342369Z",
     "iopub.status.idle": "2020-11-28T00:06:43.202285Z",
     "shell.execute_reply": "2020-11-28T00:06:43.201536Z"
    },
    "papermill": {
     "duration": 1.896458,
     "end_time": "2020-11-28T00:06:43.202442",
     "exception": false,
     "start_time": "2020-11-28T00:06:41.305984",
     "status": "completed"
    },
    "tags": []
   },
   "outputs": [],
   "source": [
    "train_images = mnist.train_images()\n",
    "train_labels = mnist.train_labels()"
   ]
  },
  {
   "cell_type": "code",
   "execution_count": 5,
   "metadata": {
    "execution": {
     "iopub.execute_input": "2020-11-28T00:06:43.274394Z",
     "iopub.status.busy": "2020-11-28T00:06:43.273716Z",
     "iopub.status.idle": "2020-11-28T00:06:43.290095Z",
     "shell.execute_reply": "2020-11-28T00:06:43.289497Z"
    },
    "papermill": {
     "duration": 0.054036,
     "end_time": "2020-11-28T00:06:43.290410",
     "exception": false,
     "start_time": "2020-11-28T00:06:43.236374",
     "status": "completed"
    },
    "tags": []
   },
   "outputs": [
    {
     "data": {
      "text/plain": [
       "((60000, 28, 28), (60000,))"
      ]
     },
     "execution_count": 5,
     "metadata": {},
     "output_type": "execute_result"
    }
   ],
   "source": [
    "train_images.shape, train_labels.shape"
   ]
  },
  {
   "cell_type": "code",
   "execution_count": 6,
   "metadata": {
    "execution": {
     "iopub.execute_input": "2020-11-28T00:06:43.368765Z",
     "iopub.status.busy": "2020-11-28T00:06:43.368036Z",
     "iopub.status.idle": "2020-11-28T00:06:44.236771Z",
     "shell.execute_reply": "2020-11-28T00:06:44.237344Z"
    },
    "papermill": {
     "duration": 0.908849,
     "end_time": "2020-11-28T00:06:44.237524",
     "exception": false,
     "start_time": "2020-11-28T00:06:43.328675",
     "status": "completed"
    },
    "tags": []
   },
   "outputs": [],
   "source": [
    "test_images = mnist.test_images()\n",
    "test_labels = mnist.test_labels()"
   ]
  },
  {
   "cell_type": "code",
   "execution_count": 7,
   "metadata": {
    "execution": {
     "iopub.execute_input": "2020-11-28T00:06:44.313182Z",
     "iopub.status.busy": "2020-11-28T00:06:44.312495Z",
     "iopub.status.idle": "2020-11-28T00:06:44.337334Z",
     "shell.execute_reply": "2020-11-28T00:06:44.336743Z"
    },
    "papermill": {
     "duration": 0.063045,
     "end_time": "2020-11-28T00:06:44.337502",
     "exception": false,
     "start_time": "2020-11-28T00:06:44.274457",
     "status": "completed"
    },
    "tags": []
   },
   "outputs": [
    {
     "data": {
      "text/plain": [
       "((10000, 28, 28), (10000,))"
      ]
     },
     "execution_count": 7,
     "metadata": {},
     "output_type": "execute_result"
    }
   ],
   "source": [
    "test_images.shape, test_labels.shape"
   ]
  },
  {
   "cell_type": "code",
   "execution_count": 8,
   "metadata": {
    "execution": {
     "iopub.execute_input": "2020-11-28T00:06:44.409334Z",
     "iopub.status.busy": "2020-11-28T00:06:44.408657Z",
     "iopub.status.idle": "2020-11-28T00:06:44.613841Z",
     "shell.execute_reply": "2020-11-28T00:06:44.613273Z"
    },
    "papermill": {
     "duration": 0.242465,
     "end_time": "2020-11-28T00:06:44.613987",
     "exception": false,
     "start_time": "2020-11-28T00:06:44.371522",
     "status": "completed"
    },
    "tags": []
   },
   "outputs": [
    {
     "name": "stdout",
     "output_type": "stream",
     "text": [
      "2\n"
     ]
    },
    {
     "data": {
      "text/plain": [
       "<matplotlib.image.AxesImage at 0x7f0bd4a75080>"
      ]
     },
     "execution_count": 8,
     "metadata": {},
     "output_type": "execute_result"
    },
    {
     "data": {
      "image/png": "[encoded data removed]",
      "text/plain": [
       "<Figure size 432x288 with 1 Axes>"
      ]
     },
     "metadata": {
      "needs_background": "light"
     },
     "output_type": "display_data"
    }
   ],
   "source": [
    "image_index = 7776 # You may select anything up to 60,000\n",
    "print(train_labels[image_index]) \n",
    "plt.imshow(train_images[image_index], cmap='Greys')"
   ]
  },
  {
   "cell_type": "markdown",
   "metadata": {
    "papermill": {
     "duration": 0.035704,
     "end_time": "2020-11-28T00:06:44.685373",
     "exception": false,
     "start_time": "2020-11-28T00:06:44.649669",
     "status": "completed"
    },
    "tags": []
   },
   "source": [
    "## Filter data to get 3 and 8 out"
   ]
  },
  {
   "cell_type": "code",
   "execution_count": 9,
   "metadata": {
    "execution": {
     "iopub.execute_input": "2020-11-28T00:06:44.769048Z",
     "iopub.status.busy": "2020-11-28T00:06:44.768315Z",
     "iopub.status.idle": "2020-11-28T00:06:44.779227Z",
     "shell.execute_reply": "2020-11-28T00:06:44.779824Z"
    },
    "papermill": {
     "duration": 0.060116,
     "end_time": "2020-11-28T00:06:44.780002",
     "exception": false,
     "start_time": "2020-11-28T00:06:44.719886",
     "status": "completed"
    },
    "tags": []
   },
   "outputs": [],
   "source": [
    "train_filter = np.where((train_labels == 3 ) | (train_labels == 8))\n",
    "test_filter = np.where((test_labels == 3) | (test_labels == 8))\n",
    "X_train, y_train = train_images[train_filter], train_labels[train_filter]\n",
    "X_test, y_test = test_images[test_filter], test_labels[test_filter]"
   ]
  },
  {
   "cell_type": "markdown",
   "metadata": {
    "papermill": {
     "duration": 0.034566,
     "end_time": "2020-11-28T00:06:44.851317",
     "exception": false,
     "start_time": "2020-11-28T00:06:44.816751",
     "status": "completed"
    },
    "tags": []
   },
   "source": [
    "We normalize the pixel values in the 0 to 1 range"
   ]
  },
  {
   "cell_type": "code",
   "execution_count": 10,
   "metadata": {
    "execution": {
     "iopub.execute_input": "2020-11-28T00:06:44.933360Z",
     "iopub.status.busy": "2020-11-28T00:06:44.932600Z",
     "iopub.status.idle": "2020-11-28T00:06:44.995311Z",
     "shell.execute_reply": "2020-11-28T00:06:44.995933Z"
    },
    "papermill": {
     "duration": 0.110089,
     "end_time": "2020-11-28T00:06:44.996122",
     "exception": false,
     "start_time": "2020-11-28T00:06:44.886033",
     "status": "completed"
    },
    "tags": []
   },
   "outputs": [],
   "source": [
    "X_train = X_train/255.\n",
    "X_test = X_test/255."
   ]
  },
  {
   "cell_type": "markdown",
   "metadata": {
    "papermill": {
     "duration": 0.034256,
     "end_time": "2020-11-28T00:06:45.065928",
     "exception": false,
     "start_time": "2020-11-28T00:06:45.031672",
     "status": "completed"
    },
    "tags": []
   },
   "source": [
    "Setup the labels as 1 (when the digit is 3) and 0 (when the digit is 8)"
   ]
  },
  {
   "cell_type": "code",
   "execution_count": 11,
   "metadata": {
    "execution": {
     "iopub.execute_input": "2020-11-28T00:06:45.142506Z",
     "iopub.status.busy": "2020-11-28T00:06:45.140790Z",
     "iopub.status.idle": "2020-11-28T00:06:45.154011Z",
     "shell.execute_reply": "2020-11-28T00:06:45.153382Z"
    },
    "papermill": {
     "duration": 0.054418,
     "end_time": "2020-11-28T00:06:45.154184",
     "exception": false,
     "start_time": "2020-11-28T00:06:45.099766",
     "status": "completed"
    },
    "tags": []
   },
   "outputs": [],
   "source": [
    "y_train = 1*(y_train==3)\n",
    "y_test = 1*(y_test==3)"
   ]
  },
  {
   "cell_type": "code",
   "execution_count": 12,
   "metadata": {
    "execution": {
     "iopub.execute_input": "2020-11-28T00:06:45.226663Z",
     "iopub.status.busy": "2020-11-28T00:06:45.225969Z",
     "iopub.status.idle": "2020-11-28T00:06:45.243362Z",
     "shell.execute_reply": "2020-11-28T00:06:45.243938Z"
    },
    "papermill": {
     "duration": 0.055463,
     "end_time": "2020-11-28T00:06:45.244124",
     "exception": false,
     "start_time": "2020-11-28T00:06:45.188661",
     "status": "completed"
    },
    "tags": []
   },
   "outputs": [
    {
     "data": {
      "text/plain": [
       "((11982, 28, 28), (1984, 28, 28))"
      ]
     },
     "execution_count": 12,
     "metadata": {},
     "output_type": "execute_result"
    }
   ],
   "source": [
    "X_train.shape, X_test.shape"
   ]
  },
  {
   "cell_type": "markdown",
   "metadata": {
    "papermill": {
     "duration": 0.045835,
     "end_time": "2020-11-28T00:06:45.332471",
     "exception": false,
     "start_time": "2020-11-28T00:06:45.286636",
     "status": "completed"
    },
    "tags": []
   },
   "source": [
    "### Reshape the input data to create a linear array"
   ]
  },
  {
   "cell_type": "code",
   "execution_count": 13,
   "metadata": {
    "execution": {
     "iopub.execute_input": "2020-11-28T00:06:45.421828Z",
     "iopub.status.busy": "2020-11-28T00:06:45.421165Z",
     "iopub.status.idle": "2020-11-28T00:06:45.435294Z",
     "shell.execute_reply": "2020-11-28T00:06:45.435868Z"
    },
    "papermill": {
     "duration": 0.057372,
     "end_time": "2020-11-28T00:06:45.436080",
     "exception": false,
     "start_time": "2020-11-28T00:06:45.378708",
     "status": "completed"
    },
    "tags": []
   },
   "outputs": [
    {
     "data": {
      "text/plain": [
       "((11982, 784), (1984, 784))"
      ]
     },
     "execution_count": 13,
     "metadata": {},
     "output_type": "execute_result"
    }
   ],
   "source": [
    "X_train = X_train.reshape(X_train.shape[0], -1)\n",
    "X_test = X_test.reshape(X_test.shape[0], -1)\n",
    "X_train.shape, X_test.shape"
   ]
  },
  {
   "cell_type": "markdown",
   "metadata": {
    "papermill": {
     "duration": 0.037714,
     "end_time": "2020-11-28T00:06:45.512991",
     "exception": false,
     "start_time": "2020-11-28T00:06:45.475277",
     "status": "completed"
    },
    "tags": []
   },
   "source": [
    "### Importing appropriate functions from 'Kudzu'"
   ]
  },
  {
   "cell_type": "code",
   "execution_count": 14,
   "metadata": {
    "execution": {
     "iopub.execute_input": "2020-11-28T00:06:45.602432Z",
     "iopub.status.busy": "2020-11-28T00:06:45.601743Z",
     "iopub.status.idle": "2020-11-28T00:06:45.625073Z",
     "shell.execute_reply": "2020-11-28T00:06:45.625693Z"
    },
    "papermill": {
     "duration": 0.076475,
     "end_time": "2020-11-28T00:06:45.626008",
     "exception": false,
     "start_time": "2020-11-28T00:06:45.549533",
     "status": "completed"
    },
    "tags": []
   },
   "outputs": [],
   "source": [
    "from kudzu.layer import Sigmoid\n",
    "from kudzu.layer import Relu\n",
    "from kudzu.layer import Affine, Sigmoid\n",
    "\n",
    "from kudzu.model import Model\n",
    "from kudzu.train import Learner\n",
    "from kudzu.optim import GD\n",
    "from kudzu.data import Data, Dataloader, Sampler\n",
    "\n",
    "from kudzu.callbacks import AccCallback\n",
    "from kudzu.callbacks import ClfCallback\n",
    "\n",
    "from kudzu.loss import MSE"
   ]
  },
  {
   "cell_type": "markdown",
   "metadata": {
    "papermill": {
     "duration": 0.037506,
     "end_time": "2020-11-28T00:06:45.705547",
     "exception": false,
     "start_time": "2020-11-28T00:06:45.668041",
     "status": "completed"
    },
    "tags": []
   },
   "source": [
    "### Let us create a `Config` class, to store important parameters. \n",
    "This class essentially plays the role of a dictionary."
   ]
  },
  {
   "cell_type": "code",
   "execution_count": 15,
   "metadata": {
    "execution": {
     "iopub.execute_input": "2020-11-28T00:06:45.785504Z",
     "iopub.status.busy": "2020-11-28T00:06:45.784732Z",
     "iopub.status.idle": "2020-11-28T00:06:45.799042Z",
     "shell.execute_reply": "2020-11-28T00:06:45.798148Z"
    },
    "papermill": {
     "duration": 0.056406,
     "end_time": "2020-11-28T00:06:45.799212",
     "exception": false,
     "start_time": "2020-11-28T00:06:45.742806",
     "status": "completed"
    },
    "tags": []
   },
   "outputs": [],
   "source": [
    "class Config:\n",
    "    pass\n",
    "config = Config()\n",
    "config.lr = 0.001\n",
    "config.num_epochs = 251\n",
    "config.bs = 50"
   ]
  },
  {
   "cell_type": "markdown",
   "metadata": {
    "papermill": {
     "duration": 0.035837,
     "end_time": "2020-11-28T00:06:45.875972",
     "exception": false,
     "start_time": "2020-11-28T00:06:45.840135",
     "status": "completed"
    },
    "tags": []
   },
   "source": [
    "### Initializing data to the variables"
   ]
  },
  {
   "cell_type": "code",
   "execution_count": 16,
   "metadata": {
    "execution": {
     "iopub.execute_input": "2020-11-28T00:06:45.970130Z",
     "iopub.status.busy": "2020-11-28T00:06:45.969372Z",
     "iopub.status.idle": "2020-11-28T00:06:45.984988Z",
     "shell.execute_reply": "2020-11-28T00:06:45.984424Z"
    },
    "papermill": {
     "duration": 0.062595,
     "end_time": "2020-11-28T00:06:45.985137",
     "exception": false,
     "start_time": "2020-11-28T00:06:45.922542",
     "status": "completed"
    },
    "tags": []
   },
   "outputs": [],
   "source": [
    "data = Data(X_train, y_train.reshape(-1,1))\n",
    "sampler = Sampler(data, config.bs, shuffle=True)\n",
    "\n",
    "dl = Dataloader(data, sampler)\n",
    "\n",
    "opt = GD(config.lr)\n",
    "loss = MSE()"
   ]
  },
  {
   "cell_type": "code",
   "execution_count": 17,
   "metadata": {
    "execution": {
     "iopub.execute_input": "2020-11-28T00:06:46.065990Z",
     "iopub.status.busy": "2020-11-28T00:06:46.065292Z",
     "iopub.status.idle": "2020-11-28T00:06:46.076743Z",
     "shell.execute_reply": "2020-11-28T00:06:46.077381Z"
    },
    "papermill": {
     "duration": 0.055089,
     "end_time": "2020-11-28T00:06:46.077553",
     "exception": false,
     "start_time": "2020-11-28T00:06:46.022464",
     "status": "completed"
    },
    "tags": []
   },
   "outputs": [],
   "source": [
    "training_xdata = X_train\n",
    "testing_xdata = X_test\n",
    "training_ydata = y_train.reshape(-1,1)\n",
    "testing_ydata = y_test.reshape(-1,1)"
   ]
  },
  {
   "cell_type": "markdown",
   "metadata": {
    "papermill": {
     "duration": 0.036484,
     "end_time": "2020-11-28T00:06:46.148569",
     "exception": false,
     "start_time": "2020-11-28T00:06:46.112085",
     "status": "completed"
    },
    "tags": []
   },
   "source": [
    "### Running Models with the Training data\n",
    "Details about the network layers:\n",
    "- A first affine layer has 784 inputs and does 100 affine transforms. These are followed by a Relu\n",
    "- A second affine layer has 100 inputs from the 100 activations of the past layer, and does 100 affine transforms. These are followed by a Relu\n",
    "- A third affine layer has 100 activations and does 2 affine transformations to create an embedding for visualization. There is no non-linearity here.\n",
    "- A final \"logistic regression\" which has an affine transform from 2 inputs to 1 output, which is squeezed through a sigmoid.\n",
    "\n",
    "Help taken from Anshuman's Notebook."
   ]
  },
  {
   "cell_type": "code",
   "execution_count": 18,
   "metadata": {
    "execution": {
     "iopub.execute_input": "2020-11-28T00:06:46.232463Z",
     "iopub.status.busy": "2020-11-28T00:06:46.231771Z",
     "iopub.status.idle": "2020-11-28T00:06:46.248217Z",
     "shell.execute_reply": "2020-11-28T00:06:46.248847Z"
    },
    "papermill": {
     "duration": 0.062404,
     "end_time": "2020-11-28T00:06:46.249082",
     "exception": false,
     "start_time": "2020-11-28T00:06:46.186678",
     "status": "completed"
    },
    "tags": []
   },
   "outputs": [],
   "source": [
    "# layers for the Neural Network\n",
    "layers = [Affine(\"first\", 784, 100), Relu(\"first\"), Affine(\"second\", 100, 100), Relu(\"second\"), Affine(\"third\", 100, 2), Affine(\"final\", 2, 1), Sigmoid(\"final\")]\n",
    "model_nn = Model(layers)\n",
    "\n",
    "# layers for the Logistic Regression\n",
    "layers_lr = [Affine(\"logits\", 784, 1), Sigmoid(\"sigmoid\")]\n",
    "model_lr = Model(layers_lr)"
   ]
  },
  {
   "cell_type": "code",
   "execution_count": 19,
   "metadata": {
    "execution": {
     "iopub.execute_input": "2020-11-28T00:06:46.333603Z",
     "iopub.status.busy": "2020-11-28T00:06:46.332890Z",
     "iopub.status.idle": "2020-11-28T00:06:46.347860Z",
     "shell.execute_reply": "2020-11-28T00:06:46.348530Z"
    },
    "papermill": {
     "duration": 0.061998,
     "end_time": "2020-11-28T00:06:46.348709",
     "exception": false,
     "start_time": "2020-11-28T00:06:46.286711",
     "status": "completed"
    },
    "tags": []
   },
   "outputs": [],
   "source": [
    "# suffix _nn stands for Neural Network.\n",
    "learner_nn = Learner(loss, model_nn, opt, config.num_epochs)\n",
    "acc_nn = ClfCallback(learner_nn, config.bs, training_xdata , testing_xdata, training_ydata, testing_ydata)\n",
    "learner_nn.set_callbacks([acc_nn])"
   ]
  },
  {
   "cell_type": "code",
   "execution_count": 20,
   "metadata": {
    "execution": {
     "iopub.execute_input": "2020-11-28T00:06:46.428601Z",
     "iopub.status.busy": "2020-11-28T00:06:46.427899Z",
     "iopub.status.idle": "2020-11-28T00:09:14.420778Z",
     "shell.execute_reply": "2020-11-28T00:09:14.421551Z"
    },
    "papermill": {
     "duration": 148.036404,
     "end_time": "2020-11-28T00:09:14.421727",
     "exception": false,
     "start_time": "2020-11-28T00:06:46.385323",
     "status": "completed"
    },
    "tags": []
   },
   "outputs": [
    {
     "name": "stdout",
     "output_type": "stream",
     "text": [
      "====== Neural Network ======\n"
     ]
    },
    {
     "name": "stdout",
     "output_type": "stream",
     "text": [
      "Epoch 0, Loss 0.2102\n",
      "Training Accuracy: 0.7710, Testing Accuracy: 0.7762\n",
      "\n"
     ]
    },
    {
     "name": "stdout",
     "output_type": "stream",
     "text": [
      "Epoch 10, Loss 0.0635\n",
      "Training Accuracy: 0.9372, Testing Accuracy: 0.9471\n",
      "\n"
     ]
    },
    {
     "name": "stdout",
     "output_type": "stream",
     "text": [
      "Epoch 20, Loss 0.0446\n",
      "Training Accuracy: 0.9513, Testing Accuracy: 0.9597\n",
      "\n"
     ]
    },
    {
     "name": "stdout",
     "output_type": "stream",
     "text": [
      "Epoch 30, Loss 0.0373\n",
      "Training Accuracy: 0.9584, Testing Accuracy: 0.9647\n",
      "\n"
     ]
    },
    {
     "name": "stdout",
     "output_type": "stream",
     "text": [
      "Epoch 40, Loss 0.0332\n",
      "Training Accuracy: 0.9628, Testing Accuracy: 0.9677\n",
      "\n"
     ]
    },
    {
     "name": "stdout",
     "output_type": "stream",
     "text": [
      "Epoch 50, Loss 0.0304\n",
      "Training Accuracy: 0.9653, Testing Accuracy: 0.9693\n",
      "\n"
     ]
    },
    {
     "name": "stdout",
     "output_type": "stream",
     "text": [
      "Epoch 60, Loss 0.0284\n",
      "Training Accuracy: 0.9674, Testing Accuracy: 0.9703\n",
      "\n"
     ]
    },
    {
     "name": "stdout",
     "output_type": "stream",
     "text": [
      "Epoch 70, Loss 0.0268\n",
      "Training Accuracy: 0.9694, Testing Accuracy: 0.9718\n",
      "\n"
     ]
    },
    {
     "name": "stdout",
     "output_type": "stream",
     "text": [
      "Epoch 80, Loss 0.0255\n",
      "Training Accuracy: 0.9719, Testing Accuracy: 0.9718\n",
      "\n"
     ]
    },
    {
     "name": "stdout",
     "output_type": "stream",
     "text": [
      "Epoch 90, Loss 0.0244\n",
      "Training Accuracy: 0.9729, Testing Accuracy: 0.9728\n",
      "\n"
     ]
    },
    {
     "name": "stdout",
     "output_type": "stream",
     "text": [
      "Epoch 100, Loss 0.0235\n",
      "Training Accuracy: 0.9737, Testing Accuracy: 0.9743\n",
      "\n"
     ]
    },
    {
     "name": "stdout",
     "output_type": "stream",
     "text": [
      "Epoch 110, Loss 0.0227\n",
      "Training Accuracy: 0.9744, Testing Accuracy: 0.9743\n",
      "\n"
     ]
    },
    {
     "name": "stdout",
     "output_type": "stream",
     "text": [
      "Epoch 120, Loss 0.022\n",
      "Training Accuracy: 0.9751, Testing Accuracy: 0.9733\n",
      "\n"
     ]
    },
    {
     "name": "stdout",
     "output_type": "stream",
     "text": [
      "Epoch 130, Loss 0.0213\n",
      "Training Accuracy: 0.9760, Testing Accuracy: 0.9743\n",
      "\n"
     ]
    },
    {
     "name": "stdout",
     "output_type": "stream",
     "text": [
      "Epoch 140, Loss 0.0208\n",
      "Training Accuracy: 0.9760, Testing Accuracy: 0.9733\n",
      "\n"
     ]
    },
    {
     "name": "stdout",
     "output_type": "stream",
     "text": [
      "Epoch 150, Loss 0.0202\n",
      "Training Accuracy: 0.9768, Testing Accuracy: 0.9728\n",
      "\n"
     ]
    },
    {
     "name": "stdout",
     "output_type": "stream",
     "text": [
      "Epoch 160, Loss 0.0197\n",
      "Training Accuracy: 0.9775, Testing Accuracy: 0.9728\n",
      "\n"
     ]
    },
    {
     "name": "stdout",
     "output_type": "stream",
     "text": [
      "Epoch 170, Loss 0.0192\n",
      "Training Accuracy: 0.9784, Testing Accuracy: 0.9728\n",
      "\n"
     ]
    },
    {
     "name": "stdout",
     "output_type": "stream",
     "text": [
      "Epoch 180, Loss 0.0187\n",
      "Training Accuracy: 0.9791, Testing Accuracy: 0.9728\n",
      "\n"
     ]
    },
    {
     "name": "stdout",
     "output_type": "stream",
     "text": [
      "Epoch 190, Loss 0.0183\n",
      "Training Accuracy: 0.9797, Testing Accuracy: 0.9733\n",
      "\n"
     ]
    },
    {
     "name": "stdout",
     "output_type": "stream",
     "text": [
      "Epoch 200, Loss 0.0179\n",
      "Training Accuracy: 0.9803, Testing Accuracy: 0.9723\n",
      "\n"
     ]
    },
    {
     "name": "stdout",
     "output_type": "stream",
     "text": [
      "Epoch 210, Loss 0.0175\n",
      "Training Accuracy: 0.9809, Testing Accuracy: 0.9718\n",
      "\n"
     ]
    },
    {
     "name": "stdout",
     "output_type": "stream",
     "text": [
      "Epoch 220, Loss 0.0171\n",
      "Training Accuracy: 0.9813, Testing Accuracy: 0.9718\n",
      "\n"
     ]
    },
    {
     "name": "stdout",
     "output_type": "stream",
     "text": [
      "Epoch 230, Loss 0.0167\n",
      "Training Accuracy: 0.9821, Testing Accuracy: 0.9728\n",
      "\n"
     ]
    },
    {
     "name": "stdout",
     "output_type": "stream",
     "text": [
      "Epoch 240, Loss 0.0163\n",
      "Training Accuracy: 0.9827, Testing Accuracy: 0.9733\n",
      "\n"
     ]
    },
    {
     "name": "stdout",
     "output_type": "stream",
     "text": [
      "Epoch 250, Loss 0.0159\n",
      "Training Accuracy: 0.9831, Testing Accuracy: 0.9733\n",
      "\n"
     ]
    },
    {
     "data": {
      "text/plain": [
       "0.0038158073392150884"
      ]
     },
     "execution_count": 20,
     "metadata": {},
     "output_type": "execute_result"
    }
   ],
   "source": [
    "print(\"====== Neural Network ======\")\n",
    "learner_nn.train_loop(dl)"
   ]
  },
  {
   "cell_type": "markdown",
   "metadata": {
    "papermill": {
     "duration": 0.051012,
     "end_time": "2020-11-28T00:09:14.520664",
     "exception": false,
     "start_time": "2020-11-28T00:09:14.469652",
     "status": "completed"
    },
    "tags": []
   },
   "source": [
    "### Logistic Regression based Implementation."
   ]
  },
  {
   "cell_type": "code",
   "execution_count": 21,
   "metadata": {
    "execution": {
     "iopub.execute_input": "2020-11-28T00:09:14.626897Z",
     "iopub.status.busy": "2020-11-28T00:09:14.625635Z",
     "iopub.status.idle": "2020-11-28T00:09:14.640491Z",
     "shell.execute_reply": "2020-11-28T00:09:14.639763Z"
    },
    "papermill": {
     "duration": 0.074587,
     "end_time": "2020-11-28T00:09:14.640686",
     "exception": false,
     "start_time": "2020-11-28T00:09:14.566099",
     "status": "completed"
    },
    "tags": []
   },
   "outputs": [],
   "source": [
    "learner_lr = Learner(loss, model_lr, opt, config.num_epochs)\n",
    "acc_lr = ClfCallback(learner_lr, config.bs, training_xdata , testing_xdata, training_ydata, testing_ydata)\n",
    "learner_lr.set_callbacks([acc_lr])"
   ]
  },
  {
   "cell_type": "code",
   "execution_count": 22,
   "metadata": {
    "execution": {
     "iopub.execute_input": "2020-11-28T00:09:14.744554Z",
     "iopub.status.busy": "2020-11-28T00:09:14.743816Z",
     "iopub.status.idle": "2020-11-28T00:09:36.481823Z",
     "shell.execute_reply": "2020-11-28T00:09:36.482407Z"
    },
    "papermill": {
     "duration": 21.794726,
     "end_time": "2020-11-28T00:09:36.482612",
     "exception": false,
     "start_time": "2020-11-28T00:09:14.687886",
     "status": "completed"
    },
    "tags": []
   },
   "outputs": [
    {
     "name": "stdout",
     "output_type": "stream",
     "text": [
      "====== Logistic Regression ======\n",
      "Epoch 0, Loss 0.2513\n",
      "Training Accuracy: 0.6483, Testing Accuracy: 0.6507\n",
      "\n"
     ]
    },
    {
     "name": "stdout",
     "output_type": "stream",
     "text": [
      "Epoch 10, Loss 0.1056\n",
      "Training Accuracy: 0.9070, Testing Accuracy: 0.9158\n",
      "\n"
     ]
    },
    {
     "name": "stdout",
     "output_type": "stream",
     "text": [
      "Epoch 20, Loss 0.0806\n",
      "Training Accuracy: 0.9274, Testing Accuracy: 0.9400\n",
      "\n"
     ]
    },
    {
     "name": "stdout",
     "output_type": "stream",
     "text": [
      "Epoch 30, Loss 0.0692\n",
      "Training Accuracy: 0.9359, Testing Accuracy: 0.9491\n",
      "\n"
     ]
    },
    {
     "name": "stdout",
     "output_type": "stream",
     "text": [
      "Epoch 40, Loss 0.0624\n",
      "Training Accuracy: 0.9411, Testing Accuracy: 0.9531\n",
      "\n"
     ]
    },
    {
     "name": "stdout",
     "output_type": "stream",
     "text": [
      "Epoch 50, Loss 0.0577\n",
      "Training Accuracy: 0.9444, Testing Accuracy: 0.9572\n",
      "\n"
     ]
    },
    {
     "name": "stdout",
     "output_type": "stream",
     "text": [
      "Epoch 60, Loss 0.0543\n",
      "Training Accuracy: 0.9468, Testing Accuracy: 0.9587\n",
      "\n"
     ]
    },
    {
     "name": "stdout",
     "output_type": "stream",
     "text": [
      "Epoch 70, Loss 0.0517\n",
      "Training Accuracy: 0.9493, Testing Accuracy: 0.9607\n",
      "\n"
     ]
    },
    {
     "name": "stdout",
     "output_type": "stream",
     "text": [
      "Epoch 80, Loss 0.0496\n",
      "Training Accuracy: 0.9508, Testing Accuracy: 0.9627\n",
      "\n"
     ]
    },
    {
     "name": "stdout",
     "output_type": "stream",
     "text": [
      "Epoch 90, Loss 0.0479\n",
      "Training Accuracy: 0.9523, Testing Accuracy: 0.9637\n",
      "\n"
     ]
    },
    {
     "name": "stdout",
     "output_type": "stream",
     "text": [
      "Epoch 100, Loss 0.0464\n",
      "Training Accuracy: 0.9535, Testing Accuracy: 0.9637\n",
      "\n"
     ]
    },
    {
     "name": "stdout",
     "output_type": "stream",
     "text": [
      "Epoch 110, Loss 0.0451\n",
      "Training Accuracy: 0.9544, Testing Accuracy: 0.9647\n",
      "\n"
     ]
    },
    {
     "name": "stdout",
     "output_type": "stream",
     "text": [
      "Epoch 120, Loss 0.0441\n",
      "Training Accuracy: 0.9551, Testing Accuracy: 0.9647\n",
      "\n"
     ]
    },
    {
     "name": "stdout",
     "output_type": "stream",
     "text": [
      "Epoch 130, Loss 0.0431\n",
      "Training Accuracy: 0.9559, Testing Accuracy: 0.9652\n",
      "\n"
     ]
    },
    {
     "name": "stdout",
     "output_type": "stream",
     "text": [
      "Epoch 140, Loss 0.0422\n",
      "Training Accuracy: 0.9564, Testing Accuracy: 0.9652\n",
      "\n"
     ]
    },
    {
     "name": "stdout",
     "output_type": "stream",
     "text": [
      "Epoch 150, Loss 0.0415\n",
      "Training Accuracy: 0.9570, Testing Accuracy: 0.9667\n",
      "\n"
     ]
    },
    {
     "name": "stdout",
     "output_type": "stream",
     "text": [
      "Epoch 160, Loss 0.0408\n",
      "Training Accuracy: 0.9575, Testing Accuracy: 0.9667\n",
      "\n"
     ]
    },
    {
     "name": "stdout",
     "output_type": "stream",
     "text": [
      "Epoch 170, Loss 0.0402\n",
      "Training Accuracy: 0.9580, Testing Accuracy: 0.9672\n",
      "\n"
     ]
    },
    {
     "name": "stdout",
     "output_type": "stream",
     "text": [
      "Epoch 180, Loss 0.0396\n",
      "Training Accuracy: 0.9583, Testing Accuracy: 0.9672\n",
      "\n"
     ]
    },
    {
     "name": "stdout",
     "output_type": "stream",
     "text": [
      "Epoch 190, Loss 0.0391\n",
      "Training Accuracy: 0.9590, Testing Accuracy: 0.9677\n",
      "\n"
     ]
    },
    {
     "name": "stdout",
     "output_type": "stream",
     "text": [
      "Epoch 200, Loss 0.0386\n",
      "Training Accuracy: 0.9594, Testing Accuracy: 0.9677\n",
      "\n"
     ]
    },
    {
     "name": "stdout",
     "output_type": "stream",
     "text": [
      "Epoch 210, Loss 0.0381\n",
      "Training Accuracy: 0.9596, Testing Accuracy: 0.9677\n",
      "\n"
     ]
    },
    {
     "name": "stdout",
     "output_type": "stream",
     "text": [
      "Epoch 220, Loss 0.0377\n",
      "Training Accuracy: 0.9600, Testing Accuracy: 0.9682\n",
      "\n"
     ]
    },
    {
     "name": "stdout",
     "output_type": "stream",
     "text": [
      "Epoch 230, Loss 0.0373\n",
      "Training Accuracy: 0.9601, Testing Accuracy: 0.9682\n",
      "\n"
     ]
    },
    {
     "name": "stdout",
     "output_type": "stream",
     "text": [
      "Epoch 240, Loss 0.0369\n",
      "Training Accuracy: 0.9605, Testing Accuracy: 0.9677\n",
      "\n"
     ]
    },
    {
     "name": "stdout",
     "output_type": "stream",
     "text": [
      "Epoch 250, Loss 0.0366\n",
      "Training Accuracy: 0.9609, Testing Accuracy: 0.9677\n",
      "\n"
     ]
    },
    {
     "data": {
      "text/plain": [
       "0.011380139811109594"
      ]
     },
     "execution_count": 22,
     "metadata": {},
     "output_type": "execute_result"
    }
   ],
   "source": [
    "print(\"====== Logistic Regression ======\")\n",
    "learner_lr.train_loop(dl)"
   ]
  },
  {
   "cell_type": "markdown",
   "metadata": {
    "papermill": {
     "duration": 0.054407,
     "end_time": "2020-11-28T00:09:36.592609",
     "exception": false,
     "start_time": "2020-11-28T00:09:36.538202",
     "status": "completed"
    },
    "tags": []
   },
   "source": [
    "### Comparing results of NN and LR"
   ]
  },
  {
   "cell_type": "code",
   "execution_count": 23,
   "metadata": {
    "execution": {
     "iopub.execute_input": "2020-11-28T00:09:36.712232Z",
     "iopub.status.busy": "2020-11-28T00:09:36.711552Z",
     "iopub.status.idle": "2020-11-28T00:09:37.016645Z",
     "shell.execute_reply": "2020-11-28T00:09:37.015960Z"
    },
    "papermill": {
     "duration": 0.370299,
     "end_time": "2020-11-28T00:09:37.016799",
     "exception": false,
     "start_time": "2020-11-28T00:09:36.646500",
     "status": "completed"
    },
    "tags": []
   },
   "outputs": [
    {
     "data": {
      "text/plain": [
       "<matplotlib.legend.Legend at 0x7f0bcde98908>"
      ]
     },
     "execution_count": 23,
     "metadata": {},
     "output_type": "execute_result"
    },
    {
     "data": {
      "image/png": "[encoded data removed]",
      "text/plain": [
       "<Figure size 1080x720 with 1 Axes>"
      ]
     },
     "metadata": {
      "needs_background": "light"
     },
     "output_type": "display_data"
    }
   ],
   "source": [
    "plt.figure(figsize=(15,10))\n",
    "\n",
    "# Neural Network plots\n",
    "plt.plot(acc_nn.accuracies, 'r-', label = \"Training Accuracies - NN\")\n",
    "plt.plot(acc_nn.test_accuracies, 'g-', label = \"Testing Accuracies - NN\")\n",
    "\n",
    "# Logistic Regression plots\n",
    "plt.plot(acc_lr.accuracies, 'k-', label = \"Training Accuracies - LR\")\n",
    "plt.plot(acc_lr.test_accuracies, 'b-', label = \"Testing Accuracies - LR\")\n",
    "\n",
    "plt.ylim(0.8, 1)\n",
    "\n",
    "plt.legend()\n",
    "\n"
   ]
  },
  {
   "cell_type": "markdown",
   "metadata": {
    "papermill": {
     "duration": 0.053467,
     "end_time": "2020-11-28T00:09:37.124547",
     "exception": false,
     "start_time": "2020-11-28T00:09:37.071080",
     "status": "completed"
    },
    "tags": []
   },
   "source": [
    "### From the plot, we can observe the following:\n",
    "- Neural Network achieves higher accuracy than the Logistic Regression model.\n",
    "- This apparently, is because of overfitting, i.e. NN captures more noise than data.\n",
    "- Testing accuracy of NN drops below the Training accuracy at higher epochs. This explains the over-fitting on training data.\n",
    "- Logistic Regression gives a reliable accuracy, without the above mentioned problem.\n"
   ]
  },
  {
   "cell_type": "markdown",
   "metadata": {
    "papermill": {
     "duration": 0.060791,
     "end_time": "2020-11-28T00:09:37.240441",
     "exception": false,
     "start_time": "2020-11-28T00:09:37.179650",
     "status": "completed"
    },
    "tags": []
   },
   "source": [
    "### Moving till the last but one layer (excluding it).\n",
    "#### Plotting the outputs of this layer of the NN."
   ]
  },
  {
   "cell_type": "code",
   "execution_count": 24,
   "metadata": {
    "execution": {
     "iopub.execute_input": "2020-11-28T00:09:37.358825Z",
     "iopub.status.busy": "2020-11-28T00:09:37.358128Z",
     "iopub.status.idle": "2020-11-28T00:09:37.374944Z",
     "shell.execute_reply": "2020-11-28T00:09:37.374323Z"
    },
    "papermill": {
     "duration": 0.074447,
     "end_time": "2020-11-28T00:09:37.375099",
     "exception": false,
     "start_time": "2020-11-28T00:09:37.300652",
     "status": "completed"
    },
    "tags": []
   },
   "outputs": [],
   "source": [
    "model_new = Model(layers[:-2])"
   ]
  },
  {
   "cell_type": "code",
   "execution_count": 25,
   "metadata": {
    "execution": {
     "iopub.execute_input": "2020-11-28T00:09:37.489427Z",
     "iopub.status.busy": "2020-11-28T00:09:37.488735Z",
     "iopub.status.idle": "2020-11-28T00:09:37.525213Z",
     "shell.execute_reply": "2020-11-28T00:09:37.525799Z"
    },
    "papermill": {
     "duration": 0.096707,
     "end_time": "2020-11-28T00:09:37.525975",
     "exception": false,
     "start_time": "2020-11-28T00:09:37.429268",
     "status": "completed"
    },
    "tags": []
   },
   "outputs": [],
   "source": [
    "plot_testing = model_new(testing_xdata)"
   ]
  },
  {
   "cell_type": "code",
   "execution_count": 26,
   "metadata": {
    "execution": {
     "iopub.execute_input": "2020-11-28T00:09:37.647748Z",
     "iopub.status.busy": "2020-11-28T00:09:37.644231Z",
     "iopub.status.idle": "2020-11-28T00:09:37.910342Z",
     "shell.execute_reply": "2020-11-28T00:09:37.910902Z"
    },
    "papermill": {
     "duration": 0.328881,
     "end_time": "2020-11-28T00:09:37.911080",
     "exception": false,
     "start_time": "2020-11-28T00:09:37.582199",
     "status": "completed"
    },
    "tags": []
   },
   "outputs": [
    {
     "data": {
      "text/plain": [
       "Text(0.5, 1.0, 'Outputs')"
      ]
     },
     "execution_count": 26,
     "metadata": {},
     "output_type": "execute_result"
    },
    {
     "data": {
      "image/png": "[encoded data removed]",
      "text/plain": [
       "<Figure size 576x504 with 1 Axes>"
      ]
     },
     "metadata": {
      "needs_background": "light"
     },
     "output_type": "display_data"
    }
   ],
   "source": [
    "plt.figure(figsize=(8,7))\n",
    "plt.scatter(plot_testing[:,0], plot_testing[:,1], alpha = 0.1, c = y_test.ravel());\n",
    "plt.title('Outputs')"
   ]
  },
  {
   "cell_type": "markdown",
   "metadata": {
    "papermill": {
     "duration": 0.057205,
     "end_time": "2020-11-28T00:09:38.025966",
     "exception": false,
     "start_time": "2020-11-28T00:09:37.968761",
     "status": "completed"
    },
    "tags": []
   },
   "source": [
    "### Plotting probability contours"
   ]
  },
  {
   "cell_type": "code",
   "execution_count": 27,
   "metadata": {
    "execution": {
     "iopub.execute_input": "2020-11-28T00:09:38.145058Z",
     "iopub.status.busy": "2020-11-28T00:09:38.144398Z",
     "iopub.status.idle": "2020-11-28T00:09:38.157075Z",
     "shell.execute_reply": "2020-11-28T00:09:38.157625Z"
    },
    "papermill": {
     "duration": 0.075753,
     "end_time": "2020-11-28T00:09:38.157796",
     "exception": false,
     "start_time": "2020-11-28T00:09:38.082043",
     "status": "completed"
    },
    "tags": []
   },
   "outputs": [],
   "source": [
    "model_prob = Model(layers[-2:]) "
   ]
  },
  {
   "cell_type": "code",
   "execution_count": 28,
   "metadata": {
    "execution": {
     "iopub.execute_input": "2020-11-28T00:09:38.307259Z",
     "iopub.status.busy": "2020-11-28T00:09:38.306504Z",
     "iopub.status.idle": "2020-11-28T00:09:38.321378Z",
     "shell.execute_reply": "2020-11-28T00:09:38.321996Z"
    },
    "papermill": {
     "duration": 0.089832,
     "end_time": "2020-11-28T00:09:38.322188",
     "exception": false,
     "start_time": "2020-11-28T00:09:38.232356",
     "status": "completed"
    },
    "tags": []
   },
   "outputs": [],
   "source": [
    "# Adjust the x and y ranges according to the above generated plot.\n",
    "x_range = np.linspace(-4, 1, 100) \n",
    "y_range = np.linspace(-6, 6, 100) \n",
    "x_grid, y_grid = np.meshgrid(x_range, y_range) # x_grid and y_grig are of size 100 X 100\n",
    "\n",
    "# converting x_grid and y_grid to continuous arrays\n",
    "x_grid_flat = np.ravel(x_grid)\n",
    "y_grid_flat = np.ravel(y_grid)\n",
    "\n",
    "# The last layer of the current model takes two columns as input. Hence transpose of np.vstack() is required.\n",
    "X = np.vstack((x_grid_flat, y_grid_flat)).T\n",
    "\n",
    "# x_grid and y_grid are of size 100 x 100\n",
    "probability_contour = model_prob(X).reshape(100,100) "
   ]
  },
  {
   "cell_type": "code",
   "execution_count": 29,
   "metadata": {
    "execution": {
     "iopub.execute_input": "2020-11-28T00:09:38.468768Z",
     "iopub.status.busy": "2020-11-28T00:09:38.468073Z",
     "iopub.status.idle": "2020-11-28T00:09:38.774420Z",
     "shell.execute_reply": "2020-11-28T00:09:38.774965Z"
    },
    "papermill": {
     "duration": 0.391984,
     "end_time": "2020-11-28T00:09:38.775140",
     "exception": false,
     "start_time": "2020-11-28T00:09:38.383156",
     "status": "completed"
    },
    "tags": []
   },
   "outputs": [
    {
     "data": {
      "image/png": "[encoded data removed]",
      "text/plain": [
       "<Figure size 720x648 with 1 Axes>"
      ]
     },
     "metadata": {
      "needs_background": "light"
     },
     "output_type": "display_data"
    }
   ],
   "source": [
    "plt.figure(figsize=(10,9))\n",
    "plt.scatter(plot_testing[:,0], plot_testing[:,1], alpha = 0.1, c = y_test.ravel())\n",
    "contours = plt.contour(x_grid,y_grid,probability_contour)\n",
    "plt.title('Probability Contours')\n",
    "plt.clabel(contours, inline = True );"
   ]
  }
 ],
 "metadata": {
  "kernelspec": {
   "display_name": "Python 3",
   "language": "python",
   "name": "python3"
  },
  "language_info": {
   "codemirror_mode": {
    "name": "ipython",
    "version": 3
   },
   "file_extension": ".py",
   "mimetype": "text/x-python",
   "name": "python",
   "nbconvert_exporter": "python",
   "pygments_lexer": "ipython3",
   "version": "3.6.12"
  },
  "papermill": {
   "duration": 182.098759,
   "end_time": "2020-11-28T00:09:39.243863",
   "environment_variables": {},
   "exception": null,
   "input_path": "2020-08-11-NeuralNetwork.ipynb",
   "output_path": "2020-08-11-NeuralNetwork.ipynb",
   "parameters": {},
   "start_time": "2020-11-28T00:06:37.145104",
   "version": "2.1.2"
  }
 },
 "nbformat": 4,
 "nbformat_minor": 4
}