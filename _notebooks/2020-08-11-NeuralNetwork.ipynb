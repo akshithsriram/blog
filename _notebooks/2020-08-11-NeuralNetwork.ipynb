{
 "cells": [
  {
   "cell_type": "markdown",
   "metadata": {
    "papermill": {
     "duration": 0.02881,
     "end_time": "2020-12-31T10:17:28.407232",
     "exception": false,
     "start_time": "2020-12-31T10:17:28.378422",
     "status": "completed"
    },
    "tags": []
   },
   "source": [
    "# \"A Basic Neural Network: Differentiate Hand-Written Digits\"\n",
    "\n",
    "- badges: true\n",
    "- author: Akshith Sriram"
   ]
  },
  {
   "cell_type": "markdown",
   "metadata": {
    "papermill": {
     "duration": 0.025491,
     "end_time": "2020-12-31T10:17:28.457706",
     "exception": false,
     "start_time": "2020-12-31T10:17:28.432215",
     "status": "completed"
    },
    "tags": []
   },
   "source": [
    "### Key Objectives:\n",
    "- Building a neural network that differentiates two hand-written digits 3 and 8.\n",
    "- Comparing the results of this Neural Network (NN) to that of a Logistic Regression (LR) model.\n",
    "\n",
    "### Requirements:\n",
    "- 'Kudzu' : A neural network library that was designed during our course by [Univ.AI](www.univ.ai). \n",
    "- MNIST Database\n",
    "\n",
    "If MNIST is not installed, use the command `!pip install mnist` given below.\n",
    "It can be run both from the command line and Jupyter Notebook."
   ]
  },
  {
   "cell_type": "code",
   "execution_count": 1,
   "metadata": {
    "execution": {
     "iopub.execute_input": "2020-12-31T10:17:28.516707Z",
     "iopub.status.busy": "2020-12-31T10:17:28.516106Z",
     "iopub.status.idle": "2020-12-31T10:17:30.080746Z",
     "shell.execute_reply": "2020-12-31T10:17:30.081212Z"
    },
    "papermill": {
     "duration": 1.599679,
     "end_time": "2020-12-31T10:17:30.081402",
     "exception": false,
     "start_time": "2020-12-31T10:17:28.481723",
     "status": "completed"
    },
    "tags": []
   },
   "outputs": [
    {
     "name": "stdout",
     "output_type": "stream",
     "text": [
      "Collecting mnist\r\n"
     ]
    },
    {
     "name": "stdout",
     "output_type": "stream",
     "text": [
      "  Downloading mnist-0.2.2-py2.py3-none-any.whl (3.5 kB)\r\n",
      "Requirement already satisfied: numpy in /opt/hostedtoolcache/Python/3.6.12/x64/lib/python3.6/site-packages (from mnist) (1.19.4)\r\n"
     ]
    },
    {
     "name": "stdout",
     "output_type": "stream",
     "text": [
      "Installing collected packages: mnist\r\n"
     ]
    },
    {
     "name": "stdout",
     "output_type": "stream",
     "text": [
      "Successfully installed mnist-0.2.2\r\n",
      "\u001b[33mWARNING: You are using pip version 20.3.1; however, version 20.3.3 is available.\r\n",
      "You should consider upgrading via the '/opt/hostedtoolcache/Python/3.6.12/x64/bin/python -m pip install --upgrade pip' command.\u001b[0m\r\n"
     ]
    }
   ],
   "source": [
    "!pip install mnist "
   ]
  },
  {
   "cell_type": "markdown",
   "metadata": {
    "papermill": {
     "duration": 0.026755,
     "end_time": "2020-12-31T10:17:30.135485",
     "exception": false,
     "start_time": "2020-12-31T10:17:30.108730",
     "status": "completed"
    },
    "tags": []
   },
   "source": [
    "#### Importing necessary libraries"
   ]
  },
  {
   "cell_type": "code",
   "execution_count": 2,
   "metadata": {
    "execution": {
     "iopub.execute_input": "2020-12-31T10:17:30.198154Z",
     "iopub.status.busy": "2020-12-31T10:17:30.197468Z",
     "iopub.status.idle": "2020-12-31T10:17:30.757262Z",
     "shell.execute_reply": "2020-12-31T10:17:30.756394Z"
    },
    "papermill": {
     "duration": 0.595054,
     "end_time": "2020-12-31T10:17:30.757492",
     "exception": false,
     "start_time": "2020-12-31T10:17:30.162438",
     "status": "completed"
    },
    "tags": []
   },
   "outputs": [],
   "source": [
    "%load_ext autoreload\n",
    "%autoreload 2\n",
    "\n",
    "%matplotlib inline\n",
    "import matplotlib.pyplot as plt\n",
    "\n",
    "import numpy as np\n",
    "import pandas as pd"
   ]
  },
  {
   "cell_type": "markdown",
   "metadata": {
    "papermill": {
     "duration": 0.027724,
     "end_time": "2020-12-31T10:17:30.812349",
     "exception": false,
     "start_time": "2020-12-31T10:17:30.784625",
     "status": "completed"
    },
    "tags": []
   },
   "source": [
    "### Preparing the Data"
   ]
  },
  {
   "cell_type": "code",
   "execution_count": 3,
   "metadata": {
    "execution": {
     "iopub.execute_input": "2020-12-31T10:17:30.867976Z",
     "iopub.status.busy": "2020-12-31T10:17:30.867333Z",
     "iopub.status.idle": "2020-12-31T10:17:30.880829Z",
     "shell.execute_reply": "2020-12-31T10:17:30.881304Z"
    },
    "papermill": {
     "duration": 0.043618,
     "end_time": "2020-12-31T10:17:30.881468",
     "exception": false,
     "start_time": "2020-12-31T10:17:30.837850",
     "status": "completed"
    },
    "tags": []
   },
   "outputs": [],
   "source": [
    "import mnist"
   ]
  },
  {
   "cell_type": "code",
   "execution_count": 4,
   "metadata": {
    "execution": {
     "iopub.execute_input": "2020-12-31T10:17:30.951484Z",
     "iopub.status.busy": "2020-12-31T10:17:30.950860Z",
     "iopub.status.idle": "2020-12-31T10:17:31.849050Z",
     "shell.execute_reply": "2020-12-31T10:17:31.847902Z"
    },
    "papermill": {
     "duration": 0.938643,
     "end_time": "2020-12-31T10:17:31.849195",
     "exception": false,
     "start_time": "2020-12-31T10:17:30.910552",
     "status": "completed"
    },
    "tags": []
   },
   "outputs": [],
   "source": [
    "train_images = mnist.train_images()\n",
    "train_labels = mnist.train_labels()"
   ]
  },
  {
   "cell_type": "code",
   "execution_count": 5,
   "metadata": {
    "execution": {
     "iopub.execute_input": "2020-12-31T10:17:31.905838Z",
     "iopub.status.busy": "2020-12-31T10:17:31.905044Z",
     "iopub.status.idle": "2020-12-31T10:17:31.918028Z",
     "shell.execute_reply": "2020-12-31T10:17:31.917516Z"
    },
    "papermill": {
     "duration": 0.044797,
     "end_time": "2020-12-31T10:17:31.918164",
     "exception": false,
     "start_time": "2020-12-31T10:17:31.873367",
     "status": "completed"
    },
    "tags": []
   },
   "outputs": [
    {
     "data": {
      "text/plain": [
       "((60000, 28, 28), (60000,))"
      ]
     },
     "execution_count": 5,
     "metadata": {},
     "output_type": "execute_result"
    }
   ],
   "source": [
    "train_images.shape, train_labels.shape"
   ]
  },
  {
   "cell_type": "code",
   "execution_count": 6,
   "metadata": {
    "execution": {
     "iopub.execute_input": "2020-12-31T10:17:31.978488Z",
     "iopub.status.busy": "2020-12-31T10:17:31.977120Z",
     "iopub.status.idle": "2020-12-31T10:17:32.387639Z",
     "shell.execute_reply": "2020-12-31T10:17:32.386899Z"
    },
    "papermill": {
     "duration": 0.443382,
     "end_time": "2020-12-31T10:17:32.387809",
     "exception": false,
     "start_time": "2020-12-31T10:17:31.944427",
     "status": "completed"
    },
    "tags": []
   },
   "outputs": [],
   "source": [
    "test_images = mnist.test_images()\n",
    "test_labels = mnist.test_labels()"
   ]
  },
  {
   "cell_type": "code",
   "execution_count": 7,
   "metadata": {
    "execution": {
     "iopub.execute_input": "2020-12-31T10:17:32.450723Z",
     "iopub.status.busy": "2020-12-31T10:17:32.449756Z",
     "iopub.status.idle": "2020-12-31T10:17:32.460867Z",
     "shell.execute_reply": "2020-12-31T10:17:32.461410Z"
    },
    "papermill": {
     "duration": 0.045188,
     "end_time": "2020-12-31T10:17:32.461568",
     "exception": false,
     "start_time": "2020-12-31T10:17:32.416380",
     "status": "completed"
    },
    "tags": []
   },
   "outputs": [
    {
     "data": {
      "text/plain": [
       "((10000, 28, 28), (10000,))"
      ]
     },
     "execution_count": 7,
     "metadata": {},
     "output_type": "execute_result"
    }
   ],
   "source": [
    "test_images.shape, test_labels.shape"
   ]
  },
  {
   "cell_type": "code",
   "execution_count": 8,
   "metadata": {
    "execution": {
     "iopub.execute_input": "2020-12-31T10:17:32.544522Z",
     "iopub.status.busy": "2020-12-31T10:17:32.521995Z",
     "iopub.status.idle": "2020-12-31T10:17:32.691672Z",
     "shell.execute_reply": "2020-12-31T10:17:32.691192Z"
    },
    "papermill": {
     "duration": 0.20448,
     "end_time": "2020-12-31T10:17:32.691801",
     "exception": false,
     "start_time": "2020-12-31T10:17:32.487321",
     "status": "completed"
    },
    "tags": []
   },
   "outputs": [
    {
     "name": "stdout",
     "output_type": "stream",
     "text": [
      "2\n"
     ]
    },
    {
     "data": {
      "text/plain": [
       "<matplotlib.image.AxesImage at 0x7f2ce0c943c8>"
      ]
     },
     "execution_count": 8,
     "metadata": {},
     "output_type": "execute_result"
    },
    {
     "data": {
      "image/png": "[encoded data removed]",
      "text/plain": [
       "<Figure size 432x288 with 1 Axes>"
      ]
     },
     "metadata": {
      "needs_background": "light"
     },
     "output_type": "display_data"
    }
   ],
   "source": [
    "image_index = 7776 # You may select anything up to 60,000\n",
    "print(train_labels[image_index]) \n",
    "plt.imshow(train_images[image_index], cmap='Greys')"
   ]
  },
  {
   "cell_type": "markdown",
   "metadata": {
    "papermill": {
     "duration": 0.028043,
     "end_time": "2020-12-31T10:17:32.750505",
     "exception": false,
     "start_time": "2020-12-31T10:17:32.722462",
     "status": "completed"
    },
    "tags": []
   },
   "source": [
    "## Filter data to get 3 and 8 out"
   ]
  },
  {
   "cell_type": "code",
   "execution_count": 9,
   "metadata": {
    "execution": {
     "iopub.execute_input": "2020-12-31T10:17:32.811072Z",
     "iopub.status.busy": "2020-12-31T10:17:32.810457Z",
     "iopub.status.idle": "2020-12-31T10:17:32.827613Z",
     "shell.execute_reply": "2020-12-31T10:17:32.827088Z"
    },
    "papermill": {
     "duration": 0.049865,
     "end_time": "2020-12-31T10:17:32.827746",
     "exception": false,
     "start_time": "2020-12-31T10:17:32.777881",
     "status": "completed"
    },
    "tags": []
   },
   "outputs": [],
   "source": [
    "train_filter = np.where((train_labels == 3 ) | (train_labels == 8))\n",
    "test_filter = np.where((test_labels == 3) | (test_labels == 8))\n",
    "X_train, y_train = train_images[train_filter], train_labels[train_filter]\n",
    "X_test, y_test = test_images[test_filter], test_labels[test_filter]"
   ]
  },
  {
   "cell_type": "markdown",
   "metadata": {
    "papermill": {
     "duration": 0.027781,
     "end_time": "2020-12-31T10:17:32.884076",
     "exception": false,
     "start_time": "2020-12-31T10:17:32.856295",
     "status": "completed"
    },
    "tags": []
   },
   "source": [
    "We normalize the pixel values in the 0 to 1 range"
   ]
  },
  {
   "cell_type": "code",
   "execution_count": 10,
   "metadata": {
    "execution": {
     "iopub.execute_input": "2020-12-31T10:17:32.944253Z",
     "iopub.status.busy": "2020-12-31T10:17:32.943640Z",
     "iopub.status.idle": "2020-12-31T10:17:32.992547Z",
     "shell.execute_reply": "2020-12-31T10:17:32.991995Z"
    },
    "papermill": {
     "duration": 0.080672,
     "end_time": "2020-12-31T10:17:32.992709",
     "exception": false,
     "start_time": "2020-12-31T10:17:32.912037",
     "status": "completed"
    },
    "tags": []
   },
   "outputs": [],
   "source": [
    "X_train = X_train/255.\n",
    "X_test = X_test/255."
   ]
  },
  {
   "cell_type": "markdown",
   "metadata": {
    "papermill": {
     "duration": 0.02914,
     "end_time": "2020-12-31T10:17:33.051486",
     "exception": false,
     "start_time": "2020-12-31T10:17:33.022346",
     "status": "completed"
    },
    "tags": []
   },
   "source": [
    "Setup the labels as 1 (when the digit is 3) and 0 (when the digit is 8)"
   ]
  },
  {
   "cell_type": "code",
   "execution_count": 11,
   "metadata": {
    "execution": {
     "iopub.execute_input": "2020-12-31T10:17:33.112481Z",
     "iopub.status.busy": "2020-12-31T10:17:33.111888Z",
     "iopub.status.idle": "2020-12-31T10:17:33.127415Z",
     "shell.execute_reply": "2020-12-31T10:17:33.126593Z"
    },
    "papermill": {
     "duration": 0.047947,
     "end_time": "2020-12-31T10:17:33.127616",
     "exception": false,
     "start_time": "2020-12-31T10:17:33.079669",
     "status": "completed"
    },
    "tags": []
   },
   "outputs": [],
   "source": [
    "y_train = 1*(y_train==3)\n",
    "y_test = 1*(y_test==3)"
   ]
  },
  {
   "cell_type": "code",
   "execution_count": 12,
   "metadata": {
    "execution": {
     "iopub.execute_input": "2020-12-31T10:17:33.191275Z",
     "iopub.status.busy": "2020-12-31T10:17:33.190672Z",
     "iopub.status.idle": "2020-12-31T10:17:33.203511Z",
     "shell.execute_reply": "2020-12-31T10:17:33.203013Z"
    },
    "papermill": {
     "duration": 0.04567,
     "end_time": "2020-12-31T10:17:33.203647",
     "exception": false,
     "start_time": "2020-12-31T10:17:33.157977",
     "status": "completed"
    },
    "tags": []
   },
   "outputs": [
    {
     "data": {
      "text/plain": [
       "((11982, 28, 28), (1984, 28, 28))"
      ]
     },
     "execution_count": 12,
     "metadata": {},
     "output_type": "execute_result"
    }
   ],
   "source": [
    "X_train.shape, X_test.shape"
   ]
  },
  {
   "cell_type": "markdown",
   "metadata": {
    "papermill": {
     "duration": 0.028466,
     "end_time": "2020-12-31T10:17:33.260229",
     "exception": false,
     "start_time": "2020-12-31T10:17:33.231763",
     "status": "completed"
    },
    "tags": []
   },
   "source": [
    "### Reshape the input data to create a linear array"
   ]
  },
  {
   "cell_type": "code",
   "execution_count": 13,
   "metadata": {
    "execution": {
     "iopub.execute_input": "2020-12-31T10:17:33.320813Z",
     "iopub.status.busy": "2020-12-31T10:17:33.320188Z",
     "iopub.status.idle": "2020-12-31T10:17:33.333874Z",
     "shell.execute_reply": "2020-12-31T10:17:33.333397Z"
    },
    "papermill": {
     "duration": 0.045722,
     "end_time": "2020-12-31T10:17:33.334004",
     "exception": false,
     "start_time": "2020-12-31T10:17:33.288282",
     "status": "completed"
    },
    "tags": []
   },
   "outputs": [
    {
     "data": {
      "text/plain": [
       "((11982, 784), (1984, 784))"
      ]
     },
     "execution_count": 13,
     "metadata": {},
     "output_type": "execute_result"
    }
   ],
   "source": [
    "X_train = X_train.reshape(X_train.shape[0], -1)\n",
    "X_test = X_test.reshape(X_test.shape[0], -1)\n",
    "X_train.shape, X_test.shape"
   ]
  },
  {
   "cell_type": "markdown",
   "metadata": {
    "papermill": {
     "duration": 0.027259,
     "end_time": "2020-12-31T10:17:33.387176",
     "exception": false,
     "start_time": "2020-12-31T10:17:33.359917",
     "status": "completed"
    },
    "tags": []
   },
   "source": [
    "### Importing appropriate functions from 'Kudzu'"
   ]
  },
  {
   "cell_type": "code",
   "execution_count": 14,
   "metadata": {
    "execution": {
     "iopub.execute_input": "2020-12-31T10:17:33.447418Z",
     "iopub.status.busy": "2020-12-31T10:17:33.446784Z",
     "iopub.status.idle": "2020-12-31T10:17:33.465245Z",
     "shell.execute_reply": "2020-12-31T10:17:33.465722Z"
    },
    "papermill": {
     "duration": 0.051421,
     "end_time": "2020-12-31T10:17:33.465908",
     "exception": false,
     "start_time": "2020-12-31T10:17:33.414487",
     "status": "completed"
    },
    "tags": []
   },
   "outputs": [],
   "source": [
    "from kudzu.layer import Sigmoid\n",
    "from kudzu.layer import Relu\n",
    "from kudzu.layer import Affine, Sigmoid\n",
    "\n",
    "from kudzu.model import Model\n",
    "from kudzu.train import Learner\n",
    "from kudzu.optim import GD\n",
    "from kudzu.data import Data, Dataloader, Sampler\n",
    "\n",
    "from kudzu.callbacks import AccCallback\n",
    "from kudzu.callbacks import ClfCallback\n",
    "\n",
    "from kudzu.loss import MSE"
   ]
  },
  {
   "cell_type": "markdown",
   "metadata": {
    "papermill": {
     "duration": 0.027319,
     "end_time": "2020-12-31T10:17:33.521175",
     "exception": false,
     "start_time": "2020-12-31T10:17:33.493856",
     "status": "completed"
    },
    "tags": []
   },
   "source": [
    "### Let us create a `Config` class, to store important parameters. \n",
    "This class essentially plays the role of a dictionary."
   ]
  },
  {
   "cell_type": "code",
   "execution_count": 15,
   "metadata": {
    "execution": {
     "iopub.execute_input": "2020-12-31T10:17:33.581460Z",
     "iopub.status.busy": "2020-12-31T10:17:33.580857Z",
     "iopub.status.idle": "2020-12-31T10:17:33.595019Z",
     "shell.execute_reply": "2020-12-31T10:17:33.594536Z"
    },
    "papermill": {
     "duration": 0.046662,
     "end_time": "2020-12-31T10:17:33.595144",
     "exception": false,
     "start_time": "2020-12-31T10:17:33.548482",
     "status": "completed"
    },
    "tags": []
   },
   "outputs": [],
   "source": [
    "class Config:\n",
    "    pass\n",
    "config = Config()\n",
    "config.lr = 0.001\n",
    "config.num_epochs = 251\n",
    "config.bs = 50"
   ]
  },
  {
   "cell_type": "markdown",
   "metadata": {
    "papermill": {
     "duration": 0.028101,
     "end_time": "2020-12-31T10:17:33.649548",
     "exception": false,
     "start_time": "2020-12-31T10:17:33.621447",
     "status": "completed"
    },
    "tags": []
   },
   "source": [
    "### Initializing data to the variables"
   ]
  },
  {
   "cell_type": "code",
   "execution_count": 16,
   "metadata": {
    "execution": {
     "iopub.execute_input": "2020-12-31T10:17:33.708689Z",
     "iopub.status.busy": "2020-12-31T10:17:33.708145Z",
     "iopub.status.idle": "2020-12-31T10:17:33.722464Z",
     "shell.execute_reply": "2020-12-31T10:17:33.722902Z"
    },
    "papermill": {
     "duration": 0.047421,
     "end_time": "2020-12-31T10:17:33.723045",
     "exception": false,
     "start_time": "2020-12-31T10:17:33.675624",
     "status": "completed"
    },
    "tags": []
   },
   "outputs": [],
   "source": [
    "data = Data(X_train, y_train.reshape(-1,1))\n",
    "sampler = Sampler(data, config.bs, shuffle=True)\n",
    "\n",
    "dl = Dataloader(data, sampler)\n",
    "\n",
    "opt = GD(config.lr)\n",
    "loss = MSE()"
   ]
  },
  {
   "cell_type": "code",
   "execution_count": 17,
   "metadata": {
    "execution": {
     "iopub.execute_input": "2020-12-31T10:17:33.780850Z",
     "iopub.status.busy": "2020-12-31T10:17:33.780284Z",
     "iopub.status.idle": "2020-12-31T10:17:33.794670Z",
     "shell.execute_reply": "2020-12-31T10:17:33.794179Z"
    },
    "papermill": {
     "duration": 0.044702,
     "end_time": "2020-12-31T10:17:33.794803",
     "exception": false,
     "start_time": "2020-12-31T10:17:33.750101",
     "status": "completed"
    },
    "tags": []
   },
   "outputs": [],
   "source": [
    "training_xdata = X_train\n",
    "testing_xdata = X_test\n",
    "training_ydata = y_train.reshape(-1,1)\n",
    "testing_ydata = y_test.reshape(-1,1)"
   ]
  },
  {
   "cell_type": "markdown",
   "metadata": {
    "papermill": {
     "duration": 0.027799,
     "end_time": "2020-12-31T10:17:33.849979",
     "exception": false,
     "start_time": "2020-12-31T10:17:33.822180",
     "status": "completed"
    },
    "tags": []
   },
   "source": [
    "### Running Models with the Training data\n",
    "Details about the network layers:\n",
    "- A first affine layer has 784 inputs and does 100 affine transforms. These are followed by a Relu\n",
    "- A second affine layer has 100 inputs from the 100 activations of the past layer, and does 100 affine transforms. These are followed by a Relu\n",
    "- A third affine layer has 100 activations and does 2 affine transformations to create an embedding for visualization. There is no non-linearity here.\n",
    "- A final \"logistic regression\" which has an affine transform from 2 inputs to 1 output, which is squeezed through a sigmoid.\n",
    "\n",
    "Help taken from Anshuman's Notebook."
   ]
  },
  {
   "cell_type": "code",
   "execution_count": 18,
   "metadata": {
    "execution": {
     "iopub.execute_input": "2020-12-31T10:17:33.914708Z",
     "iopub.status.busy": "2020-12-31T10:17:33.914140Z",
     "iopub.status.idle": "2020-12-31T10:17:33.931715Z",
     "shell.execute_reply": "2020-12-31T10:17:33.932162Z"
    },
    "papermill": {
     "duration": 0.054734,
     "end_time": "2020-12-31T10:17:33.932318",
     "exception": false,
     "start_time": "2020-12-31T10:17:33.877584",
     "status": "completed"
    },
    "tags": []
   },
   "outputs": [],
   "source": [
    "# layers for the Neural Network\n",
    "layers = [Affine(\"first\", 784, 100), Relu(\"first\"), Affine(\"second\", 100, 100), Relu(\"second\"), Affine(\"third\", 100, 2), Affine(\"final\", 2, 1), Sigmoid(\"final\")]\n",
    "model_nn = Model(layers)\n",
    "\n",
    "# layers for the Logistic Regression\n",
    "layers_lr = [Affine(\"logits\", 784, 1), Sigmoid(\"sigmoid\")]\n",
    "model_lr = Model(layers_lr)"
   ]
  },
  {
   "cell_type": "code",
   "execution_count": 19,
   "metadata": {
    "execution": {
     "iopub.execute_input": "2020-12-31T10:17:33.993985Z",
     "iopub.status.busy": "2020-12-31T10:17:33.993383Z",
     "iopub.status.idle": "2020-12-31T10:17:34.007395Z",
     "shell.execute_reply": "2020-12-31T10:17:34.007816Z"
    },
    "papermill": {
     "duration": 0.047068,
     "end_time": "2020-12-31T10:17:34.007963",
     "exception": false,
     "start_time": "2020-12-31T10:17:33.960895",
     "status": "completed"
    },
    "tags": []
   },
   "outputs": [],
   "source": [
    "# suffix _nn stands for Neural Network.\n",
    "learner_nn = Learner(loss, model_nn, opt, config.num_epochs)\n",
    "acc_nn = ClfCallback(learner_nn, config.bs, training_xdata , testing_xdata, training_ydata, testing_ydata)\n",
    "learner_nn.set_callbacks([acc_nn])"
   ]
  },
  {
   "cell_type": "code",
   "execution_count": 20,
   "metadata": {
    "execution": {
     "iopub.execute_input": "2020-12-31T10:17:34.068892Z",
     "iopub.status.busy": "2020-12-31T10:17:34.068303Z",
     "iopub.status.idle": "2020-12-31T10:18:58.131721Z",
     "shell.execute_reply": "2020-12-31T10:18:58.132467Z"
    },
    "papermill": {
     "duration": 84.096971,
     "end_time": "2020-12-31T10:18:58.132621",
     "exception": false,
     "start_time": "2020-12-31T10:17:34.035650",
     "status": "completed"
    },
    "tags": []
   },
   "outputs": [
    {
     "name": "stdout",
     "output_type": "stream",
     "text": [
      "====== Neural Network ======\n"
     ]
    },
    {
     "name": "stdout",
     "output_type": "stream",
     "text": [
      "Epoch 0, Loss 0.2428\n",
      "Training Accuracy: 0.6016, Testing Accuracy: 0.6104\n",
      "\n"
     ]
    },
    {
     "name": "stdout",
     "output_type": "stream",
     "text": [
      "Epoch 10, Loss 0.1106\n",
      "Training Accuracy: 0.8990, Testing Accuracy: 0.9057\n",
      "\n"
     ]
    },
    {
     "name": "stdout",
     "output_type": "stream",
     "text": [
      "Epoch 20, Loss 0.0645\n",
      "Training Accuracy: 0.9332, Testing Accuracy: 0.9340\n",
      "\n"
     ]
    },
    {
     "name": "stdout",
     "output_type": "stream",
     "text": [
      "Epoch 30, Loss 0.0487\n",
      "Training Accuracy: 0.9462, Testing Accuracy: 0.9536\n",
      "\n"
     ]
    },
    {
     "name": "stdout",
     "output_type": "stream",
     "text": [
      "Epoch 40, Loss 0.0413\n",
      "Training Accuracy: 0.9544, Testing Accuracy: 0.9632\n",
      "\n"
     ]
    },
    {
     "name": "stdout",
     "output_type": "stream",
     "text": [
      "Epoch 50, Loss 0.037\n",
      "Training Accuracy: 0.9584, Testing Accuracy: 0.9677\n",
      "\n"
     ]
    },
    {
     "name": "stdout",
     "output_type": "stream",
     "text": [
      "Epoch 60, Loss 0.0342\n",
      "Training Accuracy: 0.9604, Testing Accuracy: 0.9688\n",
      "\n"
     ]
    },
    {
     "name": "stdout",
     "output_type": "stream",
     "text": [
      "Epoch 70, Loss 0.0322\n",
      "Training Accuracy: 0.9629, Testing Accuracy: 0.9693\n",
      "\n"
     ]
    },
    {
     "name": "stdout",
     "output_type": "stream",
     "text": [
      "Epoch 80, Loss 0.0306\n",
      "Training Accuracy: 0.9644, Testing Accuracy: 0.9713\n",
      "\n"
     ]
    },
    {
     "name": "stdout",
     "output_type": "stream",
     "text": [
      "Epoch 90, Loss 0.0293\n",
      "Training Accuracy: 0.9653, Testing Accuracy: 0.9718\n",
      "\n"
     ]
    },
    {
     "name": "stdout",
     "output_type": "stream",
     "text": [
      "Epoch 100, Loss 0.0282\n",
      "Training Accuracy: 0.9661, Testing Accuracy: 0.9733\n",
      "\n"
     ]
    },
    {
     "name": "stdout",
     "output_type": "stream",
     "text": [
      "Epoch 110, Loss 0.0272\n",
      "Training Accuracy: 0.9674, Testing Accuracy: 0.9733\n",
      "\n"
     ]
    },
    {
     "name": "stdout",
     "output_type": "stream",
     "text": [
      "Epoch 120, Loss 0.0264\n",
      "Training Accuracy: 0.9688, Testing Accuracy: 0.9738\n",
      "\n"
     ]
    },
    {
     "name": "stdout",
     "output_type": "stream",
     "text": [
      "Epoch 130, Loss 0.0256\n",
      "Training Accuracy: 0.9702, Testing Accuracy: 0.9743\n",
      "\n"
     ]
    },
    {
     "name": "stdout",
     "output_type": "stream",
     "text": [
      "Epoch 140, Loss 0.025\n",
      "Training Accuracy: 0.9713, Testing Accuracy: 0.9748\n",
      "\n"
     ]
    },
    {
     "name": "stdout",
     "output_type": "stream",
     "text": [
      "Epoch 150, Loss 0.0243\n",
      "Training Accuracy: 0.9720, Testing Accuracy: 0.9743\n",
      "\n"
     ]
    },
    {
     "name": "stdout",
     "output_type": "stream",
     "text": [
      "Epoch 160, Loss 0.0237\n",
      "Training Accuracy: 0.9722, Testing Accuracy: 0.9738\n",
      "\n"
     ]
    },
    {
     "name": "stdout",
     "output_type": "stream",
     "text": [
      "Epoch 170, Loss 0.0232\n",
      "Training Accuracy: 0.9733, Testing Accuracy: 0.9743\n",
      "\n"
     ]
    },
    {
     "name": "stdout",
     "output_type": "stream",
     "text": [
      "Epoch 180, Loss 0.0226\n",
      "Training Accuracy: 0.9737, Testing Accuracy: 0.9748\n",
      "\n"
     ]
    },
    {
     "name": "stdout",
     "output_type": "stream",
     "text": [
      "Epoch 190, Loss 0.0221\n",
      "Training Accuracy: 0.9747, Testing Accuracy: 0.9748\n",
      "\n"
     ]
    },
    {
     "name": "stdout",
     "output_type": "stream",
     "text": [
      "Epoch 200, Loss 0.0217\n",
      "Training Accuracy: 0.9750, Testing Accuracy: 0.9758\n",
      "\n"
     ]
    },
    {
     "name": "stdout",
     "output_type": "stream",
     "text": [
      "Epoch 210, Loss 0.0212\n",
      "Training Accuracy: 0.9755, Testing Accuracy: 0.9753\n",
      "\n"
     ]
    },
    {
     "name": "stdout",
     "output_type": "stream",
     "text": [
      "Epoch 220, Loss 0.0208\n",
      "Training Accuracy: 0.9760, Testing Accuracy: 0.9758\n",
      "\n"
     ]
    },
    {
     "name": "stdout",
     "output_type": "stream",
     "text": [
      "Epoch 230, Loss 0.0204\n",
      "Training Accuracy: 0.9764, Testing Accuracy: 0.9758\n",
      "\n"
     ]
    },
    {
     "name": "stdout",
     "output_type": "stream",
     "text": [
      "Epoch 240, Loss 0.02\n",
      "Training Accuracy: 0.9770, Testing Accuracy: 0.9753\n",
      "\n"
     ]
    },
    {
     "name": "stdout",
     "output_type": "stream",
     "text": [
      "Epoch 250, Loss 0.0197\n",
      "Training Accuracy: 0.9775, Testing Accuracy: 0.9758\n",
      "\n"
     ]
    },
    {
     "data": {
      "text/plain": [
       "0.04012764130488453"
      ]
     },
     "execution_count": 20,
     "metadata": {},
     "output_type": "execute_result"
    }
   ],
   "source": [
    "print(\"====== Neural Network ======\")\n",
    "learner_nn.train_loop(dl)"
   ]
  },
  {
   "cell_type": "markdown",
   "metadata": {
    "papermill": {
     "duration": 0.035588,
     "end_time": "2020-12-31T10:18:58.204481",
     "exception": false,
     "start_time": "2020-12-31T10:18:58.168893",
     "status": "completed"
    },
    "tags": []
   },
   "source": [
    "### Logistic Regression based Implementation."
   ]
  },
  {
   "cell_type": "code",
   "execution_count": 21,
   "metadata": {
    "execution": {
     "iopub.execute_input": "2020-12-31T10:18:58.281854Z",
     "iopub.status.busy": "2020-12-31T10:18:58.281192Z",
     "iopub.status.idle": "2020-12-31T10:18:58.292192Z",
     "shell.execute_reply": "2020-12-31T10:18:58.291716Z"
    },
    "papermill": {
     "duration": 0.052632,
     "end_time": "2020-12-31T10:18:58.292326",
     "exception": false,
     "start_time": "2020-12-31T10:18:58.239694",
     "status": "completed"
    },
    "tags": []
   },
   "outputs": [],
   "source": [
    "learner_lr = Learner(loss, model_lr, opt, config.num_epochs)\n",
    "acc_lr = ClfCallback(learner_lr, config.bs, training_xdata , testing_xdata, training_ydata, testing_ydata)\n",
    "learner_lr.set_callbacks([acc_lr])"
   ]
  },
  {
   "cell_type": "code",
   "execution_count": 22,
   "metadata": {
    "execution": {
     "iopub.execute_input": "2020-12-31T10:18:58.375597Z",
     "iopub.status.busy": "2020-12-31T10:18:58.373334Z",
     "iopub.status.idle": "2020-12-31T10:19:13.415267Z",
     "shell.execute_reply": "2020-12-31T10:19:13.416066Z"
    },
    "papermill": {
     "duration": 15.087858,
     "end_time": "2020-12-31T10:19:13.416228",
     "exception": false,
     "start_time": "2020-12-31T10:18:58.328370",
     "status": "completed"
    },
    "tags": []
   },
   "outputs": [
    {
     "name": "stdout",
     "output_type": "stream",
     "text": [
      "====== Logistic Regression ======\n",
      "Epoch 0, Loss 0.23\n",
      "Training Accuracy: 0.6990, Testing Accuracy: 0.7193\n",
      "\n"
     ]
    },
    {
     "name": "stdout",
     "output_type": "stream",
     "text": [
      "Epoch 10, Loss 0.1049\n",
      "Training Accuracy: 0.9039, Testing Accuracy: 0.9118\n",
      "\n"
     ]
    },
    {
     "name": "stdout",
     "output_type": "stream",
     "text": [
      "Epoch 20, Loss 0.0803\n",
      "Training Accuracy: 0.9256, Testing Accuracy: 0.9345\n",
      "\n"
     ]
    },
    {
     "name": "stdout",
     "output_type": "stream",
     "text": [
      "Epoch 30, Loss 0.069\n",
      "Training Accuracy: 0.9348, Testing Accuracy: 0.9430\n",
      "\n"
     ]
    },
    {
     "name": "stdout",
     "output_type": "stream",
     "text": [
      "Epoch 40, Loss 0.0622\n",
      "Training Accuracy: 0.9415, Testing Accuracy: 0.9481\n",
      "\n"
     ]
    },
    {
     "name": "stdout",
     "output_type": "stream",
     "text": [
      "Epoch 50, Loss 0.0576\n",
      "Training Accuracy: 0.9442, Testing Accuracy: 0.9516\n",
      "\n"
     ]
    },
    {
     "name": "stdout",
     "output_type": "stream",
     "text": [
      "Epoch 60, Loss 0.0543\n",
      "Training Accuracy: 0.9463, Testing Accuracy: 0.9546\n",
      "\n"
     ]
    },
    {
     "name": "stdout",
     "output_type": "stream",
     "text": [
      "Epoch 70, Loss 0.0517\n",
      "Training Accuracy: 0.9483, Testing Accuracy: 0.9567\n",
      "\n"
     ]
    },
    {
     "name": "stdout",
     "output_type": "stream",
     "text": [
      "Epoch 80, Loss 0.0496\n",
      "Training Accuracy: 0.9504, Testing Accuracy: 0.9577\n",
      "\n"
     ]
    },
    {
     "name": "stdout",
     "output_type": "stream",
     "text": [
      "Epoch 90, Loss 0.0479\n",
      "Training Accuracy: 0.9510, Testing Accuracy: 0.9582\n",
      "\n"
     ]
    },
    {
     "name": "stdout",
     "output_type": "stream",
     "text": [
      "Epoch 100, Loss 0.0464\n",
      "Training Accuracy: 0.9524, Testing Accuracy: 0.9602\n",
      "\n"
     ]
    },
    {
     "name": "stdout",
     "output_type": "stream",
     "text": [
      "Epoch 110, Loss 0.0452\n",
      "Training Accuracy: 0.9535, Testing Accuracy: 0.9612\n",
      "\n"
     ]
    },
    {
     "name": "stdout",
     "output_type": "stream",
     "text": [
      "Epoch 120, Loss 0.0441\n",
      "Training Accuracy: 0.9548, Testing Accuracy: 0.9617\n",
      "\n"
     ]
    },
    {
     "name": "stdout",
     "output_type": "stream",
     "text": [
      "Epoch 130, Loss 0.0432\n",
      "Training Accuracy: 0.9552, Testing Accuracy: 0.9622\n",
      "\n"
     ]
    },
    {
     "name": "stdout",
     "output_type": "stream",
     "text": [
      "Epoch 140, Loss 0.0423\n",
      "Training Accuracy: 0.9561, Testing Accuracy: 0.9637\n",
      "\n"
     ]
    },
    {
     "name": "stdout",
     "output_type": "stream",
     "text": [
      "Epoch 150, Loss 0.0416\n",
      "Training Accuracy: 0.9567, Testing Accuracy: 0.9637\n",
      "\n"
     ]
    },
    {
     "name": "stdout",
     "output_type": "stream",
     "text": [
      "Epoch 160, Loss 0.0409\n",
      "Training Accuracy: 0.9572, Testing Accuracy: 0.9632\n",
      "\n"
     ]
    },
    {
     "name": "stdout",
     "output_type": "stream",
     "text": [
      "Epoch 170, Loss 0.0403\n",
      "Training Accuracy: 0.9576, Testing Accuracy: 0.9637\n",
      "\n"
     ]
    },
    {
     "name": "stdout",
     "output_type": "stream",
     "text": [
      "Epoch 180, Loss 0.0397\n",
      "Training Accuracy: 0.9579, Testing Accuracy: 0.9642\n",
      "\n"
     ]
    },
    {
     "name": "stdout",
     "output_type": "stream",
     "text": [
      "Epoch 190, Loss 0.0392\n",
      "Training Accuracy: 0.9588, Testing Accuracy: 0.9647\n",
      "\n"
     ]
    },
    {
     "name": "stdout",
     "output_type": "stream",
     "text": [
      "Epoch 200, Loss 0.0387\n",
      "Training Accuracy: 0.9590, Testing Accuracy: 0.9647\n",
      "\n"
     ]
    },
    {
     "name": "stdout",
     "output_type": "stream",
     "text": [
      "Epoch 210, Loss 0.0382\n",
      "Training Accuracy: 0.9594, Testing Accuracy: 0.9652\n",
      "\n"
     ]
    },
    {
     "name": "stdout",
     "output_type": "stream",
     "text": [
      "Epoch 220, Loss 0.0378\n",
      "Training Accuracy: 0.9599, Testing Accuracy: 0.9652\n",
      "\n"
     ]
    },
    {
     "name": "stdout",
     "output_type": "stream",
     "text": [
      "Epoch 230, Loss 0.0374\n",
      "Training Accuracy: 0.9599, Testing Accuracy: 0.9657\n",
      "\n"
     ]
    },
    {
     "name": "stdout",
     "output_type": "stream",
     "text": [
      "Epoch 240, Loss 0.0371\n",
      "Training Accuracy: 0.9601, Testing Accuracy: 0.9667\n",
      "\n"
     ]
    },
    {
     "name": "stdout",
     "output_type": "stream",
     "text": [
      "Epoch 250, Loss 0.0367\n",
      "Training Accuracy: 0.9601, Testing Accuracy: 0.9662\n",
      "\n"
     ]
    },
    {
     "data": {
      "text/plain": [
       "0.03045008581347665"
      ]
     },
     "execution_count": 22,
     "metadata": {},
     "output_type": "execute_result"
    }
   ],
   "source": [
    "print(\"====== Logistic Regression ======\")\n",
    "learner_lr.train_loop(dl)"
   ]
  },
  {
   "cell_type": "markdown",
   "metadata": {
    "papermill": {
     "duration": 0.046825,
     "end_time": "2020-12-31T10:19:13.505671",
     "exception": false,
     "start_time": "2020-12-31T10:19:13.458846",
     "status": "completed"
    },
    "tags": []
   },
   "source": [
    "### Comparing results of NN and LR"
   ]
  },
  {
   "cell_type": "code",
   "execution_count": 23,
   "metadata": {
    "execution": {
     "iopub.execute_input": "2020-12-31T10:19:13.600983Z",
     "iopub.status.busy": "2020-12-31T10:19:13.600406Z",
     "iopub.status.idle": "2020-12-31T10:19:13.836024Z",
     "shell.execute_reply": "2020-12-31T10:19:13.835498Z"
    },
    "papermill": {
     "duration": 0.288577,
     "end_time": "2020-12-31T10:19:13.836158",
     "exception": false,
     "start_time": "2020-12-31T10:19:13.547581",
     "status": "completed"
    },
    "tags": []
   },
   "outputs": [
    {
     "data": {
      "text/plain": [
       "<matplotlib.legend.Legend at 0x7f2cdc0bebe0>"
      ]
     },
     "execution_count": 23,
     "metadata": {},
     "output_type": "execute_result"
    },
    {
     "data": {
      "image/png": "[encoded data removed]",
      "text/plain": [
       "<Figure size 1080x720 with 1 Axes>"
      ]
     },
     "metadata": {
      "needs_background": "light"
     },
     "output_type": "display_data"
    }
   ],
   "source": [
    "plt.figure(figsize=(15,10))\n",
    "\n",
    "# Neural Network plots\n",
    "plt.plot(acc_nn.accuracies, 'r-', label = \"Training Accuracies - NN\")\n",
    "plt.plot(acc_nn.test_accuracies, 'g-', label = \"Testing Accuracies - NN\")\n",
    "\n",
    "# Logistic Regression plots\n",
    "plt.plot(acc_lr.accuracies, 'k-', label = \"Training Accuracies - LR\")\n",
    "plt.plot(acc_lr.test_accuracies, 'b-', label = \"Testing Accuracies - LR\")\n",
    "\n",
    "plt.ylim(0.8, 1)\n",
    "\n",
    "plt.legend()\n",
    "\n"
   ]
  },
  {
   "cell_type": "markdown",
   "metadata": {
    "papermill": {
     "duration": 0.044335,
     "end_time": "2020-12-31T10:19:13.924752",
     "exception": false,
     "start_time": "2020-12-31T10:19:13.880417",
     "status": "completed"
    },
    "tags": []
   },
   "source": [
    "### From the plot, we can observe the following:\n",
    "- Neural Network achieves higher accuracy than the Logistic Regression model.\n",
    "- This apparently, is because of overfitting, i.e. NN captures more noise than data.\n",
    "- Testing accuracy of NN drops below the Training accuracy at higher epochs. This explains the over-fitting on training data.\n",
    "- Logistic Regression gives a reliable accuracy, without the above mentioned problem.\n"
   ]
  },
  {
   "cell_type": "markdown",
   "metadata": {
    "papermill": {
     "duration": 0.044746,
     "end_time": "2020-12-31T10:19:14.013074",
     "exception": false,
     "start_time": "2020-12-31T10:19:13.968328",
     "status": "completed"
    },
    "tags": []
   },
   "source": [
    "### Moving till the last but one layer (excluding it).\n",
    "#### Plotting the outputs of this layer of the NN."
   ]
  },
  {
   "cell_type": "code",
   "execution_count": 24,
   "metadata": {
    "execution": {
     "iopub.execute_input": "2020-12-31T10:19:14.114092Z",
     "iopub.status.busy": "2020-12-31T10:19:14.103611Z",
     "iopub.status.idle": "2020-12-31T10:19:14.116530Z",
     "shell.execute_reply": "2020-12-31T10:19:14.116074Z"
    },
    "papermill": {
     "duration": 0.060149,
     "end_time": "2020-12-31T10:19:14.116653",
     "exception": false,
     "start_time": "2020-12-31T10:19:14.056504",
     "status": "completed"
    },
    "tags": []
   },
   "outputs": [],
   "source": [
    "model_new = Model(layers[:-2])"
   ]
  },
  {
   "cell_type": "code",
   "execution_count": 25,
   "metadata": {
    "execution": {
     "iopub.execute_input": "2020-12-31T10:19:14.214514Z",
     "iopub.status.busy": "2020-12-31T10:19:14.207634Z",
     "iopub.status.idle": "2020-12-31T10:19:14.230213Z",
     "shell.execute_reply": "2020-12-31T10:19:14.230981Z"
    },
    "papermill": {
     "duration": 0.071583,
     "end_time": "2020-12-31T10:19:14.231146",
     "exception": false,
     "start_time": "2020-12-31T10:19:14.159563",
     "status": "completed"
    },
    "tags": []
   },
   "outputs": [],
   "source": [
    "plot_testing = model_new(testing_xdata)"
   ]
  },
  {
   "cell_type": "code",
   "execution_count": 26,
   "metadata": {
    "execution": {
     "iopub.execute_input": "2020-12-31T10:19:14.331257Z",
     "iopub.status.busy": "2020-12-31T10:19:14.330713Z",
     "iopub.status.idle": "2020-12-31T10:19:14.555411Z",
     "shell.execute_reply": "2020-12-31T10:19:14.554907Z"
    },
    "papermill": {
     "duration": 0.279435,
     "end_time": "2020-12-31T10:19:14.555546",
     "exception": false,
     "start_time": "2020-12-31T10:19:14.276111",
     "status": "completed"
    },
    "tags": []
   },
   "outputs": [
    {
     "data": {
      "text/plain": [
       "Text(0.5, 1.0, 'Outputs')"
      ]
     },
     "execution_count": 26,
     "metadata": {},
     "output_type": "execute_result"
    },
    {
     "data": {
      "image/png": "[encoded data removed]",
      "text/plain": [
       "<Figure size 576x504 with 1 Axes>"
      ]
     },
     "metadata": {
      "needs_background": "light"
     },
     "output_type": "display_data"
    }
   ],
   "source": [
    "plt.figure(figsize=(8,7))\n",
    "plt.scatter(plot_testing[:,0], plot_testing[:,1], alpha = 0.1, c = y_test.ravel());\n",
    "plt.title('Outputs')"
   ]
  },
  {
   "cell_type": "markdown",
   "metadata": {
    "papermill": {
     "duration": 0.049567,
     "end_time": "2020-12-31T10:19:14.657414",
     "exception": false,
     "start_time": "2020-12-31T10:19:14.607847",
     "status": "completed"
    },
    "tags": []
   },
   "source": [
    "### Plotting probability contours"
   ]
  },
  {
   "cell_type": "code",
   "execution_count": 27,
   "metadata": {
    "execution": {
     "iopub.execute_input": "2020-12-31T10:19:14.761888Z",
     "iopub.status.busy": "2020-12-31T10:19:14.760910Z",
     "iopub.status.idle": "2020-12-31T10:19:14.775383Z",
     "shell.execute_reply": "2020-12-31T10:19:14.774939Z"
    },
    "papermill": {
     "duration": 0.067723,
     "end_time": "2020-12-31T10:19:14.775508",
     "exception": false,
     "start_time": "2020-12-31T10:19:14.707785",
     "status": "completed"
    },
    "tags": []
   },
   "outputs": [],
   "source": [
    "model_prob = Model(layers[-2:]) "
   ]
  },
  {
   "cell_type": "code",
   "execution_count": 28,
   "metadata": {
    "execution": {
     "iopub.execute_input": "2020-12-31T10:19:14.876339Z",
     "iopub.status.busy": "2020-12-31T10:19:14.875740Z",
     "iopub.status.idle": "2020-12-31T10:19:14.890488Z",
     "shell.execute_reply": "2020-12-31T10:19:14.890908Z"
    },
    "papermill": {
     "duration": 0.068822,
     "end_time": "2020-12-31T10:19:14.891056",
     "exception": false,
     "start_time": "2020-12-31T10:19:14.822234",
     "status": "completed"
    },
    "tags": []
   },
   "outputs": [],
   "source": [
    "# Adjust the x and y ranges according to the above generated plot.\n",
    "x_range = np.linspace(-4, 1, 100) \n",
    "y_range = np.linspace(-6, 6, 100) \n",
    "x_grid, y_grid = np.meshgrid(x_range, y_range) # x_grid and y_grig are of size 100 X 100\n",
    "\n",
    "# converting x_grid and y_grid to continuous arrays\n",
    "x_grid_flat = np.ravel(x_grid)\n",
    "y_grid_flat = np.ravel(y_grid)\n",
    "\n",
    "# The last layer of the current model takes two columns as input. Hence transpose of np.vstack() is required.\n",
    "X = np.vstack((x_grid_flat, y_grid_flat)).T\n",
    "\n",
    "# x_grid and y_grid are of size 100 x 100\n",
    "probability_contour = model_prob(X).reshape(100,100) "
   ]
  },
  {
   "cell_type": "code",
   "execution_count": 29,
   "metadata": {
    "execution": {
     "iopub.execute_input": "2020-12-31T10:19:15.019072Z",
     "iopub.status.busy": "2020-12-31T10:19:15.018491Z",
     "iopub.status.idle": "2020-12-31T10:19:15.265260Z",
     "shell.execute_reply": "2020-12-31T10:19:15.264352Z"
    },
    "papermill": {
     "duration": 0.302559,
     "end_time": "2020-12-31T10:19:15.265406",
     "exception": false,
     "start_time": "2020-12-31T10:19:14.962847",
     "status": "completed"
    },
    "tags": []
   },
   "outputs": [
    {
     "data": {
      "image/png": "[encoded data removed]",
      "text/plain": [
       "<Figure size 720x648 with 1 Axes>"
      ]
     },
     "metadata": {
      "needs_background": "light"
     },
     "output_type": "display_data"
    }
   ],
   "source": [
    "plt.figure(figsize=(10,9))\n",
    "plt.scatter(plot_testing[:,0], plot_testing[:,1], alpha = 0.1, c = y_test.ravel())\n",
    "contours = plt.contour(x_grid,y_grid,probability_contour)\n",
    "plt.title('Probability Contours')\n",
    "plt.clabel(contours, inline = True );"
   ]
  }
 ],
 "metadata": {
  "kernelspec": {
   "display_name": "Python 3",
   "language": "python",
   "name": "python3"
  },
  "language_info": {
   "codemirror_mode": {
    "name": "ipython",
    "version": 3
   },
   "file_extension": ".py",
   "mimetype": "text/x-python",
   "name": "python",
   "nbconvert_exporter": "python",
   "pygments_lexer": "ipython3",
   "version": "3.6.12"
  },
  "papermill": {
   "duration": 109.351357,
   "end_time": "2020-12-31T10:19:16.654569",
   "environment_variables": {},
   "exception": null,
   "input_path": "2020-08-11-NeuralNetwork.ipynb",
   "output_path": "2020-08-11-NeuralNetwork.ipynb",
   "parameters": {},
   "start_time": "2020-12-31T10:17:27.303212",
   "version": "2.1.2"
  }
 },
 "nbformat": 4,
 "nbformat_minor": 4
}