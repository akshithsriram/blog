{
 "cells": [
  {
   "cell_type": "markdown",
   "metadata": {
    "papermill": {
     "duration": 0.032523,
     "end_time": "2020-11-21T10:04:22.316510",
     "exception": false,
     "start_time": "2020-11-21T10:04:22.283987",
     "status": "completed"
    },
    "tags": []
   },
   "source": [
    "# \"A Basic Neural Network: Differentiate Hand-Written Digits\"\n",
    "\n",
    "- badges: true\n",
    "- author: Akshith Sriram"
   ]
  },
  {
   "cell_type": "markdown",
   "metadata": {
    "papermill": {
     "duration": 0.026427,
     "end_time": "2020-11-21T10:04:22.371334",
     "exception": false,
     "start_time": "2020-11-21T10:04:22.344907",
     "status": "completed"
    },
    "tags": []
   },
   "source": [
    "### Key Objectives:\n",
    "- Building a neural network that differentiates two hand-written digits 3 and 8.\n",
    "- Comparing the results of this Neural Network (NN) to that of a Logistic Regression (LR) model.\n",
    "\n",
    "### Requirements:\n",
    "- 'Kudzu' : A neural network library that was designed during our course by [Univ.AI](www.univ.ai). \n",
    "- MNIST Database\n",
    "\n",
    "If MNIST is not installed, use the command `!pip install mnist` given below.\n",
    "It can be run both from the command line and Jupyter Notebook."
   ]
  },
  {
   "cell_type": "code",
   "execution_count": 1,
   "metadata": {
    "execution": {
     "iopub.execute_input": "2020-11-21T10:04:22.429720Z",
     "iopub.status.busy": "2020-11-21T10:04:22.429096Z",
     "iopub.status.idle": "2020-11-21T10:04:24.011288Z",
     "shell.execute_reply": "2020-11-21T10:04:24.011814Z"
    },
    "papermill": {
     "duration": 1.613696,
     "end_time": "2020-11-21T10:04:24.011997",
     "exception": false,
     "start_time": "2020-11-21T10:04:22.398301",
     "status": "completed"
    },
    "tags": []
   },
   "outputs": [
    {
     "name": "stdout",
     "output_type": "stream",
     "text": [
      "Collecting mnist\r\n",
      "  Downloading mnist-0.2.2-py2.py3-none-any.whl (3.5 kB)\r\n"
     ]
    },
    {
     "name": "stdout",
     "output_type": "stream",
     "text": [
      "Requirement already satisfied: numpy in /opt/hostedtoolcache/Python/3.6.12/x64/lib/python3.6/site-packages (from mnist) (1.19.4)\r\n"
     ]
    },
    {
     "name": "stdout",
     "output_type": "stream",
     "text": [
      "Installing collected packages: mnist\r\n"
     ]
    },
    {
     "name": "stdout",
     "output_type": "stream",
     "text": [
      "Successfully installed mnist-0.2.2\r\n"
     ]
    }
   ],
   "source": [
    "!pip install mnist "
   ]
  },
  {
   "cell_type": "markdown",
   "metadata": {
    "papermill": {
     "duration": 0.028896,
     "end_time": "2020-11-21T10:04:24.067526",
     "exception": false,
     "start_time": "2020-11-21T10:04:24.038630",
     "status": "completed"
    },
    "tags": []
   },
   "source": [
    "#### Importing necessary libraries"
   ]
  },
  {
   "cell_type": "code",
   "execution_count": 2,
   "metadata": {
    "execution": {
     "iopub.execute_input": "2020-11-21T10:04:24.130573Z",
     "iopub.status.busy": "2020-11-21T10:04:24.130030Z",
     "iopub.status.idle": "2020-11-21T10:04:24.682998Z",
     "shell.execute_reply": "2020-11-21T10:04:24.683484Z"
    },
    "papermill": {
     "duration": 0.58694,
     "end_time": "2020-11-21T10:04:24.683671",
     "exception": false,
     "start_time": "2020-11-21T10:04:24.096731",
     "status": "completed"
    },
    "tags": []
   },
   "outputs": [],
   "source": [
    "%load_ext autoreload\n",
    "%autoreload 2\n",
    "\n",
    "%matplotlib inline\n",
    "import matplotlib.pyplot as plt\n",
    "\n",
    "import numpy as np\n",
    "import pandas as pd"
   ]
  },
  {
   "cell_type": "markdown",
   "metadata": {
    "papermill": {
     "duration": 0.243743,
     "end_time": "2020-11-21T10:04:24.955411",
     "exception": false,
     "start_time": "2020-11-21T10:04:24.711668",
     "status": "completed"
    },
    "tags": []
   },
   "source": [
    "### Preparing the Data"
   ]
  },
  {
   "cell_type": "code",
   "execution_count": 3,
   "metadata": {
    "execution": {
     "iopub.execute_input": "2020-11-21T10:04:25.058503Z",
     "iopub.status.busy": "2020-11-21T10:04:25.057847Z",
     "iopub.status.idle": "2020-11-21T10:04:25.073492Z",
     "shell.execute_reply": "2020-11-21T10:04:25.074064Z"
    },
    "papermill": {
     "duration": 0.072926,
     "end_time": "2020-11-21T10:04:25.074238",
     "exception": false,
     "start_time": "2020-11-21T10:04:25.001312",
     "status": "completed"
    },
    "tags": []
   },
   "outputs": [],
   "source": [
    "import mnist"
   ]
  },
  {
   "cell_type": "code",
   "execution_count": 4,
   "metadata": {
    "execution": {
     "iopub.execute_input": "2020-11-21T10:04:25.167690Z",
     "iopub.status.busy": "2020-11-21T10:04:25.167028Z",
     "iopub.status.idle": "2020-11-21T10:04:26.847815Z",
     "shell.execute_reply": "2020-11-21T10:04:26.848333Z"
    },
    "papermill": {
     "duration": 1.735527,
     "end_time": "2020-11-21T10:04:26.848534",
     "exception": false,
     "start_time": "2020-11-21T10:04:25.113007",
     "status": "completed"
    },
    "tags": []
   },
   "outputs": [],
   "source": [
    "train_images = mnist.train_images()\n",
    "train_labels = mnist.train_labels()"
   ]
  },
  {
   "cell_type": "code",
   "execution_count": 5,
   "metadata": {
    "execution": {
     "iopub.execute_input": "2020-11-21T10:04:26.918011Z",
     "iopub.status.busy": "2020-11-21T10:04:26.917087Z",
     "iopub.status.idle": "2020-11-21T10:04:26.930760Z",
     "shell.execute_reply": "2020-11-21T10:04:26.930089Z"
    },
    "papermill": {
     "duration": 0.055057,
     "end_time": "2020-11-21T10:04:26.930900",
     "exception": false,
     "start_time": "2020-11-21T10:04:26.875843",
     "status": "completed"
    },
    "tags": []
   },
   "outputs": [
    {
     "data": {
      "text/plain": [
       "((60000, 28, 28), (60000,))"
      ]
     },
     "execution_count": 5,
     "metadata": {},
     "output_type": "execute_result"
    }
   ],
   "source": [
    "train_images.shape, train_labels.shape"
   ]
  },
  {
   "cell_type": "code",
   "execution_count": 6,
   "metadata": {
    "execution": {
     "iopub.execute_input": "2020-11-21T10:04:26.990698Z",
     "iopub.status.busy": "2020-11-21T10:04:26.989612Z",
     "iopub.status.idle": "2020-11-21T10:04:27.786119Z",
     "shell.execute_reply": "2020-11-21T10:04:27.785626Z"
    },
    "papermill": {
     "duration": 0.828349,
     "end_time": "2020-11-21T10:04:27.786269",
     "exception": false,
     "start_time": "2020-11-21T10:04:26.957920",
     "status": "completed"
    },
    "tags": []
   },
   "outputs": [],
   "source": [
    "test_images = mnist.test_images()\n",
    "test_labels = mnist.test_labels()"
   ]
  },
  {
   "cell_type": "code",
   "execution_count": 7,
   "metadata": {
    "execution": {
     "iopub.execute_input": "2020-11-21T10:04:27.844022Z",
     "iopub.status.busy": "2020-11-21T10:04:27.843195Z",
     "iopub.status.idle": "2020-11-21T10:04:27.857688Z",
     "shell.execute_reply": "2020-11-21T10:04:27.858456Z"
    },
    "papermill": {
     "duration": 0.046178,
     "end_time": "2020-11-21T10:04:27.858632",
     "exception": false,
     "start_time": "2020-11-21T10:04:27.812454",
     "status": "completed"
    },
    "tags": []
   },
   "outputs": [
    {
     "data": {
      "text/plain": [
       "((10000, 28, 28), (10000,))"
      ]
     },
     "execution_count": 7,
     "metadata": {},
     "output_type": "execute_result"
    }
   ],
   "source": [
    "test_images.shape, test_labels.shape"
   ]
  },
  {
   "cell_type": "code",
   "execution_count": 8,
   "metadata": {
    "execution": {
     "iopub.execute_input": "2020-11-21T10:04:27.926102Z",
     "iopub.status.busy": "2020-11-21T10:04:27.925437Z",
     "iopub.status.idle": "2020-11-21T10:04:28.109195Z",
     "shell.execute_reply": "2020-11-21T10:04:28.108504Z"
    },
    "papermill": {
     "duration": 0.224872,
     "end_time": "2020-11-21T10:04:28.109383",
     "exception": false,
     "start_time": "2020-11-21T10:04:27.884511",
     "status": "completed"
    },
    "tags": []
   },
   "outputs": [
    {
     "name": "stdout",
     "output_type": "stream",
     "text": [
      "2\n"
     ]
    },
    {
     "data": {
      "text/plain": [
       "<matplotlib.image.AxesImage at 0x7f26398ca080>"
      ]
     },
     "execution_count": 8,
     "metadata": {},
     "output_type": "execute_result"
    },
    {
     "data": {
      "image/png": "[encoded data removed]",
      "text/plain": [
       "<Figure size 432x288 with 1 Axes>"
      ]
     },
     "metadata": {
      "needs_background": "light"
     },
     "output_type": "display_data"
    }
   ],
   "source": [
    "image_index = 7776 # You may select anything up to 60,000\n",
    "print(train_labels[image_index]) \n",
    "plt.imshow(train_images[image_index], cmap='Greys')"
   ]
  },
  {
   "cell_type": "markdown",
   "metadata": {
    "papermill": {
     "duration": 0.028402,
     "end_time": "2020-11-21T10:04:28.167751",
     "exception": false,
     "start_time": "2020-11-21T10:04:28.139349",
     "status": "completed"
    },
    "tags": []
   },
   "source": [
    "## Filter data to get 3 and 8 out"
   ]
  },
  {
   "cell_type": "code",
   "execution_count": 9,
   "metadata": {
    "execution": {
     "iopub.execute_input": "2020-11-21T10:04:28.230003Z",
     "iopub.status.busy": "2020-11-21T10:04:28.229424Z",
     "iopub.status.idle": "2020-11-21T10:04:28.244979Z",
     "shell.execute_reply": "2020-11-21T10:04:28.245584Z"
    },
    "papermill": {
     "duration": 0.048753,
     "end_time": "2020-11-21T10:04:28.245734",
     "exception": false,
     "start_time": "2020-11-21T10:04:28.196981",
     "status": "completed"
    },
    "tags": []
   },
   "outputs": [],
   "source": [
    "train_filter = np.where((train_labels == 3 ) | (train_labels == 8))\n",
    "test_filter = np.where((test_labels == 3) | (test_labels == 8))\n",
    "X_train, y_train = train_images[train_filter], train_labels[train_filter]\n",
    "X_test, y_test = test_images[test_filter], test_labels[test_filter]"
   ]
  },
  {
   "cell_type": "markdown",
   "metadata": {
    "papermill": {
     "duration": 0.030619,
     "end_time": "2020-11-21T10:04:28.306856",
     "exception": false,
     "start_time": "2020-11-21T10:04:28.276237",
     "status": "completed"
    },
    "tags": []
   },
   "source": [
    "We normalize the pixel values in the 0 to 1 range"
   ]
  },
  {
   "cell_type": "code",
   "execution_count": 10,
   "metadata": {
    "execution": {
     "iopub.execute_input": "2020-11-21T10:04:28.371311Z",
     "iopub.status.busy": "2020-11-21T10:04:28.370732Z",
     "iopub.status.idle": "2020-11-21T10:04:28.436081Z",
     "shell.execute_reply": "2020-11-21T10:04:28.435508Z"
    },
    "papermill": {
     "duration": 0.100861,
     "end_time": "2020-11-21T10:04:28.436220",
     "exception": false,
     "start_time": "2020-11-21T10:04:28.335359",
     "status": "completed"
    },
    "tags": []
   },
   "outputs": [],
   "source": [
    "X_train = X_train/255.\n",
    "X_test = X_test/255."
   ]
  },
  {
   "cell_type": "markdown",
   "metadata": {
    "papermill": {
     "duration": 0.029019,
     "end_time": "2020-11-21T10:04:28.493649",
     "exception": false,
     "start_time": "2020-11-21T10:04:28.464630",
     "status": "completed"
    },
    "tags": []
   },
   "source": [
    "Setup the labels as 1 (when the digit is 3) and 0 (when the digit is 8)"
   ]
  },
  {
   "cell_type": "code",
   "execution_count": 11,
   "metadata": {
    "execution": {
     "iopub.execute_input": "2020-11-21T10:04:28.556098Z",
     "iopub.status.busy": "2020-11-21T10:04:28.555539Z",
     "iopub.status.idle": "2020-11-21T10:04:28.567152Z",
     "shell.execute_reply": "2020-11-21T10:04:28.566676Z"
    },
    "papermill": {
     "duration": 0.046174,
     "end_time": "2020-11-21T10:04:28.567274",
     "exception": false,
     "start_time": "2020-11-21T10:04:28.521100",
     "status": "completed"
    },
    "tags": []
   },
   "outputs": [],
   "source": [
    "y_train = 1*(y_train==3)\n",
    "y_test = 1*(y_test==3)"
   ]
  },
  {
   "cell_type": "code",
   "execution_count": 12,
   "metadata": {
    "execution": {
     "iopub.execute_input": "2020-11-21T10:04:28.631281Z",
     "iopub.status.busy": "2020-11-21T10:04:28.630645Z",
     "iopub.status.idle": "2020-11-21T10:04:28.644392Z",
     "shell.execute_reply": "2020-11-21T10:04:28.644959Z"
    },
    "papermill": {
     "duration": 0.049415,
     "end_time": "2020-11-21T10:04:28.645164",
     "exception": false,
     "start_time": "2020-11-21T10:04:28.595749",
     "status": "completed"
    },
    "tags": []
   },
   "outputs": [
    {
     "data": {
      "text/plain": [
       "((11982, 28, 28), (1984, 28, 28))"
      ]
     },
     "execution_count": 12,
     "metadata": {},
     "output_type": "execute_result"
    }
   ],
   "source": [
    "X_train.shape, X_test.shape"
   ]
  },
  {
   "cell_type": "markdown",
   "metadata": {
    "papermill": {
     "duration": 0.028696,
     "end_time": "2020-11-21T10:04:28.701987",
     "exception": false,
     "start_time": "2020-11-21T10:04:28.673291",
     "status": "completed"
    },
    "tags": []
   },
   "source": [
    "### Reshape the input data to create a linear array"
   ]
  },
  {
   "cell_type": "code",
   "execution_count": 13,
   "metadata": {
    "execution": {
     "iopub.execute_input": "2020-11-21T10:04:28.763942Z",
     "iopub.status.busy": "2020-11-21T10:04:28.763379Z",
     "iopub.status.idle": "2020-11-21T10:04:28.776535Z",
     "shell.execute_reply": "2020-11-21T10:04:28.777134Z"
    },
    "papermill": {
     "duration": 0.045234,
     "end_time": "2020-11-21T10:04:28.777287",
     "exception": false,
     "start_time": "2020-11-21T10:04:28.732053",
     "status": "completed"
    },
    "tags": []
   },
   "outputs": [
    {
     "data": {
      "text/plain": [
       "((11982, 784), (1984, 784))"
      ]
     },
     "execution_count": 13,
     "metadata": {},
     "output_type": "execute_result"
    }
   ],
   "source": [
    "X_train = X_train.reshape(X_train.shape[0], -1)\n",
    "X_test = X_test.reshape(X_test.shape[0], -1)\n",
    "X_train.shape, X_test.shape"
   ]
  },
  {
   "cell_type": "markdown",
   "metadata": {
    "papermill": {
     "duration": 0.028657,
     "end_time": "2020-11-21T10:04:28.834180",
     "exception": false,
     "start_time": "2020-11-21T10:04:28.805523",
     "status": "completed"
    },
    "tags": []
   },
   "source": [
    "### Importing appropriate functions from 'Kudzu'"
   ]
  },
  {
   "cell_type": "code",
   "execution_count": 14,
   "metadata": {
    "execution": {
     "iopub.execute_input": "2020-11-21T10:04:28.898080Z",
     "iopub.status.busy": "2020-11-21T10:04:28.897515Z",
     "iopub.status.idle": "2020-11-21T10:04:28.916351Z",
     "shell.execute_reply": "2020-11-21T10:04:28.917112Z"
    },
    "papermill": {
     "duration": 0.055274,
     "end_time": "2020-11-21T10:04:28.917296",
     "exception": false,
     "start_time": "2020-11-21T10:04:28.862022",
     "status": "completed"
    },
    "tags": []
   },
   "outputs": [],
   "source": [
    "from kudzu.layer import Sigmoid\n",
    "from kudzu.layer import Relu\n",
    "from kudzu.layer import Affine, Sigmoid\n",
    "\n",
    "from kudzu.model import Model\n",
    "from kudzu.train import Learner\n",
    "from kudzu.optim import GD\n",
    "from kudzu.data import Data, Dataloader, Sampler\n",
    "\n",
    "from kudzu.callbacks import AccCallback\n",
    "from kudzu.callbacks import ClfCallback\n",
    "\n",
    "from kudzu.loss import MSE"
   ]
  },
  {
   "cell_type": "markdown",
   "metadata": {
    "papermill": {
     "duration": 0.029406,
     "end_time": "2020-11-21T10:04:28.977488",
     "exception": false,
     "start_time": "2020-11-21T10:04:28.948082",
     "status": "completed"
    },
    "tags": []
   },
   "source": [
    "### Let us create a `Config` class, to store important parameters. \n",
    "This class essentially plays the role of a dictionary."
   ]
  },
  {
   "cell_type": "code",
   "execution_count": 15,
   "metadata": {
    "execution": {
     "iopub.execute_input": "2020-11-21T10:04:29.039559Z",
     "iopub.status.busy": "2020-11-21T10:04:29.038978Z",
     "iopub.status.idle": "2020-11-21T10:04:29.051079Z",
     "shell.execute_reply": "2020-11-21T10:04:29.050446Z"
    },
    "papermill": {
     "duration": 0.045076,
     "end_time": "2020-11-21T10:04:29.051252",
     "exception": false,
     "start_time": "2020-11-21T10:04:29.006176",
     "status": "completed"
    },
    "tags": []
   },
   "outputs": [],
   "source": [
    "class Config:\n",
    "    pass\n",
    "config = Config()\n",
    "config.lr = 0.001\n",
    "config.num_epochs = 251\n",
    "config.bs = 50"
   ]
  },
  {
   "cell_type": "markdown",
   "metadata": {
    "papermill": {
     "duration": 0.031223,
     "end_time": "2020-11-21T10:04:29.115065",
     "exception": false,
     "start_time": "2020-11-21T10:04:29.083842",
     "status": "completed"
    },
    "tags": []
   },
   "source": [
    "### Initializing data to the variables"
   ]
  },
  {
   "cell_type": "code",
   "execution_count": 16,
   "metadata": {
    "execution": {
     "iopub.execute_input": "2020-11-21T10:04:29.179573Z",
     "iopub.status.busy": "2020-11-21T10:04:29.179003Z",
     "iopub.status.idle": "2020-11-21T10:04:29.190048Z",
     "shell.execute_reply": "2020-11-21T10:04:29.189593Z"
    },
    "papermill": {
     "duration": 0.046876,
     "end_time": "2020-11-21T10:04:29.190167",
     "exception": false,
     "start_time": "2020-11-21T10:04:29.143291",
     "status": "completed"
    },
    "tags": []
   },
   "outputs": [],
   "source": [
    "data = Data(X_train, y_train.reshape(-1,1))\n",
    "sampler = Sampler(data, config.bs, shuffle=True)\n",
    "\n",
    "dl = Dataloader(data, sampler)\n",
    "\n",
    "opt = GD(config.lr)\n",
    "loss = MSE()"
   ]
  },
  {
   "cell_type": "code",
   "execution_count": 17,
   "metadata": {
    "execution": {
     "iopub.execute_input": "2020-11-21T10:04:29.252617Z",
     "iopub.status.busy": "2020-11-21T10:04:29.251842Z",
     "iopub.status.idle": "2020-11-21T10:04:29.264415Z",
     "shell.execute_reply": "2020-11-21T10:04:29.263953Z"
    },
    "papermill": {
     "duration": 0.046193,
     "end_time": "2020-11-21T10:04:29.264680",
     "exception": false,
     "start_time": "2020-11-21T10:04:29.218487",
     "status": "completed"
    },
    "tags": []
   },
   "outputs": [],
   "source": [
    "training_xdata = X_train\n",
    "testing_xdata = X_test\n",
    "training_ydata = y_train.reshape(-1,1)\n",
    "testing_ydata = y_test.reshape(-1,1)"
   ]
  },
  {
   "cell_type": "markdown",
   "metadata": {
    "papermill": {
     "duration": 0.028226,
     "end_time": "2020-11-21T10:04:29.321125",
     "exception": false,
     "start_time": "2020-11-21T10:04:29.292899",
     "status": "completed"
    },
    "tags": []
   },
   "source": [
    "### Running Models with the Training data\n",
    "Details about the network layers:\n",
    "- A first affine layer has 784 inputs and does 100 affine transforms. These are followed by a Relu\n",
    "- A second affine layer has 100 inputs from the 100 activations of the past layer, and does 100 affine transforms. These are followed by a Relu\n",
    "- A third affine layer has 100 activations and does 2 affine transformations to create an embedding for visualization. There is no non-linearity here.\n",
    "- A final \"logistic regression\" which has an affine transform from 2 inputs to 1 output, which is squeezed through a sigmoid.\n",
    "\n",
    "Help taken from Anshuman's Notebook."
   ]
  },
  {
   "cell_type": "code",
   "execution_count": 18,
   "metadata": {
    "execution": {
     "iopub.execute_input": "2020-11-21T10:04:29.384686Z",
     "iopub.status.busy": "2020-11-21T10:04:29.384107Z",
     "iopub.status.idle": "2020-11-21T10:04:29.399969Z",
     "shell.execute_reply": "2020-11-21T10:04:29.400423Z"
    },
    "papermill": {
     "duration": 0.05041,
     "end_time": "2020-11-21T10:04:29.400596",
     "exception": false,
     "start_time": "2020-11-21T10:04:29.350186",
     "status": "completed"
    },
    "tags": []
   },
   "outputs": [],
   "source": [
    "# layers for the Neural Network\n",
    "layers = [Affine(\"first\", 784, 100), Relu(\"first\"), Affine(\"second\", 100, 100), Relu(\"second\"), Affine(\"third\", 100, 2), Affine(\"final\", 2, 1), Sigmoid(\"final\")]\n",
    "model_nn = Model(layers)\n",
    "\n",
    "# layers for the Logistic Regression\n",
    "layers_lr = [Affine(\"logits\", 784, 1), Sigmoid(\"sigmoid\")]\n",
    "model_lr = Model(layers_lr)"
   ]
  },
  {
   "cell_type": "code",
   "execution_count": 19,
   "metadata": {
    "execution": {
     "iopub.execute_input": "2020-11-21T10:04:29.483109Z",
     "iopub.status.busy": "2020-11-21T10:04:29.482557Z",
     "iopub.status.idle": "2020-11-21T10:04:29.490003Z",
     "shell.execute_reply": "2020-11-21T10:04:29.490452Z"
    },
    "papermill": {
     "duration": 0.053027,
     "end_time": "2020-11-21T10:04:29.490592",
     "exception": false,
     "start_time": "2020-11-21T10:04:29.437565",
     "status": "completed"
    },
    "tags": []
   },
   "outputs": [],
   "source": [
    "# suffix _nn stands for Neural Network.\n",
    "learner_nn = Learner(loss, model_nn, opt, config.num_epochs)\n",
    "acc_nn = ClfCallback(learner_nn, config.bs, training_xdata , testing_xdata, training_ydata, testing_ydata)\n",
    "learner_nn.set_callbacks([acc_nn])"
   ]
  },
  {
   "cell_type": "code",
   "execution_count": 20,
   "metadata": {
    "execution": {
     "iopub.execute_input": "2020-11-21T10:04:29.562685Z",
     "iopub.status.busy": "2020-11-21T10:04:29.553246Z",
     "iopub.status.idle": "2020-11-21T10:06:47.254113Z",
     "shell.execute_reply": "2020-11-21T10:06:47.254674Z"
    },
    "papermill": {
     "duration": 137.734163,
     "end_time": "2020-11-21T10:06:47.254832",
     "exception": false,
     "start_time": "2020-11-21T10:04:29.520669",
     "status": "completed"
    },
    "tags": []
   },
   "outputs": [
    {
     "name": "stdout",
     "output_type": "stream",
     "text": [
      "====== Neural Network ======\n"
     ]
    },
    {
     "name": "stdout",
     "output_type": "stream",
     "text": [
      "Epoch 0, Loss 0.233\n",
      "Training Accuracy: 0.8252, Testing Accuracy: 0.8453\n",
      "\n"
     ]
    },
    {
     "name": "stdout",
     "output_type": "stream",
     "text": [
      "Epoch 10, Loss 0.0566\n",
      "Training Accuracy: 0.9407, Testing Accuracy: 0.9461\n",
      "\n"
     ]
    },
    {
     "name": "stdout",
     "output_type": "stream",
     "text": [
      "Epoch 20, Loss 0.0414\n",
      "Training Accuracy: 0.9553, Testing Accuracy: 0.9637\n",
      "\n"
     ]
    },
    {
     "name": "stdout",
     "output_type": "stream",
     "text": [
      "Epoch 30, Loss 0.0352\n",
      "Training Accuracy: 0.9606, Testing Accuracy: 0.9688\n",
      "\n"
     ]
    },
    {
     "name": "stdout",
     "output_type": "stream",
     "text": [
      "Epoch 40, Loss 0.0315\n",
      "Training Accuracy: 0.9641, Testing Accuracy: 0.9693\n",
      "\n"
     ]
    },
    {
     "name": "stdout",
     "output_type": "stream",
     "text": [
      "Epoch 50, Loss 0.029\n",
      "Training Accuracy: 0.9666, Testing Accuracy: 0.9713\n",
      "\n"
     ]
    },
    {
     "name": "stdout",
     "output_type": "stream",
     "text": [
      "Epoch 60, Loss 0.027\n",
      "Training Accuracy: 0.9692, Testing Accuracy: 0.9728\n",
      "\n"
     ]
    },
    {
     "name": "stdout",
     "output_type": "stream",
     "text": [
      "Epoch 70, Loss 0.0255\n",
      "Training Accuracy: 0.9712, Testing Accuracy: 0.9748\n",
      "\n"
     ]
    },
    {
     "name": "stdout",
     "output_type": "stream",
     "text": [
      "Epoch 80, Loss 0.0242\n",
      "Training Accuracy: 0.9733, Testing Accuracy: 0.9758\n",
      "\n"
     ]
    },
    {
     "name": "stdout",
     "output_type": "stream",
     "text": [
      "Epoch 90, Loss 0.0231\n",
      "Training Accuracy: 0.9752, Testing Accuracy: 0.9753\n",
      "\n"
     ]
    },
    {
     "name": "stdout",
     "output_type": "stream",
     "text": [
      "Epoch 100, Loss 0.0221\n",
      "Training Accuracy: 0.9761, Testing Accuracy: 0.9743\n",
      "\n"
     ]
    },
    {
     "name": "stdout",
     "output_type": "stream",
     "text": [
      "Epoch 110, Loss 0.0212\n",
      "Training Accuracy: 0.9775, Testing Accuracy: 0.9743\n",
      "\n"
     ]
    },
    {
     "name": "stdout",
     "output_type": "stream",
     "text": [
      "Epoch 120, Loss 0.0204\n",
      "Training Accuracy: 0.9781, Testing Accuracy: 0.9753\n",
      "\n"
     ]
    },
    {
     "name": "stdout",
     "output_type": "stream",
     "text": [
      "Epoch 130, Loss 0.0197\n",
      "Training Accuracy: 0.9787, Testing Accuracy: 0.9753\n",
      "\n"
     ]
    },
    {
     "name": "stdout",
     "output_type": "stream",
     "text": [
      "Epoch 140, Loss 0.0191\n",
      "Training Accuracy: 0.9796, Testing Accuracy: 0.9763\n",
      "\n"
     ]
    },
    {
     "name": "stdout",
     "output_type": "stream",
     "text": [
      "Epoch 150, Loss 0.0184\n",
      "Training Accuracy: 0.9802, Testing Accuracy: 0.9773\n",
      "\n"
     ]
    },
    {
     "name": "stdout",
     "output_type": "stream",
     "text": [
      "Epoch 160, Loss 0.0179\n",
      "Training Accuracy: 0.9808, Testing Accuracy: 0.9783\n",
      "\n"
     ]
    },
    {
     "name": "stdout",
     "output_type": "stream",
     "text": [
      "Epoch 170, Loss 0.0173\n",
      "Training Accuracy: 0.9819, Testing Accuracy: 0.9783\n",
      "\n"
     ]
    },
    {
     "name": "stdout",
     "output_type": "stream",
     "text": [
      "Epoch 180, Loss 0.0168\n",
      "Training Accuracy: 0.9823, Testing Accuracy: 0.9788\n",
      "\n"
     ]
    },
    {
     "name": "stdout",
     "output_type": "stream",
     "text": [
      "Epoch 190, Loss 0.0163\n",
      "Training Accuracy: 0.9830, Testing Accuracy: 0.9788\n",
      "\n"
     ]
    },
    {
     "name": "stdout",
     "output_type": "stream",
     "text": [
      "Epoch 200, Loss 0.0158\n",
      "Training Accuracy: 0.9837, Testing Accuracy: 0.9788\n",
      "\n"
     ]
    },
    {
     "name": "stdout",
     "output_type": "stream",
     "text": [
      "Epoch 210, Loss 0.0154\n",
      "Training Accuracy: 0.9844, Testing Accuracy: 0.9798\n",
      "\n"
     ]
    },
    {
     "name": "stdout",
     "output_type": "stream",
     "text": [
      "Epoch 220, Loss 0.0149\n",
      "Training Accuracy: 0.9848, Testing Accuracy: 0.9798\n",
      "\n"
     ]
    },
    {
     "name": "stdout",
     "output_type": "stream",
     "text": [
      "Epoch 230, Loss 0.0145\n",
      "Training Accuracy: 0.9854, Testing Accuracy: 0.9798\n",
      "\n"
     ]
    },
    {
     "name": "stdout",
     "output_type": "stream",
     "text": [
      "Epoch 240, Loss 0.0141\n",
      "Training Accuracy: 0.9856, Testing Accuracy: 0.9803\n",
      "\n"
     ]
    },
    {
     "name": "stdout",
     "output_type": "stream",
     "text": [
      "Epoch 250, Loss 0.0137\n",
      "Training Accuracy: 0.9862, Testing Accuracy: 0.9803\n",
      "\n"
     ]
    },
    {
     "data": {
      "text/plain": [
       "0.009776994338709665"
      ]
     },
     "execution_count": 20,
     "metadata": {},
     "output_type": "execute_result"
    }
   ],
   "source": [
    "print(\"====== Neural Network ======\")\n",
    "learner_nn.train_loop(dl)"
   ]
  },
  {
   "cell_type": "markdown",
   "metadata": {
    "papermill": {
     "duration": 0.039158,
     "end_time": "2020-11-21T10:06:47.334181",
     "exception": false,
     "start_time": "2020-11-21T10:06:47.295023",
     "status": "completed"
    },
    "tags": []
   },
   "source": [
    "### Logistic Regression based Implementation."
   ]
  },
  {
   "cell_type": "code",
   "execution_count": 21,
   "metadata": {
    "execution": {
     "iopub.execute_input": "2020-11-21T10:06:47.423092Z",
     "iopub.status.busy": "2020-11-21T10:06:47.422506Z",
     "iopub.status.idle": "2020-11-21T10:06:47.427846Z",
     "shell.execute_reply": "2020-11-21T10:06:47.428403Z"
    },
    "papermill": {
     "duration": 0.053635,
     "end_time": "2020-11-21T10:06:47.428547",
     "exception": false,
     "start_time": "2020-11-21T10:06:47.374912",
     "status": "completed"
    },
    "tags": []
   },
   "outputs": [],
   "source": [
    "learner_lr = Learner(loss, model_lr, opt, config.num_epochs)\n",
    "acc_lr = ClfCallback(learner_lr, config.bs, training_xdata , testing_xdata, training_ydata, testing_ydata)\n",
    "learner_lr.set_callbacks([acc_lr])"
   ]
  },
  {
   "cell_type": "code",
   "execution_count": 22,
   "metadata": {
    "execution": {
     "iopub.execute_input": "2020-11-21T10:06:47.511989Z",
     "iopub.status.busy": "2020-11-21T10:06:47.511408Z",
     "iopub.status.idle": "2020-11-21T10:07:07.380288Z",
     "shell.execute_reply": "2020-11-21T10:07:07.381218Z"
    },
    "papermill": {
     "duration": 19.914411,
     "end_time": "2020-11-21T10:07:07.381432",
     "exception": false,
     "start_time": "2020-11-21T10:06:47.467021",
     "status": "completed"
    },
    "tags": []
   },
   "outputs": [
    {
     "name": "stdout",
     "output_type": "stream",
     "text": [
      "====== Logistic Regression ======\n",
      "Epoch 0, Loss 0.2659\n",
      "Training Accuracy: 0.5737, Testing Accuracy: 0.5701\n",
      "\n"
     ]
    },
    {
     "name": "stdout",
     "output_type": "stream",
     "text": [
      "Epoch 10, Loss 0.1028\n",
      "Training Accuracy: 0.9196, Testing Accuracy: 0.9309\n",
      "\n"
     ]
    },
    {
     "name": "stdout",
     "output_type": "stream",
     "text": [
      "Epoch 20, Loss 0.0782\n",
      "Training Accuracy: 0.9321, Testing Accuracy: 0.9461\n",
      "\n"
     ]
    },
    {
     "name": "stdout",
     "output_type": "stream",
     "text": [
      "Epoch 30, Loss 0.0673\n",
      "Training Accuracy: 0.9405, Testing Accuracy: 0.9526\n",
      "\n"
     ]
    },
    {
     "name": "stdout",
     "output_type": "stream",
     "text": [
      "Epoch 40, Loss 0.0608\n",
      "Training Accuracy: 0.9441, Testing Accuracy: 0.9556\n",
      "\n"
     ]
    },
    {
     "name": "stdout",
     "output_type": "stream",
     "text": [
      "Epoch 50, Loss 0.0564\n",
      "Training Accuracy: 0.9468, Testing Accuracy: 0.9592\n",
      "\n"
     ]
    },
    {
     "name": "stdout",
     "output_type": "stream",
     "text": [
      "Epoch 60, Loss 0.0532\n",
      "Training Accuracy: 0.9479, Testing Accuracy: 0.9597\n",
      "\n"
     ]
    },
    {
     "name": "stdout",
     "output_type": "stream",
     "text": [
      "Epoch 70, Loss 0.0507\n",
      "Training Accuracy: 0.9496, Testing Accuracy: 0.9617\n",
      "\n"
     ]
    },
    {
     "name": "stdout",
     "output_type": "stream",
     "text": [
      "Epoch 80, Loss 0.0487\n",
      "Training Accuracy: 0.9515, Testing Accuracy: 0.9612\n",
      "\n"
     ]
    },
    {
     "name": "stdout",
     "output_type": "stream",
     "text": [
      "Epoch 90, Loss 0.0471\n",
      "Training Accuracy: 0.9528, Testing Accuracy: 0.9627\n",
      "\n"
     ]
    },
    {
     "name": "stdout",
     "output_type": "stream",
     "text": [
      "Epoch 100, Loss 0.0457\n",
      "Training Accuracy: 0.9533, Testing Accuracy: 0.9637\n",
      "\n"
     ]
    },
    {
     "name": "stdout",
     "output_type": "stream",
     "text": [
      "Epoch 110, Loss 0.0445\n",
      "Training Accuracy: 0.9542, Testing Accuracy: 0.9632\n",
      "\n"
     ]
    },
    {
     "name": "stdout",
     "output_type": "stream",
     "text": [
      "Epoch 120, Loss 0.0435\n",
      "Training Accuracy: 0.9546, Testing Accuracy: 0.9652\n",
      "\n"
     ]
    },
    {
     "name": "stdout",
     "output_type": "stream",
     "text": [
      "Epoch 130, Loss 0.0426\n",
      "Training Accuracy: 0.9558, Testing Accuracy: 0.9662\n",
      "\n"
     ]
    },
    {
     "name": "stdout",
     "output_type": "stream",
     "text": [
      "Epoch 140, Loss 0.0418\n",
      "Training Accuracy: 0.9564, Testing Accuracy: 0.9667\n",
      "\n"
     ]
    },
    {
     "name": "stdout",
     "output_type": "stream",
     "text": [
      "Epoch 150, Loss 0.041\n",
      "Training Accuracy: 0.9574, Testing Accuracy: 0.9667\n",
      "\n"
     ]
    },
    {
     "name": "stdout",
     "output_type": "stream",
     "text": [
      "Epoch 160, Loss 0.0404\n",
      "Training Accuracy: 0.9579, Testing Accuracy: 0.9662\n",
      "\n"
     ]
    },
    {
     "name": "stdout",
     "output_type": "stream",
     "text": [
      "Epoch 170, Loss 0.0398\n",
      "Training Accuracy: 0.9585, Testing Accuracy: 0.9662\n",
      "\n"
     ]
    },
    {
     "name": "stdout",
     "output_type": "stream",
     "text": [
      "Epoch 180, Loss 0.0392\n",
      "Training Accuracy: 0.9589, Testing Accuracy: 0.9672\n",
      "\n"
     ]
    },
    {
     "name": "stdout",
     "output_type": "stream",
     "text": [
      "Epoch 190, Loss 0.0387\n",
      "Training Accuracy: 0.9596, Testing Accuracy: 0.9677\n",
      "\n"
     ]
    },
    {
     "name": "stdout",
     "output_type": "stream",
     "text": [
      "Epoch 200, Loss 0.0383\n",
      "Training Accuracy: 0.9595, Testing Accuracy: 0.9677\n",
      "\n"
     ]
    },
    {
     "name": "stdout",
     "output_type": "stream",
     "text": [
      "Epoch 210, Loss 0.0378\n",
      "Training Accuracy: 0.9599, Testing Accuracy: 0.9677\n",
      "\n"
     ]
    },
    {
     "name": "stdout",
     "output_type": "stream",
     "text": [
      "Epoch 220, Loss 0.0374\n",
      "Training Accuracy: 0.9601, Testing Accuracy: 0.9682\n",
      "\n"
     ]
    },
    {
     "name": "stdout",
     "output_type": "stream",
     "text": [
      "Epoch 230, Loss 0.0371\n",
      "Training Accuracy: 0.9605, Testing Accuracy: 0.9682\n",
      "\n"
     ]
    },
    {
     "name": "stdout",
     "output_type": "stream",
     "text": [
      "Epoch 240, Loss 0.0367\n",
      "Training Accuracy: 0.9606, Testing Accuracy: 0.9677\n",
      "\n"
     ]
    },
    {
     "name": "stdout",
     "output_type": "stream",
     "text": [
      "Epoch 250, Loss 0.0364\n",
      "Training Accuracy: 0.9610, Testing Accuracy: 0.9677\n",
      "\n"
     ]
    },
    {
     "data": {
      "text/plain": [
       "0.06233053760949193"
      ]
     },
     "execution_count": 22,
     "metadata": {},
     "output_type": "execute_result"
    }
   ],
   "source": [
    "print(\"====== Logistic Regression ======\")\n",
    "learner_lr.train_loop(dl)"
   ]
  },
  {
   "cell_type": "markdown",
   "metadata": {
    "papermill": {
     "duration": 0.04779,
     "end_time": "2020-11-21T10:07:07.478410",
     "exception": false,
     "start_time": "2020-11-21T10:07:07.430620",
     "status": "completed"
    },
    "tags": []
   },
   "source": [
    "### Comparing results of NN and LR"
   ]
  },
  {
   "cell_type": "code",
   "execution_count": 23,
   "metadata": {
    "execution": {
     "iopub.execute_input": "2020-11-21T10:07:07.588968Z",
     "iopub.status.busy": "2020-11-21T10:07:07.587535Z",
     "iopub.status.idle": "2020-11-21T10:07:07.857941Z",
     "shell.execute_reply": "2020-11-21T10:07:07.858358Z"
    },
    "papermill": {
     "duration": 0.332502,
     "end_time": "2020-11-21T10:07:07.858507",
     "exception": false,
     "start_time": "2020-11-21T10:07:07.526005",
     "status": "completed"
    },
    "tags": []
   },
   "outputs": [
    {
     "data": {
      "text/plain": [
       "<matplotlib.legend.Legend at 0x7f263210c940>"
      ]
     },
     "execution_count": 23,
     "metadata": {},
     "output_type": "execute_result"
    },
    {
     "data": {
      "image/png": "[encoded data removed]",
      "text/plain": [
       "<Figure size 1080x720 with 1 Axes>"
      ]
     },
     "metadata": {
      "needs_background": "light"
     },
     "output_type": "display_data"
    }
   ],
   "source": [
    "plt.figure(figsize=(15,10))\n",
    "\n",
    "# Neural Network plots\n",
    "plt.plot(acc_nn.accuracies, 'r-', label = \"Training Accuracies - NN\")\n",
    "plt.plot(acc_nn.test_accuracies, 'g-', label = \"Testing Accuracies - NN\")\n",
    "\n",
    "# Logistic Regression plots\n",
    "plt.plot(acc_lr.accuracies, 'k-', label = \"Training Accuracies - LR\")\n",
    "plt.plot(acc_lr.test_accuracies, 'b-', label = \"Testing Accuracies - LR\")\n",
    "\n",
    "plt.ylim(0.8, 1)\n",
    "\n",
    "plt.legend()\n",
    "\n"
   ]
  },
  {
   "cell_type": "markdown",
   "metadata": {
    "papermill": {
     "duration": 0.045106,
     "end_time": "2020-11-21T10:07:07.949028",
     "exception": false,
     "start_time": "2020-11-21T10:07:07.903922",
     "status": "completed"
    },
    "tags": []
   },
   "source": [
    "### From the plot, we can observe the following:\n",
    "- Neural Network achieves higher accuracy than the Logistic Regression model.\n",
    "- This apparently, is because of overfitting, i.e. NN captures more noise than data.\n",
    "- Testing accuracy of NN drops below the Training accuracy at higher epochs. This explains the over-fitting on training data.\n",
    "- Logistic Regression gives a reliable accuracy, without the above mentioned problem.\n"
   ]
  },
  {
   "cell_type": "markdown",
   "metadata": {
    "papermill": {
     "duration": 0.04474,
     "end_time": "2020-11-21T10:07:08.038230",
     "exception": false,
     "start_time": "2020-11-21T10:07:07.993490",
     "status": "completed"
    },
    "tags": []
   },
   "source": [
    "### Moving till the last but one layer (excluding it).\n",
    "#### Plotting the outputs of this layer of the NN."
   ]
  },
  {
   "cell_type": "code",
   "execution_count": 24,
   "metadata": {
    "execution": {
     "iopub.execute_input": "2020-11-21T10:07:08.149294Z",
     "iopub.status.busy": "2020-11-21T10:07:08.148461Z",
     "iopub.status.idle": "2020-11-21T10:07:08.159689Z",
     "shell.execute_reply": "2020-11-21T10:07:08.160210Z"
    },
    "papermill": {
     "duration": 0.063789,
     "end_time": "2020-11-21T10:07:08.160390",
     "exception": false,
     "start_time": "2020-11-21T10:07:08.096601",
     "status": "completed"
    },
    "tags": []
   },
   "outputs": [],
   "source": [
    "model_new = Model(layers[:-2])"
   ]
  },
  {
   "cell_type": "code",
   "execution_count": 25,
   "metadata": {
    "execution": {
     "iopub.execute_input": "2020-11-21T10:07:08.278489Z",
     "iopub.status.busy": "2020-11-21T10:07:08.265870Z",
     "iopub.status.idle": "2020-11-21T10:07:08.290781Z",
     "shell.execute_reply": "2020-11-21T10:07:08.291316Z"
    },
    "papermill": {
     "duration": 0.081411,
     "end_time": "2020-11-21T10:07:08.291484",
     "exception": false,
     "start_time": "2020-11-21T10:07:08.210073",
     "status": "completed"
    },
    "tags": []
   },
   "outputs": [],
   "source": [
    "plot_testing = model_new(testing_xdata)"
   ]
  },
  {
   "cell_type": "code",
   "execution_count": 26,
   "metadata": {
    "execution": {
     "iopub.execute_input": "2020-11-21T10:07:08.398827Z",
     "iopub.status.busy": "2020-11-21T10:07:08.398262Z",
     "iopub.status.idle": "2020-11-21T10:07:08.615689Z",
     "shell.execute_reply": "2020-11-21T10:07:08.616273Z"
    },
    "papermill": {
     "duration": 0.275408,
     "end_time": "2020-11-21T10:07:08.616429",
     "exception": false,
     "start_time": "2020-11-21T10:07:08.341021",
     "status": "completed"
    },
    "tags": []
   },
   "outputs": [
    {
     "data": {
      "text/plain": [
       "Text(0.5, 1.0, 'Outputs')"
      ]
     },
     "execution_count": 26,
     "metadata": {},
     "output_type": "execute_result"
    },
    {
     "data": {
      "image/png": "[encoded data removed]",
      "text/plain": [
       "<Figure size 576x504 with 1 Axes>"
      ]
     },
     "metadata": {
      "needs_background": "light"
     },
     "output_type": "display_data"
    }
   ],
   "source": [
    "plt.figure(figsize=(8,7))\n",
    "plt.scatter(plot_testing[:,0], plot_testing[:,1], alpha = 0.1, c = y_test.ravel());\n",
    "plt.title('Outputs')"
   ]
  },
  {
   "cell_type": "markdown",
   "metadata": {
    "papermill": {
     "duration": 0.049136,
     "end_time": "2020-11-21T10:07:08.715385",
     "exception": false,
     "start_time": "2020-11-21T10:07:08.666249",
     "status": "completed"
    },
    "tags": []
   },
   "source": [
    "### Plotting probability contours"
   ]
  },
  {
   "cell_type": "code",
   "execution_count": 27,
   "metadata": {
    "execution": {
     "iopub.execute_input": "2020-11-21T10:07:08.819977Z",
     "iopub.status.busy": "2020-11-21T10:07:08.819218Z",
     "iopub.status.idle": "2020-11-21T10:07:08.830677Z",
     "shell.execute_reply": "2020-11-21T10:07:08.830159Z"
    },
    "papermill": {
     "duration": 0.066039,
     "end_time": "2020-11-21T10:07:08.830803",
     "exception": false,
     "start_time": "2020-11-21T10:07:08.764764",
     "status": "completed"
    },
    "tags": []
   },
   "outputs": [],
   "source": [
    "model_prob = Model(layers[-2:]) "
   ]
  },
  {
   "cell_type": "code",
   "execution_count": 28,
   "metadata": {
    "execution": {
     "iopub.execute_input": "2020-11-21T10:07:08.940126Z",
     "iopub.status.busy": "2020-11-21T10:07:08.939541Z",
     "iopub.status.idle": "2020-11-21T10:07:08.955044Z",
     "shell.execute_reply": "2020-11-21T10:07:08.955576Z"
    },
    "papermill": {
     "duration": 0.071894,
     "end_time": "2020-11-21T10:07:08.955790",
     "exception": false,
     "start_time": "2020-11-21T10:07:08.883896",
     "status": "completed"
    },
    "tags": []
   },
   "outputs": [],
   "source": [
    "# Adjust the x and y ranges according to the above generated plot.\n",
    "x_range = np.linspace(-4, 1, 100) \n",
    "y_range = np.linspace(-6, 6, 100) \n",
    "x_grid, y_grid = np.meshgrid(x_range, y_range) # x_grid and y_grig are of size 100 X 100\n",
    "\n",
    "# converting x_grid and y_grid to continuous arrays\n",
    "x_grid_flat = np.ravel(x_grid)\n",
    "y_grid_flat = np.ravel(y_grid)\n",
    "\n",
    "# The last layer of the current model takes two columns as input. Hence transpose of np.vstack() is required.\n",
    "X = np.vstack((x_grid_flat, y_grid_flat)).T\n",
    "\n",
    "# x_grid and y_grid are of size 100 x 100\n",
    "probability_contour = model_prob(X).reshape(100,100) "
   ]
  },
  {
   "cell_type": "code",
   "execution_count": 29,
   "metadata": {
    "execution": {
     "iopub.execute_input": "2020-11-21T10:07:09.100928Z",
     "iopub.status.busy": "2020-11-21T10:07:09.089781Z",
     "iopub.status.idle": "2020-11-21T10:07:09.358599Z",
     "shell.execute_reply": "2020-11-21T10:07:09.357715Z"
    },
    "papermill": {
     "duration": 0.352049,
     "end_time": "2020-11-21T10:07:09.358746",
     "exception": false,
     "start_time": "2020-11-21T10:07:09.006697",
     "status": "completed"
    },
    "tags": []
   },
   "outputs": [
    {
     "data": {
      "image/png": "[encoded data removed]",
      "text/plain": [
       "<Figure size 720x648 with 1 Axes>"
      ]
     },
     "metadata": {
      "needs_background": "light"
     },
     "output_type": "display_data"
    }
   ],
   "source": [
    "plt.figure(figsize=(10,9))\n",
    "plt.scatter(plot_testing[:,0], plot_testing[:,1], alpha = 0.1, c = y_test.ravel())\n",
    "contours = plt.contour(x_grid,y_grid,probability_contour)\n",
    "plt.title('Probability Contours')\n",
    "plt.clabel(contours, inline = True );"
   ]
  }
 ],
 "metadata": {
  "kernelspec": {
   "display_name": "Python 3",
   "language": "python",
   "name": "python3"
  },
  "language_info": {
   "codemirror_mode": {
    "name": "ipython",
    "version": 3
   },
   "file_extension": ".py",
   "mimetype": "text/x-python",
   "name": "python",
   "nbconvert_exporter": "python",
   "pygments_lexer": "ipython3",
   "version": "3.6.12"
  },
  "papermill": {
   "duration": 169.398539,
   "end_time": "2020-11-21T10:07:10.582747",
   "environment_variables": {},
   "exception": null,
   "input_path": "2020-08-11-NeuralNetwork.ipynb",
   "output_path": "2020-08-11-NeuralNetwork.ipynb",
   "parameters": {},
   "start_time": "2020-11-21T10:04:21.184208",
   "version": "2.1.2"
  }
 },
 "nbformat": 4,
 "nbformat_minor": 4
}