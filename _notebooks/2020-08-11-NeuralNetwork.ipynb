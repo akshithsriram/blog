{
 "cells": [
  {
   "cell_type": "markdown",
   "metadata": {
    "papermill": {
     "duration": 0.035642,
     "end_time": "2020-11-24T00:05:59.610910",
     "exception": false,
     "start_time": "2020-11-24T00:05:59.575268",
     "status": "completed"
    },
    "tags": []
   },
   "source": [
    "# \"A Basic Neural Network: Differentiate Hand-Written Digits\"\n",
    "\n",
    "- badges: true\n",
    "- author: Akshith Sriram"
   ]
  },
  {
   "cell_type": "markdown",
   "metadata": {
    "papermill": {
     "duration": 0.025181,
     "end_time": "2020-11-24T00:05:59.662197",
     "exception": false,
     "start_time": "2020-11-24T00:05:59.637016",
     "status": "completed"
    },
    "tags": []
   },
   "source": [
    "### Key Objectives:\n",
    "- Building a neural network that differentiates two hand-written digits 3 and 8.\n",
    "- Comparing the results of this Neural Network (NN) to that of a Logistic Regression (LR) model.\n",
    "\n",
    "### Requirements:\n",
    "- 'Kudzu' : A neural network library that was designed during our course by [Univ.AI](www.univ.ai). \n",
    "- MNIST Database\n",
    "\n",
    "If MNIST is not installed, use the command `!pip install mnist` given below.\n",
    "It can be run both from the command line and Jupyter Notebook."
   ]
  },
  {
   "cell_type": "code",
   "execution_count": 1,
   "metadata": {
    "execution": {
     "iopub.execute_input": "2020-11-24T00:05:59.718860Z",
     "iopub.status.busy": "2020-11-24T00:05:59.718258Z",
     "iopub.status.idle": "2020-11-24T00:06:01.302875Z",
     "shell.execute_reply": "2020-11-24T00:06:01.302344Z"
    },
    "papermill": {
     "duration": 1.615581,
     "end_time": "2020-11-24T00:06:01.303037",
     "exception": false,
     "start_time": "2020-11-24T00:05:59.687456",
     "status": "completed"
    },
    "tags": []
   },
   "outputs": [
    {
     "name": "stdout",
     "output_type": "stream",
     "text": [
      "Collecting mnist\r\n"
     ]
    },
    {
     "name": "stdout",
     "output_type": "stream",
     "text": [
      "  Downloading mnist-0.2.2-py2.py3-none-any.whl (3.5 kB)\r\n",
      "Requirement already satisfied: numpy in /opt/hostedtoolcache/Python/3.6.12/x64/lib/python3.6/site-packages (from mnist) (1.19.4)\r\n"
     ]
    },
    {
     "name": "stdout",
     "output_type": "stream",
     "text": [
      "Installing collected packages: mnist\r\n"
     ]
    },
    {
     "name": "stdout",
     "output_type": "stream",
     "text": [
      "Successfully installed mnist-0.2.2\r\n"
     ]
    }
   ],
   "source": [
    "!pip install mnist "
   ]
  },
  {
   "cell_type": "markdown",
   "metadata": {
    "papermill": {
     "duration": 0.026788,
     "end_time": "2020-11-24T00:06:01.357583",
     "exception": false,
     "start_time": "2020-11-24T00:06:01.330795",
     "status": "completed"
    },
    "tags": []
   },
   "source": [
    "#### Importing necessary libraries"
   ]
  },
  {
   "cell_type": "code",
   "execution_count": 2,
   "metadata": {
    "execution": {
     "iopub.execute_input": "2020-11-24T00:06:01.423768Z",
     "iopub.status.busy": "2020-11-24T00:06:01.421015Z",
     "iopub.status.idle": "2020-11-24T00:06:02.012180Z",
     "shell.execute_reply": "2020-11-24T00:06:02.011313Z"
    },
    "papermill": {
     "duration": 0.627173,
     "end_time": "2020-11-24T00:06:02.012483",
     "exception": false,
     "start_time": "2020-11-24T00:06:01.385310",
     "status": "completed"
    },
    "tags": []
   },
   "outputs": [],
   "source": [
    "%load_ext autoreload\n",
    "%autoreload 2\n",
    "\n",
    "%matplotlib inline\n",
    "import matplotlib.pyplot as plt\n",
    "\n",
    "import numpy as np\n",
    "import pandas as pd"
   ]
  },
  {
   "cell_type": "markdown",
   "metadata": {
    "papermill": {
     "duration": 0.118046,
     "end_time": "2020-11-24T00:06:02.160820",
     "exception": false,
     "start_time": "2020-11-24T00:06:02.042774",
     "status": "completed"
    },
    "tags": []
   },
   "source": [
    "### Preparing the Data"
   ]
  },
  {
   "cell_type": "code",
   "execution_count": 3,
   "metadata": {
    "execution": {
     "iopub.execute_input": "2020-11-24T00:06:02.221257Z",
     "iopub.status.busy": "2020-11-24T00:06:02.220653Z",
     "iopub.status.idle": "2020-11-24T00:06:02.236205Z",
     "shell.execute_reply": "2020-11-24T00:06:02.236721Z"
    },
    "papermill": {
     "duration": 0.046822,
     "end_time": "2020-11-24T00:06:02.236875",
     "exception": false,
     "start_time": "2020-11-24T00:06:02.190053",
     "status": "completed"
    },
    "tags": []
   },
   "outputs": [],
   "source": [
    "import mnist"
   ]
  },
  {
   "cell_type": "code",
   "execution_count": 4,
   "metadata": {
    "execution": {
     "iopub.execute_input": "2020-11-24T00:06:02.297797Z",
     "iopub.status.busy": "2020-11-24T00:06:02.297205Z",
     "iopub.status.idle": "2020-11-24T00:06:03.207526Z",
     "shell.execute_reply": "2020-11-24T00:06:03.206243Z"
    },
    "papermill": {
     "duration": 0.943484,
     "end_time": "2020-11-24T00:06:03.207670",
     "exception": false,
     "start_time": "2020-11-24T00:06:02.264186",
     "status": "completed"
    },
    "tags": []
   },
   "outputs": [],
   "source": [
    "train_images = mnist.train_images()\n",
    "train_labels = mnist.train_labels()"
   ]
  },
  {
   "cell_type": "code",
   "execution_count": 5,
   "metadata": {
    "execution": {
     "iopub.execute_input": "2020-11-24T00:06:03.283642Z",
     "iopub.status.busy": "2020-11-24T00:06:03.278190Z",
     "iopub.status.idle": "2020-11-24T00:06:03.292273Z",
     "shell.execute_reply": "2020-11-24T00:06:03.292876Z"
    },
    "papermill": {
     "duration": 0.04543,
     "end_time": "2020-11-24T00:06:03.293027",
     "exception": false,
     "start_time": "2020-11-24T00:06:03.247597",
     "status": "completed"
    },
    "tags": []
   },
   "outputs": [
    {
     "data": {
      "text/plain": [
       "((60000, 28, 28), (60000,))"
      ]
     },
     "execution_count": 5,
     "metadata": {},
     "output_type": "execute_result"
    }
   ],
   "source": [
    "train_images.shape, train_labels.shape"
   ]
  },
  {
   "cell_type": "code",
   "execution_count": 6,
   "metadata": {
    "execution": {
     "iopub.execute_input": "2020-11-24T00:06:03.351287Z",
     "iopub.status.busy": "2020-11-24T00:06:03.350522Z",
     "iopub.status.idle": "2020-11-24T00:06:03.704365Z",
     "shell.execute_reply": "2020-11-24T00:06:03.703417Z"
    },
    "papermill": {
     "duration": 0.384547,
     "end_time": "2020-11-24T00:06:03.704588",
     "exception": false,
     "start_time": "2020-11-24T00:06:03.320041",
     "status": "completed"
    },
    "tags": []
   },
   "outputs": [],
   "source": [
    "test_images = mnist.test_images()\n",
    "test_labels = mnist.test_labels()"
   ]
  },
  {
   "cell_type": "code",
   "execution_count": 7,
   "metadata": {
    "execution": {
     "iopub.execute_input": "2020-11-24T00:06:03.763409Z",
     "iopub.status.busy": "2020-11-24T00:06:03.762821Z",
     "iopub.status.idle": "2020-11-24T00:06:03.777727Z",
     "shell.execute_reply": "2020-11-24T00:06:03.778285Z"
    },
    "papermill": {
     "duration": 0.045865,
     "end_time": "2020-11-24T00:06:03.778432",
     "exception": false,
     "start_time": "2020-11-24T00:06:03.732567",
     "status": "completed"
    },
    "tags": []
   },
   "outputs": [
    {
     "data": {
      "text/plain": [
       "((10000, 28, 28), (10000,))"
      ]
     },
     "execution_count": 7,
     "metadata": {},
     "output_type": "execute_result"
    }
   ],
   "source": [
    "test_images.shape, test_labels.shape"
   ]
  },
  {
   "cell_type": "code",
   "execution_count": 8,
   "metadata": {
    "execution": {
     "iopub.execute_input": "2020-11-24T00:06:03.837573Z",
     "iopub.status.busy": "2020-11-24T00:06:03.836989Z",
     "iopub.status.idle": "2020-11-24T00:06:04.019826Z",
     "shell.execute_reply": "2020-11-24T00:06:04.020426Z"
    },
    "papermill": {
     "duration": 0.214849,
     "end_time": "2020-11-24T00:06:04.020588",
     "exception": false,
     "start_time": "2020-11-24T00:06:03.805739",
     "status": "completed"
    },
    "tags": []
   },
   "outputs": [
    {
     "name": "stdout",
     "output_type": "stream",
     "text": [
      "2\n"
     ]
    },
    {
     "data": {
      "text/plain": [
       "<matplotlib.image.AxesImage at 0x7f1ed3514080>"
      ]
     },
     "execution_count": 8,
     "metadata": {},
     "output_type": "execute_result"
    },
    {
     "data": {
      "image/png": "[encoded data removed]",
      "text/plain": [
       "<Figure size 432x288 with 1 Axes>"
      ]
     },
     "metadata": {
      "needs_background": "light"
     },
     "output_type": "display_data"
    }
   ],
   "source": [
    "image_index = 7776 # You may select anything up to 60,000\n",
    "print(train_labels[image_index]) \n",
    "plt.imshow(train_images[image_index], cmap='Greys')"
   ]
  },
  {
   "cell_type": "markdown",
   "metadata": {
    "papermill": {
     "duration": 0.02911,
     "end_time": "2020-11-24T00:06:04.079756",
     "exception": false,
     "start_time": "2020-11-24T00:06:04.050646",
     "status": "completed"
    },
    "tags": []
   },
   "source": [
    "## Filter data to get 3 and 8 out"
   ]
  },
  {
   "cell_type": "code",
   "execution_count": 9,
   "metadata": {
    "execution": {
     "iopub.execute_input": "2020-11-24T00:06:04.143910Z",
     "iopub.status.busy": "2020-11-24T00:06:04.142745Z",
     "iopub.status.idle": "2020-11-24T00:06:04.163689Z",
     "shell.execute_reply": "2020-11-24T00:06:04.163150Z"
    },
    "papermill": {
     "duration": 0.053769,
     "end_time": "2020-11-24T00:06:04.163823",
     "exception": false,
     "start_time": "2020-11-24T00:06:04.110054",
     "status": "completed"
    },
    "tags": []
   },
   "outputs": [],
   "source": [
    "train_filter = np.where((train_labels == 3 ) | (train_labels == 8))\n",
    "test_filter = np.where((test_labels == 3) | (test_labels == 8))\n",
    "X_train, y_train = train_images[train_filter], train_labels[train_filter]\n",
    "X_test, y_test = test_images[test_filter], test_labels[test_filter]"
   ]
  },
  {
   "cell_type": "markdown",
   "metadata": {
    "papermill": {
     "duration": 0.028456,
     "end_time": "2020-11-24T00:06:04.221091",
     "exception": false,
     "start_time": "2020-11-24T00:06:04.192635",
     "status": "completed"
    },
    "tags": []
   },
   "source": [
    "We normalize the pixel values in the 0 to 1 range"
   ]
  },
  {
   "cell_type": "code",
   "execution_count": 10,
   "metadata": {
    "execution": {
     "iopub.execute_input": "2020-11-24T00:06:04.282765Z",
     "iopub.status.busy": "2020-11-24T00:06:04.281761Z",
     "iopub.status.idle": "2020-11-24T00:06:04.335047Z",
     "shell.execute_reply": "2020-11-24T00:06:04.334483Z"
    },
    "papermill": {
     "duration": 0.085765,
     "end_time": "2020-11-24T00:06:04.335181",
     "exception": false,
     "start_time": "2020-11-24T00:06:04.249416",
     "status": "completed"
    },
    "tags": []
   },
   "outputs": [],
   "source": [
    "X_train = X_train/255.\n",
    "X_test = X_test/255."
   ]
  },
  {
   "cell_type": "markdown",
   "metadata": {
    "papermill": {
     "duration": 0.028364,
     "end_time": "2020-11-24T00:06:04.392235",
     "exception": false,
     "start_time": "2020-11-24T00:06:04.363871",
     "status": "completed"
    },
    "tags": []
   },
   "source": [
    "Setup the labels as 1 (when the digit is 3) and 0 (when the digit is 8)"
   ]
  },
  {
   "cell_type": "code",
   "execution_count": 11,
   "metadata": {
    "execution": {
     "iopub.execute_input": "2020-11-24T00:06:04.453361Z",
     "iopub.status.busy": "2020-11-24T00:06:04.452757Z",
     "iopub.status.idle": "2020-11-24T00:06:04.467023Z",
     "shell.execute_reply": "2020-11-24T00:06:04.466513Z"
    },
    "papermill": {
     "duration": 0.046521,
     "end_time": "2020-11-24T00:06:04.467150",
     "exception": false,
     "start_time": "2020-11-24T00:06:04.420629",
     "status": "completed"
    },
    "tags": []
   },
   "outputs": [],
   "source": [
    "y_train = 1*(y_train==3)\n",
    "y_test = 1*(y_test==3)"
   ]
  },
  {
   "cell_type": "code",
   "execution_count": 12,
   "metadata": {
    "execution": {
     "iopub.execute_input": "2020-11-24T00:06:04.528819Z",
     "iopub.status.busy": "2020-11-24T00:06:04.528199Z",
     "iopub.status.idle": "2020-11-24T00:06:04.545276Z",
     "shell.execute_reply": "2020-11-24T00:06:04.544772Z"
    },
    "papermill": {
     "duration": 0.049652,
     "end_time": "2020-11-24T00:06:04.545408",
     "exception": false,
     "start_time": "2020-11-24T00:06:04.495756",
     "status": "completed"
    },
    "tags": []
   },
   "outputs": [
    {
     "data": {
      "text/plain": [
       "((11982, 28, 28), (1984, 28, 28))"
      ]
     },
     "execution_count": 12,
     "metadata": {},
     "output_type": "execute_result"
    }
   ],
   "source": [
    "X_train.shape, X_test.shape"
   ]
  },
  {
   "cell_type": "markdown",
   "metadata": {
    "papermill": {
     "duration": 0.028719,
     "end_time": "2020-11-24T00:06:04.602864",
     "exception": false,
     "start_time": "2020-11-24T00:06:04.574145",
     "status": "completed"
    },
    "tags": []
   },
   "source": [
    "### Reshape the input data to create a linear array"
   ]
  },
  {
   "cell_type": "code",
   "execution_count": 13,
   "metadata": {
    "execution": {
     "iopub.execute_input": "2020-11-24T00:06:04.668009Z",
     "iopub.status.busy": "2020-11-24T00:06:04.667419Z",
     "iopub.status.idle": "2020-11-24T00:06:04.681131Z",
     "shell.execute_reply": "2020-11-24T00:06:04.680627Z"
    },
    "papermill": {
     "duration": 0.049496,
     "end_time": "2020-11-24T00:06:04.681262",
     "exception": false,
     "start_time": "2020-11-24T00:06:04.631766",
     "status": "completed"
    },
    "tags": []
   },
   "outputs": [
    {
     "data": {
      "text/plain": [
       "((11982, 784), (1984, 784))"
      ]
     },
     "execution_count": 13,
     "metadata": {},
     "output_type": "execute_result"
    }
   ],
   "source": [
    "X_train = X_train.reshape(X_train.shape[0], -1)\n",
    "X_test = X_test.reshape(X_test.shape[0], -1)\n",
    "X_train.shape, X_test.shape"
   ]
  },
  {
   "cell_type": "markdown",
   "metadata": {
    "papermill": {
     "duration": 0.029033,
     "end_time": "2020-11-24T00:06:04.739343",
     "exception": false,
     "start_time": "2020-11-24T00:06:04.710310",
     "status": "completed"
    },
    "tags": []
   },
   "source": [
    "### Importing appropriate functions from 'Kudzu'"
   ]
  },
  {
   "cell_type": "code",
   "execution_count": 14,
   "metadata": {
    "execution": {
     "iopub.execute_input": "2020-11-24T00:06:04.810155Z",
     "iopub.status.busy": "2020-11-24T00:06:04.806225Z",
     "iopub.status.idle": "2020-11-24T00:06:04.827059Z",
     "shell.execute_reply": "2020-11-24T00:06:04.826454Z"
    },
    "papermill": {
     "duration": 0.058686,
     "end_time": "2020-11-24T00:06:04.827192",
     "exception": false,
     "start_time": "2020-11-24T00:06:04.768506",
     "status": "completed"
    },
    "tags": []
   },
   "outputs": [],
   "source": [
    "from kudzu.layer import Sigmoid\n",
    "from kudzu.layer import Relu\n",
    "from kudzu.layer import Affine, Sigmoid\n",
    "\n",
    "from kudzu.model import Model\n",
    "from kudzu.train import Learner\n",
    "from kudzu.optim import GD\n",
    "from kudzu.data import Data, Dataloader, Sampler\n",
    "\n",
    "from kudzu.callbacks import AccCallback\n",
    "from kudzu.callbacks import ClfCallback\n",
    "\n",
    "from kudzu.loss import MSE"
   ]
  },
  {
   "cell_type": "markdown",
   "metadata": {
    "papermill": {
     "duration": 0.029012,
     "end_time": "2020-11-24T00:06:04.885189",
     "exception": false,
     "start_time": "2020-11-24T00:06:04.856177",
     "status": "completed"
    },
    "tags": []
   },
   "source": [
    "### Let us create a `Config` class, to store important parameters. \n",
    "This class essentially plays the role of a dictionary."
   ]
  },
  {
   "cell_type": "code",
   "execution_count": 15,
   "metadata": {
    "execution": {
     "iopub.execute_input": "2020-11-24T00:06:04.947466Z",
     "iopub.status.busy": "2020-11-24T00:06:04.946873Z",
     "iopub.status.idle": "2020-11-24T00:06:04.960014Z",
     "shell.execute_reply": "2020-11-24T00:06:04.959540Z"
    },
    "papermill": {
     "duration": 0.045832,
     "end_time": "2020-11-24T00:06:04.960145",
     "exception": false,
     "start_time": "2020-11-24T00:06:04.914313",
     "status": "completed"
    },
    "tags": []
   },
   "outputs": [],
   "source": [
    "class Config:\n",
    "    pass\n",
    "config = Config()\n",
    "config.lr = 0.001\n",
    "config.num_epochs = 251\n",
    "config.bs = 50"
   ]
  },
  {
   "cell_type": "markdown",
   "metadata": {
    "papermill": {
     "duration": 0.028908,
     "end_time": "2020-11-24T00:06:05.017937",
     "exception": false,
     "start_time": "2020-11-24T00:06:04.989029",
     "status": "completed"
    },
    "tags": []
   },
   "source": [
    "### Initializing data to the variables"
   ]
  },
  {
   "cell_type": "code",
   "execution_count": 16,
   "metadata": {
    "execution": {
     "iopub.execute_input": "2020-11-24T00:06:05.081746Z",
     "iopub.status.busy": "2020-11-24T00:06:05.081151Z",
     "iopub.status.idle": "2020-11-24T00:06:05.094040Z",
     "shell.execute_reply": "2020-11-24T00:06:05.094519Z"
    },
    "papermill": {
     "duration": 0.047687,
     "end_time": "2020-11-24T00:06:05.094669",
     "exception": false,
     "start_time": "2020-11-24T00:06:05.046982",
     "status": "completed"
    },
    "tags": []
   },
   "outputs": [],
   "source": [
    "data = Data(X_train, y_train.reshape(-1,1))\n",
    "sampler = Sampler(data, config.bs, shuffle=True)\n",
    "\n",
    "dl = Dataloader(data, sampler)\n",
    "\n",
    "opt = GD(config.lr)\n",
    "loss = MSE()"
   ]
  },
  {
   "cell_type": "code",
   "execution_count": 17,
   "metadata": {
    "execution": {
     "iopub.execute_input": "2020-11-24T00:06:05.157712Z",
     "iopub.status.busy": "2020-11-24T00:06:05.157116Z",
     "iopub.status.idle": "2020-11-24T00:06:05.171892Z",
     "shell.execute_reply": "2020-11-24T00:06:05.172375Z"
    },
    "papermill": {
     "duration": 0.048908,
     "end_time": "2020-11-24T00:06:05.172530",
     "exception": false,
     "start_time": "2020-11-24T00:06:05.123622",
     "status": "completed"
    },
    "tags": []
   },
   "outputs": [],
   "source": [
    "training_xdata = X_train\n",
    "testing_xdata = X_test\n",
    "training_ydata = y_train.reshape(-1,1)\n",
    "testing_ydata = y_test.reshape(-1,1)"
   ]
  },
  {
   "cell_type": "markdown",
   "metadata": {
    "papermill": {
     "duration": 0.0288,
     "end_time": "2020-11-24T00:06:05.230444",
     "exception": false,
     "start_time": "2020-11-24T00:06:05.201644",
     "status": "completed"
    },
    "tags": []
   },
   "source": [
    "### Running Models with the Training data\n",
    "Details about the network layers:\n",
    "- A first affine layer has 784 inputs and does 100 affine transforms. These are followed by a Relu\n",
    "- A second affine layer has 100 inputs from the 100 activations of the past layer, and does 100 affine transforms. These are followed by a Relu\n",
    "- A third affine layer has 100 activations and does 2 affine transformations to create an embedding for visualization. There is no non-linearity here.\n",
    "- A final \"logistic regression\" which has an affine transform from 2 inputs to 1 output, which is squeezed through a sigmoid.\n",
    "\n",
    "Help taken from Anshuman's Notebook."
   ]
  },
  {
   "cell_type": "code",
   "execution_count": 18,
   "metadata": {
    "execution": {
     "iopub.execute_input": "2020-11-24T00:06:05.295148Z",
     "iopub.status.busy": "2020-11-24T00:06:05.294544Z",
     "iopub.status.idle": "2020-11-24T00:06:05.312492Z",
     "shell.execute_reply": "2020-11-24T00:06:05.311952Z"
    },
    "papermill": {
     "duration": 0.053226,
     "end_time": "2020-11-24T00:06:05.312624",
     "exception": false,
     "start_time": "2020-11-24T00:06:05.259398",
     "status": "completed"
    },
    "tags": []
   },
   "outputs": [],
   "source": [
    "# layers for the Neural Network\n",
    "layers = [Affine(\"first\", 784, 100), Relu(\"first\"), Affine(\"second\", 100, 100), Relu(\"second\"), Affine(\"third\", 100, 2), Affine(\"final\", 2, 1), Sigmoid(\"final\")]\n",
    "model_nn = Model(layers)\n",
    "\n",
    "# layers for the Logistic Regression\n",
    "layers_lr = [Affine(\"logits\", 784, 1), Sigmoid(\"sigmoid\")]\n",
    "model_lr = Model(layers_lr)"
   ]
  },
  {
   "cell_type": "code",
   "execution_count": 19,
   "metadata": {
    "execution": {
     "iopub.execute_input": "2020-11-24T00:06:05.375368Z",
     "iopub.status.busy": "2020-11-24T00:06:05.374773Z",
     "iopub.status.idle": "2020-11-24T00:06:05.387963Z",
     "shell.execute_reply": "2020-11-24T00:06:05.387490Z"
    },
    "papermill": {
     "duration": 0.04638,
     "end_time": "2020-11-24T00:06:05.388095",
     "exception": false,
     "start_time": "2020-11-24T00:06:05.341715",
     "status": "completed"
    },
    "tags": []
   },
   "outputs": [],
   "source": [
    "# suffix _nn stands for Neural Network.\n",
    "learner_nn = Learner(loss, model_nn, opt, config.num_epochs)\n",
    "acc_nn = ClfCallback(learner_nn, config.bs, training_xdata , testing_xdata, training_ydata, testing_ydata)\n",
    "learner_nn.set_callbacks([acc_nn])"
   ]
  },
  {
   "cell_type": "code",
   "execution_count": 20,
   "metadata": {
    "execution": {
     "iopub.execute_input": "2020-11-24T00:06:05.456216Z",
     "iopub.status.busy": "2020-11-24T00:06:05.455602Z",
     "iopub.status.idle": "2020-11-24T00:07:41.114434Z",
     "shell.execute_reply": "2020-11-24T00:07:41.114994Z"
    },
    "papermill": {
     "duration": 95.697981,
     "end_time": "2020-11-24T00:07:41.115152",
     "exception": false,
     "start_time": "2020-11-24T00:06:05.417171",
     "status": "completed"
    },
    "tags": []
   },
   "outputs": [
    {
     "name": "stdout",
     "output_type": "stream",
     "text": [
      "====== Neural Network ======\n"
     ]
    },
    {
     "name": "stdout",
     "output_type": "stream",
     "text": [
      "Epoch 0, Loss 0.2444\n",
      "Training Accuracy: 0.6600, Testing Accuracy: 0.6704\n",
      "\n"
     ]
    },
    {
     "name": "stdout",
     "output_type": "stream",
     "text": [
      "Epoch 10, Loss 0.2106\n",
      "Training Accuracy: 0.8336, Testing Accuracy: 0.8438\n",
      "\n"
     ]
    },
    {
     "name": "stdout",
     "output_type": "stream",
     "text": [
      "Epoch 20, Loss 0.1163\n",
      "Training Accuracy: 0.8896, Testing Accuracy: 0.8992\n",
      "\n"
     ]
    },
    {
     "name": "stdout",
     "output_type": "stream",
     "text": [
      "Epoch 30, Loss 0.0686\n",
      "Training Accuracy: 0.9284, Testing Accuracy: 0.9335\n",
      "\n"
     ]
    },
    {
     "name": "stdout",
     "output_type": "stream",
     "text": [
      "Epoch 40, Loss 0.051\n",
      "Training Accuracy: 0.9446, Testing Accuracy: 0.9526\n",
      "\n"
     ]
    },
    {
     "name": "stdout",
     "output_type": "stream",
     "text": [
      "Epoch 50, Loss 0.0426\n",
      "Training Accuracy: 0.9524, Testing Accuracy: 0.9612\n",
      "\n"
     ]
    },
    {
     "name": "stdout",
     "output_type": "stream",
     "text": [
      "Epoch 60, Loss 0.0378\n",
      "Training Accuracy: 0.9575, Testing Accuracy: 0.9642\n",
      "\n"
     ]
    },
    {
     "name": "stdout",
     "output_type": "stream",
     "text": [
      "Epoch 70, Loss 0.0347\n",
      "Training Accuracy: 0.9604, Testing Accuracy: 0.9667\n",
      "\n"
     ]
    },
    {
     "name": "stdout",
     "output_type": "stream",
     "text": [
      "Epoch 80, Loss 0.0325\n",
      "Training Accuracy: 0.9624, Testing Accuracy: 0.9682\n",
      "\n"
     ]
    },
    {
     "name": "stdout",
     "output_type": "stream",
     "text": [
      "Epoch 90, Loss 0.0308\n",
      "Training Accuracy: 0.9641, Testing Accuracy: 0.9672\n",
      "\n"
     ]
    },
    {
     "name": "stdout",
     "output_type": "stream",
     "text": [
      "Epoch 100, Loss 0.0294\n",
      "Training Accuracy: 0.9658, Testing Accuracy: 0.9682\n",
      "\n"
     ]
    },
    {
     "name": "stdout",
     "output_type": "stream",
     "text": [
      "Epoch 110, Loss 0.0283\n",
      "Training Accuracy: 0.9670, Testing Accuracy: 0.9688\n",
      "\n"
     ]
    },
    {
     "name": "stdout",
     "output_type": "stream",
     "text": [
      "Epoch 120, Loss 0.0272\n",
      "Training Accuracy: 0.9684, Testing Accuracy: 0.9698\n",
      "\n"
     ]
    },
    {
     "name": "stdout",
     "output_type": "stream",
     "text": [
      "Epoch 130, Loss 0.0264\n",
      "Training Accuracy: 0.9693, Testing Accuracy: 0.9693\n",
      "\n"
     ]
    },
    {
     "name": "stdout",
     "output_type": "stream",
     "text": [
      "Epoch 140, Loss 0.0256\n",
      "Training Accuracy: 0.9705, Testing Accuracy: 0.9693\n",
      "\n"
     ]
    },
    {
     "name": "stdout",
     "output_type": "stream",
     "text": [
      "Epoch 150, Loss 0.0248\n",
      "Training Accuracy: 0.9718, Testing Accuracy: 0.9713\n",
      "\n"
     ]
    },
    {
     "name": "stdout",
     "output_type": "stream",
     "text": [
      "Epoch 160, Loss 0.0242\n",
      "Training Accuracy: 0.9720, Testing Accuracy: 0.9718\n",
      "\n"
     ]
    },
    {
     "name": "stdout",
     "output_type": "stream",
     "text": [
      "Epoch 170, Loss 0.0236\n",
      "Training Accuracy: 0.9728, Testing Accuracy: 0.9728\n",
      "\n"
     ]
    },
    {
     "name": "stdout",
     "output_type": "stream",
     "text": [
      "Epoch 180, Loss 0.023\n",
      "Training Accuracy: 0.9737, Testing Accuracy: 0.9733\n",
      "\n"
     ]
    },
    {
     "name": "stdout",
     "output_type": "stream",
     "text": [
      "Epoch 190, Loss 0.0225\n",
      "Training Accuracy: 0.9745, Testing Accuracy: 0.9728\n",
      "\n"
     ]
    },
    {
     "name": "stdout",
     "output_type": "stream",
     "text": [
      "Epoch 200, Loss 0.022\n",
      "Training Accuracy: 0.9746, Testing Accuracy: 0.9733\n",
      "\n"
     ]
    },
    {
     "name": "stdout",
     "output_type": "stream",
     "text": [
      "Epoch 210, Loss 0.0215\n",
      "Training Accuracy: 0.9750, Testing Accuracy: 0.9733\n",
      "\n"
     ]
    },
    {
     "name": "stdout",
     "output_type": "stream",
     "text": [
      "Epoch 220, Loss 0.0211\n",
      "Training Accuracy: 0.9756, Testing Accuracy: 0.9738\n",
      "\n"
     ]
    },
    {
     "name": "stdout",
     "output_type": "stream",
     "text": [
      "Epoch 230, Loss 0.0207\n",
      "Training Accuracy: 0.9759, Testing Accuracy: 0.9743\n",
      "\n"
     ]
    },
    {
     "name": "stdout",
     "output_type": "stream",
     "text": [
      "Epoch 240, Loss 0.0202\n",
      "Training Accuracy: 0.9765, Testing Accuracy: 0.9748\n",
      "\n"
     ]
    },
    {
     "name": "stdout",
     "output_type": "stream",
     "text": [
      "Epoch 250, Loss 0.0198\n",
      "Training Accuracy: 0.9770, Testing Accuracy: 0.9748\n",
      "\n"
     ]
    },
    {
     "data": {
      "text/plain": [
       "0.0024749850084988824"
      ]
     },
     "execution_count": 20,
     "metadata": {},
     "output_type": "execute_result"
    }
   ],
   "source": [
    "print(\"====== Neural Network ======\")\n",
    "learner_nn.train_loop(dl)"
   ]
  },
  {
   "cell_type": "markdown",
   "metadata": {
    "papermill": {
     "duration": 0.037127,
     "end_time": "2020-11-24T00:07:41.189953",
     "exception": false,
     "start_time": "2020-11-24T00:07:41.152826",
     "status": "completed"
    },
    "tags": []
   },
   "source": [
    "### Logistic Regression based Implementation."
   ]
  },
  {
   "cell_type": "code",
   "execution_count": 21,
   "metadata": {
    "execution": {
     "iopub.execute_input": "2020-11-24T00:07:41.278289Z",
     "iopub.status.busy": "2020-11-24T00:07:41.277263Z",
     "iopub.status.idle": "2020-11-24T00:07:41.287827Z",
     "shell.execute_reply": "2020-11-24T00:07:41.287344Z"
    },
    "papermill": {
     "duration": 0.060641,
     "end_time": "2020-11-24T00:07:41.287961",
     "exception": false,
     "start_time": "2020-11-24T00:07:41.227320",
     "status": "completed"
    },
    "tags": []
   },
   "outputs": [],
   "source": [
    "learner_lr = Learner(loss, model_lr, opt, config.num_epochs)\n",
    "acc_lr = ClfCallback(learner_lr, config.bs, training_xdata , testing_xdata, training_ydata, testing_ydata)\n",
    "learner_lr.set_callbacks([acc_lr])"
   ]
  },
  {
   "cell_type": "code",
   "execution_count": 22,
   "metadata": {
    "execution": {
     "iopub.execute_input": "2020-11-24T00:07:41.368035Z",
     "iopub.status.busy": "2020-11-24T00:07:41.367424Z",
     "iopub.status.idle": "2020-11-24T00:07:58.973034Z",
     "shell.execute_reply": "2020-11-24T00:07:58.973825Z"
    },
    "papermill": {
     "duration": 17.648557,
     "end_time": "2020-11-24T00:07:58.973986",
     "exception": false,
     "start_time": "2020-11-24T00:07:41.325429",
     "status": "completed"
    },
    "tags": []
   },
   "outputs": [
    {
     "name": "stdout",
     "output_type": "stream",
     "text": [
      "====== Logistic Regression ======\n",
      "Epoch 0, Loss 0.246\n",
      "Training Accuracy: 0.6738, Testing Accuracy: 0.6981\n",
      "\n"
     ]
    },
    {
     "name": "stdout",
     "output_type": "stream",
     "text": [
      "Epoch 10, Loss 0.101\n",
      "Training Accuracy: 0.9167, Testing Accuracy: 0.9294\n",
      "\n"
     ]
    },
    {
     "name": "stdout",
     "output_type": "stream",
     "text": [
      "Epoch 20, Loss 0.0775\n",
      "Training Accuracy: 0.9314, Testing Accuracy: 0.9410\n",
      "\n"
     ]
    },
    {
     "name": "stdout",
     "output_type": "stream",
     "text": [
      "Epoch 30, Loss 0.0668\n",
      "Training Accuracy: 0.9391, Testing Accuracy: 0.9516\n",
      "\n"
     ]
    },
    {
     "name": "stdout",
     "output_type": "stream",
     "text": [
      "Epoch 40, Loss 0.0604\n",
      "Training Accuracy: 0.9433, Testing Accuracy: 0.9551\n",
      "\n"
     ]
    },
    {
     "name": "stdout",
     "output_type": "stream",
     "text": [
      "Epoch 50, Loss 0.056\n",
      "Training Accuracy: 0.9464, Testing Accuracy: 0.9561\n",
      "\n"
     ]
    },
    {
     "name": "stdout",
     "output_type": "stream",
     "text": [
      "Epoch 60, Loss 0.0528\n",
      "Training Accuracy: 0.9485, Testing Accuracy: 0.9597\n",
      "\n"
     ]
    },
    {
     "name": "stdout",
     "output_type": "stream",
     "text": [
      "Epoch 70, Loss 0.0504\n",
      "Training Accuracy: 0.9503, Testing Accuracy: 0.9612\n",
      "\n"
     ]
    },
    {
     "name": "stdout",
     "output_type": "stream",
     "text": [
      "Epoch 80, Loss 0.0484\n",
      "Training Accuracy: 0.9531, Testing Accuracy: 0.9632\n",
      "\n"
     ]
    },
    {
     "name": "stdout",
     "output_type": "stream",
     "text": [
      "Epoch 90, Loss 0.0468\n",
      "Training Accuracy: 0.9542, Testing Accuracy: 0.9642\n",
      "\n"
     ]
    },
    {
     "name": "stdout",
     "output_type": "stream",
     "text": [
      "Epoch 100, Loss 0.0454\n",
      "Training Accuracy: 0.9549, Testing Accuracy: 0.9637\n",
      "\n"
     ]
    },
    {
     "name": "stdout",
     "output_type": "stream",
     "text": [
      "Epoch 110, Loss 0.0442\n",
      "Training Accuracy: 0.9564, Testing Accuracy: 0.9632\n",
      "\n"
     ]
    },
    {
     "name": "stdout",
     "output_type": "stream",
     "text": [
      "Epoch 120, Loss 0.0432\n",
      "Training Accuracy: 0.9567, Testing Accuracy: 0.9632\n",
      "\n"
     ]
    },
    {
     "name": "stdout",
     "output_type": "stream",
     "text": [
      "Epoch 130, Loss 0.0423\n",
      "Training Accuracy: 0.9579, Testing Accuracy: 0.9632\n",
      "\n"
     ]
    },
    {
     "name": "stdout",
     "output_type": "stream",
     "text": [
      "Epoch 140, Loss 0.0415\n",
      "Training Accuracy: 0.9589, Testing Accuracy: 0.9637\n",
      "\n"
     ]
    },
    {
     "name": "stdout",
     "output_type": "stream",
     "text": [
      "Epoch 150, Loss 0.0408\n",
      "Training Accuracy: 0.9590, Testing Accuracy: 0.9637\n",
      "\n"
     ]
    },
    {
     "name": "stdout",
     "output_type": "stream",
     "text": [
      "Epoch 160, Loss 0.0401\n",
      "Training Accuracy: 0.9599, Testing Accuracy: 0.9642\n",
      "\n"
     ]
    },
    {
     "name": "stdout",
     "output_type": "stream",
     "text": [
      "Epoch 170, Loss 0.0395\n",
      "Training Accuracy: 0.9598, Testing Accuracy: 0.9647\n",
      "\n"
     ]
    },
    {
     "name": "stdout",
     "output_type": "stream",
     "text": [
      "Epoch 180, Loss 0.039\n",
      "Training Accuracy: 0.9600, Testing Accuracy: 0.9652\n",
      "\n"
     ]
    },
    {
     "name": "stdout",
     "output_type": "stream",
     "text": [
      "Epoch 190, Loss 0.0385\n",
      "Training Accuracy: 0.9600, Testing Accuracy: 0.9652\n",
      "\n"
     ]
    },
    {
     "name": "stdout",
     "output_type": "stream",
     "text": [
      "Epoch 200, Loss 0.038\n",
      "Training Accuracy: 0.9606, Testing Accuracy: 0.9657\n",
      "\n"
     ]
    },
    {
     "name": "stdout",
     "output_type": "stream",
     "text": [
      "Epoch 210, Loss 0.0376\n",
      "Training Accuracy: 0.9611, Testing Accuracy: 0.9657\n",
      "\n"
     ]
    },
    {
     "name": "stdout",
     "output_type": "stream",
     "text": [
      "Epoch 220, Loss 0.0372\n",
      "Training Accuracy: 0.9614, Testing Accuracy: 0.9657\n",
      "\n"
     ]
    },
    {
     "name": "stdout",
     "output_type": "stream",
     "text": [
      "Epoch 230, Loss 0.0368\n",
      "Training Accuracy: 0.9616, Testing Accuracy: 0.9667\n",
      "\n"
     ]
    },
    {
     "name": "stdout",
     "output_type": "stream",
     "text": [
      "Epoch 240, Loss 0.0365\n",
      "Training Accuracy: 0.9617, Testing Accuracy: 0.9672\n",
      "\n"
     ]
    },
    {
     "name": "stdout",
     "output_type": "stream",
     "text": [
      "Epoch 250, Loss 0.0362\n",
      "Training Accuracy: 0.9619, Testing Accuracy: 0.9672\n",
      "\n"
     ]
    },
    {
     "data": {
      "text/plain": [
       "0.05389591273339009"
      ]
     },
     "execution_count": 22,
     "metadata": {},
     "output_type": "execute_result"
    }
   ],
   "source": [
    "print(\"====== Logistic Regression ======\")\n",
    "learner_lr.train_loop(dl)"
   ]
  },
  {
   "cell_type": "markdown",
   "metadata": {
    "papermill": {
     "duration": 0.062718,
     "end_time": "2020-11-24T00:07:59.082797",
     "exception": false,
     "start_time": "2020-11-24T00:07:59.020079",
     "status": "completed"
    },
    "tags": []
   },
   "source": [
    "### Comparing results of NN and LR"
   ]
  },
  {
   "cell_type": "code",
   "execution_count": 23,
   "metadata": {
    "execution": {
     "iopub.execute_input": "2020-11-24T00:07:59.177909Z",
     "iopub.status.busy": "2020-11-24T00:07:59.177288Z",
     "iopub.status.idle": "2020-11-24T00:07:59.426114Z",
     "shell.execute_reply": "2020-11-24T00:07:59.425592Z"
    },
    "papermill": {
     "duration": 0.298436,
     "end_time": "2020-11-24T00:07:59.426247",
     "exception": false,
     "start_time": "2020-11-24T00:07:59.127811",
     "status": "completed"
    },
    "tags": []
   },
   "outputs": [
    {
     "data": {
      "text/plain": [
       "<matplotlib.legend.Legend at 0x7f1ed10e39b0>"
      ]
     },
     "execution_count": 23,
     "metadata": {},
     "output_type": "execute_result"
    },
    {
     "data": {
      "image/png": "[encoded data removed]",
      "text/plain": [
       "<Figure size 1080x720 with 1 Axes>"
      ]
     },
     "metadata": {
      "needs_background": "light"
     },
     "output_type": "display_data"
    }
   ],
   "source": [
    "plt.figure(figsize=(15,10))\n",
    "\n",
    "# Neural Network plots\n",
    "plt.plot(acc_nn.accuracies, 'r-', label = \"Training Accuracies - NN\")\n",
    "plt.plot(acc_nn.test_accuracies, 'g-', label = \"Testing Accuracies - NN\")\n",
    "\n",
    "# Logistic Regression plots\n",
    "plt.plot(acc_lr.accuracies, 'k-', label = \"Training Accuracies - LR\")\n",
    "plt.plot(acc_lr.test_accuracies, 'b-', label = \"Testing Accuracies - LR\")\n",
    "\n",
    "plt.ylim(0.8, 1)\n",
    "\n",
    "plt.legend()\n",
    "\n"
   ]
  },
  {
   "cell_type": "markdown",
   "metadata": {
    "papermill": {
     "duration": 0.047168,
     "end_time": "2020-11-24T00:07:59.520677",
     "exception": false,
     "start_time": "2020-11-24T00:07:59.473509",
     "status": "completed"
    },
    "tags": []
   },
   "source": [
    "### From the plot, we can observe the following:\n",
    "- Neural Network achieves higher accuracy than the Logistic Regression model.\n",
    "- This apparently, is because of overfitting, i.e. NN captures more noise than data.\n",
    "- Testing accuracy of NN drops below the Training accuracy at higher epochs. This explains the over-fitting on training data.\n",
    "- Logistic Regression gives a reliable accuracy, without the above mentioned problem.\n"
   ]
  },
  {
   "cell_type": "markdown",
   "metadata": {
    "papermill": {
     "duration": 0.046916,
     "end_time": "2020-11-24T00:07:59.614637",
     "exception": false,
     "start_time": "2020-11-24T00:07:59.567721",
     "status": "completed"
    },
    "tags": []
   },
   "source": [
    "### Moving till the last but one layer (excluding it).\n",
    "#### Plotting the outputs of this layer of the NN."
   ]
  },
  {
   "cell_type": "code",
   "execution_count": 24,
   "metadata": {
    "execution": {
     "iopub.execute_input": "2020-11-24T00:07:59.713515Z",
     "iopub.status.busy": "2020-11-24T00:07:59.712923Z",
     "iopub.status.idle": "2020-11-24T00:07:59.726033Z",
     "shell.execute_reply": "2020-11-24T00:07:59.725536Z"
    },
    "papermill": {
     "duration": 0.064383,
     "end_time": "2020-11-24T00:07:59.726168",
     "exception": false,
     "start_time": "2020-11-24T00:07:59.661785",
     "status": "completed"
    },
    "tags": []
   },
   "outputs": [],
   "source": [
    "model_new = Model(layers[:-2])"
   ]
  },
  {
   "cell_type": "code",
   "execution_count": 25,
   "metadata": {
    "execution": {
     "iopub.execute_input": "2020-11-24T00:07:59.859892Z",
     "iopub.status.busy": "2020-11-24T00:07:59.859150Z",
     "iopub.status.idle": "2020-11-24T00:07:59.879093Z",
     "shell.execute_reply": "2020-11-24T00:07:59.879644Z"
    },
    "papermill": {
     "duration": 0.0849,
     "end_time": "2020-11-24T00:07:59.879805",
     "exception": false,
     "start_time": "2020-11-24T00:07:59.794905",
     "status": "completed"
    },
    "tags": []
   },
   "outputs": [],
   "source": [
    "plot_testing = model_new(testing_xdata)"
   ]
  },
  {
   "cell_type": "code",
   "execution_count": 26,
   "metadata": {
    "execution": {
     "iopub.execute_input": "2020-11-24T00:07:59.980954Z",
     "iopub.status.busy": "2020-11-24T00:07:59.980349Z",
     "iopub.status.idle": "2020-11-24T00:08:00.209791Z",
     "shell.execute_reply": "2020-11-24T00:08:00.210293Z"
    },
    "papermill": {
     "duration": 0.283269,
     "end_time": "2020-11-24T00:08:00.210446",
     "exception": false,
     "start_time": "2020-11-24T00:07:59.927177",
     "status": "completed"
    },
    "tags": []
   },
   "outputs": [
    {
     "data": {
      "text/plain": [
       "Text(0.5, 1.0, 'Outputs')"
      ]
     },
     "execution_count": 26,
     "metadata": {},
     "output_type": "execute_result"
    },
    {
     "data": {
      "image/png": "[encoded data removed]",
      "text/plain": [
       "<Figure size 576x504 with 1 Axes>"
      ]
     },
     "metadata": {
      "needs_background": "light"
     },
     "output_type": "display_data"
    }
   ],
   "source": [
    "plt.figure(figsize=(8,7))\n",
    "plt.scatter(plot_testing[:,0], plot_testing[:,1], alpha = 0.1, c = y_test.ravel());\n",
    "plt.title('Outputs')"
   ]
  },
  {
   "cell_type": "markdown",
   "metadata": {
    "papermill": {
     "duration": 0.049833,
     "end_time": "2020-11-24T00:08:00.310606",
     "exception": false,
     "start_time": "2020-11-24T00:08:00.260773",
     "status": "completed"
    },
    "tags": []
   },
   "source": [
    "### Plotting probability contours"
   ]
  },
  {
   "cell_type": "code",
   "execution_count": 27,
   "metadata": {
    "execution": {
     "iopub.execute_input": "2020-11-24T00:08:00.413843Z",
     "iopub.status.busy": "2020-11-24T00:08:00.413246Z",
     "iopub.status.idle": "2020-11-24T00:08:00.432879Z",
     "shell.execute_reply": "2020-11-24T00:08:00.433379Z"
    },
    "papermill": {
     "duration": 0.073122,
     "end_time": "2020-11-24T00:08:00.433545",
     "exception": false,
     "start_time": "2020-11-24T00:08:00.360423",
     "status": "completed"
    },
    "tags": []
   },
   "outputs": [],
   "source": [
    "model_prob = Model(layers[-2:]) "
   ]
  },
  {
   "cell_type": "code",
   "execution_count": 28,
   "metadata": {
    "execution": {
     "iopub.execute_input": "2020-11-24T00:08:00.538801Z",
     "iopub.status.busy": "2020-11-24T00:08:00.538165Z",
     "iopub.status.idle": "2020-11-24T00:08:00.551842Z",
     "shell.execute_reply": "2020-11-24T00:08:00.552320Z"
    },
    "papermill": {
     "duration": 0.069462,
     "end_time": "2020-11-24T00:08:00.552482",
     "exception": false,
     "start_time": "2020-11-24T00:08:00.483020",
     "status": "completed"
    },
    "tags": []
   },
   "outputs": [],
   "source": [
    "# Adjust the x and y ranges according to the above generated plot.\n",
    "x_range = np.linspace(-4, 1, 100) \n",
    "y_range = np.linspace(-6, 6, 100) \n",
    "x_grid, y_grid = np.meshgrid(x_range, y_range) # x_grid and y_grig are of size 100 X 100\n",
    "\n",
    "# converting x_grid and y_grid to continuous arrays\n",
    "x_grid_flat = np.ravel(x_grid)\n",
    "y_grid_flat = np.ravel(y_grid)\n",
    "\n",
    "# The last layer of the current model takes two columns as input. Hence transpose of np.vstack() is required.\n",
    "X = np.vstack((x_grid_flat, y_grid_flat)).T\n",
    "\n",
    "# x_grid and y_grid are of size 100 x 100\n",
    "probability_contour = model_prob(X).reshape(100,100) "
   ]
  },
  {
   "cell_type": "code",
   "execution_count": 29,
   "metadata": {
    "execution": {
     "iopub.execute_input": "2020-11-24T00:08:00.665784Z",
     "iopub.status.busy": "2020-11-24T00:08:00.665180Z",
     "iopub.status.idle": "2020-11-24T00:08:00.943343Z",
     "shell.execute_reply": "2020-11-24T00:08:00.942822Z"
    },
    "papermill": {
     "duration": 0.341532,
     "end_time": "2020-11-24T00:08:00.943479",
     "exception": false,
     "start_time": "2020-11-24T00:08:00.601947",
     "status": "completed"
    },
    "tags": []
   },
   "outputs": [
    {
     "data": {
      "image/png": "[encoded data removed]",
      "text/plain": [
       "<Figure size 720x648 with 1 Axes>"
      ]
     },
     "metadata": {
      "needs_background": "light"
     },
     "output_type": "display_data"
    }
   ],
   "source": [
    "plt.figure(figsize=(10,9))\n",
    "plt.scatter(plot_testing[:,0], plot_testing[:,1], alpha = 0.1, c = y_test.ravel())\n",
    "contours = plt.contour(x_grid,y_grid,probability_contour)\n",
    "plt.title('Probability Contours')\n",
    "plt.clabel(contours, inline = True );"
   ]
  }
 ],
 "metadata": {
  "kernelspec": {
   "display_name": "Python 3",
   "language": "python",
   "name": "python3"
  },
  "language_info": {
   "codemirror_mode": {
    "name": "ipython",
    "version": 3
   },
   "file_extension": ".py",
   "mimetype": "text/x-python",
   "name": "python",
   "nbconvert_exporter": "python",
   "pygments_lexer": "ipython3",
   "version": "3.6.12"
  },
  "papermill": {
   "duration": 122.931185,
   "end_time": "2020-11-24T00:08:01.405190",
   "environment_variables": {},
   "exception": null,
   "input_path": "2020-08-11-NeuralNetwork.ipynb",
   "output_path": "2020-08-11-NeuralNetwork.ipynb",
   "parameters": {},
   "start_time": "2020-11-24T00:05:58.474005",
   "version": "2.1.2"
  }
 },
 "nbformat": 4,
 "nbformat_minor": 4
}