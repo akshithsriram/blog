{
 "cells": [
  {
   "cell_type": "markdown",
   "metadata": {
    "papermill": {
     "duration": 0.033421,
     "end_time": "2021-01-01T20:09:38.347474",
     "exception": false,
     "start_time": "2021-01-01T20:09:38.314053",
     "status": "completed"
    },
    "tags": []
   },
   "source": [
    "# \"A Basic Neural Network: Differentiate Hand-Written Digits\"\n",
    "\n",
    "- badges: true\n",
    "- author: Akshith Sriram"
   ]
  },
  {
   "cell_type": "markdown",
   "metadata": {
    "papermill": {
     "duration": 0.034229,
     "end_time": "2021-01-01T20:09:38.411844",
     "exception": false,
     "start_time": "2021-01-01T20:09:38.377615",
     "status": "completed"
    },
    "tags": []
   },
   "source": [
    "### Key Objectives:\n",
    "- Building a neural network that differentiates two hand-written digits 3 and 8.\n",
    "- Comparing the results of this Neural Network (NN) to that of a Logistic Regression (LR) model.\n",
    "\n",
    "### Requirements:\n",
    "- 'Kudzu' : A neural network library that was designed during our course by [Univ.AI](www.univ.ai). \n",
    "- MNIST Database\n",
    "\n",
    "If MNIST is not installed, use the command `!pip install mnist` given below.\n",
    "It can be run both from the command line and Jupyter Notebook."
   ]
  },
  {
   "cell_type": "code",
   "execution_count": 1,
   "metadata": {
    "execution": {
     "iopub.execute_input": "2021-01-01T20:09:38.483955Z",
     "iopub.status.busy": "2021-01-01T20:09:38.483227Z",
     "iopub.status.idle": "2021-01-01T20:09:40.363405Z",
     "shell.execute_reply": "2021-01-01T20:09:40.363982Z"
    },
    "papermill": {
     "duration": 1.921872,
     "end_time": "2021-01-01T20:09:40.364193",
     "exception": false,
     "start_time": "2021-01-01T20:09:38.442321",
     "status": "completed"
    },
    "tags": []
   },
   "outputs": [
    {
     "name": "stdout",
     "output_type": "stream",
     "text": [
      "Collecting mnist\r\n"
     ]
    },
    {
     "name": "stdout",
     "output_type": "stream",
     "text": [
      "  Downloading mnist-0.2.2-py2.py3-none-any.whl (3.5 kB)\r\n",
      "Requirement already satisfied: numpy in /opt/hostedtoolcache/Python/3.6.12/x64/lib/python3.6/site-packages (from mnist) (1.19.4)\r\n"
     ]
    },
    {
     "name": "stdout",
     "output_type": "stream",
     "text": [
      "Installing collected packages: mnist\r\n"
     ]
    },
    {
     "name": "stdout",
     "output_type": "stream",
     "text": [
      "Successfully installed mnist-0.2.2\r\n"
     ]
    },
    {
     "name": "stdout",
     "output_type": "stream",
     "text": [
      "\u001b[33mWARNING: You are using pip version 20.3.1; however, version 20.3.3 is available.\r\n",
      "You should consider upgrading via the '/opt/hostedtoolcache/Python/3.6.12/x64/bin/python -m pip install --upgrade pip' command.\u001b[0m\r\n"
     ]
    }
   ],
   "source": [
    "!pip install mnist "
   ]
  },
  {
   "cell_type": "markdown",
   "metadata": {
    "papermill": {
     "duration": 0.031745,
     "end_time": "2021-01-01T20:09:40.427429",
     "exception": false,
     "start_time": "2021-01-01T20:09:40.395684",
     "status": "completed"
    },
    "tags": []
   },
   "source": [
    "#### Importing necessary libraries"
   ]
  },
  {
   "cell_type": "code",
   "execution_count": 2,
   "metadata": {
    "execution": {
     "iopub.execute_input": "2021-01-01T20:09:40.500552Z",
     "iopub.status.busy": "2021-01-01T20:09:40.499824Z",
     "iopub.status.idle": "2021-01-01T20:09:41.174478Z",
     "shell.execute_reply": "2021-01-01T20:09:41.173461Z"
    },
    "papermill": {
     "duration": 0.715531,
     "end_time": "2021-01-01T20:09:41.174694",
     "exception": false,
     "start_time": "2021-01-01T20:09:40.459163",
     "status": "completed"
    },
    "tags": []
   },
   "outputs": [],
   "source": [
    "%load_ext autoreload\n",
    "%autoreload 2\n",
    "\n",
    "%matplotlib inline\n",
    "import matplotlib.pyplot as plt\n",
    "\n",
    "import numpy as np\n",
    "import pandas as pd"
   ]
  },
  {
   "cell_type": "markdown",
   "metadata": {
    "papermill": {
     "duration": 0.031968,
     "end_time": "2021-01-01T20:09:41.241595",
     "exception": false,
     "start_time": "2021-01-01T20:09:41.209627",
     "status": "completed"
    },
    "tags": []
   },
   "source": [
    "### Preparing the Data"
   ]
  },
  {
   "cell_type": "code",
   "execution_count": 3,
   "metadata": {
    "execution": {
     "iopub.execute_input": "2021-01-01T20:09:41.317133Z",
     "iopub.status.busy": "2021-01-01T20:09:41.309490Z",
     "iopub.status.idle": "2021-01-01T20:09:41.322492Z",
     "shell.execute_reply": "2021-01-01T20:09:41.321890Z"
    },
    "papermill": {
     "duration": 0.049989,
     "end_time": "2021-01-01T20:09:41.322645",
     "exception": false,
     "start_time": "2021-01-01T20:09:41.272656",
     "status": "completed"
    },
    "tags": []
   },
   "outputs": [],
   "source": [
    "import mnist"
   ]
  },
  {
   "cell_type": "code",
   "execution_count": 4,
   "metadata": {
    "execution": {
     "iopub.execute_input": "2021-01-01T20:09:41.391709Z",
     "iopub.status.busy": "2021-01-01T20:09:41.391017Z",
     "iopub.status.idle": "2021-01-01T20:09:43.097417Z",
     "shell.execute_reply": "2021-01-01T20:09:43.096838Z"
    },
    "papermill": {
     "duration": 1.74359,
     "end_time": "2021-01-01T20:09:43.097570",
     "exception": false,
     "start_time": "2021-01-01T20:09:41.353980",
     "status": "completed"
    },
    "tags": []
   },
   "outputs": [],
   "source": [
    "train_images = mnist.train_images()\n",
    "train_labels = mnist.train_labels()"
   ]
  },
  {
   "cell_type": "code",
   "execution_count": 5,
   "metadata": {
    "execution": {
     "iopub.execute_input": "2021-01-01T20:09:43.166684Z",
     "iopub.status.busy": "2021-01-01T20:09:43.165996Z",
     "iopub.status.idle": "2021-01-01T20:09:43.182779Z",
     "shell.execute_reply": "2021-01-01T20:09:43.183502Z"
    },
    "papermill": {
     "duration": 0.055239,
     "end_time": "2021-01-01T20:09:43.183680",
     "exception": false,
     "start_time": "2021-01-01T20:09:43.128441",
     "status": "completed"
    },
    "tags": []
   },
   "outputs": [
    {
     "data": {
      "text/plain": [
       "((60000, 28, 28), (60000,))"
      ]
     },
     "execution_count": 5,
     "metadata": {},
     "output_type": "execute_result"
    }
   ],
   "source": [
    "train_images.shape, train_labels.shape"
   ]
  },
  {
   "cell_type": "code",
   "execution_count": 6,
   "metadata": {
    "execution": {
     "iopub.execute_input": "2021-01-01T20:09:43.253473Z",
     "iopub.status.busy": "2021-01-01T20:09:43.252727Z",
     "iopub.status.idle": "2021-01-01T20:09:44.113160Z",
     "shell.execute_reply": "2021-01-01T20:09:44.112553Z"
    },
    "papermill": {
     "duration": 0.898206,
     "end_time": "2021-01-01T20:09:44.113298",
     "exception": false,
     "start_time": "2021-01-01T20:09:43.215092",
     "status": "completed"
    },
    "tags": []
   },
   "outputs": [],
   "source": [
    "test_images = mnist.test_images()\n",
    "test_labels = mnist.test_labels()"
   ]
  },
  {
   "cell_type": "code",
   "execution_count": 7,
   "metadata": {
    "execution": {
     "iopub.execute_input": "2021-01-01T20:09:44.183688Z",
     "iopub.status.busy": "2021-01-01T20:09:44.183039Z",
     "iopub.status.idle": "2021-01-01T20:09:44.199364Z",
     "shell.execute_reply": "2021-01-01T20:09:44.199950Z"
    },
    "papermill": {
     "duration": 0.055469,
     "end_time": "2021-01-01T20:09:44.200112",
     "exception": false,
     "start_time": "2021-01-01T20:09:44.144643",
     "status": "completed"
    },
    "tags": []
   },
   "outputs": [
    {
     "data": {
      "text/plain": [
       "((10000, 28, 28), (10000,))"
      ]
     },
     "execution_count": 7,
     "metadata": {},
     "output_type": "execute_result"
    }
   ],
   "source": [
    "test_images.shape, test_labels.shape"
   ]
  },
  {
   "cell_type": "code",
   "execution_count": 8,
   "metadata": {
    "execution": {
     "iopub.execute_input": "2021-01-01T20:09:44.270217Z",
     "iopub.status.busy": "2021-01-01T20:09:44.269523Z",
     "iopub.status.idle": "2021-01-01T20:09:44.451584Z",
     "shell.execute_reply": "2021-01-01T20:09:44.452068Z"
    },
    "papermill": {
     "duration": 0.221348,
     "end_time": "2021-01-01T20:09:44.452336",
     "exception": false,
     "start_time": "2021-01-01T20:09:44.230988",
     "status": "completed"
    },
    "tags": []
   },
   "outputs": [
    {
     "name": "stdout",
     "output_type": "stream",
     "text": [
      "2\n"
     ]
    },
    {
     "data": {
      "text/plain": [
       "<matplotlib.image.AxesImage at 0x7fb6af1422b0>"
      ]
     },
     "execution_count": 8,
     "metadata": {},
     "output_type": "execute_result"
    },
    {
     "data": {
      "image/png": "[encoded data removed]",
      "text/plain": [
       "<Figure size 432x288 with 1 Axes>"
      ]
     },
     "metadata": {
      "needs_background": "light"
     },
     "output_type": "display_data"
    }
   ],
   "source": [
    "image_index = 7776 # You may select anything up to 60,000\n",
    "print(train_labels[image_index]) \n",
    "plt.imshow(train_images[image_index], cmap='Greys')"
   ]
  },
  {
   "cell_type": "markdown",
   "metadata": {
    "papermill": {
     "duration": 0.090712,
     "end_time": "2021-01-01T20:09:44.576491",
     "exception": false,
     "start_time": "2021-01-01T20:09:44.485779",
     "status": "completed"
    },
    "tags": []
   },
   "source": [
    "## Filter data to get 3 and 8 out"
   ]
  },
  {
   "cell_type": "code",
   "execution_count": 9,
   "metadata": {
    "execution": {
     "iopub.execute_input": "2021-01-01T20:09:44.650488Z",
     "iopub.status.busy": "2021-01-01T20:09:44.649839Z",
     "iopub.status.idle": "2021-01-01T20:09:44.668322Z",
     "shell.execute_reply": "2021-01-01T20:09:44.667726Z"
    },
    "papermill": {
     "duration": 0.059293,
     "end_time": "2021-01-01T20:09:44.668468",
     "exception": false,
     "start_time": "2021-01-01T20:09:44.609175",
     "status": "completed"
    },
    "tags": []
   },
   "outputs": [],
   "source": [
    "train_filter = np.where((train_labels == 3 ) | (train_labels == 8))\n",
    "test_filter = np.where((test_labels == 3) | (test_labels == 8))\n",
    "X_train, y_train = train_images[train_filter], train_labels[train_filter]\n",
    "X_test, y_test = test_images[test_filter], test_labels[test_filter]"
   ]
  },
  {
   "cell_type": "markdown",
   "metadata": {
    "papermill": {
     "duration": 0.033005,
     "end_time": "2021-01-01T20:09:44.736772",
     "exception": false,
     "start_time": "2021-01-01T20:09:44.703767",
     "status": "completed"
    },
    "tags": []
   },
   "source": [
    "We normalize the pixel values in the 0 to 1 range"
   ]
  },
  {
   "cell_type": "code",
   "execution_count": 10,
   "metadata": {
    "execution": {
     "iopub.execute_input": "2021-01-01T20:09:44.810515Z",
     "iopub.status.busy": "2021-01-01T20:09:44.809782Z",
     "iopub.status.idle": "2021-01-01T20:09:44.876786Z",
     "shell.execute_reply": "2021-01-01T20:09:44.876096Z"
    },
    "papermill": {
     "duration": 0.1062,
     "end_time": "2021-01-01T20:09:44.876943",
     "exception": false,
     "start_time": "2021-01-01T20:09:44.770743",
     "status": "completed"
    },
    "tags": []
   },
   "outputs": [],
   "source": [
    "X_train = X_train/255.\n",
    "X_test = X_test/255."
   ]
  },
  {
   "cell_type": "markdown",
   "metadata": {
    "papermill": {
     "duration": 0.032911,
     "end_time": "2021-01-01T20:09:44.946667",
     "exception": false,
     "start_time": "2021-01-01T20:09:44.913756",
     "status": "completed"
    },
    "tags": []
   },
   "source": [
    "Setup the labels as 1 (when the digit is 3) and 0 (when the digit is 8)"
   ]
  },
  {
   "cell_type": "code",
   "execution_count": 11,
   "metadata": {
    "execution": {
     "iopub.execute_input": "2021-01-01T20:09:45.021127Z",
     "iopub.status.busy": "2021-01-01T20:09:45.019898Z",
     "iopub.status.idle": "2021-01-01T20:09:45.033670Z",
     "shell.execute_reply": "2021-01-01T20:09:45.033090Z"
    },
    "papermill": {
     "duration": 0.052987,
     "end_time": "2021-01-01T20:09:45.033813",
     "exception": false,
     "start_time": "2021-01-01T20:09:44.980826",
     "status": "completed"
    },
    "tags": []
   },
   "outputs": [],
   "source": [
    "y_train = 1*(y_train==3)\n",
    "y_test = 1*(y_test==3)"
   ]
  },
  {
   "cell_type": "code",
   "execution_count": 12,
   "metadata": {
    "execution": {
     "iopub.execute_input": "2021-01-01T20:09:45.107476Z",
     "iopub.status.busy": "2021-01-01T20:09:45.106802Z",
     "iopub.status.idle": "2021-01-01T20:09:45.121607Z",
     "shell.execute_reply": "2021-01-01T20:09:45.121030Z"
    },
    "papermill": {
     "duration": 0.053275,
     "end_time": "2021-01-01T20:09:45.121815",
     "exception": false,
     "start_time": "2021-01-01T20:09:45.068540",
     "status": "completed"
    },
    "tags": []
   },
   "outputs": [
    {
     "data": {
      "text/plain": [
       "((11982, 28, 28), (1984, 28, 28))"
      ]
     },
     "execution_count": 12,
     "metadata": {},
     "output_type": "execute_result"
    }
   ],
   "source": [
    "X_train.shape, X_test.shape"
   ]
  },
  {
   "cell_type": "markdown",
   "metadata": {
    "papermill": {
     "duration": 0.03392,
     "end_time": "2021-01-01T20:09:45.189264",
     "exception": false,
     "start_time": "2021-01-01T20:09:45.155344",
     "status": "completed"
    },
    "tags": []
   },
   "source": [
    "### Reshape the input data to create a linear array"
   ]
  },
  {
   "cell_type": "code",
   "execution_count": 13,
   "metadata": {
    "execution": {
     "iopub.execute_input": "2021-01-01T20:09:45.263820Z",
     "iopub.status.busy": "2021-01-01T20:09:45.263157Z",
     "iopub.status.idle": "2021-01-01T20:09:45.277982Z",
     "shell.execute_reply": "2021-01-01T20:09:45.279883Z"
    },
    "papermill": {
     "duration": 0.05638,
     "end_time": "2021-01-01T20:09:45.280068",
     "exception": false,
     "start_time": "2021-01-01T20:09:45.223688",
     "status": "completed"
    },
    "tags": []
   },
   "outputs": [
    {
     "data": {
      "text/plain": [
       "((11982, 784), (1984, 784))"
      ]
     },
     "execution_count": 13,
     "metadata": {},
     "output_type": "execute_result"
    }
   ],
   "source": [
    "X_train = X_train.reshape(X_train.shape[0], -1)\n",
    "X_test = X_test.reshape(X_test.shape[0], -1)\n",
    "X_train.shape, X_test.shape"
   ]
  },
  {
   "cell_type": "markdown",
   "metadata": {
    "papermill": {
     "duration": 0.034957,
     "end_time": "2021-01-01T20:09:45.348609",
     "exception": false,
     "start_time": "2021-01-01T20:09:45.313652",
     "status": "completed"
    },
    "tags": []
   },
   "source": [
    "### Importing appropriate functions from 'Kudzu'"
   ]
  },
  {
   "cell_type": "code",
   "execution_count": 14,
   "metadata": {
    "execution": {
     "iopub.execute_input": "2021-01-01T20:09:45.423548Z",
     "iopub.status.busy": "2021-01-01T20:09:45.422840Z",
     "iopub.status.idle": "2021-01-01T20:09:45.444362Z",
     "shell.execute_reply": "2021-01-01T20:09:45.443656Z"
    },
    "papermill": {
     "duration": 0.060992,
     "end_time": "2021-01-01T20:09:45.444518",
     "exception": false,
     "start_time": "2021-01-01T20:09:45.383526",
     "status": "completed"
    },
    "tags": []
   },
   "outputs": [],
   "source": [
    "from kudzu.layer import Sigmoid\n",
    "from kudzu.layer import Relu\n",
    "from kudzu.layer import Affine, Sigmoid\n",
    "\n",
    "from kudzu.model import Model\n",
    "from kudzu.train import Learner\n",
    "from kudzu.optim import GD\n",
    "from kudzu.data import Data, Dataloader, Sampler\n",
    "\n",
    "from kudzu.callbacks import AccCallback\n",
    "from kudzu.callbacks import ClfCallback\n",
    "\n",
    "from kudzu.loss import MSE"
   ]
  },
  {
   "cell_type": "markdown",
   "metadata": {
    "papermill": {
     "duration": 0.034934,
     "end_time": "2021-01-01T20:09:45.513151",
     "exception": false,
     "start_time": "2021-01-01T20:09:45.478217",
     "status": "completed"
    },
    "tags": []
   },
   "source": [
    "### Let us create a `Config` class, to store important parameters. \n",
    "This class essentially plays the role of a dictionary."
   ]
  },
  {
   "cell_type": "code",
   "execution_count": 15,
   "metadata": {
    "execution": {
     "iopub.execute_input": "2021-01-01T20:09:45.590311Z",
     "iopub.status.busy": "2021-01-01T20:09:45.589570Z",
     "iopub.status.idle": "2021-01-01T20:09:45.603923Z",
     "shell.execute_reply": "2021-01-01T20:09:45.603268Z"
    },
    "papermill": {
     "duration": 0.052316,
     "end_time": "2021-01-01T20:09:45.604078",
     "exception": false,
     "start_time": "2021-01-01T20:09:45.551762",
     "status": "completed"
    },
    "tags": []
   },
   "outputs": [],
   "source": [
    "class Config:\n",
    "    pass\n",
    "config = Config()\n",
    "config.lr = 0.001\n",
    "config.num_epochs = 251\n",
    "config.bs = 50"
   ]
  },
  {
   "cell_type": "markdown",
   "metadata": {
    "papermill": {
     "duration": 0.034277,
     "end_time": "2021-01-01T20:09:45.673167",
     "exception": false,
     "start_time": "2021-01-01T20:09:45.638890",
     "status": "completed"
    },
    "tags": []
   },
   "source": [
    "### Initializing data to the variables"
   ]
  },
  {
   "cell_type": "code",
   "execution_count": 16,
   "metadata": {
    "execution": {
     "iopub.execute_input": "2021-01-01T20:09:45.745240Z",
     "iopub.status.busy": "2021-01-01T20:09:45.744499Z",
     "iopub.status.idle": "2021-01-01T20:09:45.760354Z",
     "shell.execute_reply": "2021-01-01T20:09:45.759706Z"
    },
    "papermill": {
     "duration": 0.053986,
     "end_time": "2021-01-01T20:09:45.760522",
     "exception": false,
     "start_time": "2021-01-01T20:09:45.706536",
     "status": "completed"
    },
    "tags": []
   },
   "outputs": [],
   "source": [
    "data = Data(X_train, y_train.reshape(-1,1))\n",
    "sampler = Sampler(data, config.bs, shuffle=True)\n",
    "\n",
    "dl = Dataloader(data, sampler)\n",
    "\n",
    "opt = GD(config.lr)\n",
    "loss = MSE()"
   ]
  },
  {
   "cell_type": "code",
   "execution_count": 17,
   "metadata": {
    "execution": {
     "iopub.execute_input": "2021-01-01T20:09:45.837508Z",
     "iopub.status.busy": "2021-01-01T20:09:45.836796Z",
     "iopub.status.idle": "2021-01-01T20:09:45.851405Z",
     "shell.execute_reply": "2021-01-01T20:09:45.850756Z"
    },
    "papermill": {
     "duration": 0.056204,
     "end_time": "2021-01-01T20:09:45.851565",
     "exception": false,
     "start_time": "2021-01-01T20:09:45.795361",
     "status": "completed"
    },
    "tags": []
   },
   "outputs": [],
   "source": [
    "training_xdata = X_train\n",
    "testing_xdata = X_test\n",
    "training_ydata = y_train.reshape(-1,1)\n",
    "testing_ydata = y_test.reshape(-1,1)"
   ]
  },
  {
   "cell_type": "markdown",
   "metadata": {
    "papermill": {
     "duration": 0.033858,
     "end_time": "2021-01-01T20:09:45.918645",
     "exception": false,
     "start_time": "2021-01-01T20:09:45.884787",
     "status": "completed"
    },
    "tags": []
   },
   "source": [
    "### Running Models with the Training data\n",
    "Details about the network layers:\n",
    "- A first affine layer has 784 inputs and does 100 affine transforms. These are followed by a Relu\n",
    "- A second affine layer has 100 inputs from the 100 activations of the past layer, and does 100 affine transforms. These are followed by a Relu\n",
    "- A third affine layer has 100 activations and does 2 affine transformations to create an embedding for visualization. There is no non-linearity here.\n",
    "- A final \"logistic regression\" which has an affine transform from 2 inputs to 1 output, which is squeezed through a sigmoid.\n",
    "\n",
    "Help taken from Anshuman's Notebook."
   ]
  },
  {
   "cell_type": "code",
   "execution_count": 18,
   "metadata": {
    "execution": {
     "iopub.execute_input": "2021-01-01T20:09:45.995277Z",
     "iopub.status.busy": "2021-01-01T20:09:45.994576Z",
     "iopub.status.idle": "2021-01-01T20:09:46.012284Z",
     "shell.execute_reply": "2021-01-01T20:09:46.011633Z"
    },
    "papermill": {
     "duration": 0.059232,
     "end_time": "2021-01-01T20:09:46.012433",
     "exception": false,
     "start_time": "2021-01-01T20:09:45.953201",
     "status": "completed"
    },
    "tags": []
   },
   "outputs": [],
   "source": [
    "# layers for the Neural Network\n",
    "layers = [Affine(\"first\", 784, 100), Relu(\"first\"), Affine(\"second\", 100, 100), Relu(\"second\"), Affine(\"third\", 100, 2), Affine(\"final\", 2, 1), Sigmoid(\"final\")]\n",
    "model_nn = Model(layers)\n",
    "\n",
    "# layers for the Logistic Regression\n",
    "layers_lr = [Affine(\"logits\", 784, 1), Sigmoid(\"sigmoid\")]\n",
    "model_lr = Model(layers_lr)"
   ]
  },
  {
   "cell_type": "code",
   "execution_count": 19,
   "metadata": {
    "execution": {
     "iopub.execute_input": "2021-01-01T20:09:46.086393Z",
     "iopub.status.busy": "2021-01-01T20:09:46.085732Z",
     "iopub.status.idle": "2021-01-01T20:09:46.099086Z",
     "shell.execute_reply": "2021-01-01T20:09:46.099741Z"
    },
    "papermill": {
     "duration": 0.053112,
     "end_time": "2021-01-01T20:09:46.099896",
     "exception": false,
     "start_time": "2021-01-01T20:09:46.046784",
     "status": "completed"
    },
    "tags": []
   },
   "outputs": [],
   "source": [
    "# suffix _nn stands for Neural Network.\n",
    "learner_nn = Learner(loss, model_nn, opt, config.num_epochs)\n",
    "acc_nn = ClfCallback(learner_nn, config.bs, training_xdata , testing_xdata, training_ydata, testing_ydata)\n",
    "learner_nn.set_callbacks([acc_nn])"
   ]
  },
  {
   "cell_type": "code",
   "execution_count": 20,
   "metadata": {
    "execution": {
     "iopub.execute_input": "2021-01-01T20:09:46.171870Z",
     "iopub.status.busy": "2021-01-01T20:09:46.171163Z",
     "iopub.status.idle": "2021-01-01T20:12:07.909347Z",
     "shell.execute_reply": "2021-01-01T20:12:07.908837Z"
    },
    "papermill": {
     "duration": 141.775888,
     "end_time": "2021-01-01T20:12:07.909505",
     "exception": false,
     "start_time": "2021-01-01T20:09:46.133617",
     "status": "completed"
    },
    "tags": []
   },
   "outputs": [
    {
     "name": "stdout",
     "output_type": "stream",
     "text": [
      "====== Neural Network ======\n"
     ]
    },
    {
     "name": "stdout",
     "output_type": "stream",
     "text": [
      "Epoch 0, Loss 0.2477\n",
      "Training Accuracy: 0.6116, Testing Accuracy: 0.6457\n",
      "\n"
     ]
    },
    {
     "name": "stdout",
     "output_type": "stream",
     "text": [
      "Epoch 10, Loss 0.1049\n",
      "Training Accuracy: 0.9125, Testing Accuracy: 0.9269\n",
      "\n"
     ]
    },
    {
     "name": "stdout",
     "output_type": "stream",
     "text": [
      "Epoch 20, Loss 0.0616\n",
      "Training Accuracy: 0.9375, Testing Accuracy: 0.9456\n",
      "\n"
     ]
    },
    {
     "name": "stdout",
     "output_type": "stream",
     "text": [
      "Epoch 30, Loss 0.0473\n",
      "Training Accuracy: 0.9492, Testing Accuracy: 0.9577\n",
      "\n"
     ]
    },
    {
     "name": "stdout",
     "output_type": "stream",
     "text": [
      "Epoch 40, Loss 0.0404\n",
      "Training Accuracy: 0.9552, Testing Accuracy: 0.9632\n",
      "\n"
     ]
    },
    {
     "name": "stdout",
     "output_type": "stream",
     "text": [
      "Epoch 50, Loss 0.0362\n",
      "Training Accuracy: 0.9586, Testing Accuracy: 0.9647\n",
      "\n"
     ]
    },
    {
     "name": "stdout",
     "output_type": "stream",
     "text": [
      "Epoch 60, Loss 0.0335\n",
      "Training Accuracy: 0.9614, Testing Accuracy: 0.9662\n",
      "\n"
     ]
    },
    {
     "name": "stdout",
     "output_type": "stream",
     "text": [
      "Epoch 70, Loss 0.0314\n",
      "Training Accuracy: 0.9642, Testing Accuracy: 0.9682\n",
      "\n"
     ]
    },
    {
     "name": "stdout",
     "output_type": "stream",
     "text": [
      "Epoch 80, Loss 0.0298\n",
      "Training Accuracy: 0.9657, Testing Accuracy: 0.9703\n",
      "\n"
     ]
    },
    {
     "name": "stdout",
     "output_type": "stream",
     "text": [
      "Epoch 90, Loss 0.0285\n",
      "Training Accuracy: 0.9672, Testing Accuracy: 0.9703\n",
      "\n"
     ]
    },
    {
     "name": "stdout",
     "output_type": "stream",
     "text": [
      "Epoch 100, Loss 0.0275\n",
      "Training Accuracy: 0.9682, Testing Accuracy: 0.9713\n",
      "\n"
     ]
    },
    {
     "name": "stdout",
     "output_type": "stream",
     "text": [
      "Epoch 110, Loss 0.0266\n",
      "Training Accuracy: 0.9693, Testing Accuracy: 0.9713\n",
      "\n"
     ]
    },
    {
     "name": "stdout",
     "output_type": "stream",
     "text": [
      "Epoch 120, Loss 0.0258\n",
      "Training Accuracy: 0.9704, Testing Accuracy: 0.9718\n",
      "\n"
     ]
    },
    {
     "name": "stdout",
     "output_type": "stream",
     "text": [
      "Epoch 130, Loss 0.0251\n",
      "Training Accuracy: 0.9710, Testing Accuracy: 0.9713\n",
      "\n"
     ]
    },
    {
     "name": "stdout",
     "output_type": "stream",
     "text": [
      "Epoch 140, Loss 0.0244\n",
      "Training Accuracy: 0.9717, Testing Accuracy: 0.9718\n",
      "\n"
     ]
    },
    {
     "name": "stdout",
     "output_type": "stream",
     "text": [
      "Epoch 150, Loss 0.0238\n",
      "Training Accuracy: 0.9730, Testing Accuracy: 0.9723\n",
      "\n"
     ]
    },
    {
     "name": "stdout",
     "output_type": "stream",
     "text": [
      "Epoch 160, Loss 0.0233\n",
      "Training Accuracy: 0.9735, Testing Accuracy: 0.9723\n",
      "\n"
     ]
    },
    {
     "name": "stdout",
     "output_type": "stream",
     "text": [
      "Epoch 170, Loss 0.0228\n",
      "Training Accuracy: 0.9740, Testing Accuracy: 0.9718\n",
      "\n"
     ]
    },
    {
     "name": "stdout",
     "output_type": "stream",
     "text": [
      "Epoch 180, Loss 0.0224\n",
      "Training Accuracy: 0.9742, Testing Accuracy: 0.9718\n",
      "\n"
     ]
    },
    {
     "name": "stdout",
     "output_type": "stream",
     "text": [
      "Epoch 190, Loss 0.022\n",
      "Training Accuracy: 0.9746, Testing Accuracy: 0.9718\n",
      "\n"
     ]
    },
    {
     "name": "stdout",
     "output_type": "stream",
     "text": [
      "Epoch 200, Loss 0.0215\n",
      "Training Accuracy: 0.9751, Testing Accuracy: 0.9713\n",
      "\n"
     ]
    },
    {
     "name": "stdout",
     "output_type": "stream",
     "text": [
      "Epoch 210, Loss 0.0212\n",
      "Training Accuracy: 0.9756, Testing Accuracy: 0.9718\n",
      "\n"
     ]
    },
    {
     "name": "stdout",
     "output_type": "stream",
     "text": [
      "Epoch 220, Loss 0.0208\n",
      "Training Accuracy: 0.9758, Testing Accuracy: 0.9713\n",
      "\n"
     ]
    },
    {
     "name": "stdout",
     "output_type": "stream",
     "text": [
      "Epoch 230, Loss 0.0205\n",
      "Training Accuracy: 0.9765, Testing Accuracy: 0.9718\n",
      "\n"
     ]
    },
    {
     "name": "stdout",
     "output_type": "stream",
     "text": [
      "Epoch 240, Loss 0.0201\n",
      "Training Accuracy: 0.9769, Testing Accuracy: 0.9723\n",
      "\n"
     ]
    },
    {
     "name": "stdout",
     "output_type": "stream",
     "text": [
      "Epoch 250, Loss 0.0198\n",
      "Training Accuracy: 0.9770, Testing Accuracy: 0.9723\n",
      "\n"
     ]
    },
    {
     "data": {
      "text/plain": [
       "0.015144035775366809"
      ]
     },
     "execution_count": 20,
     "metadata": {},
     "output_type": "execute_result"
    }
   ],
   "source": [
    "print(\"====== Neural Network ======\")\n",
    "learner_nn.train_loop(dl)"
   ]
  },
  {
   "cell_type": "markdown",
   "metadata": {
    "papermill": {
     "duration": 0.042397,
     "end_time": "2021-01-01T20:12:07.995680",
     "exception": false,
     "start_time": "2021-01-01T20:12:07.953283",
     "status": "completed"
    },
    "tags": []
   },
   "source": [
    "### Logistic Regression based Implementation."
   ]
  },
  {
   "cell_type": "code",
   "execution_count": 21,
   "metadata": {
    "execution": {
     "iopub.execute_input": "2021-01-01T20:12:08.093407Z",
     "iopub.status.busy": "2021-01-01T20:12:08.092704Z",
     "iopub.status.idle": "2021-01-01T20:12:08.105509Z",
     "shell.execute_reply": "2021-01-01T20:12:08.104644Z"
    },
    "papermill": {
     "duration": 0.067586,
     "end_time": "2021-01-01T20:12:08.105648",
     "exception": false,
     "start_time": "2021-01-01T20:12:08.038062",
     "status": "completed"
    },
    "tags": []
   },
   "outputs": [],
   "source": [
    "learner_lr = Learner(loss, model_lr, opt, config.num_epochs)\n",
    "acc_lr = ClfCallback(learner_lr, config.bs, training_xdata , testing_xdata, training_ydata, testing_ydata)\n",
    "learner_lr.set_callbacks([acc_lr])"
   ]
  },
  {
   "cell_type": "code",
   "execution_count": 22,
   "metadata": {
    "execution": {
     "iopub.execute_input": "2021-01-01T20:12:08.204383Z",
     "iopub.status.busy": "2021-01-01T20:12:08.195664Z",
     "iopub.status.idle": "2021-01-01T20:12:29.288761Z",
     "shell.execute_reply": "2021-01-01T20:12:29.289406Z"
    },
    "papermill": {
     "duration": 21.13869,
     "end_time": "2021-01-01T20:12:29.289588",
     "exception": false,
     "start_time": "2021-01-01T20:12:08.150898",
     "status": "completed"
    },
    "tags": []
   },
   "outputs": [
    {
     "name": "stdout",
     "output_type": "stream",
     "text": [
      "====== Logistic Regression ======\n",
      "Epoch 0, Loss 0.2012\n",
      "Training Accuracy: 0.8162, Testing Accuracy: 0.8261\n",
      "\n"
     ]
    },
    {
     "name": "stdout",
     "output_type": "stream",
     "text": [
      "Epoch 10, Loss 0.0984\n",
      "Training Accuracy: 0.9135, Testing Accuracy: 0.9214\n",
      "\n"
     ]
    },
    {
     "name": "stdout",
     "output_type": "stream",
     "text": [
      "Epoch 20, Loss 0.0771\n",
      "Training Accuracy: 0.9286, Testing Accuracy: 0.9385\n",
      "\n"
     ]
    },
    {
     "name": "stdout",
     "output_type": "stream",
     "text": [
      "Epoch 30, Loss 0.067\n",
      "Training Accuracy: 0.9367, Testing Accuracy: 0.9471\n",
      "\n"
     ]
    },
    {
     "name": "stdout",
     "output_type": "stream",
     "text": [
      "Epoch 40, Loss 0.0608\n",
      "Training Accuracy: 0.9410, Testing Accuracy: 0.9496\n",
      "\n"
     ]
    },
    {
     "name": "stdout",
     "output_type": "stream",
     "text": [
      "Epoch 50, Loss 0.0565\n",
      "Training Accuracy: 0.9442, Testing Accuracy: 0.9511\n",
      "\n"
     ]
    },
    {
     "name": "stdout",
     "output_type": "stream",
     "text": [
      "Epoch 60, Loss 0.0533\n",
      "Training Accuracy: 0.9478, Testing Accuracy: 0.9541\n",
      "\n"
     ]
    },
    {
     "name": "stdout",
     "output_type": "stream",
     "text": [
      "Epoch 70, Loss 0.0509\n",
      "Training Accuracy: 0.9500, Testing Accuracy: 0.9556\n",
      "\n"
     ]
    },
    {
     "name": "stdout",
     "output_type": "stream",
     "text": [
      "Epoch 80, Loss 0.0489\n",
      "Training Accuracy: 0.9513, Testing Accuracy: 0.9577\n",
      "\n"
     ]
    },
    {
     "name": "stdout",
     "output_type": "stream",
     "text": [
      "Epoch 90, Loss 0.0473\n",
      "Training Accuracy: 0.9530, Testing Accuracy: 0.9592\n",
      "\n"
     ]
    },
    {
     "name": "stdout",
     "output_type": "stream",
     "text": [
      "Epoch 100, Loss 0.0459\n",
      "Training Accuracy: 0.9539, Testing Accuracy: 0.9612\n",
      "\n"
     ]
    },
    {
     "name": "stdout",
     "output_type": "stream",
     "text": [
      "Epoch 110, Loss 0.0447\n",
      "Training Accuracy: 0.9547, Testing Accuracy: 0.9632\n",
      "\n"
     ]
    },
    {
     "name": "stdout",
     "output_type": "stream",
     "text": [
      "Epoch 120, Loss 0.0437\n",
      "Training Accuracy: 0.9556, Testing Accuracy: 0.9652\n",
      "\n"
     ]
    },
    {
     "name": "stdout",
     "output_type": "stream",
     "text": [
      "Epoch 130, Loss 0.0428\n",
      "Training Accuracy: 0.9564, Testing Accuracy: 0.9657\n",
      "\n"
     ]
    },
    {
     "name": "stdout",
     "output_type": "stream",
     "text": [
      "Epoch 140, Loss 0.042\n",
      "Training Accuracy: 0.9569, Testing Accuracy: 0.9662\n",
      "\n"
     ]
    },
    {
     "name": "stdout",
     "output_type": "stream",
     "text": [
      "Epoch 150, Loss 0.0412\n",
      "Training Accuracy: 0.9579, Testing Accuracy: 0.9667\n",
      "\n"
     ]
    },
    {
     "name": "stdout",
     "output_type": "stream",
     "text": [
      "Epoch 160, Loss 0.0406\n",
      "Training Accuracy: 0.9583, Testing Accuracy: 0.9662\n",
      "\n"
     ]
    },
    {
     "name": "stdout",
     "output_type": "stream",
     "text": [
      "Epoch 170, Loss 0.04\n",
      "Training Accuracy: 0.9585, Testing Accuracy: 0.9662\n",
      "\n"
     ]
    },
    {
     "name": "stdout",
     "output_type": "stream",
     "text": [
      "Epoch 180, Loss 0.0394\n",
      "Training Accuracy: 0.9591, Testing Accuracy: 0.9677\n",
      "\n"
     ]
    },
    {
     "name": "stdout",
     "output_type": "stream",
     "text": [
      "Epoch 190, Loss 0.0389\n",
      "Training Accuracy: 0.9594, Testing Accuracy: 0.9677\n",
      "\n"
     ]
    },
    {
     "name": "stdout",
     "output_type": "stream",
     "text": [
      "Epoch 200, Loss 0.0384\n",
      "Training Accuracy: 0.9594, Testing Accuracy: 0.9677\n",
      "\n"
     ]
    },
    {
     "name": "stdout",
     "output_type": "stream",
     "text": [
      "Epoch 210, Loss 0.038\n",
      "Training Accuracy: 0.9594, Testing Accuracy: 0.9677\n",
      "\n"
     ]
    },
    {
     "name": "stdout",
     "output_type": "stream",
     "text": [
      "Epoch 220, Loss 0.0376\n",
      "Training Accuracy: 0.9596, Testing Accuracy: 0.9677\n",
      "\n"
     ]
    },
    {
     "name": "stdout",
     "output_type": "stream",
     "text": [
      "Epoch 230, Loss 0.0372\n",
      "Training Accuracy: 0.9602, Testing Accuracy: 0.9677\n",
      "\n"
     ]
    },
    {
     "name": "stdout",
     "output_type": "stream",
     "text": [
      "Epoch 240, Loss 0.0369\n",
      "Training Accuracy: 0.9606, Testing Accuracy: 0.9677\n",
      "\n"
     ]
    },
    {
     "name": "stdout",
     "output_type": "stream",
     "text": [
      "Epoch 250, Loss 0.0365\n",
      "Training Accuracy: 0.9608, Testing Accuracy: 0.9677\n",
      "\n"
     ]
    },
    {
     "data": {
      "text/plain": [
       "0.026140620593753862"
      ]
     },
     "execution_count": 22,
     "metadata": {},
     "output_type": "execute_result"
    }
   ],
   "source": [
    "print(\"====== Logistic Regression ======\")\n",
    "learner_lr.train_loop(dl)"
   ]
  },
  {
   "cell_type": "markdown",
   "metadata": {
    "papermill": {
     "duration": 0.058084,
     "end_time": "2021-01-01T20:12:29.400486",
     "exception": false,
     "start_time": "2021-01-01T20:12:29.342402",
     "status": "completed"
    },
    "tags": []
   },
   "source": [
    "### Comparing results of NN and LR"
   ]
  },
  {
   "cell_type": "code",
   "execution_count": 23,
   "metadata": {
    "execution": {
     "iopub.execute_input": "2021-01-01T20:12:29.521920Z",
     "iopub.status.busy": "2021-01-01T20:12:29.518806Z",
     "iopub.status.idle": "2021-01-01T20:12:29.804073Z",
     "shell.execute_reply": "2021-01-01T20:12:29.803142Z"
    },
    "papermill": {
     "duration": 0.346901,
     "end_time": "2021-01-01T20:12:29.804245",
     "exception": false,
     "start_time": "2021-01-01T20:12:29.457344",
     "status": "completed"
    },
    "tags": []
   },
   "outputs": [
    {
     "data": {
      "text/plain": [
       "<matplotlib.legend.Legend at 0x7fb6aed18be0>"
      ]
     },
     "execution_count": 23,
     "metadata": {},
     "output_type": "execute_result"
    },
    {
     "data": {
      "image/png": "[encoded data removed]",
      "text/plain": [
       "<Figure size 1080x720 with 1 Axes>"
      ]
     },
     "metadata": {
      "needs_background": "light"
     },
     "output_type": "display_data"
    }
   ],
   "source": [
    "plt.figure(figsize=(15,10))\n",
    "\n",
    "# Neural Network plots\n",
    "plt.plot(acc_nn.accuracies, 'r-', label = \"Training Accuracies - NN\")\n",
    "plt.plot(acc_nn.test_accuracies, 'g-', label = \"Testing Accuracies - NN\")\n",
    "\n",
    "# Logistic Regression plots\n",
    "plt.plot(acc_lr.accuracies, 'k-', label = \"Training Accuracies - LR\")\n",
    "plt.plot(acc_lr.test_accuracies, 'b-', label = \"Testing Accuracies - LR\")\n",
    "\n",
    "plt.ylim(0.8, 1)\n",
    "\n",
    "plt.legend()\n",
    "\n"
   ]
  },
  {
   "cell_type": "markdown",
   "metadata": {
    "papermill": {
     "duration": 0.059046,
     "end_time": "2021-01-01T20:12:29.917103",
     "exception": false,
     "start_time": "2021-01-01T20:12:29.858057",
     "status": "completed"
    },
    "tags": []
   },
   "source": [
    "### From the plot, we can observe the following:\n",
    "- Neural Network achieves higher accuracy than the Logistic Regression model.\n",
    "- This apparently, is because of overfitting, i.e. NN captures more noise than data.\n",
    "- Testing accuracy of NN drops below the Training accuracy at higher epochs. This explains the over-fitting on training data.\n",
    "- Logistic Regression gives a reliable accuracy, without the above mentioned problem.\n"
   ]
  },
  {
   "cell_type": "markdown",
   "metadata": {
    "papermill": {
     "duration": 0.05485,
     "end_time": "2021-01-01T20:12:30.032058",
     "exception": false,
     "start_time": "2021-01-01T20:12:29.977208",
     "status": "completed"
    },
    "tags": []
   },
   "source": [
    "### Moving till the last but one layer (excluding it).\n",
    "#### Plotting the outputs of this layer of the NN."
   ]
  },
  {
   "cell_type": "code",
   "execution_count": 24,
   "metadata": {
    "execution": {
     "iopub.execute_input": "2021-01-01T20:12:30.155716Z",
     "iopub.status.busy": "2021-01-01T20:12:30.146137Z",
     "iopub.status.idle": "2021-01-01T20:12:30.160933Z",
     "shell.execute_reply": "2021-01-01T20:12:30.160017Z"
    },
    "papermill": {
     "duration": 0.0748,
     "end_time": "2021-01-01T20:12:30.161126",
     "exception": false,
     "start_time": "2021-01-01T20:12:30.086326",
     "status": "completed"
    },
    "tags": []
   },
   "outputs": [],
   "source": [
    "model_new = Model(layers[:-2])"
   ]
  },
  {
   "cell_type": "code",
   "execution_count": 25,
   "metadata": {
    "execution": {
     "iopub.execute_input": "2021-01-01T20:12:30.279662Z",
     "iopub.status.busy": "2021-01-01T20:12:30.271002Z",
     "iopub.status.idle": "2021-01-01T20:12:30.299230Z",
     "shell.execute_reply": "2021-01-01T20:12:30.299993Z"
    },
    "papermill": {
     "duration": 0.086084,
     "end_time": "2021-01-01T20:12:30.300152",
     "exception": false,
     "start_time": "2021-01-01T20:12:30.214068",
     "status": "completed"
    },
    "tags": []
   },
   "outputs": [],
   "source": [
    "plot_testing = model_new(testing_xdata)"
   ]
  },
  {
   "cell_type": "code",
   "execution_count": 26,
   "metadata": {
    "execution": {
     "iopub.execute_input": "2021-01-01T20:12:30.413788Z",
     "iopub.status.busy": "2021-01-01T20:12:30.413124Z",
     "iopub.status.idle": "2021-01-01T20:12:30.639179Z",
     "shell.execute_reply": "2021-01-01T20:12:30.638686Z"
    },
    "papermill": {
     "duration": 0.289177,
     "end_time": "2021-01-01T20:12:30.639314",
     "exception": false,
     "start_time": "2021-01-01T20:12:30.350137",
     "status": "completed"
    },
    "tags": []
   },
   "outputs": [
    {
     "data": {
      "text/plain": [
       "Text(0.5, 1.0, 'Outputs')"
      ]
     },
     "execution_count": 26,
     "metadata": {},
     "output_type": "execute_result"
    },
    {
     "data": {
      "image/png": "[encoded data removed]",
      "text/plain": [
       "<Figure size 576x504 with 1 Axes>"
      ]
     },
     "metadata": {
      "needs_background": "light"
     },
     "output_type": "display_data"
    }
   ],
   "source": [
    "plt.figure(figsize=(8,7))\n",
    "plt.scatter(plot_testing[:,0], plot_testing[:,1], alpha = 0.1, c = y_test.ravel());\n",
    "plt.title('Outputs')"
   ]
  },
  {
   "cell_type": "markdown",
   "metadata": {
    "papermill": {
     "duration": 0.05296,
     "end_time": "2021-01-01T20:12:30.744887",
     "exception": false,
     "start_time": "2021-01-01T20:12:30.691927",
     "status": "completed"
    },
    "tags": []
   },
   "source": [
    "### Plotting probability contours"
   ]
  },
  {
   "cell_type": "code",
   "execution_count": 27,
   "metadata": {
    "execution": {
     "iopub.execute_input": "2021-01-01T20:12:30.857380Z",
     "iopub.status.busy": "2021-01-01T20:12:30.856702Z",
     "iopub.status.idle": "2021-01-01T20:12:30.870596Z",
     "shell.execute_reply": "2021-01-01T20:12:30.871418Z"
    },
    "papermill": {
     "duration": 0.073118,
     "end_time": "2021-01-01T20:12:30.871578",
     "exception": false,
     "start_time": "2021-01-01T20:12:30.798460",
     "status": "completed"
    },
    "tags": []
   },
   "outputs": [],
   "source": [
    "model_prob = Model(layers[-2:]) "
   ]
  },
  {
   "cell_type": "code",
   "execution_count": 28,
   "metadata": {
    "execution": {
     "iopub.execute_input": "2021-01-01T20:12:31.013305Z",
     "iopub.status.busy": "2021-01-01T20:12:31.012432Z",
     "iopub.status.idle": "2021-01-01T20:12:31.027788Z",
     "shell.execute_reply": "2021-01-01T20:12:31.028407Z"
    },
    "papermill": {
     "duration": 0.098612,
     "end_time": "2021-01-01T20:12:31.028727",
     "exception": false,
     "start_time": "2021-01-01T20:12:30.930115",
     "status": "completed"
    },
    "tags": []
   },
   "outputs": [],
   "source": [
    "# Adjust the x and y ranges according to the above generated plot.\n",
    "x_range = np.linspace(-4, 1, 100) \n",
    "y_range = np.linspace(-6, 6, 100) \n",
    "x_grid, y_grid = np.meshgrid(x_range, y_range) # x_grid and y_grig are of size 100 X 100\n",
    "\n",
    "# converting x_grid and y_grid to continuous arrays\n",
    "x_grid_flat = np.ravel(x_grid)\n",
    "y_grid_flat = np.ravel(y_grid)\n",
    "\n",
    "# The last layer of the current model takes two columns as input. Hence transpose of np.vstack() is required.\n",
    "X = np.vstack((x_grid_flat, y_grid_flat)).T\n",
    "\n",
    "# x_grid and y_grid are of size 100 x 100\n",
    "probability_contour = model_prob(X).reshape(100,100) "
   ]
  },
  {
   "cell_type": "code",
   "execution_count": 29,
   "metadata": {
    "execution": {
     "iopub.execute_input": "2021-01-01T20:12:31.142879Z",
     "iopub.status.busy": "2021-01-01T20:12:31.142208Z",
     "iopub.status.idle": "2021-01-01T20:12:31.452179Z",
     "shell.execute_reply": "2021-01-01T20:12:31.451514Z"
    },
    "papermill": {
     "duration": 0.367345,
     "end_time": "2021-01-01T20:12:31.452373",
     "exception": false,
     "start_time": "2021-01-01T20:12:31.085028",
     "status": "completed"
    },
    "tags": []
   },
   "outputs": [
    {
     "data": {
      "image/png": "[encoded data removed]",
      "text/plain": [
       "<Figure size 720x648 with 1 Axes>"
      ]
     },
     "metadata": {
      "needs_background": "light"
     },
     "output_type": "display_data"
    }
   ],
   "source": [
    "plt.figure(figsize=(10,9))\n",
    "plt.scatter(plot_testing[:,0], plot_testing[:,1], alpha = 0.1, c = y_test.ravel())\n",
    "contours = plt.contour(x_grid,y_grid,probability_contour)\n",
    "plt.title('Probability Contours')\n",
    "plt.clabel(contours, inline = True );"
   ]
  }
 ],
 "metadata": {
  "kernelspec": {
   "display_name": "Python 3",
   "language": "python",
   "name": "python3"
  },
  "language_info": {
   "codemirror_mode": {
    "name": "ipython",
    "version": 3
   },
   "file_extension": ".py",
   "mimetype": "text/x-python",
   "name": "python",
   "nbconvert_exporter": "python",
   "pygments_lexer": "ipython3",
   "version": "3.6.12"
  },
  "papermill": {
   "duration": 174.793218,
   "end_time": "2021-01-01T20:12:31.919670",
   "environment_variables": {},
   "exception": null,
   "input_path": "2020-08-11-NeuralNetwork.ipynb",
   "output_path": "2020-08-11-NeuralNetwork.ipynb",
   "parameters": {},
   "start_time": "2021-01-01T20:09:37.126452",
   "version": "2.1.2"
  }
 },
 "nbformat": 4,
 "nbformat_minor": 4
}