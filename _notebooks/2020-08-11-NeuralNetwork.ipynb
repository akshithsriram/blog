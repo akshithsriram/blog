{
 "cells": [
  {
   "cell_type": "markdown",
   "id": "fitted-suggestion",
   "metadata": {
    "papermill": {
     "duration": 0.0304,
     "end_time": "2021-07-08T00:15:09.478724",
     "exception": false,
     "start_time": "2021-07-08T00:15:09.448324",
     "status": "completed"
    },
    "tags": []
   },
   "source": [
    "# \"A Basic Neural Network: Differentiate Hand-Written Digits\"\n",
    "\n",
    "- badges: true\n",
    "- author: Akshith Sriram"
   ]
  },
  {
   "cell_type": "markdown",
   "id": "signal-flexibility",
   "metadata": {
    "papermill": {
     "duration": 0.025203,
     "end_time": "2021-07-08T00:15:09.529944",
     "exception": false,
     "start_time": "2021-07-08T00:15:09.504741",
     "status": "completed"
    },
    "tags": []
   },
   "source": [
    "### Key Objectives:\n",
    "- Building a neural network that differentiates two hand-written digits 3 and 8.\n",
    "- Comparing the results of this Neural Network (NN) to that of a Logistic Regression (LR) model.\n",
    "\n",
    "### Requirements:\n",
    "- 'Kudzu' : A neural network library that was designed during our course by [Univ.AI](www.univ.ai). \n",
    "- MNIST Database\n",
    "\n",
    "If MNIST is not installed, use the command `!pip install mnist` given below.\n",
    "It can be run both from the command line and Jupyter Notebook."
   ]
  },
  {
   "cell_type": "code",
   "execution_count": 1,
   "id": "british-texture",
   "metadata": {
    "execution": {
     "iopub.execute_input": "2021-07-08T00:15:09.590246Z",
     "iopub.status.busy": "2021-07-08T00:15:09.588131Z",
     "iopub.status.idle": "2021-07-08T00:15:10.995212Z",
     "shell.execute_reply": "2021-07-08T00:15:10.993829Z"
    },
    "papermill": {
     "duration": 1.44017,
     "end_time": "2021-07-08T00:15:10.995382",
     "exception": false,
     "start_time": "2021-07-08T00:15:09.555212",
     "status": "completed"
    },
    "tags": []
   },
   "outputs": [
    {
     "name": "stdout",
     "output_type": "stream",
     "text": [
      "Collecting mnist\r\n"
     ]
    },
    {
     "name": "stdout",
     "output_type": "stream",
     "text": [
      "  Downloading mnist-0.2.2-py2.py3-none-any.whl (3.5 kB)\r\n"
     ]
    },
    {
     "name": "stdout",
     "output_type": "stream",
     "text": [
      "Requirement already satisfied: numpy in /opt/hostedtoolcache/Python/3.6.13/x64/lib/python3.6/site-packages (from mnist) (1.19.5)\r\n"
     ]
    },
    {
     "name": "stdout",
     "output_type": "stream",
     "text": [
      "Installing collected packages: mnist\r\n",
      "Successfully installed mnist-0.2.2\r\n"
     ]
    }
   ],
   "source": [
    "!pip install mnist "
   ]
  },
  {
   "cell_type": "markdown",
   "id": "stunning-extra",
   "metadata": {
    "papermill": {
     "duration": 0.026671,
     "end_time": "2021-07-08T00:15:11.049243",
     "exception": false,
     "start_time": "2021-07-08T00:15:11.022572",
     "status": "completed"
    },
    "tags": []
   },
   "source": [
    "#### Importing necessary libraries"
   ]
  },
  {
   "cell_type": "code",
   "execution_count": 2,
   "id": "wooden-france",
   "metadata": {
    "execution": {
     "iopub.execute_input": "2021-07-08T00:15:11.109810Z",
     "iopub.status.busy": "2021-07-08T00:15:11.109290Z",
     "iopub.status.idle": "2021-07-08T00:15:11.612801Z",
     "shell.execute_reply": "2021-07-08T00:15:11.612286Z"
    },
    "papermill": {
     "duration": 0.537092,
     "end_time": "2021-07-08T00:15:11.612934",
     "exception": false,
     "start_time": "2021-07-08T00:15:11.075842",
     "status": "completed"
    },
    "tags": []
   },
   "outputs": [],
   "source": [
    "%load_ext autoreload\n",
    "%autoreload 2\n",
    "\n",
    "%matplotlib inline\n",
    "import matplotlib.pyplot as plt\n",
    "\n",
    "import numpy as np\n",
    "import pandas as pd"
   ]
  },
  {
   "cell_type": "markdown",
   "id": "stunning-physics",
   "metadata": {
    "papermill": {
     "duration": 0.026825,
     "end_time": "2021-07-08T00:15:11.667162",
     "exception": false,
     "start_time": "2021-07-08T00:15:11.640337",
     "status": "completed"
    },
    "tags": []
   },
   "source": [
    "### Preparing the Data"
   ]
  },
  {
   "cell_type": "code",
   "execution_count": 3,
   "id": "unauthorized-remainder",
   "metadata": {
    "execution": {
     "iopub.execute_input": "2021-07-08T00:15:11.729712Z",
     "iopub.status.busy": "2021-07-08T00:15:11.723776Z",
     "iopub.status.idle": "2021-07-08T00:15:11.737099Z",
     "shell.execute_reply": "2021-07-08T00:15:11.736704Z"
    },
    "papermill": {
     "duration": 0.043288,
     "end_time": "2021-07-08T00:15:11.737205",
     "exception": false,
     "start_time": "2021-07-08T00:15:11.693917",
     "status": "completed"
    },
    "tags": []
   },
   "outputs": [],
   "source": [
    "import mnist"
   ]
  },
  {
   "cell_type": "code",
   "execution_count": 4,
   "id": "correct-antarctica",
   "metadata": {
    "execution": {
     "iopub.execute_input": "2021-07-08T00:15:11.797805Z",
     "iopub.status.busy": "2021-07-08T00:15:11.797311Z",
     "iopub.status.idle": "2021-07-08T00:20:08.565670Z",
     "shell.execute_reply": "2021-07-08T00:20:08.565107Z"
    },
    "papermill": {
     "duration": 296.802215,
     "end_time": "2021-07-08T00:20:08.565813",
     "exception": false,
     "start_time": "2021-07-08T00:15:11.763598",
     "status": "completed"
    },
    "tags": []
   },
   "outputs": [],
   "source": [
    "train_images = mnist.train_images()\n",
    "train_labels = mnist.train_labels()"
   ]
  },
  {
   "cell_type": "code",
   "execution_count": 5,
   "id": "musical-prospect",
   "metadata": {
    "execution": {
     "iopub.execute_input": "2021-07-08T00:20:08.623458Z",
     "iopub.status.busy": "2021-07-08T00:20:08.622958Z",
     "iopub.status.idle": "2021-07-08T00:20:08.637741Z",
     "shell.execute_reply": "2021-07-08T00:20:08.637329Z"
    },
    "papermill": {
     "duration": 0.044465,
     "end_time": "2021-07-08T00:20:08.637859",
     "exception": false,
     "start_time": "2021-07-08T00:20:08.593394",
     "status": "completed"
    },
    "tags": []
   },
   "outputs": [
    {
     "data": {
      "text/plain": [
       "((60000, 28, 28), (60000,))"
      ]
     },
     "execution_count": 5,
     "metadata": {},
     "output_type": "execute_result"
    }
   ],
   "source": [
    "train_images.shape, train_labels.shape"
   ]
  },
  {
   "cell_type": "code",
   "execution_count": 6,
   "id": "preliminary-elizabeth",
   "metadata": {
    "execution": {
     "iopub.execute_input": "2021-07-08T00:20:08.695157Z",
     "iopub.status.busy": "2021-07-08T00:20:08.694653Z",
     "iopub.status.idle": "2021-07-08T00:20:59.235572Z",
     "shell.execute_reply": "2021-07-08T00:20:59.235051Z"
    },
    "papermill": {
     "duration": 50.570983,
     "end_time": "2021-07-08T00:20:59.235713",
     "exception": false,
     "start_time": "2021-07-08T00:20:08.664730",
     "status": "completed"
    },
    "tags": []
   },
   "outputs": [],
   "source": [
    "test_images = mnist.test_images()\n",
    "test_labels = mnist.test_labels()"
   ]
  },
  {
   "cell_type": "code",
   "execution_count": 7,
   "id": "acknowledged-oxygen",
   "metadata": {
    "execution": {
     "iopub.execute_input": "2021-07-08T00:20:59.293845Z",
     "iopub.status.busy": "2021-07-08T00:20:59.293352Z",
     "iopub.status.idle": "2021-07-08T00:20:59.305618Z",
     "shell.execute_reply": "2021-07-08T00:20:59.305198Z"
    },
    "papermill": {
     "duration": 0.042658,
     "end_time": "2021-07-08T00:20:59.305722",
     "exception": false,
     "start_time": "2021-07-08T00:20:59.263064",
     "status": "completed"
    },
    "tags": []
   },
   "outputs": [
    {
     "data": {
      "text/plain": [
       "((10000, 28, 28), (10000,))"
      ]
     },
     "execution_count": 7,
     "metadata": {},
     "output_type": "execute_result"
    }
   ],
   "source": [
    "test_images.shape, test_labels.shape"
   ]
  },
  {
   "cell_type": "code",
   "execution_count": 8,
   "id": "innovative-organic",
   "metadata": {
    "execution": {
     "iopub.execute_input": "2021-07-08T00:20:59.370129Z",
     "iopub.status.busy": "2021-07-08T00:20:59.369641Z",
     "iopub.status.idle": "2021-07-08T00:20:59.500195Z",
     "shell.execute_reply": "2021-07-08T00:20:59.499383Z"
    },
    "papermill": {
     "duration": 0.167877,
     "end_time": "2021-07-08T00:20:59.500308",
     "exception": false,
     "start_time": "2021-07-08T00:20:59.332431",
     "status": "completed"
    },
    "tags": []
   },
   "outputs": [
    {
     "name": "stdout",
     "output_type": "stream",
     "text": [
      "2\n"
     ]
    },
    {
     "data": {
      "text/plain": [
       "<matplotlib.image.AxesImage at 0x7f55ad89f5f8>"
      ]
     },
     "execution_count": 8,
     "metadata": {},
     "output_type": "execute_result"
    },
    {
     "data": {
      "image/png": "[encoded data removed]",
      "text/plain": [
       "<Figure size 432x288 with 1 Axes>"
      ]
     },
     "metadata": {
      "needs_background": "light"
     },
     "output_type": "display_data"
    }
   ],
   "source": [
    "image_index = 7776 # You may select anything up to 60,000\n",
    "print(train_labels[image_index]) \n",
    "plt.imshow(train_images[image_index], cmap='Greys')"
   ]
  },
  {
   "cell_type": "markdown",
   "id": "facial-modem",
   "metadata": {
    "papermill": {
     "duration": 0.028302,
     "end_time": "2021-07-08T00:20:59.556858",
     "exception": false,
     "start_time": "2021-07-08T00:20:59.528556",
     "status": "completed"
    },
    "tags": []
   },
   "source": [
    "## Filter data to get 3 and 8 out"
   ]
  },
  {
   "cell_type": "code",
   "execution_count": 9,
   "id": "thousand-acquisition",
   "metadata": {
    "execution": {
     "iopub.execute_input": "2021-07-08T00:20:59.616879Z",
     "iopub.status.busy": "2021-07-08T00:20:59.615859Z",
     "iopub.status.idle": "2021-07-08T00:20:59.635153Z",
     "shell.execute_reply": "2021-07-08T00:20:59.634681Z"
    },
    "papermill": {
     "duration": 0.050432,
     "end_time": "2021-07-08T00:20:59.635276",
     "exception": false,
     "start_time": "2021-07-08T00:20:59.584844",
     "status": "completed"
    },
    "tags": []
   },
   "outputs": [],
   "source": [
    "train_filter = np.where((train_labels == 3 ) | (train_labels == 8))\n",
    "test_filter = np.where((test_labels == 3) | (test_labels == 8))\n",
    "X_train, y_train = train_images[train_filter], train_labels[train_filter]\n",
    "X_test, y_test = test_images[test_filter], test_labels[test_filter]"
   ]
  },
  {
   "cell_type": "markdown",
   "id": "ruled-access",
   "metadata": {
    "papermill": {
     "duration": 0.027966,
     "end_time": "2021-07-08T00:20:59.692532",
     "exception": false,
     "start_time": "2021-07-08T00:20:59.664566",
     "status": "completed"
    },
    "tags": []
   },
   "source": [
    "We normalize the pixel values in the 0 to 1 range"
   ]
  },
  {
   "cell_type": "code",
   "execution_count": 10,
   "id": "isolated-denver",
   "metadata": {
    "execution": {
     "iopub.execute_input": "2021-07-08T00:20:59.766066Z",
     "iopub.status.busy": "2021-07-08T00:20:59.765548Z",
     "iopub.status.idle": "2021-07-08T00:20:59.804571Z",
     "shell.execute_reply": "2021-07-08T00:20:59.804032Z"
    },
    "papermill": {
     "duration": 0.084092,
     "end_time": "2021-07-08T00:20:59.804703",
     "exception": false,
     "start_time": "2021-07-08T00:20:59.720611",
     "status": "completed"
    },
    "tags": []
   },
   "outputs": [],
   "source": [
    "X_train = X_train/255.\n",
    "X_test = X_test/255."
   ]
  },
  {
   "cell_type": "markdown",
   "id": "perfect-summary",
   "metadata": {
    "papermill": {
     "duration": 0.028133,
     "end_time": "2021-07-08T00:20:59.861947",
     "exception": false,
     "start_time": "2021-07-08T00:20:59.833814",
     "status": "completed"
    },
    "tags": []
   },
   "source": [
    "Setup the labels as 1 (when the digit is 3) and 0 (when the digit is 8)"
   ]
  },
  {
   "cell_type": "code",
   "execution_count": 11,
   "id": "personalized-growing",
   "metadata": {
    "execution": {
     "iopub.execute_input": "2021-07-08T00:20:59.926190Z",
     "iopub.status.busy": "2021-07-08T00:20:59.925677Z",
     "iopub.status.idle": "2021-07-08T00:20:59.934500Z",
     "shell.execute_reply": "2021-07-08T00:20:59.934900Z"
    },
    "papermill": {
     "duration": 0.045088,
     "end_time": "2021-07-08T00:20:59.935024",
     "exception": false,
     "start_time": "2021-07-08T00:20:59.889936",
     "status": "completed"
    },
    "tags": []
   },
   "outputs": [],
   "source": [
    "y_train = 1*(y_train==3)\n",
    "y_test = 1*(y_test==3)"
   ]
  },
  {
   "cell_type": "code",
   "execution_count": 12,
   "id": "considered-virgin",
   "metadata": {
    "execution": {
     "iopub.execute_input": "2021-07-08T00:20:59.998749Z",
     "iopub.status.busy": "2021-07-08T00:20:59.998248Z",
     "iopub.status.idle": "2021-07-08T00:21:00.007634Z",
     "shell.execute_reply": "2021-07-08T00:21:00.008007Z"
    },
    "papermill": {
     "duration": 0.045103,
     "end_time": "2021-07-08T00:21:00.008129",
     "exception": false,
     "start_time": "2021-07-08T00:20:59.963026",
     "status": "completed"
    },
    "tags": []
   },
   "outputs": [
    {
     "data": {
      "text/plain": [
       "((11982, 28, 28), (1984, 28, 28))"
      ]
     },
     "execution_count": 12,
     "metadata": {},
     "output_type": "execute_result"
    }
   ],
   "source": [
    "X_train.shape, X_test.shape"
   ]
  },
  {
   "cell_type": "markdown",
   "id": "civilian-mobile",
   "metadata": {
    "papermill": {
     "duration": 0.028091,
     "end_time": "2021-07-08T00:21:00.064380",
     "exception": false,
     "start_time": "2021-07-08T00:21:00.036289",
     "status": "completed"
    },
    "tags": []
   },
   "source": [
    "### Reshape the input data to create a linear array"
   ]
  },
  {
   "cell_type": "code",
   "execution_count": 13,
   "id": "colonial-adams",
   "metadata": {
    "execution": {
     "iopub.execute_input": "2021-07-08T00:21:00.124608Z",
     "iopub.status.busy": "2021-07-08T00:21:00.124105Z",
     "iopub.status.idle": "2021-07-08T00:21:00.137124Z",
     "shell.execute_reply": "2021-07-08T00:21:00.137587Z"
    },
    "papermill": {
     "duration": 0.044936,
     "end_time": "2021-07-08T00:21:00.137709",
     "exception": false,
     "start_time": "2021-07-08T00:21:00.092773",
     "status": "completed"
    },
    "tags": []
   },
   "outputs": [
    {
     "data": {
      "text/plain": [
       "((11982, 784), (1984, 784))"
      ]
     },
     "execution_count": 13,
     "metadata": {},
     "output_type": "execute_result"
    }
   ],
   "source": [
    "X_train = X_train.reshape(X_train.shape[0], -1)\n",
    "X_test = X_test.reshape(X_test.shape[0], -1)\n",
    "X_train.shape, X_test.shape"
   ]
  },
  {
   "cell_type": "markdown",
   "id": "smart-details",
   "metadata": {
    "papermill": {
     "duration": 0.028407,
     "end_time": "2021-07-08T00:21:00.194495",
     "exception": false,
     "start_time": "2021-07-08T00:21:00.166088",
     "status": "completed"
    },
    "tags": []
   },
   "source": [
    "### Importing appropriate functions from 'Kudzu'"
   ]
  },
  {
   "cell_type": "code",
   "execution_count": 14,
   "id": "celtic-trial",
   "metadata": {
    "execution": {
     "iopub.execute_input": "2021-07-08T00:21:00.255371Z",
     "iopub.status.busy": "2021-07-08T00:21:00.254879Z",
     "iopub.status.idle": "2021-07-08T00:21:00.274028Z",
     "shell.execute_reply": "2021-07-08T00:21:00.273542Z"
    },
    "papermill": {
     "duration": 0.051071,
     "end_time": "2021-07-08T00:21:00.274145",
     "exception": false,
     "start_time": "2021-07-08T00:21:00.223074",
     "status": "completed"
    },
    "tags": []
   },
   "outputs": [],
   "source": [
    "from kudzu.layer import Sigmoid\n",
    "from kudzu.layer import Relu\n",
    "from kudzu.layer import Affine, Sigmoid\n",
    "\n",
    "from kudzu.model import Model\n",
    "from kudzu.train import Learner\n",
    "from kudzu.optim import GD\n",
    "from kudzu.data import Data, Dataloader, Sampler\n",
    "\n",
    "from kudzu.callbacks import AccCallback\n",
    "from kudzu.callbacks import ClfCallback\n",
    "\n",
    "from kudzu.loss import MSE"
   ]
  },
  {
   "cell_type": "markdown",
   "id": "coupled-customer",
   "metadata": {
    "papermill": {
     "duration": 0.028229,
     "end_time": "2021-07-08T00:21:00.331818",
     "exception": false,
     "start_time": "2021-07-08T00:21:00.303589",
     "status": "completed"
    },
    "tags": []
   },
   "source": [
    "### Let us create a `Config` class, to store important parameters. \n",
    "This class essentially plays the role of a dictionary."
   ]
  },
  {
   "cell_type": "code",
   "execution_count": 15,
   "id": "young-ceiling",
   "metadata": {
    "execution": {
     "iopub.execute_input": "2021-07-08T00:21:00.392657Z",
     "iopub.status.busy": "2021-07-08T00:21:00.391817Z",
     "iopub.status.idle": "2021-07-08T00:21:00.404634Z",
     "shell.execute_reply": "2021-07-08T00:21:00.405013Z"
    },
    "papermill": {
     "duration": 0.04472,
     "end_time": "2021-07-08T00:21:00.405131",
     "exception": false,
     "start_time": "2021-07-08T00:21:00.360411",
     "status": "completed"
    },
    "tags": []
   },
   "outputs": [],
   "source": [
    "class Config:\n",
    "    pass\n",
    "config = Config()\n",
    "config.lr = 0.001\n",
    "config.num_epochs = 251\n",
    "config.bs = 50"
   ]
  },
  {
   "cell_type": "markdown",
   "id": "according-mandate",
   "metadata": {
    "papermill": {
     "duration": 0.028327,
     "end_time": "2021-07-08T00:21:00.461874",
     "exception": false,
     "start_time": "2021-07-08T00:21:00.433547",
     "status": "completed"
    },
    "tags": []
   },
   "source": [
    "### Initializing data to the variables"
   ]
  },
  {
   "cell_type": "code",
   "execution_count": 16,
   "id": "academic-disposition",
   "metadata": {
    "execution": {
     "iopub.execute_input": "2021-07-08T00:21:00.527116Z",
     "iopub.status.busy": "2021-07-08T00:21:00.526616Z",
     "iopub.status.idle": "2021-07-08T00:21:00.536067Z",
     "shell.execute_reply": "2021-07-08T00:21:00.535671Z"
    },
    "papermill": {
     "duration": 0.045862,
     "end_time": "2021-07-08T00:21:00.536170",
     "exception": false,
     "start_time": "2021-07-08T00:21:00.490308",
     "status": "completed"
    },
    "tags": []
   },
   "outputs": [],
   "source": [
    "data = Data(X_train, y_train.reshape(-1,1))\n",
    "sampler = Sampler(data, config.bs, shuffle=True)\n",
    "\n",
    "dl = Dataloader(data, sampler)\n",
    "\n",
    "opt = GD(config.lr)\n",
    "loss = MSE()"
   ]
  },
  {
   "cell_type": "code",
   "execution_count": 17,
   "id": "featured-commission",
   "metadata": {
    "execution": {
     "iopub.execute_input": "2021-07-08T00:21:00.596119Z",
     "iopub.status.busy": "2021-07-08T00:21:00.595557Z",
     "iopub.status.idle": "2021-07-08T00:21:00.605912Z",
     "shell.execute_reply": "2021-07-08T00:21:00.606290Z"
    },
    "papermill": {
     "duration": 0.041843,
     "end_time": "2021-07-08T00:21:00.606403",
     "exception": false,
     "start_time": "2021-07-08T00:21:00.564560",
     "status": "completed"
    },
    "tags": []
   },
   "outputs": [],
   "source": [
    "training_xdata = X_train\n",
    "testing_xdata = X_test\n",
    "training_ydata = y_train.reshape(-1,1)\n",
    "testing_ydata = y_test.reshape(-1,1)"
   ]
  },
  {
   "cell_type": "markdown",
   "id": "played-safety",
   "metadata": {
    "papermill": {
     "duration": 0.028359,
     "end_time": "2021-07-08T00:21:00.663252",
     "exception": false,
     "start_time": "2021-07-08T00:21:00.634893",
     "status": "completed"
    },
    "tags": []
   },
   "source": [
    "### Running Models with the Training data\n",
    "Details about the network layers:\n",
    "- A first affine layer has 784 inputs and does 100 affine transforms. These are followed by a Relu\n",
    "- A second affine layer has 100 inputs from the 100 activations of the past layer, and does 100 affine transforms. These are followed by a Relu\n",
    "- A third affine layer has 100 activations and does 2 affine transformations to create an embedding for visualization. There is no non-linearity here.\n",
    "- A final \"logistic regression\" which has an affine transform from 2 inputs to 1 output, which is squeezed through a sigmoid.\n",
    "\n",
    "Help taken from Anshuman's Notebook."
   ]
  },
  {
   "cell_type": "code",
   "execution_count": 18,
   "id": "asian-bankruptcy",
   "metadata": {
    "execution": {
     "iopub.execute_input": "2021-07-08T00:21:00.726899Z",
     "iopub.status.busy": "2021-07-08T00:21:00.726385Z",
     "iopub.status.idle": "2021-07-08T00:21:00.739578Z",
     "shell.execute_reply": "2021-07-08T00:21:00.739174Z"
    },
    "papermill": {
     "duration": 0.048037,
     "end_time": "2021-07-08T00:21:00.739683",
     "exception": false,
     "start_time": "2021-07-08T00:21:00.691646",
     "status": "completed"
    },
    "tags": []
   },
   "outputs": [],
   "source": [
    "# layers for the Neural Network\n",
    "layers = [Affine(\"first\", 784, 100), Relu(\"first\"), Affine(\"second\", 100, 100), Relu(\"second\"), Affine(\"third\", 100, 2), Affine(\"final\", 2, 1), Sigmoid(\"final\")]\n",
    "model_nn = Model(layers)\n",
    "\n",
    "# layers for the Logistic Regression\n",
    "layers_lr = [Affine(\"logits\", 784, 1), Sigmoid(\"sigmoid\")]\n",
    "model_lr = Model(layers_lr)"
   ]
  },
  {
   "cell_type": "code",
   "execution_count": 19,
   "id": "removed-butler",
   "metadata": {
    "execution": {
     "iopub.execute_input": "2021-07-08T00:21:00.800677Z",
     "iopub.status.busy": "2021-07-08T00:21:00.800183Z",
     "iopub.status.idle": "2021-07-08T00:21:00.812244Z",
     "shell.execute_reply": "2021-07-08T00:21:00.812670Z"
    },
    "papermill": {
     "duration": 0.044337,
     "end_time": "2021-07-08T00:21:00.812794",
     "exception": false,
     "start_time": "2021-07-08T00:21:00.768457",
     "status": "completed"
    },
    "tags": []
   },
   "outputs": [],
   "source": [
    "# suffix _nn stands for Neural Network.\n",
    "learner_nn = Learner(loss, model_nn, opt, config.num_epochs)\n",
    "acc_nn = ClfCallback(learner_nn, config.bs, training_xdata , testing_xdata, training_ydata, testing_ydata)\n",
    "learner_nn.set_callbacks([acc_nn])"
   ]
  },
  {
   "cell_type": "code",
   "execution_count": 20,
   "id": "conceptual-throw",
   "metadata": {
    "execution": {
     "iopub.execute_input": "2021-07-08T00:21:00.878434Z",
     "iopub.status.busy": "2021-07-08T00:21:00.877940Z",
     "iopub.status.idle": "2021-07-08T00:22:15.854274Z",
     "shell.execute_reply": "2021-07-08T00:22:15.854966Z"
    },
    "papermill": {
     "duration": 75.013318,
     "end_time": "2021-07-08T00:22:15.855114",
     "exception": false,
     "start_time": "2021-07-08T00:21:00.841796",
     "status": "completed"
    },
    "tags": []
   },
   "outputs": [
    {
     "name": "stdout",
     "output_type": "stream",
     "text": [
      "====== Neural Network ======\n"
     ]
    },
    {
     "name": "stdout",
     "output_type": "stream",
     "text": [
      "Epoch 0, Loss 0.2078\n",
      "Training Accuracy: 0.7924, Testing Accuracy: 0.8049\n",
      "\n"
     ]
    },
    {
     "name": "stdout",
     "output_type": "stream",
     "text": [
      "Epoch 10, Loss 0.0535\n",
      "Training Accuracy: 0.9398, Testing Accuracy: 0.9501\n",
      "\n"
     ]
    },
    {
     "name": "stdout",
     "output_type": "stream",
     "text": [
      "Epoch 20, Loss 0.0393\n",
      "Training Accuracy: 0.9560, Testing Accuracy: 0.9617\n",
      "\n"
     ]
    },
    {
     "name": "stdout",
     "output_type": "stream",
     "text": [
      "Epoch 30, Loss 0.0331\n",
      "Training Accuracy: 0.9621, Testing Accuracy: 0.9677\n",
      "\n"
     ]
    },
    {
     "name": "stdout",
     "output_type": "stream",
     "text": [
      "Epoch 40, Loss 0.0294\n",
      "Training Accuracy: 0.9653, Testing Accuracy: 0.9733\n",
      "\n"
     ]
    },
    {
     "name": "stdout",
     "output_type": "stream",
     "text": [
      "Epoch 50, Loss 0.0267\n",
      "Training Accuracy: 0.9690, Testing Accuracy: 0.9763\n",
      "\n"
     ]
    },
    {
     "name": "stdout",
     "output_type": "stream",
     "text": [
      "Epoch 60, Loss 0.0247\n",
      "Training Accuracy: 0.9724, Testing Accuracy: 0.9768\n",
      "\n"
     ]
    },
    {
     "name": "stdout",
     "output_type": "stream",
     "text": [
      "Epoch 70, Loss 0.0232\n",
      "Training Accuracy: 0.9742, Testing Accuracy: 0.9768\n",
      "\n"
     ]
    },
    {
     "name": "stdout",
     "output_type": "stream",
     "text": [
      "Epoch 80, Loss 0.0219\n",
      "Training Accuracy: 0.9761, Testing Accuracy: 0.9773\n",
      "\n"
     ]
    },
    {
     "name": "stdout",
     "output_type": "stream",
     "text": [
      "Epoch 90, Loss 0.0207\n",
      "Training Accuracy: 0.9775, Testing Accuracy: 0.9768\n",
      "\n"
     ]
    },
    {
     "name": "stdout",
     "output_type": "stream",
     "text": [
      "Epoch 100, Loss 0.0198\n",
      "Training Accuracy: 0.9782, Testing Accuracy: 0.9778\n",
      "\n"
     ]
    },
    {
     "name": "stdout",
     "output_type": "stream",
     "text": [
      "Epoch 110, Loss 0.0189\n",
      "Training Accuracy: 0.9795, Testing Accuracy: 0.9783\n",
      "\n"
     ]
    },
    {
     "name": "stdout",
     "output_type": "stream",
     "text": [
      "Epoch 120, Loss 0.0182\n",
      "Training Accuracy: 0.9803, Testing Accuracy: 0.9788\n",
      "\n"
     ]
    },
    {
     "name": "stdout",
     "output_type": "stream",
     "text": [
      "Epoch 130, Loss 0.0175\n",
      "Training Accuracy: 0.9810, Testing Accuracy: 0.9798\n",
      "\n"
     ]
    },
    {
     "name": "stdout",
     "output_type": "stream",
     "text": [
      "Epoch 140, Loss 0.0169\n",
      "Training Accuracy: 0.9820, Testing Accuracy: 0.9803\n",
      "\n"
     ]
    },
    {
     "name": "stdout",
     "output_type": "stream",
     "text": [
      "Epoch 150, Loss 0.0163\n",
      "Training Accuracy: 0.9826, Testing Accuracy: 0.9808\n",
      "\n"
     ]
    },
    {
     "name": "stdout",
     "output_type": "stream",
     "text": [
      "Epoch 160, Loss 0.0158\n",
      "Training Accuracy: 0.9831, Testing Accuracy: 0.9808\n",
      "\n"
     ]
    },
    {
     "name": "stdout",
     "output_type": "stream",
     "text": [
      "Epoch 170, Loss 0.0153\n",
      "Training Accuracy: 0.9839, Testing Accuracy: 0.9814\n",
      "\n"
     ]
    },
    {
     "name": "stdout",
     "output_type": "stream",
     "text": [
      "Epoch 180, Loss 0.0148\n",
      "Training Accuracy: 0.9847, Testing Accuracy: 0.9819\n",
      "\n"
     ]
    },
    {
     "name": "stdout",
     "output_type": "stream",
     "text": [
      "Epoch 190, Loss 0.0143\n",
      "Training Accuracy: 0.9851, Testing Accuracy: 0.9824\n",
      "\n"
     ]
    },
    {
     "name": "stdout",
     "output_type": "stream",
     "text": [
      "Epoch 200, Loss 0.0139\n",
      "Training Accuracy: 0.9854, Testing Accuracy: 0.9824\n",
      "\n"
     ]
    },
    {
     "name": "stdout",
     "output_type": "stream",
     "text": [
      "Epoch 210, Loss 0.0135\n",
      "Training Accuracy: 0.9861, Testing Accuracy: 0.9824\n",
      "\n"
     ]
    },
    {
     "name": "stdout",
     "output_type": "stream",
     "text": [
      "Epoch 220, Loss 0.0131\n",
      "Training Accuracy: 0.9867, Testing Accuracy: 0.9824\n",
      "\n"
     ]
    },
    {
     "name": "stdout",
     "output_type": "stream",
     "text": [
      "Epoch 230, Loss 0.0127\n",
      "Training Accuracy: 0.9872, Testing Accuracy: 0.9824\n",
      "\n"
     ]
    },
    {
     "name": "stdout",
     "output_type": "stream",
     "text": [
      "Epoch 240, Loss 0.0123\n",
      "Training Accuracy: 0.9876, Testing Accuracy: 0.9824\n",
      "\n"
     ]
    },
    {
     "name": "stdout",
     "output_type": "stream",
     "text": [
      "Epoch 250, Loss 0.012\n",
      "Training Accuracy: 0.9881, Testing Accuracy: 0.9824\n",
      "\n"
     ]
    },
    {
     "data": {
      "text/plain": [
       "0.026492474529010924"
      ]
     },
     "execution_count": 20,
     "metadata": {},
     "output_type": "execute_result"
    }
   ],
   "source": [
    "print(\"====== Neural Network ======\")\n",
    "learner_nn.train_loop(dl)"
   ]
  },
  {
   "cell_type": "markdown",
   "id": "competent-suffering",
   "metadata": {
    "papermill": {
     "duration": 0.035683,
     "end_time": "2021-07-08T00:22:15.927804",
     "exception": false,
     "start_time": "2021-07-08T00:22:15.892121",
     "status": "completed"
    },
    "tags": []
   },
   "source": [
    "### Logistic Regression based Implementation."
   ]
  },
  {
   "cell_type": "code",
   "execution_count": 21,
   "id": "qualified-psychiatry",
   "metadata": {
    "execution": {
     "iopub.execute_input": "2021-07-08T00:22:16.002838Z",
     "iopub.status.busy": "2021-07-08T00:22:16.002258Z",
     "iopub.status.idle": "2021-07-08T00:22:16.013616Z",
     "shell.execute_reply": "2021-07-08T00:22:16.013171Z"
    },
    "papermill": {
     "duration": 0.050132,
     "end_time": "2021-07-08T00:22:16.013719",
     "exception": false,
     "start_time": "2021-07-08T00:22:15.963587",
     "status": "completed"
    },
    "tags": []
   },
   "outputs": [],
   "source": [
    "learner_lr = Learner(loss, model_lr, opt, config.num_epochs)\n",
    "acc_lr = ClfCallback(learner_lr, config.bs, training_xdata , testing_xdata, training_ydata, testing_ydata)\n",
    "learner_lr.set_callbacks([acc_lr])"
   ]
  },
  {
   "cell_type": "code",
   "execution_count": 22,
   "id": "average-outside",
   "metadata": {
    "execution": {
     "iopub.execute_input": "2021-07-08T00:22:16.097859Z",
     "iopub.status.busy": "2021-07-08T00:22:16.096270Z",
     "iopub.status.idle": "2021-07-08T00:22:29.559173Z",
     "shell.execute_reply": "2021-07-08T00:22:29.559663Z"
    },
    "papermill": {
     "duration": 13.510297,
     "end_time": "2021-07-08T00:22:29.559803",
     "exception": false,
     "start_time": "2021-07-08T00:22:16.049506",
     "status": "completed"
    },
    "tags": []
   },
   "outputs": [
    {
     "name": "stdout",
     "output_type": "stream",
     "text": [
      "====== Logistic Regression ======\n",
      "Epoch 0, Loss 0.2516\n",
      "Training Accuracy: 0.6269, Testing Accuracy: 0.6517\n",
      "\n"
     ]
    },
    {
     "name": "stdout",
     "output_type": "stream",
     "text": [
      "Epoch 10, Loss 0.1115\n",
      "Training Accuracy: 0.8898, Testing Accuracy: 0.9037\n",
      "\n"
     ]
    },
    {
     "name": "stdout",
     "output_type": "stream",
     "text": [
      "Epoch 20, Loss 0.0841\n",
      "Training Accuracy: 0.9181, Testing Accuracy: 0.9309\n",
      "\n"
     ]
    },
    {
     "name": "stdout",
     "output_type": "stream",
     "text": [
      "Epoch 30, Loss 0.0715\n",
      "Training Accuracy: 0.9306, Testing Accuracy: 0.9415\n",
      "\n"
     ]
    },
    {
     "name": "stdout",
     "output_type": "stream",
     "text": [
      "Epoch 40, Loss 0.0641\n",
      "Training Accuracy: 0.9379, Testing Accuracy: 0.9521\n",
      "\n"
     ]
    },
    {
     "name": "stdout",
     "output_type": "stream",
     "text": [
      "Epoch 50, Loss 0.0591\n",
      "Training Accuracy: 0.9422, Testing Accuracy: 0.9551\n",
      "\n"
     ]
    },
    {
     "name": "stdout",
     "output_type": "stream",
     "text": [
      "Epoch 60, Loss 0.0554\n",
      "Training Accuracy: 0.9444, Testing Accuracy: 0.9587\n",
      "\n"
     ]
    },
    {
     "name": "stdout",
     "output_type": "stream",
     "text": [
      "Epoch 70, Loss 0.0527\n",
      "Training Accuracy: 0.9465, Testing Accuracy: 0.9597\n",
      "\n"
     ]
    },
    {
     "name": "stdout",
     "output_type": "stream",
     "text": [
      "Epoch 80, Loss 0.0505\n",
      "Training Accuracy: 0.9479, Testing Accuracy: 0.9617\n",
      "\n"
     ]
    },
    {
     "name": "stdout",
     "output_type": "stream",
     "text": [
      "Epoch 90, Loss 0.0487\n",
      "Training Accuracy: 0.9494, Testing Accuracy: 0.9622\n",
      "\n"
     ]
    },
    {
     "name": "stdout",
     "output_type": "stream",
     "text": [
      "Epoch 100, Loss 0.0471\n",
      "Training Accuracy: 0.9509, Testing Accuracy: 0.9612\n",
      "\n"
     ]
    },
    {
     "name": "stdout",
     "output_type": "stream",
     "text": [
      "Epoch 110, Loss 0.0459\n",
      "Training Accuracy: 0.9522, Testing Accuracy: 0.9627\n",
      "\n"
     ]
    },
    {
     "name": "stdout",
     "output_type": "stream",
     "text": [
      "Epoch 120, Loss 0.0447\n",
      "Training Accuracy: 0.9531, Testing Accuracy: 0.9647\n",
      "\n"
     ]
    },
    {
     "name": "stdout",
     "output_type": "stream",
     "text": [
      "Epoch 130, Loss 0.0437\n",
      "Training Accuracy: 0.9547, Testing Accuracy: 0.9647\n",
      "\n"
     ]
    },
    {
     "name": "stdout",
     "output_type": "stream",
     "text": [
      "Epoch 140, Loss 0.0429\n",
      "Training Accuracy: 0.9559, Testing Accuracy: 0.9652\n",
      "\n"
     ]
    },
    {
     "name": "stdout",
     "output_type": "stream",
     "text": [
      "Epoch 150, Loss 0.0421\n",
      "Training Accuracy: 0.9565, Testing Accuracy: 0.9652\n",
      "\n"
     ]
    },
    {
     "name": "stdout",
     "output_type": "stream",
     "text": [
      "Epoch 160, Loss 0.0414\n",
      "Training Accuracy: 0.9572, Testing Accuracy: 0.9657\n",
      "\n"
     ]
    },
    {
     "name": "stdout",
     "output_type": "stream",
     "text": [
      "Epoch 170, Loss 0.0407\n",
      "Training Accuracy: 0.9575, Testing Accuracy: 0.9657\n",
      "\n"
     ]
    },
    {
     "name": "stdout",
     "output_type": "stream",
     "text": [
      "Epoch 180, Loss 0.0402\n",
      "Training Accuracy: 0.9580, Testing Accuracy: 0.9657\n",
      "\n"
     ]
    },
    {
     "name": "stdout",
     "output_type": "stream",
     "text": [
      "Epoch 190, Loss 0.0396\n",
      "Training Accuracy: 0.9585, Testing Accuracy: 0.9657\n",
      "\n"
     ]
    },
    {
     "name": "stdout",
     "output_type": "stream",
     "text": [
      "Epoch 200, Loss 0.0391\n",
      "Training Accuracy: 0.9590, Testing Accuracy: 0.9667\n",
      "\n"
     ]
    },
    {
     "name": "stdout",
     "output_type": "stream",
     "text": [
      "Epoch 210, Loss 0.0387\n",
      "Training Accuracy: 0.9592, Testing Accuracy: 0.9667\n",
      "\n"
     ]
    },
    {
     "name": "stdout",
     "output_type": "stream",
     "text": [
      "Epoch 220, Loss 0.0382\n",
      "Training Accuracy: 0.9599, Testing Accuracy: 0.9682\n",
      "\n"
     ]
    },
    {
     "name": "stdout",
     "output_type": "stream",
     "text": [
      "Epoch 230, Loss 0.0378\n",
      "Training Accuracy: 0.9605, Testing Accuracy: 0.9682\n",
      "\n"
     ]
    },
    {
     "name": "stdout",
     "output_type": "stream",
     "text": [
      "Epoch 240, Loss 0.0374\n",
      "Training Accuracy: 0.9605, Testing Accuracy: 0.9682\n",
      "\n"
     ]
    },
    {
     "name": "stdout",
     "output_type": "stream",
     "text": [
      "Epoch 250, Loss 0.0371\n",
      "Training Accuracy: 0.9606, Testing Accuracy: 0.9682\n",
      "\n"
     ]
    },
    {
     "data": {
      "text/plain": [
       "0.029620433183150295"
      ]
     },
     "execution_count": 22,
     "metadata": {},
     "output_type": "execute_result"
    }
   ],
   "source": [
    "print(\"====== Logistic Regression ======\")\n",
    "learner_lr.train_loop(dl)"
   ]
  },
  {
   "cell_type": "markdown",
   "id": "adjusted-possible",
   "metadata": {
    "papermill": {
     "duration": 0.042847,
     "end_time": "2021-07-08T00:22:29.649190",
     "exception": false,
     "start_time": "2021-07-08T00:22:29.606343",
     "status": "completed"
    },
    "tags": []
   },
   "source": [
    "### Comparing results of NN and LR"
   ]
  },
  {
   "cell_type": "code",
   "execution_count": 23,
   "id": "mental-multimedia",
   "metadata": {
    "execution": {
     "iopub.execute_input": "2021-07-08T00:22:29.746256Z",
     "iopub.status.busy": "2021-07-08T00:22:29.745736Z",
     "iopub.status.idle": "2021-07-08T00:22:29.983295Z",
     "shell.execute_reply": "2021-07-08T00:22:29.982848Z"
    },
    "papermill": {
     "duration": 0.291644,
     "end_time": "2021-07-08T00:22:29.983410",
     "exception": false,
     "start_time": "2021-07-08T00:22:29.691766",
     "status": "completed"
    },
    "tags": []
   },
   "outputs": [
    {
     "data": {
      "text/plain": [
       "<matplotlib.legend.Legend at 0x7f55a5402208>"
      ]
     },
     "execution_count": 23,
     "metadata": {},
     "output_type": "execute_result"
    },
    {
     "data": {
      "image/png": "[encoded data removed]",
      "text/plain": [
       "<Figure size 1080x720 with 1 Axes>"
      ]
     },
     "metadata": {
      "needs_background": "light"
     },
     "output_type": "display_data"
    }
   ],
   "source": [
    "plt.figure(figsize=(15,10))\n",
    "\n",
    "# Neural Network plots\n",
    "plt.plot(acc_nn.accuracies, 'r-', label = \"Training Accuracies - NN\")\n",
    "plt.plot(acc_nn.test_accuracies, 'g-', label = \"Testing Accuracies - NN\")\n",
    "\n",
    "# Logistic Regression plots\n",
    "plt.plot(acc_lr.accuracies, 'k-', label = \"Training Accuracies - LR\")\n",
    "plt.plot(acc_lr.test_accuracies, 'b-', label = \"Testing Accuracies - LR\")\n",
    "\n",
    "plt.ylim(0.8, 1)\n",
    "\n",
    "plt.legend()\n",
    "\n"
   ]
  },
  {
   "cell_type": "markdown",
   "id": "sexual-flesh",
   "metadata": {
    "papermill": {
     "duration": 0.044428,
     "end_time": "2021-07-08T00:22:30.072701",
     "exception": false,
     "start_time": "2021-07-08T00:22:30.028273",
     "status": "completed"
    },
    "tags": []
   },
   "source": [
    "### From the plot, we can observe the following:\n",
    "- Neural Network achieves higher accuracy than the Logistic Regression model.\n",
    "- This apparently, is because of overfitting, i.e. NN captures more noise than data.\n",
    "- Testing accuracy of NN drops below the Training accuracy at higher epochs. This explains the over-fitting on training data.\n",
    "- Logistic Regression gives a reliable accuracy, without the above mentioned problem.\n"
   ]
  },
  {
   "cell_type": "markdown",
   "id": "institutional-pacific",
   "metadata": {
    "papermill": {
     "duration": 0.044233,
     "end_time": "2021-07-08T00:22:30.161185",
     "exception": false,
     "start_time": "2021-07-08T00:22:30.116952",
     "status": "completed"
    },
    "tags": []
   },
   "source": [
    "### Moving till the last but one layer (excluding it).\n",
    "#### Plotting the outputs of this layer of the NN."
   ]
  },
  {
   "cell_type": "code",
   "execution_count": 24,
   "id": "economic-server",
   "metadata": {
    "execution": {
     "iopub.execute_input": "2021-07-08T00:22:30.253649Z",
     "iopub.status.busy": "2021-07-08T00:22:30.252887Z",
     "iopub.status.idle": "2021-07-08T00:22:30.265185Z",
     "shell.execute_reply": "2021-07-08T00:22:30.265619Z"
    },
    "papermill": {
     "duration": 0.060237,
     "end_time": "2021-07-08T00:22:30.265742",
     "exception": false,
     "start_time": "2021-07-08T00:22:30.205505",
     "status": "completed"
    },
    "tags": []
   },
   "outputs": [],
   "source": [
    "model_new = Model(layers[:-2])"
   ]
  },
  {
   "cell_type": "code",
   "execution_count": 25,
   "id": "varied-upgrade",
   "metadata": {
    "execution": {
     "iopub.execute_input": "2021-07-08T00:22:30.361908Z",
     "iopub.status.busy": "2021-07-08T00:22:30.359323Z",
     "iopub.status.idle": "2021-07-08T00:22:30.378406Z",
     "shell.execute_reply": "2021-07-08T00:22:30.378783Z"
    },
    "papermill": {
     "duration": 0.068979,
     "end_time": "2021-07-08T00:22:30.378907",
     "exception": false,
     "start_time": "2021-07-08T00:22:30.309928",
     "status": "completed"
    },
    "tags": []
   },
   "outputs": [],
   "source": [
    "plot_testing = model_new(testing_xdata)"
   ]
  },
  {
   "cell_type": "code",
   "execution_count": 26,
   "id": "specific-handling",
   "metadata": {
    "execution": {
     "iopub.execute_input": "2021-07-08T00:22:30.507069Z",
     "iopub.status.busy": "2021-07-08T00:22:30.506570Z",
     "iopub.status.idle": "2021-07-08T00:22:30.702522Z",
     "shell.execute_reply": "2021-07-08T00:22:30.702926Z"
    },
    "papermill": {
     "duration": 0.244266,
     "end_time": "2021-07-08T00:22:30.703053",
     "exception": false,
     "start_time": "2021-07-08T00:22:30.458787",
     "status": "completed"
    },
    "tags": []
   },
   "outputs": [
    {
     "data": {
      "text/plain": [
       "Text(0.5, 1.0, 'Outputs')"
      ]
     },
     "execution_count": 26,
     "metadata": {},
     "output_type": "execute_result"
    },
    {
     "data": {
      "image/png": "[encoded data removed]",
      "text/plain": [
       "<Figure size 576x504 with 1 Axes>"
      ]
     },
     "metadata": {
      "needs_background": "light"
     },
     "output_type": "display_data"
    }
   ],
   "source": [
    "plt.figure(figsize=(8,7))\n",
    "plt.scatter(plot_testing[:,0], plot_testing[:,1], alpha = 0.1, c = y_test.ravel());\n",
    "plt.title('Outputs')"
   ]
  },
  {
   "cell_type": "markdown",
   "id": "described-knowing",
   "metadata": {
    "papermill": {
     "duration": 0.046244,
     "end_time": "2021-07-08T00:22:30.796034",
     "exception": false,
     "start_time": "2021-07-08T00:22:30.749790",
     "status": "completed"
    },
    "tags": []
   },
   "source": [
    "### Plotting probability contours"
   ]
  },
  {
   "cell_type": "code",
   "execution_count": 27,
   "id": "needed-growing",
   "metadata": {
    "execution": {
     "iopub.execute_input": "2021-07-08T00:22:30.892640Z",
     "iopub.status.busy": "2021-07-08T00:22:30.892151Z",
     "iopub.status.idle": "2021-07-08T00:22:30.904775Z",
     "shell.execute_reply": "2021-07-08T00:22:30.904352Z"
    },
    "papermill": {
     "duration": 0.062356,
     "end_time": "2021-07-08T00:22:30.904881",
     "exception": false,
     "start_time": "2021-07-08T00:22:30.842525",
     "status": "completed"
    },
    "tags": []
   },
   "outputs": [],
   "source": [
    "model_prob = Model(layers[-2:]) "
   ]
  },
  {
   "cell_type": "code",
   "execution_count": 28,
   "id": "introductory-enforcement",
   "metadata": {
    "execution": {
     "iopub.execute_input": "2021-07-08T00:22:31.002295Z",
     "iopub.status.busy": "2021-07-08T00:22:31.001800Z",
     "iopub.status.idle": "2021-07-08T00:22:31.015363Z",
     "shell.execute_reply": "2021-07-08T00:22:31.015758Z"
    },
    "papermill": {
     "duration": 0.064446,
     "end_time": "2021-07-08T00:22:31.015881",
     "exception": false,
     "start_time": "2021-07-08T00:22:30.951435",
     "status": "completed"
    },
    "tags": []
   },
   "outputs": [],
   "source": [
    "# Adjust the x and y ranges according to the above generated plot.\n",
    "x_range = np.linspace(-4, 1, 100) \n",
    "y_range = np.linspace(-6, 6, 100) \n",
    "x_grid, y_grid = np.meshgrid(x_range, y_range) # x_grid and y_grig are of size 100 X 100\n",
    "\n",
    "# converting x_grid and y_grid to continuous arrays\n",
    "x_grid_flat = np.ravel(x_grid)\n",
    "y_grid_flat = np.ravel(y_grid)\n",
    "\n",
    "# The last layer of the current model takes two columns as input. Hence transpose of np.vstack() is required.\n",
    "X = np.vstack((x_grid_flat, y_grid_flat)).T\n",
    "\n",
    "# x_grid and y_grid are of size 100 x 100\n",
    "probability_contour = model_prob(X).reshape(100,100) "
   ]
  },
  {
   "cell_type": "code",
   "execution_count": 29,
   "id": "understood-landing",
   "metadata": {
    "execution": {
     "iopub.execute_input": "2021-07-08T00:22:31.124745Z",
     "iopub.status.busy": "2021-07-08T00:22:31.124236Z",
     "iopub.status.idle": "2021-07-08T00:22:31.362085Z",
     "shell.execute_reply": "2021-07-08T00:22:31.362717Z"
    },
    "papermill": {
     "duration": 0.288444,
     "end_time": "2021-07-08T00:22:31.362854",
     "exception": false,
     "start_time": "2021-07-08T00:22:31.074410",
     "status": "completed"
    },
    "tags": []
   },
   "outputs": [
    {
     "data": {
      "image/png": "[encoded data removed]",
      "text/plain": [
       "<Figure size 720x648 with 1 Axes>"
      ]
     },
     "metadata": {
      "needs_background": "light"
     },
     "output_type": "display_data"
    }
   ],
   "source": [
    "plt.figure(figsize=(10,9))\n",
    "plt.scatter(plot_testing[:,0], plot_testing[:,1], alpha = 0.1, c = y_test.ravel())\n",
    "contours = plt.contour(x_grid,y_grid,probability_contour)\n",
    "plt.title('Probability Contours')\n",
    "plt.clabel(contours, inline = True );"
   ]
  }
 ],
 "metadata": {
  "kernelspec": {
   "display_name": "Python 3",
   "language": "python",
   "name": "python3"
  },
  "language_info": {
   "codemirror_mode": {
    "name": "ipython",
    "version": 3
   },
   "file_extension": ".py",
   "mimetype": "text/x-python",
   "name": "python",
   "nbconvert_exporter": "python",
   "pygments_lexer": "ipython3",
   "version": "3.6.13"
  },
  "papermill": {
   "duration": 443.313295,
   "end_time": "2021-07-08T00:22:31.719959",
   "environment_variables": {},
   "exception": null,
   "input_path": "2020-08-11-NeuralNetwork.ipynb",
   "output_path": "2020-08-11-NeuralNetwork.ipynb",
   "parameters": {},
   "start_time": "2021-07-08T00:15:08.406664",
   "version": "2.1.2"
  }
 },
 "nbformat": 4,
 "nbformat_minor": 5
}