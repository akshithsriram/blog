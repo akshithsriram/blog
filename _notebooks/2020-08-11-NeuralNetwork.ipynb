{
 "cells": [
  {
   "cell_type": "markdown",
   "id": "fitted-suggestion",
   "metadata": {
    "papermill": {
     "duration": 0.029366,
     "end_time": "2021-07-11T20:04:44.783717",
     "exception": false,
     "start_time": "2021-07-11T20:04:44.754351",
     "status": "completed"
    },
    "tags": []
   },
   "source": [
    "# \"A Basic Neural Network: Differentiate Hand-Written Digits\"\n",
    "\n",
    "- badges: true\n",
    "- author: Akshith Sriram"
   ]
  },
  {
   "cell_type": "markdown",
   "id": "signal-flexibility",
   "metadata": {
    "papermill": {
     "duration": 0.024892,
     "end_time": "2021-07-11T20:04:44.834245",
     "exception": false,
     "start_time": "2021-07-11T20:04:44.809353",
     "status": "completed"
    },
    "tags": []
   },
   "source": [
    "### Key Objectives:\n",
    "- Building a neural network that differentiates two hand-written digits 3 and 8.\n",
    "- Comparing the results of this Neural Network (NN) to that of a Logistic Regression (LR) model.\n",
    "\n",
    "### Requirements:\n",
    "- 'Kudzu' : A neural network library that was designed during our course by [Univ.AI](www.univ.ai). \n",
    "- MNIST Database\n",
    "\n",
    "If MNIST is not installed, use the command `!pip install mnist` given below.\n",
    "It can be run both from the command line and Jupyter Notebook."
   ]
  },
  {
   "cell_type": "code",
   "execution_count": 1,
   "id": "british-texture",
   "metadata": {
    "execution": {
     "iopub.execute_input": "2021-07-11T20:04:44.894346Z",
     "iopub.status.busy": "2021-07-11T20:04:44.893819Z",
     "iopub.status.idle": "2021-07-11T20:04:46.236119Z",
     "shell.execute_reply": "2021-07-11T20:04:46.234971Z"
    },
    "papermill": {
     "duration": 1.377037,
     "end_time": "2021-07-11T20:04:46.236287",
     "exception": false,
     "start_time": "2021-07-11T20:04:44.859250",
     "status": "completed"
    },
    "tags": []
   },
   "outputs": [
    {
     "name": "stdout",
     "output_type": "stream",
     "text": [
      "Collecting mnist\r\n"
     ]
    },
    {
     "name": "stdout",
     "output_type": "stream",
     "text": [
      "  Downloading mnist-0.2.2-py2.py3-none-any.whl (3.5 kB)\r\n",
      "Requirement already satisfied: numpy in /opt/hostedtoolcache/Python/3.6.13/x64/lib/python3.6/site-packages (from mnist) (1.19.5)\r\n"
     ]
    },
    {
     "name": "stdout",
     "output_type": "stream",
     "text": [
      "Installing collected packages: mnist\r\n"
     ]
    },
    {
     "name": "stdout",
     "output_type": "stream",
     "text": [
      "Successfully installed mnist-0.2.2\r\n"
     ]
    }
   ],
   "source": [
    "!pip install mnist "
   ]
  },
  {
   "cell_type": "markdown",
   "id": "stunning-extra",
   "metadata": {
    "papermill": {
     "duration": 0.026164,
     "end_time": "2021-07-11T20:04:46.289964",
     "exception": false,
     "start_time": "2021-07-11T20:04:46.263800",
     "status": "completed"
    },
    "tags": []
   },
   "source": [
    "#### Importing necessary libraries"
   ]
  },
  {
   "cell_type": "code",
   "execution_count": 2,
   "id": "wooden-france",
   "metadata": {
    "execution": {
     "iopub.execute_input": "2021-07-11T20:04:46.350161Z",
     "iopub.status.busy": "2021-07-11T20:04:46.348733Z",
     "iopub.status.idle": "2021-07-11T20:04:46.903403Z",
     "shell.execute_reply": "2021-07-11T20:04:46.903846Z"
    },
    "papermill": {
     "duration": 0.587755,
     "end_time": "2021-07-11T20:04:46.904003",
     "exception": false,
     "start_time": "2021-07-11T20:04:46.316248",
     "status": "completed"
    },
    "tags": []
   },
   "outputs": [],
   "source": [
    "%load_ext autoreload\n",
    "%autoreload 2\n",
    "\n",
    "%matplotlib inline\n",
    "import matplotlib.pyplot as plt\n",
    "\n",
    "import numpy as np\n",
    "import pandas as pd"
   ]
  },
  {
   "cell_type": "markdown",
   "id": "stunning-physics",
   "metadata": {
    "papermill": {
     "duration": 0.026499,
     "end_time": "2021-07-11T20:04:46.957000",
     "exception": false,
     "start_time": "2021-07-11T20:04:46.930501",
     "status": "completed"
    },
    "tags": []
   },
   "source": [
    "### Preparing the Data"
   ]
  },
  {
   "cell_type": "code",
   "execution_count": 3,
   "id": "unauthorized-remainder",
   "metadata": {
    "execution": {
     "iopub.execute_input": "2021-07-11T20:04:47.013566Z",
     "iopub.status.busy": "2021-07-11T20:04:47.013063Z",
     "iopub.status.idle": "2021-07-11T20:04:47.026103Z",
     "shell.execute_reply": "2021-07-11T20:04:47.025697Z"
    },
    "papermill": {
     "duration": 0.042259,
     "end_time": "2021-07-11T20:04:47.026213",
     "exception": false,
     "start_time": "2021-07-11T20:04:46.983954",
     "status": "completed"
    },
    "tags": []
   },
   "outputs": [],
   "source": [
    "import mnist"
   ]
  },
  {
   "cell_type": "code",
   "execution_count": 4,
   "id": "correct-antarctica",
   "metadata": {
    "execution": {
     "iopub.execute_input": "2021-07-11T20:04:47.098202Z",
     "iopub.status.busy": "2021-07-11T20:04:47.091865Z",
     "iopub.status.idle": "2021-07-11T20:05:23.885438Z",
     "shell.execute_reply": "2021-07-11T20:05:23.884312Z"
    },
    "papermill": {
     "duration": 36.83323,
     "end_time": "2021-07-11T20:05:23.885582",
     "exception": false,
     "start_time": "2021-07-11T20:04:47.052352",
     "status": "completed"
    },
    "tags": []
   },
   "outputs": [],
   "source": [
    "train_images = mnist.train_images()\n",
    "train_labels = mnist.train_labels()"
   ]
  },
  {
   "cell_type": "code",
   "execution_count": 5,
   "id": "musical-prospect",
   "metadata": {
    "execution": {
     "iopub.execute_input": "2021-07-11T20:05:23.942022Z",
     "iopub.status.busy": "2021-07-11T20:05:23.941159Z",
     "iopub.status.idle": "2021-07-11T20:05:23.954659Z",
     "shell.execute_reply": "2021-07-11T20:05:23.954236Z"
    },
    "papermill": {
     "duration": 0.042335,
     "end_time": "2021-07-11T20:05:23.954768",
     "exception": false,
     "start_time": "2021-07-11T20:05:23.912433",
     "status": "completed"
    },
    "tags": []
   },
   "outputs": [
    {
     "data": {
      "text/plain": [
       "((60000, 28, 28), (60000,))"
      ]
     },
     "execution_count": 5,
     "metadata": {},
     "output_type": "execute_result"
    }
   ],
   "source": [
    "train_images.shape, train_labels.shape"
   ]
  },
  {
   "cell_type": "code",
   "execution_count": 6,
   "id": "preliminary-elizabeth",
   "metadata": {
    "execution": {
     "iopub.execute_input": "2021-07-11T20:05:24.013155Z",
     "iopub.status.busy": "2021-07-11T20:05:24.012666Z",
     "iopub.status.idle": "2021-07-11T20:05:27.428701Z",
     "shell.execute_reply": "2021-07-11T20:05:27.427835Z"
    },
    "papermill": {
     "duration": 3.447731,
     "end_time": "2021-07-11T20:05:27.428842",
     "exception": false,
     "start_time": "2021-07-11T20:05:23.981111",
     "status": "completed"
    },
    "tags": []
   },
   "outputs": [],
   "source": [
    "test_images = mnist.test_images()\n",
    "test_labels = mnist.test_labels()"
   ]
  },
  {
   "cell_type": "code",
   "execution_count": 7,
   "id": "acknowledged-oxygen",
   "metadata": {
    "execution": {
     "iopub.execute_input": "2021-07-11T20:05:27.488305Z",
     "iopub.status.busy": "2021-07-11T20:05:27.487799Z",
     "iopub.status.idle": "2021-07-11T20:05:27.499075Z",
     "shell.execute_reply": "2021-07-11T20:05:27.498664Z"
    },
    "papermill": {
     "duration": 0.043758,
     "end_time": "2021-07-11T20:05:27.499215",
     "exception": false,
     "start_time": "2021-07-11T20:05:27.455457",
     "status": "completed"
    },
    "tags": []
   },
   "outputs": [
    {
     "data": {
      "text/plain": [
       "((10000, 28, 28), (10000,))"
      ]
     },
     "execution_count": 7,
     "metadata": {},
     "output_type": "execute_result"
    }
   ],
   "source": [
    "test_images.shape, test_labels.shape"
   ]
  },
  {
   "cell_type": "code",
   "execution_count": 8,
   "id": "innovative-organic",
   "metadata": {
    "execution": {
     "iopub.execute_input": "2021-07-11T20:05:27.559817Z",
     "iopub.status.busy": "2021-07-11T20:05:27.559313Z",
     "iopub.status.idle": "2021-07-11T20:05:27.698188Z",
     "shell.execute_reply": "2021-07-11T20:05:27.698575Z"
    },
    "papermill": {
     "duration": 0.172813,
     "end_time": "2021-07-11T20:05:27.698712",
     "exception": false,
     "start_time": "2021-07-11T20:05:27.525899",
     "status": "completed"
    },
    "tags": []
   },
   "outputs": [
    {
     "name": "stdout",
     "output_type": "stream",
     "text": [
      "2\n"
     ]
    },
    {
     "data": {
      "text/plain": [
       "<matplotlib.image.AxesImage at 0x7f754de5a630>"
      ]
     },
     "execution_count": 8,
     "metadata": {},
     "output_type": "execute_result"
    },
    {
     "data": {
      "image/png": "[encoded data removed]",
      "text/plain": [
       "<Figure size 432x288 with 1 Axes>"
      ]
     },
     "metadata": {
      "needs_background": "light"
     },
     "output_type": "display_data"
    }
   ],
   "source": [
    "image_index = 7776 # You may select anything up to 60,000\n",
    "print(train_labels[image_index]) \n",
    "plt.imshow(train_images[image_index], cmap='Greys')"
   ]
  },
  {
   "cell_type": "markdown",
   "id": "facial-modem",
   "metadata": {
    "papermill": {
     "duration": 0.028162,
     "end_time": "2021-07-11T20:05:27.756637",
     "exception": false,
     "start_time": "2021-07-11T20:05:27.728475",
     "status": "completed"
    },
    "tags": []
   },
   "source": [
    "## Filter data to get 3 and 8 out"
   ]
  },
  {
   "cell_type": "code",
   "execution_count": 9,
   "id": "thousand-acquisition",
   "metadata": {
    "execution": {
     "iopub.execute_input": "2021-07-11T20:05:27.827858Z",
     "iopub.status.busy": "2021-07-11T20:05:27.817306Z",
     "iopub.status.idle": "2021-07-11T20:05:27.838896Z",
     "shell.execute_reply": "2021-07-11T20:05:27.839353Z"
    },
    "papermill": {
     "duration": 0.055024,
     "end_time": "2021-07-11T20:05:27.839489",
     "exception": false,
     "start_time": "2021-07-11T20:05:27.784465",
     "status": "completed"
    },
    "tags": []
   },
   "outputs": [],
   "source": [
    "train_filter = np.where((train_labels == 3 ) | (train_labels == 8))\n",
    "test_filter = np.where((test_labels == 3) | (test_labels == 8))\n",
    "X_train, y_train = train_images[train_filter], train_labels[train_filter]\n",
    "X_test, y_test = test_images[test_filter], test_labels[test_filter]"
   ]
  },
  {
   "cell_type": "markdown",
   "id": "ruled-access",
   "metadata": {
    "papermill": {
     "duration": 0.02783,
     "end_time": "2021-07-11T20:05:27.895901",
     "exception": false,
     "start_time": "2021-07-11T20:05:27.868071",
     "status": "completed"
    },
    "tags": []
   },
   "source": [
    "We normalize the pixel values in the 0 to 1 range"
   ]
  },
  {
   "cell_type": "code",
   "execution_count": 10,
   "id": "isolated-denver",
   "metadata": {
    "execution": {
     "iopub.execute_input": "2021-07-11T20:05:27.971778Z",
     "iopub.status.busy": "2021-07-11T20:05:27.965318Z",
     "iopub.status.idle": "2021-07-11T20:05:28.006525Z",
     "shell.execute_reply": "2021-07-11T20:05:28.006000Z"
    },
    "papermill": {
     "duration": 0.081363,
     "end_time": "2021-07-11T20:05:28.006646",
     "exception": false,
     "start_time": "2021-07-11T20:05:27.925283",
     "status": "completed"
    },
    "tags": []
   },
   "outputs": [],
   "source": [
    "X_train = X_train/255.\n",
    "X_test = X_test/255."
   ]
  },
  {
   "cell_type": "markdown",
   "id": "perfect-summary",
   "metadata": {
    "papermill": {
     "duration": 0.027453,
     "end_time": "2021-07-11T20:05:28.062048",
     "exception": false,
     "start_time": "2021-07-11T20:05:28.034595",
     "status": "completed"
    },
    "tags": []
   },
   "source": [
    "Setup the labels as 1 (when the digit is 3) and 0 (when the digit is 8)"
   ]
  },
  {
   "cell_type": "code",
   "execution_count": 11,
   "id": "personalized-growing",
   "metadata": {
    "execution": {
     "iopub.execute_input": "2021-07-11T20:05:28.124241Z",
     "iopub.status.busy": "2021-07-11T20:05:28.120997Z",
     "iopub.status.idle": "2021-07-11T20:05:28.131856Z",
     "shell.execute_reply": "2021-07-11T20:05:28.132254Z"
    },
    "papermill": {
     "duration": 0.042525,
     "end_time": "2021-07-11T20:05:28.132395",
     "exception": false,
     "start_time": "2021-07-11T20:05:28.089870",
     "status": "completed"
    },
    "tags": []
   },
   "outputs": [],
   "source": [
    "y_train = 1*(y_train==3)\n",
    "y_test = 1*(y_test==3)"
   ]
  },
  {
   "cell_type": "code",
   "execution_count": 12,
   "id": "considered-virgin",
   "metadata": {
    "execution": {
     "iopub.execute_input": "2021-07-11T20:05:28.193473Z",
     "iopub.status.busy": "2021-07-11T20:05:28.192977Z",
     "iopub.status.idle": "2021-07-11T20:05:28.203571Z",
     "shell.execute_reply": "2021-07-11T20:05:28.203952Z"
    },
    "papermill": {
     "duration": 0.043933,
     "end_time": "2021-07-11T20:05:28.204077",
     "exception": false,
     "start_time": "2021-07-11T20:05:28.160144",
     "status": "completed"
    },
    "tags": []
   },
   "outputs": [
    {
     "data": {
      "text/plain": [
       "((11982, 28, 28), (1984, 28, 28))"
      ]
     },
     "execution_count": 12,
     "metadata": {},
     "output_type": "execute_result"
    }
   ],
   "source": [
    "X_train.shape, X_test.shape"
   ]
  },
  {
   "cell_type": "markdown",
   "id": "civilian-mobile",
   "metadata": {
    "papermill": {
     "duration": 0.027606,
     "end_time": "2021-07-11T20:05:28.259300",
     "exception": false,
     "start_time": "2021-07-11T20:05:28.231694",
     "status": "completed"
    },
    "tags": []
   },
   "source": [
    "### Reshape the input data to create a linear array"
   ]
  },
  {
   "cell_type": "code",
   "execution_count": 13,
   "id": "colonial-adams",
   "metadata": {
    "execution": {
     "iopub.execute_input": "2021-07-11T20:05:28.326172Z",
     "iopub.status.busy": "2021-07-11T20:05:28.325666Z",
     "iopub.status.idle": "2021-07-11T20:05:28.334779Z",
     "shell.execute_reply": "2021-07-11T20:05:28.334380Z"
    },
    "papermill": {
     "duration": 0.047877,
     "end_time": "2021-07-11T20:05:28.334885",
     "exception": false,
     "start_time": "2021-07-11T20:05:28.287008",
     "status": "completed"
    },
    "tags": []
   },
   "outputs": [
    {
     "data": {
      "text/plain": [
       "((11982, 784), (1984, 784))"
      ]
     },
     "execution_count": 13,
     "metadata": {},
     "output_type": "execute_result"
    }
   ],
   "source": [
    "X_train = X_train.reshape(X_train.shape[0], -1)\n",
    "X_test = X_test.reshape(X_test.shape[0], -1)\n",
    "X_train.shape, X_test.shape"
   ]
  },
  {
   "cell_type": "markdown",
   "id": "smart-details",
   "metadata": {
    "papermill": {
     "duration": 0.027919,
     "end_time": "2021-07-11T20:05:28.390884",
     "exception": false,
     "start_time": "2021-07-11T20:05:28.362965",
     "status": "completed"
    },
    "tags": []
   },
   "source": [
    "### Importing appropriate functions from 'Kudzu'"
   ]
  },
  {
   "cell_type": "code",
   "execution_count": 14,
   "id": "celtic-trial",
   "metadata": {
    "execution": {
     "iopub.execute_input": "2021-07-11T20:05:28.451352Z",
     "iopub.status.busy": "2021-07-11T20:05:28.450821Z",
     "iopub.status.idle": "2021-07-11T20:05:28.469034Z",
     "shell.execute_reply": "2021-07-11T20:05:28.468549Z"
    },
    "papermill": {
     "duration": 0.050064,
     "end_time": "2021-07-11T20:05:28.469156",
     "exception": false,
     "start_time": "2021-07-11T20:05:28.419092",
     "status": "completed"
    },
    "tags": []
   },
   "outputs": [],
   "source": [
    "from kudzu.layer import Sigmoid\n",
    "from kudzu.layer import Relu\n",
    "from kudzu.layer import Affine, Sigmoid\n",
    "\n",
    "from kudzu.model import Model\n",
    "from kudzu.train import Learner\n",
    "from kudzu.optim import GD\n",
    "from kudzu.data import Data, Dataloader, Sampler\n",
    "\n",
    "from kudzu.callbacks import AccCallback\n",
    "from kudzu.callbacks import ClfCallback\n",
    "\n",
    "from kudzu.loss import MSE"
   ]
  },
  {
   "cell_type": "markdown",
   "id": "coupled-customer",
   "metadata": {
    "papermill": {
     "duration": 0.027859,
     "end_time": "2021-07-11T20:05:28.525885",
     "exception": false,
     "start_time": "2021-07-11T20:05:28.498026",
     "status": "completed"
    },
    "tags": []
   },
   "source": [
    "### Let us create a `Config` class, to store important parameters. \n",
    "This class essentially plays the role of a dictionary."
   ]
  },
  {
   "cell_type": "code",
   "execution_count": 15,
   "id": "young-ceiling",
   "metadata": {
    "execution": {
     "iopub.execute_input": "2021-07-11T20:05:28.597119Z",
     "iopub.status.busy": "2021-07-11T20:05:28.590675Z",
     "iopub.status.idle": "2021-07-11T20:05:28.598893Z",
     "shell.execute_reply": "2021-07-11T20:05:28.599294Z"
    },
    "papermill": {
     "duration": 0.045435,
     "end_time": "2021-07-11T20:05:28.599420",
     "exception": false,
     "start_time": "2021-07-11T20:05:28.553985",
     "status": "completed"
    },
    "tags": []
   },
   "outputs": [],
   "source": [
    "class Config:\n",
    "    pass\n",
    "config = Config()\n",
    "config.lr = 0.001\n",
    "config.num_epochs = 251\n",
    "config.bs = 50"
   ]
  },
  {
   "cell_type": "markdown",
   "id": "according-mandate",
   "metadata": {
    "papermill": {
     "duration": 0.028012,
     "end_time": "2021-07-11T20:05:28.655490",
     "exception": false,
     "start_time": "2021-07-11T20:05:28.627478",
     "status": "completed"
    },
    "tags": []
   },
   "source": [
    "### Initializing data to the variables"
   ]
  },
  {
   "cell_type": "code",
   "execution_count": 16,
   "id": "academic-disposition",
   "metadata": {
    "execution": {
     "iopub.execute_input": "2021-07-11T20:05:28.720308Z",
     "iopub.status.busy": "2021-07-11T20:05:28.719802Z",
     "iopub.status.idle": "2021-07-11T20:05:28.729280Z",
     "shell.execute_reply": "2021-07-11T20:05:28.728855Z"
    },
    "papermill": {
     "duration": 0.045814,
     "end_time": "2021-07-11T20:05:28.729388",
     "exception": false,
     "start_time": "2021-07-11T20:05:28.683574",
     "status": "completed"
    },
    "tags": []
   },
   "outputs": [],
   "source": [
    "data = Data(X_train, y_train.reshape(-1,1))\n",
    "sampler = Sampler(data, config.bs, shuffle=True)\n",
    "\n",
    "dl = Dataloader(data, sampler)\n",
    "\n",
    "opt = GD(config.lr)\n",
    "loss = MSE()"
   ]
  },
  {
   "cell_type": "code",
   "execution_count": 17,
   "id": "featured-commission",
   "metadata": {
    "execution": {
     "iopub.execute_input": "2021-07-11T20:05:28.792248Z",
     "iopub.status.busy": "2021-07-11T20:05:28.791752Z",
     "iopub.status.idle": "2021-07-11T20:05:28.802227Z",
     "shell.execute_reply": "2021-07-11T20:05:28.801825Z"
    },
    "papermill": {
     "duration": 0.045042,
     "end_time": "2021-07-11T20:05:28.802336",
     "exception": false,
     "start_time": "2021-07-11T20:05:28.757294",
     "status": "completed"
    },
    "tags": []
   },
   "outputs": [],
   "source": [
    "training_xdata = X_train\n",
    "testing_xdata = X_test\n",
    "training_ydata = y_train.reshape(-1,1)\n",
    "testing_ydata = y_test.reshape(-1,1)"
   ]
  },
  {
   "cell_type": "markdown",
   "id": "played-safety",
   "metadata": {
    "papermill": {
     "duration": 0.027986,
     "end_time": "2021-07-11T20:05:28.858353",
     "exception": false,
     "start_time": "2021-07-11T20:05:28.830367",
     "status": "completed"
    },
    "tags": []
   },
   "source": [
    "### Running Models with the Training data\n",
    "Details about the network layers:\n",
    "- A first affine layer has 784 inputs and does 100 affine transforms. These are followed by a Relu\n",
    "- A second affine layer has 100 inputs from the 100 activations of the past layer, and does 100 affine transforms. These are followed by a Relu\n",
    "- A third affine layer has 100 activations and does 2 affine transformations to create an embedding for visualization. There is no non-linearity here.\n",
    "- A final \"logistic regression\" which has an affine transform from 2 inputs to 1 output, which is squeezed through a sigmoid.\n",
    "\n",
    "Help taken from Anshuman's Notebook."
   ]
  },
  {
   "cell_type": "code",
   "execution_count": 18,
   "id": "asian-bankruptcy",
   "metadata": {
    "execution": {
     "iopub.execute_input": "2021-07-11T20:05:28.922443Z",
     "iopub.status.busy": "2021-07-11T20:05:28.921927Z",
     "iopub.status.idle": "2021-07-11T20:05:28.935867Z",
     "shell.execute_reply": "2021-07-11T20:05:28.936284Z"
    },
    "papermill": {
     "duration": 0.050089,
     "end_time": "2021-07-11T20:05:28.936428",
     "exception": false,
     "start_time": "2021-07-11T20:05:28.886339",
     "status": "completed"
    },
    "tags": []
   },
   "outputs": [],
   "source": [
    "# layers for the Neural Network\n",
    "layers = [Affine(\"first\", 784, 100), Relu(\"first\"), Affine(\"second\", 100, 100), Relu(\"second\"), Affine(\"third\", 100, 2), Affine(\"final\", 2, 1), Sigmoid(\"final\")]\n",
    "model_nn = Model(layers)\n",
    "\n",
    "# layers for the Logistic Regression\n",
    "layers_lr = [Affine(\"logits\", 784, 1), Sigmoid(\"sigmoid\")]\n",
    "model_lr = Model(layers_lr)"
   ]
  },
  {
   "cell_type": "code",
   "execution_count": 19,
   "id": "removed-butler",
   "metadata": {
    "execution": {
     "iopub.execute_input": "2021-07-11T20:05:29.009572Z",
     "iopub.status.busy": "2021-07-11T20:05:29.009077Z",
     "iopub.status.idle": "2021-07-11T20:05:29.011030Z",
     "shell.execute_reply": "2021-07-11T20:05:29.011463Z"
    },
    "papermill": {
     "duration": 0.046418,
     "end_time": "2021-07-11T20:05:29.011592",
     "exception": false,
     "start_time": "2021-07-11T20:05:28.965174",
     "status": "completed"
    },
    "tags": []
   },
   "outputs": [],
   "source": [
    "# suffix _nn stands for Neural Network.\n",
    "learner_nn = Learner(loss, model_nn, opt, config.num_epochs)\n",
    "acc_nn = ClfCallback(learner_nn, config.bs, training_xdata , testing_xdata, training_ydata, testing_ydata)\n",
    "learner_nn.set_callbacks([acc_nn])"
   ]
  },
  {
   "cell_type": "code",
   "execution_count": 20,
   "id": "conceptual-throw",
   "metadata": {
    "execution": {
     "iopub.execute_input": "2021-07-11T20:05:29.081396Z",
     "iopub.status.busy": "2021-07-11T20:05:29.070546Z",
     "iopub.status.idle": "2021-07-11T20:06:44.281401Z",
     "shell.execute_reply": "2021-07-11T20:06:44.281896Z"
    },
    "papermill": {
     "duration": 75.242384,
     "end_time": "2021-07-11T20:06:44.282037",
     "exception": false,
     "start_time": "2021-07-11T20:05:29.039653",
     "status": "completed"
    },
    "tags": []
   },
   "outputs": [
    {
     "name": "stdout",
     "output_type": "stream",
     "text": [
      "====== Neural Network ======\n"
     ]
    },
    {
     "name": "stdout",
     "output_type": "stream",
     "text": [
      "Epoch 0, Loss 0.2485\n",
      "Training Accuracy: 0.6012, Testing Accuracy: 0.6174\n",
      "\n"
     ]
    },
    {
     "name": "stdout",
     "output_type": "stream",
     "text": [
      "Epoch 10, Loss 0.1189\n",
      "Training Accuracy: 0.9092, Testing Accuracy: 0.9183\n",
      "\n"
     ]
    },
    {
     "name": "stdout",
     "output_type": "stream",
     "text": [
      "Epoch 20, Loss 0.0651\n",
      "Training Accuracy: 0.9366, Testing Accuracy: 0.9395\n",
      "\n"
     ]
    },
    {
     "name": "stdout",
     "output_type": "stream",
     "text": [
      "Epoch 30, Loss 0.0483\n",
      "Training Accuracy: 0.9475, Testing Accuracy: 0.9567\n",
      "\n"
     ]
    },
    {
     "name": "stdout",
     "output_type": "stream",
     "text": [
      "Epoch 40, Loss 0.0408\n",
      "Training Accuracy: 0.9533, Testing Accuracy: 0.9622\n",
      "\n"
     ]
    },
    {
     "name": "stdout",
     "output_type": "stream",
     "text": [
      "Epoch 50, Loss 0.0366\n",
      "Training Accuracy: 0.9571, Testing Accuracy: 0.9677\n",
      "\n"
     ]
    },
    {
     "name": "stdout",
     "output_type": "stream",
     "text": [
      "Epoch 60, Loss 0.0338\n",
      "Training Accuracy: 0.9598, Testing Accuracy: 0.9693\n",
      "\n"
     ]
    },
    {
     "name": "stdout",
     "output_type": "stream",
     "text": [
      "Epoch 70, Loss 0.0318\n",
      "Training Accuracy: 0.9615, Testing Accuracy: 0.9693\n",
      "\n"
     ]
    },
    {
     "name": "stdout",
     "output_type": "stream",
     "text": [
      "Epoch 80, Loss 0.0303\n",
      "Training Accuracy: 0.9630, Testing Accuracy: 0.9693\n",
      "\n"
     ]
    },
    {
     "name": "stdout",
     "output_type": "stream",
     "text": [
      "Epoch 90, Loss 0.029\n",
      "Training Accuracy: 0.9650, Testing Accuracy: 0.9708\n",
      "\n"
     ]
    },
    {
     "name": "stdout",
     "output_type": "stream",
     "text": [
      "Epoch 100, Loss 0.0279\n",
      "Training Accuracy: 0.9664, Testing Accuracy: 0.9713\n",
      "\n"
     ]
    },
    {
     "name": "stdout",
     "output_type": "stream",
     "text": [
      "Epoch 110, Loss 0.027\n",
      "Training Accuracy: 0.9678, Testing Accuracy: 0.9713\n",
      "\n"
     ]
    },
    {
     "name": "stdout",
     "output_type": "stream",
     "text": [
      "Epoch 120, Loss 0.0262\n",
      "Training Accuracy: 0.9685, Testing Accuracy: 0.9713\n",
      "\n"
     ]
    },
    {
     "name": "stdout",
     "output_type": "stream",
     "text": [
      "Epoch 130, Loss 0.0255\n",
      "Training Accuracy: 0.9694, Testing Accuracy: 0.9718\n",
      "\n"
     ]
    },
    {
     "name": "stdout",
     "output_type": "stream",
     "text": [
      "Epoch 140, Loss 0.0248\n",
      "Training Accuracy: 0.9703, Testing Accuracy: 0.9723\n",
      "\n"
     ]
    },
    {
     "name": "stdout",
     "output_type": "stream",
     "text": [
      "Epoch 150, Loss 0.0243\n",
      "Training Accuracy: 0.9709, Testing Accuracy: 0.9718\n",
      "\n"
     ]
    },
    {
     "name": "stdout",
     "output_type": "stream",
     "text": [
      "Epoch 160, Loss 0.0237\n",
      "Training Accuracy: 0.9711, Testing Accuracy: 0.9723\n",
      "\n"
     ]
    },
    {
     "name": "stdout",
     "output_type": "stream",
     "text": [
      "Epoch 170, Loss 0.0232\n",
      "Training Accuracy: 0.9720, Testing Accuracy: 0.9723\n",
      "\n"
     ]
    },
    {
     "name": "stdout",
     "output_type": "stream",
     "text": [
      "Epoch 180, Loss 0.0227\n",
      "Training Accuracy: 0.9733, Testing Accuracy: 0.9733\n",
      "\n"
     ]
    },
    {
     "name": "stdout",
     "output_type": "stream",
     "text": [
      "Epoch 190, Loss 0.0223\n",
      "Training Accuracy: 0.9744, Testing Accuracy: 0.9733\n",
      "\n"
     ]
    },
    {
     "name": "stdout",
     "output_type": "stream",
     "text": [
      "Epoch 200, Loss 0.0219\n",
      "Training Accuracy: 0.9751, Testing Accuracy: 0.9738\n",
      "\n"
     ]
    },
    {
     "name": "stdout",
     "output_type": "stream",
     "text": [
      "Epoch 210, Loss 0.0215\n",
      "Training Accuracy: 0.9755, Testing Accuracy: 0.9743\n",
      "\n"
     ]
    },
    {
     "name": "stdout",
     "output_type": "stream",
     "text": [
      "Epoch 220, Loss 0.0211\n",
      "Training Accuracy: 0.9764, Testing Accuracy: 0.9738\n",
      "\n"
     ]
    },
    {
     "name": "stdout",
     "output_type": "stream",
     "text": [
      "Epoch 230, Loss 0.0208\n",
      "Training Accuracy: 0.9766, Testing Accuracy: 0.9743\n",
      "\n"
     ]
    },
    {
     "name": "stdout",
     "output_type": "stream",
     "text": [
      "Epoch 240, Loss 0.0204\n",
      "Training Accuracy: 0.9774, Testing Accuracy: 0.9743\n",
      "\n"
     ]
    },
    {
     "name": "stdout",
     "output_type": "stream",
     "text": [
      "Epoch 250, Loss 0.0201\n",
      "Training Accuracy: 0.9779, Testing Accuracy: 0.9738\n",
      "\n"
     ]
    },
    {
     "data": {
      "text/plain": [
       "0.013319941927729947"
      ]
     },
     "execution_count": 20,
     "metadata": {},
     "output_type": "execute_result"
    }
   ],
   "source": [
    "print(\"====== Neural Network ======\")\n",
    "learner_nn.train_loop(dl)"
   ]
  },
  {
   "cell_type": "markdown",
   "id": "competent-suffering",
   "metadata": {
    "papermill": {
     "duration": 0.035358,
     "end_time": "2021-07-11T20:06:44.361522",
     "exception": false,
     "start_time": "2021-07-11T20:06:44.326164",
     "status": "completed"
    },
    "tags": []
   },
   "source": [
    "### Logistic Regression based Implementation."
   ]
  },
  {
   "cell_type": "code",
   "execution_count": 21,
   "id": "qualified-psychiatry",
   "metadata": {
    "execution": {
     "iopub.execute_input": "2021-07-11T20:06:44.444259Z",
     "iopub.status.busy": "2021-07-11T20:06:44.443745Z",
     "iopub.status.idle": "2021-07-11T20:06:44.447674Z",
     "shell.execute_reply": "2021-07-11T20:06:44.448054Z"
    },
    "papermill": {
     "duration": 0.051526,
     "end_time": "2021-07-11T20:06:44.448186",
     "exception": false,
     "start_time": "2021-07-11T20:06:44.396660",
     "status": "completed"
    },
    "tags": []
   },
   "outputs": [],
   "source": [
    "learner_lr = Learner(loss, model_lr, opt, config.num_epochs)\n",
    "acc_lr = ClfCallback(learner_lr, config.bs, training_xdata , testing_xdata, training_ydata, testing_ydata)\n",
    "learner_lr.set_callbacks([acc_lr])"
   ]
  },
  {
   "cell_type": "code",
   "execution_count": 22,
   "id": "average-outside",
   "metadata": {
    "execution": {
     "iopub.execute_input": "2021-07-11T20:06:44.535635Z",
     "iopub.status.busy": "2021-07-11T20:06:44.527163Z",
     "iopub.status.idle": "2021-07-11T20:06:58.138551Z",
     "shell.execute_reply": "2021-07-11T20:06:58.139252Z"
    },
    "papermill": {
     "duration": 13.65607,
     "end_time": "2021-07-11T20:06:58.139398",
     "exception": false,
     "start_time": "2021-07-11T20:06:44.483328",
     "status": "completed"
    },
    "tags": []
   },
   "outputs": [
    {
     "name": "stdout",
     "output_type": "stream",
     "text": [
      "====== Logistic Regression ======\n",
      "Epoch 0, Loss 0.2247\n",
      "Training Accuracy: 0.7169, Testing Accuracy: 0.7127\n",
      "\n"
     ]
    },
    {
     "name": "stdout",
     "output_type": "stream",
     "text": [
      "Epoch 10, Loss 0.1014\n",
      "Training Accuracy: 0.9094, Testing Accuracy: 0.9209\n",
      "\n"
     ]
    },
    {
     "name": "stdout",
     "output_type": "stream",
     "text": [
      "Epoch 20, Loss 0.0783\n",
      "Training Accuracy: 0.9306, Testing Accuracy: 0.9395\n",
      "\n"
     ]
    },
    {
     "name": "stdout",
     "output_type": "stream",
     "text": [
      "Epoch 30, Loss 0.0675\n",
      "Training Accuracy: 0.9391, Testing Accuracy: 0.9471\n",
      "\n"
     ]
    },
    {
     "name": "stdout",
     "output_type": "stream",
     "text": [
      "Epoch 40, Loss 0.061\n",
      "Training Accuracy: 0.9445, Testing Accuracy: 0.9511\n",
      "\n"
     ]
    },
    {
     "name": "stdout",
     "output_type": "stream",
     "text": [
      "Epoch 50, Loss 0.0566\n",
      "Training Accuracy: 0.9480, Testing Accuracy: 0.9556\n",
      "\n"
     ]
    },
    {
     "name": "stdout",
     "output_type": "stream",
     "text": [
      "Epoch 60, Loss 0.0534\n",
      "Training Accuracy: 0.9503, Testing Accuracy: 0.9572\n",
      "\n"
     ]
    },
    {
     "name": "stdout",
     "output_type": "stream",
     "text": [
      "Epoch 70, Loss 0.0509\n",
      "Training Accuracy: 0.9512, Testing Accuracy: 0.9577\n",
      "\n"
     ]
    },
    {
     "name": "stdout",
     "output_type": "stream",
     "text": [
      "Epoch 80, Loss 0.0489\n",
      "Training Accuracy: 0.9521, Testing Accuracy: 0.9577\n",
      "\n"
     ]
    },
    {
     "name": "stdout",
     "output_type": "stream",
     "text": [
      "Epoch 90, Loss 0.0472\n",
      "Training Accuracy: 0.9528, Testing Accuracy: 0.9602\n",
      "\n"
     ]
    },
    {
     "name": "stdout",
     "output_type": "stream",
     "text": [
      "Epoch 100, Loss 0.0458\n",
      "Training Accuracy: 0.9533, Testing Accuracy: 0.9602\n",
      "\n"
     ]
    },
    {
     "name": "stdout",
     "output_type": "stream",
     "text": [
      "Epoch 110, Loss 0.0446\n",
      "Training Accuracy: 0.9546, Testing Accuracy: 0.9627\n",
      "\n"
     ]
    },
    {
     "name": "stdout",
     "output_type": "stream",
     "text": [
      "Epoch 120, Loss 0.0436\n",
      "Training Accuracy: 0.9551, Testing Accuracy: 0.9637\n",
      "\n"
     ]
    },
    {
     "name": "stdout",
     "output_type": "stream",
     "text": [
      "Epoch 130, Loss 0.0427\n",
      "Training Accuracy: 0.9559, Testing Accuracy: 0.9637\n",
      "\n"
     ]
    },
    {
     "name": "stdout",
     "output_type": "stream",
     "text": [
      "Epoch 140, Loss 0.0419\n",
      "Training Accuracy: 0.9569, Testing Accuracy: 0.9637\n",
      "\n"
     ]
    },
    {
     "name": "stdout",
     "output_type": "stream",
     "text": [
      "Epoch 150, Loss 0.0411\n",
      "Training Accuracy: 0.9574, Testing Accuracy: 0.9637\n",
      "\n"
     ]
    },
    {
     "name": "stdout",
     "output_type": "stream",
     "text": [
      "Epoch 160, Loss 0.0405\n",
      "Training Accuracy: 0.9578, Testing Accuracy: 0.9637\n",
      "\n"
     ]
    },
    {
     "name": "stdout",
     "output_type": "stream",
     "text": [
      "Epoch 170, Loss 0.0399\n",
      "Training Accuracy: 0.9584, Testing Accuracy: 0.9637\n",
      "\n"
     ]
    },
    {
     "name": "stdout",
     "output_type": "stream",
     "text": [
      "Epoch 180, Loss 0.0393\n",
      "Training Accuracy: 0.9586, Testing Accuracy: 0.9637\n",
      "\n"
     ]
    },
    {
     "name": "stdout",
     "output_type": "stream",
     "text": [
      "Epoch 190, Loss 0.0388\n",
      "Training Accuracy: 0.9591, Testing Accuracy: 0.9647\n",
      "\n"
     ]
    },
    {
     "name": "stdout",
     "output_type": "stream",
     "text": [
      "Epoch 200, Loss 0.0384\n",
      "Training Accuracy: 0.9597, Testing Accuracy: 0.9652\n",
      "\n"
     ]
    },
    {
     "name": "stdout",
     "output_type": "stream",
     "text": [
      "Epoch 210, Loss 0.0379\n",
      "Training Accuracy: 0.9599, Testing Accuracy: 0.9657\n",
      "\n"
     ]
    },
    {
     "name": "stdout",
     "output_type": "stream",
     "text": [
      "Epoch 220, Loss 0.0375\n",
      "Training Accuracy: 0.9604, Testing Accuracy: 0.9652\n",
      "\n"
     ]
    },
    {
     "name": "stdout",
     "output_type": "stream",
     "text": [
      "Epoch 230, Loss 0.0371\n",
      "Training Accuracy: 0.9604, Testing Accuracy: 0.9657\n",
      "\n"
     ]
    },
    {
     "name": "stdout",
     "output_type": "stream",
     "text": [
      "Epoch 240, Loss 0.0368\n",
      "Training Accuracy: 0.9604, Testing Accuracy: 0.9657\n",
      "\n"
     ]
    },
    {
     "name": "stdout",
     "output_type": "stream",
     "text": [
      "Epoch 250, Loss 0.0364\n",
      "Training Accuracy: 0.9607, Testing Accuracy: 0.9657\n",
      "\n"
     ]
    },
    {
     "data": {
      "text/plain": [
       "0.01407048356730193"
      ]
     },
     "execution_count": 22,
     "metadata": {},
     "output_type": "execute_result"
    }
   ],
   "source": [
    "print(\"====== Logistic Regression ======\")\n",
    "learner_lr.train_loop(dl)"
   ]
  },
  {
   "cell_type": "markdown",
   "id": "adjusted-possible",
   "metadata": {
    "papermill": {
     "duration": 0.042415,
     "end_time": "2021-07-11T20:06:58.224423",
     "exception": false,
     "start_time": "2021-07-11T20:06:58.182008",
     "status": "completed"
    },
    "tags": []
   },
   "source": [
    "### Comparing results of NN and LR"
   ]
  },
  {
   "cell_type": "code",
   "execution_count": 23,
   "id": "mental-multimedia",
   "metadata": {
    "execution": {
     "iopub.execute_input": "2021-07-11T20:06:58.324266Z",
     "iopub.status.busy": "2021-07-11T20:06:58.323723Z",
     "iopub.status.idle": "2021-07-11T20:06:58.554107Z",
     "shell.execute_reply": "2021-07-11T20:06:58.554567Z"
    },
    "papermill": {
     "duration": 0.287877,
     "end_time": "2021-07-11T20:06:58.554719",
     "exception": false,
     "start_time": "2021-07-11T20:06:58.266842",
     "status": "completed"
    },
    "tags": []
   },
   "outputs": [
    {
     "data": {
      "text/plain": [
       "<matplotlib.legend.Legend at 0x7f75459bc208>"
      ]
     },
     "execution_count": 23,
     "metadata": {},
     "output_type": "execute_result"
    },
    {
     "data": {
      "image/png": "[encoded data removed]",
      "text/plain": [
       "<Figure size 1080x720 with 1 Axes>"
      ]
     },
     "metadata": {
      "needs_background": "light"
     },
     "output_type": "display_data"
    }
   ],
   "source": [
    "plt.figure(figsize=(15,10))\n",
    "\n",
    "# Neural Network plots\n",
    "plt.plot(acc_nn.accuracies, 'r-', label = \"Training Accuracies - NN\")\n",
    "plt.plot(acc_nn.test_accuracies, 'g-', label = \"Testing Accuracies - NN\")\n",
    "\n",
    "# Logistic Regression plots\n",
    "plt.plot(acc_lr.accuracies, 'k-', label = \"Training Accuracies - LR\")\n",
    "plt.plot(acc_lr.test_accuracies, 'b-', label = \"Testing Accuracies - LR\")\n",
    "\n",
    "plt.ylim(0.8, 1)\n",
    "\n",
    "plt.legend()\n",
    "\n"
   ]
  },
  {
   "cell_type": "markdown",
   "id": "sexual-flesh",
   "metadata": {
    "papermill": {
     "duration": 0.044139,
     "end_time": "2021-07-11T20:06:58.643427",
     "exception": false,
     "start_time": "2021-07-11T20:06:58.599288",
     "status": "completed"
    },
    "tags": []
   },
   "source": [
    "### From the plot, we can observe the following:\n",
    "- Neural Network achieves higher accuracy than the Logistic Regression model.\n",
    "- This apparently, is because of overfitting, i.e. NN captures more noise than data.\n",
    "- Testing accuracy of NN drops below the Training accuracy at higher epochs. This explains the over-fitting on training data.\n",
    "- Logistic Regression gives a reliable accuracy, without the above mentioned problem.\n"
   ]
  },
  {
   "cell_type": "markdown",
   "id": "institutional-pacific",
   "metadata": {
    "papermill": {
     "duration": 0.044237,
     "end_time": "2021-07-11T20:06:58.731964",
     "exception": false,
     "start_time": "2021-07-11T20:06:58.687727",
     "status": "completed"
    },
    "tags": []
   },
   "source": [
    "### Moving till the last but one layer (excluding it).\n",
    "#### Plotting the outputs of this layer of the NN."
   ]
  },
  {
   "cell_type": "code",
   "execution_count": 24,
   "id": "economic-server",
   "metadata": {
    "execution": {
     "iopub.execute_input": "2021-07-11T20:06:58.827999Z",
     "iopub.status.busy": "2021-07-11T20:06:58.826928Z",
     "iopub.status.idle": "2021-07-11T20:06:58.837530Z",
     "shell.execute_reply": "2021-07-11T20:06:58.837907Z"
    },
    "papermill": {
     "duration": 0.061619,
     "end_time": "2021-07-11T20:06:58.838042",
     "exception": false,
     "start_time": "2021-07-11T20:06:58.776423",
     "status": "completed"
    },
    "tags": []
   },
   "outputs": [],
   "source": [
    "model_new = Model(layers[:-2])"
   ]
  },
  {
   "cell_type": "code",
   "execution_count": 25,
   "id": "varied-upgrade",
   "metadata": {
    "execution": {
     "iopub.execute_input": "2021-07-11T20:06:58.945913Z",
     "iopub.status.busy": "2021-07-11T20:06:58.943670Z",
     "iopub.status.idle": "2021-07-11T20:06:58.963621Z",
     "shell.execute_reply": "2021-07-11T20:06:58.964030Z"
    },
    "papermill": {
     "duration": 0.082075,
     "end_time": "2021-07-11T20:06:58.964168",
     "exception": false,
     "start_time": "2021-07-11T20:06:58.882093",
     "status": "completed"
    },
    "tags": []
   },
   "outputs": [],
   "source": [
    "plot_testing = model_new(testing_xdata)"
   ]
  },
  {
   "cell_type": "code",
   "execution_count": 26,
   "id": "specific-handling",
   "metadata": {
    "execution": {
     "iopub.execute_input": "2021-07-11T20:06:59.096302Z",
     "iopub.status.busy": "2021-07-11T20:06:59.095777Z",
     "iopub.status.idle": "2021-07-11T20:06:59.316753Z",
     "shell.execute_reply": "2021-07-11T20:06:59.316272Z"
    },
    "papermill": {
     "duration": 0.277553,
     "end_time": "2021-07-11T20:06:59.316886",
     "exception": false,
     "start_time": "2021-07-11T20:06:59.039333",
     "status": "completed"
    },
    "tags": []
   },
   "outputs": [
    {
     "data": {
      "text/plain": [
       "Text(0.5, 1.0, 'Outputs')"
      ]
     },
     "execution_count": 26,
     "metadata": {},
     "output_type": "execute_result"
    },
    {
     "data": {
      "image/png": "[encoded data removed]",
      "text/plain": [
       "<Figure size 576x504 with 1 Axes>"
      ]
     },
     "metadata": {
      "needs_background": "light"
     },
     "output_type": "display_data"
    }
   ],
   "source": [
    "plt.figure(figsize=(8,7))\n",
    "plt.scatter(plot_testing[:,0], plot_testing[:,1], alpha = 0.1, c = y_test.ravel());\n",
    "plt.title('Outputs')"
   ]
  },
  {
   "cell_type": "markdown",
   "id": "described-knowing",
   "metadata": {
    "papermill": {
     "duration": 0.046887,
     "end_time": "2021-07-11T20:06:59.410761",
     "exception": false,
     "start_time": "2021-07-11T20:06:59.363874",
     "status": "completed"
    },
    "tags": []
   },
   "source": [
    "### Plotting probability contours"
   ]
  },
  {
   "cell_type": "code",
   "execution_count": 27,
   "id": "needed-growing",
   "metadata": {
    "execution": {
     "iopub.execute_input": "2021-07-11T20:06:59.516507Z",
     "iopub.status.busy": "2021-07-11T20:06:59.515980Z",
     "iopub.status.idle": "2021-07-11T20:06:59.522209Z",
     "shell.execute_reply": "2021-07-11T20:06:59.521774Z"
    },
    "papermill": {
     "duration": 0.06526,
     "end_time": "2021-07-11T20:06:59.522321",
     "exception": false,
     "start_time": "2021-07-11T20:06:59.457061",
     "status": "completed"
    },
    "tags": []
   },
   "outputs": [],
   "source": [
    "model_prob = Model(layers[-2:]) "
   ]
  },
  {
   "cell_type": "code",
   "execution_count": 28,
   "id": "introductory-enforcement",
   "metadata": {
    "execution": {
     "iopub.execute_input": "2021-07-11T20:06:59.621662Z",
     "iopub.status.busy": "2021-07-11T20:06:59.621125Z",
     "iopub.status.idle": "2021-07-11T20:06:59.635576Z",
     "shell.execute_reply": "2021-07-11T20:06:59.635951Z"
    },
    "papermill": {
     "duration": 0.066597,
     "end_time": "2021-07-11T20:06:59.636086",
     "exception": false,
     "start_time": "2021-07-11T20:06:59.569489",
     "status": "completed"
    },
    "tags": []
   },
   "outputs": [],
   "source": [
    "# Adjust the x and y ranges according to the above generated plot.\n",
    "x_range = np.linspace(-4, 1, 100) \n",
    "y_range = np.linspace(-6, 6, 100) \n",
    "x_grid, y_grid = np.meshgrid(x_range, y_range) # x_grid and y_grig are of size 100 X 100\n",
    "\n",
    "# converting x_grid and y_grid to continuous arrays\n",
    "x_grid_flat = np.ravel(x_grid)\n",
    "y_grid_flat = np.ravel(y_grid)\n",
    "\n",
    "# The last layer of the current model takes two columns as input. Hence transpose of np.vstack() is required.\n",
    "X = np.vstack((x_grid_flat, y_grid_flat)).T\n",
    "\n",
    "# x_grid and y_grid are of size 100 x 100\n",
    "probability_contour = model_prob(X).reshape(100,100) "
   ]
  },
  {
   "cell_type": "code",
   "execution_count": 29,
   "id": "understood-landing",
   "metadata": {
    "execution": {
     "iopub.execute_input": "2021-07-11T20:06:59.743941Z",
     "iopub.status.busy": "2021-07-11T20:06:59.743419Z",
     "iopub.status.idle": "2021-07-11T20:06:59.990320Z",
     "shell.execute_reply": "2021-07-11T20:06:59.989533Z"
    },
    "papermill": {
     "duration": 0.29969,
     "end_time": "2021-07-11T20:06:59.990456",
     "exception": false,
     "start_time": "2021-07-11T20:06:59.690766",
     "status": "completed"
    },
    "tags": []
   },
   "outputs": [
    {
     "data": {
      "image/png": "[encoded data removed]",
      "text/plain": [
       "<Figure size 720x648 with 1 Axes>"
      ]
     },
     "metadata": {
      "needs_background": "light"
     },
     "output_type": "display_data"
    }
   ],
   "source": [
    "plt.figure(figsize=(10,9))\n",
    "plt.scatter(plot_testing[:,0], plot_testing[:,1], alpha = 0.1, c = y_test.ravel())\n",
    "contours = plt.contour(x_grid,y_grid,probability_contour)\n",
    "plt.title('Probability Contours')\n",
    "plt.clabel(contours, inline = True );"
   ]
  }
 ],
 "metadata": {
  "kernelspec": {
   "display_name": "Python 3",
   "language": "python",
   "name": "python3"
  },
  "language_info": {
   "codemirror_mode": {
    "name": "ipython",
    "version": 3
   },
   "file_extension": ".py",
   "mimetype": "text/x-python",
   "name": "python",
   "nbconvert_exporter": "python",
   "pygments_lexer": "ipython3",
   "version": "3.6.13"
  },
  "papermill": {
   "duration": 136.667051,
   "end_time": "2021-07-11T20:07:00.448299",
   "environment_variables": {},
   "exception": null,
   "input_path": "2020-08-11-NeuralNetwork.ipynb",
   "output_path": "2020-08-11-NeuralNetwork.ipynb",
   "parameters": {},
   "start_time": "2021-07-11T20:04:43.781248",
   "version": "2.1.2"
  }
 },
 "nbformat": 4,
 "nbformat_minor": 5
}