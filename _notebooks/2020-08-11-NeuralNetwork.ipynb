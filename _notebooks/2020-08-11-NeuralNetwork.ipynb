{
 "cells": [
  {
   "cell_type": "markdown",
   "id": "fitted-suggestion",
   "metadata": {
    "papermill": {
     "duration": 0.029314,
     "end_time": "2021-07-18T10:04:31.770924",
     "exception": false,
     "start_time": "2021-07-18T10:04:31.741610",
     "status": "completed"
    },
    "tags": []
   },
   "source": [
    "# \"A Basic Neural Network: Differentiate Hand-Written Digits\"\n",
    "\n",
    "- badges: true\n",
    "- author: Akshith Sriram"
   ]
  },
  {
   "cell_type": "markdown",
   "id": "signal-flexibility",
   "metadata": {
    "papermill": {
     "duration": 0.02452,
     "end_time": "2021-07-18T10:04:31.820743",
     "exception": false,
     "start_time": "2021-07-18T10:04:31.796223",
     "status": "completed"
    },
    "tags": []
   },
   "source": [
    "### Key Objectives:\n",
    "- Building a neural network that differentiates two hand-written digits 3 and 8.\n",
    "- Comparing the results of this Neural Network (NN) to that of a Logistic Regression (LR) model.\n",
    "\n",
    "### Requirements:\n",
    "- 'Kudzu' : A neural network library that was designed during our course by [Univ.AI](www.univ.ai). \n",
    "- MNIST Database\n",
    "\n",
    "If MNIST is not installed, use the command `!pip install mnist` given below.\n",
    "It can be run both from the command line and Jupyter Notebook."
   ]
  },
  {
   "cell_type": "code",
   "execution_count": 1,
   "id": "british-texture",
   "metadata": {
    "execution": {
     "iopub.execute_input": "2021-07-18T10:04:31.879387Z",
     "iopub.status.busy": "2021-07-18T10:04:31.877133Z",
     "iopub.status.idle": "2021-07-18T10:04:33.201651Z",
     "shell.execute_reply": "2021-07-18T10:04:33.200996Z"
    },
    "papermill": {
     "duration": 1.356461,
     "end_time": "2021-07-18T10:04:33.201797",
     "exception": false,
     "start_time": "2021-07-18T10:04:31.845336",
     "status": "completed"
    },
    "tags": []
   },
   "outputs": [
    {
     "name": "stdout",
     "output_type": "stream",
     "text": [
      "Collecting mnist\r\n"
     ]
    },
    {
     "name": "stdout",
     "output_type": "stream",
     "text": [
      "  Downloading mnist-0.2.2-py2.py3-none-any.whl (3.5 kB)\r\n",
      "Requirement already satisfied: numpy in /opt/hostedtoolcache/Python/3.6.14/x64/lib/python3.6/site-packages (from mnist) (1.19.5)\r\n"
     ]
    },
    {
     "name": "stdout",
     "output_type": "stream",
     "text": [
      "Installing collected packages: mnist\r\n"
     ]
    },
    {
     "name": "stdout",
     "output_type": "stream",
     "text": [
      "Successfully installed mnist-0.2.2\r\n"
     ]
    }
   ],
   "source": [
    "!pip install mnist "
   ]
  },
  {
   "cell_type": "markdown",
   "id": "stunning-extra",
   "metadata": {
    "papermill": {
     "duration": 0.025997,
     "end_time": "2021-07-18T10:04:33.254569",
     "exception": false,
     "start_time": "2021-07-18T10:04:33.228572",
     "status": "completed"
    },
    "tags": []
   },
   "source": [
    "#### Importing necessary libraries"
   ]
  },
  {
   "cell_type": "code",
   "execution_count": 2,
   "id": "wooden-france",
   "metadata": {
    "execution": {
     "iopub.execute_input": "2021-07-18T10:04:33.314983Z",
     "iopub.status.busy": "2021-07-18T10:04:33.312740Z",
     "iopub.status.idle": "2021-07-18T10:04:33.809526Z",
     "shell.execute_reply": "2021-07-18T10:04:33.809004Z"
    },
    "papermill": {
     "duration": 0.529148,
     "end_time": "2021-07-18T10:04:33.809667",
     "exception": false,
     "start_time": "2021-07-18T10:04:33.280519",
     "status": "completed"
    },
    "tags": []
   },
   "outputs": [],
   "source": [
    "%load_ext autoreload\n",
    "%autoreload 2\n",
    "\n",
    "%matplotlib inline\n",
    "import matplotlib.pyplot as plt\n",
    "\n",
    "import numpy as np\n",
    "import pandas as pd"
   ]
  },
  {
   "cell_type": "markdown",
   "id": "stunning-physics",
   "metadata": {
    "papermill": {
     "duration": 0.050184,
     "end_time": "2021-07-18T10:04:33.926282",
     "exception": false,
     "start_time": "2021-07-18T10:04:33.876098",
     "status": "completed"
    },
    "tags": []
   },
   "source": [
    "### Preparing the Data"
   ]
  },
  {
   "cell_type": "code",
   "execution_count": 3,
   "id": "unauthorized-remainder",
   "metadata": {
    "execution": {
     "iopub.execute_input": "2021-07-18T10:04:34.039587Z",
     "iopub.status.busy": "2021-07-18T10:04:34.039082Z",
     "iopub.status.idle": "2021-07-18T10:04:34.050204Z",
     "shell.execute_reply": "2021-07-18T10:04:34.050583Z"
    },
    "papermill": {
     "duration": 0.094719,
     "end_time": "2021-07-18T10:04:34.050716",
     "exception": false,
     "start_time": "2021-07-18T10:04:33.955997",
     "status": "completed"
    },
    "tags": []
   },
   "outputs": [],
   "source": [
    "import mnist"
   ]
  },
  {
   "cell_type": "code",
   "execution_count": 4,
   "id": "correct-antarctica",
   "metadata": {
    "execution": {
     "iopub.execute_input": "2021-07-18T10:04:34.285528Z",
     "iopub.status.busy": "2021-07-18T10:04:34.285013Z",
     "iopub.status.idle": "2021-07-18T10:06:00.022678Z",
     "shell.execute_reply": "2021-07-18T10:06:00.021634Z"
    },
    "papermill": {
     "duration": 85.789042,
     "end_time": "2021-07-18T10:06:00.022814",
     "exception": false,
     "start_time": "2021-07-18T10:04:34.233772",
     "status": "completed"
    },
    "tags": []
   },
   "outputs": [],
   "source": [
    "train_images = mnist.train_images()\n",
    "train_labels = mnist.train_labels()"
   ]
  },
  {
   "cell_type": "code",
   "execution_count": 5,
   "id": "musical-prospect",
   "metadata": {
    "execution": {
     "iopub.execute_input": "2021-07-18T10:06:00.078718Z",
     "iopub.status.busy": "2021-07-18T10:06:00.078219Z",
     "iopub.status.idle": "2021-07-18T10:06:00.091823Z",
     "shell.execute_reply": "2021-07-18T10:06:00.092199Z"
    },
    "papermill": {
     "duration": 0.042938,
     "end_time": "2021-07-18T10:06:00.092317",
     "exception": false,
     "start_time": "2021-07-18T10:06:00.049379",
     "status": "completed"
    },
    "tags": []
   },
   "outputs": [
    {
     "data": {
      "text/plain": [
       "((60000, 28, 28), (60000,))"
      ]
     },
     "execution_count": 5,
     "metadata": {},
     "output_type": "execute_result"
    }
   ],
   "source": [
    "train_images.shape, train_labels.shape"
   ]
  },
  {
   "cell_type": "code",
   "execution_count": 6,
   "id": "preliminary-elizabeth",
   "metadata": {
    "execution": {
     "iopub.execute_input": "2021-07-18T10:06:00.158663Z",
     "iopub.status.busy": "2021-07-18T10:06:00.154774Z",
     "iopub.status.idle": "2021-07-18T10:06:25.164874Z",
     "shell.execute_reply": "2021-07-18T10:06:25.163911Z"
    },
    "papermill": {
     "duration": 25.046483,
     "end_time": "2021-07-18T10:06:25.165024",
     "exception": false,
     "start_time": "2021-07-18T10:06:00.118541",
     "status": "completed"
    },
    "tags": []
   },
   "outputs": [],
   "source": [
    "test_images = mnist.test_images()\n",
    "test_labels = mnist.test_labels()"
   ]
  },
  {
   "cell_type": "code",
   "execution_count": 7,
   "id": "acknowledged-oxygen",
   "metadata": {
    "execution": {
     "iopub.execute_input": "2021-07-18T10:06:25.222429Z",
     "iopub.status.busy": "2021-07-18T10:06:25.221851Z",
     "iopub.status.idle": "2021-07-18T10:06:25.233393Z",
     "shell.execute_reply": "2021-07-18T10:06:25.233792Z"
    },
    "papermill": {
     "duration": 0.041247,
     "end_time": "2021-07-18T10:06:25.233913",
     "exception": false,
     "start_time": "2021-07-18T10:06:25.192666",
     "status": "completed"
    },
    "tags": []
   },
   "outputs": [
    {
     "data": {
      "text/plain": [
       "((10000, 28, 28), (10000,))"
      ]
     },
     "execution_count": 7,
     "metadata": {},
     "output_type": "execute_result"
    }
   ],
   "source": [
    "test_images.shape, test_labels.shape"
   ]
  },
  {
   "cell_type": "code",
   "execution_count": 8,
   "id": "innovative-organic",
   "metadata": {
    "execution": {
     "iopub.execute_input": "2021-07-18T10:06:25.321260Z",
     "iopub.status.busy": "2021-07-18T10:06:25.306380Z",
     "iopub.status.idle": "2021-07-18T10:06:25.421351Z",
     "shell.execute_reply": "2021-07-18T10:06:25.421807Z"
    },
    "papermill": {
     "duration": 0.161631,
     "end_time": "2021-07-18T10:06:25.421949",
     "exception": false,
     "start_time": "2021-07-18T10:06:25.260318",
     "status": "completed"
    },
    "tags": []
   },
   "outputs": [
    {
     "name": "stdout",
     "output_type": "stream",
     "text": [
      "2\n"
     ]
    },
    {
     "data": {
      "text/plain": [
       "<matplotlib.image.AxesImage at 0x7fadb66fab70>"
      ]
     },
     "execution_count": 8,
     "metadata": {},
     "output_type": "execute_result"
    },
    {
     "data": {
      "image/png": "[encoded data removed]",
      "text/plain": [
       "<Figure size 432x288 with 1 Axes>"
      ]
     },
     "metadata": {
      "needs_background": "light"
     },
     "output_type": "display_data"
    }
   ],
   "source": [
    "image_index = 7776 # You may select anything up to 60,000\n",
    "print(train_labels[image_index]) \n",
    "plt.imshow(train_images[image_index], cmap='Greys')"
   ]
  },
  {
   "cell_type": "markdown",
   "id": "facial-modem",
   "metadata": {
    "papermill": {
     "duration": 0.028716,
     "end_time": "2021-07-18T10:06:25.478833",
     "exception": false,
     "start_time": "2021-07-18T10:06:25.450117",
     "status": "completed"
    },
    "tags": []
   },
   "source": [
    "## Filter data to get 3 and 8 out"
   ]
  },
  {
   "cell_type": "code",
   "execution_count": 9,
   "id": "thousand-acquisition",
   "metadata": {
    "execution": {
     "iopub.execute_input": "2021-07-18T10:06:25.541464Z",
     "iopub.status.busy": "2021-07-18T10:06:25.537951Z",
     "iopub.status.idle": "2021-07-18T10:06:25.555177Z",
     "shell.execute_reply": "2021-07-18T10:06:25.554765Z"
    },
    "papermill": {
     "duration": 0.047648,
     "end_time": "2021-07-18T10:06:25.555286",
     "exception": false,
     "start_time": "2021-07-18T10:06:25.507638",
     "status": "completed"
    },
    "tags": []
   },
   "outputs": [],
   "source": [
    "train_filter = np.where((train_labels == 3 ) | (train_labels == 8))\n",
    "test_filter = np.where((test_labels == 3) | (test_labels == 8))\n",
    "X_train, y_train = train_images[train_filter], train_labels[train_filter]\n",
    "X_test, y_test = test_images[test_filter], test_labels[test_filter]"
   ]
  },
  {
   "cell_type": "markdown",
   "id": "ruled-access",
   "metadata": {
    "papermill": {
     "duration": 0.02745,
     "end_time": "2021-07-18T10:06:25.610280",
     "exception": false,
     "start_time": "2021-07-18T10:06:25.582830",
     "status": "completed"
    },
    "tags": []
   },
   "source": [
    "We normalize the pixel values in the 0 to 1 range"
   ]
  },
  {
   "cell_type": "code",
   "execution_count": 10,
   "id": "isolated-denver",
   "metadata": {
    "execution": {
     "iopub.execute_input": "2021-07-18T10:06:25.679525Z",
     "iopub.status.busy": "2021-07-18T10:06:25.674775Z",
     "iopub.status.idle": "2021-07-18T10:06:25.717832Z",
     "shell.execute_reply": "2021-07-18T10:06:25.717341Z"
    },
    "papermill": {
     "duration": 0.080298,
     "end_time": "2021-07-18T10:06:25.717969",
     "exception": false,
     "start_time": "2021-07-18T10:06:25.637671",
     "status": "completed"
    },
    "tags": []
   },
   "outputs": [],
   "source": [
    "X_train = X_train/255.\n",
    "X_test = X_test/255."
   ]
  },
  {
   "cell_type": "markdown",
   "id": "perfect-summary",
   "metadata": {
    "papermill": {
     "duration": 0.027542,
     "end_time": "2021-07-18T10:06:25.773744",
     "exception": false,
     "start_time": "2021-07-18T10:06:25.746202",
     "status": "completed"
    },
    "tags": []
   },
   "source": [
    "Setup the labels as 1 (when the digit is 3) and 0 (when the digit is 8)"
   ]
  },
  {
   "cell_type": "code",
   "execution_count": 11,
   "id": "personalized-growing",
   "metadata": {
    "execution": {
     "iopub.execute_input": "2021-07-18T10:06:25.837274Z",
     "iopub.status.busy": "2021-07-18T10:06:25.836763Z",
     "iopub.status.idle": "2021-07-18T10:06:25.845261Z",
     "shell.execute_reply": "2021-07-18T10:06:25.845634Z"
    },
    "papermill": {
     "duration": 0.044712,
     "end_time": "2021-07-18T10:06:25.845754",
     "exception": false,
     "start_time": "2021-07-18T10:06:25.801042",
     "status": "completed"
    },
    "tags": []
   },
   "outputs": [],
   "source": [
    "y_train = 1*(y_train==3)\n",
    "y_test = 1*(y_test==3)"
   ]
  },
  {
   "cell_type": "code",
   "execution_count": 12,
   "id": "considered-virgin",
   "metadata": {
    "execution": {
     "iopub.execute_input": "2021-07-18T10:06:25.903151Z",
     "iopub.status.busy": "2021-07-18T10:06:25.902658Z",
     "iopub.status.idle": "2021-07-18T10:06:25.915083Z",
     "shell.execute_reply": "2021-07-18T10:06:25.915456Z"
    },
    "papermill": {
     "duration": 0.042435,
     "end_time": "2021-07-18T10:06:25.915571",
     "exception": false,
     "start_time": "2021-07-18T10:06:25.873136",
     "status": "completed"
    },
    "tags": []
   },
   "outputs": [
    {
     "data": {
      "text/plain": [
       "((11982, 28, 28), (1984, 28, 28))"
      ]
     },
     "execution_count": 12,
     "metadata": {},
     "output_type": "execute_result"
    }
   ],
   "source": [
    "X_train.shape, X_test.shape"
   ]
  },
  {
   "cell_type": "markdown",
   "id": "civilian-mobile",
   "metadata": {
    "papermill": {
     "duration": 0.027596,
     "end_time": "2021-07-18T10:06:25.970700",
     "exception": false,
     "start_time": "2021-07-18T10:06:25.943104",
     "status": "completed"
    },
    "tags": []
   },
   "source": [
    "### Reshape the input data to create a linear array"
   ]
  },
  {
   "cell_type": "code",
   "execution_count": 13,
   "id": "colonial-adams",
   "metadata": {
    "execution": {
     "iopub.execute_input": "2021-07-18T10:06:26.029251Z",
     "iopub.status.busy": "2021-07-18T10:06:26.028757Z",
     "iopub.status.idle": "2021-07-18T10:06:26.040980Z",
     "shell.execute_reply": "2021-07-18T10:06:26.040580Z"
    },
    "papermill": {
     "duration": 0.042648,
     "end_time": "2021-07-18T10:06:26.041083",
     "exception": false,
     "start_time": "2021-07-18T10:06:25.998435",
     "status": "completed"
    },
    "tags": []
   },
   "outputs": [
    {
     "data": {
      "text/plain": [
       "((11982, 784), (1984, 784))"
      ]
     },
     "execution_count": 13,
     "metadata": {},
     "output_type": "execute_result"
    }
   ],
   "source": [
    "X_train = X_train.reshape(X_train.shape[0], -1)\n",
    "X_test = X_test.reshape(X_test.shape[0], -1)\n",
    "X_train.shape, X_test.shape"
   ]
  },
  {
   "cell_type": "markdown",
   "id": "smart-details",
   "metadata": {
    "papermill": {
     "duration": 0.028194,
     "end_time": "2021-07-18T10:06:26.097142",
     "exception": false,
     "start_time": "2021-07-18T10:06:26.068948",
     "status": "completed"
    },
    "tags": []
   },
   "source": [
    "### Importing appropriate functions from 'Kudzu'"
   ]
  },
  {
   "cell_type": "code",
   "execution_count": 14,
   "id": "celtic-trial",
   "metadata": {
    "execution": {
     "iopub.execute_input": "2021-07-18T10:06:26.165420Z",
     "iopub.status.busy": "2021-07-18T10:06:26.164035Z",
     "iopub.status.idle": "2021-07-18T10:06:26.177025Z",
     "shell.execute_reply": "2021-07-18T10:06:26.176601Z"
    },
    "papermill": {
     "duration": 0.052028,
     "end_time": "2021-07-18T10:06:26.177122",
     "exception": false,
     "start_time": "2021-07-18T10:06:26.125094",
     "status": "completed"
    },
    "tags": []
   },
   "outputs": [],
   "source": [
    "from kudzu.layer import Sigmoid\n",
    "from kudzu.layer import Relu\n",
    "from kudzu.layer import Affine, Sigmoid\n",
    "\n",
    "from kudzu.model import Model\n",
    "from kudzu.train import Learner\n",
    "from kudzu.optim import GD\n",
    "from kudzu.data import Data, Dataloader, Sampler\n",
    "\n",
    "from kudzu.callbacks import AccCallback\n",
    "from kudzu.callbacks import ClfCallback\n",
    "\n",
    "from kudzu.loss import MSE"
   ]
  },
  {
   "cell_type": "markdown",
   "id": "coupled-customer",
   "metadata": {
    "papermill": {
     "duration": 0.027803,
     "end_time": "2021-07-18T10:06:26.232872",
     "exception": false,
     "start_time": "2021-07-18T10:06:26.205069",
     "status": "completed"
    },
    "tags": []
   },
   "source": [
    "### Let us create a `Config` class, to store important parameters. \n",
    "This class essentially plays the role of a dictionary."
   ]
  },
  {
   "cell_type": "code",
   "execution_count": 15,
   "id": "young-ceiling",
   "metadata": {
    "execution": {
     "iopub.execute_input": "2021-07-18T10:06:26.296216Z",
     "iopub.status.busy": "2021-07-18T10:06:26.295722Z",
     "iopub.status.idle": "2021-07-18T10:06:26.304606Z",
     "shell.execute_reply": "2021-07-18T10:06:26.304190Z"
    },
    "papermill": {
     "duration": 0.043771,
     "end_time": "2021-07-18T10:06:26.304713",
     "exception": false,
     "start_time": "2021-07-18T10:06:26.260942",
     "status": "completed"
    },
    "tags": []
   },
   "outputs": [],
   "source": [
    "class Config:\n",
    "    pass\n",
    "config = Config()\n",
    "config.lr = 0.001\n",
    "config.num_epochs = 251\n",
    "config.bs = 50"
   ]
  },
  {
   "cell_type": "markdown",
   "id": "according-mandate",
   "metadata": {
    "papermill": {
     "duration": 0.027994,
     "end_time": "2021-07-18T10:06:26.360707",
     "exception": false,
     "start_time": "2021-07-18T10:06:26.332713",
     "status": "completed"
    },
    "tags": []
   },
   "source": [
    "### Initializing data to the variables"
   ]
  },
  {
   "cell_type": "code",
   "execution_count": 16,
   "id": "academic-disposition",
   "metadata": {
    "execution": {
     "iopub.execute_input": "2021-07-18T10:06:26.432492Z",
     "iopub.status.busy": "2021-07-18T10:06:26.431987Z",
     "iopub.status.idle": "2021-07-18T10:06:26.434698Z",
     "shell.execute_reply": "2021-07-18T10:06:26.435071Z"
    },
    "papermill": {
     "duration": 0.046496,
     "end_time": "2021-07-18T10:06:26.435193",
     "exception": false,
     "start_time": "2021-07-18T10:06:26.388697",
     "status": "completed"
    },
    "tags": []
   },
   "outputs": [],
   "source": [
    "data = Data(X_train, y_train.reshape(-1,1))\n",
    "sampler = Sampler(data, config.bs, shuffle=True)\n",
    "\n",
    "dl = Dataloader(data, sampler)\n",
    "\n",
    "opt = GD(config.lr)\n",
    "loss = MSE()"
   ]
  },
  {
   "cell_type": "code",
   "execution_count": 17,
   "id": "featured-commission",
   "metadata": {
    "execution": {
     "iopub.execute_input": "2021-07-18T10:06:26.505144Z",
     "iopub.status.busy": "2021-07-18T10:06:26.500802Z",
     "iopub.status.idle": "2021-07-18T10:06:26.507366Z",
     "shell.execute_reply": "2021-07-18T10:06:26.506947Z"
    },
    "papermill": {
     "duration": 0.044548,
     "end_time": "2021-07-18T10:06:26.507462",
     "exception": false,
     "start_time": "2021-07-18T10:06:26.462914",
     "status": "completed"
    },
    "tags": []
   },
   "outputs": [],
   "source": [
    "training_xdata = X_train\n",
    "testing_xdata = X_test\n",
    "training_ydata = y_train.reshape(-1,1)\n",
    "testing_ydata = y_test.reshape(-1,1)"
   ]
  },
  {
   "cell_type": "markdown",
   "id": "played-safety",
   "metadata": {
    "papermill": {
     "duration": 0.02782,
     "end_time": "2021-07-18T10:06:26.563282",
     "exception": false,
     "start_time": "2021-07-18T10:06:26.535462",
     "status": "completed"
    },
    "tags": []
   },
   "source": [
    "### Running Models with the Training data\n",
    "Details about the network layers:\n",
    "- A first affine layer has 784 inputs and does 100 affine transforms. These are followed by a Relu\n",
    "- A second affine layer has 100 inputs from the 100 activations of the past layer, and does 100 affine transforms. These are followed by a Relu\n",
    "- A third affine layer has 100 activations and does 2 affine transformations to create an embedding for visualization. There is no non-linearity here.\n",
    "- A final \"logistic regression\" which has an affine transform from 2 inputs to 1 output, which is squeezed through a sigmoid.\n",
    "\n",
    "Help taken from Anshuman's Notebook."
   ]
  },
  {
   "cell_type": "code",
   "execution_count": 18,
   "id": "asian-bankruptcy",
   "metadata": {
    "execution": {
     "iopub.execute_input": "2021-07-18T10:06:26.622528Z",
     "iopub.status.busy": "2021-07-18T10:06:26.622025Z",
     "iopub.status.idle": "2021-07-18T10:06:26.636716Z",
     "shell.execute_reply": "2021-07-18T10:06:26.637092Z"
    },
    "papermill": {
     "duration": 0.046204,
     "end_time": "2021-07-18T10:06:26.637204",
     "exception": false,
     "start_time": "2021-07-18T10:06:26.591000",
     "status": "completed"
    },
    "tags": []
   },
   "outputs": [],
   "source": [
    "# layers for the Neural Network\n",
    "layers = [Affine(\"first\", 784, 100), Relu(\"first\"), Affine(\"second\", 100, 100), Relu(\"second\"), Affine(\"third\", 100, 2), Affine(\"final\", 2, 1), Sigmoid(\"final\")]\n",
    "model_nn = Model(layers)\n",
    "\n",
    "# layers for the Logistic Regression\n",
    "layers_lr = [Affine(\"logits\", 784, 1), Sigmoid(\"sigmoid\")]\n",
    "model_lr = Model(layers_lr)"
   ]
  },
  {
   "cell_type": "code",
   "execution_count": 19,
   "id": "removed-butler",
   "metadata": {
    "execution": {
     "iopub.execute_input": "2021-07-18T10:06:26.696789Z",
     "iopub.status.busy": "2021-07-18T10:06:26.696270Z",
     "iopub.status.idle": "2021-07-18T10:06:26.707238Z",
     "shell.execute_reply": "2021-07-18T10:06:26.706847Z"
    },
    "papermill": {
     "duration": 0.04228,
     "end_time": "2021-07-18T10:06:26.707335",
     "exception": false,
     "start_time": "2021-07-18T10:06:26.665055",
     "status": "completed"
    },
    "tags": []
   },
   "outputs": [],
   "source": [
    "# suffix _nn stands for Neural Network.\n",
    "learner_nn = Learner(loss, model_nn, opt, config.num_epochs)\n",
    "acc_nn = ClfCallback(learner_nn, config.bs, training_xdata , testing_xdata, training_ydata, testing_ydata)\n",
    "learner_nn.set_callbacks([acc_nn])"
   ]
  },
  {
   "cell_type": "code",
   "execution_count": 20,
   "id": "conceptual-throw",
   "metadata": {
    "execution": {
     "iopub.execute_input": "2021-07-18T10:06:26.777402Z",
     "iopub.status.busy": "2021-07-18T10:06:26.773605Z",
     "iopub.status.idle": "2021-07-18T10:07:41.614728Z",
     "shell.execute_reply": "2021-07-18T10:07:41.615424Z"
    },
    "papermill": {
     "duration": 74.880448,
     "end_time": "2021-07-18T10:07:41.615570",
     "exception": false,
     "start_time": "2021-07-18T10:06:26.735122",
     "status": "completed"
    },
    "tags": []
   },
   "outputs": [
    {
     "name": "stdout",
     "output_type": "stream",
     "text": [
      "====== Neural Network ======\n"
     ]
    },
    {
     "name": "stdout",
     "output_type": "stream",
     "text": [
      "Epoch 0, Loss 0.2016\n",
      "Training Accuracy: 0.8216, Testing Accuracy: 0.8448\n",
      "\n"
     ]
    },
    {
     "name": "stdout",
     "output_type": "stream",
     "text": [
      "Epoch 10, Loss 0.0622\n",
      "Training Accuracy: 0.9346, Testing Accuracy: 0.9526\n",
      "\n"
     ]
    },
    {
     "name": "stdout",
     "output_type": "stream",
     "text": [
      "Epoch 20, Loss 0.0437\n",
      "Training Accuracy: 0.9525, Testing Accuracy: 0.9632\n",
      "\n"
     ]
    },
    {
     "name": "stdout",
     "output_type": "stream",
     "text": [
      "Epoch 30, Loss 0.0366\n",
      "Training Accuracy: 0.9604, Testing Accuracy: 0.9662\n",
      "\n"
     ]
    },
    {
     "name": "stdout",
     "output_type": "stream",
     "text": [
      "Epoch 40, Loss 0.0326\n",
      "Training Accuracy: 0.9636, Testing Accuracy: 0.9667\n",
      "\n"
     ]
    },
    {
     "name": "stdout",
     "output_type": "stream",
     "text": [
      "Epoch 50, Loss 0.03\n",
      "Training Accuracy: 0.9665, Testing Accuracy: 0.9682\n",
      "\n"
     ]
    },
    {
     "name": "stdout",
     "output_type": "stream",
     "text": [
      "Epoch 60, Loss 0.0281\n",
      "Training Accuracy: 0.9698, Testing Accuracy: 0.9677\n",
      "\n"
     ]
    },
    {
     "name": "stdout",
     "output_type": "stream",
     "text": [
      "Epoch 70, Loss 0.0266\n",
      "Training Accuracy: 0.9711, Testing Accuracy: 0.9688\n",
      "\n"
     ]
    },
    {
     "name": "stdout",
     "output_type": "stream",
     "text": [
      "Epoch 80, Loss 0.0254\n",
      "Training Accuracy: 0.9719, Testing Accuracy: 0.9677\n",
      "\n"
     ]
    },
    {
     "name": "stdout",
     "output_type": "stream",
     "text": [
      "Epoch 90, Loss 0.0244\n",
      "Training Accuracy: 0.9729, Testing Accuracy: 0.9698\n",
      "\n"
     ]
    },
    {
     "name": "stdout",
     "output_type": "stream",
     "text": [
      "Epoch 100, Loss 0.0235\n",
      "Training Accuracy: 0.9736, Testing Accuracy: 0.9703\n",
      "\n"
     ]
    },
    {
     "name": "stdout",
     "output_type": "stream",
     "text": [
      "Epoch 110, Loss 0.0227\n",
      "Training Accuracy: 0.9744, Testing Accuracy: 0.9708\n",
      "\n"
     ]
    },
    {
     "name": "stdout",
     "output_type": "stream",
     "text": [
      "Epoch 120, Loss 0.0219\n",
      "Training Accuracy: 0.9757, Testing Accuracy: 0.9703\n",
      "\n"
     ]
    },
    {
     "name": "stdout",
     "output_type": "stream",
     "text": [
      "Epoch 130, Loss 0.0213\n",
      "Training Accuracy: 0.9772, Testing Accuracy: 0.9708\n",
      "\n"
     ]
    },
    {
     "name": "stdout",
     "output_type": "stream",
     "text": [
      "Epoch 140, Loss 0.0207\n",
      "Training Accuracy: 0.9777, Testing Accuracy: 0.9713\n",
      "\n"
     ]
    },
    {
     "name": "stdout",
     "output_type": "stream",
     "text": [
      "Epoch 150, Loss 0.0201\n",
      "Training Accuracy: 0.9786, Testing Accuracy: 0.9728\n",
      "\n"
     ]
    },
    {
     "name": "stdout",
     "output_type": "stream",
     "text": [
      "Epoch 160, Loss 0.0195\n",
      "Training Accuracy: 0.9787, Testing Accuracy: 0.9728\n",
      "\n"
     ]
    },
    {
     "name": "stdout",
     "output_type": "stream",
     "text": [
      "Epoch 170, Loss 0.019\n",
      "Training Accuracy: 0.9794, Testing Accuracy: 0.9728\n",
      "\n"
     ]
    },
    {
     "name": "stdout",
     "output_type": "stream",
     "text": [
      "Epoch 180, Loss 0.0185\n",
      "Training Accuracy: 0.9801, Testing Accuracy: 0.9743\n",
      "\n"
     ]
    },
    {
     "name": "stdout",
     "output_type": "stream",
     "text": [
      "Epoch 190, Loss 0.018\n",
      "Training Accuracy: 0.9809, Testing Accuracy: 0.9753\n",
      "\n"
     ]
    },
    {
     "name": "stdout",
     "output_type": "stream",
     "text": [
      "Epoch 200, Loss 0.0175\n",
      "Training Accuracy: 0.9816, Testing Accuracy: 0.9763\n",
      "\n"
     ]
    },
    {
     "name": "stdout",
     "output_type": "stream",
     "text": [
      "Epoch 210, Loss 0.0171\n",
      "Training Accuracy: 0.9821, Testing Accuracy: 0.9768\n",
      "\n"
     ]
    },
    {
     "name": "stdout",
     "output_type": "stream",
     "text": [
      "Epoch 220, Loss 0.0166\n",
      "Training Accuracy: 0.9826, Testing Accuracy: 0.9768\n",
      "\n"
     ]
    },
    {
     "name": "stdout",
     "output_type": "stream",
     "text": [
      "Epoch 230, Loss 0.0162\n",
      "Training Accuracy: 0.9827, Testing Accuracy: 0.9778\n",
      "\n"
     ]
    },
    {
     "name": "stdout",
     "output_type": "stream",
     "text": [
      "Epoch 240, Loss 0.0158\n",
      "Training Accuracy: 0.9831, Testing Accuracy: 0.9778\n",
      "\n"
     ]
    },
    {
     "name": "stdout",
     "output_type": "stream",
     "text": [
      "Epoch 250, Loss 0.0154\n",
      "Training Accuracy: 0.9833, Testing Accuracy: 0.9783\n",
      "\n"
     ]
    },
    {
     "data": {
      "text/plain": [
       "0.001161844511502183"
      ]
     },
     "execution_count": 20,
     "metadata": {},
     "output_type": "execute_result"
    }
   ],
   "source": [
    "print(\"====== Neural Network ======\")\n",
    "learner_nn.train_loop(dl)"
   ]
  },
  {
   "cell_type": "markdown",
   "id": "competent-suffering",
   "metadata": {
    "papermill": {
     "duration": 0.03491,
     "end_time": "2021-07-18T10:07:41.686247",
     "exception": false,
     "start_time": "2021-07-18T10:07:41.651337",
     "status": "completed"
    },
    "tags": []
   },
   "source": [
    "### Logistic Regression based Implementation."
   ]
  },
  {
   "cell_type": "code",
   "execution_count": 21,
   "id": "qualified-psychiatry",
   "metadata": {
    "execution": {
     "iopub.execute_input": "2021-07-18T10:07:41.759529Z",
     "iopub.status.busy": "2021-07-18T10:07:41.759033Z",
     "iopub.status.idle": "2021-07-18T10:07:41.771862Z",
     "shell.execute_reply": "2021-07-18T10:07:41.771464Z"
    },
    "papermill": {
     "duration": 0.050687,
     "end_time": "2021-07-18T10:07:41.771971",
     "exception": false,
     "start_time": "2021-07-18T10:07:41.721284",
     "status": "completed"
    },
    "tags": []
   },
   "outputs": [],
   "source": [
    "learner_lr = Learner(loss, model_lr, opt, config.num_epochs)\n",
    "acc_lr = ClfCallback(learner_lr, config.bs, training_xdata , testing_xdata, training_ydata, testing_ydata)\n",
    "learner_lr.set_callbacks([acc_lr])"
   ]
  },
  {
   "cell_type": "code",
   "execution_count": 22,
   "id": "average-outside",
   "metadata": {
    "execution": {
     "iopub.execute_input": "2021-07-18T10:07:41.845745Z",
     "iopub.status.busy": "2021-07-18T10:07:41.845020Z",
     "iopub.status.idle": "2021-07-18T10:07:55.180926Z",
     "shell.execute_reply": "2021-07-18T10:07:55.181337Z"
    },
    "papermill": {
     "duration": 13.374413,
     "end_time": "2021-07-18T10:07:55.181475",
     "exception": false,
     "start_time": "2021-07-18T10:07:41.807062",
     "status": "completed"
    },
    "tags": []
   },
   "outputs": [
    {
     "name": "stdout",
     "output_type": "stream",
     "text": [
      "====== Logistic Regression ======\n",
      "Epoch 0, Loss 0.2369\n",
      "Training Accuracy: 0.7199, Testing Accuracy: 0.7319\n",
      "\n"
     ]
    },
    {
     "name": "stdout",
     "output_type": "stream",
     "text": [
      "Epoch 10, Loss 0.1019\n",
      "Training Accuracy: 0.9123, Testing Accuracy: 0.9194\n",
      "\n"
     ]
    },
    {
     "name": "stdout",
     "output_type": "stream",
     "text": [
      "Epoch 20, Loss 0.0787\n",
      "Training Accuracy: 0.9298, Testing Accuracy: 0.9380\n",
      "\n"
     ]
    },
    {
     "name": "stdout",
     "output_type": "stream",
     "text": [
      "Epoch 30, Loss 0.068\n",
      "Training Accuracy: 0.9368, Testing Accuracy: 0.9471\n",
      "\n"
     ]
    },
    {
     "name": "stdout",
     "output_type": "stream",
     "text": [
      "Epoch 40, Loss 0.0616\n",
      "Training Accuracy: 0.9404, Testing Accuracy: 0.9521\n",
      "\n"
     ]
    },
    {
     "name": "stdout",
     "output_type": "stream",
     "text": [
      "Epoch 50, Loss 0.0572\n",
      "Training Accuracy: 0.9445, Testing Accuracy: 0.9551\n",
      "\n"
     ]
    },
    {
     "name": "stdout",
     "output_type": "stream",
     "text": [
      "Epoch 60, Loss 0.0539\n",
      "Training Accuracy: 0.9471, Testing Accuracy: 0.9561\n",
      "\n"
     ]
    },
    {
     "name": "stdout",
     "output_type": "stream",
     "text": [
      "Epoch 70, Loss 0.0514\n",
      "Training Accuracy: 0.9487, Testing Accuracy: 0.9587\n",
      "\n"
     ]
    },
    {
     "name": "stdout",
     "output_type": "stream",
     "text": [
      "Epoch 80, Loss 0.0494\n",
      "Training Accuracy: 0.9498, Testing Accuracy: 0.9597\n",
      "\n"
     ]
    },
    {
     "name": "stdout",
     "output_type": "stream",
     "text": [
      "Epoch 90, Loss 0.0477\n",
      "Training Accuracy: 0.9510, Testing Accuracy: 0.9612\n",
      "\n"
     ]
    },
    {
     "name": "stdout",
     "output_type": "stream",
     "text": [
      "Epoch 100, Loss 0.0463\n",
      "Training Accuracy: 0.9523, Testing Accuracy: 0.9612\n",
      "\n"
     ]
    },
    {
     "name": "stdout",
     "output_type": "stream",
     "text": [
      "Epoch 110, Loss 0.0451\n",
      "Training Accuracy: 0.9532, Testing Accuracy: 0.9622\n",
      "\n"
     ]
    },
    {
     "name": "stdout",
     "output_type": "stream",
     "text": [
      "Epoch 120, Loss 0.044\n",
      "Training Accuracy: 0.9540, Testing Accuracy: 0.9627\n",
      "\n"
     ]
    },
    {
     "name": "stdout",
     "output_type": "stream",
     "text": [
      "Epoch 130, Loss 0.0431\n",
      "Training Accuracy: 0.9551, Testing Accuracy: 0.9627\n",
      "\n"
     ]
    },
    {
     "name": "stdout",
     "output_type": "stream",
     "text": [
      "Epoch 140, Loss 0.0422\n",
      "Training Accuracy: 0.9559, Testing Accuracy: 0.9627\n",
      "\n"
     ]
    },
    {
     "name": "stdout",
     "output_type": "stream",
     "text": [
      "Epoch 150, Loss 0.0415\n",
      "Training Accuracy: 0.9567, Testing Accuracy: 0.9632\n",
      "\n"
     ]
    },
    {
     "name": "stdout",
     "output_type": "stream",
     "text": [
      "Epoch 160, Loss 0.0408\n",
      "Training Accuracy: 0.9571, Testing Accuracy: 0.9642\n",
      "\n"
     ]
    },
    {
     "name": "stdout",
     "output_type": "stream",
     "text": [
      "Epoch 170, Loss 0.0402\n",
      "Training Accuracy: 0.9578, Testing Accuracy: 0.9652\n",
      "\n"
     ]
    },
    {
     "name": "stdout",
     "output_type": "stream",
     "text": [
      "Epoch 180, Loss 0.0397\n",
      "Training Accuracy: 0.9583, Testing Accuracy: 0.9657\n",
      "\n"
     ]
    },
    {
     "name": "stdout",
     "output_type": "stream",
     "text": [
      "Epoch 190, Loss 0.0391\n",
      "Training Accuracy: 0.9583, Testing Accuracy: 0.9657\n",
      "\n"
     ]
    },
    {
     "name": "stdout",
     "output_type": "stream",
     "text": [
      "Epoch 200, Loss 0.0387\n",
      "Training Accuracy: 0.9589, Testing Accuracy: 0.9652\n",
      "\n"
     ]
    },
    {
     "name": "stdout",
     "output_type": "stream",
     "text": [
      "Epoch 210, Loss 0.0382\n",
      "Training Accuracy: 0.9590, Testing Accuracy: 0.9657\n",
      "\n"
     ]
    },
    {
     "name": "stdout",
     "output_type": "stream",
     "text": [
      "Epoch 220, Loss 0.0378\n",
      "Training Accuracy: 0.9598, Testing Accuracy: 0.9662\n",
      "\n"
     ]
    },
    {
     "name": "stdout",
     "output_type": "stream",
     "text": [
      "Epoch 230, Loss 0.0374\n",
      "Training Accuracy: 0.9599, Testing Accuracy: 0.9667\n",
      "\n"
     ]
    },
    {
     "name": "stdout",
     "output_type": "stream",
     "text": [
      "Epoch 240, Loss 0.0371\n",
      "Training Accuracy: 0.9600, Testing Accuracy: 0.9667\n",
      "\n"
     ]
    },
    {
     "name": "stdout",
     "output_type": "stream",
     "text": [
      "Epoch 250, Loss 0.0367\n",
      "Training Accuracy: 0.9603, Testing Accuracy: 0.9667\n",
      "\n"
     ]
    },
    {
     "data": {
      "text/plain": [
       "0.03805676995511957"
      ]
     },
     "execution_count": 22,
     "metadata": {},
     "output_type": "execute_result"
    }
   ],
   "source": [
    "print(\"====== Logistic Regression ======\")\n",
    "learner_lr.train_loop(dl)"
   ]
  },
  {
   "cell_type": "markdown",
   "id": "adjusted-possible",
   "metadata": {
    "papermill": {
     "duration": 0.041968,
     "end_time": "2021-07-18T10:07:55.265884",
     "exception": false,
     "start_time": "2021-07-18T10:07:55.223916",
     "status": "completed"
    },
    "tags": []
   },
   "source": [
    "### Comparing results of NN and LR"
   ]
  },
  {
   "cell_type": "code",
   "execution_count": 23,
   "id": "mental-multimedia",
   "metadata": {
    "execution": {
     "iopub.execute_input": "2021-07-18T10:07:55.361538Z",
     "iopub.status.busy": "2021-07-18T10:07:55.361020Z",
     "iopub.status.idle": "2021-07-18T10:07:55.593565Z",
     "shell.execute_reply": "2021-07-18T10:07:55.593972Z"
    },
    "papermill": {
     "duration": 0.286156,
     "end_time": "2021-07-18T10:07:55.594109",
     "exception": false,
     "start_time": "2021-07-18T10:07:55.307953",
     "status": "completed"
    },
    "tags": []
   },
   "outputs": [
    {
     "data": {
      "text/plain": [
       "<matplotlib.legend.Legend at 0x7fadae26d198>"
      ]
     },
     "execution_count": 23,
     "metadata": {},
     "output_type": "execute_result"
    },
    {
     "data": {
      "image/png": "[encoded data removed]",
      "text/plain": [
       "<Figure size 1080x720 with 1 Axes>"
      ]
     },
     "metadata": {
      "needs_background": "light"
     },
     "output_type": "display_data"
    }
   ],
   "source": [
    "plt.figure(figsize=(15,10))\n",
    "\n",
    "# Neural Network plots\n",
    "plt.plot(acc_nn.accuracies, 'r-', label = \"Training Accuracies - NN\")\n",
    "plt.plot(acc_nn.test_accuracies, 'g-', label = \"Testing Accuracies - NN\")\n",
    "\n",
    "# Logistic Regression plots\n",
    "plt.plot(acc_lr.accuracies, 'k-', label = \"Training Accuracies - LR\")\n",
    "plt.plot(acc_lr.test_accuracies, 'b-', label = \"Testing Accuracies - LR\")\n",
    "\n",
    "plt.ylim(0.8, 1)\n",
    "\n",
    "plt.legend()\n",
    "\n"
   ]
  },
  {
   "cell_type": "markdown",
   "id": "sexual-flesh",
   "metadata": {
    "papermill": {
     "duration": 0.04362,
     "end_time": "2021-07-18T10:07:55.681556",
     "exception": false,
     "start_time": "2021-07-18T10:07:55.637936",
     "status": "completed"
    },
    "tags": []
   },
   "source": [
    "### From the plot, we can observe the following:\n",
    "- Neural Network achieves higher accuracy than the Logistic Regression model.\n",
    "- This apparently, is because of overfitting, i.e. NN captures more noise than data.\n",
    "- Testing accuracy of NN drops below the Training accuracy at higher epochs. This explains the over-fitting on training data.\n",
    "- Logistic Regression gives a reliable accuracy, without the above mentioned problem.\n"
   ]
  },
  {
   "cell_type": "markdown",
   "id": "institutional-pacific",
   "metadata": {
    "papermill": {
     "duration": 0.043301,
     "end_time": "2021-07-18T10:07:55.768306",
     "exception": false,
     "start_time": "2021-07-18T10:07:55.725005",
     "status": "completed"
    },
    "tags": []
   },
   "source": [
    "### Moving till the last but one layer (excluding it).\n",
    "#### Plotting the outputs of this layer of the NN."
   ]
  },
  {
   "cell_type": "code",
   "execution_count": 24,
   "id": "economic-server",
   "metadata": {
    "execution": {
     "iopub.execute_input": "2021-07-18T10:07:55.858816Z",
     "iopub.status.busy": "2021-07-18T10:07:55.858317Z",
     "iopub.status.idle": "2021-07-18T10:07:55.869884Z",
     "shell.execute_reply": "2021-07-18T10:07:55.869463Z"
    },
    "papermill": {
     "duration": 0.05802,
     "end_time": "2021-07-18T10:07:55.869986",
     "exception": false,
     "start_time": "2021-07-18T10:07:55.811966",
     "status": "completed"
    },
    "tags": []
   },
   "outputs": [],
   "source": [
    "model_new = Model(layers[:-2])"
   ]
  },
  {
   "cell_type": "code",
   "execution_count": 25,
   "id": "varied-upgrade",
   "metadata": {
    "execution": {
     "iopub.execute_input": "2021-07-18T10:07:55.962375Z",
     "iopub.status.busy": "2021-07-18T10:07:55.961891Z",
     "iopub.status.idle": "2021-07-18T10:07:55.978762Z",
     "shell.execute_reply": "2021-07-18T10:07:55.979161Z"
    },
    "papermill": {
     "duration": 0.065981,
     "end_time": "2021-07-18T10:07:55.979284",
     "exception": false,
     "start_time": "2021-07-18T10:07:55.913303",
     "status": "completed"
    },
    "tags": []
   },
   "outputs": [],
   "source": [
    "plot_testing = model_new(testing_xdata)"
   ]
  },
  {
   "cell_type": "code",
   "execution_count": 26,
   "id": "specific-handling",
   "metadata": {
    "execution": {
     "iopub.execute_input": "2021-07-18T10:07:56.080945Z",
     "iopub.status.busy": "2021-07-18T10:07:56.080430Z",
     "iopub.status.idle": "2021-07-18T10:07:56.282499Z",
     "shell.execute_reply": "2021-07-18T10:07:56.282955Z"
    },
    "papermill": {
     "duration": 0.250586,
     "end_time": "2021-07-18T10:07:56.283101",
     "exception": false,
     "start_time": "2021-07-18T10:07:56.032515",
     "status": "completed"
    },
    "tags": []
   },
   "outputs": [
    {
     "data": {
      "text/plain": [
       "Text(0.5, 1.0, 'Outputs')"
      ]
     },
     "execution_count": 26,
     "metadata": {},
     "output_type": "execute_result"
    },
    {
     "data": {
      "image/png": "[encoded data removed]",
      "text/plain": [
       "<Figure size 576x504 with 1 Axes>"
      ]
     },
     "metadata": {
      "needs_background": "light"
     },
     "output_type": "display_data"
    }
   ],
   "source": [
    "plt.figure(figsize=(8,7))\n",
    "plt.scatter(plot_testing[:,0], plot_testing[:,1], alpha = 0.1, c = y_test.ravel());\n",
    "plt.title('Outputs')"
   ]
  },
  {
   "cell_type": "markdown",
   "id": "described-knowing",
   "metadata": {
    "papermill": {
     "duration": 0.073368,
     "end_time": "2021-07-18T10:07:56.402785",
     "exception": false,
     "start_time": "2021-07-18T10:07:56.329417",
     "status": "completed"
    },
    "tags": []
   },
   "source": [
    "### Plotting probability contours"
   ]
  },
  {
   "cell_type": "code",
   "execution_count": 27,
   "id": "needed-growing",
   "metadata": {
    "execution": {
     "iopub.execute_input": "2021-07-18T10:07:56.501790Z",
     "iopub.status.busy": "2021-07-18T10:07:56.501284Z",
     "iopub.status.idle": "2021-07-18T10:07:56.511733Z",
     "shell.execute_reply": "2021-07-18T10:07:56.511312Z"
    },
    "papermill": {
     "duration": 0.06296,
     "end_time": "2021-07-18T10:07:56.511837",
     "exception": false,
     "start_time": "2021-07-18T10:07:56.448877",
     "status": "completed"
    },
    "tags": []
   },
   "outputs": [],
   "source": [
    "model_prob = Model(layers[-2:]) "
   ]
  },
  {
   "cell_type": "code",
   "execution_count": 28,
   "id": "introductory-enforcement",
   "metadata": {
    "execution": {
     "iopub.execute_input": "2021-07-18T10:07:56.607603Z",
     "iopub.status.busy": "2021-07-18T10:07:56.607110Z",
     "iopub.status.idle": "2021-07-18T10:07:56.620822Z",
     "shell.execute_reply": "2021-07-18T10:07:56.621200Z"
    },
    "papermill": {
     "duration": 0.063449,
     "end_time": "2021-07-18T10:07:56.621318",
     "exception": false,
     "start_time": "2021-07-18T10:07:56.557869",
     "status": "completed"
    },
    "tags": []
   },
   "outputs": [],
   "source": [
    "# Adjust the x and y ranges according to the above generated plot.\n",
    "x_range = np.linspace(-4, 1, 100) \n",
    "y_range = np.linspace(-6, 6, 100) \n",
    "x_grid, y_grid = np.meshgrid(x_range, y_range) # x_grid and y_grig are of size 100 X 100\n",
    "\n",
    "# converting x_grid and y_grid to continuous arrays\n",
    "x_grid_flat = np.ravel(x_grid)\n",
    "y_grid_flat = np.ravel(y_grid)\n",
    "\n",
    "# The last layer of the current model takes two columns as input. Hence transpose of np.vstack() is required.\n",
    "X = np.vstack((x_grid_flat, y_grid_flat)).T\n",
    "\n",
    "# x_grid and y_grid are of size 100 x 100\n",
    "probability_contour = model_prob(X).reshape(100,100) "
   ]
  },
  {
   "cell_type": "code",
   "execution_count": 29,
   "id": "understood-landing",
   "metadata": {
    "execution": {
     "iopub.execute_input": "2021-07-18T10:07:56.721601Z",
     "iopub.status.busy": "2021-07-18T10:07:56.721106Z",
     "iopub.status.idle": "2021-07-18T10:07:56.963111Z",
     "shell.execute_reply": "2021-07-18T10:07:56.962672Z"
    },
    "papermill": {
     "duration": 0.291316,
     "end_time": "2021-07-18T10:07:56.963227",
     "exception": false,
     "start_time": "2021-07-18T10:07:56.671911",
     "status": "completed"
    },
    "tags": []
   },
   "outputs": [
    {
     "data": {
      "image/png": "[encoded data removed]",
      "text/plain": [
       "<Figure size 720x648 with 1 Axes>"
      ]
     },
     "metadata": {
      "needs_background": "light"
     },
     "output_type": "display_data"
    }
   ],
   "source": [
    "plt.figure(figsize=(10,9))\n",
    "plt.scatter(plot_testing[:,0], plot_testing[:,1], alpha = 0.1, c = y_test.ravel())\n",
    "contours = plt.contour(x_grid,y_grid,probability_contour)\n",
    "plt.title('Probability Contours')\n",
    "plt.clabel(contours, inline = True );"
   ]
  }
 ],
 "metadata": {
  "kernelspec": {
   "display_name": "Python 3",
   "language": "python",
   "name": "python3"
  },
  "language_info": {
   "codemirror_mode": {
    "name": "ipython",
    "version": 3
   },
   "file_extension": ".py",
   "mimetype": "text/x-python",
   "name": "python",
   "nbconvert_exporter": "python",
   "pygments_lexer": "ipython3",
   "version": "3.6.14"
  },
  "papermill": {
   "duration": 206.547656,
   "end_time": "2021-07-18T10:07:57.320622",
   "environment_variables": {},
   "exception": null,
   "input_path": "2020-08-11-NeuralNetwork.ipynb",
   "output_path": "2020-08-11-NeuralNetwork.ipynb",
   "parameters": {},
   "start_time": "2021-07-18T10:04:30.772966",
   "version": "2.1.2"
  }
 },
 "nbformat": 4,
 "nbformat_minor": 5
}