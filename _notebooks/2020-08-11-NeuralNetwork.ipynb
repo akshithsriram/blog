{
 "cells": [
  {
   "cell_type": "markdown",
   "metadata": {
    "papermill": {
     "duration": 0.032556,
     "end_time": "2020-08-20T20:04:51.658614",
     "exception": false,
     "start_time": "2020-08-20T20:04:51.626058",
     "status": "completed"
    },
    "tags": []
   },
   "source": [
    "# \"A Basic Neural Network: Differentiate Hand-Written Digits\"\n",
    "\n",
    "- badges: true\n",
    "- author: Akshith Sriram"
   ]
  },
  {
   "cell_type": "markdown",
   "metadata": {
    "papermill": {
     "duration": 0.026783,
     "end_time": "2020-08-20T20:04:51.713858",
     "exception": false,
     "start_time": "2020-08-20T20:04:51.687075",
     "status": "completed"
    },
    "tags": []
   },
   "source": [
    "### Key Objectives:\n",
    "- Building a neural network that differentiates two hand-written digits 3 and 8.\n",
    "- Comparing the results of this Neural Network (NN) to that of a Logistic Regression (LR) model.\n",
    "\n",
    "### Requirements:\n",
    "- 'Kudzu' : A neural network library that was designed during our course by [Univ.AI](www.univ.ai). \n",
    "- MNIST Database\n",
    "\n",
    "If MNIST is not installed, use the command `!pip install mnist` given below.\n",
    "It can be run both from the command line and Jupyter Notebook."
   ]
  },
  {
   "cell_type": "code",
   "execution_count": 1,
   "metadata": {
    "execution": {
     "iopub.execute_input": "2020-08-20T20:04:51.777634Z",
     "iopub.status.busy": "2020-08-20T20:04:51.776972Z",
     "iopub.status.idle": "2020-08-20T20:04:53.966293Z",
     "shell.execute_reply": "2020-08-20T20:04:53.965397Z"
    },
    "papermill": {
     "duration": 2.225911,
     "end_time": "2020-08-20T20:04:53.966474",
     "exception": false,
     "start_time": "2020-08-20T20:04:51.740563",
     "status": "completed"
    },
    "tags": []
   },
   "outputs": [
    {
     "name": "stdout",
     "output_type": "stream",
     "text": [
      "Collecting mnist\r\n"
     ]
    },
    {
     "name": "stdout",
     "output_type": "stream",
     "text": [
      "  Downloading mnist-0.2.2-py2.py3-none-any.whl (3.5 kB)\r\n"
     ]
    },
    {
     "name": "stdout",
     "output_type": "stream",
     "text": [
      "Requirement already satisfied: numpy in /opt/hostedtoolcache/Python/3.6.11/x64/lib/python3.6/site-packages (from mnist) (1.19.1)\r\n"
     ]
    },
    {
     "name": "stdout",
     "output_type": "stream",
     "text": [
      "Installing collected packages: mnist\r\n"
     ]
    },
    {
     "name": "stdout",
     "output_type": "stream",
     "text": [
      "Successfully installed mnist-0.2.2\r\n"
     ]
    }
   ],
   "source": [
    "!pip install mnist "
   ]
  },
  {
   "cell_type": "markdown",
   "metadata": {
    "papermill": {
     "duration": 0.028472,
     "end_time": "2020-08-20T20:04:54.024866",
     "exception": false,
     "start_time": "2020-08-20T20:04:53.996394",
     "status": "completed"
    },
    "tags": []
   },
   "source": [
    "#### Importing necessary libraries"
   ]
  },
  {
   "cell_type": "code",
   "execution_count": 2,
   "metadata": {
    "execution": {
     "iopub.execute_input": "2020-08-20T20:04:54.094286Z",
     "iopub.status.busy": "2020-08-20T20:04:54.093626Z",
     "iopub.status.idle": "2020-08-20T20:04:54.665913Z",
     "shell.execute_reply": "2020-08-20T20:04:54.666439Z"
    },
    "papermill": {
     "duration": 0.609687,
     "end_time": "2020-08-20T20:04:54.666616",
     "exception": false,
     "start_time": "2020-08-20T20:04:54.056929",
     "status": "completed"
    },
    "tags": []
   },
   "outputs": [],
   "source": [
    "%load_ext autoreload\n",
    "%autoreload 2\n",
    "\n",
    "%matplotlib inline\n",
    "import matplotlib.pyplot as plt\n",
    "\n",
    "import numpy as np\n",
    "import pandas as pd"
   ]
  },
  {
   "cell_type": "markdown",
   "metadata": {
    "papermill": {
     "duration": 0.031748,
     "end_time": "2020-08-20T20:04:54.730862",
     "exception": false,
     "start_time": "2020-08-20T20:04:54.699114",
     "status": "completed"
    },
    "tags": []
   },
   "source": [
    "### Preparing the Data"
   ]
  },
  {
   "cell_type": "code",
   "execution_count": 3,
   "metadata": {
    "execution": {
     "iopub.execute_input": "2020-08-20T20:04:54.805767Z",
     "iopub.status.busy": "2020-08-20T20:04:54.801310Z",
     "iopub.status.idle": "2020-08-20T20:04:54.807871Z",
     "shell.execute_reply": "2020-08-20T20:04:54.808417Z"
    },
    "papermill": {
     "duration": 0.048743,
     "end_time": "2020-08-20T20:04:54.808576",
     "exception": false,
     "start_time": "2020-08-20T20:04:54.759833",
     "status": "completed"
    },
    "tags": []
   },
   "outputs": [],
   "source": [
    "import mnist"
   ]
  },
  {
   "cell_type": "code",
   "execution_count": 4,
   "metadata": {
    "execution": {
     "iopub.execute_input": "2020-08-20T20:04:54.869452Z",
     "iopub.status.busy": "2020-08-20T20:04:54.868803Z",
     "iopub.status.idle": "2020-08-20T20:04:55.638830Z",
     "shell.execute_reply": "2020-08-20T20:04:55.639359Z"
    },
    "papermill": {
     "duration": 0.802369,
     "end_time": "2020-08-20T20:04:55.639537",
     "exception": false,
     "start_time": "2020-08-20T20:04:54.837168",
     "status": "completed"
    },
    "tags": []
   },
   "outputs": [],
   "source": [
    "train_images = mnist.train_images()\n",
    "train_labels = mnist.train_labels()"
   ]
  },
  {
   "cell_type": "code",
   "execution_count": 5,
   "metadata": {
    "execution": {
     "iopub.execute_input": "2020-08-20T20:04:55.705508Z",
     "iopub.status.busy": "2020-08-20T20:04:55.704862Z",
     "iopub.status.idle": "2020-08-20T20:04:55.716686Z",
     "shell.execute_reply": "2020-08-20T20:04:55.717313Z"
    },
    "papermill": {
     "duration": 0.049022,
     "end_time": "2020-08-20T20:04:55.717467",
     "exception": false,
     "start_time": "2020-08-20T20:04:55.668445",
     "status": "completed"
    },
    "tags": []
   },
   "outputs": [
    {
     "data": {
      "text/plain": [
       "((60000, 28, 28), (60000,))"
      ]
     },
     "execution_count": 5,
     "metadata": {},
     "output_type": "execute_result"
    }
   ],
   "source": [
    "train_images.shape, train_labels.shape"
   ]
  },
  {
   "cell_type": "code",
   "execution_count": 6,
   "metadata": {
    "execution": {
     "iopub.execute_input": "2020-08-20T20:04:55.795076Z",
     "iopub.status.busy": "2020-08-20T20:04:55.790641Z",
     "iopub.status.idle": "2020-08-20T20:04:56.055254Z",
     "shell.execute_reply": "2020-08-20T20:04:56.056162Z"
    },
    "papermill": {
     "duration": 0.308584,
     "end_time": "2020-08-20T20:04:56.056346",
     "exception": false,
     "start_time": "2020-08-20T20:04:55.747762",
     "status": "completed"
    },
    "tags": []
   },
   "outputs": [],
   "source": [
    "test_images = mnist.test_images()\n",
    "test_labels = mnist.test_labels()"
   ]
  },
  {
   "cell_type": "code",
   "execution_count": 7,
   "metadata": {
    "execution": {
     "iopub.execute_input": "2020-08-20T20:04:56.118522Z",
     "iopub.status.busy": "2020-08-20T20:04:56.117803Z",
     "iopub.status.idle": "2020-08-20T20:04:56.130929Z",
     "shell.execute_reply": "2020-08-20T20:04:56.131553Z"
    },
    "papermill": {
     "duration": 0.045945,
     "end_time": "2020-08-20T20:04:56.131696",
     "exception": false,
     "start_time": "2020-08-20T20:04:56.085751",
     "status": "completed"
    },
    "tags": []
   },
   "outputs": [
    {
     "data": {
      "text/plain": [
       "((10000, 28, 28), (10000,))"
      ]
     },
     "execution_count": 7,
     "metadata": {},
     "output_type": "execute_result"
    }
   ],
   "source": [
    "test_images.shape, test_labels.shape"
   ]
  },
  {
   "cell_type": "code",
   "execution_count": 8,
   "metadata": {
    "execution": {
     "iopub.execute_input": "2020-08-20T20:04:56.194874Z",
     "iopub.status.busy": "2020-08-20T20:04:56.194215Z",
     "iopub.status.idle": "2020-08-20T20:04:56.363491Z",
     "shell.execute_reply": "2020-08-20T20:04:56.364040Z"
    },
    "papermill": {
     "duration": 0.20337,
     "end_time": "2020-08-20T20:04:56.364230",
     "exception": false,
     "start_time": "2020-08-20T20:04:56.160860",
     "status": "completed"
    },
    "tags": []
   },
   "outputs": [
    {
     "name": "stdout",
     "output_type": "stream",
     "text": [
      "2\n"
     ]
    },
    {
     "data": {
      "text/plain": [
       "<matplotlib.image.AxesImage at 0x7f916be27320>"
      ]
     },
     "execution_count": 8,
     "metadata": {},
     "output_type": "execute_result"
    },
    {
     "data": {
      "image/png": "[encoded data removed]",
      "text/plain": [
       "<Figure size 432x288 with 1 Axes>"
      ]
     },
     "metadata": {
      "needs_background": "light"
     },
     "output_type": "display_data"
    }
   ],
   "source": [
    "image_index = 7776 # You may select anything up to 60,000\n",
    "print(train_labels[image_index]) \n",
    "plt.imshow(train_images[image_index], cmap='Greys')"
   ]
  },
  {
   "cell_type": "markdown",
   "metadata": {
    "papermill": {
     "duration": 0.030699,
     "end_time": "2020-08-20T20:04:56.425933",
     "exception": false,
     "start_time": "2020-08-20T20:04:56.395234",
     "status": "completed"
    },
    "tags": []
   },
   "source": [
    "## Filter data to get 3 and 8 out"
   ]
  },
  {
   "cell_type": "code",
   "execution_count": 9,
   "metadata": {
    "execution": {
     "iopub.execute_input": "2020-08-20T20:04:56.509766Z",
     "iopub.status.busy": "2020-08-20T20:04:56.509082Z",
     "iopub.status.idle": "2020-08-20T20:04:56.520065Z",
     "shell.execute_reply": "2020-08-20T20:04:56.519502Z"
    },
    "papermill": {
     "duration": 0.062468,
     "end_time": "2020-08-20T20:04:56.520239",
     "exception": false,
     "start_time": "2020-08-20T20:04:56.457771",
     "status": "completed"
    },
    "tags": []
   },
   "outputs": [],
   "source": [
    "train_filter = np.where((train_labels == 3 ) | (train_labels == 8))\n",
    "test_filter = np.where((test_labels == 3) | (test_labels == 8))\n",
    "X_train, y_train = train_images[train_filter], train_labels[train_filter]\n",
    "X_test, y_test = test_images[test_filter], test_labels[test_filter]"
   ]
  },
  {
   "cell_type": "markdown",
   "metadata": {
    "papermill": {
     "duration": 0.033718,
     "end_time": "2020-08-20T20:04:56.586893",
     "exception": false,
     "start_time": "2020-08-20T20:04:56.553175",
     "status": "completed"
    },
    "tags": []
   },
   "source": [
    "We normalize the pixel values in the 0 to 1 range"
   ]
  },
  {
   "cell_type": "code",
   "execution_count": 10,
   "metadata": {
    "execution": {
     "iopub.execute_input": "2020-08-20T20:04:56.656240Z",
     "iopub.status.busy": "2020-08-20T20:04:56.655470Z",
     "iopub.status.idle": "2020-08-20T20:04:56.713846Z",
     "shell.execute_reply": "2020-08-20T20:04:56.713273Z"
    },
    "papermill": {
     "duration": 0.093667,
     "end_time": "2020-08-20T20:04:56.714001",
     "exception": false,
     "start_time": "2020-08-20T20:04:56.620334",
     "status": "completed"
    },
    "tags": []
   },
   "outputs": [],
   "source": [
    "X_train = X_train/255.\n",
    "X_test = X_test/255."
   ]
  },
  {
   "cell_type": "markdown",
   "metadata": {
    "papermill": {
     "duration": 0.032843,
     "end_time": "2020-08-20T20:04:56.778520",
     "exception": false,
     "start_time": "2020-08-20T20:04:56.745677",
     "status": "completed"
    },
    "tags": []
   },
   "source": [
    "Setup the labels as 1 (when the digit is 3) and 0 (when the digit is 8)"
   ]
  },
  {
   "cell_type": "code",
   "execution_count": 11,
   "metadata": {
    "execution": {
     "iopub.execute_input": "2020-08-20T20:04:56.847695Z",
     "iopub.status.busy": "2020-08-20T20:04:56.847043Z",
     "iopub.status.idle": "2020-08-20T20:04:56.858473Z",
     "shell.execute_reply": "2020-08-20T20:04:56.859008Z"
    },
    "papermill": {
     "duration": 0.048431,
     "end_time": "2020-08-20T20:04:56.859159",
     "exception": false,
     "start_time": "2020-08-20T20:04:56.810728",
     "status": "completed"
    },
    "tags": []
   },
   "outputs": [],
   "source": [
    "y_train = 1*(y_train==3)\n",
    "y_test = 1*(y_test==3)"
   ]
  },
  {
   "cell_type": "code",
   "execution_count": 12,
   "metadata": {
    "execution": {
     "iopub.execute_input": "2020-08-20T20:04:56.932869Z",
     "iopub.status.busy": "2020-08-20T20:04:56.925530Z",
     "iopub.status.idle": "2020-08-20T20:04:56.939545Z",
     "shell.execute_reply": "2020-08-20T20:04:56.938982Z"
    },
    "papermill": {
     "duration": 0.049565,
     "end_time": "2020-08-20T20:04:56.939682",
     "exception": false,
     "start_time": "2020-08-20T20:04:56.890117",
     "status": "completed"
    },
    "tags": []
   },
   "outputs": [
    {
     "data": {
      "text/plain": [
       "((11982, 28, 28), (1984, 28, 28))"
      ]
     },
     "execution_count": 12,
     "metadata": {},
     "output_type": "execute_result"
    }
   ],
   "source": [
    "X_train.shape, X_test.shape"
   ]
  },
  {
   "cell_type": "markdown",
   "metadata": {
    "papermill": {
     "duration": 0.031823,
     "end_time": "2020-08-20T20:04:57.002469",
     "exception": false,
     "start_time": "2020-08-20T20:04:56.970646",
     "status": "completed"
    },
    "tags": []
   },
   "source": [
    "### Reshape the input data to create a linear array"
   ]
  },
  {
   "cell_type": "code",
   "execution_count": 13,
   "metadata": {
    "execution": {
     "iopub.execute_input": "2020-08-20T20:04:57.084276Z",
     "iopub.status.busy": "2020-08-20T20:04:57.080917Z",
     "iopub.status.idle": "2020-08-20T20:04:57.087883Z",
     "shell.execute_reply": "2020-08-20T20:04:57.087233Z"
    },
    "papermill": {
     "duration": 0.053765,
     "end_time": "2020-08-20T20:04:57.088018",
     "exception": false,
     "start_time": "2020-08-20T20:04:57.034253",
     "status": "completed"
    },
    "tags": []
   },
   "outputs": [
    {
     "data": {
      "text/plain": [
       "((11982, 784), (1984, 784))"
      ]
     },
     "execution_count": 13,
     "metadata": {},
     "output_type": "execute_result"
    }
   ],
   "source": [
    "X_train = X_train.reshape(X_train.shape[0], -1)\n",
    "X_test = X_test.reshape(X_test.shape[0], -1)\n",
    "X_train.shape, X_test.shape"
   ]
  },
  {
   "cell_type": "markdown",
   "metadata": {
    "papermill": {
     "duration": 0.031031,
     "end_time": "2020-08-20T20:04:57.149707",
     "exception": false,
     "start_time": "2020-08-20T20:04:57.118676",
     "status": "completed"
    },
    "tags": []
   },
   "source": [
    "### Importing appropriate functions from 'Kudzu'"
   ]
  },
  {
   "cell_type": "code",
   "execution_count": 14,
   "metadata": {
    "execution": {
     "iopub.execute_input": "2020-08-20T20:04:57.225919Z",
     "iopub.status.busy": "2020-08-20T20:04:57.225269Z",
     "iopub.status.idle": "2020-08-20T20:04:57.241706Z",
     "shell.execute_reply": "2020-08-20T20:04:57.241145Z"
    },
    "papermill": {
     "duration": 0.061166,
     "end_time": "2020-08-20T20:04:57.241842",
     "exception": false,
     "start_time": "2020-08-20T20:04:57.180676",
     "status": "completed"
    },
    "tags": []
   },
   "outputs": [],
   "source": [
    "from kudzu.layer import Sigmoid\n",
    "from kudzu.layer import Relu\n",
    "from kudzu.layer import Affine, Sigmoid\n",
    "\n",
    "from kudzu.model import Model\n",
    "from kudzu.train import Learner\n",
    "from kudzu.optim import GD\n",
    "from kudzu.data import Data, Dataloader, Sampler\n",
    "\n",
    "from kudzu.callbacks import AccCallback\n",
    "from kudzu.callbacks import ClfCallback\n",
    "\n",
    "from kudzu.loss import MSE"
   ]
  },
  {
   "cell_type": "markdown",
   "metadata": {
    "papermill": {
     "duration": 0.03144,
     "end_time": "2020-08-20T20:04:57.306650",
     "exception": false,
     "start_time": "2020-08-20T20:04:57.275210",
     "status": "completed"
    },
    "tags": []
   },
   "source": [
    "### Let us create a `Config` class, to store important parameters. \n",
    "This class essentially plays the role of a dictionary."
   ]
  },
  {
   "cell_type": "code",
   "execution_count": 15,
   "metadata": {
    "execution": {
     "iopub.execute_input": "2020-08-20T20:04:57.382363Z",
     "iopub.status.busy": "2020-08-20T20:04:57.372591Z",
     "iopub.status.idle": "2020-08-20T20:04:57.386186Z",
     "shell.execute_reply": "2020-08-20T20:04:57.385615Z"
    },
    "papermill": {
     "duration": 0.048827,
     "end_time": "2020-08-20T20:04:57.386321",
     "exception": false,
     "start_time": "2020-08-20T20:04:57.337494",
     "status": "completed"
    },
    "tags": []
   },
   "outputs": [],
   "source": [
    "class Config:\n",
    "    pass\n",
    "config = Config()\n",
    "config.lr = 0.001\n",
    "config.num_epochs = 251\n",
    "config.bs = 50"
   ]
  },
  {
   "cell_type": "markdown",
   "metadata": {
    "papermill": {
     "duration": 0.031087,
     "end_time": "2020-08-20T20:04:57.448127",
     "exception": false,
     "start_time": "2020-08-20T20:04:57.417040",
     "status": "completed"
    },
    "tags": []
   },
   "source": [
    "### Initializing data to the variables"
   ]
  },
  {
   "cell_type": "code",
   "execution_count": 16,
   "metadata": {
    "execution": {
     "iopub.execute_input": "2020-08-20T20:04:57.522544Z",
     "iopub.status.busy": "2020-08-20T20:04:57.513648Z",
     "iopub.status.idle": "2020-08-20T20:04:57.527318Z",
     "shell.execute_reply": "2020-08-20T20:04:57.526754Z"
    },
    "papermill": {
     "duration": 0.048026,
     "end_time": "2020-08-20T20:04:57.527449",
     "exception": false,
     "start_time": "2020-08-20T20:04:57.479423",
     "status": "completed"
    },
    "tags": []
   },
   "outputs": [],
   "source": [
    "data = Data(X_train, y_train.reshape(-1,1))\n",
    "sampler = Sampler(data, config.bs, shuffle=True)\n",
    "\n",
    "dl = Dataloader(data, sampler)\n",
    "\n",
    "opt = GD(config.lr)\n",
    "loss = MSE()"
   ]
  },
  {
   "cell_type": "code",
   "execution_count": 17,
   "metadata": {
    "execution": {
     "iopub.execute_input": "2020-08-20T20:04:57.597527Z",
     "iopub.status.busy": "2020-08-20T20:04:57.596872Z",
     "iopub.status.idle": "2020-08-20T20:04:57.609032Z",
     "shell.execute_reply": "2020-08-20T20:04:57.609597Z"
    },
    "papermill": {
     "duration": 0.050417,
     "end_time": "2020-08-20T20:04:57.609747",
     "exception": false,
     "start_time": "2020-08-20T20:04:57.559330",
     "status": "completed"
    },
    "tags": []
   },
   "outputs": [],
   "source": [
    "training_xdata = X_train\n",
    "testing_xdata = X_test\n",
    "training_ydata = y_train.reshape(-1,1)\n",
    "testing_ydata = y_test.reshape(-1,1)"
   ]
  },
  {
   "cell_type": "markdown",
   "metadata": {
    "papermill": {
     "duration": 0.030902,
     "end_time": "2020-08-20T20:04:57.674224",
     "exception": false,
     "start_time": "2020-08-20T20:04:57.643322",
     "status": "completed"
    },
    "tags": []
   },
   "source": [
    "### Running Models with the Training data\n",
    "Details about the network layers:\n",
    "- A first affine layer has 784 inputs and does 100 affine transforms. These are followed by a Relu\n",
    "- A second affine layer has 100 inputs from the 100 activations of the past layer, and does 100 affine transforms. These are followed by a Relu\n",
    "- A third affine layer has 100 activations and does 2 affine transformations to create an embedding for visualization. There is no non-linearity here.\n",
    "- A final \"logistic regression\" which has an affine transform from 2 inputs to 1 output, which is squeezed through a sigmoid.\n",
    "\n",
    "Help taken from Anshuman's Notebook."
   ]
  },
  {
   "cell_type": "code",
   "execution_count": 18,
   "metadata": {
    "execution": {
     "iopub.execute_input": "2020-08-20T20:04:57.746289Z",
     "iopub.status.busy": "2020-08-20T20:04:57.745644Z",
     "iopub.status.idle": "2020-08-20T20:04:57.763975Z",
     "shell.execute_reply": "2020-08-20T20:04:57.763418Z"
    },
    "papermill": {
     "duration": 0.05818,
     "end_time": "2020-08-20T20:04:57.764138",
     "exception": false,
     "start_time": "2020-08-20T20:04:57.705958",
     "status": "completed"
    },
    "tags": []
   },
   "outputs": [],
   "source": [
    "# layers for the Neural Network\n",
    "layers = [Affine(\"first\", 784, 100), Relu(\"first\"), Affine(\"second\", 100, 100), Relu(\"second\"), Affine(\"third\", 100, 2), Affine(\"final\", 2, 1), Sigmoid(\"final\")]\n",
    "model_nn = Model(layers)\n",
    "\n",
    "# layers for the Logistic Regression\n",
    "layers_lr = [Affine(\"logits\", 784, 1), Sigmoid(\"sigmoid\")]\n",
    "model_lr = Model(layers_lr)"
   ]
  },
  {
   "cell_type": "code",
   "execution_count": 19,
   "metadata": {
    "execution": {
     "iopub.execute_input": "2020-08-20T20:04:57.833399Z",
     "iopub.status.busy": "2020-08-20T20:04:57.832749Z",
     "iopub.status.idle": "2020-08-20T20:04:57.844465Z",
     "shell.execute_reply": "2020-08-20T20:04:57.845030Z"
    },
    "papermill": {
     "duration": 0.048352,
     "end_time": "2020-08-20T20:04:57.845177",
     "exception": false,
     "start_time": "2020-08-20T20:04:57.796825",
     "status": "completed"
    },
    "tags": []
   },
   "outputs": [],
   "source": [
    "# suffix _nn stands for Neural Network.\n",
    "learner_nn = Learner(loss, model_nn, opt, config.num_epochs)\n",
    "acc_nn = ClfCallback(learner_nn, config.bs, training_xdata , testing_xdata, training_ydata, testing_ydata)\n",
    "learner_nn.set_callbacks([acc_nn])"
   ]
  },
  {
   "cell_type": "code",
   "execution_count": 20,
   "metadata": {
    "execution": {
     "iopub.execute_input": "2020-08-20T20:04:57.920859Z",
     "iopub.status.busy": "2020-08-20T20:04:57.915694Z",
     "iopub.status.idle": "2020-08-20T20:06:58.547680Z",
     "shell.execute_reply": "2020-08-20T20:06:58.547107Z"
    },
    "papermill": {
     "duration": 120.672006,
     "end_time": "2020-08-20T20:06:58.547837",
     "exception": false,
     "start_time": "2020-08-20T20:04:57.875831",
     "status": "completed"
    },
    "tags": []
   },
   "outputs": [
    {
     "name": "stdout",
     "output_type": "stream",
     "text": [
      "====== Neural Network ======\n"
     ]
    },
    {
     "name": "stdout",
     "output_type": "stream",
     "text": [
      "Epoch 0, Loss 0.2414\n",
      "Training Accuracy: 0.6569, Testing Accuracy: 0.6487\n",
      "\n"
     ]
    },
    {
     "name": "stdout",
     "output_type": "stream",
     "text": [
      "Epoch 10, Loss 0.0826\n",
      "Training Accuracy: 0.9232, Testing Accuracy: 0.9360\n",
      "\n"
     ]
    },
    {
     "name": "stdout",
     "output_type": "stream",
     "text": [
      "Epoch 20, Loss 0.0518\n",
      "Training Accuracy: 0.9471, Testing Accuracy: 0.9617\n",
      "\n"
     ]
    },
    {
     "name": "stdout",
     "output_type": "stream",
     "text": [
      "Epoch 30, Loss 0.0411\n",
      "Training Accuracy: 0.9552, Testing Accuracy: 0.9657\n",
      "\n"
     ]
    },
    {
     "name": "stdout",
     "output_type": "stream",
     "text": [
      "Epoch 40, Loss 0.0358\n",
      "Training Accuracy: 0.9606, Testing Accuracy: 0.9682\n",
      "\n"
     ]
    },
    {
     "name": "stdout",
     "output_type": "stream",
     "text": [
      "Epoch 50, Loss 0.0326\n",
      "Training Accuracy: 0.9641, Testing Accuracy: 0.9677\n",
      "\n"
     ]
    },
    {
     "name": "stdout",
     "output_type": "stream",
     "text": [
      "Epoch 60, Loss 0.0304\n",
      "Training Accuracy: 0.9660, Testing Accuracy: 0.9703\n",
      "\n"
     ]
    },
    {
     "name": "stdout",
     "output_type": "stream",
     "text": [
      "Epoch 70, Loss 0.0287\n",
      "Training Accuracy: 0.9678, Testing Accuracy: 0.9708\n",
      "\n"
     ]
    },
    {
     "name": "stdout",
     "output_type": "stream",
     "text": [
      "Epoch 80, Loss 0.0273\n",
      "Training Accuracy: 0.9690, Testing Accuracy: 0.9703\n",
      "\n"
     ]
    },
    {
     "name": "stdout",
     "output_type": "stream",
     "text": [
      "Epoch 90, Loss 0.0262\n",
      "Training Accuracy: 0.9706, Testing Accuracy: 0.9698\n",
      "\n"
     ]
    },
    {
     "name": "stdout",
     "output_type": "stream",
     "text": [
      "Epoch 100, Loss 0.0253\n",
      "Training Accuracy: 0.9715, Testing Accuracy: 0.9703\n",
      "\n"
     ]
    },
    {
     "name": "stdout",
     "output_type": "stream",
     "text": [
      "Epoch 110, Loss 0.0244\n",
      "Training Accuracy: 0.9730, Testing Accuracy: 0.9708\n",
      "\n"
     ]
    },
    {
     "name": "stdout",
     "output_type": "stream",
     "text": [
      "Epoch 120, Loss 0.0237\n",
      "Training Accuracy: 0.9737, Testing Accuracy: 0.9713\n",
      "\n"
     ]
    },
    {
     "name": "stdout",
     "output_type": "stream",
     "text": [
      "Epoch 130, Loss 0.023\n",
      "Training Accuracy: 0.9739, Testing Accuracy: 0.9713\n",
      "\n"
     ]
    },
    {
     "name": "stdout",
     "output_type": "stream",
     "text": [
      "Epoch 140, Loss 0.0224\n",
      "Training Accuracy: 0.9746, Testing Accuracy: 0.9718\n",
      "\n"
     ]
    },
    {
     "name": "stdout",
     "output_type": "stream",
     "text": [
      "Epoch 150, Loss 0.0218\n",
      "Training Accuracy: 0.9751, Testing Accuracy: 0.9718\n",
      "\n"
     ]
    },
    {
     "name": "stdout",
     "output_type": "stream",
     "text": [
      "Epoch 160, Loss 0.0213\n",
      "Training Accuracy: 0.9755, Testing Accuracy: 0.9738\n",
      "\n"
     ]
    },
    {
     "name": "stdout",
     "output_type": "stream",
     "text": [
      "Epoch 170, Loss 0.0208\n",
      "Training Accuracy: 0.9759, Testing Accuracy: 0.9738\n",
      "\n"
     ]
    },
    {
     "name": "stdout",
     "output_type": "stream",
     "text": [
      "Epoch 180, Loss 0.0203\n",
      "Training Accuracy: 0.9765, Testing Accuracy: 0.9738\n",
      "\n"
     ]
    },
    {
     "name": "stdout",
     "output_type": "stream",
     "text": [
      "Epoch 190, Loss 0.0198\n",
      "Training Accuracy: 0.9772, Testing Accuracy: 0.9743\n",
      "\n"
     ]
    },
    {
     "name": "stdout",
     "output_type": "stream",
     "text": [
      "Epoch 200, Loss 0.0194\n",
      "Training Accuracy: 0.9778, Testing Accuracy: 0.9748\n",
      "\n"
     ]
    },
    {
     "name": "stdout",
     "output_type": "stream",
     "text": [
      "Epoch 210, Loss 0.019\n",
      "Training Accuracy: 0.9784, Testing Accuracy: 0.9748\n",
      "\n"
     ]
    },
    {
     "name": "stdout",
     "output_type": "stream",
     "text": [
      "Epoch 220, Loss 0.0186\n",
      "Training Accuracy: 0.9791, Testing Accuracy: 0.9758\n",
      "\n"
     ]
    },
    {
     "name": "stdout",
     "output_type": "stream",
     "text": [
      "Epoch 230, Loss 0.0182\n",
      "Training Accuracy: 0.9796, Testing Accuracy: 0.9753\n",
      "\n"
     ]
    },
    {
     "name": "stdout",
     "output_type": "stream",
     "text": [
      "Epoch 240, Loss 0.0178\n",
      "Training Accuracy: 0.9801, Testing Accuracy: 0.9753\n",
      "\n"
     ]
    },
    {
     "name": "stdout",
     "output_type": "stream",
     "text": [
      "Epoch 250, Loss 0.0174\n",
      "Training Accuracy: 0.9805, Testing Accuracy: 0.9753\n",
      "\n"
     ]
    },
    {
     "data": {
      "text/plain": [
       "0.010364554911424295"
      ]
     },
     "execution_count": 20,
     "metadata": {},
     "output_type": "execute_result"
    }
   ],
   "source": [
    "print(\"====== Neural Network ======\")\n",
    "learner_nn.train_loop(dl)"
   ]
  },
  {
   "cell_type": "markdown",
   "metadata": {
    "papermill": {
     "duration": 0.041987,
     "end_time": "2020-08-20T20:06:58.632359",
     "exception": false,
     "start_time": "2020-08-20T20:06:58.590372",
     "status": "completed"
    },
    "tags": []
   },
   "source": [
    "### Logistic Regression based Implementation."
   ]
  },
  {
   "cell_type": "code",
   "execution_count": 21,
   "metadata": {
    "execution": {
     "iopub.execute_input": "2020-08-20T20:06:58.724960Z",
     "iopub.status.busy": "2020-08-20T20:06:58.720561Z",
     "iopub.status.idle": "2020-08-20T20:06:58.733413Z",
     "shell.execute_reply": "2020-08-20T20:06:58.733912Z"
    },
    "papermill": {
     "duration": 0.061175,
     "end_time": "2020-08-20T20:06:58.734065",
     "exception": false,
     "start_time": "2020-08-20T20:06:58.672890",
     "status": "completed"
    },
    "tags": []
   },
   "outputs": [],
   "source": [
    "learner_lr = Learner(loss, model_lr, opt, config.num_epochs)\n",
    "acc_lr = ClfCallback(learner_lr, config.bs, training_xdata , testing_xdata, training_ydata, testing_ydata)\n",
    "learner_lr.set_callbacks([acc_lr])"
   ]
  },
  {
   "cell_type": "code",
   "execution_count": 22,
   "metadata": {
    "execution": {
     "iopub.execute_input": "2020-08-20T20:06:58.829995Z",
     "iopub.status.busy": "2020-08-20T20:06:58.826788Z",
     "iopub.status.idle": "2020-08-20T20:07:16.456346Z",
     "shell.execute_reply": "2020-08-20T20:07:16.457136Z"
    },
    "papermill": {
     "duration": 17.6795,
     "end_time": "2020-08-20T20:07:16.457307",
     "exception": false,
     "start_time": "2020-08-20T20:06:58.777807",
     "status": "completed"
    },
    "tags": []
   },
   "outputs": [
    {
     "name": "stdout",
     "output_type": "stream",
     "text": [
      "====== Logistic Regression ======\n",
      "Epoch 0, Loss 0.2282\n",
      "Training Accuracy: 0.6915, Testing Accuracy: 0.7177\n",
      "\n"
     ]
    },
    {
     "name": "stdout",
     "output_type": "stream",
     "text": [
      "Epoch 10, Loss 0.1072\n",
      "Training Accuracy: 0.8948, Testing Accuracy: 0.9083\n",
      "\n"
     ]
    },
    {
     "name": "stdout",
     "output_type": "stream",
     "text": [
      "Epoch 20, Loss 0.082\n",
      "Training Accuracy: 0.9185, Testing Accuracy: 0.9309\n",
      "\n"
     ]
    },
    {
     "name": "stdout",
     "output_type": "stream",
     "text": [
      "Epoch 30, Loss 0.0701\n",
      "Training Accuracy: 0.9326, Testing Accuracy: 0.9435\n",
      "\n"
     ]
    },
    {
     "name": "stdout",
     "output_type": "stream",
     "text": [
      "Epoch 40, Loss 0.0629\n",
      "Training Accuracy: 0.9391, Testing Accuracy: 0.9486\n",
      "\n"
     ]
    },
    {
     "name": "stdout",
     "output_type": "stream",
     "text": [
      "Epoch 50, Loss 0.0581\n",
      "Training Accuracy: 0.9422, Testing Accuracy: 0.9531\n",
      "\n"
     ]
    },
    {
     "name": "stdout",
     "output_type": "stream",
     "text": [
      "Epoch 60, Loss 0.0546\n",
      "Training Accuracy: 0.9451, Testing Accuracy: 0.9556\n",
      "\n"
     ]
    },
    {
     "name": "stdout",
     "output_type": "stream",
     "text": [
      "Epoch 70, Loss 0.0519\n",
      "Training Accuracy: 0.9474, Testing Accuracy: 0.9567\n",
      "\n"
     ]
    },
    {
     "name": "stdout",
     "output_type": "stream",
     "text": [
      "Epoch 80, Loss 0.0497\n",
      "Training Accuracy: 0.9491, Testing Accuracy: 0.9582\n",
      "\n"
     ]
    },
    {
     "name": "stdout",
     "output_type": "stream",
     "text": [
      "Epoch 90, Loss 0.048\n",
      "Training Accuracy: 0.9502, Testing Accuracy: 0.9607\n",
      "\n"
     ]
    },
    {
     "name": "stdout",
     "output_type": "stream",
     "text": [
      "Epoch 100, Loss 0.0465\n",
      "Training Accuracy: 0.9516, Testing Accuracy: 0.9622\n",
      "\n"
     ]
    },
    {
     "name": "stdout",
     "output_type": "stream",
     "text": [
      "Epoch 110, Loss 0.0452\n",
      "Training Accuracy: 0.9523, Testing Accuracy: 0.9617\n",
      "\n"
     ]
    },
    {
     "name": "stdout",
     "output_type": "stream",
     "text": [
      "Epoch 120, Loss 0.0441\n",
      "Training Accuracy: 0.9528, Testing Accuracy: 0.9632\n",
      "\n"
     ]
    },
    {
     "name": "stdout",
     "output_type": "stream",
     "text": [
      "Epoch 130, Loss 0.0432\n",
      "Training Accuracy: 0.9543, Testing Accuracy: 0.9642\n",
      "\n"
     ]
    },
    {
     "name": "stdout",
     "output_type": "stream",
     "text": [
      "Epoch 140, Loss 0.0423\n",
      "Training Accuracy: 0.9552, Testing Accuracy: 0.9652\n",
      "\n"
     ]
    },
    {
     "name": "stdout",
     "output_type": "stream",
     "text": [
      "Epoch 150, Loss 0.0415\n",
      "Training Accuracy: 0.9559, Testing Accuracy: 0.9652\n",
      "\n"
     ]
    },
    {
     "name": "stdout",
     "output_type": "stream",
     "text": [
      "Epoch 160, Loss 0.0409\n",
      "Training Accuracy: 0.9566, Testing Accuracy: 0.9662\n",
      "\n"
     ]
    },
    {
     "name": "stdout",
     "output_type": "stream",
     "text": [
      "Epoch 170, Loss 0.0402\n",
      "Training Accuracy: 0.9576, Testing Accuracy: 0.9662\n",
      "\n"
     ]
    },
    {
     "name": "stdout",
     "output_type": "stream",
     "text": [
      "Epoch 180, Loss 0.0397\n",
      "Training Accuracy: 0.9579, Testing Accuracy: 0.9662\n",
      "\n"
     ]
    },
    {
     "name": "stdout",
     "output_type": "stream",
     "text": [
      "Epoch 190, Loss 0.0391\n",
      "Training Accuracy: 0.9584, Testing Accuracy: 0.9662\n",
      "\n"
     ]
    },
    {
     "name": "stdout",
     "output_type": "stream",
     "text": [
      "Epoch 200, Loss 0.0386\n",
      "Training Accuracy: 0.9584, Testing Accuracy: 0.9667\n",
      "\n"
     ]
    },
    {
     "name": "stdout",
     "output_type": "stream",
     "text": [
      "Epoch 210, Loss 0.0382\n",
      "Training Accuracy: 0.9588, Testing Accuracy: 0.9677\n",
      "\n"
     ]
    },
    {
     "name": "stdout",
     "output_type": "stream",
     "text": [
      "Epoch 220, Loss 0.0378\n",
      "Training Accuracy: 0.9594, Testing Accuracy: 0.9682\n",
      "\n"
     ]
    },
    {
     "name": "stdout",
     "output_type": "stream",
     "text": [
      "Epoch 230, Loss 0.0374\n",
      "Training Accuracy: 0.9597, Testing Accuracy: 0.9688\n",
      "\n"
     ]
    },
    {
     "name": "stdout",
     "output_type": "stream",
     "text": [
      "Epoch 240, Loss 0.037\n",
      "Training Accuracy: 0.9597, Testing Accuracy: 0.9682\n",
      "\n"
     ]
    },
    {
     "name": "stdout",
     "output_type": "stream",
     "text": [
      "Epoch 250, Loss 0.0367\n",
      "Training Accuracy: 0.9600, Testing Accuracy: 0.9682\n",
      "\n"
     ]
    },
    {
     "data": {
      "text/plain": [
       "0.024540055257741097"
      ]
     },
     "execution_count": 22,
     "metadata": {},
     "output_type": "execute_result"
    }
   ],
   "source": [
    "print(\"====== Logistic Regression ======\")\n",
    "learner_lr.train_loop(dl)"
   ]
  },
  {
   "cell_type": "markdown",
   "metadata": {
    "papermill": {
     "duration": 0.049001,
     "end_time": "2020-08-20T20:07:16.554966",
     "exception": false,
     "start_time": "2020-08-20T20:07:16.505965",
     "status": "completed"
    },
    "tags": []
   },
   "source": [
    "### Comparing results of NN and LR"
   ]
  },
  {
   "cell_type": "code",
   "execution_count": 23,
   "metadata": {
    "execution": {
     "iopub.execute_input": "2020-08-20T20:07:16.660307Z",
     "iopub.status.busy": "2020-08-20T20:07:16.659615Z",
     "iopub.status.idle": "2020-08-20T20:07:16.927468Z",
     "shell.execute_reply": "2020-08-20T20:07:16.926681Z"
    },
    "papermill": {
     "duration": 0.321498,
     "end_time": "2020-08-20T20:07:16.927649",
     "exception": false,
     "start_time": "2020-08-20T20:07:16.606151",
     "status": "completed"
    },
    "tags": []
   },
   "outputs": [
    {
     "data": {
      "text/plain": [
       "<matplotlib.legend.Legend at 0x7f916ba05f98>"
      ]
     },
     "execution_count": 23,
     "metadata": {},
     "output_type": "execute_result"
    },
    {
     "data": {
      "image/png": "[encoded data removed]",
      "text/plain": [
       "<Figure size 1080x720 with 1 Axes>"
      ]
     },
     "metadata": {
      "needs_background": "light"
     },
     "output_type": "display_data"
    }
   ],
   "source": [
    "plt.figure(figsize=(15,10))\n",
    "\n",
    "# Neural Network plots\n",
    "plt.plot(acc_nn.accuracies, 'r-', label = \"Training Accuracies - NN\")\n",
    "plt.plot(acc_nn.test_accuracies, 'g-', label = \"Testing Accuracies - NN\")\n",
    "\n",
    "# Logistic Regression plots\n",
    "plt.plot(acc_lr.accuracies, 'k-', label = \"Training Accuracies - LR\")\n",
    "plt.plot(acc_lr.test_accuracies, 'b-', label = \"Testing Accuracies - LR\")\n",
    "\n",
    "plt.ylim(0.8, 1)\n",
    "\n",
    "plt.legend()\n",
    "\n"
   ]
  },
  {
   "cell_type": "markdown",
   "metadata": {
    "papermill": {
     "duration": 0.051175,
     "end_time": "2020-08-20T20:07:17.029497",
     "exception": false,
     "start_time": "2020-08-20T20:07:16.978322",
     "status": "completed"
    },
    "tags": []
   },
   "source": [
    "### From the plot, we can observe the following:\n",
    "- Neural Network achieves higher accuracy than the Logistic Regression model.\n",
    "- This apparently, is because of overfitting, i.e. NN captures more noise than data.\n",
    "- Testing accuracy of NN drops below the Training accuracy at higher epochs. This explains the over-fitting on training data.\n",
    "- Logistic Regression gives a reliable accuracy, without the above mentioned problem.\n"
   ]
  },
  {
   "cell_type": "markdown",
   "metadata": {
    "papermill": {
     "duration": 0.050612,
     "end_time": "2020-08-20T20:07:17.132461",
     "exception": false,
     "start_time": "2020-08-20T20:07:17.081849",
     "status": "completed"
    },
    "tags": []
   },
   "source": [
    "### Moving till the last but one layer (excluding it).\n",
    "#### Plotting the outputs of this layer of the NN."
   ]
  },
  {
   "cell_type": "code",
   "execution_count": 24,
   "metadata": {
    "execution": {
     "iopub.execute_input": "2020-08-20T20:07:17.245157Z",
     "iopub.status.busy": "2020-08-20T20:07:17.236866Z",
     "iopub.status.idle": "2020-08-20T20:07:17.251576Z",
     "shell.execute_reply": "2020-08-20T20:07:17.251023Z"
    },
    "papermill": {
     "duration": 0.067795,
     "end_time": "2020-08-20T20:07:17.251709",
     "exception": false,
     "start_time": "2020-08-20T20:07:17.183914",
     "status": "completed"
    },
    "tags": []
   },
   "outputs": [],
   "source": [
    "model_new = Model(layers[:-2])"
   ]
  },
  {
   "cell_type": "code",
   "execution_count": 25,
   "metadata": {
    "execution": {
     "iopub.execute_input": "2020-08-20T20:07:17.357433Z",
     "iopub.status.busy": "2020-08-20T20:07:17.356802Z",
     "iopub.status.idle": "2020-08-20T20:07:17.380502Z",
     "shell.execute_reply": "2020-08-20T20:07:17.381078Z"
    },
    "papermill": {
     "duration": 0.078746,
     "end_time": "2020-08-20T20:07:17.381249",
     "exception": false,
     "start_time": "2020-08-20T20:07:17.302503",
     "status": "completed"
    },
    "tags": []
   },
   "outputs": [],
   "source": [
    "plot_testing = model_new(testing_xdata)"
   ]
  },
  {
   "cell_type": "code",
   "execution_count": 26,
   "metadata": {
    "execution": {
     "iopub.execute_input": "2020-08-20T20:07:17.507968Z",
     "iopub.status.busy": "2020-08-20T20:07:17.496653Z",
     "iopub.status.idle": "2020-08-20T20:07:17.705790Z",
     "shell.execute_reply": "2020-08-20T20:07:17.706325Z"
    },
    "papermill": {
     "duration": 0.271703,
     "end_time": "2020-08-20T20:07:17.706494",
     "exception": false,
     "start_time": "2020-08-20T20:07:17.434791",
     "status": "completed"
    },
    "tags": []
   },
   "outputs": [
    {
     "data": {
      "text/plain": [
       "Text(0.5, 1.0, 'Outputs')"
      ]
     },
     "execution_count": 26,
     "metadata": {},
     "output_type": "execute_result"
    },
    {
     "data": {
      "image/png": "[encoded data removed]",
      "text/plain": [
       "<Figure size 576x504 with 1 Axes>"
      ]
     },
     "metadata": {
      "needs_background": "light"
     },
     "output_type": "display_data"
    }
   ],
   "source": [
    "plt.figure(figsize=(8,7))\n",
    "plt.scatter(plot_testing[:,0], plot_testing[:,1], alpha = 0.1, c = y_test.ravel());\n",
    "plt.title('Outputs')"
   ]
  },
  {
   "cell_type": "markdown",
   "metadata": {
    "papermill": {
     "duration": 0.052622,
     "end_time": "2020-08-20T20:07:17.811682",
     "exception": false,
     "start_time": "2020-08-20T20:07:17.759060",
     "status": "completed"
    },
    "tags": []
   },
   "source": [
    "### Plotting probability contours"
   ]
  },
  {
   "cell_type": "code",
   "execution_count": 27,
   "metadata": {
    "execution": {
     "iopub.execute_input": "2020-08-20T20:07:17.923482Z",
     "iopub.status.busy": "2020-08-20T20:07:17.922839Z",
     "iopub.status.idle": "2020-08-20T20:07:17.933947Z",
     "shell.execute_reply": "2020-08-20T20:07:17.934571Z"
    },
    "papermill": {
     "duration": 0.070568,
     "end_time": "2020-08-20T20:07:17.934732",
     "exception": false,
     "start_time": "2020-08-20T20:07:17.864164",
     "status": "completed"
    },
    "tags": []
   },
   "outputs": [],
   "source": [
    "model_prob = Model(layers[-2:]) "
   ]
  },
  {
   "cell_type": "code",
   "execution_count": 28,
   "metadata": {
    "execution": {
     "iopub.execute_input": "2020-08-20T20:07:18.048286Z",
     "iopub.status.busy": "2020-08-20T20:07:18.047613Z",
     "iopub.status.idle": "2020-08-20T20:07:18.060894Z",
     "shell.execute_reply": "2020-08-20T20:07:18.061422Z"
    },
    "papermill": {
     "duration": 0.073869,
     "end_time": "2020-08-20T20:07:18.061601",
     "exception": false,
     "start_time": "2020-08-20T20:07:17.987732",
     "status": "completed"
    },
    "tags": []
   },
   "outputs": [],
   "source": [
    "# Adjust the x and y ranges according to the above generated plot.\n",
    "x_range = np.linspace(-4, 1, 100) \n",
    "y_range = np.linspace(-6, 6, 100) \n",
    "x_grid, y_grid = np.meshgrid(x_range, y_range) # x_grid and y_grig are of size 100 X 100\n",
    "\n",
    "# converting x_grid and y_grid to continuous arrays\n",
    "x_grid_flat = np.ravel(x_grid)\n",
    "y_grid_flat = np.ravel(y_grid)\n",
    "\n",
    "# The last layer of the current model takes two columns as input. Hence transpose of np.vstack() is required.\n",
    "X = np.vstack((x_grid_flat, y_grid_flat)).T\n",
    "\n",
    "# x_grid and y_grid are of size 100 x 100\n",
    "probability_contour = model_prob(X).reshape(100,100) "
   ]
  },
  {
   "cell_type": "code",
   "execution_count": 29,
   "metadata": {
    "execution": {
     "iopub.execute_input": "2020-08-20T20:07:18.179466Z",
     "iopub.status.busy": "2020-08-20T20:07:18.178810Z",
     "iopub.status.idle": "2020-08-20T20:07:18.470678Z",
     "shell.execute_reply": "2020-08-20T20:07:18.471225Z"
    },
    "papermill": {
     "duration": 0.354561,
     "end_time": "2020-08-20T20:07:18.471397",
     "exception": false,
     "start_time": "2020-08-20T20:07:18.116836",
     "status": "completed"
    },
    "tags": []
   },
   "outputs": [
    {
     "data": {
      "image/png": "[encoded data removed]",
      "text/plain": [
       "<Figure size 720x648 with 1 Axes>"
      ]
     },
     "metadata": {
      "needs_background": "light"
     },
     "output_type": "display_data"
    }
   ],
   "source": [
    "plt.figure(figsize=(10,9))\n",
    "plt.scatter(plot_testing[:,0], plot_testing[:,1], alpha = 0.1, c = y_test.ravel())\n",
    "contours = plt.contour(x_grid,y_grid,probability_contour)\n",
    "plt.title('Probability Contours')\n",
    "plt.clabel(contours, inline = True );"
   ]
  }
 ],
 "metadata": {
  "kernelspec": {
   "display_name": "Python 3",
   "language": "python",
   "name": "python3"
  },
  "language_info": {
   "codemirror_mode": {
    "name": "ipython",
    "version": 3
   },
   "file_extension": ".py",
   "mimetype": "text/x-python",
   "name": "python",
   "nbconvert_exporter": "python",
   "pygments_lexer": "ipython3",
   "version": "3.6.11"
  },
  "papermill": {
   "duration": 148.315882,
   "end_time": "2020-08-20T20:07:18.853708",
   "environment_variables": {},
   "exception": null,
   "input_path": "2020-08-11-NeuralNetwork.ipynb",
   "output_path": "2020-08-11-NeuralNetwork.ipynb",
   "parameters": {},
   "start_time": "2020-08-20T20:04:50.537826",
   "version": "2.1.2"
  }
 },
 "nbformat": 4,
 "nbformat_minor": 4
}