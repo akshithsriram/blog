{
 "cells": [
  {
   "cell_type": "markdown",
   "id": "fitted-suggestion",
   "metadata": {
    "papermill": {
     "duration": 0.02939,
     "end_time": "2021-01-30T00:08:09.689617",
     "exception": false,
     "start_time": "2021-01-30T00:08:09.660227",
     "status": "completed"
    },
    "tags": []
   },
   "source": [
    "# \"A Basic Neural Network: Differentiate Hand-Written Digits\"\n",
    "\n",
    "- badges: true\n",
    "- author: Akshith Sriram"
   ]
  },
  {
   "cell_type": "markdown",
   "id": "signal-flexibility",
   "metadata": {
    "papermill": {
     "duration": 0.025559,
     "end_time": "2021-01-30T00:08:09.739365",
     "exception": false,
     "start_time": "2021-01-30T00:08:09.713806",
     "status": "completed"
    },
    "tags": []
   },
   "source": [
    "### Key Objectives:\n",
    "- Building a neural network that differentiates two hand-written digits 3 and 8.\n",
    "- Comparing the results of this Neural Network (NN) to that of a Logistic Regression (LR) model.\n",
    "\n",
    "### Requirements:\n",
    "- 'Kudzu' : A neural network library that was designed during our course by [Univ.AI](www.univ.ai). \n",
    "- MNIST Database\n",
    "\n",
    "If MNIST is not installed, use the command `!pip install mnist` given below.\n",
    "It can be run both from the command line and Jupyter Notebook."
   ]
  },
  {
   "cell_type": "code",
   "execution_count": 1,
   "id": "british-texture",
   "metadata": {
    "execution": {
     "iopub.execute_input": "2021-01-30T00:08:09.800381Z",
     "iopub.status.busy": "2021-01-30T00:08:09.799817Z",
     "iopub.status.idle": "2021-01-30T00:08:11.222872Z",
     "shell.execute_reply": "2021-01-30T00:08:11.223694Z"
    },
    "papermill": {
     "duration": 1.45952,
     "end_time": "2021-01-30T00:08:11.223987",
     "exception": false,
     "start_time": "2021-01-30T00:08:09.764467",
     "status": "completed"
    },
    "tags": []
   },
   "outputs": [
    {
     "name": "stdout",
     "output_type": "stream",
     "text": [
      "Collecting mnist\r\n"
     ]
    },
    {
     "name": "stdout",
     "output_type": "stream",
     "text": [
      "  Downloading mnist-0.2.2-py2.py3-none-any.whl (3.5 kB)\r\n",
      "Requirement already satisfied: numpy in /opt/hostedtoolcache/Python/3.6.12/x64/lib/python3.6/site-packages (from mnist) (1.19.5)\r\n"
     ]
    },
    {
     "name": "stdout",
     "output_type": "stream",
     "text": [
      "Installing collected packages: mnist\r\n"
     ]
    },
    {
     "name": "stdout",
     "output_type": "stream",
     "text": [
      "Successfully installed mnist-0.2.2\r\n"
     ]
    },
    {
     "name": "stdout",
     "output_type": "stream",
     "text": [
      "\u001b[33mWARNING: You are using pip version 20.3.4; however, version 21.0 is available.\r\n",
      "You should consider upgrading via the '/opt/hostedtoolcache/Python/3.6.12/x64/bin/python -m pip install --upgrade pip' command.\u001b[0m\r\n"
     ]
    }
   ],
   "source": [
    "!pip install mnist "
   ]
  },
  {
   "cell_type": "markdown",
   "id": "stunning-extra",
   "metadata": {
    "papermill": {
     "duration": 0.026089,
     "end_time": "2021-01-30T00:08:11.279722",
     "exception": false,
     "start_time": "2021-01-30T00:08:11.253633",
     "status": "completed"
    },
    "tags": []
   },
   "source": [
    "#### Importing necessary libraries"
   ]
  },
  {
   "cell_type": "code",
   "execution_count": 2,
   "id": "wooden-france",
   "metadata": {
    "execution": {
     "iopub.execute_input": "2021-01-30T00:08:11.337766Z",
     "iopub.status.busy": "2021-01-30T00:08:11.337186Z",
     "iopub.status.idle": "2021-01-30T00:08:11.854181Z",
     "shell.execute_reply": "2021-01-30T00:08:11.853661Z"
    },
    "papermill": {
     "duration": 0.549752,
     "end_time": "2021-01-30T00:08:11.854321",
     "exception": false,
     "start_time": "2021-01-30T00:08:11.304569",
     "status": "completed"
    },
    "tags": []
   },
   "outputs": [],
   "source": [
    "%load_ext autoreload\n",
    "%autoreload 2\n",
    "\n",
    "%matplotlib inline\n",
    "import matplotlib.pyplot as plt\n",
    "\n",
    "import numpy as np\n",
    "import pandas as pd"
   ]
  },
  {
   "cell_type": "markdown",
   "id": "stunning-physics",
   "metadata": {
    "papermill": {
     "duration": 0.027719,
     "end_time": "2021-01-30T00:08:11.909927",
     "exception": false,
     "start_time": "2021-01-30T00:08:11.882208",
     "status": "completed"
    },
    "tags": []
   },
   "source": [
    "### Preparing the Data"
   ]
  },
  {
   "cell_type": "code",
   "execution_count": 3,
   "id": "unauthorized-remainder",
   "metadata": {
    "execution": {
     "iopub.execute_input": "2021-01-30T00:08:11.966003Z",
     "iopub.status.busy": "2021-01-30T00:08:11.965483Z",
     "iopub.status.idle": "2021-01-30T00:08:11.977029Z",
     "shell.execute_reply": "2021-01-30T00:08:11.976638Z"
    },
    "papermill": {
     "duration": 0.041775,
     "end_time": "2021-01-30T00:08:11.977137",
     "exception": false,
     "start_time": "2021-01-30T00:08:11.935362",
     "status": "completed"
    },
    "tags": []
   },
   "outputs": [],
   "source": [
    "import mnist"
   ]
  },
  {
   "cell_type": "code",
   "execution_count": 4,
   "id": "correct-antarctica",
   "metadata": {
    "execution": {
     "iopub.execute_input": "2021-01-30T00:08:12.033382Z",
     "iopub.status.busy": "2021-01-30T00:08:12.032838Z",
     "iopub.status.idle": "2021-01-30T00:08:13.882078Z",
     "shell.execute_reply": "2021-01-30T00:08:13.881564Z"
    },
    "papermill": {
     "duration": 1.87876,
     "end_time": "2021-01-30T00:08:13.882220",
     "exception": false,
     "start_time": "2021-01-30T00:08:12.003460",
     "status": "completed"
    },
    "tags": []
   },
   "outputs": [],
   "source": [
    "train_images = mnist.train_images()\n",
    "train_labels = mnist.train_labels()"
   ]
  },
  {
   "cell_type": "code",
   "execution_count": 5,
   "id": "musical-prospect",
   "metadata": {
    "execution": {
     "iopub.execute_input": "2021-01-30T00:08:13.941077Z",
     "iopub.status.busy": "2021-01-30T00:08:13.940528Z",
     "iopub.status.idle": "2021-01-30T00:08:13.954486Z",
     "shell.execute_reply": "2021-01-30T00:08:13.954022Z"
    },
    "papermill": {
     "duration": 0.045863,
     "end_time": "2021-01-30T00:08:13.954603",
     "exception": false,
     "start_time": "2021-01-30T00:08:13.908740",
     "status": "completed"
    },
    "tags": []
   },
   "outputs": [
    {
     "data": {
      "text/plain": [
       "((60000, 28, 28), (60000,))"
      ]
     },
     "execution_count": 5,
     "metadata": {},
     "output_type": "execute_result"
    }
   ],
   "source": [
    "train_images.shape, train_labels.shape"
   ]
  },
  {
   "cell_type": "code",
   "execution_count": 6,
   "id": "preliminary-elizabeth",
   "metadata": {
    "execution": {
     "iopub.execute_input": "2021-01-30T00:08:14.012003Z",
     "iopub.status.busy": "2021-01-30T00:08:14.011580Z",
     "iopub.status.idle": "2021-01-30T00:08:15.021422Z",
     "shell.execute_reply": "2021-01-30T00:08:15.020887Z"
    },
    "papermill": {
     "duration": 1.041689,
     "end_time": "2021-01-30T00:08:15.021595",
     "exception": false,
     "start_time": "2021-01-30T00:08:13.979906",
     "status": "completed"
    },
    "tags": []
   },
   "outputs": [],
   "source": [
    "test_images = mnist.test_images()\n",
    "test_labels = mnist.test_labels()"
   ]
  },
  {
   "cell_type": "code",
   "execution_count": 7,
   "id": "acknowledged-oxygen",
   "metadata": {
    "execution": {
     "iopub.execute_input": "2021-01-30T00:08:15.084261Z",
     "iopub.status.busy": "2021-01-30T00:08:15.083777Z",
     "iopub.status.idle": "2021-01-30T00:08:15.099613Z",
     "shell.execute_reply": "2021-01-30T00:08:15.099168Z"
    },
    "papermill": {
     "duration": 0.048981,
     "end_time": "2021-01-30T00:08:15.099740",
     "exception": false,
     "start_time": "2021-01-30T00:08:15.050759",
     "status": "completed"
    },
    "tags": []
   },
   "outputs": [
    {
     "data": {
      "text/plain": [
       "((10000, 28, 28), (10000,))"
      ]
     },
     "execution_count": 7,
     "metadata": {},
     "output_type": "execute_result"
    }
   ],
   "source": [
    "test_images.shape, test_labels.shape"
   ]
  },
  {
   "cell_type": "code",
   "execution_count": 8,
   "id": "innovative-organic",
   "metadata": {
    "execution": {
     "iopub.execute_input": "2021-01-30T00:08:15.159072Z",
     "iopub.status.busy": "2021-01-30T00:08:15.158522Z",
     "iopub.status.idle": "2021-01-30T00:08:15.295591Z",
     "shell.execute_reply": "2021-01-30T00:08:15.295992Z"
    },
    "papermill": {
     "duration": 0.169323,
     "end_time": "2021-01-30T00:08:15.296119",
     "exception": false,
     "start_time": "2021-01-30T00:08:15.126796",
     "status": "completed"
    },
    "tags": []
   },
   "outputs": [
    {
     "name": "stdout",
     "output_type": "stream",
     "text": [
      "2\n"
     ]
    },
    {
     "data": {
      "text/plain": [
       "<matplotlib.image.AxesImage at 0x7f133c81ff28>"
      ]
     },
     "execution_count": 8,
     "metadata": {},
     "output_type": "execute_result"
    },
    {
     "data": {
      "image/png": "[encoded data removed]",
      "text/plain": [
       "<Figure size 432x288 with 1 Axes>"
      ]
     },
     "metadata": {
      "needs_background": "light"
     },
     "output_type": "display_data"
    }
   ],
   "source": [
    "image_index = 7776 # You may select anything up to 60,000\n",
    "print(train_labels[image_index]) \n",
    "plt.imshow(train_images[image_index], cmap='Greys')"
   ]
  },
  {
   "cell_type": "markdown",
   "id": "facial-modem",
   "metadata": {
    "papermill": {
     "duration": 0.025374,
     "end_time": "2021-01-30T00:08:15.346596",
     "exception": false,
     "start_time": "2021-01-30T00:08:15.321222",
     "status": "completed"
    },
    "tags": []
   },
   "source": [
    "## Filter data to get 3 and 8 out"
   ]
  },
  {
   "cell_type": "code",
   "execution_count": 9,
   "id": "thousand-acquisition",
   "metadata": {
    "execution": {
     "iopub.execute_input": "2021-01-30T00:08:15.403458Z",
     "iopub.status.busy": "2021-01-30T00:08:15.402972Z",
     "iopub.status.idle": "2021-01-30T00:08:15.420188Z",
     "shell.execute_reply": "2021-01-30T00:08:15.419682Z"
    },
    "papermill": {
     "duration": 0.047604,
     "end_time": "2021-01-30T00:08:15.420319",
     "exception": false,
     "start_time": "2021-01-30T00:08:15.372715",
     "status": "completed"
    },
    "tags": []
   },
   "outputs": [],
   "source": [
    "train_filter = np.where((train_labels == 3 ) | (train_labels == 8))\n",
    "test_filter = np.where((test_labels == 3) | (test_labels == 8))\n",
    "X_train, y_train = train_images[train_filter], train_labels[train_filter]\n",
    "X_test, y_test = test_images[test_filter], test_labels[test_filter]"
   ]
  },
  {
   "cell_type": "markdown",
   "id": "ruled-access",
   "metadata": {
    "papermill": {
     "duration": 0.027008,
     "end_time": "2021-01-30T00:08:15.473609",
     "exception": false,
     "start_time": "2021-01-30T00:08:15.446601",
     "status": "completed"
    },
    "tags": []
   },
   "source": [
    "We normalize the pixel values in the 0 to 1 range"
   ]
  },
  {
   "cell_type": "code",
   "execution_count": 10,
   "id": "isolated-denver",
   "metadata": {
    "execution": {
     "iopub.execute_input": "2021-01-30T00:08:15.538600Z",
     "iopub.status.busy": "2021-01-30T00:08:15.538027Z",
     "iopub.status.idle": "2021-01-30T00:08:15.589415Z",
     "shell.execute_reply": "2021-01-30T00:08:15.588915Z"
    },
    "papermill": {
     "duration": 0.0868,
     "end_time": "2021-01-30T00:08:15.589575",
     "exception": false,
     "start_time": "2021-01-30T00:08:15.502775",
     "status": "completed"
    },
    "tags": []
   },
   "outputs": [],
   "source": [
    "X_train = X_train/255.\n",
    "X_test = X_test/255."
   ]
  },
  {
   "cell_type": "markdown",
   "id": "perfect-summary",
   "metadata": {
    "papermill": {
     "duration": 0.033031,
     "end_time": "2021-01-30T00:08:15.654915",
     "exception": false,
     "start_time": "2021-01-30T00:08:15.621884",
     "status": "completed"
    },
    "tags": []
   },
   "source": [
    "Setup the labels as 1 (when the digit is 3) and 0 (when the digit is 8)"
   ]
  },
  {
   "cell_type": "code",
   "execution_count": 11,
   "id": "personalized-growing",
   "metadata": {
    "execution": {
     "iopub.execute_input": "2021-01-30T00:08:15.719849Z",
     "iopub.status.busy": "2021-01-30T00:08:15.719237Z",
     "iopub.status.idle": "2021-01-30T00:08:15.733607Z",
     "shell.execute_reply": "2021-01-30T00:08:15.733081Z"
    },
    "papermill": {
     "duration": 0.049076,
     "end_time": "2021-01-30T00:08:15.733740",
     "exception": false,
     "start_time": "2021-01-30T00:08:15.684664",
     "status": "completed"
    },
    "tags": []
   },
   "outputs": [],
   "source": [
    "y_train = 1*(y_train==3)\n",
    "y_test = 1*(y_test==3)"
   ]
  },
  {
   "cell_type": "code",
   "execution_count": 12,
   "id": "considered-virgin",
   "metadata": {
    "execution": {
     "iopub.execute_input": "2021-01-30T00:08:15.803657Z",
     "iopub.status.busy": "2021-01-30T00:08:15.803117Z",
     "iopub.status.idle": "2021-01-30T00:08:15.818549Z",
     "shell.execute_reply": "2021-01-30T00:08:15.818086Z"
    },
    "papermill": {
     "duration": 0.051566,
     "end_time": "2021-01-30T00:08:15.818674",
     "exception": false,
     "start_time": "2021-01-30T00:08:15.767108",
     "status": "completed"
    },
    "tags": []
   },
   "outputs": [
    {
     "data": {
      "text/plain": [
       "((11982, 28, 28), (1984, 28, 28))"
      ]
     },
     "execution_count": 12,
     "metadata": {},
     "output_type": "execute_result"
    }
   ],
   "source": [
    "X_train.shape, X_test.shape"
   ]
  },
  {
   "cell_type": "markdown",
   "id": "civilian-mobile",
   "metadata": {
    "papermill": {
     "duration": 0.028856,
     "end_time": "2021-01-30T00:08:15.875089",
     "exception": false,
     "start_time": "2021-01-30T00:08:15.846233",
     "status": "completed"
    },
    "tags": []
   },
   "source": [
    "### Reshape the input data to create a linear array"
   ]
  },
  {
   "cell_type": "code",
   "execution_count": 13,
   "id": "colonial-adams",
   "metadata": {
    "execution": {
     "iopub.execute_input": "2021-01-30T00:08:15.935629Z",
     "iopub.status.busy": "2021-01-30T00:08:15.934474Z",
     "iopub.status.idle": "2021-01-30T00:08:15.950719Z",
     "shell.execute_reply": "2021-01-30T00:08:15.950287Z"
    },
    "papermill": {
     "duration": 0.049546,
     "end_time": "2021-01-30T00:08:15.950975",
     "exception": false,
     "start_time": "2021-01-30T00:08:15.901429",
     "status": "completed"
    },
    "tags": []
   },
   "outputs": [
    {
     "data": {
      "text/plain": [
       "((11982, 784), (1984, 784))"
      ]
     },
     "execution_count": 13,
     "metadata": {},
     "output_type": "execute_result"
    }
   ],
   "source": [
    "X_train = X_train.reshape(X_train.shape[0], -1)\n",
    "X_test = X_test.reshape(X_test.shape[0], -1)\n",
    "X_train.shape, X_test.shape"
   ]
  },
  {
   "cell_type": "markdown",
   "id": "smart-details",
   "metadata": {
    "papermill": {
     "duration": 0.027466,
     "end_time": "2021-01-30T00:08:16.005093",
     "exception": false,
     "start_time": "2021-01-30T00:08:15.977627",
     "status": "completed"
    },
    "tags": []
   },
   "source": [
    "### Importing appropriate functions from 'Kudzu'"
   ]
  },
  {
   "cell_type": "code",
   "execution_count": 14,
   "id": "celtic-trial",
   "metadata": {
    "execution": {
     "iopub.execute_input": "2021-01-30T00:08:16.062742Z",
     "iopub.status.busy": "2021-01-30T00:08:16.062147Z",
     "iopub.status.idle": "2021-01-30T00:08:16.080529Z",
     "shell.execute_reply": "2021-01-30T00:08:16.080061Z"
    },
    "papermill": {
     "duration": 0.04914,
     "end_time": "2021-01-30T00:08:16.080650",
     "exception": false,
     "start_time": "2021-01-30T00:08:16.031510",
     "status": "completed"
    },
    "tags": []
   },
   "outputs": [],
   "source": [
    "from kudzu.layer import Sigmoid\n",
    "from kudzu.layer import Relu\n",
    "from kudzu.layer import Affine, Sigmoid\n",
    "\n",
    "from kudzu.model import Model\n",
    "from kudzu.train import Learner\n",
    "from kudzu.optim import GD\n",
    "from kudzu.data import Data, Dataloader, Sampler\n",
    "\n",
    "from kudzu.callbacks import AccCallback\n",
    "from kudzu.callbacks import ClfCallback\n",
    "\n",
    "from kudzu.loss import MSE"
   ]
  },
  {
   "cell_type": "markdown",
   "id": "coupled-customer",
   "metadata": {
    "papermill": {
     "duration": 0.02869,
     "end_time": "2021-01-30T00:08:16.135528",
     "exception": false,
     "start_time": "2021-01-30T00:08:16.106838",
     "status": "completed"
    },
    "tags": []
   },
   "source": [
    "### Let us create a `Config` class, to store important parameters. \n",
    "This class essentially plays the role of a dictionary."
   ]
  },
  {
   "cell_type": "code",
   "execution_count": 15,
   "id": "young-ceiling",
   "metadata": {
    "execution": {
     "iopub.execute_input": "2021-01-30T00:08:16.196246Z",
     "iopub.status.busy": "2021-01-30T00:08:16.195695Z",
     "iopub.status.idle": "2021-01-30T00:08:16.211680Z",
     "shell.execute_reply": "2021-01-30T00:08:16.210808Z"
    },
    "papermill": {
     "duration": 0.048504,
     "end_time": "2021-01-30T00:08:16.211787",
     "exception": false,
     "start_time": "2021-01-30T00:08:16.163283",
     "status": "completed"
    },
    "tags": []
   },
   "outputs": [],
   "source": [
    "class Config:\n",
    "    pass\n",
    "config = Config()\n",
    "config.lr = 0.001\n",
    "config.num_epochs = 251\n",
    "config.bs = 50"
   ]
  },
  {
   "cell_type": "markdown",
   "id": "according-mandate",
   "metadata": {
    "papermill": {
     "duration": 0.038314,
     "end_time": "2021-01-30T00:08:16.280201",
     "exception": false,
     "start_time": "2021-01-30T00:08:16.241887",
     "status": "completed"
    },
    "tags": []
   },
   "source": [
    "### Initializing data to the variables"
   ]
  },
  {
   "cell_type": "code",
   "execution_count": 16,
   "id": "academic-disposition",
   "metadata": {
    "execution": {
     "iopub.execute_input": "2021-01-30T00:08:16.349095Z",
     "iopub.status.busy": "2021-01-30T00:08:16.348091Z",
     "iopub.status.idle": "2021-01-30T00:08:16.360896Z",
     "shell.execute_reply": "2021-01-30T00:08:16.360396Z"
    },
    "papermill": {
     "duration": 0.049481,
     "end_time": "2021-01-30T00:08:16.361036",
     "exception": false,
     "start_time": "2021-01-30T00:08:16.311555",
     "status": "completed"
    },
    "tags": []
   },
   "outputs": [],
   "source": [
    "data = Data(X_train, y_train.reshape(-1,1))\n",
    "sampler = Sampler(data, config.bs, shuffle=True)\n",
    "\n",
    "dl = Dataloader(data, sampler)\n",
    "\n",
    "opt = GD(config.lr)\n",
    "loss = MSE()"
   ]
  },
  {
   "cell_type": "code",
   "execution_count": 17,
   "id": "featured-commission",
   "metadata": {
    "execution": {
     "iopub.execute_input": "2021-01-30T00:08:16.424187Z",
     "iopub.status.busy": "2021-01-30T00:08:16.423164Z",
     "iopub.status.idle": "2021-01-30T00:08:16.438717Z",
     "shell.execute_reply": "2021-01-30T00:08:16.439190Z"
    },
    "papermill": {
     "duration": 0.049368,
     "end_time": "2021-01-30T00:08:16.439319",
     "exception": false,
     "start_time": "2021-01-30T00:08:16.389951",
     "status": "completed"
    },
    "tags": []
   },
   "outputs": [],
   "source": [
    "training_xdata = X_train\n",
    "testing_xdata = X_test\n",
    "training_ydata = y_train.reshape(-1,1)\n",
    "testing_ydata = y_test.reshape(-1,1)"
   ]
  },
  {
   "cell_type": "markdown",
   "id": "played-safety",
   "metadata": {
    "papermill": {
     "duration": 0.028803,
     "end_time": "2021-01-30T00:08:16.495234",
     "exception": false,
     "start_time": "2021-01-30T00:08:16.466431",
     "status": "completed"
    },
    "tags": []
   },
   "source": [
    "### Running Models with the Training data\n",
    "Details about the network layers:\n",
    "- A first affine layer has 784 inputs and does 100 affine transforms. These are followed by a Relu\n",
    "- A second affine layer has 100 inputs from the 100 activations of the past layer, and does 100 affine transforms. These are followed by a Relu\n",
    "- A third affine layer has 100 activations and does 2 affine transformations to create an embedding for visualization. There is no non-linearity here.\n",
    "- A final \"logistic regression\" which has an affine transform from 2 inputs to 1 output, which is squeezed through a sigmoid.\n",
    "\n",
    "Help taken from Anshuman's Notebook."
   ]
  },
  {
   "cell_type": "code",
   "execution_count": 18,
   "id": "asian-bankruptcy",
   "metadata": {
    "execution": {
     "iopub.execute_input": "2021-01-30T00:08:16.555982Z",
     "iopub.status.busy": "2021-01-30T00:08:16.555391Z",
     "iopub.status.idle": "2021-01-30T00:08:16.572745Z",
     "shell.execute_reply": "2021-01-30T00:08:16.573228Z"
    },
    "papermill": {
     "duration": 0.049405,
     "end_time": "2021-01-30T00:08:16.573368",
     "exception": false,
     "start_time": "2021-01-30T00:08:16.523963",
     "status": "completed"
    },
    "tags": []
   },
   "outputs": [],
   "source": [
    "# layers for the Neural Network\n",
    "layers = [Affine(\"first\", 784, 100), Relu(\"first\"), Affine(\"second\", 100, 100), Relu(\"second\"), Affine(\"third\", 100, 2), Affine(\"final\", 2, 1), Sigmoid(\"final\")]\n",
    "model_nn = Model(layers)\n",
    "\n",
    "# layers for the Logistic Regression\n",
    "layers_lr = [Affine(\"logits\", 784, 1), Sigmoid(\"sigmoid\")]\n",
    "model_lr = Model(layers_lr)"
   ]
  },
  {
   "cell_type": "code",
   "execution_count": 19,
   "id": "removed-butler",
   "metadata": {
    "execution": {
     "iopub.execute_input": "2021-01-30T00:08:16.637852Z",
     "iopub.status.busy": "2021-01-30T00:08:16.637330Z",
     "iopub.status.idle": "2021-01-30T00:08:16.651057Z",
     "shell.execute_reply": "2021-01-30T00:08:16.651536Z"
    },
    "papermill": {
     "duration": 0.047988,
     "end_time": "2021-01-30T00:08:16.651673",
     "exception": false,
     "start_time": "2021-01-30T00:08:16.603685",
     "status": "completed"
    },
    "tags": []
   },
   "outputs": [],
   "source": [
    "# suffix _nn stands for Neural Network.\n",
    "learner_nn = Learner(loss, model_nn, opt, config.num_epochs)\n",
    "acc_nn = ClfCallback(learner_nn, config.bs, training_xdata , testing_xdata, training_ydata, testing_ydata)\n",
    "learner_nn.set_callbacks([acc_nn])"
   ]
  },
  {
   "cell_type": "code",
   "execution_count": 20,
   "id": "conceptual-throw",
   "metadata": {
    "execution": {
     "iopub.execute_input": "2021-01-30T00:08:16.710727Z",
     "iopub.status.busy": "2021-01-30T00:08:16.710241Z",
     "iopub.status.idle": "2021-01-30T00:09:37.478355Z",
     "shell.execute_reply": "2021-01-30T00:09:37.477930Z"
    },
    "papermill": {
     "duration": 80.79911,
     "end_time": "2021-01-30T00:09:37.478471",
     "exception": false,
     "start_time": "2021-01-30T00:08:16.679361",
     "status": "completed"
    },
    "tags": []
   },
   "outputs": [
    {
     "name": "stdout",
     "output_type": "stream",
     "text": [
      "====== Neural Network ======\n"
     ]
    },
    {
     "name": "stdout",
     "output_type": "stream",
     "text": [
      "Epoch 0, Loss 0.2436\n",
      "Training Accuracy: 0.6973, Testing Accuracy: 0.7167\n",
      "\n"
     ]
    },
    {
     "name": "stdout",
     "output_type": "stream",
     "text": [
      "Epoch 10, Loss 0.0888\n",
      "Training Accuracy: 0.9186, Testing Accuracy: 0.9360\n",
      "\n"
     ]
    },
    {
     "name": "stdout",
     "output_type": "stream",
     "text": [
      "Epoch 20, Loss 0.0552\n",
      "Training Accuracy: 0.9432, Testing Accuracy: 0.9526\n",
      "\n"
     ]
    },
    {
     "name": "stdout",
     "output_type": "stream",
     "text": [
      "Epoch 30, Loss 0.0435\n",
      "Training Accuracy: 0.9531, Testing Accuracy: 0.9607\n",
      "\n"
     ]
    },
    {
     "name": "stdout",
     "output_type": "stream",
     "text": [
      "Epoch 40, Loss 0.0378\n",
      "Training Accuracy: 0.9574, Testing Accuracy: 0.9642\n",
      "\n"
     ]
    },
    {
     "name": "stdout",
     "output_type": "stream",
     "text": [
      "Epoch 50, Loss 0.0342\n",
      "Training Accuracy: 0.9604, Testing Accuracy: 0.9667\n",
      "\n"
     ]
    },
    {
     "name": "stdout",
     "output_type": "stream",
     "text": [
      "Epoch 60, Loss 0.0318\n",
      "Training Accuracy: 0.9635, Testing Accuracy: 0.9688\n",
      "\n"
     ]
    },
    {
     "name": "stdout",
     "output_type": "stream",
     "text": [
      "Epoch 70, Loss 0.03\n",
      "Training Accuracy: 0.9654, Testing Accuracy: 0.9698\n",
      "\n"
     ]
    },
    {
     "name": "stdout",
     "output_type": "stream",
     "text": [
      "Epoch 80, Loss 0.0285\n",
      "Training Accuracy: 0.9670, Testing Accuracy: 0.9733\n",
      "\n"
     ]
    },
    {
     "name": "stdout",
     "output_type": "stream",
     "text": [
      "Epoch 90, Loss 0.0273\n",
      "Training Accuracy: 0.9683, Testing Accuracy: 0.9728\n",
      "\n"
     ]
    },
    {
     "name": "stdout",
     "output_type": "stream",
     "text": [
      "Epoch 100, Loss 0.0263\n",
      "Training Accuracy: 0.9691, Testing Accuracy: 0.9728\n",
      "\n"
     ]
    },
    {
     "name": "stdout",
     "output_type": "stream",
     "text": [
      "Epoch 110, Loss 0.0254\n",
      "Training Accuracy: 0.9703, Testing Accuracy: 0.9733\n",
      "\n"
     ]
    },
    {
     "name": "stdout",
     "output_type": "stream",
     "text": [
      "Epoch 120, Loss 0.0245\n",
      "Training Accuracy: 0.9707, Testing Accuracy: 0.9733\n",
      "\n"
     ]
    },
    {
     "name": "stdout",
     "output_type": "stream",
     "text": [
      "Epoch 130, Loss 0.0238\n",
      "Training Accuracy: 0.9719, Testing Accuracy: 0.9723\n",
      "\n"
     ]
    },
    {
     "name": "stdout",
     "output_type": "stream",
     "text": [
      "Epoch 140, Loss 0.0231\n",
      "Training Accuracy: 0.9730, Testing Accuracy: 0.9733\n",
      "\n"
     ]
    },
    {
     "name": "stdout",
     "output_type": "stream",
     "text": [
      "Epoch 150, Loss 0.0225\n",
      "Training Accuracy: 0.9736, Testing Accuracy: 0.9738\n",
      "\n"
     ]
    },
    {
     "name": "stdout",
     "output_type": "stream",
     "text": [
      "Epoch 160, Loss 0.022\n",
      "Training Accuracy: 0.9748, Testing Accuracy: 0.9743\n",
      "\n"
     ]
    },
    {
     "name": "stdout",
     "output_type": "stream",
     "text": [
      "Epoch 170, Loss 0.0214\n",
      "Training Accuracy: 0.9754, Testing Accuracy: 0.9748\n",
      "\n"
     ]
    },
    {
     "name": "stdout",
     "output_type": "stream",
     "text": [
      "Epoch 180, Loss 0.021\n",
      "Training Accuracy: 0.9762, Testing Accuracy: 0.9753\n",
      "\n"
     ]
    },
    {
     "name": "stdout",
     "output_type": "stream",
     "text": [
      "Epoch 190, Loss 0.0205\n",
      "Training Accuracy: 0.9766, Testing Accuracy: 0.9758\n",
      "\n"
     ]
    },
    {
     "name": "stdout",
     "output_type": "stream",
     "text": [
      "Epoch 200, Loss 0.0201\n",
      "Training Accuracy: 0.9776, Testing Accuracy: 0.9758\n",
      "\n"
     ]
    },
    {
     "name": "stdout",
     "output_type": "stream",
     "text": [
      "Epoch 210, Loss 0.0196\n",
      "Training Accuracy: 0.9786, Testing Accuracy: 0.9763\n",
      "\n"
     ]
    },
    {
     "name": "stdout",
     "output_type": "stream",
     "text": [
      "Epoch 220, Loss 0.0192\n",
      "Training Accuracy: 0.9793, Testing Accuracy: 0.9758\n",
      "\n"
     ]
    },
    {
     "name": "stdout",
     "output_type": "stream",
     "text": [
      "Epoch 230, Loss 0.0188\n",
      "Training Accuracy: 0.9793, Testing Accuracy: 0.9748\n",
      "\n"
     ]
    },
    {
     "name": "stdout",
     "output_type": "stream",
     "text": [
      "Epoch 240, Loss 0.0185\n",
      "Training Accuracy: 0.9797, Testing Accuracy: 0.9763\n",
      "\n"
     ]
    },
    {
     "name": "stdout",
     "output_type": "stream",
     "text": [
      "Epoch 250, Loss 0.0181\n",
      "Training Accuracy: 0.9803, Testing Accuracy: 0.9763\n",
      "\n"
     ]
    },
    {
     "data": {
      "text/plain": [
       "0.017411661901033153"
      ]
     },
     "execution_count": 20,
     "metadata": {},
     "output_type": "execute_result"
    }
   ],
   "source": [
    "print(\"====== Neural Network ======\")\n",
    "learner_nn.train_loop(dl)"
   ]
  },
  {
   "cell_type": "markdown",
   "id": "competent-suffering",
   "metadata": {
    "papermill": {
     "duration": 0.036837,
     "end_time": "2021-01-30T00:09:37.552525",
     "exception": false,
     "start_time": "2021-01-30T00:09:37.515688",
     "status": "completed"
    },
    "tags": []
   },
   "source": [
    "### Logistic Regression based Implementation."
   ]
  },
  {
   "cell_type": "code",
   "execution_count": 21,
   "id": "qualified-psychiatry",
   "metadata": {
    "execution": {
     "iopub.execute_input": "2021-01-30T00:09:37.632794Z",
     "iopub.status.busy": "2021-01-30T00:09:37.632177Z",
     "iopub.status.idle": "2021-01-30T00:09:37.642320Z",
     "shell.execute_reply": "2021-01-30T00:09:37.642767Z"
    },
    "papermill": {
     "duration": 0.053988,
     "end_time": "2021-01-30T00:09:37.642918",
     "exception": false,
     "start_time": "2021-01-30T00:09:37.588930",
     "status": "completed"
    },
    "tags": []
   },
   "outputs": [],
   "source": [
    "learner_lr = Learner(loss, model_lr, opt, config.num_epochs)\n",
    "acc_lr = ClfCallback(learner_lr, config.bs, training_xdata , testing_xdata, training_ydata, testing_ydata)\n",
    "learner_lr.set_callbacks([acc_lr])"
   ]
  },
  {
   "cell_type": "code",
   "execution_count": 22,
   "id": "average-outside",
   "metadata": {
    "execution": {
     "iopub.execute_input": "2021-01-30T00:09:37.715446Z",
     "iopub.status.busy": "2021-01-30T00:09:37.714967Z",
     "iopub.status.idle": "2021-01-30T00:09:51.868129Z",
     "shell.execute_reply": "2021-01-30T00:09:51.868811Z"
    },
    "papermill": {
     "duration": 14.190032,
     "end_time": "2021-01-30T00:09:51.868954",
     "exception": false,
     "start_time": "2021-01-30T00:09:37.678922",
     "status": "completed"
    },
    "tags": []
   },
   "outputs": [
    {
     "name": "stdout",
     "output_type": "stream",
     "text": [
      "====== Logistic Regression ======\n",
      "Epoch 0, Loss 0.2439\n",
      "Training Accuracy: 0.6738, Testing Accuracy: 0.6689\n",
      "\n"
     ]
    },
    {
     "name": "stdout",
     "output_type": "stream",
     "text": [
      "Epoch 10, Loss 0.1049\n",
      "Training Accuracy: 0.9014, Testing Accuracy: 0.9098\n",
      "\n"
     ]
    },
    {
     "name": "stdout",
     "output_type": "stream",
     "text": [
      "Epoch 20, Loss 0.0806\n",
      "Training Accuracy: 0.9243, Testing Accuracy: 0.9320\n",
      "\n"
     ]
    },
    {
     "name": "stdout",
     "output_type": "stream",
     "text": [
      "Epoch 30, Loss 0.0693\n",
      "Training Accuracy: 0.9340, Testing Accuracy: 0.9446\n",
      "\n"
     ]
    },
    {
     "name": "stdout",
     "output_type": "stream",
     "text": [
      "Epoch 40, Loss 0.0624\n",
      "Training Accuracy: 0.9397, Testing Accuracy: 0.9506\n",
      "\n"
     ]
    },
    {
     "name": "stdout",
     "output_type": "stream",
     "text": [
      "Epoch 50, Loss 0.0577\n",
      "Training Accuracy: 0.9421, Testing Accuracy: 0.9546\n",
      "\n"
     ]
    },
    {
     "name": "stdout",
     "output_type": "stream",
     "text": [
      "Epoch 60, Loss 0.0543\n",
      "Training Accuracy: 0.9456, Testing Accuracy: 0.9567\n",
      "\n"
     ]
    },
    {
     "name": "stdout",
     "output_type": "stream",
     "text": [
      "Epoch 70, Loss 0.0516\n",
      "Training Accuracy: 0.9475, Testing Accuracy: 0.9567\n",
      "\n"
     ]
    },
    {
     "name": "stdout",
     "output_type": "stream",
     "text": [
      "Epoch 80, Loss 0.0495\n",
      "Training Accuracy: 0.9494, Testing Accuracy: 0.9572\n",
      "\n"
     ]
    },
    {
     "name": "stdout",
     "output_type": "stream",
     "text": [
      "Epoch 90, Loss 0.0477\n",
      "Training Accuracy: 0.9513, Testing Accuracy: 0.9567\n",
      "\n"
     ]
    },
    {
     "name": "stdout",
     "output_type": "stream",
     "text": [
      "Epoch 100, Loss 0.0463\n",
      "Training Accuracy: 0.9526, Testing Accuracy: 0.9592\n",
      "\n"
     ]
    },
    {
     "name": "stdout",
     "output_type": "stream",
     "text": [
      "Epoch 110, Loss 0.045\n",
      "Training Accuracy: 0.9542, Testing Accuracy: 0.9607\n",
      "\n"
     ]
    },
    {
     "name": "stdout",
     "output_type": "stream",
     "text": [
      "Epoch 120, Loss 0.0439\n",
      "Training Accuracy: 0.9549, Testing Accuracy: 0.9617\n",
      "\n"
     ]
    },
    {
     "name": "stdout",
     "output_type": "stream",
     "text": [
      "Epoch 130, Loss 0.043\n",
      "Training Accuracy: 0.9557, Testing Accuracy: 0.9627\n",
      "\n"
     ]
    },
    {
     "name": "stdout",
     "output_type": "stream",
     "text": [
      "Epoch 140, Loss 0.0421\n",
      "Training Accuracy: 0.9566, Testing Accuracy: 0.9642\n",
      "\n"
     ]
    },
    {
     "name": "stdout",
     "output_type": "stream",
     "text": [
      "Epoch 150, Loss 0.0414\n",
      "Training Accuracy: 0.9575, Testing Accuracy: 0.9647\n",
      "\n"
     ]
    },
    {
     "name": "stdout",
     "output_type": "stream",
     "text": [
      "Epoch 160, Loss 0.0407\n",
      "Training Accuracy: 0.9580, Testing Accuracy: 0.9657\n",
      "\n"
     ]
    },
    {
     "name": "stdout",
     "output_type": "stream",
     "text": [
      "Epoch 170, Loss 0.04\n",
      "Training Accuracy: 0.9587, Testing Accuracy: 0.9657\n",
      "\n"
     ]
    },
    {
     "name": "stdout",
     "output_type": "stream",
     "text": [
      "Epoch 180, Loss 0.0395\n",
      "Training Accuracy: 0.9593, Testing Accuracy: 0.9667\n",
      "\n"
     ]
    },
    {
     "name": "stdout",
     "output_type": "stream",
     "text": [
      "Epoch 190, Loss 0.0389\n",
      "Training Accuracy: 0.9596, Testing Accuracy: 0.9667\n",
      "\n"
     ]
    },
    {
     "name": "stdout",
     "output_type": "stream",
     "text": [
      "Epoch 200, Loss 0.0385\n",
      "Training Accuracy: 0.9599, Testing Accuracy: 0.9672\n",
      "\n"
     ]
    },
    {
     "name": "stdout",
     "output_type": "stream",
     "text": [
      "Epoch 210, Loss 0.038\n",
      "Training Accuracy: 0.9599, Testing Accuracy: 0.9667\n",
      "\n"
     ]
    },
    {
     "name": "stdout",
     "output_type": "stream",
     "text": [
      "Epoch 220, Loss 0.0376\n",
      "Training Accuracy: 0.9604, Testing Accuracy: 0.9667\n",
      "\n"
     ]
    },
    {
     "name": "stdout",
     "output_type": "stream",
     "text": [
      "Epoch 230, Loss 0.0372\n",
      "Training Accuracy: 0.9607, Testing Accuracy: 0.9667\n",
      "\n"
     ]
    },
    {
     "name": "stdout",
     "output_type": "stream",
     "text": [
      "Epoch 240, Loss 0.0368\n",
      "Training Accuracy: 0.9609, Testing Accuracy: 0.9667\n",
      "\n"
     ]
    },
    {
     "name": "stdout",
     "output_type": "stream",
     "text": [
      "Epoch 250, Loss 0.0365\n",
      "Training Accuracy: 0.9612, Testing Accuracy: 0.9667\n",
      "\n"
     ]
    },
    {
     "data": {
      "text/plain": [
       "0.027114144663280486"
      ]
     },
     "execution_count": 22,
     "metadata": {},
     "output_type": "execute_result"
    }
   ],
   "source": [
    "print(\"====== Logistic Regression ======\")\n",
    "learner_lr.train_loop(dl)"
   ]
  },
  {
   "cell_type": "markdown",
   "id": "adjusted-possible",
   "metadata": {
    "papermill": {
     "duration": 0.042075,
     "end_time": "2021-01-30T00:09:51.953235",
     "exception": false,
     "start_time": "2021-01-30T00:09:51.911160",
     "status": "completed"
    },
    "tags": []
   },
   "source": [
    "### Comparing results of NN and LR"
   ]
  },
  {
   "cell_type": "code",
   "execution_count": 23,
   "id": "mental-multimedia",
   "metadata": {
    "execution": {
     "iopub.execute_input": "2021-01-30T00:09:52.045999Z",
     "iopub.status.busy": "2021-01-30T00:09:52.044899Z",
     "iopub.status.idle": "2021-01-30T00:09:52.253151Z",
     "shell.execute_reply": "2021-01-30T00:09:52.252629Z"
    },
    "papermill": {
     "duration": 0.257537,
     "end_time": "2021-01-30T00:09:52.253289",
     "exception": false,
     "start_time": "2021-01-30T00:09:51.995752",
     "status": "completed"
    },
    "tags": []
   },
   "outputs": [
    {
     "data": {
      "text/plain": [
       "<matplotlib.legend.Legend at 0x7f132f0797f0>"
      ]
     },
     "execution_count": 23,
     "metadata": {},
     "output_type": "execute_result"
    },
    {
     "data": {
      "image/png": "[encoded data removed]",
      "text/plain": [
       "<Figure size 1080x720 with 1 Axes>"
      ]
     },
     "metadata": {
      "needs_background": "light"
     },
     "output_type": "display_data"
    }
   ],
   "source": [
    "plt.figure(figsize=(15,10))\n",
    "\n",
    "# Neural Network plots\n",
    "plt.plot(acc_nn.accuracies, 'r-', label = \"Training Accuracies - NN\")\n",
    "plt.plot(acc_nn.test_accuracies, 'g-', label = \"Testing Accuracies - NN\")\n",
    "\n",
    "# Logistic Regression plots\n",
    "plt.plot(acc_lr.accuracies, 'k-', label = \"Training Accuracies - LR\")\n",
    "plt.plot(acc_lr.test_accuracies, 'b-', label = \"Testing Accuracies - LR\")\n",
    "\n",
    "plt.ylim(0.8, 1)\n",
    "\n",
    "plt.legend()\n",
    "\n"
   ]
  },
  {
   "cell_type": "markdown",
   "id": "sexual-flesh",
   "metadata": {
    "papermill": {
     "duration": 0.044756,
     "end_time": "2021-01-30T00:09:52.339885",
     "exception": false,
     "start_time": "2021-01-30T00:09:52.295129",
     "status": "completed"
    },
    "tags": []
   },
   "source": [
    "### From the plot, we can observe the following:\n",
    "- Neural Network achieves higher accuracy than the Logistic Regression model.\n",
    "- This apparently, is because of overfitting, i.e. NN captures more noise than data.\n",
    "- Testing accuracy of NN drops below the Training accuracy at higher epochs. This explains the over-fitting on training data.\n",
    "- Logistic Regression gives a reliable accuracy, without the above mentioned problem.\n"
   ]
  },
  {
   "cell_type": "markdown",
   "id": "institutional-pacific",
   "metadata": {
    "papermill": {
     "duration": 0.04338,
     "end_time": "2021-01-30T00:09:52.427279",
     "exception": false,
     "start_time": "2021-01-30T00:09:52.383899",
     "status": "completed"
    },
    "tags": []
   },
   "source": [
    "### Moving till the last but one layer (excluding it).\n",
    "#### Plotting the outputs of this layer of the NN."
   ]
  },
  {
   "cell_type": "code",
   "execution_count": 24,
   "id": "economic-server",
   "metadata": {
    "execution": {
     "iopub.execute_input": "2021-01-30T00:09:52.518735Z",
     "iopub.status.busy": "2021-01-30T00:09:52.518135Z",
     "iopub.status.idle": "2021-01-30T00:09:52.531847Z",
     "shell.execute_reply": "2021-01-30T00:09:52.531372Z"
    },
    "papermill": {
     "duration": 0.062965,
     "end_time": "2021-01-30T00:09:52.531964",
     "exception": false,
     "start_time": "2021-01-30T00:09:52.468999",
     "status": "completed"
    },
    "tags": []
   },
   "outputs": [],
   "source": [
    "model_new = Model(layers[:-2])"
   ]
  },
  {
   "cell_type": "code",
   "execution_count": 25,
   "id": "varied-upgrade",
   "metadata": {
    "execution": {
     "iopub.execute_input": "2021-01-30T00:09:52.618464Z",
     "iopub.status.busy": "2021-01-30T00:09:52.617983Z",
     "iopub.status.idle": "2021-01-30T00:09:52.640550Z",
     "shell.execute_reply": "2021-01-30T00:09:52.641001Z"
    },
    "papermill": {
     "duration": 0.066911,
     "end_time": "2021-01-30T00:09:52.641176",
     "exception": false,
     "start_time": "2021-01-30T00:09:52.574265",
     "status": "completed"
    },
    "tags": []
   },
   "outputs": [],
   "source": [
    "plot_testing = model_new(testing_xdata)"
   ]
  },
  {
   "cell_type": "code",
   "execution_count": 26,
   "id": "specific-handling",
   "metadata": {
    "execution": {
     "iopub.execute_input": "2021-01-30T00:09:52.739061Z",
     "iopub.status.busy": "2021-01-30T00:09:52.738434Z",
     "iopub.status.idle": "2021-01-30T00:09:52.921620Z",
     "shell.execute_reply": "2021-01-30T00:09:52.922083Z"
    },
    "papermill": {
     "duration": 0.23638,
     "end_time": "2021-01-30T00:09:52.922232",
     "exception": false,
     "start_time": "2021-01-30T00:09:52.685852",
     "status": "completed"
    },
    "tags": []
   },
   "outputs": [
    {
     "data": {
      "text/plain": [
       "Text(0.5, 1.0, 'Outputs')"
      ]
     },
     "execution_count": 26,
     "metadata": {},
     "output_type": "execute_result"
    },
    {
     "data": {
      "image/png": "[encoded data removed]",
      "text/plain": [
       "<Figure size 576x504 with 1 Axes>"
      ]
     },
     "metadata": {
      "needs_background": "light"
     },
     "output_type": "display_data"
    }
   ],
   "source": [
    "plt.figure(figsize=(8,7))\n",
    "plt.scatter(plot_testing[:,0], plot_testing[:,1], alpha = 0.1, c = y_test.ravel());\n",
    "plt.title('Outputs')"
   ]
  },
  {
   "cell_type": "markdown",
   "id": "described-knowing",
   "metadata": {
    "papermill": {
     "duration": 0.044067,
     "end_time": "2021-01-30T00:09:53.014761",
     "exception": false,
     "start_time": "2021-01-30T00:09:52.970694",
     "status": "completed"
    },
    "tags": []
   },
   "source": [
    "### Plotting probability contours"
   ]
  },
  {
   "cell_type": "code",
   "execution_count": 27,
   "id": "needed-growing",
   "metadata": {
    "execution": {
     "iopub.execute_input": "2021-01-30T00:09:53.110700Z",
     "iopub.status.busy": "2021-01-30T00:09:53.110130Z",
     "iopub.status.idle": "2021-01-30T00:09:53.122609Z",
     "shell.execute_reply": "2021-01-30T00:09:53.122218Z"
    },
    "papermill": {
     "duration": 0.063632,
     "end_time": "2021-01-30T00:09:53.122718",
     "exception": false,
     "start_time": "2021-01-30T00:09:53.059086",
     "status": "completed"
    },
    "tags": []
   },
   "outputs": [],
   "source": [
    "model_prob = Model(layers[-2:]) "
   ]
  },
  {
   "cell_type": "code",
   "execution_count": 28,
   "id": "introductory-enforcement",
   "metadata": {
    "execution": {
     "iopub.execute_input": "2021-01-30T00:09:53.218475Z",
     "iopub.status.busy": "2021-01-30T00:09:53.217866Z",
     "iopub.status.idle": "2021-01-30T00:09:53.233152Z",
     "shell.execute_reply": "2021-01-30T00:09:53.233618Z"
    },
    "papermill": {
     "duration": 0.065342,
     "end_time": "2021-01-30T00:09:53.233762",
     "exception": false,
     "start_time": "2021-01-30T00:09:53.168420",
     "status": "completed"
    },
    "tags": []
   },
   "outputs": [],
   "source": [
    "# Adjust the x and y ranges according to the above generated plot.\n",
    "x_range = np.linspace(-4, 1, 100) \n",
    "y_range = np.linspace(-6, 6, 100) \n",
    "x_grid, y_grid = np.meshgrid(x_range, y_range) # x_grid and y_grig are of size 100 X 100\n",
    "\n",
    "# converting x_grid and y_grid to continuous arrays\n",
    "x_grid_flat = np.ravel(x_grid)\n",
    "y_grid_flat = np.ravel(y_grid)\n",
    "\n",
    "# The last layer of the current model takes two columns as input. Hence transpose of np.vstack() is required.\n",
    "X = np.vstack((x_grid_flat, y_grid_flat)).T\n",
    "\n",
    "# x_grid and y_grid are of size 100 x 100\n",
    "probability_contour = model_prob(X).reshape(100,100) "
   ]
  },
  {
   "cell_type": "code",
   "execution_count": 29,
   "id": "understood-landing",
   "metadata": {
    "execution": {
     "iopub.execute_input": "2021-01-30T00:09:53.362148Z",
     "iopub.status.busy": "2021-01-30T00:09:53.361518Z",
     "iopub.status.idle": "2021-01-30T00:09:53.588163Z",
     "shell.execute_reply": "2021-01-30T00:09:53.588640Z"
    },
    "papermill": {
     "duration": 0.280481,
     "end_time": "2021-01-30T00:09:53.588799",
     "exception": false,
     "start_time": "2021-01-30T00:09:53.308318",
     "status": "completed"
    },
    "tags": []
   },
   "outputs": [
    {
     "data": {
      "image/png": "[encoded data removed]",
      "text/plain": [
       "<Figure size 720x648 with 1 Axes>"
      ]
     },
     "metadata": {
      "needs_background": "light"
     },
     "output_type": "display_data"
    }
   ],
   "source": [
    "plt.figure(figsize=(10,9))\n",
    "plt.scatter(plot_testing[:,0], plot_testing[:,1], alpha = 0.1, c = y_test.ravel())\n",
    "contours = plt.contour(x_grid,y_grid,probability_contour)\n",
    "plt.title('Probability Contours')\n",
    "plt.clabel(contours, inline = True );"
   ]
  }
 ],
 "metadata": {
  "kernelspec": {
   "display_name": "Python 3",
   "language": "python",
   "name": "python3"
  },
  "language_info": {
   "codemirror_mode": {
    "name": "ipython",
    "version": 3
   },
   "file_extension": ".py",
   "mimetype": "text/x-python",
   "name": "python",
   "nbconvert_exporter": "python",
   "pygments_lexer": "ipython3",
   "version": "3.6.12"
  },
  "papermill": {
   "duration": 106.335832,
   "end_time": "2021-01-30T00:09:54.797559",
   "environment_variables": {},
   "exception": null,
   "input_path": "2020-08-11-NeuralNetwork.ipynb",
   "output_path": "2020-08-11-NeuralNetwork.ipynb",
   "parameters": {},
   "start_time": "2021-01-30T00:08:08.461727",
   "version": "2.1.2"
  }
 },
 "nbformat": 4,
 "nbformat_minor": 5
}