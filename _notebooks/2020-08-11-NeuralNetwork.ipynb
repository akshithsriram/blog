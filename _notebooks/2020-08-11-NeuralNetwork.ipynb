{
 "cells": [
  {
   "cell_type": "markdown",
   "metadata": {
    "papermill": {
     "duration": 0.030414,
     "end_time": "2020-10-30T10:14:07.501060",
     "exception": false,
     "start_time": "2020-10-30T10:14:07.470646",
     "status": "completed"
    },
    "tags": []
   },
   "source": [
    "# \"A Basic Neural Network: Differentiate Hand-Written Digits\"\n",
    "\n",
    "- badges: true\n",
    "- author: Akshith Sriram"
   ]
  },
  {
   "cell_type": "markdown",
   "metadata": {
    "papermill": {
     "duration": 0.02555,
     "end_time": "2020-10-30T10:14:07.552621",
     "exception": false,
     "start_time": "2020-10-30T10:14:07.527071",
     "status": "completed"
    },
    "tags": []
   },
   "source": [
    "### Key Objectives:\n",
    "- Building a neural network that differentiates two hand-written digits 3 and 8.\n",
    "- Comparing the results of this Neural Network (NN) to that of a Logistic Regression (LR) model.\n",
    "\n",
    "### Requirements:\n",
    "- 'Kudzu' : A neural network library that was designed during our course by [Univ.AI](www.univ.ai). \n",
    "- MNIST Database\n",
    "\n",
    "If MNIST is not installed, use the command `!pip install mnist` given below.\n",
    "It can be run both from the command line and Jupyter Notebook."
   ]
  },
  {
   "cell_type": "code",
   "execution_count": 1,
   "metadata": {
    "execution": {
     "iopub.execute_input": "2020-10-30T10:14:07.611847Z",
     "iopub.status.busy": "2020-10-30T10:14:07.611224Z",
     "iopub.status.idle": "2020-10-30T10:14:09.154909Z",
     "shell.execute_reply": "2020-10-30T10:14:09.153588Z"
    },
    "papermill": {
     "duration": 1.577222,
     "end_time": "2020-10-30T10:14:09.155114",
     "exception": false,
     "start_time": "2020-10-30T10:14:07.577892",
     "status": "completed"
    },
    "tags": []
   },
   "outputs": [
    {
     "name": "stdout",
     "output_type": "stream",
     "text": [
      "Collecting mnist\r\n"
     ]
    },
    {
     "name": "stdout",
     "output_type": "stream",
     "text": [
      "  Downloading mnist-0.2.2-py2.py3-none-any.whl (3.5 kB)\r\n"
     ]
    },
    {
     "name": "stdout",
     "output_type": "stream",
     "text": [
      "Requirement already satisfied: numpy in /opt/hostedtoolcache/Python/3.6.12/x64/lib/python3.6/site-packages (from mnist) (1.19.3)\r\n"
     ]
    },
    {
     "name": "stdout",
     "output_type": "stream",
     "text": [
      "Installing collected packages: mnist\r\n"
     ]
    },
    {
     "name": "stdout",
     "output_type": "stream",
     "text": [
      "Successfully installed mnist-0.2.2\r\n"
     ]
    }
   ],
   "source": [
    "!pip install mnist "
   ]
  },
  {
   "cell_type": "markdown",
   "metadata": {
    "papermill": {
     "duration": 0.028016,
     "end_time": "2020-10-30T10:14:09.210955",
     "exception": false,
     "start_time": "2020-10-30T10:14:09.182939",
     "status": "completed"
    },
    "tags": []
   },
   "source": [
    "#### Importing necessary libraries"
   ]
  },
  {
   "cell_type": "code",
   "execution_count": 2,
   "metadata": {
    "execution": {
     "iopub.execute_input": "2020-10-30T10:14:09.283235Z",
     "iopub.status.busy": "2020-10-30T10:14:09.277190Z",
     "iopub.status.idle": "2020-10-30T10:14:09.881682Z",
     "shell.execute_reply": "2020-10-30T10:14:09.882567Z"
    },
    "papermill": {
     "duration": 0.643155,
     "end_time": "2020-10-30T10:14:09.882848",
     "exception": false,
     "start_time": "2020-10-30T10:14:09.239693",
     "status": "completed"
    },
    "tags": []
   },
   "outputs": [],
   "source": [
    "%load_ext autoreload\n",
    "%autoreload 2\n",
    "\n",
    "%matplotlib inline\n",
    "import matplotlib.pyplot as plt\n",
    "\n",
    "import numpy as np\n",
    "import pandas as pd"
   ]
  },
  {
   "cell_type": "markdown",
   "metadata": {
    "papermill": {
     "duration": 0.027117,
     "end_time": "2020-10-30T10:14:09.937164",
     "exception": false,
     "start_time": "2020-10-30T10:14:09.910047",
     "status": "completed"
    },
    "tags": []
   },
   "source": [
    "### Preparing the Data"
   ]
  },
  {
   "cell_type": "code",
   "execution_count": 3,
   "metadata": {
    "execution": {
     "iopub.execute_input": "2020-10-30T10:14:09.998206Z",
     "iopub.status.busy": "2020-10-30T10:14:09.997618Z",
     "iopub.status.idle": "2020-10-30T10:14:10.008789Z",
     "shell.execute_reply": "2020-10-30T10:14:10.008344Z"
    },
    "papermill": {
     "duration": 0.04496,
     "end_time": "2020-10-30T10:14:10.008909",
     "exception": false,
     "start_time": "2020-10-30T10:14:09.963949",
     "status": "completed"
    },
    "tags": []
   },
   "outputs": [],
   "source": [
    "import mnist"
   ]
  },
  {
   "cell_type": "code",
   "execution_count": 4,
   "metadata": {
    "execution": {
     "iopub.execute_input": "2020-10-30T10:14:10.064657Z",
     "iopub.status.busy": "2020-10-30T10:14:10.064076Z",
     "iopub.status.idle": "2020-10-30T10:14:10.955641Z",
     "shell.execute_reply": "2020-10-30T10:14:10.954687Z"
    },
    "papermill": {
     "duration": 0.920598,
     "end_time": "2020-10-30T10:14:10.955864",
     "exception": false,
     "start_time": "2020-10-30T10:14:10.035266",
     "status": "completed"
    },
    "tags": []
   },
   "outputs": [],
   "source": [
    "train_images = mnist.train_images()\n",
    "train_labels = mnist.train_labels()"
   ]
  },
  {
   "cell_type": "code",
   "execution_count": 5,
   "metadata": {
    "execution": {
     "iopub.execute_input": "2020-10-30T10:14:11.145535Z",
     "iopub.status.busy": "2020-10-30T10:14:11.143652Z",
     "iopub.status.idle": "2020-10-30T10:14:11.160193Z",
     "shell.execute_reply": "2020-10-30T10:14:11.160673Z"
    },
    "papermill": {
     "duration": 0.065789,
     "end_time": "2020-10-30T10:14:11.160827",
     "exception": false,
     "start_time": "2020-10-30T10:14:11.095038",
     "status": "completed"
    },
    "tags": []
   },
   "outputs": [
    {
     "data": {
      "text/plain": [
       "((60000, 28, 28), (60000,))"
      ]
     },
     "execution_count": 5,
     "metadata": {},
     "output_type": "execute_result"
    }
   ],
   "source": [
    "train_images.shape, train_labels.shape"
   ]
  },
  {
   "cell_type": "code",
   "execution_count": 6,
   "metadata": {
    "execution": {
     "iopub.execute_input": "2020-10-30T10:14:11.219614Z",
     "iopub.status.busy": "2020-10-30T10:14:11.219029Z",
     "iopub.status.idle": "2020-10-30T10:14:11.639807Z",
     "shell.execute_reply": "2020-10-30T10:14:11.639039Z"
    },
    "papermill": {
     "duration": 0.452009,
     "end_time": "2020-10-30T10:14:11.639974",
     "exception": false,
     "start_time": "2020-10-30T10:14:11.187965",
     "status": "completed"
    },
    "tags": []
   },
   "outputs": [],
   "source": [
    "test_images = mnist.test_images()\n",
    "test_labels = mnist.test_labels()"
   ]
  },
  {
   "cell_type": "code",
   "execution_count": 7,
   "metadata": {
    "execution": {
     "iopub.execute_input": "2020-10-30T10:14:11.698640Z",
     "iopub.status.busy": "2020-10-30T10:14:11.698008Z",
     "iopub.status.idle": "2020-10-30T10:14:11.712918Z",
     "shell.execute_reply": "2020-10-30T10:14:11.712386Z"
    },
    "papermill": {
     "duration": 0.04628,
     "end_time": "2020-10-30T10:14:11.713078",
     "exception": false,
     "start_time": "2020-10-30T10:14:11.666798",
     "status": "completed"
    },
    "tags": []
   },
   "outputs": [
    {
     "data": {
      "text/plain": [
       "((10000, 28, 28), (10000,))"
      ]
     },
     "execution_count": 7,
     "metadata": {},
     "output_type": "execute_result"
    }
   ],
   "source": [
    "test_images.shape, test_labels.shape"
   ]
  },
  {
   "cell_type": "code",
   "execution_count": 8,
   "metadata": {
    "execution": {
     "iopub.execute_input": "2020-10-30T10:14:11.770882Z",
     "iopub.status.busy": "2020-10-30T10:14:11.770279Z",
     "iopub.status.idle": "2020-10-30T10:14:11.929761Z",
     "shell.execute_reply": "2020-10-30T10:14:11.929229Z"
    },
    "papermill": {
     "duration": 0.189659,
     "end_time": "2020-10-30T10:14:11.929900",
     "exception": false,
     "start_time": "2020-10-30T10:14:11.740241",
     "status": "completed"
    },
    "tags": []
   },
   "outputs": [
    {
     "name": "stdout",
     "output_type": "stream",
     "text": [
      "2\n"
     ]
    },
    {
     "data": {
      "text/plain": [
       "<matplotlib.image.AxesImage at 0x7f6907734978>"
      ]
     },
     "execution_count": 8,
     "metadata": {},
     "output_type": "execute_result"
    },
    {
     "data": {
      "image/png": "[encoded data removed]",
      "text/plain": [
       "<Figure size 432x288 with 1 Axes>"
      ]
     },
     "metadata": {
      "needs_background": "light"
     },
     "output_type": "display_data"
    }
   ],
   "source": [
    "image_index = 7776 # You may select anything up to 60,000\n",
    "print(train_labels[image_index]) \n",
    "plt.imshow(train_images[image_index], cmap='Greys')"
   ]
  },
  {
   "cell_type": "markdown",
   "metadata": {
    "papermill": {
     "duration": 0.029407,
     "end_time": "2020-10-30T10:14:11.988805",
     "exception": false,
     "start_time": "2020-10-30T10:14:11.959398",
     "status": "completed"
    },
    "tags": []
   },
   "source": [
    "## Filter data to get 3 and 8 out"
   ]
  },
  {
   "cell_type": "code",
   "execution_count": 9,
   "metadata": {
    "execution": {
     "iopub.execute_input": "2020-10-30T10:14:12.059211Z",
     "iopub.status.busy": "2020-10-30T10:14:12.053131Z",
     "iopub.status.idle": "2020-10-30T10:14:12.071105Z",
     "shell.execute_reply": "2020-10-30T10:14:12.071573Z"
    },
    "papermill": {
     "duration": 0.0536,
     "end_time": "2020-10-30T10:14:12.071734",
     "exception": false,
     "start_time": "2020-10-30T10:14:12.018134",
     "status": "completed"
    },
    "tags": []
   },
   "outputs": [],
   "source": [
    "train_filter = np.where((train_labels == 3 ) | (train_labels == 8))\n",
    "test_filter = np.where((test_labels == 3) | (test_labels == 8))\n",
    "X_train, y_train = train_images[train_filter], train_labels[train_filter]\n",
    "X_test, y_test = test_images[test_filter], test_labels[test_filter]"
   ]
  },
  {
   "cell_type": "markdown",
   "metadata": {
    "papermill": {
     "duration": 0.028611,
     "end_time": "2020-10-30T10:14:12.128621",
     "exception": false,
     "start_time": "2020-10-30T10:14:12.100010",
     "status": "completed"
    },
    "tags": []
   },
   "source": [
    "We normalize the pixel values in the 0 to 1 range"
   ]
  },
  {
   "cell_type": "code",
   "execution_count": 10,
   "metadata": {
    "execution": {
     "iopub.execute_input": "2020-10-30T10:14:12.189876Z",
     "iopub.status.busy": "2020-10-30T10:14:12.189260Z",
     "iopub.status.idle": "2020-10-30T10:14:12.243868Z",
     "shell.execute_reply": "2020-10-30T10:14:12.242969Z"
    },
    "papermill": {
     "duration": 0.08675,
     "end_time": "2020-10-30T10:14:12.244100",
     "exception": false,
     "start_time": "2020-10-30T10:14:12.157350",
     "status": "completed"
    },
    "tags": []
   },
   "outputs": [],
   "source": [
    "X_train = X_train/255.\n",
    "X_test = X_test/255."
   ]
  },
  {
   "cell_type": "markdown",
   "metadata": {
    "papermill": {
     "duration": 0.028474,
     "end_time": "2020-10-30T10:14:12.302418",
     "exception": false,
     "start_time": "2020-10-30T10:14:12.273944",
     "status": "completed"
    },
    "tags": []
   },
   "source": [
    "Setup the labels as 1 (when the digit is 3) and 0 (when the digit is 8)"
   ]
  },
  {
   "cell_type": "code",
   "execution_count": 11,
   "metadata": {
    "execution": {
     "iopub.execute_input": "2020-10-30T10:14:12.366738Z",
     "iopub.status.busy": "2020-10-30T10:14:12.366099Z",
     "iopub.status.idle": "2020-10-30T10:14:12.379675Z",
     "shell.execute_reply": "2020-10-30T10:14:12.379165Z"
    },
    "papermill": {
     "duration": 0.048862,
     "end_time": "2020-10-30T10:14:12.379805",
     "exception": false,
     "start_time": "2020-10-30T10:14:12.330943",
     "status": "completed"
    },
    "tags": []
   },
   "outputs": [],
   "source": [
    "y_train = 1*(y_train==3)\n",
    "y_test = 1*(y_test==3)"
   ]
  },
  {
   "cell_type": "code",
   "execution_count": 12,
   "metadata": {
    "execution": {
     "iopub.execute_input": "2020-10-30T10:14:12.440878Z",
     "iopub.status.busy": "2020-10-30T10:14:12.440288Z",
     "iopub.status.idle": "2020-10-30T10:14:12.453993Z",
     "shell.execute_reply": "2020-10-30T10:14:12.453487Z"
    },
    "papermill": {
     "duration": 0.046188,
     "end_time": "2020-10-30T10:14:12.454119",
     "exception": false,
     "start_time": "2020-10-30T10:14:12.407931",
     "status": "completed"
    },
    "tags": []
   },
   "outputs": [
    {
     "data": {
      "text/plain": [
       "((11982, 28, 28), (1984, 28, 28))"
      ]
     },
     "execution_count": 12,
     "metadata": {},
     "output_type": "execute_result"
    }
   ],
   "source": [
    "X_train.shape, X_test.shape"
   ]
  },
  {
   "cell_type": "markdown",
   "metadata": {
    "papermill": {
     "duration": 0.028455,
     "end_time": "2020-10-30T10:14:12.510802",
     "exception": false,
     "start_time": "2020-10-30T10:14:12.482347",
     "status": "completed"
    },
    "tags": []
   },
   "source": [
    "### Reshape the input data to create a linear array"
   ]
  },
  {
   "cell_type": "code",
   "execution_count": 13,
   "metadata": {
    "execution": {
     "iopub.execute_input": "2020-10-30T10:14:12.577366Z",
     "iopub.status.busy": "2020-10-30T10:14:12.576664Z",
     "iopub.status.idle": "2020-10-30T10:14:12.589795Z",
     "shell.execute_reply": "2020-10-30T10:14:12.589320Z"
    },
    "papermill": {
     "duration": 0.050486,
     "end_time": "2020-10-30T10:14:12.589937",
     "exception": false,
     "start_time": "2020-10-30T10:14:12.539451",
     "status": "completed"
    },
    "tags": []
   },
   "outputs": [
    {
     "data": {
      "text/plain": [
       "((11982, 784), (1984, 784))"
      ]
     },
     "execution_count": 13,
     "metadata": {},
     "output_type": "execute_result"
    }
   ],
   "source": [
    "X_train = X_train.reshape(X_train.shape[0], -1)\n",
    "X_test = X_test.reshape(X_test.shape[0], -1)\n",
    "X_train.shape, X_test.shape"
   ]
  },
  {
   "cell_type": "markdown",
   "metadata": {
    "papermill": {
     "duration": 0.028727,
     "end_time": "2020-10-30T10:14:12.647349",
     "exception": false,
     "start_time": "2020-10-30T10:14:12.618622",
     "status": "completed"
    },
    "tags": []
   },
   "source": [
    "### Importing appropriate functions from 'Kudzu'"
   ]
  },
  {
   "cell_type": "code",
   "execution_count": 14,
   "metadata": {
    "execution": {
     "iopub.execute_input": "2020-10-30T10:14:12.711130Z",
     "iopub.status.busy": "2020-10-30T10:14:12.710523Z",
     "iopub.status.idle": "2020-10-30T10:14:12.732345Z",
     "shell.execute_reply": "2020-10-30T10:14:12.731864Z"
    },
    "papermill": {
     "duration": 0.055657,
     "end_time": "2020-10-30T10:14:12.732474",
     "exception": false,
     "start_time": "2020-10-30T10:14:12.676817",
     "status": "completed"
    },
    "tags": []
   },
   "outputs": [],
   "source": [
    "from kudzu.layer import Sigmoid\n",
    "from kudzu.layer import Relu\n",
    "from kudzu.layer import Affine, Sigmoid\n",
    "\n",
    "from kudzu.model import Model\n",
    "from kudzu.train import Learner\n",
    "from kudzu.optim import GD\n",
    "from kudzu.data import Data, Dataloader, Sampler\n",
    "\n",
    "from kudzu.callbacks import AccCallback\n",
    "from kudzu.callbacks import ClfCallback\n",
    "\n",
    "from kudzu.loss import MSE"
   ]
  },
  {
   "cell_type": "markdown",
   "metadata": {
    "papermill": {
     "duration": 0.028759,
     "end_time": "2020-10-30T10:14:12.789990",
     "exception": false,
     "start_time": "2020-10-30T10:14:12.761231",
     "status": "completed"
    },
    "tags": []
   },
   "source": [
    "### Let us create a `Config` class, to store important parameters. \n",
    "This class essentially plays the role of a dictionary."
   ]
  },
  {
   "cell_type": "code",
   "execution_count": 15,
   "metadata": {
    "execution": {
     "iopub.execute_input": "2020-10-30T10:14:12.853628Z",
     "iopub.status.busy": "2020-10-30T10:14:12.852971Z",
     "iopub.status.idle": "2020-10-30T10:14:12.864752Z",
     "shell.execute_reply": "2020-10-30T10:14:12.865211Z"
    },
    "papermill": {
     "duration": 0.046398,
     "end_time": "2020-10-30T10:14:12.865363",
     "exception": false,
     "start_time": "2020-10-30T10:14:12.818965",
     "status": "completed"
    },
    "tags": []
   },
   "outputs": [],
   "source": [
    "class Config:\n",
    "    pass\n",
    "config = Config()\n",
    "config.lr = 0.001\n",
    "config.num_epochs = 251\n",
    "config.bs = 50"
   ]
  },
  {
   "cell_type": "markdown",
   "metadata": {
    "papermill": {
     "duration": 0.029396,
     "end_time": "2020-10-30T10:14:12.924137",
     "exception": false,
     "start_time": "2020-10-30T10:14:12.894741",
     "status": "completed"
    },
    "tags": []
   },
   "source": [
    "### Initializing data to the variables"
   ]
  },
  {
   "cell_type": "code",
   "execution_count": 16,
   "metadata": {
    "execution": {
     "iopub.execute_input": "2020-10-30T10:14:12.989364Z",
     "iopub.status.busy": "2020-10-30T10:14:12.988523Z",
     "iopub.status.idle": "2020-10-30T10:14:13.007934Z",
     "shell.execute_reply": "2020-10-30T10:14:13.007331Z"
    },
    "papermill": {
     "duration": 0.054936,
     "end_time": "2020-10-30T10:14:13.008068",
     "exception": false,
     "start_time": "2020-10-30T10:14:12.953132",
     "status": "completed"
    },
    "tags": []
   },
   "outputs": [],
   "source": [
    "data = Data(X_train, y_train.reshape(-1,1))\n",
    "sampler = Sampler(data, config.bs, shuffle=True)\n",
    "\n",
    "dl = Dataloader(data, sampler)\n",
    "\n",
    "opt = GD(config.lr)\n",
    "loss = MSE()"
   ]
  },
  {
   "cell_type": "code",
   "execution_count": 17,
   "metadata": {
    "execution": {
     "iopub.execute_input": "2020-10-30T10:14:13.077618Z",
     "iopub.status.busy": "2020-10-30T10:14:13.076832Z",
     "iopub.status.idle": "2020-10-30T10:14:13.091251Z",
     "shell.execute_reply": "2020-10-30T10:14:13.091869Z"
    },
    "papermill": {
     "duration": 0.052667,
     "end_time": "2020-10-30T10:14:13.092068",
     "exception": false,
     "start_time": "2020-10-30T10:14:13.039401",
     "status": "completed"
    },
    "tags": []
   },
   "outputs": [],
   "source": [
    "training_xdata = X_train\n",
    "testing_xdata = X_test\n",
    "training_ydata = y_train.reshape(-1,1)\n",
    "testing_ydata = y_test.reshape(-1,1)"
   ]
  },
  {
   "cell_type": "markdown",
   "metadata": {
    "papermill": {
     "duration": 0.028602,
     "end_time": "2020-10-30T10:14:13.151353",
     "exception": false,
     "start_time": "2020-10-30T10:14:13.122751",
     "status": "completed"
    },
    "tags": []
   },
   "source": [
    "### Running Models with the Training data\n",
    "Details about the network layers:\n",
    "- A first affine layer has 784 inputs and does 100 affine transforms. These are followed by a Relu\n",
    "- A second affine layer has 100 inputs from the 100 activations of the past layer, and does 100 affine transforms. These are followed by a Relu\n",
    "- A third affine layer has 100 activations and does 2 affine transformations to create an embedding for visualization. There is no non-linearity here.\n",
    "- A final \"logistic regression\" which has an affine transform from 2 inputs to 1 output, which is squeezed through a sigmoid.\n",
    "\n",
    "Help taken from Anshuman's Notebook."
   ]
  },
  {
   "cell_type": "code",
   "execution_count": 18,
   "metadata": {
    "execution": {
     "iopub.execute_input": "2020-10-30T10:14:13.211730Z",
     "iopub.status.busy": "2020-10-30T10:14:13.211133Z",
     "iopub.status.idle": "2020-10-30T10:14:13.232719Z",
     "shell.execute_reply": "2020-10-30T10:14:13.232033Z"
    },
    "papermill": {
     "duration": 0.052873,
     "end_time": "2020-10-30T10:14:13.232883",
     "exception": false,
     "start_time": "2020-10-30T10:14:13.180010",
     "status": "completed"
    },
    "tags": []
   },
   "outputs": [],
   "source": [
    "# layers for the Neural Network\n",
    "layers = [Affine(\"first\", 784, 100), Relu(\"first\"), Affine(\"second\", 100, 100), Relu(\"second\"), Affine(\"third\", 100, 2), Affine(\"final\", 2, 1), Sigmoid(\"final\")]\n",
    "model_nn = Model(layers)\n",
    "\n",
    "# layers for the Logistic Regression\n",
    "layers_lr = [Affine(\"logits\", 784, 1), Sigmoid(\"sigmoid\")]\n",
    "model_lr = Model(layers_lr)"
   ]
  },
  {
   "cell_type": "code",
   "execution_count": 19,
   "metadata": {
    "execution": {
     "iopub.execute_input": "2020-10-30T10:14:13.296911Z",
     "iopub.status.busy": "2020-10-30T10:14:13.296291Z",
     "iopub.status.idle": "2020-10-30T10:14:13.310364Z",
     "shell.execute_reply": "2020-10-30T10:14:13.309832Z"
    },
    "papermill": {
     "duration": 0.046672,
     "end_time": "2020-10-30T10:14:13.310493",
     "exception": false,
     "start_time": "2020-10-30T10:14:13.263821",
     "status": "completed"
    },
    "tags": []
   },
   "outputs": [],
   "source": [
    "# suffix _nn stands for Neural Network.\n",
    "learner_nn = Learner(loss, model_nn, opt, config.num_epochs)\n",
    "acc_nn = ClfCallback(learner_nn, config.bs, training_xdata , testing_xdata, training_ydata, testing_ydata)\n",
    "learner_nn.set_callbacks([acc_nn])"
   ]
  },
  {
   "cell_type": "code",
   "execution_count": 20,
   "metadata": {
    "execution": {
     "iopub.execute_input": "2020-10-30T10:14:13.371486Z",
     "iopub.status.busy": "2020-10-30T10:14:13.370897Z",
     "iopub.status.idle": "2020-10-30T10:15:44.334768Z",
     "shell.execute_reply": "2020-10-30T10:15:44.335573Z"
    },
    "papermill": {
     "duration": 90.997108,
     "end_time": "2020-10-30T10:15:44.335727",
     "exception": false,
     "start_time": "2020-10-30T10:14:13.338619",
     "status": "completed"
    },
    "tags": []
   },
   "outputs": [
    {
     "name": "stdout",
     "output_type": "stream",
     "text": [
      "====== Neural Network ======\n"
     ]
    },
    {
     "name": "stdout",
     "output_type": "stream",
     "text": [
      "Epoch 0, Loss 0.2403\n",
      "Training Accuracy: 0.6717, Testing Accuracy: 0.6890\n",
      "\n"
     ]
    },
    {
     "name": "stdout",
     "output_type": "stream",
     "text": [
      "Epoch 10, Loss 0.0894\n",
      "Training Accuracy: 0.9122, Testing Accuracy: 0.9284\n",
      "\n"
     ]
    },
    {
     "name": "stdout",
     "output_type": "stream",
     "text": [
      "Epoch 20, Loss 0.0571\n",
      "Training Accuracy: 0.9388, Testing Accuracy: 0.9516\n",
      "\n"
     ]
    },
    {
     "name": "stdout",
     "output_type": "stream",
     "text": [
      "Epoch 30, Loss 0.0448\n",
      "Training Accuracy: 0.9499, Testing Accuracy: 0.9602\n",
      "\n"
     ]
    },
    {
     "name": "stdout",
     "output_type": "stream",
     "text": [
      "Epoch 40, Loss 0.0384\n",
      "Training Accuracy: 0.9580, Testing Accuracy: 0.9642\n",
      "\n"
     ]
    },
    {
     "name": "stdout",
     "output_type": "stream",
     "text": [
      "Epoch 50, Loss 0.0345\n",
      "Training Accuracy: 0.9618, Testing Accuracy: 0.9688\n",
      "\n"
     ]
    },
    {
     "name": "stdout",
     "output_type": "stream",
     "text": [
      "Epoch 60, Loss 0.0317\n",
      "Training Accuracy: 0.9644, Testing Accuracy: 0.9698\n",
      "\n"
     ]
    },
    {
     "name": "stdout",
     "output_type": "stream",
     "text": [
      "Epoch 70, Loss 0.0297\n",
      "Training Accuracy: 0.9664, Testing Accuracy: 0.9703\n",
      "\n"
     ]
    },
    {
     "name": "stdout",
     "output_type": "stream",
     "text": [
      "Epoch 80, Loss 0.028\n",
      "Training Accuracy: 0.9679, Testing Accuracy: 0.9708\n",
      "\n"
     ]
    },
    {
     "name": "stdout",
     "output_type": "stream",
     "text": [
      "Epoch 90, Loss 0.0267\n",
      "Training Accuracy: 0.9696, Testing Accuracy: 0.9723\n",
      "\n"
     ]
    },
    {
     "name": "stdout",
     "output_type": "stream",
     "text": [
      "Epoch 100, Loss 0.0256\n",
      "Training Accuracy: 0.9706, Testing Accuracy: 0.9738\n",
      "\n"
     ]
    },
    {
     "name": "stdout",
     "output_type": "stream",
     "text": [
      "Epoch 110, Loss 0.0247\n",
      "Training Accuracy: 0.9716, Testing Accuracy: 0.9733\n",
      "\n"
     ]
    },
    {
     "name": "stdout",
     "output_type": "stream",
     "text": [
      "Epoch 120, Loss 0.0239\n",
      "Training Accuracy: 0.9730, Testing Accuracy: 0.9728\n",
      "\n"
     ]
    },
    {
     "name": "stdout",
     "output_type": "stream",
     "text": [
      "Epoch 130, Loss 0.0231\n",
      "Training Accuracy: 0.9737, Testing Accuracy: 0.9733\n",
      "\n"
     ]
    },
    {
     "name": "stdout",
     "output_type": "stream",
     "text": [
      "Epoch 140, Loss 0.0225\n",
      "Training Accuracy: 0.9746, Testing Accuracy: 0.9728\n",
      "\n"
     ]
    },
    {
     "name": "stdout",
     "output_type": "stream",
     "text": [
      "Epoch 150, Loss 0.0218\n",
      "Training Accuracy: 0.9754, Testing Accuracy: 0.9723\n",
      "\n"
     ]
    },
    {
     "name": "stdout",
     "output_type": "stream",
     "text": [
      "Epoch 160, Loss 0.0213\n",
      "Training Accuracy: 0.9760, Testing Accuracy: 0.9723\n",
      "\n"
     ]
    },
    {
     "name": "stdout",
     "output_type": "stream",
     "text": [
      "Epoch 170, Loss 0.0208\n",
      "Training Accuracy: 0.9770, Testing Accuracy: 0.9723\n",
      "\n"
     ]
    },
    {
     "name": "stdout",
     "output_type": "stream",
     "text": [
      "Epoch 180, Loss 0.0203\n",
      "Training Accuracy: 0.9771, Testing Accuracy: 0.9733\n",
      "\n"
     ]
    },
    {
     "name": "stdout",
     "output_type": "stream",
     "text": [
      "Epoch 190, Loss 0.0198\n",
      "Training Accuracy: 0.9780, Testing Accuracy: 0.9738\n",
      "\n"
     ]
    },
    {
     "name": "stdout",
     "output_type": "stream",
     "text": [
      "Epoch 200, Loss 0.0194\n",
      "Training Accuracy: 0.9783, Testing Accuracy: 0.9743\n",
      "\n"
     ]
    },
    {
     "name": "stdout",
     "output_type": "stream",
     "text": [
      "Epoch 210, Loss 0.0189\n",
      "Training Accuracy: 0.9790, Testing Accuracy: 0.9743\n",
      "\n"
     ]
    },
    {
     "name": "stdout",
     "output_type": "stream",
     "text": [
      "Epoch 220, Loss 0.0185\n",
      "Training Accuracy: 0.9792, Testing Accuracy: 0.9738\n",
      "\n"
     ]
    },
    {
     "name": "stdout",
     "output_type": "stream",
     "text": [
      "Epoch 230, Loss 0.0182\n",
      "Training Accuracy: 0.9796, Testing Accuracy: 0.9743\n",
      "\n"
     ]
    },
    {
     "name": "stdout",
     "output_type": "stream",
     "text": [
      "Epoch 240, Loss 0.0178\n",
      "Training Accuracy: 0.9802, Testing Accuracy: 0.9763\n",
      "\n"
     ]
    },
    {
     "name": "stdout",
     "output_type": "stream",
     "text": [
      "Epoch 250, Loss 0.0174\n",
      "Training Accuracy: 0.9803, Testing Accuracy: 0.9753\n",
      "\n"
     ]
    },
    {
     "data": {
      "text/plain": [
       "0.04303590370088128"
      ]
     },
     "execution_count": 20,
     "metadata": {},
     "output_type": "execute_result"
    }
   ],
   "source": [
    "print(\"====== Neural Network ======\")\n",
    "learner_nn.train_loop(dl)"
   ]
  },
  {
   "cell_type": "markdown",
   "metadata": {
    "papermill": {
     "duration": 0.03588,
     "end_time": "2020-10-30T10:15:44.408601",
     "exception": false,
     "start_time": "2020-10-30T10:15:44.372721",
     "status": "completed"
    },
    "tags": []
   },
   "source": [
    "### Logistic Regression based Implementation."
   ]
  },
  {
   "cell_type": "code",
   "execution_count": 21,
   "metadata": {
    "execution": {
     "iopub.execute_input": "2020-10-30T10:15:44.499628Z",
     "iopub.status.busy": "2020-10-30T10:15:44.499086Z",
     "iopub.status.idle": "2020-10-30T10:15:44.504009Z",
     "shell.execute_reply": "2020-10-30T10:15:44.504839Z"
    },
    "papermill": {
     "duration": 0.059223,
     "end_time": "2020-10-30T10:15:44.504989",
     "exception": false,
     "start_time": "2020-10-30T10:15:44.445766",
     "status": "completed"
    },
    "tags": []
   },
   "outputs": [],
   "source": [
    "learner_lr = Learner(loss, model_lr, opt, config.num_epochs)\n",
    "acc_lr = ClfCallback(learner_lr, config.bs, training_xdata , testing_xdata, training_ydata, testing_ydata)\n",
    "learner_lr.set_callbacks([acc_lr])"
   ]
  },
  {
   "cell_type": "code",
   "execution_count": 22,
   "metadata": {
    "execution": {
     "iopub.execute_input": "2020-10-30T10:15:44.586929Z",
     "iopub.status.busy": "2020-10-30T10:15:44.585800Z",
     "iopub.status.idle": "2020-10-30T10:16:00.557496Z",
     "shell.execute_reply": "2020-10-30T10:16:00.558493Z"
    },
    "papermill": {
     "duration": 16.014974,
     "end_time": "2020-10-30T10:16:00.558664",
     "exception": false,
     "start_time": "2020-10-30T10:15:44.543690",
     "status": "completed"
    },
    "tags": []
   },
   "outputs": [
    {
     "name": "stdout",
     "output_type": "stream",
     "text": [
      "====== Logistic Regression ======\n",
      "Epoch 0, Loss 0.2277\n",
      "Training Accuracy: 0.7364, Testing Accuracy: 0.7369\n",
      "\n"
     ]
    },
    {
     "name": "stdout",
     "output_type": "stream",
     "text": [
      "Epoch 10, Loss 0.1017\n",
      "Training Accuracy: 0.9097, Testing Accuracy: 0.9214\n",
      "\n"
     ]
    },
    {
     "name": "stdout",
     "output_type": "stream",
     "text": [
      "Epoch 20, Loss 0.0792\n",
      "Training Accuracy: 0.9253, Testing Accuracy: 0.9360\n",
      "\n"
     ]
    },
    {
     "name": "stdout",
     "output_type": "stream",
     "text": [
      "Epoch 30, Loss 0.0685\n",
      "Training Accuracy: 0.9342, Testing Accuracy: 0.9435\n",
      "\n"
     ]
    },
    {
     "name": "stdout",
     "output_type": "stream",
     "text": [
      "Epoch 40, Loss 0.0621\n",
      "Training Accuracy: 0.9389, Testing Accuracy: 0.9491\n",
      "\n"
     ]
    },
    {
     "name": "stdout",
     "output_type": "stream",
     "text": [
      "Epoch 50, Loss 0.0576\n",
      "Training Accuracy: 0.9422, Testing Accuracy: 0.9536\n",
      "\n"
     ]
    },
    {
     "name": "stdout",
     "output_type": "stream",
     "text": [
      "Epoch 60, Loss 0.0543\n",
      "Training Accuracy: 0.9452, Testing Accuracy: 0.9567\n",
      "\n"
     ]
    },
    {
     "name": "stdout",
     "output_type": "stream",
     "text": [
      "Epoch 70, Loss 0.0518\n",
      "Training Accuracy: 0.9466, Testing Accuracy: 0.9572\n",
      "\n"
     ]
    },
    {
     "name": "stdout",
     "output_type": "stream",
     "text": [
      "Epoch 80, Loss 0.0497\n",
      "Training Accuracy: 0.9490, Testing Accuracy: 0.9587\n",
      "\n"
     ]
    },
    {
     "name": "stdout",
     "output_type": "stream",
     "text": [
      "Epoch 90, Loss 0.048\n",
      "Training Accuracy: 0.9505, Testing Accuracy: 0.9622\n",
      "\n"
     ]
    },
    {
     "name": "stdout",
     "output_type": "stream",
     "text": [
      "Epoch 100, Loss 0.0466\n",
      "Training Accuracy: 0.9515, Testing Accuracy: 0.9622\n",
      "\n"
     ]
    },
    {
     "name": "stdout",
     "output_type": "stream",
     "text": [
      "Epoch 110, Loss 0.0453\n",
      "Training Accuracy: 0.9523, Testing Accuracy: 0.9637\n",
      "\n"
     ]
    },
    {
     "name": "stdout",
     "output_type": "stream",
     "text": [
      "Epoch 120, Loss 0.0443\n",
      "Training Accuracy: 0.9532, Testing Accuracy: 0.9637\n",
      "\n"
     ]
    },
    {
     "name": "stdout",
     "output_type": "stream",
     "text": [
      "Epoch 130, Loss 0.0433\n",
      "Training Accuracy: 0.9541, Testing Accuracy: 0.9652\n",
      "\n"
     ]
    },
    {
     "name": "stdout",
     "output_type": "stream",
     "text": [
      "Epoch 140, Loss 0.0425\n",
      "Training Accuracy: 0.9552, Testing Accuracy: 0.9657\n",
      "\n"
     ]
    },
    {
     "name": "stdout",
     "output_type": "stream",
     "text": [
      "Epoch 150, Loss 0.0417\n",
      "Training Accuracy: 0.9553, Testing Accuracy: 0.9667\n",
      "\n"
     ]
    },
    {
     "name": "stdout",
     "output_type": "stream",
     "text": [
      "Epoch 160, Loss 0.041\n",
      "Training Accuracy: 0.9558, Testing Accuracy: 0.9662\n",
      "\n"
     ]
    },
    {
     "name": "stdout",
     "output_type": "stream",
     "text": [
      "Epoch 170, Loss 0.0404\n",
      "Training Accuracy: 0.9565, Testing Accuracy: 0.9667\n",
      "\n"
     ]
    },
    {
     "name": "stdout",
     "output_type": "stream",
     "text": [
      "Epoch 180, Loss 0.0398\n",
      "Training Accuracy: 0.9574, Testing Accuracy: 0.9682\n",
      "\n"
     ]
    },
    {
     "name": "stdout",
     "output_type": "stream",
     "text": [
      "Epoch 190, Loss 0.0393\n",
      "Training Accuracy: 0.9577, Testing Accuracy: 0.9688\n",
      "\n"
     ]
    },
    {
     "name": "stdout",
     "output_type": "stream",
     "text": [
      "Epoch 200, Loss 0.0388\n",
      "Training Accuracy: 0.9583, Testing Accuracy: 0.9688\n",
      "\n"
     ]
    },
    {
     "name": "stdout",
     "output_type": "stream",
     "text": [
      "Epoch 210, Loss 0.0384\n",
      "Training Accuracy: 0.9587, Testing Accuracy: 0.9682\n",
      "\n"
     ]
    },
    {
     "name": "stdout",
     "output_type": "stream",
     "text": [
      "Epoch 220, Loss 0.0379\n",
      "Training Accuracy: 0.9593, Testing Accuracy: 0.9682\n",
      "\n"
     ]
    },
    {
     "name": "stdout",
     "output_type": "stream",
     "text": [
      "Epoch 230, Loss 0.0375\n",
      "Training Accuracy: 0.9599, Testing Accuracy: 0.9682\n",
      "\n"
     ]
    },
    {
     "name": "stdout",
     "output_type": "stream",
     "text": [
      "Epoch 240, Loss 0.0372\n",
      "Training Accuracy: 0.9603, Testing Accuracy: 0.9693\n",
      "\n"
     ]
    },
    {
     "name": "stdout",
     "output_type": "stream",
     "text": [
      "Epoch 250, Loss 0.0368\n",
      "Training Accuracy: 0.9606, Testing Accuracy: 0.9698\n",
      "\n"
     ]
    },
    {
     "data": {
      "text/plain": [
       "0.059558935300511665"
      ]
     },
     "execution_count": 22,
     "metadata": {},
     "output_type": "execute_result"
    }
   ],
   "source": [
    "print(\"====== Logistic Regression ======\")\n",
    "learner_lr.train_loop(dl)"
   ]
  },
  {
   "cell_type": "markdown",
   "metadata": {
    "papermill": {
     "duration": 0.045233,
     "end_time": "2020-10-30T10:16:00.650064",
     "exception": false,
     "start_time": "2020-10-30T10:16:00.604831",
     "status": "completed"
    },
    "tags": []
   },
   "source": [
    "### Comparing results of NN and LR"
   ]
  },
  {
   "cell_type": "code",
   "execution_count": 23,
   "metadata": {
    "execution": {
     "iopub.execute_input": "2020-10-30T10:16:00.754869Z",
     "iopub.status.busy": "2020-10-30T10:16:00.750676Z",
     "iopub.status.idle": "2020-10-30T10:16:01.010006Z",
     "shell.execute_reply": "2020-10-30T10:16:01.009038Z"
    },
    "papermill": {
     "duration": 0.313234,
     "end_time": "2020-10-30T10:16:01.010153",
     "exception": false,
     "start_time": "2020-10-30T10:16:00.696919",
     "status": "completed"
    },
    "tags": []
   },
   "outputs": [
    {
     "data": {
      "text/plain": [
       "<matplotlib.legend.Legend at 0x7f68faae92e8>"
      ]
     },
     "execution_count": 23,
     "metadata": {},
     "output_type": "execute_result"
    },
    {
     "data": {
      "image/png": "[encoded data removed]",
      "text/plain": [
       "<Figure size 1080x720 with 1 Axes>"
      ]
     },
     "metadata": {
      "needs_background": "light"
     },
     "output_type": "display_data"
    }
   ],
   "source": [
    "plt.figure(figsize=(15,10))\n",
    "\n",
    "# Neural Network plots\n",
    "plt.plot(acc_nn.accuracies, 'r-', label = \"Training Accuracies - NN\")\n",
    "plt.plot(acc_nn.test_accuracies, 'g-', label = \"Testing Accuracies - NN\")\n",
    "\n",
    "# Logistic Regression plots\n",
    "plt.plot(acc_lr.accuracies, 'k-', label = \"Training Accuracies - LR\")\n",
    "plt.plot(acc_lr.test_accuracies, 'b-', label = \"Testing Accuracies - LR\")\n",
    "\n",
    "plt.ylim(0.8, 1)\n",
    "\n",
    "plt.legend()\n",
    "\n"
   ]
  },
  {
   "cell_type": "markdown",
   "metadata": {
    "papermill": {
     "duration": 0.048618,
     "end_time": "2020-10-30T10:16:01.107641",
     "exception": false,
     "start_time": "2020-10-30T10:16:01.059023",
     "status": "completed"
    },
    "tags": []
   },
   "source": [
    "### From the plot, we can observe the following:\n",
    "- Neural Network achieves higher accuracy than the Logistic Regression model.\n",
    "- This apparently, is because of overfitting, i.e. NN captures more noise than data.\n",
    "- Testing accuracy of NN drops below the Training accuracy at higher epochs. This explains the over-fitting on training data.\n",
    "- Logistic Regression gives a reliable accuracy, without the above mentioned problem.\n"
   ]
  },
  {
   "cell_type": "markdown",
   "metadata": {
    "papermill": {
     "duration": 0.04771,
     "end_time": "2020-10-30T10:16:01.205875",
     "exception": false,
     "start_time": "2020-10-30T10:16:01.158165",
     "status": "completed"
    },
    "tags": []
   },
   "source": [
    "### Moving till the last but one layer (excluding it).\n",
    "#### Plotting the outputs of this layer of the NN."
   ]
  },
  {
   "cell_type": "code",
   "execution_count": 24,
   "metadata": {
    "execution": {
     "iopub.execute_input": "2020-10-30T10:16:01.311402Z",
     "iopub.status.busy": "2020-10-30T10:16:01.310807Z",
     "iopub.status.idle": "2020-10-30T10:16:01.323207Z",
     "shell.execute_reply": "2020-10-30T10:16:01.323768Z"
    },
    "papermill": {
     "duration": 0.069114,
     "end_time": "2020-10-30T10:16:01.323921",
     "exception": false,
     "start_time": "2020-10-30T10:16:01.254807",
     "status": "completed"
    },
    "tags": []
   },
   "outputs": [],
   "source": [
    "model_new = Model(layers[:-2])"
   ]
  },
  {
   "cell_type": "code",
   "execution_count": 25,
   "metadata": {
    "execution": {
     "iopub.execute_input": "2020-10-30T10:16:01.418289Z",
     "iopub.status.busy": "2020-10-30T10:16:01.417659Z",
     "iopub.status.idle": "2020-10-30T10:16:01.442994Z",
     "shell.execute_reply": "2020-10-30T10:16:01.443501Z"
    },
    "papermill": {
     "duration": 0.074091,
     "end_time": "2020-10-30T10:16:01.443641",
     "exception": false,
     "start_time": "2020-10-30T10:16:01.369550",
     "status": "completed"
    },
    "tags": []
   },
   "outputs": [],
   "source": [
    "plot_testing = model_new(testing_xdata)"
   ]
  },
  {
   "cell_type": "code",
   "execution_count": 26,
   "metadata": {
    "execution": {
     "iopub.execute_input": "2020-10-30T10:16:01.543803Z",
     "iopub.status.busy": "2020-10-30T10:16:01.543216Z",
     "iopub.status.idle": "2020-10-30T10:16:01.748848Z",
     "shell.execute_reply": "2020-10-30T10:16:01.749317Z"
    },
    "papermill": {
     "duration": 0.258393,
     "end_time": "2020-10-30T10:16:01.749467",
     "exception": false,
     "start_time": "2020-10-30T10:16:01.491074",
     "status": "completed"
    },
    "tags": []
   },
   "outputs": [
    {
     "data": {
      "text/plain": [
       "Text(0.5, 1.0, 'Outputs')"
      ]
     },
     "execution_count": 26,
     "metadata": {},
     "output_type": "execute_result"
    },
    {
     "data": {
      "image/png": "[encoded data removed]",
      "text/plain": [
       "<Figure size 576x504 with 1 Axes>"
      ]
     },
     "metadata": {
      "needs_background": "light"
     },
     "output_type": "display_data"
    }
   ],
   "source": [
    "plt.figure(figsize=(8,7))\n",
    "plt.scatter(plot_testing[:,0], plot_testing[:,1], alpha = 0.1, c = y_test.ravel());\n",
    "plt.title('Outputs')"
   ]
  },
  {
   "cell_type": "markdown",
   "metadata": {
    "papermill": {
     "duration": 0.047587,
     "end_time": "2020-10-30T10:16:01.846343",
     "exception": false,
     "start_time": "2020-10-30T10:16:01.798756",
     "status": "completed"
    },
    "tags": []
   },
   "source": [
    "### Plotting probability contours"
   ]
  },
  {
   "cell_type": "code",
   "execution_count": 27,
   "metadata": {
    "execution": {
     "iopub.execute_input": "2020-10-30T10:16:01.948454Z",
     "iopub.status.busy": "2020-10-30T10:16:01.947856Z",
     "iopub.status.idle": "2020-10-30T10:16:01.962590Z",
     "shell.execute_reply": "2020-10-30T10:16:01.963089Z"
    },
    "papermill": {
     "duration": 0.068631,
     "end_time": "2020-10-30T10:16:01.963236",
     "exception": false,
     "start_time": "2020-10-30T10:16:01.894605",
     "status": "completed"
    },
    "tags": []
   },
   "outputs": [],
   "source": [
    "model_prob = Model(layers[-2:]) "
   ]
  },
  {
   "cell_type": "code",
   "execution_count": 28,
   "metadata": {
    "execution": {
     "iopub.execute_input": "2020-10-30T10:16:02.070813Z",
     "iopub.status.busy": "2020-10-30T10:16:02.070175Z",
     "iopub.status.idle": "2020-10-30T10:16:02.084850Z",
     "shell.execute_reply": "2020-10-30T10:16:02.085298Z"
    },
    "papermill": {
     "duration": 0.071954,
     "end_time": "2020-10-30T10:16:02.085446",
     "exception": false,
     "start_time": "2020-10-30T10:16:02.013492",
     "status": "completed"
    },
    "tags": []
   },
   "outputs": [],
   "source": [
    "# Adjust the x and y ranges according to the above generated plot.\n",
    "x_range = np.linspace(-4, 1, 100) \n",
    "y_range = np.linspace(-6, 6, 100) \n",
    "x_grid, y_grid = np.meshgrid(x_range, y_range) # x_grid and y_grig are of size 100 X 100\n",
    "\n",
    "# converting x_grid and y_grid to continuous arrays\n",
    "x_grid_flat = np.ravel(x_grid)\n",
    "y_grid_flat = np.ravel(y_grid)\n",
    "\n",
    "# The last layer of the current model takes two columns as input. Hence transpose of np.vstack() is required.\n",
    "X = np.vstack((x_grid_flat, y_grid_flat)).T\n",
    "\n",
    "# x_grid and y_grid are of size 100 x 100\n",
    "probability_contour = model_prob(X).reshape(100,100) "
   ]
  },
  {
   "cell_type": "code",
   "execution_count": 29,
   "metadata": {
    "execution": {
     "iopub.execute_input": "2020-10-30T10:16:02.199887Z",
     "iopub.status.busy": "2020-10-30T10:16:02.199304Z",
     "iopub.status.idle": "2020-10-30T10:16:02.452655Z",
     "shell.execute_reply": "2020-10-30T10:16:02.452136Z"
    },
    "papermill": {
     "duration": 0.315376,
     "end_time": "2020-10-30T10:16:02.452787",
     "exception": false,
     "start_time": "2020-10-30T10:16:02.137411",
     "status": "completed"
    },
    "tags": []
   },
   "outputs": [
    {
     "data": {
      "image/png": "[encoded data removed]",
      "text/plain": [
       "<Figure size 720x648 with 1 Axes>"
      ]
     },
     "metadata": {
      "needs_background": "light"
     },
     "output_type": "display_data"
    }
   ],
   "source": [
    "plt.figure(figsize=(10,9))\n",
    "plt.scatter(plot_testing[:,0], plot_testing[:,1], alpha = 0.1, c = y_test.ravel())\n",
    "contours = plt.contour(x_grid,y_grid,probability_contour)\n",
    "plt.title('Probability Contours')\n",
    "plt.clabel(contours, inline = True );"
   ]
  }
 ],
 "metadata": {
  "kernelspec": {
   "display_name": "Python 3",
   "language": "python",
   "name": "python3"
  },
  "language_info": {
   "codemirror_mode": {
    "name": "ipython",
    "version": 3
   },
   "file_extension": ".py",
   "mimetype": "text/x-python",
   "name": "python",
   "nbconvert_exporter": "python",
   "pygments_lexer": "ipython3",
   "version": "3.6.12"
  },
  "papermill": {
   "duration": 117.404135,
   "end_time": "2020-10-30T10:16:03.763673",
   "environment_variables": {},
   "exception": null,
   "input_path": "2020-08-11-NeuralNetwork.ipynb",
   "output_path": "2020-08-11-NeuralNetwork.ipynb",
   "parameters": {},
   "start_time": "2020-10-30T10:14:06.359538",
   "version": "2.1.2"
  }
 },
 "nbformat": 4,
 "nbformat_minor": 4
}