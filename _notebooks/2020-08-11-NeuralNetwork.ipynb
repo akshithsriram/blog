{
 "cells": [
  {
   "cell_type": "markdown",
   "id": "fitted-suggestion",
   "metadata": {
    "papermill": {
     "duration": 0.033492,
     "end_time": "2021-01-26T20:09:34.923640",
     "exception": false,
     "start_time": "2021-01-26T20:09:34.890148",
     "status": "completed"
    },
    "tags": []
   },
   "source": [
    "# \"A Basic Neural Network: Differentiate Hand-Written Digits\"\n",
    "\n",
    "- badges: true\n",
    "- author: Akshith Sriram"
   ]
  },
  {
   "cell_type": "markdown",
   "id": "signal-flexibility",
   "metadata": {
    "papermill": {
     "duration": 0.029532,
     "end_time": "2021-01-26T20:09:34.981789",
     "exception": false,
     "start_time": "2021-01-26T20:09:34.952257",
     "status": "completed"
    },
    "tags": []
   },
   "source": [
    "### Key Objectives:\n",
    "- Building a neural network that differentiates two hand-written digits 3 and 8.\n",
    "- Comparing the results of this Neural Network (NN) to that of a Logistic Regression (LR) model.\n",
    "\n",
    "### Requirements:\n",
    "- 'Kudzu' : A neural network library that was designed during our course by [Univ.AI](www.univ.ai). \n",
    "- MNIST Database\n",
    "\n",
    "If MNIST is not installed, use the command `!pip install mnist` given below.\n",
    "It can be run both from the command line and Jupyter Notebook."
   ]
  },
  {
   "cell_type": "code",
   "execution_count": 1,
   "id": "british-texture",
   "metadata": {
    "execution": {
     "iopub.execute_input": "2021-01-26T20:09:35.048701Z",
     "iopub.status.busy": "2021-01-26T20:09:35.048107Z",
     "iopub.status.idle": "2021-01-26T20:09:36.572806Z",
     "shell.execute_reply": "2021-01-26T20:09:36.571492Z"
    },
    "papermill": {
     "duration": 1.563453,
     "end_time": "2021-01-26T20:09:36.573054",
     "exception": false,
     "start_time": "2021-01-26T20:09:35.009601",
     "status": "completed"
    },
    "tags": []
   },
   "outputs": [
    {
     "name": "stdout",
     "output_type": "stream",
     "text": [
      "Collecting mnist\r\n"
     ]
    },
    {
     "name": "stdout",
     "output_type": "stream",
     "text": [
      "  Downloading mnist-0.2.2-py2.py3-none-any.whl (3.5 kB)\r\n",
      "Requirement already satisfied: numpy in /opt/hostedtoolcache/Python/3.6.12/x64/lib/python3.6/site-packages (from mnist) (1.19.5)\r\n"
     ]
    },
    {
     "name": "stdout",
     "output_type": "stream",
     "text": [
      "Installing collected packages: mnist\r\n"
     ]
    },
    {
     "name": "stdout",
     "output_type": "stream",
     "text": [
      "Successfully installed mnist-0.2.2\r\n",
      "\u001b[33mWARNING: You are using pip version 20.3.1; however, version 21.0 is available.\r\n",
      "You should consider upgrading via the '/opt/hostedtoolcache/Python/3.6.12/x64/bin/python -m pip install --upgrade pip' command.\u001b[0m\r\n"
     ]
    }
   ],
   "source": [
    "!pip install mnist "
   ]
  },
  {
   "cell_type": "markdown",
   "id": "stunning-extra",
   "metadata": {
    "papermill": {
     "duration": 0.029236,
     "end_time": "2021-01-26T20:09:36.632378",
     "exception": false,
     "start_time": "2021-01-26T20:09:36.603142",
     "status": "completed"
    },
    "tags": []
   },
   "source": [
    "#### Importing necessary libraries"
   ]
  },
  {
   "cell_type": "code",
   "execution_count": 2,
   "id": "wooden-france",
   "metadata": {
    "execution": {
     "iopub.execute_input": "2021-01-26T20:09:36.698920Z",
     "iopub.status.busy": "2021-01-26T20:09:36.698333Z",
     "iopub.status.idle": "2021-01-26T20:09:37.322834Z",
     "shell.execute_reply": "2021-01-26T20:09:37.321742Z"
    },
    "papermill": {
     "duration": 0.661461,
     "end_time": "2021-01-26T20:09:37.322981",
     "exception": false,
     "start_time": "2021-01-26T20:09:36.661520",
     "status": "completed"
    },
    "tags": []
   },
   "outputs": [],
   "source": [
    "%load_ext autoreload\n",
    "%autoreload 2\n",
    "\n",
    "%matplotlib inline\n",
    "import matplotlib.pyplot as plt\n",
    "\n",
    "import numpy as np\n",
    "import pandas as pd"
   ]
  },
  {
   "cell_type": "markdown",
   "id": "stunning-physics",
   "metadata": {
    "papermill": {
     "duration": 0.059968,
     "end_time": "2021-01-26T20:09:37.412733",
     "exception": false,
     "start_time": "2021-01-26T20:09:37.352765",
     "status": "completed"
    },
    "tags": []
   },
   "source": [
    "### Preparing the Data"
   ]
  },
  {
   "cell_type": "code",
   "execution_count": 3,
   "id": "unauthorized-remainder",
   "metadata": {
    "execution": {
     "iopub.execute_input": "2021-01-26T20:09:37.477598Z",
     "iopub.status.busy": "2021-01-26T20:09:37.476935Z",
     "iopub.status.idle": "2021-01-26T20:09:37.489020Z",
     "shell.execute_reply": "2021-01-26T20:09:37.488431Z"
    },
    "papermill": {
     "duration": 0.046442,
     "end_time": "2021-01-26T20:09:37.489147",
     "exception": false,
     "start_time": "2021-01-26T20:09:37.442705",
     "status": "completed"
    },
    "tags": []
   },
   "outputs": [],
   "source": [
    "import mnist"
   ]
  },
  {
   "cell_type": "code",
   "execution_count": 4,
   "id": "correct-antarctica",
   "metadata": {
    "execution": {
     "iopub.execute_input": "2021-01-26T20:09:37.552391Z",
     "iopub.status.busy": "2021-01-26T20:09:37.551806Z",
     "iopub.status.idle": "2021-01-26T20:09:38.321337Z",
     "shell.execute_reply": "2021-01-26T20:09:38.320610Z"
    },
    "papermill": {
     "duration": 0.803062,
     "end_time": "2021-01-26T20:09:38.321494",
     "exception": false,
     "start_time": "2021-01-26T20:09:37.518432",
     "status": "completed"
    },
    "tags": []
   },
   "outputs": [],
   "source": [
    "train_images = mnist.train_images()\n",
    "train_labels = mnist.train_labels()"
   ]
  },
  {
   "cell_type": "code",
   "execution_count": 5,
   "id": "musical-prospect",
   "metadata": {
    "execution": {
     "iopub.execute_input": "2021-01-26T20:09:38.393755Z",
     "iopub.status.busy": "2021-01-26T20:09:38.392932Z",
     "iopub.status.idle": "2021-01-26T20:09:38.409984Z",
     "shell.execute_reply": "2021-01-26T20:09:38.410565Z"
    },
    "papermill": {
     "duration": 0.056162,
     "end_time": "2021-01-26T20:09:38.410733",
     "exception": false,
     "start_time": "2021-01-26T20:09:38.354571",
     "status": "completed"
    },
    "tags": []
   },
   "outputs": [
    {
     "data": {
      "text/plain": [
       "((60000, 28, 28), (60000,))"
      ]
     },
     "execution_count": 5,
     "metadata": {},
     "output_type": "execute_result"
    }
   ],
   "source": [
    "train_images.shape, train_labels.shape"
   ]
  },
  {
   "cell_type": "code",
   "execution_count": 6,
   "id": "preliminary-elizabeth",
   "metadata": {
    "execution": {
     "iopub.execute_input": "2021-01-26T20:09:38.481364Z",
     "iopub.status.busy": "2021-01-26T20:09:38.480733Z",
     "iopub.status.idle": "2021-01-26T20:09:38.859615Z",
     "shell.execute_reply": "2021-01-26T20:09:38.858706Z"
    },
    "papermill": {
     "duration": 0.416119,
     "end_time": "2021-01-26T20:09:38.859829",
     "exception": false,
     "start_time": "2021-01-26T20:09:38.443710",
     "status": "completed"
    },
    "tags": []
   },
   "outputs": [],
   "source": [
    "test_images = mnist.test_images()\n",
    "test_labels = mnist.test_labels()"
   ]
  },
  {
   "cell_type": "code",
   "execution_count": 7,
   "id": "acknowledged-oxygen",
   "metadata": {
    "execution": {
     "iopub.execute_input": "2021-01-26T20:09:38.925069Z",
     "iopub.status.busy": "2021-01-26T20:09:38.924469Z",
     "iopub.status.idle": "2021-01-26T20:09:38.942329Z",
     "shell.execute_reply": "2021-01-26T20:09:38.942875Z"
    },
    "papermill": {
     "duration": 0.051635,
     "end_time": "2021-01-26T20:09:38.943037",
     "exception": false,
     "start_time": "2021-01-26T20:09:38.891402",
     "status": "completed"
    },
    "tags": []
   },
   "outputs": [
    {
     "data": {
      "text/plain": [
       "((10000, 28, 28), (10000,))"
      ]
     },
     "execution_count": 7,
     "metadata": {},
     "output_type": "execute_result"
    }
   ],
   "source": [
    "test_images.shape, test_labels.shape"
   ]
  },
  {
   "cell_type": "code",
   "execution_count": 8,
   "id": "innovative-organic",
   "metadata": {
    "execution": {
     "iopub.execute_input": "2021-01-26T20:09:39.013697Z",
     "iopub.status.busy": "2021-01-26T20:09:39.013077Z",
     "iopub.status.idle": "2021-01-26T20:09:39.163039Z",
     "shell.execute_reply": "2021-01-26T20:09:39.162523Z"
    },
    "papermill": {
     "duration": 0.18814,
     "end_time": "2021-01-26T20:09:39.163173",
     "exception": false,
     "start_time": "2021-01-26T20:09:38.975033",
     "status": "completed"
    },
    "tags": []
   },
   "outputs": [
    {
     "name": "stdout",
     "output_type": "stream",
     "text": [
      "2\n"
     ]
    },
    {
     "data": {
      "text/plain": [
       "<matplotlib.image.AxesImage at 0x7fba904089e8>"
      ]
     },
     "execution_count": 8,
     "metadata": {},
     "output_type": "execute_result"
    },
    {
     "data": {
      "image/png": "[encoded data removed]",
      "text/plain": [
       "<Figure size 432x288 with 1 Axes>"
      ]
     },
     "metadata": {
      "needs_background": "light"
     },
     "output_type": "display_data"
    }
   ],
   "source": [
    "image_index = 7776 # You may select anything up to 60,000\n",
    "print(train_labels[image_index]) \n",
    "plt.imshow(train_images[image_index], cmap='Greys')"
   ]
  },
  {
   "cell_type": "markdown",
   "id": "facial-modem",
   "metadata": {
    "papermill": {
     "duration": 0.031059,
     "end_time": "2021-01-26T20:09:39.225477",
     "exception": false,
     "start_time": "2021-01-26T20:09:39.194418",
     "status": "completed"
    },
    "tags": []
   },
   "source": [
    "## Filter data to get 3 and 8 out"
   ]
  },
  {
   "cell_type": "code",
   "execution_count": 9,
   "id": "thousand-acquisition",
   "metadata": {
    "execution": {
     "iopub.execute_input": "2021-01-26T20:09:39.298136Z",
     "iopub.status.busy": "2021-01-26T20:09:39.291370Z",
     "iopub.status.idle": "2021-01-26T20:09:39.307625Z",
     "shell.execute_reply": "2021-01-26T20:09:39.308085Z"
    },
    "papermill": {
     "duration": 0.051928,
     "end_time": "2021-01-26T20:09:39.308242",
     "exception": false,
     "start_time": "2021-01-26T20:09:39.256314",
     "status": "completed"
    },
    "tags": []
   },
   "outputs": [],
   "source": [
    "train_filter = np.where((train_labels == 3 ) | (train_labels == 8))\n",
    "test_filter = np.where((test_labels == 3) | (test_labels == 8))\n",
    "X_train, y_train = train_images[train_filter], train_labels[train_filter]\n",
    "X_test, y_test = test_images[test_filter], test_labels[test_filter]"
   ]
  },
  {
   "cell_type": "markdown",
   "id": "ruled-access",
   "metadata": {
    "papermill": {
     "duration": 0.031119,
     "end_time": "2021-01-26T20:09:39.370614",
     "exception": false,
     "start_time": "2021-01-26T20:09:39.339495",
     "status": "completed"
    },
    "tags": []
   },
   "source": [
    "We normalize the pixel values in the 0 to 1 range"
   ]
  },
  {
   "cell_type": "code",
   "execution_count": 10,
   "id": "isolated-denver",
   "metadata": {
    "execution": {
     "iopub.execute_input": "2021-01-26T20:09:39.437000Z",
     "iopub.status.busy": "2021-01-26T20:09:39.436398Z",
     "iopub.status.idle": "2021-01-26T20:09:39.487351Z",
     "shell.execute_reply": "2021-01-26T20:09:39.486202Z"
    },
    "papermill": {
     "duration": 0.085949,
     "end_time": "2021-01-26T20:09:39.487504",
     "exception": false,
     "start_time": "2021-01-26T20:09:39.401555",
     "status": "completed"
    },
    "tags": []
   },
   "outputs": [],
   "source": [
    "X_train = X_train/255.\n",
    "X_test = X_test/255."
   ]
  },
  {
   "cell_type": "markdown",
   "id": "perfect-summary",
   "metadata": {
    "papermill": {
     "duration": 0.030928,
     "end_time": "2021-01-26T20:09:39.549958",
     "exception": false,
     "start_time": "2021-01-26T20:09:39.519030",
     "status": "completed"
    },
    "tags": []
   },
   "source": [
    "Setup the labels as 1 (when the digit is 3) and 0 (when the digit is 8)"
   ]
  },
  {
   "cell_type": "code",
   "execution_count": 11,
   "id": "personalized-growing",
   "metadata": {
    "execution": {
     "iopub.execute_input": "2021-01-26T20:09:39.616361Z",
     "iopub.status.busy": "2021-01-26T20:09:39.615727Z",
     "iopub.status.idle": "2021-01-26T20:09:39.633430Z",
     "shell.execute_reply": "2021-01-26T20:09:39.632699Z"
    },
    "papermill": {
     "duration": 0.052688,
     "end_time": "2021-01-26T20:09:39.633609",
     "exception": false,
     "start_time": "2021-01-26T20:09:39.580921",
     "status": "completed"
    },
    "tags": []
   },
   "outputs": [],
   "source": [
    "y_train = 1*(y_train==3)\n",
    "y_test = 1*(y_test==3)"
   ]
  },
  {
   "cell_type": "code",
   "execution_count": 12,
   "id": "considered-virgin",
   "metadata": {
    "execution": {
     "iopub.execute_input": "2021-01-26T20:09:39.707243Z",
     "iopub.status.busy": "2021-01-26T20:09:39.706302Z",
     "iopub.status.idle": "2021-01-26T20:09:39.725358Z",
     "shell.execute_reply": "2021-01-26T20:09:39.725836Z"
    },
    "papermill": {
     "duration": 0.059397,
     "end_time": "2021-01-26T20:09:39.725987",
     "exception": false,
     "start_time": "2021-01-26T20:09:39.666590",
     "status": "completed"
    },
    "tags": []
   },
   "outputs": [
    {
     "data": {
      "text/plain": [
       "((11982, 28, 28), (1984, 28, 28))"
      ]
     },
     "execution_count": 12,
     "metadata": {},
     "output_type": "execute_result"
    }
   ],
   "source": [
    "X_train.shape, X_test.shape"
   ]
  },
  {
   "cell_type": "markdown",
   "id": "civilian-mobile",
   "metadata": {
    "papermill": {
     "duration": 0.032594,
     "end_time": "2021-01-26T20:09:39.790356",
     "exception": false,
     "start_time": "2021-01-26T20:09:39.757762",
     "status": "completed"
    },
    "tags": []
   },
   "source": [
    "### Reshape the input data to create a linear array"
   ]
  },
  {
   "cell_type": "code",
   "execution_count": 13,
   "id": "colonial-adams",
   "metadata": {
    "execution": {
     "iopub.execute_input": "2021-01-26T20:09:39.861981Z",
     "iopub.status.busy": "2021-01-26T20:09:39.861375Z",
     "iopub.status.idle": "2021-01-26T20:09:39.875767Z",
     "shell.execute_reply": "2021-01-26T20:09:39.875264Z"
    },
    "papermill": {
     "duration": 0.052522,
     "end_time": "2021-01-26T20:09:39.875899",
     "exception": false,
     "start_time": "2021-01-26T20:09:39.823377",
     "status": "completed"
    },
    "tags": []
   },
   "outputs": [
    {
     "data": {
      "text/plain": [
       "((11982, 784), (1984, 784))"
      ]
     },
     "execution_count": 13,
     "metadata": {},
     "output_type": "execute_result"
    }
   ],
   "source": [
    "X_train = X_train.reshape(X_train.shape[0], -1)\n",
    "X_test = X_test.reshape(X_test.shape[0], -1)\n",
    "X_train.shape, X_test.shape"
   ]
  },
  {
   "cell_type": "markdown",
   "id": "smart-details",
   "metadata": {
    "papermill": {
     "duration": 0.032104,
     "end_time": "2021-01-26T20:09:39.940899",
     "exception": false,
     "start_time": "2021-01-26T20:09:39.908795",
     "status": "completed"
    },
    "tags": []
   },
   "source": [
    "### Importing appropriate functions from 'Kudzu'"
   ]
  },
  {
   "cell_type": "code",
   "execution_count": 14,
   "id": "celtic-trial",
   "metadata": {
    "execution": {
     "iopub.execute_input": "2021-01-26T20:09:40.017318Z",
     "iopub.status.busy": "2021-01-26T20:09:40.016698Z",
     "iopub.status.idle": "2021-01-26T20:09:40.039235Z",
     "shell.execute_reply": "2021-01-26T20:09:40.038435Z"
    },
    "papermill": {
     "duration": 0.060331,
     "end_time": "2021-01-26T20:09:40.039403",
     "exception": false,
     "start_time": "2021-01-26T20:09:39.979072",
     "status": "completed"
    },
    "tags": []
   },
   "outputs": [],
   "source": [
    "from kudzu.layer import Sigmoid\n",
    "from kudzu.layer import Relu\n",
    "from kudzu.layer import Affine, Sigmoid\n",
    "\n",
    "from kudzu.model import Model\n",
    "from kudzu.train import Learner\n",
    "from kudzu.optim import GD\n",
    "from kudzu.data import Data, Dataloader, Sampler\n",
    "\n",
    "from kudzu.callbacks import AccCallback\n",
    "from kudzu.callbacks import ClfCallback\n",
    "\n",
    "from kudzu.loss import MSE"
   ]
  },
  {
   "cell_type": "markdown",
   "id": "coupled-customer",
   "metadata": {
    "papermill": {
     "duration": 0.032448,
     "end_time": "2021-01-26T20:09:40.105077",
     "exception": false,
     "start_time": "2021-01-26T20:09:40.072629",
     "status": "completed"
    },
    "tags": []
   },
   "source": [
    "### Let us create a `Config` class, to store important parameters. \n",
    "This class essentially plays the role of a dictionary."
   ]
  },
  {
   "cell_type": "code",
   "execution_count": 15,
   "id": "young-ceiling",
   "metadata": {
    "execution": {
     "iopub.execute_input": "2021-01-26T20:09:40.181933Z",
     "iopub.status.busy": "2021-01-26T20:09:40.181186Z",
     "iopub.status.idle": "2021-01-26T20:09:40.194461Z",
     "shell.execute_reply": "2021-01-26T20:09:40.193723Z"
    },
    "papermill": {
     "duration": 0.05673,
     "end_time": "2021-01-26T20:09:40.194608",
     "exception": false,
     "start_time": "2021-01-26T20:09:40.137878",
     "status": "completed"
    },
    "tags": []
   },
   "outputs": [],
   "source": [
    "class Config:\n",
    "    pass\n",
    "config = Config()\n",
    "config.lr = 0.001\n",
    "config.num_epochs = 251\n",
    "config.bs = 50"
   ]
  },
  {
   "cell_type": "markdown",
   "id": "according-mandate",
   "metadata": {
    "papermill": {
     "duration": 0.032475,
     "end_time": "2021-01-26T20:09:40.259547",
     "exception": false,
     "start_time": "2021-01-26T20:09:40.227072",
     "status": "completed"
    },
    "tags": []
   },
   "source": [
    "### Initializing data to the variables"
   ]
  },
  {
   "cell_type": "code",
   "execution_count": 16,
   "id": "academic-disposition",
   "metadata": {
    "execution": {
     "iopub.execute_input": "2021-01-26T20:09:40.333430Z",
     "iopub.status.busy": "2021-01-26T20:09:40.332211Z",
     "iopub.status.idle": "2021-01-26T20:09:40.347646Z",
     "shell.execute_reply": "2021-01-26T20:09:40.346970Z"
    },
    "papermill": {
     "duration": 0.05267,
     "end_time": "2021-01-26T20:09:40.347791",
     "exception": false,
     "start_time": "2021-01-26T20:09:40.295121",
     "status": "completed"
    },
    "tags": []
   },
   "outputs": [],
   "source": [
    "data = Data(X_train, y_train.reshape(-1,1))\n",
    "sampler = Sampler(data, config.bs, shuffle=True)\n",
    "\n",
    "dl = Dataloader(data, sampler)\n",
    "\n",
    "opt = GD(config.lr)\n",
    "loss = MSE()"
   ]
  },
  {
   "cell_type": "code",
   "execution_count": 17,
   "id": "featured-commission",
   "metadata": {
    "execution": {
     "iopub.execute_input": "2021-01-26T20:09:40.420054Z",
     "iopub.status.busy": "2021-01-26T20:09:40.418887Z",
     "iopub.status.idle": "2021-01-26T20:09:40.435477Z",
     "shell.execute_reply": "2021-01-26T20:09:40.434989Z"
    },
    "papermill": {
     "duration": 0.054702,
     "end_time": "2021-01-26T20:09:40.435614",
     "exception": false,
     "start_time": "2021-01-26T20:09:40.380912",
     "status": "completed"
    },
    "tags": []
   },
   "outputs": [],
   "source": [
    "training_xdata = X_train\n",
    "testing_xdata = X_test\n",
    "training_ydata = y_train.reshape(-1,1)\n",
    "testing_ydata = y_test.reshape(-1,1)"
   ]
  },
  {
   "cell_type": "markdown",
   "id": "played-safety",
   "metadata": {
    "papermill": {
     "duration": 0.031917,
     "end_time": "2021-01-26T20:09:40.499225",
     "exception": false,
     "start_time": "2021-01-26T20:09:40.467308",
     "status": "completed"
    },
    "tags": []
   },
   "source": [
    "### Running Models with the Training data\n",
    "Details about the network layers:\n",
    "- A first affine layer has 784 inputs and does 100 affine transforms. These are followed by a Relu\n",
    "- A second affine layer has 100 inputs from the 100 activations of the past layer, and does 100 affine transforms. These are followed by a Relu\n",
    "- A third affine layer has 100 activations and does 2 affine transformations to create an embedding for visualization. There is no non-linearity here.\n",
    "- A final \"logistic regression\" which has an affine transform from 2 inputs to 1 output, which is squeezed through a sigmoid.\n",
    "\n",
    "Help taken from Anshuman's Notebook."
   ]
  },
  {
   "cell_type": "code",
   "execution_count": 18,
   "id": "asian-bankruptcy",
   "metadata": {
    "execution": {
     "iopub.execute_input": "2021-01-26T20:09:40.568405Z",
     "iopub.status.busy": "2021-01-26T20:09:40.566980Z",
     "iopub.status.idle": "2021-01-26T20:09:40.586980Z",
     "shell.execute_reply": "2021-01-26T20:09:40.585941Z"
    },
    "papermill": {
     "duration": 0.05629,
     "end_time": "2021-01-26T20:09:40.587119",
     "exception": false,
     "start_time": "2021-01-26T20:09:40.530829",
     "status": "completed"
    },
    "tags": []
   },
   "outputs": [],
   "source": [
    "# layers for the Neural Network\n",
    "layers = [Affine(\"first\", 784, 100), Relu(\"first\"), Affine(\"second\", 100, 100), Relu(\"second\"), Affine(\"third\", 100, 2), Affine(\"final\", 2, 1), Sigmoid(\"final\")]\n",
    "model_nn = Model(layers)\n",
    "\n",
    "# layers for the Logistic Regression\n",
    "layers_lr = [Affine(\"logits\", 784, 1), Sigmoid(\"sigmoid\")]\n",
    "model_lr = Model(layers_lr)"
   ]
  },
  {
   "cell_type": "code",
   "execution_count": 19,
   "id": "removed-butler",
   "metadata": {
    "execution": {
     "iopub.execute_input": "2021-01-26T20:09:40.655238Z",
     "iopub.status.busy": "2021-01-26T20:09:40.654636Z",
     "iopub.status.idle": "2021-01-26T20:09:40.670305Z",
     "shell.execute_reply": "2021-01-26T20:09:40.669816Z"
    },
    "papermill": {
     "duration": 0.051455,
     "end_time": "2021-01-26T20:09:40.670441",
     "exception": false,
     "start_time": "2021-01-26T20:09:40.618986",
     "status": "completed"
    },
    "tags": []
   },
   "outputs": [],
   "source": [
    "# suffix _nn stands for Neural Network.\n",
    "learner_nn = Learner(loss, model_nn, opt, config.num_epochs)\n",
    "acc_nn = ClfCallback(learner_nn, config.bs, training_xdata , testing_xdata, training_ydata, testing_ydata)\n",
    "learner_nn.set_callbacks([acc_nn])"
   ]
  },
  {
   "cell_type": "code",
   "execution_count": 20,
   "id": "conceptual-throw",
   "metadata": {
    "execution": {
     "iopub.execute_input": "2021-01-26T20:09:40.739040Z",
     "iopub.status.busy": "2021-01-26T20:09:40.738454Z",
     "iopub.status.idle": "2021-01-26T20:11:08.229784Z",
     "shell.execute_reply": "2021-01-26T20:11:08.230610Z"
    },
    "papermill": {
     "duration": 87.528792,
     "end_time": "2021-01-26T20:11:08.230772",
     "exception": false,
     "start_time": "2021-01-26T20:09:40.701980",
     "status": "completed"
    },
    "tags": []
   },
   "outputs": [
    {
     "name": "stdout",
     "output_type": "stream",
     "text": [
      "====== Neural Network ======\n"
     ]
    },
    {
     "name": "stdout",
     "output_type": "stream",
     "text": [
      "Epoch 0, Loss 0.2467\n",
      "Training Accuracy: 0.7004, Testing Accuracy: 0.7056\n",
      "\n"
     ]
    },
    {
     "name": "stdout",
     "output_type": "stream",
     "text": [
      "Epoch 10, Loss 0.0819\n",
      "Training Accuracy: 0.9188, Testing Accuracy: 0.9214\n",
      "\n"
     ]
    },
    {
     "name": "stdout",
     "output_type": "stream",
     "text": [
      "Epoch 20, Loss 0.0523\n",
      "Training Accuracy: 0.9444, Testing Accuracy: 0.9516\n",
      "\n"
     ]
    },
    {
     "name": "stdout",
     "output_type": "stream",
     "text": [
      "Epoch 30, Loss 0.0415\n",
      "Training Accuracy: 0.9542, Testing Accuracy: 0.9592\n",
      "\n"
     ]
    },
    {
     "name": "stdout",
     "output_type": "stream",
     "text": [
      "Epoch 40, Loss 0.036\n",
      "Training Accuracy: 0.9607, Testing Accuracy: 0.9642\n",
      "\n"
     ]
    },
    {
     "name": "stdout",
     "output_type": "stream",
     "text": [
      "Epoch 50, Loss 0.0325\n",
      "Training Accuracy: 0.9641, Testing Accuracy: 0.9662\n",
      "\n"
     ]
    },
    {
     "name": "stdout",
     "output_type": "stream",
     "text": [
      "Epoch 60, Loss 0.0301\n",
      "Training Accuracy: 0.9663, Testing Accuracy: 0.9677\n",
      "\n"
     ]
    },
    {
     "name": "stdout",
     "output_type": "stream",
     "text": [
      "Epoch 70, Loss 0.0283\n",
      "Training Accuracy: 0.9681, Testing Accuracy: 0.9672\n",
      "\n"
     ]
    },
    {
     "name": "stdout",
     "output_type": "stream",
     "text": [
      "Epoch 80, Loss 0.0269\n",
      "Training Accuracy: 0.9696, Testing Accuracy: 0.9662\n",
      "\n"
     ]
    },
    {
     "name": "stdout",
     "output_type": "stream",
     "text": [
      "Epoch 90, Loss 0.0256\n",
      "Training Accuracy: 0.9710, Testing Accuracy: 0.9657\n",
      "\n"
     ]
    },
    {
     "name": "stdout",
     "output_type": "stream",
     "text": [
      "Epoch 100, Loss 0.0246\n",
      "Training Accuracy: 0.9720, Testing Accuracy: 0.9667\n",
      "\n"
     ]
    },
    {
     "name": "stdout",
     "output_type": "stream",
     "text": [
      "Epoch 110, Loss 0.0237\n",
      "Training Accuracy: 0.9732, Testing Accuracy: 0.9698\n",
      "\n"
     ]
    },
    {
     "name": "stdout",
     "output_type": "stream",
     "text": [
      "Epoch 120, Loss 0.0229\n",
      "Training Accuracy: 0.9735, Testing Accuracy: 0.9698\n",
      "\n"
     ]
    },
    {
     "name": "stdout",
     "output_type": "stream",
     "text": [
      "Epoch 130, Loss 0.0221\n",
      "Training Accuracy: 0.9747, Testing Accuracy: 0.9693\n",
      "\n"
     ]
    },
    {
     "name": "stdout",
     "output_type": "stream",
     "text": [
      "Epoch 140, Loss 0.0215\n",
      "Training Accuracy: 0.9758, Testing Accuracy: 0.9693\n",
      "\n"
     ]
    },
    {
     "name": "stdout",
     "output_type": "stream",
     "text": [
      "Epoch 150, Loss 0.0208\n",
      "Training Accuracy: 0.9765, Testing Accuracy: 0.9698\n",
      "\n"
     ]
    },
    {
     "name": "stdout",
     "output_type": "stream",
     "text": [
      "Epoch 160, Loss 0.0203\n",
      "Training Accuracy: 0.9772, Testing Accuracy: 0.9698\n",
      "\n"
     ]
    },
    {
     "name": "stdout",
     "output_type": "stream",
     "text": [
      "Epoch 170, Loss 0.0197\n",
      "Training Accuracy: 0.9778, Testing Accuracy: 0.9713\n",
      "\n"
     ]
    },
    {
     "name": "stdout",
     "output_type": "stream",
     "text": [
      "Epoch 180, Loss 0.0192\n",
      "Training Accuracy: 0.9786, Testing Accuracy: 0.9713\n",
      "\n"
     ]
    },
    {
     "name": "stdout",
     "output_type": "stream",
     "text": [
      "Epoch 190, Loss 0.0187\n",
      "Training Accuracy: 0.9798, Testing Accuracy: 0.9728\n",
      "\n"
     ]
    },
    {
     "name": "stdout",
     "output_type": "stream",
     "text": [
      "Epoch 200, Loss 0.0183\n",
      "Training Accuracy: 0.9802, Testing Accuracy: 0.9738\n",
      "\n"
     ]
    },
    {
     "name": "stdout",
     "output_type": "stream",
     "text": [
      "Epoch 210, Loss 0.0179\n",
      "Training Accuracy: 0.9808, Testing Accuracy: 0.9743\n",
      "\n"
     ]
    },
    {
     "name": "stdout",
     "output_type": "stream",
     "text": [
      "Epoch 220, Loss 0.0175\n",
      "Training Accuracy: 0.9816, Testing Accuracy: 0.9743\n",
      "\n"
     ]
    },
    {
     "name": "stdout",
     "output_type": "stream",
     "text": [
      "Epoch 230, Loss 0.0171\n",
      "Training Accuracy: 0.9825, Testing Accuracy: 0.9758\n",
      "\n"
     ]
    },
    {
     "name": "stdout",
     "output_type": "stream",
     "text": [
      "Epoch 240, Loss 0.0167\n",
      "Training Accuracy: 0.9829, Testing Accuracy: 0.9763\n",
      "\n"
     ]
    },
    {
     "name": "stdout",
     "output_type": "stream",
     "text": [
      "Epoch 250, Loss 0.0163\n",
      "Training Accuracy: 0.9834, Testing Accuracy: 0.9768\n",
      "\n"
     ]
    },
    {
     "data": {
      "text/plain": [
       "0.025923972397962274"
      ]
     },
     "execution_count": 20,
     "metadata": {},
     "output_type": "execute_result"
    }
   ],
   "source": [
    "print(\"====== Neural Network ======\")\n",
    "learner_nn.train_loop(dl)"
   ]
  },
  {
   "cell_type": "markdown",
   "id": "competent-suffering",
   "metadata": {
    "papermill": {
     "duration": 0.054975,
     "end_time": "2021-01-26T20:11:08.326335",
     "exception": false,
     "start_time": "2021-01-26T20:11:08.271360",
     "status": "completed"
    },
    "tags": []
   },
   "source": [
    "### Logistic Regression based Implementation."
   ]
  },
  {
   "cell_type": "code",
   "execution_count": 21,
   "id": "qualified-psychiatry",
   "metadata": {
    "execution": {
     "iopub.execute_input": "2021-01-26T20:11:08.410863Z",
     "iopub.status.busy": "2021-01-26T20:11:08.410259Z",
     "iopub.status.idle": "2021-01-26T20:11:08.421787Z",
     "shell.execute_reply": "2021-01-26T20:11:08.421160Z"
    },
    "papermill": {
     "duration": 0.056379,
     "end_time": "2021-01-26T20:11:08.421923",
     "exception": false,
     "start_time": "2021-01-26T20:11:08.365544",
     "status": "completed"
    },
    "tags": []
   },
   "outputs": [],
   "source": [
    "learner_lr = Learner(loss, model_lr, opt, config.num_epochs)\n",
    "acc_lr = ClfCallback(learner_lr, config.bs, training_xdata , testing_xdata, training_ydata, testing_ydata)\n",
    "learner_lr.set_callbacks([acc_lr])"
   ]
  },
  {
   "cell_type": "code",
   "execution_count": 22,
   "id": "average-outside",
   "metadata": {
    "execution": {
     "iopub.execute_input": "2021-01-26T20:11:08.511797Z",
     "iopub.status.busy": "2021-01-26T20:11:08.510457Z",
     "iopub.status.idle": "2021-01-26T20:11:23.837989Z",
     "shell.execute_reply": "2021-01-26T20:11:23.838486Z"
    },
    "papermill": {
     "duration": 15.3772,
     "end_time": "2021-01-26T20:11:23.838638",
     "exception": false,
     "start_time": "2021-01-26T20:11:08.461438",
     "status": "completed"
    },
    "tags": []
   },
   "outputs": [
    {
     "name": "stdout",
     "output_type": "stream",
     "text": [
      "====== Logistic Regression ======\n",
      "Epoch 0, Loss 0.2327\n",
      "Training Accuracy: 0.7178, Testing Accuracy: 0.7349\n",
      "\n"
     ]
    },
    {
     "name": "stdout",
     "output_type": "stream",
     "text": [
      "Epoch 10, Loss 0.1022\n",
      "Training Accuracy: 0.9120, Testing Accuracy: 0.9219\n",
      "\n"
     ]
    },
    {
     "name": "stdout",
     "output_type": "stream",
     "text": [
      "Epoch 20, Loss 0.0788\n",
      "Training Accuracy: 0.9303, Testing Accuracy: 0.9425\n",
      "\n"
     ]
    },
    {
     "name": "stdout",
     "output_type": "stream",
     "text": [
      "Epoch 30, Loss 0.068\n",
      "Training Accuracy: 0.9382, Testing Accuracy: 0.9481\n",
      "\n"
     ]
    },
    {
     "name": "stdout",
     "output_type": "stream",
     "text": [
      "Epoch 40, Loss 0.0614\n",
      "Training Accuracy: 0.9429, Testing Accuracy: 0.9521\n",
      "\n"
     ]
    },
    {
     "name": "stdout",
     "output_type": "stream",
     "text": [
      "Epoch 50, Loss 0.057\n",
      "Training Accuracy: 0.9463, Testing Accuracy: 0.9561\n",
      "\n"
     ]
    },
    {
     "name": "stdout",
     "output_type": "stream",
     "text": [
      "Epoch 60, Loss 0.0537\n",
      "Training Accuracy: 0.9483, Testing Accuracy: 0.9597\n",
      "\n"
     ]
    },
    {
     "name": "stdout",
     "output_type": "stream",
     "text": [
      "Epoch 70, Loss 0.0512\n",
      "Training Accuracy: 0.9503, Testing Accuracy: 0.9607\n",
      "\n"
     ]
    },
    {
     "name": "stdout",
     "output_type": "stream",
     "text": [
      "Epoch 80, Loss 0.0491\n",
      "Training Accuracy: 0.9513, Testing Accuracy: 0.9617\n",
      "\n"
     ]
    },
    {
     "name": "stdout",
     "output_type": "stream",
     "text": [
      "Epoch 90, Loss 0.0474\n",
      "Training Accuracy: 0.9524, Testing Accuracy: 0.9632\n",
      "\n"
     ]
    },
    {
     "name": "stdout",
     "output_type": "stream",
     "text": [
      "Epoch 100, Loss 0.046\n",
      "Training Accuracy: 0.9535, Testing Accuracy: 0.9642\n",
      "\n"
     ]
    },
    {
     "name": "stdout",
     "output_type": "stream",
     "text": [
      "Epoch 110, Loss 0.0448\n",
      "Training Accuracy: 0.9542, Testing Accuracy: 0.9652\n",
      "\n"
     ]
    },
    {
     "name": "stdout",
     "output_type": "stream",
     "text": [
      "Epoch 120, Loss 0.0437\n",
      "Training Accuracy: 0.9544, Testing Accuracy: 0.9652\n",
      "\n"
     ]
    },
    {
     "name": "stdout",
     "output_type": "stream",
     "text": [
      "Epoch 130, Loss 0.0428\n",
      "Training Accuracy: 0.9552, Testing Accuracy: 0.9647\n",
      "\n"
     ]
    },
    {
     "name": "stdout",
     "output_type": "stream",
     "text": [
      "Epoch 140, Loss 0.042\n",
      "Training Accuracy: 0.9561, Testing Accuracy: 0.9652\n",
      "\n"
     ]
    },
    {
     "name": "stdout",
     "output_type": "stream",
     "text": [
      "Epoch 150, Loss 0.0412\n",
      "Training Accuracy: 0.9564, Testing Accuracy: 0.9652\n",
      "\n"
     ]
    },
    {
     "name": "stdout",
     "output_type": "stream",
     "text": [
      "Epoch 160, Loss 0.0406\n",
      "Training Accuracy: 0.9566, Testing Accuracy: 0.9662\n",
      "\n"
     ]
    },
    {
     "name": "stdout",
     "output_type": "stream",
     "text": [
      "Epoch 170, Loss 0.04\n",
      "Training Accuracy: 0.9571, Testing Accuracy: 0.9672\n",
      "\n"
     ]
    },
    {
     "name": "stdout",
     "output_type": "stream",
     "text": [
      "Epoch 180, Loss 0.0394\n",
      "Training Accuracy: 0.9576, Testing Accuracy: 0.9682\n",
      "\n"
     ]
    },
    {
     "name": "stdout",
     "output_type": "stream",
     "text": [
      "Epoch 190, Loss 0.0389\n",
      "Training Accuracy: 0.9579, Testing Accuracy: 0.9672\n",
      "\n"
     ]
    },
    {
     "name": "stdout",
     "output_type": "stream",
     "text": [
      "Epoch 200, Loss 0.0384\n",
      "Training Accuracy: 0.9582, Testing Accuracy: 0.9667\n",
      "\n"
     ]
    },
    {
     "name": "stdout",
     "output_type": "stream",
     "text": [
      "Epoch 210, Loss 0.038\n",
      "Training Accuracy: 0.9584, Testing Accuracy: 0.9677\n",
      "\n"
     ]
    },
    {
     "name": "stdout",
     "output_type": "stream",
     "text": [
      "Epoch 220, Loss 0.0376\n",
      "Training Accuracy: 0.9587, Testing Accuracy: 0.9677\n",
      "\n"
     ]
    },
    {
     "name": "stdout",
     "output_type": "stream",
     "text": [
      "Epoch 230, Loss 0.0372\n",
      "Training Accuracy: 0.9590, Testing Accuracy: 0.9677\n",
      "\n"
     ]
    },
    {
     "name": "stdout",
     "output_type": "stream",
     "text": [
      "Epoch 240, Loss 0.0368\n",
      "Training Accuracy: 0.9594, Testing Accuracy: 0.9677\n",
      "\n"
     ]
    },
    {
     "name": "stdout",
     "output_type": "stream",
     "text": [
      "Epoch 250, Loss 0.0365\n",
      "Training Accuracy: 0.9600, Testing Accuracy: 0.9682\n",
      "\n"
     ]
    },
    {
     "data": {
      "text/plain": [
       "0.01683227446862798"
      ]
     },
     "execution_count": 22,
     "metadata": {},
     "output_type": "execute_result"
    }
   ],
   "source": [
    "print(\"====== Logistic Regression ======\")\n",
    "learner_lr.train_loop(dl)"
   ]
  },
  {
   "cell_type": "markdown",
   "id": "adjusted-possible",
   "metadata": {
    "papermill": {
     "duration": 0.04747,
     "end_time": "2021-01-26T20:11:23.934307",
     "exception": false,
     "start_time": "2021-01-26T20:11:23.886837",
     "status": "completed"
    },
    "tags": []
   },
   "source": [
    "### Comparing results of NN and LR"
   ]
  },
  {
   "cell_type": "code",
   "execution_count": 23,
   "id": "mental-multimedia",
   "metadata": {
    "execution": {
     "iopub.execute_input": "2021-01-26T20:11:24.051332Z",
     "iopub.status.busy": "2021-01-26T20:11:24.046855Z",
     "iopub.status.idle": "2021-01-26T20:11:24.280679Z",
     "shell.execute_reply": "2021-01-26T20:11:24.281446Z"
    },
    "papermill": {
     "duration": 0.298921,
     "end_time": "2021-01-26T20:11:24.281610",
     "exception": false,
     "start_time": "2021-01-26T20:11:23.982689",
     "status": "completed"
    },
    "tags": []
   },
   "outputs": [
    {
     "data": {
      "text/plain": [
       "<matplotlib.legend.Legend at 0x7fba837c13c8>"
      ]
     },
     "execution_count": 23,
     "metadata": {},
     "output_type": "execute_result"
    },
    {
     "data": {
      "image/png": "[encoded data removed]",
      "text/plain": [
       "<Figure size 1080x720 with 1 Axes>"
      ]
     },
     "metadata": {
      "needs_background": "light"
     },
     "output_type": "display_data"
    }
   ],
   "source": [
    "plt.figure(figsize=(15,10))\n",
    "\n",
    "# Neural Network plots\n",
    "plt.plot(acc_nn.accuracies, 'r-', label = \"Training Accuracies - NN\")\n",
    "plt.plot(acc_nn.test_accuracies, 'g-', label = \"Testing Accuracies - NN\")\n",
    "\n",
    "# Logistic Regression plots\n",
    "plt.plot(acc_lr.accuracies, 'k-', label = \"Training Accuracies - LR\")\n",
    "plt.plot(acc_lr.test_accuracies, 'b-', label = \"Testing Accuracies - LR\")\n",
    "\n",
    "plt.ylim(0.8, 1)\n",
    "\n",
    "plt.legend()\n",
    "\n"
   ]
  },
  {
   "cell_type": "markdown",
   "id": "sexual-flesh",
   "metadata": {
    "papermill": {
     "duration": 0.049263,
     "end_time": "2021-01-26T20:11:24.380363",
     "exception": false,
     "start_time": "2021-01-26T20:11:24.331100",
     "status": "completed"
    },
    "tags": []
   },
   "source": [
    "### From the plot, we can observe the following:\n",
    "- Neural Network achieves higher accuracy than the Logistic Regression model.\n",
    "- This apparently, is because of overfitting, i.e. NN captures more noise than data.\n",
    "- Testing accuracy of NN drops below the Training accuracy at higher epochs. This explains the over-fitting on training data.\n",
    "- Logistic Regression gives a reliable accuracy, without the above mentioned problem.\n"
   ]
  },
  {
   "cell_type": "markdown",
   "id": "institutional-pacific",
   "metadata": {
    "papermill": {
     "duration": 0.049024,
     "end_time": "2021-01-26T20:11:24.478258",
     "exception": false,
     "start_time": "2021-01-26T20:11:24.429234",
     "status": "completed"
    },
    "tags": []
   },
   "source": [
    "### Moving till the last but one layer (excluding it).\n",
    "#### Plotting the outputs of this layer of the NN."
   ]
  },
  {
   "cell_type": "code",
   "execution_count": 24,
   "id": "economic-server",
   "metadata": {
    "execution": {
     "iopub.execute_input": "2021-01-26T20:11:24.582280Z",
     "iopub.status.busy": "2021-01-26T20:11:24.581621Z",
     "iopub.status.idle": "2021-01-26T20:11:24.595135Z",
     "shell.execute_reply": "2021-01-26T20:11:24.595721Z"
    },
    "papermill": {
     "duration": 0.06921,
     "end_time": "2021-01-26T20:11:24.595881",
     "exception": false,
     "start_time": "2021-01-26T20:11:24.526671",
     "status": "completed"
    },
    "tags": []
   },
   "outputs": [],
   "source": [
    "model_new = Model(layers[:-2])"
   ]
  },
  {
   "cell_type": "code",
   "execution_count": 25,
   "id": "varied-upgrade",
   "metadata": {
    "execution": {
     "iopub.execute_input": "2021-01-26T20:11:24.706533Z",
     "iopub.status.busy": "2021-01-26T20:11:24.705949Z",
     "iopub.status.idle": "2021-01-26T20:11:24.725707Z",
     "shell.execute_reply": "2021-01-26T20:11:24.726195Z"
    },
    "papermill": {
     "duration": 0.077468,
     "end_time": "2021-01-26T20:11:24.726348",
     "exception": false,
     "start_time": "2021-01-26T20:11:24.648880",
     "status": "completed"
    },
    "tags": []
   },
   "outputs": [],
   "source": [
    "plot_testing = model_new(testing_xdata)"
   ]
  },
  {
   "cell_type": "code",
   "execution_count": 26,
   "id": "specific-handling",
   "metadata": {
    "execution": {
     "iopub.execute_input": "2021-01-26T20:11:24.834802Z",
     "iopub.status.busy": "2021-01-26T20:11:24.834221Z",
     "iopub.status.idle": "2021-01-26T20:11:25.056004Z",
     "shell.execute_reply": "2021-01-26T20:11:25.055492Z"
    },
    "papermill": {
     "duration": 0.280234,
     "end_time": "2021-01-26T20:11:25.056136",
     "exception": false,
     "start_time": "2021-01-26T20:11:24.775902",
     "status": "completed"
    },
    "tags": []
   },
   "outputs": [
    {
     "data": {
      "text/plain": [
       "Text(0.5, 1.0, 'Outputs')"
      ]
     },
     "execution_count": 26,
     "metadata": {},
     "output_type": "execute_result"
    },
    {
     "data": {
      "image/png": "[encoded data removed]",
      "text/plain": [
       "<Figure size 576x504 with 1 Axes>"
      ]
     },
     "metadata": {
      "needs_background": "light"
     },
     "output_type": "display_data"
    }
   ],
   "source": [
    "plt.figure(figsize=(8,7))\n",
    "plt.scatter(plot_testing[:,0], plot_testing[:,1], alpha = 0.1, c = y_test.ravel());\n",
    "plt.title('Outputs')"
   ]
  },
  {
   "cell_type": "markdown",
   "id": "described-knowing",
   "metadata": {
    "papermill": {
     "duration": 0.051793,
     "end_time": "2021-01-26T20:11:25.160392",
     "exception": false,
     "start_time": "2021-01-26T20:11:25.108599",
     "status": "completed"
    },
    "tags": []
   },
   "source": [
    "### Plotting probability contours"
   ]
  },
  {
   "cell_type": "code",
   "execution_count": 27,
   "id": "needed-growing",
   "metadata": {
    "execution": {
     "iopub.execute_input": "2021-01-26T20:11:25.269397Z",
     "iopub.status.busy": "2021-01-26T20:11:25.268780Z",
     "iopub.status.idle": "2021-01-26T20:11:25.284310Z",
     "shell.execute_reply": "2021-01-26T20:11:25.283821Z"
    },
    "papermill": {
     "duration": 0.07184,
     "end_time": "2021-01-26T20:11:25.284443",
     "exception": false,
     "start_time": "2021-01-26T20:11:25.212603",
     "status": "completed"
    },
    "tags": []
   },
   "outputs": [],
   "source": [
    "model_prob = Model(layers[-2:]) "
   ]
  },
  {
   "cell_type": "code",
   "execution_count": 28,
   "id": "introductory-enforcement",
   "metadata": {
    "execution": {
     "iopub.execute_input": "2021-01-26T20:11:25.393944Z",
     "iopub.status.busy": "2021-01-26T20:11:25.393323Z",
     "iopub.status.idle": "2021-01-26T20:11:25.407490Z",
     "shell.execute_reply": "2021-01-26T20:11:25.407997Z"
    },
    "papermill": {
     "duration": 0.071728,
     "end_time": "2021-01-26T20:11:25.408143",
     "exception": false,
     "start_time": "2021-01-26T20:11:25.336415",
     "status": "completed"
    },
    "tags": []
   },
   "outputs": [],
   "source": [
    "# Adjust the x and y ranges according to the above generated plot.\n",
    "x_range = np.linspace(-4, 1, 100) \n",
    "y_range = np.linspace(-6, 6, 100) \n",
    "x_grid, y_grid = np.meshgrid(x_range, y_range) # x_grid and y_grig are of size 100 X 100\n",
    "\n",
    "# converting x_grid and y_grid to continuous arrays\n",
    "x_grid_flat = np.ravel(x_grid)\n",
    "y_grid_flat = np.ravel(y_grid)\n",
    "\n",
    "# The last layer of the current model takes two columns as input. Hence transpose of np.vstack() is required.\n",
    "X = np.vstack((x_grid_flat, y_grid_flat)).T\n",
    "\n",
    "# x_grid and y_grid are of size 100 x 100\n",
    "probability_contour = model_prob(X).reshape(100,100) "
   ]
  },
  {
   "cell_type": "code",
   "execution_count": 29,
   "id": "understood-landing",
   "metadata": {
    "execution": {
     "iopub.execute_input": "2021-01-26T20:11:25.544128Z",
     "iopub.status.busy": "2021-01-26T20:11:25.543507Z",
     "iopub.status.idle": "2021-01-26T20:11:25.809335Z",
     "shell.execute_reply": "2021-01-26T20:11:25.809803Z"
    },
    "papermill": {
     "duration": 0.323119,
     "end_time": "2021-01-26T20:11:25.809965",
     "exception": false,
     "start_time": "2021-01-26T20:11:25.486846",
     "status": "completed"
    },
    "tags": []
   },
   "outputs": [
    {
     "data": {
      "image/png": "[encoded data removed]",
      "text/plain": [
       "<Figure size 720x648 with 1 Axes>"
      ]
     },
     "metadata": {
      "needs_background": "light"
     },
     "output_type": "display_data"
    }
   ],
   "source": [
    "plt.figure(figsize=(10,9))\n",
    "plt.scatter(plot_testing[:,0], plot_testing[:,1], alpha = 0.1, c = y_test.ravel())\n",
    "contours = plt.contour(x_grid,y_grid,probability_contour)\n",
    "plt.title('Probability Contours')\n",
    "plt.clabel(contours, inline = True );"
   ]
  }
 ],
 "metadata": {
  "kernelspec": {
   "display_name": "Python 3",
   "language": "python",
   "name": "python3"
  },
  "language_info": {
   "codemirror_mode": {
    "name": "ipython",
    "version": 3
   },
   "file_extension": ".py",
   "mimetype": "text/x-python",
   "name": "python",
   "nbconvert_exporter": "python",
   "pygments_lexer": "ipython3",
   "version": "3.6.12"
  },
  "papermill": {
   "duration": 113.376283,
   "end_time": "2021-01-26T20:11:27.169247",
   "environment_variables": {},
   "exception": null,
   "input_path": "2020-08-11-NeuralNetwork.ipynb",
   "output_path": "2020-08-11-NeuralNetwork.ipynb",
   "parameters": {},
   "start_time": "2021-01-26T20:09:33.792964",
   "version": "2.1.2"
  }
 },
 "nbformat": 4,
 "nbformat_minor": 5
}