{
 "cells": [
  {
   "cell_type": "markdown",
   "metadata": {
    "papermill": {
     "duration": 0.032055,
     "end_time": "2020-10-29T20:04:24.582564",
     "exception": false,
     "start_time": "2020-10-29T20:04:24.550509",
     "status": "completed"
    },
    "tags": []
   },
   "source": [
    "# \"A Basic Neural Network: Differentiate Hand-Written Digits\"\n",
    "\n",
    "- badges: true\n",
    "- author: Akshith Sriram"
   ]
  },
  {
   "cell_type": "markdown",
   "metadata": {
    "papermill": {
     "duration": 0.027508,
     "end_time": "2020-10-29T20:04:24.638550",
     "exception": false,
     "start_time": "2020-10-29T20:04:24.611042",
     "status": "completed"
    },
    "tags": []
   },
   "source": [
    "### Key Objectives:\n",
    "- Building a neural network that differentiates two hand-written digits 3 and 8.\n",
    "- Comparing the results of this Neural Network (NN) to that of a Logistic Regression (LR) model.\n",
    "\n",
    "### Requirements:\n",
    "- 'Kudzu' : A neural network library that was designed during our course by [Univ.AI](www.univ.ai). \n",
    "- MNIST Database\n",
    "\n",
    "If MNIST is not installed, use the command `!pip install mnist` given below.\n",
    "It can be run both from the command line and Jupyter Notebook."
   ]
  },
  {
   "cell_type": "code",
   "execution_count": 1,
   "metadata": {
    "execution": {
     "iopub.execute_input": "2020-10-29T20:04:24.702885Z",
     "iopub.status.busy": "2020-10-29T20:04:24.702196Z",
     "iopub.status.idle": "2020-10-29T20:04:26.245629Z",
     "shell.execute_reply": "2020-10-29T20:04:26.244967Z"
    },
    "papermill": {
     "duration": 1.577635,
     "end_time": "2020-10-29T20:04:26.245797",
     "exception": false,
     "start_time": "2020-10-29T20:04:24.668162",
     "status": "completed"
    },
    "tags": []
   },
   "outputs": [
    {
     "name": "stdout",
     "output_type": "stream",
     "text": [
      "Collecting mnist\r\n"
     ]
    },
    {
     "name": "stdout",
     "output_type": "stream",
     "text": [
      "  Downloading mnist-0.2.2-py2.py3-none-any.whl (3.5 kB)\r\n",
      "Requirement already satisfied: numpy in /opt/hostedtoolcache/Python/3.6.12/x64/lib/python3.6/site-packages (from mnist) (1.19.3)\r\n"
     ]
    },
    {
     "name": "stdout",
     "output_type": "stream",
     "text": [
      "Installing collected packages: mnist\r\n"
     ]
    },
    {
     "name": "stdout",
     "output_type": "stream",
     "text": [
      "Successfully installed mnist-0.2.2\r\n"
     ]
    }
   ],
   "source": [
    "!pip install mnist "
   ]
  },
  {
   "cell_type": "markdown",
   "metadata": {
    "papermill": {
     "duration": 0.031018,
     "end_time": "2020-10-29T20:04:26.306183",
     "exception": false,
     "start_time": "2020-10-29T20:04:26.275165",
     "status": "completed"
    },
    "tags": []
   },
   "source": [
    "#### Importing necessary libraries"
   ]
  },
  {
   "cell_type": "code",
   "execution_count": 2,
   "metadata": {
    "execution": {
     "iopub.execute_input": "2020-10-29T20:04:26.373618Z",
     "iopub.status.busy": "2020-10-29T20:04:26.372929Z",
     "iopub.status.idle": "2020-10-29T20:04:26.961146Z",
     "shell.execute_reply": "2020-10-29T20:04:26.960606Z"
    },
    "papermill": {
     "duration": 0.624909,
     "end_time": "2020-10-29T20:04:26.961304",
     "exception": false,
     "start_time": "2020-10-29T20:04:26.336395",
     "status": "completed"
    },
    "tags": []
   },
   "outputs": [],
   "source": [
    "%load_ext autoreload\n",
    "%autoreload 2\n",
    "\n",
    "%matplotlib inline\n",
    "import matplotlib.pyplot as plt\n",
    "\n",
    "import numpy as np\n",
    "import pandas as pd"
   ]
  },
  {
   "cell_type": "markdown",
   "metadata": {
    "papermill": {
     "duration": 0.031133,
     "end_time": "2020-10-29T20:04:27.023486",
     "exception": false,
     "start_time": "2020-10-29T20:04:26.992353",
     "status": "completed"
    },
    "tags": []
   },
   "source": [
    "### Preparing the Data"
   ]
  },
  {
   "cell_type": "code",
   "execution_count": 3,
   "metadata": {
    "execution": {
     "iopub.execute_input": "2020-10-29T20:04:27.088179Z",
     "iopub.status.busy": "2020-10-29T20:04:27.087507Z",
     "iopub.status.idle": "2020-10-29T20:04:27.098679Z",
     "shell.execute_reply": "2020-10-29T20:04:27.099269Z"
    },
    "papermill": {
     "duration": 0.046574,
     "end_time": "2020-10-29T20:04:27.099412",
     "exception": false,
     "start_time": "2020-10-29T20:04:27.052838",
     "status": "completed"
    },
    "tags": []
   },
   "outputs": [],
   "source": [
    "import mnist"
   ]
  },
  {
   "cell_type": "code",
   "execution_count": 4,
   "metadata": {
    "execution": {
     "iopub.execute_input": "2020-10-29T20:04:27.162900Z",
     "iopub.status.busy": "2020-10-29T20:04:27.162227Z",
     "iopub.status.idle": "2020-10-29T20:04:27.872115Z",
     "shell.execute_reply": "2020-10-29T20:04:27.872621Z"
    },
    "papermill": {
     "duration": 0.745274,
     "end_time": "2020-10-29T20:04:27.872814",
     "exception": false,
     "start_time": "2020-10-29T20:04:27.127540",
     "status": "completed"
    },
    "tags": []
   },
   "outputs": [],
   "source": [
    "train_images = mnist.train_images()\n",
    "train_labels = mnist.train_labels()"
   ]
  },
  {
   "cell_type": "code",
   "execution_count": 5,
   "metadata": {
    "execution": {
     "iopub.execute_input": "2020-10-29T20:04:27.938602Z",
     "iopub.status.busy": "2020-10-29T20:04:27.937948Z",
     "iopub.status.idle": "2020-10-29T20:04:27.950874Z",
     "shell.execute_reply": "2020-10-29T20:04:27.950353Z"
    },
    "papermill": {
     "duration": 0.048659,
     "end_time": "2020-10-29T20:04:27.951003",
     "exception": false,
     "start_time": "2020-10-29T20:04:27.902344",
     "status": "completed"
    },
    "tags": []
   },
   "outputs": [
    {
     "data": {
      "text/plain": [
       "((60000, 28, 28), (60000,))"
      ]
     },
     "execution_count": 5,
     "metadata": {},
     "output_type": "execute_result"
    }
   ],
   "source": [
    "train_images.shape, train_labels.shape"
   ]
  },
  {
   "cell_type": "code",
   "execution_count": 6,
   "metadata": {
    "execution": {
     "iopub.execute_input": "2020-10-29T20:04:28.018870Z",
     "iopub.status.busy": "2020-10-29T20:04:28.018225Z",
     "iopub.status.idle": "2020-10-29T20:04:28.278771Z",
     "shell.execute_reply": "2020-10-29T20:04:28.277806Z"
    },
    "papermill": {
     "duration": 0.298376,
     "end_time": "2020-10-29T20:04:28.278933",
     "exception": false,
     "start_time": "2020-10-29T20:04:27.980557",
     "status": "completed"
    },
    "tags": []
   },
   "outputs": [],
   "source": [
    "test_images = mnist.test_images()\n",
    "test_labels = mnist.test_labels()"
   ]
  },
  {
   "cell_type": "code",
   "execution_count": 7,
   "metadata": {
    "execution": {
     "iopub.execute_input": "2020-10-29T20:04:28.354380Z",
     "iopub.status.busy": "2020-10-29T20:04:28.353800Z",
     "iopub.status.idle": "2020-10-29T20:04:28.359694Z",
     "shell.execute_reply": "2020-10-29T20:04:28.359167Z"
    },
    "papermill": {
     "duration": 0.052,
     "end_time": "2020-10-29T20:04:28.359837",
     "exception": false,
     "start_time": "2020-10-29T20:04:28.307837",
     "status": "completed"
    },
    "tags": []
   },
   "outputs": [
    {
     "data": {
      "text/plain": [
       "((10000, 28, 28), (10000,))"
      ]
     },
     "execution_count": 7,
     "metadata": {},
     "output_type": "execute_result"
    }
   ],
   "source": [
    "test_images.shape, test_labels.shape"
   ]
  },
  {
   "cell_type": "code",
   "execution_count": 8,
   "metadata": {
    "execution": {
     "iopub.execute_input": "2020-10-29T20:04:28.428916Z",
     "iopub.status.busy": "2020-10-29T20:04:28.422035Z",
     "iopub.status.idle": "2020-10-29T20:04:28.600560Z",
     "shell.execute_reply": "2020-10-29T20:04:28.601113Z"
    },
    "papermill": {
     "duration": 0.213226,
     "end_time": "2020-10-29T20:04:28.601280",
     "exception": false,
     "start_time": "2020-10-29T20:04:28.388054",
     "status": "completed"
    },
    "tags": []
   },
   "outputs": [
    {
     "name": "stdout",
     "output_type": "stream",
     "text": [
      "2\n"
     ]
    },
    {
     "data": {
      "text/plain": [
       "<matplotlib.image.AxesImage at 0x7f047fdc7978>"
      ]
     },
     "execution_count": 8,
     "metadata": {},
     "output_type": "execute_result"
    },
    {
     "data": {
      "image/png": "[encoded data removed]",
      "text/plain": [
       "<Figure size 432x288 with 1 Axes>"
      ]
     },
     "metadata": {
      "needs_background": "light"
     },
     "output_type": "display_data"
    }
   ],
   "source": [
    "image_index = 7776 # You may select anything up to 60,000\n",
    "print(train_labels[image_index]) \n",
    "plt.imshow(train_images[image_index], cmap='Greys')"
   ]
  },
  {
   "cell_type": "markdown",
   "metadata": {
    "papermill": {
     "duration": 0.031129,
     "end_time": "2020-10-29T20:04:28.664573",
     "exception": false,
     "start_time": "2020-10-29T20:04:28.633444",
     "status": "completed"
    },
    "tags": []
   },
   "source": [
    "## Filter data to get 3 and 8 out"
   ]
  },
  {
   "cell_type": "code",
   "execution_count": 9,
   "metadata": {
    "execution": {
     "iopub.execute_input": "2020-10-29T20:04:28.733709Z",
     "iopub.status.busy": "2020-10-29T20:04:28.733013Z",
     "iopub.status.idle": "2020-10-29T20:04:28.754560Z",
     "shell.execute_reply": "2020-10-29T20:04:28.753935Z"
    },
    "papermill": {
     "duration": 0.056043,
     "end_time": "2020-10-29T20:04:28.754824",
     "exception": false,
     "start_time": "2020-10-29T20:04:28.698781",
     "status": "completed"
    },
    "tags": []
   },
   "outputs": [],
   "source": [
    "train_filter = np.where((train_labels == 3 ) | (train_labels == 8))\n",
    "test_filter = np.where((test_labels == 3) | (test_labels == 8))\n",
    "X_train, y_train = train_images[train_filter], train_labels[train_filter]\n",
    "X_test, y_test = test_images[test_filter], test_labels[test_filter]"
   ]
  },
  {
   "cell_type": "markdown",
   "metadata": {
    "papermill": {
     "duration": 0.03236,
     "end_time": "2020-10-29T20:04:28.824326",
     "exception": false,
     "start_time": "2020-10-29T20:04:28.791966",
     "status": "completed"
    },
    "tags": []
   },
   "source": [
    "We normalize the pixel values in the 0 to 1 range"
   ]
  },
  {
   "cell_type": "code",
   "execution_count": 10,
   "metadata": {
    "execution": {
     "iopub.execute_input": "2020-10-29T20:04:28.897306Z",
     "iopub.status.busy": "2020-10-29T20:04:28.896561Z",
     "iopub.status.idle": "2020-10-29T20:04:28.954334Z",
     "shell.execute_reply": "2020-10-29T20:04:28.953561Z"
    },
    "papermill": {
     "duration": 0.098456,
     "end_time": "2020-10-29T20:04:28.954515",
     "exception": false,
     "start_time": "2020-10-29T20:04:28.856059",
     "status": "completed"
    },
    "tags": []
   },
   "outputs": [],
   "source": [
    "X_train = X_train/255.\n",
    "X_test = X_test/255."
   ]
  },
  {
   "cell_type": "markdown",
   "metadata": {
    "papermill": {
     "duration": 0.03153,
     "end_time": "2020-10-29T20:04:29.017628",
     "exception": false,
     "start_time": "2020-10-29T20:04:28.986098",
     "status": "completed"
    },
    "tags": []
   },
   "source": [
    "Setup the labels as 1 (when the digit is 3) and 0 (when the digit is 8)"
   ]
  },
  {
   "cell_type": "code",
   "execution_count": 11,
   "metadata": {
    "execution": {
     "iopub.execute_input": "2020-10-29T20:04:29.086207Z",
     "iopub.status.busy": "2020-10-29T20:04:29.084020Z",
     "iopub.status.idle": "2020-10-29T20:04:29.096958Z",
     "shell.execute_reply": "2020-10-29T20:04:29.097551Z"
    },
    "papermill": {
     "duration": 0.049127,
     "end_time": "2020-10-29T20:04:29.097694",
     "exception": false,
     "start_time": "2020-10-29T20:04:29.048567",
     "status": "completed"
    },
    "tags": []
   },
   "outputs": [],
   "source": [
    "y_train = 1*(y_train==3)\n",
    "y_test = 1*(y_test==3)"
   ]
  },
  {
   "cell_type": "code",
   "execution_count": 12,
   "metadata": {
    "execution": {
     "iopub.execute_input": "2020-10-29T20:04:29.165086Z",
     "iopub.status.busy": "2020-10-29T20:04:29.164253Z",
     "iopub.status.idle": "2020-10-29T20:04:29.177877Z",
     "shell.execute_reply": "2020-10-29T20:04:29.178352Z"
    },
    "papermill": {
     "duration": 0.052102,
     "end_time": "2020-10-29T20:04:29.178534",
     "exception": false,
     "start_time": "2020-10-29T20:04:29.126432",
     "status": "completed"
    },
    "tags": []
   },
   "outputs": [
    {
     "data": {
      "text/plain": [
       "((11982, 28, 28), (1984, 28, 28))"
      ]
     },
     "execution_count": 12,
     "metadata": {},
     "output_type": "execute_result"
    }
   ],
   "source": [
    "X_train.shape, X_test.shape"
   ]
  },
  {
   "cell_type": "markdown",
   "metadata": {
    "papermill": {
     "duration": 0.0297,
     "end_time": "2020-10-29T20:04:29.239757",
     "exception": false,
     "start_time": "2020-10-29T20:04:29.210057",
     "status": "completed"
    },
    "tags": []
   },
   "source": [
    "### Reshape the input data to create a linear array"
   ]
  },
  {
   "cell_type": "code",
   "execution_count": 13,
   "metadata": {
    "execution": {
     "iopub.execute_input": "2020-10-29T20:04:29.306680Z",
     "iopub.status.busy": "2020-10-29T20:04:29.306051Z",
     "iopub.status.idle": "2020-10-29T20:04:29.332080Z",
     "shell.execute_reply": "2020-10-29T20:04:29.331555Z"
    },
    "papermill": {
     "duration": 0.061685,
     "end_time": "2020-10-29T20:04:29.332250",
     "exception": false,
     "start_time": "2020-10-29T20:04:29.270565",
     "status": "completed"
    },
    "tags": []
   },
   "outputs": [
    {
     "data": {
      "text/plain": [
       "((11982, 784), (1984, 784))"
      ]
     },
     "execution_count": 13,
     "metadata": {},
     "output_type": "execute_result"
    }
   ],
   "source": [
    "X_train = X_train.reshape(X_train.shape[0], -1)\n",
    "X_test = X_test.reshape(X_test.shape[0], -1)\n",
    "X_train.shape, X_test.shape"
   ]
  },
  {
   "cell_type": "markdown",
   "metadata": {
    "papermill": {
     "duration": 0.111904,
     "end_time": "2020-10-29T20:04:29.487540",
     "exception": false,
     "start_time": "2020-10-29T20:04:29.375636",
     "status": "completed"
    },
    "tags": []
   },
   "source": [
    "### Importing appropriate functions from 'Kudzu'"
   ]
  },
  {
   "cell_type": "code",
   "execution_count": 14,
   "metadata": {
    "execution": {
     "iopub.execute_input": "2020-10-29T20:04:29.741501Z",
     "iopub.status.busy": "2020-10-29T20:04:29.740799Z",
     "iopub.status.idle": "2020-10-29T20:04:29.761529Z",
     "shell.execute_reply": "2020-10-29T20:04:29.760935Z"
    },
    "papermill": {
     "duration": 0.236264,
     "end_time": "2020-10-29T20:04:29.761687",
     "exception": false,
     "start_time": "2020-10-29T20:04:29.525423",
     "status": "completed"
    },
    "tags": []
   },
   "outputs": [],
   "source": [
    "from kudzu.layer import Sigmoid\n",
    "from kudzu.layer import Relu\n",
    "from kudzu.layer import Affine, Sigmoid\n",
    "\n",
    "from kudzu.model import Model\n",
    "from kudzu.train import Learner\n",
    "from kudzu.optim import GD\n",
    "from kudzu.data import Data, Dataloader, Sampler\n",
    "\n",
    "from kudzu.callbacks import AccCallback\n",
    "from kudzu.callbacks import ClfCallback\n",
    "\n",
    "from kudzu.loss import MSE"
   ]
  },
  {
   "cell_type": "markdown",
   "metadata": {
    "papermill": {
     "duration": 0.031478,
     "end_time": "2020-10-29T20:04:29.822091",
     "exception": false,
     "start_time": "2020-10-29T20:04:29.790613",
     "status": "completed"
    },
    "tags": []
   },
   "source": [
    "### Let us create a `Config` class, to store important parameters. \n",
    "This class essentially plays the role of a dictionary."
   ]
  },
  {
   "cell_type": "code",
   "execution_count": 15,
   "metadata": {
    "execution": {
     "iopub.execute_input": "2020-10-29T20:04:29.889526Z",
     "iopub.status.busy": "2020-10-29T20:04:29.888094Z",
     "iopub.status.idle": "2020-10-29T20:04:29.899695Z",
     "shell.execute_reply": "2020-10-29T20:04:29.899195Z"
    },
    "papermill": {
     "duration": 0.047852,
     "end_time": "2020-10-29T20:04:29.899832",
     "exception": false,
     "start_time": "2020-10-29T20:04:29.851980",
     "status": "completed"
    },
    "tags": []
   },
   "outputs": [],
   "source": [
    "class Config:\n",
    "    pass\n",
    "config = Config()\n",
    "config.lr = 0.001\n",
    "config.num_epochs = 251\n",
    "config.bs = 50"
   ]
  },
  {
   "cell_type": "markdown",
   "metadata": {
    "papermill": {
     "duration": 0.030962,
     "end_time": "2020-10-29T20:04:29.959376",
     "exception": false,
     "start_time": "2020-10-29T20:04:29.928414",
     "status": "completed"
    },
    "tags": []
   },
   "source": [
    "### Initializing data to the variables"
   ]
  },
  {
   "cell_type": "code",
   "execution_count": 16,
   "metadata": {
    "execution": {
     "iopub.execute_input": "2020-10-29T20:04:30.027863Z",
     "iopub.status.busy": "2020-10-29T20:04:30.026696Z",
     "iopub.status.idle": "2020-10-29T20:04:30.039226Z",
     "shell.execute_reply": "2020-10-29T20:04:30.039770Z"
    },
    "papermill": {
     "duration": 0.051169,
     "end_time": "2020-10-29T20:04:30.039914",
     "exception": false,
     "start_time": "2020-10-29T20:04:29.988745",
     "status": "completed"
    },
    "tags": []
   },
   "outputs": [],
   "source": [
    "data = Data(X_train, y_train.reshape(-1,1))\n",
    "sampler = Sampler(data, config.bs, shuffle=True)\n",
    "\n",
    "dl = Dataloader(data, sampler)\n",
    "\n",
    "opt = GD(config.lr)\n",
    "loss = MSE()"
   ]
  },
  {
   "cell_type": "code",
   "execution_count": 17,
   "metadata": {
    "execution": {
     "iopub.execute_input": "2020-10-29T20:04:30.117847Z",
     "iopub.status.busy": "2020-10-29T20:04:30.115644Z",
     "iopub.status.idle": "2020-10-29T20:04:30.126940Z",
     "shell.execute_reply": "2020-10-29T20:04:30.126391Z"
    },
    "papermill": {
     "duration": 0.051409,
     "end_time": "2020-10-29T20:04:30.127080",
     "exception": false,
     "start_time": "2020-10-29T20:04:30.075671",
     "status": "completed"
    },
    "tags": []
   },
   "outputs": [],
   "source": [
    "training_xdata = X_train\n",
    "testing_xdata = X_test\n",
    "training_ydata = y_train.reshape(-1,1)\n",
    "testing_ydata = y_test.reshape(-1,1)"
   ]
  },
  {
   "cell_type": "markdown",
   "metadata": {
    "papermill": {
     "duration": 0.032938,
     "end_time": "2020-10-29T20:04:30.190026",
     "exception": false,
     "start_time": "2020-10-29T20:04:30.157088",
     "status": "completed"
    },
    "tags": []
   },
   "source": [
    "### Running Models with the Training data\n",
    "Details about the network layers:\n",
    "- A first affine layer has 784 inputs and does 100 affine transforms. These are followed by a Relu\n",
    "- A second affine layer has 100 inputs from the 100 activations of the past layer, and does 100 affine transforms. These are followed by a Relu\n",
    "- A third affine layer has 100 activations and does 2 affine transformations to create an embedding for visualization. There is no non-linearity here.\n",
    "- A final \"logistic regression\" which has an affine transform from 2 inputs to 1 output, which is squeezed through a sigmoid.\n",
    "\n",
    "Help taken from Anshuman's Notebook."
   ]
  },
  {
   "cell_type": "code",
   "execution_count": 18,
   "metadata": {
    "execution": {
     "iopub.execute_input": "2020-10-29T20:04:30.259612Z",
     "iopub.status.busy": "2020-10-29T20:04:30.257085Z",
     "iopub.status.idle": "2020-10-29T20:04:30.278602Z",
     "shell.execute_reply": "2020-10-29T20:04:30.279077Z"
    },
    "papermill": {
     "duration": 0.059953,
     "end_time": "2020-10-29T20:04:30.279221",
     "exception": false,
     "start_time": "2020-10-29T20:04:30.219268",
     "status": "completed"
    },
    "tags": []
   },
   "outputs": [],
   "source": [
    "# layers for the Neural Network\n",
    "layers = [Affine(\"first\", 784, 100), Relu(\"first\"), Affine(\"second\", 100, 100), Relu(\"second\"), Affine(\"third\", 100, 2), Affine(\"final\", 2, 1), Sigmoid(\"final\")]\n",
    "model_nn = Model(layers)\n",
    "\n",
    "# layers for the Logistic Regression\n",
    "layers_lr = [Affine(\"logits\", 784, 1), Sigmoid(\"sigmoid\")]\n",
    "model_lr = Model(layers_lr)"
   ]
  },
  {
   "cell_type": "code",
   "execution_count": 19,
   "metadata": {
    "execution": {
     "iopub.execute_input": "2020-10-29T20:04:30.355465Z",
     "iopub.status.busy": "2020-10-29T20:04:30.354806Z",
     "iopub.status.idle": "2020-10-29T20:04:30.367015Z",
     "shell.execute_reply": "2020-10-29T20:04:30.366491Z"
    },
    "papermill": {
     "duration": 0.048515,
     "end_time": "2020-10-29T20:04:30.367139",
     "exception": false,
     "start_time": "2020-10-29T20:04:30.318624",
     "status": "completed"
    },
    "tags": []
   },
   "outputs": [],
   "source": [
    "# suffix _nn stands for Neural Network.\n",
    "learner_nn = Learner(loss, model_nn, opt, config.num_epochs)\n",
    "acc_nn = ClfCallback(learner_nn, config.bs, training_xdata , testing_xdata, training_ydata, testing_ydata)\n",
    "learner_nn.set_callbacks([acc_nn])"
   ]
  },
  {
   "cell_type": "code",
   "execution_count": 20,
   "metadata": {
    "execution": {
     "iopub.execute_input": "2020-10-29T20:04:30.441415Z",
     "iopub.status.busy": "2020-10-29T20:04:30.439222Z",
     "iopub.status.idle": "2020-10-29T20:06:36.486343Z",
     "shell.execute_reply": "2020-10-29T20:06:36.485787Z"
    },
    "papermill": {
     "duration": 126.087357,
     "end_time": "2020-10-29T20:06:36.486505",
     "exception": false,
     "start_time": "2020-10-29T20:04:30.399148",
     "status": "completed"
    },
    "tags": []
   },
   "outputs": [
    {
     "name": "stdout",
     "output_type": "stream",
     "text": [
      "====== Neural Network ======\n"
     ]
    },
    {
     "name": "stdout",
     "output_type": "stream",
     "text": [
      "Epoch 0, Loss 0.255\n",
      "Training Accuracy: 0.4364, Testing Accuracy: 0.4148\n",
      "\n"
     ]
    },
    {
     "name": "stdout",
     "output_type": "stream",
     "text": [
      "Epoch 10, Loss 0.2048\n",
      "Training Accuracy: 0.8395, Testing Accuracy: 0.8473\n",
      "\n"
     ]
    },
    {
     "name": "stdout",
     "output_type": "stream",
     "text": [
      "Epoch 20, Loss 0.106\n",
      "Training Accuracy: 0.9011, Testing Accuracy: 0.9083\n",
      "\n"
     ]
    },
    {
     "name": "stdout",
     "output_type": "stream",
     "text": [
      "Epoch 30, Loss 0.0657\n",
      "Training Accuracy: 0.9289, Testing Accuracy: 0.9410\n",
      "\n"
     ]
    },
    {
     "name": "stdout",
     "output_type": "stream",
     "text": [
      "Epoch 40, Loss 0.0505\n",
      "Training Accuracy: 0.9415, Testing Accuracy: 0.9556\n",
      "\n"
     ]
    },
    {
     "name": "stdout",
     "output_type": "stream",
     "text": [
      "Epoch 50, Loss 0.0428\n",
      "Training Accuracy: 0.9509, Testing Accuracy: 0.9617\n",
      "\n"
     ]
    },
    {
     "name": "stdout",
     "output_type": "stream",
     "text": [
      "Epoch 60, Loss 0.0382\n",
      "Training Accuracy: 0.9558, Testing Accuracy: 0.9637\n",
      "\n"
     ]
    },
    {
     "name": "stdout",
     "output_type": "stream",
     "text": [
      "Epoch 70, Loss 0.0351\n",
      "Training Accuracy: 0.9584, Testing Accuracy: 0.9647\n",
      "\n"
     ]
    },
    {
     "name": "stdout",
     "output_type": "stream",
     "text": [
      "Epoch 80, Loss 0.0328\n",
      "Training Accuracy: 0.9606, Testing Accuracy: 0.9677\n",
      "\n"
     ]
    },
    {
     "name": "stdout",
     "output_type": "stream",
     "text": [
      "Epoch 90, Loss 0.0311\n",
      "Training Accuracy: 0.9620, Testing Accuracy: 0.9688\n",
      "\n"
     ]
    },
    {
     "name": "stdout",
     "output_type": "stream",
     "text": [
      "Epoch 100, Loss 0.0296\n",
      "Training Accuracy: 0.9643, Testing Accuracy: 0.9688\n",
      "\n"
     ]
    },
    {
     "name": "stdout",
     "output_type": "stream",
     "text": [
      "Epoch 110, Loss 0.0284\n",
      "Training Accuracy: 0.9664, Testing Accuracy: 0.9677\n",
      "\n"
     ]
    },
    {
     "name": "stdout",
     "output_type": "stream",
     "text": [
      "Epoch 120, Loss 0.0273\n",
      "Training Accuracy: 0.9677, Testing Accuracy: 0.9682\n",
      "\n"
     ]
    },
    {
     "name": "stdout",
     "output_type": "stream",
     "text": [
      "Epoch 130, Loss 0.0264\n",
      "Training Accuracy: 0.9684, Testing Accuracy: 0.9688\n",
      "\n"
     ]
    },
    {
     "name": "stdout",
     "output_type": "stream",
     "text": [
      "Epoch 140, Loss 0.0255\n",
      "Training Accuracy: 0.9695, Testing Accuracy: 0.9693\n",
      "\n"
     ]
    },
    {
     "name": "stdout",
     "output_type": "stream",
     "text": [
      "Epoch 150, Loss 0.0248\n",
      "Training Accuracy: 0.9710, Testing Accuracy: 0.9693\n",
      "\n"
     ]
    },
    {
     "name": "stdout",
     "output_type": "stream",
     "text": [
      "Epoch 160, Loss 0.0241\n",
      "Training Accuracy: 0.9714, Testing Accuracy: 0.9693\n",
      "\n"
     ]
    },
    {
     "name": "stdout",
     "output_type": "stream",
     "text": [
      "Epoch 170, Loss 0.0234\n",
      "Training Accuracy: 0.9725, Testing Accuracy: 0.9698\n",
      "\n"
     ]
    },
    {
     "name": "stdout",
     "output_type": "stream",
     "text": [
      "Epoch 180, Loss 0.0228\n",
      "Training Accuracy: 0.9736, Testing Accuracy: 0.9698\n",
      "\n"
     ]
    },
    {
     "name": "stdout",
     "output_type": "stream",
     "text": [
      "Epoch 190, Loss 0.0223\n",
      "Training Accuracy: 0.9748, Testing Accuracy: 0.9703\n",
      "\n"
     ]
    },
    {
     "name": "stdout",
     "output_type": "stream",
     "text": [
      "Epoch 200, Loss 0.0218\n",
      "Training Accuracy: 0.9755, Testing Accuracy: 0.9708\n",
      "\n"
     ]
    },
    {
     "name": "stdout",
     "output_type": "stream",
     "text": [
      "Epoch 210, Loss 0.0213\n",
      "Training Accuracy: 0.9765, Testing Accuracy: 0.9713\n",
      "\n"
     ]
    },
    {
     "name": "stdout",
     "output_type": "stream",
     "text": [
      "Epoch 220, Loss 0.0208\n",
      "Training Accuracy: 0.9767, Testing Accuracy: 0.9713\n",
      "\n"
     ]
    },
    {
     "name": "stdout",
     "output_type": "stream",
     "text": [
      "Epoch 230, Loss 0.0204\n",
      "Training Accuracy: 0.9775, Testing Accuracy: 0.9718\n",
      "\n"
     ]
    },
    {
     "name": "stdout",
     "output_type": "stream",
     "text": [
      "Epoch 240, Loss 0.0199\n",
      "Training Accuracy: 0.9781, Testing Accuracy: 0.9723\n",
      "\n"
     ]
    },
    {
     "name": "stdout",
     "output_type": "stream",
     "text": [
      "Epoch 250, Loss 0.0196\n",
      "Training Accuracy: 0.9785, Testing Accuracy: 0.9728\n",
      "\n"
     ]
    },
    {
     "data": {
      "text/plain": [
       "0.04541541126723801"
      ]
     },
     "execution_count": 20,
     "metadata": {},
     "output_type": "execute_result"
    }
   ],
   "source": [
    "print(\"====== Neural Network ======\")\n",
    "learner_nn.train_loop(dl)"
   ]
  },
  {
   "cell_type": "markdown",
   "metadata": {
    "papermill": {
     "duration": 0.040127,
     "end_time": "2020-10-29T20:06:36.568341",
     "exception": false,
     "start_time": "2020-10-29T20:06:36.528214",
     "status": "completed"
    },
    "tags": []
   },
   "source": [
    "### Logistic Regression based Implementation."
   ]
  },
  {
   "cell_type": "code",
   "execution_count": 21,
   "metadata": {
    "execution": {
     "iopub.execute_input": "2020-10-29T20:06:36.662350Z",
     "iopub.status.busy": "2020-10-29T20:06:36.661719Z",
     "iopub.status.idle": "2020-10-29T20:06:36.669428Z",
     "shell.execute_reply": "2020-10-29T20:06:36.668847Z"
    },
    "papermill": {
     "duration": 0.055883,
     "end_time": "2020-10-29T20:06:36.669558",
     "exception": false,
     "start_time": "2020-10-29T20:06:36.613675",
     "status": "completed"
    },
    "tags": []
   },
   "outputs": [],
   "source": [
    "learner_lr = Learner(loss, model_lr, opt, config.num_epochs)\n",
    "acc_lr = ClfCallback(learner_lr, config.bs, training_xdata , testing_xdata, training_ydata, testing_ydata)\n",
    "learner_lr.set_callbacks([acc_lr])"
   ]
  },
  {
   "cell_type": "code",
   "execution_count": 22,
   "metadata": {
    "execution": {
     "iopub.execute_input": "2020-10-29T20:06:36.752672Z",
     "iopub.status.busy": "2020-10-29T20:06:36.751426Z",
     "iopub.status.idle": "2020-10-29T20:06:54.933113Z",
     "shell.execute_reply": "2020-10-29T20:06:54.933960Z"
    },
    "papermill": {
     "duration": 18.225401,
     "end_time": "2020-10-29T20:06:54.934136",
     "exception": false,
     "start_time": "2020-10-29T20:06:36.708735",
     "status": "completed"
    },
    "tags": []
   },
   "outputs": [
    {
     "name": "stdout",
     "output_type": "stream",
     "text": [
      "====== Logistic Regression ======\n",
      "Epoch 0, Loss 0.2207\n",
      "Training Accuracy: 0.7234, Testing Accuracy: 0.7243\n",
      "\n"
     ]
    },
    {
     "name": "stdout",
     "output_type": "stream",
     "text": [
      "Epoch 10, Loss 0.1069\n",
      "Training Accuracy: 0.8913, Testing Accuracy: 0.9017\n",
      "\n"
     ]
    },
    {
     "name": "stdout",
     "output_type": "stream",
     "text": [
      "Epoch 20, Loss 0.0828\n",
      "Training Accuracy: 0.9162, Testing Accuracy: 0.9269\n",
      "\n"
     ]
    },
    {
     "name": "stdout",
     "output_type": "stream",
     "text": [
      "Epoch 30, Loss 0.0712\n",
      "Training Accuracy: 0.9285, Testing Accuracy: 0.9410\n",
      "\n"
     ]
    },
    {
     "name": "stdout",
     "output_type": "stream",
     "text": [
      "Epoch 40, Loss 0.064\n",
      "Training Accuracy: 0.9360, Testing Accuracy: 0.9466\n",
      "\n"
     ]
    },
    {
     "name": "stdout",
     "output_type": "stream",
     "text": [
      "Epoch 50, Loss 0.0592\n",
      "Training Accuracy: 0.9408, Testing Accuracy: 0.9511\n",
      "\n"
     ]
    },
    {
     "name": "stdout",
     "output_type": "stream",
     "text": [
      "Epoch 60, Loss 0.0556\n",
      "Training Accuracy: 0.9434, Testing Accuracy: 0.9546\n",
      "\n"
     ]
    },
    {
     "name": "stdout",
     "output_type": "stream",
     "text": [
      "Epoch 70, Loss 0.0528\n",
      "Training Accuracy: 0.9469, Testing Accuracy: 0.9567\n",
      "\n"
     ]
    },
    {
     "name": "stdout",
     "output_type": "stream",
     "text": [
      "Epoch 80, Loss 0.0505\n",
      "Training Accuracy: 0.9502, Testing Accuracy: 0.9592\n",
      "\n"
     ]
    },
    {
     "name": "stdout",
     "output_type": "stream",
     "text": [
      "Epoch 90, Loss 0.0487\n",
      "Training Accuracy: 0.9523, Testing Accuracy: 0.9607\n",
      "\n"
     ]
    },
    {
     "name": "stdout",
     "output_type": "stream",
     "text": [
      "Epoch 100, Loss 0.0472\n",
      "Training Accuracy: 0.9533, Testing Accuracy: 0.9607\n",
      "\n"
     ]
    },
    {
     "name": "stdout",
     "output_type": "stream",
     "text": [
      "Epoch 110, Loss 0.0458\n",
      "Training Accuracy: 0.9547, Testing Accuracy: 0.9617\n",
      "\n"
     ]
    },
    {
     "name": "stdout",
     "output_type": "stream",
     "text": [
      "Epoch 120, Loss 0.0447\n",
      "Training Accuracy: 0.9558, Testing Accuracy: 0.9627\n",
      "\n"
     ]
    },
    {
     "name": "stdout",
     "output_type": "stream",
     "text": [
      "Epoch 130, Loss 0.0437\n",
      "Training Accuracy: 0.9562, Testing Accuracy: 0.9617\n",
      "\n"
     ]
    },
    {
     "name": "stdout",
     "output_type": "stream",
     "text": [
      "Epoch 140, Loss 0.0428\n",
      "Training Accuracy: 0.9568, Testing Accuracy: 0.9617\n",
      "\n"
     ]
    },
    {
     "name": "stdout",
     "output_type": "stream",
     "text": [
      "Epoch 150, Loss 0.042\n",
      "Training Accuracy: 0.9574, Testing Accuracy: 0.9617\n",
      "\n"
     ]
    },
    {
     "name": "stdout",
     "output_type": "stream",
     "text": [
      "Epoch 160, Loss 0.0412\n",
      "Training Accuracy: 0.9579, Testing Accuracy: 0.9632\n",
      "\n"
     ]
    },
    {
     "name": "stdout",
     "output_type": "stream",
     "text": [
      "Epoch 170, Loss 0.0406\n",
      "Training Accuracy: 0.9584, Testing Accuracy: 0.9637\n",
      "\n"
     ]
    },
    {
     "name": "stdout",
     "output_type": "stream",
     "text": [
      "Epoch 180, Loss 0.04\n",
      "Training Accuracy: 0.9589, Testing Accuracy: 0.9647\n",
      "\n"
     ]
    },
    {
     "name": "stdout",
     "output_type": "stream",
     "text": [
      "Epoch 190, Loss 0.0394\n",
      "Training Accuracy: 0.9597, Testing Accuracy: 0.9662\n",
      "\n"
     ]
    },
    {
     "name": "stdout",
     "output_type": "stream",
     "text": [
      "Epoch 200, Loss 0.0389\n",
      "Training Accuracy: 0.9600, Testing Accuracy: 0.9662\n",
      "\n"
     ]
    },
    {
     "name": "stdout",
     "output_type": "stream",
     "text": [
      "Epoch 210, Loss 0.0385\n",
      "Training Accuracy: 0.9603, Testing Accuracy: 0.9657\n",
      "\n"
     ]
    },
    {
     "name": "stdout",
     "output_type": "stream",
     "text": [
      "Epoch 220, Loss 0.038\n",
      "Training Accuracy: 0.9605, Testing Accuracy: 0.9657\n",
      "\n"
     ]
    },
    {
     "name": "stdout",
     "output_type": "stream",
     "text": [
      "Epoch 230, Loss 0.0376\n",
      "Training Accuracy: 0.9608, Testing Accuracy: 0.9657\n",
      "\n"
     ]
    },
    {
     "name": "stdout",
     "output_type": "stream",
     "text": [
      "Epoch 240, Loss 0.0372\n",
      "Training Accuracy: 0.9609, Testing Accuracy: 0.9657\n",
      "\n"
     ]
    },
    {
     "name": "stdout",
     "output_type": "stream",
     "text": [
      "Epoch 250, Loss 0.0369\n",
      "Training Accuracy: 0.9611, Testing Accuracy: 0.9657\n",
      "\n"
     ]
    },
    {
     "data": {
      "text/plain": [
       "0.04372574658110847"
      ]
     },
     "execution_count": 22,
     "metadata": {},
     "output_type": "execute_result"
    }
   ],
   "source": [
    "print(\"====== Logistic Regression ======\")\n",
    "learner_lr.train_loop(dl)"
   ]
  },
  {
   "cell_type": "markdown",
   "metadata": {
    "papermill": {
     "duration": 0.046691,
     "end_time": "2020-10-29T20:06:55.027682",
     "exception": false,
     "start_time": "2020-10-29T20:06:54.980991",
     "status": "completed"
    },
    "tags": []
   },
   "source": [
    "### Comparing results of NN and LR"
   ]
  },
  {
   "cell_type": "code",
   "execution_count": 23,
   "metadata": {
    "execution": {
     "iopub.execute_input": "2020-10-29T20:06:55.138605Z",
     "iopub.status.busy": "2020-10-29T20:06:55.137857Z",
     "iopub.status.idle": "2020-10-29T20:06:55.402412Z",
     "shell.execute_reply": "2020-10-29T20:06:55.401879Z"
    },
    "papermill": {
     "duration": 0.324956,
     "end_time": "2020-10-29T20:06:55.402547",
     "exception": false,
     "start_time": "2020-10-29T20:06:55.077591",
     "status": "completed"
    },
    "tags": []
   },
   "outputs": [
    {
     "data": {
      "text/plain": [
       "<matplotlib.legend.Legend at 0x7f047792b2b0>"
      ]
     },
     "execution_count": 23,
     "metadata": {},
     "output_type": "execute_result"
    },
    {
     "data": {
      "image/png": "[encoded data removed]",
      "text/plain": [
       "<Figure size 1080x720 with 1 Axes>"
      ]
     },
     "metadata": {
      "needs_background": "light"
     },
     "output_type": "display_data"
    }
   ],
   "source": [
    "plt.figure(figsize=(15,10))\n",
    "\n",
    "# Neural Network plots\n",
    "plt.plot(acc_nn.accuracies, 'r-', label = \"Training Accuracies - NN\")\n",
    "plt.plot(acc_nn.test_accuracies, 'g-', label = \"Testing Accuracies - NN\")\n",
    "\n",
    "# Logistic Regression plots\n",
    "plt.plot(acc_lr.accuracies, 'k-', label = \"Training Accuracies - LR\")\n",
    "plt.plot(acc_lr.test_accuracies, 'b-', label = \"Testing Accuracies - LR\")\n",
    "\n",
    "plt.ylim(0.8, 1)\n",
    "\n",
    "plt.legend()\n",
    "\n"
   ]
  },
  {
   "cell_type": "markdown",
   "metadata": {
    "papermill": {
     "duration": 0.049771,
     "end_time": "2020-10-29T20:06:55.503790",
     "exception": false,
     "start_time": "2020-10-29T20:06:55.454019",
     "status": "completed"
    },
    "tags": []
   },
   "source": [
    "### From the plot, we can observe the following:\n",
    "- Neural Network achieves higher accuracy than the Logistic Regression model.\n",
    "- This apparently, is because of overfitting, i.e. NN captures more noise than data.\n",
    "- Testing accuracy of NN drops below the Training accuracy at higher epochs. This explains the over-fitting on training data.\n",
    "- Logistic Regression gives a reliable accuracy, without the above mentioned problem.\n"
   ]
  },
  {
   "cell_type": "markdown",
   "metadata": {
    "papermill": {
     "duration": 0.047843,
     "end_time": "2020-10-29T20:06:55.600834",
     "exception": false,
     "start_time": "2020-10-29T20:06:55.552991",
     "status": "completed"
    },
    "tags": []
   },
   "source": [
    "### Moving till the last but one layer (excluding it).\n",
    "#### Plotting the outputs of this layer of the NN."
   ]
  },
  {
   "cell_type": "code",
   "execution_count": 24,
   "metadata": {
    "execution": {
     "iopub.execute_input": "2020-10-29T20:06:55.708285Z",
     "iopub.status.busy": "2020-10-29T20:06:55.707313Z",
     "iopub.status.idle": "2020-10-29T20:06:55.719244Z",
     "shell.execute_reply": "2020-10-29T20:06:55.719812Z"
    },
    "papermill": {
     "duration": 0.068785,
     "end_time": "2020-10-29T20:06:55.719968",
     "exception": false,
     "start_time": "2020-10-29T20:06:55.651183",
     "status": "completed"
    },
    "tags": []
   },
   "outputs": [],
   "source": [
    "model_new = Model(layers[:-2])"
   ]
  },
  {
   "cell_type": "code",
   "execution_count": 25,
   "metadata": {
    "execution": {
     "iopub.execute_input": "2020-10-29T20:06:55.821950Z",
     "iopub.status.busy": "2020-10-29T20:06:55.821086Z",
     "iopub.status.idle": "2020-10-29T20:06:55.852823Z",
     "shell.execute_reply": "2020-10-29T20:06:55.853370Z"
    },
    "papermill": {
     "duration": 0.084053,
     "end_time": "2020-10-29T20:06:55.853555",
     "exception": false,
     "start_time": "2020-10-29T20:06:55.769502",
     "status": "completed"
    },
    "tags": []
   },
   "outputs": [],
   "source": [
    "plot_testing = model_new(testing_xdata)"
   ]
  },
  {
   "cell_type": "code",
   "execution_count": 26,
   "metadata": {
    "execution": {
     "iopub.execute_input": "2020-10-29T20:06:55.966554Z",
     "iopub.status.busy": "2020-10-29T20:06:55.965903Z",
     "iopub.status.idle": "2020-10-29T20:06:56.184770Z",
     "shell.execute_reply": "2020-10-29T20:06:56.183829Z"
    },
    "papermill": {
     "duration": 0.280416,
     "end_time": "2020-10-29T20:06:56.184950",
     "exception": false,
     "start_time": "2020-10-29T20:06:55.904534",
     "status": "completed"
    },
    "tags": []
   },
   "outputs": [
    {
     "data": {
      "text/plain": [
       "Text(0.5, 1.0, 'Outputs')"
      ]
     },
     "execution_count": 26,
     "metadata": {},
     "output_type": "execute_result"
    },
    {
     "data": {
      "image/png": "[encoded data removed]",
      "text/plain": [
       "<Figure size 576x504 with 1 Axes>"
      ]
     },
     "metadata": {
      "needs_background": "light"
     },
     "output_type": "display_data"
    }
   ],
   "source": [
    "plt.figure(figsize=(8,7))\n",
    "plt.scatter(plot_testing[:,0], plot_testing[:,1], alpha = 0.1, c = y_test.ravel());\n",
    "plt.title('Outputs')"
   ]
  },
  {
   "cell_type": "markdown",
   "metadata": {
    "papermill": {
     "duration": 0.052603,
     "end_time": "2020-10-29T20:06:56.288136",
     "exception": false,
     "start_time": "2020-10-29T20:06:56.235533",
     "status": "completed"
    },
    "tags": []
   },
   "source": [
    "### Plotting probability contours"
   ]
  },
  {
   "cell_type": "code",
   "execution_count": 27,
   "metadata": {
    "execution": {
     "iopub.execute_input": "2020-10-29T20:06:56.398432Z",
     "iopub.status.busy": "2020-10-29T20:06:56.394435Z",
     "iopub.status.idle": "2020-10-29T20:06:56.408167Z",
     "shell.execute_reply": "2020-10-29T20:06:56.407561Z"
    },
    "papermill": {
     "duration": 0.070437,
     "end_time": "2020-10-29T20:06:56.408321",
     "exception": false,
     "start_time": "2020-10-29T20:06:56.337884",
     "status": "completed"
    },
    "tags": []
   },
   "outputs": [],
   "source": [
    "model_prob = Model(layers[-2:]) "
   ]
  },
  {
   "cell_type": "code",
   "execution_count": 28,
   "metadata": {
    "execution": {
     "iopub.execute_input": "2020-10-29T20:06:56.516808Z",
     "iopub.status.busy": "2020-10-29T20:06:56.516113Z",
     "iopub.status.idle": "2020-10-29T20:06:56.529426Z",
     "shell.execute_reply": "2020-10-29T20:06:56.529870Z"
    },
    "papermill": {
     "duration": 0.070391,
     "end_time": "2020-10-29T20:06:56.530013",
     "exception": false,
     "start_time": "2020-10-29T20:06:56.459622",
     "status": "completed"
    },
    "tags": []
   },
   "outputs": [],
   "source": [
    "# Adjust the x and y ranges according to the above generated plot.\n",
    "x_range = np.linspace(-4, 1, 100) \n",
    "y_range = np.linspace(-6, 6, 100) \n",
    "x_grid, y_grid = np.meshgrid(x_range, y_range) # x_grid and y_grig are of size 100 X 100\n",
    "\n",
    "# converting x_grid and y_grid to continuous arrays\n",
    "x_grid_flat = np.ravel(x_grid)\n",
    "y_grid_flat = np.ravel(y_grid)\n",
    "\n",
    "# The last layer of the current model takes two columns as input. Hence transpose of np.vstack() is required.\n",
    "X = np.vstack((x_grid_flat, y_grid_flat)).T\n",
    "\n",
    "# x_grid and y_grid are of size 100 x 100\n",
    "probability_contour = model_prob(X).reshape(100,100) "
   ]
  },
  {
   "cell_type": "code",
   "execution_count": 29,
   "metadata": {
    "execution": {
     "iopub.execute_input": "2020-10-29T20:06:56.642794Z",
     "iopub.status.busy": "2020-10-29T20:06:56.642119Z",
     "iopub.status.idle": "2020-10-29T20:06:56.904560Z",
     "shell.execute_reply": "2020-10-29T20:06:56.905134Z"
    },
    "papermill": {
     "duration": 0.324817,
     "end_time": "2020-10-29T20:06:56.905326",
     "exception": false,
     "start_time": "2020-10-29T20:06:56.580509",
     "status": "completed"
    },
    "tags": []
   },
   "outputs": [
    {
     "data": {
      "image/png": "[encoded data removed]",
      "text/plain": [
       "<Figure size 720x648 with 1 Axes>"
      ]
     },
     "metadata": {
      "needs_background": "light"
     },
     "output_type": "display_data"
    }
   ],
   "source": [
    "plt.figure(figsize=(10,9))\n",
    "plt.scatter(plot_testing[:,0], plot_testing[:,1], alpha = 0.1, c = y_test.ravel())\n",
    "contours = plt.contour(x_grid,y_grid,probability_contour)\n",
    "plt.title('Probability Contours')\n",
    "plt.clabel(contours, inline = True );"
   ]
  }
 ],
 "metadata": {
  "kernelspec": {
   "display_name": "Python 3",
   "language": "python",
   "name": "python3"
  },
  "language_info": {
   "codemirror_mode": {
    "name": "ipython",
    "version": 3
   },
   "file_extension": ".py",
   "mimetype": "text/x-python",
   "name": "python",
   "nbconvert_exporter": "python",
   "pygments_lexer": "ipython3",
   "version": "3.6.12"
  },
  "papermill": {
   "duration": 153.966388,
   "end_time": "2020-10-29T20:06:57.390384",
   "environment_variables": {},
   "exception": null,
   "input_path": "2020-08-11-NeuralNetwork.ipynb",
   "output_path": "2020-08-11-NeuralNetwork.ipynb",
   "parameters": {},
   "start_time": "2020-10-29T20:04:23.423996",
   "version": "2.1.2"
  }
 },
 "nbformat": 4,
 "nbformat_minor": 4
}