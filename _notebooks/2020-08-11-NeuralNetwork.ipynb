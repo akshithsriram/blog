{
 "cells": [
  {
   "cell_type": "markdown",
   "metadata": {
    "papermill": {
     "duration": 0.036424,
     "end_time": "2020-09-27T00:07:18.180191",
     "exception": false,
     "start_time": "2020-09-27T00:07:18.143767",
     "status": "completed"
    },
    "tags": []
   },
   "source": [
    "# \"A Basic Neural Network: Differentiate Hand-Written Digits\"\n",
    "\n",
    "- badges: true\n",
    "- author: Akshith Sriram"
   ]
  },
  {
   "cell_type": "markdown",
   "metadata": {
    "papermill": {
     "duration": 0.031481,
     "end_time": "2020-09-27T00:07:18.244560",
     "exception": false,
     "start_time": "2020-09-27T00:07:18.213079",
     "status": "completed"
    },
    "tags": []
   },
   "source": [
    "### Key Objectives:\n",
    "- Building a neural network that differentiates two hand-written digits 3 and 8.\n",
    "- Comparing the results of this Neural Network (NN) to that of a Logistic Regression (LR) model.\n",
    "\n",
    "### Requirements:\n",
    "- 'Kudzu' : A neural network library that was designed during our course by [Univ.AI](www.univ.ai). \n",
    "- MNIST Database\n",
    "\n",
    "If MNIST is not installed, use the command `!pip install mnist` given below.\n",
    "It can be run both from the command line and Jupyter Notebook."
   ]
  },
  {
   "cell_type": "code",
   "execution_count": 1,
   "metadata": {
    "execution": {
     "iopub.execute_input": "2020-09-27T00:07:18.317679Z",
     "iopub.status.busy": "2020-09-27T00:07:18.316929Z",
     "iopub.status.idle": "2020-09-27T00:07:20.091988Z",
     "shell.execute_reply": "2020-09-27T00:07:20.092462Z"
    },
    "papermill": {
     "duration": 1.814757,
     "end_time": "2020-09-27T00:07:20.092647",
     "exception": false,
     "start_time": "2020-09-27T00:07:18.277890",
     "status": "completed"
    },
    "tags": []
   },
   "outputs": [
    {
     "name": "stdout",
     "output_type": "stream",
     "text": [
      "Collecting mnist\r\n"
     ]
    },
    {
     "name": "stdout",
     "output_type": "stream",
     "text": [
      "  Downloading mnist-0.2.2-py2.py3-none-any.whl (3.5 kB)\r\n"
     ]
    },
    {
     "name": "stdout",
     "output_type": "stream",
     "text": [
      "Requirement already satisfied: numpy in /opt/hostedtoolcache/Python/3.6.12/x64/lib/python3.6/site-packages (from mnist) (1.19.2)\r\n"
     ]
    },
    {
     "name": "stdout",
     "output_type": "stream",
     "text": [
      "Installing collected packages: mnist\r\n"
     ]
    },
    {
     "name": "stdout",
     "output_type": "stream",
     "text": [
      "Successfully installed mnist-0.2.2\r\n"
     ]
    }
   ],
   "source": [
    "!pip install mnist "
   ]
  },
  {
   "cell_type": "markdown",
   "metadata": {
    "papermill": {
     "duration": 0.027421,
     "end_time": "2020-09-27T00:07:20.149146",
     "exception": false,
     "start_time": "2020-09-27T00:07:20.121725",
     "status": "completed"
    },
    "tags": []
   },
   "source": [
    "#### Importing necessary libraries"
   ]
  },
  {
   "cell_type": "code",
   "execution_count": 2,
   "metadata": {
    "execution": {
     "iopub.execute_input": "2020-09-27T00:07:20.211815Z",
     "iopub.status.busy": "2020-09-27T00:07:20.211217Z",
     "iopub.status.idle": "2020-09-27T00:07:20.865391Z",
     "shell.execute_reply": "2020-09-27T00:07:20.864733Z"
    },
    "papermill": {
     "duration": 0.689407,
     "end_time": "2020-09-27T00:07:20.865564",
     "exception": false,
     "start_time": "2020-09-27T00:07:20.176157",
     "status": "completed"
    },
    "tags": []
   },
   "outputs": [],
   "source": [
    "%load_ext autoreload\n",
    "%autoreload 2\n",
    "\n",
    "%matplotlib inline\n",
    "import matplotlib.pyplot as plt\n",
    "\n",
    "import numpy as np\n",
    "import pandas as pd"
   ]
  },
  {
   "cell_type": "markdown",
   "metadata": {
    "papermill": {
     "duration": 0.026261,
     "end_time": "2020-09-27T00:07:20.928069",
     "exception": false,
     "start_time": "2020-09-27T00:07:20.901808",
     "status": "completed"
    },
    "tags": []
   },
   "source": [
    "### Preparing the Data"
   ]
  },
  {
   "cell_type": "code",
   "execution_count": 3,
   "metadata": {
    "execution": {
     "iopub.execute_input": "2020-09-27T00:07:20.992137Z",
     "iopub.status.busy": "2020-09-27T00:07:20.991409Z",
     "iopub.status.idle": "2020-09-27T00:07:21.002414Z",
     "shell.execute_reply": "2020-09-27T00:07:21.001807Z"
    },
    "papermill": {
     "duration": 0.04756,
     "end_time": "2020-09-27T00:07:21.002556",
     "exception": false,
     "start_time": "2020-09-27T00:07:20.954996",
     "status": "completed"
    },
    "tags": []
   },
   "outputs": [],
   "source": [
    "import mnist"
   ]
  },
  {
   "cell_type": "code",
   "execution_count": 4,
   "metadata": {
    "execution": {
     "iopub.execute_input": "2020-09-27T00:07:21.073535Z",
     "iopub.status.busy": "2020-09-27T00:07:21.072832Z",
     "iopub.status.idle": "2020-09-27T00:07:22.329988Z",
     "shell.execute_reply": "2020-09-27T00:07:22.329325Z"
    },
    "papermill": {
     "duration": 1.294079,
     "end_time": "2020-09-27T00:07:22.330167",
     "exception": false,
     "start_time": "2020-09-27T00:07:21.036088",
     "status": "completed"
    },
    "tags": []
   },
   "outputs": [],
   "source": [
    "train_images = mnist.train_images()\n",
    "train_labels = mnist.train_labels()"
   ]
  },
  {
   "cell_type": "code",
   "execution_count": 5,
   "metadata": {
    "execution": {
     "iopub.execute_input": "2020-09-27T00:07:22.405263Z",
     "iopub.status.busy": "2020-09-27T00:07:22.403851Z",
     "iopub.status.idle": "2020-09-27T00:07:22.421243Z",
     "shell.execute_reply": "2020-09-27T00:07:22.420619Z"
    },
    "papermill": {
     "duration": 0.05622,
     "end_time": "2020-09-27T00:07:22.421394",
     "exception": false,
     "start_time": "2020-09-27T00:07:22.365174",
     "status": "completed"
    },
    "tags": []
   },
   "outputs": [
    {
     "data": {
      "text/plain": [
       "((60000, 28, 28), (60000,))"
      ]
     },
     "execution_count": 5,
     "metadata": {},
     "output_type": "execute_result"
    }
   ],
   "source": [
    "train_images.shape, train_labels.shape"
   ]
  },
  {
   "cell_type": "code",
   "execution_count": 6,
   "metadata": {
    "execution": {
     "iopub.execute_input": "2020-09-27T00:07:22.497784Z",
     "iopub.status.busy": "2020-09-27T00:07:22.497048Z",
     "iopub.status.idle": "2020-09-27T00:07:24.546717Z",
     "shell.execute_reply": "2020-09-27T00:07:24.545947Z"
    },
    "papermill": {
     "duration": 2.090766,
     "end_time": "2020-09-27T00:07:24.546927",
     "exception": false,
     "start_time": "2020-09-27T00:07:22.456161",
     "status": "completed"
    },
    "tags": []
   },
   "outputs": [],
   "source": [
    "test_images = mnist.test_images()\n",
    "test_labels = mnist.test_labels()"
   ]
  },
  {
   "cell_type": "code",
   "execution_count": 7,
   "metadata": {
    "execution": {
     "iopub.execute_input": "2020-09-27T00:07:24.638494Z",
     "iopub.status.busy": "2020-09-27T00:07:24.637096Z",
     "iopub.status.idle": "2020-09-27T00:07:24.649312Z",
     "shell.execute_reply": "2020-09-27T00:07:24.648668Z"
    },
    "papermill": {
     "duration": 0.063535,
     "end_time": "2020-09-27T00:07:24.649468",
     "exception": false,
     "start_time": "2020-09-27T00:07:24.585933",
     "status": "completed"
    },
    "tags": []
   },
   "outputs": [
    {
     "data": {
      "text/plain": [
       "((10000, 28, 28), (10000,))"
      ]
     },
     "execution_count": 7,
     "metadata": {},
     "output_type": "execute_result"
    }
   ],
   "source": [
    "test_images.shape, test_labels.shape"
   ]
  },
  {
   "cell_type": "code",
   "execution_count": 8,
   "metadata": {
    "execution": {
     "iopub.execute_input": "2020-09-27T00:07:24.726447Z",
     "iopub.status.busy": "2020-09-27T00:07:24.725707Z",
     "iopub.status.idle": "2020-09-27T00:07:24.892930Z",
     "shell.execute_reply": "2020-09-27T00:07:24.892402Z"
    },
    "papermill": {
     "duration": 0.207806,
     "end_time": "2020-09-27T00:07:24.893058",
     "exception": false,
     "start_time": "2020-09-27T00:07:24.685252",
     "status": "completed"
    },
    "tags": []
   },
   "outputs": [
    {
     "name": "stdout",
     "output_type": "stream",
     "text": [
      "2\n"
     ]
    },
    {
     "data": {
      "text/plain": [
       "<matplotlib.image.AxesImage at 0x7f329570b7f0>"
      ]
     },
     "execution_count": 8,
     "metadata": {},
     "output_type": "execute_result"
    },
    {
     "data": {
      "image/png": "[encoded data removed]",
      "text/plain": [
       "<Figure size 432x288 with 1 Axes>"
      ]
     },
     "metadata": {
      "needs_background": "light"
     },
     "output_type": "display_data"
    }
   ],
   "source": [
    "image_index = 7776 # You may select anything up to 60,000\n",
    "print(train_labels[image_index]) \n",
    "plt.imshow(train_images[image_index], cmap='Greys')"
   ]
  },
  {
   "cell_type": "markdown",
   "metadata": {
    "papermill": {
     "duration": 0.029655,
     "end_time": "2020-09-27T00:07:24.952104",
     "exception": false,
     "start_time": "2020-09-27T00:07:24.922449",
     "status": "completed"
    },
    "tags": []
   },
   "source": [
    "## Filter data to get 3 and 8 out"
   ]
  },
  {
   "cell_type": "code",
   "execution_count": 9,
   "metadata": {
    "execution": {
     "iopub.execute_input": "2020-09-27T00:07:25.014528Z",
     "iopub.status.busy": "2020-09-27T00:07:25.011813Z",
     "iopub.status.idle": "2020-09-27T00:07:25.034004Z",
     "shell.execute_reply": "2020-09-27T00:07:25.034592Z"
    },
    "papermill": {
     "duration": 0.054561,
     "end_time": "2020-09-27T00:07:25.034745",
     "exception": false,
     "start_time": "2020-09-27T00:07:24.980184",
     "status": "completed"
    },
    "tags": []
   },
   "outputs": [],
   "source": [
    "train_filter = np.where((train_labels == 3 ) | (train_labels == 8))\n",
    "test_filter = np.where((test_labels == 3) | (test_labels == 8))\n",
    "X_train, y_train = train_images[train_filter], train_labels[train_filter]\n",
    "X_test, y_test = test_images[test_filter], test_labels[test_filter]"
   ]
  },
  {
   "cell_type": "markdown",
   "metadata": {
    "papermill": {
     "duration": 0.028126,
     "end_time": "2020-09-27T00:07:25.092188",
     "exception": false,
     "start_time": "2020-09-27T00:07:25.064062",
     "status": "completed"
    },
    "tags": []
   },
   "source": [
    "We normalize the pixel values in the 0 to 1 range"
   ]
  },
  {
   "cell_type": "code",
   "execution_count": 10,
   "metadata": {
    "execution": {
     "iopub.execute_input": "2020-09-27T00:07:25.155746Z",
     "iopub.status.busy": "2020-09-27T00:07:25.155157Z",
     "iopub.status.idle": "2020-09-27T00:07:25.223282Z",
     "shell.execute_reply": "2020-09-27T00:07:25.223766Z"
    },
    "papermill": {
     "duration": 0.102447,
     "end_time": "2020-09-27T00:07:25.223924",
     "exception": false,
     "start_time": "2020-09-27T00:07:25.121477",
     "status": "completed"
    },
    "tags": []
   },
   "outputs": [],
   "source": [
    "X_train = X_train/255.\n",
    "X_test = X_test/255."
   ]
  },
  {
   "cell_type": "markdown",
   "metadata": {
    "papermill": {
     "duration": 0.03476,
     "end_time": "2020-09-27T00:07:25.288721",
     "exception": false,
     "start_time": "2020-09-27T00:07:25.253961",
     "status": "completed"
    },
    "tags": []
   },
   "source": [
    "Setup the labels as 1 (when the digit is 3) and 0 (when the digit is 8)"
   ]
  },
  {
   "cell_type": "code",
   "execution_count": 11,
   "metadata": {
    "execution": {
     "iopub.execute_input": "2020-09-27T00:07:25.367116Z",
     "iopub.status.busy": "2020-09-27T00:07:25.366495Z",
     "iopub.status.idle": "2020-09-27T00:07:25.376928Z",
     "shell.execute_reply": "2020-09-27T00:07:25.376461Z"
    },
    "papermill": {
     "duration": 0.048052,
     "end_time": "2020-09-27T00:07:25.377044",
     "exception": false,
     "start_time": "2020-09-27T00:07:25.328992",
     "status": "completed"
    },
    "tags": []
   },
   "outputs": [],
   "source": [
    "y_train = 1*(y_train==3)\n",
    "y_test = 1*(y_test==3)"
   ]
  },
  {
   "cell_type": "code",
   "execution_count": 12,
   "metadata": {
    "execution": {
     "iopub.execute_input": "2020-09-27T00:07:25.442458Z",
     "iopub.status.busy": "2020-09-27T00:07:25.441862Z",
     "iopub.status.idle": "2020-09-27T00:07:25.454152Z",
     "shell.execute_reply": "2020-09-27T00:07:25.453662Z"
    },
    "papermill": {
     "duration": 0.047161,
     "end_time": "2020-09-27T00:07:25.454269",
     "exception": false,
     "start_time": "2020-09-27T00:07:25.407108",
     "status": "completed"
    },
    "tags": []
   },
   "outputs": [
    {
     "data": {
      "text/plain": [
       "((11982, 28, 28), (1984, 28, 28))"
      ]
     },
     "execution_count": 12,
     "metadata": {},
     "output_type": "execute_result"
    }
   ],
   "source": [
    "X_train.shape, X_test.shape"
   ]
  },
  {
   "cell_type": "markdown",
   "metadata": {
    "papermill": {
     "duration": 0.030252,
     "end_time": "2020-09-27T00:07:25.512401",
     "exception": false,
     "start_time": "2020-09-27T00:07:25.482149",
     "status": "completed"
    },
    "tags": []
   },
   "source": [
    "### Reshape the input data to create a linear array"
   ]
  },
  {
   "cell_type": "code",
   "execution_count": 13,
   "metadata": {
    "execution": {
     "iopub.execute_input": "2020-09-27T00:07:25.582204Z",
     "iopub.status.busy": "2020-09-27T00:07:25.581338Z",
     "iopub.status.idle": "2020-09-27T00:07:25.594606Z",
     "shell.execute_reply": "2020-09-27T00:07:25.594055Z"
    },
    "papermill": {
     "duration": 0.053507,
     "end_time": "2020-09-27T00:07:25.594744",
     "exception": false,
     "start_time": "2020-09-27T00:07:25.541237",
     "status": "completed"
    },
    "tags": []
   },
   "outputs": [
    {
     "data": {
      "text/plain": [
       "((11982, 784), (1984, 784))"
      ]
     },
     "execution_count": 13,
     "metadata": {},
     "output_type": "execute_result"
    }
   ],
   "source": [
    "X_train = X_train.reshape(X_train.shape[0], -1)\n",
    "X_test = X_test.reshape(X_test.shape[0], -1)\n",
    "X_train.shape, X_test.shape"
   ]
  },
  {
   "cell_type": "markdown",
   "metadata": {
    "papermill": {
     "duration": 0.029383,
     "end_time": "2020-09-27T00:07:25.653776",
     "exception": false,
     "start_time": "2020-09-27T00:07:25.624393",
     "status": "completed"
    },
    "tags": []
   },
   "source": [
    "### Importing appropriate functions from 'Kudzu'"
   ]
  },
  {
   "cell_type": "code",
   "execution_count": 14,
   "metadata": {
    "execution": {
     "iopub.execute_input": "2020-09-27T00:07:25.721344Z",
     "iopub.status.busy": "2020-09-27T00:07:25.720718Z",
     "iopub.status.idle": "2020-09-27T00:07:25.742730Z",
     "shell.execute_reply": "2020-09-27T00:07:25.742209Z"
    },
    "papermill": {
     "duration": 0.058781,
     "end_time": "2020-09-27T00:07:25.742860",
     "exception": false,
     "start_time": "2020-09-27T00:07:25.684079",
     "status": "completed"
    },
    "tags": []
   },
   "outputs": [],
   "source": [
    "from kudzu.layer import Sigmoid\n",
    "from kudzu.layer import Relu\n",
    "from kudzu.layer import Affine, Sigmoid\n",
    "\n",
    "from kudzu.model import Model\n",
    "from kudzu.train import Learner\n",
    "from kudzu.optim import GD\n",
    "from kudzu.data import Data, Dataloader, Sampler\n",
    "\n",
    "from kudzu.callbacks import AccCallback\n",
    "from kudzu.callbacks import ClfCallback\n",
    "\n",
    "from kudzu.loss import MSE"
   ]
  },
  {
   "cell_type": "markdown",
   "metadata": {
    "papermill": {
     "duration": 0.030723,
     "end_time": "2020-09-27T00:07:25.804792",
     "exception": false,
     "start_time": "2020-09-27T00:07:25.774069",
     "status": "completed"
    },
    "tags": []
   },
   "source": [
    "### Let us create a `Config` class, to store important parameters. \n",
    "This class essentially plays the role of a dictionary."
   ]
  },
  {
   "cell_type": "code",
   "execution_count": 15,
   "metadata": {
    "execution": {
     "iopub.execute_input": "2020-09-27T00:07:25.867407Z",
     "iopub.status.busy": "2020-09-27T00:07:25.866839Z",
     "iopub.status.idle": "2020-09-27T00:07:25.880264Z",
     "shell.execute_reply": "2020-09-27T00:07:25.879628Z"
    },
    "papermill": {
     "duration": 0.047254,
     "end_time": "2020-09-27T00:07:25.880409",
     "exception": false,
     "start_time": "2020-09-27T00:07:25.833155",
     "status": "completed"
    },
    "tags": []
   },
   "outputs": [],
   "source": [
    "class Config:\n",
    "    pass\n",
    "config = Config()\n",
    "config.lr = 0.001\n",
    "config.num_epochs = 251\n",
    "config.bs = 50"
   ]
  },
  {
   "cell_type": "markdown",
   "metadata": {
    "papermill": {
     "duration": 0.036657,
     "end_time": "2020-09-27T00:07:25.953482",
     "exception": false,
     "start_time": "2020-09-27T00:07:25.916825",
     "status": "completed"
    },
    "tags": []
   },
   "source": [
    "### Initializing data to the variables"
   ]
  },
  {
   "cell_type": "code",
   "execution_count": 16,
   "metadata": {
    "execution": {
     "iopub.execute_input": "2020-09-27T00:07:26.033305Z",
     "iopub.status.busy": "2020-09-27T00:07:26.032685Z",
     "iopub.status.idle": "2020-09-27T00:07:26.046801Z",
     "shell.execute_reply": "2020-09-27T00:07:26.047350Z"
    },
    "papermill": {
     "duration": 0.05842,
     "end_time": "2020-09-27T00:07:26.047499",
     "exception": false,
     "start_time": "2020-09-27T00:07:25.989079",
     "status": "completed"
    },
    "tags": []
   },
   "outputs": [],
   "source": [
    "data = Data(X_train, y_train.reshape(-1,1))\n",
    "sampler = Sampler(data, config.bs, shuffle=True)\n",
    "\n",
    "dl = Dataloader(data, sampler)\n",
    "\n",
    "opt = GD(config.lr)\n",
    "loss = MSE()"
   ]
  },
  {
   "cell_type": "code",
   "execution_count": 17,
   "metadata": {
    "execution": {
     "iopub.execute_input": "2020-09-27T00:07:26.113752Z",
     "iopub.status.busy": "2020-09-27T00:07:26.113175Z",
     "iopub.status.idle": "2020-09-27T00:07:26.124854Z",
     "shell.execute_reply": "2020-09-27T00:07:26.125413Z"
    },
    "papermill": {
     "duration": 0.047175,
     "end_time": "2020-09-27T00:07:26.125545",
     "exception": false,
     "start_time": "2020-09-27T00:07:26.078370",
     "status": "completed"
    },
    "tags": []
   },
   "outputs": [],
   "source": [
    "training_xdata = X_train\n",
    "testing_xdata = X_test\n",
    "training_ydata = y_train.reshape(-1,1)\n",
    "testing_ydata = y_test.reshape(-1,1)"
   ]
  },
  {
   "cell_type": "markdown",
   "metadata": {
    "papermill": {
     "duration": 0.029089,
     "end_time": "2020-09-27T00:07:26.184087",
     "exception": false,
     "start_time": "2020-09-27T00:07:26.154998",
     "status": "completed"
    },
    "tags": []
   },
   "source": [
    "### Running Models with the Training data\n",
    "Details about the network layers:\n",
    "- A first affine layer has 784 inputs and does 100 affine transforms. These are followed by a Relu\n",
    "- A second affine layer has 100 inputs from the 100 activations of the past layer, and does 100 affine transforms. These are followed by a Relu\n",
    "- A third affine layer has 100 activations and does 2 affine transformations to create an embedding for visualization. There is no non-linearity here.\n",
    "- A final \"logistic regression\" which has an affine transform from 2 inputs to 1 output, which is squeezed through a sigmoid.\n",
    "\n",
    "Help taken from Anshuman's Notebook."
   ]
  },
  {
   "cell_type": "code",
   "execution_count": 18,
   "metadata": {
    "execution": {
     "iopub.execute_input": "2020-09-27T00:07:26.250189Z",
     "iopub.status.busy": "2020-09-27T00:07:26.249528Z",
     "iopub.status.idle": "2020-09-27T00:07:26.269441Z",
     "shell.execute_reply": "2020-09-27T00:07:26.269889Z"
    },
    "papermill": {
     "duration": 0.053594,
     "end_time": "2020-09-27T00:07:26.270026",
     "exception": false,
     "start_time": "2020-09-27T00:07:26.216432",
     "status": "completed"
    },
    "tags": []
   },
   "outputs": [],
   "source": [
    "# layers for the Neural Network\n",
    "layers = [Affine(\"first\", 784, 100), Relu(\"first\"), Affine(\"second\", 100, 100), Relu(\"second\"), Affine(\"third\", 100, 2), Affine(\"final\", 2, 1), Sigmoid(\"final\")]\n",
    "model_nn = Model(layers)\n",
    "\n",
    "# layers for the Logistic Regression\n",
    "layers_lr = [Affine(\"logits\", 784, 1), Sigmoid(\"sigmoid\")]\n",
    "model_lr = Model(layers_lr)"
   ]
  },
  {
   "cell_type": "code",
   "execution_count": 19,
   "metadata": {
    "execution": {
     "iopub.execute_input": "2020-09-27T00:07:26.339946Z",
     "iopub.status.busy": "2020-09-27T00:07:26.339289Z",
     "iopub.status.idle": "2020-09-27T00:07:26.357312Z",
     "shell.execute_reply": "2020-09-27T00:07:26.356821Z"
    },
    "papermill": {
     "duration": 0.058718,
     "end_time": "2020-09-27T00:07:26.357431",
     "exception": false,
     "start_time": "2020-09-27T00:07:26.298713",
     "status": "completed"
    },
    "tags": []
   },
   "outputs": [],
   "source": [
    "# suffix _nn stands for Neural Network.\n",
    "learner_nn = Learner(loss, model_nn, opt, config.num_epochs)\n",
    "acc_nn = ClfCallback(learner_nn, config.bs, training_xdata , testing_xdata, training_ydata, testing_ydata)\n",
    "learner_nn.set_callbacks([acc_nn])"
   ]
  },
  {
   "cell_type": "code",
   "execution_count": 20,
   "metadata": {
    "execution": {
     "iopub.execute_input": "2020-09-27T00:07:26.421572Z",
     "iopub.status.busy": "2020-09-27T00:07:26.420865Z",
     "iopub.status.idle": "2020-09-27T00:09:35.118184Z",
     "shell.execute_reply": "2020-09-27T00:09:35.118762Z"
    },
    "papermill": {
     "duration": 128.733484,
     "end_time": "2020-09-27T00:09:35.118925",
     "exception": false,
     "start_time": "2020-09-27T00:07:26.385441",
     "status": "completed"
    },
    "tags": []
   },
   "outputs": [
    {
     "name": "stdout",
     "output_type": "stream",
     "text": [
      "====== Neural Network ======\n"
     ]
    },
    {
     "name": "stdout",
     "output_type": "stream",
     "text": [
      "Epoch 0, Loss 0.2097\n",
      "Training Accuracy: 0.8249, Testing Accuracy: 0.8180\n",
      "\n"
     ]
    },
    {
     "name": "stdout",
     "output_type": "stream",
     "text": [
      "Epoch 10, Loss 0.0548\n",
      "Training Accuracy: 0.9440, Testing Accuracy: 0.9526\n",
      "\n"
     ]
    },
    {
     "name": "stdout",
     "output_type": "stream",
     "text": [
      "Epoch 20, Loss 0.0398\n",
      "Training Accuracy: 0.9559, Testing Accuracy: 0.9632\n",
      "\n"
     ]
    },
    {
     "name": "stdout",
     "output_type": "stream",
     "text": [
      "Epoch 30, Loss 0.0338\n",
      "Training Accuracy: 0.9618, Testing Accuracy: 0.9672\n",
      "\n"
     ]
    },
    {
     "name": "stdout",
     "output_type": "stream",
     "text": [
      "Epoch 40, Loss 0.0304\n",
      "Training Accuracy: 0.9655, Testing Accuracy: 0.9703\n",
      "\n"
     ]
    },
    {
     "name": "stdout",
     "output_type": "stream",
     "text": [
      "Epoch 50, Loss 0.0281\n",
      "Training Accuracy: 0.9678, Testing Accuracy: 0.9708\n",
      "\n"
     ]
    },
    {
     "name": "stdout",
     "output_type": "stream",
     "text": [
      "Epoch 60, Loss 0.0265\n",
      "Training Accuracy: 0.9687, Testing Accuracy: 0.9718\n",
      "\n"
     ]
    },
    {
     "name": "stdout",
     "output_type": "stream",
     "text": [
      "Epoch 70, Loss 0.0251\n",
      "Training Accuracy: 0.9708, Testing Accuracy: 0.9733\n",
      "\n"
     ]
    },
    {
     "name": "stdout",
     "output_type": "stream",
     "text": [
      "Epoch 80, Loss 0.024\n",
      "Training Accuracy: 0.9718, Testing Accuracy: 0.9748\n",
      "\n"
     ]
    },
    {
     "name": "stdout",
     "output_type": "stream",
     "text": [
      "Epoch 90, Loss 0.0231\n",
      "Training Accuracy: 0.9725, Testing Accuracy: 0.9758\n",
      "\n"
     ]
    },
    {
     "name": "stdout",
     "output_type": "stream",
     "text": [
      "Epoch 100, Loss 0.0222\n",
      "Training Accuracy: 0.9740, Testing Accuracy: 0.9758\n",
      "\n"
     ]
    },
    {
     "name": "stdout",
     "output_type": "stream",
     "text": [
      "Epoch 110, Loss 0.0214\n",
      "Training Accuracy: 0.9755, Testing Accuracy: 0.9758\n",
      "\n"
     ]
    },
    {
     "name": "stdout",
     "output_type": "stream",
     "text": [
      "Epoch 120, Loss 0.0207\n",
      "Training Accuracy: 0.9765, Testing Accuracy: 0.9768\n",
      "\n"
     ]
    },
    {
     "name": "stdout",
     "output_type": "stream",
     "text": [
      "Epoch 130, Loss 0.0201\n",
      "Training Accuracy: 0.9774, Testing Accuracy: 0.9768\n",
      "\n"
     ]
    },
    {
     "name": "stdout",
     "output_type": "stream",
     "text": [
      "Epoch 140, Loss 0.0195\n",
      "Training Accuracy: 0.9781, Testing Accuracy: 0.9768\n",
      "\n"
     ]
    },
    {
     "name": "stdout",
     "output_type": "stream",
     "text": [
      "Epoch 150, Loss 0.0189\n",
      "Training Accuracy: 0.9786, Testing Accuracy: 0.9773\n",
      "\n"
     ]
    },
    {
     "name": "stdout",
     "output_type": "stream",
     "text": [
      "Epoch 160, Loss 0.0184\n",
      "Training Accuracy: 0.9791, Testing Accuracy: 0.9768\n",
      "\n"
     ]
    },
    {
     "name": "stdout",
     "output_type": "stream",
     "text": [
      "Epoch 170, Loss 0.0179\n",
      "Training Accuracy: 0.9803, Testing Accuracy: 0.9783\n",
      "\n"
     ]
    },
    {
     "name": "stdout",
     "output_type": "stream",
     "text": [
      "Epoch 180, Loss 0.0174\n",
      "Training Accuracy: 0.9812, Testing Accuracy: 0.9778\n",
      "\n"
     ]
    },
    {
     "name": "stdout",
     "output_type": "stream",
     "text": [
      "Epoch 190, Loss 0.0169\n",
      "Training Accuracy: 0.9817, Testing Accuracy: 0.9783\n",
      "\n"
     ]
    },
    {
     "name": "stdout",
     "output_type": "stream",
     "text": [
      "Epoch 200, Loss 0.0165\n",
      "Training Accuracy: 0.9824, Testing Accuracy: 0.9778\n",
      "\n"
     ]
    },
    {
     "name": "stdout",
     "output_type": "stream",
     "text": [
      "Epoch 210, Loss 0.0161\n",
      "Training Accuracy: 0.9828, Testing Accuracy: 0.9778\n",
      "\n"
     ]
    },
    {
     "name": "stdout",
     "output_type": "stream",
     "text": [
      "Epoch 220, Loss 0.0157\n",
      "Training Accuracy: 0.9836, Testing Accuracy: 0.9778\n",
      "\n"
     ]
    },
    {
     "name": "stdout",
     "output_type": "stream",
     "text": [
      "Epoch 230, Loss 0.0153\n",
      "Training Accuracy: 0.9837, Testing Accuracy: 0.9778\n",
      "\n"
     ]
    },
    {
     "name": "stdout",
     "output_type": "stream",
     "text": [
      "Epoch 240, Loss 0.0149\n",
      "Training Accuracy: 0.9841, Testing Accuracy: 0.9773\n",
      "\n"
     ]
    },
    {
     "name": "stdout",
     "output_type": "stream",
     "text": [
      "Epoch 250, Loss 0.0145\n",
      "Training Accuracy: 0.9850, Testing Accuracy: 0.9788\n",
      "\n"
     ]
    },
    {
     "data": {
      "text/plain": [
       "0.00013197893448342002"
      ]
     },
     "execution_count": 20,
     "metadata": {},
     "output_type": "execute_result"
    }
   ],
   "source": [
    "print(\"====== Neural Network ======\")\n",
    "learner_nn.train_loop(dl)"
   ]
  },
  {
   "cell_type": "markdown",
   "metadata": {
    "papermill": {
     "duration": 0.037007,
     "end_time": "2020-09-27T00:09:35.194656",
     "exception": false,
     "start_time": "2020-09-27T00:09:35.157649",
     "status": "completed"
    },
    "tags": []
   },
   "source": [
    "### Logistic Regression based Implementation."
   ]
  },
  {
   "cell_type": "code",
   "execution_count": 21,
   "metadata": {
    "execution": {
     "iopub.execute_input": "2020-09-27T00:09:35.289232Z",
     "iopub.status.busy": "2020-09-27T00:09:35.288510Z",
     "iopub.status.idle": "2020-09-27T00:09:35.297886Z",
     "shell.execute_reply": "2020-09-27T00:09:35.298441Z"
    },
    "papermill": {
     "duration": 0.064385,
     "end_time": "2020-09-27T00:09:35.298604",
     "exception": false,
     "start_time": "2020-09-27T00:09:35.234219",
     "status": "completed"
    },
    "tags": []
   },
   "outputs": [],
   "source": [
    "learner_lr = Learner(loss, model_lr, opt, config.num_epochs)\n",
    "acc_lr = ClfCallback(learner_lr, config.bs, training_xdata , testing_xdata, training_ydata, testing_ydata)\n",
    "learner_lr.set_callbacks([acc_lr])"
   ]
  },
  {
   "cell_type": "code",
   "execution_count": 22,
   "metadata": {
    "execution": {
     "iopub.execute_input": "2020-09-27T00:09:35.396818Z",
     "iopub.status.busy": "2020-09-27T00:09:35.394913Z",
     "iopub.status.idle": "2020-09-27T00:09:54.808875Z",
     "shell.execute_reply": "2020-09-27T00:09:54.807886Z"
    },
    "papermill": {
     "duration": 19.464274,
     "end_time": "2020-09-27T00:09:54.809020",
     "exception": false,
     "start_time": "2020-09-27T00:09:35.344746",
     "status": "completed"
    },
    "tags": []
   },
   "outputs": [
    {
     "name": "stdout",
     "output_type": "stream",
     "text": [
      "====== Logistic Regression ======\n",
      "Epoch 0, Loss 0.2778\n",
      "Training Accuracy: 0.5297, Testing Accuracy: 0.5348\n",
      "\n"
     ]
    },
    {
     "name": "stdout",
     "output_type": "stream",
     "text": [
      "Epoch 10, Loss 0.105\n",
      "Training Accuracy: 0.9112, Testing Accuracy: 0.9239\n",
      "\n"
     ]
    },
    {
     "name": "stdout",
     "output_type": "stream",
     "text": [
      "Epoch 20, Loss 0.0794\n",
      "Training Accuracy: 0.9296, Testing Accuracy: 0.9425\n",
      "\n"
     ]
    },
    {
     "name": "stdout",
     "output_type": "stream",
     "text": [
      "Epoch 30, Loss 0.0682\n",
      "Training Accuracy: 0.9367, Testing Accuracy: 0.9491\n",
      "\n"
     ]
    },
    {
     "name": "stdout",
     "output_type": "stream",
     "text": [
      "Epoch 40, Loss 0.0615\n",
      "Training Accuracy: 0.9406, Testing Accuracy: 0.9536\n",
      "\n"
     ]
    },
    {
     "name": "stdout",
     "output_type": "stream",
     "text": [
      "Epoch 50, Loss 0.057\n",
      "Training Accuracy: 0.9438, Testing Accuracy: 0.9561\n",
      "\n"
     ]
    },
    {
     "name": "stdout",
     "output_type": "stream",
     "text": [
      "Epoch 60, Loss 0.0537\n",
      "Training Accuracy: 0.9464, Testing Accuracy: 0.9567\n",
      "\n"
     ]
    },
    {
     "name": "stdout",
     "output_type": "stream",
     "text": [
      "Epoch 70, Loss 0.0512\n",
      "Training Accuracy: 0.9485, Testing Accuracy: 0.9577\n",
      "\n"
     ]
    },
    {
     "name": "stdout",
     "output_type": "stream",
     "text": [
      "Epoch 80, Loss 0.0492\n",
      "Training Accuracy: 0.9503, Testing Accuracy: 0.9597\n",
      "\n"
     ]
    },
    {
     "name": "stdout",
     "output_type": "stream",
     "text": [
      "Epoch 90, Loss 0.0475\n",
      "Training Accuracy: 0.9521, Testing Accuracy: 0.9597\n",
      "\n"
     ]
    },
    {
     "name": "stdout",
     "output_type": "stream",
     "text": [
      "Epoch 100, Loss 0.0461\n",
      "Training Accuracy: 0.9538, Testing Accuracy: 0.9622\n",
      "\n"
     ]
    },
    {
     "name": "stdout",
     "output_type": "stream",
     "text": [
      "Epoch 110, Loss 0.0449\n",
      "Training Accuracy: 0.9551, Testing Accuracy: 0.9647\n",
      "\n"
     ]
    },
    {
     "name": "stdout",
     "output_type": "stream",
     "text": [
      "Epoch 120, Loss 0.0438\n",
      "Training Accuracy: 0.9558, Testing Accuracy: 0.9657\n",
      "\n"
     ]
    },
    {
     "name": "stdout",
     "output_type": "stream",
     "text": [
      "Epoch 130, Loss 0.0429\n",
      "Training Accuracy: 0.9565, Testing Accuracy: 0.9662\n",
      "\n"
     ]
    },
    {
     "name": "stdout",
     "output_type": "stream",
     "text": [
      "Epoch 140, Loss 0.042\n",
      "Training Accuracy: 0.9569, Testing Accuracy: 0.9667\n",
      "\n"
     ]
    },
    {
     "name": "stdout",
     "output_type": "stream",
     "text": [
      "Epoch 150, Loss 0.0413\n",
      "Training Accuracy: 0.9570, Testing Accuracy: 0.9682\n",
      "\n"
     ]
    },
    {
     "name": "stdout",
     "output_type": "stream",
     "text": [
      "Epoch 160, Loss 0.0406\n",
      "Training Accuracy: 0.9573, Testing Accuracy: 0.9682\n",
      "\n"
     ]
    },
    {
     "name": "stdout",
     "output_type": "stream",
     "text": [
      "Epoch 170, Loss 0.04\n",
      "Training Accuracy: 0.9579, Testing Accuracy: 0.9677\n",
      "\n"
     ]
    },
    {
     "name": "stdout",
     "output_type": "stream",
     "text": [
      "Epoch 180, Loss 0.0395\n",
      "Training Accuracy: 0.9580, Testing Accuracy: 0.9688\n",
      "\n"
     ]
    },
    {
     "name": "stdout",
     "output_type": "stream",
     "text": [
      "Epoch 190, Loss 0.0389\n",
      "Training Accuracy: 0.9585, Testing Accuracy: 0.9693\n",
      "\n"
     ]
    },
    {
     "name": "stdout",
     "output_type": "stream",
     "text": [
      "Epoch 200, Loss 0.0385\n",
      "Training Accuracy: 0.9591, Testing Accuracy: 0.9698\n",
      "\n"
     ]
    },
    {
     "name": "stdout",
     "output_type": "stream",
     "text": [
      "Epoch 210, Loss 0.038\n",
      "Training Accuracy: 0.9594, Testing Accuracy: 0.9698\n",
      "\n"
     ]
    },
    {
     "name": "stdout",
     "output_type": "stream",
     "text": [
      "Epoch 220, Loss 0.0376\n",
      "Training Accuracy: 0.9597, Testing Accuracy: 0.9693\n",
      "\n"
     ]
    },
    {
     "name": "stdout",
     "output_type": "stream",
     "text": [
      "Epoch 230, Loss 0.0372\n",
      "Training Accuracy: 0.9598, Testing Accuracy: 0.9693\n",
      "\n"
     ]
    },
    {
     "name": "stdout",
     "output_type": "stream",
     "text": [
      "Epoch 240, Loss 0.0369\n",
      "Training Accuracy: 0.9604, Testing Accuracy: 0.9688\n",
      "\n"
     ]
    },
    {
     "name": "stdout",
     "output_type": "stream",
     "text": [
      "Epoch 250, Loss 0.0365\n",
      "Training Accuracy: 0.9609, Testing Accuracy: 0.9688\n",
      "\n"
     ]
    },
    {
     "data": {
      "text/plain": [
       "0.022679650304183514"
      ]
     },
     "execution_count": 22,
     "metadata": {},
     "output_type": "execute_result"
    }
   ],
   "source": [
    "print(\"====== Logistic Regression ======\")\n",
    "learner_lr.train_loop(dl)"
   ]
  },
  {
   "cell_type": "markdown",
   "metadata": {
    "papermill": {
     "duration": 0.045287,
     "end_time": "2020-09-27T00:09:54.901122",
     "exception": false,
     "start_time": "2020-09-27T00:09:54.855835",
     "status": "completed"
    },
    "tags": []
   },
   "source": [
    "### Comparing results of NN and LR"
   ]
  },
  {
   "cell_type": "code",
   "execution_count": 23,
   "metadata": {
    "execution": {
     "iopub.execute_input": "2020-09-27T00:09:54.998229Z",
     "iopub.status.busy": "2020-09-27T00:09:54.996967Z",
     "iopub.status.idle": "2020-09-27T00:09:55.274465Z",
     "shell.execute_reply": "2020-09-27T00:09:55.274939Z"
    },
    "papermill": {
     "duration": 0.327716,
     "end_time": "2020-09-27T00:09:55.275099",
     "exception": false,
     "start_time": "2020-09-27T00:09:54.947383",
     "status": "completed"
    },
    "tags": []
   },
   "outputs": [
    {
     "data": {
      "text/plain": [
       "<matplotlib.legend.Legend at 0x7f32932732e8>"
      ]
     },
     "execution_count": 23,
     "metadata": {},
     "output_type": "execute_result"
    },
    {
     "data": {
      "image/png": "[encoded data removed]",
      "text/plain": [
       "<Figure size 1080x720 with 1 Axes>"
      ]
     },
     "metadata": {
      "needs_background": "light"
     },
     "output_type": "display_data"
    }
   ],
   "source": [
    "plt.figure(figsize=(15,10))\n",
    "\n",
    "# Neural Network plots\n",
    "plt.plot(acc_nn.accuracies, 'r-', label = \"Training Accuracies - NN\")\n",
    "plt.plot(acc_nn.test_accuracies, 'g-', label = \"Testing Accuracies - NN\")\n",
    "\n",
    "# Logistic Regression plots\n",
    "plt.plot(acc_lr.accuracies, 'k-', label = \"Training Accuracies - LR\")\n",
    "plt.plot(acc_lr.test_accuracies, 'b-', label = \"Testing Accuracies - LR\")\n",
    "\n",
    "plt.ylim(0.8, 1)\n",
    "\n",
    "plt.legend()\n",
    "\n"
   ]
  },
  {
   "cell_type": "markdown",
   "metadata": {
    "papermill": {
     "duration": 0.051487,
     "end_time": "2020-09-27T00:09:55.374414",
     "exception": false,
     "start_time": "2020-09-27T00:09:55.322927",
     "status": "completed"
    },
    "tags": []
   },
   "source": [
    "### From the plot, we can observe the following:\n",
    "- Neural Network achieves higher accuracy than the Logistic Regression model.\n",
    "- This apparently, is because of overfitting, i.e. NN captures more noise than data.\n",
    "- Testing accuracy of NN drops below the Training accuracy at higher epochs. This explains the over-fitting on training data.\n",
    "- Logistic Regression gives a reliable accuracy, without the above mentioned problem.\n"
   ]
  },
  {
   "cell_type": "markdown",
   "metadata": {
    "papermill": {
     "duration": 0.052626,
     "end_time": "2020-09-27T00:09:55.486527",
     "exception": false,
     "start_time": "2020-09-27T00:09:55.433901",
     "status": "completed"
    },
    "tags": []
   },
   "source": [
    "### Moving till the last but one layer (excluding it).\n",
    "#### Plotting the outputs of this layer of the NN."
   ]
  },
  {
   "cell_type": "code",
   "execution_count": 24,
   "metadata": {
    "execution": {
     "iopub.execute_input": "2020-09-27T00:09:55.586813Z",
     "iopub.status.busy": "2020-09-27T00:09:55.583869Z",
     "iopub.status.idle": "2020-09-27T00:09:55.596949Z",
     "shell.execute_reply": "2020-09-27T00:09:55.596358Z"
    },
    "papermill": {
     "duration": 0.065259,
     "end_time": "2020-09-27T00:09:55.597102",
     "exception": false,
     "start_time": "2020-09-27T00:09:55.531843",
     "status": "completed"
    },
    "tags": []
   },
   "outputs": [],
   "source": [
    "model_new = Model(layers[:-2])"
   ]
  },
  {
   "cell_type": "code",
   "execution_count": 25,
   "metadata": {
    "execution": {
     "iopub.execute_input": "2020-09-27T00:09:55.721778Z",
     "iopub.status.busy": "2020-09-27T00:09:55.721056Z",
     "iopub.status.idle": "2020-09-27T00:09:55.745210Z",
     "shell.execute_reply": "2020-09-27T00:09:55.745983Z"
    },
    "papermill": {
     "duration": 0.088112,
     "end_time": "2020-09-27T00:09:55.746152",
     "exception": false,
     "start_time": "2020-09-27T00:09:55.658040",
     "status": "completed"
    },
    "tags": []
   },
   "outputs": [],
   "source": [
    "plot_testing = model_new(testing_xdata)"
   ]
  },
  {
   "cell_type": "code",
   "execution_count": 26,
   "metadata": {
    "execution": {
     "iopub.execute_input": "2020-09-27T00:09:55.864432Z",
     "iopub.status.busy": "2020-09-27T00:09:55.862158Z",
     "iopub.status.idle": "2020-09-27T00:09:56.110933Z",
     "shell.execute_reply": "2020-09-27T00:09:56.111516Z"
    },
    "papermill": {
     "duration": 0.309385,
     "end_time": "2020-09-27T00:09:56.111718",
     "exception": false,
     "start_time": "2020-09-27T00:09:55.802333",
     "status": "completed"
    },
    "tags": []
   },
   "outputs": [
    {
     "data": {
      "text/plain": [
       "Text(0.5, 1.0, 'Outputs')"
      ]
     },
     "execution_count": 26,
     "metadata": {},
     "output_type": "execute_result"
    },
    {
     "data": {
      "image/png": "[encoded data removed]",
      "text/plain": [
       "<Figure size 576x504 with 1 Axes>"
      ]
     },
     "metadata": {
      "needs_background": "light"
     },
     "output_type": "display_data"
    }
   ],
   "source": [
    "plt.figure(figsize=(8,7))\n",
    "plt.scatter(plot_testing[:,0], plot_testing[:,1], alpha = 0.1, c = y_test.ravel());\n",
    "plt.title('Outputs')"
   ]
  },
  {
   "cell_type": "markdown",
   "metadata": {
    "papermill": {
     "duration": 0.052349,
     "end_time": "2020-09-27T00:09:56.227223",
     "exception": false,
     "start_time": "2020-09-27T00:09:56.174874",
     "status": "completed"
    },
    "tags": []
   },
   "source": [
    "### Plotting probability contours"
   ]
  },
  {
   "cell_type": "code",
   "execution_count": 27,
   "metadata": {
    "execution": {
     "iopub.execute_input": "2020-09-27T00:09:56.333693Z",
     "iopub.status.busy": "2020-09-27T00:09:56.332750Z",
     "iopub.status.idle": "2020-09-27T00:09:56.344229Z",
     "shell.execute_reply": "2020-09-27T00:09:56.343550Z"
    },
    "papermill": {
     "duration": 0.066589,
     "end_time": "2020-09-27T00:09:56.344385",
     "exception": false,
     "start_time": "2020-09-27T00:09:56.277796",
     "status": "completed"
    },
    "tags": []
   },
   "outputs": [],
   "source": [
    "model_prob = Model(layers[-2:]) "
   ]
  },
  {
   "cell_type": "code",
   "execution_count": 28,
   "metadata": {
    "execution": {
     "iopub.execute_input": "2020-09-27T00:09:56.475334Z",
     "iopub.status.busy": "2020-09-27T00:09:56.474593Z",
     "iopub.status.idle": "2020-09-27T00:09:56.486512Z",
     "shell.execute_reply": "2020-09-27T00:09:56.486980Z"
    },
    "papermill": {
     "duration": 0.081197,
     "end_time": "2020-09-27T00:09:56.487126",
     "exception": false,
     "start_time": "2020-09-27T00:09:56.405929",
     "status": "completed"
    },
    "tags": []
   },
   "outputs": [],
   "source": [
    "# Adjust the x and y ranges according to the above generated plot.\n",
    "x_range = np.linspace(-4, 1, 100) \n",
    "y_range = np.linspace(-6, 6, 100) \n",
    "x_grid, y_grid = np.meshgrid(x_range, y_range) # x_grid and y_grig are of size 100 X 100\n",
    "\n",
    "# converting x_grid and y_grid to continuous arrays\n",
    "x_grid_flat = np.ravel(x_grid)\n",
    "y_grid_flat = np.ravel(y_grid)\n",
    "\n",
    "# The last layer of the current model takes two columns as input. Hence transpose of np.vstack() is required.\n",
    "X = np.vstack((x_grid_flat, y_grid_flat)).T\n",
    "\n",
    "# x_grid and y_grid are of size 100 x 100\n",
    "probability_contour = model_prob(X).reshape(100,100) "
   ]
  },
  {
   "cell_type": "code",
   "execution_count": 29,
   "metadata": {
    "execution": {
     "iopub.execute_input": "2020-09-27T00:09:56.597140Z",
     "iopub.status.busy": "2020-09-27T00:09:56.596428Z",
     "iopub.status.idle": "2020-09-27T00:09:56.867548Z",
     "shell.execute_reply": "2020-09-27T00:09:56.866551Z"
    },
    "papermill": {
     "duration": 0.329583,
     "end_time": "2020-09-27T00:09:56.867731",
     "exception": false,
     "start_time": "2020-09-27T00:09:56.538148",
     "status": "completed"
    },
    "tags": []
   },
   "outputs": [
    {
     "data": {
      "image/png": "[encoded data removed]",
      "text/plain": [
       "<Figure size 720x648 with 1 Axes>"
      ]
     },
     "metadata": {
      "needs_background": "light"
     },
     "output_type": "display_data"
    }
   ],
   "source": [
    "plt.figure(figsize=(10,9))\n",
    "plt.scatter(plot_testing[:,0], plot_testing[:,1], alpha = 0.1, c = y_test.ravel())\n",
    "contours = plt.contour(x_grid,y_grid,probability_contour)\n",
    "plt.title('Probability Contours')\n",
    "plt.clabel(contours, inline = True );"
   ]
  }
 ],
 "metadata": {
  "kernelspec": {
   "display_name": "Python 3",
   "language": "python",
   "name": "python3"
  },
  "language_info": {
   "codemirror_mode": {
    "name": "ipython",
    "version": 3
   },
   "file_extension": ".py",
   "mimetype": "text/x-python",
   "name": "python",
   "nbconvert_exporter": "python",
   "pygments_lexer": "ipython3",
   "version": "3.6.12"
  },
  "papermill": {
   "duration": 160.374818,
   "end_time": "2020-09-27T00:09:57.361114",
   "environment_variables": {},
   "exception": null,
   "input_path": "2020-08-11-NeuralNetwork.ipynb",
   "output_path": "2020-08-11-NeuralNetwork.ipynb",
   "parameters": {},
   "start_time": "2020-09-27T00:07:16.986296",
   "version": "2.1.2"
  }
 },
 "nbformat": 4,
 "nbformat_minor": 4
}