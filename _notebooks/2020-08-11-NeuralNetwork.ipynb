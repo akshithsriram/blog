{
 "cells": [
  {
   "cell_type": "markdown",
   "metadata": {
    "papermill": {
     "duration": 0.030722,
     "end_time": "2020-10-08T20:04:39.437881",
     "exception": false,
     "start_time": "2020-10-08T20:04:39.407159",
     "status": "completed"
    },
    "tags": []
   },
   "source": [
    "# \"A Basic Neural Network: Differentiate Hand-Written Digits\"\n",
    "\n",
    "- badges: true\n",
    "- author: Akshith Sriram"
   ]
  },
  {
   "cell_type": "markdown",
   "metadata": {
    "papermill": {
     "duration": 0.025743,
     "end_time": "2020-10-08T20:04:39.489901",
     "exception": false,
     "start_time": "2020-10-08T20:04:39.464158",
     "status": "completed"
    },
    "tags": []
   },
   "source": [
    "### Key Objectives:\n",
    "- Building a neural network that differentiates two hand-written digits 3 and 8.\n",
    "- Comparing the results of this Neural Network (NN) to that of a Logistic Regression (LR) model.\n",
    "\n",
    "### Requirements:\n",
    "- 'Kudzu' : A neural network library that was designed during our course by [Univ.AI](www.univ.ai). \n",
    "- MNIST Database\n",
    "\n",
    "If MNIST is not installed, use the command `!pip install mnist` given below.\n",
    "It can be run both from the command line and Jupyter Notebook."
   ]
  },
  {
   "cell_type": "code",
   "execution_count": 1,
   "metadata": {
    "execution": {
     "iopub.execute_input": "2020-10-08T20:04:39.546324Z",
     "iopub.status.busy": "2020-10-08T20:04:39.545669Z",
     "iopub.status.idle": "2020-10-08T20:04:43.426836Z",
     "shell.execute_reply": "2020-10-08T20:04:43.427436Z"
    },
    "papermill": {
     "duration": 3.91187,
     "end_time": "2020-10-08T20:04:43.427666",
     "exception": false,
     "start_time": "2020-10-08T20:04:39.515796",
     "status": "completed"
    },
    "tags": []
   },
   "outputs": [
    {
     "name": "stdout",
     "output_type": "stream",
     "text": [
      "Collecting mnist\r\n"
     ]
    },
    {
     "name": "stdout",
     "output_type": "stream",
     "text": [
      "  Downloading mnist-0.2.2-py2.py3-none-any.whl (3.5 kB)\r\n",
      "Requirement already satisfied: numpy in /opt/hostedtoolcache/Python/3.6.12/x64/lib/python3.6/site-packages (from mnist) (1.19.2)\r\n"
     ]
    },
    {
     "name": "stdout",
     "output_type": "stream",
     "text": [
      "Installing collected packages: mnist\r\n"
     ]
    },
    {
     "name": "stdout",
     "output_type": "stream",
     "text": [
      "Successfully installed mnist-0.2.2\r\n"
     ]
    }
   ],
   "source": [
    "!pip install mnist "
   ]
  },
  {
   "cell_type": "markdown",
   "metadata": {
    "papermill": {
     "duration": 0.027137,
     "end_time": "2020-10-08T20:04:43.484716",
     "exception": false,
     "start_time": "2020-10-08T20:04:43.457579",
     "status": "completed"
    },
    "tags": []
   },
   "source": [
    "#### Importing necessary libraries"
   ]
  },
  {
   "cell_type": "code",
   "execution_count": 2,
   "metadata": {
    "execution": {
     "iopub.execute_input": "2020-10-08T20:04:43.555274Z",
     "iopub.status.busy": "2020-10-08T20:04:43.554587Z",
     "iopub.status.idle": "2020-10-08T20:04:44.163878Z",
     "shell.execute_reply": "2020-10-08T20:04:44.163216Z"
    },
    "papermill": {
     "duration": 0.646322,
     "end_time": "2020-10-08T20:04:44.164044",
     "exception": false,
     "start_time": "2020-10-08T20:04:43.517722",
     "status": "completed"
    },
    "tags": []
   },
   "outputs": [],
   "source": [
    "%load_ext autoreload\n",
    "%autoreload 2\n",
    "\n",
    "%matplotlib inline\n",
    "import matplotlib.pyplot as plt\n",
    "\n",
    "import numpy as np\n",
    "import pandas as pd"
   ]
  },
  {
   "cell_type": "markdown",
   "metadata": {
    "papermill": {
     "duration": 0.027076,
     "end_time": "2020-10-08T20:04:44.217844",
     "exception": false,
     "start_time": "2020-10-08T20:04:44.190768",
     "status": "completed"
    },
    "tags": []
   },
   "source": [
    "### Preparing the Data"
   ]
  },
  {
   "cell_type": "code",
   "execution_count": 3,
   "metadata": {
    "execution": {
     "iopub.execute_input": "2020-10-08T20:04:44.280029Z",
     "iopub.status.busy": "2020-10-08T20:04:44.278893Z",
     "iopub.status.idle": "2020-10-08T20:04:44.289767Z",
     "shell.execute_reply": "2020-10-08T20:04:44.290337Z"
    },
    "papermill": {
     "duration": 0.046953,
     "end_time": "2020-10-08T20:04:44.290497",
     "exception": false,
     "start_time": "2020-10-08T20:04:44.243544",
     "status": "completed"
    },
    "tags": []
   },
   "outputs": [],
   "source": [
    "import mnist"
   ]
  },
  {
   "cell_type": "code",
   "execution_count": 4,
   "metadata": {
    "execution": {
     "iopub.execute_input": "2020-10-08T20:04:44.357269Z",
     "iopub.status.busy": "2020-10-08T20:04:44.356624Z",
     "iopub.status.idle": "2020-10-08T20:04:45.326759Z",
     "shell.execute_reply": "2020-10-08T20:04:45.327281Z"
    },
    "papermill": {
     "duration": 1.008377,
     "end_time": "2020-10-08T20:04:45.327464",
     "exception": false,
     "start_time": "2020-10-08T20:04:44.319087",
     "status": "completed"
    },
    "tags": []
   },
   "outputs": [],
   "source": [
    "train_images = mnist.train_images()\n",
    "train_labels = mnist.train_labels()"
   ]
  },
  {
   "cell_type": "code",
   "execution_count": 5,
   "metadata": {
    "execution": {
     "iopub.execute_input": "2020-10-08T20:04:45.390270Z",
     "iopub.status.busy": "2020-10-08T20:04:45.389645Z",
     "iopub.status.idle": "2020-10-08T20:04:45.405773Z",
     "shell.execute_reply": "2020-10-08T20:04:45.403782Z"
    },
    "papermill": {
     "duration": 0.050172,
     "end_time": "2020-10-08T20:04:45.405953",
     "exception": false,
     "start_time": "2020-10-08T20:04:45.355781",
     "status": "completed"
    },
    "tags": []
   },
   "outputs": [
    {
     "data": {
      "text/plain": [
       "((60000, 28, 28), (60000,))"
      ]
     },
     "execution_count": 5,
     "metadata": {},
     "output_type": "execute_result"
    }
   ],
   "source": [
    "train_images.shape, train_labels.shape"
   ]
  },
  {
   "cell_type": "code",
   "execution_count": 6,
   "metadata": {
    "execution": {
     "iopub.execute_input": "2020-10-08T20:04:45.465876Z",
     "iopub.status.busy": "2020-10-08T20:04:45.465264Z",
     "iopub.status.idle": "2020-10-08T20:04:45.922616Z",
     "shell.execute_reply": "2020-10-08T20:04:45.922065Z"
    },
    "papermill": {
     "duration": 0.489198,
     "end_time": "2020-10-08T20:04:45.922769",
     "exception": false,
     "start_time": "2020-10-08T20:04:45.433571",
     "status": "completed"
    },
    "tags": []
   },
   "outputs": [],
   "source": [
    "test_images = mnist.test_images()\n",
    "test_labels = mnist.test_labels()"
   ]
  },
  {
   "cell_type": "code",
   "execution_count": 7,
   "metadata": {
    "execution": {
     "iopub.execute_input": "2020-10-08T20:04:45.989295Z",
     "iopub.status.busy": "2020-10-08T20:04:45.988649Z",
     "iopub.status.idle": "2020-10-08T20:04:46.003270Z",
     "shell.execute_reply": "2020-10-08T20:04:46.002710Z"
    },
    "papermill": {
     "duration": 0.050604,
     "end_time": "2020-10-08T20:04:46.003425",
     "exception": false,
     "start_time": "2020-10-08T20:04:45.952821",
     "status": "completed"
    },
    "tags": []
   },
   "outputs": [
    {
     "data": {
      "text/plain": [
       "((10000, 28, 28), (10000,))"
      ]
     },
     "execution_count": 7,
     "metadata": {},
     "output_type": "execute_result"
    }
   ],
   "source": [
    "test_images.shape, test_labels.shape"
   ]
  },
  {
   "cell_type": "code",
   "execution_count": 8,
   "metadata": {
    "execution": {
     "iopub.execute_input": "2020-10-08T20:04:46.069449Z",
     "iopub.status.busy": "2020-10-08T20:04:46.068800Z",
     "iopub.status.idle": "2020-10-08T20:04:46.219300Z",
     "shell.execute_reply": "2020-10-08T20:04:46.219790Z"
    },
    "papermill": {
     "duration": 0.188108,
     "end_time": "2020-10-08T20:04:46.219955",
     "exception": false,
     "start_time": "2020-10-08T20:04:46.031847",
     "status": "completed"
    },
    "tags": []
   },
   "outputs": [
    {
     "name": "stdout",
     "output_type": "stream",
     "text": [
      "2\n"
     ]
    },
    {
     "data": {
      "text/plain": [
       "<matplotlib.image.AxesImage at 0x7f2ccbb84978>"
      ]
     },
     "execution_count": 8,
     "metadata": {},
     "output_type": "execute_result"
    },
    {
     "data": {
      "image/png": "[encoded data removed]",
      "text/plain": [
       "<Figure size 432x288 with 1 Axes>"
      ]
     },
     "metadata": {
      "needs_background": "light"
     },
     "output_type": "display_data"
    }
   ],
   "source": [
    "image_index = 7776 # You may select anything up to 60,000\n",
    "print(train_labels[image_index]) \n",
    "plt.imshow(train_images[image_index], cmap='Greys')"
   ]
  },
  {
   "cell_type": "markdown",
   "metadata": {
    "papermill": {
     "duration": 0.028632,
     "end_time": "2020-10-08T20:04:46.276645",
     "exception": false,
     "start_time": "2020-10-08T20:04:46.248013",
     "status": "completed"
    },
    "tags": []
   },
   "source": [
    "## Filter data to get 3 and 8 out"
   ]
  },
  {
   "cell_type": "code",
   "execution_count": 9,
   "metadata": {
    "execution": {
     "iopub.execute_input": "2020-10-08T20:04:46.339230Z",
     "iopub.status.busy": "2020-10-08T20:04:46.338630Z",
     "iopub.status.idle": "2020-10-08T20:04:46.358584Z",
     "shell.execute_reply": "2020-10-08T20:04:46.357691Z"
    },
    "papermill": {
     "duration": 0.053952,
     "end_time": "2020-10-08T20:04:46.358824",
     "exception": false,
     "start_time": "2020-10-08T20:04:46.304872",
     "status": "completed"
    },
    "tags": []
   },
   "outputs": [],
   "source": [
    "train_filter = np.where((train_labels == 3 ) | (train_labels == 8))\n",
    "test_filter = np.where((test_labels == 3) | (test_labels == 8))\n",
    "X_train, y_train = train_images[train_filter], train_labels[train_filter]\n",
    "X_test, y_test = test_images[test_filter], test_labels[test_filter]"
   ]
  },
  {
   "cell_type": "markdown",
   "metadata": {
    "papermill": {
     "duration": 0.028323,
     "end_time": "2020-10-08T20:04:46.416733",
     "exception": false,
     "start_time": "2020-10-08T20:04:46.388410",
     "status": "completed"
    },
    "tags": []
   },
   "source": [
    "We normalize the pixel values in the 0 to 1 range"
   ]
  },
  {
   "cell_type": "code",
   "execution_count": 10,
   "metadata": {
    "execution": {
     "iopub.execute_input": "2020-10-08T20:04:46.480145Z",
     "iopub.status.busy": "2020-10-08T20:04:46.479544Z",
     "iopub.status.idle": "2020-10-08T20:04:46.532689Z",
     "shell.execute_reply": "2020-10-08T20:04:46.532136Z"
    },
    "papermill": {
     "duration": 0.087785,
     "end_time": "2020-10-08T20:04:46.532842",
     "exception": false,
     "start_time": "2020-10-08T20:04:46.445057",
     "status": "completed"
    },
    "tags": []
   },
   "outputs": [],
   "source": [
    "X_train = X_train/255.\n",
    "X_test = X_test/255."
   ]
  },
  {
   "cell_type": "markdown",
   "metadata": {
    "papermill": {
     "duration": 0.030661,
     "end_time": "2020-10-08T20:04:46.597893",
     "exception": false,
     "start_time": "2020-10-08T20:04:46.567232",
     "status": "completed"
    },
    "tags": []
   },
   "source": [
    "Setup the labels as 1 (when the digit is 3) and 0 (when the digit is 8)"
   ]
  },
  {
   "cell_type": "code",
   "execution_count": 11,
   "metadata": {
    "execution": {
     "iopub.execute_input": "2020-10-08T20:04:46.666144Z",
     "iopub.status.busy": "2020-10-08T20:04:46.665519Z",
     "iopub.status.idle": "2020-10-08T20:04:46.678618Z",
     "shell.execute_reply": "2020-10-08T20:04:46.678088Z"
    },
    "papermill": {
     "duration": 0.046394,
     "end_time": "2020-10-08T20:04:46.678758",
     "exception": false,
     "start_time": "2020-10-08T20:04:46.632364",
     "status": "completed"
    },
    "tags": []
   },
   "outputs": [],
   "source": [
    "y_train = 1*(y_train==3)\n",
    "y_test = 1*(y_test==3)"
   ]
  },
  {
   "cell_type": "code",
   "execution_count": 12,
   "metadata": {
    "execution": {
     "iopub.execute_input": "2020-10-08T20:04:46.740989Z",
     "iopub.status.busy": "2020-10-08T20:04:46.740377Z",
     "iopub.status.idle": "2020-10-08T20:04:46.760323Z",
     "shell.execute_reply": "2020-10-08T20:04:46.759779Z"
    },
    "papermill": {
     "duration": 0.052965,
     "end_time": "2020-10-08T20:04:46.760484",
     "exception": false,
     "start_time": "2020-10-08T20:04:46.707519",
     "status": "completed"
    },
    "tags": []
   },
   "outputs": [
    {
     "data": {
      "text/plain": [
       "((11982, 28, 28), (1984, 28, 28))"
      ]
     },
     "execution_count": 12,
     "metadata": {},
     "output_type": "execute_result"
    }
   ],
   "source": [
    "X_train.shape, X_test.shape"
   ]
  },
  {
   "cell_type": "markdown",
   "metadata": {
    "papermill": {
     "duration": 0.028786,
     "end_time": "2020-10-08T20:04:46.820240",
     "exception": false,
     "start_time": "2020-10-08T20:04:46.791454",
     "status": "completed"
    },
    "tags": []
   },
   "source": [
    "### Reshape the input data to create a linear array"
   ]
  },
  {
   "cell_type": "code",
   "execution_count": 13,
   "metadata": {
    "execution": {
     "iopub.execute_input": "2020-10-08T20:04:46.882736Z",
     "iopub.status.busy": "2020-10-08T20:04:46.882122Z",
     "iopub.status.idle": "2020-10-08T20:04:46.896806Z",
     "shell.execute_reply": "2020-10-08T20:04:46.896305Z"
    },
    "papermill": {
     "duration": 0.047654,
     "end_time": "2020-10-08T20:04:46.896946",
     "exception": false,
     "start_time": "2020-10-08T20:04:46.849292",
     "status": "completed"
    },
    "tags": []
   },
   "outputs": [
    {
     "data": {
      "text/plain": [
       "((11982, 784), (1984, 784))"
      ]
     },
     "execution_count": 13,
     "metadata": {},
     "output_type": "execute_result"
    }
   ],
   "source": [
    "X_train = X_train.reshape(X_train.shape[0], -1)\n",
    "X_test = X_test.reshape(X_test.shape[0], -1)\n",
    "X_train.shape, X_test.shape"
   ]
  },
  {
   "cell_type": "markdown",
   "metadata": {
    "papermill": {
     "duration": 0.029031,
     "end_time": "2020-10-08T20:04:46.955095",
     "exception": false,
     "start_time": "2020-10-08T20:04:46.926064",
     "status": "completed"
    },
    "tags": []
   },
   "source": [
    "### Importing appropriate functions from 'Kudzu'"
   ]
  },
  {
   "cell_type": "code",
   "execution_count": 14,
   "metadata": {
    "execution": {
     "iopub.execute_input": "2020-10-08T20:04:47.018460Z",
     "iopub.status.busy": "2020-10-08T20:04:47.017854Z",
     "iopub.status.idle": "2020-10-08T20:04:47.038772Z",
     "shell.execute_reply": "2020-10-08T20:04:47.038243Z"
    },
    "papermill": {
     "duration": 0.054417,
     "end_time": "2020-10-08T20:04:47.038914",
     "exception": false,
     "start_time": "2020-10-08T20:04:46.984497",
     "status": "completed"
    },
    "tags": []
   },
   "outputs": [],
   "source": [
    "from kudzu.layer import Sigmoid\n",
    "from kudzu.layer import Relu\n",
    "from kudzu.layer import Affine, Sigmoid\n",
    "\n",
    "from kudzu.model import Model\n",
    "from kudzu.train import Learner\n",
    "from kudzu.optim import GD\n",
    "from kudzu.data import Data, Dataloader, Sampler\n",
    "\n",
    "from kudzu.callbacks import AccCallback\n",
    "from kudzu.callbacks import ClfCallback\n",
    "\n",
    "from kudzu.loss import MSE"
   ]
  },
  {
   "cell_type": "markdown",
   "metadata": {
    "papermill": {
     "duration": 0.028896,
     "end_time": "2020-10-08T20:04:47.096975",
     "exception": false,
     "start_time": "2020-10-08T20:04:47.068079",
     "status": "completed"
    },
    "tags": []
   },
   "source": [
    "### Let us create a `Config` class, to store important parameters. \n",
    "This class essentially plays the role of a dictionary."
   ]
  },
  {
   "cell_type": "code",
   "execution_count": 15,
   "metadata": {
    "execution": {
     "iopub.execute_input": "2020-10-08T20:04:47.160278Z",
     "iopub.status.busy": "2020-10-08T20:04:47.159648Z",
     "iopub.status.idle": "2020-10-08T20:04:47.176124Z",
     "shell.execute_reply": "2020-10-08T20:04:47.175605Z"
    },
    "papermill": {
     "duration": 0.050111,
     "end_time": "2020-10-08T20:04:47.176269",
     "exception": false,
     "start_time": "2020-10-08T20:04:47.126158",
     "status": "completed"
    },
    "tags": []
   },
   "outputs": [],
   "source": [
    "class Config:\n",
    "    pass\n",
    "config = Config()\n",
    "config.lr = 0.001\n",
    "config.num_epochs = 251\n",
    "config.bs = 50"
   ]
  },
  {
   "cell_type": "markdown",
   "metadata": {
    "papermill": {
     "duration": 0.02913,
     "end_time": "2020-10-08T20:04:47.234533",
     "exception": false,
     "start_time": "2020-10-08T20:04:47.205403",
     "status": "completed"
    },
    "tags": []
   },
   "source": [
    "### Initializing data to the variables"
   ]
  },
  {
   "cell_type": "code",
   "execution_count": 16,
   "metadata": {
    "execution": {
     "iopub.execute_input": "2020-10-08T20:04:47.299151Z",
     "iopub.status.busy": "2020-10-08T20:04:47.298342Z",
     "iopub.status.idle": "2020-10-08T20:04:47.313550Z",
     "shell.execute_reply": "2020-10-08T20:04:47.312958Z"
    },
    "papermill": {
     "duration": 0.049653,
     "end_time": "2020-10-08T20:04:47.313708",
     "exception": false,
     "start_time": "2020-10-08T20:04:47.264055",
     "status": "completed"
    },
    "tags": []
   },
   "outputs": [],
   "source": [
    "data = Data(X_train, y_train.reshape(-1,1))\n",
    "sampler = Sampler(data, config.bs, shuffle=True)\n",
    "\n",
    "dl = Dataloader(data, sampler)\n",
    "\n",
    "opt = GD(config.lr)\n",
    "loss = MSE()"
   ]
  },
  {
   "cell_type": "code",
   "execution_count": 17,
   "metadata": {
    "execution": {
     "iopub.execute_input": "2020-10-08T20:04:47.392059Z",
     "iopub.status.busy": "2020-10-08T20:04:47.390266Z",
     "iopub.status.idle": "2020-10-08T20:04:47.394146Z",
     "shell.execute_reply": "2020-10-08T20:04:47.394604Z"
    },
    "papermill": {
     "duration": 0.052085,
     "end_time": "2020-10-08T20:04:47.394770",
     "exception": false,
     "start_time": "2020-10-08T20:04:47.342685",
     "status": "completed"
    },
    "tags": []
   },
   "outputs": [],
   "source": [
    "training_xdata = X_train\n",
    "testing_xdata = X_test\n",
    "training_ydata = y_train.reshape(-1,1)\n",
    "testing_ydata = y_test.reshape(-1,1)"
   ]
  },
  {
   "cell_type": "markdown",
   "metadata": {
    "papermill": {
     "duration": 0.028655,
     "end_time": "2020-10-08T20:04:47.452719",
     "exception": false,
     "start_time": "2020-10-08T20:04:47.424064",
     "status": "completed"
    },
    "tags": []
   },
   "source": [
    "### Running Models with the Training data\n",
    "Details about the network layers:\n",
    "- A first affine layer has 784 inputs and does 100 affine transforms. These are followed by a Relu\n",
    "- A second affine layer has 100 inputs from the 100 activations of the past layer, and does 100 affine transforms. These are followed by a Relu\n",
    "- A third affine layer has 100 activations and does 2 affine transformations to create an embedding for visualization. There is no non-linearity here.\n",
    "- A final \"logistic regression\" which has an affine transform from 2 inputs to 1 output, which is squeezed through a sigmoid.\n",
    "\n",
    "Help taken from Anshuman's Notebook."
   ]
  },
  {
   "cell_type": "code",
   "execution_count": 18,
   "metadata": {
    "execution": {
     "iopub.execute_input": "2020-10-08T20:04:47.533542Z",
     "iopub.status.busy": "2020-10-08T20:04:47.532840Z",
     "iopub.status.idle": "2020-10-08T20:04:47.540450Z",
     "shell.execute_reply": "2020-10-08T20:04:47.539954Z"
    },
    "papermill": {
     "duration": 0.059574,
     "end_time": "2020-10-08T20:04:47.540595",
     "exception": false,
     "start_time": "2020-10-08T20:04:47.481021",
     "status": "completed"
    },
    "tags": []
   },
   "outputs": [],
   "source": [
    "# layers for the Neural Network\n",
    "layers = [Affine(\"first\", 784, 100), Relu(\"first\"), Affine(\"second\", 100, 100), Relu(\"second\"), Affine(\"third\", 100, 2), Affine(\"final\", 2, 1), Sigmoid(\"final\")]\n",
    "model_nn = Model(layers)\n",
    "\n",
    "# layers for the Logistic Regression\n",
    "layers_lr = [Affine(\"logits\", 784, 1), Sigmoid(\"sigmoid\")]\n",
    "model_lr = Model(layers_lr)"
   ]
  },
  {
   "cell_type": "code",
   "execution_count": 19,
   "metadata": {
    "execution": {
     "iopub.execute_input": "2020-10-08T20:04:47.604562Z",
     "iopub.status.busy": "2020-10-08T20:04:47.603955Z",
     "iopub.status.idle": "2020-10-08T20:04:47.619917Z",
     "shell.execute_reply": "2020-10-08T20:04:47.619369Z"
    },
    "papermill": {
     "duration": 0.050343,
     "end_time": "2020-10-08T20:04:47.620065",
     "exception": false,
     "start_time": "2020-10-08T20:04:47.569722",
     "status": "completed"
    },
    "tags": []
   },
   "outputs": [],
   "source": [
    "# suffix _nn stands for Neural Network.\n",
    "learner_nn = Learner(loss, model_nn, opt, config.num_epochs)\n",
    "acc_nn = ClfCallback(learner_nn, config.bs, training_xdata , testing_xdata, training_ydata, testing_ydata)\n",
    "learner_nn.set_callbacks([acc_nn])"
   ]
  },
  {
   "cell_type": "code",
   "execution_count": 20,
   "metadata": {
    "execution": {
     "iopub.execute_input": "2020-10-08T20:04:47.685751Z",
     "iopub.status.busy": "2020-10-08T20:04:47.685083Z",
     "iopub.status.idle": "2020-10-08T20:06:17.364420Z",
     "shell.execute_reply": "2020-10-08T20:06:17.365395Z"
    },
    "papermill": {
     "duration": 89.714121,
     "end_time": "2020-10-08T20:06:17.365590",
     "exception": false,
     "start_time": "2020-10-08T20:04:47.651469",
     "status": "completed"
    },
    "tags": []
   },
   "outputs": [
    {
     "name": "stdout",
     "output_type": "stream",
     "text": [
      "====== Neural Network ======\n"
     ]
    },
    {
     "name": "stdout",
     "output_type": "stream",
     "text": [
      "Epoch 0, Loss 0.2422\n",
      "Training Accuracy: 0.6299, Testing Accuracy: 0.6200\n",
      "\n"
     ]
    },
    {
     "name": "stdout",
     "output_type": "stream",
     "text": [
      "Epoch 10, Loss 0.1539\n",
      "Training Accuracy: 0.8852, Testing Accuracy: 0.8947\n",
      "\n"
     ]
    },
    {
     "name": "stdout",
     "output_type": "stream",
     "text": [
      "Epoch 20, Loss 0.0808\n",
      "Training Accuracy: 0.9219, Testing Accuracy: 0.9325\n",
      "\n"
     ]
    },
    {
     "name": "stdout",
     "output_type": "stream",
     "text": [
      "Epoch 30, Loss 0.0566\n",
      "Training Accuracy: 0.9389, Testing Accuracy: 0.9501\n",
      "\n"
     ]
    },
    {
     "name": "stdout",
     "output_type": "stream",
     "text": [
      "Epoch 40, Loss 0.0459\n",
      "Training Accuracy: 0.9488, Testing Accuracy: 0.9582\n",
      "\n"
     ]
    },
    {
     "name": "stdout",
     "output_type": "stream",
     "text": [
      "Epoch 50, Loss 0.0399\n",
      "Training Accuracy: 0.9537, Testing Accuracy: 0.9632\n",
      "\n"
     ]
    },
    {
     "name": "stdout",
     "output_type": "stream",
     "text": [
      "Epoch 60, Loss 0.0361\n",
      "Training Accuracy: 0.9570, Testing Accuracy: 0.9642\n",
      "\n"
     ]
    },
    {
     "name": "stdout",
     "output_type": "stream",
     "text": [
      "Epoch 70, Loss 0.0334\n",
      "Training Accuracy: 0.9608, Testing Accuracy: 0.9662\n",
      "\n"
     ]
    },
    {
     "name": "stdout",
     "output_type": "stream",
     "text": [
      "Epoch 80, Loss 0.0313\n",
      "Training Accuracy: 0.9634, Testing Accuracy: 0.9693\n",
      "\n"
     ]
    },
    {
     "name": "stdout",
     "output_type": "stream",
     "text": [
      "Epoch 90, Loss 0.0297\n",
      "Training Accuracy: 0.9653, Testing Accuracy: 0.9693\n",
      "\n"
     ]
    },
    {
     "name": "stdout",
     "output_type": "stream",
     "text": [
      "Epoch 100, Loss 0.0283\n",
      "Training Accuracy: 0.9675, Testing Accuracy: 0.9688\n",
      "\n"
     ]
    },
    {
     "name": "stdout",
     "output_type": "stream",
     "text": [
      "Epoch 110, Loss 0.0272\n",
      "Training Accuracy: 0.9689, Testing Accuracy: 0.9713\n",
      "\n"
     ]
    },
    {
     "name": "stdout",
     "output_type": "stream",
     "text": [
      "Epoch 120, Loss 0.0261\n",
      "Training Accuracy: 0.9695, Testing Accuracy: 0.9723\n",
      "\n"
     ]
    },
    {
     "name": "stdout",
     "output_type": "stream",
     "text": [
      "Epoch 130, Loss 0.0253\n",
      "Training Accuracy: 0.9708, Testing Accuracy: 0.9718\n",
      "\n"
     ]
    },
    {
     "name": "stdout",
     "output_type": "stream",
     "text": [
      "Epoch 140, Loss 0.0245\n",
      "Training Accuracy: 0.9720, Testing Accuracy: 0.9718\n",
      "\n"
     ]
    },
    {
     "name": "stdout",
     "output_type": "stream",
     "text": [
      "Epoch 150, Loss 0.0237\n",
      "Training Accuracy: 0.9727, Testing Accuracy: 0.9723\n",
      "\n"
     ]
    },
    {
     "name": "stdout",
     "output_type": "stream",
     "text": [
      "Epoch 160, Loss 0.0231\n",
      "Training Accuracy: 0.9735, Testing Accuracy: 0.9723\n",
      "\n"
     ]
    },
    {
     "name": "stdout",
     "output_type": "stream",
     "text": [
      "Epoch 170, Loss 0.0225\n",
      "Training Accuracy: 0.9740, Testing Accuracy: 0.9738\n",
      "\n"
     ]
    },
    {
     "name": "stdout",
     "output_type": "stream",
     "text": [
      "Epoch 180, Loss 0.0219\n",
      "Training Accuracy: 0.9744, Testing Accuracy: 0.9733\n",
      "\n"
     ]
    },
    {
     "name": "stdout",
     "output_type": "stream",
     "text": [
      "Epoch 190, Loss 0.0214\n",
      "Training Accuracy: 0.9750, Testing Accuracy: 0.9748\n",
      "\n"
     ]
    },
    {
     "name": "stdout",
     "output_type": "stream",
     "text": [
      "Epoch 200, Loss 0.0209\n",
      "Training Accuracy: 0.9761, Testing Accuracy: 0.9753\n",
      "\n"
     ]
    },
    {
     "name": "stdout",
     "output_type": "stream",
     "text": [
      "Epoch 210, Loss 0.0204\n",
      "Training Accuracy: 0.9768, Testing Accuracy: 0.9768\n",
      "\n"
     ]
    },
    {
     "name": "stdout",
     "output_type": "stream",
     "text": [
      "Epoch 220, Loss 0.02\n",
      "Training Accuracy: 0.9768, Testing Accuracy: 0.9768\n",
      "\n"
     ]
    },
    {
     "name": "stdout",
     "output_type": "stream",
     "text": [
      "Epoch 230, Loss 0.0195\n",
      "Training Accuracy: 0.9772, Testing Accuracy: 0.9773\n",
      "\n"
     ]
    },
    {
     "name": "stdout",
     "output_type": "stream",
     "text": [
      "Epoch 240, Loss 0.0191\n",
      "Training Accuracy: 0.9778, Testing Accuracy: 0.9778\n",
      "\n"
     ]
    },
    {
     "name": "stdout",
     "output_type": "stream",
     "text": [
      "Epoch 250, Loss 0.0187\n",
      "Training Accuracy: 0.9784, Testing Accuracy: 0.9783\n",
      "\n"
     ]
    },
    {
     "data": {
      "text/plain": [
       "0.00398640965784782"
      ]
     },
     "execution_count": 20,
     "metadata": {},
     "output_type": "execute_result"
    }
   ],
   "source": [
    "print(\"====== Neural Network ======\")\n",
    "learner_nn.train_loop(dl)"
   ]
  },
  {
   "cell_type": "markdown",
   "metadata": {
    "papermill": {
     "duration": 0.037183,
     "end_time": "2020-10-08T20:06:17.440943",
     "exception": false,
     "start_time": "2020-10-08T20:06:17.403760",
     "status": "completed"
    },
    "tags": []
   },
   "source": [
    "### Logistic Regression based Implementation."
   ]
  },
  {
   "cell_type": "code",
   "execution_count": 21,
   "metadata": {
    "execution": {
     "iopub.execute_input": "2020-10-08T20:06:17.523089Z",
     "iopub.status.busy": "2020-10-08T20:06:17.521350Z",
     "iopub.status.idle": "2020-10-08T20:06:17.535189Z",
     "shell.execute_reply": "2020-10-08T20:06:17.535812Z"
    },
    "papermill": {
     "duration": 0.057867,
     "end_time": "2020-10-08T20:06:17.536015",
     "exception": false,
     "start_time": "2020-10-08T20:06:17.478148",
     "status": "completed"
    },
    "tags": []
   },
   "outputs": [],
   "source": [
    "learner_lr = Learner(loss, model_lr, opt, config.num_epochs)\n",
    "acc_lr = ClfCallback(learner_lr, config.bs, training_xdata , testing_xdata, training_ydata, testing_ydata)\n",
    "learner_lr.set_callbacks([acc_lr])"
   ]
  },
  {
   "cell_type": "code",
   "execution_count": 22,
   "metadata": {
    "execution": {
     "iopub.execute_input": "2020-10-08T20:06:17.619674Z",
     "iopub.status.busy": "2020-10-08T20:06:17.618989Z",
     "iopub.status.idle": "2020-10-08T20:06:35.851930Z",
     "shell.execute_reply": "2020-10-08T20:06:35.852714Z"
    },
    "papermill": {
     "duration": 18.27866,
     "end_time": "2020-10-08T20:06:35.852890",
     "exception": false,
     "start_time": "2020-10-08T20:06:17.574230",
     "status": "completed"
    },
    "tags": []
   },
   "outputs": [
    {
     "name": "stdout",
     "output_type": "stream",
     "text": [
      "====== Logistic Regression ======\n",
      "Epoch 0, Loss 0.2572\n",
      "Training Accuracy: 0.6171, Testing Accuracy: 0.6421\n",
      "\n"
     ]
    },
    {
     "name": "stdout",
     "output_type": "stream",
     "text": [
      "Epoch 10, Loss 0.1031\n",
      "Training Accuracy: 0.9127, Testing Accuracy: 0.9234\n",
      "\n"
     ]
    },
    {
     "name": "stdout",
     "output_type": "stream",
     "text": [
      "Epoch 20, Loss 0.079\n",
      "Training Accuracy: 0.9284, Testing Accuracy: 0.9425\n",
      "\n"
     ]
    },
    {
     "name": "stdout",
     "output_type": "stream",
     "text": [
      "Epoch 30, Loss 0.0681\n",
      "Training Accuracy: 0.9373, Testing Accuracy: 0.9521\n",
      "\n"
     ]
    },
    {
     "name": "stdout",
     "output_type": "stream",
     "text": [
      "Epoch 40, Loss 0.0615\n",
      "Training Accuracy: 0.9417, Testing Accuracy: 0.9541\n",
      "\n"
     ]
    },
    {
     "name": "stdout",
     "output_type": "stream",
     "text": [
      "Epoch 50, Loss 0.057\n",
      "Training Accuracy: 0.9442, Testing Accuracy: 0.9572\n",
      "\n"
     ]
    },
    {
     "name": "stdout",
     "output_type": "stream",
     "text": [
      "Epoch 60, Loss 0.0537\n",
      "Training Accuracy: 0.9453, Testing Accuracy: 0.9587\n",
      "\n"
     ]
    },
    {
     "name": "stdout",
     "output_type": "stream",
     "text": [
      "Epoch 70, Loss 0.0512\n",
      "Training Accuracy: 0.9482, Testing Accuracy: 0.9602\n",
      "\n"
     ]
    },
    {
     "name": "stdout",
     "output_type": "stream",
     "text": [
      "Epoch 80, Loss 0.0492\n",
      "Training Accuracy: 0.9493, Testing Accuracy: 0.9602\n",
      "\n"
     ]
    },
    {
     "name": "stdout",
     "output_type": "stream",
     "text": [
      "Epoch 90, Loss 0.0475\n",
      "Training Accuracy: 0.9514, Testing Accuracy: 0.9612\n",
      "\n"
     ]
    },
    {
     "name": "stdout",
     "output_type": "stream",
     "text": [
      "Epoch 100, Loss 0.0461\n",
      "Training Accuracy: 0.9520, Testing Accuracy: 0.9637\n",
      "\n"
     ]
    },
    {
     "name": "stdout",
     "output_type": "stream",
     "text": [
      "Epoch 110, Loss 0.0449\n",
      "Training Accuracy: 0.9531, Testing Accuracy: 0.9647\n",
      "\n"
     ]
    },
    {
     "name": "stdout",
     "output_type": "stream",
     "text": [
      "Epoch 120, Loss 0.0439\n",
      "Training Accuracy: 0.9539, Testing Accuracy: 0.9642\n",
      "\n"
     ]
    },
    {
     "name": "stdout",
     "output_type": "stream",
     "text": [
      "Epoch 130, Loss 0.0429\n",
      "Training Accuracy: 0.9553, Testing Accuracy: 0.9652\n",
      "\n"
     ]
    },
    {
     "name": "stdout",
     "output_type": "stream",
     "text": [
      "Epoch 140, Loss 0.0421\n",
      "Training Accuracy: 0.9555, Testing Accuracy: 0.9662\n",
      "\n"
     ]
    },
    {
     "name": "stdout",
     "output_type": "stream",
     "text": [
      "Epoch 150, Loss 0.0414\n",
      "Training Accuracy: 0.9564, Testing Accuracy: 0.9662\n",
      "\n"
     ]
    },
    {
     "name": "stdout",
     "output_type": "stream",
     "text": [
      "Epoch 160, Loss 0.0407\n",
      "Training Accuracy: 0.9567, Testing Accuracy: 0.9662\n",
      "\n"
     ]
    },
    {
     "name": "stdout",
     "output_type": "stream",
     "text": [
      "Epoch 170, Loss 0.0401\n",
      "Training Accuracy: 0.9573, Testing Accuracy: 0.9662\n",
      "\n"
     ]
    },
    {
     "name": "stdout",
     "output_type": "stream",
     "text": [
      "Epoch 180, Loss 0.0395\n",
      "Training Accuracy: 0.9578, Testing Accuracy: 0.9662\n",
      "\n"
     ]
    },
    {
     "name": "stdout",
     "output_type": "stream",
     "text": [
      "Epoch 190, Loss 0.039\n",
      "Training Accuracy: 0.9584, Testing Accuracy: 0.9662\n",
      "\n"
     ]
    },
    {
     "name": "stdout",
     "output_type": "stream",
     "text": [
      "Epoch 200, Loss 0.0385\n",
      "Training Accuracy: 0.9585, Testing Accuracy: 0.9662\n",
      "\n"
     ]
    },
    {
     "name": "stdout",
     "output_type": "stream",
     "text": [
      "Epoch 210, Loss 0.0381\n",
      "Training Accuracy: 0.9589, Testing Accuracy: 0.9672\n",
      "\n"
     ]
    },
    {
     "name": "stdout",
     "output_type": "stream",
     "text": [
      "Epoch 220, Loss 0.0377\n",
      "Training Accuracy: 0.9592, Testing Accuracy: 0.9667\n",
      "\n"
     ]
    },
    {
     "name": "stdout",
     "output_type": "stream",
     "text": [
      "Epoch 230, Loss 0.0373\n",
      "Training Accuracy: 0.9596, Testing Accuracy: 0.9662\n",
      "\n"
     ]
    },
    {
     "name": "stdout",
     "output_type": "stream",
     "text": [
      "Epoch 240, Loss 0.037\n",
      "Training Accuracy: 0.9603, Testing Accuracy: 0.9667\n",
      "\n"
     ]
    },
    {
     "name": "stdout",
     "output_type": "stream",
     "text": [
      "Epoch 250, Loss 0.0366\n",
      "Training Accuracy: 0.9606, Testing Accuracy: 0.9667\n",
      "\n"
     ]
    },
    {
     "data": {
      "text/plain": [
       "0.04256590880175953"
      ]
     },
     "execution_count": 22,
     "metadata": {},
     "output_type": "execute_result"
    }
   ],
   "source": [
    "print(\"====== Logistic Regression ======\")\n",
    "learner_lr.train_loop(dl)"
   ]
  },
  {
   "cell_type": "markdown",
   "metadata": {
    "papermill": {
     "duration": 0.044791,
     "end_time": "2020-10-08T20:06:35.943615",
     "exception": false,
     "start_time": "2020-10-08T20:06:35.898824",
     "status": "completed"
    },
    "tags": []
   },
   "source": [
    "### Comparing results of NN and LR"
   ]
  },
  {
   "cell_type": "code",
   "execution_count": 23,
   "metadata": {
    "execution": {
     "iopub.execute_input": "2020-10-08T20:06:36.050040Z",
     "iopub.status.busy": "2020-10-08T20:06:36.048176Z",
     "iopub.status.idle": "2020-10-08T20:06:36.291504Z",
     "shell.execute_reply": "2020-10-08T20:06:36.290961Z"
    },
    "papermill": {
     "duration": 0.303232,
     "end_time": "2020-10-08T20:06:36.291645",
     "exception": false,
     "start_time": "2020-10-08T20:06:35.988413",
     "status": "completed"
    },
    "tags": []
   },
   "outputs": [
    {
     "data": {
      "text/plain": [
       "<matplotlib.legend.Legend at 0x7f2cc96e9128>"
      ]
     },
     "execution_count": 23,
     "metadata": {},
     "output_type": "execute_result"
    },
    {
     "data": {
      "image/png": "[encoded data removed]",
      "text/plain": [
       "<Figure size 1080x720 with 1 Axes>"
      ]
     },
     "metadata": {
      "needs_background": "light"
     },
     "output_type": "display_data"
    }
   ],
   "source": [
    "plt.figure(figsize=(15,10))\n",
    "\n",
    "# Neural Network plots\n",
    "plt.plot(acc_nn.accuracies, 'r-', label = \"Training Accuracies - NN\")\n",
    "plt.plot(acc_nn.test_accuracies, 'g-', label = \"Testing Accuracies - NN\")\n",
    "\n",
    "# Logistic Regression plots\n",
    "plt.plot(acc_lr.accuracies, 'k-', label = \"Training Accuracies - LR\")\n",
    "plt.plot(acc_lr.test_accuracies, 'b-', label = \"Testing Accuracies - LR\")\n",
    "\n",
    "plt.ylim(0.8, 1)\n",
    "\n",
    "plt.legend()\n",
    "\n"
   ]
  },
  {
   "cell_type": "markdown",
   "metadata": {
    "papermill": {
     "duration": 0.046653,
     "end_time": "2020-10-08T20:06:36.384924",
     "exception": false,
     "start_time": "2020-10-08T20:06:36.338271",
     "status": "completed"
    },
    "tags": []
   },
   "source": [
    "### From the plot, we can observe the following:\n",
    "- Neural Network achieves higher accuracy than the Logistic Regression model.\n",
    "- This apparently, is because of overfitting, i.e. NN captures more noise than data.\n",
    "- Testing accuracy of NN drops below the Training accuracy at higher epochs. This explains the over-fitting on training data.\n",
    "- Logistic Regression gives a reliable accuracy, without the above mentioned problem.\n"
   ]
  },
  {
   "cell_type": "markdown",
   "metadata": {
    "papermill": {
     "duration": 0.046068,
     "end_time": "2020-10-08T20:06:36.477275",
     "exception": false,
     "start_time": "2020-10-08T20:06:36.431207",
     "status": "completed"
    },
    "tags": []
   },
   "source": [
    "### Moving till the last but one layer (excluding it).\n",
    "#### Plotting the outputs of this layer of the NN."
   ]
  },
  {
   "cell_type": "code",
   "execution_count": 24,
   "metadata": {
    "execution": {
     "iopub.execute_input": "2020-10-08T20:06:36.575127Z",
     "iopub.status.busy": "2020-10-08T20:06:36.574518Z",
     "iopub.status.idle": "2020-10-08T20:06:36.587737Z",
     "shell.execute_reply": "2020-10-08T20:06:36.588223Z"
    },
    "papermill": {
     "duration": 0.064798,
     "end_time": "2020-10-08T20:06:36.588383",
     "exception": false,
     "start_time": "2020-10-08T20:06:36.523585",
     "status": "completed"
    },
    "tags": []
   },
   "outputs": [],
   "source": [
    "model_new = Model(layers[:-2])"
   ]
  },
  {
   "cell_type": "code",
   "execution_count": 25,
   "metadata": {
    "execution": {
     "iopub.execute_input": "2020-10-08T20:06:36.702238Z",
     "iopub.status.busy": "2020-10-08T20:06:36.694140Z",
     "iopub.status.idle": "2020-10-08T20:06:36.711355Z",
     "shell.execute_reply": "2020-10-08T20:06:36.711894Z"
    },
    "papermill": {
     "duration": 0.078266,
     "end_time": "2020-10-08T20:06:36.712064",
     "exception": false,
     "start_time": "2020-10-08T20:06:36.633798",
     "status": "completed"
    },
    "tags": []
   },
   "outputs": [],
   "source": [
    "plot_testing = model_new(testing_xdata)"
   ]
  },
  {
   "cell_type": "code",
   "execution_count": 26,
   "metadata": {
    "execution": {
     "iopub.execute_input": "2020-10-08T20:06:36.818686Z",
     "iopub.status.busy": "2020-10-08T20:06:36.818038Z",
     "iopub.status.idle": "2020-10-08T20:06:37.016131Z",
     "shell.execute_reply": "2020-10-08T20:06:37.015585Z"
    },
    "papermill": {
     "duration": 0.257261,
     "end_time": "2020-10-08T20:06:37.016273",
     "exception": false,
     "start_time": "2020-10-08T20:06:36.759012",
     "status": "completed"
    },
    "tags": []
   },
   "outputs": [
    {
     "data": {
      "text/plain": [
       "Text(0.5, 1.0, 'Outputs')"
      ]
     },
     "execution_count": 26,
     "metadata": {},
     "output_type": "execute_result"
    },
    {
     "data": {
      "image/png": "[encoded data removed]",
      "text/plain": [
       "<Figure size 576x504 with 1 Axes>"
      ]
     },
     "metadata": {
      "needs_background": "light"
     },
     "output_type": "display_data"
    }
   ],
   "source": [
    "plt.figure(figsize=(8,7))\n",
    "plt.scatter(plot_testing[:,0], plot_testing[:,1], alpha = 0.1, c = y_test.ravel());\n",
    "plt.title('Outputs')"
   ]
  },
  {
   "cell_type": "markdown",
   "metadata": {
    "papermill": {
     "duration": 0.048472,
     "end_time": "2020-10-08T20:06:37.113684",
     "exception": false,
     "start_time": "2020-10-08T20:06:37.065212",
     "status": "completed"
    },
    "tags": []
   },
   "source": [
    "### Plotting probability contours"
   ]
  },
  {
   "cell_type": "code",
   "execution_count": 27,
   "metadata": {
    "execution": {
     "iopub.execute_input": "2020-10-08T20:06:37.221762Z",
     "iopub.status.busy": "2020-10-08T20:06:37.216669Z",
     "iopub.status.idle": "2020-10-08T20:06:37.231036Z",
     "shell.execute_reply": "2020-10-08T20:06:37.231523Z"
    },
    "papermill": {
     "duration": 0.069616,
     "end_time": "2020-10-08T20:06:37.231689",
     "exception": false,
     "start_time": "2020-10-08T20:06:37.162073",
     "status": "completed"
    },
    "tags": []
   },
   "outputs": [],
   "source": [
    "model_prob = Model(layers[-2:]) "
   ]
  },
  {
   "cell_type": "code",
   "execution_count": 28,
   "metadata": {
    "execution": {
     "iopub.execute_input": "2020-10-08T20:06:37.341858Z",
     "iopub.status.busy": "2020-10-08T20:06:37.338084Z",
     "iopub.status.idle": "2020-10-08T20:06:37.352396Z",
     "shell.execute_reply": "2020-10-08T20:06:37.351635Z"
    },
    "papermill": {
     "duration": 0.072017,
     "end_time": "2020-10-08T20:06:37.352540",
     "exception": false,
     "start_time": "2020-10-08T20:06:37.280523",
     "status": "completed"
    },
    "tags": []
   },
   "outputs": [],
   "source": [
    "# Adjust the x and y ranges according to the above generated plot.\n",
    "x_range = np.linspace(-4, 1, 100) \n",
    "y_range = np.linspace(-6, 6, 100) \n",
    "x_grid, y_grid = np.meshgrid(x_range, y_range) # x_grid and y_grig are of size 100 X 100\n",
    "\n",
    "# converting x_grid and y_grid to continuous arrays\n",
    "x_grid_flat = np.ravel(x_grid)\n",
    "y_grid_flat = np.ravel(y_grid)\n",
    "\n",
    "# The last layer of the current model takes two columns as input. Hence transpose of np.vstack() is required.\n",
    "X = np.vstack((x_grid_flat, y_grid_flat)).T\n",
    "\n",
    "# x_grid and y_grid are of size 100 x 100\n",
    "probability_contour = model_prob(X).reshape(100,100) "
   ]
  },
  {
   "cell_type": "code",
   "execution_count": 29,
   "metadata": {
    "execution": {
     "iopub.execute_input": "2020-10-08T20:06:37.467047Z",
     "iopub.status.busy": "2020-10-08T20:06:37.459488Z",
     "iopub.status.idle": "2020-10-08T20:06:37.722397Z",
     "shell.execute_reply": "2020-10-08T20:06:37.722904Z"
    },
    "papermill": {
     "duration": 0.321219,
     "end_time": "2020-10-08T20:06:37.723070",
     "exception": false,
     "start_time": "2020-10-08T20:06:37.401851",
     "status": "completed"
    },
    "tags": []
   },
   "outputs": [
    {
     "data": {
      "image/png": "[encoded data removed]",
      "text/plain": [
       "<Figure size 720x648 with 1 Axes>"
      ]
     },
     "metadata": {
      "needs_background": "light"
     },
     "output_type": "display_data"
    }
   ],
   "source": [
    "plt.figure(figsize=(10,9))\n",
    "plt.scatter(plot_testing[:,0], plot_testing[:,1], alpha = 0.1, c = y_test.ravel())\n",
    "contours = plt.contour(x_grid,y_grid,probability_contour)\n",
    "plt.title('Probability Contours')\n",
    "plt.clabel(contours, inline = True );"
   ]
  }
 ],
 "metadata": {
  "kernelspec": {
   "display_name": "Python 3",
   "language": "python",
   "name": "python3"
  },
  "language_info": {
   "codemirror_mode": {
    "name": "ipython",
    "version": 3
   },
   "file_extension": ".py",
   "mimetype": "text/x-python",
   "name": "python",
   "nbconvert_exporter": "python",
   "pygments_lexer": "ipython3",
   "version": "3.6.12"
  },
  "papermill": {
   "duration": 119.869946,
   "end_time": "2020-10-08T20:06:38.183140",
   "environment_variables": {},
   "exception": null,
   "input_path": "2020-08-11-NeuralNetwork.ipynb",
   "output_path": "2020-08-11-NeuralNetwork.ipynb",
   "parameters": {},
   "start_time": "2020-10-08T20:04:38.313194",
   "version": "2.1.2"
  }
 },
 "nbformat": 4,
 "nbformat_minor": 4
}