{
 "cells": [
  {
   "cell_type": "markdown",
   "id": "fitted-suggestion",
   "metadata": {
    "papermill": {
     "duration": 0.030045,
     "end_time": "2021-08-12T20:05:05.595836",
     "exception": false,
     "start_time": "2021-08-12T20:05:05.565791",
     "status": "completed"
    },
    "tags": []
   },
   "source": [
    "# \"A Basic Neural Network: Differentiate Hand-Written Digits\"\n",
    "\n",
    "- badges: true\n",
    "- author: Akshith Sriram"
   ]
  },
  {
   "cell_type": "markdown",
   "id": "signal-flexibility",
   "metadata": {
    "papermill": {
     "duration": 0.025081,
     "end_time": "2021-08-12T20:05:05.646691",
     "exception": false,
     "start_time": "2021-08-12T20:05:05.621610",
     "status": "completed"
    },
    "tags": []
   },
   "source": [
    "### Key Objectives:\n",
    "- Building a neural network that differentiates two hand-written digits 3 and 8.\n",
    "- Comparing the results of this Neural Network (NN) to that of a Logistic Regression (LR) model.\n",
    "\n",
    "### Requirements:\n",
    "- 'Kudzu' : A neural network library that was designed during our course by [Univ.AI](www.univ.ai). \n",
    "- MNIST Database\n",
    "\n",
    "If MNIST is not installed, use the command `!pip install mnist` given below.\n",
    "It can be run both from the command line and Jupyter Notebook."
   ]
  },
  {
   "cell_type": "code",
   "execution_count": 1,
   "id": "british-texture",
   "metadata": {
    "execution": {
     "iopub.execute_input": "2021-08-12T20:05:05.707721Z",
     "iopub.status.busy": "2021-08-12T20:05:05.707118Z",
     "iopub.status.idle": "2021-08-12T20:05:08.376565Z",
     "shell.execute_reply": "2021-08-12T20:05:08.376003Z"
    },
    "papermill": {
     "duration": 2.705012,
     "end_time": "2021-08-12T20:05:08.376711",
     "exception": false,
     "start_time": "2021-08-12T20:05:05.671699",
     "status": "completed"
    },
    "tags": []
   },
   "outputs": [
    {
     "name": "stdout",
     "output_type": "stream",
     "text": [
      "Collecting mnist\r\n"
     ]
    },
    {
     "name": "stdout",
     "output_type": "stream",
     "text": [
      "  Downloading mnist-0.2.2-py2.py3-none-any.whl (3.5 kB)\r\n",
      "Requirement already satisfied: numpy in /opt/hostedtoolcache/Python/3.6.14/x64/lib/python3.6/site-packages (from mnist) (1.19.5)\r\n"
     ]
    },
    {
     "name": "stdout",
     "output_type": "stream",
     "text": [
      "Installing collected packages: mnist\r\n",
      "Successfully installed mnist-0.2.2\r\n"
     ]
    },
    {
     "name": "stdout",
     "output_type": "stream",
     "text": [
      "\u001b[33mWARNING: You are using pip version 21.2.3; however, version 21.2.4 is available.\r\n",
      "You should consider upgrading via the '/opt/hostedtoolcache/Python/3.6.14/x64/bin/python -m pip install --upgrade pip' command.\u001b[0m\r\n"
     ]
    }
   ],
   "source": [
    "!pip install mnist "
   ]
  },
  {
   "cell_type": "markdown",
   "id": "stunning-extra",
   "metadata": {
    "papermill": {
     "duration": 0.026184,
     "end_time": "2021-08-12T20:05:08.429597",
     "exception": false,
     "start_time": "2021-08-12T20:05:08.403413",
     "status": "completed"
    },
    "tags": []
   },
   "source": [
    "#### Importing necessary libraries"
   ]
  },
  {
   "cell_type": "code",
   "execution_count": 2,
   "id": "wooden-france",
   "metadata": {
    "execution": {
     "iopub.execute_input": "2021-08-12T20:05:08.500302Z",
     "iopub.status.busy": "2021-08-12T20:05:08.489858Z",
     "iopub.status.idle": "2021-08-12T20:05:09.031161Z",
     "shell.execute_reply": "2021-08-12T20:05:09.030699Z"
    },
    "papermill": {
     "duration": 0.575456,
     "end_time": "2021-08-12T20:05:09.031314",
     "exception": false,
     "start_time": "2021-08-12T20:05:08.455858",
     "status": "completed"
    },
    "tags": []
   },
   "outputs": [],
   "source": [
    "%load_ext autoreload\n",
    "%autoreload 2\n",
    "\n",
    "%matplotlib inline\n",
    "import matplotlib.pyplot as plt\n",
    "\n",
    "import numpy as np\n",
    "import pandas as pd"
   ]
  },
  {
   "cell_type": "markdown",
   "id": "stunning-physics",
   "metadata": {
    "papermill": {
     "duration": 0.026604,
     "end_time": "2021-08-12T20:05:09.085079",
     "exception": false,
     "start_time": "2021-08-12T20:05:09.058475",
     "status": "completed"
    },
    "tags": []
   },
   "source": [
    "### Preparing the Data"
   ]
  },
  {
   "cell_type": "code",
   "execution_count": 3,
   "id": "unauthorized-remainder",
   "metadata": {
    "execution": {
     "iopub.execute_input": "2021-08-12T20:05:09.143390Z",
     "iopub.status.busy": "2021-08-12T20:05:09.142818Z",
     "iopub.status.idle": "2021-08-12T20:05:09.153344Z",
     "shell.execute_reply": "2021-08-12T20:05:09.152907Z"
    },
    "papermill": {
     "duration": 0.042091,
     "end_time": "2021-08-12T20:05:09.153463",
     "exception": false,
     "start_time": "2021-08-12T20:05:09.111372",
     "status": "completed"
    },
    "tags": []
   },
   "outputs": [],
   "source": [
    "import mnist"
   ]
  },
  {
   "cell_type": "code",
   "execution_count": 4,
   "id": "correct-antarctica",
   "metadata": {
    "execution": {
     "iopub.execute_input": "2021-08-12T20:05:09.211945Z",
     "iopub.status.busy": "2021-08-12T20:05:09.210729Z",
     "iopub.status.idle": "2021-08-12T20:10:07.400833Z",
     "shell.execute_reply": "2021-08-12T20:10:07.400054Z"
    },
    "papermill": {
     "duration": 298.221052,
     "end_time": "2021-08-12T20:10:07.400968",
     "exception": false,
     "start_time": "2021-08-12T20:05:09.179916",
     "status": "completed"
    },
    "tags": []
   },
   "outputs": [],
   "source": [
    "train_images = mnist.train_images()\n",
    "train_labels = mnist.train_labels()"
   ]
  },
  {
   "cell_type": "code",
   "execution_count": 5,
   "id": "musical-prospect",
   "metadata": {
    "execution": {
     "iopub.execute_input": "2021-08-12T20:10:07.458400Z",
     "iopub.status.busy": "2021-08-12T20:10:07.457892Z",
     "iopub.status.idle": "2021-08-12T20:10:07.480913Z",
     "shell.execute_reply": "2021-08-12T20:10:07.481533Z"
    },
    "papermill": {
     "duration": 0.053661,
     "end_time": "2021-08-12T20:10:07.481675",
     "exception": false,
     "start_time": "2021-08-12T20:10:07.428014",
     "status": "completed"
    },
    "tags": []
   },
   "outputs": [
    {
     "data": {
      "text/plain": [
       "((60000, 28, 28), (60000,))"
      ]
     },
     "execution_count": 5,
     "metadata": {},
     "output_type": "execute_result"
    }
   ],
   "source": [
    "train_images.shape, train_labels.shape"
   ]
  },
  {
   "cell_type": "code",
   "execution_count": 6,
   "id": "preliminary-elizabeth",
   "metadata": {
    "execution": {
     "iopub.execute_input": "2021-08-12T20:10:07.545099Z",
     "iopub.status.busy": "2021-08-12T20:10:07.544549Z",
     "iopub.status.idle": "2021-08-12T20:10:57.594254Z",
     "shell.execute_reply": "2021-08-12T20:10:57.593155Z"
    },
    "papermill": {
     "duration": 50.083987,
     "end_time": "2021-08-12T20:10:57.594393",
     "exception": false,
     "start_time": "2021-08-12T20:10:07.510406",
     "status": "completed"
    },
    "tags": []
   },
   "outputs": [],
   "source": [
    "test_images = mnist.test_images()\n",
    "test_labels = mnist.test_labels()"
   ]
  },
  {
   "cell_type": "code",
   "execution_count": 7,
   "id": "acknowledged-oxygen",
   "metadata": {
    "execution": {
     "iopub.execute_input": "2021-08-12T20:10:57.651668Z",
     "iopub.status.busy": "2021-08-12T20:10:57.651028Z",
     "iopub.status.idle": "2021-08-12T20:10:57.662821Z",
     "shell.execute_reply": "2021-08-12T20:10:57.663303Z"
    },
    "papermill": {
     "duration": 0.042205,
     "end_time": "2021-08-12T20:10:57.663436",
     "exception": false,
     "start_time": "2021-08-12T20:10:57.621231",
     "status": "completed"
    },
    "tags": []
   },
   "outputs": [
    {
     "data": {
      "text/plain": [
       "((10000, 28, 28), (10000,))"
      ]
     },
     "execution_count": 7,
     "metadata": {},
     "output_type": "execute_result"
    }
   ],
   "source": [
    "test_images.shape, test_labels.shape"
   ]
  },
  {
   "cell_type": "code",
   "execution_count": 8,
   "id": "innovative-organic",
   "metadata": {
    "execution": {
     "iopub.execute_input": "2021-08-12T20:10:57.723968Z",
     "iopub.status.busy": "2021-08-12T20:10:57.723449Z",
     "iopub.status.idle": "2021-08-12T20:10:57.853408Z",
     "shell.execute_reply": "2021-08-12T20:10:57.853815Z"
    },
    "papermill": {
     "duration": 0.16142,
     "end_time": "2021-08-12T20:10:57.853949",
     "exception": false,
     "start_time": "2021-08-12T20:10:57.692529",
     "status": "completed"
    },
    "tags": []
   },
   "outputs": [
    {
     "name": "stdout",
     "output_type": "stream",
     "text": [
      "2\n"
     ]
    },
    {
     "data": {
      "text/plain": [
       "<matplotlib.image.AxesImage at 0x7f0cf5d4d8d0>"
      ]
     },
     "execution_count": 8,
     "metadata": {},
     "output_type": "execute_result"
    },
    {
     "data": {
      "image/png": "[encoded data removed]",
      "text/plain": [
       "<Figure size 432x288 with 1 Axes>"
      ]
     },
     "metadata": {
      "needs_background": "light"
     },
     "output_type": "display_data"
    }
   ],
   "source": [
    "image_index = 7776 # You may select anything up to 60,000\n",
    "print(train_labels[image_index]) \n",
    "plt.imshow(train_images[image_index], cmap='Greys')"
   ]
  },
  {
   "cell_type": "markdown",
   "id": "facial-modem",
   "metadata": {
    "papermill": {
     "duration": 0.029711,
     "end_time": "2021-08-12T20:10:57.918816",
     "exception": false,
     "start_time": "2021-08-12T20:10:57.889105",
     "status": "completed"
    },
    "tags": []
   },
   "source": [
    "## Filter data to get 3 and 8 out"
   ]
  },
  {
   "cell_type": "code",
   "execution_count": 9,
   "id": "thousand-acquisition",
   "metadata": {
    "execution": {
     "iopub.execute_input": "2021-08-12T20:10:57.995665Z",
     "iopub.status.busy": "2021-08-12T20:10:57.988125Z",
     "iopub.status.idle": "2021-08-12T20:10:57.997510Z",
     "shell.execute_reply": "2021-08-12T20:10:57.997899Z"
    },
    "papermill": {
     "duration": 0.051258,
     "end_time": "2021-08-12T20:10:57.998039",
     "exception": false,
     "start_time": "2021-08-12T20:10:57.946781",
     "status": "completed"
    },
    "tags": []
   },
   "outputs": [],
   "source": [
    "train_filter = np.where((train_labels == 3 ) | (train_labels == 8))\n",
    "test_filter = np.where((test_labels == 3) | (test_labels == 8))\n",
    "X_train, y_train = train_images[train_filter], train_labels[train_filter]\n",
    "X_test, y_test = test_images[test_filter], test_labels[test_filter]"
   ]
  },
  {
   "cell_type": "markdown",
   "id": "ruled-access",
   "metadata": {
    "papermill": {
     "duration": 0.027596,
     "end_time": "2021-08-12T20:10:58.053521",
     "exception": false,
     "start_time": "2021-08-12T20:10:58.025925",
     "status": "completed"
    },
    "tags": []
   },
   "source": [
    "We normalize the pixel values in the 0 to 1 range"
   ]
  },
  {
   "cell_type": "code",
   "execution_count": 10,
   "id": "isolated-denver",
   "metadata": {
    "execution": {
     "iopub.execute_input": "2021-08-12T20:10:58.116947Z",
     "iopub.status.busy": "2021-08-12T20:10:58.116388Z",
     "iopub.status.idle": "2021-08-12T20:10:58.157543Z",
     "shell.execute_reply": "2021-08-12T20:10:58.157973Z"
    },
    "papermill": {
     "duration": 0.077039,
     "end_time": "2021-08-12T20:10:58.158120",
     "exception": false,
     "start_time": "2021-08-12T20:10:58.081081",
     "status": "completed"
    },
    "tags": []
   },
   "outputs": [],
   "source": [
    "X_train = X_train/255.\n",
    "X_test = X_test/255."
   ]
  },
  {
   "cell_type": "markdown",
   "id": "perfect-summary",
   "metadata": {
    "papermill": {
     "duration": 0.027774,
     "end_time": "2021-08-12T20:10:58.214028",
     "exception": false,
     "start_time": "2021-08-12T20:10:58.186254",
     "status": "completed"
    },
    "tags": []
   },
   "source": [
    "Setup the labels as 1 (when the digit is 3) and 0 (when the digit is 8)"
   ]
  },
  {
   "cell_type": "code",
   "execution_count": 11,
   "id": "personalized-growing",
   "metadata": {
    "execution": {
     "iopub.execute_input": "2021-08-12T20:10:58.273393Z",
     "iopub.status.busy": "2021-08-12T20:10:58.272872Z",
     "iopub.status.idle": "2021-08-12T20:10:58.284243Z",
     "shell.execute_reply": "2021-08-12T20:10:58.284750Z"
    },
    "papermill": {
     "duration": 0.04332,
     "end_time": "2021-08-12T20:10:58.284915",
     "exception": false,
     "start_time": "2021-08-12T20:10:58.241595",
     "status": "completed"
    },
    "tags": []
   },
   "outputs": [],
   "source": [
    "y_train = 1*(y_train==3)\n",
    "y_test = 1*(y_test==3)"
   ]
  },
  {
   "cell_type": "code",
   "execution_count": 12,
   "id": "considered-virgin",
   "metadata": {
    "execution": {
     "iopub.execute_input": "2021-08-12T20:10:58.344567Z",
     "iopub.status.busy": "2021-08-12T20:10:58.344044Z",
     "iopub.status.idle": "2021-08-12T20:10:58.357238Z",
     "shell.execute_reply": "2021-08-12T20:10:58.357675Z"
    },
    "papermill": {
     "duration": 0.044307,
     "end_time": "2021-08-12T20:10:58.357807",
     "exception": false,
     "start_time": "2021-08-12T20:10:58.313500",
     "status": "completed"
    },
    "tags": []
   },
   "outputs": [
    {
     "data": {
      "text/plain": [
       "((11982, 28, 28), (1984, 28, 28))"
      ]
     },
     "execution_count": 12,
     "metadata": {},
     "output_type": "execute_result"
    }
   ],
   "source": [
    "X_train.shape, X_test.shape"
   ]
  },
  {
   "cell_type": "markdown",
   "id": "civilian-mobile",
   "metadata": {
    "papermill": {
     "duration": 0.027962,
     "end_time": "2021-08-12T20:10:58.413768",
     "exception": false,
     "start_time": "2021-08-12T20:10:58.385806",
     "status": "completed"
    },
    "tags": []
   },
   "source": [
    "### Reshape the input data to create a linear array"
   ]
  },
  {
   "cell_type": "code",
   "execution_count": 13,
   "id": "colonial-adams",
   "metadata": {
    "execution": {
     "iopub.execute_input": "2021-08-12T20:10:58.489302Z",
     "iopub.status.busy": "2021-08-12T20:10:58.488520Z",
     "iopub.status.idle": "2021-08-12T20:10:58.494051Z",
     "shell.execute_reply": "2021-08-12T20:10:58.493624Z"
    },
    "papermill": {
     "duration": 0.05219,
     "end_time": "2021-08-12T20:10:58.494163",
     "exception": false,
     "start_time": "2021-08-12T20:10:58.441973",
     "status": "completed"
    },
    "tags": []
   },
   "outputs": [
    {
     "data": {
      "text/plain": [
       "((11982, 784), (1984, 784))"
      ]
     },
     "execution_count": 13,
     "metadata": {},
     "output_type": "execute_result"
    }
   ],
   "source": [
    "X_train = X_train.reshape(X_train.shape[0], -1)\n",
    "X_test = X_test.reshape(X_test.shape[0], -1)\n",
    "X_train.shape, X_test.shape"
   ]
  },
  {
   "cell_type": "markdown",
   "id": "smart-details",
   "metadata": {
    "papermill": {
     "duration": 0.028056,
     "end_time": "2021-08-12T20:10:58.550307",
     "exception": false,
     "start_time": "2021-08-12T20:10:58.522251",
     "status": "completed"
    },
    "tags": []
   },
   "source": [
    "### Importing appropriate functions from 'Kudzu'"
   ]
  },
  {
   "cell_type": "code",
   "execution_count": 14,
   "id": "celtic-trial",
   "metadata": {
    "execution": {
     "iopub.execute_input": "2021-08-12T20:10:58.614379Z",
     "iopub.status.busy": "2021-08-12T20:10:58.613863Z",
     "iopub.status.idle": "2021-08-12T20:10:58.631332Z",
     "shell.execute_reply": "2021-08-12T20:10:58.630893Z"
    },
    "papermill": {
     "duration": 0.052829,
     "end_time": "2021-08-12T20:10:58.631452",
     "exception": false,
     "start_time": "2021-08-12T20:10:58.578623",
     "status": "completed"
    },
    "tags": []
   },
   "outputs": [],
   "source": [
    "from kudzu.layer import Sigmoid\n",
    "from kudzu.layer import Relu\n",
    "from kudzu.layer import Affine, Sigmoid\n",
    "\n",
    "from kudzu.model import Model\n",
    "from kudzu.train import Learner\n",
    "from kudzu.optim import GD\n",
    "from kudzu.data import Data, Dataloader, Sampler\n",
    "\n",
    "from kudzu.callbacks import AccCallback\n",
    "from kudzu.callbacks import ClfCallback\n",
    "\n",
    "from kudzu.loss import MSE"
   ]
  },
  {
   "cell_type": "markdown",
   "id": "coupled-customer",
   "metadata": {
    "papermill": {
     "duration": 0.027901,
     "end_time": "2021-08-12T20:10:58.687612",
     "exception": false,
     "start_time": "2021-08-12T20:10:58.659711",
     "status": "completed"
    },
    "tags": []
   },
   "source": [
    "### Let us create a `Config` class, to store important parameters. \n",
    "This class essentially plays the role of a dictionary."
   ]
  },
  {
   "cell_type": "code",
   "execution_count": 15,
   "id": "young-ceiling",
   "metadata": {
    "execution": {
     "iopub.execute_input": "2021-08-12T20:10:58.747536Z",
     "iopub.status.busy": "2021-08-12T20:10:58.747003Z",
     "iopub.status.idle": "2021-08-12T20:10:58.758948Z",
     "shell.execute_reply": "2021-08-12T20:10:58.759378Z"
    },
    "papermill": {
     "duration": 0.043807,
     "end_time": "2021-08-12T20:10:58.759508",
     "exception": false,
     "start_time": "2021-08-12T20:10:58.715701",
     "status": "completed"
    },
    "tags": []
   },
   "outputs": [],
   "source": [
    "class Config:\n",
    "    pass\n",
    "config = Config()\n",
    "config.lr = 0.001\n",
    "config.num_epochs = 251\n",
    "config.bs = 50"
   ]
  },
  {
   "cell_type": "markdown",
   "id": "according-mandate",
   "metadata": {
    "papermill": {
     "duration": 0.028,
     "end_time": "2021-08-12T20:10:58.815523",
     "exception": false,
     "start_time": "2021-08-12T20:10:58.787523",
     "status": "completed"
    },
    "tags": []
   },
   "source": [
    "### Initializing data to the variables"
   ]
  },
  {
   "cell_type": "code",
   "execution_count": 16,
   "id": "academic-disposition",
   "metadata": {
    "execution": {
     "iopub.execute_input": "2021-08-12T20:10:58.876031Z",
     "iopub.status.busy": "2021-08-12T20:10:58.875516Z",
     "iopub.status.idle": "2021-08-12T20:10:58.887543Z",
     "shell.execute_reply": "2021-08-12T20:10:58.887082Z"
    },
    "papermill": {
     "duration": 0.043847,
     "end_time": "2021-08-12T20:10:58.887657",
     "exception": false,
     "start_time": "2021-08-12T20:10:58.843810",
     "status": "completed"
    },
    "tags": []
   },
   "outputs": [],
   "source": [
    "data = Data(X_train, y_train.reshape(-1,1))\n",
    "sampler = Sampler(data, config.bs, shuffle=True)\n",
    "\n",
    "dl = Dataloader(data, sampler)\n",
    "\n",
    "opt = GD(config.lr)\n",
    "loss = MSE()"
   ]
  },
  {
   "cell_type": "code",
   "execution_count": 17,
   "id": "featured-commission",
   "metadata": {
    "execution": {
     "iopub.execute_input": "2021-08-12T20:10:58.948229Z",
     "iopub.status.busy": "2021-08-12T20:10:58.947724Z",
     "iopub.status.idle": "2021-08-12T20:10:58.959016Z",
     "shell.execute_reply": "2021-08-12T20:10:58.959452Z"
    },
    "papermill": {
     "duration": 0.043497,
     "end_time": "2021-08-12T20:10:58.959587",
     "exception": false,
     "start_time": "2021-08-12T20:10:58.916090",
     "status": "completed"
    },
    "tags": []
   },
   "outputs": [],
   "source": [
    "training_xdata = X_train\n",
    "testing_xdata = X_test\n",
    "training_ydata = y_train.reshape(-1,1)\n",
    "testing_ydata = y_test.reshape(-1,1)"
   ]
  },
  {
   "cell_type": "markdown",
   "id": "played-safety",
   "metadata": {
    "papermill": {
     "duration": 0.028146,
     "end_time": "2021-08-12T20:10:59.016120",
     "exception": false,
     "start_time": "2021-08-12T20:10:58.987974",
     "status": "completed"
    },
    "tags": []
   },
   "source": [
    "### Running Models with the Training data\n",
    "Details about the network layers:\n",
    "- A first affine layer has 784 inputs and does 100 affine transforms. These are followed by a Relu\n",
    "- A second affine layer has 100 inputs from the 100 activations of the past layer, and does 100 affine transforms. These are followed by a Relu\n",
    "- A third affine layer has 100 activations and does 2 affine transformations to create an embedding for visualization. There is no non-linearity here.\n",
    "- A final \"logistic regression\" which has an affine transform from 2 inputs to 1 output, which is squeezed through a sigmoid.\n",
    "\n",
    "Help taken from Anshuman's Notebook."
   ]
  },
  {
   "cell_type": "code",
   "execution_count": 18,
   "id": "asian-bankruptcy",
   "metadata": {
    "execution": {
     "iopub.execute_input": "2021-08-12T20:10:59.076861Z",
     "iopub.status.busy": "2021-08-12T20:10:59.076334Z",
     "iopub.status.idle": "2021-08-12T20:10:59.091996Z",
     "shell.execute_reply": "2021-08-12T20:10:59.091486Z"
    },
    "papermill": {
     "duration": 0.04785,
     "end_time": "2021-08-12T20:10:59.092102",
     "exception": false,
     "start_time": "2021-08-12T20:10:59.044252",
     "status": "completed"
    },
    "tags": []
   },
   "outputs": [],
   "source": [
    "# layers for the Neural Network\n",
    "layers = [Affine(\"first\", 784, 100), Relu(\"first\"), Affine(\"second\", 100, 100), Relu(\"second\"), Affine(\"third\", 100, 2), Affine(\"final\", 2, 1), Sigmoid(\"final\")]\n",
    "model_nn = Model(layers)\n",
    "\n",
    "# layers for the Logistic Regression\n",
    "layers_lr = [Affine(\"logits\", 784, 1), Sigmoid(\"sigmoid\")]\n",
    "model_lr = Model(layers_lr)"
   ]
  },
  {
   "cell_type": "code",
   "execution_count": 19,
   "id": "removed-butler",
   "metadata": {
    "execution": {
     "iopub.execute_input": "2021-08-12T20:10:59.154882Z",
     "iopub.status.busy": "2021-08-12T20:10:59.154361Z",
     "iopub.status.idle": "2021-08-12T20:10:59.170311Z",
     "shell.execute_reply": "2021-08-12T20:10:59.169883Z"
    },
    "papermill": {
     "duration": 0.048361,
     "end_time": "2021-08-12T20:10:59.170428",
     "exception": false,
     "start_time": "2021-08-12T20:10:59.122067",
     "status": "completed"
    },
    "tags": []
   },
   "outputs": [],
   "source": [
    "# suffix _nn stands for Neural Network.\n",
    "learner_nn = Learner(loss, model_nn, opt, config.num_epochs)\n",
    "acc_nn = ClfCallback(learner_nn, config.bs, training_xdata , testing_xdata, training_ydata, testing_ydata)\n",
    "learner_nn.set_callbacks([acc_nn])"
   ]
  },
  {
   "cell_type": "code",
   "execution_count": 20,
   "id": "conceptual-throw",
   "metadata": {
    "execution": {
     "iopub.execute_input": "2021-08-12T20:10:59.237035Z",
     "iopub.status.busy": "2021-08-12T20:10:59.236313Z",
     "iopub.status.idle": "2021-08-12T20:12:16.093220Z",
     "shell.execute_reply": "2021-08-12T20:12:16.093908Z"
    },
    "papermill": {
     "duration": 76.892813,
     "end_time": "2021-08-12T20:12:16.094050",
     "exception": false,
     "start_time": "2021-08-12T20:10:59.201237",
     "status": "completed"
    },
    "tags": []
   },
   "outputs": [
    {
     "name": "stdout",
     "output_type": "stream",
     "text": [
      "====== Neural Network ======\n"
     ]
    },
    {
     "name": "stdout",
     "output_type": "stream",
     "text": [
      "Epoch 0, Loss 0.2239\n",
      "Training Accuracy: 0.7744, Testing Accuracy: 0.7807\n",
      "\n"
     ]
    },
    {
     "name": "stdout",
     "output_type": "stream",
     "text": [
      "Epoch 10, Loss 0.0602\n",
      "Training Accuracy: 0.9413, Testing Accuracy: 0.9546\n",
      "\n"
     ]
    },
    {
     "name": "stdout",
     "output_type": "stream",
     "text": [
      "Epoch 20, Loss 0.0408\n",
      "Training Accuracy: 0.9560, Testing Accuracy: 0.9677\n",
      "\n"
     ]
    },
    {
     "name": "stdout",
     "output_type": "stream",
     "text": [
      "Epoch 30, Loss 0.0338\n",
      "Training Accuracy: 0.9626, Testing Accuracy: 0.9688\n",
      "\n"
     ]
    },
    {
     "name": "stdout",
     "output_type": "stream",
     "text": [
      "Epoch 40, Loss 0.0301\n",
      "Training Accuracy: 0.9653, Testing Accuracy: 0.9698\n",
      "\n"
     ]
    },
    {
     "name": "stdout",
     "output_type": "stream",
     "text": [
      "Epoch 50, Loss 0.0276\n",
      "Training Accuracy: 0.9674, Testing Accuracy: 0.9703\n",
      "\n"
     ]
    },
    {
     "name": "stdout",
     "output_type": "stream",
     "text": [
      "Epoch 60, Loss 0.0257\n",
      "Training Accuracy: 0.9707, Testing Accuracy: 0.9698\n",
      "\n"
     ]
    },
    {
     "name": "stdout",
     "output_type": "stream",
     "text": [
      "Epoch 70, Loss 0.0242\n",
      "Training Accuracy: 0.9729, Testing Accuracy: 0.9708\n",
      "\n"
     ]
    },
    {
     "name": "stdout",
     "output_type": "stream",
     "text": [
      "Epoch 80, Loss 0.023\n",
      "Training Accuracy: 0.9741, Testing Accuracy: 0.9718\n",
      "\n"
     ]
    },
    {
     "name": "stdout",
     "output_type": "stream",
     "text": [
      "Epoch 90, Loss 0.0219\n",
      "Training Accuracy: 0.9754, Testing Accuracy: 0.9723\n",
      "\n"
     ]
    },
    {
     "name": "stdout",
     "output_type": "stream",
     "text": [
      "Epoch 100, Loss 0.0209\n",
      "Training Accuracy: 0.9765, Testing Accuracy: 0.9728\n",
      "\n"
     ]
    },
    {
     "name": "stdout",
     "output_type": "stream",
     "text": [
      "Epoch 110, Loss 0.0201\n",
      "Training Accuracy: 0.9775, Testing Accuracy: 0.9733\n",
      "\n"
     ]
    },
    {
     "name": "stdout",
     "output_type": "stream",
     "text": [
      "Epoch 120, Loss 0.0193\n",
      "Training Accuracy: 0.9785, Testing Accuracy: 0.9743\n",
      "\n"
     ]
    },
    {
     "name": "stdout",
     "output_type": "stream",
     "text": [
      "Epoch 130, Loss 0.0186\n",
      "Training Accuracy: 0.9791, Testing Accuracy: 0.9758\n",
      "\n"
     ]
    },
    {
     "name": "stdout",
     "output_type": "stream",
     "text": [
      "Epoch 140, Loss 0.018\n",
      "Training Accuracy: 0.9801, Testing Accuracy: 0.9758\n",
      "\n"
     ]
    },
    {
     "name": "stdout",
     "output_type": "stream",
     "text": [
      "Epoch 150, Loss 0.0174\n",
      "Training Accuracy: 0.9811, Testing Accuracy: 0.9758\n",
      "\n"
     ]
    },
    {
     "name": "stdout",
     "output_type": "stream",
     "text": [
      "Epoch 160, Loss 0.0168\n",
      "Training Accuracy: 0.9818, Testing Accuracy: 0.9758\n",
      "\n"
     ]
    },
    {
     "name": "stdout",
     "output_type": "stream",
     "text": [
      "Epoch 170, Loss 0.0162\n",
      "Training Accuracy: 0.9821, Testing Accuracy: 0.9763\n",
      "\n"
     ]
    },
    {
     "name": "stdout",
     "output_type": "stream",
     "text": [
      "Epoch 180, Loss 0.0157\n",
      "Training Accuracy: 0.9828, Testing Accuracy: 0.9763\n",
      "\n"
     ]
    },
    {
     "name": "stdout",
     "output_type": "stream",
     "text": [
      "Epoch 190, Loss 0.0152\n",
      "Training Accuracy: 0.9836, Testing Accuracy: 0.9768\n",
      "\n"
     ]
    },
    {
     "name": "stdout",
     "output_type": "stream",
     "text": [
      "Epoch 200, Loss 0.0147\n",
      "Training Accuracy: 0.9841, Testing Accuracy: 0.9778\n",
      "\n"
     ]
    },
    {
     "name": "stdout",
     "output_type": "stream",
     "text": [
      "Epoch 210, Loss 0.0143\n",
      "Training Accuracy: 0.9844, Testing Accuracy: 0.9783\n",
      "\n"
     ]
    },
    {
     "name": "stdout",
     "output_type": "stream",
     "text": [
      "Epoch 220, Loss 0.0138\n",
      "Training Accuracy: 0.9853, Testing Accuracy: 0.9783\n",
      "\n"
     ]
    },
    {
     "name": "stdout",
     "output_type": "stream",
     "text": [
      "Epoch 230, Loss 0.0134\n",
      "Training Accuracy: 0.9858, Testing Accuracy: 0.9783\n",
      "\n"
     ]
    },
    {
     "name": "stdout",
     "output_type": "stream",
     "text": [
      "Epoch 240, Loss 0.013\n",
      "Training Accuracy: 0.9865, Testing Accuracy: 0.9788\n",
      "\n"
     ]
    },
    {
     "name": "stdout",
     "output_type": "stream",
     "text": [
      "Epoch 250, Loss 0.0126\n",
      "Training Accuracy: 0.9870, Testing Accuracy: 0.9788\n",
      "\n"
     ]
    },
    {
     "data": {
      "text/plain": [
       "0.003597039640375172"
      ]
     },
     "execution_count": 20,
     "metadata": {},
     "output_type": "execute_result"
    }
   ],
   "source": [
    "print(\"====== Neural Network ======\")\n",
    "learner_nn.train_loop(dl)"
   ]
  },
  {
   "cell_type": "markdown",
   "id": "competent-suffering",
   "metadata": {
    "papermill": {
     "duration": 0.035344,
     "end_time": "2021-08-12T20:12:16.166304",
     "exception": false,
     "start_time": "2021-08-12T20:12:16.130960",
     "status": "completed"
    },
    "tags": []
   },
   "source": [
    "### Logistic Regression based Implementation."
   ]
  },
  {
   "cell_type": "code",
   "execution_count": 21,
   "id": "qualified-psychiatry",
   "metadata": {
    "execution": {
     "iopub.execute_input": "2021-08-12T20:12:16.240359Z",
     "iopub.status.busy": "2021-08-12T20:12:16.239826Z",
     "iopub.status.idle": "2021-08-12T20:12:16.251484Z",
     "shell.execute_reply": "2021-08-12T20:12:16.251042Z"
    },
    "papermill": {
     "duration": 0.050146,
     "end_time": "2021-08-12T20:12:16.251605",
     "exception": false,
     "start_time": "2021-08-12T20:12:16.201459",
     "status": "completed"
    },
    "tags": []
   },
   "outputs": [],
   "source": [
    "learner_lr = Learner(loss, model_lr, opt, config.num_epochs)\n",
    "acc_lr = ClfCallback(learner_lr, config.bs, training_xdata , testing_xdata, training_ydata, testing_ydata)\n",
    "learner_lr.set_callbacks([acc_lr])"
   ]
  },
  {
   "cell_type": "code",
   "execution_count": 22,
   "id": "average-outside",
   "metadata": {
    "execution": {
     "iopub.execute_input": "2021-08-12T20:12:16.328617Z",
     "iopub.status.busy": "2021-08-12T20:12:16.328087Z",
     "iopub.status.idle": "2021-08-12T20:12:30.040024Z",
     "shell.execute_reply": "2021-08-12T20:12:30.040433Z"
    },
    "papermill": {
     "duration": 13.753496,
     "end_time": "2021-08-12T20:12:30.040570",
     "exception": false,
     "start_time": "2021-08-12T20:12:16.287074",
     "status": "completed"
    },
    "tags": []
   },
   "outputs": [
    {
     "name": "stdout",
     "output_type": "stream",
     "text": [
      "====== Logistic Regression ======\n",
      "Epoch 0, Loss 0.2377\n",
      "Training Accuracy: 0.6601, Testing Accuracy: 0.6658\n",
      "\n"
     ]
    },
    {
     "name": "stdout",
     "output_type": "stream",
     "text": [
      "Epoch 10, Loss 0.106\n",
      "Training Accuracy: 0.8964, Testing Accuracy: 0.9037\n",
      "\n"
     ]
    },
    {
     "name": "stdout",
     "output_type": "stream",
     "text": [
      "Epoch 20, Loss 0.0806\n",
      "Training Accuracy: 0.9229, Testing Accuracy: 0.9345\n",
      "\n"
     ]
    },
    {
     "name": "stdout",
     "output_type": "stream",
     "text": [
      "Epoch 30, Loss 0.0691\n",
      "Training Accuracy: 0.9335, Testing Accuracy: 0.9451\n",
      "\n"
     ]
    },
    {
     "name": "stdout",
     "output_type": "stream",
     "text": [
      "Epoch 40, Loss 0.0622\n",
      "Training Accuracy: 0.9403, Testing Accuracy: 0.9511\n",
      "\n"
     ]
    },
    {
     "name": "stdout",
     "output_type": "stream",
     "text": [
      "Epoch 50, Loss 0.0575\n",
      "Training Accuracy: 0.9439, Testing Accuracy: 0.9531\n",
      "\n"
     ]
    },
    {
     "name": "stdout",
     "output_type": "stream",
     "text": [
      "Epoch 60, Loss 0.0541\n",
      "Training Accuracy: 0.9463, Testing Accuracy: 0.9551\n",
      "\n"
     ]
    },
    {
     "name": "stdout",
     "output_type": "stream",
     "text": [
      "Epoch 70, Loss 0.0515\n",
      "Training Accuracy: 0.9483, Testing Accuracy: 0.9567\n",
      "\n"
     ]
    },
    {
     "name": "stdout",
     "output_type": "stream",
     "text": [
      "Epoch 80, Loss 0.0494\n",
      "Training Accuracy: 0.9495, Testing Accuracy: 0.9597\n",
      "\n"
     ]
    },
    {
     "name": "stdout",
     "output_type": "stream",
     "text": [
      "Epoch 90, Loss 0.0477\n",
      "Training Accuracy: 0.9513, Testing Accuracy: 0.9607\n",
      "\n"
     ]
    },
    {
     "name": "stdout",
     "output_type": "stream",
     "text": [
      "Epoch 100, Loss 0.0463\n",
      "Training Accuracy: 0.9523, Testing Accuracy: 0.9612\n",
      "\n"
     ]
    },
    {
     "name": "stdout",
     "output_type": "stream",
     "text": [
      "Epoch 110, Loss 0.045\n",
      "Training Accuracy: 0.9535, Testing Accuracy: 0.9632\n",
      "\n"
     ]
    },
    {
     "name": "stdout",
     "output_type": "stream",
     "text": [
      "Epoch 120, Loss 0.0439\n",
      "Training Accuracy: 0.9550, Testing Accuracy: 0.9647\n",
      "\n"
     ]
    },
    {
     "name": "stdout",
     "output_type": "stream",
     "text": [
      "Epoch 130, Loss 0.043\n",
      "Training Accuracy: 0.9557, Testing Accuracy: 0.9662\n",
      "\n"
     ]
    },
    {
     "name": "stdout",
     "output_type": "stream",
     "text": [
      "Epoch 140, Loss 0.0422\n",
      "Training Accuracy: 0.9564, Testing Accuracy: 0.9662\n",
      "\n"
     ]
    },
    {
     "name": "stdout",
     "output_type": "stream",
     "text": [
      "Epoch 150, Loss 0.0414\n",
      "Training Accuracy: 0.9571, Testing Accuracy: 0.9657\n",
      "\n"
     ]
    },
    {
     "name": "stdout",
     "output_type": "stream",
     "text": [
      "Epoch 160, Loss 0.0407\n",
      "Training Accuracy: 0.9576, Testing Accuracy: 0.9657\n",
      "\n"
     ]
    },
    {
     "name": "stdout",
     "output_type": "stream",
     "text": [
      "Epoch 170, Loss 0.0401\n",
      "Training Accuracy: 0.9584, Testing Accuracy: 0.9667\n",
      "\n"
     ]
    },
    {
     "name": "stdout",
     "output_type": "stream",
     "text": [
      "Epoch 180, Loss 0.0395\n",
      "Training Accuracy: 0.9592, Testing Accuracy: 0.9667\n",
      "\n"
     ]
    },
    {
     "name": "stdout",
     "output_type": "stream",
     "text": [
      "Epoch 190, Loss 0.039\n",
      "Training Accuracy: 0.9594, Testing Accuracy: 0.9667\n",
      "\n"
     ]
    },
    {
     "name": "stdout",
     "output_type": "stream",
     "text": [
      "Epoch 200, Loss 0.0385\n",
      "Training Accuracy: 0.9599, Testing Accuracy: 0.9667\n",
      "\n"
     ]
    },
    {
     "name": "stdout",
     "output_type": "stream",
     "text": [
      "Epoch 210, Loss 0.0381\n",
      "Training Accuracy: 0.9603, Testing Accuracy: 0.9672\n",
      "\n"
     ]
    },
    {
     "name": "stdout",
     "output_type": "stream",
     "text": [
      "Epoch 220, Loss 0.0377\n",
      "Training Accuracy: 0.9603, Testing Accuracy: 0.9672\n",
      "\n"
     ]
    },
    {
     "name": "stdout",
     "output_type": "stream",
     "text": [
      "Epoch 230, Loss 0.0373\n",
      "Training Accuracy: 0.9607, Testing Accuracy: 0.9672\n",
      "\n"
     ]
    },
    {
     "name": "stdout",
     "output_type": "stream",
     "text": [
      "Epoch 240, Loss 0.0369\n",
      "Training Accuracy: 0.9609, Testing Accuracy: 0.9672\n",
      "\n"
     ]
    },
    {
     "name": "stdout",
     "output_type": "stream",
     "text": [
      "Epoch 250, Loss 0.0366\n",
      "Training Accuracy: 0.9614, Testing Accuracy: 0.9667\n",
      "\n"
     ]
    },
    {
     "data": {
      "text/plain": [
       "0.018704826301755066"
      ]
     },
     "execution_count": 22,
     "metadata": {},
     "output_type": "execute_result"
    }
   ],
   "source": [
    "print(\"====== Logistic Regression ======\")\n",
    "learner_lr.train_loop(dl)"
   ]
  },
  {
   "cell_type": "markdown",
   "id": "adjusted-possible",
   "metadata": {
    "papermill": {
     "duration": 0.04223,
     "end_time": "2021-08-12T20:12:30.125618",
     "exception": false,
     "start_time": "2021-08-12T20:12:30.083388",
     "status": "completed"
    },
    "tags": []
   },
   "source": [
    "### Comparing results of NN and LR"
   ]
  },
  {
   "cell_type": "code",
   "execution_count": 23,
   "id": "mental-multimedia",
   "metadata": {
    "execution": {
     "iopub.execute_input": "2021-08-12T20:12:30.224521Z",
     "iopub.status.busy": "2021-08-12T20:12:30.223933Z",
     "iopub.status.idle": "2021-08-12T20:12:30.458341Z",
     "shell.execute_reply": "2021-08-12T20:12:30.457892Z"
    },
    "papermill": {
     "duration": 0.290409,
     "end_time": "2021-08-12T20:12:30.458458",
     "exception": false,
     "start_time": "2021-08-12T20:12:30.168049",
     "status": "completed"
    },
    "tags": []
   },
   "outputs": [
    {
     "data": {
      "text/plain": [
       "<matplotlib.legend.Legend at 0x7f0ced92e4a8>"
      ]
     },
     "execution_count": 23,
     "metadata": {},
     "output_type": "execute_result"
    },
    {
     "data": {
      "image/png": "[encoded data removed]",
      "text/plain": [
       "<Figure size 1080x720 with 1 Axes>"
      ]
     },
     "metadata": {
      "needs_background": "light"
     },
     "output_type": "display_data"
    }
   ],
   "source": [
    "plt.figure(figsize=(15,10))\n",
    "\n",
    "# Neural Network plots\n",
    "plt.plot(acc_nn.accuracies, 'r-', label = \"Training Accuracies - NN\")\n",
    "plt.plot(acc_nn.test_accuracies, 'g-', label = \"Testing Accuracies - NN\")\n",
    "\n",
    "# Logistic Regression plots\n",
    "plt.plot(acc_lr.accuracies, 'k-', label = \"Training Accuracies - LR\")\n",
    "plt.plot(acc_lr.test_accuracies, 'b-', label = \"Testing Accuracies - LR\")\n",
    "\n",
    "plt.ylim(0.8, 1)\n",
    "\n",
    "plt.legend()\n",
    "\n"
   ]
  },
  {
   "cell_type": "markdown",
   "id": "sexual-flesh",
   "metadata": {
    "papermill": {
     "duration": 0.043597,
     "end_time": "2021-08-12T20:12:30.546135",
     "exception": false,
     "start_time": "2021-08-12T20:12:30.502538",
     "status": "completed"
    },
    "tags": []
   },
   "source": [
    "### From the plot, we can observe the following:\n",
    "- Neural Network achieves higher accuracy than the Logistic Regression model.\n",
    "- This apparently, is because of overfitting, i.e. NN captures more noise than data.\n",
    "- Testing accuracy of NN drops below the Training accuracy at higher epochs. This explains the over-fitting on training data.\n",
    "- Logistic Regression gives a reliable accuracy, without the above mentioned problem.\n"
   ]
  },
  {
   "cell_type": "markdown",
   "id": "institutional-pacific",
   "metadata": {
    "papermill": {
     "duration": 0.043597,
     "end_time": "2021-08-12T20:12:30.633287",
     "exception": false,
     "start_time": "2021-08-12T20:12:30.589690",
     "status": "completed"
    },
    "tags": []
   },
   "source": [
    "### Moving till the last but one layer (excluding it).\n",
    "#### Plotting the outputs of this layer of the NN."
   ]
  },
  {
   "cell_type": "code",
   "execution_count": 24,
   "id": "economic-server",
   "metadata": {
    "execution": {
     "iopub.execute_input": "2021-08-12T20:12:30.726042Z",
     "iopub.status.busy": "2021-08-12T20:12:30.724868Z",
     "iopub.status.idle": "2021-08-12T20:12:30.736114Z",
     "shell.execute_reply": "2021-08-12T20:12:30.735448Z"
    },
    "papermill": {
     "duration": 0.059241,
     "end_time": "2021-08-12T20:12:30.736229",
     "exception": false,
     "start_time": "2021-08-12T20:12:30.676988",
     "status": "completed"
    },
    "tags": []
   },
   "outputs": [],
   "source": [
    "model_new = Model(layers[:-2])"
   ]
  },
  {
   "cell_type": "code",
   "execution_count": 25,
   "id": "varied-upgrade",
   "metadata": {
    "execution": {
     "iopub.execute_input": "2021-08-12T20:12:30.855079Z",
     "iopub.status.busy": "2021-08-12T20:12:30.854395Z",
     "iopub.status.idle": "2021-08-12T20:12:30.873274Z",
     "shell.execute_reply": "2021-08-12T20:12:30.873712Z"
    },
    "papermill": {
     "duration": 0.093946,
     "end_time": "2021-08-12T20:12:30.873843",
     "exception": false,
     "start_time": "2021-08-12T20:12:30.779897",
     "status": "completed"
    },
    "tags": []
   },
   "outputs": [],
   "source": [
    "plot_testing = model_new(testing_xdata)"
   ]
  },
  {
   "cell_type": "code",
   "execution_count": 26,
   "id": "specific-handling",
   "metadata": {
    "execution": {
     "iopub.execute_input": "2021-08-12T20:12:30.975781Z",
     "iopub.status.busy": "2021-08-12T20:12:30.975212Z",
     "iopub.status.idle": "2021-08-12T20:12:31.182025Z",
     "shell.execute_reply": "2021-08-12T20:12:31.181599Z"
    },
    "papermill": {
     "duration": 0.254897,
     "end_time": "2021-08-12T20:12:31.182144",
     "exception": false,
     "start_time": "2021-08-12T20:12:30.927247",
     "status": "completed"
    },
    "tags": []
   },
   "outputs": [
    {
     "data": {
      "text/plain": [
       "Text(0.5, 1.0, 'Outputs')"
      ]
     },
     "execution_count": 26,
     "metadata": {},
     "output_type": "execute_result"
    },
    {
     "data": {
      "image/png": "[encoded data removed]",
      "text/plain": [
       "<Figure size 576x504 with 1 Axes>"
      ]
     },
     "metadata": {
      "needs_background": "light"
     },
     "output_type": "display_data"
    }
   ],
   "source": [
    "plt.figure(figsize=(8,7))\n",
    "plt.scatter(plot_testing[:,0], plot_testing[:,1], alpha = 0.1, c = y_test.ravel());\n",
    "plt.title('Outputs')"
   ]
  },
  {
   "cell_type": "markdown",
   "id": "described-knowing",
   "metadata": {
    "papermill": {
     "duration": 0.046319,
     "end_time": "2021-08-12T20:12:31.275121",
     "exception": false,
     "start_time": "2021-08-12T20:12:31.228802",
     "status": "completed"
    },
    "tags": []
   },
   "source": [
    "### Plotting probability contours"
   ]
  },
  {
   "cell_type": "code",
   "execution_count": 27,
   "id": "needed-growing",
   "metadata": {
    "execution": {
     "iopub.execute_input": "2021-08-12T20:12:31.372571Z",
     "iopub.status.busy": "2021-08-12T20:12:31.371969Z",
     "iopub.status.idle": "2021-08-12T20:12:31.382527Z",
     "shell.execute_reply": "2021-08-12T20:12:31.382074Z"
    },
    "papermill": {
     "duration": 0.06102,
     "end_time": "2021-08-12T20:12:31.382649",
     "exception": false,
     "start_time": "2021-08-12T20:12:31.321629",
     "status": "completed"
    },
    "tags": []
   },
   "outputs": [],
   "source": [
    "model_prob = Model(layers[-2:]) "
   ]
  },
  {
   "cell_type": "code",
   "execution_count": 28,
   "id": "introductory-enforcement",
   "metadata": {
    "execution": {
     "iopub.execute_input": "2021-08-12T20:12:31.481960Z",
     "iopub.status.busy": "2021-08-12T20:12:31.480783Z",
     "iopub.status.idle": "2021-08-12T20:12:31.503415Z",
     "shell.execute_reply": "2021-08-12T20:12:31.503876Z"
    },
    "papermill": {
     "duration": 0.074735,
     "end_time": "2021-08-12T20:12:31.504035",
     "exception": false,
     "start_time": "2021-08-12T20:12:31.429300",
     "status": "completed"
    },
    "tags": []
   },
   "outputs": [],
   "source": [
    "# Adjust the x and y ranges according to the above generated plot.\n",
    "x_range = np.linspace(-4, 1, 100) \n",
    "y_range = np.linspace(-6, 6, 100) \n",
    "x_grid, y_grid = np.meshgrid(x_range, y_range) # x_grid and y_grig are of size 100 X 100\n",
    "\n",
    "# converting x_grid and y_grid to continuous arrays\n",
    "x_grid_flat = np.ravel(x_grid)\n",
    "y_grid_flat = np.ravel(y_grid)\n",
    "\n",
    "# The last layer of the current model takes two columns as input. Hence transpose of np.vstack() is required.\n",
    "X = np.vstack((x_grid_flat, y_grid_flat)).T\n",
    "\n",
    "# x_grid and y_grid are of size 100 x 100\n",
    "probability_contour = model_prob(X).reshape(100,100) "
   ]
  },
  {
   "cell_type": "code",
   "execution_count": 29,
   "id": "understood-landing",
   "metadata": {
    "execution": {
     "iopub.execute_input": "2021-08-12T20:12:31.614757Z",
     "iopub.status.busy": "2021-08-12T20:12:31.614228Z",
     "iopub.status.idle": "2021-08-12T20:12:31.869287Z",
     "shell.execute_reply": "2021-08-12T20:12:31.868331Z"
    },
    "papermill": {
     "duration": 0.306032,
     "end_time": "2021-08-12T20:12:31.869430",
     "exception": false,
     "start_time": "2021-08-12T20:12:31.563398",
     "status": "completed"
    },
    "tags": []
   },
   "outputs": [
    {
     "data": {
      "image/png": "[encoded data removed]",
      "text/plain": [
       "<Figure size 720x648 with 1 Axes>"
      ]
     },
     "metadata": {
      "needs_background": "light"
     },
     "output_type": "display_data"
    }
   ],
   "source": [
    "plt.figure(figsize=(10,9))\n",
    "plt.scatter(plot_testing[:,0], plot_testing[:,1], alpha = 0.1, c = y_test.ravel())\n",
    "contours = plt.contour(x_grid,y_grid,probability_contour)\n",
    "plt.title('Probability Contours')\n",
    "plt.clabel(contours, inline = True );"
   ]
  }
 ],
 "metadata": {
  "kernelspec": {
   "display_name": "Python 3",
   "language": "python",
   "name": "python3"
  },
  "language_info": {
   "codemirror_mode": {
    "name": "ipython",
    "version": 3
   },
   "file_extension": ".py",
   "mimetype": "text/x-python",
   "name": "python",
   "nbconvert_exporter": "python",
   "pygments_lexer": "ipython3",
   "version": "3.6.14"
  },
  "papermill": {
   "duration": 447.834434,
   "end_time": "2021-08-12T20:12:32.332247",
   "environment_variables": {},
   "exception": null,
   "input_path": "2020-08-11-NeuralNetwork.ipynb",
   "output_path": "2020-08-11-NeuralNetwork.ipynb",
   "parameters": {},
   "start_time": "2021-08-12T20:05:04.497813",
   "version": "2.1.2"
  }
 },
 "nbformat": 4,
 "nbformat_minor": 5
}