{
 "cells": [
  {
   "cell_type": "markdown",
   "metadata": {
    "papermill": {
     "duration": 0.044174,
     "end_time": "2020-10-23T00:07:05.772771",
     "exception": false,
     "start_time": "2020-10-23T00:07:05.728597",
     "status": "completed"
    },
    "tags": []
   },
   "source": [
    "# \"A Basic Neural Network: Differentiate Hand-Written Digits\"\n",
    "\n",
    "- badges: true\n",
    "- author: Akshith Sriram"
   ]
  },
  {
   "cell_type": "markdown",
   "metadata": {
    "papermill": {
     "duration": 0.100781,
     "end_time": "2020-10-23T00:07:05.975680",
     "exception": false,
     "start_time": "2020-10-23T00:07:05.874899",
     "status": "completed"
    },
    "tags": []
   },
   "source": [
    "### Key Objectives:\n",
    "- Building a neural network that differentiates two hand-written digits 3 and 8.\n",
    "- Comparing the results of this Neural Network (NN) to that of a Logistic Regression (LR) model.\n",
    "\n",
    "### Requirements:\n",
    "- 'Kudzu' : A neural network library that was designed during our course by [Univ.AI](www.univ.ai). \n",
    "- MNIST Database\n",
    "\n",
    "If MNIST is not installed, use the command `!pip install mnist` given below.\n",
    "It can be run both from the command line and Jupyter Notebook."
   ]
  },
  {
   "cell_type": "code",
   "execution_count": 1,
   "metadata": {
    "execution": {
     "iopub.execute_input": "2020-10-23T00:07:06.166319Z",
     "iopub.status.busy": "2020-10-23T00:07:06.165730Z",
     "iopub.status.idle": "2020-10-23T00:07:07.850790Z",
     "shell.execute_reply": "2020-10-23T00:07:07.850217Z"
    },
    "papermill": {
     "duration": 1.798072,
     "end_time": "2020-10-23T00:07:07.850938",
     "exception": false,
     "start_time": "2020-10-23T00:07:06.052866",
     "status": "completed"
    },
    "tags": []
   },
   "outputs": [
    {
     "name": "stdout",
     "output_type": "stream",
     "text": [
      "Collecting mnist\r\n"
     ]
    },
    {
     "name": "stdout",
     "output_type": "stream",
     "text": [
      "  Downloading mnist-0.2.2-py2.py3-none-any.whl (3.5 kB)\r\n",
      "Requirement already satisfied: numpy in /opt/hostedtoolcache/Python/3.6.12/x64/lib/python3.6/site-packages (from mnist) (1.19.2)\r\n"
     ]
    },
    {
     "name": "stdout",
     "output_type": "stream",
     "text": [
      "Installing collected packages: mnist\r\n"
     ]
    },
    {
     "name": "stdout",
     "output_type": "stream",
     "text": [
      "Successfully installed mnist-0.2.2\r\n"
     ]
    },
    {
     "name": "stdout",
     "output_type": "stream",
     "text": [
      "\u001b[33mWARNING: You are using pip version 20.2.3; however, version 20.2.4 is available.\r\n",
      "You should consider upgrading via the '/opt/hostedtoolcache/Python/3.6.12/x64/bin/python -m pip install --upgrade pip' command.\u001b[0m\r\n"
     ]
    }
   ],
   "source": [
    "!pip install mnist "
   ]
  },
  {
   "cell_type": "markdown",
   "metadata": {
    "papermill": {
     "duration": 0.02455,
     "end_time": "2020-10-23T00:07:07.901040",
     "exception": false,
     "start_time": "2020-10-23T00:07:07.876490",
     "status": "completed"
    },
    "tags": []
   },
   "source": [
    "#### Importing necessary libraries"
   ]
  },
  {
   "cell_type": "code",
   "execution_count": 2,
   "metadata": {
    "execution": {
     "iopub.execute_input": "2020-10-23T00:07:07.959877Z",
     "iopub.status.busy": "2020-10-23T00:07:07.959248Z",
     "iopub.status.idle": "2020-10-23T00:07:08.541331Z",
     "shell.execute_reply": "2020-10-23T00:07:08.540727Z"
    },
    "papermill": {
     "duration": 0.614131,
     "end_time": "2020-10-23T00:07:08.541464",
     "exception": false,
     "start_time": "2020-10-23T00:07:07.927333",
     "status": "completed"
    },
    "tags": []
   },
   "outputs": [],
   "source": [
    "%load_ext autoreload\n",
    "%autoreload 2\n",
    "\n",
    "%matplotlib inline\n",
    "import matplotlib.pyplot as plt\n",
    "\n",
    "import numpy as np\n",
    "import pandas as pd"
   ]
  },
  {
   "cell_type": "markdown",
   "metadata": {
    "papermill": {
     "duration": 0.027233,
     "end_time": "2020-10-23T00:07:08.596413",
     "exception": false,
     "start_time": "2020-10-23T00:07:08.569180",
     "status": "completed"
    },
    "tags": []
   },
   "source": [
    "### Preparing the Data"
   ]
  },
  {
   "cell_type": "code",
   "execution_count": 3,
   "metadata": {
    "execution": {
     "iopub.execute_input": "2020-10-23T00:07:08.652800Z",
     "iopub.status.busy": "2020-10-23T00:07:08.652218Z",
     "iopub.status.idle": "2020-10-23T00:07:08.664473Z",
     "shell.execute_reply": "2020-10-23T00:07:08.665454Z"
    },
    "papermill": {
     "duration": 0.042193,
     "end_time": "2020-10-23T00:07:08.665626",
     "exception": false,
     "start_time": "2020-10-23T00:07:08.623433",
     "status": "completed"
    },
    "tags": []
   },
   "outputs": [],
   "source": [
    "import mnist"
   ]
  },
  {
   "cell_type": "code",
   "execution_count": 4,
   "metadata": {
    "execution": {
     "iopub.execute_input": "2020-10-23T00:07:08.723721Z",
     "iopub.status.busy": "2020-10-23T00:07:08.722995Z",
     "iopub.status.idle": "2020-10-23T00:07:10.467664Z",
     "shell.execute_reply": "2020-10-23T00:07:10.467132Z"
    },
    "papermill": {
     "duration": 1.77696,
     "end_time": "2020-10-23T00:07:10.467792",
     "exception": false,
     "start_time": "2020-10-23T00:07:08.690832",
     "status": "completed"
    },
    "tags": []
   },
   "outputs": [],
   "source": [
    "train_images = mnist.train_images()\n",
    "train_labels = mnist.train_labels()"
   ]
  },
  {
   "cell_type": "code",
   "execution_count": 5,
   "metadata": {
    "execution": {
     "iopub.execute_input": "2020-10-23T00:07:10.534238Z",
     "iopub.status.busy": "2020-10-23T00:07:10.526610Z",
     "iopub.status.idle": "2020-10-23T00:07:10.543478Z",
     "shell.execute_reply": "2020-10-23T00:07:10.542828Z"
    },
    "papermill": {
     "duration": 0.047958,
     "end_time": "2020-10-23T00:07:10.543650",
     "exception": false,
     "start_time": "2020-10-23T00:07:10.495692",
     "status": "completed"
    },
    "tags": []
   },
   "outputs": [
    {
     "data": {
      "text/plain": [
       "((60000, 28, 28), (60000,))"
      ]
     },
     "execution_count": 5,
     "metadata": {},
     "output_type": "execute_result"
    }
   ],
   "source": [
    "train_images.shape, train_labels.shape"
   ]
  },
  {
   "cell_type": "code",
   "execution_count": 6,
   "metadata": {
    "execution": {
     "iopub.execute_input": "2020-10-23T00:07:10.603701Z",
     "iopub.status.busy": "2020-10-23T00:07:10.603107Z",
     "iopub.status.idle": "2020-10-23T00:07:11.949856Z",
     "shell.execute_reply": "2020-10-23T00:07:11.948958Z"
    },
    "papermill": {
     "duration": 1.376978,
     "end_time": "2020-10-23T00:07:11.949995",
     "exception": false,
     "start_time": "2020-10-23T00:07:10.573017",
     "status": "completed"
    },
    "tags": []
   },
   "outputs": [],
   "source": [
    "test_images = mnist.test_images()\n",
    "test_labels = mnist.test_labels()"
   ]
  },
  {
   "cell_type": "code",
   "execution_count": 7,
   "metadata": {
    "execution": {
     "iopub.execute_input": "2020-10-23T00:07:12.018021Z",
     "iopub.status.busy": "2020-10-23T00:07:12.009541Z",
     "iopub.status.idle": "2020-10-23T00:07:12.023362Z",
     "shell.execute_reply": "2020-10-23T00:07:12.022826Z"
    },
    "papermill": {
     "duration": 0.045422,
     "end_time": "2020-10-23T00:07:12.023490",
     "exception": false,
     "start_time": "2020-10-23T00:07:11.978068",
     "status": "completed"
    },
    "tags": []
   },
   "outputs": [
    {
     "data": {
      "text/plain": [
       "((10000, 28, 28), (10000,))"
      ]
     },
     "execution_count": 7,
     "metadata": {},
     "output_type": "execute_result"
    }
   ],
   "source": [
    "test_images.shape, test_labels.shape"
   ]
  },
  {
   "cell_type": "code",
   "execution_count": 8,
   "metadata": {
    "execution": {
     "iopub.execute_input": "2020-10-23T00:07:12.096409Z",
     "iopub.status.busy": "2020-10-23T00:07:12.095557Z",
     "iopub.status.idle": "2020-10-23T00:07:12.280309Z",
     "shell.execute_reply": "2020-10-23T00:07:12.279781Z"
    },
    "papermill": {
     "duration": 0.228474,
     "end_time": "2020-10-23T00:07:12.280443",
     "exception": false,
     "start_time": "2020-10-23T00:07:12.051969",
     "status": "completed"
    },
    "tags": []
   },
   "outputs": [
    {
     "name": "stdout",
     "output_type": "stream",
     "text": [
      "2\n"
     ]
    },
    {
     "data": {
      "text/plain": [
       "<matplotlib.image.AxesImage at 0x7f8d562a4908>"
      ]
     },
     "execution_count": 8,
     "metadata": {},
     "output_type": "execute_result"
    },
    {
     "data": {
      "image/png": "[encoded data removed]",
      "text/plain": [
       "<Figure size 432x288 with 1 Axes>"
      ]
     },
     "metadata": {
      "needs_background": "light"
     },
     "output_type": "display_data"
    }
   ],
   "source": [
    "image_index = 7776 # You may select anything up to 60,000\n",
    "print(train_labels[image_index]) \n",
    "plt.imshow(train_images[image_index], cmap='Greys')"
   ]
  },
  {
   "cell_type": "markdown",
   "metadata": {
    "papermill": {
     "duration": 0.028488,
     "end_time": "2020-10-23T00:07:12.337903",
     "exception": false,
     "start_time": "2020-10-23T00:07:12.309415",
     "status": "completed"
    },
    "tags": []
   },
   "source": [
    "## Filter data to get 3 and 8 out"
   ]
  },
  {
   "cell_type": "code",
   "execution_count": 9,
   "metadata": {
    "execution": {
     "iopub.execute_input": "2020-10-23T00:07:12.406154Z",
     "iopub.status.busy": "2020-10-23T00:07:12.405444Z",
     "iopub.status.idle": "2020-10-23T00:07:12.423178Z",
     "shell.execute_reply": "2020-10-23T00:07:12.422635Z"
    },
    "papermill": {
     "duration": 0.052538,
     "end_time": "2020-10-23T00:07:12.423302",
     "exception": false,
     "start_time": "2020-10-23T00:07:12.370764",
     "status": "completed"
    },
    "tags": []
   },
   "outputs": [],
   "source": [
    "train_filter = np.where((train_labels == 3 ) | (train_labels == 8))\n",
    "test_filter = np.where((test_labels == 3) | (test_labels == 8))\n",
    "X_train, y_train = train_images[train_filter], train_labels[train_filter]\n",
    "X_test, y_test = test_images[test_filter], test_labels[test_filter]"
   ]
  },
  {
   "cell_type": "markdown",
   "metadata": {
    "papermill": {
     "duration": 0.028501,
     "end_time": "2020-10-23T00:07:12.480768",
     "exception": false,
     "start_time": "2020-10-23T00:07:12.452267",
     "status": "completed"
    },
    "tags": []
   },
   "source": [
    "We normalize the pixel values in the 0 to 1 range"
   ]
  },
  {
   "cell_type": "code",
   "execution_count": 10,
   "metadata": {
    "execution": {
     "iopub.execute_input": "2020-10-23T00:07:12.538873Z",
     "iopub.status.busy": "2020-10-23T00:07:12.538231Z",
     "iopub.status.idle": "2020-10-23T00:07:12.597562Z",
     "shell.execute_reply": "2020-10-23T00:07:12.598244Z"
    },
    "papermill": {
     "duration": 0.091054,
     "end_time": "2020-10-23T00:07:12.598430",
     "exception": false,
     "start_time": "2020-10-23T00:07:12.507376",
     "status": "completed"
    },
    "tags": []
   },
   "outputs": [],
   "source": [
    "X_train = X_train/255.\n",
    "X_test = X_test/255."
   ]
  },
  {
   "cell_type": "markdown",
   "metadata": {
    "papermill": {
     "duration": 0.031005,
     "end_time": "2020-10-23T00:07:12.658529",
     "exception": false,
     "start_time": "2020-10-23T00:07:12.627524",
     "status": "completed"
    },
    "tags": []
   },
   "source": [
    "Setup the labels as 1 (when the digit is 3) and 0 (when the digit is 8)"
   ]
  },
  {
   "cell_type": "code",
   "execution_count": 11,
   "metadata": {
    "execution": {
     "iopub.execute_input": "2020-10-23T00:07:12.719327Z",
     "iopub.status.busy": "2020-10-23T00:07:12.718607Z",
     "iopub.status.idle": "2020-10-23T00:07:12.730946Z",
     "shell.execute_reply": "2020-10-23T00:07:12.731527Z"
    },
    "papermill": {
     "duration": 0.045495,
     "end_time": "2020-10-23T00:07:12.731654",
     "exception": false,
     "start_time": "2020-10-23T00:07:12.686159",
     "status": "completed"
    },
    "tags": []
   },
   "outputs": [],
   "source": [
    "y_train = 1*(y_train==3)\n",
    "y_test = 1*(y_test==3)"
   ]
  },
  {
   "cell_type": "code",
   "execution_count": 12,
   "metadata": {
    "execution": {
     "iopub.execute_input": "2020-10-23T00:07:12.797013Z",
     "iopub.status.busy": "2020-10-23T00:07:12.796347Z",
     "iopub.status.idle": "2020-10-23T00:07:12.805830Z",
     "shell.execute_reply": "2020-10-23T00:07:12.805071Z"
    },
    "papermill": {
     "duration": 0.046076,
     "end_time": "2020-10-23T00:07:12.805975",
     "exception": false,
     "start_time": "2020-10-23T00:07:12.759899",
     "status": "completed"
    },
    "tags": []
   },
   "outputs": [
    {
     "data": {
      "text/plain": [
       "((11982, 28, 28), (1984, 28, 28))"
      ]
     },
     "execution_count": 12,
     "metadata": {},
     "output_type": "execute_result"
    }
   ],
   "source": [
    "X_train.shape, X_test.shape"
   ]
  },
  {
   "cell_type": "markdown",
   "metadata": {
    "papermill": {
     "duration": 0.02903,
     "end_time": "2020-10-23T00:07:12.865812",
     "exception": false,
     "start_time": "2020-10-23T00:07:12.836782",
     "status": "completed"
    },
    "tags": []
   },
   "source": [
    "### Reshape the input data to create a linear array"
   ]
  },
  {
   "cell_type": "code",
   "execution_count": 13,
   "metadata": {
    "execution": {
     "iopub.execute_input": "2020-10-23T00:07:12.927085Z",
     "iopub.status.busy": "2020-10-23T00:07:12.926512Z",
     "iopub.status.idle": "2020-10-23T00:07:12.939950Z",
     "shell.execute_reply": "2020-10-23T00:07:12.940495Z"
    },
    "papermill": {
     "duration": 0.046533,
     "end_time": "2020-10-23T00:07:12.940622",
     "exception": false,
     "start_time": "2020-10-23T00:07:12.894089",
     "status": "completed"
    },
    "tags": []
   },
   "outputs": [
    {
     "data": {
      "text/plain": [
       "((11982, 784), (1984, 784))"
      ]
     },
     "execution_count": 13,
     "metadata": {},
     "output_type": "execute_result"
    }
   ],
   "source": [
    "X_train = X_train.reshape(X_train.shape[0], -1)\n",
    "X_test = X_test.reshape(X_test.shape[0], -1)\n",
    "X_train.shape, X_test.shape"
   ]
  },
  {
   "cell_type": "markdown",
   "metadata": {
    "papermill": {
     "duration": 0.029013,
     "end_time": "2020-10-23T00:07:12.996870",
     "exception": false,
     "start_time": "2020-10-23T00:07:12.967857",
     "status": "completed"
    },
    "tags": []
   },
   "source": [
    "### Importing appropriate functions from 'Kudzu'"
   ]
  },
  {
   "cell_type": "code",
   "execution_count": 14,
   "metadata": {
    "execution": {
     "iopub.execute_input": "2020-10-23T00:07:13.059429Z",
     "iopub.status.busy": "2020-10-23T00:07:13.058499Z",
     "iopub.status.idle": "2020-10-23T00:07:13.084355Z",
     "shell.execute_reply": "2020-10-23T00:07:13.084970Z"
    },
    "papermill": {
     "duration": 0.060403,
     "end_time": "2020-10-23T00:07:13.085112",
     "exception": false,
     "start_time": "2020-10-23T00:07:13.024709",
     "status": "completed"
    },
    "tags": []
   },
   "outputs": [],
   "source": [
    "from kudzu.layer import Sigmoid\n",
    "from kudzu.layer import Relu\n",
    "from kudzu.layer import Affine, Sigmoid\n",
    "\n",
    "from kudzu.model import Model\n",
    "from kudzu.train import Learner\n",
    "from kudzu.optim import GD\n",
    "from kudzu.data import Data, Dataloader, Sampler\n",
    "\n",
    "from kudzu.callbacks import AccCallback\n",
    "from kudzu.callbacks import ClfCallback\n",
    "\n",
    "from kudzu.loss import MSE"
   ]
  },
  {
   "cell_type": "markdown",
   "metadata": {
    "papermill": {
     "duration": 0.030349,
     "end_time": "2020-10-23T00:07:13.146507",
     "exception": false,
     "start_time": "2020-10-23T00:07:13.116158",
     "status": "completed"
    },
    "tags": []
   },
   "source": [
    "### Let us create a `Config` class, to store important parameters. \n",
    "This class essentially plays the role of a dictionary."
   ]
  },
  {
   "cell_type": "code",
   "execution_count": 15,
   "metadata": {
    "execution": {
     "iopub.execute_input": "2020-10-23T00:07:13.210836Z",
     "iopub.status.busy": "2020-10-23T00:07:13.210174Z",
     "iopub.status.idle": "2020-10-23T00:07:13.221894Z",
     "shell.execute_reply": "2020-10-23T00:07:13.222625Z"
    },
    "papermill": {
     "duration": 0.045959,
     "end_time": "2020-10-23T00:07:13.222889",
     "exception": false,
     "start_time": "2020-10-23T00:07:13.176930",
     "status": "completed"
    },
    "tags": []
   },
   "outputs": [],
   "source": [
    "class Config:\n",
    "    pass\n",
    "config = Config()\n",
    "config.lr = 0.001\n",
    "config.num_epochs = 251\n",
    "config.bs = 50"
   ]
  },
  {
   "cell_type": "markdown",
   "metadata": {
    "papermill": {
     "duration": 0.029609,
     "end_time": "2020-10-23T00:07:13.281603",
     "exception": false,
     "start_time": "2020-10-23T00:07:13.251994",
     "status": "completed"
    },
    "tags": []
   },
   "source": [
    "### Initializing data to the variables"
   ]
  },
  {
   "cell_type": "code",
   "execution_count": 16,
   "metadata": {
    "execution": {
     "iopub.execute_input": "2020-10-23T00:07:13.345518Z",
     "iopub.status.busy": "2020-10-23T00:07:13.344873Z",
     "iopub.status.idle": "2020-10-23T00:07:13.357322Z",
     "shell.execute_reply": "2020-10-23T00:07:13.358002Z"
    },
    "papermill": {
     "duration": 0.047507,
     "end_time": "2020-10-23T00:07:13.358242",
     "exception": false,
     "start_time": "2020-10-23T00:07:13.310735",
     "status": "completed"
    },
    "tags": []
   },
   "outputs": [],
   "source": [
    "data = Data(X_train, y_train.reshape(-1,1))\n",
    "sampler = Sampler(data, config.bs, shuffle=True)\n",
    "\n",
    "dl = Dataloader(data, sampler)\n",
    "\n",
    "opt = GD(config.lr)\n",
    "loss = MSE()"
   ]
  },
  {
   "cell_type": "code",
   "execution_count": 17,
   "metadata": {
    "execution": {
     "iopub.execute_input": "2020-10-23T00:07:13.423264Z",
     "iopub.status.busy": "2020-10-23T00:07:13.422646Z",
     "iopub.status.idle": "2020-10-23T00:07:13.432982Z",
     "shell.execute_reply": "2020-10-23T00:07:13.433672Z"
    },
    "papermill": {
     "duration": 0.045823,
     "end_time": "2020-10-23T00:07:13.433825",
     "exception": false,
     "start_time": "2020-10-23T00:07:13.388002",
     "status": "completed"
    },
    "tags": []
   },
   "outputs": [],
   "source": [
    "training_xdata = X_train\n",
    "testing_xdata = X_test\n",
    "training_ydata = y_train.reshape(-1,1)\n",
    "testing_ydata = y_test.reshape(-1,1)"
   ]
  },
  {
   "cell_type": "markdown",
   "metadata": {
    "papermill": {
     "duration": 0.029953,
     "end_time": "2020-10-23T00:07:13.492881",
     "exception": false,
     "start_time": "2020-10-23T00:07:13.462928",
     "status": "completed"
    },
    "tags": []
   },
   "source": [
    "### Running Models with the Training data\n",
    "Details about the network layers:\n",
    "- A first affine layer has 784 inputs and does 100 affine transforms. These are followed by a Relu\n",
    "- A second affine layer has 100 inputs from the 100 activations of the past layer, and does 100 affine transforms. These are followed by a Relu\n",
    "- A third affine layer has 100 activations and does 2 affine transformations to create an embedding for visualization. There is no non-linearity here.\n",
    "- A final \"logistic regression\" which has an affine transform from 2 inputs to 1 output, which is squeezed through a sigmoid.\n",
    "\n",
    "Help taken from Anshuman's Notebook."
   ]
  },
  {
   "cell_type": "code",
   "execution_count": 18,
   "metadata": {
    "execution": {
     "iopub.execute_input": "2020-10-23T00:07:13.559949Z",
     "iopub.status.busy": "2020-10-23T00:07:13.559301Z",
     "iopub.status.idle": "2020-10-23T00:07:13.574154Z",
     "shell.execute_reply": "2020-10-23T00:07:13.573472Z"
    },
    "papermill": {
     "duration": 0.051522,
     "end_time": "2020-10-23T00:07:13.574288",
     "exception": false,
     "start_time": "2020-10-23T00:07:13.522766",
     "status": "completed"
    },
    "tags": []
   },
   "outputs": [],
   "source": [
    "# layers for the Neural Network\n",
    "layers = [Affine(\"first\", 784, 100), Relu(\"first\"), Affine(\"second\", 100, 100), Relu(\"second\"), Affine(\"third\", 100, 2), Affine(\"final\", 2, 1), Sigmoid(\"final\")]\n",
    "model_nn = Model(layers)\n",
    "\n",
    "# layers for the Logistic Regression\n",
    "layers_lr = [Affine(\"logits\", 784, 1), Sigmoid(\"sigmoid\")]\n",
    "model_lr = Model(layers_lr)"
   ]
  },
  {
   "cell_type": "code",
   "execution_count": 19,
   "metadata": {
    "execution": {
     "iopub.execute_input": "2020-10-23T00:07:13.639832Z",
     "iopub.status.busy": "2020-10-23T00:07:13.639180Z",
     "iopub.status.idle": "2020-10-23T00:07:13.651758Z",
     "shell.execute_reply": "2020-10-23T00:07:13.651263Z"
    },
    "papermill": {
     "duration": 0.045257,
     "end_time": "2020-10-23T00:07:13.651892",
     "exception": false,
     "start_time": "2020-10-23T00:07:13.606635",
     "status": "completed"
    },
    "tags": []
   },
   "outputs": [],
   "source": [
    "# suffix _nn stands for Neural Network.\n",
    "learner_nn = Learner(loss, model_nn, opt, config.num_epochs)\n",
    "acc_nn = ClfCallback(learner_nn, config.bs, training_xdata , testing_xdata, training_ydata, testing_ydata)\n",
    "learner_nn.set_callbacks([acc_nn])"
   ]
  },
  {
   "cell_type": "code",
   "execution_count": 20,
   "metadata": {
    "execution": {
     "iopub.execute_input": "2020-10-23T00:07:13.713655Z",
     "iopub.status.busy": "2020-10-23T00:07:13.713030Z",
     "iopub.status.idle": "2020-10-23T00:09:32.149760Z",
     "shell.execute_reply": "2020-10-23T00:09:32.150534Z"
    },
    "papermill": {
     "duration": 138.469691,
     "end_time": "2020-10-23T00:09:32.150684",
     "exception": false,
     "start_time": "2020-10-23T00:07:13.680993",
     "status": "completed"
    },
    "tags": []
   },
   "outputs": [
    {
     "name": "stdout",
     "output_type": "stream",
     "text": [
      "====== Neural Network ======\n"
     ]
    },
    {
     "name": "stdout",
     "output_type": "stream",
     "text": [
      "Epoch 0, Loss 0.242\n",
      "Training Accuracy: 0.5938, Testing Accuracy: 0.6013\n",
      "\n"
     ]
    },
    {
     "name": "stdout",
     "output_type": "stream",
     "text": [
      "Epoch 10, Loss 0.1348\n",
      "Training Accuracy: 0.8928, Testing Accuracy: 0.9088\n",
      "\n"
     ]
    },
    {
     "name": "stdout",
     "output_type": "stream",
     "text": [
      "Epoch 20, Loss 0.0715\n",
      "Training Accuracy: 0.9283, Testing Accuracy: 0.9405\n",
      "\n"
     ]
    },
    {
     "name": "stdout",
     "output_type": "stream",
     "text": [
      "Epoch 30, Loss 0.052\n",
      "Training Accuracy: 0.9438, Testing Accuracy: 0.9536\n",
      "\n"
     ]
    },
    {
     "name": "stdout",
     "output_type": "stream",
     "text": [
      "Epoch 40, Loss 0.0433\n",
      "Training Accuracy: 0.9511, Testing Accuracy: 0.9632\n",
      "\n"
     ]
    },
    {
     "name": "stdout",
     "output_type": "stream",
     "text": [
      "Epoch 50, Loss 0.0384\n",
      "Training Accuracy: 0.9558, Testing Accuracy: 0.9642\n",
      "\n"
     ]
    },
    {
     "name": "stdout",
     "output_type": "stream",
     "text": [
      "Epoch 60, Loss 0.0352\n",
      "Training Accuracy: 0.9587, Testing Accuracy: 0.9672\n",
      "\n"
     ]
    },
    {
     "name": "stdout",
     "output_type": "stream",
     "text": [
      "Epoch 70, Loss 0.033\n",
      "Training Accuracy: 0.9612, Testing Accuracy: 0.9682\n",
      "\n"
     ]
    },
    {
     "name": "stdout",
     "output_type": "stream",
     "text": [
      "Epoch 80, Loss 0.0313\n",
      "Training Accuracy: 0.9632, Testing Accuracy: 0.9682\n",
      "\n"
     ]
    },
    {
     "name": "stdout",
     "output_type": "stream",
     "text": [
      "Epoch 90, Loss 0.0299\n",
      "Training Accuracy: 0.9646, Testing Accuracy: 0.9698\n",
      "\n"
     ]
    },
    {
     "name": "stdout",
     "output_type": "stream",
     "text": [
      "Epoch 100, Loss 0.0288\n",
      "Training Accuracy: 0.9659, Testing Accuracy: 0.9698\n",
      "\n"
     ]
    },
    {
     "name": "stdout",
     "output_type": "stream",
     "text": [
      "Epoch 110, Loss 0.0279\n",
      "Training Accuracy: 0.9675, Testing Accuracy: 0.9703\n",
      "\n"
     ]
    },
    {
     "name": "stdout",
     "output_type": "stream",
     "text": [
      "Epoch 120, Loss 0.027\n",
      "Training Accuracy: 0.9685, Testing Accuracy: 0.9713\n",
      "\n"
     ]
    },
    {
     "name": "stdout",
     "output_type": "stream",
     "text": [
      "Epoch 130, Loss 0.0263\n",
      "Training Accuracy: 0.9692, Testing Accuracy: 0.9708\n",
      "\n"
     ]
    },
    {
     "name": "stdout",
     "output_type": "stream",
     "text": [
      "Epoch 140, Loss 0.0256\n",
      "Training Accuracy: 0.9702, Testing Accuracy: 0.9703\n",
      "\n"
     ]
    },
    {
     "name": "stdout",
     "output_type": "stream",
     "text": [
      "Epoch 150, Loss 0.025\n",
      "Training Accuracy: 0.9710, Testing Accuracy: 0.9703\n",
      "\n"
     ]
    },
    {
     "name": "stdout",
     "output_type": "stream",
     "text": [
      "Epoch 160, Loss 0.0245\n",
      "Training Accuracy: 0.9715, Testing Accuracy: 0.9698\n",
      "\n"
     ]
    },
    {
     "name": "stdout",
     "output_type": "stream",
     "text": [
      "Epoch 170, Loss 0.024\n",
      "Training Accuracy: 0.9723, Testing Accuracy: 0.9698\n",
      "\n"
     ]
    },
    {
     "name": "stdout",
     "output_type": "stream",
     "text": [
      "Epoch 180, Loss 0.0235\n",
      "Training Accuracy: 0.9727, Testing Accuracy: 0.9703\n",
      "\n"
     ]
    },
    {
     "name": "stdout",
     "output_type": "stream",
     "text": [
      "Epoch 190, Loss 0.023\n",
      "Training Accuracy: 0.9734, Testing Accuracy: 0.9703\n",
      "\n"
     ]
    },
    {
     "name": "stdout",
     "output_type": "stream",
     "text": [
      "Epoch 200, Loss 0.0226\n",
      "Training Accuracy: 0.9737, Testing Accuracy: 0.9713\n",
      "\n"
     ]
    },
    {
     "name": "stdout",
     "output_type": "stream",
     "text": [
      "Epoch 210, Loss 0.0222\n",
      "Training Accuracy: 0.9743, Testing Accuracy: 0.9723\n",
      "\n"
     ]
    },
    {
     "name": "stdout",
     "output_type": "stream",
     "text": [
      "Epoch 220, Loss 0.0218\n",
      "Training Accuracy: 0.9746, Testing Accuracy: 0.9718\n",
      "\n"
     ]
    },
    {
     "name": "stdout",
     "output_type": "stream",
     "text": [
      "Epoch 230, Loss 0.0214\n",
      "Training Accuracy: 0.9750, Testing Accuracy: 0.9723\n",
      "\n"
     ]
    },
    {
     "name": "stdout",
     "output_type": "stream",
     "text": [
      "Epoch 240, Loss 0.021\n",
      "Training Accuracy: 0.9752, Testing Accuracy: 0.9718\n",
      "\n"
     ]
    },
    {
     "name": "stdout",
     "output_type": "stream",
     "text": [
      "Epoch 250, Loss 0.0207\n",
      "Training Accuracy: 0.9758, Testing Accuracy: 0.9718\n",
      "\n"
     ]
    },
    {
     "data": {
      "text/plain": [
       "0.013418804548841652"
      ]
     },
     "execution_count": 20,
     "metadata": {},
     "output_type": "execute_result"
    }
   ],
   "source": [
    "print(\"====== Neural Network ======\")\n",
    "learner_nn.train_loop(dl)"
   ]
  },
  {
   "cell_type": "markdown",
   "metadata": {
    "papermill": {
     "duration": 0.036897,
     "end_time": "2020-10-23T00:09:32.229463",
     "exception": false,
     "start_time": "2020-10-23T00:09:32.192566",
     "status": "completed"
    },
    "tags": []
   },
   "source": [
    "### Logistic Regression based Implementation."
   ]
  },
  {
   "cell_type": "code",
   "execution_count": 21,
   "metadata": {
    "execution": {
     "iopub.execute_input": "2020-10-23T00:09:32.315311Z",
     "iopub.status.busy": "2020-10-23T00:09:32.314727Z",
     "iopub.status.idle": "2020-10-23T00:09:32.322945Z",
     "shell.execute_reply": "2020-10-23T00:09:32.323751Z"
    },
    "papermill": {
     "duration": 0.055465,
     "end_time": "2020-10-23T00:09:32.323914",
     "exception": false,
     "start_time": "2020-10-23T00:09:32.268449",
     "status": "completed"
    },
    "tags": []
   },
   "outputs": [],
   "source": [
    "learner_lr = Learner(loss, model_lr, opt, config.num_epochs)\n",
    "acc_lr = ClfCallback(learner_lr, config.bs, training_xdata , testing_xdata, training_ydata, testing_ydata)\n",
    "learner_lr.set_callbacks([acc_lr])"
   ]
  },
  {
   "cell_type": "code",
   "execution_count": 22,
   "metadata": {
    "execution": {
     "iopub.execute_input": "2020-10-23T00:09:32.408923Z",
     "iopub.status.busy": "2020-10-23T00:09:32.407811Z",
     "iopub.status.idle": "2020-10-23T00:09:53.638489Z",
     "shell.execute_reply": "2020-10-23T00:09:53.639277Z"
    },
    "papermill": {
     "duration": 21.276107,
     "end_time": "2020-10-23T00:09:53.639430",
     "exception": false,
     "start_time": "2020-10-23T00:09:32.363323",
     "status": "completed"
    },
    "tags": []
   },
   "outputs": [
    {
     "name": "stdout",
     "output_type": "stream",
     "text": [
      "====== Logistic Regression ======\n",
      "Epoch 0, Loss 0.29\n",
      "Training Accuracy: 0.4685, Testing Accuracy: 0.4975\n",
      "\n"
     ]
    },
    {
     "name": "stdout",
     "output_type": "stream",
     "text": [
      "Epoch 10, Loss 0.1066\n",
      "Training Accuracy: 0.9095, Testing Accuracy: 0.9219\n",
      "\n"
     ]
    },
    {
     "name": "stdout",
     "output_type": "stream",
     "text": [
      "Epoch 20, Loss 0.0798\n",
      "Training Accuracy: 0.9300, Testing Accuracy: 0.9420\n",
      "\n"
     ]
    },
    {
     "name": "stdout",
     "output_type": "stream",
     "text": [
      "Epoch 30, Loss 0.0681\n",
      "Training Accuracy: 0.9389, Testing Accuracy: 0.9516\n",
      "\n"
     ]
    },
    {
     "name": "stdout",
     "output_type": "stream",
     "text": [
      "Epoch 40, Loss 0.0612\n",
      "Training Accuracy: 0.9433, Testing Accuracy: 0.9587\n",
      "\n"
     ]
    },
    {
     "name": "stdout",
     "output_type": "stream",
     "text": [
      "Epoch 50, Loss 0.0566\n",
      "Training Accuracy: 0.9469, Testing Accuracy: 0.9597\n",
      "\n"
     ]
    },
    {
     "name": "stdout",
     "output_type": "stream",
     "text": [
      "Epoch 60, Loss 0.0533\n",
      "Training Accuracy: 0.9489, Testing Accuracy: 0.9617\n",
      "\n"
     ]
    },
    {
     "name": "stdout",
     "output_type": "stream",
     "text": [
      "Epoch 70, Loss 0.0507\n",
      "Training Accuracy: 0.9507, Testing Accuracy: 0.9627\n",
      "\n"
     ]
    },
    {
     "name": "stdout",
     "output_type": "stream",
     "text": [
      "Epoch 80, Loss 0.0487\n",
      "Training Accuracy: 0.9515, Testing Accuracy: 0.9637\n",
      "\n"
     ]
    },
    {
     "name": "stdout",
     "output_type": "stream",
     "text": [
      "Epoch 90, Loss 0.047\n",
      "Training Accuracy: 0.9524, Testing Accuracy: 0.9632\n",
      "\n"
     ]
    },
    {
     "name": "stdout",
     "output_type": "stream",
     "text": [
      "Epoch 100, Loss 0.0456\n",
      "Training Accuracy: 0.9543, Testing Accuracy: 0.9647\n",
      "\n"
     ]
    },
    {
     "name": "stdout",
     "output_type": "stream",
     "text": [
      "Epoch 110, Loss 0.0444\n",
      "Training Accuracy: 0.9547, Testing Accuracy: 0.9647\n",
      "\n"
     ]
    },
    {
     "name": "stdout",
     "output_type": "stream",
     "text": [
      "Epoch 120, Loss 0.0434\n",
      "Training Accuracy: 0.9560, Testing Accuracy: 0.9652\n",
      "\n"
     ]
    },
    {
     "name": "stdout",
     "output_type": "stream",
     "text": [
      "Epoch 130, Loss 0.0425\n",
      "Training Accuracy: 0.9569, Testing Accuracy: 0.9657\n",
      "\n"
     ]
    },
    {
     "name": "stdout",
     "output_type": "stream",
     "text": [
      "Epoch 140, Loss 0.0417\n",
      "Training Accuracy: 0.9572, Testing Accuracy: 0.9652\n",
      "\n"
     ]
    },
    {
     "name": "stdout",
     "output_type": "stream",
     "text": [
      "Epoch 150, Loss 0.0409\n",
      "Training Accuracy: 0.9578, Testing Accuracy: 0.9652\n",
      "\n"
     ]
    },
    {
     "name": "stdout",
     "output_type": "stream",
     "text": [
      "Epoch 160, Loss 0.0403\n",
      "Training Accuracy: 0.9585, Testing Accuracy: 0.9657\n",
      "\n"
     ]
    },
    {
     "name": "stdout",
     "output_type": "stream",
     "text": [
      "Epoch 170, Loss 0.0397\n",
      "Training Accuracy: 0.9592, Testing Accuracy: 0.9657\n",
      "\n"
     ]
    },
    {
     "name": "stdout",
     "output_type": "stream",
     "text": [
      "Epoch 180, Loss 0.0391\n",
      "Training Accuracy: 0.9596, Testing Accuracy: 0.9657\n",
      "\n"
     ]
    },
    {
     "name": "stdout",
     "output_type": "stream",
     "text": [
      "Epoch 190, Loss 0.0386\n",
      "Training Accuracy: 0.9601, Testing Accuracy: 0.9672\n",
      "\n"
     ]
    },
    {
     "name": "stdout",
     "output_type": "stream",
     "text": [
      "Epoch 200, Loss 0.0381\n",
      "Training Accuracy: 0.9607, Testing Accuracy: 0.9677\n",
      "\n"
     ]
    },
    {
     "name": "stdout",
     "output_type": "stream",
     "text": [
      "Epoch 210, Loss 0.0377\n",
      "Training Accuracy: 0.9609, Testing Accuracy: 0.9677\n",
      "\n"
     ]
    },
    {
     "name": "stdout",
     "output_type": "stream",
     "text": [
      "Epoch 220, Loss 0.0373\n",
      "Training Accuracy: 0.9611, Testing Accuracy: 0.9682\n",
      "\n"
     ]
    },
    {
     "name": "stdout",
     "output_type": "stream",
     "text": [
      "Epoch 230, Loss 0.0369\n",
      "Training Accuracy: 0.9613, Testing Accuracy: 0.9688\n",
      "\n"
     ]
    },
    {
     "name": "stdout",
     "output_type": "stream",
     "text": [
      "Epoch 240, Loss 0.0366\n",
      "Training Accuracy: 0.9614, Testing Accuracy: 0.9682\n",
      "\n"
     ]
    },
    {
     "name": "stdout",
     "output_type": "stream",
     "text": [
      "Epoch 250, Loss 0.0362\n",
      "Training Accuracy: 0.9615, Testing Accuracy: 0.9677\n",
      "\n"
     ]
    },
    {
     "data": {
      "text/plain": [
       "0.03310053937807237"
      ]
     },
     "execution_count": 22,
     "metadata": {},
     "output_type": "execute_result"
    }
   ],
   "source": [
    "print(\"====== Logistic Regression ======\")\n",
    "learner_lr.train_loop(dl)"
   ]
  },
  {
   "cell_type": "markdown",
   "metadata": {
    "papermill": {
     "duration": 0.048593,
     "end_time": "2020-10-23T00:09:53.736143",
     "exception": false,
     "start_time": "2020-10-23T00:09:53.687550",
     "status": "completed"
    },
    "tags": []
   },
   "source": [
    "### Comparing results of NN and LR"
   ]
  },
  {
   "cell_type": "code",
   "execution_count": 23,
   "metadata": {
    "execution": {
     "iopub.execute_input": "2020-10-23T00:09:53.842469Z",
     "iopub.status.busy": "2020-10-23T00:09:53.841896Z",
     "iopub.status.idle": "2020-10-23T00:09:54.114912Z",
     "shell.execute_reply": "2020-10-23T00:09:54.115450Z"
    },
    "papermill": {
     "duration": 0.327866,
     "end_time": "2020-10-23T00:09:54.115606",
     "exception": false,
     "start_time": "2020-10-23T00:09:53.787740",
     "status": "completed"
    },
    "tags": []
   },
   "outputs": [
    {
     "data": {
      "text/plain": [
       "<matplotlib.legend.Legend at 0x7f8d4f65b278>"
      ]
     },
     "execution_count": 23,
     "metadata": {},
     "output_type": "execute_result"
    },
    {
     "data": {
      "image/png": "[encoded data removed]",
      "text/plain": [
       "<Figure size 1080x720 with 1 Axes>"
      ]
     },
     "metadata": {
      "needs_background": "light"
     },
     "output_type": "display_data"
    }
   ],
   "source": [
    "plt.figure(figsize=(15,10))\n",
    "\n",
    "# Neural Network plots\n",
    "plt.plot(acc_nn.accuracies, 'r-', label = \"Training Accuracies - NN\")\n",
    "plt.plot(acc_nn.test_accuracies, 'g-', label = \"Testing Accuracies - NN\")\n",
    "\n",
    "# Logistic Regression plots\n",
    "plt.plot(acc_lr.accuracies, 'k-', label = \"Training Accuracies - LR\")\n",
    "plt.plot(acc_lr.test_accuracies, 'b-', label = \"Testing Accuracies - LR\")\n",
    "\n",
    "plt.ylim(0.8, 1)\n",
    "\n",
    "plt.legend()\n",
    "\n"
   ]
  },
  {
   "cell_type": "markdown",
   "metadata": {
    "papermill": {
     "duration": 0.046659,
     "end_time": "2020-10-23T00:09:54.212736",
     "exception": false,
     "start_time": "2020-10-23T00:09:54.166077",
     "status": "completed"
    },
    "tags": []
   },
   "source": [
    "### From the plot, we can observe the following:\n",
    "- Neural Network achieves higher accuracy than the Logistic Regression model.\n",
    "- This apparently, is because of overfitting, i.e. NN captures more noise than data.\n",
    "- Testing accuracy of NN drops below the Training accuracy at higher epochs. This explains the over-fitting on training data.\n",
    "- Logistic Regression gives a reliable accuracy, without the above mentioned problem.\n"
   ]
  },
  {
   "cell_type": "markdown",
   "metadata": {
    "papermill": {
     "duration": 0.048664,
     "end_time": "2020-10-23T00:09:54.310905",
     "exception": false,
     "start_time": "2020-10-23T00:09:54.262241",
     "status": "completed"
    },
    "tags": []
   },
   "source": [
    "### Moving till the last but one layer (excluding it).\n",
    "#### Plotting the outputs of this layer of the NN."
   ]
  },
  {
   "cell_type": "code",
   "execution_count": 24,
   "metadata": {
    "execution": {
     "iopub.execute_input": "2020-10-23T00:09:54.407286Z",
     "iopub.status.busy": "2020-10-23T00:09:54.406119Z",
     "iopub.status.idle": "2020-10-23T00:09:54.417677Z",
     "shell.execute_reply": "2020-10-23T00:09:54.418276Z"
    },
    "papermill": {
     "duration": 0.063667,
     "end_time": "2020-10-23T00:09:54.418416",
     "exception": false,
     "start_time": "2020-10-23T00:09:54.354749",
     "status": "completed"
    },
    "tags": []
   },
   "outputs": [],
   "source": [
    "model_new = Model(layers[:-2])"
   ]
  },
  {
   "cell_type": "code",
   "execution_count": 25,
   "metadata": {
    "execution": {
     "iopub.execute_input": "2020-10-23T00:09:54.515117Z",
     "iopub.status.busy": "2020-10-23T00:09:54.512980Z",
     "iopub.status.idle": "2020-10-23T00:09:54.540033Z",
     "shell.execute_reply": "2020-10-23T00:09:54.540830Z"
    },
    "papermill": {
     "duration": 0.076425,
     "end_time": "2020-10-23T00:09:54.541003",
     "exception": false,
     "start_time": "2020-10-23T00:09:54.464578",
     "status": "completed"
    },
    "tags": []
   },
   "outputs": [],
   "source": [
    "plot_testing = model_new(testing_xdata)"
   ]
  },
  {
   "cell_type": "code",
   "execution_count": 26,
   "metadata": {
    "execution": {
     "iopub.execute_input": "2020-10-23T00:09:54.646592Z",
     "iopub.status.busy": "2020-10-23T00:09:54.645967Z",
     "iopub.status.idle": "2020-10-23T00:09:54.870597Z",
     "shell.execute_reply": "2020-10-23T00:09:54.871071Z"
    },
    "papermill": {
     "duration": 0.282891,
     "end_time": "2020-10-23T00:09:54.871214",
     "exception": false,
     "start_time": "2020-10-23T00:09:54.588323",
     "status": "completed"
    },
    "tags": []
   },
   "outputs": [
    {
     "data": {
      "text/plain": [
       "Text(0.5, 1.0, 'Outputs')"
      ]
     },
     "execution_count": 26,
     "metadata": {},
     "output_type": "execute_result"
    },
    {
     "data": {
      "image/png": "[encoded data removed]",
      "text/plain": [
       "<Figure size 576x504 with 1 Axes>"
      ]
     },
     "metadata": {
      "needs_background": "light"
     },
     "output_type": "display_data"
    }
   ],
   "source": [
    "plt.figure(figsize=(8,7))\n",
    "plt.scatter(plot_testing[:,0], plot_testing[:,1], alpha = 0.1, c = y_test.ravel());\n",
    "plt.title('Outputs')"
   ]
  },
  {
   "cell_type": "markdown",
   "metadata": {
    "papermill": {
     "duration": 0.046198,
     "end_time": "2020-10-23T00:09:54.963217",
     "exception": false,
     "start_time": "2020-10-23T00:09:54.917019",
     "status": "completed"
    },
    "tags": []
   },
   "source": [
    "### Plotting probability contours"
   ]
  },
  {
   "cell_type": "code",
   "execution_count": 27,
   "metadata": {
    "execution": {
     "iopub.execute_input": "2020-10-23T00:09:55.064904Z",
     "iopub.status.busy": "2020-10-23T00:09:55.064312Z",
     "iopub.status.idle": "2020-10-23T00:09:55.077324Z",
     "shell.execute_reply": "2020-10-23T00:09:55.077926Z"
    },
    "papermill": {
     "duration": 0.068973,
     "end_time": "2020-10-23T00:09:55.078065",
     "exception": false,
     "start_time": "2020-10-23T00:09:55.009092",
     "status": "completed"
    },
    "tags": []
   },
   "outputs": [],
   "source": [
    "model_prob = Model(layers[-2:]) "
   ]
  },
  {
   "cell_type": "code",
   "execution_count": 28,
   "metadata": {
    "execution": {
     "iopub.execute_input": "2020-10-23T00:09:55.175538Z",
     "iopub.status.busy": "2020-10-23T00:09:55.174831Z",
     "iopub.status.idle": "2020-10-23T00:09:55.187923Z",
     "shell.execute_reply": "2020-10-23T00:09:55.188603Z"
    },
    "papermill": {
     "duration": 0.06476,
     "end_time": "2020-10-23T00:09:55.188762",
     "exception": false,
     "start_time": "2020-10-23T00:09:55.124002",
     "status": "completed"
    },
    "tags": []
   },
   "outputs": [],
   "source": [
    "# Adjust the x and y ranges according to the above generated plot.\n",
    "x_range = np.linspace(-4, 1, 100) \n",
    "y_range = np.linspace(-6, 6, 100) \n",
    "x_grid, y_grid = np.meshgrid(x_range, y_range) # x_grid and y_grig are of size 100 X 100\n",
    "\n",
    "# converting x_grid and y_grid to continuous arrays\n",
    "x_grid_flat = np.ravel(x_grid)\n",
    "y_grid_flat = np.ravel(y_grid)\n",
    "\n",
    "# The last layer of the current model takes two columns as input. Hence transpose of np.vstack() is required.\n",
    "X = np.vstack((x_grid_flat, y_grid_flat)).T\n",
    "\n",
    "# x_grid and y_grid are of size 100 x 100\n",
    "probability_contour = model_prob(X).reshape(100,100) "
   ]
  },
  {
   "cell_type": "code",
   "execution_count": 29,
   "metadata": {
    "execution": {
     "iopub.execute_input": "2020-10-23T00:09:55.306866Z",
     "iopub.status.busy": "2020-10-23T00:09:55.306219Z",
     "iopub.status.idle": "2020-10-23T00:09:55.581973Z",
     "shell.execute_reply": "2020-10-23T00:09:55.582458Z"
    },
    "papermill": {
     "duration": 0.343942,
     "end_time": "2020-10-23T00:09:55.582606",
     "exception": false,
     "start_time": "2020-10-23T00:09:55.238664",
     "status": "completed"
    },
    "tags": []
   },
   "outputs": [
    {
     "data": {
      "image/png": "[encoded data removed]",
      "text/plain": [
       "<Figure size 720x648 with 1 Axes>"
      ]
     },
     "metadata": {
      "needs_background": "light"
     },
     "output_type": "display_data"
    }
   ],
   "source": [
    "plt.figure(figsize=(10,9))\n",
    "plt.scatter(plot_testing[:,0], plot_testing[:,1], alpha = 0.1, c = y_test.ravel())\n",
    "contours = plt.contour(x_grid,y_grid,probability_contour)\n",
    "plt.title('Probability Contours')\n",
    "plt.clabel(contours, inline = True );"
   ]
  }
 ],
 "metadata": {
  "kernelspec": {
   "display_name": "Python 3",
   "language": "python",
   "name": "python3"
  },
  "language_info": {
   "codemirror_mode": {
    "name": "ipython",
    "version": 3
   },
   "file_extension": ".py",
   "mimetype": "text/x-python",
   "name": "python",
   "nbconvert_exporter": "python",
   "pygments_lexer": "ipython3",
   "version": "3.6.12"
  },
  "papermill": {
   "duration": 171.329437,
   "end_time": "2020-10-23T00:09:55.958056",
   "environment_variables": {},
   "exception": null,
   "input_path": "2020-08-11-NeuralNetwork.ipynb",
   "output_path": "2020-08-11-NeuralNetwork.ipynb",
   "parameters": {},
   "start_time": "2020-10-23T00:07:04.628619",
   "version": "2.1.2"
  }
 },
 "nbformat": 4,
 "nbformat_minor": 4
}