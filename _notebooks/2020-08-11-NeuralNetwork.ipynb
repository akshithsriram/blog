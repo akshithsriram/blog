{
 "cells": [
  {
   "cell_type": "markdown",
   "metadata": {
    "papermill": {
     "duration": 0.032593,
     "end_time": "2020-12-09T20:04:27.079175",
     "exception": false,
     "start_time": "2020-12-09T20:04:27.046582",
     "status": "completed"
    },
    "tags": []
   },
   "source": [
    "# \"A Basic Neural Network: Differentiate Hand-Written Digits\"\n",
    "\n",
    "- badges: true\n",
    "- author: Akshith Sriram"
   ]
  },
  {
   "cell_type": "markdown",
   "metadata": {
    "papermill": {
     "duration": 0.024918,
     "end_time": "2020-12-09T20:04:27.129956",
     "exception": false,
     "start_time": "2020-12-09T20:04:27.105038",
     "status": "completed"
    },
    "tags": []
   },
   "source": [
    "### Key Objectives:\n",
    "- Building a neural network that differentiates two hand-written digits 3 and 8.\n",
    "- Comparing the results of this Neural Network (NN) to that of a Logistic Regression (LR) model.\n",
    "\n",
    "### Requirements:\n",
    "- 'Kudzu' : A neural network library that was designed during our course by [Univ.AI](www.univ.ai). \n",
    "- MNIST Database\n",
    "\n",
    "If MNIST is not installed, use the command `!pip install mnist` given below.\n",
    "It can be run both from the command line and Jupyter Notebook."
   ]
  },
  {
   "cell_type": "code",
   "execution_count": 1,
   "metadata": {
    "execution": {
     "iopub.execute_input": "2020-12-09T20:04:27.187061Z",
     "iopub.status.busy": "2020-12-09T20:04:27.186463Z",
     "iopub.status.idle": "2020-12-09T20:04:28.776747Z",
     "shell.execute_reply": "2020-12-09T20:04:28.776051Z"
    },
    "papermill": {
     "duration": 1.621889,
     "end_time": "2020-12-09T20:04:28.776894",
     "exception": false,
     "start_time": "2020-12-09T20:04:27.155005",
     "status": "completed"
    },
    "tags": []
   },
   "outputs": [
    {
     "name": "stdout",
     "output_type": "stream",
     "text": [
      "Collecting mnist\r\n"
     ]
    },
    {
     "name": "stdout",
     "output_type": "stream",
     "text": [
      "  Downloading mnist-0.2.2-py2.py3-none-any.whl (3.5 kB)\r\n"
     ]
    },
    {
     "name": "stdout",
     "output_type": "stream",
     "text": [
      "Requirement already satisfied: numpy in /opt/hostedtoolcache/Python/3.6.12/x64/lib/python3.6/site-packages (from mnist) (1.19.4)\r\n"
     ]
    },
    {
     "name": "stdout",
     "output_type": "stream",
     "text": [
      "Installing collected packages: mnist\r\n"
     ]
    },
    {
     "name": "stdout",
     "output_type": "stream",
     "text": [
      "Successfully installed mnist-0.2.2\r\n"
     ]
    },
    {
     "name": "stdout",
     "output_type": "stream",
     "text": [
      "\u001b[33mWARNING: You are using pip version 20.2.4; however, version 20.3.1 is available.\r\n",
      "You should consider upgrading via the '/opt/hostedtoolcache/Python/3.6.12/x64/bin/python -m pip install --upgrade pip' command.\u001b[0m\r\n"
     ]
    }
   ],
   "source": [
    "!pip install mnist "
   ]
  },
  {
   "cell_type": "markdown",
   "metadata": {
    "papermill": {
     "duration": 0.02688,
     "end_time": "2020-12-09T20:04:28.831584",
     "exception": false,
     "start_time": "2020-12-09T20:04:28.804704",
     "status": "completed"
    },
    "tags": []
   },
   "source": [
    "#### Importing necessary libraries"
   ]
  },
  {
   "cell_type": "code",
   "execution_count": 2,
   "metadata": {
    "execution": {
     "iopub.execute_input": "2020-12-09T20:04:28.896715Z",
     "iopub.status.busy": "2020-12-09T20:04:28.896114Z",
     "iopub.status.idle": "2020-12-09T20:04:29.476161Z",
     "shell.execute_reply": "2020-12-09T20:04:29.476645Z"
    },
    "papermill": {
     "duration": 0.617134,
     "end_time": "2020-12-09T20:04:29.476821",
     "exception": false,
     "start_time": "2020-12-09T20:04:28.859687",
     "status": "completed"
    },
    "tags": []
   },
   "outputs": [],
   "source": [
    "%load_ext autoreload\n",
    "%autoreload 2\n",
    "\n",
    "%matplotlib inline\n",
    "import matplotlib.pyplot as plt\n",
    "\n",
    "import numpy as np\n",
    "import pandas as pd"
   ]
  },
  {
   "cell_type": "markdown",
   "metadata": {
    "papermill": {
     "duration": 0.027508,
     "end_time": "2020-12-09T20:04:29.531713",
     "exception": false,
     "start_time": "2020-12-09T20:04:29.504205",
     "status": "completed"
    },
    "tags": []
   },
   "source": [
    "### Preparing the Data"
   ]
  },
  {
   "cell_type": "code",
   "execution_count": 3,
   "metadata": {
    "execution": {
     "iopub.execute_input": "2020-12-09T20:04:29.589387Z",
     "iopub.status.busy": "2020-12-09T20:04:29.588785Z",
     "iopub.status.idle": "2020-12-09T20:04:29.602048Z",
     "shell.execute_reply": "2020-12-09T20:04:29.602508Z"
    },
    "papermill": {
     "duration": 0.04402,
     "end_time": "2020-12-09T20:04:29.602666",
     "exception": false,
     "start_time": "2020-12-09T20:04:29.558646",
     "status": "completed"
    },
    "tags": []
   },
   "outputs": [],
   "source": [
    "import mnist"
   ]
  },
  {
   "cell_type": "code",
   "execution_count": 4,
   "metadata": {
    "execution": {
     "iopub.execute_input": "2020-12-09T20:04:29.661472Z",
     "iopub.status.busy": "2020-12-09T20:04:29.660885Z",
     "iopub.status.idle": "2020-12-09T20:04:31.304204Z",
     "shell.execute_reply": "2020-12-09T20:04:31.305068Z"
    },
    "papermill": {
     "duration": 1.675544,
     "end_time": "2020-12-09T20:04:31.305270",
     "exception": false,
     "start_time": "2020-12-09T20:04:29.629726",
     "status": "completed"
    },
    "tags": []
   },
   "outputs": [],
   "source": [
    "train_images = mnist.train_images()\n",
    "train_labels = mnist.train_labels()"
   ]
  },
  {
   "cell_type": "code",
   "execution_count": 5,
   "metadata": {
    "execution": {
     "iopub.execute_input": "2020-12-09T20:04:31.370631Z",
     "iopub.status.busy": "2020-12-09T20:04:31.370021Z",
     "iopub.status.idle": "2020-12-09T20:04:31.382522Z",
     "shell.execute_reply": "2020-12-09T20:04:31.382020Z"
    },
    "papermill": {
     "duration": 0.050041,
     "end_time": "2020-12-09T20:04:31.382655",
     "exception": false,
     "start_time": "2020-12-09T20:04:31.332614",
     "status": "completed"
    },
    "tags": []
   },
   "outputs": [
    {
     "data": {
      "text/plain": [
       "((60000, 28, 28), (60000,))"
      ]
     },
     "execution_count": 5,
     "metadata": {},
     "output_type": "execute_result"
    }
   ],
   "source": [
    "train_images.shape, train_labels.shape"
   ]
  },
  {
   "cell_type": "code",
   "execution_count": 6,
   "metadata": {
    "execution": {
     "iopub.execute_input": "2020-12-09T20:04:31.442205Z",
     "iopub.status.busy": "2020-12-09T20:04:31.441316Z",
     "iopub.status.idle": "2020-12-09T20:04:32.805973Z",
     "shell.execute_reply": "2020-12-09T20:04:32.806548Z"
    },
    "papermill": {
     "duration": 1.396828,
     "end_time": "2020-12-09T20:04:32.806738",
     "exception": false,
     "start_time": "2020-12-09T20:04:31.409910",
     "status": "completed"
    },
    "tags": []
   },
   "outputs": [],
   "source": [
    "test_images = mnist.test_images()\n",
    "test_labels = mnist.test_labels()"
   ]
  },
  {
   "cell_type": "code",
   "execution_count": 7,
   "metadata": {
    "execution": {
     "iopub.execute_input": "2020-12-09T20:04:32.873150Z",
     "iopub.status.busy": "2020-12-09T20:04:32.872580Z",
     "iopub.status.idle": "2020-12-09T20:04:32.882038Z",
     "shell.execute_reply": "2020-12-09T20:04:32.881497Z"
    },
    "papermill": {
     "duration": 0.046784,
     "end_time": "2020-12-09T20:04:32.882173",
     "exception": false,
     "start_time": "2020-12-09T20:04:32.835389",
     "status": "completed"
    },
    "tags": []
   },
   "outputs": [
    {
     "data": {
      "text/plain": [
       "((10000, 28, 28), (10000,))"
      ]
     },
     "execution_count": 7,
     "metadata": {},
     "output_type": "execute_result"
    }
   ],
   "source": [
    "test_images.shape, test_labels.shape"
   ]
  },
  {
   "cell_type": "code",
   "execution_count": 8,
   "metadata": {
    "execution": {
     "iopub.execute_input": "2020-12-09T20:04:33.447730Z",
     "iopub.status.busy": "2020-12-09T20:04:33.447120Z",
     "iopub.status.idle": "2020-12-09T20:04:33.596190Z",
     "shell.execute_reply": "2020-12-09T20:04:33.595672Z"
    },
    "papermill": {
     "duration": 0.197862,
     "end_time": "2020-12-09T20:04:33.596327",
     "exception": false,
     "start_time": "2020-12-09T20:04:33.398465",
     "status": "completed"
    },
    "tags": []
   },
   "outputs": [
    {
     "name": "stdout",
     "output_type": "stream",
     "text": [
      "2\n"
     ]
    },
    {
     "data": {
      "text/plain": [
       "<matplotlib.image.AxesImage at 0x7f3b57f0c320>"
      ]
     },
     "execution_count": 8,
     "metadata": {},
     "output_type": "execute_result"
    },
    {
     "data": {
      "image/png": "[encoded data removed]",
      "text/plain": [
       "<Figure size 432x288 with 1 Axes>"
      ]
     },
     "metadata": {
      "needs_background": "light"
     },
     "output_type": "display_data"
    }
   ],
   "source": [
    "image_index = 7776 # You may select anything up to 60,000\n",
    "print(train_labels[image_index]) \n",
    "plt.imshow(train_images[image_index], cmap='Greys')"
   ]
  },
  {
   "cell_type": "markdown",
   "metadata": {
    "papermill": {
     "duration": 0.028258,
     "end_time": "2020-12-09T20:04:33.653153",
     "exception": false,
     "start_time": "2020-12-09T20:04:33.624895",
     "status": "completed"
    },
    "tags": []
   },
   "source": [
    "## Filter data to get 3 and 8 out"
   ]
  },
  {
   "cell_type": "code",
   "execution_count": 9,
   "metadata": {
    "execution": {
     "iopub.execute_input": "2020-12-09T20:04:33.715735Z",
     "iopub.status.busy": "2020-12-09T20:04:33.715140Z",
     "iopub.status.idle": "2020-12-09T20:04:33.735223Z",
     "shell.execute_reply": "2020-12-09T20:04:33.734543Z"
    },
    "papermill": {
     "duration": 0.053814,
     "end_time": "2020-12-09T20:04:33.735391",
     "exception": false,
     "start_time": "2020-12-09T20:04:33.681577",
     "status": "completed"
    },
    "tags": []
   },
   "outputs": [],
   "source": [
    "train_filter = np.where((train_labels == 3 ) | (train_labels == 8))\n",
    "test_filter = np.where((test_labels == 3) | (test_labels == 8))\n",
    "X_train, y_train = train_images[train_filter], train_labels[train_filter]\n",
    "X_test, y_test = test_images[test_filter], test_labels[test_filter]"
   ]
  },
  {
   "cell_type": "markdown",
   "metadata": {
    "papermill": {
     "duration": 0.028323,
     "end_time": "2020-12-09T20:04:33.793830",
     "exception": false,
     "start_time": "2020-12-09T20:04:33.765507",
     "status": "completed"
    },
    "tags": []
   },
   "source": [
    "We normalize the pixel values in the 0 to 1 range"
   ]
  },
  {
   "cell_type": "code",
   "execution_count": 10,
   "metadata": {
    "execution": {
     "iopub.execute_input": "2020-12-09T20:04:33.856269Z",
     "iopub.status.busy": "2020-12-09T20:04:33.855698Z",
     "iopub.status.idle": "2020-12-09T20:04:33.908467Z",
     "shell.execute_reply": "2020-12-09T20:04:33.907620Z"
    },
    "papermill": {
     "duration": 0.08695,
     "end_time": "2020-12-09T20:04:33.908686",
     "exception": false,
     "start_time": "2020-12-09T20:04:33.821736",
     "status": "completed"
    },
    "tags": []
   },
   "outputs": [],
   "source": [
    "X_train = X_train/255.\n",
    "X_test = X_test/255."
   ]
  },
  {
   "cell_type": "markdown",
   "metadata": {
    "papermill": {
     "duration": 0.028332,
     "end_time": "2020-12-09T20:04:33.967540",
     "exception": false,
     "start_time": "2020-12-09T20:04:33.939208",
     "status": "completed"
    },
    "tags": []
   },
   "source": [
    "Setup the labels as 1 (when the digit is 3) and 0 (when the digit is 8)"
   ]
  },
  {
   "cell_type": "code",
   "execution_count": 11,
   "metadata": {
    "execution": {
     "iopub.execute_input": "2020-12-09T20:04:34.028523Z",
     "iopub.status.busy": "2020-12-09T20:04:34.027936Z",
     "iopub.status.idle": "2020-12-09T20:04:34.043317Z",
     "shell.execute_reply": "2020-12-09T20:04:34.043823Z"
    },
    "papermill": {
     "duration": 0.047976,
     "end_time": "2020-12-09T20:04:34.043973",
     "exception": false,
     "start_time": "2020-12-09T20:04:33.995997",
     "status": "completed"
    },
    "tags": []
   },
   "outputs": [],
   "source": [
    "y_train = 1*(y_train==3)\n",
    "y_test = 1*(y_test==3)"
   ]
  },
  {
   "cell_type": "code",
   "execution_count": 12,
   "metadata": {
    "execution": {
     "iopub.execute_input": "2020-12-09T20:04:34.105549Z",
     "iopub.status.busy": "2020-12-09T20:04:34.104958Z",
     "iopub.status.idle": "2020-12-09T20:04:34.119532Z",
     "shell.execute_reply": "2020-12-09T20:04:34.120004Z"
    },
    "papermill": {
     "duration": 0.047387,
     "end_time": "2020-12-09T20:04:34.120151",
     "exception": false,
     "start_time": "2020-12-09T20:04:34.072764",
     "status": "completed"
    },
    "tags": []
   },
   "outputs": [
    {
     "data": {
      "text/plain": [
       "((11982, 28, 28), (1984, 28, 28))"
      ]
     },
     "execution_count": 12,
     "metadata": {},
     "output_type": "execute_result"
    }
   ],
   "source": [
    "X_train.shape, X_test.shape"
   ]
  },
  {
   "cell_type": "markdown",
   "metadata": {
    "papermill": {
     "duration": 0.028757,
     "end_time": "2020-12-09T20:04:34.177650",
     "exception": false,
     "start_time": "2020-12-09T20:04:34.148893",
     "status": "completed"
    },
    "tags": []
   },
   "source": [
    "### Reshape the input data to create a linear array"
   ]
  },
  {
   "cell_type": "code",
   "execution_count": 13,
   "metadata": {
    "execution": {
     "iopub.execute_input": "2020-12-09T20:04:34.240327Z",
     "iopub.status.busy": "2020-12-09T20:04:34.239742Z",
     "iopub.status.idle": "2020-12-09T20:04:34.254179Z",
     "shell.execute_reply": "2020-12-09T20:04:34.253679Z"
    },
    "papermill": {
     "duration": 0.047722,
     "end_time": "2020-12-09T20:04:34.254317",
     "exception": false,
     "start_time": "2020-12-09T20:04:34.206595",
     "status": "completed"
    },
    "tags": []
   },
   "outputs": [
    {
     "data": {
      "text/plain": [
       "((11982, 784), (1984, 784))"
      ]
     },
     "execution_count": 13,
     "metadata": {},
     "output_type": "execute_result"
    }
   ],
   "source": [
    "X_train = X_train.reshape(X_train.shape[0], -1)\n",
    "X_test = X_test.reshape(X_test.shape[0], -1)\n",
    "X_train.shape, X_test.shape"
   ]
  },
  {
   "cell_type": "markdown",
   "metadata": {
    "papermill": {
     "duration": 0.029819,
     "end_time": "2020-12-09T20:04:34.313066",
     "exception": false,
     "start_time": "2020-12-09T20:04:34.283247",
     "status": "completed"
    },
    "tags": []
   },
   "source": [
    "### Importing appropriate functions from 'Kudzu'"
   ]
  },
  {
   "cell_type": "code",
   "execution_count": 14,
   "metadata": {
    "execution": {
     "iopub.execute_input": "2020-12-09T20:04:34.375849Z",
     "iopub.status.busy": "2020-12-09T20:04:34.375259Z",
     "iopub.status.idle": "2020-12-09T20:04:34.396585Z",
     "shell.execute_reply": "2020-12-09T20:04:34.396122Z"
    },
    "papermill": {
     "duration": 0.0545,
     "end_time": "2020-12-09T20:04:34.396690",
     "exception": false,
     "start_time": "2020-12-09T20:04:34.342190",
     "status": "completed"
    },
    "tags": []
   },
   "outputs": [],
   "source": [
    "from kudzu.layer import Sigmoid\n",
    "from kudzu.layer import Relu\n",
    "from kudzu.layer import Affine, Sigmoid\n",
    "\n",
    "from kudzu.model import Model\n",
    "from kudzu.train import Learner\n",
    "from kudzu.optim import GD\n",
    "from kudzu.data import Data, Dataloader, Sampler\n",
    "\n",
    "from kudzu.callbacks import AccCallback\n",
    "from kudzu.callbacks import ClfCallback\n",
    "\n",
    "from kudzu.loss import MSE"
   ]
  },
  {
   "cell_type": "markdown",
   "metadata": {
    "papermill": {
     "duration": 0.028554,
     "end_time": "2020-12-09T20:04:34.454140",
     "exception": false,
     "start_time": "2020-12-09T20:04:34.425586",
     "status": "completed"
    },
    "tags": []
   },
   "source": [
    "### Let us create a `Config` class, to store important parameters. \n",
    "This class essentially plays the role of a dictionary."
   ]
  },
  {
   "cell_type": "code",
   "execution_count": 15,
   "metadata": {
    "execution": {
     "iopub.execute_input": "2020-12-09T20:04:34.516917Z",
     "iopub.status.busy": "2020-12-09T20:04:34.516319Z",
     "iopub.status.idle": "2020-12-09T20:04:34.529498Z",
     "shell.execute_reply": "2020-12-09T20:04:34.529016Z"
    },
    "papermill": {
     "duration": 0.046031,
     "end_time": "2020-12-09T20:04:34.529631",
     "exception": false,
     "start_time": "2020-12-09T20:04:34.483600",
     "status": "completed"
    },
    "tags": []
   },
   "outputs": [],
   "source": [
    "class Config:\n",
    "    pass\n",
    "config = Config()\n",
    "config.lr = 0.001\n",
    "config.num_epochs = 251\n",
    "config.bs = 50"
   ]
  },
  {
   "cell_type": "markdown",
   "metadata": {
    "papermill": {
     "duration": 0.029296,
     "end_time": "2020-12-09T20:04:34.588179",
     "exception": false,
     "start_time": "2020-12-09T20:04:34.558883",
     "status": "completed"
    },
    "tags": []
   },
   "source": [
    "### Initializing data to the variables"
   ]
  },
  {
   "cell_type": "code",
   "execution_count": 16,
   "metadata": {
    "execution": {
     "iopub.execute_input": "2020-12-09T20:04:34.652634Z",
     "iopub.status.busy": "2020-12-09T20:04:34.652032Z",
     "iopub.status.idle": "2020-12-09T20:04:34.666295Z",
     "shell.execute_reply": "2020-12-09T20:04:34.665809Z"
    },
    "papermill": {
     "duration": 0.049037,
     "end_time": "2020-12-09T20:04:34.666426",
     "exception": false,
     "start_time": "2020-12-09T20:04:34.617389",
     "status": "completed"
    },
    "tags": []
   },
   "outputs": [],
   "source": [
    "data = Data(X_train, y_train.reshape(-1,1))\n",
    "sampler = Sampler(data, config.bs, shuffle=True)\n",
    "\n",
    "dl = Dataloader(data, sampler)\n",
    "\n",
    "opt = GD(config.lr)\n",
    "loss = MSE()"
   ]
  },
  {
   "cell_type": "code",
   "execution_count": 17,
   "metadata": {
    "execution": {
     "iopub.execute_input": "2020-12-09T20:04:34.731961Z",
     "iopub.status.busy": "2020-12-09T20:04:34.731379Z",
     "iopub.status.idle": "2020-12-09T20:04:34.745734Z",
     "shell.execute_reply": "2020-12-09T20:04:34.746211Z"
    },
    "papermill": {
     "duration": 0.050833,
     "end_time": "2020-12-09T20:04:34.746368",
     "exception": false,
     "start_time": "2020-12-09T20:04:34.695535",
     "status": "completed"
    },
    "tags": []
   },
   "outputs": [],
   "source": [
    "training_xdata = X_train\n",
    "testing_xdata = X_test\n",
    "training_ydata = y_train.reshape(-1,1)\n",
    "testing_ydata = y_test.reshape(-1,1)"
   ]
  },
  {
   "cell_type": "markdown",
   "metadata": {
    "papermill": {
     "duration": 0.029083,
     "end_time": "2020-12-09T20:04:34.805019",
     "exception": false,
     "start_time": "2020-12-09T20:04:34.775936",
     "status": "completed"
    },
    "tags": []
   },
   "source": [
    "### Running Models with the Training data\n",
    "Details about the network layers:\n",
    "- A first affine layer has 784 inputs and does 100 affine transforms. These are followed by a Relu\n",
    "- A second affine layer has 100 inputs from the 100 activations of the past layer, and does 100 affine transforms. These are followed by a Relu\n",
    "- A third affine layer has 100 activations and does 2 affine transformations to create an embedding for visualization. There is no non-linearity here.\n",
    "- A final \"logistic regression\" which has an affine transform from 2 inputs to 1 output, which is squeezed through a sigmoid.\n",
    "\n",
    "Help taken from Anshuman's Notebook."
   ]
  },
  {
   "cell_type": "code",
   "execution_count": 18,
   "metadata": {
    "execution": {
     "iopub.execute_input": "2020-12-09T20:04:34.871171Z",
     "iopub.status.busy": "2020-12-09T20:04:34.870565Z",
     "iopub.status.idle": "2020-12-09T20:04:34.887578Z",
     "shell.execute_reply": "2020-12-09T20:04:34.887076Z"
    },
    "papermill": {
     "duration": 0.053926,
     "end_time": "2020-12-09T20:04:34.887709",
     "exception": false,
     "start_time": "2020-12-09T20:04:34.833783",
     "status": "completed"
    },
    "tags": []
   },
   "outputs": [],
   "source": [
    "# layers for the Neural Network\n",
    "layers = [Affine(\"first\", 784, 100), Relu(\"first\"), Affine(\"second\", 100, 100), Relu(\"second\"), Affine(\"third\", 100, 2), Affine(\"final\", 2, 1), Sigmoid(\"final\")]\n",
    "model_nn = Model(layers)\n",
    "\n",
    "# layers for the Logistic Regression\n",
    "layers_lr = [Affine(\"logits\", 784, 1), Sigmoid(\"sigmoid\")]\n",
    "model_lr = Model(layers_lr)"
   ]
  },
  {
   "cell_type": "code",
   "execution_count": 19,
   "metadata": {
    "execution": {
     "iopub.execute_input": "2020-12-09T20:04:34.950518Z",
     "iopub.status.busy": "2020-12-09T20:04:34.949939Z",
     "iopub.status.idle": "2020-12-09T20:04:34.962701Z",
     "shell.execute_reply": "2020-12-09T20:04:34.962219Z"
    },
    "papermill": {
     "duration": 0.045875,
     "end_time": "2020-12-09T20:04:34.962836",
     "exception": false,
     "start_time": "2020-12-09T20:04:34.916961",
     "status": "completed"
    },
    "tags": []
   },
   "outputs": [],
   "source": [
    "# suffix _nn stands for Neural Network.\n",
    "learner_nn = Learner(loss, model_nn, opt, config.num_epochs)\n",
    "acc_nn = ClfCallback(learner_nn, config.bs, training_xdata , testing_xdata, training_ydata, testing_ydata)\n",
    "learner_nn.set_callbacks([acc_nn])"
   ]
  },
  {
   "cell_type": "code",
   "execution_count": 20,
   "metadata": {
    "execution": {
     "iopub.execute_input": "2020-12-09T20:04:35.025084Z",
     "iopub.status.busy": "2020-12-09T20:04:35.024501Z",
     "iopub.status.idle": "2020-12-09T20:06:02.408699Z",
     "shell.execute_reply": "2020-12-09T20:06:02.408186Z"
    },
    "papermill": {
     "duration": 87.417204,
     "end_time": "2020-12-09T20:06:02.408835",
     "exception": false,
     "start_time": "2020-12-09T20:04:34.991631",
     "status": "completed"
    },
    "tags": []
   },
   "outputs": [
    {
     "name": "stdout",
     "output_type": "stream",
     "text": [
      "====== Neural Network ======\n"
     ]
    },
    {
     "name": "stdout",
     "output_type": "stream",
     "text": [
      "Epoch 0, Loss 0.2474\n",
      "Training Accuracy: 0.5730, Testing Accuracy: 0.5696\n",
      "\n"
     ]
    },
    {
     "name": "stdout",
     "output_type": "stream",
     "text": [
      "Epoch 10, Loss 0.2342\n",
      "Training Accuracy: 0.7735, Testing Accuracy: 0.7611\n",
      "\n"
     ]
    },
    {
     "name": "stdout",
     "output_type": "stream",
     "text": [
      "Epoch 20, Loss 0.1698\n",
      "Training Accuracy: 0.8947, Testing Accuracy: 0.8962\n",
      "\n"
     ]
    },
    {
     "name": "stdout",
     "output_type": "stream",
     "text": [
      "Epoch 30, Loss 0.0822\n",
      "Training Accuracy: 0.9268, Testing Accuracy: 0.9370\n",
      "\n"
     ]
    },
    {
     "name": "stdout",
     "output_type": "stream",
     "text": [
      "Epoch 40, Loss 0.0556\n",
      "Training Accuracy: 0.9413, Testing Accuracy: 0.9516\n",
      "\n"
     ]
    },
    {
     "name": "stdout",
     "output_type": "stream",
     "text": [
      "Epoch 50, Loss 0.045\n",
      "Training Accuracy: 0.9512, Testing Accuracy: 0.9592\n",
      "\n"
     ]
    },
    {
     "name": "stdout",
     "output_type": "stream",
     "text": [
      "Epoch 60, Loss 0.0393\n",
      "Training Accuracy: 0.9561, Testing Accuracy: 0.9617\n",
      "\n"
     ]
    },
    {
     "name": "stdout",
     "output_type": "stream",
     "text": [
      "Epoch 70, Loss 0.0357\n",
      "Training Accuracy: 0.9599, Testing Accuracy: 0.9657\n",
      "\n"
     ]
    },
    {
     "name": "stdout",
     "output_type": "stream",
     "text": [
      "Epoch 80, Loss 0.0332\n",
      "Training Accuracy: 0.9620, Testing Accuracy: 0.9662\n",
      "\n"
     ]
    },
    {
     "name": "stdout",
     "output_type": "stream",
     "text": [
      "Epoch 90, Loss 0.0312\n",
      "Training Accuracy: 0.9637, Testing Accuracy: 0.9657\n",
      "\n"
     ]
    },
    {
     "name": "stdout",
     "output_type": "stream",
     "text": [
      "Epoch 100, Loss 0.0297\n",
      "Training Accuracy: 0.9647, Testing Accuracy: 0.9667\n",
      "\n"
     ]
    },
    {
     "name": "stdout",
     "output_type": "stream",
     "text": [
      "Epoch 110, Loss 0.0285\n",
      "Training Accuracy: 0.9666, Testing Accuracy: 0.9672\n",
      "\n"
     ]
    },
    {
     "name": "stdout",
     "output_type": "stream",
     "text": [
      "Epoch 120, Loss 0.0274\n",
      "Training Accuracy: 0.9680, Testing Accuracy: 0.9682\n",
      "\n"
     ]
    },
    {
     "name": "stdout",
     "output_type": "stream",
     "text": [
      "Epoch 130, Loss 0.0265\n",
      "Training Accuracy: 0.9691, Testing Accuracy: 0.9682\n",
      "\n"
     ]
    },
    {
     "name": "stdout",
     "output_type": "stream",
     "text": [
      "Epoch 140, Loss 0.0257\n",
      "Training Accuracy: 0.9701, Testing Accuracy: 0.9693\n",
      "\n"
     ]
    },
    {
     "name": "stdout",
     "output_type": "stream",
     "text": [
      "Epoch 150, Loss 0.025\n",
      "Training Accuracy: 0.9713, Testing Accuracy: 0.9693\n",
      "\n"
     ]
    },
    {
     "name": "stdout",
     "output_type": "stream",
     "text": [
      "Epoch 160, Loss 0.0243\n",
      "Training Accuracy: 0.9720, Testing Accuracy: 0.9698\n",
      "\n"
     ]
    },
    {
     "name": "stdout",
     "output_type": "stream",
     "text": [
      "Epoch 170, Loss 0.0237\n",
      "Training Accuracy: 0.9725, Testing Accuracy: 0.9703\n",
      "\n"
     ]
    },
    {
     "name": "stdout",
     "output_type": "stream",
     "text": [
      "Epoch 180, Loss 0.0232\n",
      "Training Accuracy: 0.9733, Testing Accuracy: 0.9708\n",
      "\n"
     ]
    },
    {
     "name": "stdout",
     "output_type": "stream",
     "text": [
      "Epoch 190, Loss 0.0226\n",
      "Training Accuracy: 0.9737, Testing Accuracy: 0.9713\n",
      "\n"
     ]
    },
    {
     "name": "stdout",
     "output_type": "stream",
     "text": [
      "Epoch 200, Loss 0.0222\n",
      "Training Accuracy: 0.9742, Testing Accuracy: 0.9723\n",
      "\n"
     ]
    },
    {
     "name": "stdout",
     "output_type": "stream",
     "text": [
      "Epoch 210, Loss 0.0217\n",
      "Training Accuracy: 0.9747, Testing Accuracy: 0.9723\n",
      "\n"
     ]
    },
    {
     "name": "stdout",
     "output_type": "stream",
     "text": [
      "Epoch 220, Loss 0.0213\n",
      "Training Accuracy: 0.9755, Testing Accuracy: 0.9728\n",
      "\n"
     ]
    },
    {
     "name": "stdout",
     "output_type": "stream",
     "text": [
      "Epoch 230, Loss 0.0209\n",
      "Training Accuracy: 0.9760, Testing Accuracy: 0.9738\n",
      "\n"
     ]
    },
    {
     "name": "stdout",
     "output_type": "stream",
     "text": [
      "Epoch 240, Loss 0.0205\n",
      "Training Accuracy: 0.9765, Testing Accuracy: 0.9733\n",
      "\n"
     ]
    },
    {
     "name": "stdout",
     "output_type": "stream",
     "text": [
      "Epoch 250, Loss 0.0201\n",
      "Training Accuracy: 0.9769, Testing Accuracy: 0.9733\n",
      "\n"
     ]
    },
    {
     "data": {
      "text/plain": [
       "0.026367807569772375"
      ]
     },
     "execution_count": 20,
     "metadata": {},
     "output_type": "execute_result"
    }
   ],
   "source": [
    "print(\"====== Neural Network ======\")\n",
    "learner_nn.train_loop(dl)"
   ]
  },
  {
   "cell_type": "markdown",
   "metadata": {
    "papermill": {
     "duration": 0.03726,
     "end_time": "2020-12-09T20:06:02.483607",
     "exception": false,
     "start_time": "2020-12-09T20:06:02.446347",
     "status": "completed"
    },
    "tags": []
   },
   "source": [
    "### Logistic Regression based Implementation."
   ]
  },
  {
   "cell_type": "code",
   "execution_count": 21,
   "metadata": {
    "execution": {
     "iopub.execute_input": "2020-12-09T20:06:02.566025Z",
     "iopub.status.busy": "2020-12-09T20:06:02.565370Z",
     "iopub.status.idle": "2020-12-09T20:06:02.577323Z",
     "shell.execute_reply": "2020-12-09T20:06:02.576834Z"
    },
    "papermill": {
     "duration": 0.056826,
     "end_time": "2020-12-09T20:06:02.577461",
     "exception": false,
     "start_time": "2020-12-09T20:06:02.520635",
     "status": "completed"
    },
    "tags": []
   },
   "outputs": [],
   "source": [
    "learner_lr = Learner(loss, model_lr, opt, config.num_epochs)\n",
    "acc_lr = ClfCallback(learner_lr, config.bs, training_xdata , testing_xdata, training_ydata, testing_ydata)\n",
    "learner_lr.set_callbacks([acc_lr])"
   ]
  },
  {
   "cell_type": "code",
   "execution_count": 22,
   "metadata": {
    "execution": {
     "iopub.execute_input": "2020-12-09T20:06:02.663058Z",
     "iopub.status.busy": "2020-12-09T20:06:02.661524Z",
     "iopub.status.idle": "2020-12-09T20:06:18.096683Z",
     "shell.execute_reply": "2020-12-09T20:06:18.097438Z"
    },
    "papermill": {
     "duration": 15.482367,
     "end_time": "2020-12-09T20:06:18.097578",
     "exception": false,
     "start_time": "2020-12-09T20:06:02.615211",
     "status": "completed"
    },
    "tags": []
   },
   "outputs": [
    {
     "name": "stdout",
     "output_type": "stream",
     "text": [
      "====== Logistic Regression ======\n",
      "Epoch 0, Loss 0.2426\n",
      "Training Accuracy: 0.6929, Testing Accuracy: 0.7188\n",
      "\n"
     ]
    },
    {
     "name": "stdout",
     "output_type": "stream",
     "text": [
      "Epoch 10, Loss 0.1037\n",
      "Training Accuracy: 0.9082, Testing Accuracy: 0.9214\n",
      "\n"
     ]
    },
    {
     "name": "stdout",
     "output_type": "stream",
     "text": [
      "Epoch 20, Loss 0.0795\n",
      "Training Accuracy: 0.9282, Testing Accuracy: 0.9410\n",
      "\n"
     ]
    },
    {
     "name": "stdout",
     "output_type": "stream",
     "text": [
      "Epoch 30, Loss 0.0683\n",
      "Training Accuracy: 0.9366, Testing Accuracy: 0.9526\n",
      "\n"
     ]
    },
    {
     "name": "stdout",
     "output_type": "stream",
     "text": [
      "Epoch 40, Loss 0.0615\n",
      "Training Accuracy: 0.9418, Testing Accuracy: 0.9536\n",
      "\n"
     ]
    },
    {
     "name": "stdout",
     "output_type": "stream",
     "text": [
      "Epoch 50, Loss 0.057\n",
      "Training Accuracy: 0.9465, Testing Accuracy: 0.9567\n",
      "\n"
     ]
    },
    {
     "name": "stdout",
     "output_type": "stream",
     "text": [
      "Epoch 60, Loss 0.0536\n",
      "Training Accuracy: 0.9487, Testing Accuracy: 0.9577\n",
      "\n"
     ]
    },
    {
     "name": "stdout",
     "output_type": "stream",
     "text": [
      "Epoch 70, Loss 0.0511\n",
      "Training Accuracy: 0.9506, Testing Accuracy: 0.9597\n",
      "\n"
     ]
    },
    {
     "name": "stdout",
     "output_type": "stream",
     "text": [
      "Epoch 80, Loss 0.049\n",
      "Training Accuracy: 0.9518, Testing Accuracy: 0.9617\n",
      "\n"
     ]
    },
    {
     "name": "stdout",
     "output_type": "stream",
     "text": [
      "Epoch 90, Loss 0.0473\n",
      "Training Accuracy: 0.9533, Testing Accuracy: 0.9622\n",
      "\n"
     ]
    },
    {
     "name": "stdout",
     "output_type": "stream",
     "text": [
      "Epoch 100, Loss 0.0459\n",
      "Training Accuracy: 0.9543, Testing Accuracy: 0.9627\n",
      "\n"
     ]
    },
    {
     "name": "stdout",
     "output_type": "stream",
     "text": [
      "Epoch 110, Loss 0.0447\n",
      "Training Accuracy: 0.9552, Testing Accuracy: 0.9632\n",
      "\n"
     ]
    },
    {
     "name": "stdout",
     "output_type": "stream",
     "text": [
      "Epoch 120, Loss 0.0436\n",
      "Training Accuracy: 0.9559, Testing Accuracy: 0.9622\n",
      "\n"
     ]
    },
    {
     "name": "stdout",
     "output_type": "stream",
     "text": [
      "Epoch 130, Loss 0.0427\n",
      "Training Accuracy: 0.9562, Testing Accuracy: 0.9637\n",
      "\n"
     ]
    },
    {
     "name": "stdout",
     "output_type": "stream",
     "text": [
      "Epoch 140, Loss 0.0419\n",
      "Training Accuracy: 0.9566, Testing Accuracy: 0.9642\n",
      "\n"
     ]
    },
    {
     "name": "stdout",
     "output_type": "stream",
     "text": [
      "Epoch 150, Loss 0.0411\n",
      "Training Accuracy: 0.9574, Testing Accuracy: 0.9637\n",
      "\n"
     ]
    },
    {
     "name": "stdout",
     "output_type": "stream",
     "text": [
      "Epoch 160, Loss 0.0405\n",
      "Training Accuracy: 0.9575, Testing Accuracy: 0.9647\n",
      "\n"
     ]
    },
    {
     "name": "stdout",
     "output_type": "stream",
     "text": [
      "Epoch 170, Loss 0.0399\n",
      "Training Accuracy: 0.9579, Testing Accuracy: 0.9652\n",
      "\n"
     ]
    },
    {
     "name": "stdout",
     "output_type": "stream",
     "text": [
      "Epoch 180, Loss 0.0393\n",
      "Training Accuracy: 0.9584, Testing Accuracy: 0.9652\n",
      "\n"
     ]
    },
    {
     "name": "stdout",
     "output_type": "stream",
     "text": [
      "Epoch 190, Loss 0.0388\n",
      "Training Accuracy: 0.9589, Testing Accuracy: 0.9652\n",
      "\n"
     ]
    },
    {
     "name": "stdout",
     "output_type": "stream",
     "text": [
      "Epoch 200, Loss 0.0383\n",
      "Training Accuracy: 0.9595, Testing Accuracy: 0.9652\n",
      "\n"
     ]
    },
    {
     "name": "stdout",
     "output_type": "stream",
     "text": [
      "Epoch 210, Loss 0.0379\n",
      "Training Accuracy: 0.9599, Testing Accuracy: 0.9652\n",
      "\n"
     ]
    },
    {
     "name": "stdout",
     "output_type": "stream",
     "text": [
      "Epoch 220, Loss 0.0375\n",
      "Training Accuracy: 0.9601, Testing Accuracy: 0.9652\n",
      "\n"
     ]
    },
    {
     "name": "stdout",
     "output_type": "stream",
     "text": [
      "Epoch 230, Loss 0.0371\n",
      "Training Accuracy: 0.9604, Testing Accuracy: 0.9657\n",
      "\n"
     ]
    },
    {
     "name": "stdout",
     "output_type": "stream",
     "text": [
      "Epoch 240, Loss 0.0368\n",
      "Training Accuracy: 0.9604, Testing Accuracy: 0.9657\n",
      "\n"
     ]
    },
    {
     "name": "stdout",
     "output_type": "stream",
     "text": [
      "Epoch 250, Loss 0.0364\n",
      "Training Accuracy: 0.9609, Testing Accuracy: 0.9662\n",
      "\n"
     ]
    },
    {
     "data": {
      "text/plain": [
       "0.05282029296234951"
      ]
     },
     "execution_count": 22,
     "metadata": {},
     "output_type": "execute_result"
    }
   ],
   "source": [
    "print(\"====== Logistic Regression ======\")\n",
    "learner_lr.train_loop(dl)"
   ]
  },
  {
   "cell_type": "markdown",
   "metadata": {
    "papermill": {
     "duration": 0.044716,
     "end_time": "2020-12-09T20:06:18.187853",
     "exception": false,
     "start_time": "2020-12-09T20:06:18.143137",
     "status": "completed"
    },
    "tags": []
   },
   "source": [
    "### Comparing results of NN and LR"
   ]
  },
  {
   "cell_type": "code",
   "execution_count": 23,
   "metadata": {
    "execution": {
     "iopub.execute_input": "2020-12-09T20:06:18.283242Z",
     "iopub.status.busy": "2020-12-09T20:06:18.282192Z",
     "iopub.status.idle": "2020-12-09T20:06:18.524600Z",
     "shell.execute_reply": "2020-12-09T20:06:18.525096Z"
    },
    "papermill": {
     "duration": 0.293303,
     "end_time": "2020-12-09T20:06:18.525254",
     "exception": false,
     "start_time": "2020-12-09T20:06:18.231951",
     "status": "completed"
    },
    "tags": []
   },
   "outputs": [
    {
     "data": {
      "text/plain": [
       "<matplotlib.legend.Legend at 0x7f3b51333c50>"
      ]
     },
     "execution_count": 23,
     "metadata": {},
     "output_type": "execute_result"
    },
    {
     "data": {
      "image/png": "[encoded data removed]",
      "text/plain": [
       "<Figure size 1080x720 with 1 Axes>"
      ]
     },
     "metadata": {
      "needs_background": "light"
     },
     "output_type": "display_data"
    }
   ],
   "source": [
    "plt.figure(figsize=(15,10))\n",
    "\n",
    "# Neural Network plots\n",
    "plt.plot(acc_nn.accuracies, 'r-', label = \"Training Accuracies - NN\")\n",
    "plt.plot(acc_nn.test_accuracies, 'g-', label = \"Testing Accuracies - NN\")\n",
    "\n",
    "# Logistic Regression plots\n",
    "plt.plot(acc_lr.accuracies, 'k-', label = \"Training Accuracies - LR\")\n",
    "plt.plot(acc_lr.test_accuracies, 'b-', label = \"Testing Accuracies - LR\")\n",
    "\n",
    "plt.ylim(0.8, 1)\n",
    "\n",
    "plt.legend()\n",
    "\n"
   ]
  },
  {
   "cell_type": "markdown",
   "metadata": {
    "papermill": {
     "duration": 0.046777,
     "end_time": "2020-12-09T20:06:18.620246",
     "exception": false,
     "start_time": "2020-12-09T20:06:18.573469",
     "status": "completed"
    },
    "tags": []
   },
   "source": [
    "### From the plot, we can observe the following:\n",
    "- Neural Network achieves higher accuracy than the Logistic Regression model.\n",
    "- This apparently, is because of overfitting, i.e. NN captures more noise than data.\n",
    "- Testing accuracy of NN drops below the Training accuracy at higher epochs. This explains the over-fitting on training data.\n",
    "- Logistic Regression gives a reliable accuracy, without the above mentioned problem.\n"
   ]
  },
  {
   "cell_type": "markdown",
   "metadata": {
    "papermill": {
     "duration": 0.046601,
     "end_time": "2020-12-09T20:06:18.713471",
     "exception": false,
     "start_time": "2020-12-09T20:06:18.666870",
     "status": "completed"
    },
    "tags": []
   },
   "source": [
    "### Moving till the last but one layer (excluding it).\n",
    "#### Plotting the outputs of this layer of the NN."
   ]
  },
  {
   "cell_type": "code",
   "execution_count": 24,
   "metadata": {
    "execution": {
     "iopub.execute_input": "2020-12-09T20:06:18.810387Z",
     "iopub.status.busy": "2020-12-09T20:06:18.809756Z",
     "iopub.status.idle": "2020-12-09T20:06:18.822722Z",
     "shell.execute_reply": "2020-12-09T20:06:18.822212Z"
    },
    "papermill": {
     "duration": 0.062584,
     "end_time": "2020-12-09T20:06:18.822853",
     "exception": false,
     "start_time": "2020-12-09T20:06:18.760269",
     "status": "completed"
    },
    "tags": []
   },
   "outputs": [],
   "source": [
    "model_new = Model(layers[:-2])"
   ]
  },
  {
   "cell_type": "code",
   "execution_count": 25,
   "metadata": {
    "execution": {
     "iopub.execute_input": "2020-12-09T20:06:18.920639Z",
     "iopub.status.busy": "2020-12-09T20:06:18.920054Z",
     "iopub.status.idle": "2020-12-09T20:06:18.940064Z",
     "shell.execute_reply": "2020-12-09T20:06:18.940858Z"
    },
    "papermill": {
     "duration": 0.071425,
     "end_time": "2020-12-09T20:06:18.941025",
     "exception": false,
     "start_time": "2020-12-09T20:06:18.869600",
     "status": "completed"
    },
    "tags": []
   },
   "outputs": [],
   "source": [
    "plot_testing = model_new(testing_xdata)"
   ]
  },
  {
   "cell_type": "code",
   "execution_count": 26,
   "metadata": {
    "execution": {
     "iopub.execute_input": "2020-12-09T20:06:19.051835Z",
     "iopub.status.busy": "2020-12-09T20:06:19.051203Z",
     "iopub.status.idle": "2020-12-09T20:06:19.259787Z",
     "shell.execute_reply": "2020-12-09T20:06:19.259248Z"
    },
    "papermill": {
     "duration": 0.269155,
     "end_time": "2020-12-09T20:06:19.259925",
     "exception": false,
     "start_time": "2020-12-09T20:06:18.990770",
     "status": "completed"
    },
    "tags": []
   },
   "outputs": [
    {
     "data": {
      "text/plain": [
       "Text(0.5, 1.0, 'Outputs')"
      ]
     },
     "execution_count": 26,
     "metadata": {},
     "output_type": "execute_result"
    },
    {
     "data": {
      "image/png": "[encoded data removed]",
      "text/plain": [
       "<Figure size 576x504 with 1 Axes>"
      ]
     },
     "metadata": {
      "needs_background": "light"
     },
     "output_type": "display_data"
    }
   ],
   "source": [
    "plt.figure(figsize=(8,7))\n",
    "plt.scatter(plot_testing[:,0], plot_testing[:,1], alpha = 0.1, c = y_test.ravel());\n",
    "plt.title('Outputs')"
   ]
  },
  {
   "cell_type": "markdown",
   "metadata": {
    "papermill": {
     "duration": 0.048595,
     "end_time": "2020-12-09T20:06:19.357951",
     "exception": false,
     "start_time": "2020-12-09T20:06:19.309356",
     "status": "completed"
    },
    "tags": []
   },
   "source": [
    "### Plotting probability contours"
   ]
  },
  {
   "cell_type": "code",
   "execution_count": 27,
   "metadata": {
    "execution": {
     "iopub.execute_input": "2020-12-09T20:06:19.459850Z",
     "iopub.status.busy": "2020-12-09T20:06:19.459247Z",
     "iopub.status.idle": "2020-12-09T20:06:19.476014Z",
     "shell.execute_reply": "2020-12-09T20:06:19.475270Z"
    },
    "papermill": {
     "duration": 0.069599,
     "end_time": "2020-12-09T20:06:19.476194",
     "exception": false,
     "start_time": "2020-12-09T20:06:19.406595",
     "status": "completed"
    },
    "tags": []
   },
   "outputs": [],
   "source": [
    "model_prob = Model(layers[-2:]) "
   ]
  },
  {
   "cell_type": "code",
   "execution_count": 28,
   "metadata": {
    "execution": {
     "iopub.execute_input": "2020-12-09T20:06:19.588606Z",
     "iopub.status.busy": "2020-12-09T20:06:19.588010Z",
     "iopub.status.idle": "2020-12-09T20:06:19.601842Z",
     "shell.execute_reply": "2020-12-09T20:06:19.602311Z"
    },
    "papermill": {
     "duration": 0.074198,
     "end_time": "2020-12-09T20:06:19.602464",
     "exception": false,
     "start_time": "2020-12-09T20:06:19.528266",
     "status": "completed"
    },
    "tags": []
   },
   "outputs": [],
   "source": [
    "# Adjust the x and y ranges according to the above generated plot.\n",
    "x_range = np.linspace(-4, 1, 100) \n",
    "y_range = np.linspace(-6, 6, 100) \n",
    "x_grid, y_grid = np.meshgrid(x_range, y_range) # x_grid and y_grig are of size 100 X 100\n",
    "\n",
    "# converting x_grid and y_grid to continuous arrays\n",
    "x_grid_flat = np.ravel(x_grid)\n",
    "y_grid_flat = np.ravel(y_grid)\n",
    "\n",
    "# The last layer of the current model takes two columns as input. Hence transpose of np.vstack() is required.\n",
    "X = np.vstack((x_grid_flat, y_grid_flat)).T\n",
    "\n",
    "# x_grid and y_grid are of size 100 x 100\n",
    "probability_contour = model_prob(X).reshape(100,100) "
   ]
  },
  {
   "cell_type": "code",
   "execution_count": 29,
   "metadata": {
    "execution": {
     "iopub.execute_input": "2020-12-09T20:06:19.715330Z",
     "iopub.status.busy": "2020-12-09T20:06:19.714731Z",
     "iopub.status.idle": "2020-12-09T20:06:19.965541Z",
     "shell.execute_reply": "2020-12-09T20:06:19.966044Z"
    },
    "papermill": {
     "duration": 0.314624,
     "end_time": "2020-12-09T20:06:19.966205",
     "exception": false,
     "start_time": "2020-12-09T20:06:19.651581",
     "status": "completed"
    },
    "tags": []
   },
   "outputs": [
    {
     "data": {
      "image/png": "[encoded data removed]",
      "text/plain": [
       "<Figure size 720x648 with 1 Axes>"
      ]
     },
     "metadata": {
      "needs_background": "light"
     },
     "output_type": "display_data"
    }
   ],
   "source": [
    "plt.figure(figsize=(10,9))\n",
    "plt.scatter(plot_testing[:,0], plot_testing[:,1], alpha = 0.1, c = y_test.ravel())\n",
    "contours = plt.contour(x_grid,y_grid,probability_contour)\n",
    "plt.title('Probability Contours')\n",
    "plt.clabel(contours, inline = True );"
   ]
  }
 ],
 "metadata": {
  "kernelspec": {
   "display_name": "Python 3",
   "language": "python",
   "name": "python3"
  },
  "language_info": {
   "codemirror_mode": {
    "name": "ipython",
    "version": 3
   },
   "file_extension": ".py",
   "mimetype": "text/x-python",
   "name": "python",
   "nbconvert_exporter": "python",
   "pygments_lexer": "ipython3",
   "version": "3.6.12"
  },
  "papermill": {
   "duration": 115.381058,
   "end_time": "2020-12-09T20:06:21.330379",
   "environment_variables": {},
   "exception": null,
   "input_path": "2020-08-11-NeuralNetwork.ipynb",
   "output_path": "2020-08-11-NeuralNetwork.ipynb",
   "parameters": {},
   "start_time": "2020-12-09T20:04:25.949321",
   "version": "2.1.2"
  }
 },
 "nbformat": 4,
 "nbformat_minor": 4
}