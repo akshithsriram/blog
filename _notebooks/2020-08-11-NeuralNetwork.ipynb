{
 "cells": [
  {
   "cell_type": "markdown",
   "metadata": {
    "papermill": {
     "duration": 0.025406,
     "end_time": "2021-01-03T20:10:55.951914",
     "exception": false,
     "start_time": "2021-01-03T20:10:55.926508",
     "status": "completed"
    },
    "tags": []
   },
   "source": [
    "# \"A Basic Neural Network: Differentiate Hand-Written Digits\"\n",
    "\n",
    "- badges: true\n",
    "- author: Akshith Sriram"
   ]
  },
  {
   "cell_type": "markdown",
   "metadata": {
    "papermill": {
     "duration": 0.021591,
     "end_time": "2021-01-03T20:10:55.995445",
     "exception": false,
     "start_time": "2021-01-03T20:10:55.973854",
     "status": "completed"
    },
    "tags": []
   },
   "source": [
    "### Key Objectives:\n",
    "- Building a neural network that differentiates two hand-written digits 3 and 8.\n",
    "- Comparing the results of this Neural Network (NN) to that of a Logistic Regression (LR) model.\n",
    "\n",
    "### Requirements:\n",
    "- 'Kudzu' : A neural network library that was designed during our course by [Univ.AI](www.univ.ai). \n",
    "- MNIST Database\n",
    "\n",
    "If MNIST is not installed, use the command `!pip install mnist` given below.\n",
    "It can be run both from the command line and Jupyter Notebook."
   ]
  },
  {
   "cell_type": "code",
   "execution_count": 1,
   "metadata": {
    "execution": {
     "iopub.execute_input": "2021-01-03T20:10:56.046364Z",
     "iopub.status.busy": "2021-01-03T20:10:56.045934Z",
     "iopub.status.idle": "2021-01-03T20:10:57.267790Z",
     "shell.execute_reply": "2021-01-03T20:10:57.268201Z"
    },
    "papermill": {
     "duration": 1.253785,
     "end_time": "2021-01-03T20:10:57.268366",
     "exception": false,
     "start_time": "2021-01-03T20:10:56.014581",
     "status": "completed"
    },
    "tags": []
   },
   "outputs": [
    {
     "name": "stdout",
     "output_type": "stream",
     "text": [
      "Collecting mnist\r\n"
     ]
    },
    {
     "name": "stdout",
     "output_type": "stream",
     "text": [
      "  Downloading mnist-0.2.2-py2.py3-none-any.whl (3.5 kB)\r\n",
      "Requirement already satisfied: numpy in /opt/hostedtoolcache/Python/3.6.12/x64/lib/python3.6/site-packages (from mnist) (1.19.4)\r\n"
     ]
    },
    {
     "name": "stdout",
     "output_type": "stream",
     "text": [
      "Installing collected packages: mnist\r\n",
      "Successfully installed mnist-0.2.2\r\n"
     ]
    },
    {
     "name": "stdout",
     "output_type": "stream",
     "text": [
      "\u001b[33mWARNING: You are using pip version 20.3.1; however, version 20.3.3 is available.\r\n",
      "You should consider upgrading via the '/opt/hostedtoolcache/Python/3.6.12/x64/bin/python -m pip install --upgrade pip' command.\u001b[0m\r\n"
     ]
    }
   ],
   "source": [
    "!pip install mnist "
   ]
  },
  {
   "cell_type": "markdown",
   "metadata": {
    "papermill": {
     "duration": 0.019537,
     "end_time": "2021-01-03T20:10:57.308706",
     "exception": false,
     "start_time": "2021-01-03T20:10:57.289169",
     "status": "completed"
    },
    "tags": []
   },
   "source": [
    "#### Importing necessary libraries"
   ]
  },
  {
   "cell_type": "code",
   "execution_count": 2,
   "metadata": {
    "execution": {
     "iopub.execute_input": "2021-01-03T20:10:57.355717Z",
     "iopub.status.busy": "2021-01-03T20:10:57.354926Z",
     "iopub.status.idle": "2021-01-03T20:10:57.803325Z",
     "shell.execute_reply": "2021-01-03T20:10:57.802285Z"
    },
    "papermill": {
     "duration": 0.475065,
     "end_time": "2021-01-03T20:10:57.803472",
     "exception": false,
     "start_time": "2021-01-03T20:10:57.328407",
     "status": "completed"
    },
    "tags": []
   },
   "outputs": [],
   "source": [
    "%load_ext autoreload\n",
    "%autoreload 2\n",
    "\n",
    "%matplotlib inline\n",
    "import matplotlib.pyplot as plt\n",
    "\n",
    "import numpy as np\n",
    "import pandas as pd"
   ]
  },
  {
   "cell_type": "markdown",
   "metadata": {
    "papermill": {
     "duration": 0.019754,
     "end_time": "2021-01-03T20:10:57.842878",
     "exception": false,
     "start_time": "2021-01-03T20:10:57.823124",
     "status": "completed"
    },
    "tags": []
   },
   "source": [
    "### Preparing the Data"
   ]
  },
  {
   "cell_type": "code",
   "execution_count": 3,
   "metadata": {
    "execution": {
     "iopub.execute_input": "2021-01-03T20:10:57.892237Z",
     "iopub.status.busy": "2021-01-03T20:10:57.884883Z",
     "iopub.status.idle": "2021-01-03T20:10:57.893518Z",
     "shell.execute_reply": "2021-01-03T20:10:57.894043Z"
    },
    "papermill": {
     "duration": 0.032082,
     "end_time": "2021-01-03T20:10:57.894159",
     "exception": false,
     "start_time": "2021-01-03T20:10:57.862077",
     "status": "completed"
    },
    "tags": []
   },
   "outputs": [],
   "source": [
    "import mnist"
   ]
  },
  {
   "cell_type": "code",
   "execution_count": 4,
   "metadata": {
    "execution": {
     "iopub.execute_input": "2021-01-03T20:10:57.938443Z",
     "iopub.status.busy": "2021-01-03T20:10:57.937973Z",
     "iopub.status.idle": "2021-01-03T20:10:58.594599Z",
     "shell.execute_reply": "2021-01-03T20:10:58.593592Z"
    },
    "papermill": {
     "duration": 0.680408,
     "end_time": "2021-01-03T20:10:58.594713",
     "exception": false,
     "start_time": "2021-01-03T20:10:57.914305",
     "status": "completed"
    },
    "tags": []
   },
   "outputs": [],
   "source": [
    "train_images = mnist.train_images()\n",
    "train_labels = mnist.train_labels()"
   ]
  },
  {
   "cell_type": "code",
   "execution_count": 5,
   "metadata": {
    "execution": {
     "iopub.execute_input": "2021-01-03T20:10:58.651889Z",
     "iopub.status.busy": "2021-01-03T20:10:58.641018Z",
     "iopub.status.idle": "2021-01-03T20:10:58.654438Z",
     "shell.execute_reply": "2021-01-03T20:10:58.653957Z"
    },
    "papermill": {
     "duration": 0.039251,
     "end_time": "2021-01-03T20:10:58.654543",
     "exception": false,
     "start_time": "2021-01-03T20:10:58.615292",
     "status": "completed"
    },
    "tags": []
   },
   "outputs": [
    {
     "data": {
      "text/plain": [
       "((60000, 28, 28), (60000,))"
      ]
     },
     "execution_count": 5,
     "metadata": {},
     "output_type": "execute_result"
    }
   ],
   "source": [
    "train_images.shape, train_labels.shape"
   ]
  },
  {
   "cell_type": "code",
   "execution_count": 6,
   "metadata": {
    "execution": {
     "iopub.execute_input": "2021-01-03T20:10:58.703493Z",
     "iopub.status.busy": "2021-01-03T20:10:58.703085Z",
     "iopub.status.idle": "2021-01-03T20:10:58.982610Z",
     "shell.execute_reply": "2021-01-03T20:10:58.983431Z"
    },
    "papermill": {
     "duration": 0.307437,
     "end_time": "2021-01-03T20:10:58.983686",
     "exception": false,
     "start_time": "2021-01-03T20:10:58.676249",
     "status": "completed"
    },
    "tags": []
   },
   "outputs": [],
   "source": [
    "test_images = mnist.test_images()\n",
    "test_labels = mnist.test_labels()"
   ]
  },
  {
   "cell_type": "code",
   "execution_count": 7,
   "metadata": {
    "execution": {
     "iopub.execute_input": "2021-01-03T20:10:59.033827Z",
     "iopub.status.busy": "2021-01-03T20:10:59.033405Z",
     "iopub.status.idle": "2021-01-03T20:10:59.048081Z",
     "shell.execute_reply": "2021-01-03T20:10:59.047672Z"
    },
    "papermill": {
     "duration": 0.041743,
     "end_time": "2021-01-03T20:10:59.048190",
     "exception": false,
     "start_time": "2021-01-03T20:10:59.006447",
     "status": "completed"
    },
    "tags": []
   },
   "outputs": [
    {
     "data": {
      "text/plain": [
       "((10000, 28, 28), (10000,))"
      ]
     },
     "execution_count": 7,
     "metadata": {},
     "output_type": "execute_result"
    }
   ],
   "source": [
    "test_images.shape, test_labels.shape"
   ]
  },
  {
   "cell_type": "code",
   "execution_count": 8,
   "metadata": {
    "execution": {
     "iopub.execute_input": "2021-01-03T20:10:59.094520Z",
     "iopub.status.busy": "2021-01-03T20:10:59.094041Z",
     "iopub.status.idle": "2021-01-03T20:10:59.209718Z",
     "shell.execute_reply": "2021-01-03T20:10:59.210202Z"
    },
    "papermill": {
     "duration": 0.140699,
     "end_time": "2021-01-03T20:10:59.210314",
     "exception": false,
     "start_time": "2021-01-03T20:10:59.069615",
     "status": "completed"
    },
    "tags": []
   },
   "outputs": [
    {
     "name": "stdout",
     "output_type": "stream",
     "text": [
      "2\n"
     ]
    },
    {
     "data": {
      "text/plain": [
       "<matplotlib.image.AxesImage at 0x7f043e9272b0>"
      ]
     },
     "execution_count": 8,
     "metadata": {},
     "output_type": "execute_result"
    },
    {
     "data": {
      "image/png": "[encoded data removed]",
      "text/plain": [
       "<Figure size 432x288 with 1 Axes>"
      ]
     },
     "metadata": {
      "needs_background": "light"
     },
     "output_type": "display_data"
    }
   ],
   "source": [
    "image_index = 7776 # You may select anything up to 60,000\n",
    "print(train_labels[image_index]) \n",
    "plt.imshow(train_images[image_index], cmap='Greys')"
   ]
  },
  {
   "cell_type": "markdown",
   "metadata": {
    "papermill": {
     "duration": 0.027247,
     "end_time": "2021-01-03T20:10:59.257867",
     "exception": false,
     "start_time": "2021-01-03T20:10:59.230620",
     "status": "completed"
    },
    "tags": []
   },
   "source": [
    "## Filter data to get 3 and 8 out"
   ]
  },
  {
   "cell_type": "code",
   "execution_count": 9,
   "metadata": {
    "execution": {
     "iopub.execute_input": "2021-01-03T20:10:59.305462Z",
     "iopub.status.busy": "2021-01-03T20:10:59.305054Z",
     "iopub.status.idle": "2021-01-03T20:10:59.324667Z",
     "shell.execute_reply": "2021-01-03T20:10:59.324188Z"
    },
    "papermill": {
     "duration": 0.045587,
     "end_time": "2021-01-03T20:10:59.324776",
     "exception": false,
     "start_time": "2021-01-03T20:10:59.279189",
     "status": "completed"
    },
    "tags": []
   },
   "outputs": [],
   "source": [
    "train_filter = np.where((train_labels == 3 ) | (train_labels == 8))\n",
    "test_filter = np.where((test_labels == 3) | (test_labels == 8))\n",
    "X_train, y_train = train_images[train_filter], train_labels[train_filter]\n",
    "X_test, y_test = test_images[test_filter], test_labels[test_filter]"
   ]
  },
  {
   "cell_type": "markdown",
   "metadata": {
    "papermill": {
     "duration": 0.02181,
     "end_time": "2021-01-03T20:10:59.368658",
     "exception": false,
     "start_time": "2021-01-03T20:10:59.346848",
     "status": "completed"
    },
    "tags": []
   },
   "source": [
    "We normalize the pixel values in the 0 to 1 range"
   ]
  },
  {
   "cell_type": "code",
   "execution_count": 10,
   "metadata": {
    "execution": {
     "iopub.execute_input": "2021-01-03T20:10:59.415049Z",
     "iopub.status.busy": "2021-01-03T20:10:59.414579Z",
     "iopub.status.idle": "2021-01-03T20:10:59.465554Z",
     "shell.execute_reply": "2021-01-03T20:10:59.464579Z"
    },
    "papermill": {
     "duration": 0.075398,
     "end_time": "2021-01-03T20:10:59.465750",
     "exception": false,
     "start_time": "2021-01-03T20:10:59.390352",
     "status": "completed"
    },
    "tags": []
   },
   "outputs": [],
   "source": [
    "X_train = X_train/255.\n",
    "X_test = X_test/255."
   ]
  },
  {
   "cell_type": "markdown",
   "metadata": {
    "papermill": {
     "duration": 0.021242,
     "end_time": "2021-01-03T20:10:59.511777",
     "exception": false,
     "start_time": "2021-01-03T20:10:59.490535",
     "status": "completed"
    },
    "tags": []
   },
   "source": [
    "Setup the labels as 1 (when the digit is 3) and 0 (when the digit is 8)"
   ]
  },
  {
   "cell_type": "code",
   "execution_count": 11,
   "metadata": {
    "execution": {
     "iopub.execute_input": "2021-01-03T20:10:59.560205Z",
     "iopub.status.busy": "2021-01-03T20:10:59.559761Z",
     "iopub.status.idle": "2021-01-03T20:10:59.570438Z",
     "shell.execute_reply": "2021-01-03T20:10:59.570031Z"
    },
    "papermill": {
     "duration": 0.036058,
     "end_time": "2021-01-03T20:10:59.570524",
     "exception": false,
     "start_time": "2021-01-03T20:10:59.534466",
     "status": "completed"
    },
    "tags": []
   },
   "outputs": [],
   "source": [
    "y_train = 1*(y_train==3)\n",
    "y_test = 1*(y_test==3)"
   ]
  },
  {
   "cell_type": "code",
   "execution_count": 12,
   "metadata": {
    "execution": {
     "iopub.execute_input": "2021-01-03T20:10:59.619196Z",
     "iopub.status.busy": "2021-01-03T20:10:59.618256Z",
     "iopub.status.idle": "2021-01-03T20:10:59.627398Z",
     "shell.execute_reply": "2021-01-03T20:10:59.627765Z"
    },
    "papermill": {
     "duration": 0.033571,
     "end_time": "2021-01-03T20:10:59.627862",
     "exception": false,
     "start_time": "2021-01-03T20:10:59.594291",
     "status": "completed"
    },
    "tags": []
   },
   "outputs": [
    {
     "data": {
      "text/plain": [
       "((11982, 28, 28), (1984, 28, 28))"
      ]
     },
     "execution_count": 12,
     "metadata": {},
     "output_type": "execute_result"
    }
   ],
   "source": [
    "X_train.shape, X_test.shape"
   ]
  },
  {
   "cell_type": "markdown",
   "metadata": {
    "papermill": {
     "duration": 0.023219,
     "end_time": "2021-01-03T20:10:59.671887",
     "exception": false,
     "start_time": "2021-01-03T20:10:59.648668",
     "status": "completed"
    },
    "tags": []
   },
   "source": [
    "### Reshape the input data to create a linear array"
   ]
  },
  {
   "cell_type": "code",
   "execution_count": 13,
   "metadata": {
    "execution": {
     "iopub.execute_input": "2021-01-03T20:10:59.718517Z",
     "iopub.status.busy": "2021-01-03T20:10:59.718109Z",
     "iopub.status.idle": "2021-01-03T20:10:59.731509Z",
     "shell.execute_reply": "2021-01-03T20:10:59.731177Z"
    },
    "papermill": {
     "duration": 0.038562,
     "end_time": "2021-01-03T20:10:59.731596",
     "exception": false,
     "start_time": "2021-01-03T20:10:59.693034",
     "status": "completed"
    },
    "tags": []
   },
   "outputs": [
    {
     "data": {
      "text/plain": [
       "((11982, 784), (1984, 784))"
      ]
     },
     "execution_count": 13,
     "metadata": {},
     "output_type": "execute_result"
    }
   ],
   "source": [
    "X_train = X_train.reshape(X_train.shape[0], -1)\n",
    "X_test = X_test.reshape(X_test.shape[0], -1)\n",
    "X_train.shape, X_test.shape"
   ]
  },
  {
   "cell_type": "markdown",
   "metadata": {
    "papermill": {
     "duration": 0.021384,
     "end_time": "2021-01-03T20:10:59.773351",
     "exception": false,
     "start_time": "2021-01-03T20:10:59.751967",
     "status": "completed"
    },
    "tags": []
   },
   "source": [
    "### Importing appropriate functions from 'Kudzu'"
   ]
  },
  {
   "cell_type": "code",
   "execution_count": 14,
   "metadata": {
    "execution": {
     "iopub.execute_input": "2021-01-03T20:10:59.821054Z",
     "iopub.status.busy": "2021-01-03T20:10:59.820643Z",
     "iopub.status.idle": "2021-01-03T20:10:59.840537Z",
     "shell.execute_reply": "2021-01-03T20:10:59.839592Z"
    },
    "papermill": {
     "duration": 0.045533,
     "end_time": "2021-01-03T20:10:59.840736",
     "exception": false,
     "start_time": "2021-01-03T20:10:59.795203",
     "status": "completed"
    },
    "tags": []
   },
   "outputs": [],
   "source": [
    "from kudzu.layer import Sigmoid\n",
    "from kudzu.layer import Relu\n",
    "from kudzu.layer import Affine, Sigmoid\n",
    "\n",
    "from kudzu.model import Model\n",
    "from kudzu.train import Learner\n",
    "from kudzu.optim import GD\n",
    "from kudzu.data import Data, Dataloader, Sampler\n",
    "\n",
    "from kudzu.callbacks import AccCallback\n",
    "from kudzu.callbacks import ClfCallback\n",
    "\n",
    "from kudzu.loss import MSE"
   ]
  },
  {
   "cell_type": "markdown",
   "metadata": {
    "papermill": {
     "duration": 0.022711,
     "end_time": "2021-01-03T20:10:59.888998",
     "exception": false,
     "start_time": "2021-01-03T20:10:59.866287",
     "status": "completed"
    },
    "tags": []
   },
   "source": [
    "### Let us create a `Config` class, to store important parameters. \n",
    "This class essentially plays the role of a dictionary."
   ]
  },
  {
   "cell_type": "code",
   "execution_count": 15,
   "metadata": {
    "execution": {
     "iopub.execute_input": "2021-01-03T20:10:59.940777Z",
     "iopub.status.busy": "2021-01-03T20:10:59.940354Z",
     "iopub.status.idle": "2021-01-03T20:10:59.951099Z",
     "shell.execute_reply": "2021-01-03T20:10:59.950740Z"
    },
    "papermill": {
     "duration": 0.037514,
     "end_time": "2021-01-03T20:10:59.951193",
     "exception": false,
     "start_time": "2021-01-03T20:10:59.913679",
     "status": "completed"
    },
    "tags": []
   },
   "outputs": [],
   "source": [
    "class Config:\n",
    "    pass\n",
    "config = Config()\n",
    "config.lr = 0.001\n",
    "config.num_epochs = 251\n",
    "config.bs = 50"
   ]
  },
  {
   "cell_type": "markdown",
   "metadata": {
    "papermill": {
     "duration": 0.021636,
     "end_time": "2021-01-03T20:10:59.994355",
     "exception": false,
     "start_time": "2021-01-03T20:10:59.972719",
     "status": "completed"
    },
    "tags": []
   },
   "source": [
    "### Initializing data to the variables"
   ]
  },
  {
   "cell_type": "code",
   "execution_count": 16,
   "metadata": {
    "execution": {
     "iopub.execute_input": "2021-01-03T20:11:00.048188Z",
     "iopub.status.busy": "2021-01-03T20:11:00.047758Z",
     "iopub.status.idle": "2021-01-03T20:11:00.060722Z",
     "shell.execute_reply": "2021-01-03T20:11:00.061098Z"
    },
    "papermill": {
     "duration": 0.043032,
     "end_time": "2021-01-03T20:11:00.061209",
     "exception": false,
     "start_time": "2021-01-03T20:11:00.018177",
     "status": "completed"
    },
    "tags": []
   },
   "outputs": [],
   "source": [
    "data = Data(X_train, y_train.reshape(-1,1))\n",
    "sampler = Sampler(data, config.bs, shuffle=True)\n",
    "\n",
    "dl = Dataloader(data, sampler)\n",
    "\n",
    "opt = GD(config.lr)\n",
    "loss = MSE()"
   ]
  },
  {
   "cell_type": "code",
   "execution_count": 17,
   "metadata": {
    "execution": {
     "iopub.execute_input": "2021-01-03T20:11:00.109130Z",
     "iopub.status.busy": "2021-01-03T20:11:00.108594Z",
     "iopub.status.idle": "2021-01-03T20:11:00.121029Z",
     "shell.execute_reply": "2021-01-03T20:11:00.121381Z"
    },
    "papermill": {
     "duration": 0.039765,
     "end_time": "2021-01-03T20:11:00.121475",
     "exception": false,
     "start_time": "2021-01-03T20:11:00.081710",
     "status": "completed"
    },
    "tags": []
   },
   "outputs": [],
   "source": [
    "training_xdata = X_train\n",
    "testing_xdata = X_test\n",
    "training_ydata = y_train.reshape(-1,1)\n",
    "testing_ydata = y_test.reshape(-1,1)"
   ]
  },
  {
   "cell_type": "markdown",
   "metadata": {
    "papermill": {
     "duration": 0.021839,
     "end_time": "2021-01-03T20:11:00.164352",
     "exception": false,
     "start_time": "2021-01-03T20:11:00.142513",
     "status": "completed"
    },
    "tags": []
   },
   "source": [
    "### Running Models with the Training data\n",
    "Details about the network layers:\n",
    "- A first affine layer has 784 inputs and does 100 affine transforms. These are followed by a Relu\n",
    "- A second affine layer has 100 inputs from the 100 activations of the past layer, and does 100 affine transforms. These are followed by a Relu\n",
    "- A third affine layer has 100 activations and does 2 affine transformations to create an embedding for visualization. There is no non-linearity here.\n",
    "- A final \"logistic regression\" which has an affine transform from 2 inputs to 1 output, which is squeezed through a sigmoid.\n",
    "\n",
    "Help taken from Anshuman's Notebook."
   ]
  },
  {
   "cell_type": "code",
   "execution_count": 18,
   "metadata": {
    "execution": {
     "iopub.execute_input": "2021-01-03T20:11:00.216035Z",
     "iopub.status.busy": "2021-01-03T20:11:00.214998Z",
     "iopub.status.idle": "2021-01-03T20:11:00.229749Z",
     "shell.execute_reply": "2021-01-03T20:11:00.229276Z"
    },
    "papermill": {
     "duration": 0.043721,
     "end_time": "2021-01-03T20:11:00.229845",
     "exception": false,
     "start_time": "2021-01-03T20:11:00.186124",
     "status": "completed"
    },
    "tags": []
   },
   "outputs": [],
   "source": [
    "# layers for the Neural Network\n",
    "layers = [Affine(\"first\", 784, 100), Relu(\"first\"), Affine(\"second\", 100, 100), Relu(\"second\"), Affine(\"third\", 100, 2), Affine(\"final\", 2, 1), Sigmoid(\"final\")]\n",
    "model_nn = Model(layers)\n",
    "\n",
    "# layers for the Logistic Regression\n",
    "layers_lr = [Affine(\"logits\", 784, 1), Sigmoid(\"sigmoid\")]\n",
    "model_lr = Model(layers_lr)"
   ]
  },
  {
   "cell_type": "code",
   "execution_count": 19,
   "metadata": {
    "execution": {
     "iopub.execute_input": "2021-01-03T20:11:00.286570Z",
     "iopub.status.busy": "2021-01-03T20:11:00.286151Z",
     "iopub.status.idle": "2021-01-03T20:11:00.298046Z",
     "shell.execute_reply": "2021-01-03T20:11:00.297664Z"
    },
    "papermill": {
     "duration": 0.045817,
     "end_time": "2021-01-03T20:11:00.298142",
     "exception": false,
     "start_time": "2021-01-03T20:11:00.252325",
     "status": "completed"
    },
    "tags": []
   },
   "outputs": [],
   "source": [
    "# suffix _nn stands for Neural Network.\n",
    "learner_nn = Learner(loss, model_nn, opt, config.num_epochs)\n",
    "acc_nn = ClfCallback(learner_nn, config.bs, training_xdata , testing_xdata, training_ydata, testing_ydata)\n",
    "learner_nn.set_callbacks([acc_nn])"
   ]
  },
  {
   "cell_type": "code",
   "execution_count": 20,
   "metadata": {
    "execution": {
     "iopub.execute_input": "2021-01-03T20:11:00.348567Z",
     "iopub.status.busy": "2021-01-03T20:11:00.347846Z",
     "iopub.status.idle": "2021-01-03T20:12:14.419659Z",
     "shell.execute_reply": "2021-01-03T20:12:14.420331Z"
    },
    "papermill": {
     "duration": 74.098591,
     "end_time": "2021-01-03T20:12:14.420469",
     "exception": false,
     "start_time": "2021-01-03T20:11:00.321878",
     "status": "completed"
    },
    "tags": []
   },
   "outputs": [
    {
     "name": "stdout",
     "output_type": "stream",
     "text": [
      "====== Neural Network ======\n"
     ]
    },
    {
     "name": "stdout",
     "output_type": "stream",
     "text": [
      "Epoch 0, Loss 0.2458\n",
      "Training Accuracy: 0.6042, Testing Accuracy: 0.6169\n",
      "\n"
     ]
    },
    {
     "name": "stdout",
     "output_type": "stream",
     "text": [
      "Epoch 10, Loss 0.1636\n",
      "Training Accuracy: 0.8924, Testing Accuracy: 0.9032\n",
      "\n"
     ]
    },
    {
     "name": "stdout",
     "output_type": "stream",
     "text": [
      "Epoch 20, Loss 0.0798\n",
      "Training Accuracy: 0.9236, Testing Accuracy: 0.9365\n",
      "\n"
     ]
    },
    {
     "name": "stdout",
     "output_type": "stream",
     "text": [
      "Epoch 30, Loss 0.0545\n",
      "Training Accuracy: 0.9421, Testing Accuracy: 0.9551\n",
      "\n"
     ]
    },
    {
     "name": "stdout",
     "output_type": "stream",
     "text": [
      "Epoch 40, Loss 0.044\n",
      "Training Accuracy: 0.9509, Testing Accuracy: 0.9612\n",
      "\n"
     ]
    },
    {
     "name": "stdout",
     "output_type": "stream",
     "text": [
      "Epoch 50, Loss 0.0384\n",
      "Training Accuracy: 0.9558, Testing Accuracy: 0.9647\n",
      "\n"
     ]
    },
    {
     "name": "stdout",
     "output_type": "stream",
     "text": [
      "Epoch 60, Loss 0.035\n",
      "Training Accuracy: 0.9598, Testing Accuracy: 0.9672\n",
      "\n"
     ]
    },
    {
     "name": "stdout",
     "output_type": "stream",
     "text": [
      "Epoch 70, Loss 0.0326\n",
      "Training Accuracy: 0.9632, Testing Accuracy: 0.9672\n",
      "\n"
     ]
    },
    {
     "name": "stdout",
     "output_type": "stream",
     "text": [
      "Epoch 80, Loss 0.0309\n",
      "Training Accuracy: 0.9647, Testing Accuracy: 0.9688\n",
      "\n"
     ]
    },
    {
     "name": "stdout",
     "output_type": "stream",
     "text": [
      "Epoch 90, Loss 0.0295\n",
      "Training Accuracy: 0.9659, Testing Accuracy: 0.9682\n",
      "\n"
     ]
    },
    {
     "name": "stdout",
     "output_type": "stream",
     "text": [
      "Epoch 100, Loss 0.0283\n",
      "Training Accuracy: 0.9673, Testing Accuracy: 0.9688\n",
      "\n"
     ]
    },
    {
     "name": "stdout",
     "output_type": "stream",
     "text": [
      "Epoch 110, Loss 0.0274\n",
      "Training Accuracy: 0.9687, Testing Accuracy: 0.9703\n",
      "\n"
     ]
    },
    {
     "name": "stdout",
     "output_type": "stream",
     "text": [
      "Epoch 120, Loss 0.0265\n",
      "Training Accuracy: 0.9697, Testing Accuracy: 0.9703\n",
      "\n"
     ]
    },
    {
     "name": "stdout",
     "output_type": "stream",
     "text": [
      "Epoch 130, Loss 0.0258\n",
      "Training Accuracy: 0.9705, Testing Accuracy: 0.9708\n",
      "\n"
     ]
    },
    {
     "name": "stdout",
     "output_type": "stream",
     "text": [
      "Epoch 140, Loss 0.0251\n",
      "Training Accuracy: 0.9709, Testing Accuracy: 0.9708\n",
      "\n"
     ]
    },
    {
     "name": "stdout",
     "output_type": "stream",
     "text": [
      "Epoch 150, Loss 0.0245\n",
      "Training Accuracy: 0.9715, Testing Accuracy: 0.9703\n",
      "\n"
     ]
    },
    {
     "name": "stdout",
     "output_type": "stream",
     "text": [
      "Epoch 160, Loss 0.024\n",
      "Training Accuracy: 0.9722, Testing Accuracy: 0.9708\n",
      "\n"
     ]
    },
    {
     "name": "stdout",
     "output_type": "stream",
     "text": [
      "Epoch 170, Loss 0.0235\n",
      "Training Accuracy: 0.9730, Testing Accuracy: 0.9703\n",
      "\n"
     ]
    },
    {
     "name": "stdout",
     "output_type": "stream",
     "text": [
      "Epoch 180, Loss 0.023\n",
      "Training Accuracy: 0.9736, Testing Accuracy: 0.9703\n",
      "\n"
     ]
    },
    {
     "name": "stdout",
     "output_type": "stream",
     "text": [
      "Epoch 190, Loss 0.0225\n",
      "Training Accuracy: 0.9740, Testing Accuracy: 0.9713\n",
      "\n"
     ]
    },
    {
     "name": "stdout",
     "output_type": "stream",
     "text": [
      "Epoch 200, Loss 0.0221\n",
      "Training Accuracy: 0.9745, Testing Accuracy: 0.9713\n",
      "\n"
     ]
    },
    {
     "name": "stdout",
     "output_type": "stream",
     "text": [
      "Epoch 210, Loss 0.0217\n",
      "Training Accuracy: 0.9749, Testing Accuracy: 0.9703\n",
      "\n"
     ]
    },
    {
     "name": "stdout",
     "output_type": "stream",
     "text": [
      "Epoch 220, Loss 0.0213\n",
      "Training Accuracy: 0.9755, Testing Accuracy: 0.9703\n",
      "\n"
     ]
    },
    {
     "name": "stdout",
     "output_type": "stream",
     "text": [
      "Epoch 230, Loss 0.0209\n",
      "Training Accuracy: 0.9762, Testing Accuracy: 0.9708\n",
      "\n"
     ]
    },
    {
     "name": "stdout",
     "output_type": "stream",
     "text": [
      "Epoch 240, Loss 0.0205\n",
      "Training Accuracy: 0.9769, Testing Accuracy: 0.9708\n",
      "\n"
     ]
    },
    {
     "name": "stdout",
     "output_type": "stream",
     "text": [
      "Epoch 250, Loss 0.0201\n",
      "Training Accuracy: 0.9773, Testing Accuracy: 0.9718\n",
      "\n"
     ]
    },
    {
     "data": {
      "text/plain": [
       "0.022664977678029757"
      ]
     },
     "execution_count": 20,
     "metadata": {},
     "output_type": "execute_result"
    }
   ],
   "source": [
    "print(\"====== Neural Network ======\")\n",
    "learner_nn.train_loop(dl)"
   ]
  },
  {
   "cell_type": "markdown",
   "metadata": {
    "papermill": {
     "duration": 0.028744,
     "end_time": "2021-01-03T20:12:14.479439",
     "exception": false,
     "start_time": "2021-01-03T20:12:14.450695",
     "status": "completed"
    },
    "tags": []
   },
   "source": [
    "### Logistic Regression based Implementation."
   ]
  },
  {
   "cell_type": "code",
   "execution_count": 21,
   "metadata": {
    "execution": {
     "iopub.execute_input": "2021-01-03T20:12:14.541755Z",
     "iopub.status.busy": "2021-01-03T20:12:14.541282Z",
     "iopub.status.idle": "2021-01-03T20:12:14.548357Z",
     "shell.execute_reply": "2021-01-03T20:12:14.548728Z"
    },
    "papermill": {
     "duration": 0.042344,
     "end_time": "2021-01-03T20:12:14.548844",
     "exception": false,
     "start_time": "2021-01-03T20:12:14.506500",
     "status": "completed"
    },
    "tags": []
   },
   "outputs": [],
   "source": [
    "learner_lr = Learner(loss, model_lr, opt, config.num_epochs)\n",
    "acc_lr = ClfCallback(learner_lr, config.bs, training_xdata , testing_xdata, training_ydata, testing_ydata)\n",
    "learner_lr.set_callbacks([acc_lr])"
   ]
  },
  {
   "cell_type": "code",
   "execution_count": 22,
   "metadata": {
    "execution": {
     "iopub.execute_input": "2021-01-03T20:12:14.607791Z",
     "iopub.status.busy": "2021-01-03T20:12:14.607379Z",
     "iopub.status.idle": "2021-01-03T20:12:27.553984Z",
     "shell.execute_reply": "2021-01-03T20:12:27.554501Z"
    },
    "papermill": {
     "duration": 12.978105,
     "end_time": "2021-01-03T20:12:27.554653",
     "exception": false,
     "start_time": "2021-01-03T20:12:14.576548",
     "status": "completed"
    },
    "tags": []
   },
   "outputs": [
    {
     "name": "stdout",
     "output_type": "stream",
     "text": [
      "====== Logistic Regression ======\n",
      "Epoch 0, Loss 0.2301\n",
      "Training Accuracy: 0.7542, Testing Accuracy: 0.7440\n",
      "\n"
     ]
    },
    {
     "name": "stdout",
     "output_type": "stream",
     "text": [
      "Epoch 10, Loss 0.0995\n",
      "Training Accuracy: 0.9163, Testing Accuracy: 0.9269\n",
      "\n"
     ]
    },
    {
     "name": "stdout",
     "output_type": "stream",
     "text": [
      "Epoch 20, Loss 0.0772\n",
      "Training Accuracy: 0.9311, Testing Accuracy: 0.9415\n",
      "\n"
     ]
    },
    {
     "name": "stdout",
     "output_type": "stream",
     "text": [
      "Epoch 30, Loss 0.0668\n",
      "Training Accuracy: 0.9386, Testing Accuracy: 0.9491\n",
      "\n"
     ]
    },
    {
     "name": "stdout",
     "output_type": "stream",
     "text": [
      "Epoch 40, Loss 0.0606\n",
      "Training Accuracy: 0.9431, Testing Accuracy: 0.9526\n",
      "\n"
     ]
    },
    {
     "name": "stdout",
     "output_type": "stream",
     "text": [
      "Epoch 50, Loss 0.0563\n",
      "Training Accuracy: 0.9448, Testing Accuracy: 0.9546\n",
      "\n"
     ]
    },
    {
     "name": "stdout",
     "output_type": "stream",
     "text": [
      "Epoch 60, Loss 0.0531\n",
      "Training Accuracy: 0.9470, Testing Accuracy: 0.9572\n",
      "\n"
     ]
    },
    {
     "name": "stdout",
     "output_type": "stream",
     "text": [
      "Epoch 70, Loss 0.0506\n",
      "Training Accuracy: 0.9488, Testing Accuracy: 0.9587\n",
      "\n"
     ]
    },
    {
     "name": "stdout",
     "output_type": "stream",
     "text": [
      "Epoch 80, Loss 0.0487\n",
      "Training Accuracy: 0.9508, Testing Accuracy: 0.9602\n",
      "\n"
     ]
    },
    {
     "name": "stdout",
     "output_type": "stream",
     "text": [
      "Epoch 90, Loss 0.047\n",
      "Training Accuracy: 0.9518, Testing Accuracy: 0.9622\n",
      "\n"
     ]
    },
    {
     "name": "stdout",
     "output_type": "stream",
     "text": [
      "Epoch 100, Loss 0.0456\n",
      "Training Accuracy: 0.9533, Testing Accuracy: 0.9627\n",
      "\n"
     ]
    },
    {
     "name": "stdout",
     "output_type": "stream",
     "text": [
      "Epoch 110, Loss 0.0445\n",
      "Training Accuracy: 0.9542, Testing Accuracy: 0.9627\n",
      "\n"
     ]
    },
    {
     "name": "stdout",
     "output_type": "stream",
     "text": [
      "Epoch 120, Loss 0.0434\n",
      "Training Accuracy: 0.9549, Testing Accuracy: 0.9627\n",
      "\n"
     ]
    },
    {
     "name": "stdout",
     "output_type": "stream",
     "text": [
      "Epoch 130, Loss 0.0425\n",
      "Training Accuracy: 0.9560, Testing Accuracy: 0.9637\n",
      "\n"
     ]
    },
    {
     "name": "stdout",
     "output_type": "stream",
     "text": [
      "Epoch 140, Loss 0.0417\n",
      "Training Accuracy: 0.9568, Testing Accuracy: 0.9637\n",
      "\n"
     ]
    },
    {
     "name": "stdout",
     "output_type": "stream",
     "text": [
      "Epoch 150, Loss 0.041\n",
      "Training Accuracy: 0.9572, Testing Accuracy: 0.9637\n",
      "\n"
     ]
    },
    {
     "name": "stdout",
     "output_type": "stream",
     "text": [
      "Epoch 160, Loss 0.0403\n",
      "Training Accuracy: 0.9585, Testing Accuracy: 0.9642\n",
      "\n"
     ]
    },
    {
     "name": "stdout",
     "output_type": "stream",
     "text": [
      "Epoch 170, Loss 0.0397\n",
      "Training Accuracy: 0.9592, Testing Accuracy: 0.9642\n",
      "\n"
     ]
    },
    {
     "name": "stdout",
     "output_type": "stream",
     "text": [
      "Epoch 180, Loss 0.0392\n",
      "Training Accuracy: 0.9596, Testing Accuracy: 0.9647\n",
      "\n"
     ]
    },
    {
     "name": "stdout",
     "output_type": "stream",
     "text": [
      "Epoch 190, Loss 0.0387\n",
      "Training Accuracy: 0.9604, Testing Accuracy: 0.9647\n",
      "\n"
     ]
    },
    {
     "name": "stdout",
     "output_type": "stream",
     "text": [
      "Epoch 200, Loss 0.0382\n",
      "Training Accuracy: 0.9604, Testing Accuracy: 0.9647\n",
      "\n"
     ]
    },
    {
     "name": "stdout",
     "output_type": "stream",
     "text": [
      "Epoch 210, Loss 0.0378\n",
      "Training Accuracy: 0.9608, Testing Accuracy: 0.9647\n",
      "\n"
     ]
    },
    {
     "name": "stdout",
     "output_type": "stream",
     "text": [
      "Epoch 220, Loss 0.0374\n",
      "Training Accuracy: 0.9611, Testing Accuracy: 0.9657\n",
      "\n"
     ]
    },
    {
     "name": "stdout",
     "output_type": "stream",
     "text": [
      "Epoch 230, Loss 0.037\n",
      "Training Accuracy: 0.9613, Testing Accuracy: 0.9662\n",
      "\n"
     ]
    },
    {
     "name": "stdout",
     "output_type": "stream",
     "text": [
      "Epoch 240, Loss 0.0367\n",
      "Training Accuracy: 0.9612, Testing Accuracy: 0.9667\n",
      "\n"
     ]
    },
    {
     "name": "stdout",
     "output_type": "stream",
     "text": [
      "Epoch 250, Loss 0.0363\n",
      "Training Accuracy: 0.9614, Testing Accuracy: 0.9662\n",
      "\n"
     ]
    },
    {
     "data": {
      "text/plain": [
       "0.08539689931029687"
      ]
     },
     "execution_count": 22,
     "metadata": {},
     "output_type": "execute_result"
    }
   ],
   "source": [
    "print(\"====== Logistic Regression ======\")\n",
    "learner_lr.train_loop(dl)"
   ]
  },
  {
   "cell_type": "markdown",
   "metadata": {
    "papermill": {
     "duration": 0.03934,
     "end_time": "2021-01-03T20:12:27.633211",
     "exception": false,
     "start_time": "2021-01-03T20:12:27.593871",
     "status": "completed"
    },
    "tags": []
   },
   "source": [
    "### Comparing results of NN and LR"
   ]
  },
  {
   "cell_type": "code",
   "execution_count": 23,
   "metadata": {
    "execution": {
     "iopub.execute_input": "2021-01-03T20:12:27.721895Z",
     "iopub.status.busy": "2021-01-03T20:12:27.721406Z",
     "iopub.status.idle": "2021-01-03T20:12:27.919359Z",
     "shell.execute_reply": "2021-01-03T20:12:27.918769Z"
    },
    "papermill": {
     "duration": 0.245997,
     "end_time": "2021-01-03T20:12:27.919500",
     "exception": false,
     "start_time": "2021-01-03T20:12:27.673503",
     "status": "completed"
    },
    "tags": []
   },
   "outputs": [
    {
     "data": {
      "text/plain": [
       "<matplotlib.legend.Legend at 0x7f043e4fbb70>"
      ]
     },
     "execution_count": 23,
     "metadata": {},
     "output_type": "execute_result"
    },
    {
     "data": {
      "image/png": "[encoded data removed]",
      "text/plain": [
       "<Figure size 1080x720 with 1 Axes>"
      ]
     },
     "metadata": {
      "needs_background": "light"
     },
     "output_type": "display_data"
    }
   ],
   "source": [
    "plt.figure(figsize=(15,10))\n",
    "\n",
    "# Neural Network plots\n",
    "plt.plot(acc_nn.accuracies, 'r-', label = \"Training Accuracies - NN\")\n",
    "plt.plot(acc_nn.test_accuracies, 'g-', label = \"Testing Accuracies - NN\")\n",
    "\n",
    "# Logistic Regression plots\n",
    "plt.plot(acc_lr.accuracies, 'k-', label = \"Training Accuracies - LR\")\n",
    "plt.plot(acc_lr.test_accuracies, 'b-', label = \"Testing Accuracies - LR\")\n",
    "\n",
    "plt.ylim(0.8, 1)\n",
    "\n",
    "plt.legend()\n",
    "\n"
   ]
  },
  {
   "cell_type": "markdown",
   "metadata": {
    "papermill": {
     "duration": 0.037201,
     "end_time": "2021-01-03T20:12:27.995531",
     "exception": false,
     "start_time": "2021-01-03T20:12:27.958330",
     "status": "completed"
    },
    "tags": []
   },
   "source": [
    "### From the plot, we can observe the following:\n",
    "- Neural Network achieves higher accuracy than the Logistic Regression model.\n",
    "- This apparently, is because of overfitting, i.e. NN captures more noise than data.\n",
    "- Testing accuracy of NN drops below the Training accuracy at higher epochs. This explains the over-fitting on training data.\n",
    "- Logistic Regression gives a reliable accuracy, without the above mentioned problem.\n"
   ]
  },
  {
   "cell_type": "markdown",
   "metadata": {
    "papermill": {
     "duration": 0.036646,
     "end_time": "2021-01-03T20:12:28.067065",
     "exception": false,
     "start_time": "2021-01-03T20:12:28.030419",
     "status": "completed"
    },
    "tags": []
   },
   "source": [
    "### Moving till the last but one layer (excluding it).\n",
    "#### Plotting the outputs of this layer of the NN."
   ]
  },
  {
   "cell_type": "code",
   "execution_count": 24,
   "metadata": {
    "execution": {
     "iopub.execute_input": "2021-01-03T20:12:28.153423Z",
     "iopub.status.busy": "2021-01-03T20:12:28.142425Z",
     "iopub.status.idle": "2021-01-03T20:12:28.158273Z",
     "shell.execute_reply": "2021-01-03T20:12:28.157494Z"
    },
    "papermill": {
     "duration": 0.054955,
     "end_time": "2021-01-03T20:12:28.158386",
     "exception": false,
     "start_time": "2021-01-03T20:12:28.103431",
     "status": "completed"
    },
    "tags": []
   },
   "outputs": [],
   "source": [
    "model_new = Model(layers[:-2])"
   ]
  },
  {
   "cell_type": "code",
   "execution_count": 25,
   "metadata": {
    "execution": {
     "iopub.execute_input": "2021-01-03T20:12:28.230528Z",
     "iopub.status.busy": "2021-01-03T20:12:28.230118Z",
     "iopub.status.idle": "2021-01-03T20:12:28.247400Z",
     "shell.execute_reply": "2021-01-03T20:12:28.247039Z"
    },
    "papermill": {
     "duration": 0.054957,
     "end_time": "2021-01-03T20:12:28.247485",
     "exception": false,
     "start_time": "2021-01-03T20:12:28.192528",
     "status": "completed"
    },
    "tags": []
   },
   "outputs": [],
   "source": [
    "plot_testing = model_new(testing_xdata)"
   ]
  },
  {
   "cell_type": "code",
   "execution_count": 26,
   "metadata": {
    "execution": {
     "iopub.execute_input": "2021-01-03T20:12:28.332992Z",
     "iopub.status.busy": "2021-01-03T20:12:28.332577Z",
     "iopub.status.idle": "2021-01-03T20:12:28.482559Z",
     "shell.execute_reply": "2021-01-03T20:12:28.482948Z"
    },
    "papermill": {
     "duration": 0.200955,
     "end_time": "2021-01-03T20:12:28.483069",
     "exception": false,
     "start_time": "2021-01-03T20:12:28.282114",
     "status": "completed"
    },
    "tags": []
   },
   "outputs": [
    {
     "data": {
      "text/plain": [
       "Text(0.5, 1.0, 'Outputs')"
      ]
     },
     "execution_count": 26,
     "metadata": {},
     "output_type": "execute_result"
    },
    {
     "data": {
      "image/png": "[encoded data removed]",
      "text/plain": [
       "<Figure size 576x504 with 1 Axes>"
      ]
     },
     "metadata": {
      "needs_background": "light"
     },
     "output_type": "display_data"
    }
   ],
   "source": [
    "plt.figure(figsize=(8,7))\n",
    "plt.scatter(plot_testing[:,0], plot_testing[:,1], alpha = 0.1, c = y_test.ravel());\n",
    "plt.title('Outputs')"
   ]
  },
  {
   "cell_type": "markdown",
   "metadata": {
    "papermill": {
     "duration": 0.038757,
     "end_time": "2021-01-03T20:12:28.558651",
     "exception": false,
     "start_time": "2021-01-03T20:12:28.519894",
     "status": "completed"
    },
    "tags": []
   },
   "source": [
    "### Plotting probability contours"
   ]
  },
  {
   "cell_type": "code",
   "execution_count": 27,
   "metadata": {
    "execution": {
     "iopub.execute_input": "2021-01-03T20:12:28.639587Z",
     "iopub.status.busy": "2021-01-03T20:12:28.639100Z",
     "iopub.status.idle": "2021-01-03T20:12:28.651558Z",
     "shell.execute_reply": "2021-01-03T20:12:28.651951Z"
    },
    "papermill": {
     "duration": 0.054558,
     "end_time": "2021-01-03T20:12:28.652048",
     "exception": false,
     "start_time": "2021-01-03T20:12:28.597490",
     "status": "completed"
    },
    "tags": []
   },
   "outputs": [],
   "source": [
    "model_prob = Model(layers[-2:]) "
   ]
  },
  {
   "cell_type": "code",
   "execution_count": 28,
   "metadata": {
    "execution": {
     "iopub.execute_input": "2021-01-03T20:12:28.733508Z",
     "iopub.status.busy": "2021-01-03T20:12:28.733015Z",
     "iopub.status.idle": "2021-01-03T20:12:28.745651Z",
     "shell.execute_reply": "2021-01-03T20:12:28.746032Z"
    },
    "papermill": {
     "duration": 0.055856,
     "end_time": "2021-01-03T20:12:28.746142",
     "exception": false,
     "start_time": "2021-01-03T20:12:28.690286",
     "status": "completed"
    },
    "tags": []
   },
   "outputs": [],
   "source": [
    "# Adjust the x and y ranges according to the above generated plot.\n",
    "x_range = np.linspace(-4, 1, 100) \n",
    "y_range = np.linspace(-6, 6, 100) \n",
    "x_grid, y_grid = np.meshgrid(x_range, y_range) # x_grid and y_grig are of size 100 X 100\n",
    "\n",
    "# converting x_grid and y_grid to continuous arrays\n",
    "x_grid_flat = np.ravel(x_grid)\n",
    "y_grid_flat = np.ravel(y_grid)\n",
    "\n",
    "# The last layer of the current model takes two columns as input. Hence transpose of np.vstack() is required.\n",
    "X = np.vstack((x_grid_flat, y_grid_flat)).T\n",
    "\n",
    "# x_grid and y_grid are of size 100 x 100\n",
    "probability_contour = model_prob(X).reshape(100,100) "
   ]
  },
  {
   "cell_type": "code",
   "execution_count": 29,
   "metadata": {
    "execution": {
     "iopub.execute_input": "2021-01-03T20:12:28.853347Z",
     "iopub.status.busy": "2021-01-03T20:12:28.852883Z",
     "iopub.status.idle": "2021-01-03T20:12:29.042806Z",
     "shell.execute_reply": "2021-01-03T20:12:29.042349Z"
    },
    "papermill": {
     "duration": 0.259698,
     "end_time": "2021-01-03T20:12:29.042908",
     "exception": false,
     "start_time": "2021-01-03T20:12:28.783210",
     "status": "completed"
    },
    "tags": []
   },
   "outputs": [
    {
     "data": {
      "image/png": "[encoded data removed]",
      "text/plain": [
       "<Figure size 720x648 with 1 Axes>"
      ]
     },
     "metadata": {
      "needs_background": "light"
     },
     "output_type": "display_data"
    }
   ],
   "source": [
    "plt.figure(figsize=(10,9))\n",
    "plt.scatter(plot_testing[:,0], plot_testing[:,1], alpha = 0.1, c = y_test.ravel())\n",
    "contours = plt.contour(x_grid,y_grid,probability_contour)\n",
    "plt.title('Probability Contours')\n",
    "plt.clabel(contours, inline = True );"
   ]
  }
 ],
 "metadata": {
  "kernelspec": {
   "display_name": "Python 3",
   "language": "python",
   "name": "python3"
  },
  "language_info": {
   "codemirror_mode": {
    "name": "ipython",
    "version": 3
   },
   "file_extension": ".py",
   "mimetype": "text/x-python",
   "name": "python",
   "nbconvert_exporter": "python",
   "pygments_lexer": "ipython3",
   "version": "3.6.12"
  },
  "papermill": {
   "duration": 95.293801,
   "end_time": "2021-01-03T20:12:30.364249",
   "environment_variables": {},
   "exception": null,
   "input_path": "2020-08-11-NeuralNetwork.ipynb",
   "output_path": "2020-08-11-NeuralNetwork.ipynb",
   "parameters": {},
   "start_time": "2021-01-03T20:10:55.070448",
   "version": "2.1.2"
  }
 },
 "nbformat": 4,
 "nbformat_minor": 4
}