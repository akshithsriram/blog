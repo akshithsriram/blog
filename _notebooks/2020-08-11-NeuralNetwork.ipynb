{
 "cells": [
  {
   "cell_type": "markdown",
   "id": "fitted-suggestion",
   "metadata": {
    "papermill": {
     "duration": 0.036182,
     "end_time": "2021-07-24T20:05:01.137257",
     "exception": false,
     "start_time": "2021-07-24T20:05:01.101075",
     "status": "completed"
    },
    "tags": []
   },
   "source": [
    "# \"A Basic Neural Network: Differentiate Hand-Written Digits\"\n",
    "\n",
    "- badges: true\n",
    "- author: Akshith Sriram"
   ]
  },
  {
   "cell_type": "markdown",
   "id": "signal-flexibility",
   "metadata": {
    "papermill": {
     "duration": 0.027428,
     "end_time": "2021-07-24T20:05:01.193446",
     "exception": false,
     "start_time": "2021-07-24T20:05:01.166018",
     "status": "completed"
    },
    "tags": []
   },
   "source": [
    "### Key Objectives:\n",
    "- Building a neural network that differentiates two hand-written digits 3 and 8.\n",
    "- Comparing the results of this Neural Network (NN) to that of a Logistic Regression (LR) model.\n",
    "\n",
    "### Requirements:\n",
    "- 'Kudzu' : A neural network library that was designed during our course by [Univ.AI](www.univ.ai). \n",
    "- MNIST Database\n",
    "\n",
    "If MNIST is not installed, use the command `!pip install mnist` given below.\n",
    "It can be run both from the command line and Jupyter Notebook."
   ]
  },
  {
   "cell_type": "code",
   "execution_count": 1,
   "id": "british-texture",
   "metadata": {
    "execution": {
     "iopub.execute_input": "2021-07-24T20:05:01.262668Z",
     "iopub.status.busy": "2021-07-24T20:05:01.262055Z",
     "iopub.status.idle": "2021-07-24T20:05:02.788440Z",
     "shell.execute_reply": "2021-07-24T20:05:02.787777Z"
    },
    "papermill": {
     "duration": 1.567306,
     "end_time": "2021-07-24T20:05:02.788609",
     "exception": false,
     "start_time": "2021-07-24T20:05:01.221303",
     "status": "completed"
    },
    "tags": []
   },
   "outputs": [
    {
     "name": "stdout",
     "output_type": "stream",
     "text": [
      "Collecting mnist\r\n"
     ]
    },
    {
     "name": "stdout",
     "output_type": "stream",
     "text": [
      "  Downloading mnist-0.2.2-py2.py3-none-any.whl (3.5 kB)\r\n",
      "Requirement already satisfied: numpy in /opt/hostedtoolcache/Python/3.6.14/x64/lib/python3.6/site-packages (from mnist) (1.19.5)\r\n"
     ]
    },
    {
     "name": "stdout",
     "output_type": "stream",
     "text": [
      "Installing collected packages: mnist\r\n"
     ]
    },
    {
     "name": "stdout",
     "output_type": "stream",
     "text": [
      "Successfully installed mnist-0.2.2\r\n"
     ]
    }
   ],
   "source": [
    "!pip install mnist "
   ]
  },
  {
   "cell_type": "markdown",
   "id": "stunning-extra",
   "metadata": {
    "papermill": {
     "duration": 0.028461,
     "end_time": "2021-07-24T20:05:02.846645",
     "exception": false,
     "start_time": "2021-07-24T20:05:02.818184",
     "status": "completed"
    },
    "tags": []
   },
   "source": [
    "#### Importing necessary libraries"
   ]
  },
  {
   "cell_type": "code",
   "execution_count": 2,
   "id": "wooden-france",
   "metadata": {
    "execution": {
     "iopub.execute_input": "2021-07-24T20:05:02.913065Z",
     "iopub.status.busy": "2021-07-24T20:05:02.912485Z",
     "iopub.status.idle": "2021-07-24T20:05:03.466089Z",
     "shell.execute_reply": "2021-07-24T20:05:03.465516Z"
    },
    "papermill": {
     "duration": 0.590356,
     "end_time": "2021-07-24T20:05:03.466256",
     "exception": false,
     "start_time": "2021-07-24T20:05:02.875900",
     "status": "completed"
    },
    "tags": []
   },
   "outputs": [],
   "source": [
    "%load_ext autoreload\n",
    "%autoreload 2\n",
    "\n",
    "%matplotlib inline\n",
    "import matplotlib.pyplot as plt\n",
    "\n",
    "import numpy as np\n",
    "import pandas as pd"
   ]
  },
  {
   "cell_type": "markdown",
   "id": "stunning-physics",
   "metadata": {
    "papermill": {
     "duration": 0.030406,
     "end_time": "2021-07-24T20:05:03.531194",
     "exception": false,
     "start_time": "2021-07-24T20:05:03.500788",
     "status": "completed"
    },
    "tags": []
   },
   "source": [
    "### Preparing the Data"
   ]
  },
  {
   "cell_type": "code",
   "execution_count": 3,
   "id": "unauthorized-remainder",
   "metadata": {
    "execution": {
     "iopub.execute_input": "2021-07-24T20:05:03.599783Z",
     "iopub.status.busy": "2021-07-24T20:05:03.599184Z",
     "iopub.status.idle": "2021-07-24T20:05:03.612041Z",
     "shell.execute_reply": "2021-07-24T20:05:03.611508Z"
    },
    "papermill": {
     "duration": 0.050226,
     "end_time": "2021-07-24T20:05:03.612173",
     "exception": false,
     "start_time": "2021-07-24T20:05:03.561947",
     "status": "completed"
    },
    "tags": []
   },
   "outputs": [],
   "source": [
    "import mnist"
   ]
  },
  {
   "cell_type": "code",
   "execution_count": 4,
   "id": "correct-antarctica",
   "metadata": {
    "execution": {
     "iopub.execute_input": "2021-07-24T20:05:03.679583Z",
     "iopub.status.busy": "2021-07-24T20:05:03.679011Z",
     "iopub.status.idle": "2021-07-24T20:05:29.921461Z",
     "shell.execute_reply": "2021-07-24T20:05:29.920925Z"
    },
    "papermill": {
     "duration": 26.277058,
     "end_time": "2021-07-24T20:05:29.921594",
     "exception": false,
     "start_time": "2021-07-24T20:05:03.644536",
     "status": "completed"
    },
    "tags": []
   },
   "outputs": [],
   "source": [
    "train_images = mnist.train_images()\n",
    "train_labels = mnist.train_labels()"
   ]
  },
  {
   "cell_type": "code",
   "execution_count": 5,
   "id": "musical-prospect",
   "metadata": {
    "execution": {
     "iopub.execute_input": "2021-07-24T20:05:29.988406Z",
     "iopub.status.busy": "2021-07-24T20:05:29.987809Z",
     "iopub.status.idle": "2021-07-24T20:05:30.002758Z",
     "shell.execute_reply": "2021-07-24T20:05:30.003322Z"
    },
    "papermill": {
     "duration": 0.050657,
     "end_time": "2021-07-24T20:05:30.003459",
     "exception": false,
     "start_time": "2021-07-24T20:05:29.952802",
     "status": "completed"
    },
    "tags": []
   },
   "outputs": [
    {
     "data": {
      "text/plain": [
       "((60000, 28, 28), (60000,))"
      ]
     },
     "execution_count": 5,
     "metadata": {},
     "output_type": "execute_result"
    }
   ],
   "source": [
    "train_images.shape, train_labels.shape"
   ]
  },
  {
   "cell_type": "code",
   "execution_count": 6,
   "id": "preliminary-elizabeth",
   "metadata": {
    "execution": {
     "iopub.execute_input": "2021-07-24T20:05:30.067847Z",
     "iopub.status.busy": "2021-07-24T20:05:30.067282Z",
     "iopub.status.idle": "2021-07-24T20:05:33.637069Z",
     "shell.execute_reply": "2021-07-24T20:05:33.635753Z"
    },
    "papermill": {
     "duration": 3.603574,
     "end_time": "2021-07-24T20:05:33.637230",
     "exception": false,
     "start_time": "2021-07-24T20:05:30.033656",
     "status": "completed"
    },
    "tags": []
   },
   "outputs": [],
   "source": [
    "test_images = mnist.test_images()\n",
    "test_labels = mnist.test_labels()"
   ]
  },
  {
   "cell_type": "code",
   "execution_count": 7,
   "id": "acknowledged-oxygen",
   "metadata": {
    "execution": {
     "iopub.execute_input": "2021-07-24T20:05:33.703215Z",
     "iopub.status.busy": "2021-07-24T20:05:33.702677Z",
     "iopub.status.idle": "2021-07-24T20:05:33.715162Z",
     "shell.execute_reply": "2021-07-24T20:05:33.714687Z"
    },
    "papermill": {
     "duration": 0.046598,
     "end_time": "2021-07-24T20:05:33.715284",
     "exception": false,
     "start_time": "2021-07-24T20:05:33.668686",
     "status": "completed"
    },
    "tags": []
   },
   "outputs": [
    {
     "data": {
      "text/plain": [
       "((10000, 28, 28), (10000,))"
      ]
     },
     "execution_count": 7,
     "metadata": {},
     "output_type": "execute_result"
    }
   ],
   "source": [
    "test_images.shape, test_labels.shape"
   ]
  },
  {
   "cell_type": "code",
   "execution_count": 8,
   "id": "innovative-organic",
   "metadata": {
    "execution": {
     "iopub.execute_input": "2021-07-24T20:05:33.780422Z",
     "iopub.status.busy": "2021-07-24T20:05:33.779844Z",
     "iopub.status.idle": "2021-07-24T20:05:33.926973Z",
     "shell.execute_reply": "2021-07-24T20:05:33.926535Z"
    },
    "papermill": {
     "duration": 0.180323,
     "end_time": "2021-07-24T20:05:33.927088",
     "exception": false,
     "start_time": "2021-07-24T20:05:33.746765",
     "status": "completed"
    },
    "tags": []
   },
   "outputs": [
    {
     "name": "stdout",
     "output_type": "stream",
     "text": [
      "2\n"
     ]
    },
    {
     "data": {
      "text/plain": [
       "<matplotlib.image.AxesImage at 0x7f936b2bc550>"
      ]
     },
     "execution_count": 8,
     "metadata": {},
     "output_type": "execute_result"
    },
    {
     "data": {
      "image/png": "[encoded data removed]",
      "text/plain": [
       "<Figure size 432x288 with 1 Axes>"
      ]
     },
     "metadata": {
      "needs_background": "light"
     },
     "output_type": "display_data"
    }
   ],
   "source": [
    "image_index = 7776 # You may select anything up to 60,000\n",
    "print(train_labels[image_index]) \n",
    "plt.imshow(train_images[image_index], cmap='Greys')"
   ]
  },
  {
   "cell_type": "markdown",
   "id": "facial-modem",
   "metadata": {
    "papermill": {
     "duration": 0.031317,
     "end_time": "2021-07-24T20:05:33.989497",
     "exception": false,
     "start_time": "2021-07-24T20:05:33.958180",
     "status": "completed"
    },
    "tags": []
   },
   "source": [
    "## Filter data to get 3 and 8 out"
   ]
  },
  {
   "cell_type": "code",
   "execution_count": 9,
   "id": "thousand-acquisition",
   "metadata": {
    "execution": {
     "iopub.execute_input": "2021-07-24T20:05:34.054957Z",
     "iopub.status.busy": "2021-07-24T20:05:34.053795Z",
     "iopub.status.idle": "2021-07-24T20:05:34.069751Z",
     "shell.execute_reply": "2021-07-24T20:05:34.069283Z"
    },
    "papermill": {
     "duration": 0.050124,
     "end_time": "2021-07-24T20:05:34.069860",
     "exception": false,
     "start_time": "2021-07-24T20:05:34.019736",
     "status": "completed"
    },
    "tags": []
   },
   "outputs": [],
   "source": [
    "train_filter = np.where((train_labels == 3 ) | (train_labels == 8))\n",
    "test_filter = np.where((test_labels == 3) | (test_labels == 8))\n",
    "X_train, y_train = train_images[train_filter], train_labels[train_filter]\n",
    "X_test, y_test = test_images[test_filter], test_labels[test_filter]"
   ]
  },
  {
   "cell_type": "markdown",
   "id": "ruled-access",
   "metadata": {
    "papermill": {
     "duration": 0.0303,
     "end_time": "2021-07-24T20:05:34.131512",
     "exception": false,
     "start_time": "2021-07-24T20:05:34.101212",
     "status": "completed"
    },
    "tags": []
   },
   "source": [
    "We normalize the pixel values in the 0 to 1 range"
   ]
  },
  {
   "cell_type": "code",
   "execution_count": 10,
   "id": "isolated-denver",
   "metadata": {
    "execution": {
     "iopub.execute_input": "2021-07-24T20:05:34.202943Z",
     "iopub.status.busy": "2021-07-24T20:05:34.197104Z",
     "iopub.status.idle": "2021-07-24T20:05:34.248987Z",
     "shell.execute_reply": "2021-07-24T20:05:34.248444Z"
    },
    "papermill": {
     "duration": 0.086877,
     "end_time": "2021-07-24T20:05:34.249118",
     "exception": false,
     "start_time": "2021-07-24T20:05:34.162241",
     "status": "completed"
    },
    "tags": []
   },
   "outputs": [],
   "source": [
    "X_train = X_train/255.\n",
    "X_test = X_test/255."
   ]
  },
  {
   "cell_type": "markdown",
   "id": "perfect-summary",
   "metadata": {
    "papermill": {
     "duration": 0.03036,
     "end_time": "2021-07-24T20:05:34.310172",
     "exception": false,
     "start_time": "2021-07-24T20:05:34.279812",
     "status": "completed"
    },
    "tags": []
   },
   "source": [
    "Setup the labels as 1 (when the digit is 3) and 0 (when the digit is 8)"
   ]
  },
  {
   "cell_type": "code",
   "execution_count": 11,
   "id": "personalized-growing",
   "metadata": {
    "execution": {
     "iopub.execute_input": "2021-07-24T20:05:34.374975Z",
     "iopub.status.busy": "2021-07-24T20:05:34.373850Z",
     "iopub.status.idle": "2021-07-24T20:05:34.386773Z",
     "shell.execute_reply": "2021-07-24T20:05:34.386172Z"
    },
    "papermill": {
     "duration": 0.047145,
     "end_time": "2021-07-24T20:05:34.386890",
     "exception": false,
     "start_time": "2021-07-24T20:05:34.339745",
     "status": "completed"
    },
    "tags": []
   },
   "outputs": [],
   "source": [
    "y_train = 1*(y_train==3)\n",
    "y_test = 1*(y_test==3)"
   ]
  },
  {
   "cell_type": "code",
   "execution_count": 12,
   "id": "considered-virgin",
   "metadata": {
    "execution": {
     "iopub.execute_input": "2021-07-24T20:05:34.457065Z",
     "iopub.status.busy": "2021-07-24T20:05:34.456536Z",
     "iopub.status.idle": "2021-07-24T20:05:34.470306Z",
     "shell.execute_reply": "2021-07-24T20:05:34.469746Z"
    },
    "papermill": {
     "duration": 0.051909,
     "end_time": "2021-07-24T20:05:34.470427",
     "exception": false,
     "start_time": "2021-07-24T20:05:34.418518",
     "status": "completed"
    },
    "tags": []
   },
   "outputs": [
    {
     "data": {
      "text/plain": [
       "((11982, 28, 28), (1984, 28, 28))"
      ]
     },
     "execution_count": 12,
     "metadata": {},
     "output_type": "execute_result"
    }
   ],
   "source": [
    "X_train.shape, X_test.shape"
   ]
  },
  {
   "cell_type": "markdown",
   "id": "civilian-mobile",
   "metadata": {
    "papermill": {
     "duration": 0.032376,
     "end_time": "2021-07-24T20:05:34.536717",
     "exception": false,
     "start_time": "2021-07-24T20:05:34.504341",
     "status": "completed"
    },
    "tags": []
   },
   "source": [
    "### Reshape the input data to create a linear array"
   ]
  },
  {
   "cell_type": "code",
   "execution_count": 13,
   "id": "colonial-adams",
   "metadata": {
    "execution": {
     "iopub.execute_input": "2021-07-24T20:05:34.606953Z",
     "iopub.status.busy": "2021-07-24T20:05:34.604514Z",
     "iopub.status.idle": "2021-07-24T20:05:34.618640Z",
     "shell.execute_reply": "2021-07-24T20:05:34.618173Z"
    },
    "papermill": {
     "duration": 0.04877,
     "end_time": "2021-07-24T20:05:34.618766",
     "exception": false,
     "start_time": "2021-07-24T20:05:34.569996",
     "status": "completed"
    },
    "tags": []
   },
   "outputs": [
    {
     "data": {
      "text/plain": [
       "((11982, 784), (1984, 784))"
      ]
     },
     "execution_count": 13,
     "metadata": {},
     "output_type": "execute_result"
    }
   ],
   "source": [
    "X_train = X_train.reshape(X_train.shape[0], -1)\n",
    "X_test = X_test.reshape(X_test.shape[0], -1)\n",
    "X_train.shape, X_test.shape"
   ]
  },
  {
   "cell_type": "markdown",
   "id": "smart-details",
   "metadata": {
    "papermill": {
     "duration": 0.031458,
     "end_time": "2021-07-24T20:05:34.681977",
     "exception": false,
     "start_time": "2021-07-24T20:05:34.650519",
     "status": "completed"
    },
    "tags": []
   },
   "source": [
    "### Importing appropriate functions from 'Kudzu'"
   ]
  },
  {
   "cell_type": "code",
   "execution_count": 14,
   "id": "celtic-trial",
   "metadata": {
    "execution": {
     "iopub.execute_input": "2021-07-24T20:05:34.758840Z",
     "iopub.status.busy": "2021-07-24T20:05:34.755452Z",
     "iopub.status.idle": "2021-07-24T20:05:34.772587Z",
     "shell.execute_reply": "2021-07-24T20:05:34.772123Z"
    },
    "papermill": {
     "duration": 0.057887,
     "end_time": "2021-07-24T20:05:34.772702",
     "exception": false,
     "start_time": "2021-07-24T20:05:34.714815",
     "status": "completed"
    },
    "tags": []
   },
   "outputs": [],
   "source": [
    "from kudzu.layer import Sigmoid\n",
    "from kudzu.layer import Relu\n",
    "from kudzu.layer import Affine, Sigmoid\n",
    "\n",
    "from kudzu.model import Model\n",
    "from kudzu.train import Learner\n",
    "from kudzu.optim import GD\n",
    "from kudzu.data import Data, Dataloader, Sampler\n",
    "\n",
    "from kudzu.callbacks import AccCallback\n",
    "from kudzu.callbacks import ClfCallback\n",
    "\n",
    "from kudzu.loss import MSE"
   ]
  },
  {
   "cell_type": "markdown",
   "id": "coupled-customer",
   "metadata": {
    "papermill": {
     "duration": 0.037329,
     "end_time": "2021-07-24T20:05:34.842284",
     "exception": false,
     "start_time": "2021-07-24T20:05:34.804955",
     "status": "completed"
    },
    "tags": []
   },
   "source": [
    "### Let us create a `Config` class, to store important parameters. \n",
    "This class essentially plays the role of a dictionary."
   ]
  },
  {
   "cell_type": "code",
   "execution_count": 15,
   "id": "young-ceiling",
   "metadata": {
    "execution": {
     "iopub.execute_input": "2021-07-24T20:05:34.910868Z",
     "iopub.status.busy": "2021-07-24T20:05:34.910320Z",
     "iopub.status.idle": "2021-07-24T20:05:34.922513Z",
     "shell.execute_reply": "2021-07-24T20:05:34.922017Z"
    },
    "papermill": {
     "duration": 0.047668,
     "end_time": "2021-07-24T20:05:34.922643",
     "exception": false,
     "start_time": "2021-07-24T20:05:34.874975",
     "status": "completed"
    },
    "tags": []
   },
   "outputs": [],
   "source": [
    "class Config:\n",
    "    pass\n",
    "config = Config()\n",
    "config.lr = 0.001\n",
    "config.num_epochs = 251\n",
    "config.bs = 50"
   ]
  },
  {
   "cell_type": "markdown",
   "id": "according-mandate",
   "metadata": {
    "papermill": {
     "duration": 0.033014,
     "end_time": "2021-07-24T20:05:34.986351",
     "exception": false,
     "start_time": "2021-07-24T20:05:34.953337",
     "status": "completed"
    },
    "tags": []
   },
   "source": [
    "### Initializing data to the variables"
   ]
  },
  {
   "cell_type": "code",
   "execution_count": 16,
   "id": "academic-disposition",
   "metadata": {
    "execution": {
     "iopub.execute_input": "2021-07-24T20:05:35.052536Z",
     "iopub.status.busy": "2021-07-24T20:05:35.051964Z",
     "iopub.status.idle": "2021-07-24T20:05:35.064907Z",
     "shell.execute_reply": "2021-07-24T20:05:35.064468Z"
    },
    "papermill": {
     "duration": 0.047716,
     "end_time": "2021-07-24T20:05:35.065018",
     "exception": false,
     "start_time": "2021-07-24T20:05:35.017302",
     "status": "completed"
    },
    "tags": []
   },
   "outputs": [],
   "source": [
    "data = Data(X_train, y_train.reshape(-1,1))\n",
    "sampler = Sampler(data, config.bs, shuffle=True)\n",
    "\n",
    "dl = Dataloader(data, sampler)\n",
    "\n",
    "opt = GD(config.lr)\n",
    "loss = MSE()"
   ]
  },
  {
   "cell_type": "code",
   "execution_count": 17,
   "id": "featured-commission",
   "metadata": {
    "execution": {
     "iopub.execute_input": "2021-07-24T20:05:35.136672Z",
     "iopub.status.busy": "2021-07-24T20:05:35.136137Z",
     "iopub.status.idle": "2021-07-24T20:05:35.149700Z",
     "shell.execute_reply": "2021-07-24T20:05:35.150302Z"
    },
    "papermill": {
     "duration": 0.048851,
     "end_time": "2021-07-24T20:05:35.150437",
     "exception": false,
     "start_time": "2021-07-24T20:05:35.101586",
     "status": "completed"
    },
    "tags": []
   },
   "outputs": [],
   "source": [
    "training_xdata = X_train\n",
    "testing_xdata = X_test\n",
    "training_ydata = y_train.reshape(-1,1)\n",
    "testing_ydata = y_test.reshape(-1,1)"
   ]
  },
  {
   "cell_type": "markdown",
   "id": "played-safety",
   "metadata": {
    "papermill": {
     "duration": 0.031197,
     "end_time": "2021-07-24T20:05:35.215050",
     "exception": false,
     "start_time": "2021-07-24T20:05:35.183853",
     "status": "completed"
    },
    "tags": []
   },
   "source": [
    "### Running Models with the Training data\n",
    "Details about the network layers:\n",
    "- A first affine layer has 784 inputs and does 100 affine transforms. These are followed by a Relu\n",
    "- A second affine layer has 100 inputs from the 100 activations of the past layer, and does 100 affine transforms. These are followed by a Relu\n",
    "- A third affine layer has 100 activations and does 2 affine transformations to create an embedding for visualization. There is no non-linearity here.\n",
    "- A final \"logistic regression\" which has an affine transform from 2 inputs to 1 output, which is squeezed through a sigmoid.\n",
    "\n",
    "Help taken from Anshuman's Notebook."
   ]
  },
  {
   "cell_type": "code",
   "execution_count": 18,
   "id": "asian-bankruptcy",
   "metadata": {
    "execution": {
     "iopub.execute_input": "2021-07-24T20:05:35.285844Z",
     "iopub.status.busy": "2021-07-24T20:05:35.285244Z",
     "iopub.status.idle": "2021-07-24T20:05:35.300154Z",
     "shell.execute_reply": "2021-07-24T20:05:35.300651Z"
    },
    "papermill": {
     "duration": 0.054185,
     "end_time": "2021-07-24T20:05:35.300784",
     "exception": false,
     "start_time": "2021-07-24T20:05:35.246599",
     "status": "completed"
    },
    "tags": []
   },
   "outputs": [],
   "source": [
    "# layers for the Neural Network\n",
    "layers = [Affine(\"first\", 784, 100), Relu(\"first\"), Affine(\"second\", 100, 100), Relu(\"second\"), Affine(\"third\", 100, 2), Affine(\"final\", 2, 1), Sigmoid(\"final\")]\n",
    "model_nn = Model(layers)\n",
    "\n",
    "# layers for the Logistic Regression\n",
    "layers_lr = [Affine(\"logits\", 784, 1), Sigmoid(\"sigmoid\")]\n",
    "model_lr = Model(layers_lr)"
   ]
  },
  {
   "cell_type": "code",
   "execution_count": 19,
   "id": "removed-butler",
   "metadata": {
    "execution": {
     "iopub.execute_input": "2021-07-24T20:05:35.371576Z",
     "iopub.status.busy": "2021-07-24T20:05:35.370995Z",
     "iopub.status.idle": "2021-07-24T20:05:35.383785Z",
     "shell.execute_reply": "2021-07-24T20:05:35.383242Z"
    },
    "papermill": {
     "duration": 0.050164,
     "end_time": "2021-07-24T20:05:35.383909",
     "exception": false,
     "start_time": "2021-07-24T20:05:35.333745",
     "status": "completed"
    },
    "tags": []
   },
   "outputs": [],
   "source": [
    "# suffix _nn stands for Neural Network.\n",
    "learner_nn = Learner(loss, model_nn, opt, config.num_epochs)\n",
    "acc_nn = ClfCallback(learner_nn, config.bs, training_xdata , testing_xdata, training_ydata, testing_ydata)\n",
    "learner_nn.set_callbacks([acc_nn])"
   ]
  },
  {
   "cell_type": "code",
   "execution_count": 20,
   "id": "conceptual-throw",
   "metadata": {
    "execution": {
     "iopub.execute_input": "2021-07-24T20:05:35.453033Z",
     "iopub.status.busy": "2021-07-24T20:05:35.452460Z",
     "iopub.status.idle": "2021-07-24T20:07:02.085416Z",
     "shell.execute_reply": "2021-07-24T20:07:02.086243Z"
    },
    "papermill": {
     "duration": 86.668904,
     "end_time": "2021-07-24T20:07:02.086403",
     "exception": false,
     "start_time": "2021-07-24T20:05:35.417499",
     "status": "completed"
    },
    "tags": []
   },
   "outputs": [
    {
     "name": "stdout",
     "output_type": "stream",
     "text": [
      "====== Neural Network ======\n"
     ]
    },
    {
     "name": "stdout",
     "output_type": "stream",
     "text": [
      "Epoch 0, Loss 0.2489\n",
      "Training Accuracy: 0.5825, Testing Accuracy: 0.6003\n",
      "\n"
     ]
    },
    {
     "name": "stdout",
     "output_type": "stream",
     "text": [
      "Epoch 10, Loss 0.1096\n",
      "Training Accuracy: 0.9114, Testing Accuracy: 0.9244\n",
      "\n"
     ]
    },
    {
     "name": "stdout",
     "output_type": "stream",
     "text": [
      "Epoch 20, Loss 0.0621\n",
      "Training Accuracy: 0.9374, Testing Accuracy: 0.9496\n",
      "\n"
     ]
    },
    {
     "name": "stdout",
     "output_type": "stream",
     "text": [
      "Epoch 30, Loss 0.047\n",
      "Training Accuracy: 0.9486, Testing Accuracy: 0.9607\n",
      "\n"
     ]
    },
    {
     "name": "stdout",
     "output_type": "stream",
     "text": [
      "Epoch 40, Loss 0.0398\n",
      "Training Accuracy: 0.9558, Testing Accuracy: 0.9652\n",
      "\n"
     ]
    },
    {
     "name": "stdout",
     "output_type": "stream",
     "text": [
      "Epoch 50, Loss 0.0355\n",
      "Training Accuracy: 0.9599, Testing Accuracy: 0.9667\n",
      "\n"
     ]
    },
    {
     "name": "stdout",
     "output_type": "stream",
     "text": [
      "Epoch 60, Loss 0.0325\n",
      "Training Accuracy: 0.9619, Testing Accuracy: 0.9677\n",
      "\n"
     ]
    },
    {
     "name": "stdout",
     "output_type": "stream",
     "text": [
      "Epoch 70, Loss 0.0304\n",
      "Training Accuracy: 0.9644, Testing Accuracy: 0.9682\n",
      "\n"
     ]
    },
    {
     "name": "stdout",
     "output_type": "stream",
     "text": [
      "Epoch 80, Loss 0.0288\n",
      "Training Accuracy: 0.9655, Testing Accuracy: 0.9688\n",
      "\n"
     ]
    },
    {
     "name": "stdout",
     "output_type": "stream",
     "text": [
      "Epoch 90, Loss 0.0274\n",
      "Training Accuracy: 0.9673, Testing Accuracy: 0.9693\n",
      "\n"
     ]
    },
    {
     "name": "stdout",
     "output_type": "stream",
     "text": [
      "Epoch 100, Loss 0.0263\n",
      "Training Accuracy: 0.9694, Testing Accuracy: 0.9708\n",
      "\n"
     ]
    },
    {
     "name": "stdout",
     "output_type": "stream",
     "text": [
      "Epoch 110, Loss 0.0254\n",
      "Training Accuracy: 0.9709, Testing Accuracy: 0.9708\n",
      "\n"
     ]
    },
    {
     "name": "stdout",
     "output_type": "stream",
     "text": [
      "Epoch 120, Loss 0.0245\n",
      "Training Accuracy: 0.9715, Testing Accuracy: 0.9723\n",
      "\n"
     ]
    },
    {
     "name": "stdout",
     "output_type": "stream",
     "text": [
      "Epoch 130, Loss 0.0238\n",
      "Training Accuracy: 0.9720, Testing Accuracy: 0.9728\n",
      "\n"
     ]
    },
    {
     "name": "stdout",
     "output_type": "stream",
     "text": [
      "Epoch 140, Loss 0.0231\n",
      "Training Accuracy: 0.9730, Testing Accuracy: 0.9728\n",
      "\n"
     ]
    },
    {
     "name": "stdout",
     "output_type": "stream",
     "text": [
      "Epoch 150, Loss 0.0225\n",
      "Training Accuracy: 0.9736, Testing Accuracy: 0.9738\n",
      "\n"
     ]
    },
    {
     "name": "stdout",
     "output_type": "stream",
     "text": [
      "Epoch 160, Loss 0.0219\n",
      "Training Accuracy: 0.9746, Testing Accuracy: 0.9748\n",
      "\n"
     ]
    },
    {
     "name": "stdout",
     "output_type": "stream",
     "text": [
      "Epoch 170, Loss 0.0214\n",
      "Training Accuracy: 0.9753, Testing Accuracy: 0.9753\n",
      "\n"
     ]
    },
    {
     "name": "stdout",
     "output_type": "stream",
     "text": [
      "Epoch 180, Loss 0.0209\n",
      "Training Accuracy: 0.9759, Testing Accuracy: 0.9748\n",
      "\n"
     ]
    },
    {
     "name": "stdout",
     "output_type": "stream",
     "text": [
      "Epoch 190, Loss 0.0204\n",
      "Training Accuracy: 0.9765, Testing Accuracy: 0.9748\n",
      "\n"
     ]
    },
    {
     "name": "stdout",
     "output_type": "stream",
     "text": [
      "Epoch 200, Loss 0.02\n",
      "Training Accuracy: 0.9770, Testing Accuracy: 0.9748\n",
      "\n"
     ]
    },
    {
     "name": "stdout",
     "output_type": "stream",
     "text": [
      "Epoch 210, Loss 0.0196\n",
      "Training Accuracy: 0.9780, Testing Accuracy: 0.9758\n",
      "\n"
     ]
    },
    {
     "name": "stdout",
     "output_type": "stream",
     "text": [
      "Epoch 220, Loss 0.0191\n",
      "Training Accuracy: 0.9789, Testing Accuracy: 0.9778\n",
      "\n"
     ]
    },
    {
     "name": "stdout",
     "output_type": "stream",
     "text": [
      "Epoch 230, Loss 0.0188\n",
      "Training Accuracy: 0.9793, Testing Accuracy: 0.9778\n",
      "\n"
     ]
    },
    {
     "name": "stdout",
     "output_type": "stream",
     "text": [
      "Epoch 240, Loss 0.0184\n",
      "Training Accuracy: 0.9798, Testing Accuracy: 0.9778\n",
      "\n"
     ]
    },
    {
     "name": "stdout",
     "output_type": "stream",
     "text": [
      "Epoch 250, Loss 0.018\n",
      "Training Accuracy: 0.9798, Testing Accuracy: 0.9773\n",
      "\n"
     ]
    },
    {
     "data": {
      "text/plain": [
       "0.02602034476775276"
      ]
     },
     "execution_count": 20,
     "metadata": {},
     "output_type": "execute_result"
    }
   ],
   "source": [
    "print(\"====== Neural Network ======\")\n",
    "learner_nn.train_loop(dl)"
   ]
  },
  {
   "cell_type": "markdown",
   "id": "competent-suffering",
   "metadata": {
    "papermill": {
     "duration": 0.040285,
     "end_time": "2021-07-24T20:07:02.167884",
     "exception": false,
     "start_time": "2021-07-24T20:07:02.127599",
     "status": "completed"
    },
    "tags": []
   },
   "source": [
    "### Logistic Regression based Implementation."
   ]
  },
  {
   "cell_type": "code",
   "execution_count": 21,
   "id": "qualified-psychiatry",
   "metadata": {
    "execution": {
     "iopub.execute_input": "2021-07-24T20:07:02.259422Z",
     "iopub.status.busy": "2021-07-24T20:07:02.258809Z",
     "iopub.status.idle": "2021-07-24T20:07:02.264994Z",
     "shell.execute_reply": "2021-07-24T20:07:02.264481Z"
    },
    "papermill": {
     "duration": 0.057077,
     "end_time": "2021-07-24T20:07:02.265123",
     "exception": false,
     "start_time": "2021-07-24T20:07:02.208046",
     "status": "completed"
    },
    "tags": []
   },
   "outputs": [],
   "source": [
    "learner_lr = Learner(loss, model_lr, opt, config.num_epochs)\n",
    "acc_lr = ClfCallback(learner_lr, config.bs, training_xdata , testing_xdata, training_ydata, testing_ydata)\n",
    "learner_lr.set_callbacks([acc_lr])"
   ]
  },
  {
   "cell_type": "code",
   "execution_count": 22,
   "id": "average-outside",
   "metadata": {
    "execution": {
     "iopub.execute_input": "2021-07-24T20:07:02.351810Z",
     "iopub.status.busy": "2021-07-24T20:07:02.351214Z",
     "iopub.status.idle": "2021-07-24T20:07:17.781519Z",
     "shell.execute_reply": "2021-07-24T20:07:17.782324Z"
    },
    "papermill": {
     "duration": 15.476956,
     "end_time": "2021-07-24T20:07:17.782484",
     "exception": false,
     "start_time": "2021-07-24T20:07:02.305528",
     "status": "completed"
    },
    "tags": []
   },
   "outputs": [
    {
     "name": "stdout",
     "output_type": "stream",
     "text": [
      "====== Logistic Regression ======\n",
      "Epoch 0, Loss 0.2634\n",
      "Training Accuracy: 0.5889, Testing Accuracy: 0.5721\n",
      "\n"
     ]
    },
    {
     "name": "stdout",
     "output_type": "stream",
     "text": [
      "Epoch 10, Loss 0.103\n",
      "Training Accuracy: 0.9117, Testing Accuracy: 0.9214\n",
      "\n"
     ]
    },
    {
     "name": "stdout",
     "output_type": "stream",
     "text": [
      "Epoch 20, Loss 0.0785\n",
      "Training Accuracy: 0.9271, Testing Accuracy: 0.9375\n",
      "\n"
     ]
    },
    {
     "name": "stdout",
     "output_type": "stream",
     "text": [
      "Epoch 30, Loss 0.0676\n",
      "Training Accuracy: 0.9362, Testing Accuracy: 0.9476\n",
      "\n"
     ]
    },
    {
     "name": "stdout",
     "output_type": "stream",
     "text": [
      "Epoch 40, Loss 0.0611\n",
      "Training Accuracy: 0.9427, Testing Accuracy: 0.9521\n",
      "\n"
     ]
    },
    {
     "name": "stdout",
     "output_type": "stream",
     "text": [
      "Epoch 50, Loss 0.0566\n",
      "Training Accuracy: 0.9463, Testing Accuracy: 0.9551\n",
      "\n"
     ]
    },
    {
     "name": "stdout",
     "output_type": "stream",
     "text": [
      "Epoch 60, Loss 0.0534\n",
      "Training Accuracy: 0.9483, Testing Accuracy: 0.9572\n",
      "\n"
     ]
    },
    {
     "name": "stdout",
     "output_type": "stream",
     "text": [
      "Epoch 70, Loss 0.0508\n",
      "Training Accuracy: 0.9505, Testing Accuracy: 0.9597\n",
      "\n"
     ]
    },
    {
     "name": "stdout",
     "output_type": "stream",
     "text": [
      "Epoch 80, Loss 0.0488\n",
      "Training Accuracy: 0.9524, Testing Accuracy: 0.9597\n",
      "\n"
     ]
    },
    {
     "name": "stdout",
     "output_type": "stream",
     "text": [
      "Epoch 90, Loss 0.0471\n",
      "Training Accuracy: 0.9538, Testing Accuracy: 0.9607\n",
      "\n"
     ]
    },
    {
     "name": "stdout",
     "output_type": "stream",
     "text": [
      "Epoch 100, Loss 0.0457\n",
      "Training Accuracy: 0.9552, Testing Accuracy: 0.9607\n",
      "\n"
     ]
    },
    {
     "name": "stdout",
     "output_type": "stream",
     "text": [
      "Epoch 110, Loss 0.0445\n",
      "Training Accuracy: 0.9556, Testing Accuracy: 0.9617\n",
      "\n"
     ]
    },
    {
     "name": "stdout",
     "output_type": "stream",
     "text": [
      "Epoch 120, Loss 0.0435\n",
      "Training Accuracy: 0.9559, Testing Accuracy: 0.9617\n",
      "\n"
     ]
    },
    {
     "name": "stdout",
     "output_type": "stream",
     "text": [
      "Epoch 130, Loss 0.0425\n",
      "Training Accuracy: 0.9563, Testing Accuracy: 0.9627\n",
      "\n"
     ]
    },
    {
     "name": "stdout",
     "output_type": "stream",
     "text": [
      "Epoch 140, Loss 0.0417\n",
      "Training Accuracy: 0.9568, Testing Accuracy: 0.9637\n",
      "\n"
     ]
    },
    {
     "name": "stdout",
     "output_type": "stream",
     "text": [
      "Epoch 150, Loss 0.041\n",
      "Training Accuracy: 0.9575, Testing Accuracy: 0.9657\n",
      "\n"
     ]
    },
    {
     "name": "stdout",
     "output_type": "stream",
     "text": [
      "Epoch 160, Loss 0.0403\n",
      "Training Accuracy: 0.9581, Testing Accuracy: 0.9657\n",
      "\n"
     ]
    },
    {
     "name": "stdout",
     "output_type": "stream",
     "text": [
      "Epoch 170, Loss 0.0397\n",
      "Training Accuracy: 0.9587, Testing Accuracy: 0.9652\n",
      "\n"
     ]
    },
    {
     "name": "stdout",
     "output_type": "stream",
     "text": [
      "Epoch 180, Loss 0.0392\n",
      "Training Accuracy: 0.9593, Testing Accuracy: 0.9662\n",
      "\n"
     ]
    },
    {
     "name": "stdout",
     "output_type": "stream",
     "text": [
      "Epoch 190, Loss 0.0387\n",
      "Training Accuracy: 0.9592, Testing Accuracy: 0.9662\n",
      "\n"
     ]
    },
    {
     "name": "stdout",
     "output_type": "stream",
     "text": [
      "Epoch 200, Loss 0.0382\n",
      "Training Accuracy: 0.9597, Testing Accuracy: 0.9662\n",
      "\n"
     ]
    },
    {
     "name": "stdout",
     "output_type": "stream",
     "text": [
      "Epoch 210, Loss 0.0377\n",
      "Training Accuracy: 0.9599, Testing Accuracy: 0.9662\n",
      "\n"
     ]
    },
    {
     "name": "stdout",
     "output_type": "stream",
     "text": [
      "Epoch 220, Loss 0.0373\n",
      "Training Accuracy: 0.9604, Testing Accuracy: 0.9662\n",
      "\n"
     ]
    },
    {
     "name": "stdout",
     "output_type": "stream",
     "text": [
      "Epoch 230, Loss 0.037\n",
      "Training Accuracy: 0.9607, Testing Accuracy: 0.9662\n",
      "\n"
     ]
    },
    {
     "name": "stdout",
     "output_type": "stream",
     "text": [
      "Epoch 240, Loss 0.0366\n",
      "Training Accuracy: 0.9609, Testing Accuracy: 0.9662\n",
      "\n"
     ]
    },
    {
     "name": "stdout",
     "output_type": "stream",
     "text": [
      "Epoch 250, Loss 0.0363\n",
      "Training Accuracy: 0.9613, Testing Accuracy: 0.9662\n",
      "\n"
     ]
    },
    {
     "data": {
      "text/plain": [
       "0.028836432046520588"
      ]
     },
     "execution_count": 22,
     "metadata": {},
     "output_type": "execute_result"
    }
   ],
   "source": [
    "print(\"====== Logistic Regression ======\")\n",
    "learner_lr.train_loop(dl)"
   ]
  },
  {
   "cell_type": "markdown",
   "id": "adjusted-possible",
   "metadata": {
    "papermill": {
     "duration": 0.04771,
     "end_time": "2021-07-24T20:07:17.878593",
     "exception": false,
     "start_time": "2021-07-24T20:07:17.830883",
     "status": "completed"
    },
    "tags": []
   },
   "source": [
    "### Comparing results of NN and LR"
   ]
  },
  {
   "cell_type": "code",
   "execution_count": 23,
   "id": "mental-multimedia",
   "metadata": {
    "execution": {
     "iopub.execute_input": "2021-07-24T20:07:17.982536Z",
     "iopub.status.busy": "2021-07-24T20:07:17.981897Z",
     "iopub.status.idle": "2021-07-24T20:07:18.252028Z",
     "shell.execute_reply": "2021-07-24T20:07:18.252483Z"
    },
    "papermill": {
     "duration": 0.327399,
     "end_time": "2021-07-24T20:07:18.252627",
     "exception": false,
     "start_time": "2021-07-24T20:07:17.925228",
     "status": "completed"
    },
    "tags": []
   },
   "outputs": [
    {
     "data": {
      "text/plain": [
       "<matplotlib.legend.Legend at 0x7f935da92198>"
      ]
     },
     "execution_count": 23,
     "metadata": {},
     "output_type": "execute_result"
    },
    {
     "data": {
      "image/png": "[encoded data removed]",
      "text/plain": [
       "<Figure size 1080x720 with 1 Axes>"
      ]
     },
     "metadata": {
      "needs_background": "light"
     },
     "output_type": "display_data"
    }
   ],
   "source": [
    "plt.figure(figsize=(15,10))\n",
    "\n",
    "# Neural Network plots\n",
    "plt.plot(acc_nn.accuracies, 'r-', label = \"Training Accuracies - NN\")\n",
    "plt.plot(acc_nn.test_accuracies, 'g-', label = \"Testing Accuracies - NN\")\n",
    "\n",
    "# Logistic Regression plots\n",
    "plt.plot(acc_lr.accuracies, 'k-', label = \"Training Accuracies - LR\")\n",
    "plt.plot(acc_lr.test_accuracies, 'b-', label = \"Testing Accuracies - LR\")\n",
    "\n",
    "plt.ylim(0.8, 1)\n",
    "\n",
    "plt.legend()\n",
    "\n"
   ]
  },
  {
   "cell_type": "markdown",
   "id": "sexual-flesh",
   "metadata": {
    "papermill": {
     "duration": 0.049839,
     "end_time": "2021-07-24T20:07:18.351660",
     "exception": false,
     "start_time": "2021-07-24T20:07:18.301821",
     "status": "completed"
    },
    "tags": []
   },
   "source": [
    "### From the plot, we can observe the following:\n",
    "- Neural Network achieves higher accuracy than the Logistic Regression model.\n",
    "- This apparently, is because of overfitting, i.e. NN captures more noise than data.\n",
    "- Testing accuracy of NN drops below the Training accuracy at higher epochs. This explains the over-fitting on training data.\n",
    "- Logistic Regression gives a reliable accuracy, without the above mentioned problem.\n"
   ]
  },
  {
   "cell_type": "markdown",
   "id": "institutional-pacific",
   "metadata": {
    "papermill": {
     "duration": 0.049031,
     "end_time": "2021-07-24T20:07:18.450963",
     "exception": false,
     "start_time": "2021-07-24T20:07:18.401932",
     "status": "completed"
    },
    "tags": []
   },
   "source": [
    "### Moving till the last but one layer (excluding it).\n",
    "#### Plotting the outputs of this layer of the NN."
   ]
  },
  {
   "cell_type": "code",
   "execution_count": 24,
   "id": "economic-server",
   "metadata": {
    "execution": {
     "iopub.execute_input": "2021-07-24T20:07:18.554640Z",
     "iopub.status.busy": "2021-07-24T20:07:18.554050Z",
     "iopub.status.idle": "2021-07-24T20:07:18.566291Z",
     "shell.execute_reply": "2021-07-24T20:07:18.566768Z"
    },
    "papermill": {
     "duration": 0.066602,
     "end_time": "2021-07-24T20:07:18.566906",
     "exception": false,
     "start_time": "2021-07-24T20:07:18.500304",
     "status": "completed"
    },
    "tags": []
   },
   "outputs": [],
   "source": [
    "model_new = Model(layers[:-2])"
   ]
  },
  {
   "cell_type": "code",
   "execution_count": 25,
   "id": "varied-upgrade",
   "metadata": {
    "execution": {
     "iopub.execute_input": "2021-07-24T20:07:18.667497Z",
     "iopub.status.busy": "2021-07-24T20:07:18.666967Z",
     "iopub.status.idle": "2021-07-24T20:07:18.687956Z",
     "shell.execute_reply": "2021-07-24T20:07:18.688655Z"
    },
    "papermill": {
     "duration": 0.072624,
     "end_time": "2021-07-24T20:07:18.688801",
     "exception": false,
     "start_time": "2021-07-24T20:07:18.616177",
     "status": "completed"
    },
    "tags": []
   },
   "outputs": [],
   "source": [
    "plot_testing = model_new(testing_xdata)"
   ]
  },
  {
   "cell_type": "code",
   "execution_count": 26,
   "id": "specific-handling",
   "metadata": {
    "execution": {
     "iopub.execute_input": "2021-07-24T20:07:18.803353Z",
     "iopub.status.busy": "2021-07-24T20:07:18.802815Z",
     "iopub.status.idle": "2021-07-24T20:07:19.017215Z",
     "shell.execute_reply": "2021-07-24T20:07:19.016490Z"
    },
    "papermill": {
     "duration": 0.273265,
     "end_time": "2021-07-24T20:07:19.017347",
     "exception": false,
     "start_time": "2021-07-24T20:07:18.744082",
     "status": "completed"
    },
    "tags": []
   },
   "outputs": [
    {
     "data": {
      "text/plain": [
       "Text(0.5, 1.0, 'Outputs')"
      ]
     },
     "execution_count": 26,
     "metadata": {},
     "output_type": "execute_result"
    },
    {
     "data": {
      "image/png": "[encoded data removed]",
      "text/plain": [
       "<Figure size 576x504 with 1 Axes>"
      ]
     },
     "metadata": {
      "needs_background": "light"
     },
     "output_type": "display_data"
    }
   ],
   "source": [
    "plt.figure(figsize=(8,7))\n",
    "plt.scatter(plot_testing[:,0], plot_testing[:,1], alpha = 0.1, c = y_test.ravel());\n",
    "plt.title('Outputs')"
   ]
  },
  {
   "cell_type": "markdown",
   "id": "described-knowing",
   "metadata": {
    "papermill": {
     "duration": 0.051681,
     "end_time": "2021-07-24T20:07:19.148886",
     "exception": false,
     "start_time": "2021-07-24T20:07:19.097205",
     "status": "completed"
    },
    "tags": []
   },
   "source": [
    "### Plotting probability contours"
   ]
  },
  {
   "cell_type": "code",
   "execution_count": 27,
   "id": "needed-growing",
   "metadata": {
    "execution": {
     "iopub.execute_input": "2021-07-24T20:07:19.257794Z",
     "iopub.status.busy": "2021-07-24T20:07:19.257213Z",
     "iopub.status.idle": "2021-07-24T20:07:19.270127Z",
     "shell.execute_reply": "2021-07-24T20:07:19.270631Z"
    },
    "papermill": {
     "duration": 0.069722,
     "end_time": "2021-07-24T20:07:19.270767",
     "exception": false,
     "start_time": "2021-07-24T20:07:19.201045",
     "status": "completed"
    },
    "tags": []
   },
   "outputs": [],
   "source": [
    "model_prob = Model(layers[-2:]) "
   ]
  },
  {
   "cell_type": "code",
   "execution_count": 28,
   "id": "introductory-enforcement",
   "metadata": {
    "execution": {
     "iopub.execute_input": "2021-07-24T20:07:19.379478Z",
     "iopub.status.busy": "2021-07-24T20:07:19.378889Z",
     "iopub.status.idle": "2021-07-24T20:07:19.395063Z",
     "shell.execute_reply": "2021-07-24T20:07:19.395502Z"
    },
    "papermill": {
     "duration": 0.072801,
     "end_time": "2021-07-24T20:07:19.395641",
     "exception": false,
     "start_time": "2021-07-24T20:07:19.322840",
     "status": "completed"
    },
    "tags": []
   },
   "outputs": [],
   "source": [
    "# Adjust the x and y ranges according to the above generated plot.\n",
    "x_range = np.linspace(-4, 1, 100) \n",
    "y_range = np.linspace(-6, 6, 100) \n",
    "x_grid, y_grid = np.meshgrid(x_range, y_range) # x_grid and y_grig are of size 100 X 100\n",
    "\n",
    "# converting x_grid and y_grid to continuous arrays\n",
    "x_grid_flat = np.ravel(x_grid)\n",
    "y_grid_flat = np.ravel(y_grid)\n",
    "\n",
    "# The last layer of the current model takes two columns as input. Hence transpose of np.vstack() is required.\n",
    "X = np.vstack((x_grid_flat, y_grid_flat)).T\n",
    "\n",
    "# x_grid and y_grid are of size 100 x 100\n",
    "probability_contour = model_prob(X).reshape(100,100) "
   ]
  },
  {
   "cell_type": "code",
   "execution_count": 29,
   "id": "understood-landing",
   "metadata": {
    "execution": {
     "iopub.execute_input": "2021-07-24T20:07:19.523457Z",
     "iopub.status.busy": "2021-07-24T20:07:19.522880Z",
     "iopub.status.idle": "2021-07-24T20:07:19.803271Z",
     "shell.execute_reply": "2021-07-24T20:07:19.803748Z"
    },
    "papermill": {
     "duration": 0.34544,
     "end_time": "2021-07-24T20:07:19.803897",
     "exception": false,
     "start_time": "2021-07-24T20:07:19.458457",
     "status": "completed"
    },
    "tags": []
   },
   "outputs": [
    {
     "data": {
      "image/png": "[encoded data removed]",
      "text/plain": [
       "<Figure size 720x648 with 1 Axes>"
      ]
     },
     "metadata": {
      "needs_background": "light"
     },
     "output_type": "display_data"
    }
   ],
   "source": [
    "plt.figure(figsize=(10,9))\n",
    "plt.scatter(plot_testing[:,0], plot_testing[:,1], alpha = 0.1, c = y_test.ravel())\n",
    "contours = plt.contour(x_grid,y_grid,probability_contour)\n",
    "plt.title('Probability Contours')\n",
    "plt.clabel(contours, inline = True );"
   ]
  }
 ],
 "metadata": {
  "kernelspec": {
   "display_name": "Python 3",
   "language": "python",
   "name": "python3"
  },
  "language_info": {
   "codemirror_mode": {
    "name": "ipython",
    "version": 3
   },
   "file_extension": ".py",
   "mimetype": "text/x-python",
   "name": "python",
   "nbconvert_exporter": "python",
   "pygments_lexer": "ipython3",
   "version": "3.6.14"
  },
  "papermill": {
   "duration": 140.14,
   "end_time": "2021-07-24T20:07:20.166170",
   "environment_variables": {},
   "exception": null,
   "input_path": "2020-08-11-NeuralNetwork.ipynb",
   "output_path": "2020-08-11-NeuralNetwork.ipynb",
   "parameters": {},
   "start_time": "2021-07-24T20:05:00.026170",
   "version": "2.1.2"
  }
 },
 "nbformat": 4,
 "nbformat_minor": 5
}