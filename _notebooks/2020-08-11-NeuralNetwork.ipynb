{
 "cells": [
  {
   "cell_type": "markdown",
   "metadata": {
    "papermill": {
     "duration": 0.027496,
     "end_time": "2020-08-24T20:03:30.735730",
     "exception": false,
     "start_time": "2020-08-24T20:03:30.708234",
     "status": "completed"
    },
    "tags": []
   },
   "source": [
    "# \"A Basic Neural Network: Differentiate Hand-Written Digits\"\n",
    "\n",
    "- badges: true\n",
    "- author: Akshith Sriram"
   ]
  },
  {
   "cell_type": "markdown",
   "metadata": {
    "papermill": {
     "duration": 0.347893,
     "end_time": "2020-08-24T20:03:31.346033",
     "exception": false,
     "start_time": "2020-08-24T20:03:30.998140",
     "status": "completed"
    },
    "tags": []
   },
   "source": [
    "### Key Objectives:\n",
    "- Building a neural network that differentiates two hand-written digits 3 and 8.\n",
    "- Comparing the results of this Neural Network (NN) to that of a Logistic Regression (LR) model.\n",
    "\n",
    "### Requirements:\n",
    "- 'Kudzu' : A neural network library that was designed during our course by [Univ.AI](www.univ.ai). \n",
    "- MNIST Database\n",
    "\n",
    "If MNIST is not installed, use the command `!pip install mnist` given below.\n",
    "It can be run both from the command line and Jupyter Notebook."
   ]
  },
  {
   "cell_type": "code",
   "execution_count": 1,
   "metadata": {
    "execution": {
     "iopub.execute_input": "2020-08-24T20:03:32.265160Z",
     "iopub.status.busy": "2020-08-24T20:03:32.264689Z",
     "iopub.status.idle": "2020-08-24T20:03:33.941500Z",
     "shell.execute_reply": "2020-08-24T20:03:33.940590Z"
    },
    "papermill": {
     "duration": 2.491232,
     "end_time": "2020-08-24T20:03:33.941653",
     "exception": false,
     "start_time": "2020-08-24T20:03:31.450421",
     "status": "completed"
    },
    "tags": []
   },
   "outputs": [
    {
     "name": "stdout",
     "output_type": "stream",
     "text": [
      "Collecting mnist\r\n"
     ]
    },
    {
     "name": "stdout",
     "output_type": "stream",
     "text": [
      "  Downloading mnist-0.2.2-py2.py3-none-any.whl (3.5 kB)\r\n"
     ]
    },
    {
     "name": "stdout",
     "output_type": "stream",
     "text": [
      "Requirement already satisfied: numpy in /opt/hostedtoolcache/Python/3.6.11/x64/lib/python3.6/site-packages (from mnist) (1.19.1)\r\n"
     ]
    },
    {
     "name": "stdout",
     "output_type": "stream",
     "text": [
      "Installing collected packages: mnist\r\n"
     ]
    },
    {
     "name": "stdout",
     "output_type": "stream",
     "text": [
      "Successfully installed mnist-0.2.2\r\n"
     ]
    }
   ],
   "source": [
    "!pip install mnist "
   ]
  },
  {
   "cell_type": "markdown",
   "metadata": {
    "papermill": {
     "duration": 0.019971,
     "end_time": "2020-08-24T20:03:33.983114",
     "exception": false,
     "start_time": "2020-08-24T20:03:33.963143",
     "status": "completed"
    },
    "tags": []
   },
   "source": [
    "#### Importing necessary libraries"
   ]
  },
  {
   "cell_type": "code",
   "execution_count": 2,
   "metadata": {
    "execution": {
     "iopub.execute_input": "2020-08-24T20:03:34.032251Z",
     "iopub.status.busy": "2020-08-24T20:03:34.031676Z",
     "iopub.status.idle": "2020-08-24T20:03:34.490585Z",
     "shell.execute_reply": "2020-08-24T20:03:34.489214Z"
    },
    "papermill": {
     "duration": 0.484578,
     "end_time": "2020-08-24T20:03:34.490809",
     "exception": false,
     "start_time": "2020-08-24T20:03:34.006231",
     "status": "completed"
    },
    "tags": []
   },
   "outputs": [],
   "source": [
    "%load_ext autoreload\n",
    "%autoreload 2\n",
    "\n",
    "%matplotlib inline\n",
    "import matplotlib.pyplot as plt\n",
    "\n",
    "import numpy as np\n",
    "import pandas as pd"
   ]
  },
  {
   "cell_type": "markdown",
   "metadata": {
    "papermill": {
     "duration": 0.021262,
     "end_time": "2020-08-24T20:03:34.534842",
     "exception": false,
     "start_time": "2020-08-24T20:03:34.513580",
     "status": "completed"
    },
    "tags": []
   },
   "source": [
    "### Preparing the Data"
   ]
  },
  {
   "cell_type": "code",
   "execution_count": 3,
   "metadata": {
    "execution": {
     "iopub.execute_input": "2020-08-24T20:03:34.580970Z",
     "iopub.status.busy": "2020-08-24T20:03:34.580550Z",
     "iopub.status.idle": "2020-08-24T20:03:34.590638Z",
     "shell.execute_reply": "2020-08-24T20:03:34.590214Z"
    },
    "papermill": {
     "duration": 0.034022,
     "end_time": "2020-08-24T20:03:34.590727",
     "exception": false,
     "start_time": "2020-08-24T20:03:34.556705",
     "status": "completed"
    },
    "tags": []
   },
   "outputs": [],
   "source": [
    "import mnist"
   ]
  },
  {
   "cell_type": "code",
   "execution_count": 4,
   "metadata": {
    "execution": {
     "iopub.execute_input": "2020-08-24T20:03:34.634688Z",
     "iopub.status.busy": "2020-08-24T20:03:34.634274Z",
     "iopub.status.idle": "2020-08-24T20:03:35.529047Z",
     "shell.execute_reply": "2020-08-24T20:03:35.528435Z"
    },
    "papermill": {
     "duration": 0.918384,
     "end_time": "2020-08-24T20:03:35.529210",
     "exception": false,
     "start_time": "2020-08-24T20:03:34.610826",
     "status": "completed"
    },
    "tags": []
   },
   "outputs": [],
   "source": [
    "train_images = mnist.train_images()\n",
    "train_labels = mnist.train_labels()"
   ]
  },
  {
   "cell_type": "code",
   "execution_count": 5,
   "metadata": {
    "execution": {
     "iopub.execute_input": "2020-08-24T20:03:35.576696Z",
     "iopub.status.busy": "2020-08-24T20:03:35.576159Z",
     "iopub.status.idle": "2020-08-24T20:03:35.589291Z",
     "shell.execute_reply": "2020-08-24T20:03:35.589848Z"
    },
    "papermill": {
     "duration": 0.037665,
     "end_time": "2020-08-24T20:03:35.589979",
     "exception": false,
     "start_time": "2020-08-24T20:03:35.552314",
     "status": "completed"
    },
    "tags": []
   },
   "outputs": [
    {
     "data": {
      "text/plain": [
       "((60000, 28, 28), (60000,))"
      ]
     },
     "execution_count": 5,
     "metadata": {},
     "output_type": "execute_result"
    }
   ],
   "source": [
    "train_images.shape, train_labels.shape"
   ]
  },
  {
   "cell_type": "code",
   "execution_count": 6,
   "metadata": {
    "execution": {
     "iopub.execute_input": "2020-08-24T20:03:35.633818Z",
     "iopub.status.busy": "2020-08-24T20:03:35.633410Z",
     "iopub.status.idle": "2020-08-24T20:03:36.099699Z",
     "shell.execute_reply": "2020-08-24T20:03:36.098720Z"
    },
    "papermill": {
     "duration": 0.489387,
     "end_time": "2020-08-24T20:03:36.099940",
     "exception": false,
     "start_time": "2020-08-24T20:03:35.610553",
     "status": "completed"
    },
    "tags": []
   },
   "outputs": [],
   "source": [
    "test_images = mnist.test_images()\n",
    "test_labels = mnist.test_labels()"
   ]
  },
  {
   "cell_type": "code",
   "execution_count": 7,
   "metadata": {
    "execution": {
     "iopub.execute_input": "2020-08-24T20:03:36.148954Z",
     "iopub.status.busy": "2020-08-24T20:03:36.148539Z",
     "iopub.status.idle": "2020-08-24T20:03:36.163689Z",
     "shell.execute_reply": "2020-08-24T20:03:36.163189Z"
    },
    "papermill": {
     "duration": 0.041146,
     "end_time": "2020-08-24T20:03:36.163807",
     "exception": false,
     "start_time": "2020-08-24T20:03:36.122661",
     "status": "completed"
    },
    "tags": []
   },
   "outputs": [
    {
     "data": {
      "text/plain": [
       "((10000, 28, 28), (10000,))"
      ]
     },
     "execution_count": 7,
     "metadata": {},
     "output_type": "execute_result"
    }
   ],
   "source": [
    "test_images.shape, test_labels.shape"
   ]
  },
  {
   "cell_type": "code",
   "execution_count": 8,
   "metadata": {
    "execution": {
     "iopub.execute_input": "2020-08-24T20:03:36.212591Z",
     "iopub.status.busy": "2020-08-24T20:03:36.212174Z",
     "iopub.status.idle": "2020-08-24T20:03:36.335968Z",
     "shell.execute_reply": "2020-08-24T20:03:36.336527Z"
    },
    "papermill": {
     "duration": 0.150629,
     "end_time": "2020-08-24T20:03:36.336648",
     "exception": false,
     "start_time": "2020-08-24T20:03:36.186019",
     "status": "completed"
    },
    "tags": []
   },
   "outputs": [
    {
     "name": "stdout",
     "output_type": "stream",
     "text": [
      "2\n"
     ]
    },
    {
     "data": {
      "text/plain": [
       "<matplotlib.image.AxesImage at 0x7f7ac13c50b8>"
      ]
     },
     "execution_count": 8,
     "metadata": {},
     "output_type": "execute_result"
    },
    {
     "data": {
      "image/png": "[encoded data removed]",
      "text/plain": [
       "<Figure size 432x288 with 1 Axes>"
      ]
     },
     "metadata": {
      "needs_background": "light"
     },
     "output_type": "display_data"
    }
   ],
   "source": [
    "image_index = 7776 # You may select anything up to 60,000\n",
    "print(train_labels[image_index]) \n",
    "plt.imshow(train_images[image_index], cmap='Greys')"
   ]
  },
  {
   "cell_type": "markdown",
   "metadata": {
    "papermill": {
     "duration": 0.022655,
     "end_time": "2020-08-24T20:03:36.383740",
     "exception": false,
     "start_time": "2020-08-24T20:03:36.361085",
     "status": "completed"
    },
    "tags": []
   },
   "source": [
    "## Filter data to get 3 and 8 out"
   ]
  },
  {
   "cell_type": "code",
   "execution_count": 9,
   "metadata": {
    "execution": {
     "iopub.execute_input": "2020-08-24T20:03:36.436640Z",
     "iopub.status.busy": "2020-08-24T20:03:36.434275Z",
     "iopub.status.idle": "2020-08-24T20:03:36.462402Z",
     "shell.execute_reply": "2020-08-24T20:03:36.461926Z"
    },
    "papermill": {
     "duration": 0.053772,
     "end_time": "2020-08-24T20:03:36.462493",
     "exception": false,
     "start_time": "2020-08-24T20:03:36.408721",
     "status": "completed"
    },
    "tags": []
   },
   "outputs": [],
   "source": [
    "train_filter = np.where((train_labels == 3 ) | (train_labels == 8))\n",
    "test_filter = np.where((test_labels == 3) | (test_labels == 8))\n",
    "X_train, y_train = train_images[train_filter], train_labels[train_filter]\n",
    "X_test, y_test = test_images[test_filter], test_labels[test_filter]"
   ]
  },
  {
   "cell_type": "markdown",
   "metadata": {
    "papermill": {
     "duration": 0.022607,
     "end_time": "2020-08-24T20:03:36.507116",
     "exception": false,
     "start_time": "2020-08-24T20:03:36.484509",
     "status": "completed"
    },
    "tags": []
   },
   "source": [
    "We normalize the pixel values in the 0 to 1 range"
   ]
  },
  {
   "cell_type": "code",
   "execution_count": 10,
   "metadata": {
    "execution": {
     "iopub.execute_input": "2020-08-24T20:03:36.557802Z",
     "iopub.status.busy": "2020-08-24T20:03:36.557211Z",
     "iopub.status.idle": "2020-08-24T20:03:36.605689Z",
     "shell.execute_reply": "2020-08-24T20:03:36.604738Z"
    },
    "papermill": {
     "duration": 0.075166,
     "end_time": "2020-08-24T20:03:36.605903",
     "exception": false,
     "start_time": "2020-08-24T20:03:36.530737",
     "status": "completed"
    },
    "tags": []
   },
   "outputs": [],
   "source": [
    "X_train = X_train/255.\n",
    "X_test = X_test/255."
   ]
  },
  {
   "cell_type": "markdown",
   "metadata": {
    "papermill": {
     "duration": 0.02428,
     "end_time": "2020-08-24T20:03:36.654294",
     "exception": false,
     "start_time": "2020-08-24T20:03:36.630014",
     "status": "completed"
    },
    "tags": []
   },
   "source": [
    "Setup the labels as 1 (when the digit is 3) and 0 (when the digit is 8)"
   ]
  },
  {
   "cell_type": "code",
   "execution_count": 11,
   "metadata": {
    "execution": {
     "iopub.execute_input": "2020-08-24T20:03:36.707695Z",
     "iopub.status.busy": "2020-08-24T20:03:36.707211Z",
     "iopub.status.idle": "2020-08-24T20:03:36.722856Z",
     "shell.execute_reply": "2020-08-24T20:03:36.722385Z"
    },
    "papermill": {
     "duration": 0.044509,
     "end_time": "2020-08-24T20:03:36.722970",
     "exception": false,
     "start_time": "2020-08-24T20:03:36.678461",
     "status": "completed"
    },
    "tags": []
   },
   "outputs": [],
   "source": [
    "y_train = 1*(y_train==3)\n",
    "y_test = 1*(y_test==3)"
   ]
  },
  {
   "cell_type": "code",
   "execution_count": 12,
   "metadata": {
    "execution": {
     "iopub.execute_input": "2020-08-24T20:03:36.777519Z",
     "iopub.status.busy": "2020-08-24T20:03:36.776492Z",
     "iopub.status.idle": "2020-08-24T20:03:36.787249Z",
     "shell.execute_reply": "2020-08-24T20:03:36.786836Z"
    },
    "papermill": {
     "duration": 0.03903,
     "end_time": "2020-08-24T20:03:36.787351",
     "exception": false,
     "start_time": "2020-08-24T20:03:36.748321",
     "status": "completed"
    },
    "tags": []
   },
   "outputs": [
    {
     "data": {
      "text/plain": [
       "((11982, 28, 28), (1984, 28, 28))"
      ]
     },
     "execution_count": 12,
     "metadata": {},
     "output_type": "execute_result"
    }
   ],
   "source": [
    "X_train.shape, X_test.shape"
   ]
  },
  {
   "cell_type": "markdown",
   "metadata": {
    "papermill": {
     "duration": 0.025195,
     "end_time": "2020-08-24T20:03:36.838218",
     "exception": false,
     "start_time": "2020-08-24T20:03:36.813023",
     "status": "completed"
    },
    "tags": []
   },
   "source": [
    "### Reshape the input data to create a linear array"
   ]
  },
  {
   "cell_type": "code",
   "execution_count": 13,
   "metadata": {
    "execution": {
     "iopub.execute_input": "2020-08-24T20:03:36.893936Z",
     "iopub.status.busy": "2020-08-24T20:03:36.892960Z",
     "iopub.status.idle": "2020-08-24T20:03:36.909063Z",
     "shell.execute_reply": "2020-08-24T20:03:36.908589Z"
    },
    "papermill": {
     "duration": 0.04543,
     "end_time": "2020-08-24T20:03:36.909180",
     "exception": false,
     "start_time": "2020-08-24T20:03:36.863750",
     "status": "completed"
    },
    "tags": []
   },
   "outputs": [
    {
     "data": {
      "text/plain": [
       "((11982, 784), (1984, 784))"
      ]
     },
     "execution_count": 13,
     "metadata": {},
     "output_type": "execute_result"
    }
   ],
   "source": [
    "X_train = X_train.reshape(X_train.shape[0], -1)\n",
    "X_test = X_test.reshape(X_test.shape[0], -1)\n",
    "X_train.shape, X_test.shape"
   ]
  },
  {
   "cell_type": "markdown",
   "metadata": {
    "papermill": {
     "duration": 0.029085,
     "end_time": "2020-08-24T20:03:36.964434",
     "exception": false,
     "start_time": "2020-08-24T20:03:36.935349",
     "status": "completed"
    },
    "tags": []
   },
   "source": [
    "### Importing appropriate functions from 'Kudzu'"
   ]
  },
  {
   "cell_type": "code",
   "execution_count": 14,
   "metadata": {
    "execution": {
     "iopub.execute_input": "2020-08-24T20:03:37.017057Z",
     "iopub.status.busy": "2020-08-24T20:03:37.016454Z",
     "iopub.status.idle": "2020-08-24T20:03:37.034377Z",
     "shell.execute_reply": "2020-08-24T20:03:37.033956Z"
    },
    "papermill": {
     "duration": 0.046449,
     "end_time": "2020-08-24T20:03:37.034485",
     "exception": false,
     "start_time": "2020-08-24T20:03:36.988036",
     "status": "completed"
    },
    "tags": []
   },
   "outputs": [],
   "source": [
    "from kudzu.layer import Sigmoid\n",
    "from kudzu.layer import Relu\n",
    "from kudzu.layer import Affine, Sigmoid\n",
    "\n",
    "from kudzu.model import Model\n",
    "from kudzu.train import Learner\n",
    "from kudzu.optim import GD\n",
    "from kudzu.data import Data, Dataloader, Sampler\n",
    "\n",
    "from kudzu.callbacks import AccCallback\n",
    "from kudzu.callbacks import ClfCallback\n",
    "\n",
    "from kudzu.loss import MSE"
   ]
  },
  {
   "cell_type": "markdown",
   "metadata": {
    "papermill": {
     "duration": 0.024214,
     "end_time": "2020-08-24T20:03:37.082270",
     "exception": false,
     "start_time": "2020-08-24T20:03:37.058056",
     "status": "completed"
    },
    "tags": []
   },
   "source": [
    "### Let us create a `Config` class, to store important parameters. \n",
    "This class essentially plays the role of a dictionary."
   ]
  },
  {
   "cell_type": "code",
   "execution_count": 15,
   "metadata": {
    "execution": {
     "iopub.execute_input": "2020-08-24T20:03:37.130359Z",
     "iopub.status.busy": "2020-08-24T20:03:37.129936Z",
     "iopub.status.idle": "2020-08-24T20:03:37.144311Z",
     "shell.execute_reply": "2020-08-24T20:03:37.143937Z"
    },
    "papermill": {
     "duration": 0.039147,
     "end_time": "2020-08-24T20:03:37.144400",
     "exception": false,
     "start_time": "2020-08-24T20:03:37.105253",
     "status": "completed"
    },
    "tags": []
   },
   "outputs": [],
   "source": [
    "class Config:\n",
    "    pass\n",
    "config = Config()\n",
    "config.lr = 0.001\n",
    "config.num_epochs = 251\n",
    "config.bs = 50"
   ]
  },
  {
   "cell_type": "markdown",
   "metadata": {
    "papermill": {
     "duration": 0.026985,
     "end_time": "2020-08-24T20:03:37.192653",
     "exception": false,
     "start_time": "2020-08-24T20:03:37.165668",
     "status": "completed"
    },
    "tags": []
   },
   "source": [
    "### Initializing data to the variables"
   ]
  },
  {
   "cell_type": "code",
   "execution_count": 16,
   "metadata": {
    "execution": {
     "iopub.execute_input": "2020-08-24T20:03:37.245515Z",
     "iopub.status.busy": "2020-08-24T20:03:37.244918Z",
     "iopub.status.idle": "2020-08-24T20:03:37.258692Z",
     "shell.execute_reply": "2020-08-24T20:03:37.258278Z"
    },
    "papermill": {
     "duration": 0.040467,
     "end_time": "2020-08-24T20:03:37.258780",
     "exception": false,
     "start_time": "2020-08-24T20:03:37.218313",
     "status": "completed"
    },
    "tags": []
   },
   "outputs": [],
   "source": [
    "data = Data(X_train, y_train.reshape(-1,1))\n",
    "sampler = Sampler(data, config.bs, shuffle=True)\n",
    "\n",
    "dl = Dataloader(data, sampler)\n",
    "\n",
    "opt = GD(config.lr)\n",
    "loss = MSE()"
   ]
  },
  {
   "cell_type": "code",
   "execution_count": 17,
   "metadata": {
    "execution": {
     "iopub.execute_input": "2020-08-24T20:03:37.309415Z",
     "iopub.status.busy": "2020-08-24T20:03:37.308962Z",
     "iopub.status.idle": "2020-08-24T20:03:37.319428Z",
     "shell.execute_reply": "2020-08-24T20:03:37.319086Z"
    },
    "papermill": {
     "duration": 0.039116,
     "end_time": "2020-08-24T20:03:37.319519",
     "exception": false,
     "start_time": "2020-08-24T20:03:37.280403",
     "status": "completed"
    },
    "tags": []
   },
   "outputs": [],
   "source": [
    "training_xdata = X_train\n",
    "testing_xdata = X_test\n",
    "training_ydata = y_train.reshape(-1,1)\n",
    "testing_ydata = y_test.reshape(-1,1)"
   ]
  },
  {
   "cell_type": "markdown",
   "metadata": {
    "papermill": {
     "duration": 0.021867,
     "end_time": "2020-08-24T20:03:37.363705",
     "exception": false,
     "start_time": "2020-08-24T20:03:37.341838",
     "status": "completed"
    },
    "tags": []
   },
   "source": [
    "### Running Models with the Training data\n",
    "Details about the network layers:\n",
    "- A first affine layer has 784 inputs and does 100 affine transforms. These are followed by a Relu\n",
    "- A second affine layer has 100 inputs from the 100 activations of the past layer, and does 100 affine transforms. These are followed by a Relu\n",
    "- A third affine layer has 100 activations and does 2 affine transformations to create an embedding for visualization. There is no non-linearity here.\n",
    "- A final \"logistic regression\" which has an affine transform from 2 inputs to 1 output, which is squeezed through a sigmoid.\n",
    "\n",
    "Help taken from Anshuman's Notebook."
   ]
  },
  {
   "cell_type": "code",
   "execution_count": 18,
   "metadata": {
    "execution": {
     "iopub.execute_input": "2020-08-24T20:03:37.413708Z",
     "iopub.status.busy": "2020-08-24T20:03:37.412866Z",
     "iopub.status.idle": "2020-08-24T20:03:37.431782Z",
     "shell.execute_reply": "2020-08-24T20:03:37.431105Z"
    },
    "papermill": {
     "duration": 0.046306,
     "end_time": "2020-08-24T20:03:37.431946",
     "exception": false,
     "start_time": "2020-08-24T20:03:37.385640",
     "status": "completed"
    },
    "tags": []
   },
   "outputs": [],
   "source": [
    "# layers for the Neural Network\n",
    "layers = [Affine(\"first\", 784, 100), Relu(\"first\"), Affine(\"second\", 100, 100), Relu(\"second\"), Affine(\"third\", 100, 2), Affine(\"final\", 2, 1), Sigmoid(\"final\")]\n",
    "model_nn = Model(layers)\n",
    "\n",
    "# layers for the Logistic Regression\n",
    "layers_lr = [Affine(\"logits\", 784, 1), Sigmoid(\"sigmoid\")]\n",
    "model_lr = Model(layers_lr)"
   ]
  },
  {
   "cell_type": "code",
   "execution_count": 19,
   "metadata": {
    "execution": {
     "iopub.execute_input": "2020-08-24T20:03:37.484437Z",
     "iopub.status.busy": "2020-08-24T20:03:37.483830Z",
     "iopub.status.idle": "2020-08-24T20:03:37.495492Z",
     "shell.execute_reply": "2020-08-24T20:03:37.494928Z"
    },
    "papermill": {
     "duration": 0.038254,
     "end_time": "2020-08-24T20:03:37.495611",
     "exception": false,
     "start_time": "2020-08-24T20:03:37.457357",
     "status": "completed"
    },
    "tags": []
   },
   "outputs": [],
   "source": [
    "# suffix _nn stands for Neural Network.\n",
    "learner_nn = Learner(loss, model_nn, opt, config.num_epochs)\n",
    "acc_nn = ClfCallback(learner_nn, config.bs, training_xdata , testing_xdata, training_ydata, testing_ydata)\n",
    "learner_nn.set_callbacks([acc_nn])"
   ]
  },
  {
   "cell_type": "code",
   "execution_count": 20,
   "metadata": {
    "execution": {
     "iopub.execute_input": "2020-08-24T20:03:37.545963Z",
     "iopub.status.busy": "2020-08-24T20:03:37.545546Z",
     "iopub.status.idle": "2020-08-24T20:04:56.547683Z",
     "shell.execute_reply": "2020-08-24T20:04:56.547231Z"
    },
    "papermill": {
     "duration": 79.028371,
     "end_time": "2020-08-24T20:04:56.547812",
     "exception": false,
     "start_time": "2020-08-24T20:03:37.519441",
     "status": "completed"
    },
    "tags": []
   },
   "outputs": [
    {
     "name": "stdout",
     "output_type": "stream",
     "text": [
      "====== Neural Network ======\n"
     ]
    },
    {
     "name": "stdout",
     "output_type": "stream",
     "text": [
      "Epoch 0, Loss 0.2491\n",
      "Training Accuracy: 0.5608, Testing Accuracy: 0.5514\n",
      "\n"
     ]
    },
    {
     "name": "stdout",
     "output_type": "stream",
     "text": [
      "Epoch 10, Loss 0.1991\n",
      "Training Accuracy: 0.8953, Testing Accuracy: 0.9118\n",
      "\n"
     ]
    },
    {
     "name": "stdout",
     "output_type": "stream",
     "text": [
      "Epoch 20, Loss 0.0984\n",
      "Training Accuracy: 0.9189, Testing Accuracy: 0.9284\n",
      "\n"
     ]
    },
    {
     "name": "stdout",
     "output_type": "stream",
     "text": [
      "Epoch 30, Loss 0.06\n",
      "Training Accuracy: 0.9408, Testing Accuracy: 0.9496\n",
      "\n"
     ]
    },
    {
     "name": "stdout",
     "output_type": "stream",
     "text": [
      "Epoch 40, Loss 0.0464\n",
      "Training Accuracy: 0.9503, Testing Accuracy: 0.9587\n",
      "\n"
     ]
    },
    {
     "name": "stdout",
     "output_type": "stream",
     "text": [
      "Epoch 50, Loss 0.0399\n",
      "Training Accuracy: 0.9554, Testing Accuracy: 0.9627\n",
      "\n"
     ]
    },
    {
     "name": "stdout",
     "output_type": "stream",
     "text": [
      "Epoch 60, Loss 0.0361\n",
      "Training Accuracy: 0.9594, Testing Accuracy: 0.9657\n",
      "\n"
     ]
    },
    {
     "name": "stdout",
     "output_type": "stream",
     "text": [
      "Epoch 70, Loss 0.0337\n",
      "Training Accuracy: 0.9619, Testing Accuracy: 0.9647\n",
      "\n"
     ]
    },
    {
     "name": "stdout",
     "output_type": "stream",
     "text": [
      "Epoch 80, Loss 0.0318\n",
      "Training Accuracy: 0.9639, Testing Accuracy: 0.9677\n",
      "\n"
     ]
    },
    {
     "name": "stdout",
     "output_type": "stream",
     "text": [
      "Epoch 90, Loss 0.0304\n",
      "Training Accuracy: 0.9652, Testing Accuracy: 0.9698\n",
      "\n"
     ]
    },
    {
     "name": "stdout",
     "output_type": "stream",
     "text": [
      "Epoch 100, Loss 0.0292\n",
      "Training Accuracy: 0.9663, Testing Accuracy: 0.9703\n",
      "\n"
     ]
    },
    {
     "name": "stdout",
     "output_type": "stream",
     "text": [
      "Epoch 110, Loss 0.0282\n",
      "Training Accuracy: 0.9675, Testing Accuracy: 0.9698\n",
      "\n"
     ]
    },
    {
     "name": "stdout",
     "output_type": "stream",
     "text": [
      "Epoch 120, Loss 0.0274\n",
      "Training Accuracy: 0.9680, Testing Accuracy: 0.9703\n",
      "\n"
     ]
    },
    {
     "name": "stdout",
     "output_type": "stream",
     "text": [
      "Epoch 130, Loss 0.0266\n",
      "Training Accuracy: 0.9693, Testing Accuracy: 0.9698\n",
      "\n"
     ]
    },
    {
     "name": "stdout",
     "output_type": "stream",
     "text": [
      "Epoch 140, Loss 0.0259\n",
      "Training Accuracy: 0.9701, Testing Accuracy: 0.9693\n",
      "\n"
     ]
    },
    {
     "name": "stdout",
     "output_type": "stream",
     "text": [
      "Epoch 150, Loss 0.0253\n",
      "Training Accuracy: 0.9705, Testing Accuracy: 0.9703\n",
      "\n"
     ]
    },
    {
     "name": "stdout",
     "output_type": "stream",
     "text": [
      "Epoch 160, Loss 0.0247\n",
      "Training Accuracy: 0.9710, Testing Accuracy: 0.9718\n",
      "\n"
     ]
    },
    {
     "name": "stdout",
     "output_type": "stream",
     "text": [
      "Epoch 170, Loss 0.0242\n",
      "Training Accuracy: 0.9720, Testing Accuracy: 0.9718\n",
      "\n"
     ]
    },
    {
     "name": "stdout",
     "output_type": "stream",
     "text": [
      "Epoch 180, Loss 0.0237\n",
      "Training Accuracy: 0.9725, Testing Accuracy: 0.9718\n",
      "\n"
     ]
    },
    {
     "name": "stdout",
     "output_type": "stream",
     "text": [
      "Epoch 190, Loss 0.0232\n",
      "Training Accuracy: 0.9730, Testing Accuracy: 0.9718\n",
      "\n"
     ]
    },
    {
     "name": "stdout",
     "output_type": "stream",
     "text": [
      "Epoch 200, Loss 0.0227\n",
      "Training Accuracy: 0.9736, Testing Accuracy: 0.9723\n",
      "\n"
     ]
    },
    {
     "name": "stdout",
     "output_type": "stream",
     "text": [
      "Epoch 210, Loss 0.0223\n",
      "Training Accuracy: 0.9741, Testing Accuracy: 0.9723\n",
      "\n"
     ]
    },
    {
     "name": "stdout",
     "output_type": "stream",
     "text": [
      "Epoch 220, Loss 0.0218\n",
      "Training Accuracy: 0.9742, Testing Accuracy: 0.9723\n",
      "\n"
     ]
    },
    {
     "name": "stdout",
     "output_type": "stream",
     "text": [
      "Epoch 230, Loss 0.0214\n",
      "Training Accuracy: 0.9750, Testing Accuracy: 0.9718\n",
      "\n"
     ]
    },
    {
     "name": "stdout",
     "output_type": "stream",
     "text": [
      "Epoch 240, Loss 0.021\n",
      "Training Accuracy: 0.9756, Testing Accuracy: 0.9723\n",
      "\n"
     ]
    },
    {
     "name": "stdout",
     "output_type": "stream",
     "text": [
      "Epoch 250, Loss 0.0207\n",
      "Training Accuracy: 0.9760, Testing Accuracy: 0.9728\n",
      "\n"
     ]
    },
    {
     "data": {
      "text/plain": [
       "0.022087763236768178"
      ]
     },
     "execution_count": 20,
     "metadata": {},
     "output_type": "execute_result"
    }
   ],
   "source": [
    "print(\"====== Neural Network ======\")\n",
    "learner_nn.train_loop(dl)"
   ]
  },
  {
   "cell_type": "markdown",
   "metadata": {
    "papermill": {
     "duration": 0.034888,
     "end_time": "2020-08-24T20:04:56.619099",
     "exception": false,
     "start_time": "2020-08-24T20:04:56.584211",
     "status": "completed"
    },
    "tags": []
   },
   "source": [
    "### Logistic Regression based Implementation."
   ]
  },
  {
   "cell_type": "code",
   "execution_count": 21,
   "metadata": {
    "execution": {
     "iopub.execute_input": "2020-08-24T20:04:56.695173Z",
     "iopub.status.busy": "2020-08-24T20:04:56.693990Z",
     "iopub.status.idle": "2020-08-24T20:04:56.706119Z",
     "shell.execute_reply": "2020-08-24T20:04:56.705679Z"
    },
    "papermill": {
     "duration": 0.051934,
     "end_time": "2020-08-24T20:04:56.706238",
     "exception": false,
     "start_time": "2020-08-24T20:04:56.654304",
     "status": "completed"
    },
    "tags": []
   },
   "outputs": [],
   "source": [
    "learner_lr = Learner(loss, model_lr, opt, config.num_epochs)\n",
    "acc_lr = ClfCallback(learner_lr, config.bs, training_xdata , testing_xdata, training_ydata, testing_ydata)\n",
    "learner_lr.set_callbacks([acc_lr])"
   ]
  },
  {
   "cell_type": "code",
   "execution_count": 22,
   "metadata": {
    "execution": {
     "iopub.execute_input": "2020-08-24T20:04:56.781117Z",
     "iopub.status.busy": "2020-08-24T20:04:56.780573Z",
     "iopub.status.idle": "2020-08-24T20:05:11.564587Z",
     "shell.execute_reply": "2020-08-24T20:05:11.565290Z"
    },
    "papermill": {
     "duration": 14.825143,
     "end_time": "2020-08-24T20:05:11.565440",
     "exception": false,
     "start_time": "2020-08-24T20:04:56.740297",
     "status": "completed"
    },
    "tags": []
   },
   "outputs": [
    {
     "name": "stdout",
     "output_type": "stream",
     "text": [
      "====== Logistic Regression ======\n",
      "Epoch 0, Loss 0.2529\n",
      "Training Accuracy: 0.6407, Testing Accuracy: 0.6588\n",
      "\n"
     ]
    },
    {
     "name": "stdout",
     "output_type": "stream",
     "text": [
      "Epoch 10, Loss 0.103\n",
      "Training Accuracy: 0.9101, Testing Accuracy: 0.9194\n",
      "\n"
     ]
    },
    {
     "name": "stdout",
     "output_type": "stream",
     "text": [
      "Epoch 20, Loss 0.0788\n",
      "Training Accuracy: 0.9290, Testing Accuracy: 0.9355\n",
      "\n"
     ]
    },
    {
     "name": "stdout",
     "output_type": "stream",
     "text": [
      "Epoch 30, Loss 0.0679\n",
      "Training Accuracy: 0.9374, Testing Accuracy: 0.9441\n",
      "\n"
     ]
    },
    {
     "name": "stdout",
     "output_type": "stream",
     "text": [
      "Epoch 40, Loss 0.0614\n",
      "Training Accuracy: 0.9413, Testing Accuracy: 0.9496\n",
      "\n"
     ]
    },
    {
     "name": "stdout",
     "output_type": "stream",
     "text": [
      "Epoch 50, Loss 0.0569\n",
      "Training Accuracy: 0.9453, Testing Accuracy: 0.9536\n",
      "\n"
     ]
    },
    {
     "name": "stdout",
     "output_type": "stream",
     "text": [
      "Epoch 60, Loss 0.0537\n",
      "Training Accuracy: 0.9480, Testing Accuracy: 0.9561\n",
      "\n"
     ]
    },
    {
     "name": "stdout",
     "output_type": "stream",
     "text": [
      "Epoch 70, Loss 0.0512\n",
      "Training Accuracy: 0.9495, Testing Accuracy: 0.9572\n",
      "\n"
     ]
    },
    {
     "name": "stdout",
     "output_type": "stream",
     "text": [
      "Epoch 80, Loss 0.0492\n",
      "Training Accuracy: 0.9510, Testing Accuracy: 0.9592\n",
      "\n"
     ]
    },
    {
     "name": "stdout",
     "output_type": "stream",
     "text": [
      "Epoch 90, Loss 0.0475\n",
      "Training Accuracy: 0.9523, Testing Accuracy: 0.9602\n",
      "\n"
     ]
    },
    {
     "name": "stdout",
     "output_type": "stream",
     "text": [
      "Epoch 100, Loss 0.0461\n",
      "Training Accuracy: 0.9535, Testing Accuracy: 0.9612\n",
      "\n"
     ]
    },
    {
     "name": "stdout",
     "output_type": "stream",
     "text": [
      "Epoch 110, Loss 0.0449\n",
      "Training Accuracy: 0.9546, Testing Accuracy: 0.9622\n",
      "\n"
     ]
    },
    {
     "name": "stdout",
     "output_type": "stream",
     "text": [
      "Epoch 120, Loss 0.0438\n",
      "Training Accuracy: 0.9553, Testing Accuracy: 0.9642\n",
      "\n"
     ]
    },
    {
     "name": "stdout",
     "output_type": "stream",
     "text": [
      "Epoch 130, Loss 0.0429\n",
      "Training Accuracy: 0.9559, Testing Accuracy: 0.9642\n",
      "\n"
     ]
    },
    {
     "name": "stdout",
     "output_type": "stream",
     "text": [
      "Epoch 140, Loss 0.0421\n",
      "Training Accuracy: 0.9566, Testing Accuracy: 0.9642\n",
      "\n"
     ]
    },
    {
     "name": "stdout",
     "output_type": "stream",
     "text": [
      "Epoch 150, Loss 0.0413\n",
      "Training Accuracy: 0.9569, Testing Accuracy: 0.9642\n",
      "\n"
     ]
    },
    {
     "name": "stdout",
     "output_type": "stream",
     "text": [
      "Epoch 160, Loss 0.0406\n",
      "Training Accuracy: 0.9574, Testing Accuracy: 0.9637\n",
      "\n"
     ]
    },
    {
     "name": "stdout",
     "output_type": "stream",
     "text": [
      "Epoch 170, Loss 0.04\n",
      "Training Accuracy: 0.9584, Testing Accuracy: 0.9642\n",
      "\n"
     ]
    },
    {
     "name": "stdout",
     "output_type": "stream",
     "text": [
      "Epoch 180, Loss 0.0395\n",
      "Training Accuracy: 0.9589, Testing Accuracy: 0.9642\n",
      "\n"
     ]
    },
    {
     "name": "stdout",
     "output_type": "stream",
     "text": [
      "Epoch 190, Loss 0.039\n",
      "Training Accuracy: 0.9593, Testing Accuracy: 0.9642\n",
      "\n"
     ]
    },
    {
     "name": "stdout",
     "output_type": "stream",
     "text": [
      "Epoch 200, Loss 0.0385\n",
      "Training Accuracy: 0.9597, Testing Accuracy: 0.9632\n",
      "\n"
     ]
    },
    {
     "name": "stdout",
     "output_type": "stream",
     "text": [
      "Epoch 210, Loss 0.038\n",
      "Training Accuracy: 0.9599, Testing Accuracy: 0.9637\n",
      "\n"
     ]
    },
    {
     "name": "stdout",
     "output_type": "stream",
     "text": [
      "Epoch 220, Loss 0.0376\n",
      "Training Accuracy: 0.9600, Testing Accuracy: 0.9642\n",
      "\n"
     ]
    },
    {
     "name": "stdout",
     "output_type": "stream",
     "text": [
      "Epoch 230, Loss 0.0372\n",
      "Training Accuracy: 0.9604, Testing Accuracy: 0.9647\n",
      "\n"
     ]
    },
    {
     "name": "stdout",
     "output_type": "stream",
     "text": [
      "Epoch 240, Loss 0.0369\n",
      "Training Accuracy: 0.9607, Testing Accuracy: 0.9647\n",
      "\n"
     ]
    },
    {
     "name": "stdout",
     "output_type": "stream",
     "text": [
      "Epoch 250, Loss 0.0365\n",
      "Training Accuracy: 0.9610, Testing Accuracy: 0.9657\n",
      "\n"
     ]
    },
    {
     "data": {
      "text/plain": [
       "0.05015977040738179"
      ]
     },
     "execution_count": 22,
     "metadata": {},
     "output_type": "execute_result"
    }
   ],
   "source": [
    "print(\"====== Logistic Regression ======\")\n",
    "learner_lr.train_loop(dl)"
   ]
  },
  {
   "cell_type": "markdown",
   "metadata": {
    "papermill": {
     "duration": 0.042193,
     "end_time": "2020-08-24T20:05:11.652196",
     "exception": false,
     "start_time": "2020-08-24T20:05:11.610003",
     "status": "completed"
    },
    "tags": []
   },
   "source": [
    "### Comparing results of NN and LR"
   ]
  },
  {
   "cell_type": "code",
   "execution_count": 23,
   "metadata": {
    "execution": {
     "iopub.execute_input": "2020-08-24T20:05:11.745378Z",
     "iopub.status.busy": "2020-08-24T20:05:11.744750Z",
     "iopub.status.idle": "2020-08-24T20:05:11.974414Z",
     "shell.execute_reply": "2020-08-24T20:05:11.973908Z"
    },
    "papermill": {
     "duration": 0.279782,
     "end_time": "2020-08-24T20:05:11.974542",
     "exception": false,
     "start_time": "2020-08-24T20:05:11.694760",
     "status": "completed"
    },
    "tags": []
   },
   "outputs": [
    {
     "data": {
      "text/plain": [
       "<matplotlib.legend.Legend at 0x7f7ac0f9d7b8>"
      ]
     },
     "execution_count": 23,
     "metadata": {},
     "output_type": "execute_result"
    },
    {
     "data": {
      "image/png": "[encoded data removed]",
      "text/plain": [
       "<Figure size 1080x720 with 1 Axes>"
      ]
     },
     "metadata": {
      "needs_background": "light"
     },
     "output_type": "display_data"
    }
   ],
   "source": [
    "plt.figure(figsize=(15,10))\n",
    "\n",
    "# Neural Network plots\n",
    "plt.plot(acc_nn.accuracies, 'r-', label = \"Training Accuracies - NN\")\n",
    "plt.plot(acc_nn.test_accuracies, 'g-', label = \"Testing Accuracies - NN\")\n",
    "\n",
    "# Logistic Regression plots\n",
    "plt.plot(acc_lr.accuracies, 'k-', label = \"Training Accuracies - LR\")\n",
    "plt.plot(acc_lr.test_accuracies, 'b-', label = \"Testing Accuracies - LR\")\n",
    "\n",
    "plt.ylim(0.8, 1)\n",
    "\n",
    "plt.legend()\n",
    "\n"
   ]
  },
  {
   "cell_type": "markdown",
   "metadata": {
    "papermill": {
     "duration": 0.044358,
     "end_time": "2020-08-24T20:05:12.062555",
     "exception": false,
     "start_time": "2020-08-24T20:05:12.018197",
     "status": "completed"
    },
    "tags": []
   },
   "source": [
    "### From the plot, we can observe the following:\n",
    "- Neural Network achieves higher accuracy than the Logistic Regression model.\n",
    "- This apparently, is because of overfitting, i.e. NN captures more noise than data.\n",
    "- Testing accuracy of NN drops below the Training accuracy at higher epochs. This explains the over-fitting on training data.\n",
    "- Logistic Regression gives a reliable accuracy, without the above mentioned problem.\n"
   ]
  },
  {
   "cell_type": "markdown",
   "metadata": {
    "papermill": {
     "duration": 0.045409,
     "end_time": "2020-08-24T20:05:12.151645",
     "exception": false,
     "start_time": "2020-08-24T20:05:12.106236",
     "status": "completed"
    },
    "tags": []
   },
   "source": [
    "### Moving till the last but one layer (excluding it).\n",
    "#### Plotting the outputs of this layer of the NN."
   ]
  },
  {
   "cell_type": "code",
   "execution_count": 24,
   "metadata": {
    "execution": {
     "iopub.execute_input": "2020-08-24T20:05:12.244512Z",
     "iopub.status.busy": "2020-08-24T20:05:12.243954Z",
     "iopub.status.idle": "2020-08-24T20:05:12.259022Z",
     "shell.execute_reply": "2020-08-24T20:05:12.258535Z"
    },
    "papermill": {
     "duration": 0.063516,
     "end_time": "2020-08-24T20:05:12.259161",
     "exception": false,
     "start_time": "2020-08-24T20:05:12.195645",
     "status": "completed"
    },
    "tags": []
   },
   "outputs": [],
   "source": [
    "model_new = Model(layers[:-2])"
   ]
  },
  {
   "cell_type": "code",
   "execution_count": 25,
   "metadata": {
    "execution": {
     "iopub.execute_input": "2020-08-24T20:05:12.352072Z",
     "iopub.status.busy": "2020-08-24T20:05:12.351471Z",
     "iopub.status.idle": "2020-08-24T20:05:12.371093Z",
     "shell.execute_reply": "2020-08-24T20:05:12.371540Z"
    },
    "papermill": {
     "duration": 0.068381,
     "end_time": "2020-08-24T20:05:12.371679",
     "exception": false,
     "start_time": "2020-08-24T20:05:12.303298",
     "status": "completed"
    },
    "tags": []
   },
   "outputs": [],
   "source": [
    "plot_testing = model_new(testing_xdata)"
   ]
  },
  {
   "cell_type": "code",
   "execution_count": 26,
   "metadata": {
    "execution": {
     "iopub.execute_input": "2020-08-24T20:05:12.469463Z",
     "iopub.status.busy": "2020-08-24T20:05:12.468851Z",
     "iopub.status.idle": "2020-08-24T20:05:12.678376Z",
     "shell.execute_reply": "2020-08-24T20:05:12.678852Z"
    },
    "papermill": {
     "duration": 0.259551,
     "end_time": "2020-08-24T20:05:12.679006",
     "exception": false,
     "start_time": "2020-08-24T20:05:12.419455",
     "status": "completed"
    },
    "tags": []
   },
   "outputs": [
    {
     "data": {
      "text/plain": [
       "Text(0.5, 1.0, 'Outputs')"
      ]
     },
     "execution_count": 26,
     "metadata": {},
     "output_type": "execute_result"
    },
    {
     "data": {
      "image/png": "[encoded data removed]",
      "text/plain": [
       "<Figure size 576x504 with 1 Axes>"
      ]
     },
     "metadata": {
      "needs_background": "light"
     },
     "output_type": "display_data"
    }
   ],
   "source": [
    "plt.figure(figsize=(8,7))\n",
    "plt.scatter(plot_testing[:,0], plot_testing[:,1], alpha = 0.1, c = y_test.ravel());\n",
    "plt.title('Outputs')"
   ]
  },
  {
   "cell_type": "markdown",
   "metadata": {
    "papermill": {
     "duration": 0.045805,
     "end_time": "2020-08-24T20:05:12.771806",
     "exception": false,
     "start_time": "2020-08-24T20:05:12.726001",
     "status": "completed"
    },
    "tags": []
   },
   "source": [
    "### Plotting probability contours"
   ]
  },
  {
   "cell_type": "code",
   "execution_count": 27,
   "metadata": {
    "execution": {
     "iopub.execute_input": "2020-08-24T20:05:12.872404Z",
     "iopub.status.busy": "2020-08-24T20:05:12.871752Z",
     "iopub.status.idle": "2020-08-24T20:05:12.884665Z",
     "shell.execute_reply": "2020-08-24T20:05:12.884158Z"
    },
    "papermill": {
     "duration": 0.063591,
     "end_time": "2020-08-24T20:05:12.884789",
     "exception": false,
     "start_time": "2020-08-24T20:05:12.821198",
     "status": "completed"
    },
    "tags": []
   },
   "outputs": [],
   "source": [
    "model_prob = Model(layers[-2:]) "
   ]
  },
  {
   "cell_type": "code",
   "execution_count": 28,
   "metadata": {
    "execution": {
     "iopub.execute_input": "2020-08-24T20:05:12.983876Z",
     "iopub.status.busy": "2020-08-24T20:05:12.983270Z",
     "iopub.status.idle": "2020-08-24T20:05:12.996970Z",
     "shell.execute_reply": "2020-08-24T20:05:12.997418Z"
    },
    "papermill": {
     "duration": 0.066203,
     "end_time": "2020-08-24T20:05:12.997565",
     "exception": false,
     "start_time": "2020-08-24T20:05:12.931362",
     "status": "completed"
    },
    "tags": []
   },
   "outputs": [],
   "source": [
    "# Adjust the x and y ranges according to the above generated plot.\n",
    "x_range = np.linspace(-4, 1, 100) \n",
    "y_range = np.linspace(-6, 6, 100) \n",
    "x_grid, y_grid = np.meshgrid(x_range, y_range) # x_grid and y_grig are of size 100 X 100\n",
    "\n",
    "# converting x_grid and y_grid to continuous arrays\n",
    "x_grid_flat = np.ravel(x_grid)\n",
    "y_grid_flat = np.ravel(y_grid)\n",
    "\n",
    "# The last layer of the current model takes two columns as input. Hence transpose of np.vstack() is required.\n",
    "X = np.vstack((x_grid_flat, y_grid_flat)).T\n",
    "\n",
    "# x_grid and y_grid are of size 100 x 100\n",
    "probability_contour = model_prob(X).reshape(100,100) "
   ]
  },
  {
   "cell_type": "code",
   "execution_count": 29,
   "metadata": {
    "execution": {
     "iopub.execute_input": "2020-08-24T20:05:13.105144Z",
     "iopub.status.busy": "2020-08-24T20:05:13.104573Z",
     "iopub.status.idle": "2020-08-24T20:05:13.354798Z",
     "shell.execute_reply": "2020-08-24T20:05:13.354280Z"
    },
    "papermill": {
     "duration": 0.310609,
     "end_time": "2020-08-24T20:05:13.354933",
     "exception": false,
     "start_time": "2020-08-24T20:05:13.044324",
     "status": "completed"
    },
    "tags": []
   },
   "outputs": [
    {
     "data": {
      "image/png": "[encoded data removed]",
      "text/plain": [
       "<Figure size 720x648 with 1 Axes>"
      ]
     },
     "metadata": {
      "needs_background": "light"
     },
     "output_type": "display_data"
    }
   ],
   "source": [
    "plt.figure(figsize=(10,9))\n",
    "plt.scatter(plot_testing[:,0], plot_testing[:,1], alpha = 0.1, c = y_test.ravel())\n",
    "contours = plt.contour(x_grid,y_grid,probability_contour)\n",
    "plt.title('Probability Contours')\n",
    "plt.clabel(contours, inline = True );"
   ]
  }
 ],
 "metadata": {
  "kernelspec": {
   "display_name": "Python 3",
   "language": "python",
   "name": "python3"
  },
  "language_info": {
   "codemirror_mode": {
    "name": "ipython",
    "version": 3
   },
   "file_extension": ".py",
   "mimetype": "text/x-python",
   "name": "python",
   "nbconvert_exporter": "python",
   "pygments_lexer": "ipython3",
   "version": "3.6.11"
  },
  "papermill": {
   "duration": 104.00082,
   "end_time": "2020-08-24T20:05:13.817501",
   "environment_variables": {},
   "exception": null,
   "input_path": "2020-08-11-NeuralNetwork.ipynb",
   "output_path": "2020-08-11-NeuralNetwork.ipynb",
   "parameters": {},
   "start_time": "2020-08-24T20:03:29.816681",
   "version": "2.1.2"
  }
 },
 "nbformat": 4,
 "nbformat_minor": 4
}