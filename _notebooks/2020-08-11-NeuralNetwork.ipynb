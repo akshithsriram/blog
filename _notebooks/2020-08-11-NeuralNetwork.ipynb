{
 "cells": [
  {
   "cell_type": "markdown",
   "metadata": {
    "papermill": {
     "duration": 0.033241,
     "end_time": "2020-08-27T20:07:12.280273",
     "exception": false,
     "start_time": "2020-08-27T20:07:12.247032",
     "status": "completed"
    },
    "tags": []
   },
   "source": [
    "# \"A Basic Neural Network: Differentiate Hand-Written Digits\"\n",
    "\n",
    "- badges: true\n",
    "- author: Akshith Sriram"
   ]
  },
  {
   "cell_type": "markdown",
   "metadata": {
    "papermill": {
     "duration": 0.032179,
     "end_time": "2020-08-27T20:07:12.342912",
     "exception": false,
     "start_time": "2020-08-27T20:07:12.310733",
     "status": "completed"
    },
    "tags": []
   },
   "source": [
    "### Key Objectives:\n",
    "- Building a neural network that differentiates two hand-written digits 3 and 8.\n",
    "- Comparing the results of this Neural Network (NN) to that of a Logistic Regression (LR) model.\n",
    "\n",
    "### Requirements:\n",
    "- 'Kudzu' : A neural network library that was designed during our course by [Univ.AI](www.univ.ai). \n",
    "- MNIST Database\n",
    "\n",
    "If MNIST is not installed, use the command `!pip install mnist` given below.\n",
    "It can be run both from the command line and Jupyter Notebook."
   ]
  },
  {
   "cell_type": "code",
   "execution_count": 1,
   "metadata": {
    "execution": {
     "iopub.execute_input": "2020-08-27T20:07:12.407170Z",
     "iopub.status.busy": "2020-08-27T20:07:12.406051Z",
     "iopub.status.idle": "2020-08-27T20:07:13.933495Z",
     "shell.execute_reply": "2020-08-27T20:07:13.932550Z"
    },
    "papermill": {
     "duration": 1.561354,
     "end_time": "2020-08-27T20:07:13.933732",
     "exception": false,
     "start_time": "2020-08-27T20:07:12.372378",
     "status": "completed"
    },
    "tags": []
   },
   "outputs": [
    {
     "name": "stdout",
     "output_type": "stream",
     "text": [
      "Collecting mnist\r\n"
     ]
    },
    {
     "name": "stdout",
     "output_type": "stream",
     "text": [
      "  Downloading mnist-0.2.2-py2.py3-none-any.whl (3.5 kB)\r\n",
      "Requirement already satisfied: numpy in /opt/hostedtoolcache/Python/3.6.11/x64/lib/python3.6/site-packages (from mnist) (1.19.1)\r\n"
     ]
    },
    {
     "name": "stdout",
     "output_type": "stream",
     "text": [
      "Installing collected packages: mnist\r\n"
     ]
    },
    {
     "name": "stdout",
     "output_type": "stream",
     "text": [
      "Successfully installed mnist-0.2.2\r\n"
     ]
    }
   ],
   "source": [
    "!pip install mnist "
   ]
  },
  {
   "cell_type": "markdown",
   "metadata": {
    "papermill": {
     "duration": 0.028019,
     "end_time": "2020-08-27T20:07:13.991488",
     "exception": false,
     "start_time": "2020-08-27T20:07:13.963469",
     "status": "completed"
    },
    "tags": []
   },
   "source": [
    "#### Importing necessary libraries"
   ]
  },
  {
   "cell_type": "code",
   "execution_count": 2,
   "metadata": {
    "execution": {
     "iopub.execute_input": "2020-08-27T20:07:14.057682Z",
     "iopub.status.busy": "2020-08-27T20:07:14.057067Z",
     "iopub.status.idle": "2020-08-27T20:07:14.659206Z",
     "shell.execute_reply": "2020-08-27T20:07:14.658057Z"
    },
    "papermill": {
     "duration": 0.638474,
     "end_time": "2020-08-27T20:07:14.659356",
     "exception": false,
     "start_time": "2020-08-27T20:07:14.020882",
     "status": "completed"
    },
    "tags": []
   },
   "outputs": [],
   "source": [
    "%load_ext autoreload\n",
    "%autoreload 2\n",
    "\n",
    "%matplotlib inline\n",
    "import matplotlib.pyplot as plt\n",
    "\n",
    "import numpy as np\n",
    "import pandas as pd"
   ]
  },
  {
   "cell_type": "markdown",
   "metadata": {
    "papermill": {
     "duration": 0.029273,
     "end_time": "2020-08-27T20:07:14.717568",
     "exception": false,
     "start_time": "2020-08-27T20:07:14.688295",
     "status": "completed"
    },
    "tags": []
   },
   "source": [
    "### Preparing the Data"
   ]
  },
  {
   "cell_type": "code",
   "execution_count": 3,
   "metadata": {
    "execution": {
     "iopub.execute_input": "2020-08-27T20:07:14.780786Z",
     "iopub.status.busy": "2020-08-27T20:07:14.779597Z",
     "iopub.status.idle": "2020-08-27T20:07:14.792612Z",
     "shell.execute_reply": "2020-08-27T20:07:14.791971Z"
    },
    "papermill": {
     "duration": 0.046064,
     "end_time": "2020-08-27T20:07:14.792743",
     "exception": false,
     "start_time": "2020-08-27T20:07:14.746679",
     "status": "completed"
    },
    "tags": []
   },
   "outputs": [],
   "source": [
    "import mnist"
   ]
  },
  {
   "cell_type": "code",
   "execution_count": 4,
   "metadata": {
    "execution": {
     "iopub.execute_input": "2020-08-27T20:07:14.858604Z",
     "iopub.status.busy": "2020-08-27T20:07:14.857996Z",
     "iopub.status.idle": "2020-08-27T20:07:15.690070Z",
     "shell.execute_reply": "2020-08-27T20:07:15.690570Z"
    },
    "papermill": {
     "duration": 0.865003,
     "end_time": "2020-08-27T20:07:15.690738",
     "exception": false,
     "start_time": "2020-08-27T20:07:14.825735",
     "status": "completed"
    },
    "tags": []
   },
   "outputs": [],
   "source": [
    "train_images = mnist.train_images()\n",
    "train_labels = mnist.train_labels()"
   ]
  },
  {
   "cell_type": "code",
   "execution_count": 5,
   "metadata": {
    "execution": {
     "iopub.execute_input": "2020-08-27T20:07:15.898810Z",
     "iopub.status.busy": "2020-08-27T20:07:15.898166Z",
     "iopub.status.idle": "2020-08-27T20:07:15.912487Z",
     "shell.execute_reply": "2020-08-27T20:07:15.911909Z"
    },
    "papermill": {
     "duration": 0.18599,
     "end_time": "2020-08-27T20:07:15.912624",
     "exception": false,
     "start_time": "2020-08-27T20:07:15.726634",
     "status": "completed"
    },
    "tags": []
   },
   "outputs": [
    {
     "data": {
      "text/plain": [
       "((60000, 28, 28), (60000,))"
      ]
     },
     "execution_count": 5,
     "metadata": {},
     "output_type": "execute_result"
    }
   ],
   "source": [
    "train_images.shape, train_labels.shape"
   ]
  },
  {
   "cell_type": "code",
   "execution_count": 6,
   "metadata": {
    "execution": {
     "iopub.execute_input": "2020-08-27T20:07:16.201598Z",
     "iopub.status.busy": "2020-08-27T20:07:16.200961Z",
     "iopub.status.idle": "2020-08-27T20:07:16.520744Z",
     "shell.execute_reply": "2020-08-27T20:07:16.519827Z"
    },
    "papermill": {
     "duration": 0.579721,
     "end_time": "2020-08-27T20:07:16.520970",
     "exception": false,
     "start_time": "2020-08-27T20:07:15.941249",
     "status": "completed"
    },
    "tags": []
   },
   "outputs": [],
   "source": [
    "test_images = mnist.test_images()\n",
    "test_labels = mnist.test_labels()"
   ]
  },
  {
   "cell_type": "code",
   "execution_count": 7,
   "metadata": {
    "execution": {
     "iopub.execute_input": "2020-08-27T20:07:16.591151Z",
     "iopub.status.busy": "2020-08-27T20:07:16.590011Z",
     "iopub.status.idle": "2020-08-27T20:07:16.606654Z",
     "shell.execute_reply": "2020-08-27T20:07:16.607152Z"
    },
    "papermill": {
     "duration": 0.057562,
     "end_time": "2020-08-27T20:07:16.607308",
     "exception": false,
     "start_time": "2020-08-27T20:07:16.549746",
     "status": "completed"
    },
    "tags": []
   },
   "outputs": [
    {
     "data": {
      "text/plain": [
       "((10000, 28, 28), (10000,))"
      ]
     },
     "execution_count": 7,
     "metadata": {},
     "output_type": "execute_result"
    }
   ],
   "source": [
    "test_images.shape, test_labels.shape"
   ]
  },
  {
   "cell_type": "code",
   "execution_count": 8,
   "metadata": {
    "execution": {
     "iopub.execute_input": "2020-08-27T20:07:16.670437Z",
     "iopub.status.busy": "2020-08-27T20:07:16.669826Z",
     "iopub.status.idle": "2020-08-27T20:07:16.832520Z",
     "shell.execute_reply": "2020-08-27T20:07:16.831574Z"
    },
    "papermill": {
     "duration": 0.196416,
     "end_time": "2020-08-27T20:07:16.832735",
     "exception": false,
     "start_time": "2020-08-27T20:07:16.636319",
     "status": "completed"
    },
    "tags": []
   },
   "outputs": [
    {
     "name": "stdout",
     "output_type": "stream",
     "text": [
      "2\n"
     ]
    },
    {
     "data": {
      "text/plain": [
       "<matplotlib.image.AxesImage at 0x7f36bdb32b70>"
      ]
     },
     "execution_count": 8,
     "metadata": {},
     "output_type": "execute_result"
    },
    {
     "data": {
      "image/png": "[encoded data removed]",
      "text/plain": [
       "<Figure size 432x288 with 1 Axes>"
      ]
     },
     "metadata": {
      "needs_background": "light"
     },
     "output_type": "display_data"
    }
   ],
   "source": [
    "image_index = 7776 # You may select anything up to 60,000\n",
    "print(train_labels[image_index]) \n",
    "plt.imshow(train_images[image_index], cmap='Greys')"
   ]
  },
  {
   "cell_type": "markdown",
   "metadata": {
    "papermill": {
     "duration": 0.029962,
     "end_time": "2020-08-27T20:07:16.894540",
     "exception": false,
     "start_time": "2020-08-27T20:07:16.864578",
     "status": "completed"
    },
    "tags": []
   },
   "source": [
    "## Filter data to get 3 and 8 out"
   ]
  },
  {
   "cell_type": "code",
   "execution_count": 9,
   "metadata": {
    "execution": {
     "iopub.execute_input": "2020-08-27T20:07:16.966835Z",
     "iopub.status.busy": "2020-08-27T20:07:16.959238Z",
     "iopub.status.idle": "2020-08-27T20:07:16.981056Z",
     "shell.execute_reply": "2020-08-27T20:07:16.980435Z"
    },
    "papermill": {
     "duration": 0.05679,
     "end_time": "2020-08-27T20:07:16.981234",
     "exception": false,
     "start_time": "2020-08-27T20:07:16.924444",
     "status": "completed"
    },
    "tags": []
   },
   "outputs": [],
   "source": [
    "train_filter = np.where((train_labels == 3 ) | (train_labels == 8))\n",
    "test_filter = np.where((test_labels == 3) | (test_labels == 8))\n",
    "X_train, y_train = train_images[train_filter], train_labels[train_filter]\n",
    "X_test, y_test = test_images[test_filter], test_labels[test_filter]"
   ]
  },
  {
   "cell_type": "markdown",
   "metadata": {
    "papermill": {
     "duration": 0.031281,
     "end_time": "2020-08-27T20:07:17.044901",
     "exception": false,
     "start_time": "2020-08-27T20:07:17.013620",
     "status": "completed"
    },
    "tags": []
   },
   "source": [
    "We normalize the pixel values in the 0 to 1 range"
   ]
  },
  {
   "cell_type": "code",
   "execution_count": 10,
   "metadata": {
    "execution": {
     "iopub.execute_input": "2020-08-27T20:07:17.110727Z",
     "iopub.status.busy": "2020-08-27T20:07:17.109903Z",
     "iopub.status.idle": "2020-08-27T20:07:17.163705Z",
     "shell.execute_reply": "2020-08-27T20:07:17.163133Z"
    },
    "papermill": {
     "duration": 0.088403,
     "end_time": "2020-08-27T20:07:17.163855",
     "exception": false,
     "start_time": "2020-08-27T20:07:17.075452",
     "status": "completed"
    },
    "tags": []
   },
   "outputs": [],
   "source": [
    "X_train = X_train/255.\n",
    "X_test = X_test/255."
   ]
  },
  {
   "cell_type": "markdown",
   "metadata": {
    "papermill": {
     "duration": 0.032153,
     "end_time": "2020-08-27T20:07:17.228453",
     "exception": false,
     "start_time": "2020-08-27T20:07:17.196300",
     "status": "completed"
    },
    "tags": []
   },
   "source": [
    "Setup the labels as 1 (when the digit is 3) and 0 (when the digit is 8)"
   ]
  },
  {
   "cell_type": "code",
   "execution_count": 11,
   "metadata": {
    "execution": {
     "iopub.execute_input": "2020-08-27T20:07:17.293374Z",
     "iopub.status.busy": "2020-08-27T20:07:17.292764Z",
     "iopub.status.idle": "2020-08-27T20:07:17.306975Z",
     "shell.execute_reply": "2020-08-27T20:07:17.307464Z"
    },
    "papermill": {
     "duration": 0.049239,
     "end_time": "2020-08-27T20:07:17.307613",
     "exception": false,
     "start_time": "2020-08-27T20:07:17.258374",
     "status": "completed"
    },
    "tags": []
   },
   "outputs": [],
   "source": [
    "y_train = 1*(y_train==3)\n",
    "y_test = 1*(y_test==3)"
   ]
  },
  {
   "cell_type": "code",
   "execution_count": 12,
   "metadata": {
    "execution": {
     "iopub.execute_input": "2020-08-27T20:07:17.371988Z",
     "iopub.status.busy": "2020-08-27T20:07:17.371313Z",
     "iopub.status.idle": "2020-08-27T20:07:17.388307Z",
     "shell.execute_reply": "2020-08-27T20:07:17.387753Z"
    },
    "papermill": {
     "duration": 0.050434,
     "end_time": "2020-08-27T20:07:17.388441",
     "exception": false,
     "start_time": "2020-08-27T20:07:17.338007",
     "status": "completed"
    },
    "tags": []
   },
   "outputs": [
    {
     "data": {
      "text/plain": [
       "((11982, 28, 28), (1984, 28, 28))"
      ]
     },
     "execution_count": 12,
     "metadata": {},
     "output_type": "execute_result"
    }
   ],
   "source": [
    "X_train.shape, X_test.shape"
   ]
  },
  {
   "cell_type": "markdown",
   "metadata": {
    "papermill": {
     "duration": 0.031061,
     "end_time": "2020-08-27T20:07:17.449513",
     "exception": false,
     "start_time": "2020-08-27T20:07:17.418452",
     "status": "completed"
    },
    "tags": []
   },
   "source": [
    "### Reshape the input data to create a linear array"
   ]
  },
  {
   "cell_type": "code",
   "execution_count": 13,
   "metadata": {
    "execution": {
     "iopub.execute_input": "2020-08-27T20:07:17.517190Z",
     "iopub.status.busy": "2020-08-27T20:07:17.516573Z",
     "iopub.status.idle": "2020-08-27T20:07:17.531740Z",
     "shell.execute_reply": "2020-08-27T20:07:17.531220Z"
    },
    "papermill": {
     "duration": 0.051813,
     "end_time": "2020-08-27T20:07:17.531870",
     "exception": false,
     "start_time": "2020-08-27T20:07:17.480057",
     "status": "completed"
    },
    "tags": []
   },
   "outputs": [
    {
     "data": {
      "text/plain": [
       "((11982, 784), (1984, 784))"
      ]
     },
     "execution_count": 13,
     "metadata": {},
     "output_type": "execute_result"
    }
   ],
   "source": [
    "X_train = X_train.reshape(X_train.shape[0], -1)\n",
    "X_test = X_test.reshape(X_test.shape[0], -1)\n",
    "X_train.shape, X_test.shape"
   ]
  },
  {
   "cell_type": "markdown",
   "metadata": {
    "papermill": {
     "duration": 0.030401,
     "end_time": "2020-08-27T20:07:17.592750",
     "exception": false,
     "start_time": "2020-08-27T20:07:17.562349",
     "status": "completed"
    },
    "tags": []
   },
   "source": [
    "### Importing appropriate functions from 'Kudzu'"
   ]
  },
  {
   "cell_type": "code",
   "execution_count": 14,
   "metadata": {
    "execution": {
     "iopub.execute_input": "2020-08-27T20:07:17.666690Z",
     "iopub.status.busy": "2020-08-27T20:07:17.666082Z",
     "iopub.status.idle": "2020-08-27T20:07:17.688597Z",
     "shell.execute_reply": "2020-08-27T20:07:17.688040Z"
    },
    "papermill": {
     "duration": 0.060187,
     "end_time": "2020-08-27T20:07:17.688725",
     "exception": false,
     "start_time": "2020-08-27T20:07:17.628538",
     "status": "completed"
    },
    "tags": []
   },
   "outputs": [],
   "source": [
    "from kudzu.layer import Sigmoid\n",
    "from kudzu.layer import Relu\n",
    "from kudzu.layer import Affine, Sigmoid\n",
    "\n",
    "from kudzu.model import Model\n",
    "from kudzu.train import Learner\n",
    "from kudzu.optim import GD\n",
    "from kudzu.data import Data, Dataloader, Sampler\n",
    "\n",
    "from kudzu.callbacks import AccCallback\n",
    "from kudzu.callbacks import ClfCallback\n",
    "\n",
    "from kudzu.loss import MSE"
   ]
  },
  {
   "cell_type": "markdown",
   "metadata": {
    "papermill": {
     "duration": 0.030295,
     "end_time": "2020-08-27T20:07:17.754562",
     "exception": false,
     "start_time": "2020-08-27T20:07:17.724267",
     "status": "completed"
    },
    "tags": []
   },
   "source": [
    "### Let us create a `Config` class, to store important parameters. \n",
    "This class essentially plays the role of a dictionary."
   ]
  },
  {
   "cell_type": "code",
   "execution_count": 15,
   "metadata": {
    "execution": {
     "iopub.execute_input": "2020-08-27T20:07:17.820087Z",
     "iopub.status.busy": "2020-08-27T20:07:17.819458Z",
     "iopub.status.idle": "2020-08-27T20:07:17.832681Z",
     "shell.execute_reply": "2020-08-27T20:07:17.833147Z"
    },
    "papermill": {
     "duration": 0.048187,
     "end_time": "2020-08-27T20:07:17.833292",
     "exception": false,
     "start_time": "2020-08-27T20:07:17.785105",
     "status": "completed"
    },
    "tags": []
   },
   "outputs": [],
   "source": [
    "class Config:\n",
    "    pass\n",
    "config = Config()\n",
    "config.lr = 0.001\n",
    "config.num_epochs = 251\n",
    "config.bs = 50"
   ]
  },
  {
   "cell_type": "markdown",
   "metadata": {
    "papermill": {
     "duration": 0.030374,
     "end_time": "2020-08-27T20:07:17.894090",
     "exception": false,
     "start_time": "2020-08-27T20:07:17.863716",
     "status": "completed"
    },
    "tags": []
   },
   "source": [
    "### Initializing data to the variables"
   ]
  },
  {
   "cell_type": "code",
   "execution_count": 16,
   "metadata": {
    "execution": {
     "iopub.execute_input": "2020-08-27T20:07:17.961460Z",
     "iopub.status.busy": "2020-08-27T20:07:17.960826Z",
     "iopub.status.idle": "2020-08-27T20:07:17.974288Z",
     "shell.execute_reply": "2020-08-27T20:07:17.974758Z"
    },
    "papermill": {
     "duration": 0.05017,
     "end_time": "2020-08-27T20:07:17.974909",
     "exception": false,
     "start_time": "2020-08-27T20:07:17.924739",
     "status": "completed"
    },
    "tags": []
   },
   "outputs": [],
   "source": [
    "data = Data(X_train, y_train.reshape(-1,1))\n",
    "sampler = Sampler(data, config.bs, shuffle=True)\n",
    "\n",
    "dl = Dataloader(data, sampler)\n",
    "\n",
    "opt = GD(config.lr)\n",
    "loss = MSE()"
   ]
  },
  {
   "cell_type": "code",
   "execution_count": 17,
   "metadata": {
    "execution": {
     "iopub.execute_input": "2020-08-27T20:07:18.046602Z",
     "iopub.status.busy": "2020-08-27T20:07:18.045874Z",
     "iopub.status.idle": "2020-08-27T20:07:18.063424Z",
     "shell.execute_reply": "2020-08-27T20:07:18.062867Z"
    },
    "papermill": {
     "duration": 0.053457,
     "end_time": "2020-08-27T20:07:18.063562",
     "exception": false,
     "start_time": "2020-08-27T20:07:18.010105",
     "status": "completed"
    },
    "tags": []
   },
   "outputs": [],
   "source": [
    "training_xdata = X_train\n",
    "testing_xdata = X_test\n",
    "training_ydata = y_train.reshape(-1,1)\n",
    "testing_ydata = y_test.reshape(-1,1)"
   ]
  },
  {
   "cell_type": "markdown",
   "metadata": {
    "papermill": {
     "duration": 0.033724,
     "end_time": "2020-08-27T20:07:18.137998",
     "exception": false,
     "start_time": "2020-08-27T20:07:18.104274",
     "status": "completed"
    },
    "tags": []
   },
   "source": [
    "### Running Models with the Training data\n",
    "Details about the network layers:\n",
    "- A first affine layer has 784 inputs and does 100 affine transforms. These are followed by a Relu\n",
    "- A second affine layer has 100 inputs from the 100 activations of the past layer, and does 100 affine transforms. These are followed by a Relu\n",
    "- A third affine layer has 100 activations and does 2 affine transformations to create an embedding for visualization. There is no non-linearity here.\n",
    "- A final \"logistic regression\" which has an affine transform from 2 inputs to 1 output, which is squeezed through a sigmoid.\n",
    "\n",
    "Help taken from Anshuman's Notebook."
   ]
  },
  {
   "cell_type": "code",
   "execution_count": 18,
   "metadata": {
    "execution": {
     "iopub.execute_input": "2020-08-27T20:07:18.214384Z",
     "iopub.status.busy": "2020-08-27T20:07:18.213748Z",
     "iopub.status.idle": "2020-08-27T20:07:18.233279Z",
     "shell.execute_reply": "2020-08-27T20:07:18.232608Z"
    },
    "papermill": {
     "duration": 0.057201,
     "end_time": "2020-08-27T20:07:18.233415",
     "exception": false,
     "start_time": "2020-08-27T20:07:18.176214",
     "status": "completed"
    },
    "tags": []
   },
   "outputs": [],
   "source": [
    "# layers for the Neural Network\n",
    "layers = [Affine(\"first\", 784, 100), Relu(\"first\"), Affine(\"second\", 100, 100), Relu(\"second\"), Affine(\"third\", 100, 2), Affine(\"final\", 2, 1), Sigmoid(\"final\")]\n",
    "model_nn = Model(layers)\n",
    "\n",
    "# layers for the Logistic Regression\n",
    "layers_lr = [Affine(\"logits\", 784, 1), Sigmoid(\"sigmoid\")]\n",
    "model_lr = Model(layers_lr)"
   ]
  },
  {
   "cell_type": "code",
   "execution_count": 19,
   "metadata": {
    "execution": {
     "iopub.execute_input": "2020-08-27T20:07:18.302666Z",
     "iopub.status.busy": "2020-08-27T20:07:18.302040Z",
     "iopub.status.idle": "2020-08-27T20:07:18.316540Z",
     "shell.execute_reply": "2020-08-27T20:07:18.317142Z"
    },
    "papermill": {
     "duration": 0.052321,
     "end_time": "2020-08-27T20:07:18.317365",
     "exception": false,
     "start_time": "2020-08-27T20:07:18.265044",
     "status": "completed"
    },
    "tags": []
   },
   "outputs": [],
   "source": [
    "# suffix _nn stands for Neural Network.\n",
    "learner_nn = Learner(loss, model_nn, opt, config.num_epochs)\n",
    "acc_nn = ClfCallback(learner_nn, config.bs, training_xdata , testing_xdata, training_ydata, testing_ydata)\n",
    "learner_nn.set_callbacks([acc_nn])"
   ]
  },
  {
   "cell_type": "code",
   "execution_count": 20,
   "metadata": {
    "execution": {
     "iopub.execute_input": "2020-08-27T20:07:18.387507Z",
     "iopub.status.busy": "2020-08-27T20:07:18.386846Z",
     "iopub.status.idle": "2020-08-27T20:08:48.847422Z",
     "shell.execute_reply": "2020-08-27T20:08:48.848266Z"
    },
    "papermill": {
     "duration": 90.497962,
     "end_time": "2020-08-27T20:08:48.848431",
     "exception": false,
     "start_time": "2020-08-27T20:07:18.350469",
     "status": "completed"
    },
    "tags": []
   },
   "outputs": [
    {
     "name": "stdout",
     "output_type": "stream",
     "text": [
      "====== Neural Network ======\n"
     ]
    },
    {
     "name": "stdout",
     "output_type": "stream",
     "text": [
      "Epoch 0, Loss 0.2141\n",
      "Training Accuracy: 0.8156, Testing Accuracy: 0.8241\n",
      "\n"
     ]
    },
    {
     "name": "stdout",
     "output_type": "stream",
     "text": [
      "Epoch 10, Loss 0.0726\n",
      "Training Accuracy: 0.9297, Testing Accuracy: 0.9425\n",
      "\n"
     ]
    },
    {
     "name": "stdout",
     "output_type": "stream",
     "text": [
      "Epoch 20, Loss 0.0484\n",
      "Training Accuracy: 0.9499, Testing Accuracy: 0.9622\n",
      "\n"
     ]
    },
    {
     "name": "stdout",
     "output_type": "stream",
     "text": [
      "Epoch 30, Loss 0.0395\n",
      "Training Accuracy: 0.9564, Testing Accuracy: 0.9662\n",
      "\n"
     ]
    },
    {
     "name": "stdout",
     "output_type": "stream",
     "text": [
      "Epoch 40, Loss 0.0349\n",
      "Training Accuracy: 0.9604, Testing Accuracy: 0.9677\n",
      "\n"
     ]
    },
    {
     "name": "stdout",
     "output_type": "stream",
     "text": [
      "Epoch 50, Loss 0.032\n",
      "Training Accuracy: 0.9629, Testing Accuracy: 0.9693\n",
      "\n"
     ]
    },
    {
     "name": "stdout",
     "output_type": "stream",
     "text": [
      "Epoch 60, Loss 0.03\n",
      "Training Accuracy: 0.9650, Testing Accuracy: 0.9698\n",
      "\n"
     ]
    },
    {
     "name": "stdout",
     "output_type": "stream",
     "text": [
      "Epoch 70, Loss 0.0284\n",
      "Training Accuracy: 0.9666, Testing Accuracy: 0.9708\n",
      "\n"
     ]
    },
    {
     "name": "stdout",
     "output_type": "stream",
     "text": [
      "Epoch 80, Loss 0.0271\n",
      "Training Accuracy: 0.9675, Testing Accuracy: 0.9708\n",
      "\n"
     ]
    },
    {
     "name": "stdout",
     "output_type": "stream",
     "text": [
      "Epoch 90, Loss 0.0261\n",
      "Training Accuracy: 0.9693, Testing Accuracy: 0.9703\n",
      "\n"
     ]
    },
    {
     "name": "stdout",
     "output_type": "stream",
     "text": [
      "Epoch 100, Loss 0.0251\n",
      "Training Accuracy: 0.9706, Testing Accuracy: 0.9703\n",
      "\n"
     ]
    },
    {
     "name": "stdout",
     "output_type": "stream",
     "text": [
      "Epoch 110, Loss 0.0243\n",
      "Training Accuracy: 0.9720, Testing Accuracy: 0.9698\n",
      "\n"
     ]
    },
    {
     "name": "stdout",
     "output_type": "stream",
     "text": [
      "Epoch 120, Loss 0.0236\n",
      "Training Accuracy: 0.9725, Testing Accuracy: 0.9703\n",
      "\n"
     ]
    },
    {
     "name": "stdout",
     "output_type": "stream",
     "text": [
      "Epoch 130, Loss 0.0229\n",
      "Training Accuracy: 0.9736, Testing Accuracy: 0.9703\n",
      "\n"
     ]
    },
    {
     "name": "stdout",
     "output_type": "stream",
     "text": [
      "Epoch 140, Loss 0.0223\n",
      "Training Accuracy: 0.9745, Testing Accuracy: 0.9693\n",
      "\n"
     ]
    },
    {
     "name": "stdout",
     "output_type": "stream",
     "text": [
      "Epoch 150, Loss 0.0217\n",
      "Training Accuracy: 0.9750, Testing Accuracy: 0.9698\n",
      "\n"
     ]
    },
    {
     "name": "stdout",
     "output_type": "stream",
     "text": [
      "Epoch 160, Loss 0.0212\n",
      "Training Accuracy: 0.9760, Testing Accuracy: 0.9713\n",
      "\n"
     ]
    },
    {
     "name": "stdout",
     "output_type": "stream",
     "text": [
      "Epoch 170, Loss 0.0207\n",
      "Training Accuracy: 0.9765, Testing Accuracy: 0.9708\n",
      "\n"
     ]
    },
    {
     "name": "stdout",
     "output_type": "stream",
     "text": [
      "Epoch 180, Loss 0.0202\n",
      "Training Accuracy: 0.9771, Testing Accuracy: 0.9713\n",
      "\n"
     ]
    },
    {
     "name": "stdout",
     "output_type": "stream",
     "text": [
      "Epoch 190, Loss 0.0198\n",
      "Training Accuracy: 0.9776, Testing Accuracy: 0.9723\n",
      "\n"
     ]
    },
    {
     "name": "stdout",
     "output_type": "stream",
     "text": [
      "Epoch 200, Loss 0.0194\n",
      "Training Accuracy: 0.9781, Testing Accuracy: 0.9738\n",
      "\n"
     ]
    },
    {
     "name": "stdout",
     "output_type": "stream",
     "text": [
      "Epoch 210, Loss 0.019\n",
      "Training Accuracy: 0.9791, Testing Accuracy: 0.9738\n",
      "\n"
     ]
    },
    {
     "name": "stdout",
     "output_type": "stream",
     "text": [
      "Epoch 220, Loss 0.0186\n",
      "Training Accuracy: 0.9797, Testing Accuracy: 0.9743\n",
      "\n"
     ]
    },
    {
     "name": "stdout",
     "output_type": "stream",
     "text": [
      "Epoch 230, Loss 0.0182\n",
      "Training Accuracy: 0.9804, Testing Accuracy: 0.9748\n",
      "\n"
     ]
    },
    {
     "name": "stdout",
     "output_type": "stream",
     "text": [
      "Epoch 240, Loss 0.0179\n",
      "Training Accuracy: 0.9809, Testing Accuracy: 0.9743\n",
      "\n"
     ]
    },
    {
     "name": "stdout",
     "output_type": "stream",
     "text": [
      "Epoch 250, Loss 0.0176\n",
      "Training Accuracy: 0.9811, Testing Accuracy: 0.9738\n",
      "\n"
     ]
    },
    {
     "data": {
      "text/plain": [
       "0.01517236861309135"
      ]
     },
     "execution_count": 20,
     "metadata": {},
     "output_type": "execute_result"
    }
   ],
   "source": [
    "print(\"====== Neural Network ======\")\n",
    "learner_nn.train_loop(dl)"
   ]
  },
  {
   "cell_type": "markdown",
   "metadata": {
    "papermill": {
     "duration": 0.038999,
     "end_time": "2020-08-27T20:08:48.928211",
     "exception": false,
     "start_time": "2020-08-27T20:08:48.889212",
     "status": "completed"
    },
    "tags": []
   },
   "source": [
    "### Logistic Regression based Implementation."
   ]
  },
  {
   "cell_type": "code",
   "execution_count": 21,
   "metadata": {
    "execution": {
     "iopub.execute_input": "2020-08-27T20:08:49.012438Z",
     "iopub.status.busy": "2020-08-27T20:08:49.011362Z",
     "iopub.status.idle": "2020-08-27T20:08:49.024420Z",
     "shell.execute_reply": "2020-08-27T20:08:49.023870Z"
    },
    "papermill": {
     "duration": 0.057373,
     "end_time": "2020-08-27T20:08:49.024555",
     "exception": false,
     "start_time": "2020-08-27T20:08:48.967182",
     "status": "completed"
    },
    "tags": []
   },
   "outputs": [],
   "source": [
    "learner_lr = Learner(loss, model_lr, opt, config.num_epochs)\n",
    "acc_lr = ClfCallback(learner_lr, config.bs, training_xdata , testing_xdata, training_ydata, testing_ydata)\n",
    "learner_lr.set_callbacks([acc_lr])"
   ]
  },
  {
   "cell_type": "code",
   "execution_count": 22,
   "metadata": {
    "execution": {
     "iopub.execute_input": "2020-08-27T20:08:49.116675Z",
     "iopub.status.busy": "2020-08-27T20:08:49.116029Z",
     "iopub.status.idle": "2020-08-27T20:09:06.028170Z",
     "shell.execute_reply": "2020-08-27T20:09:06.027320Z"
    },
    "papermill": {
     "duration": 16.960766,
     "end_time": "2020-08-27T20:09:06.028311",
     "exception": false,
     "start_time": "2020-08-27T20:08:49.067545",
     "status": "completed"
    },
    "tags": []
   },
   "outputs": [
    {
     "name": "stdout",
     "output_type": "stream",
     "text": [
      "====== Logistic Regression ======\n",
      "Epoch 0, Loss 0.247\n",
      "Training Accuracy: 0.6533, Testing Accuracy: 0.6845\n",
      "\n"
     ]
    },
    {
     "name": "stdout",
     "output_type": "stream",
     "text": [
      "Epoch 10, Loss 0.106\n",
      "Training Accuracy: 0.9067, Testing Accuracy: 0.9103\n",
      "\n"
     ]
    },
    {
     "name": "stdout",
     "output_type": "stream",
     "text": [
      "Epoch 20, Loss 0.081\n",
      "Training Accuracy: 0.9274, Testing Accuracy: 0.9325\n",
      "\n"
     ]
    },
    {
     "name": "stdout",
     "output_type": "stream",
     "text": [
      "Epoch 30, Loss 0.0694\n",
      "Training Accuracy: 0.9361, Testing Accuracy: 0.9451\n",
      "\n"
     ]
    },
    {
     "name": "stdout",
     "output_type": "stream",
     "text": [
      "Epoch 40, Loss 0.0625\n",
      "Training Accuracy: 0.9423, Testing Accuracy: 0.9491\n",
      "\n"
     ]
    },
    {
     "name": "stdout",
     "output_type": "stream",
     "text": [
      "Epoch 50, Loss 0.0578\n",
      "Training Accuracy: 0.9455, Testing Accuracy: 0.9531\n",
      "\n"
     ]
    },
    {
     "name": "stdout",
     "output_type": "stream",
     "text": [
      "Epoch 60, Loss 0.0544\n",
      "Training Accuracy: 0.9485, Testing Accuracy: 0.9556\n",
      "\n"
     ]
    },
    {
     "name": "stdout",
     "output_type": "stream",
     "text": [
      "Epoch 70, Loss 0.0518\n",
      "Training Accuracy: 0.9503, Testing Accuracy: 0.9582\n",
      "\n"
     ]
    },
    {
     "name": "stdout",
     "output_type": "stream",
     "text": [
      "Epoch 80, Loss 0.0497\n",
      "Training Accuracy: 0.9511, Testing Accuracy: 0.9587\n",
      "\n"
     ]
    },
    {
     "name": "stdout",
     "output_type": "stream",
     "text": [
      "Epoch 90, Loss 0.0479\n",
      "Training Accuracy: 0.9520, Testing Accuracy: 0.9607\n",
      "\n"
     ]
    },
    {
     "name": "stdout",
     "output_type": "stream",
     "text": [
      "Epoch 100, Loss 0.0465\n",
      "Training Accuracy: 0.9528, Testing Accuracy: 0.9612\n",
      "\n"
     ]
    },
    {
     "name": "stdout",
     "output_type": "stream",
     "text": [
      "Epoch 110, Loss 0.0452\n",
      "Training Accuracy: 0.9538, Testing Accuracy: 0.9617\n",
      "\n"
     ]
    },
    {
     "name": "stdout",
     "output_type": "stream",
     "text": [
      "Epoch 120, Loss 0.0441\n",
      "Training Accuracy: 0.9546, Testing Accuracy: 0.9632\n",
      "\n"
     ]
    },
    {
     "name": "stdout",
     "output_type": "stream",
     "text": [
      "Epoch 130, Loss 0.0432\n",
      "Training Accuracy: 0.9552, Testing Accuracy: 0.9637\n",
      "\n"
     ]
    },
    {
     "name": "stdout",
     "output_type": "stream",
     "text": [
      "Epoch 140, Loss 0.0423\n",
      "Training Accuracy: 0.9560, Testing Accuracy: 0.9647\n",
      "\n"
     ]
    },
    {
     "name": "stdout",
     "output_type": "stream",
     "text": [
      "Epoch 150, Loss 0.0416\n",
      "Training Accuracy: 0.9564, Testing Accuracy: 0.9657\n",
      "\n"
     ]
    },
    {
     "name": "stdout",
     "output_type": "stream",
     "text": [
      "Epoch 160, Loss 0.0409\n",
      "Training Accuracy: 0.9567, Testing Accuracy: 0.9657\n",
      "\n"
     ]
    },
    {
     "name": "stdout",
     "output_type": "stream",
     "text": [
      "Epoch 170, Loss 0.0403\n",
      "Training Accuracy: 0.9569, Testing Accuracy: 0.9667\n",
      "\n"
     ]
    },
    {
     "name": "stdout",
     "output_type": "stream",
     "text": [
      "Epoch 180, Loss 0.0397\n",
      "Training Accuracy: 0.9584, Testing Accuracy: 0.9667\n",
      "\n"
     ]
    },
    {
     "name": "stdout",
     "output_type": "stream",
     "text": [
      "Epoch 190, Loss 0.0392\n",
      "Training Accuracy: 0.9590, Testing Accuracy: 0.9677\n",
      "\n"
     ]
    },
    {
     "name": "stdout",
     "output_type": "stream",
     "text": [
      "Epoch 200, Loss 0.0387\n",
      "Training Accuracy: 0.9595, Testing Accuracy: 0.9677\n",
      "\n"
     ]
    },
    {
     "name": "stdout",
     "output_type": "stream",
     "text": [
      "Epoch 210, Loss 0.0382\n",
      "Training Accuracy: 0.9597, Testing Accuracy: 0.9677\n",
      "\n"
     ]
    },
    {
     "name": "stdout",
     "output_type": "stream",
     "text": [
      "Epoch 220, Loss 0.0378\n",
      "Training Accuracy: 0.9600, Testing Accuracy: 0.9677\n",
      "\n"
     ]
    },
    {
     "name": "stdout",
     "output_type": "stream",
     "text": [
      "Epoch 230, Loss 0.0374\n",
      "Training Accuracy: 0.9605, Testing Accuracy: 0.9682\n",
      "\n"
     ]
    },
    {
     "name": "stdout",
     "output_type": "stream",
     "text": [
      "Epoch 240, Loss 0.037\n",
      "Training Accuracy: 0.9609, Testing Accuracy: 0.9688\n",
      "\n"
     ]
    },
    {
     "name": "stdout",
     "output_type": "stream",
     "text": [
      "Epoch 250, Loss 0.0367\n",
      "Training Accuracy: 0.9610, Testing Accuracy: 0.9682\n",
      "\n"
     ]
    },
    {
     "data": {
      "text/plain": [
       "0.05126952443233732"
      ]
     },
     "execution_count": 22,
     "metadata": {},
     "output_type": "execute_result"
    }
   ],
   "source": [
    "print(\"====== Logistic Regression ======\")\n",
    "learner_lr.train_loop(dl)"
   ]
  },
  {
   "cell_type": "markdown",
   "metadata": {
    "papermill": {
     "duration": 0.052537,
     "end_time": "2020-08-27T20:09:06.134437",
     "exception": false,
     "start_time": "2020-08-27T20:09:06.081900",
     "status": "completed"
    },
    "tags": []
   },
   "source": [
    "### Comparing results of NN and LR"
   ]
  },
  {
   "cell_type": "code",
   "execution_count": 23,
   "metadata": {
    "execution": {
     "iopub.execute_input": "2020-08-27T20:09:06.239114Z",
     "iopub.status.busy": "2020-08-27T20:09:06.238503Z",
     "iopub.status.idle": "2020-08-27T20:09:06.503920Z",
     "shell.execute_reply": "2020-08-27T20:09:06.503383Z"
    },
    "papermill": {
     "duration": 0.321271,
     "end_time": "2020-08-27T20:09:06.504058",
     "exception": false,
     "start_time": "2020-08-27T20:09:06.182787",
     "status": "completed"
    },
    "tags": []
   },
   "outputs": [
    {
     "data": {
      "text/plain": [
       "<matplotlib.legend.Legend at 0x7f36bd71b2b0>"
      ]
     },
     "execution_count": 23,
     "metadata": {},
     "output_type": "execute_result"
    },
    {
     "data": {
      "image/png": "[encoded data removed]",
      "text/plain": [
       "<Figure size 1080x720 with 1 Axes>"
      ]
     },
     "metadata": {
      "needs_background": "light"
     },
     "output_type": "display_data"
    }
   ],
   "source": [
    "plt.figure(figsize=(15,10))\n",
    "\n",
    "# Neural Network plots\n",
    "plt.plot(acc_nn.accuracies, 'r-', label = \"Training Accuracies - NN\")\n",
    "plt.plot(acc_nn.test_accuracies, 'g-', label = \"Testing Accuracies - NN\")\n",
    "\n",
    "# Logistic Regression plots\n",
    "plt.plot(acc_lr.accuracies, 'k-', label = \"Training Accuracies - LR\")\n",
    "plt.plot(acc_lr.test_accuracies, 'b-', label = \"Testing Accuracies - LR\")\n",
    "\n",
    "plt.ylim(0.8, 1)\n",
    "\n",
    "plt.legend()\n",
    "\n"
   ]
  },
  {
   "cell_type": "markdown",
   "metadata": {
    "papermill": {
     "duration": 0.050994,
     "end_time": "2020-08-27T20:09:06.606128",
     "exception": false,
     "start_time": "2020-08-27T20:09:06.555134",
     "status": "completed"
    },
    "tags": []
   },
   "source": [
    "### From the plot, we can observe the following:\n",
    "- Neural Network achieves higher accuracy than the Logistic Regression model.\n",
    "- This apparently, is because of overfitting, i.e. NN captures more noise than data.\n",
    "- Testing accuracy of NN drops below the Training accuracy at higher epochs. This explains the over-fitting on training data.\n",
    "- Logistic Regression gives a reliable accuracy, without the above mentioned problem.\n"
   ]
  },
  {
   "cell_type": "markdown",
   "metadata": {
    "papermill": {
     "duration": 0.049558,
     "end_time": "2020-08-27T20:09:06.706785",
     "exception": false,
     "start_time": "2020-08-27T20:09:06.657227",
     "status": "completed"
    },
    "tags": []
   },
   "source": [
    "### Moving till the last but one layer (excluding it).\n",
    "#### Plotting the outputs of this layer of the NN."
   ]
  },
  {
   "cell_type": "code",
   "execution_count": 24,
   "metadata": {
    "execution": {
     "iopub.execute_input": "2020-08-27T20:09:06.813146Z",
     "iopub.status.busy": "2020-08-27T20:09:06.812508Z",
     "iopub.status.idle": "2020-08-27T20:09:06.824751Z",
     "shell.execute_reply": "2020-08-27T20:09:06.825241Z"
    },
    "papermill": {
     "duration": 0.068959,
     "end_time": "2020-08-27T20:09:06.825389",
     "exception": false,
     "start_time": "2020-08-27T20:09:06.756430",
     "status": "completed"
    },
    "tags": []
   },
   "outputs": [],
   "source": [
    "model_new = Model(layers[:-2])"
   ]
  },
  {
   "cell_type": "code",
   "execution_count": 25,
   "metadata": {
    "execution": {
     "iopub.execute_input": "2020-08-27T20:09:06.929233Z",
     "iopub.status.busy": "2020-08-27T20:09:06.928617Z",
     "iopub.status.idle": "2020-08-27T20:09:06.950455Z",
     "shell.execute_reply": "2020-08-27T20:09:06.951187Z"
    },
    "papermill": {
     "duration": 0.076076,
     "end_time": "2020-08-27T20:09:06.951340",
     "exception": false,
     "start_time": "2020-08-27T20:09:06.875264",
     "status": "completed"
    },
    "tags": []
   },
   "outputs": [],
   "source": [
    "plot_testing = model_new(testing_xdata)"
   ]
  },
  {
   "cell_type": "code",
   "execution_count": 26,
   "metadata": {
    "execution": {
     "iopub.execute_input": "2020-08-27T20:09:07.065337Z",
     "iopub.status.busy": "2020-08-27T20:09:07.064720Z",
     "iopub.status.idle": "2020-08-27T20:09:07.290377Z",
     "shell.execute_reply": "2020-08-27T20:09:07.290879Z"
    },
    "papermill": {
     "duration": 0.283462,
     "end_time": "2020-08-27T20:09:07.291035",
     "exception": false,
     "start_time": "2020-08-27T20:09:07.007573",
     "status": "completed"
    },
    "tags": []
   },
   "outputs": [
    {
     "data": {
      "text/plain": [
       "Text(0.5, 1.0, 'Outputs')"
      ]
     },
     "execution_count": 26,
     "metadata": {},
     "output_type": "execute_result"
    },
    {
     "data": {
      "image/png": "[encoded data removed]",
      "text/plain": [
       "<Figure size 576x504 with 1 Axes>"
      ]
     },
     "metadata": {
      "needs_background": "light"
     },
     "output_type": "display_data"
    }
   ],
   "source": [
    "plt.figure(figsize=(8,7))\n",
    "plt.scatter(plot_testing[:,0], plot_testing[:,1], alpha = 0.1, c = y_test.ravel());\n",
    "plt.title('Outputs')"
   ]
  },
  {
   "cell_type": "markdown",
   "metadata": {
    "papermill": {
     "duration": 0.052302,
     "end_time": "2020-08-27T20:09:07.395366",
     "exception": false,
     "start_time": "2020-08-27T20:09:07.343064",
     "status": "completed"
    },
    "tags": []
   },
   "source": [
    "### Plotting probability contours"
   ]
  },
  {
   "cell_type": "code",
   "execution_count": 27,
   "metadata": {
    "execution": {
     "iopub.execute_input": "2020-08-27T20:09:07.506110Z",
     "iopub.status.busy": "2020-08-27T20:09:07.505500Z",
     "iopub.status.idle": "2020-08-27T20:09:07.520681Z",
     "shell.execute_reply": "2020-08-27T20:09:07.519515Z"
    },
    "papermill": {
     "duration": 0.073293,
     "end_time": "2020-08-27T20:09:07.520816",
     "exception": false,
     "start_time": "2020-08-27T20:09:07.447523",
     "status": "completed"
    },
    "tags": []
   },
   "outputs": [],
   "source": [
    "model_prob = Model(layers[-2:]) "
   ]
  },
  {
   "cell_type": "code",
   "execution_count": 28,
   "metadata": {
    "execution": {
     "iopub.execute_input": "2020-08-27T20:09:07.630843Z",
     "iopub.status.busy": "2020-08-27T20:09:07.630108Z",
     "iopub.status.idle": "2020-08-27T20:09:07.645457Z",
     "shell.execute_reply": "2020-08-27T20:09:07.645930Z"
    },
    "papermill": {
     "duration": 0.072808,
     "end_time": "2020-08-27T20:09:07.646083",
     "exception": false,
     "start_time": "2020-08-27T20:09:07.573275",
     "status": "completed"
    },
    "tags": []
   },
   "outputs": [],
   "source": [
    "# Adjust the x and y ranges according to the above generated plot.\n",
    "x_range = np.linspace(-4, 1, 100) \n",
    "y_range = np.linspace(-6, 6, 100) \n",
    "x_grid, y_grid = np.meshgrid(x_range, y_range) # x_grid and y_grig are of size 100 X 100\n",
    "\n",
    "# converting x_grid and y_grid to continuous arrays\n",
    "x_grid_flat = np.ravel(x_grid)\n",
    "y_grid_flat = np.ravel(y_grid)\n",
    "\n",
    "# The last layer of the current model takes two columns as input. Hence transpose of np.vstack() is required.\n",
    "X = np.vstack((x_grid_flat, y_grid_flat)).T\n",
    "\n",
    "# x_grid and y_grid are of size 100 x 100\n",
    "probability_contour = model_prob(X).reshape(100,100) "
   ]
  },
  {
   "cell_type": "code",
   "execution_count": 29,
   "metadata": {
    "execution": {
     "iopub.execute_input": "2020-08-27T20:09:07.759081Z",
     "iopub.status.busy": "2020-08-27T20:09:07.758476Z",
     "iopub.status.idle": "2020-08-27T20:09:08.031789Z",
     "shell.execute_reply": "2020-08-27T20:09:08.032552Z"
    },
    "papermill": {
     "duration": 0.3336,
     "end_time": "2020-08-27T20:09:08.032770",
     "exception": false,
     "start_time": "2020-08-27T20:09:07.699170",
     "status": "completed"
    },
    "tags": []
   },
   "outputs": [
    {
     "data": {
      "image/png": "[encoded data removed]",
      "text/plain": [
       "<Figure size 720x648 with 1 Axes>"
      ]
     },
     "metadata": {
      "needs_background": "light"
     },
     "output_type": "display_data"
    }
   ],
   "source": [
    "plt.figure(figsize=(10,9))\n",
    "plt.scatter(plot_testing[:,0], plot_testing[:,1], alpha = 0.1, c = y_test.ravel())\n",
    "contours = plt.contour(x_grid,y_grid,probability_contour)\n",
    "plt.title('Probability Contours')\n",
    "plt.clabel(contours, inline = True );"
   ]
  }
 ],
 "metadata": {
  "kernelspec": {
   "display_name": "Python 3",
   "language": "python",
   "name": "python3"
  },
  "language_info": {
   "codemirror_mode": {
    "name": "ipython",
    "version": 3
   },
   "file_extension": ".py",
   "mimetype": "text/x-python",
   "name": "python",
   "nbconvert_exporter": "python",
   "pygments_lexer": "ipython3",
   "version": "3.6.11"
  },
  "papermill": {
   "duration": 117.350915,
   "end_time": "2020-08-27T20:09:08.503317",
   "environment_variables": {},
   "exception": null,
   "input_path": "2020-08-11-NeuralNetwork.ipynb",
   "output_path": "2020-08-11-NeuralNetwork.ipynb",
   "parameters": {},
   "start_time": "2020-08-27T20:07:11.152402",
   "version": "2.1.2"
  }
 },
 "nbformat": 4,
 "nbformat_minor": 4
}