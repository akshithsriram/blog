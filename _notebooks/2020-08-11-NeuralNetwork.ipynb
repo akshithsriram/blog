{
 "cells": [
  {
   "cell_type": "markdown",
   "metadata": {
    "papermill": {
     "duration": 0.02508,
     "end_time": "2020-09-25T00:07:01.639763",
     "exception": false,
     "start_time": "2020-09-25T00:07:01.614683",
     "status": "completed"
    },
    "tags": []
   },
   "source": [
    "# \"A Basic Neural Network: Differentiate Hand-Written Digits\"\n",
    "\n",
    "- badges: true\n",
    "- author: Akshith Sriram"
   ]
  },
  {
   "cell_type": "markdown",
   "metadata": {
    "papermill": {
     "duration": 0.0197,
     "end_time": "2020-09-25T00:07:01.680201",
     "exception": false,
     "start_time": "2020-09-25T00:07:01.660501",
     "status": "completed"
    },
    "tags": []
   },
   "source": [
    "### Key Objectives:\n",
    "- Building a neural network that differentiates two hand-written digits 3 and 8.\n",
    "- Comparing the results of this Neural Network (NN) to that of a Logistic Regression (LR) model.\n",
    "\n",
    "### Requirements:\n",
    "- 'Kudzu' : A neural network library that was designed during our course by [Univ.AI](www.univ.ai). \n",
    "- MNIST Database\n",
    "\n",
    "If MNIST is not installed, use the command `!pip install mnist` given below.\n",
    "It can be run both from the command line and Jupyter Notebook."
   ]
  },
  {
   "cell_type": "code",
   "execution_count": 1,
   "metadata": {
    "execution": {
     "iopub.execute_input": "2020-09-25T00:07:01.727342Z",
     "iopub.status.busy": "2020-09-25T00:07:01.726804Z",
     "iopub.status.idle": "2020-09-25T00:07:03.171231Z",
     "shell.execute_reply": "2020-09-25T00:07:03.170218Z"
    },
    "papermill": {
     "duration": 1.471369,
     "end_time": "2020-09-25T00:07:03.171432",
     "exception": false,
     "start_time": "2020-09-25T00:07:01.700063",
     "status": "completed"
    },
    "tags": []
   },
   "outputs": [
    {
     "name": "stdout",
     "output_type": "stream",
     "text": [
      "Collecting mnist\r\n"
     ]
    },
    {
     "name": "stdout",
     "output_type": "stream",
     "text": [
      "  Downloading mnist-0.2.2-py2.py3-none-any.whl (3.5 kB)\r\n",
      "Requirement already satisfied: numpy in /opt/hostedtoolcache/Python/3.6.12/x64/lib/python3.6/site-packages (from mnist) (1.19.2)\r\n"
     ]
    },
    {
     "name": "stdout",
     "output_type": "stream",
     "text": [
      "Installing collected packages: mnist\r\n"
     ]
    },
    {
     "name": "stdout",
     "output_type": "stream",
     "text": [
      "Successfully installed mnist-0.2.2\r\n"
     ]
    }
   ],
   "source": [
    "!pip install mnist "
   ]
  },
  {
   "cell_type": "markdown",
   "metadata": {
    "papermill": {
     "duration": 0.022192,
     "end_time": "2020-09-25T00:07:03.218824",
     "exception": false,
     "start_time": "2020-09-25T00:07:03.196632",
     "status": "completed"
    },
    "tags": []
   },
   "source": [
    "#### Importing necessary libraries"
   ]
  },
  {
   "cell_type": "code",
   "execution_count": 2,
   "metadata": {
    "execution": {
     "iopub.execute_input": "2020-09-25T00:07:03.272120Z",
     "iopub.status.busy": "2020-09-25T00:07:03.270655Z",
     "iopub.status.idle": "2020-09-25T00:07:03.758063Z",
     "shell.execute_reply": "2020-09-25T00:07:03.758519Z"
    },
    "papermill": {
     "duration": 0.516762,
     "end_time": "2020-09-25T00:07:03.758677",
     "exception": false,
     "start_time": "2020-09-25T00:07:03.241915",
     "status": "completed"
    },
    "tags": []
   },
   "outputs": [],
   "source": [
    "%load_ext autoreload\n",
    "%autoreload 2\n",
    "\n",
    "%matplotlib inline\n",
    "import matplotlib.pyplot as plt\n",
    "\n",
    "import numpy as np\n",
    "import pandas as pd"
   ]
  },
  {
   "cell_type": "markdown",
   "metadata": {
    "papermill": {
     "duration": 0.02669,
     "end_time": "2020-09-25T00:07:03.811513",
     "exception": false,
     "start_time": "2020-09-25T00:07:03.784823",
     "status": "completed"
    },
    "tags": []
   },
   "source": [
    "### Preparing the Data"
   ]
  },
  {
   "cell_type": "code",
   "execution_count": 3,
   "metadata": {
    "execution": {
     "iopub.execute_input": "2020-09-25T00:07:03.868514Z",
     "iopub.status.busy": "2020-09-25T00:07:03.867966Z",
     "iopub.status.idle": "2020-09-25T00:07:03.881018Z",
     "shell.execute_reply": "2020-09-25T00:07:03.880410Z"
    },
    "papermill": {
     "duration": 0.043046,
     "end_time": "2020-09-25T00:07:03.881139",
     "exception": false,
     "start_time": "2020-09-25T00:07:03.838093",
     "status": "completed"
    },
    "tags": []
   },
   "outputs": [],
   "source": [
    "import mnist"
   ]
  },
  {
   "cell_type": "code",
   "execution_count": 4,
   "metadata": {
    "execution": {
     "iopub.execute_input": "2020-09-25T00:07:03.936478Z",
     "iopub.status.busy": "2020-09-25T00:07:03.935915Z",
     "iopub.status.idle": "2020-09-25T00:07:05.722675Z",
     "shell.execute_reply": "2020-09-25T00:07:05.722045Z"
    },
    "papermill": {
     "duration": 1.816005,
     "end_time": "2020-09-25T00:07:05.722823",
     "exception": false,
     "start_time": "2020-09-25T00:07:03.906818",
     "status": "completed"
    },
    "tags": []
   },
   "outputs": [],
   "source": [
    "train_images = mnist.train_images()\n",
    "train_labels = mnist.train_labels()"
   ]
  },
  {
   "cell_type": "code",
   "execution_count": 5,
   "metadata": {
    "execution": {
     "iopub.execute_input": "2020-09-25T00:07:05.779082Z",
     "iopub.status.busy": "2020-09-25T00:07:05.778509Z",
     "iopub.status.idle": "2020-09-25T00:07:05.793001Z",
     "shell.execute_reply": "2020-09-25T00:07:05.793468Z"
    },
    "papermill": {
     "duration": 0.044107,
     "end_time": "2020-09-25T00:07:05.793599",
     "exception": false,
     "start_time": "2020-09-25T00:07:05.749492",
     "status": "completed"
    },
    "tags": []
   },
   "outputs": [
    {
     "data": {
      "text/plain": [
       "((60000, 28, 28), (60000,))"
      ]
     },
     "execution_count": 5,
     "metadata": {},
     "output_type": "execute_result"
    }
   ],
   "source": [
    "train_images.shape, train_labels.shape"
   ]
  },
  {
   "cell_type": "code",
   "execution_count": 6,
   "metadata": {
    "execution": {
     "iopub.execute_input": "2020-09-25T00:07:05.850000Z",
     "iopub.status.busy": "2020-09-25T00:07:05.849414Z",
     "iopub.status.idle": "2020-09-25T00:07:06.733395Z",
     "shell.execute_reply": "2020-09-25T00:07:06.732876Z"
    },
    "papermill": {
     "duration": 0.91456,
     "end_time": "2020-09-25T00:07:06.733570",
     "exception": false,
     "start_time": "2020-09-25T00:07:05.819010",
     "status": "completed"
    },
    "tags": []
   },
   "outputs": [],
   "source": [
    "test_images = mnist.test_images()\n",
    "test_labels = mnist.test_labels()"
   ]
  },
  {
   "cell_type": "code",
   "execution_count": 7,
   "metadata": {
    "execution": {
     "iopub.execute_input": "2020-09-25T00:07:06.822961Z",
     "iopub.status.busy": "2020-09-25T00:07:06.822088Z",
     "iopub.status.idle": "2020-09-25T00:07:06.836440Z",
     "shell.execute_reply": "2020-09-25T00:07:06.836910Z"
    },
    "papermill": {
     "duration": 0.065739,
     "end_time": "2020-09-25T00:07:06.837015",
     "exception": false,
     "start_time": "2020-09-25T00:07:06.771276",
     "status": "completed"
    },
    "tags": []
   },
   "outputs": [
    {
     "data": {
      "text/plain": [
       "((10000, 28, 28), (10000,))"
      ]
     },
     "execution_count": 7,
     "metadata": {},
     "output_type": "execute_result"
    }
   ],
   "source": [
    "test_images.shape, test_labels.shape"
   ]
  },
  {
   "cell_type": "code",
   "execution_count": 8,
   "metadata": {
    "execution": {
     "iopub.execute_input": "2020-09-25T00:07:06.902042Z",
     "iopub.status.busy": "2020-09-25T00:07:06.899996Z",
     "iopub.status.idle": "2020-09-25T00:07:07.047576Z",
     "shell.execute_reply": "2020-09-25T00:07:07.047117Z"
    },
    "papermill": {
     "duration": 0.182576,
     "end_time": "2020-09-25T00:07:07.047700",
     "exception": false,
     "start_time": "2020-09-25T00:07:06.865124",
     "status": "completed"
    },
    "tags": []
   },
   "outputs": [
    {
     "name": "stdout",
     "output_type": "stream",
     "text": [
      "2\n"
     ]
    },
    {
     "data": {
      "text/plain": [
       "<matplotlib.image.AxesImage at 0x7f38b9a317b8>"
      ]
     },
     "execution_count": 8,
     "metadata": {},
     "output_type": "execute_result"
    },
    {
     "data": {
      "image/png": "[encoded data removed]",
      "text/plain": [
       "<Figure size 432x288 with 1 Axes>"
      ]
     },
     "metadata": {
      "needs_background": "light"
     },
     "output_type": "display_data"
    }
   ],
   "source": [
    "image_index = 7776 # You may select anything up to 60,000\n",
    "print(train_labels[image_index]) \n",
    "plt.imshow(train_images[image_index], cmap='Greys')"
   ]
  },
  {
   "cell_type": "markdown",
   "metadata": {
    "papermill": {
     "duration": 0.045443,
     "end_time": "2020-09-25T00:07:07.209635",
     "exception": false,
     "start_time": "2020-09-25T00:07:07.164192",
     "status": "completed"
    },
    "tags": []
   },
   "source": [
    "## Filter data to get 3 and 8 out"
   ]
  },
  {
   "cell_type": "code",
   "execution_count": 9,
   "metadata": {
    "execution": {
     "iopub.execute_input": "2020-09-25T00:07:07.322953Z",
     "iopub.status.busy": "2020-09-25T00:07:07.322372Z",
     "iopub.status.idle": "2020-09-25T00:07:07.342487Z",
     "shell.execute_reply": "2020-09-25T00:07:07.341573Z"
    },
    "papermill": {
     "duration": 0.07135,
     "end_time": "2020-09-25T00:07:07.342701",
     "exception": false,
     "start_time": "2020-09-25T00:07:07.271351",
     "status": "completed"
    },
    "tags": []
   },
   "outputs": [],
   "source": [
    "train_filter = np.where((train_labels == 3 ) | (train_labels == 8))\n",
    "test_filter = np.where((test_labels == 3) | (test_labels == 8))\n",
    "X_train, y_train = train_images[train_filter], train_labels[train_filter]\n",
    "X_test, y_test = test_images[test_filter], test_labels[test_filter]"
   ]
  },
  {
   "cell_type": "markdown",
   "metadata": {
    "papermill": {
     "duration": 0.047261,
     "end_time": "2020-09-25T00:07:07.462546",
     "exception": false,
     "start_time": "2020-09-25T00:07:07.415285",
     "status": "completed"
    },
    "tags": []
   },
   "source": [
    "We normalize the pixel values in the 0 to 1 range"
   ]
  },
  {
   "cell_type": "code",
   "execution_count": 10,
   "metadata": {
    "execution": {
     "iopub.execute_input": "2020-09-25T00:07:07.525705Z",
     "iopub.status.busy": "2020-09-25T00:07:07.525295Z",
     "iopub.status.idle": "2020-09-25T00:07:07.573733Z",
     "shell.execute_reply": "2020-09-25T00:07:07.573224Z"
    },
    "papermill": {
     "duration": 0.083749,
     "end_time": "2020-09-25T00:07:07.573884",
     "exception": false,
     "start_time": "2020-09-25T00:07:07.490135",
     "status": "completed"
    },
    "tags": []
   },
   "outputs": [],
   "source": [
    "X_train = X_train/255.\n",
    "X_test = X_test/255."
   ]
  },
  {
   "cell_type": "markdown",
   "metadata": {
    "papermill": {
     "duration": 0.026681,
     "end_time": "2020-09-25T00:07:07.626267",
     "exception": false,
     "start_time": "2020-09-25T00:07:07.599586",
     "status": "completed"
    },
    "tags": []
   },
   "source": [
    "Setup the labels as 1 (when the digit is 3) and 0 (when the digit is 8)"
   ]
  },
  {
   "cell_type": "code",
   "execution_count": 11,
   "metadata": {
    "execution": {
     "iopub.execute_input": "2020-09-25T00:07:07.686349Z",
     "iopub.status.busy": "2020-09-25T00:07:07.681941Z",
     "iopub.status.idle": "2020-09-25T00:07:07.693524Z",
     "shell.execute_reply": "2020-09-25T00:07:07.693053Z"
    },
    "papermill": {
     "duration": 0.040293,
     "end_time": "2020-09-25T00:07:07.693645",
     "exception": false,
     "start_time": "2020-09-25T00:07:07.653352",
     "status": "completed"
    },
    "tags": []
   },
   "outputs": [],
   "source": [
    "y_train = 1*(y_train==3)\n",
    "y_test = 1*(y_test==3)"
   ]
  },
  {
   "cell_type": "code",
   "execution_count": 12,
   "metadata": {
    "execution": {
     "iopub.execute_input": "2020-09-25T00:07:07.745862Z",
     "iopub.status.busy": "2020-09-25T00:07:07.745278Z",
     "iopub.status.idle": "2020-09-25T00:07:07.757391Z",
     "shell.execute_reply": "2020-09-25T00:07:07.756928Z"
    },
    "papermill": {
     "duration": 0.040593,
     "end_time": "2020-09-25T00:07:07.757486",
     "exception": false,
     "start_time": "2020-09-25T00:07:07.716893",
     "status": "completed"
    },
    "tags": []
   },
   "outputs": [
    {
     "data": {
      "text/plain": [
       "((11982, 28, 28), (1984, 28, 28))"
      ]
     },
     "execution_count": 12,
     "metadata": {},
     "output_type": "execute_result"
    }
   ],
   "source": [
    "X_train.shape, X_test.shape"
   ]
  },
  {
   "cell_type": "markdown",
   "metadata": {
    "papermill": {
     "duration": 0.023606,
     "end_time": "2020-09-25T00:07:07.804368",
     "exception": false,
     "start_time": "2020-09-25T00:07:07.780762",
     "status": "completed"
    },
    "tags": []
   },
   "source": [
    "### Reshape the input data to create a linear array"
   ]
  },
  {
   "cell_type": "code",
   "execution_count": 13,
   "metadata": {
    "execution": {
     "iopub.execute_input": "2020-09-25T00:07:07.857070Z",
     "iopub.status.busy": "2020-09-25T00:07:07.856499Z",
     "iopub.status.idle": "2020-09-25T00:07:07.867891Z",
     "shell.execute_reply": "2020-09-25T00:07:07.868250Z"
    },
    "papermill": {
     "duration": 0.041038,
     "end_time": "2020-09-25T00:07:07.868363",
     "exception": false,
     "start_time": "2020-09-25T00:07:07.827325",
     "status": "completed"
    },
    "tags": []
   },
   "outputs": [
    {
     "data": {
      "text/plain": [
       "((11982, 784), (1984, 784))"
      ]
     },
     "execution_count": 13,
     "metadata": {},
     "output_type": "execute_result"
    }
   ],
   "source": [
    "X_train = X_train.reshape(X_train.shape[0], -1)\n",
    "X_test = X_test.reshape(X_test.shape[0], -1)\n",
    "X_train.shape, X_test.shape"
   ]
  },
  {
   "cell_type": "markdown",
   "metadata": {
    "papermill": {
     "duration": 0.024438,
     "end_time": "2020-09-25T00:07:07.916372",
     "exception": false,
     "start_time": "2020-09-25T00:07:07.891934",
     "status": "completed"
    },
    "tags": []
   },
   "source": [
    "### Importing appropriate functions from 'Kudzu'"
   ]
  },
  {
   "cell_type": "code",
   "execution_count": 14,
   "metadata": {
    "execution": {
     "iopub.execute_input": "2020-09-25T00:07:07.968451Z",
     "iopub.status.busy": "2020-09-25T00:07:07.967991Z",
     "iopub.status.idle": "2020-09-25T00:07:07.985453Z",
     "shell.execute_reply": "2020-09-25T00:07:07.984941Z"
    },
    "papermill": {
     "duration": 0.046086,
     "end_time": "2020-09-25T00:07:07.985561",
     "exception": false,
     "start_time": "2020-09-25T00:07:07.939475",
     "status": "completed"
    },
    "tags": []
   },
   "outputs": [],
   "source": [
    "from kudzu.layer import Sigmoid\n",
    "from kudzu.layer import Relu\n",
    "from kudzu.layer import Affine, Sigmoid\n",
    "\n",
    "from kudzu.model import Model\n",
    "from kudzu.train import Learner\n",
    "from kudzu.optim import GD\n",
    "from kudzu.data import Data, Dataloader, Sampler\n",
    "\n",
    "from kudzu.callbacks import AccCallback\n",
    "from kudzu.callbacks import ClfCallback\n",
    "\n",
    "from kudzu.loss import MSE"
   ]
  },
  {
   "cell_type": "markdown",
   "metadata": {
    "papermill": {
     "duration": 0.023428,
     "end_time": "2020-09-25T00:07:08.031992",
     "exception": false,
     "start_time": "2020-09-25T00:07:08.008564",
     "status": "completed"
    },
    "tags": []
   },
   "source": [
    "### Let us create a `Config` class, to store important parameters. \n",
    "This class essentially plays the role of a dictionary."
   ]
  },
  {
   "cell_type": "code",
   "execution_count": 15,
   "metadata": {
    "execution": {
     "iopub.execute_input": "2020-09-25T00:07:08.086528Z",
     "iopub.status.busy": "2020-09-25T00:07:08.085980Z",
     "iopub.status.idle": "2020-09-25T00:07:08.097400Z",
     "shell.execute_reply": "2020-09-25T00:07:08.097779Z"
    },
    "papermill": {
     "duration": 0.040292,
     "end_time": "2020-09-25T00:07:08.097897",
     "exception": false,
     "start_time": "2020-09-25T00:07:08.057605",
     "status": "completed"
    },
    "tags": []
   },
   "outputs": [],
   "source": [
    "class Config:\n",
    "    pass\n",
    "config = Config()\n",
    "config.lr = 0.001\n",
    "config.num_epochs = 251\n",
    "config.bs = 50"
   ]
  },
  {
   "cell_type": "markdown",
   "metadata": {
    "papermill": {
     "duration": 0.02515,
     "end_time": "2020-09-25T00:07:08.146314",
     "exception": false,
     "start_time": "2020-09-25T00:07:08.121164",
     "status": "completed"
    },
    "tags": []
   },
   "source": [
    "### Initializing data to the variables"
   ]
  },
  {
   "cell_type": "code",
   "execution_count": 16,
   "metadata": {
    "execution": {
     "iopub.execute_input": "2020-09-25T00:07:08.199765Z",
     "iopub.status.busy": "2020-09-25T00:07:08.199262Z",
     "iopub.status.idle": "2020-09-25T00:07:08.210509Z",
     "shell.execute_reply": "2020-09-25T00:07:08.210053Z"
    },
    "papermill": {
     "duration": 0.040312,
     "end_time": "2020-09-25T00:07:08.210615",
     "exception": false,
     "start_time": "2020-09-25T00:07:08.170303",
     "status": "completed"
    },
    "tags": []
   },
   "outputs": [],
   "source": [
    "data = Data(X_train, y_train.reshape(-1,1))\n",
    "sampler = Sampler(data, config.bs, shuffle=True)\n",
    "\n",
    "dl = Dataloader(data, sampler)\n",
    "\n",
    "opt = GD(config.lr)\n",
    "loss = MSE()"
   ]
  },
  {
   "cell_type": "code",
   "execution_count": 17,
   "metadata": {
    "execution": {
     "iopub.execute_input": "2020-09-25T00:07:08.259912Z",
     "iopub.status.busy": "2020-09-25T00:07:08.259502Z",
     "iopub.status.idle": "2020-09-25T00:07:08.272882Z",
     "shell.execute_reply": "2020-09-25T00:07:08.272482Z"
    },
    "papermill": {
     "duration": 0.03949,
     "end_time": "2020-09-25T00:07:08.272974",
     "exception": false,
     "start_time": "2020-09-25T00:07:08.233484",
     "status": "completed"
    },
    "tags": []
   },
   "outputs": [],
   "source": [
    "training_xdata = X_train\n",
    "testing_xdata = X_test\n",
    "training_ydata = y_train.reshape(-1,1)\n",
    "testing_ydata = y_test.reshape(-1,1)"
   ]
  },
  {
   "cell_type": "markdown",
   "metadata": {
    "papermill": {
     "duration": 0.02351,
     "end_time": "2020-09-25T00:07:08.318820",
     "exception": false,
     "start_time": "2020-09-25T00:07:08.295310",
     "status": "completed"
    },
    "tags": []
   },
   "source": [
    "### Running Models with the Training data\n",
    "Details about the network layers:\n",
    "- A first affine layer has 784 inputs and does 100 affine transforms. These are followed by a Relu\n",
    "- A second affine layer has 100 inputs from the 100 activations of the past layer, and does 100 affine transforms. These are followed by a Relu\n",
    "- A third affine layer has 100 activations and does 2 affine transformations to create an embedding for visualization. There is no non-linearity here.\n",
    "- A final \"logistic regression\" which has an affine transform from 2 inputs to 1 output, which is squeezed through a sigmoid.\n",
    "\n",
    "Help taken from Anshuman's Notebook."
   ]
  },
  {
   "cell_type": "code",
   "execution_count": 18,
   "metadata": {
    "execution": {
     "iopub.execute_input": "2020-09-25T00:07:08.369161Z",
     "iopub.status.busy": "2020-09-25T00:07:08.368574Z",
     "iopub.status.idle": "2020-09-25T00:07:08.395388Z",
     "shell.execute_reply": "2020-09-25T00:07:08.394677Z"
    },
    "papermill": {
     "duration": 0.053969,
     "end_time": "2020-09-25T00:07:08.395473",
     "exception": false,
     "start_time": "2020-09-25T00:07:08.341504",
     "status": "completed"
    },
    "tags": []
   },
   "outputs": [],
   "source": [
    "# layers for the Neural Network\n",
    "layers = [Affine(\"first\", 784, 100), Relu(\"first\"), Affine(\"second\", 100, 100), Relu(\"second\"), Affine(\"third\", 100, 2), Affine(\"final\", 2, 1), Sigmoid(\"final\")]\n",
    "model_nn = Model(layers)\n",
    "\n",
    "# layers for the Logistic Regression\n",
    "layers_lr = [Affine(\"logits\", 784, 1), Sigmoid(\"sigmoid\")]\n",
    "model_lr = Model(layers_lr)"
   ]
  },
  {
   "cell_type": "code",
   "execution_count": 19,
   "metadata": {
    "execution": {
     "iopub.execute_input": "2020-09-25T00:07:08.447277Z",
     "iopub.status.busy": "2020-09-25T00:07:08.446810Z",
     "iopub.status.idle": "2020-09-25T00:07:08.460539Z",
     "shell.execute_reply": "2020-09-25T00:07:08.460948Z"
    },
    "papermill": {
     "duration": 0.041633,
     "end_time": "2020-09-25T00:07:08.461039",
     "exception": false,
     "start_time": "2020-09-25T00:07:08.419406",
     "status": "completed"
    },
    "tags": []
   },
   "outputs": [],
   "source": [
    "# suffix _nn stands for Neural Network.\n",
    "learner_nn = Learner(loss, model_nn, opt, config.num_epochs)\n",
    "acc_nn = ClfCallback(learner_nn, config.bs, training_xdata , testing_xdata, training_ydata, testing_ydata)\n",
    "learner_nn.set_callbacks([acc_nn])"
   ]
  },
  {
   "cell_type": "code",
   "execution_count": 20,
   "metadata": {
    "execution": {
     "iopub.execute_input": "2020-09-25T00:07:08.514153Z",
     "iopub.status.busy": "2020-09-25T00:07:08.513603Z",
     "iopub.status.idle": "2020-09-25T00:08:24.343059Z",
     "shell.execute_reply": "2020-09-25T00:08:24.343695Z"
    },
    "papermill": {
     "duration": 75.860847,
     "end_time": "2020-09-25T00:08:24.343823",
     "exception": false,
     "start_time": "2020-09-25T00:07:08.482976",
     "status": "completed"
    },
    "tags": []
   },
   "outputs": [
    {
     "name": "stdout",
     "output_type": "stream",
     "text": [
      "====== Neural Network ======\n"
     ]
    },
    {
     "name": "stdout",
     "output_type": "stream",
     "text": [
      "Epoch 0, Loss 0.2341\n",
      "Training Accuracy: 0.7370, Testing Accuracy: 0.7722\n",
      "\n"
     ]
    },
    {
     "name": "stdout",
     "output_type": "stream",
     "text": [
      "Epoch 10, Loss 0.0844\n",
      "Training Accuracy: 0.9238, Testing Accuracy: 0.9315\n",
      "\n"
     ]
    },
    {
     "name": "stdout",
     "output_type": "stream",
     "text": [
      "Epoch 20, Loss 0.0544\n",
      "Training Accuracy: 0.9439, Testing Accuracy: 0.9556\n",
      "\n"
     ]
    },
    {
     "name": "stdout",
     "output_type": "stream",
     "text": [
      "Epoch 30, Loss 0.0435\n",
      "Training Accuracy: 0.9511, Testing Accuracy: 0.9657\n",
      "\n"
     ]
    },
    {
     "name": "stdout",
     "output_type": "stream",
     "text": [
      "Epoch 40, Loss 0.0379\n",
      "Training Accuracy: 0.9566, Testing Accuracy: 0.9657\n",
      "\n"
     ]
    },
    {
     "name": "stdout",
     "output_type": "stream",
     "text": [
      "Epoch 50, Loss 0.0345\n",
      "Training Accuracy: 0.9600, Testing Accuracy: 0.9693\n",
      "\n"
     ]
    },
    {
     "name": "stdout",
     "output_type": "stream",
     "text": [
      "Epoch 60, Loss 0.0321\n",
      "Training Accuracy: 0.9629, Testing Accuracy: 0.9698\n",
      "\n"
     ]
    },
    {
     "name": "stdout",
     "output_type": "stream",
     "text": [
      "Epoch 70, Loss 0.0303\n",
      "Training Accuracy: 0.9649, Testing Accuracy: 0.9718\n",
      "\n"
     ]
    },
    {
     "name": "stdout",
     "output_type": "stream",
     "text": [
      "Epoch 80, Loss 0.0289\n",
      "Training Accuracy: 0.9667, Testing Accuracy: 0.9718\n",
      "\n"
     ]
    },
    {
     "name": "stdout",
     "output_type": "stream",
     "text": [
      "Epoch 90, Loss 0.0277\n",
      "Training Accuracy: 0.9680, Testing Accuracy: 0.9718\n",
      "\n"
     ]
    },
    {
     "name": "stdout",
     "output_type": "stream",
     "text": [
      "Epoch 100, Loss 0.0267\n",
      "Training Accuracy: 0.9689, Testing Accuracy: 0.9723\n",
      "\n"
     ]
    },
    {
     "name": "stdout",
     "output_type": "stream",
     "text": [
      "Epoch 110, Loss 0.0258\n",
      "Training Accuracy: 0.9692, Testing Accuracy: 0.9728\n",
      "\n"
     ]
    },
    {
     "name": "stdout",
     "output_type": "stream",
     "text": [
      "Epoch 120, Loss 0.025\n",
      "Training Accuracy: 0.9702, Testing Accuracy: 0.9733\n",
      "\n"
     ]
    },
    {
     "name": "stdout",
     "output_type": "stream",
     "text": [
      "Epoch 130, Loss 0.0243\n",
      "Training Accuracy: 0.9715, Testing Accuracy: 0.9738\n",
      "\n"
     ]
    },
    {
     "name": "stdout",
     "output_type": "stream",
     "text": [
      "Epoch 140, Loss 0.0237\n",
      "Training Accuracy: 0.9725, Testing Accuracy: 0.9738\n",
      "\n"
     ]
    },
    {
     "name": "stdout",
     "output_type": "stream",
     "text": [
      "Epoch 150, Loss 0.0231\n",
      "Training Accuracy: 0.9735, Testing Accuracy: 0.9743\n",
      "\n"
     ]
    },
    {
     "name": "stdout",
     "output_type": "stream",
     "text": [
      "Epoch 160, Loss 0.0225\n",
      "Training Accuracy: 0.9745, Testing Accuracy: 0.9738\n",
      "\n"
     ]
    },
    {
     "name": "stdout",
     "output_type": "stream",
     "text": [
      "Epoch 170, Loss 0.022\n",
      "Training Accuracy: 0.9754, Testing Accuracy: 0.9743\n",
      "\n"
     ]
    },
    {
     "name": "stdout",
     "output_type": "stream",
     "text": [
      "Epoch 180, Loss 0.0215\n",
      "Training Accuracy: 0.9759, Testing Accuracy: 0.9743\n",
      "\n"
     ]
    },
    {
     "name": "stdout",
     "output_type": "stream",
     "text": [
      "Epoch 190, Loss 0.021\n",
      "Training Accuracy: 0.9765, Testing Accuracy: 0.9748\n",
      "\n"
     ]
    },
    {
     "name": "stdout",
     "output_type": "stream",
     "text": [
      "Epoch 200, Loss 0.0205\n",
      "Training Accuracy: 0.9770, Testing Accuracy: 0.9748\n",
      "\n"
     ]
    },
    {
     "name": "stdout",
     "output_type": "stream",
     "text": [
      "Epoch 210, Loss 0.0201\n",
      "Training Accuracy: 0.9775, Testing Accuracy: 0.9748\n",
      "\n"
     ]
    },
    {
     "name": "stdout",
     "output_type": "stream",
     "text": [
      "Epoch 220, Loss 0.0197\n",
      "Training Accuracy: 0.9779, Testing Accuracy: 0.9743\n",
      "\n"
     ]
    },
    {
     "name": "stdout",
     "output_type": "stream",
     "text": [
      "Epoch 230, Loss 0.0193\n",
      "Training Accuracy: 0.9782, Testing Accuracy: 0.9748\n",
      "\n"
     ]
    },
    {
     "name": "stdout",
     "output_type": "stream",
     "text": [
      "Epoch 240, Loss 0.0189\n",
      "Training Accuracy: 0.9786, Testing Accuracy: 0.9743\n",
      "\n"
     ]
    },
    {
     "name": "stdout",
     "output_type": "stream",
     "text": [
      "Epoch 250, Loss 0.0185\n",
      "Training Accuracy: 0.9794, Testing Accuracy: 0.9743\n",
      "\n"
     ]
    },
    {
     "data": {
      "text/plain": [
       "0.0399982413852569"
      ]
     },
     "execution_count": 20,
     "metadata": {},
     "output_type": "execute_result"
    }
   ],
   "source": [
    "print(\"====== Neural Network ======\")\n",
    "learner_nn.train_loop(dl)"
   ]
  },
  {
   "cell_type": "markdown",
   "metadata": {
    "papermill": {
     "duration": 0.039799,
     "end_time": "2020-09-25T00:08:24.414768",
     "exception": false,
     "start_time": "2020-09-25T00:08:24.374969",
     "status": "completed"
    },
    "tags": []
   },
   "source": [
    "### Logistic Regression based Implementation."
   ]
  },
  {
   "cell_type": "code",
   "execution_count": 21,
   "metadata": {
    "execution": {
     "iopub.execute_input": "2020-09-25T00:08:24.488316Z",
     "iopub.status.busy": "2020-09-25T00:08:24.487130Z",
     "iopub.status.idle": "2020-09-25T00:08:24.498660Z",
     "shell.execute_reply": "2020-09-25T00:08:24.498127Z"
    },
    "papermill": {
     "duration": 0.047657,
     "end_time": "2020-09-25T00:08:24.498772",
     "exception": false,
     "start_time": "2020-09-25T00:08:24.451115",
     "status": "completed"
    },
    "tags": []
   },
   "outputs": [],
   "source": [
    "learner_lr = Learner(loss, model_lr, opt, config.num_epochs)\n",
    "acc_lr = ClfCallback(learner_lr, config.bs, training_xdata , testing_xdata, training_ydata, testing_ydata)\n",
    "learner_lr.set_callbacks([acc_lr])"
   ]
  },
  {
   "cell_type": "code",
   "execution_count": 22,
   "metadata": {
    "execution": {
     "iopub.execute_input": "2020-09-25T00:08:24.564901Z",
     "iopub.status.busy": "2020-09-25T00:08:24.564488Z",
     "iopub.status.idle": "2020-09-25T00:08:39.328314Z",
     "shell.execute_reply": "2020-09-25T00:08:39.328907Z"
    },
    "papermill": {
     "duration": 14.798308,
     "end_time": "2020-09-25T00:08:39.329034",
     "exception": false,
     "start_time": "2020-09-25T00:08:24.530726",
     "status": "completed"
    },
    "tags": []
   },
   "outputs": [
    {
     "name": "stdout",
     "output_type": "stream",
     "text": [
      "====== Logistic Regression ======\n",
      "Epoch 0, Loss 0.226\n",
      "Training Accuracy: 0.7042, Testing Accuracy: 0.7213\n",
      "\n"
     ]
    },
    {
     "name": "stdout",
     "output_type": "stream",
     "text": [
      "Epoch 10, Loss 0.1042\n",
      "Training Accuracy: 0.9023, Testing Accuracy: 0.9214\n",
      "\n"
     ]
    },
    {
     "name": "stdout",
     "output_type": "stream",
     "text": [
      "Epoch 20, Loss 0.0805\n",
      "Training Accuracy: 0.9234, Testing Accuracy: 0.9370\n",
      "\n"
     ]
    },
    {
     "name": "stdout",
     "output_type": "stream",
     "text": [
      "Epoch 30, Loss 0.0692\n",
      "Training Accuracy: 0.9350, Testing Accuracy: 0.9435\n",
      "\n"
     ]
    },
    {
     "name": "stdout",
     "output_type": "stream",
     "text": [
      "Epoch 40, Loss 0.0624\n",
      "Training Accuracy: 0.9414, Testing Accuracy: 0.9491\n",
      "\n"
     ]
    },
    {
     "name": "stdout",
     "output_type": "stream",
     "text": [
      "Epoch 50, Loss 0.0577\n",
      "Training Accuracy: 0.9442, Testing Accuracy: 0.9511\n",
      "\n"
     ]
    },
    {
     "name": "stdout",
     "output_type": "stream",
     "text": [
      "Epoch 60, Loss 0.0543\n",
      "Training Accuracy: 0.9467, Testing Accuracy: 0.9536\n",
      "\n"
     ]
    },
    {
     "name": "stdout",
     "output_type": "stream",
     "text": [
      "Epoch 70, Loss 0.0516\n",
      "Training Accuracy: 0.9486, Testing Accuracy: 0.9572\n",
      "\n"
     ]
    },
    {
     "name": "stdout",
     "output_type": "stream",
     "text": [
      "Epoch 80, Loss 0.0495\n",
      "Training Accuracy: 0.9504, Testing Accuracy: 0.9607\n",
      "\n"
     ]
    },
    {
     "name": "stdout",
     "output_type": "stream",
     "text": [
      "Epoch 90, Loss 0.0478\n",
      "Training Accuracy: 0.9519, Testing Accuracy: 0.9612\n",
      "\n"
     ]
    },
    {
     "name": "stdout",
     "output_type": "stream",
     "text": [
      "Epoch 100, Loss 0.0463\n",
      "Training Accuracy: 0.9528, Testing Accuracy: 0.9627\n",
      "\n"
     ]
    },
    {
     "name": "stdout",
     "output_type": "stream",
     "text": [
      "Epoch 110, Loss 0.045\n",
      "Training Accuracy: 0.9538, Testing Accuracy: 0.9637\n",
      "\n"
     ]
    },
    {
     "name": "stdout",
     "output_type": "stream",
     "text": [
      "Epoch 120, Loss 0.0439\n",
      "Training Accuracy: 0.9550, Testing Accuracy: 0.9642\n",
      "\n"
     ]
    },
    {
     "name": "stdout",
     "output_type": "stream",
     "text": [
      "Epoch 130, Loss 0.043\n",
      "Training Accuracy: 0.9553, Testing Accuracy: 0.9642\n",
      "\n"
     ]
    },
    {
     "name": "stdout",
     "output_type": "stream",
     "text": [
      "Epoch 140, Loss 0.0421\n",
      "Training Accuracy: 0.9564, Testing Accuracy: 0.9642\n",
      "\n"
     ]
    },
    {
     "name": "stdout",
     "output_type": "stream",
     "text": [
      "Epoch 150, Loss 0.0414\n",
      "Training Accuracy: 0.9569, Testing Accuracy: 0.9647\n",
      "\n"
     ]
    },
    {
     "name": "stdout",
     "output_type": "stream",
     "text": [
      "Epoch 160, Loss 0.0407\n",
      "Training Accuracy: 0.9575, Testing Accuracy: 0.9652\n",
      "\n"
     ]
    },
    {
     "name": "stdout",
     "output_type": "stream",
     "text": [
      "Epoch 170, Loss 0.04\n",
      "Training Accuracy: 0.9582, Testing Accuracy: 0.9652\n",
      "\n"
     ]
    },
    {
     "name": "stdout",
     "output_type": "stream",
     "text": [
      "Epoch 180, Loss 0.0395\n",
      "Training Accuracy: 0.9584, Testing Accuracy: 0.9667\n",
      "\n"
     ]
    },
    {
     "name": "stdout",
     "output_type": "stream",
     "text": [
      "Epoch 190, Loss 0.039\n",
      "Training Accuracy: 0.9590, Testing Accuracy: 0.9672\n",
      "\n"
     ]
    },
    {
     "name": "stdout",
     "output_type": "stream",
     "text": [
      "Epoch 200, Loss 0.0385\n",
      "Training Accuracy: 0.9597, Testing Accuracy: 0.9667\n",
      "\n"
     ]
    },
    {
     "name": "stdout",
     "output_type": "stream",
     "text": [
      "Epoch 210, Loss 0.038\n",
      "Training Accuracy: 0.9601, Testing Accuracy: 0.9672\n",
      "\n"
     ]
    },
    {
     "name": "stdout",
     "output_type": "stream",
     "text": [
      "Epoch 220, Loss 0.0376\n",
      "Training Accuracy: 0.9604, Testing Accuracy: 0.9672\n",
      "\n"
     ]
    },
    {
     "name": "stdout",
     "output_type": "stream",
     "text": [
      "Epoch 230, Loss 0.0372\n",
      "Training Accuracy: 0.9606, Testing Accuracy: 0.9672\n",
      "\n"
     ]
    },
    {
     "name": "stdout",
     "output_type": "stream",
     "text": [
      "Epoch 240, Loss 0.0368\n",
      "Training Accuracy: 0.9606, Testing Accuracy: 0.9672\n",
      "\n"
     ]
    },
    {
     "name": "stdout",
     "output_type": "stream",
     "text": [
      "Epoch 250, Loss 0.0365\n",
      "Training Accuracy: 0.9609, Testing Accuracy: 0.9672\n",
      "\n"
     ]
    },
    {
     "data": {
      "text/plain": [
       "0.04126845056305453"
      ]
     },
     "execution_count": 22,
     "metadata": {},
     "output_type": "execute_result"
    }
   ],
   "source": [
    "print(\"====== Logistic Regression ======\")\n",
    "learner_lr.train_loop(dl)"
   ]
  },
  {
   "cell_type": "markdown",
   "metadata": {
    "papermill": {
     "duration": 0.039989,
     "end_time": "2020-09-25T00:08:39.406800",
     "exception": false,
     "start_time": "2020-09-25T00:08:39.366811",
     "status": "completed"
    },
    "tags": []
   },
   "source": [
    "### Comparing results of NN and LR"
   ]
  },
  {
   "cell_type": "code",
   "execution_count": 23,
   "metadata": {
    "execution": {
     "iopub.execute_input": "2020-09-25T00:08:39.494025Z",
     "iopub.status.busy": "2020-09-25T00:08:39.492971Z",
     "iopub.status.idle": "2020-09-25T00:08:39.699967Z",
     "shell.execute_reply": "2020-09-25T00:08:39.699507Z"
    },
    "papermill": {
     "duration": 0.252725,
     "end_time": "2020-09-25T00:08:39.700095",
     "exception": false,
     "start_time": "2020-09-25T00:08:39.447370",
     "status": "completed"
    },
    "tags": []
   },
   "outputs": [
    {
     "data": {
      "text/plain": [
       "<matplotlib.legend.Legend at 0x7f38b2deb2b0>"
      ]
     },
     "execution_count": 23,
     "metadata": {},
     "output_type": "execute_result"
    },
    {
     "data": {
      "image/png": "[encoded data removed]",
      "text/plain": [
       "<Figure size 1080x720 with 1 Axes>"
      ]
     },
     "metadata": {
      "needs_background": "light"
     },
     "output_type": "display_data"
    }
   ],
   "source": [
    "plt.figure(figsize=(15,10))\n",
    "\n",
    "# Neural Network plots\n",
    "plt.plot(acc_nn.accuracies, 'r-', label = \"Training Accuracies - NN\")\n",
    "plt.plot(acc_nn.test_accuracies, 'g-', label = \"Testing Accuracies - NN\")\n",
    "\n",
    "# Logistic Regression plots\n",
    "plt.plot(acc_lr.accuracies, 'k-', label = \"Training Accuracies - LR\")\n",
    "plt.plot(acc_lr.test_accuracies, 'b-', label = \"Testing Accuracies - LR\")\n",
    "\n",
    "plt.ylim(0.8, 1)\n",
    "\n",
    "plt.legend()\n",
    "\n"
   ]
  },
  {
   "cell_type": "markdown",
   "metadata": {
    "papermill": {
     "duration": 0.036916,
     "end_time": "2020-09-25T00:08:39.774596",
     "exception": false,
     "start_time": "2020-09-25T00:08:39.737680",
     "status": "completed"
    },
    "tags": []
   },
   "source": [
    "### From the plot, we can observe the following:\n",
    "- Neural Network achieves higher accuracy than the Logistic Regression model.\n",
    "- This apparently, is because of overfitting, i.e. NN captures more noise than data.\n",
    "- Testing accuracy of NN drops below the Training accuracy at higher epochs. This explains the over-fitting on training data.\n",
    "- Logistic Regression gives a reliable accuracy, without the above mentioned problem.\n"
   ]
  },
  {
   "cell_type": "markdown",
   "metadata": {
    "papermill": {
     "duration": 0.036681,
     "end_time": "2020-09-25T00:08:39.848060",
     "exception": false,
     "start_time": "2020-09-25T00:08:39.811379",
     "status": "completed"
    },
    "tags": []
   },
   "source": [
    "### Moving till the last but one layer (excluding it).\n",
    "#### Plotting the outputs of this layer of the NN."
   ]
  },
  {
   "cell_type": "code",
   "execution_count": 24,
   "metadata": {
    "execution": {
     "iopub.execute_input": "2020-09-25T00:08:39.926892Z",
     "iopub.status.busy": "2020-09-25T00:08:39.925888Z",
     "iopub.status.idle": "2020-09-25T00:08:39.936116Z",
     "shell.execute_reply": "2020-09-25T00:08:39.935746Z"
    },
    "papermill": {
     "duration": 0.049824,
     "end_time": "2020-09-25T00:08:39.936202",
     "exception": false,
     "start_time": "2020-09-25T00:08:39.886378",
     "status": "completed"
    },
    "tags": []
   },
   "outputs": [],
   "source": [
    "model_new = Model(layers[:-2])"
   ]
  },
  {
   "cell_type": "code",
   "execution_count": 25,
   "metadata": {
    "execution": {
     "iopub.execute_input": "2020-09-25T00:08:40.020019Z",
     "iopub.status.busy": "2020-09-25T00:08:40.019489Z",
     "iopub.status.idle": "2020-09-25T00:08:40.039159Z",
     "shell.execute_reply": "2020-09-25T00:08:40.039703Z"
    },
    "papermill": {
     "duration": 0.062835,
     "end_time": "2020-09-25T00:08:40.039842",
     "exception": false,
     "start_time": "2020-09-25T00:08:39.977007",
     "status": "completed"
    },
    "tags": []
   },
   "outputs": [],
   "source": [
    "plot_testing = model_new(testing_xdata)"
   ]
  },
  {
   "cell_type": "code",
   "execution_count": 26,
   "metadata": {
    "execution": {
     "iopub.execute_input": "2020-09-25T00:08:40.123412Z",
     "iopub.status.busy": "2020-09-25T00:08:40.123000Z",
     "iopub.status.idle": "2020-09-25T00:08:40.313681Z",
     "shell.execute_reply": "2020-09-25T00:08:40.313141Z"
    },
    "papermill": {
     "duration": 0.233382,
     "end_time": "2020-09-25T00:08:40.313817",
     "exception": false,
     "start_time": "2020-09-25T00:08:40.080435",
     "status": "completed"
    },
    "tags": []
   },
   "outputs": [
    {
     "data": {
      "text/plain": [
       "Text(0.5, 1.0, 'Outputs')"
      ]
     },
     "execution_count": 26,
     "metadata": {},
     "output_type": "execute_result"
    },
    {
     "data": {
      "image/png": "[encoded data removed]",
      "text/plain": [
       "<Figure size 576x504 with 1 Axes>"
      ]
     },
     "metadata": {
      "needs_background": "light"
     },
     "output_type": "display_data"
    }
   ],
   "source": [
    "plt.figure(figsize=(8,7))\n",
    "plt.scatter(plot_testing[:,0], plot_testing[:,1], alpha = 0.1, c = y_test.ravel());\n",
    "plt.title('Outputs')"
   ]
  },
  {
   "cell_type": "markdown",
   "metadata": {
    "papermill": {
     "duration": 0.041982,
     "end_time": "2020-09-25T00:08:40.395097",
     "exception": false,
     "start_time": "2020-09-25T00:08:40.353115",
     "status": "completed"
    },
    "tags": []
   },
   "source": [
    "### Plotting probability contours"
   ]
  },
  {
   "cell_type": "code",
   "execution_count": 27,
   "metadata": {
    "execution": {
     "iopub.execute_input": "2020-09-25T00:08:40.487824Z",
     "iopub.status.busy": "2020-09-25T00:08:40.487236Z",
     "iopub.status.idle": "2020-09-25T00:08:40.495087Z",
     "shell.execute_reply": "2020-09-25T00:08:40.494557Z"
    },
    "papermill": {
     "duration": 0.060033,
     "end_time": "2020-09-25T00:08:40.495210",
     "exception": false,
     "start_time": "2020-09-25T00:08:40.435177",
     "status": "completed"
    },
    "tags": []
   },
   "outputs": [],
   "source": [
    "model_prob = Model(layers[-2:]) "
   ]
  },
  {
   "cell_type": "code",
   "execution_count": 28,
   "metadata": {
    "execution": {
     "iopub.execute_input": "2020-09-25T00:08:40.588309Z",
     "iopub.status.busy": "2020-09-25T00:08:40.587733Z",
     "iopub.status.idle": "2020-09-25T00:08:40.602409Z",
     "shell.execute_reply": "2020-09-25T00:08:40.602835Z"
    },
    "papermill": {
     "duration": 0.064212,
     "end_time": "2020-09-25T00:08:40.602975",
     "exception": false,
     "start_time": "2020-09-25T00:08:40.538763",
     "status": "completed"
    },
    "tags": []
   },
   "outputs": [],
   "source": [
    "# Adjust the x and y ranges according to the above generated plot.\n",
    "x_range = np.linspace(-4, 1, 100) \n",
    "y_range = np.linspace(-6, 6, 100) \n",
    "x_grid, y_grid = np.meshgrid(x_range, y_range) # x_grid and y_grig are of size 100 X 100\n",
    "\n",
    "# converting x_grid and y_grid to continuous arrays\n",
    "x_grid_flat = np.ravel(x_grid)\n",
    "y_grid_flat = np.ravel(y_grid)\n",
    "\n",
    "# The last layer of the current model takes two columns as input. Hence transpose of np.vstack() is required.\n",
    "X = np.vstack((x_grid_flat, y_grid_flat)).T\n",
    "\n",
    "# x_grid and y_grid are of size 100 x 100\n",
    "probability_contour = model_prob(X).reshape(100,100) "
   ]
  },
  {
   "cell_type": "code",
   "execution_count": 29,
   "metadata": {
    "execution": {
     "iopub.execute_input": "2020-09-25T00:08:40.698933Z",
     "iopub.status.busy": "2020-09-25T00:08:40.698533Z",
     "iopub.status.idle": "2020-09-25T00:08:40.922919Z",
     "shell.execute_reply": "2020-09-25T00:08:40.923739Z"
    },
    "papermill": {
     "duration": 0.277529,
     "end_time": "2020-09-25T00:08:40.923975",
     "exception": false,
     "start_time": "2020-09-25T00:08:40.646446",
     "status": "completed"
    },
    "tags": []
   },
   "outputs": [
    {
     "data": {
      "image/png": "[encoded data removed]",
      "text/plain": [
       "<Figure size 720x648 with 1 Axes>"
      ]
     },
     "metadata": {
      "needs_background": "light"
     },
     "output_type": "display_data"
    }
   ],
   "source": [
    "plt.figure(figsize=(10,9))\n",
    "plt.scatter(plot_testing[:,0], plot_testing[:,1], alpha = 0.1, c = y_test.ravel())\n",
    "contours = plt.contour(x_grid,y_grid,probability_contour)\n",
    "plt.title('Probability Contours')\n",
    "plt.clabel(contours, inline = True );"
   ]
  }
 ],
 "metadata": {
  "kernelspec": {
   "display_name": "Python 3",
   "language": "python",
   "name": "python3"
  },
  "language_info": {
   "codemirror_mode": {
    "name": "ipython",
    "version": 3
   },
   "file_extension": ".py",
   "mimetype": "text/x-python",
   "name": "python",
   "nbconvert_exporter": "python",
   "pygments_lexer": "ipython3",
   "version": "3.6.12"
  },
  "papermill": {
   "duration": 100.621058,
   "end_time": "2020-09-25T00:08:41.279436",
   "environment_variables": {},
   "exception": null,
   "input_path": "2020-08-11-NeuralNetwork.ipynb",
   "output_path": "2020-08-11-NeuralNetwork.ipynb",
   "parameters": {},
   "start_time": "2020-09-25T00:07:00.658378",
   "version": "2.1.2"
  }
 },
 "nbformat": 4,
 "nbformat_minor": 4
}