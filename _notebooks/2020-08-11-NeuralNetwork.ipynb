{
 "cells": [
  {
   "cell_type": "markdown",
   "id": "fitted-suggestion",
   "metadata": {
    "papermill": {
     "duration": 0.034496,
     "end_time": "2021-05-31T21:01:16.565386",
     "exception": false,
     "start_time": "2021-05-31T21:01:16.530890",
     "status": "completed"
    },
    "tags": []
   },
   "source": [
    "# \"A Basic Neural Network: Differentiate Hand-Written Digits\"\n",
    "\n",
    "- badges: true\n",
    "- author: Akshith Sriram"
   ]
  },
  {
   "cell_type": "markdown",
   "id": "signal-flexibility",
   "metadata": {
    "papermill": {
     "duration": 0.028482,
     "end_time": "2021-05-31T21:01:16.623165",
     "exception": false,
     "start_time": "2021-05-31T21:01:16.594683",
     "status": "completed"
    },
    "tags": []
   },
   "source": [
    "### Key Objectives:\n",
    "- Building a neural network that differentiates two hand-written digits 3 and 8.\n",
    "- Comparing the results of this Neural Network (NN) to that of a Logistic Regression (LR) model.\n",
    "\n",
    "### Requirements:\n",
    "- 'Kudzu' : A neural network library that was designed during our course by [Univ.AI](www.univ.ai). \n",
    "- MNIST Database\n",
    "\n",
    "If MNIST is not installed, use the command `!pip install mnist` given below.\n",
    "It can be run both from the command line and Jupyter Notebook."
   ]
  },
  {
   "cell_type": "code",
   "execution_count": 1,
   "id": "british-texture",
   "metadata": {
    "execution": {
     "iopub.execute_input": "2021-05-31T21:01:16.691143Z",
     "iopub.status.busy": "2021-05-31T21:01:16.688118Z",
     "iopub.status.idle": "2021-05-31T21:01:18.226785Z",
     "shell.execute_reply": "2021-05-31T21:01:18.226218Z"
    },
    "papermill": {
     "duration": 1.575455,
     "end_time": "2021-05-31T21:01:18.226963",
     "exception": false,
     "start_time": "2021-05-31T21:01:16.651508",
     "status": "completed"
    },
    "tags": []
   },
   "outputs": [
    {
     "name": "stdout",
     "output_type": "stream",
     "text": [
      "Collecting mnist\r\n"
     ]
    },
    {
     "name": "stdout",
     "output_type": "stream",
     "text": [
      "  Downloading mnist-0.2.2-py2.py3-none-any.whl (3.5 kB)\r\n",
      "Requirement already satisfied: numpy in /opt/hostedtoolcache/Python/3.6.13/x64/lib/python3.6/site-packages (from mnist) (1.19.5)\r\n"
     ]
    },
    {
     "name": "stdout",
     "output_type": "stream",
     "text": [
      "Installing collected packages: mnist\r\n"
     ]
    },
    {
     "name": "stdout",
     "output_type": "stream",
     "text": [
      "Successfully installed mnist-0.2.2\r\n"
     ]
    }
   ],
   "source": [
    "!pip install mnist "
   ]
  },
  {
   "cell_type": "markdown",
   "id": "stunning-extra",
   "metadata": {
    "papermill": {
     "duration": 0.034683,
     "end_time": "2021-05-31T21:01:18.305006",
     "exception": false,
     "start_time": "2021-05-31T21:01:18.270323",
     "status": "completed"
    },
    "tags": []
   },
   "source": [
    "#### Importing necessary libraries"
   ]
  },
  {
   "cell_type": "code",
   "execution_count": 2,
   "id": "wooden-france",
   "metadata": {
    "execution": {
     "iopub.execute_input": "2021-05-31T21:01:18.387061Z",
     "iopub.status.busy": "2021-05-31T21:01:18.386441Z",
     "iopub.status.idle": "2021-05-31T21:01:18.967792Z",
     "shell.execute_reply": "2021-05-31T21:01:18.967265Z"
    },
    "papermill": {
     "duration": 0.622151,
     "end_time": "2021-05-31T21:01:18.967927",
     "exception": false,
     "start_time": "2021-05-31T21:01:18.345776",
     "status": "completed"
    },
    "tags": []
   },
   "outputs": [],
   "source": [
    "%load_ext autoreload\n",
    "%autoreload 2\n",
    "\n",
    "%matplotlib inline\n",
    "import matplotlib.pyplot as plt\n",
    "\n",
    "import numpy as np\n",
    "import pandas as pd"
   ]
  },
  {
   "cell_type": "markdown",
   "id": "stunning-physics",
   "metadata": {
    "papermill": {
     "duration": 0.030137,
     "end_time": "2021-05-31T21:01:19.027917",
     "exception": false,
     "start_time": "2021-05-31T21:01:18.997780",
     "status": "completed"
    },
    "tags": []
   },
   "source": [
    "### Preparing the Data"
   ]
  },
  {
   "cell_type": "code",
   "execution_count": 3,
   "id": "unauthorized-remainder",
   "metadata": {
    "execution": {
     "iopub.execute_input": "2021-05-31T21:01:19.091280Z",
     "iopub.status.busy": "2021-05-31T21:01:19.090638Z",
     "iopub.status.idle": "2021-05-31T21:01:19.103161Z",
     "shell.execute_reply": "2021-05-31T21:01:19.103714Z"
    },
    "papermill": {
     "duration": 0.046292,
     "end_time": "2021-05-31T21:01:19.103857",
     "exception": false,
     "start_time": "2021-05-31T21:01:19.057565",
     "status": "completed"
    },
    "tags": []
   },
   "outputs": [],
   "source": [
    "import mnist"
   ]
  },
  {
   "cell_type": "code",
   "execution_count": 4,
   "id": "correct-antarctica",
   "metadata": {
    "execution": {
     "iopub.execute_input": "2021-05-31T21:01:19.168936Z",
     "iopub.status.busy": "2021-05-31T21:01:19.167864Z",
     "iopub.status.idle": "2021-05-31T21:05:06.915411Z",
     "shell.execute_reply": "2021-05-31T21:05:06.916255Z"
    },
    "papermill": {
     "duration": 227.782873,
     "end_time": "2021-05-31T21:05:06.916421",
     "exception": false,
     "start_time": "2021-05-31T21:01:19.133548",
     "status": "completed"
    },
    "tags": []
   },
   "outputs": [],
   "source": [
    "train_images = mnist.train_images()\n",
    "train_labels = mnist.train_labels()"
   ]
  },
  {
   "cell_type": "code",
   "execution_count": 5,
   "id": "musical-prospect",
   "metadata": {
    "execution": {
     "iopub.execute_input": "2021-05-31T21:05:06.985254Z",
     "iopub.status.busy": "2021-05-31T21:05:06.984653Z",
     "iopub.status.idle": "2021-05-31T21:05:06.999909Z",
     "shell.execute_reply": "2021-05-31T21:05:06.999430Z"
    },
    "papermill": {
     "duration": 0.048648,
     "end_time": "2021-05-31T21:05:07.000032",
     "exception": false,
     "start_time": "2021-05-31T21:05:06.951384",
     "status": "completed"
    },
    "tags": []
   },
   "outputs": [
    {
     "data": {
      "text/plain": [
       "((60000, 28, 28), (60000,))"
      ]
     },
     "execution_count": 5,
     "metadata": {},
     "output_type": "execute_result"
    }
   ],
   "source": [
    "train_images.shape, train_labels.shape"
   ]
  },
  {
   "cell_type": "code",
   "execution_count": 6,
   "id": "preliminary-elizabeth",
   "metadata": {
    "execution": {
     "iopub.execute_input": "2021-05-31T21:05:07.067577Z",
     "iopub.status.busy": "2021-05-31T21:05:07.064355Z",
     "iopub.status.idle": "2021-05-31T21:05:24.378194Z",
     "shell.execute_reply": "2021-05-31T21:05:24.377647Z"
    },
    "papermill": {
     "duration": 17.347751,
     "end_time": "2021-05-31T21:05:24.378330",
     "exception": false,
     "start_time": "2021-05-31T21:05:07.030579",
     "status": "completed"
    },
    "tags": []
   },
   "outputs": [],
   "source": [
    "test_images = mnist.test_images()\n",
    "test_labels = mnist.test_labels()"
   ]
  },
  {
   "cell_type": "code",
   "execution_count": 7,
   "id": "acknowledged-oxygen",
   "metadata": {
    "execution": {
     "iopub.execute_input": "2021-05-31T21:05:24.493544Z",
     "iopub.status.busy": "2021-05-31T21:05:24.487162Z",
     "iopub.status.idle": "2021-05-31T21:05:24.501951Z",
     "shell.execute_reply": "2021-05-31T21:05:24.502420Z"
    },
    "papermill": {
     "duration": 0.071899,
     "end_time": "2021-05-31T21:05:24.502562",
     "exception": false,
     "start_time": "2021-05-31T21:05:24.430663",
     "status": "completed"
    },
    "tags": []
   },
   "outputs": [
    {
     "data": {
      "text/plain": [
       "((10000, 28, 28), (10000,))"
      ]
     },
     "execution_count": 7,
     "metadata": {},
     "output_type": "execute_result"
    }
   ],
   "source": [
    "test_images.shape, test_labels.shape"
   ]
  },
  {
   "cell_type": "code",
   "execution_count": 8,
   "id": "innovative-organic",
   "metadata": {
    "execution": {
     "iopub.execute_input": "2021-05-31T21:05:24.583851Z",
     "iopub.status.busy": "2021-05-31T21:05:24.583258Z",
     "iopub.status.idle": "2021-05-31T21:05:24.733825Z",
     "shell.execute_reply": "2021-05-31T21:05:24.733333Z"
    },
    "papermill": {
     "duration": 0.184838,
     "end_time": "2021-05-31T21:05:24.733956",
     "exception": false,
     "start_time": "2021-05-31T21:05:24.549118",
     "status": "completed"
    },
    "tags": []
   },
   "outputs": [
    {
     "name": "stdout",
     "output_type": "stream",
     "text": [
      "2\n"
     ]
    },
    {
     "data": {
      "text/plain": [
       "<matplotlib.image.AxesImage at 0x7fa1cb7b3b38>"
      ]
     },
     "execution_count": 8,
     "metadata": {},
     "output_type": "execute_result"
    },
    {
     "data": {
      "image/png": "[encoded data removed]",
      "text/plain": [
       "<Figure size 432x288 with 1 Axes>"
      ]
     },
     "metadata": {
      "needs_background": "light"
     },
     "output_type": "display_data"
    }
   ],
   "source": [
    "image_index = 7776 # You may select anything up to 60,000\n",
    "print(train_labels[image_index]) \n",
    "plt.imshow(train_images[image_index], cmap='Greys')"
   ]
  },
  {
   "cell_type": "markdown",
   "id": "facial-modem",
   "metadata": {
    "papermill": {
     "duration": 0.031524,
     "end_time": "2021-05-31T21:05:24.797488",
     "exception": false,
     "start_time": "2021-05-31T21:05:24.765964",
     "status": "completed"
    },
    "tags": []
   },
   "source": [
    "## Filter data to get 3 and 8 out"
   ]
  },
  {
   "cell_type": "code",
   "execution_count": 9,
   "id": "thousand-acquisition",
   "metadata": {
    "execution": {
     "iopub.execute_input": "2021-05-31T21:05:24.867057Z",
     "iopub.status.busy": "2021-05-31T21:05:24.865316Z",
     "iopub.status.idle": "2021-05-31T21:05:24.884976Z",
     "shell.execute_reply": "2021-05-31T21:05:24.884365Z"
    },
    "papermill": {
     "duration": 0.055935,
     "end_time": "2021-05-31T21:05:24.885101",
     "exception": false,
     "start_time": "2021-05-31T21:05:24.829166",
     "status": "completed"
    },
    "tags": []
   },
   "outputs": [],
   "source": [
    "train_filter = np.where((train_labels == 3 ) | (train_labels == 8))\n",
    "test_filter = np.where((test_labels == 3) | (test_labels == 8))\n",
    "X_train, y_train = train_images[train_filter], train_labels[train_filter]\n",
    "X_test, y_test = test_images[test_filter], test_labels[test_filter]"
   ]
  },
  {
   "cell_type": "markdown",
   "id": "ruled-access",
   "metadata": {
    "papermill": {
     "duration": 0.031365,
     "end_time": "2021-05-31T21:05:24.948193",
     "exception": false,
     "start_time": "2021-05-31T21:05:24.916828",
     "status": "completed"
    },
    "tags": []
   },
   "source": [
    "We normalize the pixel values in the 0 to 1 range"
   ]
  },
  {
   "cell_type": "code",
   "execution_count": 10,
   "id": "isolated-denver",
   "metadata": {
    "execution": {
     "iopub.execute_input": "2021-05-31T21:05:25.014756Z",
     "iopub.status.busy": "2021-05-31T21:05:25.014177Z",
     "iopub.status.idle": "2021-05-31T21:05:25.080164Z",
     "shell.execute_reply": "2021-05-31T21:05:25.080990Z"
    },
    "papermill": {
     "duration": 0.10169,
     "end_time": "2021-05-31T21:05:25.081236",
     "exception": false,
     "start_time": "2021-05-31T21:05:24.979546",
     "status": "completed"
    },
    "tags": []
   },
   "outputs": [],
   "source": [
    "X_train = X_train/255.\n",
    "X_test = X_test/255."
   ]
  },
  {
   "cell_type": "markdown",
   "id": "perfect-summary",
   "metadata": {
    "papermill": {
     "duration": 0.031735,
     "end_time": "2021-05-31T21:05:25.147370",
     "exception": false,
     "start_time": "2021-05-31T21:05:25.115635",
     "status": "completed"
    },
    "tags": []
   },
   "source": [
    "Setup the labels as 1 (when the digit is 3) and 0 (when the digit is 8)"
   ]
  },
  {
   "cell_type": "code",
   "execution_count": 11,
   "id": "personalized-growing",
   "metadata": {
    "execution": {
     "iopub.execute_input": "2021-05-31T21:05:25.214825Z",
     "iopub.status.busy": "2021-05-31T21:05:25.214217Z",
     "iopub.status.idle": "2021-05-31T21:05:25.228415Z",
     "shell.execute_reply": "2021-05-31T21:05:25.228922Z"
    },
    "papermill": {
     "duration": 0.050234,
     "end_time": "2021-05-31T21:05:25.229065",
     "exception": false,
     "start_time": "2021-05-31T21:05:25.178831",
     "status": "completed"
    },
    "tags": []
   },
   "outputs": [],
   "source": [
    "y_train = 1*(y_train==3)\n",
    "y_test = 1*(y_test==3)"
   ]
  },
  {
   "cell_type": "code",
   "execution_count": 12,
   "id": "considered-virgin",
   "metadata": {
    "execution": {
     "iopub.execute_input": "2021-05-31T21:05:25.298533Z",
     "iopub.status.busy": "2021-05-31T21:05:25.297264Z",
     "iopub.status.idle": "2021-05-31T21:05:25.310959Z",
     "shell.execute_reply": "2021-05-31T21:05:25.311414Z"
    },
    "papermill": {
     "duration": 0.050554,
     "end_time": "2021-05-31T21:05:25.311557",
     "exception": false,
     "start_time": "2021-05-31T21:05:25.261003",
     "status": "completed"
    },
    "tags": []
   },
   "outputs": [
    {
     "data": {
      "text/plain": [
       "((11982, 28, 28), (1984, 28, 28))"
      ]
     },
     "execution_count": 12,
     "metadata": {},
     "output_type": "execute_result"
    }
   ],
   "source": [
    "X_train.shape, X_test.shape"
   ]
  },
  {
   "cell_type": "markdown",
   "id": "civilian-mobile",
   "metadata": {
    "papermill": {
     "duration": 0.031699,
     "end_time": "2021-05-31T21:05:25.375279",
     "exception": false,
     "start_time": "2021-05-31T21:05:25.343580",
     "status": "completed"
    },
    "tags": []
   },
   "source": [
    "### Reshape the input data to create a linear array"
   ]
  },
  {
   "cell_type": "code",
   "execution_count": 13,
   "id": "colonial-adams",
   "metadata": {
    "execution": {
     "iopub.execute_input": "2021-05-31T21:05:25.443611Z",
     "iopub.status.busy": "2021-05-31T21:05:25.443005Z",
     "iopub.status.idle": "2021-05-31T21:05:25.457032Z",
     "shell.execute_reply": "2021-05-31T21:05:25.457475Z"
    },
    "papermill": {
     "duration": 0.05035,
     "end_time": "2021-05-31T21:05:25.457620",
     "exception": false,
     "start_time": "2021-05-31T21:05:25.407270",
     "status": "completed"
    },
    "tags": []
   },
   "outputs": [
    {
     "data": {
      "text/plain": [
       "((11982, 784), (1984, 784))"
      ]
     },
     "execution_count": 13,
     "metadata": {},
     "output_type": "execute_result"
    }
   ],
   "source": [
    "X_train = X_train.reshape(X_train.shape[0], -1)\n",
    "X_test = X_test.reshape(X_test.shape[0], -1)\n",
    "X_train.shape, X_test.shape"
   ]
  },
  {
   "cell_type": "markdown",
   "id": "smart-details",
   "metadata": {
    "papermill": {
     "duration": 0.031848,
     "end_time": "2021-05-31T21:05:25.521430",
     "exception": false,
     "start_time": "2021-05-31T21:05:25.489582",
     "status": "completed"
    },
    "tags": []
   },
   "source": [
    "### Importing appropriate functions from 'Kudzu'"
   ]
  },
  {
   "cell_type": "code",
   "execution_count": 14,
   "id": "celtic-trial",
   "metadata": {
    "execution": {
     "iopub.execute_input": "2021-05-31T21:05:25.588392Z",
     "iopub.status.busy": "2021-05-31T21:05:25.587778Z",
     "iopub.status.idle": "2021-05-31T21:05:25.610504Z",
     "shell.execute_reply": "2021-05-31T21:05:25.609667Z"
    },
    "papermill": {
     "duration": 0.057095,
     "end_time": "2021-05-31T21:05:25.610644",
     "exception": false,
     "start_time": "2021-05-31T21:05:25.553549",
     "status": "completed"
    },
    "tags": []
   },
   "outputs": [],
   "source": [
    "from kudzu.layer import Sigmoid\n",
    "from kudzu.layer import Relu\n",
    "from kudzu.layer import Affine, Sigmoid\n",
    "\n",
    "from kudzu.model import Model\n",
    "from kudzu.train import Learner\n",
    "from kudzu.optim import GD\n",
    "from kudzu.data import Data, Dataloader, Sampler\n",
    "\n",
    "from kudzu.callbacks import AccCallback\n",
    "from kudzu.callbacks import ClfCallback\n",
    "\n",
    "from kudzu.loss import MSE"
   ]
  },
  {
   "cell_type": "markdown",
   "id": "coupled-customer",
   "metadata": {
    "papermill": {
     "duration": 0.031954,
     "end_time": "2021-05-31T21:05:25.678136",
     "exception": false,
     "start_time": "2021-05-31T21:05:25.646182",
     "status": "completed"
    },
    "tags": []
   },
   "source": [
    "### Let us create a `Config` class, to store important parameters. \n",
    "This class essentially plays the role of a dictionary."
   ]
  },
  {
   "cell_type": "code",
   "execution_count": 15,
   "id": "young-ceiling",
   "metadata": {
    "execution": {
     "iopub.execute_input": "2021-05-31T21:05:25.746867Z",
     "iopub.status.busy": "2021-05-31T21:05:25.746251Z",
     "iopub.status.idle": "2021-05-31T21:05:25.765697Z",
     "shell.execute_reply": "2021-05-31T21:05:25.765222Z"
    },
    "papermill": {
     "duration": 0.055661,
     "end_time": "2021-05-31T21:05:25.765821",
     "exception": false,
     "start_time": "2021-05-31T21:05:25.710160",
     "status": "completed"
    },
    "tags": []
   },
   "outputs": [],
   "source": [
    "class Config:\n",
    "    pass\n",
    "config = Config()\n",
    "config.lr = 0.001\n",
    "config.num_epochs = 251\n",
    "config.bs = 50"
   ]
  },
  {
   "cell_type": "markdown",
   "id": "according-mandate",
   "metadata": {
    "papermill": {
     "duration": 0.031812,
     "end_time": "2021-05-31T21:05:25.829538",
     "exception": false,
     "start_time": "2021-05-31T21:05:25.797726",
     "status": "completed"
    },
    "tags": []
   },
   "source": [
    "### Initializing data to the variables"
   ]
  },
  {
   "cell_type": "code",
   "execution_count": 16,
   "id": "academic-disposition",
   "metadata": {
    "execution": {
     "iopub.execute_input": "2021-05-31T21:05:25.898538Z",
     "iopub.status.busy": "2021-05-31T21:05:25.897946Z",
     "iopub.status.idle": "2021-05-31T21:05:25.912135Z",
     "shell.execute_reply": "2021-05-31T21:05:25.911643Z"
    },
    "papermill": {
     "duration": 0.050079,
     "end_time": "2021-05-31T21:05:25.912259",
     "exception": false,
     "start_time": "2021-05-31T21:05:25.862180",
     "status": "completed"
    },
    "tags": []
   },
   "outputs": [],
   "source": [
    "data = Data(X_train, y_train.reshape(-1,1))\n",
    "sampler = Sampler(data, config.bs, shuffle=True)\n",
    "\n",
    "dl = Dataloader(data, sampler)\n",
    "\n",
    "opt = GD(config.lr)\n",
    "loss = MSE()"
   ]
  },
  {
   "cell_type": "code",
   "execution_count": 17,
   "id": "featured-commission",
   "metadata": {
    "execution": {
     "iopub.execute_input": "2021-05-31T21:05:25.980414Z",
     "iopub.status.busy": "2021-05-31T21:05:25.979819Z",
     "iopub.status.idle": "2021-05-31T21:05:25.992385Z",
     "shell.execute_reply": "2021-05-31T21:05:25.992837Z"
    },
    "papermill": {
     "duration": 0.048929,
     "end_time": "2021-05-31T21:05:25.992989",
     "exception": false,
     "start_time": "2021-05-31T21:05:25.944060",
     "status": "completed"
    },
    "tags": []
   },
   "outputs": [],
   "source": [
    "training_xdata = X_train\n",
    "testing_xdata = X_test\n",
    "training_ydata = y_train.reshape(-1,1)\n",
    "testing_ydata = y_test.reshape(-1,1)"
   ]
  },
  {
   "cell_type": "markdown",
   "id": "played-safety",
   "metadata": {
    "papermill": {
     "duration": 0.031887,
     "end_time": "2021-05-31T21:05:26.057089",
     "exception": false,
     "start_time": "2021-05-31T21:05:26.025202",
     "status": "completed"
    },
    "tags": []
   },
   "source": [
    "### Running Models with the Training data\n",
    "Details about the network layers:\n",
    "- A first affine layer has 784 inputs and does 100 affine transforms. These are followed by a Relu\n",
    "- A second affine layer has 100 inputs from the 100 activations of the past layer, and does 100 affine transforms. These are followed by a Relu\n",
    "- A third affine layer has 100 activations and does 2 affine transformations to create an embedding for visualization. There is no non-linearity here.\n",
    "- A final \"logistic regression\" which has an affine transform from 2 inputs to 1 output, which is squeezed through a sigmoid.\n",
    "\n",
    "Help taken from Anshuman's Notebook."
   ]
  },
  {
   "cell_type": "code",
   "execution_count": 18,
   "id": "asian-bankruptcy",
   "metadata": {
    "execution": {
     "iopub.execute_input": "2021-05-31T21:05:26.126398Z",
     "iopub.status.busy": "2021-05-31T21:05:26.125790Z",
     "iopub.status.idle": "2021-05-31T21:05:26.141739Z",
     "shell.execute_reply": "2021-05-31T21:05:26.142213Z"
    },
    "papermill": {
     "duration": 0.053395,
     "end_time": "2021-05-31T21:05:26.142358",
     "exception": false,
     "start_time": "2021-05-31T21:05:26.088963",
     "status": "completed"
    },
    "tags": []
   },
   "outputs": [],
   "source": [
    "# layers for the Neural Network\n",
    "layers = [Affine(\"first\", 784, 100), Relu(\"first\"), Affine(\"second\", 100, 100), Relu(\"second\"), Affine(\"third\", 100, 2), Affine(\"final\", 2, 1), Sigmoid(\"final\")]\n",
    "model_nn = Model(layers)\n",
    "\n",
    "# layers for the Logistic Regression\n",
    "layers_lr = [Affine(\"logits\", 784, 1), Sigmoid(\"sigmoid\")]\n",
    "model_lr = Model(layers_lr)"
   ]
  },
  {
   "cell_type": "code",
   "execution_count": 19,
   "id": "removed-butler",
   "metadata": {
    "execution": {
     "iopub.execute_input": "2021-05-31T21:05:26.211391Z",
     "iopub.status.busy": "2021-05-31T21:05:26.210777Z",
     "iopub.status.idle": "2021-05-31T21:05:26.223257Z",
     "shell.execute_reply": "2021-05-31T21:05:26.223718Z"
    },
    "papermill": {
     "duration": 0.049328,
     "end_time": "2021-05-31T21:05:26.223864",
     "exception": false,
     "start_time": "2021-05-31T21:05:26.174536",
     "status": "completed"
    },
    "tags": []
   },
   "outputs": [],
   "source": [
    "# suffix _nn stands for Neural Network.\n",
    "learner_nn = Learner(loss, model_nn, opt, config.num_epochs)\n",
    "acc_nn = ClfCallback(learner_nn, config.bs, training_xdata , testing_xdata, training_ydata, testing_ydata)\n",
    "learner_nn.set_callbacks([acc_nn])"
   ]
  },
  {
   "cell_type": "code",
   "execution_count": 20,
   "id": "conceptual-throw",
   "metadata": {
    "execution": {
     "iopub.execute_input": "2021-05-31T21:05:26.292650Z",
     "iopub.status.busy": "2021-05-31T21:05:26.291685Z",
     "iopub.status.idle": "2021-05-31T21:07:02.677061Z",
     "shell.execute_reply": "2021-05-31T21:07:02.677850Z"
    },
    "papermill": {
     "duration": 96.422256,
     "end_time": "2021-05-31T21:07:02.678005",
     "exception": false,
     "start_time": "2021-05-31T21:05:26.255749",
     "status": "completed"
    },
    "tags": []
   },
   "outputs": [
    {
     "name": "stdout",
     "output_type": "stream",
     "text": [
      "====== Neural Network ======\n"
     ]
    },
    {
     "name": "stdout",
     "output_type": "stream",
     "text": [
      "Epoch 0, Loss 0.2479\n",
      "Training Accuracy: 0.6793, Testing Accuracy: 0.6683\n",
      "\n"
     ]
    },
    {
     "name": "stdout",
     "output_type": "stream",
     "text": [
      "Epoch 10, Loss 0.0715\n",
      "Training Accuracy: 0.9300, Testing Accuracy: 0.9435\n",
      "\n"
     ]
    },
    {
     "name": "stdout",
     "output_type": "stream",
     "text": [
      "Epoch 20, Loss 0.0478\n",
      "Training Accuracy: 0.9496, Testing Accuracy: 0.9602\n",
      "\n"
     ]
    },
    {
     "name": "stdout",
     "output_type": "stream",
     "text": [
      "Epoch 30, Loss 0.0392\n",
      "Training Accuracy: 0.9562, Testing Accuracy: 0.9657\n",
      "\n"
     ]
    },
    {
     "name": "stdout",
     "output_type": "stream",
     "text": [
      "Epoch 40, Loss 0.0347\n",
      "Training Accuracy: 0.9604, Testing Accuracy: 0.9693\n",
      "\n"
     ]
    },
    {
     "name": "stdout",
     "output_type": "stream",
     "text": [
      "Epoch 50, Loss 0.0318\n",
      "Training Accuracy: 0.9634, Testing Accuracy: 0.9688\n",
      "\n"
     ]
    },
    {
     "name": "stdout",
     "output_type": "stream",
     "text": [
      "Epoch 60, Loss 0.0298\n",
      "Training Accuracy: 0.9653, Testing Accuracy: 0.9688\n",
      "\n"
     ]
    },
    {
     "name": "stdout",
     "output_type": "stream",
     "text": [
      "Epoch 70, Loss 0.0282\n",
      "Training Accuracy: 0.9673, Testing Accuracy: 0.9688\n",
      "\n"
     ]
    },
    {
     "name": "stdout",
     "output_type": "stream",
     "text": [
      "Epoch 80, Loss 0.0269\n",
      "Training Accuracy: 0.9683, Testing Accuracy: 0.9688\n",
      "\n"
     ]
    },
    {
     "name": "stdout",
     "output_type": "stream",
     "text": [
      "Epoch 90, Loss 0.0258\n",
      "Training Accuracy: 0.9704, Testing Accuracy: 0.9708\n",
      "\n"
     ]
    },
    {
     "name": "stdout",
     "output_type": "stream",
     "text": [
      "Epoch 100, Loss 0.0248\n",
      "Training Accuracy: 0.9713, Testing Accuracy: 0.9718\n",
      "\n"
     ]
    },
    {
     "name": "stdout",
     "output_type": "stream",
     "text": [
      "Epoch 110, Loss 0.024\n",
      "Training Accuracy: 0.9728, Testing Accuracy: 0.9733\n",
      "\n"
     ]
    },
    {
     "name": "stdout",
     "output_type": "stream",
     "text": [
      "Epoch 120, Loss 0.0232\n",
      "Training Accuracy: 0.9739, Testing Accuracy: 0.9738\n",
      "\n"
     ]
    },
    {
     "name": "stdout",
     "output_type": "stream",
     "text": [
      "Epoch 130, Loss 0.0225\n",
      "Training Accuracy: 0.9746, Testing Accuracy: 0.9748\n",
      "\n"
     ]
    },
    {
     "name": "stdout",
     "output_type": "stream",
     "text": [
      "Epoch 140, Loss 0.0219\n",
      "Training Accuracy: 0.9751, Testing Accuracy: 0.9753\n",
      "\n"
     ]
    },
    {
     "name": "stdout",
     "output_type": "stream",
     "text": [
      "Epoch 150, Loss 0.0213\n",
      "Training Accuracy: 0.9760, Testing Accuracy: 0.9753\n",
      "\n"
     ]
    },
    {
     "name": "stdout",
     "output_type": "stream",
     "text": [
      "Epoch 160, Loss 0.0207\n",
      "Training Accuracy: 0.9768, Testing Accuracy: 0.9758\n",
      "\n"
     ]
    },
    {
     "name": "stdout",
     "output_type": "stream",
     "text": [
      "Epoch 170, Loss 0.0202\n",
      "Training Accuracy: 0.9775, Testing Accuracy: 0.9758\n",
      "\n"
     ]
    },
    {
     "name": "stdout",
     "output_type": "stream",
     "text": [
      "Epoch 180, Loss 0.0197\n",
      "Training Accuracy: 0.9786, Testing Accuracy: 0.9748\n",
      "\n"
     ]
    },
    {
     "name": "stdout",
     "output_type": "stream",
     "text": [
      "Epoch 190, Loss 0.0192\n",
      "Training Accuracy: 0.9789, Testing Accuracy: 0.9743\n",
      "\n"
     ]
    },
    {
     "name": "stdout",
     "output_type": "stream",
     "text": [
      "Epoch 200, Loss 0.0188\n",
      "Training Accuracy: 0.9796, Testing Accuracy: 0.9743\n",
      "\n"
     ]
    },
    {
     "name": "stdout",
     "output_type": "stream",
     "text": [
      "Epoch 210, Loss 0.0183\n",
      "Training Accuracy: 0.9799, Testing Accuracy: 0.9753\n",
      "\n"
     ]
    },
    {
     "name": "stdout",
     "output_type": "stream",
     "text": [
      "Epoch 220, Loss 0.0179\n",
      "Training Accuracy: 0.9802, Testing Accuracy: 0.9748\n",
      "\n"
     ]
    },
    {
     "name": "stdout",
     "output_type": "stream",
     "text": [
      "Epoch 230, Loss 0.0175\n",
      "Training Accuracy: 0.9809, Testing Accuracy: 0.9748\n",
      "\n"
     ]
    },
    {
     "name": "stdout",
     "output_type": "stream",
     "text": [
      "Epoch 240, Loss 0.0172\n",
      "Training Accuracy: 0.9813, Testing Accuracy: 0.9753\n",
      "\n"
     ]
    },
    {
     "name": "stdout",
     "output_type": "stream",
     "text": [
      "Epoch 250, Loss 0.0168\n",
      "Training Accuracy: 0.9819, Testing Accuracy: 0.9748\n",
      "\n"
     ]
    },
    {
     "data": {
      "text/plain": [
       "0.034488864930507276"
      ]
     },
     "execution_count": 20,
     "metadata": {},
     "output_type": "execute_result"
    }
   ],
   "source": [
    "print(\"====== Neural Network ======\")\n",
    "learner_nn.train_loop(dl)"
   ]
  },
  {
   "cell_type": "markdown",
   "id": "competent-suffering",
   "metadata": {
    "papermill": {
     "duration": 0.040212,
     "end_time": "2021-05-31T21:07:02.758932",
     "exception": false,
     "start_time": "2021-05-31T21:07:02.718720",
     "status": "completed"
    },
    "tags": []
   },
   "source": [
    "### Logistic Regression based Implementation."
   ]
  },
  {
   "cell_type": "code",
   "execution_count": 21,
   "id": "qualified-psychiatry",
   "metadata": {
    "execution": {
     "iopub.execute_input": "2021-05-31T21:07:02.846144Z",
     "iopub.status.busy": "2021-05-31T21:07:02.844529Z",
     "iopub.status.idle": "2021-05-31T21:07:02.857711Z",
     "shell.execute_reply": "2021-05-31T21:07:02.857206Z"
    },
    "papermill": {
     "duration": 0.05858,
     "end_time": "2021-05-31T21:07:02.857835",
     "exception": false,
     "start_time": "2021-05-31T21:07:02.799255",
     "status": "completed"
    },
    "tags": []
   },
   "outputs": [],
   "source": [
    "learner_lr = Learner(loss, model_lr, opt, config.num_epochs)\n",
    "acc_lr = ClfCallback(learner_lr, config.bs, training_xdata , testing_xdata, training_ydata, testing_ydata)\n",
    "learner_lr.set_callbacks([acc_lr])"
   ]
  },
  {
   "cell_type": "code",
   "execution_count": 22,
   "id": "average-outside",
   "metadata": {
    "execution": {
     "iopub.execute_input": "2021-05-31T21:07:02.943599Z",
     "iopub.status.busy": "2021-05-31T21:07:02.942993Z",
     "iopub.status.idle": "2021-05-31T21:07:20.511703Z",
     "shell.execute_reply": "2021-05-31T21:07:20.512170Z"
    },
    "papermill": {
     "duration": 17.613179,
     "end_time": "2021-05-31T21:07:20.512314",
     "exception": false,
     "start_time": "2021-05-31T21:07:02.899135",
     "status": "completed"
    },
    "tags": []
   },
   "outputs": [
    {
     "name": "stdout",
     "output_type": "stream",
     "text": [
      "====== Logistic Regression ======\n",
      "Epoch 0, Loss 0.25\n",
      "Training Accuracy: 0.6612, Testing Accuracy: 0.6663\n",
      "\n"
     ]
    },
    {
     "name": "stdout",
     "output_type": "stream",
     "text": [
      "Epoch 10, Loss 0.1024\n",
      "Training Accuracy: 0.9145, Testing Accuracy: 0.9279\n",
      "\n"
     ]
    },
    {
     "name": "stdout",
     "output_type": "stream",
     "text": [
      "Epoch 20, Loss 0.0788\n",
      "Training Accuracy: 0.9305, Testing Accuracy: 0.9410\n",
      "\n"
     ]
    },
    {
     "name": "stdout",
     "output_type": "stream",
     "text": [
      "Epoch 30, Loss 0.068\n",
      "Training Accuracy: 0.9383, Testing Accuracy: 0.9481\n",
      "\n"
     ]
    },
    {
     "name": "stdout",
     "output_type": "stream",
     "text": [
      "Epoch 40, Loss 0.0615\n",
      "Training Accuracy: 0.9426, Testing Accuracy: 0.9516\n",
      "\n"
     ]
    },
    {
     "name": "stdout",
     "output_type": "stream",
     "text": [
      "Epoch 50, Loss 0.057\n",
      "Training Accuracy: 0.9462, Testing Accuracy: 0.9531\n",
      "\n"
     ]
    },
    {
     "name": "stdout",
     "output_type": "stream",
     "text": [
      "Epoch 60, Loss 0.0537\n",
      "Training Accuracy: 0.9493, Testing Accuracy: 0.9577\n",
      "\n"
     ]
    },
    {
     "name": "stdout",
     "output_type": "stream",
     "text": [
      "Epoch 70, Loss 0.0512\n",
      "Training Accuracy: 0.9503, Testing Accuracy: 0.9597\n",
      "\n"
     ]
    },
    {
     "name": "stdout",
     "output_type": "stream",
     "text": [
      "Epoch 80, Loss 0.0492\n",
      "Training Accuracy: 0.9523, Testing Accuracy: 0.9612\n",
      "\n"
     ]
    },
    {
     "name": "stdout",
     "output_type": "stream",
     "text": [
      "Epoch 90, Loss 0.0475\n",
      "Training Accuracy: 0.9530, Testing Accuracy: 0.9612\n",
      "\n"
     ]
    },
    {
     "name": "stdout",
     "output_type": "stream",
     "text": [
      "Epoch 100, Loss 0.0461\n",
      "Training Accuracy: 0.9545, Testing Accuracy: 0.9617\n",
      "\n"
     ]
    },
    {
     "name": "stdout",
     "output_type": "stream",
     "text": [
      "Epoch 110, Loss 0.0449\n",
      "Training Accuracy: 0.9553, Testing Accuracy: 0.9622\n",
      "\n"
     ]
    },
    {
     "name": "stdout",
     "output_type": "stream",
     "text": [
      "Epoch 120, Loss 0.0438\n",
      "Training Accuracy: 0.9562, Testing Accuracy: 0.9642\n",
      "\n"
     ]
    },
    {
     "name": "stdout",
     "output_type": "stream",
     "text": [
      "Epoch 130, Loss 0.0429\n",
      "Training Accuracy: 0.9566, Testing Accuracy: 0.9647\n",
      "\n"
     ]
    },
    {
     "name": "stdout",
     "output_type": "stream",
     "text": [
      "Epoch 140, Loss 0.0421\n",
      "Training Accuracy: 0.9569, Testing Accuracy: 0.9647\n",
      "\n"
     ]
    },
    {
     "name": "stdout",
     "output_type": "stream",
     "text": [
      "Epoch 150, Loss 0.0413\n",
      "Training Accuracy: 0.9575, Testing Accuracy: 0.9652\n",
      "\n"
     ]
    },
    {
     "name": "stdout",
     "output_type": "stream",
     "text": [
      "Epoch 160, Loss 0.0407\n",
      "Training Accuracy: 0.9579, Testing Accuracy: 0.9652\n",
      "\n"
     ]
    },
    {
     "name": "stdout",
     "output_type": "stream",
     "text": [
      "Epoch 170, Loss 0.0401\n",
      "Training Accuracy: 0.9585, Testing Accuracy: 0.9657\n",
      "\n"
     ]
    },
    {
     "name": "stdout",
     "output_type": "stream",
     "text": [
      "Epoch 180, Loss 0.0395\n",
      "Training Accuracy: 0.9589, Testing Accuracy: 0.9657\n",
      "\n"
     ]
    },
    {
     "name": "stdout",
     "output_type": "stream",
     "text": [
      "Epoch 190, Loss 0.039\n",
      "Training Accuracy: 0.9591, Testing Accuracy: 0.9652\n",
      "\n"
     ]
    },
    {
     "name": "stdout",
     "output_type": "stream",
     "text": [
      "Epoch 200, Loss 0.0385\n",
      "Training Accuracy: 0.9599, Testing Accuracy: 0.9647\n",
      "\n"
     ]
    },
    {
     "name": "stdout",
     "output_type": "stream",
     "text": [
      "Epoch 210, Loss 0.0381\n",
      "Training Accuracy: 0.9602, Testing Accuracy: 0.9657\n",
      "\n"
     ]
    },
    {
     "name": "stdout",
     "output_type": "stream",
     "text": [
      "Epoch 220, Loss 0.0377\n",
      "Training Accuracy: 0.9605, Testing Accuracy: 0.9662\n",
      "\n"
     ]
    },
    {
     "name": "stdout",
     "output_type": "stream",
     "text": [
      "Epoch 230, Loss 0.0373\n",
      "Training Accuracy: 0.9610, Testing Accuracy: 0.9657\n",
      "\n"
     ]
    },
    {
     "name": "stdout",
     "output_type": "stream",
     "text": [
      "Epoch 240, Loss 0.0369\n",
      "Training Accuracy: 0.9611, Testing Accuracy: 0.9662\n",
      "\n"
     ]
    },
    {
     "name": "stdout",
     "output_type": "stream",
     "text": [
      "Epoch 250, Loss 0.0366\n",
      "Training Accuracy: 0.9613, Testing Accuracy: 0.9662\n",
      "\n"
     ]
    },
    {
     "data": {
      "text/plain": [
       "0.05269011421439711"
      ]
     },
     "execution_count": 22,
     "metadata": {},
     "output_type": "execute_result"
    }
   ],
   "source": [
    "print(\"====== Logistic Regression ======\")\n",
    "learner_lr.train_loop(dl)"
   ]
  },
  {
   "cell_type": "markdown",
   "id": "adjusted-possible",
   "metadata": {
    "papermill": {
     "duration": 0.04756,
     "end_time": "2021-05-31T21:07:20.607997",
     "exception": false,
     "start_time": "2021-05-31T21:07:20.560437",
     "status": "completed"
    },
    "tags": []
   },
   "source": [
    "### Comparing results of NN and LR"
   ]
  },
  {
   "cell_type": "code",
   "execution_count": 23,
   "id": "mental-multimedia",
   "metadata": {
    "execution": {
     "iopub.execute_input": "2021-05-31T21:07:20.711026Z",
     "iopub.status.busy": "2021-05-31T21:07:20.709374Z",
     "iopub.status.idle": "2021-05-31T21:07:20.954384Z",
     "shell.execute_reply": "2021-05-31T21:07:20.954882Z"
    },
    "papermill": {
     "duration": 0.299478,
     "end_time": "2021-05-31T21:07:20.955037",
     "exception": false,
     "start_time": "2021-05-31T21:07:20.655559",
     "status": "completed"
    },
    "tags": []
   },
   "outputs": [
    {
     "data": {
      "text/plain": [
       "<matplotlib.legend.Legend at 0x7fa1c33240b8>"
      ]
     },
     "execution_count": 23,
     "metadata": {},
     "output_type": "execute_result"
    },
    {
     "data": {
      "image/png": "[encoded data removed]",
      "text/plain": [
       "<Figure size 1080x720 with 1 Axes>"
      ]
     },
     "metadata": {
      "needs_background": "light"
     },
     "output_type": "display_data"
    }
   ],
   "source": [
    "plt.figure(figsize=(15,10))\n",
    "\n",
    "# Neural Network plots\n",
    "plt.plot(acc_nn.accuracies, 'r-', label = \"Training Accuracies - NN\")\n",
    "plt.plot(acc_nn.test_accuracies, 'g-', label = \"Testing Accuracies - NN\")\n",
    "\n",
    "# Logistic Regression plots\n",
    "plt.plot(acc_lr.accuracies, 'k-', label = \"Training Accuracies - LR\")\n",
    "plt.plot(acc_lr.test_accuracies, 'b-', label = \"Testing Accuracies - LR\")\n",
    "\n",
    "plt.ylim(0.8, 1)\n",
    "\n",
    "plt.legend()\n",
    "\n"
   ]
  },
  {
   "cell_type": "markdown",
   "id": "sexual-flesh",
   "metadata": {
    "papermill": {
     "duration": 0.049547,
     "end_time": "2021-05-31T21:07:21.054511",
     "exception": false,
     "start_time": "2021-05-31T21:07:21.004964",
     "status": "completed"
    },
    "tags": []
   },
   "source": [
    "### From the plot, we can observe the following:\n",
    "- Neural Network achieves higher accuracy than the Logistic Regression model.\n",
    "- This apparently, is because of overfitting, i.e. NN captures more noise than data.\n",
    "- Testing accuracy of NN drops below the Training accuracy at higher epochs. This explains the over-fitting on training data.\n",
    "- Logistic Regression gives a reliable accuracy, without the above mentioned problem.\n"
   ]
  },
  {
   "cell_type": "markdown",
   "id": "institutional-pacific",
   "metadata": {
    "papermill": {
     "duration": 0.04937,
     "end_time": "2021-05-31T21:07:21.153433",
     "exception": false,
     "start_time": "2021-05-31T21:07:21.104063",
     "status": "completed"
    },
    "tags": []
   },
   "source": [
    "### Moving till the last but one layer (excluding it).\n",
    "#### Plotting the outputs of this layer of the NN."
   ]
  },
  {
   "cell_type": "code",
   "execution_count": 24,
   "id": "economic-server",
   "metadata": {
    "execution": {
     "iopub.execute_input": "2021-05-31T21:07:21.258212Z",
     "iopub.status.busy": "2021-05-31T21:07:21.257608Z",
     "iopub.status.idle": "2021-05-31T21:07:21.273542Z",
     "shell.execute_reply": "2021-05-31T21:07:21.272991Z"
    },
    "papermill": {
     "duration": 0.070617,
     "end_time": "2021-05-31T21:07:21.273695",
     "exception": false,
     "start_time": "2021-05-31T21:07:21.203078",
     "status": "completed"
    },
    "tags": []
   },
   "outputs": [],
   "source": [
    "model_new = Model(layers[:-2])"
   ]
  },
  {
   "cell_type": "code",
   "execution_count": 25,
   "id": "varied-upgrade",
   "metadata": {
    "execution": {
     "iopub.execute_input": "2021-05-31T21:07:21.403570Z",
     "iopub.status.busy": "2021-05-31T21:07:21.402984Z",
     "iopub.status.idle": "2021-05-31T21:07:21.429029Z",
     "shell.execute_reply": "2021-05-31T21:07:21.429766Z"
    },
    "papermill": {
     "duration": 0.106519,
     "end_time": "2021-05-31T21:07:21.429921",
     "exception": false,
     "start_time": "2021-05-31T21:07:21.323402",
     "status": "completed"
    },
    "tags": []
   },
   "outputs": [],
   "source": [
    "plot_testing = model_new(testing_xdata)"
   ]
  },
  {
   "cell_type": "code",
   "execution_count": 26,
   "id": "specific-handling",
   "metadata": {
    "execution": {
     "iopub.execute_input": "2021-05-31T21:07:21.536447Z",
     "iopub.status.busy": "2021-05-31T21:07:21.535868Z",
     "iopub.status.idle": "2021-05-31T21:07:21.735246Z",
     "shell.execute_reply": "2021-05-31T21:07:21.734699Z"
    },
    "papermill": {
     "duration": 0.255337,
     "end_time": "2021-05-31T21:07:21.735373",
     "exception": false,
     "start_time": "2021-05-31T21:07:21.480036",
     "status": "completed"
    },
    "tags": []
   },
   "outputs": [
    {
     "data": {
      "text/plain": [
       "Text(0.5, 1.0, 'Outputs')"
      ]
     },
     "execution_count": 26,
     "metadata": {},
     "output_type": "execute_result"
    },
    {
     "data": {
      "image/png": "[encoded data removed]",
      "text/plain": [
       "<Figure size 576x504 with 1 Axes>"
      ]
     },
     "metadata": {
      "needs_background": "light"
     },
     "output_type": "display_data"
    }
   ],
   "source": [
    "plt.figure(figsize=(8,7))\n",
    "plt.scatter(plot_testing[:,0], plot_testing[:,1], alpha = 0.1, c = y_test.ravel());\n",
    "plt.title('Outputs')"
   ]
  },
  {
   "cell_type": "markdown",
   "id": "described-knowing",
   "metadata": {
    "papermill": {
     "duration": 0.052831,
     "end_time": "2021-05-31T21:07:21.841540",
     "exception": false,
     "start_time": "2021-05-31T21:07:21.788709",
     "status": "completed"
    },
    "tags": []
   },
   "source": [
    "### Plotting probability contours"
   ]
  },
  {
   "cell_type": "code",
   "execution_count": 27,
   "id": "needed-growing",
   "metadata": {
    "execution": {
     "iopub.execute_input": "2021-05-31T21:07:21.952507Z",
     "iopub.status.busy": "2021-05-31T21:07:21.951896Z",
     "iopub.status.idle": "2021-05-31T21:07:21.964195Z",
     "shell.execute_reply": "2021-05-31T21:07:21.963727Z"
    },
    "papermill": {
     "duration": 0.070232,
     "end_time": "2021-05-31T21:07:21.964315",
     "exception": false,
     "start_time": "2021-05-31T21:07:21.894083",
     "status": "completed"
    },
    "tags": []
   },
   "outputs": [],
   "source": [
    "model_prob = Model(layers[-2:]) "
   ]
  },
  {
   "cell_type": "code",
   "execution_count": 28,
   "id": "introductory-enforcement",
   "metadata": {
    "execution": {
     "iopub.execute_input": "2021-05-31T21:07:22.078902Z",
     "iopub.status.busy": "2021-05-31T21:07:22.078251Z",
     "iopub.status.idle": "2021-05-31T21:07:22.091526Z",
     "shell.execute_reply": "2021-05-31T21:07:22.091971Z"
    },
    "papermill": {
     "duration": 0.075281,
     "end_time": "2021-05-31T21:07:22.092118",
     "exception": false,
     "start_time": "2021-05-31T21:07:22.016837",
     "status": "completed"
    },
    "tags": []
   },
   "outputs": [],
   "source": [
    "# Adjust the x and y ranges according to the above generated plot.\n",
    "x_range = np.linspace(-4, 1, 100) \n",
    "y_range = np.linspace(-6, 6, 100) \n",
    "x_grid, y_grid = np.meshgrid(x_range, y_range) # x_grid and y_grig are of size 100 X 100\n",
    "\n",
    "# converting x_grid and y_grid to continuous arrays\n",
    "x_grid_flat = np.ravel(x_grid)\n",
    "y_grid_flat = np.ravel(y_grid)\n",
    "\n",
    "# The last layer of the current model takes two columns as input. Hence transpose of np.vstack() is required.\n",
    "X = np.vstack((x_grid_flat, y_grid_flat)).T\n",
    "\n",
    "# x_grid and y_grid are of size 100 x 100\n",
    "probability_contour = model_prob(X).reshape(100,100) "
   ]
  },
  {
   "cell_type": "code",
   "execution_count": 29,
   "id": "understood-landing",
   "metadata": {
    "execution": {
     "iopub.execute_input": "2021-05-31T21:07:22.205984Z",
     "iopub.status.busy": "2021-05-31T21:07:22.205394Z",
     "iopub.status.idle": "2021-05-31T21:07:22.459456Z",
     "shell.execute_reply": "2021-05-31T21:07:22.459928Z"
    },
    "papermill": {
     "duration": 0.315263,
     "end_time": "2021-05-31T21:07:22.460074",
     "exception": false,
     "start_time": "2021-05-31T21:07:22.144811",
     "status": "completed"
    },
    "tags": []
   },
   "outputs": [
    {
     "data": {
      "image/png": "[encoded data removed]",
      "text/plain": [
       "<Figure size 720x648 with 1 Axes>"
      ]
     },
     "metadata": {
      "needs_background": "light"
     },
     "output_type": "display_data"
    }
   ],
   "source": [
    "plt.figure(figsize=(10,9))\n",
    "plt.scatter(plot_testing[:,0], plot_testing[:,1], alpha = 0.1, c = y_test.ravel())\n",
    "contours = plt.contour(x_grid,y_grid,probability_contour)\n",
    "plt.title('Probability Contours')\n",
    "plt.clabel(contours, inline = True );"
   ]
  }
 ],
 "metadata": {
  "kernelspec": {
   "display_name": "Python 3",
   "language": "python",
   "name": "python3"
  },
  "language_info": {
   "codemirror_mode": {
    "name": "ipython",
    "version": 3
   },
   "file_extension": ".py",
   "mimetype": "text/x-python",
   "name": "python",
   "nbconvert_exporter": "python",
   "pygments_lexer": "ipython3",
   "version": "3.6.13"
  },
  "papermill": {
   "duration": 368.476832,
   "end_time": "2021-05-31T21:07:23.900402",
   "environment_variables": {},
   "exception": null,
   "input_path": "2020-08-11-NeuralNetwork.ipynb",
   "output_path": "2020-08-11-NeuralNetwork.ipynb",
   "parameters": {},
   "start_time": "2021-05-31T21:01:15.423570",
   "version": "2.1.2"
  }
 },
 "nbformat": 4,
 "nbformat_minor": 5
}