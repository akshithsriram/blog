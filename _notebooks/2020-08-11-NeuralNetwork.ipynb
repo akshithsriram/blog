{
 "cells": [
  {
   "cell_type": "markdown",
   "metadata": {
    "papermill": {
     "duration": 0.033856,
     "end_time": "2020-10-20T20:05:25.545284",
     "exception": false,
     "start_time": "2020-10-20T20:05:25.511428",
     "status": "completed"
    },
    "tags": []
   },
   "source": [
    "# \"A Basic Neural Network: Differentiate Hand-Written Digits\"\n",
    "\n",
    "- badges: true\n",
    "- author: Akshith Sriram"
   ]
  },
  {
   "cell_type": "markdown",
   "metadata": {
    "papermill": {
     "duration": 0.031714,
     "end_time": "2020-10-20T20:05:25.606064",
     "exception": false,
     "start_time": "2020-10-20T20:05:25.574350",
     "status": "completed"
    },
    "tags": []
   },
   "source": [
    "### Key Objectives:\n",
    "- Building a neural network that differentiates two hand-written digits 3 and 8.\n",
    "- Comparing the results of this Neural Network (NN) to that of a Logistic Regression (LR) model.\n",
    "\n",
    "### Requirements:\n",
    "- 'Kudzu' : A neural network library that was designed during our course by [Univ.AI](www.univ.ai). \n",
    "- MNIST Database\n",
    "\n",
    "If MNIST is not installed, use the command `!pip install mnist` given below.\n",
    "It can be run both from the command line and Jupyter Notebook."
   ]
  },
  {
   "cell_type": "code",
   "execution_count": 1,
   "metadata": {
    "execution": {
     "iopub.execute_input": "2020-10-20T20:05:25.669602Z",
     "iopub.status.busy": "2020-10-20T20:05:25.668758Z",
     "iopub.status.idle": "2020-10-20T20:05:27.243737Z",
     "shell.execute_reply": "2020-10-20T20:05:27.242957Z"
    },
    "papermill": {
     "duration": 1.607968,
     "end_time": "2020-10-20T20:05:27.243932",
     "exception": false,
     "start_time": "2020-10-20T20:05:25.635964",
     "status": "completed"
    },
    "tags": []
   },
   "outputs": [
    {
     "name": "stdout",
     "output_type": "stream",
     "text": [
      "Collecting mnist\r\n"
     ]
    },
    {
     "name": "stdout",
     "output_type": "stream",
     "text": [
      "  Downloading mnist-0.2.2-py2.py3-none-any.whl (3.5 kB)\r\n"
     ]
    },
    {
     "name": "stdout",
     "output_type": "stream",
     "text": [
      "Requirement already satisfied: numpy in /opt/hostedtoolcache/Python/3.6.12/x64/lib/python3.6/site-packages (from mnist) (1.19.2)\r\n"
     ]
    },
    {
     "name": "stdout",
     "output_type": "stream",
     "text": [
      "Installing collected packages: mnist\r\n"
     ]
    },
    {
     "name": "stdout",
     "output_type": "stream",
     "text": [
      "Successfully installed mnist-0.2.2\r\n"
     ]
    },
    {
     "name": "stdout",
     "output_type": "stream",
     "text": [
      "\u001b[33mWARNING: You are using pip version 20.2.3; however, version 20.2.4 is available.\r\n",
      "You should consider upgrading via the '/opt/hostedtoolcache/Python/3.6.12/x64/bin/python -m pip install --upgrade pip' command.\u001b[0m\r\n"
     ]
    }
   ],
   "source": [
    "!pip install mnist "
   ]
  },
  {
   "cell_type": "markdown",
   "metadata": {
    "papermill": {
     "duration": 0.031311,
     "end_time": "2020-10-20T20:05:27.307220",
     "exception": false,
     "start_time": "2020-10-20T20:05:27.275909",
     "status": "completed"
    },
    "tags": []
   },
   "source": [
    "#### Importing necessary libraries"
   ]
  },
  {
   "cell_type": "code",
   "execution_count": 2,
   "metadata": {
    "execution": {
     "iopub.execute_input": "2020-10-20T20:05:27.378654Z",
     "iopub.status.busy": "2020-10-20T20:05:27.377853Z",
     "iopub.status.idle": "2020-10-20T20:05:28.005643Z",
     "shell.execute_reply": "2020-10-20T20:05:28.005019Z"
    },
    "papermill": {
     "duration": 0.666679,
     "end_time": "2020-10-20T20:05:28.005804",
     "exception": false,
     "start_time": "2020-10-20T20:05:27.339125",
     "status": "completed"
    },
    "tags": []
   },
   "outputs": [],
   "source": [
    "%load_ext autoreload\n",
    "%autoreload 2\n",
    "\n",
    "%matplotlib inline\n",
    "import matplotlib.pyplot as plt\n",
    "\n",
    "import numpy as np\n",
    "import pandas as pd"
   ]
  },
  {
   "cell_type": "markdown",
   "metadata": {
    "papermill": {
     "duration": 0.031703,
     "end_time": "2020-10-20T20:05:28.069448",
     "exception": false,
     "start_time": "2020-10-20T20:05:28.037745",
     "status": "completed"
    },
    "tags": []
   },
   "source": [
    "### Preparing the Data"
   ]
  },
  {
   "cell_type": "code",
   "execution_count": 3,
   "metadata": {
    "execution": {
     "iopub.execute_input": "2020-10-20T20:05:28.140497Z",
     "iopub.status.busy": "2020-10-20T20:05:28.139743Z",
     "iopub.status.idle": "2020-10-20T20:05:28.157636Z",
     "shell.execute_reply": "2020-10-20T20:05:28.157030Z"
    },
    "papermill": {
     "duration": 0.056897,
     "end_time": "2020-10-20T20:05:28.157876",
     "exception": false,
     "start_time": "2020-10-20T20:05:28.100979",
     "status": "completed"
    },
    "tags": []
   },
   "outputs": [],
   "source": [
    "import mnist"
   ]
  },
  {
   "cell_type": "code",
   "execution_count": 4,
   "metadata": {
    "execution": {
     "iopub.execute_input": "2020-10-20T20:05:28.226351Z",
     "iopub.status.busy": "2020-10-20T20:05:28.225586Z",
     "iopub.status.idle": "2020-10-20T20:05:29.084391Z",
     "shell.execute_reply": "2020-10-20T20:05:29.083765Z"
    },
    "papermill": {
     "duration": 0.894263,
     "end_time": "2020-10-20T20:05:29.084550",
     "exception": false,
     "start_time": "2020-10-20T20:05:28.190287",
     "status": "completed"
    },
    "tags": []
   },
   "outputs": [],
   "source": [
    "train_images = mnist.train_images()\n",
    "train_labels = mnist.train_labels()"
   ]
  },
  {
   "cell_type": "code",
   "execution_count": 5,
   "metadata": {
    "execution": {
     "iopub.execute_input": "2020-10-20T20:05:29.153405Z",
     "iopub.status.busy": "2020-10-20T20:05:29.152721Z",
     "iopub.status.idle": "2020-10-20T20:05:29.175969Z",
     "shell.execute_reply": "2020-10-20T20:05:29.176796Z"
    },
    "papermill": {
     "duration": 0.061028,
     "end_time": "2020-10-20T20:05:29.177096",
     "exception": false,
     "start_time": "2020-10-20T20:05:29.116068",
     "status": "completed"
    },
    "tags": []
   },
   "outputs": [
    {
     "data": {
      "text/plain": [
       "((60000, 28, 28), (60000,))"
      ]
     },
     "execution_count": 5,
     "metadata": {},
     "output_type": "execute_result"
    }
   ],
   "source": [
    "train_images.shape, train_labels.shape"
   ]
  },
  {
   "cell_type": "code",
   "execution_count": 6,
   "metadata": {
    "execution": {
     "iopub.execute_input": "2020-10-20T20:05:29.255950Z",
     "iopub.status.busy": "2020-10-20T20:05:29.255259Z",
     "iopub.status.idle": "2020-10-20T20:05:29.708462Z",
     "shell.execute_reply": "2020-10-20T20:05:29.707865Z"
    },
    "papermill": {
     "duration": 0.491898,
     "end_time": "2020-10-20T20:05:29.708618",
     "exception": false,
     "start_time": "2020-10-20T20:05:29.216720",
     "status": "completed"
    },
    "tags": []
   },
   "outputs": [],
   "source": [
    "test_images = mnist.test_images()\n",
    "test_labels = mnist.test_labels()"
   ]
  },
  {
   "cell_type": "code",
   "execution_count": 7,
   "metadata": {
    "execution": {
     "iopub.execute_input": "2020-10-20T20:05:29.776704Z",
     "iopub.status.busy": "2020-10-20T20:05:29.775976Z",
     "iopub.status.idle": "2020-10-20T20:05:29.791830Z",
     "shell.execute_reply": "2020-10-20T20:05:29.792476Z"
    },
    "papermill": {
     "duration": 0.051501,
     "end_time": "2020-10-20T20:05:29.792635",
     "exception": false,
     "start_time": "2020-10-20T20:05:29.741134",
     "status": "completed"
    },
    "tags": []
   },
   "outputs": [
    {
     "data": {
      "text/plain": [
       "((10000, 28, 28), (10000,))"
      ]
     },
     "execution_count": 7,
     "metadata": {},
     "output_type": "execute_result"
    }
   ],
   "source": [
    "test_images.shape, test_labels.shape"
   ]
  },
  {
   "cell_type": "code",
   "execution_count": 8,
   "metadata": {
    "execution": {
     "iopub.execute_input": "2020-10-20T20:05:29.861729Z",
     "iopub.status.busy": "2020-10-20T20:05:29.861018Z",
     "iopub.status.idle": "2020-10-20T20:05:30.038368Z",
     "shell.execute_reply": "2020-10-20T20:05:30.038972Z"
    },
    "papermill": {
     "duration": 0.214606,
     "end_time": "2020-10-20T20:05:30.039151",
     "exception": false,
     "start_time": "2020-10-20T20:05:29.824545",
     "status": "completed"
    },
    "tags": []
   },
   "outputs": [
    {
     "name": "stdout",
     "output_type": "stream",
     "text": [
      "2\n"
     ]
    },
    {
     "data": {
      "text/plain": [
       "<matplotlib.image.AxesImage at 0x7f1ca6791940>"
      ]
     },
     "execution_count": 8,
     "metadata": {},
     "output_type": "execute_result"
    },
    {
     "data": {
      "image/png": "[encoded data removed]",
      "text/plain": [
       "<Figure size 432x288 with 1 Axes>"
      ]
     },
     "metadata": {
      "needs_background": "light"
     },
     "output_type": "display_data"
    }
   ],
   "source": [
    "image_index = 7776 # You may select anything up to 60,000\n",
    "print(train_labels[image_index]) \n",
    "plt.imshow(train_images[image_index], cmap='Greys')"
   ]
  },
  {
   "cell_type": "markdown",
   "metadata": {
    "papermill": {
     "duration": 0.034478,
     "end_time": "2020-10-20T20:05:30.106872",
     "exception": false,
     "start_time": "2020-10-20T20:05:30.072394",
     "status": "completed"
    },
    "tags": []
   },
   "source": [
    "## Filter data to get 3 and 8 out"
   ]
  },
  {
   "cell_type": "code",
   "execution_count": 9,
   "metadata": {
    "execution": {
     "iopub.execute_input": "2020-10-20T20:05:30.180595Z",
     "iopub.status.busy": "2020-10-20T20:05:30.179918Z",
     "iopub.status.idle": "2020-10-20T20:05:30.202289Z",
     "shell.execute_reply": "2020-10-20T20:05:30.201361Z"
    },
    "papermill": {
     "duration": 0.061096,
     "end_time": "2020-10-20T20:05:30.202520",
     "exception": false,
     "start_time": "2020-10-20T20:05:30.141424",
     "status": "completed"
    },
    "tags": []
   },
   "outputs": [],
   "source": [
    "train_filter = np.where((train_labels == 3 ) | (train_labels == 8))\n",
    "test_filter = np.where((test_labels == 3) | (test_labels == 8))\n",
    "X_train, y_train = train_images[train_filter], train_labels[train_filter]\n",
    "X_test, y_test = test_images[test_filter], test_labels[test_filter]"
   ]
  },
  {
   "cell_type": "markdown",
   "metadata": {
    "papermill": {
     "duration": 0.033869,
     "end_time": "2020-10-20T20:05:30.278028",
     "exception": false,
     "start_time": "2020-10-20T20:05:30.244159",
     "status": "completed"
    },
    "tags": []
   },
   "source": [
    "We normalize the pixel values in the 0 to 1 range"
   ]
  },
  {
   "cell_type": "code",
   "execution_count": 10,
   "metadata": {
    "execution": {
     "iopub.execute_input": "2020-10-20T20:05:30.352961Z",
     "iopub.status.busy": "2020-10-20T20:05:30.352227Z",
     "iopub.status.idle": "2020-10-20T20:05:30.415525Z",
     "shell.execute_reply": "2020-10-20T20:05:30.414930Z"
    },
    "papermill": {
     "duration": 0.103737,
     "end_time": "2020-10-20T20:05:30.415688",
     "exception": false,
     "start_time": "2020-10-20T20:05:30.311951",
     "status": "completed"
    },
    "tags": []
   },
   "outputs": [],
   "source": [
    "X_train = X_train/255.\n",
    "X_test = X_test/255."
   ]
  },
  {
   "cell_type": "markdown",
   "metadata": {
    "papermill": {
     "duration": 0.035027,
     "end_time": "2020-10-20T20:05:30.484314",
     "exception": false,
     "start_time": "2020-10-20T20:05:30.449287",
     "status": "completed"
    },
    "tags": []
   },
   "source": [
    "Setup the labels as 1 (when the digit is 3) and 0 (when the digit is 8)"
   ]
  },
  {
   "cell_type": "code",
   "execution_count": 11,
   "metadata": {
    "execution": {
     "iopub.execute_input": "2020-10-20T20:05:30.562046Z",
     "iopub.status.busy": "2020-10-20T20:05:30.561360Z",
     "iopub.status.idle": "2020-10-20T20:05:30.574724Z",
     "shell.execute_reply": "2020-10-20T20:05:30.574108Z"
    },
    "papermill": {
     "duration": 0.05575,
     "end_time": "2020-10-20T20:05:30.574868",
     "exception": false,
     "start_time": "2020-10-20T20:05:30.519118",
     "status": "completed"
    },
    "tags": []
   },
   "outputs": [],
   "source": [
    "y_train = 1*(y_train==3)\n",
    "y_test = 1*(y_test==3)"
   ]
  },
  {
   "cell_type": "code",
   "execution_count": 12,
   "metadata": {
    "execution": {
     "iopub.execute_input": "2020-10-20T20:05:30.648357Z",
     "iopub.status.busy": "2020-10-20T20:05:30.647498Z",
     "iopub.status.idle": "2020-10-20T20:05:30.662840Z",
     "shell.execute_reply": "2020-10-20T20:05:30.662233Z"
    },
    "papermill": {
     "duration": 0.054339,
     "end_time": "2020-10-20T20:05:30.663015",
     "exception": false,
     "start_time": "2020-10-20T20:05:30.608676",
     "status": "completed"
    },
    "tags": []
   },
   "outputs": [
    {
     "data": {
      "text/plain": [
       "((11982, 28, 28), (1984, 28, 28))"
      ]
     },
     "execution_count": 12,
     "metadata": {},
     "output_type": "execute_result"
    }
   ],
   "source": [
    "X_train.shape, X_test.shape"
   ]
  },
  {
   "cell_type": "markdown",
   "metadata": {
    "papermill": {
     "duration": 0.033706,
     "end_time": "2020-10-20T20:05:30.731061",
     "exception": false,
     "start_time": "2020-10-20T20:05:30.697355",
     "status": "completed"
    },
    "tags": []
   },
   "source": [
    "### Reshape the input data to create a linear array"
   ]
  },
  {
   "cell_type": "code",
   "execution_count": 13,
   "metadata": {
    "execution": {
     "iopub.execute_input": "2020-10-20T20:05:30.807229Z",
     "iopub.status.busy": "2020-10-20T20:05:30.806507Z",
     "iopub.status.idle": "2020-10-20T20:05:30.833107Z",
     "shell.execute_reply": "2020-10-20T20:05:30.833778Z"
    },
    "papermill": {
     "duration": 0.067301,
     "end_time": "2020-10-20T20:05:30.833941",
     "exception": false,
     "start_time": "2020-10-20T20:05:30.766640",
     "status": "completed"
    },
    "tags": []
   },
   "outputs": [
    {
     "data": {
      "text/plain": [
       "((11982, 784), (1984, 784))"
      ]
     },
     "execution_count": 13,
     "metadata": {},
     "output_type": "execute_result"
    }
   ],
   "source": [
    "X_train = X_train.reshape(X_train.shape[0], -1)\n",
    "X_test = X_test.reshape(X_test.shape[0], -1)\n",
    "X_train.shape, X_test.shape"
   ]
  },
  {
   "cell_type": "markdown",
   "metadata": {
    "papermill": {
     "duration": 0.033274,
     "end_time": "2020-10-20T20:05:30.900941",
     "exception": false,
     "start_time": "2020-10-20T20:05:30.867667",
     "status": "completed"
    },
    "tags": []
   },
   "source": [
    "### Importing appropriate functions from 'Kudzu'"
   ]
  },
  {
   "cell_type": "code",
   "execution_count": 14,
   "metadata": {
    "execution": {
     "iopub.execute_input": "2020-10-20T20:05:30.976625Z",
     "iopub.status.busy": "2020-10-20T20:05:30.975934Z",
     "iopub.status.idle": "2020-10-20T20:05:30.997334Z",
     "shell.execute_reply": "2020-10-20T20:05:30.996599Z"
    },
    "papermill": {
     "duration": 0.062623,
     "end_time": "2020-10-20T20:05:30.997482",
     "exception": false,
     "start_time": "2020-10-20T20:05:30.934859",
     "status": "completed"
    },
    "tags": []
   },
   "outputs": [],
   "source": [
    "from kudzu.layer import Sigmoid\n",
    "from kudzu.layer import Relu\n",
    "from kudzu.layer import Affine, Sigmoid\n",
    "\n",
    "from kudzu.model import Model\n",
    "from kudzu.train import Learner\n",
    "from kudzu.optim import GD\n",
    "from kudzu.data import Data, Dataloader, Sampler\n",
    "\n",
    "from kudzu.callbacks import AccCallback\n",
    "from kudzu.callbacks import ClfCallback\n",
    "\n",
    "from kudzu.loss import MSE"
   ]
  },
  {
   "cell_type": "markdown",
   "metadata": {
    "papermill": {
     "duration": 0.033719,
     "end_time": "2020-10-20T20:05:31.067594",
     "exception": false,
     "start_time": "2020-10-20T20:05:31.033875",
     "status": "completed"
    },
    "tags": []
   },
   "source": [
    "### Let us create a `Config` class, to store important parameters. \n",
    "This class essentially plays the role of a dictionary."
   ]
  },
  {
   "cell_type": "code",
   "execution_count": 15,
   "metadata": {
    "execution": {
     "iopub.execute_input": "2020-10-20T20:05:31.140702Z",
     "iopub.status.busy": "2020-10-20T20:05:31.140019Z",
     "iopub.status.idle": "2020-10-20T20:05:31.163644Z",
     "shell.execute_reply": "2020-10-20T20:05:31.164236Z"
    },
    "papermill": {
     "duration": 0.062528,
     "end_time": "2020-10-20T20:05:31.164414",
     "exception": false,
     "start_time": "2020-10-20T20:05:31.101886",
     "status": "completed"
    },
    "tags": []
   },
   "outputs": [],
   "source": [
    "class Config:\n",
    "    pass\n",
    "config = Config()\n",
    "config.lr = 0.001\n",
    "config.num_epochs = 251\n",
    "config.bs = 50"
   ]
  },
  {
   "cell_type": "markdown",
   "metadata": {
    "papermill": {
     "duration": 0.033465,
     "end_time": "2020-10-20T20:05:31.231890",
     "exception": false,
     "start_time": "2020-10-20T20:05:31.198425",
     "status": "completed"
    },
    "tags": []
   },
   "source": [
    "### Initializing data to the variables"
   ]
  },
  {
   "cell_type": "code",
   "execution_count": 16,
   "metadata": {
    "execution": {
     "iopub.execute_input": "2020-10-20T20:05:31.303583Z",
     "iopub.status.busy": "2020-10-20T20:05:31.302902Z",
     "iopub.status.idle": "2020-10-20T20:05:31.316013Z",
     "shell.execute_reply": "2020-10-20T20:05:31.316605Z"
    },
    "papermill": {
     "duration": 0.051066,
     "end_time": "2020-10-20T20:05:31.316773",
     "exception": false,
     "start_time": "2020-10-20T20:05:31.265707",
     "status": "completed"
    },
    "tags": []
   },
   "outputs": [],
   "source": [
    "data = Data(X_train, y_train.reshape(-1,1))\n",
    "sampler = Sampler(data, config.bs, shuffle=True)\n",
    "\n",
    "dl = Dataloader(data, sampler)\n",
    "\n",
    "opt = GD(config.lr)\n",
    "loss = MSE()"
   ]
  },
  {
   "cell_type": "code",
   "execution_count": 17,
   "metadata": {
    "execution": {
     "iopub.execute_input": "2020-10-20T20:05:31.388847Z",
     "iopub.status.busy": "2020-10-20T20:05:31.388160Z",
     "iopub.status.idle": "2020-10-20T20:05:31.399961Z",
     "shell.execute_reply": "2020-10-20T20:05:31.400515Z"
    },
    "papermill": {
     "duration": 0.050867,
     "end_time": "2020-10-20T20:05:31.400683",
     "exception": false,
     "start_time": "2020-10-20T20:05:31.349816",
     "status": "completed"
    },
    "tags": []
   },
   "outputs": [],
   "source": [
    "training_xdata = X_train\n",
    "testing_xdata = X_test\n",
    "training_ydata = y_train.reshape(-1,1)\n",
    "testing_ydata = y_test.reshape(-1,1)"
   ]
  },
  {
   "cell_type": "markdown",
   "metadata": {
    "papermill": {
     "duration": 0.032839,
     "end_time": "2020-10-20T20:05:31.466610",
     "exception": false,
     "start_time": "2020-10-20T20:05:31.433771",
     "status": "completed"
    },
    "tags": []
   },
   "source": [
    "### Running Models with the Training data\n",
    "Details about the network layers:\n",
    "- A first affine layer has 784 inputs and does 100 affine transforms. These are followed by a Relu\n",
    "- A second affine layer has 100 inputs from the 100 activations of the past layer, and does 100 affine transforms. These are followed by a Relu\n",
    "- A third affine layer has 100 activations and does 2 affine transformations to create an embedding for visualization. There is no non-linearity here.\n",
    "- A final \"logistic regression\" which has an affine transform from 2 inputs to 1 output, which is squeezed through a sigmoid.\n",
    "\n",
    "Help taken from Anshuman's Notebook."
   ]
  },
  {
   "cell_type": "code",
   "execution_count": 18,
   "metadata": {
    "execution": {
     "iopub.execute_input": "2020-10-20T20:05:31.537194Z",
     "iopub.status.busy": "2020-10-20T20:05:31.536499Z",
     "iopub.status.idle": "2020-10-20T20:05:31.554564Z",
     "shell.execute_reply": "2020-10-20T20:05:31.555135Z"
    },
    "papermill": {
     "duration": 0.056318,
     "end_time": "2020-10-20T20:05:31.555311",
     "exception": false,
     "start_time": "2020-10-20T20:05:31.498993",
     "status": "completed"
    },
    "tags": []
   },
   "outputs": [],
   "source": [
    "# layers for the Neural Network\n",
    "layers = [Affine(\"first\", 784, 100), Relu(\"first\"), Affine(\"second\", 100, 100), Relu(\"second\"), Affine(\"third\", 100, 2), Affine(\"final\", 2, 1), Sigmoid(\"final\")]\n",
    "model_nn = Model(layers)\n",
    "\n",
    "# layers for the Logistic Regression\n",
    "layers_lr = [Affine(\"logits\", 784, 1), Sigmoid(\"sigmoid\")]\n",
    "model_lr = Model(layers_lr)"
   ]
  },
  {
   "cell_type": "code",
   "execution_count": 19,
   "metadata": {
    "execution": {
     "iopub.execute_input": "2020-10-20T20:05:31.626568Z",
     "iopub.status.busy": "2020-10-20T20:05:31.625861Z",
     "iopub.status.idle": "2020-10-20T20:05:31.640055Z",
     "shell.execute_reply": "2020-10-20T20:05:31.640598Z"
    },
    "papermill": {
     "duration": 0.052385,
     "end_time": "2020-10-20T20:05:31.640761",
     "exception": false,
     "start_time": "2020-10-20T20:05:31.588376",
     "status": "completed"
    },
    "tags": []
   },
   "outputs": [],
   "source": [
    "# suffix _nn stands for Neural Network.\n",
    "learner_nn = Learner(loss, model_nn, opt, config.num_epochs)\n",
    "acc_nn = ClfCallback(learner_nn, config.bs, training_xdata , testing_xdata, training_ydata, testing_ydata)\n",
    "learner_nn.set_callbacks([acc_nn])"
   ]
  },
  {
   "cell_type": "code",
   "execution_count": 20,
   "metadata": {
    "execution": {
     "iopub.execute_input": "2020-10-20T20:05:31.730581Z",
     "iopub.status.busy": "2020-10-20T20:05:31.717927Z",
     "iopub.status.idle": "2020-10-20T20:07:48.255715Z",
     "shell.execute_reply": "2020-10-20T20:07:48.256594Z"
    },
    "papermill": {
     "duration": 136.58292,
     "end_time": "2020-10-20T20:07:48.256774",
     "exception": false,
     "start_time": "2020-10-20T20:05:31.673854",
     "status": "completed"
    },
    "tags": []
   },
   "outputs": [
    {
     "name": "stdout",
     "output_type": "stream",
     "text": [
      "====== Neural Network ======\n"
     ]
    },
    {
     "name": "stdout",
     "output_type": "stream",
     "text": [
      "Epoch 0, Loss 0.2536\n",
      "Training Accuracy: 0.5143, Testing Accuracy: 0.5232\n",
      "\n"
     ]
    },
    {
     "name": "stdout",
     "output_type": "stream",
     "text": [
      "Epoch 10, Loss 0.1617\n",
      "Training Accuracy: 0.8873, Testing Accuracy: 0.9022\n",
      "\n"
     ]
    },
    {
     "name": "stdout",
     "output_type": "stream",
     "text": [
      "Epoch 20, Loss 0.0798\n",
      "Training Accuracy: 0.9232, Testing Accuracy: 0.9345\n",
      "\n"
     ]
    },
    {
     "name": "stdout",
     "output_type": "stream",
     "text": [
      "Epoch 30, Loss 0.0552\n",
      "Training Accuracy: 0.9407, Testing Accuracy: 0.9516\n",
      "\n"
     ]
    },
    {
     "name": "stdout",
     "output_type": "stream",
     "text": [
      "Epoch 40, Loss 0.045\n",
      "Training Accuracy: 0.9497, Testing Accuracy: 0.9602\n",
      "\n"
     ]
    },
    {
     "name": "stdout",
     "output_type": "stream",
     "text": [
      "Epoch 50, Loss 0.0395\n",
      "Training Accuracy: 0.9550, Testing Accuracy: 0.9637\n",
      "\n"
     ]
    },
    {
     "name": "stdout",
     "output_type": "stream",
     "text": [
      "Epoch 60, Loss 0.0359\n",
      "Training Accuracy: 0.9587, Testing Accuracy: 0.9652\n",
      "\n"
     ]
    },
    {
     "name": "stdout",
     "output_type": "stream",
     "text": [
      "Epoch 70, Loss 0.0334\n",
      "Training Accuracy: 0.9602, Testing Accuracy: 0.9662\n",
      "\n"
     ]
    },
    {
     "name": "stdout",
     "output_type": "stream",
     "text": [
      "Epoch 80, Loss 0.0314\n",
      "Training Accuracy: 0.9619, Testing Accuracy: 0.9682\n",
      "\n"
     ]
    },
    {
     "name": "stdout",
     "output_type": "stream",
     "text": [
      "Epoch 90, Loss 0.0299\n",
      "Training Accuracy: 0.9629, Testing Accuracy: 0.9682\n",
      "\n"
     ]
    },
    {
     "name": "stdout",
     "output_type": "stream",
     "text": [
      "Epoch 100, Loss 0.0285\n",
      "Training Accuracy: 0.9656, Testing Accuracy: 0.9682\n",
      "\n"
     ]
    },
    {
     "name": "stdout",
     "output_type": "stream",
     "text": [
      "Epoch 110, Loss 0.0274\n",
      "Training Accuracy: 0.9671, Testing Accuracy: 0.9703\n",
      "\n"
     ]
    },
    {
     "name": "stdout",
     "output_type": "stream",
     "text": [
      "Epoch 120, Loss 0.0265\n",
      "Training Accuracy: 0.9680, Testing Accuracy: 0.9698\n",
      "\n"
     ]
    },
    {
     "name": "stdout",
     "output_type": "stream",
     "text": [
      "Epoch 130, Loss 0.0256\n",
      "Training Accuracy: 0.9692, Testing Accuracy: 0.9688\n",
      "\n"
     ]
    },
    {
     "name": "stdout",
     "output_type": "stream",
     "text": [
      "Epoch 140, Loss 0.0248\n",
      "Training Accuracy: 0.9703, Testing Accuracy: 0.9688\n",
      "\n"
     ]
    },
    {
     "name": "stdout",
     "output_type": "stream",
     "text": [
      "Epoch 150, Loss 0.0242\n",
      "Training Accuracy: 0.9708, Testing Accuracy: 0.9703\n",
      "\n"
     ]
    },
    {
     "name": "stdout",
     "output_type": "stream",
     "text": [
      "Epoch 160, Loss 0.0235\n",
      "Training Accuracy: 0.9720, Testing Accuracy: 0.9708\n",
      "\n"
     ]
    },
    {
     "name": "stdout",
     "output_type": "stream",
     "text": [
      "Epoch 170, Loss 0.023\n",
      "Training Accuracy: 0.9730, Testing Accuracy: 0.9703\n",
      "\n"
     ]
    },
    {
     "name": "stdout",
     "output_type": "stream",
     "text": [
      "Epoch 180, Loss 0.0224\n",
      "Training Accuracy: 0.9738, Testing Accuracy: 0.9703\n",
      "\n"
     ]
    },
    {
     "name": "stdout",
     "output_type": "stream",
     "text": [
      "Epoch 190, Loss 0.0219\n",
      "Training Accuracy: 0.9745, Testing Accuracy: 0.9708\n",
      "\n"
     ]
    },
    {
     "name": "stdout",
     "output_type": "stream",
     "text": [
      "Epoch 200, Loss 0.0214\n",
      "Training Accuracy: 0.9752, Testing Accuracy: 0.9718\n",
      "\n"
     ]
    },
    {
     "name": "stdout",
     "output_type": "stream",
     "text": [
      "Epoch 210, Loss 0.021\n",
      "Training Accuracy: 0.9758, Testing Accuracy: 0.9723\n",
      "\n"
     ]
    },
    {
     "name": "stdout",
     "output_type": "stream",
     "text": [
      "Epoch 220, Loss 0.0206\n",
      "Training Accuracy: 0.9760, Testing Accuracy: 0.9728\n",
      "\n"
     ]
    },
    {
     "name": "stdout",
     "output_type": "stream",
     "text": [
      "Epoch 230, Loss 0.0201\n",
      "Training Accuracy: 0.9766, Testing Accuracy: 0.9738\n",
      "\n"
     ]
    },
    {
     "name": "stdout",
     "output_type": "stream",
     "text": [
      "Epoch 240, Loss 0.0198\n",
      "Training Accuracy: 0.9773, Testing Accuracy: 0.9738\n",
      "\n"
     ]
    },
    {
     "name": "stdout",
     "output_type": "stream",
     "text": [
      "Epoch 250, Loss 0.0194\n",
      "Training Accuracy: 0.9775, Testing Accuracy: 0.9743\n",
      "\n"
     ]
    },
    {
     "data": {
      "text/plain": [
       "0.0062006123492002775"
      ]
     },
     "execution_count": 20,
     "metadata": {},
     "output_type": "execute_result"
    }
   ],
   "source": [
    "print(\"====== Neural Network ======\")\n",
    "learner_nn.train_loop(dl)"
   ]
  },
  {
   "cell_type": "markdown",
   "metadata": {
    "papermill": {
     "duration": 0.04348,
     "end_time": "2020-10-20T20:07:48.343850",
     "exception": false,
     "start_time": "2020-10-20T20:07:48.300370",
     "status": "completed"
    },
    "tags": []
   },
   "source": [
    "### Logistic Regression based Implementation."
   ]
  },
  {
   "cell_type": "code",
   "execution_count": 21,
   "metadata": {
    "execution": {
     "iopub.execute_input": "2020-10-20T20:07:48.435271Z",
     "iopub.status.busy": "2020-10-20T20:07:48.434584Z",
     "iopub.status.idle": "2020-10-20T20:07:48.449765Z",
     "shell.execute_reply": "2020-10-20T20:07:48.450294Z"
    },
    "papermill": {
     "duration": 0.064487,
     "end_time": "2020-10-20T20:07:48.450469",
     "exception": false,
     "start_time": "2020-10-20T20:07:48.385982",
     "status": "completed"
    },
    "tags": []
   },
   "outputs": [],
   "source": [
    "learner_lr = Learner(loss, model_lr, opt, config.num_epochs)\n",
    "acc_lr = ClfCallback(learner_lr, config.bs, training_xdata , testing_xdata, training_ydata, testing_ydata)\n",
    "learner_lr.set_callbacks([acc_lr])"
   ]
  },
  {
   "cell_type": "code",
   "execution_count": 22,
   "metadata": {
    "execution": {
     "iopub.execute_input": "2020-10-20T20:07:48.540944Z",
     "iopub.status.busy": "2020-10-20T20:07:48.540275Z",
     "iopub.status.idle": "2020-10-20T20:08:09.294884Z",
     "shell.execute_reply": "2020-10-20T20:08:09.295713Z"
    },
    "papermill": {
     "duration": 20.803131,
     "end_time": "2020-10-20T20:08:09.295924",
     "exception": false,
     "start_time": "2020-10-20T20:07:48.492793",
     "status": "completed"
    },
    "tags": []
   },
   "outputs": [
    {
     "name": "stdout",
     "output_type": "stream",
     "text": [
      "====== Logistic Regression ======\n",
      "Epoch 0, Loss 0.2491\n",
      "Training Accuracy: 0.6602, Testing Accuracy: 0.6759\n",
      "\n"
     ]
    },
    {
     "name": "stdout",
     "output_type": "stream",
     "text": [
      "Epoch 10, Loss 0.1057\n",
      "Training Accuracy: 0.9023, Testing Accuracy: 0.9178\n",
      "\n"
     ]
    },
    {
     "name": "stdout",
     "output_type": "stream",
     "text": [
      "Epoch 20, Loss 0.081\n",
      "Training Accuracy: 0.9240, Testing Accuracy: 0.9380\n",
      "\n"
     ]
    },
    {
     "name": "stdout",
     "output_type": "stream",
     "text": [
      "Epoch 30, Loss 0.0696\n",
      "Training Accuracy: 0.9322, Testing Accuracy: 0.9466\n",
      "\n"
     ]
    },
    {
     "name": "stdout",
     "output_type": "stream",
     "text": [
      "Epoch 40, Loss 0.0627\n",
      "Training Accuracy: 0.9382, Testing Accuracy: 0.9501\n",
      "\n"
     ]
    },
    {
     "name": "stdout",
     "output_type": "stream",
     "text": [
      "Epoch 50, Loss 0.058\n",
      "Training Accuracy: 0.9421, Testing Accuracy: 0.9531\n",
      "\n"
     ]
    },
    {
     "name": "stdout",
     "output_type": "stream",
     "text": [
      "Epoch 60, Loss 0.0546\n",
      "Training Accuracy: 0.9454, Testing Accuracy: 0.9546\n",
      "\n"
     ]
    },
    {
     "name": "stdout",
     "output_type": "stream",
     "text": [
      "Epoch 70, Loss 0.0519\n",
      "Training Accuracy: 0.9484, Testing Accuracy: 0.9556\n",
      "\n"
     ]
    },
    {
     "name": "stdout",
     "output_type": "stream",
     "text": [
      "Epoch 80, Loss 0.0498\n",
      "Training Accuracy: 0.9504, Testing Accuracy: 0.9582\n",
      "\n"
     ]
    },
    {
     "name": "stdout",
     "output_type": "stream",
     "text": [
      "Epoch 90, Loss 0.048\n",
      "Training Accuracy: 0.9527, Testing Accuracy: 0.9587\n",
      "\n"
     ]
    },
    {
     "name": "stdout",
     "output_type": "stream",
     "text": [
      "Epoch 100, Loss 0.0466\n",
      "Training Accuracy: 0.9542, Testing Accuracy: 0.9587\n",
      "\n"
     ]
    },
    {
     "name": "stdout",
     "output_type": "stream",
     "text": [
      "Epoch 110, Loss 0.0453\n",
      "Training Accuracy: 0.9549, Testing Accuracy: 0.9607\n",
      "\n"
     ]
    },
    {
     "name": "stdout",
     "output_type": "stream",
     "text": [
      "Epoch 120, Loss 0.0442\n",
      "Training Accuracy: 0.9556, Testing Accuracy: 0.9617\n",
      "\n"
     ]
    },
    {
     "name": "stdout",
     "output_type": "stream",
     "text": [
      "Epoch 130, Loss 0.0432\n",
      "Training Accuracy: 0.9564, Testing Accuracy: 0.9632\n",
      "\n"
     ]
    },
    {
     "name": "stdout",
     "output_type": "stream",
     "text": [
      "Epoch 140, Loss 0.0424\n",
      "Training Accuracy: 0.9570, Testing Accuracy: 0.9632\n",
      "\n"
     ]
    },
    {
     "name": "stdout",
     "output_type": "stream",
     "text": [
      "Epoch 150, Loss 0.0416\n",
      "Training Accuracy: 0.9573, Testing Accuracy: 0.9632\n",
      "\n"
     ]
    },
    {
     "name": "stdout",
     "output_type": "stream",
     "text": [
      "Epoch 160, Loss 0.0409\n",
      "Training Accuracy: 0.9578, Testing Accuracy: 0.9632\n",
      "\n"
     ]
    },
    {
     "name": "stdout",
     "output_type": "stream",
     "text": [
      "Epoch 170, Loss 0.0403\n",
      "Training Accuracy: 0.9581, Testing Accuracy: 0.9647\n",
      "\n"
     ]
    },
    {
     "name": "stdout",
     "output_type": "stream",
     "text": [
      "Epoch 180, Loss 0.0397\n",
      "Training Accuracy: 0.9586, Testing Accuracy: 0.9647\n",
      "\n"
     ]
    },
    {
     "name": "stdout",
     "output_type": "stream",
     "text": [
      "Epoch 190, Loss 0.0392\n",
      "Training Accuracy: 0.9591, Testing Accuracy: 0.9647\n",
      "\n"
     ]
    },
    {
     "name": "stdout",
     "output_type": "stream",
     "text": [
      "Epoch 200, Loss 0.0387\n",
      "Training Accuracy: 0.9593, Testing Accuracy: 0.9652\n",
      "\n"
     ]
    },
    {
     "name": "stdout",
     "output_type": "stream",
     "text": [
      "Epoch 210, Loss 0.0382\n",
      "Training Accuracy: 0.9597, Testing Accuracy: 0.9657\n",
      "\n"
     ]
    },
    {
     "name": "stdout",
     "output_type": "stream",
     "text": [
      "Epoch 220, Loss 0.0378\n",
      "Training Accuracy: 0.9602, Testing Accuracy: 0.9657\n",
      "\n"
     ]
    },
    {
     "name": "stdout",
     "output_type": "stream",
     "text": [
      "Epoch 230, Loss 0.0374\n",
      "Training Accuracy: 0.9607, Testing Accuracy: 0.9657\n",
      "\n"
     ]
    },
    {
     "name": "stdout",
     "output_type": "stream",
     "text": [
      "Epoch 240, Loss 0.037\n",
      "Training Accuracy: 0.9610, Testing Accuracy: 0.9657\n",
      "\n"
     ]
    },
    {
     "name": "stdout",
     "output_type": "stream",
     "text": [
      "Epoch 250, Loss 0.0367\n",
      "Training Accuracy: 0.9608, Testing Accuracy: 0.9662\n",
      "\n"
     ]
    },
    {
     "data": {
      "text/plain": [
       "0.020136546083472297"
      ]
     },
     "execution_count": 22,
     "metadata": {},
     "output_type": "execute_result"
    }
   ],
   "source": [
    "print(\"====== Logistic Regression ======\")\n",
    "learner_lr.train_loop(dl)"
   ]
  },
  {
   "cell_type": "markdown",
   "metadata": {
    "papermill": {
     "duration": 0.053076,
     "end_time": "2020-10-20T20:08:09.401442",
     "exception": false,
     "start_time": "2020-10-20T20:08:09.348366",
     "status": "completed"
    },
    "tags": []
   },
   "source": [
    "### Comparing results of NN and LR"
   ]
  },
  {
   "cell_type": "code",
   "execution_count": 23,
   "metadata": {
    "execution": {
     "iopub.execute_input": "2020-10-20T20:08:09.514106Z",
     "iopub.status.busy": "2020-10-20T20:08:09.513402Z",
     "iopub.status.idle": "2020-10-20T20:08:09.797768Z",
     "shell.execute_reply": "2020-10-20T20:08:09.798305Z"
    },
    "papermill": {
     "duration": 0.342762,
     "end_time": "2020-10-20T20:08:09.798555",
     "exception": false,
     "start_time": "2020-10-20T20:08:09.455793",
     "status": "completed"
    },
    "tags": []
   },
   "outputs": [
    {
     "data": {
      "text/plain": [
       "<matplotlib.legend.Legend at 0x7f1ca42f42b0>"
      ]
     },
     "execution_count": 23,
     "metadata": {},
     "output_type": "execute_result"
    },
    {
     "data": {
      "image/png": "[encoded data removed]",
      "text/plain": [
       "<Figure size 1080x720 with 1 Axes>"
      ]
     },
     "metadata": {
      "needs_background": "light"
     },
     "output_type": "display_data"
    }
   ],
   "source": [
    "plt.figure(figsize=(15,10))\n",
    "\n",
    "# Neural Network plots\n",
    "plt.plot(acc_nn.accuracies, 'r-', label = \"Training Accuracies - NN\")\n",
    "plt.plot(acc_nn.test_accuracies, 'g-', label = \"Testing Accuracies - NN\")\n",
    "\n",
    "# Logistic Regression plots\n",
    "plt.plot(acc_lr.accuracies, 'k-', label = \"Training Accuracies - LR\")\n",
    "plt.plot(acc_lr.test_accuracies, 'b-', label = \"Testing Accuracies - LR\")\n",
    "\n",
    "plt.ylim(0.8, 1)\n",
    "\n",
    "plt.legend()\n",
    "\n"
   ]
  },
  {
   "cell_type": "markdown",
   "metadata": {
    "papermill": {
     "duration": 0.054202,
     "end_time": "2020-10-20T20:08:09.910213",
     "exception": false,
     "start_time": "2020-10-20T20:08:09.856011",
     "status": "completed"
    },
    "tags": []
   },
   "source": [
    "### From the plot, we can observe the following:\n",
    "- Neural Network achieves higher accuracy than the Logistic Regression model.\n",
    "- This apparently, is because of overfitting, i.e. NN captures more noise than data.\n",
    "- Testing accuracy of NN drops below the Training accuracy at higher epochs. This explains the over-fitting on training data.\n",
    "- Logistic Regression gives a reliable accuracy, without the above mentioned problem.\n"
   ]
  },
  {
   "cell_type": "markdown",
   "metadata": {
    "papermill": {
     "duration": 0.054915,
     "end_time": "2020-10-20T20:08:10.018227",
     "exception": false,
     "start_time": "2020-10-20T20:08:09.963312",
     "status": "completed"
    },
    "tags": []
   },
   "source": [
    "### Moving till the last but one layer (excluding it).\n",
    "#### Plotting the outputs of this layer of the NN."
   ]
  },
  {
   "cell_type": "code",
   "execution_count": 24,
   "metadata": {
    "execution": {
     "iopub.execute_input": "2020-10-20T20:08:10.135994Z",
     "iopub.status.busy": "2020-10-20T20:08:10.135308Z",
     "iopub.status.idle": "2020-10-20T20:08:10.146373Z",
     "shell.execute_reply": "2020-10-20T20:08:10.147025Z"
    },
    "papermill": {
     "duration": 0.075245,
     "end_time": "2020-10-20T20:08:10.147199",
     "exception": false,
     "start_time": "2020-10-20T20:08:10.071954",
     "status": "completed"
    },
    "tags": []
   },
   "outputs": [],
   "source": [
    "model_new = Model(layers[:-2])"
   ]
  },
  {
   "cell_type": "code",
   "execution_count": 25,
   "metadata": {
    "execution": {
     "iopub.execute_input": "2020-10-20T20:08:10.264526Z",
     "iopub.status.busy": "2020-10-20T20:08:10.263859Z",
     "iopub.status.idle": "2020-10-20T20:08:10.289823Z",
     "shell.execute_reply": "2020-10-20T20:08:10.290742Z"
    },
    "papermill": {
     "duration": 0.08694,
     "end_time": "2020-10-20T20:08:10.290919",
     "exception": false,
     "start_time": "2020-10-20T20:08:10.203979",
     "status": "completed"
    },
    "tags": []
   },
   "outputs": [],
   "source": [
    "plot_testing = model_new(testing_xdata)"
   ]
  },
  {
   "cell_type": "code",
   "execution_count": 26,
   "metadata": {
    "execution": {
     "iopub.execute_input": "2020-10-20T20:08:10.406562Z",
     "iopub.status.busy": "2020-10-20T20:08:10.405805Z",
     "iopub.status.idle": "2020-10-20T20:08:10.639339Z",
     "shell.execute_reply": "2020-10-20T20:08:10.639885Z"
    },
    "papermill": {
     "duration": 0.294665,
     "end_time": "2020-10-20T20:08:10.640063",
     "exception": false,
     "start_time": "2020-10-20T20:08:10.345398",
     "status": "completed"
    },
    "tags": []
   },
   "outputs": [
    {
     "data": {
      "text/plain": [
       "Text(0.5, 1.0, 'Outputs')"
      ]
     },
     "execution_count": 26,
     "metadata": {},
     "output_type": "execute_result"
    },
    {
     "data": {
      "image/png": "[encoded data removed]",
      "text/plain": [
       "<Figure size 576x504 with 1 Axes>"
      ]
     },
     "metadata": {
      "needs_background": "light"
     },
     "output_type": "display_data"
    }
   ],
   "source": [
    "plt.figure(figsize=(8,7))\n",
    "plt.scatter(plot_testing[:,0], plot_testing[:,1], alpha = 0.1, c = y_test.ravel());\n",
    "plt.title('Outputs')"
   ]
  },
  {
   "cell_type": "markdown",
   "metadata": {
    "papermill": {
     "duration": 0.056319,
     "end_time": "2020-10-20T20:08:10.761359",
     "exception": false,
     "start_time": "2020-10-20T20:08:10.705040",
     "status": "completed"
    },
    "tags": []
   },
   "source": [
    "### Plotting probability contours"
   ]
  },
  {
   "cell_type": "code",
   "execution_count": 27,
   "metadata": {
    "execution": {
     "iopub.execute_input": "2020-10-20T20:08:10.887293Z",
     "iopub.status.busy": "2020-10-20T20:08:10.886510Z",
     "iopub.status.idle": "2020-10-20T20:08:10.899875Z",
     "shell.execute_reply": "2020-10-20T20:08:10.900514Z"
    },
    "papermill": {
     "duration": 0.073801,
     "end_time": "2020-10-20T20:08:10.900675",
     "exception": false,
     "start_time": "2020-10-20T20:08:10.826874",
     "status": "completed"
    },
    "tags": []
   },
   "outputs": [],
   "source": [
    "model_prob = Model(layers[-2:]) "
   ]
  },
  {
   "cell_type": "code",
   "execution_count": 28,
   "metadata": {
    "execution": {
     "iopub.execute_input": "2020-10-20T20:08:11.021684Z",
     "iopub.status.busy": "2020-10-20T20:08:11.020973Z",
     "iopub.status.idle": "2020-10-20T20:08:11.034589Z",
     "shell.execute_reply": "2020-10-20T20:08:11.035110Z"
    },
    "papermill": {
     "duration": 0.078994,
     "end_time": "2020-10-20T20:08:11.035288",
     "exception": false,
     "start_time": "2020-10-20T20:08:10.956294",
     "status": "completed"
    },
    "tags": []
   },
   "outputs": [],
   "source": [
    "# Adjust the x and y ranges according to the above generated plot.\n",
    "x_range = np.linspace(-4, 1, 100) \n",
    "y_range = np.linspace(-6, 6, 100) \n",
    "x_grid, y_grid = np.meshgrid(x_range, y_range) # x_grid and y_grig are of size 100 X 100\n",
    "\n",
    "# converting x_grid and y_grid to continuous arrays\n",
    "x_grid_flat = np.ravel(x_grid)\n",
    "y_grid_flat = np.ravel(y_grid)\n",
    "\n",
    "# The last layer of the current model takes two columns as input. Hence transpose of np.vstack() is required.\n",
    "X = np.vstack((x_grid_flat, y_grid_flat)).T\n",
    "\n",
    "# x_grid and y_grid are of size 100 x 100\n",
    "probability_contour = model_prob(X).reshape(100,100) "
   ]
  },
  {
   "cell_type": "code",
   "execution_count": 29,
   "metadata": {
    "execution": {
     "iopub.execute_input": "2020-10-20T20:08:11.173632Z",
     "iopub.status.busy": "2020-10-20T20:08:11.172949Z",
     "iopub.status.idle": "2020-10-20T20:08:11.465403Z",
     "shell.execute_reply": "2020-10-20T20:08:11.465934Z"
    },
    "papermill": {
     "duration": 0.353459,
     "end_time": "2020-10-20T20:08:11.466131",
     "exception": false,
     "start_time": "2020-10-20T20:08:11.112672",
     "status": "completed"
    },
    "tags": []
   },
   "outputs": [
    {
     "data": {
      "image/png": "[encoded data removed]",
      "text/plain": [
       "<Figure size 720x648 with 1 Axes>"
      ]
     },
     "metadata": {
      "needs_background": "light"
     },
     "output_type": "display_data"
    }
   ],
   "source": [
    "plt.figure(figsize=(10,9))\n",
    "plt.scatter(plot_testing[:,0], plot_testing[:,1], alpha = 0.1, c = y_test.ravel())\n",
    "contours = plt.contour(x_grid,y_grid,probability_contour)\n",
    "plt.title('Probability Contours')\n",
    "plt.clabel(contours, inline = True );"
   ]
  }
 ],
 "metadata": {
  "kernelspec": {
   "display_name": "Python 3",
   "language": "python",
   "name": "python3"
  },
  "language_info": {
   "codemirror_mode": {
    "name": "ipython",
    "version": 3
   },
   "file_extension": ".py",
   "mimetype": "text/x-python",
   "name": "python",
   "nbconvert_exporter": "python",
   "pygments_lexer": "ipython3",
   "version": "3.6.12"
  },
  "papermill": {
   "duration": 168.426133,
   "end_time": "2020-10-20T20:08:12.777600",
   "environment_variables": {},
   "exception": null,
   "input_path": "2020-08-11-NeuralNetwork.ipynb",
   "output_path": "2020-08-11-NeuralNetwork.ipynb",
   "parameters": {},
   "start_time": "2020-10-20T20:05:24.351467",
   "version": "2.1.2"
  }
 },
 "nbformat": 4,
 "nbformat_minor": 4
}