{
 "cells": [
  {
   "cell_type": "markdown",
   "metadata": {
    "papermill": {
     "duration": 0.033909,
     "end_time": "2020-09-15T00:06:38.105508",
     "exception": false,
     "start_time": "2020-09-15T00:06:38.071599",
     "status": "completed"
    },
    "tags": []
   },
   "source": [
    "# \"A Basic Neural Network: Differentiate Hand-Written Digits\"\n",
    "\n",
    "- badges: true\n",
    "- author: Akshith Sriram"
   ]
  },
  {
   "cell_type": "markdown",
   "metadata": {
    "papermill": {
     "duration": 0.02592,
     "end_time": "2020-09-15T00:06:38.158802",
     "exception": false,
     "start_time": "2020-09-15T00:06:38.132882",
     "status": "completed"
    },
    "tags": []
   },
   "source": [
    "### Key Objectives:\n",
    "- Building a neural network that differentiates two hand-written digits 3 and 8.\n",
    "- Comparing the results of this Neural Network (NN) to that of a Logistic Regression (LR) model.\n",
    "\n",
    "### Requirements:\n",
    "- 'Kudzu' : A neural network library that was designed during our course by [Univ.AI](www.univ.ai). \n",
    "- MNIST Database\n",
    "\n",
    "If MNIST is not installed, use the command `!pip install mnist` given below.\n",
    "It can be run both from the command line and Jupyter Notebook."
   ]
  },
  {
   "cell_type": "code",
   "execution_count": 1,
   "metadata": {
    "execution": {
     "iopub.execute_input": "2020-09-15T00:06:38.216871Z",
     "iopub.status.busy": "2020-09-15T00:06:38.216223Z",
     "iopub.status.idle": "2020-09-15T00:06:39.818061Z",
     "shell.execute_reply": "2020-09-15T00:06:39.817497Z"
    },
    "papermill": {
     "duration": 1.633358,
     "end_time": "2020-09-15T00:06:39.818212",
     "exception": false,
     "start_time": "2020-09-15T00:06:38.184854",
     "status": "completed"
    },
    "tags": []
   },
   "outputs": [
    {
     "name": "stdout",
     "output_type": "stream",
     "text": [
      "Collecting mnist\r\n"
     ]
    },
    {
     "name": "stdout",
     "output_type": "stream",
     "text": [
      "  Downloading mnist-0.2.2-py2.py3-none-any.whl (3.5 kB)\r\n",
      "Requirement already satisfied: numpy in /opt/hostedtoolcache/Python/3.6.12/x64/lib/python3.6/site-packages (from mnist) (1.19.2)\r\n"
     ]
    },
    {
     "name": "stdout",
     "output_type": "stream",
     "text": [
      "Installing collected packages: mnist\r\n",
      "Successfully installed mnist-0.2.2\r\n"
     ]
    }
   ],
   "source": [
    "!pip install mnist "
   ]
  },
  {
   "cell_type": "markdown",
   "metadata": {
    "papermill": {
     "duration": 0.030115,
     "end_time": "2020-09-15T00:06:39.876474",
     "exception": false,
     "start_time": "2020-09-15T00:06:39.846359",
     "status": "completed"
    },
    "tags": []
   },
   "source": [
    "#### Importing necessary libraries"
   ]
  },
  {
   "cell_type": "code",
   "execution_count": 2,
   "metadata": {
    "execution": {
     "iopub.execute_input": "2020-09-15T00:06:39.937564Z",
     "iopub.status.busy": "2020-09-15T00:06:39.936958Z",
     "iopub.status.idle": "2020-09-15T00:06:40.592133Z",
     "shell.execute_reply": "2020-09-15T00:06:40.591577Z"
    },
    "papermill": {
     "duration": 0.68857,
     "end_time": "2020-09-15T00:06:40.592283",
     "exception": false,
     "start_time": "2020-09-15T00:06:39.903713",
     "status": "completed"
    },
    "tags": []
   },
   "outputs": [],
   "source": [
    "%load_ext autoreload\n",
    "%autoreload 2\n",
    "\n",
    "%matplotlib inline\n",
    "import matplotlib.pyplot as plt\n",
    "\n",
    "import numpy as np\n",
    "import pandas as pd"
   ]
  },
  {
   "cell_type": "markdown",
   "metadata": {
    "papermill": {
     "duration": 0.047958,
     "end_time": "2020-09-15T00:06:40.761901",
     "exception": false,
     "start_time": "2020-09-15T00:06:40.713943",
     "status": "completed"
    },
    "tags": []
   },
   "source": [
    "### Preparing the Data"
   ]
  },
  {
   "cell_type": "code",
   "execution_count": 3,
   "metadata": {
    "execution": {
     "iopub.execute_input": "2020-09-15T00:06:40.860602Z",
     "iopub.status.busy": "2020-09-15T00:06:40.858221Z",
     "iopub.status.idle": "2020-09-15T00:06:40.873740Z",
     "shell.execute_reply": "2020-09-15T00:06:40.873118Z"
    },
    "papermill": {
     "duration": 0.066319,
     "end_time": "2020-09-15T00:06:40.873895",
     "exception": false,
     "start_time": "2020-09-15T00:06:40.807576",
     "status": "completed"
    },
    "tags": []
   },
   "outputs": [],
   "source": [
    "import mnist"
   ]
  },
  {
   "cell_type": "code",
   "execution_count": 4,
   "metadata": {
    "execution": {
     "iopub.execute_input": "2020-09-15T00:06:40.967341Z",
     "iopub.status.busy": "2020-09-15T00:06:40.966645Z",
     "iopub.status.idle": "2020-09-15T00:06:42.868543Z",
     "shell.execute_reply": "2020-09-15T00:06:42.867999Z"
    },
    "papermill": {
     "duration": 1.961011,
     "end_time": "2020-09-15T00:06:42.868692",
     "exception": false,
     "start_time": "2020-09-15T00:06:40.907681",
     "status": "completed"
    },
    "tags": []
   },
   "outputs": [],
   "source": [
    "train_images = mnist.train_images()\n",
    "train_labels = mnist.train_labels()"
   ]
  },
  {
   "cell_type": "code",
   "execution_count": 5,
   "metadata": {
    "execution": {
     "iopub.execute_input": "2020-09-15T00:06:42.931482Z",
     "iopub.status.busy": "2020-09-15T00:06:42.930614Z",
     "iopub.status.idle": "2020-09-15T00:06:42.953612Z",
     "shell.execute_reply": "2020-09-15T00:06:42.952909Z"
    },
    "papermill": {
     "duration": 0.056648,
     "end_time": "2020-09-15T00:06:42.953782",
     "exception": false,
     "start_time": "2020-09-15T00:06:42.897134",
     "status": "completed"
    },
    "tags": []
   },
   "outputs": [
    {
     "data": {
      "text/plain": [
       "((60000, 28, 28), (60000,))"
      ]
     },
     "execution_count": 5,
     "metadata": {},
     "output_type": "execute_result"
    }
   ],
   "source": [
    "train_images.shape, train_labels.shape"
   ]
  },
  {
   "cell_type": "code",
   "execution_count": 6,
   "metadata": {
    "execution": {
     "iopub.execute_input": "2020-09-15T00:06:43.010910Z",
     "iopub.status.busy": "2020-09-15T00:06:43.010296Z",
     "iopub.status.idle": "2020-09-15T00:06:43.905905Z",
     "shell.execute_reply": "2020-09-15T00:06:43.906420Z"
    },
    "papermill": {
     "duration": 0.926487,
     "end_time": "2020-09-15T00:06:43.906615",
     "exception": false,
     "start_time": "2020-09-15T00:06:42.980128",
     "status": "completed"
    },
    "tags": []
   },
   "outputs": [],
   "source": [
    "test_images = mnist.test_images()\n",
    "test_labels = mnist.test_labels()"
   ]
  },
  {
   "cell_type": "code",
   "execution_count": 7,
   "metadata": {
    "execution": {
     "iopub.execute_input": "2020-09-15T00:06:43.964686Z",
     "iopub.status.busy": "2020-09-15T00:06:43.964083Z",
     "iopub.status.idle": "2020-09-15T00:06:43.980547Z",
     "shell.execute_reply": "2020-09-15T00:06:43.981058Z"
    },
    "papermill": {
     "duration": 0.047528,
     "end_time": "2020-09-15T00:06:43.981222",
     "exception": false,
     "start_time": "2020-09-15T00:06:43.933694",
     "status": "completed"
    },
    "tags": []
   },
   "outputs": [
    {
     "data": {
      "text/plain": [
       "((10000, 28, 28), (10000,))"
      ]
     },
     "execution_count": 7,
     "metadata": {},
     "output_type": "execute_result"
    }
   ],
   "source": [
    "test_images.shape, test_labels.shape"
   ]
  },
  {
   "cell_type": "code",
   "execution_count": 8,
   "metadata": {
    "execution": {
     "iopub.execute_input": "2020-09-15T00:06:44.043923Z",
     "iopub.status.busy": "2020-09-15T00:06:44.043169Z",
     "iopub.status.idle": "2020-09-15T00:06:44.224720Z",
     "shell.execute_reply": "2020-09-15T00:06:44.224126Z"
    },
    "papermill": {
     "duration": 0.214503,
     "end_time": "2020-09-15T00:06:44.224877",
     "exception": false,
     "start_time": "2020-09-15T00:06:44.010374",
     "status": "completed"
    },
    "tags": []
   },
   "outputs": [
    {
     "name": "stdout",
     "output_type": "stream",
     "text": [
      "2\n"
     ]
    },
    {
     "data": {
      "text/plain": [
       "<matplotlib.image.AxesImage at 0x7f3eb1a325f8>"
      ]
     },
     "execution_count": 8,
     "metadata": {},
     "output_type": "execute_result"
    },
    {
     "data": {
      "image/png": "[encoded data removed]",
      "text/plain": [
       "<Figure size 432x288 with 1 Axes>"
      ]
     },
     "metadata": {
      "needs_background": "light"
     },
     "output_type": "display_data"
    }
   ],
   "source": [
    "image_index = 7776 # You may select anything up to 60,000\n",
    "print(train_labels[image_index]) \n",
    "plt.imshow(train_images[image_index], cmap='Greys')"
   ]
  },
  {
   "cell_type": "markdown",
   "metadata": {
    "papermill": {
     "duration": 0.031843,
     "end_time": "2020-09-15T00:06:44.287754",
     "exception": false,
     "start_time": "2020-09-15T00:06:44.255911",
     "status": "completed"
    },
    "tags": []
   },
   "source": [
    "## Filter data to get 3 and 8 out"
   ]
  },
  {
   "cell_type": "code",
   "execution_count": 9,
   "metadata": {
    "execution": {
     "iopub.execute_input": "2020-09-15T00:06:44.365021Z",
     "iopub.status.busy": "2020-09-15T00:06:44.360558Z",
     "iopub.status.idle": "2020-09-15T00:06:44.382528Z",
     "shell.execute_reply": "2020-09-15T00:06:44.383168Z"
    },
    "papermill": {
     "duration": 0.06332,
     "end_time": "2020-09-15T00:06:44.383383",
     "exception": false,
     "start_time": "2020-09-15T00:06:44.320063",
     "status": "completed"
    },
    "tags": []
   },
   "outputs": [],
   "source": [
    "train_filter = np.where((train_labels == 3 ) | (train_labels == 8))\n",
    "test_filter = np.where((test_labels == 3) | (test_labels == 8))\n",
    "X_train, y_train = train_images[train_filter], train_labels[train_filter]\n",
    "X_test, y_test = test_images[test_filter], test_labels[test_filter]"
   ]
  },
  {
   "cell_type": "markdown",
   "metadata": {
    "papermill": {
     "duration": 0.031076,
     "end_time": "2020-09-15T00:06:44.444677",
     "exception": false,
     "start_time": "2020-09-15T00:06:44.413601",
     "status": "completed"
    },
    "tags": []
   },
   "source": [
    "We normalize the pixel values in the 0 to 1 range"
   ]
  },
  {
   "cell_type": "code",
   "execution_count": 10,
   "metadata": {
    "execution": {
     "iopub.execute_input": "2020-09-15T00:06:44.515932Z",
     "iopub.status.busy": "2020-09-15T00:06:44.515172Z",
     "iopub.status.idle": "2020-09-15T00:06:44.566664Z",
     "shell.execute_reply": "2020-09-15T00:06:44.566057Z"
    },
    "papermill": {
     "duration": 0.092352,
     "end_time": "2020-09-15T00:06:44.566823",
     "exception": false,
     "start_time": "2020-09-15T00:06:44.474471",
     "status": "completed"
    },
    "tags": []
   },
   "outputs": [],
   "source": [
    "X_train = X_train/255.\n",
    "X_test = X_test/255."
   ]
  },
  {
   "cell_type": "markdown",
   "metadata": {
    "papermill": {
     "duration": 0.027808,
     "end_time": "2020-09-15T00:06:44.622935",
     "exception": false,
     "start_time": "2020-09-15T00:06:44.595127",
     "status": "completed"
    },
    "tags": []
   },
   "source": [
    "Setup the labels as 1 (when the digit is 3) and 0 (when the digit is 8)"
   ]
  },
  {
   "cell_type": "code",
   "execution_count": 11,
   "metadata": {
    "execution": {
     "iopub.execute_input": "2020-09-15T00:06:44.686497Z",
     "iopub.status.busy": "2020-09-15T00:06:44.685819Z",
     "iopub.status.idle": "2020-09-15T00:06:44.698885Z",
     "shell.execute_reply": "2020-09-15T00:06:44.698241Z"
    },
    "papermill": {
     "duration": 0.048572,
     "end_time": "2020-09-15T00:06:44.699089",
     "exception": false,
     "start_time": "2020-09-15T00:06:44.650517",
     "status": "completed"
    },
    "tags": []
   },
   "outputs": [],
   "source": [
    "y_train = 1*(y_train==3)\n",
    "y_test = 1*(y_test==3)"
   ]
  },
  {
   "cell_type": "code",
   "execution_count": 12,
   "metadata": {
    "execution": {
     "iopub.execute_input": "2020-09-15T00:06:44.766419Z",
     "iopub.status.busy": "2020-09-15T00:06:44.765753Z",
     "iopub.status.idle": "2020-09-15T00:06:44.781989Z",
     "shell.execute_reply": "2020-09-15T00:06:44.782505Z"
    },
    "papermill": {
     "duration": 0.052678,
     "end_time": "2020-09-15T00:06:44.782667",
     "exception": false,
     "start_time": "2020-09-15T00:06:44.729989",
     "status": "completed"
    },
    "tags": []
   },
   "outputs": [
    {
     "data": {
      "text/plain": [
       "((11982, 28, 28), (1984, 28, 28))"
      ]
     },
     "execution_count": 12,
     "metadata": {},
     "output_type": "execute_result"
    }
   ],
   "source": [
    "X_train.shape, X_test.shape"
   ]
  },
  {
   "cell_type": "markdown",
   "metadata": {
    "papermill": {
     "duration": 0.030897,
     "end_time": "2020-09-15T00:06:44.846481",
     "exception": false,
     "start_time": "2020-09-15T00:06:44.815584",
     "status": "completed"
    },
    "tags": []
   },
   "source": [
    "### Reshape the input data to create a linear array"
   ]
  },
  {
   "cell_type": "code",
   "execution_count": 13,
   "metadata": {
    "execution": {
     "iopub.execute_input": "2020-09-15T00:06:44.911650Z",
     "iopub.status.busy": "2020-09-15T00:06:44.910992Z",
     "iopub.status.idle": "2020-09-15T00:06:44.930068Z",
     "shell.execute_reply": "2020-09-15T00:06:44.929572Z"
    },
    "papermill": {
     "duration": 0.052562,
     "end_time": "2020-09-15T00:06:44.930207",
     "exception": false,
     "start_time": "2020-09-15T00:06:44.877645",
     "status": "completed"
    },
    "tags": []
   },
   "outputs": [
    {
     "data": {
      "text/plain": [
       "((11982, 784), (1984, 784))"
      ]
     },
     "execution_count": 13,
     "metadata": {},
     "output_type": "execute_result"
    }
   ],
   "source": [
    "X_train = X_train.reshape(X_train.shape[0], -1)\n",
    "X_test = X_test.reshape(X_test.shape[0], -1)\n",
    "X_train.shape, X_test.shape"
   ]
  },
  {
   "cell_type": "markdown",
   "metadata": {
    "papermill": {
     "duration": 0.029924,
     "end_time": "2020-09-15T00:06:44.990638",
     "exception": false,
     "start_time": "2020-09-15T00:06:44.960714",
     "status": "completed"
    },
    "tags": []
   },
   "source": [
    "### Importing appropriate functions from 'Kudzu'"
   ]
  },
  {
   "cell_type": "code",
   "execution_count": 14,
   "metadata": {
    "execution": {
     "iopub.execute_input": "2020-09-15T00:06:45.061854Z",
     "iopub.status.busy": "2020-09-15T00:06:45.061199Z",
     "iopub.status.idle": "2020-09-15T00:06:45.083713Z",
     "shell.execute_reply": "2020-09-15T00:06:45.083076Z"
    },
    "papermill": {
     "duration": 0.062269,
     "end_time": "2020-09-15T00:06:45.083862",
     "exception": false,
     "start_time": "2020-09-15T00:06:45.021593",
     "status": "completed"
    },
    "tags": []
   },
   "outputs": [],
   "source": [
    "from kudzu.layer import Sigmoid\n",
    "from kudzu.layer import Relu\n",
    "from kudzu.layer import Affine, Sigmoid\n",
    "\n",
    "from kudzu.model import Model\n",
    "from kudzu.train import Learner\n",
    "from kudzu.optim import GD\n",
    "from kudzu.data import Data, Dataloader, Sampler\n",
    "\n",
    "from kudzu.callbacks import AccCallback\n",
    "from kudzu.callbacks import ClfCallback\n",
    "\n",
    "from kudzu.loss import MSE"
   ]
  },
  {
   "cell_type": "markdown",
   "metadata": {
    "papermill": {
     "duration": 0.028215,
     "end_time": "2020-09-15T00:06:45.140797",
     "exception": false,
     "start_time": "2020-09-15T00:06:45.112582",
     "status": "completed"
    },
    "tags": []
   },
   "source": [
    "### Let us create a `Config` class, to store important parameters. \n",
    "This class essentially plays the role of a dictionary."
   ]
  },
  {
   "cell_type": "code",
   "execution_count": 15,
   "metadata": {
    "execution": {
     "iopub.execute_input": "2020-09-15T00:06:45.204540Z",
     "iopub.status.busy": "2020-09-15T00:06:45.203814Z",
     "iopub.status.idle": "2020-09-15T00:06:45.222006Z",
     "shell.execute_reply": "2020-09-15T00:06:45.222546Z"
    },
    "papermill": {
     "duration": 0.053396,
     "end_time": "2020-09-15T00:06:45.222712",
     "exception": false,
     "start_time": "2020-09-15T00:06:45.169316",
     "status": "completed"
    },
    "tags": []
   },
   "outputs": [],
   "source": [
    "class Config:\n",
    "    pass\n",
    "config = Config()\n",
    "config.lr = 0.001\n",
    "config.num_epochs = 251\n",
    "config.bs = 50"
   ]
  },
  {
   "cell_type": "markdown",
   "metadata": {
    "papermill": {
     "duration": 0.028607,
     "end_time": "2020-09-15T00:06:45.279723",
     "exception": false,
     "start_time": "2020-09-15T00:06:45.251116",
     "status": "completed"
    },
    "tags": []
   },
   "source": [
    "### Initializing data to the variables"
   ]
  },
  {
   "cell_type": "code",
   "execution_count": 16,
   "metadata": {
    "execution": {
     "iopub.execute_input": "2020-09-15T00:06:45.345307Z",
     "iopub.status.busy": "2020-09-15T00:06:45.344667Z",
     "iopub.status.idle": "2020-09-15T00:06:45.360307Z",
     "shell.execute_reply": "2020-09-15T00:06:45.360798Z"
    },
    "papermill": {
     "duration": 0.052696,
     "end_time": "2020-09-15T00:06:45.360974",
     "exception": false,
     "start_time": "2020-09-15T00:06:45.308278",
     "status": "completed"
    },
    "tags": []
   },
   "outputs": [],
   "source": [
    "data = Data(X_train, y_train.reshape(-1,1))\n",
    "sampler = Sampler(data, config.bs, shuffle=True)\n",
    "\n",
    "dl = Dataloader(data, sampler)\n",
    "\n",
    "opt = GD(config.lr)\n",
    "loss = MSE()"
   ]
  },
  {
   "cell_type": "code",
   "execution_count": 17,
   "metadata": {
    "execution": {
     "iopub.execute_input": "2020-09-15T00:06:45.424094Z",
     "iopub.status.busy": "2020-09-15T00:06:45.423474Z",
     "iopub.status.idle": "2020-09-15T00:06:45.437511Z",
     "shell.execute_reply": "2020-09-15T00:06:45.436953Z"
    },
    "papermill": {
     "duration": 0.047652,
     "end_time": "2020-09-15T00:06:45.437652",
     "exception": false,
     "start_time": "2020-09-15T00:06:45.390000",
     "status": "completed"
    },
    "tags": []
   },
   "outputs": [],
   "source": [
    "training_xdata = X_train\n",
    "testing_xdata = X_test\n",
    "training_ydata = y_train.reshape(-1,1)\n",
    "testing_ydata = y_test.reshape(-1,1)"
   ]
  },
  {
   "cell_type": "markdown",
   "metadata": {
    "papermill": {
     "duration": 0.029412,
     "end_time": "2020-09-15T00:06:45.496577",
     "exception": false,
     "start_time": "2020-09-15T00:06:45.467165",
     "status": "completed"
    },
    "tags": []
   },
   "source": [
    "### Running Models with the Training data\n",
    "Details about the network layers:\n",
    "- A first affine layer has 784 inputs and does 100 affine transforms. These are followed by a Relu\n",
    "- A second affine layer has 100 inputs from the 100 activations of the past layer, and does 100 affine transforms. These are followed by a Relu\n",
    "- A third affine layer has 100 activations and does 2 affine transformations to create an embedding for visualization. There is no non-linearity here.\n",
    "- A final \"logistic regression\" which has an affine transform from 2 inputs to 1 output, which is squeezed through a sigmoid.\n",
    "\n",
    "Help taken from Anshuman's Notebook."
   ]
  },
  {
   "cell_type": "code",
   "execution_count": 18,
   "metadata": {
    "execution": {
     "iopub.execute_input": "2020-09-15T00:06:45.560217Z",
     "iopub.status.busy": "2020-09-15T00:06:45.559581Z",
     "iopub.status.idle": "2020-09-15T00:06:45.592750Z",
     "shell.execute_reply": "2020-09-15T00:06:45.592223Z"
    },
    "papermill": {
     "duration": 0.067279,
     "end_time": "2020-09-15T00:06:45.592892",
     "exception": false,
     "start_time": "2020-09-15T00:06:45.525613",
     "status": "completed"
    },
    "tags": []
   },
   "outputs": [],
   "source": [
    "# layers for the Neural Network\n",
    "layers = [Affine(\"first\", 784, 100), Relu(\"first\"), Affine(\"second\", 100, 100), Relu(\"second\"), Affine(\"third\", 100, 2), Affine(\"final\", 2, 1), Sigmoid(\"final\")]\n",
    "model_nn = Model(layers)\n",
    "\n",
    "# layers for the Logistic Regression\n",
    "layers_lr = [Affine(\"logits\", 784, 1), Sigmoid(\"sigmoid\")]\n",
    "model_lr = Model(layers_lr)"
   ]
  },
  {
   "cell_type": "code",
   "execution_count": 19,
   "metadata": {
    "execution": {
     "iopub.execute_input": "2020-09-15T00:06:45.670112Z",
     "iopub.status.busy": "2020-09-15T00:06:45.669467Z",
     "iopub.status.idle": "2020-09-15T00:06:45.683029Z",
     "shell.execute_reply": "2020-09-15T00:06:45.682486Z"
    },
    "papermill": {
     "duration": 0.05491,
     "end_time": "2020-09-15T00:06:45.683176",
     "exception": false,
     "start_time": "2020-09-15T00:06:45.628266",
     "status": "completed"
    },
    "tags": []
   },
   "outputs": [],
   "source": [
    "# suffix _nn stands for Neural Network.\n",
    "learner_nn = Learner(loss, model_nn, opt, config.num_epochs)\n",
    "acc_nn = ClfCallback(learner_nn, config.bs, training_xdata , testing_xdata, training_ydata, testing_ydata)\n",
    "learner_nn.set_callbacks([acc_nn])"
   ]
  },
  {
   "cell_type": "code",
   "execution_count": 20,
   "metadata": {
    "execution": {
     "iopub.execute_input": "2020-09-15T00:06:45.744092Z",
     "iopub.status.busy": "2020-09-15T00:06:45.743463Z",
     "iopub.status.idle": "2020-09-15T00:08:20.410691Z",
     "shell.execute_reply": "2020-09-15T00:08:20.410178Z"
    },
    "papermill": {
     "duration": 94.699055,
     "end_time": "2020-09-15T00:08:20.410827",
     "exception": false,
     "start_time": "2020-09-15T00:06:45.711772",
     "status": "completed"
    },
    "tags": []
   },
   "outputs": [
    {
     "name": "stdout",
     "output_type": "stream",
     "text": [
      "====== Neural Network ======\n"
     ]
    },
    {
     "name": "stdout",
     "output_type": "stream",
     "text": [
      "Epoch 0, Loss 0.2428\n",
      "Training Accuracy: 0.7056, Testing Accuracy: 0.6971\n",
      "\n"
     ]
    },
    {
     "name": "stdout",
     "output_type": "stream",
     "text": [
      "Epoch 10, Loss 0.0699\n",
      "Training Accuracy: 0.9319, Testing Accuracy: 0.9435\n",
      "\n"
     ]
    },
    {
     "name": "stdout",
     "output_type": "stream",
     "text": [
      "Epoch 20, Loss 0.0477\n",
      "Training Accuracy: 0.9483, Testing Accuracy: 0.9556\n",
      "\n"
     ]
    },
    {
     "name": "stdout",
     "output_type": "stream",
     "text": [
      "Epoch 30, Loss 0.0392\n",
      "Training Accuracy: 0.9564, Testing Accuracy: 0.9652\n",
      "\n"
     ]
    },
    {
     "name": "stdout",
     "output_type": "stream",
     "text": [
      "Epoch 40, Loss 0.0345\n",
      "Training Accuracy: 0.9615, Testing Accuracy: 0.9688\n",
      "\n"
     ]
    },
    {
     "name": "stdout",
     "output_type": "stream",
     "text": [
      "Epoch 50, Loss 0.0313\n",
      "Training Accuracy: 0.9653, Testing Accuracy: 0.9698\n",
      "\n"
     ]
    },
    {
     "name": "stdout",
     "output_type": "stream",
     "text": [
      "Epoch 60, Loss 0.029\n",
      "Training Accuracy: 0.9675, Testing Accuracy: 0.9703\n",
      "\n"
     ]
    },
    {
     "name": "stdout",
     "output_type": "stream",
     "text": [
      "Epoch 70, Loss 0.0272\n",
      "Training Accuracy: 0.9693, Testing Accuracy: 0.9718\n",
      "\n"
     ]
    },
    {
     "name": "stdout",
     "output_type": "stream",
     "text": [
      "Epoch 80, Loss 0.0258\n",
      "Training Accuracy: 0.9712, Testing Accuracy: 0.9723\n",
      "\n"
     ]
    },
    {
     "name": "stdout",
     "output_type": "stream",
     "text": [
      "Epoch 90, Loss 0.0246\n",
      "Training Accuracy: 0.9729, Testing Accuracy: 0.9733\n",
      "\n"
     ]
    },
    {
     "name": "stdout",
     "output_type": "stream",
     "text": [
      "Epoch 100, Loss 0.0236\n",
      "Training Accuracy: 0.9741, Testing Accuracy: 0.9743\n",
      "\n"
     ]
    },
    {
     "name": "stdout",
     "output_type": "stream",
     "text": [
      "Epoch 110, Loss 0.0227\n",
      "Training Accuracy: 0.9754, Testing Accuracy: 0.9743\n",
      "\n"
     ]
    },
    {
     "name": "stdout",
     "output_type": "stream",
     "text": [
      "Epoch 120, Loss 0.0219\n",
      "Training Accuracy: 0.9766, Testing Accuracy: 0.9743\n",
      "\n"
     ]
    },
    {
     "name": "stdout",
     "output_type": "stream",
     "text": [
      "Epoch 130, Loss 0.0212\n",
      "Training Accuracy: 0.9776, Testing Accuracy: 0.9738\n",
      "\n"
     ]
    },
    {
     "name": "stdout",
     "output_type": "stream",
     "text": [
      "Epoch 140, Loss 0.0205\n",
      "Training Accuracy: 0.9786, Testing Accuracy: 0.9738\n",
      "\n"
     ]
    },
    {
     "name": "stdout",
     "output_type": "stream",
     "text": [
      "Epoch 150, Loss 0.0199\n",
      "Training Accuracy: 0.9791, Testing Accuracy: 0.9743\n",
      "\n"
     ]
    },
    {
     "name": "stdout",
     "output_type": "stream",
     "text": [
      "Epoch 160, Loss 0.0193\n",
      "Training Accuracy: 0.9794, Testing Accuracy: 0.9748\n",
      "\n"
     ]
    },
    {
     "name": "stdout",
     "output_type": "stream",
     "text": [
      "Epoch 170, Loss 0.0188\n",
      "Training Accuracy: 0.9798, Testing Accuracy: 0.9748\n",
      "\n"
     ]
    },
    {
     "name": "stdout",
     "output_type": "stream",
     "text": [
      "Epoch 180, Loss 0.0183\n",
      "Training Accuracy: 0.9802, Testing Accuracy: 0.9763\n",
      "\n"
     ]
    },
    {
     "name": "stdout",
     "output_type": "stream",
     "text": [
      "Epoch 190, Loss 0.0179\n",
      "Training Accuracy: 0.9806, Testing Accuracy: 0.9768\n",
      "\n"
     ]
    },
    {
     "name": "stdout",
     "output_type": "stream",
     "text": [
      "Epoch 200, Loss 0.0174\n",
      "Training Accuracy: 0.9811, Testing Accuracy: 0.9773\n",
      "\n"
     ]
    },
    {
     "name": "stdout",
     "output_type": "stream",
     "text": [
      "Epoch 210, Loss 0.017\n",
      "Training Accuracy: 0.9816, Testing Accuracy: 0.9773\n",
      "\n"
     ]
    },
    {
     "name": "stdout",
     "output_type": "stream",
     "text": [
      "Epoch 220, Loss 0.0166\n",
      "Training Accuracy: 0.9817, Testing Accuracy: 0.9768\n",
      "\n"
     ]
    },
    {
     "name": "stdout",
     "output_type": "stream",
     "text": [
      "Epoch 230, Loss 0.0162\n",
      "Training Accuracy: 0.9824, Testing Accuracy: 0.9773\n",
      "\n"
     ]
    },
    {
     "name": "stdout",
     "output_type": "stream",
     "text": [
      "Epoch 240, Loss 0.0159\n",
      "Training Accuracy: 0.9833, Testing Accuracy: 0.9773\n",
      "\n"
     ]
    },
    {
     "name": "stdout",
     "output_type": "stream",
     "text": [
      "Epoch 250, Loss 0.0155\n",
      "Training Accuracy: 0.9837, Testing Accuracy: 0.9768\n",
      "\n"
     ]
    },
    {
     "data": {
      "text/plain": [
       "0.0005988084985843611"
      ]
     },
     "execution_count": 20,
     "metadata": {},
     "output_type": "execute_result"
    }
   ],
   "source": [
    "print(\"====== Neural Network ======\")\n",
    "learner_nn.train_loop(dl)"
   ]
  },
  {
   "cell_type": "markdown",
   "metadata": {
    "papermill": {
     "duration": 0.035927,
     "end_time": "2020-09-15T00:08:20.483117",
     "exception": false,
     "start_time": "2020-09-15T00:08:20.447190",
     "status": "completed"
    },
    "tags": []
   },
   "source": [
    "### Logistic Regression based Implementation."
   ]
  },
  {
   "cell_type": "code",
   "execution_count": 21,
   "metadata": {
    "execution": {
     "iopub.execute_input": "2020-09-15T00:08:20.571573Z",
     "iopub.status.busy": "2020-09-15T00:08:20.570931Z",
     "iopub.status.idle": "2020-09-15T00:08:20.584351Z",
     "shell.execute_reply": "2020-09-15T00:08:20.584859Z"
    },
    "papermill": {
     "duration": 0.054387,
     "end_time": "2020-09-15T00:08:20.585031",
     "exception": false,
     "start_time": "2020-09-15T00:08:20.530644",
     "status": "completed"
    },
    "tags": []
   },
   "outputs": [],
   "source": [
    "learner_lr = Learner(loss, model_lr, opt, config.num_epochs)\n",
    "acc_lr = ClfCallback(learner_lr, config.bs, training_xdata , testing_xdata, training_ydata, testing_ydata)\n",
    "learner_lr.set_callbacks([acc_lr])"
   ]
  },
  {
   "cell_type": "code",
   "execution_count": 22,
   "metadata": {
    "execution": {
     "iopub.execute_input": "2020-09-15T00:08:20.664704Z",
     "iopub.status.busy": "2020-09-15T00:08:20.664099Z",
     "iopub.status.idle": "2020-09-15T00:08:39.674655Z",
     "shell.execute_reply": "2020-09-15T00:08:39.675494Z"
    },
    "papermill": {
     "duration": 19.053364,
     "end_time": "2020-09-15T00:08:39.675655",
     "exception": false,
     "start_time": "2020-09-15T00:08:20.622291",
     "status": "completed"
    },
    "tags": []
   },
   "outputs": [
    {
     "name": "stdout",
     "output_type": "stream",
     "text": [
      "====== Logistic Regression ======\n",
      "Epoch 0, Loss 0.2077\n",
      "Training Accuracy: 0.7677, Testing Accuracy: 0.7812\n",
      "\n"
     ]
    },
    {
     "name": "stdout",
     "output_type": "stream",
     "text": [
      "Epoch 10, Loss 0.0999\n",
      "Training Accuracy: 0.9049, Testing Accuracy: 0.9148\n",
      "\n"
     ]
    },
    {
     "name": "stdout",
     "output_type": "stream",
     "text": [
      "Epoch 20, Loss 0.0781\n",
      "Training Accuracy: 0.9261, Testing Accuracy: 0.9360\n",
      "\n"
     ]
    },
    {
     "name": "stdout",
     "output_type": "stream",
     "text": [
      "Epoch 30, Loss 0.0674\n",
      "Training Accuracy: 0.9371, Testing Accuracy: 0.9461\n",
      "\n"
     ]
    },
    {
     "name": "stdout",
     "output_type": "stream",
     "text": [
      "Epoch 40, Loss 0.0609\n",
      "Training Accuracy: 0.9424, Testing Accuracy: 0.9521\n",
      "\n"
     ]
    },
    {
     "name": "stdout",
     "output_type": "stream",
     "text": [
      "Epoch 50, Loss 0.0565\n",
      "Training Accuracy: 0.9456, Testing Accuracy: 0.9567\n",
      "\n"
     ]
    },
    {
     "name": "stdout",
     "output_type": "stream",
     "text": [
      "Epoch 60, Loss 0.0532\n",
      "Training Accuracy: 0.9479, Testing Accuracy: 0.9602\n",
      "\n"
     ]
    },
    {
     "name": "stdout",
     "output_type": "stream",
     "text": [
      "Epoch 70, Loss 0.0507\n",
      "Training Accuracy: 0.9501, Testing Accuracy: 0.9632\n",
      "\n"
     ]
    },
    {
     "name": "stdout",
     "output_type": "stream",
     "text": [
      "Epoch 80, Loss 0.0486\n",
      "Training Accuracy: 0.9515, Testing Accuracy: 0.9647\n",
      "\n"
     ]
    },
    {
     "name": "stdout",
     "output_type": "stream",
     "text": [
      "Epoch 90, Loss 0.047\n",
      "Training Accuracy: 0.9533, Testing Accuracy: 0.9657\n",
      "\n"
     ]
    },
    {
     "name": "stdout",
     "output_type": "stream",
     "text": [
      "Epoch 100, Loss 0.0456\n",
      "Training Accuracy: 0.9548, Testing Accuracy: 0.9652\n",
      "\n"
     ]
    },
    {
     "name": "stdout",
     "output_type": "stream",
     "text": [
      "Epoch 110, Loss 0.0444\n",
      "Training Accuracy: 0.9555, Testing Accuracy: 0.9657\n",
      "\n"
     ]
    },
    {
     "name": "stdout",
     "output_type": "stream",
     "text": [
      "Epoch 120, Loss 0.0433\n",
      "Training Accuracy: 0.9562, Testing Accuracy: 0.9657\n",
      "\n"
     ]
    },
    {
     "name": "stdout",
     "output_type": "stream",
     "text": [
      "Epoch 130, Loss 0.0424\n",
      "Training Accuracy: 0.9565, Testing Accuracy: 0.9662\n",
      "\n"
     ]
    },
    {
     "name": "stdout",
     "output_type": "stream",
     "text": [
      "Epoch 140, Loss 0.0416\n",
      "Training Accuracy: 0.9570, Testing Accuracy: 0.9667\n",
      "\n"
     ]
    },
    {
     "name": "stdout",
     "output_type": "stream",
     "text": [
      "Epoch 150, Loss 0.0409\n",
      "Training Accuracy: 0.9579, Testing Accuracy: 0.9677\n",
      "\n"
     ]
    },
    {
     "name": "stdout",
     "output_type": "stream",
     "text": [
      "Epoch 160, Loss 0.0402\n",
      "Training Accuracy: 0.9586, Testing Accuracy: 0.9672\n",
      "\n"
     ]
    },
    {
     "name": "stdout",
     "output_type": "stream",
     "text": [
      "Epoch 170, Loss 0.0396\n",
      "Training Accuracy: 0.9590, Testing Accuracy: 0.9672\n",
      "\n"
     ]
    },
    {
     "name": "stdout",
     "output_type": "stream",
     "text": [
      "Epoch 180, Loss 0.039\n",
      "Training Accuracy: 0.9591, Testing Accuracy: 0.9677\n",
      "\n"
     ]
    },
    {
     "name": "stdout",
     "output_type": "stream",
     "text": [
      "Epoch 190, Loss 0.0385\n",
      "Training Accuracy: 0.9596, Testing Accuracy: 0.9682\n",
      "\n"
     ]
    },
    {
     "name": "stdout",
     "output_type": "stream",
     "text": [
      "Epoch 200, Loss 0.0381\n",
      "Training Accuracy: 0.9600, Testing Accuracy: 0.9688\n",
      "\n"
     ]
    },
    {
     "name": "stdout",
     "output_type": "stream",
     "text": [
      "Epoch 210, Loss 0.0376\n",
      "Training Accuracy: 0.9604, Testing Accuracy: 0.9688\n",
      "\n"
     ]
    },
    {
     "name": "stdout",
     "output_type": "stream",
     "text": [
      "Epoch 220, Loss 0.0372\n",
      "Training Accuracy: 0.9606, Testing Accuracy: 0.9688\n",
      "\n"
     ]
    },
    {
     "name": "stdout",
     "output_type": "stream",
     "text": [
      "Epoch 230, Loss 0.0369\n",
      "Training Accuracy: 0.9608, Testing Accuracy: 0.9688\n",
      "\n"
     ]
    },
    {
     "name": "stdout",
     "output_type": "stream",
     "text": [
      "Epoch 240, Loss 0.0365\n",
      "Training Accuracy: 0.9609, Testing Accuracy: 0.9693\n",
      "\n"
     ]
    },
    {
     "name": "stdout",
     "output_type": "stream",
     "text": [
      "Epoch 250, Loss 0.0362\n",
      "Training Accuracy: 0.9612, Testing Accuracy: 0.9693\n",
      "\n"
     ]
    },
    {
     "data": {
      "text/plain": [
       "0.021949186088300314"
      ]
     },
     "execution_count": 22,
     "metadata": {},
     "output_type": "execute_result"
    }
   ],
   "source": [
    "print(\"====== Logistic Regression ======\")\n",
    "learner_lr.train_loop(dl)"
   ]
  },
  {
   "cell_type": "markdown",
   "metadata": {
    "papermill": {
     "duration": 0.043359,
     "end_time": "2020-09-15T00:08:39.763435",
     "exception": false,
     "start_time": "2020-09-15T00:08:39.720076",
     "status": "completed"
    },
    "tags": []
   },
   "source": [
    "### Comparing results of NN and LR"
   ]
  },
  {
   "cell_type": "code",
   "execution_count": 23,
   "metadata": {
    "execution": {
     "iopub.execute_input": "2020-09-15T00:08:39.861726Z",
     "iopub.status.busy": "2020-09-15T00:08:39.860802Z",
     "iopub.status.idle": "2020-09-15T00:08:40.102043Z",
     "shell.execute_reply": "2020-09-15T00:08:40.101540Z"
    },
    "papermill": {
     "duration": 0.294801,
     "end_time": "2020-09-15T00:08:40.102191",
     "exception": false,
     "start_time": "2020-09-15T00:08:39.807390",
     "status": "completed"
    },
    "tags": []
   },
   "outputs": [
    {
     "data": {
      "text/plain": [
       "<matplotlib.legend.Legend at 0x7f3eaadeb0f0>"
      ]
     },
     "execution_count": 23,
     "metadata": {},
     "output_type": "execute_result"
    },
    {
     "data": {
      "image/png": "[encoded data removed]",
      "text/plain": [
       "<Figure size 1080x720 with 1 Axes>"
      ]
     },
     "metadata": {
      "needs_background": "light"
     },
     "output_type": "display_data"
    }
   ],
   "source": [
    "plt.figure(figsize=(15,10))\n",
    "\n",
    "# Neural Network plots\n",
    "plt.plot(acc_nn.accuracies, 'r-', label = \"Training Accuracies - NN\")\n",
    "plt.plot(acc_nn.test_accuracies, 'g-', label = \"Testing Accuracies - NN\")\n",
    "\n",
    "# Logistic Regression plots\n",
    "plt.plot(acc_lr.accuracies, 'k-', label = \"Training Accuracies - LR\")\n",
    "plt.plot(acc_lr.test_accuracies, 'b-', label = \"Testing Accuracies - LR\")\n",
    "\n",
    "plt.ylim(0.8, 1)\n",
    "\n",
    "plt.legend()\n",
    "\n"
   ]
  },
  {
   "cell_type": "markdown",
   "metadata": {
    "papermill": {
     "duration": 0.044955,
     "end_time": "2020-09-15T00:08:40.192735",
     "exception": false,
     "start_time": "2020-09-15T00:08:40.147780",
     "status": "completed"
    },
    "tags": []
   },
   "source": [
    "### From the plot, we can observe the following:\n",
    "- Neural Network achieves higher accuracy than the Logistic Regression model.\n",
    "- This apparently, is because of overfitting, i.e. NN captures more noise than data.\n",
    "- Testing accuracy of NN drops below the Training accuracy at higher epochs. This explains the over-fitting on training data.\n",
    "- Logistic Regression gives a reliable accuracy, without the above mentioned problem.\n"
   ]
  },
  {
   "cell_type": "markdown",
   "metadata": {
    "papermill": {
     "duration": 0.045219,
     "end_time": "2020-09-15T00:08:40.283436",
     "exception": false,
     "start_time": "2020-09-15T00:08:40.238217",
     "status": "completed"
    },
    "tags": []
   },
   "source": [
    "### Moving till the last but one layer (excluding it).\n",
    "#### Plotting the outputs of this layer of the NN."
   ]
  },
  {
   "cell_type": "code",
   "execution_count": 24,
   "metadata": {
    "execution": {
     "iopub.execute_input": "2020-09-15T00:08:40.378889Z",
     "iopub.status.busy": "2020-09-15T00:08:40.378299Z",
     "iopub.status.idle": "2020-09-15T00:08:40.393928Z",
     "shell.execute_reply": "2020-09-15T00:08:40.394459Z"
    },
    "papermill": {
     "duration": 0.065776,
     "end_time": "2020-09-15T00:08:40.394623",
     "exception": false,
     "start_time": "2020-09-15T00:08:40.328847",
     "status": "completed"
    },
    "tags": []
   },
   "outputs": [],
   "source": [
    "model_new = Model(layers[:-2])"
   ]
  },
  {
   "cell_type": "code",
   "execution_count": 25,
   "metadata": {
    "execution": {
     "iopub.execute_input": "2020-09-15T00:08:40.496295Z",
     "iopub.status.busy": "2020-09-15T00:08:40.495573Z",
     "iopub.status.idle": "2020-09-15T00:08:40.520531Z",
     "shell.execute_reply": "2020-09-15T00:08:40.521393Z"
    },
    "papermill": {
     "duration": 0.078414,
     "end_time": "2020-09-15T00:08:40.521572",
     "exception": false,
     "start_time": "2020-09-15T00:08:40.443158",
     "status": "completed"
    },
    "tags": []
   },
   "outputs": [],
   "source": [
    "plot_testing = model_new(testing_xdata)"
   ]
  },
  {
   "cell_type": "code",
   "execution_count": 26,
   "metadata": {
    "execution": {
     "iopub.execute_input": "2020-09-15T00:08:40.632924Z",
     "iopub.status.busy": "2020-09-15T00:08:40.632298Z",
     "iopub.status.idle": "2020-09-15T00:08:40.834051Z",
     "shell.execute_reply": "2020-09-15T00:08:40.833513Z"
    },
    "papermill": {
     "duration": 0.264054,
     "end_time": "2020-09-15T00:08:40.834188",
     "exception": false,
     "start_time": "2020-09-15T00:08:40.570134",
     "status": "completed"
    },
    "tags": []
   },
   "outputs": [
    {
     "data": {
      "text/plain": [
       "Text(0.5, 1.0, 'Outputs')"
      ]
     },
     "execution_count": 26,
     "metadata": {},
     "output_type": "execute_result"
    },
    {
     "data": {
      "image/png": "[encoded data removed]",
      "text/plain": [
       "<Figure size 576x504 with 1 Axes>"
      ]
     },
     "metadata": {
      "needs_background": "light"
     },
     "output_type": "display_data"
    }
   ],
   "source": [
    "plt.figure(figsize=(8,7))\n",
    "plt.scatter(plot_testing[:,0], plot_testing[:,1], alpha = 0.1, c = y_test.ravel());\n",
    "plt.title('Outputs')"
   ]
  },
  {
   "cell_type": "markdown",
   "metadata": {
    "papermill": {
     "duration": 0.049335,
     "end_time": "2020-09-15T00:08:40.934261",
     "exception": false,
     "start_time": "2020-09-15T00:08:40.884926",
     "status": "completed"
    },
    "tags": []
   },
   "source": [
    "### Plotting probability contours"
   ]
  },
  {
   "cell_type": "code",
   "execution_count": 27,
   "metadata": {
    "execution": {
     "iopub.execute_input": "2020-09-15T00:08:41.040937Z",
     "iopub.status.busy": "2020-09-15T00:08:41.040094Z",
     "iopub.status.idle": "2020-09-15T00:08:41.053924Z",
     "shell.execute_reply": "2020-09-15T00:08:41.054416Z"
    },
    "papermill": {
     "duration": 0.071226,
     "end_time": "2020-09-15T00:08:41.054586",
     "exception": false,
     "start_time": "2020-09-15T00:08:40.983360",
     "status": "completed"
    },
    "tags": []
   },
   "outputs": [],
   "source": [
    "model_prob = Model(layers[-2:]) "
   ]
  },
  {
   "cell_type": "code",
   "execution_count": 28,
   "metadata": {
    "execution": {
     "iopub.execute_input": "2020-09-15T00:08:41.161821Z",
     "iopub.status.busy": "2020-09-15T00:08:41.161215Z",
     "iopub.status.idle": "2020-09-15T00:08:41.177610Z",
     "shell.execute_reply": "2020-09-15T00:08:41.178153Z"
    },
    "papermill": {
     "duration": 0.071139,
     "end_time": "2020-09-15T00:08:41.178336",
     "exception": false,
     "start_time": "2020-09-15T00:08:41.107197",
     "status": "completed"
    },
    "tags": []
   },
   "outputs": [],
   "source": [
    "# Adjust the x and y ranges according to the above generated plot.\n",
    "x_range = np.linspace(-4, 1, 100) \n",
    "y_range = np.linspace(-6, 6, 100) \n",
    "x_grid, y_grid = np.meshgrid(x_range, y_range) # x_grid and y_grig are of size 100 X 100\n",
    "\n",
    "# converting x_grid and y_grid to continuous arrays\n",
    "x_grid_flat = np.ravel(x_grid)\n",
    "y_grid_flat = np.ravel(y_grid)\n",
    "\n",
    "# The last layer of the current model takes two columns as input. Hence transpose of np.vstack() is required.\n",
    "X = np.vstack((x_grid_flat, y_grid_flat)).T\n",
    "\n",
    "# x_grid and y_grid are of size 100 x 100\n",
    "probability_contour = model_prob(X).reshape(100,100) "
   ]
  },
  {
   "cell_type": "code",
   "execution_count": 29,
   "metadata": {
    "execution": {
     "iopub.execute_input": "2020-09-15T00:08:41.287930Z",
     "iopub.status.busy": "2020-09-15T00:08:41.287281Z",
     "iopub.status.idle": "2020-09-15T00:08:41.550771Z",
     "shell.execute_reply": "2020-09-15T00:08:41.550261Z"
    },
    "papermill": {
     "duration": 0.31908,
     "end_time": "2020-09-15T00:08:41.550915",
     "exception": false,
     "start_time": "2020-09-15T00:08:41.231835",
     "status": "completed"
    },
    "tags": []
   },
   "outputs": [
    {
     "data": {
      "image/png": "[encoded data removed]",
      "text/plain": [
       "<Figure size 720x648 with 1 Axes>"
      ]
     },
     "metadata": {
      "needs_background": "light"
     },
     "output_type": "display_data"
    }
   ],
   "source": [
    "plt.figure(figsize=(10,9))\n",
    "plt.scatter(plot_testing[:,0], plot_testing[:,1], alpha = 0.1, c = y_test.ravel())\n",
    "contours = plt.contour(x_grid,y_grid,probability_contour)\n",
    "plt.title('Probability Contours')\n",
    "plt.clabel(contours, inline = True );"
   ]
  }
 ],
 "metadata": {
  "kernelspec": {
   "display_name": "Python 3",
   "language": "python",
   "name": "python3"
  },
  "language_info": {
   "codemirror_mode": {
    "name": "ipython",
    "version": 3
   },
   "file_extension": ".py",
   "mimetype": "text/x-python",
   "name": "python",
   "nbconvert_exporter": "python",
   "pygments_lexer": "ipython3",
   "version": "3.6.12"
  },
  "papermill": {
   "duration": 125.031961,
   "end_time": "2020-09-15T00:08:42.010995",
   "environment_variables": {},
   "exception": null,
   "input_path": "2020-08-11-NeuralNetwork.ipynb",
   "output_path": "2020-08-11-NeuralNetwork.ipynb",
   "parameters": {},
   "start_time": "2020-09-15T00:06:36.979034",
   "version": "2.1.2"
  }
 },
 "nbformat": 4,
 "nbformat_minor": 4
}