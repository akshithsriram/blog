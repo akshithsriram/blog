{
 "cells": [
  {
   "cell_type": "markdown",
   "id": "fitted-suggestion",
   "metadata": {
    "papermill": {
     "duration": 0.036157,
     "end_time": "2021-02-07T00:14:53.025552",
     "exception": false,
     "start_time": "2021-02-07T00:14:52.989395",
     "status": "completed"
    },
    "tags": []
   },
   "source": [
    "# \"A Basic Neural Network: Differentiate Hand-Written Digits\"\n",
    "\n",
    "- badges: true\n",
    "- author: Akshith Sriram"
   ]
  },
  {
   "cell_type": "markdown",
   "id": "signal-flexibility",
   "metadata": {
    "papermill": {
     "duration": 0.034376,
     "end_time": "2021-02-07T00:14:53.112292",
     "exception": false,
     "start_time": "2021-02-07T00:14:53.077916",
     "status": "completed"
    },
    "tags": []
   },
   "source": [
    "### Key Objectives:\n",
    "- Building a neural network that differentiates two hand-written digits 3 and 8.\n",
    "- Comparing the results of this Neural Network (NN) to that of a Logistic Regression (LR) model.\n",
    "\n",
    "### Requirements:\n",
    "- 'Kudzu' : A neural network library that was designed during our course by [Univ.AI](www.univ.ai). \n",
    "- MNIST Database\n",
    "\n",
    "If MNIST is not installed, use the command `!pip install mnist` given below.\n",
    "It can be run both from the command line and Jupyter Notebook."
   ]
  },
  {
   "cell_type": "code",
   "execution_count": 1,
   "id": "british-texture",
   "metadata": {
    "execution": {
     "iopub.execute_input": "2021-02-07T00:14:53.185883Z",
     "iopub.status.busy": "2021-02-07T00:14:53.185183Z",
     "iopub.status.idle": "2021-02-07T00:14:54.862817Z",
     "shell.execute_reply": "2021-02-07T00:14:54.861696Z"
    },
    "papermill": {
     "duration": 1.720619,
     "end_time": "2021-02-07T00:14:54.862982",
     "exception": false,
     "start_time": "2021-02-07T00:14:53.142363",
     "status": "completed"
    },
    "tags": []
   },
   "outputs": [
    {
     "name": "stdout",
     "output_type": "stream",
     "text": [
      "Collecting mnist\r\n"
     ]
    },
    {
     "name": "stdout",
     "output_type": "stream",
     "text": [
      "  Downloading mnist-0.2.2-py2.py3-none-any.whl (3.5 kB)\r\n",
      "Requirement already satisfied: numpy in /opt/hostedtoolcache/Python/3.6.12/x64/lib/python3.6/site-packages (from mnist) (1.19.5)\r\n"
     ]
    },
    {
     "name": "stdout",
     "output_type": "stream",
     "text": [
      "Installing collected packages: mnist\r\n"
     ]
    },
    {
     "name": "stdout",
     "output_type": "stream",
     "text": [
      "Successfully installed mnist-0.2.2\r\n"
     ]
    }
   ],
   "source": [
    "!pip install mnist "
   ]
  },
  {
   "cell_type": "markdown",
   "id": "stunning-extra",
   "metadata": {
    "papermill": {
     "duration": 0.031474,
     "end_time": "2021-02-07T00:14:54.926591",
     "exception": false,
     "start_time": "2021-02-07T00:14:54.895117",
     "status": "completed"
    },
    "tags": []
   },
   "source": [
    "#### Importing necessary libraries"
   ]
  },
  {
   "cell_type": "code",
   "execution_count": 2,
   "id": "wooden-france",
   "metadata": {
    "execution": {
     "iopub.execute_input": "2021-02-07T00:14:55.000208Z",
     "iopub.status.busy": "2021-02-07T00:14:54.999487Z",
     "iopub.status.idle": "2021-02-07T00:14:55.612554Z",
     "shell.execute_reply": "2021-02-07T00:14:55.611943Z"
    },
    "papermill": {
     "duration": 0.655079,
     "end_time": "2021-02-07T00:14:55.612701",
     "exception": false,
     "start_time": "2021-02-07T00:14:54.957622",
     "status": "completed"
    },
    "tags": []
   },
   "outputs": [],
   "source": [
    "%load_ext autoreload\n",
    "%autoreload 2\n",
    "\n",
    "%matplotlib inline\n",
    "import matplotlib.pyplot as plt\n",
    "\n",
    "import numpy as np\n",
    "import pandas as pd"
   ]
  },
  {
   "cell_type": "markdown",
   "id": "stunning-physics",
   "metadata": {
    "papermill": {
     "duration": 0.032214,
     "end_time": "2021-02-07T00:14:55.678900",
     "exception": false,
     "start_time": "2021-02-07T00:14:55.646686",
     "status": "completed"
    },
    "tags": []
   },
   "source": [
    "### Preparing the Data"
   ]
  },
  {
   "cell_type": "code",
   "execution_count": 3,
   "id": "unauthorized-remainder",
   "metadata": {
    "execution": {
     "iopub.execute_input": "2021-02-07T00:14:55.750112Z",
     "iopub.status.busy": "2021-02-07T00:14:55.749475Z",
     "iopub.status.idle": "2021-02-07T00:14:55.760810Z",
     "shell.execute_reply": "2021-02-07T00:14:55.761516Z"
    },
    "papermill": {
     "duration": 0.050699,
     "end_time": "2021-02-07T00:14:55.761676",
     "exception": false,
     "start_time": "2021-02-07T00:14:55.710977",
     "status": "completed"
    },
    "tags": []
   },
   "outputs": [],
   "source": [
    "import mnist"
   ]
  },
  {
   "cell_type": "code",
   "execution_count": 4,
   "id": "correct-antarctica",
   "metadata": {
    "execution": {
     "iopub.execute_input": "2021-02-07T00:14:55.847242Z",
     "iopub.status.busy": "2021-02-07T00:14:55.837372Z",
     "iopub.status.idle": "2021-02-07T00:14:56.585357Z",
     "shell.execute_reply": "2021-02-07T00:14:56.585893Z"
    },
    "papermill": {
     "duration": 0.790934,
     "end_time": "2021-02-07T00:14:56.586077",
     "exception": false,
     "start_time": "2021-02-07T00:14:55.795143",
     "status": "completed"
    },
    "tags": []
   },
   "outputs": [],
   "source": [
    "train_images = mnist.train_images()\n",
    "train_labels = mnist.train_labels()"
   ]
  },
  {
   "cell_type": "code",
   "execution_count": 5,
   "id": "musical-prospect",
   "metadata": {
    "execution": {
     "iopub.execute_input": "2021-02-07T00:14:56.659539Z",
     "iopub.status.busy": "2021-02-07T00:14:56.658920Z",
     "iopub.status.idle": "2021-02-07T00:14:56.673059Z",
     "shell.execute_reply": "2021-02-07T00:14:56.673670Z"
    },
    "papermill": {
     "duration": 0.053249,
     "end_time": "2021-02-07T00:14:56.673824",
     "exception": false,
     "start_time": "2021-02-07T00:14:56.620575",
     "status": "completed"
    },
    "tags": []
   },
   "outputs": [
    {
     "data": {
      "text/plain": [
       "((60000, 28, 28), (60000,))"
      ]
     },
     "execution_count": 5,
     "metadata": {},
     "output_type": "execute_result"
    }
   ],
   "source": [
    "train_images.shape, train_labels.shape"
   ]
  },
  {
   "cell_type": "code",
   "execution_count": 6,
   "id": "preliminary-elizabeth",
   "metadata": {
    "execution": {
     "iopub.execute_input": "2021-02-07T00:14:56.761459Z",
     "iopub.status.busy": "2021-02-07T00:14:56.755014Z",
     "iopub.status.idle": "2021-02-07T00:14:57.035688Z",
     "shell.execute_reply": "2021-02-07T00:14:57.035014Z"
    },
    "papermill": {
     "duration": 0.33012,
     "end_time": "2021-02-07T00:14:57.035842",
     "exception": false,
     "start_time": "2021-02-07T00:14:56.705722",
     "status": "completed"
    },
    "tags": []
   },
   "outputs": [],
   "source": [
    "test_images = mnist.test_images()\n",
    "test_labels = mnist.test_labels()"
   ]
  },
  {
   "cell_type": "code",
   "execution_count": 7,
   "id": "acknowledged-oxygen",
   "metadata": {
    "execution": {
     "iopub.execute_input": "2021-02-07T00:14:57.130312Z",
     "iopub.status.busy": "2021-02-07T00:14:57.122787Z",
     "iopub.status.idle": "2021-02-07T00:14:57.133920Z",
     "shell.execute_reply": "2021-02-07T00:14:57.133386Z"
    },
    "papermill": {
     "duration": 0.054785,
     "end_time": "2021-02-07T00:14:57.134066",
     "exception": false,
     "start_time": "2021-02-07T00:14:57.079281",
     "status": "completed"
    },
    "tags": []
   },
   "outputs": [
    {
     "data": {
      "text/plain": [
       "((10000, 28, 28), (10000,))"
      ]
     },
     "execution_count": 7,
     "metadata": {},
     "output_type": "execute_result"
    }
   ],
   "source": [
    "test_images.shape, test_labels.shape"
   ]
  },
  {
   "cell_type": "code",
   "execution_count": 8,
   "id": "innovative-organic",
   "metadata": {
    "execution": {
     "iopub.execute_input": "2021-02-07T00:14:57.208661Z",
     "iopub.status.busy": "2021-02-07T00:14:57.207857Z",
     "iopub.status.idle": "2021-02-07T00:14:57.387594Z",
     "shell.execute_reply": "2021-02-07T00:14:57.388160Z"
    },
    "papermill": {
     "duration": 0.219655,
     "end_time": "2021-02-07T00:14:57.388385",
     "exception": false,
     "start_time": "2021-02-07T00:14:57.168730",
     "status": "completed"
    },
    "tags": []
   },
   "outputs": [
    {
     "name": "stdout",
     "output_type": "stream",
     "text": [
      "2\n"
     ]
    },
    {
     "data": {
      "text/plain": [
       "<matplotlib.image.AxesImage at 0x7ff9f007cf60>"
      ]
     },
     "execution_count": 8,
     "metadata": {},
     "output_type": "execute_result"
    },
    {
     "data": {
      "image/png": "[encoded data removed]",
      "text/plain": [
       "<Figure size 432x288 with 1 Axes>"
      ]
     },
     "metadata": {
      "needs_background": "light"
     },
     "output_type": "display_data"
    }
   ],
   "source": [
    "image_index = 7776 # You may select anything up to 60,000\n",
    "print(train_labels[image_index]) \n",
    "plt.imshow(train_images[image_index], cmap='Greys')"
   ]
  },
  {
   "cell_type": "markdown",
   "id": "facial-modem",
   "metadata": {
    "papermill": {
     "duration": 0.033661,
     "end_time": "2021-02-07T00:14:57.458774",
     "exception": false,
     "start_time": "2021-02-07T00:14:57.425113",
     "status": "completed"
    },
    "tags": []
   },
   "source": [
    "## Filter data to get 3 and 8 out"
   ]
  },
  {
   "cell_type": "code",
   "execution_count": 9,
   "id": "thousand-acquisition",
   "metadata": {
    "execution": {
     "iopub.execute_input": "2021-02-07T00:14:57.543989Z",
     "iopub.status.busy": "2021-02-07T00:14:57.543285Z",
     "iopub.status.idle": "2021-02-07T00:14:57.563214Z",
     "shell.execute_reply": "2021-02-07T00:14:57.560890Z"
    },
    "papermill": {
     "duration": 0.064307,
     "end_time": "2021-02-07T00:14:57.563559",
     "exception": false,
     "start_time": "2021-02-07T00:14:57.499252",
     "status": "completed"
    },
    "tags": []
   },
   "outputs": [],
   "source": [
    "train_filter = np.where((train_labels == 3 ) | (train_labels == 8))\n",
    "test_filter = np.where((test_labels == 3) | (test_labels == 8))\n",
    "X_train, y_train = train_images[train_filter], train_labels[train_filter]\n",
    "X_test, y_test = test_images[test_filter], test_labels[test_filter]"
   ]
  },
  {
   "cell_type": "markdown",
   "id": "ruled-access",
   "metadata": {
    "papermill": {
     "duration": 0.035133,
     "end_time": "2021-02-07T00:14:57.640676",
     "exception": false,
     "start_time": "2021-02-07T00:14:57.605543",
     "status": "completed"
    },
    "tags": []
   },
   "source": [
    "We normalize the pixel values in the 0 to 1 range"
   ]
  },
  {
   "cell_type": "code",
   "execution_count": 10,
   "id": "isolated-denver",
   "metadata": {
    "execution": {
     "iopub.execute_input": "2021-02-07T00:14:57.712385Z",
     "iopub.status.busy": "2021-02-07T00:14:57.711760Z",
     "iopub.status.idle": "2021-02-07T00:14:57.776592Z",
     "shell.execute_reply": "2021-02-07T00:14:57.776001Z"
    },
    "papermill": {
     "duration": 0.102444,
     "end_time": "2021-02-07T00:14:57.776741",
     "exception": false,
     "start_time": "2021-02-07T00:14:57.674297",
     "status": "completed"
    },
    "tags": []
   },
   "outputs": [],
   "source": [
    "X_train = X_train/255.\n",
    "X_test = X_test/255."
   ]
  },
  {
   "cell_type": "markdown",
   "id": "perfect-summary",
   "metadata": {
    "papermill": {
     "duration": 0.034896,
     "end_time": "2021-02-07T00:14:57.847088",
     "exception": false,
     "start_time": "2021-02-07T00:14:57.812192",
     "status": "completed"
    },
    "tags": []
   },
   "source": [
    "Setup the labels as 1 (when the digit is 3) and 0 (when the digit is 8)"
   ]
  },
  {
   "cell_type": "code",
   "execution_count": 11,
   "id": "personalized-growing",
   "metadata": {
    "execution": {
     "iopub.execute_input": "2021-02-07T00:14:57.921788Z",
     "iopub.status.busy": "2021-02-07T00:14:57.921014Z",
     "iopub.status.idle": "2021-02-07T00:14:57.932971Z",
     "shell.execute_reply": "2021-02-07T00:14:57.933486Z"
    },
    "papermill": {
     "duration": 0.052806,
     "end_time": "2021-02-07T00:14:57.933764",
     "exception": false,
     "start_time": "2021-02-07T00:14:57.880958",
     "status": "completed"
    },
    "tags": []
   },
   "outputs": [],
   "source": [
    "y_train = 1*(y_train==3)\n",
    "y_test = 1*(y_test==3)"
   ]
  },
  {
   "cell_type": "code",
   "execution_count": 12,
   "id": "considered-virgin",
   "metadata": {
    "execution": {
     "iopub.execute_input": "2021-02-07T00:14:58.007247Z",
     "iopub.status.busy": "2021-02-07T00:14:58.006625Z",
     "iopub.status.idle": "2021-02-07T00:14:58.019647Z",
     "shell.execute_reply": "2021-02-07T00:14:58.020193Z"
    },
    "papermill": {
     "duration": 0.051787,
     "end_time": "2021-02-07T00:14:58.020338",
     "exception": false,
     "start_time": "2021-02-07T00:14:57.968551",
     "status": "completed"
    },
    "tags": []
   },
   "outputs": [
    {
     "data": {
      "text/plain": [
       "((11982, 28, 28), (1984, 28, 28))"
      ]
     },
     "execution_count": 12,
     "metadata": {},
     "output_type": "execute_result"
    }
   ],
   "source": [
    "X_train.shape, X_test.shape"
   ]
  },
  {
   "cell_type": "markdown",
   "id": "civilian-mobile",
   "metadata": {
    "papermill": {
     "duration": 0.03552,
     "end_time": "2021-02-07T00:14:58.090937",
     "exception": false,
     "start_time": "2021-02-07T00:14:58.055417",
     "status": "completed"
    },
    "tags": []
   },
   "source": [
    "### Reshape the input data to create a linear array"
   ]
  },
  {
   "cell_type": "code",
   "execution_count": 13,
   "id": "colonial-adams",
   "metadata": {
    "execution": {
     "iopub.execute_input": "2021-02-07T00:14:58.643479Z",
     "iopub.status.busy": "2021-02-07T00:14:58.642749Z",
     "iopub.status.idle": "2021-02-07T00:14:58.659723Z",
     "shell.execute_reply": "2021-02-07T00:14:58.659160Z"
    },
    "papermill": {
     "duration": 0.531371,
     "end_time": "2021-02-07T00:14:58.659861",
     "exception": false,
     "start_time": "2021-02-07T00:14:58.128490",
     "status": "completed"
    },
    "tags": []
   },
   "outputs": [
    {
     "data": {
      "text/plain": [
       "((11982, 784), (1984, 784))"
      ]
     },
     "execution_count": 13,
     "metadata": {},
     "output_type": "execute_result"
    }
   ],
   "source": [
    "X_train = X_train.reshape(X_train.shape[0], -1)\n",
    "X_test = X_test.reshape(X_test.shape[0], -1)\n",
    "X_train.shape, X_test.shape"
   ]
  },
  {
   "cell_type": "markdown",
   "id": "smart-details",
   "metadata": {
    "papermill": {
     "duration": 0.035833,
     "end_time": "2021-02-07T00:14:58.732988",
     "exception": false,
     "start_time": "2021-02-07T00:14:58.697155",
     "status": "completed"
    },
    "tags": []
   },
   "source": [
    "### Importing appropriate functions from 'Kudzu'"
   ]
  },
  {
   "cell_type": "code",
   "execution_count": 14,
   "id": "celtic-trial",
   "metadata": {
    "execution": {
     "iopub.execute_input": "2021-02-07T00:14:58.814060Z",
     "iopub.status.busy": "2021-02-07T00:14:58.806066Z",
     "iopub.status.idle": "2021-02-07T00:14:58.826348Z",
     "shell.execute_reply": "2021-02-07T00:14:58.825772Z"
    },
    "papermill": {
     "duration": 0.060149,
     "end_time": "2021-02-07T00:14:58.826479",
     "exception": false,
     "start_time": "2021-02-07T00:14:58.766330",
     "status": "completed"
    },
    "tags": []
   },
   "outputs": [],
   "source": [
    "from kudzu.layer import Sigmoid\n",
    "from kudzu.layer import Relu\n",
    "from kudzu.layer import Affine, Sigmoid\n",
    "\n",
    "from kudzu.model import Model\n",
    "from kudzu.train import Learner\n",
    "from kudzu.optim import GD\n",
    "from kudzu.data import Data, Dataloader, Sampler\n",
    "\n",
    "from kudzu.callbacks import AccCallback\n",
    "from kudzu.callbacks import ClfCallback\n",
    "\n",
    "from kudzu.loss import MSE"
   ]
  },
  {
   "cell_type": "markdown",
   "id": "coupled-customer",
   "metadata": {
    "papermill": {
     "duration": 0.034614,
     "end_time": "2021-02-07T00:14:58.895607",
     "exception": false,
     "start_time": "2021-02-07T00:14:58.860993",
     "status": "completed"
    },
    "tags": []
   },
   "source": [
    "### Let us create a `Config` class, to store important parameters. \n",
    "This class essentially plays the role of a dictionary."
   ]
  },
  {
   "cell_type": "code",
   "execution_count": 15,
   "id": "young-ceiling",
   "metadata": {
    "execution": {
     "iopub.execute_input": "2021-02-07T00:14:58.981789Z",
     "iopub.status.busy": "2021-02-07T00:14:58.981030Z",
     "iopub.status.idle": "2021-02-07T00:14:58.988779Z",
     "shell.execute_reply": "2021-02-07T00:14:58.988250Z"
    },
    "papermill": {
     "duration": 0.057402,
     "end_time": "2021-02-07T00:14:58.988937",
     "exception": false,
     "start_time": "2021-02-07T00:14:58.931535",
     "status": "completed"
    },
    "tags": []
   },
   "outputs": [],
   "source": [
    "class Config:\n",
    "    pass\n",
    "config = Config()\n",
    "config.lr = 0.001\n",
    "config.num_epochs = 251\n",
    "config.bs = 50"
   ]
  },
  {
   "cell_type": "markdown",
   "id": "according-mandate",
   "metadata": {
    "papermill": {
     "duration": 0.034675,
     "end_time": "2021-02-07T00:14:59.058637",
     "exception": false,
     "start_time": "2021-02-07T00:14:59.023962",
     "status": "completed"
    },
    "tags": []
   },
   "source": [
    "### Initializing data to the variables"
   ]
  },
  {
   "cell_type": "code",
   "execution_count": 16,
   "id": "academic-disposition",
   "metadata": {
    "execution": {
     "iopub.execute_input": "2021-02-07T00:14:59.148288Z",
     "iopub.status.busy": "2021-02-07T00:14:59.147605Z",
     "iopub.status.idle": "2021-02-07T00:14:59.161916Z",
     "shell.execute_reply": "2021-02-07T00:14:59.162496Z"
    },
    "papermill": {
     "duration": 0.064652,
     "end_time": "2021-02-07T00:14:59.162668",
     "exception": false,
     "start_time": "2021-02-07T00:14:59.098016",
     "status": "completed"
    },
    "tags": []
   },
   "outputs": [],
   "source": [
    "data = Data(X_train, y_train.reshape(-1,1))\n",
    "sampler = Sampler(data, config.bs, shuffle=True)\n",
    "\n",
    "dl = Dataloader(data, sampler)\n",
    "\n",
    "opt = GD(config.lr)\n",
    "loss = MSE()"
   ]
  },
  {
   "cell_type": "code",
   "execution_count": 17,
   "id": "featured-commission",
   "metadata": {
    "execution": {
     "iopub.execute_input": "2021-02-07T00:14:59.255260Z",
     "iopub.status.busy": "2021-02-07T00:14:59.249729Z",
     "iopub.status.idle": "2021-02-07T00:14:59.257904Z",
     "shell.execute_reply": "2021-02-07T00:14:59.257378Z"
    },
    "papermill": {
     "duration": 0.057736,
     "end_time": "2021-02-07T00:14:59.258035",
     "exception": false,
     "start_time": "2021-02-07T00:14:59.200299",
     "status": "completed"
    },
    "tags": []
   },
   "outputs": [],
   "source": [
    "training_xdata = X_train\n",
    "testing_xdata = X_test\n",
    "training_ydata = y_train.reshape(-1,1)\n",
    "testing_ydata = y_test.reshape(-1,1)"
   ]
  },
  {
   "cell_type": "markdown",
   "id": "played-safety",
   "metadata": {
    "papermill": {
     "duration": 0.034406,
     "end_time": "2021-02-07T00:14:59.327740",
     "exception": false,
     "start_time": "2021-02-07T00:14:59.293334",
     "status": "completed"
    },
    "tags": []
   },
   "source": [
    "### Running Models with the Training data\n",
    "Details about the network layers:\n",
    "- A first affine layer has 784 inputs and does 100 affine transforms. These are followed by a Relu\n",
    "- A second affine layer has 100 inputs from the 100 activations of the past layer, and does 100 affine transforms. These are followed by a Relu\n",
    "- A third affine layer has 100 activations and does 2 affine transformations to create an embedding for visualization. There is no non-linearity here.\n",
    "- A final \"logistic regression\" which has an affine transform from 2 inputs to 1 output, which is squeezed through a sigmoid.\n",
    "\n",
    "Help taken from Anshuman's Notebook."
   ]
  },
  {
   "cell_type": "code",
   "execution_count": 18,
   "id": "asian-bankruptcy",
   "metadata": {
    "execution": {
     "iopub.execute_input": "2021-02-07T00:14:59.413180Z",
     "iopub.status.busy": "2021-02-07T00:14:59.412518Z",
     "iopub.status.idle": "2021-02-07T00:14:59.428495Z",
     "shell.execute_reply": "2021-02-07T00:14:59.429112Z"
    },
    "papermill": {
     "duration": 0.061845,
     "end_time": "2021-02-07T00:14:59.429264",
     "exception": false,
     "start_time": "2021-02-07T00:14:59.367419",
     "status": "completed"
    },
    "tags": []
   },
   "outputs": [],
   "source": [
    "# layers for the Neural Network\n",
    "layers = [Affine(\"first\", 784, 100), Relu(\"first\"), Affine(\"second\", 100, 100), Relu(\"second\"), Affine(\"third\", 100, 2), Affine(\"final\", 2, 1), Sigmoid(\"final\")]\n",
    "model_nn = Model(layers)\n",
    "\n",
    "# layers for the Logistic Regression\n",
    "layers_lr = [Affine(\"logits\", 784, 1), Sigmoid(\"sigmoid\")]\n",
    "model_lr = Model(layers_lr)"
   ]
  },
  {
   "cell_type": "code",
   "execution_count": 19,
   "id": "removed-butler",
   "metadata": {
    "execution": {
     "iopub.execute_input": "2021-02-07T00:14:59.509925Z",
     "iopub.status.busy": "2021-02-07T00:14:59.509258Z",
     "iopub.status.idle": "2021-02-07T00:14:59.520270Z",
     "shell.execute_reply": "2021-02-07T00:14:59.519699Z"
    },
    "papermill": {
     "duration": 0.054232,
     "end_time": "2021-02-07T00:14:59.520412",
     "exception": false,
     "start_time": "2021-02-07T00:14:59.466180",
     "status": "completed"
    },
    "tags": []
   },
   "outputs": [],
   "source": [
    "# suffix _nn stands for Neural Network.\n",
    "learner_nn = Learner(loss, model_nn, opt, config.num_epochs)\n",
    "acc_nn = ClfCallback(learner_nn, config.bs, training_xdata , testing_xdata, training_ydata, testing_ydata)\n",
    "learner_nn.set_callbacks([acc_nn])"
   ]
  },
  {
   "cell_type": "code",
   "execution_count": 20,
   "id": "conceptual-throw",
   "metadata": {
    "execution": {
     "iopub.execute_input": "2021-02-07T00:14:59.606646Z",
     "iopub.status.busy": "2021-02-07T00:14:59.605716Z",
     "iopub.status.idle": "2021-02-07T00:17:24.982365Z",
     "shell.execute_reply": "2021-02-07T00:17:24.983290Z"
    },
    "papermill": {
     "duration": 145.427415,
     "end_time": "2021-02-07T00:17:24.983456",
     "exception": false,
     "start_time": "2021-02-07T00:14:59.556041",
     "status": "completed"
    },
    "tags": []
   },
   "outputs": [
    {
     "name": "stdout",
     "output_type": "stream",
     "text": [
      "====== Neural Network ======\n"
     ]
    },
    {
     "name": "stdout",
     "output_type": "stream",
     "text": [
      "Epoch 0, Loss 0.1857\n",
      "Training Accuracy: 0.8307, Testing Accuracy: 0.8508\n",
      "\n"
     ]
    },
    {
     "name": "stdout",
     "output_type": "stream",
     "text": [
      "Epoch 10, Loss 0.0461\n",
      "Training Accuracy: 0.9504, Testing Accuracy: 0.9587\n",
      "\n"
     ]
    },
    {
     "name": "stdout",
     "output_type": "stream",
     "text": [
      "Epoch 20, Loss 0.035\n",
      "Training Accuracy: 0.9603, Testing Accuracy: 0.9652\n",
      "\n"
     ]
    },
    {
     "name": "stdout",
     "output_type": "stream",
     "text": [
      "Epoch 30, Loss 0.0303\n",
      "Training Accuracy: 0.9660, Testing Accuracy: 0.9693\n",
      "\n"
     ]
    },
    {
     "name": "stdout",
     "output_type": "stream",
     "text": [
      "Epoch 40, Loss 0.0274\n",
      "Training Accuracy: 0.9694, Testing Accuracy: 0.9718\n",
      "\n"
     ]
    },
    {
     "name": "stdout",
     "output_type": "stream",
     "text": [
      "Epoch 50, Loss 0.0254\n",
      "Training Accuracy: 0.9714, Testing Accuracy: 0.9733\n",
      "\n"
     ]
    },
    {
     "name": "stdout",
     "output_type": "stream",
     "text": [
      "Epoch 60, Loss 0.0238\n",
      "Training Accuracy: 0.9729, Testing Accuracy: 0.9743\n",
      "\n"
     ]
    },
    {
     "name": "stdout",
     "output_type": "stream",
     "text": [
      "Epoch 70, Loss 0.0225\n",
      "Training Accuracy: 0.9744, Testing Accuracy: 0.9758\n",
      "\n"
     ]
    },
    {
     "name": "stdout",
     "output_type": "stream",
     "text": [
      "Epoch 80, Loss 0.0214\n",
      "Training Accuracy: 0.9758, Testing Accuracy: 0.9768\n",
      "\n"
     ]
    },
    {
     "name": "stdout",
     "output_type": "stream",
     "text": [
      "Epoch 90, Loss 0.0204\n",
      "Training Accuracy: 0.9770, Testing Accuracy: 0.9788\n",
      "\n"
     ]
    },
    {
     "name": "stdout",
     "output_type": "stream",
     "text": [
      "Epoch 100, Loss 0.0195\n",
      "Training Accuracy: 0.9787, Testing Accuracy: 0.9773\n",
      "\n"
     ]
    },
    {
     "name": "stdout",
     "output_type": "stream",
     "text": [
      "Epoch 110, Loss 0.0187\n",
      "Training Accuracy: 0.9795, Testing Accuracy: 0.9793\n",
      "\n"
     ]
    },
    {
     "name": "stdout",
     "output_type": "stream",
     "text": [
      "Epoch 120, Loss 0.018\n",
      "Training Accuracy: 0.9801, Testing Accuracy: 0.9798\n",
      "\n"
     ]
    },
    {
     "name": "stdout",
     "output_type": "stream",
     "text": [
      "Epoch 130, Loss 0.0173\n",
      "Training Accuracy: 0.9811, Testing Accuracy: 0.9808\n",
      "\n"
     ]
    },
    {
     "name": "stdout",
     "output_type": "stream",
     "text": [
      "Epoch 140, Loss 0.0166\n",
      "Training Accuracy: 0.9822, Testing Accuracy: 0.9808\n",
      "\n"
     ]
    },
    {
     "name": "stdout",
     "output_type": "stream",
     "text": [
      "Epoch 150, Loss 0.016\n",
      "Training Accuracy: 0.9827, Testing Accuracy: 0.9814\n",
      "\n"
     ]
    },
    {
     "name": "stdout",
     "output_type": "stream",
     "text": [
      "Epoch 160, Loss 0.0155\n",
      "Training Accuracy: 0.9838, Testing Accuracy: 0.9803\n",
      "\n"
     ]
    },
    {
     "name": "stdout",
     "output_type": "stream",
     "text": [
      "Epoch 170, Loss 0.015\n",
      "Training Accuracy: 0.9844, Testing Accuracy: 0.9814\n",
      "\n"
     ]
    },
    {
     "name": "stdout",
     "output_type": "stream",
     "text": [
      "Epoch 180, Loss 0.0145\n",
      "Training Accuracy: 0.9851, Testing Accuracy: 0.9814\n",
      "\n"
     ]
    },
    {
     "name": "stdout",
     "output_type": "stream",
     "text": [
      "Epoch 190, Loss 0.014\n",
      "Training Accuracy: 0.9856, Testing Accuracy: 0.9824\n",
      "\n"
     ]
    },
    {
     "name": "stdout",
     "output_type": "stream",
     "text": [
      "Epoch 200, Loss 0.0136\n",
      "Training Accuracy: 0.9860, Testing Accuracy: 0.9824\n",
      "\n"
     ]
    },
    {
     "name": "stdout",
     "output_type": "stream",
     "text": [
      "Epoch 210, Loss 0.0132\n",
      "Training Accuracy: 0.9867, Testing Accuracy: 0.9834\n",
      "\n"
     ]
    },
    {
     "name": "stdout",
     "output_type": "stream",
     "text": [
      "Epoch 220, Loss 0.0128\n",
      "Training Accuracy: 0.9873, Testing Accuracy: 0.9834\n",
      "\n"
     ]
    },
    {
     "name": "stdout",
     "output_type": "stream",
     "text": [
      "Epoch 230, Loss 0.0124\n",
      "Training Accuracy: 0.9881, Testing Accuracy: 0.9829\n",
      "\n"
     ]
    },
    {
     "name": "stdout",
     "output_type": "stream",
     "text": [
      "Epoch 240, Loss 0.0121\n",
      "Training Accuracy: 0.9885, Testing Accuracy: 0.9834\n",
      "\n"
     ]
    },
    {
     "name": "stdout",
     "output_type": "stream",
     "text": [
      "Epoch 250, Loss 0.0118\n",
      "Training Accuracy: 0.9889, Testing Accuracy: 0.9839\n",
      "\n"
     ]
    },
    {
     "data": {
      "text/plain": [
       "0.0351122802971053"
      ]
     },
     "execution_count": 20,
     "metadata": {},
     "output_type": "execute_result"
    }
   ],
   "source": [
    "print(\"====== Neural Network ======\")\n",
    "learner_nn.train_loop(dl)"
   ]
  },
  {
   "cell_type": "markdown",
   "id": "competent-suffering",
   "metadata": {
    "papermill": {
     "duration": 0.043974,
     "end_time": "2021-02-07T00:17:25.072415",
     "exception": false,
     "start_time": "2021-02-07T00:17:25.028441",
     "status": "completed"
    },
    "tags": []
   },
   "source": [
    "### Logistic Regression based Implementation."
   ]
  },
  {
   "cell_type": "code",
   "execution_count": 21,
   "id": "qualified-psychiatry",
   "metadata": {
    "execution": {
     "iopub.execute_input": "2021-02-07T00:17:25.163963Z",
     "iopub.status.busy": "2021-02-07T00:17:25.163135Z",
     "iopub.status.idle": "2021-02-07T00:17:25.177545Z",
     "shell.execute_reply": "2021-02-07T00:17:25.176613Z"
    },
    "papermill": {
     "duration": 0.060064,
     "end_time": "2021-02-07T00:17:25.177743",
     "exception": false,
     "start_time": "2021-02-07T00:17:25.117679",
     "status": "completed"
    },
    "tags": []
   },
   "outputs": [],
   "source": [
    "learner_lr = Learner(loss, model_lr, opt, config.num_epochs)\n",
    "acc_lr = ClfCallback(learner_lr, config.bs, training_xdata , testing_xdata, training_ydata, testing_ydata)\n",
    "learner_lr.set_callbacks([acc_lr])"
   ]
  },
  {
   "cell_type": "code",
   "execution_count": 22,
   "id": "average-outside",
   "metadata": {
    "execution": {
     "iopub.execute_input": "2021-02-07T00:17:25.282044Z",
     "iopub.status.busy": "2021-02-07T00:17:25.280653Z",
     "iopub.status.idle": "2021-02-07T00:17:45.745012Z",
     "shell.execute_reply": "2021-02-07T00:17:45.745841Z"
    },
    "papermill": {
     "duration": 20.519361,
     "end_time": "2021-02-07T00:17:45.746033",
     "exception": false,
     "start_time": "2021-02-07T00:17:25.226672",
     "status": "completed"
    },
    "tags": []
   },
   "outputs": [
    {
     "name": "stdout",
     "output_type": "stream",
     "text": [
      "====== Logistic Regression ======\n",
      "Epoch 0, Loss 0.2532\n",
      "Training Accuracy: 0.6185, Testing Accuracy: 0.5832\n",
      "\n"
     ]
    },
    {
     "name": "stdout",
     "output_type": "stream",
     "text": [
      "Epoch 10, Loss 0.1073\n",
      "Training Accuracy: 0.8983, Testing Accuracy: 0.9158\n",
      "\n"
     ]
    },
    {
     "name": "stdout",
     "output_type": "stream",
     "text": [
      "Epoch 20, Loss 0.0811\n",
      "Training Accuracy: 0.9240, Testing Accuracy: 0.9350\n",
      "\n"
     ]
    },
    {
     "name": "stdout",
     "output_type": "stream",
     "text": [
      "Epoch 30, Loss 0.0693\n",
      "Training Accuracy: 0.9336, Testing Accuracy: 0.9461\n",
      "\n"
     ]
    },
    {
     "name": "stdout",
     "output_type": "stream",
     "text": [
      "Epoch 40, Loss 0.0624\n",
      "Training Accuracy: 0.9400, Testing Accuracy: 0.9526\n",
      "\n"
     ]
    },
    {
     "name": "stdout",
     "output_type": "stream",
     "text": [
      "Epoch 50, Loss 0.0577\n",
      "Training Accuracy: 0.9439, Testing Accuracy: 0.9556\n",
      "\n"
     ]
    },
    {
     "name": "stdout",
     "output_type": "stream",
     "text": [
      "Epoch 60, Loss 0.0543\n",
      "Training Accuracy: 0.9467, Testing Accuracy: 0.9597\n",
      "\n"
     ]
    },
    {
     "name": "stdout",
     "output_type": "stream",
     "text": [
      "Epoch 70, Loss 0.0516\n",
      "Training Accuracy: 0.9486, Testing Accuracy: 0.9617\n",
      "\n"
     ]
    },
    {
     "name": "stdout",
     "output_type": "stream",
     "text": [
      "Epoch 80, Loss 0.0495\n",
      "Training Accuracy: 0.9501, Testing Accuracy: 0.9627\n",
      "\n"
     ]
    },
    {
     "name": "stdout",
     "output_type": "stream",
     "text": [
      "Epoch 90, Loss 0.0478\n",
      "Training Accuracy: 0.9513, Testing Accuracy: 0.9637\n",
      "\n"
     ]
    },
    {
     "name": "stdout",
     "output_type": "stream",
     "text": [
      "Epoch 100, Loss 0.0464\n",
      "Training Accuracy: 0.9523, Testing Accuracy: 0.9642\n",
      "\n"
     ]
    },
    {
     "name": "stdout",
     "output_type": "stream",
     "text": [
      "Epoch 110, Loss 0.0451\n",
      "Training Accuracy: 0.9530, Testing Accuracy: 0.9637\n",
      "\n"
     ]
    },
    {
     "name": "stdout",
     "output_type": "stream",
     "text": [
      "Epoch 120, Loss 0.044\n",
      "Training Accuracy: 0.9542, Testing Accuracy: 0.9632\n",
      "\n"
     ]
    },
    {
     "name": "stdout",
     "output_type": "stream",
     "text": [
      "Epoch 130, Loss 0.0431\n",
      "Training Accuracy: 0.9547, Testing Accuracy: 0.9637\n",
      "\n"
     ]
    },
    {
     "name": "stdout",
     "output_type": "stream",
     "text": [
      "Epoch 140, Loss 0.0423\n",
      "Training Accuracy: 0.9554, Testing Accuracy: 0.9642\n",
      "\n"
     ]
    },
    {
     "name": "stdout",
     "output_type": "stream",
     "text": [
      "Epoch 150, Loss 0.0415\n",
      "Training Accuracy: 0.9563, Testing Accuracy: 0.9647\n",
      "\n"
     ]
    },
    {
     "name": "stdout",
     "output_type": "stream",
     "text": [
      "Epoch 160, Loss 0.0408\n",
      "Training Accuracy: 0.9569, Testing Accuracy: 0.9647\n",
      "\n"
     ]
    },
    {
     "name": "stdout",
     "output_type": "stream",
     "text": [
      "Epoch 170, Loss 0.0402\n",
      "Training Accuracy: 0.9579, Testing Accuracy: 0.9647\n",
      "\n"
     ]
    },
    {
     "name": "stdout",
     "output_type": "stream",
     "text": [
      "Epoch 180, Loss 0.0396\n",
      "Training Accuracy: 0.9581, Testing Accuracy: 0.9652\n",
      "\n"
     ]
    },
    {
     "name": "stdout",
     "output_type": "stream",
     "text": [
      "Epoch 190, Loss 0.0391\n",
      "Training Accuracy: 0.9584, Testing Accuracy: 0.9657\n",
      "\n"
     ]
    },
    {
     "name": "stdout",
     "output_type": "stream",
     "text": [
      "Epoch 200, Loss 0.0386\n",
      "Training Accuracy: 0.9589, Testing Accuracy: 0.9657\n",
      "\n"
     ]
    },
    {
     "name": "stdout",
     "output_type": "stream",
     "text": [
      "Epoch 210, Loss 0.0382\n",
      "Training Accuracy: 0.9594, Testing Accuracy: 0.9657\n",
      "\n"
     ]
    },
    {
     "name": "stdout",
     "output_type": "stream",
     "text": [
      "Epoch 220, Loss 0.0377\n",
      "Training Accuracy: 0.9599, Testing Accuracy: 0.9657\n",
      "\n"
     ]
    },
    {
     "name": "stdout",
     "output_type": "stream",
     "text": [
      "Epoch 230, Loss 0.0374\n",
      "Training Accuracy: 0.9603, Testing Accuracy: 0.9662\n",
      "\n"
     ]
    },
    {
     "name": "stdout",
     "output_type": "stream",
     "text": [
      "Epoch 240, Loss 0.037\n",
      "Training Accuracy: 0.9608, Testing Accuracy: 0.9657\n",
      "\n"
     ]
    },
    {
     "name": "stdout",
     "output_type": "stream",
     "text": [
      "Epoch 250, Loss 0.0366\n",
      "Training Accuracy: 0.9614, Testing Accuracy: 0.9652\n",
      "\n"
     ]
    },
    {
     "data": {
      "text/plain": [
       "0.06526507675355858"
      ]
     },
     "execution_count": 22,
     "metadata": {},
     "output_type": "execute_result"
    }
   ],
   "source": [
    "print(\"====== Logistic Regression ======\")\n",
    "learner_lr.train_loop(dl)"
   ]
  },
  {
   "cell_type": "markdown",
   "id": "adjusted-possible",
   "metadata": {
    "papermill": {
     "duration": 0.050848,
     "end_time": "2021-02-07T00:17:45.848361",
     "exception": false,
     "start_time": "2021-02-07T00:17:45.797513",
     "status": "completed"
    },
    "tags": []
   },
   "source": [
    "### Comparing results of NN and LR"
   ]
  },
  {
   "cell_type": "code",
   "execution_count": 23,
   "id": "mental-multimedia",
   "metadata": {
    "execution": {
     "iopub.execute_input": "2021-02-07T00:17:45.959719Z",
     "iopub.status.busy": "2021-02-07T00:17:45.958174Z",
     "iopub.status.idle": "2021-02-07T00:17:46.247234Z",
     "shell.execute_reply": "2021-02-07T00:17:46.245961Z"
    },
    "papermill": {
     "duration": 0.348154,
     "end_time": "2021-02-07T00:17:46.247425",
     "exception": false,
     "start_time": "2021-02-07T00:17:45.899271",
     "status": "completed"
    },
    "tags": []
   },
   "outputs": [
    {
     "data": {
      "text/plain": [
       "<matplotlib.legend.Legend at 0x7ff9e28d6860>"
      ]
     },
     "execution_count": 23,
     "metadata": {},
     "output_type": "execute_result"
    },
    {
     "data": {
      "image/png": "[encoded data removed]",
      "text/plain": [
       "<Figure size 1080x720 with 1 Axes>"
      ]
     },
     "metadata": {
      "needs_background": "light"
     },
     "output_type": "display_data"
    }
   ],
   "source": [
    "plt.figure(figsize=(15,10))\n",
    "\n",
    "# Neural Network plots\n",
    "plt.plot(acc_nn.accuracies, 'r-', label = \"Training Accuracies - NN\")\n",
    "plt.plot(acc_nn.test_accuracies, 'g-', label = \"Testing Accuracies - NN\")\n",
    "\n",
    "# Logistic Regression plots\n",
    "plt.plot(acc_lr.accuracies, 'k-', label = \"Training Accuracies - LR\")\n",
    "plt.plot(acc_lr.test_accuracies, 'b-', label = \"Testing Accuracies - LR\")\n",
    "\n",
    "plt.ylim(0.8, 1)\n",
    "\n",
    "plt.legend()\n",
    "\n"
   ]
  },
  {
   "cell_type": "markdown",
   "id": "sexual-flesh",
   "metadata": {
    "papermill": {
     "duration": 0.051316,
     "end_time": "2021-02-07T00:17:46.353133",
     "exception": false,
     "start_time": "2021-02-07T00:17:46.301817",
     "status": "completed"
    },
    "tags": []
   },
   "source": [
    "### From the plot, we can observe the following:\n",
    "- Neural Network achieves higher accuracy than the Logistic Regression model.\n",
    "- This apparently, is because of overfitting, i.e. NN captures more noise than data.\n",
    "- Testing accuracy of NN drops below the Training accuracy at higher epochs. This explains the over-fitting on training data.\n",
    "- Logistic Regression gives a reliable accuracy, without the above mentioned problem.\n"
   ]
  },
  {
   "cell_type": "markdown",
   "id": "institutional-pacific",
   "metadata": {
    "papermill": {
     "duration": 0.053262,
     "end_time": "2021-02-07T00:17:46.459923",
     "exception": false,
     "start_time": "2021-02-07T00:17:46.406661",
     "status": "completed"
    },
    "tags": []
   },
   "source": [
    "### Moving till the last but one layer (excluding it).\n",
    "#### Plotting the outputs of this layer of the NN."
   ]
  },
  {
   "cell_type": "code",
   "execution_count": 24,
   "id": "economic-server",
   "metadata": {
    "execution": {
     "iopub.execute_input": "2021-02-07T00:17:46.593776Z",
     "iopub.status.busy": "2021-02-07T00:17:46.585393Z",
     "iopub.status.idle": "2021-02-07T00:17:46.596482Z",
     "shell.execute_reply": "2021-02-07T00:17:46.595929Z"
    },
    "papermill": {
     "duration": 0.070902,
     "end_time": "2021-02-07T00:17:46.596616",
     "exception": false,
     "start_time": "2021-02-07T00:17:46.525714",
     "status": "completed"
    },
    "tags": []
   },
   "outputs": [],
   "source": [
    "model_new = Model(layers[:-2])"
   ]
  },
  {
   "cell_type": "code",
   "execution_count": 25,
   "id": "varied-upgrade",
   "metadata": {
    "execution": {
     "iopub.execute_input": "2021-02-07T00:17:46.710823Z",
     "iopub.status.busy": "2021-02-07T00:17:46.710036Z",
     "iopub.status.idle": "2021-02-07T00:17:46.739072Z",
     "shell.execute_reply": "2021-02-07T00:17:46.739838Z"
    },
    "papermill": {
     "duration": 0.088916,
     "end_time": "2021-02-07T00:17:46.740030",
     "exception": false,
     "start_time": "2021-02-07T00:17:46.651114",
     "status": "completed"
    },
    "tags": []
   },
   "outputs": [],
   "source": [
    "plot_testing = model_new(testing_xdata)"
   ]
  },
  {
   "cell_type": "code",
   "execution_count": 26,
   "id": "specific-handling",
   "metadata": {
    "execution": {
     "iopub.execute_input": "2021-02-07T00:17:46.855010Z",
     "iopub.status.busy": "2021-02-07T00:17:46.854333Z",
     "iopub.status.idle": "2021-02-07T00:17:47.083096Z",
     "shell.execute_reply": "2021-02-07T00:17:47.082549Z"
    },
    "papermill": {
     "duration": 0.289601,
     "end_time": "2021-02-07T00:17:47.083243",
     "exception": false,
     "start_time": "2021-02-07T00:17:46.793642",
     "status": "completed"
    },
    "tags": []
   },
   "outputs": [
    {
     "data": {
      "text/plain": [
       "Text(0.5, 1.0, 'Outputs')"
      ]
     },
     "execution_count": 26,
     "metadata": {},
     "output_type": "execute_result"
    },
    {
     "data": {
      "image/png": "[encoded data removed]",
      "text/plain": [
       "<Figure size 576x504 with 1 Axes>"
      ]
     },
     "metadata": {
      "needs_background": "light"
     },
     "output_type": "display_data"
    }
   ],
   "source": [
    "plt.figure(figsize=(8,7))\n",
    "plt.scatter(plot_testing[:,0], plot_testing[:,1], alpha = 0.1, c = y_test.ravel());\n",
    "plt.title('Outputs')"
   ]
  },
  {
   "cell_type": "markdown",
   "id": "described-knowing",
   "metadata": {
    "papermill": {
     "duration": 0.055685,
     "end_time": "2021-02-07T00:17:47.194640",
     "exception": false,
     "start_time": "2021-02-07T00:17:47.138955",
     "status": "completed"
    },
    "tags": []
   },
   "source": [
    "### Plotting probability contours"
   ]
  },
  {
   "cell_type": "code",
   "execution_count": 27,
   "id": "needed-growing",
   "metadata": {
    "execution": {
     "iopub.execute_input": "2021-02-07T00:17:47.314915Z",
     "iopub.status.busy": "2021-02-07T00:17:47.314175Z",
     "iopub.status.idle": "2021-02-07T00:17:47.330805Z",
     "shell.execute_reply": "2021-02-07T00:17:47.330251Z"
    },
    "papermill": {
     "duration": 0.077325,
     "end_time": "2021-02-07T00:17:47.330936",
     "exception": false,
     "start_time": "2021-02-07T00:17:47.253611",
     "status": "completed"
    },
    "tags": []
   },
   "outputs": [],
   "source": [
    "model_prob = Model(layers[-2:]) "
   ]
  },
  {
   "cell_type": "code",
   "execution_count": 28,
   "id": "introductory-enforcement",
   "metadata": {
    "execution": {
     "iopub.execute_input": "2021-02-07T00:17:47.473350Z",
     "iopub.status.busy": "2021-02-07T00:17:47.472639Z",
     "iopub.status.idle": "2021-02-07T00:17:47.487613Z",
     "shell.execute_reply": "2021-02-07T00:17:47.488187Z"
    },
    "papermill": {
     "duration": 0.102078,
     "end_time": "2021-02-07T00:17:47.488360",
     "exception": false,
     "start_time": "2021-02-07T00:17:47.386282",
     "status": "completed"
    },
    "tags": []
   },
   "outputs": [],
   "source": [
    "# Adjust the x and y ranges according to the above generated plot.\n",
    "x_range = np.linspace(-4, 1, 100) \n",
    "y_range = np.linspace(-6, 6, 100) \n",
    "x_grid, y_grid = np.meshgrid(x_range, y_range) # x_grid and y_grig are of size 100 X 100\n",
    "\n",
    "# converting x_grid and y_grid to continuous arrays\n",
    "x_grid_flat = np.ravel(x_grid)\n",
    "y_grid_flat = np.ravel(y_grid)\n",
    "\n",
    "# The last layer of the current model takes two columns as input. Hence transpose of np.vstack() is required.\n",
    "X = np.vstack((x_grid_flat, y_grid_flat)).T\n",
    "\n",
    "# x_grid and y_grid are of size 100 x 100\n",
    "probability_contour = model_prob(X).reshape(100,100) "
   ]
  },
  {
   "cell_type": "code",
   "execution_count": 29,
   "id": "understood-landing",
   "metadata": {
    "execution": {
     "iopub.execute_input": "2021-02-07T00:17:47.609670Z",
     "iopub.status.busy": "2021-02-07T00:17:47.609024Z",
     "iopub.status.idle": "2021-02-07T00:17:47.899552Z",
     "shell.execute_reply": "2021-02-07T00:17:47.900159Z"
    },
    "papermill": {
     "duration": 0.356817,
     "end_time": "2021-02-07T00:17:47.900324",
     "exception": false,
     "start_time": "2021-02-07T00:17:47.543507",
     "status": "completed"
    },
    "tags": []
   },
   "outputs": [
    {
     "data": {
      "image/png": "[encoded data removed]",
      "text/plain": [
       "<Figure size 720x648 with 1 Axes>"
      ]
     },
     "metadata": {
      "needs_background": "light"
     },
     "output_type": "display_data"
    }
   ],
   "source": [
    "plt.figure(figsize=(10,9))\n",
    "plt.scatter(plot_testing[:,0], plot_testing[:,1], alpha = 0.1, c = y_test.ravel())\n",
    "contours = plt.contour(x_grid,y_grid,probability_contour)\n",
    "plt.title('Probability Contours')\n",
    "plt.clabel(contours, inline = True );"
   ]
  }
 ],
 "metadata": {
  "kernelspec": {
   "display_name": "Python 3",
   "language": "python",
   "name": "python3"
  },
  "language_info": {
   "codemirror_mode": {
    "name": "ipython",
    "version": 3
   },
   "file_extension": ".py",
   "mimetype": "text/x-python",
   "name": "python",
   "nbconvert_exporter": "python",
   "pygments_lexer": "ipython3",
   "version": "3.6.12"
  },
  "papermill": {
   "duration": 177.448598,
   "end_time": "2021-02-07T00:17:49.298508",
   "environment_variables": {},
   "exception": null,
   "input_path": "2020-08-11-NeuralNetwork.ipynb",
   "output_path": "2020-08-11-NeuralNetwork.ipynb",
   "parameters": {},
   "start_time": "2021-02-07T00:14:51.849910",
   "version": "2.1.2"
  }
 },
 "nbformat": 4,
 "nbformat_minor": 5
}