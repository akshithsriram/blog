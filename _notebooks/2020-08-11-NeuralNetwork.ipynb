{
 "cells": [
  {
   "cell_type": "markdown",
   "id": "fitted-suggestion",
   "metadata": {
    "papermill": {
     "duration": 0.028934,
     "end_time": "2021-05-21T00:19:26.907357",
     "exception": false,
     "start_time": "2021-05-21T00:19:26.878423",
     "status": "completed"
    },
    "tags": []
   },
   "source": [
    "# \"A Basic Neural Network: Differentiate Hand-Written Digits\"\n",
    "\n",
    "- badges: true\n",
    "- author: Akshith Sriram"
   ]
  },
  {
   "cell_type": "markdown",
   "id": "signal-flexibility",
   "metadata": {
    "papermill": {
     "duration": 0.026277,
     "end_time": "2021-05-21T00:19:26.966418",
     "exception": false,
     "start_time": "2021-05-21T00:19:26.940141",
     "status": "completed"
    },
    "tags": []
   },
   "source": [
    "### Key Objectives:\n",
    "- Building a neural network that differentiates two hand-written digits 3 and 8.\n",
    "- Comparing the results of this Neural Network (NN) to that of a Logistic Regression (LR) model.\n",
    "\n",
    "### Requirements:\n",
    "- 'Kudzu' : A neural network library that was designed during our course by [Univ.AI](www.univ.ai). \n",
    "- MNIST Database\n",
    "\n",
    "If MNIST is not installed, use the command `!pip install mnist` given below.\n",
    "It can be run both from the command line and Jupyter Notebook."
   ]
  },
  {
   "cell_type": "code",
   "execution_count": 1,
   "id": "british-texture",
   "metadata": {
    "execution": {
     "iopub.execute_input": "2021-05-21T00:19:27.027506Z",
     "iopub.status.busy": "2021-05-21T00:19:27.026997Z",
     "iopub.status.idle": "2021-05-21T00:19:28.437282Z",
     "shell.execute_reply": "2021-05-21T00:19:28.436391Z"
    },
    "papermill": {
     "duration": 1.445448,
     "end_time": "2021-05-21T00:19:28.437422",
     "exception": false,
     "start_time": "2021-05-21T00:19:26.991974",
     "status": "completed"
    },
    "tags": []
   },
   "outputs": [
    {
     "name": "stdout",
     "output_type": "stream",
     "text": [
      "Collecting mnist\r\n",
      "  Downloading mnist-0.2.2-py2.py3-none-any.whl (3.5 kB)\r\n"
     ]
    },
    {
     "name": "stdout",
     "output_type": "stream",
     "text": [
      "Requirement already satisfied: numpy in /opt/hostedtoolcache/Python/3.6.13/x64/lib/python3.6/site-packages (from mnist) (1.19.5)\r\n"
     ]
    },
    {
     "name": "stdout",
     "output_type": "stream",
     "text": [
      "Installing collected packages: mnist\r\n",
      "Successfully installed mnist-0.2.2\r\n"
     ]
    }
   ],
   "source": [
    "!pip install mnist "
   ]
  },
  {
   "cell_type": "markdown",
   "id": "stunning-extra",
   "metadata": {
    "papermill": {
     "duration": 0.028083,
     "end_time": "2021-05-21T00:19:28.497446",
     "exception": false,
     "start_time": "2021-05-21T00:19:28.469363",
     "status": "completed"
    },
    "tags": []
   },
   "source": [
    "#### Importing necessary libraries"
   ]
  },
  {
   "cell_type": "code",
   "execution_count": 2,
   "id": "wooden-france",
   "metadata": {
    "execution": {
     "iopub.execute_input": "2021-05-21T00:19:28.560169Z",
     "iopub.status.busy": "2021-05-21T00:19:28.559449Z",
     "iopub.status.idle": "2021-05-21T00:19:29.062019Z",
     "shell.execute_reply": "2021-05-21T00:19:29.061530Z"
    },
    "papermill": {
     "duration": 0.537948,
     "end_time": "2021-05-21T00:19:29.062240",
     "exception": false,
     "start_time": "2021-05-21T00:19:28.524292",
     "status": "completed"
    },
    "tags": []
   },
   "outputs": [],
   "source": [
    "%load_ext autoreload\n",
    "%autoreload 2\n",
    "\n",
    "%matplotlib inline\n",
    "import matplotlib.pyplot as plt\n",
    "\n",
    "import numpy as np\n",
    "import pandas as pd"
   ]
  },
  {
   "cell_type": "markdown",
   "id": "stunning-physics",
   "metadata": {
    "papermill": {
     "duration": 0.02773,
     "end_time": "2021-05-21T00:19:29.123729",
     "exception": false,
     "start_time": "2021-05-21T00:19:29.095999",
     "status": "completed"
    },
    "tags": []
   },
   "source": [
    "### Preparing the Data"
   ]
  },
  {
   "cell_type": "code",
   "execution_count": 3,
   "id": "unauthorized-remainder",
   "metadata": {
    "execution": {
     "iopub.execute_input": "2021-05-21T00:19:29.191020Z",
     "iopub.status.busy": "2021-05-21T00:19:29.190434Z",
     "iopub.status.idle": "2021-05-21T00:19:29.199894Z",
     "shell.execute_reply": "2021-05-21T00:19:29.199414Z"
    },
    "papermill": {
     "duration": 0.045741,
     "end_time": "2021-05-21T00:19:29.200005",
     "exception": false,
     "start_time": "2021-05-21T00:19:29.154264",
     "status": "completed"
    },
    "tags": []
   },
   "outputs": [],
   "source": [
    "import mnist"
   ]
  },
  {
   "cell_type": "code",
   "execution_count": 4,
   "id": "correct-antarctica",
   "metadata": {
    "execution": {
     "iopub.execute_input": "2021-05-21T00:19:29.268690Z",
     "iopub.status.busy": "2021-05-21T00:19:29.268093Z",
     "iopub.status.idle": "2021-05-21T00:23:45.214902Z",
     "shell.execute_reply": "2021-05-21T00:23:45.215340Z"
    },
    "papermill": {
     "duration": 255.98497,
     "end_time": "2021-05-21T00:23:45.215480",
     "exception": false,
     "start_time": "2021-05-21T00:19:29.230510",
     "status": "completed"
    },
    "tags": []
   },
   "outputs": [],
   "source": [
    "train_images = mnist.train_images()\n",
    "train_labels = mnist.train_labels()"
   ]
  },
  {
   "cell_type": "code",
   "execution_count": 5,
   "id": "musical-prospect",
   "metadata": {
    "execution": {
     "iopub.execute_input": "2021-05-21T00:23:45.274648Z",
     "iopub.status.busy": "2021-05-21T00:23:45.273847Z",
     "iopub.status.idle": "2021-05-21T00:23:45.289440Z",
     "shell.execute_reply": "2021-05-21T00:23:45.288981Z"
    },
    "papermill": {
     "duration": 0.046242,
     "end_time": "2021-05-21T00:23:45.289546",
     "exception": false,
     "start_time": "2021-05-21T00:23:45.243304",
     "status": "completed"
    },
    "tags": []
   },
   "outputs": [
    {
     "data": {
      "text/plain": [
       "((60000, 28, 28), (60000,))"
      ]
     },
     "execution_count": 5,
     "metadata": {},
     "output_type": "execute_result"
    }
   ],
   "source": [
    "train_images.shape, train_labels.shape"
   ]
  },
  {
   "cell_type": "code",
   "execution_count": 6,
   "id": "preliminary-elizabeth",
   "metadata": {
    "execution": {
     "iopub.execute_input": "2021-05-21T00:23:45.346575Z",
     "iopub.status.busy": "2021-05-21T00:23:45.345819Z",
     "iopub.status.idle": "2021-05-21T00:24:34.854354Z",
     "shell.execute_reply": "2021-05-21T00:24:34.853444Z"
    },
    "papermill": {
     "duration": 49.537796,
     "end_time": "2021-05-21T00:24:34.854481",
     "exception": false,
     "start_time": "2021-05-21T00:23:45.316685",
     "status": "completed"
    },
    "tags": []
   },
   "outputs": [],
   "source": [
    "test_images = mnist.test_images()\n",
    "test_labels = mnist.test_labels()"
   ]
  },
  {
   "cell_type": "code",
   "execution_count": 7,
   "id": "acknowledged-oxygen",
   "metadata": {
    "execution": {
     "iopub.execute_input": "2021-05-21T00:24:34.925823Z",
     "iopub.status.busy": "2021-05-21T00:24:34.925043Z",
     "iopub.status.idle": "2021-05-21T00:24:34.937808Z",
     "shell.execute_reply": "2021-05-21T00:24:34.937274Z"
    },
    "papermill": {
     "duration": 0.049989,
     "end_time": "2021-05-21T00:24:34.937960",
     "exception": false,
     "start_time": "2021-05-21T00:24:34.887971",
     "status": "completed"
    },
    "tags": []
   },
   "outputs": [
    {
     "data": {
      "text/plain": [
       "((10000, 28, 28), (10000,))"
      ]
     },
     "execution_count": 7,
     "metadata": {},
     "output_type": "execute_result"
    }
   ],
   "source": [
    "test_images.shape, test_labels.shape"
   ]
  },
  {
   "cell_type": "code",
   "execution_count": 8,
   "id": "innovative-organic",
   "metadata": {
    "execution": {
     "iopub.execute_input": "2021-05-21T00:24:35.025985Z",
     "iopub.status.busy": "2021-05-21T00:24:35.005076Z",
     "iopub.status.idle": "2021-05-21T00:24:35.186102Z",
     "shell.execute_reply": "2021-05-21T00:24:35.186681Z"
    },
    "papermill": {
     "duration": 0.218337,
     "end_time": "2021-05-21T00:24:35.186861",
     "exception": false,
     "start_time": "2021-05-21T00:24:34.968524",
     "status": "completed"
    },
    "tags": []
   },
   "outputs": [
    {
     "name": "stdout",
     "output_type": "stream",
     "text": [
      "2\n"
     ]
    },
    {
     "data": {
      "text/plain": [
       "<matplotlib.image.AxesImage at 0x7f340e11d4a8>"
      ]
     },
     "execution_count": 8,
     "metadata": {},
     "output_type": "execute_result"
    },
    {
     "data": {
      "image/png": "[encoded data removed]",
      "text/plain": [
       "<Figure size 432x288 with 1 Axes>"
      ]
     },
     "metadata": {
      "needs_background": "light"
     },
     "output_type": "display_data"
    }
   ],
   "source": [
    "image_index = 7776 # You may select anything up to 60,000\n",
    "print(train_labels[image_index]) \n",
    "plt.imshow(train_images[image_index], cmap='Greys')"
   ]
  },
  {
   "cell_type": "markdown",
   "id": "facial-modem",
   "metadata": {
    "papermill": {
     "duration": 0.027412,
     "end_time": "2021-05-21T00:24:35.243901",
     "exception": false,
     "start_time": "2021-05-21T00:24:35.216489",
     "status": "completed"
    },
    "tags": []
   },
   "source": [
    "## Filter data to get 3 and 8 out"
   ]
  },
  {
   "cell_type": "code",
   "execution_count": 9,
   "id": "thousand-acquisition",
   "metadata": {
    "execution": {
     "iopub.execute_input": "2021-05-21T00:24:35.308409Z",
     "iopub.status.busy": "2021-05-21T00:24:35.307883Z",
     "iopub.status.idle": "2021-05-21T00:24:35.322418Z",
     "shell.execute_reply": "2021-05-21T00:24:35.321956Z"
    },
    "papermill": {
     "duration": 0.050451,
     "end_time": "2021-05-21T00:24:35.322529",
     "exception": false,
     "start_time": "2021-05-21T00:24:35.272078",
     "status": "completed"
    },
    "tags": []
   },
   "outputs": [],
   "source": [
    "train_filter = np.where((train_labels == 3 ) | (train_labels == 8))\n",
    "test_filter = np.where((test_labels == 3) | (test_labels == 8))\n",
    "X_train, y_train = train_images[train_filter], train_labels[train_filter]\n",
    "X_test, y_test = test_images[test_filter], test_labels[test_filter]"
   ]
  },
  {
   "cell_type": "markdown",
   "id": "ruled-access",
   "metadata": {
    "papermill": {
     "duration": 0.029246,
     "end_time": "2021-05-21T00:24:35.382021",
     "exception": false,
     "start_time": "2021-05-21T00:24:35.352775",
     "status": "completed"
    },
    "tags": []
   },
   "source": [
    "We normalize the pixel values in the 0 to 1 range"
   ]
  },
  {
   "cell_type": "code",
   "execution_count": 10,
   "id": "isolated-denver",
   "metadata": {
    "execution": {
     "iopub.execute_input": "2021-05-21T00:24:35.441488Z",
     "iopub.status.busy": "2021-05-21T00:24:35.440928Z",
     "iopub.status.idle": "2021-05-21T00:24:35.495709Z",
     "shell.execute_reply": "2021-05-21T00:24:35.495002Z"
    },
    "papermill": {
     "duration": 0.085663,
     "end_time": "2021-05-21T00:24:35.495858",
     "exception": false,
     "start_time": "2021-05-21T00:24:35.410195",
     "status": "completed"
    },
    "tags": []
   },
   "outputs": [],
   "source": [
    "X_train = X_train/255.\n",
    "X_test = X_test/255."
   ]
  },
  {
   "cell_type": "markdown",
   "id": "perfect-summary",
   "metadata": {
    "papermill": {
     "duration": 0.029329,
     "end_time": "2021-05-21T00:24:35.556345",
     "exception": false,
     "start_time": "2021-05-21T00:24:35.527016",
     "status": "completed"
    },
    "tags": []
   },
   "source": [
    "Setup the labels as 1 (when the digit is 3) and 0 (when the digit is 8)"
   ]
  },
  {
   "cell_type": "code",
   "execution_count": 11,
   "id": "personalized-growing",
   "metadata": {
    "execution": {
     "iopub.execute_input": "2021-05-21T00:24:35.627443Z",
     "iopub.status.busy": "2021-05-21T00:24:35.626684Z",
     "iopub.status.idle": "2021-05-21T00:24:35.636070Z",
     "shell.execute_reply": "2021-05-21T00:24:35.636525Z"
    },
    "papermill": {
     "duration": 0.049972,
     "end_time": "2021-05-21T00:24:35.636737",
     "exception": false,
     "start_time": "2021-05-21T00:24:35.586765",
     "status": "completed"
    },
    "tags": []
   },
   "outputs": [],
   "source": [
    "y_train = 1*(y_train==3)\n",
    "y_test = 1*(y_test==3)"
   ]
  },
  {
   "cell_type": "code",
   "execution_count": 12,
   "id": "considered-virgin",
   "metadata": {
    "execution": {
     "iopub.execute_input": "2021-05-21T00:24:35.704194Z",
     "iopub.status.busy": "2021-05-21T00:24:35.703632Z",
     "iopub.status.idle": "2021-05-21T00:24:35.714630Z",
     "shell.execute_reply": "2021-05-21T00:24:35.714165Z"
    },
    "papermill": {
     "duration": 0.046817,
     "end_time": "2021-05-21T00:24:35.714768",
     "exception": false,
     "start_time": "2021-05-21T00:24:35.667951",
     "status": "completed"
    },
    "tags": []
   },
   "outputs": [
    {
     "data": {
      "text/plain": [
       "((11982, 28, 28), (1984, 28, 28))"
      ]
     },
     "execution_count": 12,
     "metadata": {},
     "output_type": "execute_result"
    }
   ],
   "source": [
    "X_train.shape, X_test.shape"
   ]
  },
  {
   "cell_type": "markdown",
   "id": "civilian-mobile",
   "metadata": {
    "papermill": {
     "duration": 0.027395,
     "end_time": "2021-05-21T00:24:35.770177",
     "exception": false,
     "start_time": "2021-05-21T00:24:35.742782",
     "status": "completed"
    },
    "tags": []
   },
   "source": [
    "### Reshape the input data to create a linear array"
   ]
  },
  {
   "cell_type": "code",
   "execution_count": 13,
   "id": "colonial-adams",
   "metadata": {
    "execution": {
     "iopub.execute_input": "2021-05-21T00:24:35.832589Z",
     "iopub.status.busy": "2021-05-21T00:24:35.831631Z",
     "iopub.status.idle": "2021-05-21T00:24:35.843053Z",
     "shell.execute_reply": "2021-05-21T00:24:35.842577Z"
    },
    "papermill": {
     "duration": 0.044881,
     "end_time": "2021-05-21T00:24:35.843156",
     "exception": false,
     "start_time": "2021-05-21T00:24:35.798275",
     "status": "completed"
    },
    "tags": []
   },
   "outputs": [
    {
     "data": {
      "text/plain": [
       "((11982, 784), (1984, 784))"
      ]
     },
     "execution_count": 13,
     "metadata": {},
     "output_type": "execute_result"
    }
   ],
   "source": [
    "X_train = X_train.reshape(X_train.shape[0], -1)\n",
    "X_test = X_test.reshape(X_test.shape[0], -1)\n",
    "X_train.shape, X_test.shape"
   ]
  },
  {
   "cell_type": "markdown",
   "id": "smart-details",
   "metadata": {
    "papermill": {
     "duration": 0.029225,
     "end_time": "2021-05-21T00:24:35.902794",
     "exception": false,
     "start_time": "2021-05-21T00:24:35.873569",
     "status": "completed"
    },
    "tags": []
   },
   "source": [
    "### Importing appropriate functions from 'Kudzu'"
   ]
  },
  {
   "cell_type": "code",
   "execution_count": 14,
   "id": "celtic-trial",
   "metadata": {
    "execution": {
     "iopub.execute_input": "2021-05-21T00:24:35.978223Z",
     "iopub.status.busy": "2021-05-21T00:24:35.977702Z",
     "iopub.status.idle": "2021-05-21T00:24:35.988342Z",
     "shell.execute_reply": "2021-05-21T00:24:35.987901Z"
    },
    "papermill": {
     "duration": 0.057205,
     "end_time": "2021-05-21T00:24:35.988439",
     "exception": false,
     "start_time": "2021-05-21T00:24:35.931234",
     "status": "completed"
    },
    "tags": []
   },
   "outputs": [],
   "source": [
    "from kudzu.layer import Sigmoid\n",
    "from kudzu.layer import Relu\n",
    "from kudzu.layer import Affine, Sigmoid\n",
    "\n",
    "from kudzu.model import Model\n",
    "from kudzu.train import Learner\n",
    "from kudzu.optim import GD\n",
    "from kudzu.data import Data, Dataloader, Sampler\n",
    "\n",
    "from kudzu.callbacks import AccCallback\n",
    "from kudzu.callbacks import ClfCallback\n",
    "\n",
    "from kudzu.loss import MSE"
   ]
  },
  {
   "cell_type": "markdown",
   "id": "coupled-customer",
   "metadata": {
    "papermill": {
     "duration": 0.031358,
     "end_time": "2021-05-21T00:24:36.048240",
     "exception": false,
     "start_time": "2021-05-21T00:24:36.016882",
     "status": "completed"
    },
    "tags": []
   },
   "source": [
    "### Let us create a `Config` class, to store important parameters. \n",
    "This class essentially plays the role of a dictionary."
   ]
  },
  {
   "cell_type": "code",
   "execution_count": 15,
   "id": "young-ceiling",
   "metadata": {
    "execution": {
     "iopub.execute_input": "2021-05-21T00:24:36.115499Z",
     "iopub.status.busy": "2021-05-21T00:24:36.114972Z",
     "iopub.status.idle": "2021-05-21T00:24:36.124580Z",
     "shell.execute_reply": "2021-05-21T00:24:36.123989Z"
    },
    "papermill": {
     "duration": 0.043921,
     "end_time": "2021-05-21T00:24:36.124689",
     "exception": false,
     "start_time": "2021-05-21T00:24:36.080768",
     "status": "completed"
    },
    "tags": []
   },
   "outputs": [],
   "source": [
    "class Config:\n",
    "    pass\n",
    "config = Config()\n",
    "config.lr = 0.001\n",
    "config.num_epochs = 251\n",
    "config.bs = 50"
   ]
  },
  {
   "cell_type": "markdown",
   "id": "according-mandate",
   "metadata": {
    "papermill": {
     "duration": 0.029327,
     "end_time": "2021-05-21T00:24:36.182112",
     "exception": false,
     "start_time": "2021-05-21T00:24:36.152785",
     "status": "completed"
    },
    "tags": []
   },
   "source": [
    "### Initializing data to the variables"
   ]
  },
  {
   "cell_type": "code",
   "execution_count": 16,
   "id": "academic-disposition",
   "metadata": {
    "execution": {
     "iopub.execute_input": "2021-05-21T00:24:36.262382Z",
     "iopub.status.busy": "2021-05-21T00:24:36.255702Z",
     "iopub.status.idle": "2021-05-21T00:24:36.264954Z",
     "shell.execute_reply": "2021-05-21T00:24:36.264433Z"
    },
    "papermill": {
     "duration": 0.05171,
     "end_time": "2021-05-21T00:24:36.265081",
     "exception": false,
     "start_time": "2021-05-21T00:24:36.213371",
     "status": "completed"
    },
    "tags": []
   },
   "outputs": [],
   "source": [
    "data = Data(X_train, y_train.reshape(-1,1))\n",
    "sampler = Sampler(data, config.bs, shuffle=True)\n",
    "\n",
    "dl = Dataloader(data, sampler)\n",
    "\n",
    "opt = GD(config.lr)\n",
    "loss = MSE()"
   ]
  },
  {
   "cell_type": "code",
   "execution_count": 17,
   "id": "featured-commission",
   "metadata": {
    "execution": {
     "iopub.execute_input": "2021-05-21T00:24:36.326809Z",
     "iopub.status.busy": "2021-05-21T00:24:36.326264Z",
     "iopub.status.idle": "2021-05-21T00:24:36.338026Z",
     "shell.execute_reply": "2021-05-21T00:24:36.337452Z"
    },
    "papermill": {
     "duration": 0.044463,
     "end_time": "2021-05-21T00:24:36.338137",
     "exception": false,
     "start_time": "2021-05-21T00:24:36.293674",
     "status": "completed"
    },
    "tags": []
   },
   "outputs": [],
   "source": [
    "training_xdata = X_train\n",
    "testing_xdata = X_test\n",
    "training_ydata = y_train.reshape(-1,1)\n",
    "testing_ydata = y_test.reshape(-1,1)"
   ]
  },
  {
   "cell_type": "markdown",
   "id": "played-safety",
   "metadata": {
    "papermill": {
     "duration": 0.029656,
     "end_time": "2021-05-21T00:24:36.400740",
     "exception": false,
     "start_time": "2021-05-21T00:24:36.371084",
     "status": "completed"
    },
    "tags": []
   },
   "source": [
    "### Running Models with the Training data\n",
    "Details about the network layers:\n",
    "- A first affine layer has 784 inputs and does 100 affine transforms. These are followed by a Relu\n",
    "- A second affine layer has 100 inputs from the 100 activations of the past layer, and does 100 affine transforms. These are followed by a Relu\n",
    "- A third affine layer has 100 activations and does 2 affine transformations to create an embedding for visualization. There is no non-linearity here.\n",
    "- A final \"logistic regression\" which has an affine transform from 2 inputs to 1 output, which is squeezed through a sigmoid.\n",
    "\n",
    "Help taken from Anshuman's Notebook."
   ]
  },
  {
   "cell_type": "code",
   "execution_count": 18,
   "id": "asian-bankruptcy",
   "metadata": {
    "execution": {
     "iopub.execute_input": "2021-05-21T00:24:36.479400Z",
     "iopub.status.busy": "2021-05-21T00:24:36.471385Z",
     "iopub.status.idle": "2021-05-21T00:24:36.482077Z",
     "shell.execute_reply": "2021-05-21T00:24:36.482500Z"
    },
    "papermill": {
     "duration": 0.052995,
     "end_time": "2021-05-21T00:24:36.482614",
     "exception": false,
     "start_time": "2021-05-21T00:24:36.429619",
     "status": "completed"
    },
    "tags": []
   },
   "outputs": [],
   "source": [
    "# layers for the Neural Network\n",
    "layers = [Affine(\"first\", 784, 100), Relu(\"first\"), Affine(\"second\", 100, 100), Relu(\"second\"), Affine(\"third\", 100, 2), Affine(\"final\", 2, 1), Sigmoid(\"final\")]\n",
    "model_nn = Model(layers)\n",
    "\n",
    "# layers for the Logistic Regression\n",
    "layers_lr = [Affine(\"logits\", 784, 1), Sigmoid(\"sigmoid\")]\n",
    "model_lr = Model(layers_lr)"
   ]
  },
  {
   "cell_type": "code",
   "execution_count": 19,
   "id": "removed-butler",
   "metadata": {
    "execution": {
     "iopub.execute_input": "2021-05-21T00:24:36.542702Z",
     "iopub.status.busy": "2021-05-21T00:24:36.542168Z",
     "iopub.status.idle": "2021-05-21T00:24:36.553363Z",
     "shell.execute_reply": "2021-05-21T00:24:36.552918Z"
    },
    "papermill": {
     "duration": 0.042685,
     "end_time": "2021-05-21T00:24:36.553505",
     "exception": false,
     "start_time": "2021-05-21T00:24:36.510820",
     "status": "completed"
    },
    "tags": []
   },
   "outputs": [],
   "source": [
    "# suffix _nn stands for Neural Network.\n",
    "learner_nn = Learner(loss, model_nn, opt, config.num_epochs)\n",
    "acc_nn = ClfCallback(learner_nn, config.bs, training_xdata , testing_xdata, training_ydata, testing_ydata)\n",
    "learner_nn.set_callbacks([acc_nn])"
   ]
  },
  {
   "cell_type": "code",
   "execution_count": 20,
   "id": "conceptual-throw",
   "metadata": {
    "execution": {
     "iopub.execute_input": "2021-05-21T00:24:36.617855Z",
     "iopub.status.busy": "2021-05-21T00:24:36.617265Z",
     "iopub.status.idle": "2021-05-21T00:26:52.671643Z",
     "shell.execute_reply": "2021-05-21T00:26:52.670980Z"
    },
    "papermill": {
     "duration": 136.089993,
     "end_time": "2021-05-21T00:26:52.671810",
     "exception": false,
     "start_time": "2021-05-21T00:24:36.581817",
     "status": "completed"
    },
    "tags": []
   },
   "outputs": [
    {
     "name": "stdout",
     "output_type": "stream",
     "text": [
      "====== Neural Network ======\n"
     ]
    },
    {
     "name": "stdout",
     "output_type": "stream",
     "text": [
      "Epoch 0, Loss 0.2332\n",
      "Training Accuracy: 0.7818, Testing Accuracy: 0.8049\n",
      "\n"
     ]
    },
    {
     "name": "stdout",
     "output_type": "stream",
     "text": [
      "Epoch 10, Loss 0.0634\n",
      "Training Accuracy: 0.9363, Testing Accuracy: 0.9471\n",
      "\n"
     ]
    },
    {
     "name": "stdout",
     "output_type": "stream",
     "text": [
      "Epoch 20, Loss 0.0442\n",
      "Training Accuracy: 0.9519, Testing Accuracy: 0.9597\n",
      "\n"
     ]
    },
    {
     "name": "stdout",
     "output_type": "stream",
     "text": [
      "Epoch 30, Loss 0.0368\n",
      "Training Accuracy: 0.9594, Testing Accuracy: 0.9652\n",
      "\n"
     ]
    },
    {
     "name": "stdout",
     "output_type": "stream",
     "text": [
      "Epoch 40, Loss 0.0327\n",
      "Training Accuracy: 0.9627, Testing Accuracy: 0.9682\n",
      "\n"
     ]
    },
    {
     "name": "stdout",
     "output_type": "stream",
     "text": [
      "Epoch 50, Loss 0.03\n",
      "Training Accuracy: 0.9659, Testing Accuracy: 0.9693\n",
      "\n"
     ]
    },
    {
     "name": "stdout",
     "output_type": "stream",
     "text": [
      "Epoch 60, Loss 0.028\n",
      "Training Accuracy: 0.9681, Testing Accuracy: 0.9698\n",
      "\n"
     ]
    },
    {
     "name": "stdout",
     "output_type": "stream",
     "text": [
      "Epoch 70, Loss 0.0265\n",
      "Training Accuracy: 0.9699, Testing Accuracy: 0.9708\n",
      "\n"
     ]
    },
    {
     "name": "stdout",
     "output_type": "stream",
     "text": [
      "Epoch 80, Loss 0.0252\n",
      "Training Accuracy: 0.9711, Testing Accuracy: 0.9708\n",
      "\n"
     ]
    },
    {
     "name": "stdout",
     "output_type": "stream",
     "text": [
      "Epoch 90, Loss 0.0242\n",
      "Training Accuracy: 0.9725, Testing Accuracy: 0.9708\n",
      "\n"
     ]
    },
    {
     "name": "stdout",
     "output_type": "stream",
     "text": [
      "Epoch 100, Loss 0.0233\n",
      "Training Accuracy: 0.9737, Testing Accuracy: 0.9713\n",
      "\n"
     ]
    },
    {
     "name": "stdout",
     "output_type": "stream",
     "text": [
      "Epoch 110, Loss 0.0225\n",
      "Training Accuracy: 0.9749, Testing Accuracy: 0.9718\n",
      "\n"
     ]
    },
    {
     "name": "stdout",
     "output_type": "stream",
     "text": [
      "Epoch 120, Loss 0.0217\n",
      "Training Accuracy: 0.9755, Testing Accuracy: 0.9718\n",
      "\n"
     ]
    },
    {
     "name": "stdout",
     "output_type": "stream",
     "text": [
      "Epoch 130, Loss 0.0211\n",
      "Training Accuracy: 0.9761, Testing Accuracy: 0.9723\n",
      "\n"
     ]
    },
    {
     "name": "stdout",
     "output_type": "stream",
     "text": [
      "Epoch 140, Loss 0.0205\n",
      "Training Accuracy: 0.9772, Testing Accuracy: 0.9728\n",
      "\n"
     ]
    },
    {
     "name": "stdout",
     "output_type": "stream",
     "text": [
      "Epoch 150, Loss 0.02\n",
      "Training Accuracy: 0.9778, Testing Accuracy: 0.9748\n",
      "\n"
     ]
    },
    {
     "name": "stdout",
     "output_type": "stream",
     "text": [
      "Epoch 160, Loss 0.0195\n",
      "Training Accuracy: 0.9785, Testing Accuracy: 0.9758\n",
      "\n"
     ]
    },
    {
     "name": "stdout",
     "output_type": "stream",
     "text": [
      "Epoch 170, Loss 0.019\n",
      "Training Accuracy: 0.9786, Testing Accuracy: 0.9758\n",
      "\n"
     ]
    },
    {
     "name": "stdout",
     "output_type": "stream",
     "text": [
      "Epoch 180, Loss 0.0185\n",
      "Training Accuracy: 0.9795, Testing Accuracy: 0.9758\n",
      "\n"
     ]
    },
    {
     "name": "stdout",
     "output_type": "stream",
     "text": [
      "Epoch 190, Loss 0.0181\n",
      "Training Accuracy: 0.9799, Testing Accuracy: 0.9763\n",
      "\n"
     ]
    },
    {
     "name": "stdout",
     "output_type": "stream",
     "text": [
      "Epoch 200, Loss 0.0177\n",
      "Training Accuracy: 0.9804, Testing Accuracy: 0.9763\n",
      "\n"
     ]
    },
    {
     "name": "stdout",
     "output_type": "stream",
     "text": [
      "Epoch 210, Loss 0.0173\n",
      "Training Accuracy: 0.9812, Testing Accuracy: 0.9768\n",
      "\n"
     ]
    },
    {
     "name": "stdout",
     "output_type": "stream",
     "text": [
      "Epoch 220, Loss 0.0169\n",
      "Training Accuracy: 0.9814, Testing Accuracy: 0.9778\n",
      "\n"
     ]
    },
    {
     "name": "stdout",
     "output_type": "stream",
     "text": [
      "Epoch 230, Loss 0.0165\n",
      "Training Accuracy: 0.9821, Testing Accuracy: 0.9778\n",
      "\n"
     ]
    },
    {
     "name": "stdout",
     "output_type": "stream",
     "text": [
      "Epoch 240, Loss 0.0162\n",
      "Training Accuracy: 0.9825, Testing Accuracy: 0.9783\n",
      "\n"
     ]
    },
    {
     "name": "stdout",
     "output_type": "stream",
     "text": [
      "Epoch 250, Loss 0.0158\n",
      "Training Accuracy: 0.9829, Testing Accuracy: 0.9783\n",
      "\n"
     ]
    },
    {
     "data": {
      "text/plain": [
       "0.003512814408780836"
      ]
     },
     "execution_count": 20,
     "metadata": {},
     "output_type": "execute_result"
    }
   ],
   "source": [
    "print(\"====== Neural Network ======\")\n",
    "learner_nn.train_loop(dl)"
   ]
  },
  {
   "cell_type": "markdown",
   "id": "competent-suffering",
   "metadata": {
    "papermill": {
     "duration": 0.040793,
     "end_time": "2021-05-21T00:26:52.755947",
     "exception": false,
     "start_time": "2021-05-21T00:26:52.715154",
     "status": "completed"
    },
    "tags": []
   },
   "source": [
    "### Logistic Regression based Implementation."
   ]
  },
  {
   "cell_type": "code",
   "execution_count": 21,
   "id": "qualified-psychiatry",
   "metadata": {
    "execution": {
     "iopub.execute_input": "2021-05-21T00:26:52.855892Z",
     "iopub.status.busy": "2021-05-21T00:26:52.848603Z",
     "iopub.status.idle": "2021-05-21T00:26:52.862704Z",
     "shell.execute_reply": "2021-05-21T00:26:52.863332Z"
    },
    "papermill": {
     "duration": 0.064984,
     "end_time": "2021-05-21T00:26:52.863478",
     "exception": false,
     "start_time": "2021-05-21T00:26:52.798494",
     "status": "completed"
    },
    "tags": []
   },
   "outputs": [],
   "source": [
    "learner_lr = Learner(loss, model_lr, opt, config.num_epochs)\n",
    "acc_lr = ClfCallback(learner_lr, config.bs, training_xdata , testing_xdata, training_ydata, testing_ydata)\n",
    "learner_lr.set_callbacks([acc_lr])"
   ]
  },
  {
   "cell_type": "code",
   "execution_count": 22,
   "id": "average-outside",
   "metadata": {
    "execution": {
     "iopub.execute_input": "2021-05-21T00:26:52.946737Z",
     "iopub.status.busy": "2021-05-21T00:26:52.946151Z",
     "iopub.status.idle": "2021-05-21T00:27:13.601595Z",
     "shell.execute_reply": "2021-05-21T00:27:13.602452Z"
    },
    "papermill": {
     "duration": 20.700722,
     "end_time": "2021-05-21T00:27:13.602661",
     "exception": false,
     "start_time": "2021-05-21T00:26:52.901939",
     "status": "completed"
    },
    "tags": []
   },
   "outputs": [
    {
     "name": "stdout",
     "output_type": "stream",
     "text": [
      "====== Logistic Regression ======\n",
      "Epoch 0, Loss 0.2262\n",
      "Training Accuracy: 0.7627, Testing Accuracy: 0.7752\n",
      "\n"
     ]
    },
    {
     "name": "stdout",
     "output_type": "stream",
     "text": [
      "Epoch 10, Loss 0.0964\n",
      "Training Accuracy: 0.9236, Testing Accuracy: 0.9360\n",
      "\n"
     ]
    },
    {
     "name": "stdout",
     "output_type": "stream",
     "text": [
      "Epoch 20, Loss 0.0757\n",
      "Training Accuracy: 0.9330, Testing Accuracy: 0.9441\n",
      "\n"
     ]
    },
    {
     "name": "stdout",
     "output_type": "stream",
     "text": [
      "Epoch 30, Loss 0.0662\n",
      "Training Accuracy: 0.9382, Testing Accuracy: 0.9506\n",
      "\n"
     ]
    },
    {
     "name": "stdout",
     "output_type": "stream",
     "text": [
      "Epoch 40, Loss 0.0603\n",
      "Training Accuracy: 0.9411, Testing Accuracy: 0.9541\n",
      "\n"
     ]
    },
    {
     "name": "stdout",
     "output_type": "stream",
     "text": [
      "Epoch 50, Loss 0.0563\n",
      "Training Accuracy: 0.9441, Testing Accuracy: 0.9541\n",
      "\n"
     ]
    },
    {
     "name": "stdout",
     "output_type": "stream",
     "text": [
      "Epoch 60, Loss 0.0533\n",
      "Training Accuracy: 0.9466, Testing Accuracy: 0.9561\n",
      "\n"
     ]
    },
    {
     "name": "stdout",
     "output_type": "stream",
     "text": [
      "Epoch 70, Loss 0.0509\n",
      "Training Accuracy: 0.9480, Testing Accuracy: 0.9572\n",
      "\n"
     ]
    },
    {
     "name": "stdout",
     "output_type": "stream",
     "text": [
      "Epoch 80, Loss 0.049\n",
      "Training Accuracy: 0.9498, Testing Accuracy: 0.9587\n",
      "\n"
     ]
    },
    {
     "name": "stdout",
     "output_type": "stream",
     "text": [
      "Epoch 90, Loss 0.0474\n",
      "Training Accuracy: 0.9511, Testing Accuracy: 0.9597\n",
      "\n"
     ]
    },
    {
     "name": "stdout",
     "output_type": "stream",
     "text": [
      "Epoch 100, Loss 0.0461\n",
      "Training Accuracy: 0.9519, Testing Accuracy: 0.9602\n",
      "\n"
     ]
    },
    {
     "name": "stdout",
     "output_type": "stream",
     "text": [
      "Epoch 110, Loss 0.0449\n",
      "Training Accuracy: 0.9535, Testing Accuracy: 0.9622\n",
      "\n"
     ]
    },
    {
     "name": "stdout",
     "output_type": "stream",
     "text": [
      "Epoch 120, Loss 0.0439\n",
      "Training Accuracy: 0.9541, Testing Accuracy: 0.9627\n",
      "\n"
     ]
    },
    {
     "name": "stdout",
     "output_type": "stream",
     "text": [
      "Epoch 130, Loss 0.043\n",
      "Training Accuracy: 0.9547, Testing Accuracy: 0.9637\n",
      "\n"
     ]
    },
    {
     "name": "stdout",
     "output_type": "stream",
     "text": [
      "Epoch 140, Loss 0.0422\n",
      "Training Accuracy: 0.9556, Testing Accuracy: 0.9647\n",
      "\n"
     ]
    },
    {
     "name": "stdout",
     "output_type": "stream",
     "text": [
      "Epoch 150, Loss 0.0414\n",
      "Training Accuracy: 0.9561, Testing Accuracy: 0.9657\n",
      "\n"
     ]
    },
    {
     "name": "stdout",
     "output_type": "stream",
     "text": [
      "Epoch 160, Loss 0.0408\n",
      "Training Accuracy: 0.9565, Testing Accuracy: 0.9657\n",
      "\n"
     ]
    },
    {
     "name": "stdout",
     "output_type": "stream",
     "text": [
      "Epoch 170, Loss 0.0402\n",
      "Training Accuracy: 0.9570, Testing Accuracy: 0.9667\n",
      "\n"
     ]
    },
    {
     "name": "stdout",
     "output_type": "stream",
     "text": [
      "Epoch 180, Loss 0.0396\n",
      "Training Accuracy: 0.9573, Testing Accuracy: 0.9667\n",
      "\n"
     ]
    },
    {
     "name": "stdout",
     "output_type": "stream",
     "text": [
      "Epoch 190, Loss 0.0391\n",
      "Training Accuracy: 0.9575, Testing Accuracy: 0.9667\n",
      "\n"
     ]
    },
    {
     "name": "stdout",
     "output_type": "stream",
     "text": [
      "Epoch 200, Loss 0.0387\n",
      "Training Accuracy: 0.9581, Testing Accuracy: 0.9672\n",
      "\n"
     ]
    },
    {
     "name": "stdout",
     "output_type": "stream",
     "text": [
      "Epoch 210, Loss 0.0382\n",
      "Training Accuracy: 0.9586, Testing Accuracy: 0.9667\n",
      "\n"
     ]
    },
    {
     "name": "stdout",
     "output_type": "stream",
     "text": [
      "Epoch 220, Loss 0.0378\n",
      "Training Accuracy: 0.9592, Testing Accuracy: 0.9662\n",
      "\n"
     ]
    },
    {
     "name": "stdout",
     "output_type": "stream",
     "text": [
      "Epoch 230, Loss 0.0374\n",
      "Training Accuracy: 0.9594, Testing Accuracy: 0.9667\n",
      "\n"
     ]
    },
    {
     "name": "stdout",
     "output_type": "stream",
     "text": [
      "Epoch 240, Loss 0.0371\n",
      "Training Accuracy: 0.9599, Testing Accuracy: 0.9667\n",
      "\n"
     ]
    },
    {
     "name": "stdout",
     "output_type": "stream",
     "text": [
      "Epoch 250, Loss 0.0367\n",
      "Training Accuracy: 0.9602, Testing Accuracy: 0.9662\n",
      "\n"
     ]
    },
    {
     "data": {
      "text/plain": [
       "0.03839836040952212"
      ]
     },
     "execution_count": 22,
     "metadata": {},
     "output_type": "execute_result"
    }
   ],
   "source": [
    "print(\"====== Logistic Regression ======\")\n",
    "learner_lr.train_loop(dl)"
   ]
  },
  {
   "cell_type": "markdown",
   "id": "adjusted-possible",
   "metadata": {
    "papermill": {
     "duration": 0.052609,
     "end_time": "2021-05-21T00:27:13.707928",
     "exception": false,
     "start_time": "2021-05-21T00:27:13.655319",
     "status": "completed"
    },
    "tags": []
   },
   "source": [
    "### Comparing results of NN and LR"
   ]
  },
  {
   "cell_type": "code",
   "execution_count": 23,
   "id": "mental-multimedia",
   "metadata": {
    "execution": {
     "iopub.execute_input": "2021-05-21T00:27:13.813696Z",
     "iopub.status.busy": "2021-05-21T00:27:13.812891Z",
     "iopub.status.idle": "2021-05-21T00:27:14.090094Z",
     "shell.execute_reply": "2021-05-21T00:27:14.089591Z"
    },
    "papermill": {
     "duration": 0.331586,
     "end_time": "2021-05-21T00:27:14.090219",
     "exception": false,
     "start_time": "2021-05-21T00:27:13.758633",
     "status": "completed"
    },
    "tags": []
   },
   "outputs": [
    {
     "data": {
      "text/plain": [
       "<matplotlib.legend.Legend at 0x7f34008f7160>"
      ]
     },
     "execution_count": 23,
     "metadata": {},
     "output_type": "execute_result"
    },
    {
     "data": {
      "image/png": "[encoded data removed]",
      "text/plain": [
       "<Figure size 1080x720 with 1 Axes>"
      ]
     },
     "metadata": {
      "needs_background": "light"
     },
     "output_type": "display_data"
    }
   ],
   "source": [
    "plt.figure(figsize=(15,10))\n",
    "\n",
    "# Neural Network plots\n",
    "plt.plot(acc_nn.accuracies, 'r-', label = \"Training Accuracies - NN\")\n",
    "plt.plot(acc_nn.test_accuracies, 'g-', label = \"Testing Accuracies - NN\")\n",
    "\n",
    "# Logistic Regression plots\n",
    "plt.plot(acc_lr.accuracies, 'k-', label = \"Training Accuracies - LR\")\n",
    "plt.plot(acc_lr.test_accuracies, 'b-', label = \"Testing Accuracies - LR\")\n",
    "\n",
    "plt.ylim(0.8, 1)\n",
    "\n",
    "plt.legend()\n",
    "\n"
   ]
  },
  {
   "cell_type": "markdown",
   "id": "sexual-flesh",
   "metadata": {
    "papermill": {
     "duration": 0.048275,
     "end_time": "2021-05-21T00:27:14.188799",
     "exception": false,
     "start_time": "2021-05-21T00:27:14.140524",
     "status": "completed"
    },
    "tags": []
   },
   "source": [
    "### From the plot, we can observe the following:\n",
    "- Neural Network achieves higher accuracy than the Logistic Regression model.\n",
    "- This apparently, is because of overfitting, i.e. NN captures more noise than data.\n",
    "- Testing accuracy of NN drops below the Training accuracy at higher epochs. This explains the over-fitting on training data.\n",
    "- Logistic Regression gives a reliable accuracy, without the above mentioned problem.\n"
   ]
  },
  {
   "cell_type": "markdown",
   "id": "institutional-pacific",
   "metadata": {
    "papermill": {
     "duration": 0.045421,
     "end_time": "2021-05-21T00:27:14.282906",
     "exception": false,
     "start_time": "2021-05-21T00:27:14.237485",
     "status": "completed"
    },
    "tags": []
   },
   "source": [
    "### Moving till the last but one layer (excluding it).\n",
    "#### Plotting the outputs of this layer of the NN."
   ]
  },
  {
   "cell_type": "code",
   "execution_count": 24,
   "id": "economic-server",
   "metadata": {
    "execution": {
     "iopub.execute_input": "2021-05-21T00:27:14.385821Z",
     "iopub.status.busy": "2021-05-21T00:27:14.384855Z",
     "iopub.status.idle": "2021-05-21T00:27:14.399050Z",
     "shell.execute_reply": "2021-05-21T00:27:14.399473Z"
    },
    "papermill": {
     "duration": 0.072146,
     "end_time": "2021-05-21T00:27:14.399597",
     "exception": false,
     "start_time": "2021-05-21T00:27:14.327451",
     "status": "completed"
    },
    "tags": []
   },
   "outputs": [],
   "source": [
    "model_new = Model(layers[:-2])"
   ]
  },
  {
   "cell_type": "code",
   "execution_count": 25,
   "id": "varied-upgrade",
   "metadata": {
    "execution": {
     "iopub.execute_input": "2021-05-21T00:27:14.517870Z",
     "iopub.status.busy": "2021-05-21T00:27:14.517351Z",
     "iopub.status.idle": "2021-05-21T00:27:14.541455Z",
     "shell.execute_reply": "2021-05-21T00:27:14.542167Z"
    },
    "papermill": {
     "duration": 0.097645,
     "end_time": "2021-05-21T00:27:14.542310",
     "exception": false,
     "start_time": "2021-05-21T00:27:14.444665",
     "status": "completed"
    },
    "tags": []
   },
   "outputs": [],
   "source": [
    "plot_testing = model_new(testing_xdata)"
   ]
  },
  {
   "cell_type": "code",
   "execution_count": 26,
   "id": "specific-handling",
   "metadata": {
    "execution": {
     "iopub.execute_input": "2021-05-21T00:27:14.643154Z",
     "iopub.status.busy": "2021-05-21T00:27:14.642574Z",
     "iopub.status.idle": "2021-05-21T00:27:14.874646Z",
     "shell.execute_reply": "2021-05-21T00:27:14.874165Z"
    },
    "papermill": {
     "duration": 0.285457,
     "end_time": "2021-05-21T00:27:14.874792",
     "exception": false,
     "start_time": "2021-05-21T00:27:14.589335",
     "status": "completed"
    },
    "tags": []
   },
   "outputs": [
    {
     "data": {
      "text/plain": [
       "Text(0.5, 1.0, 'Outputs')"
      ]
     },
     "execution_count": 26,
     "metadata": {},
     "output_type": "execute_result"
    },
    {
     "data": {
      "image/png": "[encoded data removed]",
      "text/plain": [
       "<Figure size 576x504 with 1 Axes>"
      ]
     },
     "metadata": {
      "needs_background": "light"
     },
     "output_type": "display_data"
    }
   ],
   "source": [
    "plt.figure(figsize=(8,7))\n",
    "plt.scatter(plot_testing[:,0], plot_testing[:,1], alpha = 0.1, c = y_test.ravel());\n",
    "plt.title('Outputs')"
   ]
  },
  {
   "cell_type": "markdown",
   "id": "described-knowing",
   "metadata": {
    "papermill": {
     "duration": 0.052383,
     "end_time": "2021-05-21T00:27:14.987201",
     "exception": false,
     "start_time": "2021-05-21T00:27:14.934818",
     "status": "completed"
    },
    "tags": []
   },
   "source": [
    "### Plotting probability contours"
   ]
  },
  {
   "cell_type": "code",
   "execution_count": 27,
   "id": "needed-growing",
   "metadata": {
    "execution": {
     "iopub.execute_input": "2021-05-21T00:27:15.102420Z",
     "iopub.status.busy": "2021-05-21T00:27:15.101681Z",
     "iopub.status.idle": "2021-05-21T00:27:15.114936Z",
     "shell.execute_reply": "2021-05-21T00:27:15.115469Z"
    },
    "papermill": {
     "duration": 0.074582,
     "end_time": "2021-05-21T00:27:15.115594",
     "exception": false,
     "start_time": "2021-05-21T00:27:15.041012",
     "status": "completed"
    },
    "tags": []
   },
   "outputs": [],
   "source": [
    "model_prob = Model(layers[-2:]) "
   ]
  },
  {
   "cell_type": "code",
   "execution_count": 28,
   "id": "introductory-enforcement",
   "metadata": {
    "execution": {
     "iopub.execute_input": "2021-05-21T00:27:15.239027Z",
     "iopub.status.busy": "2021-05-21T00:27:15.238295Z",
     "iopub.status.idle": "2021-05-21T00:27:15.252815Z",
     "shell.execute_reply": "2021-05-21T00:27:15.253592Z"
    },
    "papermill": {
     "duration": 0.085303,
     "end_time": "2021-05-21T00:27:15.253758",
     "exception": false,
     "start_time": "2021-05-21T00:27:15.168455",
     "status": "completed"
    },
    "tags": []
   },
   "outputs": [],
   "source": [
    "# Adjust the x and y ranges according to the above generated plot.\n",
    "x_range = np.linspace(-4, 1, 100) \n",
    "y_range = np.linspace(-6, 6, 100) \n",
    "x_grid, y_grid = np.meshgrid(x_range, y_range) # x_grid and y_grig are of size 100 X 100\n",
    "\n",
    "# converting x_grid and y_grid to continuous arrays\n",
    "x_grid_flat = np.ravel(x_grid)\n",
    "y_grid_flat = np.ravel(y_grid)\n",
    "\n",
    "# The last layer of the current model takes two columns as input. Hence transpose of np.vstack() is required.\n",
    "X = np.vstack((x_grid_flat, y_grid_flat)).T\n",
    "\n",
    "# x_grid and y_grid are of size 100 x 100\n",
    "probability_contour = model_prob(X).reshape(100,100) "
   ]
  },
  {
   "cell_type": "code",
   "execution_count": 29,
   "id": "understood-landing",
   "metadata": {
    "execution": {
     "iopub.execute_input": "2021-05-21T00:27:15.374873Z",
     "iopub.status.busy": "2021-05-21T00:27:15.374033Z",
     "iopub.status.idle": "2021-05-21T00:27:15.678243Z",
     "shell.execute_reply": "2021-05-21T00:27:15.676937Z"
    },
    "papermill": {
     "duration": 0.365214,
     "end_time": "2021-05-21T00:27:15.678376",
     "exception": false,
     "start_time": "2021-05-21T00:27:15.313162",
     "status": "completed"
    },
    "tags": []
   },
   "outputs": [
    {
     "data": {
      "image/png": "[encoded data removed]",
      "text/plain": [
       "<Figure size 720x648 with 1 Axes>"
      ]
     },
     "metadata": {
      "needs_background": "light"
     },
     "output_type": "display_data"
    }
   ],
   "source": [
    "plt.figure(figsize=(10,9))\n",
    "plt.scatter(plot_testing[:,0], plot_testing[:,1], alpha = 0.1, c = y_test.ravel())\n",
    "contours = plt.contour(x_grid,y_grid,probability_contour)\n",
    "plt.title('Probability Contours')\n",
    "plt.clabel(contours, inline = True );"
   ]
  }
 ],
 "metadata": {
  "kernelspec": {
   "display_name": "Python 3",
   "language": "python",
   "name": "python3"
  },
  "language_info": {
   "codemirror_mode": {
    "name": "ipython",
    "version": 3
   },
   "file_extension": ".py",
   "mimetype": "text/x-python",
   "name": "python",
   "nbconvert_exporter": "python",
   "pygments_lexer": "ipython3",
   "version": "3.6.13"
  },
  "papermill": {
   "duration": 470.450691,
   "end_time": "2021-05-21T00:27:16.044939",
   "environment_variables": {},
   "exception": null,
   "input_path": "2020-08-11-NeuralNetwork.ipynb",
   "output_path": "2020-08-11-NeuralNetwork.ipynb",
   "parameters": {},
   "start_time": "2021-05-21T00:19:25.594248",
   "version": "2.1.2"
  }
 },
 "nbformat": 4,
 "nbformat_minor": 5
}