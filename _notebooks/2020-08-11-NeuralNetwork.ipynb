{
 "cells": [
  {
   "cell_type": "markdown",
   "metadata": {
    "papermill": {
     "duration": 0.028776,
     "end_time": "2020-08-17T00:05:38.595251",
     "exception": false,
     "start_time": "2020-08-17T00:05:38.566475",
     "status": "completed"
    },
    "tags": []
   },
   "source": [
    "# \"A Basic Neural Network: Differentiate Hand-Written Digits\"\n",
    "\n",
    "- badges: true\n",
    "- author: Akshith Sriram"
   ]
  },
  {
   "cell_type": "markdown",
   "metadata": {
    "papermill": {
     "duration": 0.140754,
     "end_time": "2020-08-17T00:05:38.953234",
     "exception": false,
     "start_time": "2020-08-17T00:05:38.812480",
     "status": "completed"
    },
    "tags": []
   },
   "source": [
    "### Key Objectives:\n",
    "- Building a neural network that differentiates two hand-written digits 3 and 8.\n",
    "- Comparing the results of this Neural Network (NN) to that of a Logistic Regression (LR) model.\n",
    "\n",
    "### Requirements:\n",
    "- 'Kudzu' : A neural network library that was designed during our course by [Univ.AI](www.univ.ai). \n",
    "- MNIST Database\n",
    "\n",
    "If MNIST is not installed, use the command `!pip install mnist` given below.\n",
    "It can be run both from the command line and Jupyter Notebook."
   ]
  },
  {
   "cell_type": "code",
   "execution_count": 1,
   "metadata": {
    "execution": {
     "iopub.execute_input": "2020-08-17T00:05:39.185238Z",
     "iopub.status.busy": "2020-08-17T00:05:39.184554Z",
     "iopub.status.idle": "2020-08-17T00:05:40.733357Z",
     "shell.execute_reply": "2020-08-17T00:05:40.732237Z"
    },
    "papermill": {
     "duration": 1.578277,
     "end_time": "2020-08-17T00:05:40.733584",
     "exception": false,
     "start_time": "2020-08-17T00:05:39.155307",
     "status": "completed"
    },
    "tags": []
   },
   "outputs": [
    {
     "name": "stdout",
     "output_type": "stream",
     "text": [
      "Collecting mnist\r\n"
     ]
    },
    {
     "name": "stdout",
     "output_type": "stream",
     "text": [
      "  Downloading mnist-0.2.2-py2.py3-none-any.whl (3.5 kB)\r\n"
     ]
    },
    {
     "name": "stdout",
     "output_type": "stream",
     "text": [
      "Requirement already satisfied: numpy in /opt/hostedtoolcache/Python/3.6.11/x64/lib/python3.6/site-packages (from mnist) (1.19.1)\r\n"
     ]
    },
    {
     "name": "stdout",
     "output_type": "stream",
     "text": [
      "Installing collected packages: mnist\r\n"
     ]
    },
    {
     "name": "stdout",
     "output_type": "stream",
     "text": [
      "Successfully installed mnist-0.2.2\r\n"
     ]
    },
    {
     "name": "stdout",
     "output_type": "stream",
     "text": [
      "\u001b[33mWARNING: You are using pip version 20.2.1; however, version 20.2.2 is available.\r\n",
      "You should consider upgrading via the '/opt/hostedtoolcache/Python/3.6.11/x64/bin/python -m pip install --upgrade pip' command.\u001b[0m\r\n"
     ]
    }
   ],
   "source": [
    "!pip install mnist "
   ]
  },
  {
   "cell_type": "markdown",
   "metadata": {
    "papermill": {
     "duration": 0.028824,
     "end_time": "2020-08-17T00:05:40.790616",
     "exception": false,
     "start_time": "2020-08-17T00:05:40.761792",
     "status": "completed"
    },
    "tags": []
   },
   "source": [
    "#### Importing necessary libraries"
   ]
  },
  {
   "cell_type": "code",
   "execution_count": 2,
   "metadata": {
    "execution": {
     "iopub.execute_input": "2020-08-17T00:05:40.851833Z",
     "iopub.status.busy": "2020-08-17T00:05:40.851274Z",
     "iopub.status.idle": "2020-08-17T00:05:41.438232Z",
     "shell.execute_reply": "2020-08-17T00:05:41.437718Z"
    },
    "papermill": {
     "duration": 0.619927,
     "end_time": "2020-08-17T00:05:41.438375",
     "exception": false,
     "start_time": "2020-08-17T00:05:40.818448",
     "status": "completed"
    },
    "tags": []
   },
   "outputs": [],
   "source": [
    "%load_ext autoreload\n",
    "%autoreload 2\n",
    "\n",
    "%matplotlib inline\n",
    "import matplotlib.pyplot as plt\n",
    "\n",
    "import numpy as np\n",
    "import pandas as pd"
   ]
  },
  {
   "cell_type": "markdown",
   "metadata": {
    "papermill": {
     "duration": 0.038985,
     "end_time": "2020-08-17T00:05:41.506038",
     "exception": false,
     "start_time": "2020-08-17T00:05:41.467053",
     "status": "completed"
    },
    "tags": []
   },
   "source": [
    "### Preparing the Data"
   ]
  },
  {
   "cell_type": "code",
   "execution_count": 3,
   "metadata": {
    "execution": {
     "iopub.execute_input": "2020-08-17T00:05:41.566324Z",
     "iopub.status.busy": "2020-08-17T00:05:41.565618Z",
     "iopub.status.idle": "2020-08-17T00:05:41.579884Z",
     "shell.execute_reply": "2020-08-17T00:05:41.579249Z"
    },
    "papermill": {
     "duration": 0.045464,
     "end_time": "2020-08-17T00:05:41.580029",
     "exception": false,
     "start_time": "2020-08-17T00:05:41.534565",
     "status": "completed"
    },
    "tags": []
   },
   "outputs": [],
   "source": [
    "import mnist"
   ]
  },
  {
   "cell_type": "code",
   "execution_count": 4,
   "metadata": {
    "execution": {
     "iopub.execute_input": "2020-08-17T00:05:41.639912Z",
     "iopub.status.busy": "2020-08-17T00:05:41.639334Z",
     "iopub.status.idle": "2020-08-17T00:05:42.690729Z",
     "shell.execute_reply": "2020-08-17T00:05:42.689660Z"
    },
    "papermill": {
     "duration": 1.081466,
     "end_time": "2020-08-17T00:05:42.690871",
     "exception": false,
     "start_time": "2020-08-17T00:05:41.609405",
     "status": "completed"
    },
    "tags": []
   },
   "outputs": [],
   "source": [
    "train_images = mnist.train_images()\n",
    "train_labels = mnist.train_labels()"
   ]
  },
  {
   "cell_type": "code",
   "execution_count": 5,
   "metadata": {
    "execution": {
     "iopub.execute_input": "2020-08-17T00:05:42.751299Z",
     "iopub.status.busy": "2020-08-17T00:05:42.744460Z",
     "iopub.status.idle": "2020-08-17T00:05:42.758031Z",
     "shell.execute_reply": "2020-08-17T00:05:42.758561Z"
    },
    "papermill": {
     "duration": 0.04206,
     "end_time": "2020-08-17T00:05:42.758689",
     "exception": false,
     "start_time": "2020-08-17T00:05:42.716629",
     "status": "completed"
    },
    "tags": []
   },
   "outputs": [
    {
     "data": {
      "text/plain": [
       "((60000, 28, 28), (60000,))"
      ]
     },
     "execution_count": 5,
     "metadata": {},
     "output_type": "execute_result"
    }
   ],
   "source": [
    "train_images.shape, train_labels.shape"
   ]
  },
  {
   "cell_type": "code",
   "execution_count": 6,
   "metadata": {
    "execution": {
     "iopub.execute_input": "2020-08-17T00:05:42.816231Z",
     "iopub.status.busy": "2020-08-17T00:05:42.815549Z",
     "iopub.status.idle": "2020-08-17T00:05:43.328076Z",
     "shell.execute_reply": "2020-08-17T00:05:43.327442Z"
    },
    "papermill": {
     "duration": 0.541782,
     "end_time": "2020-08-17T00:05:43.328228",
     "exception": false,
     "start_time": "2020-08-17T00:05:42.786446",
     "status": "completed"
    },
    "tags": []
   },
   "outputs": [],
   "source": [
    "test_images = mnist.test_images()\n",
    "test_labels = mnist.test_labels()"
   ]
  },
  {
   "cell_type": "code",
   "execution_count": 7,
   "metadata": {
    "execution": {
     "iopub.execute_input": "2020-08-17T00:05:43.385521Z",
     "iopub.status.busy": "2020-08-17T00:05:43.384983Z",
     "iopub.status.idle": "2020-08-17T00:05:43.398055Z",
     "shell.execute_reply": "2020-08-17T00:05:43.397596Z"
    },
    "papermill": {
     "duration": 0.042656,
     "end_time": "2020-08-17T00:05:43.398169",
     "exception": false,
     "start_time": "2020-08-17T00:05:43.355513",
     "status": "completed"
    },
    "tags": []
   },
   "outputs": [
    {
     "data": {
      "text/plain": [
       "((10000, 28, 28), (10000,))"
      ]
     },
     "execution_count": 7,
     "metadata": {},
     "output_type": "execute_result"
    }
   ],
   "source": [
    "test_images.shape, test_labels.shape"
   ]
  },
  {
   "cell_type": "code",
   "execution_count": 8,
   "metadata": {
    "execution": {
     "iopub.execute_input": "2020-08-17T00:05:43.455939Z",
     "iopub.status.busy": "2020-08-17T00:05:43.455356Z",
     "iopub.status.idle": "2020-08-17T00:05:43.601859Z",
     "shell.execute_reply": "2020-08-17T00:05:43.602286Z"
    },
    "papermill": {
     "duration": 0.177774,
     "end_time": "2020-08-17T00:05:43.602459",
     "exception": false,
     "start_time": "2020-08-17T00:05:43.424685",
     "status": "completed"
    },
    "tags": []
   },
   "outputs": [
    {
     "name": "stdout",
     "output_type": "stream",
     "text": [
      "2\n"
     ]
    },
    {
     "data": {
      "text/plain": [
       "<matplotlib.image.AxesImage at 0x7f1c8dcbf2b0>"
      ]
     },
     "execution_count": 8,
     "metadata": {},
     "output_type": "execute_result"
    },
    {
     "data": {
      "image/png": "[encoded data removed]",
      "text/plain": [
       "<Figure size 432x288 with 1 Axes>"
      ]
     },
     "metadata": {
      "needs_background": "light"
     },
     "output_type": "display_data"
    }
   ],
   "source": [
    "image_index = 7776 # You may select anything up to 60,000\n",
    "print(train_labels[image_index]) \n",
    "plt.imshow(train_images[image_index], cmap='Greys')"
   ]
  },
  {
   "cell_type": "markdown",
   "metadata": {
    "papermill": {
     "duration": 0.028931,
     "end_time": "2020-08-17T00:05:43.661414",
     "exception": false,
     "start_time": "2020-08-17T00:05:43.632483",
     "status": "completed"
    },
    "tags": []
   },
   "source": [
    "## Filter data to get 3 and 8 out"
   ]
  },
  {
   "cell_type": "code",
   "execution_count": 9,
   "metadata": {
    "execution": {
     "iopub.execute_input": "2020-08-17T00:05:43.721354Z",
     "iopub.status.busy": "2020-08-17T00:05:43.720765Z",
     "iopub.status.idle": "2020-08-17T00:05:43.741809Z",
     "shell.execute_reply": "2020-08-17T00:05:43.741298Z"
    },
    "papermill": {
     "duration": 0.052856,
     "end_time": "2020-08-17T00:05:43.741936",
     "exception": false,
     "start_time": "2020-08-17T00:05:43.689080",
     "status": "completed"
    },
    "tags": []
   },
   "outputs": [],
   "source": [
    "train_filter = np.where((train_labels == 3 ) | (train_labels == 8))\n",
    "test_filter = np.where((test_labels == 3) | (test_labels == 8))\n",
    "X_train, y_train = train_images[train_filter], train_labels[train_filter]\n",
    "X_test, y_test = test_images[test_filter], test_labels[test_filter]"
   ]
  },
  {
   "cell_type": "markdown",
   "metadata": {
    "papermill": {
     "duration": 0.028352,
     "end_time": "2020-08-17T00:05:43.798310",
     "exception": false,
     "start_time": "2020-08-17T00:05:43.769958",
     "status": "completed"
    },
    "tags": []
   },
   "source": [
    "We normalize the pixel values in the 0 to 1 range"
   ]
  },
  {
   "cell_type": "code",
   "execution_count": 10,
   "metadata": {
    "execution": {
     "iopub.execute_input": "2020-08-17T00:05:43.858031Z",
     "iopub.status.busy": "2020-08-17T00:05:43.857439Z",
     "iopub.status.idle": "2020-08-17T00:05:43.910673Z",
     "shell.execute_reply": "2020-08-17T00:05:43.909989Z"
    },
    "papermill": {
     "duration": 0.08371,
     "end_time": "2020-08-17T00:05:43.910835",
     "exception": false,
     "start_time": "2020-08-17T00:05:43.827125",
     "status": "completed"
    },
    "tags": []
   },
   "outputs": [],
   "source": [
    "X_train = X_train/255.\n",
    "X_test = X_test/255."
   ]
  },
  {
   "cell_type": "markdown",
   "metadata": {
    "papermill": {
     "duration": 0.029485,
     "end_time": "2020-08-17T00:05:43.969104",
     "exception": false,
     "start_time": "2020-08-17T00:05:43.939619",
     "status": "completed"
    },
    "tags": []
   },
   "source": [
    "Setup the labels as 1 (when the digit is 3) and 0 (when the digit is 8)"
   ]
  },
  {
   "cell_type": "code",
   "execution_count": 11,
   "metadata": {
    "execution": {
     "iopub.execute_input": "2020-08-17T00:05:44.029307Z",
     "iopub.status.busy": "2020-08-17T00:05:44.028722Z",
     "iopub.status.idle": "2020-08-17T00:05:44.041395Z",
     "shell.execute_reply": "2020-08-17T00:05:44.041860Z"
    },
    "papermill": {
     "duration": 0.044628,
     "end_time": "2020-08-17T00:05:44.042015",
     "exception": false,
     "start_time": "2020-08-17T00:05:43.997387",
     "status": "completed"
    },
    "tags": []
   },
   "outputs": [],
   "source": [
    "y_train = 1*(y_train==3)\n",
    "y_test = 1*(y_test==3)"
   ]
  },
  {
   "cell_type": "code",
   "execution_count": 12,
   "metadata": {
    "execution": {
     "iopub.execute_input": "2020-08-17T00:05:44.815973Z",
     "iopub.status.busy": "2020-08-17T00:05:44.815307Z",
     "iopub.status.idle": "2020-08-17T00:05:44.833708Z",
     "shell.execute_reply": "2020-08-17T00:05:44.832884Z"
    },
    "papermill": {
     "duration": 0.761233,
     "end_time": "2020-08-17T00:05:44.833855",
     "exception": false,
     "start_time": "2020-08-17T00:05:44.072622",
     "status": "completed"
    },
    "tags": []
   },
   "outputs": [
    {
     "data": {
      "text/plain": [
       "((11982, 28, 28), (1984, 28, 28))"
      ]
     },
     "execution_count": 12,
     "metadata": {},
     "output_type": "execute_result"
    }
   ],
   "source": [
    "X_train.shape, X_test.shape"
   ]
  },
  {
   "cell_type": "markdown",
   "metadata": {
    "papermill": {
     "duration": 0.109222,
     "end_time": "2020-08-17T00:05:45.015066",
     "exception": false,
     "start_time": "2020-08-17T00:05:44.905844",
     "status": "completed"
    },
    "tags": []
   },
   "source": [
    "### Reshape the input data to create a linear array"
   ]
  },
  {
   "cell_type": "code",
   "execution_count": 13,
   "metadata": {
    "execution": {
     "iopub.execute_input": "2020-08-17T00:05:45.076745Z",
     "iopub.status.busy": "2020-08-17T00:05:45.076160Z",
     "iopub.status.idle": "2020-08-17T00:05:45.090025Z",
     "shell.execute_reply": "2020-08-17T00:05:45.090668Z"
    },
    "papermill": {
     "duration": 0.04755,
     "end_time": "2020-08-17T00:05:45.091029",
     "exception": false,
     "start_time": "2020-08-17T00:05:45.043479",
     "status": "completed"
    },
    "tags": []
   },
   "outputs": [
    {
     "data": {
      "text/plain": [
       "((11982, 784), (1984, 784))"
      ]
     },
     "execution_count": 13,
     "metadata": {},
     "output_type": "execute_result"
    }
   ],
   "source": [
    "X_train = X_train.reshape(X_train.shape[0], -1)\n",
    "X_test = X_test.reshape(X_test.shape[0], -1)\n",
    "X_train.shape, X_test.shape"
   ]
  },
  {
   "cell_type": "markdown",
   "metadata": {
    "papermill": {
     "duration": 0.033568,
     "end_time": "2020-08-17T00:05:45.152561",
     "exception": false,
     "start_time": "2020-08-17T00:05:45.118993",
     "status": "completed"
    },
    "tags": []
   },
   "source": [
    "### Importing appropriate functions from 'Kudzu'"
   ]
  },
  {
   "cell_type": "code",
   "execution_count": 14,
   "metadata": {
    "execution": {
     "iopub.execute_input": "2020-08-17T00:05:45.212657Z",
     "iopub.status.busy": "2020-08-17T00:05:45.212105Z",
     "iopub.status.idle": "2020-08-17T00:05:45.232345Z",
     "shell.execute_reply": "2020-08-17T00:05:45.231842Z"
    },
    "papermill": {
     "duration": 0.051724,
     "end_time": "2020-08-17T00:05:45.232477",
     "exception": false,
     "start_time": "2020-08-17T00:05:45.180753",
     "status": "completed"
    },
    "tags": []
   },
   "outputs": [],
   "source": [
    "from kudzu.layer import Sigmoid\n",
    "from kudzu.layer import Relu\n",
    "from kudzu.layer import Affine, Sigmoid\n",
    "\n",
    "from kudzu.model import Model\n",
    "from kudzu.train import Learner\n",
    "from kudzu.optim import GD\n",
    "from kudzu.data import Data, Dataloader, Sampler\n",
    "\n",
    "from kudzu.callbacks import AccCallback\n",
    "from kudzu.callbacks import ClfCallback\n",
    "\n",
    "from kudzu.loss import MSE"
   ]
  },
  {
   "cell_type": "markdown",
   "metadata": {
    "papermill": {
     "duration": 0.028333,
     "end_time": "2020-08-17T00:05:45.289032",
     "exception": false,
     "start_time": "2020-08-17T00:05:45.260699",
     "status": "completed"
    },
    "tags": []
   },
   "source": [
    "### Let us create a `Config` class, to store important parameters. \n",
    "This class essentially plays the role of a dictionary."
   ]
  },
  {
   "cell_type": "code",
   "execution_count": 15,
   "metadata": {
    "execution": {
     "iopub.execute_input": "2020-08-17T00:05:45.352513Z",
     "iopub.status.busy": "2020-08-17T00:05:45.351976Z",
     "iopub.status.idle": "2020-08-17T00:05:45.364915Z",
     "shell.execute_reply": "2020-08-17T00:05:45.365438Z"
    },
    "papermill": {
     "duration": 0.04619,
     "end_time": "2020-08-17T00:05:45.365566",
     "exception": false,
     "start_time": "2020-08-17T00:05:45.319376",
     "status": "completed"
    },
    "tags": []
   },
   "outputs": [],
   "source": [
    "class Config:\n",
    "    pass\n",
    "config = Config()\n",
    "config.lr = 0.001\n",
    "config.num_epochs = 251\n",
    "config.bs = 50"
   ]
  },
  {
   "cell_type": "markdown",
   "metadata": {
    "papermill": {
     "duration": 0.027983,
     "end_time": "2020-08-17T00:05:45.421646",
     "exception": false,
     "start_time": "2020-08-17T00:05:45.393663",
     "status": "completed"
    },
    "tags": []
   },
   "source": [
    "### Initializing data to the variables"
   ]
  },
  {
   "cell_type": "code",
   "execution_count": 16,
   "metadata": {
    "execution": {
     "iopub.execute_input": "2020-08-17T00:05:45.481421Z",
     "iopub.status.busy": "2020-08-17T00:05:45.480786Z",
     "iopub.status.idle": "2020-08-17T00:05:45.493780Z",
     "shell.execute_reply": "2020-08-17T00:05:45.494192Z"
    },
    "papermill": {
     "duration": 0.045494,
     "end_time": "2020-08-17T00:05:45.494320",
     "exception": false,
     "start_time": "2020-08-17T00:05:45.448826",
     "status": "completed"
    },
    "tags": []
   },
   "outputs": [],
   "source": [
    "data = Data(X_train, y_train.reshape(-1,1))\n",
    "sampler = Sampler(data, config.bs, shuffle=True)\n",
    "\n",
    "dl = Dataloader(data, sampler)\n",
    "\n",
    "opt = GD(config.lr)\n",
    "loss = MSE()"
   ]
  },
  {
   "cell_type": "code",
   "execution_count": 17,
   "metadata": {
    "execution": {
     "iopub.execute_input": "2020-08-17T00:05:45.554151Z",
     "iopub.status.busy": "2020-08-17T00:05:45.553572Z",
     "iopub.status.idle": "2020-08-17T00:05:45.566151Z",
     "shell.execute_reply": "2020-08-17T00:05:45.565686Z"
    },
    "papermill": {
     "duration": 0.044398,
     "end_time": "2020-08-17T00:05:45.566269",
     "exception": false,
     "start_time": "2020-08-17T00:05:45.521871",
     "status": "completed"
    },
    "tags": []
   },
   "outputs": [],
   "source": [
    "training_xdata = X_train\n",
    "testing_xdata = X_test\n",
    "training_ydata = y_train.reshape(-1,1)\n",
    "testing_ydata = y_test.reshape(-1,1)"
   ]
  },
  {
   "cell_type": "markdown",
   "metadata": {
    "papermill": {
     "duration": 0.029804,
     "end_time": "2020-08-17T00:05:45.624650",
     "exception": false,
     "start_time": "2020-08-17T00:05:45.594846",
     "status": "completed"
    },
    "tags": []
   },
   "source": [
    "### Running Models with the Training data\n",
    "Details about the network layers:\n",
    "- A first affine layer has 784 inputs and does 100 affine transforms. These are followed by a Relu\n",
    "- A second affine layer has 100 inputs from the 100 activations of the past layer, and does 100 affine transforms. These are followed by a Relu\n",
    "- A third affine layer has 100 activations and does 2 affine transformations to create an embedding for visualization. There is no non-linearity here.\n",
    "- A final \"logistic regression\" which has an affine transform from 2 inputs to 1 output, which is squeezed through a sigmoid.\n",
    "\n",
    "Help taken from Anshuman's Notebook."
   ]
  },
  {
   "cell_type": "code",
   "execution_count": 18,
   "metadata": {
    "execution": {
     "iopub.execute_input": "2020-08-17T00:05:45.688360Z",
     "iopub.status.busy": "2020-08-17T00:05:45.687766Z",
     "iopub.status.idle": "2020-08-17T00:05:45.706177Z",
     "shell.execute_reply": "2020-08-17T00:05:45.706659Z"
    },
    "papermill": {
     "duration": 0.051983,
     "end_time": "2020-08-17T00:05:45.706807",
     "exception": false,
     "start_time": "2020-08-17T00:05:45.654824",
     "status": "completed"
    },
    "tags": []
   },
   "outputs": [],
   "source": [
    "# layers for the Neural Network\n",
    "layers = [Affine(\"first\", 784, 100), Relu(\"first\"), Affine(\"second\", 100, 100), Relu(\"second\"), Affine(\"third\", 100, 2), Affine(\"final\", 2, 1), Sigmoid(\"final\")]\n",
    "model_nn = Model(layers)\n",
    "\n",
    "# layers for the Logistic Regression\n",
    "layers_lr = [Affine(\"logits\", 784, 1), Sigmoid(\"sigmoid\")]\n",
    "model_lr = Model(layers_lr)"
   ]
  },
  {
   "cell_type": "code",
   "execution_count": 19,
   "metadata": {
    "execution": {
     "iopub.execute_input": "2020-08-17T00:05:45.766974Z",
     "iopub.status.busy": "2020-08-17T00:05:45.766348Z",
     "iopub.status.idle": "2020-08-17T00:05:45.779972Z",
     "shell.execute_reply": "2020-08-17T00:05:45.780413Z"
    },
    "papermill": {
     "duration": 0.045707,
     "end_time": "2020-08-17T00:05:45.780542",
     "exception": false,
     "start_time": "2020-08-17T00:05:45.734835",
     "status": "completed"
    },
    "tags": []
   },
   "outputs": [],
   "source": [
    "# suffix _nn stands for Neural Network.\n",
    "learner_nn = Learner(loss, model_nn, opt, config.num_epochs)\n",
    "acc_nn = ClfCallback(learner_nn, config.bs, training_xdata , testing_xdata, training_ydata, testing_ydata)\n",
    "learner_nn.set_callbacks([acc_nn])"
   ]
  },
  {
   "cell_type": "code",
   "execution_count": 20,
   "metadata": {
    "execution": {
     "iopub.execute_input": "2020-08-17T00:05:45.839930Z",
     "iopub.status.busy": "2020-08-17T00:05:45.839398Z",
     "iopub.status.idle": "2020-08-17T00:07:10.769365Z",
     "shell.execute_reply": "2020-08-17T00:07:10.770116Z"
    },
    "papermill": {
     "duration": 84.962508,
     "end_time": "2020-08-17T00:07:10.770267",
     "exception": false,
     "start_time": "2020-08-17T00:05:45.807759",
     "status": "completed"
    },
    "tags": []
   },
   "outputs": [
    {
     "name": "stdout",
     "output_type": "stream",
     "text": [
      "====== Neural Network ======\n"
     ]
    },
    {
     "name": "stdout",
     "output_type": "stream",
     "text": [
      "Epoch 0, Loss 0.2288\n",
      "Training Accuracy: 0.7555, Testing Accuracy: 0.7848\n",
      "\n"
     ]
    },
    {
     "name": "stdout",
     "output_type": "stream",
     "text": [
      "Epoch 10, Loss 0.0671\n",
      "Training Accuracy: 0.9282, Testing Accuracy: 0.9365\n",
      "\n"
     ]
    },
    {
     "name": "stdout",
     "output_type": "stream",
     "text": [
      "Epoch 20, Loss 0.0463\n",
      "Training Accuracy: 0.9482, Testing Accuracy: 0.9587\n",
      "\n"
     ]
    },
    {
     "name": "stdout",
     "output_type": "stream",
     "text": [
      "Epoch 30, Loss 0.0384\n",
      "Training Accuracy: 0.9567, Testing Accuracy: 0.9642\n",
      "\n"
     ]
    },
    {
     "name": "stdout",
     "output_type": "stream",
     "text": [
      "Epoch 40, Loss 0.0342\n",
      "Training Accuracy: 0.9607, Testing Accuracy: 0.9662\n",
      "\n"
     ]
    },
    {
     "name": "stdout",
     "output_type": "stream",
     "text": [
      "Epoch 50, Loss 0.0314\n",
      "Training Accuracy: 0.9633, Testing Accuracy: 0.9662\n",
      "\n"
     ]
    },
    {
     "name": "stdout",
     "output_type": "stream",
     "text": [
      "Epoch 60, Loss 0.0295\n",
      "Training Accuracy: 0.9655, Testing Accuracy: 0.9682\n",
      "\n"
     ]
    },
    {
     "name": "stdout",
     "output_type": "stream",
     "text": [
      "Epoch 70, Loss 0.0279\n",
      "Training Accuracy: 0.9671, Testing Accuracy: 0.9682\n",
      "\n"
     ]
    },
    {
     "name": "stdout",
     "output_type": "stream",
     "text": [
      "Epoch 80, Loss 0.0267\n",
      "Training Accuracy: 0.9694, Testing Accuracy: 0.9703\n",
      "\n"
     ]
    },
    {
     "name": "stdout",
     "output_type": "stream",
     "text": [
      "Epoch 90, Loss 0.0256\n",
      "Training Accuracy: 0.9708, Testing Accuracy: 0.9708\n",
      "\n"
     ]
    },
    {
     "name": "stdout",
     "output_type": "stream",
     "text": [
      "Epoch 100, Loss 0.0247\n",
      "Training Accuracy: 0.9724, Testing Accuracy: 0.9703\n",
      "\n"
     ]
    },
    {
     "name": "stdout",
     "output_type": "stream",
     "text": [
      "Epoch 110, Loss 0.0239\n",
      "Training Accuracy: 0.9729, Testing Accuracy: 0.9703\n",
      "\n"
     ]
    },
    {
     "name": "stdout",
     "output_type": "stream",
     "text": [
      "Epoch 120, Loss 0.0231\n",
      "Training Accuracy: 0.9739, Testing Accuracy: 0.9703\n",
      "\n"
     ]
    },
    {
     "name": "stdout",
     "output_type": "stream",
     "text": [
      "Epoch 130, Loss 0.0225\n",
      "Training Accuracy: 0.9747, Testing Accuracy: 0.9708\n",
      "\n"
     ]
    },
    {
     "name": "stdout",
     "output_type": "stream",
     "text": [
      "Epoch 140, Loss 0.0218\n",
      "Training Accuracy: 0.9754, Testing Accuracy: 0.9713\n",
      "\n"
     ]
    },
    {
     "name": "stdout",
     "output_type": "stream",
     "text": [
      "Epoch 150, Loss 0.0213\n",
      "Training Accuracy: 0.9763, Testing Accuracy: 0.9723\n",
      "\n"
     ]
    },
    {
     "name": "stdout",
     "output_type": "stream",
     "text": [
      "Epoch 160, Loss 0.0207\n",
      "Training Accuracy: 0.9766, Testing Accuracy: 0.9728\n",
      "\n"
     ]
    },
    {
     "name": "stdout",
     "output_type": "stream",
     "text": [
      "Epoch 170, Loss 0.0202\n",
      "Training Accuracy: 0.9773, Testing Accuracy: 0.9728\n",
      "\n"
     ]
    },
    {
     "name": "stdout",
     "output_type": "stream",
     "text": [
      "Epoch 180, Loss 0.0197\n",
      "Training Accuracy: 0.9777, Testing Accuracy: 0.9728\n",
      "\n"
     ]
    },
    {
     "name": "stdout",
     "output_type": "stream",
     "text": [
      "Epoch 190, Loss 0.0193\n",
      "Training Accuracy: 0.9784, Testing Accuracy: 0.9733\n",
      "\n"
     ]
    },
    {
     "name": "stdout",
     "output_type": "stream",
     "text": [
      "Epoch 200, Loss 0.0188\n",
      "Training Accuracy: 0.9791, Testing Accuracy: 0.9743\n",
      "\n"
     ]
    },
    {
     "name": "stdout",
     "output_type": "stream",
     "text": [
      "Epoch 210, Loss 0.0184\n",
      "Training Accuracy: 0.9800, Testing Accuracy: 0.9748\n",
      "\n"
     ]
    },
    {
     "name": "stdout",
     "output_type": "stream",
     "text": [
      "Epoch 220, Loss 0.018\n",
      "Training Accuracy: 0.9807, Testing Accuracy: 0.9758\n",
      "\n"
     ]
    },
    {
     "name": "stdout",
     "output_type": "stream",
     "text": [
      "Epoch 230, Loss 0.0176\n",
      "Training Accuracy: 0.9811, Testing Accuracy: 0.9768\n",
      "\n"
     ]
    },
    {
     "name": "stdout",
     "output_type": "stream",
     "text": [
      "Epoch 240, Loss 0.0172\n",
      "Training Accuracy: 0.9815, Testing Accuracy: 0.9763\n",
      "\n"
     ]
    },
    {
     "name": "stdout",
     "output_type": "stream",
     "text": [
      "Epoch 250, Loss 0.0169\n",
      "Training Accuracy: 0.9821, Testing Accuracy: 0.9778\n",
      "\n"
     ]
    },
    {
     "data": {
      "text/plain": [
       "0.00027572865042959147"
      ]
     },
     "execution_count": 20,
     "metadata": {},
     "output_type": "execute_result"
    }
   ],
   "source": [
    "print(\"====== Neural Network ======\")\n",
    "learner_nn.train_loop(dl)"
   ]
  },
  {
   "cell_type": "markdown",
   "metadata": {
    "papermill": {
     "duration": 0.03588,
     "end_time": "2020-08-17T00:07:10.842106",
     "exception": false,
     "start_time": "2020-08-17T00:07:10.806226",
     "status": "completed"
    },
    "tags": []
   },
   "source": [
    "### Logistic Regression based Implementation."
   ]
  },
  {
   "cell_type": "code",
   "execution_count": 21,
   "metadata": {
    "execution": {
     "iopub.execute_input": "2020-08-17T00:07:10.921624Z",
     "iopub.status.busy": "2020-08-17T00:07:10.919499Z",
     "iopub.status.idle": "2020-08-17T00:07:10.932457Z",
     "shell.execute_reply": "2020-08-17T00:07:10.932005Z"
    },
    "papermill": {
     "duration": 0.054818,
     "end_time": "2020-08-17T00:07:10.932627",
     "exception": false,
     "start_time": "2020-08-17T00:07:10.877809",
     "status": "completed"
    },
    "tags": []
   },
   "outputs": [],
   "source": [
    "learner_lr = Learner(loss, model_lr, opt, config.num_epochs)\n",
    "acc_lr = ClfCallback(learner_lr, config.bs, training_xdata , testing_xdata, training_ydata, testing_ydata)\n",
    "learner_lr.set_callbacks([acc_lr])"
   ]
  },
  {
   "cell_type": "code",
   "execution_count": 22,
   "metadata": {
    "execution": {
     "iopub.execute_input": "2020-08-17T00:07:11.015729Z",
     "iopub.status.busy": "2020-08-17T00:07:11.015086Z",
     "iopub.status.idle": "2020-08-17T00:07:26.363522Z",
     "shell.execute_reply": "2020-08-17T00:07:26.364411Z"
    },
    "papermill": {
     "duration": 15.392798,
     "end_time": "2020-08-17T00:07:26.364563",
     "exception": false,
     "start_time": "2020-08-17T00:07:10.971765",
     "status": "completed"
    },
    "tags": []
   },
   "outputs": [
    {
     "name": "stdout",
     "output_type": "stream",
     "text": [
      "====== Logistic Regression ======\n",
      "Epoch 0, Loss 0.2349\n",
      "Training Accuracy: 0.7308, Testing Accuracy: 0.7429\n",
      "\n"
     ]
    },
    {
     "name": "stdout",
     "output_type": "stream",
     "text": [
      "Epoch 10, Loss 0.1017\n",
      "Training Accuracy: 0.9103, Testing Accuracy: 0.9194\n",
      "\n"
     ]
    },
    {
     "name": "stdout",
     "output_type": "stream",
     "text": [
      "Epoch 20, Loss 0.0785\n",
      "Training Accuracy: 0.9276, Testing Accuracy: 0.9330\n",
      "\n"
     ]
    },
    {
     "name": "stdout",
     "output_type": "stream",
     "text": [
      "Epoch 30, Loss 0.0678\n",
      "Training Accuracy: 0.9365, Testing Accuracy: 0.9446\n",
      "\n"
     ]
    },
    {
     "name": "stdout",
     "output_type": "stream",
     "text": [
      "Epoch 40, Loss 0.0612\n",
      "Training Accuracy: 0.9411, Testing Accuracy: 0.9501\n",
      "\n"
     ]
    },
    {
     "name": "stdout",
     "output_type": "stream",
     "text": [
      "Epoch 50, Loss 0.0568\n",
      "Training Accuracy: 0.9453, Testing Accuracy: 0.9556\n",
      "\n"
     ]
    },
    {
     "name": "stdout",
     "output_type": "stream",
     "text": [
      "Epoch 60, Loss 0.0535\n",
      "Training Accuracy: 0.9478, Testing Accuracy: 0.9572\n",
      "\n"
     ]
    },
    {
     "name": "stdout",
     "output_type": "stream",
     "text": [
      "Epoch 70, Loss 0.051\n",
      "Training Accuracy: 0.9491, Testing Accuracy: 0.9582\n",
      "\n"
     ]
    },
    {
     "name": "stdout",
     "output_type": "stream",
     "text": [
      "Epoch 80, Loss 0.0489\n",
      "Training Accuracy: 0.9505, Testing Accuracy: 0.9587\n",
      "\n"
     ]
    },
    {
     "name": "stdout",
     "output_type": "stream",
     "text": [
      "Epoch 90, Loss 0.0472\n",
      "Training Accuracy: 0.9517, Testing Accuracy: 0.9582\n",
      "\n"
     ]
    },
    {
     "name": "stdout",
     "output_type": "stream",
     "text": [
      "Epoch 100, Loss 0.0458\n",
      "Training Accuracy: 0.9526, Testing Accuracy: 0.9592\n",
      "\n"
     ]
    },
    {
     "name": "stdout",
     "output_type": "stream",
     "text": [
      "Epoch 110, Loss 0.0446\n",
      "Training Accuracy: 0.9535, Testing Accuracy: 0.9607\n",
      "\n"
     ]
    },
    {
     "name": "stdout",
     "output_type": "stream",
     "text": [
      "Epoch 120, Loss 0.0436\n",
      "Training Accuracy: 0.9539, Testing Accuracy: 0.9622\n",
      "\n"
     ]
    },
    {
     "name": "stdout",
     "output_type": "stream",
     "text": [
      "Epoch 130, Loss 0.0426\n",
      "Training Accuracy: 0.9548, Testing Accuracy: 0.9622\n",
      "\n"
     ]
    },
    {
     "name": "stdout",
     "output_type": "stream",
     "text": [
      "Epoch 140, Loss 0.0418\n",
      "Training Accuracy: 0.9555, Testing Accuracy: 0.9622\n",
      "\n"
     ]
    },
    {
     "name": "stdout",
     "output_type": "stream",
     "text": [
      "Epoch 150, Loss 0.0411\n",
      "Training Accuracy: 0.9563, Testing Accuracy: 0.9647\n",
      "\n"
     ]
    },
    {
     "name": "stdout",
     "output_type": "stream",
     "text": [
      "Epoch 160, Loss 0.0404\n",
      "Training Accuracy: 0.9573, Testing Accuracy: 0.9652\n",
      "\n"
     ]
    },
    {
     "name": "stdout",
     "output_type": "stream",
     "text": [
      "Epoch 170, Loss 0.0398\n",
      "Training Accuracy: 0.9582, Testing Accuracy: 0.9662\n",
      "\n"
     ]
    },
    {
     "name": "stdout",
     "output_type": "stream",
     "text": [
      "Epoch 180, Loss 0.0393\n",
      "Training Accuracy: 0.9591, Testing Accuracy: 0.9667\n",
      "\n"
     ]
    },
    {
     "name": "stdout",
     "output_type": "stream",
     "text": [
      "Epoch 190, Loss 0.0387\n",
      "Training Accuracy: 0.9599, Testing Accuracy: 0.9672\n",
      "\n"
     ]
    },
    {
     "name": "stdout",
     "output_type": "stream",
     "text": [
      "Epoch 200, Loss 0.0383\n",
      "Training Accuracy: 0.9604, Testing Accuracy: 0.9682\n",
      "\n"
     ]
    },
    {
     "name": "stdout",
     "output_type": "stream",
     "text": [
      "Epoch 210, Loss 0.0378\n",
      "Training Accuracy: 0.9604, Testing Accuracy: 0.9688\n",
      "\n"
     ]
    },
    {
     "name": "stdout",
     "output_type": "stream",
     "text": [
      "Epoch 220, Loss 0.0374\n",
      "Training Accuracy: 0.9609, Testing Accuracy: 0.9688\n",
      "\n"
     ]
    },
    {
     "name": "stdout",
     "output_type": "stream",
     "text": [
      "Epoch 230, Loss 0.037\n",
      "Training Accuracy: 0.9615, Testing Accuracy: 0.9677\n",
      "\n"
     ]
    },
    {
     "name": "stdout",
     "output_type": "stream",
     "text": [
      "Epoch 240, Loss 0.0367\n",
      "Training Accuracy: 0.9618, Testing Accuracy: 0.9688\n",
      "\n"
     ]
    },
    {
     "name": "stdout",
     "output_type": "stream",
     "text": [
      "Epoch 250, Loss 0.0364\n",
      "Training Accuracy: 0.9618, Testing Accuracy: 0.9688\n",
      "\n"
     ]
    },
    {
     "data": {
      "text/plain": [
       "0.038446870589923826"
      ]
     },
     "execution_count": 22,
     "metadata": {},
     "output_type": "execute_result"
    }
   ],
   "source": [
    "print(\"====== Logistic Regression ======\")\n",
    "learner_lr.train_loop(dl)"
   ]
  },
  {
   "cell_type": "markdown",
   "metadata": {
    "papermill": {
     "duration": 0.043943,
     "end_time": "2020-08-17T00:07:26.452498",
     "exception": false,
     "start_time": "2020-08-17T00:07:26.408555",
     "status": "completed"
    },
    "tags": []
   },
   "source": [
    "### Comparing results of NN and LR"
   ]
  },
  {
   "cell_type": "code",
   "execution_count": 23,
   "metadata": {
    "execution": {
     "iopub.execute_input": "2020-08-17T00:07:26.543369Z",
     "iopub.status.busy": "2020-08-17T00:07:26.542791Z",
     "iopub.status.idle": "2020-08-17T00:07:26.781766Z",
     "shell.execute_reply": "2020-08-17T00:07:26.781229Z"
    },
    "papermill": {
     "duration": 0.285696,
     "end_time": "2020-08-17T00:07:26.781900",
     "exception": false,
     "start_time": "2020-08-17T00:07:26.496204",
     "status": "completed"
    },
    "tags": []
   },
   "outputs": [
    {
     "data": {
      "text/plain": [
       "<matplotlib.legend.Legend at 0x7f1c8d89c9e8>"
      ]
     },
     "execution_count": 23,
     "metadata": {},
     "output_type": "execute_result"
    },
    {
     "data": {
      "image/png": "[encoded data removed]",
      "text/plain": [
       "<Figure size 1080x720 with 1 Axes>"
      ]
     },
     "metadata": {
      "needs_background": "light"
     },
     "output_type": "display_data"
    }
   ],
   "source": [
    "plt.figure(figsize=(15,10))\n",
    "\n",
    "# Neural Network plots\n",
    "plt.plot(acc_nn.accuracies, 'r-', label = \"Training Accuracies - NN\")\n",
    "plt.plot(acc_nn.test_accuracies, 'g-', label = \"Testing Accuracies - NN\")\n",
    "\n",
    "# Logistic Regression plots\n",
    "plt.plot(acc_lr.accuracies, 'k-', label = \"Training Accuracies - LR\")\n",
    "plt.plot(acc_lr.test_accuracies, 'b-', label = \"Testing Accuracies - LR\")\n",
    "\n",
    "plt.ylim(0.8, 1)\n",
    "\n",
    "plt.legend()\n",
    "\n"
   ]
  },
  {
   "cell_type": "markdown",
   "metadata": {
    "papermill": {
     "duration": 0.044124,
     "end_time": "2020-08-17T00:07:26.870501",
     "exception": false,
     "start_time": "2020-08-17T00:07:26.826377",
     "status": "completed"
    },
    "tags": []
   },
   "source": [
    "### From the plot, we can observe the following:\n",
    "- Neural Network achieves higher accuracy than the Logistic Regression model.\n",
    "- This apparently, is because of overfitting, i.e. NN captures more noise than data.\n",
    "- Testing accuracy of NN drops below the Training accuracy at higher epochs. This explains the over-fitting on training data.\n",
    "- Logistic Regression gives a reliable accuracy, without the above mentioned problem.\n"
   ]
  },
  {
   "cell_type": "markdown",
   "metadata": {
    "papermill": {
     "duration": 0.04335,
     "end_time": "2020-08-17T00:07:26.959671",
     "exception": false,
     "start_time": "2020-08-17T00:07:26.916321",
     "status": "completed"
    },
    "tags": []
   },
   "source": [
    "### Moving till the last but one layer (excluding it).\n",
    "#### Plotting the outputs of this layer of the NN."
   ]
  },
  {
   "cell_type": "code",
   "execution_count": 24,
   "metadata": {
    "execution": {
     "iopub.execute_input": "2020-08-17T00:07:27.053064Z",
     "iopub.status.busy": "2020-08-17T00:07:27.052152Z",
     "iopub.status.idle": "2020-08-17T00:07:27.065355Z",
     "shell.execute_reply": "2020-08-17T00:07:27.065826Z"
    },
    "papermill": {
     "duration": 0.062008,
     "end_time": "2020-08-17T00:07:27.065968",
     "exception": false,
     "start_time": "2020-08-17T00:07:27.003960",
     "status": "completed"
    },
    "tags": []
   },
   "outputs": [],
   "source": [
    "model_new = Model(layers[:-2])"
   ]
  },
  {
   "cell_type": "code",
   "execution_count": 25,
   "metadata": {
    "execution": {
     "iopub.execute_input": "2020-08-17T00:07:27.163357Z",
     "iopub.status.busy": "2020-08-17T00:07:27.161845Z",
     "iopub.status.idle": "2020-08-17T00:07:27.181477Z",
     "shell.execute_reply": "2020-08-17T00:07:27.181929Z"
    },
    "papermill": {
     "duration": 0.070907,
     "end_time": "2020-08-17T00:07:27.182059",
     "exception": false,
     "start_time": "2020-08-17T00:07:27.111152",
     "status": "completed"
    },
    "tags": []
   },
   "outputs": [],
   "source": [
    "plot_testing = model_new(testing_xdata)"
   ]
  },
  {
   "cell_type": "code",
   "execution_count": 26,
   "metadata": {
    "execution": {
     "iopub.execute_input": "2020-08-17T00:07:27.319156Z",
     "iopub.status.busy": "2020-08-17T00:07:27.297152Z",
     "iopub.status.idle": "2020-08-17T00:07:27.481441Z",
     "shell.execute_reply": "2020-08-17T00:07:27.482001Z"
    },
    "papermill": {
     "duration": 0.251573,
     "end_time": "2020-08-17T00:07:27.482173",
     "exception": false,
     "start_time": "2020-08-17T00:07:27.230600",
     "status": "completed"
    },
    "tags": []
   },
   "outputs": [
    {
     "data": {
      "text/plain": [
       "Text(0.5, 1.0, 'Outputs')"
      ]
     },
     "execution_count": 26,
     "metadata": {},
     "output_type": "execute_result"
    },
    {
     "data": {
      "image/png": "[encoded data removed]",
      "text/plain": [
       "<Figure size 576x504 with 1 Axes>"
      ]
     },
     "metadata": {
      "needs_background": "light"
     },
     "output_type": "display_data"
    }
   ],
   "source": [
    "plt.figure(figsize=(8,7))\n",
    "plt.scatter(plot_testing[:,0], plot_testing[:,1], alpha = 0.1, c = y_test.ravel());\n",
    "plt.title('Outputs')"
   ]
  },
  {
   "cell_type": "markdown",
   "metadata": {
    "papermill": {
     "duration": 0.04581,
     "end_time": "2020-08-17T00:07:27.575730",
     "exception": false,
     "start_time": "2020-08-17T00:07:27.529920",
     "status": "completed"
    },
    "tags": []
   },
   "source": [
    "### Plotting probability contours"
   ]
  },
  {
   "cell_type": "code",
   "execution_count": 27,
   "metadata": {
    "execution": {
     "iopub.execute_input": "2020-08-17T00:07:27.672796Z",
     "iopub.status.busy": "2020-08-17T00:07:27.672220Z",
     "iopub.status.idle": "2020-08-17T00:07:27.685636Z",
     "shell.execute_reply": "2020-08-17T00:07:27.685171Z"
    },
    "papermill": {
     "duration": 0.064287,
     "end_time": "2020-08-17T00:07:27.685751",
     "exception": false,
     "start_time": "2020-08-17T00:07:27.621464",
     "status": "completed"
    },
    "tags": []
   },
   "outputs": [],
   "source": [
    "model_prob = Model(layers[-2:]) "
   ]
  },
  {
   "cell_type": "code",
   "execution_count": 28,
   "metadata": {
    "execution": {
     "iopub.execute_input": "2020-08-17T00:07:27.786653Z",
     "iopub.status.busy": "2020-08-17T00:07:27.786064Z",
     "iopub.status.idle": "2020-08-17T00:07:27.799801Z",
     "shell.execute_reply": "2020-08-17T00:07:27.800246Z"
    },
    "papermill": {
     "duration": 0.067881,
     "end_time": "2020-08-17T00:07:27.800389",
     "exception": false,
     "start_time": "2020-08-17T00:07:27.732508",
     "status": "completed"
    },
    "tags": []
   },
   "outputs": [],
   "source": [
    "# Adjust the x and y ranges according to the above generated plot.\n",
    "x_range = np.linspace(-4, 1, 100) \n",
    "y_range = np.linspace(-6, 6, 100) \n",
    "x_grid, y_grid = np.meshgrid(x_range, y_range) # x_grid and y_grig are of size 100 X 100\n",
    "\n",
    "# converting x_grid and y_grid to continuous arrays\n",
    "x_grid_flat = np.ravel(x_grid)\n",
    "y_grid_flat = np.ravel(y_grid)\n",
    "\n",
    "# The last layer of the current model takes two columns as input. Hence transpose of np.vstack() is required.\n",
    "X = np.vstack((x_grid_flat, y_grid_flat)).T\n",
    "\n",
    "# x_grid and y_grid are of size 100 x 100\n",
    "probability_contour = model_prob(X).reshape(100,100) "
   ]
  },
  {
   "cell_type": "code",
   "execution_count": 29,
   "metadata": {
    "execution": {
     "iopub.execute_input": "2020-08-17T00:07:27.911542Z",
     "iopub.status.busy": "2020-08-17T00:07:27.911005Z",
     "iopub.status.idle": "2020-08-17T00:07:28.149138Z",
     "shell.execute_reply": "2020-08-17T00:07:28.149583Z"
    },
    "papermill": {
     "duration": 0.301568,
     "end_time": "2020-08-17T00:07:28.149728",
     "exception": false,
     "start_time": "2020-08-17T00:07:27.848160",
     "status": "completed"
    },
    "tags": []
   },
   "outputs": [
    {
     "data": {
      "image/png": "[encoded data removed]",
      "text/plain": [
       "<Figure size 720x648 with 1 Axes>"
      ]
     },
     "metadata": {
      "needs_background": "light"
     },
     "output_type": "display_data"
    }
   ],
   "source": [
    "plt.figure(figsize=(10,9))\n",
    "plt.scatter(plot_testing[:,0], plot_testing[:,1], alpha = 0.1, c = y_test.ravel())\n",
    "contours = plt.contour(x_grid,y_grid,probability_contour)\n",
    "plt.title('Probability Contours')\n",
    "plt.clabel(contours, inline = True );"
   ]
  }
 ],
 "metadata": {
  "kernelspec": {
   "display_name": "Python 3",
   "language": "python",
   "name": "python3"
  },
  "language_info": {
   "codemirror_mode": {
    "name": "ipython",
    "version": 3
   },
   "file_extension": ".py",
   "mimetype": "text/x-python",
   "name": "python",
   "nbconvert_exporter": "python",
   "pygments_lexer": "ipython3",
   "version": "3.6.11"
  },
  "papermill": {
   "duration": 111.016759,
   "end_time": "2020-08-17T00:07:28.507283",
   "environment_variables": {},
   "exception": null,
   "input_path": "2020-08-11-NeuralNetwork.ipynb",
   "output_path": "2020-08-11-NeuralNetwork.ipynb",
   "parameters": {},
   "start_time": "2020-08-17T00:05:37.490524",
   "version": "2.1.2"
  }
 },
 "nbformat": 4,
 "nbformat_minor": 4
}