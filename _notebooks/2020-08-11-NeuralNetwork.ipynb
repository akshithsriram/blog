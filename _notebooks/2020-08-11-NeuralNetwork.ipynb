{
 "cells": [
  {
   "cell_type": "markdown",
   "id": "fitted-suggestion",
   "metadata": {
    "papermill": {
     "duration": 0.036379,
     "end_time": "2021-05-21T20:05:52.455532",
     "exception": false,
     "start_time": "2021-05-21T20:05:52.419153",
     "status": "completed"
    },
    "tags": []
   },
   "source": [
    "# \"A Basic Neural Network: Differentiate Hand-Written Digits\"\n",
    "\n",
    "- badges: true\n",
    "- author: Akshith Sriram"
   ]
  },
  {
   "cell_type": "markdown",
   "id": "signal-flexibility",
   "metadata": {
    "papermill": {
     "duration": 0.029732,
     "end_time": "2021-05-21T20:05:52.518249",
     "exception": false,
     "start_time": "2021-05-21T20:05:52.488517",
     "status": "completed"
    },
    "tags": []
   },
   "source": [
    "### Key Objectives:\n",
    "- Building a neural network that differentiates two hand-written digits 3 and 8.\n",
    "- Comparing the results of this Neural Network (NN) to that of a Logistic Regression (LR) model.\n",
    "\n",
    "### Requirements:\n",
    "- 'Kudzu' : A neural network library that was designed during our course by [Univ.AI](www.univ.ai). \n",
    "- MNIST Database\n",
    "\n",
    "If MNIST is not installed, use the command `!pip install mnist` given below.\n",
    "It can be run both from the command line and Jupyter Notebook."
   ]
  },
  {
   "cell_type": "code",
   "execution_count": 1,
   "id": "british-texture",
   "metadata": {
    "execution": {
     "iopub.execute_input": "2021-05-21T20:05:52.595008Z",
     "iopub.status.busy": "2021-05-21T20:05:52.594348Z",
     "iopub.status.idle": "2021-05-21T20:05:54.187575Z",
     "shell.execute_reply": "2021-05-21T20:05:54.188043Z"
    },
    "papermill": {
     "duration": 1.638223,
     "end_time": "2021-05-21T20:05:54.188241",
     "exception": false,
     "start_time": "2021-05-21T20:05:52.550018",
     "status": "completed"
    },
    "tags": []
   },
   "outputs": [
    {
     "name": "stdout",
     "output_type": "stream",
     "text": [
      "Collecting mnist\r\n"
     ]
    },
    {
     "name": "stdout",
     "output_type": "stream",
     "text": [
      "  Downloading mnist-0.2.2-py2.py3-none-any.whl (3.5 kB)\r\n",
      "Requirement already satisfied: numpy in /opt/hostedtoolcache/Python/3.6.13/x64/lib/python3.6/site-packages (from mnist) (1.19.5)\r\n"
     ]
    },
    {
     "name": "stdout",
     "output_type": "stream",
     "text": [
      "Installing collected packages: mnist\r\n"
     ]
    },
    {
     "name": "stdout",
     "output_type": "stream",
     "text": [
      "Successfully installed mnist-0.2.2\r\n"
     ]
    }
   ],
   "source": [
    "!pip install mnist "
   ]
  },
  {
   "cell_type": "markdown",
   "id": "stunning-extra",
   "metadata": {
    "papermill": {
     "duration": 0.031935,
     "end_time": "2021-05-21T20:05:54.253771",
     "exception": false,
     "start_time": "2021-05-21T20:05:54.221836",
     "status": "completed"
    },
    "tags": []
   },
   "source": [
    "#### Importing necessary libraries"
   ]
  },
  {
   "cell_type": "code",
   "execution_count": 2,
   "id": "wooden-france",
   "metadata": {
    "execution": {
     "iopub.execute_input": "2021-05-21T20:05:54.327200Z",
     "iopub.status.busy": "2021-05-21T20:05:54.326603Z",
     "iopub.status.idle": "2021-05-21T20:05:54.902240Z",
     "shell.execute_reply": "2021-05-21T20:05:54.902780Z"
    },
    "papermill": {
     "duration": 0.616882,
     "end_time": "2021-05-21T20:05:54.902970",
     "exception": false,
     "start_time": "2021-05-21T20:05:54.286088",
     "status": "completed"
    },
    "tags": []
   },
   "outputs": [],
   "source": [
    "%load_ext autoreload\n",
    "%autoreload 2\n",
    "\n",
    "%matplotlib inline\n",
    "import matplotlib.pyplot as plt\n",
    "\n",
    "import numpy as np\n",
    "import pandas as pd"
   ]
  },
  {
   "cell_type": "markdown",
   "id": "stunning-physics",
   "metadata": {
    "papermill": {
     "duration": 0.032111,
     "end_time": "2021-05-21T20:05:54.969433",
     "exception": false,
     "start_time": "2021-05-21T20:05:54.937322",
     "status": "completed"
    },
    "tags": []
   },
   "source": [
    "### Preparing the Data"
   ]
  },
  {
   "cell_type": "code",
   "execution_count": 3,
   "id": "unauthorized-remainder",
   "metadata": {
    "execution": {
     "iopub.execute_input": "2021-05-21T20:05:55.036713Z",
     "iopub.status.busy": "2021-05-21T20:05:55.036075Z",
     "iopub.status.idle": "2021-05-21T20:05:55.048351Z",
     "shell.execute_reply": "2021-05-21T20:05:55.047778Z"
    },
    "papermill": {
     "duration": 0.047599,
     "end_time": "2021-05-21T20:05:55.048487",
     "exception": false,
     "start_time": "2021-05-21T20:05:55.000888",
     "status": "completed"
    },
    "tags": []
   },
   "outputs": [],
   "source": [
    "import mnist"
   ]
  },
  {
   "cell_type": "code",
   "execution_count": 4,
   "id": "correct-antarctica",
   "metadata": {
    "execution": {
     "iopub.execute_input": "2021-05-21T20:05:55.119764Z",
     "iopub.status.busy": "2021-05-21T20:05:55.119096Z",
     "iopub.status.idle": "2021-05-21T20:09:47.125556Z",
     "shell.execute_reply": "2021-05-21T20:09:47.124598Z"
    },
    "papermill": {
     "duration": 232.045345,
     "end_time": "2021-05-21T20:09:47.125696",
     "exception": false,
     "start_time": "2021-05-21T20:05:55.080351",
     "status": "completed"
    },
    "tags": []
   },
   "outputs": [],
   "source": [
    "train_images = mnist.train_images()\n",
    "train_labels = mnist.train_labels()"
   ]
  },
  {
   "cell_type": "code",
   "execution_count": 5,
   "id": "musical-prospect",
   "metadata": {
    "execution": {
     "iopub.execute_input": "2021-05-21T20:09:47.202746Z",
     "iopub.status.busy": "2021-05-21T20:09:47.202109Z",
     "iopub.status.idle": "2021-05-21T20:09:47.217550Z",
     "shell.execute_reply": "2021-05-21T20:09:47.218059Z"
    },
    "papermill": {
     "duration": 0.053127,
     "end_time": "2021-05-21T20:09:47.218204",
     "exception": false,
     "start_time": "2021-05-21T20:09:47.165077",
     "status": "completed"
    },
    "tags": []
   },
   "outputs": [
    {
     "data": {
      "text/plain": [
       "((60000, 28, 28), (60000,))"
      ]
     },
     "execution_count": 5,
     "metadata": {},
     "output_type": "execute_result"
    }
   ],
   "source": [
    "train_images.shape, train_labels.shape"
   ]
  },
  {
   "cell_type": "code",
   "execution_count": 6,
   "id": "preliminary-elizabeth",
   "metadata": {
    "execution": {
     "iopub.execute_input": "2021-05-21T20:09:47.301116Z",
     "iopub.status.busy": "2021-05-21T20:09:47.296209Z",
     "iopub.status.idle": "2021-05-21T20:10:14.560082Z",
     "shell.execute_reply": "2021-05-21T20:10:14.559035Z"
    },
    "papermill": {
     "duration": 27.308395,
     "end_time": "2021-05-21T20:10:14.560264",
     "exception": false,
     "start_time": "2021-05-21T20:09:47.251869",
     "status": "completed"
    },
    "tags": []
   },
   "outputs": [],
   "source": [
    "test_images = mnist.test_images()\n",
    "test_labels = mnist.test_labels()"
   ]
  },
  {
   "cell_type": "code",
   "execution_count": 7,
   "id": "acknowledged-oxygen",
   "metadata": {
    "execution": {
     "iopub.execute_input": "2021-05-21T20:10:14.640226Z",
     "iopub.status.busy": "2021-05-21T20:10:14.637568Z",
     "iopub.status.idle": "2021-05-21T20:10:14.652659Z",
     "shell.execute_reply": "2021-05-21T20:10:14.652131Z"
    },
    "papermill": {
     "duration": 0.058362,
     "end_time": "2021-05-21T20:10:14.652766",
     "exception": false,
     "start_time": "2021-05-21T20:10:14.594404",
     "status": "completed"
    },
    "tags": []
   },
   "outputs": [
    {
     "data": {
      "text/plain": [
       "((10000, 28, 28), (10000,))"
      ]
     },
     "execution_count": 7,
     "metadata": {},
     "output_type": "execute_result"
    }
   ],
   "source": [
    "test_images.shape, test_labels.shape"
   ]
  },
  {
   "cell_type": "code",
   "execution_count": 8,
   "id": "innovative-organic",
   "metadata": {
    "execution": {
     "iopub.execute_input": "2021-05-21T20:10:14.754867Z",
     "iopub.status.busy": "2021-05-21T20:10:14.736327Z",
     "iopub.status.idle": "2021-05-21T20:10:14.895390Z",
     "shell.execute_reply": "2021-05-21T20:10:14.894842Z"
    },
    "papermill": {
     "duration": 0.210004,
     "end_time": "2021-05-21T20:10:14.895542",
     "exception": false,
     "start_time": "2021-05-21T20:10:14.685538",
     "status": "completed"
    },
    "tags": []
   },
   "outputs": [
    {
     "name": "stdout",
     "output_type": "stream",
     "text": [
      "2\n"
     ]
    },
    {
     "data": {
      "text/plain": [
       "<matplotlib.image.AxesImage at 0x7fa118fb5470>"
      ]
     },
     "execution_count": 8,
     "metadata": {},
     "output_type": "execute_result"
    },
    {
     "data": {
      "image/png": "[encoded data removed]",
      "text/plain": [
       "<Figure size 432x288 with 1 Axes>"
      ]
     },
     "metadata": {
      "needs_background": "light"
     },
     "output_type": "display_data"
    }
   ],
   "source": [
    "image_index = 7776 # You may select anything up to 60,000\n",
    "print(train_labels[image_index]) \n",
    "plt.imshow(train_images[image_index], cmap='Greys')"
   ]
  },
  {
   "cell_type": "markdown",
   "id": "facial-modem",
   "metadata": {
    "papermill": {
     "duration": 0.034346,
     "end_time": "2021-05-21T20:10:14.963385",
     "exception": false,
     "start_time": "2021-05-21T20:10:14.929039",
     "status": "completed"
    },
    "tags": []
   },
   "source": [
    "## Filter data to get 3 and 8 out"
   ]
  },
  {
   "cell_type": "code",
   "execution_count": 9,
   "id": "thousand-acquisition",
   "metadata": {
    "execution": {
     "iopub.execute_input": "2021-05-21T20:10:15.052282Z",
     "iopub.status.busy": "2021-05-21T20:10:15.048438Z",
     "iopub.status.idle": "2021-05-21T20:10:15.057905Z",
     "shell.execute_reply": "2021-05-21T20:10:15.058342Z"
    },
    "papermill": {
     "duration": 0.060412,
     "end_time": "2021-05-21T20:10:15.058502",
     "exception": false,
     "start_time": "2021-05-21T20:10:14.998090",
     "status": "completed"
    },
    "tags": []
   },
   "outputs": [],
   "source": [
    "train_filter = np.where((train_labels == 3 ) | (train_labels == 8))\n",
    "test_filter = np.where((test_labels == 3) | (test_labels == 8))\n",
    "X_train, y_train = train_images[train_filter], train_labels[train_filter]\n",
    "X_test, y_test = test_images[test_filter], test_labels[test_filter]"
   ]
  },
  {
   "cell_type": "markdown",
   "id": "ruled-access",
   "metadata": {
    "papermill": {
     "duration": 0.034712,
     "end_time": "2021-05-21T20:10:15.128664",
     "exception": false,
     "start_time": "2021-05-21T20:10:15.093952",
     "status": "completed"
    },
    "tags": []
   },
   "source": [
    "We normalize the pixel values in the 0 to 1 range"
   ]
  },
  {
   "cell_type": "code",
   "execution_count": 10,
   "id": "isolated-denver",
   "metadata": {
    "execution": {
     "iopub.execute_input": "2021-05-21T20:10:15.213204Z",
     "iopub.status.busy": "2021-05-21T20:10:15.212598Z",
     "iopub.status.idle": "2021-05-21T20:10:15.269249Z",
     "shell.execute_reply": "2021-05-21T20:10:15.268697Z"
    },
    "papermill": {
     "duration": 0.107041,
     "end_time": "2021-05-21T20:10:15.269379",
     "exception": false,
     "start_time": "2021-05-21T20:10:15.162338",
     "status": "completed"
    },
    "tags": []
   },
   "outputs": [],
   "source": [
    "X_train = X_train/255.\n",
    "X_test = X_test/255."
   ]
  },
  {
   "cell_type": "markdown",
   "id": "perfect-summary",
   "metadata": {
    "papermill": {
     "duration": 0.03522,
     "end_time": "2021-05-21T20:10:15.340119",
     "exception": false,
     "start_time": "2021-05-21T20:10:15.304899",
     "status": "completed"
    },
    "tags": []
   },
   "source": [
    "Setup the labels as 1 (when the digit is 3) and 0 (when the digit is 8)"
   ]
  },
  {
   "cell_type": "code",
   "execution_count": 11,
   "id": "personalized-growing",
   "metadata": {
    "execution": {
     "iopub.execute_input": "2021-05-21T20:10:15.425564Z",
     "iopub.status.busy": "2021-05-21T20:10:15.422124Z",
     "iopub.status.idle": "2021-05-21T20:10:15.428145Z",
     "shell.execute_reply": "2021-05-21T20:10:15.427635Z"
    },
    "papermill": {
     "duration": 0.054122,
     "end_time": "2021-05-21T20:10:15.428248",
     "exception": false,
     "start_time": "2021-05-21T20:10:15.374126",
     "status": "completed"
    },
    "tags": []
   },
   "outputs": [],
   "source": [
    "y_train = 1*(y_train==3)\n",
    "y_test = 1*(y_test==3)"
   ]
  },
  {
   "cell_type": "code",
   "execution_count": 12,
   "id": "considered-virgin",
   "metadata": {
    "execution": {
     "iopub.execute_input": "2021-05-21T20:10:15.502448Z",
     "iopub.status.busy": "2021-05-21T20:10:15.501818Z",
     "iopub.status.idle": "2021-05-21T20:10:15.523018Z",
     "shell.execute_reply": "2021-05-21T20:10:15.523609Z"
    },
    "papermill": {
     "duration": 0.06086,
     "end_time": "2021-05-21T20:10:15.523735",
     "exception": false,
     "start_time": "2021-05-21T20:10:15.462875",
     "status": "completed"
    },
    "tags": []
   },
   "outputs": [
    {
     "data": {
      "text/plain": [
       "((11982, 28, 28), (1984, 28, 28))"
      ]
     },
     "execution_count": 12,
     "metadata": {},
     "output_type": "execute_result"
    }
   ],
   "source": [
    "X_train.shape, X_test.shape"
   ]
  },
  {
   "cell_type": "markdown",
   "id": "civilian-mobile",
   "metadata": {
    "papermill": {
     "duration": 0.034638,
     "end_time": "2021-05-21T20:10:15.592898",
     "exception": false,
     "start_time": "2021-05-21T20:10:15.558260",
     "status": "completed"
    },
    "tags": []
   },
   "source": [
    "### Reshape the input data to create a linear array"
   ]
  },
  {
   "cell_type": "code",
   "execution_count": 13,
   "id": "colonial-adams",
   "metadata": {
    "execution": {
     "iopub.execute_input": "2021-05-21T20:10:15.663084Z",
     "iopub.status.busy": "2021-05-21T20:10:15.662412Z",
     "iopub.status.idle": "2021-05-21T20:10:15.675423Z",
     "shell.execute_reply": "2021-05-21T20:10:15.676020Z"
    },
    "papermill": {
     "duration": 0.049964,
     "end_time": "2021-05-21T20:10:15.676140",
     "exception": false,
     "start_time": "2021-05-21T20:10:15.626176",
     "status": "completed"
    },
    "tags": []
   },
   "outputs": [
    {
     "data": {
      "text/plain": [
       "((11982, 784), (1984, 784))"
      ]
     },
     "execution_count": 13,
     "metadata": {},
     "output_type": "execute_result"
    }
   ],
   "source": [
    "X_train = X_train.reshape(X_train.shape[0], -1)\n",
    "X_test = X_test.reshape(X_test.shape[0], -1)\n",
    "X_train.shape, X_test.shape"
   ]
  },
  {
   "cell_type": "markdown",
   "id": "smart-details",
   "metadata": {
    "papermill": {
     "duration": 0.034928,
     "end_time": "2021-05-21T20:10:15.746936",
     "exception": false,
     "start_time": "2021-05-21T20:10:15.712008",
     "status": "completed"
    },
    "tags": []
   },
   "source": [
    "### Importing appropriate functions from 'Kudzu'"
   ]
  },
  {
   "cell_type": "code",
   "execution_count": 14,
   "id": "celtic-trial",
   "metadata": {
    "execution": {
     "iopub.execute_input": "2021-05-21T20:10:15.819245Z",
     "iopub.status.busy": "2021-05-21T20:10:15.818612Z",
     "iopub.status.idle": "2021-05-21T20:10:15.838060Z",
     "shell.execute_reply": "2021-05-21T20:10:15.837583Z"
    },
    "papermill": {
     "duration": 0.057287,
     "end_time": "2021-05-21T20:10:15.838181",
     "exception": false,
     "start_time": "2021-05-21T20:10:15.780894",
     "status": "completed"
    },
    "tags": []
   },
   "outputs": [],
   "source": [
    "from kudzu.layer import Sigmoid\n",
    "from kudzu.layer import Relu\n",
    "from kudzu.layer import Affine, Sigmoid\n",
    "\n",
    "from kudzu.model import Model\n",
    "from kudzu.train import Learner\n",
    "from kudzu.optim import GD\n",
    "from kudzu.data import Data, Dataloader, Sampler\n",
    "\n",
    "from kudzu.callbacks import AccCallback\n",
    "from kudzu.callbacks import ClfCallback\n",
    "\n",
    "from kudzu.loss import MSE"
   ]
  },
  {
   "cell_type": "markdown",
   "id": "coupled-customer",
   "metadata": {
    "papermill": {
     "duration": 0.035366,
     "end_time": "2021-05-21T20:10:15.908406",
     "exception": false,
     "start_time": "2021-05-21T20:10:15.873040",
     "status": "completed"
    },
    "tags": []
   },
   "source": [
    "### Let us create a `Config` class, to store important parameters. \n",
    "This class essentially plays the role of a dictionary."
   ]
  },
  {
   "cell_type": "code",
   "execution_count": 15,
   "id": "young-ceiling",
   "metadata": {
    "execution": {
     "iopub.execute_input": "2021-05-21T20:10:15.986139Z",
     "iopub.status.busy": "2021-05-21T20:10:15.985485Z",
     "iopub.status.idle": "2021-05-21T20:10:15.998212Z",
     "shell.execute_reply": "2021-05-21T20:10:15.998719Z"
    },
    "papermill": {
     "duration": 0.05669,
     "end_time": "2021-05-21T20:10:15.998864",
     "exception": false,
     "start_time": "2021-05-21T20:10:15.942174",
     "status": "completed"
    },
    "tags": []
   },
   "outputs": [],
   "source": [
    "class Config:\n",
    "    pass\n",
    "config = Config()\n",
    "config.lr = 0.001\n",
    "config.num_epochs = 251\n",
    "config.bs = 50"
   ]
  },
  {
   "cell_type": "markdown",
   "id": "according-mandate",
   "metadata": {
    "papermill": {
     "duration": 0.034158,
     "end_time": "2021-05-21T20:10:16.067000",
     "exception": false,
     "start_time": "2021-05-21T20:10:16.032842",
     "status": "completed"
    },
    "tags": []
   },
   "source": [
    "### Initializing data to the variables"
   ]
  },
  {
   "cell_type": "code",
   "execution_count": 16,
   "id": "academic-disposition",
   "metadata": {
    "execution": {
     "iopub.execute_input": "2021-05-21T20:10:16.158084Z",
     "iopub.status.busy": "2021-05-21T20:10:16.157435Z",
     "iopub.status.idle": "2021-05-21T20:10:16.160667Z",
     "shell.execute_reply": "2021-05-21T20:10:16.160204Z"
    },
    "papermill": {
     "duration": 0.057856,
     "end_time": "2021-05-21T20:10:16.160796",
     "exception": false,
     "start_time": "2021-05-21T20:10:16.102940",
     "status": "completed"
    },
    "tags": []
   },
   "outputs": [],
   "source": [
    "data = Data(X_train, y_train.reshape(-1,1))\n",
    "sampler = Sampler(data, config.bs, shuffle=True)\n",
    "\n",
    "dl = Dataloader(data, sampler)\n",
    "\n",
    "opt = GD(config.lr)\n",
    "loss = MSE()"
   ]
  },
  {
   "cell_type": "code",
   "execution_count": 17,
   "id": "featured-commission",
   "metadata": {
    "execution": {
     "iopub.execute_input": "2021-05-21T20:10:16.232826Z",
     "iopub.status.busy": "2021-05-21T20:10:16.232173Z",
     "iopub.status.idle": "2021-05-21T20:10:16.243268Z",
     "shell.execute_reply": "2021-05-21T20:10:16.242779Z"
    },
    "papermill": {
     "duration": 0.048981,
     "end_time": "2021-05-21T20:10:16.243376",
     "exception": false,
     "start_time": "2021-05-21T20:10:16.194395",
     "status": "completed"
    },
    "tags": []
   },
   "outputs": [],
   "source": [
    "training_xdata = X_train\n",
    "testing_xdata = X_test\n",
    "training_ydata = y_train.reshape(-1,1)\n",
    "testing_ydata = y_test.reshape(-1,1)"
   ]
  },
  {
   "cell_type": "markdown",
   "id": "played-safety",
   "metadata": {
    "papermill": {
     "duration": 0.034679,
     "end_time": "2021-05-21T20:10:16.312295",
     "exception": false,
     "start_time": "2021-05-21T20:10:16.277616",
     "status": "completed"
    },
    "tags": []
   },
   "source": [
    "### Running Models with the Training data\n",
    "Details about the network layers:\n",
    "- A first affine layer has 784 inputs and does 100 affine transforms. These are followed by a Relu\n",
    "- A second affine layer has 100 inputs from the 100 activations of the past layer, and does 100 affine transforms. These are followed by a Relu\n",
    "- A third affine layer has 100 activations and does 2 affine transformations to create an embedding for visualization. There is no non-linearity here.\n",
    "- A final \"logistic regression\" which has an affine transform from 2 inputs to 1 output, which is squeezed through a sigmoid.\n",
    "\n",
    "Help taken from Anshuman's Notebook."
   ]
  },
  {
   "cell_type": "code",
   "execution_count": 18,
   "id": "asian-bankruptcy",
   "metadata": {
    "execution": {
     "iopub.execute_input": "2021-05-21T20:10:16.393115Z",
     "iopub.status.busy": "2021-05-21T20:10:16.392448Z",
     "iopub.status.idle": "2021-05-21T20:10:16.408488Z",
     "shell.execute_reply": "2021-05-21T20:10:16.408971Z"
    },
    "papermill": {
     "duration": 0.054651,
     "end_time": "2021-05-21T20:10:16.409110",
     "exception": false,
     "start_time": "2021-05-21T20:10:16.354459",
     "status": "completed"
    },
    "tags": []
   },
   "outputs": [],
   "source": [
    "# layers for the Neural Network\n",
    "layers = [Affine(\"first\", 784, 100), Relu(\"first\"), Affine(\"second\", 100, 100), Relu(\"second\"), Affine(\"third\", 100, 2), Affine(\"final\", 2, 1), Sigmoid(\"final\")]\n",
    "model_nn = Model(layers)\n",
    "\n",
    "# layers for the Logistic Regression\n",
    "layers_lr = [Affine(\"logits\", 784, 1), Sigmoid(\"sigmoid\")]\n",
    "model_lr = Model(layers_lr)"
   ]
  },
  {
   "cell_type": "code",
   "execution_count": 19,
   "id": "removed-butler",
   "metadata": {
    "execution": {
     "iopub.execute_input": "2021-05-21T20:10:16.487105Z",
     "iopub.status.busy": "2021-05-21T20:10:16.486443Z",
     "iopub.status.idle": "2021-05-21T20:10:16.498459Z",
     "shell.execute_reply": "2021-05-21T20:10:16.497907Z"
    },
    "papermill": {
     "duration": 0.054933,
     "end_time": "2021-05-21T20:10:16.498588",
     "exception": false,
     "start_time": "2021-05-21T20:10:16.443655",
     "status": "completed"
    },
    "tags": []
   },
   "outputs": [],
   "source": [
    "# suffix _nn stands for Neural Network.\n",
    "learner_nn = Learner(loss, model_nn, opt, config.num_epochs)\n",
    "acc_nn = ClfCallback(learner_nn, config.bs, training_xdata , testing_xdata, training_ydata, testing_ydata)\n",
    "learner_nn.set_callbacks([acc_nn])"
   ]
  },
  {
   "cell_type": "code",
   "execution_count": 20,
   "id": "conceptual-throw",
   "metadata": {
    "execution": {
     "iopub.execute_input": "2021-05-21T20:10:16.574877Z",
     "iopub.status.busy": "2021-05-21T20:10:16.574218Z",
     "iopub.status.idle": "2021-05-21T20:12:21.371906Z",
     "shell.execute_reply": "2021-05-21T20:12:21.372754Z"
    },
    "papermill": {
     "duration": 124.837096,
     "end_time": "2021-05-21T20:12:21.372909",
     "exception": false,
     "start_time": "2021-05-21T20:10:16.535813",
     "status": "completed"
    },
    "tags": []
   },
   "outputs": [
    {
     "name": "stdout",
     "output_type": "stream",
     "text": [
      "====== Neural Network ======\n"
     ]
    },
    {
     "name": "stdout",
     "output_type": "stream",
     "text": [
      "Epoch 0, Loss 0.22\n",
      "Training Accuracy: 0.7795, Testing Accuracy: 0.7732\n",
      "\n"
     ]
    },
    {
     "name": "stdout",
     "output_type": "stream",
     "text": [
      "Epoch 10, Loss 0.0504\n",
      "Training Accuracy: 0.9457, Testing Accuracy: 0.9592\n",
      "\n"
     ]
    },
    {
     "name": "stdout",
     "output_type": "stream",
     "text": [
      "Epoch 20, Loss 0.037\n",
      "Training Accuracy: 0.9584, Testing Accuracy: 0.9627\n",
      "\n"
     ]
    },
    {
     "name": "stdout",
     "output_type": "stream",
     "text": [
      "Epoch 30, Loss 0.0315\n",
      "Training Accuracy: 0.9638, Testing Accuracy: 0.9662\n",
      "\n"
     ]
    },
    {
     "name": "stdout",
     "output_type": "stream",
     "text": [
      "Epoch 40, Loss 0.0283\n",
      "Training Accuracy: 0.9679, Testing Accuracy: 0.9667\n",
      "\n"
     ]
    },
    {
     "name": "stdout",
     "output_type": "stream",
     "text": [
      "Epoch 50, Loss 0.0261\n",
      "Training Accuracy: 0.9710, Testing Accuracy: 0.9708\n",
      "\n"
     ]
    },
    {
     "name": "stdout",
     "output_type": "stream",
     "text": [
      "Epoch 60, Loss 0.0245\n",
      "Training Accuracy: 0.9727, Testing Accuracy: 0.9723\n",
      "\n"
     ]
    },
    {
     "name": "stdout",
     "output_type": "stream",
     "text": [
      "Epoch 70, Loss 0.0231\n",
      "Training Accuracy: 0.9740, Testing Accuracy: 0.9743\n",
      "\n"
     ]
    },
    {
     "name": "stdout",
     "output_type": "stream",
     "text": [
      "Epoch 80, Loss 0.022\n",
      "Training Accuracy: 0.9755, Testing Accuracy: 0.9743\n",
      "\n"
     ]
    },
    {
     "name": "stdout",
     "output_type": "stream",
     "text": [
      "Epoch 90, Loss 0.021\n",
      "Training Accuracy: 0.9771, Testing Accuracy: 0.9753\n",
      "\n"
     ]
    },
    {
     "name": "stdout",
     "output_type": "stream",
     "text": [
      "Epoch 100, Loss 0.0202\n",
      "Training Accuracy: 0.9780, Testing Accuracy: 0.9753\n",
      "\n"
     ]
    },
    {
     "name": "stdout",
     "output_type": "stream",
     "text": [
      "Epoch 110, Loss 0.0194\n",
      "Training Accuracy: 0.9787, Testing Accuracy: 0.9758\n",
      "\n"
     ]
    },
    {
     "name": "stdout",
     "output_type": "stream",
     "text": [
      "Epoch 120, Loss 0.0187\n",
      "Training Accuracy: 0.9796, Testing Accuracy: 0.9768\n",
      "\n"
     ]
    },
    {
     "name": "stdout",
     "output_type": "stream",
     "text": [
      "Epoch 130, Loss 0.0181\n",
      "Training Accuracy: 0.9805, Testing Accuracy: 0.9778\n",
      "\n"
     ]
    },
    {
     "name": "stdout",
     "output_type": "stream",
     "text": [
      "Epoch 140, Loss 0.0175\n",
      "Training Accuracy: 0.9811, Testing Accuracy: 0.9778\n",
      "\n"
     ]
    },
    {
     "name": "stdout",
     "output_type": "stream",
     "text": [
      "Epoch 150, Loss 0.0169\n",
      "Training Accuracy: 0.9817, Testing Accuracy: 0.9783\n",
      "\n"
     ]
    },
    {
     "name": "stdout",
     "output_type": "stream",
     "text": [
      "Epoch 160, Loss 0.0164\n",
      "Training Accuracy: 0.9825, Testing Accuracy: 0.9788\n",
      "\n"
     ]
    },
    {
     "name": "stdout",
     "output_type": "stream",
     "text": [
      "Epoch 170, Loss 0.0159\n",
      "Training Accuracy: 0.9831, Testing Accuracy: 0.9803\n",
      "\n"
     ]
    },
    {
     "name": "stdout",
     "output_type": "stream",
     "text": [
      "Epoch 180, Loss 0.0154\n",
      "Training Accuracy: 0.9839, Testing Accuracy: 0.9814\n",
      "\n"
     ]
    },
    {
     "name": "stdout",
     "output_type": "stream",
     "text": [
      "Epoch 190, Loss 0.015\n",
      "Training Accuracy: 0.9844, Testing Accuracy: 0.9814\n",
      "\n"
     ]
    },
    {
     "name": "stdout",
     "output_type": "stream",
     "text": [
      "Epoch 200, Loss 0.0146\n",
      "Training Accuracy: 0.9849, Testing Accuracy: 0.9814\n",
      "\n"
     ]
    },
    {
     "name": "stdout",
     "output_type": "stream",
     "text": [
      "Epoch 210, Loss 0.0141\n",
      "Training Accuracy: 0.9855, Testing Accuracy: 0.9819\n",
      "\n"
     ]
    },
    {
     "name": "stdout",
     "output_type": "stream",
     "text": [
      "Epoch 220, Loss 0.0137\n",
      "Training Accuracy: 0.9861, Testing Accuracy: 0.9814\n",
      "\n"
     ]
    },
    {
     "name": "stdout",
     "output_type": "stream",
     "text": [
      "Epoch 230, Loss 0.0134\n",
      "Training Accuracy: 0.9866, Testing Accuracy: 0.9814\n",
      "\n"
     ]
    },
    {
     "name": "stdout",
     "output_type": "stream",
     "text": [
      "Epoch 240, Loss 0.013\n",
      "Training Accuracy: 0.9871, Testing Accuracy: 0.9814\n",
      "\n"
     ]
    },
    {
     "name": "stdout",
     "output_type": "stream",
     "text": [
      "Epoch 250, Loss 0.0127\n",
      "Training Accuracy: 0.9876, Testing Accuracy: 0.9814\n",
      "\n"
     ]
    },
    {
     "data": {
      "text/plain": [
       "0.0013765485099896033"
      ]
     },
     "execution_count": 20,
     "metadata": {},
     "output_type": "execute_result"
    }
   ],
   "source": [
    "print(\"====== Neural Network ======\")\n",
    "learner_nn.train_loop(dl)"
   ]
  },
  {
   "cell_type": "markdown",
   "id": "competent-suffering",
   "metadata": {
    "papermill": {
     "duration": 0.050477,
     "end_time": "2021-05-21T20:12:21.471720",
     "exception": false,
     "start_time": "2021-05-21T20:12:21.421243",
     "status": "completed"
    },
    "tags": []
   },
   "source": [
    "### Logistic Regression based Implementation."
   ]
  },
  {
   "cell_type": "code",
   "execution_count": 21,
   "id": "qualified-psychiatry",
   "metadata": {
    "execution": {
     "iopub.execute_input": "2021-05-21T20:12:21.569413Z",
     "iopub.status.busy": "2021-05-21T20:12:21.568785Z",
     "iopub.status.idle": "2021-05-21T20:12:21.584610Z",
     "shell.execute_reply": "2021-05-21T20:12:21.584095Z"
    },
    "papermill": {
     "duration": 0.066398,
     "end_time": "2021-05-21T20:12:21.584745",
     "exception": false,
     "start_time": "2021-05-21T20:12:21.518347",
     "status": "completed"
    },
    "tags": []
   },
   "outputs": [],
   "source": [
    "learner_lr = Learner(loss, model_lr, opt, config.num_epochs)\n",
    "acc_lr = ClfCallback(learner_lr, config.bs, training_xdata , testing_xdata, training_ydata, testing_ydata)\n",
    "learner_lr.set_callbacks([acc_lr])"
   ]
  },
  {
   "cell_type": "code",
   "execution_count": 22,
   "id": "average-outside",
   "metadata": {
    "execution": {
     "iopub.execute_input": "2021-05-21T20:12:21.692277Z",
     "iopub.status.busy": "2021-05-21T20:12:21.679315Z",
     "iopub.status.idle": "2021-05-21T20:12:39.755588Z",
     "shell.execute_reply": "2021-05-21T20:12:39.756202Z"
    },
    "papermill": {
     "duration": 18.124902,
     "end_time": "2021-05-21T20:12:39.756376",
     "exception": false,
     "start_time": "2021-05-21T20:12:21.631474",
     "status": "completed"
    },
    "tags": []
   },
   "outputs": [
    {
     "name": "stdout",
     "output_type": "stream",
     "text": [
      "====== Logistic Regression ======\n",
      "Epoch 0, Loss 0.2228\n",
      "Training Accuracy: 0.7636, Testing Accuracy: 0.7717\n",
      "\n"
     ]
    },
    {
     "name": "stdout",
     "output_type": "stream",
     "text": [
      "Epoch 10, Loss 0.1008\n",
      "Training Accuracy: 0.9106, Testing Accuracy: 0.9108\n",
      "\n"
     ]
    },
    {
     "name": "stdout",
     "output_type": "stream",
     "text": [
      "Epoch 20, Loss 0.0789\n",
      "Training Accuracy: 0.9262, Testing Accuracy: 0.9350\n",
      "\n"
     ]
    },
    {
     "name": "stdout",
     "output_type": "stream",
     "text": [
      "Epoch 30, Loss 0.0685\n",
      "Training Accuracy: 0.9332, Testing Accuracy: 0.9430\n",
      "\n"
     ]
    },
    {
     "name": "stdout",
     "output_type": "stream",
     "text": [
      "Epoch 40, Loss 0.0621\n",
      "Training Accuracy: 0.9385, Testing Accuracy: 0.9466\n",
      "\n"
     ]
    },
    {
     "name": "stdout",
     "output_type": "stream",
     "text": [
      "Epoch 50, Loss 0.0576\n",
      "Training Accuracy: 0.9423, Testing Accuracy: 0.9501\n",
      "\n"
     ]
    },
    {
     "name": "stdout",
     "output_type": "stream",
     "text": [
      "Epoch 60, Loss 0.0544\n",
      "Training Accuracy: 0.9450, Testing Accuracy: 0.9531\n",
      "\n"
     ]
    },
    {
     "name": "stdout",
     "output_type": "stream",
     "text": [
      "Epoch 70, Loss 0.0518\n",
      "Training Accuracy: 0.9473, Testing Accuracy: 0.9561\n",
      "\n"
     ]
    },
    {
     "name": "stdout",
     "output_type": "stream",
     "text": [
      "Epoch 80, Loss 0.0497\n",
      "Training Accuracy: 0.9496, Testing Accuracy: 0.9582\n",
      "\n"
     ]
    },
    {
     "name": "stdout",
     "output_type": "stream",
     "text": [
      "Epoch 90, Loss 0.048\n",
      "Training Accuracy: 0.9507, Testing Accuracy: 0.9602\n",
      "\n"
     ]
    },
    {
     "name": "stdout",
     "output_type": "stream",
     "text": [
      "Epoch 100, Loss 0.0466\n",
      "Training Accuracy: 0.9527, Testing Accuracy: 0.9602\n",
      "\n"
     ]
    },
    {
     "name": "stdout",
     "output_type": "stream",
     "text": [
      "Epoch 110, Loss 0.0454\n",
      "Training Accuracy: 0.9537, Testing Accuracy: 0.9607\n",
      "\n"
     ]
    },
    {
     "name": "stdout",
     "output_type": "stream",
     "text": [
      "Epoch 120, Loss 0.0443\n",
      "Training Accuracy: 0.9550, Testing Accuracy: 0.9607\n",
      "\n"
     ]
    },
    {
     "name": "stdout",
     "output_type": "stream",
     "text": [
      "Epoch 130, Loss 0.0433\n",
      "Training Accuracy: 0.9558, Testing Accuracy: 0.9627\n",
      "\n"
     ]
    },
    {
     "name": "stdout",
     "output_type": "stream",
     "text": [
      "Epoch 140, Loss 0.0425\n",
      "Training Accuracy: 0.9564, Testing Accuracy: 0.9627\n",
      "\n"
     ]
    },
    {
     "name": "stdout",
     "output_type": "stream",
     "text": [
      "Epoch 150, Loss 0.0417\n",
      "Training Accuracy: 0.9568, Testing Accuracy: 0.9652\n",
      "\n"
     ]
    },
    {
     "name": "stdout",
     "output_type": "stream",
     "text": [
      "Epoch 160, Loss 0.0411\n",
      "Training Accuracy: 0.9572, Testing Accuracy: 0.9647\n",
      "\n"
     ]
    },
    {
     "name": "stdout",
     "output_type": "stream",
     "text": [
      "Epoch 170, Loss 0.0404\n",
      "Training Accuracy: 0.9579, Testing Accuracy: 0.9647\n",
      "\n"
     ]
    },
    {
     "name": "stdout",
     "output_type": "stream",
     "text": [
      "Epoch 180, Loss 0.0399\n",
      "Training Accuracy: 0.9583, Testing Accuracy: 0.9642\n",
      "\n"
     ]
    },
    {
     "name": "stdout",
     "output_type": "stream",
     "text": [
      "Epoch 190, Loss 0.0393\n",
      "Training Accuracy: 0.9583, Testing Accuracy: 0.9637\n",
      "\n"
     ]
    },
    {
     "name": "stdout",
     "output_type": "stream",
     "text": [
      "Epoch 200, Loss 0.0389\n",
      "Training Accuracy: 0.9585, Testing Accuracy: 0.9642\n",
      "\n"
     ]
    },
    {
     "name": "stdout",
     "output_type": "stream",
     "text": [
      "Epoch 210, Loss 0.0384\n",
      "Training Accuracy: 0.9588, Testing Accuracy: 0.9647\n",
      "\n"
     ]
    },
    {
     "name": "stdout",
     "output_type": "stream",
     "text": [
      "Epoch 220, Loss 0.038\n",
      "Training Accuracy: 0.9589, Testing Accuracy: 0.9657\n",
      "\n"
     ]
    },
    {
     "name": "stdout",
     "output_type": "stream",
     "text": [
      "Epoch 230, Loss 0.0376\n",
      "Training Accuracy: 0.9590, Testing Accuracy: 0.9652\n",
      "\n"
     ]
    },
    {
     "name": "stdout",
     "output_type": "stream",
     "text": [
      "Epoch 240, Loss 0.0372\n",
      "Training Accuracy: 0.9590, Testing Accuracy: 0.9652\n",
      "\n"
     ]
    },
    {
     "name": "stdout",
     "output_type": "stream",
     "text": [
      "Epoch 250, Loss 0.0369\n",
      "Training Accuracy: 0.9594, Testing Accuracy: 0.9652\n",
      "\n"
     ]
    },
    {
     "data": {
      "text/plain": [
       "0.03481164417178344"
      ]
     },
     "execution_count": 22,
     "metadata": {},
     "output_type": "execute_result"
    }
   ],
   "source": [
    "print(\"====== Logistic Regression ======\")\n",
    "learner_lr.train_loop(dl)"
   ]
  },
  {
   "cell_type": "markdown",
   "id": "adjusted-possible",
   "metadata": {
    "papermill": {
     "duration": 0.05638,
     "end_time": "2021-05-21T20:12:39.868650",
     "exception": false,
     "start_time": "2021-05-21T20:12:39.812270",
     "status": "completed"
    },
    "tags": []
   },
   "source": [
    "### Comparing results of NN and LR"
   ]
  },
  {
   "cell_type": "code",
   "execution_count": 23,
   "id": "mental-multimedia",
   "metadata": {
    "execution": {
     "iopub.execute_input": "2021-05-21T20:12:39.989183Z",
     "iopub.status.busy": "2021-05-21T20:12:39.985421Z",
     "iopub.status.idle": "2021-05-21T20:12:40.258289Z",
     "shell.execute_reply": "2021-05-21T20:12:40.258760Z"
    },
    "papermill": {
     "duration": 0.336788,
     "end_time": "2021-05-21T20:12:40.258937",
     "exception": false,
     "start_time": "2021-05-21T20:12:39.922149",
     "status": "completed"
    },
    "tags": []
   },
   "outputs": [
    {
     "data": {
      "text/plain": [
       "<matplotlib.legend.Legend at 0x7fa110b1a128>"
      ]
     },
     "execution_count": 23,
     "metadata": {},
     "output_type": "execute_result"
    },
    {
     "data": {
      "image/png": "[encoded data removed]",
      "text/plain": [
       "<Figure size 1080x720 with 1 Axes>"
      ]
     },
     "metadata": {
      "needs_background": "light"
     },
     "output_type": "display_data"
    }
   ],
   "source": [
    "plt.figure(figsize=(15,10))\n",
    "\n",
    "# Neural Network plots\n",
    "plt.plot(acc_nn.accuracies, 'r-', label = \"Training Accuracies - NN\")\n",
    "plt.plot(acc_nn.test_accuracies, 'g-', label = \"Testing Accuracies - NN\")\n",
    "\n",
    "# Logistic Regression plots\n",
    "plt.plot(acc_lr.accuracies, 'k-', label = \"Training Accuracies - LR\")\n",
    "plt.plot(acc_lr.test_accuracies, 'b-', label = \"Testing Accuracies - LR\")\n",
    "\n",
    "plt.ylim(0.8, 1)\n",
    "\n",
    "plt.legend()\n",
    "\n"
   ]
  },
  {
   "cell_type": "markdown",
   "id": "sexual-flesh",
   "metadata": {
    "papermill": {
     "duration": 0.056758,
     "end_time": "2021-05-21T20:12:40.372140",
     "exception": false,
     "start_time": "2021-05-21T20:12:40.315382",
     "status": "completed"
    },
    "tags": []
   },
   "source": [
    "### From the plot, we can observe the following:\n",
    "- Neural Network achieves higher accuracy than the Logistic Regression model.\n",
    "- This apparently, is because of overfitting, i.e. NN captures more noise than data.\n",
    "- Testing accuracy of NN drops below the Training accuracy at higher epochs. This explains the over-fitting on training data.\n",
    "- Logistic Regression gives a reliable accuracy, without the above mentioned problem.\n"
   ]
  },
  {
   "cell_type": "markdown",
   "id": "institutional-pacific",
   "metadata": {
    "papermill": {
     "duration": 0.056654,
     "end_time": "2021-05-21T20:12:40.485734",
     "exception": false,
     "start_time": "2021-05-21T20:12:40.429080",
     "status": "completed"
    },
    "tags": []
   },
   "source": [
    "### Moving till the last but one layer (excluding it).\n",
    "#### Plotting the outputs of this layer of the NN."
   ]
  },
  {
   "cell_type": "code",
   "execution_count": 24,
   "id": "economic-server",
   "metadata": {
    "execution": {
     "iopub.execute_input": "2021-05-21T20:12:40.602043Z",
     "iopub.status.busy": "2021-05-21T20:12:40.601416Z",
     "iopub.status.idle": "2021-05-21T20:12:40.613585Z",
     "shell.execute_reply": "2021-05-21T20:12:40.614086Z"
    },
    "papermill": {
     "duration": 0.073131,
     "end_time": "2021-05-21T20:12:40.614247",
     "exception": false,
     "start_time": "2021-05-21T20:12:40.541116",
     "status": "completed"
    },
    "tags": []
   },
   "outputs": [],
   "source": [
    "model_new = Model(layers[:-2])"
   ]
  },
  {
   "cell_type": "code",
   "execution_count": 25,
   "id": "varied-upgrade",
   "metadata": {
    "execution": {
     "iopub.execute_input": "2021-05-21T20:12:40.752507Z",
     "iopub.status.busy": "2021-05-21T20:12:40.751831Z",
     "iopub.status.idle": "2021-05-21T20:12:40.763694Z",
     "shell.execute_reply": "2021-05-21T20:12:40.764225Z"
    },
    "papermill": {
     "duration": 0.093559,
     "end_time": "2021-05-21T20:12:40.764394",
     "exception": false,
     "start_time": "2021-05-21T20:12:40.670835",
     "status": "completed"
    },
    "tags": []
   },
   "outputs": [],
   "source": [
    "plot_testing = model_new(testing_xdata)"
   ]
  },
  {
   "cell_type": "code",
   "execution_count": 26,
   "id": "specific-handling",
   "metadata": {
    "execution": {
     "iopub.execute_input": "2021-05-21T20:12:40.911873Z",
     "iopub.status.busy": "2021-05-21T20:12:40.909552Z",
     "iopub.status.idle": "2021-05-21T20:12:41.154397Z",
     "shell.execute_reply": "2021-05-21T20:12:41.153803Z"
    },
    "papermill": {
     "duration": 0.309275,
     "end_time": "2021-05-21T20:12:41.154528",
     "exception": false,
     "start_time": "2021-05-21T20:12:40.845253",
     "status": "completed"
    },
    "tags": []
   },
   "outputs": [
    {
     "data": {
      "text/plain": [
       "Text(0.5, 1.0, 'Outputs')"
      ]
     },
     "execution_count": 26,
     "metadata": {},
     "output_type": "execute_result"
    },
    {
     "data": {
      "image/png": "[encoded data removed]",
      "text/plain": [
       "<Figure size 576x504 with 1 Axes>"
      ]
     },
     "metadata": {
      "needs_background": "light"
     },
     "output_type": "display_data"
    }
   ],
   "source": [
    "plt.figure(figsize=(8,7))\n",
    "plt.scatter(plot_testing[:,0], plot_testing[:,1], alpha = 0.1, c = y_test.ravel());\n",
    "plt.title('Outputs')"
   ]
  },
  {
   "cell_type": "markdown",
   "id": "described-knowing",
   "metadata": {
    "papermill": {
     "duration": 0.055669,
     "end_time": "2021-05-21T20:12:41.269128",
     "exception": false,
     "start_time": "2021-05-21T20:12:41.213459",
     "status": "completed"
    },
    "tags": []
   },
   "source": [
    "### Plotting probability contours"
   ]
  },
  {
   "cell_type": "code",
   "execution_count": 27,
   "id": "needed-growing",
   "metadata": {
    "execution": {
     "iopub.execute_input": "2021-05-21T20:12:41.392892Z",
     "iopub.status.busy": "2021-05-21T20:12:41.392300Z",
     "iopub.status.idle": "2021-05-21T20:12:41.405137Z",
     "shell.execute_reply": "2021-05-21T20:12:41.405948Z"
    },
    "papermill": {
     "duration": 0.077436,
     "end_time": "2021-05-21T20:12:41.406131",
     "exception": false,
     "start_time": "2021-05-21T20:12:41.328695",
     "status": "completed"
    },
    "tags": []
   },
   "outputs": [],
   "source": [
    "model_prob = Model(layers[-2:]) "
   ]
  },
  {
   "cell_type": "code",
   "execution_count": 28,
   "id": "introductory-enforcement",
   "metadata": {
    "execution": {
     "iopub.execute_input": "2021-05-21T20:12:41.528134Z",
     "iopub.status.busy": "2021-05-21T20:12:41.527491Z",
     "iopub.status.idle": "2021-05-21T20:12:41.541743Z",
     "shell.execute_reply": "2021-05-21T20:12:41.542246Z"
    },
    "papermill": {
     "duration": 0.078,
     "end_time": "2021-05-21T20:12:41.542412",
     "exception": false,
     "start_time": "2021-05-21T20:12:41.464412",
     "status": "completed"
    },
    "tags": []
   },
   "outputs": [],
   "source": [
    "# Adjust the x and y ranges according to the above generated plot.\n",
    "x_range = np.linspace(-4, 1, 100) \n",
    "y_range = np.linspace(-6, 6, 100) \n",
    "x_grid, y_grid = np.meshgrid(x_range, y_range) # x_grid and y_grig are of size 100 X 100\n",
    "\n",
    "# converting x_grid and y_grid to continuous arrays\n",
    "x_grid_flat = np.ravel(x_grid)\n",
    "y_grid_flat = np.ravel(y_grid)\n",
    "\n",
    "# The last layer of the current model takes two columns as input. Hence transpose of np.vstack() is required.\n",
    "X = np.vstack((x_grid_flat, y_grid_flat)).T\n",
    "\n",
    "# x_grid and y_grid are of size 100 x 100\n",
    "probability_contour = model_prob(X).reshape(100,100) "
   ]
  },
  {
   "cell_type": "code",
   "execution_count": 29,
   "id": "understood-landing",
   "metadata": {
    "execution": {
     "iopub.execute_input": "2021-05-21T20:12:41.669085Z",
     "iopub.status.busy": "2021-05-21T20:12:41.668402Z",
     "iopub.status.idle": "2021-05-21T20:12:41.974530Z",
     "shell.execute_reply": "2021-05-21T20:12:41.973660Z"
    },
    "papermill": {
     "duration": 0.370461,
     "end_time": "2021-05-21T20:12:41.974662",
     "exception": false,
     "start_time": "2021-05-21T20:12:41.604201",
     "status": "completed"
    },
    "tags": []
   },
   "outputs": [
    {
     "data": {
      "image/png": "[encoded data removed]",
      "text/plain": [
       "<Figure size 720x648 with 1 Axes>"
      ]
     },
     "metadata": {
      "needs_background": "light"
     },
     "output_type": "display_data"
    }
   ],
   "source": [
    "plt.figure(figsize=(10,9))\n",
    "plt.scatter(plot_testing[:,0], plot_testing[:,1], alpha = 0.1, c = y_test.ravel())\n",
    "contours = plt.contour(x_grid,y_grid,probability_contour)\n",
    "plt.title('Probability Contours')\n",
    "plt.clabel(contours, inline = True );"
   ]
  }
 ],
 "metadata": {
  "kernelspec": {
   "display_name": "Python 3",
   "language": "python",
   "name": "python3"
  },
  "language_info": {
   "codemirror_mode": {
    "name": "ipython",
    "version": 3
   },
   "file_extension": ".py",
   "mimetype": "text/x-python",
   "name": "python",
   "nbconvert_exporter": "python",
   "pygments_lexer": "ipython3",
   "version": "3.6.13"
  },
  "papermill": {
   "duration": 411.310736,
   "end_time": "2021-05-21T20:12:42.441975",
   "environment_variables": {},
   "exception": null,
   "input_path": "2020-08-11-NeuralNetwork.ipynb",
   "output_path": "2020-08-11-NeuralNetwork.ipynb",
   "parameters": {},
   "start_time": "2021-05-21T20:05:51.131239",
   "version": "2.1.2"
  }
 },
 "nbformat": 4,
 "nbformat_minor": 5
}