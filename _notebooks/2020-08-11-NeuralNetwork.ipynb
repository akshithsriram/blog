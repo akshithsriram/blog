{
 "cells": [
  {
   "cell_type": "markdown",
   "id": "fitted-suggestion",
   "metadata": {
    "papermill": {
     "duration": 0.040306,
     "end_time": "2021-01-27T00:11:09.843925",
     "exception": false,
     "start_time": "2021-01-27T00:11:09.803619",
     "status": "completed"
    },
    "tags": []
   },
   "source": [
    "# \"A Basic Neural Network: Differentiate Hand-Written Digits\"\n",
    "\n",
    "- badges: true\n",
    "- author: Akshith Sriram"
   ]
  },
  {
   "cell_type": "markdown",
   "id": "signal-flexibility",
   "metadata": {
    "papermill": {
     "duration": 0.023574,
     "end_time": "2021-01-27T00:11:09.891858",
     "exception": false,
     "start_time": "2021-01-27T00:11:09.868284",
     "status": "completed"
    },
    "tags": []
   },
   "source": [
    "### Key Objectives:\n",
    "- Building a neural network that differentiates two hand-written digits 3 and 8.\n",
    "- Comparing the results of this Neural Network (NN) to that of a Logistic Regression (LR) model.\n",
    "\n",
    "### Requirements:\n",
    "- 'Kudzu' : A neural network library that was designed during our course by [Univ.AI](www.univ.ai). \n",
    "- MNIST Database\n",
    "\n",
    "If MNIST is not installed, use the command `!pip install mnist` given below.\n",
    "It can be run both from the command line and Jupyter Notebook."
   ]
  },
  {
   "cell_type": "code",
   "execution_count": 1,
   "id": "british-texture",
   "metadata": {
    "execution": {
     "iopub.execute_input": "2021-01-27T00:11:09.948285Z",
     "iopub.status.busy": "2021-01-27T00:11:09.947687Z",
     "iopub.status.idle": "2021-01-27T00:11:11.285045Z",
     "shell.execute_reply": "2021-01-27T00:11:11.283538Z"
    },
    "papermill": {
     "duration": 1.372851,
     "end_time": "2021-01-27T00:11:11.285294",
     "exception": false,
     "start_time": "2021-01-27T00:11:09.912443",
     "status": "completed"
    },
    "tags": []
   },
   "outputs": [
    {
     "name": "stdout",
     "output_type": "stream",
     "text": [
      "Collecting mnist\r\n"
     ]
    },
    {
     "name": "stdout",
     "output_type": "stream",
     "text": [
      "  Downloading mnist-0.2.2-py2.py3-none-any.whl (3.5 kB)\r\n",
      "Requirement already satisfied: numpy in /opt/hostedtoolcache/Python/3.6.12/x64/lib/python3.6/site-packages (from mnist) (1.19.5)\r\n"
     ]
    },
    {
     "name": "stdout",
     "output_type": "stream",
     "text": [
      "Installing collected packages: mnist\r\n"
     ]
    },
    {
     "name": "stdout",
     "output_type": "stream",
     "text": [
      "Successfully installed mnist-0.2.2\r\n",
      "\u001b[33mWARNING: You are using pip version 20.3.1; however, version 21.0 is available.\r\n",
      "You should consider upgrading via the '/opt/hostedtoolcache/Python/3.6.12/x64/bin/python -m pip install --upgrade pip' command.\u001b[0m\r\n"
     ]
    }
   ],
   "source": [
    "!pip install mnist "
   ]
  },
  {
   "cell_type": "markdown",
   "id": "stunning-extra",
   "metadata": {
    "papermill": {
     "duration": 0.026273,
     "end_time": "2021-01-27T00:11:11.338831",
     "exception": false,
     "start_time": "2021-01-27T00:11:11.312558",
     "status": "completed"
    },
    "tags": []
   },
   "source": [
    "#### Importing necessary libraries"
   ]
  },
  {
   "cell_type": "code",
   "execution_count": 2,
   "id": "wooden-france",
   "metadata": {
    "execution": {
     "iopub.execute_input": "2021-01-27T00:11:11.398196Z",
     "iopub.status.busy": "2021-01-27T00:11:11.397776Z",
     "iopub.status.idle": "2021-01-27T00:11:11.867299Z",
     "shell.execute_reply": "2021-01-27T00:11:11.868107Z"
    },
    "papermill": {
     "duration": 0.500347,
     "end_time": "2021-01-27T00:11:11.868297",
     "exception": false,
     "start_time": "2021-01-27T00:11:11.367950",
     "status": "completed"
    },
    "tags": []
   },
   "outputs": [],
   "source": [
    "%load_ext autoreload\n",
    "%autoreload 2\n",
    "\n",
    "%matplotlib inline\n",
    "import matplotlib.pyplot as plt\n",
    "\n",
    "import numpy as np\n",
    "import pandas as pd"
   ]
  },
  {
   "cell_type": "markdown",
   "id": "stunning-physics",
   "metadata": {
    "papermill": {
     "duration": 0.025489,
     "end_time": "2021-01-27T00:11:11.924128",
     "exception": false,
     "start_time": "2021-01-27T00:11:11.898639",
     "status": "completed"
    },
    "tags": []
   },
   "source": [
    "### Preparing the Data"
   ]
  },
  {
   "cell_type": "code",
   "execution_count": 3,
   "id": "unauthorized-remainder",
   "metadata": {
    "execution": {
     "iopub.execute_input": "2021-01-27T00:11:11.978476Z",
     "iopub.status.busy": "2021-01-27T00:11:11.977797Z",
     "iopub.status.idle": "2021-01-27T00:11:11.989654Z",
     "shell.execute_reply": "2021-01-27T00:11:11.989116Z"
    },
    "papermill": {
     "duration": 0.040879,
     "end_time": "2021-01-27T00:11:11.989766",
     "exception": false,
     "start_time": "2021-01-27T00:11:11.948887",
     "status": "completed"
    },
    "tags": []
   },
   "outputs": [],
   "source": [
    "import mnist"
   ]
  },
  {
   "cell_type": "code",
   "execution_count": 4,
   "id": "correct-antarctica",
   "metadata": {
    "execution": {
     "iopub.execute_input": "2021-01-27T00:11:12.039021Z",
     "iopub.status.busy": "2021-01-27T00:11:12.038286Z",
     "iopub.status.idle": "2021-01-27T00:11:13.635990Z",
     "shell.execute_reply": "2021-01-27T00:11:13.636794Z"
    },
    "papermill": {
     "duration": 1.624401,
     "end_time": "2021-01-27T00:11:13.637050",
     "exception": false,
     "start_time": "2021-01-27T00:11:12.012649",
     "status": "completed"
    },
    "tags": []
   },
   "outputs": [],
   "source": [
    "train_images = mnist.train_images()\n",
    "train_labels = mnist.train_labels()"
   ]
  },
  {
   "cell_type": "code",
   "execution_count": 5,
   "id": "musical-prospect",
   "metadata": {
    "execution": {
     "iopub.execute_input": "2021-01-27T00:11:13.686612Z",
     "iopub.status.busy": "2021-01-27T00:11:13.686180Z",
     "iopub.status.idle": "2021-01-27T00:11:13.700895Z",
     "shell.execute_reply": "2021-01-27T00:11:13.700516Z"
    },
    "papermill": {
     "duration": 0.040561,
     "end_time": "2021-01-27T00:11:13.700984",
     "exception": false,
     "start_time": "2021-01-27T00:11:13.660423",
     "status": "completed"
    },
    "tags": []
   },
   "outputs": [
    {
     "data": {
      "text/plain": [
       "((60000, 28, 28), (60000,))"
      ]
     },
     "execution_count": 5,
     "metadata": {},
     "output_type": "execute_result"
    }
   ],
   "source": [
    "train_images.shape, train_labels.shape"
   ]
  },
  {
   "cell_type": "code",
   "execution_count": 6,
   "id": "preliminary-elizabeth",
   "metadata": {
    "execution": {
     "iopub.execute_input": "2021-01-27T00:11:13.753015Z",
     "iopub.status.busy": "2021-01-27T00:11:13.752610Z",
     "iopub.status.idle": "2021-01-27T00:11:14.664830Z",
     "shell.execute_reply": "2021-01-27T00:11:14.663941Z"
    },
    "papermill": {
     "duration": 0.939891,
     "end_time": "2021-01-27T00:11:14.665024",
     "exception": false,
     "start_time": "2021-01-27T00:11:13.725133",
     "status": "completed"
    },
    "tags": []
   },
   "outputs": [],
   "source": [
    "test_images = mnist.test_images()\n",
    "test_labels = mnist.test_labels()"
   ]
  },
  {
   "cell_type": "code",
   "execution_count": 7,
   "id": "acknowledged-oxygen",
   "metadata": {
    "execution": {
     "iopub.execute_input": "2021-01-27T00:11:14.718682Z",
     "iopub.status.busy": "2021-01-27T00:11:14.718247Z",
     "iopub.status.idle": "2021-01-27T00:11:14.732314Z",
     "shell.execute_reply": "2021-01-27T00:11:14.731985Z"
    },
    "papermill": {
     "duration": 0.041429,
     "end_time": "2021-01-27T00:11:14.732404",
     "exception": false,
     "start_time": "2021-01-27T00:11:14.690975",
     "status": "completed"
    },
    "tags": []
   },
   "outputs": [
    {
     "data": {
      "text/plain": [
       "((10000, 28, 28), (10000,))"
      ]
     },
     "execution_count": 7,
     "metadata": {},
     "output_type": "execute_result"
    }
   ],
   "source": [
    "test_images.shape, test_labels.shape"
   ]
  },
  {
   "cell_type": "code",
   "execution_count": 8,
   "id": "innovative-organic",
   "metadata": {
    "execution": {
     "iopub.execute_input": "2021-01-27T00:11:14.780368Z",
     "iopub.status.busy": "2021-01-27T00:11:14.779837Z",
     "iopub.status.idle": "2021-01-27T00:11:14.913947Z",
     "shell.execute_reply": "2021-01-27T00:11:14.913471Z"
    },
    "papermill": {
     "duration": 0.159671,
     "end_time": "2021-01-27T00:11:14.914086",
     "exception": false,
     "start_time": "2021-01-27T00:11:14.754415",
     "status": "completed"
    },
    "tags": []
   },
   "outputs": [
    {
     "name": "stdout",
     "output_type": "stream",
     "text": [
      "2\n"
     ]
    },
    {
     "data": {
      "text/plain": [
       "<matplotlib.image.AxesImage at 0x7f4824a20a20>"
      ]
     },
     "execution_count": 8,
     "metadata": {},
     "output_type": "execute_result"
    },
    {
     "data": {
      "image/png": "[encoded data removed]",
      "text/plain": [
       "<Figure size 432x288 with 1 Axes>"
      ]
     },
     "metadata": {
      "needs_background": "light"
     },
     "output_type": "display_data"
    }
   ],
   "source": [
    "image_index = 7776 # You may select anything up to 60,000\n",
    "print(train_labels[image_index]) \n",
    "plt.imshow(train_images[image_index], cmap='Greys')"
   ]
  },
  {
   "cell_type": "markdown",
   "id": "facial-modem",
   "metadata": {
    "papermill": {
     "duration": 0.027512,
     "end_time": "2021-01-27T00:11:14.969014",
     "exception": false,
     "start_time": "2021-01-27T00:11:14.941502",
     "status": "completed"
    },
    "tags": []
   },
   "source": [
    "## Filter data to get 3 and 8 out"
   ]
  },
  {
   "cell_type": "code",
   "execution_count": 9,
   "id": "thousand-acquisition",
   "metadata": {
    "execution": {
     "iopub.execute_input": "2021-01-27T00:11:15.035175Z",
     "iopub.status.busy": "2021-01-27T00:11:15.030400Z",
     "iopub.status.idle": "2021-01-27T00:11:15.047819Z",
     "shell.execute_reply": "2021-01-27T00:11:15.047355Z"
    },
    "papermill": {
     "duration": 0.051935,
     "end_time": "2021-01-27T00:11:15.047924",
     "exception": false,
     "start_time": "2021-01-27T00:11:14.995989",
     "status": "completed"
    },
    "tags": []
   },
   "outputs": [],
   "source": [
    "train_filter = np.where((train_labels == 3 ) | (train_labels == 8))\n",
    "test_filter = np.where((test_labels == 3) | (test_labels == 8))\n",
    "X_train, y_train = train_images[train_filter], train_labels[train_filter]\n",
    "X_test, y_test = test_images[test_filter], test_labels[test_filter]"
   ]
  },
  {
   "cell_type": "markdown",
   "id": "ruled-access",
   "metadata": {
    "papermill": {
     "duration": 0.024149,
     "end_time": "2021-01-27T00:11:15.096473",
     "exception": false,
     "start_time": "2021-01-27T00:11:15.072324",
     "status": "completed"
    },
    "tags": []
   },
   "source": [
    "We normalize the pixel values in the 0 to 1 range"
   ]
  },
  {
   "cell_type": "code",
   "execution_count": 10,
   "id": "isolated-denver",
   "metadata": {
    "execution": {
     "iopub.execute_input": "2021-01-27T00:11:15.147510Z",
     "iopub.status.busy": "2021-01-27T00:11:15.147105Z",
     "iopub.status.idle": "2021-01-27T00:11:15.195146Z",
     "shell.execute_reply": "2021-01-27T00:11:15.194265Z"
    },
    "papermill": {
     "duration": 0.07574,
     "end_time": "2021-01-27T00:11:15.195354",
     "exception": false,
     "start_time": "2021-01-27T00:11:15.119614",
     "status": "completed"
    },
    "tags": []
   },
   "outputs": [],
   "source": [
    "X_train = X_train/255.\n",
    "X_test = X_test/255."
   ]
  },
  {
   "cell_type": "markdown",
   "id": "perfect-summary",
   "metadata": {
    "papermill": {
     "duration": 0.022959,
     "end_time": "2021-01-27T00:11:15.242864",
     "exception": false,
     "start_time": "2021-01-27T00:11:15.219905",
     "status": "completed"
    },
    "tags": []
   },
   "source": [
    "Setup the labels as 1 (when the digit is 3) and 0 (when the digit is 8)"
   ]
  },
  {
   "cell_type": "code",
   "execution_count": 11,
   "id": "personalized-growing",
   "metadata": {
    "execution": {
     "iopub.execute_input": "2021-01-27T00:11:15.292440Z",
     "iopub.status.busy": "2021-01-27T00:11:15.291862Z",
     "iopub.status.idle": "2021-01-27T00:11:15.306094Z",
     "shell.execute_reply": "2021-01-27T00:11:15.305764Z"
    },
    "papermill": {
     "duration": 0.039946,
     "end_time": "2021-01-27T00:11:15.306181",
     "exception": false,
     "start_time": "2021-01-27T00:11:15.266235",
     "status": "completed"
    },
    "tags": []
   },
   "outputs": [],
   "source": [
    "y_train = 1*(y_train==3)\n",
    "y_test = 1*(y_test==3)"
   ]
  },
  {
   "cell_type": "code",
   "execution_count": 12,
   "id": "considered-virgin",
   "metadata": {
    "execution": {
     "iopub.execute_input": "2021-01-27T00:11:15.360869Z",
     "iopub.status.busy": "2021-01-27T00:11:15.360409Z",
     "iopub.status.idle": "2021-01-27T00:11:15.372668Z",
     "shell.execute_reply": "2021-01-27T00:11:15.372293Z"
    },
    "papermill": {
     "duration": 0.042807,
     "end_time": "2021-01-27T00:11:15.372766",
     "exception": false,
     "start_time": "2021-01-27T00:11:15.329959",
     "status": "completed"
    },
    "tags": []
   },
   "outputs": [
    {
     "data": {
      "text/plain": [
       "((11982, 28, 28), (1984, 28, 28))"
      ]
     },
     "execution_count": 12,
     "metadata": {},
     "output_type": "execute_result"
    }
   ],
   "source": [
    "X_train.shape, X_test.shape"
   ]
  },
  {
   "cell_type": "markdown",
   "id": "civilian-mobile",
   "metadata": {
    "papermill": {
     "duration": 0.023338,
     "end_time": "2021-01-27T00:11:15.419452",
     "exception": false,
     "start_time": "2021-01-27T00:11:15.396114",
     "status": "completed"
    },
    "tags": []
   },
   "source": [
    "### Reshape the input data to create a linear array"
   ]
  },
  {
   "cell_type": "code",
   "execution_count": 13,
   "id": "colonial-adams",
   "metadata": {
    "execution": {
     "iopub.execute_input": "2021-01-27T00:11:15.470651Z",
     "iopub.status.busy": "2021-01-27T00:11:15.470216Z",
     "iopub.status.idle": "2021-01-27T00:11:15.482497Z",
     "shell.execute_reply": "2021-01-27T00:11:15.482104Z"
    },
    "papermill": {
     "duration": 0.039868,
     "end_time": "2021-01-27T00:11:15.482627",
     "exception": false,
     "start_time": "2021-01-27T00:11:15.442759",
     "status": "completed"
    },
    "tags": []
   },
   "outputs": [
    {
     "data": {
      "text/plain": [
       "((11982, 784), (1984, 784))"
      ]
     },
     "execution_count": 13,
     "metadata": {},
     "output_type": "execute_result"
    }
   ],
   "source": [
    "X_train = X_train.reshape(X_train.shape[0], -1)\n",
    "X_test = X_test.reshape(X_test.shape[0], -1)\n",
    "X_train.shape, X_test.shape"
   ]
  },
  {
   "cell_type": "markdown",
   "id": "smart-details",
   "metadata": {
    "papermill": {
     "duration": 0.024521,
     "end_time": "2021-01-27T00:11:15.530900",
     "exception": false,
     "start_time": "2021-01-27T00:11:15.506379",
     "status": "completed"
    },
    "tags": []
   },
   "source": [
    "### Importing appropriate functions from 'Kudzu'"
   ]
  },
  {
   "cell_type": "code",
   "execution_count": 14,
   "id": "celtic-trial",
   "metadata": {
    "execution": {
     "iopub.execute_input": "2021-01-27T00:11:15.590417Z",
     "iopub.status.busy": "2021-01-27T00:11:15.590001Z",
     "iopub.status.idle": "2021-01-27T00:11:15.607841Z",
     "shell.execute_reply": "2021-01-27T00:11:15.607402Z"
    },
    "papermill": {
     "duration": 0.05074,
     "end_time": "2021-01-27T00:11:15.607948",
     "exception": false,
     "start_time": "2021-01-27T00:11:15.557208",
     "status": "completed"
    },
    "tags": []
   },
   "outputs": [],
   "source": [
    "from kudzu.layer import Sigmoid\n",
    "from kudzu.layer import Relu\n",
    "from kudzu.layer import Affine, Sigmoid\n",
    "\n",
    "from kudzu.model import Model\n",
    "from kudzu.train import Learner\n",
    "from kudzu.optim import GD\n",
    "from kudzu.data import Data, Dataloader, Sampler\n",
    "\n",
    "from kudzu.callbacks import AccCallback\n",
    "from kudzu.callbacks import ClfCallback\n",
    "\n",
    "from kudzu.loss import MSE"
   ]
  },
  {
   "cell_type": "markdown",
   "id": "coupled-customer",
   "metadata": {
    "papermill": {
     "duration": 0.023802,
     "end_time": "2021-01-27T00:11:15.655795",
     "exception": false,
     "start_time": "2021-01-27T00:11:15.631993",
     "status": "completed"
    },
    "tags": []
   },
   "source": [
    "### Let us create a `Config` class, to store important parameters. \n",
    "This class essentially plays the role of a dictionary."
   ]
  },
  {
   "cell_type": "code",
   "execution_count": 15,
   "id": "young-ceiling",
   "metadata": {
    "execution": {
     "iopub.execute_input": "2021-01-27T00:11:15.707510Z",
     "iopub.status.busy": "2021-01-27T00:11:15.706975Z",
     "iopub.status.idle": "2021-01-27T00:11:15.720433Z",
     "shell.execute_reply": "2021-01-27T00:11:15.719975Z"
    },
    "papermill": {
     "duration": 0.041261,
     "end_time": "2021-01-27T00:11:15.720550",
     "exception": false,
     "start_time": "2021-01-27T00:11:15.679289",
     "status": "completed"
    },
    "tags": []
   },
   "outputs": [],
   "source": [
    "class Config:\n",
    "    pass\n",
    "config = Config()\n",
    "config.lr = 0.001\n",
    "config.num_epochs = 251\n",
    "config.bs = 50"
   ]
  },
  {
   "cell_type": "markdown",
   "id": "according-mandate",
   "metadata": {
    "papermill": {
     "duration": 0.024296,
     "end_time": "2021-01-27T00:11:15.771537",
     "exception": false,
     "start_time": "2021-01-27T00:11:15.747241",
     "status": "completed"
    },
    "tags": []
   },
   "source": [
    "### Initializing data to the variables"
   ]
  },
  {
   "cell_type": "code",
   "execution_count": 16,
   "id": "academic-disposition",
   "metadata": {
    "execution": {
     "iopub.execute_input": "2021-01-27T00:11:15.825067Z",
     "iopub.status.busy": "2021-01-27T00:11:15.824541Z",
     "iopub.status.idle": "2021-01-27T00:11:15.835387Z",
     "shell.execute_reply": "2021-01-27T00:11:15.835041Z"
    },
    "papermill": {
     "duration": 0.03923,
     "end_time": "2021-01-27T00:11:15.835471",
     "exception": false,
     "start_time": "2021-01-27T00:11:15.796241",
     "status": "completed"
    },
    "tags": []
   },
   "outputs": [],
   "source": [
    "data = Data(X_train, y_train.reshape(-1,1))\n",
    "sampler = Sampler(data, config.bs, shuffle=True)\n",
    "\n",
    "dl = Dataloader(data, sampler)\n",
    "\n",
    "opt = GD(config.lr)\n",
    "loss = MSE()"
   ]
  },
  {
   "cell_type": "code",
   "execution_count": 17,
   "id": "featured-commission",
   "metadata": {
    "execution": {
     "iopub.execute_input": "2021-01-27T00:11:15.887550Z",
     "iopub.status.busy": "2021-01-27T00:11:15.887142Z",
     "iopub.status.idle": "2021-01-27T00:11:15.897590Z",
     "shell.execute_reply": "2021-01-27T00:11:15.897260Z"
    },
    "papermill": {
     "duration": 0.038183,
     "end_time": "2021-01-27T00:11:15.897676",
     "exception": false,
     "start_time": "2021-01-27T00:11:15.859493",
     "status": "completed"
    },
    "tags": []
   },
   "outputs": [],
   "source": [
    "training_xdata = X_train\n",
    "testing_xdata = X_test\n",
    "training_ydata = y_train.reshape(-1,1)\n",
    "testing_ydata = y_test.reshape(-1,1)"
   ]
  },
  {
   "cell_type": "markdown",
   "id": "played-safety",
   "metadata": {
    "papermill": {
     "duration": 0.026375,
     "end_time": "2021-01-27T00:11:15.950171",
     "exception": false,
     "start_time": "2021-01-27T00:11:15.923796",
     "status": "completed"
    },
    "tags": []
   },
   "source": [
    "### Running Models with the Training data\n",
    "Details about the network layers:\n",
    "- A first affine layer has 784 inputs and does 100 affine transforms. These are followed by a Relu\n",
    "- A second affine layer has 100 inputs from the 100 activations of the past layer, and does 100 affine transforms. These are followed by a Relu\n",
    "- A third affine layer has 100 activations and does 2 affine transformations to create an embedding for visualization. There is no non-linearity here.\n",
    "- A final \"logistic regression\" which has an affine transform from 2 inputs to 1 output, which is squeezed through a sigmoid.\n",
    "\n",
    "Help taken from Anshuman's Notebook."
   ]
  },
  {
   "cell_type": "code",
   "execution_count": 18,
   "id": "asian-bankruptcy",
   "metadata": {
    "execution": {
     "iopub.execute_input": "2021-01-27T00:11:16.017523Z",
     "iopub.status.busy": "2021-01-27T00:11:16.016963Z",
     "iopub.status.idle": "2021-01-27T00:11:16.033421Z",
     "shell.execute_reply": "2021-01-27T00:11:16.032514Z"
    },
    "papermill": {
     "duration": 0.051898,
     "end_time": "2021-01-27T00:11:16.033525",
     "exception": false,
     "start_time": "2021-01-27T00:11:15.981627",
     "status": "completed"
    },
    "tags": []
   },
   "outputs": [],
   "source": [
    "# layers for the Neural Network\n",
    "layers = [Affine(\"first\", 784, 100), Relu(\"first\"), Affine(\"second\", 100, 100), Relu(\"second\"), Affine(\"third\", 100, 2), Affine(\"final\", 2, 1), Sigmoid(\"final\")]\n",
    "model_nn = Model(layers)\n",
    "\n",
    "# layers for the Logistic Regression\n",
    "layers_lr = [Affine(\"logits\", 784, 1), Sigmoid(\"sigmoid\")]\n",
    "model_lr = Model(layers_lr)"
   ]
  },
  {
   "cell_type": "code",
   "execution_count": 19,
   "id": "removed-butler",
   "metadata": {
    "execution": {
     "iopub.execute_input": "2021-01-27T00:11:16.106122Z",
     "iopub.status.busy": "2021-01-27T00:11:16.099264Z",
     "iopub.status.idle": "2021-01-27T00:11:16.108569Z",
     "shell.execute_reply": "2021-01-27T00:11:16.108078Z"
    },
    "papermill": {
     "duration": 0.044884,
     "end_time": "2021-01-27T00:11:16.108686",
     "exception": false,
     "start_time": "2021-01-27T00:11:16.063802",
     "status": "completed"
    },
    "tags": []
   },
   "outputs": [],
   "source": [
    "# suffix _nn stands for Neural Network.\n",
    "learner_nn = Learner(loss, model_nn, opt, config.num_epochs)\n",
    "acc_nn = ClfCallback(learner_nn, config.bs, training_xdata , testing_xdata, training_ydata, testing_ydata)\n",
    "learner_nn.set_callbacks([acc_nn])"
   ]
  },
  {
   "cell_type": "code",
   "execution_count": 20,
   "id": "conceptual-throw",
   "metadata": {
    "execution": {
     "iopub.execute_input": "2021-01-27T00:11:16.162153Z",
     "iopub.status.busy": "2021-01-27T00:11:16.161697Z",
     "iopub.status.idle": "2021-01-27T00:12:31.793855Z",
     "shell.execute_reply": "2021-01-27T00:12:31.794660Z"
    },
    "papermill": {
     "duration": 75.661182,
     "end_time": "2021-01-27T00:12:31.794820",
     "exception": false,
     "start_time": "2021-01-27T00:11:16.133638",
     "status": "completed"
    },
    "tags": []
   },
   "outputs": [
    {
     "name": "stdout",
     "output_type": "stream",
     "text": [
      "====== Neural Network ======\n"
     ]
    },
    {
     "name": "stdout",
     "output_type": "stream",
     "text": [
      "Epoch 0, Loss 0.2356\n",
      "Training Accuracy: 0.7412, Testing Accuracy: 0.7409\n",
      "\n"
     ]
    },
    {
     "name": "stdout",
     "output_type": "stream",
     "text": [
      "Epoch 10, Loss 0.081\n",
      "Training Accuracy: 0.9271, Testing Accuracy: 0.9380\n",
      "\n"
     ]
    },
    {
     "name": "stdout",
     "output_type": "stream",
     "text": [
      "Epoch 20, Loss 0.0524\n",
      "Training Accuracy: 0.9448, Testing Accuracy: 0.9541\n",
      "\n"
     ]
    },
    {
     "name": "stdout",
     "output_type": "stream",
     "text": [
      "Epoch 30, Loss 0.0426\n",
      "Training Accuracy: 0.9523, Testing Accuracy: 0.9622\n",
      "\n"
     ]
    },
    {
     "name": "stdout",
     "output_type": "stream",
     "text": [
      "Epoch 40, Loss 0.0374\n",
      "Training Accuracy: 0.9569, Testing Accuracy: 0.9662\n",
      "\n"
     ]
    },
    {
     "name": "stdout",
     "output_type": "stream",
     "text": [
      "Epoch 50, Loss 0.0341\n",
      "Training Accuracy: 0.9609, Testing Accuracy: 0.9688\n",
      "\n"
     ]
    },
    {
     "name": "stdout",
     "output_type": "stream",
     "text": [
      "Epoch 60, Loss 0.0318\n",
      "Training Accuracy: 0.9634, Testing Accuracy: 0.9693\n",
      "\n"
     ]
    },
    {
     "name": "stdout",
     "output_type": "stream",
     "text": [
      "Epoch 70, Loss 0.03\n",
      "Training Accuracy: 0.9655, Testing Accuracy: 0.9693\n",
      "\n"
     ]
    },
    {
     "name": "stdout",
     "output_type": "stream",
     "text": [
      "Epoch 80, Loss 0.0285\n",
      "Training Accuracy: 0.9667, Testing Accuracy: 0.9713\n",
      "\n"
     ]
    },
    {
     "name": "stdout",
     "output_type": "stream",
     "text": [
      "Epoch 90, Loss 0.0273\n",
      "Training Accuracy: 0.9680, Testing Accuracy: 0.9703\n",
      "\n"
     ]
    },
    {
     "name": "stdout",
     "output_type": "stream",
     "text": [
      "Epoch 100, Loss 0.0262\n",
      "Training Accuracy: 0.9692, Testing Accuracy: 0.9708\n",
      "\n"
     ]
    },
    {
     "name": "stdout",
     "output_type": "stream",
     "text": [
      "Epoch 110, Loss 0.0253\n",
      "Training Accuracy: 0.9708, Testing Accuracy: 0.9703\n",
      "\n"
     ]
    },
    {
     "name": "stdout",
     "output_type": "stream",
     "text": [
      "Epoch 120, Loss 0.0245\n",
      "Training Accuracy: 0.9718, Testing Accuracy: 0.9703\n",
      "\n"
     ]
    },
    {
     "name": "stdout",
     "output_type": "stream",
     "text": [
      "Epoch 130, Loss 0.0237\n",
      "Training Accuracy: 0.9726, Testing Accuracy: 0.9708\n",
      "\n"
     ]
    },
    {
     "name": "stdout",
     "output_type": "stream",
     "text": [
      "Epoch 140, Loss 0.023\n",
      "Training Accuracy: 0.9733, Testing Accuracy: 0.9713\n",
      "\n"
     ]
    },
    {
     "name": "stdout",
     "output_type": "stream",
     "text": [
      "Epoch 150, Loss 0.0224\n",
      "Training Accuracy: 0.9744, Testing Accuracy: 0.9723\n",
      "\n"
     ]
    },
    {
     "name": "stdout",
     "output_type": "stream",
     "text": [
      "Epoch 160, Loss 0.0218\n",
      "Training Accuracy: 0.9753, Testing Accuracy: 0.9723\n",
      "\n"
     ]
    },
    {
     "name": "stdout",
     "output_type": "stream",
     "text": [
      "Epoch 170, Loss 0.0212\n",
      "Training Accuracy: 0.9762, Testing Accuracy: 0.9723\n",
      "\n"
     ]
    },
    {
     "name": "stdout",
     "output_type": "stream",
     "text": [
      "Epoch 180, Loss 0.0207\n",
      "Training Accuracy: 0.9770, Testing Accuracy: 0.9723\n",
      "\n"
     ]
    },
    {
     "name": "stdout",
     "output_type": "stream",
     "text": [
      "Epoch 190, Loss 0.0202\n",
      "Training Accuracy: 0.9776, Testing Accuracy: 0.9738\n",
      "\n"
     ]
    },
    {
     "name": "stdout",
     "output_type": "stream",
     "text": [
      "Epoch 200, Loss 0.0197\n",
      "Training Accuracy: 0.9781, Testing Accuracy: 0.9748\n",
      "\n"
     ]
    },
    {
     "name": "stdout",
     "output_type": "stream",
     "text": [
      "Epoch 210, Loss 0.0193\n",
      "Training Accuracy: 0.9783, Testing Accuracy: 0.9748\n",
      "\n"
     ]
    },
    {
     "name": "stdout",
     "output_type": "stream",
     "text": [
      "Epoch 220, Loss 0.0189\n",
      "Training Accuracy: 0.9788, Testing Accuracy: 0.9753\n",
      "\n"
     ]
    },
    {
     "name": "stdout",
     "output_type": "stream",
     "text": [
      "Epoch 230, Loss 0.0185\n",
      "Training Accuracy: 0.9791, Testing Accuracy: 0.9758\n",
      "\n"
     ]
    },
    {
     "name": "stdout",
     "output_type": "stream",
     "text": [
      "Epoch 240, Loss 0.0181\n",
      "Training Accuracy: 0.9799, Testing Accuracy: 0.9753\n",
      "\n"
     ]
    },
    {
     "name": "stdout",
     "output_type": "stream",
     "text": [
      "Epoch 250, Loss 0.0177\n",
      "Training Accuracy: 0.9806, Testing Accuracy: 0.9753\n",
      "\n"
     ]
    },
    {
     "data": {
      "text/plain": [
       "0.0052810829354755185"
      ]
     },
     "execution_count": 20,
     "metadata": {},
     "output_type": "execute_result"
    }
   ],
   "source": [
    "print(\"====== Neural Network ======\")\n",
    "learner_nn.train_loop(dl)"
   ]
  },
  {
   "cell_type": "markdown",
   "id": "competent-suffering",
   "metadata": {
    "papermill": {
     "duration": 0.033127,
     "end_time": "2021-01-27T00:12:31.858066",
     "exception": false,
     "start_time": "2021-01-27T00:12:31.824939",
     "status": "completed"
    },
    "tags": []
   },
   "source": [
    "### Logistic Regression based Implementation."
   ]
  },
  {
   "cell_type": "code",
   "execution_count": 21,
   "id": "qualified-psychiatry",
   "metadata": {
    "execution": {
     "iopub.execute_input": "2021-01-27T00:12:31.926346Z",
     "iopub.status.busy": "2021-01-27T00:12:31.925861Z",
     "iopub.status.idle": "2021-01-27T00:12:31.936496Z",
     "shell.execute_reply": "2021-01-27T00:12:31.936073Z"
    },
    "papermill": {
     "duration": 0.045088,
     "end_time": "2021-01-27T00:12:31.936612",
     "exception": false,
     "start_time": "2021-01-27T00:12:31.891524",
     "status": "completed"
    },
    "tags": []
   },
   "outputs": [],
   "source": [
    "learner_lr = Learner(loss, model_lr, opt, config.num_epochs)\n",
    "acc_lr = ClfCallback(learner_lr, config.bs, training_xdata , testing_xdata, training_ydata, testing_ydata)\n",
    "learner_lr.set_callbacks([acc_lr])"
   ]
  },
  {
   "cell_type": "code",
   "execution_count": 22,
   "id": "average-outside",
   "metadata": {
    "execution": {
     "iopub.execute_input": "2021-01-27T00:12:32.005251Z",
     "iopub.status.busy": "2021-01-27T00:12:32.004848Z",
     "iopub.status.idle": "2021-01-27T00:12:44.709723Z",
     "shell.execute_reply": "2021-01-27T00:12:44.710501Z"
    },
    "papermill": {
     "duration": 12.741693,
     "end_time": "2021-01-27T00:12:44.710708",
     "exception": false,
     "start_time": "2021-01-27T00:12:31.969015",
     "status": "completed"
    },
    "tags": []
   },
   "outputs": [
    {
     "name": "stdout",
     "output_type": "stream",
     "text": [
      "====== Logistic Regression ======\n",
      "Epoch 0, Loss 0.2141\n",
      "Training Accuracy: 0.7921, Testing Accuracy: 0.7812\n",
      "\n"
     ]
    },
    {
     "name": "stdout",
     "output_type": "stream",
     "text": [
      "Epoch 10, Loss 0.0969\n",
      "Training Accuracy: 0.9228, Testing Accuracy: 0.9320\n",
      "\n"
     ]
    },
    {
     "name": "stdout",
     "output_type": "stream",
     "text": [
      "Epoch 20, Loss 0.0759\n",
      "Training Accuracy: 0.9337, Testing Accuracy: 0.9441\n",
      "\n"
     ]
    },
    {
     "name": "stdout",
     "output_type": "stream",
     "text": [
      "Epoch 30, Loss 0.0661\n",
      "Training Accuracy: 0.9397, Testing Accuracy: 0.9516\n",
      "\n"
     ]
    },
    {
     "name": "stdout",
     "output_type": "stream",
     "text": [
      "Epoch 40, Loss 0.0602\n",
      "Training Accuracy: 0.9433, Testing Accuracy: 0.9572\n",
      "\n"
     ]
    },
    {
     "name": "stdout",
     "output_type": "stream",
     "text": [
      "Epoch 50, Loss 0.0561\n",
      "Training Accuracy: 0.9462, Testing Accuracy: 0.9577\n",
      "\n"
     ]
    },
    {
     "name": "stdout",
     "output_type": "stream",
     "text": [
      "Epoch 60, Loss 0.053\n",
      "Training Accuracy: 0.9489, Testing Accuracy: 0.9592\n",
      "\n"
     ]
    },
    {
     "name": "stdout",
     "output_type": "stream",
     "text": [
      "Epoch 70, Loss 0.0506\n",
      "Training Accuracy: 0.9508, Testing Accuracy: 0.9612\n",
      "\n"
     ]
    },
    {
     "name": "stdout",
     "output_type": "stream",
     "text": [
      "Epoch 80, Loss 0.0487\n",
      "Training Accuracy: 0.9522, Testing Accuracy: 0.9622\n",
      "\n"
     ]
    },
    {
     "name": "stdout",
     "output_type": "stream",
     "text": [
      "Epoch 90, Loss 0.0471\n",
      "Training Accuracy: 0.9532, Testing Accuracy: 0.9622\n",
      "\n"
     ]
    },
    {
     "name": "stdout",
     "output_type": "stream",
     "text": [
      "Epoch 100, Loss 0.0458\n",
      "Training Accuracy: 0.9544, Testing Accuracy: 0.9627\n",
      "\n"
     ]
    },
    {
     "name": "stdout",
     "output_type": "stream",
     "text": [
      "Epoch 110, Loss 0.0446\n",
      "Training Accuracy: 0.9553, Testing Accuracy: 0.9632\n",
      "\n"
     ]
    },
    {
     "name": "stdout",
     "output_type": "stream",
     "text": [
      "Epoch 120, Loss 0.0436\n",
      "Training Accuracy: 0.9558, Testing Accuracy: 0.9637\n",
      "\n"
     ]
    },
    {
     "name": "stdout",
     "output_type": "stream",
     "text": [
      "Epoch 130, Loss 0.0427\n",
      "Training Accuracy: 0.9561, Testing Accuracy: 0.9632\n",
      "\n"
     ]
    },
    {
     "name": "stdout",
     "output_type": "stream",
     "text": [
      "Epoch 140, Loss 0.0419\n",
      "Training Accuracy: 0.9565, Testing Accuracy: 0.9632\n",
      "\n"
     ]
    },
    {
     "name": "stdout",
     "output_type": "stream",
     "text": [
      "Epoch 150, Loss 0.0411\n",
      "Training Accuracy: 0.9569, Testing Accuracy: 0.9632\n",
      "\n"
     ]
    },
    {
     "name": "stdout",
     "output_type": "stream",
     "text": [
      "Epoch 160, Loss 0.0405\n",
      "Training Accuracy: 0.9579, Testing Accuracy: 0.9637\n",
      "\n"
     ]
    },
    {
     "name": "stdout",
     "output_type": "stream",
     "text": [
      "Epoch 170, Loss 0.0399\n",
      "Training Accuracy: 0.9579, Testing Accuracy: 0.9637\n",
      "\n"
     ]
    },
    {
     "name": "stdout",
     "output_type": "stream",
     "text": [
      "Epoch 180, Loss 0.0393\n",
      "Training Accuracy: 0.9584, Testing Accuracy: 0.9642\n",
      "\n"
     ]
    },
    {
     "name": "stdout",
     "output_type": "stream",
     "text": [
      "Epoch 190, Loss 0.0388\n",
      "Training Accuracy: 0.9589, Testing Accuracy: 0.9647\n",
      "\n"
     ]
    },
    {
     "name": "stdout",
     "output_type": "stream",
     "text": [
      "Epoch 200, Loss 0.0384\n",
      "Training Accuracy: 0.9593, Testing Accuracy: 0.9647\n",
      "\n"
     ]
    },
    {
     "name": "stdout",
     "output_type": "stream",
     "text": [
      "Epoch 210, Loss 0.0379\n",
      "Training Accuracy: 0.9594, Testing Accuracy: 0.9647\n",
      "\n"
     ]
    },
    {
     "name": "stdout",
     "output_type": "stream",
     "text": [
      "Epoch 220, Loss 0.0375\n",
      "Training Accuracy: 0.9599, Testing Accuracy: 0.9652\n",
      "\n"
     ]
    },
    {
     "name": "stdout",
     "output_type": "stream",
     "text": [
      "Epoch 230, Loss 0.0372\n",
      "Training Accuracy: 0.9604, Testing Accuracy: 0.9657\n",
      "\n"
     ]
    },
    {
     "name": "stdout",
     "output_type": "stream",
     "text": [
      "Epoch 240, Loss 0.0368\n",
      "Training Accuracy: 0.9606, Testing Accuracy: 0.9662\n",
      "\n"
     ]
    },
    {
     "name": "stdout",
     "output_type": "stream",
     "text": [
      "Epoch 250, Loss 0.0365\n",
      "Training Accuracy: 0.9610, Testing Accuracy: 0.9667\n",
      "\n"
     ]
    },
    {
     "data": {
      "text/plain": [
       "0.020983214611073678"
      ]
     },
     "execution_count": 22,
     "metadata": {},
     "output_type": "execute_result"
    }
   ],
   "source": [
    "print(\"====== Logistic Regression ======\")\n",
    "learner_lr.train_loop(dl)"
   ]
  },
  {
   "cell_type": "markdown",
   "id": "adjusted-possible",
   "metadata": {
    "papermill": {
     "duration": 0.041255,
     "end_time": "2021-01-27T00:12:44.794354",
     "exception": false,
     "start_time": "2021-01-27T00:12:44.753099",
     "status": "completed"
    },
    "tags": []
   },
   "source": [
    "### Comparing results of NN and LR"
   ]
  },
  {
   "cell_type": "code",
   "execution_count": 23,
   "id": "mental-multimedia",
   "metadata": {
    "execution": {
     "iopub.execute_input": "2021-01-27T00:12:44.883454Z",
     "iopub.status.busy": "2021-01-27T00:12:44.882380Z",
     "iopub.status.idle": "2021-01-27T00:12:45.077674Z",
     "shell.execute_reply": "2021-01-27T00:12:45.078315Z"
    },
    "papermill": {
     "duration": 0.243138,
     "end_time": "2021-01-27T00:12:45.078513",
     "exception": false,
     "start_time": "2021-01-27T00:12:44.835375",
     "status": "completed"
    },
    "tags": []
   },
   "outputs": [
    {
     "data": {
      "text/plain": [
       "<matplotlib.legend.Legend at 0x7f481c585390>"
      ]
     },
     "execution_count": 23,
     "metadata": {},
     "output_type": "execute_result"
    },
    {
     "data": {
      "image/png": "[encoded data removed]",
      "text/plain": [
       "<Figure size 1080x720 with 1 Axes>"
      ]
     },
     "metadata": {
      "needs_background": "light"
     },
     "output_type": "display_data"
    }
   ],
   "source": [
    "plt.figure(figsize=(15,10))\n",
    "\n",
    "# Neural Network plots\n",
    "plt.plot(acc_nn.accuracies, 'r-', label = \"Training Accuracies - NN\")\n",
    "plt.plot(acc_nn.test_accuracies, 'g-', label = \"Testing Accuracies - NN\")\n",
    "\n",
    "# Logistic Regression plots\n",
    "plt.plot(acc_lr.accuracies, 'k-', label = \"Training Accuracies - LR\")\n",
    "plt.plot(acc_lr.test_accuracies, 'b-', label = \"Testing Accuracies - LR\")\n",
    "\n",
    "plt.ylim(0.8, 1)\n",
    "\n",
    "plt.legend()\n",
    "\n"
   ]
  },
  {
   "cell_type": "markdown",
   "id": "sexual-flesh",
   "metadata": {
    "papermill": {
     "duration": 0.04416,
     "end_time": "2021-01-27T00:12:45.163499",
     "exception": false,
     "start_time": "2021-01-27T00:12:45.119339",
     "status": "completed"
    },
    "tags": []
   },
   "source": [
    "### From the plot, we can observe the following:\n",
    "- Neural Network achieves higher accuracy than the Logistic Regression model.\n",
    "- This apparently, is because of overfitting, i.e. NN captures more noise than data.\n",
    "- Testing accuracy of NN drops below the Training accuracy at higher epochs. This explains the over-fitting on training data.\n",
    "- Logistic Regression gives a reliable accuracy, without the above mentioned problem.\n"
   ]
  },
  {
   "cell_type": "markdown",
   "id": "institutional-pacific",
   "metadata": {
    "papermill": {
     "duration": 0.042797,
     "end_time": "2021-01-27T00:12:45.249309",
     "exception": false,
     "start_time": "2021-01-27T00:12:45.206512",
     "status": "completed"
    },
    "tags": []
   },
   "source": [
    "### Moving till the last but one layer (excluding it).\n",
    "#### Plotting the outputs of this layer of the NN."
   ]
  },
  {
   "cell_type": "code",
   "execution_count": 24,
   "id": "economic-server",
   "metadata": {
    "execution": {
     "iopub.execute_input": "2021-01-27T00:12:45.338339Z",
     "iopub.status.busy": "2021-01-27T00:12:45.337852Z",
     "iopub.status.idle": "2021-01-27T00:12:45.350883Z",
     "shell.execute_reply": "2021-01-27T00:12:45.350262Z"
    },
    "papermill": {
     "duration": 0.062149,
     "end_time": "2021-01-27T00:12:45.351005",
     "exception": false,
     "start_time": "2021-01-27T00:12:45.288856",
     "status": "completed"
    },
    "tags": []
   },
   "outputs": [],
   "source": [
    "model_new = Model(layers[:-2])"
   ]
  },
  {
   "cell_type": "code",
   "execution_count": 25,
   "id": "varied-upgrade",
   "metadata": {
    "execution": {
     "iopub.execute_input": "2021-01-27T00:12:45.444482Z",
     "iopub.status.busy": "2021-01-27T00:12:45.443915Z",
     "iopub.status.idle": "2021-01-27T00:12:45.464864Z",
     "shell.execute_reply": "2021-01-27T00:12:45.465292Z"
    },
    "papermill": {
     "duration": 0.069077,
     "end_time": "2021-01-27T00:12:45.465426",
     "exception": false,
     "start_time": "2021-01-27T00:12:45.396349",
     "status": "completed"
    },
    "tags": []
   },
   "outputs": [],
   "source": [
    "plot_testing = model_new(testing_xdata)"
   ]
  },
  {
   "cell_type": "code",
   "execution_count": 26,
   "id": "specific-handling",
   "metadata": {
    "execution": {
     "iopub.execute_input": "2021-01-27T00:12:45.556194Z",
     "iopub.status.busy": "2021-01-27T00:12:45.555682Z",
     "iopub.status.idle": "2021-01-27T00:12:45.708399Z",
     "shell.execute_reply": "2021-01-27T00:12:45.707978Z"
    },
    "papermill": {
     "duration": 0.201174,
     "end_time": "2021-01-27T00:12:45.708493",
     "exception": false,
     "start_time": "2021-01-27T00:12:45.507319",
     "status": "completed"
    },
    "tags": []
   },
   "outputs": [
    {
     "data": {
      "text/plain": [
       "Text(0.5, 1.0, 'Outputs')"
      ]
     },
     "execution_count": 26,
     "metadata": {},
     "output_type": "execute_result"
    },
    {
     "data": {
      "image/png": "[encoded data removed]",
      "text/plain": [
       "<Figure size 576x504 with 1 Axes>"
      ]
     },
     "metadata": {
      "needs_background": "light"
     },
     "output_type": "display_data"
    }
   ],
   "source": [
    "plt.figure(figsize=(8,7))\n",
    "plt.scatter(plot_testing[:,0], plot_testing[:,1], alpha = 0.1, c = y_test.ravel());\n",
    "plt.title('Outputs')"
   ]
  },
  {
   "cell_type": "markdown",
   "id": "described-knowing",
   "metadata": {
    "papermill": {
     "duration": 0.040593,
     "end_time": "2021-01-27T00:12:45.787329",
     "exception": false,
     "start_time": "2021-01-27T00:12:45.746736",
     "status": "completed"
    },
    "tags": []
   },
   "source": [
    "### Plotting probability contours"
   ]
  },
  {
   "cell_type": "code",
   "execution_count": 27,
   "id": "needed-growing",
   "metadata": {
    "execution": {
     "iopub.execute_input": "2021-01-27T00:12:45.868826Z",
     "iopub.status.busy": "2021-01-27T00:12:45.868362Z",
     "iopub.status.idle": "2021-01-27T00:12:45.880859Z",
     "shell.execute_reply": "2021-01-27T00:12:45.881169Z"
    },
    "papermill": {
     "duration": 0.056034,
     "end_time": "2021-01-27T00:12:45.881272",
     "exception": false,
     "start_time": "2021-01-27T00:12:45.825238",
     "status": "completed"
    },
    "tags": []
   },
   "outputs": [],
   "source": [
    "model_prob = Model(layers[-2:]) "
   ]
  },
  {
   "cell_type": "code",
   "execution_count": 28,
   "id": "introductory-enforcement",
   "metadata": {
    "execution": {
     "iopub.execute_input": "2021-01-27T00:12:45.968872Z",
     "iopub.status.busy": "2021-01-27T00:12:45.968365Z",
     "iopub.status.idle": "2021-01-27T00:12:45.983240Z",
     "shell.execute_reply": "2021-01-27T00:12:45.983665Z"
    },
    "papermill": {
     "duration": 0.063807,
     "end_time": "2021-01-27T00:12:45.983796",
     "exception": false,
     "start_time": "2021-01-27T00:12:45.919989",
     "status": "completed"
    },
    "tags": []
   },
   "outputs": [],
   "source": [
    "# Adjust the x and y ranges according to the above generated plot.\n",
    "x_range = np.linspace(-4, 1, 100) \n",
    "y_range = np.linspace(-6, 6, 100) \n",
    "x_grid, y_grid = np.meshgrid(x_range, y_range) # x_grid and y_grig are of size 100 X 100\n",
    "\n",
    "# converting x_grid and y_grid to continuous arrays\n",
    "x_grid_flat = np.ravel(x_grid)\n",
    "y_grid_flat = np.ravel(y_grid)\n",
    "\n",
    "# The last layer of the current model takes two columns as input. Hence transpose of np.vstack() is required.\n",
    "X = np.vstack((x_grid_flat, y_grid_flat)).T\n",
    "\n",
    "# x_grid and y_grid are of size 100 x 100\n",
    "probability_contour = model_prob(X).reshape(100,100) "
   ]
  },
  {
   "cell_type": "code",
   "execution_count": 29,
   "id": "understood-landing",
   "metadata": {
    "execution": {
     "iopub.execute_input": "2021-01-27T00:12:46.099732Z",
     "iopub.status.busy": "2021-01-27T00:12:46.099295Z",
     "iopub.status.idle": "2021-01-27T00:12:46.305455Z",
     "shell.execute_reply": "2021-01-27T00:12:46.305833Z"
    },
    "papermill": {
     "duration": 0.255482,
     "end_time": "2021-01-27T00:12:46.305955",
     "exception": false,
     "start_time": "2021-01-27T00:12:46.050473",
     "status": "completed"
    },
    "tags": []
   },
   "outputs": [
    {
     "data": {
      "image/png": "[encoded data removed]",
      "text/plain": [
       "<Figure size 720x648 with 1 Axes>"
      ]
     },
     "metadata": {
      "needs_background": "light"
     },
     "output_type": "display_data"
    }
   ],
   "source": [
    "plt.figure(figsize=(10,9))\n",
    "plt.scatter(plot_testing[:,0], plot_testing[:,1], alpha = 0.1, c = y_test.ravel())\n",
    "contours = plt.contour(x_grid,y_grid,probability_contour)\n",
    "plt.title('Probability Contours')\n",
    "plt.clabel(contours, inline = True );"
   ]
  }
 ],
 "metadata": {
  "kernelspec": {
   "display_name": "Python 3",
   "language": "python",
   "name": "python3"
  },
  "language_info": {
   "codemirror_mode": {
    "name": "ipython",
    "version": 3
   },
   "file_extension": ".py",
   "mimetype": "text/x-python",
   "name": "python",
   "nbconvert_exporter": "python",
   "pygments_lexer": "ipython3",
   "version": "3.6.12"
  },
  "papermill": {
   "duration": 97.903364,
   "end_time": "2021-01-27T00:12:46.656859",
   "environment_variables": {},
   "exception": null,
   "input_path": "2020-08-11-NeuralNetwork.ipynb",
   "output_path": "2020-08-11-NeuralNetwork.ipynb",
   "parameters": {},
   "start_time": "2021-01-27T00:11:08.753495",
   "version": "2.1.2"
  }
 },
 "nbformat": 4,
 "nbformat_minor": 5
}