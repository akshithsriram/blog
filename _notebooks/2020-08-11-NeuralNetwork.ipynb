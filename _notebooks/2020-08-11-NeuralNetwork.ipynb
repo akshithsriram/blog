{
 "cells": [
  {
   "cell_type": "markdown",
   "metadata": {
    "papermill": {
     "duration": 0.033128,
     "end_time": "2020-10-14T00:15:35.281374",
     "exception": false,
     "start_time": "2020-10-14T00:15:35.248246",
     "status": "completed"
    },
    "tags": []
   },
   "source": [
    "# \"A Basic Neural Network: Differentiate Hand-Written Digits\"\n",
    "\n",
    "- badges: true\n",
    "- author: Akshith Sriram"
   ]
  },
  {
   "cell_type": "markdown",
   "metadata": {
    "papermill": {
     "duration": 0.027527,
     "end_time": "2020-10-14T00:15:35.344716",
     "exception": false,
     "start_time": "2020-10-14T00:15:35.317189",
     "status": "completed"
    },
    "tags": []
   },
   "source": [
    "### Key Objectives:\n",
    "- Building a neural network that differentiates two hand-written digits 3 and 8.\n",
    "- Comparing the results of this Neural Network (NN) to that of a Logistic Regression (LR) model.\n",
    "\n",
    "### Requirements:\n",
    "- 'Kudzu' : A neural network library that was designed during our course by [Univ.AI](www.univ.ai). \n",
    "- MNIST Database\n",
    "\n",
    "If MNIST is not installed, use the command `!pip install mnist` given below.\n",
    "It can be run both from the command line and Jupyter Notebook."
   ]
  },
  {
   "cell_type": "code",
   "execution_count": 1,
   "metadata": {
    "execution": {
     "iopub.execute_input": "2020-10-14T00:15:35.405247Z",
     "iopub.status.busy": "2020-10-14T00:15:35.404650Z",
     "iopub.status.idle": "2020-10-14T00:15:37.140449Z",
     "shell.execute_reply": "2020-10-14T00:15:37.139561Z"
    },
    "papermill": {
     "duration": 1.767196,
     "end_time": "2020-10-14T00:15:37.140612",
     "exception": false,
     "start_time": "2020-10-14T00:15:35.373416",
     "status": "completed"
    },
    "tags": []
   },
   "outputs": [
    {
     "name": "stdout",
     "output_type": "stream",
     "text": [
      "Collecting mnist\r\n"
     ]
    },
    {
     "name": "stdout",
     "output_type": "stream",
     "text": [
      "  Downloading mnist-0.2.2-py2.py3-none-any.whl (3.5 kB)\r\n"
     ]
    },
    {
     "name": "stdout",
     "output_type": "stream",
     "text": [
      "Requirement already satisfied: numpy in /opt/hostedtoolcache/Python/3.6.12/x64/lib/python3.6/site-packages (from mnist) (1.19.2)\r\n"
     ]
    },
    {
     "name": "stdout",
     "output_type": "stream",
     "text": [
      "Installing collected packages: mnist\r\n"
     ]
    },
    {
     "name": "stdout",
     "output_type": "stream",
     "text": [
      "Successfully installed mnist-0.2.2\r\n"
     ]
    }
   ],
   "source": [
    "!pip install mnist "
   ]
  },
  {
   "cell_type": "markdown",
   "metadata": {
    "papermill": {
     "duration": 0.030872,
     "end_time": "2020-10-14T00:15:37.203594",
     "exception": false,
     "start_time": "2020-10-14T00:15:37.172722",
     "status": "completed"
    },
    "tags": []
   },
   "source": [
    "#### Importing necessary libraries"
   ]
  },
  {
   "cell_type": "code",
   "execution_count": 2,
   "metadata": {
    "execution": {
     "iopub.execute_input": "2020-10-14T00:15:37.277245Z",
     "iopub.status.busy": "2020-10-14T00:15:37.276590Z",
     "iopub.status.idle": "2020-10-14T00:15:37.876531Z",
     "shell.execute_reply": "2020-10-14T00:15:37.876005Z"
    },
    "papermill": {
     "duration": 0.641833,
     "end_time": "2020-10-14T00:15:37.876707",
     "exception": false,
     "start_time": "2020-10-14T00:15:37.234874",
     "status": "completed"
    },
    "tags": []
   },
   "outputs": [],
   "source": [
    "%load_ext autoreload\n",
    "%autoreload 2\n",
    "\n",
    "%matplotlib inline\n",
    "import matplotlib.pyplot as plt\n",
    "\n",
    "import numpy as np\n",
    "import pandas as pd"
   ]
  },
  {
   "cell_type": "markdown",
   "metadata": {
    "papermill": {
     "duration": 0.036274,
     "end_time": "2020-10-14T00:15:37.945390",
     "exception": false,
     "start_time": "2020-10-14T00:15:37.909116",
     "status": "completed"
    },
    "tags": []
   },
   "source": [
    "### Preparing the Data"
   ]
  },
  {
   "cell_type": "code",
   "execution_count": 3,
   "metadata": {
    "execution": {
     "iopub.execute_input": "2020-10-14T00:15:38.020056Z",
     "iopub.status.busy": "2020-10-14T00:15:38.019023Z",
     "iopub.status.idle": "2020-10-14T00:15:38.031186Z",
     "shell.execute_reply": "2020-10-14T00:15:38.031768Z"
    },
    "papermill": {
     "duration": 0.056669,
     "end_time": "2020-10-14T00:15:38.031918",
     "exception": false,
     "start_time": "2020-10-14T00:15:37.975249",
     "status": "completed"
    },
    "tags": []
   },
   "outputs": [],
   "source": [
    "import mnist"
   ]
  },
  {
   "cell_type": "code",
   "execution_count": 4,
   "metadata": {
    "execution": {
     "iopub.execute_input": "2020-10-14T00:15:38.096801Z",
     "iopub.status.busy": "2020-10-14T00:15:38.096218Z",
     "iopub.status.idle": "2020-10-14T00:15:38.813691Z",
     "shell.execute_reply": "2020-10-14T00:15:38.814318Z"
    },
    "papermill": {
     "duration": 0.752516,
     "end_time": "2020-10-14T00:15:38.814486",
     "exception": false,
     "start_time": "2020-10-14T00:15:38.061970",
     "status": "completed"
    },
    "tags": []
   },
   "outputs": [],
   "source": [
    "train_images = mnist.train_images()\n",
    "train_labels = mnist.train_labels()"
   ]
  },
  {
   "cell_type": "code",
   "execution_count": 5,
   "metadata": {
    "execution": {
     "iopub.execute_input": "2020-10-14T00:15:38.877822Z",
     "iopub.status.busy": "2020-10-14T00:15:38.877191Z",
     "iopub.status.idle": "2020-10-14T00:15:38.891777Z",
     "shell.execute_reply": "2020-10-14T00:15:38.891249Z"
    },
    "papermill": {
     "duration": 0.049717,
     "end_time": "2020-10-14T00:15:38.891903",
     "exception": false,
     "start_time": "2020-10-14T00:15:38.842186",
     "status": "completed"
    },
    "tags": []
   },
   "outputs": [
    {
     "data": {
      "text/plain": [
       "((60000, 28, 28), (60000,))"
      ]
     },
     "execution_count": 5,
     "metadata": {},
     "output_type": "execute_result"
    }
   ],
   "source": [
    "train_images.shape, train_labels.shape"
   ]
  },
  {
   "cell_type": "code",
   "execution_count": 6,
   "metadata": {
    "execution": {
     "iopub.execute_input": "2020-10-14T00:15:38.952947Z",
     "iopub.status.busy": "2020-10-14T00:15:38.952315Z",
     "iopub.status.idle": "2020-10-14T00:15:39.219094Z",
     "shell.execute_reply": "2020-10-14T00:15:39.219602Z"
    },
    "papermill": {
     "duration": 0.299627,
     "end_time": "2020-10-14T00:15:39.219770",
     "exception": false,
     "start_time": "2020-10-14T00:15:38.920143",
     "status": "completed"
    },
    "tags": []
   },
   "outputs": [],
   "source": [
    "test_images = mnist.test_images()\n",
    "test_labels = mnist.test_labels()"
   ]
  },
  {
   "cell_type": "code",
   "execution_count": 7,
   "metadata": {
    "execution": {
     "iopub.execute_input": "2020-10-14T00:15:39.280844Z",
     "iopub.status.busy": "2020-10-14T00:15:39.280206Z",
     "iopub.status.idle": "2020-10-14T00:15:39.295459Z",
     "shell.execute_reply": "2020-10-14T00:15:39.296060Z"
    },
    "papermill": {
     "duration": 0.047226,
     "end_time": "2020-10-14T00:15:39.296199",
     "exception": false,
     "start_time": "2020-10-14T00:15:39.248973",
     "status": "completed"
    },
    "tags": []
   },
   "outputs": [
    {
     "data": {
      "text/plain": [
       "((10000, 28, 28), (10000,))"
      ]
     },
     "execution_count": 7,
     "metadata": {},
     "output_type": "execute_result"
    }
   ],
   "source": [
    "test_images.shape, test_labels.shape"
   ]
  },
  {
   "cell_type": "code",
   "execution_count": 8,
   "metadata": {
    "execution": {
     "iopub.execute_input": "2020-10-14T00:15:39.357902Z",
     "iopub.status.busy": "2020-10-14T00:15:39.357306Z",
     "iopub.status.idle": "2020-10-14T00:15:39.554116Z",
     "shell.execute_reply": "2020-10-14T00:15:39.554821Z"
    },
    "papermill": {
     "duration": 0.22898,
     "end_time": "2020-10-14T00:15:39.555140",
     "exception": false,
     "start_time": "2020-10-14T00:15:39.326160",
     "status": "completed"
    },
    "tags": []
   },
   "outputs": [
    {
     "name": "stdout",
     "output_type": "stream",
     "text": [
      "2\n"
     ]
    },
    {
     "data": {
      "text/plain": [
       "<matplotlib.image.AxesImage at 0x7fef674c19b0>"
      ]
     },
     "execution_count": 8,
     "metadata": {},
     "output_type": "execute_result"
    },
    {
     "data": {
      "image/png": "[encoded data removed]",
      "text/plain": [
       "<Figure size 432x288 with 1 Axes>"
      ]
     },
     "metadata": {
      "needs_background": "light"
     },
     "output_type": "display_data"
    }
   ],
   "source": [
    "image_index = 7776 # You may select anything up to 60,000\n",
    "print(train_labels[image_index]) \n",
    "plt.imshow(train_images[image_index], cmap='Greys')"
   ]
  },
  {
   "cell_type": "markdown",
   "metadata": {
    "papermill": {
     "duration": 0.032436,
     "end_time": "2020-10-14T00:15:39.622718",
     "exception": false,
     "start_time": "2020-10-14T00:15:39.590282",
     "status": "completed"
    },
    "tags": []
   },
   "source": [
    "## Filter data to get 3 and 8 out"
   ]
  },
  {
   "cell_type": "code",
   "execution_count": 9,
   "metadata": {
    "execution": {
     "iopub.execute_input": "2020-10-14T00:15:39.699099Z",
     "iopub.status.busy": "2020-10-14T00:15:39.692692Z",
     "iopub.status.idle": "2020-10-14T00:15:39.712929Z",
     "shell.execute_reply": "2020-10-14T00:15:39.712426Z"
    },
    "papermill": {
     "duration": 0.058758,
     "end_time": "2020-10-14T00:15:39.713105",
     "exception": false,
     "start_time": "2020-10-14T00:15:39.654347",
     "status": "completed"
    },
    "tags": []
   },
   "outputs": [],
   "source": [
    "train_filter = np.where((train_labels == 3 ) | (train_labels == 8))\n",
    "test_filter = np.where((test_labels == 3) | (test_labels == 8))\n",
    "X_train, y_train = train_images[train_filter], train_labels[train_filter]\n",
    "X_test, y_test = test_images[test_filter], test_labels[test_filter]"
   ]
  },
  {
   "cell_type": "markdown",
   "metadata": {
    "papermill": {
     "duration": 0.033796,
     "end_time": "2020-10-14T00:15:39.780709",
     "exception": false,
     "start_time": "2020-10-14T00:15:39.746913",
     "status": "completed"
    },
    "tags": []
   },
   "source": [
    "We normalize the pixel values in the 0 to 1 range"
   ]
  },
  {
   "cell_type": "code",
   "execution_count": 10,
   "metadata": {
    "execution": {
     "iopub.execute_input": "2020-10-14T00:15:39.859400Z",
     "iopub.status.busy": "2020-10-14T00:15:39.848640Z",
     "iopub.status.idle": "2020-10-14T00:15:39.914224Z",
     "shell.execute_reply": "2020-10-14T00:15:39.914781Z"
    },
    "papermill": {
     "duration": 0.101875,
     "end_time": "2020-10-14T00:15:39.914942",
     "exception": false,
     "start_time": "2020-10-14T00:15:39.813067",
     "status": "completed"
    },
    "tags": []
   },
   "outputs": [],
   "source": [
    "X_train = X_train/255.\n",
    "X_test = X_test/255."
   ]
  },
  {
   "cell_type": "markdown",
   "metadata": {
    "papermill": {
     "duration": 0.03092,
     "end_time": "2020-10-14T00:15:39.978157",
     "exception": false,
     "start_time": "2020-10-14T00:15:39.947237",
     "status": "completed"
    },
    "tags": []
   },
   "source": [
    "Setup the labels as 1 (when the digit is 3) and 0 (when the digit is 8)"
   ]
  },
  {
   "cell_type": "code",
   "execution_count": 11,
   "metadata": {
    "execution": {
     "iopub.execute_input": "2020-10-14T00:15:40.047030Z",
     "iopub.status.busy": "2020-10-14T00:15:40.046218Z",
     "iopub.status.idle": "2020-10-14T00:15:40.061749Z",
     "shell.execute_reply": "2020-10-14T00:15:40.061157Z"
    },
    "papermill": {
     "duration": 0.051286,
     "end_time": "2020-10-14T00:15:40.061912",
     "exception": false,
     "start_time": "2020-10-14T00:15:40.010626",
     "status": "completed"
    },
    "tags": []
   },
   "outputs": [],
   "source": [
    "y_train = 1*(y_train==3)\n",
    "y_test = 1*(y_test==3)"
   ]
  },
  {
   "cell_type": "code",
   "execution_count": 12,
   "metadata": {
    "execution": {
     "iopub.execute_input": "2020-10-14T00:15:40.131901Z",
     "iopub.status.busy": "2020-10-14T00:15:40.131262Z",
     "iopub.status.idle": "2020-10-14T00:15:40.143044Z",
     "shell.execute_reply": "2020-10-14T00:15:40.142477Z"
    },
    "papermill": {
     "duration": 0.049951,
     "end_time": "2020-10-14T00:15:40.143167",
     "exception": false,
     "start_time": "2020-10-14T00:15:40.093216",
     "status": "completed"
    },
    "tags": []
   },
   "outputs": [
    {
     "data": {
      "text/plain": [
       "((11982, 28, 28), (1984, 28, 28))"
      ]
     },
     "execution_count": 12,
     "metadata": {},
     "output_type": "execute_result"
    }
   ],
   "source": [
    "X_train.shape, X_test.shape"
   ]
  },
  {
   "cell_type": "markdown",
   "metadata": {
    "papermill": {
     "duration": 0.034151,
     "end_time": "2020-10-14T00:15:40.209426",
     "exception": false,
     "start_time": "2020-10-14T00:15:40.175275",
     "status": "completed"
    },
    "tags": []
   },
   "source": [
    "### Reshape the input data to create a linear array"
   ]
  },
  {
   "cell_type": "code",
   "execution_count": 13,
   "metadata": {
    "execution": {
     "iopub.execute_input": "2020-10-14T00:15:40.281483Z",
     "iopub.status.busy": "2020-10-14T00:15:40.280772Z",
     "iopub.status.idle": "2020-10-14T00:15:40.293717Z",
     "shell.execute_reply": "2020-10-14T00:15:40.293210Z"
    },
    "papermill": {
     "duration": 0.050573,
     "end_time": "2020-10-14T00:15:40.293842",
     "exception": false,
     "start_time": "2020-10-14T00:15:40.243269",
     "status": "completed"
    },
    "tags": []
   },
   "outputs": [
    {
     "data": {
      "text/plain": [
       "((11982, 784), (1984, 784))"
      ]
     },
     "execution_count": 13,
     "metadata": {},
     "output_type": "execute_result"
    }
   ],
   "source": [
    "X_train = X_train.reshape(X_train.shape[0], -1)\n",
    "X_test = X_test.reshape(X_test.shape[0], -1)\n",
    "X_train.shape, X_test.shape"
   ]
  },
  {
   "cell_type": "markdown",
   "metadata": {
    "papermill": {
     "duration": 0.033677,
     "end_time": "2020-10-14T00:15:40.360996",
     "exception": false,
     "start_time": "2020-10-14T00:15:40.327319",
     "status": "completed"
    },
    "tags": []
   },
   "source": [
    "### Importing appropriate functions from 'Kudzu'"
   ]
  },
  {
   "cell_type": "code",
   "execution_count": 14,
   "metadata": {
    "execution": {
     "iopub.execute_input": "2020-10-14T00:15:40.429638Z",
     "iopub.status.busy": "2020-10-14T00:15:40.428876Z",
     "iopub.status.idle": "2020-10-14T00:15:40.449310Z",
     "shell.execute_reply": "2020-10-14T00:15:40.449915Z"
    },
    "papermill": {
     "duration": 0.057052,
     "end_time": "2020-10-14T00:15:40.450074",
     "exception": false,
     "start_time": "2020-10-14T00:15:40.393022",
     "status": "completed"
    },
    "tags": []
   },
   "outputs": [],
   "source": [
    "from kudzu.layer import Sigmoid\n",
    "from kudzu.layer import Relu\n",
    "from kudzu.layer import Affine, Sigmoid\n",
    "\n",
    "from kudzu.model import Model\n",
    "from kudzu.train import Learner\n",
    "from kudzu.optim import GD\n",
    "from kudzu.data import Data, Dataloader, Sampler\n",
    "\n",
    "from kudzu.callbacks import AccCallback\n",
    "from kudzu.callbacks import ClfCallback\n",
    "\n",
    "from kudzu.loss import MSE"
   ]
  },
  {
   "cell_type": "markdown",
   "metadata": {
    "papermill": {
     "duration": 0.034465,
     "end_time": "2020-10-14T00:15:40.517371",
     "exception": false,
     "start_time": "2020-10-14T00:15:40.482906",
     "status": "completed"
    },
    "tags": []
   },
   "source": [
    "### Let us create a `Config` class, to store important parameters. \n",
    "This class essentially plays the role of a dictionary."
   ]
  },
  {
   "cell_type": "code",
   "execution_count": 15,
   "metadata": {
    "execution": {
     "iopub.execute_input": "2020-10-14T00:15:40.588749Z",
     "iopub.status.busy": "2020-10-14T00:15:40.587642Z",
     "iopub.status.idle": "2020-10-14T00:15:40.600721Z",
     "shell.execute_reply": "2020-10-14T00:15:40.601366Z"
    },
    "papermill": {
     "duration": 0.051993,
     "end_time": "2020-10-14T00:15:40.601507",
     "exception": false,
     "start_time": "2020-10-14T00:15:40.549514",
     "status": "completed"
    },
    "tags": []
   },
   "outputs": [],
   "source": [
    "class Config:\n",
    "    pass\n",
    "config = Config()\n",
    "config.lr = 0.001\n",
    "config.num_epochs = 251\n",
    "config.bs = 50"
   ]
  },
  {
   "cell_type": "markdown",
   "metadata": {
    "papermill": {
     "duration": 0.04132,
     "end_time": "2020-10-14T00:15:40.675643",
     "exception": false,
     "start_time": "2020-10-14T00:15:40.634323",
     "status": "completed"
    },
    "tags": []
   },
   "source": [
    "### Initializing data to the variables"
   ]
  },
  {
   "cell_type": "code",
   "execution_count": 16,
   "metadata": {
    "execution": {
     "iopub.execute_input": "2020-10-14T00:15:40.747715Z",
     "iopub.status.busy": "2020-10-14T00:15:40.746986Z",
     "iopub.status.idle": "2020-10-14T00:15:40.759985Z",
     "shell.execute_reply": "2020-10-14T00:15:40.760534Z"
    },
    "papermill": {
     "duration": 0.052901,
     "end_time": "2020-10-14T00:15:40.760687",
     "exception": false,
     "start_time": "2020-10-14T00:15:40.707786",
     "status": "completed"
    },
    "tags": []
   },
   "outputs": [],
   "source": [
    "data = Data(X_train, y_train.reshape(-1,1))\n",
    "sampler = Sampler(data, config.bs, shuffle=True)\n",
    "\n",
    "dl = Dataloader(data, sampler)\n",
    "\n",
    "opt = GD(config.lr)\n",
    "loss = MSE()"
   ]
  },
  {
   "cell_type": "code",
   "execution_count": 17,
   "metadata": {
    "execution": {
     "iopub.execute_input": "2020-10-14T00:15:40.825751Z",
     "iopub.status.busy": "2020-10-14T00:15:40.825087Z",
     "iopub.status.idle": "2020-10-14T00:15:40.836885Z",
     "shell.execute_reply": "2020-10-14T00:15:40.837442Z"
    },
    "papermill": {
     "duration": 0.045262,
     "end_time": "2020-10-14T00:15:40.837594",
     "exception": false,
     "start_time": "2020-10-14T00:15:40.792332",
     "status": "completed"
    },
    "tags": []
   },
   "outputs": [],
   "source": [
    "training_xdata = X_train\n",
    "testing_xdata = X_test\n",
    "training_ydata = y_train.reshape(-1,1)\n",
    "testing_ydata = y_test.reshape(-1,1)"
   ]
  },
  {
   "cell_type": "markdown",
   "metadata": {
    "papermill": {
     "duration": 0.030096,
     "end_time": "2020-10-14T00:15:40.900452",
     "exception": false,
     "start_time": "2020-10-14T00:15:40.870356",
     "status": "completed"
    },
    "tags": []
   },
   "source": [
    "### Running Models with the Training data\n",
    "Details about the network layers:\n",
    "- A first affine layer has 784 inputs and does 100 affine transforms. These are followed by a Relu\n",
    "- A second affine layer has 100 inputs from the 100 activations of the past layer, and does 100 affine transforms. These are followed by a Relu\n",
    "- A third affine layer has 100 activations and does 2 affine transformations to create an embedding for visualization. There is no non-linearity here.\n",
    "- A final \"logistic regression\" which has an affine transform from 2 inputs to 1 output, which is squeezed through a sigmoid.\n",
    "\n",
    "Help taken from Anshuman's Notebook."
   ]
  },
  {
   "cell_type": "code",
   "execution_count": 18,
   "metadata": {
    "execution": {
     "iopub.execute_input": "2020-10-14T00:15:40.976218Z",
     "iopub.status.busy": "2020-10-14T00:15:40.975458Z",
     "iopub.status.idle": "2020-10-14T00:15:40.994446Z",
     "shell.execute_reply": "2020-10-14T00:15:40.995076Z"
    },
    "papermill": {
     "duration": 0.060814,
     "end_time": "2020-10-14T00:15:40.995276",
     "exception": false,
     "start_time": "2020-10-14T00:15:40.934462",
     "status": "completed"
    },
    "tags": []
   },
   "outputs": [],
   "source": [
    "# layers for the Neural Network\n",
    "layers = [Affine(\"first\", 784, 100), Relu(\"first\"), Affine(\"second\", 100, 100), Relu(\"second\"), Affine(\"third\", 100, 2), Affine(\"final\", 2, 1), Sigmoid(\"final\")]\n",
    "model_nn = Model(layers)\n",
    "\n",
    "# layers for the Logistic Regression\n",
    "layers_lr = [Affine(\"logits\", 784, 1), Sigmoid(\"sigmoid\")]\n",
    "model_lr = Model(layers_lr)"
   ]
  },
  {
   "cell_type": "code",
   "execution_count": 19,
   "metadata": {
    "execution": {
     "iopub.execute_input": "2020-10-14T00:15:41.082156Z",
     "iopub.status.busy": "2020-10-14T00:15:41.074314Z",
     "iopub.status.idle": "2020-10-14T00:15:41.084179Z",
     "shell.execute_reply": "2020-10-14T00:15:41.084870Z"
    },
    "papermill": {
     "duration": 0.05497,
     "end_time": "2020-10-14T00:15:41.085031",
     "exception": false,
     "start_time": "2020-10-14T00:15:41.030061",
     "status": "completed"
    },
    "tags": []
   },
   "outputs": [],
   "source": [
    "# suffix _nn stands for Neural Network.\n",
    "learner_nn = Learner(loss, model_nn, opt, config.num_epochs)\n",
    "acc_nn = ClfCallback(learner_nn, config.bs, training_xdata , testing_xdata, training_ydata, testing_ydata)\n",
    "learner_nn.set_callbacks([acc_nn])"
   ]
  },
  {
   "cell_type": "code",
   "execution_count": 20,
   "metadata": {
    "execution": {
     "iopub.execute_input": "2020-10-14T00:15:41.178234Z",
     "iopub.status.busy": "2020-10-14T00:15:41.165042Z",
     "iopub.status.idle": "2020-10-14T00:18:03.930292Z",
     "shell.execute_reply": "2020-10-14T00:18:03.931247Z"
    },
    "papermill": {
     "duration": 142.809613,
     "end_time": "2020-10-14T00:18:03.931515",
     "exception": false,
     "start_time": "2020-10-14T00:15:41.121902",
     "status": "completed"
    },
    "tags": []
   },
   "outputs": [
    {
     "name": "stdout",
     "output_type": "stream",
     "text": [
      "====== Neural Network ======\n"
     ]
    },
    {
     "name": "stdout",
     "output_type": "stream",
     "text": [
      "Epoch 0, Loss 0.2608\n",
      "Training Accuracy: 0.3189, Testing Accuracy: 0.3130\n",
      "\n"
     ]
    },
    {
     "name": "stdout",
     "output_type": "stream",
     "text": [
      "Epoch 10, Loss 0.2215\n",
      "Training Accuracy: 0.8221, Testing Accuracy: 0.8443\n",
      "\n"
     ]
    },
    {
     "name": "stdout",
     "output_type": "stream",
     "text": [
      "Epoch 20, Loss 0.135\n",
      "Training Accuracy: 0.8819, Testing Accuracy: 0.8936\n",
      "\n"
     ]
    },
    {
     "name": "stdout",
     "output_type": "stream",
     "text": [
      "Epoch 30, Loss 0.0782\n",
      "Training Accuracy: 0.9165, Testing Accuracy: 0.9309\n",
      "\n"
     ]
    },
    {
     "name": "stdout",
     "output_type": "stream",
     "text": [
      "Epoch 40, Loss 0.0562\n",
      "Training Accuracy: 0.9397, Testing Accuracy: 0.9496\n",
      "\n"
     ]
    },
    {
     "name": "stdout",
     "output_type": "stream",
     "text": [
      "Epoch 50, Loss 0.0455\n",
      "Training Accuracy: 0.9482, Testing Accuracy: 0.9587\n",
      "\n"
     ]
    },
    {
     "name": "stdout",
     "output_type": "stream",
     "text": [
      "Epoch 60, Loss 0.0398\n",
      "Training Accuracy: 0.9543, Testing Accuracy: 0.9632\n",
      "\n"
     ]
    },
    {
     "name": "stdout",
     "output_type": "stream",
     "text": [
      "Epoch 70, Loss 0.0363\n",
      "Training Accuracy: 0.9574, Testing Accuracy: 0.9662\n",
      "\n"
     ]
    },
    {
     "name": "stdout",
     "output_type": "stream",
     "text": [
      "Epoch 80, Loss 0.0339\n",
      "Training Accuracy: 0.9594, Testing Accuracy: 0.9667\n",
      "\n"
     ]
    },
    {
     "name": "stdout",
     "output_type": "stream",
     "text": [
      "Epoch 90, Loss 0.0321\n",
      "Training Accuracy: 0.9620, Testing Accuracy: 0.9657\n",
      "\n"
     ]
    },
    {
     "name": "stdout",
     "output_type": "stream",
     "text": [
      "Epoch 100, Loss 0.0307\n",
      "Training Accuracy: 0.9631, Testing Accuracy: 0.9667\n",
      "\n"
     ]
    },
    {
     "name": "stdout",
     "output_type": "stream",
     "text": [
      "Epoch 110, Loss 0.0295\n",
      "Training Accuracy: 0.9649, Testing Accuracy: 0.9682\n",
      "\n"
     ]
    },
    {
     "name": "stdout",
     "output_type": "stream",
     "text": [
      "Epoch 120, Loss 0.0285\n",
      "Training Accuracy: 0.9661, Testing Accuracy: 0.9677\n",
      "\n"
     ]
    },
    {
     "name": "stdout",
     "output_type": "stream",
     "text": [
      "Epoch 130, Loss 0.0276\n",
      "Training Accuracy: 0.9670, Testing Accuracy: 0.9677\n",
      "\n"
     ]
    },
    {
     "name": "stdout",
     "output_type": "stream",
     "text": [
      "Epoch 140, Loss 0.0269\n",
      "Training Accuracy: 0.9680, Testing Accuracy: 0.9677\n",
      "\n"
     ]
    },
    {
     "name": "stdout",
     "output_type": "stream",
     "text": [
      "Epoch 150, Loss 0.0262\n",
      "Training Accuracy: 0.9695, Testing Accuracy: 0.9682\n",
      "\n"
     ]
    },
    {
     "name": "stdout",
     "output_type": "stream",
     "text": [
      "Epoch 160, Loss 0.0256\n",
      "Training Accuracy: 0.9709, Testing Accuracy: 0.9688\n",
      "\n"
     ]
    },
    {
     "name": "stdout",
     "output_type": "stream",
     "text": [
      "Epoch 170, Loss 0.025\n",
      "Training Accuracy: 0.9713, Testing Accuracy: 0.9698\n",
      "\n"
     ]
    },
    {
     "name": "stdout",
     "output_type": "stream",
     "text": [
      "Epoch 180, Loss 0.0245\n",
      "Training Accuracy: 0.9719, Testing Accuracy: 0.9693\n",
      "\n"
     ]
    },
    {
     "name": "stdout",
     "output_type": "stream",
     "text": [
      "Epoch 190, Loss 0.024\n",
      "Training Accuracy: 0.9723, Testing Accuracy: 0.9693\n",
      "\n"
     ]
    },
    {
     "name": "stdout",
     "output_type": "stream",
     "text": [
      "Epoch 200, Loss 0.0235\n",
      "Training Accuracy: 0.9727, Testing Accuracy: 0.9688\n",
      "\n"
     ]
    },
    {
     "name": "stdout",
     "output_type": "stream",
     "text": [
      "Epoch 210, Loss 0.0231\n",
      "Training Accuracy: 0.9733, Testing Accuracy: 0.9693\n",
      "\n"
     ]
    },
    {
     "name": "stdout",
     "output_type": "stream",
     "text": [
      "Epoch 220, Loss 0.0226\n",
      "Training Accuracy: 0.9744, Testing Accuracy: 0.9693\n",
      "\n"
     ]
    },
    {
     "name": "stdout",
     "output_type": "stream",
     "text": [
      "Epoch 230, Loss 0.0223\n",
      "Training Accuracy: 0.9748, Testing Accuracy: 0.9693\n",
      "\n"
     ]
    },
    {
     "name": "stdout",
     "output_type": "stream",
     "text": [
      "Epoch 240, Loss 0.0219\n",
      "Training Accuracy: 0.9752, Testing Accuracy: 0.9688\n",
      "\n"
     ]
    },
    {
     "name": "stdout",
     "output_type": "stream",
     "text": [
      "Epoch 250, Loss 0.0215\n",
      "Training Accuracy: 0.9755, Testing Accuracy: 0.9688\n",
      "\n"
     ]
    },
    {
     "data": {
      "text/plain": [
       "0.029392672962412828"
      ]
     },
     "execution_count": 20,
     "metadata": {},
     "output_type": "execute_result"
    }
   ],
   "source": [
    "print(\"====== Neural Network ======\")\n",
    "learner_nn.train_loop(dl)"
   ]
  },
  {
   "cell_type": "markdown",
   "metadata": {
    "papermill": {
     "duration": 0.057446,
     "end_time": "2020-10-14T00:18:04.030407",
     "exception": false,
     "start_time": "2020-10-14T00:18:03.972961",
     "status": "completed"
    },
    "tags": []
   },
   "source": [
    "### Logistic Regression based Implementation."
   ]
  },
  {
   "cell_type": "code",
   "execution_count": 21,
   "metadata": {
    "execution": {
     "iopub.execute_input": "2020-10-14T00:18:04.110906Z",
     "iopub.status.busy": "2020-10-14T00:18:04.110252Z",
     "iopub.status.idle": "2020-10-14T00:18:04.121414Z",
     "shell.execute_reply": "2020-10-14T00:18:04.120994Z"
    },
    "papermill": {
     "duration": 0.052476,
     "end_time": "2020-10-14T00:18:04.121566",
     "exception": false,
     "start_time": "2020-10-14T00:18:04.069090",
     "status": "completed"
    },
    "tags": []
   },
   "outputs": [],
   "source": [
    "learner_lr = Learner(loss, model_lr, opt, config.num_epochs)\n",
    "acc_lr = ClfCallback(learner_lr, config.bs, training_xdata , testing_xdata, training_ydata, testing_ydata)\n",
    "learner_lr.set_callbacks([acc_lr])"
   ]
  },
  {
   "cell_type": "code",
   "execution_count": 22,
   "metadata": {
    "execution": {
     "iopub.execute_input": "2020-10-14T00:18:04.204225Z",
     "iopub.status.busy": "2020-10-14T00:18:04.203556Z",
     "iopub.status.idle": "2020-10-14T00:18:25.429759Z",
     "shell.execute_reply": "2020-10-14T00:18:25.430565Z"
    },
    "papermill": {
     "duration": 21.273281,
     "end_time": "2020-10-14T00:18:25.430712",
     "exception": false,
     "start_time": "2020-10-14T00:18:04.157431",
     "status": "completed"
    },
    "tags": []
   },
   "outputs": [
    {
     "name": "stdout",
     "output_type": "stream",
     "text": [
      "====== Logistic Regression ======\n",
      "Epoch 0, Loss 0.2355\n",
      "Training Accuracy: 0.7212, Testing Accuracy: 0.7223\n",
      "\n"
     ]
    },
    {
     "name": "stdout",
     "output_type": "stream",
     "text": [
      "Epoch 10, Loss 0.1001\n",
      "Training Accuracy: 0.9117, Testing Accuracy: 0.9229\n",
      "\n"
     ]
    },
    {
     "name": "stdout",
     "output_type": "stream",
     "text": [
      "Epoch 20, Loss 0.0775\n",
      "Training Accuracy: 0.9277, Testing Accuracy: 0.9405\n",
      "\n"
     ]
    },
    {
     "name": "stdout",
     "output_type": "stream",
     "text": [
      "Epoch 30, Loss 0.067\n",
      "Training Accuracy: 0.9362, Testing Accuracy: 0.9471\n",
      "\n"
     ]
    },
    {
     "name": "stdout",
     "output_type": "stream",
     "text": [
      "Epoch 40, Loss 0.0606\n",
      "Training Accuracy: 0.9419, Testing Accuracy: 0.9546\n",
      "\n"
     ]
    },
    {
     "name": "stdout",
     "output_type": "stream",
     "text": [
      "Epoch 50, Loss 0.0562\n",
      "Training Accuracy: 0.9453, Testing Accuracy: 0.9551\n",
      "\n"
     ]
    },
    {
     "name": "stdout",
     "output_type": "stream",
     "text": [
      "Epoch 60, Loss 0.053\n",
      "Training Accuracy: 0.9469, Testing Accuracy: 0.9582\n",
      "\n"
     ]
    },
    {
     "name": "stdout",
     "output_type": "stream",
     "text": [
      "Epoch 70, Loss 0.0505\n",
      "Training Accuracy: 0.9491, Testing Accuracy: 0.9607\n",
      "\n"
     ]
    },
    {
     "name": "stdout",
     "output_type": "stream",
     "text": [
      "Epoch 80, Loss 0.0486\n",
      "Training Accuracy: 0.9511, Testing Accuracy: 0.9612\n",
      "\n"
     ]
    },
    {
     "name": "stdout",
     "output_type": "stream",
     "text": [
      "Epoch 90, Loss 0.0469\n",
      "Training Accuracy: 0.9517, Testing Accuracy: 0.9612\n",
      "\n"
     ]
    },
    {
     "name": "stdout",
     "output_type": "stream",
     "text": [
      "Epoch 100, Loss 0.0456\n",
      "Training Accuracy: 0.9537, Testing Accuracy: 0.9617\n",
      "\n"
     ]
    },
    {
     "name": "stdout",
     "output_type": "stream",
     "text": [
      "Epoch 110, Loss 0.0444\n",
      "Training Accuracy: 0.9546, Testing Accuracy: 0.9617\n",
      "\n"
     ]
    },
    {
     "name": "stdout",
     "output_type": "stream",
     "text": [
      "Epoch 120, Loss 0.0434\n",
      "Training Accuracy: 0.9551, Testing Accuracy: 0.9627\n",
      "\n"
     ]
    },
    {
     "name": "stdout",
     "output_type": "stream",
     "text": [
      "Epoch 130, Loss 0.0425\n",
      "Training Accuracy: 0.9561, Testing Accuracy: 0.9637\n",
      "\n"
     ]
    },
    {
     "name": "stdout",
     "output_type": "stream",
     "text": [
      "Epoch 140, Loss 0.0417\n",
      "Training Accuracy: 0.9569, Testing Accuracy: 0.9652\n",
      "\n"
     ]
    },
    {
     "name": "stdout",
     "output_type": "stream",
     "text": [
      "Epoch 150, Loss 0.0409\n",
      "Training Accuracy: 0.9572, Testing Accuracy: 0.9662\n",
      "\n"
     ]
    },
    {
     "name": "stdout",
     "output_type": "stream",
     "text": [
      "Epoch 160, Loss 0.0403\n",
      "Training Accuracy: 0.9577, Testing Accuracy: 0.9662\n",
      "\n"
     ]
    },
    {
     "name": "stdout",
     "output_type": "stream",
     "text": [
      "Epoch 170, Loss 0.0397\n",
      "Training Accuracy: 0.9586, Testing Accuracy: 0.9662\n",
      "\n"
     ]
    },
    {
     "name": "stdout",
     "output_type": "stream",
     "text": [
      "Epoch 180, Loss 0.0392\n",
      "Training Accuracy: 0.9591, Testing Accuracy: 0.9667\n",
      "\n"
     ]
    },
    {
     "name": "stdout",
     "output_type": "stream",
     "text": [
      "Epoch 190, Loss 0.0387\n",
      "Training Accuracy: 0.9594, Testing Accuracy: 0.9667\n",
      "\n"
     ]
    },
    {
     "name": "stdout",
     "output_type": "stream",
     "text": [
      "Epoch 200, Loss 0.0382\n",
      "Training Accuracy: 0.9599, Testing Accuracy: 0.9672\n",
      "\n"
     ]
    },
    {
     "name": "stdout",
     "output_type": "stream",
     "text": [
      "Epoch 210, Loss 0.0378\n",
      "Training Accuracy: 0.9604, Testing Accuracy: 0.9672\n",
      "\n"
     ]
    },
    {
     "name": "stdout",
     "output_type": "stream",
     "text": [
      "Epoch 220, Loss 0.0374\n",
      "Training Accuracy: 0.9608, Testing Accuracy: 0.9672\n",
      "\n"
     ]
    },
    {
     "name": "stdout",
     "output_type": "stream",
     "text": [
      "Epoch 230, Loss 0.037\n",
      "Training Accuracy: 0.9608, Testing Accuracy: 0.9672\n",
      "\n"
     ]
    },
    {
     "name": "stdout",
     "output_type": "stream",
     "text": [
      "Epoch 240, Loss 0.0367\n",
      "Training Accuracy: 0.9611, Testing Accuracy: 0.9667\n",
      "\n"
     ]
    },
    {
     "name": "stdout",
     "output_type": "stream",
     "text": [
      "Epoch 250, Loss 0.0363\n",
      "Training Accuracy: 0.9611, Testing Accuracy: 0.9672\n",
      "\n"
     ]
    },
    {
     "data": {
      "text/plain": [
       "0.038991153415658036"
      ]
     },
     "execution_count": 22,
     "metadata": {},
     "output_type": "execute_result"
    }
   ],
   "source": [
    "print(\"====== Logistic Regression ======\")\n",
    "learner_lr.train_loop(dl)"
   ]
  },
  {
   "cell_type": "markdown",
   "metadata": {
    "papermill": {
     "duration": 0.047268,
     "end_time": "2020-10-14T00:18:25.525530",
     "exception": false,
     "start_time": "2020-10-14T00:18:25.478262",
     "status": "completed"
    },
    "tags": []
   },
   "source": [
    "### Comparing results of NN and LR"
   ]
  },
  {
   "cell_type": "code",
   "execution_count": 23,
   "metadata": {
    "execution": {
     "iopub.execute_input": "2020-10-14T00:18:25.626921Z",
     "iopub.status.busy": "2020-10-14T00:18:25.626248Z",
     "iopub.status.idle": "2020-10-14T00:18:25.901253Z",
     "shell.execute_reply": "2020-10-14T00:18:25.900781Z"
    },
    "papermill": {
     "duration": 0.328234,
     "end_time": "2020-10-14T00:18:25.901389",
     "exception": false,
     "start_time": "2020-10-14T00:18:25.573155",
     "status": "completed"
    },
    "tags": []
   },
   "outputs": [
    {
     "data": {
      "text/plain": [
       "<matplotlib.legend.Legend at 0x7fef65026128>"
      ]
     },
     "execution_count": 23,
     "metadata": {},
     "output_type": "execute_result"
    },
    {
     "data": {
      "image/png": "[encoded data removed]",
      "text/plain": [
       "<Figure size 1080x720 with 1 Axes>"
      ]
     },
     "metadata": {
      "needs_background": "light"
     },
     "output_type": "display_data"
    }
   ],
   "source": [
    "plt.figure(figsize=(15,10))\n",
    "\n",
    "# Neural Network plots\n",
    "plt.plot(acc_nn.accuracies, 'r-', label = \"Training Accuracies - NN\")\n",
    "plt.plot(acc_nn.test_accuracies, 'g-', label = \"Testing Accuracies - NN\")\n",
    "\n",
    "# Logistic Regression plots\n",
    "plt.plot(acc_lr.accuracies, 'k-', label = \"Training Accuracies - LR\")\n",
    "plt.plot(acc_lr.test_accuracies, 'b-', label = \"Testing Accuracies - LR\")\n",
    "\n",
    "plt.ylim(0.8, 1)\n",
    "\n",
    "plt.legend()\n",
    "\n"
   ]
  },
  {
   "cell_type": "markdown",
   "metadata": {
    "papermill": {
     "duration": 0.046045,
     "end_time": "2020-10-14T00:18:25.997758",
     "exception": false,
     "start_time": "2020-10-14T00:18:25.951713",
     "status": "completed"
    },
    "tags": []
   },
   "source": [
    "### From the plot, we can observe the following:\n",
    "- Neural Network achieves higher accuracy than the Logistic Regression model.\n",
    "- This apparently, is because of overfitting, i.e. NN captures more noise than data.\n",
    "- Testing accuracy of NN drops below the Training accuracy at higher epochs. This explains the over-fitting on training data.\n",
    "- Logistic Regression gives a reliable accuracy, without the above mentioned problem.\n"
   ]
  },
  {
   "cell_type": "markdown",
   "metadata": {
    "papermill": {
     "duration": 0.045438,
     "end_time": "2020-10-14T00:18:26.091394",
     "exception": false,
     "start_time": "2020-10-14T00:18:26.045956",
     "status": "completed"
    },
    "tags": []
   },
   "source": [
    "### Moving till the last but one layer (excluding it).\n",
    "#### Plotting the outputs of this layer of the NN."
   ]
  },
  {
   "cell_type": "code",
   "execution_count": 24,
   "metadata": {
    "execution": {
     "iopub.execute_input": "2020-10-14T00:18:26.198555Z",
     "iopub.status.busy": "2020-10-14T00:18:26.188275Z",
     "iopub.status.idle": "2020-10-14T00:18:26.204471Z",
     "shell.execute_reply": "2020-10-14T00:18:26.204992Z"
    },
    "papermill": {
     "duration": 0.069987,
     "end_time": "2020-10-14T00:18:26.205127",
     "exception": false,
     "start_time": "2020-10-14T00:18:26.135140",
     "status": "completed"
    },
    "tags": []
   },
   "outputs": [],
   "source": [
    "model_new = Model(layers[:-2])"
   ]
  },
  {
   "cell_type": "code",
   "execution_count": 25,
   "metadata": {
    "execution": {
     "iopub.execute_input": "2020-10-14T00:18:26.307506Z",
     "iopub.status.busy": "2020-10-14T00:18:26.300687Z",
     "iopub.status.idle": "2020-10-14T00:18:26.327024Z",
     "shell.execute_reply": "2020-10-14T00:18:26.327718Z"
    },
    "papermill": {
     "duration": 0.07676,
     "end_time": "2020-10-14T00:18:26.327847",
     "exception": false,
     "start_time": "2020-10-14T00:18:26.251087",
     "status": "completed"
    },
    "tags": []
   },
   "outputs": [],
   "source": [
    "plot_testing = model_new(testing_xdata)"
   ]
  },
  {
   "cell_type": "code",
   "execution_count": 26,
   "metadata": {
    "execution": {
     "iopub.execute_input": "2020-10-14T00:18:26.432020Z",
     "iopub.status.busy": "2020-10-14T00:18:26.431379Z",
     "iopub.status.idle": "2020-10-14T00:18:26.671416Z",
     "shell.execute_reply": "2020-10-14T00:18:26.672047Z"
    },
    "papermill": {
     "duration": 0.299071,
     "end_time": "2020-10-14T00:18:26.672338",
     "exception": false,
     "start_time": "2020-10-14T00:18:26.373267",
     "status": "completed"
    },
    "tags": []
   },
   "outputs": [
    {
     "data": {
      "text/plain": [
       "Text(0.5, 1.0, 'Outputs')"
      ]
     },
     "execution_count": 26,
     "metadata": {},
     "output_type": "execute_result"
    },
    {
     "data": {
      "image/png": "[encoded data removed]",
      "text/plain": [
       "<Figure size 576x504 with 1 Axes>"
      ]
     },
     "metadata": {
      "needs_background": "light"
     },
     "output_type": "display_data"
    }
   ],
   "source": [
    "plt.figure(figsize=(8,7))\n",
    "plt.scatter(plot_testing[:,0], plot_testing[:,1], alpha = 0.1, c = y_test.ravel());\n",
    "plt.title('Outputs')"
   ]
  },
  {
   "cell_type": "markdown",
   "metadata": {
    "papermill": {
     "duration": 0.046021,
     "end_time": "2020-10-14T00:18:26.771798",
     "exception": false,
     "start_time": "2020-10-14T00:18:26.725777",
     "status": "completed"
    },
    "tags": []
   },
   "source": [
    "### Plotting probability contours"
   ]
  },
  {
   "cell_type": "code",
   "execution_count": 27,
   "metadata": {
    "execution": {
     "iopub.execute_input": "2020-10-14T00:18:26.876007Z",
     "iopub.status.busy": "2020-10-14T00:18:26.875425Z",
     "iopub.status.idle": "2020-10-14T00:18:26.888794Z",
     "shell.execute_reply": "2020-10-14T00:18:26.889255Z"
    },
    "papermill": {
     "duration": 0.068047,
     "end_time": "2020-10-14T00:18:26.889395",
     "exception": false,
     "start_time": "2020-10-14T00:18:26.821348",
     "status": "completed"
    },
    "tags": []
   },
   "outputs": [],
   "source": [
    "model_prob = Model(layers[-2:]) "
   ]
  },
  {
   "cell_type": "code",
   "execution_count": 28,
   "metadata": {
    "execution": {
     "iopub.execute_input": "2020-10-14T00:18:27.001696Z",
     "iopub.status.busy": "2020-10-14T00:18:27.001082Z",
     "iopub.status.idle": "2020-10-14T00:18:27.012387Z",
     "shell.execute_reply": "2020-10-14T00:18:27.012855Z"
    },
    "papermill": {
     "duration": 0.072637,
     "end_time": "2020-10-14T00:18:27.013000",
     "exception": false,
     "start_time": "2020-10-14T00:18:26.940363",
     "status": "completed"
    },
    "tags": []
   },
   "outputs": [],
   "source": [
    "# Adjust the x and y ranges according to the above generated plot.\n",
    "x_range = np.linspace(-4, 1, 100) \n",
    "y_range = np.linspace(-6, 6, 100) \n",
    "x_grid, y_grid = np.meshgrid(x_range, y_range) # x_grid and y_grig are of size 100 X 100\n",
    "\n",
    "# converting x_grid and y_grid to continuous arrays\n",
    "x_grid_flat = np.ravel(x_grid)\n",
    "y_grid_flat = np.ravel(y_grid)\n",
    "\n",
    "# The last layer of the current model takes two columns as input. Hence transpose of np.vstack() is required.\n",
    "X = np.vstack((x_grid_flat, y_grid_flat)).T\n",
    "\n",
    "# x_grid and y_grid are of size 100 x 100\n",
    "probability_contour = model_prob(X).reshape(100,100) "
   ]
  },
  {
   "cell_type": "code",
   "execution_count": 29,
   "metadata": {
    "execution": {
     "iopub.execute_input": "2020-10-14T00:18:27.123613Z",
     "iopub.status.busy": "2020-10-14T00:18:27.123019Z",
     "iopub.status.idle": "2020-10-14T00:18:27.412066Z",
     "shell.execute_reply": "2020-10-14T00:18:27.411546Z"
    },
    "papermill": {
     "duration": 0.348258,
     "end_time": "2020-10-14T00:18:27.412215",
     "exception": false,
     "start_time": "2020-10-14T00:18:27.063957",
     "status": "completed"
    },
    "tags": []
   },
   "outputs": [
    {
     "data": {
      "image/png": "[encoded data removed]",
      "text/plain": [
       "<Figure size 720x648 with 1 Axes>"
      ]
     },
     "metadata": {
      "needs_background": "light"
     },
     "output_type": "display_data"
    }
   ],
   "source": [
    "plt.figure(figsize=(10,9))\n",
    "plt.scatter(plot_testing[:,0], plot_testing[:,1], alpha = 0.1, c = y_test.ravel())\n",
    "contours = plt.contour(x_grid,y_grid,probability_contour)\n",
    "plt.title('Probability Contours')\n",
    "plt.clabel(contours, inline = True );"
   ]
  }
 ],
 "metadata": {
  "kernelspec": {
   "display_name": "Python 3",
   "language": "python",
   "name": "python3"
  },
  "language_info": {
   "codemirror_mode": {
    "name": "ipython",
    "version": 3
   },
   "file_extension": ".py",
   "mimetype": "text/x-python",
   "name": "python",
   "nbconvert_exporter": "python",
   "pygments_lexer": "ipython3",
   "version": "3.6.12"
  },
  "papermill": {
   "duration": 173.626367,
   "end_time": "2020-10-14T00:18:27.804324",
   "environment_variables": {},
   "exception": null,
   "input_path": "2020-08-11-NeuralNetwork.ipynb",
   "output_path": "2020-08-11-NeuralNetwork.ipynb",
   "parameters": {},
   "start_time": "2020-10-14T00:15:34.177957",
   "version": "2.1.2"
  }
 },
 "nbformat": 4,
 "nbformat_minor": 4
}