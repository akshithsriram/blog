{
 "cells": [
  {
   "cell_type": "markdown",
   "metadata": {
    "papermill": {
     "duration": 0.031713,
     "end_time": "2020-09-19T00:06:13.637384",
     "exception": false,
     "start_time": "2020-09-19T00:06:13.605671",
     "status": "completed"
    },
    "tags": []
   },
   "source": [
    "# \"A Basic Neural Network: Differentiate Hand-Written Digits\"\n",
    "\n",
    "- badges: true\n",
    "- author: Akshith Sriram"
   ]
  },
  {
   "cell_type": "markdown",
   "metadata": {
    "papermill": {
     "duration": 0.024946,
     "end_time": "2020-09-19T00:06:13.687886",
     "exception": false,
     "start_time": "2020-09-19T00:06:13.662940",
     "status": "completed"
    },
    "tags": []
   },
   "source": [
    "### Key Objectives:\n",
    "- Building a neural network that differentiates two hand-written digits 3 and 8.\n",
    "- Comparing the results of this Neural Network (NN) to that of a Logistic Regression (LR) model.\n",
    "\n",
    "### Requirements:\n",
    "- 'Kudzu' : A neural network library that was designed during our course by [Univ.AI](www.univ.ai). \n",
    "- MNIST Database\n",
    "\n",
    "If MNIST is not installed, use the command `!pip install mnist` given below.\n",
    "It can be run both from the command line and Jupyter Notebook."
   ]
  },
  {
   "cell_type": "code",
   "execution_count": 1,
   "metadata": {
    "execution": {
     "iopub.execute_input": "2020-09-19T00:06:13.745720Z",
     "iopub.status.busy": "2020-09-19T00:06:13.745143Z",
     "iopub.status.idle": "2020-09-19T00:06:15.134070Z",
     "shell.execute_reply": "2020-09-19T00:06:15.132621Z"
    },
    "papermill": {
     "duration": 1.42143,
     "end_time": "2020-09-19T00:06:15.134315",
     "exception": false,
     "start_time": "2020-09-19T00:06:13.712885",
     "status": "completed"
    },
    "tags": []
   },
   "outputs": [
    {
     "name": "stdout",
     "output_type": "stream",
     "text": [
      "Collecting mnist\r\n"
     ]
    },
    {
     "name": "stdout",
     "output_type": "stream",
     "text": [
      "  Downloading mnist-0.2.2-py2.py3-none-any.whl (3.5 kB)\r\n",
      "Requirement already satisfied: numpy in /opt/hostedtoolcache/Python/3.6.12/x64/lib/python3.6/site-packages (from mnist) (1.19.2)\r\n"
     ]
    },
    {
     "name": "stdout",
     "output_type": "stream",
     "text": [
      "Installing collected packages: mnist\r\n",
      "Successfully installed mnist-0.2.2\r\n"
     ]
    }
   ],
   "source": [
    "!pip install mnist "
   ]
  },
  {
   "cell_type": "markdown",
   "metadata": {
    "papermill": {
     "duration": 0.024826,
     "end_time": "2020-09-19T00:06:15.186284",
     "exception": false,
     "start_time": "2020-09-19T00:06:15.161458",
     "status": "completed"
    },
    "tags": []
   },
   "source": [
    "#### Importing necessary libraries"
   ]
  },
  {
   "cell_type": "code",
   "execution_count": 2,
   "metadata": {
    "execution": {
     "iopub.execute_input": "2020-09-19T00:06:15.242396Z",
     "iopub.status.busy": "2020-09-19T00:06:15.241836Z",
     "iopub.status.idle": "2020-09-19T00:06:15.788204Z",
     "shell.execute_reply": "2020-09-19T00:06:15.787644Z"
    },
    "papermill": {
     "duration": 0.577725,
     "end_time": "2020-09-19T00:06:15.788342",
     "exception": false,
     "start_time": "2020-09-19T00:06:15.210617",
     "status": "completed"
    },
    "tags": []
   },
   "outputs": [],
   "source": [
    "%load_ext autoreload\n",
    "%autoreload 2\n",
    "\n",
    "%matplotlib inline\n",
    "import matplotlib.pyplot as plt\n",
    "\n",
    "import numpy as np\n",
    "import pandas as pd"
   ]
  },
  {
   "cell_type": "markdown",
   "metadata": {
    "papermill": {
     "duration": 0.024783,
     "end_time": "2020-09-19T00:06:15.838803",
     "exception": false,
     "start_time": "2020-09-19T00:06:15.814020",
     "status": "completed"
    },
    "tags": []
   },
   "source": [
    "### Preparing the Data"
   ]
  },
  {
   "cell_type": "code",
   "execution_count": 3,
   "metadata": {
    "execution": {
     "iopub.execute_input": "2020-09-19T00:06:15.893910Z",
     "iopub.status.busy": "2020-09-19T00:06:15.893287Z",
     "iopub.status.idle": "2020-09-19T00:06:15.906352Z",
     "shell.execute_reply": "2020-09-19T00:06:15.906833Z"
    },
    "papermill": {
     "duration": 0.042449,
     "end_time": "2020-09-19T00:06:15.906986",
     "exception": false,
     "start_time": "2020-09-19T00:06:15.864537",
     "status": "completed"
    },
    "tags": []
   },
   "outputs": [],
   "source": [
    "import mnist"
   ]
  },
  {
   "cell_type": "code",
   "execution_count": 4,
   "metadata": {
    "execution": {
     "iopub.execute_input": "2020-09-19T00:06:15.961416Z",
     "iopub.status.busy": "2020-09-19T00:06:15.960834Z",
     "iopub.status.idle": "2020-09-19T00:06:17.650660Z",
     "shell.execute_reply": "2020-09-19T00:06:17.649877Z"
    },
    "papermill": {
     "duration": 1.718446,
     "end_time": "2020-09-19T00:06:17.650790",
     "exception": false,
     "start_time": "2020-09-19T00:06:15.932344",
     "status": "completed"
    },
    "tags": []
   },
   "outputs": [],
   "source": [
    "train_images = mnist.train_images()\n",
    "train_labels = mnist.train_labels()"
   ]
  },
  {
   "cell_type": "code",
   "execution_count": 5,
   "metadata": {
    "execution": {
     "iopub.execute_input": "2020-09-19T00:06:17.711268Z",
     "iopub.status.busy": "2020-09-19T00:06:17.710270Z",
     "iopub.status.idle": "2020-09-19T00:06:17.723650Z",
     "shell.execute_reply": "2020-09-19T00:06:17.723185Z"
    },
    "papermill": {
     "duration": 0.047529,
     "end_time": "2020-09-19T00:06:17.723768",
     "exception": false,
     "start_time": "2020-09-19T00:06:17.676239",
     "status": "completed"
    },
    "tags": []
   },
   "outputs": [
    {
     "data": {
      "text/plain": [
       "((60000, 28, 28), (60000,))"
      ]
     },
     "execution_count": 5,
     "metadata": {},
     "output_type": "execute_result"
    }
   ],
   "source": [
    "train_images.shape, train_labels.shape"
   ]
  },
  {
   "cell_type": "code",
   "execution_count": 6,
   "metadata": {
    "execution": {
     "iopub.execute_input": "2020-09-19T00:06:17.788110Z",
     "iopub.status.busy": "2020-09-19T00:06:17.781292Z",
     "iopub.status.idle": "2020-09-19T00:06:18.270110Z",
     "shell.execute_reply": "2020-09-19T00:06:18.269410Z"
    },
    "papermill": {
     "duration": 0.521367,
     "end_time": "2020-09-19T00:06:18.270248",
     "exception": false,
     "start_time": "2020-09-19T00:06:17.748881",
     "status": "completed"
    },
    "tags": []
   },
   "outputs": [],
   "source": [
    "test_images = mnist.test_images()\n",
    "test_labels = mnist.test_labels()"
   ]
  },
  {
   "cell_type": "code",
   "execution_count": 7,
   "metadata": {
    "execution": {
     "iopub.execute_input": "2020-09-19T00:06:18.330332Z",
     "iopub.status.busy": "2020-09-19T00:06:18.323648Z",
     "iopub.status.idle": "2020-09-19T00:06:18.339489Z",
     "shell.execute_reply": "2020-09-19T00:06:18.339031Z"
    },
    "papermill": {
     "duration": 0.044434,
     "end_time": "2020-09-19T00:06:18.339602",
     "exception": false,
     "start_time": "2020-09-19T00:06:18.295168",
     "status": "completed"
    },
    "tags": []
   },
   "outputs": [
    {
     "data": {
      "text/plain": [
       "((10000, 28, 28), (10000,))"
      ]
     },
     "execution_count": 7,
     "metadata": {},
     "output_type": "execute_result"
    }
   ],
   "source": [
    "test_images.shape, test_labels.shape"
   ]
  },
  {
   "cell_type": "code",
   "execution_count": 8,
   "metadata": {
    "execution": {
     "iopub.execute_input": "2020-09-19T00:06:18.405292Z",
     "iopub.status.busy": "2020-09-19T00:06:18.404708Z",
     "iopub.status.idle": "2020-09-19T00:06:18.540553Z",
     "shell.execute_reply": "2020-09-19T00:06:18.541000Z"
    },
    "papermill": {
     "duration": 0.17647,
     "end_time": "2020-09-19T00:06:18.541149",
     "exception": false,
     "start_time": "2020-09-19T00:06:18.364679",
     "status": "completed"
    },
    "tags": []
   },
   "outputs": [
    {
     "name": "stdout",
     "output_type": "stream",
     "text": [
      "2\n"
     ]
    },
    {
     "data": {
      "text/plain": [
       "<matplotlib.image.AxesImage at 0x7f6ca44ca748>"
      ]
     },
     "execution_count": 8,
     "metadata": {},
     "output_type": "execute_result"
    },
    {
     "data": {
      "image/png": "[encoded data removed]",
      "text/plain": [
       "<Figure size 432x288 with 1 Axes>"
      ]
     },
     "metadata": {
      "needs_background": "light"
     },
     "output_type": "display_data"
    }
   ],
   "source": [
    "image_index = 7776 # You may select anything up to 60,000\n",
    "print(train_labels[image_index]) \n",
    "plt.imshow(train_images[image_index], cmap='Greys')"
   ]
  },
  {
   "cell_type": "markdown",
   "metadata": {
    "papermill": {
     "duration": 0.026339,
     "end_time": "2020-09-19T00:06:18.593802",
     "exception": false,
     "start_time": "2020-09-19T00:06:18.567463",
     "status": "completed"
    },
    "tags": []
   },
   "source": [
    "## Filter data to get 3 and 8 out"
   ]
  },
  {
   "cell_type": "code",
   "execution_count": 9,
   "metadata": {
    "execution": {
     "iopub.execute_input": "2020-09-19T00:06:18.656149Z",
     "iopub.status.busy": "2020-09-19T00:06:18.655564Z",
     "iopub.status.idle": "2020-09-19T00:06:18.672331Z",
     "shell.execute_reply": "2020-09-19T00:06:18.671836Z"
    },
    "papermill": {
     "duration": 0.05295,
     "end_time": "2020-09-19T00:06:18.672453",
     "exception": false,
     "start_time": "2020-09-19T00:06:18.619503",
     "status": "completed"
    },
    "tags": []
   },
   "outputs": [],
   "source": [
    "train_filter = np.where((train_labels == 3 ) | (train_labels == 8))\n",
    "test_filter = np.where((test_labels == 3) | (test_labels == 8))\n",
    "X_train, y_train = train_images[train_filter], train_labels[train_filter]\n",
    "X_test, y_test = test_images[test_filter], test_labels[test_filter]"
   ]
  },
  {
   "cell_type": "markdown",
   "metadata": {
    "papermill": {
     "duration": 0.026751,
     "end_time": "2020-09-19T00:06:18.726256",
     "exception": false,
     "start_time": "2020-09-19T00:06:18.699505",
     "status": "completed"
    },
    "tags": []
   },
   "source": [
    "We normalize the pixel values in the 0 to 1 range"
   ]
  },
  {
   "cell_type": "code",
   "execution_count": 10,
   "metadata": {
    "execution": {
     "iopub.execute_input": "2020-09-19T00:06:18.784299Z",
     "iopub.status.busy": "2020-09-19T00:06:18.783715Z",
     "iopub.status.idle": "2020-09-19T00:06:18.837403Z",
     "shell.execute_reply": "2020-09-19T00:06:18.836855Z"
    },
    "papermill": {
     "duration": 0.085039,
     "end_time": "2020-09-19T00:06:18.837564",
     "exception": false,
     "start_time": "2020-09-19T00:06:18.752525",
     "status": "completed"
    },
    "tags": []
   },
   "outputs": [],
   "source": [
    "X_train = X_train/255.\n",
    "X_test = X_test/255."
   ]
  },
  {
   "cell_type": "markdown",
   "metadata": {
    "papermill": {
     "duration": 0.027421,
     "end_time": "2020-09-19T00:06:18.893168",
     "exception": false,
     "start_time": "2020-09-19T00:06:18.865747",
     "status": "completed"
    },
    "tags": []
   },
   "source": [
    "Setup the labels as 1 (when the digit is 3) and 0 (when the digit is 8)"
   ]
  },
  {
   "cell_type": "code",
   "execution_count": 11,
   "metadata": {
    "execution": {
     "iopub.execute_input": "2020-09-19T00:06:18.952696Z",
     "iopub.status.busy": "2020-09-19T00:06:18.952117Z",
     "iopub.status.idle": "2020-09-19T00:06:18.967200Z",
     "shell.execute_reply": "2020-09-19T00:06:18.966680Z"
    },
    "papermill": {
     "duration": 0.046691,
     "end_time": "2020-09-19T00:06:18.967325",
     "exception": false,
     "start_time": "2020-09-19T00:06:18.920634",
     "status": "completed"
    },
    "tags": []
   },
   "outputs": [],
   "source": [
    "y_train = 1*(y_train==3)\n",
    "y_test = 1*(y_test==3)"
   ]
  },
  {
   "cell_type": "code",
   "execution_count": 12,
   "metadata": {
    "execution": {
     "iopub.execute_input": "2020-09-19T00:06:19.032046Z",
     "iopub.status.busy": "2020-09-19T00:06:19.027640Z",
     "iopub.status.idle": "2020-09-19T00:06:19.042234Z",
     "shell.execute_reply": "2020-09-19T00:06:19.041764Z"
    },
    "papermill": {
     "duration": 0.048247,
     "end_time": "2020-09-19T00:06:19.042359",
     "exception": false,
     "start_time": "2020-09-19T00:06:18.994112",
     "status": "completed"
    },
    "tags": []
   },
   "outputs": [
    {
     "data": {
      "text/plain": [
       "((11982, 28, 28), (1984, 28, 28))"
      ]
     },
     "execution_count": 12,
     "metadata": {},
     "output_type": "execute_result"
    }
   ],
   "source": [
    "X_train.shape, X_test.shape"
   ]
  },
  {
   "cell_type": "markdown",
   "metadata": {
    "papermill": {
     "duration": 0.406719,
     "end_time": "2020-09-19T00:06:19.671242",
     "exception": false,
     "start_time": "2020-09-19T00:06:19.264523",
     "status": "completed"
    },
    "tags": []
   },
   "source": [
    "### Reshape the input data to create a linear array"
   ]
  },
  {
   "cell_type": "code",
   "execution_count": 13,
   "metadata": {
    "execution": {
     "iopub.execute_input": "2020-09-19T00:06:19.938918Z",
     "iopub.status.busy": "2020-09-19T00:06:19.937871Z",
     "iopub.status.idle": "2020-09-19T00:06:19.951386Z",
     "shell.execute_reply": "2020-09-19T00:06:19.951829Z"
    },
    "papermill": {
     "duration": 0.122624,
     "end_time": "2020-09-19T00:06:19.951981",
     "exception": false,
     "start_time": "2020-09-19T00:06:19.829357",
     "status": "completed"
    },
    "tags": []
   },
   "outputs": [
    {
     "data": {
      "text/plain": [
       "((11982, 784), (1984, 784))"
      ]
     },
     "execution_count": 13,
     "metadata": {},
     "output_type": "execute_result"
    }
   ],
   "source": [
    "X_train = X_train.reshape(X_train.shape[0], -1)\n",
    "X_test = X_test.reshape(X_test.shape[0], -1)\n",
    "X_train.shape, X_test.shape"
   ]
  },
  {
   "cell_type": "markdown",
   "metadata": {
    "papermill": {
     "duration": 0.06375,
     "end_time": "2020-09-19T00:06:20.078596",
     "exception": false,
     "start_time": "2020-09-19T00:06:20.014846",
     "status": "completed"
    },
    "tags": []
   },
   "source": [
    "### Importing appropriate functions from 'Kudzu'"
   ]
  },
  {
   "cell_type": "code",
   "execution_count": 14,
   "metadata": {
    "execution": {
     "iopub.execute_input": "2020-09-19T00:06:20.146181Z",
     "iopub.status.busy": "2020-09-19T00:06:20.145632Z",
     "iopub.status.idle": "2020-09-19T00:06:20.162175Z",
     "shell.execute_reply": "2020-09-19T00:06:20.161696Z"
    },
    "papermill": {
     "duration": 0.054498,
     "end_time": "2020-09-19T00:06:20.162303",
     "exception": false,
     "start_time": "2020-09-19T00:06:20.107805",
     "status": "completed"
    },
    "tags": []
   },
   "outputs": [],
   "source": [
    "from kudzu.layer import Sigmoid\n",
    "from kudzu.layer import Relu\n",
    "from kudzu.layer import Affine, Sigmoid\n",
    "\n",
    "from kudzu.model import Model\n",
    "from kudzu.train import Learner\n",
    "from kudzu.optim import GD\n",
    "from kudzu.data import Data, Dataloader, Sampler\n",
    "\n",
    "from kudzu.callbacks import AccCallback\n",
    "from kudzu.callbacks import ClfCallback\n",
    "\n",
    "from kudzu.loss import MSE"
   ]
  },
  {
   "cell_type": "markdown",
   "metadata": {
    "papermill": {
     "duration": 0.026848,
     "end_time": "2020-09-19T00:06:20.216281",
     "exception": false,
     "start_time": "2020-09-19T00:06:20.189433",
     "status": "completed"
    },
    "tags": []
   },
   "source": [
    "### Let us create a `Config` class, to store important parameters. \n",
    "This class essentially plays the role of a dictionary."
   ]
  },
  {
   "cell_type": "code",
   "execution_count": 15,
   "metadata": {
    "execution": {
     "iopub.execute_input": "2020-09-19T00:06:20.278650Z",
     "iopub.status.busy": "2020-09-19T00:06:20.278078Z",
     "iopub.status.idle": "2020-09-19T00:06:20.288541Z",
     "shell.execute_reply": "2020-09-19T00:06:20.288043Z"
    },
    "papermill": {
     "duration": 0.045372,
     "end_time": "2020-09-19T00:06:20.288663",
     "exception": false,
     "start_time": "2020-09-19T00:06:20.243291",
     "status": "completed"
    },
    "tags": []
   },
   "outputs": [],
   "source": [
    "class Config:\n",
    "    pass\n",
    "config = Config()\n",
    "config.lr = 0.001\n",
    "config.num_epochs = 251\n",
    "config.bs = 50"
   ]
  },
  {
   "cell_type": "markdown",
   "metadata": {
    "papermill": {
     "duration": 0.026303,
     "end_time": "2020-09-19T00:06:20.341948",
     "exception": false,
     "start_time": "2020-09-19T00:06:20.315645",
     "status": "completed"
    },
    "tags": []
   },
   "source": [
    "### Initializing data to the variables"
   ]
  },
  {
   "cell_type": "code",
   "execution_count": 16,
   "metadata": {
    "execution": {
     "iopub.execute_input": "2020-09-19T00:06:20.402761Z",
     "iopub.status.busy": "2020-09-19T00:06:20.402082Z",
     "iopub.status.idle": "2020-09-19T00:06:20.416351Z",
     "shell.execute_reply": "2020-09-19T00:06:20.415887Z"
    },
    "papermill": {
     "duration": 0.046833,
     "end_time": "2020-09-19T00:06:20.416473",
     "exception": false,
     "start_time": "2020-09-19T00:06:20.369640",
     "status": "completed"
    },
    "tags": []
   },
   "outputs": [],
   "source": [
    "data = Data(X_train, y_train.reshape(-1,1))\n",
    "sampler = Sampler(data, config.bs, shuffle=True)\n",
    "\n",
    "dl = Dataloader(data, sampler)\n",
    "\n",
    "opt = GD(config.lr)\n",
    "loss = MSE()"
   ]
  },
  {
   "cell_type": "code",
   "execution_count": 17,
   "metadata": {
    "execution": {
     "iopub.execute_input": "2020-09-19T00:06:20.478470Z",
     "iopub.status.busy": "2020-09-19T00:06:20.477930Z",
     "iopub.status.idle": "2020-09-19T00:06:20.487965Z",
     "shell.execute_reply": "2020-09-19T00:06:20.487454Z"
    },
    "papermill": {
     "duration": 0.044385,
     "end_time": "2020-09-19T00:06:20.488085",
     "exception": false,
     "start_time": "2020-09-19T00:06:20.443700",
     "status": "completed"
    },
    "tags": []
   },
   "outputs": [],
   "source": [
    "training_xdata = X_train\n",
    "testing_xdata = X_test\n",
    "training_ydata = y_train.reshape(-1,1)\n",
    "testing_ydata = y_test.reshape(-1,1)"
   ]
  },
  {
   "cell_type": "markdown",
   "metadata": {
    "papermill": {
     "duration": 0.027273,
     "end_time": "2020-09-19T00:06:20.542691",
     "exception": false,
     "start_time": "2020-09-19T00:06:20.515418",
     "status": "completed"
    },
    "tags": []
   },
   "source": [
    "### Running Models with the Training data\n",
    "Details about the network layers:\n",
    "- A first affine layer has 784 inputs and does 100 affine transforms. These are followed by a Relu\n",
    "- A second affine layer has 100 inputs from the 100 activations of the past layer, and does 100 affine transforms. These are followed by a Relu\n",
    "- A third affine layer has 100 activations and does 2 affine transformations to create an embedding for visualization. There is no non-linearity here.\n",
    "- A final \"logistic regression\" which has an affine transform from 2 inputs to 1 output, which is squeezed through a sigmoid.\n",
    "\n",
    "Help taken from Anshuman's Notebook."
   ]
  },
  {
   "cell_type": "code",
   "execution_count": 18,
   "metadata": {
    "execution": {
     "iopub.execute_input": "2020-09-19T00:06:20.603401Z",
     "iopub.status.busy": "2020-09-19T00:06:20.602849Z",
     "iopub.status.idle": "2020-09-19T00:06:20.621389Z",
     "shell.execute_reply": "2020-09-19T00:06:20.620809Z"
    },
    "papermill": {
     "duration": 0.051462,
     "end_time": "2020-09-19T00:06:20.621564",
     "exception": false,
     "start_time": "2020-09-19T00:06:20.570102",
     "status": "completed"
    },
    "tags": []
   },
   "outputs": [],
   "source": [
    "# layers for the Neural Network\n",
    "layers = [Affine(\"first\", 784, 100), Relu(\"first\"), Affine(\"second\", 100, 100), Relu(\"second\"), Affine(\"third\", 100, 2), Affine(\"final\", 2, 1), Sigmoid(\"final\")]\n",
    "model_nn = Model(layers)\n",
    "\n",
    "# layers for the Logistic Regression\n",
    "layers_lr = [Affine(\"logits\", 784, 1), Sigmoid(\"sigmoid\")]\n",
    "model_lr = Model(layers_lr)"
   ]
  },
  {
   "cell_type": "code",
   "execution_count": 19,
   "metadata": {
    "execution": {
     "iopub.execute_input": "2020-09-19T00:06:20.681556Z",
     "iopub.status.busy": "2020-09-19T00:06:20.680957Z",
     "iopub.status.idle": "2020-09-19T00:06:20.696932Z",
     "shell.execute_reply": "2020-09-19T00:06:20.696469Z"
    },
    "papermill": {
     "duration": 0.047804,
     "end_time": "2020-09-19T00:06:20.697055",
     "exception": false,
     "start_time": "2020-09-19T00:06:20.649251",
     "status": "completed"
    },
    "tags": []
   },
   "outputs": [],
   "source": [
    "# suffix _nn stands for Neural Network.\n",
    "learner_nn = Learner(loss, model_nn, opt, config.num_epochs)\n",
    "acc_nn = ClfCallback(learner_nn, config.bs, training_xdata , testing_xdata, training_ydata, testing_ydata)\n",
    "learner_nn.set_callbacks([acc_nn])"
   ]
  },
  {
   "cell_type": "code",
   "execution_count": 20,
   "metadata": {
    "execution": {
     "iopub.execute_input": "2020-09-19T00:06:20.760954Z",
     "iopub.status.busy": "2020-09-19T00:06:20.760375Z",
     "iopub.status.idle": "2020-09-19T00:07:41.450482Z",
     "shell.execute_reply": "2020-09-19T00:07:41.450009Z"
    },
    "papermill": {
     "duration": 80.725658,
     "end_time": "2020-09-19T00:07:41.450607",
     "exception": false,
     "start_time": "2020-09-19T00:06:20.724949",
     "status": "completed"
    },
    "tags": []
   },
   "outputs": [
    {
     "name": "stdout",
     "output_type": "stream",
     "text": [
      "====== Neural Network ======\n"
     ]
    },
    {
     "name": "stdout",
     "output_type": "stream",
     "text": [
      "Epoch 0, Loss 0.2583\n",
      "Training Accuracy: 0.5039, Testing Accuracy: 0.4914\n",
      "\n"
     ]
    },
    {
     "name": "stdout",
     "output_type": "stream",
     "text": [
      "Epoch 10, Loss 0.1396\n",
      "Training Accuracy: 0.8999, Testing Accuracy: 0.9017\n",
      "\n"
     ]
    },
    {
     "name": "stdout",
     "output_type": "stream",
     "text": [
      "Epoch 20, Loss 0.07\n",
      "Training Accuracy: 0.9321, Testing Accuracy: 0.9400\n",
      "\n"
     ]
    },
    {
     "name": "stdout",
     "output_type": "stream",
     "text": [
      "Epoch 30, Loss 0.05\n",
      "Training Accuracy: 0.9457, Testing Accuracy: 0.9572\n",
      "\n"
     ]
    },
    {
     "name": "stdout",
     "output_type": "stream",
     "text": [
      "Epoch 40, Loss 0.0415\n",
      "Training Accuracy: 0.9544, Testing Accuracy: 0.9607\n",
      "\n"
     ]
    },
    {
     "name": "stdout",
     "output_type": "stream",
     "text": [
      "Epoch 50, Loss 0.0368\n",
      "Training Accuracy: 0.9584, Testing Accuracy: 0.9657\n",
      "\n"
     ]
    },
    {
     "name": "stdout",
     "output_type": "stream",
     "text": [
      "Epoch 60, Loss 0.0338\n",
      "Training Accuracy: 0.9612, Testing Accuracy: 0.9677\n",
      "\n"
     ]
    },
    {
     "name": "stdout",
     "output_type": "stream",
     "text": [
      "Epoch 70, Loss 0.0316\n",
      "Training Accuracy: 0.9633, Testing Accuracy: 0.9672\n",
      "\n"
     ]
    },
    {
     "name": "stdout",
     "output_type": "stream",
     "text": [
      "Epoch 80, Loss 0.03\n",
      "Training Accuracy: 0.9650, Testing Accuracy: 0.9672\n",
      "\n"
     ]
    },
    {
     "name": "stdout",
     "output_type": "stream",
     "text": [
      "Epoch 90, Loss 0.0287\n",
      "Training Accuracy: 0.9666, Testing Accuracy: 0.9677\n",
      "\n"
     ]
    },
    {
     "name": "stdout",
     "output_type": "stream",
     "text": [
      "Epoch 100, Loss 0.0276\n",
      "Training Accuracy: 0.9676, Testing Accuracy: 0.9682\n",
      "\n"
     ]
    },
    {
     "name": "stdout",
     "output_type": "stream",
     "text": [
      "Epoch 110, Loss 0.0266\n",
      "Training Accuracy: 0.9687, Testing Accuracy: 0.9682\n",
      "\n"
     ]
    },
    {
     "name": "stdout",
     "output_type": "stream",
     "text": [
      "Epoch 120, Loss 0.0258\n",
      "Training Accuracy: 0.9695, Testing Accuracy: 0.9688\n",
      "\n"
     ]
    },
    {
     "name": "stdout",
     "output_type": "stream",
     "text": [
      "Epoch 130, Loss 0.025\n",
      "Training Accuracy: 0.9704, Testing Accuracy: 0.9688\n",
      "\n"
     ]
    },
    {
     "name": "stdout",
     "output_type": "stream",
     "text": [
      "Epoch 140, Loss 0.0243\n",
      "Training Accuracy: 0.9713, Testing Accuracy: 0.9688\n",
      "\n"
     ]
    },
    {
     "name": "stdout",
     "output_type": "stream",
     "text": [
      "Epoch 150, Loss 0.0237\n",
      "Training Accuracy: 0.9720, Testing Accuracy: 0.9688\n",
      "\n"
     ]
    },
    {
     "name": "stdout",
     "output_type": "stream",
     "text": [
      "Epoch 160, Loss 0.0232\n",
      "Training Accuracy: 0.9725, Testing Accuracy: 0.9677\n",
      "\n"
     ]
    },
    {
     "name": "stdout",
     "output_type": "stream",
     "text": [
      "Epoch 170, Loss 0.0227\n",
      "Training Accuracy: 0.9732, Testing Accuracy: 0.9688\n",
      "\n"
     ]
    },
    {
     "name": "stdout",
     "output_type": "stream",
     "text": [
      "Epoch 180, Loss 0.0222\n",
      "Training Accuracy: 0.9739, Testing Accuracy: 0.9693\n",
      "\n"
     ]
    },
    {
     "name": "stdout",
     "output_type": "stream",
     "text": [
      "Epoch 190, Loss 0.0217\n",
      "Training Accuracy: 0.9746, Testing Accuracy: 0.9698\n",
      "\n"
     ]
    },
    {
     "name": "stdout",
     "output_type": "stream",
     "text": [
      "Epoch 200, Loss 0.0213\n",
      "Training Accuracy: 0.9749, Testing Accuracy: 0.9698\n",
      "\n"
     ]
    },
    {
     "name": "stdout",
     "output_type": "stream",
     "text": [
      "Epoch 210, Loss 0.0209\n",
      "Training Accuracy: 0.9751, Testing Accuracy: 0.9698\n",
      "\n"
     ]
    },
    {
     "name": "stdout",
     "output_type": "stream",
     "text": [
      "Epoch 220, Loss 0.0205\n",
      "Training Accuracy: 0.9758, Testing Accuracy: 0.9703\n",
      "\n"
     ]
    },
    {
     "name": "stdout",
     "output_type": "stream",
     "text": [
      "Epoch 230, Loss 0.0201\n",
      "Training Accuracy: 0.9761, Testing Accuracy: 0.9718\n",
      "\n"
     ]
    },
    {
     "name": "stdout",
     "output_type": "stream",
     "text": [
      "Epoch 240, Loss 0.0197\n",
      "Training Accuracy: 0.9766, Testing Accuracy: 0.9718\n",
      "\n"
     ]
    },
    {
     "name": "stdout",
     "output_type": "stream",
     "text": [
      "Epoch 250, Loss 0.0193\n",
      "Training Accuracy: 0.9772, Testing Accuracy: 0.9723\n",
      "\n"
     ]
    },
    {
     "data": {
      "text/plain": [
       "0.0023768660831905665"
      ]
     },
     "execution_count": 20,
     "metadata": {},
     "output_type": "execute_result"
    }
   ],
   "source": [
    "print(\"====== Neural Network ======\")\n",
    "learner_nn.train_loop(dl)"
   ]
  },
  {
   "cell_type": "markdown",
   "metadata": {
    "papermill": {
     "duration": 0.033646,
     "end_time": "2020-09-19T00:07:41.520550",
     "exception": false,
     "start_time": "2020-09-19T00:07:41.486904",
     "status": "completed"
    },
    "tags": []
   },
   "source": [
    "### Logistic Regression based Implementation."
   ]
  },
  {
   "cell_type": "code",
   "execution_count": 21,
   "metadata": {
    "execution": {
     "iopub.execute_input": "2020-09-19T00:07:41.597920Z",
     "iopub.status.busy": "2020-09-19T00:07:41.597301Z",
     "iopub.status.idle": "2020-09-19T00:07:41.609285Z",
     "shell.execute_reply": "2020-09-19T00:07:41.608793Z"
    },
    "papermill": {
     "duration": 0.053559,
     "end_time": "2020-09-19T00:07:41.609408",
     "exception": false,
     "start_time": "2020-09-19T00:07:41.555849",
     "status": "completed"
    },
    "tags": []
   },
   "outputs": [],
   "source": [
    "learner_lr = Learner(loss, model_lr, opt, config.num_epochs)\n",
    "acc_lr = ClfCallback(learner_lr, config.bs, training_xdata , testing_xdata, training_ydata, testing_ydata)\n",
    "learner_lr.set_callbacks([acc_lr])"
   ]
  },
  {
   "cell_type": "code",
   "execution_count": 22,
   "metadata": {
    "execution": {
     "iopub.execute_input": "2020-09-19T00:07:41.683340Z",
     "iopub.status.busy": "2020-09-19T00:07:41.682809Z",
     "iopub.status.idle": "2020-09-19T00:07:57.710950Z",
     "shell.execute_reply": "2020-09-19T00:07:57.710438Z"
    },
    "papermill": {
     "duration": 16.067031,
     "end_time": "2020-09-19T00:07:57.711084",
     "exception": false,
     "start_time": "2020-09-19T00:07:41.644053",
     "status": "completed"
    },
    "tags": []
   },
   "outputs": [
    {
     "name": "stdout",
     "output_type": "stream",
     "text": [
      "====== Logistic Regression ======\n",
      "Epoch 0, Loss 0.2342\n",
      "Training Accuracy: 0.7609, Testing Accuracy: 0.7349\n",
      "\n"
     ]
    },
    {
     "name": "stdout",
     "output_type": "stream",
     "text": [
      "Epoch 10, Loss 0.0988\n",
      "Training Accuracy: 0.9210, Testing Accuracy: 0.9269\n",
      "\n"
     ]
    },
    {
     "name": "stdout",
     "output_type": "stream",
     "text": [
      "Epoch 20, Loss 0.0768\n",
      "Training Accuracy: 0.9331, Testing Accuracy: 0.9425\n",
      "\n"
     ]
    },
    {
     "name": "stdout",
     "output_type": "stream",
     "text": [
      "Epoch 30, Loss 0.0665\n",
      "Training Accuracy: 0.9394, Testing Accuracy: 0.9506\n",
      "\n"
     ]
    },
    {
     "name": "stdout",
     "output_type": "stream",
     "text": [
      "Epoch 40, Loss 0.0603\n",
      "Training Accuracy: 0.9432, Testing Accuracy: 0.9546\n",
      "\n"
     ]
    },
    {
     "name": "stdout",
     "output_type": "stream",
     "text": [
      "Epoch 50, Loss 0.056\n",
      "Training Accuracy: 0.9463, Testing Accuracy: 0.9561\n",
      "\n"
     ]
    },
    {
     "name": "stdout",
     "output_type": "stream",
     "text": [
      "Epoch 60, Loss 0.0529\n",
      "Training Accuracy: 0.9483, Testing Accuracy: 0.9582\n",
      "\n"
     ]
    },
    {
     "name": "stdout",
     "output_type": "stream",
     "text": [
      "Epoch 70, Loss 0.0505\n",
      "Training Accuracy: 0.9495, Testing Accuracy: 0.9612\n",
      "\n"
     ]
    },
    {
     "name": "stdout",
     "output_type": "stream",
     "text": [
      "Epoch 80, Loss 0.0485\n",
      "Training Accuracy: 0.9513, Testing Accuracy: 0.9617\n",
      "\n"
     ]
    },
    {
     "name": "stdout",
     "output_type": "stream",
     "text": [
      "Epoch 90, Loss 0.0469\n",
      "Training Accuracy: 0.9531, Testing Accuracy: 0.9637\n",
      "\n"
     ]
    },
    {
     "name": "stdout",
     "output_type": "stream",
     "text": [
      "Epoch 100, Loss 0.0455\n",
      "Training Accuracy: 0.9544, Testing Accuracy: 0.9637\n",
      "\n"
     ]
    },
    {
     "name": "stdout",
     "output_type": "stream",
     "text": [
      "Epoch 110, Loss 0.0444\n",
      "Training Accuracy: 0.9546, Testing Accuracy: 0.9647\n",
      "\n"
     ]
    },
    {
     "name": "stdout",
     "output_type": "stream",
     "text": [
      "Epoch 120, Loss 0.0433\n",
      "Training Accuracy: 0.9558, Testing Accuracy: 0.9647\n",
      "\n"
     ]
    },
    {
     "name": "stdout",
     "output_type": "stream",
     "text": [
      "Epoch 130, Loss 0.0424\n",
      "Training Accuracy: 0.9563, Testing Accuracy: 0.9662\n",
      "\n"
     ]
    },
    {
     "name": "stdout",
     "output_type": "stream",
     "text": [
      "Epoch 140, Loss 0.0416\n",
      "Training Accuracy: 0.9571, Testing Accuracy: 0.9662\n",
      "\n"
     ]
    },
    {
     "name": "stdout",
     "output_type": "stream",
     "text": [
      "Epoch 150, Loss 0.0409\n",
      "Training Accuracy: 0.9574, Testing Accuracy: 0.9657\n",
      "\n"
     ]
    },
    {
     "name": "stdout",
     "output_type": "stream",
     "text": [
      "Epoch 160, Loss 0.0403\n",
      "Training Accuracy: 0.9578, Testing Accuracy: 0.9662\n",
      "\n"
     ]
    },
    {
     "name": "stdout",
     "output_type": "stream",
     "text": [
      "Epoch 170, Loss 0.0397\n",
      "Training Accuracy: 0.9582, Testing Accuracy: 0.9662\n",
      "\n"
     ]
    },
    {
     "name": "stdout",
     "output_type": "stream",
     "text": [
      "Epoch 180, Loss 0.0391\n",
      "Training Accuracy: 0.9584, Testing Accuracy: 0.9662\n",
      "\n"
     ]
    },
    {
     "name": "stdout",
     "output_type": "stream",
     "text": [
      "Epoch 190, Loss 0.0386\n",
      "Training Accuracy: 0.9589, Testing Accuracy: 0.9672\n",
      "\n"
     ]
    },
    {
     "name": "stdout",
     "output_type": "stream",
     "text": [
      "Epoch 200, Loss 0.0382\n",
      "Training Accuracy: 0.9594, Testing Accuracy: 0.9667\n",
      "\n"
     ]
    },
    {
     "name": "stdout",
     "output_type": "stream",
     "text": [
      "Epoch 210, Loss 0.0377\n",
      "Training Accuracy: 0.9601, Testing Accuracy: 0.9667\n",
      "\n"
     ]
    },
    {
     "name": "stdout",
     "output_type": "stream",
     "text": [
      "Epoch 220, Loss 0.0373\n",
      "Training Accuracy: 0.9603, Testing Accuracy: 0.9672\n",
      "\n"
     ]
    },
    {
     "name": "stdout",
     "output_type": "stream",
     "text": [
      "Epoch 230, Loss 0.037\n",
      "Training Accuracy: 0.9604, Testing Accuracy: 0.9677\n",
      "\n"
     ]
    },
    {
     "name": "stdout",
     "output_type": "stream",
     "text": [
      "Epoch 240, Loss 0.0366\n",
      "Training Accuracy: 0.9609, Testing Accuracy: 0.9677\n",
      "\n"
     ]
    },
    {
     "name": "stdout",
     "output_type": "stream",
     "text": [
      "Epoch 250, Loss 0.0363\n",
      "Training Accuracy: 0.9612, Testing Accuracy: 0.9677\n",
      "\n"
     ]
    },
    {
     "data": {
      "text/plain": [
       "0.03159852772555258"
      ]
     },
     "execution_count": 22,
     "metadata": {},
     "output_type": "execute_result"
    }
   ],
   "source": [
    "print(\"====== Logistic Regression ======\")\n",
    "learner_lr.train_loop(dl)"
   ]
  },
  {
   "cell_type": "markdown",
   "metadata": {
    "papermill": {
     "duration": 0.042866,
     "end_time": "2020-09-19T00:07:57.797181",
     "exception": false,
     "start_time": "2020-09-19T00:07:57.754315",
     "status": "completed"
    },
    "tags": []
   },
   "source": [
    "### Comparing results of NN and LR"
   ]
  },
  {
   "cell_type": "code",
   "execution_count": 23,
   "metadata": {
    "execution": {
     "iopub.execute_input": "2020-09-19T00:07:57.888562Z",
     "iopub.status.busy": "2020-09-19T00:07:57.887988Z",
     "iopub.status.idle": "2020-09-19T00:07:58.112876Z",
     "shell.execute_reply": "2020-09-19T00:07:58.112388Z"
    },
    "papermill": {
     "duration": 0.273247,
     "end_time": "2020-09-19T00:07:58.113003",
     "exception": false,
     "start_time": "2020-09-19T00:07:57.839756",
     "status": "completed"
    },
    "tags": []
   },
   "outputs": [
    {
     "data": {
      "text/plain": [
       "<matplotlib.legend.Legend at 0x7f6ca2030240>"
      ]
     },
     "execution_count": 23,
     "metadata": {},
     "output_type": "execute_result"
    },
    {
     "data": {
      "image/png": "[encoded data removed]",
      "text/plain": [
       "<Figure size 1080x720 with 1 Axes>"
      ]
     },
     "metadata": {
      "needs_background": "light"
     },
     "output_type": "display_data"
    }
   ],
   "source": [
    "plt.figure(figsize=(15,10))\n",
    "\n",
    "# Neural Network plots\n",
    "plt.plot(acc_nn.accuracies, 'r-', label = \"Training Accuracies - NN\")\n",
    "plt.plot(acc_nn.test_accuracies, 'g-', label = \"Testing Accuracies - NN\")\n",
    "\n",
    "# Logistic Regression plots\n",
    "plt.plot(acc_lr.accuracies, 'k-', label = \"Training Accuracies - LR\")\n",
    "plt.plot(acc_lr.test_accuracies, 'b-', label = \"Testing Accuracies - LR\")\n",
    "\n",
    "plt.ylim(0.8, 1)\n",
    "\n",
    "plt.legend()\n",
    "\n"
   ]
  },
  {
   "cell_type": "markdown",
   "metadata": {
    "papermill": {
     "duration": 0.043583,
     "end_time": "2020-09-19T00:07:58.200427",
     "exception": false,
     "start_time": "2020-09-19T00:07:58.156844",
     "status": "completed"
    },
    "tags": []
   },
   "source": [
    "### From the plot, we can observe the following:\n",
    "- Neural Network achieves higher accuracy than the Logistic Regression model.\n",
    "- This apparently, is because of overfitting, i.e. NN captures more noise than data.\n",
    "- Testing accuracy of NN drops below the Training accuracy at higher epochs. This explains the over-fitting on training data.\n",
    "- Logistic Regression gives a reliable accuracy, without the above mentioned problem.\n"
   ]
  },
  {
   "cell_type": "markdown",
   "metadata": {
    "papermill": {
     "duration": 0.043714,
     "end_time": "2020-09-19T00:07:58.287033",
     "exception": false,
     "start_time": "2020-09-19T00:07:58.243319",
     "status": "completed"
    },
    "tags": []
   },
   "source": [
    "### Moving till the last but one layer (excluding it).\n",
    "#### Plotting the outputs of this layer of the NN."
   ]
  },
  {
   "cell_type": "code",
   "execution_count": 24,
   "metadata": {
    "execution": {
     "iopub.execute_input": "2020-09-19T00:07:58.377869Z",
     "iopub.status.busy": "2020-09-19T00:07:58.376804Z",
     "iopub.status.idle": "2020-09-19T00:07:58.388583Z",
     "shell.execute_reply": "2020-09-19T00:07:58.388117Z"
    },
    "papermill": {
     "duration": 0.058717,
     "end_time": "2020-09-19T00:07:58.388696",
     "exception": false,
     "start_time": "2020-09-19T00:07:58.329979",
     "status": "completed"
    },
    "tags": []
   },
   "outputs": [],
   "source": [
    "model_new = Model(layers[:-2])"
   ]
  },
  {
   "cell_type": "code",
   "execution_count": 25,
   "metadata": {
    "execution": {
     "iopub.execute_input": "2020-09-19T00:07:58.481567Z",
     "iopub.status.busy": "2020-09-19T00:07:58.480997Z",
     "iopub.status.idle": "2020-09-19T00:07:58.502179Z",
     "shell.execute_reply": "2020-09-19T00:07:58.502641Z"
    },
    "papermill": {
     "duration": 0.069826,
     "end_time": "2020-09-19T00:07:58.502775",
     "exception": false,
     "start_time": "2020-09-19T00:07:58.432949",
     "status": "completed"
    },
    "tags": []
   },
   "outputs": [],
   "source": [
    "plot_testing = model_new(testing_xdata)"
   ]
  },
  {
   "cell_type": "code",
   "execution_count": 26,
   "metadata": {
    "execution": {
     "iopub.execute_input": "2020-09-19T00:07:58.599642Z",
     "iopub.status.busy": "2020-09-19T00:07:58.598333Z",
     "iopub.status.idle": "2020-09-19T00:07:58.800291Z",
     "shell.execute_reply": "2020-09-19T00:07:58.800724Z"
    },
    "papermill": {
     "duration": 0.25204,
     "end_time": "2020-09-19T00:07:58.800878",
     "exception": false,
     "start_time": "2020-09-19T00:07:58.548838",
     "status": "completed"
    },
    "tags": []
   },
   "outputs": [
    {
     "data": {
      "text/plain": [
       "Text(0.5, 1.0, 'Outputs')"
      ]
     },
     "execution_count": 26,
     "metadata": {},
     "output_type": "execute_result"
    },
    {
     "data": {
      "image/png": "[encoded data removed]",
      "text/plain": [
       "<Figure size 576x504 with 1 Axes>"
      ]
     },
     "metadata": {
      "needs_background": "light"
     },
     "output_type": "display_data"
    }
   ],
   "source": [
    "plt.figure(figsize=(8,7))\n",
    "plt.scatter(plot_testing[:,0], plot_testing[:,1], alpha = 0.1, c = y_test.ravel());\n",
    "plt.title('Outputs')"
   ]
  },
  {
   "cell_type": "markdown",
   "metadata": {
    "papermill": {
     "duration": 0.044853,
     "end_time": "2020-09-19T00:07:58.890155",
     "exception": false,
     "start_time": "2020-09-19T00:07:58.845302",
     "status": "completed"
    },
    "tags": []
   },
   "source": [
    "### Plotting probability contours"
   ]
  },
  {
   "cell_type": "code",
   "execution_count": 27,
   "metadata": {
    "execution": {
     "iopub.execute_input": "2020-09-19T00:07:58.987725Z",
     "iopub.status.busy": "2020-09-19T00:07:58.986710Z",
     "iopub.status.idle": "2020-09-19T00:07:59.001132Z",
     "shell.execute_reply": "2020-09-19T00:07:59.000637Z"
    },
    "papermill": {
     "duration": 0.065877,
     "end_time": "2020-09-19T00:07:59.001248",
     "exception": false,
     "start_time": "2020-09-19T00:07:58.935371",
     "status": "completed"
    },
    "tags": []
   },
   "outputs": [],
   "source": [
    "model_prob = Model(layers[-2:]) "
   ]
  },
  {
   "cell_type": "code",
   "execution_count": 28,
   "metadata": {
    "execution": {
     "iopub.execute_input": "2020-09-19T00:07:59.098242Z",
     "iopub.status.busy": "2020-09-19T00:07:59.097691Z",
     "iopub.status.idle": "2020-09-19T00:07:59.114176Z",
     "shell.execute_reply": "2020-09-19T00:07:59.114628Z"
    },
    "papermill": {
     "duration": 0.068049,
     "end_time": "2020-09-19T00:07:59.114759",
     "exception": false,
     "start_time": "2020-09-19T00:07:59.046710",
     "status": "completed"
    },
    "tags": []
   },
   "outputs": [],
   "source": [
    "# Adjust the x and y ranges according to the above generated plot.\n",
    "x_range = np.linspace(-4, 1, 100) \n",
    "y_range = np.linspace(-6, 6, 100) \n",
    "x_grid, y_grid = np.meshgrid(x_range, y_range) # x_grid and y_grig are of size 100 X 100\n",
    "\n",
    "# converting x_grid and y_grid to continuous arrays\n",
    "x_grid_flat = np.ravel(x_grid)\n",
    "y_grid_flat = np.ravel(y_grid)\n",
    "\n",
    "# The last layer of the current model takes two columns as input. Hence transpose of np.vstack() is required.\n",
    "X = np.vstack((x_grid_flat, y_grid_flat)).T\n",
    "\n",
    "# x_grid and y_grid are of size 100 x 100\n",
    "probability_contour = model_prob(X).reshape(100,100) "
   ]
  },
  {
   "cell_type": "code",
   "execution_count": 29,
   "metadata": {
    "execution": {
     "iopub.execute_input": "2020-09-19T00:07:59.212616Z",
     "iopub.status.busy": "2020-09-19T00:07:59.212078Z",
     "iopub.status.idle": "2020-09-19T00:07:59.456487Z",
     "shell.execute_reply": "2020-09-19T00:07:59.456991Z"
    },
    "papermill": {
     "duration": 0.29672,
     "end_time": "2020-09-19T00:07:59.457141",
     "exception": false,
     "start_time": "2020-09-19T00:07:59.160421",
     "status": "completed"
    },
    "tags": []
   },
   "outputs": [
    {
     "data": {
      "image/png": "[encoded data removed]",
      "text/plain": [
       "<Figure size 720x648 with 1 Axes>"
      ]
     },
     "metadata": {
      "needs_background": "light"
     },
     "output_type": "display_data"
    }
   ],
   "source": [
    "plt.figure(figsize=(10,9))\n",
    "plt.scatter(plot_testing[:,0], plot_testing[:,1], alpha = 0.1, c = y_test.ravel())\n",
    "contours = plt.contour(x_grid,y_grid,probability_contour)\n",
    "plt.title('Probability Contours')\n",
    "plt.clabel(contours, inline = True );"
   ]
  }
 ],
 "metadata": {
  "kernelspec": {
   "display_name": "Python 3",
   "language": "python",
   "name": "python3"
  },
  "language_info": {
   "codemirror_mode": {
    "name": "ipython",
    "version": 3
   },
   "file_extension": ".py",
   "mimetype": "text/x-python",
   "name": "python",
   "nbconvert_exporter": "python",
   "pygments_lexer": "ipython3",
   "version": "3.6.12"
  },
  "papermill": {
   "duration": 108.349669,
   "end_time": "2020-09-19T00:08:00.891697",
   "environment_variables": {},
   "exception": null,
   "input_path": "2020-08-11-NeuralNetwork.ipynb",
   "output_path": "2020-08-11-NeuralNetwork.ipynb",
   "parameters": {},
   "start_time": "2020-09-19T00:06:12.542028",
   "version": "2.1.2"
  }
 },
 "nbformat": 4,
 "nbformat_minor": 4
}