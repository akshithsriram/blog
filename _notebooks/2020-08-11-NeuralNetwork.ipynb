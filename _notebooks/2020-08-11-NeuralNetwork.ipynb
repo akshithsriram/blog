{
 "cells": [
  {
   "cell_type": "markdown",
   "metadata": {
    "papermill": {
     "duration": 0.032442,
     "end_time": "2020-09-24T00:06:39.341043",
     "exception": false,
     "start_time": "2020-09-24T00:06:39.308601",
     "status": "completed"
    },
    "tags": []
   },
   "source": [
    "# \"A Basic Neural Network: Differentiate Hand-Written Digits\"\n",
    "\n",
    "- badges: true\n",
    "- author: Akshith Sriram"
   ]
  },
  {
   "cell_type": "markdown",
   "metadata": {
    "papermill": {
     "duration": 0.027329,
     "end_time": "2020-09-24T00:06:39.396298",
     "exception": false,
     "start_time": "2020-09-24T00:06:39.368969",
     "status": "completed"
    },
    "tags": []
   },
   "source": [
    "### Key Objectives:\n",
    "- Building a neural network that differentiates two hand-written digits 3 and 8.\n",
    "- Comparing the results of this Neural Network (NN) to that of a Logistic Regression (LR) model.\n",
    "\n",
    "### Requirements:\n",
    "- 'Kudzu' : A neural network library that was designed during our course by [Univ.AI](www.univ.ai). \n",
    "- MNIST Database\n",
    "\n",
    "If MNIST is not installed, use the command `!pip install mnist` given below.\n",
    "It can be run both from the command line and Jupyter Notebook."
   ]
  },
  {
   "cell_type": "code",
   "execution_count": 1,
   "metadata": {
    "execution": {
     "iopub.execute_input": "2020-09-24T00:06:39.458531Z",
     "iopub.status.busy": "2020-09-24T00:06:39.457831Z",
     "iopub.status.idle": "2020-09-24T00:06:41.053129Z",
     "shell.execute_reply": "2020-09-24T00:06:41.052485Z"
    },
    "papermill": {
     "duration": 1.629403,
     "end_time": "2020-09-24T00:06:41.053313",
     "exception": false,
     "start_time": "2020-09-24T00:06:39.423910",
     "status": "completed"
    },
    "tags": []
   },
   "outputs": [
    {
     "name": "stdout",
     "output_type": "stream",
     "text": [
      "Collecting mnist\r\n"
     ]
    },
    {
     "name": "stdout",
     "output_type": "stream",
     "text": [
      "  Downloading mnist-0.2.2-py2.py3-none-any.whl (3.5 kB)\r\n",
      "Requirement already satisfied: numpy in /opt/hostedtoolcache/Python/3.6.12/x64/lib/python3.6/site-packages (from mnist) (1.19.2)\r\n"
     ]
    },
    {
     "name": "stdout",
     "output_type": "stream",
     "text": [
      "Installing collected packages: mnist\r\n",
      "Successfully installed mnist-0.2.2\r\n"
     ]
    }
   ],
   "source": [
    "!pip install mnist "
   ]
  },
  {
   "cell_type": "markdown",
   "metadata": {
    "papermill": {
     "duration": 0.026934,
     "end_time": "2020-09-24T00:06:41.107828",
     "exception": false,
     "start_time": "2020-09-24T00:06:41.080894",
     "status": "completed"
    },
    "tags": []
   },
   "source": [
    "#### Importing necessary libraries"
   ]
  },
  {
   "cell_type": "code",
   "execution_count": 2,
   "metadata": {
    "execution": {
     "iopub.execute_input": "2020-09-24T00:06:41.169132Z",
     "iopub.status.busy": "2020-09-24T00:06:41.168308Z",
     "iopub.status.idle": "2020-09-24T00:06:41.762078Z",
     "shell.execute_reply": "2020-09-24T00:06:41.762586Z"
    },
    "papermill": {
     "duration": 0.627995,
     "end_time": "2020-09-24T00:06:41.762778",
     "exception": false,
     "start_time": "2020-09-24T00:06:41.134783",
     "status": "completed"
    },
    "tags": []
   },
   "outputs": [],
   "source": [
    "%load_ext autoreload\n",
    "%autoreload 2\n",
    "\n",
    "%matplotlib inline\n",
    "import matplotlib.pyplot as plt\n",
    "\n",
    "import numpy as np\n",
    "import pandas as pd"
   ]
  },
  {
   "cell_type": "markdown",
   "metadata": {
    "papermill": {
     "duration": 0.027534,
     "end_time": "2020-09-24T00:06:41.817888",
     "exception": false,
     "start_time": "2020-09-24T00:06:41.790354",
     "status": "completed"
    },
    "tags": []
   },
   "source": [
    "### Preparing the Data"
   ]
  },
  {
   "cell_type": "code",
   "execution_count": 3,
   "metadata": {
    "execution": {
     "iopub.execute_input": "2020-09-24T00:06:41.877587Z",
     "iopub.status.busy": "2020-09-24T00:06:41.876898Z",
     "iopub.status.idle": "2020-09-24T00:06:41.891399Z",
     "shell.execute_reply": "2020-09-24T00:06:41.891937Z"
    },
    "papermill": {
     "duration": 0.046464,
     "end_time": "2020-09-24T00:06:41.892102",
     "exception": false,
     "start_time": "2020-09-24T00:06:41.845638",
     "status": "completed"
    },
    "tags": []
   },
   "outputs": [],
   "source": [
    "import mnist"
   ]
  },
  {
   "cell_type": "code",
   "execution_count": 4,
   "metadata": {
    "execution": {
     "iopub.execute_input": "2020-09-24T00:06:41.954365Z",
     "iopub.status.busy": "2020-09-24T00:06:41.953704Z",
     "iopub.status.idle": "2020-09-24T00:06:43.710683Z",
     "shell.execute_reply": "2020-09-24T00:06:43.711225Z"
    },
    "papermill": {
     "duration": 1.790572,
     "end_time": "2020-09-24T00:06:43.711412",
     "exception": false,
     "start_time": "2020-09-24T00:06:41.920840",
     "status": "completed"
    },
    "tags": []
   },
   "outputs": [],
   "source": [
    "train_images = mnist.train_images()\n",
    "train_labels = mnist.train_labels()"
   ]
  },
  {
   "cell_type": "code",
   "execution_count": 5,
   "metadata": {
    "execution": {
     "iopub.execute_input": "2020-09-24T00:06:43.862798Z",
     "iopub.status.busy": "2020-09-24T00:06:43.862105Z",
     "iopub.status.idle": "2020-09-24T00:06:43.879358Z",
     "shell.execute_reply": "2020-09-24T00:06:43.878257Z"
    },
    "papermill": {
     "duration": 0.139605,
     "end_time": "2020-09-24T00:06:43.879526",
     "exception": false,
     "start_time": "2020-09-24T00:06:43.739921",
     "status": "completed"
    },
    "tags": []
   },
   "outputs": [
    {
     "data": {
      "text/plain": [
       "((60000, 28, 28), (60000,))"
      ]
     },
     "execution_count": 5,
     "metadata": {},
     "output_type": "execute_result"
    }
   ],
   "source": [
    "train_images.shape, train_labels.shape"
   ]
  },
  {
   "cell_type": "code",
   "execution_count": 6,
   "metadata": {
    "execution": {
     "iopub.execute_input": "2020-09-24T00:06:43.938769Z",
     "iopub.status.busy": "2020-09-24T00:06:43.937610Z",
     "iopub.status.idle": "2020-09-24T00:06:44.800311Z",
     "shell.execute_reply": "2020-09-24T00:06:44.799262Z"
    },
    "papermill": {
     "duration": 0.893399,
     "end_time": "2020-09-24T00:06:44.800492",
     "exception": false,
     "start_time": "2020-09-24T00:06:43.907093",
     "status": "completed"
    },
    "tags": []
   },
   "outputs": [],
   "source": [
    "test_images = mnist.test_images()\n",
    "test_labels = mnist.test_labels()"
   ]
  },
  {
   "cell_type": "code",
   "execution_count": 7,
   "metadata": {
    "execution": {
     "iopub.execute_input": "2020-09-24T00:06:44.879637Z",
     "iopub.status.busy": "2020-09-24T00:06:44.878536Z",
     "iopub.status.idle": "2020-09-24T00:06:44.885140Z",
     "shell.execute_reply": "2020-09-24T00:06:44.885764Z"
    },
    "papermill": {
     "duration": 0.056211,
     "end_time": "2020-09-24T00:06:44.885931",
     "exception": false,
     "start_time": "2020-09-24T00:06:44.829720",
     "status": "completed"
    },
    "tags": []
   },
   "outputs": [
    {
     "data": {
      "text/plain": [
       "((10000, 28, 28), (10000,))"
      ]
     },
     "execution_count": 7,
     "metadata": {},
     "output_type": "execute_result"
    }
   ],
   "source": [
    "test_images.shape, test_labels.shape"
   ]
  },
  {
   "cell_type": "code",
   "execution_count": 8,
   "metadata": {
    "execution": {
     "iopub.execute_input": "2020-09-24T00:06:44.959264Z",
     "iopub.status.busy": "2020-09-24T00:06:44.958630Z",
     "iopub.status.idle": "2020-09-24T00:06:45.119094Z",
     "shell.execute_reply": "2020-09-24T00:06:45.119679Z"
    },
    "papermill": {
     "duration": 0.206372,
     "end_time": "2020-09-24T00:06:45.119883",
     "exception": false,
     "start_time": "2020-09-24T00:06:44.913511",
     "status": "completed"
    },
    "tags": []
   },
   "outputs": [
    {
     "name": "stdout",
     "output_type": "stream",
     "text": [
      "2\n"
     ]
    },
    {
     "data": {
      "text/plain": [
       "<matplotlib.image.AxesImage at 0x7f2b36d157f0>"
      ]
     },
     "execution_count": 8,
     "metadata": {},
     "output_type": "execute_result"
    },
    {
     "data": {
      "image/png": "[encoded data removed]",
      "text/plain": [
       "<Figure size 432x288 with 1 Axes>"
      ]
     },
     "metadata": {
      "needs_background": "light"
     },
     "output_type": "display_data"
    }
   ],
   "source": [
    "image_index = 7776 # You may select anything up to 60,000\n",
    "print(train_labels[image_index]) \n",
    "plt.imshow(train_images[image_index], cmap='Greys')"
   ]
  },
  {
   "cell_type": "markdown",
   "metadata": {
    "papermill": {
     "duration": 0.029229,
     "end_time": "2020-09-24T00:06:45.177844",
     "exception": false,
     "start_time": "2020-09-24T00:06:45.148615",
     "status": "completed"
    },
    "tags": []
   },
   "source": [
    "## Filter data to get 3 and 8 out"
   ]
  },
  {
   "cell_type": "code",
   "execution_count": 9,
   "metadata": {
    "execution": {
     "iopub.execute_input": "2020-09-24T00:06:45.243045Z",
     "iopub.status.busy": "2020-09-24T00:06:45.242394Z",
     "iopub.status.idle": "2020-09-24T00:06:45.259935Z",
     "shell.execute_reply": "2020-09-24T00:06:45.259384Z"
    },
    "papermill": {
     "duration": 0.054406,
     "end_time": "2020-09-24T00:06:45.260079",
     "exception": false,
     "start_time": "2020-09-24T00:06:45.205673",
     "status": "completed"
    },
    "tags": []
   },
   "outputs": [],
   "source": [
    "train_filter = np.where((train_labels == 3 ) | (train_labels == 8))\n",
    "test_filter = np.where((test_labels == 3) | (test_labels == 8))\n",
    "X_train, y_train = train_images[train_filter], train_labels[train_filter]\n",
    "X_test, y_test = test_images[test_filter], test_labels[test_filter]"
   ]
  },
  {
   "cell_type": "markdown",
   "metadata": {
    "papermill": {
     "duration": 0.031695,
     "end_time": "2020-09-24T00:06:45.323624",
     "exception": false,
     "start_time": "2020-09-24T00:06:45.291929",
     "status": "completed"
    },
    "tags": []
   },
   "source": [
    "We normalize the pixel values in the 0 to 1 range"
   ]
  },
  {
   "cell_type": "code",
   "execution_count": 10,
   "metadata": {
    "execution": {
     "iopub.execute_input": "2020-09-24T00:06:45.389755Z",
     "iopub.status.busy": "2020-09-24T00:06:45.389079Z",
     "iopub.status.idle": "2020-09-24T00:06:45.446684Z",
     "shell.execute_reply": "2020-09-24T00:06:45.446104Z"
    },
    "papermill": {
     "duration": 0.093732,
     "end_time": "2020-09-24T00:06:45.446845",
     "exception": false,
     "start_time": "2020-09-24T00:06:45.353113",
     "status": "completed"
    },
    "tags": []
   },
   "outputs": [],
   "source": [
    "X_train = X_train/255.\n",
    "X_test = X_test/255."
   ]
  },
  {
   "cell_type": "markdown",
   "metadata": {
    "papermill": {
     "duration": 0.030826,
     "end_time": "2020-09-24T00:06:45.507220",
     "exception": false,
     "start_time": "2020-09-24T00:06:45.476394",
     "status": "completed"
    },
    "tags": []
   },
   "source": [
    "Setup the labels as 1 (when the digit is 3) and 0 (when the digit is 8)"
   ]
  },
  {
   "cell_type": "code",
   "execution_count": 11,
   "metadata": {
    "execution": {
     "iopub.execute_input": "2020-09-24T00:06:45.574163Z",
     "iopub.status.busy": "2020-09-24T00:06:45.573458Z",
     "iopub.status.idle": "2020-09-24T00:06:45.586442Z",
     "shell.execute_reply": "2020-09-24T00:06:45.585850Z"
    },
    "papermill": {
     "duration": 0.04891,
     "end_time": "2020-09-24T00:06:45.586585",
     "exception": false,
     "start_time": "2020-09-24T00:06:45.537675",
     "status": "completed"
    },
    "tags": []
   },
   "outputs": [],
   "source": [
    "y_train = 1*(y_train==3)\n",
    "y_test = 1*(y_test==3)"
   ]
  },
  {
   "cell_type": "code",
   "execution_count": 12,
   "metadata": {
    "execution": {
     "iopub.execute_input": "2020-09-24T00:06:45.659747Z",
     "iopub.status.busy": "2020-09-24T00:06:45.659042Z",
     "iopub.status.idle": "2020-09-24T00:06:45.669351Z",
     "shell.execute_reply": "2020-09-24T00:06:45.668742Z"
    },
    "papermill": {
     "duration": 0.05214,
     "end_time": "2020-09-24T00:06:45.669510",
     "exception": false,
     "start_time": "2020-09-24T00:06:45.617370",
     "status": "completed"
    },
    "tags": []
   },
   "outputs": [
    {
     "data": {
      "text/plain": [
       "((11982, 28, 28), (1984, 28, 28))"
      ]
     },
     "execution_count": 12,
     "metadata": {},
     "output_type": "execute_result"
    }
   ],
   "source": [
    "X_train.shape, X_test.shape"
   ]
  },
  {
   "cell_type": "markdown",
   "metadata": {
    "papermill": {
     "duration": 0.031834,
     "end_time": "2020-09-24T00:06:45.733182",
     "exception": false,
     "start_time": "2020-09-24T00:06:45.701348",
     "status": "completed"
    },
    "tags": []
   },
   "source": [
    "### Reshape the input data to create a linear array"
   ]
  },
  {
   "cell_type": "code",
   "execution_count": 13,
   "metadata": {
    "execution": {
     "iopub.execute_input": "2020-09-24T00:06:45.805257Z",
     "iopub.status.busy": "2020-09-24T00:06:45.804539Z",
     "iopub.status.idle": "2020-09-24T00:06:45.819189Z",
     "shell.execute_reply": "2020-09-24T00:06:45.818570Z"
    },
    "papermill": {
     "duration": 0.053656,
     "end_time": "2020-09-24T00:06:45.819368",
     "exception": false,
     "start_time": "2020-09-24T00:06:45.765712",
     "status": "completed"
    },
    "tags": []
   },
   "outputs": [
    {
     "data": {
      "text/plain": [
       "((11982, 784), (1984, 784))"
      ]
     },
     "execution_count": 13,
     "metadata": {},
     "output_type": "execute_result"
    }
   ],
   "source": [
    "X_train = X_train.reshape(X_train.shape[0], -1)\n",
    "X_test = X_test.reshape(X_test.shape[0], -1)\n",
    "X_train.shape, X_test.shape"
   ]
  },
  {
   "cell_type": "markdown",
   "metadata": {
    "papermill": {
     "duration": 0.030853,
     "end_time": "2020-09-24T00:06:45.881119",
     "exception": false,
     "start_time": "2020-09-24T00:06:45.850266",
     "status": "completed"
    },
    "tags": []
   },
   "source": [
    "### Importing appropriate functions from 'Kudzu'"
   ]
  },
  {
   "cell_type": "code",
   "execution_count": 14,
   "metadata": {
    "execution": {
     "iopub.execute_input": "2020-09-24T00:06:45.949796Z",
     "iopub.status.busy": "2020-09-24T00:06:45.949085Z",
     "iopub.status.idle": "2020-09-24T00:06:45.969700Z",
     "shell.execute_reply": "2020-09-24T00:06:45.968602Z"
    },
    "papermill": {
     "duration": 0.058021,
     "end_time": "2020-09-24T00:06:45.969895",
     "exception": false,
     "start_time": "2020-09-24T00:06:45.911874",
     "status": "completed"
    },
    "tags": []
   },
   "outputs": [],
   "source": [
    "from kudzu.layer import Sigmoid\n",
    "from kudzu.layer import Relu\n",
    "from kudzu.layer import Affine, Sigmoid\n",
    "\n",
    "from kudzu.model import Model\n",
    "from kudzu.train import Learner\n",
    "from kudzu.optim import GD\n",
    "from kudzu.data import Data, Dataloader, Sampler\n",
    "\n",
    "from kudzu.callbacks import AccCallback\n",
    "from kudzu.callbacks import ClfCallback\n",
    "\n",
    "from kudzu.loss import MSE"
   ]
  },
  {
   "cell_type": "markdown",
   "metadata": {
    "papermill": {
     "duration": 0.029424,
     "end_time": "2020-09-24T00:06:46.029850",
     "exception": false,
     "start_time": "2020-09-24T00:06:46.000426",
     "status": "completed"
    },
    "tags": []
   },
   "source": [
    "### Let us create a `Config` class, to store important parameters. \n",
    "This class essentially plays the role of a dictionary."
   ]
  },
  {
   "cell_type": "code",
   "execution_count": 15,
   "metadata": {
    "execution": {
     "iopub.execute_input": "2020-09-24T00:06:46.101273Z",
     "iopub.status.busy": "2020-09-24T00:06:46.094051Z",
     "iopub.status.idle": "2020-09-24T00:06:46.108024Z",
     "shell.execute_reply": "2020-09-24T00:06:46.108561Z"
    },
    "papermill": {
     "duration": 0.049226,
     "end_time": "2020-09-24T00:06:46.108747",
     "exception": false,
     "start_time": "2020-09-24T00:06:46.059521",
     "status": "completed"
    },
    "tags": []
   },
   "outputs": [],
   "source": [
    "class Config:\n",
    "    pass\n",
    "config = Config()\n",
    "config.lr = 0.001\n",
    "config.num_epochs = 251\n",
    "config.bs = 50"
   ]
  },
  {
   "cell_type": "markdown",
   "metadata": {
    "papermill": {
     "duration": 0.029053,
     "end_time": "2020-09-24T00:06:46.165947",
     "exception": false,
     "start_time": "2020-09-24T00:06:46.136894",
     "status": "completed"
    },
    "tags": []
   },
   "source": [
    "### Initializing data to the variables"
   ]
  },
  {
   "cell_type": "code",
   "execution_count": 16,
   "metadata": {
    "execution": {
     "iopub.execute_input": "2020-09-24T00:06:46.233684Z",
     "iopub.status.busy": "2020-09-24T00:06:46.233085Z",
     "iopub.status.idle": "2020-09-24T00:06:46.243123Z",
     "shell.execute_reply": "2020-09-24T00:06:46.243676Z"
    },
    "papermill": {
     "duration": 0.048284,
     "end_time": "2020-09-24T00:06:46.243840",
     "exception": false,
     "start_time": "2020-09-24T00:06:46.195556",
     "status": "completed"
    },
    "tags": []
   },
   "outputs": [],
   "source": [
    "data = Data(X_train, y_train.reshape(-1,1))\n",
    "sampler = Sampler(data, config.bs, shuffle=True)\n",
    "\n",
    "dl = Dataloader(data, sampler)\n",
    "\n",
    "opt = GD(config.lr)\n",
    "loss = MSE()"
   ]
  },
  {
   "cell_type": "code",
   "execution_count": 17,
   "metadata": {
    "execution": {
     "iopub.execute_input": "2020-09-24T00:06:46.318013Z",
     "iopub.status.busy": "2020-09-24T00:06:46.317316Z",
     "iopub.status.idle": "2020-09-24T00:06:46.324853Z",
     "shell.execute_reply": "2020-09-24T00:06:46.325436Z"
    },
    "papermill": {
     "duration": 0.05232,
     "end_time": "2020-09-24T00:06:46.325623",
     "exception": false,
     "start_time": "2020-09-24T00:06:46.273303",
     "status": "completed"
    },
    "tags": []
   },
   "outputs": [],
   "source": [
    "training_xdata = X_train\n",
    "testing_xdata = X_test\n",
    "training_ydata = y_train.reshape(-1,1)\n",
    "testing_ydata = y_test.reshape(-1,1)"
   ]
  },
  {
   "cell_type": "markdown",
   "metadata": {
    "papermill": {
     "duration": 0.031601,
     "end_time": "2020-09-24T00:06:46.388860",
     "exception": false,
     "start_time": "2020-09-24T00:06:46.357259",
     "status": "completed"
    },
    "tags": []
   },
   "source": [
    "### Running Models with the Training data\n",
    "Details about the network layers:\n",
    "- A first affine layer has 784 inputs and does 100 affine transforms. These are followed by a Relu\n",
    "- A second affine layer has 100 inputs from the 100 activations of the past layer, and does 100 affine transforms. These are followed by a Relu\n",
    "- A third affine layer has 100 activations and does 2 affine transformations to create an embedding for visualization. There is no non-linearity here.\n",
    "- A final \"logistic regression\" which has an affine transform from 2 inputs to 1 output, which is squeezed through a sigmoid.\n",
    "\n",
    "Help taken from Anshuman's Notebook."
   ]
  },
  {
   "cell_type": "code",
   "execution_count": 18,
   "metadata": {
    "execution": {
     "iopub.execute_input": "2020-09-24T00:06:46.464999Z",
     "iopub.status.busy": "2020-09-24T00:06:46.457077Z",
     "iopub.status.idle": "2020-09-24T00:06:46.475252Z",
     "shell.execute_reply": "2020-09-24T00:06:46.475779Z"
    },
    "papermill": {
     "duration": 0.055568,
     "end_time": "2020-09-24T00:06:46.475948",
     "exception": false,
     "start_time": "2020-09-24T00:06:46.420380",
     "status": "completed"
    },
    "tags": []
   },
   "outputs": [],
   "source": [
    "# layers for the Neural Network\n",
    "layers = [Affine(\"first\", 784, 100), Relu(\"first\"), Affine(\"second\", 100, 100), Relu(\"second\"), Affine(\"third\", 100, 2), Affine(\"final\", 2, 1), Sigmoid(\"final\")]\n",
    "model_nn = Model(layers)\n",
    "\n",
    "# layers for the Logistic Regression\n",
    "layers_lr = [Affine(\"logits\", 784, 1), Sigmoid(\"sigmoid\")]\n",
    "model_lr = Model(layers_lr)"
   ]
  },
  {
   "cell_type": "code",
   "execution_count": 19,
   "metadata": {
    "execution": {
     "iopub.execute_input": "2020-09-24T00:06:46.558838Z",
     "iopub.status.busy": "2020-09-24T00:06:46.556079Z",
     "iopub.status.idle": "2020-09-24T00:06:46.562304Z",
     "shell.execute_reply": "2020-09-24T00:06:46.562769Z"
    },
    "papermill": {
     "duration": 0.056596,
     "end_time": "2020-09-24T00:06:46.562935",
     "exception": false,
     "start_time": "2020-09-24T00:06:46.506339",
     "status": "completed"
    },
    "tags": []
   },
   "outputs": [],
   "source": [
    "# suffix _nn stands for Neural Network.\n",
    "learner_nn = Learner(loss, model_nn, opt, config.num_epochs)\n",
    "acc_nn = ClfCallback(learner_nn, config.bs, training_xdata , testing_xdata, training_ydata, testing_ydata)\n",
    "learner_nn.set_callbacks([acc_nn])"
   ]
  },
  {
   "cell_type": "code",
   "execution_count": 20,
   "metadata": {
    "execution": {
     "iopub.execute_input": "2020-09-24T00:06:46.629683Z",
     "iopub.status.busy": "2020-09-24T00:06:46.628910Z",
     "iopub.status.idle": "2020-09-24T00:08:48.777435Z",
     "shell.execute_reply": "2020-09-24T00:08:48.778290Z"
    },
    "papermill": {
     "duration": 122.183888,
     "end_time": "2020-09-24T00:08:48.778475",
     "exception": false,
     "start_time": "2020-09-24T00:06:46.594587",
     "status": "completed"
    },
    "tags": []
   },
   "outputs": [
    {
     "name": "stdout",
     "output_type": "stream",
     "text": [
      "====== Neural Network ======\n"
     ]
    },
    {
     "name": "stdout",
     "output_type": "stream",
     "text": [
      "Epoch 0, Loss 0.2434\n",
      "Training Accuracy: 0.7041, Testing Accuracy: 0.7188\n",
      "\n"
     ]
    },
    {
     "name": "stdout",
     "output_type": "stream",
     "text": [
      "Epoch 10, Loss 0.1657\n",
      "Training Accuracy: 0.8892, Testing Accuracy: 0.8992\n",
      "\n"
     ]
    },
    {
     "name": "stdout",
     "output_type": "stream",
     "text": [
      "Epoch 20, Loss 0.0806\n",
      "Training Accuracy: 0.9253, Testing Accuracy: 0.9330\n",
      "\n"
     ]
    },
    {
     "name": "stdout",
     "output_type": "stream",
     "text": [
      "Epoch 30, Loss 0.0542\n",
      "Training Accuracy: 0.9430, Testing Accuracy: 0.9496\n",
      "\n"
     ]
    },
    {
     "name": "stdout",
     "output_type": "stream",
     "text": [
      "Epoch 40, Loss 0.0438\n",
      "Training Accuracy: 0.9510, Testing Accuracy: 0.9572\n",
      "\n"
     ]
    },
    {
     "name": "stdout",
     "output_type": "stream",
     "text": [
      "Epoch 50, Loss 0.0385\n",
      "Training Accuracy: 0.9557, Testing Accuracy: 0.9597\n",
      "\n"
     ]
    },
    {
     "name": "stdout",
     "output_type": "stream",
     "text": [
      "Epoch 60, Loss 0.0352\n",
      "Training Accuracy: 0.9588, Testing Accuracy: 0.9622\n",
      "\n"
     ]
    },
    {
     "name": "stdout",
     "output_type": "stream",
     "text": [
      "Epoch 70, Loss 0.0329\n",
      "Training Accuracy: 0.9616, Testing Accuracy: 0.9652\n",
      "\n"
     ]
    },
    {
     "name": "stdout",
     "output_type": "stream",
     "text": [
      "Epoch 80, Loss 0.0311\n",
      "Training Accuracy: 0.9632, Testing Accuracy: 0.9662\n",
      "\n"
     ]
    },
    {
     "name": "stdout",
     "output_type": "stream",
     "text": [
      "Epoch 90, Loss 0.0297\n",
      "Training Accuracy: 0.9652, Testing Accuracy: 0.9667\n",
      "\n"
     ]
    },
    {
     "name": "stdout",
     "output_type": "stream",
     "text": [
      "Epoch 100, Loss 0.0286\n",
      "Training Accuracy: 0.9665, Testing Accuracy: 0.9667\n",
      "\n"
     ]
    },
    {
     "name": "stdout",
     "output_type": "stream",
     "text": [
      "Epoch 110, Loss 0.0276\n",
      "Training Accuracy: 0.9677, Testing Accuracy: 0.9672\n",
      "\n"
     ]
    },
    {
     "name": "stdout",
     "output_type": "stream",
     "text": [
      "Epoch 120, Loss 0.0268\n",
      "Training Accuracy: 0.9686, Testing Accuracy: 0.9672\n",
      "\n"
     ]
    },
    {
     "name": "stdout",
     "output_type": "stream",
     "text": [
      "Epoch 130, Loss 0.026\n",
      "Training Accuracy: 0.9695, Testing Accuracy: 0.9688\n",
      "\n"
     ]
    },
    {
     "name": "stdout",
     "output_type": "stream",
     "text": [
      "Epoch 140, Loss 0.0254\n",
      "Training Accuracy: 0.9703, Testing Accuracy: 0.9708\n",
      "\n"
     ]
    },
    {
     "name": "stdout",
     "output_type": "stream",
     "text": [
      "Epoch 150, Loss 0.0248\n",
      "Training Accuracy: 0.9708, Testing Accuracy: 0.9708\n",
      "\n"
     ]
    },
    {
     "name": "stdout",
     "output_type": "stream",
     "text": [
      "Epoch 160, Loss 0.0242\n",
      "Training Accuracy: 0.9716, Testing Accuracy: 0.9713\n",
      "\n"
     ]
    },
    {
     "name": "stdout",
     "output_type": "stream",
     "text": [
      "Epoch 170, Loss 0.0237\n",
      "Training Accuracy: 0.9726, Testing Accuracy: 0.9713\n",
      "\n"
     ]
    },
    {
     "name": "stdout",
     "output_type": "stream",
     "text": [
      "Epoch 180, Loss 0.0232\n",
      "Training Accuracy: 0.9734, Testing Accuracy: 0.9703\n",
      "\n"
     ]
    },
    {
     "name": "stdout",
     "output_type": "stream",
     "text": [
      "Epoch 190, Loss 0.0227\n",
      "Training Accuracy: 0.9736, Testing Accuracy: 0.9713\n",
      "\n"
     ]
    },
    {
     "name": "stdout",
     "output_type": "stream",
     "text": [
      "Epoch 200, Loss 0.0223\n",
      "Training Accuracy: 0.9743, Testing Accuracy: 0.9708\n",
      "\n"
     ]
    },
    {
     "name": "stdout",
     "output_type": "stream",
     "text": [
      "Epoch 210, Loss 0.0219\n",
      "Training Accuracy: 0.9746, Testing Accuracy: 0.9708\n",
      "\n"
     ]
    },
    {
     "name": "stdout",
     "output_type": "stream",
     "text": [
      "Epoch 220, Loss 0.0215\n",
      "Training Accuracy: 0.9751, Testing Accuracy: 0.9708\n",
      "\n"
     ]
    },
    {
     "name": "stdout",
     "output_type": "stream",
     "text": [
      "Epoch 230, Loss 0.0211\n",
      "Training Accuracy: 0.9756, Testing Accuracy: 0.9708\n",
      "\n"
     ]
    },
    {
     "name": "stdout",
     "output_type": "stream",
     "text": [
      "Epoch 240, Loss 0.0207\n",
      "Training Accuracy: 0.9760, Testing Accuracy: 0.9713\n",
      "\n"
     ]
    },
    {
     "name": "stdout",
     "output_type": "stream",
     "text": [
      "Epoch 250, Loss 0.0204\n",
      "Training Accuracy: 0.9767, Testing Accuracy: 0.9718\n",
      "\n"
     ]
    },
    {
     "data": {
      "text/plain": [
       "0.006400546166619635"
      ]
     },
     "execution_count": 20,
     "metadata": {},
     "output_type": "execute_result"
    }
   ],
   "source": [
    "print(\"====== Neural Network ======\")\n",
    "learner_nn.train_loop(dl)"
   ]
  },
  {
   "cell_type": "markdown",
   "metadata": {
    "papermill": {
     "duration": 0.039169,
     "end_time": "2020-09-24T00:08:48.856915",
     "exception": false,
     "start_time": "2020-09-24T00:08:48.817746",
     "status": "completed"
    },
    "tags": []
   },
   "source": [
    "### Logistic Regression based Implementation."
   ]
  },
  {
   "cell_type": "code",
   "execution_count": 21,
   "metadata": {
    "execution": {
     "iopub.execute_input": "2020-09-24T00:08:48.949943Z",
     "iopub.status.busy": "2020-09-24T00:08:48.949231Z",
     "iopub.status.idle": "2020-09-24T00:08:48.955809Z",
     "shell.execute_reply": "2020-09-24T00:08:48.956717Z"
    },
    "papermill": {
     "duration": 0.058852,
     "end_time": "2020-09-24T00:08:48.956867",
     "exception": false,
     "start_time": "2020-09-24T00:08:48.898015",
     "status": "completed"
    },
    "tags": []
   },
   "outputs": [],
   "source": [
    "learner_lr = Learner(loss, model_lr, opt, config.num_epochs)\n",
    "acc_lr = ClfCallback(learner_lr, config.bs, training_xdata , testing_xdata, training_ydata, testing_ydata)\n",
    "learner_lr.set_callbacks([acc_lr])"
   ]
  },
  {
   "cell_type": "code",
   "execution_count": 22,
   "metadata": {
    "execution": {
     "iopub.execute_input": "2020-09-24T00:08:49.040206Z",
     "iopub.status.busy": "2020-09-24T00:08:49.039418Z",
     "iopub.status.idle": "2020-09-24T00:09:08.752093Z",
     "shell.execute_reply": "2020-09-24T00:09:08.752630Z"
    },
    "papermill": {
     "duration": 19.755497,
     "end_time": "2020-09-24T00:09:08.752823",
     "exception": false,
     "start_time": "2020-09-24T00:08:48.997326",
     "status": "completed"
    },
    "tags": []
   },
   "outputs": [
    {
     "name": "stdout",
     "output_type": "stream",
     "text": [
      "====== Logistic Regression ======\n",
      "Epoch 0, Loss 0.1984\n",
      "Training Accuracy: 0.8384, Testing Accuracy: 0.8417\n",
      "\n"
     ]
    },
    {
     "name": "stdout",
     "output_type": "stream",
     "text": [
      "Epoch 10, Loss 0.097\n",
      "Training Accuracy: 0.9165, Testing Accuracy: 0.9264\n",
      "\n"
     ]
    },
    {
     "name": "stdout",
     "output_type": "stream",
     "text": [
      "Epoch 20, Loss 0.0766\n",
      "Training Accuracy: 0.9326, Testing Accuracy: 0.9415\n",
      "\n"
     ]
    },
    {
     "name": "stdout",
     "output_type": "stream",
     "text": [
      "Epoch 30, Loss 0.0666\n",
      "Training Accuracy: 0.9401, Testing Accuracy: 0.9461\n",
      "\n"
     ]
    },
    {
     "name": "stdout",
     "output_type": "stream",
     "text": [
      "Epoch 40, Loss 0.0605\n",
      "Training Accuracy: 0.9426, Testing Accuracy: 0.9521\n",
      "\n"
     ]
    },
    {
     "name": "stdout",
     "output_type": "stream",
     "text": [
      "Epoch 50, Loss 0.0562\n",
      "Training Accuracy: 0.9457, Testing Accuracy: 0.9546\n",
      "\n"
     ]
    },
    {
     "name": "stdout",
     "output_type": "stream",
     "text": [
      "Epoch 60, Loss 0.0531\n",
      "Training Accuracy: 0.9479, Testing Accuracy: 0.9567\n",
      "\n"
     ]
    },
    {
     "name": "stdout",
     "output_type": "stream",
     "text": [
      "Epoch 70, Loss 0.0506\n",
      "Training Accuracy: 0.9499, Testing Accuracy: 0.9567\n",
      "\n"
     ]
    },
    {
     "name": "stdout",
     "output_type": "stream",
     "text": [
      "Epoch 80, Loss 0.0486\n",
      "Training Accuracy: 0.9518, Testing Accuracy: 0.9597\n",
      "\n"
     ]
    },
    {
     "name": "stdout",
     "output_type": "stream",
     "text": [
      "Epoch 90, Loss 0.047\n",
      "Training Accuracy: 0.9530, Testing Accuracy: 0.9602\n",
      "\n"
     ]
    },
    {
     "name": "stdout",
     "output_type": "stream",
     "text": [
      "Epoch 100, Loss 0.0456\n",
      "Training Accuracy: 0.9535, Testing Accuracy: 0.9622\n",
      "\n"
     ]
    },
    {
     "name": "stdout",
     "output_type": "stream",
     "text": [
      "Epoch 110, Loss 0.0444\n",
      "Training Accuracy: 0.9546, Testing Accuracy: 0.9627\n",
      "\n"
     ]
    },
    {
     "name": "stdout",
     "output_type": "stream",
     "text": [
      "Epoch 120, Loss 0.0434\n",
      "Training Accuracy: 0.9554, Testing Accuracy: 0.9632\n",
      "\n"
     ]
    },
    {
     "name": "stdout",
     "output_type": "stream",
     "text": [
      "Epoch 130, Loss 0.0425\n",
      "Training Accuracy: 0.9564, Testing Accuracy: 0.9647\n",
      "\n"
     ]
    },
    {
     "name": "stdout",
     "output_type": "stream",
     "text": [
      "Epoch 140, Loss 0.0417\n",
      "Training Accuracy: 0.9567, Testing Accuracy: 0.9652\n",
      "\n"
     ]
    },
    {
     "name": "stdout",
     "output_type": "stream",
     "text": [
      "Epoch 150, Loss 0.041\n",
      "Training Accuracy: 0.9572, Testing Accuracy: 0.9652\n",
      "\n"
     ]
    },
    {
     "name": "stdout",
     "output_type": "stream",
     "text": [
      "Epoch 160, Loss 0.0403\n",
      "Training Accuracy: 0.9579, Testing Accuracy: 0.9652\n",
      "\n"
     ]
    },
    {
     "name": "stdout",
     "output_type": "stream",
     "text": [
      "Epoch 170, Loss 0.0397\n",
      "Training Accuracy: 0.9583, Testing Accuracy: 0.9652\n",
      "\n"
     ]
    },
    {
     "name": "stdout",
     "output_type": "stream",
     "text": [
      "Epoch 180, Loss 0.0391\n",
      "Training Accuracy: 0.9591, Testing Accuracy: 0.9657\n",
      "\n"
     ]
    },
    {
     "name": "stdout",
     "output_type": "stream",
     "text": [
      "Epoch 190, Loss 0.0386\n",
      "Training Accuracy: 0.9594, Testing Accuracy: 0.9662\n",
      "\n"
     ]
    },
    {
     "name": "stdout",
     "output_type": "stream",
     "text": [
      "Epoch 200, Loss 0.0382\n",
      "Training Accuracy: 0.9598, Testing Accuracy: 0.9662\n",
      "\n"
     ]
    },
    {
     "name": "stdout",
     "output_type": "stream",
     "text": [
      "Epoch 210, Loss 0.0377\n",
      "Training Accuracy: 0.9603, Testing Accuracy: 0.9667\n",
      "\n"
     ]
    },
    {
     "name": "stdout",
     "output_type": "stream",
     "text": [
      "Epoch 220, Loss 0.0373\n",
      "Training Accuracy: 0.9608, Testing Accuracy: 0.9667\n",
      "\n"
     ]
    },
    {
     "name": "stdout",
     "output_type": "stream",
     "text": [
      "Epoch 230, Loss 0.037\n",
      "Training Accuracy: 0.9613, Testing Accuracy: 0.9677\n",
      "\n"
     ]
    },
    {
     "name": "stdout",
     "output_type": "stream",
     "text": [
      "Epoch 240, Loss 0.0366\n",
      "Training Accuracy: 0.9616, Testing Accuracy: 0.9677\n",
      "\n"
     ]
    },
    {
     "name": "stdout",
     "output_type": "stream",
     "text": [
      "Epoch 250, Loss 0.0363\n",
      "Training Accuracy: 0.9619, Testing Accuracy: 0.9672\n",
      "\n"
     ]
    },
    {
     "data": {
      "text/plain": [
       "0.04491603561774209"
      ]
     },
     "execution_count": 22,
     "metadata": {},
     "output_type": "execute_result"
    }
   ],
   "source": [
    "print(\"====== Logistic Regression ======\")\n",
    "learner_lr.train_loop(dl)"
   ]
  },
  {
   "cell_type": "markdown",
   "metadata": {
    "papermill": {
     "duration": 0.049236,
     "end_time": "2020-09-24T00:09:08.854443",
     "exception": false,
     "start_time": "2020-09-24T00:09:08.805207",
     "status": "completed"
    },
    "tags": []
   },
   "source": [
    "### Comparing results of NN and LR"
   ]
  },
  {
   "cell_type": "code",
   "execution_count": 23,
   "metadata": {
    "execution": {
     "iopub.execute_input": "2020-09-24T00:09:08.960932Z",
     "iopub.status.busy": "2020-09-24T00:09:08.960244Z",
     "iopub.status.idle": "2020-09-24T00:09:09.236544Z",
     "shell.execute_reply": "2020-09-24T00:09:09.234845Z"
    },
    "papermill": {
     "duration": 0.331929,
     "end_time": "2020-09-24T00:09:09.236699",
     "exception": false,
     "start_time": "2020-09-24T00:09:08.904770",
     "status": "completed"
    },
    "tags": []
   },
   "outputs": [
    {
     "data": {
      "text/plain": [
       "<matplotlib.legend.Legend at 0x7f2b300ce278>"
      ]
     },
     "execution_count": 23,
     "metadata": {},
     "output_type": "execute_result"
    },
    {
     "data": {
      "image/png": "[encoded data removed]",
      "text/plain": [
       "<Figure size 1080x720 with 1 Axes>"
      ]
     },
     "metadata": {
      "needs_background": "light"
     },
     "output_type": "display_data"
    }
   ],
   "source": [
    "plt.figure(figsize=(15,10))\n",
    "\n",
    "# Neural Network plots\n",
    "plt.plot(acc_nn.accuracies, 'r-', label = \"Training Accuracies - NN\")\n",
    "plt.plot(acc_nn.test_accuracies, 'g-', label = \"Testing Accuracies - NN\")\n",
    "\n",
    "# Logistic Regression plots\n",
    "plt.plot(acc_lr.accuracies, 'k-', label = \"Training Accuracies - LR\")\n",
    "plt.plot(acc_lr.test_accuracies, 'b-', label = \"Testing Accuracies - LR\")\n",
    "\n",
    "plt.ylim(0.8, 1)\n",
    "\n",
    "plt.legend()\n",
    "\n"
   ]
  },
  {
   "cell_type": "markdown",
   "metadata": {
    "papermill": {
     "duration": 0.052188,
     "end_time": "2020-09-24T00:09:09.345087",
     "exception": false,
     "start_time": "2020-09-24T00:09:09.292899",
     "status": "completed"
    },
    "tags": []
   },
   "source": [
    "### From the plot, we can observe the following:\n",
    "- Neural Network achieves higher accuracy than the Logistic Regression model.\n",
    "- This apparently, is because of overfitting, i.e. NN captures more noise than data.\n",
    "- Testing accuracy of NN drops below the Training accuracy at higher epochs. This explains the over-fitting on training data.\n",
    "- Logistic Regression gives a reliable accuracy, without the above mentioned problem.\n"
   ]
  },
  {
   "cell_type": "markdown",
   "metadata": {
    "papermill": {
     "duration": 0.067933,
     "end_time": "2020-09-24T00:09:09.464484",
     "exception": false,
     "start_time": "2020-09-24T00:09:09.396551",
     "status": "completed"
    },
    "tags": []
   },
   "source": [
    "### Moving till the last but one layer (excluding it).\n",
    "#### Plotting the outputs of this layer of the NN."
   ]
  },
  {
   "cell_type": "code",
   "execution_count": 24,
   "metadata": {
    "execution": {
     "iopub.execute_input": "2020-09-24T00:09:09.589195Z",
     "iopub.status.busy": "2020-09-24T00:09:09.587961Z",
     "iopub.status.idle": "2020-09-24T00:09:09.601349Z",
     "shell.execute_reply": "2020-09-24T00:09:09.601935Z"
    },
    "papermill": {
     "duration": 0.076978,
     "end_time": "2020-09-24T00:09:09.602133",
     "exception": false,
     "start_time": "2020-09-24T00:09:09.525155",
     "status": "completed"
    },
    "tags": []
   },
   "outputs": [],
   "source": [
    "model_new = Model(layers[:-2])"
   ]
  },
  {
   "cell_type": "code",
   "execution_count": 25,
   "metadata": {
    "execution": {
     "iopub.execute_input": "2020-09-24T00:09:09.726813Z",
     "iopub.status.busy": "2020-09-24T00:09:09.726131Z",
     "iopub.status.idle": "2020-09-24T00:09:09.750810Z",
     "shell.execute_reply": "2020-09-24T00:09:09.751429Z"
    },
    "papermill": {
     "duration": 0.088559,
     "end_time": "2020-09-24T00:09:09.751640",
     "exception": false,
     "start_time": "2020-09-24T00:09:09.663081",
     "status": "completed"
    },
    "tags": []
   },
   "outputs": [],
   "source": [
    "plot_testing = model_new(testing_xdata)"
   ]
  },
  {
   "cell_type": "code",
   "execution_count": 26,
   "metadata": {
    "execution": {
     "iopub.execute_input": "2020-09-24T00:09:09.862769Z",
     "iopub.status.busy": "2020-09-24T00:09:09.862088Z",
     "iopub.status.idle": "2020-09-24T00:09:10.166814Z",
     "shell.execute_reply": "2020-09-24T00:09:10.167384Z"
    },
    "papermill": {
     "duration": 0.364577,
     "end_time": "2020-09-24T00:09:10.167575",
     "exception": false,
     "start_time": "2020-09-24T00:09:09.802998",
     "status": "completed"
    },
    "tags": []
   },
   "outputs": [
    {
     "data": {
      "text/plain": [
       "Text(0.5, 1.0, 'Outputs')"
      ]
     },
     "execution_count": 26,
     "metadata": {},
     "output_type": "execute_result"
    },
    {
     "data": {
      "image/png": "[encoded data removed]",
      "text/plain": [
       "<Figure size 576x504 with 1 Axes>"
      ]
     },
     "metadata": {
      "needs_background": "light"
     },
     "output_type": "display_data"
    }
   ],
   "source": [
    "plt.figure(figsize=(8,7))\n",
    "plt.scatter(plot_testing[:,0], plot_testing[:,1], alpha = 0.1, c = y_test.ravel());\n",
    "plt.title('Outputs')"
   ]
  },
  {
   "cell_type": "markdown",
   "metadata": {
    "papermill": {
     "duration": 0.053253,
     "end_time": "2020-09-24T00:09:10.275213",
     "exception": false,
     "start_time": "2020-09-24T00:09:10.221960",
     "status": "completed"
    },
    "tags": []
   },
   "source": [
    "### Plotting probability contours"
   ]
  },
  {
   "cell_type": "code",
   "execution_count": 27,
   "metadata": {
    "execution": {
     "iopub.execute_input": "2020-09-24T00:09:10.390316Z",
     "iopub.status.busy": "2020-09-24T00:09:10.389634Z",
     "iopub.status.idle": "2020-09-24T00:09:10.400415Z",
     "shell.execute_reply": "2020-09-24T00:09:10.400953Z"
    },
    "papermill": {
     "duration": 0.072541,
     "end_time": "2020-09-24T00:09:10.401137",
     "exception": false,
     "start_time": "2020-09-24T00:09:10.328596",
     "status": "completed"
    },
    "tags": []
   },
   "outputs": [],
   "source": [
    "model_prob = Model(layers[-2:]) "
   ]
  },
  {
   "cell_type": "code",
   "execution_count": 28,
   "metadata": {
    "execution": {
     "iopub.execute_input": "2020-09-24T00:09:10.538101Z",
     "iopub.status.busy": "2020-09-24T00:09:10.537397Z",
     "iopub.status.idle": "2020-09-24T00:09:10.551237Z",
     "shell.execute_reply": "2020-09-24T00:09:10.550667Z"
    },
    "papermill": {
     "duration": 0.08703,
     "end_time": "2020-09-24T00:09:10.551394",
     "exception": false,
     "start_time": "2020-09-24T00:09:10.464364",
     "status": "completed"
    },
    "tags": []
   },
   "outputs": [],
   "source": [
    "# Adjust the x and y ranges according to the above generated plot.\n",
    "x_range = np.linspace(-4, 1, 100) \n",
    "y_range = np.linspace(-6, 6, 100) \n",
    "x_grid, y_grid = np.meshgrid(x_range, y_range) # x_grid and y_grig are of size 100 X 100\n",
    "\n",
    "# converting x_grid and y_grid to continuous arrays\n",
    "x_grid_flat = np.ravel(x_grid)\n",
    "y_grid_flat = np.ravel(y_grid)\n",
    "\n",
    "# The last layer of the current model takes two columns as input. Hence transpose of np.vstack() is required.\n",
    "X = np.vstack((x_grid_flat, y_grid_flat)).T\n",
    "\n",
    "# x_grid and y_grid are of size 100 x 100\n",
    "probability_contour = model_prob(X).reshape(100,100) "
   ]
  },
  {
   "cell_type": "code",
   "execution_count": 29,
   "metadata": {
    "execution": {
     "iopub.execute_input": "2020-09-24T00:09:10.665743Z",
     "iopub.status.busy": "2020-09-24T00:09:10.665049Z",
     "iopub.status.idle": "2020-09-24T00:09:11.015901Z",
     "shell.execute_reply": "2020-09-24T00:09:11.015323Z"
    },
    "papermill": {
     "duration": 0.411502,
     "end_time": "2020-09-24T00:09:11.016064",
     "exception": false,
     "start_time": "2020-09-24T00:09:10.604562",
     "status": "completed"
    },
    "tags": []
   },
   "outputs": [
    {
     "data": {
      "image/png": "[encoded data removed]",
      "text/plain": [
       "<Figure size 720x648 with 1 Axes>"
      ]
     },
     "metadata": {
      "needs_background": "light"
     },
     "output_type": "display_data"
    }
   ],
   "source": [
    "plt.figure(figsize=(10,9))\n",
    "plt.scatter(plot_testing[:,0], plot_testing[:,1], alpha = 0.1, c = y_test.ravel())\n",
    "contours = plt.contour(x_grid,y_grid,probability_contour)\n",
    "plt.title('Probability Contours')\n",
    "plt.clabel(contours, inline = True );"
   ]
  }
 ],
 "metadata": {
  "kernelspec": {
   "display_name": "Python 3",
   "language": "python",
   "name": "python3"
  },
  "language_info": {
   "codemirror_mode": {
    "name": "ipython",
    "version": 3
   },
   "file_extension": ".py",
   "mimetype": "text/x-python",
   "name": "python",
   "nbconvert_exporter": "python",
   "pygments_lexer": "ipython3",
   "version": "3.6.12"
  },
  "papermill": {
   "duration": 153.404463,
   "end_time": "2020-09-24T00:09:11.617379",
   "environment_variables": {},
   "exception": null,
   "input_path": "2020-08-11-NeuralNetwork.ipynb",
   "output_path": "2020-08-11-NeuralNetwork.ipynb",
   "parameters": {},
   "start_time": "2020-09-24T00:06:38.212916",
   "version": "2.1.2"
  }
 },
 "nbformat": 4,
 "nbformat_minor": 4
}