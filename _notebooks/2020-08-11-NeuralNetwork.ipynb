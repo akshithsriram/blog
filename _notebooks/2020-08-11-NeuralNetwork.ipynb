{
 "cells": [
  {
   "cell_type": "markdown",
   "metadata": {
    "papermill": {
     "duration": 0.028716,
     "end_time": "2020-09-29T10:04:55.177522",
     "exception": false,
     "start_time": "2020-09-29T10:04:55.148806",
     "status": "completed"
    },
    "tags": []
   },
   "source": [
    "# \"A Basic Neural Network: Differentiate Hand-Written Digits\"\n",
    "\n",
    "- badges: true\n",
    "- author: Akshith Sriram"
   ]
  },
  {
   "cell_type": "markdown",
   "metadata": {
    "papermill": {
     "duration": 0.024319,
     "end_time": "2020-09-29T10:04:55.226383",
     "exception": false,
     "start_time": "2020-09-29T10:04:55.202064",
     "status": "completed"
    },
    "tags": []
   },
   "source": [
    "### Key Objectives:\n",
    "- Building a neural network that differentiates two hand-written digits 3 and 8.\n",
    "- Comparing the results of this Neural Network (NN) to that of a Logistic Regression (LR) model.\n",
    "\n",
    "### Requirements:\n",
    "- 'Kudzu' : A neural network library that was designed during our course by [Univ.AI](www.univ.ai). \n",
    "- MNIST Database\n",
    "\n",
    "If MNIST is not installed, use the command `!pip install mnist` given below.\n",
    "It can be run both from the command line and Jupyter Notebook."
   ]
  },
  {
   "cell_type": "code",
   "execution_count": 1,
   "metadata": {
    "execution": {
     "iopub.execute_input": "2020-09-29T10:04:55.282077Z",
     "iopub.status.busy": "2020-09-29T10:04:55.281430Z",
     "iopub.status.idle": "2020-09-29T10:04:56.692045Z",
     "shell.execute_reply": "2020-09-29T10:04:56.691031Z"
    },
    "papermill": {
     "duration": 1.440699,
     "end_time": "2020-09-29T10:04:56.692200",
     "exception": false,
     "start_time": "2020-09-29T10:04:55.251501",
     "status": "completed"
    },
    "tags": []
   },
   "outputs": [
    {
     "name": "stdout",
     "output_type": "stream",
     "text": [
      "Collecting mnist\r\n",
      "  Downloading mnist-0.2.2-py2.py3-none-any.whl (3.5 kB)\r\n"
     ]
    },
    {
     "name": "stdout",
     "output_type": "stream",
     "text": [
      "Requirement already satisfied: numpy in /opt/hostedtoolcache/Python/3.6.12/x64/lib/python3.6/site-packages (from mnist) (1.19.2)\r\n"
     ]
    },
    {
     "name": "stdout",
     "output_type": "stream",
     "text": [
      "Installing collected packages: mnist\r\n"
     ]
    },
    {
     "name": "stdout",
     "output_type": "stream",
     "text": [
      "Successfully installed mnist-0.2.2\r\n"
     ]
    }
   ],
   "source": [
    "!pip install mnist "
   ]
  },
  {
   "cell_type": "markdown",
   "metadata": {
    "papermill": {
     "duration": 0.02744,
     "end_time": "2020-09-29T10:04:56.748078",
     "exception": false,
     "start_time": "2020-09-29T10:04:56.720638",
     "status": "completed"
    },
    "tags": []
   },
   "source": [
    "#### Importing necessary libraries"
   ]
  },
  {
   "cell_type": "code",
   "execution_count": 2,
   "metadata": {
    "execution": {
     "iopub.execute_input": "2020-09-29T10:04:56.813980Z",
     "iopub.status.busy": "2020-09-29T10:04:56.813230Z",
     "iopub.status.idle": "2020-09-29T10:04:57.390470Z",
     "shell.execute_reply": "2020-09-29T10:04:57.389458Z"
    },
    "papermill": {
     "duration": 0.612913,
     "end_time": "2020-09-29T10:04:57.390664",
     "exception": false,
     "start_time": "2020-09-29T10:04:56.777751",
     "status": "completed"
    },
    "tags": []
   },
   "outputs": [],
   "source": [
    "%load_ext autoreload\n",
    "%autoreload 2\n",
    "\n",
    "%matplotlib inline\n",
    "import matplotlib.pyplot as plt\n",
    "\n",
    "import numpy as np\n",
    "import pandas as pd"
   ]
  },
  {
   "cell_type": "markdown",
   "metadata": {
    "papermill": {
     "duration": 0.027349,
     "end_time": "2020-09-29T10:04:57.446771",
     "exception": false,
     "start_time": "2020-09-29T10:04:57.419422",
     "status": "completed"
    },
    "tags": []
   },
   "source": [
    "### Preparing the Data"
   ]
  },
  {
   "cell_type": "code",
   "execution_count": 3,
   "metadata": {
    "execution": {
     "iopub.execute_input": "2020-09-29T10:04:57.780148Z",
     "iopub.status.busy": "2020-09-29T10:04:57.778193Z",
     "iopub.status.idle": "2020-09-29T10:04:57.790035Z",
     "shell.execute_reply": "2020-09-29T10:04:57.790518Z"
    },
    "papermill": {
     "duration": 0.311997,
     "end_time": "2020-09-29T10:04:57.790647",
     "exception": false,
     "start_time": "2020-09-29T10:04:57.478650",
     "status": "completed"
    },
    "tags": []
   },
   "outputs": [],
   "source": [
    "import mnist"
   ]
  },
  {
   "cell_type": "code",
   "execution_count": 4,
   "metadata": {
    "execution": {
     "iopub.execute_input": "2020-09-29T10:04:57.849058Z",
     "iopub.status.busy": "2020-09-29T10:04:57.848304Z",
     "iopub.status.idle": "2020-09-29T10:04:58.590135Z",
     "shell.execute_reply": "2020-09-29T10:04:58.589584Z"
    },
    "papermill": {
     "duration": 0.772191,
     "end_time": "2020-09-29T10:04:58.590266",
     "exception": false,
     "start_time": "2020-09-29T10:04:57.818075",
     "status": "completed"
    },
    "tags": []
   },
   "outputs": [],
   "source": [
    "train_images = mnist.train_images()\n",
    "train_labels = mnist.train_labels()"
   ]
  },
  {
   "cell_type": "code",
   "execution_count": 5,
   "metadata": {
    "execution": {
     "iopub.execute_input": "2020-09-29T10:04:58.647755Z",
     "iopub.status.busy": "2020-09-29T10:04:58.647034Z",
     "iopub.status.idle": "2020-09-29T10:04:58.665620Z",
     "shell.execute_reply": "2020-09-29T10:04:58.666592Z"
    },
    "papermill": {
     "duration": 0.050663,
     "end_time": "2020-09-29T10:04:58.666796",
     "exception": false,
     "start_time": "2020-09-29T10:04:58.616133",
     "status": "completed"
    },
    "tags": []
   },
   "outputs": [
    {
     "data": {
      "text/plain": [
       "((60000, 28, 28), (60000,))"
      ]
     },
     "execution_count": 5,
     "metadata": {},
     "output_type": "execute_result"
    }
   ],
   "source": [
    "train_images.shape, train_labels.shape"
   ]
  },
  {
   "cell_type": "code",
   "execution_count": 6,
   "metadata": {
    "execution": {
     "iopub.execute_input": "2020-09-29T10:04:58.741101Z",
     "iopub.status.busy": "2020-09-29T10:04:58.740523Z",
     "iopub.status.idle": "2020-09-29T10:04:58.979473Z",
     "shell.execute_reply": "2020-09-29T10:04:58.978819Z"
    },
    "papermill": {
     "duration": 0.273544,
     "end_time": "2020-09-29T10:04:58.979614",
     "exception": false,
     "start_time": "2020-09-29T10:04:58.706070",
     "status": "completed"
    },
    "tags": []
   },
   "outputs": [],
   "source": [
    "test_images = mnist.test_images()\n",
    "test_labels = mnist.test_labels()"
   ]
  },
  {
   "cell_type": "code",
   "execution_count": 7,
   "metadata": {
    "execution": {
     "iopub.execute_input": "2020-09-29T10:04:59.047088Z",
     "iopub.status.busy": "2020-09-29T10:04:59.044623Z",
     "iopub.status.idle": "2020-09-29T10:04:59.058853Z",
     "shell.execute_reply": "2020-09-29T10:04:59.058259Z"
    },
    "papermill": {
     "duration": 0.049252,
     "end_time": "2020-09-29T10:04:59.058984",
     "exception": false,
     "start_time": "2020-09-29T10:04:59.009732",
     "status": "completed"
    },
    "tags": []
   },
   "outputs": [
    {
     "data": {
      "text/plain": [
       "((10000, 28, 28), (10000,))"
      ]
     },
     "execution_count": 7,
     "metadata": {},
     "output_type": "execute_result"
    }
   ],
   "source": [
    "test_images.shape, test_labels.shape"
   ]
  },
  {
   "cell_type": "code",
   "execution_count": 8,
   "metadata": {
    "execution": {
     "iopub.execute_input": "2020-09-29T10:04:59.126242Z",
     "iopub.status.busy": "2020-09-29T10:04:59.125602Z",
     "iopub.status.idle": "2020-09-29T10:04:59.317834Z",
     "shell.execute_reply": "2020-09-29T10:04:59.318483Z"
    },
    "papermill": {
     "duration": 0.229526,
     "end_time": "2020-09-29T10:04:59.318727",
     "exception": false,
     "start_time": "2020-09-29T10:04:59.089201",
     "status": "completed"
    },
    "tags": []
   },
   "outputs": [
    {
     "name": "stdout",
     "output_type": "stream",
     "text": [
      "2\n"
     ]
    },
    {
     "data": {
      "text/plain": [
       "<matplotlib.image.AxesImage at 0x7f80004497f0>"
      ]
     },
     "execution_count": 8,
     "metadata": {},
     "output_type": "execute_result"
    },
    {
     "data": {
      "image/png": "[encoded data removed]",
      "text/plain": [
       "<Figure size 432x288 with 1 Axes>"
      ]
     },
     "metadata": {
      "needs_background": "light"
     },
     "output_type": "display_data"
    }
   ],
   "source": [
    "image_index = 7776 # You may select anything up to 60,000\n",
    "print(train_labels[image_index]) \n",
    "plt.imshow(train_images[image_index], cmap='Greys')"
   ]
  },
  {
   "cell_type": "markdown",
   "metadata": {
    "papermill": {
     "duration": 0.033268,
     "end_time": "2020-09-29T10:04:59.383530",
     "exception": false,
     "start_time": "2020-09-29T10:04:59.350262",
     "status": "completed"
    },
    "tags": []
   },
   "source": [
    "## Filter data to get 3 and 8 out"
   ]
  },
  {
   "cell_type": "code",
   "execution_count": 9,
   "metadata": {
    "execution": {
     "iopub.execute_input": "2020-09-29T10:04:59.455928Z",
     "iopub.status.busy": "2020-09-29T10:04:59.455211Z",
     "iopub.status.idle": "2020-09-29T10:04:59.475415Z",
     "shell.execute_reply": "2020-09-29T10:04:59.474825Z"
    },
    "papermill": {
     "duration": 0.059857,
     "end_time": "2020-09-29T10:04:59.475561",
     "exception": false,
     "start_time": "2020-09-29T10:04:59.415704",
     "status": "completed"
    },
    "tags": []
   },
   "outputs": [],
   "source": [
    "train_filter = np.where((train_labels == 3 ) | (train_labels == 8))\n",
    "test_filter = np.where((test_labels == 3) | (test_labels == 8))\n",
    "X_train, y_train = train_images[train_filter], train_labels[train_filter]\n",
    "X_test, y_test = test_images[test_filter], test_labels[test_filter]"
   ]
  },
  {
   "cell_type": "markdown",
   "metadata": {
    "papermill": {
     "duration": 0.029688,
     "end_time": "2020-09-29T10:04:59.537937",
     "exception": false,
     "start_time": "2020-09-29T10:04:59.508249",
     "status": "completed"
    },
    "tags": []
   },
   "source": [
    "We normalize the pixel values in the 0 to 1 range"
   ]
  },
  {
   "cell_type": "code",
   "execution_count": 10,
   "metadata": {
    "execution": {
     "iopub.execute_input": "2020-09-29T10:04:59.606381Z",
     "iopub.status.busy": "2020-09-29T10:04:59.605708Z",
     "iopub.status.idle": "2020-09-29T10:04:59.668655Z",
     "shell.execute_reply": "2020-09-29T10:04:59.668112Z"
    },
    "papermill": {
     "duration": 0.099433,
     "end_time": "2020-09-29T10:04:59.668825",
     "exception": false,
     "start_time": "2020-09-29T10:04:59.569392",
     "status": "completed"
    },
    "tags": []
   },
   "outputs": [],
   "source": [
    "X_train = X_train/255.\n",
    "X_test = X_test/255."
   ]
  },
  {
   "cell_type": "markdown",
   "metadata": {
    "papermill": {
     "duration": 0.030846,
     "end_time": "2020-09-29T10:04:59.731653",
     "exception": false,
     "start_time": "2020-09-29T10:04:59.700807",
     "status": "completed"
    },
    "tags": []
   },
   "source": [
    "Setup the labels as 1 (when the digit is 3) and 0 (when the digit is 8)"
   ]
  },
  {
   "cell_type": "code",
   "execution_count": 11,
   "metadata": {
    "execution": {
     "iopub.execute_input": "2020-09-29T10:04:59.800607Z",
     "iopub.status.busy": "2020-09-29T10:04:59.800021Z",
     "iopub.status.idle": "2020-09-29T10:04:59.809278Z",
     "shell.execute_reply": "2020-09-29T10:04:59.808684Z"
    },
    "papermill": {
     "duration": 0.048001,
     "end_time": "2020-09-29T10:04:59.809400",
     "exception": false,
     "start_time": "2020-09-29T10:04:59.761399",
     "status": "completed"
    },
    "tags": []
   },
   "outputs": [],
   "source": [
    "y_train = 1*(y_train==3)\n",
    "y_test = 1*(y_test==3)"
   ]
  },
  {
   "cell_type": "code",
   "execution_count": 12,
   "metadata": {
    "execution": {
     "iopub.execute_input": "2020-09-29T10:04:59.874093Z",
     "iopub.status.busy": "2020-09-29T10:04:59.873346Z",
     "iopub.status.idle": "2020-09-29T10:04:59.886349Z",
     "shell.execute_reply": "2020-09-29T10:04:59.886865Z"
    },
    "papermill": {
     "duration": 0.048075,
     "end_time": "2020-09-29T10:04:59.887088",
     "exception": false,
     "start_time": "2020-09-29T10:04:59.839013",
     "status": "completed"
    },
    "tags": []
   },
   "outputs": [
    {
     "data": {
      "text/plain": [
       "((11982, 28, 28), (1984, 28, 28))"
      ]
     },
     "execution_count": 12,
     "metadata": {},
     "output_type": "execute_result"
    }
   ],
   "source": [
    "X_train.shape, X_test.shape"
   ]
  },
  {
   "cell_type": "markdown",
   "metadata": {
    "papermill": {
     "duration": 0.028075,
     "end_time": "2020-09-29T10:04:59.945145",
     "exception": false,
     "start_time": "2020-09-29T10:04:59.917070",
     "status": "completed"
    },
    "tags": []
   },
   "source": [
    "### Reshape the input data to create a linear array"
   ]
  },
  {
   "cell_type": "code",
   "execution_count": 13,
   "metadata": {
    "execution": {
     "iopub.execute_input": "2020-09-29T10:05:00.012027Z",
     "iopub.status.busy": "2020-09-29T10:05:00.011339Z",
     "iopub.status.idle": "2020-09-29T10:05:00.026465Z",
     "shell.execute_reply": "2020-09-29T10:05:00.025851Z"
    },
    "papermill": {
     "duration": 0.051333,
     "end_time": "2020-09-29T10:05:00.026636",
     "exception": false,
     "start_time": "2020-09-29T10:04:59.975303",
     "status": "completed"
    },
    "tags": []
   },
   "outputs": [
    {
     "data": {
      "text/plain": [
       "((11982, 784), (1984, 784))"
      ]
     },
     "execution_count": 13,
     "metadata": {},
     "output_type": "execute_result"
    }
   ],
   "source": [
    "X_train = X_train.reshape(X_train.shape[0], -1)\n",
    "X_test = X_test.reshape(X_test.shape[0], -1)\n",
    "X_train.shape, X_test.shape"
   ]
  },
  {
   "cell_type": "markdown",
   "metadata": {
    "papermill": {
     "duration": 0.03359,
     "end_time": "2020-09-29T10:05:00.092982",
     "exception": false,
     "start_time": "2020-09-29T10:05:00.059392",
     "status": "completed"
    },
    "tags": []
   },
   "source": [
    "### Importing appropriate functions from 'Kudzu'"
   ]
  },
  {
   "cell_type": "code",
   "execution_count": 14,
   "metadata": {
    "execution": {
     "iopub.execute_input": "2020-09-29T10:05:00.163355Z",
     "iopub.status.busy": "2020-09-29T10:05:00.162707Z",
     "iopub.status.idle": "2020-09-29T10:05:00.182714Z",
     "shell.execute_reply": "2020-09-29T10:05:00.182137Z"
    },
    "papermill": {
     "duration": 0.056421,
     "end_time": "2020-09-29T10:05:00.182846",
     "exception": false,
     "start_time": "2020-09-29T10:05:00.126425",
     "status": "completed"
    },
    "tags": []
   },
   "outputs": [],
   "source": [
    "from kudzu.layer import Sigmoid\n",
    "from kudzu.layer import Relu\n",
    "from kudzu.layer import Affine, Sigmoid\n",
    "\n",
    "from kudzu.model import Model\n",
    "from kudzu.train import Learner\n",
    "from kudzu.optim import GD\n",
    "from kudzu.data import Data, Dataloader, Sampler\n",
    "\n",
    "from kudzu.callbacks import AccCallback\n",
    "from kudzu.callbacks import ClfCallback\n",
    "\n",
    "from kudzu.loss import MSE"
   ]
  },
  {
   "cell_type": "markdown",
   "metadata": {
    "papermill": {
     "duration": 0.032476,
     "end_time": "2020-09-29T10:05:00.246719",
     "exception": false,
     "start_time": "2020-09-29T10:05:00.214243",
     "status": "completed"
    },
    "tags": []
   },
   "source": [
    "### Let us create a `Config` class, to store important parameters. \n",
    "This class essentially plays the role of a dictionary."
   ]
  },
  {
   "cell_type": "code",
   "execution_count": 15,
   "metadata": {
    "execution": {
     "iopub.execute_input": "2020-09-29T10:05:00.326960Z",
     "iopub.status.busy": "2020-09-29T10:05:00.325399Z",
     "iopub.status.idle": "2020-09-29T10:05:00.329084Z",
     "shell.execute_reply": "2020-09-29T10:05:00.329556Z"
    },
    "papermill": {
     "duration": 0.052351,
     "end_time": "2020-09-29T10:05:00.329689",
     "exception": false,
     "start_time": "2020-09-29T10:05:00.277338",
     "status": "completed"
    },
    "tags": []
   },
   "outputs": [],
   "source": [
    "class Config:\n",
    "    pass\n",
    "config = Config()\n",
    "config.lr = 0.001\n",
    "config.num_epochs = 251\n",
    "config.bs = 50"
   ]
  },
  {
   "cell_type": "markdown",
   "metadata": {
    "papermill": {
     "duration": 0.034047,
     "end_time": "2020-09-29T10:05:00.392719",
     "exception": false,
     "start_time": "2020-09-29T10:05:00.358672",
     "status": "completed"
    },
    "tags": []
   },
   "source": [
    "### Initializing data to the variables"
   ]
  },
  {
   "cell_type": "code",
   "execution_count": 16,
   "metadata": {
    "execution": {
     "iopub.execute_input": "2020-09-29T10:05:00.466813Z",
     "iopub.status.busy": "2020-09-29T10:05:00.455556Z",
     "iopub.status.idle": "2020-09-29T10:05:00.469719Z",
     "shell.execute_reply": "2020-09-29T10:05:00.469262Z"
    },
    "papermill": {
     "duration": 0.04701,
     "end_time": "2020-09-29T10:05:00.469828",
     "exception": false,
     "start_time": "2020-09-29T10:05:00.422818",
     "status": "completed"
    },
    "tags": []
   },
   "outputs": [],
   "source": [
    "data = Data(X_train, y_train.reshape(-1,1))\n",
    "sampler = Sampler(data, config.bs, shuffle=True)\n",
    "\n",
    "dl = Dataloader(data, sampler)\n",
    "\n",
    "opt = GD(config.lr)\n",
    "loss = MSE()"
   ]
  },
  {
   "cell_type": "code",
   "execution_count": 17,
   "metadata": {
    "execution": {
     "iopub.execute_input": "2020-09-29T10:05:00.537805Z",
     "iopub.status.busy": "2020-09-29T10:05:00.530330Z",
     "iopub.status.idle": "2020-09-29T10:05:00.542032Z",
     "shell.execute_reply": "2020-09-29T10:05:00.541485Z"
    },
    "papermill": {
     "duration": 0.044864,
     "end_time": "2020-09-29T10:05:00.542150",
     "exception": false,
     "start_time": "2020-09-29T10:05:00.497286",
     "status": "completed"
    },
    "tags": []
   },
   "outputs": [],
   "source": [
    "training_xdata = X_train\n",
    "testing_xdata = X_test\n",
    "training_ydata = y_train.reshape(-1,1)\n",
    "testing_ydata = y_test.reshape(-1,1)"
   ]
  },
  {
   "cell_type": "markdown",
   "metadata": {
    "papermill": {
     "duration": 0.028958,
     "end_time": "2020-09-29T10:05:00.600027",
     "exception": false,
     "start_time": "2020-09-29T10:05:00.571069",
     "status": "completed"
    },
    "tags": []
   },
   "source": [
    "### Running Models with the Training data\n",
    "Details about the network layers:\n",
    "- A first affine layer has 784 inputs and does 100 affine transforms. These are followed by a Relu\n",
    "- A second affine layer has 100 inputs from the 100 activations of the past layer, and does 100 affine transforms. These are followed by a Relu\n",
    "- A third affine layer has 100 activations and does 2 affine transformations to create an embedding for visualization. There is no non-linearity here.\n",
    "- A final \"logistic regression\" which has an affine transform from 2 inputs to 1 output, which is squeezed through a sigmoid.\n",
    "\n",
    "Help taken from Anshuman's Notebook."
   ]
  },
  {
   "cell_type": "code",
   "execution_count": 18,
   "metadata": {
    "execution": {
     "iopub.execute_input": "2020-09-29T10:05:00.663220Z",
     "iopub.status.busy": "2020-09-29T10:05:00.662661Z",
     "iopub.status.idle": "2020-09-29T10:05:00.677989Z",
     "shell.execute_reply": "2020-09-29T10:05:00.677321Z"
    },
    "papermill": {
     "duration": 0.050939,
     "end_time": "2020-09-29T10:05:00.678109",
     "exception": false,
     "start_time": "2020-09-29T10:05:00.627170",
     "status": "completed"
    },
    "tags": []
   },
   "outputs": [],
   "source": [
    "# layers for the Neural Network\n",
    "layers = [Affine(\"first\", 784, 100), Relu(\"first\"), Affine(\"second\", 100, 100), Relu(\"second\"), Affine(\"third\", 100, 2), Affine(\"final\", 2, 1), Sigmoid(\"final\")]\n",
    "model_nn = Model(layers)\n",
    "\n",
    "# layers for the Logistic Regression\n",
    "layers_lr = [Affine(\"logits\", 784, 1), Sigmoid(\"sigmoid\")]\n",
    "model_lr = Model(layers_lr)"
   ]
  },
  {
   "cell_type": "code",
   "execution_count": 19,
   "metadata": {
    "execution": {
     "iopub.execute_input": "2020-09-29T10:05:00.740190Z",
     "iopub.status.busy": "2020-09-29T10:05:00.739456Z",
     "iopub.status.idle": "2020-09-29T10:05:00.750861Z",
     "shell.execute_reply": "2020-09-29T10:05:00.750123Z"
    },
    "papermill": {
     "duration": 0.044868,
     "end_time": "2020-09-29T10:05:00.751013",
     "exception": false,
     "start_time": "2020-09-29T10:05:00.706145",
     "status": "completed"
    },
    "tags": []
   },
   "outputs": [],
   "source": [
    "# suffix _nn stands for Neural Network.\n",
    "learner_nn = Learner(loss, model_nn, opt, config.num_epochs)\n",
    "acc_nn = ClfCallback(learner_nn, config.bs, training_xdata , testing_xdata, training_ydata, testing_ydata)\n",
    "learner_nn.set_callbacks([acc_nn])"
   ]
  },
  {
   "cell_type": "code",
   "execution_count": 20,
   "metadata": {
    "execution": {
     "iopub.execute_input": "2020-09-29T10:05:00.817538Z",
     "iopub.status.busy": "2020-09-29T10:05:00.816885Z",
     "iopub.status.idle": "2020-09-29T10:07:17.998140Z",
     "shell.execute_reply": "2020-09-29T10:07:17.998977Z"
    },
    "papermill": {
     "duration": 137.217771,
     "end_time": "2020-09-29T10:07:17.999160",
     "exception": false,
     "start_time": "2020-09-29T10:05:00.781389",
     "status": "completed"
    },
    "tags": []
   },
   "outputs": [
    {
     "name": "stdout",
     "output_type": "stream",
     "text": [
      "====== Neural Network ======\n"
     ]
    },
    {
     "name": "stdout",
     "output_type": "stream",
     "text": [
      "Epoch 0, Loss 0.2323\n",
      "Training Accuracy: 0.7542, Testing Accuracy: 0.7606\n",
      "\n"
     ]
    },
    {
     "name": "stdout",
     "output_type": "stream",
     "text": [
      "Epoch 10, Loss 0.0928\n",
      "Training Accuracy: 0.9270, Testing Accuracy: 0.9350\n",
      "\n"
     ]
    },
    {
     "name": "stdout",
     "output_type": "stream",
     "text": [
      "Epoch 20, Loss 0.0551\n",
      "Training Accuracy: 0.9452, Testing Accuracy: 0.9531\n",
      "\n"
     ]
    },
    {
     "name": "stdout",
     "output_type": "stream",
     "text": [
      "Epoch 30, Loss 0.0433\n",
      "Training Accuracy: 0.9542, Testing Accuracy: 0.9602\n",
      "\n"
     ]
    },
    {
     "name": "stdout",
     "output_type": "stream",
     "text": [
      "Epoch 40, Loss 0.0376\n",
      "Training Accuracy: 0.9593, Testing Accuracy: 0.9612\n",
      "\n"
     ]
    },
    {
     "name": "stdout",
     "output_type": "stream",
     "text": [
      "Epoch 50, Loss 0.0341\n",
      "Training Accuracy: 0.9624, Testing Accuracy: 0.9652\n",
      "\n"
     ]
    },
    {
     "name": "stdout",
     "output_type": "stream",
     "text": [
      "Epoch 60, Loss 0.0317\n",
      "Training Accuracy: 0.9650, Testing Accuracy: 0.9667\n",
      "\n"
     ]
    },
    {
     "name": "stdout",
     "output_type": "stream",
     "text": [
      "Epoch 70, Loss 0.0299\n",
      "Training Accuracy: 0.9659, Testing Accuracy: 0.9688\n",
      "\n"
     ]
    },
    {
     "name": "stdout",
     "output_type": "stream",
     "text": [
      "Epoch 80, Loss 0.0285\n",
      "Training Accuracy: 0.9674, Testing Accuracy: 0.9698\n",
      "\n"
     ]
    },
    {
     "name": "stdout",
     "output_type": "stream",
     "text": [
      "Epoch 90, Loss 0.0273\n",
      "Training Accuracy: 0.9684, Testing Accuracy: 0.9703\n",
      "\n"
     ]
    },
    {
     "name": "stdout",
     "output_type": "stream",
     "text": [
      "Epoch 100, Loss 0.0263\n",
      "Training Accuracy: 0.9690, Testing Accuracy: 0.9703\n",
      "\n"
     ]
    },
    {
     "name": "stdout",
     "output_type": "stream",
     "text": [
      "Epoch 110, Loss 0.0254\n",
      "Training Accuracy: 0.9699, Testing Accuracy: 0.9703\n",
      "\n"
     ]
    },
    {
     "name": "stdout",
     "output_type": "stream",
     "text": [
      "Epoch 120, Loss 0.0246\n",
      "Training Accuracy: 0.9709, Testing Accuracy: 0.9703\n",
      "\n"
     ]
    },
    {
     "name": "stdout",
     "output_type": "stream",
     "text": [
      "Epoch 130, Loss 0.0239\n",
      "Training Accuracy: 0.9715, Testing Accuracy: 0.9708\n",
      "\n"
     ]
    },
    {
     "name": "stdout",
     "output_type": "stream",
     "text": [
      "Epoch 140, Loss 0.0233\n",
      "Training Accuracy: 0.9725, Testing Accuracy: 0.9708\n",
      "\n"
     ]
    },
    {
     "name": "stdout",
     "output_type": "stream",
     "text": [
      "Epoch 150, Loss 0.0227\n",
      "Training Accuracy: 0.9732, Testing Accuracy: 0.9708\n",
      "\n"
     ]
    },
    {
     "name": "stdout",
     "output_type": "stream",
     "text": [
      "Epoch 160, Loss 0.0222\n",
      "Training Accuracy: 0.9741, Testing Accuracy: 0.9713\n",
      "\n"
     ]
    },
    {
     "name": "stdout",
     "output_type": "stream",
     "text": [
      "Epoch 170, Loss 0.0217\n",
      "Training Accuracy: 0.9744, Testing Accuracy: 0.9713\n",
      "\n"
     ]
    },
    {
     "name": "stdout",
     "output_type": "stream",
     "text": [
      "Epoch 180, Loss 0.0212\n",
      "Training Accuracy: 0.9755, Testing Accuracy: 0.9713\n",
      "\n"
     ]
    },
    {
     "name": "stdout",
     "output_type": "stream",
     "text": [
      "Epoch 190, Loss 0.0208\n",
      "Training Accuracy: 0.9759, Testing Accuracy: 0.9713\n",
      "\n"
     ]
    },
    {
     "name": "stdout",
     "output_type": "stream",
     "text": [
      "Epoch 200, Loss 0.0203\n",
      "Training Accuracy: 0.9768, Testing Accuracy: 0.9708\n",
      "\n"
     ]
    },
    {
     "name": "stdout",
     "output_type": "stream",
     "text": [
      "Epoch 210, Loss 0.0199\n",
      "Training Accuracy: 0.9773, Testing Accuracy: 0.9708\n",
      "\n"
     ]
    },
    {
     "name": "stdout",
     "output_type": "stream",
     "text": [
      "Epoch 220, Loss 0.0195\n",
      "Training Accuracy: 0.9778, Testing Accuracy: 0.9708\n",
      "\n"
     ]
    },
    {
     "name": "stdout",
     "output_type": "stream",
     "text": [
      "Epoch 230, Loss 0.0191\n",
      "Training Accuracy: 0.9783, Testing Accuracy: 0.9713\n",
      "\n"
     ]
    },
    {
     "name": "stdout",
     "output_type": "stream",
     "text": [
      "Epoch 240, Loss 0.0188\n",
      "Training Accuracy: 0.9790, Testing Accuracy: 0.9713\n",
      "\n"
     ]
    },
    {
     "name": "stdout",
     "output_type": "stream",
     "text": [
      "Epoch 250, Loss 0.0184\n",
      "Training Accuracy: 0.9793, Testing Accuracy: 0.9713\n",
      "\n"
     ]
    },
    {
     "data": {
      "text/plain": [
       "0.03384955041489337"
      ]
     },
     "execution_count": 20,
     "metadata": {},
     "output_type": "execute_result"
    }
   ],
   "source": [
    "print(\"====== Neural Network ======\")\n",
    "learner_nn.train_loop(dl)"
   ]
  },
  {
   "cell_type": "markdown",
   "metadata": {
    "papermill": {
     "duration": 0.04038,
     "end_time": "2020-09-29T10:07:18.082644",
     "exception": false,
     "start_time": "2020-09-29T10:07:18.042264",
     "status": "completed"
    },
    "tags": []
   },
   "source": [
    "### Logistic Regression based Implementation."
   ]
  },
  {
   "cell_type": "code",
   "execution_count": 21,
   "metadata": {
    "execution": {
     "iopub.execute_input": "2020-09-29T10:07:18.170377Z",
     "iopub.status.busy": "2020-09-29T10:07:18.167367Z",
     "iopub.status.idle": "2020-09-29T10:07:18.182123Z",
     "shell.execute_reply": "2020-09-29T10:07:18.181581Z"
    },
    "papermill": {
     "duration": 0.05973,
     "end_time": "2020-09-29T10:07:18.182256",
     "exception": false,
     "start_time": "2020-09-29T10:07:18.122526",
     "status": "completed"
    },
    "tags": []
   },
   "outputs": [],
   "source": [
    "learner_lr = Learner(loss, model_lr, opt, config.num_epochs)\n",
    "acc_lr = ClfCallback(learner_lr, config.bs, training_xdata , testing_xdata, training_ydata, testing_ydata)\n",
    "learner_lr.set_callbacks([acc_lr])"
   ]
  },
  {
   "cell_type": "code",
   "execution_count": 22,
   "metadata": {
    "execution": {
     "iopub.execute_input": "2020-09-29T10:07:18.269725Z",
     "iopub.status.busy": "2020-09-29T10:07:18.269144Z",
     "iopub.status.idle": "2020-09-29T10:07:38.864144Z",
     "shell.execute_reply": "2020-09-29T10:07:38.865050Z"
    },
    "papermill": {
     "duration": 20.642636,
     "end_time": "2020-09-29T10:07:38.865199",
     "exception": false,
     "start_time": "2020-09-29T10:07:18.222563",
     "status": "completed"
    },
    "tags": []
   },
   "outputs": [
    {
     "name": "stdout",
     "output_type": "stream",
     "text": [
      "====== Logistic Regression ======\n",
      "Epoch 0, Loss 0.1845\n",
      "Training Accuracy: 0.8531, Testing Accuracy: 0.8478\n",
      "\n"
     ]
    },
    {
     "name": "stdout",
     "output_type": "stream",
     "text": [
      "Epoch 10, Loss 0.0942\n",
      "Training Accuracy: 0.9187, Testing Accuracy: 0.9320\n",
      "\n"
     ]
    },
    {
     "name": "stdout",
     "output_type": "stream",
     "text": [
      "Epoch 20, Loss 0.0749\n",
      "Training Accuracy: 0.9327, Testing Accuracy: 0.9420\n",
      "\n"
     ]
    },
    {
     "name": "stdout",
     "output_type": "stream",
     "text": [
      "Epoch 30, Loss 0.0655\n",
      "Training Accuracy: 0.9405, Testing Accuracy: 0.9491\n",
      "\n"
     ]
    },
    {
     "name": "stdout",
     "output_type": "stream",
     "text": [
      "Epoch 40, Loss 0.0597\n",
      "Training Accuracy: 0.9454, Testing Accuracy: 0.9551\n",
      "\n"
     ]
    },
    {
     "name": "stdout",
     "output_type": "stream",
     "text": [
      "Epoch 50, Loss 0.0557\n",
      "Training Accuracy: 0.9481, Testing Accuracy: 0.9577\n",
      "\n"
     ]
    },
    {
     "name": "stdout",
     "output_type": "stream",
     "text": [
      "Epoch 60, Loss 0.0526\n",
      "Training Accuracy: 0.9503, Testing Accuracy: 0.9582\n",
      "\n"
     ]
    },
    {
     "name": "stdout",
     "output_type": "stream",
     "text": [
      "Epoch 70, Loss 0.0503\n",
      "Training Accuracy: 0.9515, Testing Accuracy: 0.9602\n",
      "\n"
     ]
    },
    {
     "name": "stdout",
     "output_type": "stream",
     "text": [
      "Epoch 80, Loss 0.0484\n",
      "Training Accuracy: 0.9523, Testing Accuracy: 0.9612\n",
      "\n"
     ]
    },
    {
     "name": "stdout",
     "output_type": "stream",
     "text": [
      "Epoch 90, Loss 0.0468\n",
      "Training Accuracy: 0.9533, Testing Accuracy: 0.9622\n",
      "\n"
     ]
    },
    {
     "name": "stdout",
     "output_type": "stream",
     "text": [
      "Epoch 100, Loss 0.0455\n",
      "Training Accuracy: 0.9538, Testing Accuracy: 0.9632\n",
      "\n"
     ]
    },
    {
     "name": "stdout",
     "output_type": "stream",
     "text": [
      "Epoch 110, Loss 0.0443\n",
      "Training Accuracy: 0.9547, Testing Accuracy: 0.9652\n",
      "\n"
     ]
    },
    {
     "name": "stdout",
     "output_type": "stream",
     "text": [
      "Epoch 120, Loss 0.0433\n",
      "Training Accuracy: 0.9553, Testing Accuracy: 0.9652\n",
      "\n"
     ]
    },
    {
     "name": "stdout",
     "output_type": "stream",
     "text": [
      "Epoch 130, Loss 0.0424\n",
      "Training Accuracy: 0.9562, Testing Accuracy: 0.9662\n",
      "\n"
     ]
    },
    {
     "name": "stdout",
     "output_type": "stream",
     "text": [
      "Epoch 140, Loss 0.0416\n",
      "Training Accuracy: 0.9567, Testing Accuracy: 0.9662\n",
      "\n"
     ]
    },
    {
     "name": "stdout",
     "output_type": "stream",
     "text": [
      "Epoch 150, Loss 0.0409\n",
      "Training Accuracy: 0.9572, Testing Accuracy: 0.9667\n",
      "\n"
     ]
    },
    {
     "name": "stdout",
     "output_type": "stream",
     "text": [
      "Epoch 160, Loss 0.0402\n",
      "Training Accuracy: 0.9575, Testing Accuracy: 0.9672\n",
      "\n"
     ]
    },
    {
     "name": "stdout",
     "output_type": "stream",
     "text": [
      "Epoch 170, Loss 0.0397\n",
      "Training Accuracy: 0.9581, Testing Accuracy: 0.9662\n",
      "\n"
     ]
    },
    {
     "name": "stdout",
     "output_type": "stream",
     "text": [
      "Epoch 180, Loss 0.0391\n",
      "Training Accuracy: 0.9588, Testing Accuracy: 0.9662\n",
      "\n"
     ]
    },
    {
     "name": "stdout",
     "output_type": "stream",
     "text": [
      "Epoch 190, Loss 0.0386\n",
      "Training Accuracy: 0.9594, Testing Accuracy: 0.9662\n",
      "\n"
     ]
    },
    {
     "name": "stdout",
     "output_type": "stream",
     "text": [
      "Epoch 200, Loss 0.0382\n",
      "Training Accuracy: 0.9598, Testing Accuracy: 0.9662\n",
      "\n"
     ]
    },
    {
     "name": "stdout",
     "output_type": "stream",
     "text": [
      "Epoch 210, Loss 0.0377\n",
      "Training Accuracy: 0.9603, Testing Accuracy: 0.9662\n",
      "\n"
     ]
    },
    {
     "name": "stdout",
     "output_type": "stream",
     "text": [
      "Epoch 220, Loss 0.0373\n",
      "Training Accuracy: 0.9605, Testing Accuracy: 0.9667\n",
      "\n"
     ]
    },
    {
     "name": "stdout",
     "output_type": "stream",
     "text": [
      "Epoch 230, Loss 0.0369\n",
      "Training Accuracy: 0.9610, Testing Accuracy: 0.9667\n",
      "\n"
     ]
    },
    {
     "name": "stdout",
     "output_type": "stream",
     "text": [
      "Epoch 240, Loss 0.0366\n",
      "Training Accuracy: 0.9612, Testing Accuracy: 0.9667\n",
      "\n"
     ]
    },
    {
     "name": "stdout",
     "output_type": "stream",
     "text": [
      "Epoch 250, Loss 0.0363\n",
      "Training Accuracy: 0.9613, Testing Accuracy: 0.9667\n",
      "\n"
     ]
    },
    {
     "data": {
      "text/plain": [
       "0.020608855151448408"
      ]
     },
     "execution_count": 22,
     "metadata": {},
     "output_type": "execute_result"
    }
   ],
   "source": [
    "print(\"====== Logistic Regression ======\")\n",
    "learner_lr.train_loop(dl)"
   ]
  },
  {
   "cell_type": "markdown",
   "metadata": {
    "papermill": {
     "duration": 0.050186,
     "end_time": "2020-09-29T10:07:38.964628",
     "exception": false,
     "start_time": "2020-09-29T10:07:38.914442",
     "status": "completed"
    },
    "tags": []
   },
   "source": [
    "### Comparing results of NN and LR"
   ]
  },
  {
   "cell_type": "code",
   "execution_count": 23,
   "metadata": {
    "execution": {
     "iopub.execute_input": "2020-09-29T10:07:39.073671Z",
     "iopub.status.busy": "2020-09-29T10:07:39.072960Z",
     "iopub.status.idle": "2020-09-29T10:07:39.356030Z",
     "shell.execute_reply": "2020-09-29T10:07:39.355389Z"
    },
    "papermill": {
     "duration": 0.340339,
     "end_time": "2020-09-29T10:07:39.356164",
     "exception": false,
     "start_time": "2020-09-29T10:07:39.015825",
     "status": "completed"
    },
    "tags": []
   },
   "outputs": [
    {
     "data": {
      "text/plain": [
       "<matplotlib.legend.Legend at 0x7f7ffdfb02e8>"
      ]
     },
     "execution_count": 23,
     "metadata": {},
     "output_type": "execute_result"
    },
    {
     "data": {
      "image/png": "[encoded data removed]",
      "text/plain": [
       "<Figure size 1080x720 with 1 Axes>"
      ]
     },
     "metadata": {
      "needs_background": "light"
     },
     "output_type": "display_data"
    }
   ],
   "source": [
    "plt.figure(figsize=(15,10))\n",
    "\n",
    "# Neural Network plots\n",
    "plt.plot(acc_nn.accuracies, 'r-', label = \"Training Accuracies - NN\")\n",
    "plt.plot(acc_nn.test_accuracies, 'g-', label = \"Testing Accuracies - NN\")\n",
    "\n",
    "# Logistic Regression plots\n",
    "plt.plot(acc_lr.accuracies, 'k-', label = \"Training Accuracies - LR\")\n",
    "plt.plot(acc_lr.test_accuracies, 'b-', label = \"Testing Accuracies - LR\")\n",
    "\n",
    "plt.ylim(0.8, 1)\n",
    "\n",
    "plt.legend()\n",
    "\n"
   ]
  },
  {
   "cell_type": "markdown",
   "metadata": {
    "papermill": {
     "duration": 0.052225,
     "end_time": "2020-09-29T10:07:39.460907",
     "exception": false,
     "start_time": "2020-09-29T10:07:39.408682",
     "status": "completed"
    },
    "tags": []
   },
   "source": [
    "### From the plot, we can observe the following:\n",
    "- Neural Network achieves higher accuracy than the Logistic Regression model.\n",
    "- This apparently, is because of overfitting, i.e. NN captures more noise than data.\n",
    "- Testing accuracy of NN drops below the Training accuracy at higher epochs. This explains the over-fitting on training data.\n",
    "- Logistic Regression gives a reliable accuracy, without the above mentioned problem.\n"
   ]
  },
  {
   "cell_type": "markdown",
   "metadata": {
    "papermill": {
     "duration": 0.051585,
     "end_time": "2020-09-29T10:07:39.563276",
     "exception": false,
     "start_time": "2020-09-29T10:07:39.511691",
     "status": "completed"
    },
    "tags": []
   },
   "source": [
    "### Moving till the last but one layer (excluding it).\n",
    "#### Plotting the outputs of this layer of the NN."
   ]
  },
  {
   "cell_type": "code",
   "execution_count": 24,
   "metadata": {
    "execution": {
     "iopub.execute_input": "2020-09-29T10:07:39.674247Z",
     "iopub.status.busy": "2020-09-29T10:07:39.673595Z",
     "iopub.status.idle": "2020-09-29T10:07:39.684394Z",
     "shell.execute_reply": "2020-09-29T10:07:39.683897Z"
    },
    "papermill": {
     "duration": 0.070555,
     "end_time": "2020-09-29T10:07:39.684523",
     "exception": false,
     "start_time": "2020-09-29T10:07:39.613968",
     "status": "completed"
    },
    "tags": []
   },
   "outputs": [],
   "source": [
    "model_new = Model(layers[:-2])"
   ]
  },
  {
   "cell_type": "code",
   "execution_count": 25,
   "metadata": {
    "execution": {
     "iopub.execute_input": "2020-09-29T10:07:39.789490Z",
     "iopub.status.busy": "2020-09-29T10:07:39.788851Z",
     "iopub.status.idle": "2020-09-29T10:07:39.813227Z",
     "shell.execute_reply": "2020-09-29T10:07:39.813838Z"
    },
    "papermill": {
     "duration": 0.080743,
     "end_time": "2020-09-29T10:07:39.813997",
     "exception": false,
     "start_time": "2020-09-29T10:07:39.733254",
     "status": "completed"
    },
    "tags": []
   },
   "outputs": [],
   "source": [
    "plot_testing = model_new(testing_xdata)"
   ]
  },
  {
   "cell_type": "code",
   "execution_count": 26,
   "metadata": {
    "execution": {
     "iopub.execute_input": "2020-09-29T10:07:39.921862Z",
     "iopub.status.busy": "2020-09-29T10:07:39.921187Z",
     "iopub.status.idle": "2020-09-29T10:07:40.146180Z",
     "shell.execute_reply": "2020-09-29T10:07:40.146689Z"
    },
    "papermill": {
     "duration": 0.281667,
     "end_time": "2020-09-29T10:07:40.146837",
     "exception": false,
     "start_time": "2020-09-29T10:07:39.865170",
     "status": "completed"
    },
    "tags": []
   },
   "outputs": [
    {
     "data": {
      "text/plain": [
       "Text(0.5, 1.0, 'Outputs')"
      ]
     },
     "execution_count": 26,
     "metadata": {},
     "output_type": "execute_result"
    },
    {
     "data": {
      "image/png": "[encoded data removed]",
      "text/plain": [
       "<Figure size 576x504 with 1 Axes>"
      ]
     },
     "metadata": {
      "needs_background": "light"
     },
     "output_type": "display_data"
    }
   ],
   "source": [
    "plt.figure(figsize=(8,7))\n",
    "plt.scatter(plot_testing[:,0], plot_testing[:,1], alpha = 0.1, c = y_test.ravel());\n",
    "plt.title('Outputs')"
   ]
  },
  {
   "cell_type": "markdown",
   "metadata": {
    "papermill": {
     "duration": 0.051556,
     "end_time": "2020-09-29T10:07:40.257888",
     "exception": false,
     "start_time": "2020-09-29T10:07:40.206332",
     "status": "completed"
    },
    "tags": []
   },
   "source": [
    "### Plotting probability contours"
   ]
  },
  {
   "cell_type": "code",
   "execution_count": 27,
   "metadata": {
    "execution": {
     "iopub.execute_input": "2020-09-29T10:07:40.366636Z",
     "iopub.status.busy": "2020-09-29T10:07:40.365718Z",
     "iopub.status.idle": "2020-09-29T10:07:40.376744Z",
     "shell.execute_reply": "2020-09-29T10:07:40.376197Z"
    },
    "papermill": {
     "duration": 0.068007,
     "end_time": "2020-09-29T10:07:40.376946",
     "exception": false,
     "start_time": "2020-09-29T10:07:40.308939",
     "status": "completed"
    },
    "tags": []
   },
   "outputs": [],
   "source": [
    "model_prob = Model(layers[-2:]) "
   ]
  },
  {
   "cell_type": "code",
   "execution_count": 28,
   "metadata": {
    "execution": {
     "iopub.execute_input": "2020-09-29T10:07:40.504168Z",
     "iopub.status.busy": "2020-09-29T10:07:40.491704Z",
     "iopub.status.idle": "2020-09-29T10:07:40.504882Z",
     "shell.execute_reply": "2020-09-29T10:07:40.505402Z"
    },
    "papermill": {
     "duration": 0.074893,
     "end_time": "2020-09-29T10:07:40.505548",
     "exception": false,
     "start_time": "2020-09-29T10:07:40.430655",
     "status": "completed"
    },
    "tags": []
   },
   "outputs": [],
   "source": [
    "# Adjust the x and y ranges according to the above generated plot.\n",
    "x_range = np.linspace(-4, 1, 100) \n",
    "y_range = np.linspace(-6, 6, 100) \n",
    "x_grid, y_grid = np.meshgrid(x_range, y_range) # x_grid and y_grig are of size 100 X 100\n",
    "\n",
    "# converting x_grid and y_grid to continuous arrays\n",
    "x_grid_flat = np.ravel(x_grid)\n",
    "y_grid_flat = np.ravel(y_grid)\n",
    "\n",
    "# The last layer of the current model takes two columns as input. Hence transpose of np.vstack() is required.\n",
    "X = np.vstack((x_grid_flat, y_grid_flat)).T\n",
    "\n",
    "# x_grid and y_grid are of size 100 x 100\n",
    "probability_contour = model_prob(X).reshape(100,100) "
   ]
  },
  {
   "cell_type": "code",
   "execution_count": 29,
   "metadata": {
    "execution": {
     "iopub.execute_input": "2020-09-29T10:07:40.611548Z",
     "iopub.status.busy": "2020-09-29T10:07:40.610938Z",
     "iopub.status.idle": "2020-09-29T10:07:40.896175Z",
     "shell.execute_reply": "2020-09-29T10:07:40.895636Z"
    },
    "papermill": {
     "duration": 0.339598,
     "end_time": "2020-09-29T10:07:40.896316",
     "exception": false,
     "start_time": "2020-09-29T10:07:40.556718",
     "status": "completed"
    },
    "tags": []
   },
   "outputs": [
    {
     "data": {
      "image/png": "[encoded data removed]",
      "text/plain": [
       "<Figure size 720x648 with 1 Axes>"
      ]
     },
     "metadata": {
      "needs_background": "light"
     },
     "output_type": "display_data"
    }
   ],
   "source": [
    "plt.figure(figsize=(10,9))\n",
    "plt.scatter(plot_testing[:,0], plot_testing[:,1], alpha = 0.1, c = y_test.ravel())\n",
    "contours = plt.contour(x_grid,y_grid,probability_contour)\n",
    "plt.title('Probability Contours')\n",
    "plt.clabel(contours, inline = True );"
   ]
  }
 ],
 "metadata": {
  "kernelspec": {
   "display_name": "Python 3",
   "language": "python",
   "name": "python3"
  },
  "language_info": {
   "codemirror_mode": {
    "name": "ipython",
    "version": 3
   },
   "file_extension": ".py",
   "mimetype": "text/x-python",
   "name": "python",
   "nbconvert_exporter": "python",
   "pygments_lexer": "ipython3",
   "version": "3.6.12"
  },
  "papermill": {
   "duration": 167.31696,
   "end_time": "2020-09-29T10:07:41.382548",
   "environment_variables": {},
   "exception": null,
   "input_path": "2020-08-11-NeuralNetwork.ipynb",
   "output_path": "2020-08-11-NeuralNetwork.ipynb",
   "parameters": {},
   "start_time": "2020-09-29T10:04:54.065588",
   "version": "2.1.2"
  }
 },
 "nbformat": 4,
 "nbformat_minor": 4
}