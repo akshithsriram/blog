{
 "cells": [
  {
   "cell_type": "markdown",
   "metadata": {
    "papermill": {
     "duration": 0.031949,
     "end_time": "2020-09-10T00:06:07.858961",
     "exception": false,
     "start_time": "2020-09-10T00:06:07.827012",
     "status": "completed"
    },
    "tags": []
   },
   "source": [
    "# \"A Basic Neural Network: Differentiate Hand-Written Digits\"\n",
    "\n",
    "- badges: true\n",
    "- author: Akshith Sriram"
   ]
  },
  {
   "cell_type": "markdown",
   "metadata": {
    "papermill": {
     "duration": 0.043558,
     "end_time": "2020-09-10T00:06:08.031038",
     "exception": false,
     "start_time": "2020-09-10T00:06:07.987480",
     "status": "completed"
    },
    "tags": []
   },
   "source": [
    "### Key Objectives:\n",
    "- Building a neural network that differentiates two hand-written digits 3 and 8.\n",
    "- Comparing the results of this Neural Network (NN) to that of a Logistic Regression (LR) model.\n",
    "\n",
    "### Requirements:\n",
    "- 'Kudzu' : A neural network library that was designed during our course by [Univ.AI](www.univ.ai). \n",
    "- MNIST Database\n",
    "\n",
    "If MNIST is not installed, use the command `!pip install mnist` given below.\n",
    "It can be run both from the command line and Jupyter Notebook."
   ]
  },
  {
   "cell_type": "code",
   "execution_count": 1,
   "metadata": {
    "execution": {
     "iopub.execute_input": "2020-09-10T00:06:08.131012Z",
     "iopub.status.busy": "2020-09-10T00:06:08.130449Z",
     "iopub.status.idle": "2020-09-10T00:06:09.555941Z",
     "shell.execute_reply": "2020-09-10T00:06:09.556760Z"
    },
    "papermill": {
     "duration": 1.479488,
     "end_time": "2020-09-10T00:06:09.557045",
     "exception": false,
     "start_time": "2020-09-10T00:06:08.077557",
     "status": "completed"
    },
    "tags": []
   },
   "outputs": [
    {
     "name": "stdout",
     "output_type": "stream",
     "text": [
      "Collecting mnist\r\n"
     ]
    },
    {
     "name": "stdout",
     "output_type": "stream",
     "text": [
      "  Downloading mnist-0.2.2-py2.py3-none-any.whl (3.5 kB)\r\n",
      "Requirement already satisfied: numpy in /opt/hostedtoolcache/Python/3.6.12/x64/lib/python3.6/site-packages (from mnist) (1.19.1)\r\n"
     ]
    },
    {
     "name": "stdout",
     "output_type": "stream",
     "text": [
      "Installing collected packages: mnist\r\n",
      "Successfully installed mnist-0.2.2\r\n"
     ]
    },
    {
     "name": "stdout",
     "output_type": "stream",
     "text": [
      "\u001b[33mWARNING: You are using pip version 20.2.2; however, version 20.2.3 is available.\r\n",
      "You should consider upgrading via the '/opt/hostedtoolcache/Python/3.6.12/x64/bin/python -m pip install --upgrade pip' command.\u001b[0m\r\n"
     ]
    }
   ],
   "source": [
    "!pip install mnist "
   ]
  },
  {
   "cell_type": "markdown",
   "metadata": {
    "papermill": {
     "duration": 0.021675,
     "end_time": "2020-09-10T00:06:09.602243",
     "exception": false,
     "start_time": "2020-09-10T00:06:09.580568",
     "status": "completed"
    },
    "tags": []
   },
   "source": [
    "#### Importing necessary libraries"
   ]
  },
  {
   "cell_type": "code",
   "execution_count": 2,
   "metadata": {
    "execution": {
     "iopub.execute_input": "2020-09-10T00:06:09.658475Z",
     "iopub.status.busy": "2020-09-10T00:06:09.657457Z",
     "iopub.status.idle": "2020-09-10T00:06:10.179014Z",
     "shell.execute_reply": "2020-09-10T00:06:10.179487Z"
    },
    "papermill": {
     "duration": 0.553062,
     "end_time": "2020-09-10T00:06:10.179621",
     "exception": false,
     "start_time": "2020-09-10T00:06:09.626559",
     "status": "completed"
    },
    "tags": []
   },
   "outputs": [],
   "source": [
    "%load_ext autoreload\n",
    "%autoreload 2\n",
    "\n",
    "%matplotlib inline\n",
    "import matplotlib.pyplot as plt\n",
    "\n",
    "import numpy as np\n",
    "import pandas as pd"
   ]
  },
  {
   "cell_type": "markdown",
   "metadata": {
    "papermill": {
     "duration": 0.022886,
     "end_time": "2020-09-10T00:06:10.226511",
     "exception": false,
     "start_time": "2020-09-10T00:06:10.203625",
     "status": "completed"
    },
    "tags": []
   },
   "source": [
    "### Preparing the Data"
   ]
  },
  {
   "cell_type": "code",
   "execution_count": 3,
   "metadata": {
    "execution": {
     "iopub.execute_input": "2020-09-10T00:06:10.272972Z",
     "iopub.status.busy": "2020-09-10T00:06:10.272495Z",
     "iopub.status.idle": "2020-09-10T00:06:10.286095Z",
     "shell.execute_reply": "2020-09-10T00:06:10.285597Z"
    },
    "papermill": {
     "duration": 0.039167,
     "end_time": "2020-09-10T00:06:10.286231",
     "exception": false,
     "start_time": "2020-09-10T00:06:10.247064",
     "status": "completed"
    },
    "tags": []
   },
   "outputs": [],
   "source": [
    "import mnist"
   ]
  },
  {
   "cell_type": "code",
   "execution_count": 4,
   "metadata": {
    "execution": {
     "iopub.execute_input": "2020-09-10T00:06:10.333492Z",
     "iopub.status.busy": "2020-09-10T00:06:10.332856Z",
     "iopub.status.idle": "2020-09-10T00:06:11.894388Z",
     "shell.execute_reply": "2020-09-10T00:06:11.892663Z"
    },
    "papermill": {
     "duration": 1.587363,
     "end_time": "2020-09-10T00:06:11.894624",
     "exception": false,
     "start_time": "2020-09-10T00:06:10.307261",
     "status": "completed"
    },
    "tags": []
   },
   "outputs": [],
   "source": [
    "train_images = mnist.train_images()\n",
    "train_labels = mnist.train_labels()"
   ]
  },
  {
   "cell_type": "code",
   "execution_count": 5,
   "metadata": {
    "execution": {
     "iopub.execute_input": "2020-09-10T00:06:11.950050Z",
     "iopub.status.busy": "2020-09-10T00:06:11.949564Z",
     "iopub.status.idle": "2020-09-10T00:06:11.963316Z",
     "shell.execute_reply": "2020-09-10T00:06:11.962913Z"
    },
    "papermill": {
     "duration": 0.042867,
     "end_time": "2020-09-10T00:06:11.963431",
     "exception": false,
     "start_time": "2020-09-10T00:06:11.920564",
     "status": "completed"
    },
    "tags": []
   },
   "outputs": [
    {
     "data": {
      "text/plain": [
       "((60000, 28, 28), (60000,))"
      ]
     },
     "execution_count": 5,
     "metadata": {},
     "output_type": "execute_result"
    }
   ],
   "source": [
    "train_images.shape, train_labels.shape"
   ]
  },
  {
   "cell_type": "code",
   "execution_count": 6,
   "metadata": {
    "execution": {
     "iopub.execute_input": "2020-09-10T00:06:12.012332Z",
     "iopub.status.busy": "2020-09-10T00:06:12.011798Z",
     "iopub.status.idle": "2020-09-10T00:06:12.872416Z",
     "shell.execute_reply": "2020-09-10T00:06:12.871952Z"
    },
    "papermill": {
     "duration": 0.885416,
     "end_time": "2020-09-10T00:06:12.872518",
     "exception": false,
     "start_time": "2020-09-10T00:06:11.987102",
     "status": "completed"
    },
    "tags": []
   },
   "outputs": [],
   "source": [
    "test_images = mnist.test_images()\n",
    "test_labels = mnist.test_labels()"
   ]
  },
  {
   "cell_type": "code",
   "execution_count": 7,
   "metadata": {
    "execution": {
     "iopub.execute_input": "2020-09-10T00:06:12.923119Z",
     "iopub.status.busy": "2020-09-10T00:06:12.922267Z",
     "iopub.status.idle": "2020-09-10T00:06:12.938985Z",
     "shell.execute_reply": "2020-09-10T00:06:12.938567Z"
    },
    "papermill": {
     "duration": 0.042869,
     "end_time": "2020-09-10T00:06:12.939110",
     "exception": false,
     "start_time": "2020-09-10T00:06:12.896241",
     "status": "completed"
    },
    "tags": []
   },
   "outputs": [
    {
     "data": {
      "text/plain": [
       "((10000, 28, 28), (10000,))"
      ]
     },
     "execution_count": 7,
     "metadata": {},
     "output_type": "execute_result"
    }
   ],
   "source": [
    "test_images.shape, test_labels.shape"
   ]
  },
  {
   "cell_type": "code",
   "execution_count": 8,
   "metadata": {
    "execution": {
     "iopub.execute_input": "2020-09-10T00:06:12.991110Z",
     "iopub.status.busy": "2020-09-10T00:06:12.990651Z",
     "iopub.status.idle": "2020-09-10T00:06:13.125248Z",
     "shell.execute_reply": "2020-09-10T00:06:13.124637Z"
    },
    "papermill": {
     "duration": 0.163478,
     "end_time": "2020-09-10T00:06:13.125380",
     "exception": false,
     "start_time": "2020-09-10T00:06:12.961902",
     "status": "completed"
    },
    "tags": []
   },
   "outputs": [
    {
     "name": "stdout",
     "output_type": "stream",
     "text": [
      "2\n"
     ]
    },
    {
     "data": {
      "text/plain": [
       "<matplotlib.image.AxesImage at 0x7f1d0caccd30>"
      ]
     },
     "execution_count": 8,
     "metadata": {},
     "output_type": "execute_result"
    },
    {
     "data": {
      "image/png": "[encoded data removed]",
      "text/plain": [
       "<Figure size 432x288 with 1 Axes>"
      ]
     },
     "metadata": {
      "needs_background": "light"
     },
     "output_type": "display_data"
    }
   ],
   "source": [
    "image_index = 7776 # You may select anything up to 60,000\n",
    "print(train_labels[image_index]) \n",
    "plt.imshow(train_images[image_index], cmap='Greys')"
   ]
  },
  {
   "cell_type": "markdown",
   "metadata": {
    "papermill": {
     "duration": 0.026734,
     "end_time": "2020-09-10T00:06:13.178313",
     "exception": false,
     "start_time": "2020-09-10T00:06:13.151579",
     "status": "completed"
    },
    "tags": []
   },
   "source": [
    "## Filter data to get 3 and 8 out"
   ]
  },
  {
   "cell_type": "code",
   "execution_count": 9,
   "metadata": {
    "execution": {
     "iopub.execute_input": "2020-09-10T00:06:13.237792Z",
     "iopub.status.busy": "2020-09-10T00:06:13.237248Z",
     "iopub.status.idle": "2020-09-10T00:06:13.254982Z",
     "shell.execute_reply": "2020-09-10T00:06:13.254525Z"
    },
    "papermill": {
     "duration": 0.049464,
     "end_time": "2020-09-10T00:06:13.255117",
     "exception": false,
     "start_time": "2020-09-10T00:06:13.205653",
     "status": "completed"
    },
    "tags": []
   },
   "outputs": [],
   "source": [
    "train_filter = np.where((train_labels == 3 ) | (train_labels == 8))\n",
    "test_filter = np.where((test_labels == 3) | (test_labels == 8))\n",
    "X_train, y_train = train_images[train_filter], train_labels[train_filter]\n",
    "X_test, y_test = test_images[test_filter], test_labels[test_filter]"
   ]
  },
  {
   "cell_type": "markdown",
   "metadata": {
    "papermill": {
     "duration": 0.160525,
     "end_time": "2020-09-10T00:06:13.439673",
     "exception": false,
     "start_time": "2020-09-10T00:06:13.279148",
     "status": "completed"
    },
    "tags": []
   },
   "source": [
    "We normalize the pixel values in the 0 to 1 range"
   ]
  },
  {
   "cell_type": "code",
   "execution_count": 10,
   "metadata": {
    "execution": {
     "iopub.execute_input": "2020-09-10T00:06:13.522945Z",
     "iopub.status.busy": "2020-09-10T00:06:13.515506Z",
     "iopub.status.idle": "2020-09-10T00:06:13.563870Z",
     "shell.execute_reply": "2020-09-10T00:06:13.564457Z"
    },
    "papermill": {
     "duration": 0.080232,
     "end_time": "2020-09-10T00:06:13.564651",
     "exception": false,
     "start_time": "2020-09-10T00:06:13.484419",
     "status": "completed"
    },
    "tags": []
   },
   "outputs": [],
   "source": [
    "X_train = X_train/255.\n",
    "X_test = X_test/255."
   ]
  },
  {
   "cell_type": "markdown",
   "metadata": {
    "papermill": {
     "duration": 0.061007,
     "end_time": "2020-09-10T00:06:13.687513",
     "exception": false,
     "start_time": "2020-09-10T00:06:13.626506",
     "status": "completed"
    },
    "tags": []
   },
   "source": [
    "Setup the labels as 1 (when the digit is 3) and 0 (when the digit is 8)"
   ]
  },
  {
   "cell_type": "code",
   "execution_count": 11,
   "metadata": {
    "execution": {
     "iopub.execute_input": "2020-09-10T00:06:13.785703Z",
     "iopub.status.busy": "2020-09-10T00:06:13.785122Z",
     "iopub.status.idle": "2020-09-10T00:06:13.800727Z",
     "shell.execute_reply": "2020-09-10T00:06:13.800260Z"
    },
    "papermill": {
     "duration": 0.065667,
     "end_time": "2020-09-10T00:06:13.800850",
     "exception": false,
     "start_time": "2020-09-10T00:06:13.735183",
     "status": "completed"
    },
    "tags": []
   },
   "outputs": [],
   "source": [
    "y_train = 1*(y_train==3)\n",
    "y_test = 1*(y_test==3)"
   ]
  },
  {
   "cell_type": "code",
   "execution_count": 12,
   "metadata": {
    "execution": {
     "iopub.execute_input": "2020-09-10T00:06:13.881912Z",
     "iopub.status.busy": "2020-09-10T00:06:13.881272Z",
     "iopub.status.idle": "2020-09-10T00:06:13.893695Z",
     "shell.execute_reply": "2020-09-10T00:06:13.893229Z"
    },
    "papermill": {
     "duration": 0.065704,
     "end_time": "2020-09-10T00:06:13.893810",
     "exception": false,
     "start_time": "2020-09-10T00:06:13.828106",
     "status": "completed"
    },
    "tags": []
   },
   "outputs": [
    {
     "data": {
      "text/plain": [
       "((11982, 28, 28), (1984, 28, 28))"
      ]
     },
     "execution_count": 12,
     "metadata": {},
     "output_type": "execute_result"
    }
   ],
   "source": [
    "X_train.shape, X_test.shape"
   ]
  },
  {
   "cell_type": "markdown",
   "metadata": {
    "papermill": {
     "duration": 0.029525,
     "end_time": "2020-09-10T00:06:14.015577",
     "exception": false,
     "start_time": "2020-09-10T00:06:13.986052",
     "status": "completed"
    },
    "tags": []
   },
   "source": [
    "### Reshape the input data to create a linear array"
   ]
  },
  {
   "cell_type": "code",
   "execution_count": 13,
   "metadata": {
    "execution": {
     "iopub.execute_input": "2020-09-10T00:06:14.117757Z",
     "iopub.status.busy": "2020-09-10T00:06:14.117299Z",
     "iopub.status.idle": "2020-09-10T00:06:14.127649Z",
     "shell.execute_reply": "2020-09-10T00:06:14.128147Z"
    },
    "papermill": {
     "duration": 0.049682,
     "end_time": "2020-09-10T00:06:14.128288",
     "exception": false,
     "start_time": "2020-09-10T00:06:14.078606",
     "status": "completed"
    },
    "tags": []
   },
   "outputs": [
    {
     "data": {
      "text/plain": [
       "((11982, 784), (1984, 784))"
      ]
     },
     "execution_count": 13,
     "metadata": {},
     "output_type": "execute_result"
    }
   ],
   "source": [
    "X_train = X_train.reshape(X_train.shape[0], -1)\n",
    "X_test = X_test.reshape(X_test.shape[0], -1)\n",
    "X_train.shape, X_test.shape"
   ]
  },
  {
   "cell_type": "markdown",
   "metadata": {
    "papermill": {
     "duration": 0.025829,
     "end_time": "2020-09-10T00:06:14.181002",
     "exception": false,
     "start_time": "2020-09-10T00:06:14.155173",
     "status": "completed"
    },
    "tags": []
   },
   "source": [
    "### Importing appropriate functions from 'Kudzu'"
   ]
  },
  {
   "cell_type": "code",
   "execution_count": 14,
   "metadata": {
    "execution": {
     "iopub.execute_input": "2020-09-10T00:06:14.237702Z",
     "iopub.status.busy": "2020-09-10T00:06:14.237117Z",
     "iopub.status.idle": "2020-09-10T00:06:14.257482Z",
     "shell.execute_reply": "2020-09-10T00:06:14.256925Z"
    },
    "papermill": {
     "duration": 0.050013,
     "end_time": "2020-09-10T00:06:14.257603",
     "exception": false,
     "start_time": "2020-09-10T00:06:14.207590",
     "status": "completed"
    },
    "tags": []
   },
   "outputs": [],
   "source": [
    "from kudzu.layer import Sigmoid\n",
    "from kudzu.layer import Relu\n",
    "from kudzu.layer import Affine, Sigmoid\n",
    "\n",
    "from kudzu.model import Model\n",
    "from kudzu.train import Learner\n",
    "from kudzu.optim import GD\n",
    "from kudzu.data import Data, Dataloader, Sampler\n",
    "\n",
    "from kudzu.callbacks import AccCallback\n",
    "from kudzu.callbacks import ClfCallback\n",
    "\n",
    "from kudzu.loss import MSE"
   ]
  },
  {
   "cell_type": "markdown",
   "metadata": {
    "papermill": {
     "duration": 0.025389,
     "end_time": "2020-09-10T00:06:14.308509",
     "exception": false,
     "start_time": "2020-09-10T00:06:14.283120",
     "status": "completed"
    },
    "tags": []
   },
   "source": [
    "### Let us create a `Config` class, to store important parameters. \n",
    "This class essentially plays the role of a dictionary."
   ]
  },
  {
   "cell_type": "code",
   "execution_count": 15,
   "metadata": {
    "execution": {
     "iopub.execute_input": "2020-09-10T00:06:14.370926Z",
     "iopub.status.busy": "2020-09-10T00:06:14.362289Z",
     "iopub.status.idle": "2020-09-10T00:06:14.375299Z",
     "shell.execute_reply": "2020-09-10T00:06:14.374830Z"
    },
    "papermill": {
     "duration": 0.042127,
     "end_time": "2020-09-10T00:06:14.375426",
     "exception": false,
     "start_time": "2020-09-10T00:06:14.333299",
     "status": "completed"
    },
    "tags": []
   },
   "outputs": [],
   "source": [
    "class Config:\n",
    "    pass\n",
    "config = Config()\n",
    "config.lr = 0.001\n",
    "config.num_epochs = 251\n",
    "config.bs = 50"
   ]
  },
  {
   "cell_type": "markdown",
   "metadata": {
    "papermill": {
     "duration": 0.025126,
     "end_time": "2020-09-10T00:06:14.426003",
     "exception": false,
     "start_time": "2020-09-10T00:06:14.400877",
     "status": "completed"
    },
    "tags": []
   },
   "source": [
    "### Initializing data to the variables"
   ]
  },
  {
   "cell_type": "code",
   "execution_count": 16,
   "metadata": {
    "execution": {
     "iopub.execute_input": "2020-09-10T00:06:14.482546Z",
     "iopub.status.busy": "2020-09-10T00:06:14.481993Z",
     "iopub.status.idle": "2020-09-10T00:06:14.494320Z",
     "shell.execute_reply": "2020-09-10T00:06:14.493851Z"
    },
    "papermill": {
     "duration": 0.042845,
     "end_time": "2020-09-10T00:06:14.494425",
     "exception": false,
     "start_time": "2020-09-10T00:06:14.451580",
     "status": "completed"
    },
    "tags": []
   },
   "outputs": [],
   "source": [
    "data = Data(X_train, y_train.reshape(-1,1))\n",
    "sampler = Sampler(data, config.bs, shuffle=True)\n",
    "\n",
    "dl = Dataloader(data, sampler)\n",
    "\n",
    "opt = GD(config.lr)\n",
    "loss = MSE()"
   ]
  },
  {
   "cell_type": "code",
   "execution_count": 17,
   "metadata": {
    "execution": {
     "iopub.execute_input": "2020-09-10T00:06:14.549409Z",
     "iopub.status.busy": "2020-09-10T00:06:14.548888Z",
     "iopub.status.idle": "2020-09-10T00:06:14.561239Z",
     "shell.execute_reply": "2020-09-10T00:06:14.560814Z"
    },
    "papermill": {
     "duration": 0.041774,
     "end_time": "2020-09-10T00:06:14.561349",
     "exception": false,
     "start_time": "2020-09-10T00:06:14.519575",
     "status": "completed"
    },
    "tags": []
   },
   "outputs": [],
   "source": [
    "training_xdata = X_train\n",
    "testing_xdata = X_test\n",
    "training_ydata = y_train.reshape(-1,1)\n",
    "testing_ydata = y_test.reshape(-1,1)"
   ]
  },
  {
   "cell_type": "markdown",
   "metadata": {
    "papermill": {
     "duration": 0.024278,
     "end_time": "2020-09-10T00:06:14.610094",
     "exception": false,
     "start_time": "2020-09-10T00:06:14.585816",
     "status": "completed"
    },
    "tags": []
   },
   "source": [
    "### Running Models with the Training data\n",
    "Details about the network layers:\n",
    "- A first affine layer has 784 inputs and does 100 affine transforms. These are followed by a Relu\n",
    "- A second affine layer has 100 inputs from the 100 activations of the past layer, and does 100 affine transforms. These are followed by a Relu\n",
    "- A third affine layer has 100 activations and does 2 affine transformations to create an embedding for visualization. There is no non-linearity here.\n",
    "- A final \"logistic regression\" which has an affine transform from 2 inputs to 1 output, which is squeezed through a sigmoid.\n",
    "\n",
    "Help taken from Anshuman's Notebook."
   ]
  },
  {
   "cell_type": "code",
   "execution_count": 18,
   "metadata": {
    "execution": {
     "iopub.execute_input": "2020-09-10T00:06:14.668083Z",
     "iopub.status.busy": "2020-09-10T00:06:14.667632Z",
     "iopub.status.idle": "2020-09-10T00:06:14.687509Z",
     "shell.execute_reply": "2020-09-10T00:06:14.686865Z"
    },
    "papermill": {
     "duration": 0.052158,
     "end_time": "2020-09-10T00:06:14.687673",
     "exception": false,
     "start_time": "2020-09-10T00:06:14.635515",
     "status": "completed"
    },
    "tags": []
   },
   "outputs": [],
   "source": [
    "# layers for the Neural Network\n",
    "layers = [Affine(\"first\", 784, 100), Relu(\"first\"), Affine(\"second\", 100, 100), Relu(\"second\"), Affine(\"third\", 100, 2), Affine(\"final\", 2, 1), Sigmoid(\"final\")]\n",
    "model_nn = Model(layers)\n",
    "\n",
    "# layers for the Logistic Regression\n",
    "layers_lr = [Affine(\"logits\", 784, 1), Sigmoid(\"sigmoid\")]\n",
    "model_lr = Model(layers_lr)"
   ]
  },
  {
   "cell_type": "code",
   "execution_count": 19,
   "metadata": {
    "execution": {
     "iopub.execute_input": "2020-09-10T00:06:14.743800Z",
     "iopub.status.busy": "2020-09-10T00:06:14.743342Z",
     "iopub.status.idle": "2020-09-10T00:06:14.754055Z",
     "shell.execute_reply": "2020-09-10T00:06:14.754389Z"
    },
    "papermill": {
     "duration": 0.040322,
     "end_time": "2020-09-10T00:06:14.754490",
     "exception": false,
     "start_time": "2020-09-10T00:06:14.714168",
     "status": "completed"
    },
    "tags": []
   },
   "outputs": [],
   "source": [
    "# suffix _nn stands for Neural Network.\n",
    "learner_nn = Learner(loss, model_nn, opt, config.num_epochs)\n",
    "acc_nn = ClfCallback(learner_nn, config.bs, training_xdata , testing_xdata, training_ydata, testing_ydata)\n",
    "learner_nn.set_callbacks([acc_nn])"
   ]
  },
  {
   "cell_type": "code",
   "execution_count": 20,
   "metadata": {
    "execution": {
     "iopub.execute_input": "2020-09-10T00:06:14.805201Z",
     "iopub.status.busy": "2020-09-10T00:06:14.804642Z",
     "iopub.status.idle": "2020-09-10T00:07:33.023025Z",
     "shell.execute_reply": "2020-09-10T00:07:33.022564Z"
    },
    "papermill": {
     "duration": 78.245474,
     "end_time": "2020-09-10T00:07:33.023177",
     "exception": false,
     "start_time": "2020-09-10T00:06:14.777703",
     "status": "completed"
    },
    "tags": []
   },
   "outputs": [
    {
     "name": "stdout",
     "output_type": "stream",
     "text": [
      "====== Neural Network ======\n"
     ]
    },
    {
     "name": "stdout",
     "output_type": "stream",
     "text": [
      "Epoch 0, Loss 0.251\n",
      "Training Accuracy: 0.5119, Testing Accuracy: 0.5091\n",
      "\n"
     ]
    },
    {
     "name": "stdout",
     "output_type": "stream",
     "text": [
      "Epoch 10, Loss 0.2202\n",
      "Training Accuracy: 0.7160, Testing Accuracy: 0.7067\n",
      "\n"
     ]
    },
    {
     "name": "stdout",
     "output_type": "stream",
     "text": [
      "Epoch 20, Loss 0.1312\n",
      "Training Accuracy: 0.8882, Testing Accuracy: 0.8982\n",
      "\n"
     ]
    },
    {
     "name": "stdout",
     "output_type": "stream",
     "text": [
      "Epoch 30, Loss 0.0722\n",
      "Training Accuracy: 0.9256, Testing Accuracy: 0.9365\n",
      "\n"
     ]
    },
    {
     "name": "stdout",
     "output_type": "stream",
     "text": [
      "Epoch 40, Loss 0.0521\n",
      "Training Accuracy: 0.9437, Testing Accuracy: 0.9536\n",
      "\n"
     ]
    },
    {
     "name": "stdout",
     "output_type": "stream",
     "text": [
      "Epoch 50, Loss 0.0431\n",
      "Training Accuracy: 0.9513, Testing Accuracy: 0.9612\n",
      "\n"
     ]
    },
    {
     "name": "stdout",
     "output_type": "stream",
     "text": [
      "Epoch 60, Loss 0.0382\n",
      "Training Accuracy: 0.9558, Testing Accuracy: 0.9647\n",
      "\n"
     ]
    },
    {
     "name": "stdout",
     "output_type": "stream",
     "text": [
      "Epoch 70, Loss 0.0351\n",
      "Training Accuracy: 0.9588, Testing Accuracy: 0.9672\n",
      "\n"
     ]
    },
    {
     "name": "stdout",
     "output_type": "stream",
     "text": [
      "Epoch 80, Loss 0.0328\n",
      "Training Accuracy: 0.9613, Testing Accuracy: 0.9698\n",
      "\n"
     ]
    },
    {
     "name": "stdout",
     "output_type": "stream",
     "text": [
      "Epoch 90, Loss 0.0311\n",
      "Training Accuracy: 0.9622, Testing Accuracy: 0.9703\n",
      "\n"
     ]
    },
    {
     "name": "stdout",
     "output_type": "stream",
     "text": [
      "Epoch 100, Loss 0.0297\n",
      "Training Accuracy: 0.9643, Testing Accuracy: 0.9718\n",
      "\n"
     ]
    },
    {
     "name": "stdout",
     "output_type": "stream",
     "text": [
      "Epoch 110, Loss 0.0286\n",
      "Training Accuracy: 0.9659, Testing Accuracy: 0.9713\n",
      "\n"
     ]
    },
    {
     "name": "stdout",
     "output_type": "stream",
     "text": [
      "Epoch 120, Loss 0.0276\n",
      "Training Accuracy: 0.9670, Testing Accuracy: 0.9708\n",
      "\n"
     ]
    },
    {
     "name": "stdout",
     "output_type": "stream",
     "text": [
      "Epoch 130, Loss 0.0268\n",
      "Training Accuracy: 0.9686, Testing Accuracy: 0.9713\n",
      "\n"
     ]
    },
    {
     "name": "stdout",
     "output_type": "stream",
     "text": [
      "Epoch 140, Loss 0.026\n",
      "Training Accuracy: 0.9701, Testing Accuracy: 0.9718\n",
      "\n"
     ]
    },
    {
     "name": "stdout",
     "output_type": "stream",
     "text": [
      "Epoch 150, Loss 0.0253\n",
      "Training Accuracy: 0.9705, Testing Accuracy: 0.9718\n",
      "\n"
     ]
    },
    {
     "name": "stdout",
     "output_type": "stream",
     "text": [
      "Epoch 160, Loss 0.0247\n",
      "Training Accuracy: 0.9714, Testing Accuracy: 0.9728\n",
      "\n"
     ]
    },
    {
     "name": "stdout",
     "output_type": "stream",
     "text": [
      "Epoch 170, Loss 0.0241\n",
      "Training Accuracy: 0.9716, Testing Accuracy: 0.9733\n",
      "\n"
     ]
    },
    {
     "name": "stdout",
     "output_type": "stream",
     "text": [
      "Epoch 180, Loss 0.0236\n",
      "Training Accuracy: 0.9724, Testing Accuracy: 0.9733\n",
      "\n"
     ]
    },
    {
     "name": "stdout",
     "output_type": "stream",
     "text": [
      "Epoch 190, Loss 0.0231\n",
      "Training Accuracy: 0.9735, Testing Accuracy: 0.9733\n",
      "\n"
     ]
    },
    {
     "name": "stdout",
     "output_type": "stream",
     "text": [
      "Epoch 200, Loss 0.0226\n",
      "Training Accuracy: 0.9742, Testing Accuracy: 0.9728\n",
      "\n"
     ]
    },
    {
     "name": "stdout",
     "output_type": "stream",
     "text": [
      "Epoch 210, Loss 0.0222\n",
      "Training Accuracy: 0.9748, Testing Accuracy: 0.9728\n",
      "\n"
     ]
    },
    {
     "name": "stdout",
     "output_type": "stream",
     "text": [
      "Epoch 220, Loss 0.0218\n",
      "Training Accuracy: 0.9754, Testing Accuracy: 0.9733\n",
      "\n"
     ]
    },
    {
     "name": "stdout",
     "output_type": "stream",
     "text": [
      "Epoch 230, Loss 0.0213\n",
      "Training Accuracy: 0.9761, Testing Accuracy: 0.9728\n",
      "\n"
     ]
    },
    {
     "name": "stdout",
     "output_type": "stream",
     "text": [
      "Epoch 240, Loss 0.0209\n",
      "Training Accuracy: 0.9770, Testing Accuracy: 0.9738\n",
      "\n"
     ]
    },
    {
     "name": "stdout",
     "output_type": "stream",
     "text": [
      "Epoch 250, Loss 0.0205\n",
      "Training Accuracy: 0.9775, Testing Accuracy: 0.9738\n",
      "\n"
     ]
    },
    {
     "data": {
      "text/plain": [
       "0.023793441416901876"
      ]
     },
     "execution_count": 20,
     "metadata": {},
     "output_type": "execute_result"
    }
   ],
   "source": [
    "print(\"====== Neural Network ======\")\n",
    "learner_nn.train_loop(dl)"
   ]
  },
  {
   "cell_type": "markdown",
   "metadata": {
    "papermill": {
     "duration": 0.03489,
     "end_time": "2020-09-10T00:07:33.093186",
     "exception": false,
     "start_time": "2020-09-10T00:07:33.058296",
     "status": "completed"
    },
    "tags": []
   },
   "source": [
    "### Logistic Regression based Implementation."
   ]
  },
  {
   "cell_type": "code",
   "execution_count": 21,
   "metadata": {
    "execution": {
     "iopub.execute_input": "2020-09-10T00:07:33.167442Z",
     "iopub.status.busy": "2020-09-10T00:07:33.166858Z",
     "iopub.status.idle": "2020-09-10T00:07:33.175452Z",
     "shell.execute_reply": "2020-09-10T00:07:33.175010Z"
    },
    "papermill": {
     "duration": 0.049976,
     "end_time": "2020-09-10T00:07:33.175572",
     "exception": false,
     "start_time": "2020-09-10T00:07:33.125596",
     "status": "completed"
    },
    "tags": []
   },
   "outputs": [],
   "source": [
    "learner_lr = Learner(loss, model_lr, opt, config.num_epochs)\n",
    "acc_lr = ClfCallback(learner_lr, config.bs, training_xdata , testing_xdata, training_ydata, testing_ydata)\n",
    "learner_lr.set_callbacks([acc_lr])"
   ]
  },
  {
   "cell_type": "code",
   "execution_count": 22,
   "metadata": {
    "execution": {
     "iopub.execute_input": "2020-09-10T00:07:33.246556Z",
     "iopub.status.busy": "2020-09-10T00:07:33.245985Z",
     "iopub.status.idle": "2020-09-10T00:07:47.512250Z",
     "shell.execute_reply": "2020-09-10T00:07:47.512686Z"
    },
    "papermill": {
     "duration": 14.304443,
     "end_time": "2020-09-10T00:07:47.512830",
     "exception": false,
     "start_time": "2020-09-10T00:07:33.208387",
     "status": "completed"
    },
    "tags": []
   },
   "outputs": [
    {
     "name": "stdout",
     "output_type": "stream",
     "text": [
      "====== Logistic Regression ======\n",
      "Epoch 0, Loss 0.2202\n",
      "Training Accuracy: 0.7746, Testing Accuracy: 0.7515\n",
      "\n"
     ]
    },
    {
     "name": "stdout",
     "output_type": "stream",
     "text": [
      "Epoch 10, Loss 0.099\n",
      "Training Accuracy: 0.9163, Testing Accuracy: 0.9229\n",
      "\n"
     ]
    },
    {
     "name": "stdout",
     "output_type": "stream",
     "text": [
      "Epoch 20, Loss 0.0768\n",
      "Training Accuracy: 0.9311, Testing Accuracy: 0.9435\n",
      "\n"
     ]
    },
    {
     "name": "stdout",
     "output_type": "stream",
     "text": [
      "Epoch 30, Loss 0.0664\n",
      "Training Accuracy: 0.9390, Testing Accuracy: 0.9506\n",
      "\n"
     ]
    },
    {
     "name": "stdout",
     "output_type": "stream",
     "text": [
      "Epoch 40, Loss 0.06\n",
      "Training Accuracy: 0.9440, Testing Accuracy: 0.9511\n",
      "\n"
     ]
    },
    {
     "name": "stdout",
     "output_type": "stream",
     "text": [
      "Epoch 50, Loss 0.0557\n",
      "Training Accuracy: 0.9469, Testing Accuracy: 0.9556\n",
      "\n"
     ]
    },
    {
     "name": "stdout",
     "output_type": "stream",
     "text": [
      "Epoch 60, Loss 0.0526\n",
      "Training Accuracy: 0.9498, Testing Accuracy: 0.9567\n",
      "\n"
     ]
    },
    {
     "name": "stdout",
     "output_type": "stream",
     "text": [
      "Epoch 70, Loss 0.0501\n",
      "Training Accuracy: 0.9518, Testing Accuracy: 0.9597\n",
      "\n"
     ]
    },
    {
     "name": "stdout",
     "output_type": "stream",
     "text": [
      "Epoch 80, Loss 0.0481\n",
      "Training Accuracy: 0.9526, Testing Accuracy: 0.9617\n",
      "\n"
     ]
    },
    {
     "name": "stdout",
     "output_type": "stream",
     "text": [
      "Epoch 90, Loss 0.0465\n",
      "Training Accuracy: 0.9539, Testing Accuracy: 0.9622\n",
      "\n"
     ]
    },
    {
     "name": "stdout",
     "output_type": "stream",
     "text": [
      "Epoch 100, Loss 0.0452\n",
      "Training Accuracy: 0.9551, Testing Accuracy: 0.9632\n",
      "\n"
     ]
    },
    {
     "name": "stdout",
     "output_type": "stream",
     "text": [
      "Epoch 110, Loss 0.044\n",
      "Training Accuracy: 0.9564, Testing Accuracy: 0.9647\n",
      "\n"
     ]
    },
    {
     "name": "stdout",
     "output_type": "stream",
     "text": [
      "Epoch 120, Loss 0.043\n",
      "Training Accuracy: 0.9572, Testing Accuracy: 0.9642\n",
      "\n"
     ]
    },
    {
     "name": "stdout",
     "output_type": "stream",
     "text": [
      "Epoch 130, Loss 0.0421\n",
      "Training Accuracy: 0.9579, Testing Accuracy: 0.9662\n",
      "\n"
     ]
    },
    {
     "name": "stdout",
     "output_type": "stream",
     "text": [
      "Epoch 140, Loss 0.0413\n",
      "Training Accuracy: 0.9582, Testing Accuracy: 0.9657\n",
      "\n"
     ]
    },
    {
     "name": "stdout",
     "output_type": "stream",
     "text": [
      "Epoch 150, Loss 0.0406\n",
      "Training Accuracy: 0.9587, Testing Accuracy: 0.9657\n",
      "\n"
     ]
    },
    {
     "name": "stdout",
     "output_type": "stream",
     "text": [
      "Epoch 160, Loss 0.0399\n",
      "Training Accuracy: 0.9590, Testing Accuracy: 0.9657\n",
      "\n"
     ]
    },
    {
     "name": "stdout",
     "output_type": "stream",
     "text": [
      "Epoch 170, Loss 0.0393\n",
      "Training Accuracy: 0.9595, Testing Accuracy: 0.9667\n",
      "\n"
     ]
    },
    {
     "name": "stdout",
     "output_type": "stream",
     "text": [
      "Epoch 180, Loss 0.0388\n",
      "Training Accuracy: 0.9603, Testing Accuracy: 0.9662\n",
      "\n"
     ]
    },
    {
     "name": "stdout",
     "output_type": "stream",
     "text": [
      "Epoch 190, Loss 0.0383\n",
      "Training Accuracy: 0.9604, Testing Accuracy: 0.9652\n",
      "\n"
     ]
    },
    {
     "name": "stdout",
     "output_type": "stream",
     "text": [
      "Epoch 200, Loss 0.0378\n",
      "Training Accuracy: 0.9604, Testing Accuracy: 0.9657\n",
      "\n"
     ]
    },
    {
     "name": "stdout",
     "output_type": "stream",
     "text": [
      "Epoch 210, Loss 0.0374\n",
      "Training Accuracy: 0.9611, Testing Accuracy: 0.9657\n",
      "\n"
     ]
    },
    {
     "name": "stdout",
     "output_type": "stream",
     "text": [
      "Epoch 220, Loss 0.037\n",
      "Training Accuracy: 0.9613, Testing Accuracy: 0.9657\n",
      "\n"
     ]
    },
    {
     "name": "stdout",
     "output_type": "stream",
     "text": [
      "Epoch 230, Loss 0.0366\n",
      "Training Accuracy: 0.9617, Testing Accuracy: 0.9662\n",
      "\n"
     ]
    },
    {
     "name": "stdout",
     "output_type": "stream",
     "text": [
      "Epoch 240, Loss 0.0363\n",
      "Training Accuracy: 0.9619, Testing Accuracy: 0.9667\n",
      "\n"
     ]
    },
    {
     "name": "stdout",
     "output_type": "stream",
     "text": [
      "Epoch 250, Loss 0.036\n",
      "Training Accuracy: 0.9620, Testing Accuracy: 0.9667\n",
      "\n"
     ]
    },
    {
     "data": {
      "text/plain": [
       "0.022301967397520498"
      ]
     },
     "execution_count": 22,
     "metadata": {},
     "output_type": "execute_result"
    }
   ],
   "source": [
    "print(\"====== Logistic Regression ======\")\n",
    "learner_lr.train_loop(dl)"
   ]
  },
  {
   "cell_type": "markdown",
   "metadata": {
    "papermill": {
     "duration": 0.039972,
     "end_time": "2020-09-10T00:07:47.590611",
     "exception": false,
     "start_time": "2020-09-10T00:07:47.550639",
     "status": "completed"
    },
    "tags": []
   },
   "source": [
    "### Comparing results of NN and LR"
   ]
  },
  {
   "cell_type": "code",
   "execution_count": 23,
   "metadata": {
    "execution": {
     "iopub.execute_input": "2020-09-10T00:07:47.681232Z",
     "iopub.status.busy": "2020-09-10T00:07:47.679923Z",
     "iopub.status.idle": "2020-09-10T00:07:47.899155Z",
     "shell.execute_reply": "2020-09-10T00:07:47.898707Z"
    },
    "papermill": {
     "duration": 0.269295,
     "end_time": "2020-09-10T00:07:47.899266",
     "exception": false,
     "start_time": "2020-09-10T00:07:47.629971",
     "status": "completed"
    },
    "tags": []
   },
   "outputs": [
    {
     "data": {
      "text/plain": [
       "<matplotlib.legend.Legend at 0x7f1d0c6b04e0>"
      ]
     },
     "execution_count": 23,
     "metadata": {},
     "output_type": "execute_result"
    },
    {
     "data": {
      "image/png": "[encoded data removed]",
      "text/plain": [
       "<Figure size 1080x720 with 1 Axes>"
      ]
     },
     "metadata": {
      "needs_background": "light"
     },
     "output_type": "display_data"
    }
   ],
   "source": [
    "plt.figure(figsize=(15,10))\n",
    "\n",
    "# Neural Network plots\n",
    "plt.plot(acc_nn.accuracies, 'r-', label = \"Training Accuracies - NN\")\n",
    "plt.plot(acc_nn.test_accuracies, 'g-', label = \"Testing Accuracies - NN\")\n",
    "\n",
    "# Logistic Regression plots\n",
    "plt.plot(acc_lr.accuracies, 'k-', label = \"Training Accuracies - LR\")\n",
    "plt.plot(acc_lr.test_accuracies, 'b-', label = \"Testing Accuracies - LR\")\n",
    "\n",
    "plt.ylim(0.8, 1)\n",
    "\n",
    "plt.legend()\n",
    "\n"
   ]
  },
  {
   "cell_type": "markdown",
   "metadata": {
    "papermill": {
     "duration": 0.040962,
     "end_time": "2020-09-10T00:07:47.982042",
     "exception": false,
     "start_time": "2020-09-10T00:07:47.941080",
     "status": "completed"
    },
    "tags": []
   },
   "source": [
    "### From the plot, we can observe the following:\n",
    "- Neural Network achieves higher accuracy than the Logistic Regression model.\n",
    "- This apparently, is because of overfitting, i.e. NN captures more noise than data.\n",
    "- Testing accuracy of NN drops below the Training accuracy at higher epochs. This explains the over-fitting on training data.\n",
    "- Logistic Regression gives a reliable accuracy, without the above mentioned problem.\n"
   ]
  },
  {
   "cell_type": "markdown",
   "metadata": {
    "papermill": {
     "duration": 0.044229,
     "end_time": "2020-09-10T00:07:48.070724",
     "exception": false,
     "start_time": "2020-09-10T00:07:48.026495",
     "status": "completed"
    },
    "tags": []
   },
   "source": [
    "### Moving till the last but one layer (excluding it).\n",
    "#### Plotting the outputs of this layer of the NN."
   ]
  },
  {
   "cell_type": "code",
   "execution_count": 24,
   "metadata": {
    "execution": {
     "iopub.execute_input": "2020-09-10T00:07:48.160426Z",
     "iopub.status.busy": "2020-09-10T00:07:48.159885Z",
     "iopub.status.idle": "2020-09-10T00:07:48.173154Z",
     "shell.execute_reply": "2020-09-10T00:07:48.172687Z"
    },
    "papermill": {
     "duration": 0.060938,
     "end_time": "2020-09-10T00:07:48.173293",
     "exception": false,
     "start_time": "2020-09-10T00:07:48.112355",
     "status": "completed"
    },
    "tags": []
   },
   "outputs": [],
   "source": [
    "model_new = Model(layers[:-2])"
   ]
  },
  {
   "cell_type": "code",
   "execution_count": 25,
   "metadata": {
    "execution": {
     "iopub.execute_input": "2020-09-10T00:07:48.265429Z",
     "iopub.status.busy": "2020-09-10T00:07:48.264875Z",
     "iopub.status.idle": "2020-09-10T00:07:48.284782Z",
     "shell.execute_reply": "2020-09-10T00:07:48.285521Z"
    },
    "papermill": {
     "duration": 0.068614,
     "end_time": "2020-09-10T00:07:48.285658",
     "exception": false,
     "start_time": "2020-09-10T00:07:48.217044",
     "status": "completed"
    },
    "tags": []
   },
   "outputs": [],
   "source": [
    "plot_testing = model_new(testing_xdata)"
   ]
  },
  {
   "cell_type": "code",
   "execution_count": 26,
   "metadata": {
    "execution": {
     "iopub.execute_input": "2020-09-10T00:07:48.383897Z",
     "iopub.status.busy": "2020-09-10T00:07:48.383315Z",
     "iopub.status.idle": "2020-09-10T00:07:48.593176Z",
     "shell.execute_reply": "2020-09-10T00:07:48.593649Z"
    },
    "papermill": {
     "duration": 0.262679,
     "end_time": "2020-09-10T00:07:48.593801",
     "exception": false,
     "start_time": "2020-09-10T00:07:48.331122",
     "status": "completed"
    },
    "tags": []
   },
   "outputs": [
    {
     "data": {
      "text/plain": [
       "Text(0.5, 1.0, 'Outputs')"
      ]
     },
     "execution_count": 26,
     "metadata": {},
     "output_type": "execute_result"
    },
    {
     "data": {
      "image/png": "[encoded data removed]",
      "text/plain": [
       "<Figure size 576x504 with 1 Axes>"
      ]
     },
     "metadata": {
      "needs_background": "light"
     },
     "output_type": "display_data"
    }
   ],
   "source": [
    "plt.figure(figsize=(8,7))\n",
    "plt.scatter(plot_testing[:,0], plot_testing[:,1], alpha = 0.1, c = y_test.ravel());\n",
    "plt.title('Outputs')"
   ]
  },
  {
   "cell_type": "markdown",
   "metadata": {
    "papermill": {
     "duration": 0.048538,
     "end_time": "2020-09-10T00:07:48.691916",
     "exception": false,
     "start_time": "2020-09-10T00:07:48.643378",
     "status": "completed"
    },
    "tags": []
   },
   "source": [
    "### Plotting probability contours"
   ]
  },
  {
   "cell_type": "code",
   "execution_count": 27,
   "metadata": {
    "execution": {
     "iopub.execute_input": "2020-09-10T00:07:48.787809Z",
     "iopub.status.busy": "2020-09-10T00:07:48.786805Z",
     "iopub.status.idle": "2020-09-10T00:07:48.798450Z",
     "shell.execute_reply": "2020-09-10T00:07:48.798927Z"
    },
    "papermill": {
     "duration": 0.062356,
     "end_time": "2020-09-10T00:07:48.799075",
     "exception": false,
     "start_time": "2020-09-10T00:07:48.736719",
     "status": "completed"
    },
    "tags": []
   },
   "outputs": [],
   "source": [
    "model_prob = Model(layers[-2:]) "
   ]
  },
  {
   "cell_type": "code",
   "execution_count": 28,
   "metadata": {
    "execution": {
     "iopub.execute_input": "2020-09-10T00:07:48.905549Z",
     "iopub.status.busy": "2020-09-10T00:07:48.905007Z",
     "iopub.status.idle": "2020-09-10T00:07:48.916607Z",
     "shell.execute_reply": "2020-09-10T00:07:48.917380Z"
    },
    "papermill": {
     "duration": 0.072162,
     "end_time": "2020-09-10T00:07:48.917520",
     "exception": false,
     "start_time": "2020-09-10T00:07:48.845358",
     "status": "completed"
    },
    "tags": []
   },
   "outputs": [],
   "source": [
    "# Adjust the x and y ranges according to the above generated plot.\n",
    "x_range = np.linspace(-4, 1, 100) \n",
    "y_range = np.linspace(-6, 6, 100) \n",
    "x_grid, y_grid = np.meshgrid(x_range, y_range) # x_grid and y_grig are of size 100 X 100\n",
    "\n",
    "# converting x_grid and y_grid to continuous arrays\n",
    "x_grid_flat = np.ravel(x_grid)\n",
    "y_grid_flat = np.ravel(y_grid)\n",
    "\n",
    "# The last layer of the current model takes two columns as input. Hence transpose of np.vstack() is required.\n",
    "X = np.vstack((x_grid_flat, y_grid_flat)).T\n",
    "\n",
    "# x_grid and y_grid are of size 100 x 100\n",
    "probability_contour = model_prob(X).reshape(100,100) "
   ]
  },
  {
   "cell_type": "code",
   "execution_count": 29,
   "metadata": {
    "execution": {
     "iopub.execute_input": "2020-09-10T00:07:49.027459Z",
     "iopub.status.busy": "2020-09-10T00:07:49.026976Z",
     "iopub.status.idle": "2020-09-10T00:07:49.236939Z",
     "shell.execute_reply": "2020-09-10T00:07:49.237808Z"
    },
    "papermill": {
     "duration": 0.271497,
     "end_time": "2020-09-10T00:07:49.238050",
     "exception": false,
     "start_time": "2020-09-10T00:07:48.966553",
     "status": "completed"
    },
    "tags": []
   },
   "outputs": [
    {
     "data": {
      "image/png": "[encoded data removed]",
      "text/plain": [
       "<Figure size 720x648 with 1 Axes>"
      ]
     },
     "metadata": {
      "needs_background": "light"
     },
     "output_type": "display_data"
    }
   ],
   "source": [
    "plt.figure(figsize=(10,9))\n",
    "plt.scatter(plot_testing[:,0], plot_testing[:,1], alpha = 0.1, c = y_test.ravel())\n",
    "contours = plt.contour(x_grid,y_grid,probability_contour)\n",
    "plt.title('Probability Contours')\n",
    "plt.clabel(contours, inline = True );"
   ]
  }
 ],
 "metadata": {
  "kernelspec": {
   "display_name": "Python 3",
   "language": "python",
   "name": "python3"
  },
  "language_info": {
   "codemirror_mode": {
    "name": "ipython",
    "version": 3
   },
   "file_extension": ".py",
   "mimetype": "text/x-python",
   "name": "python",
   "nbconvert_exporter": "python",
   "pygments_lexer": "ipython3",
   "version": "3.6.12"
  },
  "papermill": {
   "duration": 102.726873,
   "end_time": "2020-09-10T00:07:49.592864",
   "environment_variables": {},
   "exception": null,
   "input_path": "2020-08-11-NeuralNetwork.ipynb",
   "output_path": "2020-08-11-NeuralNetwork.ipynb",
   "parameters": {},
   "start_time": "2020-09-10T00:06:06.865991",
   "version": "2.1.2"
  }
 },
 "nbformat": 4,
 "nbformat_minor": 4
}