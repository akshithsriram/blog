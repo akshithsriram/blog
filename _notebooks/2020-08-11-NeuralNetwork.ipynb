{
 "cells": [
  {
   "cell_type": "markdown",
   "metadata": {
    "papermill": {
     "duration": 0.030104,
     "end_time": "2020-10-31T00:05:27.375378",
     "exception": false,
     "start_time": "2020-10-31T00:05:27.345274",
     "status": "completed"
    },
    "tags": []
   },
   "source": [
    "# \"A Basic Neural Network: Differentiate Hand-Written Digits\"\n",
    "\n",
    "- badges: true\n",
    "- author: Akshith Sriram"
   ]
  },
  {
   "cell_type": "markdown",
   "metadata": {
    "papermill": {
     "duration": 0.023216,
     "end_time": "2020-10-31T00:05:27.423067",
     "exception": false,
     "start_time": "2020-10-31T00:05:27.399851",
     "status": "completed"
    },
    "tags": []
   },
   "source": [
    "### Key Objectives:\n",
    "- Building a neural network that differentiates two hand-written digits 3 and 8.\n",
    "- Comparing the results of this Neural Network (NN) to that of a Logistic Regression (LR) model.\n",
    "\n",
    "### Requirements:\n",
    "- 'Kudzu' : A neural network library that was designed during our course by [Univ.AI](www.univ.ai). \n",
    "- MNIST Database\n",
    "\n",
    "If MNIST is not installed, use the command `!pip install mnist` given below.\n",
    "It can be run both from the command line and Jupyter Notebook."
   ]
  },
  {
   "cell_type": "code",
   "execution_count": 1,
   "metadata": {
    "execution": {
     "iopub.execute_input": "2020-10-31T00:05:27.476536Z",
     "iopub.status.busy": "2020-10-31T00:05:27.475976Z",
     "iopub.status.idle": "2020-10-31T00:05:28.883729Z",
     "shell.execute_reply": "2020-10-31T00:05:28.884579Z"
    },
    "papermill": {
     "duration": 1.437993,
     "end_time": "2020-10-31T00:05:28.884873",
     "exception": false,
     "start_time": "2020-10-31T00:05:27.446880",
     "status": "completed"
    },
    "tags": []
   },
   "outputs": [
    {
     "name": "stdout",
     "output_type": "stream",
     "text": [
      "Collecting mnist\r\n"
     ]
    },
    {
     "name": "stdout",
     "output_type": "stream",
     "text": [
      "  Downloading mnist-0.2.2-py2.py3-none-any.whl (3.5 kB)\r\n",
      "Requirement already satisfied: numpy in /opt/hostedtoolcache/Python/3.6.12/x64/lib/python3.6/site-packages (from mnist) (1.19.3)\r\n"
     ]
    },
    {
     "name": "stdout",
     "output_type": "stream",
     "text": [
      "Installing collected packages: mnist\r\n"
     ]
    },
    {
     "name": "stdout",
     "output_type": "stream",
     "text": [
      "Successfully installed mnist-0.2.2\r\n"
     ]
    }
   ],
   "source": [
    "!pip install mnist "
   ]
  },
  {
   "cell_type": "markdown",
   "metadata": {
    "papermill": {
     "duration": 0.025038,
     "end_time": "2020-10-31T00:05:28.935558",
     "exception": false,
     "start_time": "2020-10-31T00:05:28.910520",
     "status": "completed"
    },
    "tags": []
   },
   "source": [
    "#### Importing necessary libraries"
   ]
  },
  {
   "cell_type": "code",
   "execution_count": 2,
   "metadata": {
    "execution": {
     "iopub.execute_input": "2020-10-31T00:05:28.997704Z",
     "iopub.status.busy": "2020-10-31T00:05:28.997110Z",
     "iopub.status.idle": "2020-10-31T00:05:29.555114Z",
     "shell.execute_reply": "2020-10-31T00:05:29.554569Z"
    },
    "papermill": {
     "duration": 0.594436,
     "end_time": "2020-10-31T00:05:29.555257",
     "exception": false,
     "start_time": "2020-10-31T00:05:28.960821",
     "status": "completed"
    },
    "tags": []
   },
   "outputs": [],
   "source": [
    "%load_ext autoreload\n",
    "%autoreload 2\n",
    "\n",
    "%matplotlib inline\n",
    "import matplotlib.pyplot as plt\n",
    "\n",
    "import numpy as np\n",
    "import pandas as pd"
   ]
  },
  {
   "cell_type": "markdown",
   "metadata": {
    "papermill": {
     "duration": 0.270005,
     "end_time": "2020-10-31T00:05:29.851407",
     "exception": false,
     "start_time": "2020-10-31T00:05:29.581402",
     "status": "completed"
    },
    "tags": []
   },
   "source": [
    "### Preparing the Data"
   ]
  },
  {
   "cell_type": "code",
   "execution_count": 3,
   "metadata": {
    "execution": {
     "iopub.execute_input": "2020-10-31T00:05:29.909157Z",
     "iopub.status.busy": "2020-10-31T00:05:29.908090Z",
     "iopub.status.idle": "2020-10-31T00:05:29.920870Z",
     "shell.execute_reply": "2020-10-31T00:05:29.921307Z"
    },
    "papermill": {
     "duration": 0.041496,
     "end_time": "2020-10-31T00:05:29.921444",
     "exception": false,
     "start_time": "2020-10-31T00:05:29.879948",
     "status": "completed"
    },
    "tags": []
   },
   "outputs": [],
   "source": [
    "import mnist"
   ]
  },
  {
   "cell_type": "code",
   "execution_count": 4,
   "metadata": {
    "execution": {
     "iopub.execute_input": "2020-10-31T00:05:29.981702Z",
     "iopub.status.busy": "2020-10-31T00:05:29.980255Z",
     "iopub.status.idle": "2020-10-31T00:05:30.671091Z",
     "shell.execute_reply": "2020-10-31T00:05:30.670548Z"
    },
    "papermill": {
     "duration": 0.724547,
     "end_time": "2020-10-31T00:05:30.671207",
     "exception": false,
     "start_time": "2020-10-31T00:05:29.946660",
     "status": "completed"
    },
    "tags": []
   },
   "outputs": [],
   "source": [
    "train_images = mnist.train_images()\n",
    "train_labels = mnist.train_labels()"
   ]
  },
  {
   "cell_type": "code",
   "execution_count": 5,
   "metadata": {
    "execution": {
     "iopub.execute_input": "2020-10-31T00:05:30.725582Z",
     "iopub.status.busy": "2020-10-31T00:05:30.724981Z",
     "iopub.status.idle": "2020-10-31T00:05:30.741076Z",
     "shell.execute_reply": "2020-10-31T00:05:30.740316Z"
    },
    "papermill": {
     "duration": 0.045184,
     "end_time": "2020-10-31T00:05:30.741205",
     "exception": false,
     "start_time": "2020-10-31T00:05:30.696021",
     "status": "completed"
    },
    "tags": []
   },
   "outputs": [
    {
     "data": {
      "text/plain": [
       "((60000, 28, 28), (60000,))"
      ]
     },
     "execution_count": 5,
     "metadata": {},
     "output_type": "execute_result"
    }
   ],
   "source": [
    "train_images.shape, train_labels.shape"
   ]
  },
  {
   "cell_type": "code",
   "execution_count": 6,
   "metadata": {
    "execution": {
     "iopub.execute_input": "2020-10-31T00:05:30.794187Z",
     "iopub.status.busy": "2020-10-31T00:05:30.793607Z",
     "iopub.status.idle": "2020-10-31T00:05:31.036269Z",
     "shell.execute_reply": "2020-10-31T00:05:31.035145Z"
    },
    "papermill": {
     "duration": 0.270702,
     "end_time": "2020-10-31T00:05:31.036413",
     "exception": false,
     "start_time": "2020-10-31T00:05:30.765711",
     "status": "completed"
    },
    "tags": []
   },
   "outputs": [],
   "source": [
    "test_images = mnist.test_images()\n",
    "test_labels = mnist.test_labels()"
   ]
  },
  {
   "cell_type": "code",
   "execution_count": 7,
   "metadata": {
    "execution": {
     "iopub.execute_input": "2020-10-31T00:05:31.092003Z",
     "iopub.status.busy": "2020-10-31T00:05:31.091415Z",
     "iopub.status.idle": "2020-10-31T00:05:31.105843Z",
     "shell.execute_reply": "2020-10-31T00:05:31.105374Z"
    },
    "papermill": {
     "duration": 0.043562,
     "end_time": "2020-10-31T00:05:31.105986",
     "exception": false,
     "start_time": "2020-10-31T00:05:31.062424",
     "status": "completed"
    },
    "tags": []
   },
   "outputs": [
    {
     "data": {
      "text/plain": [
       "((10000, 28, 28), (10000,))"
      ]
     },
     "execution_count": 7,
     "metadata": {},
     "output_type": "execute_result"
    }
   ],
   "source": [
    "test_images.shape, test_labels.shape"
   ]
  },
  {
   "cell_type": "code",
   "execution_count": 8,
   "metadata": {
    "execution": {
     "iopub.execute_input": "2020-10-31T00:05:31.160564Z",
     "iopub.status.busy": "2020-10-31T00:05:31.160025Z",
     "iopub.status.idle": "2020-10-31T00:05:31.304924Z",
     "shell.execute_reply": "2020-10-31T00:05:31.305347Z"
    },
    "papermill": {
     "duration": 0.174398,
     "end_time": "2020-10-31T00:05:31.305498",
     "exception": false,
     "start_time": "2020-10-31T00:05:31.131100",
     "status": "completed"
    },
    "tags": []
   },
   "outputs": [
    {
     "name": "stdout",
     "output_type": "stream",
     "text": [
      "2\n"
     ]
    },
    {
     "data": {
      "text/plain": [
       "<matplotlib.image.AxesImage at 0x7fdacbcd6438>"
      ]
     },
     "execution_count": 8,
     "metadata": {},
     "output_type": "execute_result"
    },
    {
     "data": {
      "image/png": "[encoded data removed]",
      "text/plain": [
       "<Figure size 432x288 with 1 Axes>"
      ]
     },
     "metadata": {
      "needs_background": "light"
     },
     "output_type": "display_data"
    }
   ],
   "source": [
    "image_index = 7776 # You may select anything up to 60,000\n",
    "print(train_labels[image_index]) \n",
    "plt.imshow(train_images[image_index], cmap='Greys')"
   ]
  },
  {
   "cell_type": "markdown",
   "metadata": {
    "papermill": {
     "duration": 0.026472,
     "end_time": "2020-10-31T00:05:31.358570",
     "exception": false,
     "start_time": "2020-10-31T00:05:31.332098",
     "status": "completed"
    },
    "tags": []
   },
   "source": [
    "## Filter data to get 3 and 8 out"
   ]
  },
  {
   "cell_type": "code",
   "execution_count": 9,
   "metadata": {
    "execution": {
     "iopub.execute_input": "2020-10-31T00:05:31.423033Z",
     "iopub.status.busy": "2020-10-31T00:05:31.416149Z",
     "iopub.status.idle": "2020-10-31T00:05:31.437014Z",
     "shell.execute_reply": "2020-10-31T00:05:31.437511Z"
    },
    "papermill": {
     "duration": 0.05285,
     "end_time": "2020-10-31T00:05:31.437664",
     "exception": false,
     "start_time": "2020-10-31T00:05:31.384814",
     "status": "completed"
    },
    "tags": []
   },
   "outputs": [],
   "source": [
    "train_filter = np.where((train_labels == 3 ) | (train_labels == 8))\n",
    "test_filter = np.where((test_labels == 3) | (test_labels == 8))\n",
    "X_train, y_train = train_images[train_filter], train_labels[train_filter]\n",
    "X_test, y_test = test_images[test_filter], test_labels[test_filter]"
   ]
  },
  {
   "cell_type": "markdown",
   "metadata": {
    "papermill": {
     "duration": 0.026231,
     "end_time": "2020-10-31T00:05:31.490449",
     "exception": false,
     "start_time": "2020-10-31T00:05:31.464218",
     "status": "completed"
    },
    "tags": []
   },
   "source": [
    "We normalize the pixel values in the 0 to 1 range"
   ]
  },
  {
   "cell_type": "code",
   "execution_count": 10,
   "metadata": {
    "execution": {
     "iopub.execute_input": "2020-10-31T00:05:31.547244Z",
     "iopub.status.busy": "2020-10-31T00:05:31.546701Z",
     "iopub.status.idle": "2020-10-31T00:05:31.600908Z",
     "shell.execute_reply": "2020-10-31T00:05:31.600054Z"
    },
    "papermill": {
     "duration": 0.085002,
     "end_time": "2020-10-31T00:05:31.601127",
     "exception": false,
     "start_time": "2020-10-31T00:05:31.516125",
     "status": "completed"
    },
    "tags": []
   },
   "outputs": [],
   "source": [
    "X_train = X_train/255.\n",
    "X_test = X_test/255."
   ]
  },
  {
   "cell_type": "markdown",
   "metadata": {
    "papermill": {
     "duration": 0.026399,
     "end_time": "2020-10-31T00:05:31.654833",
     "exception": false,
     "start_time": "2020-10-31T00:05:31.628434",
     "status": "completed"
    },
    "tags": []
   },
   "source": [
    "Setup the labels as 1 (when the digit is 3) and 0 (when the digit is 8)"
   ]
  },
  {
   "cell_type": "code",
   "execution_count": 11,
   "metadata": {
    "execution": {
     "iopub.execute_input": "2020-10-31T00:05:31.711103Z",
     "iopub.status.busy": "2020-10-31T00:05:31.710114Z",
     "iopub.status.idle": "2020-10-31T00:05:31.723963Z",
     "shell.execute_reply": "2020-10-31T00:05:31.724371Z"
    },
    "papermill": {
     "duration": 0.044359,
     "end_time": "2020-10-31T00:05:31.724508",
     "exception": false,
     "start_time": "2020-10-31T00:05:31.680149",
     "status": "completed"
    },
    "tags": []
   },
   "outputs": [],
   "source": [
    "y_train = 1*(y_train==3)\n",
    "y_test = 1*(y_test==3)"
   ]
  },
  {
   "cell_type": "code",
   "execution_count": 12,
   "metadata": {
    "execution": {
     "iopub.execute_input": "2020-10-31T00:05:31.781306Z",
     "iopub.status.busy": "2020-10-31T00:05:31.780731Z",
     "iopub.status.idle": "2020-10-31T00:05:31.793971Z",
     "shell.execute_reply": "2020-10-31T00:05:31.793480Z"
    },
    "papermill": {
     "duration": 0.043718,
     "end_time": "2020-10-31T00:05:31.794092",
     "exception": false,
     "start_time": "2020-10-31T00:05:31.750374",
     "status": "completed"
    },
    "tags": []
   },
   "outputs": [
    {
     "data": {
      "text/plain": [
       "((11982, 28, 28), (1984, 28, 28))"
      ]
     },
     "execution_count": 12,
     "metadata": {},
     "output_type": "execute_result"
    }
   ],
   "source": [
    "X_train.shape, X_test.shape"
   ]
  },
  {
   "cell_type": "markdown",
   "metadata": {
    "papermill": {
     "duration": 0.027129,
     "end_time": "2020-10-31T00:05:31.849184",
     "exception": false,
     "start_time": "2020-10-31T00:05:31.822055",
     "status": "completed"
    },
    "tags": []
   },
   "source": [
    "### Reshape the input data to create a linear array"
   ]
  },
  {
   "cell_type": "code",
   "execution_count": 13,
   "metadata": {
    "execution": {
     "iopub.execute_input": "2020-10-31T00:05:31.910477Z",
     "iopub.status.busy": "2020-10-31T00:05:31.909903Z",
     "iopub.status.idle": "2020-10-31T00:05:31.925332Z",
     "shell.execute_reply": "2020-10-31T00:05:31.925796Z"
    },
    "papermill": {
     "duration": 0.049267,
     "end_time": "2020-10-31T00:05:31.925961",
     "exception": false,
     "start_time": "2020-10-31T00:05:31.876694",
     "status": "completed"
    },
    "tags": []
   },
   "outputs": [
    {
     "data": {
      "text/plain": [
       "((11982, 784), (1984, 784))"
      ]
     },
     "execution_count": 13,
     "metadata": {},
     "output_type": "execute_result"
    }
   ],
   "source": [
    "X_train = X_train.reshape(X_train.shape[0], -1)\n",
    "X_test = X_test.reshape(X_test.shape[0], -1)\n",
    "X_train.shape, X_test.shape"
   ]
  },
  {
   "cell_type": "markdown",
   "metadata": {
    "papermill": {
     "duration": 0.026854,
     "end_time": "2020-10-31T00:05:31.979167",
     "exception": false,
     "start_time": "2020-10-31T00:05:31.952313",
     "status": "completed"
    },
    "tags": []
   },
   "source": [
    "### Importing appropriate functions from 'Kudzu'"
   ]
  },
  {
   "cell_type": "code",
   "execution_count": 14,
   "metadata": {
    "execution": {
     "iopub.execute_input": "2020-10-31T00:05:32.038173Z",
     "iopub.status.busy": "2020-10-31T00:05:32.037556Z",
     "iopub.status.idle": "2020-10-31T00:05:32.055351Z",
     "shell.execute_reply": "2020-10-31T00:05:32.054873Z"
    },
    "papermill": {
     "duration": 0.051033,
     "end_time": "2020-10-31T00:05:32.055475",
     "exception": false,
     "start_time": "2020-10-31T00:05:32.004442",
     "status": "completed"
    },
    "tags": []
   },
   "outputs": [],
   "source": [
    "from kudzu.layer import Sigmoid\n",
    "from kudzu.layer import Relu\n",
    "from kudzu.layer import Affine, Sigmoid\n",
    "\n",
    "from kudzu.model import Model\n",
    "from kudzu.train import Learner\n",
    "from kudzu.optim import GD\n",
    "from kudzu.data import Data, Dataloader, Sampler\n",
    "\n",
    "from kudzu.callbacks import AccCallback\n",
    "from kudzu.callbacks import ClfCallback\n",
    "\n",
    "from kudzu.loss import MSE"
   ]
  },
  {
   "cell_type": "markdown",
   "metadata": {
    "papermill": {
     "duration": 0.027675,
     "end_time": "2020-10-31T00:05:32.110271",
     "exception": false,
     "start_time": "2020-10-31T00:05:32.082596",
     "status": "completed"
    },
    "tags": []
   },
   "source": [
    "### Let us create a `Config` class, to store important parameters. \n",
    "This class essentially plays the role of a dictionary."
   ]
  },
  {
   "cell_type": "code",
   "execution_count": 15,
   "metadata": {
    "execution": {
     "iopub.execute_input": "2020-10-31T00:05:32.171941Z",
     "iopub.status.busy": "2020-10-31T00:05:32.171390Z",
     "iopub.status.idle": "2020-10-31T00:05:32.182833Z",
     "shell.execute_reply": "2020-10-31T00:05:32.182385Z"
    },
    "papermill": {
     "duration": 0.044529,
     "end_time": "2020-10-31T00:05:32.182954",
     "exception": false,
     "start_time": "2020-10-31T00:05:32.138425",
     "status": "completed"
    },
    "tags": []
   },
   "outputs": [],
   "source": [
    "class Config:\n",
    "    pass\n",
    "config = Config()\n",
    "config.lr = 0.001\n",
    "config.num_epochs = 251\n",
    "config.bs = 50"
   ]
  },
  {
   "cell_type": "markdown",
   "metadata": {
    "papermill": {
     "duration": 0.026704,
     "end_time": "2020-10-31T00:05:32.237365",
     "exception": false,
     "start_time": "2020-10-31T00:05:32.210661",
     "status": "completed"
    },
    "tags": []
   },
   "source": [
    "### Initializing data to the variables"
   ]
  },
  {
   "cell_type": "code",
   "execution_count": 16,
   "metadata": {
    "execution": {
     "iopub.execute_input": "2020-10-31T00:05:32.298064Z",
     "iopub.status.busy": "2020-10-31T00:05:32.297497Z",
     "iopub.status.idle": "2020-10-31T00:05:32.310998Z",
     "shell.execute_reply": "2020-10-31T00:05:32.310540Z"
    },
    "papermill": {
     "duration": 0.04744,
     "end_time": "2020-10-31T00:05:32.311110",
     "exception": false,
     "start_time": "2020-10-31T00:05:32.263670",
     "status": "completed"
    },
    "tags": []
   },
   "outputs": [],
   "source": [
    "data = Data(X_train, y_train.reshape(-1,1))\n",
    "sampler = Sampler(data, config.bs, shuffle=True)\n",
    "\n",
    "dl = Dataloader(data, sampler)\n",
    "\n",
    "opt = GD(config.lr)\n",
    "loss = MSE()"
   ]
  },
  {
   "cell_type": "code",
   "execution_count": 17,
   "metadata": {
    "execution": {
     "iopub.execute_input": "2020-10-31T00:05:32.368531Z",
     "iopub.status.busy": "2020-10-31T00:05:32.367960Z",
     "iopub.status.idle": "2020-10-31T00:05:32.381982Z",
     "shell.execute_reply": "2020-10-31T00:05:32.381495Z"
    },
    "papermill": {
     "duration": 0.044223,
     "end_time": "2020-10-31T00:05:32.382109",
     "exception": false,
     "start_time": "2020-10-31T00:05:32.337886",
     "status": "completed"
    },
    "tags": []
   },
   "outputs": [],
   "source": [
    "training_xdata = X_train\n",
    "testing_xdata = X_test\n",
    "training_ydata = y_train.reshape(-1,1)\n",
    "testing_ydata = y_test.reshape(-1,1)"
   ]
  },
  {
   "cell_type": "markdown",
   "metadata": {
    "papermill": {
     "duration": 0.02728,
     "end_time": "2020-10-31T00:05:32.436799",
     "exception": false,
     "start_time": "2020-10-31T00:05:32.409519",
     "status": "completed"
    },
    "tags": []
   },
   "source": [
    "### Running Models with the Training data\n",
    "Details about the network layers:\n",
    "- A first affine layer has 784 inputs and does 100 affine transforms. These are followed by a Relu\n",
    "- A second affine layer has 100 inputs from the 100 activations of the past layer, and does 100 affine transforms. These are followed by a Relu\n",
    "- A third affine layer has 100 activations and does 2 affine transformations to create an embedding for visualization. There is no non-linearity here.\n",
    "- A final \"logistic regression\" which has an affine transform from 2 inputs to 1 output, which is squeezed through a sigmoid.\n",
    "\n",
    "Help taken from Anshuman's Notebook."
   ]
  },
  {
   "cell_type": "code",
   "execution_count": 18,
   "metadata": {
    "execution": {
     "iopub.execute_input": "2020-10-31T00:05:32.495900Z",
     "iopub.status.busy": "2020-10-31T00:05:32.495355Z",
     "iopub.status.idle": "2020-10-31T00:05:32.514045Z",
     "shell.execute_reply": "2020-10-31T00:05:32.513127Z"
    },
    "papermill": {
     "duration": 0.04996,
     "end_time": "2020-10-31T00:05:32.514255",
     "exception": false,
     "start_time": "2020-10-31T00:05:32.464295",
     "status": "completed"
    },
    "tags": []
   },
   "outputs": [],
   "source": [
    "# layers for the Neural Network\n",
    "layers = [Affine(\"first\", 784, 100), Relu(\"first\"), Affine(\"second\", 100, 100), Relu(\"second\"), Affine(\"third\", 100, 2), Affine(\"final\", 2, 1), Sigmoid(\"final\")]\n",
    "model_nn = Model(layers)\n",
    "\n",
    "# layers for the Logistic Regression\n",
    "layers_lr = [Affine(\"logits\", 784, 1), Sigmoid(\"sigmoid\")]\n",
    "model_lr = Model(layers_lr)"
   ]
  },
  {
   "cell_type": "code",
   "execution_count": 19,
   "metadata": {
    "execution": {
     "iopub.execute_input": "2020-10-31T00:05:32.571880Z",
     "iopub.status.busy": "2020-10-31T00:05:32.571320Z",
     "iopub.status.idle": "2020-10-31T00:05:32.583991Z",
     "shell.execute_reply": "2020-10-31T00:05:32.583529Z"
    },
    "papermill": {
     "duration": 0.042731,
     "end_time": "2020-10-31T00:05:32.584105",
     "exception": false,
     "start_time": "2020-10-31T00:05:32.541374",
     "status": "completed"
    },
    "tags": []
   },
   "outputs": [],
   "source": [
    "# suffix _nn stands for Neural Network.\n",
    "learner_nn = Learner(loss, model_nn, opt, config.num_epochs)\n",
    "acc_nn = ClfCallback(learner_nn, config.bs, training_xdata , testing_xdata, training_ydata, testing_ydata)\n",
    "learner_nn.set_callbacks([acc_nn])"
   ]
  },
  {
   "cell_type": "code",
   "execution_count": 20,
   "metadata": {
    "execution": {
     "iopub.execute_input": "2020-10-31T00:05:32.643219Z",
     "iopub.status.busy": "2020-10-31T00:05:32.642670Z",
     "iopub.status.idle": "2020-10-31T00:06:55.844478Z",
     "shell.execute_reply": "2020-10-31T00:06:55.845243Z"
    },
    "papermill": {
     "duration": 83.234766,
     "end_time": "2020-10-31T00:06:55.845393",
     "exception": false,
     "start_time": "2020-10-31T00:05:32.610627",
     "status": "completed"
    },
    "tags": []
   },
   "outputs": [
    {
     "name": "stdout",
     "output_type": "stream",
     "text": [
      "====== Neural Network ======\n"
     ]
    },
    {
     "name": "stdout",
     "output_type": "stream",
     "text": [
      "Epoch 0, Loss 0.2494\n",
      "Training Accuracy: 0.5501, Testing Accuracy: 0.5403\n",
      "\n"
     ]
    },
    {
     "name": "stdout",
     "output_type": "stream",
     "text": [
      "Epoch 10, Loss 0.2444\n",
      "Training Accuracy: 0.7502, Testing Accuracy: 0.7596\n",
      "\n"
     ]
    },
    {
     "name": "stdout",
     "output_type": "stream",
     "text": [
      "Epoch 20, Loss 0.2201\n",
      "Training Accuracy: 0.8514, Testing Accuracy: 0.8493\n",
      "\n"
     ]
    },
    {
     "name": "stdout",
     "output_type": "stream",
     "text": [
      "Epoch 30, Loss 0.1273\n",
      "Training Accuracy: 0.8929, Testing Accuracy: 0.8992\n",
      "\n"
     ]
    },
    {
     "name": "stdout",
     "output_type": "stream",
     "text": [
      "Epoch 40, Loss 0.0729\n",
      "Training Accuracy: 0.9221, Testing Accuracy: 0.9330\n",
      "\n"
     ]
    },
    {
     "name": "stdout",
     "output_type": "stream",
     "text": [
      "Epoch 50, Loss 0.0547\n",
      "Training Accuracy: 0.9368, Testing Accuracy: 0.9476\n",
      "\n"
     ]
    },
    {
     "name": "stdout",
     "output_type": "stream",
     "text": [
      "Epoch 60, Loss 0.0459\n",
      "Training Accuracy: 0.9460, Testing Accuracy: 0.9587\n",
      "\n"
     ]
    },
    {
     "name": "stdout",
     "output_type": "stream",
     "text": [
      "Epoch 70, Loss 0.0407\n",
      "Training Accuracy: 0.9517, Testing Accuracy: 0.9637\n",
      "\n"
     ]
    },
    {
     "name": "stdout",
     "output_type": "stream",
     "text": [
      "Epoch 80, Loss 0.0373\n",
      "Training Accuracy: 0.9560, Testing Accuracy: 0.9667\n",
      "\n"
     ]
    },
    {
     "name": "stdout",
     "output_type": "stream",
     "text": [
      "Epoch 90, Loss 0.0348\n",
      "Training Accuracy: 0.9594, Testing Accuracy: 0.9672\n",
      "\n"
     ]
    },
    {
     "name": "stdout",
     "output_type": "stream",
     "text": [
      "Epoch 100, Loss 0.0329\n",
      "Training Accuracy: 0.9609, Testing Accuracy: 0.9682\n",
      "\n"
     ]
    },
    {
     "name": "stdout",
     "output_type": "stream",
     "text": [
      "Epoch 110, Loss 0.0314\n",
      "Training Accuracy: 0.9634, Testing Accuracy: 0.9662\n",
      "\n"
     ]
    },
    {
     "name": "stdout",
     "output_type": "stream",
     "text": [
      "Epoch 120, Loss 0.0302\n",
      "Training Accuracy: 0.9645, Testing Accuracy: 0.9667\n",
      "\n"
     ]
    },
    {
     "name": "stdout",
     "output_type": "stream",
     "text": [
      "Epoch 130, Loss 0.0292\n",
      "Training Accuracy: 0.9654, Testing Accuracy: 0.9667\n",
      "\n"
     ]
    },
    {
     "name": "stdout",
     "output_type": "stream",
     "text": [
      "Epoch 140, Loss 0.0283\n",
      "Training Accuracy: 0.9664, Testing Accuracy: 0.9677\n",
      "\n"
     ]
    },
    {
     "name": "stdout",
     "output_type": "stream",
     "text": [
      "Epoch 150, Loss 0.0275\n",
      "Training Accuracy: 0.9672, Testing Accuracy: 0.9677\n",
      "\n"
     ]
    },
    {
     "name": "stdout",
     "output_type": "stream",
     "text": [
      "Epoch 160, Loss 0.0268\n",
      "Training Accuracy: 0.9685, Testing Accuracy: 0.9677\n",
      "\n"
     ]
    },
    {
     "name": "stdout",
     "output_type": "stream",
     "text": [
      "Epoch 170, Loss 0.0261\n",
      "Training Accuracy: 0.9691, Testing Accuracy: 0.9682\n",
      "\n"
     ]
    },
    {
     "name": "stdout",
     "output_type": "stream",
     "text": [
      "Epoch 180, Loss 0.0255\n",
      "Training Accuracy: 0.9697, Testing Accuracy: 0.9693\n",
      "\n"
     ]
    },
    {
     "name": "stdout",
     "output_type": "stream",
     "text": [
      "Epoch 190, Loss 0.025\n",
      "Training Accuracy: 0.9708, Testing Accuracy: 0.9693\n",
      "\n"
     ]
    },
    {
     "name": "stdout",
     "output_type": "stream",
     "text": [
      "Epoch 200, Loss 0.0245\n",
      "Training Accuracy: 0.9714, Testing Accuracy: 0.9698\n",
      "\n"
     ]
    },
    {
     "name": "stdout",
     "output_type": "stream",
     "text": [
      "Epoch 210, Loss 0.024\n",
      "Training Accuracy: 0.9722, Testing Accuracy: 0.9698\n",
      "\n"
     ]
    },
    {
     "name": "stdout",
     "output_type": "stream",
     "text": [
      "Epoch 220, Loss 0.0235\n",
      "Training Accuracy: 0.9728, Testing Accuracy: 0.9698\n",
      "\n"
     ]
    },
    {
     "name": "stdout",
     "output_type": "stream",
     "text": [
      "Epoch 230, Loss 0.0231\n",
      "Training Accuracy: 0.9730, Testing Accuracy: 0.9708\n",
      "\n"
     ]
    },
    {
     "name": "stdout",
     "output_type": "stream",
     "text": [
      "Epoch 240, Loss 0.0227\n",
      "Training Accuracy: 0.9738, Testing Accuracy: 0.9708\n",
      "\n"
     ]
    },
    {
     "name": "stdout",
     "output_type": "stream",
     "text": [
      "Epoch 250, Loss 0.0223\n",
      "Training Accuracy: 0.9743, Testing Accuracy: 0.9708\n",
      "\n"
     ]
    },
    {
     "data": {
      "text/plain": [
       "0.03714640054760593"
      ]
     },
     "execution_count": 20,
     "metadata": {},
     "output_type": "execute_result"
    }
   ],
   "source": [
    "print(\"====== Neural Network ======\")\n",
    "learner_nn.train_loop(dl)"
   ]
  },
  {
   "cell_type": "markdown",
   "metadata": {
    "papermill": {
     "duration": 0.034039,
     "end_time": "2020-10-31T00:06:55.914495",
     "exception": false,
     "start_time": "2020-10-31T00:06:55.880456",
     "status": "completed"
    },
    "tags": []
   },
   "source": [
    "### Logistic Regression based Implementation."
   ]
  },
  {
   "cell_type": "code",
   "execution_count": 21,
   "metadata": {
    "execution": {
     "iopub.execute_input": "2020-10-31T00:06:55.988766Z",
     "iopub.status.busy": "2020-10-31T00:06:55.988206Z",
     "iopub.status.idle": "2020-10-31T00:06:56.000016Z",
     "shell.execute_reply": "2020-10-31T00:06:55.999575Z"
    },
    "papermill": {
     "duration": 0.050788,
     "end_time": "2020-10-31T00:06:56.000133",
     "exception": false,
     "start_time": "2020-10-31T00:06:55.949345",
     "status": "completed"
    },
    "tags": []
   },
   "outputs": [],
   "source": [
    "learner_lr = Learner(loss, model_lr, opt, config.num_epochs)\n",
    "acc_lr = ClfCallback(learner_lr, config.bs, training_xdata , testing_xdata, training_ydata, testing_ydata)\n",
    "learner_lr.set_callbacks([acc_lr])"
   ]
  },
  {
   "cell_type": "code",
   "execution_count": 22,
   "metadata": {
    "execution": {
     "iopub.execute_input": "2020-10-31T00:06:56.070215Z",
     "iopub.status.busy": "2020-10-31T00:06:56.069611Z",
     "iopub.status.idle": "2020-10-31T00:07:10.710121Z",
     "shell.execute_reply": "2020-10-31T00:07:10.710614Z"
    },
    "papermill": {
     "duration": 14.677706,
     "end_time": "2020-10-31T00:07:10.710769",
     "exception": false,
     "start_time": "2020-10-31T00:06:56.033063",
     "status": "completed"
    },
    "tags": []
   },
   "outputs": [
    {
     "name": "stdout",
     "output_type": "stream",
     "text": [
      "====== Logistic Regression ======\n",
      "Epoch 0, Loss 0.2301\n",
      "Training Accuracy: 0.7490, Testing Accuracy: 0.7681\n",
      "\n"
     ]
    },
    {
     "name": "stdout",
     "output_type": "stream",
     "text": [
      "Epoch 10, Loss 0.1013\n",
      "Training Accuracy: 0.9108, Testing Accuracy: 0.9229\n",
      "\n"
     ]
    },
    {
     "name": "stdout",
     "output_type": "stream",
     "text": [
      "Epoch 20, Loss 0.0782\n",
      "Training Accuracy: 0.9288, Testing Accuracy: 0.9400\n",
      "\n"
     ]
    },
    {
     "name": "stdout",
     "output_type": "stream",
     "text": [
      "Epoch 30, Loss 0.0674\n",
      "Training Accuracy: 0.9365, Testing Accuracy: 0.9521\n",
      "\n"
     ]
    },
    {
     "name": "stdout",
     "output_type": "stream",
     "text": [
      "Epoch 40, Loss 0.061\n",
      "Training Accuracy: 0.9421, Testing Accuracy: 0.9567\n",
      "\n"
     ]
    },
    {
     "name": "stdout",
     "output_type": "stream",
     "text": [
      "Epoch 50, Loss 0.0566\n",
      "Training Accuracy: 0.9453, Testing Accuracy: 0.9597\n",
      "\n"
     ]
    },
    {
     "name": "stdout",
     "output_type": "stream",
     "text": [
      "Epoch 60, Loss 0.0534\n",
      "Training Accuracy: 0.9473, Testing Accuracy: 0.9612\n",
      "\n"
     ]
    },
    {
     "name": "stdout",
     "output_type": "stream",
     "text": [
      "Epoch 70, Loss 0.0509\n",
      "Training Accuracy: 0.9493, Testing Accuracy: 0.9632\n",
      "\n"
     ]
    },
    {
     "name": "stdout",
     "output_type": "stream",
     "text": [
      "Epoch 80, Loss 0.0489\n",
      "Training Accuracy: 0.9508, Testing Accuracy: 0.9647\n",
      "\n"
     ]
    },
    {
     "name": "stdout",
     "output_type": "stream",
     "text": [
      "Epoch 90, Loss 0.0472\n",
      "Training Accuracy: 0.9518, Testing Accuracy: 0.9642\n",
      "\n"
     ]
    },
    {
     "name": "stdout",
     "output_type": "stream",
     "text": [
      "Epoch 100, Loss 0.0458\n",
      "Training Accuracy: 0.9529, Testing Accuracy: 0.9632\n",
      "\n"
     ]
    },
    {
     "name": "stdout",
     "output_type": "stream",
     "text": [
      "Epoch 110, Loss 0.0446\n",
      "Training Accuracy: 0.9539, Testing Accuracy: 0.9637\n",
      "\n"
     ]
    },
    {
     "name": "stdout",
     "output_type": "stream",
     "text": [
      "Epoch 120, Loss 0.0436\n",
      "Training Accuracy: 0.9543, Testing Accuracy: 0.9647\n",
      "\n"
     ]
    },
    {
     "name": "stdout",
     "output_type": "stream",
     "text": [
      "Epoch 130, Loss 0.0427\n",
      "Training Accuracy: 0.9556, Testing Accuracy: 0.9647\n",
      "\n"
     ]
    },
    {
     "name": "stdout",
     "output_type": "stream",
     "text": [
      "Epoch 140, Loss 0.0419\n",
      "Training Accuracy: 0.9559, Testing Accuracy: 0.9657\n",
      "\n"
     ]
    },
    {
     "name": "stdout",
     "output_type": "stream",
     "text": [
      "Epoch 150, Loss 0.0412\n",
      "Training Accuracy: 0.9563, Testing Accuracy: 0.9657\n",
      "\n"
     ]
    },
    {
     "name": "stdout",
     "output_type": "stream",
     "text": [
      "Epoch 160, Loss 0.0405\n",
      "Training Accuracy: 0.9569, Testing Accuracy: 0.9657\n",
      "\n"
     ]
    },
    {
     "name": "stdout",
     "output_type": "stream",
     "text": [
      "Epoch 170, Loss 0.0399\n",
      "Training Accuracy: 0.9576, Testing Accuracy: 0.9657\n",
      "\n"
     ]
    },
    {
     "name": "stdout",
     "output_type": "stream",
     "text": [
      "Epoch 180, Loss 0.0393\n",
      "Training Accuracy: 0.9580, Testing Accuracy: 0.9657\n",
      "\n"
     ]
    },
    {
     "name": "stdout",
     "output_type": "stream",
     "text": [
      "Epoch 190, Loss 0.0388\n",
      "Training Accuracy: 0.9583, Testing Accuracy: 0.9657\n",
      "\n"
     ]
    },
    {
     "name": "stdout",
     "output_type": "stream",
     "text": [
      "Epoch 200, Loss 0.0384\n",
      "Training Accuracy: 0.9588, Testing Accuracy: 0.9662\n",
      "\n"
     ]
    },
    {
     "name": "stdout",
     "output_type": "stream",
     "text": [
      "Epoch 210, Loss 0.0379\n",
      "Training Accuracy: 0.9596, Testing Accuracy: 0.9657\n",
      "\n"
     ]
    },
    {
     "name": "stdout",
     "output_type": "stream",
     "text": [
      "Epoch 220, Loss 0.0375\n",
      "Training Accuracy: 0.9599, Testing Accuracy: 0.9657\n",
      "\n"
     ]
    },
    {
     "name": "stdout",
     "output_type": "stream",
     "text": [
      "Epoch 230, Loss 0.0372\n",
      "Training Accuracy: 0.9601, Testing Accuracy: 0.9657\n",
      "\n"
     ]
    },
    {
     "name": "stdout",
     "output_type": "stream",
     "text": [
      "Epoch 240, Loss 0.0368\n",
      "Training Accuracy: 0.9606, Testing Accuracy: 0.9662\n",
      "\n"
     ]
    },
    {
     "name": "stdout",
     "output_type": "stream",
     "text": [
      "Epoch 250, Loss 0.0365\n",
      "Training Accuracy: 0.9609, Testing Accuracy: 0.9667\n",
      "\n"
     ]
    },
    {
     "data": {
      "text/plain": [
       "0.037693641446957526"
      ]
     },
     "execution_count": 22,
     "metadata": {},
     "output_type": "execute_result"
    }
   ],
   "source": [
    "print(\"====== Logistic Regression ======\")\n",
    "learner_lr.train_loop(dl)"
   ]
  },
  {
   "cell_type": "markdown",
   "metadata": {
    "papermill": {
     "duration": 0.044025,
     "end_time": "2020-10-31T00:07:10.798343",
     "exception": false,
     "start_time": "2020-10-31T00:07:10.754318",
     "status": "completed"
    },
    "tags": []
   },
   "source": [
    "### Comparing results of NN and LR"
   ]
  },
  {
   "cell_type": "code",
   "execution_count": 23,
   "metadata": {
    "execution": {
     "iopub.execute_input": "2020-10-31T00:07:10.887730Z",
     "iopub.status.busy": "2020-10-31T00:07:10.886795Z",
     "iopub.status.idle": "2020-10-31T00:07:11.111141Z",
     "shell.execute_reply": "2020-10-31T00:07:11.111581Z"
    },
    "papermill": {
     "duration": 0.270225,
     "end_time": "2020-10-31T00:07:11.111734",
     "exception": false,
     "start_time": "2020-10-31T00:07:10.841509",
     "status": "completed"
    },
    "tags": []
   },
   "outputs": [
    {
     "data": {
      "text/plain": [
       "<matplotlib.legend.Legend at 0x7fdac38400b8>"
      ]
     },
     "execution_count": 23,
     "metadata": {},
     "output_type": "execute_result"
    },
    {
     "data": {
      "image/png": "[encoded data removed]",
      "text/plain": [
       "<Figure size 1080x720 with 1 Axes>"
      ]
     },
     "metadata": {
      "needs_background": "light"
     },
     "output_type": "display_data"
    }
   ],
   "source": [
    "plt.figure(figsize=(15,10))\n",
    "\n",
    "# Neural Network plots\n",
    "plt.plot(acc_nn.accuracies, 'r-', label = \"Training Accuracies - NN\")\n",
    "plt.plot(acc_nn.test_accuracies, 'g-', label = \"Testing Accuracies - NN\")\n",
    "\n",
    "# Logistic Regression plots\n",
    "plt.plot(acc_lr.accuracies, 'k-', label = \"Training Accuracies - LR\")\n",
    "plt.plot(acc_lr.test_accuracies, 'b-', label = \"Testing Accuracies - LR\")\n",
    "\n",
    "plt.ylim(0.8, 1)\n",
    "\n",
    "plt.legend()\n",
    "\n"
   ]
  },
  {
   "cell_type": "markdown",
   "metadata": {
    "papermill": {
     "duration": 0.041564,
     "end_time": "2020-10-31T00:07:11.197696",
     "exception": false,
     "start_time": "2020-10-31T00:07:11.156132",
     "status": "completed"
    },
    "tags": []
   },
   "source": [
    "### From the plot, we can observe the following:\n",
    "- Neural Network achieves higher accuracy than the Logistic Regression model.\n",
    "- This apparently, is because of overfitting, i.e. NN captures more noise than data.\n",
    "- Testing accuracy of NN drops below the Training accuracy at higher epochs. This explains the over-fitting on training data.\n",
    "- Logistic Regression gives a reliable accuracy, without the above mentioned problem.\n"
   ]
  },
  {
   "cell_type": "markdown",
   "metadata": {
    "papermill": {
     "duration": 0.039613,
     "end_time": "2020-10-31T00:07:11.276645",
     "exception": false,
     "start_time": "2020-10-31T00:07:11.237032",
     "status": "completed"
    },
    "tags": []
   },
   "source": [
    "### Moving till the last but one layer (excluding it).\n",
    "#### Plotting the outputs of this layer of the NN."
   ]
  },
  {
   "cell_type": "code",
   "execution_count": 24,
   "metadata": {
    "execution": {
     "iopub.execute_input": "2020-10-31T00:07:11.374332Z",
     "iopub.status.busy": "2020-10-31T00:07:11.371195Z",
     "iopub.status.idle": "2020-10-31T00:07:11.384940Z",
     "shell.execute_reply": "2020-10-31T00:07:11.384196Z"
    },
    "papermill": {
     "duration": 0.064179,
     "end_time": "2020-10-31T00:07:11.385069",
     "exception": false,
     "start_time": "2020-10-31T00:07:11.320890",
     "status": "completed"
    },
    "tags": []
   },
   "outputs": [],
   "source": [
    "model_new = Model(layers[:-2])"
   ]
  },
  {
   "cell_type": "code",
   "execution_count": 25,
   "metadata": {
    "execution": {
     "iopub.execute_input": "2020-10-31T00:07:11.479306Z",
     "iopub.status.busy": "2020-10-31T00:07:11.478761Z",
     "iopub.status.idle": "2020-10-31T00:07:11.499166Z",
     "shell.execute_reply": "2020-10-31T00:07:11.499837Z"
    },
    "papermill": {
     "duration": 0.068511,
     "end_time": "2020-10-31T00:07:11.499980",
     "exception": false,
     "start_time": "2020-10-31T00:07:11.431469",
     "status": "completed"
    },
    "tags": []
   },
   "outputs": [],
   "source": [
    "plot_testing = model_new(testing_xdata)"
   ]
  },
  {
   "cell_type": "code",
   "execution_count": 26,
   "metadata": {
    "execution": {
     "iopub.execute_input": "2020-10-31T00:07:11.592543Z",
     "iopub.status.busy": "2020-10-31T00:07:11.591960Z",
     "iopub.status.idle": "2020-10-31T00:07:11.784993Z",
     "shell.execute_reply": "2020-10-31T00:07:11.785434Z"
    },
    "papermill": {
     "duration": 0.241768,
     "end_time": "2020-10-31T00:07:11.785577",
     "exception": false,
     "start_time": "2020-10-31T00:07:11.543809",
     "status": "completed"
    },
    "tags": []
   },
   "outputs": [
    {
     "data": {
      "text/plain": [
       "Text(0.5, 1.0, 'Outputs')"
      ]
     },
     "execution_count": 26,
     "metadata": {},
     "output_type": "execute_result"
    },
    {
     "data": {
      "image/png": "[encoded data removed]",
      "text/plain": [
       "<Figure size 576x504 with 1 Axes>"
      ]
     },
     "metadata": {
      "needs_background": "light"
     },
     "output_type": "display_data"
    }
   ],
   "source": [
    "plt.figure(figsize=(8,7))\n",
    "plt.scatter(plot_testing[:,0], plot_testing[:,1], alpha = 0.1, c = y_test.ravel());\n",
    "plt.title('Outputs')"
   ]
  },
  {
   "cell_type": "markdown",
   "metadata": {
    "papermill": {
     "duration": 0.042969,
     "end_time": "2020-10-31T00:07:11.871908",
     "exception": false,
     "start_time": "2020-10-31T00:07:11.828939",
     "status": "completed"
    },
    "tags": []
   },
   "source": [
    "### Plotting probability contours"
   ]
  },
  {
   "cell_type": "code",
   "execution_count": 27,
   "metadata": {
    "execution": {
     "iopub.execute_input": "2020-10-31T00:07:11.967332Z",
     "iopub.status.busy": "2020-10-31T00:07:11.966746Z",
     "iopub.status.idle": "2020-10-31T00:07:11.978890Z",
     "shell.execute_reply": "2020-10-31T00:07:11.979336Z"
    },
    "papermill": {
     "duration": 0.064071,
     "end_time": "2020-10-31T00:07:11.979483",
     "exception": false,
     "start_time": "2020-10-31T00:07:11.915412",
     "status": "completed"
    },
    "tags": []
   },
   "outputs": [],
   "source": [
    "model_prob = Model(layers[-2:]) "
   ]
  },
  {
   "cell_type": "code",
   "execution_count": 28,
   "metadata": {
    "execution": {
     "iopub.execute_input": "2020-10-31T00:07:12.079866Z",
     "iopub.status.busy": "2020-10-31T00:07:12.079238Z",
     "iopub.status.idle": "2020-10-31T00:07:12.092278Z",
     "shell.execute_reply": "2020-10-31T00:07:12.092698Z"
    },
    "papermill": {
     "duration": 0.065152,
     "end_time": "2020-10-31T00:07:12.092837",
     "exception": false,
     "start_time": "2020-10-31T00:07:12.027685",
     "status": "completed"
    },
    "tags": []
   },
   "outputs": [],
   "source": [
    "# Adjust the x and y ranges according to the above generated plot.\n",
    "x_range = np.linspace(-4, 1, 100) \n",
    "y_range = np.linspace(-6, 6, 100) \n",
    "x_grid, y_grid = np.meshgrid(x_range, y_range) # x_grid and y_grig are of size 100 X 100\n",
    "\n",
    "# converting x_grid and y_grid to continuous arrays\n",
    "x_grid_flat = np.ravel(x_grid)\n",
    "y_grid_flat = np.ravel(y_grid)\n",
    "\n",
    "# The last layer of the current model takes two columns as input. Hence transpose of np.vstack() is required.\n",
    "X = np.vstack((x_grid_flat, y_grid_flat)).T\n",
    "\n",
    "# x_grid and y_grid are of size 100 x 100\n",
    "probability_contour = model_prob(X).reshape(100,100) "
   ]
  },
  {
   "cell_type": "code",
   "execution_count": 29,
   "metadata": {
    "execution": {
     "iopub.execute_input": "2020-10-31T00:07:12.190497Z",
     "iopub.status.busy": "2020-10-31T00:07:12.189902Z",
     "iopub.status.idle": "2020-10-31T00:07:12.429382Z",
     "shell.execute_reply": "2020-10-31T00:07:12.429838Z"
    },
    "papermill": {
     "duration": 0.291899,
     "end_time": "2020-10-31T00:07:12.430024",
     "exception": false,
     "start_time": "2020-10-31T00:07:12.138125",
     "status": "completed"
    },
    "tags": []
   },
   "outputs": [
    {
     "data": {
      "image/png": "[encoded data removed]",
      "text/plain": [
       "<Figure size 720x648 with 1 Axes>"
      ]
     },
     "metadata": {
      "needs_background": "light"
     },
     "output_type": "display_data"
    }
   ],
   "source": [
    "plt.figure(figsize=(10,9))\n",
    "plt.scatter(plot_testing[:,0], plot_testing[:,1], alpha = 0.1, c = y_test.ravel())\n",
    "contours = plt.contour(x_grid,y_grid,probability_contour)\n",
    "plt.title('Probability Contours')\n",
    "plt.clabel(contours, inline = True );"
   ]
  }
 ],
 "metadata": {
  "kernelspec": {
   "display_name": "Python 3",
   "language": "python",
   "name": "python3"
  },
  "language_info": {
   "codemirror_mode": {
    "name": "ipython",
    "version": 3
   },
   "file_extension": ".py",
   "mimetype": "text/x-python",
   "name": "python",
   "nbconvert_exporter": "python",
   "pygments_lexer": "ipython3",
   "version": "3.6.12"
  },
  "papermill": {
   "duration": 106.507723,
   "end_time": "2020-10-31T00:07:12.784332",
   "environment_variables": {},
   "exception": null,
   "input_path": "2020-08-11-NeuralNetwork.ipynb",
   "output_path": "2020-08-11-NeuralNetwork.ipynb",
   "parameters": {},
   "start_time": "2020-10-31T00:05:26.276609",
   "version": "2.1.2"
  }
 },
 "nbformat": 4,
 "nbformat_minor": 4
}