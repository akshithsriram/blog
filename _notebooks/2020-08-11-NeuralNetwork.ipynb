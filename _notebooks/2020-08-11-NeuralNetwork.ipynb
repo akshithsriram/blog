{
 "cells": [
  {
   "cell_type": "markdown",
   "metadata": {
    "papermill": {
     "duration": 0.03553,
     "end_time": "2020-10-26T00:10:09.198542",
     "exception": false,
     "start_time": "2020-10-26T00:10:09.163012",
     "status": "completed"
    },
    "tags": []
   },
   "source": [
    "# \"A Basic Neural Network: Differentiate Hand-Written Digits\"\n",
    "\n",
    "- badges: true\n",
    "- author: Akshith Sriram"
   ]
  },
  {
   "cell_type": "markdown",
   "metadata": {
    "papermill": {
     "duration": 0.025947,
     "end_time": "2020-10-26T00:10:09.252033",
     "exception": false,
     "start_time": "2020-10-26T00:10:09.226086",
     "status": "completed"
    },
    "tags": []
   },
   "source": [
    "### Key Objectives:\n",
    "- Building a neural network that differentiates two hand-written digits 3 and 8.\n",
    "- Comparing the results of this Neural Network (NN) to that of a Logistic Regression (LR) model.\n",
    "\n",
    "### Requirements:\n",
    "- 'Kudzu' : A neural network library that was designed during our course by [Univ.AI](www.univ.ai). \n",
    "- MNIST Database\n",
    "\n",
    "If MNIST is not installed, use the command `!pip install mnist` given below.\n",
    "It can be run both from the command line and Jupyter Notebook."
   ]
  },
  {
   "cell_type": "code",
   "execution_count": 1,
   "metadata": {
    "execution": {
     "iopub.execute_input": "2020-10-26T00:10:09.309966Z",
     "iopub.status.busy": "2020-10-26T00:10:09.309096Z",
     "iopub.status.idle": "2020-10-26T00:10:10.721832Z",
     "shell.execute_reply": "2020-10-26T00:10:10.722741Z"
    },
    "papermill": {
     "duration": 1.444868,
     "end_time": "2020-10-26T00:10:10.723024",
     "exception": false,
     "start_time": "2020-10-26T00:10:09.278156",
     "status": "completed"
    },
    "tags": []
   },
   "outputs": [
    {
     "name": "stdout",
     "output_type": "stream",
     "text": [
      "Collecting mnist\r\n"
     ]
    },
    {
     "name": "stdout",
     "output_type": "stream",
     "text": [
      "  Downloading mnist-0.2.2-py2.py3-none-any.whl (3.5 kB)\r\n"
     ]
    },
    {
     "name": "stdout",
     "output_type": "stream",
     "text": [
      "Requirement already satisfied: numpy in /opt/hostedtoolcache/Python/3.6.12/x64/lib/python3.6/site-packages (from mnist) (1.19.2)\r\n"
     ]
    },
    {
     "name": "stdout",
     "output_type": "stream",
     "text": [
      "Installing collected packages: mnist\r\n"
     ]
    },
    {
     "name": "stdout",
     "output_type": "stream",
     "text": [
      "Successfully installed mnist-0.2.2\r\n",
      "\u001b[33mWARNING: You are using pip version 20.2.3; however, version 20.2.4 is available.\r\n",
      "You should consider upgrading via the '/opt/hostedtoolcache/Python/3.6.12/x64/bin/python -m pip install --upgrade pip' command.\u001b[0m\r\n"
     ]
    }
   ],
   "source": [
    "!pip install mnist "
   ]
  },
  {
   "cell_type": "markdown",
   "metadata": {
    "papermill": {
     "duration": 0.026674,
     "end_time": "2020-10-26T00:10:10.778531",
     "exception": false,
     "start_time": "2020-10-26T00:10:10.751857",
     "status": "completed"
    },
    "tags": []
   },
   "source": [
    "#### Importing necessary libraries"
   ]
  },
  {
   "cell_type": "code",
   "execution_count": 2,
   "metadata": {
    "execution": {
     "iopub.execute_input": "2020-10-26T00:10:10.853281Z",
     "iopub.status.busy": "2020-10-26T00:10:10.841436Z",
     "iopub.status.idle": "2020-10-26T00:10:11.434609Z",
     "shell.execute_reply": "2020-10-26T00:10:11.433684Z"
    },
    "papermill": {
     "duration": 0.628237,
     "end_time": "2020-10-26T00:10:11.434837",
     "exception": false,
     "start_time": "2020-10-26T00:10:10.806600",
     "status": "completed"
    },
    "tags": []
   },
   "outputs": [],
   "source": [
    "%load_ext autoreload\n",
    "%autoreload 2\n",
    "\n",
    "%matplotlib inline\n",
    "import matplotlib.pyplot as plt\n",
    "\n",
    "import numpy as np\n",
    "import pandas as pd"
   ]
  },
  {
   "cell_type": "markdown",
   "metadata": {
    "papermill": {
     "duration": 0.234919,
     "end_time": "2020-10-26T00:10:11.698003",
     "exception": false,
     "start_time": "2020-10-26T00:10:11.463084",
     "status": "completed"
    },
    "tags": []
   },
   "source": [
    "### Preparing the Data"
   ]
  },
  {
   "cell_type": "code",
   "execution_count": 3,
   "metadata": {
    "execution": {
     "iopub.execute_input": "2020-10-26T00:10:11.756365Z",
     "iopub.status.busy": "2020-10-26T00:10:11.755772Z",
     "iopub.status.idle": "2020-10-26T00:10:11.776694Z",
     "shell.execute_reply": "2020-10-26T00:10:11.776145Z"
    },
    "papermill": {
     "duration": 0.051096,
     "end_time": "2020-10-26T00:10:11.776833",
     "exception": false,
     "start_time": "2020-10-26T00:10:11.725737",
     "status": "completed"
    },
    "tags": []
   },
   "outputs": [],
   "source": [
    "import mnist"
   ]
  },
  {
   "cell_type": "code",
   "execution_count": 4,
   "metadata": {
    "execution": {
     "iopub.execute_input": "2020-10-26T00:10:11.838013Z",
     "iopub.status.busy": "2020-10-26T00:10:11.836813Z",
     "iopub.status.idle": "2020-10-26T00:10:12.612736Z",
     "shell.execute_reply": "2020-10-26T00:10:12.612069Z"
    },
    "papermill": {
     "duration": 0.806897,
     "end_time": "2020-10-26T00:10:12.612900",
     "exception": false,
     "start_time": "2020-10-26T00:10:11.806003",
     "status": "completed"
    },
    "tags": []
   },
   "outputs": [],
   "source": [
    "train_images = mnist.train_images()\n",
    "train_labels = mnist.train_labels()"
   ]
  },
  {
   "cell_type": "code",
   "execution_count": 5,
   "metadata": {
    "execution": {
     "iopub.execute_input": "2020-10-26T00:10:12.681277Z",
     "iopub.status.busy": "2020-10-26T00:10:12.669700Z",
     "iopub.status.idle": "2020-10-26T00:10:12.685538Z",
     "shell.execute_reply": "2020-10-26T00:10:12.684882Z"
    },
    "papermill": {
     "duration": 0.045843,
     "end_time": "2020-10-26T00:10:12.685671",
     "exception": false,
     "start_time": "2020-10-26T00:10:12.639828",
     "status": "completed"
    },
    "tags": []
   },
   "outputs": [
    {
     "data": {
      "text/plain": [
       "((60000, 28, 28), (60000,))"
      ]
     },
     "execution_count": 5,
     "metadata": {},
     "output_type": "execute_result"
    }
   ],
   "source": [
    "train_images.shape, train_labels.shape"
   ]
  },
  {
   "cell_type": "code",
   "execution_count": 6,
   "metadata": {
    "execution": {
     "iopub.execute_input": "2020-10-26T00:10:12.750252Z",
     "iopub.status.busy": "2020-10-26T00:10:12.749628Z",
     "iopub.status.idle": "2020-10-26T00:10:13.020135Z",
     "shell.execute_reply": "2020-10-26T00:10:13.020614Z"
    },
    "papermill": {
     "duration": 0.303027,
     "end_time": "2020-10-26T00:10:13.020782",
     "exception": false,
     "start_time": "2020-10-26T00:10:12.717755",
     "status": "completed"
    },
    "tags": []
   },
   "outputs": [],
   "source": [
    "test_images = mnist.test_images()\n",
    "test_labels = mnist.test_labels()"
   ]
  },
  {
   "cell_type": "code",
   "execution_count": 7,
   "metadata": {
    "execution": {
     "iopub.execute_input": "2020-10-26T00:10:13.084136Z",
     "iopub.status.busy": "2020-10-26T00:10:13.083549Z",
     "iopub.status.idle": "2020-10-26T00:10:13.095732Z",
     "shell.execute_reply": "2020-10-26T00:10:13.095232Z"
    },
    "papermill": {
     "duration": 0.047768,
     "end_time": "2020-10-26T00:10:13.095862",
     "exception": false,
     "start_time": "2020-10-26T00:10:13.048094",
     "status": "completed"
    },
    "tags": []
   },
   "outputs": [
    {
     "data": {
      "text/plain": [
       "((10000, 28, 28), (10000,))"
      ]
     },
     "execution_count": 7,
     "metadata": {},
     "output_type": "execute_result"
    }
   ],
   "source": [
    "test_images.shape, test_labels.shape"
   ]
  },
  {
   "cell_type": "code",
   "execution_count": 8,
   "metadata": {
    "execution": {
     "iopub.execute_input": "2020-10-26T00:10:13.162006Z",
     "iopub.status.busy": "2020-10-26T00:10:13.161354Z",
     "iopub.status.idle": "2020-10-26T00:10:13.320083Z",
     "shell.execute_reply": "2020-10-26T00:10:13.320740Z"
    },
    "papermill": {
     "duration": 0.196196,
     "end_time": "2020-10-26T00:10:13.320940",
     "exception": false,
     "start_time": "2020-10-26T00:10:13.124744",
     "status": "completed"
    },
    "tags": []
   },
   "outputs": [
    {
     "name": "stdout",
     "output_type": "stream",
     "text": [
      "2\n"
     ]
    },
    {
     "data": {
      "text/plain": [
       "<matplotlib.image.AxesImage at 0x7fb8364f89e8>"
      ]
     },
     "execution_count": 8,
     "metadata": {},
     "output_type": "execute_result"
    },
    {
     "data": {
      "image/png": "[encoded data removed]",
      "text/plain": [
       "<Figure size 432x288 with 1 Axes>"
      ]
     },
     "metadata": {
      "needs_background": "light"
     },
     "output_type": "display_data"
    }
   ],
   "source": [
    "image_index = 7776 # You may select anything up to 60,000\n",
    "print(train_labels[image_index]) \n",
    "plt.imshow(train_images[image_index], cmap='Greys')"
   ]
  },
  {
   "cell_type": "markdown",
   "metadata": {
    "papermill": {
     "duration": 0.029268,
     "end_time": "2020-10-26T00:10:13.380471",
     "exception": false,
     "start_time": "2020-10-26T00:10:13.351203",
     "status": "completed"
    },
    "tags": []
   },
   "source": [
    "## Filter data to get 3 and 8 out"
   ]
  },
  {
   "cell_type": "code",
   "execution_count": 9,
   "metadata": {
    "execution": {
     "iopub.execute_input": "2020-10-26T00:10:13.447707Z",
     "iopub.status.busy": "2020-10-26T00:10:13.447079Z",
     "iopub.status.idle": "2020-10-26T00:10:13.466636Z",
     "shell.execute_reply": "2020-10-26T00:10:13.466007Z"
    },
    "papermill": {
     "duration": 0.057177,
     "end_time": "2020-10-26T00:10:13.466770",
     "exception": false,
     "start_time": "2020-10-26T00:10:13.409593",
     "status": "completed"
    },
    "tags": []
   },
   "outputs": [],
   "source": [
    "train_filter = np.where((train_labels == 3 ) | (train_labels == 8))\n",
    "test_filter = np.where((test_labels == 3) | (test_labels == 8))\n",
    "X_train, y_train = train_images[train_filter], train_labels[train_filter]\n",
    "X_test, y_test = test_images[test_filter], test_labels[test_filter]"
   ]
  },
  {
   "cell_type": "markdown",
   "metadata": {
    "papermill": {
     "duration": 0.02802,
     "end_time": "2020-10-26T00:10:13.523213",
     "exception": false,
     "start_time": "2020-10-26T00:10:13.495193",
     "status": "completed"
    },
    "tags": []
   },
   "source": [
    "We normalize the pixel values in the 0 to 1 range"
   ]
  },
  {
   "cell_type": "code",
   "execution_count": 10,
   "metadata": {
    "execution": {
     "iopub.execute_input": "2020-10-26T00:10:13.583674Z",
     "iopub.status.busy": "2020-10-26T00:10:13.583071Z",
     "iopub.status.idle": "2020-10-26T00:10:13.636558Z",
     "shell.execute_reply": "2020-10-26T00:10:13.635909Z"
    },
    "papermill": {
     "duration": 0.085829,
     "end_time": "2020-10-26T00:10:13.636695",
     "exception": false,
     "start_time": "2020-10-26T00:10:13.550866",
     "status": "completed"
    },
    "tags": []
   },
   "outputs": [],
   "source": [
    "X_train = X_train/255.\n",
    "X_test = X_test/255."
   ]
  },
  {
   "cell_type": "markdown",
   "metadata": {
    "papermill": {
     "duration": 0.028161,
     "end_time": "2020-10-26T00:10:13.693407",
     "exception": false,
     "start_time": "2020-10-26T00:10:13.665246",
     "status": "completed"
    },
    "tags": []
   },
   "source": [
    "Setup the labels as 1 (when the digit is 3) and 0 (when the digit is 8)"
   ]
  },
  {
   "cell_type": "code",
   "execution_count": 11,
   "metadata": {
    "execution": {
     "iopub.execute_input": "2020-10-26T00:10:13.764262Z",
     "iopub.status.busy": "2020-10-26T00:10:13.754654Z",
     "iopub.status.idle": "2020-10-26T00:10:13.768176Z",
     "shell.execute_reply": "2020-10-26T00:10:13.767672Z"
    },
    "papermill": {
     "duration": 0.046794,
     "end_time": "2020-10-26T00:10:13.768306",
     "exception": false,
     "start_time": "2020-10-26T00:10:13.721512",
     "status": "completed"
    },
    "tags": []
   },
   "outputs": [],
   "source": [
    "y_train = 1*(y_train==3)\n",
    "y_test = 1*(y_test==3)"
   ]
  },
  {
   "cell_type": "code",
   "execution_count": 12,
   "metadata": {
    "execution": {
     "iopub.execute_input": "2020-10-26T00:10:13.831249Z",
     "iopub.status.busy": "2020-10-26T00:10:13.830657Z",
     "iopub.status.idle": "2020-10-26T00:10:13.844257Z",
     "shell.execute_reply": "2020-10-26T00:10:13.843782Z"
    },
    "papermill": {
     "duration": 0.047681,
     "end_time": "2020-10-26T00:10:13.844389",
     "exception": false,
     "start_time": "2020-10-26T00:10:13.796708",
     "status": "completed"
    },
    "tags": []
   },
   "outputs": [
    {
     "data": {
      "text/plain": [
       "((11982, 28, 28), (1984, 28, 28))"
      ]
     },
     "execution_count": 12,
     "metadata": {},
     "output_type": "execute_result"
    }
   ],
   "source": [
    "X_train.shape, X_test.shape"
   ]
  },
  {
   "cell_type": "markdown",
   "metadata": {
    "papermill": {
     "duration": 0.028414,
     "end_time": "2020-10-26T00:10:13.900538",
     "exception": false,
     "start_time": "2020-10-26T00:10:13.872124",
     "status": "completed"
    },
    "tags": []
   },
   "source": [
    "### Reshape the input data to create a linear array"
   ]
  },
  {
   "cell_type": "code",
   "execution_count": 13,
   "metadata": {
    "execution": {
     "iopub.execute_input": "2020-10-26T00:10:13.963414Z",
     "iopub.status.busy": "2020-10-26T00:10:13.962808Z",
     "iopub.status.idle": "2020-10-26T00:10:13.978105Z",
     "shell.execute_reply": "2020-10-26T00:10:13.977573Z"
    },
    "papermill": {
     "duration": 0.049299,
     "end_time": "2020-10-26T00:10:13.978239",
     "exception": false,
     "start_time": "2020-10-26T00:10:13.928940",
     "status": "completed"
    },
    "tags": []
   },
   "outputs": [
    {
     "data": {
      "text/plain": [
       "((11982, 784), (1984, 784))"
      ]
     },
     "execution_count": 13,
     "metadata": {},
     "output_type": "execute_result"
    }
   ],
   "source": [
    "X_train = X_train.reshape(X_train.shape[0], -1)\n",
    "X_test = X_test.reshape(X_test.shape[0], -1)\n",
    "X_train.shape, X_test.shape"
   ]
  },
  {
   "cell_type": "markdown",
   "metadata": {
    "papermill": {
     "duration": 0.028437,
     "end_time": "2020-10-26T00:10:14.035430",
     "exception": false,
     "start_time": "2020-10-26T00:10:14.006993",
     "status": "completed"
    },
    "tags": []
   },
   "source": [
    "### Importing appropriate functions from 'Kudzu'"
   ]
  },
  {
   "cell_type": "code",
   "execution_count": 14,
   "metadata": {
    "execution": {
     "iopub.execute_input": "2020-10-26T00:10:14.098466Z",
     "iopub.status.busy": "2020-10-26T00:10:14.097851Z",
     "iopub.status.idle": "2020-10-26T00:10:14.120886Z",
     "shell.execute_reply": "2020-10-26T00:10:14.120224Z"
    },
    "papermill": {
     "duration": 0.056761,
     "end_time": "2020-10-26T00:10:14.121064",
     "exception": false,
     "start_time": "2020-10-26T00:10:14.064303",
     "status": "completed"
    },
    "tags": []
   },
   "outputs": [],
   "source": [
    "from kudzu.layer import Sigmoid\n",
    "from kudzu.layer import Relu\n",
    "from kudzu.layer import Affine, Sigmoid\n",
    "\n",
    "from kudzu.model import Model\n",
    "from kudzu.train import Learner\n",
    "from kudzu.optim import GD\n",
    "from kudzu.data import Data, Dataloader, Sampler\n",
    "\n",
    "from kudzu.callbacks import AccCallback\n",
    "from kudzu.callbacks import ClfCallback\n",
    "\n",
    "from kudzu.loss import MSE"
   ]
  },
  {
   "cell_type": "markdown",
   "metadata": {
    "papermill": {
     "duration": 0.02863,
     "end_time": "2020-10-26T00:10:14.179849",
     "exception": false,
     "start_time": "2020-10-26T00:10:14.151219",
     "status": "completed"
    },
    "tags": []
   },
   "source": [
    "### Let us create a `Config` class, to store important parameters. \n",
    "This class essentially plays the role of a dictionary."
   ]
  },
  {
   "cell_type": "code",
   "execution_count": 15,
   "metadata": {
    "execution": {
     "iopub.execute_input": "2020-10-26T00:10:14.242270Z",
     "iopub.status.busy": "2020-10-26T00:10:14.241608Z",
     "iopub.status.idle": "2020-10-26T00:10:14.255026Z",
     "shell.execute_reply": "2020-10-26T00:10:14.254534Z"
    },
    "papermill": {
     "duration": 0.046417,
     "end_time": "2020-10-26T00:10:14.255161",
     "exception": false,
     "start_time": "2020-10-26T00:10:14.208744",
     "status": "completed"
    },
    "tags": []
   },
   "outputs": [],
   "source": [
    "class Config:\n",
    "    pass\n",
    "config = Config()\n",
    "config.lr = 0.001\n",
    "config.num_epochs = 251\n",
    "config.bs = 50"
   ]
  },
  {
   "cell_type": "markdown",
   "metadata": {
    "papermill": {
     "duration": 0.028819,
     "end_time": "2020-10-26T00:10:14.312972",
     "exception": false,
     "start_time": "2020-10-26T00:10:14.284153",
     "status": "completed"
    },
    "tags": []
   },
   "source": [
    "### Initializing data to the variables"
   ]
  },
  {
   "cell_type": "code",
   "execution_count": 16,
   "metadata": {
    "execution": {
     "iopub.execute_input": "2020-10-26T00:10:14.379032Z",
     "iopub.status.busy": "2020-10-26T00:10:14.378434Z",
     "iopub.status.idle": "2020-10-26T00:10:14.392992Z",
     "shell.execute_reply": "2020-10-26T00:10:14.392521Z"
    },
    "papermill": {
     "duration": 0.050882,
     "end_time": "2020-10-26T00:10:14.393123",
     "exception": false,
     "start_time": "2020-10-26T00:10:14.342241",
     "status": "completed"
    },
    "tags": []
   },
   "outputs": [],
   "source": [
    "data = Data(X_train, y_train.reshape(-1,1))\n",
    "sampler = Sampler(data, config.bs, shuffle=True)\n",
    "\n",
    "dl = Dataloader(data, sampler)\n",
    "\n",
    "opt = GD(config.lr)\n",
    "loss = MSE()"
   ]
  },
  {
   "cell_type": "code",
   "execution_count": 17,
   "metadata": {
    "execution": {
     "iopub.execute_input": "2020-10-26T00:10:14.455031Z",
     "iopub.status.busy": "2020-10-26T00:10:14.454048Z",
     "iopub.status.idle": "2020-10-26T00:10:14.468041Z",
     "shell.execute_reply": "2020-10-26T00:10:14.467563Z"
    },
    "papermill": {
     "duration": 0.046046,
     "end_time": "2020-10-26T00:10:14.468174",
     "exception": false,
     "start_time": "2020-10-26T00:10:14.422128",
     "status": "completed"
    },
    "tags": []
   },
   "outputs": [],
   "source": [
    "training_xdata = X_train\n",
    "testing_xdata = X_test\n",
    "training_ydata = y_train.reshape(-1,1)\n",
    "testing_ydata = y_test.reshape(-1,1)"
   ]
  },
  {
   "cell_type": "markdown",
   "metadata": {
    "papermill": {
     "duration": 0.028873,
     "end_time": "2020-10-26T00:10:14.525975",
     "exception": false,
     "start_time": "2020-10-26T00:10:14.497102",
     "status": "completed"
    },
    "tags": []
   },
   "source": [
    "### Running Models with the Training data\n",
    "Details about the network layers:\n",
    "- A first affine layer has 784 inputs and does 100 affine transforms. These are followed by a Relu\n",
    "- A second affine layer has 100 inputs from the 100 activations of the past layer, and does 100 affine transforms. These are followed by a Relu\n",
    "- A third affine layer has 100 activations and does 2 affine transformations to create an embedding for visualization. There is no non-linearity here.\n",
    "- A final \"logistic regression\" which has an affine transform from 2 inputs to 1 output, which is squeezed through a sigmoid.\n",
    "\n",
    "Help taken from Anshuman's Notebook."
   ]
  },
  {
   "cell_type": "code",
   "execution_count": 18,
   "metadata": {
    "execution": {
     "iopub.execute_input": "2020-10-26T00:10:14.589643Z",
     "iopub.status.busy": "2020-10-26T00:10:14.589034Z",
     "iopub.status.idle": "2020-10-26T00:10:14.610458Z",
     "shell.execute_reply": "2020-10-26T00:10:14.609711Z"
    },
    "papermill": {
     "duration": 0.055994,
     "end_time": "2020-10-26T00:10:14.610635",
     "exception": false,
     "start_time": "2020-10-26T00:10:14.554641",
     "status": "completed"
    },
    "tags": []
   },
   "outputs": [],
   "source": [
    "# layers for the Neural Network\n",
    "layers = [Affine(\"first\", 784, 100), Relu(\"first\"), Affine(\"second\", 100, 100), Relu(\"second\"), Affine(\"third\", 100, 2), Affine(\"final\", 2, 1), Sigmoid(\"final\")]\n",
    "model_nn = Model(layers)\n",
    "\n",
    "# layers for the Logistic Regression\n",
    "layers_lr = [Affine(\"logits\", 784, 1), Sigmoid(\"sigmoid\")]\n",
    "model_lr = Model(layers_lr)"
   ]
  },
  {
   "cell_type": "code",
   "execution_count": 19,
   "metadata": {
    "execution": {
     "iopub.execute_input": "2020-10-26T00:10:14.677855Z",
     "iopub.status.busy": "2020-10-26T00:10:14.677199Z",
     "iopub.status.idle": "2020-10-26T00:10:14.688025Z",
     "shell.execute_reply": "2020-10-26T00:10:14.687500Z"
    },
    "papermill": {
     "duration": 0.047397,
     "end_time": "2020-10-26T00:10:14.688153",
     "exception": false,
     "start_time": "2020-10-26T00:10:14.640756",
     "status": "completed"
    },
    "tags": []
   },
   "outputs": [],
   "source": [
    "# suffix _nn stands for Neural Network.\n",
    "learner_nn = Learner(loss, model_nn, opt, config.num_epochs)\n",
    "acc_nn = ClfCallback(learner_nn, config.bs, training_xdata , testing_xdata, training_ydata, testing_ydata)\n",
    "learner_nn.set_callbacks([acc_nn])"
   ]
  },
  {
   "cell_type": "code",
   "execution_count": 20,
   "metadata": {
    "execution": {
     "iopub.execute_input": "2020-10-26T00:10:14.755435Z",
     "iopub.status.busy": "2020-10-26T00:10:14.754845Z",
     "iopub.status.idle": "2020-10-26T00:11:40.901608Z",
     "shell.execute_reply": "2020-10-26T00:11:40.902732Z"
    },
    "papermill": {
     "duration": 86.181295,
     "end_time": "2020-10-26T00:11:40.902895",
     "exception": false,
     "start_time": "2020-10-26T00:10:14.721600",
     "status": "completed"
    },
    "tags": []
   },
   "outputs": [
    {
     "name": "stdout",
     "output_type": "stream",
     "text": [
      "====== Neural Network ======\n"
     ]
    },
    {
     "name": "stdout",
     "output_type": "stream",
     "text": [
      "Epoch 0, Loss 0.2319\n",
      "Training Accuracy: 0.7330, Testing Accuracy: 0.7490\n",
      "\n"
     ]
    },
    {
     "name": "stdout",
     "output_type": "stream",
     "text": [
      "Epoch 10, Loss 0.0808\n",
      "Training Accuracy: 0.9187, Testing Accuracy: 0.9289\n",
      "\n"
     ]
    },
    {
     "name": "stdout",
     "output_type": "stream",
     "text": [
      "Epoch 20, Loss 0.0528\n",
      "Training Accuracy: 0.9432, Testing Accuracy: 0.9546\n",
      "\n"
     ]
    },
    {
     "name": "stdout",
     "output_type": "stream",
     "text": [
      "Epoch 30, Loss 0.0424\n",
      "Training Accuracy: 0.9522, Testing Accuracy: 0.9657\n",
      "\n"
     ]
    },
    {
     "name": "stdout",
     "output_type": "stream",
     "text": [
      "Epoch 40, Loss 0.0371\n",
      "Training Accuracy: 0.9574, Testing Accuracy: 0.9662\n",
      "\n"
     ]
    },
    {
     "name": "stdout",
     "output_type": "stream",
     "text": [
      "Epoch 50, Loss 0.0337\n",
      "Training Accuracy: 0.9608, Testing Accuracy: 0.9682\n",
      "\n"
     ]
    },
    {
     "name": "stdout",
     "output_type": "stream",
     "text": [
      "Epoch 60, Loss 0.0313\n",
      "Training Accuracy: 0.9635, Testing Accuracy: 0.9688\n",
      "\n"
     ]
    },
    {
     "name": "stdout",
     "output_type": "stream",
     "text": [
      "Epoch 70, Loss 0.0295\n",
      "Training Accuracy: 0.9654, Testing Accuracy: 0.9708\n",
      "\n"
     ]
    },
    {
     "name": "stdout",
     "output_type": "stream",
     "text": [
      "Epoch 80, Loss 0.0281\n",
      "Training Accuracy: 0.9666, Testing Accuracy: 0.9723\n",
      "\n"
     ]
    },
    {
     "name": "stdout",
     "output_type": "stream",
     "text": [
      "Epoch 90, Loss 0.0268\n",
      "Training Accuracy: 0.9676, Testing Accuracy: 0.9728\n",
      "\n"
     ]
    },
    {
     "name": "stdout",
     "output_type": "stream",
     "text": [
      "Epoch 100, Loss 0.0258\n",
      "Training Accuracy: 0.9684, Testing Accuracy: 0.9728\n",
      "\n"
     ]
    },
    {
     "name": "stdout",
     "output_type": "stream",
     "text": [
      "Epoch 110, Loss 0.0249\n",
      "Training Accuracy: 0.9699, Testing Accuracy: 0.9728\n",
      "\n"
     ]
    },
    {
     "name": "stdout",
     "output_type": "stream",
     "text": [
      "Epoch 120, Loss 0.024\n",
      "Training Accuracy: 0.9712, Testing Accuracy: 0.9743\n",
      "\n"
     ]
    },
    {
     "name": "stdout",
     "output_type": "stream",
     "text": [
      "Epoch 130, Loss 0.0233\n",
      "Training Accuracy: 0.9720, Testing Accuracy: 0.9748\n",
      "\n"
     ]
    },
    {
     "name": "stdout",
     "output_type": "stream",
     "text": [
      "Epoch 140, Loss 0.0226\n",
      "Training Accuracy: 0.9734, Testing Accuracy: 0.9748\n",
      "\n"
     ]
    },
    {
     "name": "stdout",
     "output_type": "stream",
     "text": [
      "Epoch 150, Loss 0.022\n",
      "Training Accuracy: 0.9740, Testing Accuracy: 0.9753\n",
      "\n"
     ]
    },
    {
     "name": "stdout",
     "output_type": "stream",
     "text": [
      "Epoch 160, Loss 0.0214\n",
      "Training Accuracy: 0.9749, Testing Accuracy: 0.9748\n",
      "\n"
     ]
    },
    {
     "name": "stdout",
     "output_type": "stream",
     "text": [
      "Epoch 170, Loss 0.0209\n",
      "Training Accuracy: 0.9757, Testing Accuracy: 0.9758\n",
      "\n"
     ]
    },
    {
     "name": "stdout",
     "output_type": "stream",
     "text": [
      "Epoch 180, Loss 0.0204\n",
      "Training Accuracy: 0.9765, Testing Accuracy: 0.9753\n",
      "\n"
     ]
    },
    {
     "name": "stdout",
     "output_type": "stream",
     "text": [
      "Epoch 190, Loss 0.0199\n",
      "Training Accuracy: 0.9774, Testing Accuracy: 0.9748\n",
      "\n"
     ]
    },
    {
     "name": "stdout",
     "output_type": "stream",
     "text": [
      "Epoch 200, Loss 0.0194\n",
      "Training Accuracy: 0.9777, Testing Accuracy: 0.9753\n",
      "\n"
     ]
    },
    {
     "name": "stdout",
     "output_type": "stream",
     "text": [
      "Epoch 210, Loss 0.019\n",
      "Training Accuracy: 0.9782, Testing Accuracy: 0.9758\n",
      "\n"
     ]
    },
    {
     "name": "stdout",
     "output_type": "stream",
     "text": [
      "Epoch 220, Loss 0.0186\n",
      "Training Accuracy: 0.9790, Testing Accuracy: 0.9753\n",
      "\n"
     ]
    },
    {
     "name": "stdout",
     "output_type": "stream",
     "text": [
      "Epoch 230, Loss 0.0182\n",
      "Training Accuracy: 0.9801, Testing Accuracy: 0.9758\n",
      "\n"
     ]
    },
    {
     "name": "stdout",
     "output_type": "stream",
     "text": [
      "Epoch 240, Loss 0.0178\n",
      "Training Accuracy: 0.9808, Testing Accuracy: 0.9763\n",
      "\n"
     ]
    },
    {
     "name": "stdout",
     "output_type": "stream",
     "text": [
      "Epoch 250, Loss 0.0174\n",
      "Training Accuracy: 0.9812, Testing Accuracy: 0.9768\n",
      "\n"
     ]
    },
    {
     "data": {
      "text/plain": [
       "0.024870765204583284"
      ]
     },
     "execution_count": 20,
     "metadata": {},
     "output_type": "execute_result"
    }
   ],
   "source": [
    "print(\"====== Neural Network ======\")\n",
    "learner_nn.train_loop(dl)"
   ]
  },
  {
   "cell_type": "markdown",
   "metadata": {
    "papermill": {
     "duration": 0.037407,
     "end_time": "2020-10-26T00:11:40.978671",
     "exception": false,
     "start_time": "2020-10-26T00:11:40.941264",
     "status": "completed"
    },
    "tags": []
   },
   "source": [
    "### Logistic Regression based Implementation."
   ]
  },
  {
   "cell_type": "code",
   "execution_count": 21,
   "metadata": {
    "execution": {
     "iopub.execute_input": "2020-10-26T00:11:41.066339Z",
     "iopub.status.busy": "2020-10-26T00:11:41.065645Z",
     "iopub.status.idle": "2020-10-26T00:11:41.078868Z",
     "shell.execute_reply": "2020-10-26T00:11:41.078322Z"
    },
    "papermill": {
     "duration": 0.060684,
     "end_time": "2020-10-26T00:11:41.079004",
     "exception": false,
     "start_time": "2020-10-26T00:11:41.018320",
     "status": "completed"
    },
    "tags": []
   },
   "outputs": [],
   "source": [
    "learner_lr = Learner(loss, model_lr, opt, config.num_epochs)\n",
    "acc_lr = ClfCallback(learner_lr, config.bs, training_xdata , testing_xdata, training_ydata, testing_ydata)\n",
    "learner_lr.set_callbacks([acc_lr])"
   ]
  },
  {
   "cell_type": "code",
   "execution_count": 22,
   "metadata": {
    "execution": {
     "iopub.execute_input": "2020-10-26T00:11:41.157739Z",
     "iopub.status.busy": "2020-10-26T00:11:41.157096Z",
     "iopub.status.idle": "2020-10-26T00:11:59.138743Z",
     "shell.execute_reply": "2020-10-26T00:11:59.139254Z"
    },
    "papermill": {
     "duration": 18.02332,
     "end_time": "2020-10-26T00:11:59.139416",
     "exception": false,
     "start_time": "2020-10-26T00:11:41.116096",
     "status": "completed"
    },
    "tags": []
   },
   "outputs": [
    {
     "name": "stdout",
     "output_type": "stream",
     "text": [
      "====== Logistic Regression ======\n",
      "Epoch 0, Loss 0.2304\n",
      "Training Accuracy: 0.7157, Testing Accuracy: 0.7112\n",
      "\n"
     ]
    },
    {
     "name": "stdout",
     "output_type": "stream",
     "text": [
      "Epoch 10, Loss 0.1026\n",
      "Training Accuracy: 0.9097, Testing Accuracy: 0.9259\n",
      "\n"
     ]
    },
    {
     "name": "stdout",
     "output_type": "stream",
     "text": [
      "Epoch 20, Loss 0.0792\n",
      "Training Accuracy: 0.9268, Testing Accuracy: 0.9385\n",
      "\n"
     ]
    },
    {
     "name": "stdout",
     "output_type": "stream",
     "text": [
      "Epoch 30, Loss 0.0684\n",
      "Training Accuracy: 0.9347, Testing Accuracy: 0.9481\n",
      "\n"
     ]
    },
    {
     "name": "stdout",
     "output_type": "stream",
     "text": [
      "Epoch 40, Loss 0.0619\n",
      "Training Accuracy: 0.9382, Testing Accuracy: 0.9516\n",
      "\n"
     ]
    },
    {
     "name": "stdout",
     "output_type": "stream",
     "text": [
      "Epoch 50, Loss 0.0574\n",
      "Training Accuracy: 0.9430, Testing Accuracy: 0.9536\n",
      "\n"
     ]
    },
    {
     "name": "stdout",
     "output_type": "stream",
     "text": [
      "Epoch 60, Loss 0.0541\n",
      "Training Accuracy: 0.9463, Testing Accuracy: 0.9561\n",
      "\n"
     ]
    },
    {
     "name": "stdout",
     "output_type": "stream",
     "text": [
      "Epoch 70, Loss 0.0516\n",
      "Training Accuracy: 0.9474, Testing Accuracy: 0.9561\n",
      "\n"
     ]
    },
    {
     "name": "stdout",
     "output_type": "stream",
     "text": [
      "Epoch 80, Loss 0.0495\n",
      "Training Accuracy: 0.9489, Testing Accuracy: 0.9572\n",
      "\n"
     ]
    },
    {
     "name": "stdout",
     "output_type": "stream",
     "text": [
      "Epoch 90, Loss 0.0478\n",
      "Training Accuracy: 0.9508, Testing Accuracy: 0.9582\n",
      "\n"
     ]
    },
    {
     "name": "stdout",
     "output_type": "stream",
     "text": [
      "Epoch 100, Loss 0.0464\n",
      "Training Accuracy: 0.9517, Testing Accuracy: 0.9592\n",
      "\n"
     ]
    },
    {
     "name": "stdout",
     "output_type": "stream",
     "text": [
      "Epoch 110, Loss 0.0451\n",
      "Training Accuracy: 0.9533, Testing Accuracy: 0.9597\n",
      "\n"
     ]
    },
    {
     "name": "stdout",
     "output_type": "stream",
     "text": [
      "Epoch 120, Loss 0.0441\n",
      "Training Accuracy: 0.9543, Testing Accuracy: 0.9597\n",
      "\n"
     ]
    },
    {
     "name": "stdout",
     "output_type": "stream",
     "text": [
      "Epoch 130, Loss 0.0431\n",
      "Training Accuracy: 0.9556, Testing Accuracy: 0.9597\n",
      "\n"
     ]
    },
    {
     "name": "stdout",
     "output_type": "stream",
     "text": [
      "Epoch 140, Loss 0.0423\n",
      "Training Accuracy: 0.9564, Testing Accuracy: 0.9607\n",
      "\n"
     ]
    },
    {
     "name": "stdout",
     "output_type": "stream",
     "text": [
      "Epoch 150, Loss 0.0415\n",
      "Training Accuracy: 0.9569, Testing Accuracy: 0.9612\n",
      "\n"
     ]
    },
    {
     "name": "stdout",
     "output_type": "stream",
     "text": [
      "Epoch 160, Loss 0.0408\n",
      "Training Accuracy: 0.9575, Testing Accuracy: 0.9617\n",
      "\n"
     ]
    },
    {
     "name": "stdout",
     "output_type": "stream",
     "text": [
      "Epoch 170, Loss 0.0402\n",
      "Training Accuracy: 0.9580, Testing Accuracy: 0.9612\n",
      "\n"
     ]
    },
    {
     "name": "stdout",
     "output_type": "stream",
     "text": [
      "Epoch 180, Loss 0.0397\n",
      "Training Accuracy: 0.9584, Testing Accuracy: 0.9627\n",
      "\n"
     ]
    },
    {
     "name": "stdout",
     "output_type": "stream",
     "text": [
      "Epoch 190, Loss 0.0391\n",
      "Training Accuracy: 0.9590, Testing Accuracy: 0.9632\n",
      "\n"
     ]
    },
    {
     "name": "stdout",
     "output_type": "stream",
     "text": [
      "Epoch 200, Loss 0.0386\n",
      "Training Accuracy: 0.9593, Testing Accuracy: 0.9637\n",
      "\n"
     ]
    },
    {
     "name": "stdout",
     "output_type": "stream",
     "text": [
      "Epoch 210, Loss 0.0382\n",
      "Training Accuracy: 0.9596, Testing Accuracy: 0.9637\n",
      "\n"
     ]
    },
    {
     "name": "stdout",
     "output_type": "stream",
     "text": [
      "Epoch 220, Loss 0.0378\n",
      "Training Accuracy: 0.9601, Testing Accuracy: 0.9637\n",
      "\n"
     ]
    },
    {
     "name": "stdout",
     "output_type": "stream",
     "text": [
      "Epoch 230, Loss 0.0374\n",
      "Training Accuracy: 0.9605, Testing Accuracy: 0.9637\n",
      "\n"
     ]
    },
    {
     "name": "stdout",
     "output_type": "stream",
     "text": [
      "Epoch 240, Loss 0.037\n",
      "Training Accuracy: 0.9610, Testing Accuracy: 0.9637\n",
      "\n"
     ]
    },
    {
     "name": "stdout",
     "output_type": "stream",
     "text": [
      "Epoch 250, Loss 0.0367\n",
      "Training Accuracy: 0.9614, Testing Accuracy: 0.9642\n",
      "\n"
     ]
    },
    {
     "data": {
      "text/plain": [
       "0.05846091331768498"
      ]
     },
     "execution_count": 22,
     "metadata": {},
     "output_type": "execute_result"
    }
   ],
   "source": [
    "print(\"====== Logistic Regression ======\")\n",
    "learner_lr.train_loop(dl)"
   ]
  },
  {
   "cell_type": "markdown",
   "metadata": {
    "papermill": {
     "duration": 0.044413,
     "end_time": "2020-10-26T00:11:59.228919",
     "exception": false,
     "start_time": "2020-10-26T00:11:59.184506",
     "status": "completed"
    },
    "tags": []
   },
   "source": [
    "### Comparing results of NN and LR"
   ]
  },
  {
   "cell_type": "code",
   "execution_count": 23,
   "metadata": {
    "execution": {
     "iopub.execute_input": "2020-10-26T00:11:59.323649Z",
     "iopub.status.busy": "2020-10-26T00:11:59.323030Z",
     "iopub.status.idle": "2020-10-26T00:11:59.567770Z",
     "shell.execute_reply": "2020-10-26T00:11:59.568238Z"
    },
    "papermill": {
     "duration": 0.295086,
     "end_time": "2020-10-26T00:11:59.568402",
     "exception": false,
     "start_time": "2020-10-26T00:11:59.273316",
     "status": "completed"
    },
    "tags": []
   },
   "outputs": [
    {
     "data": {
      "text/plain": [
       "<matplotlib.legend.Legend at 0x7fb834059320>"
      ]
     },
     "execution_count": 23,
     "metadata": {},
     "output_type": "execute_result"
    },
    {
     "data": {
      "image/png": "[encoded data removed]",
      "text/plain": [
       "<Figure size 1080x720 with 1 Axes>"
      ]
     },
     "metadata": {
      "needs_background": "light"
     },
     "output_type": "display_data"
    }
   ],
   "source": [
    "plt.figure(figsize=(15,10))\n",
    "\n",
    "# Neural Network plots\n",
    "plt.plot(acc_nn.accuracies, 'r-', label = \"Training Accuracies - NN\")\n",
    "plt.plot(acc_nn.test_accuracies, 'g-', label = \"Testing Accuracies - NN\")\n",
    "\n",
    "# Logistic Regression plots\n",
    "plt.plot(acc_lr.accuracies, 'k-', label = \"Training Accuracies - LR\")\n",
    "plt.plot(acc_lr.test_accuracies, 'b-', label = \"Testing Accuracies - LR\")\n",
    "\n",
    "plt.ylim(0.8, 1)\n",
    "\n",
    "plt.legend()\n",
    "\n"
   ]
  },
  {
   "cell_type": "markdown",
   "metadata": {
    "papermill": {
     "duration": 0.046213,
     "end_time": "2020-10-26T00:11:59.661172",
     "exception": false,
     "start_time": "2020-10-26T00:11:59.614959",
     "status": "completed"
    },
    "tags": []
   },
   "source": [
    "### From the plot, we can observe the following:\n",
    "- Neural Network achieves higher accuracy than the Logistic Regression model.\n",
    "- This apparently, is because of overfitting, i.e. NN captures more noise than data.\n",
    "- Testing accuracy of NN drops below the Training accuracy at higher epochs. This explains the over-fitting on training data.\n",
    "- Logistic Regression gives a reliable accuracy, without the above mentioned problem.\n"
   ]
  },
  {
   "cell_type": "markdown",
   "metadata": {
    "papermill": {
     "duration": 0.046185,
     "end_time": "2020-10-26T00:11:59.753106",
     "exception": false,
     "start_time": "2020-10-26T00:11:59.706921",
     "status": "completed"
    },
    "tags": []
   },
   "source": [
    "### Moving till the last but one layer (excluding it).\n",
    "#### Plotting the outputs of this layer of the NN."
   ]
  },
  {
   "cell_type": "code",
   "execution_count": 24,
   "metadata": {
    "execution": {
     "iopub.execute_input": "2020-10-26T00:11:59.855301Z",
     "iopub.status.busy": "2020-10-26T00:11:59.854669Z",
     "iopub.status.idle": "2020-10-26T00:11:59.867324Z",
     "shell.execute_reply": "2020-10-26T00:11:59.866812Z"
    },
    "papermill": {
     "duration": 0.068114,
     "end_time": "2020-10-26T00:11:59.867457",
     "exception": false,
     "start_time": "2020-10-26T00:11:59.799343",
     "status": "completed"
    },
    "tags": []
   },
   "outputs": [],
   "source": [
    "model_new = Model(layers[:-2])"
   ]
  },
  {
   "cell_type": "code",
   "execution_count": 25,
   "metadata": {
    "execution": {
     "iopub.execute_input": "2020-10-26T00:11:59.966956Z",
     "iopub.status.busy": "2020-10-26T00:11:59.966363Z",
     "iopub.status.idle": "2020-10-26T00:11:59.987420Z",
     "shell.execute_reply": "2020-10-26T00:11:59.988173Z"
    },
    "papermill": {
     "duration": 0.074607,
     "end_time": "2020-10-26T00:11:59.988334",
     "exception": false,
     "start_time": "2020-10-26T00:11:59.913727",
     "status": "completed"
    },
    "tags": []
   },
   "outputs": [],
   "source": [
    "plot_testing = model_new(testing_xdata)"
   ]
  },
  {
   "cell_type": "code",
   "execution_count": 26,
   "metadata": {
    "execution": {
     "iopub.execute_input": "2020-10-26T00:12:00.091204Z",
     "iopub.status.busy": "2020-10-26T00:12:00.090583Z",
     "iopub.status.idle": "2020-10-26T00:12:00.293702Z",
     "shell.execute_reply": "2020-10-26T00:12:00.294160Z"
    },
    "papermill": {
     "duration": 0.259478,
     "end_time": "2020-10-26T00:12:00.294316",
     "exception": false,
     "start_time": "2020-10-26T00:12:00.034838",
     "status": "completed"
    },
    "tags": []
   },
   "outputs": [
    {
     "data": {
      "text/plain": [
       "Text(0.5, 1.0, 'Outputs')"
      ]
     },
     "execution_count": 26,
     "metadata": {},
     "output_type": "execute_result"
    },
    {
     "data": {
      "image/png": "[encoded data removed]",
      "text/plain": [
       "<Figure size 576x504 with 1 Axes>"
      ]
     },
     "metadata": {
      "needs_background": "light"
     },
     "output_type": "display_data"
    }
   ],
   "source": [
    "plt.figure(figsize=(8,7))\n",
    "plt.scatter(plot_testing[:,0], plot_testing[:,1], alpha = 0.1, c = y_test.ravel());\n",
    "plt.title('Outputs')"
   ]
  },
  {
   "cell_type": "markdown",
   "metadata": {
    "papermill": {
     "duration": 0.048266,
     "end_time": "2020-10-26T00:12:00.391112",
     "exception": false,
     "start_time": "2020-10-26T00:12:00.342846",
     "status": "completed"
    },
    "tags": []
   },
   "source": [
    "### Plotting probability contours"
   ]
  },
  {
   "cell_type": "code",
   "execution_count": 27,
   "metadata": {
    "execution": {
     "iopub.execute_input": "2020-10-26T00:12:00.497694Z",
     "iopub.status.busy": "2020-10-26T00:12:00.497083Z",
     "iopub.status.idle": "2020-10-26T00:12:00.508650Z",
     "shell.execute_reply": "2020-10-26T00:12:00.508197Z"
    },
    "papermill": {
     "duration": 0.069522,
     "end_time": "2020-10-26T00:12:00.508778",
     "exception": false,
     "start_time": "2020-10-26T00:12:00.439256",
     "status": "completed"
    },
    "tags": []
   },
   "outputs": [],
   "source": [
    "model_prob = Model(layers[-2:]) "
   ]
  },
  {
   "cell_type": "code",
   "execution_count": 28,
   "metadata": {
    "execution": {
     "iopub.execute_input": "2020-10-26T00:12:00.610751Z",
     "iopub.status.busy": "2020-10-26T00:12:00.610138Z",
     "iopub.status.idle": "2020-10-26T00:12:00.627208Z",
     "shell.execute_reply": "2020-10-26T00:12:00.627674Z"
    },
    "papermill": {
     "duration": 0.07103,
     "end_time": "2020-10-26T00:12:00.627836",
     "exception": false,
     "start_time": "2020-10-26T00:12:00.556806",
     "status": "completed"
    },
    "tags": []
   },
   "outputs": [],
   "source": [
    "# Adjust the x and y ranges according to the above generated plot.\n",
    "x_range = np.linspace(-4, 1, 100) \n",
    "y_range = np.linspace(-6, 6, 100) \n",
    "x_grid, y_grid = np.meshgrid(x_range, y_range) # x_grid and y_grig are of size 100 X 100\n",
    "\n",
    "# converting x_grid and y_grid to continuous arrays\n",
    "x_grid_flat = np.ravel(x_grid)\n",
    "y_grid_flat = np.ravel(y_grid)\n",
    "\n",
    "# The last layer of the current model takes two columns as input. Hence transpose of np.vstack() is required.\n",
    "X = np.vstack((x_grid_flat, y_grid_flat)).T\n",
    "\n",
    "# x_grid and y_grid are of size 100 x 100\n",
    "probability_contour = model_prob(X).reshape(100,100) "
   ]
  },
  {
   "cell_type": "code",
   "execution_count": 29,
   "metadata": {
    "execution": {
     "iopub.execute_input": "2020-10-26T00:12:00.735839Z",
     "iopub.status.busy": "2020-10-26T00:12:00.735232Z",
     "iopub.status.idle": "2020-10-26T00:12:00.984636Z",
     "shell.execute_reply": "2020-10-26T00:12:00.985218Z"
    },
    "papermill": {
     "duration": 0.307918,
     "end_time": "2020-10-26T00:12:00.985376",
     "exception": false,
     "start_time": "2020-10-26T00:12:00.677458",
     "status": "completed"
    },
    "tags": []
   },
   "outputs": [
    {
     "data": {
      "image/png": "[encoded data removed]",
      "text/plain": [
       "<Figure size 720x648 with 1 Axes>"
      ]
     },
     "metadata": {
      "needs_background": "light"
     },
     "output_type": "display_data"
    }
   ],
   "source": [
    "plt.figure(figsize=(10,9))\n",
    "plt.scatter(plot_testing[:,0], plot_testing[:,1], alpha = 0.1, c = y_test.ravel())\n",
    "contours = plt.contour(x_grid,y_grid,probability_contour)\n",
    "plt.title('Probability Contours')\n",
    "plt.clabel(contours, inline = True );"
   ]
  }
 ],
 "metadata": {
  "kernelspec": {
   "display_name": "Python 3",
   "language": "python",
   "name": "python3"
  },
  "language_info": {
   "codemirror_mode": {
    "name": "ipython",
    "version": 3
   },
   "file_extension": ".py",
   "mimetype": "text/x-python",
   "name": "python",
   "nbconvert_exporter": "python",
   "pygments_lexer": "ipython3",
   "version": "3.6.12"
  },
  "papermill": {
   "duration": 113.387116,
   "end_time": "2020-10-26T00:12:01.444351",
   "environment_variables": {},
   "exception": null,
   "input_path": "2020-08-11-NeuralNetwork.ipynb",
   "output_path": "2020-08-11-NeuralNetwork.ipynb",
   "parameters": {},
   "start_time": "2020-10-26T00:10:08.057235",
   "version": "2.1.2"
  }
 },
 "nbformat": 4,
 "nbformat_minor": 4
}