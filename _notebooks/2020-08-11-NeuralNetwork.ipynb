{
 "cells": [
  {
   "cell_type": "markdown",
   "metadata": {
    "papermill": {
     "duration": 0.034183,
     "end_time": "2020-09-22T10:04:49.901627",
     "exception": false,
     "start_time": "2020-09-22T10:04:49.867444",
     "status": "completed"
    },
    "tags": []
   },
   "source": [
    "# \"A Basic Neural Network: Differentiate Hand-Written Digits\"\n",
    "\n",
    "- badges: true\n",
    "- author: Akshith Sriram"
   ]
  },
  {
   "cell_type": "markdown",
   "metadata": {
    "papermill": {
     "duration": 0.029459,
     "end_time": "2020-09-22T10:04:49.961726",
     "exception": false,
     "start_time": "2020-09-22T10:04:49.932267",
     "status": "completed"
    },
    "tags": []
   },
   "source": [
    "### Key Objectives:\n",
    "- Building a neural network that differentiates two hand-written digits 3 and 8.\n",
    "- Comparing the results of this Neural Network (NN) to that of a Logistic Regression (LR) model.\n",
    "\n",
    "### Requirements:\n",
    "- 'Kudzu' : A neural network library that was designed during our course by [Univ.AI](www.univ.ai). \n",
    "- MNIST Database\n",
    "\n",
    "If MNIST is not installed, use the command `!pip install mnist` given below.\n",
    "It can be run both from the command line and Jupyter Notebook."
   ]
  },
  {
   "cell_type": "code",
   "execution_count": 1,
   "metadata": {
    "execution": {
     "iopub.execute_input": "2020-09-22T10:04:50.023432Z",
     "iopub.status.busy": "2020-09-22T10:04:50.022582Z",
     "iopub.status.idle": "2020-09-22T10:04:51.612489Z",
     "shell.execute_reply": "2020-09-22T10:04:51.611583Z"
    },
    "papermill": {
     "duration": 1.623128,
     "end_time": "2020-09-22T10:04:51.612646",
     "exception": false,
     "start_time": "2020-09-22T10:04:49.989518",
     "status": "completed"
    },
    "tags": []
   },
   "outputs": [
    {
     "name": "stdout",
     "output_type": "stream",
     "text": [
      "Collecting mnist\r\n"
     ]
    },
    {
     "name": "stdout",
     "output_type": "stream",
     "text": [
      "  Downloading mnist-0.2.2-py2.py3-none-any.whl (3.5 kB)\r\n"
     ]
    },
    {
     "name": "stdout",
     "output_type": "stream",
     "text": [
      "Requirement already satisfied: numpy in /opt/hostedtoolcache/Python/3.6.12/x64/lib/python3.6/site-packages (from mnist) (1.19.2)\r\n"
     ]
    },
    {
     "name": "stdout",
     "output_type": "stream",
     "text": [
      "Installing collected packages: mnist\r\n"
     ]
    },
    {
     "name": "stdout",
     "output_type": "stream",
     "text": [
      "Successfully installed mnist-0.2.2\r\n"
     ]
    }
   ],
   "source": [
    "!pip install mnist "
   ]
  },
  {
   "cell_type": "markdown",
   "metadata": {
    "papermill": {
     "duration": 0.027908,
     "end_time": "2020-09-22T10:04:51.668533",
     "exception": false,
     "start_time": "2020-09-22T10:04:51.640625",
     "status": "completed"
    },
    "tags": []
   },
   "source": [
    "#### Importing necessary libraries"
   ]
  },
  {
   "cell_type": "code",
   "execution_count": 2,
   "metadata": {
    "execution": {
     "iopub.execute_input": "2020-09-22T10:04:51.737024Z",
     "iopub.status.busy": "2020-09-22T10:04:51.736176Z",
     "iopub.status.idle": "2020-09-22T10:04:52.371297Z",
     "shell.execute_reply": "2020-09-22T10:04:52.370351Z"
    },
    "papermill": {
     "duration": 0.674558,
     "end_time": "2020-09-22T10:04:52.371443",
     "exception": false,
     "start_time": "2020-09-22T10:04:51.696885",
     "status": "completed"
    },
    "tags": []
   },
   "outputs": [],
   "source": [
    "%load_ext autoreload\n",
    "%autoreload 2\n",
    "\n",
    "%matplotlib inline\n",
    "import matplotlib.pyplot as plt\n",
    "\n",
    "import numpy as np\n",
    "import pandas as pd"
   ]
  },
  {
   "cell_type": "markdown",
   "metadata": {
    "papermill": {
     "duration": 0.028689,
     "end_time": "2020-09-22T10:04:52.430192",
     "exception": false,
     "start_time": "2020-09-22T10:04:52.401503",
     "status": "completed"
    },
    "tags": []
   },
   "source": [
    "### Preparing the Data"
   ]
  },
  {
   "cell_type": "code",
   "execution_count": 3,
   "metadata": {
    "execution": {
     "iopub.execute_input": "2020-09-22T10:04:52.499643Z",
     "iopub.status.busy": "2020-09-22T10:04:52.490681Z",
     "iopub.status.idle": "2020-09-22T10:04:52.503268Z",
     "shell.execute_reply": "2020-09-22T10:04:52.502660Z"
    },
    "papermill": {
     "duration": 0.045229,
     "end_time": "2020-09-22T10:04:52.503405",
     "exception": false,
     "start_time": "2020-09-22T10:04:52.458176",
     "status": "completed"
    },
    "tags": []
   },
   "outputs": [],
   "source": [
    "import mnist"
   ]
  },
  {
   "cell_type": "code",
   "execution_count": 4,
   "metadata": {
    "execution": {
     "iopub.execute_input": "2020-09-22T10:04:52.567238Z",
     "iopub.status.busy": "2020-09-22T10:04:52.566563Z",
     "iopub.status.idle": "2020-09-22T10:04:54.261851Z",
     "shell.execute_reply": "2020-09-22T10:04:54.261273Z"
    },
    "papermill": {
     "duration": 1.728945,
     "end_time": "2020-09-22T10:04:54.262015",
     "exception": false,
     "start_time": "2020-09-22T10:04:52.533070",
     "status": "completed"
    },
    "tags": []
   },
   "outputs": [],
   "source": [
    "train_images = mnist.train_images()\n",
    "train_labels = mnist.train_labels()"
   ]
  },
  {
   "cell_type": "code",
   "execution_count": 5,
   "metadata": {
    "execution": {
     "iopub.execute_input": "2020-09-22T10:04:54.323608Z",
     "iopub.status.busy": "2020-09-22T10:04:54.322959Z",
     "iopub.status.idle": "2020-09-22T10:04:54.337087Z",
     "shell.execute_reply": "2020-09-22T10:04:54.337708Z"
    },
    "papermill": {
     "duration": 0.046986,
     "end_time": "2020-09-22T10:04:54.337856",
     "exception": false,
     "start_time": "2020-09-22T10:04:54.290870",
     "status": "completed"
    },
    "tags": []
   },
   "outputs": [
    {
     "data": {
      "text/plain": [
       "((60000, 28, 28), (60000,))"
      ]
     },
     "execution_count": 5,
     "metadata": {},
     "output_type": "execute_result"
    }
   ],
   "source": [
    "train_images.shape, train_labels.shape"
   ]
  },
  {
   "cell_type": "code",
   "execution_count": 6,
   "metadata": {
    "execution": {
     "iopub.execute_input": "2020-09-22T10:04:54.412477Z",
     "iopub.status.busy": "2020-09-22T10:04:54.406006Z",
     "iopub.status.idle": "2020-09-22T10:04:55.272527Z",
     "shell.execute_reply": "2020-09-22T10:04:55.273232Z"
    },
    "papermill": {
     "duration": 0.905634,
     "end_time": "2020-09-22T10:04:55.273412",
     "exception": false,
     "start_time": "2020-09-22T10:04:54.367778",
     "status": "completed"
    },
    "tags": []
   },
   "outputs": [],
   "source": [
    "test_images = mnist.test_images()\n",
    "test_labels = mnist.test_labels()"
   ]
  },
  {
   "cell_type": "code",
   "execution_count": 7,
   "metadata": {
    "execution": {
     "iopub.execute_input": "2020-09-22T10:04:55.338013Z",
     "iopub.status.busy": "2020-09-22T10:04:55.337374Z",
     "iopub.status.idle": "2020-09-22T10:04:55.350024Z",
     "shell.execute_reply": "2020-09-22T10:04:55.349475Z"
    },
    "papermill": {
     "duration": 0.046418,
     "end_time": "2020-09-22T10:04:55.350161",
     "exception": false,
     "start_time": "2020-09-22T10:04:55.303743",
     "status": "completed"
    },
    "tags": []
   },
   "outputs": [
    {
     "data": {
      "text/plain": [
       "((10000, 28, 28), (10000,))"
      ]
     },
     "execution_count": 7,
     "metadata": {},
     "output_type": "execute_result"
    }
   ],
   "source": [
    "test_images.shape, test_labels.shape"
   ]
  },
  {
   "cell_type": "code",
   "execution_count": 8,
   "metadata": {
    "execution": {
     "iopub.execute_input": "2020-09-22T10:04:55.444116Z",
     "iopub.status.busy": "2020-09-22T10:04:55.421281Z",
     "iopub.status.idle": "2020-09-22T10:04:55.578519Z",
     "shell.execute_reply": "2020-09-22T10:04:55.579071Z"
    },
    "papermill": {
     "duration": 0.198286,
     "end_time": "2020-09-22T10:04:55.579238",
     "exception": false,
     "start_time": "2020-09-22T10:04:55.380952",
     "status": "completed"
    },
    "tags": []
   },
   "outputs": [
    {
     "name": "stdout",
     "output_type": "stream",
     "text": [
      "2\n"
     ]
    },
    {
     "data": {
      "text/plain": [
       "<matplotlib.image.AxesImage at 0x7fa49b6a58d0>"
      ]
     },
     "execution_count": 8,
     "metadata": {},
     "output_type": "execute_result"
    },
    {
     "data": {
      "image/png": "[encoded data removed]",
      "text/plain": [
       "<Figure size 432x288 with 1 Axes>"
      ]
     },
     "metadata": {
      "needs_background": "light"
     },
     "output_type": "display_data"
    }
   ],
   "source": [
    "image_index = 7776 # You may select anything up to 60,000\n",
    "print(train_labels[image_index]) \n",
    "plt.imshow(train_images[image_index], cmap='Greys')"
   ]
  },
  {
   "cell_type": "markdown",
   "metadata": {
    "papermill": {
     "duration": 0.033315,
     "end_time": "2020-09-22T10:04:55.644166",
     "exception": false,
     "start_time": "2020-09-22T10:04:55.610851",
     "status": "completed"
    },
    "tags": []
   },
   "source": [
    "## Filter data to get 3 and 8 out"
   ]
  },
  {
   "cell_type": "code",
   "execution_count": 9,
   "metadata": {
    "execution": {
     "iopub.execute_input": "2020-09-22T10:04:55.716604Z",
     "iopub.status.busy": "2020-09-22T10:04:55.715954Z",
     "iopub.status.idle": "2020-09-22T10:04:55.734778Z",
     "shell.execute_reply": "2020-09-22T10:04:55.734195Z"
    },
    "papermill": {
     "duration": 0.057126,
     "end_time": "2020-09-22T10:04:55.734928",
     "exception": false,
     "start_time": "2020-09-22T10:04:55.677802",
     "status": "completed"
    },
    "tags": []
   },
   "outputs": [],
   "source": [
    "train_filter = np.where((train_labels == 3 ) | (train_labels == 8))\n",
    "test_filter = np.where((test_labels == 3) | (test_labels == 8))\n",
    "X_train, y_train = train_images[train_filter], train_labels[train_filter]\n",
    "X_test, y_test = test_images[test_filter], test_labels[test_filter]"
   ]
  },
  {
   "cell_type": "markdown",
   "metadata": {
    "papermill": {
     "duration": 0.031052,
     "end_time": "2020-09-22T10:04:55.796870",
     "exception": false,
     "start_time": "2020-09-22T10:04:55.765818",
     "status": "completed"
    },
    "tags": []
   },
   "source": [
    "We normalize the pixel values in the 0 to 1 range"
   ]
  },
  {
   "cell_type": "code",
   "execution_count": 10,
   "metadata": {
    "execution": {
     "iopub.execute_input": "2020-09-22T10:04:55.864141Z",
     "iopub.status.busy": "2020-09-22T10:04:55.863508Z",
     "iopub.status.idle": "2020-09-22T10:04:55.920185Z",
     "shell.execute_reply": "2020-09-22T10:04:55.919675Z"
    },
    "papermill": {
     "duration": 0.09208,
     "end_time": "2020-09-22T10:04:55.920356",
     "exception": false,
     "start_time": "2020-09-22T10:04:55.828276",
     "status": "completed"
    },
    "tags": []
   },
   "outputs": [],
   "source": [
    "X_train = X_train/255.\n",
    "X_test = X_test/255."
   ]
  },
  {
   "cell_type": "markdown",
   "metadata": {
    "papermill": {
     "duration": 0.031833,
     "end_time": "2020-09-22T10:04:55.983268",
     "exception": false,
     "start_time": "2020-09-22T10:04:55.951435",
     "status": "completed"
    },
    "tags": []
   },
   "source": [
    "Setup the labels as 1 (when the digit is 3) and 0 (when the digit is 8)"
   ]
  },
  {
   "cell_type": "code",
   "execution_count": 11,
   "metadata": {
    "execution": {
     "iopub.execute_input": "2020-09-22T10:04:56.050917Z",
     "iopub.status.busy": "2020-09-22T10:04:56.050237Z",
     "iopub.status.idle": "2020-09-22T10:04:56.062037Z",
     "shell.execute_reply": "2020-09-22T10:04:56.062568Z"
    },
    "papermill": {
     "duration": 0.048743,
     "end_time": "2020-09-22T10:04:56.062762",
     "exception": false,
     "start_time": "2020-09-22T10:04:56.014019",
     "status": "completed"
    },
    "tags": []
   },
   "outputs": [],
   "source": [
    "y_train = 1*(y_train==3)\n",
    "y_test = 1*(y_test==3)"
   ]
  },
  {
   "cell_type": "code",
   "execution_count": 12,
   "metadata": {
    "execution": {
     "iopub.execute_input": "2020-09-22T10:04:56.129998Z",
     "iopub.status.busy": "2020-09-22T10:04:56.129359Z",
     "iopub.status.idle": "2020-09-22T10:04:56.142935Z",
     "shell.execute_reply": "2020-09-22T10:04:56.142379Z"
    },
    "papermill": {
     "duration": 0.049045,
     "end_time": "2020-09-22T10:04:56.143077",
     "exception": false,
     "start_time": "2020-09-22T10:04:56.094032",
     "status": "completed"
    },
    "tags": []
   },
   "outputs": [
    {
     "data": {
      "text/plain": [
       "((11982, 28, 28), (1984, 28, 28))"
      ]
     },
     "execution_count": 12,
     "metadata": {},
     "output_type": "execute_result"
    }
   ],
   "source": [
    "X_train.shape, X_test.shape"
   ]
  },
  {
   "cell_type": "markdown",
   "metadata": {
    "papermill": {
     "duration": 0.033084,
     "end_time": "2020-09-22T10:04:56.207931",
     "exception": false,
     "start_time": "2020-09-22T10:04:56.174847",
     "status": "completed"
    },
    "tags": []
   },
   "source": [
    "### Reshape the input data to create a linear array"
   ]
  },
  {
   "cell_type": "code",
   "execution_count": 13,
   "metadata": {
    "execution": {
     "iopub.execute_input": "2020-09-22T10:04:56.278023Z",
     "iopub.status.busy": "2020-09-22T10:04:56.277377Z",
     "iopub.status.idle": "2020-09-22T10:04:56.290308Z",
     "shell.execute_reply": "2020-09-22T10:04:56.290997Z"
    },
    "papermill": {
     "duration": 0.050757,
     "end_time": "2020-09-22T10:04:56.291158",
     "exception": false,
     "start_time": "2020-09-22T10:04:56.240401",
     "status": "completed"
    },
    "tags": []
   },
   "outputs": [
    {
     "data": {
      "text/plain": [
       "((11982, 784), (1984, 784))"
      ]
     },
     "execution_count": 13,
     "metadata": {},
     "output_type": "execute_result"
    }
   ],
   "source": [
    "X_train = X_train.reshape(X_train.shape[0], -1)\n",
    "X_test = X_test.reshape(X_test.shape[0], -1)\n",
    "X_train.shape, X_test.shape"
   ]
  },
  {
   "cell_type": "markdown",
   "metadata": {
    "papermill": {
     "duration": 0.033153,
     "end_time": "2020-09-22T10:04:56.715098",
     "exception": false,
     "start_time": "2020-09-22T10:04:56.681945",
     "status": "completed"
    },
    "tags": []
   },
   "source": [
    "### Importing appropriate functions from 'Kudzu'"
   ]
  },
  {
   "cell_type": "code",
   "execution_count": 14,
   "metadata": {
    "execution": {
     "iopub.execute_input": "2020-09-22T10:04:56.784637Z",
     "iopub.status.busy": "2020-09-22T10:04:56.783979Z",
     "iopub.status.idle": "2020-09-22T10:04:56.804554Z",
     "shell.execute_reply": "2020-09-22T10:04:56.803870Z"
    },
    "papermill": {
     "duration": 0.057632,
     "end_time": "2020-09-22T10:04:56.804705",
     "exception": false,
     "start_time": "2020-09-22T10:04:56.747073",
     "status": "completed"
    },
    "tags": []
   },
   "outputs": [],
   "source": [
    "from kudzu.layer import Sigmoid\n",
    "from kudzu.layer import Relu\n",
    "from kudzu.layer import Affine, Sigmoid\n",
    "\n",
    "from kudzu.model import Model\n",
    "from kudzu.train import Learner\n",
    "from kudzu.optim import GD\n",
    "from kudzu.data import Data, Dataloader, Sampler\n",
    "\n",
    "from kudzu.callbacks import AccCallback\n",
    "from kudzu.callbacks import ClfCallback\n",
    "\n",
    "from kudzu.loss import MSE"
   ]
  },
  {
   "cell_type": "markdown",
   "metadata": {
    "papermill": {
     "duration": 0.033053,
     "end_time": "2020-09-22T10:04:56.875300",
     "exception": false,
     "start_time": "2020-09-22T10:04:56.842247",
     "status": "completed"
    },
    "tags": []
   },
   "source": [
    "### Let us create a `Config` class, to store important parameters. \n",
    "This class essentially plays the role of a dictionary."
   ]
  },
  {
   "cell_type": "code",
   "execution_count": 15,
   "metadata": {
    "execution": {
     "iopub.execute_input": "2020-09-22T10:04:56.947331Z",
     "iopub.status.busy": "2020-09-22T10:04:56.946011Z",
     "iopub.status.idle": "2020-09-22T10:04:56.991338Z",
     "shell.execute_reply": "2020-09-22T10:04:56.992204Z"
    },
    "papermill": {
     "duration": 0.084317,
     "end_time": "2020-09-22T10:04:56.992383",
     "exception": false,
     "start_time": "2020-09-22T10:04:56.908066",
     "status": "completed"
    },
    "tags": []
   },
   "outputs": [],
   "source": [
    "class Config:\n",
    "    pass\n",
    "config = Config()\n",
    "config.lr = 0.001\n",
    "config.num_epochs = 251\n",
    "config.bs = 50"
   ]
  },
  {
   "cell_type": "markdown",
   "metadata": {
    "papermill": {
     "duration": 0.034425,
     "end_time": "2020-09-22T10:04:57.059184",
     "exception": false,
     "start_time": "2020-09-22T10:04:57.024759",
     "status": "completed"
    },
    "tags": []
   },
   "source": [
    "### Initializing data to the variables"
   ]
  },
  {
   "cell_type": "code",
   "execution_count": 16,
   "metadata": {
    "execution": {
     "iopub.execute_input": "2020-09-22T10:04:57.128735Z",
     "iopub.status.busy": "2020-09-22T10:04:57.128098Z",
     "iopub.status.idle": "2020-09-22T10:04:57.141817Z",
     "shell.execute_reply": "2020-09-22T10:04:57.141276Z"
    },
    "papermill": {
     "duration": 0.050173,
     "end_time": "2020-09-22T10:04:57.141963",
     "exception": false,
     "start_time": "2020-09-22T10:04:57.091790",
     "status": "completed"
    },
    "tags": []
   },
   "outputs": [],
   "source": [
    "data = Data(X_train, y_train.reshape(-1,1))\n",
    "sampler = Sampler(data, config.bs, shuffle=True)\n",
    "\n",
    "dl = Dataloader(data, sampler)\n",
    "\n",
    "opt = GD(config.lr)\n",
    "loss = MSE()"
   ]
  },
  {
   "cell_type": "code",
   "execution_count": 17,
   "metadata": {
    "execution": {
     "iopub.execute_input": "2020-09-22T10:04:57.221369Z",
     "iopub.status.busy": "2020-09-22T10:04:57.220727Z",
     "iopub.status.idle": "2020-09-22T10:04:57.232697Z",
     "shell.execute_reply": "2020-09-22T10:04:57.232137Z"
    },
    "papermill": {
     "duration": 0.049873,
     "end_time": "2020-09-22T10:04:57.232838",
     "exception": false,
     "start_time": "2020-09-22T10:04:57.182965",
     "status": "completed"
    },
    "tags": []
   },
   "outputs": [],
   "source": [
    "training_xdata = X_train\n",
    "testing_xdata = X_test\n",
    "training_ydata = y_train.reshape(-1,1)\n",
    "testing_ydata = y_test.reshape(-1,1)"
   ]
  },
  {
   "cell_type": "markdown",
   "metadata": {
    "papermill": {
     "duration": 0.032476,
     "end_time": "2020-09-22T10:04:57.297012",
     "exception": false,
     "start_time": "2020-09-22T10:04:57.264536",
     "status": "completed"
    },
    "tags": []
   },
   "source": [
    "### Running Models with the Training data\n",
    "Details about the network layers:\n",
    "- A first affine layer has 784 inputs and does 100 affine transforms. These are followed by a Relu\n",
    "- A second affine layer has 100 inputs from the 100 activations of the past layer, and does 100 affine transforms. These are followed by a Relu\n",
    "- A third affine layer has 100 activations and does 2 affine transformations to create an embedding for visualization. There is no non-linearity here.\n",
    "- A final \"logistic regression\" which has an affine transform from 2 inputs to 1 output, which is squeezed through a sigmoid.\n",
    "\n",
    "Help taken from Anshuman's Notebook."
   ]
  },
  {
   "cell_type": "code",
   "execution_count": 18,
   "metadata": {
    "execution": {
     "iopub.execute_input": "2020-09-22T10:04:57.371121Z",
     "iopub.status.busy": "2020-09-22T10:04:57.370334Z",
     "iopub.status.idle": "2020-09-22T10:04:57.387087Z",
     "shell.execute_reply": "2020-09-22T10:04:57.386479Z"
    },
    "papermill": {
     "duration": 0.057302,
     "end_time": "2020-09-22T10:04:57.387229",
     "exception": false,
     "start_time": "2020-09-22T10:04:57.329927",
     "status": "completed"
    },
    "tags": []
   },
   "outputs": [],
   "source": [
    "# layers for the Neural Network\n",
    "layers = [Affine(\"first\", 784, 100), Relu(\"first\"), Affine(\"second\", 100, 100), Relu(\"second\"), Affine(\"third\", 100, 2), Affine(\"final\", 2, 1), Sigmoid(\"final\")]\n",
    "model_nn = Model(layers)\n",
    "\n",
    "# layers for the Logistic Regression\n",
    "layers_lr = [Affine(\"logits\", 784, 1), Sigmoid(\"sigmoid\")]\n",
    "model_lr = Model(layers_lr)"
   ]
  },
  {
   "cell_type": "code",
   "execution_count": 19,
   "metadata": {
    "execution": {
     "iopub.execute_input": "2020-09-22T10:04:57.463577Z",
     "iopub.status.busy": "2020-09-22T10:04:57.462924Z",
     "iopub.status.idle": "2020-09-22T10:04:57.472514Z",
     "shell.execute_reply": "2020-09-22T10:04:57.471985Z"
    },
    "papermill": {
     "duration": 0.051933,
     "end_time": "2020-09-22T10:04:57.472658",
     "exception": false,
     "start_time": "2020-09-22T10:04:57.420725",
     "status": "completed"
    },
    "tags": []
   },
   "outputs": [],
   "source": [
    "# suffix _nn stands for Neural Network.\n",
    "learner_nn = Learner(loss, model_nn, opt, config.num_epochs)\n",
    "acc_nn = ClfCallback(learner_nn, config.bs, training_xdata , testing_xdata, training_ydata, testing_ydata)\n",
    "learner_nn.set_callbacks([acc_nn])"
   ]
  },
  {
   "cell_type": "code",
   "execution_count": 20,
   "metadata": {
    "execution": {
     "iopub.execute_input": "2020-09-22T10:04:57.543500Z",
     "iopub.status.busy": "2020-09-22T10:04:57.542841Z",
     "iopub.status.idle": "2020-09-22T10:07:01.807335Z",
     "shell.execute_reply": "2020-09-22T10:07:01.808189Z"
    },
    "papermill": {
     "duration": 124.303984,
     "end_time": "2020-09-22T10:07:01.808356",
     "exception": false,
     "start_time": "2020-09-22T10:04:57.504372",
     "status": "completed"
    },
    "tags": []
   },
   "outputs": [
    {
     "name": "stdout",
     "output_type": "stream",
     "text": [
      "====== Neural Network ======\n"
     ]
    },
    {
     "name": "stdout",
     "output_type": "stream",
     "text": [
      "Epoch 0, Loss 0.1888\n",
      "Training Accuracy: 0.8428, Testing Accuracy: 0.8498\n",
      "\n"
     ]
    },
    {
     "name": "stdout",
     "output_type": "stream",
     "text": [
      "Epoch 10, Loss 0.0552\n",
      "Training Accuracy: 0.9422, Testing Accuracy: 0.9526\n",
      "\n"
     ]
    },
    {
     "name": "stdout",
     "output_type": "stream",
     "text": [
      "Epoch 20, Loss 0.0407\n",
      "Training Accuracy: 0.9543, Testing Accuracy: 0.9627\n",
      "\n"
     ]
    },
    {
     "name": "stdout",
     "output_type": "stream",
     "text": [
      "Epoch 30, Loss 0.0348\n",
      "Training Accuracy: 0.9601, Testing Accuracy: 0.9657\n",
      "\n"
     ]
    },
    {
     "name": "stdout",
     "output_type": "stream",
     "text": [
      "Epoch 40, Loss 0.0313\n",
      "Training Accuracy: 0.9634, Testing Accuracy: 0.9693\n",
      "\n"
     ]
    },
    {
     "name": "stdout",
     "output_type": "stream",
     "text": [
      "Epoch 50, Loss 0.0289\n",
      "Training Accuracy: 0.9664, Testing Accuracy: 0.9708\n",
      "\n"
     ]
    },
    {
     "name": "stdout",
     "output_type": "stream",
     "text": [
      "Epoch 60, Loss 0.0271\n",
      "Training Accuracy: 0.9694, Testing Accuracy: 0.9718\n",
      "\n"
     ]
    },
    {
     "name": "stdout",
     "output_type": "stream",
     "text": [
      "Epoch 70, Loss 0.0256\n",
      "Training Accuracy: 0.9710, Testing Accuracy: 0.9713\n",
      "\n"
     ]
    },
    {
     "name": "stdout",
     "output_type": "stream",
     "text": [
      "Epoch 80, Loss 0.0244\n",
      "Training Accuracy: 0.9723, Testing Accuracy: 0.9723\n",
      "\n"
     ]
    },
    {
     "name": "stdout",
     "output_type": "stream",
     "text": [
      "Epoch 90, Loss 0.0233\n",
      "Training Accuracy: 0.9734, Testing Accuracy: 0.9738\n",
      "\n"
     ]
    },
    {
     "name": "stdout",
     "output_type": "stream",
     "text": [
      "Epoch 100, Loss 0.0224\n",
      "Training Accuracy: 0.9746, Testing Accuracy: 0.9743\n",
      "\n"
     ]
    },
    {
     "name": "stdout",
     "output_type": "stream",
     "text": [
      "Epoch 110, Loss 0.0216\n",
      "Training Accuracy: 0.9758, Testing Accuracy: 0.9743\n",
      "\n"
     ]
    },
    {
     "name": "stdout",
     "output_type": "stream",
     "text": [
      "Epoch 120, Loss 0.0208\n",
      "Training Accuracy: 0.9767, Testing Accuracy: 0.9743\n",
      "\n"
     ]
    },
    {
     "name": "stdout",
     "output_type": "stream",
     "text": [
      "Epoch 130, Loss 0.0201\n",
      "Training Accuracy: 0.9777, Testing Accuracy: 0.9748\n",
      "\n"
     ]
    },
    {
     "name": "stdout",
     "output_type": "stream",
     "text": [
      "Epoch 140, Loss 0.0195\n",
      "Training Accuracy: 0.9787, Testing Accuracy: 0.9753\n",
      "\n"
     ]
    },
    {
     "name": "stdout",
     "output_type": "stream",
     "text": [
      "Epoch 150, Loss 0.0189\n",
      "Training Accuracy: 0.9793, Testing Accuracy: 0.9748\n",
      "\n"
     ]
    },
    {
     "name": "stdout",
     "output_type": "stream",
     "text": [
      "Epoch 160, Loss 0.0183\n",
      "Training Accuracy: 0.9797, Testing Accuracy: 0.9758\n",
      "\n"
     ]
    },
    {
     "name": "stdout",
     "output_type": "stream",
     "text": [
      "Epoch 170, Loss 0.0178\n",
      "Training Accuracy: 0.9807, Testing Accuracy: 0.9768\n",
      "\n"
     ]
    },
    {
     "name": "stdout",
     "output_type": "stream",
     "text": [
      "Epoch 180, Loss 0.0173\n",
      "Training Accuracy: 0.9815, Testing Accuracy: 0.9763\n",
      "\n"
     ]
    },
    {
     "name": "stdout",
     "output_type": "stream",
     "text": [
      "Epoch 190, Loss 0.0168\n",
      "Training Accuracy: 0.9817, Testing Accuracy: 0.9768\n",
      "\n"
     ]
    },
    {
     "name": "stdout",
     "output_type": "stream",
     "text": [
      "Epoch 200, Loss 0.0164\n",
      "Training Accuracy: 0.9830, Testing Accuracy: 0.9768\n",
      "\n"
     ]
    },
    {
     "name": "stdout",
     "output_type": "stream",
     "text": [
      "Epoch 210, Loss 0.0159\n",
      "Training Accuracy: 0.9835, Testing Accuracy: 0.9778\n",
      "\n"
     ]
    },
    {
     "name": "stdout",
     "output_type": "stream",
     "text": [
      "Epoch 220, Loss 0.0155\n",
      "Training Accuracy: 0.9839, Testing Accuracy: 0.9788\n",
      "\n"
     ]
    },
    {
     "name": "stdout",
     "output_type": "stream",
     "text": [
      "Epoch 230, Loss 0.0151\n",
      "Training Accuracy: 0.9845, Testing Accuracy: 0.9793\n",
      "\n"
     ]
    },
    {
     "name": "stdout",
     "output_type": "stream",
     "text": [
      "Epoch 240, Loss 0.0147\n",
      "Training Accuracy: 0.9848, Testing Accuracy: 0.9808\n",
      "\n"
     ]
    },
    {
     "name": "stdout",
     "output_type": "stream",
     "text": [
      "Epoch 250, Loss 0.0144\n",
      "Training Accuracy: 0.9852, Testing Accuracy: 0.9808\n",
      "\n"
     ]
    },
    {
     "data": {
      "text/plain": [
       "0.008498844196191783"
      ]
     },
     "execution_count": 20,
     "metadata": {},
     "output_type": "execute_result"
    }
   ],
   "source": [
    "print(\"====== Neural Network ======\")\n",
    "learner_nn.train_loop(dl)"
   ]
  },
  {
   "cell_type": "markdown",
   "metadata": {
    "papermill": {
     "duration": 0.042092,
     "end_time": "2020-09-22T10:07:01.894885",
     "exception": false,
     "start_time": "2020-09-22T10:07:01.852793",
     "status": "completed"
    },
    "tags": []
   },
   "source": [
    "### Logistic Regression based Implementation."
   ]
  },
  {
   "cell_type": "code",
   "execution_count": 21,
   "metadata": {
    "execution": {
     "iopub.execute_input": "2020-09-22T10:07:01.991015Z",
     "iopub.status.busy": "2020-09-22T10:07:01.990333Z",
     "iopub.status.idle": "2020-09-22T10:07:01.993758Z",
     "shell.execute_reply": "2020-09-22T10:07:01.994581Z"
    },
    "papermill": {
     "duration": 0.059039,
     "end_time": "2020-09-22T10:07:01.994765",
     "exception": false,
     "start_time": "2020-09-22T10:07:01.935726",
     "status": "completed"
    },
    "tags": []
   },
   "outputs": [],
   "source": [
    "learner_lr = Learner(loss, model_lr, opt, config.num_epochs)\n",
    "acc_lr = ClfCallback(learner_lr, config.bs, training_xdata , testing_xdata, training_ydata, testing_ydata)\n",
    "learner_lr.set_callbacks([acc_lr])"
   ]
  },
  {
   "cell_type": "code",
   "execution_count": 22,
   "metadata": {
    "execution": {
     "iopub.execute_input": "2020-09-22T10:07:02.088371Z",
     "iopub.status.busy": "2020-09-22T10:07:02.087737Z",
     "iopub.status.idle": "2020-09-22T10:07:20.513021Z",
     "shell.execute_reply": "2020-09-22T10:07:20.513818Z"
    },
    "papermill": {
     "duration": 18.477437,
     "end_time": "2020-09-22T10:07:20.513966",
     "exception": false,
     "start_time": "2020-09-22T10:07:02.036529",
     "status": "completed"
    },
    "tags": []
   },
   "outputs": [
    {
     "name": "stdout",
     "output_type": "stream",
     "text": [
      "====== Logistic Regression ======\n",
      "Epoch 0, Loss 0.2671\n",
      "Training Accuracy: 0.5780, Testing Accuracy: 0.6018\n",
      "\n"
     ]
    },
    {
     "name": "stdout",
     "output_type": "stream",
     "text": [
      "Epoch 10, Loss 0.1063\n",
      "Training Accuracy: 0.9061, Testing Accuracy: 0.9204\n",
      "\n"
     ]
    },
    {
     "name": "stdout",
     "output_type": "stream",
     "text": [
      "Epoch 20, Loss 0.0809\n",
      "Training Accuracy: 0.9252, Testing Accuracy: 0.9330\n",
      "\n"
     ]
    },
    {
     "name": "stdout",
     "output_type": "stream",
     "text": [
      "Epoch 30, Loss 0.0694\n",
      "Training Accuracy: 0.9350, Testing Accuracy: 0.9451\n",
      "\n"
     ]
    },
    {
     "name": "stdout",
     "output_type": "stream",
     "text": [
      "Epoch 40, Loss 0.0625\n",
      "Training Accuracy: 0.9400, Testing Accuracy: 0.9501\n",
      "\n"
     ]
    },
    {
     "name": "stdout",
     "output_type": "stream",
     "text": [
      "Epoch 50, Loss 0.0578\n",
      "Training Accuracy: 0.9429, Testing Accuracy: 0.9556\n",
      "\n"
     ]
    },
    {
     "name": "stdout",
     "output_type": "stream",
     "text": [
      "Epoch 60, Loss 0.0544\n",
      "Training Accuracy: 0.9455, Testing Accuracy: 0.9587\n",
      "\n"
     ]
    },
    {
     "name": "stdout",
     "output_type": "stream",
     "text": [
      "Epoch 70, Loss 0.0517\n",
      "Training Accuracy: 0.9473, Testing Accuracy: 0.9602\n",
      "\n"
     ]
    },
    {
     "name": "stdout",
     "output_type": "stream",
     "text": [
      "Epoch 80, Loss 0.0496\n",
      "Training Accuracy: 0.9489, Testing Accuracy: 0.9612\n",
      "\n"
     ]
    },
    {
     "name": "stdout",
     "output_type": "stream",
     "text": [
      "Epoch 90, Loss 0.0479\n",
      "Training Accuracy: 0.9508, Testing Accuracy: 0.9642\n",
      "\n"
     ]
    },
    {
     "name": "stdout",
     "output_type": "stream",
     "text": [
      "Epoch 100, Loss 0.0464\n",
      "Training Accuracy: 0.9520, Testing Accuracy: 0.9642\n",
      "\n"
     ]
    },
    {
     "name": "stdout",
     "output_type": "stream",
     "text": [
      "Epoch 110, Loss 0.0451\n",
      "Training Accuracy: 0.9530, Testing Accuracy: 0.9642\n",
      "\n"
     ]
    },
    {
     "name": "stdout",
     "output_type": "stream",
     "text": [
      "Epoch 120, Loss 0.0441\n",
      "Training Accuracy: 0.9541, Testing Accuracy: 0.9642\n",
      "\n"
     ]
    },
    {
     "name": "stdout",
     "output_type": "stream",
     "text": [
      "Epoch 130, Loss 0.0431\n",
      "Training Accuracy: 0.9551, Testing Accuracy: 0.9637\n",
      "\n"
     ]
    },
    {
     "name": "stdout",
     "output_type": "stream",
     "text": [
      "Epoch 140, Loss 0.0422\n",
      "Training Accuracy: 0.9558, Testing Accuracy: 0.9647\n",
      "\n"
     ]
    },
    {
     "name": "stdout",
     "output_type": "stream",
     "text": [
      "Epoch 150, Loss 0.0415\n",
      "Training Accuracy: 0.9564, Testing Accuracy: 0.9652\n",
      "\n"
     ]
    },
    {
     "name": "stdout",
     "output_type": "stream",
     "text": [
      "Epoch 160, Loss 0.0408\n",
      "Training Accuracy: 0.9569, Testing Accuracy: 0.9667\n",
      "\n"
     ]
    },
    {
     "name": "stdout",
     "output_type": "stream",
     "text": [
      "Epoch 170, Loss 0.0402\n",
      "Training Accuracy: 0.9574, Testing Accuracy: 0.9667\n",
      "\n"
     ]
    },
    {
     "name": "stdout",
     "output_type": "stream",
     "text": [
      "Epoch 180, Loss 0.0396\n",
      "Training Accuracy: 0.9583, Testing Accuracy: 0.9667\n",
      "\n"
     ]
    },
    {
     "name": "stdout",
     "output_type": "stream",
     "text": [
      "Epoch 190, Loss 0.0391\n",
      "Training Accuracy: 0.9585, Testing Accuracy: 0.9662\n",
      "\n"
     ]
    },
    {
     "name": "stdout",
     "output_type": "stream",
     "text": [
      "Epoch 200, Loss 0.0386\n",
      "Training Accuracy: 0.9590, Testing Accuracy: 0.9662\n",
      "\n"
     ]
    },
    {
     "name": "stdout",
     "output_type": "stream",
     "text": [
      "Epoch 210, Loss 0.0381\n",
      "Training Accuracy: 0.9594, Testing Accuracy: 0.9662\n",
      "\n"
     ]
    },
    {
     "name": "stdout",
     "output_type": "stream",
     "text": [
      "Epoch 220, Loss 0.0377\n",
      "Training Accuracy: 0.9596, Testing Accuracy: 0.9662\n",
      "\n"
     ]
    },
    {
     "name": "stdout",
     "output_type": "stream",
     "text": [
      "Epoch 230, Loss 0.0373\n",
      "Training Accuracy: 0.9602, Testing Accuracy: 0.9677\n",
      "\n"
     ]
    },
    {
     "name": "stdout",
     "output_type": "stream",
     "text": [
      "Epoch 240, Loss 0.037\n",
      "Training Accuracy: 0.9604, Testing Accuracy: 0.9682\n",
      "\n"
     ]
    },
    {
     "name": "stdout",
     "output_type": "stream",
     "text": [
      "Epoch 250, Loss 0.0366\n",
      "Training Accuracy: 0.9607, Testing Accuracy: 0.9682\n",
      "\n"
     ]
    },
    {
     "data": {
      "text/plain": [
       "0.03243974106115209"
      ]
     },
     "execution_count": 22,
     "metadata": {},
     "output_type": "execute_result"
    }
   ],
   "source": [
    "print(\"====== Logistic Regression ======\")\n",
    "learner_lr.train_loop(dl)"
   ]
  },
  {
   "cell_type": "markdown",
   "metadata": {
    "papermill": {
     "duration": 0.045048,
     "end_time": "2020-09-22T10:07:20.605503",
     "exception": false,
     "start_time": "2020-09-22T10:07:20.560455",
     "status": "completed"
    },
    "tags": []
   },
   "source": [
    "### Comparing results of NN and LR"
   ]
  },
  {
   "cell_type": "code",
   "execution_count": 23,
   "metadata": {
    "execution": {
     "iopub.execute_input": "2020-09-22T10:07:20.720572Z",
     "iopub.status.busy": "2020-09-22T10:07:20.719905Z",
     "iopub.status.idle": "2020-09-22T10:07:21.006824Z",
     "shell.execute_reply": "2020-09-22T10:07:21.007466Z"
    },
    "papermill": {
     "duration": 0.347529,
     "end_time": "2020-09-22T10:07:21.007632",
     "exception": false,
     "start_time": "2020-09-22T10:07:20.660103",
     "status": "completed"
    },
    "tags": []
   },
   "outputs": [
    {
     "data": {
      "text/plain": [
       "<matplotlib.legend.Legend at 0x7fa494a61278>"
      ]
     },
     "execution_count": 23,
     "metadata": {},
     "output_type": "execute_result"
    },
    {
     "data": {
      "image/png": "[encoded data removed]",
      "text/plain": [
       "<Figure size 1080x720 with 1 Axes>"
      ]
     },
     "metadata": {
      "needs_background": "light"
     },
     "output_type": "display_data"
    }
   ],
   "source": [
    "plt.figure(figsize=(15,10))\n",
    "\n",
    "# Neural Network plots\n",
    "plt.plot(acc_nn.accuracies, 'r-', label = \"Training Accuracies - NN\")\n",
    "plt.plot(acc_nn.test_accuracies, 'g-', label = \"Testing Accuracies - NN\")\n",
    "\n",
    "# Logistic Regression plots\n",
    "plt.plot(acc_lr.accuracies, 'k-', label = \"Training Accuracies - LR\")\n",
    "plt.plot(acc_lr.test_accuracies, 'b-', label = \"Testing Accuracies - LR\")\n",
    "\n",
    "plt.ylim(0.8, 1)\n",
    "\n",
    "plt.legend()\n",
    "\n"
   ]
  },
  {
   "cell_type": "markdown",
   "metadata": {
    "papermill": {
     "duration": 0.050422,
     "end_time": "2020-09-22T10:07:21.116616",
     "exception": false,
     "start_time": "2020-09-22T10:07:21.066194",
     "status": "completed"
    },
    "tags": []
   },
   "source": [
    "### From the plot, we can observe the following:\n",
    "- Neural Network achieves higher accuracy than the Logistic Regression model.\n",
    "- This apparently, is because of overfitting, i.e. NN captures more noise than data.\n",
    "- Testing accuracy of NN drops below the Training accuracy at higher epochs. This explains the over-fitting on training data.\n",
    "- Logistic Regression gives a reliable accuracy, without the above mentioned problem.\n"
   ]
  },
  {
   "cell_type": "markdown",
   "metadata": {
    "papermill": {
     "duration": 0.051023,
     "end_time": "2020-09-22T10:07:21.214505",
     "exception": false,
     "start_time": "2020-09-22T10:07:21.163482",
     "status": "completed"
    },
    "tags": []
   },
   "source": [
    "### Moving till the last but one layer (excluding it).\n",
    "#### Plotting the outputs of this layer of the NN."
   ]
  },
  {
   "cell_type": "code",
   "execution_count": 24,
   "metadata": {
    "execution": {
     "iopub.execute_input": "2020-09-22T10:07:21.329407Z",
     "iopub.status.busy": "2020-09-22T10:07:21.328793Z",
     "iopub.status.idle": "2020-09-22T10:07:21.339861Z",
     "shell.execute_reply": "2020-09-22T10:07:21.340334Z"
    },
    "papermill": {
     "duration": 0.067007,
     "end_time": "2020-09-22T10:07:21.340485",
     "exception": false,
     "start_time": "2020-09-22T10:07:21.273478",
     "status": "completed"
    },
    "tags": []
   },
   "outputs": [],
   "source": [
    "model_new = Model(layers[:-2])"
   ]
  },
  {
   "cell_type": "code",
   "execution_count": 25,
   "metadata": {
    "execution": {
     "iopub.execute_input": "2020-09-22T10:07:21.441945Z",
     "iopub.status.busy": "2020-09-22T10:07:21.441296Z",
     "iopub.status.idle": "2020-09-22T10:07:21.465507Z",
     "shell.execute_reply": "2020-09-22T10:07:21.470445Z"
    },
    "papermill": {
     "duration": 0.082721,
     "end_time": "2020-09-22T10:07:21.470601",
     "exception": false,
     "start_time": "2020-09-22T10:07:21.387880",
     "status": "completed"
    },
    "tags": []
   },
   "outputs": [],
   "source": [
    "plot_testing = model_new(testing_xdata)"
   ]
  },
  {
   "cell_type": "code",
   "execution_count": 26,
   "metadata": {
    "execution": {
     "iopub.execute_input": "2020-09-22T10:07:21.624445Z",
     "iopub.status.busy": "2020-09-22T10:07:21.620885Z",
     "iopub.status.idle": "2020-09-22T10:07:21.840548Z",
     "shell.execute_reply": "2020-09-22T10:07:21.841018Z"
    },
    "papermill": {
     "duration": 0.277794,
     "end_time": "2020-09-22T10:07:21.841168",
     "exception": false,
     "start_time": "2020-09-22T10:07:21.563374",
     "status": "completed"
    },
    "tags": []
   },
   "outputs": [
    {
     "data": {
      "text/plain": [
       "Text(0.5, 1.0, 'Outputs')"
      ]
     },
     "execution_count": 26,
     "metadata": {},
     "output_type": "execute_result"
    },
    {
     "data": {
      "image/png": "[encoded data removed]",
      "text/plain": [
       "<Figure size 576x504 with 1 Axes>"
      ]
     },
     "metadata": {
      "needs_background": "light"
     },
     "output_type": "display_data"
    }
   ],
   "source": [
    "plt.figure(figsize=(8,7))\n",
    "plt.scatter(plot_testing[:,0], plot_testing[:,1], alpha = 0.1, c = y_test.ravel());\n",
    "plt.title('Outputs')"
   ]
  },
  {
   "cell_type": "markdown",
   "metadata": {
    "papermill": {
     "duration": 0.052939,
     "end_time": "2020-09-22T10:07:21.947690",
     "exception": false,
     "start_time": "2020-09-22T10:07:21.894751",
     "status": "completed"
    },
    "tags": []
   },
   "source": [
    "### Plotting probability contours"
   ]
  },
  {
   "cell_type": "code",
   "execution_count": 27,
   "metadata": {
    "execution": {
     "iopub.execute_input": "2020-09-22T10:07:22.074895Z",
     "iopub.status.busy": "2020-09-22T10:07:22.074220Z",
     "iopub.status.idle": "2020-09-22T10:07:22.086762Z",
     "shell.execute_reply": "2020-09-22T10:07:22.087401Z"
    },
    "papermill": {
     "duration": 0.07944,
     "end_time": "2020-09-22T10:07:22.087564",
     "exception": false,
     "start_time": "2020-09-22T10:07:22.008124",
     "status": "completed"
    },
    "tags": []
   },
   "outputs": [],
   "source": [
    "model_prob = Model(layers[-2:]) "
   ]
  },
  {
   "cell_type": "code",
   "execution_count": 28,
   "metadata": {
    "execution": {
     "iopub.execute_input": "2020-09-22T10:07:22.204163Z",
     "iopub.status.busy": "2020-09-22T10:07:22.203515Z",
     "iopub.status.idle": "2020-09-22T10:07:22.216297Z",
     "shell.execute_reply": "2020-09-22T10:07:22.216765Z"
    },
    "papermill": {
     "duration": 0.072466,
     "end_time": "2020-09-22T10:07:22.216909",
     "exception": false,
     "start_time": "2020-09-22T10:07:22.144443",
     "status": "completed"
    },
    "tags": []
   },
   "outputs": [],
   "source": [
    "# Adjust the x and y ranges according to the above generated plot.\n",
    "x_range = np.linspace(-4, 1, 100) \n",
    "y_range = np.linspace(-6, 6, 100) \n",
    "x_grid, y_grid = np.meshgrid(x_range, y_range) # x_grid and y_grig are of size 100 X 100\n",
    "\n",
    "# converting x_grid and y_grid to continuous arrays\n",
    "x_grid_flat = np.ravel(x_grid)\n",
    "y_grid_flat = np.ravel(y_grid)\n",
    "\n",
    "# The last layer of the current model takes two columns as input. Hence transpose of np.vstack() is required.\n",
    "X = np.vstack((x_grid_flat, y_grid_flat)).T\n",
    "\n",
    "# x_grid and y_grid are of size 100 x 100\n",
    "probability_contour = model_prob(X).reshape(100,100) "
   ]
  },
  {
   "cell_type": "code",
   "execution_count": 29,
   "metadata": {
    "execution": {
     "iopub.execute_input": "2020-09-22T10:07:22.355268Z",
     "iopub.status.busy": "2020-09-22T10:07:22.335227Z",
     "iopub.status.idle": "2020-09-22T10:07:22.576988Z",
     "shell.execute_reply": "2020-09-22T10:07:22.577459Z"
    },
    "papermill": {
     "duration": 0.308946,
     "end_time": "2020-09-22T10:07:22.577607",
     "exception": false,
     "start_time": "2020-09-22T10:07:22.268661",
     "status": "completed"
    },
    "tags": []
   },
   "outputs": [
    {
     "data": {
      "image/png": "[encoded data removed]",
      "text/plain": [
       "<Figure size 720x648 with 1 Axes>"
      ]
     },
     "metadata": {
      "needs_background": "light"
     },
     "output_type": "display_data"
    }
   ],
   "source": [
    "plt.figure(figsize=(10,9))\n",
    "plt.scatter(plot_testing[:,0], plot_testing[:,1], alpha = 0.1, c = y_test.ravel())\n",
    "contours = plt.contour(x_grid,y_grid,probability_contour)\n",
    "plt.title('Probability Contours')\n",
    "plt.clabel(contours, inline = True );"
   ]
  }
 ],
 "metadata": {
  "kernelspec": {
   "display_name": "Python 3",
   "language": "python",
   "name": "python3"
  },
  "language_info": {
   "codemirror_mode": {
    "name": "ipython",
    "version": 3
   },
   "file_extension": ".py",
   "mimetype": "text/x-python",
   "name": "python",
   "nbconvert_exporter": "python",
   "pygments_lexer": "ipython3",
   "version": "3.6.12"
  },
  "papermill": {
   "duration": 154.261977,
   "end_time": "2020-09-22T10:07:23.033826",
   "environment_variables": {},
   "exception": null,
   "input_path": "2020-08-11-NeuralNetwork.ipynb",
   "output_path": "2020-08-11-NeuralNetwork.ipynb",
   "parameters": {},
   "start_time": "2020-09-22T10:04:48.771849",
   "version": "2.1.2"
  }
 },
 "nbformat": 4,
 "nbformat_minor": 4
}