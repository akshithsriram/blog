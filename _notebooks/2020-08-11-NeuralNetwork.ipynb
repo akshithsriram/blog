{
 "cells": [
  {
   "cell_type": "markdown",
   "metadata": {
    "papermill": {
     "duration": 0.029014,
     "end_time": "2020-10-26T20:05:03.516490",
     "exception": false,
     "start_time": "2020-10-26T20:05:03.487476",
     "status": "completed"
    },
    "tags": []
   },
   "source": [
    "# \"A Basic Neural Network: Differentiate Hand-Written Digits\"\n",
    "\n",
    "- badges: true\n",
    "- author: Akshith Sriram"
   ]
  },
  {
   "cell_type": "markdown",
   "metadata": {
    "papermill": {
     "duration": 0.026398,
     "end_time": "2020-10-26T20:05:03.569335",
     "exception": false,
     "start_time": "2020-10-26T20:05:03.542937",
     "status": "completed"
    },
    "tags": []
   },
   "source": [
    "### Key Objectives:\n",
    "- Building a neural network that differentiates two hand-written digits 3 and 8.\n",
    "- Comparing the results of this Neural Network (NN) to that of a Logistic Regression (LR) model.\n",
    "\n",
    "### Requirements:\n",
    "- 'Kudzu' : A neural network library that was designed during our course by [Univ.AI](www.univ.ai). \n",
    "- MNIST Database\n",
    "\n",
    "If MNIST is not installed, use the command `!pip install mnist` given below.\n",
    "It can be run both from the command line and Jupyter Notebook."
   ]
  },
  {
   "cell_type": "code",
   "execution_count": 1,
   "metadata": {
    "execution": {
     "iopub.execute_input": "2020-10-26T20:05:03.624864Z",
     "iopub.status.busy": "2020-10-26T20:05:03.624273Z",
     "iopub.status.idle": "2020-10-26T20:05:05.041151Z",
     "shell.execute_reply": "2020-10-26T20:05:05.041639Z"
    },
    "papermill": {
     "duration": 1.447188,
     "end_time": "2020-10-26T20:05:05.041818",
     "exception": false,
     "start_time": "2020-10-26T20:05:03.594630",
     "status": "completed"
    },
    "tags": []
   },
   "outputs": [
    {
     "name": "stdout",
     "output_type": "stream",
     "text": [
      "Collecting mnist\r\n"
     ]
    },
    {
     "name": "stdout",
     "output_type": "stream",
     "text": [
      "  Downloading mnist-0.2.2-py2.py3-none-any.whl (3.5 kB)\r\n"
     ]
    },
    {
     "name": "stdout",
     "output_type": "stream",
     "text": [
      "Requirement already satisfied: numpy in /opt/hostedtoolcache/Python/3.6.12/x64/lib/python3.6/site-packages (from mnist) (1.19.2)\r\n"
     ]
    },
    {
     "name": "stdout",
     "output_type": "stream",
     "text": [
      "Installing collected packages: mnist\r\n"
     ]
    },
    {
     "name": "stdout",
     "output_type": "stream",
     "text": [
      "Successfully installed mnist-0.2.2\r\n"
     ]
    },
    {
     "name": "stdout",
     "output_type": "stream",
     "text": [
      "\u001b[33mWARNING: You are using pip version 20.2.3; however, version 20.2.4 is available.\r\n",
      "You should consider upgrading via the '/opt/hostedtoolcache/Python/3.6.12/x64/bin/python -m pip install --upgrade pip' command.\u001b[0m\r\n"
     ]
    }
   ],
   "source": [
    "!pip install mnist "
   ]
  },
  {
   "cell_type": "markdown",
   "metadata": {
    "papermill": {
     "duration": 0.025938,
     "end_time": "2020-10-26T20:05:05.094910",
     "exception": false,
     "start_time": "2020-10-26T20:05:05.068972",
     "status": "completed"
    },
    "tags": []
   },
   "source": [
    "#### Importing necessary libraries"
   ]
  },
  {
   "cell_type": "code",
   "execution_count": 2,
   "metadata": {
    "execution": {
     "iopub.execute_input": "2020-10-26T20:05:05.155025Z",
     "iopub.status.busy": "2020-10-26T20:05:05.154459Z",
     "iopub.status.idle": "2020-10-26T20:05:05.731492Z",
     "shell.execute_reply": "2020-10-26T20:05:05.730799Z"
    },
    "papermill": {
     "duration": 0.609232,
     "end_time": "2020-10-26T20:05:05.731625",
     "exception": false,
     "start_time": "2020-10-26T20:05:05.122393",
     "status": "completed"
    },
    "tags": []
   },
   "outputs": [],
   "source": [
    "%load_ext autoreload\n",
    "%autoreload 2\n",
    "\n",
    "%matplotlib inline\n",
    "import matplotlib.pyplot as plt\n",
    "\n",
    "import numpy as np\n",
    "import pandas as pd"
   ]
  },
  {
   "cell_type": "markdown",
   "metadata": {
    "papermill": {
     "duration": 0.028246,
     "end_time": "2020-10-26T20:05:05.790195",
     "exception": false,
     "start_time": "2020-10-26T20:05:05.761949",
     "status": "completed"
    },
    "tags": []
   },
   "source": [
    "### Preparing the Data"
   ]
  },
  {
   "cell_type": "code",
   "execution_count": 3,
   "metadata": {
    "execution": {
     "iopub.execute_input": "2020-10-26T20:05:05.863334Z",
     "iopub.status.busy": "2020-10-26T20:05:05.862695Z",
     "iopub.status.idle": "2020-10-26T20:05:05.871704Z",
     "shell.execute_reply": "2020-10-26T20:05:05.872353Z"
    },
    "papermill": {
     "duration": 0.048632,
     "end_time": "2020-10-26T20:05:05.872489",
     "exception": false,
     "start_time": "2020-10-26T20:05:05.823857",
     "status": "completed"
    },
    "tags": []
   },
   "outputs": [],
   "source": [
    "import mnist"
   ]
  },
  {
   "cell_type": "code",
   "execution_count": 4,
   "metadata": {
    "execution": {
     "iopub.execute_input": "2020-10-26T20:05:05.950559Z",
     "iopub.status.busy": "2020-10-26T20:05:05.946791Z",
     "iopub.status.idle": "2020-10-26T20:05:07.639132Z",
     "shell.execute_reply": "2020-10-26T20:05:07.638505Z"
    },
    "papermill": {
     "duration": 1.740247,
     "end_time": "2020-10-26T20:05:07.639270",
     "exception": false,
     "start_time": "2020-10-26T20:05:05.899023",
     "status": "completed"
    },
    "tags": []
   },
   "outputs": [],
   "source": [
    "train_images = mnist.train_images()\n",
    "train_labels = mnist.train_labels()"
   ]
  },
  {
   "cell_type": "code",
   "execution_count": 5,
   "metadata": {
    "execution": {
     "iopub.execute_input": "2020-10-26T20:05:07.704842Z",
     "iopub.status.busy": "2020-10-26T20:05:07.704258Z",
     "iopub.status.idle": "2020-10-26T20:05:07.721676Z",
     "shell.execute_reply": "2020-10-26T20:05:07.720445Z"
    },
    "papermill": {
     "duration": 0.053503,
     "end_time": "2020-10-26T20:05:07.721871",
     "exception": false,
     "start_time": "2020-10-26T20:05:07.668368",
     "status": "completed"
    },
    "tags": []
   },
   "outputs": [
    {
     "data": {
      "text/plain": [
       "((60000, 28, 28), (60000,))"
      ]
     },
     "execution_count": 5,
     "metadata": {},
     "output_type": "execute_result"
    }
   ],
   "source": [
    "train_images.shape, train_labels.shape"
   ]
  },
  {
   "cell_type": "code",
   "execution_count": 6,
   "metadata": {
    "execution": {
     "iopub.execute_input": "2020-10-26T20:05:07.789427Z",
     "iopub.status.busy": "2020-10-26T20:05:07.782642Z",
     "iopub.status.idle": "2020-10-26T20:05:08.682314Z",
     "shell.execute_reply": "2020-10-26T20:05:08.681405Z"
    },
    "papermill": {
     "duration": 0.931816,
     "end_time": "2020-10-26T20:05:08.682447",
     "exception": false,
     "start_time": "2020-10-26T20:05:07.750631",
     "status": "completed"
    },
    "tags": []
   },
   "outputs": [],
   "source": [
    "test_images = mnist.test_images()\n",
    "test_labels = mnist.test_labels()"
   ]
  },
  {
   "cell_type": "code",
   "execution_count": 7,
   "metadata": {
    "execution": {
     "iopub.execute_input": "2020-10-26T20:05:08.749104Z",
     "iopub.status.busy": "2020-10-26T20:05:08.743388Z",
     "iopub.status.idle": "2020-10-26T20:05:08.757343Z",
     "shell.execute_reply": "2020-10-26T20:05:08.756829Z"
    },
    "papermill": {
     "duration": 0.047744,
     "end_time": "2020-10-26T20:05:08.757473",
     "exception": false,
     "start_time": "2020-10-26T20:05:08.709729",
     "status": "completed"
    },
    "tags": []
   },
   "outputs": [
    {
     "data": {
      "text/plain": [
       "((10000, 28, 28), (10000,))"
      ]
     },
     "execution_count": 7,
     "metadata": {},
     "output_type": "execute_result"
    }
   ],
   "source": [
    "test_images.shape, test_labels.shape"
   ]
  },
  {
   "cell_type": "code",
   "execution_count": 8,
   "metadata": {
    "execution": {
     "iopub.execute_input": "2020-10-26T20:05:08.817814Z",
     "iopub.status.busy": "2020-10-26T20:05:08.817143Z",
     "iopub.status.idle": "2020-10-26T20:05:08.989363Z",
     "shell.execute_reply": "2020-10-26T20:05:08.988891Z"
    },
    "papermill": {
     "duration": 0.202828,
     "end_time": "2020-10-26T20:05:08.989493",
     "exception": false,
     "start_time": "2020-10-26T20:05:08.786665",
     "status": "completed"
    },
    "tags": []
   },
   "outputs": [
    {
     "name": "stdout",
     "output_type": "stream",
     "text": [
      "2\n"
     ]
    },
    {
     "data": {
      "text/plain": [
       "<matplotlib.image.AxesImage at 0x7fa0348b99b0>"
      ]
     },
     "execution_count": 8,
     "metadata": {},
     "output_type": "execute_result"
    },
    {
     "data": {
      "image/png": "[encoded data removed]",
      "text/plain": [
       "<Figure size 432x288 with 1 Axes>"
      ]
     },
     "metadata": {
      "needs_background": "light"
     },
     "output_type": "display_data"
    }
   ],
   "source": [
    "image_index = 7776 # You may select anything up to 60,000\n",
    "print(train_labels[image_index]) \n",
    "plt.imshow(train_images[image_index], cmap='Greys')"
   ]
  },
  {
   "cell_type": "markdown",
   "metadata": {
    "papermill": {
     "duration": 0.02818,
     "end_time": "2020-10-26T20:05:09.048617",
     "exception": false,
     "start_time": "2020-10-26T20:05:09.020437",
     "status": "completed"
    },
    "tags": []
   },
   "source": [
    "## Filter data to get 3 and 8 out"
   ]
  },
  {
   "cell_type": "code",
   "execution_count": 9,
   "metadata": {
    "execution": {
     "iopub.execute_input": "2020-10-26T20:05:09.129068Z",
     "iopub.status.busy": "2020-10-26T20:05:09.120720Z",
     "iopub.status.idle": "2020-10-26T20:05:09.134654Z",
     "shell.execute_reply": "2020-10-26T20:05:09.135171Z"
    },
    "papermill": {
     "duration": 0.057584,
     "end_time": "2020-10-26T20:05:09.135371",
     "exception": false,
     "start_time": "2020-10-26T20:05:09.077787",
     "status": "completed"
    },
    "tags": []
   },
   "outputs": [],
   "source": [
    "train_filter = np.where((train_labels == 3 ) | (train_labels == 8))\n",
    "test_filter = np.where((test_labels == 3) | (test_labels == 8))\n",
    "X_train, y_train = train_images[train_filter], train_labels[train_filter]\n",
    "X_test, y_test = test_images[test_filter], test_labels[test_filter]"
   ]
  },
  {
   "cell_type": "markdown",
   "metadata": {
    "papermill": {
     "duration": 0.030122,
     "end_time": "2020-10-26T20:05:09.195171",
     "exception": false,
     "start_time": "2020-10-26T20:05:09.165049",
     "status": "completed"
    },
    "tags": []
   },
   "source": [
    "We normalize the pixel values in the 0 to 1 range"
   ]
  },
  {
   "cell_type": "code",
   "execution_count": 10,
   "metadata": {
    "execution": {
     "iopub.execute_input": "2020-10-26T20:05:09.266110Z",
     "iopub.status.busy": "2020-10-26T20:05:09.265524Z",
     "iopub.status.idle": "2020-10-26T20:05:09.320591Z",
     "shell.execute_reply": "2020-10-26T20:05:09.320031Z"
    },
    "papermill": {
     "duration": 0.095332,
     "end_time": "2020-10-26T20:05:09.320776",
     "exception": false,
     "start_time": "2020-10-26T20:05:09.225444",
     "status": "completed"
    },
    "tags": []
   },
   "outputs": [],
   "source": [
    "X_train = X_train/255.\n",
    "X_test = X_test/255."
   ]
  },
  {
   "cell_type": "markdown",
   "metadata": {
    "papermill": {
     "duration": 0.031239,
     "end_time": "2020-10-26T20:05:09.381506",
     "exception": false,
     "start_time": "2020-10-26T20:05:09.350267",
     "status": "completed"
    },
    "tags": []
   },
   "source": [
    "Setup the labels as 1 (when the digit is 3) and 0 (when the digit is 8)"
   ]
  },
  {
   "cell_type": "code",
   "execution_count": 11,
   "metadata": {
    "execution": {
     "iopub.execute_input": "2020-10-26T20:05:09.457724Z",
     "iopub.status.busy": "2020-10-26T20:05:09.454954Z",
     "iopub.status.idle": "2020-10-26T20:05:09.462738Z",
     "shell.execute_reply": "2020-10-26T20:05:09.462225Z"
    },
    "papermill": {
     "duration": 0.050897,
     "end_time": "2020-10-26T20:05:09.462863",
     "exception": false,
     "start_time": "2020-10-26T20:05:09.411966",
     "status": "completed"
    },
    "tags": []
   },
   "outputs": [],
   "source": [
    "y_train = 1*(y_train==3)\n",
    "y_test = 1*(y_test==3)"
   ]
  },
  {
   "cell_type": "code",
   "execution_count": 12,
   "metadata": {
    "execution": {
     "iopub.execute_input": "2020-10-26T20:05:09.534422Z",
     "iopub.status.busy": "2020-10-26T20:05:09.532578Z",
     "iopub.status.idle": "2020-10-26T20:05:09.544718Z",
     "shell.execute_reply": "2020-10-26T20:05:09.545190Z"
    },
    "papermill": {
     "duration": 0.050186,
     "end_time": "2020-10-26T20:05:09.545332",
     "exception": false,
     "start_time": "2020-10-26T20:05:09.495146",
     "status": "completed"
    },
    "tags": []
   },
   "outputs": [
    {
     "data": {
      "text/plain": [
       "((11982, 28, 28), (1984, 28, 28))"
      ]
     },
     "execution_count": 12,
     "metadata": {},
     "output_type": "execute_result"
    }
   ],
   "source": [
    "X_train.shape, X_test.shape"
   ]
  },
  {
   "cell_type": "markdown",
   "metadata": {
    "papermill": {
     "duration": 0.029951,
     "end_time": "2020-10-26T20:05:09.605071",
     "exception": false,
     "start_time": "2020-10-26T20:05:09.575120",
     "status": "completed"
    },
    "tags": []
   },
   "source": [
    "### Reshape the input data to create a linear array"
   ]
  },
  {
   "cell_type": "code",
   "execution_count": 13,
   "metadata": {
    "execution": {
     "iopub.execute_input": "2020-10-26T20:05:09.670333Z",
     "iopub.status.busy": "2020-10-26T20:05:09.669525Z",
     "iopub.status.idle": "2020-10-26T20:05:09.683456Z",
     "shell.execute_reply": "2020-10-26T20:05:09.684003Z"
    },
    "papermill": {
     "duration": 0.04986,
     "end_time": "2020-10-26T20:05:09.684208",
     "exception": false,
     "start_time": "2020-10-26T20:05:09.634348",
     "status": "completed"
    },
    "tags": []
   },
   "outputs": [
    {
     "data": {
      "text/plain": [
       "((11982, 784), (1984, 784))"
      ]
     },
     "execution_count": 13,
     "metadata": {},
     "output_type": "execute_result"
    }
   ],
   "source": [
    "X_train = X_train.reshape(X_train.shape[0], -1)\n",
    "X_test = X_test.reshape(X_test.shape[0], -1)\n",
    "X_train.shape, X_test.shape"
   ]
  },
  {
   "cell_type": "markdown",
   "metadata": {
    "papermill": {
     "duration": 0.028378,
     "end_time": "2020-10-26T20:05:09.740699",
     "exception": false,
     "start_time": "2020-10-26T20:05:09.712321",
     "status": "completed"
    },
    "tags": []
   },
   "source": [
    "### Importing appropriate functions from 'Kudzu'"
   ]
  },
  {
   "cell_type": "code",
   "execution_count": 14,
   "metadata": {
    "execution": {
     "iopub.execute_input": "2020-10-26T20:05:09.806128Z",
     "iopub.status.busy": "2020-10-26T20:05:09.805544Z",
     "iopub.status.idle": "2020-10-26T20:05:09.824147Z",
     "shell.execute_reply": "2020-10-26T20:05:09.823459Z"
    },
    "papermill": {
     "duration": 0.052272,
     "end_time": "2020-10-26T20:05:09.824291",
     "exception": false,
     "start_time": "2020-10-26T20:05:09.772019",
     "status": "completed"
    },
    "tags": []
   },
   "outputs": [],
   "source": [
    "from kudzu.layer import Sigmoid\n",
    "from kudzu.layer import Relu\n",
    "from kudzu.layer import Affine, Sigmoid\n",
    "\n",
    "from kudzu.model import Model\n",
    "from kudzu.train import Learner\n",
    "from kudzu.optim import GD\n",
    "from kudzu.data import Data, Dataloader, Sampler\n",
    "\n",
    "from kudzu.callbacks import AccCallback\n",
    "from kudzu.callbacks import ClfCallback\n",
    "\n",
    "from kudzu.loss import MSE"
   ]
  },
  {
   "cell_type": "markdown",
   "metadata": {
    "papermill": {
     "duration": 0.034512,
     "end_time": "2020-10-26T20:05:09.888959",
     "exception": false,
     "start_time": "2020-10-26T20:05:09.854447",
     "status": "completed"
    },
    "tags": []
   },
   "source": [
    "### Let us create a `Config` class, to store important parameters. \n",
    "This class essentially plays the role of a dictionary."
   ]
  },
  {
   "cell_type": "code",
   "execution_count": 15,
   "metadata": {
    "execution": {
     "iopub.execute_input": "2020-10-26T20:05:09.967614Z",
     "iopub.status.busy": "2020-10-26T20:05:09.966965Z",
     "iopub.status.idle": "2020-10-26T20:05:09.979508Z",
     "shell.execute_reply": "2020-10-26T20:05:09.980012Z"
    },
    "papermill": {
     "duration": 0.053141,
     "end_time": "2020-10-26T20:05:09.980161",
     "exception": false,
     "start_time": "2020-10-26T20:05:09.927020",
     "status": "completed"
    },
    "tags": []
   },
   "outputs": [],
   "source": [
    "class Config:\n",
    "    pass\n",
    "config = Config()\n",
    "config.lr = 0.001\n",
    "config.num_epochs = 251\n",
    "config.bs = 50"
   ]
  },
  {
   "cell_type": "markdown",
   "metadata": {
    "papermill": {
     "duration": 0.031065,
     "end_time": "2020-10-26T20:05:10.043604",
     "exception": false,
     "start_time": "2020-10-26T20:05:10.012539",
     "status": "completed"
    },
    "tags": []
   },
   "source": [
    "### Initializing data to the variables"
   ]
  },
  {
   "cell_type": "code",
   "execution_count": 16,
   "metadata": {
    "execution": {
     "iopub.execute_input": "2020-10-26T20:05:10.125130Z",
     "iopub.status.busy": "2020-10-26T20:05:10.119142Z",
     "iopub.status.idle": "2020-10-26T20:05:10.129630Z",
     "shell.execute_reply": "2020-10-26T20:05:10.128573Z"
    },
    "papermill": {
     "duration": 0.055305,
     "end_time": "2020-10-26T20:05:10.129786",
     "exception": false,
     "start_time": "2020-10-26T20:05:10.074481",
     "status": "completed"
    },
    "tags": []
   },
   "outputs": [],
   "source": [
    "data = Data(X_train, y_train.reshape(-1,1))\n",
    "sampler = Sampler(data, config.bs, shuffle=True)\n",
    "\n",
    "dl = Dataloader(data, sampler)\n",
    "\n",
    "opt = GD(config.lr)\n",
    "loss = MSE()"
   ]
  },
  {
   "cell_type": "code",
   "execution_count": 17,
   "metadata": {
    "execution": {
     "iopub.execute_input": "2020-10-26T20:05:10.200216Z",
     "iopub.status.busy": "2020-10-26T20:05:10.199632Z",
     "iopub.status.idle": "2020-10-26T20:05:10.207764Z",
     "shell.execute_reply": "2020-10-26T20:05:10.207231Z"
    },
    "papermill": {
     "duration": 0.050063,
     "end_time": "2020-10-26T20:05:10.207936",
     "exception": false,
     "start_time": "2020-10-26T20:05:10.157873",
     "status": "completed"
    },
    "tags": []
   },
   "outputs": [],
   "source": [
    "training_xdata = X_train\n",
    "testing_xdata = X_test\n",
    "training_ydata = y_train.reshape(-1,1)\n",
    "testing_ydata = y_test.reshape(-1,1)"
   ]
  },
  {
   "cell_type": "markdown",
   "metadata": {
    "papermill": {
     "duration": 0.030978,
     "end_time": "2020-10-26T20:05:10.268636",
     "exception": false,
     "start_time": "2020-10-26T20:05:10.237658",
     "status": "completed"
    },
    "tags": []
   },
   "source": [
    "### Running Models with the Training data\n",
    "Details about the network layers:\n",
    "- A first affine layer has 784 inputs and does 100 affine transforms. These are followed by a Relu\n",
    "- A second affine layer has 100 inputs from the 100 activations of the past layer, and does 100 affine transforms. These are followed by a Relu\n",
    "- A third affine layer has 100 activations and does 2 affine transformations to create an embedding for visualization. There is no non-linearity here.\n",
    "- A final \"logistic regression\" which has an affine transform from 2 inputs to 1 output, which is squeezed through a sigmoid.\n",
    "\n",
    "Help taken from Anshuman's Notebook."
   ]
  },
  {
   "cell_type": "code",
   "execution_count": 18,
   "metadata": {
    "execution": {
     "iopub.execute_input": "2020-10-26T20:05:10.350032Z",
     "iopub.status.busy": "2020-10-26T20:05:10.348645Z",
     "iopub.status.idle": "2020-10-26T20:05:10.356743Z",
     "shell.execute_reply": "2020-10-26T20:05:10.356242Z"
    },
    "papermill": {
     "duration": 0.058778,
     "end_time": "2020-10-26T20:05:10.356870",
     "exception": false,
     "start_time": "2020-10-26T20:05:10.298092",
     "status": "completed"
    },
    "tags": []
   },
   "outputs": [],
   "source": [
    "# layers for the Neural Network\n",
    "layers = [Affine(\"first\", 784, 100), Relu(\"first\"), Affine(\"second\", 100, 100), Relu(\"second\"), Affine(\"third\", 100, 2), Affine(\"final\", 2, 1), Sigmoid(\"final\")]\n",
    "model_nn = Model(layers)\n",
    "\n",
    "# layers for the Logistic Regression\n",
    "layers_lr = [Affine(\"logits\", 784, 1), Sigmoid(\"sigmoid\")]\n",
    "model_lr = Model(layers_lr)"
   ]
  },
  {
   "cell_type": "code",
   "execution_count": 19,
   "metadata": {
    "execution": {
     "iopub.execute_input": "2020-10-26T20:05:10.430362Z",
     "iopub.status.busy": "2020-10-26T20:05:10.429419Z",
     "iopub.status.idle": "2020-10-26T20:05:10.439126Z",
     "shell.execute_reply": "2020-10-26T20:05:10.439574Z"
    },
    "papermill": {
     "duration": 0.050626,
     "end_time": "2020-10-26T20:05:10.439713",
     "exception": false,
     "start_time": "2020-10-26T20:05:10.389087",
     "status": "completed"
    },
    "tags": []
   },
   "outputs": [],
   "source": [
    "# suffix _nn stands for Neural Network.\n",
    "learner_nn = Learner(loss, model_nn, opt, config.num_epochs)\n",
    "acc_nn = ClfCallback(learner_nn, config.bs, training_xdata , testing_xdata, training_ydata, testing_ydata)\n",
    "learner_nn.set_callbacks([acc_nn])"
   ]
  },
  {
   "cell_type": "code",
   "execution_count": 20,
   "metadata": {
    "execution": {
     "iopub.execute_input": "2020-10-26T20:05:10.504950Z",
     "iopub.status.busy": "2020-10-26T20:05:10.504371Z",
     "iopub.status.idle": "2020-10-26T20:07:28.671289Z",
     "shell.execute_reply": "2020-10-26T20:07:28.672025Z"
    },
    "papermill": {
     "duration": 138.204137,
     "end_time": "2020-10-26T20:07:28.672184",
     "exception": false,
     "start_time": "2020-10-26T20:05:10.468047",
     "status": "completed"
    },
    "tags": []
   },
   "outputs": [
    {
     "name": "stdout",
     "output_type": "stream",
     "text": [
      "====== Neural Network ======\n"
     ]
    },
    {
     "name": "stdout",
     "output_type": "stream",
     "text": [
      "Epoch 0, Loss 0.2402\n",
      "Training Accuracy: 0.7282, Testing Accuracy: 0.7293\n",
      "\n"
     ]
    },
    {
     "name": "stdout",
     "output_type": "stream",
     "text": [
      "Epoch 10, Loss 0.1349\n",
      "Training Accuracy: 0.9177, Testing Accuracy: 0.9259\n",
      "\n"
     ]
    },
    {
     "name": "stdout",
     "output_type": "stream",
     "text": [
      "Epoch 20, Loss 0.068\n",
      "Training Accuracy: 0.9364, Testing Accuracy: 0.9451\n",
      "\n"
     ]
    },
    {
     "name": "stdout",
     "output_type": "stream",
     "text": [
      "Epoch 30, Loss 0.0499\n",
      "Training Accuracy: 0.9467, Testing Accuracy: 0.9551\n",
      "\n"
     ]
    },
    {
     "name": "stdout",
     "output_type": "stream",
     "text": [
      "Epoch 40, Loss 0.0421\n",
      "Training Accuracy: 0.9522, Testing Accuracy: 0.9642\n",
      "\n"
     ]
    },
    {
     "name": "stdout",
     "output_type": "stream",
     "text": [
      "Epoch 50, Loss 0.0376\n",
      "Training Accuracy: 0.9565, Testing Accuracy: 0.9647\n",
      "\n"
     ]
    },
    {
     "name": "stdout",
     "output_type": "stream",
     "text": [
      "Epoch 60, Loss 0.0346\n",
      "Training Accuracy: 0.9604, Testing Accuracy: 0.9652\n",
      "\n"
     ]
    },
    {
     "name": "stdout",
     "output_type": "stream",
     "text": [
      "Epoch 70, Loss 0.0324\n",
      "Training Accuracy: 0.9624, Testing Accuracy: 0.9662\n",
      "\n"
     ]
    },
    {
     "name": "stdout",
     "output_type": "stream",
     "text": [
      "Epoch 80, Loss 0.0307\n",
      "Training Accuracy: 0.9639, Testing Accuracy: 0.9667\n",
      "\n"
     ]
    },
    {
     "name": "stdout",
     "output_type": "stream",
     "text": [
      "Epoch 90, Loss 0.0293\n",
      "Training Accuracy: 0.9657, Testing Accuracy: 0.9662\n",
      "\n"
     ]
    },
    {
     "name": "stdout",
     "output_type": "stream",
     "text": [
      "Epoch 100, Loss 0.0281\n",
      "Training Accuracy: 0.9669, Testing Accuracy: 0.9667\n",
      "\n"
     ]
    },
    {
     "name": "stdout",
     "output_type": "stream",
     "text": [
      "Epoch 110, Loss 0.0271\n",
      "Training Accuracy: 0.9681, Testing Accuracy: 0.9682\n",
      "\n"
     ]
    },
    {
     "name": "stdout",
     "output_type": "stream",
     "text": [
      "Epoch 120, Loss 0.0262\n",
      "Training Accuracy: 0.9695, Testing Accuracy: 0.9688\n",
      "\n"
     ]
    },
    {
     "name": "stdout",
     "output_type": "stream",
     "text": [
      "Epoch 130, Loss 0.0254\n",
      "Training Accuracy: 0.9706, Testing Accuracy: 0.9693\n",
      "\n"
     ]
    },
    {
     "name": "stdout",
     "output_type": "stream",
     "text": [
      "Epoch 140, Loss 0.0247\n",
      "Training Accuracy: 0.9713, Testing Accuracy: 0.9693\n",
      "\n"
     ]
    },
    {
     "name": "stdout",
     "output_type": "stream",
     "text": [
      "Epoch 150, Loss 0.024\n",
      "Training Accuracy: 0.9720, Testing Accuracy: 0.9693\n",
      "\n"
     ]
    },
    {
     "name": "stdout",
     "output_type": "stream",
     "text": [
      "Epoch 160, Loss 0.0234\n",
      "Training Accuracy: 0.9727, Testing Accuracy: 0.9698\n",
      "\n"
     ]
    },
    {
     "name": "stdout",
     "output_type": "stream",
     "text": [
      "Epoch 170, Loss 0.0229\n",
      "Training Accuracy: 0.9735, Testing Accuracy: 0.9698\n",
      "\n"
     ]
    },
    {
     "name": "stdout",
     "output_type": "stream",
     "text": [
      "Epoch 180, Loss 0.0223\n",
      "Training Accuracy: 0.9740, Testing Accuracy: 0.9703\n",
      "\n"
     ]
    },
    {
     "name": "stdout",
     "output_type": "stream",
     "text": [
      "Epoch 190, Loss 0.0218\n",
      "Training Accuracy: 0.9746, Testing Accuracy: 0.9723\n",
      "\n"
     ]
    },
    {
     "name": "stdout",
     "output_type": "stream",
     "text": [
      "Epoch 200, Loss 0.0213\n",
      "Training Accuracy: 0.9750, Testing Accuracy: 0.9718\n",
      "\n"
     ]
    },
    {
     "name": "stdout",
     "output_type": "stream",
     "text": [
      "Epoch 210, Loss 0.0209\n",
      "Training Accuracy: 0.9755, Testing Accuracy: 0.9728\n",
      "\n"
     ]
    },
    {
     "name": "stdout",
     "output_type": "stream",
     "text": [
      "Epoch 220, Loss 0.0205\n",
      "Training Accuracy: 0.9761, Testing Accuracy: 0.9728\n",
      "\n"
     ]
    },
    {
     "name": "stdout",
     "output_type": "stream",
     "text": [
      "Epoch 230, Loss 0.0201\n",
      "Training Accuracy: 0.9761, Testing Accuracy: 0.9733\n",
      "\n"
     ]
    },
    {
     "name": "stdout",
     "output_type": "stream",
     "text": [
      "Epoch 240, Loss 0.0197\n",
      "Training Accuracy: 0.9770, Testing Accuracy: 0.9738\n",
      "\n"
     ]
    },
    {
     "name": "stdout",
     "output_type": "stream",
     "text": [
      "Epoch 250, Loss 0.0193\n",
      "Training Accuracy: 0.9776, Testing Accuracy: 0.9738\n",
      "\n"
     ]
    },
    {
     "data": {
      "text/plain": [
       "0.0028048482478804796"
      ]
     },
     "execution_count": 20,
     "metadata": {},
     "output_type": "execute_result"
    }
   ],
   "source": [
    "print(\"====== Neural Network ======\")\n",
    "learner_nn.train_loop(dl)"
   ]
  },
  {
   "cell_type": "markdown",
   "metadata": {
    "papermill": {
     "duration": 0.046689,
     "end_time": "2020-10-26T20:07:28.765862",
     "exception": false,
     "start_time": "2020-10-26T20:07:28.719173",
     "status": "completed"
    },
    "tags": []
   },
   "source": [
    "### Logistic Regression based Implementation."
   ]
  },
  {
   "cell_type": "code",
   "execution_count": 21,
   "metadata": {
    "execution": {
     "iopub.execute_input": "2020-10-26T20:07:28.859449Z",
     "iopub.status.busy": "2020-10-26T20:07:28.858819Z",
     "iopub.status.idle": "2020-10-26T20:07:28.872980Z",
     "shell.execute_reply": "2020-10-26T20:07:28.873583Z"
    },
    "papermill": {
     "duration": 0.061265,
     "end_time": "2020-10-26T20:07:28.873741",
     "exception": false,
     "start_time": "2020-10-26T20:07:28.812476",
     "status": "completed"
    },
    "tags": []
   },
   "outputs": [],
   "source": [
    "learner_lr = Learner(loss, model_lr, opt, config.num_epochs)\n",
    "acc_lr = ClfCallback(learner_lr, config.bs, training_xdata , testing_xdata, training_ydata, testing_ydata)\n",
    "learner_lr.set_callbacks([acc_lr])"
   ]
  },
  {
   "cell_type": "code",
   "execution_count": 22,
   "metadata": {
    "execution": {
     "iopub.execute_input": "2020-10-26T20:07:28.967427Z",
     "iopub.status.busy": "2020-10-26T20:07:28.966797Z",
     "iopub.status.idle": "2020-10-26T20:07:49.667755Z",
     "shell.execute_reply": "2020-10-26T20:07:49.668564Z"
    },
    "papermill": {
     "duration": 20.746896,
     "end_time": "2020-10-26T20:07:49.668759",
     "exception": false,
     "start_time": "2020-10-26T20:07:28.921863",
     "status": "completed"
    },
    "tags": []
   },
   "outputs": [
    {
     "name": "stdout",
     "output_type": "stream",
     "text": [
      "====== Logistic Regression ======\n",
      "Epoch 0, Loss 0.242\n",
      "Training Accuracy: 0.6734, Testing Accuracy: 0.6739\n",
      "\n"
     ]
    },
    {
     "name": "stdout",
     "output_type": "stream",
     "text": [
      "Epoch 10, Loss 0.106\n",
      "Training Accuracy: 0.8991, Testing Accuracy: 0.9078\n",
      "\n"
     ]
    },
    {
     "name": "stdout",
     "output_type": "stream",
     "text": [
      "Epoch 20, Loss 0.0804\n",
      "Training Accuracy: 0.9266, Testing Accuracy: 0.9410\n",
      "\n"
     ]
    },
    {
     "name": "stdout",
     "output_type": "stream",
     "text": [
      "Epoch 30, Loss 0.0688\n",
      "Training Accuracy: 0.9363, Testing Accuracy: 0.9476\n",
      "\n"
     ]
    },
    {
     "name": "stdout",
     "output_type": "stream",
     "text": [
      "Epoch 40, Loss 0.0619\n",
      "Training Accuracy: 0.9415, Testing Accuracy: 0.9531\n",
      "\n"
     ]
    },
    {
     "name": "stdout",
     "output_type": "stream",
     "text": [
      "Epoch 50, Loss 0.0572\n",
      "Training Accuracy: 0.9457, Testing Accuracy: 0.9592\n",
      "\n"
     ]
    },
    {
     "name": "stdout",
     "output_type": "stream",
     "text": [
      "Epoch 60, Loss 0.0538\n",
      "Training Accuracy: 0.9485, Testing Accuracy: 0.9617\n",
      "\n"
     ]
    },
    {
     "name": "stdout",
     "output_type": "stream",
     "text": [
      "Epoch 70, Loss 0.0512\n",
      "Training Accuracy: 0.9500, Testing Accuracy: 0.9622\n",
      "\n"
     ]
    },
    {
     "name": "stdout",
     "output_type": "stream",
     "text": [
      "Epoch 80, Loss 0.0491\n",
      "Training Accuracy: 0.9517, Testing Accuracy: 0.9637\n",
      "\n"
     ]
    },
    {
     "name": "stdout",
     "output_type": "stream",
     "text": [
      "Epoch 90, Loss 0.0474\n",
      "Training Accuracy: 0.9527, Testing Accuracy: 0.9647\n",
      "\n"
     ]
    },
    {
     "name": "stdout",
     "output_type": "stream",
     "text": [
      "Epoch 100, Loss 0.046\n",
      "Training Accuracy: 0.9537, Testing Accuracy: 0.9647\n",
      "\n"
     ]
    },
    {
     "name": "stdout",
     "output_type": "stream",
     "text": [
      "Epoch 110, Loss 0.0448\n",
      "Training Accuracy: 0.9546, Testing Accuracy: 0.9647\n",
      "\n"
     ]
    },
    {
     "name": "stdout",
     "output_type": "stream",
     "text": [
      "Epoch 120, Loss 0.0437\n",
      "Training Accuracy: 0.9548, Testing Accuracy: 0.9662\n",
      "\n"
     ]
    },
    {
     "name": "stdout",
     "output_type": "stream",
     "text": [
      "Epoch 130, Loss 0.0428\n",
      "Training Accuracy: 0.9558, Testing Accuracy: 0.9682\n",
      "\n"
     ]
    },
    {
     "name": "stdout",
     "output_type": "stream",
     "text": [
      "Epoch 140, Loss 0.042\n",
      "Training Accuracy: 0.9564, Testing Accuracy: 0.9682\n",
      "\n"
     ]
    },
    {
     "name": "stdout",
     "output_type": "stream",
     "text": [
      "Epoch 150, Loss 0.0412\n",
      "Training Accuracy: 0.9574, Testing Accuracy: 0.9682\n",
      "\n"
     ]
    },
    {
     "name": "stdout",
     "output_type": "stream",
     "text": [
      "Epoch 160, Loss 0.0406\n",
      "Training Accuracy: 0.9580, Testing Accuracy: 0.9677\n",
      "\n"
     ]
    },
    {
     "name": "stdout",
     "output_type": "stream",
     "text": [
      "Epoch 170, Loss 0.04\n",
      "Training Accuracy: 0.9588, Testing Accuracy: 0.9677\n",
      "\n"
     ]
    },
    {
     "name": "stdout",
     "output_type": "stream",
     "text": [
      "Epoch 180, Loss 0.0394\n",
      "Training Accuracy: 0.9589, Testing Accuracy: 0.9677\n",
      "\n"
     ]
    },
    {
     "name": "stdout",
     "output_type": "stream",
     "text": [
      "Epoch 190, Loss 0.0389\n",
      "Training Accuracy: 0.9595, Testing Accuracy: 0.9688\n",
      "\n"
     ]
    },
    {
     "name": "stdout",
     "output_type": "stream",
     "text": [
      "Epoch 200, Loss 0.0384\n",
      "Training Accuracy: 0.9599, Testing Accuracy: 0.9693\n",
      "\n"
     ]
    },
    {
     "name": "stdout",
     "output_type": "stream",
     "text": [
      "Epoch 210, Loss 0.038\n",
      "Training Accuracy: 0.9599, Testing Accuracy: 0.9693\n",
      "\n"
     ]
    },
    {
     "name": "stdout",
     "output_type": "stream",
     "text": [
      "Epoch 220, Loss 0.0376\n",
      "Training Accuracy: 0.9599, Testing Accuracy: 0.9693\n",
      "\n"
     ]
    },
    {
     "name": "stdout",
     "output_type": "stream",
     "text": [
      "Epoch 230, Loss 0.0372\n",
      "Training Accuracy: 0.9603, Testing Accuracy: 0.9693\n",
      "\n"
     ]
    },
    {
     "name": "stdout",
     "output_type": "stream",
     "text": [
      "Epoch 240, Loss 0.0369\n",
      "Training Accuracy: 0.9609, Testing Accuracy: 0.9688\n",
      "\n"
     ]
    },
    {
     "name": "stdout",
     "output_type": "stream",
     "text": [
      "Epoch 250, Loss 0.0365\n",
      "Training Accuracy: 0.9611, Testing Accuracy: 0.9693\n",
      "\n"
     ]
    },
    {
     "data": {
      "text/plain": [
       "0.03966972528338352"
      ]
     },
     "execution_count": 22,
     "metadata": {},
     "output_type": "execute_result"
    }
   ],
   "source": [
    "print(\"====== Logistic Regression ======\")\n",
    "learner_lr.train_loop(dl)"
   ]
  },
  {
   "cell_type": "markdown",
   "metadata": {
    "papermill": {
     "duration": 0.048391,
     "end_time": "2020-10-26T20:07:49.769483",
     "exception": false,
     "start_time": "2020-10-26T20:07:49.721092",
     "status": "completed"
    },
    "tags": []
   },
   "source": [
    "### Comparing results of NN and LR"
   ]
  },
  {
   "cell_type": "code",
   "execution_count": 23,
   "metadata": {
    "execution": {
     "iopub.execute_input": "2020-10-26T20:07:49.877659Z",
     "iopub.status.busy": "2020-10-26T20:07:49.876923Z",
     "iopub.status.idle": "2020-10-26T20:07:50.196053Z",
     "shell.execute_reply": "2020-10-26T20:07:50.196779Z"
    },
    "papermill": {
     "duration": 0.376002,
     "end_time": "2020-10-26T20:07:50.196953",
     "exception": false,
     "start_time": "2020-10-26T20:07:49.820951",
     "status": "completed"
    },
    "tags": []
   },
   "outputs": [
    {
     "data": {
      "text/plain": [
       "<matplotlib.legend.Legend at 0x7fa032419320>"
      ]
     },
     "execution_count": 23,
     "metadata": {},
     "output_type": "execute_result"
    },
    {
     "data": {
      "image/png": "[encoded data removed]",
      "text/plain": [
       "<Figure size 1080x720 with 1 Axes>"
      ]
     },
     "metadata": {
      "needs_background": "light"
     },
     "output_type": "display_data"
    }
   ],
   "source": [
    "plt.figure(figsize=(15,10))\n",
    "\n",
    "# Neural Network plots\n",
    "plt.plot(acc_nn.accuracies, 'r-', label = \"Training Accuracies - NN\")\n",
    "plt.plot(acc_nn.test_accuracies, 'g-', label = \"Testing Accuracies - NN\")\n",
    "\n",
    "# Logistic Regression plots\n",
    "plt.plot(acc_lr.accuracies, 'k-', label = \"Training Accuracies - LR\")\n",
    "plt.plot(acc_lr.test_accuracies, 'b-', label = \"Testing Accuracies - LR\")\n",
    "\n",
    "plt.ylim(0.8, 1)\n",
    "\n",
    "plt.legend()\n",
    "\n"
   ]
  },
  {
   "cell_type": "markdown",
   "metadata": {
    "papermill": {
     "duration": 0.050952,
     "end_time": "2020-10-26T20:07:50.309525",
     "exception": false,
     "start_time": "2020-10-26T20:07:50.258573",
     "status": "completed"
    },
    "tags": []
   },
   "source": [
    "### From the plot, we can observe the following:\n",
    "- Neural Network achieves higher accuracy than the Logistic Regression model.\n",
    "- This apparently, is because of overfitting, i.e. NN captures more noise than data.\n",
    "- Testing accuracy of NN drops below the Training accuracy at higher epochs. This explains the over-fitting on training data.\n",
    "- Logistic Regression gives a reliable accuracy, without the above mentioned problem.\n"
   ]
  },
  {
   "cell_type": "markdown",
   "metadata": {
    "papermill": {
     "duration": 0.05123,
     "end_time": "2020-10-26T20:07:50.417329",
     "exception": false,
     "start_time": "2020-10-26T20:07:50.366099",
     "status": "completed"
    },
    "tags": []
   },
   "source": [
    "### Moving till the last but one layer (excluding it).\n",
    "#### Plotting the outputs of this layer of the NN."
   ]
  },
  {
   "cell_type": "code",
   "execution_count": 24,
   "metadata": {
    "execution": {
     "iopub.execute_input": "2020-10-26T20:07:50.525535Z",
     "iopub.status.busy": "2020-10-26T20:07:50.524768Z",
     "iopub.status.idle": "2020-10-26T20:07:50.539637Z",
     "shell.execute_reply": "2020-10-26T20:07:50.540509Z"
    },
    "papermill": {
     "duration": 0.074325,
     "end_time": "2020-10-26T20:07:50.540692",
     "exception": false,
     "start_time": "2020-10-26T20:07:50.466367",
     "status": "completed"
    },
    "tags": []
   },
   "outputs": [],
   "source": [
    "model_new = Model(layers[:-2])"
   ]
  },
  {
   "cell_type": "code",
   "execution_count": 25,
   "metadata": {
    "execution": {
     "iopub.execute_input": "2020-10-26T20:07:50.663018Z",
     "iopub.status.busy": "2020-10-26T20:07:50.660033Z",
     "iopub.status.idle": "2020-10-26T20:07:50.687355Z",
     "shell.execute_reply": "2020-10-26T20:07:50.688282Z"
    },
    "papermill": {
     "duration": 0.099276,
     "end_time": "2020-10-26T20:07:50.688511",
     "exception": false,
     "start_time": "2020-10-26T20:07:50.589235",
     "status": "completed"
    },
    "tags": []
   },
   "outputs": [],
   "source": [
    "plot_testing = model_new(testing_xdata)"
   ]
  },
  {
   "cell_type": "code",
   "execution_count": 26,
   "metadata": {
    "execution": {
     "iopub.execute_input": "2020-10-26T20:07:50.805421Z",
     "iopub.status.busy": "2020-10-26T20:07:50.804821Z",
     "iopub.status.idle": "2020-10-26T20:07:51.036014Z",
     "shell.execute_reply": "2020-10-26T20:07:51.036476Z"
    },
    "papermill": {
     "duration": 0.296327,
     "end_time": "2020-10-26T20:07:51.036669",
     "exception": false,
     "start_time": "2020-10-26T20:07:50.740342",
     "status": "completed"
    },
    "tags": []
   },
   "outputs": [
    {
     "data": {
      "text/plain": [
       "Text(0.5, 1.0, 'Outputs')"
      ]
     },
     "execution_count": 26,
     "metadata": {},
     "output_type": "execute_result"
    },
    {
     "data": {
      "image/png": "[encoded data removed]",
      "text/plain": [
       "<Figure size 576x504 with 1 Axes>"
      ]
     },
     "metadata": {
      "needs_background": "light"
     },
     "output_type": "display_data"
    }
   ],
   "source": [
    "plt.figure(figsize=(8,7))\n",
    "plt.scatter(plot_testing[:,0], plot_testing[:,1], alpha = 0.1, c = y_test.ravel());\n",
    "plt.title('Outputs')"
   ]
  },
  {
   "cell_type": "markdown",
   "metadata": {
    "papermill": {
     "duration": 0.065001,
     "end_time": "2020-10-26T20:07:51.153208",
     "exception": false,
     "start_time": "2020-10-26T20:07:51.088207",
     "status": "completed"
    },
    "tags": []
   },
   "source": [
    "### Plotting probability contours"
   ]
  },
  {
   "cell_type": "code",
   "execution_count": 27,
   "metadata": {
    "execution": {
     "iopub.execute_input": "2020-10-26T20:07:51.291373Z",
     "iopub.status.busy": "2020-10-26T20:07:51.290612Z",
     "iopub.status.idle": "2020-10-26T20:07:51.304337Z",
     "shell.execute_reply": "2020-10-26T20:07:51.303749Z"
    },
    "papermill": {
     "duration": 0.092535,
     "end_time": "2020-10-26T20:07:51.304483",
     "exception": false,
     "start_time": "2020-10-26T20:07:51.211948",
     "status": "completed"
    },
    "tags": []
   },
   "outputs": [],
   "source": [
    "model_prob = Model(layers[-2:]) "
   ]
  },
  {
   "cell_type": "code",
   "execution_count": 28,
   "metadata": {
    "execution": {
     "iopub.execute_input": "2020-10-26T20:07:51.432717Z",
     "iopub.status.busy": "2020-10-26T20:07:51.432100Z",
     "iopub.status.idle": "2020-10-26T20:07:51.447594Z",
     "shell.execute_reply": "2020-10-26T20:07:51.448080Z"
    },
    "papermill": {
     "duration": 0.083474,
     "end_time": "2020-10-26T20:07:51.448227",
     "exception": false,
     "start_time": "2020-10-26T20:07:51.364753",
     "status": "completed"
    },
    "tags": []
   },
   "outputs": [],
   "source": [
    "# Adjust the x and y ranges according to the above generated plot.\n",
    "x_range = np.linspace(-4, 1, 100) \n",
    "y_range = np.linspace(-6, 6, 100) \n",
    "x_grid, y_grid = np.meshgrid(x_range, y_range) # x_grid and y_grig are of size 100 X 100\n",
    "\n",
    "# converting x_grid and y_grid to continuous arrays\n",
    "x_grid_flat = np.ravel(x_grid)\n",
    "y_grid_flat = np.ravel(y_grid)\n",
    "\n",
    "# The last layer of the current model takes two columns as input. Hence transpose of np.vstack() is required.\n",
    "X = np.vstack((x_grid_flat, y_grid_flat)).T\n",
    "\n",
    "# x_grid and y_grid are of size 100 x 100\n",
    "probability_contour = model_prob(X).reshape(100,100) "
   ]
  },
  {
   "cell_type": "code",
   "execution_count": 29,
   "metadata": {
    "execution": {
     "iopub.execute_input": "2020-10-26T20:07:51.582320Z",
     "iopub.status.busy": "2020-10-26T20:07:51.581622Z",
     "iopub.status.idle": "2020-10-26T20:07:51.902472Z",
     "shell.execute_reply": "2020-10-26T20:07:51.903131Z"
    },
    "papermill": {
     "duration": 0.382895,
     "end_time": "2020-10-26T20:07:51.903284",
     "exception": false,
     "start_time": "2020-10-26T20:07:51.520389",
     "status": "completed"
    },
    "tags": []
   },
   "outputs": [
    {
     "data": {
      "image/png": "[encoded data removed]",
      "text/plain": [
       "<Figure size 720x648 with 1 Axes>"
      ]
     },
     "metadata": {
      "needs_background": "light"
     },
     "output_type": "display_data"
    }
   ],
   "source": [
    "plt.figure(figsize=(10,9))\n",
    "plt.scatter(plot_testing[:,0], plot_testing[:,1], alpha = 0.1, c = y_test.ravel())\n",
    "contours = plt.contour(x_grid,y_grid,probability_contour)\n",
    "plt.title('Probability Contours')\n",
    "plt.clabel(contours, inline = True );"
   ]
  }
 ],
 "metadata": {
  "kernelspec": {
   "display_name": "Python 3",
   "language": "python",
   "name": "python3"
  },
  "language_info": {
   "codemirror_mode": {
    "name": "ipython",
    "version": 3
   },
   "file_extension": ".py",
   "mimetype": "text/x-python",
   "name": "python",
   "nbconvert_exporter": "python",
   "pygments_lexer": "ipython3",
   "version": "3.6.12"
  },
  "papermill": {
   "duration": 170.00879,
   "end_time": "2020-10-26T20:07:52.367614",
   "environment_variables": {},
   "exception": null,
   "input_path": "2020-08-11-NeuralNetwork.ipynb",
   "output_path": "2020-08-11-NeuralNetwork.ipynb",
   "parameters": {},
   "start_time": "2020-10-26T20:05:02.358824",
   "version": "2.1.2"
  }
 },
 "nbformat": 4,
 "nbformat_minor": 4
}