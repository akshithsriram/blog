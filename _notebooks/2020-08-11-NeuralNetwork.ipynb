{
 "cells": [
  {
   "cell_type": "markdown",
   "id": "fitted-suggestion",
   "metadata": {
    "papermill": {
     "duration": 0.034762,
     "end_time": "2021-05-02T20:05:33.887900",
     "exception": false,
     "start_time": "2021-05-02T20:05:33.853138",
     "status": "completed"
    },
    "tags": []
   },
   "source": [
    "# \"A Basic Neural Network: Differentiate Hand-Written Digits\"\n",
    "\n",
    "- badges: true\n",
    "- author: Akshith Sriram"
   ]
  },
  {
   "cell_type": "markdown",
   "id": "signal-flexibility",
   "metadata": {
    "papermill": {
     "duration": 0.028858,
     "end_time": "2021-05-02T20:05:33.946380",
     "exception": false,
     "start_time": "2021-05-02T20:05:33.917522",
     "status": "completed"
    },
    "tags": []
   },
   "source": [
    "### Key Objectives:\n",
    "- Building a neural network that differentiates two hand-written digits 3 and 8.\n",
    "- Comparing the results of this Neural Network (NN) to that of a Logistic Regression (LR) model.\n",
    "\n",
    "### Requirements:\n",
    "- 'Kudzu' : A neural network library that was designed during our course by [Univ.AI](www.univ.ai). \n",
    "- MNIST Database\n",
    "\n",
    "If MNIST is not installed, use the command `!pip install mnist` given below.\n",
    "It can be run both from the command line and Jupyter Notebook."
   ]
  },
  {
   "cell_type": "code",
   "execution_count": 1,
   "id": "british-texture",
   "metadata": {
    "execution": {
     "iopub.execute_input": "2021-05-02T20:05:34.015714Z",
     "iopub.status.busy": "2021-05-02T20:05:34.015128Z",
     "iopub.status.idle": "2021-05-02T20:05:35.468943Z",
     "shell.execute_reply": "2021-05-02T20:05:35.469459Z"
    },
    "papermill": {
     "duration": 1.494951,
     "end_time": "2021-05-02T20:05:35.469649",
     "exception": false,
     "start_time": "2021-05-02T20:05:33.974698",
     "status": "completed"
    },
    "tags": []
   },
   "outputs": [
    {
     "name": "stdout",
     "output_type": "stream",
     "text": [
      "\u001b[33mWARNING: Value for scheme.headers does not match. Please report this to <https://github.com/pypa/pip/issues/9617>\r\n",
      "distutils: /opt/hostedtoolcache/Python/3.6.13/x64/include/python3.6m/UNKNOWN\r\n",
      "sysconfig: /opt/hostedtoolcache/Python/3.6.13/x64/include/python3.6m\u001b[0m\r\n",
      "\u001b[33mWARNING: Additional context:\r\n",
      "user = False\r\n",
      "home = None\r\n",
      "root = None\r\n",
      "prefix = None\u001b[0m\r\n"
     ]
    },
    {
     "name": "stdout",
     "output_type": "stream",
     "text": [
      "Collecting mnist\r\n"
     ]
    },
    {
     "name": "stdout",
     "output_type": "stream",
     "text": [
      "  Downloading mnist-0.2.2-py2.py3-none-any.whl (3.5 kB)\r\n",
      "Requirement already satisfied: numpy in /opt/hostedtoolcache/Python/3.6.13/x64/lib/python3.6/site-packages (from mnist) (1.19.5)\r\n"
     ]
    },
    {
     "name": "stdout",
     "output_type": "stream",
     "text": [
      "Installing collected packages: mnist\r\n"
     ]
    },
    {
     "name": "stdout",
     "output_type": "stream",
     "text": [
      "\u001b[33mWARNING: Value for scheme.headers does not match. Please report this to <https://github.com/pypa/pip/issues/9617>\r\n",
      "distutils: /opt/hostedtoolcache/Python/3.6.13/x64/include/python3.6m/UNKNOWN\r\n",
      "sysconfig: /opt/hostedtoolcache/Python/3.6.13/x64/include/python3.6m\u001b[0m\r\n",
      "\u001b[33mWARNING: Additional context:\r\n",
      "user = False\r\n",
      "home = None\r\n",
      "root = None\r\n",
      "prefix = None\u001b[0m\r\n",
      "Successfully installed mnist-0.2.2\r\n",
      "\u001b[33mWARNING: You are using pip version 21.1; however, version 21.1.1 is available.\r\n",
      "You should consider upgrading via the '/opt/hostedtoolcache/Python/3.6.13/x64/bin/python -m pip install --upgrade pip' command.\u001b[0m\r\n"
     ]
    }
   ],
   "source": [
    "!pip install mnist "
   ]
  },
  {
   "cell_type": "markdown",
   "id": "stunning-extra",
   "metadata": {
    "papermill": {
     "duration": 0.0298,
     "end_time": "2021-05-02T20:05:35.531456",
     "exception": false,
     "start_time": "2021-05-02T20:05:35.501656",
     "status": "completed"
    },
    "tags": []
   },
   "source": [
    "#### Importing necessary libraries"
   ]
  },
  {
   "cell_type": "code",
   "execution_count": 2,
   "id": "wooden-france",
   "metadata": {
    "execution": {
     "iopub.execute_input": "2021-05-02T20:05:35.598122Z",
     "iopub.status.busy": "2021-05-02T20:05:35.597485Z",
     "iopub.status.idle": "2021-05-02T20:05:36.177754Z",
     "shell.execute_reply": "2021-05-02T20:05:36.177028Z"
    },
    "papermill": {
     "duration": 0.616826,
     "end_time": "2021-05-02T20:05:36.177966",
     "exception": false,
     "start_time": "2021-05-02T20:05:35.561140",
     "status": "completed"
    },
    "tags": []
   },
   "outputs": [],
   "source": [
    "%load_ext autoreload\n",
    "%autoreload 2\n",
    "\n",
    "%matplotlib inline\n",
    "import matplotlib.pyplot as plt\n",
    "\n",
    "import numpy as np\n",
    "import pandas as pd"
   ]
  },
  {
   "cell_type": "markdown",
   "id": "stunning-physics",
   "metadata": {
    "papermill": {
     "duration": 0.030538,
     "end_time": "2021-05-02T20:05:36.240011",
     "exception": false,
     "start_time": "2021-05-02T20:05:36.209473",
     "status": "completed"
    },
    "tags": []
   },
   "source": [
    "### Preparing the Data"
   ]
  },
  {
   "cell_type": "code",
   "execution_count": 3,
   "id": "unauthorized-remainder",
   "metadata": {
    "execution": {
     "iopub.execute_input": "2021-05-02T20:05:36.308311Z",
     "iopub.status.busy": "2021-05-02T20:05:36.307719Z",
     "iopub.status.idle": "2021-05-02T20:05:36.319531Z",
     "shell.execute_reply": "2021-05-02T20:05:36.318698Z"
    },
    "papermill": {
     "duration": 0.050029,
     "end_time": "2021-05-02T20:05:36.319735",
     "exception": false,
     "start_time": "2021-05-02T20:05:36.269706",
     "status": "completed"
    },
    "tags": []
   },
   "outputs": [],
   "source": [
    "import mnist"
   ]
  },
  {
   "cell_type": "code",
   "execution_count": 4,
   "id": "correct-antarctica",
   "metadata": {
    "execution": {
     "iopub.execute_input": "2021-05-02T20:05:36.385253Z",
     "iopub.status.busy": "2021-05-02T20:05:36.384673Z",
     "iopub.status.idle": "2021-05-02T20:08:28.231037Z",
     "shell.execute_reply": "2021-05-02T20:08:28.232017Z"
    },
    "papermill": {
     "duration": 171.88096,
     "end_time": "2021-05-02T20:08:28.232182",
     "exception": false,
     "start_time": "2021-05-02T20:05:36.351222",
     "status": "completed"
    },
    "tags": []
   },
   "outputs": [],
   "source": [
    "train_images = mnist.train_images()\n",
    "train_labels = mnist.train_labels()"
   ]
  },
  {
   "cell_type": "code",
   "execution_count": 5,
   "id": "musical-prospect",
   "metadata": {
    "execution": {
     "iopub.execute_input": "2021-05-02T20:08:28.301546Z",
     "iopub.status.busy": "2021-05-02T20:08:28.300985Z",
     "iopub.status.idle": "2021-05-02T20:08:28.312747Z",
     "shell.execute_reply": "2021-05-02T20:08:28.312273Z"
    },
    "papermill": {
     "duration": 0.050687,
     "end_time": "2021-05-02T20:08:28.312874",
     "exception": false,
     "start_time": "2021-05-02T20:08:28.262187",
     "status": "completed"
    },
    "tags": []
   },
   "outputs": [
    {
     "data": {
      "text/plain": [
       "((60000, 28, 28), (60000,))"
      ]
     },
     "execution_count": 5,
     "metadata": {},
     "output_type": "execute_result"
    }
   ],
   "source": [
    "train_images.shape, train_labels.shape"
   ]
  },
  {
   "cell_type": "code",
   "execution_count": 6,
   "id": "preliminary-elizabeth",
   "metadata": {
    "execution": {
     "iopub.execute_input": "2021-05-02T20:08:28.377683Z",
     "iopub.status.busy": "2021-05-02T20:08:28.377120Z",
     "iopub.status.idle": "2021-05-02T20:09:12.422368Z",
     "shell.execute_reply": "2021-05-02T20:09:12.421830Z"
    },
    "papermill": {
     "duration": 44.079335,
     "end_time": "2021-05-02T20:09:12.422506",
     "exception": false,
     "start_time": "2021-05-02T20:08:28.343171",
     "status": "completed"
    },
    "tags": []
   },
   "outputs": [],
   "source": [
    "test_images = mnist.test_images()\n",
    "test_labels = mnist.test_labels()"
   ]
  },
  {
   "cell_type": "code",
   "execution_count": 7,
   "id": "acknowledged-oxygen",
   "metadata": {
    "execution": {
     "iopub.execute_input": "2021-05-02T20:09:12.491408Z",
     "iopub.status.busy": "2021-05-02T20:09:12.490830Z",
     "iopub.status.idle": "2021-05-02T20:09:12.504879Z",
     "shell.execute_reply": "2021-05-02T20:09:12.504405Z"
    },
    "papermill": {
     "duration": 0.051416,
     "end_time": "2021-05-02T20:09:12.505004",
     "exception": false,
     "start_time": "2021-05-02T20:09:12.453588",
     "status": "completed"
    },
    "tags": []
   },
   "outputs": [
    {
     "data": {
      "text/plain": [
       "((10000, 28, 28), (10000,))"
      ]
     },
     "execution_count": 7,
     "metadata": {},
     "output_type": "execute_result"
    }
   ],
   "source": [
    "test_images.shape, test_labels.shape"
   ]
  },
  {
   "cell_type": "code",
   "execution_count": 8,
   "id": "innovative-organic",
   "metadata": {
    "execution": {
     "iopub.execute_input": "2021-05-02T20:09:12.570728Z",
     "iopub.status.busy": "2021-05-02T20:09:12.570195Z",
     "iopub.status.idle": "2021-05-02T20:09:12.721398Z",
     "shell.execute_reply": "2021-05-02T20:09:12.720782Z"
    },
    "papermill": {
     "duration": 0.185717,
     "end_time": "2021-05-02T20:09:12.721528",
     "exception": false,
     "start_time": "2021-05-02T20:09:12.535811",
     "status": "completed"
    },
    "tags": []
   },
   "outputs": [
    {
     "name": "stdout",
     "output_type": "stream",
     "text": [
      "2\n"
     ]
    },
    {
     "data": {
      "text/plain": [
       "<matplotlib.image.AxesImage at 0x7f855dc22978>"
      ]
     },
     "execution_count": 8,
     "metadata": {},
     "output_type": "execute_result"
    },
    {
     "data": {
      "image/png": "[encoded data removed]",
      "text/plain": [
       "<Figure size 432x288 with 1 Axes>"
      ]
     },
     "metadata": {
      "needs_background": "light"
     },
     "output_type": "display_data"
    }
   ],
   "source": [
    "image_index = 7776 # You may select anything up to 60,000\n",
    "print(train_labels[image_index]) \n",
    "plt.imshow(train_images[image_index], cmap='Greys')"
   ]
  },
  {
   "cell_type": "markdown",
   "id": "facial-modem",
   "metadata": {
    "papermill": {
     "duration": 0.032101,
     "end_time": "2021-05-02T20:09:12.785943",
     "exception": false,
     "start_time": "2021-05-02T20:09:12.753842",
     "status": "completed"
    },
    "tags": []
   },
   "source": [
    "## Filter data to get 3 and 8 out"
   ]
  },
  {
   "cell_type": "code",
   "execution_count": 9,
   "id": "thousand-acquisition",
   "metadata": {
    "execution": {
     "iopub.execute_input": "2021-05-02T20:09:12.854793Z",
     "iopub.status.busy": "2021-05-02T20:09:12.854168Z",
     "iopub.status.idle": "2021-05-02T20:09:12.874012Z",
     "shell.execute_reply": "2021-05-02T20:09:12.873431Z"
    },
    "papermill": {
     "duration": 0.05623,
     "end_time": "2021-05-02T20:09:12.874145",
     "exception": false,
     "start_time": "2021-05-02T20:09:12.817915",
     "status": "completed"
    },
    "tags": []
   },
   "outputs": [],
   "source": [
    "train_filter = np.where((train_labels == 3 ) | (train_labels == 8))\n",
    "test_filter = np.where((test_labels == 3) | (test_labels == 8))\n",
    "X_train, y_train = train_images[train_filter], train_labels[train_filter]\n",
    "X_test, y_test = test_images[test_filter], test_labels[test_filter]"
   ]
  },
  {
   "cell_type": "markdown",
   "id": "ruled-access",
   "metadata": {
    "papermill": {
     "duration": 0.032743,
     "end_time": "2021-05-02T20:09:12.940033",
     "exception": false,
     "start_time": "2021-05-02T20:09:12.907290",
     "status": "completed"
    },
    "tags": []
   },
   "source": [
    "We normalize the pixel values in the 0 to 1 range"
   ]
  },
  {
   "cell_type": "code",
   "execution_count": 10,
   "id": "isolated-denver",
   "metadata": {
    "execution": {
     "iopub.execute_input": "2021-05-02T20:09:13.011406Z",
     "iopub.status.busy": "2021-05-02T20:09:13.010708Z",
     "iopub.status.idle": "2021-05-02T20:09:13.063756Z",
     "shell.execute_reply": "2021-05-02T20:09:13.063236Z"
    },
    "papermill": {
     "duration": 0.090122,
     "end_time": "2021-05-02T20:09:13.063894",
     "exception": false,
     "start_time": "2021-05-02T20:09:12.973772",
     "status": "completed"
    },
    "tags": []
   },
   "outputs": [],
   "source": [
    "X_train = X_train/255.\n",
    "X_test = X_test/255."
   ]
  },
  {
   "cell_type": "markdown",
   "id": "perfect-summary",
   "metadata": {
    "papermill": {
     "duration": 0.04002,
     "end_time": "2021-05-02T20:09:13.138313",
     "exception": false,
     "start_time": "2021-05-02T20:09:13.098293",
     "status": "completed"
    },
    "tags": []
   },
   "source": [
    "Setup the labels as 1 (when the digit is 3) and 0 (when the digit is 8)"
   ]
  },
  {
   "cell_type": "code",
   "execution_count": 11,
   "id": "personalized-growing",
   "metadata": {
    "execution": {
     "iopub.execute_input": "2021-05-02T20:09:13.211597Z",
     "iopub.status.busy": "2021-05-02T20:09:13.210988Z",
     "iopub.status.idle": "2021-05-02T20:09:13.221963Z",
     "shell.execute_reply": "2021-05-02T20:09:13.222429Z"
    },
    "papermill": {
     "duration": 0.051515,
     "end_time": "2021-05-02T20:09:13.222585",
     "exception": false,
     "start_time": "2021-05-02T20:09:13.171070",
     "status": "completed"
    },
    "tags": []
   },
   "outputs": [],
   "source": [
    "y_train = 1*(y_train==3)\n",
    "y_test = 1*(y_test==3)"
   ]
  },
  {
   "cell_type": "code",
   "execution_count": 12,
   "id": "considered-virgin",
   "metadata": {
    "execution": {
     "iopub.execute_input": "2021-05-02T20:09:13.295251Z",
     "iopub.status.busy": "2021-05-02T20:09:13.294673Z",
     "iopub.status.idle": "2021-05-02T20:09:13.310960Z",
     "shell.execute_reply": "2021-05-02T20:09:13.310480Z"
    },
    "papermill": {
     "duration": 0.054108,
     "end_time": "2021-05-02T20:09:13.311088",
     "exception": false,
     "start_time": "2021-05-02T20:09:13.256980",
     "status": "completed"
    },
    "tags": []
   },
   "outputs": [
    {
     "data": {
      "text/plain": [
       "((11982, 28, 28), (1984, 28, 28))"
      ]
     },
     "execution_count": 12,
     "metadata": {},
     "output_type": "execute_result"
    }
   ],
   "source": [
    "X_train.shape, X_test.shape"
   ]
  },
  {
   "cell_type": "markdown",
   "id": "civilian-mobile",
   "metadata": {
    "papermill": {
     "duration": 0.033026,
     "end_time": "2021-05-02T20:09:13.377053",
     "exception": false,
     "start_time": "2021-05-02T20:09:13.344027",
     "status": "completed"
    },
    "tags": []
   },
   "source": [
    "### Reshape the input data to create a linear array"
   ]
  },
  {
   "cell_type": "code",
   "execution_count": 13,
   "id": "colonial-adams",
   "metadata": {
    "execution": {
     "iopub.execute_input": "2021-05-02T20:09:13.448817Z",
     "iopub.status.busy": "2021-05-02T20:09:13.448177Z",
     "iopub.status.idle": "2021-05-02T20:09:13.463124Z",
     "shell.execute_reply": "2021-05-02T20:09:13.462658Z"
    },
    "papermill": {
     "duration": 0.052368,
     "end_time": "2021-05-02T20:09:13.463252",
     "exception": false,
     "start_time": "2021-05-02T20:09:13.410884",
     "status": "completed"
    },
    "tags": []
   },
   "outputs": [
    {
     "data": {
      "text/plain": [
       "((11982, 784), (1984, 784))"
      ]
     },
     "execution_count": 13,
     "metadata": {},
     "output_type": "execute_result"
    }
   ],
   "source": [
    "X_train = X_train.reshape(X_train.shape[0], -1)\n",
    "X_test = X_test.reshape(X_test.shape[0], -1)\n",
    "X_train.shape, X_test.shape"
   ]
  },
  {
   "cell_type": "markdown",
   "id": "smart-details",
   "metadata": {
    "papermill": {
     "duration": 0.034148,
     "end_time": "2021-05-02T20:09:13.530534",
     "exception": false,
     "start_time": "2021-05-02T20:09:13.496386",
     "status": "completed"
    },
    "tags": []
   },
   "source": [
    "### Importing appropriate functions from 'Kudzu'"
   ]
  },
  {
   "cell_type": "code",
   "execution_count": 14,
   "id": "celtic-trial",
   "metadata": {
    "execution": {
     "iopub.execute_input": "2021-05-02T20:09:13.602268Z",
     "iopub.status.busy": "2021-05-02T20:09:13.601650Z",
     "iopub.status.idle": "2021-05-02T20:09:13.621722Z",
     "shell.execute_reply": "2021-05-02T20:09:13.622235Z"
    },
    "papermill": {
     "duration": 0.058332,
     "end_time": "2021-05-02T20:09:13.622382",
     "exception": false,
     "start_time": "2021-05-02T20:09:13.564050",
     "status": "completed"
    },
    "tags": []
   },
   "outputs": [],
   "source": [
    "from kudzu.layer import Sigmoid\n",
    "from kudzu.layer import Relu\n",
    "from kudzu.layer import Affine, Sigmoid\n",
    "\n",
    "from kudzu.model import Model\n",
    "from kudzu.train import Learner\n",
    "from kudzu.optim import GD\n",
    "from kudzu.data import Data, Dataloader, Sampler\n",
    "\n",
    "from kudzu.callbacks import AccCallback\n",
    "from kudzu.callbacks import ClfCallback\n",
    "\n",
    "from kudzu.loss import MSE"
   ]
  },
  {
   "cell_type": "markdown",
   "id": "coupled-customer",
   "metadata": {
    "papermill": {
     "duration": 0.033076,
     "end_time": "2021-05-02T20:09:13.689442",
     "exception": false,
     "start_time": "2021-05-02T20:09:13.656366",
     "status": "completed"
    },
    "tags": []
   },
   "source": [
    "### Let us create a `Config` class, to store important parameters. \n",
    "This class essentially plays the role of a dictionary."
   ]
  },
  {
   "cell_type": "code",
   "execution_count": 15,
   "id": "young-ceiling",
   "metadata": {
    "execution": {
     "iopub.execute_input": "2021-05-02T20:09:13.760564Z",
     "iopub.status.busy": "2021-05-02T20:09:13.759985Z",
     "iopub.status.idle": "2021-05-02T20:09:13.774386Z",
     "shell.execute_reply": "2021-05-02T20:09:13.773445Z"
    },
    "papermill": {
     "duration": 0.051385,
     "end_time": "2021-05-02T20:09:13.774592",
     "exception": false,
     "start_time": "2021-05-02T20:09:13.723207",
     "status": "completed"
    },
    "tags": []
   },
   "outputs": [],
   "source": [
    "class Config:\n",
    "    pass\n",
    "config = Config()\n",
    "config.lr = 0.001\n",
    "config.num_epochs = 251\n",
    "config.bs = 50"
   ]
  },
  {
   "cell_type": "markdown",
   "id": "according-mandate",
   "metadata": {
    "papermill": {
     "duration": 0.032462,
     "end_time": "2021-05-02T20:09:13.839683",
     "exception": false,
     "start_time": "2021-05-02T20:09:13.807221",
     "status": "completed"
    },
    "tags": []
   },
   "source": [
    "### Initializing data to the variables"
   ]
  },
  {
   "cell_type": "code",
   "execution_count": 16,
   "id": "academic-disposition",
   "metadata": {
    "execution": {
     "iopub.execute_input": "2021-05-02T20:09:13.909522Z",
     "iopub.status.busy": "2021-05-02T20:09:13.908934Z",
     "iopub.status.idle": "2021-05-02T20:09:13.922772Z",
     "shell.execute_reply": "2021-05-02T20:09:13.922295Z"
    },
    "papermill": {
     "duration": 0.050594,
     "end_time": "2021-05-02T20:09:13.922898",
     "exception": false,
     "start_time": "2021-05-02T20:09:13.872304",
     "status": "completed"
    },
    "tags": []
   },
   "outputs": [],
   "source": [
    "data = Data(X_train, y_train.reshape(-1,1))\n",
    "sampler = Sampler(data, config.bs, shuffle=True)\n",
    "\n",
    "dl = Dataloader(data, sampler)\n",
    "\n",
    "opt = GD(config.lr)\n",
    "loss = MSE()"
   ]
  },
  {
   "cell_type": "code",
   "execution_count": 17,
   "id": "featured-commission",
   "metadata": {
    "execution": {
     "iopub.execute_input": "2021-05-02T20:09:13.993598Z",
     "iopub.status.busy": "2021-05-02T20:09:13.993011Z",
     "iopub.status.idle": "2021-05-02T20:09:14.008267Z",
     "shell.execute_reply": "2021-05-02T20:09:14.008739Z"
    },
    "papermill": {
     "duration": 0.052932,
     "end_time": "2021-05-02T20:09:14.008881",
     "exception": false,
     "start_time": "2021-05-02T20:09:13.955949",
     "status": "completed"
    },
    "tags": []
   },
   "outputs": [],
   "source": [
    "training_xdata = X_train\n",
    "testing_xdata = X_test\n",
    "training_ydata = y_train.reshape(-1,1)\n",
    "testing_ydata = y_test.reshape(-1,1)"
   ]
  },
  {
   "cell_type": "markdown",
   "id": "played-safety",
   "metadata": {
    "papermill": {
     "duration": 0.032763,
     "end_time": "2021-05-02T20:09:14.074295",
     "exception": false,
     "start_time": "2021-05-02T20:09:14.041532",
     "status": "completed"
    },
    "tags": []
   },
   "source": [
    "### Running Models with the Training data\n",
    "Details about the network layers:\n",
    "- A first affine layer has 784 inputs and does 100 affine transforms. These are followed by a Relu\n",
    "- A second affine layer has 100 inputs from the 100 activations of the past layer, and does 100 affine transforms. These are followed by a Relu\n",
    "- A third affine layer has 100 activations and does 2 affine transformations to create an embedding for visualization. There is no non-linearity here.\n",
    "- A final \"logistic regression\" which has an affine transform from 2 inputs to 1 output, which is squeezed through a sigmoid.\n",
    "\n",
    "Help taken from Anshuman's Notebook."
   ]
  },
  {
   "cell_type": "code",
   "execution_count": 18,
   "id": "asian-bankruptcy",
   "metadata": {
    "execution": {
     "iopub.execute_input": "2021-05-02T20:09:14.144673Z",
     "iopub.status.busy": "2021-05-02T20:09:14.144077Z",
     "iopub.status.idle": "2021-05-02T20:09:14.162052Z",
     "shell.execute_reply": "2021-05-02T20:09:14.161524Z"
    },
    "papermill": {
     "duration": 0.05517,
     "end_time": "2021-05-02T20:09:14.162176",
     "exception": false,
     "start_time": "2021-05-02T20:09:14.107006",
     "status": "completed"
    },
    "tags": []
   },
   "outputs": [],
   "source": [
    "# layers for the Neural Network\n",
    "layers = [Affine(\"first\", 784, 100), Relu(\"first\"), Affine(\"second\", 100, 100), Relu(\"second\"), Affine(\"third\", 100, 2), Affine(\"final\", 2, 1), Sigmoid(\"final\")]\n",
    "model_nn = Model(layers)\n",
    "\n",
    "# layers for the Logistic Regression\n",
    "layers_lr = [Affine(\"logits\", 784, 1), Sigmoid(\"sigmoid\")]\n",
    "model_lr = Model(layers_lr)"
   ]
  },
  {
   "cell_type": "code",
   "execution_count": 19,
   "id": "removed-butler",
   "metadata": {
    "execution": {
     "iopub.execute_input": "2021-05-02T20:09:14.232802Z",
     "iopub.status.busy": "2021-05-02T20:09:14.232222Z",
     "iopub.status.idle": "2021-05-02T20:09:14.245634Z",
     "shell.execute_reply": "2021-05-02T20:09:14.245167Z"
    },
    "papermill": {
     "duration": 0.049955,
     "end_time": "2021-05-02T20:09:14.245760",
     "exception": false,
     "start_time": "2021-05-02T20:09:14.195805",
     "status": "completed"
    },
    "tags": []
   },
   "outputs": [],
   "source": [
    "# suffix _nn stands for Neural Network.\n",
    "learner_nn = Learner(loss, model_nn, opt, config.num_epochs)\n",
    "acc_nn = ClfCallback(learner_nn, config.bs, training_xdata , testing_xdata, training_ydata, testing_ydata)\n",
    "learner_nn.set_callbacks([acc_nn])"
   ]
  },
  {
   "cell_type": "code",
   "execution_count": 20,
   "id": "conceptual-throw",
   "metadata": {
    "execution": {
     "iopub.execute_input": "2021-05-02T20:09:14.315239Z",
     "iopub.status.busy": "2021-05-02T20:09:14.314667Z",
     "iopub.status.idle": "2021-05-02T20:10:41.936641Z",
     "shell.execute_reply": "2021-05-02T20:10:41.937192Z"
    },
    "papermill": {
     "duration": 87.658809,
     "end_time": "2021-05-02T20:10:41.937339",
     "exception": false,
     "start_time": "2021-05-02T20:09:14.278530",
     "status": "completed"
    },
    "tags": []
   },
   "outputs": [
    {
     "name": "stdout",
     "output_type": "stream",
     "text": [
      "====== Neural Network ======\n"
     ]
    },
    {
     "name": "stdout",
     "output_type": "stream",
     "text": [
      "Epoch 0, Loss 0.2475\n",
      "Training Accuracy: 0.5874, Testing Accuracy: 0.6149\n",
      "\n"
     ]
    },
    {
     "name": "stdout",
     "output_type": "stream",
     "text": [
      "Epoch 10, Loss 0.1349\n",
      "Training Accuracy: 0.9075, Testing Accuracy: 0.9279\n",
      "\n"
     ]
    },
    {
     "name": "stdout",
     "output_type": "stream",
     "text": [
      "Epoch 20, Loss 0.068\n",
      "Training Accuracy: 0.9337, Testing Accuracy: 0.9501\n",
      "\n"
     ]
    },
    {
     "name": "stdout",
     "output_type": "stream",
     "text": [
      "Epoch 30, Loss 0.0504\n",
      "Training Accuracy: 0.9448, Testing Accuracy: 0.9577\n",
      "\n"
     ]
    },
    {
     "name": "stdout",
     "output_type": "stream",
     "text": [
      "Epoch 40, Loss 0.0427\n",
      "Training Accuracy: 0.9508, Testing Accuracy: 0.9617\n",
      "\n"
     ]
    },
    {
     "name": "stdout",
     "output_type": "stream",
     "text": [
      "Epoch 50, Loss 0.0384\n",
      "Training Accuracy: 0.9549, Testing Accuracy: 0.9642\n",
      "\n"
     ]
    },
    {
     "name": "stdout",
     "output_type": "stream",
     "text": [
      "Epoch 60, Loss 0.0355\n",
      "Training Accuracy: 0.9584, Testing Accuracy: 0.9672\n",
      "\n"
     ]
    },
    {
     "name": "stdout",
     "output_type": "stream",
     "text": [
      "Epoch 70, Loss 0.0333\n",
      "Training Accuracy: 0.9599, Testing Accuracy: 0.9677\n",
      "\n"
     ]
    },
    {
     "name": "stdout",
     "output_type": "stream",
     "text": [
      "Epoch 80, Loss 0.0317\n",
      "Training Accuracy: 0.9613, Testing Accuracy: 0.9682\n",
      "\n"
     ]
    },
    {
     "name": "stdout",
     "output_type": "stream",
     "text": [
      "Epoch 90, Loss 0.0303\n",
      "Training Accuracy: 0.9630, Testing Accuracy: 0.9677\n",
      "\n"
     ]
    },
    {
     "name": "stdout",
     "output_type": "stream",
     "text": [
      "Epoch 100, Loss 0.0292\n",
      "Training Accuracy: 0.9641, Testing Accuracy: 0.9682\n",
      "\n"
     ]
    },
    {
     "name": "stdout",
     "output_type": "stream",
     "text": [
      "Epoch 110, Loss 0.0282\n",
      "Training Accuracy: 0.9658, Testing Accuracy: 0.9693\n",
      "\n"
     ]
    },
    {
     "name": "stdout",
     "output_type": "stream",
     "text": [
      "Epoch 120, Loss 0.0274\n",
      "Training Accuracy: 0.9666, Testing Accuracy: 0.9703\n",
      "\n"
     ]
    },
    {
     "name": "stdout",
     "output_type": "stream",
     "text": [
      "Epoch 130, Loss 0.0266\n",
      "Training Accuracy: 0.9676, Testing Accuracy: 0.9733\n",
      "\n"
     ]
    },
    {
     "name": "stdout",
     "output_type": "stream",
     "text": [
      "Epoch 140, Loss 0.026\n",
      "Training Accuracy: 0.9687, Testing Accuracy: 0.9733\n",
      "\n"
     ]
    },
    {
     "name": "stdout",
     "output_type": "stream",
     "text": [
      "Epoch 150, Loss 0.0253\n",
      "Training Accuracy: 0.9696, Testing Accuracy: 0.9728\n",
      "\n"
     ]
    },
    {
     "name": "stdout",
     "output_type": "stream",
     "text": [
      "Epoch 160, Loss 0.0248\n",
      "Training Accuracy: 0.9701, Testing Accuracy: 0.9728\n",
      "\n"
     ]
    },
    {
     "name": "stdout",
     "output_type": "stream",
     "text": [
      "Epoch 170, Loss 0.0243\n",
      "Training Accuracy: 0.9711, Testing Accuracy: 0.9728\n",
      "\n"
     ]
    },
    {
     "name": "stdout",
     "output_type": "stream",
     "text": [
      "Epoch 180, Loss 0.0238\n",
      "Training Accuracy: 0.9712, Testing Accuracy: 0.9728\n",
      "\n"
     ]
    },
    {
     "name": "stdout",
     "output_type": "stream",
     "text": [
      "Epoch 190, Loss 0.0233\n",
      "Training Accuracy: 0.9719, Testing Accuracy: 0.9723\n",
      "\n"
     ]
    },
    {
     "name": "stdout",
     "output_type": "stream",
     "text": [
      "Epoch 200, Loss 0.0229\n",
      "Training Accuracy: 0.9724, Testing Accuracy: 0.9723\n",
      "\n"
     ]
    },
    {
     "name": "stdout",
     "output_type": "stream",
     "text": [
      "Epoch 210, Loss 0.0225\n",
      "Training Accuracy: 0.9732, Testing Accuracy: 0.9728\n",
      "\n"
     ]
    },
    {
     "name": "stdout",
     "output_type": "stream",
     "text": [
      "Epoch 220, Loss 0.0221\n",
      "Training Accuracy: 0.9735, Testing Accuracy: 0.9733\n",
      "\n"
     ]
    },
    {
     "name": "stdout",
     "output_type": "stream",
     "text": [
      "Epoch 230, Loss 0.0218\n",
      "Training Accuracy: 0.9742, Testing Accuracy: 0.9733\n",
      "\n"
     ]
    },
    {
     "name": "stdout",
     "output_type": "stream",
     "text": [
      "Epoch 240, Loss 0.0214\n",
      "Training Accuracy: 0.9749, Testing Accuracy: 0.9728\n",
      "\n"
     ]
    },
    {
     "name": "stdout",
     "output_type": "stream",
     "text": [
      "Epoch 250, Loss 0.0211\n",
      "Training Accuracy: 0.9753, Testing Accuracy: 0.9728\n",
      "\n"
     ]
    },
    {
     "data": {
      "text/plain": [
       "0.024315930113381328"
      ]
     },
     "execution_count": 20,
     "metadata": {},
     "output_type": "execute_result"
    }
   ],
   "source": [
    "print(\"====== Neural Network ======\")\n",
    "learner_nn.train_loop(dl)"
   ]
  },
  {
   "cell_type": "markdown",
   "id": "competent-suffering",
   "metadata": {
    "papermill": {
     "duration": 0.040312,
     "end_time": "2021-05-02T20:10:42.019069",
     "exception": false,
     "start_time": "2021-05-02T20:10:41.978757",
     "status": "completed"
    },
    "tags": []
   },
   "source": [
    "### Logistic Regression based Implementation."
   ]
  },
  {
   "cell_type": "code",
   "execution_count": 21,
   "id": "qualified-psychiatry",
   "metadata": {
    "execution": {
     "iopub.execute_input": "2021-05-02T20:10:42.116085Z",
     "iopub.status.busy": "2021-05-02T20:10:42.111029Z",
     "iopub.status.idle": "2021-05-02T20:10:42.125077Z",
     "shell.execute_reply": "2021-05-02T20:10:42.124609Z"
    },
    "papermill": {
     "duration": 0.059725,
     "end_time": "2021-05-02T20:10:42.125200",
     "exception": false,
     "start_time": "2021-05-02T20:10:42.065475",
     "status": "completed"
    },
    "tags": []
   },
   "outputs": [],
   "source": [
    "learner_lr = Learner(loss, model_lr, opt, config.num_epochs)\n",
    "acc_lr = ClfCallback(learner_lr, config.bs, training_xdata , testing_xdata, training_ydata, testing_ydata)\n",
    "learner_lr.set_callbacks([acc_lr])"
   ]
  },
  {
   "cell_type": "code",
   "execution_count": 22,
   "id": "average-outside",
   "metadata": {
    "execution": {
     "iopub.execute_input": "2021-05-02T20:10:42.216196Z",
     "iopub.status.busy": "2021-05-02T20:10:42.215620Z",
     "iopub.status.idle": "2021-05-02T20:10:57.746186Z",
     "shell.execute_reply": "2021-05-02T20:10:57.746961Z"
    },
    "papermill": {
     "duration": 15.581354,
     "end_time": "2021-05-02T20:10:57.747114",
     "exception": false,
     "start_time": "2021-05-02T20:10:42.165760",
     "status": "completed"
    },
    "tags": []
   },
   "outputs": [
    {
     "name": "stdout",
     "output_type": "stream",
     "text": [
      "====== Logistic Regression ======\n",
      "Epoch 0, Loss 0.2418\n",
      "Training Accuracy: 0.6893, Testing Accuracy: 0.7238\n",
      "\n"
     ]
    },
    {
     "name": "stdout",
     "output_type": "stream",
     "text": [
      "Epoch 10, Loss 0.0995\n",
      "Training Accuracy: 0.9156, Testing Accuracy: 0.9299\n",
      "\n"
     ]
    },
    {
     "name": "stdout",
     "output_type": "stream",
     "text": [
      "Epoch 20, Loss 0.0774\n",
      "Training Accuracy: 0.9306, Testing Accuracy: 0.9395\n",
      "\n"
     ]
    },
    {
     "name": "stdout",
     "output_type": "stream",
     "text": [
      "Epoch 30, Loss 0.0671\n",
      "Training Accuracy: 0.9362, Testing Accuracy: 0.9476\n",
      "\n"
     ]
    },
    {
     "name": "stdout",
     "output_type": "stream",
     "text": [
      "Epoch 40, Loss 0.0609\n",
      "Training Accuracy: 0.9419, Testing Accuracy: 0.9516\n",
      "\n"
     ]
    },
    {
     "name": "stdout",
     "output_type": "stream",
     "text": [
      "Epoch 50, Loss 0.0566\n",
      "Training Accuracy: 0.9448, Testing Accuracy: 0.9536\n",
      "\n"
     ]
    },
    {
     "name": "stdout",
     "output_type": "stream",
     "text": [
      "Epoch 60, Loss 0.0534\n",
      "Training Accuracy: 0.9473, Testing Accuracy: 0.9551\n",
      "\n"
     ]
    },
    {
     "name": "stdout",
     "output_type": "stream",
     "text": [
      "Epoch 70, Loss 0.051\n",
      "Training Accuracy: 0.9486, Testing Accuracy: 0.9577\n",
      "\n"
     ]
    },
    {
     "name": "stdout",
     "output_type": "stream",
     "text": [
      "Epoch 80, Loss 0.049\n",
      "Training Accuracy: 0.9497, Testing Accuracy: 0.9592\n",
      "\n"
     ]
    },
    {
     "name": "stdout",
     "output_type": "stream",
     "text": [
      "Epoch 90, Loss 0.0473\n",
      "Training Accuracy: 0.9505, Testing Accuracy: 0.9607\n",
      "\n"
     ]
    },
    {
     "name": "stdout",
     "output_type": "stream",
     "text": [
      "Epoch 100, Loss 0.0459\n",
      "Training Accuracy: 0.9523, Testing Accuracy: 0.9612\n",
      "\n"
     ]
    },
    {
     "name": "stdout",
     "output_type": "stream",
     "text": [
      "Epoch 110, Loss 0.0448\n",
      "Training Accuracy: 0.9530, Testing Accuracy: 0.9627\n",
      "\n"
     ]
    },
    {
     "name": "stdout",
     "output_type": "stream",
     "text": [
      "Epoch 120, Loss 0.0437\n",
      "Training Accuracy: 0.9539, Testing Accuracy: 0.9642\n",
      "\n"
     ]
    },
    {
     "name": "stdout",
     "output_type": "stream",
     "text": [
      "Epoch 130, Loss 0.0428\n",
      "Training Accuracy: 0.9545, Testing Accuracy: 0.9647\n",
      "\n"
     ]
    },
    {
     "name": "stdout",
     "output_type": "stream",
     "text": [
      "Epoch 140, Loss 0.042\n",
      "Training Accuracy: 0.9552, Testing Accuracy: 0.9657\n",
      "\n"
     ]
    },
    {
     "name": "stdout",
     "output_type": "stream",
     "text": [
      "Epoch 150, Loss 0.0413\n",
      "Training Accuracy: 0.9558, Testing Accuracy: 0.9657\n",
      "\n"
     ]
    },
    {
     "name": "stdout",
     "output_type": "stream",
     "text": [
      "Epoch 160, Loss 0.0406\n",
      "Training Accuracy: 0.9567, Testing Accuracy: 0.9657\n",
      "\n"
     ]
    },
    {
     "name": "stdout",
     "output_type": "stream",
     "text": [
      "Epoch 170, Loss 0.04\n",
      "Training Accuracy: 0.9573, Testing Accuracy: 0.9662\n",
      "\n"
     ]
    },
    {
     "name": "stdout",
     "output_type": "stream",
     "text": [
      "Epoch 180, Loss 0.0394\n",
      "Training Accuracy: 0.9574, Testing Accuracy: 0.9657\n",
      "\n"
     ]
    },
    {
     "name": "stdout",
     "output_type": "stream",
     "text": [
      "Epoch 190, Loss 0.0389\n",
      "Training Accuracy: 0.9581, Testing Accuracy: 0.9657\n",
      "\n"
     ]
    },
    {
     "name": "stdout",
     "output_type": "stream",
     "text": [
      "Epoch 200, Loss 0.0385\n",
      "Training Accuracy: 0.9589, Testing Accuracy: 0.9657\n",
      "\n"
     ]
    },
    {
     "name": "stdout",
     "output_type": "stream",
     "text": [
      "Epoch 210, Loss 0.038\n",
      "Training Accuracy: 0.9592, Testing Accuracy: 0.9672\n",
      "\n"
     ]
    },
    {
     "name": "stdout",
     "output_type": "stream",
     "text": [
      "Epoch 220, Loss 0.0376\n",
      "Training Accuracy: 0.9595, Testing Accuracy: 0.9672\n",
      "\n"
     ]
    },
    {
     "name": "stdout",
     "output_type": "stream",
     "text": [
      "Epoch 230, Loss 0.0372\n",
      "Training Accuracy: 0.9599, Testing Accuracy: 0.9677\n",
      "\n"
     ]
    },
    {
     "name": "stdout",
     "output_type": "stream",
     "text": [
      "Epoch 240, Loss 0.0369\n",
      "Training Accuracy: 0.9603, Testing Accuracy: 0.9677\n",
      "\n"
     ]
    },
    {
     "name": "stdout",
     "output_type": "stream",
     "text": [
      "Epoch 250, Loss 0.0365\n",
      "Training Accuracy: 0.9604, Testing Accuracy: 0.9682\n",
      "\n"
     ]
    },
    {
     "data": {
      "text/plain": [
       "0.02332519174231047"
      ]
     },
     "execution_count": 22,
     "metadata": {},
     "output_type": "execute_result"
    }
   ],
   "source": [
    "print(\"====== Logistic Regression ======\")\n",
    "learner_lr.train_loop(dl)"
   ]
  },
  {
   "cell_type": "markdown",
   "id": "adjusted-possible",
   "metadata": {
    "papermill": {
     "duration": 0.048941,
     "end_time": "2021-05-02T20:10:57.844205",
     "exception": false,
     "start_time": "2021-05-02T20:10:57.795264",
     "status": "completed"
    },
    "tags": []
   },
   "source": [
    "### Comparing results of NN and LR"
   ]
  },
  {
   "cell_type": "code",
   "execution_count": 23,
   "id": "mental-multimedia",
   "metadata": {
    "execution": {
     "iopub.execute_input": "2021-05-02T20:10:57.946969Z",
     "iopub.status.busy": "2021-05-02T20:10:57.945647Z",
     "iopub.status.idle": "2021-05-02T20:10:58.185468Z",
     "shell.execute_reply": "2021-05-02T20:10:58.184959Z"
    },
    "papermill": {
     "duration": 0.293364,
     "end_time": "2021-05-02T20:10:58.185595",
     "exception": false,
     "start_time": "2021-05-02T20:10:57.892231",
     "status": "completed"
    },
    "tags": []
   },
   "outputs": [
    {
     "data": {
      "text/plain": [
       "<matplotlib.legend.Legend at 0x7f8555785438>"
      ]
     },
     "execution_count": 23,
     "metadata": {},
     "output_type": "execute_result"
    },
    {
     "data": {
      "image/png": "[encoded data removed]",
      "text/plain": [
       "<Figure size 1080x720 with 1 Axes>"
      ]
     },
     "metadata": {
      "needs_background": "light"
     },
     "output_type": "display_data"
    }
   ],
   "source": [
    "plt.figure(figsize=(15,10))\n",
    "\n",
    "# Neural Network plots\n",
    "plt.plot(acc_nn.accuracies, 'r-', label = \"Training Accuracies - NN\")\n",
    "plt.plot(acc_nn.test_accuracies, 'g-', label = \"Testing Accuracies - NN\")\n",
    "\n",
    "# Logistic Regression plots\n",
    "plt.plot(acc_lr.accuracies, 'k-', label = \"Training Accuracies - LR\")\n",
    "plt.plot(acc_lr.test_accuracies, 'b-', label = \"Testing Accuracies - LR\")\n",
    "\n",
    "plt.ylim(0.8, 1)\n",
    "\n",
    "plt.legend()\n",
    "\n"
   ]
  },
  {
   "cell_type": "markdown",
   "id": "sexual-flesh",
   "metadata": {
    "papermill": {
     "duration": 0.049793,
     "end_time": "2021-05-02T20:10:58.286150",
     "exception": false,
     "start_time": "2021-05-02T20:10:58.236357",
     "status": "completed"
    },
    "tags": []
   },
   "source": [
    "### From the plot, we can observe the following:\n",
    "- Neural Network achieves higher accuracy than the Logistic Regression model.\n",
    "- This apparently, is because of overfitting, i.e. NN captures more noise than data.\n",
    "- Testing accuracy of NN drops below the Training accuracy at higher epochs. This explains the over-fitting on training data.\n",
    "- Logistic Regression gives a reliable accuracy, without the above mentioned problem.\n"
   ]
  },
  {
   "cell_type": "markdown",
   "id": "institutional-pacific",
   "metadata": {
    "papermill": {
     "duration": 0.049798,
     "end_time": "2021-05-02T20:10:58.385333",
     "exception": false,
     "start_time": "2021-05-02T20:10:58.335535",
     "status": "completed"
    },
    "tags": []
   },
   "source": [
    "### Moving till the last but one layer (excluding it).\n",
    "#### Plotting the outputs of this layer of the NN."
   ]
  },
  {
   "cell_type": "code",
   "execution_count": 24,
   "id": "economic-server",
   "metadata": {
    "execution": {
     "iopub.execute_input": "2021-05-02T20:10:58.489424Z",
     "iopub.status.busy": "2021-05-02T20:10:58.488816Z",
     "iopub.status.idle": "2021-05-02T20:10:58.502588Z",
     "shell.execute_reply": "2021-05-02T20:10:58.503051Z"
    },
    "papermill": {
     "duration": 0.06833,
     "end_time": "2021-05-02T20:10:58.503186",
     "exception": false,
     "start_time": "2021-05-02T20:10:58.434856",
     "status": "completed"
    },
    "tags": []
   },
   "outputs": [],
   "source": [
    "model_new = Model(layers[:-2])"
   ]
  },
  {
   "cell_type": "code",
   "execution_count": 25,
   "id": "varied-upgrade",
   "metadata": {
    "execution": {
     "iopub.execute_input": "2021-05-02T20:10:58.607308Z",
     "iopub.status.busy": "2021-05-02T20:10:58.606746Z",
     "iopub.status.idle": "2021-05-02T20:10:58.629353Z",
     "shell.execute_reply": "2021-05-02T20:10:58.630083Z"
    },
    "papermill": {
     "duration": 0.077124,
     "end_time": "2021-05-02T20:10:58.630235",
     "exception": false,
     "start_time": "2021-05-02T20:10:58.553111",
     "status": "completed"
    },
    "tags": []
   },
   "outputs": [],
   "source": [
    "plot_testing = model_new(testing_xdata)"
   ]
  },
  {
   "cell_type": "code",
   "execution_count": 26,
   "id": "specific-handling",
   "metadata": {
    "execution": {
     "iopub.execute_input": "2021-05-02T20:10:58.739289Z",
     "iopub.status.busy": "2021-05-02T20:10:58.738725Z",
     "iopub.status.idle": "2021-05-02T20:10:58.963690Z",
     "shell.execute_reply": "2021-05-02T20:10:58.962729Z"
    },
    "papermill": {
     "duration": 0.283524,
     "end_time": "2021-05-02T20:10:58.963874",
     "exception": false,
     "start_time": "2021-05-02T20:10:58.680350",
     "status": "completed"
    },
    "tags": []
   },
   "outputs": [
    {
     "data": {
      "text/plain": [
       "Text(0.5, 1.0, 'Outputs')"
      ]
     },
     "execution_count": 26,
     "metadata": {},
     "output_type": "execute_result"
    },
    {
     "data": {
      "image/png": "[encoded data removed]",
      "text/plain": [
       "<Figure size 576x504 with 1 Axes>"
      ]
     },
     "metadata": {
      "needs_background": "light"
     },
     "output_type": "display_data"
    }
   ],
   "source": [
    "plt.figure(figsize=(8,7))\n",
    "plt.scatter(plot_testing[:,0], plot_testing[:,1], alpha = 0.1, c = y_test.ravel());\n",
    "plt.title('Outputs')"
   ]
  },
  {
   "cell_type": "markdown",
   "id": "described-knowing",
   "metadata": {
    "papermill": {
     "duration": 0.053082,
     "end_time": "2021-05-02T20:10:59.095540",
     "exception": false,
     "start_time": "2021-05-02T20:10:59.042458",
     "status": "completed"
    },
    "tags": []
   },
   "source": [
    "### Plotting probability contours"
   ]
  },
  {
   "cell_type": "code",
   "execution_count": 27,
   "id": "needed-growing",
   "metadata": {
    "execution": {
     "iopub.execute_input": "2021-05-02T20:10:59.206647Z",
     "iopub.status.busy": "2021-05-02T20:10:59.206066Z",
     "iopub.status.idle": "2021-05-02T20:10:59.219968Z",
     "shell.execute_reply": "2021-05-02T20:10:59.219475Z"
    },
    "papermill": {
     "duration": 0.071376,
     "end_time": "2021-05-02T20:10:59.220117",
     "exception": false,
     "start_time": "2021-05-02T20:10:59.148741",
     "status": "completed"
    },
    "tags": []
   },
   "outputs": [],
   "source": [
    "model_prob = Model(layers[-2:]) "
   ]
  },
  {
   "cell_type": "code",
   "execution_count": 28,
   "id": "introductory-enforcement",
   "metadata": {
    "execution": {
     "iopub.execute_input": "2021-05-02T20:10:59.330757Z",
     "iopub.status.busy": "2021-05-02T20:10:59.330039Z",
     "iopub.status.idle": "2021-05-02T20:10:59.346916Z",
     "shell.execute_reply": "2021-05-02T20:10:59.347449Z"
    },
    "papermill": {
     "duration": 0.074636,
     "end_time": "2021-05-02T20:10:59.347585",
     "exception": false,
     "start_time": "2021-05-02T20:10:59.272949",
     "status": "completed"
    },
    "tags": []
   },
   "outputs": [],
   "source": [
    "# Adjust the x and y ranges according to the above generated plot.\n",
    "x_range = np.linspace(-4, 1, 100) \n",
    "y_range = np.linspace(-6, 6, 100) \n",
    "x_grid, y_grid = np.meshgrid(x_range, y_range) # x_grid and y_grig are of size 100 X 100\n",
    "\n",
    "# converting x_grid and y_grid to continuous arrays\n",
    "x_grid_flat = np.ravel(x_grid)\n",
    "y_grid_flat = np.ravel(y_grid)\n",
    "\n",
    "# The last layer of the current model takes two columns as input. Hence transpose of np.vstack() is required.\n",
    "X = np.vstack((x_grid_flat, y_grid_flat)).T\n",
    "\n",
    "# x_grid and y_grid are of size 100 x 100\n",
    "probability_contour = model_prob(X).reshape(100,100) "
   ]
  },
  {
   "cell_type": "code",
   "execution_count": 29,
   "id": "understood-landing",
   "metadata": {
    "execution": {
     "iopub.execute_input": "2021-05-02T20:10:59.463287Z",
     "iopub.status.busy": "2021-05-02T20:10:59.462764Z",
     "iopub.status.idle": "2021-05-02T20:10:59.719291Z",
     "shell.execute_reply": "2021-05-02T20:10:59.718809Z"
    },
    "papermill": {
     "duration": 0.318781,
     "end_time": "2021-05-02T20:10:59.719420",
     "exception": false,
     "start_time": "2021-05-02T20:10:59.400639",
     "status": "completed"
    },
    "tags": []
   },
   "outputs": [
    {
     "data": {
      "image/png": "[encoded data removed]",
      "text/plain": [
       "<Figure size 720x648 with 1 Axes>"
      ]
     },
     "metadata": {
      "needs_background": "light"
     },
     "output_type": "display_data"
    }
   ],
   "source": [
    "plt.figure(figsize=(10,9))\n",
    "plt.scatter(plot_testing[:,0], plot_testing[:,1], alpha = 0.1, c = y_test.ravel())\n",
    "contours = plt.contour(x_grid,y_grid,probability_contour)\n",
    "plt.title('Probability Contours')\n",
    "plt.clabel(contours, inline = True );"
   ]
  }
 ],
 "metadata": {
  "kernelspec": {
   "display_name": "Python 3",
   "language": "python",
   "name": "python3"
  },
  "language_info": {
   "codemirror_mode": {
    "name": "ipython",
    "version": 3
   },
   "file_extension": ".py",
   "mimetype": "text/x-python",
   "name": "python",
   "nbconvert_exporter": "python",
   "pygments_lexer": "ipython3",
   "version": "3.6.13"
  },
  "papermill": {
   "duration": 327.419524,
   "end_time": "2021-05-02T20:11:00.188168",
   "environment_variables": {},
   "exception": null,
   "input_path": "2020-08-11-NeuralNetwork.ipynb",
   "output_path": "2020-08-11-NeuralNetwork.ipynb",
   "parameters": {},
   "start_time": "2021-05-02T20:05:32.768644",
   "version": "2.1.2"
  }
 },
 "nbformat": 4,
 "nbformat_minor": 5
}