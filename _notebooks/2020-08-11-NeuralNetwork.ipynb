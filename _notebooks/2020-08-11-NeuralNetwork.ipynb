{
 "cells": [
  {
   "cell_type": "markdown",
   "metadata": {
    "papermill": {
     "duration": 0.032359,
     "end_time": "2020-11-29T00:06:50.563368",
     "exception": false,
     "start_time": "2020-11-29T00:06:50.531009",
     "status": "completed"
    },
    "tags": []
   },
   "source": [
    "# \"A Basic Neural Network: Differentiate Hand-Written Digits\"\n",
    "\n",
    "- badges: true\n",
    "- author: Akshith Sriram"
   ]
  },
  {
   "cell_type": "markdown",
   "metadata": {
    "papermill": {
     "duration": 0.025147,
     "end_time": "2020-11-29T00:06:50.614510",
     "exception": false,
     "start_time": "2020-11-29T00:06:50.589363",
     "status": "completed"
    },
    "tags": []
   },
   "source": [
    "### Key Objectives:\n",
    "- Building a neural network that differentiates two hand-written digits 3 and 8.\n",
    "- Comparing the results of this Neural Network (NN) to that of a Logistic Regression (LR) model.\n",
    "\n",
    "### Requirements:\n",
    "- 'Kudzu' : A neural network library that was designed during our course by [Univ.AI](www.univ.ai). \n",
    "- MNIST Database\n",
    "\n",
    "If MNIST is not installed, use the command `!pip install mnist` given below.\n",
    "It can be run both from the command line and Jupyter Notebook."
   ]
  },
  {
   "cell_type": "code",
   "execution_count": 1,
   "metadata": {
    "execution": {
     "iopub.execute_input": "2020-11-29T00:06:50.669841Z",
     "iopub.status.busy": "2020-11-29T00:06:50.669219Z",
     "iopub.status.idle": "2020-11-29T00:06:52.104167Z",
     "shell.execute_reply": "2020-11-29T00:06:52.104760Z"
    },
    "papermill": {
     "duration": 1.465329,
     "end_time": "2020-11-29T00:06:52.104955",
     "exception": false,
     "start_time": "2020-11-29T00:06:50.639626",
     "status": "completed"
    },
    "tags": []
   },
   "outputs": [
    {
     "name": "stdout",
     "output_type": "stream",
     "text": [
      "Collecting mnist\r\n"
     ]
    },
    {
     "name": "stdout",
     "output_type": "stream",
     "text": [
      "  Downloading mnist-0.2.2-py2.py3-none-any.whl (3.5 kB)\r\n",
      "Requirement already satisfied: numpy in /opt/hostedtoolcache/Python/3.6.12/x64/lib/python3.6/site-packages (from mnist) (1.19.4)\r\n"
     ]
    },
    {
     "name": "stdout",
     "output_type": "stream",
     "text": [
      "Installing collected packages: mnist\r\n"
     ]
    },
    {
     "name": "stdout",
     "output_type": "stream",
     "text": [
      "Successfully installed mnist-0.2.2\r\n"
     ]
    }
   ],
   "source": [
    "!pip install mnist "
   ]
  },
  {
   "cell_type": "markdown",
   "metadata": {
    "papermill": {
     "duration": 0.026413,
     "end_time": "2020-11-29T00:06:52.158669",
     "exception": false,
     "start_time": "2020-11-29T00:06:52.132256",
     "status": "completed"
    },
    "tags": []
   },
   "source": [
    "#### Importing necessary libraries"
   ]
  },
  {
   "cell_type": "code",
   "execution_count": 2,
   "metadata": {
    "execution": {
     "iopub.execute_input": "2020-11-29T00:06:52.222206Z",
     "iopub.status.busy": "2020-11-29T00:06:52.221608Z",
     "iopub.status.idle": "2020-11-29T00:06:52.807488Z",
     "shell.execute_reply": "2020-11-29T00:06:52.806725Z"
    },
    "papermill": {
     "duration": 0.621274,
     "end_time": "2020-11-29T00:06:52.807695",
     "exception": false,
     "start_time": "2020-11-29T00:06:52.186421",
     "status": "completed"
    },
    "tags": []
   },
   "outputs": [],
   "source": [
    "%load_ext autoreload\n",
    "%autoreload 2\n",
    "\n",
    "%matplotlib inline\n",
    "import matplotlib.pyplot as plt\n",
    "\n",
    "import numpy as np\n",
    "import pandas as pd"
   ]
  },
  {
   "cell_type": "markdown",
   "metadata": {
    "papermill": {
     "duration": 0.080416,
     "end_time": "2020-11-29T00:06:52.916147",
     "exception": false,
     "start_time": "2020-11-29T00:06:52.835731",
     "status": "completed"
    },
    "tags": []
   },
   "source": [
    "### Preparing the Data"
   ]
  },
  {
   "cell_type": "code",
   "execution_count": 3,
   "metadata": {
    "execution": {
     "iopub.execute_input": "2020-11-29T00:06:52.981650Z",
     "iopub.status.busy": "2020-11-29T00:06:52.976437Z",
     "iopub.status.idle": "2020-11-29T00:06:52.989119Z",
     "shell.execute_reply": "2020-11-29T00:06:52.988585Z"
    },
    "papermill": {
     "duration": 0.043216,
     "end_time": "2020-11-29T00:06:52.989254",
     "exception": false,
     "start_time": "2020-11-29T00:06:52.946038",
     "status": "completed"
    },
    "tags": []
   },
   "outputs": [],
   "source": [
    "import mnist"
   ]
  },
  {
   "cell_type": "code",
   "execution_count": 4,
   "metadata": {
    "execution": {
     "iopub.execute_input": "2020-11-29T00:06:53.046422Z",
     "iopub.status.busy": "2020-11-29T00:06:53.045836Z",
     "iopub.status.idle": "2020-11-29T00:06:53.788192Z",
     "shell.execute_reply": "2020-11-29T00:06:53.787511Z"
    },
    "papermill": {
     "duration": 0.772755,
     "end_time": "2020-11-29T00:06:53.788399",
     "exception": false,
     "start_time": "2020-11-29T00:06:53.015644",
     "status": "completed"
    },
    "tags": []
   },
   "outputs": [],
   "source": [
    "train_images = mnist.train_images()\n",
    "train_labels = mnist.train_labels()"
   ]
  },
  {
   "cell_type": "code",
   "execution_count": 5,
   "metadata": {
    "execution": {
     "iopub.execute_input": "2020-11-29T00:06:53.847414Z",
     "iopub.status.busy": "2020-11-29T00:06:53.846813Z",
     "iopub.status.idle": "2020-11-29T00:06:53.863551Z",
     "shell.execute_reply": "2020-11-29T00:06:53.863044Z"
    },
    "papermill": {
     "duration": 0.046866,
     "end_time": "2020-11-29T00:06:53.863687",
     "exception": false,
     "start_time": "2020-11-29T00:06:53.816821",
     "status": "completed"
    },
    "tags": []
   },
   "outputs": [
    {
     "data": {
      "text/plain": [
       "((60000, 28, 28), (60000,))"
      ]
     },
     "execution_count": 5,
     "metadata": {},
     "output_type": "execute_result"
    }
   ],
   "source": [
    "train_images.shape, train_labels.shape"
   ]
  },
  {
   "cell_type": "code",
   "execution_count": 6,
   "metadata": {
    "execution": {
     "iopub.execute_input": "2020-11-29T00:06:53.921591Z",
     "iopub.status.busy": "2020-11-29T00:06:53.921000Z",
     "iopub.status.idle": "2020-11-29T00:06:54.190512Z",
     "shell.execute_reply": "2020-11-29T00:06:54.191067Z"
    },
    "papermill": {
     "duration": 0.300534,
     "end_time": "2020-11-29T00:06:54.191235",
     "exception": false,
     "start_time": "2020-11-29T00:06:53.890701",
     "status": "completed"
    },
    "tags": []
   },
   "outputs": [],
   "source": [
    "test_images = mnist.test_images()\n",
    "test_labels = mnist.test_labels()"
   ]
  },
  {
   "cell_type": "code",
   "execution_count": 7,
   "metadata": {
    "execution": {
     "iopub.execute_input": "2020-11-29T00:06:54.253564Z",
     "iopub.status.busy": "2020-11-29T00:06:54.252980Z",
     "iopub.status.idle": "2020-11-29T00:06:54.264524Z",
     "shell.execute_reply": "2020-11-29T00:06:54.263996Z"
    },
    "papermill": {
     "duration": 0.046263,
     "end_time": "2020-11-29T00:06:54.264658",
     "exception": false,
     "start_time": "2020-11-29T00:06:54.218395",
     "status": "completed"
    },
    "tags": []
   },
   "outputs": [
    {
     "data": {
      "text/plain": [
       "((10000, 28, 28), (10000,))"
      ]
     },
     "execution_count": 7,
     "metadata": {},
     "output_type": "execute_result"
    }
   ],
   "source": [
    "test_images.shape, test_labels.shape"
   ]
  },
  {
   "cell_type": "code",
   "execution_count": 8,
   "metadata": {
    "execution": {
     "iopub.execute_input": "2020-11-29T00:06:54.323822Z",
     "iopub.status.busy": "2020-11-29T00:06:54.323056Z",
     "iopub.status.idle": "2020-11-29T00:06:54.470851Z",
     "shell.execute_reply": "2020-11-29T00:06:54.471311Z"
    },
    "papermill": {
     "duration": 0.179674,
     "end_time": "2020-11-29T00:06:54.471474",
     "exception": false,
     "start_time": "2020-11-29T00:06:54.291800",
     "status": "completed"
    },
    "tags": []
   },
   "outputs": [
    {
     "name": "stdout",
     "output_type": "stream",
     "text": [
      "2\n"
     ]
    },
    {
     "data": {
      "text/plain": [
       "<matplotlib.image.AxesImage at 0x7f8a25aaa080>"
      ]
     },
     "execution_count": 8,
     "metadata": {},
     "output_type": "execute_result"
    },
    {
     "data": {
      "image/png": "[encoded data removed]",
      "text/plain": [
       "<Figure size 432x288 with 1 Axes>"
      ]
     },
     "metadata": {
      "needs_background": "light"
     },
     "output_type": "display_data"
    }
   ],
   "source": [
    "image_index = 7776 # You may select anything up to 60,000\n",
    "print(train_labels[image_index]) \n",
    "plt.imshow(train_images[image_index], cmap='Greys')"
   ]
  },
  {
   "cell_type": "markdown",
   "metadata": {
    "papermill": {
     "duration": 0.028193,
     "end_time": "2020-11-29T00:06:54.528018",
     "exception": false,
     "start_time": "2020-11-29T00:06:54.499825",
     "status": "completed"
    },
    "tags": []
   },
   "source": [
    "## Filter data to get 3 and 8 out"
   ]
  },
  {
   "cell_type": "code",
   "execution_count": 9,
   "metadata": {
    "execution": {
     "iopub.execute_input": "2020-11-29T00:06:54.597751Z",
     "iopub.status.busy": "2020-11-29T00:06:54.597140Z",
     "iopub.status.idle": "2020-11-29T00:06:54.608466Z",
     "shell.execute_reply": "2020-11-29T00:06:54.608929Z"
    },
    "papermill": {
     "duration": 0.052868,
     "end_time": "2020-11-29T00:06:54.609084",
     "exception": false,
     "start_time": "2020-11-29T00:06:54.556216",
     "status": "completed"
    },
    "tags": []
   },
   "outputs": [],
   "source": [
    "train_filter = np.where((train_labels == 3 ) | (train_labels == 8))\n",
    "test_filter = np.where((test_labels == 3) | (test_labels == 8))\n",
    "X_train, y_train = train_images[train_filter], train_labels[train_filter]\n",
    "X_test, y_test = test_images[test_filter], test_labels[test_filter]"
   ]
  },
  {
   "cell_type": "markdown",
   "metadata": {
    "papermill": {
     "duration": 0.028179,
     "end_time": "2020-11-29T00:06:54.665493",
     "exception": false,
     "start_time": "2020-11-29T00:06:54.637314",
     "status": "completed"
    },
    "tags": []
   },
   "source": [
    "We normalize the pixel values in the 0 to 1 range"
   ]
  },
  {
   "cell_type": "code",
   "execution_count": 10,
   "metadata": {
    "execution": {
     "iopub.execute_input": "2020-11-29T00:06:54.725961Z",
     "iopub.status.busy": "2020-11-29T00:06:54.725372Z",
     "iopub.status.idle": "2020-11-29T00:06:54.778403Z",
     "shell.execute_reply": "2020-11-29T00:06:54.778903Z"
    },
    "papermill": {
     "duration": 0.08543,
     "end_time": "2020-11-29T00:06:54.779064",
     "exception": false,
     "start_time": "2020-11-29T00:06:54.693634",
     "status": "completed"
    },
    "tags": []
   },
   "outputs": [],
   "source": [
    "X_train = X_train/255.\n",
    "X_test = X_test/255."
   ]
  },
  {
   "cell_type": "markdown",
   "metadata": {
    "papermill": {
     "duration": 0.028238,
     "end_time": "2020-11-29T00:06:54.835719",
     "exception": false,
     "start_time": "2020-11-29T00:06:54.807481",
     "status": "completed"
    },
    "tags": []
   },
   "source": [
    "Setup the labels as 1 (when the digit is 3) and 0 (when the digit is 8)"
   ]
  },
  {
   "cell_type": "code",
   "execution_count": 11,
   "metadata": {
    "execution": {
     "iopub.execute_input": "2020-11-29T00:06:54.897003Z",
     "iopub.status.busy": "2020-11-29T00:06:54.896382Z",
     "iopub.status.idle": "2020-11-29T00:06:54.911359Z",
     "shell.execute_reply": "2020-11-29T00:06:54.911828Z"
    },
    "papermill": {
     "duration": 0.047963,
     "end_time": "2020-11-29T00:06:54.911981",
     "exception": false,
     "start_time": "2020-11-29T00:06:54.864018",
     "status": "completed"
    },
    "tags": []
   },
   "outputs": [],
   "source": [
    "y_train = 1*(y_train==3)\n",
    "y_test = 1*(y_test==3)"
   ]
  },
  {
   "cell_type": "code",
   "execution_count": 12,
   "metadata": {
    "execution": {
     "iopub.execute_input": "2020-11-29T00:06:54.973304Z",
     "iopub.status.busy": "2020-11-29T00:06:54.972717Z",
     "iopub.status.idle": "2020-11-29T00:06:54.986189Z",
     "shell.execute_reply": "2020-11-29T00:06:54.986634Z"
    },
    "papermill": {
     "duration": 0.04597,
     "end_time": "2020-11-29T00:06:54.986782",
     "exception": false,
     "start_time": "2020-11-29T00:06:54.940812",
     "status": "completed"
    },
    "tags": []
   },
   "outputs": [
    {
     "data": {
      "text/plain": [
       "((11982, 28, 28), (1984, 28, 28))"
      ]
     },
     "execution_count": 12,
     "metadata": {},
     "output_type": "execute_result"
    }
   ],
   "source": [
    "X_train.shape, X_test.shape"
   ]
  },
  {
   "cell_type": "markdown",
   "metadata": {
    "papermill": {
     "duration": 0.028437,
     "end_time": "2020-11-29T00:06:55.043647",
     "exception": false,
     "start_time": "2020-11-29T00:06:55.015210",
     "status": "completed"
    },
    "tags": []
   },
   "source": [
    "### Reshape the input data to create a linear array"
   ]
  },
  {
   "cell_type": "code",
   "execution_count": 13,
   "metadata": {
    "execution": {
     "iopub.execute_input": "2020-11-29T00:06:55.106130Z",
     "iopub.status.busy": "2020-11-29T00:06:55.105537Z",
     "iopub.status.idle": "2020-11-29T00:06:55.119560Z",
     "shell.execute_reply": "2020-11-29T00:06:55.119084Z"
    },
    "papermill": {
     "duration": 0.047494,
     "end_time": "2020-11-29T00:06:55.119699",
     "exception": false,
     "start_time": "2020-11-29T00:06:55.072205",
     "status": "completed"
    },
    "tags": []
   },
   "outputs": [
    {
     "data": {
      "text/plain": [
       "((11982, 784), (1984, 784))"
      ]
     },
     "execution_count": 13,
     "metadata": {},
     "output_type": "execute_result"
    }
   ],
   "source": [
    "X_train = X_train.reshape(X_train.shape[0], -1)\n",
    "X_test = X_test.reshape(X_test.shape[0], -1)\n",
    "X_train.shape, X_test.shape"
   ]
  },
  {
   "cell_type": "markdown",
   "metadata": {
    "papermill": {
     "duration": 0.028755,
     "end_time": "2020-11-29T00:06:55.177312",
     "exception": false,
     "start_time": "2020-11-29T00:06:55.148557",
     "status": "completed"
    },
    "tags": []
   },
   "source": [
    "### Importing appropriate functions from 'Kudzu'"
   ]
  },
  {
   "cell_type": "code",
   "execution_count": 14,
   "metadata": {
    "execution": {
     "iopub.execute_input": "2020-11-29T00:06:55.241785Z",
     "iopub.status.busy": "2020-11-29T00:06:55.241172Z",
     "iopub.status.idle": "2020-11-29T00:06:55.264568Z",
     "shell.execute_reply": "2020-11-29T00:06:55.263837Z"
    },
    "papermill": {
     "duration": 0.058494,
     "end_time": "2020-11-29T00:06:55.264747",
     "exception": false,
     "start_time": "2020-11-29T00:06:55.206253",
     "status": "completed"
    },
    "tags": []
   },
   "outputs": [],
   "source": [
    "from kudzu.layer import Sigmoid\n",
    "from kudzu.layer import Relu\n",
    "from kudzu.layer import Affine, Sigmoid\n",
    "\n",
    "from kudzu.model import Model\n",
    "from kudzu.train import Learner\n",
    "from kudzu.optim import GD\n",
    "from kudzu.data import Data, Dataloader, Sampler\n",
    "\n",
    "from kudzu.callbacks import AccCallback\n",
    "from kudzu.callbacks import ClfCallback\n",
    "\n",
    "from kudzu.loss import MSE"
   ]
  },
  {
   "cell_type": "markdown",
   "metadata": {
    "papermill": {
     "duration": 0.028584,
     "end_time": "2020-11-29T00:06:55.322315",
     "exception": false,
     "start_time": "2020-11-29T00:06:55.293731",
     "status": "completed"
    },
    "tags": []
   },
   "source": [
    "### Let us create a `Config` class, to store important parameters. \n",
    "This class essentially plays the role of a dictionary."
   ]
  },
  {
   "cell_type": "code",
   "execution_count": 15,
   "metadata": {
    "execution": {
     "iopub.execute_input": "2020-11-29T00:06:55.389463Z",
     "iopub.status.busy": "2020-11-29T00:06:55.388872Z",
     "iopub.status.idle": "2020-11-29T00:06:55.399604Z",
     "shell.execute_reply": "2020-11-29T00:06:55.399124Z"
    },
    "papermill": {
     "duration": 0.048561,
     "end_time": "2020-11-29T00:06:55.399736",
     "exception": false,
     "start_time": "2020-11-29T00:06:55.351175",
     "status": "completed"
    },
    "tags": []
   },
   "outputs": [],
   "source": [
    "class Config:\n",
    "    pass\n",
    "config = Config()\n",
    "config.lr = 0.001\n",
    "config.num_epochs = 251\n",
    "config.bs = 50"
   ]
  },
  {
   "cell_type": "markdown",
   "metadata": {
    "papermill": {
     "duration": 0.028617,
     "end_time": "2020-11-29T00:06:55.457026",
     "exception": false,
     "start_time": "2020-11-29T00:06:55.428409",
     "status": "completed"
    },
    "tags": []
   },
   "source": [
    "### Initializing data to the variables"
   ]
  },
  {
   "cell_type": "code",
   "execution_count": 16,
   "metadata": {
    "execution": {
     "iopub.execute_input": "2020-11-29T00:06:55.520647Z",
     "iopub.status.busy": "2020-11-29T00:06:55.520034Z",
     "iopub.status.idle": "2020-11-29T00:06:55.533375Z",
     "shell.execute_reply": "2020-11-29T00:06:55.533820Z"
    },
    "papermill": {
     "duration": 0.047888,
     "end_time": "2020-11-29T00:06:55.533971",
     "exception": false,
     "start_time": "2020-11-29T00:06:55.486083",
     "status": "completed"
    },
    "tags": []
   },
   "outputs": [],
   "source": [
    "data = Data(X_train, y_train.reshape(-1,1))\n",
    "sampler = Sampler(data, config.bs, shuffle=True)\n",
    "\n",
    "dl = Dataloader(data, sampler)\n",
    "\n",
    "opt = GD(config.lr)\n",
    "loss = MSE()"
   ]
  },
  {
   "cell_type": "code",
   "execution_count": 17,
   "metadata": {
    "execution": {
     "iopub.execute_input": "2020-11-29T00:06:55.596829Z",
     "iopub.status.busy": "2020-11-29T00:06:55.596210Z",
     "iopub.status.idle": "2020-11-29T00:06:55.611190Z",
     "shell.execute_reply": "2020-11-29T00:06:55.610712Z"
    },
    "papermill": {
     "duration": 0.048749,
     "end_time": "2020-11-29T00:06:55.611324",
     "exception": false,
     "start_time": "2020-11-29T00:06:55.562575",
     "status": "completed"
    },
    "tags": []
   },
   "outputs": [],
   "source": [
    "training_xdata = X_train\n",
    "testing_xdata = X_test\n",
    "training_ydata = y_train.reshape(-1,1)\n",
    "testing_ydata = y_test.reshape(-1,1)"
   ]
  },
  {
   "cell_type": "markdown",
   "metadata": {
    "papermill": {
     "duration": 0.028772,
     "end_time": "2020-11-29T00:06:55.668945",
     "exception": false,
     "start_time": "2020-11-29T00:06:55.640173",
     "status": "completed"
    },
    "tags": []
   },
   "source": [
    "### Running Models with the Training data\n",
    "Details about the network layers:\n",
    "- A first affine layer has 784 inputs and does 100 affine transforms. These are followed by a Relu\n",
    "- A second affine layer has 100 inputs from the 100 activations of the past layer, and does 100 affine transforms. These are followed by a Relu\n",
    "- A third affine layer has 100 activations and does 2 affine transformations to create an embedding for visualization. There is no non-linearity here.\n",
    "- A final \"logistic regression\" which has an affine transform from 2 inputs to 1 output, which is squeezed through a sigmoid.\n",
    "\n",
    "Help taken from Anshuman's Notebook."
   ]
  },
  {
   "cell_type": "code",
   "execution_count": 18,
   "metadata": {
    "execution": {
     "iopub.execute_input": "2020-11-29T00:06:55.732663Z",
     "iopub.status.busy": "2020-11-29T00:06:55.732040Z",
     "iopub.status.idle": "2020-11-29T00:06:55.750614Z",
     "shell.execute_reply": "2020-11-29T00:06:55.750135Z"
    },
    "papermill": {
     "duration": 0.053244,
     "end_time": "2020-11-29T00:06:55.750758",
     "exception": false,
     "start_time": "2020-11-29T00:06:55.697514",
     "status": "completed"
    },
    "tags": []
   },
   "outputs": [],
   "source": [
    "# layers for the Neural Network\n",
    "layers = [Affine(\"first\", 784, 100), Relu(\"first\"), Affine(\"second\", 100, 100), Relu(\"second\"), Affine(\"third\", 100, 2), Affine(\"final\", 2, 1), Sigmoid(\"final\")]\n",
    "model_nn = Model(layers)\n",
    "\n",
    "# layers for the Logistic Regression\n",
    "layers_lr = [Affine(\"logits\", 784, 1), Sigmoid(\"sigmoid\")]\n",
    "model_lr = Model(layers_lr)"
   ]
  },
  {
   "cell_type": "code",
   "execution_count": 19,
   "metadata": {
    "execution": {
     "iopub.execute_input": "2020-11-29T00:06:55.817789Z",
     "iopub.status.busy": "2020-11-29T00:06:55.817192Z",
     "iopub.status.idle": "2020-11-29T00:06:55.828807Z",
     "shell.execute_reply": "2020-11-29T00:06:55.828318Z"
    },
    "papermill": {
     "duration": 0.048769,
     "end_time": "2020-11-29T00:06:55.828942",
     "exception": false,
     "start_time": "2020-11-29T00:06:55.780173",
     "status": "completed"
    },
    "tags": []
   },
   "outputs": [],
   "source": [
    "# suffix _nn stands for Neural Network.\n",
    "learner_nn = Learner(loss, model_nn, opt, config.num_epochs)\n",
    "acc_nn = ClfCallback(learner_nn, config.bs, training_xdata , testing_xdata, training_ydata, testing_ydata)\n",
    "learner_nn.set_callbacks([acc_nn])"
   ]
  },
  {
   "cell_type": "code",
   "execution_count": 20,
   "metadata": {
    "execution": {
     "iopub.execute_input": "2020-11-29T00:06:55.897051Z",
     "iopub.status.busy": "2020-11-29T00:06:55.896450Z",
     "iopub.status.idle": "2020-11-29T00:08:23.510685Z",
     "shell.execute_reply": "2020-11-29T00:08:23.511245Z"
    },
    "papermill": {
     "duration": 87.653691,
     "end_time": "2020-11-29T00:08:23.511400",
     "exception": false,
     "start_time": "2020-11-29T00:06:55.857709",
     "status": "completed"
    },
    "tags": []
   },
   "outputs": [
    {
     "name": "stdout",
     "output_type": "stream",
     "text": [
      "====== Neural Network ======\n"
     ]
    },
    {
     "name": "stdout",
     "output_type": "stream",
     "text": [
      "Epoch 0, Loss 0.2512\n",
      "Training Accuracy: 0.5916, Testing Accuracy: 0.5852\n",
      "\n"
     ]
    },
    {
     "name": "stdout",
     "output_type": "stream",
     "text": [
      "Epoch 10, Loss 0.1307\n",
      "Training Accuracy: 0.8894, Testing Accuracy: 0.8962\n",
      "\n"
     ]
    },
    {
     "name": "stdout",
     "output_type": "stream",
     "text": [
      "Epoch 20, Loss 0.069\n",
      "Training Accuracy: 0.9296, Testing Accuracy: 0.9441\n",
      "\n"
     ]
    },
    {
     "name": "stdout",
     "output_type": "stream",
     "text": [
      "Epoch 30, Loss 0.0497\n",
      "Training Accuracy: 0.9488, Testing Accuracy: 0.9602\n",
      "\n"
     ]
    },
    {
     "name": "stdout",
     "output_type": "stream",
     "text": [
      "Epoch 40, Loss 0.0412\n",
      "Training Accuracy: 0.9549, Testing Accuracy: 0.9647\n",
      "\n"
     ]
    },
    {
     "name": "stdout",
     "output_type": "stream",
     "text": [
      "Epoch 50, Loss 0.0366\n",
      "Training Accuracy: 0.9586, Testing Accuracy: 0.9677\n",
      "\n"
     ]
    },
    {
     "name": "stdout",
     "output_type": "stream",
     "text": [
      "Epoch 60, Loss 0.0336\n",
      "Training Accuracy: 0.9612, Testing Accuracy: 0.9698\n",
      "\n"
     ]
    },
    {
     "name": "stdout",
     "output_type": "stream",
     "text": [
      "Epoch 70, Loss 0.0315\n",
      "Training Accuracy: 0.9641, Testing Accuracy: 0.9703\n",
      "\n"
     ]
    },
    {
     "name": "stdout",
     "output_type": "stream",
     "text": [
      "Epoch 80, Loss 0.0298\n",
      "Training Accuracy: 0.9665, Testing Accuracy: 0.9708\n",
      "\n"
     ]
    },
    {
     "name": "stdout",
     "output_type": "stream",
     "text": [
      "Epoch 90, Loss 0.0285\n",
      "Training Accuracy: 0.9687, Testing Accuracy: 0.9728\n",
      "\n"
     ]
    },
    {
     "name": "stdout",
     "output_type": "stream",
     "text": [
      "Epoch 100, Loss 0.0274\n",
      "Training Accuracy: 0.9695, Testing Accuracy: 0.9733\n",
      "\n"
     ]
    },
    {
     "name": "stdout",
     "output_type": "stream",
     "text": [
      "Epoch 110, Loss 0.0265\n",
      "Training Accuracy: 0.9703, Testing Accuracy: 0.9738\n",
      "\n"
     ]
    },
    {
     "name": "stdout",
     "output_type": "stream",
     "text": [
      "Epoch 120, Loss 0.0256\n",
      "Training Accuracy: 0.9709, Testing Accuracy: 0.9748\n",
      "\n"
     ]
    },
    {
     "name": "stdout",
     "output_type": "stream",
     "text": [
      "Epoch 130, Loss 0.0249\n",
      "Training Accuracy: 0.9719, Testing Accuracy: 0.9748\n",
      "\n"
     ]
    },
    {
     "name": "stdout",
     "output_type": "stream",
     "text": [
      "Epoch 140, Loss 0.0242\n",
      "Training Accuracy: 0.9725, Testing Accuracy: 0.9763\n",
      "\n"
     ]
    },
    {
     "name": "stdout",
     "output_type": "stream",
     "text": [
      "Epoch 150, Loss 0.0235\n",
      "Training Accuracy: 0.9728, Testing Accuracy: 0.9758\n",
      "\n"
     ]
    },
    {
     "name": "stdout",
     "output_type": "stream",
     "text": [
      "Epoch 160, Loss 0.023\n",
      "Training Accuracy: 0.9734, Testing Accuracy: 0.9753\n",
      "\n"
     ]
    },
    {
     "name": "stdout",
     "output_type": "stream",
     "text": [
      "Epoch 170, Loss 0.0224\n",
      "Training Accuracy: 0.9740, Testing Accuracy: 0.9758\n",
      "\n"
     ]
    },
    {
     "name": "stdout",
     "output_type": "stream",
     "text": [
      "Epoch 180, Loss 0.0219\n",
      "Training Accuracy: 0.9745, Testing Accuracy: 0.9763\n",
      "\n"
     ]
    },
    {
     "name": "stdout",
     "output_type": "stream",
     "text": [
      "Epoch 190, Loss 0.0214\n",
      "Training Accuracy: 0.9751, Testing Accuracy: 0.9768\n",
      "\n"
     ]
    },
    {
     "name": "stdout",
     "output_type": "stream",
     "text": [
      "Epoch 200, Loss 0.0209\n",
      "Training Accuracy: 0.9759, Testing Accuracy: 0.9773\n",
      "\n"
     ]
    },
    {
     "name": "stdout",
     "output_type": "stream",
     "text": [
      "Epoch 210, Loss 0.0205\n",
      "Training Accuracy: 0.9763, Testing Accuracy: 0.9773\n",
      "\n"
     ]
    },
    {
     "name": "stdout",
     "output_type": "stream",
     "text": [
      "Epoch 220, Loss 0.0201\n",
      "Training Accuracy: 0.9770, Testing Accuracy: 0.9778\n",
      "\n"
     ]
    },
    {
     "name": "stdout",
     "output_type": "stream",
     "text": [
      "Epoch 230, Loss 0.0197\n",
      "Training Accuracy: 0.9774, Testing Accuracy: 0.9778\n",
      "\n"
     ]
    },
    {
     "name": "stdout",
     "output_type": "stream",
     "text": [
      "Epoch 240, Loss 0.0193\n",
      "Training Accuracy: 0.9778, Testing Accuracy: 0.9773\n",
      "\n"
     ]
    },
    {
     "name": "stdout",
     "output_type": "stream",
     "text": [
      "Epoch 250, Loss 0.0189\n",
      "Training Accuracy: 0.9789, Testing Accuracy: 0.9783\n",
      "\n"
     ]
    },
    {
     "data": {
      "text/plain": [
       "0.004000243611525031"
      ]
     },
     "execution_count": 20,
     "metadata": {},
     "output_type": "execute_result"
    }
   ],
   "source": [
    "print(\"====== Neural Network ======\")\n",
    "learner_nn.train_loop(dl)"
   ]
  },
  {
   "cell_type": "markdown",
   "metadata": {
    "papermill": {
     "duration": 0.036788,
     "end_time": "2020-11-29T00:08:23.586429",
     "exception": false,
     "start_time": "2020-11-29T00:08:23.549641",
     "status": "completed"
    },
    "tags": []
   },
   "source": [
    "### Logistic Regression based Implementation."
   ]
  },
  {
   "cell_type": "code",
   "execution_count": 21,
   "metadata": {
    "execution": {
     "iopub.execute_input": "2020-11-29T00:08:23.689683Z",
     "iopub.status.busy": "2020-11-29T00:08:23.689065Z",
     "iopub.status.idle": "2020-11-29T00:08:23.701386Z",
     "shell.execute_reply": "2020-11-29T00:08:23.700879Z"
    },
    "papermill": {
     "duration": 0.061799,
     "end_time": "2020-11-29T00:08:23.701517",
     "exception": false,
     "start_time": "2020-11-29T00:08:23.639718",
     "status": "completed"
    },
    "tags": []
   },
   "outputs": [],
   "source": [
    "learner_lr = Learner(loss, model_lr, opt, config.num_epochs)\n",
    "acc_lr = ClfCallback(learner_lr, config.bs, training_xdata , testing_xdata, training_ydata, testing_ydata)\n",
    "learner_lr.set_callbacks([acc_lr])"
   ]
  },
  {
   "cell_type": "code",
   "execution_count": 22,
   "metadata": {
    "execution": {
     "iopub.execute_input": "2020-11-29T00:08:23.781713Z",
     "iopub.status.busy": "2020-11-29T00:08:23.779887Z",
     "iopub.status.idle": "2020-11-29T00:08:39.521847Z",
     "shell.execute_reply": "2020-11-29T00:08:39.522664Z"
    },
    "papermill": {
     "duration": 15.784362,
     "end_time": "2020-11-29T00:08:39.522824",
     "exception": false,
     "start_time": "2020-11-29T00:08:23.738462",
     "status": "completed"
    },
    "tags": []
   },
   "outputs": [
    {
     "name": "stdout",
     "output_type": "stream",
     "text": [
      "====== Logistic Regression ======\n",
      "Epoch 0, Loss 0.2603\n",
      "Training Accuracy: 0.6073, Testing Accuracy: 0.6280\n",
      "\n"
     ]
    },
    {
     "name": "stdout",
     "output_type": "stream",
     "text": [
      "Epoch 10, Loss 0.1035\n",
      "Training Accuracy: 0.9075, Testing Accuracy: 0.9173\n",
      "\n"
     ]
    },
    {
     "name": "stdout",
     "output_type": "stream",
     "text": [
      "Epoch 20, Loss 0.0797\n",
      "Training Accuracy: 0.9257, Testing Accuracy: 0.9385\n",
      "\n"
     ]
    },
    {
     "name": "stdout",
     "output_type": "stream",
     "text": [
      "Epoch 30, Loss 0.0687\n",
      "Training Accuracy: 0.9356, Testing Accuracy: 0.9461\n",
      "\n"
     ]
    },
    {
     "name": "stdout",
     "output_type": "stream",
     "text": [
      "Epoch 40, Loss 0.062\n",
      "Training Accuracy: 0.9399, Testing Accuracy: 0.9516\n",
      "\n"
     ]
    },
    {
     "name": "stdout",
     "output_type": "stream",
     "text": [
      "Epoch 50, Loss 0.0575\n",
      "Training Accuracy: 0.9432, Testing Accuracy: 0.9526\n",
      "\n"
     ]
    },
    {
     "name": "stdout",
     "output_type": "stream",
     "text": [
      "Epoch 60, Loss 0.0541\n",
      "Training Accuracy: 0.9456, Testing Accuracy: 0.9561\n",
      "\n"
     ]
    },
    {
     "name": "stdout",
     "output_type": "stream",
     "text": [
      "Epoch 70, Loss 0.0516\n",
      "Training Accuracy: 0.9474, Testing Accuracy: 0.9582\n",
      "\n"
     ]
    },
    {
     "name": "stdout",
     "output_type": "stream",
     "text": [
      "Epoch 80, Loss 0.0495\n",
      "Training Accuracy: 0.9486, Testing Accuracy: 0.9577\n",
      "\n"
     ]
    },
    {
     "name": "stdout",
     "output_type": "stream",
     "text": [
      "Epoch 90, Loss 0.0478\n",
      "Training Accuracy: 0.9502, Testing Accuracy: 0.9587\n",
      "\n"
     ]
    },
    {
     "name": "stdout",
     "output_type": "stream",
     "text": [
      "Epoch 100, Loss 0.0463\n",
      "Training Accuracy: 0.9520, Testing Accuracy: 0.9602\n",
      "\n"
     ]
    },
    {
     "name": "stdout",
     "output_type": "stream",
     "text": [
      "Epoch 110, Loss 0.0451\n",
      "Training Accuracy: 0.9525, Testing Accuracy: 0.9622\n",
      "\n"
     ]
    },
    {
     "name": "stdout",
     "output_type": "stream",
     "text": [
      "Epoch 120, Loss 0.044\n",
      "Training Accuracy: 0.9531, Testing Accuracy: 0.9637\n",
      "\n"
     ]
    },
    {
     "name": "stdout",
     "output_type": "stream",
     "text": [
      "Epoch 130, Loss 0.043\n",
      "Training Accuracy: 0.9546, Testing Accuracy: 0.9637\n",
      "\n"
     ]
    },
    {
     "name": "stdout",
     "output_type": "stream",
     "text": [
      "Epoch 140, Loss 0.0422\n",
      "Training Accuracy: 0.9551, Testing Accuracy: 0.9637\n",
      "\n"
     ]
    },
    {
     "name": "stdout",
     "output_type": "stream",
     "text": [
      "Epoch 150, Loss 0.0414\n",
      "Training Accuracy: 0.9558, Testing Accuracy: 0.9637\n",
      "\n"
     ]
    },
    {
     "name": "stdout",
     "output_type": "stream",
     "text": [
      "Epoch 160, Loss 0.0408\n",
      "Training Accuracy: 0.9566, Testing Accuracy: 0.9642\n",
      "\n"
     ]
    },
    {
     "name": "stdout",
     "output_type": "stream",
     "text": [
      "Epoch 170, Loss 0.0401\n",
      "Training Accuracy: 0.9569, Testing Accuracy: 0.9652\n",
      "\n"
     ]
    },
    {
     "name": "stdout",
     "output_type": "stream",
     "text": [
      "Epoch 180, Loss 0.0396\n",
      "Training Accuracy: 0.9574, Testing Accuracy: 0.9657\n",
      "\n"
     ]
    },
    {
     "name": "stdout",
     "output_type": "stream",
     "text": [
      "Epoch 190, Loss 0.039\n",
      "Training Accuracy: 0.9579, Testing Accuracy: 0.9652\n",
      "\n"
     ]
    },
    {
     "name": "stdout",
     "output_type": "stream",
     "text": [
      "Epoch 200, Loss 0.0386\n",
      "Training Accuracy: 0.9586, Testing Accuracy: 0.9652\n",
      "\n"
     ]
    },
    {
     "name": "stdout",
     "output_type": "stream",
     "text": [
      "Epoch 210, Loss 0.0381\n",
      "Training Accuracy: 0.9590, Testing Accuracy: 0.9657\n",
      "\n"
     ]
    },
    {
     "name": "stdout",
     "output_type": "stream",
     "text": [
      "Epoch 220, Loss 0.0377\n",
      "Training Accuracy: 0.9594, Testing Accuracy: 0.9672\n",
      "\n"
     ]
    },
    {
     "name": "stdout",
     "output_type": "stream",
     "text": [
      "Epoch 230, Loss 0.0373\n",
      "Training Accuracy: 0.9596, Testing Accuracy: 0.9672\n",
      "\n"
     ]
    },
    {
     "name": "stdout",
     "output_type": "stream",
     "text": [
      "Epoch 240, Loss 0.0369\n",
      "Training Accuracy: 0.9602, Testing Accuracy: 0.9672\n",
      "\n"
     ]
    },
    {
     "name": "stdout",
     "output_type": "stream",
     "text": [
      "Epoch 250, Loss 0.0366\n",
      "Training Accuracy: 0.9607, Testing Accuracy: 0.9672\n",
      "\n"
     ]
    },
    {
     "data": {
      "text/plain": [
       "0.024319227418659425"
      ]
     },
     "execution_count": 22,
     "metadata": {},
     "output_type": "execute_result"
    }
   ],
   "source": [
    "print(\"====== Logistic Regression ======\")\n",
    "learner_lr.train_loop(dl)"
   ]
  },
  {
   "cell_type": "markdown",
   "metadata": {
    "papermill": {
     "duration": 0.044607,
     "end_time": "2020-11-29T00:08:39.612893",
     "exception": false,
     "start_time": "2020-11-29T00:08:39.568286",
     "status": "completed"
    },
    "tags": []
   },
   "source": [
    "### Comparing results of NN and LR"
   ]
  },
  {
   "cell_type": "code",
   "execution_count": 23,
   "metadata": {
    "execution": {
     "iopub.execute_input": "2020-11-29T00:08:39.707969Z",
     "iopub.status.busy": "2020-11-29T00:08:39.707303Z",
     "iopub.status.idle": "2020-11-29T00:08:39.951787Z",
     "shell.execute_reply": "2020-11-29T00:08:39.951267Z"
    },
    "papermill": {
     "duration": 0.294575,
     "end_time": "2020-11-29T00:08:39.951924",
     "exception": false,
     "start_time": "2020-11-29T00:08:39.657349",
     "status": "completed"
    },
    "tags": []
   },
   "outputs": [
    {
     "data": {
      "text/plain": [
       "<matplotlib.legend.Legend at 0x7f8a1e2ef9b0>"
      ]
     },
     "execution_count": 23,
     "metadata": {},
     "output_type": "execute_result"
    },
    {
     "data": {
      "image/png": "[encoded data removed]",
      "text/plain": [
       "<Figure size 1080x720 with 1 Axes>"
      ]
     },
     "metadata": {
      "needs_background": "light"
     },
     "output_type": "display_data"
    }
   ],
   "source": [
    "plt.figure(figsize=(15,10))\n",
    "\n",
    "# Neural Network plots\n",
    "plt.plot(acc_nn.accuracies, 'r-', label = \"Training Accuracies - NN\")\n",
    "plt.plot(acc_nn.test_accuracies, 'g-', label = \"Testing Accuracies - NN\")\n",
    "\n",
    "# Logistic Regression plots\n",
    "plt.plot(acc_lr.accuracies, 'k-', label = \"Training Accuracies - LR\")\n",
    "plt.plot(acc_lr.test_accuracies, 'b-', label = \"Testing Accuracies - LR\")\n",
    "\n",
    "plt.ylim(0.8, 1)\n",
    "\n",
    "plt.legend()\n",
    "\n"
   ]
  },
  {
   "cell_type": "markdown",
   "metadata": {
    "papermill": {
     "duration": 0.04677,
     "end_time": "2020-11-29T00:08:40.045571",
     "exception": false,
     "start_time": "2020-11-29T00:08:39.998801",
     "status": "completed"
    },
    "tags": []
   },
   "source": [
    "### From the plot, we can observe the following:\n",
    "- Neural Network achieves higher accuracy than the Logistic Regression model.\n",
    "- This apparently, is because of overfitting, i.e. NN captures more noise than data.\n",
    "- Testing accuracy of NN drops below the Training accuracy at higher epochs. This explains the over-fitting on training data.\n",
    "- Logistic Regression gives a reliable accuracy, without the above mentioned problem.\n"
   ]
  },
  {
   "cell_type": "markdown",
   "metadata": {
    "papermill": {
     "duration": 0.046669,
     "end_time": "2020-11-29T00:08:40.138762",
     "exception": false,
     "start_time": "2020-11-29T00:08:40.092093",
     "status": "completed"
    },
    "tags": []
   },
   "source": [
    "### Moving till the last but one layer (excluding it).\n",
    "#### Plotting the outputs of this layer of the NN."
   ]
  },
  {
   "cell_type": "code",
   "execution_count": 24,
   "metadata": {
    "execution": {
     "iopub.execute_input": "2020-11-29T00:08:40.236876Z",
     "iopub.status.busy": "2020-11-29T00:08:40.236245Z",
     "iopub.status.idle": "2020-11-29T00:08:40.249356Z",
     "shell.execute_reply": "2020-11-29T00:08:40.248858Z"
    },
    "papermill": {
     "duration": 0.064006,
     "end_time": "2020-11-29T00:08:40.249488",
     "exception": false,
     "start_time": "2020-11-29T00:08:40.185482",
     "status": "completed"
    },
    "tags": []
   },
   "outputs": [],
   "source": [
    "model_new = Model(layers[:-2])"
   ]
  },
  {
   "cell_type": "code",
   "execution_count": 25,
   "metadata": {
    "execution": {
     "iopub.execute_input": "2020-11-29T00:08:40.359584Z",
     "iopub.status.busy": "2020-11-29T00:08:40.349115Z",
     "iopub.status.idle": "2020-11-29T00:08:40.373183Z",
     "shell.execute_reply": "2020-11-29T00:08:40.373987Z"
    },
    "papermill": {
     "duration": 0.077987,
     "end_time": "2020-11-29T00:08:40.374146",
     "exception": false,
     "start_time": "2020-11-29T00:08:40.296159",
     "status": "completed"
    },
    "tags": []
   },
   "outputs": [],
   "source": [
    "plot_testing = model_new(testing_xdata)"
   ]
  },
  {
   "cell_type": "code",
   "execution_count": 26,
   "metadata": {
    "execution": {
     "iopub.execute_input": "2020-11-29T00:08:40.471987Z",
     "iopub.status.busy": "2020-11-29T00:08:40.471403Z",
     "iopub.status.idle": "2020-11-29T00:08:40.676707Z",
     "shell.execute_reply": "2020-11-29T00:08:40.677192Z"
    },
    "papermill": {
     "duration": 0.256314,
     "end_time": "2020-11-29T00:08:40.677351",
     "exception": false,
     "start_time": "2020-11-29T00:08:40.421037",
     "status": "completed"
    },
    "tags": []
   },
   "outputs": [
    {
     "data": {
      "text/plain": [
       "Text(0.5, 1.0, 'Outputs')"
      ]
     },
     "execution_count": 26,
     "metadata": {},
     "output_type": "execute_result"
    },
    {
     "data": {
      "image/png": "[encoded data removed]",
      "text/plain": [
       "<Figure size 576x504 with 1 Axes>"
      ]
     },
     "metadata": {
      "needs_background": "light"
     },
     "output_type": "display_data"
    }
   ],
   "source": [
    "plt.figure(figsize=(8,7))\n",
    "plt.scatter(plot_testing[:,0], plot_testing[:,1], alpha = 0.1, c = y_test.ravel());\n",
    "plt.title('Outputs')"
   ]
  },
  {
   "cell_type": "markdown",
   "metadata": {
    "papermill": {
     "duration": 0.048439,
     "end_time": "2020-11-29T00:08:40.775658",
     "exception": false,
     "start_time": "2020-11-29T00:08:40.727219",
     "status": "completed"
    },
    "tags": []
   },
   "source": [
    "### Plotting probability contours"
   ]
  },
  {
   "cell_type": "code",
   "execution_count": 27,
   "metadata": {
    "execution": {
     "iopub.execute_input": "2020-11-29T00:08:40.885967Z",
     "iopub.status.busy": "2020-11-29T00:08:40.885331Z",
     "iopub.status.idle": "2020-11-29T00:08:40.895024Z",
     "shell.execute_reply": "2020-11-29T00:08:40.894499Z"
    },
    "papermill": {
     "duration": 0.070514,
     "end_time": "2020-11-29T00:08:40.895161",
     "exception": false,
     "start_time": "2020-11-29T00:08:40.824647",
     "status": "completed"
    },
    "tags": []
   },
   "outputs": [],
   "source": [
    "model_prob = Model(layers[-2:]) "
   ]
  },
  {
   "cell_type": "code",
   "execution_count": 28,
   "metadata": {
    "execution": {
     "iopub.execute_input": "2020-11-29T00:08:40.999279Z",
     "iopub.status.busy": "2020-11-29T00:08:40.998331Z",
     "iopub.status.idle": "2020-11-29T00:08:41.013478Z",
     "shell.execute_reply": "2020-11-29T00:08:41.012998Z"
    },
    "papermill": {
     "duration": 0.069546,
     "end_time": "2020-11-29T00:08:41.013615",
     "exception": false,
     "start_time": "2020-11-29T00:08:40.944069",
     "status": "completed"
    },
    "tags": []
   },
   "outputs": [],
   "source": [
    "# Adjust the x and y ranges according to the above generated plot.\n",
    "x_range = np.linspace(-4, 1, 100) \n",
    "y_range = np.linspace(-6, 6, 100) \n",
    "x_grid, y_grid = np.meshgrid(x_range, y_range) # x_grid and y_grig are of size 100 X 100\n",
    "\n",
    "# converting x_grid and y_grid to continuous arrays\n",
    "x_grid_flat = np.ravel(x_grid)\n",
    "y_grid_flat = np.ravel(y_grid)\n",
    "\n",
    "# The last layer of the current model takes two columns as input. Hence transpose of np.vstack() is required.\n",
    "X = np.vstack((x_grid_flat, y_grid_flat)).T\n",
    "\n",
    "# x_grid and y_grid are of size 100 x 100\n",
    "probability_contour = model_prob(X).reshape(100,100) "
   ]
  },
  {
   "cell_type": "code",
   "execution_count": 29,
   "metadata": {
    "execution": {
     "iopub.execute_input": "2020-11-29T00:08:41.125813Z",
     "iopub.status.busy": "2020-11-29T00:08:41.125222Z",
     "iopub.status.idle": "2020-11-29T00:08:41.374194Z",
     "shell.execute_reply": "2020-11-29T00:08:41.374668Z"
    },
    "papermill": {
     "duration": 0.312275,
     "end_time": "2020-11-29T00:08:41.374823",
     "exception": false,
     "start_time": "2020-11-29T00:08:41.062548",
     "status": "completed"
    },
    "tags": []
   },
   "outputs": [
    {
     "data": {
      "image/png": "[encoded data removed]",
      "text/plain": [
       "<Figure size 720x648 with 1 Axes>"
      ]
     },
     "metadata": {
      "needs_background": "light"
     },
     "output_type": "display_data"
    }
   ],
   "source": [
    "plt.figure(figsize=(10,9))\n",
    "plt.scatter(plot_testing[:,0], plot_testing[:,1], alpha = 0.1, c = y_test.ravel())\n",
    "contours = plt.contour(x_grid,y_grid,probability_contour)\n",
    "plt.title('Probability Contours')\n",
    "plt.clabel(contours, inline = True );"
   ]
  }
 ],
 "metadata": {
  "kernelspec": {
   "display_name": "Python 3",
   "language": "python",
   "name": "python3"
  },
  "language_info": {
   "codemirror_mode": {
    "name": "ipython",
    "version": 3
   },
   "file_extension": ".py",
   "mimetype": "text/x-python",
   "name": "python",
   "nbconvert_exporter": "python",
   "pygments_lexer": "ipython3",
   "version": "3.6.12"
  },
  "papermill": {
   "duration": 113.367711,
   "end_time": "2020-11-29T00:08:42.812834",
   "environment_variables": {},
   "exception": null,
   "input_path": "2020-08-11-NeuralNetwork.ipynb",
   "output_path": "2020-08-11-NeuralNetwork.ipynb",
   "parameters": {},
   "start_time": "2020-11-29T00:06:49.445123",
   "version": "2.1.2"
  }
 },
 "nbformat": 4,
 "nbformat_minor": 4
}