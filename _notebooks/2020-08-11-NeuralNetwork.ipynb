{
 "cells": [
  {
   "cell_type": "markdown",
   "id": "fitted-suggestion",
   "metadata": {
    "papermill": {
     "duration": 0.036466,
     "end_time": "2021-02-17T20:04:24.068913",
     "exception": false,
     "start_time": "2021-02-17T20:04:24.032447",
     "status": "completed"
    },
    "tags": []
   },
   "source": [
    "# \"A Basic Neural Network: Differentiate Hand-Written Digits\"\n",
    "\n",
    "- badges: true\n",
    "- author: Akshith Sriram"
   ]
  },
  {
   "cell_type": "markdown",
   "id": "signal-flexibility",
   "metadata": {
    "papermill": {
     "duration": 0.02507,
     "end_time": "2021-02-17T20:04:24.121278",
     "exception": false,
     "start_time": "2021-02-17T20:04:24.096208",
     "status": "completed"
    },
    "tags": []
   },
   "source": [
    "### Key Objectives:\n",
    "- Building a neural network that differentiates two hand-written digits 3 and 8.\n",
    "- Comparing the results of this Neural Network (NN) to that of a Logistic Regression (LR) model.\n",
    "\n",
    "### Requirements:\n",
    "- 'Kudzu' : A neural network library that was designed during our course by [Univ.AI](www.univ.ai). \n",
    "- MNIST Database\n",
    "\n",
    "If MNIST is not installed, use the command `!pip install mnist` given below.\n",
    "It can be run both from the command line and Jupyter Notebook."
   ]
  },
  {
   "cell_type": "code",
   "execution_count": 1,
   "id": "british-texture",
   "metadata": {
    "execution": {
     "iopub.execute_input": "2021-02-17T20:04:24.182177Z",
     "iopub.status.busy": "2021-02-17T20:04:24.181537Z",
     "iopub.status.idle": "2021-02-17T20:04:25.637406Z",
     "shell.execute_reply": "2021-02-17T20:04:25.637883Z"
    },
    "papermill": {
     "duration": 1.491266,
     "end_time": "2021-02-17T20:04:25.638070",
     "exception": false,
     "start_time": "2021-02-17T20:04:24.146804",
     "status": "completed"
    },
    "tags": []
   },
   "outputs": [
    {
     "name": "stdout",
     "output_type": "stream",
     "text": [
      "Collecting mnist\r\n"
     ]
    },
    {
     "name": "stdout",
     "output_type": "stream",
     "text": [
      "  Downloading mnist-0.2.2-py2.py3-none-any.whl (3.5 kB)\r\n",
      "Requirement already satisfied: numpy in /opt/hostedtoolcache/Python/3.6.12/x64/lib/python3.6/site-packages (from mnist) (1.19.5)\r\n"
     ]
    },
    {
     "name": "stdout",
     "output_type": "stream",
     "text": [
      "Installing collected packages: mnist\r\n"
     ]
    },
    {
     "name": "stdout",
     "output_type": "stream",
     "text": [
      "Successfully installed mnist-0.2.2\r\n"
     ]
    }
   ],
   "source": [
    "!pip install mnist "
   ]
  },
  {
   "cell_type": "markdown",
   "id": "stunning-extra",
   "metadata": {
    "papermill": {
     "duration": 0.025835,
     "end_time": "2021-02-17T20:04:25.690257",
     "exception": false,
     "start_time": "2021-02-17T20:04:25.664422",
     "status": "completed"
    },
    "tags": []
   },
   "source": [
    "#### Importing necessary libraries"
   ]
  },
  {
   "cell_type": "code",
   "execution_count": 2,
   "id": "wooden-france",
   "metadata": {
    "execution": {
     "iopub.execute_input": "2021-02-17T20:04:25.749345Z",
     "iopub.status.busy": "2021-02-17T20:04:25.748825Z",
     "iopub.status.idle": "2021-02-17T20:04:26.307077Z",
     "shell.execute_reply": "2021-02-17T20:04:26.306536Z"
    },
    "papermill": {
     "duration": 0.591111,
     "end_time": "2021-02-17T20:04:26.307218",
     "exception": false,
     "start_time": "2021-02-17T20:04:25.716107",
     "status": "completed"
    },
    "tags": []
   },
   "outputs": [],
   "source": [
    "%load_ext autoreload\n",
    "%autoreload 2\n",
    "\n",
    "%matplotlib inline\n",
    "import matplotlib.pyplot as plt\n",
    "\n",
    "import numpy as np\n",
    "import pandas as pd"
   ]
  },
  {
   "cell_type": "markdown",
   "id": "stunning-physics",
   "metadata": {
    "papermill": {
     "duration": 0.026336,
     "end_time": "2021-02-17T20:04:26.362570",
     "exception": false,
     "start_time": "2021-02-17T20:04:26.336234",
     "status": "completed"
    },
    "tags": []
   },
   "source": [
    "### Preparing the Data"
   ]
  },
  {
   "cell_type": "code",
   "execution_count": 3,
   "id": "unauthorized-remainder",
   "metadata": {
    "execution": {
     "iopub.execute_input": "2021-02-17T20:04:26.426132Z",
     "iopub.status.busy": "2021-02-17T20:04:26.425589Z",
     "iopub.status.idle": "2021-02-17T20:04:26.433146Z",
     "shell.execute_reply": "2021-02-17T20:04:26.432655Z"
    },
    "papermill": {
     "duration": 0.044833,
     "end_time": "2021-02-17T20:04:26.433269",
     "exception": false,
     "start_time": "2021-02-17T20:04:26.388436",
     "status": "completed"
    },
    "tags": []
   },
   "outputs": [],
   "source": [
    "import mnist"
   ]
  },
  {
   "cell_type": "code",
   "execution_count": 4,
   "id": "correct-antarctica",
   "metadata": {
    "execution": {
     "iopub.execute_input": "2021-02-17T20:04:26.489913Z",
     "iopub.status.busy": "2021-02-17T20:04:26.489376Z",
     "iopub.status.idle": "2021-02-17T20:04:27.205253Z",
     "shell.execute_reply": "2021-02-17T20:04:27.204772Z"
    },
    "papermill": {
     "duration": 0.745772,
     "end_time": "2021-02-17T20:04:27.205388",
     "exception": false,
     "start_time": "2021-02-17T20:04:26.459616",
     "status": "completed"
    },
    "tags": []
   },
   "outputs": [],
   "source": [
    "train_images = mnist.train_images()\n",
    "train_labels = mnist.train_labels()"
   ]
  },
  {
   "cell_type": "code",
   "execution_count": 5,
   "id": "musical-prospect",
   "metadata": {
    "execution": {
     "iopub.execute_input": "2021-02-17T20:04:27.266711Z",
     "iopub.status.busy": "2021-02-17T20:04:27.266168Z",
     "iopub.status.idle": "2021-02-17T20:04:27.279723Z",
     "shell.execute_reply": "2021-02-17T20:04:27.279267Z"
    },
    "papermill": {
     "duration": 0.046889,
     "end_time": "2021-02-17T20:04:27.279854",
     "exception": false,
     "start_time": "2021-02-17T20:04:27.232965",
     "status": "completed"
    },
    "tags": []
   },
   "outputs": [
    {
     "data": {
      "text/plain": [
       "((60000, 28, 28), (60000,))"
      ]
     },
     "execution_count": 5,
     "metadata": {},
     "output_type": "execute_result"
    }
   ],
   "source": [
    "train_images.shape, train_labels.shape"
   ]
  },
  {
   "cell_type": "code",
   "execution_count": 6,
   "id": "preliminary-elizabeth",
   "metadata": {
    "execution": {
     "iopub.execute_input": "2021-02-17T20:04:27.338512Z",
     "iopub.status.busy": "2021-02-17T20:04:27.337998Z",
     "iopub.status.idle": "2021-02-17T20:04:27.600251Z",
     "shell.execute_reply": "2021-02-17T20:04:27.599752Z"
    },
    "papermill": {
     "duration": 0.293963,
     "end_time": "2021-02-17T20:04:27.600376",
     "exception": false,
     "start_time": "2021-02-17T20:04:27.306413",
     "status": "completed"
    },
    "tags": []
   },
   "outputs": [],
   "source": [
    "test_images = mnist.test_images()\n",
    "test_labels = mnist.test_labels()"
   ]
  },
  {
   "cell_type": "code",
   "execution_count": 7,
   "id": "acknowledged-oxygen",
   "metadata": {
    "execution": {
     "iopub.execute_input": "2021-02-17T20:04:27.657120Z",
     "iopub.status.busy": "2021-02-17T20:04:27.656561Z",
     "iopub.status.idle": "2021-02-17T20:04:27.670153Z",
     "shell.execute_reply": "2021-02-17T20:04:27.669736Z"
    },
    "papermill": {
     "duration": 0.043274,
     "end_time": "2021-02-17T20:04:27.670276",
     "exception": false,
     "start_time": "2021-02-17T20:04:27.627002",
     "status": "completed"
    },
    "tags": []
   },
   "outputs": [
    {
     "data": {
      "text/plain": [
       "((10000, 28, 28), (10000,))"
      ]
     },
     "execution_count": 7,
     "metadata": {},
     "output_type": "execute_result"
    }
   ],
   "source": [
    "test_images.shape, test_labels.shape"
   ]
  },
  {
   "cell_type": "code",
   "execution_count": 8,
   "id": "innovative-organic",
   "metadata": {
    "execution": {
     "iopub.execute_input": "2021-02-17T20:04:27.728544Z",
     "iopub.status.busy": "2021-02-17T20:04:27.728011Z",
     "iopub.status.idle": "2021-02-17T20:04:27.890638Z",
     "shell.execute_reply": "2021-02-17T20:04:27.891071Z"
    },
    "papermill": {
     "duration": 0.194339,
     "end_time": "2021-02-17T20:04:27.891215",
     "exception": false,
     "start_time": "2021-02-17T20:04:27.696876",
     "status": "completed"
    },
    "tags": []
   },
   "outputs": [
    {
     "name": "stdout",
     "output_type": "stream",
     "text": [
      "2\n"
     ]
    },
    {
     "data": {
      "text/plain": [
       "<matplotlib.image.AxesImage at 0x7f5359429320>"
      ]
     },
     "execution_count": 8,
     "metadata": {},
     "output_type": "execute_result"
    },
    {
     "data": {
      "image/png": "[encoded data removed]",
      "text/plain": [
       "<Figure size 432x288 with 1 Axes>"
      ]
     },
     "metadata": {
      "needs_background": "light"
     },
     "output_type": "display_data"
    }
   ],
   "source": [
    "image_index = 7776 # You may select anything up to 60,000\n",
    "print(train_labels[image_index]) \n",
    "plt.imshow(train_images[image_index], cmap='Greys')"
   ]
  },
  {
   "cell_type": "markdown",
   "id": "facial-modem",
   "metadata": {
    "papermill": {
     "duration": 0.029629,
     "end_time": "2021-02-17T20:04:27.961394",
     "exception": false,
     "start_time": "2021-02-17T20:04:27.931765",
     "status": "completed"
    },
    "tags": []
   },
   "source": [
    "## Filter data to get 3 and 8 out"
   ]
  },
  {
   "cell_type": "code",
   "execution_count": 9,
   "id": "thousand-acquisition",
   "metadata": {
    "execution": {
     "iopub.execute_input": "2021-02-17T20:04:28.021406Z",
     "iopub.status.busy": "2021-02-17T20:04:28.020871Z",
     "iopub.status.idle": "2021-02-17T20:04:28.046023Z",
     "shell.execute_reply": "2021-02-17T20:04:28.045533Z"
    },
    "papermill": {
     "duration": 0.056953,
     "end_time": "2021-02-17T20:04:28.046165",
     "exception": false,
     "start_time": "2021-02-17T20:04:27.989212",
     "status": "completed"
    },
    "tags": []
   },
   "outputs": [],
   "source": [
    "train_filter = np.where((train_labels == 3 ) | (train_labels == 8))\n",
    "test_filter = np.where((test_labels == 3) | (test_labels == 8))\n",
    "X_train, y_train = train_images[train_filter], train_labels[train_filter]\n",
    "X_test, y_test = test_images[test_filter], test_labels[test_filter]"
   ]
  },
  {
   "cell_type": "markdown",
   "id": "ruled-access",
   "metadata": {
    "papermill": {
     "duration": 0.027858,
     "end_time": "2021-02-17T20:04:28.102025",
     "exception": false,
     "start_time": "2021-02-17T20:04:28.074167",
     "status": "completed"
    },
    "tags": []
   },
   "source": [
    "We normalize the pixel values in the 0 to 1 range"
   ]
  },
  {
   "cell_type": "code",
   "execution_count": 10,
   "id": "isolated-denver",
   "metadata": {
    "execution": {
     "iopub.execute_input": "2021-02-17T20:04:28.164767Z",
     "iopub.status.busy": "2021-02-17T20:04:28.164184Z",
     "iopub.status.idle": "2021-02-17T20:04:28.208846Z",
     "shell.execute_reply": "2021-02-17T20:04:28.208288Z"
    },
    "papermill": {
     "duration": 0.079383,
     "end_time": "2021-02-17T20:04:28.209001",
     "exception": false,
     "start_time": "2021-02-17T20:04:28.129618",
     "status": "completed"
    },
    "tags": []
   },
   "outputs": [],
   "source": [
    "X_train = X_train/255.\n",
    "X_test = X_test/255."
   ]
  },
  {
   "cell_type": "markdown",
   "id": "perfect-summary",
   "metadata": {
    "papermill": {
     "duration": 0.0278,
     "end_time": "2021-02-17T20:04:28.265139",
     "exception": false,
     "start_time": "2021-02-17T20:04:28.237339",
     "status": "completed"
    },
    "tags": []
   },
   "source": [
    "Setup the labels as 1 (when the digit is 3) and 0 (when the digit is 8)"
   ]
  },
  {
   "cell_type": "code",
   "execution_count": 11,
   "id": "personalized-growing",
   "metadata": {
    "execution": {
     "iopub.execute_input": "2021-02-17T20:04:28.326341Z",
     "iopub.status.busy": "2021-02-17T20:04:28.325784Z",
     "iopub.status.idle": "2021-02-17T20:04:28.338586Z",
     "shell.execute_reply": "2021-02-17T20:04:28.339019Z"
    },
    "papermill": {
     "duration": 0.04654,
     "end_time": "2021-02-17T20:04:28.339163",
     "exception": false,
     "start_time": "2021-02-17T20:04:28.292623",
     "status": "completed"
    },
    "tags": []
   },
   "outputs": [],
   "source": [
    "y_train = 1*(y_train==3)\n",
    "y_test = 1*(y_test==3)"
   ]
  },
  {
   "cell_type": "code",
   "execution_count": 12,
   "id": "considered-virgin",
   "metadata": {
    "execution": {
     "iopub.execute_input": "2021-02-17T20:04:28.400384Z",
     "iopub.status.busy": "2021-02-17T20:04:28.399851Z",
     "iopub.status.idle": "2021-02-17T20:04:28.411250Z",
     "shell.execute_reply": "2021-02-17T20:04:28.411647Z"
    },
    "papermill": {
     "duration": 0.044675,
     "end_time": "2021-02-17T20:04:28.411791",
     "exception": false,
     "start_time": "2021-02-17T20:04:28.367116",
     "status": "completed"
    },
    "tags": []
   },
   "outputs": [
    {
     "data": {
      "text/plain": [
       "((11982, 28, 28), (1984, 28, 28))"
      ]
     },
     "execution_count": 12,
     "metadata": {},
     "output_type": "execute_result"
    }
   ],
   "source": [
    "X_train.shape, X_test.shape"
   ]
  },
  {
   "cell_type": "markdown",
   "id": "civilian-mobile",
   "metadata": {
    "papermill": {
     "duration": 0.027894,
     "end_time": "2021-02-17T20:04:28.467628",
     "exception": false,
     "start_time": "2021-02-17T20:04:28.439734",
     "status": "completed"
    },
    "tags": []
   },
   "source": [
    "### Reshape the input data to create a linear array"
   ]
  },
  {
   "cell_type": "code",
   "execution_count": 13,
   "id": "colonial-adams",
   "metadata": {
    "execution": {
     "iopub.execute_input": "2021-02-17T20:04:28.528036Z",
     "iopub.status.busy": "2021-02-17T20:04:28.527497Z",
     "iopub.status.idle": "2021-02-17T20:04:28.541136Z",
     "shell.execute_reply": "2021-02-17T20:04:28.541529Z"
    },
    "papermill": {
     "duration": 0.045781,
     "end_time": "2021-02-17T20:04:28.541680",
     "exception": false,
     "start_time": "2021-02-17T20:04:28.495899",
     "status": "completed"
    },
    "tags": []
   },
   "outputs": [
    {
     "data": {
      "text/plain": [
       "((11982, 784), (1984, 784))"
      ]
     },
     "execution_count": 13,
     "metadata": {},
     "output_type": "execute_result"
    }
   ],
   "source": [
    "X_train = X_train.reshape(X_train.shape[0], -1)\n",
    "X_test = X_test.reshape(X_test.shape[0], -1)\n",
    "X_train.shape, X_test.shape"
   ]
  },
  {
   "cell_type": "markdown",
   "id": "smart-details",
   "metadata": {
    "papermill": {
     "duration": 0.028154,
     "end_time": "2021-02-17T20:04:28.598416",
     "exception": false,
     "start_time": "2021-02-17T20:04:28.570262",
     "status": "completed"
    },
    "tags": []
   },
   "source": [
    "### Importing appropriate functions from 'Kudzu'"
   ]
  },
  {
   "cell_type": "code",
   "execution_count": 14,
   "id": "celtic-trial",
   "metadata": {
    "execution": {
     "iopub.execute_input": "2021-02-17T20:04:29.114039Z",
     "iopub.status.busy": "2021-02-17T20:04:29.113039Z",
     "iopub.status.idle": "2021-02-17T20:04:29.716090Z",
     "shell.execute_reply": "2021-02-17T20:04:29.715625Z"
    },
    "papermill": {
     "duration": 1.089264,
     "end_time": "2021-02-17T20:04:29.716221",
     "exception": false,
     "start_time": "2021-02-17T20:04:28.626957",
     "status": "completed"
    },
    "tags": []
   },
   "outputs": [],
   "source": [
    "from kudzu.layer import Sigmoid\n",
    "from kudzu.layer import Relu\n",
    "from kudzu.layer import Affine, Sigmoid\n",
    "\n",
    "from kudzu.model import Model\n",
    "from kudzu.train import Learner\n",
    "from kudzu.optim import GD\n",
    "from kudzu.data import Data, Dataloader, Sampler\n",
    "\n",
    "from kudzu.callbacks import AccCallback\n",
    "from kudzu.callbacks import ClfCallback\n",
    "\n",
    "from kudzu.loss import MSE"
   ]
  },
  {
   "cell_type": "markdown",
   "id": "coupled-customer",
   "metadata": {
    "papermill": {
     "duration": 0.253987,
     "end_time": "2021-02-17T20:04:30.001882",
     "exception": false,
     "start_time": "2021-02-17T20:04:29.747895",
     "status": "completed"
    },
    "tags": []
   },
   "source": [
    "### Let us create a `Config` class, to store important parameters. \n",
    "This class essentially plays the role of a dictionary."
   ]
  },
  {
   "cell_type": "code",
   "execution_count": 15,
   "id": "young-ceiling",
   "metadata": {
    "execution": {
     "iopub.execute_input": "2021-02-17T20:04:30.066577Z",
     "iopub.status.busy": "2021-02-17T20:04:30.066027Z",
     "iopub.status.idle": "2021-02-17T20:04:30.078749Z",
     "shell.execute_reply": "2021-02-17T20:04:30.079169Z"
    },
    "papermill": {
     "duration": 0.045305,
     "end_time": "2021-02-17T20:04:30.079322",
     "exception": false,
     "start_time": "2021-02-17T20:04:30.034017",
     "status": "completed"
    },
    "tags": []
   },
   "outputs": [],
   "source": [
    "class Config:\n",
    "    pass\n",
    "config = Config()\n",
    "config.lr = 0.001\n",
    "config.num_epochs = 251\n",
    "config.bs = 50"
   ]
  },
  {
   "cell_type": "markdown",
   "id": "according-mandate",
   "metadata": {
    "papermill": {
     "duration": 0.028264,
     "end_time": "2021-02-17T20:04:30.140863",
     "exception": false,
     "start_time": "2021-02-17T20:04:30.112599",
     "status": "completed"
    },
    "tags": []
   },
   "source": [
    "### Initializing data to the variables"
   ]
  },
  {
   "cell_type": "code",
   "execution_count": 16,
   "id": "academic-disposition",
   "metadata": {
    "execution": {
     "iopub.execute_input": "2021-02-17T20:04:30.206427Z",
     "iopub.status.busy": "2021-02-17T20:04:30.205890Z",
     "iopub.status.idle": "2021-02-17T20:04:30.219239Z",
     "shell.execute_reply": "2021-02-17T20:04:30.219663Z"
    },
    "papermill": {
     "duration": 0.049937,
     "end_time": "2021-02-17T20:04:30.219804",
     "exception": false,
     "start_time": "2021-02-17T20:04:30.169867",
     "status": "completed"
    },
    "tags": []
   },
   "outputs": [],
   "source": [
    "data = Data(X_train, y_train.reshape(-1,1))\n",
    "sampler = Sampler(data, config.bs, shuffle=True)\n",
    "\n",
    "dl = Dataloader(data, sampler)\n",
    "\n",
    "opt = GD(config.lr)\n",
    "loss = MSE()"
   ]
  },
  {
   "cell_type": "code",
   "execution_count": 17,
   "id": "featured-commission",
   "metadata": {
    "execution": {
     "iopub.execute_input": "2021-02-17T20:04:30.281452Z",
     "iopub.status.busy": "2021-02-17T20:04:30.280883Z",
     "iopub.status.idle": "2021-02-17T20:04:30.292160Z",
     "shell.execute_reply": "2021-02-17T20:04:30.292614Z"
    },
    "papermill": {
     "duration": 0.044683,
     "end_time": "2021-02-17T20:04:30.292776",
     "exception": false,
     "start_time": "2021-02-17T20:04:30.248093",
     "status": "completed"
    },
    "tags": []
   },
   "outputs": [],
   "source": [
    "training_xdata = X_train\n",
    "testing_xdata = X_test\n",
    "training_ydata = y_train.reshape(-1,1)\n",
    "testing_ydata = y_test.reshape(-1,1)"
   ]
  },
  {
   "cell_type": "markdown",
   "id": "played-safety",
   "metadata": {
    "papermill": {
     "duration": 0.024736,
     "end_time": "2021-02-17T20:04:30.342594",
     "exception": false,
     "start_time": "2021-02-17T20:04:30.317858",
     "status": "completed"
    },
    "tags": []
   },
   "source": [
    "### Running Models with the Training data\n",
    "Details about the network layers:\n",
    "- A first affine layer has 784 inputs and does 100 affine transforms. These are followed by a Relu\n",
    "- A second affine layer has 100 inputs from the 100 activations of the past layer, and does 100 affine transforms. These are followed by a Relu\n",
    "- A third affine layer has 100 activations and does 2 affine transformations to create an embedding for visualization. There is no non-linearity here.\n",
    "- A final \"logistic regression\" which has an affine transform from 2 inputs to 1 output, which is squeezed through a sigmoid.\n",
    "\n",
    "Help taken from Anshuman's Notebook."
   ]
  },
  {
   "cell_type": "code",
   "execution_count": 18,
   "id": "asian-bankruptcy",
   "metadata": {
    "execution": {
     "iopub.execute_input": "2021-02-17T20:04:30.398008Z",
     "iopub.status.busy": "2021-02-17T20:04:30.397504Z",
     "iopub.status.idle": "2021-02-17T20:04:30.413262Z",
     "shell.execute_reply": "2021-02-17T20:04:30.412816Z"
    },
    "papermill": {
     "duration": 0.045977,
     "end_time": "2021-02-17T20:04:30.413393",
     "exception": false,
     "start_time": "2021-02-17T20:04:30.367416",
     "status": "completed"
    },
    "tags": []
   },
   "outputs": [],
   "source": [
    "# layers for the Neural Network\n",
    "layers = [Affine(\"first\", 784, 100), Relu(\"first\"), Affine(\"second\", 100, 100), Relu(\"second\"), Affine(\"third\", 100, 2), Affine(\"final\", 2, 1), Sigmoid(\"final\")]\n",
    "model_nn = Model(layers)\n",
    "\n",
    "# layers for the Logistic Regression\n",
    "layers_lr = [Affine(\"logits\", 784, 1), Sigmoid(\"sigmoid\")]\n",
    "model_lr = Model(layers_lr)"
   ]
  },
  {
   "cell_type": "code",
   "execution_count": 19,
   "id": "removed-butler",
   "metadata": {
    "execution": {
     "iopub.execute_input": "2021-02-17T20:04:30.469257Z",
     "iopub.status.busy": "2021-02-17T20:04:30.468770Z",
     "iopub.status.idle": "2021-02-17T20:04:30.481729Z",
     "shell.execute_reply": "2021-02-17T20:04:30.482124Z"
    },
    "papermill": {
     "duration": 0.041667,
     "end_time": "2021-02-17T20:04:30.482257",
     "exception": false,
     "start_time": "2021-02-17T20:04:30.440590",
     "status": "completed"
    },
    "tags": []
   },
   "outputs": [],
   "source": [
    "# suffix _nn stands for Neural Network.\n",
    "learner_nn = Learner(loss, model_nn, opt, config.num_epochs)\n",
    "acc_nn = ClfCallback(learner_nn, config.bs, training_xdata , testing_xdata, training_ydata, testing_ydata)\n",
    "learner_nn.set_callbacks([acc_nn])"
   ]
  },
  {
   "cell_type": "code",
   "execution_count": 20,
   "id": "conceptual-throw",
   "metadata": {
    "execution": {
     "iopub.execute_input": "2021-02-17T20:04:30.535414Z",
     "iopub.status.busy": "2021-02-17T20:04:30.534943Z",
     "iopub.status.idle": "2021-02-17T20:05:58.879166Z",
     "shell.execute_reply": "2021-02-17T20:05:58.879606Z"
    },
    "papermill": {
     "duration": 88.372672,
     "end_time": "2021-02-17T20:05:58.879736",
     "exception": false,
     "start_time": "2021-02-17T20:04:30.507064",
     "status": "completed"
    },
    "tags": []
   },
   "outputs": [
    {
     "name": "stdout",
     "output_type": "stream",
     "text": [
      "====== Neural Network ======\n"
     ]
    },
    {
     "name": "stdout",
     "output_type": "stream",
     "text": [
      "Epoch 0, Loss 0.2283\n",
      "Training Accuracy: 0.7393, Testing Accuracy: 0.7344\n",
      "\n"
     ]
    },
    {
     "name": "stdout",
     "output_type": "stream",
     "text": [
      "Epoch 10, Loss 0.0641\n",
      "Training Accuracy: 0.9389, Testing Accuracy: 0.9461\n",
      "\n"
     ]
    },
    {
     "name": "stdout",
     "output_type": "stream",
     "text": [
      "Epoch 20, Loss 0.0433\n",
      "Training Accuracy: 0.9549, Testing Accuracy: 0.9607\n",
      "\n"
     ]
    },
    {
     "name": "stdout",
     "output_type": "stream",
     "text": [
      "Epoch 30, Loss 0.0361\n",
      "Training Accuracy: 0.9609, Testing Accuracy: 0.9637\n",
      "\n"
     ]
    },
    {
     "name": "stdout",
     "output_type": "stream",
     "text": [
      "Epoch 40, Loss 0.0324\n",
      "Training Accuracy: 0.9640, Testing Accuracy: 0.9667\n",
      "\n"
     ]
    },
    {
     "name": "stdout",
     "output_type": "stream",
     "text": [
      "Epoch 50, Loss 0.0299\n",
      "Training Accuracy: 0.9661, Testing Accuracy: 0.9672\n",
      "\n"
     ]
    },
    {
     "name": "stdout",
     "output_type": "stream",
     "text": [
      "Epoch 60, Loss 0.0282\n",
      "Training Accuracy: 0.9677, Testing Accuracy: 0.9677\n",
      "\n"
     ]
    },
    {
     "name": "stdout",
     "output_type": "stream",
     "text": [
      "Epoch 70, Loss 0.0268\n",
      "Training Accuracy: 0.9691, Testing Accuracy: 0.9688\n",
      "\n"
     ]
    },
    {
     "name": "stdout",
     "output_type": "stream",
     "text": [
      "Epoch 80, Loss 0.0256\n",
      "Training Accuracy: 0.9706, Testing Accuracy: 0.9703\n",
      "\n"
     ]
    },
    {
     "name": "stdout",
     "output_type": "stream",
     "text": [
      "Epoch 90, Loss 0.0246\n",
      "Training Accuracy: 0.9716, Testing Accuracy: 0.9708\n",
      "\n"
     ]
    },
    {
     "name": "stdout",
     "output_type": "stream",
     "text": [
      "Epoch 100, Loss 0.0238\n",
      "Training Accuracy: 0.9724, Testing Accuracy: 0.9708\n",
      "\n"
     ]
    },
    {
     "name": "stdout",
     "output_type": "stream",
     "text": [
      "Epoch 110, Loss 0.0231\n",
      "Training Accuracy: 0.9732, Testing Accuracy: 0.9723\n",
      "\n"
     ]
    },
    {
     "name": "stdout",
     "output_type": "stream",
     "text": [
      "Epoch 120, Loss 0.0224\n",
      "Training Accuracy: 0.9738, Testing Accuracy: 0.9723\n",
      "\n"
     ]
    },
    {
     "name": "stdout",
     "output_type": "stream",
     "text": [
      "Epoch 130, Loss 0.0218\n",
      "Training Accuracy: 0.9750, Testing Accuracy: 0.9723\n",
      "\n"
     ]
    },
    {
     "name": "stdout",
     "output_type": "stream",
     "text": [
      "Epoch 140, Loss 0.0212\n",
      "Training Accuracy: 0.9758, Testing Accuracy: 0.9723\n",
      "\n"
     ]
    },
    {
     "name": "stdout",
     "output_type": "stream",
     "text": [
      "Epoch 150, Loss 0.0207\n",
      "Training Accuracy: 0.9763, Testing Accuracy: 0.9718\n",
      "\n"
     ]
    },
    {
     "name": "stdout",
     "output_type": "stream",
     "text": [
      "Epoch 160, Loss 0.0202\n",
      "Training Accuracy: 0.9781, Testing Accuracy: 0.9733\n",
      "\n"
     ]
    },
    {
     "name": "stdout",
     "output_type": "stream",
     "text": [
      "Epoch 170, Loss 0.0198\n",
      "Training Accuracy: 0.9786, Testing Accuracy: 0.9738\n",
      "\n"
     ]
    },
    {
     "name": "stdout",
     "output_type": "stream",
     "text": [
      "Epoch 180, Loss 0.0193\n",
      "Training Accuracy: 0.9789, Testing Accuracy: 0.9728\n",
      "\n"
     ]
    },
    {
     "name": "stdout",
     "output_type": "stream",
     "text": [
      "Epoch 190, Loss 0.0189\n",
      "Training Accuracy: 0.9792, Testing Accuracy: 0.9733\n",
      "\n"
     ]
    },
    {
     "name": "stdout",
     "output_type": "stream",
     "text": [
      "Epoch 200, Loss 0.0185\n",
      "Training Accuracy: 0.9796, Testing Accuracy: 0.9743\n",
      "\n"
     ]
    },
    {
     "name": "stdout",
     "output_type": "stream",
     "text": [
      "Epoch 210, Loss 0.0182\n",
      "Training Accuracy: 0.9802, Testing Accuracy: 0.9743\n",
      "\n"
     ]
    },
    {
     "name": "stdout",
     "output_type": "stream",
     "text": [
      "Epoch 220, Loss 0.0178\n",
      "Training Accuracy: 0.9804, Testing Accuracy: 0.9738\n",
      "\n"
     ]
    },
    {
     "name": "stdout",
     "output_type": "stream",
     "text": [
      "Epoch 230, Loss 0.0174\n",
      "Training Accuracy: 0.9808, Testing Accuracy: 0.9743\n",
      "\n"
     ]
    },
    {
     "name": "stdout",
     "output_type": "stream",
     "text": [
      "Epoch 240, Loss 0.0171\n",
      "Training Accuracy: 0.9809, Testing Accuracy: 0.9743\n",
      "\n"
     ]
    },
    {
     "name": "stdout",
     "output_type": "stream",
     "text": [
      "Epoch 250, Loss 0.0167\n",
      "Training Accuracy: 0.9811, Testing Accuracy: 0.9743\n",
      "\n"
     ]
    },
    {
     "data": {
      "text/plain": [
       "0.0015367700044699724"
      ]
     },
     "execution_count": 20,
     "metadata": {},
     "output_type": "execute_result"
    }
   ],
   "source": [
    "print(\"====== Neural Network ======\")\n",
    "learner_nn.train_loop(dl)"
   ]
  },
  {
   "cell_type": "markdown",
   "id": "competent-suffering",
   "metadata": {
    "papermill": {
     "duration": 0.031239,
     "end_time": "2021-02-17T20:05:58.942810",
     "exception": false,
     "start_time": "2021-02-17T20:05:58.911571",
     "status": "completed"
    },
    "tags": []
   },
   "source": [
    "### Logistic Regression based Implementation."
   ]
  },
  {
   "cell_type": "code",
   "execution_count": 21,
   "id": "qualified-psychiatry",
   "metadata": {
    "execution": {
     "iopub.execute_input": "2021-02-17T20:05:59.017569Z",
     "iopub.status.busy": "2021-02-17T20:05:59.016802Z",
     "iopub.status.idle": "2021-02-17T20:05:59.024331Z",
     "shell.execute_reply": "2021-02-17T20:05:59.023945Z"
    },
    "papermill": {
     "duration": 0.050624,
     "end_time": "2021-02-17T20:05:59.024446",
     "exception": false,
     "start_time": "2021-02-17T20:05:58.973822",
     "status": "completed"
    },
    "tags": []
   },
   "outputs": [],
   "source": [
    "learner_lr = Learner(loss, model_lr, opt, config.num_epochs)\n",
    "acc_lr = ClfCallback(learner_lr, config.bs, training_xdata , testing_xdata, training_ydata, testing_ydata)\n",
    "learner_lr.set_callbacks([acc_lr])"
   ]
  },
  {
   "cell_type": "code",
   "execution_count": 22,
   "id": "average-outside",
   "metadata": {
    "execution": {
     "iopub.execute_input": "2021-02-17T20:05:59.090992Z",
     "iopub.status.busy": "2021-02-17T20:05:59.090185Z",
     "iopub.status.idle": "2021-02-17T20:06:15.092762Z",
     "shell.execute_reply": "2021-02-17T20:06:15.093415Z"
    },
    "papermill": {
     "duration": 16.037918,
     "end_time": "2021-02-17T20:06:15.093554",
     "exception": false,
     "start_time": "2021-02-17T20:05:59.055636",
     "status": "completed"
    },
    "tags": []
   },
   "outputs": [
    {
     "name": "stdout",
     "output_type": "stream",
     "text": [
      "====== Logistic Regression ======\n",
      "Epoch 0, Loss 0.2704\n",
      "Training Accuracy: 0.5341, Testing Accuracy: 0.5464\n",
      "\n"
     ]
    },
    {
     "name": "stdout",
     "output_type": "stream",
     "text": [
      "Epoch 10, Loss 0.1067\n",
      "Training Accuracy: 0.9083, Testing Accuracy: 0.9148\n",
      "\n"
     ]
    },
    {
     "name": "stdout",
     "output_type": "stream",
     "text": [
      "Epoch 20, Loss 0.0801\n",
      "Training Accuracy: 0.9282, Testing Accuracy: 0.9385\n",
      "\n"
     ]
    },
    {
     "name": "stdout",
     "output_type": "stream",
     "text": [
      "Epoch 30, Loss 0.0682\n",
      "Training Accuracy: 0.9376, Testing Accuracy: 0.9506\n",
      "\n"
     ]
    },
    {
     "name": "stdout",
     "output_type": "stream",
     "text": [
      "Epoch 40, Loss 0.0613\n",
      "Training Accuracy: 0.9425, Testing Accuracy: 0.9572\n",
      "\n"
     ]
    },
    {
     "name": "stdout",
     "output_type": "stream",
     "text": [
      "Epoch 50, Loss 0.0566\n",
      "Training Accuracy: 0.9465, Testing Accuracy: 0.9587\n",
      "\n"
     ]
    },
    {
     "name": "stdout",
     "output_type": "stream",
     "text": [
      "Epoch 60, Loss 0.0533\n",
      "Training Accuracy: 0.9493, Testing Accuracy: 0.9587\n",
      "\n"
     ]
    },
    {
     "name": "stdout",
     "output_type": "stream",
     "text": [
      "Epoch 70, Loss 0.0507\n",
      "Training Accuracy: 0.9514, Testing Accuracy: 0.9612\n",
      "\n"
     ]
    },
    {
     "name": "stdout",
     "output_type": "stream",
     "text": [
      "Epoch 80, Loss 0.0486\n",
      "Training Accuracy: 0.9522, Testing Accuracy: 0.9607\n",
      "\n"
     ]
    },
    {
     "name": "stdout",
     "output_type": "stream",
     "text": [
      "Epoch 90, Loss 0.047\n",
      "Training Accuracy: 0.9539, Testing Accuracy: 0.9632\n",
      "\n"
     ]
    },
    {
     "name": "stdout",
     "output_type": "stream",
     "text": [
      "Epoch 100, Loss 0.0456\n",
      "Training Accuracy: 0.9545, Testing Accuracy: 0.9642\n",
      "\n"
     ]
    },
    {
     "name": "stdout",
     "output_type": "stream",
     "text": [
      "Epoch 110, Loss 0.0444\n",
      "Training Accuracy: 0.9554, Testing Accuracy: 0.9642\n",
      "\n"
     ]
    },
    {
     "name": "stdout",
     "output_type": "stream",
     "text": [
      "Epoch 120, Loss 0.0433\n",
      "Training Accuracy: 0.9564, Testing Accuracy: 0.9642\n",
      "\n"
     ]
    },
    {
     "name": "stdout",
     "output_type": "stream",
     "text": [
      "Epoch 130, Loss 0.0424\n",
      "Training Accuracy: 0.9574, Testing Accuracy: 0.9657\n",
      "\n"
     ]
    },
    {
     "name": "stdout",
     "output_type": "stream",
     "text": [
      "Epoch 140, Loss 0.0416\n",
      "Training Accuracy: 0.9580, Testing Accuracy: 0.9657\n",
      "\n"
     ]
    },
    {
     "name": "stdout",
     "output_type": "stream",
     "text": [
      "Epoch 150, Loss 0.0409\n",
      "Training Accuracy: 0.9585, Testing Accuracy: 0.9657\n",
      "\n"
     ]
    },
    {
     "name": "stdout",
     "output_type": "stream",
     "text": [
      "Epoch 160, Loss 0.0402\n",
      "Training Accuracy: 0.9590, Testing Accuracy: 0.9657\n",
      "\n"
     ]
    },
    {
     "name": "stdout",
     "output_type": "stream",
     "text": [
      "Epoch 170, Loss 0.0396\n",
      "Training Accuracy: 0.9598, Testing Accuracy: 0.9662\n",
      "\n"
     ]
    },
    {
     "name": "stdout",
     "output_type": "stream",
     "text": [
      "Epoch 180, Loss 0.039\n",
      "Training Accuracy: 0.9599, Testing Accuracy: 0.9667\n",
      "\n"
     ]
    },
    {
     "name": "stdout",
     "output_type": "stream",
     "text": [
      "Epoch 190, Loss 0.0385\n",
      "Training Accuracy: 0.9603, Testing Accuracy: 0.9667\n",
      "\n"
     ]
    },
    {
     "name": "stdout",
     "output_type": "stream",
     "text": [
      "Epoch 200, Loss 0.0381\n",
      "Training Accuracy: 0.9606, Testing Accuracy: 0.9677\n",
      "\n"
     ]
    },
    {
     "name": "stdout",
     "output_type": "stream",
     "text": [
      "Epoch 210, Loss 0.0376\n",
      "Training Accuracy: 0.9610, Testing Accuracy: 0.9677\n",
      "\n"
     ]
    },
    {
     "name": "stdout",
     "output_type": "stream",
     "text": [
      "Epoch 220, Loss 0.0372\n",
      "Training Accuracy: 0.9614, Testing Accuracy: 0.9682\n",
      "\n"
     ]
    },
    {
     "name": "stdout",
     "output_type": "stream",
     "text": [
      "Epoch 230, Loss 0.0369\n",
      "Training Accuracy: 0.9614, Testing Accuracy: 0.9682\n",
      "\n"
     ]
    },
    {
     "name": "stdout",
     "output_type": "stream",
     "text": [
      "Epoch 240, Loss 0.0365\n",
      "Training Accuracy: 0.9616, Testing Accuracy: 0.9688\n",
      "\n"
     ]
    },
    {
     "name": "stdout",
     "output_type": "stream",
     "text": [
      "Epoch 250, Loss 0.0362\n",
      "Training Accuracy: 0.9620, Testing Accuracy: 0.9682\n",
      "\n"
     ]
    },
    {
     "data": {
      "text/plain": [
       "0.04824127875552646"
      ]
     },
     "execution_count": 22,
     "metadata": {},
     "output_type": "execute_result"
    }
   ],
   "source": [
    "print(\"====== Logistic Regression ======\")\n",
    "learner_lr.train_loop(dl)"
   ]
  },
  {
   "cell_type": "markdown",
   "id": "adjusted-possible",
   "metadata": {
    "papermill": {
     "duration": 0.038171,
     "end_time": "2021-02-17T20:06:15.169832",
     "exception": false,
     "start_time": "2021-02-17T20:06:15.131661",
     "status": "completed"
    },
    "tags": []
   },
   "source": [
    "### Comparing results of NN and LR"
   ]
  },
  {
   "cell_type": "code",
   "execution_count": 23,
   "id": "mental-multimedia",
   "metadata": {
    "execution": {
     "iopub.execute_input": "2021-02-17T20:06:15.253645Z",
     "iopub.status.busy": "2021-02-17T20:06:15.252579Z",
     "iopub.status.idle": "2021-02-17T20:06:15.451554Z",
     "shell.execute_reply": "2021-02-17T20:06:15.451140Z"
    },
    "papermill": {
     "duration": 0.242835,
     "end_time": "2021-02-17T20:06:15.451665",
     "exception": false,
     "start_time": "2021-02-17T20:06:15.208830",
     "status": "completed"
    },
    "tags": []
   },
   "outputs": [
    {
     "data": {
      "text/plain": [
       "<matplotlib.legend.Legend at 0x7f5350f7fc50>"
      ]
     },
     "execution_count": 23,
     "metadata": {},
     "output_type": "execute_result"
    },
    {
     "data": {
      "image/png": "[encoded data removed]",
      "text/plain": [
       "<Figure size 1080x720 with 1 Axes>"
      ]
     },
     "metadata": {
      "needs_background": "light"
     },
     "output_type": "display_data"
    }
   ],
   "source": [
    "plt.figure(figsize=(15,10))\n",
    "\n",
    "# Neural Network plots\n",
    "plt.plot(acc_nn.accuracies, 'r-', label = \"Training Accuracies - NN\")\n",
    "plt.plot(acc_nn.test_accuracies, 'g-', label = \"Testing Accuracies - NN\")\n",
    "\n",
    "# Logistic Regression plots\n",
    "plt.plot(acc_lr.accuracies, 'k-', label = \"Training Accuracies - LR\")\n",
    "plt.plot(acc_lr.test_accuracies, 'b-', label = \"Testing Accuracies - LR\")\n",
    "\n",
    "plt.ylim(0.8, 1)\n",
    "\n",
    "plt.legend()\n",
    "\n"
   ]
  },
  {
   "cell_type": "markdown",
   "id": "sexual-flesh",
   "metadata": {
    "papermill": {
     "duration": 0.03848,
     "end_time": "2021-02-17T20:06:15.528949",
     "exception": false,
     "start_time": "2021-02-17T20:06:15.490469",
     "status": "completed"
    },
    "tags": []
   },
   "source": [
    "### From the plot, we can observe the following:\n",
    "- Neural Network achieves higher accuracy than the Logistic Regression model.\n",
    "- This apparently, is because of overfitting, i.e. NN captures more noise than data.\n",
    "- Testing accuracy of NN drops below the Training accuracy at higher epochs. This explains the over-fitting on training data.\n",
    "- Logistic Regression gives a reliable accuracy, without the above mentioned problem.\n"
   ]
  },
  {
   "cell_type": "markdown",
   "id": "institutional-pacific",
   "metadata": {
    "papermill": {
     "duration": 0.038351,
     "end_time": "2021-02-17T20:06:15.605726",
     "exception": false,
     "start_time": "2021-02-17T20:06:15.567375",
     "status": "completed"
    },
    "tags": []
   },
   "source": [
    "### Moving till the last but one layer (excluding it).\n",
    "#### Plotting the outputs of this layer of the NN."
   ]
  },
  {
   "cell_type": "code",
   "execution_count": 24,
   "id": "economic-server",
   "metadata": {
    "execution": {
     "iopub.execute_input": "2021-02-17T20:06:15.689959Z",
     "iopub.status.busy": "2021-02-17T20:06:15.689469Z",
     "iopub.status.idle": "2021-02-17T20:06:15.698288Z",
     "shell.execute_reply": "2021-02-17T20:06:15.698652Z"
    },
    "papermill": {
     "duration": 0.054594,
     "end_time": "2021-02-17T20:06:15.698781",
     "exception": false,
     "start_time": "2021-02-17T20:06:15.644187",
     "status": "completed"
    },
    "tags": []
   },
   "outputs": [],
   "source": [
    "model_new = Model(layers[:-2])"
   ]
  },
  {
   "cell_type": "code",
   "execution_count": 25,
   "id": "varied-upgrade",
   "metadata": {
    "execution": {
     "iopub.execute_input": "2021-02-17T20:06:15.781973Z",
     "iopub.status.busy": "2021-02-17T20:06:15.781481Z",
     "iopub.status.idle": "2021-02-17T20:06:15.813341Z",
     "shell.execute_reply": "2021-02-17T20:06:15.813911Z"
    },
    "papermill": {
     "duration": 0.076859,
     "end_time": "2021-02-17T20:06:15.814046",
     "exception": false,
     "start_time": "2021-02-17T20:06:15.737187",
     "status": "completed"
    },
    "tags": []
   },
   "outputs": [],
   "source": [
    "plot_testing = model_new(testing_xdata)"
   ]
  },
  {
   "cell_type": "code",
   "execution_count": 26,
   "id": "specific-handling",
   "metadata": {
    "execution": {
     "iopub.execute_input": "2021-02-17T20:06:15.902288Z",
     "iopub.status.busy": "2021-02-17T20:06:15.901677Z",
     "iopub.status.idle": "2021-02-17T20:06:16.383765Z",
     "shell.execute_reply": "2021-02-17T20:06:16.384466Z"
    },
    "papermill": {
     "duration": 0.53147,
     "end_time": "2021-02-17T20:06:16.384612",
     "exception": false,
     "start_time": "2021-02-17T20:06:15.853142",
     "status": "completed"
    },
    "tags": []
   },
   "outputs": [
    {
     "data": {
      "text/plain": [
       "Text(0.5, 1.0, 'Outputs')"
      ]
     },
     "execution_count": 26,
     "metadata": {},
     "output_type": "execute_result"
    },
    {
     "data": {
      "image/png": "[encoded data removed]",
      "text/plain": [
       "<Figure size 576x504 with 1 Axes>"
      ]
     },
     "metadata": {
      "needs_background": "light"
     },
     "output_type": "display_data"
    }
   ],
   "source": [
    "plt.figure(figsize=(8,7))\n",
    "plt.scatter(plot_testing[:,0], plot_testing[:,1], alpha = 0.1, c = y_test.ravel());\n",
    "plt.title('Outputs')"
   ]
  },
  {
   "cell_type": "markdown",
   "id": "described-knowing",
   "metadata": {
    "papermill": {
     "duration": 0.045461,
     "end_time": "2021-02-17T20:06:16.475809",
     "exception": false,
     "start_time": "2021-02-17T20:06:16.430348",
     "status": "completed"
    },
    "tags": []
   },
   "source": [
    "### Plotting probability contours"
   ]
  },
  {
   "cell_type": "code",
   "execution_count": 27,
   "id": "needed-growing",
   "metadata": {
    "execution": {
     "iopub.execute_input": "2021-02-17T20:06:16.578309Z",
     "iopub.status.busy": "2021-02-17T20:06:16.577739Z",
     "iopub.status.idle": "2021-02-17T20:06:16.585508Z",
     "shell.execute_reply": "2021-02-17T20:06:16.586024Z"
    },
    "papermill": {
     "duration": 0.064574,
     "end_time": "2021-02-17T20:06:16.586165",
     "exception": false,
     "start_time": "2021-02-17T20:06:16.521591",
     "status": "completed"
    },
    "tags": []
   },
   "outputs": [],
   "source": [
    "model_prob = Model(layers[-2:]) "
   ]
  },
  {
   "cell_type": "code",
   "execution_count": 28,
   "id": "introductory-enforcement",
   "metadata": {
    "execution": {
     "iopub.execute_input": "2021-02-17T20:06:16.686035Z",
     "iopub.status.busy": "2021-02-17T20:06:16.685491Z",
     "iopub.status.idle": "2021-02-17T20:06:16.697363Z",
     "shell.execute_reply": "2021-02-17T20:06:16.697768Z"
    },
    "papermill": {
     "duration": 0.066006,
     "end_time": "2021-02-17T20:06:16.697909",
     "exception": false,
     "start_time": "2021-02-17T20:06:16.631903",
     "status": "completed"
    },
    "tags": []
   },
   "outputs": [],
   "source": [
    "# Adjust the x and y ranges according to the above generated plot.\n",
    "x_range = np.linspace(-4, 1, 100) \n",
    "y_range = np.linspace(-6, 6, 100) \n",
    "x_grid, y_grid = np.meshgrid(x_range, y_range) # x_grid and y_grig are of size 100 X 100\n",
    "\n",
    "# converting x_grid and y_grid to continuous arrays\n",
    "x_grid_flat = np.ravel(x_grid)\n",
    "y_grid_flat = np.ravel(y_grid)\n",
    "\n",
    "# The last layer of the current model takes two columns as input. Hence transpose of np.vstack() is required.\n",
    "X = np.vstack((x_grid_flat, y_grid_flat)).T\n",
    "\n",
    "# x_grid and y_grid are of size 100 x 100\n",
    "probability_contour = model_prob(X).reshape(100,100) "
   ]
  },
  {
   "cell_type": "code",
   "execution_count": 29,
   "id": "understood-landing",
   "metadata": {
    "execution": {
     "iopub.execute_input": "2021-02-17T20:06:16.850781Z",
     "iopub.status.busy": "2021-02-17T20:06:16.850219Z",
     "iopub.status.idle": "2021-02-17T20:06:17.071954Z",
     "shell.execute_reply": "2021-02-17T20:06:17.071523Z"
    },
    "papermill": {
     "duration": 0.28652,
     "end_time": "2021-02-17T20:06:17.072085",
     "exception": false,
     "start_time": "2021-02-17T20:06:16.785565",
     "status": "completed"
    },
    "tags": []
   },
   "outputs": [
    {
     "data": {
      "image/png": "[encoded data removed]",
      "text/plain": [
       "<Figure size 720x648 with 1 Axes>"
      ]
     },
     "metadata": {
      "needs_background": "light"
     },
     "output_type": "display_data"
    }
   ],
   "source": [
    "plt.figure(figsize=(10,9))\n",
    "plt.scatter(plot_testing[:,0], plot_testing[:,1], alpha = 0.1, c = y_test.ravel())\n",
    "contours = plt.contour(x_grid,y_grid,probability_contour)\n",
    "plt.title('Probability Contours')\n",
    "plt.clabel(contours, inline = True );"
   ]
  }
 ],
 "metadata": {
  "kernelspec": {
   "display_name": "Python 3",
   "language": "python",
   "name": "python3"
  },
  "language_info": {
   "codemirror_mode": {
    "name": "ipython",
    "version": 3
   },
   "file_extension": ".py",
   "mimetype": "text/x-python",
   "name": "python",
   "nbconvert_exporter": "python",
   "pygments_lexer": "ipython3",
   "version": "3.6.12"
  },
  "papermill": {
   "duration": 114.702763,
   "end_time": "2021-02-17T20:06:17.531801",
   "environment_variables": {},
   "exception": null,
   "input_path": "2020-08-11-NeuralNetwork.ipynb",
   "output_path": "2020-08-11-NeuralNetwork.ipynb",
   "parameters": {},
   "start_time": "2021-02-17T20:04:22.829038",
   "version": "2.1.2"
  }
 },
 "nbformat": 4,
 "nbformat_minor": 5
}