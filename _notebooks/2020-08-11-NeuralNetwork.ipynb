{
 "cells": [
  {
   "cell_type": "markdown",
   "metadata": {
    "papermill": {
     "duration": 0.034742,
     "end_time": "2021-01-17T10:32:31.842077",
     "exception": false,
     "start_time": "2021-01-17T10:32:31.807335",
     "status": "completed"
    },
    "tags": []
   },
   "source": [
    "# \"A Basic Neural Network: Differentiate Hand-Written Digits\"\n",
    "\n",
    "- badges: true\n",
    "- author: Akshith Sriram"
   ]
  },
  {
   "cell_type": "markdown",
   "metadata": {
    "papermill": {
     "duration": 0.030501,
     "end_time": "2021-01-17T10:32:31.902940",
     "exception": false,
     "start_time": "2021-01-17T10:32:31.872439",
     "status": "completed"
    },
    "tags": []
   },
   "source": [
    "### Key Objectives:\n",
    "- Building a neural network that differentiates two hand-written digits 3 and 8.\n",
    "- Comparing the results of this Neural Network (NN) to that of a Logistic Regression (LR) model.\n",
    "\n",
    "### Requirements:\n",
    "- 'Kudzu' : A neural network library that was designed during our course by [Univ.AI](www.univ.ai). \n",
    "- MNIST Database\n",
    "\n",
    "If MNIST is not installed, use the command `!pip install mnist` given below.\n",
    "It can be run both from the command line and Jupyter Notebook."
   ]
  },
  {
   "cell_type": "code",
   "execution_count": 1,
   "metadata": {
    "execution": {
     "iopub.execute_input": "2021-01-17T10:32:31.975118Z",
     "iopub.status.busy": "2021-01-17T10:32:31.974396Z",
     "iopub.status.idle": "2021-01-17T10:32:33.750694Z",
     "shell.execute_reply": "2021-01-17T10:32:33.749358Z"
    },
    "papermill": {
     "duration": 1.818581,
     "end_time": "2021-01-17T10:32:33.750869",
     "exception": false,
     "start_time": "2021-01-17T10:32:31.932288",
     "status": "completed"
    },
    "tags": []
   },
   "outputs": [
    {
     "name": "stdout",
     "output_type": "stream",
     "text": [
      "Collecting mnist\r\n"
     ]
    },
    {
     "name": "stdout",
     "output_type": "stream",
     "text": [
      "  Downloading mnist-0.2.2-py2.py3-none-any.whl (3.5 kB)\r\n",
      "Requirement already satisfied: numpy in /opt/hostedtoolcache/Python/3.6.12/x64/lib/python3.6/site-packages (from mnist) (1.19.5)\r\n"
     ]
    },
    {
     "name": "stdout",
     "output_type": "stream",
     "text": [
      "Installing collected packages: mnist\r\n"
     ]
    },
    {
     "name": "stdout",
     "output_type": "stream",
     "text": [
      "Successfully installed mnist-0.2.2\r\n"
     ]
    }
   ],
   "source": [
    "!pip install mnist "
   ]
  },
  {
   "cell_type": "markdown",
   "metadata": {
    "papermill": {
     "duration": 0.805714,
     "end_time": "2021-01-17T10:32:34.590405",
     "exception": false,
     "start_time": "2021-01-17T10:32:33.784691",
     "status": "completed"
    },
    "tags": []
   },
   "source": [
    "#### Importing necessary libraries"
   ]
  },
  {
   "cell_type": "code",
   "execution_count": 2,
   "metadata": {
    "execution": {
     "iopub.execute_input": "2021-01-17T10:32:34.660748Z",
     "iopub.status.busy": "2021-01-17T10:32:34.660027Z",
     "iopub.status.idle": "2021-01-17T10:32:35.348636Z",
     "shell.execute_reply": "2021-01-17T10:32:35.348011Z"
    },
    "papermill": {
     "duration": 0.727612,
     "end_time": "2021-01-17T10:32:35.348803",
     "exception": false,
     "start_time": "2021-01-17T10:32:34.621191",
     "status": "completed"
    },
    "tags": []
   },
   "outputs": [],
   "source": [
    "%load_ext autoreload\n",
    "%autoreload 2\n",
    "\n",
    "%matplotlib inline\n",
    "import matplotlib.pyplot as plt\n",
    "\n",
    "import numpy as np\n",
    "import pandas as pd"
   ]
  },
  {
   "cell_type": "markdown",
   "metadata": {
    "papermill": {
     "duration": 0.031166,
     "end_time": "2021-01-17T10:32:35.410242",
     "exception": false,
     "start_time": "2021-01-17T10:32:35.379076",
     "status": "completed"
    },
    "tags": []
   },
   "source": [
    "### Preparing the Data"
   ]
  },
  {
   "cell_type": "code",
   "execution_count": 3,
   "metadata": {
    "execution": {
     "iopub.execute_input": "2021-01-17T10:32:35.479614Z",
     "iopub.status.busy": "2021-01-17T10:32:35.478860Z",
     "iopub.status.idle": "2021-01-17T10:32:35.492961Z",
     "shell.execute_reply": "2021-01-17T10:32:35.493539Z"
    },
    "papermill": {
     "duration": 0.05249,
     "end_time": "2021-01-17T10:32:35.493730",
     "exception": false,
     "start_time": "2021-01-17T10:32:35.441240",
     "status": "completed"
    },
    "tags": []
   },
   "outputs": [],
   "source": [
    "import mnist"
   ]
  },
  {
   "cell_type": "code",
   "execution_count": 4,
   "metadata": {
    "execution": {
     "iopub.execute_input": "2021-01-17T10:32:35.561991Z",
     "iopub.status.busy": "2021-01-17T10:32:35.561308Z",
     "iopub.status.idle": "2021-01-17T10:32:37.238273Z",
     "shell.execute_reply": "2021-01-17T10:32:37.237616Z"
    },
    "papermill": {
     "duration": 1.71267,
     "end_time": "2021-01-17T10:32:37.238473",
     "exception": false,
     "start_time": "2021-01-17T10:32:35.525803",
     "status": "completed"
    },
    "tags": []
   },
   "outputs": [],
   "source": [
    "train_images = mnist.train_images()\n",
    "train_labels = mnist.train_labels()"
   ]
  },
  {
   "cell_type": "code",
   "execution_count": 5,
   "metadata": {
    "execution": {
     "iopub.execute_input": "2021-01-17T10:32:37.309809Z",
     "iopub.status.busy": "2021-01-17T10:32:37.306563Z",
     "iopub.status.idle": "2021-01-17T10:32:37.322235Z",
     "shell.execute_reply": "2021-01-17T10:32:37.322854Z"
    },
    "papermill": {
     "duration": 0.054197,
     "end_time": "2021-01-17T10:32:37.323026",
     "exception": false,
     "start_time": "2021-01-17T10:32:37.268829",
     "status": "completed"
    },
    "tags": []
   },
   "outputs": [
    {
     "data": {
      "text/plain": [
       "((60000, 28, 28), (60000,))"
      ]
     },
     "execution_count": 5,
     "metadata": {},
     "output_type": "execute_result"
    }
   ],
   "source": [
    "train_images.shape, train_labels.shape"
   ]
  },
  {
   "cell_type": "code",
   "execution_count": 6,
   "metadata": {
    "execution": {
     "iopub.execute_input": "2021-01-17T10:32:37.393738Z",
     "iopub.status.busy": "2021-01-17T10:32:37.393079Z",
     "iopub.status.idle": "2021-01-17T10:32:38.641733Z",
     "shell.execute_reply": "2021-01-17T10:32:38.641098Z"
    },
    "papermill": {
     "duration": 1.285622,
     "end_time": "2021-01-17T10:32:38.641882",
     "exception": false,
     "start_time": "2021-01-17T10:32:37.356260",
     "status": "completed"
    },
    "tags": []
   },
   "outputs": [],
   "source": [
    "test_images = mnist.test_images()\n",
    "test_labels = mnist.test_labels()"
   ]
  },
  {
   "cell_type": "code",
   "execution_count": 7,
   "metadata": {
    "execution": {
     "iopub.execute_input": "2021-01-17T10:32:38.709640Z",
     "iopub.status.busy": "2021-01-17T10:32:38.708948Z",
     "iopub.status.idle": "2021-01-17T10:32:38.723662Z",
     "shell.execute_reply": "2021-01-17T10:32:38.724306Z"
    },
    "papermill": {
     "duration": 0.05202,
     "end_time": "2021-01-17T10:32:38.724480",
     "exception": false,
     "start_time": "2021-01-17T10:32:38.672460",
     "status": "completed"
    },
    "tags": []
   },
   "outputs": [
    {
     "data": {
      "text/plain": [
       "((10000, 28, 28), (10000,))"
      ]
     },
     "execution_count": 7,
     "metadata": {},
     "output_type": "execute_result"
    }
   ],
   "source": [
    "test_images.shape, test_labels.shape"
   ]
  },
  {
   "cell_type": "code",
   "execution_count": 8,
   "metadata": {
    "execution": {
     "iopub.execute_input": "2021-01-17T10:32:38.822563Z",
     "iopub.status.busy": "2021-01-17T10:32:38.798004Z",
     "iopub.status.idle": "2021-01-17T10:32:38.998576Z",
     "shell.execute_reply": "2021-01-17T10:32:38.997213Z"
    },
    "papermill": {
     "duration": 0.241728,
     "end_time": "2021-01-17T10:32:38.998744",
     "exception": false,
     "start_time": "2021-01-17T10:32:38.757016",
     "status": "completed"
    },
    "tags": []
   },
   "outputs": [
    {
     "name": "stdout",
     "output_type": "stream",
     "text": [
      "2\n"
     ]
    },
    {
     "data": {
      "text/plain": [
       "<matplotlib.image.AxesImage at 0x7fef7c406668>"
      ]
     },
     "execution_count": 8,
     "metadata": {},
     "output_type": "execute_result"
    },
    {
     "data": {
      "image/png": "[encoded data removed]",
      "text/plain": [
       "<Figure size 432x288 with 1 Axes>"
      ]
     },
     "metadata": {
      "needs_background": "light"
     },
     "output_type": "display_data"
    }
   ],
   "source": [
    "image_index = 7776 # You may select anything up to 60,000\n",
    "print(train_labels[image_index]) \n",
    "plt.imshow(train_images[image_index], cmap='Greys')"
   ]
  },
  {
   "cell_type": "markdown",
   "metadata": {
    "papermill": {
     "duration": 0.034693,
     "end_time": "2021-01-17T10:32:39.065586",
     "exception": false,
     "start_time": "2021-01-17T10:32:39.030893",
     "status": "completed"
    },
    "tags": []
   },
   "source": [
    "## Filter data to get 3 and 8 out"
   ]
  },
  {
   "cell_type": "code",
   "execution_count": 9,
   "metadata": {
    "execution": {
     "iopub.execute_input": "2021-01-17T10:32:39.137612Z",
     "iopub.status.busy": "2021-01-17T10:32:39.136915Z",
     "iopub.status.idle": "2021-01-17T10:32:39.157216Z",
     "shell.execute_reply": "2021-01-17T10:32:39.157812Z"
    },
    "papermill": {
     "duration": 0.059115,
     "end_time": "2021-01-17T10:32:39.157989",
     "exception": false,
     "start_time": "2021-01-17T10:32:39.098874",
     "status": "completed"
    },
    "tags": []
   },
   "outputs": [],
   "source": [
    "train_filter = np.where((train_labels == 3 ) | (train_labels == 8))\n",
    "test_filter = np.where((test_labels == 3) | (test_labels == 8))\n",
    "X_train, y_train = train_images[train_filter], train_labels[train_filter]\n",
    "X_test, y_test = test_images[test_filter], test_labels[test_filter]"
   ]
  },
  {
   "cell_type": "markdown",
   "metadata": {
    "papermill": {
     "duration": 0.033135,
     "end_time": "2021-01-17T10:32:39.225415",
     "exception": false,
     "start_time": "2021-01-17T10:32:39.192280",
     "status": "completed"
    },
    "tags": []
   },
   "source": [
    "We normalize the pixel values in the 0 to 1 range"
   ]
  },
  {
   "cell_type": "code",
   "execution_count": 10,
   "metadata": {
    "execution": {
     "iopub.execute_input": "2021-01-17T10:32:39.298402Z",
     "iopub.status.busy": "2021-01-17T10:32:39.297666Z",
     "iopub.status.idle": "2021-01-17T10:32:39.361675Z",
     "shell.execute_reply": "2021-01-17T10:32:39.361088Z"
    },
    "papermill": {
     "duration": 0.100701,
     "end_time": "2021-01-17T10:32:39.361862",
     "exception": false,
     "start_time": "2021-01-17T10:32:39.261161",
     "status": "completed"
    },
    "tags": []
   },
   "outputs": [],
   "source": [
    "X_train = X_train/255.\n",
    "X_test = X_test/255."
   ]
  },
  {
   "cell_type": "markdown",
   "metadata": {
    "papermill": {
     "duration": 0.032845,
     "end_time": "2021-01-17T10:32:39.429915",
     "exception": false,
     "start_time": "2021-01-17T10:32:39.397070",
     "status": "completed"
    },
    "tags": []
   },
   "source": [
    "Setup the labels as 1 (when the digit is 3) and 0 (when the digit is 8)"
   ]
  },
  {
   "cell_type": "code",
   "execution_count": 11,
   "metadata": {
    "execution": {
     "iopub.execute_input": "2021-01-17T10:32:39.502552Z",
     "iopub.status.busy": "2021-01-17T10:32:39.501819Z",
     "iopub.status.idle": "2021-01-17T10:32:39.515359Z",
     "shell.execute_reply": "2021-01-17T10:32:39.514762Z"
    },
    "papermill": {
     "duration": 0.053001,
     "end_time": "2021-01-17T10:32:39.515511",
     "exception": false,
     "start_time": "2021-01-17T10:32:39.462510",
     "status": "completed"
    },
    "tags": []
   },
   "outputs": [],
   "source": [
    "y_train = 1*(y_train==3)\n",
    "y_test = 1*(y_test==3)"
   ]
  },
  {
   "cell_type": "code",
   "execution_count": 12,
   "metadata": {
    "execution": {
     "iopub.execute_input": "2021-01-17T10:32:39.586062Z",
     "iopub.status.busy": "2021-01-17T10:32:39.585355Z",
     "iopub.status.idle": "2021-01-17T10:32:39.600623Z",
     "shell.execute_reply": "2021-01-17T10:32:39.600044Z"
    },
    "papermill": {
     "duration": 0.05228,
     "end_time": "2021-01-17T10:32:39.600798",
     "exception": false,
     "start_time": "2021-01-17T10:32:39.548518",
     "status": "completed"
    },
    "tags": []
   },
   "outputs": [
    {
     "data": {
      "text/plain": [
       "((11982, 28, 28), (1984, 28, 28))"
      ]
     },
     "execution_count": 12,
     "metadata": {},
     "output_type": "execute_result"
    }
   ],
   "source": [
    "X_train.shape, X_test.shape"
   ]
  },
  {
   "cell_type": "markdown",
   "metadata": {
    "papermill": {
     "duration": 0.033479,
     "end_time": "2021-01-17T10:32:39.669371",
     "exception": false,
     "start_time": "2021-01-17T10:32:39.635892",
     "status": "completed"
    },
    "tags": []
   },
   "source": [
    "### Reshape the input data to create a linear array"
   ]
  },
  {
   "cell_type": "code",
   "execution_count": 13,
   "metadata": {
    "execution": {
     "iopub.execute_input": "2021-01-17T10:32:39.742621Z",
     "iopub.status.busy": "2021-01-17T10:32:39.741901Z",
     "iopub.status.idle": "2021-01-17T10:32:39.756309Z",
     "shell.execute_reply": "2021-01-17T10:32:39.756915Z"
    },
    "papermill": {
     "duration": 0.054047,
     "end_time": "2021-01-17T10:32:39.757116",
     "exception": false,
     "start_time": "2021-01-17T10:32:39.703069",
     "status": "completed"
    },
    "tags": []
   },
   "outputs": [
    {
     "data": {
      "text/plain": [
       "((11982, 784), (1984, 784))"
      ]
     },
     "execution_count": 13,
     "metadata": {},
     "output_type": "execute_result"
    }
   ],
   "source": [
    "X_train = X_train.reshape(X_train.shape[0], -1)\n",
    "X_test = X_test.reshape(X_test.shape[0], -1)\n",
    "X_train.shape, X_test.shape"
   ]
  },
  {
   "cell_type": "markdown",
   "metadata": {
    "papermill": {
     "duration": 0.033955,
     "end_time": "2021-01-17T10:32:39.824521",
     "exception": false,
     "start_time": "2021-01-17T10:32:39.790566",
     "status": "completed"
    },
    "tags": []
   },
   "source": [
    "### Importing appropriate functions from 'Kudzu'"
   ]
  },
  {
   "cell_type": "code",
   "execution_count": 14,
   "metadata": {
    "execution": {
     "iopub.execute_input": "2021-01-17T10:32:39.899887Z",
     "iopub.status.busy": "2021-01-17T10:32:39.899198Z",
     "iopub.status.idle": "2021-01-17T10:32:39.920915Z",
     "shell.execute_reply": "2021-01-17T10:32:39.920325Z"
    },
    "papermill": {
     "duration": 0.062493,
     "end_time": "2021-01-17T10:32:39.921099",
     "exception": false,
     "start_time": "2021-01-17T10:32:39.858606",
     "status": "completed"
    },
    "tags": []
   },
   "outputs": [],
   "source": [
    "from kudzu.layer import Sigmoid\n",
    "from kudzu.layer import Relu\n",
    "from kudzu.layer import Affine, Sigmoid\n",
    "\n",
    "from kudzu.model import Model\n",
    "from kudzu.train import Learner\n",
    "from kudzu.optim import GD\n",
    "from kudzu.data import Data, Dataloader, Sampler\n",
    "\n",
    "from kudzu.callbacks import AccCallback\n",
    "from kudzu.callbacks import ClfCallback\n",
    "\n",
    "from kudzu.loss import MSE"
   ]
  },
  {
   "cell_type": "markdown",
   "metadata": {
    "papermill": {
     "duration": 0.035303,
     "end_time": "2021-01-17T10:32:39.990264",
     "exception": false,
     "start_time": "2021-01-17T10:32:39.954961",
     "status": "completed"
    },
    "tags": []
   },
   "source": [
    "### Let us create a `Config` class, to store important parameters. \n",
    "This class essentially plays the role of a dictionary."
   ]
  },
  {
   "cell_type": "code",
   "execution_count": 15,
   "metadata": {
    "execution": {
     "iopub.execute_input": "2021-01-17T10:32:40.066947Z",
     "iopub.status.busy": "2021-01-17T10:32:40.066201Z",
     "iopub.status.idle": "2021-01-17T10:32:40.078892Z",
     "shell.execute_reply": "2021-01-17T10:32:40.078218Z"
    },
    "papermill": {
     "duration": 0.055366,
     "end_time": "2021-01-17T10:32:40.079081",
     "exception": false,
     "start_time": "2021-01-17T10:32:40.023715",
     "status": "completed"
    },
    "tags": []
   },
   "outputs": [],
   "source": [
    "class Config:\n",
    "    pass\n",
    "config = Config()\n",
    "config.lr = 0.001\n",
    "config.num_epochs = 251\n",
    "config.bs = 50"
   ]
  },
  {
   "cell_type": "markdown",
   "metadata": {
    "papermill": {
     "duration": 0.033536,
     "end_time": "2021-01-17T10:32:40.146152",
     "exception": false,
     "start_time": "2021-01-17T10:32:40.112616",
     "status": "completed"
    },
    "tags": []
   },
   "source": [
    "### Initializing data to the variables"
   ]
  },
  {
   "cell_type": "code",
   "execution_count": 16,
   "metadata": {
    "execution": {
     "iopub.execute_input": "2021-01-17T10:32:40.219308Z",
     "iopub.status.busy": "2021-01-17T10:32:40.218628Z",
     "iopub.status.idle": "2021-01-17T10:32:40.232510Z",
     "shell.execute_reply": "2021-01-17T10:32:40.231900Z"
    },
    "papermill": {
     "duration": 0.051509,
     "end_time": "2021-01-17T10:32:40.232665",
     "exception": false,
     "start_time": "2021-01-17T10:32:40.181156",
     "status": "completed"
    },
    "tags": []
   },
   "outputs": [],
   "source": [
    "data = Data(X_train, y_train.reshape(-1,1))\n",
    "sampler = Sampler(data, config.bs, shuffle=True)\n",
    "\n",
    "dl = Dataloader(data, sampler)\n",
    "\n",
    "opt = GD(config.lr)\n",
    "loss = MSE()"
   ]
  },
  {
   "cell_type": "code",
   "execution_count": 17,
   "metadata": {
    "execution": {
     "iopub.execute_input": "2021-01-17T10:32:40.308701Z",
     "iopub.status.busy": "2021-01-17T10:32:40.307930Z",
     "iopub.status.idle": "2021-01-17T10:32:40.319913Z",
     "shell.execute_reply": "2021-01-17T10:32:40.320462Z"
    },
    "papermill": {
     "duration": 0.053147,
     "end_time": "2021-01-17T10:32:40.320633",
     "exception": false,
     "start_time": "2021-01-17T10:32:40.267486",
     "status": "completed"
    },
    "tags": []
   },
   "outputs": [],
   "source": [
    "training_xdata = X_train\n",
    "testing_xdata = X_test\n",
    "training_ydata = y_train.reshape(-1,1)\n",
    "testing_ydata = y_test.reshape(-1,1)"
   ]
  },
  {
   "cell_type": "markdown",
   "metadata": {
    "papermill": {
     "duration": 0.033939,
     "end_time": "2021-01-17T10:32:40.389202",
     "exception": false,
     "start_time": "2021-01-17T10:32:40.355263",
     "status": "completed"
    },
    "tags": []
   },
   "source": [
    "### Running Models with the Training data\n",
    "Details about the network layers:\n",
    "- A first affine layer has 784 inputs and does 100 affine transforms. These are followed by a Relu\n",
    "- A second affine layer has 100 inputs from the 100 activations of the past layer, and does 100 affine transforms. These are followed by a Relu\n",
    "- A third affine layer has 100 activations and does 2 affine transformations to create an embedding for visualization. There is no non-linearity here.\n",
    "- A final \"logistic regression\" which has an affine transform from 2 inputs to 1 output, which is squeezed through a sigmoid.\n",
    "\n",
    "Help taken from Anshuman's Notebook."
   ]
  },
  {
   "cell_type": "code",
   "execution_count": 18,
   "metadata": {
    "execution": {
     "iopub.execute_input": "2021-01-17T10:32:40.465914Z",
     "iopub.status.busy": "2021-01-17T10:32:40.465215Z",
     "iopub.status.idle": "2021-01-17T10:32:40.482391Z",
     "shell.execute_reply": "2021-01-17T10:32:40.482960Z"
    },
    "papermill": {
     "duration": 0.060528,
     "end_time": "2021-01-17T10:32:40.483134",
     "exception": false,
     "start_time": "2021-01-17T10:32:40.422606",
     "status": "completed"
    },
    "tags": []
   },
   "outputs": [],
   "source": [
    "# layers for the Neural Network\n",
    "layers = [Affine(\"first\", 784, 100), Relu(\"first\"), Affine(\"second\", 100, 100), Relu(\"second\"), Affine(\"third\", 100, 2), Affine(\"final\", 2, 1), Sigmoid(\"final\")]\n",
    "model_nn = Model(layers)\n",
    "\n",
    "# layers for the Logistic Regression\n",
    "layers_lr = [Affine(\"logits\", 784, 1), Sigmoid(\"sigmoid\")]\n",
    "model_lr = Model(layers_lr)"
   ]
  },
  {
   "cell_type": "code",
   "execution_count": 19,
   "metadata": {
    "execution": {
     "iopub.execute_input": "2021-01-17T10:32:40.569672Z",
     "iopub.status.busy": "2021-01-17T10:32:40.568993Z",
     "iopub.status.idle": "2021-01-17T10:32:40.580750Z",
     "shell.execute_reply": "2021-01-17T10:32:40.580148Z"
    },
    "papermill": {
     "duration": 0.064625,
     "end_time": "2021-01-17T10:32:40.580938",
     "exception": false,
     "start_time": "2021-01-17T10:32:40.516313",
     "status": "completed"
    },
    "tags": []
   },
   "outputs": [],
   "source": [
    "# suffix _nn stands for Neural Network.\n",
    "learner_nn = Learner(loss, model_nn, opt, config.num_epochs)\n",
    "acc_nn = ClfCallback(learner_nn, config.bs, training_xdata , testing_xdata, training_ydata, testing_ydata)\n",
    "learner_nn.set_callbacks([acc_nn])"
   ]
  },
  {
   "cell_type": "code",
   "execution_count": 20,
   "metadata": {
    "execution": {
     "iopub.execute_input": "2021-01-17T10:32:40.657822Z",
     "iopub.status.busy": "2021-01-17T10:32:40.657110Z",
     "iopub.status.idle": "2021-01-17T10:35:05.369620Z",
     "shell.execute_reply": "2021-01-17T10:35:05.368959Z"
    },
    "papermill": {
     "duration": 144.752872,
     "end_time": "2021-01-17T10:35:05.369771",
     "exception": false,
     "start_time": "2021-01-17T10:32:40.616899",
     "status": "completed"
    },
    "tags": []
   },
   "outputs": [
    {
     "name": "stdout",
     "output_type": "stream",
     "text": [
      "====== Neural Network ======\n"
     ]
    },
    {
     "name": "stdout",
     "output_type": "stream",
     "text": [
      "Epoch 0, Loss 0.2486\n",
      "Training Accuracy: 0.5031, Testing Accuracy: 0.5071\n",
      "\n"
     ]
    },
    {
     "name": "stdout",
     "output_type": "stream",
     "text": [
      "Epoch 10, Loss 0.1419\n",
      "Training Accuracy: 0.9034, Testing Accuracy: 0.9088\n",
      "\n"
     ]
    },
    {
     "name": "stdout",
     "output_type": "stream",
     "text": [
      "Epoch 20, Loss 0.0728\n",
      "Training Accuracy: 0.9292, Testing Accuracy: 0.9400\n",
      "\n"
     ]
    },
    {
     "name": "stdout",
     "output_type": "stream",
     "text": [
      "Epoch 30, Loss 0.0519\n",
      "Training Accuracy: 0.9438, Testing Accuracy: 0.9572\n",
      "\n"
     ]
    },
    {
     "name": "stdout",
     "output_type": "stream",
     "text": [
      "Epoch 40, Loss 0.0427\n",
      "Training Accuracy: 0.9527, Testing Accuracy: 0.9637\n",
      "\n"
     ]
    },
    {
     "name": "stdout",
     "output_type": "stream",
     "text": [
      "Epoch 50, Loss 0.0377\n",
      "Training Accuracy: 0.9575, Testing Accuracy: 0.9662\n",
      "\n"
     ]
    },
    {
     "name": "stdout",
     "output_type": "stream",
     "text": [
      "Epoch 60, Loss 0.0345\n",
      "Training Accuracy: 0.9614, Testing Accuracy: 0.9672\n",
      "\n"
     ]
    },
    {
     "name": "stdout",
     "output_type": "stream",
     "text": [
      "Epoch 70, Loss 0.0323\n",
      "Training Accuracy: 0.9635, Testing Accuracy: 0.9693\n",
      "\n"
     ]
    },
    {
     "name": "stdout",
     "output_type": "stream",
     "text": [
      "Epoch 80, Loss 0.0306\n",
      "Training Accuracy: 0.9645, Testing Accuracy: 0.9677\n",
      "\n"
     ]
    },
    {
     "name": "stdout",
     "output_type": "stream",
     "text": [
      "Epoch 90, Loss 0.0292\n",
      "Training Accuracy: 0.9660, Testing Accuracy: 0.9682\n",
      "\n"
     ]
    },
    {
     "name": "stdout",
     "output_type": "stream",
     "text": [
      "Epoch 100, Loss 0.028\n",
      "Training Accuracy: 0.9668, Testing Accuracy: 0.9688\n",
      "\n"
     ]
    },
    {
     "name": "stdout",
     "output_type": "stream",
     "text": [
      "Epoch 110, Loss 0.0271\n",
      "Training Accuracy: 0.9679, Testing Accuracy: 0.9682\n",
      "\n"
     ]
    },
    {
     "name": "stdout",
     "output_type": "stream",
     "text": [
      "Epoch 120, Loss 0.0262\n",
      "Training Accuracy: 0.9689, Testing Accuracy: 0.9688\n",
      "\n"
     ]
    },
    {
     "name": "stdout",
     "output_type": "stream",
     "text": [
      "Epoch 130, Loss 0.0255\n",
      "Training Accuracy: 0.9699, Testing Accuracy: 0.9693\n",
      "\n"
     ]
    },
    {
     "name": "stdout",
     "output_type": "stream",
     "text": [
      "Epoch 140, Loss 0.0248\n",
      "Training Accuracy: 0.9705, Testing Accuracy: 0.9708\n",
      "\n"
     ]
    },
    {
     "name": "stdout",
     "output_type": "stream",
     "text": [
      "Epoch 150, Loss 0.0242\n",
      "Training Accuracy: 0.9714, Testing Accuracy: 0.9728\n",
      "\n"
     ]
    },
    {
     "name": "stdout",
     "output_type": "stream",
     "text": [
      "Epoch 160, Loss 0.0236\n",
      "Training Accuracy: 0.9727, Testing Accuracy: 0.9723\n",
      "\n"
     ]
    },
    {
     "name": "stdout",
     "output_type": "stream",
     "text": [
      "Epoch 170, Loss 0.0231\n",
      "Training Accuracy: 0.9735, Testing Accuracy: 0.9718\n",
      "\n"
     ]
    },
    {
     "name": "stdout",
     "output_type": "stream",
     "text": [
      "Epoch 180, Loss 0.0226\n",
      "Training Accuracy: 0.9737, Testing Accuracy: 0.9708\n",
      "\n"
     ]
    },
    {
     "name": "stdout",
     "output_type": "stream",
     "text": [
      "Epoch 190, Loss 0.0221\n",
      "Training Accuracy: 0.9740, Testing Accuracy: 0.9713\n",
      "\n"
     ]
    },
    {
     "name": "stdout",
     "output_type": "stream",
     "text": [
      "Epoch 200, Loss 0.0217\n",
      "Training Accuracy: 0.9747, Testing Accuracy: 0.9713\n",
      "\n"
     ]
    },
    {
     "name": "stdout",
     "output_type": "stream",
     "text": [
      "Epoch 210, Loss 0.0213\n",
      "Training Accuracy: 0.9756, Testing Accuracy: 0.9708\n",
      "\n"
     ]
    },
    {
     "name": "stdout",
     "output_type": "stream",
     "text": [
      "Epoch 220, Loss 0.0209\n",
      "Training Accuracy: 0.9763, Testing Accuracy: 0.9708\n",
      "\n"
     ]
    },
    {
     "name": "stdout",
     "output_type": "stream",
     "text": [
      "Epoch 230, Loss 0.0205\n",
      "Training Accuracy: 0.9767, Testing Accuracy: 0.9718\n",
      "\n"
     ]
    },
    {
     "name": "stdout",
     "output_type": "stream",
     "text": [
      "Epoch 240, Loss 0.0202\n",
      "Training Accuracy: 0.9775, Testing Accuracy: 0.9718\n",
      "\n"
     ]
    },
    {
     "name": "stdout",
     "output_type": "stream",
     "text": [
      "Epoch 250, Loss 0.0198\n",
      "Training Accuracy: 0.9781, Testing Accuracy: 0.9728\n",
      "\n"
     ]
    },
    {
     "data": {
      "text/plain": [
       "0.05894509513101376"
      ]
     },
     "execution_count": 20,
     "metadata": {},
     "output_type": "execute_result"
    }
   ],
   "source": [
    "print(\"====== Neural Network ======\")\n",
    "learner_nn.train_loop(dl)"
   ]
  },
  {
   "cell_type": "markdown",
   "metadata": {
    "papermill": {
     "duration": 0.041944,
     "end_time": "2021-01-17T10:35:05.456868",
     "exception": false,
     "start_time": "2021-01-17T10:35:05.414924",
     "status": "completed"
    },
    "tags": []
   },
   "source": [
    "### Logistic Regression based Implementation."
   ]
  },
  {
   "cell_type": "code",
   "execution_count": 21,
   "metadata": {
    "execution": {
     "iopub.execute_input": "2021-01-17T10:35:05.550738Z",
     "iopub.status.busy": "2021-01-17T10:35:05.550062Z",
     "iopub.status.idle": "2021-01-17T10:35:05.562963Z",
     "shell.execute_reply": "2021-01-17T10:35:05.562307Z"
    },
    "papermill": {
     "duration": 0.060362,
     "end_time": "2021-01-17T10:35:05.563106",
     "exception": false,
     "start_time": "2021-01-17T10:35:05.502744",
     "status": "completed"
    },
    "tags": []
   },
   "outputs": [],
   "source": [
    "learner_lr = Learner(loss, model_lr, opt, config.num_epochs)\n",
    "acc_lr = ClfCallback(learner_lr, config.bs, training_xdata , testing_xdata, training_ydata, testing_ydata)\n",
    "learner_lr.set_callbacks([acc_lr])"
   ]
  },
  {
   "cell_type": "code",
   "execution_count": 22,
   "metadata": {
    "execution": {
     "iopub.execute_input": "2021-01-17T10:35:05.652859Z",
     "iopub.status.busy": "2021-01-17T10:35:05.652203Z",
     "iopub.status.idle": "2021-01-17T10:35:26.924884Z",
     "shell.execute_reply": "2021-01-17T10:35:26.925681Z"
    },
    "papermill": {
     "duration": 21.321177,
     "end_time": "2021-01-17T10:35:26.925874",
     "exception": false,
     "start_time": "2021-01-17T10:35:05.604697",
     "status": "completed"
    },
    "tags": []
   },
   "outputs": [
    {
     "name": "stdout",
     "output_type": "stream",
     "text": [
      "====== Logistic Regression ======\n",
      "Epoch 0, Loss 0.2103\n",
      "Training Accuracy: 0.8146, Testing Accuracy: 0.8453\n",
      "\n"
     ]
    },
    {
     "name": "stdout",
     "output_type": "stream",
     "text": [
      "Epoch 10, Loss 0.0961\n",
      "Training Accuracy: 0.9238, Testing Accuracy: 0.9365\n",
      "\n"
     ]
    },
    {
     "name": "stdout",
     "output_type": "stream",
     "text": [
      "Epoch 20, Loss 0.0753\n",
      "Training Accuracy: 0.9353, Testing Accuracy: 0.9521\n",
      "\n"
     ]
    },
    {
     "name": "stdout",
     "output_type": "stream",
     "text": [
      "Epoch 30, Loss 0.0655\n",
      "Training Accuracy: 0.9420, Testing Accuracy: 0.9556\n",
      "\n"
     ]
    },
    {
     "name": "stdout",
     "output_type": "stream",
     "text": [
      "Epoch 40, Loss 0.0596\n",
      "Training Accuracy: 0.9458, Testing Accuracy: 0.9582\n",
      "\n"
     ]
    },
    {
     "name": "stdout",
     "output_type": "stream",
     "text": [
      "Epoch 50, Loss 0.0555\n",
      "Training Accuracy: 0.9483, Testing Accuracy: 0.9602\n",
      "\n"
     ]
    },
    {
     "name": "stdout",
     "output_type": "stream",
     "text": [
      "Epoch 60, Loss 0.0525\n",
      "Training Accuracy: 0.9505, Testing Accuracy: 0.9612\n",
      "\n"
     ]
    },
    {
     "name": "stdout",
     "output_type": "stream",
     "text": [
      "Epoch 70, Loss 0.0501\n",
      "Training Accuracy: 0.9518, Testing Accuracy: 0.9627\n",
      "\n"
     ]
    },
    {
     "name": "stdout",
     "output_type": "stream",
     "text": [
      "Epoch 80, Loss 0.0482\n",
      "Training Accuracy: 0.9532, Testing Accuracy: 0.9627\n",
      "\n"
     ]
    },
    {
     "name": "stdout",
     "output_type": "stream",
     "text": [
      "Epoch 90, Loss 0.0467\n",
      "Training Accuracy: 0.9543, Testing Accuracy: 0.9637\n",
      "\n"
     ]
    },
    {
     "name": "stdout",
     "output_type": "stream",
     "text": [
      "Epoch 100, Loss 0.0453\n",
      "Training Accuracy: 0.9554, Testing Accuracy: 0.9657\n",
      "\n"
     ]
    },
    {
     "name": "stdout",
     "output_type": "stream",
     "text": [
      "Epoch 110, Loss 0.0442\n",
      "Training Accuracy: 0.9564, Testing Accuracy: 0.9657\n",
      "\n"
     ]
    },
    {
     "name": "stdout",
     "output_type": "stream",
     "text": [
      "Epoch 120, Loss 0.0432\n",
      "Training Accuracy: 0.9564, Testing Accuracy: 0.9657\n",
      "\n"
     ]
    },
    {
     "name": "stdout",
     "output_type": "stream",
     "text": [
      "Epoch 130, Loss 0.0423\n",
      "Training Accuracy: 0.9568, Testing Accuracy: 0.9662\n",
      "\n"
     ]
    },
    {
     "name": "stdout",
     "output_type": "stream",
     "text": [
      "Epoch 140, Loss 0.0415\n",
      "Training Accuracy: 0.9571, Testing Accuracy: 0.9677\n",
      "\n"
     ]
    },
    {
     "name": "stdout",
     "output_type": "stream",
     "text": [
      "Epoch 150, Loss 0.0408\n",
      "Training Accuracy: 0.9578, Testing Accuracy: 0.9677\n",
      "\n"
     ]
    },
    {
     "name": "stdout",
     "output_type": "stream",
     "text": [
      "Epoch 160, Loss 0.0402\n",
      "Training Accuracy: 0.9579, Testing Accuracy: 0.9677\n",
      "\n"
     ]
    },
    {
     "name": "stdout",
     "output_type": "stream",
     "text": [
      "Epoch 170, Loss 0.0396\n",
      "Training Accuracy: 0.9584, Testing Accuracy: 0.9682\n",
      "\n"
     ]
    },
    {
     "name": "stdout",
     "output_type": "stream",
     "text": [
      "Epoch 180, Loss 0.0391\n",
      "Training Accuracy: 0.9586, Testing Accuracy: 0.9682\n",
      "\n"
     ]
    },
    {
     "name": "stdout",
     "output_type": "stream",
     "text": [
      "Epoch 190, Loss 0.0386\n",
      "Training Accuracy: 0.9589, Testing Accuracy: 0.9682\n",
      "\n"
     ]
    },
    {
     "name": "stdout",
     "output_type": "stream",
     "text": [
      "Epoch 200, Loss 0.0381\n",
      "Training Accuracy: 0.9594, Testing Accuracy: 0.9682\n",
      "\n"
     ]
    },
    {
     "name": "stdout",
     "output_type": "stream",
     "text": [
      "Epoch 210, Loss 0.0377\n",
      "Training Accuracy: 0.9597, Testing Accuracy: 0.9682\n",
      "\n"
     ]
    },
    {
     "name": "stdout",
     "output_type": "stream",
     "text": [
      "Epoch 220, Loss 0.0373\n",
      "Training Accuracy: 0.9599, Testing Accuracy: 0.9682\n",
      "\n"
     ]
    },
    {
     "name": "stdout",
     "output_type": "stream",
     "text": [
      "Epoch 230, Loss 0.037\n",
      "Training Accuracy: 0.9602, Testing Accuracy: 0.9682\n",
      "\n"
     ]
    },
    {
     "name": "stdout",
     "output_type": "stream",
     "text": [
      "Epoch 240, Loss 0.0366\n",
      "Training Accuracy: 0.9604, Testing Accuracy: 0.9688\n",
      "\n"
     ]
    },
    {
     "name": "stdout",
     "output_type": "stream",
     "text": [
      "Epoch 250, Loss 0.0363\n",
      "Training Accuracy: 0.9608, Testing Accuracy: 0.9682\n",
      "\n"
     ]
    },
    {
     "data": {
      "text/plain": [
       "0.028799690931361213"
      ]
     },
     "execution_count": 22,
     "metadata": {},
     "output_type": "execute_result"
    }
   ],
   "source": [
    "print(\"====== Logistic Regression ======\")\n",
    "learner_lr.train_loop(dl)"
   ]
  },
  {
   "cell_type": "markdown",
   "metadata": {
    "papermill": {
     "duration": 0.050269,
     "end_time": "2021-01-17T10:35:27.026677",
     "exception": false,
     "start_time": "2021-01-17T10:35:26.976408",
     "status": "completed"
    },
    "tags": []
   },
   "source": [
    "### Comparing results of NN and LR"
   ]
  },
  {
   "cell_type": "code",
   "execution_count": 23,
   "metadata": {
    "execution": {
     "iopub.execute_input": "2021-01-17T10:35:27.135058Z",
     "iopub.status.busy": "2021-01-17T10:35:27.134382Z",
     "iopub.status.idle": "2021-01-17T10:35:27.438967Z",
     "shell.execute_reply": "2021-01-17T10:35:27.439503Z"
    },
    "papermill": {
     "duration": 0.361456,
     "end_time": "2021-01-17T10:35:27.439687",
     "exception": false,
     "start_time": "2021-01-17T10:35:27.078231",
     "status": "completed"
    },
    "tags": []
   },
   "outputs": [
    {
     "data": {
      "text/plain": [
       "<matplotlib.legend.Legend at 0x7fef73fec208>"
      ]
     },
     "execution_count": 23,
     "metadata": {},
     "output_type": "execute_result"
    },
    {
     "data": {
      "image/png": "[encoded data removed]",
      "text/plain": [
       "<Figure size 1080x720 with 1 Axes>"
      ]
     },
     "metadata": {
      "needs_background": "light"
     },
     "output_type": "display_data"
    }
   ],
   "source": [
    "plt.figure(figsize=(15,10))\n",
    "\n",
    "# Neural Network plots\n",
    "plt.plot(acc_nn.accuracies, 'r-', label = \"Training Accuracies - NN\")\n",
    "plt.plot(acc_nn.test_accuracies, 'g-', label = \"Testing Accuracies - NN\")\n",
    "\n",
    "# Logistic Regression plots\n",
    "plt.plot(acc_lr.accuracies, 'k-', label = \"Training Accuracies - LR\")\n",
    "plt.plot(acc_lr.test_accuracies, 'b-', label = \"Testing Accuracies - LR\")\n",
    "\n",
    "plt.ylim(0.8, 1)\n",
    "\n",
    "plt.legend()\n",
    "\n"
   ]
  },
  {
   "cell_type": "markdown",
   "metadata": {
    "papermill": {
     "duration": 0.057377,
     "end_time": "2021-01-17T10:35:27.550366",
     "exception": false,
     "start_time": "2021-01-17T10:35:27.492989",
     "status": "completed"
    },
    "tags": []
   },
   "source": [
    "### From the plot, we can observe the following:\n",
    "- Neural Network achieves higher accuracy than the Logistic Regression model.\n",
    "- This apparently, is because of overfitting, i.e. NN captures more noise than data.\n",
    "- Testing accuracy of NN drops below the Training accuracy at higher epochs. This explains the over-fitting on training data.\n",
    "- Logistic Regression gives a reliable accuracy, without the above mentioned problem.\n"
   ]
  },
  {
   "cell_type": "markdown",
   "metadata": {
    "papermill": {
     "duration": 0.051315,
     "end_time": "2021-01-17T10:35:27.658286",
     "exception": false,
     "start_time": "2021-01-17T10:35:27.606971",
     "status": "completed"
    },
    "tags": []
   },
   "source": [
    "### Moving till the last but one layer (excluding it).\n",
    "#### Plotting the outputs of this layer of the NN."
   ]
  },
  {
   "cell_type": "code",
   "execution_count": 24,
   "metadata": {
    "execution": {
     "iopub.execute_input": "2021-01-17T10:35:27.769512Z",
     "iopub.status.busy": "2021-01-17T10:35:27.768847Z",
     "iopub.status.idle": "2021-01-17T10:35:27.782403Z",
     "shell.execute_reply": "2021-01-17T10:35:27.781857Z"
    },
    "papermill": {
     "duration": 0.070842,
     "end_time": "2021-01-17T10:35:27.782570",
     "exception": false,
     "start_time": "2021-01-17T10:35:27.711728",
     "status": "completed"
    },
    "tags": []
   },
   "outputs": [],
   "source": [
    "model_new = Model(layers[:-2])"
   ]
  },
  {
   "cell_type": "code",
   "execution_count": 25,
   "metadata": {
    "execution": {
     "iopub.execute_input": "2021-01-17T10:35:27.896945Z",
     "iopub.status.busy": "2021-01-17T10:35:27.896243Z",
     "iopub.status.idle": "2021-01-17T10:35:27.924954Z",
     "shell.execute_reply": "2021-01-17T10:35:27.925593Z"
    },
    "papermill": {
     "duration": 0.08681,
     "end_time": "2021-01-17T10:35:27.925773",
     "exception": false,
     "start_time": "2021-01-17T10:35:27.838963",
     "status": "completed"
    },
    "tags": []
   },
   "outputs": [],
   "source": [
    "plot_testing = model_new(testing_xdata)"
   ]
  },
  {
   "cell_type": "code",
   "execution_count": 26,
   "metadata": {
    "execution": {
     "iopub.execute_input": "2021-01-17T10:35:28.049657Z",
     "iopub.status.busy": "2021-01-17T10:35:28.048987Z",
     "iopub.status.idle": "2021-01-17T10:35:28.309938Z",
     "shell.execute_reply": "2021-01-17T10:35:28.309363Z"
    },
    "papermill": {
     "duration": 0.331698,
     "end_time": "2021-01-17T10:35:28.310079",
     "exception": false,
     "start_time": "2021-01-17T10:35:27.978381",
     "status": "completed"
    },
    "tags": []
   },
   "outputs": [
    {
     "data": {
      "text/plain": [
       "Text(0.5, 1.0, 'Outputs')"
      ]
     },
     "execution_count": 26,
     "metadata": {},
     "output_type": "execute_result"
    },
    {
     "data": {
      "image/png": "[encoded data removed]",
      "text/plain": [
       "<Figure size 576x504 with 1 Axes>"
      ]
     },
     "metadata": {
      "needs_background": "light"
     },
     "output_type": "display_data"
    }
   ],
   "source": [
    "plt.figure(figsize=(8,7))\n",
    "plt.scatter(plot_testing[:,0], plot_testing[:,1], alpha = 0.1, c = y_test.ravel());\n",
    "plt.title('Outputs')"
   ]
  },
  {
   "cell_type": "markdown",
   "metadata": {
    "papermill": {
     "duration": 0.053301,
     "end_time": "2021-01-17T10:35:28.418444",
     "exception": false,
     "start_time": "2021-01-17T10:35:28.365143",
     "status": "completed"
    },
    "tags": []
   },
   "source": [
    "### Plotting probability contours"
   ]
  },
  {
   "cell_type": "code",
   "execution_count": 27,
   "metadata": {
    "execution": {
     "iopub.execute_input": "2021-01-17T10:35:28.544310Z",
     "iopub.status.busy": "2021-01-17T10:35:28.538159Z",
     "iopub.status.idle": "2021-01-17T10:35:28.554856Z",
     "shell.execute_reply": "2021-01-17T10:35:28.555381Z"
    },
    "papermill": {
     "duration": 0.078316,
     "end_time": "2021-01-17T10:35:28.555588",
     "exception": false,
     "start_time": "2021-01-17T10:35:28.477272",
     "status": "completed"
    },
    "tags": []
   },
   "outputs": [],
   "source": [
    "model_prob = Model(layers[-2:]) "
   ]
  },
  {
   "cell_type": "code",
   "execution_count": 28,
   "metadata": {
    "execution": {
     "iopub.execute_input": "2021-01-17T10:35:28.694974Z",
     "iopub.status.busy": "2021-01-17T10:35:28.694255Z",
     "iopub.status.idle": "2021-01-17T10:35:28.709383Z",
     "shell.execute_reply": "2021-01-17T10:35:28.709954Z"
    },
    "papermill": {
     "duration": 0.100635,
     "end_time": "2021-01-17T10:35:28.710127",
     "exception": false,
     "start_time": "2021-01-17T10:35:28.609492",
     "status": "completed"
    },
    "tags": []
   },
   "outputs": [],
   "source": [
    "# Adjust the x and y ranges according to the above generated plot.\n",
    "x_range = np.linspace(-4, 1, 100) \n",
    "y_range = np.linspace(-6, 6, 100) \n",
    "x_grid, y_grid = np.meshgrid(x_range, y_range) # x_grid and y_grig are of size 100 X 100\n",
    "\n",
    "# converting x_grid and y_grid to continuous arrays\n",
    "x_grid_flat = np.ravel(x_grid)\n",
    "y_grid_flat = np.ravel(y_grid)\n",
    "\n",
    "# The last layer of the current model takes two columns as input. Hence transpose of np.vstack() is required.\n",
    "X = np.vstack((x_grid_flat, y_grid_flat)).T\n",
    "\n",
    "# x_grid and y_grid are of size 100 x 100\n",
    "probability_contour = model_prob(X).reshape(100,100) "
   ]
  },
  {
   "cell_type": "code",
   "execution_count": 29,
   "metadata": {
    "execution": {
     "iopub.execute_input": "2021-01-17T10:35:28.823657Z",
     "iopub.status.busy": "2021-01-17T10:35:28.823004Z",
     "iopub.status.idle": "2021-01-17T10:35:29.141000Z",
     "shell.execute_reply": "2021-01-17T10:35:29.140179Z"
    },
    "papermill": {
     "duration": 0.377647,
     "end_time": "2021-01-17T10:35:29.141148",
     "exception": false,
     "start_time": "2021-01-17T10:35:28.763501",
     "status": "completed"
    },
    "tags": []
   },
   "outputs": [
    {
     "data": {
      "image/png": "[encoded data removed]",
      "text/plain": [
       "<Figure size 720x648 with 1 Axes>"
      ]
     },
     "metadata": {
      "needs_background": "light"
     },
     "output_type": "display_data"
    }
   ],
   "source": [
    "plt.figure(figsize=(10,9))\n",
    "plt.scatter(plot_testing[:,0], plot_testing[:,1], alpha = 0.1, c = y_test.ravel())\n",
    "contours = plt.contour(x_grid,y_grid,probability_contour)\n",
    "plt.title('Probability Contours')\n",
    "plt.clabel(contours, inline = True );"
   ]
  }
 ],
 "metadata": {
  "kernelspec": {
   "display_name": "Python 3",
   "language": "python",
   "name": "python3"
  },
  "language_info": {
   "codemirror_mode": {
    "name": "ipython",
    "version": 3
   },
   "file_extension": ".py",
   "mimetype": "text/x-python",
   "name": "python",
   "nbconvert_exporter": "python",
   "pygments_lexer": "ipython3",
   "version": "3.6.12"
  },
  "papermill": {
   "duration": 179.139383,
   "end_time": "2021-01-17T10:35:29.607502",
   "environment_variables": {},
   "exception": null,
   "input_path": "2020-08-11-NeuralNetwork.ipynb",
   "output_path": "2020-08-11-NeuralNetwork.ipynb",
   "parameters": {},
   "start_time": "2021-01-17T10:32:30.468119",
   "version": "2.1.2"
  }
 },
 "nbformat": 4,
 "nbformat_minor": 4
}