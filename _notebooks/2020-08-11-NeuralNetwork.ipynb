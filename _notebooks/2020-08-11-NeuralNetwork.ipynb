{
 "cells": [
  {
   "cell_type": "markdown",
   "id": "fitted-suggestion",
   "metadata": {
    "papermill": {
     "duration": 0.029905,
     "end_time": "2021-07-04T20:04:51.017520",
     "exception": false,
     "start_time": "2021-07-04T20:04:50.987615",
     "status": "completed"
    },
    "tags": []
   },
   "source": [
    "# \"A Basic Neural Network: Differentiate Hand-Written Digits\"\n",
    "\n",
    "- badges: true\n",
    "- author: Akshith Sriram"
   ]
  },
  {
   "cell_type": "markdown",
   "id": "signal-flexibility",
   "metadata": {
    "papermill": {
     "duration": 0.025237,
     "end_time": "2021-07-04T20:04:51.068736",
     "exception": false,
     "start_time": "2021-07-04T20:04:51.043499",
     "status": "completed"
    },
    "tags": []
   },
   "source": [
    "### Key Objectives:\n",
    "- Building a neural network that differentiates two hand-written digits 3 and 8.\n",
    "- Comparing the results of this Neural Network (NN) to that of a Logistic Regression (LR) model.\n",
    "\n",
    "### Requirements:\n",
    "- 'Kudzu' : A neural network library that was designed during our course by [Univ.AI](www.univ.ai). \n",
    "- MNIST Database\n",
    "\n",
    "If MNIST is not installed, use the command `!pip install mnist` given below.\n",
    "It can be run both from the command line and Jupyter Notebook."
   ]
  },
  {
   "cell_type": "code",
   "execution_count": 1,
   "id": "british-texture",
   "metadata": {
    "execution": {
     "iopub.execute_input": "2021-07-04T20:04:51.129090Z",
     "iopub.status.busy": "2021-07-04T20:04:51.128581Z",
     "iopub.status.idle": "2021-07-04T20:04:52.487066Z",
     "shell.execute_reply": "2021-07-04T20:04:52.486493Z"
    },
    "papermill": {
     "duration": 1.393082,
     "end_time": "2021-07-04T20:04:52.487201",
     "exception": false,
     "start_time": "2021-07-04T20:04:51.094119",
     "status": "completed"
    },
    "tags": []
   },
   "outputs": [
    {
     "name": "stdout",
     "output_type": "stream",
     "text": [
      "Collecting mnist\r\n"
     ]
    },
    {
     "name": "stdout",
     "output_type": "stream",
     "text": [
      "  Downloading mnist-0.2.2-py2.py3-none-any.whl (3.5 kB)\r\n",
      "Requirement already satisfied: numpy in /opt/hostedtoolcache/Python/3.6.13/x64/lib/python3.6/site-packages (from mnist) (1.19.5)\r\n"
     ]
    },
    {
     "name": "stdout",
     "output_type": "stream",
     "text": [
      "Installing collected packages: mnist\r\n",
      "Successfully installed mnist-0.2.2\r\n"
     ]
    }
   ],
   "source": [
    "!pip install mnist "
   ]
  },
  {
   "cell_type": "markdown",
   "id": "stunning-extra",
   "metadata": {
    "papermill": {
     "duration": 0.044329,
     "end_time": "2021-07-04T20:04:52.608226",
     "exception": false,
     "start_time": "2021-07-04T20:04:52.563897",
     "status": "completed"
    },
    "tags": []
   },
   "source": [
    "#### Importing necessary libraries"
   ]
  },
  {
   "cell_type": "code",
   "execution_count": 2,
   "id": "wooden-france",
   "metadata": {
    "execution": {
     "iopub.execute_input": "2021-07-04T20:04:52.714688Z",
     "iopub.status.busy": "2021-07-04T20:04:52.714176Z",
     "iopub.status.idle": "2021-07-04T20:04:53.217194Z",
     "shell.execute_reply": "2021-07-04T20:04:53.216698Z"
    },
    "papermill": {
     "duration": 0.551997,
     "end_time": "2021-07-04T20:04:53.217325",
     "exception": false,
     "start_time": "2021-07-04T20:04:52.665328",
     "status": "completed"
    },
    "tags": []
   },
   "outputs": [],
   "source": [
    "%load_ext autoreload\n",
    "%autoreload 2\n",
    "\n",
    "%matplotlib inline\n",
    "import matplotlib.pyplot as plt\n",
    "\n",
    "import numpy as np\n",
    "import pandas as pd"
   ]
  },
  {
   "cell_type": "markdown",
   "id": "stunning-physics",
   "metadata": {
    "papermill": {
     "duration": 0.026521,
     "end_time": "2021-07-04T20:04:53.271301",
     "exception": false,
     "start_time": "2021-07-04T20:04:53.244780",
     "status": "completed"
    },
    "tags": []
   },
   "source": [
    "### Preparing the Data"
   ]
  },
  {
   "cell_type": "code",
   "execution_count": 3,
   "id": "unauthorized-remainder",
   "metadata": {
    "execution": {
     "iopub.execute_input": "2021-07-04T20:04:53.327476Z",
     "iopub.status.busy": "2021-07-04T20:04:53.326921Z",
     "iopub.status.idle": "2021-07-04T20:04:53.339446Z",
     "shell.execute_reply": "2021-07-04T20:04:53.338575Z"
    },
    "papermill": {
     "duration": 0.042052,
     "end_time": "2021-07-04T20:04:53.339559",
     "exception": false,
     "start_time": "2021-07-04T20:04:53.297507",
     "status": "completed"
    },
    "tags": []
   },
   "outputs": [],
   "source": [
    "import mnist"
   ]
  },
  {
   "cell_type": "code",
   "execution_count": 4,
   "id": "correct-antarctica",
   "metadata": {
    "execution": {
     "iopub.execute_input": "2021-07-04T20:04:53.398391Z",
     "iopub.status.busy": "2021-07-04T20:04:53.396991Z",
     "iopub.status.idle": "2021-07-04T20:05:13.512264Z",
     "shell.execute_reply": "2021-07-04T20:05:13.511439Z"
    },
    "papermill": {
     "duration": 20.146557,
     "end_time": "2021-07-04T20:05:13.512395",
     "exception": false,
     "start_time": "2021-07-04T20:04:53.365838",
     "status": "completed"
    },
    "tags": []
   },
   "outputs": [],
   "source": [
    "train_images = mnist.train_images()\n",
    "train_labels = mnist.train_labels()"
   ]
  },
  {
   "cell_type": "code",
   "execution_count": 5,
   "id": "musical-prospect",
   "metadata": {
    "execution": {
     "iopub.execute_input": "2021-07-04T20:05:13.582616Z",
     "iopub.status.busy": "2021-07-04T20:05:13.576851Z",
     "iopub.status.idle": "2021-07-04T20:05:13.585704Z",
     "shell.execute_reply": "2021-07-04T20:05:13.585192Z"
    },
    "papermill": {
     "duration": 0.046927,
     "end_time": "2021-07-04T20:05:13.585817",
     "exception": false,
     "start_time": "2021-07-04T20:05:13.538890",
     "status": "completed"
    },
    "tags": []
   },
   "outputs": [
    {
     "data": {
      "text/plain": [
       "((60000, 28, 28), (60000,))"
      ]
     },
     "execution_count": 5,
     "metadata": {},
     "output_type": "execute_result"
    }
   ],
   "source": [
    "train_images.shape, train_labels.shape"
   ]
  },
  {
   "cell_type": "code",
   "execution_count": 6,
   "id": "preliminary-elizabeth",
   "metadata": {
    "execution": {
     "iopub.execute_input": "2021-07-04T20:05:13.646542Z",
     "iopub.status.busy": "2021-07-04T20:05:13.641665Z",
     "iopub.status.idle": "2021-07-04T20:05:17.081446Z",
     "shell.execute_reply": "2021-07-04T20:05:17.080944Z"
    },
    "papermill": {
     "duration": 3.469154,
     "end_time": "2021-07-04T20:05:17.081575",
     "exception": false,
     "start_time": "2021-07-04T20:05:13.612421",
     "status": "completed"
    },
    "tags": []
   },
   "outputs": [],
   "source": [
    "test_images = mnist.test_images()\n",
    "test_labels = mnist.test_labels()"
   ]
  },
  {
   "cell_type": "code",
   "execution_count": 7,
   "id": "acknowledged-oxygen",
   "metadata": {
    "execution": {
     "iopub.execute_input": "2021-07-04T20:05:17.143938Z",
     "iopub.status.busy": "2021-07-04T20:05:17.143434Z",
     "iopub.status.idle": "2021-07-04T20:05:17.152623Z",
     "shell.execute_reply": "2021-07-04T20:05:17.152218Z"
    },
    "papermill": {
     "duration": 0.044106,
     "end_time": "2021-07-04T20:05:17.152733",
     "exception": false,
     "start_time": "2021-07-04T20:05:17.108627",
     "status": "completed"
    },
    "tags": []
   },
   "outputs": [
    {
     "data": {
      "text/plain": [
       "((10000, 28, 28), (10000,))"
      ]
     },
     "execution_count": 7,
     "metadata": {},
     "output_type": "execute_result"
    }
   ],
   "source": [
    "test_images.shape, test_labels.shape"
   ]
  },
  {
   "cell_type": "code",
   "execution_count": 8,
   "id": "innovative-organic",
   "metadata": {
    "execution": {
     "iopub.execute_input": "2021-07-04T20:05:17.243237Z",
     "iopub.status.busy": "2021-07-04T20:05:17.219815Z",
     "iopub.status.idle": "2021-07-04T20:05:17.346016Z",
     "shell.execute_reply": "2021-07-04T20:05:17.346417Z"
    },
    "papermill": {
     "duration": 0.166478,
     "end_time": "2021-07-04T20:05:17.346548",
     "exception": false,
     "start_time": "2021-07-04T20:05:17.180070",
     "status": "completed"
    },
    "tags": []
   },
   "outputs": [
    {
     "name": "stdout",
     "output_type": "stream",
     "text": [
      "2\n"
     ]
    },
    {
     "data": {
      "text/plain": [
       "<matplotlib.image.AxesImage at 0x7f3dd5c82c18>"
      ]
     },
     "execution_count": 8,
     "metadata": {},
     "output_type": "execute_result"
    },
    {
     "data": {
      "image/png": "[encoded data removed]",
      "text/plain": [
       "<Figure size 432x288 with 1 Axes>"
      ]
     },
     "metadata": {
      "needs_background": "light"
     },
     "output_type": "display_data"
    }
   ],
   "source": [
    "image_index = 7776 # You may select anything up to 60,000\n",
    "print(train_labels[image_index]) \n",
    "plt.imshow(train_images[image_index], cmap='Greys')"
   ]
  },
  {
   "cell_type": "markdown",
   "id": "facial-modem",
   "metadata": {
    "papermill": {
     "duration": 0.027888,
     "end_time": "2021-07-04T20:05:17.402539",
     "exception": false,
     "start_time": "2021-07-04T20:05:17.374651",
     "status": "completed"
    },
    "tags": []
   },
   "source": [
    "## Filter data to get 3 and 8 out"
   ]
  },
  {
   "cell_type": "code",
   "execution_count": 9,
   "id": "thousand-acquisition",
   "metadata": {
    "execution": {
     "iopub.execute_input": "2021-07-04T20:05:17.462363Z",
     "iopub.status.busy": "2021-07-04T20:05:17.461865Z",
     "iopub.status.idle": "2021-07-04T20:05:17.479788Z",
     "shell.execute_reply": "2021-07-04T20:05:17.479314Z"
    },
    "papermill": {
     "duration": 0.049479,
     "end_time": "2021-07-04T20:05:17.479914",
     "exception": false,
     "start_time": "2021-07-04T20:05:17.430435",
     "status": "completed"
    },
    "tags": []
   },
   "outputs": [],
   "source": [
    "train_filter = np.where((train_labels == 3 ) | (train_labels == 8))\n",
    "test_filter = np.where((test_labels == 3) | (test_labels == 8))\n",
    "X_train, y_train = train_images[train_filter], train_labels[train_filter]\n",
    "X_test, y_test = test_images[test_filter], test_labels[test_filter]"
   ]
  },
  {
   "cell_type": "markdown",
   "id": "ruled-access",
   "metadata": {
    "papermill": {
     "duration": 0.027951,
     "end_time": "2021-07-04T20:05:17.536938",
     "exception": false,
     "start_time": "2021-07-04T20:05:17.508987",
     "status": "completed"
    },
    "tags": []
   },
   "source": [
    "We normalize the pixel values in the 0 to 1 range"
   ]
  },
  {
   "cell_type": "code",
   "execution_count": 10,
   "id": "isolated-denver",
   "metadata": {
    "execution": {
     "iopub.execute_input": "2021-07-04T20:05:17.596096Z",
     "iopub.status.busy": "2021-07-04T20:05:17.595606Z",
     "iopub.status.idle": "2021-07-04T20:05:17.641249Z",
     "shell.execute_reply": "2021-07-04T20:05:17.640766Z"
    },
    "papermill": {
     "duration": 0.076549,
     "end_time": "2021-07-04T20:05:17.641380",
     "exception": false,
     "start_time": "2021-07-04T20:05:17.564831",
     "status": "completed"
    },
    "tags": []
   },
   "outputs": [],
   "source": [
    "X_train = X_train/255.\n",
    "X_test = X_test/255."
   ]
  },
  {
   "cell_type": "markdown",
   "id": "perfect-summary",
   "metadata": {
    "papermill": {
     "duration": 0.028026,
     "end_time": "2021-07-04T20:05:17.698812",
     "exception": false,
     "start_time": "2021-07-04T20:05:17.670786",
     "status": "completed"
    },
    "tags": []
   },
   "source": [
    "Setup the labels as 1 (when the digit is 3) and 0 (when the digit is 8)"
   ]
  },
  {
   "cell_type": "code",
   "execution_count": 11,
   "id": "personalized-growing",
   "metadata": {
    "execution": {
     "iopub.execute_input": "2021-07-04T20:05:17.758125Z",
     "iopub.status.busy": "2021-07-04T20:05:17.757626Z",
     "iopub.status.idle": "2021-07-04T20:05:17.769262Z",
     "shell.execute_reply": "2021-07-04T20:05:17.768858Z"
    },
    "papermill": {
     "duration": 0.042651,
     "end_time": "2021-07-04T20:05:17.769370",
     "exception": false,
     "start_time": "2021-07-04T20:05:17.726719",
     "status": "completed"
    },
    "tags": []
   },
   "outputs": [],
   "source": [
    "y_train = 1*(y_train==3)\n",
    "y_test = 1*(y_test==3)"
   ]
  },
  {
   "cell_type": "code",
   "execution_count": 12,
   "id": "considered-virgin",
   "metadata": {
    "execution": {
     "iopub.execute_input": "2021-07-04T20:05:17.828778Z",
     "iopub.status.busy": "2021-07-04T20:05:17.828289Z",
     "iopub.status.idle": "2021-07-04T20:05:17.841350Z",
     "shell.execute_reply": "2021-07-04T20:05:17.840950Z"
    },
    "papermill": {
     "duration": 0.04392,
     "end_time": "2021-07-04T20:05:17.841459",
     "exception": false,
     "start_time": "2021-07-04T20:05:17.797539",
     "status": "completed"
    },
    "tags": []
   },
   "outputs": [
    {
     "data": {
      "text/plain": [
       "((11982, 28, 28), (1984, 28, 28))"
      ]
     },
     "execution_count": 12,
     "metadata": {},
     "output_type": "execute_result"
    }
   ],
   "source": [
    "X_train.shape, X_test.shape"
   ]
  },
  {
   "cell_type": "markdown",
   "id": "civilian-mobile",
   "metadata": {
    "papermill": {
     "duration": 0.028017,
     "end_time": "2021-07-04T20:05:17.897593",
     "exception": false,
     "start_time": "2021-07-04T20:05:17.869576",
     "status": "completed"
    },
    "tags": []
   },
   "source": [
    "### Reshape the input data to create a linear array"
   ]
  },
  {
   "cell_type": "code",
   "execution_count": 13,
   "id": "colonial-adams",
   "metadata": {
    "execution": {
     "iopub.execute_input": "2021-07-04T20:05:17.958931Z",
     "iopub.status.busy": "2021-07-04T20:05:17.958430Z",
     "iopub.status.idle": "2021-07-04T20:05:17.970154Z",
     "shell.execute_reply": "2021-07-04T20:05:17.969737Z"
    },
    "papermill": {
     "duration": 0.044476,
     "end_time": "2021-07-04T20:05:17.970258",
     "exception": false,
     "start_time": "2021-07-04T20:05:17.925782",
     "status": "completed"
    },
    "tags": []
   },
   "outputs": [
    {
     "data": {
      "text/plain": [
       "((11982, 784), (1984, 784))"
      ]
     },
     "execution_count": 13,
     "metadata": {},
     "output_type": "execute_result"
    }
   ],
   "source": [
    "X_train = X_train.reshape(X_train.shape[0], -1)\n",
    "X_test = X_test.reshape(X_test.shape[0], -1)\n",
    "X_train.shape, X_test.shape"
   ]
  },
  {
   "cell_type": "markdown",
   "id": "smart-details",
   "metadata": {
    "papermill": {
     "duration": 0.02814,
     "end_time": "2021-07-04T20:05:18.026716",
     "exception": false,
     "start_time": "2021-07-04T20:05:17.998576",
     "status": "completed"
    },
    "tags": []
   },
   "source": [
    "### Importing appropriate functions from 'Kudzu'"
   ]
  },
  {
   "cell_type": "code",
   "execution_count": 14,
   "id": "celtic-trial",
   "metadata": {
    "execution": {
     "iopub.execute_input": "2021-07-04T20:05:18.089553Z",
     "iopub.status.busy": "2021-07-04T20:05:18.089054Z",
     "iopub.status.idle": "2021-07-04T20:05:18.105936Z",
     "shell.execute_reply": "2021-07-04T20:05:18.105529Z"
    },
    "papermill": {
     "duration": 0.050817,
     "end_time": "2021-07-04T20:05:18.106046",
     "exception": false,
     "start_time": "2021-07-04T20:05:18.055229",
     "status": "completed"
    },
    "tags": []
   },
   "outputs": [],
   "source": [
    "from kudzu.layer import Sigmoid\n",
    "from kudzu.layer import Relu\n",
    "from kudzu.layer import Affine, Sigmoid\n",
    "\n",
    "from kudzu.model import Model\n",
    "from kudzu.train import Learner\n",
    "from kudzu.optim import GD\n",
    "from kudzu.data import Data, Dataloader, Sampler\n",
    "\n",
    "from kudzu.callbacks import AccCallback\n",
    "from kudzu.callbacks import ClfCallback\n",
    "\n",
    "from kudzu.loss import MSE"
   ]
  },
  {
   "cell_type": "markdown",
   "id": "coupled-customer",
   "metadata": {
    "papermill": {
     "duration": 0.028356,
     "end_time": "2021-07-04T20:05:18.162804",
     "exception": false,
     "start_time": "2021-07-04T20:05:18.134448",
     "status": "completed"
    },
    "tags": []
   },
   "source": [
    "### Let us create a `Config` class, to store important parameters. \n",
    "This class essentially plays the role of a dictionary."
   ]
  },
  {
   "cell_type": "code",
   "execution_count": 15,
   "id": "young-ceiling",
   "metadata": {
    "execution": {
     "iopub.execute_input": "2021-07-04T20:05:18.235014Z",
     "iopub.status.busy": "2021-07-04T20:05:18.229697Z",
     "iopub.status.idle": "2021-07-04T20:05:18.236844Z",
     "shell.execute_reply": "2021-07-04T20:05:18.237222Z"
    },
    "papermill": {
     "duration": 0.046078,
     "end_time": "2021-07-04T20:05:18.237352",
     "exception": false,
     "start_time": "2021-07-04T20:05:18.191274",
     "status": "completed"
    },
    "tags": []
   },
   "outputs": [],
   "source": [
    "class Config:\n",
    "    pass\n",
    "config = Config()\n",
    "config.lr = 0.001\n",
    "config.num_epochs = 251\n",
    "config.bs = 50"
   ]
  },
  {
   "cell_type": "markdown",
   "id": "according-mandate",
   "metadata": {
    "papermill": {
     "duration": 0.028456,
     "end_time": "2021-07-04T20:05:18.294731",
     "exception": false,
     "start_time": "2021-07-04T20:05:18.266275",
     "status": "completed"
    },
    "tags": []
   },
   "source": [
    "### Initializing data to the variables"
   ]
  },
  {
   "cell_type": "code",
   "execution_count": 16,
   "id": "academic-disposition",
   "metadata": {
    "execution": {
     "iopub.execute_input": "2021-07-04T20:05:18.356250Z",
     "iopub.status.busy": "2021-07-04T20:05:18.355746Z",
     "iopub.status.idle": "2021-07-04T20:05:18.367448Z",
     "shell.execute_reply": "2021-07-04T20:05:18.367040Z"
    },
    "papermill": {
     "duration": 0.044168,
     "end_time": "2021-07-04T20:05:18.367557",
     "exception": false,
     "start_time": "2021-07-04T20:05:18.323389",
     "status": "completed"
    },
    "tags": []
   },
   "outputs": [],
   "source": [
    "data = Data(X_train, y_train.reshape(-1,1))\n",
    "sampler = Sampler(data, config.bs, shuffle=True)\n",
    "\n",
    "dl = Dataloader(data, sampler)\n",
    "\n",
    "opt = GD(config.lr)\n",
    "loss = MSE()"
   ]
  },
  {
   "cell_type": "code",
   "execution_count": 17,
   "id": "featured-commission",
   "metadata": {
    "execution": {
     "iopub.execute_input": "2021-07-04T20:05:18.441733Z",
     "iopub.status.busy": "2021-07-04T20:05:18.439784Z",
     "iopub.status.idle": "2021-07-04T20:05:18.443989Z",
     "shell.execute_reply": "2021-07-04T20:05:18.443567Z"
    },
    "papermill": {
     "duration": 0.048174,
     "end_time": "2021-07-04T20:05:18.444097",
     "exception": false,
     "start_time": "2021-07-04T20:05:18.395923",
     "status": "completed"
    },
    "tags": []
   },
   "outputs": [],
   "source": [
    "training_xdata = X_train\n",
    "testing_xdata = X_test\n",
    "training_ydata = y_train.reshape(-1,1)\n",
    "testing_ydata = y_test.reshape(-1,1)"
   ]
  },
  {
   "cell_type": "markdown",
   "id": "played-safety",
   "metadata": {
    "papermill": {
     "duration": 0.028336,
     "end_time": "2021-07-04T20:05:18.500870",
     "exception": false,
     "start_time": "2021-07-04T20:05:18.472534",
     "status": "completed"
    },
    "tags": []
   },
   "source": [
    "### Running Models with the Training data\n",
    "Details about the network layers:\n",
    "- A first affine layer has 784 inputs and does 100 affine transforms. These are followed by a Relu\n",
    "- A second affine layer has 100 inputs from the 100 activations of the past layer, and does 100 affine transforms. These are followed by a Relu\n",
    "- A third affine layer has 100 activations and does 2 affine transformations to create an embedding for visualization. There is no non-linearity here.\n",
    "- A final \"logistic regression\" which has an affine transform from 2 inputs to 1 output, which is squeezed through a sigmoid.\n",
    "\n",
    "Help taken from Anshuman's Notebook."
   ]
  },
  {
   "cell_type": "code",
   "execution_count": 18,
   "id": "asian-bankruptcy",
   "metadata": {
    "execution": {
     "iopub.execute_input": "2021-07-04T20:05:18.571816Z",
     "iopub.status.busy": "2021-07-04T20:05:18.569524Z",
     "iopub.status.idle": "2021-07-04T20:05:18.579778Z",
     "shell.execute_reply": "2021-07-04T20:05:18.580156Z"
    },
    "papermill": {
     "duration": 0.051069,
     "end_time": "2021-07-04T20:05:18.580284",
     "exception": false,
     "start_time": "2021-07-04T20:05:18.529215",
     "status": "completed"
    },
    "tags": []
   },
   "outputs": [],
   "source": [
    "# layers for the Neural Network\n",
    "layers = [Affine(\"first\", 784, 100), Relu(\"first\"), Affine(\"second\", 100, 100), Relu(\"second\"), Affine(\"third\", 100, 2), Affine(\"final\", 2, 1), Sigmoid(\"final\")]\n",
    "model_nn = Model(layers)\n",
    "\n",
    "# layers for the Logistic Regression\n",
    "layers_lr = [Affine(\"logits\", 784, 1), Sigmoid(\"sigmoid\")]\n",
    "model_lr = Model(layers_lr)"
   ]
  },
  {
   "cell_type": "code",
   "execution_count": 19,
   "id": "removed-butler",
   "metadata": {
    "execution": {
     "iopub.execute_input": "2021-07-04T20:05:18.656127Z",
     "iopub.status.busy": "2021-07-04T20:05:18.654859Z",
     "iopub.status.idle": "2021-07-04T20:05:18.659122Z",
     "shell.execute_reply": "2021-07-04T20:05:18.658690Z"
    },
    "papermill": {
     "duration": 0.050274,
     "end_time": "2021-07-04T20:05:18.659240",
     "exception": false,
     "start_time": "2021-07-04T20:05:18.608966",
     "status": "completed"
    },
    "tags": []
   },
   "outputs": [],
   "source": [
    "# suffix _nn stands for Neural Network.\n",
    "learner_nn = Learner(loss, model_nn, opt, config.num_epochs)\n",
    "acc_nn = ClfCallback(learner_nn, config.bs, training_xdata , testing_xdata, training_ydata, testing_ydata)\n",
    "learner_nn.set_callbacks([acc_nn])"
   ]
  },
  {
   "cell_type": "code",
   "execution_count": 20,
   "id": "conceptual-throw",
   "metadata": {
    "execution": {
     "iopub.execute_input": "2021-07-04T20:05:18.724193Z",
     "iopub.status.busy": "2021-07-04T20:05:18.723699Z",
     "iopub.status.idle": "2021-07-04T20:06:33.247676Z",
     "shell.execute_reply": "2021-07-04T20:06:33.248162Z"
    },
    "papermill": {
     "duration": 74.56045,
     "end_time": "2021-07-04T20:06:33.248301",
     "exception": false,
     "start_time": "2021-07-04T20:05:18.687851",
     "status": "completed"
    },
    "tags": []
   },
   "outputs": [
    {
     "name": "stdout",
     "output_type": "stream",
     "text": [
      "====== Neural Network ======\n"
     ]
    },
    {
     "name": "stdout",
     "output_type": "stream",
     "text": [
      "Epoch 0, Loss 0.2405\n",
      "Training Accuracy: 0.6995, Testing Accuracy: 0.7157\n",
      "\n"
     ]
    },
    {
     "name": "stdout",
     "output_type": "stream",
     "text": [
      "Epoch 10, Loss 0.0799\n",
      "Training Accuracy: 0.9181, Testing Accuracy: 0.9340\n",
      "\n"
     ]
    },
    {
     "name": "stdout",
     "output_type": "stream",
     "text": [
      "Epoch 20, Loss 0.0497\n",
      "Training Accuracy: 0.9482, Testing Accuracy: 0.9602\n",
      "\n"
     ]
    },
    {
     "name": "stdout",
     "output_type": "stream",
     "text": [
      "Epoch 30, Loss 0.0394\n",
      "Training Accuracy: 0.9562, Testing Accuracy: 0.9652\n",
      "\n"
     ]
    },
    {
     "name": "stdout",
     "output_type": "stream",
     "text": [
      "Epoch 40, Loss 0.0344\n",
      "Training Accuracy: 0.9609, Testing Accuracy: 0.9688\n",
      "\n"
     ]
    },
    {
     "name": "stdout",
     "output_type": "stream",
     "text": [
      "Epoch 50, Loss 0.0314\n",
      "Training Accuracy: 0.9636, Testing Accuracy: 0.9698\n",
      "\n"
     ]
    },
    {
     "name": "stdout",
     "output_type": "stream",
     "text": [
      "Epoch 60, Loss 0.0292\n",
      "Training Accuracy: 0.9669, Testing Accuracy: 0.9698\n",
      "\n"
     ]
    },
    {
     "name": "stdout",
     "output_type": "stream",
     "text": [
      "Epoch 70, Loss 0.0276\n",
      "Training Accuracy: 0.9683, Testing Accuracy: 0.9713\n",
      "\n"
     ]
    },
    {
     "name": "stdout",
     "output_type": "stream",
     "text": [
      "Epoch 80, Loss 0.0263\n",
      "Training Accuracy: 0.9696, Testing Accuracy: 0.9718\n",
      "\n"
     ]
    },
    {
     "name": "stdout",
     "output_type": "stream",
     "text": [
      "Epoch 90, Loss 0.0251\n",
      "Training Accuracy: 0.9710, Testing Accuracy: 0.9723\n",
      "\n"
     ]
    },
    {
     "name": "stdout",
     "output_type": "stream",
     "text": [
      "Epoch 100, Loss 0.0242\n",
      "Training Accuracy: 0.9721, Testing Accuracy: 0.9728\n",
      "\n"
     ]
    },
    {
     "name": "stdout",
     "output_type": "stream",
     "text": [
      "Epoch 110, Loss 0.0233\n",
      "Training Accuracy: 0.9733, Testing Accuracy: 0.9733\n",
      "\n"
     ]
    },
    {
     "name": "stdout",
     "output_type": "stream",
     "text": [
      "Epoch 120, Loss 0.0225\n",
      "Training Accuracy: 0.9748, Testing Accuracy: 0.9733\n",
      "\n"
     ]
    },
    {
     "name": "stdout",
     "output_type": "stream",
     "text": [
      "Epoch 130, Loss 0.0218\n",
      "Training Accuracy: 0.9755, Testing Accuracy: 0.9748\n",
      "\n"
     ]
    },
    {
     "name": "stdout",
     "output_type": "stream",
     "text": [
      "Epoch 140, Loss 0.0211\n",
      "Training Accuracy: 0.9760, Testing Accuracy: 0.9753\n",
      "\n"
     ]
    },
    {
     "name": "stdout",
     "output_type": "stream",
     "text": [
      "Epoch 150, Loss 0.0205\n",
      "Training Accuracy: 0.9771, Testing Accuracy: 0.9753\n",
      "\n"
     ]
    },
    {
     "name": "stdout",
     "output_type": "stream",
     "text": [
      "Epoch 160, Loss 0.02\n",
      "Training Accuracy: 0.9775, Testing Accuracy: 0.9763\n",
      "\n"
     ]
    },
    {
     "name": "stdout",
     "output_type": "stream",
     "text": [
      "Epoch 170, Loss 0.0194\n",
      "Training Accuracy: 0.9785, Testing Accuracy: 0.9768\n",
      "\n"
     ]
    },
    {
     "name": "stdout",
     "output_type": "stream",
     "text": [
      "Epoch 180, Loss 0.0189\n",
      "Training Accuracy: 0.9796, Testing Accuracy: 0.9773\n",
      "\n"
     ]
    },
    {
     "name": "stdout",
     "output_type": "stream",
     "text": [
      "Epoch 190, Loss 0.0185\n",
      "Training Accuracy: 0.9797, Testing Accuracy: 0.9768\n",
      "\n"
     ]
    },
    {
     "name": "stdout",
     "output_type": "stream",
     "text": [
      "Epoch 200, Loss 0.018\n",
      "Training Accuracy: 0.9802, Testing Accuracy: 0.9773\n",
      "\n"
     ]
    },
    {
     "name": "stdout",
     "output_type": "stream",
     "text": [
      "Epoch 210, Loss 0.0176\n",
      "Training Accuracy: 0.9804, Testing Accuracy: 0.9768\n",
      "\n"
     ]
    },
    {
     "name": "stdout",
     "output_type": "stream",
     "text": [
      "Epoch 220, Loss 0.0172\n",
      "Training Accuracy: 0.9809, Testing Accuracy: 0.9773\n",
      "\n"
     ]
    },
    {
     "name": "stdout",
     "output_type": "stream",
     "text": [
      "Epoch 230, Loss 0.0168\n",
      "Training Accuracy: 0.9815, Testing Accuracy: 0.9778\n",
      "\n"
     ]
    },
    {
     "name": "stdout",
     "output_type": "stream",
     "text": [
      "Epoch 240, Loss 0.0164\n",
      "Training Accuracy: 0.9818, Testing Accuracy: 0.9783\n",
      "\n"
     ]
    },
    {
     "name": "stdout",
     "output_type": "stream",
     "text": [
      "Epoch 250, Loss 0.016\n",
      "Training Accuracy: 0.9822, Testing Accuracy: 0.9783\n",
      "\n"
     ]
    },
    {
     "data": {
      "text/plain": [
       "0.005605054183439162"
      ]
     },
     "execution_count": 20,
     "metadata": {},
     "output_type": "execute_result"
    }
   ],
   "source": [
    "print(\"====== Neural Network ======\")\n",
    "learner_nn.train_loop(dl)"
   ]
  },
  {
   "cell_type": "markdown",
   "id": "competent-suffering",
   "metadata": {
    "papermill": {
     "duration": 0.03541,
     "end_time": "2021-07-04T20:06:33.321430",
     "exception": false,
     "start_time": "2021-07-04T20:06:33.286020",
     "status": "completed"
    },
    "tags": []
   },
   "source": [
    "### Logistic Regression based Implementation."
   ]
  },
  {
   "cell_type": "code",
   "execution_count": 21,
   "id": "qualified-psychiatry",
   "metadata": {
    "execution": {
     "iopub.execute_input": "2021-07-04T20:06:33.396446Z",
     "iopub.status.busy": "2021-07-04T20:06:33.395855Z",
     "iopub.status.idle": "2021-07-04T20:06:33.407031Z",
     "shell.execute_reply": "2021-07-04T20:06:33.406603Z"
    },
    "papermill": {
     "duration": 0.050119,
     "end_time": "2021-07-04T20:06:33.407149",
     "exception": false,
     "start_time": "2021-07-04T20:06:33.357030",
     "status": "completed"
    },
    "tags": []
   },
   "outputs": [],
   "source": [
    "learner_lr = Learner(loss, model_lr, opt, config.num_epochs)\n",
    "acc_lr = ClfCallback(learner_lr, config.bs, training_xdata , testing_xdata, training_ydata, testing_ydata)\n",
    "learner_lr.set_callbacks([acc_lr])"
   ]
  },
  {
   "cell_type": "code",
   "execution_count": 22,
   "id": "average-outside",
   "metadata": {
    "execution": {
     "iopub.execute_input": "2021-07-04T20:06:33.491798Z",
     "iopub.status.busy": "2021-07-04T20:06:33.482572Z",
     "iopub.status.idle": "2021-07-04T20:06:46.881987Z",
     "shell.execute_reply": "2021-07-04T20:06:46.882411Z"
    },
    "papermill": {
     "duration": 13.439412,
     "end_time": "2021-07-04T20:06:46.882541",
     "exception": false,
     "start_time": "2021-07-04T20:06:33.443129",
     "status": "completed"
    },
    "tags": []
   },
   "outputs": [
    {
     "name": "stdout",
     "output_type": "stream",
     "text": [
      "====== Logistic Regression ======\n",
      "Epoch 0, Loss 0.244\n",
      "Training Accuracy: 0.6807, Testing Accuracy: 0.6885\n",
      "\n"
     ]
    },
    {
     "name": "stdout",
     "output_type": "stream",
     "text": [
      "Epoch 10, Loss 0.1051\n",
      "Training Accuracy: 0.9048, Testing Accuracy: 0.9088\n",
      "\n"
     ]
    },
    {
     "name": "stdout",
     "output_type": "stream",
     "text": [
      "Epoch 20, Loss 0.0806\n",
      "Training Accuracy: 0.9247, Testing Accuracy: 0.9309\n",
      "\n"
     ]
    },
    {
     "name": "stdout",
     "output_type": "stream",
     "text": [
      "Epoch 30, Loss 0.0693\n",
      "Training Accuracy: 0.9327, Testing Accuracy: 0.9430\n",
      "\n"
     ]
    },
    {
     "name": "stdout",
     "output_type": "stream",
     "text": [
      "Epoch 40, Loss 0.0624\n",
      "Training Accuracy: 0.9397, Testing Accuracy: 0.9491\n",
      "\n"
     ]
    },
    {
     "name": "stdout",
     "output_type": "stream",
     "text": [
      "Epoch 50, Loss 0.0577\n",
      "Training Accuracy: 0.9441, Testing Accuracy: 0.9516\n",
      "\n"
     ]
    },
    {
     "name": "stdout",
     "output_type": "stream",
     "text": [
      "Epoch 60, Loss 0.0543\n",
      "Training Accuracy: 0.9476, Testing Accuracy: 0.9526\n",
      "\n"
     ]
    },
    {
     "name": "stdout",
     "output_type": "stream",
     "text": [
      "Epoch 70, Loss 0.0517\n",
      "Training Accuracy: 0.9495, Testing Accuracy: 0.9551\n",
      "\n"
     ]
    },
    {
     "name": "stdout",
     "output_type": "stream",
     "text": [
      "Epoch 80, Loss 0.0496\n",
      "Training Accuracy: 0.9513, Testing Accuracy: 0.9556\n",
      "\n"
     ]
    },
    {
     "name": "stdout",
     "output_type": "stream",
     "text": [
      "Epoch 90, Loss 0.0479\n",
      "Training Accuracy: 0.9523, Testing Accuracy: 0.9577\n",
      "\n"
     ]
    },
    {
     "name": "stdout",
     "output_type": "stream",
     "text": [
      "Epoch 100, Loss 0.0464\n",
      "Training Accuracy: 0.9530, Testing Accuracy: 0.9597\n",
      "\n"
     ]
    },
    {
     "name": "stdout",
     "output_type": "stream",
     "text": [
      "Epoch 110, Loss 0.0451\n",
      "Training Accuracy: 0.9542, Testing Accuracy: 0.9602\n",
      "\n"
     ]
    },
    {
     "name": "stdout",
     "output_type": "stream",
     "text": [
      "Epoch 120, Loss 0.0441\n",
      "Training Accuracy: 0.9548, Testing Accuracy: 0.9612\n",
      "\n"
     ]
    },
    {
     "name": "stdout",
     "output_type": "stream",
     "text": [
      "Epoch 130, Loss 0.0431\n",
      "Training Accuracy: 0.9559, Testing Accuracy: 0.9637\n",
      "\n"
     ]
    },
    {
     "name": "stdout",
     "output_type": "stream",
     "text": [
      "Epoch 140, Loss 0.0423\n",
      "Training Accuracy: 0.9566, Testing Accuracy: 0.9647\n",
      "\n"
     ]
    },
    {
     "name": "stdout",
     "output_type": "stream",
     "text": [
      "Epoch 150, Loss 0.0415\n",
      "Training Accuracy: 0.9573, Testing Accuracy: 0.9657\n",
      "\n"
     ]
    },
    {
     "name": "stdout",
     "output_type": "stream",
     "text": [
      "Epoch 160, Loss 0.0408\n",
      "Training Accuracy: 0.9578, Testing Accuracy: 0.9662\n",
      "\n"
     ]
    },
    {
     "name": "stdout",
     "output_type": "stream",
     "text": [
      "Epoch 170, Loss 0.0402\n",
      "Training Accuracy: 0.9584, Testing Accuracy: 0.9672\n",
      "\n"
     ]
    },
    {
     "name": "stdout",
     "output_type": "stream",
     "text": [
      "Epoch 180, Loss 0.0396\n",
      "Training Accuracy: 0.9587, Testing Accuracy: 0.9667\n",
      "\n"
     ]
    },
    {
     "name": "stdout",
     "output_type": "stream",
     "text": [
      "Epoch 190, Loss 0.0391\n",
      "Training Accuracy: 0.9591, Testing Accuracy: 0.9662\n",
      "\n"
     ]
    },
    {
     "name": "stdout",
     "output_type": "stream",
     "text": [
      "Epoch 200, Loss 0.0386\n",
      "Training Accuracy: 0.9593, Testing Accuracy: 0.9662\n",
      "\n"
     ]
    },
    {
     "name": "stdout",
     "output_type": "stream",
     "text": [
      "Epoch 210, Loss 0.0382\n",
      "Training Accuracy: 0.9598, Testing Accuracy: 0.9662\n",
      "\n"
     ]
    },
    {
     "name": "stdout",
     "output_type": "stream",
     "text": [
      "Epoch 220, Loss 0.0378\n",
      "Training Accuracy: 0.9601, Testing Accuracy: 0.9667\n",
      "\n"
     ]
    },
    {
     "name": "stdout",
     "output_type": "stream",
     "text": [
      "Epoch 230, Loss 0.0374\n",
      "Training Accuracy: 0.9605, Testing Accuracy: 0.9667\n",
      "\n"
     ]
    },
    {
     "name": "stdout",
     "output_type": "stream",
     "text": [
      "Epoch 240, Loss 0.037\n",
      "Training Accuracy: 0.9608, Testing Accuracy: 0.9667\n",
      "\n"
     ]
    },
    {
     "name": "stdout",
     "output_type": "stream",
     "text": [
      "Epoch 250, Loss 0.0367\n",
      "Training Accuracy: 0.9611, Testing Accuracy: 0.9662\n",
      "\n"
     ]
    },
    {
     "data": {
      "text/plain": [
       "0.0192679156052979"
      ]
     },
     "execution_count": 22,
     "metadata": {},
     "output_type": "execute_result"
    }
   ],
   "source": [
    "print(\"====== Logistic Regression ======\")\n",
    "learner_lr.train_loop(dl)"
   ]
  },
  {
   "cell_type": "markdown",
   "id": "adjusted-possible",
   "metadata": {
    "papermill": {
     "duration": 0.042525,
     "end_time": "2021-07-04T20:06:46.970100",
     "exception": false,
     "start_time": "2021-07-04T20:06:46.927575",
     "status": "completed"
    },
    "tags": []
   },
   "source": [
    "### Comparing results of NN and LR"
   ]
  },
  {
   "cell_type": "code",
   "execution_count": 23,
   "id": "mental-multimedia",
   "metadata": {
    "execution": {
     "iopub.execute_input": "2021-07-04T20:06:47.068093Z",
     "iopub.status.busy": "2021-07-04T20:06:47.067562Z",
     "iopub.status.idle": "2021-07-04T20:06:47.303573Z",
     "shell.execute_reply": "2021-07-04T20:06:47.303047Z"
    },
    "papermill": {
     "duration": 0.290878,
     "end_time": "2021-07-04T20:06:47.303686",
     "exception": false,
     "start_time": "2021-07-04T20:06:47.012808",
     "status": "completed"
    },
    "tags": []
   },
   "outputs": [
    {
     "data": {
      "text/plain": [
       "<matplotlib.legend.Legend at 0x7f3dcd7f6198>"
      ]
     },
     "execution_count": 23,
     "metadata": {},
     "output_type": "execute_result"
    },
    {
     "data": {
      "image/png": "[encoded data removed]",
      "text/plain": [
       "<Figure size 1080x720 with 1 Axes>"
      ]
     },
     "metadata": {
      "needs_background": "light"
     },
     "output_type": "display_data"
    }
   ],
   "source": [
    "plt.figure(figsize=(15,10))\n",
    "\n",
    "# Neural Network plots\n",
    "plt.plot(acc_nn.accuracies, 'r-', label = \"Training Accuracies - NN\")\n",
    "plt.plot(acc_nn.test_accuracies, 'g-', label = \"Testing Accuracies - NN\")\n",
    "\n",
    "# Logistic Regression plots\n",
    "plt.plot(acc_lr.accuracies, 'k-', label = \"Training Accuracies - LR\")\n",
    "plt.plot(acc_lr.test_accuracies, 'b-', label = \"Testing Accuracies - LR\")\n",
    "\n",
    "plt.ylim(0.8, 1)\n",
    "\n",
    "plt.legend()\n",
    "\n"
   ]
  },
  {
   "cell_type": "markdown",
   "id": "sexual-flesh",
   "metadata": {
    "papermill": {
     "duration": 0.04437,
     "end_time": "2021-07-04T20:06:47.393252",
     "exception": false,
     "start_time": "2021-07-04T20:06:47.348882",
     "status": "completed"
    },
    "tags": []
   },
   "source": [
    "### From the plot, we can observe the following:\n",
    "- Neural Network achieves higher accuracy than the Logistic Regression model.\n",
    "- This apparently, is because of overfitting, i.e. NN captures more noise than data.\n",
    "- Testing accuracy of NN drops below the Training accuracy at higher epochs. This explains the over-fitting on training data.\n",
    "- Logistic Regression gives a reliable accuracy, without the above mentioned problem.\n"
   ]
  },
  {
   "cell_type": "markdown",
   "id": "institutional-pacific",
   "metadata": {
    "papermill": {
     "duration": 0.044457,
     "end_time": "2021-07-04T20:06:47.482273",
     "exception": false,
     "start_time": "2021-07-04T20:06:47.437816",
     "status": "completed"
    },
    "tags": []
   },
   "source": [
    "### Moving till the last but one layer (excluding it).\n",
    "#### Plotting the outputs of this layer of the NN."
   ]
  },
  {
   "cell_type": "code",
   "execution_count": 24,
   "id": "economic-server",
   "metadata": {
    "execution": {
     "iopub.execute_input": "2021-07-04T20:06:47.576213Z",
     "iopub.status.busy": "2021-07-04T20:06:47.575701Z",
     "iopub.status.idle": "2021-07-04T20:06:47.585476Z",
     "shell.execute_reply": "2021-07-04T20:06:47.585062Z"
    },
    "papermill": {
     "duration": 0.058832,
     "end_time": "2021-07-04T20:06:47.585586",
     "exception": false,
     "start_time": "2021-07-04T20:06:47.526754",
     "status": "completed"
    },
    "tags": []
   },
   "outputs": [],
   "source": [
    "model_new = Model(layers[:-2])"
   ]
  },
  {
   "cell_type": "code",
   "execution_count": 25,
   "id": "varied-upgrade",
   "metadata": {
    "execution": {
     "iopub.execute_input": "2021-07-04T20:06:47.684489Z",
     "iopub.status.busy": "2021-07-04T20:06:47.683730Z",
     "iopub.status.idle": "2021-07-04T20:06:47.700075Z",
     "shell.execute_reply": "2021-07-04T20:06:47.699653Z"
    },
    "papermill": {
     "duration": 0.0702,
     "end_time": "2021-07-04T20:06:47.700189",
     "exception": false,
     "start_time": "2021-07-04T20:06:47.629989",
     "status": "completed"
    },
    "tags": []
   },
   "outputs": [],
   "source": [
    "plot_testing = model_new(testing_xdata)"
   ]
  },
  {
   "cell_type": "code",
   "execution_count": 26,
   "id": "specific-handling",
   "metadata": {
    "execution": {
     "iopub.execute_input": "2021-07-04T20:06:47.826075Z",
     "iopub.status.busy": "2021-07-04T20:06:47.819733Z",
     "iopub.status.idle": "2021-07-04T20:06:47.984988Z",
     "shell.execute_reply": "2021-07-04T20:06:47.985387Z"
    },
    "papermill": {
     "duration": 0.232488,
     "end_time": "2021-07-04T20:06:47.985517",
     "exception": false,
     "start_time": "2021-07-04T20:06:47.753029",
     "status": "completed"
    },
    "tags": []
   },
   "outputs": [
    {
     "data": {
      "text/plain": [
       "Text(0.5, 1.0, 'Outputs')"
      ]
     },
     "execution_count": 26,
     "metadata": {},
     "output_type": "execute_result"
    },
    {
     "data": {
      "image/png": "[encoded data removed]",
      "text/plain": [
       "<Figure size 576x504 with 1 Axes>"
      ]
     },
     "metadata": {
      "needs_background": "light"
     },
     "output_type": "display_data"
    }
   ],
   "source": [
    "plt.figure(figsize=(8,7))\n",
    "plt.scatter(plot_testing[:,0], plot_testing[:,1], alpha = 0.1, c = y_test.ravel());\n",
    "plt.title('Outputs')"
   ]
  },
  {
   "cell_type": "markdown",
   "id": "described-knowing",
   "metadata": {
    "papermill": {
     "duration": 0.07375,
     "end_time": "2021-07-04T20:06:48.106009",
     "exception": false,
     "start_time": "2021-07-04T20:06:48.032259",
     "status": "completed"
    },
    "tags": []
   },
   "source": [
    "### Plotting probability contours"
   ]
  },
  {
   "cell_type": "code",
   "execution_count": 27,
   "id": "needed-growing",
   "metadata": {
    "execution": {
     "iopub.execute_input": "2021-07-04T20:06:48.208312Z",
     "iopub.status.busy": "2021-07-04T20:06:48.207801Z",
     "iopub.status.idle": "2021-07-04T20:06:48.215875Z",
     "shell.execute_reply": "2021-07-04T20:06:48.215466Z"
    },
    "papermill": {
     "duration": 0.063287,
     "end_time": "2021-07-04T20:06:48.215988",
     "exception": false,
     "start_time": "2021-07-04T20:06:48.152701",
     "status": "completed"
    },
    "tags": []
   },
   "outputs": [],
   "source": [
    "model_prob = Model(layers[-2:]) "
   ]
  },
  {
   "cell_type": "code",
   "execution_count": 28,
   "id": "introductory-enforcement",
   "metadata": {
    "execution": {
     "iopub.execute_input": "2021-07-04T20:06:48.328667Z",
     "iopub.status.busy": "2021-07-04T20:06:48.326773Z",
     "iopub.status.idle": "2021-07-04T20:06:48.333738Z",
     "shell.execute_reply": "2021-07-04T20:06:48.333256Z"
    },
    "papermill": {
     "duration": 0.071319,
     "end_time": "2021-07-04T20:06:48.333848",
     "exception": false,
     "start_time": "2021-07-04T20:06:48.262529",
     "status": "completed"
    },
    "tags": []
   },
   "outputs": [],
   "source": [
    "# Adjust the x and y ranges according to the above generated plot.\n",
    "x_range = np.linspace(-4, 1, 100) \n",
    "y_range = np.linspace(-6, 6, 100) \n",
    "x_grid, y_grid = np.meshgrid(x_range, y_range) # x_grid and y_grig are of size 100 X 100\n",
    "\n",
    "# converting x_grid and y_grid to continuous arrays\n",
    "x_grid_flat = np.ravel(x_grid)\n",
    "y_grid_flat = np.ravel(y_grid)\n",
    "\n",
    "# The last layer of the current model takes two columns as input. Hence transpose of np.vstack() is required.\n",
    "X = np.vstack((x_grid_flat, y_grid_flat)).T\n",
    "\n",
    "# x_grid and y_grid are of size 100 x 100\n",
    "probability_contour = model_prob(X).reshape(100,100) "
   ]
  },
  {
   "cell_type": "code",
   "execution_count": 29,
   "id": "understood-landing",
   "metadata": {
    "execution": {
     "iopub.execute_input": "2021-07-04T20:06:48.452156Z",
     "iopub.status.busy": "2021-07-04T20:06:48.451639Z",
     "iopub.status.idle": "2021-07-04T20:06:48.680594Z",
     "shell.execute_reply": "2021-07-04T20:06:48.680149Z"
    },
    "papermill": {
     "duration": 0.295701,
     "end_time": "2021-07-04T20:06:48.680709",
     "exception": false,
     "start_time": "2021-07-04T20:06:48.385008",
     "status": "completed"
    },
    "tags": []
   },
   "outputs": [
    {
     "data": {
      "image/png": "[encoded data removed]",
      "text/plain": [
       "<Figure size 720x648 with 1 Axes>"
      ]
     },
     "metadata": {
      "needs_background": "light"
     },
     "output_type": "display_data"
    }
   ],
   "source": [
    "plt.figure(figsize=(10,9))\n",
    "plt.scatter(plot_testing[:,0], plot_testing[:,1], alpha = 0.1, c = y_test.ravel())\n",
    "contours = plt.contour(x_grid,y_grid,probability_contour)\n",
    "plt.title('Probability Contours')\n",
    "plt.clabel(contours, inline = True );"
   ]
  }
 ],
 "metadata": {
  "kernelspec": {
   "display_name": "Python 3",
   "language": "python",
   "name": "python3"
  },
  "language_info": {
   "codemirror_mode": {
    "name": "ipython",
    "version": 3
   },
   "file_extension": ".py",
   "mimetype": "text/x-python",
   "name": "python",
   "nbconvert_exporter": "python",
   "pygments_lexer": "ipython3",
   "version": "3.6.13"
  },
  "papermill": {
   "duration": 119.088636,
   "end_time": "2021-07-04T20:06:49.037857",
   "environment_variables": {},
   "exception": null,
   "input_path": "2020-08-11-NeuralNetwork.ipynb",
   "output_path": "2020-08-11-NeuralNetwork.ipynb",
   "parameters": {},
   "start_time": "2021-07-04T20:04:49.949221",
   "version": "2.1.2"
  }
 },
 "nbformat": 4,
 "nbformat_minor": 5
}