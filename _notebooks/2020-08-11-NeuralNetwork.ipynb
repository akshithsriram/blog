{
 "cells": [
  {
   "cell_type": "markdown",
   "metadata": {
    "papermill": {
     "duration": 0.039111,
     "end_time": "2021-01-20T00:37:46.883714",
     "exception": false,
     "start_time": "2021-01-20T00:37:46.844603",
     "status": "completed"
    },
    "tags": []
   },
   "source": [
    "# \"A Basic Neural Network: Differentiate Hand-Written Digits\"\n",
    "\n",
    "- badges: true\n",
    "- author: Akshith Sriram"
   ]
  },
  {
   "cell_type": "markdown",
   "metadata": {
    "papermill": {
     "duration": 0.029977,
     "end_time": "2021-01-20T00:37:46.952179",
     "exception": false,
     "start_time": "2021-01-20T00:37:46.922202",
     "status": "completed"
    },
    "tags": []
   },
   "source": [
    "### Key Objectives:\n",
    "- Building a neural network that differentiates two hand-written digits 3 and 8.\n",
    "- Comparing the results of this Neural Network (NN) to that of a Logistic Regression (LR) model.\n",
    "\n",
    "### Requirements:\n",
    "- 'Kudzu' : A neural network library that was designed during our course by [Univ.AI](www.univ.ai). \n",
    "- MNIST Database\n",
    "\n",
    "If MNIST is not installed, use the command `!pip install mnist` given below.\n",
    "It can be run both from the command line and Jupyter Notebook."
   ]
  },
  {
   "cell_type": "code",
   "execution_count": 1,
   "metadata": {
    "execution": {
     "iopub.execute_input": "2021-01-20T00:37:47.027071Z",
     "iopub.status.busy": "2021-01-20T00:37:47.016367Z",
     "iopub.status.idle": "2021-01-20T00:37:49.202774Z",
     "shell.execute_reply": "2021-01-20T00:37:49.203311Z"
    },
    "papermill": {
     "duration": 2.221874,
     "end_time": "2021-01-20T00:37:49.203640",
     "exception": false,
     "start_time": "2021-01-20T00:37:46.981766",
     "status": "completed"
    },
    "tags": []
   },
   "outputs": [
    {
     "name": "stdout",
     "output_type": "stream",
     "text": [
      "Collecting mnist\r\n",
      "  Downloading mnist-0.2.2-py2.py3-none-any.whl (3.5 kB)\r\n",
      "Requirement already satisfied: numpy in /opt/hostedtoolcache/Python/3.6.12/x64/lib/python3.6/site-packages (from mnist) (1.19.5)\r\n"
     ]
    },
    {
     "name": "stdout",
     "output_type": "stream",
     "text": [
      "Installing collected packages: mnist\r\n"
     ]
    },
    {
     "name": "stdout",
     "output_type": "stream",
     "text": [
      "Successfully installed mnist-0.2.2\r\n"
     ]
    }
   ],
   "source": [
    "!pip install mnist "
   ]
  },
  {
   "cell_type": "markdown",
   "metadata": {
    "papermill": {
     "duration": 0.030139,
     "end_time": "2021-01-20T00:37:49.265161",
     "exception": false,
     "start_time": "2021-01-20T00:37:49.235022",
     "status": "completed"
    },
    "tags": []
   },
   "source": [
    "#### Importing necessary libraries"
   ]
  },
  {
   "cell_type": "code",
   "execution_count": 2,
   "metadata": {
    "execution": {
     "iopub.execute_input": "2021-01-20T00:37:49.333045Z",
     "iopub.status.busy": "2021-01-20T00:37:49.332330Z",
     "iopub.status.idle": "2021-01-20T00:37:49.951756Z",
     "shell.execute_reply": "2021-01-20T00:37:49.951134Z"
    },
    "papermill": {
     "duration": 0.655927,
     "end_time": "2021-01-20T00:37:49.951950",
     "exception": false,
     "start_time": "2021-01-20T00:37:49.296023",
     "status": "completed"
    },
    "tags": []
   },
   "outputs": [],
   "source": [
    "%load_ext autoreload\n",
    "%autoreload 2\n",
    "\n",
    "%matplotlib inline\n",
    "import matplotlib.pyplot as plt\n",
    "\n",
    "import numpy as np\n",
    "import pandas as pd"
   ]
  },
  {
   "cell_type": "markdown",
   "metadata": {
    "papermill": {
     "duration": 0.028179,
     "end_time": "2021-01-20T00:37:50.015160",
     "exception": false,
     "start_time": "2021-01-20T00:37:49.986981",
     "status": "completed"
    },
    "tags": []
   },
   "source": [
    "### Preparing the Data"
   ]
  },
  {
   "cell_type": "code",
   "execution_count": 3,
   "metadata": {
    "execution": {
     "iopub.execute_input": "2021-01-20T00:37:50.081438Z",
     "iopub.status.busy": "2021-01-20T00:37:50.080607Z",
     "iopub.status.idle": "2021-01-20T00:37:50.094093Z",
     "shell.execute_reply": "2021-01-20T00:37:50.094711Z"
    },
    "papermill": {
     "duration": 0.051278,
     "end_time": "2021-01-20T00:37:50.094874",
     "exception": false,
     "start_time": "2021-01-20T00:37:50.043596",
     "status": "completed"
    },
    "tags": []
   },
   "outputs": [],
   "source": [
    "import mnist"
   ]
  },
  {
   "cell_type": "code",
   "execution_count": 4,
   "metadata": {
    "execution": {
     "iopub.execute_input": "2021-01-20T00:37:50.158498Z",
     "iopub.status.busy": "2021-01-20T00:37:50.157790Z",
     "iopub.status.idle": "2021-01-20T00:37:50.947198Z",
     "shell.execute_reply": "2021-01-20T00:37:50.946068Z"
    },
    "papermill": {
     "duration": 0.822301,
     "end_time": "2021-01-20T00:37:50.947404",
     "exception": false,
     "start_time": "2021-01-20T00:37:50.125103",
     "status": "completed"
    },
    "tags": []
   },
   "outputs": [],
   "source": [
    "train_images = mnist.train_images()\n",
    "train_labels = mnist.train_labels()"
   ]
  },
  {
   "cell_type": "code",
   "execution_count": 5,
   "metadata": {
    "execution": {
     "iopub.execute_input": "2021-01-20T00:37:51.008837Z",
     "iopub.status.busy": "2021-01-20T00:37:51.008211Z",
     "iopub.status.idle": "2021-01-20T00:37:51.023255Z",
     "shell.execute_reply": "2021-01-20T00:37:51.022733Z"
    },
    "papermill": {
     "duration": 0.047618,
     "end_time": "2021-01-20T00:37:51.023412",
     "exception": false,
     "start_time": "2021-01-20T00:37:50.975794",
     "status": "completed"
    },
    "tags": []
   },
   "outputs": [
    {
     "data": {
      "text/plain": [
       "((60000, 28, 28), (60000,))"
      ]
     },
     "execution_count": 5,
     "metadata": {},
     "output_type": "execute_result"
    }
   ],
   "source": [
    "train_images.shape, train_labels.shape"
   ]
  },
  {
   "cell_type": "code",
   "execution_count": 6,
   "metadata": {
    "execution": {
     "iopub.execute_input": "2021-01-20T00:37:51.087714Z",
     "iopub.status.busy": "2021-01-20T00:37:51.087065Z",
     "iopub.status.idle": "2021-01-20T00:37:51.367352Z",
     "shell.execute_reply": "2021-01-20T00:37:51.367878Z"
    },
    "papermill": {
     "duration": 0.315362,
     "end_time": "2021-01-20T00:37:51.368047",
     "exception": false,
     "start_time": "2021-01-20T00:37:51.052685",
     "status": "completed"
    },
    "tags": []
   },
   "outputs": [],
   "source": [
    "test_images = mnist.test_images()\n",
    "test_labels = mnist.test_labels()"
   ]
  },
  {
   "cell_type": "code",
   "execution_count": 7,
   "metadata": {
    "execution": {
     "iopub.execute_input": "2021-01-20T00:37:51.432101Z",
     "iopub.status.busy": "2021-01-20T00:37:51.431376Z",
     "iopub.status.idle": "2021-01-20T00:37:51.444747Z",
     "shell.execute_reply": "2021-01-20T00:37:51.444209Z"
    },
    "papermill": {
     "duration": 0.047739,
     "end_time": "2021-01-20T00:37:51.444877",
     "exception": false,
     "start_time": "2021-01-20T00:37:51.397138",
     "status": "completed"
    },
    "tags": []
   },
   "outputs": [
    {
     "data": {
      "text/plain": [
       "((10000, 28, 28), (10000,))"
      ]
     },
     "execution_count": 7,
     "metadata": {},
     "output_type": "execute_result"
    }
   ],
   "source": [
    "test_images.shape, test_labels.shape"
   ]
  },
  {
   "cell_type": "code",
   "execution_count": 8,
   "metadata": {
    "execution": {
     "iopub.execute_input": "2021-01-20T00:37:51.513555Z",
     "iopub.status.busy": "2021-01-20T00:37:51.512793Z",
     "iopub.status.idle": "2021-01-20T00:37:51.708408Z",
     "shell.execute_reply": "2021-01-20T00:37:51.709070Z"
    },
    "papermill": {
     "duration": 0.233912,
     "end_time": "2021-01-20T00:37:51.709288",
     "exception": false,
     "start_time": "2021-01-20T00:37:51.475376",
     "status": "completed"
    },
    "tags": []
   },
   "outputs": [
    {
     "name": "stdout",
     "output_type": "stream",
     "text": [
      "2\n"
     ]
    },
    {
     "data": {
      "text/plain": [
       "<matplotlib.image.AxesImage at 0x7fc213cf3630>"
      ]
     },
     "execution_count": 8,
     "metadata": {},
     "output_type": "execute_result"
    },
    {
     "data": {
      "image/png": "[encoded data removed]",
      "text/plain": [
       "<Figure size 432x288 with 1 Axes>"
      ]
     },
     "metadata": {
      "needs_background": "light"
     },
     "output_type": "display_data"
    }
   ],
   "source": [
    "image_index = 7776 # You may select anything up to 60,000\n",
    "print(train_labels[image_index]) \n",
    "plt.imshow(train_images[image_index], cmap='Greys')"
   ]
  },
  {
   "cell_type": "markdown",
   "metadata": {
    "papermill": {
     "duration": 0.032525,
     "end_time": "2021-01-20T00:37:51.773879",
     "exception": false,
     "start_time": "2021-01-20T00:37:51.741354",
     "status": "completed"
    },
    "tags": []
   },
   "source": [
    "## Filter data to get 3 and 8 out"
   ]
  },
  {
   "cell_type": "code",
   "execution_count": 9,
   "metadata": {
    "execution": {
     "iopub.execute_input": "2021-01-20T00:37:51.838692Z",
     "iopub.status.busy": "2021-01-20T00:37:51.838078Z",
     "iopub.status.idle": "2021-01-20T00:37:51.856277Z",
     "shell.execute_reply": "2021-01-20T00:37:51.855717Z"
    },
    "papermill": {
     "duration": 0.052392,
     "end_time": "2021-01-20T00:37:51.856448",
     "exception": false,
     "start_time": "2021-01-20T00:37:51.804056",
     "status": "completed"
    },
    "tags": []
   },
   "outputs": [],
   "source": [
    "train_filter = np.where((train_labels == 3 ) | (train_labels == 8))\n",
    "test_filter = np.where((test_labels == 3) | (test_labels == 8))\n",
    "X_train, y_train = train_images[train_filter], train_labels[train_filter]\n",
    "X_test, y_test = test_images[test_filter], test_labels[test_filter]"
   ]
  },
  {
   "cell_type": "markdown",
   "metadata": {
    "papermill": {
     "duration": 0.030349,
     "end_time": "2021-01-20T00:37:51.917318",
     "exception": false,
     "start_time": "2021-01-20T00:37:51.886969",
     "status": "completed"
    },
    "tags": []
   },
   "source": [
    "We normalize the pixel values in the 0 to 1 range"
   ]
  },
  {
   "cell_type": "code",
   "execution_count": 10,
   "metadata": {
    "execution": {
     "iopub.execute_input": "2021-01-20T00:37:51.984523Z",
     "iopub.status.busy": "2021-01-20T00:37:51.983768Z",
     "iopub.status.idle": "2021-01-20T00:37:52.047435Z",
     "shell.execute_reply": "2021-01-20T00:37:52.046819Z"
    },
    "papermill": {
     "duration": 0.09992,
     "end_time": "2021-01-20T00:37:52.047587",
     "exception": false,
     "start_time": "2021-01-20T00:37:51.947667",
     "status": "completed"
    },
    "tags": []
   },
   "outputs": [],
   "source": [
    "X_train = X_train/255.\n",
    "X_test = X_test/255."
   ]
  },
  {
   "cell_type": "markdown",
   "metadata": {
    "papermill": {
     "duration": 0.030083,
     "end_time": "2021-01-20T00:37:52.110688",
     "exception": false,
     "start_time": "2021-01-20T00:37:52.080605",
     "status": "completed"
    },
    "tags": []
   },
   "source": [
    "Setup the labels as 1 (when the digit is 3) and 0 (when the digit is 8)"
   ]
  },
  {
   "cell_type": "code",
   "execution_count": 11,
   "metadata": {
    "execution": {
     "iopub.execute_input": "2021-01-20T00:37:52.176044Z",
     "iopub.status.busy": "2021-01-20T00:37:52.175426Z",
     "iopub.status.idle": "2021-01-20T00:37:52.188222Z",
     "shell.execute_reply": "2021-01-20T00:37:52.187713Z"
    },
    "papermill": {
     "duration": 0.047416,
     "end_time": "2021-01-20T00:37:52.188368",
     "exception": false,
     "start_time": "2021-01-20T00:37:52.140952",
     "status": "completed"
    },
    "tags": []
   },
   "outputs": [],
   "source": [
    "y_train = 1*(y_train==3)\n",
    "y_test = 1*(y_test==3)"
   ]
  },
  {
   "cell_type": "code",
   "execution_count": 12,
   "metadata": {
    "execution": {
     "iopub.execute_input": "2021-01-20T00:37:52.253440Z",
     "iopub.status.busy": "2021-01-20T00:37:52.252827Z",
     "iopub.status.idle": "2021-01-20T00:37:52.272974Z",
     "shell.execute_reply": "2021-01-20T00:37:52.272437Z"
    },
    "papermill": {
     "duration": 0.053805,
     "end_time": "2021-01-20T00:37:52.273110",
     "exception": false,
     "start_time": "2021-01-20T00:37:52.219305",
     "status": "completed"
    },
    "tags": []
   },
   "outputs": [
    {
     "data": {
      "text/plain": [
       "((11982, 28, 28), (1984, 28, 28))"
      ]
     },
     "execution_count": 12,
     "metadata": {},
     "output_type": "execute_result"
    }
   ],
   "source": [
    "X_train.shape, X_test.shape"
   ]
  },
  {
   "cell_type": "markdown",
   "metadata": {
    "papermill": {
     "duration": 0.030552,
     "end_time": "2021-01-20T00:37:52.335460",
     "exception": false,
     "start_time": "2021-01-20T00:37:52.304908",
     "status": "completed"
    },
    "tags": []
   },
   "source": [
    "### Reshape the input data to create a linear array"
   ]
  },
  {
   "cell_type": "code",
   "execution_count": 13,
   "metadata": {
    "execution": {
     "iopub.execute_input": "2021-01-20T00:37:52.401166Z",
     "iopub.status.busy": "2021-01-20T00:37:52.400491Z",
     "iopub.status.idle": "2021-01-20T00:37:52.414953Z",
     "shell.execute_reply": "2021-01-20T00:37:52.415484Z"
    },
    "papermill": {
     "duration": 0.049859,
     "end_time": "2021-01-20T00:37:52.415626",
     "exception": false,
     "start_time": "2021-01-20T00:37:52.365767",
     "status": "completed"
    },
    "tags": []
   },
   "outputs": [
    {
     "data": {
      "text/plain": [
       "((11982, 784), (1984, 784))"
      ]
     },
     "execution_count": 13,
     "metadata": {},
     "output_type": "execute_result"
    }
   ],
   "source": [
    "X_train = X_train.reshape(X_train.shape[0], -1)\n",
    "X_test = X_test.reshape(X_test.shape[0], -1)\n",
    "X_train.shape, X_test.shape"
   ]
  },
  {
   "cell_type": "markdown",
   "metadata": {
    "papermill": {
     "duration": 0.030245,
     "end_time": "2021-01-20T00:37:52.477507",
     "exception": false,
     "start_time": "2021-01-20T00:37:52.447262",
     "status": "completed"
    },
    "tags": []
   },
   "source": [
    "### Importing appropriate functions from 'Kudzu'"
   ]
  },
  {
   "cell_type": "code",
   "execution_count": 14,
   "metadata": {
    "execution": {
     "iopub.execute_input": "2021-01-20T00:37:52.550337Z",
     "iopub.status.busy": "2021-01-20T00:37:52.549601Z",
     "iopub.status.idle": "2021-01-20T00:37:52.565924Z",
     "shell.execute_reply": "2021-01-20T00:37:52.566441Z"
    },
    "papermill": {
     "duration": 0.05853,
     "end_time": "2021-01-20T00:37:52.566649",
     "exception": false,
     "start_time": "2021-01-20T00:37:52.508119",
     "status": "completed"
    },
    "tags": []
   },
   "outputs": [],
   "source": [
    "from kudzu.layer import Sigmoid\n",
    "from kudzu.layer import Relu\n",
    "from kudzu.layer import Affine, Sigmoid\n",
    "\n",
    "from kudzu.model import Model\n",
    "from kudzu.train import Learner\n",
    "from kudzu.optim import GD\n",
    "from kudzu.data import Data, Dataloader, Sampler\n",
    "\n",
    "from kudzu.callbacks import AccCallback\n",
    "from kudzu.callbacks import ClfCallback\n",
    "\n",
    "from kudzu.loss import MSE"
   ]
  },
  {
   "cell_type": "markdown",
   "metadata": {
    "papermill": {
     "duration": 0.030054,
     "end_time": "2021-01-20T00:37:52.628238",
     "exception": false,
     "start_time": "2021-01-20T00:37:52.598184",
     "status": "completed"
    },
    "tags": []
   },
   "source": [
    "### Let us create a `Config` class, to store important parameters. \n",
    "This class essentially plays the role of a dictionary."
   ]
  },
  {
   "cell_type": "code",
   "execution_count": 15,
   "metadata": {
    "execution": {
     "iopub.execute_input": "2021-01-20T00:37:52.696521Z",
     "iopub.status.busy": "2021-01-20T00:37:52.695830Z",
     "iopub.status.idle": "2021-01-20T00:37:52.711448Z",
     "shell.execute_reply": "2021-01-20T00:37:52.712094Z"
    },
    "papermill": {
     "duration": 0.0521,
     "end_time": "2021-01-20T00:37:52.712440",
     "exception": false,
     "start_time": "2021-01-20T00:37:52.660340",
     "status": "completed"
    },
    "tags": []
   },
   "outputs": [],
   "source": [
    "class Config:\n",
    "    pass\n",
    "config = Config()\n",
    "config.lr = 0.001\n",
    "config.num_epochs = 251\n",
    "config.bs = 50"
   ]
  },
  {
   "cell_type": "markdown",
   "metadata": {
    "papermill": {
     "duration": 0.036342,
     "end_time": "2021-01-20T00:37:52.790630",
     "exception": false,
     "start_time": "2021-01-20T00:37:52.754288",
     "status": "completed"
    },
    "tags": []
   },
   "source": [
    "### Initializing data to the variables"
   ]
  },
  {
   "cell_type": "code",
   "execution_count": 16,
   "metadata": {
    "execution": {
     "iopub.execute_input": "2021-01-20T00:37:52.863754Z",
     "iopub.status.busy": "2021-01-20T00:37:52.863082Z",
     "iopub.status.idle": "2021-01-20T00:37:52.876400Z",
     "shell.execute_reply": "2021-01-20T00:37:52.876979Z"
    },
    "papermill": {
     "duration": 0.050873,
     "end_time": "2021-01-20T00:37:52.877144",
     "exception": false,
     "start_time": "2021-01-20T00:37:52.826271",
     "status": "completed"
    },
    "tags": []
   },
   "outputs": [],
   "source": [
    "data = Data(X_train, y_train.reshape(-1,1))\n",
    "sampler = Sampler(data, config.bs, shuffle=True)\n",
    "\n",
    "dl = Dataloader(data, sampler)\n",
    "\n",
    "opt = GD(config.lr)\n",
    "loss = MSE()"
   ]
  },
  {
   "cell_type": "code",
   "execution_count": 17,
   "metadata": {
    "execution": {
     "iopub.execute_input": "2021-01-20T00:37:52.956671Z",
     "iopub.status.busy": "2021-01-20T00:37:52.956039Z",
     "iopub.status.idle": "2021-01-20T00:37:52.966344Z",
     "shell.execute_reply": "2021-01-20T00:37:52.965816Z"
    },
    "papermill": {
     "duration": 0.057104,
     "end_time": "2021-01-20T00:37:52.966524",
     "exception": false,
     "start_time": "2021-01-20T00:37:52.909420",
     "status": "completed"
    },
    "tags": []
   },
   "outputs": [],
   "source": [
    "training_xdata = X_train\n",
    "testing_xdata = X_test\n",
    "training_ydata = y_train.reshape(-1,1)\n",
    "testing_ydata = y_test.reshape(-1,1)"
   ]
  },
  {
   "cell_type": "markdown",
   "metadata": {
    "papermill": {
     "duration": 0.038057,
     "end_time": "2021-01-20T00:37:53.335844",
     "exception": false,
     "start_time": "2021-01-20T00:37:53.297787",
     "status": "completed"
    },
    "tags": []
   },
   "source": [
    "### Running Models with the Training data\n",
    "Details about the network layers:\n",
    "- A first affine layer has 784 inputs and does 100 affine transforms. These are followed by a Relu\n",
    "- A second affine layer has 100 inputs from the 100 activations of the past layer, and does 100 affine transforms. These are followed by a Relu\n",
    "- A third affine layer has 100 activations and does 2 affine transformations to create an embedding for visualization. There is no non-linearity here.\n",
    "- A final \"logistic regression\" which has an affine transform from 2 inputs to 1 output, which is squeezed through a sigmoid.\n",
    "\n",
    "Help taken from Anshuman's Notebook."
   ]
  },
  {
   "cell_type": "code",
   "execution_count": 18,
   "metadata": {
    "execution": {
     "iopub.execute_input": "2021-01-20T00:37:53.406235Z",
     "iopub.status.busy": "2021-01-20T00:37:53.405324Z",
     "iopub.status.idle": "2021-01-20T00:37:53.424479Z",
     "shell.execute_reply": "2021-01-20T00:37:53.423939Z"
    },
    "papermill": {
     "duration": 0.05682,
     "end_time": "2021-01-20T00:37:53.424613",
     "exception": false,
     "start_time": "2021-01-20T00:37:53.367793",
     "status": "completed"
    },
    "tags": []
   },
   "outputs": [],
   "source": [
    "# layers for the Neural Network\n",
    "layers = [Affine(\"first\", 784, 100), Relu(\"first\"), Affine(\"second\", 100, 100), Relu(\"second\"), Affine(\"third\", 100, 2), Affine(\"final\", 2, 1), Sigmoid(\"final\")]\n",
    "model_nn = Model(layers)\n",
    "\n",
    "# layers for the Logistic Regression\n",
    "layers_lr = [Affine(\"logits\", 784, 1), Sigmoid(\"sigmoid\")]\n",
    "model_lr = Model(layers_lr)"
   ]
  },
  {
   "cell_type": "code",
   "execution_count": 19,
   "metadata": {
    "execution": {
     "iopub.execute_input": "2021-01-20T00:37:53.494407Z",
     "iopub.status.busy": "2021-01-20T00:37:53.493654Z",
     "iopub.status.idle": "2021-01-20T00:37:53.504287Z",
     "shell.execute_reply": "2021-01-20T00:37:53.503768Z"
    },
    "papermill": {
     "duration": 0.049122,
     "end_time": "2021-01-20T00:37:53.504430",
     "exception": false,
     "start_time": "2021-01-20T00:37:53.455308",
     "status": "completed"
    },
    "tags": []
   },
   "outputs": [],
   "source": [
    "# suffix _nn stands for Neural Network.\n",
    "learner_nn = Learner(loss, model_nn, opt, config.num_epochs)\n",
    "acc_nn = ClfCallback(learner_nn, config.bs, training_xdata , testing_xdata, training_ydata, testing_ydata)\n",
    "learner_nn.set_callbacks([acc_nn])"
   ]
  },
  {
   "cell_type": "code",
   "execution_count": 20,
   "metadata": {
    "execution": {
     "iopub.execute_input": "2021-01-20T00:37:53.569013Z",
     "iopub.status.busy": "2021-01-20T00:37:53.568349Z",
     "iopub.status.idle": "2021-01-20T00:40:17.607611Z",
     "shell.execute_reply": "2021-01-20T00:40:17.606986Z"
    },
    "papermill": {
     "duration": 144.072659,
     "end_time": "2021-01-20T00:40:17.607774",
     "exception": false,
     "start_time": "2021-01-20T00:37:53.535115",
     "status": "completed"
    },
    "tags": []
   },
   "outputs": [
    {
     "name": "stdout",
     "output_type": "stream",
     "text": [
      "====== Neural Network ======\n"
     ]
    },
    {
     "name": "stdout",
     "output_type": "stream",
     "text": [
      "Epoch 0, Loss 0.2499\n",
      "Training Accuracy: 0.5438, Testing Accuracy: 0.5343\n",
      "\n"
     ]
    },
    {
     "name": "stdout",
     "output_type": "stream",
     "text": [
      "Epoch 10, Loss 0.166\n",
      "Training Accuracy: 0.8625, Testing Accuracy: 0.8780\n",
      "\n"
     ]
    },
    {
     "name": "stdout",
     "output_type": "stream",
     "text": [
      "Epoch 20, Loss 0.0844\n",
      "Training Accuracy: 0.9160, Testing Accuracy: 0.9299\n",
      "\n"
     ]
    },
    {
     "name": "stdout",
     "output_type": "stream",
     "text": [
      "Epoch 30, Loss 0.0568\n",
      "Training Accuracy: 0.9392, Testing Accuracy: 0.9506\n",
      "\n"
     ]
    },
    {
     "name": "stdout",
     "output_type": "stream",
     "text": [
      "Epoch 40, Loss 0.0453\n",
      "Training Accuracy: 0.9513, Testing Accuracy: 0.9572\n",
      "\n"
     ]
    },
    {
     "name": "stdout",
     "output_type": "stream",
     "text": [
      "Epoch 50, Loss 0.0392\n",
      "Training Accuracy: 0.9568, Testing Accuracy: 0.9627\n",
      "\n"
     ]
    },
    {
     "name": "stdout",
     "output_type": "stream",
     "text": [
      "Epoch 60, Loss 0.0356\n",
      "Training Accuracy: 0.9594, Testing Accuracy: 0.9647\n",
      "\n"
     ]
    },
    {
     "name": "stdout",
     "output_type": "stream",
     "text": [
      "Epoch 70, Loss 0.033\n",
      "Training Accuracy: 0.9629, Testing Accuracy: 0.9662\n",
      "\n"
     ]
    },
    {
     "name": "stdout",
     "output_type": "stream",
     "text": [
      "Epoch 80, Loss 0.0312\n",
      "Training Accuracy: 0.9649, Testing Accuracy: 0.9677\n",
      "\n"
     ]
    },
    {
     "name": "stdout",
     "output_type": "stream",
     "text": [
      "Epoch 90, Loss 0.0297\n",
      "Training Accuracy: 0.9661, Testing Accuracy: 0.9677\n",
      "\n"
     ]
    },
    {
     "name": "stdout",
     "output_type": "stream",
     "text": [
      "Epoch 100, Loss 0.0284\n",
      "Training Accuracy: 0.9670, Testing Accuracy: 0.9677\n",
      "\n"
     ]
    },
    {
     "name": "stdout",
     "output_type": "stream",
     "text": [
      "Epoch 110, Loss 0.0274\n",
      "Training Accuracy: 0.9681, Testing Accuracy: 0.9677\n",
      "\n"
     ]
    },
    {
     "name": "stdout",
     "output_type": "stream",
     "text": [
      "Epoch 120, Loss 0.0265\n",
      "Training Accuracy: 0.9693, Testing Accuracy: 0.9688\n",
      "\n"
     ]
    },
    {
     "name": "stdout",
     "output_type": "stream",
     "text": [
      "Epoch 130, Loss 0.0257\n",
      "Training Accuracy: 0.9703, Testing Accuracy: 0.9688\n",
      "\n"
     ]
    },
    {
     "name": "stdout",
     "output_type": "stream",
     "text": [
      "Epoch 140, Loss 0.0249\n",
      "Training Accuracy: 0.9716, Testing Accuracy: 0.9698\n",
      "\n"
     ]
    },
    {
     "name": "stdout",
     "output_type": "stream",
     "text": [
      "Epoch 150, Loss 0.0242\n",
      "Training Accuracy: 0.9727, Testing Accuracy: 0.9703\n",
      "\n"
     ]
    },
    {
     "name": "stdout",
     "output_type": "stream",
     "text": [
      "Epoch 160, Loss 0.0236\n",
      "Training Accuracy: 0.9734, Testing Accuracy: 0.9698\n",
      "\n"
     ]
    },
    {
     "name": "stdout",
     "output_type": "stream",
     "text": [
      "Epoch 170, Loss 0.023\n",
      "Training Accuracy: 0.9740, Testing Accuracy: 0.9703\n",
      "\n"
     ]
    },
    {
     "name": "stdout",
     "output_type": "stream",
     "text": [
      "Epoch 180, Loss 0.0225\n",
      "Training Accuracy: 0.9749, Testing Accuracy: 0.9708\n",
      "\n"
     ]
    },
    {
     "name": "stdout",
     "output_type": "stream",
     "text": [
      "Epoch 190, Loss 0.022\n",
      "Training Accuracy: 0.9752, Testing Accuracy: 0.9708\n",
      "\n"
     ]
    },
    {
     "name": "stdout",
     "output_type": "stream",
     "text": [
      "Epoch 200, Loss 0.0215\n",
      "Training Accuracy: 0.9762, Testing Accuracy: 0.9713\n",
      "\n"
     ]
    },
    {
     "name": "stdout",
     "output_type": "stream",
     "text": [
      "Epoch 210, Loss 0.0211\n",
      "Training Accuracy: 0.9769, Testing Accuracy: 0.9713\n",
      "\n"
     ]
    },
    {
     "name": "stdout",
     "output_type": "stream",
     "text": [
      "Epoch 220, Loss 0.0206\n",
      "Training Accuracy: 0.9773, Testing Accuracy: 0.9723\n",
      "\n"
     ]
    },
    {
     "name": "stdout",
     "output_type": "stream",
     "text": [
      "Epoch 230, Loss 0.0202\n",
      "Training Accuracy: 0.9776, Testing Accuracy: 0.9733\n",
      "\n"
     ]
    },
    {
     "name": "stdout",
     "output_type": "stream",
     "text": [
      "Epoch 240, Loss 0.0198\n",
      "Training Accuracy: 0.9781, Testing Accuracy: 0.9733\n",
      "\n"
     ]
    },
    {
     "name": "stdout",
     "output_type": "stream",
     "text": [
      "Epoch 250, Loss 0.0194\n",
      "Training Accuracy: 0.9787, Testing Accuracy: 0.9738\n",
      "\n"
     ]
    },
    {
     "data": {
      "text/plain": [
       "0.008675718851178717"
      ]
     },
     "execution_count": 20,
     "metadata": {},
     "output_type": "execute_result"
    }
   ],
   "source": [
    "print(\"====== Neural Network ======\")\n",
    "learner_nn.train_loop(dl)"
   ]
  },
  {
   "cell_type": "markdown",
   "metadata": {
    "papermill": {
     "duration": 0.040903,
     "end_time": "2021-01-20T00:40:17.690492",
     "exception": false,
     "start_time": "2021-01-20T00:40:17.649589",
     "status": "completed"
    },
    "tags": []
   },
   "source": [
    "### Logistic Regression based Implementation."
   ]
  },
  {
   "cell_type": "code",
   "execution_count": 21,
   "metadata": {
    "execution": {
     "iopub.execute_input": "2021-01-20T00:40:17.777427Z",
     "iopub.status.busy": "2021-01-20T00:40:17.776688Z",
     "iopub.status.idle": "2021-01-20T00:40:17.789847Z",
     "shell.execute_reply": "2021-01-20T00:40:17.789345Z"
    },
    "papermill": {
     "duration": 0.059384,
     "end_time": "2021-01-20T00:40:17.789982",
     "exception": false,
     "start_time": "2021-01-20T00:40:17.730598",
     "status": "completed"
    },
    "tags": []
   },
   "outputs": [],
   "source": [
    "learner_lr = Learner(loss, model_lr, opt, config.num_epochs)\n",
    "acc_lr = ClfCallback(learner_lr, config.bs, training_xdata , testing_xdata, training_ydata, testing_ydata)\n",
    "learner_lr.set_callbacks([acc_lr])"
   ]
  },
  {
   "cell_type": "code",
   "execution_count": 22,
   "metadata": {
    "execution": {
     "iopub.execute_input": "2021-01-20T00:40:17.879366Z",
     "iopub.status.busy": "2021-01-20T00:40:17.878219Z",
     "iopub.status.idle": "2021-01-20T00:40:39.145105Z",
     "shell.execute_reply": "2021-01-20T00:40:39.145985Z"
    },
    "papermill": {
     "duration": 21.31434,
     "end_time": "2021-01-20T00:40:39.146153",
     "exception": false,
     "start_time": "2021-01-20T00:40:17.831813",
     "status": "completed"
    },
    "tags": []
   },
   "outputs": [
    {
     "name": "stdout",
     "output_type": "stream",
     "text": [
      "====== Logistic Regression ======\n",
      "Epoch 0, Loss 0.2445\n",
      "Training Accuracy: 0.6948, Testing Accuracy: 0.7016\n",
      "\n"
     ]
    },
    {
     "name": "stdout",
     "output_type": "stream",
     "text": [
      "Epoch 10, Loss 0.1011\n",
      "Training Accuracy: 0.9170, Testing Accuracy: 0.9259\n",
      "\n"
     ]
    },
    {
     "name": "stdout",
     "output_type": "stream",
     "text": [
      "Epoch 20, Loss 0.0775\n",
      "Training Accuracy: 0.9330, Testing Accuracy: 0.9430\n",
      "\n"
     ]
    },
    {
     "name": "stdout",
     "output_type": "stream",
     "text": [
      "Epoch 30, Loss 0.0668\n",
      "Training Accuracy: 0.9397, Testing Accuracy: 0.9501\n",
      "\n"
     ]
    },
    {
     "name": "stdout",
     "output_type": "stream",
     "text": [
      "Epoch 40, Loss 0.0604\n",
      "Training Accuracy: 0.9440, Testing Accuracy: 0.9526\n",
      "\n"
     ]
    },
    {
     "name": "stdout",
     "output_type": "stream",
     "text": [
      "Epoch 50, Loss 0.0561\n",
      "Training Accuracy: 0.9471, Testing Accuracy: 0.9551\n",
      "\n"
     ]
    },
    {
     "name": "stdout",
     "output_type": "stream",
     "text": [
      "Epoch 60, Loss 0.053\n",
      "Training Accuracy: 0.9498, Testing Accuracy: 0.9556\n",
      "\n"
     ]
    },
    {
     "name": "stdout",
     "output_type": "stream",
     "text": [
      "Epoch 70, Loss 0.0506\n",
      "Training Accuracy: 0.9516, Testing Accuracy: 0.9551\n",
      "\n"
     ]
    },
    {
     "name": "stdout",
     "output_type": "stream",
     "text": [
      "Epoch 80, Loss 0.0486\n",
      "Training Accuracy: 0.9527, Testing Accuracy: 0.9577\n",
      "\n"
     ]
    },
    {
     "name": "stdout",
     "output_type": "stream",
     "text": [
      "Epoch 90, Loss 0.047\n",
      "Training Accuracy: 0.9539, Testing Accuracy: 0.9582\n",
      "\n"
     ]
    },
    {
     "name": "stdout",
     "output_type": "stream",
     "text": [
      "Epoch 100, Loss 0.0457\n",
      "Training Accuracy: 0.9549, Testing Accuracy: 0.9597\n",
      "\n"
     ]
    },
    {
     "name": "stdout",
     "output_type": "stream",
     "text": [
      "Epoch 110, Loss 0.0445\n",
      "Training Accuracy: 0.9559, Testing Accuracy: 0.9602\n",
      "\n"
     ]
    },
    {
     "name": "stdout",
     "output_type": "stream",
     "text": [
      "Epoch 120, Loss 0.0435\n",
      "Training Accuracy: 0.9567, Testing Accuracy: 0.9607\n",
      "\n"
     ]
    },
    {
     "name": "stdout",
     "output_type": "stream",
     "text": [
      "Epoch 130, Loss 0.0426\n",
      "Training Accuracy: 0.9566, Testing Accuracy: 0.9612\n",
      "\n"
     ]
    },
    {
     "name": "stdout",
     "output_type": "stream",
     "text": [
      "Epoch 140, Loss 0.0418\n",
      "Training Accuracy: 0.9573, Testing Accuracy: 0.9617\n",
      "\n"
     ]
    },
    {
     "name": "stdout",
     "output_type": "stream",
     "text": [
      "Epoch 150, Loss 0.0411\n",
      "Training Accuracy: 0.9575, Testing Accuracy: 0.9622\n",
      "\n"
     ]
    },
    {
     "name": "stdout",
     "output_type": "stream",
     "text": [
      "Epoch 160, Loss 0.0404\n",
      "Training Accuracy: 0.9579, Testing Accuracy: 0.9617\n",
      "\n"
     ]
    },
    {
     "name": "stdout",
     "output_type": "stream",
     "text": [
      "Epoch 170, Loss 0.0398\n",
      "Training Accuracy: 0.9583, Testing Accuracy: 0.9617\n",
      "\n"
     ]
    },
    {
     "name": "stdout",
     "output_type": "stream",
     "text": [
      "Epoch 180, Loss 0.0393\n",
      "Training Accuracy: 0.9589, Testing Accuracy: 0.9627\n",
      "\n"
     ]
    },
    {
     "name": "stdout",
     "output_type": "stream",
     "text": [
      "Epoch 190, Loss 0.0388\n",
      "Training Accuracy: 0.9593, Testing Accuracy: 0.9627\n",
      "\n"
     ]
    },
    {
     "name": "stdout",
     "output_type": "stream",
     "text": [
      "Epoch 200, Loss 0.0383\n",
      "Training Accuracy: 0.9596, Testing Accuracy: 0.9627\n",
      "\n"
     ]
    },
    {
     "name": "stdout",
     "output_type": "stream",
     "text": [
      "Epoch 210, Loss 0.0379\n",
      "Training Accuracy: 0.9599, Testing Accuracy: 0.9637\n",
      "\n"
     ]
    },
    {
     "name": "stdout",
     "output_type": "stream",
     "text": [
      "Epoch 220, Loss 0.0375\n",
      "Training Accuracy: 0.9603, Testing Accuracy: 0.9642\n",
      "\n"
     ]
    },
    {
     "name": "stdout",
     "output_type": "stream",
     "text": [
      "Epoch 230, Loss 0.0372\n",
      "Training Accuracy: 0.9604, Testing Accuracy: 0.9647\n",
      "\n"
     ]
    },
    {
     "name": "stdout",
     "output_type": "stream",
     "text": [
      "Epoch 240, Loss 0.0368\n",
      "Training Accuracy: 0.9610, Testing Accuracy: 0.9652\n",
      "\n"
     ]
    },
    {
     "name": "stdout",
     "output_type": "stream",
     "text": [
      "Epoch 250, Loss 0.0365\n",
      "Training Accuracy: 0.9614, Testing Accuracy: 0.9657\n",
      "\n"
     ]
    },
    {
     "data": {
      "text/plain": [
       "0.05963233461123538"
      ]
     },
     "execution_count": 22,
     "metadata": {},
     "output_type": "execute_result"
    }
   ],
   "source": [
    "print(\"====== Logistic Regression ======\")\n",
    "learner_lr.train_loop(dl)"
   ]
  },
  {
   "cell_type": "markdown",
   "metadata": {
    "papermill": {
     "duration": 0.048763,
     "end_time": "2021-01-20T00:40:39.245382",
     "exception": false,
     "start_time": "2021-01-20T00:40:39.196619",
     "status": "completed"
    },
    "tags": []
   },
   "source": [
    "### Comparing results of NN and LR"
   ]
  },
  {
   "cell_type": "code",
   "execution_count": 23,
   "metadata": {
    "execution": {
     "iopub.execute_input": "2021-01-20T00:40:39.352252Z",
     "iopub.status.busy": "2021-01-20T00:40:39.351594Z",
     "iopub.status.idle": "2021-01-20T00:40:39.638951Z",
     "shell.execute_reply": "2021-01-20T00:40:39.639577Z"
    },
    "papermill": {
     "duration": 0.341242,
     "end_time": "2021-01-20T00:40:39.639760",
     "exception": false,
     "start_time": "2021-01-20T00:40:39.298518",
     "status": "completed"
    },
    "tags": []
   },
   "outputs": [
    {
     "data": {
      "text/plain": [
       "<matplotlib.legend.Legend at 0x7fc20654e048>"
      ]
     },
     "execution_count": 23,
     "metadata": {},
     "output_type": "execute_result"
    },
    {
     "data": {
      "image/png": "[encoded data removed]",
      "text/plain": [
       "<Figure size 1080x720 with 1 Axes>"
      ]
     },
     "metadata": {
      "needs_background": "light"
     },
     "output_type": "display_data"
    }
   ],
   "source": [
    "plt.figure(figsize=(15,10))\n",
    "\n",
    "# Neural Network plots\n",
    "plt.plot(acc_nn.accuracies, 'r-', label = \"Training Accuracies - NN\")\n",
    "plt.plot(acc_nn.test_accuracies, 'g-', label = \"Testing Accuracies - NN\")\n",
    "\n",
    "# Logistic Regression plots\n",
    "plt.plot(acc_lr.accuracies, 'k-', label = \"Training Accuracies - LR\")\n",
    "plt.plot(acc_lr.test_accuracies, 'b-', label = \"Testing Accuracies - LR\")\n",
    "\n",
    "plt.ylim(0.8, 1)\n",
    "\n",
    "plt.legend()\n",
    "\n"
   ]
  },
  {
   "cell_type": "markdown",
   "metadata": {
    "papermill": {
     "duration": 0.057392,
     "end_time": "2021-01-20T00:40:39.749828",
     "exception": false,
     "start_time": "2021-01-20T00:40:39.692436",
     "status": "completed"
    },
    "tags": []
   },
   "source": [
    "### From the plot, we can observe the following:\n",
    "- Neural Network achieves higher accuracy than the Logistic Regression model.\n",
    "- This apparently, is because of overfitting, i.e. NN captures more noise than data.\n",
    "- Testing accuracy of NN drops below the Training accuracy at higher epochs. This explains the over-fitting on training data.\n",
    "- Logistic Regression gives a reliable accuracy, without the above mentioned problem.\n"
   ]
  },
  {
   "cell_type": "markdown",
   "metadata": {
    "papermill": {
     "duration": 0.051218,
     "end_time": "2021-01-20T00:40:39.871608",
     "exception": false,
     "start_time": "2021-01-20T00:40:39.820390",
     "status": "completed"
    },
    "tags": []
   },
   "source": [
    "### Moving till the last but one layer (excluding it).\n",
    "#### Plotting the outputs of this layer of the NN."
   ]
  },
  {
   "cell_type": "code",
   "execution_count": 24,
   "metadata": {
    "execution": {
     "iopub.execute_input": "2021-01-20T00:40:39.982043Z",
     "iopub.status.busy": "2021-01-20T00:40:39.980008Z",
     "iopub.status.idle": "2021-01-20T00:40:39.993162Z",
     "shell.execute_reply": "2021-01-20T00:40:39.993665Z"
    },
    "papermill": {
     "duration": 0.068855,
     "end_time": "2021-01-20T00:40:39.993817",
     "exception": false,
     "start_time": "2021-01-20T00:40:39.924962",
     "status": "completed"
    },
    "tags": []
   },
   "outputs": [],
   "source": [
    "model_new = Model(layers[:-2])"
   ]
  },
  {
   "cell_type": "code",
   "execution_count": 25,
   "metadata": {
    "execution": {
     "iopub.execute_input": "2021-01-20T00:40:40.100804Z",
     "iopub.status.busy": "2021-01-20T00:40:40.100197Z",
     "iopub.status.idle": "2021-01-20T00:40:40.128276Z",
     "shell.execute_reply": "2021-01-20T00:40:40.129047Z"
    },
    "papermill": {
     "duration": 0.086721,
     "end_time": "2021-01-20T00:40:40.129399",
     "exception": false,
     "start_time": "2021-01-20T00:40:40.042678",
     "status": "completed"
    },
    "tags": []
   },
   "outputs": [],
   "source": [
    "plot_testing = model_new(testing_xdata)"
   ]
  },
  {
   "cell_type": "code",
   "execution_count": 26,
   "metadata": {
    "execution": {
     "iopub.execute_input": "2021-01-20T00:40:40.238898Z",
     "iopub.status.busy": "2021-01-20T00:40:40.238184Z",
     "iopub.status.idle": "2021-01-20T00:40:40.472901Z",
     "shell.execute_reply": "2021-01-20T00:40:40.471911Z"
    },
    "papermill": {
     "duration": 0.291794,
     "end_time": "2021-01-20T00:40:40.473059",
     "exception": false,
     "start_time": "2021-01-20T00:40:40.181265",
     "status": "completed"
    },
    "tags": []
   },
   "outputs": [
    {
     "data": {
      "text/plain": [
       "Text(0.5, 1.0, 'Outputs')"
      ]
     },
     "execution_count": 26,
     "metadata": {},
     "output_type": "execute_result"
    },
    {
     "data": {
      "image/png": "[encoded data removed]",
      "text/plain": [
       "<Figure size 576x504 with 1 Axes>"
      ]
     },
     "metadata": {
      "needs_background": "light"
     },
     "output_type": "display_data"
    }
   ],
   "source": [
    "plt.figure(figsize=(8,7))\n",
    "plt.scatter(plot_testing[:,0], plot_testing[:,1], alpha = 0.1, c = y_test.ravel());\n",
    "plt.title('Outputs')"
   ]
  },
  {
   "cell_type": "markdown",
   "metadata": {
    "papermill": {
     "duration": 0.052992,
     "end_time": "2021-01-20T00:40:40.578570",
     "exception": false,
     "start_time": "2021-01-20T00:40:40.525578",
     "status": "completed"
    },
    "tags": []
   },
   "source": [
    "### Plotting probability contours"
   ]
  },
  {
   "cell_type": "code",
   "execution_count": 27,
   "metadata": {
    "execution": {
     "iopub.execute_input": "2021-01-20T00:40:40.691428Z",
     "iopub.status.busy": "2021-01-20T00:40:40.690609Z",
     "iopub.status.idle": "2021-01-20T00:40:40.703321Z",
     "shell.execute_reply": "2021-01-20T00:40:40.702847Z"
    },
    "papermill": {
     "duration": 0.071918,
     "end_time": "2021-01-20T00:40:40.703451",
     "exception": false,
     "start_time": "2021-01-20T00:40:40.631533",
     "status": "completed"
    },
    "tags": []
   },
   "outputs": [],
   "source": [
    "model_prob = Model(layers[-2:]) "
   ]
  },
  {
   "cell_type": "code",
   "execution_count": 28,
   "metadata": {
    "execution": {
     "iopub.execute_input": "2021-01-20T00:40:40.836985Z",
     "iopub.status.busy": "2021-01-20T00:40:40.836363Z",
     "iopub.status.idle": "2021-01-20T00:40:40.849577Z",
     "shell.execute_reply": "2021-01-20T00:40:40.850106Z"
    },
    "papermill": {
     "duration": 0.095621,
     "end_time": "2021-01-20T00:40:40.850298",
     "exception": false,
     "start_time": "2021-01-20T00:40:40.754677",
     "status": "completed"
    },
    "tags": []
   },
   "outputs": [],
   "source": [
    "# Adjust the x and y ranges according to the above generated plot.\n",
    "x_range = np.linspace(-4, 1, 100) \n",
    "y_range = np.linspace(-6, 6, 100) \n",
    "x_grid, y_grid = np.meshgrid(x_range, y_range) # x_grid and y_grig are of size 100 X 100\n",
    "\n",
    "# converting x_grid and y_grid to continuous arrays\n",
    "x_grid_flat = np.ravel(x_grid)\n",
    "y_grid_flat = np.ravel(y_grid)\n",
    "\n",
    "# The last layer of the current model takes two columns as input. Hence transpose of np.vstack() is required.\n",
    "X = np.vstack((x_grid_flat, y_grid_flat)).T\n",
    "\n",
    "# x_grid and y_grid are of size 100 x 100\n",
    "probability_contour = model_prob(X).reshape(100,100) "
   ]
  },
  {
   "cell_type": "code",
   "execution_count": 29,
   "metadata": {
    "execution": {
     "iopub.execute_input": "2021-01-20T00:40:40.964135Z",
     "iopub.status.busy": "2021-01-20T00:40:40.963508Z",
     "iopub.status.idle": "2021-01-20T00:40:41.265117Z",
     "shell.execute_reply": "2021-01-20T00:40:41.264540Z"
    },
    "papermill": {
     "duration": 0.361834,
     "end_time": "2021-01-20T00:40:41.265290",
     "exception": false,
     "start_time": "2021-01-20T00:40:40.903456",
     "status": "completed"
    },
    "tags": []
   },
   "outputs": [
    {
     "data": {
      "image/png": "[encoded data removed]",
      "text/plain": [
       "<Figure size 720x648 with 1 Axes>"
      ]
     },
     "metadata": {
      "needs_background": "light"
     },
     "output_type": "display_data"
    }
   ],
   "source": [
    "plt.figure(figsize=(10,9))\n",
    "plt.scatter(plot_testing[:,0], plot_testing[:,1], alpha = 0.1, c = y_test.ravel())\n",
    "contours = plt.contour(x_grid,y_grid,probability_contour)\n",
    "plt.title('Probability Contours')\n",
    "plt.clabel(contours, inline = True );"
   ]
  }
 ],
 "metadata": {
  "kernelspec": {
   "display_name": "Python 3",
   "language": "python",
   "name": "python3"
  },
  "language_info": {
   "codemirror_mode": {
    "name": "ipython",
    "version": 3
   },
   "file_extension": ".py",
   "mimetype": "text/x-python",
   "name": "python",
   "nbconvert_exporter": "python",
   "pygments_lexer": "ipython3",
   "version": "3.6.12"
  },
  "papermill": {
   "duration": 176.042139,
   "end_time": "2021-01-20T00:40:41.730664",
   "environment_variables": {},
   "exception": null,
   "input_path": "2020-08-11-NeuralNetwork.ipynb",
   "output_path": "2020-08-11-NeuralNetwork.ipynb",
   "parameters": {},
   "start_time": "2021-01-20T00:37:45.688525",
   "version": "2.1.2"
  }
 },
 "nbformat": 4,
 "nbformat_minor": 4
}