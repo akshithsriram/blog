{
 "cells": [
  {
   "cell_type": "markdown",
   "metadata": {
    "papermill": {
     "duration": 0.032052,
     "end_time": "2020-09-01T00:06:12.315988",
     "exception": false,
     "start_time": "2020-09-01T00:06:12.283936",
     "status": "completed"
    },
    "tags": []
   },
   "source": [
    "# \"A Basic Neural Network: Differentiate Hand-Written Digits\"\n",
    "\n",
    "- badges: true\n",
    "- author: Akshith Sriram"
   ]
  },
  {
   "cell_type": "markdown",
   "metadata": {
    "papermill": {
     "duration": 0.027573,
     "end_time": "2020-09-01T00:06:12.372505",
     "exception": false,
     "start_time": "2020-09-01T00:06:12.344932",
     "status": "completed"
    },
    "tags": []
   },
   "source": [
    "### Key Objectives:\n",
    "- Building a neural network that differentiates two hand-written digits 3 and 8.\n",
    "- Comparing the results of this Neural Network (NN) to that of a Logistic Regression (LR) model.\n",
    "\n",
    "### Requirements:\n",
    "- 'Kudzu' : A neural network library that was designed during our course by [Univ.AI](www.univ.ai). \n",
    "- MNIST Database\n",
    "\n",
    "If MNIST is not installed, use the command `!pip install mnist` given below.\n",
    "It can be run both from the command line and Jupyter Notebook."
   ]
  },
  {
   "cell_type": "code",
   "execution_count": 1,
   "metadata": {
    "execution": {
     "iopub.execute_input": "2020-09-01T00:06:12.431997Z",
     "iopub.status.busy": "2020-09-01T00:06:12.431333Z",
     "iopub.status.idle": "2020-09-01T00:06:14.173571Z",
     "shell.execute_reply": "2020-09-01T00:06:14.174148Z"
    },
    "papermill": {
     "duration": 1.77467,
     "end_time": "2020-09-01T00:06:14.174374",
     "exception": false,
     "start_time": "2020-09-01T00:06:12.399704",
     "status": "completed"
    },
    "tags": []
   },
   "outputs": [
    {
     "name": "stdout",
     "output_type": "stream",
     "text": [
      "Collecting mnist\r\n"
     ]
    },
    {
     "name": "stdout",
     "output_type": "stream",
     "text": [
      "  Downloading mnist-0.2.2-py2.py3-none-any.whl (3.5 kB)\r\n"
     ]
    },
    {
     "name": "stdout",
     "output_type": "stream",
     "text": [
      "Requirement already satisfied: numpy in /opt/hostedtoolcache/Python/3.6.11/x64/lib/python3.6/site-packages (from mnist) (1.19.1)\r\n"
     ]
    },
    {
     "name": "stdout",
     "output_type": "stream",
     "text": [
      "Installing collected packages: mnist\r\n"
     ]
    },
    {
     "name": "stdout",
     "output_type": "stream",
     "text": [
      "Successfully installed mnist-0.2.2\r\n"
     ]
    }
   ],
   "source": [
    "!pip install mnist "
   ]
  },
  {
   "cell_type": "markdown",
   "metadata": {
    "papermill": {
     "duration": 0.029776,
     "end_time": "2020-09-01T00:06:14.233970",
     "exception": false,
     "start_time": "2020-09-01T00:06:14.204194",
     "status": "completed"
    },
    "tags": []
   },
   "source": [
    "#### Importing necessary libraries"
   ]
  },
  {
   "cell_type": "code",
   "execution_count": 2,
   "metadata": {
    "execution": {
     "iopub.execute_input": "2020-09-01T00:06:14.303161Z",
     "iopub.status.busy": "2020-09-01T00:06:14.302451Z",
     "iopub.status.idle": "2020-09-01T00:06:14.917263Z",
     "shell.execute_reply": "2020-09-01T00:06:14.916664Z"
    },
    "papermill": {
     "duration": 0.652685,
     "end_time": "2020-09-01T00:06:14.917433",
     "exception": false,
     "start_time": "2020-09-01T00:06:14.264748",
     "status": "completed"
    },
    "tags": []
   },
   "outputs": [],
   "source": [
    "%load_ext autoreload\n",
    "%autoreload 2\n",
    "\n",
    "%matplotlib inline\n",
    "import matplotlib.pyplot as plt\n",
    "\n",
    "import numpy as np\n",
    "import pandas as pd"
   ]
  },
  {
   "cell_type": "markdown",
   "metadata": {
    "papermill": {
     "duration": 0.029253,
     "end_time": "2020-09-01T00:06:14.976720",
     "exception": false,
     "start_time": "2020-09-01T00:06:14.947467",
     "status": "completed"
    },
    "tags": []
   },
   "source": [
    "### Preparing the Data"
   ]
  },
  {
   "cell_type": "code",
   "execution_count": 3,
   "metadata": {
    "execution": {
     "iopub.execute_input": "2020-09-01T00:06:15.048125Z",
     "iopub.status.busy": "2020-09-01T00:06:15.047468Z",
     "iopub.status.idle": "2020-09-01T00:06:15.057393Z",
     "shell.execute_reply": "2020-09-01T00:06:15.057908Z"
    },
    "papermill": {
     "duration": 0.052363,
     "end_time": "2020-09-01T00:06:15.058096",
     "exception": false,
     "start_time": "2020-09-01T00:06:15.005733",
     "status": "completed"
    },
    "tags": []
   },
   "outputs": [],
   "source": [
    "import mnist"
   ]
  },
  {
   "cell_type": "code",
   "execution_count": 4,
   "metadata": {
    "execution": {
     "iopub.execute_input": "2020-09-01T00:06:15.138184Z",
     "iopub.status.busy": "2020-09-01T00:06:15.137535Z",
     "iopub.status.idle": "2020-09-01T00:06:19.659683Z",
     "shell.execute_reply": "2020-09-01T00:06:19.660228Z"
    },
    "papermill": {
     "duration": 4.572887,
     "end_time": "2020-09-01T00:06:19.660427",
     "exception": false,
     "start_time": "2020-09-01T00:06:15.087540",
     "status": "completed"
    },
    "tags": []
   },
   "outputs": [],
   "source": [
    "train_images = mnist.train_images()\n",
    "train_labels = mnist.train_labels()"
   ]
  },
  {
   "cell_type": "code",
   "execution_count": 5,
   "metadata": {
    "execution": {
     "iopub.execute_input": "2020-09-01T00:06:19.731014Z",
     "iopub.status.busy": "2020-09-01T00:06:19.730320Z",
     "iopub.status.idle": "2020-09-01T00:06:19.743243Z",
     "shell.execute_reply": "2020-09-01T00:06:19.743879Z"
    },
    "papermill": {
     "duration": 0.052033,
     "end_time": "2020-09-01T00:06:19.744060",
     "exception": false,
     "start_time": "2020-09-01T00:06:19.692027",
     "status": "completed"
    },
    "tags": []
   },
   "outputs": [
    {
     "data": {
      "text/plain": [
       "((60000, 28, 28), (60000,))"
      ]
     },
     "execution_count": 5,
     "metadata": {},
     "output_type": "execute_result"
    }
   ],
   "source": [
    "train_images.shape, train_labels.shape"
   ]
  },
  {
   "cell_type": "code",
   "execution_count": 6,
   "metadata": {
    "execution": {
     "iopub.execute_input": "2020-09-01T00:06:19.812859Z",
     "iopub.status.busy": "2020-09-01T00:06:19.811743Z",
     "iopub.status.idle": "2020-09-01T00:06:20.668236Z",
     "shell.execute_reply": "2020-09-01T00:06:20.667637Z"
    },
    "papermill": {
     "duration": 0.893607,
     "end_time": "2020-09-01T00:06:20.668406",
     "exception": false,
     "start_time": "2020-09-01T00:06:19.774799",
     "status": "completed"
    },
    "tags": []
   },
   "outputs": [],
   "source": [
    "test_images = mnist.test_images()\n",
    "test_labels = mnist.test_labels()"
   ]
  },
  {
   "cell_type": "code",
   "execution_count": 7,
   "metadata": {
    "execution": {
     "iopub.execute_input": "2020-09-01T00:06:20.746807Z",
     "iopub.status.busy": "2020-09-01T00:06:20.742020Z",
     "iopub.status.idle": "2020-09-01T00:06:20.753754Z",
     "shell.execute_reply": "2020-09-01T00:06:20.754275Z"
    },
    "papermill": {
     "duration": 0.053331,
     "end_time": "2020-09-01T00:06:20.754456",
     "exception": false,
     "start_time": "2020-09-01T00:06:20.701125",
     "status": "completed"
    },
    "tags": []
   },
   "outputs": [
    {
     "data": {
      "text/plain": [
       "((10000, 28, 28), (10000,))"
      ]
     },
     "execution_count": 7,
     "metadata": {},
     "output_type": "execute_result"
    }
   ],
   "source": [
    "test_images.shape, test_labels.shape"
   ]
  },
  {
   "cell_type": "code",
   "execution_count": 8,
   "metadata": {
    "execution": {
     "iopub.execute_input": "2020-09-01T00:06:20.836675Z",
     "iopub.status.busy": "2020-09-01T00:06:20.835417Z",
     "iopub.status.idle": "2020-09-01T00:06:21.004590Z",
     "shell.execute_reply": "2020-09-01T00:06:21.004029Z"
    },
    "papermill": {
     "duration": 0.21122,
     "end_time": "2020-09-01T00:06:21.004754",
     "exception": false,
     "start_time": "2020-09-01T00:06:20.793534",
     "status": "completed"
    },
    "tags": []
   },
   "outputs": [
    {
     "name": "stdout",
     "output_type": "stream",
     "text": [
      "2\n"
     ]
    },
    {
     "data": {
      "text/plain": [
       "<matplotlib.image.AxesImage at 0x7f4c5d648be0>"
      ]
     },
     "execution_count": 8,
     "metadata": {},
     "output_type": "execute_result"
    },
    {
     "data": {
      "image/png": "[encoded data removed]",
      "text/plain": [
       "<Figure size 432x288 with 1 Axes>"
      ]
     },
     "metadata": {
      "needs_background": "light"
     },
     "output_type": "display_data"
    }
   ],
   "source": [
    "image_index = 7776 # You may select anything up to 60,000\n",
    "print(train_labels[image_index]) \n",
    "plt.imshow(train_images[image_index], cmap='Greys')"
   ]
  },
  {
   "cell_type": "markdown",
   "metadata": {
    "papermill": {
     "duration": 0.031392,
     "end_time": "2020-09-01T00:06:21.068051",
     "exception": false,
     "start_time": "2020-09-01T00:06:21.036659",
     "status": "completed"
    },
    "tags": []
   },
   "source": [
    "## Filter data to get 3 and 8 out"
   ]
  },
  {
   "cell_type": "code",
   "execution_count": 9,
   "metadata": {
    "execution": {
     "iopub.execute_input": "2020-09-01T00:06:21.151686Z",
     "iopub.status.busy": "2020-09-01T00:06:21.144193Z",
     "iopub.status.idle": "2020-09-01T00:06:21.159622Z",
     "shell.execute_reply": "2020-09-01T00:06:21.159043Z"
    },
    "papermill": {
     "duration": 0.05978,
     "end_time": "2020-09-01T00:06:21.159869",
     "exception": false,
     "start_time": "2020-09-01T00:06:21.100089",
     "status": "completed"
    },
    "tags": []
   },
   "outputs": [],
   "source": [
    "train_filter = np.where((train_labels == 3 ) | (train_labels == 8))\n",
    "test_filter = np.where((test_labels == 3) | (test_labels == 8))\n",
    "X_train, y_train = train_images[train_filter], train_labels[train_filter]\n",
    "X_test, y_test = test_images[test_filter], test_labels[test_filter]"
   ]
  },
  {
   "cell_type": "markdown",
   "metadata": {
    "papermill": {
     "duration": 0.031589,
     "end_time": "2020-09-01T00:06:21.226098",
     "exception": false,
     "start_time": "2020-09-01T00:06:21.194509",
     "status": "completed"
    },
    "tags": []
   },
   "source": [
    "We normalize the pixel values in the 0 to 1 range"
   ]
  },
  {
   "cell_type": "code",
   "execution_count": 10,
   "metadata": {
    "execution": {
     "iopub.execute_input": "2020-09-01T00:06:21.319711Z",
     "iopub.status.busy": "2020-09-01T00:06:21.312871Z",
     "iopub.status.idle": "2020-09-01T00:06:21.365076Z",
     "shell.execute_reply": "2020-09-01T00:06:21.364487Z"
    },
    "papermill": {
     "duration": 0.10492,
     "end_time": "2020-09-01T00:06:21.365243",
     "exception": false,
     "start_time": "2020-09-01T00:06:21.260323",
     "status": "completed"
    },
    "tags": []
   },
   "outputs": [],
   "source": [
    "X_train = X_train/255.\n",
    "X_test = X_test/255."
   ]
  },
  {
   "cell_type": "markdown",
   "metadata": {
    "papermill": {
     "duration": 0.040225,
     "end_time": "2020-09-01T00:06:21.438726",
     "exception": false,
     "start_time": "2020-09-01T00:06:21.398501",
     "status": "completed"
    },
    "tags": []
   },
   "source": [
    "Setup the labels as 1 (when the digit is 3) and 0 (when the digit is 8)"
   ]
  },
  {
   "cell_type": "code",
   "execution_count": 11,
   "metadata": {
    "execution": {
     "iopub.execute_input": "2020-09-01T00:06:21.510450Z",
     "iopub.status.busy": "2020-09-01T00:06:21.509786Z",
     "iopub.status.idle": "2020-09-01T00:06:21.523874Z",
     "shell.execute_reply": "2020-09-01T00:06:21.523256Z"
    },
    "papermill": {
     "duration": 0.051722,
     "end_time": "2020-09-01T00:06:21.524028",
     "exception": false,
     "start_time": "2020-09-01T00:06:21.472306",
     "status": "completed"
    },
    "tags": []
   },
   "outputs": [],
   "source": [
    "y_train = 1*(y_train==3)\n",
    "y_test = 1*(y_test==3)"
   ]
  },
  {
   "cell_type": "code",
   "execution_count": 12,
   "metadata": {
    "execution": {
     "iopub.execute_input": "2020-09-01T00:06:21.594589Z",
     "iopub.status.busy": "2020-09-01T00:06:21.593939Z",
     "iopub.status.idle": "2020-09-01T00:06:21.608137Z",
     "shell.execute_reply": "2020-09-01T00:06:21.608669Z"
    },
    "papermill": {
     "duration": 0.049855,
     "end_time": "2020-09-01T00:06:21.608913",
     "exception": false,
     "start_time": "2020-09-01T00:06:21.559058",
     "status": "completed"
    },
    "tags": []
   },
   "outputs": [
    {
     "data": {
      "text/plain": [
       "((11982, 28, 28), (1984, 28, 28))"
      ]
     },
     "execution_count": 12,
     "metadata": {},
     "output_type": "execute_result"
    }
   ],
   "source": [
    "X_train.shape, X_test.shape"
   ]
  },
  {
   "cell_type": "markdown",
   "metadata": {
    "papermill": {
     "duration": 0.031863,
     "end_time": "2020-09-01T00:06:21.674209",
     "exception": false,
     "start_time": "2020-09-01T00:06:21.642346",
     "status": "completed"
    },
    "tags": []
   },
   "source": [
    "### Reshape the input data to create a linear array"
   ]
  },
  {
   "cell_type": "code",
   "execution_count": 13,
   "metadata": {
    "execution": {
     "iopub.execute_input": "2020-09-01T00:06:21.888943Z",
     "iopub.status.busy": "2020-09-01T00:06:21.888238Z",
     "iopub.status.idle": "2020-09-01T00:06:21.902825Z",
     "shell.execute_reply": "2020-09-01T00:06:21.903410Z"
    },
    "papermill": {
     "duration": 0.195632,
     "end_time": "2020-09-01T00:06:21.903603",
     "exception": false,
     "start_time": "2020-09-01T00:06:21.707971",
     "status": "completed"
    },
    "tags": []
   },
   "outputs": [
    {
     "data": {
      "text/plain": [
       "((11982, 784), (1984, 784))"
      ]
     },
     "execution_count": 13,
     "metadata": {},
     "output_type": "execute_result"
    }
   ],
   "source": [
    "X_train = X_train.reshape(X_train.shape[0], -1)\n",
    "X_test = X_test.reshape(X_test.shape[0], -1)\n",
    "X_train.shape, X_test.shape"
   ]
  },
  {
   "cell_type": "markdown",
   "metadata": {
    "papermill": {
     "duration": 0.03214,
     "end_time": "2020-09-01T00:06:21.967699",
     "exception": false,
     "start_time": "2020-09-01T00:06:21.935559",
     "status": "completed"
    },
    "tags": []
   },
   "source": [
    "### Importing appropriate functions from 'Kudzu'"
   ]
  },
  {
   "cell_type": "code",
   "execution_count": 14,
   "metadata": {
    "execution": {
     "iopub.execute_input": "2020-09-01T00:06:22.040449Z",
     "iopub.status.busy": "2020-09-01T00:06:22.039786Z",
     "iopub.status.idle": "2020-09-01T00:06:22.061565Z",
     "shell.execute_reply": "2020-09-01T00:06:22.060975Z"
    },
    "papermill": {
     "duration": 0.060514,
     "end_time": "2020-09-01T00:06:22.061729",
     "exception": false,
     "start_time": "2020-09-01T00:06:22.001215",
     "status": "completed"
    },
    "tags": []
   },
   "outputs": [],
   "source": [
    "from kudzu.layer import Sigmoid\n",
    "from kudzu.layer import Relu\n",
    "from kudzu.layer import Affine, Sigmoid\n",
    "\n",
    "from kudzu.model import Model\n",
    "from kudzu.train import Learner\n",
    "from kudzu.optim import GD\n",
    "from kudzu.data import Data, Dataloader, Sampler\n",
    "\n",
    "from kudzu.callbacks import AccCallback\n",
    "from kudzu.callbacks import ClfCallback\n",
    "\n",
    "from kudzu.loss import MSE"
   ]
  },
  {
   "cell_type": "markdown",
   "metadata": {
    "papermill": {
     "duration": 0.036055,
     "end_time": "2020-09-01T00:06:22.133405",
     "exception": false,
     "start_time": "2020-09-01T00:06:22.097350",
     "status": "completed"
    },
    "tags": []
   },
   "source": [
    "### Let us create a `Config` class, to store important parameters. \n",
    "This class essentially plays the role of a dictionary."
   ]
  },
  {
   "cell_type": "code",
   "execution_count": 15,
   "metadata": {
    "execution": {
     "iopub.execute_input": "2020-09-01T00:06:22.205796Z",
     "iopub.status.busy": "2020-09-01T00:06:22.205069Z",
     "iopub.status.idle": "2020-09-01T00:06:22.220014Z",
     "shell.execute_reply": "2020-09-01T00:06:22.219439Z"
    },
    "papermill": {
     "duration": 0.054182,
     "end_time": "2020-09-01T00:06:22.220178",
     "exception": false,
     "start_time": "2020-09-01T00:06:22.165996",
     "status": "completed"
    },
    "tags": []
   },
   "outputs": [],
   "source": [
    "class Config:\n",
    "    pass\n",
    "config = Config()\n",
    "config.lr = 0.001\n",
    "config.num_epochs = 251\n",
    "config.bs = 50"
   ]
  },
  {
   "cell_type": "markdown",
   "metadata": {
    "papermill": {
     "duration": 0.032655,
     "end_time": "2020-09-01T00:06:22.285187",
     "exception": false,
     "start_time": "2020-09-01T00:06:22.252532",
     "status": "completed"
    },
    "tags": []
   },
   "source": [
    "### Initializing data to the variables"
   ]
  },
  {
   "cell_type": "code",
   "execution_count": 16,
   "metadata": {
    "execution": {
     "iopub.execute_input": "2020-09-01T00:06:22.368580Z",
     "iopub.status.busy": "2020-09-01T00:06:22.363570Z",
     "iopub.status.idle": "2020-09-01T00:06:22.371478Z",
     "shell.execute_reply": "2020-09-01T00:06:22.372021Z"
    },
    "papermill": {
     "duration": 0.054929,
     "end_time": "2020-09-01T00:06:22.372207",
     "exception": false,
     "start_time": "2020-09-01T00:06:22.317278",
     "status": "completed"
    },
    "tags": []
   },
   "outputs": [],
   "source": [
    "data = Data(X_train, y_train.reshape(-1,1))\n",
    "sampler = Sampler(data, config.bs, shuffle=True)\n",
    "\n",
    "dl = Dataloader(data, sampler)\n",
    "\n",
    "opt = GD(config.lr)\n",
    "loss = MSE()"
   ]
  },
  {
   "cell_type": "code",
   "execution_count": 17,
   "metadata": {
    "execution": {
     "iopub.execute_input": "2020-09-01T00:06:22.442809Z",
     "iopub.status.busy": "2020-09-01T00:06:22.442156Z",
     "iopub.status.idle": "2020-09-01T00:06:22.454501Z",
     "shell.execute_reply": "2020-09-01T00:06:22.455042Z"
    },
    "papermill": {
     "duration": 0.049096,
     "end_time": "2020-09-01T00:06:22.455206",
     "exception": false,
     "start_time": "2020-09-01T00:06:22.406110",
     "status": "completed"
    },
    "tags": []
   },
   "outputs": [],
   "source": [
    "training_xdata = X_train\n",
    "testing_xdata = X_test\n",
    "training_ydata = y_train.reshape(-1,1)\n",
    "testing_ydata = y_test.reshape(-1,1)"
   ]
  },
  {
   "cell_type": "markdown",
   "metadata": {
    "papermill": {
     "duration": 0.032046,
     "end_time": "2020-09-01T00:06:22.519667",
     "exception": false,
     "start_time": "2020-09-01T00:06:22.487621",
     "status": "completed"
    },
    "tags": []
   },
   "source": [
    "### Running Models with the Training data\n",
    "Details about the network layers:\n",
    "- A first affine layer has 784 inputs and does 100 affine transforms. These are followed by a Relu\n",
    "- A second affine layer has 100 inputs from the 100 activations of the past layer, and does 100 affine transforms. These are followed by a Relu\n",
    "- A third affine layer has 100 activations and does 2 affine transformations to create an embedding for visualization. There is no non-linearity here.\n",
    "- A final \"logistic regression\" which has an affine transform from 2 inputs to 1 output, which is squeezed through a sigmoid.\n",
    "\n",
    "Help taken from Anshuman's Notebook."
   ]
  },
  {
   "cell_type": "code",
   "execution_count": 18,
   "metadata": {
    "execution": {
     "iopub.execute_input": "2020-09-01T00:06:22.590205Z",
     "iopub.status.busy": "2020-09-01T00:06:22.589541Z",
     "iopub.status.idle": "2020-09-01T00:06:22.615536Z",
     "shell.execute_reply": "2020-09-01T00:06:22.614921Z"
    },
    "papermill": {
     "duration": 0.063696,
     "end_time": "2020-09-01T00:06:22.615701",
     "exception": false,
     "start_time": "2020-09-01T00:06:22.552005",
     "status": "completed"
    },
    "tags": []
   },
   "outputs": [],
   "source": [
    "# layers for the Neural Network\n",
    "layers = [Affine(\"first\", 784, 100), Relu(\"first\"), Affine(\"second\", 100, 100), Relu(\"second\"), Affine(\"third\", 100, 2), Affine(\"final\", 2, 1), Sigmoid(\"final\")]\n",
    "model_nn = Model(layers)\n",
    "\n",
    "# layers for the Logistic Regression\n",
    "layers_lr = [Affine(\"logits\", 784, 1), Sigmoid(\"sigmoid\")]\n",
    "model_lr = Model(layers_lr)"
   ]
  },
  {
   "cell_type": "code",
   "execution_count": 19,
   "metadata": {
    "execution": {
     "iopub.execute_input": "2020-09-01T00:06:22.687297Z",
     "iopub.status.busy": "2020-09-01T00:06:22.686508Z",
     "iopub.status.idle": "2020-09-01T00:06:22.698650Z",
     "shell.execute_reply": "2020-09-01T00:06:22.699253Z"
    },
    "papermill": {
     "duration": 0.051314,
     "end_time": "2020-09-01T00:06:22.699427",
     "exception": false,
     "start_time": "2020-09-01T00:06:22.648113",
     "status": "completed"
    },
    "tags": []
   },
   "outputs": [],
   "source": [
    "# suffix _nn stands for Neural Network.\n",
    "learner_nn = Learner(loss, model_nn, opt, config.num_epochs)\n",
    "acc_nn = ClfCallback(learner_nn, config.bs, training_xdata , testing_xdata, training_ydata, testing_ydata)\n",
    "learner_nn.set_callbacks([acc_nn])"
   ]
  },
  {
   "cell_type": "code",
   "execution_count": 20,
   "metadata": {
    "execution": {
     "iopub.execute_input": "2020-09-01T00:06:22.767470Z",
     "iopub.status.busy": "2020-09-01T00:06:22.766780Z",
     "iopub.status.idle": "2020-09-01T00:08:24.738008Z",
     "shell.execute_reply": "2020-09-01T00:08:24.738891Z"
    },
    "papermill": {
     "duration": 122.007888,
     "end_time": "2020-09-01T00:08:24.739081",
     "exception": false,
     "start_time": "2020-09-01T00:06:22.731193",
     "status": "completed"
    },
    "tags": []
   },
   "outputs": [
    {
     "name": "stdout",
     "output_type": "stream",
     "text": [
      "====== Neural Network ======\n"
     ]
    },
    {
     "name": "stdout",
     "output_type": "stream",
     "text": [
      "Epoch 0, Loss 0.2395\n",
      "Training Accuracy: 0.6883, Testing Accuracy: 0.7122\n",
      "\n"
     ]
    },
    {
     "name": "stdout",
     "output_type": "stream",
     "text": [
      "Epoch 10, Loss 0.0809\n",
      "Training Accuracy: 0.9236, Testing Accuracy: 0.9405\n",
      "\n"
     ]
    },
    {
     "name": "stdout",
     "output_type": "stream",
     "text": [
      "Epoch 20, Loss 0.052\n",
      "Training Accuracy: 0.9435, Testing Accuracy: 0.9567\n",
      "\n"
     ]
    },
    {
     "name": "stdout",
     "output_type": "stream",
     "text": [
      "Epoch 30, Loss 0.042\n",
      "Training Accuracy: 0.9539, Testing Accuracy: 0.9632\n",
      "\n"
     ]
    },
    {
     "name": "stdout",
     "output_type": "stream",
     "text": [
      "Epoch 40, Loss 0.0368\n",
      "Training Accuracy: 0.9582, Testing Accuracy: 0.9662\n",
      "\n"
     ]
    },
    {
     "name": "stdout",
     "output_type": "stream",
     "text": [
      "Epoch 50, Loss 0.0336\n",
      "Training Accuracy: 0.9609, Testing Accuracy: 0.9698\n",
      "\n"
     ]
    },
    {
     "name": "stdout",
     "output_type": "stream",
     "text": [
      "Epoch 60, Loss 0.0312\n",
      "Training Accuracy: 0.9646, Testing Accuracy: 0.9698\n",
      "\n"
     ]
    },
    {
     "name": "stdout",
     "output_type": "stream",
     "text": [
      "Epoch 70, Loss 0.0294\n",
      "Training Accuracy: 0.9670, Testing Accuracy: 0.9698\n",
      "\n"
     ]
    },
    {
     "name": "stdout",
     "output_type": "stream",
     "text": [
      "Epoch 80, Loss 0.028\n",
      "Training Accuracy: 0.9685, Testing Accuracy: 0.9693\n",
      "\n"
     ]
    },
    {
     "name": "stdout",
     "output_type": "stream",
     "text": [
      "Epoch 90, Loss 0.0268\n",
      "Training Accuracy: 0.9692, Testing Accuracy: 0.9708\n",
      "\n"
     ]
    },
    {
     "name": "stdout",
     "output_type": "stream",
     "text": [
      "Epoch 100, Loss 0.0258\n",
      "Training Accuracy: 0.9699, Testing Accuracy: 0.9698\n",
      "\n"
     ]
    },
    {
     "name": "stdout",
     "output_type": "stream",
     "text": [
      "Epoch 110, Loss 0.0249\n",
      "Training Accuracy: 0.9708, Testing Accuracy: 0.9698\n",
      "\n"
     ]
    },
    {
     "name": "stdout",
     "output_type": "stream",
     "text": [
      "Epoch 120, Loss 0.0241\n",
      "Training Accuracy: 0.9713, Testing Accuracy: 0.9708\n",
      "\n"
     ]
    },
    {
     "name": "stdout",
     "output_type": "stream",
     "text": [
      "Epoch 130, Loss 0.0234\n",
      "Training Accuracy: 0.9723, Testing Accuracy: 0.9708\n",
      "\n"
     ]
    },
    {
     "name": "stdout",
     "output_type": "stream",
     "text": [
      "Epoch 140, Loss 0.0227\n",
      "Training Accuracy: 0.9734, Testing Accuracy: 0.9713\n",
      "\n"
     ]
    },
    {
     "name": "stdout",
     "output_type": "stream",
     "text": [
      "Epoch 150, Loss 0.022\n",
      "Training Accuracy: 0.9745, Testing Accuracy: 0.9723\n",
      "\n"
     ]
    },
    {
     "name": "stdout",
     "output_type": "stream",
     "text": [
      "Epoch 160, Loss 0.0214\n",
      "Training Accuracy: 0.9750, Testing Accuracy: 0.9728\n",
      "\n"
     ]
    },
    {
     "name": "stdout",
     "output_type": "stream",
     "text": [
      "Epoch 170, Loss 0.0209\n",
      "Training Accuracy: 0.9762, Testing Accuracy: 0.9728\n",
      "\n"
     ]
    },
    {
     "name": "stdout",
     "output_type": "stream",
     "text": [
      "Epoch 180, Loss 0.0204\n",
      "Training Accuracy: 0.9768, Testing Accuracy: 0.9738\n",
      "\n"
     ]
    },
    {
     "name": "stdout",
     "output_type": "stream",
     "text": [
      "Epoch 190, Loss 0.0199\n",
      "Training Accuracy: 0.9777, Testing Accuracy: 0.9743\n",
      "\n"
     ]
    },
    {
     "name": "stdout",
     "output_type": "stream",
     "text": [
      "Epoch 200, Loss 0.0194\n",
      "Training Accuracy: 0.9779, Testing Accuracy: 0.9738\n",
      "\n"
     ]
    },
    {
     "name": "stdout",
     "output_type": "stream",
     "text": [
      "Epoch 210, Loss 0.0189\n",
      "Training Accuracy: 0.9785, Testing Accuracy: 0.9743\n",
      "\n"
     ]
    },
    {
     "name": "stdout",
     "output_type": "stream",
     "text": [
      "Epoch 220, Loss 0.0185\n",
      "Training Accuracy: 0.9791, Testing Accuracy: 0.9743\n",
      "\n"
     ]
    },
    {
     "name": "stdout",
     "output_type": "stream",
     "text": [
      "Epoch 230, Loss 0.0181\n",
      "Training Accuracy: 0.9797, Testing Accuracy: 0.9738\n",
      "\n"
     ]
    },
    {
     "name": "stdout",
     "output_type": "stream",
     "text": [
      "Epoch 240, Loss 0.0177\n",
      "Training Accuracy: 0.9802, Testing Accuracy: 0.9743\n",
      "\n"
     ]
    },
    {
     "name": "stdout",
     "output_type": "stream",
     "text": [
      "Epoch 250, Loss 0.0173\n",
      "Training Accuracy: 0.9808, Testing Accuracy: 0.9748\n",
      "\n"
     ]
    },
    {
     "data": {
      "text/plain": [
       "0.004120372568438731"
      ]
     },
     "execution_count": 20,
     "metadata": {},
     "output_type": "execute_result"
    }
   ],
   "source": [
    "print(\"====== Neural Network ======\")\n",
    "learner_nn.train_loop(dl)"
   ]
  },
  {
   "cell_type": "markdown",
   "metadata": {
    "papermill": {
     "duration": 0.039754,
     "end_time": "2020-09-01T00:08:24.821936",
     "exception": false,
     "start_time": "2020-09-01T00:08:24.782182",
     "status": "completed"
    },
    "tags": []
   },
   "source": [
    "### Logistic Regression based Implementation."
   ]
  },
  {
   "cell_type": "code",
   "execution_count": 21,
   "metadata": {
    "execution": {
     "iopub.execute_input": "2020-09-01T00:08:24.910670Z",
     "iopub.status.busy": "2020-09-01T00:08:24.910022Z",
     "iopub.status.idle": "2020-09-01T00:08:24.932634Z",
     "shell.execute_reply": "2020-09-01T00:08:24.933267Z"
    },
    "papermill": {
     "duration": 0.071483,
     "end_time": "2020-09-01T00:08:24.933439",
     "exception": false,
     "start_time": "2020-09-01T00:08:24.861956",
     "status": "completed"
    },
    "tags": []
   },
   "outputs": [],
   "source": [
    "learner_lr = Learner(loss, model_lr, opt, config.num_epochs)\n",
    "acc_lr = ClfCallback(learner_lr, config.bs, training_xdata , testing_xdata, training_ydata, testing_ydata)\n",
    "learner_lr.set_callbacks([acc_lr])"
   ]
  },
  {
   "cell_type": "code",
   "execution_count": 22,
   "metadata": {
    "execution": {
     "iopub.execute_input": "2020-09-01T00:08:25.049811Z",
     "iopub.status.busy": "2020-09-01T00:08:25.041411Z",
     "iopub.status.idle": "2020-09-01T00:08:44.157363Z",
     "shell.execute_reply": "2020-09-01T00:08:44.158140Z"
    },
    "papermill": {
     "duration": 19.170709,
     "end_time": "2020-09-01T00:08:44.158326",
     "exception": false,
     "start_time": "2020-09-01T00:08:24.987617",
     "status": "completed"
    },
    "tags": []
   },
   "outputs": [
    {
     "name": "stdout",
     "output_type": "stream",
     "text": [
      "====== Logistic Regression ======\n",
      "Epoch 0, Loss 0.2426\n",
      "Training Accuracy: 0.6880, Testing Accuracy: 0.7026\n",
      "\n"
     ]
    },
    {
     "name": "stdout",
     "output_type": "stream",
     "text": [
      "Epoch 10, Loss 0.1015\n",
      "Training Accuracy: 0.9135, Testing Accuracy: 0.9259\n",
      "\n"
     ]
    },
    {
     "name": "stdout",
     "output_type": "stream",
     "text": [
      "Epoch 20, Loss 0.0785\n",
      "Training Accuracy: 0.9287, Testing Accuracy: 0.9380\n",
      "\n"
     ]
    },
    {
     "name": "stdout",
     "output_type": "stream",
     "text": [
      "Epoch 30, Loss 0.0678\n",
      "Training Accuracy: 0.9368, Testing Accuracy: 0.9441\n",
      "\n"
     ]
    },
    {
     "name": "stdout",
     "output_type": "stream",
     "text": [
      "Epoch 40, Loss 0.0613\n",
      "Training Accuracy: 0.9412, Testing Accuracy: 0.9511\n",
      "\n"
     ]
    },
    {
     "name": "stdout",
     "output_type": "stream",
     "text": [
      "Epoch 50, Loss 0.0569\n",
      "Training Accuracy: 0.9443, Testing Accuracy: 0.9561\n",
      "\n"
     ]
    },
    {
     "name": "stdout",
     "output_type": "stream",
     "text": [
      "Epoch 60, Loss 0.0536\n",
      "Training Accuracy: 0.9467, Testing Accuracy: 0.9577\n",
      "\n"
     ]
    },
    {
     "name": "stdout",
     "output_type": "stream",
     "text": [
      "Epoch 70, Loss 0.0511\n",
      "Training Accuracy: 0.9496, Testing Accuracy: 0.9577\n",
      "\n"
     ]
    },
    {
     "name": "stdout",
     "output_type": "stream",
     "text": [
      "Epoch 80, Loss 0.0491\n",
      "Training Accuracy: 0.9515, Testing Accuracy: 0.9602\n",
      "\n"
     ]
    },
    {
     "name": "stdout",
     "output_type": "stream",
     "text": [
      "Epoch 90, Loss 0.0474\n",
      "Training Accuracy: 0.9527, Testing Accuracy: 0.9597\n",
      "\n"
     ]
    },
    {
     "name": "stdout",
     "output_type": "stream",
     "text": [
      "Epoch 100, Loss 0.046\n",
      "Training Accuracy: 0.9539, Testing Accuracy: 0.9607\n",
      "\n"
     ]
    },
    {
     "name": "stdout",
     "output_type": "stream",
     "text": [
      "Epoch 110, Loss 0.0448\n",
      "Training Accuracy: 0.9553, Testing Accuracy: 0.9612\n",
      "\n"
     ]
    },
    {
     "name": "stdout",
     "output_type": "stream",
     "text": [
      "Epoch 120, Loss 0.0438\n",
      "Training Accuracy: 0.9560, Testing Accuracy: 0.9617\n",
      "\n"
     ]
    },
    {
     "name": "stdout",
     "output_type": "stream",
     "text": [
      "Epoch 130, Loss 0.0428\n",
      "Training Accuracy: 0.9564, Testing Accuracy: 0.9622\n",
      "\n"
     ]
    },
    {
     "name": "stdout",
     "output_type": "stream",
     "text": [
      "Epoch 140, Loss 0.042\n",
      "Training Accuracy: 0.9566, Testing Accuracy: 0.9637\n",
      "\n"
     ]
    },
    {
     "name": "stdout",
     "output_type": "stream",
     "text": [
      "Epoch 150, Loss 0.0413\n",
      "Training Accuracy: 0.9569, Testing Accuracy: 0.9637\n",
      "\n"
     ]
    },
    {
     "name": "stdout",
     "output_type": "stream",
     "text": [
      "Epoch 160, Loss 0.0406\n",
      "Training Accuracy: 0.9573, Testing Accuracy: 0.9637\n",
      "\n"
     ]
    },
    {
     "name": "stdout",
     "output_type": "stream",
     "text": [
      "Epoch 170, Loss 0.04\n",
      "Training Accuracy: 0.9575, Testing Accuracy: 0.9642\n",
      "\n"
     ]
    },
    {
     "name": "stdout",
     "output_type": "stream",
     "text": [
      "Epoch 180, Loss 0.0395\n",
      "Training Accuracy: 0.9578, Testing Accuracy: 0.9642\n",
      "\n"
     ]
    },
    {
     "name": "stdout",
     "output_type": "stream",
     "text": [
      "Epoch 190, Loss 0.039\n",
      "Training Accuracy: 0.9583, Testing Accuracy: 0.9642\n",
      "\n"
     ]
    },
    {
     "name": "stdout",
     "output_type": "stream",
     "text": [
      "Epoch 200, Loss 0.0385\n",
      "Training Accuracy: 0.9589, Testing Accuracy: 0.9642\n",
      "\n"
     ]
    },
    {
     "name": "stdout",
     "output_type": "stream",
     "text": [
      "Epoch 210, Loss 0.038\n",
      "Training Accuracy: 0.9589, Testing Accuracy: 0.9642\n",
      "\n"
     ]
    },
    {
     "name": "stdout",
     "output_type": "stream",
     "text": [
      "Epoch 220, Loss 0.0376\n",
      "Training Accuracy: 0.9593, Testing Accuracy: 0.9642\n",
      "\n"
     ]
    },
    {
     "name": "stdout",
     "output_type": "stream",
     "text": [
      "Epoch 230, Loss 0.0373\n",
      "Training Accuracy: 0.9593, Testing Accuracy: 0.9647\n",
      "\n"
     ]
    },
    {
     "name": "stdout",
     "output_type": "stream",
     "text": [
      "Epoch 240, Loss 0.0369\n",
      "Training Accuracy: 0.9598, Testing Accuracy: 0.9647\n",
      "\n"
     ]
    },
    {
     "name": "stdout",
     "output_type": "stream",
     "text": [
      "Epoch 250, Loss 0.0366\n",
      "Training Accuracy: 0.9599, Testing Accuracy: 0.9647\n",
      "\n"
     ]
    },
    {
     "data": {
      "text/plain": [
       "0.019063824026063075"
      ]
     },
     "execution_count": 22,
     "metadata": {},
     "output_type": "execute_result"
    }
   ],
   "source": [
    "print(\"====== Logistic Regression ======\")\n",
    "learner_lr.train_loop(dl)"
   ]
  },
  {
   "cell_type": "markdown",
   "metadata": {
    "papermill": {
     "duration": 0.049297,
     "end_time": "2020-09-01T00:08:44.257582",
     "exception": false,
     "start_time": "2020-09-01T00:08:44.208285",
     "status": "completed"
    },
    "tags": []
   },
   "source": [
    "### Comparing results of NN and LR"
   ]
  },
  {
   "cell_type": "code",
   "execution_count": 23,
   "metadata": {
    "execution": {
     "iopub.execute_input": "2020-09-01T00:08:44.362999Z",
     "iopub.status.busy": "2020-09-01T00:08:44.362279Z",
     "iopub.status.idle": "2020-09-01T00:08:44.645662Z",
     "shell.execute_reply": "2020-09-01T00:08:44.646232Z"
    },
    "papermill": {
     "duration": 0.339618,
     "end_time": "2020-09-01T00:08:44.646425",
     "exception": false,
     "start_time": "2020-09-01T00:08:44.306807",
     "status": "completed"
    },
    "tags": []
   },
   "outputs": [
    {
     "data": {
      "text/plain": [
       "<matplotlib.legend.Legend at 0x7f4c58a81390>"
      ]
     },
     "execution_count": 23,
     "metadata": {},
     "output_type": "execute_result"
    },
    {
     "data": {
      "image/png": "[encoded data removed]",
      "text/plain": [
       "<Figure size 1080x720 with 1 Axes>"
      ]
     },
     "metadata": {
      "needs_background": "light"
     },
     "output_type": "display_data"
    }
   ],
   "source": [
    "plt.figure(figsize=(15,10))\n",
    "\n",
    "# Neural Network plots\n",
    "plt.plot(acc_nn.accuracies, 'r-', label = \"Training Accuracies - NN\")\n",
    "plt.plot(acc_nn.test_accuracies, 'g-', label = \"Testing Accuracies - NN\")\n",
    "\n",
    "# Logistic Regression plots\n",
    "plt.plot(acc_lr.accuracies, 'k-', label = \"Training Accuracies - LR\")\n",
    "plt.plot(acc_lr.test_accuracies, 'b-', label = \"Testing Accuracies - LR\")\n",
    "\n",
    "plt.ylim(0.8, 1)\n",
    "\n",
    "plt.legend()\n",
    "\n"
   ]
  },
  {
   "cell_type": "markdown",
   "metadata": {
    "papermill": {
     "duration": 0.052754,
     "end_time": "2020-09-01T00:08:44.753355",
     "exception": false,
     "start_time": "2020-09-01T00:08:44.700601",
     "status": "completed"
    },
    "tags": []
   },
   "source": [
    "### From the plot, we can observe the following:\n",
    "- Neural Network achieves higher accuracy than the Logistic Regression model.\n",
    "- This apparently, is because of overfitting, i.e. NN captures more noise than data.\n",
    "- Testing accuracy of NN drops below the Training accuracy at higher epochs. This explains the over-fitting on training data.\n",
    "- Logistic Regression gives a reliable accuracy, without the above mentioned problem.\n"
   ]
  },
  {
   "cell_type": "markdown",
   "metadata": {
    "papermill": {
     "duration": 0.053439,
     "end_time": "2020-09-01T00:08:44.857735",
     "exception": false,
     "start_time": "2020-09-01T00:08:44.804296",
     "status": "completed"
    },
    "tags": []
   },
   "source": [
    "### Moving till the last but one layer (excluding it).\n",
    "#### Plotting the outputs of this layer of the NN."
   ]
  },
  {
   "cell_type": "code",
   "execution_count": 24,
   "metadata": {
    "execution": {
     "iopub.execute_input": "2020-09-01T00:08:44.981868Z",
     "iopub.status.busy": "2020-09-01T00:08:44.979722Z",
     "iopub.status.idle": "2020-09-01T00:08:44.988416Z",
     "shell.execute_reply": "2020-09-01T00:08:44.987839Z"
    },
    "papermill": {
     "duration": 0.076513,
     "end_time": "2020-09-01T00:08:44.988574",
     "exception": false,
     "start_time": "2020-09-01T00:08:44.912061",
     "status": "completed"
    },
    "tags": []
   },
   "outputs": [],
   "source": [
    "model_new = Model(layers[:-2])"
   ]
  },
  {
   "cell_type": "code",
   "execution_count": 25,
   "metadata": {
    "execution": {
     "iopub.execute_input": "2020-09-01T00:08:45.112232Z",
     "iopub.status.busy": "2020-09-01T00:08:45.109398Z",
     "iopub.status.idle": "2020-09-01T00:08:45.138344Z",
     "shell.execute_reply": "2020-09-01T00:08:45.138934Z"
    },
    "papermill": {
     "duration": 0.097072,
     "end_time": "2020-09-01T00:08:45.139128",
     "exception": false,
     "start_time": "2020-09-01T00:08:45.042056",
     "status": "completed"
    },
    "tags": []
   },
   "outputs": [],
   "source": [
    "plot_testing = model_new(testing_xdata)"
   ]
  },
  {
   "cell_type": "code",
   "execution_count": 26,
   "metadata": {
    "execution": {
     "iopub.execute_input": "2020-09-01T00:08:45.248441Z",
     "iopub.status.busy": "2020-09-01T00:08:45.247785Z",
     "iopub.status.idle": "2020-09-01T00:08:45.470131Z",
     "shell.execute_reply": "2020-09-01T00:08:45.470677Z"
    },
    "papermill": {
     "duration": 0.279765,
     "end_time": "2020-09-01T00:08:45.470902",
     "exception": false,
     "start_time": "2020-09-01T00:08:45.191137",
     "status": "completed"
    },
    "tags": []
   },
   "outputs": [
    {
     "data": {
      "text/plain": [
       "Text(0.5, 1.0, 'Outputs')"
      ]
     },
     "execution_count": 26,
     "metadata": {},
     "output_type": "execute_result"
    },
    {
     "data": {
      "image/png": "[encoded data removed]",
      "text/plain": [
       "<Figure size 576x504 with 1 Axes>"
      ]
     },
     "metadata": {
      "needs_background": "light"
     },
     "output_type": "display_data"
    }
   ],
   "source": [
    "plt.figure(figsize=(8,7))\n",
    "plt.scatter(plot_testing[:,0], plot_testing[:,1], alpha = 0.1, c = y_test.ravel());\n",
    "plt.title('Outputs')"
   ]
  },
  {
   "cell_type": "markdown",
   "metadata": {
    "papermill": {
     "duration": 0.053141,
     "end_time": "2020-09-01T00:08:45.581567",
     "exception": false,
     "start_time": "2020-09-01T00:08:45.528426",
     "status": "completed"
    },
    "tags": []
   },
   "source": [
    "### Plotting probability contours"
   ]
  },
  {
   "cell_type": "code",
   "execution_count": 27,
   "metadata": {
    "execution": {
     "iopub.execute_input": "2020-09-01T00:08:45.696374Z",
     "iopub.status.busy": "2020-09-01T00:08:45.695714Z",
     "iopub.status.idle": "2020-09-01T00:08:45.707520Z",
     "shell.execute_reply": "2020-09-01T00:08:45.708156Z"
    },
    "papermill": {
     "duration": 0.073585,
     "end_time": "2020-09-01T00:08:45.708333",
     "exception": false,
     "start_time": "2020-09-01T00:08:45.634748",
     "status": "completed"
    },
    "tags": []
   },
   "outputs": [],
   "source": [
    "model_prob = Model(layers[-2:]) "
   ]
  },
  {
   "cell_type": "code",
   "execution_count": 28,
   "metadata": {
    "execution": {
     "iopub.execute_input": "2020-09-01T00:08:45.824004Z",
     "iopub.status.busy": "2020-09-01T00:08:45.823324Z",
     "iopub.status.idle": "2020-09-01T00:08:45.835631Z",
     "shell.execute_reply": "2020-09-01T00:08:45.836142Z"
    },
    "papermill": {
     "duration": 0.073555,
     "end_time": "2020-09-01T00:08:45.836326",
     "exception": false,
     "start_time": "2020-09-01T00:08:45.762771",
     "status": "completed"
    },
    "tags": []
   },
   "outputs": [],
   "source": [
    "# Adjust the x and y ranges according to the above generated plot.\n",
    "x_range = np.linspace(-4, 1, 100) \n",
    "y_range = np.linspace(-6, 6, 100) \n",
    "x_grid, y_grid = np.meshgrid(x_range, y_range) # x_grid and y_grig are of size 100 X 100\n",
    "\n",
    "# converting x_grid and y_grid to continuous arrays\n",
    "x_grid_flat = np.ravel(x_grid)\n",
    "y_grid_flat = np.ravel(y_grid)\n",
    "\n",
    "# The last layer of the current model takes two columns as input. Hence transpose of np.vstack() is required.\n",
    "X = np.vstack((x_grid_flat, y_grid_flat)).T\n",
    "\n",
    "# x_grid and y_grid are of size 100 x 100\n",
    "probability_contour = model_prob(X).reshape(100,100) "
   ]
  },
  {
   "cell_type": "code",
   "execution_count": 29,
   "metadata": {
    "execution": {
     "iopub.execute_input": "2020-09-01T00:08:45.949949Z",
     "iopub.status.busy": "2020-09-01T00:08:45.949282Z",
     "iopub.status.idle": "2020-09-01T00:08:46.247997Z",
     "shell.execute_reply": "2020-09-01T00:08:46.248559Z"
    },
    "papermill": {
     "duration": 0.359925,
     "end_time": "2020-09-01T00:08:46.248748",
     "exception": false,
     "start_time": "2020-09-01T00:08:45.888823",
     "status": "completed"
    },
    "tags": []
   },
   "outputs": [
    {
     "data": {
      "image/png": "[encoded data removed]",
      "text/plain": [
       "<Figure size 720x648 with 1 Axes>"
      ]
     },
     "metadata": {
      "needs_background": "light"
     },
     "output_type": "display_data"
    }
   ],
   "source": [
    "plt.figure(figsize=(10,9))\n",
    "plt.scatter(plot_testing[:,0], plot_testing[:,1], alpha = 0.1, c = y_test.ravel())\n",
    "contours = plt.contour(x_grid,y_grid,probability_contour)\n",
    "plt.title('Probability Contours')\n",
    "plt.clabel(contours, inline = True );"
   ]
  }
 ],
 "metadata": {
  "kernelspec": {
   "display_name": "Python 3",
   "language": "python",
   "name": "python3"
  },
  "language_info": {
   "codemirror_mode": {
    "name": "ipython",
    "version": 3
   },
   "file_extension": ".py",
   "mimetype": "text/x-python",
   "name": "python",
   "nbconvert_exporter": "python",
   "pygments_lexer": "ipython3",
   "version": "3.6.11"
  },
  "papermill": {
   "duration": 156.426977,
   "end_time": "2020-09-01T00:08:47.598608",
   "environment_variables": {},
   "exception": null,
   "input_path": "2020-08-11-NeuralNetwork.ipynb",
   "output_path": "2020-08-11-NeuralNetwork.ipynb",
   "parameters": {},
   "start_time": "2020-09-01T00:06:11.171631",
   "version": "2.1.2"
  }
 },
 "nbformat": 4,
 "nbformat_minor": 4
}