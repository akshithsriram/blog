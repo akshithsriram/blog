{
 "cells": [
  {
   "cell_type": "markdown",
   "metadata": {
    "papermill": {
     "duration": 0.032109,
     "end_time": "2020-11-24T20:04:01.125048",
     "exception": false,
     "start_time": "2020-11-24T20:04:01.092939",
     "status": "completed"
    },
    "tags": []
   },
   "source": [
    "# \"A Basic Neural Network: Differentiate Hand-Written Digits\"\n",
    "\n",
    "- badges: true\n",
    "- author: Akshith Sriram"
   ]
  },
  {
   "cell_type": "markdown",
   "metadata": {
    "papermill": {
     "duration": 0.02613,
     "end_time": "2020-11-24T20:04:01.178062",
     "exception": false,
     "start_time": "2020-11-24T20:04:01.151932",
     "status": "completed"
    },
    "tags": []
   },
   "source": [
    "### Key Objectives:\n",
    "- Building a neural network that differentiates two hand-written digits 3 and 8.\n",
    "- Comparing the results of this Neural Network (NN) to that of a Logistic Regression (LR) model.\n",
    "\n",
    "### Requirements:\n",
    "- 'Kudzu' : A neural network library that was designed during our course by [Univ.AI](www.univ.ai). \n",
    "- MNIST Database\n",
    "\n",
    "If MNIST is not installed, use the command `!pip install mnist` given below.\n",
    "It can be run both from the command line and Jupyter Notebook."
   ]
  },
  {
   "cell_type": "code",
   "execution_count": 1,
   "metadata": {
    "execution": {
     "iopub.execute_input": "2020-11-24T20:04:01.237020Z",
     "iopub.status.busy": "2020-11-24T20:04:01.236103Z",
     "iopub.status.idle": "2020-11-24T20:04:02.887533Z",
     "shell.execute_reply": "2020-11-24T20:04:02.886525Z"
    },
    "papermill": {
     "duration": 1.683495,
     "end_time": "2020-11-24T20:04:02.887712",
     "exception": false,
     "start_time": "2020-11-24T20:04:01.204217",
     "status": "completed"
    },
    "tags": []
   },
   "outputs": [
    {
     "name": "stdout",
     "output_type": "stream",
     "text": [
      "Collecting mnist\r\n"
     ]
    },
    {
     "name": "stdout",
     "output_type": "stream",
     "text": [
      "  Downloading mnist-0.2.2-py2.py3-none-any.whl (3.5 kB)\r\n"
     ]
    },
    {
     "name": "stdout",
     "output_type": "stream",
     "text": [
      "Requirement already satisfied: numpy in /opt/hostedtoolcache/Python/3.6.12/x64/lib/python3.6/site-packages (from mnist) (1.19.4)\r\n"
     ]
    },
    {
     "name": "stdout",
     "output_type": "stream",
     "text": [
      "Installing collected packages: mnist\r\n"
     ]
    },
    {
     "name": "stdout",
     "output_type": "stream",
     "text": [
      "Successfully installed mnist-0.2.2\r\n"
     ]
    }
   ],
   "source": [
    "!pip install mnist "
   ]
  },
  {
   "cell_type": "markdown",
   "metadata": {
    "papermill": {
     "duration": 0.028045,
     "end_time": "2020-11-24T20:04:02.944182",
     "exception": false,
     "start_time": "2020-11-24T20:04:02.916137",
     "status": "completed"
    },
    "tags": []
   },
   "source": [
    "#### Importing necessary libraries"
   ]
  },
  {
   "cell_type": "code",
   "execution_count": 2,
   "metadata": {
    "execution": {
     "iopub.execute_input": "2020-11-24T20:04:03.010301Z",
     "iopub.status.busy": "2020-11-24T20:04:03.009639Z",
     "iopub.status.idle": "2020-11-24T20:04:03.667528Z",
     "shell.execute_reply": "2020-11-24T20:04:03.666946Z"
    },
    "papermill": {
     "duration": 0.694596,
     "end_time": "2020-11-24T20:04:03.667693",
     "exception": false,
     "start_time": "2020-11-24T20:04:02.973097",
     "status": "completed"
    },
    "tags": []
   },
   "outputs": [],
   "source": [
    "%load_ext autoreload\n",
    "%autoreload 2\n",
    "\n",
    "%matplotlib inline\n",
    "import matplotlib.pyplot as plt\n",
    "\n",
    "import numpy as np\n",
    "import pandas as pd"
   ]
  },
  {
   "cell_type": "markdown",
   "metadata": {
    "papermill": {
     "duration": 0.027965,
     "end_time": "2020-11-24T20:04:03.727646",
     "exception": false,
     "start_time": "2020-11-24T20:04:03.699681",
     "status": "completed"
    },
    "tags": []
   },
   "source": [
    "### Preparing the Data"
   ]
  },
  {
   "cell_type": "code",
   "execution_count": 3,
   "metadata": {
    "execution": {
     "iopub.execute_input": "2020-11-24T20:04:03.787048Z",
     "iopub.status.busy": "2020-11-24T20:04:03.786347Z",
     "iopub.status.idle": "2020-11-24T20:04:03.799935Z",
     "shell.execute_reply": "2020-11-24T20:04:03.800483Z"
    },
    "papermill": {
     "duration": 0.04558,
     "end_time": "2020-11-24T20:04:03.800649",
     "exception": false,
     "start_time": "2020-11-24T20:04:03.755069",
     "status": "completed"
    },
    "tags": []
   },
   "outputs": [],
   "source": [
    "import mnist"
   ]
  },
  {
   "cell_type": "code",
   "execution_count": 4,
   "metadata": {
    "execution": {
     "iopub.execute_input": "2020-11-24T20:04:03.871435Z",
     "iopub.status.busy": "2020-11-24T20:04:03.870707Z",
     "iopub.status.idle": "2020-11-24T20:04:04.660764Z",
     "shell.execute_reply": "2020-11-24T20:04:04.660203Z"
    },
    "papermill": {
     "duration": 0.831162,
     "end_time": "2020-11-24T20:04:04.660909",
     "exception": false,
     "start_time": "2020-11-24T20:04:03.829747",
     "status": "completed"
    },
    "tags": []
   },
   "outputs": [],
   "source": [
    "train_images = mnist.train_images()\n",
    "train_labels = mnist.train_labels()"
   ]
  },
  {
   "cell_type": "code",
   "execution_count": 5,
   "metadata": {
    "execution": {
     "iopub.execute_input": "2020-11-24T20:04:04.727539Z",
     "iopub.status.busy": "2020-11-24T20:04:04.725761Z",
     "iopub.status.idle": "2020-11-24T20:04:04.743322Z",
     "shell.execute_reply": "2020-11-24T20:04:04.742759Z"
    },
    "papermill": {
     "duration": 0.049807,
     "end_time": "2020-11-24T20:04:04.743467",
     "exception": false,
     "start_time": "2020-11-24T20:04:04.693660",
     "status": "completed"
    },
    "tags": []
   },
   "outputs": [
    {
     "data": {
      "text/plain": [
       "((60000, 28, 28), (60000,))"
      ]
     },
     "execution_count": 5,
     "metadata": {},
     "output_type": "execute_result"
    }
   ],
   "source": [
    "train_images.shape, train_labels.shape"
   ]
  },
  {
   "cell_type": "code",
   "execution_count": 6,
   "metadata": {
    "execution": {
     "iopub.execute_input": "2020-11-24T20:04:04.806075Z",
     "iopub.status.busy": "2020-11-24T20:04:04.805216Z",
     "iopub.status.idle": "2020-11-24T20:04:05.082645Z",
     "shell.execute_reply": "2020-11-24T20:04:05.082024Z"
    },
    "papermill": {
     "duration": 0.311365,
     "end_time": "2020-11-24T20:04:05.082835",
     "exception": false,
     "start_time": "2020-11-24T20:04:04.771470",
     "status": "completed"
    },
    "tags": []
   },
   "outputs": [],
   "source": [
    "test_images = mnist.test_images()\n",
    "test_labels = mnist.test_labels()"
   ]
  },
  {
   "cell_type": "code",
   "execution_count": 7,
   "metadata": {
    "execution": {
     "iopub.execute_input": "2020-11-24T20:04:05.160536Z",
     "iopub.status.busy": "2020-11-24T20:04:05.159898Z",
     "iopub.status.idle": "2020-11-24T20:04:05.174871Z",
     "shell.execute_reply": "2020-11-24T20:04:05.174139Z"
    },
    "papermill": {
     "duration": 0.060156,
     "end_time": "2020-11-24T20:04:05.175028",
     "exception": false,
     "start_time": "2020-11-24T20:04:05.114872",
     "status": "completed"
    },
    "tags": []
   },
   "outputs": [
    {
     "data": {
      "text/plain": [
       "((10000, 28, 28), (10000,))"
      ]
     },
     "execution_count": 7,
     "metadata": {},
     "output_type": "execute_result"
    }
   ],
   "source": [
    "test_images.shape, test_labels.shape"
   ]
  },
  {
   "cell_type": "code",
   "execution_count": 8,
   "metadata": {
    "execution": {
     "iopub.execute_input": "2020-11-24T20:04:05.237654Z",
     "iopub.status.busy": "2020-11-24T20:04:05.236972Z",
     "iopub.status.idle": "2020-11-24T20:04:05.411030Z",
     "shell.execute_reply": "2020-11-24T20:04:05.409951Z"
    },
    "papermill": {
     "duration": 0.20767,
     "end_time": "2020-11-24T20:04:05.411196",
     "exception": false,
     "start_time": "2020-11-24T20:04:05.203526",
     "status": "completed"
    },
    "tags": []
   },
   "outputs": [
    {
     "name": "stdout",
     "output_type": "stream",
     "text": [
      "2\n"
     ]
    },
    {
     "data": {
      "text/plain": [
       "<matplotlib.image.AxesImage at 0x7f2618132a90>"
      ]
     },
     "execution_count": 8,
     "metadata": {},
     "output_type": "execute_result"
    },
    {
     "data": {
      "image/png": "[encoded data removed]",
      "text/plain": [
       "<Figure size 432x288 with 1 Axes>"
      ]
     },
     "metadata": {
      "needs_background": "light"
     },
     "output_type": "display_data"
    }
   ],
   "source": [
    "image_index = 7776 # You may select anything up to 60,000\n",
    "print(train_labels[image_index]) \n",
    "plt.imshow(train_images[image_index], cmap='Greys')"
   ]
  },
  {
   "cell_type": "markdown",
   "metadata": {
    "papermill": {
     "duration": 0.032716,
     "end_time": "2020-11-24T20:04:05.474581",
     "exception": false,
     "start_time": "2020-11-24T20:04:05.441865",
     "status": "completed"
    },
    "tags": []
   },
   "source": [
    "## Filter data to get 3 and 8 out"
   ]
  },
  {
   "cell_type": "code",
   "execution_count": 9,
   "metadata": {
    "execution": {
     "iopub.execute_input": "2020-11-24T20:04:05.540863Z",
     "iopub.status.busy": "2020-11-24T20:04:05.539718Z",
     "iopub.status.idle": "2020-11-24T20:04:05.562169Z",
     "shell.execute_reply": "2020-11-24T20:04:05.561235Z"
    },
    "papermill": {
     "duration": 0.057429,
     "end_time": "2020-11-24T20:04:05.562335",
     "exception": false,
     "start_time": "2020-11-24T20:04:05.504906",
     "status": "completed"
    },
    "tags": []
   },
   "outputs": [],
   "source": [
    "train_filter = np.where((train_labels == 3 ) | (train_labels == 8))\n",
    "test_filter = np.where((test_labels == 3) | (test_labels == 8))\n",
    "X_train, y_train = train_images[train_filter], train_labels[train_filter]\n",
    "X_test, y_test = test_images[test_filter], test_labels[test_filter]"
   ]
  },
  {
   "cell_type": "markdown",
   "metadata": {
    "papermill": {
     "duration": 0.031496,
     "end_time": "2020-11-24T20:04:05.624819",
     "exception": false,
     "start_time": "2020-11-24T20:04:05.593323",
     "status": "completed"
    },
    "tags": []
   },
   "source": [
    "We normalize the pixel values in the 0 to 1 range"
   ]
  },
  {
   "cell_type": "code",
   "execution_count": 10,
   "metadata": {
    "execution": {
     "iopub.execute_input": "2020-11-24T20:04:05.700139Z",
     "iopub.status.busy": "2020-11-24T20:04:05.692837Z",
     "iopub.status.idle": "2020-11-24T20:04:05.747016Z",
     "shell.execute_reply": "2020-11-24T20:04:05.746399Z"
    },
    "papermill": {
     "duration": 0.092074,
     "end_time": "2020-11-24T20:04:05.747163",
     "exception": false,
     "start_time": "2020-11-24T20:04:05.655089",
     "status": "completed"
    },
    "tags": []
   },
   "outputs": [],
   "source": [
    "X_train = X_train/255.\n",
    "X_test = X_test/255."
   ]
  },
  {
   "cell_type": "markdown",
   "metadata": {
    "papermill": {
     "duration": 0.030652,
     "end_time": "2020-11-24T20:04:05.807615",
     "exception": false,
     "start_time": "2020-11-24T20:04:05.776963",
     "status": "completed"
    },
    "tags": []
   },
   "source": [
    "Setup the labels as 1 (when the digit is 3) and 0 (when the digit is 8)"
   ]
  },
  {
   "cell_type": "code",
   "execution_count": 11,
   "metadata": {
    "execution": {
     "iopub.execute_input": "2020-11-24T20:04:05.876781Z",
     "iopub.status.busy": "2020-11-24T20:04:05.876046Z",
     "iopub.status.idle": "2020-11-24T20:04:05.890429Z",
     "shell.execute_reply": "2020-11-24T20:04:05.889835Z"
    },
    "papermill": {
     "duration": 0.052693,
     "end_time": "2020-11-24T20:04:05.890576",
     "exception": false,
     "start_time": "2020-11-24T20:04:05.837883",
     "status": "completed"
    },
    "tags": []
   },
   "outputs": [],
   "source": [
    "y_train = 1*(y_train==3)\n",
    "y_test = 1*(y_test==3)"
   ]
  },
  {
   "cell_type": "code",
   "execution_count": 12,
   "metadata": {
    "execution": {
     "iopub.execute_input": "2020-11-24T20:04:05.966002Z",
     "iopub.status.busy": "2020-11-24T20:04:05.965353Z",
     "iopub.status.idle": "2020-11-24T20:04:05.981043Z",
     "shell.execute_reply": "2020-11-24T20:04:05.980261Z"
    },
    "papermill": {
     "duration": 0.057722,
     "end_time": "2020-11-24T20:04:05.981195",
     "exception": false,
     "start_time": "2020-11-24T20:04:05.923473",
     "status": "completed"
    },
    "tags": []
   },
   "outputs": [
    {
     "data": {
      "text/plain": [
       "((11982, 28, 28), (1984, 28, 28))"
      ]
     },
     "execution_count": 12,
     "metadata": {},
     "output_type": "execute_result"
    }
   ],
   "source": [
    "X_train.shape, X_test.shape"
   ]
  },
  {
   "cell_type": "markdown",
   "metadata": {
    "papermill": {
     "duration": 0.031117,
     "end_time": "2020-11-24T20:04:06.045262",
     "exception": false,
     "start_time": "2020-11-24T20:04:06.014145",
     "status": "completed"
    },
    "tags": []
   },
   "source": [
    "### Reshape the input data to create a linear array"
   ]
  },
  {
   "cell_type": "code",
   "execution_count": 13,
   "metadata": {
    "execution": {
     "iopub.execute_input": "2020-11-24T20:04:06.112507Z",
     "iopub.status.busy": "2020-11-24T20:04:06.111759Z",
     "iopub.status.idle": "2020-11-24T20:04:06.127533Z",
     "shell.execute_reply": "2020-11-24T20:04:06.126997Z"
    },
    "papermill": {
     "duration": 0.051322,
     "end_time": "2020-11-24T20:04:06.127681",
     "exception": false,
     "start_time": "2020-11-24T20:04:06.076359",
     "status": "completed"
    },
    "tags": []
   },
   "outputs": [
    {
     "data": {
      "text/plain": [
       "((11982, 784), (1984, 784))"
      ]
     },
     "execution_count": 13,
     "metadata": {},
     "output_type": "execute_result"
    }
   ],
   "source": [
    "X_train = X_train.reshape(X_train.shape[0], -1)\n",
    "X_test = X_test.reshape(X_test.shape[0], -1)\n",
    "X_train.shape, X_test.shape"
   ]
  },
  {
   "cell_type": "markdown",
   "metadata": {
    "papermill": {
     "duration": 0.030559,
     "end_time": "2020-11-24T20:04:06.188315",
     "exception": false,
     "start_time": "2020-11-24T20:04:06.157756",
     "status": "completed"
    },
    "tags": []
   },
   "source": [
    "### Importing appropriate functions from 'Kudzu'"
   ]
  },
  {
   "cell_type": "code",
   "execution_count": 14,
   "metadata": {
    "execution": {
     "iopub.execute_input": "2020-11-24T20:04:06.257373Z",
     "iopub.status.busy": "2020-11-24T20:04:06.256714Z",
     "iopub.status.idle": "2020-11-24T20:04:06.281236Z",
     "shell.execute_reply": "2020-11-24T20:04:06.281715Z"
    },
    "papermill": {
     "duration": 0.062,
     "end_time": "2020-11-24T20:04:06.281903",
     "exception": false,
     "start_time": "2020-11-24T20:04:06.219903",
     "status": "completed"
    },
    "tags": []
   },
   "outputs": [],
   "source": [
    "from kudzu.layer import Sigmoid\n",
    "from kudzu.layer import Relu\n",
    "from kudzu.layer import Affine, Sigmoid\n",
    "\n",
    "from kudzu.model import Model\n",
    "from kudzu.train import Learner\n",
    "from kudzu.optim import GD\n",
    "from kudzu.data import Data, Dataloader, Sampler\n",
    "\n",
    "from kudzu.callbacks import AccCallback\n",
    "from kudzu.callbacks import ClfCallback\n",
    "\n",
    "from kudzu.loss import MSE"
   ]
  },
  {
   "cell_type": "markdown",
   "metadata": {
    "papermill": {
     "duration": 0.039557,
     "end_time": "2020-11-24T20:04:06.353513",
     "exception": false,
     "start_time": "2020-11-24T20:04:06.313956",
     "status": "completed"
    },
    "tags": []
   },
   "source": [
    "### Let us create a `Config` class, to store important parameters. \n",
    "This class essentially plays the role of a dictionary."
   ]
  },
  {
   "cell_type": "code",
   "execution_count": 15,
   "metadata": {
    "execution": {
     "iopub.execute_input": "2020-11-24T20:04:06.422916Z",
     "iopub.status.busy": "2020-11-24T20:04:06.422102Z",
     "iopub.status.idle": "2020-11-24T20:04:06.437784Z",
     "shell.execute_reply": "2020-11-24T20:04:06.437246Z"
    },
    "papermill": {
     "duration": 0.052966,
     "end_time": "2020-11-24T20:04:06.437931",
     "exception": false,
     "start_time": "2020-11-24T20:04:06.384965",
     "status": "completed"
    },
    "tags": []
   },
   "outputs": [],
   "source": [
    "class Config:\n",
    "    pass\n",
    "config = Config()\n",
    "config.lr = 0.001\n",
    "config.num_epochs = 251\n",
    "config.bs = 50"
   ]
  },
  {
   "cell_type": "markdown",
   "metadata": {
    "papermill": {
     "duration": 0.031378,
     "end_time": "2020-11-24T20:04:06.500525",
     "exception": false,
     "start_time": "2020-11-24T20:04:06.469147",
     "status": "completed"
    },
    "tags": []
   },
   "source": [
    "### Initializing data to the variables"
   ]
  },
  {
   "cell_type": "code",
   "execution_count": 16,
   "metadata": {
    "execution": {
     "iopub.execute_input": "2020-11-24T20:04:06.569650Z",
     "iopub.status.busy": "2020-11-24T20:04:06.568968Z",
     "iopub.status.idle": "2020-11-24T20:04:06.584577Z",
     "shell.execute_reply": "2020-11-24T20:04:06.583541Z"
    },
    "papermill": {
     "duration": 0.050173,
     "end_time": "2020-11-24T20:04:06.584785",
     "exception": false,
     "start_time": "2020-11-24T20:04:06.534612",
     "status": "completed"
    },
    "tags": []
   },
   "outputs": [],
   "source": [
    "data = Data(X_train, y_train.reshape(-1,1))\n",
    "sampler = Sampler(data, config.bs, shuffle=True)\n",
    "\n",
    "dl = Dataloader(data, sampler)\n",
    "\n",
    "opt = GD(config.lr)\n",
    "loss = MSE()"
   ]
  },
  {
   "cell_type": "code",
   "execution_count": 17,
   "metadata": {
    "execution": {
     "iopub.execute_input": "2020-11-24T20:04:06.658593Z",
     "iopub.status.busy": "2020-11-24T20:04:06.657723Z",
     "iopub.status.idle": "2020-11-24T20:04:06.674611Z",
     "shell.execute_reply": "2020-11-24T20:04:06.675223Z"
    },
    "papermill": {
     "duration": 0.054062,
     "end_time": "2020-11-24T20:04:06.675397",
     "exception": false,
     "start_time": "2020-11-24T20:04:06.621335",
     "status": "completed"
    },
    "tags": []
   },
   "outputs": [],
   "source": [
    "training_xdata = X_train\n",
    "testing_xdata = X_test\n",
    "training_ydata = y_train.reshape(-1,1)\n",
    "testing_ydata = y_test.reshape(-1,1)"
   ]
  },
  {
   "cell_type": "markdown",
   "metadata": {
    "papermill": {
     "duration": 0.02999,
     "end_time": "2020-11-24T20:04:06.736202",
     "exception": false,
     "start_time": "2020-11-24T20:04:06.706212",
     "status": "completed"
    },
    "tags": []
   },
   "source": [
    "### Running Models with the Training data\n",
    "Details about the network layers:\n",
    "- A first affine layer has 784 inputs and does 100 affine transforms. These are followed by a Relu\n",
    "- A second affine layer has 100 inputs from the 100 activations of the past layer, and does 100 affine transforms. These are followed by a Relu\n",
    "- A third affine layer has 100 activations and does 2 affine transformations to create an embedding for visualization. There is no non-linearity here.\n",
    "- A final \"logistic regression\" which has an affine transform from 2 inputs to 1 output, which is squeezed through a sigmoid.\n",
    "\n",
    "Help taken from Anshuman's Notebook."
   ]
  },
  {
   "cell_type": "code",
   "execution_count": 18,
   "metadata": {
    "execution": {
     "iopub.execute_input": "2020-11-24T20:04:06.803735Z",
     "iopub.status.busy": "2020-11-24T20:04:06.802855Z",
     "iopub.status.idle": "2020-11-24T20:04:06.823271Z",
     "shell.execute_reply": "2020-11-24T20:04:06.822690Z"
    },
    "papermill": {
     "duration": 0.056475,
     "end_time": "2020-11-24T20:04:06.823423",
     "exception": false,
     "start_time": "2020-11-24T20:04:06.766948",
     "status": "completed"
    },
    "tags": []
   },
   "outputs": [],
   "source": [
    "# layers for the Neural Network\n",
    "layers = [Affine(\"first\", 784, 100), Relu(\"first\"), Affine(\"second\", 100, 100), Relu(\"second\"), Affine(\"third\", 100, 2), Affine(\"final\", 2, 1), Sigmoid(\"final\")]\n",
    "model_nn = Model(layers)\n",
    "\n",
    "# layers for the Logistic Regression\n",
    "layers_lr = [Affine(\"logits\", 784, 1), Sigmoid(\"sigmoid\")]\n",
    "model_lr = Model(layers_lr)"
   ]
  },
  {
   "cell_type": "code",
   "execution_count": 19,
   "metadata": {
    "execution": {
     "iopub.execute_input": "2020-11-24T20:04:06.889213Z",
     "iopub.status.busy": "2020-11-24T20:04:06.888583Z",
     "iopub.status.idle": "2020-11-24T20:04:06.904324Z",
     "shell.execute_reply": "2020-11-24T20:04:06.903788Z"
    },
    "papermill": {
     "duration": 0.050376,
     "end_time": "2020-11-24T20:04:06.904476",
     "exception": false,
     "start_time": "2020-11-24T20:04:06.854100",
     "status": "completed"
    },
    "tags": []
   },
   "outputs": [],
   "source": [
    "# suffix _nn stands for Neural Network.\n",
    "learner_nn = Learner(loss, model_nn, opt, config.num_epochs)\n",
    "acc_nn = ClfCallback(learner_nn, config.bs, training_xdata , testing_xdata, training_ydata, testing_ydata)\n",
    "learner_nn.set_callbacks([acc_nn])"
   ]
  },
  {
   "cell_type": "code",
   "execution_count": 20,
   "metadata": {
    "execution": {
     "iopub.execute_input": "2020-11-24T20:04:06.975309Z",
     "iopub.status.busy": "2020-11-24T20:04:06.974118Z",
     "iopub.status.idle": "2020-11-24T20:05:48.789807Z",
     "shell.execute_reply": "2020-11-24T20:05:48.790375Z"
    },
    "papermill": {
     "duration": 101.8549,
     "end_time": "2020-11-24T20:05:48.790537",
     "exception": false,
     "start_time": "2020-11-24T20:04:06.935637",
     "status": "completed"
    },
    "tags": []
   },
   "outputs": [
    {
     "name": "stdout",
     "output_type": "stream",
     "text": [
      "====== Neural Network ======\n"
     ]
    },
    {
     "name": "stdout",
     "output_type": "stream",
     "text": [
      "Epoch 0, Loss 0.249\n",
      "Training Accuracy: 0.5606, Testing Accuracy: 0.5519\n",
      "\n"
     ]
    },
    {
     "name": "stdout",
     "output_type": "stream",
     "text": [
      "Epoch 10, Loss 0.233\n",
      "Training Accuracy: 0.8216, Testing Accuracy: 0.8473\n",
      "\n"
     ]
    },
    {
     "name": "stdout",
     "output_type": "stream",
     "text": [
      "Epoch 20, Loss 0.1647\n",
      "Training Accuracy: 0.8958, Testing Accuracy: 0.9073\n",
      "\n"
     ]
    },
    {
     "name": "stdout",
     "output_type": "stream",
     "text": [
      "Epoch 30, Loss 0.0812\n",
      "Training Accuracy: 0.9260, Testing Accuracy: 0.9315\n",
      "\n"
     ]
    },
    {
     "name": "stdout",
     "output_type": "stream",
     "text": [
      "Epoch 40, Loss 0.0548\n",
      "Training Accuracy: 0.9435, Testing Accuracy: 0.9471\n",
      "\n"
     ]
    },
    {
     "name": "stdout",
     "output_type": "stream",
     "text": [
      "Epoch 50, Loss 0.044\n",
      "Training Accuracy: 0.9528, Testing Accuracy: 0.9612\n",
      "\n"
     ]
    },
    {
     "name": "stdout",
     "output_type": "stream",
     "text": [
      "Epoch 60, Loss 0.0384\n",
      "Training Accuracy: 0.9574, Testing Accuracy: 0.9662\n",
      "\n"
     ]
    },
    {
     "name": "stdout",
     "output_type": "stream",
     "text": [
      "Epoch 70, Loss 0.035\n",
      "Training Accuracy: 0.9604, Testing Accuracy: 0.9677\n",
      "\n"
     ]
    },
    {
     "name": "stdout",
     "output_type": "stream",
     "text": [
      "Epoch 80, Loss 0.0326\n",
      "Training Accuracy: 0.9621, Testing Accuracy: 0.9693\n",
      "\n"
     ]
    },
    {
     "name": "stdout",
     "output_type": "stream",
     "text": [
      "Epoch 90, Loss 0.0309\n",
      "Training Accuracy: 0.9652, Testing Accuracy: 0.9708\n",
      "\n"
     ]
    },
    {
     "name": "stdout",
     "output_type": "stream",
     "text": [
      "Epoch 100, Loss 0.0295\n",
      "Training Accuracy: 0.9662, Testing Accuracy: 0.9723\n",
      "\n"
     ]
    },
    {
     "name": "stdout",
     "output_type": "stream",
     "text": [
      "Epoch 110, Loss 0.0283\n",
      "Training Accuracy: 0.9678, Testing Accuracy: 0.9733\n",
      "\n"
     ]
    },
    {
     "name": "stdout",
     "output_type": "stream",
     "text": [
      "Epoch 120, Loss 0.0274\n",
      "Training Accuracy: 0.9692, Testing Accuracy: 0.9743\n",
      "\n"
     ]
    },
    {
     "name": "stdout",
     "output_type": "stream",
     "text": [
      "Epoch 130, Loss 0.0265\n",
      "Training Accuracy: 0.9703, Testing Accuracy: 0.9743\n",
      "\n"
     ]
    },
    {
     "name": "stdout",
     "output_type": "stream",
     "text": [
      "Epoch 140, Loss 0.0258\n",
      "Training Accuracy: 0.9708, Testing Accuracy: 0.9748\n",
      "\n"
     ]
    },
    {
     "name": "stdout",
     "output_type": "stream",
     "text": [
      "Epoch 150, Loss 0.0251\n",
      "Training Accuracy: 0.9717, Testing Accuracy: 0.9753\n",
      "\n"
     ]
    },
    {
     "name": "stdout",
     "output_type": "stream",
     "text": [
      "Epoch 160, Loss 0.0245\n",
      "Training Accuracy: 0.9720, Testing Accuracy: 0.9748\n",
      "\n"
     ]
    },
    {
     "name": "stdout",
     "output_type": "stream",
     "text": [
      "Epoch 170, Loss 0.024\n",
      "Training Accuracy: 0.9729, Testing Accuracy: 0.9738\n",
      "\n"
     ]
    },
    {
     "name": "stdout",
     "output_type": "stream",
     "text": [
      "Epoch 180, Loss 0.0235\n",
      "Training Accuracy: 0.9735, Testing Accuracy: 0.9748\n",
      "\n"
     ]
    },
    {
     "name": "stdout",
     "output_type": "stream",
     "text": [
      "Epoch 190, Loss 0.023\n",
      "Training Accuracy: 0.9739, Testing Accuracy: 0.9753\n",
      "\n"
     ]
    },
    {
     "name": "stdout",
     "output_type": "stream",
     "text": [
      "Epoch 200, Loss 0.0226\n",
      "Training Accuracy: 0.9745, Testing Accuracy: 0.9753\n",
      "\n"
     ]
    },
    {
     "name": "stdout",
     "output_type": "stream",
     "text": [
      "Epoch 210, Loss 0.0222\n",
      "Training Accuracy: 0.9752, Testing Accuracy: 0.9748\n",
      "\n"
     ]
    },
    {
     "name": "stdout",
     "output_type": "stream",
     "text": [
      "Epoch 220, Loss 0.0218\n",
      "Training Accuracy: 0.9760, Testing Accuracy: 0.9758\n",
      "\n"
     ]
    },
    {
     "name": "stdout",
     "output_type": "stream",
     "text": [
      "Epoch 230, Loss 0.0214\n",
      "Training Accuracy: 0.9761, Testing Accuracy: 0.9758\n",
      "\n"
     ]
    },
    {
     "name": "stdout",
     "output_type": "stream",
     "text": [
      "Epoch 240, Loss 0.0211\n",
      "Training Accuracy: 0.9767, Testing Accuracy: 0.9758\n",
      "\n"
     ]
    },
    {
     "name": "stdout",
     "output_type": "stream",
     "text": [
      "Epoch 250, Loss 0.0208\n",
      "Training Accuracy: 0.9775, Testing Accuracy: 0.9763\n",
      "\n"
     ]
    },
    {
     "data": {
      "text/plain": [
       "0.024911054996792907"
      ]
     },
     "execution_count": 20,
     "metadata": {},
     "output_type": "execute_result"
    }
   ],
   "source": [
    "print(\"====== Neural Network ======\")\n",
    "learner_nn.train_loop(dl)"
   ]
  },
  {
   "cell_type": "markdown",
   "metadata": {
    "papermill": {
     "duration": 0.037354,
     "end_time": "2020-11-24T20:05:48.866272",
     "exception": false,
     "start_time": "2020-11-24T20:05:48.828918",
     "status": "completed"
    },
    "tags": []
   },
   "source": [
    "### Logistic Regression based Implementation."
   ]
  },
  {
   "cell_type": "code",
   "execution_count": 21,
   "metadata": {
    "execution": {
     "iopub.execute_input": "2020-11-24T20:05:48.948154Z",
     "iopub.status.busy": "2020-11-24T20:05:48.947534Z",
     "iopub.status.idle": "2020-11-24T20:05:48.958659Z",
     "shell.execute_reply": "2020-11-24T20:05:48.959194Z"
    },
    "papermill": {
     "duration": 0.055578,
     "end_time": "2020-11-24T20:05:48.959365",
     "exception": false,
     "start_time": "2020-11-24T20:05:48.903787",
     "status": "completed"
    },
    "tags": []
   },
   "outputs": [],
   "source": [
    "learner_lr = Learner(loss, model_lr, opt, config.num_epochs)\n",
    "acc_lr = ClfCallback(learner_lr, config.bs, training_xdata , testing_xdata, training_ydata, testing_ydata)\n",
    "learner_lr.set_callbacks([acc_lr])"
   ]
  },
  {
   "cell_type": "code",
   "execution_count": 22,
   "metadata": {
    "execution": {
     "iopub.execute_input": "2020-11-24T20:05:49.042583Z",
     "iopub.status.busy": "2020-11-24T20:05:49.039365Z",
     "iopub.status.idle": "2020-11-24T20:06:06.787185Z",
     "shell.execute_reply": "2020-11-24T20:06:06.787990Z"
    },
    "papermill": {
     "duration": 17.791242,
     "end_time": "2020-11-24T20:06:06.788151",
     "exception": false,
     "start_time": "2020-11-24T20:05:48.996909",
     "status": "completed"
    },
    "tags": []
   },
   "outputs": [
    {
     "name": "stdout",
     "output_type": "stream",
     "text": [
      "====== Logistic Regression ======\n",
      "Epoch 0, Loss 0.2448\n",
      "Training Accuracy: 0.6663, Testing Accuracy: 0.6658\n",
      "\n"
     ]
    },
    {
     "name": "stdout",
     "output_type": "stream",
     "text": [
      "Epoch 10, Loss 0.1063\n",
      "Training Accuracy: 0.9022, Testing Accuracy: 0.9108\n",
      "\n"
     ]
    },
    {
     "name": "stdout",
     "output_type": "stream",
     "text": [
      "Epoch 20, Loss 0.081\n",
      "Training Accuracy: 0.9243, Testing Accuracy: 0.9375\n",
      "\n"
     ]
    },
    {
     "name": "stdout",
     "output_type": "stream",
     "text": [
      "Epoch 30, Loss 0.0693\n",
      "Training Accuracy: 0.9358, Testing Accuracy: 0.9516\n",
      "\n"
     ]
    },
    {
     "name": "stdout",
     "output_type": "stream",
     "text": [
      "Epoch 40, Loss 0.0623\n",
      "Training Accuracy: 0.9400, Testing Accuracy: 0.9531\n",
      "\n"
     ]
    },
    {
     "name": "stdout",
     "output_type": "stream",
     "text": [
      "Epoch 50, Loss 0.0576\n",
      "Training Accuracy: 0.9447, Testing Accuracy: 0.9561\n",
      "\n"
     ]
    },
    {
     "name": "stdout",
     "output_type": "stream",
     "text": [
      "Epoch 60, Loss 0.0542\n",
      "Training Accuracy: 0.9469, Testing Accuracy: 0.9572\n",
      "\n"
     ]
    },
    {
     "name": "stdout",
     "output_type": "stream",
     "text": [
      "Epoch 70, Loss 0.0515\n",
      "Training Accuracy: 0.9486, Testing Accuracy: 0.9582\n",
      "\n"
     ]
    },
    {
     "name": "stdout",
     "output_type": "stream",
     "text": [
      "Epoch 80, Loss 0.0494\n",
      "Training Accuracy: 0.9509, Testing Accuracy: 0.9587\n",
      "\n"
     ]
    },
    {
     "name": "stdout",
     "output_type": "stream",
     "text": [
      "Epoch 90, Loss 0.0477\n",
      "Training Accuracy: 0.9528, Testing Accuracy: 0.9592\n",
      "\n"
     ]
    },
    {
     "name": "stdout",
     "output_type": "stream",
     "text": [
      "Epoch 100, Loss 0.0462\n",
      "Training Accuracy: 0.9531, Testing Accuracy: 0.9607\n",
      "\n"
     ]
    },
    {
     "name": "stdout",
     "output_type": "stream",
     "text": [
      "Epoch 110, Loss 0.045\n",
      "Training Accuracy: 0.9533, Testing Accuracy: 0.9617\n",
      "\n"
     ]
    },
    {
     "name": "stdout",
     "output_type": "stream",
     "text": [
      "Epoch 120, Loss 0.0439\n",
      "Training Accuracy: 0.9544, Testing Accuracy: 0.9637\n",
      "\n"
     ]
    },
    {
     "name": "stdout",
     "output_type": "stream",
     "text": [
      "Epoch 130, Loss 0.043\n",
      "Training Accuracy: 0.9554, Testing Accuracy: 0.9637\n",
      "\n"
     ]
    },
    {
     "name": "stdout",
     "output_type": "stream",
     "text": [
      "Epoch 140, Loss 0.0421\n",
      "Training Accuracy: 0.9562, Testing Accuracy: 0.9637\n",
      "\n"
     ]
    },
    {
     "name": "stdout",
     "output_type": "stream",
     "text": [
      "Epoch 150, Loss 0.0414\n",
      "Training Accuracy: 0.9570, Testing Accuracy: 0.9642\n",
      "\n"
     ]
    },
    {
     "name": "stdout",
     "output_type": "stream",
     "text": [
      "Epoch 160, Loss 0.0407\n",
      "Training Accuracy: 0.9576, Testing Accuracy: 0.9647\n",
      "\n"
     ]
    },
    {
     "name": "stdout",
     "output_type": "stream",
     "text": [
      "Epoch 170, Loss 0.0401\n",
      "Training Accuracy: 0.9580, Testing Accuracy: 0.9667\n",
      "\n"
     ]
    },
    {
     "name": "stdout",
     "output_type": "stream",
     "text": [
      "Epoch 180, Loss 0.0395\n",
      "Training Accuracy: 0.9584, Testing Accuracy: 0.9672\n",
      "\n"
     ]
    },
    {
     "name": "stdout",
     "output_type": "stream",
     "text": [
      "Epoch 190, Loss 0.039\n",
      "Training Accuracy: 0.9589, Testing Accuracy: 0.9682\n",
      "\n"
     ]
    },
    {
     "name": "stdout",
     "output_type": "stream",
     "text": [
      "Epoch 200, Loss 0.0385\n",
      "Training Accuracy: 0.9594, Testing Accuracy: 0.9682\n",
      "\n"
     ]
    },
    {
     "name": "stdout",
     "output_type": "stream",
     "text": [
      "Epoch 210, Loss 0.038\n",
      "Training Accuracy: 0.9599, Testing Accuracy: 0.9682\n",
      "\n"
     ]
    },
    {
     "name": "stdout",
     "output_type": "stream",
     "text": [
      "Epoch 220, Loss 0.0376\n",
      "Training Accuracy: 0.9609, Testing Accuracy: 0.9688\n",
      "\n"
     ]
    },
    {
     "name": "stdout",
     "output_type": "stream",
     "text": [
      "Epoch 230, Loss 0.0372\n",
      "Training Accuracy: 0.9610, Testing Accuracy: 0.9688\n",
      "\n"
     ]
    },
    {
     "name": "stdout",
     "output_type": "stream",
     "text": [
      "Epoch 240, Loss 0.0369\n",
      "Training Accuracy: 0.9610, Testing Accuracy: 0.9688\n",
      "\n"
     ]
    },
    {
     "name": "stdout",
     "output_type": "stream",
     "text": [
      "Epoch 250, Loss 0.0365\n",
      "Training Accuracy: 0.9611, Testing Accuracy: 0.9688\n",
      "\n"
     ]
    },
    {
     "data": {
      "text/plain": [
       "0.030603752175754152"
      ]
     },
     "execution_count": 22,
     "metadata": {},
     "output_type": "execute_result"
    }
   ],
   "source": [
    "print(\"====== Logistic Regression ======\")\n",
    "learner_lr.train_loop(dl)"
   ]
  },
  {
   "cell_type": "markdown",
   "metadata": {
    "papermill": {
     "duration": 0.045184,
     "end_time": "2020-11-24T20:06:06.880541",
     "exception": false,
     "start_time": "2020-11-24T20:06:06.835357",
     "status": "completed"
    },
    "tags": []
   },
   "source": [
    "### Comparing results of NN and LR"
   ]
  },
  {
   "cell_type": "code",
   "execution_count": 23,
   "metadata": {
    "execution": {
     "iopub.execute_input": "2020-11-24T20:06:06.976772Z",
     "iopub.status.busy": "2020-11-24T20:06:06.976102Z",
     "iopub.status.idle": "2020-11-24T20:06:07.230556Z",
     "shell.execute_reply": "2020-11-24T20:06:07.230032Z"
    },
    "papermill": {
     "duration": 0.304881,
     "end_time": "2020-11-24T20:06:07.230698",
     "exception": false,
     "start_time": "2020-11-24T20:06:06.925817",
     "status": "completed"
    },
    "tags": []
   },
   "outputs": [
    {
     "data": {
      "text/plain": [
       "<matplotlib.legend.Legend at 0x7f25eafac9b0>"
      ]
     },
     "execution_count": 23,
     "metadata": {},
     "output_type": "execute_result"
    },
    {
     "data": {
      "image/png": "[encoded data removed]",
      "text/plain": [
       "<Figure size 1080x720 with 1 Axes>"
      ]
     },
     "metadata": {
      "needs_background": "light"
     },
     "output_type": "display_data"
    }
   ],
   "source": [
    "plt.figure(figsize=(15,10))\n",
    "\n",
    "# Neural Network plots\n",
    "plt.plot(acc_nn.accuracies, 'r-', label = \"Training Accuracies - NN\")\n",
    "plt.plot(acc_nn.test_accuracies, 'g-', label = \"Testing Accuracies - NN\")\n",
    "\n",
    "# Logistic Regression plots\n",
    "plt.plot(acc_lr.accuracies, 'k-', label = \"Training Accuracies - LR\")\n",
    "plt.plot(acc_lr.test_accuracies, 'b-', label = \"Testing Accuracies - LR\")\n",
    "\n",
    "plt.ylim(0.8, 1)\n",
    "\n",
    "plt.legend()\n",
    "\n"
   ]
  },
  {
   "cell_type": "markdown",
   "metadata": {
    "papermill": {
     "duration": 0.047492,
     "end_time": "2020-11-24T20:06:07.325659",
     "exception": false,
     "start_time": "2020-11-24T20:06:07.278167",
     "status": "completed"
    },
    "tags": []
   },
   "source": [
    "### From the plot, we can observe the following:\n",
    "- Neural Network achieves higher accuracy than the Logistic Regression model.\n",
    "- This apparently, is because of overfitting, i.e. NN captures more noise than data.\n",
    "- Testing accuracy of NN drops below the Training accuracy at higher epochs. This explains the over-fitting on training data.\n",
    "- Logistic Regression gives a reliable accuracy, without the above mentioned problem.\n"
   ]
  },
  {
   "cell_type": "markdown",
   "metadata": {
    "papermill": {
     "duration": 0.047593,
     "end_time": "2020-11-24T20:06:07.420818",
     "exception": false,
     "start_time": "2020-11-24T20:06:07.373225",
     "status": "completed"
    },
    "tags": []
   },
   "source": [
    "### Moving till the last but one layer (excluding it).\n",
    "#### Plotting the outputs of this layer of the NN."
   ]
  },
  {
   "cell_type": "code",
   "execution_count": 24,
   "metadata": {
    "execution": {
     "iopub.execute_input": "2020-11-24T20:06:07.523929Z",
     "iopub.status.busy": "2020-11-24T20:06:07.519110Z",
     "iopub.status.idle": "2020-11-24T20:06:07.533006Z",
     "shell.execute_reply": "2020-11-24T20:06:07.532482Z"
    },
    "papermill": {
     "duration": 0.065071,
     "end_time": "2020-11-24T20:06:07.533151",
     "exception": false,
     "start_time": "2020-11-24T20:06:07.468080",
     "status": "completed"
    },
    "tags": []
   },
   "outputs": [],
   "source": [
    "model_new = Model(layers[:-2])"
   ]
  },
  {
   "cell_type": "code",
   "execution_count": 25,
   "metadata": {
    "execution": {
     "iopub.execute_input": "2020-11-24T20:06:07.644271Z",
     "iopub.status.busy": "2020-11-24T20:06:07.643616Z",
     "iopub.status.idle": "2020-11-24T20:06:07.666165Z",
     "shell.execute_reply": "2020-11-24T20:06:07.667076Z"
    },
    "papermill": {
     "duration": 0.084548,
     "end_time": "2020-11-24T20:06:07.667250",
     "exception": false,
     "start_time": "2020-11-24T20:06:07.582702",
     "status": "completed"
    },
    "tags": []
   },
   "outputs": [],
   "source": [
    "plot_testing = model_new(testing_xdata)"
   ]
  },
  {
   "cell_type": "code",
   "execution_count": 26,
   "metadata": {
    "execution": {
     "iopub.execute_input": "2020-11-24T20:06:07.795182Z",
     "iopub.status.busy": "2020-11-24T20:06:07.794180Z",
     "iopub.status.idle": "2020-11-24T20:06:08.025804Z",
     "shell.execute_reply": "2020-11-24T20:06:08.026268Z"
    },
    "papermill": {
     "duration": 0.295268,
     "end_time": "2020-11-24T20:06:08.026432",
     "exception": false,
     "start_time": "2020-11-24T20:06:07.731164",
     "status": "completed"
    },
    "tags": []
   },
   "outputs": [
    {
     "data": {
      "text/plain": [
       "Text(0.5, 1.0, 'Outputs')"
      ]
     },
     "execution_count": 26,
     "metadata": {},
     "output_type": "execute_result"
    },
    {
     "data": {
      "image/png": "[encoded data removed]",
      "text/plain": [
       "<Figure size 576x504 with 1 Axes>"
      ]
     },
     "metadata": {
      "needs_background": "light"
     },
     "output_type": "display_data"
    }
   ],
   "source": [
    "plt.figure(figsize=(8,7))\n",
    "plt.scatter(plot_testing[:,0], plot_testing[:,1], alpha = 0.1, c = y_test.ravel());\n",
    "plt.title('Outputs')"
   ]
  },
  {
   "cell_type": "markdown",
   "metadata": {
    "papermill": {
     "duration": 0.054949,
     "end_time": "2020-11-24T20:06:08.141372",
     "exception": false,
     "start_time": "2020-11-24T20:06:08.086423",
     "status": "completed"
    },
    "tags": []
   },
   "source": [
    "### Plotting probability contours"
   ]
  },
  {
   "cell_type": "code",
   "execution_count": 27,
   "metadata": {
    "execution": {
     "iopub.execute_input": "2020-11-24T20:06:08.248290Z",
     "iopub.status.busy": "2020-11-24T20:06:08.247667Z",
     "iopub.status.idle": "2020-11-24T20:06:08.262145Z",
     "shell.execute_reply": "2020-11-24T20:06:08.261387Z"
    },
    "papermill": {
     "duration": 0.069516,
     "end_time": "2020-11-24T20:06:08.262298",
     "exception": false,
     "start_time": "2020-11-24T20:06:08.192782",
     "status": "completed"
    },
    "tags": []
   },
   "outputs": [],
   "source": [
    "model_prob = Model(layers[-2:]) "
   ]
  },
  {
   "cell_type": "code",
   "execution_count": 28,
   "metadata": {
    "execution": {
     "iopub.execute_input": "2020-11-24T20:06:08.377903Z",
     "iopub.status.busy": "2020-11-24T20:06:08.377264Z",
     "iopub.status.idle": "2020-11-24T20:06:08.392376Z",
     "shell.execute_reply": "2020-11-24T20:06:08.392848Z"
    },
    "papermill": {
     "duration": 0.072337,
     "end_time": "2020-11-24T20:06:08.393014",
     "exception": false,
     "start_time": "2020-11-24T20:06:08.320677",
     "status": "completed"
    },
    "tags": []
   },
   "outputs": [],
   "source": [
    "# Adjust the x and y ranges according to the above generated plot.\n",
    "x_range = np.linspace(-4, 1, 100) \n",
    "y_range = np.linspace(-6, 6, 100) \n",
    "x_grid, y_grid = np.meshgrid(x_range, y_range) # x_grid and y_grig are of size 100 X 100\n",
    "\n",
    "# converting x_grid and y_grid to continuous arrays\n",
    "x_grid_flat = np.ravel(x_grid)\n",
    "y_grid_flat = np.ravel(y_grid)\n",
    "\n",
    "# The last layer of the current model takes two columns as input. Hence transpose of np.vstack() is required.\n",
    "X = np.vstack((x_grid_flat, y_grid_flat)).T\n",
    "\n",
    "# x_grid and y_grid are of size 100 x 100\n",
    "probability_contour = model_prob(X).reshape(100,100) "
   ]
  },
  {
   "cell_type": "code",
   "execution_count": 29,
   "metadata": {
    "execution": {
     "iopub.execute_input": "2020-11-24T20:06:08.516780Z",
     "iopub.status.busy": "2020-11-24T20:06:08.516177Z",
     "iopub.status.idle": "2020-11-24T20:06:08.785327Z",
     "shell.execute_reply": "2020-11-24T20:06:08.784809Z"
    },
    "papermill": {
     "duration": 0.333377,
     "end_time": "2020-11-24T20:06:08.785469",
     "exception": false,
     "start_time": "2020-11-24T20:06:08.452092",
     "status": "completed"
    },
    "tags": []
   },
   "outputs": [
    {
     "data": {
      "image/png": "[encoded data removed]",
      "text/plain": [
       "<Figure size 720x648 with 1 Axes>"
      ]
     },
     "metadata": {
      "needs_background": "light"
     },
     "output_type": "display_data"
    }
   ],
   "source": [
    "plt.figure(figsize=(10,9))\n",
    "plt.scatter(plot_testing[:,0], plot_testing[:,1], alpha = 0.1, c = y_test.ravel())\n",
    "contours = plt.contour(x_grid,y_grid,probability_contour)\n",
    "plt.title('Probability Contours')\n",
    "plt.clabel(contours, inline = True );"
   ]
  }
 ],
 "metadata": {
  "kernelspec": {
   "display_name": "Python 3",
   "language": "python",
   "name": "python3"
  },
  "language_info": {
   "codemirror_mode": {
    "name": "ipython",
    "version": 3
   },
   "file_extension": ".py",
   "mimetype": "text/x-python",
   "name": "python",
   "nbconvert_exporter": "python",
   "pygments_lexer": "ipython3",
   "version": "3.6.12"
  },
  "papermill": {
   "duration": 130.414279,
   "end_time": "2020-11-24T20:06:10.337014",
   "environment_variables": {},
   "exception": null,
   "input_path": "2020-08-11-NeuralNetwork.ipynb",
   "output_path": "2020-08-11-NeuralNetwork.ipynb",
   "parameters": {},
   "start_time": "2020-11-24T20:03:59.922735",
   "version": "2.1.2"
  }
 },
 "nbformat": 4,
 "nbformat_minor": 4
}