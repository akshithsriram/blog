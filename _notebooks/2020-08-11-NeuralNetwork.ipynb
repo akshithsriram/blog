{
 "cells": [
  {
   "cell_type": "markdown",
   "metadata": {
    "papermill": {
     "duration": 0.026532,
     "end_time": "2020-12-09T10:14:20.544980",
     "exception": false,
     "start_time": "2020-12-09T10:14:20.518448",
     "status": "completed"
    },
    "tags": []
   },
   "source": [
    "# \"A Basic Neural Network: Differentiate Hand-Written Digits\"\n",
    "\n",
    "- badges: true\n",
    "- author: Akshith Sriram"
   ]
  },
  {
   "cell_type": "markdown",
   "metadata": {
    "papermill": {
     "duration": 0.022073,
     "end_time": "2020-12-09T10:14:20.591197",
     "exception": false,
     "start_time": "2020-12-09T10:14:20.569124",
     "status": "completed"
    },
    "tags": []
   },
   "source": [
    "### Key Objectives:\n",
    "- Building a neural network that differentiates two hand-written digits 3 and 8.\n",
    "- Comparing the results of this Neural Network (NN) to that of a Logistic Regression (LR) model.\n",
    "\n",
    "### Requirements:\n",
    "- 'Kudzu' : A neural network library that was designed during our course by [Univ.AI](www.univ.ai). \n",
    "- MNIST Database\n",
    "\n",
    "If MNIST is not installed, use the command `!pip install mnist` given below.\n",
    "It can be run both from the command line and Jupyter Notebook."
   ]
  },
  {
   "cell_type": "code",
   "execution_count": 1,
   "metadata": {
    "execution": {
     "iopub.execute_input": "2020-12-09T10:14:20.640302Z",
     "iopub.status.busy": "2020-12-09T10:14:20.639792Z",
     "iopub.status.idle": "2020-12-09T10:14:22.076249Z",
     "shell.execute_reply": "2020-12-09T10:14:22.076740Z"
    },
    "papermill": {
     "duration": 1.463595,
     "end_time": "2020-12-09T10:14:22.076932",
     "exception": false,
     "start_time": "2020-12-09T10:14:20.613337",
     "status": "completed"
    },
    "tags": []
   },
   "outputs": [
    {
     "name": "stdout",
     "output_type": "stream",
     "text": [
      "Collecting mnist\r\n"
     ]
    },
    {
     "name": "stdout",
     "output_type": "stream",
     "text": [
      "  Downloading mnist-0.2.2-py2.py3-none-any.whl (3.5 kB)\r\n"
     ]
    },
    {
     "name": "stdout",
     "output_type": "stream",
     "text": [
      "Requirement already satisfied: numpy in /opt/hostedtoolcache/Python/3.6.12/x64/lib/python3.6/site-packages (from mnist) (1.19.4)\r\n"
     ]
    },
    {
     "name": "stdout",
     "output_type": "stream",
     "text": [
      "Installing collected packages: mnist\r\n"
     ]
    },
    {
     "name": "stdout",
     "output_type": "stream",
     "text": [
      "Successfully installed mnist-0.2.2\r\n",
      "\u001b[33mWARNING: You are using pip version 20.2.4; however, version 20.3.1 is available.\r\n",
      "You should consider upgrading via the '/opt/hostedtoolcache/Python/3.6.12/x64/bin/python -m pip install --upgrade pip' command.\u001b[0m\r\n"
     ]
    }
   ],
   "source": [
    "!pip install mnist "
   ]
  },
  {
   "cell_type": "markdown",
   "metadata": {
    "papermill": {
     "duration": 0.023389,
     "end_time": "2020-12-09T10:14:22.125119",
     "exception": false,
     "start_time": "2020-12-09T10:14:22.101730",
     "status": "completed"
    },
    "tags": []
   },
   "source": [
    "#### Importing necessary libraries"
   ]
  },
  {
   "cell_type": "code",
   "execution_count": 2,
   "metadata": {
    "execution": {
     "iopub.execute_input": "2020-12-09T10:14:22.180047Z",
     "iopub.status.busy": "2020-12-09T10:14:22.179536Z",
     "iopub.status.idle": "2020-12-09T10:14:22.694108Z",
     "shell.execute_reply": "2020-12-09T10:14:22.693567Z"
    },
    "papermill": {
     "duration": 0.544671,
     "end_time": "2020-12-09T10:14:22.694256",
     "exception": false,
     "start_time": "2020-12-09T10:14:22.149585",
     "status": "completed"
    },
    "tags": []
   },
   "outputs": [],
   "source": [
    "%load_ext autoreload\n",
    "%autoreload 2\n",
    "\n",
    "%matplotlib inline\n",
    "import matplotlib.pyplot as plt\n",
    "\n",
    "import numpy as np\n",
    "import pandas as pd"
   ]
  },
  {
   "cell_type": "markdown",
   "metadata": {
    "papermill": {
     "duration": 0.023889,
     "end_time": "2020-12-09T10:14:22.742852",
     "exception": false,
     "start_time": "2020-12-09T10:14:22.718963",
     "status": "completed"
    },
    "tags": []
   },
   "source": [
    "### Preparing the Data"
   ]
  },
  {
   "cell_type": "code",
   "execution_count": 3,
   "metadata": {
    "execution": {
     "iopub.execute_input": "2020-12-09T10:14:22.798287Z",
     "iopub.status.busy": "2020-12-09T10:14:22.797748Z",
     "iopub.status.idle": "2020-12-09T10:14:22.806941Z",
     "shell.execute_reply": "2020-12-09T10:14:22.806443Z"
    },
    "papermill": {
     "duration": 0.040411,
     "end_time": "2020-12-09T10:14:22.807058",
     "exception": false,
     "start_time": "2020-12-09T10:14:22.766647",
     "status": "completed"
    },
    "tags": []
   },
   "outputs": [],
   "source": [
    "import mnist"
   ]
  },
  {
   "cell_type": "code",
   "execution_count": 4,
   "metadata": {
    "execution": {
     "iopub.execute_input": "2020-12-09T10:14:22.857713Z",
     "iopub.status.busy": "2020-12-09T10:14:22.857178Z",
     "iopub.status.idle": "2020-12-09T10:14:23.724754Z",
     "shell.execute_reply": "2020-12-09T10:14:23.725273Z"
    },
    "papermill": {
     "duration": 0.894793,
     "end_time": "2020-12-09T10:14:23.725424",
     "exception": false,
     "start_time": "2020-12-09T10:14:22.830631",
     "status": "completed"
    },
    "tags": []
   },
   "outputs": [],
   "source": [
    "train_images = mnist.train_images()\n",
    "train_labels = mnist.train_labels()"
   ]
  },
  {
   "cell_type": "code",
   "execution_count": 5,
   "metadata": {
    "execution": {
     "iopub.execute_input": "2020-12-09T10:14:23.787008Z",
     "iopub.status.busy": "2020-12-09T10:14:23.786463Z",
     "iopub.status.idle": "2020-12-09T10:14:23.796161Z",
     "shell.execute_reply": "2020-12-09T10:14:23.796565Z"
    },
    "papermill": {
     "duration": 0.047262,
     "end_time": "2020-12-09T10:14:23.796710",
     "exception": false,
     "start_time": "2020-12-09T10:14:23.749448",
     "status": "completed"
    },
    "tags": []
   },
   "outputs": [
    {
     "data": {
      "text/plain": [
       "((60000, 28, 28), (60000,))"
      ]
     },
     "execution_count": 5,
     "metadata": {},
     "output_type": "execute_result"
    }
   ],
   "source": [
    "train_images.shape, train_labels.shape"
   ]
  },
  {
   "cell_type": "code",
   "execution_count": 6,
   "metadata": {
    "execution": {
     "iopub.execute_input": "2020-12-09T10:14:23.849289Z",
     "iopub.status.busy": "2020-12-09T10:14:23.848772Z",
     "iopub.status.idle": "2020-12-09T10:14:24.885291Z",
     "shell.execute_reply": "2020-12-09T10:14:24.884750Z"
    },
    "papermill": {
     "duration": 1.064736,
     "end_time": "2020-12-09T10:14:24.885428",
     "exception": false,
     "start_time": "2020-12-09T10:14:23.820692",
     "status": "completed"
    },
    "tags": []
   },
   "outputs": [],
   "source": [
    "test_images = mnist.test_images()\n",
    "test_labels = mnist.test_labels()"
   ]
  },
  {
   "cell_type": "code",
   "execution_count": 7,
   "metadata": {
    "execution": {
     "iopub.execute_input": "2020-12-09T10:14:24.951787Z",
     "iopub.status.busy": "2020-12-09T10:14:24.950624Z",
     "iopub.status.idle": "2020-12-09T10:14:24.956567Z",
     "shell.execute_reply": "2020-12-09T10:14:24.956157Z"
    },
    "papermill": {
     "duration": 0.046535,
     "end_time": "2020-12-09T10:14:24.956690",
     "exception": false,
     "start_time": "2020-12-09T10:14:24.910155",
     "status": "completed"
    },
    "tags": []
   },
   "outputs": [
    {
     "data": {
      "text/plain": [
       "((10000, 28, 28), (10000,))"
      ]
     },
     "execution_count": 7,
     "metadata": {},
     "output_type": "execute_result"
    }
   ],
   "source": [
    "test_images.shape, test_labels.shape"
   ]
  },
  {
   "cell_type": "code",
   "execution_count": 8,
   "metadata": {
    "execution": {
     "iopub.execute_input": "2020-12-09T10:14:25.043612Z",
     "iopub.status.busy": "2020-12-09T10:14:25.035354Z",
     "iopub.status.idle": "2020-12-09T10:14:25.147495Z",
     "shell.execute_reply": "2020-12-09T10:14:25.147041Z"
    },
    "papermill": {
     "duration": 0.166797,
     "end_time": "2020-12-09T10:14:25.147617",
     "exception": false,
     "start_time": "2020-12-09T10:14:24.980820",
     "status": "completed"
    },
    "tags": []
   },
   "outputs": [
    {
     "name": "stdout",
     "output_type": "stream",
     "text": [
      "2\n"
     ]
    },
    {
     "data": {
      "text/plain": [
       "<matplotlib.image.AxesImage at 0x7fc10f691470>"
      ]
     },
     "execution_count": 8,
     "metadata": {},
     "output_type": "execute_result"
    },
    {
     "data": {
      "image/png": "[encoded data removed]",
      "text/plain": [
       "<Figure size 432x288 with 1 Axes>"
      ]
     },
     "metadata": {
      "needs_background": "light"
     },
     "output_type": "display_data"
    }
   ],
   "source": [
    "image_index = 7776 # You may select anything up to 60,000\n",
    "print(train_labels[image_index]) \n",
    "plt.imshow(train_images[image_index], cmap='Greys')"
   ]
  },
  {
   "cell_type": "markdown",
   "metadata": {
    "papermill": {
     "duration": 0.025417,
     "end_time": "2020-12-09T10:14:25.198195",
     "exception": false,
     "start_time": "2020-12-09T10:14:25.172778",
     "status": "completed"
    },
    "tags": []
   },
   "source": [
    "## Filter data to get 3 and 8 out"
   ]
  },
  {
   "cell_type": "code",
   "execution_count": 9,
   "metadata": {
    "execution": {
     "iopub.execute_input": "2020-12-09T10:14:25.258784Z",
     "iopub.status.busy": "2020-12-09T10:14:25.258255Z",
     "iopub.status.idle": "2020-12-09T10:14:25.269808Z",
     "shell.execute_reply": "2020-12-09T10:14:25.269368Z"
    },
    "papermill": {
     "duration": 0.046779,
     "end_time": "2020-12-09T10:14:25.269932",
     "exception": false,
     "start_time": "2020-12-09T10:14:25.223153",
     "status": "completed"
    },
    "tags": []
   },
   "outputs": [],
   "source": [
    "train_filter = np.where((train_labels == 3 ) | (train_labels == 8))\n",
    "test_filter = np.where((test_labels == 3) | (test_labels == 8))\n",
    "X_train, y_train = train_images[train_filter], train_labels[train_filter]\n",
    "X_test, y_test = test_images[test_filter], test_labels[test_filter]"
   ]
  },
  {
   "cell_type": "markdown",
   "metadata": {
    "papermill": {
     "duration": 0.024925,
     "end_time": "2020-12-09T10:14:25.319934",
     "exception": false,
     "start_time": "2020-12-09T10:14:25.295009",
     "status": "completed"
    },
    "tags": []
   },
   "source": [
    "We normalize the pixel values in the 0 to 1 range"
   ]
  },
  {
   "cell_type": "code",
   "execution_count": 10,
   "metadata": {
    "execution": {
     "iopub.execute_input": "2020-12-09T10:14:25.390486Z",
     "iopub.status.busy": "2020-12-09T10:14:25.382539Z",
     "iopub.status.idle": "2020-12-09T10:14:25.425423Z",
     "shell.execute_reply": "2020-12-09T10:14:25.424925Z"
    },
    "papermill": {
     "duration": 0.080781,
     "end_time": "2020-12-09T10:14:25.425567",
     "exception": false,
     "start_time": "2020-12-09T10:14:25.344786",
     "status": "completed"
    },
    "tags": []
   },
   "outputs": [],
   "source": [
    "X_train = X_train/255.\n",
    "X_test = X_test/255."
   ]
  },
  {
   "cell_type": "markdown",
   "metadata": {
    "papermill": {
     "duration": 0.024893,
     "end_time": "2020-12-09T10:14:25.475820",
     "exception": false,
     "start_time": "2020-12-09T10:14:25.450927",
     "status": "completed"
    },
    "tags": []
   },
   "source": [
    "Setup the labels as 1 (when the digit is 3) and 0 (when the digit is 8)"
   ]
  },
  {
   "cell_type": "code",
   "execution_count": 11,
   "metadata": {
    "execution": {
     "iopub.execute_input": "2020-12-09T10:14:25.544729Z",
     "iopub.status.busy": "2020-12-09T10:14:25.544195Z",
     "iopub.status.idle": "2020-12-09T10:14:25.548198Z",
     "shell.execute_reply": "2020-12-09T10:14:25.547766Z"
    },
    "papermill": {
     "duration": 0.04759,
     "end_time": "2020-12-09T10:14:25.548316",
     "exception": false,
     "start_time": "2020-12-09T10:14:25.500726",
     "status": "completed"
    },
    "tags": []
   },
   "outputs": [],
   "source": [
    "y_train = 1*(y_train==3)\n",
    "y_test = 1*(y_test==3)"
   ]
  },
  {
   "cell_type": "code",
   "execution_count": 12,
   "metadata": {
    "execution": {
     "iopub.execute_input": "2020-12-09T10:14:26.176268Z",
     "iopub.status.busy": "2020-12-09T10:14:26.175311Z",
     "iopub.status.idle": "2020-12-09T10:14:26.180994Z",
     "shell.execute_reply": "2020-12-09T10:14:26.180555Z"
    },
    "papermill": {
     "duration": 0.607605,
     "end_time": "2020-12-09T10:14:26.181114",
     "exception": false,
     "start_time": "2020-12-09T10:14:25.573509",
     "status": "completed"
    },
    "tags": []
   },
   "outputs": [
    {
     "data": {
      "text/plain": [
       "((11982, 28, 28), (1984, 28, 28))"
      ]
     },
     "execution_count": 12,
     "metadata": {},
     "output_type": "execute_result"
    }
   ],
   "source": [
    "X_train.shape, X_test.shape"
   ]
  },
  {
   "cell_type": "markdown",
   "metadata": {
    "papermill": {
     "duration": 0.025304,
     "end_time": "2020-12-09T10:14:26.232229",
     "exception": false,
     "start_time": "2020-12-09T10:14:26.206925",
     "status": "completed"
    },
    "tags": []
   },
   "source": [
    "### Reshape the input data to create a linear array"
   ]
  },
  {
   "cell_type": "code",
   "execution_count": 13,
   "metadata": {
    "execution": {
     "iopub.execute_input": "2020-12-09T10:14:26.287572Z",
     "iopub.status.busy": "2020-12-09T10:14:26.286402Z",
     "iopub.status.idle": "2020-12-09T10:14:26.298985Z",
     "shell.execute_reply": "2020-12-09T10:14:26.299372Z"
    },
    "papermill": {
     "duration": 0.041781,
     "end_time": "2020-12-09T10:14:26.299515",
     "exception": false,
     "start_time": "2020-12-09T10:14:26.257734",
     "status": "completed"
    },
    "tags": []
   },
   "outputs": [
    {
     "data": {
      "text/plain": [
       "((11982, 784), (1984, 784))"
      ]
     },
     "execution_count": 13,
     "metadata": {},
     "output_type": "execute_result"
    }
   ],
   "source": [
    "X_train = X_train.reshape(X_train.shape[0], -1)\n",
    "X_test = X_test.reshape(X_test.shape[0], -1)\n",
    "X_train.shape, X_test.shape"
   ]
  },
  {
   "cell_type": "markdown",
   "metadata": {
    "papermill": {
     "duration": 0.025388,
     "end_time": "2020-12-09T10:14:26.350640",
     "exception": false,
     "start_time": "2020-12-09T10:14:26.325252",
     "status": "completed"
    },
    "tags": []
   },
   "source": [
    "### Importing appropriate functions from 'Kudzu'"
   ]
  },
  {
   "cell_type": "code",
   "execution_count": 14,
   "metadata": {
    "execution": {
     "iopub.execute_input": "2020-12-09T10:14:26.416710Z",
     "iopub.status.busy": "2020-12-09T10:14:26.405476Z",
     "iopub.status.idle": "2020-12-09T10:14:26.425541Z",
     "shell.execute_reply": "2020-12-09T10:14:26.425105Z"
    },
    "papermill": {
     "duration": 0.049305,
     "end_time": "2020-12-09T10:14:26.425666",
     "exception": false,
     "start_time": "2020-12-09T10:14:26.376361",
     "status": "completed"
    },
    "tags": []
   },
   "outputs": [],
   "source": [
    "from kudzu.layer import Sigmoid\n",
    "from kudzu.layer import Relu\n",
    "from kudzu.layer import Affine, Sigmoid\n",
    "\n",
    "from kudzu.model import Model\n",
    "from kudzu.train import Learner\n",
    "from kudzu.optim import GD\n",
    "from kudzu.data import Data, Dataloader, Sampler\n",
    "\n",
    "from kudzu.callbacks import AccCallback\n",
    "from kudzu.callbacks import ClfCallback\n",
    "\n",
    "from kudzu.loss import MSE"
   ]
  },
  {
   "cell_type": "markdown",
   "metadata": {
    "papermill": {
     "duration": 0.025367,
     "end_time": "2020-12-09T10:14:26.476540",
     "exception": false,
     "start_time": "2020-12-09T10:14:26.451173",
     "status": "completed"
    },
    "tags": []
   },
   "source": [
    "### Let us create a `Config` class, to store important parameters. \n",
    "This class essentially plays the role of a dictionary."
   ]
  },
  {
   "cell_type": "code",
   "execution_count": 15,
   "metadata": {
    "execution": {
     "iopub.execute_input": "2020-12-09T10:14:26.535128Z",
     "iopub.status.busy": "2020-12-09T10:14:26.534614Z",
     "iopub.status.idle": "2020-12-09T10:14:26.544458Z",
     "shell.execute_reply": "2020-12-09T10:14:26.544016Z"
    },
    "papermill": {
     "duration": 0.042393,
     "end_time": "2020-12-09T10:14:26.544574",
     "exception": false,
     "start_time": "2020-12-09T10:14:26.502181",
     "status": "completed"
    },
    "tags": []
   },
   "outputs": [],
   "source": [
    "class Config:\n",
    "    pass\n",
    "config = Config()\n",
    "config.lr = 0.001\n",
    "config.num_epochs = 251\n",
    "config.bs = 50"
   ]
  },
  {
   "cell_type": "markdown",
   "metadata": {
    "papermill": {
     "duration": 0.025399,
     "end_time": "2020-12-09T10:14:26.595352",
     "exception": false,
     "start_time": "2020-12-09T10:14:26.569953",
     "status": "completed"
    },
    "tags": []
   },
   "source": [
    "### Initializing data to the variables"
   ]
  },
  {
   "cell_type": "code",
   "execution_count": 16,
   "metadata": {
    "execution": {
     "iopub.execute_input": "2020-12-09T10:14:26.652913Z",
     "iopub.status.busy": "2020-12-09T10:14:26.652396Z",
     "iopub.status.idle": "2020-12-09T10:14:26.662777Z",
     "shell.execute_reply": "2020-12-09T10:14:26.663180Z"
    },
    "papermill": {
     "duration": 0.042395,
     "end_time": "2020-12-09T10:14:26.663313",
     "exception": false,
     "start_time": "2020-12-09T10:14:26.620918",
     "status": "completed"
    },
    "tags": []
   },
   "outputs": [],
   "source": [
    "data = Data(X_train, y_train.reshape(-1,1))\n",
    "sampler = Sampler(data, config.bs, shuffle=True)\n",
    "\n",
    "dl = Dataloader(data, sampler)\n",
    "\n",
    "opt = GD(config.lr)\n",
    "loss = MSE()"
   ]
  },
  {
   "cell_type": "code",
   "execution_count": 17,
   "metadata": {
    "execution": {
     "iopub.execute_input": "2020-12-09T10:14:26.729591Z",
     "iopub.status.busy": "2020-12-09T10:14:26.723610Z",
     "iopub.status.idle": "2020-12-09T10:14:26.731913Z",
     "shell.execute_reply": "2020-12-09T10:14:26.731477Z"
    },
    "papermill": {
     "duration": 0.043244,
     "end_time": "2020-12-09T10:14:26.732027",
     "exception": false,
     "start_time": "2020-12-09T10:14:26.688783",
     "status": "completed"
    },
    "tags": []
   },
   "outputs": [],
   "source": [
    "training_xdata = X_train\n",
    "testing_xdata = X_test\n",
    "training_ydata = y_train.reshape(-1,1)\n",
    "testing_ydata = y_test.reshape(-1,1)"
   ]
  },
  {
   "cell_type": "markdown",
   "metadata": {
    "papermill": {
     "duration": 0.026001,
     "end_time": "2020-12-09T10:14:26.783428",
     "exception": false,
     "start_time": "2020-12-09T10:14:26.757427",
     "status": "completed"
    },
    "tags": []
   },
   "source": [
    "### Running Models with the Training data\n",
    "Details about the network layers:\n",
    "- A first affine layer has 784 inputs and does 100 affine transforms. These are followed by a Relu\n",
    "- A second affine layer has 100 inputs from the 100 activations of the past layer, and does 100 affine transforms. These are followed by a Relu\n",
    "- A third affine layer has 100 activations and does 2 affine transformations to create an embedding for visualization. There is no non-linearity here.\n",
    "- A final \"logistic regression\" which has an affine transform from 2 inputs to 1 output, which is squeezed through a sigmoid.\n",
    "\n",
    "Help taken from Anshuman's Notebook."
   ]
  },
  {
   "cell_type": "code",
   "execution_count": 18,
   "metadata": {
    "execution": {
     "iopub.execute_input": "2020-12-09T10:14:26.839782Z",
     "iopub.status.busy": "2020-12-09T10:14:26.839273Z",
     "iopub.status.idle": "2020-12-09T10:14:26.854756Z",
     "shell.execute_reply": "2020-12-09T10:14:26.855250Z"
    },
    "papermill": {
     "duration": 0.046624,
     "end_time": "2020-12-09T10:14:26.855387",
     "exception": false,
     "start_time": "2020-12-09T10:14:26.808763",
     "status": "completed"
    },
    "tags": []
   },
   "outputs": [],
   "source": [
    "# layers for the Neural Network\n",
    "layers = [Affine(\"first\", 784, 100), Relu(\"first\"), Affine(\"second\", 100, 100), Relu(\"second\"), Affine(\"third\", 100, 2), Affine(\"final\", 2, 1), Sigmoid(\"final\")]\n",
    "model_nn = Model(layers)\n",
    "\n",
    "# layers for the Logistic Regression\n",
    "layers_lr = [Affine(\"logits\", 784, 1), Sigmoid(\"sigmoid\")]\n",
    "model_lr = Model(layers_lr)"
   ]
  },
  {
   "cell_type": "code",
   "execution_count": 19,
   "metadata": {
    "execution": {
     "iopub.execute_input": "2020-12-09T10:14:26.910556Z",
     "iopub.status.busy": "2020-12-09T10:14:26.910051Z",
     "iopub.status.idle": "2020-12-09T10:14:26.922259Z",
     "shell.execute_reply": "2020-12-09T10:14:26.921825Z"
    },
    "papermill": {
     "duration": 0.041335,
     "end_time": "2020-12-09T10:14:26.922374",
     "exception": false,
     "start_time": "2020-12-09T10:14:26.881039",
     "status": "completed"
    },
    "tags": []
   },
   "outputs": [],
   "source": [
    "# suffix _nn stands for Neural Network.\n",
    "learner_nn = Learner(loss, model_nn, opt, config.num_epochs)\n",
    "acc_nn = ClfCallback(learner_nn, config.bs, training_xdata , testing_xdata, training_ydata, testing_ydata)\n",
    "learner_nn.set_callbacks([acc_nn])"
   ]
  },
  {
   "cell_type": "code",
   "execution_count": 20,
   "metadata": {
    "execution": {
     "iopub.execute_input": "2020-12-09T10:14:26.993939Z",
     "iopub.status.busy": "2020-12-09T10:14:26.986730Z",
     "iopub.status.idle": "2020-12-09T10:15:40.915169Z",
     "shell.execute_reply": "2020-12-09T10:15:40.914745Z"
    },
    "papermill": {
     "duration": 73.967534,
     "end_time": "2020-12-09T10:15:40.915299",
     "exception": false,
     "start_time": "2020-12-09T10:14:26.947765",
     "status": "completed"
    },
    "tags": []
   },
   "outputs": [
    {
     "name": "stdout",
     "output_type": "stream",
     "text": [
      "====== Neural Network ======\n"
     ]
    },
    {
     "name": "stdout",
     "output_type": "stream",
     "text": [
      "Epoch 0, Loss 0.2313\n",
      "Training Accuracy: 0.7475, Testing Accuracy: 0.7450\n",
      "\n"
     ]
    },
    {
     "name": "stdout",
     "output_type": "stream",
     "text": [
      "Epoch 10, Loss 0.0849\n",
      "Training Accuracy: 0.9150, Testing Accuracy: 0.9259\n",
      "\n"
     ]
    },
    {
     "name": "stdout",
     "output_type": "stream",
     "text": [
      "Epoch 20, Loss 0.0533\n",
      "Training Accuracy: 0.9451, Testing Accuracy: 0.9551\n",
      "\n"
     ]
    },
    {
     "name": "stdout",
     "output_type": "stream",
     "text": [
      "Epoch 30, Loss 0.042\n",
      "Training Accuracy: 0.9549, Testing Accuracy: 0.9637\n",
      "\n"
     ]
    },
    {
     "name": "stdout",
     "output_type": "stream",
     "text": [
      "Epoch 40, Loss 0.0365\n",
      "Training Accuracy: 0.9600, Testing Accuracy: 0.9667\n",
      "\n"
     ]
    },
    {
     "name": "stdout",
     "output_type": "stream",
     "text": [
      "Epoch 50, Loss 0.0333\n",
      "Training Accuracy: 0.9634, Testing Accuracy: 0.9662\n",
      "\n"
     ]
    },
    {
     "name": "stdout",
     "output_type": "stream",
     "text": [
      "Epoch 60, Loss 0.031\n",
      "Training Accuracy: 0.9653, Testing Accuracy: 0.9688\n",
      "\n"
     ]
    },
    {
     "name": "stdout",
     "output_type": "stream",
     "text": [
      "Epoch 70, Loss 0.0293\n",
      "Training Accuracy: 0.9669, Testing Accuracy: 0.9682\n",
      "\n"
     ]
    },
    {
     "name": "stdout",
     "output_type": "stream",
     "text": [
      "Epoch 80, Loss 0.028\n",
      "Training Accuracy: 0.9681, Testing Accuracy: 0.9667\n",
      "\n"
     ]
    },
    {
     "name": "stdout",
     "output_type": "stream",
     "text": [
      "Epoch 90, Loss 0.0269\n",
      "Training Accuracy: 0.9700, Testing Accuracy: 0.9677\n",
      "\n"
     ]
    },
    {
     "name": "stdout",
     "output_type": "stream",
     "text": [
      "Epoch 100, Loss 0.0259\n",
      "Training Accuracy: 0.9708, Testing Accuracy: 0.9693\n",
      "\n"
     ]
    },
    {
     "name": "stdout",
     "output_type": "stream",
     "text": [
      "Epoch 110, Loss 0.0251\n",
      "Training Accuracy: 0.9717, Testing Accuracy: 0.9693\n",
      "\n"
     ]
    },
    {
     "name": "stdout",
     "output_type": "stream",
     "text": [
      "Epoch 120, Loss 0.0244\n",
      "Training Accuracy: 0.9725, Testing Accuracy: 0.9688\n",
      "\n"
     ]
    },
    {
     "name": "stdout",
     "output_type": "stream",
     "text": [
      "Epoch 130, Loss 0.0237\n",
      "Training Accuracy: 0.9730, Testing Accuracy: 0.9713\n",
      "\n"
     ]
    },
    {
     "name": "stdout",
     "output_type": "stream",
     "text": [
      "Epoch 140, Loss 0.0231\n",
      "Training Accuracy: 0.9735, Testing Accuracy: 0.9723\n",
      "\n"
     ]
    },
    {
     "name": "stdout",
     "output_type": "stream",
     "text": [
      "Epoch 150, Loss 0.0225\n",
      "Training Accuracy: 0.9739, Testing Accuracy: 0.9733\n",
      "\n"
     ]
    },
    {
     "name": "stdout",
     "output_type": "stream",
     "text": [
      "Epoch 160, Loss 0.0221\n",
      "Training Accuracy: 0.9747, Testing Accuracy: 0.9738\n",
      "\n"
     ]
    },
    {
     "name": "stdout",
     "output_type": "stream",
     "text": [
      "Epoch 170, Loss 0.0216\n",
      "Training Accuracy: 0.9753, Testing Accuracy: 0.9738\n",
      "\n"
     ]
    },
    {
     "name": "stdout",
     "output_type": "stream",
     "text": [
      "Epoch 180, Loss 0.0211\n",
      "Training Accuracy: 0.9761, Testing Accuracy: 0.9738\n",
      "\n"
     ]
    },
    {
     "name": "stdout",
     "output_type": "stream",
     "text": [
      "Epoch 190, Loss 0.0207\n",
      "Training Accuracy: 0.9760, Testing Accuracy: 0.9738\n",
      "\n"
     ]
    },
    {
     "name": "stdout",
     "output_type": "stream",
     "text": [
      "Epoch 200, Loss 0.0203\n",
      "Training Accuracy: 0.9764, Testing Accuracy: 0.9738\n",
      "\n"
     ]
    },
    {
     "name": "stdout",
     "output_type": "stream",
     "text": [
      "Epoch 210, Loss 0.0199\n",
      "Training Accuracy: 0.9767, Testing Accuracy: 0.9733\n",
      "\n"
     ]
    },
    {
     "name": "stdout",
     "output_type": "stream",
     "text": [
      "Epoch 220, Loss 0.0195\n",
      "Training Accuracy: 0.9777, Testing Accuracy: 0.9738\n",
      "\n"
     ]
    },
    {
     "name": "stdout",
     "output_type": "stream",
     "text": [
      "Epoch 230, Loss 0.0191\n",
      "Training Accuracy: 0.9785, Testing Accuracy: 0.9733\n",
      "\n"
     ]
    },
    {
     "name": "stdout",
     "output_type": "stream",
     "text": [
      "Epoch 240, Loss 0.0187\n",
      "Training Accuracy: 0.9789, Testing Accuracy: 0.9738\n",
      "\n"
     ]
    },
    {
     "name": "stdout",
     "output_type": "stream",
     "text": [
      "Epoch 250, Loss 0.0184\n",
      "Training Accuracy: 0.9795, Testing Accuracy: 0.9743\n",
      "\n"
     ]
    },
    {
     "data": {
      "text/plain": [
       "0.0054808482720371445"
      ]
     },
     "execution_count": 20,
     "metadata": {},
     "output_type": "execute_result"
    }
   ],
   "source": [
    "print(\"====== Neural Network ======\")\n",
    "learner_nn.train_loop(dl)"
   ]
  },
  {
   "cell_type": "markdown",
   "metadata": {
    "papermill": {
     "duration": 0.032431,
     "end_time": "2020-12-09T10:15:40.980959",
     "exception": false,
     "start_time": "2020-12-09T10:15:40.948528",
     "status": "completed"
    },
    "tags": []
   },
   "source": [
    "### Logistic Regression based Implementation."
   ]
  },
  {
   "cell_type": "code",
   "execution_count": 21,
   "metadata": {
    "execution": {
     "iopub.execute_input": "2020-12-09T10:15:41.064131Z",
     "iopub.status.busy": "2020-12-09T10:15:41.058303Z",
     "iopub.status.idle": "2020-12-09T10:15:41.066947Z",
     "shell.execute_reply": "2020-12-09T10:15:41.066537Z"
    },
    "papermill": {
     "duration": 0.053629,
     "end_time": "2020-12-09T10:15:41.067062",
     "exception": false,
     "start_time": "2020-12-09T10:15:41.013433",
     "status": "completed"
    },
    "tags": []
   },
   "outputs": [],
   "source": [
    "learner_lr = Learner(loss, model_lr, opt, config.num_epochs)\n",
    "acc_lr = ClfCallback(learner_lr, config.bs, training_xdata , testing_xdata, training_ydata, testing_ydata)\n",
    "learner_lr.set_callbacks([acc_lr])"
   ]
  },
  {
   "cell_type": "code",
   "execution_count": 22,
   "metadata": {
    "execution": {
     "iopub.execute_input": "2020-12-09T10:15:41.139610Z",
     "iopub.status.busy": "2020-12-09T10:15:41.139096Z",
     "iopub.status.idle": "2020-12-09T10:15:54.772922Z",
     "shell.execute_reply": "2020-12-09T10:15:54.773578Z"
    },
    "papermill": {
     "duration": 13.674046,
     "end_time": "2020-12-09T10:15:54.773734",
     "exception": false,
     "start_time": "2020-12-09T10:15:41.099688",
     "status": "completed"
    },
    "tags": []
   },
   "outputs": [
    {
     "name": "stdout",
     "output_type": "stream",
     "text": [
      "====== Logistic Regression ======\n",
      "Epoch 0, Loss 0.2712\n",
      "Training Accuracy: 0.5753, Testing Accuracy: 0.5635\n",
      "\n"
     ]
    },
    {
     "name": "stdout",
     "output_type": "stream",
     "text": [
      "Epoch 10, Loss 0.1031\n",
      "Training Accuracy: 0.9104, Testing Accuracy: 0.9244\n",
      "\n"
     ]
    },
    {
     "name": "stdout",
     "output_type": "stream",
     "text": [
      "Epoch 20, Loss 0.0787\n",
      "Training Accuracy: 0.9256, Testing Accuracy: 0.9380\n",
      "\n"
     ]
    },
    {
     "name": "stdout",
     "output_type": "stream",
     "text": [
      "Epoch 30, Loss 0.0679\n",
      "Training Accuracy: 0.9354, Testing Accuracy: 0.9446\n",
      "\n"
     ]
    },
    {
     "name": "stdout",
     "output_type": "stream",
     "text": [
      "Epoch 40, Loss 0.0615\n",
      "Training Accuracy: 0.9392, Testing Accuracy: 0.9521\n",
      "\n"
     ]
    },
    {
     "name": "stdout",
     "output_type": "stream",
     "text": [
      "Epoch 50, Loss 0.0571\n",
      "Training Accuracy: 0.9424, Testing Accuracy: 0.9536\n",
      "\n"
     ]
    },
    {
     "name": "stdout",
     "output_type": "stream",
     "text": [
      "Epoch 60, Loss 0.0539\n",
      "Training Accuracy: 0.9448, Testing Accuracy: 0.9561\n",
      "\n"
     ]
    },
    {
     "name": "stdout",
     "output_type": "stream",
     "text": [
      "Epoch 70, Loss 0.0513\n",
      "Training Accuracy: 0.9472, Testing Accuracy: 0.9577\n",
      "\n"
     ]
    },
    {
     "name": "stdout",
     "output_type": "stream",
     "text": [
      "Epoch 80, Loss 0.0493\n",
      "Training Accuracy: 0.9496, Testing Accuracy: 0.9592\n",
      "\n"
     ]
    },
    {
     "name": "stdout",
     "output_type": "stream",
     "text": [
      "Epoch 90, Loss 0.0477\n",
      "Training Accuracy: 0.9507, Testing Accuracy: 0.9622\n",
      "\n"
     ]
    },
    {
     "name": "stdout",
     "output_type": "stream",
     "text": [
      "Epoch 100, Loss 0.0462\n",
      "Training Accuracy: 0.9520, Testing Accuracy: 0.9627\n",
      "\n"
     ]
    },
    {
     "name": "stdout",
     "output_type": "stream",
     "text": [
      "Epoch 110, Loss 0.045\n",
      "Training Accuracy: 0.9536, Testing Accuracy: 0.9637\n",
      "\n"
     ]
    },
    {
     "name": "stdout",
     "output_type": "stream",
     "text": [
      "Epoch 120, Loss 0.044\n",
      "Training Accuracy: 0.9540, Testing Accuracy: 0.9637\n",
      "\n"
     ]
    },
    {
     "name": "stdout",
     "output_type": "stream",
     "text": [
      "Epoch 130, Loss 0.043\n",
      "Training Accuracy: 0.9543, Testing Accuracy: 0.9637\n",
      "\n"
     ]
    },
    {
     "name": "stdout",
     "output_type": "stream",
     "text": [
      "Epoch 140, Loss 0.0422\n",
      "Training Accuracy: 0.9549, Testing Accuracy: 0.9637\n",
      "\n"
     ]
    },
    {
     "name": "stdout",
     "output_type": "stream",
     "text": [
      "Epoch 150, Loss 0.0415\n",
      "Training Accuracy: 0.9559, Testing Accuracy: 0.9637\n",
      "\n"
     ]
    },
    {
     "name": "stdout",
     "output_type": "stream",
     "text": [
      "Epoch 160, Loss 0.0408\n",
      "Training Accuracy: 0.9570, Testing Accuracy: 0.9647\n",
      "\n"
     ]
    },
    {
     "name": "stdout",
     "output_type": "stream",
     "text": [
      "Epoch 170, Loss 0.0402\n",
      "Training Accuracy: 0.9575, Testing Accuracy: 0.9652\n",
      "\n"
     ]
    },
    {
     "name": "stdout",
     "output_type": "stream",
     "text": [
      "Epoch 180, Loss 0.0396\n",
      "Training Accuracy: 0.9580, Testing Accuracy: 0.9652\n",
      "\n"
     ]
    },
    {
     "name": "stdout",
     "output_type": "stream",
     "text": [
      "Epoch 190, Loss 0.0391\n",
      "Training Accuracy: 0.9585, Testing Accuracy: 0.9667\n",
      "\n"
     ]
    },
    {
     "name": "stdout",
     "output_type": "stream",
     "text": [
      "Epoch 200, Loss 0.0386\n",
      "Training Accuracy: 0.9589, Testing Accuracy: 0.9667\n",
      "\n"
     ]
    },
    {
     "name": "stdout",
     "output_type": "stream",
     "text": [
      "Epoch 210, Loss 0.0382\n",
      "Training Accuracy: 0.9590, Testing Accuracy: 0.9667\n",
      "\n"
     ]
    },
    {
     "name": "stdout",
     "output_type": "stream",
     "text": [
      "Epoch 220, Loss 0.0378\n",
      "Training Accuracy: 0.9595, Testing Accuracy: 0.9667\n",
      "\n"
     ]
    },
    {
     "name": "stdout",
     "output_type": "stream",
     "text": [
      "Epoch 230, Loss 0.0374\n",
      "Training Accuracy: 0.9601, Testing Accuracy: 0.9672\n",
      "\n"
     ]
    },
    {
     "name": "stdout",
     "output_type": "stream",
     "text": [
      "Epoch 240, Loss 0.037\n",
      "Training Accuracy: 0.9604, Testing Accuracy: 0.9667\n",
      "\n"
     ]
    },
    {
     "name": "stdout",
     "output_type": "stream",
     "text": [
      "Epoch 250, Loss 0.0367\n",
      "Training Accuracy: 0.9606, Testing Accuracy: 0.9667\n",
      "\n"
     ]
    },
    {
     "data": {
      "text/plain": [
       "0.029295670445168565"
      ]
     },
     "execution_count": 22,
     "metadata": {},
     "output_type": "execute_result"
    }
   ],
   "source": [
    "print(\"====== Logistic Regression ======\")\n",
    "learner_lr.train_loop(dl)"
   ]
  },
  {
   "cell_type": "markdown",
   "metadata": {
    "papermill": {
     "duration": 0.039443,
     "end_time": "2020-12-09T10:15:54.854215",
     "exception": false,
     "start_time": "2020-12-09T10:15:54.814772",
     "status": "completed"
    },
    "tags": []
   },
   "source": [
    "### Comparing results of NN and LR"
   ]
  },
  {
   "cell_type": "code",
   "execution_count": 23,
   "metadata": {
    "execution": {
     "iopub.execute_input": "2020-12-09T10:15:54.939118Z",
     "iopub.status.busy": "2020-12-09T10:15:54.938505Z",
     "iopub.status.idle": "2020-12-09T10:15:55.152053Z",
     "shell.execute_reply": "2020-12-09T10:15:55.152469Z"
    },
    "papermill": {
     "duration": 0.258897,
     "end_time": "2020-12-09T10:15:55.152617",
     "exception": false,
     "start_time": "2020-12-09T10:15:54.893720",
     "status": "completed"
    },
    "tags": []
   },
   "outputs": [
    {
     "data": {
      "text/plain": [
       "<matplotlib.legend.Legend at 0x7fc107edcc88>"
      ]
     },
     "execution_count": 23,
     "metadata": {},
     "output_type": "execute_result"
    },
    {
     "data": {
      "image/png": "[encoded data removed]",
      "text/plain": [
       "<Figure size 1080x720 with 1 Axes>"
      ]
     },
     "metadata": {
      "needs_background": "light"
     },
     "output_type": "display_data"
    }
   ],
   "source": [
    "plt.figure(figsize=(15,10))\n",
    "\n",
    "# Neural Network plots\n",
    "plt.plot(acc_nn.accuracies, 'r-', label = \"Training Accuracies - NN\")\n",
    "plt.plot(acc_nn.test_accuracies, 'g-', label = \"Testing Accuracies - NN\")\n",
    "\n",
    "# Logistic Regression plots\n",
    "plt.plot(acc_lr.accuracies, 'k-', label = \"Training Accuracies - LR\")\n",
    "plt.plot(acc_lr.test_accuracies, 'b-', label = \"Testing Accuracies - LR\")\n",
    "\n",
    "plt.ylim(0.8, 1)\n",
    "\n",
    "plt.legend()\n",
    "\n"
   ]
  },
  {
   "cell_type": "markdown",
   "metadata": {
    "papermill": {
     "duration": 0.041377,
     "end_time": "2020-12-09T10:15:55.235346",
     "exception": false,
     "start_time": "2020-12-09T10:15:55.193969",
     "status": "completed"
    },
    "tags": []
   },
   "source": [
    "### From the plot, we can observe the following:\n",
    "- Neural Network achieves higher accuracy than the Logistic Regression model.\n",
    "- This apparently, is because of overfitting, i.e. NN captures more noise than data.\n",
    "- Testing accuracy of NN drops below the Training accuracy at higher epochs. This explains the over-fitting on training data.\n",
    "- Logistic Regression gives a reliable accuracy, without the above mentioned problem.\n"
   ]
  },
  {
   "cell_type": "markdown",
   "metadata": {
    "papermill": {
     "duration": 0.040988,
     "end_time": "2020-12-09T10:15:55.317166",
     "exception": false,
     "start_time": "2020-12-09T10:15:55.276178",
     "status": "completed"
    },
    "tags": []
   },
   "source": [
    "### Moving till the last but one layer (excluding it).\n",
    "#### Plotting the outputs of this layer of the NN."
   ]
  },
  {
   "cell_type": "code",
   "execution_count": 24,
   "metadata": {
    "execution": {
     "iopub.execute_input": "2020-12-09T10:15:55.413730Z",
     "iopub.status.busy": "2020-12-09T10:15:55.407865Z",
     "iopub.status.idle": "2020-12-09T10:15:55.416070Z",
     "shell.execute_reply": "2020-12-09T10:15:55.415638Z"
    },
    "papermill": {
     "duration": 0.057972,
     "end_time": "2020-12-09T10:15:55.416187",
     "exception": false,
     "start_time": "2020-12-09T10:15:55.358215",
     "status": "completed"
    },
    "tags": []
   },
   "outputs": [],
   "source": [
    "model_new = Model(layers[:-2])"
   ]
  },
  {
   "cell_type": "code",
   "execution_count": 25,
   "metadata": {
    "execution": {
     "iopub.execute_input": "2020-12-09T10:15:55.516369Z",
     "iopub.status.busy": "2020-12-09T10:15:55.514325Z",
     "iopub.status.idle": "2020-12-09T10:15:55.529674Z",
     "shell.execute_reply": "2020-12-09T10:15:55.530402Z"
    },
    "papermill": {
     "duration": 0.073437,
     "end_time": "2020-12-09T10:15:55.530554",
     "exception": false,
     "start_time": "2020-12-09T10:15:55.457117",
     "status": "completed"
    },
    "tags": []
   },
   "outputs": [],
   "source": [
    "plot_testing = model_new(testing_xdata)"
   ]
  },
  {
   "cell_type": "code",
   "execution_count": 26,
   "metadata": {
    "execution": {
     "iopub.execute_input": "2020-12-09T10:15:55.619677Z",
     "iopub.status.busy": "2020-12-09T10:15:55.619173Z",
     "iopub.status.idle": "2020-12-09T10:15:55.809834Z",
     "shell.execute_reply": "2020-12-09T10:15:55.810255Z"
    },
    "papermill": {
     "duration": 0.237981,
     "end_time": "2020-12-09T10:15:55.810399",
     "exception": false,
     "start_time": "2020-12-09T10:15:55.572418",
     "status": "completed"
    },
    "tags": []
   },
   "outputs": [
    {
     "data": {
      "text/plain": [
       "Text(0.5, 1.0, 'Outputs')"
      ]
     },
     "execution_count": 26,
     "metadata": {},
     "output_type": "execute_result"
    },
    {
     "data": {
      "image/png": "[encoded data removed]",
      "text/plain": [
       "<Figure size 576x504 with 1 Axes>"
      ]
     },
     "metadata": {
      "needs_background": "light"
     },
     "output_type": "display_data"
    }
   ],
   "source": [
    "plt.figure(figsize=(8,7))\n",
    "plt.scatter(plot_testing[:,0], plot_testing[:,1], alpha = 0.1, c = y_test.ravel());\n",
    "plt.title('Outputs')"
   ]
  },
  {
   "cell_type": "markdown",
   "metadata": {
    "papermill": {
     "duration": 0.043248,
     "end_time": "2020-12-09T10:15:55.897785",
     "exception": false,
     "start_time": "2020-12-09T10:15:55.854537",
     "status": "completed"
    },
    "tags": []
   },
   "source": [
    "### Plotting probability contours"
   ]
  },
  {
   "cell_type": "code",
   "execution_count": 27,
   "metadata": {
    "execution": {
     "iopub.execute_input": "2020-12-09T10:15:56.002800Z",
     "iopub.status.busy": "2020-12-09T10:15:56.002287Z",
     "iopub.status.idle": "2020-12-09T10:15:56.004845Z",
     "shell.execute_reply": "2020-12-09T10:15:56.004185Z"
    },
    "papermill": {
     "duration": 0.064037,
     "end_time": "2020-12-09T10:15:56.004966",
     "exception": false,
     "start_time": "2020-12-09T10:15:55.940929",
     "status": "completed"
    },
    "tags": []
   },
   "outputs": [],
   "source": [
    "model_prob = Model(layers[-2:]) "
   ]
  },
  {
   "cell_type": "code",
   "execution_count": 28,
   "metadata": {
    "execution": {
     "iopub.execute_input": "2020-12-09T10:15:56.109752Z",
     "iopub.status.busy": "2020-12-09T10:15:56.100126Z",
     "iopub.status.idle": "2020-12-09T10:15:56.110320Z",
     "shell.execute_reply": "2020-12-09T10:15:56.110718Z"
    },
    "papermill": {
     "duration": 0.062584,
     "end_time": "2020-12-09T10:15:56.110855",
     "exception": false,
     "start_time": "2020-12-09T10:15:56.048271",
     "status": "completed"
    },
    "tags": []
   },
   "outputs": [],
   "source": [
    "# Adjust the x and y ranges according to the above generated plot.\n",
    "x_range = np.linspace(-4, 1, 100) \n",
    "y_range = np.linspace(-6, 6, 100) \n",
    "x_grid, y_grid = np.meshgrid(x_range, y_range) # x_grid and y_grig are of size 100 X 100\n",
    "\n",
    "# converting x_grid and y_grid to continuous arrays\n",
    "x_grid_flat = np.ravel(x_grid)\n",
    "y_grid_flat = np.ravel(y_grid)\n",
    "\n",
    "# The last layer of the current model takes two columns as input. Hence transpose of np.vstack() is required.\n",
    "X = np.vstack((x_grid_flat, y_grid_flat)).T\n",
    "\n",
    "# x_grid and y_grid are of size 100 x 100\n",
    "probability_contour = model_prob(X).reshape(100,100) "
   ]
  },
  {
   "cell_type": "code",
   "execution_count": 29,
   "metadata": {
    "execution": {
     "iopub.execute_input": "2020-12-09T10:15:56.207108Z",
     "iopub.status.busy": "2020-12-09T10:15:56.206604Z",
     "iopub.status.idle": "2020-12-09T10:15:56.426701Z",
     "shell.execute_reply": "2020-12-09T10:15:56.426256Z"
    },
    "papermill": {
     "duration": 0.272461,
     "end_time": "2020-12-09T10:15:56.426823",
     "exception": false,
     "start_time": "2020-12-09T10:15:56.154362",
     "status": "completed"
    },
    "tags": []
   },
   "outputs": [
    {
     "data": {
      "image/png": "[encoded data removed]",
      "text/plain": [
       "<Figure size 720x648 with 1 Axes>"
      ]
     },
     "metadata": {
      "needs_background": "light"
     },
     "output_type": "display_data"
    }
   ],
   "source": [
    "plt.figure(figsize=(10,9))\n",
    "plt.scatter(plot_testing[:,0], plot_testing[:,1], alpha = 0.1, c = y_test.ravel())\n",
    "contours = plt.contour(x_grid,y_grid,probability_contour)\n",
    "plt.title('Probability Contours')\n",
    "plt.clabel(contours, inline = True );"
   ]
  }
 ],
 "metadata": {
  "kernelspec": {
   "display_name": "Python 3",
   "language": "python",
   "name": "python3"
  },
  "language_info": {
   "codemirror_mode": {
    "name": "ipython",
    "version": 3
   },
   "file_extension": ".py",
   "mimetype": "text/x-python",
   "name": "python",
   "nbconvert_exporter": "python",
   "pygments_lexer": "ipython3",
   "version": "3.6.12"
  },
  "papermill": {
   "duration": 98.350533,
   "end_time": "2020-12-09T10:15:57.824252",
   "environment_variables": {},
   "exception": null,
   "input_path": "2020-08-11-NeuralNetwork.ipynb",
   "output_path": "2020-08-11-NeuralNetwork.ipynb",
   "parameters": {},
   "start_time": "2020-12-09T10:14:19.473719",
   "version": "2.1.2"
  }
 },
 "nbformat": 4,
 "nbformat_minor": 4
}