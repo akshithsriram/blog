{
 "cells": [
  {
   "cell_type": "markdown",
   "metadata": {
    "papermill": {
     "duration": 0.032773,
     "end_time": "2020-09-22T00:08:14.386385",
     "exception": false,
     "start_time": "2020-09-22T00:08:14.353612",
     "status": "completed"
    },
    "tags": []
   },
   "source": [
    "# \"A Basic Neural Network: Differentiate Hand-Written Digits\"\n",
    "\n",
    "- badges: true\n",
    "- author: Akshith Sriram"
   ]
  },
  {
   "cell_type": "markdown",
   "metadata": {
    "papermill": {
     "duration": 0.025111,
     "end_time": "2020-09-22T00:08:14.437381",
     "exception": false,
     "start_time": "2020-09-22T00:08:14.412270",
     "status": "completed"
    },
    "tags": []
   },
   "source": [
    "### Key Objectives:\n",
    "- Building a neural network that differentiates two hand-written digits 3 and 8.\n",
    "- Comparing the results of this Neural Network (NN) to that of a Logistic Regression (LR) model.\n",
    "\n",
    "### Requirements:\n",
    "- 'Kudzu' : A neural network library that was designed during our course by [Univ.AI](www.univ.ai). \n",
    "- MNIST Database\n",
    "\n",
    "If MNIST is not installed, use the command `!pip install mnist` given below.\n",
    "It can be run both from the command line and Jupyter Notebook."
   ]
  },
  {
   "cell_type": "code",
   "execution_count": 1,
   "metadata": {
    "execution": {
     "iopub.execute_input": "2020-09-22T00:08:14.493338Z",
     "iopub.status.busy": "2020-09-22T00:08:14.492507Z",
     "iopub.status.idle": "2020-09-22T00:08:16.358204Z",
     "shell.execute_reply": "2020-09-22T00:08:16.356787Z"
    },
    "papermill": {
     "duration": 1.895864,
     "end_time": "2020-09-22T00:08:16.358370",
     "exception": false,
     "start_time": "2020-09-22T00:08:14.462506",
     "status": "completed"
    },
    "tags": []
   },
   "outputs": [
    {
     "name": "stdout",
     "output_type": "stream",
     "text": [
      "Collecting mnist\r\n"
     ]
    },
    {
     "name": "stdout",
     "output_type": "stream",
     "text": [
      "  Downloading mnist-0.2.2-py2.py3-none-any.whl (3.5 kB)\r\n",
      "Requirement already satisfied: numpy in /opt/hostedtoolcache/Python/3.6.12/x64/lib/python3.6/site-packages (from mnist) (1.19.2)\r\n"
     ]
    },
    {
     "name": "stdout",
     "output_type": "stream",
     "text": [
      "Installing collected packages: mnist\r\n"
     ]
    },
    {
     "name": "stdout",
     "output_type": "stream",
     "text": [
      "Successfully installed mnist-0.2.2\r\n"
     ]
    }
   ],
   "source": [
    "!pip install mnist "
   ]
  },
  {
   "cell_type": "markdown",
   "metadata": {
    "papermill": {
     "duration": 0.040215,
     "end_time": "2020-09-22T00:08:16.434709",
     "exception": false,
     "start_time": "2020-09-22T00:08:16.394494",
     "status": "completed"
    },
    "tags": []
   },
   "source": [
    "#### Importing necessary libraries"
   ]
  },
  {
   "cell_type": "code",
   "execution_count": 2,
   "metadata": {
    "execution": {
     "iopub.execute_input": "2020-09-22T00:08:16.507273Z",
     "iopub.status.busy": "2020-09-22T00:08:16.505359Z",
     "iopub.status.idle": "2020-09-22T00:08:17.160294Z",
     "shell.execute_reply": "2020-09-22T00:08:17.159692Z"
    },
    "papermill": {
     "duration": 0.693172,
     "end_time": "2020-09-22T00:08:17.160449",
     "exception": false,
     "start_time": "2020-09-22T00:08:16.467277",
     "status": "completed"
    },
    "tags": []
   },
   "outputs": [],
   "source": [
    "%load_ext autoreload\n",
    "%autoreload 2\n",
    "\n",
    "%matplotlib inline\n",
    "import matplotlib.pyplot as plt\n",
    "\n",
    "import numpy as np\n",
    "import pandas as pd"
   ]
  },
  {
   "cell_type": "markdown",
   "metadata": {
    "papermill": {
     "duration": 0.027282,
     "end_time": "2020-09-22T00:08:17.217540",
     "exception": false,
     "start_time": "2020-09-22T00:08:17.190258",
     "status": "completed"
    },
    "tags": []
   },
   "source": [
    "### Preparing the Data"
   ]
  },
  {
   "cell_type": "code",
   "execution_count": 3,
   "metadata": {
    "execution": {
     "iopub.execute_input": "2020-09-22T00:08:17.276995Z",
     "iopub.status.busy": "2020-09-22T00:08:17.276169Z",
     "iopub.status.idle": "2020-09-22T00:08:17.289372Z",
     "shell.execute_reply": "2020-09-22T00:08:17.288860Z"
    },
    "papermill": {
     "duration": 0.044337,
     "end_time": "2020-09-22T00:08:17.289539",
     "exception": false,
     "start_time": "2020-09-22T00:08:17.245202",
     "status": "completed"
    },
    "tags": []
   },
   "outputs": [],
   "source": [
    "import mnist"
   ]
  },
  {
   "cell_type": "code",
   "execution_count": 4,
   "metadata": {
    "execution": {
     "iopub.execute_input": "2020-09-22T00:08:17.356901Z",
     "iopub.status.busy": "2020-09-22T00:08:17.356246Z",
     "iopub.status.idle": "2020-09-22T00:08:18.332149Z",
     "shell.execute_reply": "2020-09-22T00:08:18.331253Z"
    },
    "papermill": {
     "duration": 1.013293,
     "end_time": "2020-09-22T00:08:18.332286",
     "exception": false,
     "start_time": "2020-09-22T00:08:17.318993",
     "status": "completed"
    },
    "tags": []
   },
   "outputs": [],
   "source": [
    "train_images = mnist.train_images()\n",
    "train_labels = mnist.train_labels()"
   ]
  },
  {
   "cell_type": "code",
   "execution_count": 5,
   "metadata": {
    "execution": {
     "iopub.execute_input": "2020-09-22T00:08:18.388688Z",
     "iopub.status.busy": "2020-09-22T00:08:18.388082Z",
     "iopub.status.idle": "2020-09-22T00:08:18.404593Z",
     "shell.execute_reply": "2020-09-22T00:08:18.404059Z"
    },
    "papermill": {
     "duration": 0.04618,
     "end_time": "2020-09-22T00:08:18.404730",
     "exception": false,
     "start_time": "2020-09-22T00:08:18.358550",
     "status": "completed"
    },
    "tags": []
   },
   "outputs": [
    {
     "data": {
      "text/plain": [
       "((60000, 28, 28), (60000,))"
      ]
     },
     "execution_count": 5,
     "metadata": {},
     "output_type": "execute_result"
    }
   ],
   "source": [
    "train_images.shape, train_labels.shape"
   ]
  },
  {
   "cell_type": "code",
   "execution_count": 6,
   "metadata": {
    "execution": {
     "iopub.execute_input": "2020-09-22T00:08:18.469322Z",
     "iopub.status.busy": "2020-09-22T00:08:18.467102Z",
     "iopub.status.idle": "2020-09-22T00:08:18.901668Z",
     "shell.execute_reply": "2020-09-22T00:08:18.900431Z"
    },
    "papermill": {
     "duration": 0.470562,
     "end_time": "2020-09-22T00:08:18.901820",
     "exception": false,
     "start_time": "2020-09-22T00:08:18.431258",
     "status": "completed"
    },
    "tags": []
   },
   "outputs": [],
   "source": [
    "test_images = mnist.test_images()\n",
    "test_labels = mnist.test_labels()"
   ]
  },
  {
   "cell_type": "code",
   "execution_count": 7,
   "metadata": {
    "execution": {
     "iopub.execute_input": "2020-09-22T00:08:18.959208Z",
     "iopub.status.busy": "2020-09-22T00:08:18.958601Z",
     "iopub.status.idle": "2020-09-22T00:08:18.973432Z",
     "shell.execute_reply": "2020-09-22T00:08:18.972885Z"
    },
    "papermill": {
     "duration": 0.04517,
     "end_time": "2020-09-22T00:08:18.973567",
     "exception": false,
     "start_time": "2020-09-22T00:08:18.928397",
     "status": "completed"
    },
    "tags": []
   },
   "outputs": [
    {
     "data": {
      "text/plain": [
       "((10000, 28, 28), (10000,))"
      ]
     },
     "execution_count": 7,
     "metadata": {},
     "output_type": "execute_result"
    }
   ],
   "source": [
    "test_images.shape, test_labels.shape"
   ]
  },
  {
   "cell_type": "code",
   "execution_count": 8,
   "metadata": {
    "execution": {
     "iopub.execute_input": "2020-09-22T00:08:19.032714Z",
     "iopub.status.busy": "2020-09-22T00:08:19.032116Z",
     "iopub.status.idle": "2020-09-22T00:08:19.180692Z",
     "shell.execute_reply": "2020-09-22T00:08:19.180162Z"
    },
    "papermill": {
     "duration": 0.180733,
     "end_time": "2020-09-22T00:08:19.180826",
     "exception": false,
     "start_time": "2020-09-22T00:08:19.000093",
     "status": "completed"
    },
    "tags": []
   },
   "outputs": [
    {
     "name": "stdout",
     "output_type": "stream",
     "text": [
      "2\n"
     ]
    },
    {
     "data": {
      "text/plain": [
       "<matplotlib.image.AxesImage at 0x7f80a0d15780>"
      ]
     },
     "execution_count": 8,
     "metadata": {},
     "output_type": "execute_result"
    },
    {
     "data": {
      "image/png": "[encoded data removed]",
      "text/plain": [
       "<Figure size 432x288 with 1 Axes>"
      ]
     },
     "metadata": {
      "needs_background": "light"
     },
     "output_type": "display_data"
    }
   ],
   "source": [
    "image_index = 7776 # You may select anything up to 60,000\n",
    "print(train_labels[image_index]) \n",
    "plt.imshow(train_images[image_index], cmap='Greys')"
   ]
  },
  {
   "cell_type": "markdown",
   "metadata": {
    "papermill": {
     "duration": 0.027885,
     "end_time": "2020-09-22T00:08:19.237118",
     "exception": false,
     "start_time": "2020-09-22T00:08:19.209233",
     "status": "completed"
    },
    "tags": []
   },
   "source": [
    "## Filter data to get 3 and 8 out"
   ]
  },
  {
   "cell_type": "code",
   "execution_count": 9,
   "metadata": {
    "execution": {
     "iopub.execute_input": "2020-09-22T00:08:19.297621Z",
     "iopub.status.busy": "2020-09-22T00:08:19.296558Z",
     "iopub.status.idle": "2020-09-22T00:08:19.315690Z",
     "shell.execute_reply": "2020-09-22T00:08:19.315177Z"
    },
    "papermill": {
     "duration": 0.050992,
     "end_time": "2020-09-22T00:08:19.315825",
     "exception": false,
     "start_time": "2020-09-22T00:08:19.264833",
     "status": "completed"
    },
    "tags": []
   },
   "outputs": [],
   "source": [
    "train_filter = np.where((train_labels == 3 ) | (train_labels == 8))\n",
    "test_filter = np.where((test_labels == 3) | (test_labels == 8))\n",
    "X_train, y_train = train_images[train_filter], train_labels[train_filter]\n",
    "X_test, y_test = test_images[test_filter], test_labels[test_filter]"
   ]
  },
  {
   "cell_type": "markdown",
   "metadata": {
    "papermill": {
     "duration": 0.027832,
     "end_time": "2020-09-22T00:08:19.371618",
     "exception": false,
     "start_time": "2020-09-22T00:08:19.343786",
     "status": "completed"
    },
    "tags": []
   },
   "source": [
    "We normalize the pixel values in the 0 to 1 range"
   ]
  },
  {
   "cell_type": "code",
   "execution_count": 10,
   "metadata": {
    "execution": {
     "iopub.execute_input": "2020-09-22T00:08:19.433156Z",
     "iopub.status.busy": "2020-09-22T00:08:19.432552Z",
     "iopub.status.idle": "2020-09-22T00:08:19.486604Z",
     "shell.execute_reply": "2020-09-22T00:08:19.487118Z"
    },
    "papermill": {
     "duration": 0.087719,
     "end_time": "2020-09-22T00:08:19.487274",
     "exception": false,
     "start_time": "2020-09-22T00:08:19.399555",
     "status": "completed"
    },
    "tags": []
   },
   "outputs": [],
   "source": [
    "X_train = X_train/255.\n",
    "X_test = X_test/255."
   ]
  },
  {
   "cell_type": "markdown",
   "metadata": {
    "papermill": {
     "duration": 0.027914,
     "end_time": "2020-09-22T00:08:19.543298",
     "exception": false,
     "start_time": "2020-09-22T00:08:19.515384",
     "status": "completed"
    },
    "tags": []
   },
   "source": [
    "Setup the labels as 1 (when the digit is 3) and 0 (when the digit is 8)"
   ]
  },
  {
   "cell_type": "code",
   "execution_count": 11,
   "metadata": {
    "execution": {
     "iopub.execute_input": "2020-09-22T00:08:19.605041Z",
     "iopub.status.busy": "2020-09-22T00:08:19.604448Z",
     "iopub.status.idle": "2020-09-22T00:08:19.617917Z",
     "shell.execute_reply": "2020-09-22T00:08:19.617374Z"
    },
    "papermill": {
     "duration": 0.046938,
     "end_time": "2020-09-22T00:08:19.618050",
     "exception": false,
     "start_time": "2020-09-22T00:08:19.571112",
     "status": "completed"
    },
    "tags": []
   },
   "outputs": [],
   "source": [
    "y_train = 1*(y_train==3)\n",
    "y_test = 1*(y_test==3)"
   ]
  },
  {
   "cell_type": "code",
   "execution_count": 12,
   "metadata": {
    "execution": {
     "iopub.execute_input": "2020-09-22T00:08:19.678693Z",
     "iopub.status.busy": "2020-09-22T00:08:19.678091Z",
     "iopub.status.idle": "2020-09-22T00:08:19.691333Z",
     "shell.execute_reply": "2020-09-22T00:08:19.691807Z"
    },
    "papermill": {
     "duration": 0.045996,
     "end_time": "2020-09-22T00:08:19.691955",
     "exception": false,
     "start_time": "2020-09-22T00:08:19.645959",
     "status": "completed"
    },
    "tags": []
   },
   "outputs": [
    {
     "data": {
      "text/plain": [
       "((11982, 28, 28), (1984, 28, 28))"
      ]
     },
     "execution_count": 12,
     "metadata": {},
     "output_type": "execute_result"
    }
   ],
   "source": [
    "X_train.shape, X_test.shape"
   ]
  },
  {
   "cell_type": "markdown",
   "metadata": {
    "papermill": {
     "duration": 0.027333,
     "end_time": "2020-09-22T00:08:19.747483",
     "exception": false,
     "start_time": "2020-09-22T00:08:19.720150",
     "status": "completed"
    },
    "tags": []
   },
   "source": [
    "### Reshape the input data to create a linear array"
   ]
  },
  {
   "cell_type": "code",
   "execution_count": 13,
   "metadata": {
    "execution": {
     "iopub.execute_input": "2020-09-22T00:08:19.810516Z",
     "iopub.status.busy": "2020-09-22T00:08:19.809903Z",
     "iopub.status.idle": "2020-09-22T00:08:19.825067Z",
     "shell.execute_reply": "2020-09-22T00:08:19.824553Z"
    },
    "papermill": {
     "duration": 0.049607,
     "end_time": "2020-09-22T00:08:19.825198",
     "exception": false,
     "start_time": "2020-09-22T00:08:19.775591",
     "status": "completed"
    },
    "tags": []
   },
   "outputs": [
    {
     "data": {
      "text/plain": [
       "((11982, 784), (1984, 784))"
      ]
     },
     "execution_count": 13,
     "metadata": {},
     "output_type": "execute_result"
    }
   ],
   "source": [
    "X_train = X_train.reshape(X_train.shape[0], -1)\n",
    "X_test = X_test.reshape(X_test.shape[0], -1)\n",
    "X_train.shape, X_test.shape"
   ]
  },
  {
   "cell_type": "markdown",
   "metadata": {
    "papermill": {
     "duration": 0.028418,
     "end_time": "2020-09-22T00:08:19.881859",
     "exception": false,
     "start_time": "2020-09-22T00:08:19.853441",
     "status": "completed"
    },
    "tags": []
   },
   "source": [
    "### Importing appropriate functions from 'Kudzu'"
   ]
  },
  {
   "cell_type": "code",
   "execution_count": 14,
   "metadata": {
    "execution": {
     "iopub.execute_input": "2020-09-22T00:08:19.946672Z",
     "iopub.status.busy": "2020-09-22T00:08:19.946059Z",
     "iopub.status.idle": "2020-09-22T00:08:19.965392Z",
     "shell.execute_reply": "2020-09-22T00:08:19.965900Z"
    },
    "papermill": {
     "duration": 0.055614,
     "end_time": "2020-09-22T00:08:19.966058",
     "exception": false,
     "start_time": "2020-09-22T00:08:19.910444",
     "status": "completed"
    },
    "tags": []
   },
   "outputs": [],
   "source": [
    "from kudzu.layer import Sigmoid\n",
    "from kudzu.layer import Relu\n",
    "from kudzu.layer import Affine, Sigmoid\n",
    "\n",
    "from kudzu.model import Model\n",
    "from kudzu.train import Learner\n",
    "from kudzu.optim import GD\n",
    "from kudzu.data import Data, Dataloader, Sampler\n",
    "\n",
    "from kudzu.callbacks import AccCallback\n",
    "from kudzu.callbacks import ClfCallback\n",
    "\n",
    "from kudzu.loss import MSE"
   ]
  },
  {
   "cell_type": "markdown",
   "metadata": {
    "papermill": {
     "duration": 0.028281,
     "end_time": "2020-09-22T00:08:20.022756",
     "exception": false,
     "start_time": "2020-09-22T00:08:19.994475",
     "status": "completed"
    },
    "tags": []
   },
   "source": [
    "### Let us create a `Config` class, to store important parameters. \n",
    "This class essentially plays the role of a dictionary."
   ]
  },
  {
   "cell_type": "code",
   "execution_count": 15,
   "metadata": {
    "execution": {
     "iopub.execute_input": "2020-09-22T00:08:20.099518Z",
     "iopub.status.busy": "2020-09-22T00:08:20.090852Z",
     "iopub.status.idle": "2020-09-22T00:08:20.102134Z",
     "shell.execute_reply": "2020-09-22T00:08:20.101634Z"
    },
    "papermill": {
     "duration": 0.050871,
     "end_time": "2020-09-22T00:08:20.102274",
     "exception": false,
     "start_time": "2020-09-22T00:08:20.051403",
     "status": "completed"
    },
    "tags": []
   },
   "outputs": [],
   "source": [
    "class Config:\n",
    "    pass\n",
    "config = Config()\n",
    "config.lr = 0.001\n",
    "config.num_epochs = 251\n",
    "config.bs = 50"
   ]
  },
  {
   "cell_type": "markdown",
   "metadata": {
    "papermill": {
     "duration": 0.028433,
     "end_time": "2020-09-22T00:08:20.159118",
     "exception": false,
     "start_time": "2020-09-22T00:08:20.130685",
     "status": "completed"
    },
    "tags": []
   },
   "source": [
    "### Initializing data to the variables"
   ]
  },
  {
   "cell_type": "code",
   "execution_count": 16,
   "metadata": {
    "execution": {
     "iopub.execute_input": "2020-09-22T00:08:20.221030Z",
     "iopub.status.busy": "2020-09-22T00:08:20.220427Z",
     "iopub.status.idle": "2020-09-22T00:08:20.233121Z",
     "shell.execute_reply": "2020-09-22T00:08:20.233607Z"
    },
    "papermill": {
     "duration": 0.046216,
     "end_time": "2020-09-22T00:08:20.233771",
     "exception": false,
     "start_time": "2020-09-22T00:08:20.187555",
     "status": "completed"
    },
    "tags": []
   },
   "outputs": [],
   "source": [
    "data = Data(X_train, y_train.reshape(-1,1))\n",
    "sampler = Sampler(data, config.bs, shuffle=True)\n",
    "\n",
    "dl = Dataloader(data, sampler)\n",
    "\n",
    "opt = GD(config.lr)\n",
    "loss = MSE()"
   ]
  },
  {
   "cell_type": "code",
   "execution_count": 17,
   "metadata": {
    "execution": {
     "iopub.execute_input": "2020-09-22T00:08:20.299911Z",
     "iopub.status.busy": "2020-09-22T00:08:20.299307Z",
     "iopub.status.idle": "2020-09-22T00:08:20.310734Z",
     "shell.execute_reply": "2020-09-22T00:08:20.310217Z"
    },
    "papermill": {
     "duration": 0.048573,
     "end_time": "2020-09-22T00:08:20.310866",
     "exception": false,
     "start_time": "2020-09-22T00:08:20.262293",
     "status": "completed"
    },
    "tags": []
   },
   "outputs": [],
   "source": [
    "training_xdata = X_train\n",
    "testing_xdata = X_test\n",
    "training_ydata = y_train.reshape(-1,1)\n",
    "testing_ydata = y_test.reshape(-1,1)"
   ]
  },
  {
   "cell_type": "markdown",
   "metadata": {
    "papermill": {
     "duration": 0.028563,
     "end_time": "2020-09-22T00:08:20.368017",
     "exception": false,
     "start_time": "2020-09-22T00:08:20.339454",
     "status": "completed"
    },
    "tags": []
   },
   "source": [
    "### Running Models with the Training data\n",
    "Details about the network layers:\n",
    "- A first affine layer has 784 inputs and does 100 affine transforms. These are followed by a Relu\n",
    "- A second affine layer has 100 inputs from the 100 activations of the past layer, and does 100 affine transforms. These are followed by a Relu\n",
    "- A third affine layer has 100 activations and does 2 affine transformations to create an embedding for visualization. There is no non-linearity here.\n",
    "- A final \"logistic regression\" which has an affine transform from 2 inputs to 1 output, which is squeezed through a sigmoid.\n",
    "\n",
    "Help taken from Anshuman's Notebook."
   ]
  },
  {
   "cell_type": "code",
   "execution_count": 18,
   "metadata": {
    "execution": {
     "iopub.execute_input": "2020-09-22T00:08:20.431478Z",
     "iopub.status.busy": "2020-09-22T00:08:20.430871Z",
     "iopub.status.idle": "2020-09-22T00:08:20.448200Z",
     "shell.execute_reply": "2020-09-22T00:08:20.448683Z"
    },
    "papermill": {
     "duration": 0.05259,
     "end_time": "2020-09-22T00:08:20.448836",
     "exception": false,
     "start_time": "2020-09-22T00:08:20.396246",
     "status": "completed"
    },
    "tags": []
   },
   "outputs": [],
   "source": [
    "# layers for the Neural Network\n",
    "layers = [Affine(\"first\", 784, 100), Relu(\"first\"), Affine(\"second\", 100, 100), Relu(\"second\"), Affine(\"third\", 100, 2), Affine(\"final\", 2, 1), Sigmoid(\"final\")]\n",
    "model_nn = Model(layers)\n",
    "\n",
    "# layers for the Logistic Regression\n",
    "layers_lr = [Affine(\"logits\", 784, 1), Sigmoid(\"sigmoid\")]\n",
    "model_lr = Model(layers_lr)"
   ]
  },
  {
   "cell_type": "code",
   "execution_count": 19,
   "metadata": {
    "execution": {
     "iopub.execute_input": "2020-09-22T00:08:20.522183Z",
     "iopub.status.busy": "2020-09-22T00:08:20.516296Z",
     "iopub.status.idle": "2020-09-22T00:08:20.525517Z",
     "shell.execute_reply": "2020-09-22T00:08:20.525992Z"
    },
    "papermill": {
     "duration": 0.048713,
     "end_time": "2020-09-22T00:08:20.526146",
     "exception": false,
     "start_time": "2020-09-22T00:08:20.477433",
     "status": "completed"
    },
    "tags": []
   },
   "outputs": [],
   "source": [
    "# suffix _nn stands for Neural Network.\n",
    "learner_nn = Learner(loss, model_nn, opt, config.num_epochs)\n",
    "acc_nn = ClfCallback(learner_nn, config.bs, training_xdata , testing_xdata, training_ydata, testing_ydata)\n",
    "learner_nn.set_callbacks([acc_nn])"
   ]
  },
  {
   "cell_type": "code",
   "execution_count": 20,
   "metadata": {
    "execution": {
     "iopub.execute_input": "2020-09-22T00:08:20.588330Z",
     "iopub.status.busy": "2020-09-22T00:08:20.587737Z",
     "iopub.status.idle": "2020-09-22T00:09:49.683057Z",
     "shell.execute_reply": "2020-09-22T00:09:49.683853Z"
    },
    "papermill": {
     "duration": 89.129468,
     "end_time": "2020-09-22T00:09:49.684010",
     "exception": false,
     "start_time": "2020-09-22T00:08:20.554542",
     "status": "completed"
    },
    "tags": []
   },
   "outputs": [
    {
     "name": "stdout",
     "output_type": "stream",
     "text": [
      "====== Neural Network ======\n"
     ]
    },
    {
     "name": "stdout",
     "output_type": "stream",
     "text": [
      "Epoch 0, Loss 0.2417\n",
      "Training Accuracy: 0.7482, Testing Accuracy: 0.7873\n",
      "\n"
     ]
    },
    {
     "name": "stdout",
     "output_type": "stream",
     "text": [
      "Epoch 10, Loss 0.061\n",
      "Training Accuracy: 0.9381, Testing Accuracy: 0.9456\n",
      "\n"
     ]
    },
    {
     "name": "stdout",
     "output_type": "stream",
     "text": [
      "Epoch 20, Loss 0.0434\n",
      "Training Accuracy: 0.9526, Testing Accuracy: 0.9582\n",
      "\n"
     ]
    },
    {
     "name": "stdout",
     "output_type": "stream",
     "text": [
      "Epoch 30, Loss 0.0363\n",
      "Training Accuracy: 0.9599, Testing Accuracy: 0.9632\n",
      "\n"
     ]
    },
    {
     "name": "stdout",
     "output_type": "stream",
     "text": [
      "Epoch 40, Loss 0.0324\n",
      "Training Accuracy: 0.9643, Testing Accuracy: 0.9677\n",
      "\n"
     ]
    },
    {
     "name": "stdout",
     "output_type": "stream",
     "text": [
      "Epoch 50, Loss 0.0297\n",
      "Training Accuracy: 0.9662, Testing Accuracy: 0.9682\n",
      "\n"
     ]
    },
    {
     "name": "stdout",
     "output_type": "stream",
     "text": [
      "Epoch 60, Loss 0.0278\n",
      "Training Accuracy: 0.9680, Testing Accuracy: 0.9688\n",
      "\n"
     ]
    },
    {
     "name": "stdout",
     "output_type": "stream",
     "text": [
      "Epoch 70, Loss 0.0263\n",
      "Training Accuracy: 0.9695, Testing Accuracy: 0.9693\n",
      "\n"
     ]
    },
    {
     "name": "stdout",
     "output_type": "stream",
     "text": [
      "Epoch 80, Loss 0.0251\n",
      "Training Accuracy: 0.9710, Testing Accuracy: 0.9688\n",
      "\n"
     ]
    },
    {
     "name": "stdout",
     "output_type": "stream",
     "text": [
      "Epoch 90, Loss 0.0241\n",
      "Training Accuracy: 0.9727, Testing Accuracy: 0.9688\n",
      "\n"
     ]
    },
    {
     "name": "stdout",
     "output_type": "stream",
     "text": [
      "Epoch 100, Loss 0.0232\n",
      "Training Accuracy: 0.9734, Testing Accuracy: 0.9708\n",
      "\n"
     ]
    },
    {
     "name": "stdout",
     "output_type": "stream",
     "text": [
      "Epoch 110, Loss 0.0223\n",
      "Training Accuracy: 0.9742, Testing Accuracy: 0.9698\n",
      "\n"
     ]
    },
    {
     "name": "stdout",
     "output_type": "stream",
     "text": [
      "Epoch 120, Loss 0.0216\n",
      "Training Accuracy: 0.9751, Testing Accuracy: 0.9703\n",
      "\n"
     ]
    },
    {
     "name": "stdout",
     "output_type": "stream",
     "text": [
      "Epoch 130, Loss 0.021\n",
      "Training Accuracy: 0.9761, Testing Accuracy: 0.9703\n",
      "\n"
     ]
    },
    {
     "name": "stdout",
     "output_type": "stream",
     "text": [
      "Epoch 140, Loss 0.0203\n",
      "Training Accuracy: 0.9770, Testing Accuracy: 0.9703\n",
      "\n"
     ]
    },
    {
     "name": "stdout",
     "output_type": "stream",
     "text": [
      "Epoch 150, Loss 0.0198\n",
      "Training Accuracy: 0.9778, Testing Accuracy: 0.9703\n",
      "\n"
     ]
    },
    {
     "name": "stdout",
     "output_type": "stream",
     "text": [
      "Epoch 160, Loss 0.0192\n",
      "Training Accuracy: 0.9787, Testing Accuracy: 0.9708\n",
      "\n"
     ]
    },
    {
     "name": "stdout",
     "output_type": "stream",
     "text": [
      "Epoch 170, Loss 0.0187\n",
      "Training Accuracy: 0.9796, Testing Accuracy: 0.9708\n",
      "\n"
     ]
    },
    {
     "name": "stdout",
     "output_type": "stream",
     "text": [
      "Epoch 180, Loss 0.0183\n",
      "Training Accuracy: 0.9803, Testing Accuracy: 0.9708\n",
      "\n"
     ]
    },
    {
     "name": "stdout",
     "output_type": "stream",
     "text": [
      "Epoch 190, Loss 0.0178\n",
      "Training Accuracy: 0.9810, Testing Accuracy: 0.9703\n",
      "\n"
     ]
    },
    {
     "name": "stdout",
     "output_type": "stream",
     "text": [
      "Epoch 200, Loss 0.0174\n",
      "Training Accuracy: 0.9812, Testing Accuracy: 0.9718\n",
      "\n"
     ]
    },
    {
     "name": "stdout",
     "output_type": "stream",
     "text": [
      "Epoch 210, Loss 0.017\n",
      "Training Accuracy: 0.9816, Testing Accuracy: 0.9723\n",
      "\n"
     ]
    },
    {
     "name": "stdout",
     "output_type": "stream",
     "text": [
      "Epoch 220, Loss 0.0166\n",
      "Training Accuracy: 0.9821, Testing Accuracy: 0.9723\n",
      "\n"
     ]
    },
    {
     "name": "stdout",
     "output_type": "stream",
     "text": [
      "Epoch 230, Loss 0.0162\n",
      "Training Accuracy: 0.9826, Testing Accuracy: 0.9718\n",
      "\n"
     ]
    },
    {
     "name": "stdout",
     "output_type": "stream",
     "text": [
      "Epoch 240, Loss 0.0158\n",
      "Training Accuracy: 0.9831, Testing Accuracy: 0.9723\n",
      "\n"
     ]
    },
    {
     "name": "stdout",
     "output_type": "stream",
     "text": [
      "Epoch 250, Loss 0.0155\n",
      "Training Accuracy: 0.9836, Testing Accuracy: 0.9728\n",
      "\n"
     ]
    },
    {
     "data": {
      "text/plain": [
       "0.00494512700880379"
      ]
     },
     "execution_count": 20,
     "metadata": {},
     "output_type": "execute_result"
    }
   ],
   "source": [
    "print(\"====== Neural Network ======\")\n",
    "learner_nn.train_loop(dl)"
   ]
  },
  {
   "cell_type": "markdown",
   "metadata": {
    "papermill": {
     "duration": 0.034907,
     "end_time": "2020-09-22T00:09:49.756022",
     "exception": false,
     "start_time": "2020-09-22T00:09:49.721115",
     "status": "completed"
    },
    "tags": []
   },
   "source": [
    "### Logistic Regression based Implementation."
   ]
  },
  {
   "cell_type": "code",
   "execution_count": 21,
   "metadata": {
    "execution": {
     "iopub.execute_input": "2020-09-22T00:09:49.837049Z",
     "iopub.status.busy": "2020-09-22T00:09:49.833584Z",
     "iopub.status.idle": "2020-09-22T00:09:49.845917Z",
     "shell.execute_reply": "2020-09-22T00:09:49.845057Z"
    },
    "papermill": {
     "duration": 0.054981,
     "end_time": "2020-09-22T00:09:49.846040",
     "exception": false,
     "start_time": "2020-09-22T00:09:49.791059",
     "status": "completed"
    },
    "tags": []
   },
   "outputs": [],
   "source": [
    "learner_lr = Learner(loss, model_lr, opt, config.num_epochs)\n",
    "acc_lr = ClfCallback(learner_lr, config.bs, training_xdata , testing_xdata, training_ydata, testing_ydata)\n",
    "learner_lr.set_callbacks([acc_lr])"
   ]
  },
  {
   "cell_type": "code",
   "execution_count": 22,
   "metadata": {
    "execution": {
     "iopub.execute_input": "2020-09-22T00:09:49.921964Z",
     "iopub.status.busy": "2020-09-22T00:09:49.921054Z",
     "iopub.status.idle": "2020-09-22T00:10:05.787476Z",
     "shell.execute_reply": "2020-09-22T00:10:05.788176Z"
    },
    "papermill": {
     "duration": 15.907384,
     "end_time": "2020-09-22T00:10:05.788302",
     "exception": false,
     "start_time": "2020-09-22T00:09:49.880918",
     "status": "completed"
    },
    "tags": []
   },
   "outputs": [
    {
     "name": "stdout",
     "output_type": "stream",
     "text": [
      "====== Logistic Regression ======\n",
      "Epoch 0, Loss 0.2407\n",
      "Training Accuracy: 0.6798, Testing Accuracy: 0.7162\n",
      "\n"
     ]
    },
    {
     "name": "stdout",
     "output_type": "stream",
     "text": [
      "Epoch 10, Loss 0.1041\n",
      "Training Accuracy: 0.9076, Testing Accuracy: 0.9204\n",
      "\n"
     ]
    },
    {
     "name": "stdout",
     "output_type": "stream",
     "text": [
      "Epoch 20, Loss 0.0799\n",
      "Training Accuracy: 0.9262, Testing Accuracy: 0.9380\n",
      "\n"
     ]
    },
    {
     "name": "stdout",
     "output_type": "stream",
     "text": [
      "Epoch 30, Loss 0.0688\n",
      "Training Accuracy: 0.9352, Testing Accuracy: 0.9456\n",
      "\n"
     ]
    },
    {
     "name": "stdout",
     "output_type": "stream",
     "text": [
      "Epoch 40, Loss 0.0622\n",
      "Training Accuracy: 0.9402, Testing Accuracy: 0.9491\n",
      "\n"
     ]
    },
    {
     "name": "stdout",
     "output_type": "stream",
     "text": [
      "Epoch 50, Loss 0.0577\n",
      "Training Accuracy: 0.9435, Testing Accuracy: 0.9521\n",
      "\n"
     ]
    },
    {
     "name": "stdout",
     "output_type": "stream",
     "text": [
      "Epoch 60, Loss 0.0544\n",
      "Training Accuracy: 0.9452, Testing Accuracy: 0.9556\n",
      "\n"
     ]
    },
    {
     "name": "stdout",
     "output_type": "stream",
     "text": [
      "Epoch 70, Loss 0.0518\n",
      "Training Accuracy: 0.9475, Testing Accuracy: 0.9572\n",
      "\n"
     ]
    },
    {
     "name": "stdout",
     "output_type": "stream",
     "text": [
      "Epoch 80, Loss 0.0497\n",
      "Training Accuracy: 0.9493, Testing Accuracy: 0.9582\n",
      "\n"
     ]
    },
    {
     "name": "stdout",
     "output_type": "stream",
     "text": [
      "Epoch 90, Loss 0.048\n",
      "Training Accuracy: 0.9508, Testing Accuracy: 0.9607\n",
      "\n"
     ]
    },
    {
     "name": "stdout",
     "output_type": "stream",
     "text": [
      "Epoch 100, Loss 0.0466\n",
      "Training Accuracy: 0.9520, Testing Accuracy: 0.9612\n",
      "\n"
     ]
    },
    {
     "name": "stdout",
     "output_type": "stream",
     "text": [
      "Epoch 110, Loss 0.0454\n",
      "Training Accuracy: 0.9522, Testing Accuracy: 0.9622\n",
      "\n"
     ]
    },
    {
     "name": "stdout",
     "output_type": "stream",
     "text": [
      "Epoch 120, Loss 0.0443\n",
      "Training Accuracy: 0.9529, Testing Accuracy: 0.9622\n",
      "\n"
     ]
    },
    {
     "name": "stdout",
     "output_type": "stream",
     "text": [
      "Epoch 130, Loss 0.0434\n",
      "Training Accuracy: 0.9537, Testing Accuracy: 0.9622\n",
      "\n"
     ]
    },
    {
     "name": "stdout",
     "output_type": "stream",
     "text": [
      "Epoch 140, Loss 0.0425\n",
      "Training Accuracy: 0.9543, Testing Accuracy: 0.9632\n",
      "\n"
     ]
    },
    {
     "name": "stdout",
     "output_type": "stream",
     "text": [
      "Epoch 150, Loss 0.0418\n",
      "Training Accuracy: 0.9552, Testing Accuracy: 0.9637\n",
      "\n"
     ]
    },
    {
     "name": "stdout",
     "output_type": "stream",
     "text": [
      "Epoch 160, Loss 0.0411\n",
      "Training Accuracy: 0.9553, Testing Accuracy: 0.9647\n",
      "\n"
     ]
    },
    {
     "name": "stdout",
     "output_type": "stream",
     "text": [
      "Epoch 170, Loss 0.0404\n",
      "Training Accuracy: 0.9561, Testing Accuracy: 0.9652\n",
      "\n"
     ]
    },
    {
     "name": "stdout",
     "output_type": "stream",
     "text": [
      "Epoch 180, Loss 0.0399\n",
      "Training Accuracy: 0.9564, Testing Accuracy: 0.9652\n",
      "\n"
     ]
    },
    {
     "name": "stdout",
     "output_type": "stream",
     "text": [
      "Epoch 190, Loss 0.0393\n",
      "Training Accuracy: 0.9569, Testing Accuracy: 0.9657\n",
      "\n"
     ]
    },
    {
     "name": "stdout",
     "output_type": "stream",
     "text": [
      "Epoch 200, Loss 0.0389\n",
      "Training Accuracy: 0.9575, Testing Accuracy: 0.9662\n",
      "\n"
     ]
    },
    {
     "name": "stdout",
     "output_type": "stream",
     "text": [
      "Epoch 210, Loss 0.0384\n",
      "Training Accuracy: 0.9578, Testing Accuracy: 0.9667\n",
      "\n"
     ]
    },
    {
     "name": "stdout",
     "output_type": "stream",
     "text": [
      "Epoch 220, Loss 0.038\n",
      "Training Accuracy: 0.9583, Testing Accuracy: 0.9662\n",
      "\n"
     ]
    },
    {
     "name": "stdout",
     "output_type": "stream",
     "text": [
      "Epoch 230, Loss 0.0376\n",
      "Training Accuracy: 0.9589, Testing Accuracy: 0.9672\n",
      "\n"
     ]
    },
    {
     "name": "stdout",
     "output_type": "stream",
     "text": [
      "Epoch 240, Loss 0.0372\n",
      "Training Accuracy: 0.9591, Testing Accuracy: 0.9672\n",
      "\n"
     ]
    },
    {
     "name": "stdout",
     "output_type": "stream",
     "text": [
      "Epoch 250, Loss 0.0369\n",
      "Training Accuracy: 0.9594, Testing Accuracy: 0.9667\n",
      "\n"
     ]
    },
    {
     "data": {
      "text/plain": [
       "0.03140935098966051"
      ]
     },
     "execution_count": 22,
     "metadata": {},
     "output_type": "execute_result"
    }
   ],
   "source": [
    "print(\"====== Logistic Regression ======\")\n",
    "learner_lr.train_loop(dl)"
   ]
  },
  {
   "cell_type": "markdown",
   "metadata": {
    "papermill": {
     "duration": 0.034937,
     "end_time": "2020-09-22T00:10:05.864628",
     "exception": false,
     "start_time": "2020-09-22T00:10:05.829691",
     "status": "completed"
    },
    "tags": []
   },
   "source": [
    "### Comparing results of NN and LR"
   ]
  },
  {
   "cell_type": "code",
   "execution_count": 23,
   "metadata": {
    "execution": {
     "iopub.execute_input": "2020-09-22T00:10:05.948035Z",
     "iopub.status.busy": "2020-09-22T00:10:05.946996Z",
     "iopub.status.idle": "2020-09-22T00:10:06.154322Z",
     "shell.execute_reply": "2020-09-22T00:10:06.153882Z"
    },
    "papermill": {
     "duration": 0.253663,
     "end_time": "2020-09-22T00:10:06.154457",
     "exception": false,
     "start_time": "2020-09-22T00:10:05.900794",
     "status": "completed"
    },
    "tags": []
   },
   "outputs": [
    {
     "data": {
      "text/plain": [
       "<matplotlib.legend.Legend at 0x7f809e87a278>"
      ]
     },
     "execution_count": 23,
     "metadata": {},
     "output_type": "execute_result"
    },
    {
     "data": {
      "image/png": "[encoded data removed]",
      "text/plain": [
       "<Figure size 1080x720 with 1 Axes>"
      ]
     },
     "metadata": {
      "needs_background": "light"
     },
     "output_type": "display_data"
    }
   ],
   "source": [
    "plt.figure(figsize=(15,10))\n",
    "\n",
    "# Neural Network plots\n",
    "plt.plot(acc_nn.accuracies, 'r-', label = \"Training Accuracies - NN\")\n",
    "plt.plot(acc_nn.test_accuracies, 'g-', label = \"Testing Accuracies - NN\")\n",
    "\n",
    "# Logistic Regression plots\n",
    "plt.plot(acc_lr.accuracies, 'k-', label = \"Training Accuracies - LR\")\n",
    "plt.plot(acc_lr.test_accuracies, 'b-', label = \"Testing Accuracies - LR\")\n",
    "\n",
    "plt.ylim(0.8, 1)\n",
    "\n",
    "plt.legend()\n",
    "\n"
   ]
  },
  {
   "cell_type": "markdown",
   "metadata": {
    "papermill": {
     "duration": 0.036071,
     "end_time": "2020-09-22T00:10:06.232901",
     "exception": false,
     "start_time": "2020-09-22T00:10:06.196830",
     "status": "completed"
    },
    "tags": []
   },
   "source": [
    "### From the plot, we can observe the following:\n",
    "- Neural Network achieves higher accuracy than the Logistic Regression model.\n",
    "- This apparently, is because of overfitting, i.e. NN captures more noise than data.\n",
    "- Testing accuracy of NN drops below the Training accuracy at higher epochs. This explains the over-fitting on training data.\n",
    "- Logistic Regression gives a reliable accuracy, without the above mentioned problem.\n"
   ]
  },
  {
   "cell_type": "markdown",
   "metadata": {
    "papermill": {
     "duration": 0.044951,
     "end_time": "2020-09-22T00:10:06.322571",
     "exception": false,
     "start_time": "2020-09-22T00:10:06.277620",
     "status": "completed"
    },
    "tags": []
   },
   "source": [
    "### Moving till the last but one layer (excluding it).\n",
    "#### Plotting the outputs of this layer of the NN."
   ]
  },
  {
   "cell_type": "code",
   "execution_count": 24,
   "metadata": {
    "execution": {
     "iopub.execute_input": "2020-09-22T00:10:06.421153Z",
     "iopub.status.busy": "2020-09-22T00:10:06.418082Z",
     "iopub.status.idle": "2020-09-22T00:10:06.423816Z",
     "shell.execute_reply": "2020-09-22T00:10:06.423296Z"
    },
    "papermill": {
     "duration": 0.05834,
     "end_time": "2020-09-22T00:10:06.423940",
     "exception": false,
     "start_time": "2020-09-22T00:10:06.365600",
     "status": "completed"
    },
    "tags": []
   },
   "outputs": [],
   "source": [
    "model_new = Model(layers[:-2])"
   ]
  },
  {
   "cell_type": "code",
   "execution_count": 25,
   "metadata": {
    "execution": {
     "iopub.execute_input": "2020-09-22T00:10:06.518745Z",
     "iopub.status.busy": "2020-09-22T00:10:06.503684Z",
     "iopub.status.idle": "2020-09-22T00:10:06.535343Z",
     "shell.execute_reply": "2020-09-22T00:10:06.535976Z"
    },
    "papermill": {
     "duration": 0.072647,
     "end_time": "2020-09-22T00:10:06.536109",
     "exception": false,
     "start_time": "2020-09-22T00:10:06.463462",
     "status": "completed"
    },
    "tags": []
   },
   "outputs": [],
   "source": [
    "plot_testing = model_new(testing_xdata)"
   ]
  },
  {
   "cell_type": "code",
   "execution_count": 26,
   "metadata": {
    "execution": {
     "iopub.execute_input": "2020-09-22T00:10:06.630483Z",
     "iopub.status.busy": "2020-09-22T00:10:06.629900Z",
     "iopub.status.idle": "2020-09-22T00:10:06.804559Z",
     "shell.execute_reply": "2020-09-22T00:10:06.805024Z"
    },
    "papermill": {
     "duration": 0.228867,
     "end_time": "2020-09-22T00:10:06.805178",
     "exception": false,
     "start_time": "2020-09-22T00:10:06.576311",
     "status": "completed"
    },
    "tags": []
   },
   "outputs": [
    {
     "data": {
      "text/plain": [
       "Text(0.5, 1.0, 'Outputs')"
      ]
     },
     "execution_count": 26,
     "metadata": {},
     "output_type": "execute_result"
    },
    {
     "data": {
      "image/png": "[encoded data removed]",
      "text/plain": [
       "<Figure size 576x504 with 1 Axes>"
      ]
     },
     "metadata": {
      "needs_background": "light"
     },
     "output_type": "display_data"
    }
   ],
   "source": [
    "plt.figure(figsize=(8,7))\n",
    "plt.scatter(plot_testing[:,0], plot_testing[:,1], alpha = 0.1, c = y_test.ravel());\n",
    "plt.title('Outputs')"
   ]
  },
  {
   "cell_type": "markdown",
   "metadata": {
    "papermill": {
     "duration": 0.044611,
     "end_time": "2020-09-22T00:10:06.895825",
     "exception": false,
     "start_time": "2020-09-22T00:10:06.851214",
     "status": "completed"
    },
    "tags": []
   },
   "source": [
    "### Plotting probability contours"
   ]
  },
  {
   "cell_type": "code",
   "execution_count": 27,
   "metadata": {
    "execution": {
     "iopub.execute_input": "2020-09-22T00:10:06.987901Z",
     "iopub.status.busy": "2020-09-22T00:10:06.987296Z",
     "iopub.status.idle": "2020-09-22T00:10:07.001072Z",
     "shell.execute_reply": "2020-09-22T00:10:07.000536Z"
    },
    "papermill": {
     "duration": 0.060479,
     "end_time": "2020-09-22T00:10:07.001195",
     "exception": false,
     "start_time": "2020-09-22T00:10:06.940716",
     "status": "completed"
    },
    "tags": []
   },
   "outputs": [],
   "source": [
    "model_prob = Model(layers[-2:]) "
   ]
  },
  {
   "cell_type": "code",
   "execution_count": 28,
   "metadata": {
    "execution": {
     "iopub.execute_input": "2020-09-22T00:10:07.088813Z",
     "iopub.status.busy": "2020-09-22T00:10:07.088319Z",
     "iopub.status.idle": "2020-09-22T00:10:07.100087Z",
     "shell.execute_reply": "2020-09-22T00:10:07.100516Z"
    },
    "papermill": {
     "duration": 0.060261,
     "end_time": "2020-09-22T00:10:07.100656",
     "exception": false,
     "start_time": "2020-09-22T00:10:07.040395",
     "status": "completed"
    },
    "tags": []
   },
   "outputs": [],
   "source": [
    "# Adjust the x and y ranges according to the above generated plot.\n",
    "x_range = np.linspace(-4, 1, 100) \n",
    "y_range = np.linspace(-6, 6, 100) \n",
    "x_grid, y_grid = np.meshgrid(x_range, y_range) # x_grid and y_grig are of size 100 X 100\n",
    "\n",
    "# converting x_grid and y_grid to continuous arrays\n",
    "x_grid_flat = np.ravel(x_grid)\n",
    "y_grid_flat = np.ravel(y_grid)\n",
    "\n",
    "# The last layer of the current model takes two columns as input. Hence transpose of np.vstack() is required.\n",
    "X = np.vstack((x_grid_flat, y_grid_flat)).T\n",
    "\n",
    "# x_grid and y_grid are of size 100 x 100\n",
    "probability_contour = model_prob(X).reshape(100,100) "
   ]
  },
  {
   "cell_type": "code",
   "execution_count": 29,
   "metadata": {
    "execution": {
     "iopub.execute_input": "2020-09-22T00:10:07.194880Z",
     "iopub.status.busy": "2020-09-22T00:10:07.194293Z",
     "iopub.status.idle": "2020-09-22T00:10:07.404719Z",
     "shell.execute_reply": "2020-09-22T00:10:07.405113Z"
    },
    "papermill": {
     "duration": 0.266023,
     "end_time": "2020-09-22T00:10:07.405246",
     "exception": false,
     "start_time": "2020-09-22T00:10:07.139223",
     "status": "completed"
    },
    "tags": []
   },
   "outputs": [
    {
     "data": {
      "image/png": "[encoded data removed]",
      "text/plain": [
       "<Figure size 720x648 with 1 Axes>"
      ]
     },
     "metadata": {
      "needs_background": "light"
     },
     "output_type": "display_data"
    }
   ],
   "source": [
    "plt.figure(figsize=(10,9))\n",
    "plt.scatter(plot_testing[:,0], plot_testing[:,1], alpha = 0.1, c = y_test.ravel())\n",
    "contours = plt.contour(x_grid,y_grid,probability_contour)\n",
    "plt.title('Probability Contours')\n",
    "plt.clabel(contours, inline = True );"
   ]
  }
 ],
 "metadata": {
  "kernelspec": {
   "display_name": "Python 3",
   "language": "python",
   "name": "python3"
  },
  "language_info": {
   "codemirror_mode": {
    "name": "ipython",
    "version": 3
   },
   "file_extension": ".py",
   "mimetype": "text/x-python",
   "name": "python",
   "nbconvert_exporter": "python",
   "pygments_lexer": "ipython3",
   "version": "3.6.12"
  },
  "papermill": {
   "duration": 115.357908,
   "end_time": "2020-09-22T00:10:08.623467",
   "environment_variables": {},
   "exception": null,
   "input_path": "2020-08-11-NeuralNetwork.ipynb",
   "output_path": "2020-08-11-NeuralNetwork.ipynb",
   "parameters": {},
   "start_time": "2020-09-22T00:08:13.265559",
   "version": "2.1.2"
  }
 },
 "nbformat": 4,
 "nbformat_minor": 4
}