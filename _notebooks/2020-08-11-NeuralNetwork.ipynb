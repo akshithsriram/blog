{
 "cells": [
  {
   "cell_type": "markdown",
   "metadata": {
    "papermill": {
     "duration": 0.076871,
     "end_time": "2020-09-19T20:04:11.479747",
     "exception": false,
     "start_time": "2020-09-19T20:04:11.402876",
     "status": "completed"
    },
    "tags": []
   },
   "source": [
    "# \"A Basic Neural Network: Differentiate Hand-Written Digits\"\n",
    "\n",
    "- badges: true\n",
    "- author: Akshith Sriram"
   ]
  },
  {
   "cell_type": "markdown",
   "metadata": {
    "papermill": {
     "duration": 0.237442,
     "end_time": "2020-09-19T20:04:11.840186",
     "exception": false,
     "start_time": "2020-09-19T20:04:11.602744",
     "status": "completed"
    },
    "tags": []
   },
   "source": [
    "### Key Objectives:\n",
    "- Building a neural network that differentiates two hand-written digits 3 and 8.\n",
    "- Comparing the results of this Neural Network (NN) to that of a Logistic Regression (LR) model.\n",
    "\n",
    "### Requirements:\n",
    "- 'Kudzu' : A neural network library that was designed during our course by [Univ.AI](www.univ.ai). \n",
    "- MNIST Database\n",
    "\n",
    "If MNIST is not installed, use the command `!pip install mnist` given below.\n",
    "It can be run both from the command line and Jupyter Notebook."
   ]
  },
  {
   "cell_type": "code",
   "execution_count": 1,
   "metadata": {
    "execution": {
     "iopub.execute_input": "2020-09-19T20:04:11.905870Z",
     "iopub.status.busy": "2020-09-19T20:04:11.905217Z",
     "iopub.status.idle": "2020-09-19T20:04:13.404974Z",
     "shell.execute_reply": "2020-09-19T20:04:13.405461Z"
    },
    "papermill": {
     "duration": 1.536894,
     "end_time": "2020-09-19T20:04:13.405634",
     "exception": false,
     "start_time": "2020-09-19T20:04:11.868740",
     "status": "completed"
    },
    "tags": []
   },
   "outputs": [
    {
     "name": "stdout",
     "output_type": "stream",
     "text": [
      "Collecting mnist\r\n"
     ]
    },
    {
     "name": "stdout",
     "output_type": "stream",
     "text": [
      "  Downloading mnist-0.2.2-py2.py3-none-any.whl (3.5 kB)\r\n"
     ]
    },
    {
     "name": "stdout",
     "output_type": "stream",
     "text": [
      "Requirement already satisfied: numpy in /opt/hostedtoolcache/Python/3.6.12/x64/lib/python3.6/site-packages (from mnist) (1.19.2)\r\n"
     ]
    },
    {
     "name": "stdout",
     "output_type": "stream",
     "text": [
      "Installing collected packages: mnist\r\n",
      "Successfully installed mnist-0.2.2\r\n"
     ]
    }
   ],
   "source": [
    "!pip install mnist "
   ]
  },
  {
   "cell_type": "markdown",
   "metadata": {
    "papermill": {
     "duration": 0.026803,
     "end_time": "2020-09-19T20:04:13.462319",
     "exception": false,
     "start_time": "2020-09-19T20:04:13.435516",
     "status": "completed"
    },
    "tags": []
   },
   "source": [
    "#### Importing necessary libraries"
   ]
  },
  {
   "cell_type": "code",
   "execution_count": 2,
   "metadata": {
    "execution": {
     "iopub.execute_input": "2020-09-19T20:04:13.528266Z",
     "iopub.status.busy": "2020-09-19T20:04:13.527617Z",
     "iopub.status.idle": "2020-09-19T20:04:14.120584Z",
     "shell.execute_reply": "2020-09-19T20:04:14.121286Z"
    },
    "papermill": {
     "duration": 0.630491,
     "end_time": "2020-09-19T20:04:14.121560",
     "exception": false,
     "start_time": "2020-09-19T20:04:13.491069",
     "status": "completed"
    },
    "tags": []
   },
   "outputs": [],
   "source": [
    "%load_ext autoreload\n",
    "%autoreload 2\n",
    "\n",
    "%matplotlib inline\n",
    "import matplotlib.pyplot as plt\n",
    "\n",
    "import numpy as np\n",
    "import pandas as pd"
   ]
  },
  {
   "cell_type": "markdown",
   "metadata": {
    "papermill": {
     "duration": 0.029846,
     "end_time": "2020-09-19T20:04:14.180522",
     "exception": false,
     "start_time": "2020-09-19T20:04:14.150676",
     "status": "completed"
    },
    "tags": []
   },
   "source": [
    "### Preparing the Data"
   ]
  },
  {
   "cell_type": "code",
   "execution_count": 3,
   "metadata": {
    "execution": {
     "iopub.execute_input": "2020-09-19T20:04:14.243141Z",
     "iopub.status.busy": "2020-09-19T20:04:14.241746Z",
     "iopub.status.idle": "2020-09-19T20:04:14.253968Z",
     "shell.execute_reply": "2020-09-19T20:04:14.253432Z"
    },
    "papermill": {
     "duration": 0.046893,
     "end_time": "2020-09-19T20:04:14.254096",
     "exception": false,
     "start_time": "2020-09-19T20:04:14.207203",
     "status": "completed"
    },
    "tags": []
   },
   "outputs": [],
   "source": [
    "import mnist"
   ]
  },
  {
   "cell_type": "code",
   "execution_count": 4,
   "metadata": {
    "execution": {
     "iopub.execute_input": "2020-09-19T20:04:14.310842Z",
     "iopub.status.busy": "2020-09-19T20:04:14.310158Z",
     "iopub.status.idle": "2020-09-19T20:04:16.091433Z",
     "shell.execute_reply": "2020-09-19T20:04:16.090842Z"
    },
    "papermill": {
     "duration": 1.810657,
     "end_time": "2020-09-19T20:04:16.091600",
     "exception": false,
     "start_time": "2020-09-19T20:04:14.280943",
     "status": "completed"
    },
    "tags": []
   },
   "outputs": [],
   "source": [
    "train_images = mnist.train_images()\n",
    "train_labels = mnist.train_labels()"
   ]
  },
  {
   "cell_type": "code",
   "execution_count": 5,
   "metadata": {
    "execution": {
     "iopub.execute_input": "2020-09-19T20:04:16.156055Z",
     "iopub.status.busy": "2020-09-19T20:04:16.155308Z",
     "iopub.status.idle": "2020-09-19T20:04:16.173648Z",
     "shell.execute_reply": "2020-09-19T20:04:16.174227Z"
    },
    "papermill": {
     "duration": 0.053275,
     "end_time": "2020-09-19T20:04:16.174396",
     "exception": false,
     "start_time": "2020-09-19T20:04:16.121121",
     "status": "completed"
    },
    "tags": []
   },
   "outputs": [
    {
     "data": {
      "text/plain": [
       "((60000, 28, 28), (60000,))"
      ]
     },
     "execution_count": 5,
     "metadata": {},
     "output_type": "execute_result"
    }
   ],
   "source": [
    "train_images.shape, train_labels.shape"
   ]
  },
  {
   "cell_type": "code",
   "execution_count": 6,
   "metadata": {
    "execution": {
     "iopub.execute_input": "2020-09-19T20:04:16.234316Z",
     "iopub.status.busy": "2020-09-19T20:04:16.233566Z",
     "iopub.status.idle": "2020-09-19T20:04:17.129787Z",
     "shell.execute_reply": "2020-09-19T20:04:17.130356Z"
    },
    "papermill": {
     "duration": 0.927751,
     "end_time": "2020-09-19T20:04:17.130586",
     "exception": false,
     "start_time": "2020-09-19T20:04:16.202835",
     "status": "completed"
    },
    "tags": []
   },
   "outputs": [],
   "source": [
    "test_images = mnist.test_images()\n",
    "test_labels = mnist.test_labels()"
   ]
  },
  {
   "cell_type": "code",
   "execution_count": 7,
   "metadata": {
    "execution": {
     "iopub.execute_input": "2020-09-19T20:04:17.346396Z",
     "iopub.status.busy": "2020-09-19T20:04:17.345629Z",
     "iopub.status.idle": "2020-09-19T20:04:17.364686Z",
     "shell.execute_reply": "2020-09-19T20:04:17.364182Z"
    },
    "papermill": {
     "duration": 0.200168,
     "end_time": "2020-09-19T20:04:17.364820",
     "exception": false,
     "start_time": "2020-09-19T20:04:17.164652",
     "status": "completed"
    },
    "tags": []
   },
   "outputs": [
    {
     "data": {
      "text/plain": [
       "((10000, 28, 28), (10000,))"
      ]
     },
     "execution_count": 7,
     "metadata": {},
     "output_type": "execute_result"
    }
   ],
   "source": [
    "test_images.shape, test_labels.shape"
   ]
  },
  {
   "cell_type": "code",
   "execution_count": 8,
   "metadata": {
    "execution": {
     "iopub.execute_input": "2020-09-19T20:04:17.428655Z",
     "iopub.status.busy": "2020-09-19T20:04:17.428025Z",
     "iopub.status.idle": "2020-09-19T20:04:17.601556Z",
     "shell.execute_reply": "2020-09-19T20:04:17.600981Z"
    },
    "papermill": {
     "duration": 0.208393,
     "end_time": "2020-09-19T20:04:17.601680",
     "exception": false,
     "start_time": "2020-09-19T20:04:17.393287",
     "status": "completed"
    },
    "tags": []
   },
   "outputs": [
    {
     "name": "stdout",
     "output_type": "stream",
     "text": [
      "2\n"
     ]
    },
    {
     "data": {
      "text/plain": [
       "<matplotlib.image.AxesImage at 0x7f7ad9dbb7b8>"
      ]
     },
     "execution_count": 8,
     "metadata": {},
     "output_type": "execute_result"
    },
    {
     "data": {
      "image/png": "[encoded data removed]",
      "text/plain": [
       "<Figure size 432x288 with 1 Axes>"
      ]
     },
     "metadata": {
      "needs_background": "light"
     },
     "output_type": "display_data"
    }
   ],
   "source": [
    "image_index = 7776 # You may select anything up to 60,000\n",
    "print(train_labels[image_index]) \n",
    "plt.imshow(train_images[image_index], cmap='Greys')"
   ]
  },
  {
   "cell_type": "markdown",
   "metadata": {
    "papermill": {
     "duration": 0.042951,
     "end_time": "2020-09-19T20:04:17.674994",
     "exception": false,
     "start_time": "2020-09-19T20:04:17.632043",
     "status": "completed"
    },
    "tags": []
   },
   "source": [
    "## Filter data to get 3 and 8 out"
   ]
  },
  {
   "cell_type": "code",
   "execution_count": 9,
   "metadata": {
    "execution": {
     "iopub.execute_input": "2020-09-19T20:04:17.750963Z",
     "iopub.status.busy": "2020-09-19T20:04:17.744244Z",
     "iopub.status.idle": "2020-09-19T20:04:17.763704Z",
     "shell.execute_reply": "2020-09-19T20:04:17.763216Z"
    },
    "papermill": {
     "duration": 0.058217,
     "end_time": "2020-09-19T20:04:17.763839",
     "exception": false,
     "start_time": "2020-09-19T20:04:17.705622",
     "status": "completed"
    },
    "tags": []
   },
   "outputs": [],
   "source": [
    "train_filter = np.where((train_labels == 3 ) | (train_labels == 8))\n",
    "test_filter = np.where((test_labels == 3) | (test_labels == 8))\n",
    "X_train, y_train = train_images[train_filter], train_labels[train_filter]\n",
    "X_test, y_test = test_images[test_filter], test_labels[test_filter]"
   ]
  },
  {
   "cell_type": "markdown",
   "metadata": {
    "papermill": {
     "duration": 0.028867,
     "end_time": "2020-09-19T20:04:17.823003",
     "exception": false,
     "start_time": "2020-09-19T20:04:17.794136",
     "status": "completed"
    },
    "tags": []
   },
   "source": [
    "We normalize the pixel values in the 0 to 1 range"
   ]
  },
  {
   "cell_type": "code",
   "execution_count": 10,
   "metadata": {
    "execution": {
     "iopub.execute_input": "2020-09-19T20:04:17.892590Z",
     "iopub.status.busy": "2020-09-19T20:04:17.891957Z",
     "iopub.status.idle": "2020-09-19T20:04:17.958012Z",
     "shell.execute_reply": "2020-09-19T20:04:17.957398Z"
    },
    "papermill": {
     "duration": 0.105161,
     "end_time": "2020-09-19T20:04:17.958168",
     "exception": false,
     "start_time": "2020-09-19T20:04:17.853007",
     "status": "completed"
    },
    "tags": []
   },
   "outputs": [],
   "source": [
    "X_train = X_train/255.\n",
    "X_test = X_test/255."
   ]
  },
  {
   "cell_type": "markdown",
   "metadata": {
    "papermill": {
     "duration": 0.029731,
     "end_time": "2020-09-19T20:04:18.020999",
     "exception": false,
     "start_time": "2020-09-19T20:04:17.991268",
     "status": "completed"
    },
    "tags": []
   },
   "source": [
    "Setup the labels as 1 (when the digit is 3) and 0 (when the digit is 8)"
   ]
  },
  {
   "cell_type": "code",
   "execution_count": 11,
   "metadata": {
    "execution": {
     "iopub.execute_input": "2020-09-19T20:04:18.088493Z",
     "iopub.status.busy": "2020-09-19T20:04:18.087779Z",
     "iopub.status.idle": "2020-09-19T20:04:18.101839Z",
     "shell.execute_reply": "2020-09-19T20:04:18.101361Z"
    },
    "papermill": {
     "duration": 0.052459,
     "end_time": "2020-09-19T20:04:18.101984",
     "exception": false,
     "start_time": "2020-09-19T20:04:18.049525",
     "status": "completed"
    },
    "tags": []
   },
   "outputs": [],
   "source": [
    "y_train = 1*(y_train==3)\n",
    "y_test = 1*(y_test==3)"
   ]
  },
  {
   "cell_type": "code",
   "execution_count": 12,
   "metadata": {
    "execution": {
     "iopub.execute_input": "2020-09-19T20:04:18.167860Z",
     "iopub.status.busy": "2020-09-19T20:04:18.167272Z",
     "iopub.status.idle": "2020-09-19T20:04:18.181480Z",
     "shell.execute_reply": "2020-09-19T20:04:18.180291Z"
    },
    "papermill": {
     "duration": 0.049784,
     "end_time": "2020-09-19T20:04:18.181627",
     "exception": false,
     "start_time": "2020-09-19T20:04:18.131843",
     "status": "completed"
    },
    "tags": []
   },
   "outputs": [
    {
     "data": {
      "text/plain": [
       "((11982, 28, 28), (1984, 28, 28))"
      ]
     },
     "execution_count": 12,
     "metadata": {},
     "output_type": "execute_result"
    }
   ],
   "source": [
    "X_train.shape, X_test.shape"
   ]
  },
  {
   "cell_type": "markdown",
   "metadata": {
    "papermill": {
     "duration": 0.036436,
     "end_time": "2020-09-19T20:04:18.251141",
     "exception": false,
     "start_time": "2020-09-19T20:04:18.214705",
     "status": "completed"
    },
    "tags": []
   },
   "source": [
    "### Reshape the input data to create a linear array"
   ]
  },
  {
   "cell_type": "code",
   "execution_count": 13,
   "metadata": {
    "execution": {
     "iopub.execute_input": "2020-09-19T20:04:18.319795Z",
     "iopub.status.busy": "2020-09-19T20:04:18.319196Z",
     "iopub.status.idle": "2020-09-19T20:04:18.332762Z",
     "shell.execute_reply": "2020-09-19T20:04:18.332201Z"
    },
    "papermill": {
     "duration": 0.049759,
     "end_time": "2020-09-19T20:04:18.332929",
     "exception": false,
     "start_time": "2020-09-19T20:04:18.283170",
     "status": "completed"
    },
    "tags": []
   },
   "outputs": [
    {
     "data": {
      "text/plain": [
       "((11982, 784), (1984, 784))"
      ]
     },
     "execution_count": 13,
     "metadata": {},
     "output_type": "execute_result"
    }
   ],
   "source": [
    "X_train = X_train.reshape(X_train.shape[0], -1)\n",
    "X_test = X_test.reshape(X_test.shape[0], -1)\n",
    "X_train.shape, X_test.shape"
   ]
  },
  {
   "cell_type": "markdown",
   "metadata": {
    "papermill": {
     "duration": 0.033248,
     "end_time": "2020-09-19T20:04:18.397462",
     "exception": false,
     "start_time": "2020-09-19T20:04:18.364214",
     "status": "completed"
    },
    "tags": []
   },
   "source": [
    "### Importing appropriate functions from 'Kudzu'"
   ]
  },
  {
   "cell_type": "code",
   "execution_count": 14,
   "metadata": {
    "execution": {
     "iopub.execute_input": "2020-09-19T20:04:18.465012Z",
     "iopub.status.busy": "2020-09-19T20:04:18.464240Z",
     "iopub.status.idle": "2020-09-19T20:04:18.485280Z",
     "shell.execute_reply": "2020-09-19T20:04:18.485780Z"
    },
    "papermill": {
     "duration": 0.059369,
     "end_time": "2020-09-19T20:04:18.485925",
     "exception": false,
     "start_time": "2020-09-19T20:04:18.426556",
     "status": "completed"
    },
    "tags": []
   },
   "outputs": [],
   "source": [
    "from kudzu.layer import Sigmoid\n",
    "from kudzu.layer import Relu\n",
    "from kudzu.layer import Affine, Sigmoid\n",
    "\n",
    "from kudzu.model import Model\n",
    "from kudzu.train import Learner\n",
    "from kudzu.optim import GD\n",
    "from kudzu.data import Data, Dataloader, Sampler\n",
    "\n",
    "from kudzu.callbacks import AccCallback\n",
    "from kudzu.callbacks import ClfCallback\n",
    "\n",
    "from kudzu.loss import MSE"
   ]
  },
  {
   "cell_type": "markdown",
   "metadata": {
    "papermill": {
     "duration": 0.033903,
     "end_time": "2020-09-19T20:04:18.550750",
     "exception": false,
     "start_time": "2020-09-19T20:04:18.516847",
     "status": "completed"
    },
    "tags": []
   },
   "source": [
    "### Let us create a `Config` class, to store important parameters. \n",
    "This class essentially plays the role of a dictionary."
   ]
  },
  {
   "cell_type": "code",
   "execution_count": 15,
   "metadata": {
    "execution": {
     "iopub.execute_input": "2020-09-19T20:04:18.619186Z",
     "iopub.status.busy": "2020-09-19T20:04:18.618397Z",
     "iopub.status.idle": "2020-09-19T20:04:18.629751Z",
     "shell.execute_reply": "2020-09-19T20:04:18.630344Z"
    },
    "papermill": {
     "duration": 0.049807,
     "end_time": "2020-09-19T20:04:18.630488",
     "exception": false,
     "start_time": "2020-09-19T20:04:18.580681",
     "status": "completed"
    },
    "tags": []
   },
   "outputs": [],
   "source": [
    "class Config:\n",
    "    pass\n",
    "config = Config()\n",
    "config.lr = 0.001\n",
    "config.num_epochs = 251\n",
    "config.bs = 50"
   ]
  },
  {
   "cell_type": "markdown",
   "metadata": {
    "papermill": {
     "duration": 0.038092,
     "end_time": "2020-09-19T20:04:18.699097",
     "exception": false,
     "start_time": "2020-09-19T20:04:18.661005",
     "status": "completed"
    },
    "tags": []
   },
   "source": [
    "### Initializing data to the variables"
   ]
  },
  {
   "cell_type": "code",
   "execution_count": 16,
   "metadata": {
    "execution": {
     "iopub.execute_input": "2020-09-19T20:04:18.776631Z",
     "iopub.status.busy": "2020-09-19T20:04:18.775836Z",
     "iopub.status.idle": "2020-09-19T20:04:18.785035Z",
     "shell.execute_reply": "2020-09-19T20:04:18.785675Z"
    },
    "papermill": {
     "duration": 0.055617,
     "end_time": "2020-09-19T20:04:18.785961",
     "exception": false,
     "start_time": "2020-09-19T20:04:18.730344",
     "status": "completed"
    },
    "tags": []
   },
   "outputs": [],
   "source": [
    "data = Data(X_train, y_train.reshape(-1,1))\n",
    "sampler = Sampler(data, config.bs, shuffle=True)\n",
    "\n",
    "dl = Dataloader(data, sampler)\n",
    "\n",
    "opt = GD(config.lr)\n",
    "loss = MSE()"
   ]
  },
  {
   "cell_type": "code",
   "execution_count": 17,
   "metadata": {
    "execution": {
     "iopub.execute_input": "2020-09-19T20:04:18.858779Z",
     "iopub.status.busy": "2020-09-19T20:04:18.853478Z",
     "iopub.status.idle": "2020-09-19T20:04:18.866459Z",
     "shell.execute_reply": "2020-09-19T20:04:18.865341Z"
    },
    "papermill": {
     "duration": 0.049985,
     "end_time": "2020-09-19T20:04:18.866631",
     "exception": false,
     "start_time": "2020-09-19T20:04:18.816646",
     "status": "completed"
    },
    "tags": []
   },
   "outputs": [],
   "source": [
    "training_xdata = X_train\n",
    "testing_xdata = X_test\n",
    "training_ydata = y_train.reshape(-1,1)\n",
    "testing_ydata = y_test.reshape(-1,1)"
   ]
  },
  {
   "cell_type": "markdown",
   "metadata": {
    "papermill": {
     "duration": 0.034496,
     "end_time": "2020-09-19T20:04:18.934588",
     "exception": false,
     "start_time": "2020-09-19T20:04:18.900092",
     "status": "completed"
    },
    "tags": []
   },
   "source": [
    "### Running Models with the Training data\n",
    "Details about the network layers:\n",
    "- A first affine layer has 784 inputs and does 100 affine transforms. These are followed by a Relu\n",
    "- A second affine layer has 100 inputs from the 100 activations of the past layer, and does 100 affine transforms. These are followed by a Relu\n",
    "- A third affine layer has 100 activations and does 2 affine transformations to create an embedding for visualization. There is no non-linearity here.\n",
    "- A final \"logistic regression\" which has an affine transform from 2 inputs to 1 output, which is squeezed through a sigmoid.\n",
    "\n",
    "Help taken from Anshuman's Notebook."
   ]
  },
  {
   "cell_type": "code",
   "execution_count": 18,
   "metadata": {
    "execution": {
     "iopub.execute_input": "2020-09-19T20:04:19.004848Z",
     "iopub.status.busy": "2020-09-19T20:04:19.004211Z",
     "iopub.status.idle": "2020-09-19T20:04:19.019476Z",
     "shell.execute_reply": "2020-09-19T20:04:19.018980Z"
    },
    "papermill": {
     "duration": 0.054012,
     "end_time": "2020-09-19T20:04:19.019601",
     "exception": false,
     "start_time": "2020-09-19T20:04:18.965589",
     "status": "completed"
    },
    "tags": []
   },
   "outputs": [],
   "source": [
    "# layers for the Neural Network\n",
    "layers = [Affine(\"first\", 784, 100), Relu(\"first\"), Affine(\"second\", 100, 100), Relu(\"second\"), Affine(\"third\", 100, 2), Affine(\"final\", 2, 1), Sigmoid(\"final\")]\n",
    "model_nn = Model(layers)\n",
    "\n",
    "# layers for the Logistic Regression\n",
    "layers_lr = [Affine(\"logits\", 784, 1), Sigmoid(\"sigmoid\")]\n",
    "model_lr = Model(layers_lr)"
   ]
  },
  {
   "cell_type": "code",
   "execution_count": 19,
   "metadata": {
    "execution": {
     "iopub.execute_input": "2020-09-19T20:04:19.089011Z",
     "iopub.status.busy": "2020-09-19T20:04:19.088417Z",
     "iopub.status.idle": "2020-09-19T20:04:19.098092Z",
     "shell.execute_reply": "2020-09-19T20:04:19.097525Z"
    },
    "papermill": {
     "duration": 0.048461,
     "end_time": "2020-09-19T20:04:19.098292",
     "exception": false,
     "start_time": "2020-09-19T20:04:19.049831",
     "status": "completed"
    },
    "tags": []
   },
   "outputs": [],
   "source": [
    "# suffix _nn stands for Neural Network.\n",
    "learner_nn = Learner(loss, model_nn, opt, config.num_epochs)\n",
    "acc_nn = ClfCallback(learner_nn, config.bs, training_xdata , testing_xdata, training_ydata, testing_ydata)\n",
    "learner_nn.set_callbacks([acc_nn])"
   ]
  },
  {
   "cell_type": "code",
   "execution_count": 20,
   "metadata": {
    "execution": {
     "iopub.execute_input": "2020-09-19T20:04:19.177516Z",
     "iopub.status.busy": "2020-09-19T20:04:19.166912Z",
     "iopub.status.idle": "2020-09-19T20:06:39.951798Z",
     "shell.execute_reply": "2020-09-19T20:06:39.952757Z"
    },
    "papermill": {
     "duration": 140.823874,
     "end_time": "2020-09-19T20:06:39.952981",
     "exception": false,
     "start_time": "2020-09-19T20:04:19.129107",
     "status": "completed"
    },
    "tags": []
   },
   "outputs": [
    {
     "name": "stdout",
     "output_type": "stream",
     "text": [
      "====== Neural Network ======\n"
     ]
    },
    {
     "name": "stdout",
     "output_type": "stream",
     "text": [
      "Epoch 0, Loss 0.2492\n",
      "Training Accuracy: 0.6484, Testing Accuracy: 0.6557\n",
      "\n"
     ]
    },
    {
     "name": "stdout",
     "output_type": "stream",
     "text": [
      "Epoch 10, Loss 0.0828\n",
      "Training Accuracy: 0.9194, Testing Accuracy: 0.9375\n",
      "\n"
     ]
    },
    {
     "name": "stdout",
     "output_type": "stream",
     "text": [
      "Epoch 20, Loss 0.0502\n",
      "Training Accuracy: 0.9488, Testing Accuracy: 0.9612\n",
      "\n"
     ]
    },
    {
     "name": "stdout",
     "output_type": "stream",
     "text": [
      "Epoch 30, Loss 0.04\n",
      "Training Accuracy: 0.9579, Testing Accuracy: 0.9682\n",
      "\n"
     ]
    },
    {
     "name": "stdout",
     "output_type": "stream",
     "text": [
      "Epoch 40, Loss 0.0352\n",
      "Training Accuracy: 0.9616, Testing Accuracy: 0.9682\n",
      "\n"
     ]
    },
    {
     "name": "stdout",
     "output_type": "stream",
     "text": [
      "Epoch 50, Loss 0.0322\n",
      "Training Accuracy: 0.9631, Testing Accuracy: 0.9688\n",
      "\n"
     ]
    },
    {
     "name": "stdout",
     "output_type": "stream",
     "text": [
      "Epoch 60, Loss 0.0302\n",
      "Training Accuracy: 0.9646, Testing Accuracy: 0.9698\n",
      "\n"
     ]
    },
    {
     "name": "stdout",
     "output_type": "stream",
     "text": [
      "Epoch 70, Loss 0.0287\n",
      "Training Accuracy: 0.9658, Testing Accuracy: 0.9698\n",
      "\n"
     ]
    },
    {
     "name": "stdout",
     "output_type": "stream",
     "text": [
      "Epoch 80, Loss 0.0275\n",
      "Training Accuracy: 0.9669, Testing Accuracy: 0.9703\n",
      "\n"
     ]
    },
    {
     "name": "stdout",
     "output_type": "stream",
     "text": [
      "Epoch 90, Loss 0.0264\n",
      "Training Accuracy: 0.9685, Testing Accuracy: 0.9718\n",
      "\n"
     ]
    },
    {
     "name": "stdout",
     "output_type": "stream",
     "text": [
      "Epoch 100, Loss 0.0256\n",
      "Training Accuracy: 0.9698, Testing Accuracy: 0.9723\n",
      "\n"
     ]
    },
    {
     "name": "stdout",
     "output_type": "stream",
     "text": [
      "Epoch 110, Loss 0.0248\n",
      "Training Accuracy: 0.9706, Testing Accuracy: 0.9713\n",
      "\n"
     ]
    },
    {
     "name": "stdout",
     "output_type": "stream",
     "text": [
      "Epoch 120, Loss 0.0241\n",
      "Training Accuracy: 0.9724, Testing Accuracy: 0.9713\n",
      "\n"
     ]
    },
    {
     "name": "stdout",
     "output_type": "stream",
     "text": [
      "Epoch 130, Loss 0.0235\n",
      "Training Accuracy: 0.9730, Testing Accuracy: 0.9713\n",
      "\n"
     ]
    },
    {
     "name": "stdout",
     "output_type": "stream",
     "text": [
      "Epoch 140, Loss 0.0229\n",
      "Training Accuracy: 0.9740, Testing Accuracy: 0.9718\n",
      "\n"
     ]
    },
    {
     "name": "stdout",
     "output_type": "stream",
     "text": [
      "Epoch 150, Loss 0.0224\n",
      "Training Accuracy: 0.9744, Testing Accuracy: 0.9728\n",
      "\n"
     ]
    },
    {
     "name": "stdout",
     "output_type": "stream",
     "text": [
      "Epoch 160, Loss 0.0219\n",
      "Training Accuracy: 0.9752, Testing Accuracy: 0.9733\n",
      "\n"
     ]
    },
    {
     "name": "stdout",
     "output_type": "stream",
     "text": [
      "Epoch 170, Loss 0.0214\n",
      "Training Accuracy: 0.9757, Testing Accuracy: 0.9728\n",
      "\n"
     ]
    },
    {
     "name": "stdout",
     "output_type": "stream",
     "text": [
      "Epoch 180, Loss 0.021\n",
      "Training Accuracy: 0.9761, Testing Accuracy: 0.9728\n",
      "\n"
     ]
    },
    {
     "name": "stdout",
     "output_type": "stream",
     "text": [
      "Epoch 190, Loss 0.0206\n",
      "Training Accuracy: 0.9765, Testing Accuracy: 0.9728\n",
      "\n"
     ]
    },
    {
     "name": "stdout",
     "output_type": "stream",
     "text": [
      "Epoch 200, Loss 0.0202\n",
      "Training Accuracy: 0.9770, Testing Accuracy: 0.9728\n",
      "\n"
     ]
    },
    {
     "name": "stdout",
     "output_type": "stream",
     "text": [
      "Epoch 210, Loss 0.0198\n",
      "Training Accuracy: 0.9775, Testing Accuracy: 0.9733\n",
      "\n"
     ]
    },
    {
     "name": "stdout",
     "output_type": "stream",
     "text": [
      "Epoch 220, Loss 0.0194\n",
      "Training Accuracy: 0.9780, Testing Accuracy: 0.9723\n",
      "\n"
     ]
    },
    {
     "name": "stdout",
     "output_type": "stream",
     "text": [
      "Epoch 230, Loss 0.0191\n",
      "Training Accuracy: 0.9786, Testing Accuracy: 0.9743\n",
      "\n"
     ]
    },
    {
     "name": "stdout",
     "output_type": "stream",
     "text": [
      "Epoch 240, Loss 0.0188\n",
      "Training Accuracy: 0.9786, Testing Accuracy: 0.9733\n",
      "\n"
     ]
    },
    {
     "name": "stdout",
     "output_type": "stream",
     "text": [
      "Epoch 250, Loss 0.0184\n",
      "Training Accuracy: 0.9788, Testing Accuracy: 0.9733\n",
      "\n"
     ]
    },
    {
     "data": {
      "text/plain": [
       "0.019672065617461897"
      ]
     },
     "execution_count": 20,
     "metadata": {},
     "output_type": "execute_result"
    }
   ],
   "source": [
    "print(\"====== Neural Network ======\")\n",
    "learner_nn.train_loop(dl)"
   ]
  },
  {
   "cell_type": "markdown",
   "metadata": {
    "papermill": {
     "duration": 0.04064,
     "end_time": "2020-09-19T20:06:40.037967",
     "exception": false,
     "start_time": "2020-09-19T20:06:39.997327",
     "status": "completed"
    },
    "tags": []
   },
   "source": [
    "### Logistic Regression based Implementation."
   ]
  },
  {
   "cell_type": "code",
   "execution_count": 21,
   "metadata": {
    "execution": {
     "iopub.execute_input": "2020-09-19T20:06:40.128798Z",
     "iopub.status.busy": "2020-09-19T20:06:40.127328Z",
     "iopub.status.idle": "2020-09-19T20:06:40.154021Z",
     "shell.execute_reply": "2020-09-19T20:06:40.154602Z"
    },
    "papermill": {
     "duration": 0.075258,
     "end_time": "2020-09-19T20:06:40.154767",
     "exception": false,
     "start_time": "2020-09-19T20:06:40.079509",
     "status": "completed"
    },
    "tags": []
   },
   "outputs": [],
   "source": [
    "learner_lr = Learner(loss, model_lr, opt, config.num_epochs)\n",
    "acc_lr = ClfCallback(learner_lr, config.bs, training_xdata , testing_xdata, training_ydata, testing_ydata)\n",
    "learner_lr.set_callbacks([acc_lr])"
   ]
  },
  {
   "cell_type": "code",
   "execution_count": 22,
   "metadata": {
    "execution": {
     "iopub.execute_input": "2020-09-19T20:06:40.257357Z",
     "iopub.status.busy": "2020-09-19T20:06:40.256753Z",
     "iopub.status.idle": "2020-09-19T20:07:01.110733Z",
     "shell.execute_reply": "2020-09-19T20:07:01.111495Z"
    },
    "papermill": {
     "duration": 20.899197,
     "end_time": "2020-09-19T20:07:01.111695",
     "exception": false,
     "start_time": "2020-09-19T20:06:40.212498",
     "status": "completed"
    },
    "tags": []
   },
   "outputs": [
    {
     "name": "stdout",
     "output_type": "stream",
     "text": [
      "====== Logistic Regression ======\n",
      "Epoch 0, Loss 0.2391\n",
      "Training Accuracy: 0.6879, Testing Accuracy: 0.6935\n",
      "\n"
     ]
    },
    {
     "name": "stdout",
     "output_type": "stream",
     "text": [
      "Epoch 10, Loss 0.1055\n",
      "Training Accuracy: 0.8999, Testing Accuracy: 0.9062\n",
      "\n"
     ]
    },
    {
     "name": "stdout",
     "output_type": "stream",
     "text": [
      "Epoch 20, Loss 0.081\n",
      "Training Accuracy: 0.9226, Testing Accuracy: 0.9340\n",
      "\n"
     ]
    },
    {
     "name": "stdout",
     "output_type": "stream",
     "text": [
      "Epoch 30, Loss 0.0695\n",
      "Training Accuracy: 0.9325, Testing Accuracy: 0.9420\n",
      "\n"
     ]
    },
    {
     "name": "stdout",
     "output_type": "stream",
     "text": [
      "Epoch 40, Loss 0.0626\n",
      "Training Accuracy: 0.9395, Testing Accuracy: 0.9471\n",
      "\n"
     ]
    },
    {
     "name": "stdout",
     "output_type": "stream",
     "text": [
      "Epoch 50, Loss 0.0579\n",
      "Training Accuracy: 0.9435, Testing Accuracy: 0.9501\n",
      "\n"
     ]
    },
    {
     "name": "stdout",
     "output_type": "stream",
     "text": [
      "Epoch 60, Loss 0.0545\n",
      "Training Accuracy: 0.9465, Testing Accuracy: 0.9556\n",
      "\n"
     ]
    },
    {
     "name": "stdout",
     "output_type": "stream",
     "text": [
      "Epoch 70, Loss 0.0518\n",
      "Training Accuracy: 0.9483, Testing Accuracy: 0.9551\n",
      "\n"
     ]
    },
    {
     "name": "stdout",
     "output_type": "stream",
     "text": [
      "Epoch 80, Loss 0.0497\n",
      "Training Accuracy: 0.9503, Testing Accuracy: 0.9572\n",
      "\n"
     ]
    },
    {
     "name": "stdout",
     "output_type": "stream",
     "text": [
      "Epoch 90, Loss 0.0479\n",
      "Training Accuracy: 0.9519, Testing Accuracy: 0.9607\n",
      "\n"
     ]
    },
    {
     "name": "stdout",
     "output_type": "stream",
     "text": [
      "Epoch 100, Loss 0.0465\n",
      "Training Accuracy: 0.9528, Testing Accuracy: 0.9617\n",
      "\n"
     ]
    },
    {
     "name": "stdout",
     "output_type": "stream",
     "text": [
      "Epoch 110, Loss 0.0452\n",
      "Training Accuracy: 0.9543, Testing Accuracy: 0.9632\n",
      "\n"
     ]
    },
    {
     "name": "stdout",
     "output_type": "stream",
     "text": [
      "Epoch 120, Loss 0.0441\n",
      "Training Accuracy: 0.9556, Testing Accuracy: 0.9637\n",
      "\n"
     ]
    },
    {
     "name": "stdout",
     "output_type": "stream",
     "text": [
      "Epoch 130, Loss 0.0432\n",
      "Training Accuracy: 0.9560, Testing Accuracy: 0.9637\n",
      "\n"
     ]
    },
    {
     "name": "stdout",
     "output_type": "stream",
     "text": [
      "Epoch 140, Loss 0.0423\n",
      "Training Accuracy: 0.9568, Testing Accuracy: 0.9632\n",
      "\n"
     ]
    },
    {
     "name": "stdout",
     "output_type": "stream",
     "text": [
      "Epoch 150, Loss 0.0415\n",
      "Training Accuracy: 0.9572, Testing Accuracy: 0.9637\n",
      "\n"
     ]
    },
    {
     "name": "stdout",
     "output_type": "stream",
     "text": [
      "Epoch 160, Loss 0.0408\n",
      "Training Accuracy: 0.9576, Testing Accuracy: 0.9637\n",
      "\n"
     ]
    },
    {
     "name": "stdout",
     "output_type": "stream",
     "text": [
      "Epoch 170, Loss 0.0402\n",
      "Training Accuracy: 0.9583, Testing Accuracy: 0.9632\n",
      "\n"
     ]
    },
    {
     "name": "stdout",
     "output_type": "stream",
     "text": [
      "Epoch 180, Loss 0.0396\n",
      "Training Accuracy: 0.9588, Testing Accuracy: 0.9632\n",
      "\n"
     ]
    },
    {
     "name": "stdout",
     "output_type": "stream",
     "text": [
      "Epoch 190, Loss 0.0391\n",
      "Training Accuracy: 0.9592, Testing Accuracy: 0.9632\n",
      "\n"
     ]
    },
    {
     "name": "stdout",
     "output_type": "stream",
     "text": [
      "Epoch 200, Loss 0.0386\n",
      "Training Accuracy: 0.9597, Testing Accuracy: 0.9637\n",
      "\n"
     ]
    },
    {
     "name": "stdout",
     "output_type": "stream",
     "text": [
      "Epoch 210, Loss 0.0382\n",
      "Training Accuracy: 0.9604, Testing Accuracy: 0.9627\n",
      "\n"
     ]
    },
    {
     "name": "stdout",
     "output_type": "stream",
     "text": [
      "Epoch 220, Loss 0.0378\n",
      "Training Accuracy: 0.9609, Testing Accuracy: 0.9632\n",
      "\n"
     ]
    },
    {
     "name": "stdout",
     "output_type": "stream",
     "text": [
      "Epoch 230, Loss 0.0374\n",
      "Training Accuracy: 0.9612, Testing Accuracy: 0.9632\n",
      "\n"
     ]
    },
    {
     "name": "stdout",
     "output_type": "stream",
     "text": [
      "Epoch 240, Loss 0.037\n",
      "Training Accuracy: 0.9614, Testing Accuracy: 0.9637\n",
      "\n"
     ]
    },
    {
     "name": "stdout",
     "output_type": "stream",
     "text": [
      "Epoch 250, Loss 0.0367\n",
      "Training Accuracy: 0.9619, Testing Accuracy: 0.9632\n",
      "\n"
     ]
    },
    {
     "data": {
      "text/plain": [
       "0.05636258552888734"
      ]
     },
     "execution_count": 22,
     "metadata": {},
     "output_type": "execute_result"
    }
   ],
   "source": [
    "print(\"====== Logistic Regression ======\")\n",
    "learner_lr.train_loop(dl)"
   ]
  },
  {
   "cell_type": "markdown",
   "metadata": {
    "papermill": {
     "duration": 0.048042,
     "end_time": "2020-09-19T20:07:01.212332",
     "exception": false,
     "start_time": "2020-09-19T20:07:01.164290",
     "status": "completed"
    },
    "tags": []
   },
   "source": [
    "### Comparing results of NN and LR"
   ]
  },
  {
   "cell_type": "code",
   "execution_count": 23,
   "metadata": {
    "execution": {
     "iopub.execute_input": "2020-09-19T20:07:01.311372Z",
     "iopub.status.busy": "2020-09-19T20:07:01.310639Z",
     "iopub.status.idle": "2020-09-19T20:07:01.594453Z",
     "shell.execute_reply": "2020-09-19T20:07:01.594978Z"
    },
    "papermill": {
     "duration": 0.334397,
     "end_time": "2020-09-19T20:07:01.595192",
     "exception": false,
     "start_time": "2020-09-19T20:07:01.260795",
     "status": "completed"
    },
    "tags": []
   },
   "outputs": [
    {
     "data": {
      "text/plain": [
       "<matplotlib.legend.Legend at 0x7f7ad7922240>"
      ]
     },
     "execution_count": 23,
     "metadata": {},
     "output_type": "execute_result"
    },
    {
     "data": {
      "image/png": "[encoded data removed]",
      "text/plain": [
       "<Figure size 1080x720 with 1 Axes>"
      ]
     },
     "metadata": {
      "needs_background": "light"
     },
     "output_type": "display_data"
    }
   ],
   "source": [
    "plt.figure(figsize=(15,10))\n",
    "\n",
    "# Neural Network plots\n",
    "plt.plot(acc_nn.accuracies, 'r-', label = \"Training Accuracies - NN\")\n",
    "plt.plot(acc_nn.test_accuracies, 'g-', label = \"Testing Accuracies - NN\")\n",
    "\n",
    "# Logistic Regression plots\n",
    "plt.plot(acc_lr.accuracies, 'k-', label = \"Training Accuracies - LR\")\n",
    "plt.plot(acc_lr.test_accuracies, 'b-', label = \"Testing Accuracies - LR\")\n",
    "\n",
    "plt.ylim(0.8, 1)\n",
    "\n",
    "plt.legend()\n",
    "\n"
   ]
  },
  {
   "cell_type": "markdown",
   "metadata": {
    "papermill": {
     "duration": 0.052209,
     "end_time": "2020-09-19T20:07:01.699379",
     "exception": false,
     "start_time": "2020-09-19T20:07:01.647170",
     "status": "completed"
    },
    "tags": []
   },
   "source": [
    "### From the plot, we can observe the following:\n",
    "- Neural Network achieves higher accuracy than the Logistic Regression model.\n",
    "- This apparently, is because of overfitting, i.e. NN captures more noise than data.\n",
    "- Testing accuracy of NN drops below the Training accuracy at higher epochs. This explains the over-fitting on training data.\n",
    "- Logistic Regression gives a reliable accuracy, without the above mentioned problem.\n"
   ]
  },
  {
   "cell_type": "markdown",
   "metadata": {
    "papermill": {
     "duration": 0.049807,
     "end_time": "2020-09-19T20:07:01.799730",
     "exception": false,
     "start_time": "2020-09-19T20:07:01.749923",
     "status": "completed"
    },
    "tags": []
   },
   "source": [
    "### Moving till the last but one layer (excluding it).\n",
    "#### Plotting the outputs of this layer of the NN."
   ]
  },
  {
   "cell_type": "code",
   "execution_count": 24,
   "metadata": {
    "execution": {
     "iopub.execute_input": "2020-09-19T20:07:01.903048Z",
     "iopub.status.busy": "2020-09-19T20:07:01.902337Z",
     "iopub.status.idle": "2020-09-19T20:07:01.915698Z",
     "shell.execute_reply": "2020-09-19T20:07:01.916242Z"
    },
    "papermill": {
     "duration": 0.069157,
     "end_time": "2020-09-19T20:07:01.916410",
     "exception": false,
     "start_time": "2020-09-19T20:07:01.847253",
     "status": "completed"
    },
    "tags": []
   },
   "outputs": [],
   "source": [
    "model_new = Model(layers[:-2])"
   ]
  },
  {
   "cell_type": "code",
   "execution_count": 25,
   "metadata": {
    "execution": {
     "iopub.execute_input": "2020-09-19T20:07:02.028586Z",
     "iopub.status.busy": "2020-09-19T20:07:02.027955Z",
     "iopub.status.idle": "2020-09-19T20:07:02.055937Z",
     "shell.execute_reply": "2020-09-19T20:07:02.056518Z"
    },
    "papermill": {
     "duration": 0.083958,
     "end_time": "2020-09-19T20:07:02.056688",
     "exception": false,
     "start_time": "2020-09-19T20:07:01.972730",
     "status": "completed"
    },
    "tags": []
   },
   "outputs": [],
   "source": [
    "plot_testing = model_new(testing_xdata)"
   ]
  },
  {
   "cell_type": "code",
   "execution_count": 26,
   "metadata": {
    "execution": {
     "iopub.execute_input": "2020-09-19T20:07:02.171149Z",
     "iopub.status.busy": "2020-09-19T20:07:02.170361Z",
     "iopub.status.idle": "2020-09-19T20:07:02.397963Z",
     "shell.execute_reply": "2020-09-19T20:07:02.398551Z"
    },
    "papermill": {
     "duration": 0.291143,
     "end_time": "2020-09-19T20:07:02.398719",
     "exception": false,
     "start_time": "2020-09-19T20:07:02.107576",
     "status": "completed"
    },
    "tags": []
   },
   "outputs": [
    {
     "data": {
      "text/plain": [
       "Text(0.5, 1.0, 'Outputs')"
      ]
     },
     "execution_count": 26,
     "metadata": {},
     "output_type": "execute_result"
    },
    {
     "data": {
      "image/png": "[encoded data removed]",
      "text/plain": [
       "<Figure size 576x504 with 1 Axes>"
      ]
     },
     "metadata": {
      "needs_background": "light"
     },
     "output_type": "display_data"
    }
   ],
   "source": [
    "plt.figure(figsize=(8,7))\n",
    "plt.scatter(plot_testing[:,0], plot_testing[:,1], alpha = 0.1, c = y_test.ravel());\n",
    "plt.title('Outputs')"
   ]
  },
  {
   "cell_type": "markdown",
   "metadata": {
    "papermill": {
     "duration": 0.058465,
     "end_time": "2020-09-19T20:07:02.509857",
     "exception": false,
     "start_time": "2020-09-19T20:07:02.451392",
     "status": "completed"
    },
    "tags": []
   },
   "source": [
    "### Plotting probability contours"
   ]
  },
  {
   "cell_type": "code",
   "execution_count": 27,
   "metadata": {
    "execution": {
     "iopub.execute_input": "2020-09-19T20:07:02.627413Z",
     "iopub.status.busy": "2020-09-19T20:07:02.625968Z",
     "iopub.status.idle": "2020-09-19T20:07:02.638761Z",
     "shell.execute_reply": "2020-09-19T20:07:02.639213Z"
    },
    "papermill": {
     "duration": 0.07398,
     "end_time": "2020-09-19T20:07:02.639377",
     "exception": false,
     "start_time": "2020-09-19T20:07:02.565397",
     "status": "completed"
    },
    "tags": []
   },
   "outputs": [],
   "source": [
    "model_prob = Model(layers[-2:]) "
   ]
  },
  {
   "cell_type": "code",
   "execution_count": 28,
   "metadata": {
    "execution": {
     "iopub.execute_input": "2020-09-19T20:07:02.760441Z",
     "iopub.status.busy": "2020-09-19T20:07:02.754300Z",
     "iopub.status.idle": "2020-09-19T20:07:02.769628Z",
     "shell.execute_reply": "2020-09-19T20:07:02.768962Z"
    },
    "papermill": {
     "duration": 0.079851,
     "end_time": "2020-09-19T20:07:02.769788",
     "exception": false,
     "start_time": "2020-09-19T20:07:02.689937",
     "status": "completed"
    },
    "tags": []
   },
   "outputs": [],
   "source": [
    "# Adjust the x and y ranges according to the above generated plot.\n",
    "x_range = np.linspace(-4, 1, 100) \n",
    "y_range = np.linspace(-6, 6, 100) \n",
    "x_grid, y_grid = np.meshgrid(x_range, y_range) # x_grid and y_grig are of size 100 X 100\n",
    "\n",
    "# converting x_grid and y_grid to continuous arrays\n",
    "x_grid_flat = np.ravel(x_grid)\n",
    "y_grid_flat = np.ravel(y_grid)\n",
    "\n",
    "# The last layer of the current model takes two columns as input. Hence transpose of np.vstack() is required.\n",
    "X = np.vstack((x_grid_flat, y_grid_flat)).T\n",
    "\n",
    "# x_grid and y_grid are of size 100 x 100\n",
    "probability_contour = model_prob(X).reshape(100,100) "
   ]
  },
  {
   "cell_type": "code",
   "execution_count": 29,
   "metadata": {
    "execution": {
     "iopub.execute_input": "2020-09-19T20:07:02.889279Z",
     "iopub.status.busy": "2020-09-19T20:07:02.887522Z",
     "iopub.status.idle": "2020-09-19T20:07:03.193817Z",
     "shell.execute_reply": "2020-09-19T20:07:03.193183Z"
    },
    "papermill": {
     "duration": 0.368941,
     "end_time": "2020-09-19T20:07:03.193986",
     "exception": false,
     "start_time": "2020-09-19T20:07:02.825045",
     "status": "completed"
    },
    "tags": []
   },
   "outputs": [
    {
     "data": {
      "image/png": "[encoded data removed]",
      "text/plain": [
       "<Figure size 720x648 with 1 Axes>"
      ]
     },
     "metadata": {
      "needs_background": "light"
     },
     "output_type": "display_data"
    }
   ],
   "source": [
    "plt.figure(figsize=(10,9))\n",
    "plt.scatter(plot_testing[:,0], plot_testing[:,1], alpha = 0.1, c = y_test.ravel())\n",
    "contours = plt.contour(x_grid,y_grid,probability_contour)\n",
    "plt.title('Probability Contours')\n",
    "plt.clabel(contours, inline = True );"
   ]
  }
 ],
 "metadata": {
  "kernelspec": {
   "display_name": "Python 3",
   "language": "python",
   "name": "python3"
  },
  "language_info": {
   "codemirror_mode": {
    "name": "ipython",
    "version": 3
   },
   "file_extension": ".py",
   "mimetype": "text/x-python",
   "name": "python",
   "nbconvert_exporter": "python",
   "pygments_lexer": "ipython3",
   "version": "3.6.12"
  },
  "papermill": {
   "duration": 173.356586,
   "end_time": "2020-09-19T20:07:03.659459",
   "environment_variables": {},
   "exception": null,
   "input_path": "2020-08-11-NeuralNetwork.ipynb",
   "output_path": "2020-08-11-NeuralNetwork.ipynb",
   "parameters": {},
   "start_time": "2020-09-19T20:04:10.302873",
   "version": "2.1.2"
  }
 },
 "nbformat": 4,
 "nbformat_minor": 4
}