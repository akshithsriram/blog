{
 "cells": [
  {
   "cell_type": "markdown",
   "metadata": {
    "papermill": {
     "duration": 0.033281,
     "end_time": "2020-09-25T20:04:22.398143",
     "exception": false,
     "start_time": "2020-09-25T20:04:22.364862",
     "status": "completed"
    },
    "tags": []
   },
   "source": [
    "# \"A Basic Neural Network: Differentiate Hand-Written Digits\"\n",
    "\n",
    "- badges: true\n",
    "- author: Akshith Sriram"
   ]
  },
  {
   "cell_type": "markdown",
   "metadata": {
    "papermill": {
     "duration": 0.028966,
     "end_time": "2020-09-25T20:04:22.456699",
     "exception": false,
     "start_time": "2020-09-25T20:04:22.427733",
     "status": "completed"
    },
    "tags": []
   },
   "source": [
    "### Key Objectives:\n",
    "- Building a neural network that differentiates two hand-written digits 3 and 8.\n",
    "- Comparing the results of this Neural Network (NN) to that of a Logistic Regression (LR) model.\n",
    "\n",
    "### Requirements:\n",
    "- 'Kudzu' : A neural network library that was designed during our course by [Univ.AI](www.univ.ai). \n",
    "- MNIST Database\n",
    "\n",
    "If MNIST is not installed, use the command `!pip install mnist` given below.\n",
    "It can be run both from the command line and Jupyter Notebook."
   ]
  },
  {
   "cell_type": "code",
   "execution_count": 1,
   "metadata": {
    "execution": {
     "iopub.execute_input": "2020-09-25T20:04:22.528683Z",
     "iopub.status.busy": "2020-09-25T20:04:22.527931Z",
     "iopub.status.idle": "2020-09-25T20:04:24.259699Z",
     "shell.execute_reply": "2020-09-25T20:04:24.258675Z"
    },
    "papermill": {
     "duration": 1.771323,
     "end_time": "2020-09-25T20:04:24.259895",
     "exception": false,
     "start_time": "2020-09-25T20:04:22.488572",
     "status": "completed"
    },
    "tags": []
   },
   "outputs": [
    {
     "name": "stdout",
     "output_type": "stream",
     "text": [
      "Collecting mnist\r\n"
     ]
    },
    {
     "name": "stdout",
     "output_type": "stream",
     "text": [
      "  Downloading mnist-0.2.2-py2.py3-none-any.whl (3.5 kB)\r\n"
     ]
    },
    {
     "name": "stdout",
     "output_type": "stream",
     "text": [
      "Requirement already satisfied: numpy in /opt/hostedtoolcache/Python/3.6.12/x64/lib/python3.6/site-packages (from mnist) (1.19.2)\r\n"
     ]
    },
    {
     "name": "stdout",
     "output_type": "stream",
     "text": [
      "Installing collected packages: mnist\r\n"
     ]
    },
    {
     "name": "stdout",
     "output_type": "stream",
     "text": [
      "Successfully installed mnist-0.2.2\r\n"
     ]
    }
   ],
   "source": [
    "!pip install mnist "
   ]
  },
  {
   "cell_type": "markdown",
   "metadata": {
    "papermill": {
     "duration": 0.031719,
     "end_time": "2020-09-25T20:04:24.323838",
     "exception": false,
     "start_time": "2020-09-25T20:04:24.292119",
     "status": "completed"
    },
    "tags": []
   },
   "source": [
    "#### Importing necessary libraries"
   ]
  },
  {
   "cell_type": "code",
   "execution_count": 2,
   "metadata": {
    "execution": {
     "iopub.execute_input": "2020-09-25T20:04:24.397034Z",
     "iopub.status.busy": "2020-09-25T20:04:24.396327Z",
     "iopub.status.idle": "2020-09-25T20:04:25.023779Z",
     "shell.execute_reply": "2020-09-25T20:04:25.023182Z"
    },
    "papermill": {
     "duration": 0.667808,
     "end_time": "2020-09-25T20:04:25.023955",
     "exception": false,
     "start_time": "2020-09-25T20:04:24.356147",
     "status": "completed"
    },
    "tags": []
   },
   "outputs": [],
   "source": [
    "%load_ext autoreload\n",
    "%autoreload 2\n",
    "\n",
    "%matplotlib inline\n",
    "import matplotlib.pyplot as plt\n",
    "\n",
    "import numpy as np\n",
    "import pandas as pd"
   ]
  },
  {
   "cell_type": "markdown",
   "metadata": {
    "papermill": {
     "duration": 0.032085,
     "end_time": "2020-09-25T20:04:25.088217",
     "exception": false,
     "start_time": "2020-09-25T20:04:25.056132",
     "status": "completed"
    },
    "tags": []
   },
   "source": [
    "### Preparing the Data"
   ]
  },
  {
   "cell_type": "code",
   "execution_count": 3,
   "metadata": {
    "execution": {
     "iopub.execute_input": "2020-09-25T20:04:25.157819Z",
     "iopub.status.busy": "2020-09-25T20:04:25.157115Z",
     "iopub.status.idle": "2020-09-25T20:04:25.171456Z",
     "shell.execute_reply": "2020-09-25T20:04:25.170861Z"
    },
    "papermill": {
     "duration": 0.050097,
     "end_time": "2020-09-25T20:04:25.171616",
     "exception": false,
     "start_time": "2020-09-25T20:04:25.121519",
     "status": "completed"
    },
    "tags": []
   },
   "outputs": [],
   "source": [
    "import mnist"
   ]
  },
  {
   "cell_type": "code",
   "execution_count": 4,
   "metadata": {
    "execution": {
     "iopub.execute_input": "2020-09-25T20:04:25.241558Z",
     "iopub.status.busy": "2020-09-25T20:04:25.240855Z",
     "iopub.status.idle": "2020-09-25T20:04:26.244499Z",
     "shell.execute_reply": "2020-09-25T20:04:26.243868Z"
    },
    "papermill": {
     "duration": 1.040157,
     "end_time": "2020-09-25T20:04:26.244674",
     "exception": false,
     "start_time": "2020-09-25T20:04:25.204517",
     "status": "completed"
    },
    "tags": []
   },
   "outputs": [],
   "source": [
    "train_images = mnist.train_images()\n",
    "train_labels = mnist.train_labels()"
   ]
  },
  {
   "cell_type": "code",
   "execution_count": 5,
   "metadata": {
    "execution": {
     "iopub.execute_input": "2020-09-25T20:04:26.313616Z",
     "iopub.status.busy": "2020-09-25T20:04:26.312581Z",
     "iopub.status.idle": "2020-09-25T20:04:26.328267Z",
     "shell.execute_reply": "2020-09-25T20:04:26.327746Z"
    },
    "papermill": {
     "duration": 0.051852,
     "end_time": "2020-09-25T20:04:26.328401",
     "exception": false,
     "start_time": "2020-09-25T20:04:26.276549",
     "status": "completed"
    },
    "tags": []
   },
   "outputs": [
    {
     "data": {
      "text/plain": [
       "((60000, 28, 28), (60000,))"
      ]
     },
     "execution_count": 5,
     "metadata": {},
     "output_type": "execute_result"
    }
   ],
   "source": [
    "train_images.shape, train_labels.shape"
   ]
  },
  {
   "cell_type": "code",
   "execution_count": 6,
   "metadata": {
    "execution": {
     "iopub.execute_input": "2020-09-25T20:04:26.396303Z",
     "iopub.status.busy": "2020-09-25T20:04:26.395647Z",
     "iopub.status.idle": "2020-09-25T20:04:26.817713Z",
     "shell.execute_reply": "2020-09-25T20:04:26.817106Z"
    },
    "papermill": {
     "duration": 0.458121,
     "end_time": "2020-09-25T20:04:26.817863",
     "exception": false,
     "start_time": "2020-09-25T20:04:26.359742",
     "status": "completed"
    },
    "tags": []
   },
   "outputs": [],
   "source": [
    "test_images = mnist.test_images()\n",
    "test_labels = mnist.test_labels()"
   ]
  },
  {
   "cell_type": "code",
   "execution_count": 7,
   "metadata": {
    "execution": {
     "iopub.execute_input": "2020-09-25T20:04:26.886964Z",
     "iopub.status.busy": "2020-09-25T20:04:26.886226Z",
     "iopub.status.idle": "2020-09-25T20:04:26.901994Z",
     "shell.execute_reply": "2020-09-25T20:04:26.901326Z"
    },
    "papermill": {
     "duration": 0.05138,
     "end_time": "2020-09-25T20:04:26.902150",
     "exception": false,
     "start_time": "2020-09-25T20:04:26.850770",
     "status": "completed"
    },
    "tags": []
   },
   "outputs": [
    {
     "data": {
      "text/plain": [
       "((10000, 28, 28), (10000,))"
      ]
     },
     "execution_count": 7,
     "metadata": {},
     "output_type": "execute_result"
    }
   ],
   "source": [
    "test_images.shape, test_labels.shape"
   ]
  },
  {
   "cell_type": "code",
   "execution_count": 8,
   "metadata": {
    "execution": {
     "iopub.execute_input": "2020-09-25T20:04:26.970338Z",
     "iopub.status.busy": "2020-09-25T20:04:26.969642Z",
     "iopub.status.idle": "2020-09-25T20:04:27.154222Z",
     "shell.execute_reply": "2020-09-25T20:04:27.154834Z"
    },
    "papermill": {
     "duration": 0.221746,
     "end_time": "2020-09-25T20:04:27.155063",
     "exception": false,
     "start_time": "2020-09-25T20:04:26.933317",
     "status": "completed"
    },
    "tags": []
   },
   "outputs": [
    {
     "name": "stdout",
     "output_type": "stream",
     "text": [
      "2\n"
     ]
    },
    {
     "data": {
      "text/plain": [
       "<matplotlib.image.AxesImage at 0x7f601aad6d68>"
      ]
     },
     "execution_count": 8,
     "metadata": {},
     "output_type": "execute_result"
    },
    {
     "data": {
      "image/png": "[encoded data removed]",
      "text/plain": [
       "<Figure size 432x288 with 1 Axes>"
      ]
     },
     "metadata": {
      "needs_background": "light"
     },
     "output_type": "display_data"
    }
   ],
   "source": [
    "image_index = 7776 # You may select anything up to 60,000\n",
    "print(train_labels[image_index]) \n",
    "plt.imshow(train_images[image_index], cmap='Greys')"
   ]
  },
  {
   "cell_type": "markdown",
   "metadata": {
    "papermill": {
     "duration": 0.036323,
     "end_time": "2020-09-25T20:04:27.227212",
     "exception": false,
     "start_time": "2020-09-25T20:04:27.190889",
     "status": "completed"
    },
    "tags": []
   },
   "source": [
    "## Filter data to get 3 and 8 out"
   ]
  },
  {
   "cell_type": "code",
   "execution_count": 9,
   "metadata": {
    "execution": {
     "iopub.execute_input": "2020-09-25T20:04:27.406480Z",
     "iopub.status.busy": "2020-09-25T20:04:27.405751Z",
     "iopub.status.idle": "2020-09-25T20:04:27.428578Z",
     "shell.execute_reply": "2020-09-25T20:04:27.427318Z"
    },
    "papermill": {
     "duration": 0.074566,
     "end_time": "2020-09-25T20:04:27.428722",
     "exception": false,
     "start_time": "2020-09-25T20:04:27.354156",
     "status": "completed"
    },
    "tags": []
   },
   "outputs": [],
   "source": [
    "train_filter = np.where((train_labels == 3 ) | (train_labels == 8))\n",
    "test_filter = np.where((test_labels == 3) | (test_labels == 8))\n",
    "X_train, y_train = train_images[train_filter], train_labels[train_filter]\n",
    "X_test, y_test = test_images[test_filter], test_labels[test_filter]"
   ]
  },
  {
   "cell_type": "markdown",
   "metadata": {
    "papermill": {
     "duration": 0.063602,
     "end_time": "2020-09-25T20:04:27.557858",
     "exception": false,
     "start_time": "2020-09-25T20:04:27.494256",
     "status": "completed"
    },
    "tags": []
   },
   "source": [
    "We normalize the pixel values in the 0 to 1 range"
   ]
  },
  {
   "cell_type": "code",
   "execution_count": 10,
   "metadata": {
    "execution": {
     "iopub.execute_input": "2020-09-25T20:04:27.847542Z",
     "iopub.status.busy": "2020-09-25T20:04:27.846260Z",
     "iopub.status.idle": "2020-09-25T20:04:27.911014Z",
     "shell.execute_reply": "2020-09-25T20:04:27.910389Z"
    },
    "papermill": {
     "duration": 0.103384,
     "end_time": "2020-09-25T20:04:27.911172",
     "exception": false,
     "start_time": "2020-09-25T20:04:27.807788",
     "status": "completed"
    },
    "tags": []
   },
   "outputs": [],
   "source": [
    "X_train = X_train/255.\n",
    "X_test = X_test/255."
   ]
  },
  {
   "cell_type": "markdown",
   "metadata": {
    "papermill": {
     "duration": 0.032492,
     "end_time": "2020-09-25T20:04:27.976919",
     "exception": false,
     "start_time": "2020-09-25T20:04:27.944427",
     "status": "completed"
    },
    "tags": []
   },
   "source": [
    "Setup the labels as 1 (when the digit is 3) and 0 (when the digit is 8)"
   ]
  },
  {
   "cell_type": "code",
   "execution_count": 11,
   "metadata": {
    "execution": {
     "iopub.execute_input": "2020-09-25T20:04:28.045146Z",
     "iopub.status.busy": "2020-09-25T20:04:28.044449Z",
     "iopub.status.idle": "2020-09-25T20:04:28.064101Z",
     "shell.execute_reply": "2020-09-25T20:04:28.063464Z"
    },
    "papermill": {
     "duration": 0.055673,
     "end_time": "2020-09-25T20:04:28.064265",
     "exception": false,
     "start_time": "2020-09-25T20:04:28.008592",
     "status": "completed"
    },
    "tags": []
   },
   "outputs": [],
   "source": [
    "y_train = 1*(y_train==3)\n",
    "y_test = 1*(y_test==3)"
   ]
  },
  {
   "cell_type": "code",
   "execution_count": 12,
   "metadata": {
    "execution": {
     "iopub.execute_input": "2020-09-25T20:04:28.136724Z",
     "iopub.status.busy": "2020-09-25T20:04:28.135981Z",
     "iopub.status.idle": "2020-09-25T20:04:28.150931Z",
     "shell.execute_reply": "2020-09-25T20:04:28.151557Z"
    },
    "papermill": {
     "duration": 0.052233,
     "end_time": "2020-09-25T20:04:28.151718",
     "exception": false,
     "start_time": "2020-09-25T20:04:28.099485",
     "status": "completed"
    },
    "tags": []
   },
   "outputs": [
    {
     "data": {
      "text/plain": [
       "((11982, 28, 28), (1984, 28, 28))"
      ]
     },
     "execution_count": 12,
     "metadata": {},
     "output_type": "execute_result"
    }
   ],
   "source": [
    "X_train.shape, X_test.shape"
   ]
  },
  {
   "cell_type": "markdown",
   "metadata": {
    "papermill": {
     "duration": 0.032778,
     "end_time": "2020-09-25T20:04:28.217820",
     "exception": false,
     "start_time": "2020-09-25T20:04:28.185042",
     "status": "completed"
    },
    "tags": []
   },
   "source": [
    "### Reshape the input data to create a linear array"
   ]
  },
  {
   "cell_type": "code",
   "execution_count": 13,
   "metadata": {
    "execution": {
     "iopub.execute_input": "2020-09-25T20:04:28.291660Z",
     "iopub.status.busy": "2020-09-25T20:04:28.290960Z",
     "iopub.status.idle": "2020-09-25T20:04:28.306270Z",
     "shell.execute_reply": "2020-09-25T20:04:28.305585Z"
    },
    "papermill": {
     "duration": 0.052912,
     "end_time": "2020-09-25T20:04:28.306447",
     "exception": false,
     "start_time": "2020-09-25T20:04:28.253535",
     "status": "completed"
    },
    "tags": []
   },
   "outputs": [
    {
     "data": {
      "text/plain": [
       "((11982, 784), (1984, 784))"
      ]
     },
     "execution_count": 13,
     "metadata": {},
     "output_type": "execute_result"
    }
   ],
   "source": [
    "X_train = X_train.reshape(X_train.shape[0], -1)\n",
    "X_test = X_test.reshape(X_test.shape[0], -1)\n",
    "X_train.shape, X_test.shape"
   ]
  },
  {
   "cell_type": "markdown",
   "metadata": {
    "papermill": {
     "duration": 0.032838,
     "end_time": "2020-09-25T20:04:28.377384",
     "exception": false,
     "start_time": "2020-09-25T20:04:28.344546",
     "status": "completed"
    },
    "tags": []
   },
   "source": [
    "### Importing appropriate functions from 'Kudzu'"
   ]
  },
  {
   "cell_type": "code",
   "execution_count": 14,
   "metadata": {
    "execution": {
     "iopub.execute_input": "2020-09-25T20:04:28.450520Z",
     "iopub.status.busy": "2020-09-25T20:04:28.449785Z",
     "iopub.status.idle": "2020-09-25T20:04:28.472424Z",
     "shell.execute_reply": "2020-09-25T20:04:28.471821Z"
    },
    "papermill": {
     "duration": 0.060436,
     "end_time": "2020-09-25T20:04:28.472564",
     "exception": false,
     "start_time": "2020-09-25T20:04:28.412128",
     "status": "completed"
    },
    "tags": []
   },
   "outputs": [],
   "source": [
    "from kudzu.layer import Sigmoid\n",
    "from kudzu.layer import Relu\n",
    "from kudzu.layer import Affine, Sigmoid\n",
    "\n",
    "from kudzu.model import Model\n",
    "from kudzu.train import Learner\n",
    "from kudzu.optim import GD\n",
    "from kudzu.data import Data, Dataloader, Sampler\n",
    "\n",
    "from kudzu.callbacks import AccCallback\n",
    "from kudzu.callbacks import ClfCallback\n",
    "\n",
    "from kudzu.loss import MSE"
   ]
  },
  {
   "cell_type": "markdown",
   "metadata": {
    "papermill": {
     "duration": 0.034243,
     "end_time": "2020-09-25T20:04:28.540770",
     "exception": false,
     "start_time": "2020-09-25T20:04:28.506527",
     "status": "completed"
    },
    "tags": []
   },
   "source": [
    "### Let us create a `Config` class, to store important parameters. \n",
    "This class essentially plays the role of a dictionary."
   ]
  },
  {
   "cell_type": "code",
   "execution_count": 15,
   "metadata": {
    "execution": {
     "iopub.execute_input": "2020-09-25T20:04:28.615664Z",
     "iopub.status.busy": "2020-09-25T20:04:28.614982Z",
     "iopub.status.idle": "2020-09-25T20:04:28.629365Z",
     "shell.execute_reply": "2020-09-25T20:04:28.628749Z"
    },
    "papermill": {
     "duration": 0.053538,
     "end_time": "2020-09-25T20:04:28.629505",
     "exception": false,
     "start_time": "2020-09-25T20:04:28.575967",
     "status": "completed"
    },
    "tags": []
   },
   "outputs": [],
   "source": [
    "class Config:\n",
    "    pass\n",
    "config = Config()\n",
    "config.lr = 0.001\n",
    "config.num_epochs = 251\n",
    "config.bs = 50"
   ]
  },
  {
   "cell_type": "markdown",
   "metadata": {
    "papermill": {
     "duration": 0.033539,
     "end_time": "2020-09-25T20:04:28.696787",
     "exception": false,
     "start_time": "2020-09-25T20:04:28.663248",
     "status": "completed"
    },
    "tags": []
   },
   "source": [
    "### Initializing data to the variables"
   ]
  },
  {
   "cell_type": "code",
   "execution_count": 16,
   "metadata": {
    "execution": {
     "iopub.execute_input": "2020-09-25T20:04:28.769744Z",
     "iopub.status.busy": "2020-09-25T20:04:28.769031Z",
     "iopub.status.idle": "2020-09-25T20:04:28.783657Z",
     "shell.execute_reply": "2020-09-25T20:04:28.784262Z"
    },
    "papermill": {
     "duration": 0.054282,
     "end_time": "2020-09-25T20:04:28.784437",
     "exception": false,
     "start_time": "2020-09-25T20:04:28.730155",
     "status": "completed"
    },
    "tags": []
   },
   "outputs": [],
   "source": [
    "data = Data(X_train, y_train.reshape(-1,1))\n",
    "sampler = Sampler(data, config.bs, shuffle=True)\n",
    "\n",
    "dl = Dataloader(data, sampler)\n",
    "\n",
    "opt = GD(config.lr)\n",
    "loss = MSE()"
   ]
  },
  {
   "cell_type": "code",
   "execution_count": 17,
   "metadata": {
    "execution": {
     "iopub.execute_input": "2020-09-25T20:04:28.855835Z",
     "iopub.status.busy": "2020-09-25T20:04:28.855122Z",
     "iopub.status.idle": "2020-09-25T20:04:28.870264Z",
     "shell.execute_reply": "2020-09-25T20:04:28.869614Z"
    },
    "papermill": {
     "duration": 0.052789,
     "end_time": "2020-09-25T20:04:28.870423",
     "exception": false,
     "start_time": "2020-09-25T20:04:28.817634",
     "status": "completed"
    },
    "tags": []
   },
   "outputs": [],
   "source": [
    "training_xdata = X_train\n",
    "testing_xdata = X_test\n",
    "training_ydata = y_train.reshape(-1,1)\n",
    "testing_ydata = y_test.reshape(-1,1)"
   ]
  },
  {
   "cell_type": "markdown",
   "metadata": {
    "papermill": {
     "duration": 0.033628,
     "end_time": "2020-09-25T20:04:28.937856",
     "exception": false,
     "start_time": "2020-09-25T20:04:28.904228",
     "status": "completed"
    },
    "tags": []
   },
   "source": [
    "### Running Models with the Training data\n",
    "Details about the network layers:\n",
    "- A first affine layer has 784 inputs and does 100 affine transforms. These are followed by a Relu\n",
    "- A second affine layer has 100 inputs from the 100 activations of the past layer, and does 100 affine transforms. These are followed by a Relu\n",
    "- A third affine layer has 100 activations and does 2 affine transformations to create an embedding for visualization. There is no non-linearity here.\n",
    "- A final \"logistic regression\" which has an affine transform from 2 inputs to 1 output, which is squeezed through a sigmoid.\n",
    "\n",
    "Help taken from Anshuman's Notebook."
   ]
  },
  {
   "cell_type": "code",
   "execution_count": 18,
   "metadata": {
    "execution": {
     "iopub.execute_input": "2020-09-25T20:04:29.012176Z",
     "iopub.status.busy": "2020-09-25T20:04:29.011427Z",
     "iopub.status.idle": "2020-09-25T20:04:29.030481Z",
     "shell.execute_reply": "2020-09-25T20:04:29.029886Z"
    },
    "papermill": {
     "duration": 0.059223,
     "end_time": "2020-09-25T20:04:29.030659",
     "exception": false,
     "start_time": "2020-09-25T20:04:28.971436",
     "status": "completed"
    },
    "tags": []
   },
   "outputs": [],
   "source": [
    "# layers for the Neural Network\n",
    "layers = [Affine(\"first\", 784, 100), Relu(\"first\"), Affine(\"second\", 100, 100), Relu(\"second\"), Affine(\"third\", 100, 2), Affine(\"final\", 2, 1), Sigmoid(\"final\")]\n",
    "model_nn = Model(layers)\n",
    "\n",
    "# layers for the Logistic Regression\n",
    "layers_lr = [Affine(\"logits\", 784, 1), Sigmoid(\"sigmoid\")]\n",
    "model_lr = Model(layers_lr)"
   ]
  },
  {
   "cell_type": "code",
   "execution_count": 19,
   "metadata": {
    "execution": {
     "iopub.execute_input": "2020-09-25T20:04:29.103914Z",
     "iopub.status.busy": "2020-09-25T20:04:29.103229Z",
     "iopub.status.idle": "2020-09-25T20:04:29.116662Z",
     "shell.execute_reply": "2020-09-25T20:04:29.117231Z"
    },
    "papermill": {
     "duration": 0.05207,
     "end_time": "2020-09-25T20:04:29.117449",
     "exception": false,
     "start_time": "2020-09-25T20:04:29.065379",
     "status": "completed"
    },
    "tags": []
   },
   "outputs": [],
   "source": [
    "# suffix _nn stands for Neural Network.\n",
    "learner_nn = Learner(loss, model_nn, opt, config.num_epochs)\n",
    "acc_nn = ClfCallback(learner_nn, config.bs, training_xdata , testing_xdata, training_ydata, testing_ydata)\n",
    "learner_nn.set_callbacks([acc_nn])"
   ]
  },
  {
   "cell_type": "code",
   "execution_count": 20,
   "metadata": {
    "execution": {
     "iopub.execute_input": "2020-09-25T20:04:29.190485Z",
     "iopub.status.busy": "2020-09-25T20:04:29.189756Z",
     "iopub.status.idle": "2020-09-25T20:06:46.357664Z",
     "shell.execute_reply": "2020-09-25T20:06:46.358309Z"
    },
    "papermill": {
     "duration": 137.207239,
     "end_time": "2020-09-25T20:06:46.358474",
     "exception": false,
     "start_time": "2020-09-25T20:04:29.151235",
     "status": "completed"
    },
    "tags": []
   },
   "outputs": [
    {
     "name": "stdout",
     "output_type": "stream",
     "text": [
      "====== Neural Network ======\n"
     ]
    },
    {
     "name": "stdout",
     "output_type": "stream",
     "text": [
      "Epoch 0, Loss 0.2433\n",
      "Training Accuracy: 0.5548, Testing Accuracy: 0.5615\n",
      "\n"
     ]
    },
    {
     "name": "stdout",
     "output_type": "stream",
     "text": [
      "Epoch 10, Loss 0.1579\n",
      "Training Accuracy: 0.8792, Testing Accuracy: 0.8967\n",
      "\n"
     ]
    },
    {
     "name": "stdout",
     "output_type": "stream",
     "text": [
      "Epoch 20, Loss 0.082\n",
      "Training Accuracy: 0.9168, Testing Accuracy: 0.9330\n",
      "\n"
     ]
    },
    {
     "name": "stdout",
     "output_type": "stream",
     "text": [
      "Epoch 30, Loss 0.0569\n",
      "Training Accuracy: 0.9379, Testing Accuracy: 0.9531\n",
      "\n"
     ]
    },
    {
     "name": "stdout",
     "output_type": "stream",
     "text": [
      "Epoch 40, Loss 0.0462\n",
      "Training Accuracy: 0.9478, Testing Accuracy: 0.9597\n",
      "\n"
     ]
    },
    {
     "name": "stdout",
     "output_type": "stream",
     "text": [
      "Epoch 50, Loss 0.0405\n",
      "Training Accuracy: 0.9536, Testing Accuracy: 0.9637\n",
      "\n"
     ]
    },
    {
     "name": "stdout",
     "output_type": "stream",
     "text": [
      "Epoch 60, Loss 0.0369\n",
      "Training Accuracy: 0.9576, Testing Accuracy: 0.9652\n",
      "\n"
     ]
    },
    {
     "name": "stdout",
     "output_type": "stream",
     "text": [
      "Epoch 70, Loss 0.0343\n",
      "Training Accuracy: 0.9604, Testing Accuracy: 0.9672\n",
      "\n"
     ]
    },
    {
     "name": "stdout",
     "output_type": "stream",
     "text": [
      "Epoch 80, Loss 0.0324\n",
      "Training Accuracy: 0.9622, Testing Accuracy: 0.9672\n",
      "\n"
     ]
    },
    {
     "name": "stdout",
     "output_type": "stream",
     "text": [
      "Epoch 90, Loss 0.0308\n",
      "Training Accuracy: 0.9634, Testing Accuracy: 0.9682\n",
      "\n"
     ]
    },
    {
     "name": "stdout",
     "output_type": "stream",
     "text": [
      "Epoch 100, Loss 0.0296\n",
      "Training Accuracy: 0.9647, Testing Accuracy: 0.9682\n",
      "\n"
     ]
    },
    {
     "name": "stdout",
     "output_type": "stream",
     "text": [
      "Epoch 110, Loss 0.0285\n",
      "Training Accuracy: 0.9664, Testing Accuracy: 0.9688\n",
      "\n"
     ]
    },
    {
     "name": "stdout",
     "output_type": "stream",
     "text": [
      "Epoch 120, Loss 0.0276\n",
      "Training Accuracy: 0.9675, Testing Accuracy: 0.9708\n",
      "\n"
     ]
    },
    {
     "name": "stdout",
     "output_type": "stream",
     "text": [
      "Epoch 130, Loss 0.0268\n",
      "Training Accuracy: 0.9681, Testing Accuracy: 0.9708\n",
      "\n"
     ]
    },
    {
     "name": "stdout",
     "output_type": "stream",
     "text": [
      "Epoch 140, Loss 0.0261\n",
      "Training Accuracy: 0.9691, Testing Accuracy: 0.9713\n",
      "\n"
     ]
    },
    {
     "name": "stdout",
     "output_type": "stream",
     "text": [
      "Epoch 150, Loss 0.0254\n",
      "Training Accuracy: 0.9707, Testing Accuracy: 0.9718\n",
      "\n"
     ]
    },
    {
     "name": "stdout",
     "output_type": "stream",
     "text": [
      "Epoch 160, Loss 0.0248\n",
      "Training Accuracy: 0.9711, Testing Accuracy: 0.9713\n",
      "\n"
     ]
    },
    {
     "name": "stdout",
     "output_type": "stream",
     "text": [
      "Epoch 170, Loss 0.0243\n",
      "Training Accuracy: 0.9720, Testing Accuracy: 0.9713\n",
      "\n"
     ]
    },
    {
     "name": "stdout",
     "output_type": "stream",
     "text": [
      "Epoch 180, Loss 0.0238\n",
      "Training Accuracy: 0.9724, Testing Accuracy: 0.9718\n",
      "\n"
     ]
    },
    {
     "name": "stdout",
     "output_type": "stream",
     "text": [
      "Epoch 190, Loss 0.0233\n",
      "Training Accuracy: 0.9736, Testing Accuracy: 0.9723\n",
      "\n"
     ]
    },
    {
     "name": "stdout",
     "output_type": "stream",
     "text": [
      "Epoch 200, Loss 0.0229\n",
      "Training Accuracy: 0.9742, Testing Accuracy: 0.9718\n",
      "\n"
     ]
    },
    {
     "name": "stdout",
     "output_type": "stream",
     "text": [
      "Epoch 210, Loss 0.0225\n",
      "Training Accuracy: 0.9748, Testing Accuracy: 0.9718\n",
      "\n"
     ]
    },
    {
     "name": "stdout",
     "output_type": "stream",
     "text": [
      "Epoch 220, Loss 0.0221\n",
      "Training Accuracy: 0.9757, Testing Accuracy: 0.9718\n",
      "\n"
     ]
    },
    {
     "name": "stdout",
     "output_type": "stream",
     "text": [
      "Epoch 230, Loss 0.0217\n",
      "Training Accuracy: 0.9765, Testing Accuracy: 0.9708\n",
      "\n"
     ]
    },
    {
     "name": "stdout",
     "output_type": "stream",
     "text": [
      "Epoch 240, Loss 0.0213\n",
      "Training Accuracy: 0.9767, Testing Accuracy: 0.9718\n",
      "\n"
     ]
    },
    {
     "name": "stdout",
     "output_type": "stream",
     "text": [
      "Epoch 250, Loss 0.021\n",
      "Training Accuracy: 0.9773, Testing Accuracy: 0.9718\n",
      "\n"
     ]
    },
    {
     "data": {
      "text/plain": [
       "0.05510318562004907"
      ]
     },
     "execution_count": 20,
     "metadata": {},
     "output_type": "execute_result"
    }
   ],
   "source": [
    "print(\"====== Neural Network ======\")\n",
    "learner_nn.train_loop(dl)"
   ]
  },
  {
   "cell_type": "markdown",
   "metadata": {
    "papermill": {
     "duration": 0.043251,
     "end_time": "2020-09-25T20:06:46.445634",
     "exception": false,
     "start_time": "2020-09-25T20:06:46.402383",
     "status": "completed"
    },
    "tags": []
   },
   "source": [
    "### Logistic Regression based Implementation."
   ]
  },
  {
   "cell_type": "code",
   "execution_count": 21,
   "metadata": {
    "execution": {
     "iopub.execute_input": "2020-09-25T20:06:46.545586Z",
     "iopub.status.busy": "2020-09-25T20:06:46.544909Z",
     "iopub.status.idle": "2020-09-25T20:06:46.564540Z",
     "shell.execute_reply": "2020-09-25T20:06:46.565354Z"
    },
    "papermill": {
     "duration": 0.076966,
     "end_time": "2020-09-25T20:06:46.565531",
     "exception": false,
     "start_time": "2020-09-25T20:06:46.488565",
     "status": "completed"
    },
    "tags": []
   },
   "outputs": [],
   "source": [
    "learner_lr = Learner(loss, model_lr, opt, config.num_epochs)\n",
    "acc_lr = ClfCallback(learner_lr, config.bs, training_xdata , testing_xdata, training_ydata, testing_ydata)\n",
    "learner_lr.set_callbacks([acc_lr])"
   ]
  },
  {
   "cell_type": "code",
   "execution_count": 22,
   "metadata": {
    "execution": {
     "iopub.execute_input": "2020-09-25T20:06:46.663998Z",
     "iopub.status.busy": "2020-09-25T20:06:46.663326Z",
     "iopub.status.idle": "2020-09-25T20:07:06.758640Z",
     "shell.execute_reply": "2020-09-25T20:07:06.759521Z"
    },
    "papermill": {
     "duration": 20.147287,
     "end_time": "2020-09-25T20:07:06.759697",
     "exception": false,
     "start_time": "2020-09-25T20:06:46.612410",
     "status": "completed"
    },
    "tags": []
   },
   "outputs": [
    {
     "name": "stdout",
     "output_type": "stream",
     "text": [
      "====== Logistic Regression ======\n",
      "Epoch 0, Loss 0.2435\n",
      "Training Accuracy: 0.7041, Testing Accuracy: 0.7001\n",
      "\n"
     ]
    },
    {
     "name": "stdout",
     "output_type": "stream",
     "text": [
      "Epoch 10, Loss 0.1007\n",
      "Training Accuracy: 0.9201, Testing Accuracy: 0.9219\n",
      "\n"
     ]
    },
    {
     "name": "stdout",
     "output_type": "stream",
     "text": [
      "Epoch 20, Loss 0.0774\n",
      "Training Accuracy: 0.9331, Testing Accuracy: 0.9395\n",
      "\n"
     ]
    },
    {
     "name": "stdout",
     "output_type": "stream",
     "text": [
      "Epoch 30, Loss 0.0669\n",
      "Training Accuracy: 0.9398, Testing Accuracy: 0.9496\n",
      "\n"
     ]
    },
    {
     "name": "stdout",
     "output_type": "stream",
     "text": [
      "Epoch 40, Loss 0.0606\n",
      "Training Accuracy: 0.9427, Testing Accuracy: 0.9526\n",
      "\n"
     ]
    },
    {
     "name": "stdout",
     "output_type": "stream",
     "text": [
      "Epoch 50, Loss 0.0563\n",
      "Training Accuracy: 0.9455, Testing Accuracy: 0.9582\n",
      "\n"
     ]
    },
    {
     "name": "stdout",
     "output_type": "stream",
     "text": [
      "Epoch 60, Loss 0.0532\n",
      "Training Accuracy: 0.9475, Testing Accuracy: 0.9607\n",
      "\n"
     ]
    },
    {
     "name": "stdout",
     "output_type": "stream",
     "text": [
      "Epoch 70, Loss 0.0508\n",
      "Training Accuracy: 0.9491, Testing Accuracy: 0.9617\n",
      "\n"
     ]
    },
    {
     "name": "stdout",
     "output_type": "stream",
     "text": [
      "Epoch 80, Loss 0.0489\n",
      "Training Accuracy: 0.9503, Testing Accuracy: 0.9632\n",
      "\n"
     ]
    },
    {
     "name": "stdout",
     "output_type": "stream",
     "text": [
      "Epoch 90, Loss 0.0472\n",
      "Training Accuracy: 0.9519, Testing Accuracy: 0.9647\n",
      "\n"
     ]
    },
    {
     "name": "stdout",
     "output_type": "stream",
     "text": [
      "Epoch 100, Loss 0.0459\n",
      "Training Accuracy: 0.9535, Testing Accuracy: 0.9657\n",
      "\n"
     ]
    },
    {
     "name": "stdout",
     "output_type": "stream",
     "text": [
      "Epoch 110, Loss 0.0447\n",
      "Training Accuracy: 0.9545, Testing Accuracy: 0.9652\n",
      "\n"
     ]
    },
    {
     "name": "stdout",
     "output_type": "stream",
     "text": [
      "Epoch 120, Loss 0.0437\n",
      "Training Accuracy: 0.9548, Testing Accuracy: 0.9657\n",
      "\n"
     ]
    },
    {
     "name": "stdout",
     "output_type": "stream",
     "text": [
      "Epoch 130, Loss 0.0428\n",
      "Training Accuracy: 0.9556, Testing Accuracy: 0.9657\n",
      "\n"
     ]
    },
    {
     "name": "stdout",
     "output_type": "stream",
     "text": [
      "Epoch 140, Loss 0.042\n",
      "Training Accuracy: 0.9561, Testing Accuracy: 0.9657\n",
      "\n"
     ]
    },
    {
     "name": "stdout",
     "output_type": "stream",
     "text": [
      "Epoch 150, Loss 0.0413\n",
      "Training Accuracy: 0.9569, Testing Accuracy: 0.9667\n",
      "\n"
     ]
    },
    {
     "name": "stdout",
     "output_type": "stream",
     "text": [
      "Epoch 160, Loss 0.0406\n",
      "Training Accuracy: 0.9574, Testing Accuracy: 0.9667\n",
      "\n"
     ]
    },
    {
     "name": "stdout",
     "output_type": "stream",
     "text": [
      "Epoch 170, Loss 0.04\n",
      "Training Accuracy: 0.9576, Testing Accuracy: 0.9667\n",
      "\n"
     ]
    },
    {
     "name": "stdout",
     "output_type": "stream",
     "text": [
      "Epoch 180, Loss 0.0395\n",
      "Training Accuracy: 0.9582, Testing Accuracy: 0.9667\n",
      "\n"
     ]
    },
    {
     "name": "stdout",
     "output_type": "stream",
     "text": [
      "Epoch 190, Loss 0.039\n",
      "Training Accuracy: 0.9585, Testing Accuracy: 0.9667\n",
      "\n"
     ]
    },
    {
     "name": "stdout",
     "output_type": "stream",
     "text": [
      "Epoch 200, Loss 0.0385\n",
      "Training Accuracy: 0.9585, Testing Accuracy: 0.9667\n",
      "\n"
     ]
    },
    {
     "name": "stdout",
     "output_type": "stream",
     "text": [
      "Epoch 210, Loss 0.0381\n",
      "Training Accuracy: 0.9587, Testing Accuracy: 0.9667\n",
      "\n"
     ]
    },
    {
     "name": "stdout",
     "output_type": "stream",
     "text": [
      "Epoch 220, Loss 0.0377\n",
      "Training Accuracy: 0.9588, Testing Accuracy: 0.9662\n",
      "\n"
     ]
    },
    {
     "name": "stdout",
     "output_type": "stream",
     "text": [
      "Epoch 230, Loss 0.0373\n",
      "Training Accuracy: 0.9590, Testing Accuracy: 0.9662\n",
      "\n"
     ]
    },
    {
     "name": "stdout",
     "output_type": "stream",
     "text": [
      "Epoch 240, Loss 0.037\n",
      "Training Accuracy: 0.9595, Testing Accuracy: 0.9667\n",
      "\n"
     ]
    },
    {
     "name": "stdout",
     "output_type": "stream",
     "text": [
      "Epoch 250, Loss 0.0366\n",
      "Training Accuracy: 0.9595, Testing Accuracy: 0.9672\n",
      "\n"
     ]
    },
    {
     "data": {
      "text/plain": [
       "0.02777760400367344"
      ]
     },
     "execution_count": 22,
     "metadata": {},
     "output_type": "execute_result"
    }
   ],
   "source": [
    "print(\"====== Logistic Regression ======\")\n",
    "learner_lr.train_loop(dl)"
   ]
  },
  {
   "cell_type": "markdown",
   "metadata": {
    "papermill": {
     "duration": 0.051956,
     "end_time": "2020-09-25T20:07:06.865547",
     "exception": false,
     "start_time": "2020-09-25T20:07:06.813591",
     "status": "completed"
    },
    "tags": []
   },
   "source": [
    "### Comparing results of NN and LR"
   ]
  },
  {
   "cell_type": "code",
   "execution_count": 23,
   "metadata": {
    "execution": {
     "iopub.execute_input": "2020-09-25T20:07:06.976210Z",
     "iopub.status.busy": "2020-09-25T20:07:06.975555Z",
     "iopub.status.idle": "2020-09-25T20:07:07.269804Z",
     "shell.execute_reply": "2020-09-25T20:07:07.268657Z"
    },
    "papermill": {
     "duration": 0.35211,
     "end_time": "2020-09-25T20:07:07.269958",
     "exception": false,
     "start_time": "2020-09-25T20:07:06.917848",
     "status": "completed"
    },
    "tags": []
   },
   "outputs": [
    {
     "data": {
      "text/plain": [
       "<matplotlib.legend.Legend at 0x7f60186492b0>"
      ]
     },
     "execution_count": 23,
     "metadata": {},
     "output_type": "execute_result"
    },
    {
     "data": {
      "image/png": "[encoded data removed]",
      "text/plain": [
       "<Figure size 1080x720 with 1 Axes>"
      ]
     },
     "metadata": {
      "needs_background": "light"
     },
     "output_type": "display_data"
    }
   ],
   "source": [
    "plt.figure(figsize=(15,10))\n",
    "\n",
    "# Neural Network plots\n",
    "plt.plot(acc_nn.accuracies, 'r-', label = \"Training Accuracies - NN\")\n",
    "plt.plot(acc_nn.test_accuracies, 'g-', label = \"Testing Accuracies - NN\")\n",
    "\n",
    "# Logistic Regression plots\n",
    "plt.plot(acc_lr.accuracies, 'k-', label = \"Training Accuracies - LR\")\n",
    "plt.plot(acc_lr.test_accuracies, 'b-', label = \"Testing Accuracies - LR\")\n",
    "\n",
    "plt.ylim(0.8, 1)\n",
    "\n",
    "plt.legend()\n",
    "\n"
   ]
  },
  {
   "cell_type": "markdown",
   "metadata": {
    "papermill": {
     "duration": 0.055419,
     "end_time": "2020-09-25T20:07:07.379660",
     "exception": false,
     "start_time": "2020-09-25T20:07:07.324241",
     "status": "completed"
    },
    "tags": []
   },
   "source": [
    "### From the plot, we can observe the following:\n",
    "- Neural Network achieves higher accuracy than the Logistic Regression model.\n",
    "- This apparently, is because of overfitting, i.e. NN captures more noise than data.\n",
    "- Testing accuracy of NN drops below the Training accuracy at higher epochs. This explains the over-fitting on training data.\n",
    "- Logistic Regression gives a reliable accuracy, without the above mentioned problem.\n"
   ]
  },
  {
   "cell_type": "markdown",
   "metadata": {
    "papermill": {
     "duration": 0.05459,
     "end_time": "2020-09-25T20:07:07.487455",
     "exception": false,
     "start_time": "2020-09-25T20:07:07.432865",
     "status": "completed"
    },
    "tags": []
   },
   "source": [
    "### Moving till the last but one layer (excluding it).\n",
    "#### Plotting the outputs of this layer of the NN."
   ]
  },
  {
   "cell_type": "code",
   "execution_count": 24,
   "metadata": {
    "execution": {
     "iopub.execute_input": "2020-09-25T20:07:07.600050Z",
     "iopub.status.busy": "2020-09-25T20:07:07.598802Z",
     "iopub.status.idle": "2020-09-25T20:07:07.612940Z",
     "shell.execute_reply": "2020-09-25T20:07:07.613446Z"
    },
    "papermill": {
     "duration": 0.07226,
     "end_time": "2020-09-25T20:07:07.613592",
     "exception": false,
     "start_time": "2020-09-25T20:07:07.541332",
     "status": "completed"
    },
    "tags": []
   },
   "outputs": [],
   "source": [
    "model_new = Model(layers[:-2])"
   ]
  },
  {
   "cell_type": "code",
   "execution_count": 25,
   "metadata": {
    "execution": {
     "iopub.execute_input": "2020-09-25T20:07:07.739673Z",
     "iopub.status.busy": "2020-09-25T20:07:07.738962Z",
     "iopub.status.idle": "2020-09-25T20:07:07.768733Z",
     "shell.execute_reply": "2020-09-25T20:07:07.769323Z"
    },
    "papermill": {
     "duration": 0.099419,
     "end_time": "2020-09-25T20:07:07.769496",
     "exception": false,
     "start_time": "2020-09-25T20:07:07.670077",
     "status": "completed"
    },
    "tags": []
   },
   "outputs": [],
   "source": [
    "plot_testing = model_new(testing_xdata)"
   ]
  },
  {
   "cell_type": "code",
   "execution_count": 26,
   "metadata": {
    "execution": {
     "iopub.execute_input": "2020-09-25T20:07:07.883978Z",
     "iopub.status.busy": "2020-09-25T20:07:07.883280Z",
     "iopub.status.idle": "2020-09-25T20:07:08.119324Z",
     "shell.execute_reply": "2020-09-25T20:07:08.120451Z"
    },
    "papermill": {
     "duration": 0.296465,
     "end_time": "2020-09-25T20:07:08.120632",
     "exception": false,
     "start_time": "2020-09-25T20:07:07.824167",
     "status": "completed"
    },
    "tags": []
   },
   "outputs": [
    {
     "data": {
      "text/plain": [
       "Text(0.5, 1.0, 'Outputs')"
      ]
     },
     "execution_count": 26,
     "metadata": {},
     "output_type": "execute_result"
    },
    {
     "data": {
      "image/png": "[encoded data removed]",
      "text/plain": [
       "<Figure size 576x504 with 1 Axes>"
      ]
     },
     "metadata": {
      "needs_background": "light"
     },
     "output_type": "display_data"
    }
   ],
   "source": [
    "plt.figure(figsize=(8,7))\n",
    "plt.scatter(plot_testing[:,0], plot_testing[:,1], alpha = 0.1, c = y_test.ravel());\n",
    "plt.title('Outputs')"
   ]
  },
  {
   "cell_type": "markdown",
   "metadata": {
    "papermill": {
     "duration": 0.054529,
     "end_time": "2020-09-25T20:07:08.233094",
     "exception": false,
     "start_time": "2020-09-25T20:07:08.178565",
     "status": "completed"
    },
    "tags": []
   },
   "source": [
    "### Plotting probability contours"
   ]
  },
  {
   "cell_type": "code",
   "execution_count": 27,
   "metadata": {
    "execution": {
     "iopub.execute_input": "2020-09-25T20:07:08.356345Z",
     "iopub.status.busy": "2020-09-25T20:07:08.355193Z",
     "iopub.status.idle": "2020-09-25T20:07:08.370650Z",
     "shell.execute_reply": "2020-09-25T20:07:08.371235Z"
    },
    "papermill": {
     "duration": 0.076945,
     "end_time": "2020-09-25T20:07:08.371397",
     "exception": false,
     "start_time": "2020-09-25T20:07:08.294452",
     "status": "completed"
    },
    "tags": []
   },
   "outputs": [],
   "source": [
    "model_prob = Model(layers[-2:]) "
   ]
  },
  {
   "cell_type": "code",
   "execution_count": 28,
   "metadata": {
    "execution": {
     "iopub.execute_input": "2020-09-25T20:07:08.488289Z",
     "iopub.status.busy": "2020-09-25T20:07:08.487541Z",
     "iopub.status.idle": "2020-09-25T20:07:08.503515Z",
     "shell.execute_reply": "2020-09-25T20:07:08.504065Z"
    },
    "papermill": {
     "duration": 0.078172,
     "end_time": "2020-09-25T20:07:08.504248",
     "exception": false,
     "start_time": "2020-09-25T20:07:08.426076",
     "status": "completed"
    },
    "tags": []
   },
   "outputs": [],
   "source": [
    "# Adjust the x and y ranges according to the above generated plot.\n",
    "x_range = np.linspace(-4, 1, 100) \n",
    "y_range = np.linspace(-6, 6, 100) \n",
    "x_grid, y_grid = np.meshgrid(x_range, y_range) # x_grid and y_grig are of size 100 X 100\n",
    "\n",
    "# converting x_grid and y_grid to continuous arrays\n",
    "x_grid_flat = np.ravel(x_grid)\n",
    "y_grid_flat = np.ravel(y_grid)\n",
    "\n",
    "# The last layer of the current model takes two columns as input. Hence transpose of np.vstack() is required.\n",
    "X = np.vstack((x_grid_flat, y_grid_flat)).T\n",
    "\n",
    "# x_grid and y_grid are of size 100 x 100\n",
    "probability_contour = model_prob(X).reshape(100,100) "
   ]
  },
  {
   "cell_type": "code",
   "execution_count": 29,
   "metadata": {
    "execution": {
     "iopub.execute_input": "2020-09-25T20:07:08.646864Z",
     "iopub.status.busy": "2020-09-25T20:07:08.646156Z",
     "iopub.status.idle": "2020-09-25T20:07:08.940027Z",
     "shell.execute_reply": "2020-09-25T20:07:08.940558Z"
    },
    "papermill": {
     "duration": 0.38009,
     "end_time": "2020-09-25T20:07:08.940801",
     "exception": false,
     "start_time": "2020-09-25T20:07:08.560711",
     "status": "completed"
    },
    "tags": []
   },
   "outputs": [
    {
     "data": {
      "image/png": "[encoded data removed]",
      "text/plain": [
       "<Figure size 720x648 with 1 Axes>"
      ]
     },
     "metadata": {
      "needs_background": "light"
     },
     "output_type": "display_data"
    }
   ],
   "source": [
    "plt.figure(figsize=(10,9))\n",
    "plt.scatter(plot_testing[:,0], plot_testing[:,1], alpha = 0.1, c = y_test.ravel())\n",
    "contours = plt.contour(x_grid,y_grid,probability_contour)\n",
    "plt.title('Probability Contours')\n",
    "plt.clabel(contours, inline = True );"
   ]
  }
 ],
 "metadata": {
  "kernelspec": {
   "display_name": "Python 3",
   "language": "python",
   "name": "python3"
  },
  "language_info": {
   "codemirror_mode": {
    "name": "ipython",
    "version": 3
   },
   "file_extension": ".py",
   "mimetype": "text/x-python",
   "name": "python",
   "nbconvert_exporter": "python",
   "pygments_lexer": "ipython3",
   "version": "3.6.12"
  },
  "papermill": {
   "duration": 168.199804,
   "end_time": "2020-09-25T20:07:09.406752",
   "environment_variables": {},
   "exception": null,
   "input_path": "2020-08-11-NeuralNetwork.ipynb",
   "output_path": "2020-08-11-NeuralNetwork.ipynb",
   "parameters": {},
   "start_time": "2020-09-25T20:04:21.206948",
   "version": "2.1.2"
  }
 },
 "nbformat": 4,
 "nbformat_minor": 4
}