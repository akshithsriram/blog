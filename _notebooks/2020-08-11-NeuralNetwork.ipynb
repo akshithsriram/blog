{
 "cells": [
  {
   "cell_type": "markdown",
   "metadata": {
    "papermill": {
     "duration": 0.027369,
     "end_time": "2021-01-08T10:21:22.555369",
     "exception": false,
     "start_time": "2021-01-08T10:21:22.528000",
     "status": "completed"
    },
    "tags": []
   },
   "source": [
    "# \"A Basic Neural Network: Differentiate Hand-Written Digits\"\n",
    "\n",
    "- badges: true\n",
    "- author: Akshith Sriram"
   ]
  },
  {
   "cell_type": "markdown",
   "metadata": {
    "papermill": {
     "duration": 0.021477,
     "end_time": "2021-01-08T10:21:22.600866",
     "exception": false,
     "start_time": "2021-01-08T10:21:22.579389",
     "status": "completed"
    },
    "tags": []
   },
   "source": [
    "### Key Objectives:\n",
    "- Building a neural network that differentiates two hand-written digits 3 and 8.\n",
    "- Comparing the results of this Neural Network (NN) to that of a Logistic Regression (LR) model.\n",
    "\n",
    "### Requirements:\n",
    "- 'Kudzu' : A neural network library that was designed during our course by [Univ.AI](www.univ.ai). \n",
    "- MNIST Database\n",
    "\n",
    "If MNIST is not installed, use the command `!pip install mnist` given below.\n",
    "It can be run both from the command line and Jupyter Notebook."
   ]
  },
  {
   "cell_type": "code",
   "execution_count": 1,
   "metadata": {
    "execution": {
     "iopub.execute_input": "2021-01-08T10:21:22.651770Z",
     "iopub.status.busy": "2021-01-08T10:21:22.651280Z",
     "iopub.status.idle": "2021-01-08T10:21:23.955813Z",
     "shell.execute_reply": "2021-01-08T10:21:23.956453Z"
    },
    "papermill": {
     "duration": 1.336289,
     "end_time": "2021-01-08T10:21:23.956690",
     "exception": false,
     "start_time": "2021-01-08T10:21:22.620401",
     "status": "completed"
    },
    "tags": []
   },
   "outputs": [
    {
     "name": "stdout",
     "output_type": "stream",
     "text": [
      "Collecting mnist\r\n"
     ]
    },
    {
     "name": "stdout",
     "output_type": "stream",
     "text": [
      "  Downloading mnist-0.2.2-py2.py3-none-any.whl (3.5 kB)\r\n",
      "Requirement already satisfied: numpy in /opt/hostedtoolcache/Python/3.6.12/x64/lib/python3.6/site-packages (from mnist) (1.19.5)\r\n"
     ]
    },
    {
     "name": "stdout",
     "output_type": "stream",
     "text": [
      "Installing collected packages: mnist\r\n"
     ]
    },
    {
     "name": "stdout",
     "output_type": "stream",
     "text": [
      "Successfully installed mnist-0.2.2\r\n"
     ]
    },
    {
     "name": "stdout",
     "output_type": "stream",
     "text": [
      "\u001b[33mWARNING: You are using pip version 20.3.1; however, version 20.3.3 is available.\r\n",
      "You should consider upgrading via the '/opt/hostedtoolcache/Python/3.6.12/x64/bin/python -m pip install --upgrade pip' command.\u001b[0m\r\n"
     ]
    }
   ],
   "source": [
    "!pip install mnist "
   ]
  },
  {
   "cell_type": "markdown",
   "metadata": {
    "papermill": {
     "duration": 0.021551,
     "end_time": "2021-01-08T10:21:24.002508",
     "exception": false,
     "start_time": "2021-01-08T10:21:23.980957",
     "status": "completed"
    },
    "tags": []
   },
   "source": [
    "#### Importing necessary libraries"
   ]
  },
  {
   "cell_type": "code",
   "execution_count": 2,
   "metadata": {
    "execution": {
     "iopub.execute_input": "2021-01-08T10:21:24.053378Z",
     "iopub.status.busy": "2021-01-08T10:21:24.051009Z",
     "iopub.status.idle": "2021-01-08T10:21:24.548368Z",
     "shell.execute_reply": "2021-01-08T10:21:24.547481Z"
    },
    "papermill": {
     "duration": 0.525067,
     "end_time": "2021-01-08T10:21:24.548592",
     "exception": false,
     "start_time": "2021-01-08T10:21:24.023525",
     "status": "completed"
    },
    "tags": []
   },
   "outputs": [],
   "source": [
    "%load_ext autoreload\n",
    "%autoreload 2\n",
    "\n",
    "%matplotlib inline\n",
    "import matplotlib.pyplot as plt\n",
    "\n",
    "import numpy as np\n",
    "import pandas as pd"
   ]
  },
  {
   "cell_type": "markdown",
   "metadata": {
    "papermill": {
     "duration": 0.021909,
     "end_time": "2021-01-08T10:21:24.594437",
     "exception": false,
     "start_time": "2021-01-08T10:21:24.572528",
     "status": "completed"
    },
    "tags": []
   },
   "source": [
    "### Preparing the Data"
   ]
  },
  {
   "cell_type": "code",
   "execution_count": 3,
   "metadata": {
    "execution": {
     "iopub.execute_input": "2021-01-08T10:21:24.642168Z",
     "iopub.status.busy": "2021-01-08T10:21:24.641683Z",
     "iopub.status.idle": "2021-01-08T10:21:24.652154Z",
     "shell.execute_reply": "2021-01-08T10:21:24.652618Z"
    },
    "papermill": {
     "duration": 0.037537,
     "end_time": "2021-01-08T10:21:24.652761",
     "exception": false,
     "start_time": "2021-01-08T10:21:24.615224",
     "status": "completed"
    },
    "tags": []
   },
   "outputs": [],
   "source": [
    "import mnist"
   ]
  },
  {
   "cell_type": "code",
   "execution_count": 4,
   "metadata": {
    "execution": {
     "iopub.execute_input": "2021-01-08T10:21:24.696679Z",
     "iopub.status.busy": "2021-01-08T10:21:24.696262Z",
     "iopub.status.idle": "2021-01-08T10:21:25.585236Z",
     "shell.execute_reply": "2021-01-08T10:21:25.584378Z"
    },
    "papermill": {
     "duration": 0.911023,
     "end_time": "2021-01-08T10:21:25.585351",
     "exception": false,
     "start_time": "2021-01-08T10:21:24.674328",
     "status": "completed"
    },
    "tags": []
   },
   "outputs": [],
   "source": [
    "train_images = mnist.train_images()\n",
    "train_labels = mnist.train_labels()"
   ]
  },
  {
   "cell_type": "code",
   "execution_count": 5,
   "metadata": {
    "execution": {
     "iopub.execute_input": "2021-01-08T10:21:25.628634Z",
     "iopub.status.busy": "2021-01-08T10:21:25.627874Z",
     "iopub.status.idle": "2021-01-08T10:21:25.638577Z",
     "shell.execute_reply": "2021-01-08T10:21:25.638199Z"
    },
    "papermill": {
     "duration": 0.033629,
     "end_time": "2021-01-08T10:21:25.638667",
     "exception": false,
     "start_time": "2021-01-08T10:21:25.605038",
     "status": "completed"
    },
    "tags": []
   },
   "outputs": [
    {
     "data": {
      "text/plain": [
       "((60000, 28, 28), (60000,))"
      ]
     },
     "execution_count": 5,
     "metadata": {},
     "output_type": "execute_result"
    }
   ],
   "source": [
    "train_images.shape, train_labels.shape"
   ]
  },
  {
   "cell_type": "code",
   "execution_count": 6,
   "metadata": {
    "execution": {
     "iopub.execute_input": "2021-01-08T10:21:25.685878Z",
     "iopub.status.busy": "2021-01-08T10:21:25.685461Z",
     "iopub.status.idle": "2021-01-08T10:21:26.083455Z",
     "shell.execute_reply": "2021-01-08T10:21:26.082923Z"
    },
    "papermill": {
     "duration": 0.421545,
     "end_time": "2021-01-08T10:21:26.083604",
     "exception": false,
     "start_time": "2021-01-08T10:21:25.662059",
     "status": "completed"
    },
    "tags": []
   },
   "outputs": [],
   "source": [
    "test_images = mnist.test_images()\n",
    "test_labels = mnist.test_labels()"
   ]
  },
  {
   "cell_type": "code",
   "execution_count": 7,
   "metadata": {
    "execution": {
     "iopub.execute_input": "2021-01-08T10:21:26.129924Z",
     "iopub.status.busy": "2021-01-08T10:21:26.129351Z",
     "iopub.status.idle": "2021-01-08T10:21:26.142428Z",
     "shell.execute_reply": "2021-01-08T10:21:26.142982Z"
    },
    "papermill": {
     "duration": 0.038001,
     "end_time": "2021-01-08T10:21:26.143113",
     "exception": false,
     "start_time": "2021-01-08T10:21:26.105112",
     "status": "completed"
    },
    "tags": []
   },
   "outputs": [
    {
     "data": {
      "text/plain": [
       "((10000, 28, 28), (10000,))"
      ]
     },
     "execution_count": 7,
     "metadata": {},
     "output_type": "execute_result"
    }
   ],
   "source": [
    "test_images.shape, test_labels.shape"
   ]
  },
  {
   "cell_type": "code",
   "execution_count": 8,
   "metadata": {
    "execution": {
     "iopub.execute_input": "2021-01-08T10:21:26.192834Z",
     "iopub.status.busy": "2021-01-08T10:21:26.192286Z",
     "iopub.status.idle": "2021-01-08T10:21:26.318660Z",
     "shell.execute_reply": "2021-01-08T10:21:26.317417Z"
    },
    "papermill": {
     "duration": 0.152689,
     "end_time": "2021-01-08T10:21:26.318874",
     "exception": false,
     "start_time": "2021-01-08T10:21:26.166185",
     "status": "completed"
    },
    "tags": []
   },
   "outputs": [
    {
     "name": "stdout",
     "output_type": "stream",
     "text": [
      "2\n"
     ]
    },
    {
     "data": {
      "text/plain": [
       "<matplotlib.image.AxesImage at 0x7f08a6e71390>"
      ]
     },
     "execution_count": 8,
     "metadata": {},
     "output_type": "execute_result"
    },
    {
     "data": {
      "image/png": "[encoded data removed]",
      "text/plain": [
       "<Figure size 432x288 with 1 Axes>"
      ]
     },
     "metadata": {
      "needs_background": "light"
     },
     "output_type": "display_data"
    }
   ],
   "source": [
    "image_index = 7776 # You may select anything up to 60,000\n",
    "print(train_labels[image_index]) \n",
    "plt.imshow(train_images[image_index], cmap='Greys')"
   ]
  },
  {
   "cell_type": "markdown",
   "metadata": {
    "papermill": {
     "duration": 0.024034,
     "end_time": "2021-01-08T10:21:26.368492",
     "exception": false,
     "start_time": "2021-01-08T10:21:26.344458",
     "status": "completed"
    },
    "tags": []
   },
   "source": [
    "## Filter data to get 3 and 8 out"
   ]
  },
  {
   "cell_type": "code",
   "execution_count": 9,
   "metadata": {
    "execution": {
     "iopub.execute_input": "2021-01-08T10:21:26.417061Z",
     "iopub.status.busy": "2021-01-08T10:21:26.416579Z",
     "iopub.status.idle": "2021-01-08T10:21:26.432706Z",
     "shell.execute_reply": "2021-01-08T10:21:26.432347Z"
    },
    "papermill": {
     "duration": 0.042411,
     "end_time": "2021-01-08T10:21:26.432795",
     "exception": false,
     "start_time": "2021-01-08T10:21:26.390384",
     "status": "completed"
    },
    "tags": []
   },
   "outputs": [],
   "source": [
    "train_filter = np.where((train_labels == 3 ) | (train_labels == 8))\n",
    "test_filter = np.where((test_labels == 3) | (test_labels == 8))\n",
    "X_train, y_train = train_images[train_filter], train_labels[train_filter]\n",
    "X_test, y_test = test_images[test_filter], test_labels[test_filter]"
   ]
  },
  {
   "cell_type": "markdown",
   "metadata": {
    "papermill": {
     "duration": 0.023078,
     "end_time": "2021-01-08T10:21:26.477476",
     "exception": false,
     "start_time": "2021-01-08T10:21:26.454398",
     "status": "completed"
    },
    "tags": []
   },
   "source": [
    "We normalize the pixel values in the 0 to 1 range"
   ]
  },
  {
   "cell_type": "code",
   "execution_count": 10,
   "metadata": {
    "execution": {
     "iopub.execute_input": "2021-01-08T10:21:26.524653Z",
     "iopub.status.busy": "2021-01-08T10:21:26.524104Z",
     "iopub.status.idle": "2021-01-08T10:21:26.568622Z",
     "shell.execute_reply": "2021-01-08T10:21:26.569155Z"
    },
    "papermill": {
     "duration": 0.070908,
     "end_time": "2021-01-08T10:21:26.569338",
     "exception": false,
     "start_time": "2021-01-08T10:21:26.498430",
     "status": "completed"
    },
    "tags": []
   },
   "outputs": [],
   "source": [
    "X_train = X_train/255.\n",
    "X_test = X_test/255."
   ]
  },
  {
   "cell_type": "markdown",
   "metadata": {
    "papermill": {
     "duration": 0.025259,
     "end_time": "2021-01-08T10:21:26.620494",
     "exception": false,
     "start_time": "2021-01-08T10:21:26.595235",
     "status": "completed"
    },
    "tags": []
   },
   "source": [
    "Setup the labels as 1 (when the digit is 3) and 0 (when the digit is 8)"
   ]
  },
  {
   "cell_type": "code",
   "execution_count": 11,
   "metadata": {
    "execution": {
     "iopub.execute_input": "2021-01-08T10:21:26.670702Z",
     "iopub.status.busy": "2021-01-08T10:21:26.670123Z",
     "iopub.status.idle": "2021-01-08T10:21:26.684116Z",
     "shell.execute_reply": "2021-01-08T10:21:26.683614Z"
    },
    "papermill": {
     "duration": 0.040149,
     "end_time": "2021-01-08T10:21:26.684238",
     "exception": false,
     "start_time": "2021-01-08T10:21:26.644089",
     "status": "completed"
    },
    "tags": []
   },
   "outputs": [],
   "source": [
    "y_train = 1*(y_train==3)\n",
    "y_test = 1*(y_test==3)"
   ]
  },
  {
   "cell_type": "code",
   "execution_count": 12,
   "metadata": {
    "execution": {
     "iopub.execute_input": "2021-01-08T10:21:26.730907Z",
     "iopub.status.busy": "2021-01-08T10:21:26.730324Z",
     "iopub.status.idle": "2021-01-08T10:21:26.745399Z",
     "shell.execute_reply": "2021-01-08T10:21:26.744989Z"
    },
    "papermill": {
     "duration": 0.038804,
     "end_time": "2021-01-08T10:21:26.745500",
     "exception": false,
     "start_time": "2021-01-08T10:21:26.706696",
     "status": "completed"
    },
    "tags": []
   },
   "outputs": [
    {
     "data": {
      "text/plain": [
       "((11982, 28, 28), (1984, 28, 28))"
      ]
     },
     "execution_count": 12,
     "metadata": {},
     "output_type": "execute_result"
    }
   ],
   "source": [
    "X_train.shape, X_test.shape"
   ]
  },
  {
   "cell_type": "markdown",
   "metadata": {
    "papermill": {
     "duration": 0.024782,
     "end_time": "2021-01-08T10:21:26.792647",
     "exception": false,
     "start_time": "2021-01-08T10:21:26.767865",
     "status": "completed"
    },
    "tags": []
   },
   "source": [
    "### Reshape the input data to create a linear array"
   ]
  },
  {
   "cell_type": "code",
   "execution_count": 13,
   "metadata": {
    "execution": {
     "iopub.execute_input": "2021-01-08T10:21:26.844492Z",
     "iopub.status.busy": "2021-01-08T10:21:26.843905Z",
     "iopub.status.idle": "2021-01-08T10:21:26.858393Z",
     "shell.execute_reply": "2021-01-08T10:21:26.857979Z"
    },
    "papermill": {
     "duration": 0.042382,
     "end_time": "2021-01-08T10:21:26.858556",
     "exception": false,
     "start_time": "2021-01-08T10:21:26.816174",
     "status": "completed"
    },
    "tags": []
   },
   "outputs": [
    {
     "data": {
      "text/plain": [
       "((11982, 784), (1984, 784))"
      ]
     },
     "execution_count": 13,
     "metadata": {},
     "output_type": "execute_result"
    }
   ],
   "source": [
    "X_train = X_train.reshape(X_train.shape[0], -1)\n",
    "X_test = X_test.reshape(X_test.shape[0], -1)\n",
    "X_train.shape, X_test.shape"
   ]
  },
  {
   "cell_type": "markdown",
   "metadata": {
    "papermill": {
     "duration": 0.02103,
     "end_time": "2021-01-08T10:21:26.900730",
     "exception": false,
     "start_time": "2021-01-08T10:21:26.879700",
     "status": "completed"
    },
    "tags": []
   },
   "source": [
    "### Importing appropriate functions from 'Kudzu'"
   ]
  },
  {
   "cell_type": "code",
   "execution_count": 14,
   "metadata": {
    "execution": {
     "iopub.execute_input": "2021-01-08T10:21:26.951485Z",
     "iopub.status.busy": "2021-01-08T10:21:26.951068Z",
     "iopub.status.idle": "2021-01-08T10:21:26.974220Z",
     "shell.execute_reply": "2021-01-08T10:21:26.973447Z"
    },
    "papermill": {
     "duration": 0.051186,
     "end_time": "2021-01-08T10:21:26.974378",
     "exception": false,
     "start_time": "2021-01-08T10:21:26.923192",
     "status": "completed"
    },
    "tags": []
   },
   "outputs": [],
   "source": [
    "from kudzu.layer import Sigmoid\n",
    "from kudzu.layer import Relu\n",
    "from kudzu.layer import Affine, Sigmoid\n",
    "\n",
    "from kudzu.model import Model\n",
    "from kudzu.train import Learner\n",
    "from kudzu.optim import GD\n",
    "from kudzu.data import Data, Dataloader, Sampler\n",
    "\n",
    "from kudzu.callbacks import AccCallback\n",
    "from kudzu.callbacks import ClfCallback\n",
    "\n",
    "from kudzu.loss import MSE"
   ]
  },
  {
   "cell_type": "markdown",
   "metadata": {
    "papermill": {
     "duration": 0.021856,
     "end_time": "2021-01-08T10:21:27.020800",
     "exception": false,
     "start_time": "2021-01-08T10:21:26.998944",
     "status": "completed"
    },
    "tags": []
   },
   "source": [
    "### Let us create a `Config` class, to store important parameters. \n",
    "This class essentially plays the role of a dictionary."
   ]
  },
  {
   "cell_type": "code",
   "execution_count": 15,
   "metadata": {
    "execution": {
     "iopub.execute_input": "2021-01-08T10:21:27.068916Z",
     "iopub.status.busy": "2021-01-08T10:21:27.068328Z",
     "iopub.status.idle": "2021-01-08T10:21:27.080487Z",
     "shell.execute_reply": "2021-01-08T10:21:27.080938Z"
    },
    "papermill": {
     "duration": 0.039215,
     "end_time": "2021-01-08T10:21:27.081080",
     "exception": false,
     "start_time": "2021-01-08T10:21:27.041865",
     "status": "completed"
    },
    "tags": []
   },
   "outputs": [],
   "source": [
    "class Config:\n",
    "    pass\n",
    "config = Config()\n",
    "config.lr = 0.001\n",
    "config.num_epochs = 251\n",
    "config.bs = 50"
   ]
  },
  {
   "cell_type": "markdown",
   "metadata": {
    "papermill": {
     "duration": 0.022688,
     "end_time": "2021-01-08T10:21:27.126690",
     "exception": false,
     "start_time": "2021-01-08T10:21:27.104002",
     "status": "completed"
    },
    "tags": []
   },
   "source": [
    "### Initializing data to the variables"
   ]
  },
  {
   "cell_type": "code",
   "execution_count": 16,
   "metadata": {
    "execution": {
     "iopub.execute_input": "2021-01-08T10:21:27.178532Z",
     "iopub.status.busy": "2021-01-08T10:21:27.178022Z",
     "iopub.status.idle": "2021-01-08T10:21:27.191817Z",
     "shell.execute_reply": "2021-01-08T10:21:27.191416Z"
    },
    "papermill": {
     "duration": 0.04214,
     "end_time": "2021-01-08T10:21:27.191905",
     "exception": false,
     "start_time": "2021-01-08T10:21:27.149765",
     "status": "completed"
    },
    "tags": []
   },
   "outputs": [],
   "source": [
    "data = Data(X_train, y_train.reshape(-1,1))\n",
    "sampler = Sampler(data, config.bs, shuffle=True)\n",
    "\n",
    "dl = Dataloader(data, sampler)\n",
    "\n",
    "opt = GD(config.lr)\n",
    "loss = MSE()"
   ]
  },
  {
   "cell_type": "code",
   "execution_count": 17,
   "metadata": {
    "execution": {
     "iopub.execute_input": "2021-01-08T10:21:27.241426Z",
     "iopub.status.busy": "2021-01-08T10:21:27.240951Z",
     "iopub.status.idle": "2021-01-08T10:21:27.252413Z",
     "shell.execute_reply": "2021-01-08T10:21:27.252770Z"
    },
    "papermill": {
     "duration": 0.040284,
     "end_time": "2021-01-08T10:21:27.252865",
     "exception": false,
     "start_time": "2021-01-08T10:21:27.212581",
     "status": "completed"
    },
    "tags": []
   },
   "outputs": [],
   "source": [
    "training_xdata = X_train\n",
    "testing_xdata = X_test\n",
    "training_ydata = y_train.reshape(-1,1)\n",
    "testing_ydata = y_test.reshape(-1,1)"
   ]
  },
  {
   "cell_type": "markdown",
   "metadata": {
    "papermill": {
     "duration": 0.02415,
     "end_time": "2021-01-08T10:21:27.297912",
     "exception": false,
     "start_time": "2021-01-08T10:21:27.273762",
     "status": "completed"
    },
    "tags": []
   },
   "source": [
    "### Running Models with the Training data\n",
    "Details about the network layers:\n",
    "- A first affine layer has 784 inputs and does 100 affine transforms. These are followed by a Relu\n",
    "- A second affine layer has 100 inputs from the 100 activations of the past layer, and does 100 affine transforms. These are followed by a Relu\n",
    "- A third affine layer has 100 activations and does 2 affine transformations to create an embedding for visualization. There is no non-linearity here.\n",
    "- A final \"logistic regression\" which has an affine transform from 2 inputs to 1 output, which is squeezed through a sigmoid.\n",
    "\n",
    "Help taken from Anshuman's Notebook."
   ]
  },
  {
   "cell_type": "code",
   "execution_count": 18,
   "metadata": {
    "execution": {
     "iopub.execute_input": "2021-01-08T10:21:27.354596Z",
     "iopub.status.busy": "2021-01-08T10:21:27.354151Z",
     "iopub.status.idle": "2021-01-08T10:21:27.368782Z",
     "shell.execute_reply": "2021-01-08T10:21:27.368450Z"
    },
    "papermill": {
     "duration": 0.044964,
     "end_time": "2021-01-08T10:21:27.368873",
     "exception": false,
     "start_time": "2021-01-08T10:21:27.323909",
     "status": "completed"
    },
    "tags": []
   },
   "outputs": [],
   "source": [
    "# layers for the Neural Network\n",
    "layers = [Affine(\"first\", 784, 100), Relu(\"first\"), Affine(\"second\", 100, 100), Relu(\"second\"), Affine(\"third\", 100, 2), Affine(\"final\", 2, 1), Sigmoid(\"final\")]\n",
    "model_nn = Model(layers)\n",
    "\n",
    "# layers for the Logistic Regression\n",
    "layers_lr = [Affine(\"logits\", 784, 1), Sigmoid(\"sigmoid\")]\n",
    "model_lr = Model(layers_lr)"
   ]
  },
  {
   "cell_type": "code",
   "execution_count": 19,
   "metadata": {
    "execution": {
     "iopub.execute_input": "2021-01-08T10:21:27.417700Z",
     "iopub.status.busy": "2021-01-08T10:21:27.417285Z",
     "iopub.status.idle": "2021-01-08T10:21:27.430622Z",
     "shell.execute_reply": "2021-01-08T10:21:27.431096Z"
    },
    "papermill": {
     "duration": 0.040915,
     "end_time": "2021-01-08T10:21:27.431218",
     "exception": false,
     "start_time": "2021-01-08T10:21:27.390303",
     "status": "completed"
    },
    "tags": []
   },
   "outputs": [],
   "source": [
    "# suffix _nn stands for Neural Network.\n",
    "learner_nn = Learner(loss, model_nn, opt, config.num_epochs)\n",
    "acc_nn = ClfCallback(learner_nn, config.bs, training_xdata , testing_xdata, training_ydata, testing_ydata)\n",
    "learner_nn.set_callbacks([acc_nn])"
   ]
  },
  {
   "cell_type": "code",
   "execution_count": 20,
   "metadata": {
    "execution": {
     "iopub.execute_input": "2021-01-08T10:21:27.478817Z",
     "iopub.status.busy": "2021-01-08T10:21:27.478369Z",
     "iopub.status.idle": "2021-01-08T10:22:44.389040Z",
     "shell.execute_reply": "2021-01-08T10:22:44.389785Z"
    },
    "papermill": {
     "duration": 76.936662,
     "end_time": "2021-01-08T10:22:44.389936",
     "exception": false,
     "start_time": "2021-01-08T10:21:27.453274",
     "status": "completed"
    },
    "tags": []
   },
   "outputs": [
    {
     "name": "stdout",
     "output_type": "stream",
     "text": [
      "====== Neural Network ======\n"
     ]
    },
    {
     "name": "stdout",
     "output_type": "stream",
     "text": [
      "Epoch 0, Loss 0.2404\n",
      "Training Accuracy: 0.6966, Testing Accuracy: 0.7334\n",
      "\n"
     ]
    },
    {
     "name": "stdout",
     "output_type": "stream",
     "text": [
      "Epoch 10, Loss 0.1271\n",
      "Training Accuracy: 0.8943, Testing Accuracy: 0.8992\n",
      "\n"
     ]
    },
    {
     "name": "stdout",
     "output_type": "stream",
     "text": [
      "Epoch 20, Loss 0.0726\n",
      "Training Accuracy: 0.9251, Testing Accuracy: 0.9340\n",
      "\n"
     ]
    },
    {
     "name": "stdout",
     "output_type": "stream",
     "text": [
      "Epoch 30, Loss 0.054\n",
      "Training Accuracy: 0.9395, Testing Accuracy: 0.9486\n",
      "\n"
     ]
    },
    {
     "name": "stdout",
     "output_type": "stream",
     "text": [
      "Epoch 40, Loss 0.045\n",
      "Training Accuracy: 0.9474, Testing Accuracy: 0.9567\n",
      "\n"
     ]
    },
    {
     "name": "stdout",
     "output_type": "stream",
     "text": [
      "Epoch 50, Loss 0.0399\n",
      "Training Accuracy: 0.9536, Testing Accuracy: 0.9602\n",
      "\n"
     ]
    },
    {
     "name": "stdout",
     "output_type": "stream",
     "text": [
      "Epoch 60, Loss 0.0365\n",
      "Training Accuracy: 0.9573, Testing Accuracy: 0.9652\n",
      "\n"
     ]
    },
    {
     "name": "stdout",
     "output_type": "stream",
     "text": [
      "Epoch 70, Loss 0.0342\n",
      "Training Accuracy: 0.9594, Testing Accuracy: 0.9642\n",
      "\n"
     ]
    },
    {
     "name": "stdout",
     "output_type": "stream",
     "text": [
      "Epoch 80, Loss 0.0323\n",
      "Training Accuracy: 0.9615, Testing Accuracy: 0.9662\n",
      "\n"
     ]
    },
    {
     "name": "stdout",
     "output_type": "stream",
     "text": [
      "Epoch 90, Loss 0.0308\n",
      "Training Accuracy: 0.9629, Testing Accuracy: 0.9672\n",
      "\n"
     ]
    },
    {
     "name": "stdout",
     "output_type": "stream",
     "text": [
      "Epoch 100, Loss 0.0296\n",
      "Training Accuracy: 0.9645, Testing Accuracy: 0.9672\n",
      "\n"
     ]
    },
    {
     "name": "stdout",
     "output_type": "stream",
     "text": [
      "Epoch 110, Loss 0.0285\n",
      "Training Accuracy: 0.9659, Testing Accuracy: 0.9672\n",
      "\n"
     ]
    },
    {
     "name": "stdout",
     "output_type": "stream",
     "text": [
      "Epoch 120, Loss 0.0276\n",
      "Training Accuracy: 0.9681, Testing Accuracy: 0.9672\n",
      "\n"
     ]
    },
    {
     "name": "stdout",
     "output_type": "stream",
     "text": [
      "Epoch 130, Loss 0.0268\n",
      "Training Accuracy: 0.9693, Testing Accuracy: 0.9672\n",
      "\n"
     ]
    },
    {
     "name": "stdout",
     "output_type": "stream",
     "text": [
      "Epoch 140, Loss 0.026\n",
      "Training Accuracy: 0.9700, Testing Accuracy: 0.9682\n",
      "\n"
     ]
    },
    {
     "name": "stdout",
     "output_type": "stream",
     "text": [
      "Epoch 150, Loss 0.0253\n",
      "Training Accuracy: 0.9708, Testing Accuracy: 0.9698\n",
      "\n"
     ]
    },
    {
     "name": "stdout",
     "output_type": "stream",
     "text": [
      "Epoch 160, Loss 0.0247\n",
      "Training Accuracy: 0.9710, Testing Accuracy: 0.9688\n",
      "\n"
     ]
    },
    {
     "name": "stdout",
     "output_type": "stream",
     "text": [
      "Epoch 170, Loss 0.0241\n",
      "Training Accuracy: 0.9722, Testing Accuracy: 0.9698\n",
      "\n"
     ]
    },
    {
     "name": "stdout",
     "output_type": "stream",
     "text": [
      "Epoch 180, Loss 0.0236\n",
      "Training Accuracy: 0.9730, Testing Accuracy: 0.9703\n",
      "\n"
     ]
    },
    {
     "name": "stdout",
     "output_type": "stream",
     "text": [
      "Epoch 190, Loss 0.0231\n",
      "Training Accuracy: 0.9735, Testing Accuracy: 0.9698\n",
      "\n"
     ]
    },
    {
     "name": "stdout",
     "output_type": "stream",
     "text": [
      "Epoch 200, Loss 0.0226\n",
      "Training Accuracy: 0.9740, Testing Accuracy: 0.9723\n",
      "\n"
     ]
    },
    {
     "name": "stdout",
     "output_type": "stream",
     "text": [
      "Epoch 210, Loss 0.0222\n",
      "Training Accuracy: 0.9750, Testing Accuracy: 0.9728\n",
      "\n"
     ]
    },
    {
     "name": "stdout",
     "output_type": "stream",
     "text": [
      "Epoch 220, Loss 0.0218\n",
      "Training Accuracy: 0.9753, Testing Accuracy: 0.9728\n",
      "\n"
     ]
    },
    {
     "name": "stdout",
     "output_type": "stream",
     "text": [
      "Epoch 230, Loss 0.0214\n",
      "Training Accuracy: 0.9757, Testing Accuracy: 0.9728\n",
      "\n"
     ]
    },
    {
     "name": "stdout",
     "output_type": "stream",
     "text": [
      "Epoch 240, Loss 0.021\n",
      "Training Accuracy: 0.9760, Testing Accuracy: 0.9728\n",
      "\n"
     ]
    },
    {
     "name": "stdout",
     "output_type": "stream",
     "text": [
      "Epoch 250, Loss 0.0206\n",
      "Training Accuracy: 0.9762, Testing Accuracy: 0.9733\n",
      "\n"
     ]
    },
    {
     "data": {
      "text/plain": [
       "0.011738456007280112"
      ]
     },
     "execution_count": 20,
     "metadata": {},
     "output_type": "execute_result"
    }
   ],
   "source": [
    "print(\"====== Neural Network ======\")\n",
    "learner_nn.train_loop(dl)"
   ]
  },
  {
   "cell_type": "markdown",
   "metadata": {
    "papermill": {
     "duration": 0.033711,
     "end_time": "2021-01-08T10:22:44.458759",
     "exception": false,
     "start_time": "2021-01-08T10:22:44.425048",
     "status": "completed"
    },
    "tags": []
   },
   "source": [
    "### Logistic Regression based Implementation."
   ]
  },
  {
   "cell_type": "code",
   "execution_count": 21,
   "metadata": {
    "execution": {
     "iopub.execute_input": "2021-01-08T10:22:44.530793Z",
     "iopub.status.busy": "2021-01-08T10:22:44.530161Z",
     "iopub.status.idle": "2021-01-08T10:22:44.541302Z",
     "shell.execute_reply": "2021-01-08T10:22:44.541728Z"
    },
    "papermill": {
     "duration": 0.050327,
     "end_time": "2021-01-08T10:22:44.541839",
     "exception": false,
     "start_time": "2021-01-08T10:22:44.491512",
     "status": "completed"
    },
    "tags": []
   },
   "outputs": [],
   "source": [
    "learner_lr = Learner(loss, model_lr, opt, config.num_epochs)\n",
    "acc_lr = ClfCallback(learner_lr, config.bs, training_xdata , testing_xdata, training_ydata, testing_ydata)\n",
    "learner_lr.set_callbacks([acc_lr])"
   ]
  },
  {
   "cell_type": "code",
   "execution_count": 22,
   "metadata": {
    "execution": {
     "iopub.execute_input": "2021-01-08T10:22:44.609077Z",
     "iopub.status.busy": "2021-01-08T10:22:44.608520Z",
     "iopub.status.idle": "2021-01-08T10:22:58.077124Z",
     "shell.execute_reply": "2021-01-08T10:22:58.077576Z"
    },
    "papermill": {
     "duration": 13.503452,
     "end_time": "2021-01-08T10:22:58.077705",
     "exception": false,
     "start_time": "2021-01-08T10:22:44.574253",
     "status": "completed"
    },
    "tags": []
   },
   "outputs": [
    {
     "name": "stdout",
     "output_type": "stream",
     "text": [
      "====== Logistic Regression ======\n",
      "Epoch 0, Loss 0.2396\n",
      "Training Accuracy: 0.7105, Testing Accuracy: 0.7233\n",
      "\n"
     ]
    },
    {
     "name": "stdout",
     "output_type": "stream",
     "text": [
      "Epoch 10, Loss 0.1007\n",
      "Training Accuracy: 0.9130, Testing Accuracy: 0.9269\n",
      "\n"
     ]
    },
    {
     "name": "stdout",
     "output_type": "stream",
     "text": [
      "Epoch 20, Loss 0.0782\n",
      "Training Accuracy: 0.9277, Testing Accuracy: 0.9390\n",
      "\n"
     ]
    },
    {
     "name": "stdout",
     "output_type": "stream",
     "text": [
      "Epoch 30, Loss 0.0677\n",
      "Training Accuracy: 0.9352, Testing Accuracy: 0.9430\n",
      "\n"
     ]
    },
    {
     "name": "stdout",
     "output_type": "stream",
     "text": [
      "Epoch 40, Loss 0.0614\n",
      "Training Accuracy: 0.9407, Testing Accuracy: 0.9491\n",
      "\n"
     ]
    },
    {
     "name": "stdout",
     "output_type": "stream",
     "text": [
      "Epoch 50, Loss 0.057\n",
      "Training Accuracy: 0.9445, Testing Accuracy: 0.9546\n",
      "\n"
     ]
    },
    {
     "name": "stdout",
     "output_type": "stream",
     "text": [
      "Epoch 60, Loss 0.0538\n",
      "Training Accuracy: 0.9469, Testing Accuracy: 0.9587\n",
      "\n"
     ]
    },
    {
     "name": "stdout",
     "output_type": "stream",
     "text": [
      "Epoch 70, Loss 0.0513\n",
      "Training Accuracy: 0.9488, Testing Accuracy: 0.9607\n",
      "\n"
     ]
    },
    {
     "name": "stdout",
     "output_type": "stream",
     "text": [
      "Epoch 80, Loss 0.0493\n",
      "Training Accuracy: 0.9502, Testing Accuracy: 0.9617\n",
      "\n"
     ]
    },
    {
     "name": "stdout",
     "output_type": "stream",
     "text": [
      "Epoch 90, Loss 0.0476\n",
      "Training Accuracy: 0.9509, Testing Accuracy: 0.9637\n",
      "\n"
     ]
    },
    {
     "name": "stdout",
     "output_type": "stream",
     "text": [
      "Epoch 100, Loss 0.0462\n",
      "Training Accuracy: 0.9522, Testing Accuracy: 0.9632\n",
      "\n"
     ]
    },
    {
     "name": "stdout",
     "output_type": "stream",
     "text": [
      "Epoch 110, Loss 0.045\n",
      "Training Accuracy: 0.9534, Testing Accuracy: 0.9637\n",
      "\n"
     ]
    },
    {
     "name": "stdout",
     "output_type": "stream",
     "text": [
      "Epoch 120, Loss 0.0439\n",
      "Training Accuracy: 0.9546, Testing Accuracy: 0.9637\n",
      "\n"
     ]
    },
    {
     "name": "stdout",
     "output_type": "stream",
     "text": [
      "Epoch 130, Loss 0.043\n",
      "Training Accuracy: 0.9558, Testing Accuracy: 0.9632\n",
      "\n"
     ]
    },
    {
     "name": "stdout",
     "output_type": "stream",
     "text": [
      "Epoch 140, Loss 0.0422\n",
      "Training Accuracy: 0.9562, Testing Accuracy: 0.9637\n",
      "\n"
     ]
    },
    {
     "name": "stdout",
     "output_type": "stream",
     "text": [
      "Epoch 150, Loss 0.0414\n",
      "Training Accuracy: 0.9567, Testing Accuracy: 0.9642\n",
      "\n"
     ]
    },
    {
     "name": "stdout",
     "output_type": "stream",
     "text": [
      "Epoch 160, Loss 0.0408\n",
      "Training Accuracy: 0.9572, Testing Accuracy: 0.9642\n",
      "\n"
     ]
    },
    {
     "name": "stdout",
     "output_type": "stream",
     "text": [
      "Epoch 170, Loss 0.0401\n",
      "Training Accuracy: 0.9579, Testing Accuracy: 0.9647\n",
      "\n"
     ]
    },
    {
     "name": "stdout",
     "output_type": "stream",
     "text": [
      "Epoch 180, Loss 0.0396\n",
      "Training Accuracy: 0.9581, Testing Accuracy: 0.9652\n",
      "\n"
     ]
    },
    {
     "name": "stdout",
     "output_type": "stream",
     "text": [
      "Epoch 190, Loss 0.0391\n",
      "Training Accuracy: 0.9584, Testing Accuracy: 0.9652\n",
      "\n"
     ]
    },
    {
     "name": "stdout",
     "output_type": "stream",
     "text": [
      "Epoch 200, Loss 0.0386\n",
      "Training Accuracy: 0.9597, Testing Accuracy: 0.9652\n",
      "\n"
     ]
    },
    {
     "name": "stdout",
     "output_type": "stream",
     "text": [
      "Epoch 210, Loss 0.0381\n",
      "Training Accuracy: 0.9600, Testing Accuracy: 0.9662\n",
      "\n"
     ]
    },
    {
     "name": "stdout",
     "output_type": "stream",
     "text": [
      "Epoch 220, Loss 0.0377\n",
      "Training Accuracy: 0.9604, Testing Accuracy: 0.9667\n",
      "\n"
     ]
    },
    {
     "name": "stdout",
     "output_type": "stream",
     "text": [
      "Epoch 230, Loss 0.0373\n",
      "Training Accuracy: 0.9605, Testing Accuracy: 0.9662\n",
      "\n"
     ]
    },
    {
     "name": "stdout",
     "output_type": "stream",
     "text": [
      "Epoch 240, Loss 0.037\n",
      "Training Accuracy: 0.9610, Testing Accuracy: 0.9677\n",
      "\n"
     ]
    },
    {
     "name": "stdout",
     "output_type": "stream",
     "text": [
      "Epoch 250, Loss 0.0366\n",
      "Training Accuracy: 0.9611, Testing Accuracy: 0.9677\n",
      "\n"
     ]
    },
    {
     "data": {
      "text/plain": [
       "0.03069877583594135"
      ]
     },
     "execution_count": 22,
     "metadata": {},
     "output_type": "execute_result"
    }
   ],
   "source": [
    "print(\"====== Logistic Regression ======\")\n",
    "learner_lr.train_loop(dl)"
   ]
  },
  {
   "cell_type": "markdown",
   "metadata": {
    "papermill": {
     "duration": 0.037101,
     "end_time": "2021-01-08T10:22:58.154782",
     "exception": false,
     "start_time": "2021-01-08T10:22:58.117681",
     "status": "completed"
    },
    "tags": []
   },
   "source": [
    "### Comparing results of NN and LR"
   ]
  },
  {
   "cell_type": "code",
   "execution_count": 23,
   "metadata": {
    "execution": {
     "iopub.execute_input": "2021-01-08T10:22:58.239508Z",
     "iopub.status.busy": "2021-01-08T10:22:58.239026Z",
     "iopub.status.idle": "2021-01-08T10:22:58.433532Z",
     "shell.execute_reply": "2021-01-08T10:22:58.433933Z"
    },
    "papermill": {
     "duration": 0.241044,
     "end_time": "2021-01-08T10:22:58.434067",
     "exception": false,
     "start_time": "2021-01-08T10:22:58.193023",
     "status": "completed"
    },
    "tags": []
   },
   "outputs": [
    {
     "data": {
      "text/plain": [
       "<matplotlib.legend.Legend at 0x7f08a229ac88>"
      ]
     },
     "execution_count": 23,
     "metadata": {},
     "output_type": "execute_result"
    },
    {
     "data": {
      "image/png": "[encoded data removed]",
      "text/plain": [
       "<Figure size 1080x720 with 1 Axes>"
      ]
     },
     "metadata": {
      "needs_background": "light"
     },
     "output_type": "display_data"
    }
   ],
   "source": [
    "plt.figure(figsize=(15,10))\n",
    "\n",
    "# Neural Network plots\n",
    "plt.plot(acc_nn.accuracies, 'r-', label = \"Training Accuracies - NN\")\n",
    "plt.plot(acc_nn.test_accuracies, 'g-', label = \"Testing Accuracies - NN\")\n",
    "\n",
    "# Logistic Regression plots\n",
    "plt.plot(acc_lr.accuracies, 'k-', label = \"Training Accuracies - LR\")\n",
    "plt.plot(acc_lr.test_accuracies, 'b-', label = \"Testing Accuracies - LR\")\n",
    "\n",
    "plt.ylim(0.8, 1)\n",
    "\n",
    "plt.legend()\n",
    "\n"
   ]
  },
  {
   "cell_type": "markdown",
   "metadata": {
    "papermill": {
     "duration": 0.036405,
     "end_time": "2021-01-08T10:22:58.505077",
     "exception": false,
     "start_time": "2021-01-08T10:22:58.468672",
     "status": "completed"
    },
    "tags": []
   },
   "source": [
    "### From the plot, we can observe the following:\n",
    "- Neural Network achieves higher accuracy than the Logistic Regression model.\n",
    "- This apparently, is because of overfitting, i.e. NN captures more noise than data.\n",
    "- Testing accuracy of NN drops below the Training accuracy at higher epochs. This explains the over-fitting on training data.\n",
    "- Logistic Regression gives a reliable accuracy, without the above mentioned problem.\n"
   ]
  },
  {
   "cell_type": "markdown",
   "metadata": {
    "papermill": {
     "duration": 0.036331,
     "end_time": "2021-01-08T10:22:58.576796",
     "exception": false,
     "start_time": "2021-01-08T10:22:58.540465",
     "status": "completed"
    },
    "tags": []
   },
   "source": [
    "### Moving till the last but one layer (excluding it).\n",
    "#### Plotting the outputs of this layer of the NN."
   ]
  },
  {
   "cell_type": "code",
   "execution_count": 24,
   "metadata": {
    "execution": {
     "iopub.execute_input": "2021-01-08T10:22:58.658872Z",
     "iopub.status.busy": "2021-01-08T10:22:58.658291Z",
     "iopub.status.idle": "2021-01-08T10:22:58.671458Z",
     "shell.execute_reply": "2021-01-08T10:22:58.671101Z"
    },
    "papermill": {
     "duration": 0.055456,
     "end_time": "2021-01-08T10:22:58.671548",
     "exception": false,
     "start_time": "2021-01-08T10:22:58.616092",
     "status": "completed"
    },
    "tags": []
   },
   "outputs": [],
   "source": [
    "model_new = Model(layers[:-2])"
   ]
  },
  {
   "cell_type": "code",
   "execution_count": 25,
   "metadata": {
    "execution": {
     "iopub.execute_input": "2021-01-08T10:22:58.749411Z",
     "iopub.status.busy": "2021-01-08T10:22:58.749000Z",
     "iopub.status.idle": "2021-01-08T10:22:58.768394Z",
     "shell.execute_reply": "2021-01-08T10:22:58.768851Z"
    },
    "papermill": {
     "duration": 0.059392,
     "end_time": "2021-01-08T10:22:58.768994",
     "exception": false,
     "start_time": "2021-01-08T10:22:58.709602",
     "status": "completed"
    },
    "tags": []
   },
   "outputs": [],
   "source": [
    "plot_testing = model_new(testing_xdata)"
   ]
  },
  {
   "cell_type": "code",
   "execution_count": 26,
   "metadata": {
    "execution": {
     "iopub.execute_input": "2021-01-08T10:22:58.843514Z",
     "iopub.status.busy": "2021-01-08T10:22:58.843061Z",
     "iopub.status.idle": "2021-01-08T10:22:59.015379Z",
     "shell.execute_reply": "2021-01-08T10:22:59.016029Z"
    },
    "papermill": {
     "duration": 0.211379,
     "end_time": "2021-01-08T10:22:59.016168",
     "exception": false,
     "start_time": "2021-01-08T10:22:58.804789",
     "status": "completed"
    },
    "tags": []
   },
   "outputs": [
    {
     "data": {
      "text/plain": [
       "Text(0.5, 1.0, 'Outputs')"
      ]
     },
     "execution_count": 26,
     "metadata": {},
     "output_type": "execute_result"
    },
    {
     "data": {
      "image/png": "[encoded data removed]",
      "text/plain": [
       "<Figure size 576x504 with 1 Axes>"
      ]
     },
     "metadata": {
      "needs_background": "light"
     },
     "output_type": "display_data"
    }
   ],
   "source": [
    "plt.figure(figsize=(8,7))\n",
    "plt.scatter(plot_testing[:,0], plot_testing[:,1], alpha = 0.1, c = y_test.ravel());\n",
    "plt.title('Outputs')"
   ]
  },
  {
   "cell_type": "markdown",
   "metadata": {
    "papermill": {
     "duration": 0.041879,
     "end_time": "2021-01-08T10:22:59.100421",
     "exception": false,
     "start_time": "2021-01-08T10:22:59.058542",
     "status": "completed"
    },
    "tags": []
   },
   "source": [
    "### Plotting probability contours"
   ]
  },
  {
   "cell_type": "code",
   "execution_count": 27,
   "metadata": {
    "execution": {
     "iopub.execute_input": "2021-01-08T10:22:59.181871Z",
     "iopub.status.busy": "2021-01-08T10:22:59.181390Z",
     "iopub.status.idle": "2021-01-08T10:22:59.194769Z",
     "shell.execute_reply": "2021-01-08T10:22:59.194332Z"
    },
    "papermill": {
     "duration": 0.054529,
     "end_time": "2021-01-08T10:22:59.194874",
     "exception": false,
     "start_time": "2021-01-08T10:22:59.140345",
     "status": "completed"
    },
    "tags": []
   },
   "outputs": [],
   "source": [
    "model_prob = Model(layers[-2:]) "
   ]
  },
  {
   "cell_type": "code",
   "execution_count": 28,
   "metadata": {
    "execution": {
     "iopub.execute_input": "2021-01-08T10:22:59.274740Z",
     "iopub.status.busy": "2021-01-08T10:22:59.274295Z",
     "iopub.status.idle": "2021-01-08T10:22:59.286948Z",
     "shell.execute_reply": "2021-01-08T10:22:59.287263Z"
    },
    "papermill": {
     "duration": 0.054583,
     "end_time": "2021-01-08T10:22:59.287368",
     "exception": false,
     "start_time": "2021-01-08T10:22:59.232785",
     "status": "completed"
    },
    "tags": []
   },
   "outputs": [],
   "source": [
    "# Adjust the x and y ranges according to the above generated plot.\n",
    "x_range = np.linspace(-4, 1, 100) \n",
    "y_range = np.linspace(-6, 6, 100) \n",
    "x_grid, y_grid = np.meshgrid(x_range, y_range) # x_grid and y_grig are of size 100 X 100\n",
    "\n",
    "# converting x_grid and y_grid to continuous arrays\n",
    "x_grid_flat = np.ravel(x_grid)\n",
    "y_grid_flat = np.ravel(y_grid)\n",
    "\n",
    "# The last layer of the current model takes two columns as input. Hence transpose of np.vstack() is required.\n",
    "X = np.vstack((x_grid_flat, y_grid_flat)).T\n",
    "\n",
    "# x_grid and y_grid are of size 100 x 100\n",
    "probability_contour = model_prob(X).reshape(100,100) "
   ]
  },
  {
   "cell_type": "code",
   "execution_count": 29,
   "metadata": {
    "execution": {
     "iopub.execute_input": "2021-01-08T10:22:59.394090Z",
     "iopub.status.busy": "2021-01-08T10:22:59.393493Z",
     "iopub.status.idle": "2021-01-08T10:22:59.617324Z",
     "shell.execute_reply": "2021-01-08T10:22:59.617715Z"
    },
    "papermill": {
     "duration": 0.270945,
     "end_time": "2021-01-08T10:22:59.617846",
     "exception": false,
     "start_time": "2021-01-08T10:22:59.346901",
     "status": "completed"
    },
    "tags": []
   },
   "outputs": [
    {
     "data": {
      "image/png": "[encoded data removed]",
      "text/plain": [
       "<Figure size 720x648 with 1 Axes>"
      ]
     },
     "metadata": {
      "needs_background": "light"
     },
     "output_type": "display_data"
    }
   ],
   "source": [
    "plt.figure(figsize=(10,9))\n",
    "plt.scatter(plot_testing[:,0], plot_testing[:,1], alpha = 0.1, c = y_test.ravel())\n",
    "contours = plt.contour(x_grid,y_grid,probability_contour)\n",
    "plt.title('Probability Contours')\n",
    "plt.clabel(contours, inline = True );"
   ]
  }
 ],
 "metadata": {
  "kernelspec": {
   "display_name": "Python 3",
   "language": "python",
   "name": "python3"
  },
  "language_info": {
   "codemirror_mode": {
    "name": "ipython",
    "version": 3
   },
   "file_extension": ".py",
   "mimetype": "text/x-python",
   "name": "python",
   "nbconvert_exporter": "python",
   "pygments_lexer": "ipython3",
   "version": "3.6.12"
  },
  "papermill": {
   "duration": 98.671491,
   "end_time": "2021-01-08T10:22:59.971708",
   "environment_variables": {},
   "exception": null,
   "input_path": "2020-08-11-NeuralNetwork.ipynb",
   "output_path": "2020-08-11-NeuralNetwork.ipynb",
   "parameters": {},
   "start_time": "2021-01-08T10:21:21.300217",
   "version": "2.1.2"
  }
 },
 "nbformat": 4,
 "nbformat_minor": 4
}