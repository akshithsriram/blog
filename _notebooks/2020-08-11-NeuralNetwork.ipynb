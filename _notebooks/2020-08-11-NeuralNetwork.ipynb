{
 "cells": [
  {
   "cell_type": "markdown",
   "metadata": {
    "papermill": {
     "duration": 0.029369,
     "end_time": "2021-01-13T10:41:51.125808",
     "exception": false,
     "start_time": "2021-01-13T10:41:51.096439",
     "status": "completed"
    },
    "tags": []
   },
   "source": [
    "# \"A Basic Neural Network: Differentiate Hand-Written Digits\"\n",
    "\n",
    "- badges: true\n",
    "- author: Akshith Sriram"
   ]
  },
  {
   "cell_type": "markdown",
   "metadata": {
    "papermill": {
     "duration": 0.032707,
     "end_time": "2021-01-13T10:41:51.183631",
     "exception": false,
     "start_time": "2021-01-13T10:41:51.150924",
     "status": "completed"
    },
    "tags": []
   },
   "source": [
    "### Key Objectives:\n",
    "- Building a neural network that differentiates two hand-written digits 3 and 8.\n",
    "- Comparing the results of this Neural Network (NN) to that of a Logistic Regression (LR) model.\n",
    "\n",
    "### Requirements:\n",
    "- 'Kudzu' : A neural network library that was designed during our course by [Univ.AI](www.univ.ai). \n",
    "- MNIST Database\n",
    "\n",
    "If MNIST is not installed, use the command `!pip install mnist` given below.\n",
    "It can be run both from the command line and Jupyter Notebook."
   ]
  },
  {
   "cell_type": "code",
   "execution_count": 1,
   "metadata": {
    "execution": {
     "iopub.execute_input": "2021-01-13T10:41:51.249128Z",
     "iopub.status.busy": "2021-01-13T10:41:51.248393Z",
     "iopub.status.idle": "2021-01-13T10:41:53.445461Z",
     "shell.execute_reply": "2021-01-13T10:41:53.444181Z"
    },
    "papermill": {
     "duration": 2.235439,
     "end_time": "2021-01-13T10:41:53.445694",
     "exception": false,
     "start_time": "2021-01-13T10:41:51.210255",
     "status": "completed"
    },
    "tags": []
   },
   "outputs": [
    {
     "name": "stdout",
     "output_type": "stream",
     "text": [
      "Collecting mnist\r\n"
     ]
    },
    {
     "name": "stdout",
     "output_type": "stream",
     "text": [
      "  Downloading mnist-0.2.2-py2.py3-none-any.whl (3.5 kB)\r\n",
      "Requirement already satisfied: numpy in /opt/hostedtoolcache/Python/3.6.12/x64/lib/python3.6/site-packages (from mnist) (1.19.5)\r\n"
     ]
    },
    {
     "name": "stdout",
     "output_type": "stream",
     "text": [
      "Installing collected packages: mnist\r\n"
     ]
    },
    {
     "name": "stdout",
     "output_type": "stream",
     "text": [
      "Successfully installed mnist-0.2.2\r\n"
     ]
    },
    {
     "name": "stdout",
     "output_type": "stream",
     "text": [
      "\u001b[33mWARNING: You are using pip version 20.3.1; however, version 20.3.3 is available.\r\n",
      "You should consider upgrading via the '/opt/hostedtoolcache/Python/3.6.12/x64/bin/python -m pip install --upgrade pip' command.\u001b[0m\r\n"
     ]
    }
   ],
   "source": [
    "!pip install mnist "
   ]
  },
  {
   "cell_type": "markdown",
   "metadata": {
    "papermill": {
     "duration": 0.028562,
     "end_time": "2021-01-13T10:41:53.504205",
     "exception": false,
     "start_time": "2021-01-13T10:41:53.475643",
     "status": "completed"
    },
    "tags": []
   },
   "source": [
    "#### Importing necessary libraries"
   ]
  },
  {
   "cell_type": "code",
   "execution_count": 2,
   "metadata": {
    "execution": {
     "iopub.execute_input": "2021-01-13T10:41:53.571463Z",
     "iopub.status.busy": "2021-01-13T10:41:53.570879Z",
     "iopub.status.idle": "2021-01-13T10:41:54.178536Z",
     "shell.execute_reply": "2021-01-13T10:41:54.177599Z"
    },
    "papermill": {
     "duration": 0.644641,
     "end_time": "2021-01-13T10:41:54.178680",
     "exception": false,
     "start_time": "2021-01-13T10:41:53.534039",
     "status": "completed"
    },
    "tags": []
   },
   "outputs": [],
   "source": [
    "%load_ext autoreload\n",
    "%autoreload 2\n",
    "\n",
    "%matplotlib inline\n",
    "import matplotlib.pyplot as plt\n",
    "\n",
    "import numpy as np\n",
    "import pandas as pd"
   ]
  },
  {
   "cell_type": "markdown",
   "metadata": {
    "papermill": {
     "duration": 0.028451,
     "end_time": "2021-01-13T10:41:54.236068",
     "exception": false,
     "start_time": "2021-01-13T10:41:54.207617",
     "status": "completed"
    },
    "tags": []
   },
   "source": [
    "### Preparing the Data"
   ]
  },
  {
   "cell_type": "code",
   "execution_count": 3,
   "metadata": {
    "execution": {
     "iopub.execute_input": "2021-01-13T10:41:54.306323Z",
     "iopub.status.busy": "2021-01-13T10:41:54.300774Z",
     "iopub.status.idle": "2021-01-13T10:41:54.314302Z",
     "shell.execute_reply": "2021-01-13T10:41:54.313748Z"
    },
    "papermill": {
     "duration": 0.046775,
     "end_time": "2021-01-13T10:41:54.314473",
     "exception": false,
     "start_time": "2021-01-13T10:41:54.267698",
     "status": "completed"
    },
    "tags": []
   },
   "outputs": [],
   "source": [
    "import mnist"
   ]
  },
  {
   "cell_type": "code",
   "execution_count": 4,
   "metadata": {
    "execution": {
     "iopub.execute_input": "2021-01-13T10:41:54.378960Z",
     "iopub.status.busy": "2021-01-13T10:41:54.378374Z",
     "iopub.status.idle": "2021-01-13T10:41:55.864132Z",
     "shell.execute_reply": "2021-01-13T10:41:55.862804Z"
    },
    "papermill": {
     "duration": 1.520297,
     "end_time": "2021-01-13T10:41:55.864378",
     "exception": false,
     "start_time": "2021-01-13T10:41:54.344081",
     "status": "completed"
    },
    "tags": []
   },
   "outputs": [],
   "source": [
    "train_images = mnist.train_images()\n",
    "train_labels = mnist.train_labels()"
   ]
  },
  {
   "cell_type": "code",
   "execution_count": 5,
   "metadata": {
    "execution": {
     "iopub.execute_input": "2021-01-13T10:41:55.927313Z",
     "iopub.status.busy": "2021-01-13T10:41:55.926699Z",
     "iopub.status.idle": "2021-01-13T10:41:55.941356Z",
     "shell.execute_reply": "2021-01-13T10:41:55.940914Z"
    },
    "papermill": {
     "duration": 0.049261,
     "end_time": "2021-01-13T10:41:55.941490",
     "exception": false,
     "start_time": "2021-01-13T10:41:55.892229",
     "status": "completed"
    },
    "tags": []
   },
   "outputs": [
    {
     "data": {
      "text/plain": [
       "((60000, 28, 28), (60000,))"
      ]
     },
     "execution_count": 5,
     "metadata": {},
     "output_type": "execute_result"
    }
   ],
   "source": [
    "train_images.shape, train_labels.shape"
   ]
  },
  {
   "cell_type": "code",
   "execution_count": 6,
   "metadata": {
    "execution": {
     "iopub.execute_input": "2021-01-13T10:41:55.999368Z",
     "iopub.status.busy": "2021-01-13T10:41:55.998786Z",
     "iopub.status.idle": "2021-01-13T10:41:56.870163Z",
     "shell.execute_reply": "2021-01-13T10:41:56.869517Z"
    },
    "papermill": {
     "duration": 0.900397,
     "end_time": "2021-01-13T10:41:56.870360",
     "exception": false,
     "start_time": "2021-01-13T10:41:55.969963",
     "status": "completed"
    },
    "tags": []
   },
   "outputs": [],
   "source": [
    "test_images = mnist.test_images()\n",
    "test_labels = mnist.test_labels()"
   ]
  },
  {
   "cell_type": "code",
   "execution_count": 7,
   "metadata": {
    "execution": {
     "iopub.execute_input": "2021-01-13T10:41:56.942870Z",
     "iopub.status.busy": "2021-01-13T10:41:56.942236Z",
     "iopub.status.idle": "2021-01-13T10:41:56.957438Z",
     "shell.execute_reply": "2021-01-13T10:41:56.956888Z"
    },
    "papermill": {
     "duration": 0.051741,
     "end_time": "2021-01-13T10:41:56.957564",
     "exception": false,
     "start_time": "2021-01-13T10:41:56.905823",
     "status": "completed"
    },
    "tags": []
   },
   "outputs": [
    {
     "data": {
      "text/plain": [
       "((10000, 28, 28), (10000,))"
      ]
     },
     "execution_count": 7,
     "metadata": {},
     "output_type": "execute_result"
    }
   ],
   "source": [
    "test_images.shape, test_labels.shape"
   ]
  },
  {
   "cell_type": "code",
   "execution_count": 8,
   "metadata": {
    "execution": {
     "iopub.execute_input": "2021-01-13T10:41:57.029978Z",
     "iopub.status.busy": "2021-01-13T10:41:57.029324Z",
     "iopub.status.idle": "2021-01-13T10:41:57.210367Z",
     "shell.execute_reply": "2021-01-13T10:41:57.209625Z"
    },
    "papermill": {
     "duration": 0.220525,
     "end_time": "2021-01-13T10:41:57.210571",
     "exception": false,
     "start_time": "2021-01-13T10:41:56.990046",
     "status": "completed"
    },
    "tags": []
   },
   "outputs": [
    {
     "name": "stdout",
     "output_type": "stream",
     "text": [
      "2\n"
     ]
    },
    {
     "data": {
      "text/plain": [
       "<matplotlib.image.AxesImage at 0x7fb22e4f7940>"
      ]
     },
     "execution_count": 8,
     "metadata": {},
     "output_type": "execute_result"
    },
    {
     "data": {
      "image/png": "[encoded data removed]",
      "text/plain": [
       "<Figure size 432x288 with 1 Axes>"
      ]
     },
     "metadata": {
      "needs_background": "light"
     },
     "output_type": "display_data"
    }
   ],
   "source": [
    "image_index = 7776 # You may select anything up to 60,000\n",
    "print(train_labels[image_index]) \n",
    "plt.imshow(train_images[image_index], cmap='Greys')"
   ]
  },
  {
   "cell_type": "markdown",
   "metadata": {
    "papermill": {
     "duration": 0.031001,
     "end_time": "2021-01-13T10:41:57.274092",
     "exception": false,
     "start_time": "2021-01-13T10:41:57.243091",
     "status": "completed"
    },
    "tags": []
   },
   "source": [
    "## Filter data to get 3 and 8 out"
   ]
  },
  {
   "cell_type": "code",
   "execution_count": 9,
   "metadata": {
    "execution": {
     "iopub.execute_input": "2021-01-13T10:41:57.346475Z",
     "iopub.status.busy": "2021-01-13T10:41:57.345789Z",
     "iopub.status.idle": "2021-01-13T10:41:57.368861Z",
     "shell.execute_reply": "2021-01-13T10:41:57.367272Z"
    },
    "papermill": {
     "duration": 0.058932,
     "end_time": "2021-01-13T10:41:57.369100",
     "exception": false,
     "start_time": "2021-01-13T10:41:57.310168",
     "status": "completed"
    },
    "tags": []
   },
   "outputs": [],
   "source": [
    "train_filter = np.where((train_labels == 3 ) | (train_labels == 8))\n",
    "test_filter = np.where((test_labels == 3) | (test_labels == 8))\n",
    "X_train, y_train = train_images[train_filter], train_labels[train_filter]\n",
    "X_test, y_test = test_images[test_filter], test_labels[test_filter]"
   ]
  },
  {
   "cell_type": "markdown",
   "metadata": {
    "papermill": {
     "duration": 0.031204,
     "end_time": "2021-01-13T10:41:57.433026",
     "exception": false,
     "start_time": "2021-01-13T10:41:57.401822",
     "status": "completed"
    },
    "tags": []
   },
   "source": [
    "We normalize the pixel values in the 0 to 1 range"
   ]
  },
  {
   "cell_type": "code",
   "execution_count": 10,
   "metadata": {
    "execution": {
     "iopub.execute_input": "2021-01-13T10:41:57.501837Z",
     "iopub.status.busy": "2021-01-13T10:41:57.501099Z",
     "iopub.status.idle": "2021-01-13T10:41:57.562832Z",
     "shell.execute_reply": "2021-01-13T10:41:57.562197Z"
    },
    "papermill": {
     "duration": 0.099696,
     "end_time": "2021-01-13T10:41:57.563011",
     "exception": false,
     "start_time": "2021-01-13T10:41:57.463315",
     "status": "completed"
    },
    "tags": []
   },
   "outputs": [],
   "source": [
    "X_train = X_train/255.\n",
    "X_test = X_test/255."
   ]
  },
  {
   "cell_type": "markdown",
   "metadata": {
    "papermill": {
     "duration": 0.029815,
     "end_time": "2021-01-13T10:41:57.623717",
     "exception": false,
     "start_time": "2021-01-13T10:41:57.593902",
     "status": "completed"
    },
    "tags": []
   },
   "source": [
    "Setup the labels as 1 (when the digit is 3) and 0 (when the digit is 8)"
   ]
  },
  {
   "cell_type": "code",
   "execution_count": 11,
   "metadata": {
    "execution": {
     "iopub.execute_input": "2021-01-13T10:41:57.691675Z",
     "iopub.status.busy": "2021-01-13T10:41:57.691001Z",
     "iopub.status.idle": "2021-01-13T10:41:57.703441Z",
     "shell.execute_reply": "2021-01-13T10:41:57.704104Z"
    },
    "papermill": {
     "duration": 0.050773,
     "end_time": "2021-01-13T10:41:57.704250",
     "exception": false,
     "start_time": "2021-01-13T10:41:57.653477",
     "status": "completed"
    },
    "tags": []
   },
   "outputs": [],
   "source": [
    "y_train = 1*(y_train==3)\n",
    "y_test = 1*(y_test==3)"
   ]
  },
  {
   "cell_type": "code",
   "execution_count": 12,
   "metadata": {
    "execution": {
     "iopub.execute_input": "2021-01-13T10:41:57.773428Z",
     "iopub.status.busy": "2021-01-13T10:41:57.772698Z",
     "iopub.status.idle": "2021-01-13T10:41:57.787762Z",
     "shell.execute_reply": "2021-01-13T10:41:57.787116Z"
    },
    "papermill": {
     "duration": 0.052556,
     "end_time": "2021-01-13T10:41:57.787912",
     "exception": false,
     "start_time": "2021-01-13T10:41:57.735356",
     "status": "completed"
    },
    "tags": []
   },
   "outputs": [
    {
     "data": {
      "text/plain": [
       "((11982, 28, 28), (1984, 28, 28))"
      ]
     },
     "execution_count": 12,
     "metadata": {},
     "output_type": "execute_result"
    }
   ],
   "source": [
    "X_train.shape, X_test.shape"
   ]
  },
  {
   "cell_type": "markdown",
   "metadata": {
    "papermill": {
     "duration": 0.035059,
     "end_time": "2021-01-13T10:41:57.857956",
     "exception": false,
     "start_time": "2021-01-13T10:41:57.822897",
     "status": "completed"
    },
    "tags": []
   },
   "source": [
    "### Reshape the input data to create a linear array"
   ]
  },
  {
   "cell_type": "code",
   "execution_count": 13,
   "metadata": {
    "execution": {
     "iopub.execute_input": "2021-01-13T10:41:57.941655Z",
     "iopub.status.busy": "2021-01-13T10:41:57.941018Z",
     "iopub.status.idle": "2021-01-13T10:41:57.954751Z",
     "shell.execute_reply": "2021-01-13T10:41:57.953928Z"
    },
    "papermill": {
     "duration": 0.064214,
     "end_time": "2021-01-13T10:41:57.954873",
     "exception": false,
     "start_time": "2021-01-13T10:41:57.890659",
     "status": "completed"
    },
    "tags": []
   },
   "outputs": [
    {
     "data": {
      "text/plain": [
       "((11982, 784), (1984, 784))"
      ]
     },
     "execution_count": 13,
     "metadata": {},
     "output_type": "execute_result"
    }
   ],
   "source": [
    "X_train = X_train.reshape(X_train.shape[0], -1)\n",
    "X_test = X_test.reshape(X_test.shape[0], -1)\n",
    "X_train.shape, X_test.shape"
   ]
  },
  {
   "cell_type": "markdown",
   "metadata": {
    "papermill": {
     "duration": 0.477374,
     "end_time": "2021-01-13T10:41:58.464302",
     "exception": false,
     "start_time": "2021-01-13T10:41:57.986928",
     "status": "completed"
    },
    "tags": []
   },
   "source": [
    "### Importing appropriate functions from 'Kudzu'"
   ]
  },
  {
   "cell_type": "code",
   "execution_count": 14,
   "metadata": {
    "execution": {
     "iopub.execute_input": "2021-01-13T10:41:58.563767Z",
     "iopub.status.busy": "2021-01-13T10:41:58.563138Z",
     "iopub.status.idle": "2021-01-13T10:41:58.582646Z",
     "shell.execute_reply": "2021-01-13T10:41:58.582127Z"
    },
    "papermill": {
     "duration": 0.055382,
     "end_time": "2021-01-13T10:41:58.582770",
     "exception": false,
     "start_time": "2021-01-13T10:41:58.527388",
     "status": "completed"
    },
    "tags": []
   },
   "outputs": [],
   "source": [
    "from kudzu.layer import Sigmoid\n",
    "from kudzu.layer import Relu\n",
    "from kudzu.layer import Affine, Sigmoid\n",
    "\n",
    "from kudzu.model import Model\n",
    "from kudzu.train import Learner\n",
    "from kudzu.optim import GD\n",
    "from kudzu.data import Data, Dataloader, Sampler\n",
    "\n",
    "from kudzu.callbacks import AccCallback\n",
    "from kudzu.callbacks import ClfCallback\n",
    "\n",
    "from kudzu.loss import MSE"
   ]
  },
  {
   "cell_type": "markdown",
   "metadata": {
    "papermill": {
     "duration": 0.029237,
     "end_time": "2021-01-13T10:41:58.642622",
     "exception": false,
     "start_time": "2021-01-13T10:41:58.613385",
     "status": "completed"
    },
    "tags": []
   },
   "source": [
    "### Let us create a `Config` class, to store important parameters. \n",
    "This class essentially plays the role of a dictionary."
   ]
  },
  {
   "cell_type": "code",
   "execution_count": 15,
   "metadata": {
    "execution": {
     "iopub.execute_input": "2021-01-13T10:41:58.715141Z",
     "iopub.status.busy": "2021-01-13T10:41:58.714538Z",
     "iopub.status.idle": "2021-01-13T10:41:58.723317Z",
     "shell.execute_reply": "2021-01-13T10:41:58.722771Z"
    },
    "papermill": {
     "duration": 0.049781,
     "end_time": "2021-01-13T10:41:58.723440",
     "exception": false,
     "start_time": "2021-01-13T10:41:58.673659",
     "status": "completed"
    },
    "tags": []
   },
   "outputs": [],
   "source": [
    "class Config:\n",
    "    pass\n",
    "config = Config()\n",
    "config.lr = 0.001\n",
    "config.num_epochs = 251\n",
    "config.bs = 50"
   ]
  },
  {
   "cell_type": "markdown",
   "metadata": {
    "papermill": {
     "duration": 0.031955,
     "end_time": "2021-01-13T10:41:58.784836",
     "exception": false,
     "start_time": "2021-01-13T10:41:58.752881",
     "status": "completed"
    },
    "tags": []
   },
   "source": [
    "### Initializing data to the variables"
   ]
  },
  {
   "cell_type": "code",
   "execution_count": 16,
   "metadata": {
    "execution": {
     "iopub.execute_input": "2021-01-13T10:41:58.856350Z",
     "iopub.status.busy": "2021-01-13T10:41:58.855664Z",
     "iopub.status.idle": "2021-01-13T10:41:58.868406Z",
     "shell.execute_reply": "2021-01-13T10:41:58.869124Z"
    },
    "papermill": {
     "duration": 0.053901,
     "end_time": "2021-01-13T10:41:58.869281",
     "exception": false,
     "start_time": "2021-01-13T10:41:58.815380",
     "status": "completed"
    },
    "tags": []
   },
   "outputs": [],
   "source": [
    "data = Data(X_train, y_train.reshape(-1,1))\n",
    "sampler = Sampler(data, config.bs, shuffle=True)\n",
    "\n",
    "dl = Dataloader(data, sampler)\n",
    "\n",
    "opt = GD(config.lr)\n",
    "loss = MSE()"
   ]
  },
  {
   "cell_type": "code",
   "execution_count": 17,
   "metadata": {
    "execution": {
     "iopub.execute_input": "2021-01-13T10:41:58.938709Z",
     "iopub.status.busy": "2021-01-13T10:41:58.938083Z",
     "iopub.status.idle": "2021-01-13T10:41:58.949021Z",
     "shell.execute_reply": "2021-01-13T10:41:58.949680Z"
    },
    "papermill": {
     "duration": 0.048871,
     "end_time": "2021-01-13T10:41:58.949830",
     "exception": false,
     "start_time": "2021-01-13T10:41:58.900959",
     "status": "completed"
    },
    "tags": []
   },
   "outputs": [],
   "source": [
    "training_xdata = X_train\n",
    "testing_xdata = X_test\n",
    "training_ydata = y_train.reshape(-1,1)\n",
    "testing_ydata = y_test.reshape(-1,1)"
   ]
  },
  {
   "cell_type": "markdown",
   "metadata": {
    "papermill": {
     "duration": 0.034307,
     "end_time": "2021-01-13T10:41:59.016519",
     "exception": false,
     "start_time": "2021-01-13T10:41:58.982212",
     "status": "completed"
    },
    "tags": []
   },
   "source": [
    "### Running Models with the Training data\n",
    "Details about the network layers:\n",
    "- A first affine layer has 784 inputs and does 100 affine transforms. These are followed by a Relu\n",
    "- A second affine layer has 100 inputs from the 100 activations of the past layer, and does 100 affine transforms. These are followed by a Relu\n",
    "- A third affine layer has 100 activations and does 2 affine transformations to create an embedding for visualization. There is no non-linearity here.\n",
    "- A final \"logistic regression\" which has an affine transform from 2 inputs to 1 output, which is squeezed through a sigmoid.\n",
    "\n",
    "Help taken from Anshuman's Notebook."
   ]
  },
  {
   "cell_type": "code",
   "execution_count": 18,
   "metadata": {
    "execution": {
     "iopub.execute_input": "2021-01-13T10:41:59.106554Z",
     "iopub.status.busy": "2021-01-13T10:41:59.105928Z",
     "iopub.status.idle": "2021-01-13T10:41:59.120341Z",
     "shell.execute_reply": "2021-01-13T10:41:59.121403Z"
    },
    "papermill": {
     "duration": 0.069873,
     "end_time": "2021-01-13T10:41:59.121793",
     "exception": false,
     "start_time": "2021-01-13T10:41:59.051920",
     "status": "completed"
    },
    "tags": []
   },
   "outputs": [],
   "source": [
    "# layers for the Neural Network\n",
    "layers = [Affine(\"first\", 784, 100), Relu(\"first\"), Affine(\"second\", 100, 100), Relu(\"second\"), Affine(\"third\", 100, 2), Affine(\"final\", 2, 1), Sigmoid(\"final\")]\n",
    "model_nn = Model(layers)\n",
    "\n",
    "# layers for the Logistic Regression\n",
    "layers_lr = [Affine(\"logits\", 784, 1), Sigmoid(\"sigmoid\")]\n",
    "model_lr = Model(layers_lr)"
   ]
  },
  {
   "cell_type": "code",
   "execution_count": 19,
   "metadata": {
    "execution": {
     "iopub.execute_input": "2021-01-13T10:41:59.193825Z",
     "iopub.status.busy": "2021-01-13T10:41:59.193090Z",
     "iopub.status.idle": "2021-01-13T10:41:59.207765Z",
     "shell.execute_reply": "2021-01-13T10:41:59.207235Z"
    },
    "papermill": {
     "duration": 0.052544,
     "end_time": "2021-01-13T10:41:59.207900",
     "exception": false,
     "start_time": "2021-01-13T10:41:59.155356",
     "status": "completed"
    },
    "tags": []
   },
   "outputs": [],
   "source": [
    "# suffix _nn stands for Neural Network.\n",
    "learner_nn = Learner(loss, model_nn, opt, config.num_epochs)\n",
    "acc_nn = ClfCallback(learner_nn, config.bs, training_xdata , testing_xdata, training_ydata, testing_ydata)\n",
    "learner_nn.set_callbacks([acc_nn])"
   ]
  },
  {
   "cell_type": "code",
   "execution_count": 20,
   "metadata": {
    "execution": {
     "iopub.execute_input": "2021-01-13T10:41:59.275270Z",
     "iopub.status.busy": "2021-01-13T10:41:59.274529Z",
     "iopub.status.idle": "2021-01-13T10:44:25.747569Z",
     "shell.execute_reply": "2021-01-13T10:44:25.746961Z"
    },
    "papermill": {
     "duration": 146.507684,
     "end_time": "2021-01-13T10:44:25.747749",
     "exception": false,
     "start_time": "2021-01-13T10:41:59.240065",
     "status": "completed"
    },
    "tags": []
   },
   "outputs": [
    {
     "name": "stdout",
     "output_type": "stream",
     "text": [
      "====== Neural Network ======\n"
     ]
    },
    {
     "name": "stdout",
     "output_type": "stream",
     "text": [
      "Epoch 0, Loss 0.2269\n",
      "Training Accuracy: 0.7495, Testing Accuracy: 0.7858\n",
      "\n"
     ]
    },
    {
     "name": "stdout",
     "output_type": "stream",
     "text": [
      "Epoch 10, Loss 0.0648\n",
      "Training Accuracy: 0.9353, Testing Accuracy: 0.9486\n",
      "\n"
     ]
    },
    {
     "name": "stdout",
     "output_type": "stream",
     "text": [
      "Epoch 20, Loss 0.0453\n",
      "Training Accuracy: 0.9513, Testing Accuracy: 0.9587\n",
      "\n"
     ]
    },
    {
     "name": "stdout",
     "output_type": "stream",
     "text": [
      "Epoch 30, Loss 0.0376\n",
      "Training Accuracy: 0.9571, Testing Accuracy: 0.9672\n",
      "\n"
     ]
    },
    {
     "name": "stdout",
     "output_type": "stream",
     "text": [
      "Epoch 40, Loss 0.0333\n",
      "Training Accuracy: 0.9623, Testing Accuracy: 0.9682\n",
      "\n"
     ]
    },
    {
     "name": "stdout",
     "output_type": "stream",
     "text": [
      "Epoch 50, Loss 0.0306\n",
      "Training Accuracy: 0.9661, Testing Accuracy: 0.9682\n",
      "\n"
     ]
    },
    {
     "name": "stdout",
     "output_type": "stream",
     "text": [
      "Epoch 60, Loss 0.0286\n",
      "Training Accuracy: 0.9688, Testing Accuracy: 0.9682\n",
      "\n"
     ]
    },
    {
     "name": "stdout",
     "output_type": "stream",
     "text": [
      "Epoch 70, Loss 0.0271\n",
      "Training Accuracy: 0.9702, Testing Accuracy: 0.9698\n",
      "\n"
     ]
    },
    {
     "name": "stdout",
     "output_type": "stream",
     "text": [
      "Epoch 80, Loss 0.0259\n",
      "Training Accuracy: 0.9713, Testing Accuracy: 0.9703\n",
      "\n"
     ]
    },
    {
     "name": "stdout",
     "output_type": "stream",
     "text": [
      "Epoch 90, Loss 0.0248\n",
      "Training Accuracy: 0.9718, Testing Accuracy: 0.9718\n",
      "\n"
     ]
    },
    {
     "name": "stdout",
     "output_type": "stream",
     "text": [
      "Epoch 100, Loss 0.0239\n",
      "Training Accuracy: 0.9722, Testing Accuracy: 0.9733\n",
      "\n"
     ]
    },
    {
     "name": "stdout",
     "output_type": "stream",
     "text": [
      "Epoch 110, Loss 0.0231\n",
      "Training Accuracy: 0.9734, Testing Accuracy: 0.9743\n",
      "\n"
     ]
    },
    {
     "name": "stdout",
     "output_type": "stream",
     "text": [
      "Epoch 120, Loss 0.0224\n",
      "Training Accuracy: 0.9744, Testing Accuracy: 0.9738\n",
      "\n"
     ]
    },
    {
     "name": "stdout",
     "output_type": "stream",
     "text": [
      "Epoch 130, Loss 0.0218\n",
      "Training Accuracy: 0.9753, Testing Accuracy: 0.9743\n",
      "\n"
     ]
    },
    {
     "name": "stdout",
     "output_type": "stream",
     "text": [
      "Epoch 140, Loss 0.0212\n",
      "Training Accuracy: 0.9761, Testing Accuracy: 0.9738\n",
      "\n"
     ]
    },
    {
     "name": "stdout",
     "output_type": "stream",
     "text": [
      "Epoch 150, Loss 0.0207\n",
      "Training Accuracy: 0.9765, Testing Accuracy: 0.9753\n",
      "\n"
     ]
    },
    {
     "name": "stdout",
     "output_type": "stream",
     "text": [
      "Epoch 160, Loss 0.0201\n",
      "Training Accuracy: 0.9774, Testing Accuracy: 0.9748\n",
      "\n"
     ]
    },
    {
     "name": "stdout",
     "output_type": "stream",
     "text": [
      "Epoch 170, Loss 0.0197\n",
      "Training Accuracy: 0.9782, Testing Accuracy: 0.9743\n",
      "\n"
     ]
    },
    {
     "name": "stdout",
     "output_type": "stream",
     "text": [
      "Epoch 180, Loss 0.0192\n",
      "Training Accuracy: 0.9788, Testing Accuracy: 0.9758\n",
      "\n"
     ]
    },
    {
     "name": "stdout",
     "output_type": "stream",
     "text": [
      "Epoch 190, Loss 0.0188\n",
      "Training Accuracy: 0.9796, Testing Accuracy: 0.9758\n",
      "\n"
     ]
    },
    {
     "name": "stdout",
     "output_type": "stream",
     "text": [
      "Epoch 200, Loss 0.0184\n",
      "Training Accuracy: 0.9798, Testing Accuracy: 0.9758\n",
      "\n"
     ]
    },
    {
     "name": "stdout",
     "output_type": "stream",
     "text": [
      "Epoch 210, Loss 0.018\n",
      "Training Accuracy: 0.9803, Testing Accuracy: 0.9758\n",
      "\n"
     ]
    },
    {
     "name": "stdout",
     "output_type": "stream",
     "text": [
      "Epoch 220, Loss 0.0176\n",
      "Training Accuracy: 0.9805, Testing Accuracy: 0.9758\n",
      "\n"
     ]
    },
    {
     "name": "stdout",
     "output_type": "stream",
     "text": [
      "Epoch 230, Loss 0.0172\n",
      "Training Accuracy: 0.9807, Testing Accuracy: 0.9758\n",
      "\n"
     ]
    },
    {
     "name": "stdout",
     "output_type": "stream",
     "text": [
      "Epoch 240, Loss 0.0169\n",
      "Training Accuracy: 0.9811, Testing Accuracy: 0.9763\n",
      "\n"
     ]
    },
    {
     "name": "stdout",
     "output_type": "stream",
     "text": [
      "Epoch 250, Loss 0.0165\n",
      "Training Accuracy: 0.9815, Testing Accuracy: 0.9768\n",
      "\n"
     ]
    },
    {
     "data": {
      "text/plain": [
       "0.03168621324587278"
      ]
     },
     "execution_count": 20,
     "metadata": {},
     "output_type": "execute_result"
    }
   ],
   "source": [
    "print(\"====== Neural Network ======\")\n",
    "learner_nn.train_loop(dl)"
   ]
  },
  {
   "cell_type": "markdown",
   "metadata": {
    "papermill": {
     "duration": 0.039786,
     "end_time": "2021-01-13T10:44:25.832064",
     "exception": false,
     "start_time": "2021-01-13T10:44:25.792278",
     "status": "completed"
    },
    "tags": []
   },
   "source": [
    "### Logistic Regression based Implementation."
   ]
  },
  {
   "cell_type": "code",
   "execution_count": 21,
   "metadata": {
    "execution": {
     "iopub.execute_input": "2021-01-13T10:44:25.935413Z",
     "iopub.status.busy": "2021-01-13T10:44:25.934847Z",
     "iopub.status.idle": "2021-01-13T10:44:25.942609Z",
     "shell.execute_reply": "2021-01-13T10:44:25.943059Z"
    },
    "papermill": {
     "duration": 0.061301,
     "end_time": "2021-01-13T10:44:25.943212",
     "exception": false,
     "start_time": "2021-01-13T10:44:25.881911",
     "status": "completed"
    },
    "tags": []
   },
   "outputs": [],
   "source": [
    "learner_lr = Learner(loss, model_lr, opt, config.num_epochs)\n",
    "acc_lr = ClfCallback(learner_lr, config.bs, training_xdata , testing_xdata, training_ydata, testing_ydata)\n",
    "learner_lr.set_callbacks([acc_lr])"
   ]
  },
  {
   "cell_type": "code",
   "execution_count": 22,
   "metadata": {
    "execution": {
     "iopub.execute_input": "2021-01-13T10:44:26.030191Z",
     "iopub.status.busy": "2021-01-13T10:44:26.029480Z",
     "iopub.status.idle": "2021-01-13T10:44:46.876504Z",
     "shell.execute_reply": "2021-01-13T10:44:46.879909Z"
    },
    "papermill": {
     "duration": 20.89684,
     "end_time": "2021-01-13T10:44:46.880106",
     "exception": false,
     "start_time": "2021-01-13T10:44:25.983266",
     "status": "completed"
    },
    "tags": []
   },
   "outputs": [
    {
     "name": "stdout",
     "output_type": "stream",
     "text": [
      "====== Logistic Regression ======\n",
      "Epoch 0, Loss 0.2199\n",
      "Training Accuracy: 0.7368, Testing Accuracy: 0.7288\n",
      "\n"
     ]
    },
    {
     "name": "stdout",
     "output_type": "stream",
     "text": [
      "Epoch 10, Loss 0.1017\n",
      "Training Accuracy: 0.9109, Testing Accuracy: 0.9234\n",
      "\n"
     ]
    },
    {
     "name": "stdout",
     "output_type": "stream",
     "text": [
      "Epoch 20, Loss 0.0782\n",
      "Training Accuracy: 0.9286, Testing Accuracy: 0.9446\n",
      "\n"
     ]
    },
    {
     "name": "stdout",
     "output_type": "stream",
     "text": [
      "Epoch 30, Loss 0.0674\n",
      "Training Accuracy: 0.9369, Testing Accuracy: 0.9521\n",
      "\n"
     ]
    },
    {
     "name": "stdout",
     "output_type": "stream",
     "text": [
      "Epoch 40, Loss 0.0609\n",
      "Training Accuracy: 0.9439, Testing Accuracy: 0.9541\n",
      "\n"
     ]
    },
    {
     "name": "stdout",
     "output_type": "stream",
     "text": [
      "Epoch 50, Loss 0.0565\n",
      "Training Accuracy: 0.9468, Testing Accuracy: 0.9561\n",
      "\n"
     ]
    },
    {
     "name": "stdout",
     "output_type": "stream",
     "text": [
      "Epoch 60, Loss 0.0533\n",
      "Training Accuracy: 0.9494, Testing Accuracy: 0.9587\n",
      "\n"
     ]
    },
    {
     "name": "stdout",
     "output_type": "stream",
     "text": [
      "Epoch 70, Loss 0.0508\n",
      "Training Accuracy: 0.9506, Testing Accuracy: 0.9602\n",
      "\n"
     ]
    },
    {
     "name": "stdout",
     "output_type": "stream",
     "text": [
      "Epoch 80, Loss 0.0488\n",
      "Training Accuracy: 0.9523, Testing Accuracy: 0.9622\n",
      "\n"
     ]
    },
    {
     "name": "stdout",
     "output_type": "stream",
     "text": [
      "Epoch 90, Loss 0.0472\n",
      "Training Accuracy: 0.9541, Testing Accuracy: 0.9632\n",
      "\n"
     ]
    },
    {
     "name": "stdout",
     "output_type": "stream",
     "text": [
      "Epoch 100, Loss 0.0458\n",
      "Training Accuracy: 0.9548, Testing Accuracy: 0.9637\n",
      "\n"
     ]
    },
    {
     "name": "stdout",
     "output_type": "stream",
     "text": [
      "Epoch 110, Loss 0.0446\n",
      "Training Accuracy: 0.9560, Testing Accuracy: 0.9642\n",
      "\n"
     ]
    },
    {
     "name": "stdout",
     "output_type": "stream",
     "text": [
      "Epoch 120, Loss 0.0435\n",
      "Training Accuracy: 0.9574, Testing Accuracy: 0.9642\n",
      "\n"
     ]
    },
    {
     "name": "stdout",
     "output_type": "stream",
     "text": [
      "Epoch 130, Loss 0.0426\n",
      "Training Accuracy: 0.9573, Testing Accuracy: 0.9647\n",
      "\n"
     ]
    },
    {
     "name": "stdout",
     "output_type": "stream",
     "text": [
      "Epoch 140, Loss 0.0418\n",
      "Training Accuracy: 0.9581, Testing Accuracy: 0.9657\n",
      "\n"
     ]
    },
    {
     "name": "stdout",
     "output_type": "stream",
     "text": [
      "Epoch 150, Loss 0.0411\n",
      "Training Accuracy: 0.9584, Testing Accuracy: 0.9657\n",
      "\n"
     ]
    },
    {
     "name": "stdout",
     "output_type": "stream",
     "text": [
      "Epoch 160, Loss 0.0404\n",
      "Training Accuracy: 0.9589, Testing Accuracy: 0.9657\n",
      "\n"
     ]
    },
    {
     "name": "stdout",
     "output_type": "stream",
     "text": [
      "Epoch 170, Loss 0.0398\n",
      "Training Accuracy: 0.9594, Testing Accuracy: 0.9672\n",
      "\n"
     ]
    },
    {
     "name": "stdout",
     "output_type": "stream",
     "text": [
      "Epoch 180, Loss 0.0393\n",
      "Training Accuracy: 0.9597, Testing Accuracy: 0.9672\n",
      "\n"
     ]
    },
    {
     "name": "stdout",
     "output_type": "stream",
     "text": [
      "Epoch 190, Loss 0.0388\n",
      "Training Accuracy: 0.9602, Testing Accuracy: 0.9677\n",
      "\n"
     ]
    },
    {
     "name": "stdout",
     "output_type": "stream",
     "text": [
      "Epoch 200, Loss 0.0383\n",
      "Training Accuracy: 0.9604, Testing Accuracy: 0.9677\n",
      "\n"
     ]
    },
    {
     "name": "stdout",
     "output_type": "stream",
     "text": [
      "Epoch 210, Loss 0.0379\n",
      "Training Accuracy: 0.9611, Testing Accuracy: 0.9677\n",
      "\n"
     ]
    },
    {
     "name": "stdout",
     "output_type": "stream",
     "text": [
      "Epoch 220, Loss 0.0375\n",
      "Training Accuracy: 0.9613, Testing Accuracy: 0.9677\n",
      "\n"
     ]
    },
    {
     "name": "stdout",
     "output_type": "stream",
     "text": [
      "Epoch 230, Loss 0.0371\n",
      "Training Accuracy: 0.9616, Testing Accuracy: 0.9682\n",
      "\n"
     ]
    },
    {
     "name": "stdout",
     "output_type": "stream",
     "text": [
      "Epoch 240, Loss 0.0367\n",
      "Training Accuracy: 0.9619, Testing Accuracy: 0.9682\n",
      "\n"
     ]
    },
    {
     "name": "stdout",
     "output_type": "stream",
     "text": [
      "Epoch 250, Loss 0.0364\n",
      "Training Accuracy: 0.9620, Testing Accuracy: 0.9688\n",
      "\n"
     ]
    },
    {
     "data": {
      "text/plain": [
       "0.0411303345792548"
      ]
     },
     "execution_count": 22,
     "metadata": {},
     "output_type": "execute_result"
    }
   ],
   "source": [
    "print(\"====== Logistic Regression ======\")\n",
    "learner_lr.train_loop(dl)"
   ]
  },
  {
   "cell_type": "markdown",
   "metadata": {
    "papermill": {
     "duration": 0.059287,
     "end_time": "2021-01-13T10:44:46.999069",
     "exception": false,
     "start_time": "2021-01-13T10:44:46.939782",
     "status": "completed"
    },
    "tags": []
   },
   "source": [
    "### Comparing results of NN and LR"
   ]
  },
  {
   "cell_type": "code",
   "execution_count": 23,
   "metadata": {
    "execution": {
     "iopub.execute_input": "2021-01-13T10:44:47.114965Z",
     "iopub.status.busy": "2021-01-13T10:44:47.114223Z",
     "iopub.status.idle": "2021-01-13T10:44:47.407948Z",
     "shell.execute_reply": "2021-01-13T10:44:47.407410Z"
    },
    "papermill": {
     "duration": 0.3573,
     "end_time": "2021-01-13T10:44:47.408086",
     "exception": false,
     "start_time": "2021-01-13T10:44:47.050786",
     "status": "completed"
    },
    "tags": []
   },
   "outputs": [
    {
     "data": {
      "text/plain": [
       "<matplotlib.legend.Legend at 0x7fb22e0ec080>"
      ]
     },
     "execution_count": 23,
     "metadata": {},
     "output_type": "execute_result"
    },
    {
     "data": {
      "image/png": "[encoded data removed]",
      "text/plain": [
       "<Figure size 1080x720 with 1 Axes>"
      ]
     },
     "metadata": {
      "needs_background": "light"
     },
     "output_type": "display_data"
    }
   ],
   "source": [
    "plt.figure(figsize=(15,10))\n",
    "\n",
    "# Neural Network plots\n",
    "plt.plot(acc_nn.accuracies, 'r-', label = \"Training Accuracies - NN\")\n",
    "plt.plot(acc_nn.test_accuracies, 'g-', label = \"Testing Accuracies - NN\")\n",
    "\n",
    "# Logistic Regression plots\n",
    "plt.plot(acc_lr.accuracies, 'k-', label = \"Training Accuracies - LR\")\n",
    "plt.plot(acc_lr.test_accuracies, 'b-', label = \"Testing Accuracies - LR\")\n",
    "\n",
    "plt.ylim(0.8, 1)\n",
    "\n",
    "plt.legend()\n",
    "\n"
   ]
  },
  {
   "cell_type": "markdown",
   "metadata": {
    "papermill": {
     "duration": 0.052004,
     "end_time": "2021-01-13T10:44:47.515447",
     "exception": false,
     "start_time": "2021-01-13T10:44:47.463443",
     "status": "completed"
    },
    "tags": []
   },
   "source": [
    "### From the plot, we can observe the following:\n",
    "- Neural Network achieves higher accuracy than the Logistic Regression model.\n",
    "- This apparently, is because of overfitting, i.e. NN captures more noise than data.\n",
    "- Testing accuracy of NN drops below the Training accuracy at higher epochs. This explains the over-fitting on training data.\n",
    "- Logistic Regression gives a reliable accuracy, without the above mentioned problem.\n"
   ]
  },
  {
   "cell_type": "markdown",
   "metadata": {
    "papermill": {
     "duration": 0.050651,
     "end_time": "2021-01-13T10:44:47.620614",
     "exception": false,
     "start_time": "2021-01-13T10:44:47.569963",
     "status": "completed"
    },
    "tags": []
   },
   "source": [
    "### Moving till the last but one layer (excluding it).\n",
    "#### Plotting the outputs of this layer of the NN."
   ]
  },
  {
   "cell_type": "code",
   "execution_count": 24,
   "metadata": {
    "execution": {
     "iopub.execute_input": "2021-01-13T10:44:47.735289Z",
     "iopub.status.busy": "2021-01-13T10:44:47.729698Z",
     "iopub.status.idle": "2021-01-13T10:44:47.743463Z",
     "shell.execute_reply": "2021-01-13T10:44:47.742807Z"
    },
    "papermill": {
     "duration": 0.070171,
     "end_time": "2021-01-13T10:44:47.743594",
     "exception": false,
     "start_time": "2021-01-13T10:44:47.673423",
     "status": "completed"
    },
    "tags": []
   },
   "outputs": [],
   "source": [
    "model_new = Model(layers[:-2])"
   ]
  },
  {
   "cell_type": "code",
   "execution_count": 25,
   "metadata": {
    "execution": {
     "iopub.execute_input": "2021-01-13T10:44:47.860346Z",
     "iopub.status.busy": "2021-01-13T10:44:47.859595Z",
     "iopub.status.idle": "2021-01-13T10:44:47.888286Z",
     "shell.execute_reply": "2021-01-13T10:44:47.889129Z"
    },
    "papermill": {
     "duration": 0.090715,
     "end_time": "2021-01-13T10:44:47.889354",
     "exception": false,
     "start_time": "2021-01-13T10:44:47.798639",
     "status": "completed"
    },
    "tags": []
   },
   "outputs": [],
   "source": [
    "plot_testing = model_new(testing_xdata)"
   ]
  },
  {
   "cell_type": "code",
   "execution_count": 26,
   "metadata": {
    "execution": {
     "iopub.execute_input": "2021-01-13T10:44:48.004759Z",
     "iopub.status.busy": "2021-01-13T10:44:48.002619Z",
     "iopub.status.idle": "2021-01-13T10:44:48.235624Z",
     "shell.execute_reply": "2021-01-13T10:44:48.234580Z"
    },
    "papermill": {
     "duration": 0.293467,
     "end_time": "2021-01-13T10:44:48.235763",
     "exception": false,
     "start_time": "2021-01-13T10:44:47.942296",
     "status": "completed"
    },
    "tags": []
   },
   "outputs": [
    {
     "data": {
      "text/plain": [
       "Text(0.5, 1.0, 'Outputs')"
      ]
     },
     "execution_count": 26,
     "metadata": {},
     "output_type": "execute_result"
    },
    {
     "data": {
      "image/png": "[encoded data removed]",
      "text/plain": [
       "<Figure size 576x504 with 1 Axes>"
      ]
     },
     "metadata": {
      "needs_background": "light"
     },
     "output_type": "display_data"
    }
   ],
   "source": [
    "plt.figure(figsize=(8,7))\n",
    "plt.scatter(plot_testing[:,0], plot_testing[:,1], alpha = 0.1, c = y_test.ravel());\n",
    "plt.title('Outputs')"
   ]
  },
  {
   "cell_type": "markdown",
   "metadata": {
    "papermill": {
     "duration": 0.052185,
     "end_time": "2021-01-13T10:44:48.359165",
     "exception": false,
     "start_time": "2021-01-13T10:44:48.306980",
     "status": "completed"
    },
    "tags": []
   },
   "source": [
    "### Plotting probability contours"
   ]
  },
  {
   "cell_type": "code",
   "execution_count": 27,
   "metadata": {
    "execution": {
     "iopub.execute_input": "2021-01-13T10:44:48.474651Z",
     "iopub.status.busy": "2021-01-13T10:44:48.474041Z",
     "iopub.status.idle": "2021-01-13T10:44:48.486295Z",
     "shell.execute_reply": "2021-01-13T10:44:48.486850Z"
    },
    "papermill": {
     "duration": 0.073337,
     "end_time": "2021-01-13T10:44:48.487102",
     "exception": false,
     "start_time": "2021-01-13T10:44:48.413765",
     "status": "completed"
    },
    "tags": []
   },
   "outputs": [],
   "source": [
    "model_prob = Model(layers[-2:]) "
   ]
  },
  {
   "cell_type": "code",
   "execution_count": 28,
   "metadata": {
    "execution": {
     "iopub.execute_input": "2021-01-13T10:44:48.630021Z",
     "iopub.status.busy": "2021-01-13T10:44:48.629319Z",
     "iopub.status.idle": "2021-01-13T10:44:48.644971Z",
     "shell.execute_reply": "2021-01-13T10:44:48.645535Z"
    },
    "papermill": {
     "duration": 0.105461,
     "end_time": "2021-01-13T10:44:48.645716",
     "exception": false,
     "start_time": "2021-01-13T10:44:48.540255",
     "status": "completed"
    },
    "tags": []
   },
   "outputs": [],
   "source": [
    "# Adjust the x and y ranges according to the above generated plot.\n",
    "x_range = np.linspace(-4, 1, 100) \n",
    "y_range = np.linspace(-6, 6, 100) \n",
    "x_grid, y_grid = np.meshgrid(x_range, y_range) # x_grid and y_grig are of size 100 X 100\n",
    "\n",
    "# converting x_grid and y_grid to continuous arrays\n",
    "x_grid_flat = np.ravel(x_grid)\n",
    "y_grid_flat = np.ravel(y_grid)\n",
    "\n",
    "# The last layer of the current model takes two columns as input. Hence transpose of np.vstack() is required.\n",
    "X = np.vstack((x_grid_flat, y_grid_flat)).T\n",
    "\n",
    "# x_grid and y_grid are of size 100 x 100\n",
    "probability_contour = model_prob(X).reshape(100,100) "
   ]
  },
  {
   "cell_type": "code",
   "execution_count": 29,
   "metadata": {
    "execution": {
     "iopub.execute_input": "2021-01-13T10:44:48.773244Z",
     "iopub.status.busy": "2021-01-13T10:44:48.772559Z",
     "iopub.status.idle": "2021-01-13T10:44:49.078643Z",
     "shell.execute_reply": "2021-01-13T10:44:49.079202Z"
    },
    "papermill": {
     "duration": 0.374224,
     "end_time": "2021-01-13T10:44:49.079373",
     "exception": false,
     "start_time": "2021-01-13T10:44:48.705149",
     "status": "completed"
    },
    "tags": []
   },
   "outputs": [
    {
     "data": {
      "image/png": "[encoded data removed]",
      "text/plain": [
       "<Figure size 720x648 with 1 Axes>"
      ]
     },
     "metadata": {
      "needs_background": "light"
     },
     "output_type": "display_data"
    }
   ],
   "source": [
    "plt.figure(figsize=(10,9))\n",
    "plt.scatter(plot_testing[:,0], plot_testing[:,1], alpha = 0.1, c = y_test.ravel())\n",
    "contours = plt.contour(x_grid,y_grid,probability_contour)\n",
    "plt.title('Probability Contours')\n",
    "plt.clabel(contours, inline = True );"
   ]
  }
 ],
 "metadata": {
  "kernelspec": {
   "display_name": "Python 3",
   "language": "python",
   "name": "python3"
  },
  "language_info": {
   "codemirror_mode": {
    "name": "ipython",
    "version": 3
   },
   "file_extension": ".py",
   "mimetype": "text/x-python",
   "name": "python",
   "nbconvert_exporter": "python",
   "pygments_lexer": "ipython3",
   "version": "3.6.12"
  },
  "papermill": {
   "duration": 180.425536,
   "end_time": "2021-01-13T10:44:50.409407",
   "environment_variables": {},
   "exception": null,
   "input_path": "2020-08-11-NeuralNetwork.ipynb",
   "output_path": "2020-08-11-NeuralNetwork.ipynb",
   "parameters": {},
   "start_time": "2021-01-13T10:41:49.983871",
   "version": "2.1.2"
  }
 },
 "nbformat": 4,
 "nbformat_minor": 4
}