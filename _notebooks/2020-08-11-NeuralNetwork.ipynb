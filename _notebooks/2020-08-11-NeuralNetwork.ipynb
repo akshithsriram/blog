{
 "cells": [
  {
   "cell_type": "markdown",
   "id": "fitted-suggestion",
   "metadata": {
    "papermill": {
     "duration": 0.032631,
     "end_time": "2021-03-01T00:06:59.991425",
     "exception": false,
     "start_time": "2021-03-01T00:06:59.958794",
     "status": "completed"
    },
    "tags": []
   },
   "source": [
    "# \"A Basic Neural Network: Differentiate Hand-Written Digits\"\n",
    "\n",
    "- badges: true\n",
    "- author: Akshith Sriram"
   ]
  },
  {
   "cell_type": "markdown",
   "id": "signal-flexibility",
   "metadata": {
    "papermill": {
     "duration": 0.025405,
     "end_time": "2021-03-01T00:07:00.044457",
     "exception": false,
     "start_time": "2021-03-01T00:07:00.019052",
     "status": "completed"
    },
    "tags": []
   },
   "source": [
    "### Key Objectives:\n",
    "- Building a neural network that differentiates two hand-written digits 3 and 8.\n",
    "- Comparing the results of this Neural Network (NN) to that of a Logistic Regression (LR) model.\n",
    "\n",
    "### Requirements:\n",
    "- 'Kudzu' : A neural network library that was designed during our course by [Univ.AI](www.univ.ai). \n",
    "- MNIST Database\n",
    "\n",
    "If MNIST is not installed, use the command `!pip install mnist` given below.\n",
    "It can be run both from the command line and Jupyter Notebook."
   ]
  },
  {
   "cell_type": "code",
   "execution_count": 1,
   "id": "british-texture",
   "metadata": {
    "execution": {
     "iopub.execute_input": "2021-03-01T00:07:00.108706Z",
     "iopub.status.busy": "2021-03-01T00:07:00.108058Z",
     "iopub.status.idle": "2021-03-01T00:07:03.953761Z",
     "shell.execute_reply": "2021-03-01T00:07:03.952810Z"
    },
    "papermill": {
     "duration": 3.883288,
     "end_time": "2021-03-01T00:07:03.953963",
     "exception": false,
     "start_time": "2021-03-01T00:07:00.070675",
     "status": "completed"
    },
    "tags": []
   },
   "outputs": [
    {
     "name": "stdout",
     "output_type": "stream",
     "text": [
      "Collecting mnist\r\n"
     ]
    },
    {
     "name": "stdout",
     "output_type": "stream",
     "text": [
      "  Downloading mnist-0.2.2-py2.py3-none-any.whl (3.5 kB)\r\n"
     ]
    },
    {
     "name": "stdout",
     "output_type": "stream",
     "text": [
      "Requirement already satisfied: numpy in /opt/hostedtoolcache/Python/3.6.13/x64/lib/python3.6/site-packages (from mnist) (1.19.5)\r\n"
     ]
    },
    {
     "name": "stdout",
     "output_type": "stream",
     "text": [
      "Installing collected packages: mnist\r\n"
     ]
    },
    {
     "name": "stdout",
     "output_type": "stream",
     "text": [
      "Successfully installed mnist-0.2.2\r\n"
     ]
    }
   ],
   "source": [
    "!pip install mnist "
   ]
  },
  {
   "cell_type": "markdown",
   "id": "stunning-extra",
   "metadata": {
    "papermill": {
     "duration": 0.026327,
     "end_time": "2021-03-01T00:07:04.007358",
     "exception": false,
     "start_time": "2021-03-01T00:07:03.981031",
     "status": "completed"
    },
    "tags": []
   },
   "source": [
    "#### Importing necessary libraries"
   ]
  },
  {
   "cell_type": "code",
   "execution_count": 2,
   "id": "wooden-france",
   "metadata": {
    "execution": {
     "iopub.execute_input": "2021-03-01T00:07:04.070369Z",
     "iopub.status.busy": "2021-03-01T00:07:04.069814Z",
     "iopub.status.idle": "2021-03-01T00:07:04.584827Z",
     "shell.execute_reply": "2021-03-01T00:07:04.584047Z"
    },
    "papermill": {
     "duration": 0.550986,
     "end_time": "2021-03-01T00:07:04.585011",
     "exception": false,
     "start_time": "2021-03-01T00:07:04.034025",
     "status": "completed"
    },
    "tags": []
   },
   "outputs": [],
   "source": [
    "%load_ext autoreload\n",
    "%autoreload 2\n",
    "\n",
    "%matplotlib inline\n",
    "import matplotlib.pyplot as plt\n",
    "\n",
    "import numpy as np\n",
    "import pandas as pd"
   ]
  },
  {
   "cell_type": "markdown",
   "id": "stunning-physics",
   "metadata": {
    "papermill": {
     "duration": 0.028353,
     "end_time": "2021-03-01T00:07:04.643746",
     "exception": false,
     "start_time": "2021-03-01T00:07:04.615393",
     "status": "completed"
    },
    "tags": []
   },
   "source": [
    "### Preparing the Data"
   ]
  },
  {
   "cell_type": "code",
   "execution_count": 3,
   "id": "unauthorized-remainder",
   "metadata": {
    "execution": {
     "iopub.execute_input": "2021-03-01T00:07:04.703396Z",
     "iopub.status.busy": "2021-03-01T00:07:04.702812Z",
     "iopub.status.idle": "2021-03-01T00:07:04.714588Z",
     "shell.execute_reply": "2021-03-01T00:07:04.714129Z"
    },
    "papermill": {
     "duration": 0.043178,
     "end_time": "2021-03-01T00:07:04.714696",
     "exception": false,
     "start_time": "2021-03-01T00:07:04.671518",
     "status": "completed"
    },
    "tags": []
   },
   "outputs": [],
   "source": [
    "import mnist"
   ]
  },
  {
   "cell_type": "code",
   "execution_count": 4,
   "id": "correct-antarctica",
   "metadata": {
    "execution": {
     "iopub.execute_input": "2021-03-01T00:07:04.774695Z",
     "iopub.status.busy": "2021-03-01T00:07:04.774112Z",
     "iopub.status.idle": "2021-03-01T00:07:06.067964Z",
     "shell.execute_reply": "2021-03-01T00:07:06.067085Z"
    },
    "papermill": {
     "duration": 1.326978,
     "end_time": "2021-03-01T00:07:06.068183",
     "exception": false,
     "start_time": "2021-03-01T00:07:04.741205",
     "status": "completed"
    },
    "tags": []
   },
   "outputs": [],
   "source": [
    "train_images = mnist.train_images()\n",
    "train_labels = mnist.train_labels()"
   ]
  },
  {
   "cell_type": "code",
   "execution_count": 5,
   "id": "musical-prospect",
   "metadata": {
    "execution": {
     "iopub.execute_input": "2021-03-01T00:07:06.127035Z",
     "iopub.status.busy": "2021-03-01T00:07:06.126473Z",
     "iopub.status.idle": "2021-03-01T00:07:06.142537Z",
     "shell.execute_reply": "2021-03-01T00:07:06.142083Z"
    },
    "papermill": {
     "duration": 0.045459,
     "end_time": "2021-03-01T00:07:06.142645",
     "exception": false,
     "start_time": "2021-03-01T00:07:06.097186",
     "status": "completed"
    },
    "tags": []
   },
   "outputs": [
    {
     "data": {
      "text/plain": [
       "((60000, 28, 28), (60000,))"
      ]
     },
     "execution_count": 5,
     "metadata": {},
     "output_type": "execute_result"
    }
   ],
   "source": [
    "train_images.shape, train_labels.shape"
   ]
  },
  {
   "cell_type": "code",
   "execution_count": 6,
   "id": "preliminary-elizabeth",
   "metadata": {
    "execution": {
     "iopub.execute_input": "2021-03-01T00:07:06.201531Z",
     "iopub.status.busy": "2021-03-01T00:07:06.200996Z",
     "iopub.status.idle": "2021-03-01T00:07:06.481856Z",
     "shell.execute_reply": "2021-03-01T00:07:06.480974Z"
    },
    "papermill": {
     "duration": 0.312527,
     "end_time": "2021-03-01T00:07:06.482070",
     "exception": false,
     "start_time": "2021-03-01T00:07:06.169543",
     "status": "completed"
    },
    "tags": []
   },
   "outputs": [],
   "source": [
    "test_images = mnist.test_images()\n",
    "test_labels = mnist.test_labels()"
   ]
  },
  {
   "cell_type": "code",
   "execution_count": 7,
   "id": "acknowledged-oxygen",
   "metadata": {
    "execution": {
     "iopub.execute_input": "2021-03-01T00:07:06.708907Z",
     "iopub.status.busy": "2021-03-01T00:07:06.708391Z",
     "iopub.status.idle": "2021-03-01T00:07:06.720462Z",
     "shell.execute_reply": "2021-03-01T00:07:06.719948Z"
    },
    "papermill": {
     "duration": 0.210594,
     "end_time": "2021-03-01T00:07:06.720566",
     "exception": false,
     "start_time": "2021-03-01T00:07:06.509972",
     "status": "completed"
    },
    "tags": []
   },
   "outputs": [
    {
     "data": {
      "text/plain": [
       "((10000, 28, 28), (10000,))"
      ]
     },
     "execution_count": 7,
     "metadata": {},
     "output_type": "execute_result"
    }
   ],
   "source": [
    "test_images.shape, test_labels.shape"
   ]
  },
  {
   "cell_type": "code",
   "execution_count": 8,
   "id": "innovative-organic",
   "metadata": {
    "execution": {
     "iopub.execute_input": "2021-03-01T00:07:06.780474Z",
     "iopub.status.busy": "2021-03-01T00:07:06.779862Z",
     "iopub.status.idle": "2021-03-01T00:07:06.918887Z",
     "shell.execute_reply": "2021-03-01T00:07:06.919727Z"
    },
    "papermill": {
     "duration": 0.169733,
     "end_time": "2021-03-01T00:07:06.919962",
     "exception": false,
     "start_time": "2021-03-01T00:07:06.750229",
     "status": "completed"
    },
    "tags": []
   },
   "outputs": [
    {
     "name": "stdout",
     "output_type": "stream",
     "text": [
      "2\n"
     ]
    },
    {
     "data": {
      "text/plain": [
       "<matplotlib.image.AxesImage at 0x7f2239e21470>"
      ]
     },
     "execution_count": 8,
     "metadata": {},
     "output_type": "execute_result"
    },
    {
     "data": {
      "image/png": "[encoded data removed]",
      "text/plain": [
       "<Figure size 432x288 with 1 Axes>"
      ]
     },
     "metadata": {
      "needs_background": "light"
     },
     "output_type": "display_data"
    }
   ],
   "source": [
    "image_index = 7776 # You may select anything up to 60,000\n",
    "print(train_labels[image_index]) \n",
    "plt.imshow(train_images[image_index], cmap='Greys')"
   ]
  },
  {
   "cell_type": "markdown",
   "id": "facial-modem",
   "metadata": {
    "papermill": {
     "duration": 0.029559,
     "end_time": "2021-03-01T00:07:06.979227",
     "exception": false,
     "start_time": "2021-03-01T00:07:06.949668",
     "status": "completed"
    },
    "tags": []
   },
   "source": [
    "## Filter data to get 3 and 8 out"
   ]
  },
  {
   "cell_type": "code",
   "execution_count": 9,
   "id": "thousand-acquisition",
   "metadata": {
    "execution": {
     "iopub.execute_input": "2021-03-01T00:07:07.041863Z",
     "iopub.status.busy": "2021-03-01T00:07:07.041317Z",
     "iopub.status.idle": "2021-03-01T00:07:07.060350Z",
     "shell.execute_reply": "2021-03-01T00:07:07.059854Z"
    },
    "papermill": {
     "duration": 0.052856,
     "end_time": "2021-03-01T00:07:07.060462",
     "exception": false,
     "start_time": "2021-03-01T00:07:07.007606",
     "status": "completed"
    },
    "tags": []
   },
   "outputs": [],
   "source": [
    "train_filter = np.where((train_labels == 3 ) | (train_labels == 8))\n",
    "test_filter = np.where((test_labels == 3) | (test_labels == 8))\n",
    "X_train, y_train = train_images[train_filter], train_labels[train_filter]\n",
    "X_test, y_test = test_images[test_filter], test_labels[test_filter]"
   ]
  },
  {
   "cell_type": "markdown",
   "id": "ruled-access",
   "metadata": {
    "papermill": {
     "duration": 0.029522,
     "end_time": "2021-03-01T00:07:07.119888",
     "exception": false,
     "start_time": "2021-03-01T00:07:07.090366",
     "status": "completed"
    },
    "tags": []
   },
   "source": [
    "We normalize the pixel values in the 0 to 1 range"
   ]
  },
  {
   "cell_type": "code",
   "execution_count": 10,
   "id": "isolated-denver",
   "metadata": {
    "execution": {
     "iopub.execute_input": "2021-03-01T00:07:07.184907Z",
     "iopub.status.busy": "2021-03-01T00:07:07.184359Z",
     "iopub.status.idle": "2021-03-01T00:07:07.234502Z",
     "shell.execute_reply": "2021-03-01T00:07:07.233927Z"
    },
    "papermill": {
     "duration": 0.085936,
     "end_time": "2021-03-01T00:07:07.234652",
     "exception": false,
     "start_time": "2021-03-01T00:07:07.148716",
     "status": "completed"
    },
    "tags": []
   },
   "outputs": [],
   "source": [
    "X_train = X_train/255.\n",
    "X_test = X_test/255."
   ]
  },
  {
   "cell_type": "markdown",
   "id": "perfect-summary",
   "metadata": {
    "papermill": {
     "duration": 0.030553,
     "end_time": "2021-03-01T00:07:07.297816",
     "exception": false,
     "start_time": "2021-03-01T00:07:07.267263",
     "status": "completed"
    },
    "tags": []
   },
   "source": [
    "Setup the labels as 1 (when the digit is 3) and 0 (when the digit is 8)"
   ]
  },
  {
   "cell_type": "code",
   "execution_count": 11,
   "id": "personalized-growing",
   "metadata": {
    "execution": {
     "iopub.execute_input": "2021-03-01T00:07:07.364863Z",
     "iopub.status.busy": "2021-03-01T00:07:07.364287Z",
     "iopub.status.idle": "2021-03-01T00:07:07.374962Z",
     "shell.execute_reply": "2021-03-01T00:07:07.375463Z"
    },
    "papermill": {
     "duration": 0.049498,
     "end_time": "2021-03-01T00:07:07.375595",
     "exception": false,
     "start_time": "2021-03-01T00:07:07.326097",
     "status": "completed"
    },
    "tags": []
   },
   "outputs": [],
   "source": [
    "y_train = 1*(y_train==3)\n",
    "y_test = 1*(y_test==3)"
   ]
  },
  {
   "cell_type": "code",
   "execution_count": 12,
   "id": "considered-virgin",
   "metadata": {
    "execution": {
     "iopub.execute_input": "2021-03-01T00:07:07.433891Z",
     "iopub.status.busy": "2021-03-01T00:07:07.433360Z",
     "iopub.status.idle": "2021-03-01T00:07:07.447318Z",
     "shell.execute_reply": "2021-03-01T00:07:07.446825Z"
    },
    "papermill": {
     "duration": 0.044666,
     "end_time": "2021-03-01T00:07:07.447429",
     "exception": false,
     "start_time": "2021-03-01T00:07:07.402763",
     "status": "completed"
    },
    "tags": []
   },
   "outputs": [
    {
     "data": {
      "text/plain": [
       "((11982, 28, 28), (1984, 28, 28))"
      ]
     },
     "execution_count": 12,
     "metadata": {},
     "output_type": "execute_result"
    }
   ],
   "source": [
    "X_train.shape, X_test.shape"
   ]
  },
  {
   "cell_type": "markdown",
   "id": "civilian-mobile",
   "metadata": {
    "papermill": {
     "duration": 0.029087,
     "end_time": "2021-03-01T00:07:07.506030",
     "exception": false,
     "start_time": "2021-03-01T00:07:07.476943",
     "status": "completed"
    },
    "tags": []
   },
   "source": [
    "### Reshape the input data to create a linear array"
   ]
  },
  {
   "cell_type": "code",
   "execution_count": 13,
   "id": "colonial-adams",
   "metadata": {
    "execution": {
     "iopub.execute_input": "2021-03-01T00:07:07.574281Z",
     "iopub.status.busy": "2021-03-01T00:07:07.573738Z",
     "iopub.status.idle": "2021-03-01T00:07:07.587428Z",
     "shell.execute_reply": "2021-03-01T00:07:07.587929Z"
    },
    "papermill": {
     "duration": 0.051913,
     "end_time": "2021-03-01T00:07:07.588055",
     "exception": false,
     "start_time": "2021-03-01T00:07:07.536142",
     "status": "completed"
    },
    "tags": []
   },
   "outputs": [
    {
     "data": {
      "text/plain": [
       "((11982, 784), (1984, 784))"
      ]
     },
     "execution_count": 13,
     "metadata": {},
     "output_type": "execute_result"
    }
   ],
   "source": [
    "X_train = X_train.reshape(X_train.shape[0], -1)\n",
    "X_test = X_test.reshape(X_test.shape[0], -1)\n",
    "X_train.shape, X_test.shape"
   ]
  },
  {
   "cell_type": "markdown",
   "id": "smart-details",
   "metadata": {
    "papermill": {
     "duration": 0.029056,
     "end_time": "2021-03-01T00:07:07.647155",
     "exception": false,
     "start_time": "2021-03-01T00:07:07.618099",
     "status": "completed"
    },
    "tags": []
   },
   "source": [
    "### Importing appropriate functions from 'Kudzu'"
   ]
  },
  {
   "cell_type": "code",
   "execution_count": 14,
   "id": "celtic-trial",
   "metadata": {
    "execution": {
     "iopub.execute_input": "2021-03-01T00:07:07.712411Z",
     "iopub.status.busy": "2021-03-01T00:07:07.711826Z",
     "iopub.status.idle": "2021-03-01T00:07:07.730551Z",
     "shell.execute_reply": "2021-03-01T00:07:07.730094Z"
    },
    "papermill": {
     "duration": 0.05316,
     "end_time": "2021-03-01T00:07:07.730655",
     "exception": false,
     "start_time": "2021-03-01T00:07:07.677495",
     "status": "completed"
    },
    "tags": []
   },
   "outputs": [],
   "source": [
    "from kudzu.layer import Sigmoid\n",
    "from kudzu.layer import Relu\n",
    "from kudzu.layer import Affine, Sigmoid\n",
    "\n",
    "from kudzu.model import Model\n",
    "from kudzu.train import Learner\n",
    "from kudzu.optim import GD\n",
    "from kudzu.data import Data, Dataloader, Sampler\n",
    "\n",
    "from kudzu.callbacks import AccCallback\n",
    "from kudzu.callbacks import ClfCallback\n",
    "\n",
    "from kudzu.loss import MSE"
   ]
  },
  {
   "cell_type": "markdown",
   "id": "coupled-customer",
   "metadata": {
    "papermill": {
     "duration": 0.030306,
     "end_time": "2021-03-01T00:07:07.790990",
     "exception": false,
     "start_time": "2021-03-01T00:07:07.760684",
     "status": "completed"
    },
    "tags": []
   },
   "source": [
    "### Let us create a `Config` class, to store important parameters. \n",
    "This class essentially plays the role of a dictionary."
   ]
  },
  {
   "cell_type": "code",
   "execution_count": 15,
   "id": "young-ceiling",
   "metadata": {
    "execution": {
     "iopub.execute_input": "2021-03-01T00:07:07.853320Z",
     "iopub.status.busy": "2021-03-01T00:07:07.852763Z",
     "iopub.status.idle": "2021-03-01T00:07:07.864718Z",
     "shell.execute_reply": "2021-03-01T00:07:07.864276Z"
    },
    "papermill": {
     "duration": 0.044882,
     "end_time": "2021-03-01T00:07:07.864825",
     "exception": false,
     "start_time": "2021-03-01T00:07:07.819943",
     "status": "completed"
    },
    "tags": []
   },
   "outputs": [],
   "source": [
    "class Config:\n",
    "    pass\n",
    "config = Config()\n",
    "config.lr = 0.001\n",
    "config.num_epochs = 251\n",
    "config.bs = 50"
   ]
  },
  {
   "cell_type": "markdown",
   "id": "according-mandate",
   "metadata": {
    "papermill": {
     "duration": 0.028825,
     "end_time": "2021-03-01T00:07:07.923239",
     "exception": false,
     "start_time": "2021-03-01T00:07:07.894414",
     "status": "completed"
    },
    "tags": []
   },
   "source": [
    "### Initializing data to the variables"
   ]
  },
  {
   "cell_type": "code",
   "execution_count": 16,
   "id": "academic-disposition",
   "metadata": {
    "execution": {
     "iopub.execute_input": "2021-03-01T00:07:07.983604Z",
     "iopub.status.busy": "2021-03-01T00:07:07.983021Z",
     "iopub.status.idle": "2021-03-01T00:07:07.995634Z",
     "shell.execute_reply": "2021-03-01T00:07:07.995138Z"
    },
    "papermill": {
     "duration": 0.044012,
     "end_time": "2021-03-01T00:07:07.995745",
     "exception": false,
     "start_time": "2021-03-01T00:07:07.951733",
     "status": "completed"
    },
    "tags": []
   },
   "outputs": [],
   "source": [
    "data = Data(X_train, y_train.reshape(-1,1))\n",
    "sampler = Sampler(data, config.bs, shuffle=True)\n",
    "\n",
    "dl = Dataloader(data, sampler)\n",
    "\n",
    "opt = GD(config.lr)\n",
    "loss = MSE()"
   ]
  },
  {
   "cell_type": "code",
   "execution_count": 17,
   "id": "featured-commission",
   "metadata": {
    "execution": {
     "iopub.execute_input": "2021-03-01T00:07:08.059374Z",
     "iopub.status.busy": "2021-03-01T00:07:08.058834Z",
     "iopub.status.idle": "2021-03-01T00:07:08.072433Z",
     "shell.execute_reply": "2021-03-01T00:07:08.071938Z"
    },
    "papermill": {
     "duration": 0.046608,
     "end_time": "2021-03-01T00:07:08.072541",
     "exception": false,
     "start_time": "2021-03-01T00:07:08.025933",
     "status": "completed"
    },
    "tags": []
   },
   "outputs": [],
   "source": [
    "training_xdata = X_train\n",
    "testing_xdata = X_test\n",
    "training_ydata = y_train.reshape(-1,1)\n",
    "testing_ydata = y_test.reshape(-1,1)"
   ]
  },
  {
   "cell_type": "markdown",
   "id": "played-safety",
   "metadata": {
    "papermill": {
     "duration": 0.030185,
     "end_time": "2021-03-01T00:07:08.133492",
     "exception": false,
     "start_time": "2021-03-01T00:07:08.103307",
     "status": "completed"
    },
    "tags": []
   },
   "source": [
    "### Running Models with the Training data\n",
    "Details about the network layers:\n",
    "- A first affine layer has 784 inputs and does 100 affine transforms. These are followed by a Relu\n",
    "- A second affine layer has 100 inputs from the 100 activations of the past layer, and does 100 affine transforms. These are followed by a Relu\n",
    "- A third affine layer has 100 activations and does 2 affine transformations to create an embedding for visualization. There is no non-linearity here.\n",
    "- A final \"logistic regression\" which has an affine transform from 2 inputs to 1 output, which is squeezed through a sigmoid.\n",
    "\n",
    "Help taken from Anshuman's Notebook."
   ]
  },
  {
   "cell_type": "code",
   "execution_count": 18,
   "id": "asian-bankruptcy",
   "metadata": {
    "execution": {
     "iopub.execute_input": "2021-03-01T00:07:08.197428Z",
     "iopub.status.busy": "2021-03-01T00:07:08.196872Z",
     "iopub.status.idle": "2021-03-01T00:07:08.213583Z",
     "shell.execute_reply": "2021-03-01T00:07:08.213143Z"
    },
    "papermill": {
     "duration": 0.050265,
     "end_time": "2021-03-01T00:07:08.213690",
     "exception": false,
     "start_time": "2021-03-01T00:07:08.163425",
     "status": "completed"
    },
    "tags": []
   },
   "outputs": [],
   "source": [
    "# layers for the Neural Network\n",
    "layers = [Affine(\"first\", 784, 100), Relu(\"first\"), Affine(\"second\", 100, 100), Relu(\"second\"), Affine(\"third\", 100, 2), Affine(\"final\", 2, 1), Sigmoid(\"final\")]\n",
    "model_nn = Model(layers)\n",
    "\n",
    "# layers for the Logistic Regression\n",
    "layers_lr = [Affine(\"logits\", 784, 1), Sigmoid(\"sigmoid\")]\n",
    "model_lr = Model(layers_lr)"
   ]
  },
  {
   "cell_type": "code",
   "execution_count": 19,
   "id": "removed-butler",
   "metadata": {
    "execution": {
     "iopub.execute_input": "2021-03-01T00:07:08.277596Z",
     "iopub.status.busy": "2021-03-01T00:07:08.277049Z",
     "iopub.status.idle": "2021-03-01T00:07:08.289073Z",
     "shell.execute_reply": "2021-03-01T00:07:08.288636Z"
    },
    "papermill": {
     "duration": 0.045203,
     "end_time": "2021-03-01T00:07:08.289180",
     "exception": false,
     "start_time": "2021-03-01T00:07:08.243977",
     "status": "completed"
    },
    "tags": []
   },
   "outputs": [],
   "source": [
    "# suffix _nn stands for Neural Network.\n",
    "learner_nn = Learner(loss, model_nn, opt, config.num_epochs)\n",
    "acc_nn = ClfCallback(learner_nn, config.bs, training_xdata , testing_xdata, training_ydata, testing_ydata)\n",
    "learner_nn.set_callbacks([acc_nn])"
   ]
  },
  {
   "cell_type": "code",
   "execution_count": 20,
   "id": "conceptual-throw",
   "metadata": {
    "execution": {
     "iopub.execute_input": "2021-03-01T00:07:08.353801Z",
     "iopub.status.busy": "2021-03-01T00:07:08.353262Z",
     "iopub.status.idle": "2021-03-01T00:08:32.311140Z",
     "shell.execute_reply": "2021-03-01T00:08:32.310652Z"
    },
    "papermill": {
     "duration": 83.992954,
     "end_time": "2021-03-01T00:08:32.311270",
     "exception": false,
     "start_time": "2021-03-01T00:07:08.318316",
     "status": "completed"
    },
    "tags": []
   },
   "outputs": [
    {
     "name": "stdout",
     "output_type": "stream",
     "text": [
      "====== Neural Network ======\n"
     ]
    },
    {
     "name": "stdout",
     "output_type": "stream",
     "text": [
      "Epoch 0, Loss 0.2072\n",
      "Training Accuracy: 0.8033, Testing Accuracy: 0.8180\n",
      "\n"
     ]
    },
    {
     "name": "stdout",
     "output_type": "stream",
     "text": [
      "Epoch 10, Loss 0.0601\n",
      "Training Accuracy: 0.9386, Testing Accuracy: 0.9491\n",
      "\n"
     ]
    },
    {
     "name": "stdout",
     "output_type": "stream",
     "text": [
      "Epoch 20, Loss 0.0424\n",
      "Training Accuracy: 0.9523, Testing Accuracy: 0.9617\n",
      "\n"
     ]
    },
    {
     "name": "stdout",
     "output_type": "stream",
     "text": [
      "Epoch 30, Loss 0.0354\n",
      "Training Accuracy: 0.9612, Testing Accuracy: 0.9652\n",
      "\n"
     ]
    },
    {
     "name": "stdout",
     "output_type": "stream",
     "text": [
      "Epoch 40, Loss 0.0315\n",
      "Training Accuracy: 0.9649, Testing Accuracy: 0.9703\n",
      "\n"
     ]
    },
    {
     "name": "stdout",
     "output_type": "stream",
     "text": [
      "Epoch 50, Loss 0.0289\n",
      "Training Accuracy: 0.9675, Testing Accuracy: 0.9723\n",
      "\n"
     ]
    },
    {
     "name": "stdout",
     "output_type": "stream",
     "text": [
      "Epoch 60, Loss 0.027\n",
      "Training Accuracy: 0.9691, Testing Accuracy: 0.9718\n",
      "\n"
     ]
    },
    {
     "name": "stdout",
     "output_type": "stream",
     "text": [
      "Epoch 70, Loss 0.0255\n",
      "Training Accuracy: 0.9705, Testing Accuracy: 0.9728\n",
      "\n"
     ]
    },
    {
     "name": "stdout",
     "output_type": "stream",
     "text": [
      "Epoch 80, Loss 0.0242\n",
      "Training Accuracy: 0.9721, Testing Accuracy: 0.9723\n",
      "\n"
     ]
    },
    {
     "name": "stdout",
     "output_type": "stream",
     "text": [
      "Epoch 90, Loss 0.0232\n",
      "Training Accuracy: 0.9733, Testing Accuracy: 0.9723\n",
      "\n"
     ]
    },
    {
     "name": "stdout",
     "output_type": "stream",
     "text": [
      "Epoch 100, Loss 0.0223\n",
      "Training Accuracy: 0.9745, Testing Accuracy: 0.9723\n",
      "\n"
     ]
    },
    {
     "name": "stdout",
     "output_type": "stream",
     "text": [
      "Epoch 110, Loss 0.0214\n",
      "Training Accuracy: 0.9754, Testing Accuracy: 0.9728\n",
      "\n"
     ]
    },
    {
     "name": "stdout",
     "output_type": "stream",
     "text": [
      "Epoch 120, Loss 0.0207\n",
      "Training Accuracy: 0.9764, Testing Accuracy: 0.9733\n",
      "\n"
     ]
    },
    {
     "name": "stdout",
     "output_type": "stream",
     "text": [
      "Epoch 130, Loss 0.02\n",
      "Training Accuracy: 0.9769, Testing Accuracy: 0.9733\n",
      "\n"
     ]
    },
    {
     "name": "stdout",
     "output_type": "stream",
     "text": [
      "Epoch 140, Loss 0.0194\n",
      "Training Accuracy: 0.9775, Testing Accuracy: 0.9733\n",
      "\n"
     ]
    },
    {
     "name": "stdout",
     "output_type": "stream",
     "text": [
      "Epoch 150, Loss 0.0188\n",
      "Training Accuracy: 0.9786, Testing Accuracy: 0.9738\n",
      "\n"
     ]
    },
    {
     "name": "stdout",
     "output_type": "stream",
     "text": [
      "Epoch 160, Loss 0.0182\n",
      "Training Accuracy: 0.9793, Testing Accuracy: 0.9738\n",
      "\n"
     ]
    },
    {
     "name": "stdout",
     "output_type": "stream",
     "text": [
      "Epoch 170, Loss 0.0177\n",
      "Training Accuracy: 0.9798, Testing Accuracy: 0.9748\n",
      "\n"
     ]
    },
    {
     "name": "stdout",
     "output_type": "stream",
     "text": [
      "Epoch 180, Loss 0.0172\n",
      "Training Accuracy: 0.9806, Testing Accuracy: 0.9758\n",
      "\n"
     ]
    },
    {
     "name": "stdout",
     "output_type": "stream",
     "text": [
      "Epoch 190, Loss 0.0167\n",
      "Training Accuracy: 0.9816, Testing Accuracy: 0.9758\n",
      "\n"
     ]
    },
    {
     "name": "stdout",
     "output_type": "stream",
     "text": [
      "Epoch 200, Loss 0.0163\n",
      "Training Accuracy: 0.9820, Testing Accuracy: 0.9763\n",
      "\n"
     ]
    },
    {
     "name": "stdout",
     "output_type": "stream",
     "text": [
      "Epoch 210, Loss 0.0158\n",
      "Training Accuracy: 0.9827, Testing Accuracy: 0.9758\n",
      "\n"
     ]
    },
    {
     "name": "stdout",
     "output_type": "stream",
     "text": [
      "Epoch 220, Loss 0.0154\n",
      "Training Accuracy: 0.9831, Testing Accuracy: 0.9773\n",
      "\n"
     ]
    },
    {
     "name": "stdout",
     "output_type": "stream",
     "text": [
      "Epoch 230, Loss 0.015\n",
      "Training Accuracy: 0.9840, Testing Accuracy: 0.9768\n",
      "\n"
     ]
    },
    {
     "name": "stdout",
     "output_type": "stream",
     "text": [
      "Epoch 240, Loss 0.0146\n",
      "Training Accuracy: 0.9845, Testing Accuracy: 0.9778\n",
      "\n"
     ]
    },
    {
     "name": "stdout",
     "output_type": "stream",
     "text": [
      "Epoch 250, Loss 0.0142\n",
      "Training Accuracy: 0.9851, Testing Accuracy: 0.9773\n",
      "\n"
     ]
    },
    {
     "data": {
      "text/plain": [
       "0.04604718901677299"
      ]
     },
     "execution_count": 20,
     "metadata": {},
     "output_type": "execute_result"
    }
   ],
   "source": [
    "print(\"====== Neural Network ======\")\n",
    "learner_nn.train_loop(dl)"
   ]
  },
  {
   "cell_type": "markdown",
   "id": "competent-suffering",
   "metadata": {
    "papermill": {
     "duration": 0.040763,
     "end_time": "2021-03-01T00:08:32.394300",
     "exception": false,
     "start_time": "2021-03-01T00:08:32.353537",
     "status": "completed"
    },
    "tags": []
   },
   "source": [
    "### Logistic Regression based Implementation."
   ]
  },
  {
   "cell_type": "code",
   "execution_count": 21,
   "id": "qualified-psychiatry",
   "metadata": {
    "execution": {
     "iopub.execute_input": "2021-03-01T00:08:32.489925Z",
     "iopub.status.busy": "2021-03-01T00:08:32.489312Z",
     "iopub.status.idle": "2021-03-01T00:08:32.503611Z",
     "shell.execute_reply": "2021-03-01T00:08:32.503128Z"
    },
    "papermill": {
     "duration": 0.060293,
     "end_time": "2021-03-01T00:08:32.503740",
     "exception": false,
     "start_time": "2021-03-01T00:08:32.443447",
     "status": "completed"
    },
    "tags": []
   },
   "outputs": [],
   "source": [
    "learner_lr = Learner(loss, model_lr, opt, config.num_epochs)\n",
    "acc_lr = ClfCallback(learner_lr, config.bs, training_xdata , testing_xdata, training_ydata, testing_ydata)\n",
    "learner_lr.set_callbacks([acc_lr])"
   ]
  },
  {
   "cell_type": "code",
   "execution_count": 22,
   "id": "average-outside",
   "metadata": {
    "execution": {
     "iopub.execute_input": "2021-03-01T00:08:32.591707Z",
     "iopub.status.busy": "2021-03-01T00:08:32.591103Z",
     "iopub.status.idle": "2021-03-01T00:08:47.929841Z",
     "shell.execute_reply": "2021-03-01T00:08:47.930592Z"
    },
    "papermill": {
     "duration": 15.385807,
     "end_time": "2021-03-01T00:08:47.930746",
     "exception": false,
     "start_time": "2021-03-01T00:08:32.544939",
     "status": "completed"
    },
    "tags": []
   },
   "outputs": [
    {
     "name": "stdout",
     "output_type": "stream",
     "text": [
      "====== Logistic Regression ======\n",
      "Epoch 0, Loss 0.2406\n",
      "Training Accuracy: 0.6957, Testing Accuracy: 0.6890\n",
      "\n"
     ]
    },
    {
     "name": "stdout",
     "output_type": "stream",
     "text": [
      "Epoch 10, Loss 0.1022\n",
      "Training Accuracy: 0.9150, Testing Accuracy: 0.9234\n",
      "\n"
     ]
    },
    {
     "name": "stdout",
     "output_type": "stream",
     "text": [
      "Epoch 20, Loss 0.0786\n",
      "Training Accuracy: 0.9294, Testing Accuracy: 0.9370\n",
      "\n"
     ]
    },
    {
     "name": "stdout",
     "output_type": "stream",
     "text": [
      "Epoch 30, Loss 0.0679\n",
      "Training Accuracy: 0.9357, Testing Accuracy: 0.9456\n",
      "\n"
     ]
    },
    {
     "name": "stdout",
     "output_type": "stream",
     "text": [
      "Epoch 40, Loss 0.0615\n",
      "Training Accuracy: 0.9413, Testing Accuracy: 0.9511\n",
      "\n"
     ]
    },
    {
     "name": "stdout",
     "output_type": "stream",
     "text": [
      "Epoch 50, Loss 0.0571\n",
      "Training Accuracy: 0.9449, Testing Accuracy: 0.9556\n",
      "\n"
     ]
    },
    {
     "name": "stdout",
     "output_type": "stream",
     "text": [
      "Epoch 60, Loss 0.0538\n",
      "Training Accuracy: 0.9473, Testing Accuracy: 0.9572\n",
      "\n"
     ]
    },
    {
     "name": "stdout",
     "output_type": "stream",
     "text": [
      "Epoch 70, Loss 0.0513\n",
      "Training Accuracy: 0.9486, Testing Accuracy: 0.9582\n",
      "\n"
     ]
    },
    {
     "name": "stdout",
     "output_type": "stream",
     "text": [
      "Epoch 80, Loss 0.0493\n",
      "Training Accuracy: 0.9507, Testing Accuracy: 0.9592\n",
      "\n"
     ]
    },
    {
     "name": "stdout",
     "output_type": "stream",
     "text": [
      "Epoch 90, Loss 0.0477\n",
      "Training Accuracy: 0.9521, Testing Accuracy: 0.9607\n",
      "\n"
     ]
    },
    {
     "name": "stdout",
     "output_type": "stream",
     "text": [
      "Epoch 100, Loss 0.0463\n",
      "Training Accuracy: 0.9537, Testing Accuracy: 0.9602\n",
      "\n"
     ]
    },
    {
     "name": "stdout",
     "output_type": "stream",
     "text": [
      "Epoch 110, Loss 0.0451\n",
      "Training Accuracy: 0.9543, Testing Accuracy: 0.9607\n",
      "\n"
     ]
    },
    {
     "name": "stdout",
     "output_type": "stream",
     "text": [
      "Epoch 120, Loss 0.044\n",
      "Training Accuracy: 0.9549, Testing Accuracy: 0.9617\n",
      "\n"
     ]
    },
    {
     "name": "stdout",
     "output_type": "stream",
     "text": [
      "Epoch 130, Loss 0.0431\n",
      "Training Accuracy: 0.9555, Testing Accuracy: 0.9622\n",
      "\n"
     ]
    },
    {
     "name": "stdout",
     "output_type": "stream",
     "text": [
      "Epoch 140, Loss 0.0422\n",
      "Training Accuracy: 0.9563, Testing Accuracy: 0.9622\n",
      "\n"
     ]
    },
    {
     "name": "stdout",
     "output_type": "stream",
     "text": [
      "Epoch 150, Loss 0.0415\n",
      "Training Accuracy: 0.9566, Testing Accuracy: 0.9637\n",
      "\n"
     ]
    },
    {
     "name": "stdout",
     "output_type": "stream",
     "text": [
      "Epoch 160, Loss 0.0408\n",
      "Training Accuracy: 0.9571, Testing Accuracy: 0.9642\n",
      "\n"
     ]
    },
    {
     "name": "stdout",
     "output_type": "stream",
     "text": [
      "Epoch 170, Loss 0.0402\n",
      "Training Accuracy: 0.9574, Testing Accuracy: 0.9647\n",
      "\n"
     ]
    },
    {
     "name": "stdout",
     "output_type": "stream",
     "text": [
      "Epoch 180, Loss 0.0397\n",
      "Training Accuracy: 0.9582, Testing Accuracy: 0.9642\n",
      "\n"
     ]
    },
    {
     "name": "stdout",
     "output_type": "stream",
     "text": [
      "Epoch 190, Loss 0.0391\n",
      "Training Accuracy: 0.9586, Testing Accuracy: 0.9647\n",
      "\n"
     ]
    },
    {
     "name": "stdout",
     "output_type": "stream",
     "text": [
      "Epoch 200, Loss 0.0387\n",
      "Training Accuracy: 0.9590, Testing Accuracy: 0.9652\n",
      "\n"
     ]
    },
    {
     "name": "stdout",
     "output_type": "stream",
     "text": [
      "Epoch 210, Loss 0.0382\n",
      "Training Accuracy: 0.9595, Testing Accuracy: 0.9652\n",
      "\n"
     ]
    },
    {
     "name": "stdout",
     "output_type": "stream",
     "text": [
      "Epoch 220, Loss 0.0378\n",
      "Training Accuracy: 0.9601, Testing Accuracy: 0.9657\n",
      "\n"
     ]
    },
    {
     "name": "stdout",
     "output_type": "stream",
     "text": [
      "Epoch 230, Loss 0.0374\n",
      "Training Accuracy: 0.9606, Testing Accuracy: 0.9662\n",
      "\n"
     ]
    },
    {
     "name": "stdout",
     "output_type": "stream",
     "text": [
      "Epoch 240, Loss 0.037\n",
      "Training Accuracy: 0.9607, Testing Accuracy: 0.9667\n",
      "\n"
     ]
    },
    {
     "name": "stdout",
     "output_type": "stream",
     "text": [
      "Epoch 250, Loss 0.0367\n",
      "Training Accuracy: 0.9611, Testing Accuracy: 0.9662\n",
      "\n"
     ]
    },
    {
     "data": {
      "text/plain": [
       "0.011953205664243342"
      ]
     },
     "execution_count": 22,
     "metadata": {},
     "output_type": "execute_result"
    }
   ],
   "source": [
    "print(\"====== Logistic Regression ======\")\n",
    "learner_lr.train_loop(dl)"
   ]
  },
  {
   "cell_type": "markdown",
   "id": "adjusted-possible",
   "metadata": {
    "papermill": {
     "duration": 0.048398,
     "end_time": "2021-03-01T00:08:48.027977",
     "exception": false,
     "start_time": "2021-03-01T00:08:47.979579",
     "status": "completed"
    },
    "tags": []
   },
   "source": [
    "### Comparing results of NN and LR"
   ]
  },
  {
   "cell_type": "code",
   "execution_count": 23,
   "id": "mental-multimedia",
   "metadata": {
    "execution": {
     "iopub.execute_input": "2021-03-01T00:08:48.130666Z",
     "iopub.status.busy": "2021-03-01T00:08:48.130050Z",
     "iopub.status.idle": "2021-03-01T00:08:48.371121Z",
     "shell.execute_reply": "2021-03-01T00:08:48.370606Z"
    },
    "papermill": {
     "duration": 0.29455,
     "end_time": "2021-03-01T00:08:48.371247",
     "exception": false,
     "start_time": "2021-03-01T00:08:48.076697",
     "status": "completed"
    },
    "tags": []
   },
   "outputs": [
    {
     "data": {
      "text/plain": [
       "<matplotlib.legend.Legend at 0x7f2231988160>"
      ]
     },
     "execution_count": 23,
     "metadata": {},
     "output_type": "execute_result"
    },
    {
     "data": {
      "image/png": "[encoded data removed]",
      "text/plain": [
       "<Figure size 1080x720 with 1 Axes>"
      ]
     },
     "metadata": {
      "needs_background": "light"
     },
     "output_type": "display_data"
    }
   ],
   "source": [
    "plt.figure(figsize=(15,10))\n",
    "\n",
    "# Neural Network plots\n",
    "plt.plot(acc_nn.accuracies, 'r-', label = \"Training Accuracies - NN\")\n",
    "plt.plot(acc_nn.test_accuracies, 'g-', label = \"Testing Accuracies - NN\")\n",
    "\n",
    "# Logistic Regression plots\n",
    "plt.plot(acc_lr.accuracies, 'k-', label = \"Training Accuracies - LR\")\n",
    "plt.plot(acc_lr.test_accuracies, 'b-', label = \"Testing Accuracies - LR\")\n",
    "\n",
    "plt.ylim(0.8, 1)\n",
    "\n",
    "plt.legend()\n",
    "\n"
   ]
  },
  {
   "cell_type": "markdown",
   "id": "sexual-flesh",
   "metadata": {
    "papermill": {
     "duration": 0.049992,
     "end_time": "2021-03-01T00:08:48.471850",
     "exception": false,
     "start_time": "2021-03-01T00:08:48.421858",
     "status": "completed"
    },
    "tags": []
   },
   "source": [
    "### From the plot, we can observe the following:\n",
    "- Neural Network achieves higher accuracy than the Logistic Regression model.\n",
    "- This apparently, is because of overfitting, i.e. NN captures more noise than data.\n",
    "- Testing accuracy of NN drops below the Training accuracy at higher epochs. This explains the over-fitting on training data.\n",
    "- Logistic Regression gives a reliable accuracy, without the above mentioned problem.\n"
   ]
  },
  {
   "cell_type": "markdown",
   "id": "institutional-pacific",
   "metadata": {
    "papermill": {
     "duration": 0.050135,
     "end_time": "2021-03-01T00:08:48.572320",
     "exception": false,
     "start_time": "2021-03-01T00:08:48.522185",
     "status": "completed"
    },
    "tags": []
   },
   "source": [
    "### Moving till the last but one layer (excluding it).\n",
    "#### Plotting the outputs of this layer of the NN."
   ]
  },
  {
   "cell_type": "code",
   "execution_count": 24,
   "id": "economic-server",
   "metadata": {
    "execution": {
     "iopub.execute_input": "2021-03-01T00:08:48.677631Z",
     "iopub.status.busy": "2021-03-01T00:08:48.677040Z",
     "iopub.status.idle": "2021-03-01T00:08:48.689601Z",
     "shell.execute_reply": "2021-03-01T00:08:48.690079Z"
    },
    "papermill": {
     "duration": 0.067811,
     "end_time": "2021-03-01T00:08:48.690225",
     "exception": false,
     "start_time": "2021-03-01T00:08:48.622414",
     "status": "completed"
    },
    "tags": []
   },
   "outputs": [],
   "source": [
    "model_new = Model(layers[:-2])"
   ]
  },
  {
   "cell_type": "code",
   "execution_count": 25,
   "id": "varied-upgrade",
   "metadata": {
    "execution": {
     "iopub.execute_input": "2021-03-01T00:08:48.795652Z",
     "iopub.status.busy": "2021-03-01T00:08:48.795069Z",
     "iopub.status.idle": "2021-03-01T00:08:48.816868Z",
     "shell.execute_reply": "2021-03-01T00:08:48.817577Z"
    },
    "papermill": {
     "duration": 0.076911,
     "end_time": "2021-03-01T00:08:48.817727",
     "exception": false,
     "start_time": "2021-03-01T00:08:48.740816",
     "status": "completed"
    },
    "tags": []
   },
   "outputs": [],
   "source": [
    "plot_testing = model_new(testing_xdata)"
   ]
  },
  {
   "cell_type": "code",
   "execution_count": 26,
   "id": "specific-handling",
   "metadata": {
    "execution": {
     "iopub.execute_input": "2021-03-01T00:08:48.922406Z",
     "iopub.status.busy": "2021-03-01T00:08:48.921831Z",
     "iopub.status.idle": "2021-03-01T00:08:49.129895Z",
     "shell.execute_reply": "2021-03-01T00:08:49.130373Z"
    },
    "papermill": {
     "duration": 0.262597,
     "end_time": "2021-03-01T00:08:49.130524",
     "exception": false,
     "start_time": "2021-03-01T00:08:48.867927",
     "status": "completed"
    },
    "tags": []
   },
   "outputs": [
    {
     "data": {
      "text/plain": [
       "Text(0.5, 1.0, 'Outputs')"
      ]
     },
     "execution_count": 26,
     "metadata": {},
     "output_type": "execute_result"
    },
    {
     "data": {
      "image/png": "[encoded data removed]",
      "text/plain": [
       "<Figure size 576x504 with 1 Axes>"
      ]
     },
     "metadata": {
      "needs_background": "light"
     },
     "output_type": "display_data"
    }
   ],
   "source": [
    "plt.figure(figsize=(8,7))\n",
    "plt.scatter(plot_testing[:,0], plot_testing[:,1], alpha = 0.1, c = y_test.ravel());\n",
    "plt.title('Outputs')"
   ]
  },
  {
   "cell_type": "markdown",
   "id": "described-knowing",
   "metadata": {
    "papermill": {
     "duration": 0.050981,
     "end_time": "2021-03-01T00:08:49.232657",
     "exception": false,
     "start_time": "2021-03-01T00:08:49.181676",
     "status": "completed"
    },
    "tags": []
   },
   "source": [
    "### Plotting probability contours"
   ]
  },
  {
   "cell_type": "code",
   "execution_count": 27,
   "id": "needed-growing",
   "metadata": {
    "execution": {
     "iopub.execute_input": "2021-03-01T00:08:49.340840Z",
     "iopub.status.busy": "2021-03-01T00:08:49.340290Z",
     "iopub.status.idle": "2021-03-01T00:08:49.355415Z",
     "shell.execute_reply": "2021-03-01T00:08:49.354973Z"
    },
    "papermill": {
     "duration": 0.072023,
     "end_time": "2021-03-01T00:08:49.355527",
     "exception": false,
     "start_time": "2021-03-01T00:08:49.283504",
     "status": "completed"
    },
    "tags": []
   },
   "outputs": [],
   "source": [
    "model_prob = Model(layers[-2:]) "
   ]
  },
  {
   "cell_type": "code",
   "execution_count": 28,
   "id": "introductory-enforcement",
   "metadata": {
    "execution": {
     "iopub.execute_input": "2021-03-01T00:08:49.463909Z",
     "iopub.status.busy": "2021-03-01T00:08:49.463326Z",
     "iopub.status.idle": "2021-03-01T00:08:49.477989Z",
     "shell.execute_reply": "2021-03-01T00:08:49.478431Z"
    },
    "papermill": {
     "duration": 0.073041,
     "end_time": "2021-03-01T00:08:49.478569",
     "exception": false,
     "start_time": "2021-03-01T00:08:49.405528",
     "status": "completed"
    },
    "tags": []
   },
   "outputs": [],
   "source": [
    "# Adjust the x and y ranges according to the above generated plot.\n",
    "x_range = np.linspace(-4, 1, 100) \n",
    "y_range = np.linspace(-6, 6, 100) \n",
    "x_grid, y_grid = np.meshgrid(x_range, y_range) # x_grid and y_grig are of size 100 X 100\n",
    "\n",
    "# converting x_grid and y_grid to continuous arrays\n",
    "x_grid_flat = np.ravel(x_grid)\n",
    "y_grid_flat = np.ravel(y_grid)\n",
    "\n",
    "# The last layer of the current model takes two columns as input. Hence transpose of np.vstack() is required.\n",
    "X = np.vstack((x_grid_flat, y_grid_flat)).T\n",
    "\n",
    "# x_grid and y_grid are of size 100 x 100\n",
    "probability_contour = model_prob(X).reshape(100,100) "
   ]
  },
  {
   "cell_type": "code",
   "execution_count": 29,
   "id": "understood-landing",
   "metadata": {
    "execution": {
     "iopub.execute_input": "2021-03-01T00:08:49.617607Z",
     "iopub.status.busy": "2021-03-01T00:08:49.617015Z",
     "iopub.status.idle": "2021-03-01T00:08:49.858879Z",
     "shell.execute_reply": "2021-03-01T00:08:49.859333Z"
    },
    "papermill": {
     "duration": 0.301121,
     "end_time": "2021-03-01T00:08:49.859484",
     "exception": false,
     "start_time": "2021-03-01T00:08:49.558363",
     "status": "completed"
    },
    "tags": []
   },
   "outputs": [
    {
     "data": {
      "image/png": "[encoded data removed]",
      "text/plain": [
       "<Figure size 720x648 with 1 Axes>"
      ]
     },
     "metadata": {
      "needs_background": "light"
     },
     "output_type": "display_data"
    }
   ],
   "source": [
    "plt.figure(figsize=(10,9))\n",
    "plt.scatter(plot_testing[:,0], plot_testing[:,1], alpha = 0.1, c = y_test.ravel())\n",
    "contours = plt.contour(x_grid,y_grid,probability_contour)\n",
    "plt.title('Probability Contours')\n",
    "plt.clabel(contours, inline = True );"
   ]
  }
 ],
 "metadata": {
  "kernelspec": {
   "display_name": "Python 3",
   "language": "python",
   "name": "python3"
  },
  "language_info": {
   "codemirror_mode": {
    "name": "ipython",
    "version": 3
   },
   "file_extension": ".py",
   "mimetype": "text/x-python",
   "name": "python",
   "nbconvert_exporter": "python",
   "pygments_lexer": "ipython3",
   "version": "3.6.13"
  },
  "papermill": {
   "duration": 112.344713,
   "end_time": "2021-03-01T00:08:51.231317",
   "environment_variables": {},
   "exception": null,
   "input_path": "2020-08-11-NeuralNetwork.ipynb",
   "output_path": "2020-08-11-NeuralNetwork.ipynb",
   "parameters": {},
   "start_time": "2021-03-01T00:06:58.886604",
   "version": "2.1.2"
  }
 },
 "nbformat": 4,
 "nbformat_minor": 5
}