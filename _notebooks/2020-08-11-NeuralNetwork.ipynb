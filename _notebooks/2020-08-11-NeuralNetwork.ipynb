{
 "cells": [
  {
   "cell_type": "markdown",
   "id": "fitted-suggestion",
   "metadata": {
    "papermill": {
     "duration": 0.034926,
     "end_time": "2021-05-04T10:04:42.036666",
     "exception": false,
     "start_time": "2021-05-04T10:04:42.001740",
     "status": "completed"
    },
    "tags": []
   },
   "source": [
    "# \"A Basic Neural Network: Differentiate Hand-Written Digits\"\n",
    "\n",
    "- badges: true\n",
    "- author: Akshith Sriram"
   ]
  },
  {
   "cell_type": "markdown",
   "id": "signal-flexibility",
   "metadata": {
    "papermill": {
     "duration": 0.027667,
     "end_time": "2021-05-04T10:04:42.096424",
     "exception": false,
     "start_time": "2021-05-04T10:04:42.068757",
     "status": "completed"
    },
    "tags": []
   },
   "source": [
    "### Key Objectives:\n",
    "- Building a neural network that differentiates two hand-written digits 3 and 8.\n",
    "- Comparing the results of this Neural Network (NN) to that of a Logistic Regression (LR) model.\n",
    "\n",
    "### Requirements:\n",
    "- 'Kudzu' : A neural network library that was designed during our course by [Univ.AI](www.univ.ai). \n",
    "- MNIST Database\n",
    "\n",
    "If MNIST is not installed, use the command `!pip install mnist` given below.\n",
    "It can be run both from the command line and Jupyter Notebook."
   ]
  },
  {
   "cell_type": "code",
   "execution_count": 1,
   "id": "british-texture",
   "metadata": {
    "execution": {
     "iopub.execute_input": "2021-05-04T10:04:42.161455Z",
     "iopub.status.busy": "2021-05-04T10:04:42.160906Z",
     "iopub.status.idle": "2021-05-04T10:04:43.772495Z",
     "shell.execute_reply": "2021-05-04T10:04:43.771996Z"
    },
    "papermill": {
     "duration": 1.648293,
     "end_time": "2021-05-04T10:04:43.772710",
     "exception": false,
     "start_time": "2021-05-04T10:04:42.124417",
     "status": "completed"
    },
    "tags": []
   },
   "outputs": [
    {
     "name": "stdout",
     "output_type": "stream",
     "text": [
      "\u001b[33mWARNING: Value for scheme.headers does not match. Please report this to <https://github.com/pypa/pip/issues/9617>\r\n",
      "distutils: /opt/hostedtoolcache/Python/3.6.13/x64/include/python3.6m/UNKNOWN\r\n",
      "sysconfig: /opt/hostedtoolcache/Python/3.6.13/x64/include/python3.6m\u001b[0m\r\n",
      "\u001b[33mWARNING: Additional context:\r\n",
      "user = False\r\n",
      "home = None\r\n",
      "root = None\r\n",
      "prefix = None\u001b[0m\r\n"
     ]
    },
    {
     "name": "stdout",
     "output_type": "stream",
     "text": [
      "Collecting mnist\r\n"
     ]
    },
    {
     "name": "stdout",
     "output_type": "stream",
     "text": [
      "  Downloading mnist-0.2.2-py2.py3-none-any.whl (3.5 kB)\r\n",
      "Requirement already satisfied: numpy in /opt/hostedtoolcache/Python/3.6.13/x64/lib/python3.6/site-packages (from mnist) (1.19.5)\r\n"
     ]
    },
    {
     "name": "stdout",
     "output_type": "stream",
     "text": [
      "Installing collected packages: mnist\r\n",
      "\u001b[33mWARNING: Value for scheme.headers does not match. Please report this to <https://github.com/pypa/pip/issues/9617>\r\n",
      "distutils: /opt/hostedtoolcache/Python/3.6.13/x64/include/python3.6m/UNKNOWN\r\n",
      "sysconfig: /opt/hostedtoolcache/Python/3.6.13/x64/include/python3.6m\u001b[0m\r\n",
      "\u001b[33mWARNING: Additional context:\r\n",
      "user = False\r\n",
      "home = None\r\n",
      "root = None\r\n",
      "prefix = None\u001b[0m\r\n"
     ]
    },
    {
     "name": "stdout",
     "output_type": "stream",
     "text": [
      "Successfully installed mnist-0.2.2\r\n",
      "\u001b[33mWARNING: You are using pip version 21.1; however, version 21.1.1 is available.\r\n",
      "You should consider upgrading via the '/opt/hostedtoolcache/Python/3.6.13/x64/bin/python -m pip install --upgrade pip' command.\u001b[0m\r\n"
     ]
    }
   ],
   "source": [
    "!pip install mnist "
   ]
  },
  {
   "cell_type": "markdown",
   "id": "stunning-extra",
   "metadata": {
    "papermill": {
     "duration": 0.028821,
     "end_time": "2021-05-04T10:04:43.832728",
     "exception": false,
     "start_time": "2021-05-04T10:04:43.803907",
     "status": "completed"
    },
    "tags": []
   },
   "source": [
    "#### Importing necessary libraries"
   ]
  },
  {
   "cell_type": "code",
   "execution_count": 2,
   "id": "wooden-france",
   "metadata": {
    "execution": {
     "iopub.execute_input": "2021-05-04T10:04:43.904045Z",
     "iopub.status.busy": "2021-05-04T10:04:43.903505Z",
     "iopub.status.idle": "2021-05-04T10:04:44.384794Z",
     "shell.execute_reply": "2021-05-04T10:04:44.384304Z"
    },
    "papermill": {
     "duration": 0.520796,
     "end_time": "2021-05-04T10:04:44.385094",
     "exception": false,
     "start_time": "2021-05-04T10:04:43.864298",
     "status": "completed"
    },
    "tags": []
   },
   "outputs": [],
   "source": [
    "%load_ext autoreload\n",
    "%autoreload 2\n",
    "\n",
    "%matplotlib inline\n",
    "import matplotlib.pyplot as plt\n",
    "\n",
    "import numpy as np\n",
    "import pandas as pd"
   ]
  },
  {
   "cell_type": "markdown",
   "id": "stunning-physics",
   "metadata": {
    "papermill": {
     "duration": 0.030991,
     "end_time": "2021-05-04T10:04:44.444813",
     "exception": false,
     "start_time": "2021-05-04T10:04:44.413822",
     "status": "completed"
    },
    "tags": []
   },
   "source": [
    "### Preparing the Data"
   ]
  },
  {
   "cell_type": "code",
   "execution_count": 3,
   "id": "unauthorized-remainder",
   "metadata": {
    "execution": {
     "iopub.execute_input": "2021-05-04T10:04:44.516037Z",
     "iopub.status.busy": "2021-05-04T10:04:44.515242Z",
     "iopub.status.idle": "2021-05-04T10:04:44.521858Z",
     "shell.execute_reply": "2021-05-04T10:04:44.522351Z"
    },
    "papermill": {
     "duration": 0.049198,
     "end_time": "2021-05-04T10:04:44.522516",
     "exception": false,
     "start_time": "2021-05-04T10:04:44.473318",
     "status": "completed"
    },
    "tags": []
   },
   "outputs": [],
   "source": [
    "import mnist"
   ]
  },
  {
   "cell_type": "code",
   "execution_count": 4,
   "id": "correct-antarctica",
   "metadata": {
    "execution": {
     "iopub.execute_input": "2021-05-04T10:04:44.598415Z",
     "iopub.status.busy": "2021-05-04T10:04:44.589269Z",
     "iopub.status.idle": "2021-05-04T10:09:41.217900Z",
     "shell.execute_reply": "2021-05-04T10:09:41.217414Z"
    },
    "papermill": {
     "duration": 296.667056,
     "end_time": "2021-05-04T10:09:41.218030",
     "exception": false,
     "start_time": "2021-05-04T10:04:44.550974",
     "status": "completed"
    },
    "tags": []
   },
   "outputs": [],
   "source": [
    "train_images = mnist.train_images()\n",
    "train_labels = mnist.train_labels()"
   ]
  },
  {
   "cell_type": "code",
   "execution_count": 5,
   "id": "musical-prospect",
   "metadata": {
    "execution": {
     "iopub.execute_input": "2021-05-04T10:09:41.299311Z",
     "iopub.status.busy": "2021-05-04T10:09:41.298714Z",
     "iopub.status.idle": "2021-05-04T10:09:41.313753Z",
     "shell.execute_reply": "2021-05-04T10:09:41.314447Z"
    },
    "papermill": {
     "duration": 0.060939,
     "end_time": "2021-05-04T10:09:41.314657",
     "exception": false,
     "start_time": "2021-05-04T10:09:41.253718",
     "status": "completed"
    },
    "tags": []
   },
   "outputs": [
    {
     "data": {
      "text/plain": [
       "((60000, 28, 28), (60000,))"
      ]
     },
     "execution_count": 5,
     "metadata": {},
     "output_type": "execute_result"
    }
   ],
   "source": [
    "train_images.shape, train_labels.shape"
   ]
  },
  {
   "cell_type": "code",
   "execution_count": 6,
   "id": "preliminary-elizabeth",
   "metadata": {
    "execution": {
     "iopub.execute_input": "2021-05-04T10:09:41.385847Z",
     "iopub.status.busy": "2021-05-04T10:09:41.385289Z",
     "iopub.status.idle": "2021-05-04T10:10:31.276885Z",
     "shell.execute_reply": "2021-05-04T10:10:31.277481Z"
    },
    "papermill": {
     "duration": 49.932863,
     "end_time": "2021-05-04T10:10:31.277628",
     "exception": false,
     "start_time": "2021-05-04T10:09:41.344765",
     "status": "completed"
    },
    "tags": []
   },
   "outputs": [],
   "source": [
    "test_images = mnist.test_images()\n",
    "test_labels = mnist.test_labels()"
   ]
  },
  {
   "cell_type": "code",
   "execution_count": 7,
   "id": "acknowledged-oxygen",
   "metadata": {
    "execution": {
     "iopub.execute_input": "2021-05-04T10:10:31.341581Z",
     "iopub.status.busy": "2021-05-04T10:10:31.341036Z",
     "iopub.status.idle": "2021-05-04T10:10:31.353334Z",
     "shell.execute_reply": "2021-05-04T10:10:31.353874Z"
    },
    "papermill": {
     "duration": 0.047637,
     "end_time": "2021-05-04T10:10:31.354001",
     "exception": false,
     "start_time": "2021-05-04T10:10:31.306364",
     "status": "completed"
    },
    "tags": []
   },
   "outputs": [
    {
     "data": {
      "text/plain": [
       "((10000, 28, 28), (10000,))"
      ]
     },
     "execution_count": 7,
     "metadata": {},
     "output_type": "execute_result"
    }
   ],
   "source": [
    "test_images.shape, test_labels.shape"
   ]
  },
  {
   "cell_type": "code",
   "execution_count": 8,
   "id": "innovative-organic",
   "metadata": {
    "execution": {
     "iopub.execute_input": "2021-05-04T10:10:31.415610Z",
     "iopub.status.busy": "2021-05-04T10:10:31.415080Z",
     "iopub.status.idle": "2021-05-04T10:10:31.584431Z",
     "shell.execute_reply": "2021-05-04T10:10:31.585051Z"
    },
    "papermill": {
     "duration": 0.202248,
     "end_time": "2021-05-04T10:10:31.585222",
     "exception": false,
     "start_time": "2021-05-04T10:10:31.382974",
     "status": "completed"
    },
    "tags": []
   },
   "outputs": [
    {
     "name": "stdout",
     "output_type": "stream",
     "text": [
      "2\n"
     ]
    },
    {
     "data": {
      "text/plain": [
       "<matplotlib.image.AxesImage at 0x7f29cb6e9320>"
      ]
     },
     "execution_count": 8,
     "metadata": {},
     "output_type": "execute_result"
    },
    {
     "data": {
      "image/png": "[encoded data removed]",
      "text/plain": [
       "<Figure size 432x288 with 1 Axes>"
      ]
     },
     "metadata": {
      "needs_background": "light"
     },
     "output_type": "display_data"
    }
   ],
   "source": [
    "image_index = 7776 # You may select anything up to 60,000\n",
    "print(train_labels[image_index]) \n",
    "plt.imshow(train_images[image_index], cmap='Greys')"
   ]
  },
  {
   "cell_type": "markdown",
   "id": "facial-modem",
   "metadata": {
    "papermill": {
     "duration": 0.031664,
     "end_time": "2021-05-04T10:10:31.648756",
     "exception": false,
     "start_time": "2021-05-04T10:10:31.617092",
     "status": "completed"
    },
    "tags": []
   },
   "source": [
    "## Filter data to get 3 and 8 out"
   ]
  },
  {
   "cell_type": "code",
   "execution_count": 9,
   "id": "thousand-acquisition",
   "metadata": {
    "execution": {
     "iopub.execute_input": "2021-05-04T10:10:31.717595Z",
     "iopub.status.busy": "2021-05-04T10:10:31.717038Z",
     "iopub.status.idle": "2021-05-04T10:10:31.733830Z",
     "shell.execute_reply": "2021-05-04T10:10:31.734296Z"
    },
    "papermill": {
     "duration": 0.05478,
     "end_time": "2021-05-04T10:10:31.734445",
     "exception": false,
     "start_time": "2021-05-04T10:10:31.679665",
     "status": "completed"
    },
    "tags": []
   },
   "outputs": [],
   "source": [
    "train_filter = np.where((train_labels == 3 ) | (train_labels == 8))\n",
    "test_filter = np.where((test_labels == 3) | (test_labels == 8))\n",
    "X_train, y_train = train_images[train_filter], train_labels[train_filter]\n",
    "X_test, y_test = test_images[test_filter], test_labels[test_filter]"
   ]
  },
  {
   "cell_type": "markdown",
   "id": "ruled-access",
   "metadata": {
    "papermill": {
     "duration": 0.032804,
     "end_time": "2021-05-04T10:10:31.799415",
     "exception": false,
     "start_time": "2021-05-04T10:10:31.766611",
     "status": "completed"
    },
    "tags": []
   },
   "source": [
    "We normalize the pixel values in the 0 to 1 range"
   ]
  },
  {
   "cell_type": "code",
   "execution_count": 10,
   "id": "isolated-denver",
   "metadata": {
    "execution": {
     "iopub.execute_input": "2021-05-04T10:10:31.884310Z",
     "iopub.status.busy": "2021-05-04T10:10:31.883744Z",
     "iopub.status.idle": "2021-05-04T10:10:31.936145Z",
     "shell.execute_reply": "2021-05-04T10:10:31.935585Z"
    },
    "papermill": {
     "duration": 0.103146,
     "end_time": "2021-05-04T10:10:31.936313",
     "exception": false,
     "start_time": "2021-05-04T10:10:31.833167",
     "status": "completed"
    },
    "tags": []
   },
   "outputs": [],
   "source": [
    "X_train = X_train/255.\n",
    "X_test = X_test/255."
   ]
  },
  {
   "cell_type": "markdown",
   "id": "perfect-summary",
   "metadata": {
    "papermill": {
     "duration": 0.03199,
     "end_time": "2021-05-04T10:10:32.002051",
     "exception": false,
     "start_time": "2021-05-04T10:10:31.970061",
     "status": "completed"
    },
    "tags": []
   },
   "source": [
    "Setup the labels as 1 (when the digit is 3) and 0 (when the digit is 8)"
   ]
  },
  {
   "cell_type": "code",
   "execution_count": 11,
   "id": "personalized-growing",
   "metadata": {
    "execution": {
     "iopub.execute_input": "2021-05-04T10:10:32.074462Z",
     "iopub.status.busy": "2021-05-04T10:10:32.073805Z",
     "iopub.status.idle": "2021-05-04T10:10:32.084765Z",
     "shell.execute_reply": "2021-05-04T10:10:32.084235Z"
    },
    "papermill": {
     "duration": 0.05169,
     "end_time": "2021-05-04T10:10:32.084886",
     "exception": false,
     "start_time": "2021-05-04T10:10:32.033196",
     "status": "completed"
    },
    "tags": []
   },
   "outputs": [],
   "source": [
    "y_train = 1*(y_train==3)\n",
    "y_test = 1*(y_test==3)"
   ]
  },
  {
   "cell_type": "code",
   "execution_count": 12,
   "id": "considered-virgin",
   "metadata": {
    "execution": {
     "iopub.execute_input": "2021-05-04T10:10:32.158614Z",
     "iopub.status.busy": "2021-05-04T10:10:32.158063Z",
     "iopub.status.idle": "2021-05-04T10:10:32.167961Z",
     "shell.execute_reply": "2021-05-04T10:10:32.168407Z"
    },
    "papermill": {
     "duration": 0.051672,
     "end_time": "2021-05-04T10:10:32.168536",
     "exception": false,
     "start_time": "2021-05-04T10:10:32.116864",
     "status": "completed"
    },
    "tags": []
   },
   "outputs": [
    {
     "data": {
      "text/plain": [
       "((11982, 28, 28), (1984, 28, 28))"
      ]
     },
     "execution_count": 12,
     "metadata": {},
     "output_type": "execute_result"
    }
   ],
   "source": [
    "X_train.shape, X_test.shape"
   ]
  },
  {
   "cell_type": "markdown",
   "id": "civilian-mobile",
   "metadata": {
    "papermill": {
     "duration": 0.030979,
     "end_time": "2021-05-04T10:10:32.231260",
     "exception": false,
     "start_time": "2021-05-04T10:10:32.200281",
     "status": "completed"
    },
    "tags": []
   },
   "source": [
    "### Reshape the input data to create a linear array"
   ]
  },
  {
   "cell_type": "code",
   "execution_count": 13,
   "id": "colonial-adams",
   "metadata": {
    "execution": {
     "iopub.execute_input": "2021-05-04T10:10:32.301131Z",
     "iopub.status.busy": "2021-05-04T10:10:32.300437Z",
     "iopub.status.idle": "2021-05-04T10:10:32.312354Z",
     "shell.execute_reply": "2021-05-04T10:10:32.312876Z"
    },
    "papermill": {
     "duration": 0.050228,
     "end_time": "2021-05-04T10:10:32.313021",
     "exception": false,
     "start_time": "2021-05-04T10:10:32.262793",
     "status": "completed"
    },
    "tags": []
   },
   "outputs": [
    {
     "data": {
      "text/plain": [
       "((11982, 784), (1984, 784))"
      ]
     },
     "execution_count": 13,
     "metadata": {},
     "output_type": "execute_result"
    }
   ],
   "source": [
    "X_train = X_train.reshape(X_train.shape[0], -1)\n",
    "X_test = X_test.reshape(X_test.shape[0], -1)\n",
    "X_train.shape, X_test.shape"
   ]
  },
  {
   "cell_type": "markdown",
   "id": "smart-details",
   "metadata": {
    "papermill": {
     "duration": 0.03124,
     "end_time": "2021-05-04T10:10:32.375478",
     "exception": false,
     "start_time": "2021-05-04T10:10:32.344238",
     "status": "completed"
    },
    "tags": []
   },
   "source": [
    "### Importing appropriate functions from 'Kudzu'"
   ]
  },
  {
   "cell_type": "code",
   "execution_count": 14,
   "id": "celtic-trial",
   "metadata": {
    "execution": {
     "iopub.execute_input": "2021-05-04T10:10:32.443445Z",
     "iopub.status.busy": "2021-05-04T10:10:32.442892Z",
     "iopub.status.idle": "2021-05-04T10:10:32.461186Z",
     "shell.execute_reply": "2021-05-04T10:10:32.460728Z"
    },
    "papermill": {
     "duration": 0.054024,
     "end_time": "2021-05-04T10:10:32.461301",
     "exception": false,
     "start_time": "2021-05-04T10:10:32.407277",
     "status": "completed"
    },
    "tags": []
   },
   "outputs": [],
   "source": [
    "from kudzu.layer import Sigmoid\n",
    "from kudzu.layer import Relu\n",
    "from kudzu.layer import Affine, Sigmoid\n",
    "\n",
    "from kudzu.model import Model\n",
    "from kudzu.train import Learner\n",
    "from kudzu.optim import GD\n",
    "from kudzu.data import Data, Dataloader, Sampler\n",
    "\n",
    "from kudzu.callbacks import AccCallback\n",
    "from kudzu.callbacks import ClfCallback\n",
    "\n",
    "from kudzu.loss import MSE"
   ]
  },
  {
   "cell_type": "markdown",
   "id": "coupled-customer",
   "metadata": {
    "papermill": {
     "duration": 0.031975,
     "end_time": "2021-05-04T10:10:32.525231",
     "exception": false,
     "start_time": "2021-05-04T10:10:32.493256",
     "status": "completed"
    },
    "tags": []
   },
   "source": [
    "### Let us create a `Config` class, to store important parameters. \n",
    "This class essentially plays the role of a dictionary."
   ]
  },
  {
   "cell_type": "code",
   "execution_count": 15,
   "id": "young-ceiling",
   "metadata": {
    "execution": {
     "iopub.execute_input": "2021-05-04T10:10:32.596924Z",
     "iopub.status.busy": "2021-05-04T10:10:32.596349Z",
     "iopub.status.idle": "2021-05-04T10:10:32.606293Z",
     "shell.execute_reply": "2021-05-04T10:10:32.606821Z"
    },
    "papermill": {
     "duration": 0.047641,
     "end_time": "2021-05-04T10:10:32.606947",
     "exception": false,
     "start_time": "2021-05-04T10:10:32.559306",
     "status": "completed"
    },
    "tags": []
   },
   "outputs": [],
   "source": [
    "class Config:\n",
    "    pass\n",
    "config = Config()\n",
    "config.lr = 0.001\n",
    "config.num_epochs = 251\n",
    "config.bs = 50"
   ]
  },
  {
   "cell_type": "markdown",
   "id": "according-mandate",
   "metadata": {
    "papermill": {
     "duration": 0.034339,
     "end_time": "2021-05-04T10:10:32.673108",
     "exception": false,
     "start_time": "2021-05-04T10:10:32.638769",
     "status": "completed"
    },
    "tags": []
   },
   "source": [
    "### Initializing data to the variables"
   ]
  },
  {
   "cell_type": "code",
   "execution_count": 16,
   "id": "academic-disposition",
   "metadata": {
    "execution": {
     "iopub.execute_input": "2021-05-04T10:10:32.741139Z",
     "iopub.status.busy": "2021-05-04T10:10:32.740451Z",
     "iopub.status.idle": "2021-05-04T10:10:32.752470Z",
     "shell.execute_reply": "2021-05-04T10:10:32.753112Z"
    },
    "papermill": {
     "duration": 0.048907,
     "end_time": "2021-05-04T10:10:32.753246",
     "exception": false,
     "start_time": "2021-05-04T10:10:32.704339",
     "status": "completed"
    },
    "tags": []
   },
   "outputs": [],
   "source": [
    "data = Data(X_train, y_train.reshape(-1,1))\n",
    "sampler = Sampler(data, config.bs, shuffle=True)\n",
    "\n",
    "dl = Dataloader(data, sampler)\n",
    "\n",
    "opt = GD(config.lr)\n",
    "loss = MSE()"
   ]
  },
  {
   "cell_type": "code",
   "execution_count": 17,
   "id": "featured-commission",
   "metadata": {
    "execution": {
     "iopub.execute_input": "2021-05-04T10:10:32.831922Z",
     "iopub.status.busy": "2021-05-04T10:10:32.826512Z",
     "iopub.status.idle": "2021-05-04T10:10:32.834417Z",
     "shell.execute_reply": "2021-05-04T10:10:32.833985Z"
    },
    "papermill": {
     "duration": 0.048529,
     "end_time": "2021-05-04T10:10:32.834529",
     "exception": false,
     "start_time": "2021-05-04T10:10:32.786000",
     "status": "completed"
    },
    "tags": []
   },
   "outputs": [],
   "source": [
    "training_xdata = X_train\n",
    "testing_xdata = X_test\n",
    "training_ydata = y_train.reshape(-1,1)\n",
    "testing_ydata = y_test.reshape(-1,1)"
   ]
  },
  {
   "cell_type": "markdown",
   "id": "played-safety",
   "metadata": {
    "papermill": {
     "duration": 0.035469,
     "end_time": "2021-05-04T10:10:32.903090",
     "exception": false,
     "start_time": "2021-05-04T10:10:32.867621",
     "status": "completed"
    },
    "tags": []
   },
   "source": [
    "### Running Models with the Training data\n",
    "Details about the network layers:\n",
    "- A first affine layer has 784 inputs and does 100 affine transforms. These are followed by a Relu\n",
    "- A second affine layer has 100 inputs from the 100 activations of the past layer, and does 100 affine transforms. These are followed by a Relu\n",
    "- A third affine layer has 100 activations and does 2 affine transformations to create an embedding for visualization. There is no non-linearity here.\n",
    "- A final \"logistic regression\" which has an affine transform from 2 inputs to 1 output, which is squeezed through a sigmoid.\n",
    "\n",
    "Help taken from Anshuman's Notebook."
   ]
  },
  {
   "cell_type": "code",
   "execution_count": 18,
   "id": "asian-bankruptcy",
   "metadata": {
    "execution": {
     "iopub.execute_input": "2021-05-04T10:10:32.989298Z",
     "iopub.status.busy": "2021-05-04T10:10:32.988735Z",
     "iopub.status.idle": "2021-05-04T10:10:32.994205Z",
     "shell.execute_reply": "2021-05-04T10:10:32.994620Z"
    },
    "papermill": {
     "duration": 0.056087,
     "end_time": "2021-05-04T10:10:32.994752",
     "exception": false,
     "start_time": "2021-05-04T10:10:32.938665",
     "status": "completed"
    },
    "tags": []
   },
   "outputs": [],
   "source": [
    "# layers for the Neural Network\n",
    "layers = [Affine(\"first\", 784, 100), Relu(\"first\"), Affine(\"second\", 100, 100), Relu(\"second\"), Affine(\"third\", 100, 2), Affine(\"final\", 2, 1), Sigmoid(\"final\")]\n",
    "model_nn = Model(layers)\n",
    "\n",
    "# layers for the Logistic Regression\n",
    "layers_lr = [Affine(\"logits\", 784, 1), Sigmoid(\"sigmoid\")]\n",
    "model_lr = Model(layers_lr)"
   ]
  },
  {
   "cell_type": "code",
   "execution_count": 19,
   "id": "removed-butler",
   "metadata": {
    "execution": {
     "iopub.execute_input": "2021-05-04T10:10:33.070223Z",
     "iopub.status.busy": "2021-05-04T10:10:33.069687Z",
     "iopub.status.idle": "2021-05-04T10:10:33.080815Z",
     "shell.execute_reply": "2021-05-04T10:10:33.081242Z"
    },
    "papermill": {
     "duration": 0.049417,
     "end_time": "2021-05-04T10:10:33.081370",
     "exception": false,
     "start_time": "2021-05-04T10:10:33.031953",
     "status": "completed"
    },
    "tags": []
   },
   "outputs": [],
   "source": [
    "# suffix _nn stands for Neural Network.\n",
    "learner_nn = Learner(loss, model_nn, opt, config.num_epochs)\n",
    "acc_nn = ClfCallback(learner_nn, config.bs, training_xdata , testing_xdata, training_ydata, testing_ydata)\n",
    "learner_nn.set_callbacks([acc_nn])"
   ]
  },
  {
   "cell_type": "code",
   "execution_count": 20,
   "id": "conceptual-throw",
   "metadata": {
    "execution": {
     "iopub.execute_input": "2021-05-04T10:10:33.156226Z",
     "iopub.status.busy": "2021-05-04T10:10:33.155518Z",
     "iopub.status.idle": "2021-05-04T10:12:52.849405Z",
     "shell.execute_reply": "2021-05-04T10:12:52.850150Z"
    },
    "papermill": {
     "duration": 139.73456,
     "end_time": "2021-05-04T10:12:52.850318",
     "exception": false,
     "start_time": "2021-05-04T10:10:33.115758",
     "status": "completed"
    },
    "tags": []
   },
   "outputs": [
    {
     "name": "stdout",
     "output_type": "stream",
     "text": [
      "====== Neural Network ======\n"
     ]
    },
    {
     "name": "stdout",
     "output_type": "stream",
     "text": [
      "Epoch 0, Loss 0.2228\n",
      "Training Accuracy: 0.7671, Testing Accuracy: 0.7717\n",
      "\n"
     ]
    },
    {
     "name": "stdout",
     "output_type": "stream",
     "text": [
      "Epoch 10, Loss 0.0677\n",
      "Training Accuracy: 0.9349, Testing Accuracy: 0.9451\n",
      "\n"
     ]
    },
    {
     "name": "stdout",
     "output_type": "stream",
     "text": [
      "Epoch 20, Loss 0.0452\n",
      "Training Accuracy: 0.9534, Testing Accuracy: 0.9637\n",
      "\n"
     ]
    },
    {
     "name": "stdout",
     "output_type": "stream",
     "text": [
      "Epoch 30, Loss 0.0372\n",
      "Training Accuracy: 0.9607, Testing Accuracy: 0.9688\n",
      "\n"
     ]
    },
    {
     "name": "stdout",
     "output_type": "stream",
     "text": [
      "Epoch 40, Loss 0.0331\n",
      "Training Accuracy: 0.9641, Testing Accuracy: 0.9693\n",
      "\n"
     ]
    },
    {
     "name": "stdout",
     "output_type": "stream",
     "text": [
      "Epoch 50, Loss 0.0305\n",
      "Training Accuracy: 0.9666, Testing Accuracy: 0.9682\n",
      "\n"
     ]
    },
    {
     "name": "stdout",
     "output_type": "stream",
     "text": [
      "Epoch 60, Loss 0.0286\n",
      "Training Accuracy: 0.9692, Testing Accuracy: 0.9682\n",
      "\n"
     ]
    },
    {
     "name": "stdout",
     "output_type": "stream",
     "text": [
      "Epoch 70, Loss 0.0272\n",
      "Training Accuracy: 0.9706, Testing Accuracy: 0.9703\n",
      "\n"
     ]
    },
    {
     "name": "stdout",
     "output_type": "stream",
     "text": [
      "Epoch 80, Loss 0.0261\n",
      "Training Accuracy: 0.9715, Testing Accuracy: 0.9713\n",
      "\n"
     ]
    },
    {
     "name": "stdout",
     "output_type": "stream",
     "text": [
      "Epoch 90, Loss 0.0251\n",
      "Training Accuracy: 0.9730, Testing Accuracy: 0.9708\n",
      "\n"
     ]
    },
    {
     "name": "stdout",
     "output_type": "stream",
     "text": [
      "Epoch 100, Loss 0.0243\n",
      "Training Accuracy: 0.9739, Testing Accuracy: 0.9708\n",
      "\n"
     ]
    },
    {
     "name": "stdout",
     "output_type": "stream",
     "text": [
      "Epoch 110, Loss 0.0236\n",
      "Training Accuracy: 0.9748, Testing Accuracy: 0.9708\n",
      "\n"
     ]
    },
    {
     "name": "stdout",
     "output_type": "stream",
     "text": [
      "Epoch 120, Loss 0.0229\n",
      "Training Accuracy: 0.9755, Testing Accuracy: 0.9708\n",
      "\n"
     ]
    },
    {
     "name": "stdout",
     "output_type": "stream",
     "text": [
      "Epoch 130, Loss 0.0223\n",
      "Training Accuracy: 0.9760, Testing Accuracy: 0.9708\n",
      "\n"
     ]
    },
    {
     "name": "stdout",
     "output_type": "stream",
     "text": [
      "Epoch 140, Loss 0.0218\n",
      "Training Accuracy: 0.9765, Testing Accuracy: 0.9718\n",
      "\n"
     ]
    },
    {
     "name": "stdout",
     "output_type": "stream",
     "text": [
      "Epoch 150, Loss 0.0213\n",
      "Training Accuracy: 0.9771, Testing Accuracy: 0.9713\n",
      "\n"
     ]
    },
    {
     "name": "stdout",
     "output_type": "stream",
     "text": [
      "Epoch 160, Loss 0.0208\n",
      "Training Accuracy: 0.9776, Testing Accuracy: 0.9723\n",
      "\n"
     ]
    },
    {
     "name": "stdout",
     "output_type": "stream",
     "text": [
      "Epoch 170, Loss 0.0203\n",
      "Training Accuracy: 0.9779, Testing Accuracy: 0.9723\n",
      "\n"
     ]
    },
    {
     "name": "stdout",
     "output_type": "stream",
     "text": [
      "Epoch 180, Loss 0.0199\n",
      "Training Accuracy: 0.9784, Testing Accuracy: 0.9728\n",
      "\n"
     ]
    },
    {
     "name": "stdout",
     "output_type": "stream",
     "text": [
      "Epoch 190, Loss 0.0195\n",
      "Training Accuracy: 0.9789, Testing Accuracy: 0.9728\n",
      "\n"
     ]
    },
    {
     "name": "stdout",
     "output_type": "stream",
     "text": [
      "Epoch 200, Loss 0.0191\n",
      "Training Accuracy: 0.9793, Testing Accuracy: 0.9728\n",
      "\n"
     ]
    },
    {
     "name": "stdout",
     "output_type": "stream",
     "text": [
      "Epoch 210, Loss 0.0187\n",
      "Training Accuracy: 0.9800, Testing Accuracy: 0.9728\n",
      "\n"
     ]
    },
    {
     "name": "stdout",
     "output_type": "stream",
     "text": [
      "Epoch 220, Loss 0.0183\n",
      "Training Accuracy: 0.9801, Testing Accuracy: 0.9748\n",
      "\n"
     ]
    },
    {
     "name": "stdout",
     "output_type": "stream",
     "text": [
      "Epoch 230, Loss 0.018\n",
      "Training Accuracy: 0.9807, Testing Accuracy: 0.9748\n",
      "\n"
     ]
    },
    {
     "name": "stdout",
     "output_type": "stream",
     "text": [
      "Epoch 240, Loss 0.0176\n",
      "Training Accuracy: 0.9814, Testing Accuracy: 0.9758\n",
      "\n"
     ]
    },
    {
     "name": "stdout",
     "output_type": "stream",
     "text": [
      "Epoch 250, Loss 0.0173\n",
      "Training Accuracy: 0.9816, Testing Accuracy: 0.9753\n",
      "\n"
     ]
    },
    {
     "data": {
      "text/plain": [
       "0.01771256462964893"
      ]
     },
     "execution_count": 20,
     "metadata": {},
     "output_type": "execute_result"
    }
   ],
   "source": [
    "print(\"====== Neural Network ======\")\n",
    "learner_nn.train_loop(dl)"
   ]
  },
  {
   "cell_type": "markdown",
   "id": "competent-suffering",
   "metadata": {
    "papermill": {
     "duration": 0.044653,
     "end_time": "2021-05-04T10:12:52.938086",
     "exception": false,
     "start_time": "2021-05-04T10:12:52.893433",
     "status": "completed"
    },
    "tags": []
   },
   "source": [
    "### Logistic Regression based Implementation."
   ]
  },
  {
   "cell_type": "code",
   "execution_count": 21,
   "id": "qualified-psychiatry",
   "metadata": {
    "execution": {
     "iopub.execute_input": "2021-05-04T10:12:53.021528Z",
     "iopub.status.busy": "2021-05-04T10:12:53.020921Z",
     "iopub.status.idle": "2021-05-04T10:12:53.032013Z",
     "shell.execute_reply": "2021-05-04T10:12:53.032420Z"
    },
    "papermill": {
     "duration": 0.054959,
     "end_time": "2021-05-04T10:12:53.032550",
     "exception": false,
     "start_time": "2021-05-04T10:12:52.977591",
     "status": "completed"
    },
    "tags": []
   },
   "outputs": [],
   "source": [
    "learner_lr = Learner(loss, model_lr, opt, config.num_epochs)\n",
    "acc_lr = ClfCallback(learner_lr, config.bs, training_xdata , testing_xdata, training_ydata, testing_ydata)\n",
    "learner_lr.set_callbacks([acc_lr])"
   ]
  },
  {
   "cell_type": "code",
   "execution_count": 22,
   "id": "average-outside",
   "metadata": {
    "execution": {
     "iopub.execute_input": "2021-05-04T10:12:53.120212Z",
     "iopub.status.busy": "2021-05-04T10:12:53.119006Z",
     "iopub.status.idle": "2021-05-04T10:13:12.897947Z",
     "shell.execute_reply": "2021-05-04T10:13:12.898675Z"
    },
    "papermill": {
     "duration": 19.826529,
     "end_time": "2021-05-04T10:13:12.898815",
     "exception": false,
     "start_time": "2021-05-04T10:12:53.072286",
     "status": "completed"
    },
    "tags": []
   },
   "outputs": [
    {
     "name": "stdout",
     "output_type": "stream",
     "text": [
      "====== Logistic Regression ======\n",
      "Epoch 0, Loss 0.2386\n",
      "Training Accuracy: 0.7197, Testing Accuracy: 0.7142\n",
      "\n"
     ]
    },
    {
     "name": "stdout",
     "output_type": "stream",
     "text": [
      "Epoch 10, Loss 0.1017\n",
      "Training Accuracy: 0.9133, Testing Accuracy: 0.9259\n",
      "\n"
     ]
    },
    {
     "name": "stdout",
     "output_type": "stream",
     "text": [
      "Epoch 20, Loss 0.0789\n",
      "Training Accuracy: 0.9292, Testing Accuracy: 0.9395\n",
      "\n"
     ]
    },
    {
     "name": "stdout",
     "output_type": "stream",
     "text": [
      "Epoch 30, Loss 0.0682\n",
      "Training Accuracy: 0.9362, Testing Accuracy: 0.9466\n",
      "\n"
     ]
    },
    {
     "name": "stdout",
     "output_type": "stream",
     "text": [
      "Epoch 40, Loss 0.0617\n",
      "Training Accuracy: 0.9415, Testing Accuracy: 0.9521\n",
      "\n"
     ]
    },
    {
     "name": "stdout",
     "output_type": "stream",
     "text": [
      "Epoch 50, Loss 0.0572\n",
      "Training Accuracy: 0.9442, Testing Accuracy: 0.9536\n",
      "\n"
     ]
    },
    {
     "name": "stdout",
     "output_type": "stream",
     "text": [
      "Epoch 60, Loss 0.0539\n",
      "Training Accuracy: 0.9461, Testing Accuracy: 0.9551\n",
      "\n"
     ]
    },
    {
     "name": "stdout",
     "output_type": "stream",
     "text": [
      "Epoch 70, Loss 0.0514\n",
      "Training Accuracy: 0.9478, Testing Accuracy: 0.9577\n",
      "\n"
     ]
    },
    {
     "name": "stdout",
     "output_type": "stream",
     "text": [
      "Epoch 80, Loss 0.0493\n",
      "Training Accuracy: 0.9489, Testing Accuracy: 0.9587\n",
      "\n"
     ]
    },
    {
     "name": "stdout",
     "output_type": "stream",
     "text": [
      "Epoch 90, Loss 0.0476\n",
      "Training Accuracy: 0.9508, Testing Accuracy: 0.9597\n",
      "\n"
     ]
    },
    {
     "name": "stdout",
     "output_type": "stream",
     "text": [
      "Epoch 100, Loss 0.0462\n",
      "Training Accuracy: 0.9524, Testing Accuracy: 0.9612\n",
      "\n"
     ]
    },
    {
     "name": "stdout",
     "output_type": "stream",
     "text": [
      "Epoch 110, Loss 0.0449\n",
      "Training Accuracy: 0.9531, Testing Accuracy: 0.9612\n",
      "\n"
     ]
    },
    {
     "name": "stdout",
     "output_type": "stream",
     "text": [
      "Epoch 120, Loss 0.0439\n",
      "Training Accuracy: 0.9543, Testing Accuracy: 0.9617\n",
      "\n"
     ]
    },
    {
     "name": "stdout",
     "output_type": "stream",
     "text": [
      "Epoch 130, Loss 0.0429\n",
      "Training Accuracy: 0.9555, Testing Accuracy: 0.9622\n",
      "\n"
     ]
    },
    {
     "name": "stdout",
     "output_type": "stream",
     "text": [
      "Epoch 140, Loss 0.0421\n",
      "Training Accuracy: 0.9562, Testing Accuracy: 0.9627\n",
      "\n"
     ]
    },
    {
     "name": "stdout",
     "output_type": "stream",
     "text": [
      "Epoch 150, Loss 0.0413\n",
      "Training Accuracy: 0.9565, Testing Accuracy: 0.9627\n",
      "\n"
     ]
    },
    {
     "name": "stdout",
     "output_type": "stream",
     "text": [
      "Epoch 160, Loss 0.0407\n",
      "Training Accuracy: 0.9572, Testing Accuracy: 0.9627\n",
      "\n"
     ]
    },
    {
     "name": "stdout",
     "output_type": "stream",
     "text": [
      "Epoch 170, Loss 0.0401\n",
      "Training Accuracy: 0.9576, Testing Accuracy: 0.9627\n",
      "\n"
     ]
    },
    {
     "name": "stdout",
     "output_type": "stream",
     "text": [
      "Epoch 180, Loss 0.0395\n",
      "Training Accuracy: 0.9579, Testing Accuracy: 0.9637\n",
      "\n"
     ]
    },
    {
     "name": "stdout",
     "output_type": "stream",
     "text": [
      "Epoch 190, Loss 0.039\n",
      "Training Accuracy: 0.9585, Testing Accuracy: 0.9637\n",
      "\n"
     ]
    },
    {
     "name": "stdout",
     "output_type": "stream",
     "text": [
      "Epoch 200, Loss 0.0385\n",
      "Training Accuracy: 0.9591, Testing Accuracy: 0.9637\n",
      "\n"
     ]
    },
    {
     "name": "stdout",
     "output_type": "stream",
     "text": [
      "Epoch 210, Loss 0.038\n",
      "Training Accuracy: 0.9593, Testing Accuracy: 0.9642\n",
      "\n"
     ]
    },
    {
     "name": "stdout",
     "output_type": "stream",
     "text": [
      "Epoch 220, Loss 0.0376\n",
      "Training Accuracy: 0.9595, Testing Accuracy: 0.9642\n",
      "\n"
     ]
    },
    {
     "name": "stdout",
     "output_type": "stream",
     "text": [
      "Epoch 230, Loss 0.0372\n",
      "Training Accuracy: 0.9598, Testing Accuracy: 0.9647\n",
      "\n"
     ]
    },
    {
     "name": "stdout",
     "output_type": "stream",
     "text": [
      "Epoch 240, Loss 0.0369\n",
      "Training Accuracy: 0.9604, Testing Accuracy: 0.9647\n",
      "\n"
     ]
    },
    {
     "name": "stdout",
     "output_type": "stream",
     "text": [
      "Epoch 250, Loss 0.0365\n",
      "Training Accuracy: 0.9607, Testing Accuracy: 0.9652\n",
      "\n"
     ]
    },
    {
     "data": {
      "text/plain": [
       "0.020559859540907194"
      ]
     },
     "execution_count": 22,
     "metadata": {},
     "output_type": "execute_result"
    }
   ],
   "source": [
    "print(\"====== Logistic Regression ======\")\n",
    "learner_lr.train_loop(dl)"
   ]
  },
  {
   "cell_type": "markdown",
   "id": "adjusted-possible",
   "metadata": {
    "papermill": {
     "duration": 0.046833,
     "end_time": "2021-05-04T10:13:12.993004",
     "exception": false,
     "start_time": "2021-05-04T10:13:12.946171",
     "status": "completed"
    },
    "tags": []
   },
   "source": [
    "### Comparing results of NN and LR"
   ]
  },
  {
   "cell_type": "code",
   "execution_count": 23,
   "id": "mental-multimedia",
   "metadata": {
    "execution": {
     "iopub.execute_input": "2021-05-04T10:13:13.101363Z",
     "iopub.status.busy": "2021-05-04T10:13:13.100709Z",
     "iopub.status.idle": "2021-05-04T10:13:13.364271Z",
     "shell.execute_reply": "2021-05-04T10:13:13.363749Z"
    },
    "papermill": {
     "duration": 0.320975,
     "end_time": "2021-05-04T10:13:13.364393",
     "exception": false,
     "start_time": "2021-05-04T10:13:13.043418",
     "status": "completed"
    },
    "tags": []
   },
   "outputs": [
    {
     "data": {
      "text/plain": [
       "<matplotlib.legend.Legend at 0x7f29c324e080>"
      ]
     },
     "execution_count": 23,
     "metadata": {},
     "output_type": "execute_result"
    },
    {
     "data": {
      "image/png": "[encoded data removed]",
      "text/plain": [
       "<Figure size 1080x720 with 1 Axes>"
      ]
     },
     "metadata": {
      "needs_background": "light"
     },
     "output_type": "display_data"
    }
   ],
   "source": [
    "plt.figure(figsize=(15,10))\n",
    "\n",
    "# Neural Network plots\n",
    "plt.plot(acc_nn.accuracies, 'r-', label = \"Training Accuracies - NN\")\n",
    "plt.plot(acc_nn.test_accuracies, 'g-', label = \"Testing Accuracies - NN\")\n",
    "\n",
    "# Logistic Regression plots\n",
    "plt.plot(acc_lr.accuracies, 'k-', label = \"Training Accuracies - LR\")\n",
    "plt.plot(acc_lr.test_accuracies, 'b-', label = \"Testing Accuracies - LR\")\n",
    "\n",
    "plt.ylim(0.8, 1)\n",
    "\n",
    "plt.legend()\n",
    "\n"
   ]
  },
  {
   "cell_type": "markdown",
   "id": "sexual-flesh",
   "metadata": {
    "papermill": {
     "duration": 0.046472,
     "end_time": "2021-05-04T10:13:13.459364",
     "exception": false,
     "start_time": "2021-05-04T10:13:13.412892",
     "status": "completed"
    },
    "tags": []
   },
   "source": [
    "### From the plot, we can observe the following:\n",
    "- Neural Network achieves higher accuracy than the Logistic Regression model.\n",
    "- This apparently, is because of overfitting, i.e. NN captures more noise than data.\n",
    "- Testing accuracy of NN drops below the Training accuracy at higher epochs. This explains the over-fitting on training data.\n",
    "- Logistic Regression gives a reliable accuracy, without the above mentioned problem.\n"
   ]
  },
  {
   "cell_type": "markdown",
   "id": "institutional-pacific",
   "metadata": {
    "papermill": {
     "duration": 0.051251,
     "end_time": "2021-05-04T10:13:13.561261",
     "exception": false,
     "start_time": "2021-05-04T10:13:13.510010",
     "status": "completed"
    },
    "tags": []
   },
   "source": [
    "### Moving till the last but one layer (excluding it).\n",
    "#### Plotting the outputs of this layer of the NN."
   ]
  },
  {
   "cell_type": "code",
   "execution_count": 24,
   "id": "economic-server",
   "metadata": {
    "execution": {
     "iopub.execute_input": "2021-05-04T10:13:13.667197Z",
     "iopub.status.busy": "2021-05-04T10:13:13.666449Z",
     "iopub.status.idle": "2021-05-04T10:13:13.676365Z",
     "shell.execute_reply": "2021-05-04T10:13:13.676856Z"
    },
    "papermill": {
     "duration": 0.062498,
     "end_time": "2021-05-04T10:13:13.677002",
     "exception": false,
     "start_time": "2021-05-04T10:13:13.614504",
     "status": "completed"
    },
    "tags": []
   },
   "outputs": [],
   "source": [
    "model_new = Model(layers[:-2])"
   ]
  },
  {
   "cell_type": "code",
   "execution_count": 25,
   "id": "varied-upgrade",
   "metadata": {
    "execution": {
     "iopub.execute_input": "2021-05-04T10:13:13.782039Z",
     "iopub.status.busy": "2021-05-04T10:13:13.774850Z",
     "iopub.status.idle": "2021-05-04T10:13:13.812939Z",
     "shell.execute_reply": "2021-05-04T10:13:13.813710Z"
    },
    "papermill": {
     "duration": 0.088579,
     "end_time": "2021-05-04T10:13:13.813860",
     "exception": false,
     "start_time": "2021-05-04T10:13:13.725281",
     "status": "completed"
    },
    "tags": []
   },
   "outputs": [],
   "source": [
    "plot_testing = model_new(testing_xdata)"
   ]
  },
  {
   "cell_type": "code",
   "execution_count": 26,
   "id": "specific-handling",
   "metadata": {
    "execution": {
     "iopub.execute_input": "2021-05-04T10:13:13.935150Z",
     "iopub.status.busy": "2021-05-04T10:13:13.934556Z",
     "iopub.status.idle": "2021-05-04T10:13:14.155452Z",
     "shell.execute_reply": "2021-05-04T10:13:14.154982Z"
    },
    "papermill": {
     "duration": 0.288591,
     "end_time": "2021-05-04T10:13:14.155573",
     "exception": false,
     "start_time": "2021-05-04T10:13:13.866982",
     "status": "completed"
    },
    "tags": []
   },
   "outputs": [
    {
     "data": {
      "text/plain": [
       "Text(0.5, 1.0, 'Outputs')"
      ]
     },
     "execution_count": 26,
     "metadata": {},
     "output_type": "execute_result"
    },
    {
     "data": {
      "image/png": "[encoded data removed]",
      "text/plain": [
       "<Figure size 576x504 with 1 Axes>"
      ]
     },
     "metadata": {
      "needs_background": "light"
     },
     "output_type": "display_data"
    }
   ],
   "source": [
    "plt.figure(figsize=(8,7))\n",
    "plt.scatter(plot_testing[:,0], plot_testing[:,1], alpha = 0.1, c = y_test.ravel());\n",
    "plt.title('Outputs')"
   ]
  },
  {
   "cell_type": "markdown",
   "id": "described-knowing",
   "metadata": {
    "papermill": {
     "duration": 0.051089,
     "end_time": "2021-05-04T10:13:14.277469",
     "exception": false,
     "start_time": "2021-05-04T10:13:14.226380",
     "status": "completed"
    },
    "tags": []
   },
   "source": [
    "### Plotting probability contours"
   ]
  },
  {
   "cell_type": "code",
   "execution_count": 27,
   "id": "needed-growing",
   "metadata": {
    "execution": {
     "iopub.execute_input": "2021-05-04T10:13:14.394835Z",
     "iopub.status.busy": "2021-05-04T10:13:14.394264Z",
     "iopub.status.idle": "2021-05-04T10:13:14.404122Z",
     "shell.execute_reply": "2021-05-04T10:13:14.404683Z"
    },
    "papermill": {
     "duration": 0.072758,
     "end_time": "2021-05-04T10:13:14.404847",
     "exception": false,
     "start_time": "2021-05-04T10:13:14.332089",
     "status": "completed"
    },
    "tags": []
   },
   "outputs": [],
   "source": [
    "model_prob = Model(layers[-2:]) "
   ]
  },
  {
   "cell_type": "code",
   "execution_count": 28,
   "id": "introductory-enforcement",
   "metadata": {
    "execution": {
     "iopub.execute_input": "2021-05-04T10:13:14.527548Z",
     "iopub.status.busy": "2021-05-04T10:13:14.526944Z",
     "iopub.status.idle": "2021-05-04T10:13:14.542042Z",
     "shell.execute_reply": "2021-05-04T10:13:14.542650Z"
    },
    "papermill": {
     "duration": 0.079854,
     "end_time": "2021-05-04T10:13:14.542812",
     "exception": false,
     "start_time": "2021-05-04T10:13:14.462958",
     "status": "completed"
    },
    "tags": []
   },
   "outputs": [],
   "source": [
    "# Adjust the x and y ranges according to the above generated plot.\n",
    "x_range = np.linspace(-4, 1, 100) \n",
    "y_range = np.linspace(-6, 6, 100) \n",
    "x_grid, y_grid = np.meshgrid(x_range, y_range) # x_grid and y_grig are of size 100 X 100\n",
    "\n",
    "# converting x_grid and y_grid to continuous arrays\n",
    "x_grid_flat = np.ravel(x_grid)\n",
    "y_grid_flat = np.ravel(y_grid)\n",
    "\n",
    "# The last layer of the current model takes two columns as input. Hence transpose of np.vstack() is required.\n",
    "X = np.vstack((x_grid_flat, y_grid_flat)).T\n",
    "\n",
    "# x_grid and y_grid are of size 100 x 100\n",
    "probability_contour = model_prob(X).reshape(100,100) "
   ]
  },
  {
   "cell_type": "code",
   "execution_count": 29,
   "id": "understood-landing",
   "metadata": {
    "execution": {
     "iopub.execute_input": "2021-05-04T10:13:14.681631Z",
     "iopub.status.busy": "2021-05-04T10:13:14.680954Z",
     "iopub.status.idle": "2021-05-04T10:13:14.965267Z",
     "shell.execute_reply": "2021-05-04T10:13:14.966142Z"
    },
    "papermill": {
     "duration": 0.36037,
     "end_time": "2021-05-04T10:13:14.966302",
     "exception": false,
     "start_time": "2021-05-04T10:13:14.605932",
     "status": "completed"
    },
    "tags": []
   },
   "outputs": [
    {
     "data": {
      "image/png": "[encoded data removed]",
      "text/plain": [
       "<Figure size 720x648 with 1 Axes>"
      ]
     },
     "metadata": {
      "needs_background": "light"
     },
     "output_type": "display_data"
    }
   ],
   "source": [
    "plt.figure(figsize=(10,9))\n",
    "plt.scatter(plot_testing[:,0], plot_testing[:,1], alpha = 0.1, c = y_test.ravel())\n",
    "contours = plt.contour(x_grid,y_grid,probability_contour)\n",
    "plt.title('Probability Contours')\n",
    "plt.clabel(contours, inline = True );"
   ]
  }
 ],
 "metadata": {
  "kernelspec": {
   "display_name": "Python 3",
   "language": "python",
   "name": "python3"
  },
  "language_info": {
   "codemirror_mode": {
    "name": "ipython",
    "version": 3
   },
   "file_extension": ".py",
   "mimetype": "text/x-python",
   "name": "python",
   "nbconvert_exporter": "python",
   "pygments_lexer": "ipython3",
   "version": "3.6.13"
  },
  "papermill": {
   "duration": 515.460804,
   "end_time": "2021-05-04T10:13:16.198737",
   "environment_variables": {},
   "exception": null,
   "input_path": "2020-08-11-NeuralNetwork.ipynb",
   "output_path": "2020-08-11-NeuralNetwork.ipynb",
   "parameters": {},
   "start_time": "2021-05-04T10:04:40.737933",
   "version": "2.1.2"
  }
 },
 "nbformat": 4,
 "nbformat_minor": 5
}