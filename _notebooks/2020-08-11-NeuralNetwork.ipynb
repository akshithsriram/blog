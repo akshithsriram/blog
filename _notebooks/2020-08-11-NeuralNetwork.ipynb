{
 "cells": [
  {
   "cell_type": "markdown",
   "metadata": {
    "papermill": {
     "duration": 0.029406,
     "end_time": "2020-11-11T10:04:33.353890",
     "exception": false,
     "start_time": "2020-11-11T10:04:33.324484",
     "status": "completed"
    },
    "tags": []
   },
   "source": [
    "# \"A Basic Neural Network: Differentiate Hand-Written Digits\"\n",
    "\n",
    "- badges: true\n",
    "- author: Akshith Sriram"
   ]
  },
  {
   "cell_type": "markdown",
   "metadata": {
    "papermill": {
     "duration": 0.02271,
     "end_time": "2020-11-11T10:04:33.401111",
     "exception": false,
     "start_time": "2020-11-11T10:04:33.378401",
     "status": "completed"
    },
    "tags": []
   },
   "source": [
    "### Key Objectives:\n",
    "- Building a neural network that differentiates two hand-written digits 3 and 8.\n",
    "- Comparing the results of this Neural Network (NN) to that of a Logistic Regression (LR) model.\n",
    "\n",
    "### Requirements:\n",
    "- 'Kudzu' : A neural network library that was designed during our course by [Univ.AI](www.univ.ai). \n",
    "- MNIST Database\n",
    "\n",
    "If MNIST is not installed, use the command `!pip install mnist` given below.\n",
    "It can be run both from the command line and Jupyter Notebook."
   ]
  },
  {
   "cell_type": "code",
   "execution_count": 1,
   "metadata": {
    "execution": {
     "iopub.execute_input": "2020-11-11T10:04:33.455427Z",
     "iopub.status.busy": "2020-11-11T10:04:33.454834Z",
     "iopub.status.idle": "2020-11-11T10:04:34.857234Z",
     "shell.execute_reply": "2020-11-11T10:04:34.856256Z"
    },
    "papermill": {
     "duration": 1.432212,
     "end_time": "2020-11-11T10:04:34.857415",
     "exception": false,
     "start_time": "2020-11-11T10:04:33.425203",
     "status": "completed"
    },
    "tags": []
   },
   "outputs": [
    {
     "name": "stdout",
     "output_type": "stream",
     "text": [
      "Collecting mnist\r\n"
     ]
    },
    {
     "name": "stdout",
     "output_type": "stream",
     "text": [
      "  Downloading mnist-0.2.2-py2.py3-none-any.whl (3.5 kB)\r\n",
      "Requirement already satisfied: numpy in /opt/hostedtoolcache/Python/3.6.12/x64/lib/python3.6/site-packages (from mnist) (1.19.4)\r\n"
     ]
    },
    {
     "name": "stdout",
     "output_type": "stream",
     "text": [
      "Installing collected packages: mnist\r\n"
     ]
    },
    {
     "name": "stdout",
     "output_type": "stream",
     "text": [
      "Successfully installed mnist-0.2.2\r\n"
     ]
    }
   ],
   "source": [
    "!pip install mnist "
   ]
  },
  {
   "cell_type": "markdown",
   "metadata": {
    "papermill": {
     "duration": 0.024629,
     "end_time": "2020-11-11T10:04:34.908817",
     "exception": false,
     "start_time": "2020-11-11T10:04:34.884188",
     "status": "completed"
    },
    "tags": []
   },
   "source": [
    "#### Importing necessary libraries"
   ]
  },
  {
   "cell_type": "code",
   "execution_count": 2,
   "metadata": {
    "execution": {
     "iopub.execute_input": "2020-11-11T10:04:34.976645Z",
     "iopub.status.busy": "2020-11-11T10:04:34.970018Z",
     "iopub.status.idle": "2020-11-11T10:04:35.503310Z",
     "shell.execute_reply": "2020-11-11T10:04:35.504131Z"
    },
    "papermill": {
     "duration": 0.569402,
     "end_time": "2020-11-11T10:04:35.504394",
     "exception": false,
     "start_time": "2020-11-11T10:04:34.934992",
     "status": "completed"
    },
    "tags": []
   },
   "outputs": [],
   "source": [
    "%load_ext autoreload\n",
    "%autoreload 2\n",
    "\n",
    "%matplotlib inline\n",
    "import matplotlib.pyplot as plt\n",
    "\n",
    "import numpy as np\n",
    "import pandas as pd"
   ]
  },
  {
   "cell_type": "markdown",
   "metadata": {
    "papermill": {
     "duration": 0.024966,
     "end_time": "2020-11-11T10:04:35.553151",
     "exception": false,
     "start_time": "2020-11-11T10:04:35.528185",
     "status": "completed"
    },
    "tags": []
   },
   "source": [
    "### Preparing the Data"
   ]
  },
  {
   "cell_type": "code",
   "execution_count": 3,
   "metadata": {
    "execution": {
     "iopub.execute_input": "2020-11-11T10:04:35.605619Z",
     "iopub.status.busy": "2020-11-11T10:04:35.605144Z",
     "iopub.status.idle": "2020-11-11T10:04:35.618312Z",
     "shell.execute_reply": "2020-11-11T10:04:35.618788Z"
    },
    "papermill": {
     "duration": 0.041424,
     "end_time": "2020-11-11T10:04:35.618915",
     "exception": false,
     "start_time": "2020-11-11T10:04:35.577491",
     "status": "completed"
    },
    "tags": []
   },
   "outputs": [],
   "source": [
    "import mnist"
   ]
  },
  {
   "cell_type": "code",
   "execution_count": 4,
   "metadata": {
    "execution": {
     "iopub.execute_input": "2020-11-11T10:04:35.668534Z",
     "iopub.status.busy": "2020-11-11T10:04:35.667992Z",
     "iopub.status.idle": "2020-11-11T10:04:36.388745Z",
     "shell.execute_reply": "2020-11-11T10:04:36.387515Z"
    },
    "papermill": {
     "duration": 0.747595,
     "end_time": "2020-11-11T10:04:36.388901",
     "exception": false,
     "start_time": "2020-11-11T10:04:35.641306",
     "status": "completed"
    },
    "tags": []
   },
   "outputs": [],
   "source": [
    "train_images = mnist.train_images()\n",
    "train_labels = mnist.train_labels()"
   ]
  },
  {
   "cell_type": "code",
   "execution_count": 5,
   "metadata": {
    "execution": {
     "iopub.execute_input": "2020-11-11T10:04:36.447218Z",
     "iopub.status.busy": "2020-11-11T10:04:36.443005Z",
     "iopub.status.idle": "2020-11-11T10:04:36.456268Z",
     "shell.execute_reply": "2020-11-11T10:04:36.455866Z"
    },
    "papermill": {
     "duration": 0.041919,
     "end_time": "2020-11-11T10:04:36.456382",
     "exception": false,
     "start_time": "2020-11-11T10:04:36.414463",
     "status": "completed"
    },
    "tags": []
   },
   "outputs": [
    {
     "data": {
      "text/plain": [
       "((60000, 28, 28), (60000,))"
      ]
     },
     "execution_count": 5,
     "metadata": {},
     "output_type": "execute_result"
    }
   ],
   "source": [
    "train_images.shape, train_labels.shape"
   ]
  },
  {
   "cell_type": "code",
   "execution_count": 6,
   "metadata": {
    "execution": {
     "iopub.execute_input": "2020-11-11T10:04:36.509810Z",
     "iopub.status.busy": "2020-11-11T10:04:36.509262Z",
     "iopub.status.idle": "2020-11-11T10:04:36.747874Z",
     "shell.execute_reply": "2020-11-11T10:04:36.746995Z"
    },
    "papermill": {
     "duration": 0.268096,
     "end_time": "2020-11-11T10:04:36.748107",
     "exception": false,
     "start_time": "2020-11-11T10:04:36.480011",
     "status": "completed"
    },
    "tags": []
   },
   "outputs": [],
   "source": [
    "test_images = mnist.test_images()\n",
    "test_labels = mnist.test_labels()"
   ]
  },
  {
   "cell_type": "code",
   "execution_count": 7,
   "metadata": {
    "execution": {
     "iopub.execute_input": "2020-11-11T10:04:36.872124Z",
     "iopub.status.busy": "2020-11-11T10:04:36.870903Z",
     "iopub.status.idle": "2020-11-11T10:04:36.880439Z",
     "shell.execute_reply": "2020-11-11T10:04:36.879705Z"
    },
    "papermill": {
     "duration": 0.106529,
     "end_time": "2020-11-11T10:04:36.880580",
     "exception": false,
     "start_time": "2020-11-11T10:04:36.774051",
     "status": "completed"
    },
    "tags": []
   },
   "outputs": [
    {
     "data": {
      "text/plain": [
       "((10000, 28, 28), (10000,))"
      ]
     },
     "execution_count": 7,
     "metadata": {},
     "output_type": "execute_result"
    }
   ],
   "source": [
    "test_images.shape, test_labels.shape"
   ]
  },
  {
   "cell_type": "code",
   "execution_count": 8,
   "metadata": {
    "execution": {
     "iopub.execute_input": "2020-11-11T10:04:37.363743Z",
     "iopub.status.busy": "2020-11-11T10:04:37.363157Z",
     "iopub.status.idle": "2020-11-11T10:04:37.506617Z",
     "shell.execute_reply": "2020-11-11T10:04:37.506232Z"
    },
    "papermill": {
     "duration": 0.600159,
     "end_time": "2020-11-11T10:04:37.506724",
     "exception": false,
     "start_time": "2020-11-11T10:04:36.906565",
     "status": "completed"
    },
    "tags": []
   },
   "outputs": [
    {
     "name": "stdout",
     "output_type": "stream",
     "text": [
      "2\n"
     ]
    },
    {
     "data": {
      "text/plain": [
       "<matplotlib.image.AxesImage at 0x7f318c4a24e0>"
      ]
     },
     "execution_count": 8,
     "metadata": {},
     "output_type": "execute_result"
    },
    {
     "data": {
      "image/png": "[encoded data removed]",
      "text/plain": [
       "<Figure size 432x288 with 1 Axes>"
      ]
     },
     "metadata": {
      "needs_background": "light"
     },
     "output_type": "display_data"
    }
   ],
   "source": [
    "image_index = 7776 # You may select anything up to 60,000\n",
    "print(train_labels[image_index]) \n",
    "plt.imshow(train_images[image_index], cmap='Greys')"
   ]
  },
  {
   "cell_type": "markdown",
   "metadata": {
    "papermill": {
     "duration": 0.023662,
     "end_time": "2020-11-11T10:04:37.554916",
     "exception": false,
     "start_time": "2020-11-11T10:04:37.531254",
     "status": "completed"
    },
    "tags": []
   },
   "source": [
    "## Filter data to get 3 and 8 out"
   ]
  },
  {
   "cell_type": "code",
   "execution_count": 9,
   "metadata": {
    "execution": {
     "iopub.execute_input": "2020-11-11T10:04:37.618939Z",
     "iopub.status.busy": "2020-11-11T10:04:37.607649Z",
     "iopub.status.idle": "2020-11-11T10:04:37.625962Z",
     "shell.execute_reply": "2020-11-11T10:04:37.625404Z"
    },
    "papermill": {
     "duration": 0.047278,
     "end_time": "2020-11-11T10:04:37.626092",
     "exception": false,
     "start_time": "2020-11-11T10:04:37.578814",
     "status": "completed"
    },
    "tags": []
   },
   "outputs": [],
   "source": [
    "train_filter = np.where((train_labels == 3 ) | (train_labels == 8))\n",
    "test_filter = np.where((test_labels == 3) | (test_labels == 8))\n",
    "X_train, y_train = train_images[train_filter], train_labels[train_filter]\n",
    "X_test, y_test = test_images[test_filter], test_labels[test_filter]"
   ]
  },
  {
   "cell_type": "markdown",
   "metadata": {
    "papermill": {
     "duration": 0.024951,
     "end_time": "2020-11-11T10:04:37.676237",
     "exception": false,
     "start_time": "2020-11-11T10:04:37.651286",
     "status": "completed"
    },
    "tags": []
   },
   "source": [
    "We normalize the pixel values in the 0 to 1 range"
   ]
  },
  {
   "cell_type": "code",
   "execution_count": 10,
   "metadata": {
    "execution": {
     "iopub.execute_input": "2020-11-11T10:04:37.732362Z",
     "iopub.status.busy": "2020-11-11T10:04:37.731762Z",
     "iopub.status.idle": "2020-11-11T10:04:37.786480Z",
     "shell.execute_reply": "2020-11-11T10:04:37.785499Z"
    },
    "papermill": {
     "duration": 0.085287,
     "end_time": "2020-11-11T10:04:37.786702",
     "exception": false,
     "start_time": "2020-11-11T10:04:37.701415",
     "status": "completed"
    },
    "tags": []
   },
   "outputs": [],
   "source": [
    "X_train = X_train/255.\n",
    "X_test = X_test/255."
   ]
  },
  {
   "cell_type": "markdown",
   "metadata": {
    "papermill": {
     "duration": 0.026194,
     "end_time": "2020-11-11T10:04:37.838859",
     "exception": false,
     "start_time": "2020-11-11T10:04:37.812665",
     "status": "completed"
    },
    "tags": []
   },
   "source": [
    "Setup the labels as 1 (when the digit is 3) and 0 (when the digit is 8)"
   ]
  },
  {
   "cell_type": "code",
   "execution_count": 11,
   "metadata": {
    "execution": {
     "iopub.execute_input": "2020-11-11T10:04:37.898127Z",
     "iopub.status.busy": "2020-11-11T10:04:37.897489Z",
     "iopub.status.idle": "2020-11-11T10:04:37.909394Z",
     "shell.execute_reply": "2020-11-11T10:04:37.908894Z"
    },
    "papermill": {
     "duration": 0.046577,
     "end_time": "2020-11-11T10:04:37.909525",
     "exception": false,
     "start_time": "2020-11-11T10:04:37.862948",
     "status": "completed"
    },
    "tags": []
   },
   "outputs": [],
   "source": [
    "y_train = 1*(y_train==3)\n",
    "y_test = 1*(y_test==3)"
   ]
  },
  {
   "cell_type": "code",
   "execution_count": 12,
   "metadata": {
    "execution": {
     "iopub.execute_input": "2020-11-11T10:04:37.969218Z",
     "iopub.status.busy": "2020-11-11T10:04:37.968638Z",
     "iopub.status.idle": "2020-11-11T10:04:37.982032Z",
     "shell.execute_reply": "2020-11-11T10:04:37.982482Z"
    },
    "papermill": {
     "duration": 0.045503,
     "end_time": "2020-11-11T10:04:37.982636",
     "exception": false,
     "start_time": "2020-11-11T10:04:37.937133",
     "status": "completed"
    },
    "tags": []
   },
   "outputs": [
    {
     "data": {
      "text/plain": [
       "((11982, 28, 28), (1984, 28, 28))"
      ]
     },
     "execution_count": 12,
     "metadata": {},
     "output_type": "execute_result"
    }
   ],
   "source": [
    "X_train.shape, X_test.shape"
   ]
  },
  {
   "cell_type": "markdown",
   "metadata": {
    "papermill": {
     "duration": 0.027361,
     "end_time": "2020-11-11T10:04:38.037469",
     "exception": false,
     "start_time": "2020-11-11T10:04:38.010108",
     "status": "completed"
    },
    "tags": []
   },
   "source": [
    "### Reshape the input data to create a linear array"
   ]
  },
  {
   "cell_type": "code",
   "execution_count": 13,
   "metadata": {
    "execution": {
     "iopub.execute_input": "2020-11-11T10:04:38.100930Z",
     "iopub.status.busy": "2020-11-11T10:04:38.100327Z",
     "iopub.status.idle": "2020-11-11T10:04:38.113855Z",
     "shell.execute_reply": "2020-11-11T10:04:38.113311Z"
    },
    "papermill": {
     "duration": 0.048939,
     "end_time": "2020-11-11T10:04:38.113992",
     "exception": false,
     "start_time": "2020-11-11T10:04:38.065053",
     "status": "completed"
    },
    "tags": []
   },
   "outputs": [
    {
     "data": {
      "text/plain": [
       "((11982, 784), (1984, 784))"
      ]
     },
     "execution_count": 13,
     "metadata": {},
     "output_type": "execute_result"
    }
   ],
   "source": [
    "X_train = X_train.reshape(X_train.shape[0], -1)\n",
    "X_test = X_test.reshape(X_test.shape[0], -1)\n",
    "X_train.shape, X_test.shape"
   ]
  },
  {
   "cell_type": "markdown",
   "metadata": {
    "papermill": {
     "duration": 0.027564,
     "end_time": "2020-11-11T10:04:38.169400",
     "exception": false,
     "start_time": "2020-11-11T10:04:38.141836",
     "status": "completed"
    },
    "tags": []
   },
   "source": [
    "### Importing appropriate functions from 'Kudzu'"
   ]
  },
  {
   "cell_type": "code",
   "execution_count": 14,
   "metadata": {
    "execution": {
     "iopub.execute_input": "2020-11-11T10:04:38.231343Z",
     "iopub.status.busy": "2020-11-11T10:04:38.230791Z",
     "iopub.status.idle": "2020-11-11T10:04:38.251745Z",
     "shell.execute_reply": "2020-11-11T10:04:38.252217Z"
    },
    "papermill": {
     "duration": 0.054778,
     "end_time": "2020-11-11T10:04:38.252371",
     "exception": false,
     "start_time": "2020-11-11T10:04:38.197593",
     "status": "completed"
    },
    "tags": []
   },
   "outputs": [],
   "source": [
    "from kudzu.layer import Sigmoid\n",
    "from kudzu.layer import Relu\n",
    "from kudzu.layer import Affine, Sigmoid\n",
    "\n",
    "from kudzu.model import Model\n",
    "from kudzu.train import Learner\n",
    "from kudzu.optim import GD\n",
    "from kudzu.data import Data, Dataloader, Sampler\n",
    "\n",
    "from kudzu.callbacks import AccCallback\n",
    "from kudzu.callbacks import ClfCallback\n",
    "\n",
    "from kudzu.loss import MSE"
   ]
  },
  {
   "cell_type": "markdown",
   "metadata": {
    "papermill": {
     "duration": 0.026996,
     "end_time": "2020-11-11T10:04:38.305980",
     "exception": false,
     "start_time": "2020-11-11T10:04:38.278984",
     "status": "completed"
    },
    "tags": []
   },
   "source": [
    "### Let us create a `Config` class, to store important parameters. \n",
    "This class essentially plays the role of a dictionary."
   ]
  },
  {
   "cell_type": "code",
   "execution_count": 15,
   "metadata": {
    "execution": {
     "iopub.execute_input": "2020-11-11T10:04:38.367182Z",
     "iopub.status.busy": "2020-11-11T10:04:38.366588Z",
     "iopub.status.idle": "2020-11-11T10:04:38.379116Z",
     "shell.execute_reply": "2020-11-11T10:04:38.379617Z"
    },
    "papermill": {
     "duration": 0.045926,
     "end_time": "2020-11-11T10:04:38.379769",
     "exception": false,
     "start_time": "2020-11-11T10:04:38.333843",
     "status": "completed"
    },
    "tags": []
   },
   "outputs": [],
   "source": [
    "class Config:\n",
    "    pass\n",
    "config = Config()\n",
    "config.lr = 0.001\n",
    "config.num_epochs = 251\n",
    "config.bs = 50"
   ]
  },
  {
   "cell_type": "markdown",
   "metadata": {
    "papermill": {
     "duration": 0.027098,
     "end_time": "2020-11-11T10:04:38.434793",
     "exception": false,
     "start_time": "2020-11-11T10:04:38.407695",
     "status": "completed"
    },
    "tags": []
   },
   "source": [
    "### Initializing data to the variables"
   ]
  },
  {
   "cell_type": "code",
   "execution_count": 16,
   "metadata": {
    "execution": {
     "iopub.execute_input": "2020-11-11T10:04:38.489327Z",
     "iopub.status.busy": "2020-11-11T10:04:38.488799Z",
     "iopub.status.idle": "2020-11-11T10:04:38.500272Z",
     "shell.execute_reply": "2020-11-11T10:04:38.500748Z"
    },
    "papermill": {
     "duration": 0.040368,
     "end_time": "2020-11-11T10:04:38.500891",
     "exception": false,
     "start_time": "2020-11-11T10:04:38.460523",
     "status": "completed"
    },
    "tags": []
   },
   "outputs": [],
   "source": [
    "data = Data(X_train, y_train.reshape(-1,1))\n",
    "sampler = Sampler(data, config.bs, shuffle=True)\n",
    "\n",
    "dl = Dataloader(data, sampler)\n",
    "\n",
    "opt = GD(config.lr)\n",
    "loss = MSE()"
   ]
  },
  {
   "cell_type": "code",
   "execution_count": 17,
   "metadata": {
    "execution": {
     "iopub.execute_input": "2020-11-11T10:04:38.554617Z",
     "iopub.status.busy": "2020-11-11T10:04:38.554074Z",
     "iopub.status.idle": "2020-11-11T10:04:38.565849Z",
     "shell.execute_reply": "2020-11-11T10:04:38.566338Z"
    },
    "papermill": {
     "duration": 0.040846,
     "end_time": "2020-11-11T10:04:38.566477",
     "exception": false,
     "start_time": "2020-11-11T10:04:38.525631",
     "status": "completed"
    },
    "tags": []
   },
   "outputs": [],
   "source": [
    "training_xdata = X_train\n",
    "testing_xdata = X_test\n",
    "training_ydata = y_train.reshape(-1,1)\n",
    "testing_ydata = y_test.reshape(-1,1)"
   ]
  },
  {
   "cell_type": "markdown",
   "metadata": {
    "papermill": {
     "duration": 0.027117,
     "end_time": "2020-11-11T10:04:38.619051",
     "exception": false,
     "start_time": "2020-11-11T10:04:38.591934",
     "status": "completed"
    },
    "tags": []
   },
   "source": [
    "### Running Models with the Training data\n",
    "Details about the network layers:\n",
    "- A first affine layer has 784 inputs and does 100 affine transforms. These are followed by a Relu\n",
    "- A second affine layer has 100 inputs from the 100 activations of the past layer, and does 100 affine transforms. These are followed by a Relu\n",
    "- A third affine layer has 100 activations and does 2 affine transformations to create an embedding for visualization. There is no non-linearity here.\n",
    "- A final \"logistic regression\" which has an affine transform from 2 inputs to 1 output, which is squeezed through a sigmoid.\n",
    "\n",
    "Help taken from Anshuman's Notebook."
   ]
  },
  {
   "cell_type": "code",
   "execution_count": 18,
   "metadata": {
    "execution": {
     "iopub.execute_input": "2020-11-11T10:04:38.678303Z",
     "iopub.status.busy": "2020-11-11T10:04:38.677696Z",
     "iopub.status.idle": "2020-11-11T10:04:38.696264Z",
     "shell.execute_reply": "2020-11-11T10:04:38.695857Z"
    },
    "papermill": {
     "duration": 0.051879,
     "end_time": "2020-11-11T10:04:38.696377",
     "exception": false,
     "start_time": "2020-11-11T10:04:38.644498",
     "status": "completed"
    },
    "tags": []
   },
   "outputs": [],
   "source": [
    "# layers for the Neural Network\n",
    "layers = [Affine(\"first\", 784, 100), Relu(\"first\"), Affine(\"second\", 100, 100), Relu(\"second\"), Affine(\"third\", 100, 2), Affine(\"final\", 2, 1), Sigmoid(\"final\")]\n",
    "model_nn = Model(layers)\n",
    "\n",
    "# layers for the Logistic Regression\n",
    "layers_lr = [Affine(\"logits\", 784, 1), Sigmoid(\"sigmoid\")]\n",
    "model_lr = Model(layers_lr)"
   ]
  },
  {
   "cell_type": "code",
   "execution_count": 19,
   "metadata": {
    "execution": {
     "iopub.execute_input": "2020-11-11T10:04:38.755965Z",
     "iopub.status.busy": "2020-11-11T10:04:38.755385Z",
     "iopub.status.idle": "2020-11-11T10:04:38.770362Z",
     "shell.execute_reply": "2020-11-11T10:04:38.769858Z"
    },
    "papermill": {
     "duration": 0.047028,
     "end_time": "2020-11-11T10:04:38.770492",
     "exception": false,
     "start_time": "2020-11-11T10:04:38.723464",
     "status": "completed"
    },
    "tags": []
   },
   "outputs": [],
   "source": [
    "# suffix _nn stands for Neural Network.\n",
    "learner_nn = Learner(loss, model_nn, opt, config.num_epochs)\n",
    "acc_nn = ClfCallback(learner_nn, config.bs, training_xdata , testing_xdata, training_ydata, testing_ydata)\n",
    "learner_nn.set_callbacks([acc_nn])"
   ]
  },
  {
   "cell_type": "code",
   "execution_count": 20,
   "metadata": {
    "execution": {
     "iopub.execute_input": "2020-11-11T10:04:38.830090Z",
     "iopub.status.busy": "2020-11-11T10:04:38.829481Z",
     "iopub.status.idle": "2020-11-11T10:06:01.913268Z",
     "shell.execute_reply": "2020-11-11T10:06:01.914086Z"
    },
    "papermill": {
     "duration": 83.115918,
     "end_time": "2020-11-11T10:06:01.914252",
     "exception": false,
     "start_time": "2020-11-11T10:04:38.798334",
     "status": "completed"
    },
    "tags": []
   },
   "outputs": [
    {
     "name": "stdout",
     "output_type": "stream",
     "text": [
      "====== Neural Network ======\n"
     ]
    },
    {
     "name": "stdout",
     "output_type": "stream",
     "text": [
      "Epoch 0, Loss 0.2496\n",
      "Training Accuracy: 0.6148, Testing Accuracy: 0.6331\n",
      "\n"
     ]
    },
    {
     "name": "stdout",
     "output_type": "stream",
     "text": [
      "Epoch 10, Loss 0.1124\n",
      "Training Accuracy: 0.9121, Testing Accuracy: 0.9299\n",
      "\n"
     ]
    },
    {
     "name": "stdout",
     "output_type": "stream",
     "text": [
      "Epoch 20, Loss 0.0627\n",
      "Training Accuracy: 0.9362, Testing Accuracy: 0.9451\n",
      "\n"
     ]
    },
    {
     "name": "stdout",
     "output_type": "stream",
     "text": [
      "Epoch 30, Loss 0.0479\n",
      "Training Accuracy: 0.9483, Testing Accuracy: 0.9607\n",
      "\n"
     ]
    },
    {
     "name": "stdout",
     "output_type": "stream",
     "text": [
      "Epoch 40, Loss 0.041\n",
      "Training Accuracy: 0.9548, Testing Accuracy: 0.9642\n",
      "\n"
     ]
    },
    {
     "name": "stdout",
     "output_type": "stream",
     "text": [
      "Epoch 50, Loss 0.0368\n",
      "Training Accuracy: 0.9587, Testing Accuracy: 0.9672\n",
      "\n"
     ]
    },
    {
     "name": "stdout",
     "output_type": "stream",
     "text": [
      "Epoch 60, Loss 0.034\n",
      "Training Accuracy: 0.9607, Testing Accuracy: 0.9677\n",
      "\n"
     ]
    },
    {
     "name": "stdout",
     "output_type": "stream",
     "text": [
      "Epoch 70, Loss 0.0319\n",
      "Training Accuracy: 0.9623, Testing Accuracy: 0.9682\n",
      "\n"
     ]
    },
    {
     "name": "stdout",
     "output_type": "stream",
     "text": [
      "Epoch 80, Loss 0.0302\n",
      "Training Accuracy: 0.9639, Testing Accuracy: 0.9682\n",
      "\n"
     ]
    },
    {
     "name": "stdout",
     "output_type": "stream",
     "text": [
      "Epoch 90, Loss 0.0288\n",
      "Training Accuracy: 0.9661, Testing Accuracy: 0.9688\n",
      "\n"
     ]
    },
    {
     "name": "stdout",
     "output_type": "stream",
     "text": [
      "Epoch 100, Loss 0.0276\n",
      "Training Accuracy: 0.9672, Testing Accuracy: 0.9698\n",
      "\n"
     ]
    },
    {
     "name": "stdout",
     "output_type": "stream",
     "text": [
      "Epoch 110, Loss 0.0266\n",
      "Training Accuracy: 0.9685, Testing Accuracy: 0.9703\n",
      "\n"
     ]
    },
    {
     "name": "stdout",
     "output_type": "stream",
     "text": [
      "Epoch 120, Loss 0.0257\n",
      "Training Accuracy: 0.9694, Testing Accuracy: 0.9718\n",
      "\n"
     ]
    },
    {
     "name": "stdout",
     "output_type": "stream",
     "text": [
      "Epoch 130, Loss 0.0249\n",
      "Training Accuracy: 0.9701, Testing Accuracy: 0.9723\n",
      "\n"
     ]
    },
    {
     "name": "stdout",
     "output_type": "stream",
     "text": [
      "Epoch 140, Loss 0.0242\n",
      "Training Accuracy: 0.9715, Testing Accuracy: 0.9703\n",
      "\n"
     ]
    },
    {
     "name": "stdout",
     "output_type": "stream",
     "text": [
      "Epoch 150, Loss 0.0235\n",
      "Training Accuracy: 0.9720, Testing Accuracy: 0.9708\n",
      "\n"
     ]
    },
    {
     "name": "stdout",
     "output_type": "stream",
     "text": [
      "Epoch 160, Loss 0.0229\n",
      "Training Accuracy: 0.9728, Testing Accuracy: 0.9713\n",
      "\n"
     ]
    },
    {
     "name": "stdout",
     "output_type": "stream",
     "text": [
      "Epoch 170, Loss 0.0223\n",
      "Training Accuracy: 0.9735, Testing Accuracy: 0.9718\n",
      "\n"
     ]
    },
    {
     "name": "stdout",
     "output_type": "stream",
     "text": [
      "Epoch 180, Loss 0.0218\n",
      "Training Accuracy: 0.9741, Testing Accuracy: 0.9713\n",
      "\n"
     ]
    },
    {
     "name": "stdout",
     "output_type": "stream",
     "text": [
      "Epoch 190, Loss 0.0213\n",
      "Training Accuracy: 0.9750, Testing Accuracy: 0.9713\n",
      "\n"
     ]
    },
    {
     "name": "stdout",
     "output_type": "stream",
     "text": [
      "Epoch 200, Loss 0.0208\n",
      "Training Accuracy: 0.9762, Testing Accuracy: 0.9718\n",
      "\n"
     ]
    },
    {
     "name": "stdout",
     "output_type": "stream",
     "text": [
      "Epoch 210, Loss 0.0203\n",
      "Training Accuracy: 0.9768, Testing Accuracy: 0.9728\n",
      "\n"
     ]
    },
    {
     "name": "stdout",
     "output_type": "stream",
     "text": [
      "Epoch 220, Loss 0.0199\n",
      "Training Accuracy: 0.9774, Testing Accuracy: 0.9728\n",
      "\n"
     ]
    },
    {
     "name": "stdout",
     "output_type": "stream",
     "text": [
      "Epoch 230, Loss 0.0195\n",
      "Training Accuracy: 0.9779, Testing Accuracy: 0.9733\n",
      "\n"
     ]
    },
    {
     "name": "stdout",
     "output_type": "stream",
     "text": [
      "Epoch 240, Loss 0.0191\n",
      "Training Accuracy: 0.9789, Testing Accuracy: 0.9743\n",
      "\n"
     ]
    },
    {
     "name": "stdout",
     "output_type": "stream",
     "text": [
      "Epoch 250, Loss 0.0188\n",
      "Training Accuracy: 0.9791, Testing Accuracy: 0.9738\n",
      "\n"
     ]
    },
    {
     "data": {
      "text/plain": [
       "0.042272907565751625"
      ]
     },
     "execution_count": 20,
     "metadata": {},
     "output_type": "execute_result"
    }
   ],
   "source": [
    "print(\"====== Neural Network ======\")\n",
    "learner_nn.train_loop(dl)"
   ]
  },
  {
   "cell_type": "markdown",
   "metadata": {
    "papermill": {
     "duration": 0.036432,
     "end_time": "2020-11-11T10:06:01.986946",
     "exception": false,
     "start_time": "2020-11-11T10:06:01.950514",
     "status": "completed"
    },
    "tags": []
   },
   "source": [
    "### Logistic Regression based Implementation."
   ]
  },
  {
   "cell_type": "code",
   "execution_count": 21,
   "metadata": {
    "execution": {
     "iopub.execute_input": "2020-11-11T10:06:02.064499Z",
     "iopub.status.busy": "2020-11-11T10:06:02.063690Z",
     "iopub.status.idle": "2020-11-11T10:06:02.076363Z",
     "shell.execute_reply": "2020-11-11T10:06:02.075898Z"
    },
    "papermill": {
     "duration": 0.053596,
     "end_time": "2020-11-11T10:06:02.076488",
     "exception": false,
     "start_time": "2020-11-11T10:06:02.022892",
     "status": "completed"
    },
    "tags": []
   },
   "outputs": [],
   "source": [
    "learner_lr = Learner(loss, model_lr, opt, config.num_epochs)\n",
    "acc_lr = ClfCallback(learner_lr, config.bs, training_xdata , testing_xdata, training_ydata, testing_ydata)\n",
    "learner_lr.set_callbacks([acc_lr])"
   ]
  },
  {
   "cell_type": "code",
   "execution_count": 22,
   "metadata": {
    "execution": {
     "iopub.execute_input": "2020-11-11T10:06:02.166753Z",
     "iopub.status.busy": "2020-11-11T10:06:02.158573Z",
     "iopub.status.idle": "2020-11-11T10:06:16.893178Z",
     "shell.execute_reply": "2020-11-11T10:06:16.894001Z"
    },
    "papermill": {
     "duration": 14.781834,
     "end_time": "2020-11-11T10:06:16.894168",
     "exception": false,
     "start_time": "2020-11-11T10:06:02.112334",
     "status": "completed"
    },
    "tags": []
   },
   "outputs": [
    {
     "name": "stdout",
     "output_type": "stream",
     "text": [
      "====== Logistic Regression ======\n",
      "Epoch 0, Loss 0.2383\n",
      "Training Accuracy: 0.7109, Testing Accuracy: 0.7228\n",
      "\n"
     ]
    },
    {
     "name": "stdout",
     "output_type": "stream",
     "text": [
      "Epoch 10, Loss 0.1028\n",
      "Training Accuracy: 0.9110, Testing Accuracy: 0.9269\n",
      "\n"
     ]
    },
    {
     "name": "stdout",
     "output_type": "stream",
     "text": [
      "Epoch 20, Loss 0.0789\n",
      "Training Accuracy: 0.9301, Testing Accuracy: 0.9415\n",
      "\n"
     ]
    },
    {
     "name": "stdout",
     "output_type": "stream",
     "text": [
      "Epoch 30, Loss 0.068\n",
      "Training Accuracy: 0.9370, Testing Accuracy: 0.9501\n",
      "\n"
     ]
    },
    {
     "name": "stdout",
     "output_type": "stream",
     "text": [
      "Epoch 40, Loss 0.0614\n",
      "Training Accuracy: 0.9417, Testing Accuracy: 0.9536\n",
      "\n"
     ]
    },
    {
     "name": "stdout",
     "output_type": "stream",
     "text": [
      "Epoch 50, Loss 0.057\n",
      "Training Accuracy: 0.9443, Testing Accuracy: 0.9561\n",
      "\n"
     ]
    },
    {
     "name": "stdout",
     "output_type": "stream",
     "text": [
      "Epoch 60, Loss 0.0537\n",
      "Training Accuracy: 0.9461, Testing Accuracy: 0.9567\n",
      "\n"
     ]
    },
    {
     "name": "stdout",
     "output_type": "stream",
     "text": [
      "Epoch 70, Loss 0.0512\n",
      "Training Accuracy: 0.9479, Testing Accuracy: 0.9567\n",
      "\n"
     ]
    },
    {
     "name": "stdout",
     "output_type": "stream",
     "text": [
      "Epoch 80, Loss 0.0492\n",
      "Training Accuracy: 0.9499, Testing Accuracy: 0.9587\n",
      "\n"
     ]
    },
    {
     "name": "stdout",
     "output_type": "stream",
     "text": [
      "Epoch 90, Loss 0.0475\n",
      "Training Accuracy: 0.9521, Testing Accuracy: 0.9602\n",
      "\n"
     ]
    },
    {
     "name": "stdout",
     "output_type": "stream",
     "text": [
      "Epoch 100, Loss 0.0461\n",
      "Training Accuracy: 0.9534, Testing Accuracy: 0.9612\n",
      "\n"
     ]
    },
    {
     "name": "stdout",
     "output_type": "stream",
     "text": [
      "Epoch 110, Loss 0.0449\n",
      "Training Accuracy: 0.9548, Testing Accuracy: 0.9617\n",
      "\n"
     ]
    },
    {
     "name": "stdout",
     "output_type": "stream",
     "text": [
      "Epoch 120, Loss 0.0438\n",
      "Training Accuracy: 0.9551, Testing Accuracy: 0.9642\n",
      "\n"
     ]
    },
    {
     "name": "stdout",
     "output_type": "stream",
     "text": [
      "Epoch 130, Loss 0.0429\n",
      "Training Accuracy: 0.9559, Testing Accuracy: 0.9632\n",
      "\n"
     ]
    },
    {
     "name": "stdout",
     "output_type": "stream",
     "text": [
      "Epoch 140, Loss 0.0421\n",
      "Training Accuracy: 0.9564, Testing Accuracy: 0.9637\n",
      "\n"
     ]
    },
    {
     "name": "stdout",
     "output_type": "stream",
     "text": [
      "Epoch 150, Loss 0.0414\n",
      "Training Accuracy: 0.9570, Testing Accuracy: 0.9642\n",
      "\n"
     ]
    },
    {
     "name": "stdout",
     "output_type": "stream",
     "text": [
      "Epoch 160, Loss 0.0407\n",
      "Training Accuracy: 0.9571, Testing Accuracy: 0.9642\n",
      "\n"
     ]
    },
    {
     "name": "stdout",
     "output_type": "stream",
     "text": [
      "Epoch 170, Loss 0.0401\n",
      "Training Accuracy: 0.9573, Testing Accuracy: 0.9647\n",
      "\n"
     ]
    },
    {
     "name": "stdout",
     "output_type": "stream",
     "text": [
      "Epoch 180, Loss 0.0395\n",
      "Training Accuracy: 0.9577, Testing Accuracy: 0.9647\n",
      "\n"
     ]
    },
    {
     "name": "stdout",
     "output_type": "stream",
     "text": [
      "Epoch 190, Loss 0.039\n",
      "Training Accuracy: 0.9580, Testing Accuracy: 0.9652\n",
      "\n"
     ]
    },
    {
     "name": "stdout",
     "output_type": "stream",
     "text": [
      "Epoch 200, Loss 0.0385\n",
      "Training Accuracy: 0.9587, Testing Accuracy: 0.9652\n",
      "\n"
     ]
    },
    {
     "name": "stdout",
     "output_type": "stream",
     "text": [
      "Epoch 210, Loss 0.0381\n",
      "Training Accuracy: 0.9589, Testing Accuracy: 0.9652\n",
      "\n"
     ]
    },
    {
     "name": "stdout",
     "output_type": "stream",
     "text": [
      "Epoch 220, Loss 0.0377\n",
      "Training Accuracy: 0.9593, Testing Accuracy: 0.9662\n",
      "\n"
     ]
    },
    {
     "name": "stdout",
     "output_type": "stream",
     "text": [
      "Epoch 230, Loss 0.0373\n",
      "Training Accuracy: 0.9594, Testing Accuracy: 0.9662\n",
      "\n"
     ]
    },
    {
     "name": "stdout",
     "output_type": "stream",
     "text": [
      "Epoch 240, Loss 0.037\n",
      "Training Accuracy: 0.9598, Testing Accuracy: 0.9657\n",
      "\n"
     ]
    },
    {
     "name": "stdout",
     "output_type": "stream",
     "text": [
      "Epoch 250, Loss 0.0366\n",
      "Training Accuracy: 0.9602, Testing Accuracy: 0.9652\n",
      "\n"
     ]
    },
    {
     "data": {
      "text/plain": [
       "0.01873761912507925"
      ]
     },
     "execution_count": 22,
     "metadata": {},
     "output_type": "execute_result"
    }
   ],
   "source": [
    "print(\"====== Logistic Regression ======\")\n",
    "learner_lr.train_loop(dl)"
   ]
  },
  {
   "cell_type": "markdown",
   "metadata": {
    "papermill": {
     "duration": 0.04385,
     "end_time": "2020-11-11T10:06:16.982394",
     "exception": false,
     "start_time": "2020-11-11T10:06:16.938544",
     "status": "completed"
    },
    "tags": []
   },
   "source": [
    "### Comparing results of NN and LR"
   ]
  },
  {
   "cell_type": "code",
   "execution_count": 23,
   "metadata": {
    "execution": {
     "iopub.execute_input": "2020-11-11T10:06:17.074474Z",
     "iopub.status.busy": "2020-11-11T10:06:17.073872Z",
     "iopub.status.idle": "2020-11-11T10:06:17.301192Z",
     "shell.execute_reply": "2020-11-11T10:06:17.300575Z"
    },
    "papermill": {
     "duration": 0.275809,
     "end_time": "2020-11-11T10:06:17.301334",
     "exception": false,
     "start_time": "2020-11-11T10:06:17.025525",
     "status": "completed"
    },
    "tags": []
   },
   "outputs": [
    {
     "data": {
      "text/plain": [
       "<matplotlib.legend.Legend at 0x7f3184c82160>"
      ]
     },
     "execution_count": 23,
     "metadata": {},
     "output_type": "execute_result"
    },
    {
     "data": {
      "image/png": "[encoded data removed]",
      "text/plain": [
       "<Figure size 1080x720 with 1 Axes>"
      ]
     },
     "metadata": {
      "needs_background": "light"
     },
     "output_type": "display_data"
    }
   ],
   "source": [
    "plt.figure(figsize=(15,10))\n",
    "\n",
    "# Neural Network plots\n",
    "plt.plot(acc_nn.accuracies, 'r-', label = \"Training Accuracies - NN\")\n",
    "plt.plot(acc_nn.test_accuracies, 'g-', label = \"Testing Accuracies - NN\")\n",
    "\n",
    "# Logistic Regression plots\n",
    "plt.plot(acc_lr.accuracies, 'k-', label = \"Training Accuracies - LR\")\n",
    "plt.plot(acc_lr.test_accuracies, 'b-', label = \"Testing Accuracies - LR\")\n",
    "\n",
    "plt.ylim(0.8, 1)\n",
    "\n",
    "plt.legend()\n",
    "\n"
   ]
  },
  {
   "cell_type": "markdown",
   "metadata": {
    "papermill": {
     "duration": 0.044129,
     "end_time": "2020-11-11T10:06:17.388290",
     "exception": false,
     "start_time": "2020-11-11T10:06:17.344161",
     "status": "completed"
    },
    "tags": []
   },
   "source": [
    "### From the plot, we can observe the following:\n",
    "- Neural Network achieves higher accuracy than the Logistic Regression model.\n",
    "- This apparently, is because of overfitting, i.e. NN captures more noise than data.\n",
    "- Testing accuracy of NN drops below the Training accuracy at higher epochs. This explains the over-fitting on training data.\n",
    "- Logistic Regression gives a reliable accuracy, without the above mentioned problem.\n"
   ]
  },
  {
   "cell_type": "markdown",
   "metadata": {
    "papermill": {
     "duration": 0.042189,
     "end_time": "2020-11-11T10:06:17.472728",
     "exception": false,
     "start_time": "2020-11-11T10:06:17.430539",
     "status": "completed"
    },
    "tags": []
   },
   "source": [
    "### Moving till the last but one layer (excluding it).\n",
    "#### Plotting the outputs of this layer of the NN."
   ]
  },
  {
   "cell_type": "code",
   "execution_count": 24,
   "metadata": {
    "execution": {
     "iopub.execute_input": "2020-11-11T10:06:17.564067Z",
     "iopub.status.busy": "2020-11-11T10:06:17.563441Z",
     "iopub.status.idle": "2020-11-11T10:06:17.576061Z",
     "shell.execute_reply": "2020-11-11T10:06:17.575488Z"
    },
    "papermill": {
     "duration": 0.060017,
     "end_time": "2020-11-11T10:06:17.576205",
     "exception": false,
     "start_time": "2020-11-11T10:06:17.516188",
     "status": "completed"
    },
    "tags": []
   },
   "outputs": [],
   "source": [
    "model_new = Model(layers[:-2])"
   ]
  },
  {
   "cell_type": "code",
   "execution_count": 25,
   "metadata": {
    "execution": {
     "iopub.execute_input": "2020-11-11T10:06:17.668669Z",
     "iopub.status.busy": "2020-11-11T10:06:17.668061Z",
     "iopub.status.idle": "2020-11-11T10:06:17.688195Z",
     "shell.execute_reply": "2020-11-11T10:06:17.687665Z"
    },
    "papermill": {
     "duration": 0.067598,
     "end_time": "2020-11-11T10:06:17.688335",
     "exception": false,
     "start_time": "2020-11-11T10:06:17.620737",
     "status": "completed"
    },
    "tags": []
   },
   "outputs": [],
   "source": [
    "plot_testing = model_new(testing_xdata)"
   ]
  },
  {
   "cell_type": "code",
   "execution_count": 26,
   "metadata": {
    "execution": {
     "iopub.execute_input": "2020-11-11T10:06:17.787200Z",
     "iopub.status.busy": "2020-11-11T10:06:17.786611Z",
     "iopub.status.idle": "2020-11-11T10:06:17.994081Z",
     "shell.execute_reply": "2020-11-11T10:06:17.993525Z"
    },
    "papermill": {
     "duration": 0.260832,
     "end_time": "2020-11-11T10:06:17.994220",
     "exception": false,
     "start_time": "2020-11-11T10:06:17.733388",
     "status": "completed"
    },
    "tags": []
   },
   "outputs": [
    {
     "data": {
      "text/plain": [
       "Text(0.5, 1.0, 'Outputs')"
      ]
     },
     "execution_count": 26,
     "metadata": {},
     "output_type": "execute_result"
    },
    {
     "data": {
      "image/png": "[encoded data removed]",
      "text/plain": [
       "<Figure size 576x504 with 1 Axes>"
      ]
     },
     "metadata": {
      "needs_background": "light"
     },
     "output_type": "display_data"
    }
   ],
   "source": [
    "plt.figure(figsize=(8,7))\n",
    "plt.scatter(plot_testing[:,0], plot_testing[:,1], alpha = 0.1, c = y_test.ravel());\n",
    "plt.title('Outputs')"
   ]
  },
  {
   "cell_type": "markdown",
   "metadata": {
    "papermill": {
     "duration": 0.044073,
     "end_time": "2020-11-11T10:06:18.085523",
     "exception": false,
     "start_time": "2020-11-11T10:06:18.041450",
     "status": "completed"
    },
    "tags": []
   },
   "source": [
    "### Plotting probability contours"
   ]
  },
  {
   "cell_type": "code",
   "execution_count": 27,
   "metadata": {
    "execution": {
     "iopub.execute_input": "2020-11-11T10:06:18.182924Z",
     "iopub.status.busy": "2020-11-11T10:06:18.182343Z",
     "iopub.status.idle": "2020-11-11T10:06:18.194565Z",
     "shell.execute_reply": "2020-11-11T10:06:18.195008Z"
    },
    "papermill": {
     "duration": 0.064206,
     "end_time": "2020-11-11T10:06:18.195171",
     "exception": false,
     "start_time": "2020-11-11T10:06:18.130965",
     "status": "completed"
    },
    "tags": []
   },
   "outputs": [],
   "source": [
    "model_prob = Model(layers[-2:]) "
   ]
  },
  {
   "cell_type": "code",
   "execution_count": 28,
   "metadata": {
    "execution": {
     "iopub.execute_input": "2020-11-11T10:06:18.291064Z",
     "iopub.status.busy": "2020-11-11T10:06:18.290455Z",
     "iopub.status.idle": "2020-11-11T10:06:18.304425Z",
     "shell.execute_reply": "2020-11-11T10:06:18.304888Z"
    },
    "papermill": {
     "duration": 0.063736,
     "end_time": "2020-11-11T10:06:18.305049",
     "exception": false,
     "start_time": "2020-11-11T10:06:18.241313",
     "status": "completed"
    },
    "tags": []
   },
   "outputs": [],
   "source": [
    "# Adjust the x and y ranges according to the above generated plot.\n",
    "x_range = np.linspace(-4, 1, 100) \n",
    "y_range = np.linspace(-6, 6, 100) \n",
    "x_grid, y_grid = np.meshgrid(x_range, y_range) # x_grid and y_grig are of size 100 X 100\n",
    "\n",
    "# converting x_grid and y_grid to continuous arrays\n",
    "x_grid_flat = np.ravel(x_grid)\n",
    "y_grid_flat = np.ravel(y_grid)\n",
    "\n",
    "# The last layer of the current model takes two columns as input. Hence transpose of np.vstack() is required.\n",
    "X = np.vstack((x_grid_flat, y_grid_flat)).T\n",
    "\n",
    "# x_grid and y_grid are of size 100 x 100\n",
    "probability_contour = model_prob(X).reshape(100,100) "
   ]
  },
  {
   "cell_type": "code",
   "execution_count": 29,
   "metadata": {
    "execution": {
     "iopub.execute_input": "2020-11-11T10:06:18.407460Z",
     "iopub.status.busy": "2020-11-11T10:06:18.406875Z",
     "iopub.status.idle": "2020-11-11T10:06:18.654812Z",
     "shell.execute_reply": "2020-11-11T10:06:18.654355Z"
    },
    "papermill": {
     "duration": 0.302774,
     "end_time": "2020-11-11T10:06:18.654944",
     "exception": false,
     "start_time": "2020-11-11T10:06:18.352170",
     "status": "completed"
    },
    "tags": []
   },
   "outputs": [
    {
     "data": {
      "image/png": "[encoded data removed]",
      "text/plain": [
       "<Figure size 720x648 with 1 Axes>"
      ]
     },
     "metadata": {
      "needs_background": "light"
     },
     "output_type": "display_data"
    }
   ],
   "source": [
    "plt.figure(figsize=(10,9))\n",
    "plt.scatter(plot_testing[:,0], plot_testing[:,1], alpha = 0.1, c = y_test.ravel())\n",
    "contours = plt.contour(x_grid,y_grid,probability_contour)\n",
    "plt.title('Probability Contours')\n",
    "plt.clabel(contours, inline = True );"
   ]
  }
 ],
 "metadata": {
  "kernelspec": {
   "display_name": "Python 3",
   "language": "python",
   "name": "python3"
  },
  "language_info": {
   "codemirror_mode": {
    "name": "ipython",
    "version": 3
   },
   "file_extension": ".py",
   "mimetype": "text/x-python",
   "name": "python",
   "nbconvert_exporter": "python",
   "pygments_lexer": "ipython3",
   "version": "3.6.12"
  },
  "papermill": {
   "duration": 106.765116,
   "end_time": "2020-11-11T10:06:19.009902",
   "environment_variables": {},
   "exception": null,
   "input_path": "2020-08-11-NeuralNetwork.ipynb",
   "output_path": "2020-08-11-NeuralNetwork.ipynb",
   "parameters": {},
   "start_time": "2020-11-11T10:04:32.244786",
   "version": "2.1.2"
  }
 },
 "nbformat": 4,
 "nbformat_minor": 4
}