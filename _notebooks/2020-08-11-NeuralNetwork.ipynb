{
 "cells": [
  {
   "cell_type": "markdown",
   "metadata": {
    "papermill": {
     "duration": 0.026296,
     "end_time": "2020-11-14T00:08:39.344044",
     "exception": false,
     "start_time": "2020-11-14T00:08:39.317748",
     "status": "completed"
    },
    "tags": []
   },
   "source": [
    "# \"A Basic Neural Network: Differentiate Hand-Written Digits\"\n",
    "\n",
    "- badges: true\n",
    "- author: Akshith Sriram"
   ]
  },
  {
   "cell_type": "markdown",
   "metadata": {
    "papermill": {
     "duration": 0.021215,
     "end_time": "2020-11-14T00:08:39.385505",
     "exception": false,
     "start_time": "2020-11-14T00:08:39.364290",
     "status": "completed"
    },
    "tags": []
   },
   "source": [
    "### Key Objectives:\n",
    "- Building a neural network that differentiates two hand-written digits 3 and 8.\n",
    "- Comparing the results of this Neural Network (NN) to that of a Logistic Regression (LR) model.\n",
    "\n",
    "### Requirements:\n",
    "- 'Kudzu' : A neural network library that was designed during our course by [Univ.AI](www.univ.ai). \n",
    "- MNIST Database\n",
    "\n",
    "If MNIST is not installed, use the command `!pip install mnist` given below.\n",
    "It can be run both from the command line and Jupyter Notebook."
   ]
  },
  {
   "cell_type": "code",
   "execution_count": 1,
   "metadata": {
    "execution": {
     "iopub.execute_input": "2020-11-14T00:08:39.435015Z",
     "iopub.status.busy": "2020-11-14T00:08:39.434428Z",
     "iopub.status.idle": "2020-11-14T00:08:40.736174Z",
     "shell.execute_reply": "2020-11-14T00:08:40.734744Z"
    },
    "papermill": {
     "duration": 1.330541,
     "end_time": "2020-11-14T00:08:40.736358",
     "exception": false,
     "start_time": "2020-11-14T00:08:39.405817",
     "status": "completed"
    },
    "tags": []
   },
   "outputs": [
    {
     "name": "stdout",
     "output_type": "stream",
     "text": [
      "Collecting mnist\r\n"
     ]
    },
    {
     "name": "stdout",
     "output_type": "stream",
     "text": [
      "  Downloading mnist-0.2.2-py2.py3-none-any.whl (3.5 kB)\r\n",
      "Requirement already satisfied: numpy in /opt/hostedtoolcache/Python/3.6.12/x64/lib/python3.6/site-packages (from mnist) (1.19.4)\r\n"
     ]
    },
    {
     "name": "stdout",
     "output_type": "stream",
     "text": [
      "Installing collected packages: mnist\r\n"
     ]
    },
    {
     "name": "stdout",
     "output_type": "stream",
     "text": [
      "Successfully installed mnist-0.2.2\r\n"
     ]
    }
   ],
   "source": [
    "!pip install mnist "
   ]
  },
  {
   "cell_type": "markdown",
   "metadata": {
    "papermill": {
     "duration": 0.024373,
     "end_time": "2020-11-14T00:08:40.784591",
     "exception": false,
     "start_time": "2020-11-14T00:08:40.760218",
     "status": "completed"
    },
    "tags": []
   },
   "source": [
    "#### Importing necessary libraries"
   ]
  },
  {
   "cell_type": "code",
   "execution_count": 2,
   "metadata": {
    "execution": {
     "iopub.execute_input": "2020-11-14T00:08:40.848474Z",
     "iopub.status.busy": "2020-11-14T00:08:40.840358Z",
     "iopub.status.idle": "2020-11-14T00:08:41.366360Z",
     "shell.execute_reply": "2020-11-14T00:08:41.364790Z"
    },
    "papermill": {
     "duration": 0.557929,
     "end_time": "2020-11-14T00:08:41.366603",
     "exception": false,
     "start_time": "2020-11-14T00:08:40.808674",
     "status": "completed"
    },
    "tags": []
   },
   "outputs": [],
   "source": [
    "%load_ext autoreload\n",
    "%autoreload 2\n",
    "\n",
    "%matplotlib inline\n",
    "import matplotlib.pyplot as plt\n",
    "\n",
    "import numpy as np\n",
    "import pandas as pd"
   ]
  },
  {
   "cell_type": "markdown",
   "metadata": {
    "papermill": {
     "duration": 0.024148,
     "end_time": "2020-11-14T00:08:41.415770",
     "exception": false,
     "start_time": "2020-11-14T00:08:41.391622",
     "status": "completed"
    },
    "tags": []
   },
   "source": [
    "### Preparing the Data"
   ]
  },
  {
   "cell_type": "code",
   "execution_count": 3,
   "metadata": {
    "execution": {
     "iopub.execute_input": "2020-11-14T00:08:41.466482Z",
     "iopub.status.busy": "2020-11-14T00:08:41.465927Z",
     "iopub.status.idle": "2020-11-14T00:08:41.479323Z",
     "shell.execute_reply": "2020-11-14T00:08:41.479740Z"
    },
    "papermill": {
     "duration": 0.040237,
     "end_time": "2020-11-14T00:08:41.479883",
     "exception": false,
     "start_time": "2020-11-14T00:08:41.439646",
     "status": "completed"
    },
    "tags": []
   },
   "outputs": [],
   "source": [
    "import mnist"
   ]
  },
  {
   "cell_type": "code",
   "execution_count": 4,
   "metadata": {
    "execution": {
     "iopub.execute_input": "2020-11-14T00:08:41.531329Z",
     "iopub.status.busy": "2020-11-14T00:08:41.530779Z",
     "iopub.status.idle": "2020-11-14T00:08:42.239095Z",
     "shell.execute_reply": "2020-11-14T00:08:42.240060Z"
    },
    "papermill": {
     "duration": 0.736961,
     "end_time": "2020-11-14T00:08:42.240254",
     "exception": false,
     "start_time": "2020-11-14T00:08:41.503293",
     "status": "completed"
    },
    "tags": []
   },
   "outputs": [],
   "source": [
    "train_images = mnist.train_images()\n",
    "train_labels = mnist.train_labels()"
   ]
  },
  {
   "cell_type": "code",
   "execution_count": 5,
   "metadata": {
    "execution": {
     "iopub.execute_input": "2020-11-14T00:08:43.012731Z",
     "iopub.status.busy": "2020-11-14T00:08:43.012167Z",
     "iopub.status.idle": "2020-11-14T00:08:43.028256Z",
     "shell.execute_reply": "2020-11-14T00:08:43.027880Z"
    },
    "papermill": {
     "duration": 0.663292,
     "end_time": "2020-11-14T00:08:43.028356",
     "exception": false,
     "start_time": "2020-11-14T00:08:42.365064",
     "status": "completed"
    },
    "tags": []
   },
   "outputs": [
    {
     "data": {
      "text/plain": [
       "((60000, 28, 28), (60000,))"
      ]
     },
     "execution_count": 5,
     "metadata": {},
     "output_type": "execute_result"
    }
   ],
   "source": [
    "train_images.shape, train_labels.shape"
   ]
  },
  {
   "cell_type": "code",
   "execution_count": 6,
   "metadata": {
    "execution": {
     "iopub.execute_input": "2020-11-14T00:08:43.079290Z",
     "iopub.status.busy": "2020-11-14T00:08:43.078812Z",
     "iopub.status.idle": "2020-11-14T00:08:43.328412Z",
     "shell.execute_reply": "2020-11-14T00:08:43.327516Z"
    },
    "papermill": {
     "duration": 0.27893,
     "end_time": "2020-11-14T00:08:43.328646",
     "exception": false,
     "start_time": "2020-11-14T00:08:43.049716",
     "status": "completed"
    },
    "tags": []
   },
   "outputs": [],
   "source": [
    "test_images = mnist.test_images()\n",
    "test_labels = mnist.test_labels()"
   ]
  },
  {
   "cell_type": "code",
   "execution_count": 7,
   "metadata": {
    "execution": {
     "iopub.execute_input": "2020-11-14T00:08:43.377775Z",
     "iopub.status.busy": "2020-11-14T00:08:43.377283Z",
     "iopub.status.idle": "2020-11-14T00:08:43.392495Z",
     "shell.execute_reply": "2020-11-14T00:08:43.392065Z"
    },
    "papermill": {
     "duration": 0.040456,
     "end_time": "2020-11-14T00:08:43.392588",
     "exception": false,
     "start_time": "2020-11-14T00:08:43.352132",
     "status": "completed"
    },
    "tags": []
   },
   "outputs": [
    {
     "data": {
      "text/plain": [
       "((10000, 28, 28), (10000,))"
      ]
     },
     "execution_count": 7,
     "metadata": {},
     "output_type": "execute_result"
    }
   ],
   "source": [
    "test_images.shape, test_labels.shape"
   ]
  },
  {
   "cell_type": "code",
   "execution_count": 8,
   "metadata": {
    "execution": {
     "iopub.execute_input": "2020-11-14T00:08:43.442971Z",
     "iopub.status.busy": "2020-11-14T00:08:43.442482Z",
     "iopub.status.idle": "2020-11-14T00:08:43.576377Z",
     "shell.execute_reply": "2020-11-14T00:08:43.575914Z"
    },
    "papermill": {
     "duration": 0.160966,
     "end_time": "2020-11-14T00:08:43.576514",
     "exception": false,
     "start_time": "2020-11-14T00:08:43.415548",
     "status": "completed"
    },
    "tags": []
   },
   "outputs": [
    {
     "name": "stdout",
     "output_type": "stream",
     "text": [
      "2\n"
     ]
    },
    {
     "data": {
      "text/plain": [
       "<matplotlib.image.AxesImage at 0x7fb304f95668>"
      ]
     },
     "execution_count": 8,
     "metadata": {},
     "output_type": "execute_result"
    },
    {
     "data": {
      "image/png": "[encoded data removed]",
      "text/plain": [
       "<Figure size 432x288 with 1 Axes>"
      ]
     },
     "metadata": {
      "needs_background": "light"
     },
     "output_type": "display_data"
    }
   ],
   "source": [
    "image_index = 7776 # You may select anything up to 60,000\n",
    "print(train_labels[image_index]) \n",
    "plt.imshow(train_images[image_index], cmap='Greys')"
   ]
  },
  {
   "cell_type": "markdown",
   "metadata": {
    "papermill": {
     "duration": 0.025351,
     "end_time": "2020-11-14T00:08:43.628532",
     "exception": false,
     "start_time": "2020-11-14T00:08:43.603181",
     "status": "completed"
    },
    "tags": []
   },
   "source": [
    "## Filter data to get 3 and 8 out"
   ]
  },
  {
   "cell_type": "code",
   "execution_count": 9,
   "metadata": {
    "execution": {
     "iopub.execute_input": "2020-11-14T00:08:43.684676Z",
     "iopub.status.busy": "2020-11-14T00:08:43.684066Z",
     "iopub.status.idle": "2020-11-14T00:08:43.701766Z",
     "shell.execute_reply": "2020-11-14T00:08:43.701335Z"
    },
    "papermill": {
     "duration": 0.047276,
     "end_time": "2020-11-14T00:08:43.701890",
     "exception": false,
     "start_time": "2020-11-14T00:08:43.654614",
     "status": "completed"
    },
    "tags": []
   },
   "outputs": [],
   "source": [
    "train_filter = np.where((train_labels == 3 ) | (train_labels == 8))\n",
    "test_filter = np.where((test_labels == 3) | (test_labels == 8))\n",
    "X_train, y_train = train_images[train_filter], train_labels[train_filter]\n",
    "X_test, y_test = test_images[test_filter], test_labels[test_filter]"
   ]
  },
  {
   "cell_type": "markdown",
   "metadata": {
    "papermill": {
     "duration": 0.024184,
     "end_time": "2020-11-14T00:08:43.752147",
     "exception": false,
     "start_time": "2020-11-14T00:08:43.727963",
     "status": "completed"
    },
    "tags": []
   },
   "source": [
    "We normalize the pixel values in the 0 to 1 range"
   ]
  },
  {
   "cell_type": "code",
   "execution_count": 10,
   "metadata": {
    "execution": {
     "iopub.execute_input": "2020-11-14T00:08:43.802224Z",
     "iopub.status.busy": "2020-11-14T00:08:43.801598Z",
     "iopub.status.idle": "2020-11-14T00:08:43.858240Z",
     "shell.execute_reply": "2020-11-14T00:08:43.857665Z"
    },
    "papermill": {
     "duration": 0.082616,
     "end_time": "2020-11-14T00:08:43.858377",
     "exception": false,
     "start_time": "2020-11-14T00:08:43.775761",
     "status": "completed"
    },
    "tags": []
   },
   "outputs": [],
   "source": [
    "X_train = X_train/255.\n",
    "X_test = X_test/255."
   ]
  },
  {
   "cell_type": "markdown",
   "metadata": {
    "papermill": {
     "duration": 0.025394,
     "end_time": "2020-11-14T00:08:43.910647",
     "exception": false,
     "start_time": "2020-11-14T00:08:43.885253",
     "status": "completed"
    },
    "tags": []
   },
   "source": [
    "Setup the labels as 1 (when the digit is 3) and 0 (when the digit is 8)"
   ]
  },
  {
   "cell_type": "code",
   "execution_count": 11,
   "metadata": {
    "execution": {
     "iopub.execute_input": "2020-11-14T00:08:43.962305Z",
     "iopub.status.busy": "2020-11-14T00:08:43.961826Z",
     "iopub.status.idle": "2020-11-14T00:08:43.973924Z",
     "shell.execute_reply": "2020-11-14T00:08:43.974456Z"
    },
    "papermill": {
     "duration": 0.040762,
     "end_time": "2020-11-14T00:08:43.974599",
     "exception": false,
     "start_time": "2020-11-14T00:08:43.933837",
     "status": "completed"
    },
    "tags": []
   },
   "outputs": [],
   "source": [
    "y_train = 1*(y_train==3)\n",
    "y_test = 1*(y_test==3)"
   ]
  },
  {
   "cell_type": "code",
   "execution_count": 12,
   "metadata": {
    "execution": {
     "iopub.execute_input": "2020-11-14T00:08:44.026615Z",
     "iopub.status.busy": "2020-11-14T00:08:44.026015Z",
     "iopub.status.idle": "2020-11-14T00:08:44.041342Z",
     "shell.execute_reply": "2020-11-14T00:08:44.040929Z"
    },
    "papermill": {
     "duration": 0.042991,
     "end_time": "2020-11-14T00:08:44.041444",
     "exception": false,
     "start_time": "2020-11-14T00:08:43.998453",
     "status": "completed"
    },
    "tags": []
   },
   "outputs": [
    {
     "data": {
      "text/plain": [
       "((11982, 28, 28), (1984, 28, 28))"
      ]
     },
     "execution_count": 12,
     "metadata": {},
     "output_type": "execute_result"
    }
   ],
   "source": [
    "X_train.shape, X_test.shape"
   ]
  },
  {
   "cell_type": "markdown",
   "metadata": {
    "papermill": {
     "duration": 0.026204,
     "end_time": "2020-11-14T00:08:44.092286",
     "exception": false,
     "start_time": "2020-11-14T00:08:44.066082",
     "status": "completed"
    },
    "tags": []
   },
   "source": [
    "### Reshape the input data to create a linear array"
   ]
  },
  {
   "cell_type": "code",
   "execution_count": 13,
   "metadata": {
    "execution": {
     "iopub.execute_input": "2020-11-14T00:08:44.145550Z",
     "iopub.status.busy": "2020-11-14T00:08:44.144952Z",
     "iopub.status.idle": "2020-11-14T00:08:44.161772Z",
     "shell.execute_reply": "2020-11-14T00:08:44.162341Z"
    },
    "papermill": {
     "duration": 0.04635,
     "end_time": "2020-11-14T00:08:44.162483",
     "exception": false,
     "start_time": "2020-11-14T00:08:44.116133",
     "status": "completed"
    },
    "tags": []
   },
   "outputs": [
    {
     "data": {
      "text/plain": [
       "((11982, 784), (1984, 784))"
      ]
     },
     "execution_count": 13,
     "metadata": {},
     "output_type": "execute_result"
    }
   ],
   "source": [
    "X_train = X_train.reshape(X_train.shape[0], -1)\n",
    "X_test = X_test.reshape(X_test.shape[0], -1)\n",
    "X_train.shape, X_test.shape"
   ]
  },
  {
   "cell_type": "markdown",
   "metadata": {
    "papermill": {
     "duration": 0.027329,
     "end_time": "2020-11-14T00:08:44.215998",
     "exception": false,
     "start_time": "2020-11-14T00:08:44.188669",
     "status": "completed"
    },
    "tags": []
   },
   "source": [
    "### Importing appropriate functions from 'Kudzu'"
   ]
  },
  {
   "cell_type": "code",
   "execution_count": 14,
   "metadata": {
    "execution": {
     "iopub.execute_input": "2020-11-14T00:08:44.269738Z",
     "iopub.status.busy": "2020-11-14T00:08:44.269137Z",
     "iopub.status.idle": "2020-11-14T00:08:44.289493Z",
     "shell.execute_reply": "2020-11-14T00:08:44.289015Z"
    },
    "papermill": {
     "duration": 0.047703,
     "end_time": "2020-11-14T00:08:44.289621",
     "exception": false,
     "start_time": "2020-11-14T00:08:44.241918",
     "status": "completed"
    },
    "tags": []
   },
   "outputs": [],
   "source": [
    "from kudzu.layer import Sigmoid\n",
    "from kudzu.layer import Relu\n",
    "from kudzu.layer import Affine, Sigmoid\n",
    "\n",
    "from kudzu.model import Model\n",
    "from kudzu.train import Learner\n",
    "from kudzu.optim import GD\n",
    "from kudzu.data import Data, Dataloader, Sampler\n",
    "\n",
    "from kudzu.callbacks import AccCallback\n",
    "from kudzu.callbacks import ClfCallback\n",
    "\n",
    "from kudzu.loss import MSE"
   ]
  },
  {
   "cell_type": "markdown",
   "metadata": {
    "papermill": {
     "duration": 0.024163,
     "end_time": "2020-11-14T00:08:44.339278",
     "exception": false,
     "start_time": "2020-11-14T00:08:44.315115",
     "status": "completed"
    },
    "tags": []
   },
   "source": [
    "### Let us create a `Config` class, to store important parameters. \n",
    "This class essentially plays the role of a dictionary."
   ]
  },
  {
   "cell_type": "code",
   "execution_count": 15,
   "metadata": {
    "execution": {
     "iopub.execute_input": "2020-11-14T00:08:44.393096Z",
     "iopub.status.busy": "2020-11-14T00:08:44.392608Z",
     "iopub.status.idle": "2020-11-14T00:08:44.405713Z",
     "shell.execute_reply": "2020-11-14T00:08:44.406160Z"
    },
    "papermill": {
     "duration": 0.043137,
     "end_time": "2020-11-14T00:08:44.406298",
     "exception": false,
     "start_time": "2020-11-14T00:08:44.363161",
     "status": "completed"
    },
    "tags": []
   },
   "outputs": [],
   "source": [
    "class Config:\n",
    "    pass\n",
    "config = Config()\n",
    "config.lr = 0.001\n",
    "config.num_epochs = 251\n",
    "config.bs = 50"
   ]
  },
  {
   "cell_type": "markdown",
   "metadata": {
    "papermill": {
     "duration": 0.022402,
     "end_time": "2020-11-14T00:08:44.450833",
     "exception": false,
     "start_time": "2020-11-14T00:08:44.428431",
     "status": "completed"
    },
    "tags": []
   },
   "source": [
    "### Initializing data to the variables"
   ]
  },
  {
   "cell_type": "code",
   "execution_count": 16,
   "metadata": {
    "execution": {
     "iopub.execute_input": "2020-11-14T00:08:44.501542Z",
     "iopub.status.busy": "2020-11-14T00:08:44.501059Z",
     "iopub.status.idle": "2020-11-14T00:08:44.514310Z",
     "shell.execute_reply": "2020-11-14T00:08:44.514744Z"
    },
    "papermill": {
     "duration": 0.041053,
     "end_time": "2020-11-14T00:08:44.514885",
     "exception": false,
     "start_time": "2020-11-14T00:08:44.473832",
     "status": "completed"
    },
    "tags": []
   },
   "outputs": [],
   "source": [
    "data = Data(X_train, y_train.reshape(-1,1))\n",
    "sampler = Sampler(data, config.bs, shuffle=True)\n",
    "\n",
    "dl = Dataloader(data, sampler)\n",
    "\n",
    "opt = GD(config.lr)\n",
    "loss = MSE()"
   ]
  },
  {
   "cell_type": "code",
   "execution_count": 17,
   "metadata": {
    "execution": {
     "iopub.execute_input": "2020-11-14T00:08:44.567898Z",
     "iopub.status.busy": "2020-11-14T00:08:44.567328Z",
     "iopub.status.idle": "2020-11-14T00:08:44.577767Z",
     "shell.execute_reply": "2020-11-14T00:08:44.577290Z"
    },
    "papermill": {
     "duration": 0.040386,
     "end_time": "2020-11-14T00:08:44.577866",
     "exception": false,
     "start_time": "2020-11-14T00:08:44.537480",
     "status": "completed"
    },
    "tags": []
   },
   "outputs": [],
   "source": [
    "training_xdata = X_train\n",
    "testing_xdata = X_test\n",
    "training_ydata = y_train.reshape(-1,1)\n",
    "testing_ydata = y_test.reshape(-1,1)"
   ]
  },
  {
   "cell_type": "markdown",
   "metadata": {
    "papermill": {
     "duration": 0.02168,
     "end_time": "2020-11-14T00:08:44.623102",
     "exception": false,
     "start_time": "2020-11-14T00:08:44.601422",
     "status": "completed"
    },
    "tags": []
   },
   "source": [
    "### Running Models with the Training data\n",
    "Details about the network layers:\n",
    "- A first affine layer has 784 inputs and does 100 affine transforms. These are followed by a Relu\n",
    "- A second affine layer has 100 inputs from the 100 activations of the past layer, and does 100 affine transforms. These are followed by a Relu\n",
    "- A third affine layer has 100 activations and does 2 affine transformations to create an embedding for visualization. There is no non-linearity here.\n",
    "- A final \"logistic regression\" which has an affine transform from 2 inputs to 1 output, which is squeezed through a sigmoid.\n",
    "\n",
    "Help taken from Anshuman's Notebook."
   ]
  },
  {
   "cell_type": "code",
   "execution_count": 18,
   "metadata": {
    "execution": {
     "iopub.execute_input": "2020-11-14T00:08:44.677362Z",
     "iopub.status.busy": "2020-11-14T00:08:44.676759Z",
     "iopub.status.idle": "2020-11-14T00:08:44.694472Z",
     "shell.execute_reply": "2020-11-14T00:08:44.694878Z"
    },
    "papermill": {
     "duration": 0.047909,
     "end_time": "2020-11-14T00:08:44.695014",
     "exception": false,
     "start_time": "2020-11-14T00:08:44.647105",
     "status": "completed"
    },
    "tags": []
   },
   "outputs": [],
   "source": [
    "# layers for the Neural Network\n",
    "layers = [Affine(\"first\", 784, 100), Relu(\"first\"), Affine(\"second\", 100, 100), Relu(\"second\"), Affine(\"third\", 100, 2), Affine(\"final\", 2, 1), Sigmoid(\"final\")]\n",
    "model_nn = Model(layers)\n",
    "\n",
    "# layers for the Logistic Regression\n",
    "layers_lr = [Affine(\"logits\", 784, 1), Sigmoid(\"sigmoid\")]\n",
    "model_lr = Model(layers_lr)"
   ]
  },
  {
   "cell_type": "code",
   "execution_count": 19,
   "metadata": {
    "execution": {
     "iopub.execute_input": "2020-11-14T00:08:44.746421Z",
     "iopub.status.busy": "2020-11-14T00:08:44.745958Z",
     "iopub.status.idle": "2020-11-14T00:08:44.756579Z",
     "shell.execute_reply": "2020-11-14T00:08:44.756144Z"
    },
    "papermill": {
     "duration": 0.038894,
     "end_time": "2020-11-14T00:08:44.756679",
     "exception": false,
     "start_time": "2020-11-14T00:08:44.717785",
     "status": "completed"
    },
    "tags": []
   },
   "outputs": [],
   "source": [
    "# suffix _nn stands for Neural Network.\n",
    "learner_nn = Learner(loss, model_nn, opt, config.num_epochs)\n",
    "acc_nn = ClfCallback(learner_nn, config.bs, training_xdata , testing_xdata, training_ydata, testing_ydata)\n",
    "learner_nn.set_callbacks([acc_nn])"
   ]
  },
  {
   "cell_type": "code",
   "execution_count": 20,
   "metadata": {
    "execution": {
     "iopub.execute_input": "2020-11-14T00:08:44.806710Z",
     "iopub.status.busy": "2020-11-14T00:08:44.806211Z",
     "iopub.status.idle": "2020-11-14T00:10:06.718797Z",
     "shell.execute_reply": "2020-11-14T00:10:06.718264Z"
    },
    "papermill": {
     "duration": 81.938781,
     "end_time": "2020-11-14T00:10:06.718939",
     "exception": false,
     "start_time": "2020-11-14T00:08:44.780158",
     "status": "completed"
    },
    "tags": []
   },
   "outputs": [
    {
     "name": "stdout",
     "output_type": "stream",
     "text": [
      "====== Neural Network ======\n"
     ]
    },
    {
     "name": "stdout",
     "output_type": "stream",
     "text": [
      "Epoch 0, Loss 0.224\n",
      "Training Accuracy: 0.7919, Testing Accuracy: 0.8065\n",
      "\n"
     ]
    },
    {
     "name": "stdout",
     "output_type": "stream",
     "text": [
      "Epoch 10, Loss 0.0679\n",
      "Training Accuracy: 0.9291, Testing Accuracy: 0.9390\n",
      "\n"
     ]
    },
    {
     "name": "stdout",
     "output_type": "stream",
     "text": [
      "Epoch 20, Loss 0.047\n",
      "Training Accuracy: 0.9473, Testing Accuracy: 0.9572\n",
      "\n"
     ]
    },
    {
     "name": "stdout",
     "output_type": "stream",
     "text": [
      "Epoch 30, Loss 0.039\n",
      "Training Accuracy: 0.9552, Testing Accuracy: 0.9622\n",
      "\n"
     ]
    },
    {
     "name": "stdout",
     "output_type": "stream",
     "text": [
      "Epoch 40, Loss 0.0345\n",
      "Training Accuracy: 0.9603, Testing Accuracy: 0.9662\n",
      "\n"
     ]
    },
    {
     "name": "stdout",
     "output_type": "stream",
     "text": [
      "Epoch 50, Loss 0.0316\n",
      "Training Accuracy: 0.9638, Testing Accuracy: 0.9677\n",
      "\n"
     ]
    },
    {
     "name": "stdout",
     "output_type": "stream",
     "text": [
      "Epoch 60, Loss 0.0295\n",
      "Training Accuracy: 0.9661, Testing Accuracy: 0.9688\n",
      "\n"
     ]
    },
    {
     "name": "stdout",
     "output_type": "stream",
     "text": [
      "Epoch 70, Loss 0.0279\n",
      "Training Accuracy: 0.9680, Testing Accuracy: 0.9703\n",
      "\n"
     ]
    },
    {
     "name": "stdout",
     "output_type": "stream",
     "text": [
      "Epoch 80, Loss 0.0265\n",
      "Training Accuracy: 0.9695, Testing Accuracy: 0.9708\n",
      "\n"
     ]
    },
    {
     "name": "stdout",
     "output_type": "stream",
     "text": [
      "Epoch 90, Loss 0.0254\n",
      "Training Accuracy: 0.9706, Testing Accuracy: 0.9713\n",
      "\n"
     ]
    },
    {
     "name": "stdout",
     "output_type": "stream",
     "text": [
      "Epoch 100, Loss 0.0244\n",
      "Training Accuracy: 0.9715, Testing Accuracy: 0.9713\n",
      "\n"
     ]
    },
    {
     "name": "stdout",
     "output_type": "stream",
     "text": [
      "Epoch 110, Loss 0.0235\n",
      "Training Accuracy: 0.9723, Testing Accuracy: 0.9723\n",
      "\n"
     ]
    },
    {
     "name": "stdout",
     "output_type": "stream",
     "text": [
      "Epoch 120, Loss 0.0227\n",
      "Training Accuracy: 0.9737, Testing Accuracy: 0.9718\n",
      "\n"
     ]
    },
    {
     "name": "stdout",
     "output_type": "stream",
     "text": [
      "Epoch 130, Loss 0.0219\n",
      "Training Accuracy: 0.9743, Testing Accuracy: 0.9713\n",
      "\n"
     ]
    },
    {
     "name": "stdout",
     "output_type": "stream",
     "text": [
      "Epoch 140, Loss 0.0213\n",
      "Training Accuracy: 0.9753, Testing Accuracy: 0.9728\n",
      "\n"
     ]
    },
    {
     "name": "stdout",
     "output_type": "stream",
     "text": [
      "Epoch 150, Loss 0.0206\n",
      "Training Accuracy: 0.9760, Testing Accuracy: 0.9733\n",
      "\n"
     ]
    },
    {
     "name": "stdout",
     "output_type": "stream",
     "text": [
      "Epoch 160, Loss 0.02\n",
      "Training Accuracy: 0.9769, Testing Accuracy: 0.9738\n",
      "\n"
     ]
    },
    {
     "name": "stdout",
     "output_type": "stream",
     "text": [
      "Epoch 170, Loss 0.0195\n",
      "Training Accuracy: 0.9777, Testing Accuracy: 0.9738\n",
      "\n"
     ]
    },
    {
     "name": "stdout",
     "output_type": "stream",
     "text": [
      "Epoch 180, Loss 0.0189\n",
      "Training Accuracy: 0.9785, Testing Accuracy: 0.9748\n",
      "\n"
     ]
    },
    {
     "name": "stdout",
     "output_type": "stream",
     "text": [
      "Epoch 190, Loss 0.0184\n",
      "Training Accuracy: 0.9794, Testing Accuracy: 0.9758\n",
      "\n"
     ]
    },
    {
     "name": "stdout",
     "output_type": "stream",
     "text": [
      "Epoch 200, Loss 0.0179\n",
      "Training Accuracy: 0.9802, Testing Accuracy: 0.9758\n",
      "\n"
     ]
    },
    {
     "name": "stdout",
     "output_type": "stream",
     "text": [
      "Epoch 210, Loss 0.0174\n",
      "Training Accuracy: 0.9805, Testing Accuracy: 0.9758\n",
      "\n"
     ]
    },
    {
     "name": "stdout",
     "output_type": "stream",
     "text": [
      "Epoch 220, Loss 0.017\n",
      "Training Accuracy: 0.9811, Testing Accuracy: 0.9763\n",
      "\n"
     ]
    },
    {
     "name": "stdout",
     "output_type": "stream",
     "text": [
      "Epoch 230, Loss 0.0165\n",
      "Training Accuracy: 0.9816, Testing Accuracy: 0.9778\n",
      "\n"
     ]
    },
    {
     "name": "stdout",
     "output_type": "stream",
     "text": [
      "Epoch 240, Loss 0.0161\n",
      "Training Accuracy: 0.9824, Testing Accuracy: 0.9788\n",
      "\n"
     ]
    },
    {
     "name": "stdout",
     "output_type": "stream",
     "text": [
      "Epoch 250, Loss 0.0157\n",
      "Training Accuracy: 0.9827, Testing Accuracy: 0.9788\n",
      "\n"
     ]
    },
    {
     "data": {
      "text/plain": [
       "0.000969002614429351"
      ]
     },
     "execution_count": 20,
     "metadata": {},
     "output_type": "execute_result"
    }
   ],
   "source": [
    "print(\"====== Neural Network ======\")\n",
    "learner_nn.train_loop(dl)"
   ]
  },
  {
   "cell_type": "markdown",
   "metadata": {
    "papermill": {
     "duration": 0.034667,
     "end_time": "2020-11-14T00:10:06.789594",
     "exception": false,
     "start_time": "2020-11-14T00:10:06.754927",
     "status": "completed"
    },
    "tags": []
   },
   "source": [
    "### Logistic Regression based Implementation."
   ]
  },
  {
   "cell_type": "code",
   "execution_count": 21,
   "metadata": {
    "execution": {
     "iopub.execute_input": "2020-11-14T00:10:06.867251Z",
     "iopub.status.busy": "2020-11-14T00:10:06.866685Z",
     "iopub.status.idle": "2020-11-14T00:10:06.875288Z",
     "shell.execute_reply": "2020-11-14T00:10:06.874815Z"
    },
    "papermill": {
     "duration": 0.051468,
     "end_time": "2020-11-14T00:10:06.875411",
     "exception": false,
     "start_time": "2020-11-14T00:10:06.823943",
     "status": "completed"
    },
    "tags": []
   },
   "outputs": [],
   "source": [
    "learner_lr = Learner(loss, model_lr, opt, config.num_epochs)\n",
    "acc_lr = ClfCallback(learner_lr, config.bs, training_xdata , testing_xdata, training_ydata, testing_ydata)\n",
    "learner_lr.set_callbacks([acc_lr])"
   ]
  },
  {
   "cell_type": "code",
   "execution_count": 22,
   "metadata": {
    "execution": {
     "iopub.execute_input": "2020-11-14T00:10:06.957975Z",
     "iopub.status.busy": "2020-11-14T00:10:06.957378Z",
     "iopub.status.idle": "2020-11-14T00:10:21.762717Z",
     "shell.execute_reply": "2020-11-14T00:10:21.763512Z"
    },
    "papermill": {
     "duration": 14.8531,
     "end_time": "2020-11-14T00:10:21.763672",
     "exception": false,
     "start_time": "2020-11-14T00:10:06.910572",
     "status": "completed"
    },
    "tags": []
   },
   "outputs": [
    {
     "name": "stdout",
     "output_type": "stream",
     "text": [
      "====== Logistic Regression ======\n",
      "Epoch 0, Loss 0.2634\n",
      "Training Accuracy: 0.5878, Testing Accuracy: 0.6053\n",
      "\n"
     ]
    },
    {
     "name": "stdout",
     "output_type": "stream",
     "text": [
      "Epoch 10, Loss 0.1102\n",
      "Training Accuracy: 0.8929, Testing Accuracy: 0.9037\n",
      "\n"
     ]
    },
    {
     "name": "stdout",
     "output_type": "stream",
     "text": [
      "Epoch 20, Loss 0.0832\n",
      "Training Accuracy: 0.9193, Testing Accuracy: 0.9330\n",
      "\n"
     ]
    },
    {
     "name": "stdout",
     "output_type": "stream",
     "text": [
      "Epoch 30, Loss 0.0709\n",
      "Training Accuracy: 0.9311, Testing Accuracy: 0.9456\n",
      "\n"
     ]
    },
    {
     "name": "stdout",
     "output_type": "stream",
     "text": [
      "Epoch 40, Loss 0.0636\n",
      "Training Accuracy: 0.9370, Testing Accuracy: 0.9496\n",
      "\n"
     ]
    },
    {
     "name": "stdout",
     "output_type": "stream",
     "text": [
      "Epoch 50, Loss 0.0587\n",
      "Training Accuracy: 0.9418, Testing Accuracy: 0.9531\n",
      "\n"
     ]
    },
    {
     "name": "stdout",
     "output_type": "stream",
     "text": [
      "Epoch 60, Loss 0.0551\n",
      "Training Accuracy: 0.9451, Testing Accuracy: 0.9531\n",
      "\n"
     ]
    },
    {
     "name": "stdout",
     "output_type": "stream",
     "text": [
      "Epoch 70, Loss 0.0523\n",
      "Training Accuracy: 0.9479, Testing Accuracy: 0.9577\n",
      "\n"
     ]
    },
    {
     "name": "stdout",
     "output_type": "stream",
     "text": [
      "Epoch 80, Loss 0.0501\n",
      "Training Accuracy: 0.9498, Testing Accuracy: 0.9587\n",
      "\n"
     ]
    },
    {
     "name": "stdout",
     "output_type": "stream",
     "text": [
      "Epoch 90, Loss 0.0483\n",
      "Training Accuracy: 0.9512, Testing Accuracy: 0.9597\n",
      "\n"
     ]
    },
    {
     "name": "stdout",
     "output_type": "stream",
     "text": [
      "Epoch 100, Loss 0.0468\n",
      "Training Accuracy: 0.9523, Testing Accuracy: 0.9602\n",
      "\n"
     ]
    },
    {
     "name": "stdout",
     "output_type": "stream",
     "text": [
      "Epoch 110, Loss 0.0455\n",
      "Training Accuracy: 0.9528, Testing Accuracy: 0.9607\n",
      "\n"
     ]
    },
    {
     "name": "stdout",
     "output_type": "stream",
     "text": [
      "Epoch 120, Loss 0.0444\n",
      "Training Accuracy: 0.9541, Testing Accuracy: 0.9612\n",
      "\n"
     ]
    },
    {
     "name": "stdout",
     "output_type": "stream",
     "text": [
      "Epoch 130, Loss 0.0434\n",
      "Training Accuracy: 0.9548, Testing Accuracy: 0.9622\n",
      "\n"
     ]
    },
    {
     "name": "stdout",
     "output_type": "stream",
     "text": [
      "Epoch 140, Loss 0.0425\n",
      "Training Accuracy: 0.9556, Testing Accuracy: 0.9632\n",
      "\n"
     ]
    },
    {
     "name": "stdout",
     "output_type": "stream",
     "text": [
      "Epoch 150, Loss 0.0417\n",
      "Training Accuracy: 0.9564, Testing Accuracy: 0.9637\n",
      "\n"
     ]
    },
    {
     "name": "stdout",
     "output_type": "stream",
     "text": [
      "Epoch 160, Loss 0.041\n",
      "Training Accuracy: 0.9569, Testing Accuracy: 0.9642\n",
      "\n"
     ]
    },
    {
     "name": "stdout",
     "output_type": "stream",
     "text": [
      "Epoch 170, Loss 0.0404\n",
      "Training Accuracy: 0.9578, Testing Accuracy: 0.9647\n",
      "\n"
     ]
    },
    {
     "name": "stdout",
     "output_type": "stream",
     "text": [
      "Epoch 180, Loss 0.0398\n",
      "Training Accuracy: 0.9582, Testing Accuracy: 0.9652\n",
      "\n"
     ]
    },
    {
     "name": "stdout",
     "output_type": "stream",
     "text": [
      "Epoch 190, Loss 0.0392\n",
      "Training Accuracy: 0.9585, Testing Accuracy: 0.9657\n",
      "\n"
     ]
    },
    {
     "name": "stdout",
     "output_type": "stream",
     "text": [
      "Epoch 200, Loss 0.0388\n",
      "Training Accuracy: 0.9590, Testing Accuracy: 0.9657\n",
      "\n"
     ]
    },
    {
     "name": "stdout",
     "output_type": "stream",
     "text": [
      "Epoch 210, Loss 0.0383\n",
      "Training Accuracy: 0.9595, Testing Accuracy: 0.9657\n",
      "\n"
     ]
    },
    {
     "name": "stdout",
     "output_type": "stream",
     "text": [
      "Epoch 220, Loss 0.0379\n",
      "Training Accuracy: 0.9599, Testing Accuracy: 0.9657\n",
      "\n"
     ]
    },
    {
     "name": "stdout",
     "output_type": "stream",
     "text": [
      "Epoch 230, Loss 0.0375\n",
      "Training Accuracy: 0.9601, Testing Accuracy: 0.9667\n",
      "\n"
     ]
    },
    {
     "name": "stdout",
     "output_type": "stream",
     "text": [
      "Epoch 240, Loss 0.0371\n",
      "Training Accuracy: 0.9599, Testing Accuracy: 0.9667\n",
      "\n"
     ]
    },
    {
     "name": "stdout",
     "output_type": "stream",
     "text": [
      "Epoch 250, Loss 0.0367\n",
      "Training Accuracy: 0.9603, Testing Accuracy: 0.9677\n",
      "\n"
     ]
    },
    {
     "data": {
      "text/plain": [
       "0.089930909021086"
      ]
     },
     "execution_count": 22,
     "metadata": {},
     "output_type": "execute_result"
    }
   ],
   "source": [
    "print(\"====== Logistic Regression ======\")\n",
    "learner_lr.train_loop(dl)"
   ]
  },
  {
   "cell_type": "markdown",
   "metadata": {
    "papermill": {
     "duration": 0.038404,
     "end_time": "2020-11-14T00:10:21.844283",
     "exception": false,
     "start_time": "2020-11-14T00:10:21.805879",
     "status": "completed"
    },
    "tags": []
   },
   "source": [
    "### Comparing results of NN and LR"
   ]
  },
  {
   "cell_type": "code",
   "execution_count": 23,
   "metadata": {
    "execution": {
     "iopub.execute_input": "2020-11-14T00:10:21.924876Z",
     "iopub.status.busy": "2020-11-14T00:10:21.923824Z",
     "iopub.status.idle": "2020-11-14T00:10:22.141412Z",
     "shell.execute_reply": "2020-11-14T00:10:22.141816Z"
    },
    "papermill": {
     "duration": 0.260581,
     "end_time": "2020-11-14T00:10:22.141956",
     "exception": false,
     "start_time": "2020-11-14T00:10:21.881375",
     "status": "completed"
    },
    "tags": []
   },
   "outputs": [
    {
     "data": {
      "text/plain": [
       "<matplotlib.legend.Legend at 0x7fb2fe356048>"
      ]
     },
     "execution_count": 23,
     "metadata": {},
     "output_type": "execute_result"
    },
    {
     "data": {
      "image/png": "[encoded data removed]",
      "text/plain": [
       "<Figure size 1080x720 with 1 Axes>"
      ]
     },
     "metadata": {
      "needs_background": "light"
     },
     "output_type": "display_data"
    }
   ],
   "source": [
    "plt.figure(figsize=(15,10))\n",
    "\n",
    "# Neural Network plots\n",
    "plt.plot(acc_nn.accuracies, 'r-', label = \"Training Accuracies - NN\")\n",
    "plt.plot(acc_nn.test_accuracies, 'g-', label = \"Testing Accuracies - NN\")\n",
    "\n",
    "# Logistic Regression plots\n",
    "plt.plot(acc_lr.accuracies, 'k-', label = \"Training Accuracies - LR\")\n",
    "plt.plot(acc_lr.test_accuracies, 'b-', label = \"Testing Accuracies - LR\")\n",
    "\n",
    "plt.ylim(0.8, 1)\n",
    "\n",
    "plt.legend()\n",
    "\n"
   ]
  },
  {
   "cell_type": "markdown",
   "metadata": {
    "papermill": {
     "duration": 0.03847,
     "end_time": "2020-11-14T00:10:22.220849",
     "exception": false,
     "start_time": "2020-11-14T00:10:22.182379",
     "status": "completed"
    },
    "tags": []
   },
   "source": [
    "### From the plot, we can observe the following:\n",
    "- Neural Network achieves higher accuracy than the Logistic Regression model.\n",
    "- This apparently, is because of overfitting, i.e. NN captures more noise than data.\n",
    "- Testing accuracy of NN drops below the Training accuracy at higher epochs. This explains the over-fitting on training data.\n",
    "- Logistic Regression gives a reliable accuracy, without the above mentioned problem.\n"
   ]
  },
  {
   "cell_type": "markdown",
   "metadata": {
    "papermill": {
     "duration": 0.042785,
     "end_time": "2020-11-14T00:10:22.302409",
     "exception": false,
     "start_time": "2020-11-14T00:10:22.259624",
     "status": "completed"
    },
    "tags": []
   },
   "source": [
    "### Moving till the last but one layer (excluding it).\n",
    "#### Plotting the outputs of this layer of the NN."
   ]
  },
  {
   "cell_type": "code",
   "execution_count": 24,
   "metadata": {
    "execution": {
     "iopub.execute_input": "2020-11-14T00:10:22.392329Z",
     "iopub.status.busy": "2020-11-14T00:10:22.391729Z",
     "iopub.status.idle": "2020-11-14T00:10:22.405745Z",
     "shell.execute_reply": "2020-11-14T00:10:22.406259Z"
    },
    "papermill": {
     "duration": 0.061843,
     "end_time": "2020-11-14T00:10:22.406416",
     "exception": false,
     "start_time": "2020-11-14T00:10:22.344573",
     "status": "completed"
    },
    "tags": []
   },
   "outputs": [],
   "source": [
    "model_new = Model(layers[:-2])"
   ]
  },
  {
   "cell_type": "code",
   "execution_count": 25,
   "metadata": {
    "execution": {
     "iopub.execute_input": "2020-11-14T00:10:22.491380Z",
     "iopub.status.busy": "2020-11-14T00:10:22.490828Z",
     "iopub.status.idle": "2020-11-14T00:10:22.514949Z",
     "shell.execute_reply": "2020-11-14T00:10:22.515508Z"
    },
    "papermill": {
     "duration": 0.069695,
     "end_time": "2020-11-14T00:10:22.515669",
     "exception": false,
     "start_time": "2020-11-14T00:10:22.445974",
     "status": "completed"
    },
    "tags": []
   },
   "outputs": [],
   "source": [
    "plot_testing = model_new(testing_xdata)"
   ]
  },
  {
   "cell_type": "code",
   "execution_count": 26,
   "metadata": {
    "execution": {
     "iopub.execute_input": "2020-11-14T00:10:22.604311Z",
     "iopub.status.busy": "2020-11-14T00:10:22.603754Z",
     "iopub.status.idle": "2020-11-14T00:10:22.787520Z",
     "shell.execute_reply": "2020-11-14T00:10:22.788091Z"
    },
    "papermill": {
     "duration": 0.231991,
     "end_time": "2020-11-14T00:10:22.788253",
     "exception": false,
     "start_time": "2020-11-14T00:10:22.556262",
     "status": "completed"
    },
    "tags": []
   },
   "outputs": [
    {
     "data": {
      "text/plain": [
       "Text(0.5, 1.0, 'Outputs')"
      ]
     },
     "execution_count": 26,
     "metadata": {},
     "output_type": "execute_result"
    },
    {
     "data": {
      "image/png": "[encoded data removed]",
      "text/plain": [
       "<Figure size 576x504 with 1 Axes>"
      ]
     },
     "metadata": {
      "needs_background": "light"
     },
     "output_type": "display_data"
    }
   ],
   "source": [
    "plt.figure(figsize=(8,7))\n",
    "plt.scatter(plot_testing[:,0], plot_testing[:,1], alpha = 0.1, c = y_test.ravel());\n",
    "plt.title('Outputs')"
   ]
  },
  {
   "cell_type": "markdown",
   "metadata": {
    "papermill": {
     "duration": 0.041588,
     "end_time": "2020-11-14T00:10:22.874479",
     "exception": false,
     "start_time": "2020-11-14T00:10:22.832891",
     "status": "completed"
    },
    "tags": []
   },
   "source": [
    "### Plotting probability contours"
   ]
  },
  {
   "cell_type": "code",
   "execution_count": 27,
   "metadata": {
    "execution": {
     "iopub.execute_input": "2020-11-14T00:10:22.963152Z",
     "iopub.status.busy": "2020-11-14T00:10:22.962710Z",
     "iopub.status.idle": "2020-11-14T00:10:22.976092Z",
     "shell.execute_reply": "2020-11-14T00:10:22.976529Z"
    },
    "papermill": {
     "duration": 0.058534,
     "end_time": "2020-11-14T00:10:22.976676",
     "exception": false,
     "start_time": "2020-11-14T00:10:22.918142",
     "status": "completed"
    },
    "tags": []
   },
   "outputs": [],
   "source": [
    "model_prob = Model(layers[-2:]) "
   ]
  },
  {
   "cell_type": "code",
   "execution_count": 28,
   "metadata": {
    "execution": {
     "iopub.execute_input": "2020-11-14T00:10:23.073434Z",
     "iopub.status.busy": "2020-11-14T00:10:23.072855Z",
     "iopub.status.idle": "2020-11-14T00:10:23.087399Z",
     "shell.execute_reply": "2020-11-14T00:10:23.087844Z"
    },
    "papermill": {
     "duration": 0.065664,
     "end_time": "2020-11-14T00:10:23.087989",
     "exception": false,
     "start_time": "2020-11-14T00:10:23.022325",
     "status": "completed"
    },
    "tags": []
   },
   "outputs": [],
   "source": [
    "# Adjust the x and y ranges according to the above generated plot.\n",
    "x_range = np.linspace(-4, 1, 100) \n",
    "y_range = np.linspace(-6, 6, 100) \n",
    "x_grid, y_grid = np.meshgrid(x_range, y_range) # x_grid and y_grig are of size 100 X 100\n",
    "\n",
    "# converting x_grid and y_grid to continuous arrays\n",
    "x_grid_flat = np.ravel(x_grid)\n",
    "y_grid_flat = np.ravel(y_grid)\n",
    "\n",
    "# The last layer of the current model takes two columns as input. Hence transpose of np.vstack() is required.\n",
    "X = np.vstack((x_grid_flat, y_grid_flat)).T\n",
    "\n",
    "# x_grid and y_grid are of size 100 x 100\n",
    "probability_contour = model_prob(X).reshape(100,100) "
   ]
  },
  {
   "cell_type": "code",
   "execution_count": 29,
   "metadata": {
    "execution": {
     "iopub.execute_input": "2020-11-14T00:10:23.183513Z",
     "iopub.status.busy": "2020-11-14T00:10:23.182980Z",
     "iopub.status.idle": "2020-11-14T00:10:23.405525Z",
     "shell.execute_reply": "2020-11-14T00:10:23.404917Z"
    },
    "papermill": {
     "duration": 0.27463,
     "end_time": "2020-11-14T00:10:23.405693",
     "exception": false,
     "start_time": "2020-11-14T00:10:23.131063",
     "status": "completed"
    },
    "tags": []
   },
   "outputs": [
    {
     "data": {
      "image/png": "[encoded data removed]",
      "text/plain": [
       "<Figure size 720x648 with 1 Axes>"
      ]
     },
     "metadata": {
      "needs_background": "light"
     },
     "output_type": "display_data"
    }
   ],
   "source": [
    "plt.figure(figsize=(10,9))\n",
    "plt.scatter(plot_testing[:,0], plot_testing[:,1], alpha = 0.1, c = y_test.ravel())\n",
    "contours = plt.contour(x_grid,y_grid,probability_contour)\n",
    "plt.title('Probability Contours')\n",
    "plt.clabel(contours, inline = True );"
   ]
  }
 ],
 "metadata": {
  "kernelspec": {
   "display_name": "Python 3",
   "language": "python",
   "name": "python3"
  },
  "language_info": {
   "codemirror_mode": {
    "name": "ipython",
    "version": 3
   },
   "file_extension": ".py",
   "mimetype": "text/x-python",
   "name": "python",
   "nbconvert_exporter": "python",
   "pygments_lexer": "ipython3",
   "version": "3.6.12"
  },
  "papermill": {
   "duration": 105.592342,
   "end_time": "2020-11-14T00:10:23.861919",
   "environment_variables": {},
   "exception": null,
   "input_path": "2020-08-11-NeuralNetwork.ipynb",
   "output_path": "2020-08-11-NeuralNetwork.ipynb",
   "parameters": {},
   "start_time": "2020-11-14T00:08:38.269577",
   "version": "2.1.2"
  }
 },
 "nbformat": 4,
 "nbformat_minor": 4
}