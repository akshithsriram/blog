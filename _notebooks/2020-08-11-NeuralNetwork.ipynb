{
 "cells": [
  {
   "cell_type": "markdown",
   "metadata": {
    "papermill": {
     "duration": 0.036508,
     "end_time": "2020-08-10T10:11:21.091212",
     "exception": false,
     "start_time": "2020-08-10T10:11:21.054704",
     "status": "completed"
    },
    "tags": []
   },
   "source": [
    "# \"A Basic Neural Network: Differentiate Hand-Written Digits\"\n",
    "\n",
    "- badges: true\n",
    "- author: Akshith Sriram"
   ]
  },
  {
   "cell_type": "markdown",
   "metadata": {
    "papermill": {
     "duration": 0.029449,
     "end_time": "2020-08-10T10:11:21.149681",
     "exception": false,
     "start_time": "2020-08-10T10:11:21.120232",
     "status": "completed"
    },
    "tags": []
   },
   "source": [
    "### Key Objectives:\n",
    "- Building a neural network that differentiates two hand-written digits 3 and 8.\n",
    "- Comparing the results of this Neural Network (NN) to that of a Logistic Regression (LR) model.\n",
    "\n",
    "### Requirements:\n",
    "- 'Kudzu' : A neural network library that was designed during our course by [Univ.AI](www.univ.ai). \n",
    "- MNIST Database\n",
    "\n",
    "If MNIST is not installed, use the command `!pip install mnist` given below.\n",
    "It can be run both from the command line and Jupyter Notebook."
   ]
  },
  {
   "cell_type": "code",
   "execution_count": null,
   "metadata": {
    "execution": {
     "iopub.execute_input": "2020-08-10T10:11:22.047534Z",
     "iopub.status.busy": "2020-08-10T10:11:22.046939Z",
     "iopub.status.idle": "2020-08-10T10:11:23.528278Z",
     "shell.execute_reply": "2020-08-10T10:11:23.529072Z"
    },
    "papermill": {
     "duration": 1.514408,
     "end_time": "2020-08-10T10:11:23.529284",
     "exception": false,
     "start_time": "2020-08-10T10:11:22.014876",
     "status": "completed"
    },
    "tags": []
   },
   "outputs": [],
   "source": [
    "!pip install mnist "
   ]
  },
  {
   "cell_type": "markdown",
   "metadata": {
    "papermill": {
     "duration": 0.028949,
     "end_time": "2020-08-10T10:11:21.207773",
     "exception": false,
     "start_time": "2020-08-10T10:11:21.178824",
     "status": "completed"
    },
    "tags": []
   },
   "source": [
    "#### Importing necessary libraries"
   ]
  },
  {
   "cell_type": "code",
   "execution_count": 73,
   "metadata": {
    "execution": {
     "iopub.execute_input": "2020-08-10T10:11:21.347555Z",
     "iopub.status.busy": "2020-08-10T10:11:21.346979Z",
     "iopub.status.idle": "2020-08-10T10:11:21.921720Z",
     "shell.execute_reply": "2020-08-10T10:11:21.922253Z"
    },
    "papermill": {
     "duration": 0.608216,
     "end_time": "2020-08-10T10:11:21.922410",
     "exception": false,
     "start_time": "2020-08-10T10:11:21.314194",
     "status": "completed"
    },
    "tags": []
   },
   "outputs": [
    {
     "name": "stdout",
     "output_type": "stream",
     "text": [
      "The autoreload extension is already loaded. To reload it, use:\n",
      "  %reload_ext autoreload\n"
     ]
    }
   ],
   "source": [
    "%load_ext autoreload\n",
    "%autoreload 2\n",
    "\n",
    "%matplotlib inline\n",
    "import matplotlib.pyplot as plt\n",
    "\n",
    "import numpy as np\n",
    "import pandas as pd"
   ]
  },
  {
   "cell_type": "markdown",
   "metadata": {
    "papermill": {
     "duration": 0.03029,
     "end_time": "2020-08-10T10:11:23.590838",
     "exception": false,
     "start_time": "2020-08-10T10:11:23.560548",
     "status": "completed"
    },
    "tags": []
   },
   "source": [
    "### Preparing the Data"
   ]
  },
  {
   "cell_type": "code",
   "execution_count": 74,
   "metadata": {
    "execution": {
     "iopub.execute_input": "2020-08-10T10:11:23.657448Z",
     "iopub.status.busy": "2020-08-10T10:11:23.656760Z",
     "iopub.status.idle": "2020-08-10T10:11:23.671152Z",
     "shell.execute_reply": "2020-08-10T10:11:23.670636Z"
    },
    "papermill": {
     "duration": 0.050037,
     "end_time": "2020-08-10T10:11:23.671276",
     "exception": false,
     "start_time": "2020-08-10T10:11:23.621239",
     "status": "completed"
    },
    "tags": []
   },
   "outputs": [],
   "source": [
    "import mnist"
   ]
  },
  {
   "cell_type": "code",
   "execution_count": 75,
   "metadata": {
    "execution": {
     "iopub.execute_input": "2020-08-10T10:11:23.734186Z",
     "iopub.status.busy": "2020-08-10T10:11:23.733617Z",
     "iopub.status.idle": "2020-08-10T10:11:24.584694Z",
     "shell.execute_reply": "2020-08-10T10:11:24.585161Z"
    },
    "papermill": {
     "duration": 0.884019,
     "end_time": "2020-08-10T10:11:24.585324",
     "exception": false,
     "start_time": "2020-08-10T10:11:23.701305",
     "status": "completed"
    },
    "tags": []
   },
   "outputs": [],
   "source": [
    "train_images = mnist.train_images()\n",
    "train_labels = mnist.train_labels()"
   ]
  },
  {
   "cell_type": "code",
   "execution_count": 76,
   "metadata": {
    "execution": {
     "iopub.execute_input": "2020-08-10T10:11:24.658920Z",
     "iopub.status.busy": "2020-08-10T10:11:24.658254Z",
     "iopub.status.idle": "2020-08-10T10:11:24.677210Z",
     "shell.execute_reply": "2020-08-10T10:11:24.677828Z"
    },
    "papermill": {
     "duration": 0.05697,
     "end_time": "2020-08-10T10:11:24.677977",
     "exception": false,
     "start_time": "2020-08-10T10:11:24.621007",
     "status": "completed"
    },
    "tags": []
   },
   "outputs": [
    {
     "data": {
      "text/plain": [
       "((60000, 28, 28), (60000,))"
      ]
     },
     "execution_count": 76,
     "metadata": {},
     "output_type": "execute_result"
    }
   ],
   "source": [
    "train_images.shape, train_labels.shape"
   ]
  },
  {
   "cell_type": "code",
   "execution_count": 77,
   "metadata": {
    "execution": {
     "iopub.execute_input": "2020-08-10T10:11:24.750558Z",
     "iopub.status.busy": "2020-08-10T10:11:24.749865Z",
     "iopub.status.idle": "2020-08-10T10:11:24.999296Z",
     "shell.execute_reply": "2020-08-10T10:11:24.998752Z"
    },
    "papermill": {
     "duration": 0.287297,
     "end_time": "2020-08-10T10:11:24.999452",
     "exception": false,
     "start_time": "2020-08-10T10:11:24.712155",
     "status": "completed"
    },
    "tags": []
   },
   "outputs": [],
   "source": [
    "test_images = mnist.test_images()\n",
    "test_labels = mnist.test_labels()"
   ]
  },
  {
   "cell_type": "code",
   "execution_count": 78,
   "metadata": {
    "execution": {
     "iopub.execute_input": "2020-08-10T10:11:25.067509Z",
     "iopub.status.busy": "2020-08-10T10:11:25.066846Z",
     "iopub.status.idle": "2020-08-10T10:11:25.084336Z",
     "shell.execute_reply": "2020-08-10T10:11:25.083720Z"
    },
    "papermill": {
     "duration": 0.053228,
     "end_time": "2020-08-10T10:11:25.084479",
     "exception": false,
     "start_time": "2020-08-10T10:11:25.031251",
     "status": "completed"
    },
    "tags": []
   },
   "outputs": [
    {
     "data": {
      "text/plain": [
       "((10000, 28, 28), (10000,))"
      ]
     },
     "execution_count": 78,
     "metadata": {},
     "output_type": "execute_result"
    }
   ],
   "source": [
    "test_images.shape, test_labels.shape"
   ]
  },
  {
   "cell_type": "code",
   "execution_count": 79,
   "metadata": {
    "execution": {
     "iopub.execute_input": "2020-08-10T10:11:25.150429Z",
     "iopub.status.busy": "2020-08-10T10:11:25.149867Z",
     "iopub.status.idle": "2020-08-10T10:11:25.359465Z",
     "shell.execute_reply": "2020-08-10T10:11:25.358923Z"
    },
    "papermill": {
     "duration": 0.242895,
     "end_time": "2020-08-10T10:11:25.359619",
     "exception": false,
     "start_time": "2020-08-10T10:11:25.116724",
     "status": "completed"
    },
    "tags": []
   },
   "outputs": [
    {
     "name": "stdout",
     "output_type": "stream",
     "text": [
      "2\n"
     ]
    },
    {
     "data": {
      "text/plain": [
       "<matplotlib.image.AxesImage at 0xfd31080>"
      ]
     },
     "execution_count": 79,
     "metadata": {},
     "output_type": "execute_result"
    },
    {
     "data": {
      "image/png": "[encoded data removed]",
      "text/plain": [
       "<Figure size 432x288 with 1 Axes>"
      ]
     },
     "metadata": {
      "needs_background": "light"
     },
     "output_type": "display_data"
    }
   ],
   "source": [
    "image_index = 7776 # You may select anything up to 60,000\n",
    "print(train_labels[image_index]) \n",
    "plt.imshow(train_images[image_index], cmap='Greys')"
   ]
  },
  {
   "cell_type": "markdown",
   "metadata": {
    "papermill": {
     "duration": 0.033576,
     "end_time": "2020-08-10T10:11:25.429014",
     "exception": false,
     "start_time": "2020-08-10T10:11:25.395438",
     "status": "completed"
    },
    "tags": []
   },
   "source": [
    "## Filter data to get 3 and 8 out"
   ]
  },
  {
   "cell_type": "code",
   "execution_count": 80,
   "metadata": {
    "execution": {
     "iopub.execute_input": "2020-08-10T10:11:25.499787Z",
     "iopub.status.busy": "2020-08-10T10:11:25.498972Z",
     "iopub.status.idle": "2020-08-10T10:11:25.519427Z",
     "shell.execute_reply": "2020-08-10T10:11:25.518858Z"
    },
    "papermill": {
     "duration": 0.057633,
     "end_time": "2020-08-10T10:11:25.519561",
     "exception": false,
     "start_time": "2020-08-10T10:11:25.461928",
     "status": "completed"
    },
    "tags": []
   },
   "outputs": [],
   "source": [
    "train_filter = np.where((train_labels == 3 ) | (train_labels == 8))\n",
    "test_filter = np.where((test_labels == 3) | (test_labels == 8))\n",
    "X_train, y_train = train_images[train_filter], train_labels[train_filter]\n",
    "X_test, y_test = test_images[test_filter], test_labels[test_filter]"
   ]
  },
  {
   "cell_type": "markdown",
   "metadata": {
    "papermill": {
     "duration": 0.032098,
     "end_time": "2020-08-10T10:11:25.587630",
     "exception": false,
     "start_time": "2020-08-10T10:11:25.555532",
     "status": "completed"
    },
    "tags": []
   },
   "source": [
    "We normalize the pixel values in the 0 to 1 range"
   ]
  },
  {
   "cell_type": "code",
   "execution_count": 81,
   "metadata": {
    "execution": {
     "iopub.execute_input": "2020-08-10T10:11:25.666507Z",
     "iopub.status.busy": "2020-08-10T10:11:25.665722Z",
     "iopub.status.idle": "2020-08-10T10:11:25.728534Z",
     "shell.execute_reply": "2020-08-10T10:11:25.727977Z"
    },
    "papermill": {
     "duration": 0.109386,
     "end_time": "2020-08-10T10:11:25.728676",
     "exception": false,
     "start_time": "2020-08-10T10:11:25.619290",
     "status": "completed"
    },
    "tags": []
   },
   "outputs": [],
   "source": [
    "X_train = X_train/255.\n",
    "X_test = X_test/255."
   ]
  },
  {
   "cell_type": "markdown",
   "metadata": {
    "papermill": {
     "duration": 0.031348,
     "end_time": "2020-08-10T10:11:25.792221",
     "exception": false,
     "start_time": "2020-08-10T10:11:25.760873",
     "status": "completed"
    },
    "tags": []
   },
   "source": [
    "Setup the labels as 1 (when the digit is 3) and 0 (when the digit is 8)"
   ]
  },
  {
   "cell_type": "code",
   "execution_count": 82,
   "metadata": {
    "execution": {
     "iopub.execute_input": "2020-08-10T10:11:25.859394Z",
     "iopub.status.busy": "2020-08-10T10:11:25.858696Z",
     "iopub.status.idle": "2020-08-10T10:11:25.871020Z",
     "shell.execute_reply": "2020-08-10T10:11:25.870534Z"
    },
    "papermill": {
     "duration": 0.048139,
     "end_time": "2020-08-10T10:11:25.871133",
     "exception": false,
     "start_time": "2020-08-10T10:11:25.822994",
     "status": "completed"
    },
    "tags": []
   },
   "outputs": [],
   "source": [
    "y_train = 1*(y_train==3)\n",
    "y_test = 1*(y_test==3)"
   ]
  },
  {
   "cell_type": "code",
   "execution_count": 83,
   "metadata": {
    "execution": {
     "iopub.execute_input": "2020-08-10T10:11:25.942434Z",
     "iopub.status.busy": "2020-08-10T10:11:25.941801Z",
     "iopub.status.idle": "2020-08-10T10:11:25.956567Z",
     "shell.execute_reply": "2020-08-10T10:11:25.955797Z"
    },
    "papermill": {
     "duration": 0.052044,
     "end_time": "2020-08-10T10:11:25.956718",
     "exception": false,
     "start_time": "2020-08-10T10:11:25.904674",
     "status": "completed"
    },
    "tags": []
   },
   "outputs": [
    {
     "data": {
      "text/plain": [
       "((11982, 28, 28), (1984, 28, 28))"
      ]
     },
     "execution_count": 83,
     "metadata": {},
     "output_type": "execute_result"
    }
   ],
   "source": [
    "X_train.shape, X_test.shape"
   ]
  },
  {
   "cell_type": "markdown",
   "metadata": {
    "papermill": {
     "duration": 0.032907,
     "end_time": "2020-08-10T10:11:26.021062",
     "exception": false,
     "start_time": "2020-08-10T10:11:25.988155",
     "status": "completed"
    },
    "tags": []
   },
   "source": [
    "### Reshape the input data to create a linear array"
   ]
  },
  {
   "cell_type": "code",
   "execution_count": 84,
   "metadata": {
    "execution": {
     "iopub.execute_input": "2020-08-10T10:11:26.105710Z",
     "iopub.status.busy": "2020-08-10T10:11:26.105070Z",
     "iopub.status.idle": "2020-08-10T10:11:26.119175Z",
     "shell.execute_reply": "2020-08-10T10:11:26.118719Z"
    },
    "papermill": {
     "duration": 0.06034,
     "end_time": "2020-08-10T10:11:26.119318",
     "exception": false,
     "start_time": "2020-08-10T10:11:26.058978",
     "status": "completed"
    },
    "tags": []
   },
   "outputs": [
    {
     "data": {
      "text/plain": [
       "((11982, 784), (1984, 784))"
      ]
     },
     "execution_count": 84,
     "metadata": {},
     "output_type": "execute_result"
    }
   ],
   "source": [
    "X_train = X_train.reshape(X_train.shape[0], -1)\n",
    "X_test = X_test.reshape(X_test.shape[0], -1)\n",
    "X_train.shape, X_test.shape"
   ]
  },
  {
   "cell_type": "markdown",
   "metadata": {
    "papermill": {
     "duration": 0.031706,
     "end_time": "2020-08-10T10:11:26.182878",
     "exception": false,
     "start_time": "2020-08-10T10:11:26.151172",
     "status": "completed"
    },
    "tags": []
   },
   "source": [
    "### Importing appropriate functions from 'Kudzu'"
   ]
  },
  {
   "cell_type": "code",
   "execution_count": 85,
   "metadata": {
    "execution": {
     "iopub.execute_input": "2020-08-10T10:11:26.252155Z",
     "iopub.status.busy": "2020-08-10T10:11:26.251536Z",
     "iopub.status.idle": "2020-08-10T10:11:26.270646Z",
     "shell.execute_reply": "2020-08-10T10:11:26.271295Z"
    },
    "papermill": {
     "duration": 0.055197,
     "end_time": "2020-08-10T10:11:26.271467",
     "exception": false,
     "start_time": "2020-08-10T10:11:26.216270",
     "status": "completed"
    },
    "tags": []
   },
   "outputs": [],
   "source": [
    "from kudzu.layer import Sigmoid\n",
    "from kudzu.layer import Relu\n",
    "from kudzu.layer import Affine, Sigmoid\n",
    "\n",
    "from kudzu.model import Model\n",
    "from kudzu.train import Learner\n",
    "from kudzu.optim import GD\n",
    "from kudzu.data import Data, Dataloader, Sampler\n",
    "\n",
    "from kudzu.callbacks import AccCallback\n",
    "from kudzu.callbacks import ClfCallback\n",
    "\n",
    "from kudzu.loss import MSE"
   ]
  },
  {
   "cell_type": "markdown",
   "metadata": {
    "papermill": {
     "duration": 0.032849,
     "end_time": "2020-08-10T10:11:26.336087",
     "exception": false,
     "start_time": "2020-08-10T10:11:26.303238",
     "status": "completed"
    },
    "tags": []
   },
   "source": [
    "### Let us create a `Config` class, to store important parameters. \n",
    "This class essentially plays the role of a dictionary."
   ]
  },
  {
   "cell_type": "code",
   "execution_count": 86,
   "metadata": {
    "execution": {
     "iopub.execute_input": "2020-08-10T10:11:26.406077Z",
     "iopub.status.busy": "2020-08-10T10:11:26.405415Z",
     "iopub.status.idle": "2020-08-10T10:11:26.417960Z",
     "shell.execute_reply": "2020-08-10T10:11:26.417461Z"
    },
    "papermill": {
     "duration": 0.048497,
     "end_time": "2020-08-10T10:11:26.418176",
     "exception": false,
     "start_time": "2020-08-10T10:11:26.369679",
     "status": "completed"
    },
    "tags": []
   },
   "outputs": [],
   "source": [
    "class Config:\n",
    "    pass\n",
    "config = Config()\n",
    "config.lr = 0.001\n",
    "config.num_epochs = 251\n",
    "config.bs = 50"
   ]
  },
  {
   "cell_type": "markdown",
   "metadata": {
    "papermill": {
     "duration": 0.033012,
     "end_time": "2020-08-10T10:11:26.484171",
     "exception": false,
     "start_time": "2020-08-10T10:11:26.451159",
     "status": "completed"
    },
    "tags": []
   },
   "source": [
    "### Initializing data to the variables"
   ]
  },
  {
   "cell_type": "code",
   "execution_count": 87,
   "metadata": {
    "execution": {
     "iopub.execute_input": "2020-08-10T10:11:26.557656Z",
     "iopub.status.busy": "2020-08-10T10:11:26.557002Z",
     "iopub.status.idle": "2020-08-10T10:11:26.573387Z",
     "shell.execute_reply": "2020-08-10T10:11:26.572893Z"
    },
    "papermill": {
     "duration": 0.055648,
     "end_time": "2020-08-10T10:11:26.573513",
     "exception": false,
     "start_time": "2020-08-10T10:11:26.517865",
     "status": "completed"
    },
    "tags": []
   },
   "outputs": [],
   "source": [
    "data = Data(X_train, y_train.reshape(-1,1))\n",
    "sampler = Sampler(data, config.bs, shuffle=True)\n",
    "\n",
    "dl = Dataloader(data, sampler)\n",
    "\n",
    "opt = GD(config.lr)\n",
    "loss = MSE()"
   ]
  },
  {
   "cell_type": "code",
   "execution_count": 88,
   "metadata": {
    "execution": {
     "iopub.execute_input": "2020-08-10T10:11:26.775580Z",
     "iopub.status.busy": "2020-08-10T10:11:26.774980Z",
     "iopub.status.idle": "2020-08-10T10:11:26.787642Z",
     "shell.execute_reply": "2020-08-10T10:11:26.788315Z"
    },
    "papermill": {
     "duration": 0.050617,
     "end_time": "2020-08-10T10:11:26.788472",
     "exception": false,
     "start_time": "2020-08-10T10:11:26.737855",
     "status": "completed"
    },
    "tags": []
   },
   "outputs": [],
   "source": [
    "training_xdata = X_train\n",
    "testing_xdata = X_test\n",
    "training_ydata = y_train.reshape(-1,1)\n",
    "testing_ydata = y_test.reshape(-1,1)"
   ]
  },
  {
   "cell_type": "markdown",
   "metadata": {
    "papermill": {
     "duration": 0.040522,
     "end_time": "2020-08-10T10:11:26.860506",
     "exception": false,
     "start_time": "2020-08-10T10:11:26.819984",
     "status": "completed"
    },
    "tags": []
   },
   "source": [
    "### Running Models with the Training data\n",
    "Details about the network layers:\n",
    "- A first affine layer has 784 inputs and does 100 affine transforms. These are followed by a Relu\n",
    "- A second affine layer has 100 inputs from the 100 activations of the past layer, and does 100 affine transforms. These are followed by a Relu\n",
    "- A third affine layer has 100 activations and does 2 affine transformations to create an embedding for visualization. There is no non-linearity here.\n",
    "- A final \"logistic regression\" which has an affine transform from 2 inputs to 1 output, which is squeezed through a sigmoid.\n",
    "\n",
    "Help taken from Anshuman's Notebook."
   ]
  },
  {
   "cell_type": "code",
   "execution_count": 89,
   "metadata": {
    "execution": {
     "iopub.execute_input": "2020-08-10T10:11:26.928422Z",
     "iopub.status.busy": "2020-08-10T10:11:26.927810Z",
     "iopub.status.idle": "2020-08-10T10:11:26.945275Z",
     "shell.execute_reply": "2020-08-10T10:11:26.944693Z"
    },
    "papermill": {
     "duration": 0.053397,
     "end_time": "2020-08-10T10:11:26.945396",
     "exception": false,
     "start_time": "2020-08-10T10:11:26.891999",
     "status": "completed"
    },
    "tags": []
   },
   "outputs": [],
   "source": [
    "# layers for the Neural Network\n",
    "layers = [Affine(\"first\", 784, 100), Relu(\"first\"), Affine(\"second\", 100, 100), Relu(\"second\"), Affine(\"third\", 100, 2), Affine(\"final\", 2, 1), Sigmoid(\"final\")]\n",
    "model_nn = Model(layers)\n",
    "\n",
    "# layers for the Logistic Regression\n",
    "layers_lr = [Affine(\"logits\", 784, 1), Sigmoid(\"sigmoid\")]\n",
    "model_lr = Model(layers_lr)"
   ]
  },
  {
   "cell_type": "code",
   "execution_count": 90,
   "metadata": {
    "execution": {
     "iopub.execute_input": "2020-08-10T10:11:27.012053Z",
     "iopub.status.busy": "2020-08-10T10:11:27.011345Z",
     "iopub.status.idle": "2020-08-10T10:11:27.023824Z",
     "shell.execute_reply": "2020-08-10T10:11:27.023258Z"
    },
    "papermill": {
     "duration": 0.047988,
     "end_time": "2020-08-10T10:11:27.024038",
     "exception": false,
     "start_time": "2020-08-10T10:11:26.976050",
     "status": "completed"
    },
    "tags": []
   },
   "outputs": [],
   "source": [
    "# suffix _nn stands for Neural Network.\n",
    "learner_nn = Learner(loss, model_nn, opt, config.num_epochs)\n",
    "acc_nn = ClfCallback(learner_nn, config.bs, training_xdata , testing_xdata, training_ydata, testing_ydata)\n",
    "learner_nn.set_callbacks([acc_nn])"
   ]
  },
  {
   "cell_type": "code",
   "execution_count": 91,
   "metadata": {
    "execution": {
     "iopub.execute_input": "2020-08-10T10:11:27.102123Z",
     "iopub.status.busy": "2020-08-10T10:11:27.101454Z",
     "iopub.status.idle": "2020-08-10T10:13:46.907418Z",
     "shell.execute_reply": "2020-08-10T10:13:46.906502Z"
    },
    "papermill": {
     "duration": 139.850333,
     "end_time": "2020-08-10T10:13:46.907629",
     "exception": false,
     "start_time": "2020-08-10T10:11:27.057296",
     "status": "completed"
    },
    "tags": []
   },
   "outputs": [
    {
     "name": "stdout",
     "output_type": "stream",
     "text": [
      "====== Neural Network ======\n",
      "Epoch 0, Loss 0.2539\n",
      "Training Accuracy: 0.5709, Testing Accuracy: 0.5902\n",
      "\n",
      "Epoch 10, Loss 0.1052\n",
      "Training Accuracy: 0.8973, Testing Accuracy: 0.9083\n",
      "\n",
      "Epoch 20, Loss 0.0641\n",
      "Training Accuracy: 0.9317, Testing Accuracy: 0.9486\n",
      "\n",
      "Epoch 30, Loss 0.0487\n",
      "Training Accuracy: 0.9468, Testing Accuracy: 0.9567\n",
      "\n",
      "Epoch 40, Loss 0.0412\n",
      "Training Accuracy: 0.9537, Testing Accuracy: 0.9632\n",
      "\n",
      "Epoch 50, Loss 0.0369\n",
      "Training Accuracy: 0.9590, Testing Accuracy: 0.9632\n",
      "\n",
      "Epoch 60, Loss 0.0339\n",
      "Training Accuracy: 0.9620, Testing Accuracy: 0.9657\n",
      "\n",
      "Epoch 70, Loss 0.0318\n",
      "Training Accuracy: 0.9637, Testing Accuracy: 0.9677\n",
      "\n",
      "Epoch 80, Loss 0.0301\n",
      "Training Accuracy: 0.9649, Testing Accuracy: 0.9688\n",
      "\n",
      "Epoch 90, Loss 0.0288\n",
      "Training Accuracy: 0.9660, Testing Accuracy: 0.9698\n",
      "\n",
      "Epoch 100, Loss 0.0276\n",
      "Training Accuracy: 0.9679, Testing Accuracy: 0.9708\n",
      "\n",
      "Epoch 110, Loss 0.0266\n",
      "Training Accuracy: 0.9692, Testing Accuracy: 0.9703\n",
      "\n",
      "Epoch 120, Loss 0.0258\n",
      "Training Accuracy: 0.9701, Testing Accuracy: 0.9708\n",
      "\n",
      "Epoch 130, Loss 0.025\n",
      "Training Accuracy: 0.9711, Testing Accuracy: 0.9703\n",
      "\n",
      "Epoch 140, Loss 0.0243\n",
      "Training Accuracy: 0.9724, Testing Accuracy: 0.9708\n",
      "\n",
      "Epoch 150, Loss 0.0236\n",
      "Training Accuracy: 0.9735, Testing Accuracy: 0.9708\n",
      "\n",
      "Epoch 160, Loss 0.023\n",
      "Training Accuracy: 0.9742, Testing Accuracy: 0.9713\n",
      "\n",
      "Epoch 170, Loss 0.0224\n",
      "Training Accuracy: 0.9745, Testing Accuracy: 0.9713\n",
      "\n",
      "Epoch 180, Loss 0.0219\n",
      "Training Accuracy: 0.9748, Testing Accuracy: 0.9713\n",
      "\n",
      "Epoch 190, Loss 0.0214\n",
      "Training Accuracy: 0.9751, Testing Accuracy: 0.9718\n",
      "\n",
      "Epoch 200, Loss 0.0209\n",
      "Training Accuracy: 0.9756, Testing Accuracy: 0.9728\n",
      "\n",
      "Epoch 210, Loss 0.0205\n",
      "Training Accuracy: 0.9763, Testing Accuracy: 0.9723\n",
      "\n",
      "Epoch 220, Loss 0.02\n",
      "Training Accuracy: 0.9767, Testing Accuracy: 0.9723\n",
      "\n",
      "Epoch 230, Loss 0.0196\n",
      "Training Accuracy: 0.9773, Testing Accuracy: 0.9733\n",
      "\n",
      "Epoch 240, Loss 0.0193\n",
      "Training Accuracy: 0.9777, Testing Accuracy: 0.9733\n",
      "\n"
     ]
    },
    {
     "data": {
      "text/plain": [
       "0.006616333611390654"
      ]
     },
     "execution_count": 91,
     "metadata": {},
     "output_type": "execute_result"
    }
   ],
   "source": [
    "print(\"====== Neural Network ======\")\n",
    "learner_nn.train_loop(dl)"
   ]
  },
  {
   "cell_type": "markdown",
   "metadata": {
    "papermill": {
     "duration": 0.042162,
     "end_time": "2020-08-10T10:13:46.992392",
     "exception": false,
     "start_time": "2020-08-10T10:13:46.950230",
     "status": "completed"
    },
    "tags": []
   },
   "source": [
    "### Logistic Regression based Implementation."
   ]
  },
  {
   "cell_type": "code",
   "execution_count": 92,
   "metadata": {
    "execution": {
     "iopub.execute_input": "2020-08-10T10:13:47.081421Z",
     "iopub.status.busy": "2020-08-10T10:13:47.080745Z",
     "iopub.status.idle": "2020-08-10T10:13:47.093158Z",
     "shell.execute_reply": "2020-08-10T10:13:47.092522Z"
    },
    "papermill": {
     "duration": 0.060069,
     "end_time": "2020-08-10T10:13:47.093314",
     "exception": false,
     "start_time": "2020-08-10T10:13:47.033245",
     "status": "completed"
    },
    "tags": []
   },
   "outputs": [],
   "source": [
    "learner_lr = Learner(loss, model_lr, opt, config.num_epochs)\n",
    "acc_lr = ClfCallback(learner_lr, config.bs, training_xdata , testing_xdata, training_ydata, testing_ydata)\n",
    "learner_lr.set_callbacks([acc_lr])"
   ]
  },
  {
   "cell_type": "code",
   "execution_count": 93,
   "metadata": {
    "execution": {
     "iopub.execute_input": "2020-08-10T10:13:47.184760Z",
     "iopub.status.busy": "2020-08-10T10:13:47.182059Z",
     "iopub.status.idle": "2020-08-10T10:14:07.802465Z",
     "shell.execute_reply": "2020-08-10T10:14:07.803279Z"
    },
    "papermill": {
     "duration": 20.667544,
     "end_time": "2020-08-10T10:14:07.803473",
     "exception": false,
     "start_time": "2020-08-10T10:13:47.135929",
     "status": "completed"
    },
    "tags": []
   },
   "outputs": [
    {
     "name": "stdout",
     "output_type": "stream",
     "text": [
      "====== Logistic Regression ======\n",
      "Epoch 0, Loss 0.2341\n",
      "Training Accuracy: 0.6738, Testing Accuracy: 0.6547\n",
      "\n",
      "Epoch 10, Loss 0.1051\n",
      "Training Accuracy: 0.9024, Testing Accuracy: 0.9158\n",
      "\n",
      "Epoch 20, Loss 0.0803\n",
      "Training Accuracy: 0.9254, Testing Accuracy: 0.9385\n",
      "\n",
      "Epoch 30, Loss 0.0689\n",
      "Training Accuracy: 0.9357, Testing Accuracy: 0.9486\n",
      "\n",
      "Epoch 40, Loss 0.0621\n",
      "Training Accuracy: 0.9402, Testing Accuracy: 0.9546\n",
      "\n",
      "Epoch 50, Loss 0.0575\n",
      "Training Accuracy: 0.9437, Testing Accuracy: 0.9582\n",
      "\n",
      "Epoch 60, Loss 0.0541\n",
      "Training Accuracy: 0.9463, Testing Accuracy: 0.9607\n",
      "\n",
      "Epoch 70, Loss 0.0515\n",
      "Training Accuracy: 0.9486, Testing Accuracy: 0.9607\n",
      "\n",
      "Epoch 80, Loss 0.0494\n",
      "Training Accuracy: 0.9500, Testing Accuracy: 0.9612\n",
      "\n",
      "Epoch 90, Loss 0.0477\n",
      "Training Accuracy: 0.9511, Testing Accuracy: 0.9617\n",
      "\n",
      "Epoch 100, Loss 0.0463\n",
      "Training Accuracy: 0.9518, Testing Accuracy: 0.9617\n",
      "\n",
      "Epoch 110, Loss 0.0451\n",
      "Training Accuracy: 0.9523, Testing Accuracy: 0.9637\n",
      "\n",
      "Epoch 120, Loss 0.044\n",
      "Training Accuracy: 0.9531, Testing Accuracy: 0.9632\n",
      "\n",
      "Epoch 130, Loss 0.0431\n",
      "Training Accuracy: 0.9543, Testing Accuracy: 0.9637\n",
      "\n",
      "Epoch 140, Loss 0.0422\n",
      "Training Accuracy: 0.9549, Testing Accuracy: 0.9637\n",
      "\n",
      "Epoch 150, Loss 0.0415\n",
      "Training Accuracy: 0.9558, Testing Accuracy: 0.9642\n",
      "\n",
      "Epoch 160, Loss 0.0408\n",
      "Training Accuracy: 0.9561, Testing Accuracy: 0.9642\n",
      "\n",
      "Epoch 170, Loss 0.0402\n",
      "Training Accuracy: 0.9573, Testing Accuracy: 0.9647\n",
      "\n",
      "Epoch 180, Loss 0.0396\n",
      "Training Accuracy: 0.9575, Testing Accuracy: 0.9657\n",
      "\n",
      "Epoch 190, Loss 0.0391\n",
      "Training Accuracy: 0.9581, Testing Accuracy: 0.9657\n",
      "\n",
      "Epoch 200, Loss 0.0386\n",
      "Training Accuracy: 0.9584, Testing Accuracy: 0.9662\n",
      "\n",
      "Epoch 210, Loss 0.0382\n",
      "Training Accuracy: 0.9586, Testing Accuracy: 0.9662\n",
      "\n",
      "Epoch 220, Loss 0.0378\n",
      "Training Accuracy: 0.9589, Testing Accuracy: 0.9662\n",
      "\n",
      "Epoch 230, Loss 0.0374\n",
      "Training Accuracy: 0.9591, Testing Accuracy: 0.9667\n",
      "\n",
      "Epoch 240, Loss 0.037\n",
      "Training Accuracy: 0.9595, Testing Accuracy: 0.9667\n",
      "\n"
     ]
    },
    {
     "data": {
      "text/plain": [
       "0.05008808995426443"
      ]
     },
     "execution_count": 93,
     "metadata": {},
     "output_type": "execute_result"
    }
   ],
   "source": [
    "print(\"====== Logistic Regression ======\")\n",
    "learner_lr.train_loop(dl)"
   ]
  },
  {
   "cell_type": "markdown",
   "metadata": {
    "papermill": {
     "duration": 0.048784,
     "end_time": "2020-08-10T10:14:07.902071",
     "exception": false,
     "start_time": "2020-08-10T10:14:07.853287",
     "status": "completed"
    },
    "tags": []
   },
   "source": [
    "### Comparing results of NN and LR"
   ]
  },
  {
   "cell_type": "code",
   "execution_count": 94,
   "metadata": {
    "execution": {
     "iopub.execute_input": "2020-08-10T10:14:08.008462Z",
     "iopub.status.busy": "2020-08-10T10:14:08.007829Z",
     "iopub.status.idle": "2020-08-10T10:14:08.284620Z",
     "shell.execute_reply": "2020-08-10T10:14:08.285105Z"
    },
    "papermill": {
     "duration": 0.334964,
     "end_time": "2020-08-10T10:14:08.285372",
     "exception": false,
     "start_time": "2020-08-10T10:14:07.950408",
     "status": "completed"
    },
    "tags": []
   },
   "outputs": [
    {
     "data": {
      "text/plain": [
       "<matplotlib.legend.Legend at 0xddd5710>"
      ]
     },
     "execution_count": 94,
     "metadata": {},
     "output_type": "execute_result"
    },
    {
     "data": {
      "image/png": "[encoded data removed]",
      "text/plain": [
       "<Figure size 1080x720 with 1 Axes>"
      ]
     },
     "metadata": {
      "needs_background": "light"
     },
     "output_type": "display_data"
    }
   ],
   "source": [
    "plt.figure(figsize=(15,10))\n",
    "\n",
    "# Neural Network plots\n",
    "plt.plot(acc_nn.accuracies, 'r-', label = \"Training Accuracies - NN\")\n",
    "plt.plot(acc_nn.test_accuracies, 'g-', label = \"Testing Accuracies - NN\")\n",
    "\n",
    "# Logistic Regression plots\n",
    "plt.plot(acc_lr.accuracies, 'k-', label = \"Training Accuracies - LR\")\n",
    "plt.plot(acc_lr.test_accuracies, 'b-', label = \"Testing Accuracies - LR\")\n",
    "\n",
    "plt.ylim(0.8, 1)\n",
    "\n",
    "plt.legend()\n",
    "\n"
   ]
  },
  {
   "cell_type": "markdown",
   "metadata": {},
   "source": [
    "### From the plot, we can observe the following:\n",
    "- Neural Network achieves higher accuracy than the Logistic Regression model.\n",
    "- This apparently, is because of overfitting, i.e. NN captures more noise than data.\n",
    "- Testing accuracy of NN drops below the Training accuracy at higher epochs. This explains the over-fitting on training data.\n",
    "- Logistic Regression gives a reliable accuracy, without the above mentioned problem.\n"
   ]
  },
  {
   "cell_type": "markdown",
   "metadata": {},
   "source": [
    "### Moving till the last but one layer (excluding it).\n",
    "#### Plotting the outputs of this layer of the NN."
   ]
  },
  {
   "cell_type": "code",
   "execution_count": 95,
   "metadata": {
    "execution": {
     "iopub.execute_input": "2020-08-10T10:14:08.592760Z",
     "iopub.status.busy": "2020-08-10T10:14:08.592063Z",
     "iopub.status.idle": "2020-08-10T10:14:08.603524Z",
     "shell.execute_reply": "2020-08-10T10:14:08.603002Z"
    },
    "papermill": {
     "duration": 0.06842,
     "end_time": "2020-08-10T10:14:08.603652",
     "exception": false,
     "start_time": "2020-08-10T10:14:08.535232",
     "status": "completed"
    },
    "tags": []
   },
   "outputs": [],
   "source": [
    "model_new = Model(layers[:-2])"
   ]
  },
  {
   "cell_type": "code",
   "execution_count": 96,
   "metadata": {
    "execution": {
     "iopub.execute_input": "2020-08-10T10:14:08.711928Z",
     "iopub.status.busy": "2020-08-10T10:14:08.711227Z",
     "iopub.status.idle": "2020-08-10T10:14:08.739291Z",
     "shell.execute_reply": "2020-08-10T10:14:08.740245Z"
    },
    "papermill": {
     "duration": 0.082418,
     "end_time": "2020-08-10T10:14:08.740417",
     "exception": false,
     "start_time": "2020-08-10T10:14:08.657999",
     "status": "completed"
    },
    "tags": []
   },
   "outputs": [],
   "source": [
    "plot_testing = model_new(testing_xdata)"
   ]
  },
  {
   "cell_type": "code",
   "execution_count": 1,
   "metadata": {
    "execution": {
     "iopub.execute_input": "2020-08-10T10:14:08.975166Z",
     "iopub.status.busy": "2020-08-10T10:14:08.974557Z",
     "iopub.status.idle": "2020-08-10T10:14:09.211114Z",
     "shell.execute_reply": "2020-08-10T10:14:09.211584Z"
    },
    "papermill": {
     "duration": 0.290248,
     "end_time": "2020-08-10T10:14:09.211742",
     "exception": false,
     "start_time": "2020-08-10T10:14:08.921494",
     "status": "completed"
    },
    "tags": []
   },
   "outputs": [
    {
     "ename": "NameError",
     "evalue": "name 'plt' is not defined",
     "output_type": "error",
     "traceback": [
      "\u001b[1;31m---------------------------------------------------------------------------\u001b[0m",
      "\u001b[1;31mNameError\u001b[0m                                 Traceback (most recent call last)",
      "\u001b[1;32m<ipython-input-1-f2d6384024ae>\u001b[0m in \u001b[0;36m<module>\u001b[1;34m\u001b[0m\n\u001b[1;32m----> 1\u001b[1;33m \u001b[0mplt\u001b[0m\u001b[1;33m.\u001b[0m\u001b[0mfigure\u001b[0m\u001b[1;33m(\u001b[0m\u001b[0mfigsize\u001b[0m\u001b[1;33m=\u001b[0m\u001b[1;33m(\u001b[0m\u001b[1;36m8\u001b[0m\u001b[1;33m,\u001b[0m\u001b[1;36m7\u001b[0m\u001b[1;33m)\u001b[0m\u001b[1;33m)\u001b[0m\u001b[1;33m\u001b[0m\u001b[1;33m\u001b[0m\u001b[0m\n\u001b[0m\u001b[0;32m      2\u001b[0m \u001b[0mplt\u001b[0m\u001b[1;33m.\u001b[0m\u001b[0mscatter\u001b[0m\u001b[1;33m(\u001b[0m\u001b[0mplot_testing\u001b[0m\u001b[1;33m[\u001b[0m\u001b[1;33m:\u001b[0m\u001b[1;33m,\u001b[0m\u001b[1;36m0\u001b[0m\u001b[1;33m]\u001b[0m\u001b[1;33m,\u001b[0m \u001b[0mplot_testing\u001b[0m\u001b[1;33m[\u001b[0m\u001b[1;33m:\u001b[0m\u001b[1;33m,\u001b[0m\u001b[1;36m1\u001b[0m\u001b[1;33m]\u001b[0m\u001b[1;33m,\u001b[0m \u001b[0malpha\u001b[0m \u001b[1;33m=\u001b[0m \u001b[1;36m0.1\u001b[0m\u001b[1;33m,\u001b[0m \u001b[0mc\u001b[0m \u001b[1;33m=\u001b[0m \u001b[0my_test\u001b[0m\u001b[1;33m.\u001b[0m\u001b[0mravel\u001b[0m\u001b[1;33m(\u001b[0m\u001b[1;33m)\u001b[0m\u001b[1;33m)\u001b[0m\u001b[1;33m;\u001b[0m\u001b[1;33m\u001b[0m\u001b[1;33m\u001b[0m\u001b[0m\n\u001b[0;32m      3\u001b[0m \u001b[0mplt\u001b[0m\u001b[1;33m.\u001b[0m\u001b[0mlegend\u001b[0m\u001b[1;33m(\u001b[0m\u001b[1;33m)\u001b[0m\u001b[1;33m\u001b[0m\u001b[1;33m\u001b[0m\u001b[0m\n\u001b[0;32m      4\u001b[0m \u001b[0mplt\u001b[0m\u001b[1;33m.\u001b[0m\u001b[0mtitle\u001b[0m\u001b[1;33m(\u001b[0m\u001b[1;34m'Outputs'\u001b[0m\u001b[1;33m)\u001b[0m\u001b[1;33m\u001b[0m\u001b[1;33m\u001b[0m\u001b[0m\n",
      "\u001b[1;31mNameError\u001b[0m: name 'plt' is not defined"
     ]
    }
   ],
   "source": [
    "plt.figure(figsize=(8,7))\n",
    "plt.scatter(plot_testing[:,0], plot_testing[:,1], alpha = 0.1, c = y_test.ravel());\n",
    "plt.title('Outputs')"
   ]
  },
  {
   "cell_type": "markdown",
   "metadata": {
    "papermill": {
     "duration": 0.054557,
     "end_time": "2020-08-10T10:14:09.319798",
     "exception": false,
     "start_time": "2020-08-10T10:14:09.265241",
     "status": "completed"
    },
    "tags": []
   },
   "source": [
    "### Plotting probability contours"
   ]
  },
  {
   "cell_type": "code",
   "execution_count": 98,
   "metadata": {
    "execution": {
     "iopub.execute_input": "2020-08-10T10:14:09.431226Z",
     "iopub.status.busy": "2020-08-10T10:14:09.430582Z",
     "iopub.status.idle": "2020-08-10T10:14:09.442958Z",
     "shell.execute_reply": "2020-08-10T10:14:09.443643Z"
    },
    "papermill": {
     "duration": 0.068921,
     "end_time": "2020-08-10T10:14:09.443813",
     "exception": false,
     "start_time": "2020-08-10T10:14:09.374892",
     "status": "completed"
    },
    "tags": []
   },
   "outputs": [],
   "source": [
    "model_prob = Model(layers[-2:]) "
   ]
  },
  {
   "cell_type": "code",
   "execution_count": 99,
   "metadata": {
    "execution": {
     "iopub.execute_input": "2020-08-10T10:14:09.559194Z",
     "iopub.status.busy": "2020-08-10T10:14:09.558572Z",
     "iopub.status.idle": "2020-08-10T10:14:09.573990Z",
     "shell.execute_reply": "2020-08-10T10:14:09.574550Z"
    },
    "papermill": {
     "duration": 0.075047,
     "end_time": "2020-08-10T10:14:09.574709",
     "exception": false,
     "start_time": "2020-08-10T10:14:09.499662",
     "status": "completed"
    },
    "tags": []
   },
   "outputs": [],
   "source": [
    "# Adjust the x and y ranges according to the above generated plot.\n",
    "x_range = np.linspace(-4, 1, 100) \n",
    "y_range = np.linspace(-6, 6, 100) \n",
    "x_grid, y_grid = np.meshgrid(x_range, y_range) # x_grid and y_grig are of size 100 X 100\n",
    "\n",
    "# converting x_grid and y_grid to continuous arrays\n",
    "x_grid_flat = np.ravel(x_grid)\n",
    "y_grid_flat = np.ravel(y_grid)\n",
    "\n",
    "# The last layer of the current model takes two columns as input. Hence transpose of np.vstack() is required.\n",
    "X = np.vstack((x_grid_flat, y_grid_flat)).T\n",
    "\n",
    "# x_grid and y_grid are of size 100 x 100\n",
    "probability_contour = model_prob(X).reshape(100,100) "
   ]
  },
  {
   "cell_type": "code",
   "execution_count": 100,
   "metadata": {
    "execution": {
     "iopub.execute_input": "2020-08-10T10:14:09.692738Z",
     "iopub.status.busy": "2020-08-10T10:14:09.692185Z",
     "iopub.status.idle": "2020-08-10T10:14:09.994971Z",
     "shell.execute_reply": "2020-08-10T10:14:09.994354Z"
    },
    "papermill": {
     "duration": 0.361348,
     "end_time": "2020-08-10T10:14:09.995135",
     "exception": false,
     "start_time": "2020-08-10T10:14:09.633787",
     "status": "completed"
    },
    "tags": []
   },
   "outputs": [
    {
     "data": {
      "image/png": "[encoded data removed]",
      "text/plain": [
       "<Figure size 720x648 with 1 Axes>"
      ]
     },
     "metadata": {
      "needs_background": "light"
     },
     "output_type": "display_data"
    }
   ],
   "source": [
    "plt.figure(figsize=(10,9))\n",
    "plt.scatter(plot_testing[:,0], plot_testing[:,1], alpha = 0.1, c = y_test.ravel())\n",
    "contours = plt.contour(x_grid,y_grid,probability_contour)\n",
    "plt.title('Probability Contours')\n",
    "plt.clabel(contours, inline = True );"
   ]
  }
 ],
 "metadata": {
  "kernelspec": {
   "display_name": "Python 3",
   "language": "python",
   "name": "python3"
  },
  "language_info": {
   "codemirror_mode": {
    "name": "ipython",
    "version": 3
   },
   "file_extension": ".py",
   "mimetype": "text/x-python",
   "name": "python",
   "nbconvert_exporter": "python",
   "pygments_lexer": "ipython3",
   "version": "3.7.3"
  },
  "papermill": {
   "duration": 170.388335,
   "end_time": "2020-08-10T10:14:10.360570",
   "environment_variables": {},
   "exception": null,
   "input_path": "2020-08-07-NN-new.ipynb",
   "output_path": "2020-08-07-NN-new.ipynb",
   "parameters": {},
   "start_time": "2020-08-10T10:11:19.972235",
   "version": "2.1.2"
  }
 },
 "nbformat": 4,
 "nbformat_minor": 4
}
