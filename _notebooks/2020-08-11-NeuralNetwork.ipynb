{
 "cells": [
  {
   "cell_type": "markdown",
   "id": "fitted-suggestion",
   "metadata": {
    "papermill": {
     "duration": 0.038473,
     "end_time": "2021-03-24T00:06:16.532253",
     "exception": false,
     "start_time": "2021-03-24T00:06:16.493780",
     "status": "completed"
    },
    "tags": []
   },
   "source": [
    "# \"A Basic Neural Network: Differentiate Hand-Written Digits\"\n",
    "\n",
    "- badges: true\n",
    "- author: Akshith Sriram"
   ]
  },
  {
   "cell_type": "markdown",
   "id": "signal-flexibility",
   "metadata": {
    "papermill": {
     "duration": 0.034098,
     "end_time": "2021-03-24T00:06:16.600870",
     "exception": false,
     "start_time": "2021-03-24T00:06:16.566772",
     "status": "completed"
    },
    "tags": []
   },
   "source": [
    "### Key Objectives:\n",
    "- Building a neural network that differentiates two hand-written digits 3 and 8.\n",
    "- Comparing the results of this Neural Network (NN) to that of a Logistic Regression (LR) model.\n",
    "\n",
    "### Requirements:\n",
    "- 'Kudzu' : A neural network library that was designed during our course by [Univ.AI](www.univ.ai). \n",
    "- MNIST Database\n",
    "\n",
    "If MNIST is not installed, use the command `!pip install mnist` given below.\n",
    "It can be run both from the command line and Jupyter Notebook."
   ]
  },
  {
   "cell_type": "code",
   "execution_count": 1,
   "id": "british-texture",
   "metadata": {
    "execution": {
     "iopub.execute_input": "2021-03-24T00:06:16.676817Z",
     "iopub.status.busy": "2021-03-24T00:06:16.676163Z",
     "iopub.status.idle": "2021-03-24T00:06:18.286625Z",
     "shell.execute_reply": "2021-03-24T00:06:18.285740Z"
    },
    "papermill": {
     "duration": 1.654455,
     "end_time": "2021-03-24T00:06:18.286799",
     "exception": false,
     "start_time": "2021-03-24T00:06:16.632344",
     "status": "completed"
    },
    "tags": []
   },
   "outputs": [
    {
     "name": "stdout",
     "output_type": "stream",
     "text": [
      "Collecting mnist\r\n"
     ]
    },
    {
     "name": "stdout",
     "output_type": "stream",
     "text": [
      "  Downloading mnist-0.2.2-py2.py3-none-any.whl (3.5 kB)\r\n",
      "Requirement already satisfied: numpy in /opt/hostedtoolcache/Python/3.6.13/x64/lib/python3.6/site-packages (from mnist) (1.19.5)\r\n"
     ]
    },
    {
     "name": "stdout",
     "output_type": "stream",
     "text": [
      "Installing collected packages: mnist\r\n"
     ]
    },
    {
     "name": "stdout",
     "output_type": "stream",
     "text": [
      "Successfully installed mnist-0.2.2\r\n"
     ]
    }
   ],
   "source": [
    "!pip install mnist "
   ]
  },
  {
   "cell_type": "markdown",
   "id": "stunning-extra",
   "metadata": {
    "papermill": {
     "duration": 0.03332,
     "end_time": "2021-03-24T00:06:18.354305",
     "exception": false,
     "start_time": "2021-03-24T00:06:18.320985",
     "status": "completed"
    },
    "tags": []
   },
   "source": [
    "#### Importing necessary libraries"
   ]
  },
  {
   "cell_type": "code",
   "execution_count": 2,
   "id": "wooden-france",
   "metadata": {
    "execution": {
     "iopub.execute_input": "2021-03-24T00:06:18.428044Z",
     "iopub.status.busy": "2021-03-24T00:06:18.427378Z",
     "iopub.status.idle": "2021-03-24T00:06:19.014291Z",
     "shell.execute_reply": "2021-03-24T00:06:19.014808Z"
    },
    "papermill": {
     "duration": 0.627804,
     "end_time": "2021-03-24T00:06:19.014977",
     "exception": false,
     "start_time": "2021-03-24T00:06:18.387173",
     "status": "completed"
    },
    "tags": []
   },
   "outputs": [],
   "source": [
    "%load_ext autoreload\n",
    "%autoreload 2\n",
    "\n",
    "%matplotlib inline\n",
    "import matplotlib.pyplot as plt\n",
    "\n",
    "import numpy as np\n",
    "import pandas as pd"
   ]
  },
  {
   "cell_type": "markdown",
   "id": "stunning-physics",
   "metadata": {
    "papermill": {
     "duration": 0.032928,
     "end_time": "2021-03-24T00:06:19.081991",
     "exception": false,
     "start_time": "2021-03-24T00:06:19.049063",
     "status": "completed"
    },
    "tags": []
   },
   "source": [
    "### Preparing the Data"
   ]
  },
  {
   "cell_type": "code",
   "execution_count": 3,
   "id": "unauthorized-remainder",
   "metadata": {
    "execution": {
     "iopub.execute_input": "2021-03-24T00:06:19.154912Z",
     "iopub.status.busy": "2021-03-24T00:06:19.154226Z",
     "iopub.status.idle": "2021-03-24T00:06:19.166137Z",
     "shell.execute_reply": "2021-03-24T00:06:19.165593Z"
    },
    "papermill": {
     "duration": 0.048844,
     "end_time": "2021-03-24T00:06:19.166264",
     "exception": false,
     "start_time": "2021-03-24T00:06:19.117420",
     "status": "completed"
    },
    "tags": []
   },
   "outputs": [],
   "source": [
    "import mnist"
   ]
  },
  {
   "cell_type": "code",
   "execution_count": 4,
   "id": "correct-antarctica",
   "metadata": {
    "execution": {
     "iopub.execute_input": "2021-03-24T00:06:19.240197Z",
     "iopub.status.busy": "2021-03-24T00:06:19.239458Z",
     "iopub.status.idle": "2021-03-24T00:11:20.364993Z",
     "shell.execute_reply": "2021-03-24T00:11:20.365517Z"
    },
    "papermill": {
     "duration": 301.166309,
     "end_time": "2021-03-24T00:11:20.365686",
     "exception": false,
     "start_time": "2021-03-24T00:06:19.199377",
     "status": "completed"
    },
    "tags": []
   },
   "outputs": [],
   "source": [
    "train_images = mnist.train_images()\n",
    "train_labels = mnist.train_labels()"
   ]
  },
  {
   "cell_type": "code",
   "execution_count": 5,
   "id": "musical-prospect",
   "metadata": {
    "execution": {
     "iopub.execute_input": "2021-03-24T00:11:20.443129Z",
     "iopub.status.busy": "2021-03-24T00:11:20.442479Z",
     "iopub.status.idle": "2021-03-24T00:11:20.457446Z",
     "shell.execute_reply": "2021-03-24T00:11:20.458193Z"
    },
    "papermill": {
     "duration": 0.059154,
     "end_time": "2021-03-24T00:11:20.458356",
     "exception": false,
     "start_time": "2021-03-24T00:11:20.399202",
     "status": "completed"
    },
    "tags": []
   },
   "outputs": [
    {
     "data": {
      "text/plain": [
       "((60000, 28, 28), (60000,))"
      ]
     },
     "execution_count": 5,
     "metadata": {},
     "output_type": "execute_result"
    }
   ],
   "source": [
    "train_images.shape, train_labels.shape"
   ]
  },
  {
   "cell_type": "code",
   "execution_count": 6,
   "id": "preliminary-elizabeth",
   "metadata": {
    "execution": {
     "iopub.execute_input": "2021-03-24T00:11:20.545343Z",
     "iopub.status.busy": "2021-03-24T00:11:20.541627Z",
     "iopub.status.idle": "2021-03-24T00:12:12.004115Z",
     "shell.execute_reply": "2021-03-24T00:12:12.004641Z"
    },
    "papermill": {
     "duration": 51.510769,
     "end_time": "2021-03-24T00:12:12.004811",
     "exception": false,
     "start_time": "2021-03-24T00:11:20.494042",
     "status": "completed"
    },
    "tags": []
   },
   "outputs": [],
   "source": [
    "test_images = mnist.test_images()\n",
    "test_labels = mnist.test_labels()"
   ]
  },
  {
   "cell_type": "code",
   "execution_count": 7,
   "id": "acknowledged-oxygen",
   "metadata": {
    "execution": {
     "iopub.execute_input": "2021-03-24T00:12:12.081532Z",
     "iopub.status.busy": "2021-03-24T00:12:12.080859Z",
     "iopub.status.idle": "2021-03-24T00:12:12.093417Z",
     "shell.execute_reply": "2021-03-24T00:12:12.092882Z"
    },
    "papermill": {
     "duration": 0.054744,
     "end_time": "2021-03-24T00:12:12.093565",
     "exception": false,
     "start_time": "2021-03-24T00:12:12.038821",
     "status": "completed"
    },
    "tags": []
   },
   "outputs": [
    {
     "data": {
      "text/plain": [
       "((10000, 28, 28), (10000,))"
      ]
     },
     "execution_count": 7,
     "metadata": {},
     "output_type": "execute_result"
    }
   ],
   "source": [
    "test_images.shape, test_labels.shape"
   ]
  },
  {
   "cell_type": "code",
   "execution_count": 8,
   "id": "innovative-organic",
   "metadata": {
    "execution": {
     "iopub.execute_input": "2021-03-24T00:12:12.178463Z",
     "iopub.status.busy": "2021-03-24T00:12:12.174716Z",
     "iopub.status.idle": "2021-03-24T00:12:12.350485Z",
     "shell.execute_reply": "2021-03-24T00:12:12.351021Z"
    },
    "papermill": {
     "duration": 0.221687,
     "end_time": "2021-03-24T00:12:12.351184",
     "exception": false,
     "start_time": "2021-03-24T00:12:12.129497",
     "status": "completed"
    },
    "tags": []
   },
   "outputs": [
    {
     "name": "stdout",
     "output_type": "stream",
     "text": [
      "2\n"
     ]
    },
    {
     "data": {
      "text/plain": [
       "<matplotlib.image.AxesImage at 0x7f5d424e1a58>"
      ]
     },
     "execution_count": 8,
     "metadata": {},
     "output_type": "execute_result"
    },
    {
     "data": {
      "image/png": "[encoded data removed]",
      "text/plain": [
       "<Figure size 432x288 with 1 Axes>"
      ]
     },
     "metadata": {
      "needs_background": "light"
     },
     "output_type": "display_data"
    }
   ],
   "source": [
    "image_index = 7776 # You may select anything up to 60,000\n",
    "print(train_labels[image_index]) \n",
    "plt.imshow(train_images[image_index], cmap='Greys')"
   ]
  },
  {
   "cell_type": "markdown",
   "id": "facial-modem",
   "metadata": {
    "papermill": {
     "duration": 0.036328,
     "end_time": "2021-03-24T00:12:12.423772",
     "exception": false,
     "start_time": "2021-03-24T00:12:12.387444",
     "status": "completed"
    },
    "tags": []
   },
   "source": [
    "## Filter data to get 3 and 8 out"
   ]
  },
  {
   "cell_type": "code",
   "execution_count": 9,
   "id": "thousand-acquisition",
   "metadata": {
    "execution": {
     "iopub.execute_input": "2021-03-24T00:12:12.517374Z",
     "iopub.status.busy": "2021-03-24T00:12:12.508321Z",
     "iopub.status.idle": "2021-03-24T00:12:12.525768Z",
     "shell.execute_reply": "2021-03-24T00:12:12.525210Z"
    },
    "papermill": {
     "duration": 0.064695,
     "end_time": "2021-03-24T00:12:12.525913",
     "exception": false,
     "start_time": "2021-03-24T00:12:12.461218",
     "status": "completed"
    },
    "tags": []
   },
   "outputs": [],
   "source": [
    "train_filter = np.where((train_labels == 3 ) | (train_labels == 8))\n",
    "test_filter = np.where((test_labels == 3) | (test_labels == 8))\n",
    "X_train, y_train = train_images[train_filter], train_labels[train_filter]\n",
    "X_test, y_test = test_images[test_filter], test_labels[test_filter]"
   ]
  },
  {
   "cell_type": "markdown",
   "id": "ruled-access",
   "metadata": {
    "papermill": {
     "duration": 0.036014,
     "end_time": "2021-03-24T00:12:12.602420",
     "exception": false,
     "start_time": "2021-03-24T00:12:12.566406",
     "status": "completed"
    },
    "tags": []
   },
   "source": [
    "We normalize the pixel values in the 0 to 1 range"
   ]
  },
  {
   "cell_type": "code",
   "execution_count": 10,
   "id": "isolated-denver",
   "metadata": {
    "execution": {
     "iopub.execute_input": "2021-03-24T00:12:12.693087Z",
     "iopub.status.busy": "2021-03-24T00:12:12.684805Z",
     "iopub.status.idle": "2021-03-24T00:12:12.746155Z",
     "shell.execute_reply": "2021-03-24T00:12:12.745010Z"
    },
    "papermill": {
     "duration": 0.108142,
     "end_time": "2021-03-24T00:12:12.746301",
     "exception": false,
     "start_time": "2021-03-24T00:12:12.638159",
     "status": "completed"
    },
    "tags": []
   },
   "outputs": [],
   "source": [
    "X_train = X_train/255.\n",
    "X_test = X_test/255."
   ]
  },
  {
   "cell_type": "markdown",
   "id": "perfect-summary",
   "metadata": {
    "papermill": {
     "duration": 0.037675,
     "end_time": "2021-03-24T00:12:12.824512",
     "exception": false,
     "start_time": "2021-03-24T00:12:12.786837",
     "status": "completed"
    },
    "tags": []
   },
   "source": [
    "Setup the labels as 1 (when the digit is 3) and 0 (when the digit is 8)"
   ]
  },
  {
   "cell_type": "code",
   "execution_count": 11,
   "id": "personalized-growing",
   "metadata": {
    "execution": {
     "iopub.execute_input": "2021-03-24T00:12:12.903852Z",
     "iopub.status.busy": "2021-03-24T00:12:12.903184Z",
     "iopub.status.idle": "2021-03-24T00:12:12.915244Z",
     "shell.execute_reply": "2021-03-24T00:12:12.914686Z"
    },
    "papermill": {
     "duration": 0.054555,
     "end_time": "2021-03-24T00:12:12.915391",
     "exception": false,
     "start_time": "2021-03-24T00:12:12.860836",
     "status": "completed"
    },
    "tags": []
   },
   "outputs": [],
   "source": [
    "y_train = 1*(y_train==3)\n",
    "y_test = 1*(y_test==3)"
   ]
  },
  {
   "cell_type": "code",
   "execution_count": 12,
   "id": "considered-virgin",
   "metadata": {
    "execution": {
     "iopub.execute_input": "2021-03-24T00:12:12.997343Z",
     "iopub.status.busy": "2021-03-24T00:12:12.996702Z",
     "iopub.status.idle": "2021-03-24T00:12:13.009494Z",
     "shell.execute_reply": "2021-03-24T00:12:13.010044Z"
    },
    "papermill": {
     "duration": 0.054743,
     "end_time": "2021-03-24T00:12:13.010203",
     "exception": false,
     "start_time": "2021-03-24T00:12:12.955460",
     "status": "completed"
    },
    "tags": []
   },
   "outputs": [
    {
     "data": {
      "text/plain": [
       "((11982, 28, 28), (1984, 28, 28))"
      ]
     },
     "execution_count": 12,
     "metadata": {},
     "output_type": "execute_result"
    }
   ],
   "source": [
    "X_train.shape, X_test.shape"
   ]
  },
  {
   "cell_type": "markdown",
   "id": "civilian-mobile",
   "metadata": {
    "papermill": {
     "duration": 0.035619,
     "end_time": "2021-03-24T00:12:13.081803",
     "exception": false,
     "start_time": "2021-03-24T00:12:13.046184",
     "status": "completed"
    },
    "tags": []
   },
   "source": [
    "### Reshape the input data to create a linear array"
   ]
  },
  {
   "cell_type": "code",
   "execution_count": 13,
   "id": "colonial-adams",
   "metadata": {
    "execution": {
     "iopub.execute_input": "2021-03-24T00:12:13.160679Z",
     "iopub.status.busy": "2021-03-24T00:12:13.159969Z",
     "iopub.status.idle": "2021-03-24T00:12:13.173886Z",
     "shell.execute_reply": "2021-03-24T00:12:13.174522Z"
    },
    "papermill": {
     "duration": 0.055097,
     "end_time": "2021-03-24T00:12:13.174689",
     "exception": false,
     "start_time": "2021-03-24T00:12:13.119592",
     "status": "completed"
    },
    "tags": []
   },
   "outputs": [
    {
     "data": {
      "text/plain": [
       "((11982, 784), (1984, 784))"
      ]
     },
     "execution_count": 13,
     "metadata": {},
     "output_type": "execute_result"
    }
   ],
   "source": [
    "X_train = X_train.reshape(X_train.shape[0], -1)\n",
    "X_test = X_test.reshape(X_test.shape[0], -1)\n",
    "X_train.shape, X_test.shape"
   ]
  },
  {
   "cell_type": "markdown",
   "id": "smart-details",
   "metadata": {
    "papermill": {
     "duration": 0.036457,
     "end_time": "2021-03-24T00:12:13.249427",
     "exception": false,
     "start_time": "2021-03-24T00:12:13.212970",
     "status": "completed"
    },
    "tags": []
   },
   "source": [
    "### Importing appropriate functions from 'Kudzu'"
   ]
  },
  {
   "cell_type": "code",
   "execution_count": 14,
   "id": "celtic-trial",
   "metadata": {
    "execution": {
     "iopub.execute_input": "2021-03-24T00:12:13.333060Z",
     "iopub.status.busy": "2021-03-24T00:12:13.332409Z",
     "iopub.status.idle": "2021-03-24T00:12:13.349440Z",
     "shell.execute_reply": "2021-03-24T00:12:13.348891Z"
    },
    "papermill": {
     "duration": 0.064184,
     "end_time": "2021-03-24T00:12:13.349583",
     "exception": false,
     "start_time": "2021-03-24T00:12:13.285399",
     "status": "completed"
    },
    "tags": []
   },
   "outputs": [],
   "source": [
    "from kudzu.layer import Sigmoid\n",
    "from kudzu.layer import Relu\n",
    "from kudzu.layer import Affine, Sigmoid\n",
    "\n",
    "from kudzu.model import Model\n",
    "from kudzu.train import Learner\n",
    "from kudzu.optim import GD\n",
    "from kudzu.data import Data, Dataloader, Sampler\n",
    "\n",
    "from kudzu.callbacks import AccCallback\n",
    "from kudzu.callbacks import ClfCallback\n",
    "\n",
    "from kudzu.loss import MSE"
   ]
  },
  {
   "cell_type": "markdown",
   "id": "coupled-customer",
   "metadata": {
    "papermill": {
     "duration": 0.037684,
     "end_time": "2021-03-24T00:12:13.424254",
     "exception": false,
     "start_time": "2021-03-24T00:12:13.386570",
     "status": "completed"
    },
    "tags": []
   },
   "source": [
    "### Let us create a `Config` class, to store important parameters. \n",
    "This class essentially plays the role of a dictionary."
   ]
  },
  {
   "cell_type": "code",
   "execution_count": 15,
   "id": "young-ceiling",
   "metadata": {
    "execution": {
     "iopub.execute_input": "2021-03-24T00:12:13.519159Z",
     "iopub.status.busy": "2021-03-24T00:12:13.518474Z",
     "iopub.status.idle": "2021-03-24T00:12:13.520643Z",
     "shell.execute_reply": "2021-03-24T00:12:13.521166Z"
    },
    "papermill": {
     "duration": 0.059218,
     "end_time": "2021-03-24T00:12:13.521328",
     "exception": false,
     "start_time": "2021-03-24T00:12:13.462110",
     "status": "completed"
    },
    "tags": []
   },
   "outputs": [],
   "source": [
    "class Config:\n",
    "    pass\n",
    "config = Config()\n",
    "config.lr = 0.001\n",
    "config.num_epochs = 251\n",
    "config.bs = 50"
   ]
  },
  {
   "cell_type": "markdown",
   "id": "according-mandate",
   "metadata": {
    "papermill": {
     "duration": 0.035907,
     "end_time": "2021-03-24T00:12:13.594333",
     "exception": false,
     "start_time": "2021-03-24T00:12:13.558426",
     "status": "completed"
    },
    "tags": []
   },
   "source": [
    "### Initializing data to the variables"
   ]
  },
  {
   "cell_type": "code",
   "execution_count": 16,
   "id": "academic-disposition",
   "metadata": {
    "execution": {
     "iopub.execute_input": "2021-03-24T00:12:13.692087Z",
     "iopub.status.busy": "2021-03-24T00:12:13.691387Z",
     "iopub.status.idle": "2021-03-24T00:12:13.704491Z",
     "shell.execute_reply": "2021-03-24T00:12:13.705004Z"
    },
    "papermill": {
     "duration": 0.067628,
     "end_time": "2021-03-24T00:12:13.705176",
     "exception": false,
     "start_time": "2021-03-24T00:12:13.637548",
     "status": "completed"
    },
    "tags": []
   },
   "outputs": [],
   "source": [
    "data = Data(X_train, y_train.reshape(-1,1))\n",
    "sampler = Sampler(data, config.bs, shuffle=True)\n",
    "\n",
    "dl = Dataloader(data, sampler)\n",
    "\n",
    "opt = GD(config.lr)\n",
    "loss = MSE()"
   ]
  },
  {
   "cell_type": "code",
   "execution_count": 17,
   "id": "featured-commission",
   "metadata": {
    "execution": {
     "iopub.execute_input": "2021-03-24T00:12:13.794209Z",
     "iopub.status.busy": "2021-03-24T00:12:13.793570Z",
     "iopub.status.idle": "2021-03-24T00:12:13.805998Z",
     "shell.execute_reply": "2021-03-24T00:12:13.805454Z"
    },
    "papermill": {
     "duration": 0.061905,
     "end_time": "2021-03-24T00:12:13.806142",
     "exception": false,
     "start_time": "2021-03-24T00:12:13.744237",
     "status": "completed"
    },
    "tags": []
   },
   "outputs": [],
   "source": [
    "training_xdata = X_train\n",
    "testing_xdata = X_test\n",
    "training_ydata = y_train.reshape(-1,1)\n",
    "testing_ydata = y_test.reshape(-1,1)"
   ]
  },
  {
   "cell_type": "markdown",
   "id": "played-safety",
   "metadata": {
    "papermill": {
     "duration": 0.038417,
     "end_time": "2021-03-24T00:12:13.882533",
     "exception": false,
     "start_time": "2021-03-24T00:12:13.844116",
     "status": "completed"
    },
    "tags": []
   },
   "source": [
    "### Running Models with the Training data\n",
    "Details about the network layers:\n",
    "- A first affine layer has 784 inputs and does 100 affine transforms. These are followed by a Relu\n",
    "- A second affine layer has 100 inputs from the 100 activations of the past layer, and does 100 affine transforms. These are followed by a Relu\n",
    "- A third affine layer has 100 activations and does 2 affine transformations to create an embedding for visualization. There is no non-linearity here.\n",
    "- A final \"logistic regression\" which has an affine transform from 2 inputs to 1 output, which is squeezed through a sigmoid.\n",
    "\n",
    "Help taken from Anshuman's Notebook."
   ]
  },
  {
   "cell_type": "code",
   "execution_count": 18,
   "id": "asian-bankruptcy",
   "metadata": {
    "execution": {
     "iopub.execute_input": "2021-03-24T00:12:13.971339Z",
     "iopub.status.busy": "2021-03-24T00:12:13.970668Z",
     "iopub.status.idle": "2021-03-24T00:12:13.981668Z",
     "shell.execute_reply": "2021-03-24T00:12:13.981139Z"
    },
    "papermill": {
     "duration": 0.062994,
     "end_time": "2021-03-24T00:12:13.981812",
     "exception": false,
     "start_time": "2021-03-24T00:12:13.918818",
     "status": "completed"
    },
    "tags": []
   },
   "outputs": [],
   "source": [
    "# layers for the Neural Network\n",
    "layers = [Affine(\"first\", 784, 100), Relu(\"first\"), Affine(\"second\", 100, 100), Relu(\"second\"), Affine(\"third\", 100, 2), Affine(\"final\", 2, 1), Sigmoid(\"final\")]\n",
    "model_nn = Model(layers)\n",
    "\n",
    "# layers for the Logistic Regression\n",
    "layers_lr = [Affine(\"logits\", 784, 1), Sigmoid(\"sigmoid\")]\n",
    "model_lr = Model(layers_lr)"
   ]
  },
  {
   "cell_type": "code",
   "execution_count": 19,
   "id": "removed-butler",
   "metadata": {
    "execution": {
     "iopub.execute_input": "2021-03-24T00:12:14.063379Z",
     "iopub.status.busy": "2021-03-24T00:12:14.062740Z",
     "iopub.status.idle": "2021-03-24T00:12:14.072866Z",
     "shell.execute_reply": "2021-03-24T00:12:14.074589Z"
    },
    "papermill": {
     "duration": 0.056744,
     "end_time": "2021-03-24T00:12:14.074764",
     "exception": false,
     "start_time": "2021-03-24T00:12:14.018020",
     "status": "completed"
    },
    "tags": []
   },
   "outputs": [],
   "source": [
    "# suffix _nn stands for Neural Network.\n",
    "learner_nn = Learner(loss, model_nn, opt, config.num_epochs)\n",
    "acc_nn = ClfCallback(learner_nn, config.bs, training_xdata , testing_xdata, training_ydata, testing_ydata)\n",
    "learner_nn.set_callbacks([acc_nn])"
   ]
  },
  {
   "cell_type": "code",
   "execution_count": 20,
   "id": "conceptual-throw",
   "metadata": {
    "execution": {
     "iopub.execute_input": "2021-03-24T00:12:14.156435Z",
     "iopub.status.busy": "2021-03-24T00:12:14.155759Z",
     "iopub.status.idle": "2021-03-24T00:14:28.676539Z",
     "shell.execute_reply": "2021-03-24T00:14:28.677145Z"
    },
    "papermill": {
     "duration": 134.564578,
     "end_time": "2021-03-24T00:14:28.677303",
     "exception": false,
     "start_time": "2021-03-24T00:12:14.112725",
     "status": "completed"
    },
    "tags": []
   },
   "outputs": [
    {
     "name": "stdout",
     "output_type": "stream",
     "text": [
      "====== Neural Network ======\n"
     ]
    },
    {
     "name": "stdout",
     "output_type": "stream",
     "text": [
      "Epoch 0, Loss 0.2317\n",
      "Training Accuracy: 0.7733, Testing Accuracy: 0.7928\n",
      "\n"
     ]
    },
    {
     "name": "stdout",
     "output_type": "stream",
     "text": [
      "Epoch 10, Loss 0.0546\n",
      "Training Accuracy: 0.9391, Testing Accuracy: 0.9491\n",
      "\n"
     ]
    },
    {
     "name": "stdout",
     "output_type": "stream",
     "text": [
      "Epoch 20, Loss 0.0387\n",
      "Training Accuracy: 0.9562, Testing Accuracy: 0.9632\n",
      "\n"
     ]
    },
    {
     "name": "stdout",
     "output_type": "stream",
     "text": [
      "Epoch 30, Loss 0.0325\n",
      "Training Accuracy: 0.9634, Testing Accuracy: 0.9693\n",
      "\n"
     ]
    },
    {
     "name": "stdout",
     "output_type": "stream",
     "text": [
      "Epoch 40, Loss 0.0289\n",
      "Training Accuracy: 0.9675, Testing Accuracy: 0.9703\n",
      "\n"
     ]
    },
    {
     "name": "stdout",
     "output_type": "stream",
     "text": [
      "Epoch 50, Loss 0.0265\n",
      "Training Accuracy: 0.9697, Testing Accuracy: 0.9738\n",
      "\n"
     ]
    },
    {
     "name": "stdout",
     "output_type": "stream",
     "text": [
      "Epoch 60, Loss 0.0247\n",
      "Training Accuracy: 0.9724, Testing Accuracy: 0.9743\n",
      "\n"
     ]
    },
    {
     "name": "stdout",
     "output_type": "stream",
     "text": [
      "Epoch 70, Loss 0.0233\n",
      "Training Accuracy: 0.9737, Testing Accuracy: 0.9753\n",
      "\n"
     ]
    },
    {
     "name": "stdout",
     "output_type": "stream",
     "text": [
      "Epoch 80, Loss 0.0221\n",
      "Training Accuracy: 0.9750, Testing Accuracy: 0.9763\n",
      "\n"
     ]
    },
    {
     "name": "stdout",
     "output_type": "stream",
     "text": [
      "Epoch 90, Loss 0.0211\n",
      "Training Accuracy: 0.9765, Testing Accuracy: 0.9763\n",
      "\n"
     ]
    },
    {
     "name": "stdout",
     "output_type": "stream",
     "text": [
      "Epoch 100, Loss 0.0202\n",
      "Training Accuracy: 0.9771, Testing Accuracy: 0.9773\n",
      "\n"
     ]
    },
    {
     "name": "stdout",
     "output_type": "stream",
     "text": [
      "Epoch 110, Loss 0.0194\n",
      "Training Accuracy: 0.9781, Testing Accuracy: 0.9773\n",
      "\n"
     ]
    },
    {
     "name": "stdout",
     "output_type": "stream",
     "text": [
      "Epoch 120, Loss 0.0187\n",
      "Training Accuracy: 0.9791, Testing Accuracy: 0.9788\n",
      "\n"
     ]
    },
    {
     "name": "stdout",
     "output_type": "stream",
     "text": [
      "Epoch 130, Loss 0.018\n",
      "Training Accuracy: 0.9801, Testing Accuracy: 0.9788\n",
      "\n"
     ]
    },
    {
     "name": "stdout",
     "output_type": "stream",
     "text": [
      "Epoch 140, Loss 0.0174\n",
      "Training Accuracy: 0.9809, Testing Accuracy: 0.9803\n",
      "\n"
     ]
    },
    {
     "name": "stdout",
     "output_type": "stream",
     "text": [
      "Epoch 150, Loss 0.0168\n",
      "Training Accuracy: 0.9816, Testing Accuracy: 0.9803\n",
      "\n"
     ]
    },
    {
     "name": "stdout",
     "output_type": "stream",
     "text": [
      "Epoch 160, Loss 0.0163\n",
      "Training Accuracy: 0.9823, Testing Accuracy: 0.9808\n",
      "\n"
     ]
    },
    {
     "name": "stdout",
     "output_type": "stream",
     "text": [
      "Epoch 170, Loss 0.0157\n",
      "Training Accuracy: 0.9829, Testing Accuracy: 0.9808\n",
      "\n"
     ]
    },
    {
     "name": "stdout",
     "output_type": "stream",
     "text": [
      "Epoch 180, Loss 0.0152\n",
      "Training Accuracy: 0.9834, Testing Accuracy: 0.9808\n",
      "\n"
     ]
    },
    {
     "name": "stdout",
     "output_type": "stream",
     "text": [
      "Epoch 190, Loss 0.0148\n",
      "Training Accuracy: 0.9843, Testing Accuracy: 0.9808\n",
      "\n"
     ]
    },
    {
     "name": "stdout",
     "output_type": "stream",
     "text": [
      "Epoch 200, Loss 0.0143\n",
      "Training Accuracy: 0.9850, Testing Accuracy: 0.9814\n",
      "\n"
     ]
    },
    {
     "name": "stdout",
     "output_type": "stream",
     "text": [
      "Epoch 210, Loss 0.0139\n",
      "Training Accuracy: 0.9852, Testing Accuracy: 0.9808\n",
      "\n"
     ]
    },
    {
     "name": "stdout",
     "output_type": "stream",
     "text": [
      "Epoch 220, Loss 0.0134\n",
      "Training Accuracy: 0.9858, Testing Accuracy: 0.9829\n",
      "\n"
     ]
    },
    {
     "name": "stdout",
     "output_type": "stream",
     "text": [
      "Epoch 230, Loss 0.013\n",
      "Training Accuracy: 0.9858, Testing Accuracy: 0.9824\n",
      "\n"
     ]
    },
    {
     "name": "stdout",
     "output_type": "stream",
     "text": [
      "Epoch 240, Loss 0.0127\n",
      "Training Accuracy: 0.9866, Testing Accuracy: 0.9829\n",
      "\n"
     ]
    },
    {
     "name": "stdout",
     "output_type": "stream",
     "text": [
      "Epoch 250, Loss 0.0123\n",
      "Training Accuracy: 0.9873, Testing Accuracy: 0.9829\n",
      "\n"
     ]
    },
    {
     "data": {
      "text/plain": [
       "0.005368871140000616"
      ]
     },
     "execution_count": 20,
     "metadata": {},
     "output_type": "execute_result"
    }
   ],
   "source": [
    "print(\"====== Neural Network ======\")\n",
    "learner_nn.train_loop(dl)"
   ]
  },
  {
   "cell_type": "markdown",
   "id": "competent-suffering",
   "metadata": {
    "papermill": {
     "duration": 0.047847,
     "end_time": "2021-03-24T00:14:28.770678",
     "exception": false,
     "start_time": "2021-03-24T00:14:28.722831",
     "status": "completed"
    },
    "tags": []
   },
   "source": [
    "### Logistic Regression based Implementation."
   ]
  },
  {
   "cell_type": "code",
   "execution_count": 21,
   "id": "qualified-psychiatry",
   "metadata": {
    "execution": {
     "iopub.execute_input": "2021-03-24T00:14:28.870700Z",
     "iopub.status.busy": "2021-03-24T00:14:28.869858Z",
     "iopub.status.idle": "2021-03-24T00:14:28.883507Z",
     "shell.execute_reply": "2021-03-24T00:14:28.882952Z"
    },
    "papermill": {
     "duration": 0.067786,
     "end_time": "2021-03-24T00:14:28.883645",
     "exception": false,
     "start_time": "2021-03-24T00:14:28.815859",
     "status": "completed"
    },
    "tags": []
   },
   "outputs": [],
   "source": [
    "learner_lr = Learner(loss, model_lr, opt, config.num_epochs)\n",
    "acc_lr = ClfCallback(learner_lr, config.bs, training_xdata , testing_xdata, training_ydata, testing_ydata)\n",
    "learner_lr.set_callbacks([acc_lr])"
   ]
  },
  {
   "cell_type": "code",
   "execution_count": 22,
   "id": "average-outside",
   "metadata": {
    "execution": {
     "iopub.execute_input": "2021-03-24T00:14:28.988209Z",
     "iopub.status.busy": "2021-03-24T00:14:28.986605Z",
     "iopub.status.idle": "2021-03-24T00:14:49.062802Z",
     "shell.execute_reply": "2021-03-24T00:14:49.063551Z"
    },
    "papermill": {
     "duration": 20.134126,
     "end_time": "2021-03-24T00:14:49.063713",
     "exception": false,
     "start_time": "2021-03-24T00:14:28.929587",
     "status": "completed"
    },
    "tags": []
   },
   "outputs": [
    {
     "name": "stdout",
     "output_type": "stream",
     "text": [
      "====== Logistic Regression ======\n",
      "Epoch 0, Loss 0.2626\n",
      "Training Accuracy: 0.5921, Testing Accuracy: 0.6104\n",
      "\n"
     ]
    },
    {
     "name": "stdout",
     "output_type": "stream",
     "text": [
      "Epoch 10, Loss 0.111\n",
      "Training Accuracy: 0.8871, Testing Accuracy: 0.8952\n",
      "\n"
     ]
    },
    {
     "name": "stdout",
     "output_type": "stream",
     "text": [
      "Epoch 20, Loss 0.0841\n",
      "Training Accuracy: 0.9160, Testing Accuracy: 0.9244\n",
      "\n"
     ]
    },
    {
     "name": "stdout",
     "output_type": "stream",
     "text": [
      "Epoch 30, Loss 0.0717\n",
      "Training Accuracy: 0.9278, Testing Accuracy: 0.9375\n",
      "\n"
     ]
    },
    {
     "name": "stdout",
     "output_type": "stream",
     "text": [
      "Epoch 40, Loss 0.0643\n",
      "Training Accuracy: 0.9351, Testing Accuracy: 0.9446\n",
      "\n"
     ]
    },
    {
     "name": "stdout",
     "output_type": "stream",
     "text": [
      "Epoch 50, Loss 0.0593\n",
      "Training Accuracy: 0.9406, Testing Accuracy: 0.9501\n",
      "\n"
     ]
    },
    {
     "name": "stdout",
     "output_type": "stream",
     "text": [
      "Epoch 60, Loss 0.0556\n",
      "Training Accuracy: 0.9433, Testing Accuracy: 0.9531\n",
      "\n"
     ]
    },
    {
     "name": "stdout",
     "output_type": "stream",
     "text": [
      "Epoch 70, Loss 0.0528\n",
      "Training Accuracy: 0.9459, Testing Accuracy: 0.9561\n",
      "\n"
     ]
    },
    {
     "name": "stdout",
     "output_type": "stream",
     "text": [
      "Epoch 80, Loss 0.0505\n",
      "Training Accuracy: 0.9483, Testing Accuracy: 0.9572\n",
      "\n"
     ]
    },
    {
     "name": "stdout",
     "output_type": "stream",
     "text": [
      "Epoch 90, Loss 0.0487\n",
      "Training Accuracy: 0.9497, Testing Accuracy: 0.9582\n",
      "\n"
     ]
    },
    {
     "name": "stdout",
     "output_type": "stream",
     "text": [
      "Epoch 100, Loss 0.0471\n",
      "Training Accuracy: 0.9505, Testing Accuracy: 0.9597\n",
      "\n"
     ]
    },
    {
     "name": "stdout",
     "output_type": "stream",
     "text": [
      "Epoch 110, Loss 0.0458\n",
      "Training Accuracy: 0.9511, Testing Accuracy: 0.9602\n",
      "\n"
     ]
    },
    {
     "name": "stdout",
     "output_type": "stream",
     "text": [
      "Epoch 120, Loss 0.0447\n",
      "Training Accuracy: 0.9519, Testing Accuracy: 0.9602\n",
      "\n"
     ]
    },
    {
     "name": "stdout",
     "output_type": "stream",
     "text": [
      "Epoch 130, Loss 0.0437\n",
      "Training Accuracy: 0.9532, Testing Accuracy: 0.9617\n",
      "\n"
     ]
    },
    {
     "name": "stdout",
     "output_type": "stream",
     "text": [
      "Epoch 140, Loss 0.0428\n",
      "Training Accuracy: 0.9547, Testing Accuracy: 0.9617\n",
      "\n"
     ]
    },
    {
     "name": "stdout",
     "output_type": "stream",
     "text": [
      "Epoch 150, Loss 0.042\n",
      "Training Accuracy: 0.9559, Testing Accuracy: 0.9632\n",
      "\n"
     ]
    },
    {
     "name": "stdout",
     "output_type": "stream",
     "text": [
      "Epoch 160, Loss 0.0413\n",
      "Training Accuracy: 0.9562, Testing Accuracy: 0.9632\n",
      "\n"
     ]
    },
    {
     "name": "stdout",
     "output_type": "stream",
     "text": [
      "Epoch 170, Loss 0.0406\n",
      "Training Accuracy: 0.9561, Testing Accuracy: 0.9642\n",
      "\n"
     ]
    },
    {
     "name": "stdout",
     "output_type": "stream",
     "text": [
      "Epoch 180, Loss 0.04\n",
      "Training Accuracy: 0.9568, Testing Accuracy: 0.9652\n",
      "\n"
     ]
    },
    {
     "name": "stdout",
     "output_type": "stream",
     "text": [
      "Epoch 190, Loss 0.0395\n",
      "Training Accuracy: 0.9572, Testing Accuracy: 0.9657\n",
      "\n"
     ]
    },
    {
     "name": "stdout",
     "output_type": "stream",
     "text": [
      "Epoch 200, Loss 0.039\n",
      "Training Accuracy: 0.9576, Testing Accuracy: 0.9662\n",
      "\n"
     ]
    },
    {
     "name": "stdout",
     "output_type": "stream",
     "text": [
      "Epoch 210, Loss 0.0385\n",
      "Training Accuracy: 0.9579, Testing Accuracy: 0.9667\n",
      "\n"
     ]
    },
    {
     "name": "stdout",
     "output_type": "stream",
     "text": [
      "Epoch 220, Loss 0.0381\n",
      "Training Accuracy: 0.9584, Testing Accuracy: 0.9667\n",
      "\n"
     ]
    },
    {
     "name": "stdout",
     "output_type": "stream",
     "text": [
      "Epoch 230, Loss 0.0377\n",
      "Training Accuracy: 0.9589, Testing Accuracy: 0.9667\n",
      "\n"
     ]
    },
    {
     "name": "stdout",
     "output_type": "stream",
     "text": [
      "Epoch 240, Loss 0.0373\n",
      "Training Accuracy: 0.9590, Testing Accuracy: 0.9667\n",
      "\n"
     ]
    },
    {
     "name": "stdout",
     "output_type": "stream",
     "text": [
      "Epoch 250, Loss 0.0369\n",
      "Training Accuracy: 0.9594, Testing Accuracy: 0.9677\n",
      "\n"
     ]
    },
    {
     "data": {
      "text/plain": [
       "0.06762340846963061"
      ]
     },
     "execution_count": 22,
     "metadata": {},
     "output_type": "execute_result"
    }
   ],
   "source": [
    "print(\"====== Logistic Regression ======\")\n",
    "learner_lr.train_loop(dl)"
   ]
  },
  {
   "cell_type": "markdown",
   "id": "adjusted-possible",
   "metadata": {
    "papermill": {
     "duration": 0.065024,
     "end_time": "2021-03-24T00:14:49.184073",
     "exception": false,
     "start_time": "2021-03-24T00:14:49.119049",
     "status": "completed"
    },
    "tags": []
   },
   "source": [
    "### Comparing results of NN and LR"
   ]
  },
  {
   "cell_type": "code",
   "execution_count": 23,
   "id": "mental-multimedia",
   "metadata": {
    "execution": {
     "iopub.execute_input": "2021-03-24T00:14:49.307602Z",
     "iopub.status.busy": "2021-03-24T00:14:49.306804Z",
     "iopub.status.idle": "2021-03-24T00:14:49.595714Z",
     "shell.execute_reply": "2021-03-24T00:14:49.595154Z"
    },
    "papermill": {
     "duration": 0.355323,
     "end_time": "2021-03-24T00:14:49.595852",
     "exception": false,
     "start_time": "2021-03-24T00:14:49.240529",
     "status": "completed"
    },
    "tags": []
   },
   "outputs": [
    {
     "data": {
      "text/plain": [
       "<matplotlib.legend.Legend at 0x7f5d35896400>"
      ]
     },
     "execution_count": 23,
     "metadata": {},
     "output_type": "execute_result"
    },
    {
     "data": {
      "image/png": "[encoded data removed]",
      "text/plain": [
       "<Figure size 1080x720 with 1 Axes>"
      ]
     },
     "metadata": {
      "needs_background": "light"
     },
     "output_type": "display_data"
    }
   ],
   "source": [
    "plt.figure(figsize=(15,10))\n",
    "\n",
    "# Neural Network plots\n",
    "plt.plot(acc_nn.accuracies, 'r-', label = \"Training Accuracies - NN\")\n",
    "plt.plot(acc_nn.test_accuracies, 'g-', label = \"Testing Accuracies - NN\")\n",
    "\n",
    "# Logistic Regression plots\n",
    "plt.plot(acc_lr.accuracies, 'k-', label = \"Training Accuracies - LR\")\n",
    "plt.plot(acc_lr.test_accuracies, 'b-', label = \"Testing Accuracies - LR\")\n",
    "\n",
    "plt.ylim(0.8, 1)\n",
    "\n",
    "plt.legend()\n",
    "\n"
   ]
  },
  {
   "cell_type": "markdown",
   "id": "sexual-flesh",
   "metadata": {
    "papermill": {
     "duration": 0.062448,
     "end_time": "2021-03-24T00:14:49.716042",
     "exception": false,
     "start_time": "2021-03-24T00:14:49.653594",
     "status": "completed"
    },
    "tags": []
   },
   "source": [
    "### From the plot, we can observe the following:\n",
    "- Neural Network achieves higher accuracy than the Logistic Regression model.\n",
    "- This apparently, is because of overfitting, i.e. NN captures more noise than data.\n",
    "- Testing accuracy of NN drops below the Training accuracy at higher epochs. This explains the over-fitting on training data.\n",
    "- Logistic Regression gives a reliable accuracy, without the above mentioned problem.\n"
   ]
  },
  {
   "cell_type": "markdown",
   "id": "institutional-pacific",
   "metadata": {
    "papermill": {
     "duration": 0.062706,
     "end_time": "2021-03-24T00:14:49.837379",
     "exception": false,
     "start_time": "2021-03-24T00:14:49.774673",
     "status": "completed"
    },
    "tags": []
   },
   "source": [
    "### Moving till the last but one layer (excluding it).\n",
    "#### Plotting the outputs of this layer of the NN."
   ]
  },
  {
   "cell_type": "code",
   "execution_count": 24,
   "id": "economic-server",
   "metadata": {
    "execution": {
     "iopub.execute_input": "2021-03-24T00:14:49.960677Z",
     "iopub.status.busy": "2021-03-24T00:14:49.960041Z",
     "iopub.status.idle": "2021-03-24T00:14:49.973155Z",
     "shell.execute_reply": "2021-03-24T00:14:49.972491Z"
    },
    "papermill": {
     "duration": 0.076151,
     "end_time": "2021-03-24T00:14:49.973300",
     "exception": false,
     "start_time": "2021-03-24T00:14:49.897149",
     "status": "completed"
    },
    "tags": []
   },
   "outputs": [],
   "source": [
    "model_new = Model(layers[:-2])"
   ]
  },
  {
   "cell_type": "code",
   "execution_count": 25,
   "id": "varied-upgrade",
   "metadata": {
    "execution": {
     "iopub.execute_input": "2021-03-24T00:14:50.097255Z",
     "iopub.status.busy": "2021-03-24T00:14:50.096616Z",
     "iopub.status.idle": "2021-03-24T00:14:50.121305Z",
     "shell.execute_reply": "2021-03-24T00:14:50.121830Z"
    },
    "papermill": {
     "duration": 0.088183,
     "end_time": "2021-03-24T00:14:50.121989",
     "exception": false,
     "start_time": "2021-03-24T00:14:50.033806",
     "status": "completed"
    },
    "tags": []
   },
   "outputs": [],
   "source": [
    "plot_testing = model_new(testing_xdata)"
   ]
  },
  {
   "cell_type": "code",
   "execution_count": 26,
   "id": "specific-handling",
   "metadata": {
    "execution": {
     "iopub.execute_input": "2021-03-24T00:14:50.254269Z",
     "iopub.status.busy": "2021-03-24T00:14:50.252119Z",
     "iopub.status.idle": "2021-03-24T00:14:50.478324Z",
     "shell.execute_reply": "2021-03-24T00:14:50.477774Z"
    },
    "papermill": {
     "duration": 0.29655,
     "end_time": "2021-03-24T00:14:50.478460",
     "exception": false,
     "start_time": "2021-03-24T00:14:50.181910",
     "status": "completed"
    },
    "tags": []
   },
   "outputs": [
    {
     "data": {
      "text/plain": [
       "Text(0.5, 1.0, 'Outputs')"
      ]
     },
     "execution_count": 26,
     "metadata": {},
     "output_type": "execute_result"
    },
    {
     "data": {
      "image/png": "[encoded data removed]",
      "text/plain": [
       "<Figure size 576x504 with 1 Axes>"
      ]
     },
     "metadata": {
      "needs_background": "light"
     },
     "output_type": "display_data"
    }
   ],
   "source": [
    "plt.figure(figsize=(8,7))\n",
    "plt.scatter(plot_testing[:,0], plot_testing[:,1], alpha = 0.1, c = y_test.ravel());\n",
    "plt.title('Outputs')"
   ]
  },
  {
   "cell_type": "markdown",
   "id": "described-knowing",
   "metadata": {
    "papermill": {
     "duration": 0.060537,
     "end_time": "2021-03-24T00:14:50.631034",
     "exception": false,
     "start_time": "2021-03-24T00:14:50.570497",
     "status": "completed"
    },
    "tags": []
   },
   "source": [
    "### Plotting probability contours"
   ]
  },
  {
   "cell_type": "code",
   "execution_count": 27,
   "id": "needed-growing",
   "metadata": {
    "execution": {
     "iopub.execute_input": "2021-03-24T00:14:50.762106Z",
     "iopub.status.busy": "2021-03-24T00:14:50.761447Z",
     "iopub.status.idle": "2021-03-24T00:14:50.776260Z",
     "shell.execute_reply": "2021-03-24T00:14:50.775677Z"
    },
    "papermill": {
     "duration": 0.084278,
     "end_time": "2021-03-24T00:14:50.776404",
     "exception": false,
     "start_time": "2021-03-24T00:14:50.692126",
     "status": "completed"
    },
    "tags": []
   },
   "outputs": [],
   "source": [
    "model_prob = Model(layers[-2:]) "
   ]
  },
  {
   "cell_type": "code",
   "execution_count": 28,
   "id": "introductory-enforcement",
   "metadata": {
    "execution": {
     "iopub.execute_input": "2021-03-24T00:14:50.902262Z",
     "iopub.status.busy": "2021-03-24T00:14:50.901621Z",
     "iopub.status.idle": "2021-03-24T00:14:50.918471Z",
     "shell.execute_reply": "2021-03-24T00:14:50.918973Z"
    },
    "papermill": {
     "duration": 0.082957,
     "end_time": "2021-03-24T00:14:50.919215",
     "exception": false,
     "start_time": "2021-03-24T00:14:50.836258",
     "status": "completed"
    },
    "tags": []
   },
   "outputs": [],
   "source": [
    "# Adjust the x and y ranges according to the above generated plot.\n",
    "x_range = np.linspace(-4, 1, 100) \n",
    "y_range = np.linspace(-6, 6, 100) \n",
    "x_grid, y_grid = np.meshgrid(x_range, y_range) # x_grid and y_grig are of size 100 X 100\n",
    "\n",
    "# converting x_grid and y_grid to continuous arrays\n",
    "x_grid_flat = np.ravel(x_grid)\n",
    "y_grid_flat = np.ravel(y_grid)\n",
    "\n",
    "# The last layer of the current model takes two columns as input. Hence transpose of np.vstack() is required.\n",
    "X = np.vstack((x_grid_flat, y_grid_flat)).T\n",
    "\n",
    "# x_grid and y_grid are of size 100 x 100\n",
    "probability_contour = model_prob(X).reshape(100,100) "
   ]
  },
  {
   "cell_type": "code",
   "execution_count": 29,
   "id": "understood-landing",
   "metadata": {
    "execution": {
     "iopub.execute_input": "2021-03-24T00:14:51.050348Z",
     "iopub.status.busy": "2021-03-24T00:14:51.049689Z",
     "iopub.status.idle": "2021-03-24T00:14:51.343758Z",
     "shell.execute_reply": "2021-03-24T00:14:51.342850Z"
    },
    "papermill": {
     "duration": 0.362805,
     "end_time": "2021-03-24T00:14:51.343905",
     "exception": false,
     "start_time": "2021-03-24T00:14:50.981100",
     "status": "completed"
    },
    "tags": []
   },
   "outputs": [
    {
     "data": {
      "image/png": "[encoded data removed]",
      "text/plain": [
       "<Figure size 720x648 with 1 Axes>"
      ]
     },
     "metadata": {
      "needs_background": "light"
     },
     "output_type": "display_data"
    }
   ],
   "source": [
    "plt.figure(figsize=(10,9))\n",
    "plt.scatter(plot_testing[:,0], plot_testing[:,1], alpha = 0.1, c = y_test.ravel())\n",
    "contours = plt.contour(x_grid,y_grid,probability_contour)\n",
    "plt.title('Probability Contours')\n",
    "plt.clabel(contours, inline = True );"
   ]
  }
 ],
 "metadata": {
  "kernelspec": {
   "display_name": "Python 3",
   "language": "python",
   "name": "python3"
  },
  "language_info": {
   "codemirror_mode": {
    "name": "ipython",
    "version": 3
   },
   "file_extension": ".py",
   "mimetype": "text/x-python",
   "name": "python",
   "nbconvert_exporter": "python",
   "pygments_lexer": "ipython3",
   "version": "3.6.13"
  },
  "papermill": {
   "duration": 516.432726,
   "end_time": "2021-03-24T00:14:51.820432",
   "environment_variables": {},
   "exception": null,
   "input_path": "2020-08-11-NeuralNetwork.ipynb",
   "output_path": "2020-08-11-NeuralNetwork.ipynb",
   "parameters": {},
   "start_time": "2021-03-24T00:06:15.387706",
   "version": "2.1.2"
  }
 },
 "nbformat": 4,
 "nbformat_minor": 5
}