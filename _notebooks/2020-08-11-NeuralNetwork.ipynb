{
 "cells": [
  {
   "cell_type": "markdown",
   "id": "fitted-suggestion",
   "metadata": {
    "papermill": {
     "duration": 0.03545,
     "end_time": "2021-02-08T20:04:23.147074",
     "exception": false,
     "start_time": "2021-02-08T20:04:23.111624",
     "status": "completed"
    },
    "tags": []
   },
   "source": [
    "# \"A Basic Neural Network: Differentiate Hand-Written Digits\"\n",
    "\n",
    "- badges: true\n",
    "- author: Akshith Sriram"
   ]
  },
  {
   "cell_type": "markdown",
   "id": "signal-flexibility",
   "metadata": {
    "papermill": {
     "duration": 0.028459,
     "end_time": "2021-02-08T20:04:23.203335",
     "exception": false,
     "start_time": "2021-02-08T20:04:23.174876",
     "status": "completed"
    },
    "tags": []
   },
   "source": [
    "### Key Objectives:\n",
    "- Building a neural network that differentiates two hand-written digits 3 and 8.\n",
    "- Comparing the results of this Neural Network (NN) to that of a Logistic Regression (LR) model.\n",
    "\n",
    "### Requirements:\n",
    "- 'Kudzu' : A neural network library that was designed during our course by [Univ.AI](www.univ.ai). \n",
    "- MNIST Database\n",
    "\n",
    "If MNIST is not installed, use the command `!pip install mnist` given below.\n",
    "It can be run both from the command line and Jupyter Notebook."
   ]
  },
  {
   "cell_type": "code",
   "execution_count": 1,
   "id": "british-texture",
   "metadata": {
    "execution": {
     "iopub.execute_input": "2021-02-08T20:04:23.286879Z",
     "iopub.status.busy": "2021-02-08T20:04:23.286304Z",
     "iopub.status.idle": "2021-02-08T20:04:24.856442Z",
     "shell.execute_reply": "2021-02-08T20:04:24.855809Z"
    },
    "papermill": {
     "duration": 1.624316,
     "end_time": "2021-02-08T20:04:24.856624",
     "exception": false,
     "start_time": "2021-02-08T20:04:23.232308",
     "status": "completed"
    },
    "tags": []
   },
   "outputs": [
    {
     "name": "stdout",
     "output_type": "stream",
     "text": [
      "Collecting mnist\r\n"
     ]
    },
    {
     "name": "stdout",
     "output_type": "stream",
     "text": [
      "  Downloading mnist-0.2.2-py2.py3-none-any.whl (3.5 kB)\r\n",
      "Requirement already satisfied: numpy in /opt/hostedtoolcache/Python/3.6.12/x64/lib/python3.6/site-packages (from mnist) (1.19.5)\r\n"
     ]
    },
    {
     "name": "stdout",
     "output_type": "stream",
     "text": [
      "Installing collected packages: mnist\r\n"
     ]
    },
    {
     "name": "stdout",
     "output_type": "stream",
     "text": [
      "Successfully installed mnist-0.2.2\r\n"
     ]
    }
   ],
   "source": [
    "!pip install mnist "
   ]
  },
  {
   "cell_type": "markdown",
   "id": "stunning-extra",
   "metadata": {
    "papermill": {
     "duration": 0.0294,
     "end_time": "2021-02-08T20:04:24.915421",
     "exception": false,
     "start_time": "2021-02-08T20:04:24.886021",
     "status": "completed"
    },
    "tags": []
   },
   "source": [
    "#### Importing necessary libraries"
   ]
  },
  {
   "cell_type": "code",
   "execution_count": 2,
   "id": "wooden-france",
   "metadata": {
    "execution": {
     "iopub.execute_input": "2021-02-08T20:04:24.989077Z",
     "iopub.status.busy": "2021-02-08T20:04:24.981365Z",
     "iopub.status.idle": "2021-02-08T20:04:25.558971Z",
     "shell.execute_reply": "2021-02-08T20:04:25.558437Z"
    },
    "papermill": {
     "duration": 0.614498,
     "end_time": "2021-02-08T20:04:25.559108",
     "exception": false,
     "start_time": "2021-02-08T20:04:24.944610",
     "status": "completed"
    },
    "tags": []
   },
   "outputs": [],
   "source": [
    "%load_ext autoreload\n",
    "%autoreload 2\n",
    "\n",
    "%matplotlib inline\n",
    "import matplotlib.pyplot as plt\n",
    "\n",
    "import numpy as np\n",
    "import pandas as pd"
   ]
  },
  {
   "cell_type": "markdown",
   "id": "stunning-physics",
   "metadata": {
    "papermill": {
     "duration": 0.029357,
     "end_time": "2021-02-08T20:04:25.617862",
     "exception": false,
     "start_time": "2021-02-08T20:04:25.588505",
     "status": "completed"
    },
    "tags": []
   },
   "source": [
    "### Preparing the Data"
   ]
  },
  {
   "cell_type": "code",
   "execution_count": 3,
   "id": "unauthorized-remainder",
   "metadata": {
    "execution": {
     "iopub.execute_input": "2021-02-08T20:04:25.681321Z",
     "iopub.status.busy": "2021-02-08T20:04:25.680726Z",
     "iopub.status.idle": "2021-02-08T20:04:25.692877Z",
     "shell.execute_reply": "2021-02-08T20:04:25.693349Z"
    },
    "papermill": {
     "duration": 0.046261,
     "end_time": "2021-02-08T20:04:25.693486",
     "exception": false,
     "start_time": "2021-02-08T20:04:25.647225",
     "status": "completed"
    },
    "tags": []
   },
   "outputs": [],
   "source": [
    "import mnist"
   ]
  },
  {
   "cell_type": "code",
   "execution_count": 4,
   "id": "correct-antarctica",
   "metadata": {
    "execution": {
     "iopub.execute_input": "2021-02-08T20:04:25.757333Z",
     "iopub.status.busy": "2021-02-08T20:04:25.756753Z",
     "iopub.status.idle": "2021-02-08T20:04:27.399019Z",
     "shell.execute_reply": "2021-02-08T20:04:27.397943Z"
    },
    "papermill": {
     "duration": 1.674936,
     "end_time": "2021-02-08T20:04:27.399172",
     "exception": false,
     "start_time": "2021-02-08T20:04:25.724236",
     "status": "completed"
    },
    "tags": []
   },
   "outputs": [],
   "source": [
    "train_images = mnist.train_images()\n",
    "train_labels = mnist.train_labels()"
   ]
  },
  {
   "cell_type": "code",
   "execution_count": 5,
   "id": "musical-prospect",
   "metadata": {
    "execution": {
     "iopub.execute_input": "2021-02-08T20:04:27.959714Z",
     "iopub.status.busy": "2021-02-08T20:04:27.959105Z",
     "iopub.status.idle": "2021-02-08T20:04:27.975970Z",
     "shell.execute_reply": "2021-02-08T20:04:27.976430Z"
    },
    "papermill": {
     "duration": 0.547872,
     "end_time": "2021-02-08T20:04:27.976619",
     "exception": false,
     "start_time": "2021-02-08T20:04:27.428747",
     "status": "completed"
    },
    "tags": []
   },
   "outputs": [
    {
     "data": {
      "text/plain": [
       "((60000, 28, 28), (60000,))"
      ]
     },
     "execution_count": 5,
     "metadata": {},
     "output_type": "execute_result"
    }
   ],
   "source": [
    "train_images.shape, train_labels.shape"
   ]
  },
  {
   "cell_type": "code",
   "execution_count": 6,
   "id": "preliminary-elizabeth",
   "metadata": {
    "execution": {
     "iopub.execute_input": "2021-02-08T20:04:28.040108Z",
     "iopub.status.busy": "2021-02-08T20:04:28.039562Z",
     "iopub.status.idle": "2021-02-08T20:04:28.913910Z",
     "shell.execute_reply": "2021-02-08T20:04:28.913124Z"
    },
    "papermill": {
     "duration": 0.907571,
     "end_time": "2021-02-08T20:04:28.914118",
     "exception": false,
     "start_time": "2021-02-08T20:04:28.006547",
     "status": "completed"
    },
    "tags": []
   },
   "outputs": [],
   "source": [
    "test_images = mnist.test_images()\n",
    "test_labels = mnist.test_labels()"
   ]
  },
  {
   "cell_type": "code",
   "execution_count": 7,
   "id": "acknowledged-oxygen",
   "metadata": {
    "execution": {
     "iopub.execute_input": "2021-02-08T20:04:28.980691Z",
     "iopub.status.busy": "2021-02-08T20:04:28.980082Z",
     "iopub.status.idle": "2021-02-08T20:04:28.993557Z",
     "shell.execute_reply": "2021-02-08T20:04:28.993085Z"
    },
    "papermill": {
     "duration": 0.047186,
     "end_time": "2021-02-08T20:04:28.993676",
     "exception": false,
     "start_time": "2021-02-08T20:04:28.946490",
     "status": "completed"
    },
    "tags": []
   },
   "outputs": [
    {
     "data": {
      "text/plain": [
       "((10000, 28, 28), (10000,))"
      ]
     },
     "execution_count": 7,
     "metadata": {},
     "output_type": "execute_result"
    }
   ],
   "source": [
    "test_images.shape, test_labels.shape"
   ]
  },
  {
   "cell_type": "code",
   "execution_count": 8,
   "id": "innovative-organic",
   "metadata": {
    "execution": {
     "iopub.execute_input": "2021-02-08T20:04:29.059047Z",
     "iopub.status.busy": "2021-02-08T20:04:29.058471Z",
     "iopub.status.idle": "2021-02-08T20:04:29.210728Z",
     "shell.execute_reply": "2021-02-08T20:04:29.210210Z"
    },
    "papermill": {
     "duration": 0.186764,
     "end_time": "2021-02-08T20:04:29.210855",
     "exception": false,
     "start_time": "2021-02-08T20:04:29.024091",
     "status": "completed"
    },
    "tags": []
   },
   "outputs": [
    {
     "name": "stdout",
     "output_type": "stream",
     "text": [
      "2\n"
     ]
    },
    {
     "data": {
      "text/plain": [
       "<matplotlib.image.AxesImage at 0x7fddaeb1ff28>"
      ]
     },
     "execution_count": 8,
     "metadata": {},
     "output_type": "execute_result"
    },
    {
     "data": {
      "image/png": "[encoded data removed]",
      "text/plain": [
       "<Figure size 432x288 with 1 Axes>"
      ]
     },
     "metadata": {
      "needs_background": "light"
     },
     "output_type": "display_data"
    }
   ],
   "source": [
    "image_index = 7776 # You may select anything up to 60,000\n",
    "print(train_labels[image_index]) \n",
    "plt.imshow(train_images[image_index], cmap='Greys')"
   ]
  },
  {
   "cell_type": "markdown",
   "id": "facial-modem",
   "metadata": {
    "papermill": {
     "duration": 0.031845,
     "end_time": "2021-02-08T20:04:29.274655",
     "exception": false,
     "start_time": "2021-02-08T20:04:29.242810",
     "status": "completed"
    },
    "tags": []
   },
   "source": [
    "## Filter data to get 3 and 8 out"
   ]
  },
  {
   "cell_type": "code",
   "execution_count": 9,
   "id": "thousand-acquisition",
   "metadata": {
    "execution": {
     "iopub.execute_input": "2021-02-08T20:04:29.341118Z",
     "iopub.status.busy": "2021-02-08T20:04:29.340470Z",
     "iopub.status.idle": "2021-02-08T20:04:29.361964Z",
     "shell.execute_reply": "2021-02-08T20:04:29.362478Z"
    },
    "papermill": {
     "duration": 0.057187,
     "end_time": "2021-02-08T20:04:29.362628",
     "exception": false,
     "start_time": "2021-02-08T20:04:29.305441",
     "status": "completed"
    },
    "tags": []
   },
   "outputs": [],
   "source": [
    "train_filter = np.where((train_labels == 3 ) | (train_labels == 8))\n",
    "test_filter = np.where((test_labels == 3) | (test_labels == 8))\n",
    "X_train, y_train = train_images[train_filter], train_labels[train_filter]\n",
    "X_test, y_test = test_images[test_filter], test_labels[test_filter]"
   ]
  },
  {
   "cell_type": "markdown",
   "id": "ruled-access",
   "metadata": {
    "papermill": {
     "duration": 0.031667,
     "end_time": "2021-02-08T20:04:29.424858",
     "exception": false,
     "start_time": "2021-02-08T20:04:29.393191",
     "status": "completed"
    },
    "tags": []
   },
   "source": [
    "We normalize the pixel values in the 0 to 1 range"
   ]
  },
  {
   "cell_type": "code",
   "execution_count": 10,
   "id": "isolated-denver",
   "metadata": {
    "execution": {
     "iopub.execute_input": "2021-02-08T20:04:29.490873Z",
     "iopub.status.busy": "2021-02-08T20:04:29.490288Z",
     "iopub.status.idle": "2021-02-08T20:04:29.544626Z",
     "shell.execute_reply": "2021-02-08T20:04:29.543670Z"
    },
    "papermill": {
     "duration": 0.089001,
     "end_time": "2021-02-08T20:04:29.544858",
     "exception": false,
     "start_time": "2021-02-08T20:04:29.455857",
     "status": "completed"
    },
    "tags": []
   },
   "outputs": [],
   "source": [
    "X_train = X_train/255.\n",
    "X_test = X_test/255."
   ]
  },
  {
   "cell_type": "markdown",
   "id": "perfect-summary",
   "metadata": {
    "papermill": {
     "duration": 0.033998,
     "end_time": "2021-02-08T20:04:29.614229",
     "exception": false,
     "start_time": "2021-02-08T20:04:29.580231",
     "status": "completed"
    },
    "tags": []
   },
   "source": [
    "Setup the labels as 1 (when the digit is 3) and 0 (when the digit is 8)"
   ]
  },
  {
   "cell_type": "code",
   "execution_count": 11,
   "id": "personalized-growing",
   "metadata": {
    "execution": {
     "iopub.execute_input": "2021-02-08T20:04:29.680156Z",
     "iopub.status.busy": "2021-02-08T20:04:29.679554Z",
     "iopub.status.idle": "2021-02-08T20:04:29.692084Z",
     "shell.execute_reply": "2021-02-08T20:04:29.692600Z"
    },
    "papermill": {
     "duration": 0.046787,
     "end_time": "2021-02-08T20:04:29.692747",
     "exception": false,
     "start_time": "2021-02-08T20:04:29.645960",
     "status": "completed"
    },
    "tags": []
   },
   "outputs": [],
   "source": [
    "y_train = 1*(y_train==3)\n",
    "y_test = 1*(y_test==3)"
   ]
  },
  {
   "cell_type": "code",
   "execution_count": 12,
   "id": "considered-virgin",
   "metadata": {
    "execution": {
     "iopub.execute_input": "2021-02-08T20:04:29.757290Z",
     "iopub.status.busy": "2021-02-08T20:04:29.756708Z",
     "iopub.status.idle": "2021-02-08T20:04:29.770967Z",
     "shell.execute_reply": "2021-02-08T20:04:29.771378Z"
    },
    "papermill": {
     "duration": 0.048,
     "end_time": "2021-02-08T20:04:29.771513",
     "exception": false,
     "start_time": "2021-02-08T20:04:29.723513",
     "status": "completed"
    },
    "tags": []
   },
   "outputs": [
    {
     "data": {
      "text/plain": [
       "((11982, 28, 28), (1984, 28, 28))"
      ]
     },
     "execution_count": 12,
     "metadata": {},
     "output_type": "execute_result"
    }
   ],
   "source": [
    "X_train.shape, X_test.shape"
   ]
  },
  {
   "cell_type": "markdown",
   "id": "civilian-mobile",
   "metadata": {
    "papermill": {
     "duration": 0.032297,
     "end_time": "2021-02-08T20:04:29.833920",
     "exception": false,
     "start_time": "2021-02-08T20:04:29.801623",
     "status": "completed"
    },
    "tags": []
   },
   "source": [
    "### Reshape the input data to create a linear array"
   ]
  },
  {
   "cell_type": "code",
   "execution_count": 13,
   "id": "colonial-adams",
   "metadata": {
    "execution": {
     "iopub.execute_input": "2021-02-08T20:04:29.899564Z",
     "iopub.status.busy": "2021-02-08T20:04:29.898953Z",
     "iopub.status.idle": "2021-02-08T20:04:29.914102Z",
     "shell.execute_reply": "2021-02-08T20:04:29.914543Z"
    },
    "papermill": {
     "duration": 0.050559,
     "end_time": "2021-02-08T20:04:29.914685",
     "exception": false,
     "start_time": "2021-02-08T20:04:29.864126",
     "status": "completed"
    },
    "tags": []
   },
   "outputs": [
    {
     "data": {
      "text/plain": [
       "((11982, 784), (1984, 784))"
      ]
     },
     "execution_count": 13,
     "metadata": {},
     "output_type": "execute_result"
    }
   ],
   "source": [
    "X_train = X_train.reshape(X_train.shape[0], -1)\n",
    "X_test = X_test.reshape(X_test.shape[0], -1)\n",
    "X_train.shape, X_test.shape"
   ]
  },
  {
   "cell_type": "markdown",
   "id": "smart-details",
   "metadata": {
    "papermill": {
     "duration": 0.031266,
     "end_time": "2021-02-08T20:04:29.979284",
     "exception": false,
     "start_time": "2021-02-08T20:04:29.948018",
     "status": "completed"
    },
    "tags": []
   },
   "source": [
    "### Importing appropriate functions from 'Kudzu'"
   ]
  },
  {
   "cell_type": "code",
   "execution_count": 14,
   "id": "celtic-trial",
   "metadata": {
    "execution": {
     "iopub.execute_input": "2021-02-08T20:04:30.047623Z",
     "iopub.status.busy": "2021-02-08T20:04:30.046882Z",
     "iopub.status.idle": "2021-02-08T20:04:30.067220Z",
     "shell.execute_reply": "2021-02-08T20:04:30.066700Z"
    },
    "papermill": {
     "duration": 0.056847,
     "end_time": "2021-02-08T20:04:30.067351",
     "exception": false,
     "start_time": "2021-02-08T20:04:30.010504",
     "status": "completed"
    },
    "tags": []
   },
   "outputs": [],
   "source": [
    "from kudzu.layer import Sigmoid\n",
    "from kudzu.layer import Relu\n",
    "from kudzu.layer import Affine, Sigmoid\n",
    "\n",
    "from kudzu.model import Model\n",
    "from kudzu.train import Learner\n",
    "from kudzu.optim import GD\n",
    "from kudzu.data import Data, Dataloader, Sampler\n",
    "\n",
    "from kudzu.callbacks import AccCallback\n",
    "from kudzu.callbacks import ClfCallback\n",
    "\n",
    "from kudzu.loss import MSE"
   ]
  },
  {
   "cell_type": "markdown",
   "id": "coupled-customer",
   "metadata": {
    "papermill": {
     "duration": 0.031363,
     "end_time": "2021-02-08T20:04:30.130529",
     "exception": false,
     "start_time": "2021-02-08T20:04:30.099166",
     "status": "completed"
    },
    "tags": []
   },
   "source": [
    "### Let us create a `Config` class, to store important parameters. \n",
    "This class essentially plays the role of a dictionary."
   ]
  },
  {
   "cell_type": "code",
   "execution_count": 15,
   "id": "young-ceiling",
   "metadata": {
    "execution": {
     "iopub.execute_input": "2021-02-08T20:04:30.198861Z",
     "iopub.status.busy": "2021-02-08T20:04:30.198243Z",
     "iopub.status.idle": "2021-02-08T20:04:30.213180Z",
     "shell.execute_reply": "2021-02-08T20:04:30.212652Z"
    },
    "papermill": {
     "duration": 0.050953,
     "end_time": "2021-02-08T20:04:30.213315",
     "exception": false,
     "start_time": "2021-02-08T20:04:30.162362",
     "status": "completed"
    },
    "tags": []
   },
   "outputs": [],
   "source": [
    "class Config:\n",
    "    pass\n",
    "config = Config()\n",
    "config.lr = 0.001\n",
    "config.num_epochs = 251\n",
    "config.bs = 50"
   ]
  },
  {
   "cell_type": "markdown",
   "id": "according-mandate",
   "metadata": {
    "papermill": {
     "duration": 0.036456,
     "end_time": "2021-02-08T20:04:30.281787",
     "exception": false,
     "start_time": "2021-02-08T20:04:30.245331",
     "status": "completed"
    },
    "tags": []
   },
   "source": [
    "### Initializing data to the variables"
   ]
  },
  {
   "cell_type": "code",
   "execution_count": 16,
   "id": "academic-disposition",
   "metadata": {
    "execution": {
     "iopub.execute_input": "2021-02-08T20:04:30.351006Z",
     "iopub.status.busy": "2021-02-08T20:04:30.350419Z",
     "iopub.status.idle": "2021-02-08T20:04:30.362332Z",
     "shell.execute_reply": "2021-02-08T20:04:30.362803Z"
    },
    "papermill": {
     "duration": 0.049689,
     "end_time": "2021-02-08T20:04:30.362948",
     "exception": false,
     "start_time": "2021-02-08T20:04:30.313259",
     "status": "completed"
    },
    "tags": []
   },
   "outputs": [],
   "source": [
    "data = Data(X_train, y_train.reshape(-1,1))\n",
    "sampler = Sampler(data, config.bs, shuffle=True)\n",
    "\n",
    "dl = Dataloader(data, sampler)\n",
    "\n",
    "opt = GD(config.lr)\n",
    "loss = MSE()"
   ]
  },
  {
   "cell_type": "code",
   "execution_count": 17,
   "id": "featured-commission",
   "metadata": {
    "execution": {
     "iopub.execute_input": "2021-02-08T20:04:30.429687Z",
     "iopub.status.busy": "2021-02-08T20:04:30.429131Z",
     "iopub.status.idle": "2021-02-08T20:04:30.444017Z",
     "shell.execute_reply": "2021-02-08T20:04:30.443027Z"
    },
    "papermill": {
     "duration": 0.049486,
     "end_time": "2021-02-08T20:04:30.444145",
     "exception": false,
     "start_time": "2021-02-08T20:04:30.394659",
     "status": "completed"
    },
    "tags": []
   },
   "outputs": [],
   "source": [
    "training_xdata = X_train\n",
    "testing_xdata = X_test\n",
    "training_ydata = y_train.reshape(-1,1)\n",
    "testing_ydata = y_test.reshape(-1,1)"
   ]
  },
  {
   "cell_type": "markdown",
   "id": "played-safety",
   "metadata": {
    "papermill": {
     "duration": 0.034487,
     "end_time": "2021-02-08T20:04:30.510883",
     "exception": false,
     "start_time": "2021-02-08T20:04:30.476396",
     "status": "completed"
    },
    "tags": []
   },
   "source": [
    "### Running Models with the Training data\n",
    "Details about the network layers:\n",
    "- A first affine layer has 784 inputs and does 100 affine transforms. These are followed by a Relu\n",
    "- A second affine layer has 100 inputs from the 100 activations of the past layer, and does 100 affine transforms. These are followed by a Relu\n",
    "- A third affine layer has 100 activations and does 2 affine transformations to create an embedding for visualization. There is no non-linearity here.\n",
    "- A final \"logistic regression\" which has an affine transform from 2 inputs to 1 output, which is squeezed through a sigmoid.\n",
    "\n",
    "Help taken from Anshuman's Notebook."
   ]
  },
  {
   "cell_type": "code",
   "execution_count": 18,
   "id": "asian-bankruptcy",
   "metadata": {
    "execution": {
     "iopub.execute_input": "2021-02-08T20:04:30.581248Z",
     "iopub.status.busy": "2021-02-08T20:04:30.579728Z",
     "iopub.status.idle": "2021-02-08T20:04:30.599837Z",
     "shell.execute_reply": "2021-02-08T20:04:30.598876Z"
    },
    "papermill": {
     "duration": 0.055909,
     "end_time": "2021-02-08T20:04:30.600053",
     "exception": false,
     "start_time": "2021-02-08T20:04:30.544144",
     "status": "completed"
    },
    "tags": []
   },
   "outputs": [],
   "source": [
    "# layers for the Neural Network\n",
    "layers = [Affine(\"first\", 784, 100), Relu(\"first\"), Affine(\"second\", 100, 100), Relu(\"second\"), Affine(\"third\", 100, 2), Affine(\"final\", 2, 1), Sigmoid(\"final\")]\n",
    "model_nn = Model(layers)\n",
    "\n",
    "# layers for the Logistic Regression\n",
    "layers_lr = [Affine(\"logits\", 784, 1), Sigmoid(\"sigmoid\")]\n",
    "model_lr = Model(layers_lr)"
   ]
  },
  {
   "cell_type": "code",
   "execution_count": 19,
   "id": "removed-butler",
   "metadata": {
    "execution": {
     "iopub.execute_input": "2021-02-08T20:04:30.674948Z",
     "iopub.status.busy": "2021-02-08T20:04:30.674361Z",
     "iopub.status.idle": "2021-02-08T20:04:30.685100Z",
     "shell.execute_reply": "2021-02-08T20:04:30.685631Z"
    },
    "papermill": {
     "duration": 0.052108,
     "end_time": "2021-02-08T20:04:30.685784",
     "exception": false,
     "start_time": "2021-02-08T20:04:30.633676",
     "status": "completed"
    },
    "tags": []
   },
   "outputs": [],
   "source": [
    "# suffix _nn stands for Neural Network.\n",
    "learner_nn = Learner(loss, model_nn, opt, config.num_epochs)\n",
    "acc_nn = ClfCallback(learner_nn, config.bs, training_xdata , testing_xdata, training_ydata, testing_ydata)\n",
    "learner_nn.set_callbacks([acc_nn])"
   ]
  },
  {
   "cell_type": "code",
   "execution_count": 20,
   "id": "conceptual-throw",
   "metadata": {
    "execution": {
     "iopub.execute_input": "2021-02-08T20:04:30.754699Z",
     "iopub.status.busy": "2021-02-08T20:04:30.753706Z",
     "iopub.status.idle": "2021-02-08T20:05:56.188600Z",
     "shell.execute_reply": "2021-02-08T20:05:56.189412Z"
    },
    "papermill": {
     "duration": 85.473173,
     "end_time": "2021-02-08T20:05:56.189571",
     "exception": false,
     "start_time": "2021-02-08T20:04:30.716398",
     "status": "completed"
    },
    "tags": []
   },
   "outputs": [
    {
     "name": "stdout",
     "output_type": "stream",
     "text": [
      "====== Neural Network ======\n"
     ]
    },
    {
     "name": "stdout",
     "output_type": "stream",
     "text": [
      "Epoch 0, Loss 0.2562\n",
      "Training Accuracy: 0.4917, Testing Accuracy: 0.4501\n",
      "\n"
     ]
    },
    {
     "name": "stdout",
     "output_type": "stream",
     "text": [
      "Epoch 10, Loss 0.154\n",
      "Training Accuracy: 0.8704, Testing Accuracy: 0.8684\n",
      "\n"
     ]
    },
    {
     "name": "stdout",
     "output_type": "stream",
     "text": [
      "Epoch 20, Loss 0.0817\n",
      "Training Accuracy: 0.9150, Testing Accuracy: 0.9219\n",
      "\n"
     ]
    },
    {
     "name": "stdout",
     "output_type": "stream",
     "text": [
      "Epoch 30, Loss 0.0573\n",
      "Training Accuracy: 0.9368, Testing Accuracy: 0.9466\n",
      "\n"
     ]
    },
    {
     "name": "stdout",
     "output_type": "stream",
     "text": [
      "Epoch 40, Loss 0.0465\n",
      "Training Accuracy: 0.9471, Testing Accuracy: 0.9582\n",
      "\n"
     ]
    },
    {
     "name": "stdout",
     "output_type": "stream",
     "text": [
      "Epoch 50, Loss 0.0407\n",
      "Training Accuracy: 0.9525, Testing Accuracy: 0.9612\n",
      "\n"
     ]
    },
    {
     "name": "stdout",
     "output_type": "stream",
     "text": [
      "Epoch 60, Loss 0.037\n",
      "Training Accuracy: 0.9558, Testing Accuracy: 0.9642\n",
      "\n"
     ]
    },
    {
     "name": "stdout",
     "output_type": "stream",
     "text": [
      "Epoch 70, Loss 0.0344\n",
      "Training Accuracy: 0.9584, Testing Accuracy: 0.9672\n",
      "\n"
     ]
    },
    {
     "name": "stdout",
     "output_type": "stream",
     "text": [
      "Epoch 80, Loss 0.0324\n",
      "Training Accuracy: 0.9608, Testing Accuracy: 0.9672\n",
      "\n"
     ]
    },
    {
     "name": "stdout",
     "output_type": "stream",
     "text": [
      "Epoch 90, Loss 0.0308\n",
      "Training Accuracy: 0.9624, Testing Accuracy: 0.9677\n",
      "\n"
     ]
    },
    {
     "name": "stdout",
     "output_type": "stream",
     "text": [
      "Epoch 100, Loss 0.0295\n",
      "Training Accuracy: 0.9639, Testing Accuracy: 0.9693\n",
      "\n"
     ]
    },
    {
     "name": "stdout",
     "output_type": "stream",
     "text": [
      "Epoch 110, Loss 0.0284\n",
      "Training Accuracy: 0.9651, Testing Accuracy: 0.9693\n",
      "\n"
     ]
    },
    {
     "name": "stdout",
     "output_type": "stream",
     "text": [
      "Epoch 120, Loss 0.0275\n",
      "Training Accuracy: 0.9665, Testing Accuracy: 0.9698\n",
      "\n"
     ]
    },
    {
     "name": "stdout",
     "output_type": "stream",
     "text": [
      "Epoch 130, Loss 0.0266\n",
      "Training Accuracy: 0.9675, Testing Accuracy: 0.9708\n",
      "\n"
     ]
    },
    {
     "name": "stdout",
     "output_type": "stream",
     "text": [
      "Epoch 140, Loss 0.0259\n",
      "Training Accuracy: 0.9689, Testing Accuracy: 0.9708\n",
      "\n"
     ]
    },
    {
     "name": "stdout",
     "output_type": "stream",
     "text": [
      "Epoch 150, Loss 0.0252\n",
      "Training Accuracy: 0.9701, Testing Accuracy: 0.9713\n",
      "\n"
     ]
    },
    {
     "name": "stdout",
     "output_type": "stream",
     "text": [
      "Epoch 160, Loss 0.0246\n",
      "Training Accuracy: 0.9711, Testing Accuracy: 0.9718\n",
      "\n"
     ]
    },
    {
     "name": "stdout",
     "output_type": "stream",
     "text": [
      "Epoch 170, Loss 0.024\n",
      "Training Accuracy: 0.9717, Testing Accuracy: 0.9713\n",
      "\n"
     ]
    },
    {
     "name": "stdout",
     "output_type": "stream",
     "text": [
      "Epoch 180, Loss 0.0234\n",
      "Training Accuracy: 0.9727, Testing Accuracy: 0.9713\n",
      "\n"
     ]
    },
    {
     "name": "stdout",
     "output_type": "stream",
     "text": [
      "Epoch 190, Loss 0.0229\n",
      "Training Accuracy: 0.9731, Testing Accuracy: 0.9728\n",
      "\n"
     ]
    },
    {
     "name": "stdout",
     "output_type": "stream",
     "text": [
      "Epoch 200, Loss 0.0225\n",
      "Training Accuracy: 0.9735, Testing Accuracy: 0.9728\n",
      "\n"
     ]
    },
    {
     "name": "stdout",
     "output_type": "stream",
     "text": [
      "Epoch 210, Loss 0.022\n",
      "Training Accuracy: 0.9737, Testing Accuracy: 0.9733\n",
      "\n"
     ]
    },
    {
     "name": "stdout",
     "output_type": "stream",
     "text": [
      "Epoch 220, Loss 0.0216\n",
      "Training Accuracy: 0.9741, Testing Accuracy: 0.9743\n",
      "\n"
     ]
    },
    {
     "name": "stdout",
     "output_type": "stream",
     "text": [
      "Epoch 230, Loss 0.0212\n",
      "Training Accuracy: 0.9750, Testing Accuracy: 0.9753\n",
      "\n"
     ]
    },
    {
     "name": "stdout",
     "output_type": "stream",
     "text": [
      "Epoch 240, Loss 0.0209\n",
      "Training Accuracy: 0.9756, Testing Accuracy: 0.9753\n",
      "\n"
     ]
    },
    {
     "name": "stdout",
     "output_type": "stream",
     "text": [
      "Epoch 250, Loss 0.0205\n",
      "Training Accuracy: 0.9766, Testing Accuracy: 0.9753\n",
      "\n"
     ]
    },
    {
     "data": {
      "text/plain": [
       "0.0038900582867375704"
      ]
     },
     "execution_count": 20,
     "metadata": {},
     "output_type": "execute_result"
    }
   ],
   "source": [
    "print(\"====== Neural Network ======\")\n",
    "learner_nn.train_loop(dl)"
   ]
  },
  {
   "cell_type": "markdown",
   "id": "competent-suffering",
   "metadata": {
    "papermill": {
     "duration": 0.039615,
     "end_time": "2021-02-08T20:05:56.270026",
     "exception": false,
     "start_time": "2021-02-08T20:05:56.230411",
     "status": "completed"
    },
    "tags": []
   },
   "source": [
    "### Logistic Regression based Implementation."
   ]
  },
  {
   "cell_type": "code",
   "execution_count": 21,
   "id": "qualified-psychiatry",
   "metadata": {
    "execution": {
     "iopub.execute_input": "2021-02-08T20:05:56.354599Z",
     "iopub.status.busy": "2021-02-08T20:05:56.353564Z",
     "iopub.status.idle": "2021-02-08T20:05:56.365842Z",
     "shell.execute_reply": "2021-02-08T20:05:56.365275Z"
    },
    "papermill": {
     "duration": 0.05633,
     "end_time": "2021-02-08T20:05:56.365969",
     "exception": false,
     "start_time": "2021-02-08T20:05:56.309639",
     "status": "completed"
    },
    "tags": []
   },
   "outputs": [],
   "source": [
    "learner_lr = Learner(loss, model_lr, opt, config.num_epochs)\n",
    "acc_lr = ClfCallback(learner_lr, config.bs, training_xdata , testing_xdata, training_ydata, testing_ydata)\n",
    "learner_lr.set_callbacks([acc_lr])"
   ]
  },
  {
   "cell_type": "code",
   "execution_count": 22,
   "id": "average-outside",
   "metadata": {
    "execution": {
     "iopub.execute_input": "2021-02-08T20:05:56.451272Z",
     "iopub.status.busy": "2021-02-08T20:05:56.450698Z",
     "iopub.status.idle": "2021-02-08T20:06:11.449025Z",
     "shell.execute_reply": "2021-02-08T20:06:11.448209Z"
    },
    "papermill": {
     "duration": 15.043098,
     "end_time": "2021-02-08T20:06:11.449164",
     "exception": false,
     "start_time": "2021-02-08T20:05:56.406066",
     "status": "completed"
    },
    "tags": []
   },
   "outputs": [
    {
     "name": "stdout",
     "output_type": "stream",
     "text": [
      "====== Logistic Regression ======\n",
      "Epoch 0, Loss 0.2036\n",
      "Training Accuracy: 0.7714, Testing Accuracy: 0.7646\n",
      "\n"
     ]
    },
    {
     "name": "stdout",
     "output_type": "stream",
     "text": [
      "Epoch 10, Loss 0.1007\n",
      "Training Accuracy: 0.9028, Testing Accuracy: 0.9153\n",
      "\n"
     ]
    },
    {
     "name": "stdout",
     "output_type": "stream",
     "text": [
      "Epoch 20, Loss 0.0785\n",
      "Training Accuracy: 0.9264, Testing Accuracy: 0.9395\n",
      "\n"
     ]
    },
    {
     "name": "stdout",
     "output_type": "stream",
     "text": [
      "Epoch 30, Loss 0.0679\n",
      "Training Accuracy: 0.9350, Testing Accuracy: 0.9451\n",
      "\n"
     ]
    },
    {
     "name": "stdout",
     "output_type": "stream",
     "text": [
      "Epoch 40, Loss 0.0615\n",
      "Training Accuracy: 0.9417, Testing Accuracy: 0.9531\n",
      "\n"
     ]
    },
    {
     "name": "stdout",
     "output_type": "stream",
     "text": [
      "Epoch 50, Loss 0.057\n",
      "Training Accuracy: 0.9450, Testing Accuracy: 0.9541\n",
      "\n"
     ]
    },
    {
     "name": "stdout",
     "output_type": "stream",
     "text": [
      "Epoch 60, Loss 0.0538\n",
      "Training Accuracy: 0.9469, Testing Accuracy: 0.9567\n",
      "\n"
     ]
    },
    {
     "name": "stdout",
     "output_type": "stream",
     "text": [
      "Epoch 70, Loss 0.0513\n",
      "Training Accuracy: 0.9485, Testing Accuracy: 0.9592\n",
      "\n"
     ]
    },
    {
     "name": "stdout",
     "output_type": "stream",
     "text": [
      "Epoch 80, Loss 0.0492\n",
      "Training Accuracy: 0.9499, Testing Accuracy: 0.9612\n",
      "\n"
     ]
    },
    {
     "name": "stdout",
     "output_type": "stream",
     "text": [
      "Epoch 90, Loss 0.0476\n",
      "Training Accuracy: 0.9511, Testing Accuracy: 0.9632\n",
      "\n"
     ]
    },
    {
     "name": "stdout",
     "output_type": "stream",
     "text": [
      "Epoch 100, Loss 0.0462\n",
      "Training Accuracy: 0.9519, Testing Accuracy: 0.9637\n",
      "\n"
     ]
    },
    {
     "name": "stdout",
     "output_type": "stream",
     "text": [
      "Epoch 110, Loss 0.045\n",
      "Training Accuracy: 0.9528, Testing Accuracy: 0.9647\n",
      "\n"
     ]
    },
    {
     "name": "stdout",
     "output_type": "stream",
     "text": [
      "Epoch 120, Loss 0.0439\n",
      "Training Accuracy: 0.9541, Testing Accuracy: 0.9657\n",
      "\n"
     ]
    },
    {
     "name": "stdout",
     "output_type": "stream",
     "text": [
      "Epoch 130, Loss 0.043\n",
      "Training Accuracy: 0.9545, Testing Accuracy: 0.9662\n",
      "\n"
     ]
    },
    {
     "name": "stdout",
     "output_type": "stream",
     "text": [
      "Epoch 140, Loss 0.0421\n",
      "Training Accuracy: 0.9551, Testing Accuracy: 0.9662\n",
      "\n"
     ]
    },
    {
     "name": "stdout",
     "output_type": "stream",
     "text": [
      "Epoch 150, Loss 0.0414\n",
      "Training Accuracy: 0.9556, Testing Accuracy: 0.9667\n",
      "\n"
     ]
    },
    {
     "name": "stdout",
     "output_type": "stream",
     "text": [
      "Epoch 160, Loss 0.0407\n",
      "Training Accuracy: 0.9566, Testing Accuracy: 0.9672\n",
      "\n"
     ]
    },
    {
     "name": "stdout",
     "output_type": "stream",
     "text": [
      "Epoch 170, Loss 0.0401\n",
      "Training Accuracy: 0.9574, Testing Accuracy: 0.9672\n",
      "\n"
     ]
    },
    {
     "name": "stdout",
     "output_type": "stream",
     "text": [
      "Epoch 180, Loss 0.0396\n",
      "Training Accuracy: 0.9581, Testing Accuracy: 0.9677\n",
      "\n"
     ]
    },
    {
     "name": "stdout",
     "output_type": "stream",
     "text": [
      "Epoch 190, Loss 0.0391\n",
      "Training Accuracy: 0.9587, Testing Accuracy: 0.9677\n",
      "\n"
     ]
    },
    {
     "name": "stdout",
     "output_type": "stream",
     "text": [
      "Epoch 200, Loss 0.0386\n",
      "Training Accuracy: 0.9594, Testing Accuracy: 0.9677\n",
      "\n"
     ]
    },
    {
     "name": "stdout",
     "output_type": "stream",
     "text": [
      "Epoch 210, Loss 0.0381\n",
      "Training Accuracy: 0.9596, Testing Accuracy: 0.9682\n",
      "\n"
     ]
    },
    {
     "name": "stdout",
     "output_type": "stream",
     "text": [
      "Epoch 220, Loss 0.0377\n",
      "Training Accuracy: 0.9599, Testing Accuracy: 0.9682\n",
      "\n"
     ]
    },
    {
     "name": "stdout",
     "output_type": "stream",
     "text": [
      "Epoch 230, Loss 0.0373\n",
      "Training Accuracy: 0.9597, Testing Accuracy: 0.9682\n",
      "\n"
     ]
    },
    {
     "name": "stdout",
     "output_type": "stream",
     "text": [
      "Epoch 240, Loss 0.037\n",
      "Training Accuracy: 0.9599, Testing Accuracy: 0.9688\n",
      "\n"
     ]
    },
    {
     "name": "stdout",
     "output_type": "stream",
     "text": [
      "Epoch 250, Loss 0.0367\n",
      "Training Accuracy: 0.9599, Testing Accuracy: 0.9688\n",
      "\n"
     ]
    },
    {
     "data": {
      "text/plain": [
       "0.07799857484323731"
      ]
     },
     "execution_count": 22,
     "metadata": {},
     "output_type": "execute_result"
    }
   ],
   "source": [
    "print(\"====== Logistic Regression ======\")\n",
    "learner_lr.train_loop(dl)"
   ]
  },
  {
   "cell_type": "markdown",
   "id": "adjusted-possible",
   "metadata": {
    "papermill": {
     "duration": 0.04737,
     "end_time": "2021-02-08T20:06:11.545034",
     "exception": false,
     "start_time": "2021-02-08T20:06:11.497664",
     "status": "completed"
    },
    "tags": []
   },
   "source": [
    "### Comparing results of NN and LR"
   ]
  },
  {
   "cell_type": "code",
   "execution_count": 23,
   "id": "mental-multimedia",
   "metadata": {
    "execution": {
     "iopub.execute_input": "2021-02-08T20:06:11.648719Z",
     "iopub.status.busy": "2021-02-08T20:06:11.648059Z",
     "iopub.status.idle": "2021-02-08T20:06:11.881150Z",
     "shell.execute_reply": "2021-02-08T20:06:11.880658Z"
    },
    "papermill": {
     "duration": 0.289365,
     "end_time": "2021-02-08T20:06:11.881289",
     "exception": false,
     "start_time": "2021-02-08T20:06:11.591924",
     "status": "completed"
    },
    "tags": []
   },
   "outputs": [
    {
     "data": {
      "text/plain": [
       "<matplotlib.legend.Legend at 0x7fdda6704898>"
      ]
     },
     "execution_count": 23,
     "metadata": {},
     "output_type": "execute_result"
    },
    {
     "data": {
      "image/png": "[encoded data removed]",
      "text/plain": [
       "<Figure size 1080x720 with 1 Axes>"
      ]
     },
     "metadata": {
      "needs_background": "light"
     },
     "output_type": "display_data"
    }
   ],
   "source": [
    "plt.figure(figsize=(15,10))\n",
    "\n",
    "# Neural Network plots\n",
    "plt.plot(acc_nn.accuracies, 'r-', label = \"Training Accuracies - NN\")\n",
    "plt.plot(acc_nn.test_accuracies, 'g-', label = \"Testing Accuracies - NN\")\n",
    "\n",
    "# Logistic Regression plots\n",
    "plt.plot(acc_lr.accuracies, 'k-', label = \"Training Accuracies - LR\")\n",
    "plt.plot(acc_lr.test_accuracies, 'b-', label = \"Testing Accuracies - LR\")\n",
    "\n",
    "plt.ylim(0.8, 1)\n",
    "\n",
    "plt.legend()\n",
    "\n"
   ]
  },
  {
   "cell_type": "markdown",
   "id": "sexual-flesh",
   "metadata": {
    "papermill": {
     "duration": 0.048974,
     "end_time": "2021-02-08T20:06:11.979272",
     "exception": false,
     "start_time": "2021-02-08T20:06:11.930298",
     "status": "completed"
    },
    "tags": []
   },
   "source": [
    "### From the plot, we can observe the following:\n",
    "- Neural Network achieves higher accuracy than the Logistic Regression model.\n",
    "- This apparently, is because of overfitting, i.e. NN captures more noise than data.\n",
    "- Testing accuracy of NN drops below the Training accuracy at higher epochs. This explains the over-fitting on training data.\n",
    "- Logistic Regression gives a reliable accuracy, without the above mentioned problem.\n"
   ]
  },
  {
   "cell_type": "markdown",
   "id": "institutional-pacific",
   "metadata": {
    "papermill": {
     "duration": 0.047947,
     "end_time": "2021-02-08T20:06:12.075709",
     "exception": false,
     "start_time": "2021-02-08T20:06:12.027762",
     "status": "completed"
    },
    "tags": []
   },
   "source": [
    "### Moving till the last but one layer (excluding it).\n",
    "#### Plotting the outputs of this layer of the NN."
   ]
  },
  {
   "cell_type": "code",
   "execution_count": 24,
   "id": "economic-server",
   "metadata": {
    "execution": {
     "iopub.execute_input": "2021-02-08T20:06:12.177608Z",
     "iopub.status.busy": "2021-02-08T20:06:12.176902Z",
     "iopub.status.idle": "2021-02-08T20:06:12.189707Z",
     "shell.execute_reply": "2021-02-08T20:06:12.189213Z"
    },
    "papermill": {
     "duration": 0.065559,
     "end_time": "2021-02-08T20:06:12.189834",
     "exception": false,
     "start_time": "2021-02-08T20:06:12.124275",
     "status": "completed"
    },
    "tags": []
   },
   "outputs": [],
   "source": [
    "model_new = Model(layers[:-2])"
   ]
  },
  {
   "cell_type": "code",
   "execution_count": 25,
   "id": "varied-upgrade",
   "metadata": {
    "execution": {
     "iopub.execute_input": "2021-02-08T20:06:12.291587Z",
     "iopub.status.busy": "2021-02-08T20:06:12.290985Z",
     "iopub.status.idle": "2021-02-08T20:06:12.312090Z",
     "shell.execute_reply": "2021-02-08T20:06:12.312916Z"
    },
    "papermill": {
     "duration": 0.07436,
     "end_time": "2021-02-08T20:06:12.313071",
     "exception": false,
     "start_time": "2021-02-08T20:06:12.238711",
     "status": "completed"
    },
    "tags": []
   },
   "outputs": [],
   "source": [
    "plot_testing = model_new(testing_xdata)"
   ]
  },
  {
   "cell_type": "code",
   "execution_count": 26,
   "id": "specific-handling",
   "metadata": {
    "execution": {
     "iopub.execute_input": "2021-02-08T20:06:12.418562Z",
     "iopub.status.busy": "2021-02-08T20:06:12.417985Z",
     "iopub.status.idle": "2021-02-08T20:06:12.615456Z",
     "shell.execute_reply": "2021-02-08T20:06:12.614709Z"
    },
    "papermill": {
     "duration": 0.252587,
     "end_time": "2021-02-08T20:06:12.615594",
     "exception": false,
     "start_time": "2021-02-08T20:06:12.363007",
     "status": "completed"
    },
    "tags": []
   },
   "outputs": [
    {
     "data": {
      "text/plain": [
       "Text(0.5, 1.0, 'Outputs')"
      ]
     },
     "execution_count": 26,
     "metadata": {},
     "output_type": "execute_result"
    },
    {
     "data": {
      "image/png": "[encoded data removed]",
      "text/plain": [
       "<Figure size 576x504 with 1 Axes>"
      ]
     },
     "metadata": {
      "needs_background": "light"
     },
     "output_type": "display_data"
    }
   ],
   "source": [
    "plt.figure(figsize=(8,7))\n",
    "plt.scatter(plot_testing[:,0], plot_testing[:,1], alpha = 0.1, c = y_test.ravel());\n",
    "plt.title('Outputs')"
   ]
  },
  {
   "cell_type": "markdown",
   "id": "described-knowing",
   "metadata": {
    "papermill": {
     "duration": 0.049678,
     "end_time": "2021-02-08T20:06:12.715421",
     "exception": false,
     "start_time": "2021-02-08T20:06:12.665743",
     "status": "completed"
    },
    "tags": []
   },
   "source": [
    "### Plotting probability contours"
   ]
  },
  {
   "cell_type": "code",
   "execution_count": 27,
   "id": "needed-growing",
   "metadata": {
    "execution": {
     "iopub.execute_input": "2021-02-08T20:06:12.819147Z",
     "iopub.status.busy": "2021-02-08T20:06:12.818147Z",
     "iopub.status.idle": "2021-02-08T20:06:12.830616Z",
     "shell.execute_reply": "2021-02-08T20:06:12.831101Z"
    },
    "papermill": {
     "duration": 0.065974,
     "end_time": "2021-02-08T20:06:12.831272",
     "exception": false,
     "start_time": "2021-02-08T20:06:12.765298",
     "status": "completed"
    },
    "tags": []
   },
   "outputs": [],
   "source": [
    "model_prob = Model(layers[-2:]) "
   ]
  },
  {
   "cell_type": "code",
   "execution_count": 28,
   "id": "introductory-enforcement",
   "metadata": {
    "execution": {
     "iopub.execute_input": "2021-02-08T20:06:12.938747Z",
     "iopub.status.busy": "2021-02-08T20:06:12.938160Z",
     "iopub.status.idle": "2021-02-08T20:06:12.953247Z",
     "shell.execute_reply": "2021-02-08T20:06:12.953678Z"
    },
    "papermill": {
     "duration": 0.072361,
     "end_time": "2021-02-08T20:06:12.953827",
     "exception": false,
     "start_time": "2021-02-08T20:06:12.881466",
     "status": "completed"
    },
    "tags": []
   },
   "outputs": [],
   "source": [
    "# Adjust the x and y ranges according to the above generated plot.\n",
    "x_range = np.linspace(-4, 1, 100) \n",
    "y_range = np.linspace(-6, 6, 100) \n",
    "x_grid, y_grid = np.meshgrid(x_range, y_range) # x_grid and y_grig are of size 100 X 100\n",
    "\n",
    "# converting x_grid and y_grid to continuous arrays\n",
    "x_grid_flat = np.ravel(x_grid)\n",
    "y_grid_flat = np.ravel(y_grid)\n",
    "\n",
    "# The last layer of the current model takes two columns as input. Hence transpose of np.vstack() is required.\n",
    "X = np.vstack((x_grid_flat, y_grid_flat)).T\n",
    "\n",
    "# x_grid and y_grid are of size 100 x 100\n",
    "probability_contour = model_prob(X).reshape(100,100) "
   ]
  },
  {
   "cell_type": "code",
   "execution_count": 29,
   "id": "understood-landing",
   "metadata": {
    "execution": {
     "iopub.execute_input": "2021-02-08T20:06:13.089809Z",
     "iopub.status.busy": "2021-02-08T20:06:13.089225Z",
     "iopub.status.idle": "2021-02-08T20:06:13.337660Z",
     "shell.execute_reply": "2021-02-08T20:06:13.338127Z"
    },
    "papermill": {
     "duration": 0.30714,
     "end_time": "2021-02-08T20:06:13.338284",
     "exception": false,
     "start_time": "2021-02-08T20:06:13.031144",
     "status": "completed"
    },
    "tags": []
   },
   "outputs": [
    {
     "data": {
      "image/png": "[encoded data removed]",
      "text/plain": [
       "<Figure size 720x648 with 1 Axes>"
      ]
     },
     "metadata": {
      "needs_background": "light"
     },
     "output_type": "display_data"
    }
   ],
   "source": [
    "plt.figure(figsize=(10,9))\n",
    "plt.scatter(plot_testing[:,0], plot_testing[:,1], alpha = 0.1, c = y_test.ravel())\n",
    "contours = plt.contour(x_grid,y_grid,probability_contour)\n",
    "plt.title('Probability Contours')\n",
    "plt.clabel(contours, inline = True );"
   ]
  }
 ],
 "metadata": {
  "kernelspec": {
   "display_name": "Python 3",
   "language": "python",
   "name": "python3"
  },
  "language_info": {
   "codemirror_mode": {
    "name": "ipython",
    "version": 3
   },
   "file_extension": ".py",
   "mimetype": "text/x-python",
   "name": "python",
   "nbconvert_exporter": "python",
   "pygments_lexer": "ipython3",
   "version": "3.6.12"
  },
  "papermill": {
   "duration": 111.790127,
   "end_time": "2021-02-08T20:06:13.802085",
   "environment_variables": {},
   "exception": null,
   "input_path": "2020-08-11-NeuralNetwork.ipynb",
   "output_path": "2020-08-11-NeuralNetwork.ipynb",
   "parameters": {},
   "start_time": "2021-02-08T20:04:22.011958",
   "version": "2.1.2"
  }
 },
 "nbformat": 4,
 "nbformat_minor": 5
}