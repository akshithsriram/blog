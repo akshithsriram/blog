{
 "cells": [
  {
   "cell_type": "markdown",
   "metadata": {
    "papermill": {
     "duration": 0.025935,
     "end_time": "2020-09-02T20:03:50.361143",
     "exception": false,
     "start_time": "2020-09-02T20:03:50.335208",
     "status": "completed"
    },
    "tags": []
   },
   "source": [
    "# \"A Basic Neural Network: Differentiate Hand-Written Digits\"\n",
    "\n",
    "- badges: true\n",
    "- author: Akshith Sriram"
   ]
  },
  {
   "cell_type": "markdown",
   "metadata": {
    "papermill": {
     "duration": 0.022273,
     "end_time": "2020-09-02T20:03:50.409710",
     "exception": false,
     "start_time": "2020-09-02T20:03:50.387437",
     "status": "completed"
    },
    "tags": []
   },
   "source": [
    "### Key Objectives:\n",
    "- Building a neural network that differentiates two hand-written digits 3 and 8.\n",
    "- Comparing the results of this Neural Network (NN) to that of a Logistic Regression (LR) model.\n",
    "\n",
    "### Requirements:\n",
    "- 'Kudzu' : A neural network library that was designed during our course by [Univ.AI](www.univ.ai). \n",
    "- MNIST Database\n",
    "\n",
    "If MNIST is not installed, use the command `!pip install mnist` given below.\n",
    "It can be run both from the command line and Jupyter Notebook."
   ]
  },
  {
   "cell_type": "code",
   "execution_count": 1,
   "metadata": {
    "execution": {
     "iopub.execute_input": "2020-09-02T20:03:50.458945Z",
     "iopub.status.busy": "2020-09-02T20:03:50.458429Z",
     "iopub.status.idle": "2020-09-02T20:03:51.773627Z",
     "shell.execute_reply": "2020-09-02T20:03:51.773141Z"
    },
    "papermill": {
     "duration": 1.34187,
     "end_time": "2020-09-02T20:03:51.773775",
     "exception": false,
     "start_time": "2020-09-02T20:03:50.431905",
     "status": "completed"
    },
    "tags": []
   },
   "outputs": [
    {
     "name": "stdout",
     "output_type": "stream",
     "text": [
      "Collecting mnist\r\n"
     ]
    },
    {
     "name": "stdout",
     "output_type": "stream",
     "text": [
      "  Downloading mnist-0.2.2-py2.py3-none-any.whl (3.5 kB)\r\n"
     ]
    },
    {
     "name": "stdout",
     "output_type": "stream",
     "text": [
      "Requirement already satisfied: numpy in /opt/hostedtoolcache/Python/3.6.12/x64/lib/python3.6/site-packages (from mnist) (1.19.1)\r\n"
     ]
    },
    {
     "name": "stdout",
     "output_type": "stream",
     "text": [
      "Installing collected packages: mnist\r\n"
     ]
    },
    {
     "name": "stdout",
     "output_type": "stream",
     "text": [
      "Successfully installed mnist-0.2.2\r\n"
     ]
    }
   ],
   "source": [
    "!pip install mnist "
   ]
  },
  {
   "cell_type": "markdown",
   "metadata": {
    "papermill": {
     "duration": 0.023151,
     "end_time": "2020-09-02T20:03:51.820723",
     "exception": false,
     "start_time": "2020-09-02T20:03:51.797572",
     "status": "completed"
    },
    "tags": []
   },
   "source": [
    "#### Importing necessary libraries"
   ]
  },
  {
   "cell_type": "code",
   "execution_count": 2,
   "metadata": {
    "execution": {
     "iopub.execute_input": "2020-09-02T20:03:51.873976Z",
     "iopub.status.busy": "2020-09-02T20:03:51.873438Z",
     "iopub.status.idle": "2020-09-02T20:03:52.348064Z",
     "shell.execute_reply": "2020-09-02T20:03:52.348511Z"
    },
    "papermill": {
     "duration": 0.503692,
     "end_time": "2020-09-02T20:03:52.348666",
     "exception": false,
     "start_time": "2020-09-02T20:03:51.844974",
     "status": "completed"
    },
    "tags": []
   },
   "outputs": [],
   "source": [
    "%load_ext autoreload\n",
    "%autoreload 2\n",
    "\n",
    "%matplotlib inline\n",
    "import matplotlib.pyplot as plt\n",
    "\n",
    "import numpy as np\n",
    "import pandas as pd"
   ]
  },
  {
   "cell_type": "markdown",
   "metadata": {
    "papermill": {
     "duration": 0.026616,
     "end_time": "2020-09-02T20:03:52.399215",
     "exception": false,
     "start_time": "2020-09-02T20:03:52.372599",
     "status": "completed"
    },
    "tags": []
   },
   "source": [
    "### Preparing the Data"
   ]
  },
  {
   "cell_type": "code",
   "execution_count": 3,
   "metadata": {
    "execution": {
     "iopub.execute_input": "2020-09-02T20:03:52.452675Z",
     "iopub.status.busy": "2020-09-02T20:03:52.452154Z",
     "iopub.status.idle": "2020-09-02T20:03:52.460405Z",
     "shell.execute_reply": "2020-09-02T20:03:52.459956Z"
    },
    "papermill": {
     "duration": 0.036816,
     "end_time": "2020-09-02T20:03:52.460512",
     "exception": false,
     "start_time": "2020-09-02T20:03:52.423696",
     "status": "completed"
    },
    "tags": []
   },
   "outputs": [],
   "source": [
    "import mnist"
   ]
  },
  {
   "cell_type": "code",
   "execution_count": 4,
   "metadata": {
    "execution": {
     "iopub.execute_input": "2020-09-02T20:03:52.516299Z",
     "iopub.status.busy": "2020-09-02T20:03:52.515775Z",
     "iopub.status.idle": "2020-09-02T20:03:54.309637Z",
     "shell.execute_reply": "2020-09-02T20:03:54.309049Z"
    },
    "papermill": {
     "duration": 1.8259,
     "end_time": "2020-09-02T20:03:54.309787",
     "exception": false,
     "start_time": "2020-09-02T20:03:52.483887",
     "status": "completed"
    },
    "tags": []
   },
   "outputs": [],
   "source": [
    "train_images = mnist.train_images()\n",
    "train_labels = mnist.train_labels()"
   ]
  },
  {
   "cell_type": "code",
   "execution_count": 5,
   "metadata": {
    "execution": {
     "iopub.execute_input": "2020-09-02T20:03:54.364627Z",
     "iopub.status.busy": "2020-09-02T20:03:54.363414Z",
     "iopub.status.idle": "2020-09-02T20:03:54.376174Z",
     "shell.execute_reply": "2020-09-02T20:03:54.375626Z"
    },
    "papermill": {
     "duration": 0.041637,
     "end_time": "2020-09-02T20:03:54.376290",
     "exception": false,
     "start_time": "2020-09-02T20:03:54.334653",
     "status": "completed"
    },
    "tags": []
   },
   "outputs": [
    {
     "data": {
      "text/plain": [
       "((60000, 28, 28), (60000,))"
      ]
     },
     "execution_count": 5,
     "metadata": {},
     "output_type": "execute_result"
    }
   ],
   "source": [
    "train_images.shape, train_labels.shape"
   ]
  },
  {
   "cell_type": "code",
   "execution_count": 6,
   "metadata": {
    "execution": {
     "iopub.execute_input": "2020-09-02T20:03:54.426275Z",
     "iopub.status.busy": "2020-09-02T20:03:54.425745Z",
     "iopub.status.idle": "2020-09-02T20:03:55.276128Z",
     "shell.execute_reply": "2020-09-02T20:03:55.275211Z"
    },
    "papermill": {
     "duration": 0.876573,
     "end_time": "2020-09-02T20:03:55.276352",
     "exception": false,
     "start_time": "2020-09-02T20:03:54.399779",
     "status": "completed"
    },
    "tags": []
   },
   "outputs": [],
   "source": [
    "test_images = mnist.test_images()\n",
    "test_labels = mnist.test_labels()"
   ]
  },
  {
   "cell_type": "code",
   "execution_count": 7,
   "metadata": {
    "execution": {
     "iopub.execute_input": "2020-09-02T20:03:55.336094Z",
     "iopub.status.busy": "2020-09-02T20:03:55.334971Z",
     "iopub.status.idle": "2020-09-02T20:03:55.346802Z",
     "shell.execute_reply": "2020-09-02T20:03:55.347353Z"
    },
    "papermill": {
     "duration": 0.042421,
     "end_time": "2020-09-02T20:03:55.347484",
     "exception": false,
     "start_time": "2020-09-02T20:03:55.305063",
     "status": "completed"
    },
    "tags": []
   },
   "outputs": [
    {
     "data": {
      "text/plain": [
       "((10000, 28, 28), (10000,))"
      ]
     },
     "execution_count": 7,
     "metadata": {},
     "output_type": "execute_result"
    }
   ],
   "source": [
    "test_images.shape, test_labels.shape"
   ]
  },
  {
   "cell_type": "code",
   "execution_count": 8,
   "metadata": {
    "execution": {
     "iopub.execute_input": "2020-09-02T20:03:55.398948Z",
     "iopub.status.busy": "2020-09-02T20:03:55.398411Z",
     "iopub.status.idle": "2020-09-02T20:03:55.549488Z",
     "shell.execute_reply": "2020-09-02T20:03:55.549902Z"
    },
    "papermill": {
     "duration": 0.177589,
     "end_time": "2020-09-02T20:03:55.550025",
     "exception": false,
     "start_time": "2020-09-02T20:03:55.372436",
     "status": "completed"
    },
    "tags": []
   },
   "outputs": [
    {
     "name": "stdout",
     "output_type": "stream",
     "text": [
      "2\n"
     ]
    },
    {
     "data": {
      "text/plain": [
       "<matplotlib.image.AxesImage at 0x7fac0bd9db70>"
      ]
     },
     "execution_count": 8,
     "metadata": {},
     "output_type": "execute_result"
    },
    {
     "data": {
      "image/png": "[encoded data removed]",
      "text/plain": [
       "<Figure size 432x288 with 1 Axes>"
      ]
     },
     "metadata": {
      "needs_background": "light"
     },
     "output_type": "display_data"
    }
   ],
   "source": [
    "image_index = 7776 # You may select anything up to 60,000\n",
    "print(train_labels[image_index]) \n",
    "plt.imshow(train_images[image_index], cmap='Greys')"
   ]
  },
  {
   "cell_type": "markdown",
   "metadata": {
    "papermill": {
     "duration": 0.024117,
     "end_time": "2020-09-02T20:03:55.598435",
     "exception": false,
     "start_time": "2020-09-02T20:03:55.574318",
     "status": "completed"
    },
    "tags": []
   },
   "source": [
    "## Filter data to get 3 and 8 out"
   ]
  },
  {
   "cell_type": "code",
   "execution_count": 9,
   "metadata": {
    "execution": {
     "iopub.execute_input": "2020-09-02T20:03:55.651492Z",
     "iopub.status.busy": "2020-09-02T20:03:55.650837Z",
     "iopub.status.idle": "2020-09-02T20:03:55.663715Z",
     "shell.execute_reply": "2020-09-02T20:03:55.664125Z"
    },
    "papermill": {
     "duration": 0.041464,
     "end_time": "2020-09-02T20:03:55.664253",
     "exception": false,
     "start_time": "2020-09-02T20:03:55.622789",
     "status": "completed"
    },
    "tags": []
   },
   "outputs": [],
   "source": [
    "train_filter = np.where((train_labels == 3 ) | (train_labels == 8))\n",
    "test_filter = np.where((test_labels == 3) | (test_labels == 8))\n",
    "X_train, y_train = train_images[train_filter], train_labels[train_filter]\n",
    "X_test, y_test = test_images[test_filter], test_labels[test_filter]"
   ]
  },
  {
   "cell_type": "markdown",
   "metadata": {
    "papermill": {
     "duration": 0.0284,
     "end_time": "2020-09-02T20:03:55.717967",
     "exception": false,
     "start_time": "2020-09-02T20:03:55.689567",
     "status": "completed"
    },
    "tags": []
   },
   "source": [
    "We normalize the pixel values in the 0 to 1 range"
   ]
  },
  {
   "cell_type": "code",
   "execution_count": 10,
   "metadata": {
    "execution": {
     "iopub.execute_input": "2020-09-02T20:03:55.771406Z",
     "iopub.status.busy": "2020-09-02T20:03:55.770882Z",
     "iopub.status.idle": "2020-09-02T20:03:55.818943Z",
     "shell.execute_reply": "2020-09-02T20:03:55.818392Z"
    },
    "papermill": {
     "duration": 0.075815,
     "end_time": "2020-09-02T20:03:55.819075",
     "exception": false,
     "start_time": "2020-09-02T20:03:55.743260",
     "status": "completed"
    },
    "tags": []
   },
   "outputs": [],
   "source": [
    "X_train = X_train/255.\n",
    "X_test = X_test/255."
   ]
  },
  {
   "cell_type": "markdown",
   "metadata": {
    "papermill": {
     "duration": 0.024252,
     "end_time": "2020-09-02T20:03:55.868255",
     "exception": false,
     "start_time": "2020-09-02T20:03:55.844003",
     "status": "completed"
    },
    "tags": []
   },
   "source": [
    "Setup the labels as 1 (when the digit is 3) and 0 (when the digit is 8)"
   ]
  },
  {
   "cell_type": "code",
   "execution_count": 11,
   "metadata": {
    "execution": {
     "iopub.execute_input": "2020-09-02T20:03:55.933924Z",
     "iopub.status.busy": "2020-09-02T20:03:55.925404Z",
     "iopub.status.idle": "2020-09-02T20:03:55.936368Z",
     "shell.execute_reply": "2020-09-02T20:03:55.935915Z"
    },
    "papermill": {
     "duration": 0.043821,
     "end_time": "2020-09-02T20:03:55.936473",
     "exception": false,
     "start_time": "2020-09-02T20:03:55.892652",
     "status": "completed"
    },
    "tags": []
   },
   "outputs": [],
   "source": [
    "y_train = 1*(y_train==3)\n",
    "y_test = 1*(y_test==3)"
   ]
  },
  {
   "cell_type": "code",
   "execution_count": 12,
   "metadata": {
    "execution": {
     "iopub.execute_input": "2020-09-02T20:03:56.002130Z",
     "iopub.status.busy": "2020-09-02T20:03:55.996161Z",
     "iopub.status.idle": "2020-09-02T20:03:56.005140Z",
     "shell.execute_reply": "2020-09-02T20:03:56.004690Z"
    },
    "papermill": {
     "duration": 0.039621,
     "end_time": "2020-09-02T20:03:56.005246",
     "exception": false,
     "start_time": "2020-09-02T20:03:55.965625",
     "status": "completed"
    },
    "tags": []
   },
   "outputs": [
    {
     "data": {
      "text/plain": [
       "((11982, 28, 28), (1984, 28, 28))"
      ]
     },
     "execution_count": 12,
     "metadata": {},
     "output_type": "execute_result"
    }
   ],
   "source": [
    "X_train.shape, X_test.shape"
   ]
  },
  {
   "cell_type": "markdown",
   "metadata": {
    "papermill": {
     "duration": 0.024655,
     "end_time": "2020-09-02T20:03:56.056961",
     "exception": false,
     "start_time": "2020-09-02T20:03:56.032306",
     "status": "completed"
    },
    "tags": []
   },
   "source": [
    "### Reshape the input data to create a linear array"
   ]
  },
  {
   "cell_type": "code",
   "execution_count": 13,
   "metadata": {
    "execution": {
     "iopub.execute_input": "2020-09-02T20:03:56.113394Z",
     "iopub.status.busy": "2020-09-02T20:03:56.112846Z",
     "iopub.status.idle": "2020-09-02T20:03:56.124901Z",
     "shell.execute_reply": "2020-09-02T20:03:56.125365Z"
    },
    "papermill": {
     "duration": 0.043329,
     "end_time": "2020-09-02T20:03:56.125486",
     "exception": false,
     "start_time": "2020-09-02T20:03:56.082157",
     "status": "completed"
    },
    "tags": []
   },
   "outputs": [
    {
     "data": {
      "text/plain": [
       "((11982, 784), (1984, 784))"
      ]
     },
     "execution_count": 13,
     "metadata": {},
     "output_type": "execute_result"
    }
   ],
   "source": [
    "X_train = X_train.reshape(X_train.shape[0], -1)\n",
    "X_test = X_test.reshape(X_test.shape[0], -1)\n",
    "X_train.shape, X_test.shape"
   ]
  },
  {
   "cell_type": "markdown",
   "metadata": {
    "papermill": {
     "duration": 0.024976,
     "end_time": "2020-09-02T20:03:56.175607",
     "exception": false,
     "start_time": "2020-09-02T20:03:56.150631",
     "status": "completed"
    },
    "tags": []
   },
   "source": [
    "### Importing appropriate functions from 'Kudzu'"
   ]
  },
  {
   "cell_type": "code",
   "execution_count": 14,
   "metadata": {
    "execution": {
     "iopub.execute_input": "2020-09-02T20:03:56.228895Z",
     "iopub.status.busy": "2020-09-02T20:03:56.228202Z",
     "iopub.status.idle": "2020-09-02T20:03:56.243940Z",
     "shell.execute_reply": "2020-09-02T20:03:56.243292Z"
    },
    "papermill": {
     "duration": 0.043608,
     "end_time": "2020-09-02T20:03:56.244108",
     "exception": false,
     "start_time": "2020-09-02T20:03:56.200500",
     "status": "completed"
    },
    "tags": []
   },
   "outputs": [],
   "source": [
    "from kudzu.layer import Sigmoid\n",
    "from kudzu.layer import Relu\n",
    "from kudzu.layer import Affine, Sigmoid\n",
    "\n",
    "from kudzu.model import Model\n",
    "from kudzu.train import Learner\n",
    "from kudzu.optim import GD\n",
    "from kudzu.data import Data, Dataloader, Sampler\n",
    "\n",
    "from kudzu.callbacks import AccCallback\n",
    "from kudzu.callbacks import ClfCallback\n",
    "\n",
    "from kudzu.loss import MSE"
   ]
  },
  {
   "cell_type": "markdown",
   "metadata": {
    "papermill": {
     "duration": 0.024986,
     "end_time": "2020-09-02T20:03:56.293649",
     "exception": false,
     "start_time": "2020-09-02T20:03:56.268663",
     "status": "completed"
    },
    "tags": []
   },
   "source": [
    "### Let us create a `Config` class, to store important parameters. \n",
    "This class essentially plays the role of a dictionary."
   ]
  },
  {
   "cell_type": "code",
   "execution_count": 15,
   "metadata": {
    "execution": {
     "iopub.execute_input": "2020-09-02T20:03:56.348162Z",
     "iopub.status.busy": "2020-09-02T20:03:56.347626Z",
     "iopub.status.idle": "2020-09-02T20:03:56.356261Z",
     "shell.execute_reply": "2020-09-02T20:03:56.356692Z"
    },
    "papermill": {
     "duration": 0.038058,
     "end_time": "2020-09-02T20:03:56.356809",
     "exception": false,
     "start_time": "2020-09-02T20:03:56.318751",
     "status": "completed"
    },
    "tags": []
   },
   "outputs": [],
   "source": [
    "class Config:\n",
    "    pass\n",
    "config = Config()\n",
    "config.lr = 0.001\n",
    "config.num_epochs = 251\n",
    "config.bs = 50"
   ]
  },
  {
   "cell_type": "markdown",
   "metadata": {
    "papermill": {
     "duration": 0.025173,
     "end_time": "2020-09-02T20:03:56.406872",
     "exception": false,
     "start_time": "2020-09-02T20:03:56.381699",
     "status": "completed"
    },
    "tags": []
   },
   "source": [
    "### Initializing data to the variables"
   ]
  },
  {
   "cell_type": "code",
   "execution_count": 16,
   "metadata": {
    "execution": {
     "iopub.execute_input": "2020-09-02T20:03:56.464977Z",
     "iopub.status.busy": "2020-09-02T20:03:56.464180Z",
     "iopub.status.idle": "2020-09-02T20:03:56.475257Z",
     "shell.execute_reply": "2020-09-02T20:03:56.474807Z"
    },
    "papermill": {
     "duration": 0.043486,
     "end_time": "2020-09-02T20:03:56.475364",
     "exception": false,
     "start_time": "2020-09-02T20:03:56.431878",
     "status": "completed"
    },
    "tags": []
   },
   "outputs": [],
   "source": [
    "data = Data(X_train, y_train.reshape(-1,1))\n",
    "sampler = Sampler(data, config.bs, shuffle=True)\n",
    "\n",
    "dl = Dataloader(data, sampler)\n",
    "\n",
    "opt = GD(config.lr)\n",
    "loss = MSE()"
   ]
  },
  {
   "cell_type": "code",
   "execution_count": 17,
   "metadata": {
    "execution": {
     "iopub.execute_input": "2020-09-02T20:03:56.528591Z",
     "iopub.status.busy": "2020-09-02T20:03:56.528067Z",
     "iopub.status.idle": "2020-09-02T20:03:56.537515Z",
     "shell.execute_reply": "2020-09-02T20:03:56.537071Z"
    },
    "papermill": {
     "duration": 0.037183,
     "end_time": "2020-09-02T20:03:56.537618",
     "exception": false,
     "start_time": "2020-09-02T20:03:56.500435",
     "status": "completed"
    },
    "tags": []
   },
   "outputs": [],
   "source": [
    "training_xdata = X_train\n",
    "testing_xdata = X_test\n",
    "training_ydata = y_train.reshape(-1,1)\n",
    "testing_ydata = y_test.reshape(-1,1)"
   ]
  },
  {
   "cell_type": "markdown",
   "metadata": {
    "papermill": {
     "duration": 0.024566,
     "end_time": "2020-09-02T20:03:56.586982",
     "exception": false,
     "start_time": "2020-09-02T20:03:56.562416",
     "status": "completed"
    },
    "tags": []
   },
   "source": [
    "### Running Models with the Training data\n",
    "Details about the network layers:\n",
    "- A first affine layer has 784 inputs and does 100 affine transforms. These are followed by a Relu\n",
    "- A second affine layer has 100 inputs from the 100 activations of the past layer, and does 100 affine transforms. These are followed by a Relu\n",
    "- A third affine layer has 100 activations and does 2 affine transformations to create an embedding for visualization. There is no non-linearity here.\n",
    "- A final \"logistic regression\" which has an affine transform from 2 inputs to 1 output, which is squeezed through a sigmoid.\n",
    "\n",
    "Help taken from Anshuman's Notebook."
   ]
  },
  {
   "cell_type": "code",
   "execution_count": 18,
   "metadata": {
    "execution": {
     "iopub.execute_input": "2020-09-02T20:03:56.655467Z",
     "iopub.status.busy": "2020-09-02T20:03:56.649337Z",
     "iopub.status.idle": "2020-09-02T20:03:56.657335Z",
     "shell.execute_reply": "2020-09-02T20:03:56.657764Z"
    },
    "papermill": {
     "duration": 0.046377,
     "end_time": "2020-09-02T20:03:56.657879",
     "exception": false,
     "start_time": "2020-09-02T20:03:56.611502",
     "status": "completed"
    },
    "tags": []
   },
   "outputs": [],
   "source": [
    "# layers for the Neural Network\n",
    "layers = [Affine(\"first\", 784, 100), Relu(\"first\"), Affine(\"second\", 100, 100), Relu(\"second\"), Affine(\"third\", 100, 2), Affine(\"final\", 2, 1), Sigmoid(\"final\")]\n",
    "model_nn = Model(layers)\n",
    "\n",
    "# layers for the Logistic Regression\n",
    "layers_lr = [Affine(\"logits\", 784, 1), Sigmoid(\"sigmoid\")]\n",
    "model_lr = Model(layers_lr)"
   ]
  },
  {
   "cell_type": "code",
   "execution_count": 19,
   "metadata": {
    "execution": {
     "iopub.execute_input": "2020-09-02T20:03:56.713776Z",
     "iopub.status.busy": "2020-09-02T20:03:56.713258Z",
     "iopub.status.idle": "2020-09-02T20:03:56.722320Z",
     "shell.execute_reply": "2020-09-02T20:03:56.721876Z"
    },
    "papermill": {
     "duration": 0.040023,
     "end_time": "2020-09-02T20:03:56.722424",
     "exception": false,
     "start_time": "2020-09-02T20:03:56.682401",
     "status": "completed"
    },
    "tags": []
   },
   "outputs": [],
   "source": [
    "# suffix _nn stands for Neural Network.\n",
    "learner_nn = Learner(loss, model_nn, opt, config.num_epochs)\n",
    "acc_nn = ClfCallback(learner_nn, config.bs, training_xdata , testing_xdata, training_ydata, testing_ydata)\n",
    "learner_nn.set_callbacks([acc_nn])"
   ]
  },
  {
   "cell_type": "code",
   "execution_count": 20,
   "metadata": {
    "execution": {
     "iopub.execute_input": "2020-09-02T20:03:56.776284Z",
     "iopub.status.busy": "2020-09-02T20:03:56.775760Z",
     "iopub.status.idle": "2020-09-02T20:05:57.840018Z",
     "shell.execute_reply": "2020-09-02T20:05:57.840728Z"
    },
    "papermill": {
     "duration": 121.094208,
     "end_time": "2020-09-02T20:05:57.840873",
     "exception": false,
     "start_time": "2020-09-02T20:03:56.746665",
     "status": "completed"
    },
    "tags": []
   },
   "outputs": [
    {
     "name": "stdout",
     "output_type": "stream",
     "text": [
      "====== Neural Network ======\n"
     ]
    },
    {
     "name": "stdout",
     "output_type": "stream",
     "text": [
      "Epoch 0, Loss 0.2547\n",
      "Training Accuracy: 0.4927, Testing Accuracy: 0.5005\n",
      "\n"
     ]
    },
    {
     "name": "stdout",
     "output_type": "stream",
     "text": [
      "Epoch 10, Loss 0.1651\n",
      "Training Accuracy: 0.8799, Testing Accuracy: 0.8911\n",
      "\n"
     ]
    },
    {
     "name": "stdout",
     "output_type": "stream",
     "text": [
      "Epoch 20, Loss 0.0794\n",
      "Training Accuracy: 0.9241, Testing Accuracy: 0.9279\n",
      "\n"
     ]
    },
    {
     "name": "stdout",
     "output_type": "stream",
     "text": [
      "Epoch 30, Loss 0.0534\n",
      "Training Accuracy: 0.9444, Testing Accuracy: 0.9526\n",
      "\n"
     ]
    },
    {
     "name": "stdout",
     "output_type": "stream",
     "text": [
      "Epoch 40, Loss 0.0433\n",
      "Training Accuracy: 0.9524, Testing Accuracy: 0.9587\n",
      "\n"
     ]
    },
    {
     "name": "stdout",
     "output_type": "stream",
     "text": [
      "Epoch 50, Loss 0.0381\n",
      "Training Accuracy: 0.9567, Testing Accuracy: 0.9627\n",
      "\n"
     ]
    },
    {
     "name": "stdout",
     "output_type": "stream",
     "text": [
      "Epoch 60, Loss 0.0348\n",
      "Training Accuracy: 0.9601, Testing Accuracy: 0.9642\n",
      "\n"
     ]
    },
    {
     "name": "stdout",
     "output_type": "stream",
     "text": [
      "Epoch 70, Loss 0.0326\n",
      "Training Accuracy: 0.9617, Testing Accuracy: 0.9662\n",
      "\n"
     ]
    },
    {
     "name": "stdout",
     "output_type": "stream",
     "text": [
      "Epoch 80, Loss 0.0309\n",
      "Training Accuracy: 0.9638, Testing Accuracy: 0.9667\n",
      "\n"
     ]
    },
    {
     "name": "stdout",
     "output_type": "stream",
     "text": [
      "Epoch 90, Loss 0.0296\n",
      "Training Accuracy: 0.9653, Testing Accuracy: 0.9672\n",
      "\n"
     ]
    },
    {
     "name": "stdout",
     "output_type": "stream",
     "text": [
      "Epoch 100, Loss 0.0285\n",
      "Training Accuracy: 0.9664, Testing Accuracy: 0.9677\n",
      "\n"
     ]
    },
    {
     "name": "stdout",
     "output_type": "stream",
     "text": [
      "Epoch 110, Loss 0.0276\n",
      "Training Accuracy: 0.9673, Testing Accuracy: 0.9698\n",
      "\n"
     ]
    },
    {
     "name": "stdout",
     "output_type": "stream",
     "text": [
      "Epoch 120, Loss 0.0268\n",
      "Training Accuracy: 0.9681, Testing Accuracy: 0.9693\n",
      "\n"
     ]
    },
    {
     "name": "stdout",
     "output_type": "stream",
     "text": [
      "Epoch 130, Loss 0.0261\n",
      "Training Accuracy: 0.9695, Testing Accuracy: 0.9688\n",
      "\n"
     ]
    },
    {
     "name": "stdout",
     "output_type": "stream",
     "text": [
      "Epoch 140, Loss 0.0255\n",
      "Training Accuracy: 0.9697, Testing Accuracy: 0.9688\n",
      "\n"
     ]
    },
    {
     "name": "stdout",
     "output_type": "stream",
     "text": [
      "Epoch 150, Loss 0.025\n",
      "Training Accuracy: 0.9701, Testing Accuracy: 0.9693\n",
      "\n"
     ]
    },
    {
     "name": "stdout",
     "output_type": "stream",
     "text": [
      "Epoch 160, Loss 0.0244\n",
      "Training Accuracy: 0.9708, Testing Accuracy: 0.9693\n",
      "\n"
     ]
    },
    {
     "name": "stdout",
     "output_type": "stream",
     "text": [
      "Epoch 170, Loss 0.024\n",
      "Training Accuracy: 0.9711, Testing Accuracy: 0.9693\n",
      "\n"
     ]
    },
    {
     "name": "stdout",
     "output_type": "stream",
     "text": [
      "Epoch 180, Loss 0.0235\n",
      "Training Accuracy: 0.9722, Testing Accuracy: 0.9688\n",
      "\n"
     ]
    },
    {
     "name": "stdout",
     "output_type": "stream",
     "text": [
      "Epoch 190, Loss 0.0231\n",
      "Training Accuracy: 0.9728, Testing Accuracy: 0.9693\n",
      "\n"
     ]
    },
    {
     "name": "stdout",
     "output_type": "stream",
     "text": [
      "Epoch 200, Loss 0.0227\n",
      "Training Accuracy: 0.9730, Testing Accuracy: 0.9718\n",
      "\n"
     ]
    },
    {
     "name": "stdout",
     "output_type": "stream",
     "text": [
      "Epoch 210, Loss 0.0223\n",
      "Training Accuracy: 0.9738, Testing Accuracy: 0.9718\n",
      "\n"
     ]
    },
    {
     "name": "stdout",
     "output_type": "stream",
     "text": [
      "Epoch 220, Loss 0.022\n",
      "Training Accuracy: 0.9743, Testing Accuracy: 0.9723\n",
      "\n"
     ]
    },
    {
     "name": "stdout",
     "output_type": "stream",
     "text": [
      "Epoch 230, Loss 0.0216\n",
      "Training Accuracy: 0.9747, Testing Accuracy: 0.9728\n",
      "\n"
     ]
    },
    {
     "name": "stdout",
     "output_type": "stream",
     "text": [
      "Epoch 240, Loss 0.0213\n",
      "Training Accuracy: 0.9752, Testing Accuracy: 0.9733\n",
      "\n"
     ]
    },
    {
     "name": "stdout",
     "output_type": "stream",
     "text": [
      "Epoch 250, Loss 0.021\n",
      "Training Accuracy: 0.9757, Testing Accuracy: 0.9728\n",
      "\n"
     ]
    },
    {
     "data": {
      "text/plain": [
       "0.004927086618954151"
      ]
     },
     "execution_count": 20,
     "metadata": {},
     "output_type": "execute_result"
    }
   ],
   "source": [
    "print(\"====== Neural Network ======\")\n",
    "learner_nn.train_loop(dl)"
   ]
  },
  {
   "cell_type": "markdown",
   "metadata": {
    "papermill": {
     "duration": 0.031672,
     "end_time": "2020-09-02T20:05:57.904784",
     "exception": false,
     "start_time": "2020-09-02T20:05:57.873112",
     "status": "completed"
    },
    "tags": []
   },
   "source": [
    "### Logistic Regression based Implementation."
   ]
  },
  {
   "cell_type": "code",
   "execution_count": 21,
   "metadata": {
    "execution": {
     "iopub.execute_input": "2020-09-02T20:05:57.972588Z",
     "iopub.status.busy": "2020-09-02T20:05:57.972039Z",
     "iopub.status.idle": "2020-09-02T20:05:57.982596Z",
     "shell.execute_reply": "2020-09-02T20:05:57.982994Z"
    },
    "papermill": {
     "duration": 0.047222,
     "end_time": "2020-09-02T20:05:57.983115",
     "exception": false,
     "start_time": "2020-09-02T20:05:57.935893",
     "status": "completed"
    },
    "tags": []
   },
   "outputs": [],
   "source": [
    "learner_lr = Learner(loss, model_lr, opt, config.num_epochs)\n",
    "acc_lr = ClfCallback(learner_lr, config.bs, training_xdata , testing_xdata, training_ydata, testing_ydata)\n",
    "learner_lr.set_callbacks([acc_lr])"
   ]
  },
  {
   "cell_type": "code",
   "execution_count": 22,
   "metadata": {
    "execution": {
     "iopub.execute_input": "2020-09-02T20:05:58.061969Z",
     "iopub.status.busy": "2020-09-02T20:05:58.060158Z",
     "iopub.status.idle": "2020-09-02T20:06:15.431072Z",
     "shell.execute_reply": "2020-09-02T20:06:15.431564Z"
    },
    "papermill": {
     "duration": 17.416692,
     "end_time": "2020-09-02T20:06:15.431713",
     "exception": false,
     "start_time": "2020-09-02T20:05:58.015021",
     "status": "completed"
    },
    "tags": []
   },
   "outputs": [
    {
     "name": "stdout",
     "output_type": "stream",
     "text": [
      "====== Logistic Regression ======\n",
      "Epoch 0, Loss 0.2774\n",
      "Training Accuracy: 0.5506, Testing Accuracy: 0.5333\n",
      "\n"
     ]
    },
    {
     "name": "stdout",
     "output_type": "stream",
     "text": [
      "Epoch 10, Loss 0.1094\n",
      "Training Accuracy: 0.9020, Testing Accuracy: 0.9158\n",
      "\n"
     ]
    },
    {
     "name": "stdout",
     "output_type": "stream",
     "text": [
      "Epoch 20, Loss 0.0819\n",
      "Training Accuracy: 0.9247, Testing Accuracy: 0.9390\n",
      "\n"
     ]
    },
    {
     "name": "stdout",
     "output_type": "stream",
     "text": [
      "Epoch 30, Loss 0.0697\n",
      "Training Accuracy: 0.9347, Testing Accuracy: 0.9486\n",
      "\n"
     ]
    },
    {
     "name": "stdout",
     "output_type": "stream",
     "text": [
      "Epoch 40, Loss 0.0626\n",
      "Training Accuracy: 0.9390, Testing Accuracy: 0.9541\n",
      "\n"
     ]
    },
    {
     "name": "stdout",
     "output_type": "stream",
     "text": [
      "Epoch 50, Loss 0.0577\n",
      "Training Accuracy: 0.9432, Testing Accuracy: 0.9567\n",
      "\n"
     ]
    },
    {
     "name": "stdout",
     "output_type": "stream",
     "text": [
      "Epoch 60, Loss 0.0542\n",
      "Training Accuracy: 0.9455, Testing Accuracy: 0.9592\n",
      "\n"
     ]
    },
    {
     "name": "stdout",
     "output_type": "stream",
     "text": [
      "Epoch 70, Loss 0.0515\n",
      "Training Accuracy: 0.9480, Testing Accuracy: 0.9602\n",
      "\n"
     ]
    },
    {
     "name": "stdout",
     "output_type": "stream",
     "text": [
      "Epoch 80, Loss 0.0494\n",
      "Training Accuracy: 0.9497, Testing Accuracy: 0.9597\n",
      "\n"
     ]
    },
    {
     "name": "stdout",
     "output_type": "stream",
     "text": [
      "Epoch 90, Loss 0.0477\n",
      "Training Accuracy: 0.9514, Testing Accuracy: 0.9622\n",
      "\n"
     ]
    },
    {
     "name": "stdout",
     "output_type": "stream",
     "text": [
      "Epoch 100, Loss 0.0462\n",
      "Training Accuracy: 0.9533, Testing Accuracy: 0.9617\n",
      "\n"
     ]
    },
    {
     "name": "stdout",
     "output_type": "stream",
     "text": [
      "Epoch 110, Loss 0.0449\n",
      "Training Accuracy: 0.9539, Testing Accuracy: 0.9622\n",
      "\n"
     ]
    },
    {
     "name": "stdout",
     "output_type": "stream",
     "text": [
      "Epoch 120, Loss 0.0438\n",
      "Training Accuracy: 0.9543, Testing Accuracy: 0.9632\n",
      "\n"
     ]
    },
    {
     "name": "stdout",
     "output_type": "stream",
     "text": [
      "Epoch 130, Loss 0.0429\n",
      "Training Accuracy: 0.9549, Testing Accuracy: 0.9642\n",
      "\n"
     ]
    },
    {
     "name": "stdout",
     "output_type": "stream",
     "text": [
      "Epoch 140, Loss 0.042\n",
      "Training Accuracy: 0.9558, Testing Accuracy: 0.9647\n",
      "\n"
     ]
    },
    {
     "name": "stdout",
     "output_type": "stream",
     "text": [
      "Epoch 150, Loss 0.0413\n",
      "Training Accuracy: 0.9567, Testing Accuracy: 0.9657\n",
      "\n"
     ]
    },
    {
     "name": "stdout",
     "output_type": "stream",
     "text": [
      "Epoch 160, Loss 0.0406\n",
      "Training Accuracy: 0.9569, Testing Accuracy: 0.9662\n",
      "\n"
     ]
    },
    {
     "name": "stdout",
     "output_type": "stream",
     "text": [
      "Epoch 170, Loss 0.04\n",
      "Training Accuracy: 0.9576, Testing Accuracy: 0.9667\n",
      "\n"
     ]
    },
    {
     "name": "stdout",
     "output_type": "stream",
     "text": [
      "Epoch 180, Loss 0.0394\n",
      "Training Accuracy: 0.9582, Testing Accuracy: 0.9677\n",
      "\n"
     ]
    },
    {
     "name": "stdout",
     "output_type": "stream",
     "text": [
      "Epoch 190, Loss 0.0389\n",
      "Training Accuracy: 0.9589, Testing Accuracy: 0.9677\n",
      "\n"
     ]
    },
    {
     "name": "stdout",
     "output_type": "stream",
     "text": [
      "Epoch 200, Loss 0.0384\n",
      "Training Accuracy: 0.9591, Testing Accuracy: 0.9677\n",
      "\n"
     ]
    },
    {
     "name": "stdout",
     "output_type": "stream",
     "text": [
      "Epoch 210, Loss 0.038\n",
      "Training Accuracy: 0.9596, Testing Accuracy: 0.9677\n",
      "\n"
     ]
    },
    {
     "name": "stdout",
     "output_type": "stream",
     "text": [
      "Epoch 220, Loss 0.0375\n",
      "Training Accuracy: 0.9602, Testing Accuracy: 0.9667\n",
      "\n"
     ]
    },
    {
     "name": "stdout",
     "output_type": "stream",
     "text": [
      "Epoch 230, Loss 0.0372\n",
      "Training Accuracy: 0.9604, Testing Accuracy: 0.9672\n",
      "\n"
     ]
    },
    {
     "name": "stdout",
     "output_type": "stream",
     "text": [
      "Epoch 240, Loss 0.0368\n",
      "Training Accuracy: 0.9609, Testing Accuracy: 0.9682\n",
      "\n"
     ]
    },
    {
     "name": "stdout",
     "output_type": "stream",
     "text": [
      "Epoch 250, Loss 0.0365\n",
      "Training Accuracy: 0.9611, Testing Accuracy: 0.9682\n",
      "\n"
     ]
    },
    {
     "data": {
      "text/plain": [
       "0.08892432724464791"
      ]
     },
     "execution_count": 22,
     "metadata": {},
     "output_type": "execute_result"
    }
   ],
   "source": [
    "print(\"====== Logistic Regression ======\")\n",
    "learner_lr.train_loop(dl)"
   ]
  },
  {
   "cell_type": "markdown",
   "metadata": {
    "papermill": {
     "duration": 0.041027,
     "end_time": "2020-09-02T20:06:15.514644",
     "exception": false,
     "start_time": "2020-09-02T20:06:15.473617",
     "status": "completed"
    },
    "tags": []
   },
   "source": [
    "### Comparing results of NN and LR"
   ]
  },
  {
   "cell_type": "code",
   "execution_count": 23,
   "metadata": {
    "execution": {
     "iopub.execute_input": "2020-09-02T20:06:15.605182Z",
     "iopub.status.busy": "2020-09-02T20:06:15.597324Z",
     "iopub.status.idle": "2020-09-02T20:06:15.829922Z",
     "shell.execute_reply": "2020-09-02T20:06:15.830352Z"
    },
    "papermill": {
     "duration": 0.278142,
     "end_time": "2020-09-02T20:06:15.830470",
     "exception": false,
     "start_time": "2020-09-02T20:06:15.552328",
     "status": "completed"
    },
    "tags": []
   },
   "outputs": [
    {
     "data": {
      "text/plain": [
       "<matplotlib.legend.Legend at 0x7fac071d72e8>"
      ]
     },
     "execution_count": 23,
     "metadata": {},
     "output_type": "execute_result"
    },
    {
     "data": {
      "image/png": "[encoded data removed]",
      "text/plain": [
       "<Figure size 1080x720 with 1 Axes>"
      ]
     },
     "metadata": {
      "needs_background": "light"
     },
     "output_type": "display_data"
    }
   ],
   "source": [
    "plt.figure(figsize=(15,10))\n",
    "\n",
    "# Neural Network plots\n",
    "plt.plot(acc_nn.accuracies, 'r-', label = \"Training Accuracies - NN\")\n",
    "plt.plot(acc_nn.test_accuracies, 'g-', label = \"Testing Accuracies - NN\")\n",
    "\n",
    "# Logistic Regression plots\n",
    "plt.plot(acc_lr.accuracies, 'k-', label = \"Training Accuracies - LR\")\n",
    "plt.plot(acc_lr.test_accuracies, 'b-', label = \"Testing Accuracies - LR\")\n",
    "\n",
    "plt.ylim(0.8, 1)\n",
    "\n",
    "plt.legend()\n",
    "\n"
   ]
  },
  {
   "cell_type": "markdown",
   "metadata": {
    "papermill": {
     "duration": 0.03982,
     "end_time": "2020-09-02T20:06:15.915242",
     "exception": false,
     "start_time": "2020-09-02T20:06:15.875422",
     "status": "completed"
    },
    "tags": []
   },
   "source": [
    "### From the plot, we can observe the following:\n",
    "- Neural Network achieves higher accuracy than the Logistic Regression model.\n",
    "- This apparently, is because of overfitting, i.e. NN captures more noise than data.\n",
    "- Testing accuracy of NN drops below the Training accuracy at higher epochs. This explains the over-fitting on training data.\n",
    "- Logistic Regression gives a reliable accuracy, without the above mentioned problem.\n"
   ]
  },
  {
   "cell_type": "markdown",
   "metadata": {
    "papermill": {
     "duration": 0.040749,
     "end_time": "2020-09-02T20:06:15.995393",
     "exception": false,
     "start_time": "2020-09-02T20:06:15.954644",
     "status": "completed"
    },
    "tags": []
   },
   "source": [
    "### Moving till the last but one layer (excluding it).\n",
    "#### Plotting the outputs of this layer of the NN."
   ]
  },
  {
   "cell_type": "code",
   "execution_count": 24,
   "metadata": {
    "execution": {
     "iopub.execute_input": "2020-09-02T20:06:16.081171Z",
     "iopub.status.busy": "2020-09-02T20:06:16.080654Z",
     "iopub.status.idle": "2020-09-02T20:06:16.091680Z",
     "shell.execute_reply": "2020-09-02T20:06:16.092111Z"
    },
    "papermill": {
     "duration": 0.055452,
     "end_time": "2020-09-02T20:06:16.092229",
     "exception": false,
     "start_time": "2020-09-02T20:06:16.036777",
     "status": "completed"
    },
    "tags": []
   },
   "outputs": [],
   "source": [
    "model_new = Model(layers[:-2])"
   ]
  },
  {
   "cell_type": "code",
   "execution_count": 25,
   "metadata": {
    "execution": {
     "iopub.execute_input": "2020-09-02T20:06:16.194614Z",
     "iopub.status.busy": "2020-09-02T20:06:16.193776Z",
     "iopub.status.idle": "2020-09-02T20:06:16.204789Z",
     "shell.execute_reply": "2020-09-02T20:06:16.205431Z"
    },
    "papermill": {
     "duration": 0.072765,
     "end_time": "2020-09-02T20:06:16.205555",
     "exception": false,
     "start_time": "2020-09-02T20:06:16.132790",
     "status": "completed"
    },
    "tags": []
   },
   "outputs": [],
   "source": [
    "plot_testing = model_new(testing_xdata)"
   ]
  },
  {
   "cell_type": "code",
   "execution_count": 26,
   "metadata": {
    "execution": {
     "iopub.execute_input": "2020-09-02T20:06:16.300924Z",
     "iopub.status.busy": "2020-09-02T20:06:16.300232Z",
     "iopub.status.idle": "2020-09-02T20:06:16.504778Z",
     "shell.execute_reply": "2020-09-02T20:06:16.504084Z"
    },
    "papermill": {
     "duration": 0.260257,
     "end_time": "2020-09-02T20:06:16.504890",
     "exception": false,
     "start_time": "2020-09-02T20:06:16.244633",
     "status": "completed"
    },
    "tags": []
   },
   "outputs": [
    {
     "data": {
      "text/plain": [
       "Text(0.5, 1.0, 'Outputs')"
      ]
     },
     "execution_count": 26,
     "metadata": {},
     "output_type": "execute_result"
    },
    {
     "data": {
      "image/png": "[encoded data removed]",
      "text/plain": [
       "<Figure size 576x504 with 1 Axes>"
      ]
     },
     "metadata": {
      "needs_background": "light"
     },
     "output_type": "display_data"
    }
   ],
   "source": [
    "plt.figure(figsize=(8,7))\n",
    "plt.scatter(plot_testing[:,0], plot_testing[:,1], alpha = 0.1, c = y_test.ravel());\n",
    "plt.title('Outputs')"
   ]
  },
  {
   "cell_type": "markdown",
   "metadata": {
    "papermill": {
     "duration": 0.041057,
     "end_time": "2020-09-02T20:06:16.587521",
     "exception": false,
     "start_time": "2020-09-02T20:06:16.546464",
     "status": "completed"
    },
    "tags": []
   },
   "source": [
    "### Plotting probability contours"
   ]
  },
  {
   "cell_type": "code",
   "execution_count": 27,
   "metadata": {
    "execution": {
     "iopub.execute_input": "2020-09-02T20:06:16.674773Z",
     "iopub.status.busy": "2020-09-02T20:06:16.674042Z",
     "iopub.status.idle": "2020-09-02T20:06:16.683864Z",
     "shell.execute_reply": "2020-09-02T20:06:16.684292Z"
    },
    "papermill": {
     "duration": 0.054959,
     "end_time": "2020-09-02T20:06:16.684410",
     "exception": false,
     "start_time": "2020-09-02T20:06:16.629451",
     "status": "completed"
    },
    "tags": []
   },
   "outputs": [],
   "source": [
    "model_prob = Model(layers[-2:]) "
   ]
  },
  {
   "cell_type": "code",
   "execution_count": 28,
   "metadata": {
    "execution": {
     "iopub.execute_input": "2020-09-02T20:06:16.769974Z",
     "iopub.status.busy": "2020-09-02T20:06:16.769449Z",
     "iopub.status.idle": "2020-09-02T20:06:16.780149Z",
     "shell.execute_reply": "2020-09-02T20:06:16.780560Z"
    },
    "papermill": {
     "duration": 0.055227,
     "end_time": "2020-09-02T20:06:16.780685",
     "exception": false,
     "start_time": "2020-09-02T20:06:16.725458",
     "status": "completed"
    },
    "tags": []
   },
   "outputs": [],
   "source": [
    "# Adjust the x and y ranges according to the above generated plot.\n",
    "x_range = np.linspace(-4, 1, 100) \n",
    "y_range = np.linspace(-6, 6, 100) \n",
    "x_grid, y_grid = np.meshgrid(x_range, y_range) # x_grid and y_grig are of size 100 X 100\n",
    "\n",
    "# converting x_grid and y_grid to continuous arrays\n",
    "x_grid_flat = np.ravel(x_grid)\n",
    "y_grid_flat = np.ravel(y_grid)\n",
    "\n",
    "# The last layer of the current model takes two columns as input. Hence transpose of np.vstack() is required.\n",
    "X = np.vstack((x_grid_flat, y_grid_flat)).T\n",
    "\n",
    "# x_grid and y_grid are of size 100 x 100\n",
    "probability_contour = model_prob(X).reshape(100,100) "
   ]
  },
  {
   "cell_type": "code",
   "execution_count": 29,
   "metadata": {
    "execution": {
     "iopub.execute_input": "2020-09-02T20:06:16.877467Z",
     "iopub.status.busy": "2020-09-02T20:06:16.876950Z",
     "iopub.status.idle": "2020-09-02T20:06:17.120844Z",
     "shell.execute_reply": "2020-09-02T20:06:17.121502Z"
    },
    "papermill": {
     "duration": 0.300403,
     "end_time": "2020-09-02T20:06:17.121647",
     "exception": false,
     "start_time": "2020-09-02T20:06:16.821244",
     "status": "completed"
    },
    "tags": []
   },
   "outputs": [
    {
     "data": {
      "image/png": "[encoded data removed]",
      "text/plain": [
       "<Figure size 720x648 with 1 Axes>"
      ]
     },
     "metadata": {
      "needs_background": "light"
     },
     "output_type": "display_data"
    }
   ],
   "source": [
    "plt.figure(figsize=(10,9))\n",
    "plt.scatter(plot_testing[:,0], plot_testing[:,1], alpha = 0.1, c = y_test.ravel())\n",
    "contours = plt.contour(x_grid,y_grid,probability_contour)\n",
    "plt.title('Probability Contours')\n",
    "plt.clabel(contours, inline = True );"
   ]
  }
 ],
 "metadata": {
  "kernelspec": {
   "display_name": "Python 3",
   "language": "python",
   "name": "python3"
  },
  "language_info": {
   "codemirror_mode": {
    "name": "ipython",
    "version": 3
   },
   "file_extension": ".py",
   "mimetype": "text/x-python",
   "name": "python",
   "nbconvert_exporter": "python",
   "pygments_lexer": "ipython3",
   "version": "3.6.12"
  },
  "papermill": {
   "duration": 148.040625,
   "end_time": "2020-09-02T20:06:17.487702",
   "environment_variables": {},
   "exception": null,
   "input_path": "2020-08-11-NeuralNetwork.ipynb",
   "output_path": "2020-08-11-NeuralNetwork.ipynb",
   "parameters": {},
   "start_time": "2020-09-02T20:03:49.447077",
   "version": "2.1.2"
  }
 },
 "nbformat": 4,
 "nbformat_minor": 4
}