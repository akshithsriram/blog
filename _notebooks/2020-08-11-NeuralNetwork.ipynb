{
 "cells": [
  {
   "cell_type": "markdown",
   "id": "fitted-suggestion",
   "metadata": {
    "papermill": {
     "duration": 0.031957,
     "end_time": "2021-04-09T00:29:16.034978",
     "exception": false,
     "start_time": "2021-04-09T00:29:16.003021",
     "status": "completed"
    },
    "tags": []
   },
   "source": [
    "# \"A Basic Neural Network: Differentiate Hand-Written Digits\"\n",
    "\n",
    "- badges: true\n",
    "- author: Akshith Sriram"
   ]
  },
  {
   "cell_type": "markdown",
   "id": "signal-flexibility",
   "metadata": {
    "papermill": {
     "duration": 0.026619,
     "end_time": "2021-04-09T00:29:16.089870",
     "exception": false,
     "start_time": "2021-04-09T00:29:16.063251",
     "status": "completed"
    },
    "tags": []
   },
   "source": [
    "### Key Objectives:\n",
    "- Building a neural network that differentiates two hand-written digits 3 and 8.\n",
    "- Comparing the results of this Neural Network (NN) to that of a Logistic Regression (LR) model.\n",
    "\n",
    "### Requirements:\n",
    "- 'Kudzu' : A neural network library that was designed during our course by [Univ.AI](www.univ.ai). \n",
    "- MNIST Database\n",
    "\n",
    "If MNIST is not installed, use the command `!pip install mnist` given below.\n",
    "It can be run both from the command line and Jupyter Notebook."
   ]
  },
  {
   "cell_type": "code",
   "execution_count": 1,
   "id": "british-texture",
   "metadata": {
    "execution": {
     "iopub.execute_input": "2021-04-09T00:29:16.152829Z",
     "iopub.status.busy": "2021-04-09T00:29:16.152274Z",
     "iopub.status.idle": "2021-04-09T00:29:17.633934Z",
     "shell.execute_reply": "2021-04-09T00:29:17.632609Z"
    },
    "papermill": {
     "duration": 1.518921,
     "end_time": "2021-04-09T00:29:17.634137",
     "exception": false,
     "start_time": "2021-04-09T00:29:16.115216",
     "status": "completed"
    },
    "tags": []
   },
   "outputs": [
    {
     "name": "stdout",
     "output_type": "stream",
     "text": [
      "Collecting mnist\r\n"
     ]
    },
    {
     "name": "stdout",
     "output_type": "stream",
     "text": [
      "  Downloading mnist-0.2.2-py2.py3-none-any.whl (3.5 kB)\r\n"
     ]
    },
    {
     "name": "stdout",
     "output_type": "stream",
     "text": [
      "Requirement already satisfied: numpy in /opt/hostedtoolcache/Python/3.6.13/x64/lib/python3.6/site-packages (from mnist) (1.19.5)\r\n"
     ]
    },
    {
     "name": "stdout",
     "output_type": "stream",
     "text": [
      "Installing collected packages: mnist\r\n"
     ]
    },
    {
     "name": "stdout",
     "output_type": "stream",
     "text": [
      "Successfully installed mnist-0.2.2\r\n"
     ]
    }
   ],
   "source": [
    "!pip install mnist "
   ]
  },
  {
   "cell_type": "markdown",
   "id": "stunning-extra",
   "metadata": {
    "papermill": {
     "duration": 0.027286,
     "end_time": "2021-04-09T00:29:17.689652",
     "exception": false,
     "start_time": "2021-04-09T00:29:17.662366",
     "status": "completed"
    },
    "tags": []
   },
   "source": [
    "#### Importing necessary libraries"
   ]
  },
  {
   "cell_type": "code",
   "execution_count": 2,
   "id": "wooden-france",
   "metadata": {
    "execution": {
     "iopub.execute_input": "2021-04-09T00:29:17.760502Z",
     "iopub.status.busy": "2021-04-09T00:29:17.752879Z",
     "iopub.status.idle": "2021-04-09T00:29:18.298591Z",
     "shell.execute_reply": "2021-04-09T00:29:18.298091Z"
    },
    "papermill": {
     "duration": 0.580921,
     "end_time": "2021-04-09T00:29:18.298718",
     "exception": false,
     "start_time": "2021-04-09T00:29:17.717797",
     "status": "completed"
    },
    "tags": []
   },
   "outputs": [],
   "source": [
    "%load_ext autoreload\n",
    "%autoreload 2\n",
    "\n",
    "%matplotlib inline\n",
    "import matplotlib.pyplot as plt\n",
    "\n",
    "import numpy as np\n",
    "import pandas as pd"
   ]
  },
  {
   "cell_type": "markdown",
   "id": "stunning-physics",
   "metadata": {
    "papermill": {
     "duration": 0.028896,
     "end_time": "2021-04-09T00:29:18.360099",
     "exception": false,
     "start_time": "2021-04-09T00:29:18.331203",
     "status": "completed"
    },
    "tags": []
   },
   "source": [
    "### Preparing the Data"
   ]
  },
  {
   "cell_type": "code",
   "execution_count": 3,
   "id": "unauthorized-remainder",
   "metadata": {
    "execution": {
     "iopub.execute_input": "2021-04-09T00:29:18.417674Z",
     "iopub.status.busy": "2021-04-09T00:29:18.417171Z",
     "iopub.status.idle": "2021-04-09T00:29:18.429630Z",
     "shell.execute_reply": "2021-04-09T00:29:18.430061Z"
    },
    "papermill": {
     "duration": 0.043579,
     "end_time": "2021-04-09T00:29:18.430193",
     "exception": false,
     "start_time": "2021-04-09T00:29:18.386614",
     "status": "completed"
    },
    "tags": []
   },
   "outputs": [],
   "source": [
    "import mnist"
   ]
  },
  {
   "cell_type": "code",
   "execution_count": 4,
   "id": "correct-antarctica",
   "metadata": {
    "execution": {
     "iopub.execute_input": "2021-04-09T00:29:18.491355Z",
     "iopub.status.busy": "2021-04-09T00:29:18.490776Z",
     "iopub.status.idle": "2021-04-09T00:32:02.668038Z",
     "shell.execute_reply": "2021-04-09T00:32:02.667501Z"
    },
    "papermill": {
     "duration": 164.208991,
     "end_time": "2021-04-09T00:32:02.668151",
     "exception": false,
     "start_time": "2021-04-09T00:29:18.459160",
     "status": "completed"
    },
    "tags": []
   },
   "outputs": [],
   "source": [
    "train_images = mnist.train_images()\n",
    "train_labels = mnist.train_labels()"
   ]
  },
  {
   "cell_type": "code",
   "execution_count": 5,
   "id": "musical-prospect",
   "metadata": {
    "execution": {
     "iopub.execute_input": "2021-04-09T00:32:02.728708Z",
     "iopub.status.busy": "2021-04-09T00:32:02.728197Z",
     "iopub.status.idle": "2021-04-09T00:32:02.743282Z",
     "shell.execute_reply": "2021-04-09T00:32:02.743740Z"
    },
    "papermill": {
     "duration": 0.04633,
     "end_time": "2021-04-09T00:32:02.743877",
     "exception": false,
     "start_time": "2021-04-09T00:32:02.697547",
     "status": "completed"
    },
    "tags": []
   },
   "outputs": [
    {
     "data": {
      "text/plain": [
       "((60000, 28, 28), (60000,))"
      ]
     },
     "execution_count": 5,
     "metadata": {},
     "output_type": "execute_result"
    }
   ],
   "source": [
    "train_images.shape, train_labels.shape"
   ]
  },
  {
   "cell_type": "code",
   "execution_count": 6,
   "id": "preliminary-elizabeth",
   "metadata": {
    "execution": {
     "iopub.execute_input": "2021-04-09T00:32:02.803439Z",
     "iopub.status.busy": "2021-04-09T00:32:02.802874Z",
     "iopub.status.idle": "2021-04-09T00:32:49.899688Z",
     "shell.execute_reply": "2021-04-09T00:32:49.897915Z"
    },
    "papermill": {
     "duration": 47.128371,
     "end_time": "2021-04-09T00:32:49.899906",
     "exception": false,
     "start_time": "2021-04-09T00:32:02.771535",
     "status": "completed"
    },
    "tags": []
   },
   "outputs": [],
   "source": [
    "test_images = mnist.test_images()\n",
    "test_labels = mnist.test_labels()"
   ]
  },
  {
   "cell_type": "code",
   "execution_count": 7,
   "id": "acknowledged-oxygen",
   "metadata": {
    "execution": {
     "iopub.execute_input": "2021-04-09T00:32:49.957717Z",
     "iopub.status.busy": "2021-04-09T00:32:49.957093Z",
     "iopub.status.idle": "2021-04-09T00:32:49.972429Z",
     "shell.execute_reply": "2021-04-09T00:32:49.971961Z"
    },
    "papermill": {
     "duration": 0.045459,
     "end_time": "2021-04-09T00:32:49.972539",
     "exception": false,
     "start_time": "2021-04-09T00:32:49.927080",
     "status": "completed"
    },
    "tags": []
   },
   "outputs": [
    {
     "data": {
      "text/plain": [
       "((10000, 28, 28), (10000,))"
      ]
     },
     "execution_count": 7,
     "metadata": {},
     "output_type": "execute_result"
    }
   ],
   "source": [
    "test_images.shape, test_labels.shape"
   ]
  },
  {
   "cell_type": "code",
   "execution_count": 8,
   "id": "innovative-organic",
   "metadata": {
    "execution": {
     "iopub.execute_input": "2021-04-09T00:32:50.030280Z",
     "iopub.status.busy": "2021-04-09T00:32:50.029773Z",
     "iopub.status.idle": "2021-04-09T00:32:50.170754Z",
     "shell.execute_reply": "2021-04-09T00:32:50.170240Z"
    },
    "papermill": {
     "duration": 0.17131,
     "end_time": "2021-04-09T00:32:50.170879",
     "exception": false,
     "start_time": "2021-04-09T00:32:49.999569",
     "status": "completed"
    },
    "tags": []
   },
   "outputs": [
    {
     "name": "stdout",
     "output_type": "stream",
     "text": [
      "2\n"
     ]
    },
    {
     "data": {
      "text/plain": [
       "<matplotlib.image.AxesImage at 0x7fa04f3fca20>"
      ]
     },
     "execution_count": 8,
     "metadata": {},
     "output_type": "execute_result"
    },
    {
     "data": {
      "image/png": "[encoded data removed]",
      "text/plain": [
       "<Figure size 432x288 with 1 Axes>"
      ]
     },
     "metadata": {
      "needs_background": "light"
     },
     "output_type": "display_data"
    }
   ],
   "source": [
    "image_index = 7776 # You may select anything up to 60,000\n",
    "print(train_labels[image_index]) \n",
    "plt.imshow(train_images[image_index], cmap='Greys')"
   ]
  },
  {
   "cell_type": "markdown",
   "id": "facial-modem",
   "metadata": {
    "papermill": {
     "duration": 0.028879,
     "end_time": "2021-04-09T00:32:50.229865",
     "exception": false,
     "start_time": "2021-04-09T00:32:50.200986",
     "status": "completed"
    },
    "tags": []
   },
   "source": [
    "## Filter data to get 3 and 8 out"
   ]
  },
  {
   "cell_type": "code",
   "execution_count": 9,
   "id": "thousand-acquisition",
   "metadata": {
    "execution": {
     "iopub.execute_input": "2021-04-09T00:32:50.308358Z",
     "iopub.status.busy": "2021-04-09T00:32:50.295995Z",
     "iopub.status.idle": "2021-04-09T00:32:50.315256Z",
     "shell.execute_reply": "2021-04-09T00:32:50.314744Z"
    },
    "papermill": {
     "duration": 0.054836,
     "end_time": "2021-04-09T00:32:50.315400",
     "exception": false,
     "start_time": "2021-04-09T00:32:50.260564",
     "status": "completed"
    },
    "tags": []
   },
   "outputs": [],
   "source": [
    "train_filter = np.where((train_labels == 3 ) | (train_labels == 8))\n",
    "test_filter = np.where((test_labels == 3) | (test_labels == 8))\n",
    "X_train, y_train = train_images[train_filter], train_labels[train_filter]\n",
    "X_test, y_test = test_images[test_filter], test_labels[test_filter]"
   ]
  },
  {
   "cell_type": "markdown",
   "id": "ruled-access",
   "metadata": {
    "papermill": {
     "duration": 0.029889,
     "end_time": "2021-04-09T00:32:50.375752",
     "exception": false,
     "start_time": "2021-04-09T00:32:50.345863",
     "status": "completed"
    },
    "tags": []
   },
   "source": [
    "We normalize the pixel values in the 0 to 1 range"
   ]
  },
  {
   "cell_type": "code",
   "execution_count": 10,
   "id": "isolated-denver",
   "metadata": {
    "execution": {
     "iopub.execute_input": "2021-04-09T00:32:50.446347Z",
     "iopub.status.busy": "2021-04-09T00:32:50.440014Z",
     "iopub.status.idle": "2021-04-09T00:32:50.492777Z",
     "shell.execute_reply": "2021-04-09T00:32:50.491930Z"
    },
    "papermill": {
     "duration": 0.086503,
     "end_time": "2021-04-09T00:32:50.492992",
     "exception": false,
     "start_time": "2021-04-09T00:32:50.406489",
     "status": "completed"
    },
    "tags": []
   },
   "outputs": [],
   "source": [
    "X_train = X_train/255.\n",
    "X_test = X_test/255."
   ]
  },
  {
   "cell_type": "markdown",
   "id": "perfect-summary",
   "metadata": {
    "papermill": {
     "duration": 0.028943,
     "end_time": "2021-04-09T00:32:50.554855",
     "exception": false,
     "start_time": "2021-04-09T00:32:50.525912",
     "status": "completed"
    },
    "tags": []
   },
   "source": [
    "Setup the labels as 1 (when the digit is 3) and 0 (when the digit is 8)"
   ]
  },
  {
   "cell_type": "code",
   "execution_count": 11,
   "id": "personalized-growing",
   "metadata": {
    "execution": {
     "iopub.execute_input": "2021-04-09T00:32:50.617877Z",
     "iopub.status.busy": "2021-04-09T00:32:50.617341Z",
     "iopub.status.idle": "2021-04-09T00:32:50.628902Z",
     "shell.execute_reply": "2021-04-09T00:32:50.629374Z"
    },
    "papermill": {
     "duration": 0.045573,
     "end_time": "2021-04-09T00:32:50.629518",
     "exception": false,
     "start_time": "2021-04-09T00:32:50.583945",
     "status": "completed"
    },
    "tags": []
   },
   "outputs": [],
   "source": [
    "y_train = 1*(y_train==3)\n",
    "y_test = 1*(y_test==3)"
   ]
  },
  {
   "cell_type": "code",
   "execution_count": 12,
   "id": "considered-virgin",
   "metadata": {
    "execution": {
     "iopub.execute_input": "2021-04-09T00:32:50.691045Z",
     "iopub.status.busy": "2021-04-09T00:32:50.690491Z",
     "iopub.status.idle": "2021-04-09T00:32:50.703997Z",
     "shell.execute_reply": "2021-04-09T00:32:50.703600Z"
    },
    "papermill": {
     "duration": 0.045489,
     "end_time": "2021-04-09T00:32:50.704094",
     "exception": false,
     "start_time": "2021-04-09T00:32:50.658605",
     "status": "completed"
    },
    "tags": []
   },
   "outputs": [
    {
     "data": {
      "text/plain": [
       "((11982, 28, 28), (1984, 28, 28))"
      ]
     },
     "execution_count": 12,
     "metadata": {},
     "output_type": "execute_result"
    }
   ],
   "source": [
    "X_train.shape, X_test.shape"
   ]
  },
  {
   "cell_type": "markdown",
   "id": "civilian-mobile",
   "metadata": {
    "papermill": {
     "duration": 0.029456,
     "end_time": "2021-04-09T00:32:50.762299",
     "exception": false,
     "start_time": "2021-04-09T00:32:50.732843",
     "status": "completed"
    },
    "tags": []
   },
   "source": [
    "### Reshape the input data to create a linear array"
   ]
  },
  {
   "cell_type": "code",
   "execution_count": 13,
   "id": "colonial-adams",
   "metadata": {
    "execution": {
     "iopub.execute_input": "2021-04-09T00:32:50.829236Z",
     "iopub.status.busy": "2021-04-09T00:32:50.828740Z",
     "iopub.status.idle": "2021-04-09T00:32:50.843810Z",
     "shell.execute_reply": "2021-04-09T00:32:50.844270Z"
    },
    "papermill": {
     "duration": 0.052195,
     "end_time": "2021-04-09T00:32:50.844397",
     "exception": false,
     "start_time": "2021-04-09T00:32:50.792202",
     "status": "completed"
    },
    "tags": []
   },
   "outputs": [
    {
     "data": {
      "text/plain": [
       "((11982, 784), (1984, 784))"
      ]
     },
     "execution_count": 13,
     "metadata": {},
     "output_type": "execute_result"
    }
   ],
   "source": [
    "X_train = X_train.reshape(X_train.shape[0], -1)\n",
    "X_test = X_test.reshape(X_test.shape[0], -1)\n",
    "X_train.shape, X_test.shape"
   ]
  },
  {
   "cell_type": "markdown",
   "id": "smart-details",
   "metadata": {
    "papermill": {
     "duration": 0.030282,
     "end_time": "2021-04-09T00:32:50.904795",
     "exception": false,
     "start_time": "2021-04-09T00:32:50.874513",
     "status": "completed"
    },
    "tags": []
   },
   "source": [
    "### Importing appropriate functions from 'Kudzu'"
   ]
  },
  {
   "cell_type": "code",
   "execution_count": 14,
   "id": "celtic-trial",
   "metadata": {
    "execution": {
     "iopub.execute_input": "2021-04-09T00:32:50.974256Z",
     "iopub.status.busy": "2021-04-09T00:32:50.973681Z",
     "iopub.status.idle": "2021-04-09T00:32:50.992278Z",
     "shell.execute_reply": "2021-04-09T00:32:50.992769Z"
    },
    "papermill": {
     "duration": 0.058135,
     "end_time": "2021-04-09T00:32:50.992918",
     "exception": false,
     "start_time": "2021-04-09T00:32:50.934783",
     "status": "completed"
    },
    "tags": []
   },
   "outputs": [],
   "source": [
    "from kudzu.layer import Sigmoid\n",
    "from kudzu.layer import Relu\n",
    "from kudzu.layer import Affine, Sigmoid\n",
    "\n",
    "from kudzu.model import Model\n",
    "from kudzu.train import Learner\n",
    "from kudzu.optim import GD\n",
    "from kudzu.data import Data, Dataloader, Sampler\n",
    "\n",
    "from kudzu.callbacks import AccCallback\n",
    "from kudzu.callbacks import ClfCallback\n",
    "\n",
    "from kudzu.loss import MSE"
   ]
  },
  {
   "cell_type": "markdown",
   "id": "coupled-customer",
   "metadata": {
    "papermill": {
     "duration": 0.028812,
     "end_time": "2021-04-09T00:32:51.050441",
     "exception": false,
     "start_time": "2021-04-09T00:32:51.021629",
     "status": "completed"
    },
    "tags": []
   },
   "source": [
    "### Let us create a `Config` class, to store important parameters. \n",
    "This class essentially plays the role of a dictionary."
   ]
  },
  {
   "cell_type": "code",
   "execution_count": 15,
   "id": "young-ceiling",
   "metadata": {
    "execution": {
     "iopub.execute_input": "2021-04-09T00:32:51.115845Z",
     "iopub.status.busy": "2021-04-09T00:32:51.115277Z",
     "iopub.status.idle": "2021-04-09T00:32:51.127723Z",
     "shell.execute_reply": "2021-04-09T00:32:51.128167Z"
    },
    "papermill": {
     "duration": 0.048974,
     "end_time": "2021-04-09T00:32:51.128314",
     "exception": false,
     "start_time": "2021-04-09T00:32:51.079340",
     "status": "completed"
    },
    "tags": []
   },
   "outputs": [],
   "source": [
    "class Config:\n",
    "    pass\n",
    "config = Config()\n",
    "config.lr = 0.001\n",
    "config.num_epochs = 251\n",
    "config.bs = 50"
   ]
  },
  {
   "cell_type": "markdown",
   "id": "according-mandate",
   "metadata": {
    "papermill": {
     "duration": 0.031548,
     "end_time": "2021-04-09T00:32:51.192422",
     "exception": false,
     "start_time": "2021-04-09T00:32:51.160874",
     "status": "completed"
    },
    "tags": []
   },
   "source": [
    "### Initializing data to the variables"
   ]
  },
  {
   "cell_type": "code",
   "execution_count": 16,
   "id": "academic-disposition",
   "metadata": {
    "execution": {
     "iopub.execute_input": "2021-04-09T00:32:51.258389Z",
     "iopub.status.busy": "2021-04-09T00:32:51.257860Z",
     "iopub.status.idle": "2021-04-09T00:32:51.271211Z",
     "shell.execute_reply": "2021-04-09T00:32:51.270775Z"
    },
    "papermill": {
     "duration": 0.048897,
     "end_time": "2021-04-09T00:32:51.271327",
     "exception": false,
     "start_time": "2021-04-09T00:32:51.222430",
     "status": "completed"
    },
    "tags": []
   },
   "outputs": [],
   "source": [
    "data = Data(X_train, y_train.reshape(-1,1))\n",
    "sampler = Sampler(data, config.bs, shuffle=True)\n",
    "\n",
    "dl = Dataloader(data, sampler)\n",
    "\n",
    "opt = GD(config.lr)\n",
    "loss = MSE()"
   ]
  },
  {
   "cell_type": "code",
   "execution_count": 17,
   "id": "featured-commission",
   "metadata": {
    "execution": {
     "iopub.execute_input": "2021-04-09T00:32:51.331448Z",
     "iopub.status.busy": "2021-04-09T00:32:51.330982Z",
     "iopub.status.idle": "2021-04-09T00:32:51.346451Z",
     "shell.execute_reply": "2021-04-09T00:32:51.346055Z"
    },
    "papermill": {
     "duration": 0.047825,
     "end_time": "2021-04-09T00:32:51.346544",
     "exception": false,
     "start_time": "2021-04-09T00:32:51.298719",
     "status": "completed"
    },
    "tags": []
   },
   "outputs": [],
   "source": [
    "training_xdata = X_train\n",
    "testing_xdata = X_test\n",
    "training_ydata = y_train.reshape(-1,1)\n",
    "testing_ydata = y_test.reshape(-1,1)"
   ]
  },
  {
   "cell_type": "markdown",
   "id": "played-safety",
   "metadata": {
    "papermill": {
     "duration": 0.029115,
     "end_time": "2021-04-09T00:32:51.403494",
     "exception": false,
     "start_time": "2021-04-09T00:32:51.374379",
     "status": "completed"
    },
    "tags": []
   },
   "source": [
    "### Running Models with the Training data\n",
    "Details about the network layers:\n",
    "- A first affine layer has 784 inputs and does 100 affine transforms. These are followed by a Relu\n",
    "- A second affine layer has 100 inputs from the 100 activations of the past layer, and does 100 affine transforms. These are followed by a Relu\n",
    "- A third affine layer has 100 activations and does 2 affine transformations to create an embedding for visualization. There is no non-linearity here.\n",
    "- A final \"logistic regression\" which has an affine transform from 2 inputs to 1 output, which is squeezed through a sigmoid.\n",
    "\n",
    "Help taken from Anshuman's Notebook."
   ]
  },
  {
   "cell_type": "code",
   "execution_count": 18,
   "id": "asian-bankruptcy",
   "metadata": {
    "execution": {
     "iopub.execute_input": "2021-04-09T00:32:51.464985Z",
     "iopub.status.busy": "2021-04-09T00:32:51.464449Z",
     "iopub.status.idle": "2021-04-09T00:32:51.480887Z",
     "shell.execute_reply": "2021-04-09T00:32:51.480396Z"
    },
    "papermill": {
     "duration": 0.048637,
     "end_time": "2021-04-09T00:32:51.480999",
     "exception": false,
     "start_time": "2021-04-09T00:32:51.432362",
     "status": "completed"
    },
    "tags": []
   },
   "outputs": [],
   "source": [
    "# layers for the Neural Network\n",
    "layers = [Affine(\"first\", 784, 100), Relu(\"first\"), Affine(\"second\", 100, 100), Relu(\"second\"), Affine(\"third\", 100, 2), Affine(\"final\", 2, 1), Sigmoid(\"final\")]\n",
    "model_nn = Model(layers)\n",
    "\n",
    "# layers for the Logistic Regression\n",
    "layers_lr = [Affine(\"logits\", 784, 1), Sigmoid(\"sigmoid\")]\n",
    "model_lr = Model(layers_lr)"
   ]
  },
  {
   "cell_type": "code",
   "execution_count": 19,
   "id": "removed-butler",
   "metadata": {
    "execution": {
     "iopub.execute_input": "2021-04-09T00:32:51.545896Z",
     "iopub.status.busy": "2021-04-09T00:32:51.545487Z",
     "iopub.status.idle": "2021-04-09T00:32:51.555140Z",
     "shell.execute_reply": "2021-04-09T00:32:51.555487Z"
    },
    "papermill": {
     "duration": 0.045307,
     "end_time": "2021-04-09T00:32:51.555582",
     "exception": false,
     "start_time": "2021-04-09T00:32:51.510275",
     "status": "completed"
    },
    "tags": []
   },
   "outputs": [],
   "source": [
    "# suffix _nn stands for Neural Network.\n",
    "learner_nn = Learner(loss, model_nn, opt, config.num_epochs)\n",
    "acc_nn = ClfCallback(learner_nn, config.bs, training_xdata , testing_xdata, training_ydata, testing_ydata)\n",
    "learner_nn.set_callbacks([acc_nn])"
   ]
  },
  {
   "cell_type": "code",
   "execution_count": 20,
   "id": "conceptual-throw",
   "metadata": {
    "execution": {
     "iopub.execute_input": "2021-04-09T00:32:51.616002Z",
     "iopub.status.busy": "2021-04-09T00:32:51.615472Z",
     "iopub.status.idle": "2021-04-09T00:34:13.808268Z",
     "shell.execute_reply": "2021-04-09T00:34:13.808767Z"
    },
    "papermill": {
     "duration": 82.225788,
     "end_time": "2021-04-09T00:34:13.808905",
     "exception": false,
     "start_time": "2021-04-09T00:32:51.583117",
     "status": "completed"
    },
    "tags": []
   },
   "outputs": [
    {
     "name": "stdout",
     "output_type": "stream",
     "text": [
      "====== Neural Network ======\n"
     ]
    },
    {
     "name": "stdout",
     "output_type": "stream",
     "text": [
      "Epoch 0, Loss 0.2339\n",
      "Training Accuracy: 0.7234, Testing Accuracy: 0.7364\n",
      "\n"
     ]
    },
    {
     "name": "stdout",
     "output_type": "stream",
     "text": [
      "Epoch 10, Loss 0.0851\n",
      "Training Accuracy: 0.9177, Testing Accuracy: 0.9304\n",
      "\n"
     ]
    },
    {
     "name": "stdout",
     "output_type": "stream",
     "text": [
      "Epoch 20, Loss 0.0547\n",
      "Training Accuracy: 0.9423, Testing Accuracy: 0.9546\n",
      "\n"
     ]
    },
    {
     "name": "stdout",
     "output_type": "stream",
     "text": [
      "Epoch 30, Loss 0.0435\n",
      "Training Accuracy: 0.9523, Testing Accuracy: 0.9617\n",
      "\n"
     ]
    },
    {
     "name": "stdout",
     "output_type": "stream",
     "text": [
      "Epoch 40, Loss 0.0378\n",
      "Training Accuracy: 0.9577, Testing Accuracy: 0.9652\n",
      "\n"
     ]
    },
    {
     "name": "stdout",
     "output_type": "stream",
     "text": [
      "Epoch 50, Loss 0.0343\n",
      "Training Accuracy: 0.9614, Testing Accuracy: 0.9662\n",
      "\n"
     ]
    },
    {
     "name": "stdout",
     "output_type": "stream",
     "text": [
      "Epoch 60, Loss 0.0319\n",
      "Training Accuracy: 0.9638, Testing Accuracy: 0.9667\n",
      "\n"
     ]
    },
    {
     "name": "stdout",
     "output_type": "stream",
     "text": [
      "Epoch 70, Loss 0.0301\n",
      "Training Accuracy: 0.9654, Testing Accuracy: 0.9682\n",
      "\n"
     ]
    },
    {
     "name": "stdout",
     "output_type": "stream",
     "text": [
      "Epoch 80, Loss 0.0287\n",
      "Training Accuracy: 0.9669, Testing Accuracy: 0.9703\n",
      "\n"
     ]
    },
    {
     "name": "stdout",
     "output_type": "stream",
     "text": [
      "Epoch 90, Loss 0.0276\n",
      "Training Accuracy: 0.9676, Testing Accuracy: 0.9693\n",
      "\n"
     ]
    },
    {
     "name": "stdout",
     "output_type": "stream",
     "text": [
      "Epoch 100, Loss 0.0266\n",
      "Training Accuracy: 0.9685, Testing Accuracy: 0.9693\n",
      "\n"
     ]
    },
    {
     "name": "stdout",
     "output_type": "stream",
     "text": [
      "Epoch 110, Loss 0.0258\n",
      "Training Accuracy: 0.9696, Testing Accuracy: 0.9688\n",
      "\n"
     ]
    },
    {
     "name": "stdout",
     "output_type": "stream",
     "text": [
      "Epoch 120, Loss 0.025\n",
      "Training Accuracy: 0.9708, Testing Accuracy: 0.9693\n",
      "\n"
     ]
    },
    {
     "name": "stdout",
     "output_type": "stream",
     "text": [
      "Epoch 130, Loss 0.0244\n",
      "Training Accuracy: 0.9717, Testing Accuracy: 0.9698\n",
      "\n"
     ]
    },
    {
     "name": "stdout",
     "output_type": "stream",
     "text": [
      "Epoch 140, Loss 0.0238\n",
      "Training Accuracy: 0.9726, Testing Accuracy: 0.9698\n",
      "\n"
     ]
    },
    {
     "name": "stdout",
     "output_type": "stream",
     "text": [
      "Epoch 150, Loss 0.0232\n",
      "Training Accuracy: 0.9730, Testing Accuracy: 0.9703\n",
      "\n"
     ]
    },
    {
     "name": "stdout",
     "output_type": "stream",
     "text": [
      "Epoch 160, Loss 0.0227\n",
      "Training Accuracy: 0.9737, Testing Accuracy: 0.9703\n",
      "\n"
     ]
    },
    {
     "name": "stdout",
     "output_type": "stream",
     "text": [
      "Epoch 170, Loss 0.0222\n",
      "Training Accuracy: 0.9742, Testing Accuracy: 0.9703\n",
      "\n"
     ]
    },
    {
     "name": "stdout",
     "output_type": "stream",
     "text": [
      "Epoch 180, Loss 0.0217\n",
      "Training Accuracy: 0.9748, Testing Accuracy: 0.9693\n",
      "\n"
     ]
    },
    {
     "name": "stdout",
     "output_type": "stream",
     "text": [
      "Epoch 190, Loss 0.0213\n",
      "Training Accuracy: 0.9755, Testing Accuracy: 0.9698\n",
      "\n"
     ]
    },
    {
     "name": "stdout",
     "output_type": "stream",
     "text": [
      "Epoch 200, Loss 0.0208\n",
      "Training Accuracy: 0.9762, Testing Accuracy: 0.9703\n",
      "\n"
     ]
    },
    {
     "name": "stdout",
     "output_type": "stream",
     "text": [
      "Epoch 210, Loss 0.0204\n",
      "Training Accuracy: 0.9768, Testing Accuracy: 0.9693\n",
      "\n"
     ]
    },
    {
     "name": "stdout",
     "output_type": "stream",
     "text": [
      "Epoch 220, Loss 0.02\n",
      "Training Accuracy: 0.9772, Testing Accuracy: 0.9708\n",
      "\n"
     ]
    },
    {
     "name": "stdout",
     "output_type": "stream",
     "text": [
      "Epoch 230, Loss 0.0197\n",
      "Training Accuracy: 0.9775, Testing Accuracy: 0.9703\n",
      "\n"
     ]
    },
    {
     "name": "stdout",
     "output_type": "stream",
     "text": [
      "Epoch 240, Loss 0.0193\n",
      "Training Accuracy: 0.9779, Testing Accuracy: 0.9708\n",
      "\n"
     ]
    },
    {
     "name": "stdout",
     "output_type": "stream",
     "text": [
      "Epoch 250, Loss 0.0189\n",
      "Training Accuracy: 0.9782, Testing Accuracy: 0.9703\n",
      "\n"
     ]
    },
    {
     "data": {
      "text/plain": [
       "0.020336300946036296"
      ]
     },
     "execution_count": 20,
     "metadata": {},
     "output_type": "execute_result"
    }
   ],
   "source": [
    "print(\"====== Neural Network ======\")\n",
    "learner_nn.train_loop(dl)"
   ]
  },
  {
   "cell_type": "markdown",
   "id": "competent-suffering",
   "metadata": {
    "papermill": {
     "duration": 0.037446,
     "end_time": "2021-04-09T00:34:13.884035",
     "exception": false,
     "start_time": "2021-04-09T00:34:13.846589",
     "status": "completed"
    },
    "tags": []
   },
   "source": [
    "### Logistic Regression based Implementation."
   ]
  },
  {
   "cell_type": "code",
   "execution_count": 21,
   "id": "qualified-psychiatry",
   "metadata": {
    "execution": {
     "iopub.execute_input": "2021-04-09T00:34:13.965162Z",
     "iopub.status.busy": "2021-04-09T00:34:13.964587Z",
     "iopub.status.idle": "2021-04-09T00:34:13.976801Z",
     "shell.execute_reply": "2021-04-09T00:34:13.976424Z"
    },
    "papermill": {
     "duration": 0.055456,
     "end_time": "2021-04-09T00:34:13.976901",
     "exception": false,
     "start_time": "2021-04-09T00:34:13.921445",
     "status": "completed"
    },
    "tags": []
   },
   "outputs": [],
   "source": [
    "learner_lr = Learner(loss, model_lr, opt, config.num_epochs)\n",
    "acc_lr = ClfCallback(learner_lr, config.bs, training_xdata , testing_xdata, training_ydata, testing_ydata)\n",
    "learner_lr.set_callbacks([acc_lr])"
   ]
  },
  {
   "cell_type": "code",
   "execution_count": 22,
   "id": "average-outside",
   "metadata": {
    "execution": {
     "iopub.execute_input": "2021-04-09T00:34:14.059205Z",
     "iopub.status.busy": "2021-04-09T00:34:14.054732Z",
     "iopub.status.idle": "2021-04-09T00:34:28.592184Z",
     "shell.execute_reply": "2021-04-09T00:34:28.592905Z"
    },
    "papermill": {
     "duration": 14.579243,
     "end_time": "2021-04-09T00:34:28.593046",
     "exception": false,
     "start_time": "2021-04-09T00:34:14.013803",
     "status": "completed"
    },
    "tags": []
   },
   "outputs": [
    {
     "name": "stdout",
     "output_type": "stream",
     "text": [
      "====== Logistic Regression ======\n",
      "Epoch 0, Loss 0.2705\n",
      "Training Accuracy: 0.5515, Testing Accuracy: 0.5413\n",
      "\n"
     ]
    },
    {
     "name": "stdout",
     "output_type": "stream",
     "text": [
      "Epoch 10, Loss 0.1077\n",
      "Training Accuracy: 0.9025, Testing Accuracy: 0.9183\n",
      "\n"
     ]
    },
    {
     "name": "stdout",
     "output_type": "stream",
     "text": [
      "Epoch 20, Loss 0.0812\n",
      "Training Accuracy: 0.9251, Testing Accuracy: 0.9390\n",
      "\n"
     ]
    },
    {
     "name": "stdout",
     "output_type": "stream",
     "text": [
      "Epoch 30, Loss 0.0695\n",
      "Training Accuracy: 0.9351, Testing Accuracy: 0.9506\n",
      "\n"
     ]
    },
    {
     "name": "stdout",
     "output_type": "stream",
     "text": [
      "Epoch 40, Loss 0.0625\n",
      "Training Accuracy: 0.9395, Testing Accuracy: 0.9526\n",
      "\n"
     ]
    },
    {
     "name": "stdout",
     "output_type": "stream",
     "text": [
      "Epoch 50, Loss 0.0578\n",
      "Training Accuracy: 0.9425, Testing Accuracy: 0.9541\n",
      "\n"
     ]
    },
    {
     "name": "stdout",
     "output_type": "stream",
     "text": [
      "Epoch 60, Loss 0.0544\n",
      "Training Accuracy: 0.9454, Testing Accuracy: 0.9551\n",
      "\n"
     ]
    },
    {
     "name": "stdout",
     "output_type": "stream",
     "text": [
      "Epoch 70, Loss 0.0518\n",
      "Training Accuracy: 0.9474, Testing Accuracy: 0.9582\n",
      "\n"
     ]
    },
    {
     "name": "stdout",
     "output_type": "stream",
     "text": [
      "Epoch 80, Loss 0.0497\n",
      "Training Accuracy: 0.9498, Testing Accuracy: 0.9597\n",
      "\n"
     ]
    },
    {
     "name": "stdout",
     "output_type": "stream",
     "text": [
      "Epoch 90, Loss 0.0479\n",
      "Training Accuracy: 0.9512, Testing Accuracy: 0.9627\n",
      "\n"
     ]
    },
    {
     "name": "stdout",
     "output_type": "stream",
     "text": [
      "Epoch 100, Loss 0.0465\n",
      "Training Accuracy: 0.9528, Testing Accuracy: 0.9632\n",
      "\n"
     ]
    },
    {
     "name": "stdout",
     "output_type": "stream",
     "text": [
      "Epoch 110, Loss 0.0452\n",
      "Training Accuracy: 0.9534, Testing Accuracy: 0.9632\n",
      "\n"
     ]
    },
    {
     "name": "stdout",
     "output_type": "stream",
     "text": [
      "Epoch 120, Loss 0.0441\n",
      "Training Accuracy: 0.9545, Testing Accuracy: 0.9632\n",
      "\n"
     ]
    },
    {
     "name": "stdout",
     "output_type": "stream",
     "text": [
      "Epoch 130, Loss 0.0432\n",
      "Training Accuracy: 0.9553, Testing Accuracy: 0.9627\n",
      "\n"
     ]
    },
    {
     "name": "stdout",
     "output_type": "stream",
     "text": [
      "Epoch 140, Loss 0.0423\n",
      "Training Accuracy: 0.9556, Testing Accuracy: 0.9632\n",
      "\n"
     ]
    },
    {
     "name": "stdout",
     "output_type": "stream",
     "text": [
      "Epoch 150, Loss 0.0416\n",
      "Training Accuracy: 0.9562, Testing Accuracy: 0.9632\n",
      "\n"
     ]
    },
    {
     "name": "stdout",
     "output_type": "stream",
     "text": [
      "Epoch 160, Loss 0.0409\n",
      "Training Accuracy: 0.9568, Testing Accuracy: 0.9632\n",
      "\n"
     ]
    },
    {
     "name": "stdout",
     "output_type": "stream",
     "text": [
      "Epoch 170, Loss 0.0402\n",
      "Training Accuracy: 0.9574, Testing Accuracy: 0.9632\n",
      "\n"
     ]
    },
    {
     "name": "stdout",
     "output_type": "stream",
     "text": [
      "Epoch 180, Loss 0.0397\n",
      "Training Accuracy: 0.9580, Testing Accuracy: 0.9647\n",
      "\n"
     ]
    },
    {
     "name": "stdout",
     "output_type": "stream",
     "text": [
      "Epoch 190, Loss 0.0392\n",
      "Training Accuracy: 0.9582, Testing Accuracy: 0.9647\n",
      "\n"
     ]
    },
    {
     "name": "stdout",
     "output_type": "stream",
     "text": [
      "Epoch 200, Loss 0.0387\n",
      "Training Accuracy: 0.9586, Testing Accuracy: 0.9652\n",
      "\n"
     ]
    },
    {
     "name": "stdout",
     "output_type": "stream",
     "text": [
      "Epoch 210, Loss 0.0382\n",
      "Training Accuracy: 0.9587, Testing Accuracy: 0.9657\n",
      "\n"
     ]
    },
    {
     "name": "stdout",
     "output_type": "stream",
     "text": [
      "Epoch 220, Loss 0.0378\n",
      "Training Accuracy: 0.9593, Testing Accuracy: 0.9667\n",
      "\n"
     ]
    },
    {
     "name": "stdout",
     "output_type": "stream",
     "text": [
      "Epoch 230, Loss 0.0374\n",
      "Training Accuracy: 0.9595, Testing Accuracy: 0.9667\n",
      "\n"
     ]
    },
    {
     "name": "stdout",
     "output_type": "stream",
     "text": [
      "Epoch 240, Loss 0.037\n",
      "Training Accuracy: 0.9599, Testing Accuracy: 0.9667\n",
      "\n"
     ]
    },
    {
     "name": "stdout",
     "output_type": "stream",
     "text": [
      "Epoch 250, Loss 0.0367\n",
      "Training Accuracy: 0.9600, Testing Accuracy: 0.9662\n",
      "\n"
     ]
    },
    {
     "data": {
      "text/plain": [
       "0.0065748680669400015"
      ]
     },
     "execution_count": 22,
     "metadata": {},
     "output_type": "execute_result"
    }
   ],
   "source": [
    "print(\"====== Logistic Regression ======\")\n",
    "learner_lr.train_loop(dl)"
   ]
  },
  {
   "cell_type": "markdown",
   "id": "adjusted-possible",
   "metadata": {
    "papermill": {
     "duration": 0.04394,
     "end_time": "2021-04-09T00:34:28.682288",
     "exception": false,
     "start_time": "2021-04-09T00:34:28.638348",
     "status": "completed"
    },
    "tags": []
   },
   "source": [
    "### Comparing results of NN and LR"
   ]
  },
  {
   "cell_type": "code",
   "execution_count": 23,
   "id": "mental-multimedia",
   "metadata": {
    "execution": {
     "iopub.execute_input": "2021-04-09T00:34:28.774595Z",
     "iopub.status.busy": "2021-04-09T00:34:28.773606Z",
     "iopub.status.idle": "2021-04-09T00:34:28.994499Z",
     "shell.execute_reply": "2021-04-09T00:34:28.994090Z"
    },
    "papermill": {
     "duration": 0.269226,
     "end_time": "2021-04-09T00:34:28.994625",
     "exception": false,
     "start_time": "2021-04-09T00:34:28.725399",
     "status": "completed"
    },
    "tags": []
   },
   "outputs": [
    {
     "data": {
      "text/plain": [
       "<matplotlib.legend.Legend at 0x7fa041bd54e0>"
      ]
     },
     "execution_count": 23,
     "metadata": {},
     "output_type": "execute_result"
    },
    {
     "data": {
      "image/png": "[encoded data removed]",
      "text/plain": [
       "<Figure size 1080x720 with 1 Axes>"
      ]
     },
     "metadata": {
      "needs_background": "light"
     },
     "output_type": "display_data"
    }
   ],
   "source": [
    "plt.figure(figsize=(15,10))\n",
    "\n",
    "# Neural Network plots\n",
    "plt.plot(acc_nn.accuracies, 'r-', label = \"Training Accuracies - NN\")\n",
    "plt.plot(acc_nn.test_accuracies, 'g-', label = \"Testing Accuracies - NN\")\n",
    "\n",
    "# Logistic Regression plots\n",
    "plt.plot(acc_lr.accuracies, 'k-', label = \"Training Accuracies - LR\")\n",
    "plt.plot(acc_lr.test_accuracies, 'b-', label = \"Testing Accuracies - LR\")\n",
    "\n",
    "plt.ylim(0.8, 1)\n",
    "\n",
    "plt.legend()\n",
    "\n"
   ]
  },
  {
   "cell_type": "markdown",
   "id": "sexual-flesh",
   "metadata": {
    "papermill": {
     "duration": 0.048189,
     "end_time": "2021-04-09T00:34:29.086816",
     "exception": false,
     "start_time": "2021-04-09T00:34:29.038627",
     "status": "completed"
    },
    "tags": []
   },
   "source": [
    "### From the plot, we can observe the following:\n",
    "- Neural Network achieves higher accuracy than the Logistic Regression model.\n",
    "- This apparently, is because of overfitting, i.e. NN captures more noise than data.\n",
    "- Testing accuracy of NN drops below the Training accuracy at higher epochs. This explains the over-fitting on training data.\n",
    "- Logistic Regression gives a reliable accuracy, without the above mentioned problem.\n"
   ]
  },
  {
   "cell_type": "markdown",
   "id": "institutional-pacific",
   "metadata": {
    "papermill": {
     "duration": 0.047876,
     "end_time": "2021-04-09T00:34:29.181655",
     "exception": false,
     "start_time": "2021-04-09T00:34:29.133779",
     "status": "completed"
    },
    "tags": []
   },
   "source": [
    "### Moving till the last but one layer (excluding it).\n",
    "#### Plotting the outputs of this layer of the NN."
   ]
  },
  {
   "cell_type": "code",
   "execution_count": 24,
   "id": "economic-server",
   "metadata": {
    "execution": {
     "iopub.execute_input": "2021-04-09T00:34:29.283082Z",
     "iopub.status.busy": "2021-04-09T00:34:29.281384Z",
     "iopub.status.idle": "2021-04-09T00:34:29.293582Z",
     "shell.execute_reply": "2021-04-09T00:34:29.293074Z"
    },
    "papermill": {
     "duration": 0.063936,
     "end_time": "2021-04-09T00:34:29.293710",
     "exception": false,
     "start_time": "2021-04-09T00:34:29.229774",
     "status": "completed"
    },
    "tags": []
   },
   "outputs": [],
   "source": [
    "model_new = Model(layers[:-2])"
   ]
  },
  {
   "cell_type": "code",
   "execution_count": 25,
   "id": "varied-upgrade",
   "metadata": {
    "execution": {
     "iopub.execute_input": "2021-04-09T00:34:29.389977Z",
     "iopub.status.busy": "2021-04-09T00:34:29.389452Z",
     "iopub.status.idle": "2021-04-09T00:34:29.413534Z",
     "shell.execute_reply": "2021-04-09T00:34:29.414031Z"
    },
    "papermill": {
     "duration": 0.073273,
     "end_time": "2021-04-09T00:34:29.414173",
     "exception": false,
     "start_time": "2021-04-09T00:34:29.340900",
     "status": "completed"
    },
    "tags": []
   },
   "outputs": [],
   "source": [
    "plot_testing = model_new(testing_xdata)"
   ]
  },
  {
   "cell_type": "code",
   "execution_count": 26,
   "id": "specific-handling",
   "metadata": {
    "execution": {
     "iopub.execute_input": "2021-04-09T00:34:29.510525Z",
     "iopub.status.busy": "2021-04-09T00:34:29.509973Z",
     "iopub.status.idle": "2021-04-09T00:34:29.697641Z",
     "shell.execute_reply": "2021-04-09T00:34:29.696753Z"
    },
    "papermill": {
     "duration": 0.237277,
     "end_time": "2021-04-09T00:34:29.697845",
     "exception": false,
     "start_time": "2021-04-09T00:34:29.460568",
     "status": "completed"
    },
    "tags": []
   },
   "outputs": [
    {
     "data": {
      "text/plain": [
       "Text(0.5, 1.0, 'Outputs')"
      ]
     },
     "execution_count": 26,
     "metadata": {},
     "output_type": "execute_result"
    },
    {
     "data": {
      "image/png": "[encoded data removed]",
      "text/plain": [
       "<Figure size 576x504 with 1 Axes>"
      ]
     },
     "metadata": {
      "needs_background": "light"
     },
     "output_type": "display_data"
    }
   ],
   "source": [
    "plt.figure(figsize=(8,7))\n",
    "plt.scatter(plot_testing[:,0], plot_testing[:,1], alpha = 0.1, c = y_test.ravel());\n",
    "plt.title('Outputs')"
   ]
  },
  {
   "cell_type": "markdown",
   "id": "described-knowing",
   "metadata": {
    "papermill": {
     "duration": 0.047686,
     "end_time": "2021-04-09T00:34:29.795723",
     "exception": false,
     "start_time": "2021-04-09T00:34:29.748037",
     "status": "completed"
    },
    "tags": []
   },
   "source": [
    "### Plotting probability contours"
   ]
  },
  {
   "cell_type": "code",
   "execution_count": 27,
   "id": "needed-growing",
   "metadata": {
    "execution": {
     "iopub.execute_input": "2021-04-09T00:34:29.922846Z",
     "iopub.status.busy": "2021-04-09T00:34:29.922080Z",
     "iopub.status.idle": "2021-04-09T00:34:29.932714Z",
     "shell.execute_reply": "2021-04-09T00:34:29.932281Z"
    },
    "papermill": {
     "duration": 0.089429,
     "end_time": "2021-04-09T00:34:29.932830",
     "exception": false,
     "start_time": "2021-04-09T00:34:29.843401",
     "status": "completed"
    },
    "tags": []
   },
   "outputs": [],
   "source": [
    "model_prob = Model(layers[-2:]) "
   ]
  },
  {
   "cell_type": "code",
   "execution_count": 28,
   "id": "introductory-enforcement",
   "metadata": {
    "execution": {
     "iopub.execute_input": "2021-04-09T00:34:30.040906Z",
     "iopub.status.busy": "2021-04-09T00:34:30.040332Z",
     "iopub.status.idle": "2021-04-09T00:34:30.057739Z",
     "shell.execute_reply": "2021-04-09T00:34:30.058172Z"
    },
    "papermill": {
     "duration": 0.074271,
     "end_time": "2021-04-09T00:34:30.058315",
     "exception": false,
     "start_time": "2021-04-09T00:34:29.984044",
     "status": "completed"
    },
    "tags": []
   },
   "outputs": [],
   "source": [
    "# Adjust the x and y ranges according to the above generated plot.\n",
    "x_range = np.linspace(-4, 1, 100) \n",
    "y_range = np.linspace(-6, 6, 100) \n",
    "x_grid, y_grid = np.meshgrid(x_range, y_range) # x_grid and y_grig are of size 100 X 100\n",
    "\n",
    "# converting x_grid and y_grid to continuous arrays\n",
    "x_grid_flat = np.ravel(x_grid)\n",
    "y_grid_flat = np.ravel(y_grid)\n",
    "\n",
    "# The last layer of the current model takes two columns as input. Hence transpose of np.vstack() is required.\n",
    "X = np.vstack((x_grid_flat, y_grid_flat)).T\n",
    "\n",
    "# x_grid and y_grid are of size 100 x 100\n",
    "probability_contour = model_prob(X).reshape(100,100) "
   ]
  },
  {
   "cell_type": "code",
   "execution_count": 29,
   "id": "understood-landing",
   "metadata": {
    "execution": {
     "iopub.execute_input": "2021-04-09T00:34:30.176223Z",
     "iopub.status.busy": "2021-04-09T00:34:30.175691Z",
     "iopub.status.idle": "2021-04-09T00:34:30.408932Z",
     "shell.execute_reply": "2021-04-09T00:34:30.409337Z"
    },
    "papermill": {
     "duration": 0.294933,
     "end_time": "2021-04-09T00:34:30.409468",
     "exception": false,
     "start_time": "2021-04-09T00:34:30.114535",
     "status": "completed"
    },
    "tags": []
   },
   "outputs": [
    {
     "data": {
      "image/png": "[encoded data removed]",
      "text/plain": [
       "<Figure size 720x648 with 1 Axes>"
      ]
     },
     "metadata": {
      "needs_background": "light"
     },
     "output_type": "display_data"
    }
   ],
   "source": [
    "plt.figure(figsize=(10,9))\n",
    "plt.scatter(plot_testing[:,0], plot_testing[:,1], alpha = 0.1, c = y_test.ravel())\n",
    "contours = plt.contour(x_grid,y_grid,probability_contour)\n",
    "plt.title('Probability Contours')\n",
    "plt.clabel(contours, inline = True );"
   ]
  }
 ],
 "metadata": {
  "kernelspec": {
   "display_name": "Python 3",
   "language": "python",
   "name": "python3"
  },
  "language_info": {
   "codemirror_mode": {
    "name": "ipython",
    "version": 3
   },
   "file_extension": ".py",
   "mimetype": "text/x-python",
   "name": "python",
   "nbconvert_exporter": "python",
   "pygments_lexer": "ipython3",
   "version": "3.6.13"
  },
  "papermill": {
   "duration": 316.032651,
   "end_time": "2021-04-09T00:34:30.768668",
   "environment_variables": {},
   "exception": null,
   "input_path": "2020-08-11-NeuralNetwork.ipynb",
   "output_path": "2020-08-11-NeuralNetwork.ipynb",
   "parameters": {},
   "start_time": "2021-04-09T00:29:14.736017",
   "version": "2.1.2"
  }
 },
 "nbformat": 4,
 "nbformat_minor": 5
}