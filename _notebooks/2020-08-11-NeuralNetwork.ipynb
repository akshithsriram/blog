{
 "cells": [
  {
   "cell_type": "markdown",
   "id": "fitted-suggestion",
   "metadata": {
    "papermill": {
     "duration": 0.029803,
     "end_time": "2021-01-25T00:33:43.364599",
     "exception": false,
     "start_time": "2021-01-25T00:33:43.334796",
     "status": "completed"
    },
    "tags": []
   },
   "source": [
    "# \"A Basic Neural Network: Differentiate Hand-Written Digits\"\n",
    "\n",
    "- badges: true\n",
    "- author: Akshith Sriram"
   ]
  },
  {
   "cell_type": "markdown",
   "id": "signal-flexibility",
   "metadata": {
    "papermill": {
     "duration": 0.026308,
     "end_time": "2021-01-25T00:33:43.416935",
     "exception": false,
     "start_time": "2021-01-25T00:33:43.390627",
     "status": "completed"
    },
    "tags": []
   },
   "source": [
    "### Key Objectives:\n",
    "- Building a neural network that differentiates two hand-written digits 3 and 8.\n",
    "- Comparing the results of this Neural Network (NN) to that of a Logistic Regression (LR) model.\n",
    "\n",
    "### Requirements:\n",
    "- 'Kudzu' : A neural network library that was designed during our course by [Univ.AI](www.univ.ai). \n",
    "- MNIST Database\n",
    "\n",
    "If MNIST is not installed, use the command `!pip install mnist` given below.\n",
    "It can be run both from the command line and Jupyter Notebook."
   ]
  },
  {
   "cell_type": "code",
   "execution_count": 1,
   "id": "british-texture",
   "metadata": {
    "execution": {
     "iopub.execute_input": "2021-01-25T00:33:43.477751Z",
     "iopub.status.busy": "2021-01-25T00:33:43.477201Z",
     "iopub.status.idle": "2021-01-25T00:33:44.812989Z",
     "shell.execute_reply": "2021-01-25T00:33:44.813499Z"
    },
    "papermill": {
     "duration": 1.372,
     "end_time": "2021-01-25T00:33:44.813684",
     "exception": false,
     "start_time": "2021-01-25T00:33:43.441684",
     "status": "completed"
    },
    "tags": []
   },
   "outputs": [
    {
     "name": "stdout",
     "output_type": "stream",
     "text": [
      "Collecting mnist\r\n"
     ]
    },
    {
     "name": "stdout",
     "output_type": "stream",
     "text": [
      "  Downloading mnist-0.2.2-py2.py3-none-any.whl (3.5 kB)\r\n",
      "Requirement already satisfied: numpy in /opt/hostedtoolcache/Python/3.6.12/x64/lib/python3.6/site-packages (from mnist) (1.19.5)\r\n"
     ]
    },
    {
     "name": "stdout",
     "output_type": "stream",
     "text": [
      "Installing collected packages: mnist\r\n"
     ]
    },
    {
     "name": "stdout",
     "output_type": "stream",
     "text": [
      "Successfully installed mnist-0.2.2\r\n",
      "\u001b[33mWARNING: You are using pip version 20.3.1; however, version 21.0 is available.\r\n",
      "You should consider upgrading via the '/opt/hostedtoolcache/Python/3.6.12/x64/bin/python -m pip install --upgrade pip' command.\u001b[0m\r\n"
     ]
    }
   ],
   "source": [
    "!pip install mnist "
   ]
  },
  {
   "cell_type": "markdown",
   "id": "stunning-extra",
   "metadata": {
    "papermill": {
     "duration": 0.026015,
     "end_time": "2021-01-25T00:33:44.867212",
     "exception": false,
     "start_time": "2021-01-25T00:33:44.841197",
     "status": "completed"
    },
    "tags": []
   },
   "source": [
    "#### Importing necessary libraries"
   ]
  },
  {
   "cell_type": "code",
   "execution_count": 2,
   "id": "wooden-france",
   "metadata": {
    "execution": {
     "iopub.execute_input": "2021-01-25T00:33:44.926110Z",
     "iopub.status.busy": "2021-01-25T00:33:44.925608Z",
     "iopub.status.idle": "2021-01-25T00:33:45.426225Z",
     "shell.execute_reply": "2021-01-25T00:33:45.425705Z"
    },
    "papermill": {
     "duration": 0.533192,
     "end_time": "2021-01-25T00:33:45.426364",
     "exception": false,
     "start_time": "2021-01-25T00:33:44.893172",
     "status": "completed"
    },
    "tags": []
   },
   "outputs": [],
   "source": [
    "%load_ext autoreload\n",
    "%autoreload 2\n",
    "\n",
    "%matplotlib inline\n",
    "import matplotlib.pyplot as plt\n",
    "\n",
    "import numpy as np\n",
    "import pandas as pd"
   ]
  },
  {
   "cell_type": "markdown",
   "id": "stunning-physics",
   "metadata": {
    "papermill": {
     "duration": 0.026266,
     "end_time": "2021-01-25T00:33:45.480643",
     "exception": false,
     "start_time": "2021-01-25T00:33:45.454377",
     "status": "completed"
    },
    "tags": []
   },
   "source": [
    "### Preparing the Data"
   ]
  },
  {
   "cell_type": "code",
   "execution_count": 3,
   "id": "unauthorized-remainder",
   "metadata": {
    "execution": {
     "iopub.execute_input": "2021-01-25T00:33:45.542664Z",
     "iopub.status.busy": "2021-01-25T00:33:45.542144Z",
     "iopub.status.idle": "2021-01-25T00:33:45.549537Z",
     "shell.execute_reply": "2021-01-25T00:33:45.549082Z"
    },
    "papermill": {
     "duration": 0.042879,
     "end_time": "2021-01-25T00:33:45.549651",
     "exception": false,
     "start_time": "2021-01-25T00:33:45.506772",
     "status": "completed"
    },
    "tags": []
   },
   "outputs": [],
   "source": [
    "import mnist"
   ]
  },
  {
   "cell_type": "code",
   "execution_count": 4,
   "id": "correct-antarctica",
   "metadata": {
    "execution": {
     "iopub.execute_input": "2021-01-25T00:33:45.607433Z",
     "iopub.status.busy": "2021-01-25T00:33:45.606929Z",
     "iopub.status.idle": "2021-01-25T00:33:46.333091Z",
     "shell.execute_reply": "2021-01-25T00:33:46.332583Z"
    },
    "papermill": {
     "duration": 0.757478,
     "end_time": "2021-01-25T00:33:46.333227",
     "exception": false,
     "start_time": "2021-01-25T00:33:45.575749",
     "status": "completed"
    },
    "tags": []
   },
   "outputs": [],
   "source": [
    "train_images = mnist.train_images()\n",
    "train_labels = mnist.train_labels()"
   ]
  },
  {
   "cell_type": "code",
   "execution_count": 5,
   "id": "musical-prospect",
   "metadata": {
    "execution": {
     "iopub.execute_input": "2021-01-25T00:33:46.391898Z",
     "iopub.status.busy": "2021-01-25T00:33:46.391391Z",
     "iopub.status.idle": "2021-01-25T00:33:46.403502Z",
     "shell.execute_reply": "2021-01-25T00:33:46.403070Z"
    },
    "papermill": {
     "duration": 0.043,
     "end_time": "2021-01-25T00:33:46.403617",
     "exception": false,
     "start_time": "2021-01-25T00:33:46.360617",
     "status": "completed"
    },
    "tags": []
   },
   "outputs": [
    {
     "data": {
      "text/plain": [
       "((60000, 28, 28), (60000,))"
      ]
     },
     "execution_count": 5,
     "metadata": {},
     "output_type": "execute_result"
    }
   ],
   "source": [
    "train_images.shape, train_labels.shape"
   ]
  },
  {
   "cell_type": "code",
   "execution_count": 6,
   "id": "preliminary-elizabeth",
   "metadata": {
    "execution": {
     "iopub.execute_input": "2021-01-25T00:33:46.460757Z",
     "iopub.status.busy": "2021-01-25T00:33:46.460251Z",
     "iopub.status.idle": "2021-01-25T00:33:46.761886Z",
     "shell.execute_reply": "2021-01-25T00:33:46.761331Z"
    },
    "papermill": {
     "duration": 0.332076,
     "end_time": "2021-01-25T00:33:46.762028",
     "exception": false,
     "start_time": "2021-01-25T00:33:46.429952",
     "status": "completed"
    },
    "tags": []
   },
   "outputs": [],
   "source": [
    "test_images = mnist.test_images()\n",
    "test_labels = mnist.test_labels()"
   ]
  },
  {
   "cell_type": "code",
   "execution_count": 7,
   "id": "acknowledged-oxygen",
   "metadata": {
    "execution": {
     "iopub.execute_input": "2021-01-25T00:33:46.820855Z",
     "iopub.status.busy": "2021-01-25T00:33:46.820355Z",
     "iopub.status.idle": "2021-01-25T00:33:46.831407Z",
     "shell.execute_reply": "2021-01-25T00:33:46.830975Z"
    },
    "papermill": {
     "duration": 0.042013,
     "end_time": "2021-01-25T00:33:46.831520",
     "exception": false,
     "start_time": "2021-01-25T00:33:46.789507",
     "status": "completed"
    },
    "tags": []
   },
   "outputs": [
    {
     "data": {
      "text/plain": [
       "((10000, 28, 28), (10000,))"
      ]
     },
     "execution_count": 7,
     "metadata": {},
     "output_type": "execute_result"
    }
   ],
   "source": [
    "test_images.shape, test_labels.shape"
   ]
  },
  {
   "cell_type": "code",
   "execution_count": 8,
   "id": "innovative-organic",
   "metadata": {
    "execution": {
     "iopub.execute_input": "2021-01-25T00:33:46.891651Z",
     "iopub.status.busy": "2021-01-25T00:33:46.891141Z",
     "iopub.status.idle": "2021-01-25T00:33:47.019882Z",
     "shell.execute_reply": "2021-01-25T00:33:47.019461Z"
    },
    "papermill": {
     "duration": 0.162093,
     "end_time": "2021-01-25T00:33:47.020000",
     "exception": false,
     "start_time": "2021-01-25T00:33:46.857907",
     "status": "completed"
    },
    "tags": []
   },
   "outputs": [
    {
     "name": "stdout",
     "output_type": "stream",
     "text": [
      "2\n"
     ]
    },
    {
     "data": {
      "text/plain": [
       "<matplotlib.image.AxesImage at 0x7fa26e8099e8>"
      ]
     },
     "execution_count": 8,
     "metadata": {},
     "output_type": "execute_result"
    },
    {
     "data": {
      "image/png": "[encoded data removed]",
      "text/plain": [
       "<Figure size 432x288 with 1 Axes>"
      ]
     },
     "metadata": {
      "needs_background": "light"
     },
     "output_type": "display_data"
    }
   ],
   "source": [
    "image_index = 7776 # You may select anything up to 60,000\n",
    "print(train_labels[image_index]) \n",
    "plt.imshow(train_images[image_index], cmap='Greys')"
   ]
  },
  {
   "cell_type": "markdown",
   "id": "facial-modem",
   "metadata": {
    "papermill": {
     "duration": 0.02735,
     "end_time": "2021-01-25T00:33:47.075001",
     "exception": false,
     "start_time": "2021-01-25T00:33:47.047651",
     "status": "completed"
    },
    "tags": []
   },
   "source": [
    "## Filter data to get 3 and 8 out"
   ]
  },
  {
   "cell_type": "code",
   "execution_count": 9,
   "id": "thousand-acquisition",
   "metadata": {
    "execution": {
     "iopub.execute_input": "2021-01-25T00:33:47.142154Z",
     "iopub.status.busy": "2021-01-25T00:33:47.133244Z",
     "iopub.status.idle": "2021-01-25T00:33:47.149708Z",
     "shell.execute_reply": "2021-01-25T00:33:47.150103Z"
    },
    "papermill": {
     "duration": 0.047715,
     "end_time": "2021-01-25T00:33:47.150241",
     "exception": false,
     "start_time": "2021-01-25T00:33:47.102526",
     "status": "completed"
    },
    "tags": []
   },
   "outputs": [],
   "source": [
    "train_filter = np.where((train_labels == 3 ) | (train_labels == 8))\n",
    "test_filter = np.where((test_labels == 3) | (test_labels == 8))\n",
    "X_train, y_train = train_images[train_filter], train_labels[train_filter]\n",
    "X_test, y_test = test_images[test_filter], test_labels[test_filter]"
   ]
  },
  {
   "cell_type": "markdown",
   "id": "ruled-access",
   "metadata": {
    "papermill": {
     "duration": 0.02738,
     "end_time": "2021-01-25T00:33:47.205109",
     "exception": false,
     "start_time": "2021-01-25T00:33:47.177729",
     "status": "completed"
    },
    "tags": []
   },
   "source": [
    "We normalize the pixel values in the 0 to 1 range"
   ]
  },
  {
   "cell_type": "code",
   "execution_count": 10,
   "id": "isolated-denver",
   "metadata": {
    "execution": {
     "iopub.execute_input": "2021-01-25T00:33:47.268214Z",
     "iopub.status.busy": "2021-01-25T00:33:47.267626Z",
     "iopub.status.idle": "2021-01-25T00:33:47.311101Z",
     "shell.execute_reply": "2021-01-25T00:33:47.310646Z"
    },
    "papermill": {
     "duration": 0.078676,
     "end_time": "2021-01-25T00:33:47.311223",
     "exception": false,
     "start_time": "2021-01-25T00:33:47.232547",
     "status": "completed"
    },
    "tags": []
   },
   "outputs": [],
   "source": [
    "X_train = X_train/255.\n",
    "X_test = X_test/255."
   ]
  },
  {
   "cell_type": "markdown",
   "id": "perfect-summary",
   "metadata": {
    "papermill": {
     "duration": 0.654897,
     "end_time": "2021-01-25T00:33:47.995043",
     "exception": false,
     "start_time": "2021-01-25T00:33:47.340146",
     "status": "completed"
    },
    "tags": []
   },
   "source": [
    "Setup the labels as 1 (when the digit is 3) and 0 (when the digit is 8)"
   ]
  },
  {
   "cell_type": "code",
   "execution_count": 11,
   "id": "personalized-growing",
   "metadata": {
    "execution": {
     "iopub.execute_input": "2021-01-25T00:33:48.174198Z",
     "iopub.status.busy": "2021-01-25T00:33:48.173659Z",
     "iopub.status.idle": "2021-01-25T00:33:48.183075Z",
     "shell.execute_reply": "2021-01-25T00:33:48.182638Z"
    },
    "papermill": {
     "duration": 0.044787,
     "end_time": "2021-01-25T00:33:48.183187",
     "exception": false,
     "start_time": "2021-01-25T00:33:48.138400",
     "status": "completed"
    },
    "tags": []
   },
   "outputs": [],
   "source": [
    "y_train = 1*(y_train==3)\n",
    "y_test = 1*(y_test==3)"
   ]
  },
  {
   "cell_type": "code",
   "execution_count": 12,
   "id": "considered-virgin",
   "metadata": {
    "execution": {
     "iopub.execute_input": "2021-01-25T00:33:48.251146Z",
     "iopub.status.busy": "2021-01-25T00:33:48.250633Z",
     "iopub.status.idle": "2021-01-25T00:33:48.264592Z",
     "shell.execute_reply": "2021-01-25T00:33:48.263976Z"
    },
    "papermill": {
     "duration": 0.053908,
     "end_time": "2021-01-25T00:33:48.264707",
     "exception": false,
     "start_time": "2021-01-25T00:33:48.210799",
     "status": "completed"
    },
    "tags": []
   },
   "outputs": [
    {
     "data": {
      "text/plain": [
       "((11982, 28, 28), (1984, 28, 28))"
      ]
     },
     "execution_count": 12,
     "metadata": {},
     "output_type": "execute_result"
    }
   ],
   "source": [
    "X_train.shape, X_test.shape"
   ]
  },
  {
   "cell_type": "markdown",
   "id": "civilian-mobile",
   "metadata": {
    "papermill": {
     "duration": 0.027569,
     "end_time": "2021-01-25T00:33:48.319965",
     "exception": false,
     "start_time": "2021-01-25T00:33:48.292396",
     "status": "completed"
    },
    "tags": []
   },
   "source": [
    "### Reshape the input data to create a linear array"
   ]
  },
  {
   "cell_type": "code",
   "execution_count": 13,
   "id": "colonial-adams",
   "metadata": {
    "execution": {
     "iopub.execute_input": "2021-01-25T00:33:48.379406Z",
     "iopub.status.busy": "2021-01-25T00:33:48.378878Z",
     "iopub.status.idle": "2021-01-25T00:33:48.391002Z",
     "shell.execute_reply": "2021-01-25T00:33:48.390576Z"
    },
    "papermill": {
     "duration": 0.043227,
     "end_time": "2021-01-25T00:33:48.391108",
     "exception": false,
     "start_time": "2021-01-25T00:33:48.347881",
     "status": "completed"
    },
    "tags": []
   },
   "outputs": [
    {
     "data": {
      "text/plain": [
       "((11982, 784), (1984, 784))"
      ]
     },
     "execution_count": 13,
     "metadata": {},
     "output_type": "execute_result"
    }
   ],
   "source": [
    "X_train = X_train.reshape(X_train.shape[0], -1)\n",
    "X_test = X_test.reshape(X_test.shape[0], -1)\n",
    "X_train.shape, X_test.shape"
   ]
  },
  {
   "cell_type": "markdown",
   "id": "smart-details",
   "metadata": {
    "papermill": {
     "duration": 0.02793,
     "end_time": "2021-01-25T00:33:48.446785",
     "exception": false,
     "start_time": "2021-01-25T00:33:48.418855",
     "status": "completed"
    },
    "tags": []
   },
   "source": [
    "### Importing appropriate functions from 'Kudzu'"
   ]
  },
  {
   "cell_type": "code",
   "execution_count": 14,
   "id": "celtic-trial",
   "metadata": {
    "execution": {
     "iopub.execute_input": "2021-01-25T00:33:48.508088Z",
     "iopub.status.busy": "2021-01-25T00:33:48.507580Z",
     "iopub.status.idle": "2021-01-25T00:33:48.524699Z",
     "shell.execute_reply": "2021-01-25T00:33:48.524290Z"
    },
    "papermill": {
     "duration": 0.049988,
     "end_time": "2021-01-25T00:33:48.524811",
     "exception": false,
     "start_time": "2021-01-25T00:33:48.474823",
     "status": "completed"
    },
    "tags": []
   },
   "outputs": [],
   "source": [
    "from kudzu.layer import Sigmoid\n",
    "from kudzu.layer import Relu\n",
    "from kudzu.layer import Affine, Sigmoid\n",
    "\n",
    "from kudzu.model import Model\n",
    "from kudzu.train import Learner\n",
    "from kudzu.optim import GD\n",
    "from kudzu.data import Data, Dataloader, Sampler\n",
    "\n",
    "from kudzu.callbacks import AccCallback\n",
    "from kudzu.callbacks import ClfCallback\n",
    "\n",
    "from kudzu.loss import MSE"
   ]
  },
  {
   "cell_type": "markdown",
   "id": "coupled-customer",
   "metadata": {
    "papermill": {
     "duration": 0.027824,
     "end_time": "2021-01-25T00:33:48.580596",
     "exception": false,
     "start_time": "2021-01-25T00:33:48.552772",
     "status": "completed"
    },
    "tags": []
   },
   "source": [
    "### Let us create a `Config` class, to store important parameters. \n",
    "This class essentially plays the role of a dictionary."
   ]
  },
  {
   "cell_type": "code",
   "execution_count": 15,
   "id": "young-ceiling",
   "metadata": {
    "execution": {
     "iopub.execute_input": "2021-01-25T00:33:48.640807Z",
     "iopub.status.busy": "2021-01-25T00:33:48.640303Z",
     "iopub.status.idle": "2021-01-25T00:33:48.651025Z",
     "shell.execute_reply": "2021-01-25T00:33:48.651452Z"
    },
    "papermill": {
     "duration": 0.043031,
     "end_time": "2021-01-25T00:33:48.651580",
     "exception": false,
     "start_time": "2021-01-25T00:33:48.608549",
     "status": "completed"
    },
    "tags": []
   },
   "outputs": [],
   "source": [
    "class Config:\n",
    "    pass\n",
    "config = Config()\n",
    "config.lr = 0.001\n",
    "config.num_epochs = 251\n",
    "config.bs = 50"
   ]
  },
  {
   "cell_type": "markdown",
   "id": "according-mandate",
   "metadata": {
    "papermill": {
     "duration": 0.027821,
     "end_time": "2021-01-25T00:33:48.707294",
     "exception": false,
     "start_time": "2021-01-25T00:33:48.679473",
     "status": "completed"
    },
    "tags": []
   },
   "source": [
    "### Initializing data to the variables"
   ]
  },
  {
   "cell_type": "code",
   "execution_count": 16,
   "id": "academic-disposition",
   "metadata": {
    "execution": {
     "iopub.execute_input": "2021-01-25T00:33:48.766868Z",
     "iopub.status.busy": "2021-01-25T00:33:48.766375Z",
     "iopub.status.idle": "2021-01-25T00:33:48.777751Z",
     "shell.execute_reply": "2021-01-25T00:33:48.777298Z"
    },
    "papermill": {
     "duration": 0.042716,
     "end_time": "2021-01-25T00:33:48.777860",
     "exception": false,
     "start_time": "2021-01-25T00:33:48.735144",
     "status": "completed"
    },
    "tags": []
   },
   "outputs": [],
   "source": [
    "data = Data(X_train, y_train.reshape(-1,1))\n",
    "sampler = Sampler(data, config.bs, shuffle=True)\n",
    "\n",
    "dl = Dataloader(data, sampler)\n",
    "\n",
    "opt = GD(config.lr)\n",
    "loss = MSE()"
   ]
  },
  {
   "cell_type": "code",
   "execution_count": 17,
   "id": "featured-commission",
   "metadata": {
    "execution": {
     "iopub.execute_input": "2021-01-25T00:33:48.838536Z",
     "iopub.status.busy": "2021-01-25T00:33:48.838039Z",
     "iopub.status.idle": "2021-01-25T00:33:48.848144Z",
     "shell.execute_reply": "2021-01-25T00:33:48.847735Z"
    },
    "papermill": {
     "duration": 0.04276,
     "end_time": "2021-01-25T00:33:48.848255",
     "exception": false,
     "start_time": "2021-01-25T00:33:48.805495",
     "status": "completed"
    },
    "tags": []
   },
   "outputs": [],
   "source": [
    "training_xdata = X_train\n",
    "testing_xdata = X_test\n",
    "training_ydata = y_train.reshape(-1,1)\n",
    "testing_ydata = y_test.reshape(-1,1)"
   ]
  },
  {
   "cell_type": "markdown",
   "id": "played-safety",
   "metadata": {
    "papermill": {
     "duration": 0.027952,
     "end_time": "2021-01-25T00:33:48.904185",
     "exception": false,
     "start_time": "2021-01-25T00:33:48.876233",
     "status": "completed"
    },
    "tags": []
   },
   "source": [
    "### Running Models with the Training data\n",
    "Details about the network layers:\n",
    "- A first affine layer has 784 inputs and does 100 affine transforms. These are followed by a Relu\n",
    "- A second affine layer has 100 inputs from the 100 activations of the past layer, and does 100 affine transforms. These are followed by a Relu\n",
    "- A third affine layer has 100 activations and does 2 affine transformations to create an embedding for visualization. There is no non-linearity here.\n",
    "- A final \"logistic regression\" which has an affine transform from 2 inputs to 1 output, which is squeezed through a sigmoid.\n",
    "\n",
    "Help taken from Anshuman's Notebook."
   ]
  },
  {
   "cell_type": "code",
   "execution_count": 18,
   "id": "asian-bankruptcy",
   "metadata": {
    "execution": {
     "iopub.execute_input": "2021-01-25T00:33:48.978094Z",
     "iopub.status.busy": "2021-01-25T00:33:48.970312Z",
     "iopub.status.idle": "2021-01-25T00:33:48.981636Z",
     "shell.execute_reply": "2021-01-25T00:33:48.982014Z"
    },
    "papermill": {
     "duration": 0.050208,
     "end_time": "2021-01-25T00:33:48.982144",
     "exception": false,
     "start_time": "2021-01-25T00:33:48.931936",
     "status": "completed"
    },
    "tags": []
   },
   "outputs": [],
   "source": [
    "# layers for the Neural Network\n",
    "layers = [Affine(\"first\", 784, 100), Relu(\"first\"), Affine(\"second\", 100, 100), Relu(\"second\"), Affine(\"third\", 100, 2), Affine(\"final\", 2, 1), Sigmoid(\"final\")]\n",
    "model_nn = Model(layers)\n",
    "\n",
    "# layers for the Logistic Regression\n",
    "layers_lr = [Affine(\"logits\", 784, 1), Sigmoid(\"sigmoid\")]\n",
    "model_lr = Model(layers_lr)"
   ]
  },
  {
   "cell_type": "code",
   "execution_count": 19,
   "id": "removed-butler",
   "metadata": {
    "execution": {
     "iopub.execute_input": "2021-01-25T00:33:49.045349Z",
     "iopub.status.busy": "2021-01-25T00:33:49.044842Z",
     "iopub.status.idle": "2021-01-25T00:33:49.055278Z",
     "shell.execute_reply": "2021-01-25T00:33:49.054873Z"
    },
    "papermill": {
     "duration": 0.04508,
     "end_time": "2021-01-25T00:33:49.055390",
     "exception": false,
     "start_time": "2021-01-25T00:33:49.010310",
     "status": "completed"
    },
    "tags": []
   },
   "outputs": [],
   "source": [
    "# suffix _nn stands for Neural Network.\n",
    "learner_nn = Learner(loss, model_nn, opt, config.num_epochs)\n",
    "acc_nn = ClfCallback(learner_nn, config.bs, training_xdata , testing_xdata, training_ydata, testing_ydata)\n",
    "learner_nn.set_callbacks([acc_nn])"
   ]
  },
  {
   "cell_type": "code",
   "execution_count": 20,
   "id": "conceptual-throw",
   "metadata": {
    "execution": {
     "iopub.execute_input": "2021-01-25T00:33:49.114499Z",
     "iopub.status.busy": "2021-01-25T00:33:49.114003Z",
     "iopub.status.idle": "2021-01-25T00:35:01.758219Z",
     "shell.execute_reply": "2021-01-25T00:35:01.758692Z"
    },
    "papermill": {
     "duration": 72.675521,
     "end_time": "2021-01-25T00:35:01.758827",
     "exception": false,
     "start_time": "2021-01-25T00:33:49.083306",
     "status": "completed"
    },
    "tags": []
   },
   "outputs": [
    {
     "name": "stdout",
     "output_type": "stream",
     "text": [
      "====== Neural Network ======\n"
     ]
    },
    {
     "name": "stdout",
     "output_type": "stream",
     "text": [
      "Epoch 0, Loss 0.2495\n",
      "Training Accuracy: 0.6078, Testing Accuracy: 0.6053\n",
      "\n"
     ]
    },
    {
     "name": "stdout",
     "output_type": "stream",
     "text": [
      "Epoch 10, Loss 0.0867\n",
      "Training Accuracy: 0.9282, Testing Accuracy: 0.9390\n",
      "\n"
     ]
    },
    {
     "name": "stdout",
     "output_type": "stream",
     "text": [
      "Epoch 20, Loss 0.0527\n",
      "Training Accuracy: 0.9457, Testing Accuracy: 0.9561\n",
      "\n"
     ]
    },
    {
     "name": "stdout",
     "output_type": "stream",
     "text": [
      "Epoch 30, Loss 0.0422\n",
      "Training Accuracy: 0.9533, Testing Accuracy: 0.9637\n",
      "\n"
     ]
    },
    {
     "name": "stdout",
     "output_type": "stream",
     "text": [
      "Epoch 40, Loss 0.0371\n",
      "Training Accuracy: 0.9596, Testing Accuracy: 0.9647\n",
      "\n"
     ]
    },
    {
     "name": "stdout",
     "output_type": "stream",
     "text": [
      "Epoch 50, Loss 0.034\n",
      "Training Accuracy: 0.9631, Testing Accuracy: 0.9672\n",
      "\n"
     ]
    },
    {
     "name": "stdout",
     "output_type": "stream",
     "text": [
      "Epoch 60, Loss 0.0318\n",
      "Training Accuracy: 0.9652, Testing Accuracy: 0.9682\n",
      "\n"
     ]
    },
    {
     "name": "stdout",
     "output_type": "stream",
     "text": [
      "Epoch 70, Loss 0.0301\n",
      "Training Accuracy: 0.9664, Testing Accuracy: 0.9682\n",
      "\n"
     ]
    },
    {
     "name": "stdout",
     "output_type": "stream",
     "text": [
      "Epoch 80, Loss 0.0287\n",
      "Training Accuracy: 0.9681, Testing Accuracy: 0.9688\n",
      "\n"
     ]
    },
    {
     "name": "stdout",
     "output_type": "stream",
     "text": [
      "Epoch 90, Loss 0.0276\n",
      "Training Accuracy: 0.9688, Testing Accuracy: 0.9688\n",
      "\n"
     ]
    },
    {
     "name": "stdout",
     "output_type": "stream",
     "text": [
      "Epoch 100, Loss 0.0266\n",
      "Training Accuracy: 0.9695, Testing Accuracy: 0.9682\n",
      "\n"
     ]
    },
    {
     "name": "stdout",
     "output_type": "stream",
     "text": [
      "Epoch 110, Loss 0.0257\n",
      "Training Accuracy: 0.9704, Testing Accuracy: 0.9688\n",
      "\n"
     ]
    },
    {
     "name": "stdout",
     "output_type": "stream",
     "text": [
      "Epoch 120, Loss 0.0249\n",
      "Training Accuracy: 0.9714, Testing Accuracy: 0.9693\n",
      "\n"
     ]
    },
    {
     "name": "stdout",
     "output_type": "stream",
     "text": [
      "Epoch 130, Loss 0.0241\n",
      "Training Accuracy: 0.9722, Testing Accuracy: 0.9703\n",
      "\n"
     ]
    },
    {
     "name": "stdout",
     "output_type": "stream",
     "text": [
      "Epoch 140, Loss 0.0234\n",
      "Training Accuracy: 0.9731, Testing Accuracy: 0.9703\n",
      "\n"
     ]
    },
    {
     "name": "stdout",
     "output_type": "stream",
     "text": [
      "Epoch 150, Loss 0.0228\n",
      "Training Accuracy: 0.9737, Testing Accuracy: 0.9708\n",
      "\n"
     ]
    },
    {
     "name": "stdout",
     "output_type": "stream",
     "text": [
      "Epoch 160, Loss 0.0222\n",
      "Training Accuracy: 0.9750, Testing Accuracy: 0.9708\n",
      "\n"
     ]
    },
    {
     "name": "stdout",
     "output_type": "stream",
     "text": [
      "Epoch 170, Loss 0.0216\n",
      "Training Accuracy: 0.9760, Testing Accuracy: 0.9723\n",
      "\n"
     ]
    },
    {
     "name": "stdout",
     "output_type": "stream",
     "text": [
      "Epoch 180, Loss 0.0211\n",
      "Training Accuracy: 0.9764, Testing Accuracy: 0.9718\n",
      "\n"
     ]
    },
    {
     "name": "stdout",
     "output_type": "stream",
     "text": [
      "Epoch 190, Loss 0.0206\n",
      "Training Accuracy: 0.9769, Testing Accuracy: 0.9718\n",
      "\n"
     ]
    },
    {
     "name": "stdout",
     "output_type": "stream",
     "text": [
      "Epoch 200, Loss 0.0201\n",
      "Training Accuracy: 0.9775, Testing Accuracy: 0.9728\n",
      "\n"
     ]
    },
    {
     "name": "stdout",
     "output_type": "stream",
     "text": [
      "Epoch 210, Loss 0.0197\n",
      "Training Accuracy: 0.9779, Testing Accuracy: 0.9728\n",
      "\n"
     ]
    },
    {
     "name": "stdout",
     "output_type": "stream",
     "text": [
      "Epoch 220, Loss 0.0192\n",
      "Training Accuracy: 0.9782, Testing Accuracy: 0.9728\n",
      "\n"
     ]
    },
    {
     "name": "stdout",
     "output_type": "stream",
     "text": [
      "Epoch 230, Loss 0.0188\n",
      "Training Accuracy: 0.9790, Testing Accuracy: 0.9743\n",
      "\n"
     ]
    },
    {
     "name": "stdout",
     "output_type": "stream",
     "text": [
      "Epoch 240, Loss 0.0184\n",
      "Training Accuracy: 0.9792, Testing Accuracy: 0.9748\n",
      "\n"
     ]
    },
    {
     "name": "stdout",
     "output_type": "stream",
     "text": [
      "Epoch 250, Loss 0.018\n",
      "Training Accuracy: 0.9796, Testing Accuracy: 0.9768\n",
      "\n"
     ]
    },
    {
     "data": {
      "text/plain": [
       "0.03774819305690172"
      ]
     },
     "execution_count": 20,
     "metadata": {},
     "output_type": "execute_result"
    }
   ],
   "source": [
    "print(\"====== Neural Network ======\")\n",
    "learner_nn.train_loop(dl)"
   ]
  },
  {
   "cell_type": "markdown",
   "id": "competent-suffering",
   "metadata": {
    "papermill": {
     "duration": 0.034857,
     "end_time": "2021-01-25T00:35:01.829154",
     "exception": false,
     "start_time": "2021-01-25T00:35:01.794297",
     "status": "completed"
    },
    "tags": []
   },
   "source": [
    "### Logistic Regression based Implementation."
   ]
  },
  {
   "cell_type": "code",
   "execution_count": 21,
   "id": "qualified-psychiatry",
   "metadata": {
    "execution": {
     "iopub.execute_input": "2021-01-25T00:35:01.904527Z",
     "iopub.status.busy": "2021-01-25T00:35:01.904001Z",
     "iopub.status.idle": "2021-01-25T00:35:01.915259Z",
     "shell.execute_reply": "2021-01-25T00:35:01.914856Z"
    },
    "papermill": {
     "duration": 0.051289,
     "end_time": "2021-01-25T00:35:01.915371",
     "exception": false,
     "start_time": "2021-01-25T00:35:01.864082",
     "status": "completed"
    },
    "tags": []
   },
   "outputs": [],
   "source": [
    "learner_lr = Learner(loss, model_lr, opt, config.num_epochs)\n",
    "acc_lr = ClfCallback(learner_lr, config.bs, training_xdata , testing_xdata, training_ydata, testing_ydata)\n",
    "learner_lr.set_callbacks([acc_lr])"
   ]
  },
  {
   "cell_type": "code",
   "execution_count": 22,
   "id": "average-outside",
   "metadata": {
    "execution": {
     "iopub.execute_input": "2021-01-25T00:35:02.003955Z",
     "iopub.status.busy": "2021-01-25T00:35:02.003438Z",
     "iopub.status.idle": "2021-01-25T00:35:15.018135Z",
     "shell.execute_reply": "2021-01-25T00:35:15.017721Z"
    },
    "papermill": {
     "duration": 13.067942,
     "end_time": "2021-01-25T00:35:15.018254",
     "exception": false,
     "start_time": "2021-01-25T00:35:01.950312",
     "status": "completed"
    },
    "tags": []
   },
   "outputs": [
    {
     "name": "stdout",
     "output_type": "stream",
     "text": [
      "====== Logistic Regression ======\n",
      "Epoch 0, Loss 0.2041\n",
      "Training Accuracy: 0.7529, Testing Accuracy: 0.7409\n",
      "\n"
     ]
    },
    {
     "name": "stdout",
     "output_type": "stream",
     "text": [
      "Epoch 10, Loss 0.1031\n",
      "Training Accuracy: 0.9039, Testing Accuracy: 0.9153\n",
      "\n"
     ]
    },
    {
     "name": "stdout",
     "output_type": "stream",
     "text": [
      "Epoch 20, Loss 0.0801\n",
      "Training Accuracy: 0.9239, Testing Accuracy: 0.9340\n",
      "\n"
     ]
    },
    {
     "name": "stdout",
     "output_type": "stream",
     "text": [
      "Epoch 30, Loss 0.0691\n",
      "Training Accuracy: 0.9326, Testing Accuracy: 0.9420\n",
      "\n"
     ]
    },
    {
     "name": "stdout",
     "output_type": "stream",
     "text": [
      "Epoch 40, Loss 0.0625\n",
      "Training Accuracy: 0.9370, Testing Accuracy: 0.9511\n",
      "\n"
     ]
    },
    {
     "name": "stdout",
     "output_type": "stream",
     "text": [
      "Epoch 50, Loss 0.0579\n",
      "Training Accuracy: 0.9407, Testing Accuracy: 0.9536\n",
      "\n"
     ]
    },
    {
     "name": "stdout",
     "output_type": "stream",
     "text": [
      "Epoch 60, Loss 0.0545\n",
      "Training Accuracy: 0.9446, Testing Accuracy: 0.9572\n",
      "\n"
     ]
    },
    {
     "name": "stdout",
     "output_type": "stream",
     "text": [
      "Epoch 70, Loss 0.0519\n",
      "Training Accuracy: 0.9468, Testing Accuracy: 0.9582\n",
      "\n"
     ]
    },
    {
     "name": "stdout",
     "output_type": "stream",
     "text": [
      "Epoch 80, Loss 0.0498\n",
      "Training Accuracy: 0.9488, Testing Accuracy: 0.9597\n",
      "\n"
     ]
    },
    {
     "name": "stdout",
     "output_type": "stream",
     "text": [
      "Epoch 90, Loss 0.0481\n",
      "Training Accuracy: 0.9500, Testing Accuracy: 0.9587\n",
      "\n"
     ]
    },
    {
     "name": "stdout",
     "output_type": "stream",
     "text": [
      "Epoch 100, Loss 0.0466\n",
      "Training Accuracy: 0.9507, Testing Accuracy: 0.9597\n",
      "\n"
     ]
    },
    {
     "name": "stdout",
     "output_type": "stream",
     "text": [
      "Epoch 110, Loss 0.0454\n",
      "Training Accuracy: 0.9518, Testing Accuracy: 0.9622\n",
      "\n"
     ]
    },
    {
     "name": "stdout",
     "output_type": "stream",
     "text": [
      "Epoch 120, Loss 0.0443\n",
      "Training Accuracy: 0.9533, Testing Accuracy: 0.9622\n",
      "\n"
     ]
    },
    {
     "name": "stdout",
     "output_type": "stream",
     "text": [
      "Epoch 130, Loss 0.0434\n",
      "Training Accuracy: 0.9540, Testing Accuracy: 0.9627\n",
      "\n"
     ]
    },
    {
     "name": "stdout",
     "output_type": "stream",
     "text": [
      "Epoch 140, Loss 0.0425\n",
      "Training Accuracy: 0.9548, Testing Accuracy: 0.9632\n",
      "\n"
     ]
    },
    {
     "name": "stdout",
     "output_type": "stream",
     "text": [
      "Epoch 150, Loss 0.0417\n",
      "Training Accuracy: 0.9558, Testing Accuracy: 0.9642\n",
      "\n"
     ]
    },
    {
     "name": "stdout",
     "output_type": "stream",
     "text": [
      "Epoch 160, Loss 0.041\n",
      "Training Accuracy: 0.9565, Testing Accuracy: 0.9652\n",
      "\n"
     ]
    },
    {
     "name": "stdout",
     "output_type": "stream",
     "text": [
      "Epoch 170, Loss 0.0404\n",
      "Training Accuracy: 0.9574, Testing Accuracy: 0.9662\n",
      "\n"
     ]
    },
    {
     "name": "stdout",
     "output_type": "stream",
     "text": [
      "Epoch 180, Loss 0.0398\n",
      "Training Accuracy: 0.9577, Testing Accuracy: 0.9667\n",
      "\n"
     ]
    },
    {
     "name": "stdout",
     "output_type": "stream",
     "text": [
      "Epoch 190, Loss 0.0393\n",
      "Training Accuracy: 0.9579, Testing Accuracy: 0.9667\n",
      "\n"
     ]
    },
    {
     "name": "stdout",
     "output_type": "stream",
     "text": [
      "Epoch 200, Loss 0.0388\n",
      "Training Accuracy: 0.9579, Testing Accuracy: 0.9682\n",
      "\n"
     ]
    },
    {
     "name": "stdout",
     "output_type": "stream",
     "text": [
      "Epoch 210, Loss 0.0384\n",
      "Training Accuracy: 0.9580, Testing Accuracy: 0.9682\n",
      "\n"
     ]
    },
    {
     "name": "stdout",
     "output_type": "stream",
     "text": [
      "Epoch 220, Loss 0.038\n",
      "Training Accuracy: 0.9584, Testing Accuracy: 0.9682\n",
      "\n"
     ]
    },
    {
     "name": "stdout",
     "output_type": "stream",
     "text": [
      "Epoch 230, Loss 0.0376\n",
      "Training Accuracy: 0.9588, Testing Accuracy: 0.9682\n",
      "\n"
     ]
    },
    {
     "name": "stdout",
     "output_type": "stream",
     "text": [
      "Epoch 240, Loss 0.0372\n",
      "Training Accuracy: 0.9590, Testing Accuracy: 0.9688\n",
      "\n"
     ]
    },
    {
     "name": "stdout",
     "output_type": "stream",
     "text": [
      "Epoch 250, Loss 0.0368\n",
      "Training Accuracy: 0.9593, Testing Accuracy: 0.9688\n",
      "\n"
     ]
    },
    {
     "data": {
      "text/plain": [
       "0.05860328567198775"
      ]
     },
     "execution_count": 22,
     "metadata": {},
     "output_type": "execute_result"
    }
   ],
   "source": [
    "print(\"====== Logistic Regression ======\")\n",
    "learner_lr.train_loop(dl)"
   ]
  },
  {
   "cell_type": "markdown",
   "id": "adjusted-possible",
   "metadata": {
    "papermill": {
     "duration": 0.041714,
     "end_time": "2021-01-25T00:35:15.102845",
     "exception": false,
     "start_time": "2021-01-25T00:35:15.061131",
     "status": "completed"
    },
    "tags": []
   },
   "source": [
    "### Comparing results of NN and LR"
   ]
  },
  {
   "cell_type": "code",
   "execution_count": 23,
   "id": "mental-multimedia",
   "metadata": {
    "execution": {
     "iopub.execute_input": "2021-01-25T00:35:15.194052Z",
     "iopub.status.busy": "2021-01-25T00:35:15.192535Z",
     "iopub.status.idle": "2021-01-25T00:35:15.401104Z",
     "shell.execute_reply": "2021-01-25T00:35:15.400659Z"
    },
    "papermill": {
     "duration": 0.256304,
     "end_time": "2021-01-25T00:35:15.401222",
     "exception": false,
     "start_time": "2021-01-25T00:35:15.144918",
     "status": "completed"
    },
    "tags": []
   },
   "outputs": [
    {
     "data": {
      "text/plain": [
       "<matplotlib.legend.Legend at 0x7fa2663ed358>"
      ]
     },
     "execution_count": 23,
     "metadata": {},
     "output_type": "execute_result"
    },
    {
     "data": {
      "image/png": "[encoded data removed]",
      "text/plain": [
       "<Figure size 1080x720 with 1 Axes>"
      ]
     },
     "metadata": {
      "needs_background": "light"
     },
     "output_type": "display_data"
    }
   ],
   "source": [
    "plt.figure(figsize=(15,10))\n",
    "\n",
    "# Neural Network plots\n",
    "plt.plot(acc_nn.accuracies, 'r-', label = \"Training Accuracies - NN\")\n",
    "plt.plot(acc_nn.test_accuracies, 'g-', label = \"Testing Accuracies - NN\")\n",
    "\n",
    "# Logistic Regression plots\n",
    "plt.plot(acc_lr.accuracies, 'k-', label = \"Training Accuracies - LR\")\n",
    "plt.plot(acc_lr.test_accuracies, 'b-', label = \"Testing Accuracies - LR\")\n",
    "\n",
    "plt.ylim(0.8, 1)\n",
    "\n",
    "plt.legend()\n",
    "\n"
   ]
  },
  {
   "cell_type": "markdown",
   "id": "sexual-flesh",
   "metadata": {
    "papermill": {
     "duration": 0.043556,
     "end_time": "2021-01-25T00:35:15.489052",
     "exception": false,
     "start_time": "2021-01-25T00:35:15.445496",
     "status": "completed"
    },
    "tags": []
   },
   "source": [
    "### From the plot, we can observe the following:\n",
    "- Neural Network achieves higher accuracy than the Logistic Regression model.\n",
    "- This apparently, is because of overfitting, i.e. NN captures more noise than data.\n",
    "- Testing accuracy of NN drops below the Training accuracy at higher epochs. This explains the over-fitting on training data.\n",
    "- Logistic Regression gives a reliable accuracy, without the above mentioned problem.\n"
   ]
  },
  {
   "cell_type": "markdown",
   "id": "institutional-pacific",
   "metadata": {
    "papermill": {
     "duration": 0.043461,
     "end_time": "2021-01-25T00:35:15.576288",
     "exception": false,
     "start_time": "2021-01-25T00:35:15.532827",
     "status": "completed"
    },
    "tags": []
   },
   "source": [
    "### Moving till the last but one layer (excluding it).\n",
    "#### Plotting the outputs of this layer of the NN."
   ]
  },
  {
   "cell_type": "code",
   "execution_count": 24,
   "id": "economic-server",
   "metadata": {
    "execution": {
     "iopub.execute_input": "2021-01-25T00:35:15.667709Z",
     "iopub.status.busy": "2021-01-25T00:35:15.667199Z",
     "iopub.status.idle": "2021-01-25T00:35:15.678212Z",
     "shell.execute_reply": "2021-01-25T00:35:15.677782Z"
    },
    "papermill": {
     "duration": 0.058208,
     "end_time": "2021-01-25T00:35:15.678322",
     "exception": false,
     "start_time": "2021-01-25T00:35:15.620114",
     "status": "completed"
    },
    "tags": []
   },
   "outputs": [],
   "source": [
    "model_new = Model(layers[:-2])"
   ]
  },
  {
   "cell_type": "code",
   "execution_count": 25,
   "id": "varied-upgrade",
   "metadata": {
    "execution": {
     "iopub.execute_input": "2021-01-25T00:35:15.771022Z",
     "iopub.status.busy": "2021-01-25T00:35:15.770502Z",
     "iopub.status.idle": "2021-01-25T00:35:15.787583Z",
     "shell.execute_reply": "2021-01-25T00:35:15.788001Z"
    },
    "papermill": {
     "duration": 0.066229,
     "end_time": "2021-01-25T00:35:15.788134",
     "exception": false,
     "start_time": "2021-01-25T00:35:15.721905",
     "status": "completed"
    },
    "tags": []
   },
   "outputs": [],
   "source": [
    "plot_testing = model_new(testing_xdata)"
   ]
  },
  {
   "cell_type": "code",
   "execution_count": 26,
   "id": "specific-handling",
   "metadata": {
    "execution": {
     "iopub.execute_input": "2021-01-25T00:35:15.883945Z",
     "iopub.status.busy": "2021-01-25T00:35:15.883431Z",
     "iopub.status.idle": "2021-01-25T00:35:16.076111Z",
     "shell.execute_reply": "2021-01-25T00:35:16.075675Z"
    },
    "papermill": {
     "duration": 0.242723,
     "end_time": "2021-01-25T00:35:16.076226",
     "exception": false,
     "start_time": "2021-01-25T00:35:15.833503",
     "status": "completed"
    },
    "tags": []
   },
   "outputs": [
    {
     "data": {
      "text/plain": [
       "Text(0.5, 1.0, 'Outputs')"
      ]
     },
     "execution_count": 26,
     "metadata": {},
     "output_type": "execute_result"
    },
    {
     "data": {
      "image/png": "[encoded data removed]",
      "text/plain": [
       "<Figure size 576x504 with 1 Axes>"
      ]
     },
     "metadata": {
      "needs_background": "light"
     },
     "output_type": "display_data"
    }
   ],
   "source": [
    "plt.figure(figsize=(8,7))\n",
    "plt.scatter(plot_testing[:,0], plot_testing[:,1], alpha = 0.1, c = y_test.ravel());\n",
    "plt.title('Outputs')"
   ]
  },
  {
   "cell_type": "markdown",
   "id": "described-knowing",
   "metadata": {
    "papermill": {
     "duration": 0.045823,
     "end_time": "2021-01-25T00:35:16.168223",
     "exception": false,
     "start_time": "2021-01-25T00:35:16.122400",
     "status": "completed"
    },
    "tags": []
   },
   "source": [
    "### Plotting probability contours"
   ]
  },
  {
   "cell_type": "code",
   "execution_count": 27,
   "id": "needed-growing",
   "metadata": {
    "execution": {
     "iopub.execute_input": "2021-01-25T00:35:16.266609Z",
     "iopub.status.busy": "2021-01-25T00:35:16.266099Z",
     "iopub.status.idle": "2021-01-25T00:35:16.275765Z",
     "shell.execute_reply": "2021-01-25T00:35:16.276190Z"
    },
    "papermill": {
     "duration": 0.062029,
     "end_time": "2021-01-25T00:35:16.276316",
     "exception": false,
     "start_time": "2021-01-25T00:35:16.214287",
     "status": "completed"
    },
    "tags": []
   },
   "outputs": [],
   "source": [
    "model_prob = Model(layers[-2:]) "
   ]
  },
  {
   "cell_type": "code",
   "execution_count": 28,
   "id": "introductory-enforcement",
   "metadata": {
    "execution": {
     "iopub.execute_input": "2021-01-25T00:35:16.374574Z",
     "iopub.status.busy": "2021-01-25T00:35:16.374073Z",
     "iopub.status.idle": "2021-01-25T00:35:16.385505Z",
     "shell.execute_reply": "2021-01-25T00:35:16.385900Z"
    },
    "papermill": {
     "duration": 0.063461,
     "end_time": "2021-01-25T00:35:16.386032",
     "exception": false,
     "start_time": "2021-01-25T00:35:16.322571",
     "status": "completed"
    },
    "tags": []
   },
   "outputs": [],
   "source": [
    "# Adjust the x and y ranges according to the above generated plot.\n",
    "x_range = np.linspace(-4, 1, 100) \n",
    "y_range = np.linspace(-6, 6, 100) \n",
    "x_grid, y_grid = np.meshgrid(x_range, y_range) # x_grid and y_grig are of size 100 X 100\n",
    "\n",
    "# converting x_grid and y_grid to continuous arrays\n",
    "x_grid_flat = np.ravel(x_grid)\n",
    "y_grid_flat = np.ravel(y_grid)\n",
    "\n",
    "# The last layer of the current model takes two columns as input. Hence transpose of np.vstack() is required.\n",
    "X = np.vstack((x_grid_flat, y_grid_flat)).T\n",
    "\n",
    "# x_grid and y_grid are of size 100 x 100\n",
    "probability_contour = model_prob(X).reshape(100,100) "
   ]
  },
  {
   "cell_type": "code",
   "execution_count": 29,
   "id": "understood-landing",
   "metadata": {
    "execution": {
     "iopub.execute_input": "2021-01-25T00:35:16.508198Z",
     "iopub.status.busy": "2021-01-25T00:35:16.507676Z",
     "iopub.status.idle": "2021-01-25T00:35:16.732094Z",
     "shell.execute_reply": "2021-01-25T00:35:16.731679Z"
    },
    "papermill": {
     "duration": 0.299278,
     "end_time": "2021-01-25T00:35:16.732212",
     "exception": false,
     "start_time": "2021-01-25T00:35:16.432934",
     "status": "completed"
    },
    "tags": []
   },
   "outputs": [
    {
     "data": {
      "image/png": "[encoded data removed]",
      "text/plain": [
       "<Figure size 720x648 with 1 Axes>"
      ]
     },
     "metadata": {
      "needs_background": "light"
     },
     "output_type": "display_data"
    }
   ],
   "source": [
    "plt.figure(figsize=(10,9))\n",
    "plt.scatter(plot_testing[:,0], plot_testing[:,1], alpha = 0.1, c = y_test.ravel())\n",
    "contours = plt.contour(x_grid,y_grid,probability_contour)\n",
    "plt.title('Probability Contours')\n",
    "plt.clabel(contours, inline = True );"
   ]
  }
 ],
 "metadata": {
  "kernelspec": {
   "display_name": "Python 3",
   "language": "python",
   "name": "python3"
  },
  "language_info": {
   "codemirror_mode": {
    "name": "ipython",
    "version": 3
   },
   "file_extension": ".py",
   "mimetype": "text/x-python",
   "name": "python",
   "nbconvert_exporter": "python",
   "pygments_lexer": "ipython3",
   "version": "3.6.12"
  },
  "papermill": {
   "duration": 94.99842,
   "end_time": "2021-01-25T00:35:17.087365",
   "environment_variables": {},
   "exception": null,
   "input_path": "2020-08-11-NeuralNetwork.ipynb",
   "output_path": "2020-08-11-NeuralNetwork.ipynb",
   "parameters": {},
   "start_time": "2021-01-25T00:33:42.088945",
   "version": "2.1.2"
  }
 },
 "nbformat": 4,
 "nbformat_minor": 5
}