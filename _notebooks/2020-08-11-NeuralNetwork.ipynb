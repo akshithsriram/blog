{
 "cells": [
  {
   "cell_type": "markdown",
   "id": "fitted-suggestion",
   "metadata": {
    "papermill": {
     "duration": 0.02981,
     "end_time": "2021-07-11T10:05:09.037739",
     "exception": false,
     "start_time": "2021-07-11T10:05:09.007929",
     "status": "completed"
    },
    "tags": []
   },
   "source": [
    "# \"A Basic Neural Network: Differentiate Hand-Written Digits\"\n",
    "\n",
    "- badges: true\n",
    "- author: Akshith Sriram"
   ]
  },
  {
   "cell_type": "markdown",
   "id": "signal-flexibility",
   "metadata": {
    "papermill": {
     "duration": 0.024969,
     "end_time": "2021-07-11T10:05:09.088270",
     "exception": false,
     "start_time": "2021-07-11T10:05:09.063301",
     "status": "completed"
    },
    "tags": []
   },
   "source": [
    "### Key Objectives:\n",
    "- Building a neural network that differentiates two hand-written digits 3 and 8.\n",
    "- Comparing the results of this Neural Network (NN) to that of a Logistic Regression (LR) model.\n",
    "\n",
    "### Requirements:\n",
    "- 'Kudzu' : A neural network library that was designed during our course by [Univ.AI](www.univ.ai). \n",
    "- MNIST Database\n",
    "\n",
    "If MNIST is not installed, use the command `!pip install mnist` given below.\n",
    "It can be run both from the command line and Jupyter Notebook."
   ]
  },
  {
   "cell_type": "code",
   "execution_count": 1,
   "id": "british-texture",
   "metadata": {
    "execution": {
     "iopub.execute_input": "2021-07-11T10:05:09.148123Z",
     "iopub.status.busy": "2021-07-11T10:05:09.147608Z",
     "iopub.status.idle": "2021-07-11T10:05:10.533496Z",
     "shell.execute_reply": "2021-07-11T10:05:10.532921Z"
    },
    "papermill": {
     "duration": 1.420484,
     "end_time": "2021-07-11T10:05:10.533630",
     "exception": false,
     "start_time": "2021-07-11T10:05:09.113146",
     "status": "completed"
    },
    "tags": []
   },
   "outputs": [
    {
     "name": "stdout",
     "output_type": "stream",
     "text": [
      "Collecting mnist\r\n"
     ]
    },
    {
     "name": "stdout",
     "output_type": "stream",
     "text": [
      "  Downloading mnist-0.2.2-py2.py3-none-any.whl (3.5 kB)\r\n",
      "Requirement already satisfied: numpy in /opt/hostedtoolcache/Python/3.6.13/x64/lib/python3.6/site-packages (from mnist) (1.19.5)\r\n"
     ]
    },
    {
     "name": "stdout",
     "output_type": "stream",
     "text": [
      "Installing collected packages: mnist\r\n"
     ]
    },
    {
     "name": "stdout",
     "output_type": "stream",
     "text": [
      "Successfully installed mnist-0.2.2\r\n"
     ]
    }
   ],
   "source": [
    "!pip install mnist "
   ]
  },
  {
   "cell_type": "markdown",
   "id": "stunning-extra",
   "metadata": {
    "papermill": {
     "duration": 0.025998,
     "end_time": "2021-07-11T10:05:10.586167",
     "exception": false,
     "start_time": "2021-07-11T10:05:10.560169",
     "status": "completed"
    },
    "tags": []
   },
   "source": [
    "#### Importing necessary libraries"
   ]
  },
  {
   "cell_type": "code",
   "execution_count": 2,
   "id": "wooden-france",
   "metadata": {
    "execution": {
     "iopub.execute_input": "2021-07-11T10:05:10.645952Z",
     "iopub.status.busy": "2021-07-11T10:05:10.645441Z",
     "iopub.status.idle": "2021-07-11T10:05:11.144518Z",
     "shell.execute_reply": "2021-07-11T10:05:11.144013Z"
    },
    "papermill": {
     "duration": 0.532401,
     "end_time": "2021-07-11T10:05:11.144653",
     "exception": false,
     "start_time": "2021-07-11T10:05:10.612252",
     "status": "completed"
    },
    "tags": []
   },
   "outputs": [],
   "source": [
    "%load_ext autoreload\n",
    "%autoreload 2\n",
    "\n",
    "%matplotlib inline\n",
    "import matplotlib.pyplot as plt\n",
    "\n",
    "import numpy as np\n",
    "import pandas as pd"
   ]
  },
  {
   "cell_type": "markdown",
   "id": "stunning-physics",
   "metadata": {
    "papermill": {
     "duration": 0.026515,
     "end_time": "2021-07-11T10:05:11.198529",
     "exception": false,
     "start_time": "2021-07-11T10:05:11.172014",
     "status": "completed"
    },
    "tags": []
   },
   "source": [
    "### Preparing the Data"
   ]
  },
  {
   "cell_type": "code",
   "execution_count": 3,
   "id": "unauthorized-remainder",
   "metadata": {
    "execution": {
     "iopub.execute_input": "2021-07-11T10:05:11.255503Z",
     "iopub.status.busy": "2021-07-11T10:05:11.254994Z",
     "iopub.status.idle": "2021-07-11T10:05:11.265735Z",
     "shell.execute_reply": "2021-07-11T10:05:11.266135Z"
    },
    "papermill": {
     "duration": 0.040903,
     "end_time": "2021-07-11T10:05:11.266254",
     "exception": false,
     "start_time": "2021-07-11T10:05:11.225351",
     "status": "completed"
    },
    "tags": []
   },
   "outputs": [],
   "source": [
    "import mnist"
   ]
  },
  {
   "cell_type": "code",
   "execution_count": 4,
   "id": "correct-antarctica",
   "metadata": {
    "execution": {
     "iopub.execute_input": "2021-07-11T10:05:11.323420Z",
     "iopub.status.busy": "2021-07-11T10:05:11.322929Z",
     "iopub.status.idle": "2021-07-11T10:05:31.927242Z",
     "shell.execute_reply": "2021-07-11T10:05:31.926679Z"
    },
    "papermill": {
     "duration": 20.635008,
     "end_time": "2021-07-11T10:05:31.927369",
     "exception": false,
     "start_time": "2021-07-11T10:05:11.292361",
     "status": "completed"
    },
    "tags": []
   },
   "outputs": [],
   "source": [
    "train_images = mnist.train_images()\n",
    "train_labels = mnist.train_labels()"
   ]
  },
  {
   "cell_type": "code",
   "execution_count": 5,
   "id": "musical-prospect",
   "metadata": {
    "execution": {
     "iopub.execute_input": "2021-07-11T10:05:31.984009Z",
     "iopub.status.busy": "2021-07-11T10:05:31.983509Z",
     "iopub.status.idle": "2021-07-11T10:05:31.997798Z",
     "shell.execute_reply": "2021-07-11T10:05:31.997376Z"
    },
    "papermill": {
     "duration": 0.043449,
     "end_time": "2021-07-11T10:05:31.997900",
     "exception": false,
     "start_time": "2021-07-11T10:05:31.954451",
     "status": "completed"
    },
    "tags": []
   },
   "outputs": [
    {
     "data": {
      "text/plain": [
       "((60000, 28, 28), (60000,))"
      ]
     },
     "execution_count": 5,
     "metadata": {},
     "output_type": "execute_result"
    }
   ],
   "source": [
    "train_images.shape, train_labels.shape"
   ]
  },
  {
   "cell_type": "code",
   "execution_count": 6,
   "id": "preliminary-elizabeth",
   "metadata": {
    "execution": {
     "iopub.execute_input": "2021-07-11T10:05:32.066687Z",
     "iopub.status.busy": "2021-07-11T10:05:32.064404Z",
     "iopub.status.idle": "2021-07-11T10:05:35.847610Z",
     "shell.execute_reply": "2021-07-11T10:05:35.846788Z"
    },
    "papermill": {
     "duration": 3.823479,
     "end_time": "2021-07-11T10:05:35.847749",
     "exception": false,
     "start_time": "2021-07-11T10:05:32.024270",
     "status": "completed"
    },
    "tags": []
   },
   "outputs": [],
   "source": [
    "test_images = mnist.test_images()\n",
    "test_labels = mnist.test_labels()"
   ]
  },
  {
   "cell_type": "code",
   "execution_count": 7,
   "id": "acknowledged-oxygen",
   "metadata": {
    "execution": {
     "iopub.execute_input": "2021-07-11T10:05:35.904770Z",
     "iopub.status.busy": "2021-07-11T10:05:35.904265Z",
     "iopub.status.idle": "2021-07-11T10:05:35.916765Z",
     "shell.execute_reply": "2021-07-11T10:05:35.917233Z"
    },
    "papermill": {
     "duration": 0.042508,
     "end_time": "2021-07-11T10:05:35.917373",
     "exception": false,
     "start_time": "2021-07-11T10:05:35.874865",
     "status": "completed"
    },
    "tags": []
   },
   "outputs": [
    {
     "data": {
      "text/plain": [
       "((10000, 28, 28), (10000,))"
      ]
     },
     "execution_count": 7,
     "metadata": {},
     "output_type": "execute_result"
    }
   ],
   "source": [
    "test_images.shape, test_labels.shape"
   ]
  },
  {
   "cell_type": "code",
   "execution_count": 8,
   "id": "innovative-organic",
   "metadata": {
    "execution": {
     "iopub.execute_input": "2021-07-11T10:05:35.979075Z",
     "iopub.status.busy": "2021-07-11T10:05:35.978570Z",
     "iopub.status.idle": "2021-07-11T10:05:36.113256Z",
     "shell.execute_reply": "2021-07-11T10:05:36.112811Z"
    },
    "papermill": {
     "duration": 0.169163,
     "end_time": "2021-07-11T10:05:36.113368",
     "exception": false,
     "start_time": "2021-07-11T10:05:35.944205",
     "status": "completed"
    },
    "tags": []
   },
   "outputs": [
    {
     "name": "stdout",
     "output_type": "stream",
     "text": [
      "2\n"
     ]
    },
    {
     "data": {
      "text/plain": [
       "<matplotlib.image.AxesImage at 0x7f9675cd65f8>"
      ]
     },
     "execution_count": 8,
     "metadata": {},
     "output_type": "execute_result"
    },
    {
     "data": {
      "image/png": "[encoded data removed]",
      "text/plain": [
       "<Figure size 432x288 with 1 Axes>"
      ]
     },
     "metadata": {
      "needs_background": "light"
     },
     "output_type": "display_data"
    }
   ],
   "source": [
    "image_index = 7776 # You may select anything up to 60,000\n",
    "print(train_labels[image_index]) \n",
    "plt.imshow(train_images[image_index], cmap='Greys')"
   ]
  },
  {
   "cell_type": "markdown",
   "id": "facial-modem",
   "metadata": {
    "papermill": {
     "duration": 0.027584,
     "end_time": "2021-07-11T10:05:36.172846",
     "exception": false,
     "start_time": "2021-07-11T10:05:36.145262",
     "status": "completed"
    },
    "tags": []
   },
   "source": [
    "## Filter data to get 3 and 8 out"
   ]
  },
  {
   "cell_type": "code",
   "execution_count": 9,
   "id": "thousand-acquisition",
   "metadata": {
    "execution": {
     "iopub.execute_input": "2021-07-11T10:05:36.244504Z",
     "iopub.status.busy": "2021-07-11T10:05:36.231735Z",
     "iopub.status.idle": "2021-07-11T10:05:36.253699Z",
     "shell.execute_reply": "2021-07-11T10:05:36.254386Z"
    },
    "papermill": {
     "duration": 0.054141,
     "end_time": "2021-07-11T10:05:36.254527",
     "exception": false,
     "start_time": "2021-07-11T10:05:36.200386",
     "status": "completed"
    },
    "tags": []
   },
   "outputs": [],
   "source": [
    "train_filter = np.where((train_labels == 3 ) | (train_labels == 8))\n",
    "test_filter = np.where((test_labels == 3) | (test_labels == 8))\n",
    "X_train, y_train = train_images[train_filter], train_labels[train_filter]\n",
    "X_test, y_test = test_images[test_filter], test_labels[test_filter]"
   ]
  },
  {
   "cell_type": "markdown",
   "id": "ruled-access",
   "metadata": {
    "papermill": {
     "duration": 0.027731,
     "end_time": "2021-07-11T10:05:36.310424",
     "exception": false,
     "start_time": "2021-07-11T10:05:36.282693",
     "status": "completed"
    },
    "tags": []
   },
   "source": [
    "We normalize the pixel values in the 0 to 1 range"
   ]
  },
  {
   "cell_type": "code",
   "execution_count": 10,
   "id": "isolated-denver",
   "metadata": {
    "execution": {
     "iopub.execute_input": "2021-07-11T10:05:36.371298Z",
     "iopub.status.busy": "2021-07-11T10:05:36.368774Z",
     "iopub.status.idle": "2021-07-11T10:05:36.415268Z",
     "shell.execute_reply": "2021-07-11T10:05:36.415744Z"
    },
    "papermill": {
     "duration": 0.077871,
     "end_time": "2021-07-11T10:05:36.415908",
     "exception": false,
     "start_time": "2021-07-11T10:05:36.338037",
     "status": "completed"
    },
    "tags": []
   },
   "outputs": [],
   "source": [
    "X_train = X_train/255.\n",
    "X_test = X_test/255."
   ]
  },
  {
   "cell_type": "markdown",
   "id": "perfect-summary",
   "metadata": {
    "papermill": {
     "duration": 0.027651,
     "end_time": "2021-07-11T10:05:36.471945",
     "exception": false,
     "start_time": "2021-07-11T10:05:36.444294",
     "status": "completed"
    },
    "tags": []
   },
   "source": [
    "Setup the labels as 1 (when the digit is 3) and 0 (when the digit is 8)"
   ]
  },
  {
   "cell_type": "code",
   "execution_count": 11,
   "id": "personalized-growing",
   "metadata": {
    "execution": {
     "iopub.execute_input": "2021-07-11T10:05:36.530611Z",
     "iopub.status.busy": "2021-07-11T10:05:36.530072Z",
     "iopub.status.idle": "2021-07-11T10:05:36.541909Z",
     "shell.execute_reply": "2021-07-11T10:05:36.542350Z"
    },
    "papermill": {
     "duration": 0.043041,
     "end_time": "2021-07-11T10:05:36.542479",
     "exception": false,
     "start_time": "2021-07-11T10:05:36.499438",
     "status": "completed"
    },
    "tags": []
   },
   "outputs": [],
   "source": [
    "y_train = 1*(y_train==3)\n",
    "y_test = 1*(y_test==3)"
   ]
  },
  {
   "cell_type": "code",
   "execution_count": 12,
   "id": "considered-virgin",
   "metadata": {
    "execution": {
     "iopub.execute_input": "2021-07-11T10:05:36.614531Z",
     "iopub.status.busy": "2021-07-11T10:05:36.612948Z",
     "iopub.status.idle": "2021-07-11T10:05:36.617620Z",
     "shell.execute_reply": "2021-07-11T10:05:36.616963Z"
    },
    "papermill": {
     "duration": 0.047601,
     "end_time": "2021-07-11T10:05:36.617722",
     "exception": false,
     "start_time": "2021-07-11T10:05:36.570121",
     "status": "completed"
    },
    "tags": []
   },
   "outputs": [
    {
     "data": {
      "text/plain": [
       "((11982, 28, 28), (1984, 28, 28))"
      ]
     },
     "execution_count": 12,
     "metadata": {},
     "output_type": "execute_result"
    }
   ],
   "source": [
    "X_train.shape, X_test.shape"
   ]
  },
  {
   "cell_type": "markdown",
   "id": "civilian-mobile",
   "metadata": {
    "papermill": {
     "duration": 0.027755,
     "end_time": "2021-07-11T10:05:36.673375",
     "exception": false,
     "start_time": "2021-07-11T10:05:36.645620",
     "status": "completed"
    },
    "tags": []
   },
   "source": [
    "### Reshape the input data to create a linear array"
   ]
  },
  {
   "cell_type": "code",
   "execution_count": 13,
   "id": "colonial-adams",
   "metadata": {
    "execution": {
     "iopub.execute_input": "2021-07-11T10:05:36.743875Z",
     "iopub.status.busy": "2021-07-11T10:05:36.743045Z",
     "iopub.status.idle": "2021-07-11T10:05:36.750555Z",
     "shell.execute_reply": "2021-07-11T10:05:36.750122Z"
    },
    "papermill": {
     "duration": 0.049352,
     "end_time": "2021-07-11T10:05:36.750661",
     "exception": false,
     "start_time": "2021-07-11T10:05:36.701309",
     "status": "completed"
    },
    "tags": []
   },
   "outputs": [
    {
     "data": {
      "text/plain": [
       "((11982, 784), (1984, 784))"
      ]
     },
     "execution_count": 13,
     "metadata": {},
     "output_type": "execute_result"
    }
   ],
   "source": [
    "X_train = X_train.reshape(X_train.shape[0], -1)\n",
    "X_test = X_test.reshape(X_test.shape[0], -1)\n",
    "X_train.shape, X_test.shape"
   ]
  },
  {
   "cell_type": "markdown",
   "id": "smart-details",
   "metadata": {
    "papermill": {
     "duration": 0.028115,
     "end_time": "2021-07-11T10:05:36.806841",
     "exception": false,
     "start_time": "2021-07-11T10:05:36.778726",
     "status": "completed"
    },
    "tags": []
   },
   "source": [
    "### Importing appropriate functions from 'Kudzu'"
   ]
  },
  {
   "cell_type": "code",
   "execution_count": 14,
   "id": "celtic-trial",
   "metadata": {
    "execution": {
     "iopub.execute_input": "2021-07-11T10:05:36.879135Z",
     "iopub.status.busy": "2021-07-11T10:05:36.874777Z",
     "iopub.status.idle": "2021-07-11T10:05:36.887216Z",
     "shell.execute_reply": "2021-07-11T10:05:36.887616Z"
    },
    "papermill": {
     "duration": 0.052842,
     "end_time": "2021-07-11T10:05:36.887730",
     "exception": false,
     "start_time": "2021-07-11T10:05:36.834888",
     "status": "completed"
    },
    "tags": []
   },
   "outputs": [],
   "source": [
    "from kudzu.layer import Sigmoid\n",
    "from kudzu.layer import Relu\n",
    "from kudzu.layer import Affine, Sigmoid\n",
    "\n",
    "from kudzu.model import Model\n",
    "from kudzu.train import Learner\n",
    "from kudzu.optim import GD\n",
    "from kudzu.data import Data, Dataloader, Sampler\n",
    "\n",
    "from kudzu.callbacks import AccCallback\n",
    "from kudzu.callbacks import ClfCallback\n",
    "\n",
    "from kudzu.loss import MSE"
   ]
  },
  {
   "cell_type": "markdown",
   "id": "coupled-customer",
   "metadata": {
    "papermill": {
     "duration": 0.028094,
     "end_time": "2021-07-11T10:05:36.943711",
     "exception": false,
     "start_time": "2021-07-11T10:05:36.915617",
     "status": "completed"
    },
    "tags": []
   },
   "source": [
    "### Let us create a `Config` class, to store important parameters. \n",
    "This class essentially plays the role of a dictionary."
   ]
  },
  {
   "cell_type": "code",
   "execution_count": 15,
   "id": "young-ceiling",
   "metadata": {
    "execution": {
     "iopub.execute_input": "2021-07-11T10:05:37.016277Z",
     "iopub.status.busy": "2021-07-11T10:05:37.009648Z",
     "iopub.status.idle": "2021-07-11T10:05:37.019169Z",
     "shell.execute_reply": "2021-07-11T10:05:37.018773Z"
    },
    "papermill": {
     "duration": 0.047543,
     "end_time": "2021-07-11T10:05:37.019271",
     "exception": false,
     "start_time": "2021-07-11T10:05:36.971728",
     "status": "completed"
    },
    "tags": []
   },
   "outputs": [],
   "source": [
    "class Config:\n",
    "    pass\n",
    "config = Config()\n",
    "config.lr = 0.001\n",
    "config.num_epochs = 251\n",
    "config.bs = 50"
   ]
  },
  {
   "cell_type": "markdown",
   "id": "according-mandate",
   "metadata": {
    "papermill": {
     "duration": 0.02803,
     "end_time": "2021-07-11T10:05:37.075231",
     "exception": false,
     "start_time": "2021-07-11T10:05:37.047201",
     "status": "completed"
    },
    "tags": []
   },
   "source": [
    "### Initializing data to the variables"
   ]
  },
  {
   "cell_type": "code",
   "execution_count": 16,
   "id": "academic-disposition",
   "metadata": {
    "execution": {
     "iopub.execute_input": "2021-07-11T10:05:37.136775Z",
     "iopub.status.busy": "2021-07-11T10:05:37.136282Z",
     "iopub.status.idle": "2021-07-11T10:05:37.146866Z",
     "shell.execute_reply": "2021-07-11T10:05:37.146464Z"
    },
    "papermill": {
     "duration": 0.04365,
     "end_time": "2021-07-11T10:05:37.146969",
     "exception": false,
     "start_time": "2021-07-11T10:05:37.103319",
     "status": "completed"
    },
    "tags": []
   },
   "outputs": [],
   "source": [
    "data = Data(X_train, y_train.reshape(-1,1))\n",
    "sampler = Sampler(data, config.bs, shuffle=True)\n",
    "\n",
    "dl = Dataloader(data, sampler)\n",
    "\n",
    "opt = GD(config.lr)\n",
    "loss = MSE()"
   ]
  },
  {
   "cell_type": "code",
   "execution_count": 17,
   "id": "featured-commission",
   "metadata": {
    "execution": {
     "iopub.execute_input": "2021-07-11T10:05:37.207200Z",
     "iopub.status.busy": "2021-07-11T10:05:37.206704Z",
     "iopub.status.idle": "2021-07-11T10:05:37.216529Z",
     "shell.execute_reply": "2021-07-11T10:05:37.216929Z"
    },
    "papermill": {
     "duration": 0.042207,
     "end_time": "2021-07-11T10:05:37.217036",
     "exception": false,
     "start_time": "2021-07-11T10:05:37.174829",
     "status": "completed"
    },
    "tags": []
   },
   "outputs": [],
   "source": [
    "training_xdata = X_train\n",
    "testing_xdata = X_test\n",
    "training_ydata = y_train.reshape(-1,1)\n",
    "testing_ydata = y_test.reshape(-1,1)"
   ]
  },
  {
   "cell_type": "markdown",
   "id": "played-safety",
   "metadata": {
    "papermill": {
     "duration": 0.028011,
     "end_time": "2021-07-11T10:05:37.273179",
     "exception": false,
     "start_time": "2021-07-11T10:05:37.245168",
     "status": "completed"
    },
    "tags": []
   },
   "source": [
    "### Running Models with the Training data\n",
    "Details about the network layers:\n",
    "- A first affine layer has 784 inputs and does 100 affine transforms. These are followed by a Relu\n",
    "- A second affine layer has 100 inputs from the 100 activations of the past layer, and does 100 affine transforms. These are followed by a Relu\n",
    "- A third affine layer has 100 activations and does 2 affine transformations to create an embedding for visualization. There is no non-linearity here.\n",
    "- A final \"logistic regression\" which has an affine transform from 2 inputs to 1 output, which is squeezed through a sigmoid.\n",
    "\n",
    "Help taken from Anshuman's Notebook."
   ]
  },
  {
   "cell_type": "code",
   "execution_count": 18,
   "id": "asian-bankruptcy",
   "metadata": {
    "execution": {
     "iopub.execute_input": "2021-07-11T10:05:37.339617Z",
     "iopub.status.busy": "2021-07-11T10:05:37.339109Z",
     "iopub.status.idle": "2021-07-11T10:05:37.349658Z",
     "shell.execute_reply": "2021-07-11T10:05:37.349240Z"
    },
    "papermill": {
     "duration": 0.048486,
     "end_time": "2021-07-11T10:05:37.349754",
     "exception": false,
     "start_time": "2021-07-11T10:05:37.301268",
     "status": "completed"
    },
    "tags": []
   },
   "outputs": [],
   "source": [
    "# layers for the Neural Network\n",
    "layers = [Affine(\"first\", 784, 100), Relu(\"first\"), Affine(\"second\", 100, 100), Relu(\"second\"), Affine(\"third\", 100, 2), Affine(\"final\", 2, 1), Sigmoid(\"final\")]\n",
    "model_nn = Model(layers)\n",
    "\n",
    "# layers for the Logistic Regression\n",
    "layers_lr = [Affine(\"logits\", 784, 1), Sigmoid(\"sigmoid\")]\n",
    "model_lr = Model(layers_lr)"
   ]
  },
  {
   "cell_type": "code",
   "execution_count": 19,
   "id": "removed-butler",
   "metadata": {
    "execution": {
     "iopub.execute_input": "2021-07-11T10:05:37.410329Z",
     "iopub.status.busy": "2021-07-11T10:05:37.409821Z",
     "iopub.status.idle": "2021-07-11T10:05:37.419781Z",
     "shell.execute_reply": "2021-07-11T10:05:37.420205Z"
    },
    "papermill": {
     "duration": 0.042488,
     "end_time": "2021-07-11T10:05:37.420316",
     "exception": false,
     "start_time": "2021-07-11T10:05:37.377828",
     "status": "completed"
    },
    "tags": []
   },
   "outputs": [],
   "source": [
    "# suffix _nn stands for Neural Network.\n",
    "learner_nn = Learner(loss, model_nn, opt, config.num_epochs)\n",
    "acc_nn = ClfCallback(learner_nn, config.bs, training_xdata , testing_xdata, training_ydata, testing_ydata)\n",
    "learner_nn.set_callbacks([acc_nn])"
   ]
  },
  {
   "cell_type": "code",
   "execution_count": 20,
   "id": "conceptual-throw",
   "metadata": {
    "execution": {
     "iopub.execute_input": "2021-07-11T10:05:37.479716Z",
     "iopub.status.busy": "2021-07-11T10:05:37.479230Z",
     "iopub.status.idle": "2021-07-11T10:06:52.093179Z",
     "shell.execute_reply": "2021-07-11T10:06:52.093873Z"
    },
    "papermill": {
     "duration": 74.645722,
     "end_time": "2021-07-11T10:06:52.094015",
     "exception": false,
     "start_time": "2021-07-11T10:05:37.448293",
     "status": "completed"
    },
    "tags": []
   },
   "outputs": [
    {
     "name": "stdout",
     "output_type": "stream",
     "text": [
      "====== Neural Network ======\n"
     ]
    },
    {
     "name": "stdout",
     "output_type": "stream",
     "text": [
      "Epoch 0, Loss 0.2707\n",
      "Training Accuracy: 0.5336, Testing Accuracy: 0.5307\n",
      "\n"
     ]
    },
    {
     "name": "stdout",
     "output_type": "stream",
     "text": [
      "Epoch 10, Loss 0.0886\n",
      "Training Accuracy: 0.9149, Testing Accuracy: 0.9219\n",
      "\n"
     ]
    },
    {
     "name": "stdout",
     "output_type": "stream",
     "text": [
      "Epoch 20, Loss 0.0528\n",
      "Training Accuracy: 0.9448, Testing Accuracy: 0.9496\n",
      "\n"
     ]
    },
    {
     "name": "stdout",
     "output_type": "stream",
     "text": [
      "Epoch 30, Loss 0.0413\n",
      "Training Accuracy: 0.9552, Testing Accuracy: 0.9612\n",
      "\n"
     ]
    },
    {
     "name": "stdout",
     "output_type": "stream",
     "text": [
      "Epoch 40, Loss 0.0358\n",
      "Training Accuracy: 0.9609, Testing Accuracy: 0.9657\n",
      "\n"
     ]
    },
    {
     "name": "stdout",
     "output_type": "stream",
     "text": [
      "Epoch 50, Loss 0.0324\n",
      "Training Accuracy: 0.9643, Testing Accuracy: 0.9682\n",
      "\n"
     ]
    },
    {
     "name": "stdout",
     "output_type": "stream",
     "text": [
      "Epoch 60, Loss 0.0302\n",
      "Training Accuracy: 0.9671, Testing Accuracy: 0.9688\n",
      "\n"
     ]
    },
    {
     "name": "stdout",
     "output_type": "stream",
     "text": [
      "Epoch 70, Loss 0.0285\n",
      "Training Accuracy: 0.9687, Testing Accuracy: 0.9708\n",
      "\n"
     ]
    },
    {
     "name": "stdout",
     "output_type": "stream",
     "text": [
      "Epoch 80, Loss 0.0271\n",
      "Training Accuracy: 0.9703, Testing Accuracy: 0.9718\n",
      "\n"
     ]
    },
    {
     "name": "stdout",
     "output_type": "stream",
     "text": [
      "Epoch 90, Loss 0.026\n",
      "Training Accuracy: 0.9710, Testing Accuracy: 0.9728\n",
      "\n"
     ]
    },
    {
     "name": "stdout",
     "output_type": "stream",
     "text": [
      "Epoch 100, Loss 0.025\n",
      "Training Accuracy: 0.9721, Testing Accuracy: 0.9728\n",
      "\n"
     ]
    },
    {
     "name": "stdout",
     "output_type": "stream",
     "text": [
      "Epoch 110, Loss 0.0242\n",
      "Training Accuracy: 0.9732, Testing Accuracy: 0.9733\n",
      "\n"
     ]
    },
    {
     "name": "stdout",
     "output_type": "stream",
     "text": [
      "Epoch 120, Loss 0.0234\n",
      "Training Accuracy: 0.9737, Testing Accuracy: 0.9723\n",
      "\n"
     ]
    },
    {
     "name": "stdout",
     "output_type": "stream",
     "text": [
      "Epoch 130, Loss 0.0228\n",
      "Training Accuracy: 0.9745, Testing Accuracy: 0.9723\n",
      "\n"
     ]
    },
    {
     "name": "stdout",
     "output_type": "stream",
     "text": [
      "Epoch 140, Loss 0.0222\n",
      "Training Accuracy: 0.9745, Testing Accuracy: 0.9718\n",
      "\n"
     ]
    },
    {
     "name": "stdout",
     "output_type": "stream",
     "text": [
      "Epoch 150, Loss 0.0216\n",
      "Training Accuracy: 0.9751, Testing Accuracy: 0.9718\n",
      "\n"
     ]
    },
    {
     "name": "stdout",
     "output_type": "stream",
     "text": [
      "Epoch 160, Loss 0.0211\n",
      "Training Accuracy: 0.9759, Testing Accuracy: 0.9728\n",
      "\n"
     ]
    },
    {
     "name": "stdout",
     "output_type": "stream",
     "text": [
      "Epoch 170, Loss 0.0206\n",
      "Training Accuracy: 0.9761, Testing Accuracy: 0.9728\n",
      "\n"
     ]
    },
    {
     "name": "stdout",
     "output_type": "stream",
     "text": [
      "Epoch 180, Loss 0.0201\n",
      "Training Accuracy: 0.9765, Testing Accuracy: 0.9728\n",
      "\n"
     ]
    },
    {
     "name": "stdout",
     "output_type": "stream",
     "text": [
      "Epoch 190, Loss 0.0196\n",
      "Training Accuracy: 0.9774, Testing Accuracy: 0.9733\n",
      "\n"
     ]
    },
    {
     "name": "stdout",
     "output_type": "stream",
     "text": [
      "Epoch 200, Loss 0.0192\n",
      "Training Accuracy: 0.9775, Testing Accuracy: 0.9748\n",
      "\n"
     ]
    },
    {
     "name": "stdout",
     "output_type": "stream",
     "text": [
      "Epoch 210, Loss 0.0188\n",
      "Training Accuracy: 0.9781, Testing Accuracy: 0.9738\n",
      "\n"
     ]
    },
    {
     "name": "stdout",
     "output_type": "stream",
     "text": [
      "Epoch 220, Loss 0.0184\n",
      "Training Accuracy: 0.9786, Testing Accuracy: 0.9748\n",
      "\n"
     ]
    },
    {
     "name": "stdout",
     "output_type": "stream",
     "text": [
      "Epoch 230, Loss 0.018\n",
      "Training Accuracy: 0.9794, Testing Accuracy: 0.9743\n",
      "\n"
     ]
    },
    {
     "name": "stdout",
     "output_type": "stream",
     "text": [
      "Epoch 240, Loss 0.0177\n",
      "Training Accuracy: 0.9803, Testing Accuracy: 0.9743\n",
      "\n"
     ]
    },
    {
     "name": "stdout",
     "output_type": "stream",
     "text": [
      "Epoch 250, Loss 0.0173\n",
      "Training Accuracy: 0.9811, Testing Accuracy: 0.9748\n",
      "\n"
     ]
    },
    {
     "data": {
      "text/plain": [
       "0.06385927251451178"
      ]
     },
     "execution_count": 20,
     "metadata": {},
     "output_type": "execute_result"
    }
   ],
   "source": [
    "print(\"====== Neural Network ======\")\n",
    "learner_nn.train_loop(dl)"
   ]
  },
  {
   "cell_type": "markdown",
   "id": "competent-suffering",
   "metadata": {
    "papermill": {
     "duration": 0.035783,
     "end_time": "2021-07-11T10:06:52.166398",
     "exception": false,
     "start_time": "2021-07-11T10:06:52.130615",
     "status": "completed"
    },
    "tags": []
   },
   "source": [
    "### Logistic Regression based Implementation."
   ]
  },
  {
   "cell_type": "code",
   "execution_count": 21,
   "id": "qualified-psychiatry",
   "metadata": {
    "execution": {
     "iopub.execute_input": "2021-07-11T10:06:52.241917Z",
     "iopub.status.busy": "2021-07-11T10:06:52.241412Z",
     "iopub.status.idle": "2021-07-11T10:06:52.252909Z",
     "shell.execute_reply": "2021-07-11T10:06:52.252505Z"
    },
    "papermill": {
     "duration": 0.04996,
     "end_time": "2021-07-11T10:06:52.253016",
     "exception": false,
     "start_time": "2021-07-11T10:06:52.203056",
     "status": "completed"
    },
    "tags": []
   },
   "outputs": [],
   "source": [
    "learner_lr = Learner(loss, model_lr, opt, config.num_epochs)\n",
    "acc_lr = ClfCallback(learner_lr, config.bs, training_xdata , testing_xdata, training_ydata, testing_ydata)\n",
    "learner_lr.set_callbacks([acc_lr])"
   ]
  },
  {
   "cell_type": "code",
   "execution_count": 22,
   "id": "average-outside",
   "metadata": {
    "execution": {
     "iopub.execute_input": "2021-07-11T10:06:52.339719Z",
     "iopub.status.busy": "2021-07-11T10:06:52.338958Z",
     "iopub.status.idle": "2021-07-11T10:07:05.720361Z",
     "shell.execute_reply": "2021-07-11T10:07:05.720845Z"
    },
    "papermill": {
     "duration": 13.432302,
     "end_time": "2021-07-11T10:07:05.720981",
     "exception": false,
     "start_time": "2021-07-11T10:06:52.288679",
     "status": "completed"
    },
    "tags": []
   },
   "outputs": [
    {
     "name": "stdout",
     "output_type": "stream",
     "text": [
      "====== Logistic Regression ======\n",
      "Epoch 0, Loss 0.26\n",
      "Training Accuracy: 0.6103, Testing Accuracy: 0.5907\n",
      "\n"
     ]
    },
    {
     "name": "stdout",
     "output_type": "stream",
     "text": [
      "Epoch 10, Loss 0.105\n",
      "Training Accuracy: 0.9125, Testing Accuracy: 0.9178\n",
      "\n"
     ]
    },
    {
     "name": "stdout",
     "output_type": "stream",
     "text": [
      "Epoch 20, Loss 0.0803\n",
      "Training Accuracy: 0.9273, Testing Accuracy: 0.9325\n",
      "\n"
     ]
    },
    {
     "name": "stdout",
     "output_type": "stream",
     "text": [
      "Epoch 30, Loss 0.069\n",
      "Training Accuracy: 0.9360, Testing Accuracy: 0.9446\n",
      "\n"
     ]
    },
    {
     "name": "stdout",
     "output_type": "stream",
     "text": [
      "Epoch 40, Loss 0.0623\n",
      "Training Accuracy: 0.9412, Testing Accuracy: 0.9501\n",
      "\n"
     ]
    },
    {
     "name": "stdout",
     "output_type": "stream",
     "text": [
      "Epoch 50, Loss 0.0577\n",
      "Training Accuracy: 0.9436, Testing Accuracy: 0.9541\n",
      "\n"
     ]
    },
    {
     "name": "stdout",
     "output_type": "stream",
     "text": [
      "Epoch 60, Loss 0.0543\n",
      "Training Accuracy: 0.9458, Testing Accuracy: 0.9556\n",
      "\n"
     ]
    },
    {
     "name": "stdout",
     "output_type": "stream",
     "text": [
      "Epoch 70, Loss 0.0517\n",
      "Training Accuracy: 0.9483, Testing Accuracy: 0.9567\n",
      "\n"
     ]
    },
    {
     "name": "stdout",
     "output_type": "stream",
     "text": [
      "Epoch 80, Loss 0.0496\n",
      "Training Accuracy: 0.9498, Testing Accuracy: 0.9572\n",
      "\n"
     ]
    },
    {
     "name": "stdout",
     "output_type": "stream",
     "text": [
      "Epoch 90, Loss 0.0479\n",
      "Training Accuracy: 0.9518, Testing Accuracy: 0.9587\n",
      "\n"
     ]
    },
    {
     "name": "stdout",
     "output_type": "stream",
     "text": [
      "Epoch 100, Loss 0.0464\n",
      "Training Accuracy: 0.9533, Testing Accuracy: 0.9597\n",
      "\n"
     ]
    },
    {
     "name": "stdout",
     "output_type": "stream",
     "text": [
      "Epoch 110, Loss 0.0452\n",
      "Training Accuracy: 0.9544, Testing Accuracy: 0.9597\n",
      "\n"
     ]
    },
    {
     "name": "stdout",
     "output_type": "stream",
     "text": [
      "Epoch 120, Loss 0.0441\n",
      "Training Accuracy: 0.9550, Testing Accuracy: 0.9612\n",
      "\n"
     ]
    },
    {
     "name": "stdout",
     "output_type": "stream",
     "text": [
      "Epoch 130, Loss 0.0431\n",
      "Training Accuracy: 0.9557, Testing Accuracy: 0.9617\n",
      "\n"
     ]
    },
    {
     "name": "stdout",
     "output_type": "stream",
     "text": [
      "Epoch 140, Loss 0.0423\n",
      "Training Accuracy: 0.9564, Testing Accuracy: 0.9627\n",
      "\n"
     ]
    },
    {
     "name": "stdout",
     "output_type": "stream",
     "text": [
      "Epoch 150, Loss 0.0415\n",
      "Training Accuracy: 0.9575, Testing Accuracy: 0.9642\n",
      "\n"
     ]
    },
    {
     "name": "stdout",
     "output_type": "stream",
     "text": [
      "Epoch 160, Loss 0.0408\n",
      "Training Accuracy: 0.9579, Testing Accuracy: 0.9647\n",
      "\n"
     ]
    },
    {
     "name": "stdout",
     "output_type": "stream",
     "text": [
      "Epoch 170, Loss 0.0402\n",
      "Training Accuracy: 0.9584, Testing Accuracy: 0.9647\n",
      "\n"
     ]
    },
    {
     "name": "stdout",
     "output_type": "stream",
     "text": [
      "Epoch 180, Loss 0.0396\n",
      "Training Accuracy: 0.9589, Testing Accuracy: 0.9652\n",
      "\n"
     ]
    },
    {
     "name": "stdout",
     "output_type": "stream",
     "text": [
      "Epoch 190, Loss 0.0391\n",
      "Training Accuracy: 0.9594, Testing Accuracy: 0.9657\n",
      "\n"
     ]
    },
    {
     "name": "stdout",
     "output_type": "stream",
     "text": [
      "Epoch 200, Loss 0.0386\n",
      "Training Accuracy: 0.9599, Testing Accuracy: 0.9662\n",
      "\n"
     ]
    },
    {
     "name": "stdout",
     "output_type": "stream",
     "text": [
      "Epoch 210, Loss 0.0382\n",
      "Training Accuracy: 0.9604, Testing Accuracy: 0.9662\n",
      "\n"
     ]
    },
    {
     "name": "stdout",
     "output_type": "stream",
     "text": [
      "Epoch 220, Loss 0.0377\n",
      "Training Accuracy: 0.9605, Testing Accuracy: 0.9662\n",
      "\n"
     ]
    },
    {
     "name": "stdout",
     "output_type": "stream",
     "text": [
      "Epoch 230, Loss 0.0373\n",
      "Training Accuracy: 0.9609, Testing Accuracy: 0.9667\n",
      "\n"
     ]
    },
    {
     "name": "stdout",
     "output_type": "stream",
     "text": [
      "Epoch 240, Loss 0.037\n",
      "Training Accuracy: 0.9610, Testing Accuracy: 0.9672\n",
      "\n"
     ]
    },
    {
     "name": "stdout",
     "output_type": "stream",
     "text": [
      "Epoch 250, Loss 0.0366\n",
      "Training Accuracy: 0.9612, Testing Accuracy: 0.9677\n",
      "\n"
     ]
    },
    {
     "data": {
      "text/plain": [
       "0.04023133574853706"
      ]
     },
     "execution_count": 22,
     "metadata": {},
     "output_type": "execute_result"
    }
   ],
   "source": [
    "print(\"====== Logistic Regression ======\")\n",
    "learner_lr.train_loop(dl)"
   ]
  },
  {
   "cell_type": "markdown",
   "id": "adjusted-possible",
   "metadata": {
    "papermill": {
     "duration": 0.042102,
     "end_time": "2021-07-11T10:07:05.809337",
     "exception": false,
     "start_time": "2021-07-11T10:07:05.767235",
     "status": "completed"
    },
    "tags": []
   },
   "source": [
    "### Comparing results of NN and LR"
   ]
  },
  {
   "cell_type": "code",
   "execution_count": 23,
   "id": "mental-multimedia",
   "metadata": {
    "execution": {
     "iopub.execute_input": "2021-07-11T10:07:05.903523Z",
     "iopub.status.busy": "2021-07-11T10:07:05.903009Z",
     "iopub.status.idle": "2021-07-11T10:07:06.138412Z",
     "shell.execute_reply": "2021-07-11T10:07:06.138832Z"
    },
    "papermill": {
     "duration": 0.287372,
     "end_time": "2021-07-11T10:07:06.138967",
     "exception": false,
     "start_time": "2021-07-11T10:07:05.851595",
     "status": "completed"
    },
    "tags": []
   },
   "outputs": [
    {
     "data": {
      "text/plain": [
       "<matplotlib.legend.Legend at 0x7f966d839240>"
      ]
     },
     "execution_count": 23,
     "metadata": {},
     "output_type": "execute_result"
    },
    {
     "data": {
      "image/png": "[encoded data removed]",
      "text/plain": [
       "<Figure size 1080x720 with 1 Axes>"
      ]
     },
     "metadata": {
      "needs_background": "light"
     },
     "output_type": "display_data"
    }
   ],
   "source": [
    "plt.figure(figsize=(15,10))\n",
    "\n",
    "# Neural Network plots\n",
    "plt.plot(acc_nn.accuracies, 'r-', label = \"Training Accuracies - NN\")\n",
    "plt.plot(acc_nn.test_accuracies, 'g-', label = \"Testing Accuracies - NN\")\n",
    "\n",
    "# Logistic Regression plots\n",
    "plt.plot(acc_lr.accuracies, 'k-', label = \"Training Accuracies - LR\")\n",
    "plt.plot(acc_lr.test_accuracies, 'b-', label = \"Testing Accuracies - LR\")\n",
    "\n",
    "plt.ylim(0.8, 1)\n",
    "\n",
    "plt.legend()\n",
    "\n"
   ]
  },
  {
   "cell_type": "markdown",
   "id": "sexual-flesh",
   "metadata": {
    "papermill": {
     "duration": 0.043997,
     "end_time": "2021-07-11T10:07:06.227281",
     "exception": false,
     "start_time": "2021-07-11T10:07:06.183284",
     "status": "completed"
    },
    "tags": []
   },
   "source": [
    "### From the plot, we can observe the following:\n",
    "- Neural Network achieves higher accuracy than the Logistic Regression model.\n",
    "- This apparently, is because of overfitting, i.e. NN captures more noise than data.\n",
    "- Testing accuracy of NN drops below the Training accuracy at higher epochs. This explains the over-fitting on training data.\n",
    "- Logistic Regression gives a reliable accuracy, without the above mentioned problem.\n"
   ]
  },
  {
   "cell_type": "markdown",
   "id": "institutional-pacific",
   "metadata": {
    "papermill": {
     "duration": 0.044318,
     "end_time": "2021-07-11T10:07:06.315871",
     "exception": false,
     "start_time": "2021-07-11T10:07:06.271553",
     "status": "completed"
    },
    "tags": []
   },
   "source": [
    "### Moving till the last but one layer (excluding it).\n",
    "#### Plotting the outputs of this layer of the NN."
   ]
  },
  {
   "cell_type": "code",
   "execution_count": 24,
   "id": "economic-server",
   "metadata": {
    "execution": {
     "iopub.execute_input": "2021-07-11T10:07:06.412421Z",
     "iopub.status.busy": "2021-07-11T10:07:06.411543Z",
     "iopub.status.idle": "2021-07-11T10:07:06.420039Z",
     "shell.execute_reply": "2021-07-11T10:07:06.420442Z"
    },
    "papermill": {
     "duration": 0.06073,
     "end_time": "2021-07-11T10:07:06.420561",
     "exception": false,
     "start_time": "2021-07-11T10:07:06.359831",
     "status": "completed"
    },
    "tags": []
   },
   "outputs": [],
   "source": [
    "model_new = Model(layers[:-2])"
   ]
  },
  {
   "cell_type": "code",
   "execution_count": 25,
   "id": "varied-upgrade",
   "metadata": {
    "execution": {
     "iopub.execute_input": "2021-07-11T10:07:06.511403Z",
     "iopub.status.busy": "2021-07-11T10:07:06.510917Z",
     "iopub.status.idle": "2021-07-11T10:07:06.529943Z",
     "shell.execute_reply": "2021-07-11T10:07:06.530394Z"
    },
    "papermill": {
     "duration": 0.066056,
     "end_time": "2021-07-11T10:07:06.530519",
     "exception": false,
     "start_time": "2021-07-11T10:07:06.464463",
     "status": "completed"
    },
    "tags": []
   },
   "outputs": [],
   "source": [
    "plot_testing = model_new(testing_xdata)"
   ]
  },
  {
   "cell_type": "code",
   "execution_count": 26,
   "id": "specific-handling",
   "metadata": {
    "execution": {
     "iopub.execute_input": "2021-07-11T10:07:06.656948Z",
     "iopub.status.busy": "2021-07-11T10:07:06.656450Z",
     "iopub.status.idle": "2021-07-11T10:07:06.856309Z",
     "shell.execute_reply": "2021-07-11T10:07:06.856772Z"
    },
    "papermill": {
     "duration": 0.248905,
     "end_time": "2021-07-11T10:07:06.856923",
     "exception": false,
     "start_time": "2021-07-11T10:07:06.608018",
     "status": "completed"
    },
    "tags": []
   },
   "outputs": [
    {
     "data": {
      "text/plain": [
       "Text(0.5, 1.0, 'Outputs')"
      ]
     },
     "execution_count": 26,
     "metadata": {},
     "output_type": "execute_result"
    },
    {
     "data": {
      "image/png": "[encoded data removed]",
      "text/plain": [
       "<Figure size 576x504 with 1 Axes>"
      ]
     },
     "metadata": {
      "needs_background": "light"
     },
     "output_type": "display_data"
    }
   ],
   "source": [
    "plt.figure(figsize=(8,7))\n",
    "plt.scatter(plot_testing[:,0], plot_testing[:,1], alpha = 0.1, c = y_test.ravel());\n",
    "plt.title('Outputs')"
   ]
  },
  {
   "cell_type": "markdown",
   "id": "described-knowing",
   "metadata": {
    "papermill": {
     "duration": 0.046155,
     "end_time": "2021-07-11T10:07:06.950090",
     "exception": false,
     "start_time": "2021-07-11T10:07:06.903935",
     "status": "completed"
    },
    "tags": []
   },
   "source": [
    "### Plotting probability contours"
   ]
  },
  {
   "cell_type": "code",
   "execution_count": 27,
   "id": "needed-growing",
   "metadata": {
    "execution": {
     "iopub.execute_input": "2021-07-11T10:07:07.047642Z",
     "iopub.status.busy": "2021-07-11T10:07:07.047141Z",
     "iopub.status.idle": "2021-07-11T10:07:07.057983Z",
     "shell.execute_reply": "2021-07-11T10:07:07.057561Z"
    },
    "papermill": {
     "duration": 0.0617,
     "end_time": "2021-07-11T10:07:07.058088",
     "exception": false,
     "start_time": "2021-07-11T10:07:06.996388",
     "status": "completed"
    },
    "tags": []
   },
   "outputs": [],
   "source": [
    "model_prob = Model(layers[-2:]) "
   ]
  },
  {
   "cell_type": "code",
   "execution_count": 28,
   "id": "introductory-enforcement",
   "metadata": {
    "execution": {
     "iopub.execute_input": "2021-07-11T10:07:07.169828Z",
     "iopub.status.busy": "2021-07-11T10:07:07.169327Z",
     "iopub.status.idle": "2021-07-11T10:07:07.177149Z",
     "shell.execute_reply": "2021-07-11T10:07:07.176288Z"
    },
    "papermill": {
     "duration": 0.072905,
     "end_time": "2021-07-11T10:07:07.177256",
     "exception": false,
     "start_time": "2021-07-11T10:07:07.104351",
     "status": "completed"
    },
    "tags": []
   },
   "outputs": [],
   "source": [
    "# Adjust the x and y ranges according to the above generated plot.\n",
    "x_range = np.linspace(-4, 1, 100) \n",
    "y_range = np.linspace(-6, 6, 100) \n",
    "x_grid, y_grid = np.meshgrid(x_range, y_range) # x_grid and y_grig are of size 100 X 100\n",
    "\n",
    "# converting x_grid and y_grid to continuous arrays\n",
    "x_grid_flat = np.ravel(x_grid)\n",
    "y_grid_flat = np.ravel(y_grid)\n",
    "\n",
    "# The last layer of the current model takes two columns as input. Hence transpose of np.vstack() is required.\n",
    "X = np.vstack((x_grid_flat, y_grid_flat)).T\n",
    "\n",
    "# x_grid and y_grid are of size 100 x 100\n",
    "probability_contour = model_prob(X).reshape(100,100) "
   ]
  },
  {
   "cell_type": "code",
   "execution_count": 29,
   "id": "understood-landing",
   "metadata": {
    "execution": {
     "iopub.execute_input": "2021-07-11T10:07:07.275670Z",
     "iopub.status.busy": "2021-07-11T10:07:07.275095Z",
     "iopub.status.idle": "2021-07-11T10:07:07.527573Z",
     "shell.execute_reply": "2021-07-11T10:07:07.527124Z"
    },
    "papermill": {
     "duration": 0.304134,
     "end_time": "2021-07-11T10:07:07.527691",
     "exception": false,
     "start_time": "2021-07-11T10:07:07.223557",
     "status": "completed"
    },
    "tags": []
   },
   "outputs": [
    {
     "data": {
      "image/png": "[encoded data removed]",
      "text/plain": [
       "<Figure size 720x648 with 1 Axes>"
      ]
     },
     "metadata": {
      "needs_background": "light"
     },
     "output_type": "display_data"
    }
   ],
   "source": [
    "plt.figure(figsize=(10,9))\n",
    "plt.scatter(plot_testing[:,0], plot_testing[:,1], alpha = 0.1, c = y_test.ravel())\n",
    "contours = plt.contour(x_grid,y_grid,probability_contour)\n",
    "plt.title('Probability Contours')\n",
    "plt.clabel(contours, inline = True );"
   ]
  }
 ],
 "metadata": {
  "kernelspec": {
   "display_name": "Python 3",
   "language": "python",
   "name": "python3"
  },
  "language_info": {
   "codemirror_mode": {
    "name": "ipython",
    "version": 3
   },
   "file_extension": ".py",
   "mimetype": "text/x-python",
   "name": "python",
   "nbconvert_exporter": "python",
   "pygments_lexer": "ipython3",
   "version": "3.6.13"
  },
  "papermill": {
   "duration": 119.913013,
   "end_time": "2021-07-11T10:07:07.884359",
   "environment_variables": {},
   "exception": null,
   "input_path": "2020-08-11-NeuralNetwork.ipynb",
   "output_path": "2020-08-11-NeuralNetwork.ipynb",
   "parameters": {},
   "start_time": "2021-07-11T10:05:07.971346",
   "version": "2.1.2"
  }
 },
 "nbformat": 4,
 "nbformat_minor": 5
}