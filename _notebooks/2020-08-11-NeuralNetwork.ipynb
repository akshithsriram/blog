{
 "cells": [
  {
   "cell_type": "markdown",
   "id": "fitted-suggestion",
   "metadata": {
    "papermill": {
     "duration": 0.029214,
     "end_time": "2021-05-22T10:07:31.367078",
     "exception": false,
     "start_time": "2021-05-22T10:07:31.337864",
     "status": "completed"
    },
    "tags": []
   },
   "source": [
    "# \"A Basic Neural Network: Differentiate Hand-Written Digits\"\n",
    "\n",
    "- badges: true\n",
    "- author: Akshith Sriram"
   ]
  },
  {
   "cell_type": "markdown",
   "id": "signal-flexibility",
   "metadata": {
    "papermill": {
     "duration": 0.025727,
     "end_time": "2021-05-22T10:07:31.419298",
     "exception": false,
     "start_time": "2021-05-22T10:07:31.393571",
     "status": "completed"
    },
    "tags": []
   },
   "source": [
    "### Key Objectives:\n",
    "- Building a neural network that differentiates two hand-written digits 3 and 8.\n",
    "- Comparing the results of this Neural Network (NN) to that of a Logistic Regression (LR) model.\n",
    "\n",
    "### Requirements:\n",
    "- 'Kudzu' : A neural network library that was designed during our course by [Univ.AI](www.univ.ai). \n",
    "- MNIST Database\n",
    "\n",
    "If MNIST is not installed, use the command `!pip install mnist` given below.\n",
    "It can be run both from the command line and Jupyter Notebook."
   ]
  },
  {
   "cell_type": "code",
   "execution_count": 1,
   "id": "british-texture",
   "metadata": {
    "execution": {
     "iopub.execute_input": "2021-05-22T10:07:31.482617Z",
     "iopub.status.busy": "2021-05-22T10:07:31.482067Z",
     "iopub.status.idle": "2021-05-22T10:07:32.939509Z",
     "shell.execute_reply": "2021-05-22T10:07:32.939017Z"
    },
    "papermill": {
     "duration": 1.494119,
     "end_time": "2021-05-22T10:07:32.939648",
     "exception": false,
     "start_time": "2021-05-22T10:07:31.445529",
     "status": "completed"
    },
    "tags": []
   },
   "outputs": [
    {
     "name": "stdout",
     "output_type": "stream",
     "text": [
      "Collecting mnist\r\n"
     ]
    },
    {
     "name": "stdout",
     "output_type": "stream",
     "text": [
      "  Downloading mnist-0.2.2-py2.py3-none-any.whl (3.5 kB)\r\n",
      "Requirement already satisfied: numpy in /opt/hostedtoolcache/Python/3.6.13/x64/lib/python3.6/site-packages (from mnist) (1.19.5)\r\n"
     ]
    },
    {
     "name": "stdout",
     "output_type": "stream",
     "text": [
      "Installing collected packages: mnist\r\n",
      "Successfully installed mnist-0.2.2\r\n"
     ]
    }
   ],
   "source": [
    "!pip install mnist "
   ]
  },
  {
   "cell_type": "markdown",
   "id": "stunning-extra",
   "metadata": {
    "papermill": {
     "duration": 0.027392,
     "end_time": "2021-05-22T10:07:32.991846",
     "exception": false,
     "start_time": "2021-05-22T10:07:32.964454",
     "status": "completed"
    },
    "tags": []
   },
   "source": [
    "#### Importing necessary libraries"
   ]
  },
  {
   "cell_type": "code",
   "execution_count": 2,
   "id": "wooden-france",
   "metadata": {
    "execution": {
     "iopub.execute_input": "2021-05-22T10:07:33.052808Z",
     "iopub.status.busy": "2021-05-22T10:07:33.052255Z",
     "iopub.status.idle": "2021-05-22T10:07:33.598313Z",
     "shell.execute_reply": "2021-05-22T10:07:33.598808Z"
    },
    "papermill": {
     "duration": 0.581226,
     "end_time": "2021-05-22T10:07:33.598974",
     "exception": false,
     "start_time": "2021-05-22T10:07:33.017748",
     "status": "completed"
    },
    "tags": []
   },
   "outputs": [],
   "source": [
    "%load_ext autoreload\n",
    "%autoreload 2\n",
    "\n",
    "%matplotlib inline\n",
    "import matplotlib.pyplot as plt\n",
    "\n",
    "import numpy as np\n",
    "import pandas as pd"
   ]
  },
  {
   "cell_type": "markdown",
   "id": "stunning-physics",
   "metadata": {
    "papermill": {
     "duration": 0.026441,
     "end_time": "2021-05-22T10:07:33.652406",
     "exception": false,
     "start_time": "2021-05-22T10:07:33.625965",
     "status": "completed"
    },
    "tags": []
   },
   "source": [
    "### Preparing the Data"
   ]
  },
  {
   "cell_type": "code",
   "execution_count": 3,
   "id": "unauthorized-remainder",
   "metadata": {
    "execution": {
     "iopub.execute_input": "2021-05-22T10:07:33.709593Z",
     "iopub.status.busy": "2021-05-22T10:07:33.708976Z",
     "iopub.status.idle": "2021-05-22T10:07:33.716800Z",
     "shell.execute_reply": "2021-05-22T10:07:33.716250Z"
    },
    "papermill": {
     "duration": 0.039435,
     "end_time": "2021-05-22T10:07:33.716923",
     "exception": false,
     "start_time": "2021-05-22T10:07:33.677488",
     "status": "completed"
    },
    "tags": []
   },
   "outputs": [],
   "source": [
    "import mnist"
   ]
  },
  {
   "cell_type": "code",
   "execution_count": 4,
   "id": "correct-antarctica",
   "metadata": {
    "execution": {
     "iopub.execute_input": "2021-05-22T10:07:33.773806Z",
     "iopub.status.busy": "2021-05-22T10:07:33.773241Z",
     "iopub.status.idle": "2021-05-22T10:11:53.233944Z",
     "shell.execute_reply": "2021-05-22T10:11:53.233348Z"
    },
    "papermill": {
     "duration": 259.490655,
     "end_time": "2021-05-22T10:11:53.234098",
     "exception": false,
     "start_time": "2021-05-22T10:07:33.743443",
     "status": "completed"
    },
    "tags": []
   },
   "outputs": [],
   "source": [
    "train_images = mnist.train_images()\n",
    "train_labels = mnist.train_labels()"
   ]
  },
  {
   "cell_type": "code",
   "execution_count": 5,
   "id": "musical-prospect",
   "metadata": {
    "execution": {
     "iopub.execute_input": "2021-05-22T10:11:53.290721Z",
     "iopub.status.busy": "2021-05-22T10:11:53.290247Z",
     "iopub.status.idle": "2021-05-22T10:11:53.307590Z",
     "shell.execute_reply": "2021-05-22T10:11:53.307177Z"
    },
    "papermill": {
     "duration": 0.046871,
     "end_time": "2021-05-22T10:11:53.307721",
     "exception": false,
     "start_time": "2021-05-22T10:11:53.260850",
     "status": "completed"
    },
    "tags": []
   },
   "outputs": [
    {
     "data": {
      "text/plain": [
       "((60000, 28, 28), (60000,))"
      ]
     },
     "execution_count": 5,
     "metadata": {},
     "output_type": "execute_result"
    }
   ],
   "source": [
    "train_images.shape, train_labels.shape"
   ]
  },
  {
   "cell_type": "code",
   "execution_count": 6,
   "id": "preliminary-elizabeth",
   "metadata": {
    "execution": {
     "iopub.execute_input": "2021-05-22T10:11:53.364361Z",
     "iopub.status.busy": "2021-05-22T10:11:53.363840Z",
     "iopub.status.idle": "2021-05-22T10:12:45.052474Z",
     "shell.execute_reply": "2021-05-22T10:12:45.053855Z"
    },
    "papermill": {
     "duration": 51.720765,
     "end_time": "2021-05-22T10:12:45.054104",
     "exception": false,
     "start_time": "2021-05-22T10:11:53.333339",
     "status": "completed"
    },
    "tags": []
   },
   "outputs": [],
   "source": [
    "test_images = mnist.test_images()\n",
    "test_labels = mnist.test_labels()"
   ]
  },
  {
   "cell_type": "code",
   "execution_count": 7,
   "id": "acknowledged-oxygen",
   "metadata": {
    "execution": {
     "iopub.execute_input": "2021-05-22T10:12:45.116151Z",
     "iopub.status.busy": "2021-05-22T10:12:45.115432Z",
     "iopub.status.idle": "2021-05-22T10:12:45.128988Z",
     "shell.execute_reply": "2021-05-22T10:12:45.128523Z"
    },
    "papermill": {
     "duration": 0.044409,
     "end_time": "2021-05-22T10:12:45.129091",
     "exception": false,
     "start_time": "2021-05-22T10:12:45.084682",
     "status": "completed"
    },
    "tags": []
   },
   "outputs": [
    {
     "data": {
      "text/plain": [
       "((10000, 28, 28), (10000,))"
      ]
     },
     "execution_count": 7,
     "metadata": {},
     "output_type": "execute_result"
    }
   ],
   "source": [
    "test_images.shape, test_labels.shape"
   ]
  },
  {
   "cell_type": "code",
   "execution_count": 8,
   "id": "innovative-organic",
   "metadata": {
    "execution": {
     "iopub.execute_input": "2021-05-22T10:12:45.186053Z",
     "iopub.status.busy": "2021-05-22T10:12:45.185648Z",
     "iopub.status.idle": "2021-05-22T10:12:45.315480Z",
     "shell.execute_reply": "2021-05-22T10:12:45.315927Z"
    },
    "papermill": {
     "duration": 0.160772,
     "end_time": "2021-05-22T10:12:45.316073",
     "exception": false,
     "start_time": "2021-05-22T10:12:45.155301",
     "status": "completed"
    },
    "tags": []
   },
   "outputs": [
    {
     "name": "stdout",
     "output_type": "stream",
     "text": [
      "2\n"
     ]
    },
    {
     "data": {
      "text/plain": [
       "<matplotlib.image.AxesImage at 0x7f29368ab3c8>"
      ]
     },
     "execution_count": 8,
     "metadata": {},
     "output_type": "execute_result"
    },
    {
     "data": {
      "image/png": "[encoded data removed]",
      "text/plain": [
       "<Figure size 432x288 with 1 Axes>"
      ]
     },
     "metadata": {
      "needs_background": "light"
     },
     "output_type": "display_data"
    }
   ],
   "source": [
    "image_index = 7776 # You may select anything up to 60,000\n",
    "print(train_labels[image_index]) \n",
    "plt.imshow(train_images[image_index], cmap='Greys')"
   ]
  },
  {
   "cell_type": "markdown",
   "id": "facial-modem",
   "metadata": {
    "papermill": {
     "duration": 0.027288,
     "end_time": "2021-05-22T10:12:45.370060",
     "exception": false,
     "start_time": "2021-05-22T10:12:45.342772",
     "status": "completed"
    },
    "tags": []
   },
   "source": [
    "## Filter data to get 3 and 8 out"
   ]
  },
  {
   "cell_type": "code",
   "execution_count": 9,
   "id": "thousand-acquisition",
   "metadata": {
    "execution": {
     "iopub.execute_input": "2021-05-22T10:12:45.431498Z",
     "iopub.status.busy": "2021-05-22T10:12:45.431003Z",
     "iopub.status.idle": "2021-05-22T10:12:45.447364Z",
     "shell.execute_reply": "2021-05-22T10:12:45.446872Z"
    },
    "papermill": {
     "duration": 0.050278,
     "end_time": "2021-05-22T10:12:45.447479",
     "exception": false,
     "start_time": "2021-05-22T10:12:45.397201",
     "status": "completed"
    },
    "tags": []
   },
   "outputs": [],
   "source": [
    "train_filter = np.where((train_labels == 3 ) | (train_labels == 8))\n",
    "test_filter = np.where((test_labels == 3) | (test_labels == 8))\n",
    "X_train, y_train = train_images[train_filter], train_labels[train_filter]\n",
    "X_test, y_test = test_images[test_filter], test_labels[test_filter]"
   ]
  },
  {
   "cell_type": "markdown",
   "id": "ruled-access",
   "metadata": {
    "papermill": {
     "duration": 0.027203,
     "end_time": "2021-05-22T10:12:45.502229",
     "exception": false,
     "start_time": "2021-05-22T10:12:45.475026",
     "status": "completed"
    },
    "tags": []
   },
   "source": [
    "We normalize the pixel values in the 0 to 1 range"
   ]
  },
  {
   "cell_type": "code",
   "execution_count": 10,
   "id": "isolated-denver",
   "metadata": {
    "execution": {
     "iopub.execute_input": "2021-05-22T10:12:45.565393Z",
     "iopub.status.busy": "2021-05-22T10:12:45.564802Z",
     "iopub.status.idle": "2021-05-22T10:12:45.613273Z",
     "shell.execute_reply": "2021-05-22T10:12:45.613690Z"
    },
    "papermill": {
     "duration": 0.084221,
     "end_time": "2021-05-22T10:12:45.613831",
     "exception": false,
     "start_time": "2021-05-22T10:12:45.529610",
     "status": "completed"
    },
    "tags": []
   },
   "outputs": [],
   "source": [
    "X_train = X_train/255.\n",
    "X_test = X_test/255."
   ]
  },
  {
   "cell_type": "markdown",
   "id": "perfect-summary",
   "metadata": {
    "papermill": {
     "duration": 0.029833,
     "end_time": "2021-05-22T10:12:45.673431",
     "exception": false,
     "start_time": "2021-05-22T10:12:45.643598",
     "status": "completed"
    },
    "tags": []
   },
   "source": [
    "Setup the labels as 1 (when the digit is 3) and 0 (when the digit is 8)"
   ]
  },
  {
   "cell_type": "code",
   "execution_count": 11,
   "id": "personalized-growing",
   "metadata": {
    "execution": {
     "iopub.execute_input": "2021-05-22T10:12:45.738002Z",
     "iopub.status.busy": "2021-05-22T10:12:45.737419Z",
     "iopub.status.idle": "2021-05-22T10:12:45.748774Z",
     "shell.execute_reply": "2021-05-22T10:12:45.749221Z"
    },
    "papermill": {
     "duration": 0.046381,
     "end_time": "2021-05-22T10:12:45.749334",
     "exception": false,
     "start_time": "2021-05-22T10:12:45.702953",
     "status": "completed"
    },
    "tags": []
   },
   "outputs": [],
   "source": [
    "y_train = 1*(y_train==3)\n",
    "y_test = 1*(y_test==3)"
   ]
  },
  {
   "cell_type": "code",
   "execution_count": 12,
   "id": "considered-virgin",
   "metadata": {
    "execution": {
     "iopub.execute_input": "2021-05-22T10:12:45.807054Z",
     "iopub.status.busy": "2021-05-22T10:12:45.806521Z",
     "iopub.status.idle": "2021-05-22T10:12:45.819457Z",
     "shell.execute_reply": "2021-05-22T10:12:45.819863Z"
    },
    "papermill": {
     "duration": 0.044946,
     "end_time": "2021-05-22T10:12:45.819986",
     "exception": false,
     "start_time": "2021-05-22T10:12:45.775040",
     "status": "completed"
    },
    "tags": []
   },
   "outputs": [
    {
     "data": {
      "text/plain": [
       "((11982, 28, 28), (1984, 28, 28))"
      ]
     },
     "execution_count": 12,
     "metadata": {},
     "output_type": "execute_result"
    }
   ],
   "source": [
    "X_train.shape, X_test.shape"
   ]
  },
  {
   "cell_type": "markdown",
   "id": "civilian-mobile",
   "metadata": {
    "papermill": {
     "duration": 0.030284,
     "end_time": "2021-05-22T10:12:45.880223",
     "exception": false,
     "start_time": "2021-05-22T10:12:45.849939",
     "status": "completed"
    },
    "tags": []
   },
   "source": [
    "### Reshape the input data to create a linear array"
   ]
  },
  {
   "cell_type": "code",
   "execution_count": 13,
   "id": "colonial-adams",
   "metadata": {
    "execution": {
     "iopub.execute_input": "2021-05-22T10:12:45.941916Z",
     "iopub.status.busy": "2021-05-22T10:12:45.941380Z",
     "iopub.status.idle": "2021-05-22T10:12:45.956690Z",
     "shell.execute_reply": "2021-05-22T10:12:45.957172Z"
    },
    "papermill": {
     "duration": 0.048222,
     "end_time": "2021-05-22T10:12:45.957300",
     "exception": false,
     "start_time": "2021-05-22T10:12:45.909078",
     "status": "completed"
    },
    "tags": []
   },
   "outputs": [
    {
     "data": {
      "text/plain": [
       "((11982, 784), (1984, 784))"
      ]
     },
     "execution_count": 13,
     "metadata": {},
     "output_type": "execute_result"
    }
   ],
   "source": [
    "X_train = X_train.reshape(X_train.shape[0], -1)\n",
    "X_test = X_test.reshape(X_test.shape[0], -1)\n",
    "X_train.shape, X_test.shape"
   ]
  },
  {
   "cell_type": "markdown",
   "id": "smart-details",
   "metadata": {
    "papermill": {
     "duration": 0.030257,
     "end_time": "2021-05-22T10:12:46.017554",
     "exception": false,
     "start_time": "2021-05-22T10:12:45.987297",
     "status": "completed"
    },
    "tags": []
   },
   "source": [
    "### Importing appropriate functions from 'Kudzu'"
   ]
  },
  {
   "cell_type": "code",
   "execution_count": 14,
   "id": "celtic-trial",
   "metadata": {
    "execution": {
     "iopub.execute_input": "2021-05-22T10:12:46.086334Z",
     "iopub.status.busy": "2021-05-22T10:12:46.085750Z",
     "iopub.status.idle": "2021-05-22T10:12:46.104900Z",
     "shell.execute_reply": "2021-05-22T10:12:46.104398Z"
    },
    "papermill": {
     "duration": 0.056491,
     "end_time": "2021-05-22T10:12:46.105029",
     "exception": false,
     "start_time": "2021-05-22T10:12:46.048538",
     "status": "completed"
    },
    "tags": []
   },
   "outputs": [],
   "source": [
    "from kudzu.layer import Sigmoid\n",
    "from kudzu.layer import Relu\n",
    "from kudzu.layer import Affine, Sigmoid\n",
    "\n",
    "from kudzu.model import Model\n",
    "from kudzu.train import Learner\n",
    "from kudzu.optim import GD\n",
    "from kudzu.data import Data, Dataloader, Sampler\n",
    "\n",
    "from kudzu.callbacks import AccCallback\n",
    "from kudzu.callbacks import ClfCallback\n",
    "\n",
    "from kudzu.loss import MSE"
   ]
  },
  {
   "cell_type": "markdown",
   "id": "coupled-customer",
   "metadata": {
    "papermill": {
     "duration": 0.032246,
     "end_time": "2021-05-22T10:12:46.168949",
     "exception": false,
     "start_time": "2021-05-22T10:12:46.136703",
     "status": "completed"
    },
    "tags": []
   },
   "source": [
    "### Let us create a `Config` class, to store important parameters. \n",
    "This class essentially plays the role of a dictionary."
   ]
  },
  {
   "cell_type": "code",
   "execution_count": 15,
   "id": "young-ceiling",
   "metadata": {
    "execution": {
     "iopub.execute_input": "2021-05-22T10:12:46.234182Z",
     "iopub.status.busy": "2021-05-22T10:12:46.233607Z",
     "iopub.status.idle": "2021-05-22T10:12:46.245436Z",
     "shell.execute_reply": "2021-05-22T10:12:46.245819Z"
    },
    "papermill": {
     "duration": 0.044816,
     "end_time": "2021-05-22T10:12:46.245927",
     "exception": false,
     "start_time": "2021-05-22T10:12:46.201111",
     "status": "completed"
    },
    "tags": []
   },
   "outputs": [],
   "source": [
    "class Config:\n",
    "    pass\n",
    "config = Config()\n",
    "config.lr = 0.001\n",
    "config.num_epochs = 251\n",
    "config.bs = 50"
   ]
  },
  {
   "cell_type": "markdown",
   "id": "according-mandate",
   "metadata": {
    "papermill": {
     "duration": 0.028616,
     "end_time": "2021-05-22T10:12:46.300722",
     "exception": false,
     "start_time": "2021-05-22T10:12:46.272106",
     "status": "completed"
    },
    "tags": []
   },
   "source": [
    "### Initializing data to the variables"
   ]
  },
  {
   "cell_type": "code",
   "execution_count": 16,
   "id": "academic-disposition",
   "metadata": {
    "execution": {
     "iopub.execute_input": "2021-05-22T10:12:46.362837Z",
     "iopub.status.busy": "2021-05-22T10:12:46.362318Z",
     "iopub.status.idle": "2021-05-22T10:12:46.374569Z",
     "shell.execute_reply": "2021-05-22T10:12:46.374103Z"
    },
    "papermill": {
     "duration": 0.044973,
     "end_time": "2021-05-22T10:12:46.374675",
     "exception": false,
     "start_time": "2021-05-22T10:12:46.329702",
     "status": "completed"
    },
    "tags": []
   },
   "outputs": [],
   "source": [
    "data = Data(X_train, y_train.reshape(-1,1))\n",
    "sampler = Sampler(data, config.bs, shuffle=True)\n",
    "\n",
    "dl = Dataloader(data, sampler)\n",
    "\n",
    "opt = GD(config.lr)\n",
    "loss = MSE()"
   ]
  },
  {
   "cell_type": "code",
   "execution_count": 17,
   "id": "featured-commission",
   "metadata": {
    "execution": {
     "iopub.execute_input": "2021-05-22T10:12:46.434286Z",
     "iopub.status.busy": "2021-05-22T10:12:46.433697Z",
     "iopub.status.idle": "2021-05-22T10:12:46.449497Z",
     "shell.execute_reply": "2021-05-22T10:12:46.448585Z"
    },
    "papermill": {
     "duration": 0.047096,
     "end_time": "2021-05-22T10:12:46.449686",
     "exception": false,
     "start_time": "2021-05-22T10:12:46.402590",
     "status": "completed"
    },
    "tags": []
   },
   "outputs": [],
   "source": [
    "training_xdata = X_train\n",
    "testing_xdata = X_test\n",
    "training_ydata = y_train.reshape(-1,1)\n",
    "testing_ydata = y_test.reshape(-1,1)"
   ]
  },
  {
   "cell_type": "markdown",
   "id": "played-safety",
   "metadata": {
    "papermill": {
     "duration": 0.028466,
     "end_time": "2021-05-22T10:12:46.508022",
     "exception": false,
     "start_time": "2021-05-22T10:12:46.479556",
     "status": "completed"
    },
    "tags": []
   },
   "source": [
    "### Running Models with the Training data\n",
    "Details about the network layers:\n",
    "- A first affine layer has 784 inputs and does 100 affine transforms. These are followed by a Relu\n",
    "- A second affine layer has 100 inputs from the 100 activations of the past layer, and does 100 affine transforms. These are followed by a Relu\n",
    "- A third affine layer has 100 activations and does 2 affine transformations to create an embedding for visualization. There is no non-linearity here.\n",
    "- A final \"logistic regression\" which has an affine transform from 2 inputs to 1 output, which is squeezed through a sigmoid.\n",
    "\n",
    "Help taken from Anshuman's Notebook."
   ]
  },
  {
   "cell_type": "code",
   "execution_count": 18,
   "id": "asian-bankruptcy",
   "metadata": {
    "execution": {
     "iopub.execute_input": "2021-05-22T10:12:46.567329Z",
     "iopub.status.busy": "2021-05-22T10:12:46.566848Z",
     "iopub.status.idle": "2021-05-22T10:12:46.580926Z",
     "shell.execute_reply": "2021-05-22T10:12:46.580465Z"
    },
    "papermill": {
     "duration": 0.046281,
     "end_time": "2021-05-22T10:12:46.581034",
     "exception": false,
     "start_time": "2021-05-22T10:12:46.534753",
     "status": "completed"
    },
    "tags": []
   },
   "outputs": [],
   "source": [
    "# layers for the Neural Network\n",
    "layers = [Affine(\"first\", 784, 100), Relu(\"first\"), Affine(\"second\", 100, 100), Relu(\"second\"), Affine(\"third\", 100, 2), Affine(\"final\", 2, 1), Sigmoid(\"final\")]\n",
    "model_nn = Model(layers)\n",
    "\n",
    "# layers for the Logistic Regression\n",
    "layers_lr = [Affine(\"logits\", 784, 1), Sigmoid(\"sigmoid\")]\n",
    "model_lr = Model(layers_lr)"
   ]
  },
  {
   "cell_type": "code",
   "execution_count": 19,
   "id": "removed-butler",
   "metadata": {
    "execution": {
     "iopub.execute_input": "2021-05-22T10:12:46.645382Z",
     "iopub.status.busy": "2021-05-22T10:12:46.644852Z",
     "iopub.status.idle": "2021-05-22T10:12:46.656238Z",
     "shell.execute_reply": "2021-05-22T10:12:46.655723Z"
    },
    "papermill": {
     "duration": 0.046468,
     "end_time": "2021-05-22T10:12:46.656447",
     "exception": false,
     "start_time": "2021-05-22T10:12:46.609979",
     "status": "completed"
    },
    "tags": []
   },
   "outputs": [],
   "source": [
    "# suffix _nn stands for Neural Network.\n",
    "learner_nn = Learner(loss, model_nn, opt, config.num_epochs)\n",
    "acc_nn = ClfCallback(learner_nn, config.bs, training_xdata , testing_xdata, training_ydata, testing_ydata)\n",
    "learner_nn.set_callbacks([acc_nn])"
   ]
  },
  {
   "cell_type": "code",
   "execution_count": 20,
   "id": "conceptual-throw",
   "metadata": {
    "execution": {
     "iopub.execute_input": "2021-05-22T10:12:46.717806Z",
     "iopub.status.busy": "2021-05-22T10:12:46.717222Z",
     "iopub.status.idle": "2021-05-22T10:14:09.768096Z",
     "shell.execute_reply": "2021-05-22T10:14:09.768672Z"
    },
    "papermill": {
     "duration": 83.085695,
     "end_time": "2021-05-22T10:14:09.768823",
     "exception": false,
     "start_time": "2021-05-22T10:12:46.683128",
     "status": "completed"
    },
    "tags": []
   },
   "outputs": [
    {
     "name": "stdout",
     "output_type": "stream",
     "text": [
      "====== Neural Network ======\n"
     ]
    },
    {
     "name": "stdout",
     "output_type": "stream",
     "text": [
      "Epoch 0, Loss 0.2272\n",
      "Training Accuracy: 0.7991, Testing Accuracy: 0.8196\n",
      "\n"
     ]
    },
    {
     "name": "stdout",
     "output_type": "stream",
     "text": [
      "Epoch 10, Loss 0.0517\n",
      "Training Accuracy: 0.9453, Testing Accuracy: 0.9561\n",
      "\n"
     ]
    },
    {
     "name": "stdout",
     "output_type": "stream",
     "text": [
      "Epoch 20, Loss 0.0377\n",
      "Training Accuracy: 0.9585, Testing Accuracy: 0.9672\n",
      "\n"
     ]
    },
    {
     "name": "stdout",
     "output_type": "stream",
     "text": [
      "Epoch 30, Loss 0.0321\n",
      "Training Accuracy: 0.9640, Testing Accuracy: 0.9693\n",
      "\n"
     ]
    },
    {
     "name": "stdout",
     "output_type": "stream",
     "text": [
      "Epoch 40, Loss 0.0289\n",
      "Training Accuracy: 0.9680, Testing Accuracy: 0.9698\n",
      "\n"
     ]
    },
    {
     "name": "stdout",
     "output_type": "stream",
     "text": [
      "Epoch 50, Loss 0.0268\n",
      "Training Accuracy: 0.9705, Testing Accuracy: 0.9688\n",
      "\n"
     ]
    },
    {
     "name": "stdout",
     "output_type": "stream",
     "text": [
      "Epoch 60, Loss 0.0251\n",
      "Training Accuracy: 0.9718, Testing Accuracy: 0.9708\n",
      "\n"
     ]
    },
    {
     "name": "stdout",
     "output_type": "stream",
     "text": [
      "Epoch 70, Loss 0.0238\n",
      "Training Accuracy: 0.9733, Testing Accuracy: 0.9718\n",
      "\n"
     ]
    },
    {
     "name": "stdout",
     "output_type": "stream",
     "text": [
      "Epoch 80, Loss 0.0227\n",
      "Training Accuracy: 0.9745, Testing Accuracy: 0.9728\n",
      "\n"
     ]
    },
    {
     "name": "stdout",
     "output_type": "stream",
     "text": [
      "Epoch 90, Loss 0.0218\n",
      "Training Accuracy: 0.9760, Testing Accuracy: 0.9728\n",
      "\n"
     ]
    },
    {
     "name": "stdout",
     "output_type": "stream",
     "text": [
      "Epoch 100, Loss 0.0209\n",
      "Training Accuracy: 0.9770, Testing Accuracy: 0.9728\n",
      "\n"
     ]
    },
    {
     "name": "stdout",
     "output_type": "stream",
     "text": [
      "Epoch 110, Loss 0.0202\n",
      "Training Accuracy: 0.9778, Testing Accuracy: 0.9743\n",
      "\n"
     ]
    },
    {
     "name": "stdout",
     "output_type": "stream",
     "text": [
      "Epoch 120, Loss 0.0195\n",
      "Training Accuracy: 0.9786, Testing Accuracy: 0.9753\n",
      "\n"
     ]
    },
    {
     "name": "stdout",
     "output_type": "stream",
     "text": [
      "Epoch 130, Loss 0.0188\n",
      "Training Accuracy: 0.9791, Testing Accuracy: 0.9758\n",
      "\n"
     ]
    },
    {
     "name": "stdout",
     "output_type": "stream",
     "text": [
      "Epoch 140, Loss 0.0182\n",
      "Training Accuracy: 0.9804, Testing Accuracy: 0.9763\n",
      "\n"
     ]
    },
    {
     "name": "stdout",
     "output_type": "stream",
     "text": [
      "Epoch 150, Loss 0.0176\n",
      "Training Accuracy: 0.9820, Testing Accuracy: 0.9763\n",
      "\n"
     ]
    },
    {
     "name": "stdout",
     "output_type": "stream",
     "text": [
      "Epoch 160, Loss 0.0171\n",
      "Training Accuracy: 0.9822, Testing Accuracy: 0.9778\n",
      "\n"
     ]
    },
    {
     "name": "stdout",
     "output_type": "stream",
     "text": [
      "Epoch 170, Loss 0.0166\n",
      "Training Accuracy: 0.9827, Testing Accuracy: 0.9788\n",
      "\n"
     ]
    },
    {
     "name": "stdout",
     "output_type": "stream",
     "text": [
      "Epoch 180, Loss 0.0161\n",
      "Training Accuracy: 0.9833, Testing Accuracy: 0.9788\n",
      "\n"
     ]
    },
    {
     "name": "stdout",
     "output_type": "stream",
     "text": [
      "Epoch 190, Loss 0.0156\n",
      "Training Accuracy: 0.9836, Testing Accuracy: 0.9793\n",
      "\n"
     ]
    },
    {
     "name": "stdout",
     "output_type": "stream",
     "text": [
      "Epoch 200, Loss 0.0151\n",
      "Training Accuracy: 0.9843, Testing Accuracy: 0.9793\n",
      "\n"
     ]
    },
    {
     "name": "stdout",
     "output_type": "stream",
     "text": [
      "Epoch 210, Loss 0.0147\n",
      "Training Accuracy: 0.9849, Testing Accuracy: 0.9793\n",
      "\n"
     ]
    },
    {
     "name": "stdout",
     "output_type": "stream",
     "text": [
      "Epoch 220, Loss 0.0142\n",
      "Training Accuracy: 0.9856, Testing Accuracy: 0.9798\n",
      "\n"
     ]
    },
    {
     "name": "stdout",
     "output_type": "stream",
     "text": [
      "Epoch 230, Loss 0.0138\n",
      "Training Accuracy: 0.9861, Testing Accuracy: 0.9798\n",
      "\n"
     ]
    },
    {
     "name": "stdout",
     "output_type": "stream",
     "text": [
      "Epoch 240, Loss 0.0134\n",
      "Training Accuracy: 0.9867, Testing Accuracy: 0.9803\n",
      "\n"
     ]
    },
    {
     "name": "stdout",
     "output_type": "stream",
     "text": [
      "Epoch 250, Loss 0.013\n",
      "Training Accuracy: 0.9870, Testing Accuracy: 0.9803\n",
      "\n"
     ]
    },
    {
     "data": {
      "text/plain": [
       "0.0014353267657656174"
      ]
     },
     "execution_count": 20,
     "metadata": {},
     "output_type": "execute_result"
    }
   ],
   "source": [
    "print(\"====== Neural Network ======\")\n",
    "learner_nn.train_loop(dl)"
   ]
  },
  {
   "cell_type": "markdown",
   "id": "competent-suffering",
   "metadata": {
    "papermill": {
     "duration": 0.033905,
     "end_time": "2021-05-22T10:14:09.840673",
     "exception": false,
     "start_time": "2021-05-22T10:14:09.806768",
     "status": "completed"
    },
    "tags": []
   },
   "source": [
    "### Logistic Regression based Implementation."
   ]
  },
  {
   "cell_type": "code",
   "execution_count": 21,
   "id": "qualified-psychiatry",
   "metadata": {
    "execution": {
     "iopub.execute_input": "2021-05-22T10:14:09.917210Z",
     "iopub.status.busy": "2021-05-22T10:14:09.916683Z",
     "iopub.status.idle": "2021-05-22T10:14:09.927720Z",
     "shell.execute_reply": "2021-05-22T10:14:09.927292Z"
    },
    "papermill": {
     "duration": 0.050848,
     "end_time": "2021-05-22T10:14:09.927831",
     "exception": false,
     "start_time": "2021-05-22T10:14:09.876983",
     "status": "completed"
    },
    "tags": []
   },
   "outputs": [],
   "source": [
    "learner_lr = Learner(loss, model_lr, opt, config.num_epochs)\n",
    "acc_lr = ClfCallback(learner_lr, config.bs, training_xdata , testing_xdata, training_ydata, testing_ydata)\n",
    "learner_lr.set_callbacks([acc_lr])"
   ]
  },
  {
   "cell_type": "code",
   "execution_count": 22,
   "id": "average-outside",
   "metadata": {
    "execution": {
     "iopub.execute_input": "2021-05-22T10:14:10.002441Z",
     "iopub.status.busy": "2021-05-22T10:14:10.001961Z",
     "iopub.status.idle": "2021-05-22T10:14:24.337756Z",
     "shell.execute_reply": "2021-05-22T10:14:24.338406Z"
    },
    "papermill": {
     "duration": 14.377101,
     "end_time": "2021-05-22T10:14:24.338570",
     "exception": false,
     "start_time": "2021-05-22T10:14:09.961469",
     "status": "completed"
    },
    "tags": []
   },
   "outputs": [
    {
     "name": "stdout",
     "output_type": "stream",
     "text": [
      "====== Logistic Regression ======\n",
      "Epoch 0, Loss 0.2507\n",
      "Training Accuracy: 0.6503, Testing Accuracy: 0.6749\n",
      "\n"
     ]
    },
    {
     "name": "stdout",
     "output_type": "stream",
     "text": [
      "Epoch 10, Loss 0.1011\n",
      "Training Accuracy: 0.9169, Testing Accuracy: 0.9254\n",
      "\n"
     ]
    },
    {
     "name": "stdout",
     "output_type": "stream",
     "text": [
      "Epoch 20, Loss 0.0783\n",
      "Training Accuracy: 0.9308, Testing Accuracy: 0.9410\n",
      "\n"
     ]
    },
    {
     "name": "stdout",
     "output_type": "stream",
     "text": [
      "Epoch 30, Loss 0.0677\n",
      "Training Accuracy: 0.9377, Testing Accuracy: 0.9491\n",
      "\n"
     ]
    },
    {
     "name": "stdout",
     "output_type": "stream",
     "text": [
      "Epoch 40, Loss 0.0612\n",
      "Training Accuracy: 0.9422, Testing Accuracy: 0.9531\n",
      "\n"
     ]
    },
    {
     "name": "stdout",
     "output_type": "stream",
     "text": [
      "Epoch 50, Loss 0.0568\n",
      "Training Accuracy: 0.9452, Testing Accuracy: 0.9556\n",
      "\n"
     ]
    },
    {
     "name": "stdout",
     "output_type": "stream",
     "text": [
      "Epoch 60, Loss 0.0535\n",
      "Training Accuracy: 0.9470, Testing Accuracy: 0.9592\n",
      "\n"
     ]
    },
    {
     "name": "stdout",
     "output_type": "stream",
     "text": [
      "Epoch 70, Loss 0.051\n",
      "Training Accuracy: 0.9492, Testing Accuracy: 0.9597\n",
      "\n"
     ]
    },
    {
     "name": "stdout",
     "output_type": "stream",
     "text": [
      "Epoch 80, Loss 0.049\n",
      "Training Accuracy: 0.9512, Testing Accuracy: 0.9602\n",
      "\n"
     ]
    },
    {
     "name": "stdout",
     "output_type": "stream",
     "text": [
      "Epoch 90, Loss 0.0473\n",
      "Training Accuracy: 0.9523, Testing Accuracy: 0.9607\n",
      "\n"
     ]
    },
    {
     "name": "stdout",
     "output_type": "stream",
     "text": [
      "Epoch 100, Loss 0.0459\n",
      "Training Accuracy: 0.9538, Testing Accuracy: 0.9622\n",
      "\n"
     ]
    },
    {
     "name": "stdout",
     "output_type": "stream",
     "text": [
      "Epoch 110, Loss 0.0447\n",
      "Training Accuracy: 0.9547, Testing Accuracy: 0.9642\n",
      "\n"
     ]
    },
    {
     "name": "stdout",
     "output_type": "stream",
     "text": [
      "Epoch 120, Loss 0.0437\n",
      "Training Accuracy: 0.9552, Testing Accuracy: 0.9652\n",
      "\n"
     ]
    },
    {
     "name": "stdout",
     "output_type": "stream",
     "text": [
      "Epoch 130, Loss 0.0428\n",
      "Training Accuracy: 0.9555, Testing Accuracy: 0.9657\n",
      "\n"
     ]
    },
    {
     "name": "stdout",
     "output_type": "stream",
     "text": [
      "Epoch 140, Loss 0.0419\n",
      "Training Accuracy: 0.9563, Testing Accuracy: 0.9662\n",
      "\n"
     ]
    },
    {
     "name": "stdout",
     "output_type": "stream",
     "text": [
      "Epoch 150, Loss 0.0412\n",
      "Training Accuracy: 0.9569, Testing Accuracy: 0.9662\n",
      "\n"
     ]
    },
    {
     "name": "stdout",
     "output_type": "stream",
     "text": [
      "Epoch 160, Loss 0.0405\n",
      "Training Accuracy: 0.9572, Testing Accuracy: 0.9662\n",
      "\n"
     ]
    },
    {
     "name": "stdout",
     "output_type": "stream",
     "text": [
      "Epoch 170, Loss 0.0399\n",
      "Training Accuracy: 0.9575, Testing Accuracy: 0.9662\n",
      "\n"
     ]
    },
    {
     "name": "stdout",
     "output_type": "stream",
     "text": [
      "Epoch 180, Loss 0.0394\n",
      "Training Accuracy: 0.9580, Testing Accuracy: 0.9657\n",
      "\n"
     ]
    },
    {
     "name": "stdout",
     "output_type": "stream",
     "text": [
      "Epoch 190, Loss 0.0389\n",
      "Training Accuracy: 0.9586, Testing Accuracy: 0.9657\n",
      "\n"
     ]
    },
    {
     "name": "stdout",
     "output_type": "stream",
     "text": [
      "Epoch 200, Loss 0.0384\n",
      "Training Accuracy: 0.9588, Testing Accuracy: 0.9657\n",
      "\n"
     ]
    },
    {
     "name": "stdout",
     "output_type": "stream",
     "text": [
      "Epoch 210, Loss 0.038\n",
      "Training Accuracy: 0.9592, Testing Accuracy: 0.9662\n",
      "\n"
     ]
    },
    {
     "name": "stdout",
     "output_type": "stream",
     "text": [
      "Epoch 220, Loss 0.0376\n",
      "Training Accuracy: 0.9598, Testing Accuracy: 0.9662\n",
      "\n"
     ]
    },
    {
     "name": "stdout",
     "output_type": "stream",
     "text": [
      "Epoch 230, Loss 0.0372\n",
      "Training Accuracy: 0.9599, Testing Accuracy: 0.9667\n",
      "\n"
     ]
    },
    {
     "name": "stdout",
     "output_type": "stream",
     "text": [
      "Epoch 240, Loss 0.0368\n",
      "Training Accuracy: 0.9600, Testing Accuracy: 0.9677\n",
      "\n"
     ]
    },
    {
     "name": "stdout",
     "output_type": "stream",
     "text": [
      "Epoch 250, Loss 0.0365\n",
      "Training Accuracy: 0.9604, Testing Accuracy: 0.9677\n",
      "\n"
     ]
    },
    {
     "data": {
      "text/plain": [
       "0.01707877567167227"
      ]
     },
     "execution_count": 22,
     "metadata": {},
     "output_type": "execute_result"
    }
   ],
   "source": [
    "print(\"====== Logistic Regression ======\")\n",
    "learner_lr.train_loop(dl)"
   ]
  },
  {
   "cell_type": "markdown",
   "id": "adjusted-possible",
   "metadata": {
    "papermill": {
     "duration": 0.04083,
     "end_time": "2021-05-22T10:14:24.423829",
     "exception": false,
     "start_time": "2021-05-22T10:14:24.382999",
     "status": "completed"
    },
    "tags": []
   },
   "source": [
    "### Comparing results of NN and LR"
   ]
  },
  {
   "cell_type": "code",
   "execution_count": 23,
   "id": "mental-multimedia",
   "metadata": {
    "execution": {
     "iopub.execute_input": "2021-05-22T10:14:24.512881Z",
     "iopub.status.busy": "2021-05-22T10:14:24.512447Z",
     "iopub.status.idle": "2021-05-22T10:14:24.726761Z",
     "shell.execute_reply": "2021-05-22T10:14:24.727244Z"
    },
    "papermill": {
     "duration": 0.260809,
     "end_time": "2021-05-22T10:14:24.727589",
     "exception": false,
     "start_time": "2021-05-22T10:14:24.466780",
     "status": "completed"
    },
    "tags": []
   },
   "outputs": [
    {
     "data": {
      "text/plain": [
       "<matplotlib.legend.Legend at 0x7f2929082160>"
      ]
     },
     "execution_count": 23,
     "metadata": {},
     "output_type": "execute_result"
    },
    {
     "data": {
      "image/png": "[encoded data removed]",
      "text/plain": [
       "<Figure size 1080x720 with 1 Axes>"
      ]
     },
     "metadata": {
      "needs_background": "light"
     },
     "output_type": "display_data"
    }
   ],
   "source": [
    "plt.figure(figsize=(15,10))\n",
    "\n",
    "# Neural Network plots\n",
    "plt.plot(acc_nn.accuracies, 'r-', label = \"Training Accuracies - NN\")\n",
    "plt.plot(acc_nn.test_accuracies, 'g-', label = \"Testing Accuracies - NN\")\n",
    "\n",
    "# Logistic Regression plots\n",
    "plt.plot(acc_lr.accuracies, 'k-', label = \"Training Accuracies - LR\")\n",
    "plt.plot(acc_lr.test_accuracies, 'b-', label = \"Testing Accuracies - LR\")\n",
    "\n",
    "plt.ylim(0.8, 1)\n",
    "\n",
    "plt.legend()\n",
    "\n"
   ]
  },
  {
   "cell_type": "markdown",
   "id": "sexual-flesh",
   "metadata": {
    "papermill": {
     "duration": 0.043525,
     "end_time": "2021-05-22T10:14:24.815509",
     "exception": false,
     "start_time": "2021-05-22T10:14:24.771984",
     "status": "completed"
    },
    "tags": []
   },
   "source": [
    "### From the plot, we can observe the following:\n",
    "- Neural Network achieves higher accuracy than the Logistic Regression model.\n",
    "- This apparently, is because of overfitting, i.e. NN captures more noise than data.\n",
    "- Testing accuracy of NN drops below the Training accuracy at higher epochs. This explains the over-fitting on training data.\n",
    "- Logistic Regression gives a reliable accuracy, without the above mentioned problem.\n"
   ]
  },
  {
   "cell_type": "markdown",
   "id": "institutional-pacific",
   "metadata": {
    "papermill": {
     "duration": 0.040874,
     "end_time": "2021-05-22T10:14:24.896760",
     "exception": false,
     "start_time": "2021-05-22T10:14:24.855886",
     "status": "completed"
    },
    "tags": []
   },
   "source": [
    "### Moving till the last but one layer (excluding it).\n",
    "#### Plotting the outputs of this layer of the NN."
   ]
  },
  {
   "cell_type": "code",
   "execution_count": 24,
   "id": "economic-server",
   "metadata": {
    "execution": {
     "iopub.execute_input": "2021-05-22T10:14:24.985046Z",
     "iopub.status.busy": "2021-05-22T10:14:24.984628Z",
     "iopub.status.idle": "2021-05-22T10:14:24.998558Z",
     "shell.execute_reply": "2021-05-22T10:14:24.998067Z"
    },
    "papermill": {
     "duration": 0.060913,
     "end_time": "2021-05-22T10:14:24.998672",
     "exception": false,
     "start_time": "2021-05-22T10:14:24.937759",
     "status": "completed"
    },
    "tags": []
   },
   "outputs": [],
   "source": [
    "model_new = Model(layers[:-2])"
   ]
  },
  {
   "cell_type": "code",
   "execution_count": 25,
   "id": "varied-upgrade",
   "metadata": {
    "execution": {
     "iopub.execute_input": "2021-05-22T10:14:25.124921Z",
     "iopub.status.busy": "2021-05-22T10:14:25.118216Z",
     "iopub.status.idle": "2021-05-22T10:14:25.136317Z",
     "shell.execute_reply": "2021-05-22T10:14:25.136703Z"
    },
    "papermill": {
     "duration": 0.09717,
     "end_time": "2021-05-22T10:14:25.136819",
     "exception": false,
     "start_time": "2021-05-22T10:14:25.039649",
     "status": "completed"
    },
    "tags": []
   },
   "outputs": [],
   "source": [
    "plot_testing = model_new(testing_xdata)"
   ]
  },
  {
   "cell_type": "code",
   "execution_count": 26,
   "id": "specific-handling",
   "metadata": {
    "execution": {
     "iopub.execute_input": "2021-05-22T10:14:25.241377Z",
     "iopub.status.busy": "2021-05-22T10:14:25.240906Z",
     "iopub.status.idle": "2021-05-22T10:14:25.414070Z",
     "shell.execute_reply": "2021-05-22T10:14:25.413489Z"
    },
    "papermill": {
     "duration": 0.230507,
     "end_time": "2021-05-22T10:14:25.414211",
     "exception": false,
     "start_time": "2021-05-22T10:14:25.183704",
     "status": "completed"
    },
    "tags": []
   },
   "outputs": [
    {
     "data": {
      "text/plain": [
       "Text(0.5, 1.0, 'Outputs')"
      ]
     },
     "execution_count": 26,
     "metadata": {},
     "output_type": "execute_result"
    },
    {
     "data": {
      "image/png": "[encoded data removed]",
      "text/plain": [
       "<Figure size 576x504 with 1 Axes>"
      ]
     },
     "metadata": {
      "needs_background": "light"
     },
     "output_type": "display_data"
    }
   ],
   "source": [
    "plt.figure(figsize=(8,7))\n",
    "plt.scatter(plot_testing[:,0], plot_testing[:,1], alpha = 0.1, c = y_test.ravel());\n",
    "plt.title('Outputs')"
   ]
  },
  {
   "cell_type": "markdown",
   "id": "described-knowing",
   "metadata": {
    "papermill": {
     "duration": 0.04714,
     "end_time": "2021-05-22T10:14:25.514344",
     "exception": false,
     "start_time": "2021-05-22T10:14:25.467204",
     "status": "completed"
    },
    "tags": []
   },
   "source": [
    "### Plotting probability contours"
   ]
  },
  {
   "cell_type": "code",
   "execution_count": 27,
   "id": "needed-growing",
   "metadata": {
    "execution": {
     "iopub.execute_input": "2021-05-22T10:14:25.607205Z",
     "iopub.status.busy": "2021-05-22T10:14:25.606602Z",
     "iopub.status.idle": "2021-05-22T10:14:25.618556Z",
     "shell.execute_reply": "2021-05-22T10:14:25.618102Z"
    },
    "papermill": {
     "duration": 0.060119,
     "end_time": "2021-05-22T10:14:25.618670",
     "exception": false,
     "start_time": "2021-05-22T10:14:25.558551",
     "status": "completed"
    },
    "tags": []
   },
   "outputs": [],
   "source": [
    "model_prob = Model(layers[-2:]) "
   ]
  },
  {
   "cell_type": "code",
   "execution_count": 28,
   "id": "introductory-enforcement",
   "metadata": {
    "execution": {
     "iopub.execute_input": "2021-05-22T10:14:25.715324Z",
     "iopub.status.busy": "2021-05-22T10:14:25.714899Z",
     "iopub.status.idle": "2021-05-22T10:14:25.727499Z",
     "shell.execute_reply": "2021-05-22T10:14:25.727929Z"
    },
    "papermill": {
     "duration": 0.061719,
     "end_time": "2021-05-22T10:14:25.728051",
     "exception": false,
     "start_time": "2021-05-22T10:14:25.666332",
     "status": "completed"
    },
    "tags": []
   },
   "outputs": [],
   "source": [
    "# Adjust the x and y ranges according to the above generated plot.\n",
    "x_range = np.linspace(-4, 1, 100) \n",
    "y_range = np.linspace(-6, 6, 100) \n",
    "x_grid, y_grid = np.meshgrid(x_range, y_range) # x_grid and y_grig are of size 100 X 100\n",
    "\n",
    "# converting x_grid and y_grid to continuous arrays\n",
    "x_grid_flat = np.ravel(x_grid)\n",
    "y_grid_flat = np.ravel(y_grid)\n",
    "\n",
    "# The last layer of the current model takes two columns as input. Hence transpose of np.vstack() is required.\n",
    "X = np.vstack((x_grid_flat, y_grid_flat)).T\n",
    "\n",
    "# x_grid and y_grid are of size 100 x 100\n",
    "probability_contour = model_prob(X).reshape(100,100) "
   ]
  },
  {
   "cell_type": "code",
   "execution_count": 29,
   "id": "understood-landing",
   "metadata": {
    "execution": {
     "iopub.execute_input": "2021-05-22T10:14:25.835391Z",
     "iopub.status.busy": "2021-05-22T10:14:25.834822Z",
     "iopub.status.idle": "2021-05-22T10:14:26.046838Z",
     "shell.execute_reply": "2021-05-22T10:14:26.046316Z"
    },
    "papermill": {
     "duration": 0.269787,
     "end_time": "2021-05-22T10:14:26.046962",
     "exception": false,
     "start_time": "2021-05-22T10:14:25.777175",
     "status": "completed"
    },
    "tags": []
   },
   "outputs": [
    {
     "data": {
      "image/png": "[encoded data removed]",
      "text/plain": [
       "<Figure size 720x648 with 1 Axes>"
      ]
     },
     "metadata": {
      "needs_background": "light"
     },
     "output_type": "display_data"
    }
   ],
   "source": [
    "plt.figure(figsize=(10,9))\n",
    "plt.scatter(plot_testing[:,0], plot_testing[:,1], alpha = 0.1, c = y_test.ravel())\n",
    "contours = plt.contour(x_grid,y_grid,probability_contour)\n",
    "plt.title('Probability Contours')\n",
    "plt.clabel(contours, inline = True );"
   ]
  }
 ],
 "metadata": {
  "kernelspec": {
   "display_name": "Python 3",
   "language": "python",
   "name": "python3"
  },
  "language_info": {
   "codemirror_mode": {
    "name": "ipython",
    "version": 3
   },
   "file_extension": ".py",
   "mimetype": "text/x-python",
   "name": "python",
   "nbconvert_exporter": "python",
   "pygments_lexer": "ipython3",
   "version": "3.6.13"
  },
  "papermill": {
   "duration": 416.133822,
   "end_time": "2021-05-22T10:14:26.410707",
   "environment_variables": {},
   "exception": null,
   "input_path": "2020-08-11-NeuralNetwork.ipynb",
   "output_path": "2020-08-11-NeuralNetwork.ipynb",
   "parameters": {},
   "start_time": "2021-05-22T10:07:30.276885",
   "version": "2.1.2"
  }
 },
 "nbformat": 4,
 "nbformat_minor": 5
}