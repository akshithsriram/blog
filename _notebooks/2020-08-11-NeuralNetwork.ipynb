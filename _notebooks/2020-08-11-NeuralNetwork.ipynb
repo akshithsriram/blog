{
 "cells": [
  {
   "cell_type": "markdown",
   "id": "fitted-suggestion",
   "metadata": {
    "papermill": {
     "duration": 0.037451,
     "end_time": "2021-06-05T10:35:03.802130",
     "exception": false,
     "start_time": "2021-06-05T10:35:03.764679",
     "status": "completed"
    },
    "tags": []
   },
   "source": [
    "# \"A Basic Neural Network: Differentiate Hand-Written Digits\"\n",
    "\n",
    "- badges: true\n",
    "- author: Akshith Sriram"
   ]
  },
  {
   "cell_type": "markdown",
   "id": "signal-flexibility",
   "metadata": {
    "papermill": {
     "duration": 0.030647,
     "end_time": "2021-06-05T10:35:03.864238",
     "exception": false,
     "start_time": "2021-06-05T10:35:03.833591",
     "status": "completed"
    },
    "tags": []
   },
   "source": [
    "### Key Objectives:\n",
    "- Building a neural network that differentiates two hand-written digits 3 and 8.\n",
    "- Comparing the results of this Neural Network (NN) to that of a Logistic Regression (LR) model.\n",
    "\n",
    "### Requirements:\n",
    "- 'Kudzu' : A neural network library that was designed during our course by [Univ.AI](www.univ.ai). \n",
    "- MNIST Database\n",
    "\n",
    "If MNIST is not installed, use the command `!pip install mnist` given below.\n",
    "It can be run both from the command line and Jupyter Notebook."
   ]
  },
  {
   "cell_type": "code",
   "execution_count": 1,
   "id": "british-texture",
   "metadata": {
    "execution": {
     "iopub.execute_input": "2021-06-05T10:35:03.935019Z",
     "iopub.status.busy": "2021-06-05T10:35:03.934345Z",
     "iopub.status.idle": "2021-06-05T10:35:05.514027Z",
     "shell.execute_reply": "2021-06-05T10:35:05.513131Z"
    },
    "papermill": {
     "duration": 1.620911,
     "end_time": "2021-06-05T10:35:05.514242",
     "exception": false,
     "start_time": "2021-06-05T10:35:03.893331",
     "status": "completed"
    },
    "tags": []
   },
   "outputs": [
    {
     "name": "stdout",
     "output_type": "stream",
     "text": [
      "Collecting mnist\r\n"
     ]
    },
    {
     "name": "stdout",
     "output_type": "stream",
     "text": [
      "  Downloading mnist-0.2.2-py2.py3-none-any.whl (3.5 kB)\r\n",
      "Requirement already satisfied: numpy in /opt/hostedtoolcache/Python/3.6.13/x64/lib/python3.6/site-packages (from mnist) (1.19.5)\r\n"
     ]
    },
    {
     "name": "stdout",
     "output_type": "stream",
     "text": [
      "Installing collected packages: mnist\r\n"
     ]
    },
    {
     "name": "stdout",
     "output_type": "stream",
     "text": [
      "Successfully installed mnist-0.2.2\r\n"
     ]
    }
   ],
   "source": [
    "!pip install mnist "
   ]
  },
  {
   "cell_type": "markdown",
   "id": "stunning-extra",
   "metadata": {
    "papermill": {
     "duration": 0.031216,
     "end_time": "2021-06-05T10:35:05.576195",
     "exception": false,
     "start_time": "2021-06-05T10:35:05.544979",
     "status": "completed"
    },
    "tags": []
   },
   "source": [
    "#### Importing necessary libraries"
   ]
  },
  {
   "cell_type": "code",
   "execution_count": 2,
   "id": "wooden-france",
   "metadata": {
    "execution": {
     "iopub.execute_input": "2021-06-05T10:35:05.647164Z",
     "iopub.status.busy": "2021-06-05T10:35:05.646581Z",
     "iopub.status.idle": "2021-06-05T10:35:06.198763Z",
     "shell.execute_reply": "2021-06-05T10:35:06.197947Z"
    },
    "papermill": {
     "duration": 0.590687,
     "end_time": "2021-06-05T10:35:06.198922",
     "exception": false,
     "start_time": "2021-06-05T10:35:05.608235",
     "status": "completed"
    },
    "tags": []
   },
   "outputs": [],
   "source": [
    "%load_ext autoreload\n",
    "%autoreload 2\n",
    "\n",
    "%matplotlib inline\n",
    "import matplotlib.pyplot as plt\n",
    "\n",
    "import numpy as np\n",
    "import pandas as pd"
   ]
  },
  {
   "cell_type": "markdown",
   "id": "stunning-physics",
   "metadata": {
    "papermill": {
     "duration": 0.030173,
     "end_time": "2021-06-05T10:35:06.262341",
     "exception": false,
     "start_time": "2021-06-05T10:35:06.232168",
     "status": "completed"
    },
    "tags": []
   },
   "source": [
    "### Preparing the Data"
   ]
  },
  {
   "cell_type": "code",
   "execution_count": 3,
   "id": "unauthorized-remainder",
   "metadata": {
    "execution": {
     "iopub.execute_input": "2021-06-05T10:35:06.331901Z",
     "iopub.status.busy": "2021-06-05T10:35:06.330704Z",
     "iopub.status.idle": "2021-06-05T10:35:06.342378Z",
     "shell.execute_reply": "2021-06-05T10:35:06.341880Z"
    },
    "papermill": {
     "duration": 0.048143,
     "end_time": "2021-06-05T10:35:06.342486",
     "exception": false,
     "start_time": "2021-06-05T10:35:06.294343",
     "status": "completed"
    },
    "tags": []
   },
   "outputs": [],
   "source": [
    "import mnist"
   ]
  },
  {
   "cell_type": "code",
   "execution_count": 4,
   "id": "correct-antarctica",
   "metadata": {
    "execution": {
     "iopub.execute_input": "2021-06-05T10:35:06.409659Z",
     "iopub.status.busy": "2021-06-05T10:35:06.409044Z",
     "iopub.status.idle": "2021-06-05T10:35:41.430735Z",
     "shell.execute_reply": "2021-06-05T10:35:41.430101Z"
    },
    "papermill": {
     "duration": 35.056172,
     "end_time": "2021-06-05T10:35:41.430910",
     "exception": false,
     "start_time": "2021-06-05T10:35:06.374738",
     "status": "completed"
    },
    "tags": []
   },
   "outputs": [],
   "source": [
    "train_images = mnist.train_images()\n",
    "train_labels = mnist.train_labels()"
   ]
  },
  {
   "cell_type": "code",
   "execution_count": 5,
   "id": "musical-prospect",
   "metadata": {
    "execution": {
     "iopub.execute_input": "2021-06-05T10:35:41.500876Z",
     "iopub.status.busy": "2021-06-05T10:35:41.500159Z",
     "iopub.status.idle": "2021-06-05T10:35:41.515237Z",
     "shell.execute_reply": "2021-06-05T10:35:41.515699Z"
    },
    "papermill": {
     "duration": 0.050527,
     "end_time": "2021-06-05T10:35:41.515827",
     "exception": false,
     "start_time": "2021-06-05T10:35:41.465300",
     "status": "completed"
    },
    "tags": []
   },
   "outputs": [
    {
     "data": {
      "text/plain": [
       "((60000, 28, 28), (60000,))"
      ]
     },
     "execution_count": 5,
     "metadata": {},
     "output_type": "execute_result"
    }
   ],
   "source": [
    "train_images.shape, train_labels.shape"
   ]
  },
  {
   "cell_type": "code",
   "execution_count": 6,
   "id": "preliminary-elizabeth",
   "metadata": {
    "execution": {
     "iopub.execute_input": "2021-06-05T10:35:41.587411Z",
     "iopub.status.busy": "2021-06-05T10:35:41.586846Z",
     "iopub.status.idle": "2021-06-05T10:35:48.230790Z",
     "shell.execute_reply": "2021-06-05T10:35:48.230187Z"
    },
    "papermill": {
     "duration": 6.681818,
     "end_time": "2021-06-05T10:35:48.230915",
     "exception": false,
     "start_time": "2021-06-05T10:35:41.549097",
     "status": "completed"
    },
    "tags": []
   },
   "outputs": [],
   "source": [
    "test_images = mnist.test_images()\n",
    "test_labels = mnist.test_labels()"
   ]
  },
  {
   "cell_type": "code",
   "execution_count": 7,
   "id": "acknowledged-oxygen",
   "metadata": {
    "execution": {
     "iopub.execute_input": "2021-06-05T10:35:48.306926Z",
     "iopub.status.busy": "2021-06-05T10:35:48.306381Z",
     "iopub.status.idle": "2021-06-05T10:35:48.315999Z",
     "shell.execute_reply": "2021-06-05T10:35:48.316580Z"
    },
    "papermill": {
     "duration": 0.052455,
     "end_time": "2021-06-05T10:35:48.316728",
     "exception": false,
     "start_time": "2021-06-05T10:35:48.264273",
     "status": "completed"
    },
    "tags": []
   },
   "outputs": [
    {
     "data": {
      "text/plain": [
       "((10000, 28, 28), (10000,))"
      ]
     },
     "execution_count": 7,
     "metadata": {},
     "output_type": "execute_result"
    }
   ],
   "source": [
    "test_images.shape, test_labels.shape"
   ]
  },
  {
   "cell_type": "code",
   "execution_count": 8,
   "id": "innovative-organic",
   "metadata": {
    "execution": {
     "iopub.execute_input": "2021-06-05T10:35:48.385284Z",
     "iopub.status.busy": "2021-06-05T10:35:48.384502Z",
     "iopub.status.idle": "2021-06-05T10:35:48.555423Z",
     "shell.execute_reply": "2021-06-05T10:35:48.554950Z"
    },
    "papermill": {
     "duration": 0.20654,
     "end_time": "2021-06-05T10:35:48.555538",
     "exception": false,
     "start_time": "2021-06-05T10:35:48.348998",
     "status": "completed"
    },
    "tags": []
   },
   "outputs": [
    {
     "name": "stdout",
     "output_type": "stream",
     "text": [
      "2\n"
     ]
    },
    {
     "data": {
      "text/plain": [
       "<matplotlib.image.AxesImage at 0x7ff4c1b69668>"
      ]
     },
     "execution_count": 8,
     "metadata": {},
     "output_type": "execute_result"
    },
    {
     "data": {
      "image/png": "[encoded data removed]",
      "text/plain": [
       "<Figure size 432x288 with 1 Axes>"
      ]
     },
     "metadata": {
      "needs_background": "light"
     },
     "output_type": "display_data"
    }
   ],
   "source": [
    "image_index = 7776 # You may select anything up to 60,000\n",
    "print(train_labels[image_index]) \n",
    "plt.imshow(train_images[image_index], cmap='Greys')"
   ]
  },
  {
   "cell_type": "markdown",
   "id": "facial-modem",
   "metadata": {
    "papermill": {
     "duration": 0.032944,
     "end_time": "2021-06-05T10:35:48.621599",
     "exception": false,
     "start_time": "2021-06-05T10:35:48.588655",
     "status": "completed"
    },
    "tags": []
   },
   "source": [
    "## Filter data to get 3 and 8 out"
   ]
  },
  {
   "cell_type": "code",
   "execution_count": 9,
   "id": "thousand-acquisition",
   "metadata": {
    "execution": {
     "iopub.execute_input": "2021-06-05T10:35:48.695438Z",
     "iopub.status.busy": "2021-06-05T10:35:48.693222Z",
     "iopub.status.idle": "2021-06-05T10:35:48.715118Z",
     "shell.execute_reply": "2021-06-05T10:35:48.715559Z"
    },
    "papermill": {
     "duration": 0.059108,
     "end_time": "2021-06-05T10:35:48.715693",
     "exception": false,
     "start_time": "2021-06-05T10:35:48.656585",
     "status": "completed"
    },
    "tags": []
   },
   "outputs": [],
   "source": [
    "train_filter = np.where((train_labels == 3 ) | (train_labels == 8))\n",
    "test_filter = np.where((test_labels == 3) | (test_labels == 8))\n",
    "X_train, y_train = train_images[train_filter], train_labels[train_filter]\n",
    "X_test, y_test = test_images[test_filter], test_labels[test_filter]"
   ]
  },
  {
   "cell_type": "markdown",
   "id": "ruled-access",
   "metadata": {
    "papermill": {
     "duration": 0.032328,
     "end_time": "2021-06-05T10:35:48.782625",
     "exception": false,
     "start_time": "2021-06-05T10:35:48.750297",
     "status": "completed"
    },
    "tags": []
   },
   "source": [
    "We normalize the pixel values in the 0 to 1 range"
   ]
  },
  {
   "cell_type": "code",
   "execution_count": 10,
   "id": "isolated-denver",
   "metadata": {
    "execution": {
     "iopub.execute_input": "2021-06-05T10:35:48.851720Z",
     "iopub.status.busy": "2021-06-05T10:35:48.850994Z",
     "iopub.status.idle": "2021-06-05T10:35:48.914687Z",
     "shell.execute_reply": "2021-06-05T10:35:48.914139Z"
    },
    "papermill": {
     "duration": 0.09989,
     "end_time": "2021-06-05T10:35:48.914812",
     "exception": false,
     "start_time": "2021-06-05T10:35:48.814922",
     "status": "completed"
    },
    "tags": []
   },
   "outputs": [],
   "source": [
    "X_train = X_train/255.\n",
    "X_test = X_test/255."
   ]
  },
  {
   "cell_type": "markdown",
   "id": "perfect-summary",
   "metadata": {
    "papermill": {
     "duration": 0.034198,
     "end_time": "2021-06-05T10:35:48.983352",
     "exception": false,
     "start_time": "2021-06-05T10:35:48.949154",
     "status": "completed"
    },
    "tags": []
   },
   "source": [
    "Setup the labels as 1 (when the digit is 3) and 0 (when the digit is 8)"
   ]
  },
  {
   "cell_type": "code",
   "execution_count": 11,
   "id": "personalized-growing",
   "metadata": {
    "execution": {
     "iopub.execute_input": "2021-06-05T10:35:49.057232Z",
     "iopub.status.busy": "2021-06-05T10:35:49.056654Z",
     "iopub.status.idle": "2021-06-05T10:35:49.069058Z",
     "shell.execute_reply": "2021-06-05T10:35:49.069686Z"
    },
    "papermill": {
     "duration": 0.05298,
     "end_time": "2021-06-05T10:35:49.069843",
     "exception": false,
     "start_time": "2021-06-05T10:35:49.016863",
     "status": "completed"
    },
    "tags": []
   },
   "outputs": [],
   "source": [
    "y_train = 1*(y_train==3)\n",
    "y_test = 1*(y_test==3)"
   ]
  },
  {
   "cell_type": "code",
   "execution_count": 12,
   "id": "considered-virgin",
   "metadata": {
    "execution": {
     "iopub.execute_input": "2021-06-05T10:35:49.142820Z",
     "iopub.status.busy": "2021-06-05T10:35:49.142100Z",
     "iopub.status.idle": "2021-06-05T10:35:49.153211Z",
     "shell.execute_reply": "2021-06-05T10:35:49.153621Z"
    },
    "papermill": {
     "duration": 0.050759,
     "end_time": "2021-06-05T10:35:49.153734",
     "exception": false,
     "start_time": "2021-06-05T10:35:49.102975",
     "status": "completed"
    },
    "tags": []
   },
   "outputs": [
    {
     "data": {
      "text/plain": [
       "((11982, 28, 28), (1984, 28, 28))"
      ]
     },
     "execution_count": 12,
     "metadata": {},
     "output_type": "execute_result"
    }
   ],
   "source": [
    "X_train.shape, X_test.shape"
   ]
  },
  {
   "cell_type": "markdown",
   "id": "civilian-mobile",
   "metadata": {
    "papermill": {
     "duration": 0.03385,
     "end_time": "2021-06-05T10:35:49.220889",
     "exception": false,
     "start_time": "2021-06-05T10:35:49.187039",
     "status": "completed"
    },
    "tags": []
   },
   "source": [
    "### Reshape the input data to create a linear array"
   ]
  },
  {
   "cell_type": "code",
   "execution_count": 13,
   "id": "colonial-adams",
   "metadata": {
    "execution": {
     "iopub.execute_input": "2021-06-05T10:35:49.298132Z",
     "iopub.status.busy": "2021-06-05T10:35:49.297537Z",
     "iopub.status.idle": "2021-06-05T10:35:49.306702Z",
     "shell.execute_reply": "2021-06-05T10:35:49.306259Z"
    },
    "papermill": {
     "duration": 0.052009,
     "end_time": "2021-06-05T10:35:49.306801",
     "exception": false,
     "start_time": "2021-06-05T10:35:49.254792",
     "status": "completed"
    },
    "tags": []
   },
   "outputs": [
    {
     "data": {
      "text/plain": [
       "((11982, 784), (1984, 784))"
      ]
     },
     "execution_count": 13,
     "metadata": {},
     "output_type": "execute_result"
    }
   ],
   "source": [
    "X_train = X_train.reshape(X_train.shape[0], -1)\n",
    "X_test = X_test.reshape(X_test.shape[0], -1)\n",
    "X_train.shape, X_test.shape"
   ]
  },
  {
   "cell_type": "markdown",
   "id": "smart-details",
   "metadata": {
    "papermill": {
     "duration": 0.03484,
     "end_time": "2021-06-05T10:35:49.374138",
     "exception": false,
     "start_time": "2021-06-05T10:35:49.339298",
     "status": "completed"
    },
    "tags": []
   },
   "source": [
    "### Importing appropriate functions from 'Kudzu'"
   ]
  },
  {
   "cell_type": "code",
   "execution_count": 14,
   "id": "celtic-trial",
   "metadata": {
    "execution": {
     "iopub.execute_input": "2021-06-05T10:35:49.470749Z",
     "iopub.status.busy": "2021-06-05T10:35:49.462512Z",
     "iopub.status.idle": "2021-06-05T10:35:49.476088Z",
     "shell.execute_reply": "2021-06-05T10:35:49.476660Z"
    },
    "papermill": {
     "duration": 0.064282,
     "end_time": "2021-06-05T10:35:49.476812",
     "exception": false,
     "start_time": "2021-06-05T10:35:49.412530",
     "status": "completed"
    },
    "tags": []
   },
   "outputs": [],
   "source": [
    "from kudzu.layer import Sigmoid\n",
    "from kudzu.layer import Relu\n",
    "from kudzu.layer import Affine, Sigmoid\n",
    "\n",
    "from kudzu.model import Model\n",
    "from kudzu.train import Learner\n",
    "from kudzu.optim import GD\n",
    "from kudzu.data import Data, Dataloader, Sampler\n",
    "\n",
    "from kudzu.callbacks import AccCallback\n",
    "from kudzu.callbacks import ClfCallback\n",
    "\n",
    "from kudzu.loss import MSE"
   ]
  },
  {
   "cell_type": "markdown",
   "id": "coupled-customer",
   "metadata": {
    "papermill": {
     "duration": 0.033766,
     "end_time": "2021-06-05T10:35:49.545579",
     "exception": false,
     "start_time": "2021-06-05T10:35:49.511813",
     "status": "completed"
    },
    "tags": []
   },
   "source": [
    "### Let us create a `Config` class, to store important parameters. \n",
    "This class essentially plays the role of a dictionary."
   ]
  },
  {
   "cell_type": "code",
   "execution_count": 15,
   "id": "young-ceiling",
   "metadata": {
    "execution": {
     "iopub.execute_input": "2021-06-05T10:35:49.618608Z",
     "iopub.status.busy": "2021-06-05T10:35:49.617806Z",
     "iopub.status.idle": "2021-06-05T10:35:49.628735Z",
     "shell.execute_reply": "2021-06-05T10:35:49.629237Z"
    },
    "papermill": {
     "duration": 0.049575,
     "end_time": "2021-06-05T10:35:49.629351",
     "exception": false,
     "start_time": "2021-06-05T10:35:49.579776",
     "status": "completed"
    },
    "tags": []
   },
   "outputs": [],
   "source": [
    "class Config:\n",
    "    pass\n",
    "config = Config()\n",
    "config.lr = 0.001\n",
    "config.num_epochs = 251\n",
    "config.bs = 50"
   ]
  },
  {
   "cell_type": "markdown",
   "id": "according-mandate",
   "metadata": {
    "papermill": {
     "duration": 0.032799,
     "end_time": "2021-06-05T10:35:49.696178",
     "exception": false,
     "start_time": "2021-06-05T10:35:49.663379",
     "status": "completed"
    },
    "tags": []
   },
   "source": [
    "### Initializing data to the variables"
   ]
  },
  {
   "cell_type": "code",
   "execution_count": 16,
   "id": "academic-disposition",
   "metadata": {
    "execution": {
     "iopub.execute_input": "2021-06-05T10:35:49.767237Z",
     "iopub.status.busy": "2021-06-05T10:35:49.766614Z",
     "iopub.status.idle": "2021-06-05T10:35:49.779020Z",
     "shell.execute_reply": "2021-06-05T10:35:49.779642Z"
    },
    "papermill": {
     "duration": 0.049787,
     "end_time": "2021-06-05T10:35:49.779790",
     "exception": false,
     "start_time": "2021-06-05T10:35:49.730003",
     "status": "completed"
    },
    "tags": []
   },
   "outputs": [],
   "source": [
    "data = Data(X_train, y_train.reshape(-1,1))\n",
    "sampler = Sampler(data, config.bs, shuffle=True)\n",
    "\n",
    "dl = Dataloader(data, sampler)\n",
    "\n",
    "opt = GD(config.lr)\n",
    "loss = MSE()"
   ]
  },
  {
   "cell_type": "code",
   "execution_count": 17,
   "id": "featured-commission",
   "metadata": {
    "execution": {
     "iopub.execute_input": "2021-06-05T10:35:49.853190Z",
     "iopub.status.busy": "2021-06-05T10:35:49.852550Z",
     "iopub.status.idle": "2021-06-05T10:35:49.864884Z",
     "shell.execute_reply": "2021-06-05T10:35:49.864427Z"
    },
    "papermill": {
     "duration": 0.051529,
     "end_time": "2021-06-05T10:35:49.864985",
     "exception": false,
     "start_time": "2021-06-05T10:35:49.813456",
     "status": "completed"
    },
    "tags": []
   },
   "outputs": [],
   "source": [
    "training_xdata = X_train\n",
    "testing_xdata = X_test\n",
    "training_ydata = y_train.reshape(-1,1)\n",
    "testing_ydata = y_test.reshape(-1,1)"
   ]
  },
  {
   "cell_type": "markdown",
   "id": "played-safety",
   "metadata": {
    "papermill": {
     "duration": 0.033811,
     "end_time": "2021-06-05T10:35:49.932389",
     "exception": false,
     "start_time": "2021-06-05T10:35:49.898578",
     "status": "completed"
    },
    "tags": []
   },
   "source": [
    "### Running Models with the Training data\n",
    "Details about the network layers:\n",
    "- A first affine layer has 784 inputs and does 100 affine transforms. These are followed by a Relu\n",
    "- A second affine layer has 100 inputs from the 100 activations of the past layer, and does 100 affine transforms. These are followed by a Relu\n",
    "- A third affine layer has 100 activations and does 2 affine transformations to create an embedding for visualization. There is no non-linearity here.\n",
    "- A final \"logistic regression\" which has an affine transform from 2 inputs to 1 output, which is squeezed through a sigmoid.\n",
    "\n",
    "Help taken from Anshuman's Notebook."
   ]
  },
  {
   "cell_type": "code",
   "execution_count": 18,
   "id": "asian-bankruptcy",
   "metadata": {
    "execution": {
     "iopub.execute_input": "2021-06-05T10:35:50.002867Z",
     "iopub.status.busy": "2021-06-05T10:35:50.002320Z",
     "iopub.status.idle": "2021-06-05T10:35:50.016233Z",
     "shell.execute_reply": "2021-06-05T10:35:50.015684Z"
    },
    "papermill": {
     "duration": 0.051736,
     "end_time": "2021-06-05T10:35:50.016349",
     "exception": false,
     "start_time": "2021-06-05T10:35:49.964613",
     "status": "completed"
    },
    "tags": []
   },
   "outputs": [],
   "source": [
    "# layers for the Neural Network\n",
    "layers = [Affine(\"first\", 784, 100), Relu(\"first\"), Affine(\"second\", 100, 100), Relu(\"second\"), Affine(\"third\", 100, 2), Affine(\"final\", 2, 1), Sigmoid(\"final\")]\n",
    "model_nn = Model(layers)\n",
    "\n",
    "# layers for the Logistic Regression\n",
    "layers_lr = [Affine(\"logits\", 784, 1), Sigmoid(\"sigmoid\")]\n",
    "model_lr = Model(layers_lr)"
   ]
  },
  {
   "cell_type": "code",
   "execution_count": 19,
   "id": "removed-butler",
   "metadata": {
    "execution": {
     "iopub.execute_input": "2021-06-05T10:35:50.089407Z",
     "iopub.status.busy": "2021-06-05T10:35:50.088855Z",
     "iopub.status.idle": "2021-06-05T10:35:50.099486Z",
     "shell.execute_reply": "2021-06-05T10:35:50.100051Z"
    },
    "papermill": {
     "duration": 0.051267,
     "end_time": "2021-06-05T10:35:50.100189",
     "exception": false,
     "start_time": "2021-06-05T10:35:50.048922",
     "status": "completed"
    },
    "tags": []
   },
   "outputs": [],
   "source": [
    "# suffix _nn stands for Neural Network.\n",
    "learner_nn = Learner(loss, model_nn, opt, config.num_epochs)\n",
    "acc_nn = ClfCallback(learner_nn, config.bs, training_xdata , testing_xdata, training_ydata, testing_ydata)\n",
    "learner_nn.set_callbacks([acc_nn])"
   ]
  },
  {
   "cell_type": "code",
   "execution_count": 20,
   "id": "conceptual-throw",
   "metadata": {
    "execution": {
     "iopub.execute_input": "2021-06-05T10:35:50.180754Z",
     "iopub.status.busy": "2021-06-05T10:35:50.173424Z",
     "iopub.status.idle": "2021-06-05T10:38:10.819964Z",
     "shell.execute_reply": "2021-06-05T10:38:10.820629Z"
    },
    "papermill": {
     "duration": 140.687397,
     "end_time": "2021-06-05T10:38:10.820797",
     "exception": false,
     "start_time": "2021-06-05T10:35:50.133400",
     "status": "completed"
    },
    "tags": []
   },
   "outputs": [
    {
     "name": "stdout",
     "output_type": "stream",
     "text": [
      "====== Neural Network ======\n"
     ]
    },
    {
     "name": "stdout",
     "output_type": "stream",
     "text": [
      "Epoch 0, Loss 0.2504\n",
      "Training Accuracy: 0.5675, Testing Accuracy: 0.6008\n",
      "\n"
     ]
    },
    {
     "name": "stdout",
     "output_type": "stream",
     "text": [
      "Epoch 10, Loss 0.1391\n",
      "Training Accuracy: 0.8978, Testing Accuracy: 0.9022\n",
      "\n"
     ]
    },
    {
     "name": "stdout",
     "output_type": "stream",
     "text": [
      "Epoch 20, Loss 0.0726\n",
      "Training Accuracy: 0.9307, Testing Accuracy: 0.9400\n",
      "\n"
     ]
    },
    {
     "name": "stdout",
     "output_type": "stream",
     "text": [
      "Epoch 30, Loss 0.0514\n",
      "Training Accuracy: 0.9453, Testing Accuracy: 0.9602\n",
      "\n"
     ]
    },
    {
     "name": "stdout",
     "output_type": "stream",
     "text": [
      "Epoch 40, Loss 0.0422\n",
      "Training Accuracy: 0.9543, Testing Accuracy: 0.9662\n",
      "\n"
     ]
    },
    {
     "name": "stdout",
     "output_type": "stream",
     "text": [
      "Epoch 50, Loss 0.0373\n",
      "Training Accuracy: 0.9585, Testing Accuracy: 0.9682\n",
      "\n"
     ]
    },
    {
     "name": "stdout",
     "output_type": "stream",
     "text": [
      "Epoch 60, Loss 0.0342\n",
      "Training Accuracy: 0.9612, Testing Accuracy: 0.9708\n",
      "\n"
     ]
    },
    {
     "name": "stdout",
     "output_type": "stream",
     "text": [
      "Epoch 70, Loss 0.032\n",
      "Training Accuracy: 0.9625, Testing Accuracy: 0.9708\n",
      "\n"
     ]
    },
    {
     "name": "stdout",
     "output_type": "stream",
     "text": [
      "Epoch 80, Loss 0.0303\n",
      "Training Accuracy: 0.9644, Testing Accuracy: 0.9718\n",
      "\n"
     ]
    },
    {
     "name": "stdout",
     "output_type": "stream",
     "text": [
      "Epoch 90, Loss 0.029\n",
      "Training Accuracy: 0.9661, Testing Accuracy: 0.9718\n",
      "\n"
     ]
    },
    {
     "name": "stdout",
     "output_type": "stream",
     "text": [
      "Epoch 100, Loss 0.0278\n",
      "Training Accuracy: 0.9674, Testing Accuracy: 0.9723\n",
      "\n"
     ]
    },
    {
     "name": "stdout",
     "output_type": "stream",
     "text": [
      "Epoch 110, Loss 0.0268\n",
      "Training Accuracy: 0.9694, Testing Accuracy: 0.9718\n",
      "\n"
     ]
    },
    {
     "name": "stdout",
     "output_type": "stream",
     "text": [
      "Epoch 120, Loss 0.026\n",
      "Training Accuracy: 0.9700, Testing Accuracy: 0.9718\n",
      "\n"
     ]
    },
    {
     "name": "stdout",
     "output_type": "stream",
     "text": [
      "Epoch 130, Loss 0.0252\n",
      "Training Accuracy: 0.9707, Testing Accuracy: 0.9728\n",
      "\n"
     ]
    },
    {
     "name": "stdout",
     "output_type": "stream",
     "text": [
      "Epoch 140, Loss 0.0244\n",
      "Training Accuracy: 0.9715, Testing Accuracy: 0.9728\n",
      "\n"
     ]
    },
    {
     "name": "stdout",
     "output_type": "stream",
     "text": [
      "Epoch 150, Loss 0.0238\n",
      "Training Accuracy: 0.9732, Testing Accuracy: 0.9728\n",
      "\n"
     ]
    },
    {
     "name": "stdout",
     "output_type": "stream",
     "text": [
      "Epoch 160, Loss 0.0232\n",
      "Training Accuracy: 0.9737, Testing Accuracy: 0.9728\n",
      "\n"
     ]
    },
    {
     "name": "stdout",
     "output_type": "stream",
     "text": [
      "Epoch 170, Loss 0.0226\n",
      "Training Accuracy: 0.9745, Testing Accuracy: 0.9733\n",
      "\n"
     ]
    },
    {
     "name": "stdout",
     "output_type": "stream",
     "text": [
      "Epoch 180, Loss 0.0221\n",
      "Training Accuracy: 0.9751, Testing Accuracy: 0.9733\n",
      "\n"
     ]
    },
    {
     "name": "stdout",
     "output_type": "stream",
     "text": [
      "Epoch 190, Loss 0.0216\n",
      "Training Accuracy: 0.9758, Testing Accuracy: 0.9728\n",
      "\n"
     ]
    },
    {
     "name": "stdout",
     "output_type": "stream",
     "text": [
      "Epoch 200, Loss 0.0211\n",
      "Training Accuracy: 0.9764, Testing Accuracy: 0.9733\n",
      "\n"
     ]
    },
    {
     "name": "stdout",
     "output_type": "stream",
     "text": [
      "Epoch 210, Loss 0.0206\n",
      "Training Accuracy: 0.9770, Testing Accuracy: 0.9728\n",
      "\n"
     ]
    },
    {
     "name": "stdout",
     "output_type": "stream",
     "text": [
      "Epoch 220, Loss 0.0202\n",
      "Training Accuracy: 0.9773, Testing Accuracy: 0.9728\n",
      "\n"
     ]
    },
    {
     "name": "stdout",
     "output_type": "stream",
     "text": [
      "Epoch 230, Loss 0.0198\n",
      "Training Accuracy: 0.9777, Testing Accuracy: 0.9728\n",
      "\n"
     ]
    },
    {
     "name": "stdout",
     "output_type": "stream",
     "text": [
      "Epoch 240, Loss 0.0194\n",
      "Training Accuracy: 0.9783, Testing Accuracy: 0.9728\n",
      "\n"
     ]
    },
    {
     "name": "stdout",
     "output_type": "stream",
     "text": [
      "Epoch 250, Loss 0.0191\n",
      "Training Accuracy: 0.9789, Testing Accuracy: 0.9733\n",
      "\n"
     ]
    },
    {
     "data": {
      "text/plain": [
       "0.012093194383515422"
      ]
     },
     "execution_count": 20,
     "metadata": {},
     "output_type": "execute_result"
    }
   ],
   "source": [
    "print(\"====== Neural Network ======\")\n",
    "learner_nn.train_loop(dl)"
   ]
  },
  {
   "cell_type": "markdown",
   "id": "competent-suffering",
   "metadata": {
    "papermill": {
     "duration": 0.044342,
     "end_time": "2021-06-05T10:38:10.937412",
     "exception": false,
     "start_time": "2021-06-05T10:38:10.893070",
     "status": "completed"
    },
    "tags": []
   },
   "source": [
    "### Logistic Regression based Implementation."
   ]
  },
  {
   "cell_type": "code",
   "execution_count": 21,
   "id": "qualified-psychiatry",
   "metadata": {
    "execution": {
     "iopub.execute_input": "2021-06-05T10:38:11.039728Z",
     "iopub.status.busy": "2021-06-05T10:38:11.030550Z",
     "iopub.status.idle": "2021-06-05T10:38:11.043076Z",
     "shell.execute_reply": "2021-06-05T10:38:11.042596Z"
    },
    "papermill": {
     "duration": 0.064052,
     "end_time": "2021-06-05T10:38:11.043186",
     "exception": false,
     "start_time": "2021-06-05T10:38:10.979134",
     "status": "completed"
    },
    "tags": []
   },
   "outputs": [],
   "source": [
    "learner_lr = Learner(loss, model_lr, opt, config.num_epochs)\n",
    "acc_lr = ClfCallback(learner_lr, config.bs, training_xdata , testing_xdata, training_ydata, testing_ydata)\n",
    "learner_lr.set_callbacks([acc_lr])"
   ]
  },
  {
   "cell_type": "code",
   "execution_count": 22,
   "id": "average-outside",
   "metadata": {
    "execution": {
     "iopub.execute_input": "2021-06-05T10:38:11.143736Z",
     "iopub.status.busy": "2021-06-05T10:38:11.138714Z",
     "iopub.status.idle": "2021-06-05T10:38:30.834935Z",
     "shell.execute_reply": "2021-06-05T10:38:30.835740Z"
    },
    "papermill": {
     "duration": 19.74784,
     "end_time": "2021-06-05T10:38:30.835882",
     "exception": false,
     "start_time": "2021-06-05T10:38:11.088042",
     "status": "completed"
    },
    "tags": []
   },
   "outputs": [
    {
     "name": "stdout",
     "output_type": "stream",
     "text": [
      "====== Logistic Regression ======\n",
      "Epoch 0, Loss 0.2517\n",
      "Training Accuracy: 0.6514, Testing Accuracy: 0.6447\n",
      "\n"
     ]
    },
    {
     "name": "stdout",
     "output_type": "stream",
     "text": [
      "Epoch 10, Loss 0.1024\n",
      "Training Accuracy: 0.9129, Testing Accuracy: 0.9269\n",
      "\n"
     ]
    },
    {
     "name": "stdout",
     "output_type": "stream",
     "text": [
      "Epoch 20, Loss 0.0786\n",
      "Training Accuracy: 0.9300, Testing Accuracy: 0.9370\n",
      "\n"
     ]
    },
    {
     "name": "stdout",
     "output_type": "stream",
     "text": [
      "Epoch 30, Loss 0.0678\n",
      "Training Accuracy: 0.9376, Testing Accuracy: 0.9446\n",
      "\n"
     ]
    },
    {
     "name": "stdout",
     "output_type": "stream",
     "text": [
      "Epoch 40, Loss 0.0613\n",
      "Training Accuracy: 0.9422, Testing Accuracy: 0.9521\n",
      "\n"
     ]
    },
    {
     "name": "stdout",
     "output_type": "stream",
     "text": [
      "Epoch 50, Loss 0.0569\n",
      "Training Accuracy: 0.9455, Testing Accuracy: 0.9556\n",
      "\n"
     ]
    },
    {
     "name": "stdout",
     "output_type": "stream",
     "text": [
      "Epoch 60, Loss 0.0536\n",
      "Training Accuracy: 0.9471, Testing Accuracy: 0.9551\n",
      "\n"
     ]
    },
    {
     "name": "stdout",
     "output_type": "stream",
     "text": [
      "Epoch 70, Loss 0.0511\n",
      "Training Accuracy: 0.9491, Testing Accuracy: 0.9567\n",
      "\n"
     ]
    },
    {
     "name": "stdout",
     "output_type": "stream",
     "text": [
      "Epoch 80, Loss 0.0491\n",
      "Training Accuracy: 0.9508, Testing Accuracy: 0.9592\n",
      "\n"
     ]
    },
    {
     "name": "stdout",
     "output_type": "stream",
     "text": [
      "Epoch 90, Loss 0.0474\n",
      "Training Accuracy: 0.9523, Testing Accuracy: 0.9597\n",
      "\n"
     ]
    },
    {
     "name": "stdout",
     "output_type": "stream",
     "text": [
      "Epoch 100, Loss 0.046\n",
      "Training Accuracy: 0.9538, Testing Accuracy: 0.9612\n",
      "\n"
     ]
    },
    {
     "name": "stdout",
     "output_type": "stream",
     "text": [
      "Epoch 110, Loss 0.0448\n",
      "Training Accuracy: 0.9548, Testing Accuracy: 0.9617\n",
      "\n"
     ]
    },
    {
     "name": "stdout",
     "output_type": "stream",
     "text": [
      "Epoch 120, Loss 0.0438\n",
      "Training Accuracy: 0.9553, Testing Accuracy: 0.9642\n",
      "\n"
     ]
    },
    {
     "name": "stdout",
     "output_type": "stream",
     "text": [
      "Epoch 130, Loss 0.0428\n",
      "Training Accuracy: 0.9563, Testing Accuracy: 0.9647\n",
      "\n"
     ]
    },
    {
     "name": "stdout",
     "output_type": "stream",
     "text": [
      "Epoch 140, Loss 0.042\n",
      "Training Accuracy: 0.9569, Testing Accuracy: 0.9647\n",
      "\n"
     ]
    },
    {
     "name": "stdout",
     "output_type": "stream",
     "text": [
      "Epoch 150, Loss 0.0413\n",
      "Training Accuracy: 0.9575, Testing Accuracy: 0.9652\n",
      "\n"
     ]
    },
    {
     "name": "stdout",
     "output_type": "stream",
     "text": [
      "Epoch 160, Loss 0.0406\n",
      "Training Accuracy: 0.9579, Testing Accuracy: 0.9652\n",
      "\n"
     ]
    },
    {
     "name": "stdout",
     "output_type": "stream",
     "text": [
      "Epoch 170, Loss 0.04\n",
      "Training Accuracy: 0.9585, Testing Accuracy: 0.9647\n",
      "\n"
     ]
    },
    {
     "name": "stdout",
     "output_type": "stream",
     "text": [
      "Epoch 180, Loss 0.0395\n",
      "Training Accuracy: 0.9589, Testing Accuracy: 0.9652\n",
      "\n"
     ]
    },
    {
     "name": "stdout",
     "output_type": "stream",
     "text": [
      "Epoch 190, Loss 0.0389\n",
      "Training Accuracy: 0.9594, Testing Accuracy: 0.9652\n",
      "\n"
     ]
    },
    {
     "name": "stdout",
     "output_type": "stream",
     "text": [
      "Epoch 200, Loss 0.0385\n",
      "Training Accuracy: 0.9599, Testing Accuracy: 0.9662\n",
      "\n"
     ]
    },
    {
     "name": "stdout",
     "output_type": "stream",
     "text": [
      "Epoch 210, Loss 0.038\n",
      "Training Accuracy: 0.9602, Testing Accuracy: 0.9657\n",
      "\n"
     ]
    },
    {
     "name": "stdout",
     "output_type": "stream",
     "text": [
      "Epoch 220, Loss 0.0376\n",
      "Training Accuracy: 0.9605, Testing Accuracy: 0.9662\n",
      "\n"
     ]
    },
    {
     "name": "stdout",
     "output_type": "stream",
     "text": [
      "Epoch 230, Loss 0.0372\n",
      "Training Accuracy: 0.9609, Testing Accuracy: 0.9662\n",
      "\n"
     ]
    },
    {
     "name": "stdout",
     "output_type": "stream",
     "text": [
      "Epoch 240, Loss 0.0369\n",
      "Training Accuracy: 0.9612, Testing Accuracy: 0.9662\n",
      "\n"
     ]
    },
    {
     "name": "stdout",
     "output_type": "stream",
     "text": [
      "Epoch 250, Loss 0.0365\n",
      "Training Accuracy: 0.9614, Testing Accuracy: 0.9662\n",
      "\n"
     ]
    },
    {
     "data": {
      "text/plain": [
       "0.007201603994894717"
      ]
     },
     "execution_count": 22,
     "metadata": {},
     "output_type": "execute_result"
    }
   ],
   "source": [
    "print(\"====== Logistic Regression ======\")\n",
    "learner_lr.train_loop(dl)"
   ]
  },
  {
   "cell_type": "markdown",
   "id": "adjusted-possible",
   "metadata": {
    "papermill": {
     "duration": 0.052082,
     "end_time": "2021-06-05T10:38:30.942646",
     "exception": false,
     "start_time": "2021-06-05T10:38:30.890564",
     "status": "completed"
    },
    "tags": []
   },
   "source": [
    "### Comparing results of NN and LR"
   ]
  },
  {
   "cell_type": "code",
   "execution_count": 23,
   "id": "mental-multimedia",
   "metadata": {
    "execution": {
     "iopub.execute_input": "2021-06-05T10:38:31.059622Z",
     "iopub.status.busy": "2021-06-05T10:38:31.057613Z",
     "iopub.status.idle": "2021-06-05T10:38:31.336673Z",
     "shell.execute_reply": "2021-06-05T10:38:31.336090Z"
    },
    "papermill": {
     "duration": 0.337971,
     "end_time": "2021-06-05T10:38:31.336810",
     "exception": false,
     "start_time": "2021-06-05T10:38:30.998839",
     "status": "completed"
    },
    "tags": []
   },
   "outputs": [
    {
     "data": {
      "text/plain": [
       "<matplotlib.legend.Legend at 0x7ff4b96cd0f0>"
      ]
     },
     "execution_count": 23,
     "metadata": {},
     "output_type": "execute_result"
    },
    {
     "data": {
      "image/png": "[encoded data removed]",
      "text/plain": [
       "<Figure size 1080x720 with 1 Axes>"
      ]
     },
     "metadata": {
      "needs_background": "light"
     },
     "output_type": "display_data"
    }
   ],
   "source": [
    "plt.figure(figsize=(15,10))\n",
    "\n",
    "# Neural Network plots\n",
    "plt.plot(acc_nn.accuracies, 'r-', label = \"Training Accuracies - NN\")\n",
    "plt.plot(acc_nn.test_accuracies, 'g-', label = \"Testing Accuracies - NN\")\n",
    "\n",
    "# Logistic Regression plots\n",
    "plt.plot(acc_lr.accuracies, 'k-', label = \"Training Accuracies - LR\")\n",
    "plt.plot(acc_lr.test_accuracies, 'b-', label = \"Testing Accuracies - LR\")\n",
    "\n",
    "plt.ylim(0.8, 1)\n",
    "\n",
    "plt.legend()\n",
    "\n"
   ]
  },
  {
   "cell_type": "markdown",
   "id": "sexual-flesh",
   "metadata": {
    "papermill": {
     "duration": 0.055577,
     "end_time": "2021-06-05T10:38:31.444583",
     "exception": false,
     "start_time": "2021-06-05T10:38:31.389006",
     "status": "completed"
    },
    "tags": []
   },
   "source": [
    "### From the plot, we can observe the following:\n",
    "- Neural Network achieves higher accuracy than the Logistic Regression model.\n",
    "- This apparently, is because of overfitting, i.e. NN captures more noise than data.\n",
    "- Testing accuracy of NN drops below the Training accuracy at higher epochs. This explains the over-fitting on training data.\n",
    "- Logistic Regression gives a reliable accuracy, without the above mentioned problem.\n"
   ]
  },
  {
   "cell_type": "markdown",
   "id": "institutional-pacific",
   "metadata": {
    "papermill": {
     "duration": 0.050125,
     "end_time": "2021-06-05T10:38:31.547218",
     "exception": false,
     "start_time": "2021-06-05T10:38:31.497093",
     "status": "completed"
    },
    "tags": []
   },
   "source": [
    "### Moving till the last but one layer (excluding it).\n",
    "#### Plotting the outputs of this layer of the NN."
   ]
  },
  {
   "cell_type": "code",
   "execution_count": 24,
   "id": "economic-server",
   "metadata": {
    "execution": {
     "iopub.execute_input": "2021-06-05T10:38:31.662786Z",
     "iopub.status.busy": "2021-06-05T10:38:31.657260Z",
     "iopub.status.idle": "2021-06-05T10:38:31.669038Z",
     "shell.execute_reply": "2021-06-05T10:38:31.668568Z"
    },
    "papermill": {
     "duration": 0.071102,
     "end_time": "2021-06-05T10:38:31.669145",
     "exception": false,
     "start_time": "2021-06-05T10:38:31.598043",
     "status": "completed"
    },
    "tags": []
   },
   "outputs": [],
   "source": [
    "model_new = Model(layers[:-2])"
   ]
  },
  {
   "cell_type": "code",
   "execution_count": 25,
   "id": "varied-upgrade",
   "metadata": {
    "execution": {
     "iopub.execute_input": "2021-06-05T10:38:31.782345Z",
     "iopub.status.busy": "2021-06-05T10:38:31.781634Z",
     "iopub.status.idle": "2021-06-05T10:38:31.806184Z",
     "shell.execute_reply": "2021-06-05T10:38:31.806888Z"
    },
    "papermill": {
     "duration": 0.082448,
     "end_time": "2021-06-05T10:38:31.807075",
     "exception": false,
     "start_time": "2021-06-05T10:38:31.724627",
     "status": "completed"
    },
    "tags": []
   },
   "outputs": [],
   "source": [
    "plot_testing = model_new(testing_xdata)"
   ]
  },
  {
   "cell_type": "code",
   "execution_count": 26,
   "id": "specific-handling",
   "metadata": {
    "execution": {
     "iopub.execute_input": "2021-06-05T10:38:31.980406Z",
     "iopub.status.busy": "2021-06-05T10:38:31.974383Z",
     "iopub.status.idle": "2021-06-05T10:38:32.187882Z",
     "shell.execute_reply": "2021-06-05T10:38:32.187391Z"
    },
    "papermill": {
     "duration": 0.3261,
     "end_time": "2021-06-05T10:38:32.187994",
     "exception": false,
     "start_time": "2021-06-05T10:38:31.861894",
     "status": "completed"
    },
    "tags": []
   },
   "outputs": [
    {
     "data": {
      "text/plain": [
       "Text(0.5, 1.0, 'Outputs')"
      ]
     },
     "execution_count": 26,
     "metadata": {},
     "output_type": "execute_result"
    },
    {
     "data": {
      "image/png": "[encoded data removed]",
      "text/plain": [
       "<Figure size 576x504 with 1 Axes>"
      ]
     },
     "metadata": {
      "needs_background": "light"
     },
     "output_type": "display_data"
    }
   ],
   "source": [
    "plt.figure(figsize=(8,7))\n",
    "plt.scatter(plot_testing[:,0], plot_testing[:,1], alpha = 0.1, c = y_test.ravel());\n",
    "plt.title('Outputs')"
   ]
  },
  {
   "cell_type": "markdown",
   "id": "described-knowing",
   "metadata": {
    "papermill": {
     "duration": 0.052808,
     "end_time": "2021-06-05T10:38:32.295732",
     "exception": false,
     "start_time": "2021-06-05T10:38:32.242924",
     "status": "completed"
    },
    "tags": []
   },
   "source": [
    "### Plotting probability contours"
   ]
  },
  {
   "cell_type": "code",
   "execution_count": 27,
   "id": "needed-growing",
   "metadata": {
    "execution": {
     "iopub.execute_input": "2021-06-05T10:38:32.412520Z",
     "iopub.status.busy": "2021-06-05T10:38:32.411846Z",
     "iopub.status.idle": "2021-06-05T10:38:32.424288Z",
     "shell.execute_reply": "2021-06-05T10:38:32.423830Z"
    },
    "papermill": {
     "duration": 0.07465,
     "end_time": "2021-06-05T10:38:32.424418",
     "exception": false,
     "start_time": "2021-06-05T10:38:32.349768",
     "status": "completed"
    },
    "tags": []
   },
   "outputs": [],
   "source": [
    "model_prob = Model(layers[-2:]) "
   ]
  },
  {
   "cell_type": "code",
   "execution_count": 28,
   "id": "introductory-enforcement",
   "metadata": {
    "execution": {
     "iopub.execute_input": "2021-06-05T10:38:32.551745Z",
     "iopub.status.busy": "2021-06-05T10:38:32.547567Z",
     "iopub.status.idle": "2021-06-05T10:38:32.553769Z",
     "shell.execute_reply": "2021-06-05T10:38:32.554316Z"
    },
    "papermill": {
     "duration": 0.07568,
     "end_time": "2021-06-05T10:38:32.554451",
     "exception": false,
     "start_time": "2021-06-05T10:38:32.478771",
     "status": "completed"
    },
    "tags": []
   },
   "outputs": [],
   "source": [
    "# Adjust the x and y ranges according to the above generated plot.\n",
    "x_range = np.linspace(-4, 1, 100) \n",
    "y_range = np.linspace(-6, 6, 100) \n",
    "x_grid, y_grid = np.meshgrid(x_range, y_range) # x_grid and y_grig are of size 100 X 100\n",
    "\n",
    "# converting x_grid and y_grid to continuous arrays\n",
    "x_grid_flat = np.ravel(x_grid)\n",
    "y_grid_flat = np.ravel(y_grid)\n",
    "\n",
    "# The last layer of the current model takes two columns as input. Hence transpose of np.vstack() is required.\n",
    "X = np.vstack((x_grid_flat, y_grid_flat)).T\n",
    "\n",
    "# x_grid and y_grid are of size 100 x 100\n",
    "probability_contour = model_prob(X).reshape(100,100) "
   ]
  },
  {
   "cell_type": "code",
   "execution_count": 29,
   "id": "understood-landing",
   "metadata": {
    "execution": {
     "iopub.execute_input": "2021-06-05T10:38:32.667645Z",
     "iopub.status.busy": "2021-06-05T10:38:32.667046Z",
     "iopub.status.idle": "2021-06-05T10:38:32.956428Z",
     "shell.execute_reply": "2021-06-05T10:38:32.955822Z"
    },
    "papermill": {
     "duration": 0.348669,
     "end_time": "2021-06-05T10:38:32.956629",
     "exception": false,
     "start_time": "2021-06-05T10:38:32.607960",
     "status": "completed"
    },
    "tags": []
   },
   "outputs": [
    {
     "data": {
      "image/png": "[encoded data removed]",
      "text/plain": [
       "<Figure size 720x648 with 1 Axes>"
      ]
     },
     "metadata": {
      "needs_background": "light"
     },
     "output_type": "display_data"
    }
   ],
   "source": [
    "plt.figure(figsize=(10,9))\n",
    "plt.scatter(plot_testing[:,0], plot_testing[:,1], alpha = 0.1, c = y_test.ravel())\n",
    "contours = plt.contour(x_grid,y_grid,probability_contour)\n",
    "plt.title('Probability Contours')\n",
    "plt.clabel(contours, inline = True );"
   ]
  }
 ],
 "metadata": {
  "kernelspec": {
   "display_name": "Python 3",
   "language": "python",
   "name": "python3"
  },
  "language_info": {
   "codemirror_mode": {
    "name": "ipython",
    "version": 3
   },
   "file_extension": ".py",
   "mimetype": "text/x-python",
   "name": "python",
   "nbconvert_exporter": "python",
   "pygments_lexer": "ipython3",
   "version": "3.6.13"
  },
  "papermill": {
   "duration": 210.644188,
   "end_time": "2021-06-05T10:38:33.323246",
   "environment_variables": {},
   "exception": null,
   "input_path": "2020-08-11-NeuralNetwork.ipynb",
   "output_path": "2020-08-11-NeuralNetwork.ipynb",
   "parameters": {},
   "start_time": "2021-06-05T10:35:02.679058",
   "version": "2.1.2"
  }
 },
 "nbformat": 4,
 "nbformat_minor": 5
}