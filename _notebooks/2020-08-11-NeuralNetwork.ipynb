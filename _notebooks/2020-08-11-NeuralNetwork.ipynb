{
 "cells": [
  {
   "cell_type": "markdown",
   "metadata": {
    "papermill": {
     "duration": 0.034312,
     "end_time": "2020-10-28T00:07:52.895032",
     "exception": false,
     "start_time": "2020-10-28T00:07:52.860720",
     "status": "completed"
    },
    "tags": []
   },
   "source": [
    "# \"A Basic Neural Network: Differentiate Hand-Written Digits\"\n",
    "\n",
    "- badges: true\n",
    "- author: Akshith Sriram"
   ]
  },
  {
   "cell_type": "markdown",
   "metadata": {
    "papermill": {
     "duration": 0.031724,
     "end_time": "2020-10-28T00:07:52.960990",
     "exception": false,
     "start_time": "2020-10-28T00:07:52.929266",
     "status": "completed"
    },
    "tags": []
   },
   "source": [
    "### Key Objectives:\n",
    "- Building a neural network that differentiates two hand-written digits 3 and 8.\n",
    "- Comparing the results of this Neural Network (NN) to that of a Logistic Regression (LR) model.\n",
    "\n",
    "### Requirements:\n",
    "- 'Kudzu' : A neural network library that was designed during our course by [Univ.AI](www.univ.ai). \n",
    "- MNIST Database\n",
    "\n",
    "If MNIST is not installed, use the command `!pip install mnist` given below.\n",
    "It can be run both from the command line and Jupyter Notebook."
   ]
  },
  {
   "cell_type": "code",
   "execution_count": 1,
   "metadata": {
    "execution": {
     "iopub.execute_input": "2020-10-28T00:07:53.034148Z",
     "iopub.status.busy": "2020-10-28T00:07:53.033248Z",
     "iopub.status.idle": "2020-10-28T00:07:54.742627Z",
     "shell.execute_reply": "2020-10-28T00:07:54.742005Z"
    },
    "papermill": {
     "duration": 1.746329,
     "end_time": "2020-10-28T00:07:54.742792",
     "exception": false,
     "start_time": "2020-10-28T00:07:52.996463",
     "status": "completed"
    },
    "tags": []
   },
   "outputs": [
    {
     "name": "stdout",
     "output_type": "stream",
     "text": [
      "Collecting mnist\r\n"
     ]
    },
    {
     "name": "stdout",
     "output_type": "stream",
     "text": [
      "  Downloading mnist-0.2.2-py2.py3-none-any.whl (3.5 kB)\r\n"
     ]
    },
    {
     "name": "stdout",
     "output_type": "stream",
     "text": [
      "Requirement already satisfied: numpy in /opt/hostedtoolcache/Python/3.6.12/x64/lib/python3.6/site-packages (from mnist) (1.19.2)\r\n"
     ]
    },
    {
     "name": "stdout",
     "output_type": "stream",
     "text": [
      "Installing collected packages: mnist\r\n",
      "Successfully installed mnist-0.2.2\r\n"
     ]
    },
    {
     "name": "stdout",
     "output_type": "stream",
     "text": [
      "\u001b[33mWARNING: You are using pip version 20.2.3; however, version 20.2.4 is available.\r\n",
      "You should consider upgrading via the '/opt/hostedtoolcache/Python/3.6.12/x64/bin/python -m pip install --upgrade pip' command.\u001b[0m\r\n"
     ]
    }
   ],
   "source": [
    "!pip install mnist "
   ]
  },
  {
   "cell_type": "markdown",
   "metadata": {
    "papermill": {
     "duration": 0.028024,
     "end_time": "2020-10-28T00:07:54.799146",
     "exception": false,
     "start_time": "2020-10-28T00:07:54.771122",
     "status": "completed"
    },
    "tags": []
   },
   "source": [
    "#### Importing necessary libraries"
   ]
  },
  {
   "cell_type": "code",
   "execution_count": 2,
   "metadata": {
    "execution": {
     "iopub.execute_input": "2020-10-28T00:07:54.867959Z",
     "iopub.status.busy": "2020-10-28T00:07:54.867325Z",
     "iopub.status.idle": "2020-10-28T00:07:55.481596Z",
     "shell.execute_reply": "2020-10-28T00:07:55.480991Z"
    },
    "papermill": {
     "duration": 0.653257,
     "end_time": "2020-10-28T00:07:55.481738",
     "exception": false,
     "start_time": "2020-10-28T00:07:54.828481",
     "status": "completed"
    },
    "tags": []
   },
   "outputs": [],
   "source": [
    "%load_ext autoreload\n",
    "%autoreload 2\n",
    "\n",
    "%matplotlib inline\n",
    "import matplotlib.pyplot as plt\n",
    "\n",
    "import numpy as np\n",
    "import pandas as pd"
   ]
  },
  {
   "cell_type": "markdown",
   "metadata": {
    "papermill": {
     "duration": 0.027899,
     "end_time": "2020-10-28T00:07:55.538139",
     "exception": false,
     "start_time": "2020-10-28T00:07:55.510240",
     "status": "completed"
    },
    "tags": []
   },
   "source": [
    "### Preparing the Data"
   ]
  },
  {
   "cell_type": "code",
   "execution_count": 3,
   "metadata": {
    "execution": {
     "iopub.execute_input": "2020-10-28T00:07:55.597902Z",
     "iopub.status.busy": "2020-10-28T00:07:55.597277Z",
     "iopub.status.idle": "2020-10-28T00:07:55.610364Z",
     "shell.execute_reply": "2020-10-28T00:07:55.609823Z"
    },
    "papermill": {
     "duration": 0.0445,
     "end_time": "2020-10-28T00:07:55.610499",
     "exception": false,
     "start_time": "2020-10-28T00:07:55.565999",
     "status": "completed"
    },
    "tags": []
   },
   "outputs": [],
   "source": [
    "import mnist"
   ]
  },
  {
   "cell_type": "code",
   "execution_count": 4,
   "metadata": {
    "execution": {
     "iopub.execute_input": "2020-10-28T00:07:55.672243Z",
     "iopub.status.busy": "2020-10-28T00:07:55.671643Z",
     "iopub.status.idle": "2020-10-28T00:07:56.738954Z",
     "shell.execute_reply": "2020-10-28T00:07:56.738281Z"
    },
    "papermill": {
     "duration": 1.10032,
     "end_time": "2020-10-28T00:07:56.739094",
     "exception": false,
     "start_time": "2020-10-28T00:07:55.638774",
     "status": "completed"
    },
    "tags": []
   },
   "outputs": [],
   "source": [
    "train_images = mnist.train_images()\n",
    "train_labels = mnist.train_labels()"
   ]
  },
  {
   "cell_type": "code",
   "execution_count": 5,
   "metadata": {
    "execution": {
     "iopub.execute_input": "2020-10-28T00:07:56.800075Z",
     "iopub.status.busy": "2020-10-28T00:07:56.799468Z",
     "iopub.status.idle": "2020-10-28T00:07:56.818326Z",
     "shell.execute_reply": "2020-10-28T00:07:56.817601Z"
    },
    "papermill": {
     "duration": 0.051054,
     "end_time": "2020-10-28T00:07:56.818514",
     "exception": false,
     "start_time": "2020-10-28T00:07:56.767460",
     "status": "completed"
    },
    "tags": []
   },
   "outputs": [
    {
     "data": {
      "text/plain": [
       "((60000, 28, 28), (60000,))"
      ]
     },
     "execution_count": 5,
     "metadata": {},
     "output_type": "execute_result"
    }
   ],
   "source": [
    "train_images.shape, train_labels.shape"
   ]
  },
  {
   "cell_type": "code",
   "execution_count": 6,
   "metadata": {
    "execution": {
     "iopub.execute_input": "2020-10-28T00:07:56.891489Z",
     "iopub.status.busy": "2020-10-28T00:07:56.890760Z",
     "iopub.status.idle": "2020-10-28T00:07:57.493997Z",
     "shell.execute_reply": "2020-10-28T00:07:57.493277Z"
    },
    "papermill": {
     "duration": 0.64141,
     "end_time": "2020-10-28T00:07:57.494177",
     "exception": false,
     "start_time": "2020-10-28T00:07:56.852767",
     "status": "completed"
    },
    "tags": []
   },
   "outputs": [],
   "source": [
    "test_images = mnist.test_images()\n",
    "test_labels = mnist.test_labels()"
   ]
  },
  {
   "cell_type": "code",
   "execution_count": 7,
   "metadata": {
    "execution": {
     "iopub.execute_input": "2020-10-28T00:07:57.565658Z",
     "iopub.status.busy": "2020-10-28T00:07:57.564842Z",
     "iopub.status.idle": "2020-10-28T00:07:57.581716Z",
     "shell.execute_reply": "2020-10-28T00:07:57.581113Z"
    },
    "papermill": {
     "duration": 0.055242,
     "end_time": "2020-10-28T00:07:57.581850",
     "exception": false,
     "start_time": "2020-10-28T00:07:57.526608",
     "status": "completed"
    },
    "tags": []
   },
   "outputs": [
    {
     "data": {
      "text/plain": [
       "((10000, 28, 28), (10000,))"
      ]
     },
     "execution_count": 7,
     "metadata": {},
     "output_type": "execute_result"
    }
   ],
   "source": [
    "test_images.shape, test_labels.shape"
   ]
  },
  {
   "cell_type": "code",
   "execution_count": 8,
   "metadata": {
    "execution": {
     "iopub.execute_input": "2020-10-28T00:07:57.657737Z",
     "iopub.status.busy": "2020-10-28T00:07:57.656927Z",
     "iopub.status.idle": "2020-10-28T00:07:57.842288Z",
     "shell.execute_reply": "2020-10-28T00:07:57.843125Z"
    },
    "papermill": {
     "duration": 0.227647,
     "end_time": "2020-10-28T00:07:57.843367",
     "exception": false,
     "start_time": "2020-10-28T00:07:57.615720",
     "status": "completed"
    },
    "tags": []
   },
   "outputs": [
    {
     "name": "stdout",
     "output_type": "stream",
     "text": [
      "2\n"
     ]
    },
    {
     "data": {
      "text/plain": [
       "<matplotlib.image.AxesImage at 0x7f4022bd3978>"
      ]
     },
     "execution_count": 8,
     "metadata": {},
     "output_type": "execute_result"
    },
    {
     "data": {
      "image/png": "[encoded data removed]",
      "text/plain": [
       "<Figure size 432x288 with 1 Axes>"
      ]
     },
     "metadata": {
      "needs_background": "light"
     },
     "output_type": "display_data"
    }
   ],
   "source": [
    "image_index = 7776 # You may select anything up to 60,000\n",
    "print(train_labels[image_index]) \n",
    "plt.imshow(train_images[image_index], cmap='Greys')"
   ]
  },
  {
   "cell_type": "markdown",
   "metadata": {
    "papermill": {
     "duration": 0.030317,
     "end_time": "2020-10-28T00:07:57.903826",
     "exception": false,
     "start_time": "2020-10-28T00:07:57.873509",
     "status": "completed"
    },
    "tags": []
   },
   "source": [
    "## Filter data to get 3 and 8 out"
   ]
  },
  {
   "cell_type": "code",
   "execution_count": 9,
   "metadata": {
    "execution": {
     "iopub.execute_input": "2020-10-28T00:07:57.968362Z",
     "iopub.status.busy": "2020-10-28T00:07:57.967753Z",
     "iopub.status.idle": "2020-10-28T00:07:57.993440Z",
     "shell.execute_reply": "2020-10-28T00:07:57.992644Z"
    },
    "papermill": {
     "duration": 0.059927,
     "end_time": "2020-10-28T00:07:57.993616",
     "exception": false,
     "start_time": "2020-10-28T00:07:57.933689",
     "status": "completed"
    },
    "tags": []
   },
   "outputs": [],
   "source": [
    "train_filter = np.where((train_labels == 3 ) | (train_labels == 8))\n",
    "test_filter = np.where((test_labels == 3) | (test_labels == 8))\n",
    "X_train, y_train = train_images[train_filter], train_labels[train_filter]\n",
    "X_test, y_test = test_images[test_filter], test_labels[test_filter]"
   ]
  },
  {
   "cell_type": "markdown",
   "metadata": {
    "papermill": {
     "duration": 0.030088,
     "end_time": "2020-10-28T00:07:58.055527",
     "exception": false,
     "start_time": "2020-10-28T00:07:58.025439",
     "status": "completed"
    },
    "tags": []
   },
   "source": [
    "We normalize the pixel values in the 0 to 1 range"
   ]
  },
  {
   "cell_type": "code",
   "execution_count": 10,
   "metadata": {
    "execution": {
     "iopub.execute_input": "2020-10-28T00:07:58.122548Z",
     "iopub.status.busy": "2020-10-28T00:07:58.120360Z",
     "iopub.status.idle": "2020-10-28T00:07:58.176736Z",
     "shell.execute_reply": "2020-10-28T00:07:58.177551Z"
    },
    "papermill": {
     "duration": 0.091545,
     "end_time": "2020-10-28T00:07:58.177812",
     "exception": false,
     "start_time": "2020-10-28T00:07:58.086267",
     "status": "completed"
    },
    "tags": []
   },
   "outputs": [],
   "source": [
    "X_train = X_train/255.\n",
    "X_test = X_test/255."
   ]
  },
  {
   "cell_type": "markdown",
   "metadata": {
    "papermill": {
     "duration": 0.030093,
     "end_time": "2020-10-28T00:07:58.238817",
     "exception": false,
     "start_time": "2020-10-28T00:07:58.208724",
     "status": "completed"
    },
    "tags": []
   },
   "source": [
    "Setup the labels as 1 (when the digit is 3) and 0 (when the digit is 8)"
   ]
  },
  {
   "cell_type": "code",
   "execution_count": 11,
   "metadata": {
    "execution": {
     "iopub.execute_input": "2020-10-28T00:07:58.312017Z",
     "iopub.status.busy": "2020-10-28T00:07:58.311391Z",
     "iopub.status.idle": "2020-10-28T00:07:58.338355Z",
     "shell.execute_reply": "2020-10-28T00:07:58.338903Z"
    },
    "papermill": {
     "duration": 0.066939,
     "end_time": "2020-10-28T00:07:58.339066",
     "exception": false,
     "start_time": "2020-10-28T00:07:58.272127",
     "status": "completed"
    },
    "tags": []
   },
   "outputs": [],
   "source": [
    "y_train = 1*(y_train==3)\n",
    "y_test = 1*(y_test==3)"
   ]
  },
  {
   "cell_type": "code",
   "execution_count": 12,
   "metadata": {
    "execution": {
     "iopub.execute_input": "2020-10-28T00:07:58.403249Z",
     "iopub.status.busy": "2020-10-28T00:07:58.402632Z",
     "iopub.status.idle": "2020-10-28T00:07:58.420288Z",
     "shell.execute_reply": "2020-10-28T00:07:58.421216Z"
    },
    "papermill": {
     "duration": 0.05235,
     "end_time": "2020-10-28T00:07:58.421455",
     "exception": false,
     "start_time": "2020-10-28T00:07:58.369105",
     "status": "completed"
    },
    "tags": []
   },
   "outputs": [
    {
     "data": {
      "text/plain": [
       "((11982, 28, 28), (1984, 28, 28))"
      ]
     },
     "execution_count": 12,
     "metadata": {},
     "output_type": "execute_result"
    }
   ],
   "source": [
    "X_train.shape, X_test.shape"
   ]
  },
  {
   "cell_type": "markdown",
   "metadata": {
    "papermill": {
     "duration": 0.030229,
     "end_time": "2020-10-28T00:07:58.482907",
     "exception": false,
     "start_time": "2020-10-28T00:07:58.452678",
     "status": "completed"
    },
    "tags": []
   },
   "source": [
    "### Reshape the input data to create a linear array"
   ]
  },
  {
   "cell_type": "code",
   "execution_count": 13,
   "metadata": {
    "execution": {
     "iopub.execute_input": "2020-10-28T00:07:58.548433Z",
     "iopub.status.busy": "2020-10-28T00:07:58.547818Z",
     "iopub.status.idle": "2020-10-28T00:07:58.565970Z",
     "shell.execute_reply": "2020-10-28T00:07:58.565432Z"
    },
    "papermill": {
     "duration": 0.052869,
     "end_time": "2020-10-28T00:07:58.566140",
     "exception": false,
     "start_time": "2020-10-28T00:07:58.513271",
     "status": "completed"
    },
    "tags": []
   },
   "outputs": [
    {
     "data": {
      "text/plain": [
       "((11982, 784), (1984, 784))"
      ]
     },
     "execution_count": 13,
     "metadata": {},
     "output_type": "execute_result"
    }
   ],
   "source": [
    "X_train = X_train.reshape(X_train.shape[0], -1)\n",
    "X_test = X_test.reshape(X_test.shape[0], -1)\n",
    "X_train.shape, X_test.shape"
   ]
  },
  {
   "cell_type": "markdown",
   "metadata": {
    "papermill": {
     "duration": 0.030267,
     "end_time": "2020-10-28T00:07:58.627184",
     "exception": false,
     "start_time": "2020-10-28T00:07:58.596917",
     "status": "completed"
    },
    "tags": []
   },
   "source": [
    "### Importing appropriate functions from 'Kudzu'"
   ]
  },
  {
   "cell_type": "code",
   "execution_count": 14,
   "metadata": {
    "execution": {
     "iopub.execute_input": "2020-10-28T00:07:58.693402Z",
     "iopub.status.busy": "2020-10-28T00:07:58.692770Z",
     "iopub.status.idle": "2020-10-28T00:07:58.717561Z",
     "shell.execute_reply": "2020-10-28T00:07:58.718181Z"
    },
    "papermill": {
     "duration": 0.060725,
     "end_time": "2020-10-28T00:07:58.718345",
     "exception": false,
     "start_time": "2020-10-28T00:07:58.657620",
     "status": "completed"
    },
    "tags": []
   },
   "outputs": [],
   "source": [
    "from kudzu.layer import Sigmoid\n",
    "from kudzu.layer import Relu\n",
    "from kudzu.layer import Affine, Sigmoid\n",
    "\n",
    "from kudzu.model import Model\n",
    "from kudzu.train import Learner\n",
    "from kudzu.optim import GD\n",
    "from kudzu.data import Data, Dataloader, Sampler\n",
    "\n",
    "from kudzu.callbacks import AccCallback\n",
    "from kudzu.callbacks import ClfCallback\n",
    "\n",
    "from kudzu.loss import MSE"
   ]
  },
  {
   "cell_type": "markdown",
   "metadata": {
    "papermill": {
     "duration": 0.030606,
     "end_time": "2020-10-28T00:07:58.779968",
     "exception": false,
     "start_time": "2020-10-28T00:07:58.749362",
     "status": "completed"
    },
    "tags": []
   },
   "source": [
    "### Let us create a `Config` class, to store important parameters. \n",
    "This class essentially plays the role of a dictionary."
   ]
  },
  {
   "cell_type": "code",
   "execution_count": 15,
   "metadata": {
    "execution": {
     "iopub.execute_input": "2020-10-28T00:07:58.846252Z",
     "iopub.status.busy": "2020-10-28T00:07:58.845592Z",
     "iopub.status.idle": "2020-10-28T00:07:58.858663Z",
     "shell.execute_reply": "2020-10-28T00:07:58.859155Z"
    },
    "papermill": {
     "duration": 0.048475,
     "end_time": "2020-10-28T00:07:58.859311",
     "exception": false,
     "start_time": "2020-10-28T00:07:58.810836",
     "status": "completed"
    },
    "tags": []
   },
   "outputs": [],
   "source": [
    "class Config:\n",
    "    pass\n",
    "config = Config()\n",
    "config.lr = 0.001\n",
    "config.num_epochs = 251\n",
    "config.bs = 50"
   ]
  },
  {
   "cell_type": "markdown",
   "metadata": {
    "papermill": {
     "duration": 0.030456,
     "end_time": "2020-10-28T00:07:58.920164",
     "exception": false,
     "start_time": "2020-10-28T00:07:58.889708",
     "status": "completed"
    },
    "tags": []
   },
   "source": [
    "### Initializing data to the variables"
   ]
  },
  {
   "cell_type": "code",
   "execution_count": 16,
   "metadata": {
    "execution": {
     "iopub.execute_input": "2020-10-28T00:07:58.985864Z",
     "iopub.status.busy": "2020-10-28T00:07:58.985258Z",
     "iopub.status.idle": "2020-10-28T00:07:59.000074Z",
     "shell.execute_reply": "2020-10-28T00:07:58.999558Z"
    },
    "papermill": {
     "duration": 0.049529,
     "end_time": "2020-10-28T00:07:59.000213",
     "exception": false,
     "start_time": "2020-10-28T00:07:58.950684",
     "status": "completed"
    },
    "tags": []
   },
   "outputs": [],
   "source": [
    "data = Data(X_train, y_train.reshape(-1,1))\n",
    "sampler = Sampler(data, config.bs, shuffle=True)\n",
    "\n",
    "dl = Dataloader(data, sampler)\n",
    "\n",
    "opt = GD(config.lr)\n",
    "loss = MSE()"
   ]
  },
  {
   "cell_type": "code",
   "execution_count": 17,
   "metadata": {
    "execution": {
     "iopub.execute_input": "2020-10-28T00:07:59.065924Z",
     "iopub.status.busy": "2020-10-28T00:07:59.065289Z",
     "iopub.status.idle": "2020-10-28T00:07:59.080417Z",
     "shell.execute_reply": "2020-10-28T00:07:59.079882Z"
    },
    "papermill": {
     "duration": 0.04936,
     "end_time": "2020-10-28T00:07:59.080559",
     "exception": false,
     "start_time": "2020-10-28T00:07:59.031199",
     "status": "completed"
    },
    "tags": []
   },
   "outputs": [],
   "source": [
    "training_xdata = X_train\n",
    "testing_xdata = X_test\n",
    "training_ydata = y_train.reshape(-1,1)\n",
    "testing_ydata = y_test.reshape(-1,1)"
   ]
  },
  {
   "cell_type": "markdown",
   "metadata": {
    "papermill": {
     "duration": 0.030234,
     "end_time": "2020-10-28T00:07:59.141523",
     "exception": false,
     "start_time": "2020-10-28T00:07:59.111289",
     "status": "completed"
    },
    "tags": []
   },
   "source": [
    "### Running Models with the Training data\n",
    "Details about the network layers:\n",
    "- A first affine layer has 784 inputs and does 100 affine transforms. These are followed by a Relu\n",
    "- A second affine layer has 100 inputs from the 100 activations of the past layer, and does 100 affine transforms. These are followed by a Relu\n",
    "- A third affine layer has 100 activations and does 2 affine transformations to create an embedding for visualization. There is no non-linearity here.\n",
    "- A final \"logistic regression\" which has an affine transform from 2 inputs to 1 output, which is squeezed through a sigmoid.\n",
    "\n",
    "Help taken from Anshuman's Notebook."
   ]
  },
  {
   "cell_type": "code",
   "execution_count": 18,
   "metadata": {
    "execution": {
     "iopub.execute_input": "2020-10-28T00:07:59.215473Z",
     "iopub.status.busy": "2020-10-28T00:07:59.214825Z",
     "iopub.status.idle": "2020-10-28T00:07:59.238412Z",
     "shell.execute_reply": "2020-10-28T00:07:59.237664Z"
    },
    "papermill": {
     "duration": 0.066533,
     "end_time": "2020-10-28T00:07:59.238590",
     "exception": false,
     "start_time": "2020-10-28T00:07:59.172057",
     "status": "completed"
    },
    "tags": []
   },
   "outputs": [],
   "source": [
    "# layers for the Neural Network\n",
    "layers = [Affine(\"first\", 784, 100), Relu(\"first\"), Affine(\"second\", 100, 100), Relu(\"second\"), Affine(\"third\", 100, 2), Affine(\"final\", 2, 1), Sigmoid(\"final\")]\n",
    "model_nn = Model(layers)\n",
    "\n",
    "# layers for the Logistic Regression\n",
    "layers_lr = [Affine(\"logits\", 784, 1), Sigmoid(\"sigmoid\")]\n",
    "model_lr = Model(layers_lr)"
   ]
  },
  {
   "cell_type": "code",
   "execution_count": 19,
   "metadata": {
    "execution": {
     "iopub.execute_input": "2020-10-28T00:07:59.306850Z",
     "iopub.status.busy": "2020-10-28T00:07:59.306225Z",
     "iopub.status.idle": "2020-10-28T00:07:59.321462Z",
     "shell.execute_reply": "2020-10-28T00:07:59.320919Z"
    },
    "papermill": {
     "duration": 0.049501,
     "end_time": "2020-10-28T00:07:59.321597",
     "exception": false,
     "start_time": "2020-10-28T00:07:59.272096",
     "status": "completed"
    },
    "tags": []
   },
   "outputs": [],
   "source": [
    "# suffix _nn stands for Neural Network.\n",
    "learner_nn = Learner(loss, model_nn, opt, config.num_epochs)\n",
    "acc_nn = ClfCallback(learner_nn, config.bs, training_xdata , testing_xdata, training_ydata, testing_ydata)\n",
    "learner_nn.set_callbacks([acc_nn])"
   ]
  },
  {
   "cell_type": "code",
   "execution_count": 20,
   "metadata": {
    "execution": {
     "iopub.execute_input": "2020-10-28T00:07:59.387007Z",
     "iopub.status.busy": "2020-10-28T00:07:59.386386Z",
     "iopub.status.idle": "2020-10-28T00:09:43.418982Z",
     "shell.execute_reply": "2020-10-28T00:09:43.418447Z"
    },
    "papermill": {
     "duration": 104.066908,
     "end_time": "2020-10-28T00:09:43.419120",
     "exception": false,
     "start_time": "2020-10-28T00:07:59.352212",
     "status": "completed"
    },
    "tags": []
   },
   "outputs": [
    {
     "name": "stdout",
     "output_type": "stream",
     "text": [
      "====== Neural Network ======\n"
     ]
    },
    {
     "name": "stdout",
     "output_type": "stream",
     "text": [
      "Epoch 0, Loss 0.2527\n",
      "Training Accuracy: 0.3928, Testing Accuracy: 0.4057\n",
      "\n"
     ]
    },
    {
     "name": "stdout",
     "output_type": "stream",
     "text": [
      "Epoch 10, Loss 0.2461\n",
      "Training Accuracy: 0.7296, Testing Accuracy: 0.7495\n",
      "\n"
     ]
    },
    {
     "name": "stdout",
     "output_type": "stream",
     "text": [
      "Epoch 20, Loss 0.2326\n",
      "Training Accuracy: 0.8575, Testing Accuracy: 0.8770\n",
      "\n"
     ]
    },
    {
     "name": "stdout",
     "output_type": "stream",
     "text": [
      "Epoch 30, Loss 0.1811\n",
      "Training Accuracy: 0.8844, Testing Accuracy: 0.9083\n",
      "\n"
     ]
    },
    {
     "name": "stdout",
     "output_type": "stream",
     "text": [
      "Epoch 40, Loss 0.095\n",
      "Training Accuracy: 0.9103, Testing Accuracy: 0.9279\n",
      "\n"
     ]
    },
    {
     "name": "stdout",
     "output_type": "stream",
     "text": [
      "Epoch 50, Loss 0.0625\n",
      "Training Accuracy: 0.9325, Testing Accuracy: 0.9456\n",
      "\n"
     ]
    },
    {
     "name": "stdout",
     "output_type": "stream",
     "text": [
      "Epoch 60, Loss 0.0493\n",
      "Training Accuracy: 0.9466, Testing Accuracy: 0.9561\n",
      "\n"
     ]
    },
    {
     "name": "stdout",
     "output_type": "stream",
     "text": [
      "Epoch 70, Loss 0.0423\n",
      "Training Accuracy: 0.9523, Testing Accuracy: 0.9627\n",
      "\n"
     ]
    },
    {
     "name": "stdout",
     "output_type": "stream",
     "text": [
      "Epoch 80, Loss 0.0381\n",
      "Training Accuracy: 0.9564, Testing Accuracy: 0.9677\n",
      "\n"
     ]
    },
    {
     "name": "stdout",
     "output_type": "stream",
     "text": [
      "Epoch 90, Loss 0.0352\n",
      "Training Accuracy: 0.9596, Testing Accuracy: 0.9688\n",
      "\n"
     ]
    },
    {
     "name": "stdout",
     "output_type": "stream",
     "text": [
      "Epoch 100, Loss 0.033\n",
      "Training Accuracy: 0.9613, Testing Accuracy: 0.9698\n",
      "\n"
     ]
    },
    {
     "name": "stdout",
     "output_type": "stream",
     "text": [
      "Epoch 110, Loss 0.0314\n",
      "Training Accuracy: 0.9631, Testing Accuracy: 0.9708\n",
      "\n"
     ]
    },
    {
     "name": "stdout",
     "output_type": "stream",
     "text": [
      "Epoch 120, Loss 0.03\n",
      "Training Accuracy: 0.9652, Testing Accuracy: 0.9708\n",
      "\n"
     ]
    },
    {
     "name": "stdout",
     "output_type": "stream",
     "text": [
      "Epoch 130, Loss 0.0289\n",
      "Training Accuracy: 0.9660, Testing Accuracy: 0.9713\n",
      "\n"
     ]
    },
    {
     "name": "stdout",
     "output_type": "stream",
     "text": [
      "Epoch 140, Loss 0.0279\n",
      "Training Accuracy: 0.9672, Testing Accuracy: 0.9723\n",
      "\n"
     ]
    },
    {
     "name": "stdout",
     "output_type": "stream",
     "text": [
      "Epoch 150, Loss 0.0271\n",
      "Training Accuracy: 0.9680, Testing Accuracy: 0.9713\n",
      "\n"
     ]
    },
    {
     "name": "stdout",
     "output_type": "stream",
     "text": [
      "Epoch 160, Loss 0.0263\n",
      "Training Accuracy: 0.9691, Testing Accuracy: 0.9723\n",
      "\n"
     ]
    },
    {
     "name": "stdout",
     "output_type": "stream",
     "text": [
      "Epoch 170, Loss 0.0257\n",
      "Training Accuracy: 0.9696, Testing Accuracy: 0.9723\n",
      "\n"
     ]
    },
    {
     "name": "stdout",
     "output_type": "stream",
     "text": [
      "Epoch 180, Loss 0.025\n",
      "Training Accuracy: 0.9705, Testing Accuracy: 0.9733\n",
      "\n"
     ]
    },
    {
     "name": "stdout",
     "output_type": "stream",
     "text": [
      "Epoch 190, Loss 0.0245\n",
      "Training Accuracy: 0.9710, Testing Accuracy: 0.9733\n",
      "\n"
     ]
    },
    {
     "name": "stdout",
     "output_type": "stream",
     "text": [
      "Epoch 200, Loss 0.0239\n",
      "Training Accuracy: 0.9718, Testing Accuracy: 0.9743\n",
      "\n"
     ]
    },
    {
     "name": "stdout",
     "output_type": "stream",
     "text": [
      "Epoch 210, Loss 0.0234\n",
      "Training Accuracy: 0.9726, Testing Accuracy: 0.9738\n",
      "\n"
     ]
    },
    {
     "name": "stdout",
     "output_type": "stream",
     "text": [
      "Epoch 220, Loss 0.0229\n",
      "Training Accuracy: 0.9729, Testing Accuracy: 0.9743\n",
      "\n"
     ]
    },
    {
     "name": "stdout",
     "output_type": "stream",
     "text": [
      "Epoch 230, Loss 0.0225\n",
      "Training Accuracy: 0.9735, Testing Accuracy: 0.9738\n",
      "\n"
     ]
    },
    {
     "name": "stdout",
     "output_type": "stream",
     "text": [
      "Epoch 240, Loss 0.022\n",
      "Training Accuracy: 0.9740, Testing Accuracy: 0.9743\n",
      "\n"
     ]
    },
    {
     "name": "stdout",
     "output_type": "stream",
     "text": [
      "Epoch 250, Loss 0.0216\n",
      "Training Accuracy: 0.9750, Testing Accuracy: 0.9748\n",
      "\n"
     ]
    },
    {
     "data": {
      "text/plain": [
       "0.01996518439802767"
      ]
     },
     "execution_count": 20,
     "metadata": {},
     "output_type": "execute_result"
    }
   ],
   "source": [
    "print(\"====== Neural Network ======\")\n",
    "learner_nn.train_loop(dl)"
   ]
  },
  {
   "cell_type": "markdown",
   "metadata": {
    "papermill": {
     "duration": 0.038404,
     "end_time": "2020-10-28T00:09:43.496916",
     "exception": false,
     "start_time": "2020-10-28T00:09:43.458512",
     "status": "completed"
    },
    "tags": []
   },
   "source": [
    "### Logistic Regression based Implementation."
   ]
  },
  {
   "cell_type": "code",
   "execution_count": 21,
   "metadata": {
    "execution": {
     "iopub.execute_input": "2020-10-28T00:09:43.584054Z",
     "iopub.status.busy": "2020-10-28T00:09:43.583421Z",
     "iopub.status.idle": "2020-10-28T00:09:43.593039Z",
     "shell.execute_reply": "2020-10-28T00:09:43.593533Z"
    },
    "papermill": {
     "duration": 0.058089,
     "end_time": "2020-10-28T00:09:43.593697",
     "exception": false,
     "start_time": "2020-10-28T00:09:43.535608",
     "status": "completed"
    },
    "tags": []
   },
   "outputs": [],
   "source": [
    "learner_lr = Learner(loss, model_lr, opt, config.num_epochs)\n",
    "acc_lr = ClfCallback(learner_lr, config.bs, training_xdata , testing_xdata, training_ydata, testing_ydata)\n",
    "learner_lr.set_callbacks([acc_lr])"
   ]
  },
  {
   "cell_type": "code",
   "execution_count": 22,
   "metadata": {
    "execution": {
     "iopub.execute_input": "2020-10-28T00:09:43.678291Z",
     "iopub.status.busy": "2020-10-28T00:09:43.677339Z",
     "iopub.status.idle": "2020-10-28T00:10:03.938899Z",
     "shell.execute_reply": "2020-10-28T00:10:03.939792Z"
    },
    "papermill": {
     "duration": 20.306324,
     "end_time": "2020-10-28T00:10:03.939964",
     "exception": false,
     "start_time": "2020-10-28T00:09:43.633640",
     "status": "completed"
    },
    "tags": []
   },
   "outputs": [
    {
     "name": "stdout",
     "output_type": "stream",
     "text": [
      "====== Logistic Regression ======\n",
      "Epoch 0, Loss 0.2452\n",
      "Training Accuracy: 0.6841, Testing Accuracy: 0.6885\n",
      "\n"
     ]
    },
    {
     "name": "stdout",
     "output_type": "stream",
     "text": [
      "Epoch 10, Loss 0.1031\n",
      "Training Accuracy: 0.9112, Testing Accuracy: 0.9219\n",
      "\n"
     ]
    },
    {
     "name": "stdout",
     "output_type": "stream",
     "text": [
      "Epoch 20, Loss 0.0794\n",
      "Training Accuracy: 0.9280, Testing Accuracy: 0.9385\n",
      "\n"
     ]
    },
    {
     "name": "stdout",
     "output_type": "stream",
     "text": [
      "Epoch 30, Loss 0.0685\n",
      "Training Accuracy: 0.9352, Testing Accuracy: 0.9491\n",
      "\n"
     ]
    },
    {
     "name": "stdout",
     "output_type": "stream",
     "text": [
      "Epoch 40, Loss 0.0619\n",
      "Training Accuracy: 0.9405, Testing Accuracy: 0.9541\n",
      "\n"
     ]
    },
    {
     "name": "stdout",
     "output_type": "stream",
     "text": [
      "Epoch 50, Loss 0.0574\n",
      "Training Accuracy: 0.9438, Testing Accuracy: 0.9551\n",
      "\n"
     ]
    },
    {
     "name": "stdout",
     "output_type": "stream",
     "text": [
      "Epoch 60, Loss 0.054\n",
      "Training Accuracy: 0.9464, Testing Accuracy: 0.9577\n",
      "\n"
     ]
    },
    {
     "name": "stdout",
     "output_type": "stream",
     "text": [
      "Epoch 70, Loss 0.0515\n",
      "Training Accuracy: 0.9487, Testing Accuracy: 0.9582\n",
      "\n"
     ]
    },
    {
     "name": "stdout",
     "output_type": "stream",
     "text": [
      "Epoch 80, Loss 0.0494\n",
      "Training Accuracy: 0.9501, Testing Accuracy: 0.9597\n",
      "\n"
     ]
    },
    {
     "name": "stdout",
     "output_type": "stream",
     "text": [
      "Epoch 90, Loss 0.0477\n",
      "Training Accuracy: 0.9519, Testing Accuracy: 0.9617\n",
      "\n"
     ]
    },
    {
     "name": "stdout",
     "output_type": "stream",
     "text": [
      "Epoch 100, Loss 0.0463\n",
      "Training Accuracy: 0.9540, Testing Accuracy: 0.9617\n",
      "\n"
     ]
    },
    {
     "name": "stdout",
     "output_type": "stream",
     "text": [
      "Epoch 110, Loss 0.0451\n",
      "Training Accuracy: 0.9544, Testing Accuracy: 0.9617\n",
      "\n"
     ]
    },
    {
     "name": "stdout",
     "output_type": "stream",
     "text": [
      "Epoch 120, Loss 0.044\n",
      "Training Accuracy: 0.9551, Testing Accuracy: 0.9632\n",
      "\n"
     ]
    },
    {
     "name": "stdout",
     "output_type": "stream",
     "text": [
      "Epoch 130, Loss 0.0431\n",
      "Training Accuracy: 0.9555, Testing Accuracy: 0.9642\n",
      "\n"
     ]
    },
    {
     "name": "stdout",
     "output_type": "stream",
     "text": [
      "Epoch 140, Loss 0.0423\n",
      "Training Accuracy: 0.9563, Testing Accuracy: 0.9642\n",
      "\n"
     ]
    },
    {
     "name": "stdout",
     "output_type": "stream",
     "text": [
      "Epoch 150, Loss 0.0415\n",
      "Training Accuracy: 0.9569, Testing Accuracy: 0.9647\n",
      "\n"
     ]
    },
    {
     "name": "stdout",
     "output_type": "stream",
     "text": [
      "Epoch 160, Loss 0.0408\n",
      "Training Accuracy: 0.9574, Testing Accuracy: 0.9652\n",
      "\n"
     ]
    },
    {
     "name": "stdout",
     "output_type": "stream",
     "text": [
      "Epoch 170, Loss 0.0402\n",
      "Training Accuracy: 0.9571, Testing Accuracy: 0.9652\n",
      "\n"
     ]
    },
    {
     "name": "stdout",
     "output_type": "stream",
     "text": [
      "Epoch 180, Loss 0.0397\n",
      "Training Accuracy: 0.9578, Testing Accuracy: 0.9652\n",
      "\n"
     ]
    },
    {
     "name": "stdout",
     "output_type": "stream",
     "text": [
      "Epoch 190, Loss 0.0391\n",
      "Training Accuracy: 0.9581, Testing Accuracy: 0.9662\n",
      "\n"
     ]
    },
    {
     "name": "stdout",
     "output_type": "stream",
     "text": [
      "Epoch 200, Loss 0.0387\n",
      "Training Accuracy: 0.9584, Testing Accuracy: 0.9667\n",
      "\n"
     ]
    },
    {
     "name": "stdout",
     "output_type": "stream",
     "text": [
      "Epoch 210, Loss 0.0382\n",
      "Training Accuracy: 0.9591, Testing Accuracy: 0.9672\n",
      "\n"
     ]
    },
    {
     "name": "stdout",
     "output_type": "stream",
     "text": [
      "Epoch 220, Loss 0.0378\n",
      "Training Accuracy: 0.9594, Testing Accuracy: 0.9672\n",
      "\n"
     ]
    },
    {
     "name": "stdout",
     "output_type": "stream",
     "text": [
      "Epoch 230, Loss 0.0374\n",
      "Training Accuracy: 0.9596, Testing Accuracy: 0.9672\n",
      "\n"
     ]
    },
    {
     "name": "stdout",
     "output_type": "stream",
     "text": [
      "Epoch 240, Loss 0.0371\n",
      "Training Accuracy: 0.9599, Testing Accuracy: 0.9677\n",
      "\n"
     ]
    },
    {
     "name": "stdout",
     "output_type": "stream",
     "text": [
      "Epoch 250, Loss 0.0367\n",
      "Training Accuracy: 0.9603, Testing Accuracy: 0.9682\n",
      "\n"
     ]
    },
    {
     "data": {
      "text/plain": [
       "0.06419688085194208"
      ]
     },
     "execution_count": 22,
     "metadata": {},
     "output_type": "execute_result"
    }
   ],
   "source": [
    "print(\"====== Logistic Regression ======\")\n",
    "learner_lr.train_loop(dl)"
   ]
  },
  {
   "cell_type": "markdown",
   "metadata": {
    "papermill": {
     "duration": 0.060832,
     "end_time": "2020-10-28T00:10:04.050677",
     "exception": false,
     "start_time": "2020-10-28T00:10:03.989845",
     "status": "completed"
    },
    "tags": []
   },
   "source": [
    "### Comparing results of NN and LR"
   ]
  },
  {
   "cell_type": "code",
   "execution_count": 23,
   "metadata": {
    "execution": {
     "iopub.execute_input": "2020-10-28T00:10:04.158782Z",
     "iopub.status.busy": "2020-10-28T00:10:04.157811Z",
     "iopub.status.idle": "2020-10-28T00:10:04.437778Z",
     "shell.execute_reply": "2020-10-28T00:10:04.437233Z"
    },
    "papermill": {
     "duration": 0.333892,
     "end_time": "2020-10-28T00:10:04.437917",
     "exception": false,
     "start_time": "2020-10-28T00:10:04.104025",
     "status": "completed"
    },
    "tags": []
   },
   "outputs": [
    {
     "data": {
      "text/plain": [
       "<matplotlib.legend.Legend at 0x7f401bf882e8>"
      ]
     },
     "execution_count": 23,
     "metadata": {},
     "output_type": "execute_result"
    },
    {
     "data": {
      "image/png": "[encoded data removed]",
      "text/plain": [
       "<Figure size 1080x720 with 1 Axes>"
      ]
     },
     "metadata": {
      "needs_background": "light"
     },
     "output_type": "display_data"
    }
   ],
   "source": [
    "plt.figure(figsize=(15,10))\n",
    "\n",
    "# Neural Network plots\n",
    "plt.plot(acc_nn.accuracies, 'r-', label = \"Training Accuracies - NN\")\n",
    "plt.plot(acc_nn.test_accuracies, 'g-', label = \"Testing Accuracies - NN\")\n",
    "\n",
    "# Logistic Regression plots\n",
    "plt.plot(acc_lr.accuracies, 'k-', label = \"Training Accuracies - LR\")\n",
    "plt.plot(acc_lr.test_accuracies, 'b-', label = \"Testing Accuracies - LR\")\n",
    "\n",
    "plt.ylim(0.8, 1)\n",
    "\n",
    "plt.legend()\n",
    "\n"
   ]
  },
  {
   "cell_type": "markdown",
   "metadata": {
    "papermill": {
     "duration": 0.049601,
     "end_time": "2020-10-28T00:10:04.537234",
     "exception": false,
     "start_time": "2020-10-28T00:10:04.487633",
     "status": "completed"
    },
    "tags": []
   },
   "source": [
    "### From the plot, we can observe the following:\n",
    "- Neural Network achieves higher accuracy than the Logistic Regression model.\n",
    "- This apparently, is because of overfitting, i.e. NN captures more noise than data.\n",
    "- Testing accuracy of NN drops below the Training accuracy at higher epochs. This explains the over-fitting on training data.\n",
    "- Logistic Regression gives a reliable accuracy, without the above mentioned problem.\n"
   ]
  },
  {
   "cell_type": "markdown",
   "metadata": {
    "papermill": {
     "duration": 0.049045,
     "end_time": "2020-10-28T00:10:04.635812",
     "exception": false,
     "start_time": "2020-10-28T00:10:04.586767",
     "status": "completed"
    },
    "tags": []
   },
   "source": [
    "### Moving till the last but one layer (excluding it).\n",
    "#### Plotting the outputs of this layer of the NN."
   ]
  },
  {
   "cell_type": "code",
   "execution_count": 24,
   "metadata": {
    "execution": {
     "iopub.execute_input": "2020-10-28T00:10:04.739156Z",
     "iopub.status.busy": "2020-10-28T00:10:04.738530Z",
     "iopub.status.idle": "2020-10-28T00:10:04.754705Z",
     "shell.execute_reply": "2020-10-28T00:10:04.754050Z"
    },
    "papermill": {
     "duration": 0.069892,
     "end_time": "2020-10-28T00:10:04.754844",
     "exception": false,
     "start_time": "2020-10-28T00:10:04.684952",
     "status": "completed"
    },
    "tags": []
   },
   "outputs": [],
   "source": [
    "model_new = Model(layers[:-2])"
   ]
  },
  {
   "cell_type": "code",
   "execution_count": 25,
   "metadata": {
    "execution": {
     "iopub.execute_input": "2020-10-28T00:10:04.857308Z",
     "iopub.status.busy": "2020-10-28T00:10:04.856696Z",
     "iopub.status.idle": "2020-10-28T00:10:04.885062Z",
     "shell.execute_reply": "2020-10-28T00:10:04.885582Z"
    },
    "papermill": {
     "duration": 0.081627,
     "end_time": "2020-10-28T00:10:04.885745",
     "exception": false,
     "start_time": "2020-10-28T00:10:04.804118",
     "status": "completed"
    },
    "tags": []
   },
   "outputs": [],
   "source": [
    "plot_testing = model_new(testing_xdata)"
   ]
  },
  {
   "cell_type": "code",
   "execution_count": 26,
   "metadata": {
    "execution": {
     "iopub.execute_input": "2020-10-28T00:10:04.992399Z",
     "iopub.status.busy": "2020-10-28T00:10:04.990674Z",
     "iopub.status.idle": "2020-10-28T00:10:05.211478Z",
     "shell.execute_reply": "2020-10-28T00:10:05.211967Z"
    },
    "papermill": {
     "duration": 0.276917,
     "end_time": "2020-10-28T00:10:05.212127",
     "exception": false,
     "start_time": "2020-10-28T00:10:04.935210",
     "status": "completed"
    },
    "tags": []
   },
   "outputs": [
    {
     "data": {
      "text/plain": [
       "Text(0.5, 1.0, 'Outputs')"
      ]
     },
     "execution_count": 26,
     "metadata": {},
     "output_type": "execute_result"
    },
    {
     "data": {
      "image/png": "[encoded data removed]",
      "text/plain": [
       "<Figure size 576x504 with 1 Axes>"
      ]
     },
     "metadata": {
      "needs_background": "light"
     },
     "output_type": "display_data"
    }
   ],
   "source": [
    "plt.figure(figsize=(8,7))\n",
    "plt.scatter(plot_testing[:,0], plot_testing[:,1], alpha = 0.1, c = y_test.ravel());\n",
    "plt.title('Outputs')"
   ]
  },
  {
   "cell_type": "markdown",
   "metadata": {
    "papermill": {
     "duration": 0.062203,
     "end_time": "2020-10-28T00:10:05.327895",
     "exception": false,
     "start_time": "2020-10-28T00:10:05.265692",
     "status": "completed"
    },
    "tags": []
   },
   "source": [
    "### Plotting probability contours"
   ]
  },
  {
   "cell_type": "code",
   "execution_count": 27,
   "metadata": {
    "execution": {
     "iopub.execute_input": "2020-10-28T00:10:05.458741Z",
     "iopub.status.busy": "2020-10-28T00:10:05.457946Z",
     "iopub.status.idle": "2020-10-28T00:10:05.471789Z",
     "shell.execute_reply": "2020-10-28T00:10:05.471137Z"
    },
    "papermill": {
     "duration": 0.083707,
     "end_time": "2020-10-28T00:10:05.471930",
     "exception": false,
     "start_time": "2020-10-28T00:10:05.388223",
     "status": "completed"
    },
    "tags": []
   },
   "outputs": [],
   "source": [
    "model_prob = Model(layers[-2:]) "
   ]
  },
  {
   "cell_type": "code",
   "execution_count": 28,
   "metadata": {
    "execution": {
     "iopub.execute_input": "2020-10-28T00:10:05.584673Z",
     "iopub.status.busy": "2020-10-28T00:10:05.584057Z",
     "iopub.status.idle": "2020-10-28T00:10:05.599337Z",
     "shell.execute_reply": "2020-10-28T00:10:05.599806Z"
    },
    "papermill": {
     "duration": 0.07428,
     "end_time": "2020-10-28T00:10:05.599969",
     "exception": false,
     "start_time": "2020-10-28T00:10:05.525689",
     "status": "completed"
    },
    "tags": []
   },
   "outputs": [],
   "source": [
    "# Adjust the x and y ranges according to the above generated plot.\n",
    "x_range = np.linspace(-4, 1, 100) \n",
    "y_range = np.linspace(-6, 6, 100) \n",
    "x_grid, y_grid = np.meshgrid(x_range, y_range) # x_grid and y_grig are of size 100 X 100\n",
    "\n",
    "# converting x_grid and y_grid to continuous arrays\n",
    "x_grid_flat = np.ravel(x_grid)\n",
    "y_grid_flat = np.ravel(y_grid)\n",
    "\n",
    "# The last layer of the current model takes two columns as input. Hence transpose of np.vstack() is required.\n",
    "X = np.vstack((x_grid_flat, y_grid_flat)).T\n",
    "\n",
    "# x_grid and y_grid are of size 100 x 100\n",
    "probability_contour = model_prob(X).reshape(100,100) "
   ]
  },
  {
   "cell_type": "code",
   "execution_count": 29,
   "metadata": {
    "execution": {
     "iopub.execute_input": "2020-10-28T00:10:05.719918Z",
     "iopub.status.busy": "2020-10-28T00:10:05.719131Z",
     "iopub.status.idle": "2020-10-28T00:10:05.983401Z",
     "shell.execute_reply": "2020-10-28T00:10:05.983863Z"
    },
    "papermill": {
     "duration": 0.331635,
     "end_time": "2020-10-28T00:10:05.984026",
     "exception": false,
     "start_time": "2020-10-28T00:10:05.652391",
     "status": "completed"
    },
    "tags": []
   },
   "outputs": [
    {
     "data": {
      "image/png": "[encoded data removed]",
      "text/plain": [
       "<Figure size 720x648 with 1 Axes>"
      ]
     },
     "metadata": {
      "needs_background": "light"
     },
     "output_type": "display_data"
    }
   ],
   "source": [
    "plt.figure(figsize=(10,9))\n",
    "plt.scatter(plot_testing[:,0], plot_testing[:,1], alpha = 0.1, c = y_test.ravel())\n",
    "contours = plt.contour(x_grid,y_grid,probability_contour)\n",
    "plt.title('Probability Contours')\n",
    "plt.clabel(contours, inline = True );"
   ]
  }
 ],
 "metadata": {
  "kernelspec": {
   "display_name": "Python 3",
   "language": "python",
   "name": "python3"
  },
  "language_info": {
   "codemirror_mode": {
    "name": "ipython",
    "version": 3
   },
   "file_extension": ".py",
   "mimetype": "text/x-python",
   "name": "python",
   "nbconvert_exporter": "python",
   "pygments_lexer": "ipython3",
   "version": "3.6.12"
  },
  "papermill": {
   "duration": 134.848365,
   "end_time": "2020-10-28T00:10:06.453512",
   "environment_variables": {},
   "exception": null,
   "input_path": "2020-08-11-NeuralNetwork.ipynb",
   "output_path": "2020-08-11-NeuralNetwork.ipynb",
   "parameters": {},
   "start_time": "2020-10-28T00:07:51.605147",
   "version": "2.1.2"
  }
 },
 "nbformat": 4,
 "nbformat_minor": 4
}