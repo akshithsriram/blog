{
 "cells": [
  {
   "cell_type": "markdown",
   "metadata": {
    "papermill": {
     "duration": 0.165822,
     "end_time": "2020-09-26T00:06:39.533627",
     "exception": false,
     "start_time": "2020-09-26T00:06:39.367805",
     "status": "completed"
    },
    "tags": []
   },
   "source": [
    "# \"A Basic Neural Network: Differentiate Hand-Written Digits\"\n",
    "\n",
    "- badges: true\n",
    "- author: Akshith Sriram"
   ]
  },
  {
   "cell_type": "markdown",
   "metadata": {
    "papermill": {
     "duration": 0.057632,
     "end_time": "2020-09-26T00:06:39.830839",
     "exception": false,
     "start_time": "2020-09-26T00:06:39.773207",
     "status": "completed"
    },
    "tags": []
   },
   "source": [
    "### Key Objectives:\n",
    "- Building a neural network that differentiates two hand-written digits 3 and 8.\n",
    "- Comparing the results of this Neural Network (NN) to that of a Logistic Regression (LR) model.\n",
    "\n",
    "### Requirements:\n",
    "- 'Kudzu' : A neural network library that was designed during our course by [Univ.AI](www.univ.ai). \n",
    "- MNIST Database\n",
    "\n",
    "If MNIST is not installed, use the command `!pip install mnist` given below.\n",
    "It can be run both from the command line and Jupyter Notebook."
   ]
  },
  {
   "cell_type": "code",
   "execution_count": 1,
   "metadata": {
    "execution": {
     "iopub.execute_input": "2020-09-26T00:06:39.890368Z",
     "iopub.status.busy": "2020-09-26T00:06:39.888894Z",
     "iopub.status.idle": "2020-09-26T00:06:41.593683Z",
     "shell.execute_reply": "2020-09-26T00:06:41.592916Z"
    },
    "papermill": {
     "duration": 1.735758,
     "end_time": "2020-09-26T00:06:41.593895",
     "exception": false,
     "start_time": "2020-09-26T00:06:39.858137",
     "status": "completed"
    },
    "tags": []
   },
   "outputs": [
    {
     "name": "stdout",
     "output_type": "stream",
     "text": [
      "Collecting mnist\r\n"
     ]
    },
    {
     "name": "stdout",
     "output_type": "stream",
     "text": [
      "  Downloading mnist-0.2.2-py2.py3-none-any.whl (3.5 kB)\r\n"
     ]
    },
    {
     "name": "stdout",
     "output_type": "stream",
     "text": [
      "Requirement already satisfied: numpy in /opt/hostedtoolcache/Python/3.6.12/x64/lib/python3.6/site-packages (from mnist) (1.19.2)\r\n"
     ]
    },
    {
     "name": "stdout",
     "output_type": "stream",
     "text": [
      "Installing collected packages: mnist\r\n"
     ]
    },
    {
     "name": "stdout",
     "output_type": "stream",
     "text": [
      "Successfully installed mnist-0.2.2\r\n"
     ]
    }
   ],
   "source": [
    "!pip install mnist "
   ]
  },
  {
   "cell_type": "markdown",
   "metadata": {
    "papermill": {
     "duration": 0.033628,
     "end_time": "2020-09-26T00:06:41.662468",
     "exception": false,
     "start_time": "2020-09-26T00:06:41.628840",
     "status": "completed"
    },
    "tags": []
   },
   "source": [
    "#### Importing necessary libraries"
   ]
  },
  {
   "cell_type": "code",
   "execution_count": 2,
   "metadata": {
    "execution": {
     "iopub.execute_input": "2020-09-26T00:06:41.739773Z",
     "iopub.status.busy": "2020-09-26T00:06:41.739010Z",
     "iopub.status.idle": "2020-09-26T00:06:42.351160Z",
     "shell.execute_reply": "2020-09-26T00:06:42.350530Z"
    },
    "papermill": {
     "duration": 0.653437,
     "end_time": "2020-09-26T00:06:42.351332",
     "exception": false,
     "start_time": "2020-09-26T00:06:41.697895",
     "status": "completed"
    },
    "tags": []
   },
   "outputs": [],
   "source": [
    "%load_ext autoreload\n",
    "%autoreload 2\n",
    "\n",
    "%matplotlib inline\n",
    "import matplotlib.pyplot as plt\n",
    "\n",
    "import numpy as np\n",
    "import pandas as pd"
   ]
  },
  {
   "cell_type": "markdown",
   "metadata": {
    "papermill": {
     "duration": 0.027282,
     "end_time": "2020-09-26T00:06:42.412292",
     "exception": false,
     "start_time": "2020-09-26T00:06:42.385010",
     "status": "completed"
    },
    "tags": []
   },
   "source": [
    "### Preparing the Data"
   ]
  },
  {
   "cell_type": "code",
   "execution_count": 3,
   "metadata": {
    "execution": {
     "iopub.execute_input": "2020-09-26T00:06:42.473852Z",
     "iopub.status.busy": "2020-09-26T00:06:42.473270Z",
     "iopub.status.idle": "2020-09-26T00:06:42.485648Z",
     "shell.execute_reply": "2020-09-26T00:06:42.484989Z"
    },
    "papermill": {
     "duration": 0.046237,
     "end_time": "2020-09-26T00:06:42.485795",
     "exception": false,
     "start_time": "2020-09-26T00:06:42.439558",
     "status": "completed"
    },
    "tags": []
   },
   "outputs": [],
   "source": [
    "import mnist"
   ]
  },
  {
   "cell_type": "code",
   "execution_count": 4,
   "metadata": {
    "execution": {
     "iopub.execute_input": "2020-09-26T00:06:42.551321Z",
     "iopub.status.busy": "2020-09-26T00:06:42.550716Z",
     "iopub.status.idle": "2020-09-26T00:06:43.484539Z",
     "shell.execute_reply": "2020-09-26T00:06:43.482766Z"
    },
    "papermill": {
     "duration": 0.966911,
     "end_time": "2020-09-26T00:06:43.484718",
     "exception": false,
     "start_time": "2020-09-26T00:06:42.517807",
     "status": "completed"
    },
    "tags": []
   },
   "outputs": [],
   "source": [
    "train_images = mnist.train_images()\n",
    "train_labels = mnist.train_labels()"
   ]
  },
  {
   "cell_type": "code",
   "execution_count": 5,
   "metadata": {
    "execution": {
     "iopub.execute_input": "2020-09-26T00:06:43.549663Z",
     "iopub.status.busy": "2020-09-26T00:06:43.548917Z",
     "iopub.status.idle": "2020-09-26T00:06:43.565882Z",
     "shell.execute_reply": "2020-09-26T00:06:43.566708Z"
    },
    "papermill": {
     "duration": 0.050725,
     "end_time": "2020-09-26T00:06:43.566869",
     "exception": false,
     "start_time": "2020-09-26T00:06:43.516144",
     "status": "completed"
    },
    "tags": []
   },
   "outputs": [
    {
     "data": {
      "text/plain": [
       "((60000, 28, 28), (60000,))"
      ]
     },
     "execution_count": 5,
     "metadata": {},
     "output_type": "execute_result"
    }
   ],
   "source": [
    "train_images.shape, train_labels.shape"
   ]
  },
  {
   "cell_type": "code",
   "execution_count": 6,
   "metadata": {
    "execution": {
     "iopub.execute_input": "2020-09-26T00:06:43.644153Z",
     "iopub.status.busy": "2020-09-26T00:06:43.637028Z",
     "iopub.status.idle": "2020-09-26T00:06:44.082459Z",
     "shell.execute_reply": "2020-09-26T00:06:44.081748Z"
    },
    "papermill": {
     "duration": 0.480935,
     "end_time": "2020-09-26T00:06:44.082634",
     "exception": false,
     "start_time": "2020-09-26T00:06:43.601699",
     "status": "completed"
    },
    "tags": []
   },
   "outputs": [],
   "source": [
    "test_images = mnist.test_images()\n",
    "test_labels = mnist.test_labels()"
   ]
  },
  {
   "cell_type": "code",
   "execution_count": 7,
   "metadata": {
    "execution": {
     "iopub.execute_input": "2020-09-26T00:06:44.155464Z",
     "iopub.status.busy": "2020-09-26T00:06:44.154708Z",
     "iopub.status.idle": "2020-09-26T00:06:44.171022Z",
     "shell.execute_reply": "2020-09-26T00:06:44.171996Z"
    },
    "papermill": {
     "duration": 0.055576,
     "end_time": "2020-09-26T00:06:44.172271",
     "exception": false,
     "start_time": "2020-09-26T00:06:44.116695",
     "status": "completed"
    },
    "tags": []
   },
   "outputs": [
    {
     "data": {
      "text/plain": [
       "((10000, 28, 28), (10000,))"
      ]
     },
     "execution_count": 7,
     "metadata": {},
     "output_type": "execute_result"
    }
   ],
   "source": [
    "test_images.shape, test_labels.shape"
   ]
  },
  {
   "cell_type": "code",
   "execution_count": 8,
   "metadata": {
    "execution": {
     "iopub.execute_input": "2020-09-26T00:06:44.236235Z",
     "iopub.status.busy": "2020-09-26T00:06:44.235523Z",
     "iopub.status.idle": "2020-09-26T00:06:44.399360Z",
     "shell.execute_reply": "2020-09-26T00:06:44.399955Z"
    },
    "papermill": {
     "duration": 0.19694,
     "end_time": "2020-09-26T00:06:44.400142",
     "exception": false,
     "start_time": "2020-09-26T00:06:44.203202",
     "status": "completed"
    },
    "tags": []
   },
   "outputs": [
    {
     "name": "stdout",
     "output_type": "stream",
     "text": [
      "2\n"
     ]
    },
    {
     "data": {
      "text/plain": [
       "<matplotlib.image.AxesImage at 0x7f3380b147f0>"
      ]
     },
     "execution_count": 8,
     "metadata": {},
     "output_type": "execute_result"
    },
    {
     "data": {
      "image/png": "[encoded data removed]",
      "text/plain": [
       "<Figure size 432x288 with 1 Axes>"
      ]
     },
     "metadata": {
      "needs_background": "light"
     },
     "output_type": "display_data"
    }
   ],
   "source": [
    "image_index = 7776 # You may select anything up to 60,000\n",
    "print(train_labels[image_index]) \n",
    "plt.imshow(train_images[image_index], cmap='Greys')"
   ]
  },
  {
   "cell_type": "markdown",
   "metadata": {
    "papermill": {
     "duration": 0.029017,
     "end_time": "2020-09-26T00:06:44.464045",
     "exception": false,
     "start_time": "2020-09-26T00:06:44.435028",
     "status": "completed"
    },
    "tags": []
   },
   "source": [
    "## Filter data to get 3 and 8 out"
   ]
  },
  {
   "cell_type": "code",
   "execution_count": 9,
   "metadata": {
    "execution": {
     "iopub.execute_input": "2020-09-26T00:06:44.527410Z",
     "iopub.status.busy": "2020-09-26T00:06:44.526663Z",
     "iopub.status.idle": "2020-09-26T00:06:44.543535Z",
     "shell.execute_reply": "2020-09-26T00:06:44.542923Z"
    },
    "papermill": {
     "duration": 0.051747,
     "end_time": "2020-09-26T00:06:44.543701",
     "exception": false,
     "start_time": "2020-09-26T00:06:44.491954",
     "status": "completed"
    },
    "tags": []
   },
   "outputs": [],
   "source": [
    "train_filter = np.where((train_labels == 3 ) | (train_labels == 8))\n",
    "test_filter = np.where((test_labels == 3) | (test_labels == 8))\n",
    "X_train, y_train = train_images[train_filter], train_labels[train_filter]\n",
    "X_test, y_test = test_images[test_filter], test_labels[test_filter]"
   ]
  },
  {
   "cell_type": "markdown",
   "metadata": {
    "papermill": {
     "duration": 0.034723,
     "end_time": "2020-09-26T00:06:44.615846",
     "exception": false,
     "start_time": "2020-09-26T00:06:44.581123",
     "status": "completed"
    },
    "tags": []
   },
   "source": [
    "We normalize the pixel values in the 0 to 1 range"
   ]
  },
  {
   "cell_type": "code",
   "execution_count": 10,
   "metadata": {
    "execution": {
     "iopub.execute_input": "2020-09-26T00:06:44.690585Z",
     "iopub.status.busy": "2020-09-26T00:06:44.689825Z",
     "iopub.status.idle": "2020-09-26T00:06:44.756415Z",
     "shell.execute_reply": "2020-09-26T00:06:44.755784Z"
    },
    "papermill": {
     "duration": 0.105036,
     "end_time": "2020-09-26T00:06:44.756583",
     "exception": false,
     "start_time": "2020-09-26T00:06:44.651547",
     "status": "completed"
    },
    "tags": []
   },
   "outputs": [],
   "source": [
    "X_train = X_train/255.\n",
    "X_test = X_test/255."
   ]
  },
  {
   "cell_type": "markdown",
   "metadata": {
    "papermill": {
     "duration": 0.086618,
     "end_time": "2020-09-26T00:06:44.879303",
     "exception": false,
     "start_time": "2020-09-26T00:06:44.792685",
     "status": "completed"
    },
    "tags": []
   },
   "source": [
    "Setup the labels as 1 (when the digit is 3) and 0 (when the digit is 8)"
   ]
  },
  {
   "cell_type": "code",
   "execution_count": 11,
   "metadata": {
    "execution": {
     "iopub.execute_input": "2020-09-26T00:06:44.973446Z",
     "iopub.status.busy": "2020-09-26T00:06:44.972695Z",
     "iopub.status.idle": "2020-09-26T00:06:44.989392Z",
     "shell.execute_reply": "2020-09-26T00:06:44.988785Z"
    },
    "papermill": {
     "duration": 0.067959,
     "end_time": "2020-09-26T00:06:44.989556",
     "exception": false,
     "start_time": "2020-09-26T00:06:44.921597",
     "status": "completed"
    },
    "tags": []
   },
   "outputs": [],
   "source": [
    "y_train = 1*(y_train==3)\n",
    "y_test = 1*(y_test==3)"
   ]
  },
  {
   "cell_type": "code",
   "execution_count": 12,
   "metadata": {
    "execution": {
     "iopub.execute_input": "2020-09-26T00:06:45.083001Z",
     "iopub.status.busy": "2020-09-26T00:06:45.082399Z",
     "iopub.status.idle": "2020-09-26T00:06:45.097700Z",
     "shell.execute_reply": "2020-09-26T00:06:45.097205Z"
    },
    "papermill": {
     "duration": 0.067108,
     "end_time": "2020-09-26T00:06:45.097829",
     "exception": false,
     "start_time": "2020-09-26T00:06:45.030721",
     "status": "completed"
    },
    "tags": []
   },
   "outputs": [
    {
     "data": {
      "text/plain": [
       "((11982, 28, 28), (1984, 28, 28))"
      ]
     },
     "execution_count": 12,
     "metadata": {},
     "output_type": "execute_result"
    }
   ],
   "source": [
    "X_train.shape, X_test.shape"
   ]
  },
  {
   "cell_type": "markdown",
   "metadata": {
    "papermill": {
     "duration": 0.044907,
     "end_time": "2020-09-26T00:06:45.174553",
     "exception": false,
     "start_time": "2020-09-26T00:06:45.129646",
     "status": "completed"
    },
    "tags": []
   },
   "source": [
    "### Reshape the input data to create a linear array"
   ]
  },
  {
   "cell_type": "code",
   "execution_count": 13,
   "metadata": {
    "execution": {
     "iopub.execute_input": "2020-09-26T00:06:45.333631Z",
     "iopub.status.busy": "2020-09-26T00:06:45.332855Z",
     "iopub.status.idle": "2020-09-26T00:06:45.348566Z",
     "shell.execute_reply": "2020-09-26T00:06:45.348069Z"
    },
    "papermill": {
     "duration": 0.127075,
     "end_time": "2020-09-26T00:06:45.348688",
     "exception": false,
     "start_time": "2020-09-26T00:06:45.221613",
     "status": "completed"
    },
    "tags": []
   },
   "outputs": [
    {
     "data": {
      "text/plain": [
       "((11982, 784), (1984, 784))"
      ]
     },
     "execution_count": 13,
     "metadata": {},
     "output_type": "execute_result"
    }
   ],
   "source": [
    "X_train = X_train.reshape(X_train.shape[0], -1)\n",
    "X_test = X_test.reshape(X_test.shape[0], -1)\n",
    "X_train.shape, X_test.shape"
   ]
  },
  {
   "cell_type": "markdown",
   "metadata": {
    "papermill": {
     "duration": 0.035173,
     "end_time": "2020-09-26T00:06:45.412390",
     "exception": false,
     "start_time": "2020-09-26T00:06:45.377217",
     "status": "completed"
    },
    "tags": []
   },
   "source": [
    "### Importing appropriate functions from 'Kudzu'"
   ]
  },
  {
   "cell_type": "code",
   "execution_count": 14,
   "metadata": {
    "execution": {
     "iopub.execute_input": "2020-09-26T00:06:45.480508Z",
     "iopub.status.busy": "2020-09-26T00:06:45.479899Z",
     "iopub.status.idle": "2020-09-26T00:06:45.503007Z",
     "shell.execute_reply": "2020-09-26T00:06:45.503517Z"
    },
    "papermill": {
     "duration": 0.058862,
     "end_time": "2020-09-26T00:06:45.503794",
     "exception": false,
     "start_time": "2020-09-26T00:06:45.444932",
     "status": "completed"
    },
    "tags": []
   },
   "outputs": [],
   "source": [
    "from kudzu.layer import Sigmoid\n",
    "from kudzu.layer import Relu\n",
    "from kudzu.layer import Affine, Sigmoid\n",
    "\n",
    "from kudzu.model import Model\n",
    "from kudzu.train import Learner\n",
    "from kudzu.optim import GD\n",
    "from kudzu.data import Data, Dataloader, Sampler\n",
    "\n",
    "from kudzu.callbacks import AccCallback\n",
    "from kudzu.callbacks import ClfCallback\n",
    "\n",
    "from kudzu.loss import MSE"
   ]
  },
  {
   "cell_type": "markdown",
   "metadata": {
    "papermill": {
     "duration": 0.03758,
     "end_time": "2020-09-26T00:06:45.572807",
     "exception": false,
     "start_time": "2020-09-26T00:06:45.535227",
     "status": "completed"
    },
    "tags": []
   },
   "source": [
    "### Let us create a `Config` class, to store important parameters. \n",
    "This class essentially plays the role of a dictionary."
   ]
  },
  {
   "cell_type": "code",
   "execution_count": 15,
   "metadata": {
    "execution": {
     "iopub.execute_input": "2020-09-26T00:06:45.643542Z",
     "iopub.status.busy": "2020-09-26T00:06:45.642446Z",
     "iopub.status.idle": "2020-09-26T00:06:45.654520Z",
     "shell.execute_reply": "2020-09-26T00:06:45.655119Z"
    },
    "papermill": {
     "duration": 0.04882,
     "end_time": "2020-09-26T00:06:45.655285",
     "exception": false,
     "start_time": "2020-09-26T00:06:45.606465",
     "status": "completed"
    },
    "tags": []
   },
   "outputs": [],
   "source": [
    "class Config:\n",
    "    pass\n",
    "config = Config()\n",
    "config.lr = 0.001\n",
    "config.num_epochs = 251\n",
    "config.bs = 50"
   ]
  },
  {
   "cell_type": "markdown",
   "metadata": {
    "papermill": {
     "duration": 0.034552,
     "end_time": "2020-09-26T00:06:45.719063",
     "exception": false,
     "start_time": "2020-09-26T00:06:45.684511",
     "status": "completed"
    },
    "tags": []
   },
   "source": [
    "### Initializing data to the variables"
   ]
  },
  {
   "cell_type": "code",
   "execution_count": 16,
   "metadata": {
    "execution": {
     "iopub.execute_input": "2020-09-26T00:06:45.797167Z",
     "iopub.status.busy": "2020-09-26T00:06:45.788851Z",
     "iopub.status.idle": "2020-09-26T00:06:45.799575Z",
     "shell.execute_reply": "2020-09-26T00:06:45.799084Z"
    },
    "papermill": {
     "duration": 0.048009,
     "end_time": "2020-09-26T00:06:45.799695",
     "exception": false,
     "start_time": "2020-09-26T00:06:45.751686",
     "status": "completed"
    },
    "tags": []
   },
   "outputs": [],
   "source": [
    "data = Data(X_train, y_train.reshape(-1,1))\n",
    "sampler = Sampler(data, config.bs, shuffle=True)\n",
    "\n",
    "dl = Dataloader(data, sampler)\n",
    "\n",
    "opt = GD(config.lr)\n",
    "loss = MSE()"
   ]
  },
  {
   "cell_type": "code",
   "execution_count": 17,
   "metadata": {
    "execution": {
     "iopub.execute_input": "2020-09-26T00:06:45.862259Z",
     "iopub.status.busy": "2020-09-26T00:06:45.861580Z",
     "iopub.status.idle": "2020-09-26T00:06:45.875089Z",
     "shell.execute_reply": "2020-09-26T00:06:45.875622Z"
    },
    "papermill": {
     "duration": 0.048061,
     "end_time": "2020-09-26T00:06:45.875757",
     "exception": false,
     "start_time": "2020-09-26T00:06:45.827696",
     "status": "completed"
    },
    "tags": []
   },
   "outputs": [],
   "source": [
    "training_xdata = X_train\n",
    "testing_xdata = X_test\n",
    "training_ydata = y_train.reshape(-1,1)\n",
    "testing_ydata = y_test.reshape(-1,1)"
   ]
  },
  {
   "cell_type": "markdown",
   "metadata": {
    "papermill": {
     "duration": 0.027712,
     "end_time": "2020-09-26T00:06:45.933338",
     "exception": false,
     "start_time": "2020-09-26T00:06:45.905626",
     "status": "completed"
    },
    "tags": []
   },
   "source": [
    "### Running Models with the Training data\n",
    "Details about the network layers:\n",
    "- A first affine layer has 784 inputs and does 100 affine transforms. These are followed by a Relu\n",
    "- A second affine layer has 100 inputs from the 100 activations of the past layer, and does 100 affine transforms. These are followed by a Relu\n",
    "- A third affine layer has 100 activations and does 2 affine transformations to create an embedding for visualization. There is no non-linearity here.\n",
    "- A final \"logistic regression\" which has an affine transform from 2 inputs to 1 output, which is squeezed through a sigmoid.\n",
    "\n",
    "Help taken from Anshuman's Notebook."
   ]
  },
  {
   "cell_type": "code",
   "execution_count": 18,
   "metadata": {
    "execution": {
     "iopub.execute_input": "2020-09-26T00:06:45.999278Z",
     "iopub.status.busy": "2020-09-26T00:06:45.998598Z",
     "iopub.status.idle": "2020-09-26T00:06:46.012072Z",
     "shell.execute_reply": "2020-09-26T00:06:46.011518Z"
    },
    "papermill": {
     "duration": 0.049554,
     "end_time": "2020-09-26T00:06:46.012195",
     "exception": false,
     "start_time": "2020-09-26T00:06:45.962641",
     "status": "completed"
    },
    "tags": []
   },
   "outputs": [],
   "source": [
    "# layers for the Neural Network\n",
    "layers = [Affine(\"first\", 784, 100), Relu(\"first\"), Affine(\"second\", 100, 100), Relu(\"second\"), Affine(\"third\", 100, 2), Affine(\"final\", 2, 1), Sigmoid(\"final\")]\n",
    "model_nn = Model(layers)\n",
    "\n",
    "# layers for the Logistic Regression\n",
    "layers_lr = [Affine(\"logits\", 784, 1), Sigmoid(\"sigmoid\")]\n",
    "model_lr = Model(layers_lr)"
   ]
  },
  {
   "cell_type": "code",
   "execution_count": 19,
   "metadata": {
    "execution": {
     "iopub.execute_input": "2020-09-26T00:06:46.081437Z",
     "iopub.status.busy": "2020-09-26T00:06:46.080782Z",
     "iopub.status.idle": "2020-09-26T00:06:46.094823Z",
     "shell.execute_reply": "2020-09-26T00:06:46.095412Z"
    },
    "papermill": {
     "duration": 0.05463,
     "end_time": "2020-09-26T00:06:46.095558",
     "exception": false,
     "start_time": "2020-09-26T00:06:46.040928",
     "status": "completed"
    },
    "tags": []
   },
   "outputs": [],
   "source": [
    "# suffix _nn stands for Neural Network.\n",
    "learner_nn = Learner(loss, model_nn, opt, config.num_epochs)\n",
    "acc_nn = ClfCallback(learner_nn, config.bs, training_xdata , testing_xdata, training_ydata, testing_ydata)\n",
    "learner_nn.set_callbacks([acc_nn])"
   ]
  },
  {
   "cell_type": "code",
   "execution_count": 20,
   "metadata": {
    "execution": {
     "iopub.execute_input": "2020-09-26T00:06:46.159205Z",
     "iopub.status.busy": "2020-09-26T00:06:46.158584Z",
     "iopub.status.idle": "2020-09-26T00:08:51.624558Z",
     "shell.execute_reply": "2020-09-26T00:08:51.624038Z"
    },
    "papermill": {
     "duration": 125.500405,
     "end_time": "2020-09-26T00:08:51.624698",
     "exception": false,
     "start_time": "2020-09-26T00:06:46.124293",
     "status": "completed"
    },
    "tags": []
   },
   "outputs": [
    {
     "name": "stdout",
     "output_type": "stream",
     "text": [
      "====== Neural Network ======\n"
     ]
    },
    {
     "name": "stdout",
     "output_type": "stream",
     "text": [
      "Epoch 0, Loss 0.245\n",
      "Training Accuracy: 0.5497, Testing Accuracy: 0.5580\n",
      "\n"
     ]
    },
    {
     "name": "stdout",
     "output_type": "stream",
     "text": [
      "Epoch 10, Loss 0.153\n",
      "Training Accuracy: 0.8670, Testing Accuracy: 0.8730\n",
      "\n"
     ]
    },
    {
     "name": "stdout",
     "output_type": "stream",
     "text": [
      "Epoch 20, Loss 0.0829\n",
      "Training Accuracy: 0.9140, Testing Accuracy: 0.9294\n",
      "\n"
     ]
    },
    {
     "name": "stdout",
     "output_type": "stream",
     "text": [
      "Epoch 30, Loss 0.0581\n",
      "Training Accuracy: 0.9367, Testing Accuracy: 0.9496\n",
      "\n"
     ]
    },
    {
     "name": "stdout",
     "output_type": "stream",
     "text": [
      "Epoch 40, Loss 0.0471\n",
      "Training Accuracy: 0.9458, Testing Accuracy: 0.9556\n",
      "\n"
     ]
    },
    {
     "name": "stdout",
     "output_type": "stream",
     "text": [
      "Epoch 50, Loss 0.0411\n",
      "Training Accuracy: 0.9525, Testing Accuracy: 0.9602\n",
      "\n"
     ]
    },
    {
     "name": "stdout",
     "output_type": "stream",
     "text": [
      "Epoch 60, Loss 0.0373\n",
      "Training Accuracy: 0.9562, Testing Accuracy: 0.9632\n",
      "\n"
     ]
    },
    {
     "name": "stdout",
     "output_type": "stream",
     "text": [
      "Epoch 70, Loss 0.0346\n",
      "Training Accuracy: 0.9591, Testing Accuracy: 0.9667\n",
      "\n"
     ]
    },
    {
     "name": "stdout",
     "output_type": "stream",
     "text": [
      "Epoch 80, Loss 0.0326\n",
      "Training Accuracy: 0.9614, Testing Accuracy: 0.9662\n",
      "\n"
     ]
    },
    {
     "name": "stdout",
     "output_type": "stream",
     "text": [
      "Epoch 90, Loss 0.0311\n",
      "Training Accuracy: 0.9626, Testing Accuracy: 0.9662\n",
      "\n"
     ]
    },
    {
     "name": "stdout",
     "output_type": "stream",
     "text": [
      "Epoch 100, Loss 0.0298\n",
      "Training Accuracy: 0.9644, Testing Accuracy: 0.9672\n",
      "\n"
     ]
    },
    {
     "name": "stdout",
     "output_type": "stream",
     "text": [
      "Epoch 110, Loss 0.0287\n",
      "Training Accuracy: 0.9660, Testing Accuracy: 0.9688\n",
      "\n"
     ]
    },
    {
     "name": "stdout",
     "output_type": "stream",
     "text": [
      "Epoch 120, Loss 0.0278\n",
      "Training Accuracy: 0.9672, Testing Accuracy: 0.9698\n",
      "\n"
     ]
    },
    {
     "name": "stdout",
     "output_type": "stream",
     "text": [
      "Epoch 130, Loss 0.0269\n",
      "Training Accuracy: 0.9682, Testing Accuracy: 0.9708\n",
      "\n"
     ]
    },
    {
     "name": "stdout",
     "output_type": "stream",
     "text": [
      "Epoch 140, Loss 0.0262\n",
      "Training Accuracy: 0.9689, Testing Accuracy: 0.9708\n",
      "\n"
     ]
    },
    {
     "name": "stdout",
     "output_type": "stream",
     "text": [
      "Epoch 150, Loss 0.0255\n",
      "Training Accuracy: 0.9696, Testing Accuracy: 0.9718\n",
      "\n"
     ]
    },
    {
     "name": "stdout",
     "output_type": "stream",
     "text": [
      "Epoch 160, Loss 0.0249\n",
      "Training Accuracy: 0.9706, Testing Accuracy: 0.9723\n",
      "\n"
     ]
    },
    {
     "name": "stdout",
     "output_type": "stream",
     "text": [
      "Epoch 170, Loss 0.0243\n",
      "Training Accuracy: 0.9711, Testing Accuracy: 0.9728\n",
      "\n"
     ]
    },
    {
     "name": "stdout",
     "output_type": "stream",
     "text": [
      "Epoch 180, Loss 0.0238\n",
      "Training Accuracy: 0.9720, Testing Accuracy: 0.9728\n",
      "\n"
     ]
    },
    {
     "name": "stdout",
     "output_type": "stream",
     "text": [
      "Epoch 190, Loss 0.0233\n",
      "Training Accuracy: 0.9723, Testing Accuracy: 0.9728\n",
      "\n"
     ]
    },
    {
     "name": "stdout",
     "output_type": "stream",
     "text": [
      "Epoch 200, Loss 0.0228\n",
      "Training Accuracy: 0.9731, Testing Accuracy: 0.9723\n",
      "\n"
     ]
    },
    {
     "name": "stdout",
     "output_type": "stream",
     "text": [
      "Epoch 210, Loss 0.0224\n",
      "Training Accuracy: 0.9735, Testing Accuracy: 0.9723\n",
      "\n"
     ]
    },
    {
     "name": "stdout",
     "output_type": "stream",
     "text": [
      "Epoch 220, Loss 0.0219\n",
      "Training Accuracy: 0.9740, Testing Accuracy: 0.9718\n",
      "\n"
     ]
    },
    {
     "name": "stdout",
     "output_type": "stream",
     "text": [
      "Epoch 230, Loss 0.0215\n",
      "Training Accuracy: 0.9744, Testing Accuracy: 0.9728\n",
      "\n"
     ]
    },
    {
     "name": "stdout",
     "output_type": "stream",
     "text": [
      "Epoch 240, Loss 0.0211\n",
      "Training Accuracy: 0.9752, Testing Accuracy: 0.9733\n",
      "\n"
     ]
    },
    {
     "name": "stdout",
     "output_type": "stream",
     "text": [
      "Epoch 250, Loss 0.0208\n",
      "Training Accuracy: 0.9758, Testing Accuracy: 0.9733\n",
      "\n"
     ]
    },
    {
     "data": {
      "text/plain": [
       "0.037427262915095225"
      ]
     },
     "execution_count": 20,
     "metadata": {},
     "output_type": "execute_result"
    }
   ],
   "source": [
    "print(\"====== Neural Network ======\")\n",
    "learner_nn.train_loop(dl)"
   ]
  },
  {
   "cell_type": "markdown",
   "metadata": {
    "papermill": {
     "duration": 0.04013,
     "end_time": "2020-09-26T00:08:51.706895",
     "exception": false,
     "start_time": "2020-09-26T00:08:51.666765",
     "status": "completed"
    },
    "tags": []
   },
   "source": [
    "### Logistic Regression based Implementation."
   ]
  },
  {
   "cell_type": "code",
   "execution_count": 21,
   "metadata": {
    "execution": {
     "iopub.execute_input": "2020-09-26T00:08:51.795060Z",
     "iopub.status.busy": "2020-09-26T00:08:51.794422Z",
     "iopub.status.idle": "2020-09-26T00:08:51.806310Z",
     "shell.execute_reply": "2020-09-26T00:08:51.805728Z"
    },
    "papermill": {
     "duration": 0.059451,
     "end_time": "2020-09-26T00:08:51.806448",
     "exception": false,
     "start_time": "2020-09-26T00:08:51.746997",
     "status": "completed"
    },
    "tags": []
   },
   "outputs": [],
   "source": [
    "learner_lr = Learner(loss, model_lr, opt, config.num_epochs)\n",
    "acc_lr = ClfCallback(learner_lr, config.bs, training_xdata , testing_xdata, training_ydata, testing_ydata)\n",
    "learner_lr.set_callbacks([acc_lr])"
   ]
  },
  {
   "cell_type": "code",
   "execution_count": 22,
   "metadata": {
    "execution": {
     "iopub.execute_input": "2020-09-26T00:08:51.889788Z",
     "iopub.status.busy": "2020-09-26T00:08:51.887684Z",
     "iopub.status.idle": "2020-09-26T00:09:11.492076Z",
     "shell.execute_reply": "2020-09-26T00:09:11.492861Z"
    },
    "papermill": {
     "duration": 19.647282,
     "end_time": "2020-09-26T00:09:11.493017",
     "exception": false,
     "start_time": "2020-09-26T00:08:51.845735",
     "status": "completed"
    },
    "tags": []
   },
   "outputs": [
    {
     "name": "stdout",
     "output_type": "stream",
     "text": [
      "====== Logistic Regression ======\n",
      "Epoch 0, Loss 0.239\n",
      "Training Accuracy: 0.6666, Testing Accuracy: 0.6920\n",
      "\n"
     ]
    },
    {
     "name": "stdout",
     "output_type": "stream",
     "text": [
      "Epoch 10, Loss 0.106\n",
      "Training Accuracy: 0.8998, Testing Accuracy: 0.9108\n",
      "\n"
     ]
    },
    {
     "name": "stdout",
     "output_type": "stream",
     "text": [
      "Epoch 20, Loss 0.0808\n",
      "Training Accuracy: 0.9249, Testing Accuracy: 0.9345\n",
      "\n"
     ]
    },
    {
     "name": "stdout",
     "output_type": "stream",
     "text": [
      "Epoch 30, Loss 0.0691\n",
      "Training Accuracy: 0.9350, Testing Accuracy: 0.9451\n",
      "\n"
     ]
    },
    {
     "name": "stdout",
     "output_type": "stream",
     "text": [
      "Epoch 40, Loss 0.0622\n",
      "Training Accuracy: 0.9407, Testing Accuracy: 0.9491\n",
      "\n"
     ]
    },
    {
     "name": "stdout",
     "output_type": "stream",
     "text": [
      "Epoch 50, Loss 0.0575\n",
      "Training Accuracy: 0.9443, Testing Accuracy: 0.9536\n",
      "\n"
     ]
    },
    {
     "name": "stdout",
     "output_type": "stream",
     "text": [
      "Epoch 60, Loss 0.054\n",
      "Training Accuracy: 0.9473, Testing Accuracy: 0.9541\n",
      "\n"
     ]
    },
    {
     "name": "stdout",
     "output_type": "stream",
     "text": [
      "Epoch 70, Loss 0.0514\n",
      "Training Accuracy: 0.9490, Testing Accuracy: 0.9572\n",
      "\n"
     ]
    },
    {
     "name": "stdout",
     "output_type": "stream",
     "text": [
      "Epoch 80, Loss 0.0493\n",
      "Training Accuracy: 0.9504, Testing Accuracy: 0.9572\n",
      "\n"
     ]
    },
    {
     "name": "stdout",
     "output_type": "stream",
     "text": [
      "Epoch 90, Loss 0.0476\n",
      "Training Accuracy: 0.9523, Testing Accuracy: 0.9602\n",
      "\n"
     ]
    },
    {
     "name": "stdout",
     "output_type": "stream",
     "text": [
      "Epoch 100, Loss 0.0462\n",
      "Training Accuracy: 0.9532, Testing Accuracy: 0.9622\n",
      "\n"
     ]
    },
    {
     "name": "stdout",
     "output_type": "stream",
     "text": [
      "Epoch 110, Loss 0.0449\n",
      "Training Accuracy: 0.9539, Testing Accuracy: 0.9622\n",
      "\n"
     ]
    },
    {
     "name": "stdout",
     "output_type": "stream",
     "text": [
      "Epoch 120, Loss 0.0439\n",
      "Training Accuracy: 0.9549, Testing Accuracy: 0.9637\n",
      "\n"
     ]
    },
    {
     "name": "stdout",
     "output_type": "stream",
     "text": [
      "Epoch 130, Loss 0.0429\n",
      "Training Accuracy: 0.9556, Testing Accuracy: 0.9647\n",
      "\n"
     ]
    },
    {
     "name": "stdout",
     "output_type": "stream",
     "text": [
      "Epoch 140, Loss 0.0421\n",
      "Training Accuracy: 0.9562, Testing Accuracy: 0.9657\n",
      "\n"
     ]
    },
    {
     "name": "stdout",
     "output_type": "stream",
     "text": [
      "Epoch 150, Loss 0.0413\n",
      "Training Accuracy: 0.9564, Testing Accuracy: 0.9657\n",
      "\n"
     ]
    },
    {
     "name": "stdout",
     "output_type": "stream",
     "text": [
      "Epoch 160, Loss 0.0407\n",
      "Training Accuracy: 0.9570, Testing Accuracy: 0.9657\n",
      "\n"
     ]
    },
    {
     "name": "stdout",
     "output_type": "stream",
     "text": [
      "Epoch 170, Loss 0.04\n",
      "Training Accuracy: 0.9574, Testing Accuracy: 0.9657\n",
      "\n"
     ]
    },
    {
     "name": "stdout",
     "output_type": "stream",
     "text": [
      "Epoch 180, Loss 0.0395\n",
      "Training Accuracy: 0.9584, Testing Accuracy: 0.9657\n",
      "\n"
     ]
    },
    {
     "name": "stdout",
     "output_type": "stream",
     "text": [
      "Epoch 190, Loss 0.039\n",
      "Training Accuracy: 0.9588, Testing Accuracy: 0.9652\n",
      "\n"
     ]
    },
    {
     "name": "stdout",
     "output_type": "stream",
     "text": [
      "Epoch 200, Loss 0.0385\n",
      "Training Accuracy: 0.9594, Testing Accuracy: 0.9647\n",
      "\n"
     ]
    },
    {
     "name": "stdout",
     "output_type": "stream",
     "text": [
      "Epoch 210, Loss 0.038\n",
      "Training Accuracy: 0.9597, Testing Accuracy: 0.9647\n",
      "\n"
     ]
    },
    {
     "name": "stdout",
     "output_type": "stream",
     "text": [
      "Epoch 220, Loss 0.0376\n",
      "Training Accuracy: 0.9600, Testing Accuracy: 0.9652\n",
      "\n"
     ]
    },
    {
     "name": "stdout",
     "output_type": "stream",
     "text": [
      "Epoch 230, Loss 0.0372\n",
      "Training Accuracy: 0.9603, Testing Accuracy: 0.9657\n",
      "\n"
     ]
    },
    {
     "name": "stdout",
     "output_type": "stream",
     "text": [
      "Epoch 240, Loss 0.0369\n",
      "Training Accuracy: 0.9602, Testing Accuracy: 0.9662\n",
      "\n"
     ]
    },
    {
     "name": "stdout",
     "output_type": "stream",
     "text": [
      "Epoch 250, Loss 0.0365\n",
      "Training Accuracy: 0.9602, Testing Accuracy: 0.9667\n",
      "\n"
     ]
    },
    {
     "data": {
      "text/plain": [
       "0.018474557271634877"
      ]
     },
     "execution_count": 22,
     "metadata": {},
     "output_type": "execute_result"
    }
   ],
   "source": [
    "print(\"====== Logistic Regression ======\")\n",
    "learner_lr.train_loop(dl)"
   ]
  },
  {
   "cell_type": "markdown",
   "metadata": {
    "papermill": {
     "duration": 0.045828,
     "end_time": "2020-09-26T00:09:11.586511",
     "exception": false,
     "start_time": "2020-09-26T00:09:11.540683",
     "status": "completed"
    },
    "tags": []
   },
   "source": [
    "### Comparing results of NN and LR"
   ]
  },
  {
   "cell_type": "code",
   "execution_count": 23,
   "metadata": {
    "execution": {
     "iopub.execute_input": "2020-09-26T00:09:11.687970Z",
     "iopub.status.busy": "2020-09-26T00:09:11.687232Z",
     "iopub.status.idle": "2020-09-26T00:09:11.952869Z",
     "shell.execute_reply": "2020-09-26T00:09:11.953351Z"
    },
    "papermill": {
     "duration": 0.319777,
     "end_time": "2020-09-26T00:09:11.953517",
     "exception": false,
     "start_time": "2020-09-26T00:09:11.633740",
     "status": "completed"
    },
    "tags": []
   },
   "outputs": [
    {
     "data": {
      "text/plain": [
       "<matplotlib.legend.Legend at 0x7f3379ecf2b0>"
      ]
     },
     "execution_count": 23,
     "metadata": {},
     "output_type": "execute_result"
    },
    {
     "data": {
      "image/png": "[encoded data removed]",
      "text/plain": [
       "<Figure size 1080x720 with 1 Axes>"
      ]
     },
     "metadata": {
      "needs_background": "light"
     },
     "output_type": "display_data"
    }
   ],
   "source": [
    "plt.figure(figsize=(15,10))\n",
    "\n",
    "# Neural Network plots\n",
    "plt.plot(acc_nn.accuracies, 'r-', label = \"Training Accuracies - NN\")\n",
    "plt.plot(acc_nn.test_accuracies, 'g-', label = \"Testing Accuracies - NN\")\n",
    "\n",
    "# Logistic Regression plots\n",
    "plt.plot(acc_lr.accuracies, 'k-', label = \"Training Accuracies - LR\")\n",
    "plt.plot(acc_lr.test_accuracies, 'b-', label = \"Testing Accuracies - LR\")\n",
    "\n",
    "plt.ylim(0.8, 1)\n",
    "\n",
    "plt.legend()\n",
    "\n"
   ]
  },
  {
   "cell_type": "markdown",
   "metadata": {
    "papermill": {
     "duration": 0.048643,
     "end_time": "2020-09-26T00:09:12.051533",
     "exception": false,
     "start_time": "2020-09-26T00:09:12.002890",
     "status": "completed"
    },
    "tags": []
   },
   "source": [
    "### From the plot, we can observe the following:\n",
    "- Neural Network achieves higher accuracy than the Logistic Regression model.\n",
    "- This apparently, is because of overfitting, i.e. NN captures more noise than data.\n",
    "- Testing accuracy of NN drops below the Training accuracy at higher epochs. This explains the over-fitting on training data.\n",
    "- Logistic Regression gives a reliable accuracy, without the above mentioned problem.\n"
   ]
  },
  {
   "cell_type": "markdown",
   "metadata": {
    "papermill": {
     "duration": 0.053701,
     "end_time": "2020-09-26T00:09:12.169394",
     "exception": false,
     "start_time": "2020-09-26T00:09:12.115693",
     "status": "completed"
    },
    "tags": []
   },
   "source": [
    "### Moving till the last but one layer (excluding it).\n",
    "#### Plotting the outputs of this layer of the NN."
   ]
  },
  {
   "cell_type": "code",
   "execution_count": 24,
   "metadata": {
    "execution": {
     "iopub.execute_input": "2020-09-26T00:09:12.284253Z",
     "iopub.status.busy": "2020-09-26T00:09:12.283502Z",
     "iopub.status.idle": "2020-09-26T00:09:12.294234Z",
     "shell.execute_reply": "2020-09-26T00:09:12.293629Z"
    },
    "papermill": {
     "duration": 0.070883,
     "end_time": "2020-09-26T00:09:12.294386",
     "exception": false,
     "start_time": "2020-09-26T00:09:12.223503",
     "status": "completed"
    },
    "tags": []
   },
   "outputs": [],
   "source": [
    "model_new = Model(layers[:-2])"
   ]
  },
  {
   "cell_type": "code",
   "execution_count": 25,
   "metadata": {
    "execution": {
     "iopub.execute_input": "2020-09-26T00:09:12.402085Z",
     "iopub.status.busy": "2020-09-26T00:09:12.401439Z",
     "iopub.status.idle": "2020-09-26T00:09:12.428510Z",
     "shell.execute_reply": "2020-09-26T00:09:12.429333Z"
    },
    "papermill": {
     "duration": 0.084325,
     "end_time": "2020-09-26T00:09:12.429503",
     "exception": false,
     "start_time": "2020-09-26T00:09:12.345178",
     "status": "completed"
    },
    "tags": []
   },
   "outputs": [],
   "source": [
    "plot_testing = model_new(testing_xdata)"
   ]
  },
  {
   "cell_type": "code",
   "execution_count": 26,
   "metadata": {
    "execution": {
     "iopub.execute_input": "2020-09-26T00:09:12.547538Z",
     "iopub.status.busy": "2020-09-26T00:09:12.542895Z",
     "iopub.status.idle": "2020-09-26T00:09:12.789018Z",
     "shell.execute_reply": "2020-09-26T00:09:12.789531Z"
    },
    "papermill": {
     "duration": 0.311348,
     "end_time": "2020-09-26T00:09:12.789706",
     "exception": false,
     "start_time": "2020-09-26T00:09:12.478358",
     "status": "completed"
    },
    "tags": []
   },
   "outputs": [
    {
     "data": {
      "text/plain": [
       "Text(0.5, 1.0, 'Outputs')"
      ]
     },
     "execution_count": 26,
     "metadata": {},
     "output_type": "execute_result"
    },
    {
     "data": {
      "image/png": "[encoded data removed]",
      "text/plain": [
       "<Figure size 576x504 with 1 Axes>"
      ]
     },
     "metadata": {
      "needs_background": "light"
     },
     "output_type": "display_data"
    }
   ],
   "source": [
    "plt.figure(figsize=(8,7))\n",
    "plt.scatter(plot_testing[:,0], plot_testing[:,1], alpha = 0.1, c = y_test.ravel());\n",
    "plt.title('Outputs')"
   ]
  },
  {
   "cell_type": "markdown",
   "metadata": {
    "papermill": {
     "duration": 0.050022,
     "end_time": "2020-09-26T00:09:12.891141",
     "exception": false,
     "start_time": "2020-09-26T00:09:12.841119",
     "status": "completed"
    },
    "tags": []
   },
   "source": [
    "### Plotting probability contours"
   ]
  },
  {
   "cell_type": "code",
   "execution_count": 27,
   "metadata": {
    "execution": {
     "iopub.execute_input": "2020-09-26T00:09:12.996828Z",
     "iopub.status.busy": "2020-09-26T00:09:12.996206Z",
     "iopub.status.idle": "2020-09-26T00:09:13.009108Z",
     "shell.execute_reply": "2020-09-26T00:09:13.009581Z"
    },
    "papermill": {
     "duration": 0.067932,
     "end_time": "2020-09-26T00:09:13.009717",
     "exception": false,
     "start_time": "2020-09-26T00:09:12.941785",
     "status": "completed"
    },
    "tags": []
   },
   "outputs": [],
   "source": [
    "model_prob = Model(layers[-2:]) "
   ]
  },
  {
   "cell_type": "code",
   "execution_count": 28,
   "metadata": {
    "execution": {
     "iopub.execute_input": "2020-09-26T00:09:13.120813Z",
     "iopub.status.busy": "2020-09-26T00:09:13.120221Z",
     "iopub.status.idle": "2020-09-26T00:09:13.133162Z",
     "shell.execute_reply": "2020-09-26T00:09:13.133616Z"
    },
    "papermill": {
     "duration": 0.072877,
     "end_time": "2020-09-26T00:09:13.133759",
     "exception": false,
     "start_time": "2020-09-26T00:09:13.060882",
     "status": "completed"
    },
    "tags": []
   },
   "outputs": [],
   "source": [
    "# Adjust the x and y ranges according to the above generated plot.\n",
    "x_range = np.linspace(-4, 1, 100) \n",
    "y_range = np.linspace(-6, 6, 100) \n",
    "x_grid, y_grid = np.meshgrid(x_range, y_range) # x_grid and y_grig are of size 100 X 100\n",
    "\n",
    "# converting x_grid and y_grid to continuous arrays\n",
    "x_grid_flat = np.ravel(x_grid)\n",
    "y_grid_flat = np.ravel(y_grid)\n",
    "\n",
    "# The last layer of the current model takes two columns as input. Hence transpose of np.vstack() is required.\n",
    "X = np.vstack((x_grid_flat, y_grid_flat)).T\n",
    "\n",
    "# x_grid and y_grid are of size 100 x 100\n",
    "probability_contour = model_prob(X).reshape(100,100) "
   ]
  },
  {
   "cell_type": "code",
   "execution_count": 29,
   "metadata": {
    "execution": {
     "iopub.execute_input": "2020-09-26T00:09:13.239695Z",
     "iopub.status.busy": "2020-09-26T00:09:13.238989Z",
     "iopub.status.idle": "2020-09-26T00:09:13.529759Z",
     "shell.execute_reply": "2020-09-26T00:09:13.530352Z"
    },
    "papermill": {
     "duration": 0.347454,
     "end_time": "2020-09-26T00:09:13.530540",
     "exception": false,
     "start_time": "2020-09-26T00:09:13.183086",
     "status": "completed"
    },
    "tags": []
   },
   "outputs": [
    {
     "data": {
      "image/png": "[encoded data removed]",
      "text/plain": [
       "<Figure size 720x648 with 1 Axes>"
      ]
     },
     "metadata": {
      "needs_background": "light"
     },
     "output_type": "display_data"
    }
   ],
   "source": [
    "plt.figure(figsize=(10,9))\n",
    "plt.scatter(plot_testing[:,0], plot_testing[:,1], alpha = 0.1, c = y_test.ravel())\n",
    "contours = plt.contour(x_grid,y_grid,probability_contour)\n",
    "plt.title('Probability Contours')\n",
    "plt.clabel(contours, inline = True );"
   ]
  }
 ],
 "metadata": {
  "kernelspec": {
   "display_name": "Python 3",
   "language": "python",
   "name": "python3"
  },
  "language_info": {
   "codemirror_mode": {
    "name": "ipython",
    "version": 3
   },
   "file_extension": ".py",
   "mimetype": "text/x-python",
   "name": "python",
   "nbconvert_exporter": "python",
   "pygments_lexer": "ipython3",
   "version": "3.6.12"
  },
  "papermill": {
   "duration": 155.764764,
   "end_time": "2020-09-26T00:09:14.026925",
   "environment_variables": {},
   "exception": null,
   "input_path": "2020-08-11-NeuralNetwork.ipynb",
   "output_path": "2020-08-11-NeuralNetwork.ipynb",
   "parameters": {},
   "start_time": "2020-09-26T00:06:38.262161",
   "version": "2.1.2"
  }
 },
 "nbformat": 4,
 "nbformat_minor": 4
}