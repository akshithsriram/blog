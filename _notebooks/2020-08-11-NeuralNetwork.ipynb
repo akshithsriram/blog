{
 "cells": [
  {
   "cell_type": "markdown",
   "metadata": {
    "papermill": {
     "duration": 0.029914,
     "end_time": "2020-09-01T10:05:11.757680",
     "exception": false,
     "start_time": "2020-09-01T10:05:11.727766",
     "status": "completed"
    },
    "tags": []
   },
   "source": [
    "# \"A Basic Neural Network: Differentiate Hand-Written Digits\"\n",
    "\n",
    "- badges: true\n",
    "- author: Akshith Sriram"
   ]
  },
  {
   "cell_type": "markdown",
   "metadata": {
    "papermill": {
     "duration": 0.024717,
     "end_time": "2020-09-01T10:05:11.807075",
     "exception": false,
     "start_time": "2020-09-01T10:05:11.782358",
     "status": "completed"
    },
    "tags": []
   },
   "source": [
    "### Key Objectives:\n",
    "- Building a neural network that differentiates two hand-written digits 3 and 8.\n",
    "- Comparing the results of this Neural Network (NN) to that of a Logistic Regression (LR) model.\n",
    "\n",
    "### Requirements:\n",
    "- 'Kudzu' : A neural network library that was designed during our course by [Univ.AI](www.univ.ai). \n",
    "- MNIST Database\n",
    "\n",
    "If MNIST is not installed, use the command `!pip install mnist` given below.\n",
    "It can be run both from the command line and Jupyter Notebook."
   ]
  },
  {
   "cell_type": "code",
   "execution_count": 1,
   "metadata": {
    "execution": {
     "iopub.execute_input": "2020-09-01T10:05:11.862432Z",
     "iopub.status.busy": "2020-09-01T10:05:11.861875Z",
     "iopub.status.idle": "2020-09-01T10:05:13.456607Z",
     "shell.execute_reply": "2020-09-01T10:05:13.456026Z"
    },
    "papermill": {
     "duration": 1.62569,
     "end_time": "2020-09-01T10:05:13.456768",
     "exception": false,
     "start_time": "2020-09-01T10:05:11.831078",
     "status": "completed"
    },
    "tags": []
   },
   "outputs": [
    {
     "name": "stdout",
     "output_type": "stream",
     "text": [
      "Collecting mnist\r\n"
     ]
    },
    {
     "name": "stdout",
     "output_type": "stream",
     "text": [
      "  Downloading mnist-0.2.2-py2.py3-none-any.whl (3.5 kB)\r\n",
      "Requirement already satisfied: numpy in /opt/hostedtoolcache/Python/3.6.12/x64/lib/python3.6/site-packages (from mnist) (1.19.1)\r\n"
     ]
    },
    {
     "name": "stdout",
     "output_type": "stream",
     "text": [
      "Installing collected packages: mnist\r\n"
     ]
    },
    {
     "name": "stdout",
     "output_type": "stream",
     "text": [
      "Successfully installed mnist-0.2.2\r\n"
     ]
    }
   ],
   "source": [
    "!pip install mnist "
   ]
  },
  {
   "cell_type": "markdown",
   "metadata": {
    "papermill": {
     "duration": 0.027561,
     "end_time": "2020-09-01T10:05:13.511670",
     "exception": false,
     "start_time": "2020-09-01T10:05:13.484109",
     "status": "completed"
    },
    "tags": []
   },
   "source": [
    "#### Importing necessary libraries"
   ]
  },
  {
   "cell_type": "code",
   "execution_count": 2,
   "metadata": {
    "execution": {
     "iopub.execute_input": "2020-09-01T10:05:13.573299Z",
     "iopub.status.busy": "2020-09-01T10:05:13.572710Z",
     "iopub.status.idle": "2020-09-01T10:05:14.205881Z",
     "shell.execute_reply": "2020-09-01T10:05:14.205314Z"
    },
    "papermill": {
     "duration": 0.666978,
     "end_time": "2020-09-01T10:05:14.206023",
     "exception": false,
     "start_time": "2020-09-01T10:05:13.539045",
     "status": "completed"
    },
    "tags": []
   },
   "outputs": [],
   "source": [
    "%load_ext autoreload\n",
    "%autoreload 2\n",
    "\n",
    "%matplotlib inline\n",
    "import matplotlib.pyplot as plt\n",
    "\n",
    "import numpy as np\n",
    "import pandas as pd"
   ]
  },
  {
   "cell_type": "markdown",
   "metadata": {
    "papermill": {
     "duration": 0.046819,
     "end_time": "2020-09-01T10:05:14.288604",
     "exception": false,
     "start_time": "2020-09-01T10:05:14.241785",
     "status": "completed"
    },
    "tags": []
   },
   "source": [
    "### Preparing the Data"
   ]
  },
  {
   "cell_type": "code",
   "execution_count": 3,
   "metadata": {
    "execution": {
     "iopub.execute_input": "2020-09-01T10:05:14.352455Z",
     "iopub.status.busy": "2020-09-01T10:05:14.351364Z",
     "iopub.status.idle": "2020-09-01T10:05:14.362740Z",
     "shell.execute_reply": "2020-09-01T10:05:14.362190Z"
    },
    "papermill": {
     "duration": 0.045987,
     "end_time": "2020-09-01T10:05:14.362883",
     "exception": false,
     "start_time": "2020-09-01T10:05:14.316896",
     "status": "completed"
    },
    "tags": []
   },
   "outputs": [],
   "source": [
    "import mnist"
   ]
  },
  {
   "cell_type": "code",
   "execution_count": 4,
   "metadata": {
    "execution": {
     "iopub.execute_input": "2020-09-01T10:05:14.449202Z",
     "iopub.status.busy": "2020-09-01T10:05:14.448593Z",
     "iopub.status.idle": "2020-09-01T10:05:15.440851Z",
     "shell.execute_reply": "2020-09-01T10:05:15.439982Z"
    },
    "papermill": {
     "duration": 1.046735,
     "end_time": "2020-09-01T10:05:15.441081",
     "exception": false,
     "start_time": "2020-09-01T10:05:14.394346",
     "status": "completed"
    },
    "tags": []
   },
   "outputs": [],
   "source": [
    "train_images = mnist.train_images()\n",
    "train_labels = mnist.train_labels()"
   ]
  },
  {
   "cell_type": "code",
   "execution_count": 5,
   "metadata": {
    "execution": {
     "iopub.execute_input": "2020-09-01T10:05:15.503362Z",
     "iopub.status.busy": "2020-09-01T10:05:15.502749Z",
     "iopub.status.idle": "2020-09-01T10:05:15.519625Z",
     "shell.execute_reply": "2020-09-01T10:05:15.519084Z"
    },
    "papermill": {
     "duration": 0.051237,
     "end_time": "2020-09-01T10:05:15.519771",
     "exception": false,
     "start_time": "2020-09-01T10:05:15.468534",
     "status": "completed"
    },
    "tags": []
   },
   "outputs": [
    {
     "data": {
      "text/plain": [
       "((60000, 28, 28), (60000,))"
      ]
     },
     "execution_count": 5,
     "metadata": {},
     "output_type": "execute_result"
    }
   ],
   "source": [
    "train_images.shape, train_labels.shape"
   ]
  },
  {
   "cell_type": "code",
   "execution_count": 6,
   "metadata": {
    "execution": {
     "iopub.execute_input": "2020-09-01T10:05:15.580121Z",
     "iopub.status.busy": "2020-09-01T10:05:15.579539Z",
     "iopub.status.idle": "2020-09-01T10:05:15.973286Z",
     "shell.execute_reply": "2020-09-01T10:05:15.972697Z"
    },
    "papermill": {
     "duration": 0.424976,
     "end_time": "2020-09-01T10:05:15.973440",
     "exception": false,
     "start_time": "2020-09-01T10:05:15.548464",
     "status": "completed"
    },
    "tags": []
   },
   "outputs": [],
   "source": [
    "test_images = mnist.test_images()\n",
    "test_labels = mnist.test_labels()"
   ]
  },
  {
   "cell_type": "code",
   "execution_count": 7,
   "metadata": {
    "execution": {
     "iopub.execute_input": "2020-09-01T10:05:16.037837Z",
     "iopub.status.busy": "2020-09-01T10:05:16.036968Z",
     "iopub.status.idle": "2020-09-01T10:05:16.054646Z",
     "shell.execute_reply": "2020-09-01T10:05:16.054118Z"
    },
    "papermill": {
     "duration": 0.053934,
     "end_time": "2020-09-01T10:05:16.054784",
     "exception": false,
     "start_time": "2020-09-01T10:05:16.000850",
     "status": "completed"
    },
    "tags": []
   },
   "outputs": [
    {
     "data": {
      "text/plain": [
       "((10000, 28, 28), (10000,))"
      ]
     },
     "execution_count": 7,
     "metadata": {},
     "output_type": "execute_result"
    }
   ],
   "source": [
    "test_images.shape, test_labels.shape"
   ]
  },
  {
   "cell_type": "code",
   "execution_count": 8,
   "metadata": {
    "execution": {
     "iopub.execute_input": "2020-09-01T10:05:16.115285Z",
     "iopub.status.busy": "2020-09-01T10:05:16.114678Z",
     "iopub.status.idle": "2020-09-01T10:05:16.269991Z",
     "shell.execute_reply": "2020-09-01T10:05:16.270450Z"
    },
    "papermill": {
     "duration": 0.187894,
     "end_time": "2020-09-01T10:05:16.270640",
     "exception": false,
     "start_time": "2020-09-01T10:05:16.082746",
     "status": "completed"
    },
    "tags": []
   },
   "outputs": [
    {
     "name": "stdout",
     "output_type": "stream",
     "text": [
      "2\n"
     ]
    },
    {
     "data": {
      "text/plain": [
       "<matplotlib.image.AxesImage at 0x7f3ef776fbe0>"
      ]
     },
     "execution_count": 8,
     "metadata": {},
     "output_type": "execute_result"
    },
    {
     "data": {
      "image/png": "[encoded data removed]",
      "text/plain": [
       "<Figure size 432x288 with 1 Axes>"
      ]
     },
     "metadata": {
      "needs_background": "light"
     },
     "output_type": "display_data"
    }
   ],
   "source": [
    "image_index = 7776 # You may select anything up to 60,000\n",
    "print(train_labels[image_index]) \n",
    "plt.imshow(train_images[image_index], cmap='Greys')"
   ]
  },
  {
   "cell_type": "markdown",
   "metadata": {
    "papermill": {
     "duration": 0.030494,
     "end_time": "2020-09-01T10:05:16.332148",
     "exception": false,
     "start_time": "2020-09-01T10:05:16.301654",
     "status": "completed"
    },
    "tags": []
   },
   "source": [
    "## Filter data to get 3 and 8 out"
   ]
  },
  {
   "cell_type": "code",
   "execution_count": 9,
   "metadata": {
    "execution": {
     "iopub.execute_input": "2020-09-01T10:05:16.396894Z",
     "iopub.status.busy": "2020-09-01T10:05:16.396154Z",
     "iopub.status.idle": "2020-09-01T10:05:16.414765Z",
     "shell.execute_reply": "2020-09-01T10:05:16.415317Z"
    },
    "papermill": {
     "duration": 0.053945,
     "end_time": "2020-09-01T10:05:16.415486",
     "exception": false,
     "start_time": "2020-09-01T10:05:16.361541",
     "status": "completed"
    },
    "tags": []
   },
   "outputs": [],
   "source": [
    "train_filter = np.where((train_labels == 3 ) | (train_labels == 8))\n",
    "test_filter = np.where((test_labels == 3) | (test_labels == 8))\n",
    "X_train, y_train = train_images[train_filter], train_labels[train_filter]\n",
    "X_test, y_test = test_images[test_filter], test_labels[test_filter]"
   ]
  },
  {
   "cell_type": "markdown",
   "metadata": {
    "papermill": {
     "duration": 0.028829,
     "end_time": "2020-09-01T10:05:16.476760",
     "exception": false,
     "start_time": "2020-09-01T10:05:16.447931",
     "status": "completed"
    },
    "tags": []
   },
   "source": [
    "We normalize the pixel values in the 0 to 1 range"
   ]
  },
  {
   "cell_type": "code",
   "execution_count": 10,
   "metadata": {
    "execution": {
     "iopub.execute_input": "2020-09-01T10:05:16.552038Z",
     "iopub.status.busy": "2020-09-01T10:05:16.551399Z",
     "iopub.status.idle": "2020-09-01T10:05:16.605111Z",
     "shell.execute_reply": "2020-09-01T10:05:16.604328Z"
    },
    "papermill": {
     "duration": 0.090088,
     "end_time": "2020-09-01T10:05:16.605293",
     "exception": false,
     "start_time": "2020-09-01T10:05:16.515205",
     "status": "completed"
    },
    "tags": []
   },
   "outputs": [],
   "source": [
    "X_train = X_train/255.\n",
    "X_test = X_test/255."
   ]
  },
  {
   "cell_type": "markdown",
   "metadata": {
    "papermill": {
     "duration": 0.028656,
     "end_time": "2020-09-01T10:05:16.663588",
     "exception": false,
     "start_time": "2020-09-01T10:05:16.634932",
     "status": "completed"
    },
    "tags": []
   },
   "source": [
    "Setup the labels as 1 (when the digit is 3) and 0 (when the digit is 8)"
   ]
  },
  {
   "cell_type": "code",
   "execution_count": 11,
   "metadata": {
    "execution": {
     "iopub.execute_input": "2020-09-01T10:05:16.731390Z",
     "iopub.status.busy": "2020-09-01T10:05:16.730776Z",
     "iopub.status.idle": "2020-09-01T10:05:16.741734Z",
     "shell.execute_reply": "2020-09-01T10:05:16.741234Z"
    },
    "papermill": {
     "duration": 0.050453,
     "end_time": "2020-09-01T10:05:16.741873",
     "exception": false,
     "start_time": "2020-09-01T10:05:16.691420",
     "status": "completed"
    },
    "tags": []
   },
   "outputs": [],
   "source": [
    "y_train = 1*(y_train==3)\n",
    "y_test = 1*(y_test==3)"
   ]
  },
  {
   "cell_type": "code",
   "execution_count": 12,
   "metadata": {
    "execution": {
     "iopub.execute_input": "2020-09-01T10:05:16.803645Z",
     "iopub.status.busy": "2020-09-01T10:05:16.802913Z",
     "iopub.status.idle": "2020-09-01T10:05:16.818890Z",
     "shell.execute_reply": "2020-09-01T10:05:16.818054Z"
    },
    "papermill": {
     "duration": 0.04842,
     "end_time": "2020-09-01T10:05:16.819033",
     "exception": false,
     "start_time": "2020-09-01T10:05:16.770613",
     "status": "completed"
    },
    "tags": []
   },
   "outputs": [
    {
     "data": {
      "text/plain": [
       "((11982, 28, 28), (1984, 28, 28))"
      ]
     },
     "execution_count": 12,
     "metadata": {},
     "output_type": "execute_result"
    }
   ],
   "source": [
    "X_train.shape, X_test.shape"
   ]
  },
  {
   "cell_type": "markdown",
   "metadata": {
    "papermill": {
     "duration": 0.029589,
     "end_time": "2020-09-01T10:05:16.878018",
     "exception": false,
     "start_time": "2020-09-01T10:05:16.848429",
     "status": "completed"
    },
    "tags": []
   },
   "source": [
    "### Reshape the input data to create a linear array"
   ]
  },
  {
   "cell_type": "code",
   "execution_count": 13,
   "metadata": {
    "execution": {
     "iopub.execute_input": "2020-09-01T10:05:16.943696Z",
     "iopub.status.busy": "2020-09-01T10:05:16.943079Z",
     "iopub.status.idle": "2020-09-01T10:05:16.958335Z",
     "shell.execute_reply": "2020-09-01T10:05:16.957465Z"
    },
    "papermill": {
     "duration": 0.051891,
     "end_time": "2020-09-01T10:05:16.958583",
     "exception": false,
     "start_time": "2020-09-01T10:05:16.906692",
     "status": "completed"
    },
    "tags": []
   },
   "outputs": [
    {
     "data": {
      "text/plain": [
       "((11982, 784), (1984, 784))"
      ]
     },
     "execution_count": 13,
     "metadata": {},
     "output_type": "execute_result"
    }
   ],
   "source": [
    "X_train = X_train.reshape(X_train.shape[0], -1)\n",
    "X_test = X_test.reshape(X_test.shape[0], -1)\n",
    "X_train.shape, X_test.shape"
   ]
  },
  {
   "cell_type": "markdown",
   "metadata": {
    "papermill": {
     "duration": 0.029984,
     "end_time": "2020-09-01T10:05:17.020304",
     "exception": false,
     "start_time": "2020-09-01T10:05:16.990320",
     "status": "completed"
    },
    "tags": []
   },
   "source": [
    "### Importing appropriate functions from 'Kudzu'"
   ]
  },
  {
   "cell_type": "code",
   "execution_count": 14,
   "metadata": {
    "execution": {
     "iopub.execute_input": "2020-09-01T10:05:17.089746Z",
     "iopub.status.busy": "2020-09-01T10:05:17.089154Z",
     "iopub.status.idle": "2020-09-01T10:05:17.111857Z",
     "shell.execute_reply": "2020-09-01T10:05:17.110808Z"
    },
    "papermill": {
     "duration": 0.058082,
     "end_time": "2020-09-01T10:05:17.112092",
     "exception": false,
     "start_time": "2020-09-01T10:05:17.054010",
     "status": "completed"
    },
    "tags": []
   },
   "outputs": [],
   "source": [
    "from kudzu.layer import Sigmoid\n",
    "from kudzu.layer import Relu\n",
    "from kudzu.layer import Affine, Sigmoid\n",
    "\n",
    "from kudzu.model import Model\n",
    "from kudzu.train import Learner\n",
    "from kudzu.optim import GD\n",
    "from kudzu.data import Data, Dataloader, Sampler\n",
    "\n",
    "from kudzu.callbacks import AccCallback\n",
    "from kudzu.callbacks import ClfCallback\n",
    "\n",
    "from kudzu.loss import MSE"
   ]
  },
  {
   "cell_type": "markdown",
   "metadata": {
    "papermill": {
     "duration": 0.031364,
     "end_time": "2020-09-01T10:05:17.175731",
     "exception": false,
     "start_time": "2020-09-01T10:05:17.144367",
     "status": "completed"
    },
    "tags": []
   },
   "source": [
    "### Let us create a `Config` class, to store important parameters. \n",
    "This class essentially plays the role of a dictionary."
   ]
  },
  {
   "cell_type": "code",
   "execution_count": 15,
   "metadata": {
    "execution": {
     "iopub.execute_input": "2020-09-01T10:05:17.237675Z",
     "iopub.status.busy": "2020-09-01T10:05:17.237079Z",
     "iopub.status.idle": "2020-09-01T10:05:17.253342Z",
     "shell.execute_reply": "2020-09-01T10:05:17.252839Z"
    },
    "papermill": {
     "duration": 0.048712,
     "end_time": "2020-09-01T10:05:17.253475",
     "exception": false,
     "start_time": "2020-09-01T10:05:17.204763",
     "status": "completed"
    },
    "tags": []
   },
   "outputs": [],
   "source": [
    "class Config:\n",
    "    pass\n",
    "config = Config()\n",
    "config.lr = 0.001\n",
    "config.num_epochs = 251\n",
    "config.bs = 50"
   ]
  },
  {
   "cell_type": "markdown",
   "metadata": {
    "papermill": {
     "duration": 0.028191,
     "end_time": "2020-09-01T10:05:17.310165",
     "exception": false,
     "start_time": "2020-09-01T10:05:17.281974",
     "status": "completed"
    },
    "tags": []
   },
   "source": [
    "### Initializing data to the variables"
   ]
  },
  {
   "cell_type": "code",
   "execution_count": 16,
   "metadata": {
    "execution": {
     "iopub.execute_input": "2020-09-01T10:05:17.374111Z",
     "iopub.status.busy": "2020-09-01T10:05:17.373515Z",
     "iopub.status.idle": "2020-09-01T10:05:17.387885Z",
     "shell.execute_reply": "2020-09-01T10:05:17.386995Z"
    },
    "papermill": {
     "duration": 0.049055,
     "end_time": "2020-09-01T10:05:17.388099",
     "exception": false,
     "start_time": "2020-09-01T10:05:17.339044",
     "status": "completed"
    },
    "tags": []
   },
   "outputs": [],
   "source": [
    "data = Data(X_train, y_train.reshape(-1,1))\n",
    "sampler = Sampler(data, config.bs, shuffle=True)\n",
    "\n",
    "dl = Dataloader(data, sampler)\n",
    "\n",
    "opt = GD(config.lr)\n",
    "loss = MSE()"
   ]
  },
  {
   "cell_type": "code",
   "execution_count": 17,
   "metadata": {
    "execution": {
     "iopub.execute_input": "2020-09-01T10:05:17.452811Z",
     "iopub.status.busy": "2020-09-01T10:05:17.452205Z",
     "iopub.status.idle": "2020-09-01T10:05:17.465435Z",
     "shell.execute_reply": "2020-09-01T10:05:17.464889Z"
    },
    "papermill": {
     "duration": 0.048243,
     "end_time": "2020-09-01T10:05:17.465576",
     "exception": false,
     "start_time": "2020-09-01T10:05:17.417333",
     "status": "completed"
    },
    "tags": []
   },
   "outputs": [],
   "source": [
    "training_xdata = X_train\n",
    "testing_xdata = X_test\n",
    "training_ydata = y_train.reshape(-1,1)\n",
    "testing_ydata = y_test.reshape(-1,1)"
   ]
  },
  {
   "cell_type": "markdown",
   "metadata": {
    "papermill": {
     "duration": 0.029771,
     "end_time": "2020-09-01T10:05:17.524301",
     "exception": false,
     "start_time": "2020-09-01T10:05:17.494530",
     "status": "completed"
    },
    "tags": []
   },
   "source": [
    "### Running Models with the Training data\n",
    "Details about the network layers:\n",
    "- A first affine layer has 784 inputs and does 100 affine transforms. These are followed by a Relu\n",
    "- A second affine layer has 100 inputs from the 100 activations of the past layer, and does 100 affine transforms. These are followed by a Relu\n",
    "- A third affine layer has 100 activations and does 2 affine transformations to create an embedding for visualization. There is no non-linearity here.\n",
    "- A final \"logistic regression\" which has an affine transform from 2 inputs to 1 output, which is squeezed through a sigmoid.\n",
    "\n",
    "Help taken from Anshuman's Notebook."
   ]
  },
  {
   "cell_type": "code",
   "execution_count": 18,
   "metadata": {
    "execution": {
     "iopub.execute_input": "2020-09-01T10:05:17.595535Z",
     "iopub.status.busy": "2020-09-01T10:05:17.594907Z",
     "iopub.status.idle": "2020-09-01T10:05:17.613417Z",
     "shell.execute_reply": "2020-09-01T10:05:17.612902Z"
    },
    "papermill": {
     "duration": 0.053969,
     "end_time": "2020-09-01T10:05:17.613559",
     "exception": false,
     "start_time": "2020-09-01T10:05:17.559590",
     "status": "completed"
    },
    "tags": []
   },
   "outputs": [],
   "source": [
    "# layers for the Neural Network\n",
    "layers = [Affine(\"first\", 784, 100), Relu(\"first\"), Affine(\"second\", 100, 100), Relu(\"second\"), Affine(\"third\", 100, 2), Affine(\"final\", 2, 1), Sigmoid(\"final\")]\n",
    "model_nn = Model(layers)\n",
    "\n",
    "# layers for the Logistic Regression\n",
    "layers_lr = [Affine(\"logits\", 784, 1), Sigmoid(\"sigmoid\")]\n",
    "model_lr = Model(layers_lr)"
   ]
  },
  {
   "cell_type": "code",
   "execution_count": 19,
   "metadata": {
    "execution": {
     "iopub.execute_input": "2020-09-01T10:05:17.688280Z",
     "iopub.status.busy": "2020-09-01T10:05:17.687634Z",
     "iopub.status.idle": "2020-09-01T10:05:17.699286Z",
     "shell.execute_reply": "2020-09-01T10:05:17.698767Z"
    },
    "papermill": {
     "duration": 0.050649,
     "end_time": "2020-09-01T10:05:17.699431",
     "exception": false,
     "start_time": "2020-09-01T10:05:17.648782",
     "status": "completed"
    },
    "tags": []
   },
   "outputs": [],
   "source": [
    "# suffix _nn stands for Neural Network.\n",
    "learner_nn = Learner(loss, model_nn, opt, config.num_epochs)\n",
    "acc_nn = ClfCallback(learner_nn, config.bs, training_xdata , testing_xdata, training_ydata, testing_ydata)\n",
    "learner_nn.set_callbacks([acc_nn])"
   ]
  },
  {
   "cell_type": "code",
   "execution_count": 20,
   "metadata": {
    "execution": {
     "iopub.execute_input": "2020-09-01T10:05:17.763209Z",
     "iopub.status.busy": "2020-09-01T10:05:17.762588Z",
     "iopub.status.idle": "2020-09-01T10:06:46.542088Z",
     "shell.execute_reply": "2020-09-01T10:06:46.542594Z"
    },
    "papermill": {
     "duration": 88.812913,
     "end_time": "2020-09-01T10:06:46.542761",
     "exception": false,
     "start_time": "2020-09-01T10:05:17.729848",
     "status": "completed"
    },
    "tags": []
   },
   "outputs": [
    {
     "name": "stdout",
     "output_type": "stream",
     "text": [
      "====== Neural Network ======\n"
     ]
    },
    {
     "name": "stdout",
     "output_type": "stream",
     "text": [
      "Epoch 0, Loss 0.2517\n",
      "Training Accuracy: 0.5265, Testing Accuracy: 0.5076\n",
      "\n"
     ]
    },
    {
     "name": "stdout",
     "output_type": "stream",
     "text": [
      "Epoch 10, Loss 0.2002\n",
      "Training Accuracy: 0.8620, Testing Accuracy: 0.8558\n",
      "\n"
     ]
    },
    {
     "name": "stdout",
     "output_type": "stream",
     "text": [
      "Epoch 20, Loss 0.1013\n",
      "Training Accuracy: 0.9058, Testing Accuracy: 0.9168\n",
      "\n"
     ]
    },
    {
     "name": "stdout",
     "output_type": "stream",
     "text": [
      "Epoch 30, Loss 0.0633\n",
      "Training Accuracy: 0.9328, Testing Accuracy: 0.9446\n",
      "\n"
     ]
    },
    {
     "name": "stdout",
     "output_type": "stream",
     "text": [
      "Epoch 40, Loss 0.0489\n",
      "Training Accuracy: 0.9445, Testing Accuracy: 0.9561\n",
      "\n"
     ]
    },
    {
     "name": "stdout",
     "output_type": "stream",
     "text": [
      "Epoch 50, Loss 0.0416\n",
      "Training Accuracy: 0.9521, Testing Accuracy: 0.9617\n",
      "\n"
     ]
    },
    {
     "name": "stdout",
     "output_type": "stream",
     "text": [
      "Epoch 60, Loss 0.0372\n",
      "Training Accuracy: 0.9568, Testing Accuracy: 0.9662\n",
      "\n"
     ]
    },
    {
     "name": "stdout",
     "output_type": "stream",
     "text": [
      "Epoch 70, Loss 0.0342\n",
      "Training Accuracy: 0.9594, Testing Accuracy: 0.9703\n",
      "\n"
     ]
    },
    {
     "name": "stdout",
     "output_type": "stream",
     "text": [
      "Epoch 80, Loss 0.032\n",
      "Training Accuracy: 0.9620, Testing Accuracy: 0.9723\n",
      "\n"
     ]
    },
    {
     "name": "stdout",
     "output_type": "stream",
     "text": [
      "Epoch 90, Loss 0.0303\n",
      "Training Accuracy: 0.9639, Testing Accuracy: 0.9723\n",
      "\n"
     ]
    },
    {
     "name": "stdout",
     "output_type": "stream",
     "text": [
      "Epoch 100, Loss 0.0289\n",
      "Training Accuracy: 0.9659, Testing Accuracy: 0.9733\n",
      "\n"
     ]
    },
    {
     "name": "stdout",
     "output_type": "stream",
     "text": [
      "Epoch 110, Loss 0.0277\n",
      "Training Accuracy: 0.9670, Testing Accuracy: 0.9733\n",
      "\n"
     ]
    },
    {
     "name": "stdout",
     "output_type": "stream",
     "text": [
      "Epoch 120, Loss 0.0267\n",
      "Training Accuracy: 0.9687, Testing Accuracy: 0.9718\n",
      "\n"
     ]
    },
    {
     "name": "stdout",
     "output_type": "stream",
     "text": [
      "Epoch 130, Loss 0.0258\n",
      "Training Accuracy: 0.9697, Testing Accuracy: 0.9733\n",
      "\n"
     ]
    },
    {
     "name": "stdout",
     "output_type": "stream",
     "text": [
      "Epoch 140, Loss 0.025\n",
      "Training Accuracy: 0.9706, Testing Accuracy: 0.9728\n",
      "\n"
     ]
    },
    {
     "name": "stdout",
     "output_type": "stream",
     "text": [
      "Epoch 150, Loss 0.0243\n",
      "Training Accuracy: 0.9718, Testing Accuracy: 0.9738\n",
      "\n"
     ]
    },
    {
     "name": "stdout",
     "output_type": "stream",
     "text": [
      "Epoch 160, Loss 0.0236\n",
      "Training Accuracy: 0.9727, Testing Accuracy: 0.9743\n",
      "\n"
     ]
    },
    {
     "name": "stdout",
     "output_type": "stream",
     "text": [
      "Epoch 170, Loss 0.023\n",
      "Training Accuracy: 0.9733, Testing Accuracy: 0.9743\n",
      "\n"
     ]
    },
    {
     "name": "stdout",
     "output_type": "stream",
     "text": [
      "Epoch 180, Loss 0.0225\n",
      "Training Accuracy: 0.9732, Testing Accuracy: 0.9738\n",
      "\n"
     ]
    },
    {
     "name": "stdout",
     "output_type": "stream",
     "text": [
      "Epoch 190, Loss 0.0219\n",
      "Training Accuracy: 0.9735, Testing Accuracy: 0.9738\n",
      "\n"
     ]
    },
    {
     "name": "stdout",
     "output_type": "stream",
     "text": [
      "Epoch 200, Loss 0.0214\n",
      "Training Accuracy: 0.9740, Testing Accuracy: 0.9738\n",
      "\n"
     ]
    },
    {
     "name": "stdout",
     "output_type": "stream",
     "text": [
      "Epoch 210, Loss 0.021\n",
      "Training Accuracy: 0.9747, Testing Accuracy: 0.9738\n",
      "\n"
     ]
    },
    {
     "name": "stdout",
     "output_type": "stream",
     "text": [
      "Epoch 220, Loss 0.0205\n",
      "Training Accuracy: 0.9753, Testing Accuracy: 0.9748\n",
      "\n"
     ]
    },
    {
     "name": "stdout",
     "output_type": "stream",
     "text": [
      "Epoch 230, Loss 0.0201\n",
      "Training Accuracy: 0.9764, Testing Accuracy: 0.9758\n",
      "\n"
     ]
    },
    {
     "name": "stdout",
     "output_type": "stream",
     "text": [
      "Epoch 240, Loss 0.0197\n",
      "Training Accuracy: 0.9767, Testing Accuracy: 0.9758\n",
      "\n"
     ]
    },
    {
     "name": "stdout",
     "output_type": "stream",
     "text": [
      "Epoch 250, Loss 0.0193\n",
      "Training Accuracy: 0.9772, Testing Accuracy: 0.9758\n",
      "\n"
     ]
    },
    {
     "data": {
      "text/plain": [
       "0.02295407406808684"
      ]
     },
     "execution_count": 20,
     "metadata": {},
     "output_type": "execute_result"
    }
   ],
   "source": [
    "print(\"====== Neural Network ======\")\n",
    "learner_nn.train_loop(dl)"
   ]
  },
  {
   "cell_type": "markdown",
   "metadata": {
    "papermill": {
     "duration": 0.037048,
     "end_time": "2020-09-01T10:06:46.617181",
     "exception": false,
     "start_time": "2020-09-01T10:06:46.580133",
     "status": "completed"
    },
    "tags": []
   },
   "source": [
    "### Logistic Regression based Implementation."
   ]
  },
  {
   "cell_type": "code",
   "execution_count": 21,
   "metadata": {
    "execution": {
     "iopub.execute_input": "2020-09-01T10:06:46.698241Z",
     "iopub.status.busy": "2020-09-01T10:06:46.697614Z",
     "iopub.status.idle": "2020-09-01T10:06:46.716604Z",
     "shell.execute_reply": "2020-09-01T10:06:46.717663Z"
    },
    "papermill": {
     "duration": 0.063537,
     "end_time": "2020-09-01T10:06:46.717828",
     "exception": false,
     "start_time": "2020-09-01T10:06:46.654291",
     "status": "completed"
    },
    "tags": []
   },
   "outputs": [],
   "source": [
    "learner_lr = Learner(loss, model_lr, opt, config.num_epochs)\n",
    "acc_lr = ClfCallback(learner_lr, config.bs, training_xdata , testing_xdata, training_ydata, testing_ydata)\n",
    "learner_lr.set_callbacks([acc_lr])"
   ]
  },
  {
   "cell_type": "code",
   "execution_count": 22,
   "metadata": {
    "execution": {
     "iopub.execute_input": "2020-09-01T10:06:46.796341Z",
     "iopub.status.busy": "2020-09-01T10:06:46.795739Z",
     "iopub.status.idle": "2020-09-01T10:07:03.619775Z",
     "shell.execute_reply": "2020-09-01T10:07:03.620550Z"
    },
    "papermill": {
     "duration": 16.865842,
     "end_time": "2020-09-01T10:07:03.620721",
     "exception": false,
     "start_time": "2020-09-01T10:06:46.754879",
     "status": "completed"
    },
    "tags": []
   },
   "outputs": [
    {
     "name": "stdout",
     "output_type": "stream",
     "text": [
      "====== Logistic Regression ======\n",
      "Epoch 0, Loss 0.2238\n",
      "Training Accuracy: 0.7487, Testing Accuracy: 0.7460\n",
      "\n"
     ]
    },
    {
     "name": "stdout",
     "output_type": "stream",
     "text": [
      "Epoch 10, Loss 0.0996\n",
      "Training Accuracy: 0.9183, Testing Accuracy: 0.9315\n",
      "\n"
     ]
    },
    {
     "name": "stdout",
     "output_type": "stream",
     "text": [
      "Epoch 20, Loss 0.0774\n",
      "Training Accuracy: 0.9305, Testing Accuracy: 0.9451\n",
      "\n"
     ]
    },
    {
     "name": "stdout",
     "output_type": "stream",
     "text": [
      "Epoch 30, Loss 0.0671\n",
      "Training Accuracy: 0.9375, Testing Accuracy: 0.9481\n",
      "\n"
     ]
    },
    {
     "name": "stdout",
     "output_type": "stream",
     "text": [
      "Epoch 40, Loss 0.0609\n",
      "Training Accuracy: 0.9420, Testing Accuracy: 0.9546\n",
      "\n"
     ]
    },
    {
     "name": "stdout",
     "output_type": "stream",
     "text": [
      "Epoch 50, Loss 0.0566\n",
      "Training Accuracy: 0.9445, Testing Accuracy: 0.9572\n",
      "\n"
     ]
    },
    {
     "name": "stdout",
     "output_type": "stream",
     "text": [
      "Epoch 60, Loss 0.0534\n",
      "Training Accuracy: 0.9465, Testing Accuracy: 0.9587\n",
      "\n"
     ]
    },
    {
     "name": "stdout",
     "output_type": "stream",
     "text": [
      "Epoch 70, Loss 0.051\n",
      "Training Accuracy: 0.9488, Testing Accuracy: 0.9582\n",
      "\n"
     ]
    },
    {
     "name": "stdout",
     "output_type": "stream",
     "text": [
      "Epoch 80, Loss 0.049\n",
      "Training Accuracy: 0.9508, Testing Accuracy: 0.9587\n",
      "\n"
     ]
    },
    {
     "name": "stdout",
     "output_type": "stream",
     "text": [
      "Epoch 90, Loss 0.0474\n",
      "Training Accuracy: 0.9520, Testing Accuracy: 0.9602\n",
      "\n"
     ]
    },
    {
     "name": "stdout",
     "output_type": "stream",
     "text": [
      "Epoch 100, Loss 0.046\n",
      "Training Accuracy: 0.9530, Testing Accuracy: 0.9602\n",
      "\n"
     ]
    },
    {
     "name": "stdout",
     "output_type": "stream",
     "text": [
      "Epoch 110, Loss 0.0448\n",
      "Training Accuracy: 0.9538, Testing Accuracy: 0.9612\n",
      "\n"
     ]
    },
    {
     "name": "stdout",
     "output_type": "stream",
     "text": [
      "Epoch 120, Loss 0.0438\n",
      "Training Accuracy: 0.9546, Testing Accuracy: 0.9617\n",
      "\n"
     ]
    },
    {
     "name": "stdout",
     "output_type": "stream",
     "text": [
      "Epoch 130, Loss 0.0429\n",
      "Training Accuracy: 0.9551, Testing Accuracy: 0.9622\n",
      "\n"
     ]
    },
    {
     "name": "stdout",
     "output_type": "stream",
     "text": [
      "Epoch 140, Loss 0.0421\n",
      "Training Accuracy: 0.9559, Testing Accuracy: 0.9637\n",
      "\n"
     ]
    },
    {
     "name": "stdout",
     "output_type": "stream",
     "text": [
      "Epoch 150, Loss 0.0414\n",
      "Training Accuracy: 0.9565, Testing Accuracy: 0.9637\n",
      "\n"
     ]
    },
    {
     "name": "stdout",
     "output_type": "stream",
     "text": [
      "Epoch 160, Loss 0.0407\n",
      "Training Accuracy: 0.9575, Testing Accuracy: 0.9642\n",
      "\n"
     ]
    },
    {
     "name": "stdout",
     "output_type": "stream",
     "text": [
      "Epoch 170, Loss 0.0401\n",
      "Training Accuracy: 0.9579, Testing Accuracy: 0.9642\n",
      "\n"
     ]
    },
    {
     "name": "stdout",
     "output_type": "stream",
     "text": [
      "Epoch 180, Loss 0.0395\n",
      "Training Accuracy: 0.9585, Testing Accuracy: 0.9647\n",
      "\n"
     ]
    },
    {
     "name": "stdout",
     "output_type": "stream",
     "text": [
      "Epoch 190, Loss 0.039\n",
      "Training Accuracy: 0.9590, Testing Accuracy: 0.9657\n",
      "\n"
     ]
    },
    {
     "name": "stdout",
     "output_type": "stream",
     "text": [
      "Epoch 200, Loss 0.0386\n",
      "Training Accuracy: 0.9597, Testing Accuracy: 0.9662\n",
      "\n"
     ]
    },
    {
     "name": "stdout",
     "output_type": "stream",
     "text": [
      "Epoch 210, Loss 0.0381\n",
      "Training Accuracy: 0.9596, Testing Accuracy: 0.9662\n",
      "\n"
     ]
    },
    {
     "name": "stdout",
     "output_type": "stream",
     "text": [
      "Epoch 220, Loss 0.0377\n",
      "Training Accuracy: 0.9598, Testing Accuracy: 0.9662\n",
      "\n"
     ]
    },
    {
     "name": "stdout",
     "output_type": "stream",
     "text": [
      "Epoch 230, Loss 0.0374\n",
      "Training Accuracy: 0.9600, Testing Accuracy: 0.9662\n",
      "\n"
     ]
    },
    {
     "name": "stdout",
     "output_type": "stream",
     "text": [
      "Epoch 240, Loss 0.037\n",
      "Training Accuracy: 0.9602, Testing Accuracy: 0.9662\n",
      "\n"
     ]
    },
    {
     "name": "stdout",
     "output_type": "stream",
     "text": [
      "Epoch 250, Loss 0.0367\n",
      "Training Accuracy: 0.9603, Testing Accuracy: 0.9662\n",
      "\n"
     ]
    },
    {
     "data": {
      "text/plain": [
       "0.04985041436581258"
      ]
     },
     "execution_count": 22,
     "metadata": {},
     "output_type": "execute_result"
    }
   ],
   "source": [
    "print(\"====== Logistic Regression ======\")\n",
    "learner_lr.train_loop(dl)"
   ]
  },
  {
   "cell_type": "markdown",
   "metadata": {
    "papermill": {
     "duration": 0.044922,
     "end_time": "2020-09-01T10:07:03.711497",
     "exception": false,
     "start_time": "2020-09-01T10:07:03.666575",
     "status": "completed"
    },
    "tags": []
   },
   "source": [
    "### Comparing results of NN and LR"
   ]
  },
  {
   "cell_type": "code",
   "execution_count": 23,
   "metadata": {
    "execution": {
     "iopub.execute_input": "2020-09-01T10:07:03.810909Z",
     "iopub.status.busy": "2020-09-01T10:07:03.810248Z",
     "iopub.status.idle": "2020-09-01T10:07:04.056658Z",
     "shell.execute_reply": "2020-09-01T10:07:04.057217Z"
    },
    "papermill": {
     "duration": 0.300556,
     "end_time": "2020-09-01T10:07:04.057396",
     "exception": false,
     "start_time": "2020-09-01T10:07:03.756840",
     "status": "completed"
    },
    "tags": []
   },
   "outputs": [
    {
     "data": {
      "text/plain": [
       "<matplotlib.legend.Legend at 0x7f3ef2ba8390>"
      ]
     },
     "execution_count": 23,
     "metadata": {},
     "output_type": "execute_result"
    },
    {
     "data": {
      "image/png": "[encoded data removed]",
      "text/plain": [
       "<Figure size 1080x720 with 1 Axes>"
      ]
     },
     "metadata": {
      "needs_background": "light"
     },
     "output_type": "display_data"
    }
   ],
   "source": [
    "plt.figure(figsize=(15,10))\n",
    "\n",
    "# Neural Network plots\n",
    "plt.plot(acc_nn.accuracies, 'r-', label = \"Training Accuracies - NN\")\n",
    "plt.plot(acc_nn.test_accuracies, 'g-', label = \"Testing Accuracies - NN\")\n",
    "\n",
    "# Logistic Regression plots\n",
    "plt.plot(acc_lr.accuracies, 'k-', label = \"Training Accuracies - LR\")\n",
    "plt.plot(acc_lr.test_accuracies, 'b-', label = \"Testing Accuracies - LR\")\n",
    "\n",
    "plt.ylim(0.8, 1)\n",
    "\n",
    "plt.legend()\n",
    "\n"
   ]
  },
  {
   "cell_type": "markdown",
   "metadata": {
    "papermill": {
     "duration": 0.04507,
     "end_time": "2020-09-01T10:07:04.147602",
     "exception": false,
     "start_time": "2020-09-01T10:07:04.102532",
     "status": "completed"
    },
    "tags": []
   },
   "source": [
    "### From the plot, we can observe the following:\n",
    "- Neural Network achieves higher accuracy than the Logistic Regression model.\n",
    "- This apparently, is because of overfitting, i.e. NN captures more noise than data.\n",
    "- Testing accuracy of NN drops below the Training accuracy at higher epochs. This explains the over-fitting on training data.\n",
    "- Logistic Regression gives a reliable accuracy, without the above mentioned problem.\n"
   ]
  },
  {
   "cell_type": "markdown",
   "metadata": {
    "papermill": {
     "duration": 0.043605,
     "end_time": "2020-09-01T10:07:04.235994",
     "exception": false,
     "start_time": "2020-09-01T10:07:04.192389",
     "status": "completed"
    },
    "tags": []
   },
   "source": [
    "### Moving till the last but one layer (excluding it).\n",
    "#### Plotting the outputs of this layer of the NN."
   ]
  },
  {
   "cell_type": "code",
   "execution_count": 24,
   "metadata": {
    "execution": {
     "iopub.execute_input": "2020-09-01T10:07:04.332246Z",
     "iopub.status.busy": "2020-09-01T10:07:04.331666Z",
     "iopub.status.idle": "2020-09-01T10:07:04.344770Z",
     "shell.execute_reply": "2020-09-01T10:07:04.345242Z"
    },
    "papermill": {
     "duration": 0.063971,
     "end_time": "2020-09-01T10:07:04.345425",
     "exception": false,
     "start_time": "2020-09-01T10:07:04.281454",
     "status": "completed"
    },
    "tags": []
   },
   "outputs": [],
   "source": [
    "model_new = Model(layers[:-2])"
   ]
  },
  {
   "cell_type": "code",
   "execution_count": 25,
   "metadata": {
    "execution": {
     "iopub.execute_input": "2020-09-01T10:07:04.443534Z",
     "iopub.status.busy": "2020-09-01T10:07:04.442930Z",
     "iopub.status.idle": "2020-09-01T10:07:04.463938Z",
     "shell.execute_reply": "2020-09-01T10:07:04.464790Z"
    },
    "papermill": {
     "duration": 0.07375,
     "end_time": "2020-09-01T10:07:04.464967",
     "exception": false,
     "start_time": "2020-09-01T10:07:04.391217",
     "status": "completed"
    },
    "tags": []
   },
   "outputs": [],
   "source": [
    "plot_testing = model_new(testing_xdata)"
   ]
  },
  {
   "cell_type": "code",
   "execution_count": 26,
   "metadata": {
    "execution": {
     "iopub.execute_input": "2020-09-01T10:07:04.587916Z",
     "iopub.status.busy": "2020-09-01T10:07:04.587314Z",
     "iopub.status.idle": "2020-09-01T10:07:04.797906Z",
     "shell.execute_reply": "2020-09-01T10:07:04.796721Z"
    },
    "papermill": {
     "duration": 0.283462,
     "end_time": "2020-09-01T10:07:04.798061",
     "exception": false,
     "start_time": "2020-09-01T10:07:04.514599",
     "status": "completed"
    },
    "tags": []
   },
   "outputs": [
    {
     "data": {
      "text/plain": [
       "Text(0.5, 1.0, 'Outputs')"
      ]
     },
     "execution_count": 26,
     "metadata": {},
     "output_type": "execute_result"
    },
    {
     "data": {
      "image/png": "[encoded data removed]",
      "text/plain": [
       "<Figure size 576x504 with 1 Axes>"
      ]
     },
     "metadata": {
      "needs_background": "light"
     },
     "output_type": "display_data"
    }
   ],
   "source": [
    "plt.figure(figsize=(8,7))\n",
    "plt.scatter(plot_testing[:,0], plot_testing[:,1], alpha = 0.1, c = y_test.ravel());\n",
    "plt.title('Outputs')"
   ]
  },
  {
   "cell_type": "markdown",
   "metadata": {
    "papermill": {
     "duration": 0.049982,
     "end_time": "2020-09-01T10:07:04.896801",
     "exception": false,
     "start_time": "2020-09-01T10:07:04.846819",
     "status": "completed"
    },
    "tags": []
   },
   "source": [
    "### Plotting probability contours"
   ]
  },
  {
   "cell_type": "code",
   "execution_count": 27,
   "metadata": {
    "execution": {
     "iopub.execute_input": "2020-09-01T10:07:05.015876Z",
     "iopub.status.busy": "2020-09-01T10:07:05.015269Z",
     "iopub.status.idle": "2020-09-01T10:07:05.027411Z",
     "shell.execute_reply": "2020-09-01T10:07:05.027890Z"
    },
    "papermill": {
     "duration": 0.077455,
     "end_time": "2020-09-01T10:07:05.028049",
     "exception": false,
     "start_time": "2020-09-01T10:07:04.950594",
     "status": "completed"
    },
    "tags": []
   },
   "outputs": [],
   "source": [
    "model_prob = Model(layers[-2:]) "
   ]
  },
  {
   "cell_type": "code",
   "execution_count": 28,
   "metadata": {
    "execution": {
     "iopub.execute_input": "2020-09-01T10:07:05.130548Z",
     "iopub.status.busy": "2020-09-01T10:07:05.129170Z",
     "iopub.status.idle": "2020-09-01T10:07:05.144423Z",
     "shell.execute_reply": "2020-09-01T10:07:05.144963Z"
    },
    "papermill": {
     "duration": 0.068423,
     "end_time": "2020-09-01T10:07:05.145116",
     "exception": false,
     "start_time": "2020-09-01T10:07:05.076693",
     "status": "completed"
    },
    "tags": []
   },
   "outputs": [],
   "source": [
    "# Adjust the x and y ranges according to the above generated plot.\n",
    "x_range = np.linspace(-4, 1, 100) \n",
    "y_range = np.linspace(-6, 6, 100) \n",
    "x_grid, y_grid = np.meshgrid(x_range, y_range) # x_grid and y_grig are of size 100 X 100\n",
    "\n",
    "# converting x_grid and y_grid to continuous arrays\n",
    "x_grid_flat = np.ravel(x_grid)\n",
    "y_grid_flat = np.ravel(y_grid)\n",
    "\n",
    "# The last layer of the current model takes two columns as input. Hence transpose of np.vstack() is required.\n",
    "X = np.vstack((x_grid_flat, y_grid_flat)).T\n",
    "\n",
    "# x_grid and y_grid are of size 100 x 100\n",
    "probability_contour = model_prob(X).reshape(100,100) "
   ]
  },
  {
   "cell_type": "code",
   "execution_count": 29,
   "metadata": {
    "execution": {
     "iopub.execute_input": "2020-09-01T10:07:05.252768Z",
     "iopub.status.busy": "2020-09-01T10:07:05.247694Z",
     "iopub.status.idle": "2020-09-01T10:07:05.545902Z",
     "shell.execute_reply": "2020-09-01T10:07:05.546356Z"
    },
    "papermill": {
     "duration": 0.353379,
     "end_time": "2020-09-01T10:07:05.546541",
     "exception": false,
     "start_time": "2020-09-01T10:07:05.193162",
     "status": "completed"
    },
    "tags": []
   },
   "outputs": [
    {
     "data": {
      "image/png": "[encoded data removed]",
      "text/plain": [
       "<Figure size 720x648 with 1 Axes>"
      ]
     },
     "metadata": {
      "needs_background": "light"
     },
     "output_type": "display_data"
    }
   ],
   "source": [
    "plt.figure(figsize=(10,9))\n",
    "plt.scatter(plot_testing[:,0], plot_testing[:,1], alpha = 0.1, c = y_test.ravel())\n",
    "contours = plt.contour(x_grid,y_grid,probability_contour)\n",
    "plt.title('Probability Contours')\n",
    "plt.clabel(contours, inline = True );"
   ]
  }
 ],
 "metadata": {
  "kernelspec": {
   "display_name": "Python 3",
   "language": "python",
   "name": "python3"
  },
  "language_info": {
   "codemirror_mode": {
    "name": "ipython",
    "version": 3
   },
   "file_extension": ".py",
   "mimetype": "text/x-python",
   "name": "python",
   "nbconvert_exporter": "python",
   "pygments_lexer": "ipython3",
   "version": "3.6.12"
  },
  "papermill": {
   "duration": 116.372577,
   "end_time": "2020-09-01T10:07:07.003968",
   "environment_variables": {},
   "exception": null,
   "input_path": "2020-08-11-NeuralNetwork.ipynb",
   "output_path": "2020-08-11-NeuralNetwork.ipynb",
   "parameters": {},
   "start_time": "2020-09-01T10:05:10.631391",
   "version": "2.1.2"
  }
 },
 "nbformat": 4,
 "nbformat_minor": 4
}