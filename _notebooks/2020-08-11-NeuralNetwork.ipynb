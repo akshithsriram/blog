{
 "cells": [
  {
   "cell_type": "markdown",
   "metadata": {
    "papermill": {
     "duration": 0.031089,
     "end_time": "2020-11-28T10:06:21.518286",
     "exception": false,
     "start_time": "2020-11-28T10:06:21.487197",
     "status": "completed"
    },
    "tags": []
   },
   "source": [
    "# \"A Basic Neural Network: Differentiate Hand-Written Digits\"\n",
    "\n",
    "- badges: true\n",
    "- author: Akshith Sriram"
   ]
  },
  {
   "cell_type": "markdown",
   "metadata": {
    "papermill": {
     "duration": 0.022714,
     "end_time": "2020-11-28T10:06:21.565473",
     "exception": false,
     "start_time": "2020-11-28T10:06:21.542759",
     "status": "completed"
    },
    "tags": []
   },
   "source": [
    "### Key Objectives:\n",
    "- Building a neural network that differentiates two hand-written digits 3 and 8.\n",
    "- Comparing the results of this Neural Network (NN) to that of a Logistic Regression (LR) model.\n",
    "\n",
    "### Requirements:\n",
    "- 'Kudzu' : A neural network library that was designed during our course by [Univ.AI](www.univ.ai). \n",
    "- MNIST Database\n",
    "\n",
    "If MNIST is not installed, use the command `!pip install mnist` given below.\n",
    "It can be run both from the command line and Jupyter Notebook."
   ]
  },
  {
   "cell_type": "code",
   "execution_count": 1,
   "metadata": {
    "execution": {
     "iopub.execute_input": "2020-11-28T10:06:21.622001Z",
     "iopub.status.busy": "2020-11-28T10:06:21.621402Z",
     "iopub.status.idle": "2020-11-28T10:06:23.477295Z",
     "shell.execute_reply": "2020-11-28T10:06:23.476473Z"
    },
    "papermill": {
     "duration": 1.887469,
     "end_time": "2020-11-28T10:06:23.477455",
     "exception": false,
     "start_time": "2020-11-28T10:06:21.589986",
     "status": "completed"
    },
    "tags": []
   },
   "outputs": [
    {
     "name": "stdout",
     "output_type": "stream",
     "text": [
      "Collecting mnist\r\n"
     ]
    },
    {
     "name": "stdout",
     "output_type": "stream",
     "text": [
      "  Downloading mnist-0.2.2-py2.py3-none-any.whl (3.5 kB)\r\n",
      "Requirement already satisfied: numpy in /opt/hostedtoolcache/Python/3.6.12/x64/lib/python3.6/site-packages (from mnist) (1.19.4)\r\n"
     ]
    },
    {
     "name": "stdout",
     "output_type": "stream",
     "text": [
      "Installing collected packages: mnist\r\n"
     ]
    },
    {
     "name": "stdout",
     "output_type": "stream",
     "text": [
      "Successfully installed mnist-0.2.2\r\n"
     ]
    }
   ],
   "source": [
    "!pip install mnist "
   ]
  },
  {
   "cell_type": "markdown",
   "metadata": {
    "papermill": {
     "duration": 0.025915,
     "end_time": "2020-11-28T10:06:23.528228",
     "exception": false,
     "start_time": "2020-11-28T10:06:23.502313",
     "status": "completed"
    },
    "tags": []
   },
   "source": [
    "#### Importing necessary libraries"
   ]
  },
  {
   "cell_type": "code",
   "execution_count": 2,
   "metadata": {
    "execution": {
     "iopub.execute_input": "2020-11-28T10:06:23.589859Z",
     "iopub.status.busy": "2020-11-28T10:06:23.588178Z",
     "iopub.status.idle": "2020-11-28T10:06:24.151485Z",
     "shell.execute_reply": "2020-11-28T10:06:24.152299Z"
    },
    "papermill": {
     "duration": 0.59822,
     "end_time": "2020-11-28T10:06:24.152557",
     "exception": false,
     "start_time": "2020-11-28T10:06:23.554337",
     "status": "completed"
    },
    "tags": []
   },
   "outputs": [],
   "source": [
    "%load_ext autoreload\n",
    "%autoreload 2\n",
    "\n",
    "%matplotlib inline\n",
    "import matplotlib.pyplot as plt\n",
    "\n",
    "import numpy as np\n",
    "import pandas as pd"
   ]
  },
  {
   "cell_type": "markdown",
   "metadata": {
    "papermill": {
     "duration": 0.026162,
     "end_time": "2020-11-28T10:06:24.206745",
     "exception": false,
     "start_time": "2020-11-28T10:06:24.180583",
     "status": "completed"
    },
    "tags": []
   },
   "source": [
    "### Preparing the Data"
   ]
  },
  {
   "cell_type": "code",
   "execution_count": 3,
   "metadata": {
    "execution": {
     "iopub.execute_input": "2020-11-28T10:06:24.260903Z",
     "iopub.status.busy": "2020-11-28T10:06:24.260337Z",
     "iopub.status.idle": "2020-11-28T10:06:24.276034Z",
     "shell.execute_reply": "2020-11-28T10:06:24.275566Z"
    },
    "papermill": {
     "duration": 0.044963,
     "end_time": "2020-11-28T10:06:24.276158",
     "exception": false,
     "start_time": "2020-11-28T10:06:24.231195",
     "status": "completed"
    },
    "tags": []
   },
   "outputs": [],
   "source": [
    "import mnist"
   ]
  },
  {
   "cell_type": "code",
   "execution_count": 4,
   "metadata": {
    "execution": {
     "iopub.execute_input": "2020-11-28T10:06:24.336941Z",
     "iopub.status.busy": "2020-11-28T10:06:24.336367Z",
     "iopub.status.idle": "2020-11-28T10:06:26.030602Z",
     "shell.execute_reply": "2020-11-28T10:06:26.029679Z"
    },
    "papermill": {
     "duration": 1.729254,
     "end_time": "2020-11-28T10:06:26.030817",
     "exception": false,
     "start_time": "2020-11-28T10:06:24.301563",
     "status": "completed"
    },
    "tags": []
   },
   "outputs": [],
   "source": [
    "train_images = mnist.train_images()\n",
    "train_labels = mnist.train_labels()"
   ]
  },
  {
   "cell_type": "code",
   "execution_count": 5,
   "metadata": {
    "execution": {
     "iopub.execute_input": "2020-11-28T10:06:26.087841Z",
     "iopub.status.busy": "2020-11-28T10:06:26.087256Z",
     "iopub.status.idle": "2020-11-28T10:06:26.104564Z",
     "shell.execute_reply": "2020-11-28T10:06:26.104091Z"
    },
    "papermill": {
     "duration": 0.04737,
     "end_time": "2020-11-28T10:06:26.104691",
     "exception": false,
     "start_time": "2020-11-28T10:06:26.057321",
     "status": "completed"
    },
    "tags": []
   },
   "outputs": [
    {
     "data": {
      "text/plain": [
       "((60000, 28, 28), (60000,))"
      ]
     },
     "execution_count": 5,
     "metadata": {},
     "output_type": "execute_result"
    }
   ],
   "source": [
    "train_images.shape, train_labels.shape"
   ]
  },
  {
   "cell_type": "code",
   "execution_count": 6,
   "metadata": {
    "execution": {
     "iopub.execute_input": "2020-11-28T10:06:26.162309Z",
     "iopub.status.busy": "2020-11-28T10:06:26.161729Z",
     "iopub.status.idle": "2020-11-28T10:06:27.023475Z",
     "shell.execute_reply": "2020-11-28T10:06:27.022589Z"
    },
    "papermill": {
     "duration": 0.893185,
     "end_time": "2020-11-28T10:06:27.023710",
     "exception": false,
     "start_time": "2020-11-28T10:06:26.130525",
     "status": "completed"
    },
    "tags": []
   },
   "outputs": [],
   "source": [
    "test_images = mnist.test_images()\n",
    "test_labels = mnist.test_labels()"
   ]
  },
  {
   "cell_type": "code",
   "execution_count": 7,
   "metadata": {
    "execution": {
     "iopub.execute_input": "2020-11-28T10:06:27.082394Z",
     "iopub.status.busy": "2020-11-28T10:06:27.081727Z",
     "iopub.status.idle": "2020-11-28T10:06:27.097250Z",
     "shell.execute_reply": "2020-11-28T10:06:27.096499Z"
    },
    "papermill": {
     "duration": 0.045313,
     "end_time": "2020-11-28T10:06:27.097378",
     "exception": false,
     "start_time": "2020-11-28T10:06:27.052065",
     "status": "completed"
    },
    "tags": []
   },
   "outputs": [
    {
     "data": {
      "text/plain": [
       "((10000, 28, 28), (10000,))"
      ]
     },
     "execution_count": 7,
     "metadata": {},
     "output_type": "execute_result"
    }
   ],
   "source": [
    "test_images.shape, test_labels.shape"
   ]
  },
  {
   "cell_type": "code",
   "execution_count": 8,
   "metadata": {
    "execution": {
     "iopub.execute_input": "2020-11-28T10:06:27.157961Z",
     "iopub.status.busy": "2020-11-28T10:06:27.157379Z",
     "iopub.status.idle": "2020-11-28T10:06:27.300923Z",
     "shell.execute_reply": "2020-11-28T10:06:27.301404Z"
    },
    "papermill": {
     "duration": 0.17764,
     "end_time": "2020-11-28T10:06:27.301554",
     "exception": false,
     "start_time": "2020-11-28T10:06:27.123914",
     "status": "completed"
    },
    "tags": []
   },
   "outputs": [
    {
     "name": "stdout",
     "output_type": "stream",
     "text": [
      "2\n"
     ]
    },
    {
     "data": {
      "text/plain": [
       "<matplotlib.image.AxesImage at 0x7f45a39bc048>"
      ]
     },
     "execution_count": 8,
     "metadata": {},
     "output_type": "execute_result"
    },
    {
     "data": {
      "image/png": "[encoded data removed]",
      "text/plain": [
       "<Figure size 432x288 with 1 Axes>"
      ]
     },
     "metadata": {
      "needs_background": "light"
     },
     "output_type": "display_data"
    }
   ],
   "source": [
    "image_index = 7776 # You may select anything up to 60,000\n",
    "print(train_labels[image_index]) \n",
    "plt.imshow(train_images[image_index], cmap='Greys')"
   ]
  },
  {
   "cell_type": "markdown",
   "metadata": {
    "papermill": {
     "duration": 0.02883,
     "end_time": "2020-11-28T10:06:27.358295",
     "exception": false,
     "start_time": "2020-11-28T10:06:27.329465",
     "status": "completed"
    },
    "tags": []
   },
   "source": [
    "## Filter data to get 3 and 8 out"
   ]
  },
  {
   "cell_type": "code",
   "execution_count": 9,
   "metadata": {
    "execution": {
     "iopub.execute_input": "2020-11-28T10:06:27.417912Z",
     "iopub.status.busy": "2020-11-28T10:06:27.417344Z",
     "iopub.status.idle": "2020-11-28T10:06:27.438357Z",
     "shell.execute_reply": "2020-11-28T10:06:27.437884Z"
    },
    "papermill": {
     "duration": 0.053592,
     "end_time": "2020-11-28T10:06:27.438472",
     "exception": false,
     "start_time": "2020-11-28T10:06:27.384880",
     "status": "completed"
    },
    "tags": []
   },
   "outputs": [],
   "source": [
    "train_filter = np.where((train_labels == 3 ) | (train_labels == 8))\n",
    "test_filter = np.where((test_labels == 3) | (test_labels == 8))\n",
    "X_train, y_train = train_images[train_filter], train_labels[train_filter]\n",
    "X_test, y_test = test_images[test_filter], test_labels[test_filter]"
   ]
  },
  {
   "cell_type": "markdown",
   "metadata": {
    "papermill": {
     "duration": 0.027084,
     "end_time": "2020-11-28T10:06:27.492121",
     "exception": false,
     "start_time": "2020-11-28T10:06:27.465037",
     "status": "completed"
    },
    "tags": []
   },
   "source": [
    "We normalize the pixel values in the 0 to 1 range"
   ]
  },
  {
   "cell_type": "code",
   "execution_count": 10,
   "metadata": {
    "execution": {
     "iopub.execute_input": "2020-11-28T10:06:27.556082Z",
     "iopub.status.busy": "2020-11-28T10:06:27.555516Z",
     "iopub.status.idle": "2020-11-28T10:06:27.606903Z",
     "shell.execute_reply": "2020-11-28T10:06:27.606059Z"
    },
    "papermill": {
     "duration": 0.088346,
     "end_time": "2020-11-28T10:06:27.607104",
     "exception": false,
     "start_time": "2020-11-28T10:06:27.518758",
     "status": "completed"
    },
    "tags": []
   },
   "outputs": [],
   "source": [
    "X_train = X_train/255.\n",
    "X_test = X_test/255."
   ]
  },
  {
   "cell_type": "markdown",
   "metadata": {
    "papermill": {
     "duration": 0.027577,
     "end_time": "2020-11-28T10:06:27.665255",
     "exception": false,
     "start_time": "2020-11-28T10:06:27.637678",
     "status": "completed"
    },
    "tags": []
   },
   "source": [
    "Setup the labels as 1 (when the digit is 3) and 0 (when the digit is 8)"
   ]
  },
  {
   "cell_type": "code",
   "execution_count": 11,
   "metadata": {
    "execution": {
     "iopub.execute_input": "2020-11-28T10:06:27.725191Z",
     "iopub.status.busy": "2020-11-28T10:06:27.724588Z",
     "iopub.status.idle": "2020-11-28T10:06:27.737080Z",
     "shell.execute_reply": "2020-11-28T10:06:27.737496Z"
    },
    "papermill": {
     "duration": 0.044814,
     "end_time": "2020-11-28T10:06:27.737631",
     "exception": false,
     "start_time": "2020-11-28T10:06:27.692817",
     "status": "completed"
    },
    "tags": []
   },
   "outputs": [],
   "source": [
    "y_train = 1*(y_train==3)\n",
    "y_test = 1*(y_test==3)"
   ]
  },
  {
   "cell_type": "code",
   "execution_count": 12,
   "metadata": {
    "execution": {
     "iopub.execute_input": "2020-11-28T10:06:27.799988Z",
     "iopub.status.busy": "2020-11-28T10:06:27.799463Z",
     "iopub.status.idle": "2020-11-28T10:06:27.811396Z",
     "shell.execute_reply": "2020-11-28T10:06:27.810909Z"
    },
    "papermill": {
     "duration": 0.046656,
     "end_time": "2020-11-28T10:06:27.811514",
     "exception": false,
     "start_time": "2020-11-28T10:06:27.764858",
     "status": "completed"
    },
    "tags": []
   },
   "outputs": [
    {
     "data": {
      "text/plain": [
       "((11982, 28, 28), (1984, 28, 28))"
      ]
     },
     "execution_count": 12,
     "metadata": {},
     "output_type": "execute_result"
    }
   ],
   "source": [
    "X_train.shape, X_test.shape"
   ]
  },
  {
   "cell_type": "markdown",
   "metadata": {
    "papermill": {
     "duration": 0.026992,
     "end_time": "2020-11-28T10:06:27.866341",
     "exception": false,
     "start_time": "2020-11-28T10:06:27.839349",
     "status": "completed"
    },
    "tags": []
   },
   "source": [
    "### Reshape the input data to create a linear array"
   ]
  },
  {
   "cell_type": "code",
   "execution_count": 13,
   "metadata": {
    "execution": {
     "iopub.execute_input": "2020-11-28T10:06:28.152082Z",
     "iopub.status.busy": "2020-11-28T10:06:28.151511Z",
     "iopub.status.idle": "2020-11-28T10:06:28.165319Z",
     "shell.execute_reply": "2020-11-28T10:06:28.165768Z"
    },
    "papermill": {
     "duration": 0.047377,
     "end_time": "2020-11-28T10:06:28.165914",
     "exception": false,
     "start_time": "2020-11-28T10:06:28.118537",
     "status": "completed"
    },
    "tags": []
   },
   "outputs": [
    {
     "data": {
      "text/plain": [
       "((11982, 784), (1984, 784))"
      ]
     },
     "execution_count": 13,
     "metadata": {},
     "output_type": "execute_result"
    }
   ],
   "source": [
    "X_train = X_train.reshape(X_train.shape[0], -1)\n",
    "X_test = X_test.reshape(X_test.shape[0], -1)\n",
    "X_train.shape, X_test.shape"
   ]
  },
  {
   "cell_type": "markdown",
   "metadata": {
    "papermill": {
     "duration": 0.03235,
     "end_time": "2020-11-28T10:06:28.337842",
     "exception": false,
     "start_time": "2020-11-28T10:06:28.305492",
     "status": "completed"
    },
    "tags": []
   },
   "source": [
    "### Importing appropriate functions from 'Kudzu'"
   ]
  },
  {
   "cell_type": "code",
   "execution_count": 14,
   "metadata": {
    "execution": {
     "iopub.execute_input": "2020-11-28T10:06:28.398969Z",
     "iopub.status.busy": "2020-11-28T10:06:28.398394Z",
     "iopub.status.idle": "2020-11-28T10:06:28.418247Z",
     "shell.execute_reply": "2020-11-28T10:06:28.417735Z"
    },
    "papermill": {
     "duration": 0.05229,
     "end_time": "2020-11-28T10:06:28.418372",
     "exception": false,
     "start_time": "2020-11-28T10:06:28.366082",
     "status": "completed"
    },
    "tags": []
   },
   "outputs": [],
   "source": [
    "from kudzu.layer import Sigmoid\n",
    "from kudzu.layer import Relu\n",
    "from kudzu.layer import Affine, Sigmoid\n",
    "\n",
    "from kudzu.model import Model\n",
    "from kudzu.train import Learner\n",
    "from kudzu.optim import GD\n",
    "from kudzu.data import Data, Dataloader, Sampler\n",
    "\n",
    "from kudzu.callbacks import AccCallback\n",
    "from kudzu.callbacks import ClfCallback\n",
    "\n",
    "from kudzu.loss import MSE"
   ]
  },
  {
   "cell_type": "markdown",
   "metadata": {
    "papermill": {
     "duration": 0.028079,
     "end_time": "2020-11-28T10:06:28.474878",
     "exception": false,
     "start_time": "2020-11-28T10:06:28.446799",
     "status": "completed"
    },
    "tags": []
   },
   "source": [
    "### Let us create a `Config` class, to store important parameters. \n",
    "This class essentially plays the role of a dictionary."
   ]
  },
  {
   "cell_type": "code",
   "execution_count": 15,
   "metadata": {
    "execution": {
     "iopub.execute_input": "2020-11-28T10:06:28.535037Z",
     "iopub.status.busy": "2020-11-28T10:06:28.534459Z",
     "iopub.status.idle": "2020-11-28T10:06:28.548607Z",
     "shell.execute_reply": "2020-11-28T10:06:28.547613Z"
    },
    "papermill": {
     "duration": 0.045631,
     "end_time": "2020-11-28T10:06:28.548731",
     "exception": false,
     "start_time": "2020-11-28T10:06:28.503100",
     "status": "completed"
    },
    "tags": []
   },
   "outputs": [],
   "source": [
    "class Config:\n",
    "    pass\n",
    "config = Config()\n",
    "config.lr = 0.001\n",
    "config.num_epochs = 251\n",
    "config.bs = 50"
   ]
  },
  {
   "cell_type": "markdown",
   "metadata": {
    "papermill": {
     "duration": 0.027551,
     "end_time": "2020-11-28T10:06:28.603718",
     "exception": false,
     "start_time": "2020-11-28T10:06:28.576167",
     "status": "completed"
    },
    "tags": []
   },
   "source": [
    "### Initializing data to the variables"
   ]
  },
  {
   "cell_type": "code",
   "execution_count": 16,
   "metadata": {
    "execution": {
     "iopub.execute_input": "2020-11-28T10:06:28.663338Z",
     "iopub.status.busy": "2020-11-28T10:06:28.662243Z",
     "iopub.status.idle": "2020-11-28T10:06:28.675319Z",
     "shell.execute_reply": "2020-11-28T10:06:28.674858Z"
    },
    "papermill": {
     "duration": 0.044422,
     "end_time": "2020-11-28T10:06:28.675429",
     "exception": false,
     "start_time": "2020-11-28T10:06:28.631007",
     "status": "completed"
    },
    "tags": []
   },
   "outputs": [],
   "source": [
    "data = Data(X_train, y_train.reshape(-1,1))\n",
    "sampler = Sampler(data, config.bs, shuffle=True)\n",
    "\n",
    "dl = Dataloader(data, sampler)\n",
    "\n",
    "opt = GD(config.lr)\n",
    "loss = MSE()"
   ]
  },
  {
   "cell_type": "code",
   "execution_count": 17,
   "metadata": {
    "execution": {
     "iopub.execute_input": "2020-11-28T10:06:28.733739Z",
     "iopub.status.busy": "2020-11-28T10:06:28.733205Z",
     "iopub.status.idle": "2020-11-28T10:06:28.745245Z",
     "shell.execute_reply": "2020-11-28T10:06:28.744730Z"
    },
    "papermill": {
     "duration": 0.042482,
     "end_time": "2020-11-28T10:06:28.745357",
     "exception": false,
     "start_time": "2020-11-28T10:06:28.702875",
     "status": "completed"
    },
    "tags": []
   },
   "outputs": [],
   "source": [
    "training_xdata = X_train\n",
    "testing_xdata = X_test\n",
    "training_ydata = y_train.reshape(-1,1)\n",
    "testing_ydata = y_test.reshape(-1,1)"
   ]
  },
  {
   "cell_type": "markdown",
   "metadata": {
    "papermill": {
     "duration": 0.027271,
     "end_time": "2020-11-28T10:06:28.798959",
     "exception": false,
     "start_time": "2020-11-28T10:06:28.771688",
     "status": "completed"
    },
    "tags": []
   },
   "source": [
    "### Running Models with the Training data\n",
    "Details about the network layers:\n",
    "- A first affine layer has 784 inputs and does 100 affine transforms. These are followed by a Relu\n",
    "- A second affine layer has 100 inputs from the 100 activations of the past layer, and does 100 affine transforms. These are followed by a Relu\n",
    "- A third affine layer has 100 activations and does 2 affine transformations to create an embedding for visualization. There is no non-linearity here.\n",
    "- A final \"logistic regression\" which has an affine transform from 2 inputs to 1 output, which is squeezed through a sigmoid.\n",
    "\n",
    "Help taken from Anshuman's Notebook."
   ]
  },
  {
   "cell_type": "code",
   "execution_count": 18,
   "metadata": {
    "execution": {
     "iopub.execute_input": "2020-11-28T10:06:28.865356Z",
     "iopub.status.busy": "2020-11-28T10:06:28.864722Z",
     "iopub.status.idle": "2020-11-28T10:06:28.879997Z",
     "shell.execute_reply": "2020-11-28T10:06:28.879511Z"
    },
    "papermill": {
     "duration": 0.053002,
     "end_time": "2020-11-28T10:06:28.880122",
     "exception": false,
     "start_time": "2020-11-28T10:06:28.827120",
     "status": "completed"
    },
    "tags": []
   },
   "outputs": [],
   "source": [
    "# layers for the Neural Network\n",
    "layers = [Affine(\"first\", 784, 100), Relu(\"first\"), Affine(\"second\", 100, 100), Relu(\"second\"), Affine(\"third\", 100, 2), Affine(\"final\", 2, 1), Sigmoid(\"final\")]\n",
    "model_nn = Model(layers)\n",
    "\n",
    "# layers for the Logistic Regression\n",
    "layers_lr = [Affine(\"logits\", 784, 1), Sigmoid(\"sigmoid\")]\n",
    "model_lr = Model(layers_lr)"
   ]
  },
  {
   "cell_type": "code",
   "execution_count": 19,
   "metadata": {
    "execution": {
     "iopub.execute_input": "2020-11-28T10:06:28.938091Z",
     "iopub.status.busy": "2020-11-28T10:06:28.937242Z",
     "iopub.status.idle": "2020-11-28T10:06:28.950732Z",
     "shell.execute_reply": "2020-11-28T10:06:28.950270Z"
    },
    "papermill": {
     "duration": 0.043076,
     "end_time": "2020-11-28T10:06:28.950837",
     "exception": false,
     "start_time": "2020-11-28T10:06:28.907761",
     "status": "completed"
    },
    "tags": []
   },
   "outputs": [],
   "source": [
    "# suffix _nn stands for Neural Network.\n",
    "learner_nn = Learner(loss, model_nn, opt, config.num_epochs)\n",
    "acc_nn = ClfCallback(learner_nn, config.bs, training_xdata , testing_xdata, training_ydata, testing_ydata)\n",
    "learner_nn.set_callbacks([acc_nn])"
   ]
  },
  {
   "cell_type": "code",
   "execution_count": 20,
   "metadata": {
    "execution": {
     "iopub.execute_input": "2020-11-28T10:06:29.007162Z",
     "iopub.status.busy": "2020-11-28T10:06:29.006599Z",
     "iopub.status.idle": "2020-11-28T10:07:53.328605Z",
     "shell.execute_reply": "2020-11-28T10:07:53.328128Z"
    },
    "papermill": {
     "duration": 84.352317,
     "end_time": "2020-11-28T10:07:53.328738",
     "exception": false,
     "start_time": "2020-11-28T10:06:28.976421",
     "status": "completed"
    },
    "tags": []
   },
   "outputs": [
    {
     "name": "stdout",
     "output_type": "stream",
     "text": [
      "====== Neural Network ======\n"
     ]
    },
    {
     "name": "stdout",
     "output_type": "stream",
     "text": [
      "Epoch 0, Loss 0.2498\n",
      "Training Accuracy: 0.4881, Testing Accuracy: 0.4980\n",
      "\n"
     ]
    },
    {
     "name": "stdout",
     "output_type": "stream",
     "text": [
      "Epoch 10, Loss 0.2451\n",
      "Training Accuracy: 0.6635, Testing Accuracy: 0.6769\n",
      "\n"
     ]
    },
    {
     "name": "stdout",
     "output_type": "stream",
     "text": [
      "Epoch 20, Loss 0.2256\n",
      "Training Accuracy: 0.8090, Testing Accuracy: 0.8332\n",
      "\n"
     ]
    },
    {
     "name": "stdout",
     "output_type": "stream",
     "text": [
      "Epoch 30, Loss 0.1511\n",
      "Training Accuracy: 0.8897, Testing Accuracy: 0.9047\n",
      "\n"
     ]
    },
    {
     "name": "stdout",
     "output_type": "stream",
     "text": [
      "Epoch 40, Loss 0.0807\n",
      "Training Accuracy: 0.9193, Testing Accuracy: 0.9304\n",
      "\n"
     ]
    },
    {
     "name": "stdout",
     "output_type": "stream",
     "text": [
      "Epoch 50, Loss 0.0563\n",
      "Training Accuracy: 0.9390, Testing Accuracy: 0.9516\n",
      "\n"
     ]
    },
    {
     "name": "stdout",
     "output_type": "stream",
     "text": [
      "Epoch 60, Loss 0.0454\n",
      "Training Accuracy: 0.9495, Testing Accuracy: 0.9582\n",
      "\n"
     ]
    },
    {
     "name": "stdout",
     "output_type": "stream",
     "text": [
      "Epoch 70, Loss 0.0395\n",
      "Training Accuracy: 0.9554, Testing Accuracy: 0.9627\n",
      "\n"
     ]
    },
    {
     "name": "stdout",
     "output_type": "stream",
     "text": [
      "Epoch 80, Loss 0.0358\n",
      "Training Accuracy: 0.9591, Testing Accuracy: 0.9672\n",
      "\n"
     ]
    },
    {
     "name": "stdout",
     "output_type": "stream",
     "text": [
      "Epoch 90, Loss 0.0333\n",
      "Training Accuracy: 0.9616, Testing Accuracy: 0.9682\n",
      "\n"
     ]
    },
    {
     "name": "stdout",
     "output_type": "stream",
     "text": [
      "Epoch 100, Loss 0.0314\n",
      "Training Accuracy: 0.9631, Testing Accuracy: 0.9688\n",
      "\n"
     ]
    },
    {
     "name": "stdout",
     "output_type": "stream",
     "text": [
      "Epoch 110, Loss 0.03\n",
      "Training Accuracy: 0.9649, Testing Accuracy: 0.9693\n",
      "\n"
     ]
    },
    {
     "name": "stdout",
     "output_type": "stream",
     "text": [
      "Epoch 120, Loss 0.0287\n",
      "Training Accuracy: 0.9661, Testing Accuracy: 0.9688\n",
      "\n"
     ]
    },
    {
     "name": "stdout",
     "output_type": "stream",
     "text": [
      "Epoch 130, Loss 0.0277\n",
      "Training Accuracy: 0.9670, Testing Accuracy: 0.9693\n",
      "\n"
     ]
    },
    {
     "name": "stdout",
     "output_type": "stream",
     "text": [
      "Epoch 140, Loss 0.0268\n",
      "Training Accuracy: 0.9684, Testing Accuracy: 0.9698\n",
      "\n"
     ]
    },
    {
     "name": "stdout",
     "output_type": "stream",
     "text": [
      "Epoch 150, Loss 0.0261\n",
      "Training Accuracy: 0.9687, Testing Accuracy: 0.9688\n",
      "\n"
     ]
    },
    {
     "name": "stdout",
     "output_type": "stream",
     "text": [
      "Epoch 160, Loss 0.0254\n",
      "Training Accuracy: 0.9698, Testing Accuracy: 0.9698\n",
      "\n"
     ]
    },
    {
     "name": "stdout",
     "output_type": "stream",
     "text": [
      "Epoch 170, Loss 0.0247\n",
      "Training Accuracy: 0.9706, Testing Accuracy: 0.9693\n",
      "\n"
     ]
    },
    {
     "name": "stdout",
     "output_type": "stream",
     "text": [
      "Epoch 180, Loss 0.0241\n",
      "Training Accuracy: 0.9712, Testing Accuracy: 0.9693\n",
      "\n"
     ]
    },
    {
     "name": "stdout",
     "output_type": "stream",
     "text": [
      "Epoch 190, Loss 0.0236\n",
      "Training Accuracy: 0.9720, Testing Accuracy: 0.9693\n",
      "\n"
     ]
    },
    {
     "name": "stdout",
     "output_type": "stream",
     "text": [
      "Epoch 200, Loss 0.0231\n",
      "Training Accuracy: 0.9724, Testing Accuracy: 0.9693\n",
      "\n"
     ]
    },
    {
     "name": "stdout",
     "output_type": "stream",
     "text": [
      "Epoch 210, Loss 0.0226\n",
      "Training Accuracy: 0.9729, Testing Accuracy: 0.9703\n",
      "\n"
     ]
    },
    {
     "name": "stdout",
     "output_type": "stream",
     "text": [
      "Epoch 220, Loss 0.0222\n",
      "Training Accuracy: 0.9737, Testing Accuracy: 0.9713\n",
      "\n"
     ]
    },
    {
     "name": "stdout",
     "output_type": "stream",
     "text": [
      "Epoch 230, Loss 0.0218\n",
      "Training Accuracy: 0.9744, Testing Accuracy: 0.9718\n",
      "\n"
     ]
    },
    {
     "name": "stdout",
     "output_type": "stream",
     "text": [
      "Epoch 240, Loss 0.0214\n",
      "Training Accuracy: 0.9752, Testing Accuracy: 0.9718\n",
      "\n"
     ]
    },
    {
     "name": "stdout",
     "output_type": "stream",
     "text": [
      "Epoch 250, Loss 0.021\n",
      "Training Accuracy: 0.9753, Testing Accuracy: 0.9718\n",
      "\n"
     ]
    },
    {
     "data": {
      "text/plain": [
       "0.0036814668759763245"
      ]
     },
     "execution_count": 20,
     "metadata": {},
     "output_type": "execute_result"
    }
   ],
   "source": [
    "print(\"====== Neural Network ======\")\n",
    "learner_nn.train_loop(dl)"
   ]
  },
  {
   "cell_type": "markdown",
   "metadata": {
    "papermill": {
     "duration": 0.035857,
     "end_time": "2020-11-28T10:07:53.401633",
     "exception": false,
     "start_time": "2020-11-28T10:07:53.365776",
     "status": "completed"
    },
    "tags": []
   },
   "source": [
    "### Logistic Regression based Implementation."
   ]
  },
  {
   "cell_type": "code",
   "execution_count": 21,
   "metadata": {
    "execution": {
     "iopub.execute_input": "2020-11-28T10:07:53.485351Z",
     "iopub.status.busy": "2020-11-28T10:07:53.484775Z",
     "iopub.status.idle": "2020-11-28T10:07:53.500851Z",
     "shell.execute_reply": "2020-11-28T10:07:53.501781Z"
    },
    "papermill": {
     "duration": 0.063453,
     "end_time": "2020-11-28T10:07:53.501918",
     "exception": false,
     "start_time": "2020-11-28T10:07:53.438465",
     "status": "completed"
    },
    "tags": []
   },
   "outputs": [],
   "source": [
    "learner_lr = Learner(loss, model_lr, opt, config.num_epochs)\n",
    "acc_lr = ClfCallback(learner_lr, config.bs, training_xdata , testing_xdata, training_ydata, testing_ydata)\n",
    "learner_lr.set_callbacks([acc_lr])"
   ]
  },
  {
   "cell_type": "code",
   "execution_count": 22,
   "metadata": {
    "execution": {
     "iopub.execute_input": "2020-11-28T10:07:53.578422Z",
     "iopub.status.busy": "2020-11-28T10:07:53.577421Z",
     "iopub.status.idle": "2020-11-28T10:08:08.763626Z",
     "shell.execute_reply": "2020-11-28T10:08:08.764404Z"
    },
    "papermill": {
     "duration": 15.226678,
     "end_time": "2020-11-28T10:08:08.764557",
     "exception": false,
     "start_time": "2020-11-28T10:07:53.537879",
     "status": "completed"
    },
    "tags": []
   },
   "outputs": [
    {
     "name": "stdout",
     "output_type": "stream",
     "text": [
      "====== Logistic Regression ======\n",
      "Epoch 0, Loss 0.2378\n",
      "Training Accuracy: 0.7068, Testing Accuracy: 0.7193\n",
      "\n"
     ]
    },
    {
     "name": "stdout",
     "output_type": "stream",
     "text": [
      "Epoch 10, Loss 0.1007\n",
      "Training Accuracy: 0.9190, Testing Accuracy: 0.9274\n",
      "\n"
     ]
    },
    {
     "name": "stdout",
     "output_type": "stream",
     "text": [
      "Epoch 20, Loss 0.0776\n",
      "Training Accuracy: 0.9327, Testing Accuracy: 0.9410\n",
      "\n"
     ]
    },
    {
     "name": "stdout",
     "output_type": "stream",
     "text": [
      "Epoch 30, Loss 0.067\n",
      "Training Accuracy: 0.9407, Testing Accuracy: 0.9481\n",
      "\n"
     ]
    },
    {
     "name": "stdout",
     "output_type": "stream",
     "text": [
      "Epoch 40, Loss 0.0606\n",
      "Training Accuracy: 0.9440, Testing Accuracy: 0.9516\n",
      "\n"
     ]
    },
    {
     "name": "stdout",
     "output_type": "stream",
     "text": [
      "Epoch 50, Loss 0.0563\n",
      "Training Accuracy: 0.9466, Testing Accuracy: 0.9572\n",
      "\n"
     ]
    },
    {
     "name": "stdout",
     "output_type": "stream",
     "text": [
      "Epoch 60, Loss 0.0531\n",
      "Training Accuracy: 0.9493, Testing Accuracy: 0.9577\n",
      "\n"
     ]
    },
    {
     "name": "stdout",
     "output_type": "stream",
     "text": [
      "Epoch 70, Loss 0.0507\n",
      "Training Accuracy: 0.9505, Testing Accuracy: 0.9577\n",
      "\n"
     ]
    },
    {
     "name": "stdout",
     "output_type": "stream",
     "text": [
      "Epoch 80, Loss 0.0487\n",
      "Training Accuracy: 0.9518, Testing Accuracy: 0.9597\n",
      "\n"
     ]
    },
    {
     "name": "stdout",
     "output_type": "stream",
     "text": [
      "Epoch 90, Loss 0.0471\n",
      "Training Accuracy: 0.9532, Testing Accuracy: 0.9612\n",
      "\n"
     ]
    },
    {
     "name": "stdout",
     "output_type": "stream",
     "text": [
      "Epoch 100, Loss 0.0458\n",
      "Training Accuracy: 0.9540, Testing Accuracy: 0.9622\n",
      "\n"
     ]
    },
    {
     "name": "stdout",
     "output_type": "stream",
     "text": [
      "Epoch 110, Loss 0.0446\n",
      "Training Accuracy: 0.9545, Testing Accuracy: 0.9642\n",
      "\n"
     ]
    },
    {
     "name": "stdout",
     "output_type": "stream",
     "text": [
      "Epoch 120, Loss 0.0436\n",
      "Training Accuracy: 0.9550, Testing Accuracy: 0.9647\n",
      "\n"
     ]
    },
    {
     "name": "stdout",
     "output_type": "stream",
     "text": [
      "Epoch 130, Loss 0.0427\n",
      "Training Accuracy: 0.9558, Testing Accuracy: 0.9647\n",
      "\n"
     ]
    },
    {
     "name": "stdout",
     "output_type": "stream",
     "text": [
      "Epoch 140, Loss 0.0419\n",
      "Training Accuracy: 0.9565, Testing Accuracy: 0.9647\n",
      "\n"
     ]
    },
    {
     "name": "stdout",
     "output_type": "stream",
     "text": [
      "Epoch 150, Loss 0.0411\n",
      "Training Accuracy: 0.9571, Testing Accuracy: 0.9652\n",
      "\n"
     ]
    },
    {
     "name": "stdout",
     "output_type": "stream",
     "text": [
      "Epoch 160, Loss 0.0405\n",
      "Training Accuracy: 0.9574, Testing Accuracy: 0.9652\n",
      "\n"
     ]
    },
    {
     "name": "stdout",
     "output_type": "stream",
     "text": [
      "Epoch 170, Loss 0.0399\n",
      "Training Accuracy: 0.9579, Testing Accuracy: 0.9652\n",
      "\n"
     ]
    },
    {
     "name": "stdout",
     "output_type": "stream",
     "text": [
      "Epoch 180, Loss 0.0394\n",
      "Training Accuracy: 0.9580, Testing Accuracy: 0.9652\n",
      "\n"
     ]
    },
    {
     "name": "stdout",
     "output_type": "stream",
     "text": [
      "Epoch 190, Loss 0.0389\n",
      "Training Accuracy: 0.9583, Testing Accuracy: 0.9662\n",
      "\n"
     ]
    },
    {
     "name": "stdout",
     "output_type": "stream",
     "text": [
      "Epoch 200, Loss 0.0384\n",
      "Training Accuracy: 0.9587, Testing Accuracy: 0.9662\n",
      "\n"
     ]
    },
    {
     "name": "stdout",
     "output_type": "stream",
     "text": [
      "Epoch 210, Loss 0.038\n",
      "Training Accuracy: 0.9594, Testing Accuracy: 0.9667\n",
      "\n"
     ]
    },
    {
     "name": "stdout",
     "output_type": "stream",
     "text": [
      "Epoch 220, Loss 0.0376\n",
      "Training Accuracy: 0.9599, Testing Accuracy: 0.9667\n",
      "\n"
     ]
    },
    {
     "name": "stdout",
     "output_type": "stream",
     "text": [
      "Epoch 230, Loss 0.0372\n",
      "Training Accuracy: 0.9602, Testing Accuracy: 0.9667\n",
      "\n"
     ]
    },
    {
     "name": "stdout",
     "output_type": "stream",
     "text": [
      "Epoch 240, Loss 0.0369\n",
      "Training Accuracy: 0.9606, Testing Accuracy: 0.9667\n",
      "\n"
     ]
    },
    {
     "name": "stdout",
     "output_type": "stream",
     "text": [
      "Epoch 250, Loss 0.0365\n",
      "Training Accuracy: 0.9606, Testing Accuracy: 0.9662\n",
      "\n"
     ]
    },
    {
     "data": {
      "text/plain": [
       "0.02630021302901151"
      ]
     },
     "execution_count": 22,
     "metadata": {},
     "output_type": "execute_result"
    }
   ],
   "source": [
    "print(\"====== Logistic Regression ======\")\n",
    "learner_lr.train_loop(dl)"
   ]
  },
  {
   "cell_type": "markdown",
   "metadata": {
    "papermill": {
     "duration": 0.041761,
     "end_time": "2020-11-28T10:08:08.849523",
     "exception": false,
     "start_time": "2020-11-28T10:08:08.807762",
     "status": "completed"
    },
    "tags": []
   },
   "source": [
    "### Comparing results of NN and LR"
   ]
  },
  {
   "cell_type": "code",
   "execution_count": 23,
   "metadata": {
    "execution": {
     "iopub.execute_input": "2020-11-28T10:08:08.940404Z",
     "iopub.status.busy": "2020-11-28T10:08:08.939063Z",
     "iopub.status.idle": "2020-11-28T10:08:09.172231Z",
     "shell.execute_reply": "2020-11-28T10:08:09.171729Z"
    },
    "papermill": {
     "duration": 0.280803,
     "end_time": "2020-11-28T10:08:09.172358",
     "exception": false,
     "start_time": "2020-11-28T10:08:08.891555",
     "status": "completed"
    },
    "tags": []
   },
   "outputs": [
    {
     "data": {
      "text/plain": [
       "<matplotlib.legend.Legend at 0x7f45a158b940>"
      ]
     },
     "execution_count": 23,
     "metadata": {},
     "output_type": "execute_result"
    },
    {
     "data": {
      "image/png": "[encoded data removed]",
      "text/plain": [
       "<Figure size 1080x720 with 1 Axes>"
      ]
     },
     "metadata": {
      "needs_background": "light"
     },
     "output_type": "display_data"
    }
   ],
   "source": [
    "plt.figure(figsize=(15,10))\n",
    "\n",
    "# Neural Network plots\n",
    "plt.plot(acc_nn.accuracies, 'r-', label = \"Training Accuracies - NN\")\n",
    "plt.plot(acc_nn.test_accuracies, 'g-', label = \"Testing Accuracies - NN\")\n",
    "\n",
    "# Logistic Regression plots\n",
    "plt.plot(acc_lr.accuracies, 'k-', label = \"Training Accuracies - LR\")\n",
    "plt.plot(acc_lr.test_accuracies, 'b-', label = \"Testing Accuracies - LR\")\n",
    "\n",
    "plt.ylim(0.8, 1)\n",
    "\n",
    "plt.legend()\n",
    "\n"
   ]
  },
  {
   "cell_type": "markdown",
   "metadata": {
    "papermill": {
     "duration": 0.04425,
     "end_time": "2020-11-28T10:08:09.261367",
     "exception": false,
     "start_time": "2020-11-28T10:08:09.217117",
     "status": "completed"
    },
    "tags": []
   },
   "source": [
    "### From the plot, we can observe the following:\n",
    "- Neural Network achieves higher accuracy than the Logistic Regression model.\n",
    "- This apparently, is because of overfitting, i.e. NN captures more noise than data.\n",
    "- Testing accuracy of NN drops below the Training accuracy at higher epochs. This explains the over-fitting on training data.\n",
    "- Logistic Regression gives a reliable accuracy, without the above mentioned problem.\n"
   ]
  },
  {
   "cell_type": "markdown",
   "metadata": {
    "papermill": {
     "duration": 0.045073,
     "end_time": "2020-11-28T10:08:09.351090",
     "exception": false,
     "start_time": "2020-11-28T10:08:09.306017",
     "status": "completed"
    },
    "tags": []
   },
   "source": [
    "### Moving till the last but one layer (excluding it).\n",
    "#### Plotting the outputs of this layer of the NN."
   ]
  },
  {
   "cell_type": "code",
   "execution_count": 24,
   "metadata": {
    "execution": {
     "iopub.execute_input": "2020-11-28T10:08:09.456625Z",
     "iopub.status.busy": "2020-11-28T10:08:09.442114Z",
     "iopub.status.idle": "2020-11-28T10:08:09.458442Z",
     "shell.execute_reply": "2020-11-28T10:08:09.458868Z"
    },
    "papermill": {
     "duration": 0.063771,
     "end_time": "2020-11-28T10:08:09.459016",
     "exception": false,
     "start_time": "2020-11-28T10:08:09.395245",
     "status": "completed"
    },
    "tags": []
   },
   "outputs": [],
   "source": [
    "model_new = Model(layers[:-2])"
   ]
  },
  {
   "cell_type": "code",
   "execution_count": 25,
   "metadata": {
    "execution": {
     "iopub.execute_input": "2020-11-28T10:08:09.565701Z",
     "iopub.status.busy": "2020-11-28T10:08:09.556063Z",
     "iopub.status.idle": "2020-11-28T10:08:09.576650Z",
     "shell.execute_reply": "2020-11-28T10:08:09.577132Z"
    },
    "papermill": {
     "duration": 0.074504,
     "end_time": "2020-11-28T10:08:09.577273",
     "exception": false,
     "start_time": "2020-11-28T10:08:09.502769",
     "status": "completed"
    },
    "tags": []
   },
   "outputs": [],
   "source": [
    "plot_testing = model_new(testing_xdata)"
   ]
  },
  {
   "cell_type": "code",
   "execution_count": 26,
   "metadata": {
    "execution": {
     "iopub.execute_input": "2020-11-28T10:08:09.678165Z",
     "iopub.status.busy": "2020-11-28T10:08:09.677593Z",
     "iopub.status.idle": "2020-11-28T10:08:09.882097Z",
     "shell.execute_reply": "2020-11-28T10:08:09.882569Z"
    },
    "papermill": {
     "duration": 0.259061,
     "end_time": "2020-11-28T10:08:09.882721",
     "exception": false,
     "start_time": "2020-11-28T10:08:09.623660",
     "status": "completed"
    },
    "tags": []
   },
   "outputs": [
    {
     "data": {
      "text/plain": [
       "Text(0.5, 1.0, 'Outputs')"
      ]
     },
     "execution_count": 26,
     "metadata": {},
     "output_type": "execute_result"
    },
    {
     "data": {
      "image/png": "[encoded data removed]",
      "text/plain": [
       "<Figure size 576x504 with 1 Axes>"
      ]
     },
     "metadata": {
      "needs_background": "light"
     },
     "output_type": "display_data"
    }
   ],
   "source": [
    "plt.figure(figsize=(8,7))\n",
    "plt.scatter(plot_testing[:,0], plot_testing[:,1], alpha = 0.1, c = y_test.ravel());\n",
    "plt.title('Outputs')"
   ]
  },
  {
   "cell_type": "markdown",
   "metadata": {
    "papermill": {
     "duration": 0.047,
     "end_time": "2020-11-28T10:08:09.976107",
     "exception": false,
     "start_time": "2020-11-28T10:08:09.929107",
     "status": "completed"
    },
    "tags": []
   },
   "source": [
    "### Plotting probability contours"
   ]
  },
  {
   "cell_type": "code",
   "execution_count": 27,
   "metadata": {
    "execution": {
     "iopub.execute_input": "2020-11-28T10:08:10.073885Z",
     "iopub.status.busy": "2020-11-28T10:08:10.073307Z",
     "iopub.status.idle": "2020-11-28T10:08:10.087400Z",
     "shell.execute_reply": "2020-11-28T10:08:10.086653Z"
    },
    "papermill": {
     "duration": 0.065252,
     "end_time": "2020-11-28T10:08:10.087576",
     "exception": false,
     "start_time": "2020-11-28T10:08:10.022324",
     "status": "completed"
    },
    "tags": []
   },
   "outputs": [],
   "source": [
    "model_prob = Model(layers[-2:]) "
   ]
  },
  {
   "cell_type": "code",
   "execution_count": 28,
   "metadata": {
    "execution": {
     "iopub.execute_input": "2020-11-28T10:08:10.189326Z",
     "iopub.status.busy": "2020-11-28T10:08:10.188720Z",
     "iopub.status.idle": "2020-11-28T10:08:10.201634Z",
     "shell.execute_reply": "2020-11-28T10:08:10.202105Z"
    },
    "papermill": {
     "duration": 0.065787,
     "end_time": "2020-11-28T10:08:10.202250",
     "exception": false,
     "start_time": "2020-11-28T10:08:10.136463",
     "status": "completed"
    },
    "tags": []
   },
   "outputs": [],
   "source": [
    "# Adjust the x and y ranges according to the above generated plot.\n",
    "x_range = np.linspace(-4, 1, 100) \n",
    "y_range = np.linspace(-6, 6, 100) \n",
    "x_grid, y_grid = np.meshgrid(x_range, y_range) # x_grid and y_grig are of size 100 X 100\n",
    "\n",
    "# converting x_grid and y_grid to continuous arrays\n",
    "x_grid_flat = np.ravel(x_grid)\n",
    "y_grid_flat = np.ravel(y_grid)\n",
    "\n",
    "# The last layer of the current model takes two columns as input. Hence transpose of np.vstack() is required.\n",
    "X = np.vstack((x_grid_flat, y_grid_flat)).T\n",
    "\n",
    "# x_grid and y_grid are of size 100 x 100\n",
    "probability_contour = model_prob(X).reshape(100,100) "
   ]
  },
  {
   "cell_type": "code",
   "execution_count": 29,
   "metadata": {
    "execution": {
     "iopub.execute_input": "2020-11-28T10:08:10.299287Z",
     "iopub.status.busy": "2020-11-28T10:08:10.298764Z",
     "iopub.status.idle": "2020-11-28T10:08:10.555536Z",
     "shell.execute_reply": "2020-11-28T10:08:10.554526Z"
    },
    "papermill": {
     "duration": 0.306083,
     "end_time": "2020-11-28T10:08:10.555686",
     "exception": false,
     "start_time": "2020-11-28T10:08:10.249603",
     "status": "completed"
    },
    "tags": []
   },
   "outputs": [
    {
     "data": {
      "image/png": "[encoded data removed]",
      "text/plain": [
       "<Figure size 720x648 with 1 Axes>"
      ]
     },
     "metadata": {
      "needs_background": "light"
     },
     "output_type": "display_data"
    }
   ],
   "source": [
    "plt.figure(figsize=(10,9))\n",
    "plt.scatter(plot_testing[:,0], plot_testing[:,1], alpha = 0.1, c = y_test.ravel())\n",
    "contours = plt.contour(x_grid,y_grid,probability_contour)\n",
    "plt.title('Probability Contours')\n",
    "plt.clabel(contours, inline = True );"
   ]
  }
 ],
 "metadata": {
  "kernelspec": {
   "display_name": "Python 3",
   "language": "python",
   "name": "python3"
  },
  "language_info": {
   "codemirror_mode": {
    "name": "ipython",
    "version": 3
   },
   "file_extension": ".py",
   "mimetype": "text/x-python",
   "name": "python",
   "nbconvert_exporter": "python",
   "pygments_lexer": "ipython3",
   "version": "3.6.12"
  },
  "papermill": {
   "duration": 110.510537,
   "end_time": "2020-11-28T10:08:10.912628",
   "environment_variables": {},
   "exception": null,
   "input_path": "2020-08-11-NeuralNetwork.ipynb",
   "output_path": "2020-08-11-NeuralNetwork.ipynb",
   "parameters": {},
   "start_time": "2020-11-28T10:06:20.402091",
   "version": "2.1.2"
  }
 },
 "nbformat": 4,
 "nbformat_minor": 4
}