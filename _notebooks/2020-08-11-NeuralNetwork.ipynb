{
 "cells": [
  {
   "cell_type": "markdown",
   "metadata": {
    "papermill": {
     "duration": 0.037542,
     "end_time": "2020-08-20T10:04:12.800918",
     "exception": false,
     "start_time": "2020-08-20T10:04:12.763376",
     "status": "completed"
    },
    "tags": []
   },
   "source": [
    "# \"A Basic Neural Network: Differentiate Hand-Written Digits\"\n",
    "\n",
    "- badges: true\n",
    "- author: Akshith Sriram"
   ]
  },
  {
   "cell_type": "markdown",
   "metadata": {
    "papermill": {
     "duration": 0.03049,
     "end_time": "2020-08-20T10:04:12.861933",
     "exception": false,
     "start_time": "2020-08-20T10:04:12.831443",
     "status": "completed"
    },
    "tags": []
   },
   "source": [
    "### Key Objectives:\n",
    "- Building a neural network that differentiates two hand-written digits 3 and 8.\n",
    "- Comparing the results of this Neural Network (NN) to that of a Logistic Regression (LR) model.\n",
    "\n",
    "### Requirements:\n",
    "- 'Kudzu' : A neural network library that was designed during our course by [Univ.AI](www.univ.ai). \n",
    "- MNIST Database\n",
    "\n",
    "If MNIST is not installed, use the command `!pip install mnist` given below.\n",
    "It can be run both from the command line and Jupyter Notebook."
   ]
  },
  {
   "cell_type": "code",
   "execution_count": 1,
   "metadata": {
    "execution": {
     "iopub.execute_input": "2020-08-20T10:04:12.921789Z",
     "iopub.status.busy": "2020-08-20T10:04:12.921114Z",
     "iopub.status.idle": "2020-08-20T10:04:14.465416Z",
     "shell.execute_reply": "2020-08-20T10:04:14.464500Z"
    },
    "papermill": {
     "duration": 1.576071,
     "end_time": "2020-08-20T10:04:14.465594",
     "exception": false,
     "start_time": "2020-08-20T10:04:12.889523",
     "status": "completed"
    },
    "tags": []
   },
   "outputs": [
    {
     "name": "stdout",
     "output_type": "stream",
     "text": [
      "Collecting mnist\r\n"
     ]
    },
    {
     "name": "stdout",
     "output_type": "stream",
     "text": [
      "  Downloading mnist-0.2.2-py2.py3-none-any.whl (3.5 kB)\r\n"
     ]
    },
    {
     "name": "stdout",
     "output_type": "stream",
     "text": [
      "Requirement already satisfied: numpy in /opt/hostedtoolcache/Python/3.6.11/x64/lib/python3.6/site-packages (from mnist) (1.19.1)\r\n"
     ]
    },
    {
     "name": "stdout",
     "output_type": "stream",
     "text": [
      "Installing collected packages: mnist\r\n"
     ]
    },
    {
     "name": "stdout",
     "output_type": "stream",
     "text": [
      "Successfully installed mnist-0.2.2\r\n"
     ]
    }
   ],
   "source": [
    "!pip install mnist "
   ]
  },
  {
   "cell_type": "markdown",
   "metadata": {
    "papermill": {
     "duration": 0.028715,
     "end_time": "2020-08-20T10:04:14.523697",
     "exception": false,
     "start_time": "2020-08-20T10:04:14.494982",
     "status": "completed"
    },
    "tags": []
   },
   "source": [
    "#### Importing necessary libraries"
   ]
  },
  {
   "cell_type": "code",
   "execution_count": 2,
   "metadata": {
    "execution": {
     "iopub.execute_input": "2020-08-20T10:04:14.588517Z",
     "iopub.status.busy": "2020-08-20T10:04:14.587853Z",
     "iopub.status.idle": "2020-08-20T10:04:15.164606Z",
     "shell.execute_reply": "2020-08-20T10:04:15.164014Z"
    },
    "papermill": {
     "duration": 0.612345,
     "end_time": "2020-08-20T10:04:15.164768",
     "exception": false,
     "start_time": "2020-08-20T10:04:14.552423",
     "status": "completed"
    },
    "tags": []
   },
   "outputs": [],
   "source": [
    "%load_ext autoreload\n",
    "%autoreload 2\n",
    "\n",
    "%matplotlib inline\n",
    "import matplotlib.pyplot as plt\n",
    "\n",
    "import numpy as np\n",
    "import pandas as pd"
   ]
  },
  {
   "cell_type": "markdown",
   "metadata": {
    "papermill": {
     "duration": 0.029165,
     "end_time": "2020-08-20T10:04:15.224265",
     "exception": false,
     "start_time": "2020-08-20T10:04:15.195100",
     "status": "completed"
    },
    "tags": []
   },
   "source": [
    "### Preparing the Data"
   ]
  },
  {
   "cell_type": "code",
   "execution_count": 3,
   "metadata": {
    "execution": {
     "iopub.execute_input": "2020-08-20T10:04:15.301640Z",
     "iopub.status.busy": "2020-08-20T10:04:15.297970Z",
     "iopub.status.idle": "2020-08-20T10:04:15.304271Z",
     "shell.execute_reply": "2020-08-20T10:04:15.303706Z"
    },
    "papermill": {
     "duration": 0.049216,
     "end_time": "2020-08-20T10:04:15.304407",
     "exception": false,
     "start_time": "2020-08-20T10:04:15.255191",
     "status": "completed"
    },
    "tags": []
   },
   "outputs": [],
   "source": [
    "import mnist"
   ]
  },
  {
   "cell_type": "code",
   "execution_count": 4,
   "metadata": {
    "execution": {
     "iopub.execute_input": "2020-08-20T10:04:15.382483Z",
     "iopub.status.busy": "2020-08-20T10:04:15.375917Z",
     "iopub.status.idle": "2020-08-20T10:04:16.058571Z",
     "shell.execute_reply": "2020-08-20T10:04:16.059222Z"
    },
    "papermill": {
     "duration": 0.725837,
     "end_time": "2020-08-20T10:04:16.059410",
     "exception": false,
     "start_time": "2020-08-20T10:04:15.333573",
     "status": "completed"
    },
    "tags": []
   },
   "outputs": [],
   "source": [
    "train_images = mnist.train_images()\n",
    "train_labels = mnist.train_labels()"
   ]
  },
  {
   "cell_type": "code",
   "execution_count": 5,
   "metadata": {
    "execution": {
     "iopub.execute_input": "2020-08-20T10:04:16.123499Z",
     "iopub.status.busy": "2020-08-20T10:04:16.122837Z",
     "iopub.status.idle": "2020-08-20T10:04:16.136849Z",
     "shell.execute_reply": "2020-08-20T10:04:16.136285Z"
    },
    "papermill": {
     "duration": 0.048011,
     "end_time": "2020-08-20T10:04:16.136980",
     "exception": false,
     "start_time": "2020-08-20T10:04:16.088969",
     "status": "completed"
    },
    "tags": []
   },
   "outputs": [
    {
     "data": {
      "text/plain": [
       "((60000, 28, 28), (60000,))"
      ]
     },
     "execution_count": 5,
     "metadata": {},
     "output_type": "execute_result"
    }
   ],
   "source": [
    "train_images.shape, train_labels.shape"
   ]
  },
  {
   "cell_type": "code",
   "execution_count": 6,
   "metadata": {
    "execution": {
     "iopub.execute_input": "2020-08-20T10:04:16.202361Z",
     "iopub.status.busy": "2020-08-20T10:04:16.201701Z",
     "iopub.status.idle": "2020-08-20T10:04:16.506608Z",
     "shell.execute_reply": "2020-08-20T10:04:16.506020Z"
    },
    "papermill": {
     "duration": 0.340042,
     "end_time": "2020-08-20T10:04:16.506802",
     "exception": false,
     "start_time": "2020-08-20T10:04:16.166760",
     "status": "completed"
    },
    "tags": []
   },
   "outputs": [],
   "source": [
    "test_images = mnist.test_images()\n",
    "test_labels = mnist.test_labels()"
   ]
  },
  {
   "cell_type": "code",
   "execution_count": 7,
   "metadata": {
    "execution": {
     "iopub.execute_input": "2020-08-20T10:04:16.691654Z",
     "iopub.status.busy": "2020-08-20T10:04:16.690971Z",
     "iopub.status.idle": "2020-08-20T10:04:16.705002Z",
     "shell.execute_reply": "2020-08-20T10:04:16.704429Z"
    },
    "papermill": {
     "duration": 0.081798,
     "end_time": "2020-08-20T10:04:16.705143",
     "exception": false,
     "start_time": "2020-08-20T10:04:16.623345",
     "status": "completed"
    },
    "tags": []
   },
   "outputs": [
    {
     "data": {
      "text/plain": [
       "((10000, 28, 28), (10000,))"
      ]
     },
     "execution_count": 7,
     "metadata": {},
     "output_type": "execute_result"
    }
   ],
   "source": [
    "test_images.shape, test_labels.shape"
   ]
  },
  {
   "cell_type": "code",
   "execution_count": 8,
   "metadata": {
    "execution": {
     "iopub.execute_input": "2020-08-20T10:04:16.771364Z",
     "iopub.status.busy": "2020-08-20T10:04:16.770701Z",
     "iopub.status.idle": "2020-08-20T10:04:16.932114Z",
     "shell.execute_reply": "2020-08-20T10:04:16.932636Z"
    },
    "papermill": {
     "duration": 0.195999,
     "end_time": "2020-08-20T10:04:16.932809",
     "exception": false,
     "start_time": "2020-08-20T10:04:16.736810",
     "status": "completed"
    },
    "tags": []
   },
   "outputs": [
    {
     "name": "stdout",
     "output_type": "stream",
     "text": [
      "2\n"
     ]
    },
    {
     "data": {
      "text/plain": [
       "<matplotlib.image.AxesImage at 0x7fb784337320>"
      ]
     },
     "execution_count": 8,
     "metadata": {},
     "output_type": "execute_result"
    },
    {
     "data": {
      "image/png": "[encoded data removed]",
      "text/plain": [
       "<Figure size 432x288 with 1 Axes>"
      ]
     },
     "metadata": {
      "needs_background": "light"
     },
     "output_type": "display_data"
    }
   ],
   "source": [
    "image_index = 7776 # You may select anything up to 60,000\n",
    "print(train_labels[image_index]) \n",
    "plt.imshow(train_images[image_index], cmap='Greys')"
   ]
  },
  {
   "cell_type": "markdown",
   "metadata": {
    "papermill": {
     "duration": 0.031927,
     "end_time": "2020-08-20T10:04:16.997045",
     "exception": false,
     "start_time": "2020-08-20T10:04:16.965118",
     "status": "completed"
    },
    "tags": []
   },
   "source": [
    "## Filter data to get 3 and 8 out"
   ]
  },
  {
   "cell_type": "code",
   "execution_count": 9,
   "metadata": {
    "execution": {
     "iopub.execute_input": "2020-08-20T10:04:17.079853Z",
     "iopub.status.busy": "2020-08-20T10:04:17.071570Z",
     "iopub.status.idle": "2020-08-20T10:04:17.085542Z",
     "shell.execute_reply": "2020-08-20T10:04:17.086059Z"
    },
    "papermill": {
     "duration": 0.057951,
     "end_time": "2020-08-20T10:04:17.086235",
     "exception": false,
     "start_time": "2020-08-20T10:04:17.028284",
     "status": "completed"
    },
    "tags": []
   },
   "outputs": [],
   "source": [
    "train_filter = np.where((train_labels == 3 ) | (train_labels == 8))\n",
    "test_filter = np.where((test_labels == 3) | (test_labels == 8))\n",
    "X_train, y_train = train_images[train_filter], train_labels[train_filter]\n",
    "X_test, y_test = test_images[test_filter], test_labels[test_filter]"
   ]
  },
  {
   "cell_type": "markdown",
   "metadata": {
    "papermill": {
     "duration": 0.032123,
     "end_time": "2020-08-20T10:04:17.149784",
     "exception": false,
     "start_time": "2020-08-20T10:04:17.117661",
     "status": "completed"
    },
    "tags": []
   },
   "source": [
    "We normalize the pixel values in the 0 to 1 range"
   ]
  },
  {
   "cell_type": "code",
   "execution_count": 10,
   "metadata": {
    "execution": {
     "iopub.execute_input": "2020-08-20T10:04:17.214361Z",
     "iopub.status.busy": "2020-08-20T10:04:17.213696Z",
     "iopub.status.idle": "2020-08-20T10:04:17.279130Z",
     "shell.execute_reply": "2020-08-20T10:04:17.278516Z"
    },
    "papermill": {
     "duration": 0.098827,
     "end_time": "2020-08-20T10:04:17.279291",
     "exception": false,
     "start_time": "2020-08-20T10:04:17.180464",
     "status": "completed"
    },
    "tags": []
   },
   "outputs": [],
   "source": [
    "X_train = X_train/255.\n",
    "X_test = X_test/255."
   ]
  },
  {
   "cell_type": "markdown",
   "metadata": {
    "papermill": {
     "duration": 0.030639,
     "end_time": "2020-08-20T10:04:17.341900",
     "exception": false,
     "start_time": "2020-08-20T10:04:17.311261",
     "status": "completed"
    },
    "tags": []
   },
   "source": [
    "Setup the labels as 1 (when the digit is 3) and 0 (when the digit is 8)"
   ]
  },
  {
   "cell_type": "code",
   "execution_count": 11,
   "metadata": {
    "execution": {
     "iopub.execute_input": "2020-08-20T10:04:17.420892Z",
     "iopub.status.busy": "2020-08-20T10:04:17.415381Z",
     "iopub.status.idle": "2020-08-20T10:04:17.423929Z",
     "shell.execute_reply": "2020-08-20T10:04:17.423200Z"
    },
    "papermill": {
     "duration": 0.051617,
     "end_time": "2020-08-20T10:04:17.424069",
     "exception": false,
     "start_time": "2020-08-20T10:04:17.372452",
     "status": "completed"
    },
    "tags": []
   },
   "outputs": [],
   "source": [
    "y_train = 1*(y_train==3)\n",
    "y_test = 1*(y_test==3)"
   ]
  },
  {
   "cell_type": "code",
   "execution_count": 12,
   "metadata": {
    "execution": {
     "iopub.execute_input": "2020-08-20T10:04:17.490512Z",
     "iopub.status.busy": "2020-08-20T10:04:17.489848Z",
     "iopub.status.idle": "2020-08-20T10:04:17.503809Z",
     "shell.execute_reply": "2020-08-20T10:04:17.504397Z"
    },
    "papermill": {
     "duration": 0.048753,
     "end_time": "2020-08-20T10:04:17.504546",
     "exception": false,
     "start_time": "2020-08-20T10:04:17.455793",
     "status": "completed"
    },
    "tags": []
   },
   "outputs": [
    {
     "data": {
      "text/plain": [
       "((11982, 28, 28), (1984, 28, 28))"
      ]
     },
     "execution_count": 12,
     "metadata": {},
     "output_type": "execute_result"
    }
   ],
   "source": [
    "X_train.shape, X_test.shape"
   ]
  },
  {
   "cell_type": "markdown",
   "metadata": {
    "papermill": {
     "duration": 0.030884,
     "end_time": "2020-08-20T10:04:17.566305",
     "exception": false,
     "start_time": "2020-08-20T10:04:17.535421",
     "status": "completed"
    },
    "tags": []
   },
   "source": [
    "### Reshape the input data to create a linear array"
   ]
  },
  {
   "cell_type": "code",
   "execution_count": 13,
   "metadata": {
    "execution": {
     "iopub.execute_input": "2020-08-20T10:04:17.643671Z",
     "iopub.status.busy": "2020-08-20T10:04:17.634801Z",
     "iopub.status.idle": "2020-08-20T10:04:17.646506Z",
     "shell.execute_reply": "2020-08-20T10:04:17.647173Z"
    },
    "papermill": {
     "duration": 0.04995,
     "end_time": "2020-08-20T10:04:17.647317",
     "exception": false,
     "start_time": "2020-08-20T10:04:17.597367",
     "status": "completed"
    },
    "tags": []
   },
   "outputs": [
    {
     "data": {
      "text/plain": [
       "((11982, 784), (1984, 784))"
      ]
     },
     "execution_count": 13,
     "metadata": {},
     "output_type": "execute_result"
    }
   ],
   "source": [
    "X_train = X_train.reshape(X_train.shape[0], -1)\n",
    "X_test = X_test.reshape(X_test.shape[0], -1)\n",
    "X_train.shape, X_test.shape"
   ]
  },
  {
   "cell_type": "markdown",
   "metadata": {
    "papermill": {
     "duration": 0.031223,
     "end_time": "2020-08-20T10:04:17.709757",
     "exception": false,
     "start_time": "2020-08-20T10:04:17.678534",
     "status": "completed"
    },
    "tags": []
   },
   "source": [
    "### Importing appropriate functions from 'Kudzu'"
   ]
  },
  {
   "cell_type": "code",
   "execution_count": 14,
   "metadata": {
    "execution": {
     "iopub.execute_input": "2020-08-20T10:04:17.776635Z",
     "iopub.status.busy": "2020-08-20T10:04:17.775968Z",
     "iopub.status.idle": "2020-08-20T10:04:17.795320Z",
     "shell.execute_reply": "2020-08-20T10:04:17.794488Z"
    },
    "papermill": {
     "duration": 0.054681,
     "end_time": "2020-08-20T10:04:17.796075",
     "exception": false,
     "start_time": "2020-08-20T10:04:17.741394",
     "status": "completed"
    },
    "tags": []
   },
   "outputs": [],
   "source": [
    "from kudzu.layer import Sigmoid\n",
    "from kudzu.layer import Relu\n",
    "from kudzu.layer import Affine, Sigmoid\n",
    "\n",
    "from kudzu.model import Model\n",
    "from kudzu.train import Learner\n",
    "from kudzu.optim import GD\n",
    "from kudzu.data import Data, Dataloader, Sampler\n",
    "\n",
    "from kudzu.callbacks import AccCallback\n",
    "from kudzu.callbacks import ClfCallback\n",
    "\n",
    "from kudzu.loss import MSE"
   ]
  },
  {
   "cell_type": "markdown",
   "metadata": {
    "papermill": {
     "duration": 0.032394,
     "end_time": "2020-08-20T10:04:17.862192",
     "exception": false,
     "start_time": "2020-08-20T10:04:17.829798",
     "status": "completed"
    },
    "tags": []
   },
   "source": [
    "### Let us create a `Config` class, to store important parameters. \n",
    "This class essentially plays the role of a dictionary."
   ]
  },
  {
   "cell_type": "code",
   "execution_count": 15,
   "metadata": {
    "execution": {
     "iopub.execute_input": "2020-08-20T10:04:17.937236Z",
     "iopub.status.busy": "2020-08-20T10:04:17.936244Z",
     "iopub.status.idle": "2020-08-20T10:04:17.945550Z",
     "shell.execute_reply": "2020-08-20T10:04:17.946062Z"
    },
    "papermill": {
     "duration": 0.052435,
     "end_time": "2020-08-20T10:04:17.946219",
     "exception": false,
     "start_time": "2020-08-20T10:04:17.893784",
     "status": "completed"
    },
    "tags": []
   },
   "outputs": [],
   "source": [
    "class Config:\n",
    "    pass\n",
    "config = Config()\n",
    "config.lr = 0.001\n",
    "config.num_epochs = 251\n",
    "config.bs = 50"
   ]
  },
  {
   "cell_type": "markdown",
   "metadata": {
    "papermill": {
     "duration": 0.03714,
     "end_time": "2020-08-20T10:04:18.015809",
     "exception": false,
     "start_time": "2020-08-20T10:04:17.978669",
     "status": "completed"
    },
    "tags": []
   },
   "source": [
    "### Initializing data to the variables"
   ]
  },
  {
   "cell_type": "code",
   "execution_count": 16,
   "metadata": {
    "execution": {
     "iopub.execute_input": "2020-08-20T10:04:18.082874Z",
     "iopub.status.busy": "2020-08-20T10:04:18.082180Z",
     "iopub.status.idle": "2020-08-20T10:04:18.094911Z",
     "shell.execute_reply": "2020-08-20T10:04:18.094312Z"
    },
    "papermill": {
     "duration": 0.047262,
     "end_time": "2020-08-20T10:04:18.095043",
     "exception": false,
     "start_time": "2020-08-20T10:04:18.047781",
     "status": "completed"
    },
    "tags": []
   },
   "outputs": [],
   "source": [
    "data = Data(X_train, y_train.reshape(-1,1))\n",
    "sampler = Sampler(data, config.bs, shuffle=True)\n",
    "\n",
    "dl = Dataloader(data, sampler)\n",
    "\n",
    "opt = GD(config.lr)\n",
    "loss = MSE()"
   ]
  },
  {
   "cell_type": "code",
   "execution_count": 17,
   "metadata": {
    "execution": {
     "iopub.execute_input": "2020-08-20T10:04:18.173599Z",
     "iopub.status.busy": "2020-08-20T10:04:18.169716Z",
     "iopub.status.idle": "2020-08-20T10:04:18.175806Z",
     "shell.execute_reply": "2020-08-20T10:04:18.176322Z"
    },
    "papermill": {
     "duration": 0.050187,
     "end_time": "2020-08-20T10:04:18.176468",
     "exception": false,
     "start_time": "2020-08-20T10:04:18.126281",
     "status": "completed"
    },
    "tags": []
   },
   "outputs": [],
   "source": [
    "training_xdata = X_train\n",
    "testing_xdata = X_test\n",
    "training_ydata = y_train.reshape(-1,1)\n",
    "testing_ydata = y_test.reshape(-1,1)"
   ]
  },
  {
   "cell_type": "markdown",
   "metadata": {
    "papermill": {
     "duration": 0.031735,
     "end_time": "2020-08-20T10:04:18.241938",
     "exception": false,
     "start_time": "2020-08-20T10:04:18.210203",
     "status": "completed"
    },
    "tags": []
   },
   "source": [
    "### Running Models with the Training data\n",
    "Details about the network layers:\n",
    "- A first affine layer has 784 inputs and does 100 affine transforms. These are followed by a Relu\n",
    "- A second affine layer has 100 inputs from the 100 activations of the past layer, and does 100 affine transforms. These are followed by a Relu\n",
    "- A third affine layer has 100 activations and does 2 affine transformations to create an embedding for visualization. There is no non-linearity here.\n",
    "- A final \"logistic regression\" which has an affine transform from 2 inputs to 1 output, which is squeezed through a sigmoid.\n",
    "\n",
    "Help taken from Anshuman's Notebook."
   ]
  },
  {
   "cell_type": "code",
   "execution_count": 18,
   "metadata": {
    "execution": {
     "iopub.execute_input": "2020-08-20T10:04:18.326076Z",
     "iopub.status.busy": "2020-08-20T10:04:18.325076Z",
     "iopub.status.idle": "2020-08-20T10:04:18.344272Z",
     "shell.execute_reply": "2020-08-20T10:04:18.343701Z"
    },
    "papermill": {
     "duration": 0.070952,
     "end_time": "2020-08-20T10:04:18.344413",
     "exception": false,
     "start_time": "2020-08-20T10:04:18.273461",
     "status": "completed"
    },
    "tags": []
   },
   "outputs": [],
   "source": [
    "# layers for the Neural Network\n",
    "layers = [Affine(\"first\", 784, 100), Relu(\"first\"), Affine(\"second\", 100, 100), Relu(\"second\"), Affine(\"third\", 100, 2), Affine(\"final\", 2, 1), Sigmoid(\"final\")]\n",
    "model_nn = Model(layers)\n",
    "\n",
    "# layers for the Logistic Regression\n",
    "layers_lr = [Affine(\"logits\", 784, 1), Sigmoid(\"sigmoid\")]\n",
    "model_lr = Model(layers_lr)"
   ]
  },
  {
   "cell_type": "code",
   "execution_count": 19,
   "metadata": {
    "execution": {
     "iopub.execute_input": "2020-08-20T10:04:18.416776Z",
     "iopub.status.busy": "2020-08-20T10:04:18.416101Z",
     "iopub.status.idle": "2020-08-20T10:04:18.427589Z",
     "shell.execute_reply": "2020-08-20T10:04:18.428128Z"
    },
    "papermill": {
     "duration": 0.051469,
     "end_time": "2020-08-20T10:04:18.428285",
     "exception": false,
     "start_time": "2020-08-20T10:04:18.376816",
     "status": "completed"
    },
    "tags": []
   },
   "outputs": [],
   "source": [
    "# suffix _nn stands for Neural Network.\n",
    "learner_nn = Learner(loss, model_nn, opt, config.num_epochs)\n",
    "acc_nn = ClfCallback(learner_nn, config.bs, training_xdata , testing_xdata, training_ydata, testing_ydata)\n",
    "learner_nn.set_callbacks([acc_nn])"
   ]
  },
  {
   "cell_type": "code",
   "execution_count": 20,
   "metadata": {
    "execution": {
     "iopub.execute_input": "2020-08-20T10:04:18.504456Z",
     "iopub.status.busy": "2020-08-20T10:04:18.503792Z",
     "iopub.status.idle": "2020-08-20T10:06:17.385246Z",
     "shell.execute_reply": "2020-08-20T10:06:17.384691Z"
    },
    "papermill": {
     "duration": 118.921294,
     "end_time": "2020-08-20T10:06:17.385399",
     "exception": false,
     "start_time": "2020-08-20T10:04:18.464105",
     "status": "completed"
    },
    "tags": []
   },
   "outputs": [
    {
     "name": "stdout",
     "output_type": "stream",
     "text": [
      "====== Neural Network ======\n"
     ]
    },
    {
     "name": "stdout",
     "output_type": "stream",
     "text": [
      "Epoch 0, Loss 0.2537\n",
      "Training Accuracy: 0.5381, Testing Accuracy: 0.5433\n",
      "\n"
     ]
    },
    {
     "name": "stdout",
     "output_type": "stream",
     "text": [
      "Epoch 10, Loss 0.1488\n",
      "Training Accuracy: 0.8915, Testing Accuracy: 0.9083\n",
      "\n"
     ]
    },
    {
     "name": "stdout",
     "output_type": "stream",
     "text": [
      "Epoch 20, Loss 0.0742\n",
      "Training Accuracy: 0.9277, Testing Accuracy: 0.9415\n",
      "\n"
     ]
    },
    {
     "name": "stdout",
     "output_type": "stream",
     "text": [
      "Epoch 30, Loss 0.0525\n",
      "Training Accuracy: 0.9452, Testing Accuracy: 0.9521\n",
      "\n"
     ]
    },
    {
     "name": "stdout",
     "output_type": "stream",
     "text": [
      "Epoch 40, Loss 0.0431\n",
      "Training Accuracy: 0.9526, Testing Accuracy: 0.9597\n",
      "\n"
     ]
    },
    {
     "name": "stdout",
     "output_type": "stream",
     "text": [
      "Epoch 50, Loss 0.038\n",
      "Training Accuracy: 0.9568, Testing Accuracy: 0.9647\n",
      "\n"
     ]
    },
    {
     "name": "stdout",
     "output_type": "stream",
     "text": [
      "Epoch 60, Loss 0.0347\n",
      "Training Accuracy: 0.9606, Testing Accuracy: 0.9667\n",
      "\n"
     ]
    },
    {
     "name": "stdout",
     "output_type": "stream",
     "text": [
      "Epoch 70, Loss 0.0323\n",
      "Training Accuracy: 0.9624, Testing Accuracy: 0.9667\n",
      "\n"
     ]
    },
    {
     "name": "stdout",
     "output_type": "stream",
     "text": [
      "Epoch 80, Loss 0.0305\n",
      "Training Accuracy: 0.9644, Testing Accuracy: 0.9672\n",
      "\n"
     ]
    },
    {
     "name": "stdout",
     "output_type": "stream",
     "text": [
      "Epoch 90, Loss 0.029\n",
      "Training Accuracy: 0.9662, Testing Accuracy: 0.9688\n",
      "\n"
     ]
    },
    {
     "name": "stdout",
     "output_type": "stream",
     "text": [
      "Epoch 100, Loss 0.0278\n",
      "Training Accuracy: 0.9680, Testing Accuracy: 0.9703\n",
      "\n"
     ]
    },
    {
     "name": "stdout",
     "output_type": "stream",
     "text": [
      "Epoch 110, Loss 0.0268\n",
      "Training Accuracy: 0.9696, Testing Accuracy: 0.9708\n",
      "\n"
     ]
    },
    {
     "name": "stdout",
     "output_type": "stream",
     "text": [
      "Epoch 120, Loss 0.0259\n",
      "Training Accuracy: 0.9711, Testing Accuracy: 0.9718\n",
      "\n"
     ]
    },
    {
     "name": "stdout",
     "output_type": "stream",
     "text": [
      "Epoch 130, Loss 0.0251\n",
      "Training Accuracy: 0.9720, Testing Accuracy: 0.9718\n",
      "\n"
     ]
    },
    {
     "name": "stdout",
     "output_type": "stream",
     "text": [
      "Epoch 140, Loss 0.0243\n",
      "Training Accuracy: 0.9724, Testing Accuracy: 0.9728\n",
      "\n"
     ]
    },
    {
     "name": "stdout",
     "output_type": "stream",
     "text": [
      "Epoch 150, Loss 0.0237\n",
      "Training Accuracy: 0.9730, Testing Accuracy: 0.9733\n",
      "\n"
     ]
    },
    {
     "name": "stdout",
     "output_type": "stream",
     "text": [
      "Epoch 160, Loss 0.0231\n",
      "Training Accuracy: 0.9736, Testing Accuracy: 0.9728\n",
      "\n"
     ]
    },
    {
     "name": "stdout",
     "output_type": "stream",
     "text": [
      "Epoch 170, Loss 0.0225\n",
      "Training Accuracy: 0.9742, Testing Accuracy: 0.9728\n",
      "\n"
     ]
    },
    {
     "name": "stdout",
     "output_type": "stream",
     "text": [
      "Epoch 180, Loss 0.022\n",
      "Training Accuracy: 0.9754, Testing Accuracy: 0.9733\n",
      "\n"
     ]
    },
    {
     "name": "stdout",
     "output_type": "stream",
     "text": [
      "Epoch 190, Loss 0.0214\n",
      "Training Accuracy: 0.9759, Testing Accuracy: 0.9733\n",
      "\n"
     ]
    },
    {
     "name": "stdout",
     "output_type": "stream",
     "text": [
      "Epoch 200, Loss 0.021\n",
      "Training Accuracy: 0.9765, Testing Accuracy: 0.9733\n",
      "\n"
     ]
    },
    {
     "name": "stdout",
     "output_type": "stream",
     "text": [
      "Epoch 210, Loss 0.0205\n",
      "Training Accuracy: 0.9771, Testing Accuracy: 0.9733\n",
      "\n"
     ]
    },
    {
     "name": "stdout",
     "output_type": "stream",
     "text": [
      "Epoch 220, Loss 0.02\n",
      "Training Accuracy: 0.9776, Testing Accuracy: 0.9733\n",
      "\n"
     ]
    },
    {
     "name": "stdout",
     "output_type": "stream",
     "text": [
      "Epoch 230, Loss 0.0196\n",
      "Training Accuracy: 0.9781, Testing Accuracy: 0.9733\n",
      "\n"
     ]
    },
    {
     "name": "stdout",
     "output_type": "stream",
     "text": [
      "Epoch 240, Loss 0.0192\n",
      "Training Accuracy: 0.9785, Testing Accuracy: 0.9743\n",
      "\n"
     ]
    },
    {
     "name": "stdout",
     "output_type": "stream",
     "text": [
      "Epoch 250, Loss 0.0188\n",
      "Training Accuracy: 0.9791, Testing Accuracy: 0.9738\n",
      "\n"
     ]
    },
    {
     "data": {
      "text/plain": [
       "0.026241861826462803"
      ]
     },
     "execution_count": 20,
     "metadata": {},
     "output_type": "execute_result"
    }
   ],
   "source": [
    "print(\"====== Neural Network ======\")\n",
    "learner_nn.train_loop(dl)"
   ]
  },
  {
   "cell_type": "markdown",
   "metadata": {
    "papermill": {
     "duration": 0.039945,
     "end_time": "2020-08-20T10:06:17.466901",
     "exception": false,
     "start_time": "2020-08-20T10:06:17.426956",
     "status": "completed"
    },
    "tags": []
   },
   "source": [
    "### Logistic Regression based Implementation."
   ]
  },
  {
   "cell_type": "code",
   "execution_count": 21,
   "metadata": {
    "execution": {
     "iopub.execute_input": "2020-08-20T10:06:17.554546Z",
     "iopub.status.busy": "2020-08-20T10:06:17.553877Z",
     "iopub.status.idle": "2020-08-20T10:06:17.577792Z",
     "shell.execute_reply": "2020-08-20T10:06:17.578436Z"
    },
    "papermill": {
     "duration": 0.071776,
     "end_time": "2020-08-20T10:06:17.578600",
     "exception": false,
     "start_time": "2020-08-20T10:06:17.506824",
     "status": "completed"
    },
    "tags": []
   },
   "outputs": [],
   "source": [
    "learner_lr = Learner(loss, model_lr, opt, config.num_epochs)\n",
    "acc_lr = ClfCallback(learner_lr, config.bs, training_xdata , testing_xdata, training_ydata, testing_ydata)\n",
    "learner_lr.set_callbacks([acc_lr])"
   ]
  },
  {
   "cell_type": "code",
   "execution_count": 22,
   "metadata": {
    "execution": {
     "iopub.execute_input": "2020-08-20T10:06:17.672107Z",
     "iopub.status.busy": "2020-08-20T10:06:17.671447Z",
     "iopub.status.idle": "2020-08-20T10:06:35.504870Z",
     "shell.execute_reply": "2020-08-20T10:06:35.505719Z"
    },
    "papermill": {
     "duration": 17.885592,
     "end_time": "2020-08-20T10:06:35.505894",
     "exception": false,
     "start_time": "2020-08-20T10:06:17.620302",
     "status": "completed"
    },
    "tags": []
   },
   "outputs": [
    {
     "name": "stdout",
     "output_type": "stream",
     "text": [
      "====== Logistic Regression ======\n",
      "Epoch 0, Loss 0.2373\n",
      "Training Accuracy: 0.6906, Testing Accuracy: 0.6815\n",
      "\n"
     ]
    },
    {
     "name": "stdout",
     "output_type": "stream",
     "text": [
      "Epoch 10, Loss 0.1081\n",
      "Training Accuracy: 0.8938, Testing Accuracy: 0.8967\n",
      "\n"
     ]
    },
    {
     "name": "stdout",
     "output_type": "stream",
     "text": [
      "Epoch 20, Loss 0.0824\n",
      "Training Accuracy: 0.9198, Testing Accuracy: 0.9234\n",
      "\n"
     ]
    },
    {
     "name": "stdout",
     "output_type": "stream",
     "text": [
      "Epoch 30, Loss 0.0703\n",
      "Training Accuracy: 0.9323, Testing Accuracy: 0.9385\n",
      "\n"
     ]
    },
    {
     "name": "stdout",
     "output_type": "stream",
     "text": [
      "Epoch 40, Loss 0.0631\n",
      "Training Accuracy: 0.9389, Testing Accuracy: 0.9471\n",
      "\n"
     ]
    },
    {
     "name": "stdout",
     "output_type": "stream",
     "text": [
      "Epoch 50, Loss 0.0582\n",
      "Training Accuracy: 0.9432, Testing Accuracy: 0.9501\n",
      "\n"
     ]
    },
    {
     "name": "stdout",
     "output_type": "stream",
     "text": [
      "Epoch 60, Loss 0.0546\n",
      "Training Accuracy: 0.9455, Testing Accuracy: 0.9531\n",
      "\n"
     ]
    },
    {
     "name": "stdout",
     "output_type": "stream",
     "text": [
      "Epoch 70, Loss 0.0519\n",
      "Training Accuracy: 0.9476, Testing Accuracy: 0.9572\n",
      "\n"
     ]
    },
    {
     "name": "stdout",
     "output_type": "stream",
     "text": [
      "Epoch 80, Loss 0.0497\n",
      "Training Accuracy: 0.9488, Testing Accuracy: 0.9587\n",
      "\n"
     ]
    },
    {
     "name": "stdout",
     "output_type": "stream",
     "text": [
      "Epoch 90, Loss 0.048\n",
      "Training Accuracy: 0.9508, Testing Accuracy: 0.9597\n",
      "\n"
     ]
    },
    {
     "name": "stdout",
     "output_type": "stream",
     "text": [
      "Epoch 100, Loss 0.0465\n",
      "Training Accuracy: 0.9519, Testing Accuracy: 0.9607\n",
      "\n"
     ]
    },
    {
     "name": "stdout",
     "output_type": "stream",
     "text": [
      "Epoch 110, Loss 0.0452\n",
      "Training Accuracy: 0.9528, Testing Accuracy: 0.9617\n",
      "\n"
     ]
    },
    {
     "name": "stdout",
     "output_type": "stream",
     "text": [
      "Epoch 120, Loss 0.0441\n",
      "Training Accuracy: 0.9539, Testing Accuracy: 0.9632\n",
      "\n"
     ]
    },
    {
     "name": "stdout",
     "output_type": "stream",
     "text": [
      "Epoch 130, Loss 0.0431\n",
      "Training Accuracy: 0.9550, Testing Accuracy: 0.9637\n",
      "\n"
     ]
    },
    {
     "name": "stdout",
     "output_type": "stream",
     "text": [
      "Epoch 140, Loss 0.0423\n",
      "Training Accuracy: 0.9560, Testing Accuracy: 0.9642\n",
      "\n"
     ]
    },
    {
     "name": "stdout",
     "output_type": "stream",
     "text": [
      "Epoch 150, Loss 0.0415\n",
      "Training Accuracy: 0.9565, Testing Accuracy: 0.9647\n",
      "\n"
     ]
    },
    {
     "name": "stdout",
     "output_type": "stream",
     "text": [
      "Epoch 160, Loss 0.0408\n",
      "Training Accuracy: 0.9570, Testing Accuracy: 0.9647\n",
      "\n"
     ]
    },
    {
     "name": "stdout",
     "output_type": "stream",
     "text": [
      "Epoch 170, Loss 0.0402\n",
      "Training Accuracy: 0.9572, Testing Accuracy: 0.9647\n",
      "\n"
     ]
    },
    {
     "name": "stdout",
     "output_type": "stream",
     "text": [
      "Epoch 180, Loss 0.0396\n",
      "Training Accuracy: 0.9581, Testing Accuracy: 0.9647\n",
      "\n"
     ]
    },
    {
     "name": "stdout",
     "output_type": "stream",
     "text": [
      "Epoch 190, Loss 0.039\n",
      "Training Accuracy: 0.9590, Testing Accuracy: 0.9652\n",
      "\n"
     ]
    },
    {
     "name": "stdout",
     "output_type": "stream",
     "text": [
      "Epoch 200, Loss 0.0386\n",
      "Training Accuracy: 0.9593, Testing Accuracy: 0.9657\n",
      "\n"
     ]
    },
    {
     "name": "stdout",
     "output_type": "stream",
     "text": [
      "Epoch 210, Loss 0.0381\n",
      "Training Accuracy: 0.9598, Testing Accuracy: 0.9667\n",
      "\n"
     ]
    },
    {
     "name": "stdout",
     "output_type": "stream",
     "text": [
      "Epoch 220, Loss 0.0377\n",
      "Training Accuracy: 0.9599, Testing Accuracy: 0.9667\n",
      "\n"
     ]
    },
    {
     "name": "stdout",
     "output_type": "stream",
     "text": [
      "Epoch 230, Loss 0.0373\n",
      "Training Accuracy: 0.9603, Testing Accuracy: 0.9662\n",
      "\n"
     ]
    },
    {
     "name": "stdout",
     "output_type": "stream",
     "text": [
      "Epoch 240, Loss 0.0369\n",
      "Training Accuracy: 0.9608, Testing Accuracy: 0.9662\n",
      "\n"
     ]
    },
    {
     "name": "stdout",
     "output_type": "stream",
     "text": [
      "Epoch 250, Loss 0.0366\n",
      "Training Accuracy: 0.9614, Testing Accuracy: 0.9662\n",
      "\n"
     ]
    },
    {
     "data": {
      "text/plain": [
       "0.03894929830504706"
      ]
     },
     "execution_count": 22,
     "metadata": {},
     "output_type": "execute_result"
    }
   ],
   "source": [
    "print(\"====== Logistic Regression ======\")\n",
    "learner_lr.train_loop(dl)"
   ]
  },
  {
   "cell_type": "markdown",
   "metadata": {
    "papermill": {
     "duration": 0.051703,
     "end_time": "2020-08-20T10:06:35.608717",
     "exception": false,
     "start_time": "2020-08-20T10:06:35.557014",
     "status": "completed"
    },
    "tags": []
   },
   "source": [
    "### Comparing results of NN and LR"
   ]
  },
  {
   "cell_type": "code",
   "execution_count": 23,
   "metadata": {
    "execution": {
     "iopub.execute_input": "2020-08-20T10:06:35.740040Z",
     "iopub.status.busy": "2020-08-20T10:06:35.728696Z",
     "iopub.status.idle": "2020-08-20T10:06:35.986159Z",
     "shell.execute_reply": "2020-08-20T10:06:35.985304Z"
    },
    "papermill": {
     "duration": 0.329012,
     "end_time": "2020-08-20T10:06:35.986311",
     "exception": false,
     "start_time": "2020-08-20T10:06:35.657299",
     "status": "completed"
    },
    "tags": []
   },
   "outputs": [
    {
     "data": {
      "text/plain": [
       "<matplotlib.legend.Legend at 0x7fb783f12a90>"
      ]
     },
     "execution_count": 23,
     "metadata": {},
     "output_type": "execute_result"
    },
    {
     "data": {
      "image/png": "[encoded data removed]",
      "text/plain": [
       "<Figure size 1080x720 with 1 Axes>"
      ]
     },
     "metadata": {
      "needs_background": "light"
     },
     "output_type": "display_data"
    }
   ],
   "source": [
    "plt.figure(figsize=(15,10))\n",
    "\n",
    "# Neural Network plots\n",
    "plt.plot(acc_nn.accuracies, 'r-', label = \"Training Accuracies - NN\")\n",
    "plt.plot(acc_nn.test_accuracies, 'g-', label = \"Testing Accuracies - NN\")\n",
    "\n",
    "# Logistic Regression plots\n",
    "plt.plot(acc_lr.accuracies, 'k-', label = \"Training Accuracies - LR\")\n",
    "plt.plot(acc_lr.test_accuracies, 'b-', label = \"Testing Accuracies - LR\")\n",
    "\n",
    "plt.ylim(0.8, 1)\n",
    "\n",
    "plt.legend()\n",
    "\n"
   ]
  },
  {
   "cell_type": "markdown",
   "metadata": {
    "papermill": {
     "duration": 0.055765,
     "end_time": "2020-08-20T10:06:36.092585",
     "exception": false,
     "start_time": "2020-08-20T10:06:36.036820",
     "status": "completed"
    },
    "tags": []
   },
   "source": [
    "### From the plot, we can observe the following:\n",
    "- Neural Network achieves higher accuracy than the Logistic Regression model.\n",
    "- This apparently, is because of overfitting, i.e. NN captures more noise than data.\n",
    "- Testing accuracy of NN drops below the Training accuracy at higher epochs. This explains the over-fitting on training data.\n",
    "- Logistic Regression gives a reliable accuracy, without the above mentioned problem.\n"
   ]
  },
  {
   "cell_type": "markdown",
   "metadata": {
    "papermill": {
     "duration": 0.049282,
     "end_time": "2020-08-20T10:06:36.193162",
     "exception": false,
     "start_time": "2020-08-20T10:06:36.143880",
     "status": "completed"
    },
    "tags": []
   },
   "source": [
    "### Moving till the last but one layer (excluding it).\n",
    "#### Plotting the outputs of this layer of the NN."
   ]
  },
  {
   "cell_type": "code",
   "execution_count": 24,
   "metadata": {
    "execution": {
     "iopub.execute_input": "2020-08-20T10:06:36.312280Z",
     "iopub.status.busy": "2020-08-20T10:06:36.301906Z",
     "iopub.status.idle": "2020-08-20T10:06:36.315501Z",
     "shell.execute_reply": "2020-08-20T10:06:36.316035Z"
    },
    "papermill": {
     "duration": 0.073215,
     "end_time": "2020-08-20T10:06:36.316185",
     "exception": false,
     "start_time": "2020-08-20T10:06:36.242970",
     "status": "completed"
    },
    "tags": []
   },
   "outputs": [],
   "source": [
    "model_new = Model(layers[:-2])"
   ]
  },
  {
   "cell_type": "code",
   "execution_count": 25,
   "metadata": {
    "execution": {
     "iopub.execute_input": "2020-08-20T10:06:36.430215Z",
     "iopub.status.busy": "2020-08-20T10:06:36.425228Z",
     "iopub.status.idle": "2020-08-20T10:06:36.452139Z",
     "shell.execute_reply": "2020-08-20T10:06:36.452721Z"
    },
    "papermill": {
     "duration": 0.080788,
     "end_time": "2020-08-20T10:06:36.452890",
     "exception": false,
     "start_time": "2020-08-20T10:06:36.372102",
     "status": "completed"
    },
    "tags": []
   },
   "outputs": [],
   "source": [
    "plot_testing = model_new(testing_xdata)"
   ]
  },
  {
   "cell_type": "code",
   "execution_count": 26,
   "metadata": {
    "execution": {
     "iopub.execute_input": "2020-08-20T10:06:36.556774Z",
     "iopub.status.busy": "2020-08-20T10:06:36.556122Z",
     "iopub.status.idle": "2020-08-20T10:06:36.776282Z",
     "shell.execute_reply": "2020-08-20T10:06:36.776819Z"
    },
    "papermill": {
     "duration": 0.274054,
     "end_time": "2020-08-20T10:06:36.776983",
     "exception": false,
     "start_time": "2020-08-20T10:06:36.502929",
     "status": "completed"
    },
    "tags": []
   },
   "outputs": [
    {
     "data": {
      "text/plain": [
       "Text(0.5, 1.0, 'Outputs')"
      ]
     },
     "execution_count": 26,
     "metadata": {},
     "output_type": "execute_result"
    },
    {
     "data": {
      "image/png": "[encoded data removed]",
      "text/plain": [
       "<Figure size 576x504 with 1 Axes>"
      ]
     },
     "metadata": {
      "needs_background": "light"
     },
     "output_type": "display_data"
    }
   ],
   "source": [
    "plt.figure(figsize=(8,7))\n",
    "plt.scatter(plot_testing[:,0], plot_testing[:,1], alpha = 0.1, c = y_test.ravel());\n",
    "plt.title('Outputs')"
   ]
  },
  {
   "cell_type": "markdown",
   "metadata": {
    "papermill": {
     "duration": 0.051391,
     "end_time": "2020-08-20T10:06:36.885831",
     "exception": false,
     "start_time": "2020-08-20T10:06:36.834440",
     "status": "completed"
    },
    "tags": []
   },
   "source": [
    "### Plotting probability contours"
   ]
  },
  {
   "cell_type": "code",
   "execution_count": 27,
   "metadata": {
    "execution": {
     "iopub.execute_input": "2020-08-20T10:06:36.999546Z",
     "iopub.status.busy": "2020-08-20T10:06:36.998892Z",
     "iopub.status.idle": "2020-08-20T10:06:37.010205Z",
     "shell.execute_reply": "2020-08-20T10:06:37.009647Z"
    },
    "papermill": {
     "duration": 0.069551,
     "end_time": "2020-08-20T10:06:37.010341",
     "exception": false,
     "start_time": "2020-08-20T10:06:36.940790",
     "status": "completed"
    },
    "tags": []
   },
   "outputs": [],
   "source": [
    "model_prob = Model(layers[-2:]) "
   ]
  },
  {
   "cell_type": "code",
   "execution_count": 28,
   "metadata": {
    "execution": {
     "iopub.execute_input": "2020-08-20T10:06:37.136186Z",
     "iopub.status.busy": "2020-08-20T10:06:37.135509Z",
     "iopub.status.idle": "2020-08-20T10:06:37.145200Z",
     "shell.execute_reply": "2020-08-20T10:06:37.145713Z"
    },
    "papermill": {
     "duration": 0.078272,
     "end_time": "2020-08-20T10:06:37.145876",
     "exception": false,
     "start_time": "2020-08-20T10:06:37.067604",
     "status": "completed"
    },
    "tags": []
   },
   "outputs": [],
   "source": [
    "# Adjust the x and y ranges according to the above generated plot.\n",
    "x_range = np.linspace(-4, 1, 100) \n",
    "y_range = np.linspace(-6, 6, 100) \n",
    "x_grid, y_grid = np.meshgrid(x_range, y_range) # x_grid and y_grig are of size 100 X 100\n",
    "\n",
    "# converting x_grid and y_grid to continuous arrays\n",
    "x_grid_flat = np.ravel(x_grid)\n",
    "y_grid_flat = np.ravel(y_grid)\n",
    "\n",
    "# The last layer of the current model takes two columns as input. Hence transpose of np.vstack() is required.\n",
    "X = np.vstack((x_grid_flat, y_grid_flat)).T\n",
    "\n",
    "# x_grid and y_grid are of size 100 x 100\n",
    "probability_contour = model_prob(X).reshape(100,100) "
   ]
  },
  {
   "cell_type": "code",
   "execution_count": 29,
   "metadata": {
    "execution": {
     "iopub.execute_input": "2020-08-20T10:06:37.285395Z",
     "iopub.status.busy": "2020-08-20T10:06:37.281904Z",
     "iopub.status.idle": "2020-08-20T10:06:37.534666Z",
     "shell.execute_reply": "2020-08-20T10:06:37.535221Z"
    },
    "papermill": {
     "duration": 0.33627,
     "end_time": "2020-08-20T10:06:37.535399",
     "exception": false,
     "start_time": "2020-08-20T10:06:37.199129",
     "status": "completed"
    },
    "tags": []
   },
   "outputs": [
    {
     "data": {
      "image/png": "[encoded data removed]",
      "text/plain": [
       "<Figure size 720x648 with 1 Axes>"
      ]
     },
     "metadata": {
      "needs_background": "light"
     },
     "output_type": "display_data"
    }
   ],
   "source": [
    "plt.figure(figsize=(10,9))\n",
    "plt.scatter(plot_testing[:,0], plot_testing[:,1], alpha = 0.1, c = y_test.ravel())\n",
    "contours = plt.contour(x_grid,y_grid,probability_contour)\n",
    "plt.title('Probability Contours')\n",
    "plt.clabel(contours, inline = True );"
   ]
  }
 ],
 "metadata": {
  "kernelspec": {
   "display_name": "Python 3",
   "language": "python",
   "name": "python3"
  },
  "language_info": {
   "codemirror_mode": {
    "name": "ipython",
    "version": 3
   },
   "file_extension": ".py",
   "mimetype": "text/x-python",
   "name": "python",
   "nbconvert_exporter": "python",
   "pygments_lexer": "ipython3",
   "version": "3.6.11"
  },
  "papermill": {
   "duration": 146.217618,
   "end_time": "2020-08-20T10:06:37.897748",
   "environment_variables": {},
   "exception": null,
   "input_path": "2020-08-11-NeuralNetwork.ipynb",
   "output_path": "2020-08-11-NeuralNetwork.ipynb",
   "parameters": {},
   "start_time": "2020-08-20T10:04:11.680130",
   "version": "2.1.2"
  }
 },
 "nbformat": 4,
 "nbformat_minor": 4
}