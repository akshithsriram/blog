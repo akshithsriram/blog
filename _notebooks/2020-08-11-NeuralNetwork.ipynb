{
 "cells": [
  {
   "cell_type": "markdown",
   "metadata": {
    "papermill": {
     "duration": 0.032388,
     "end_time": "2020-11-12T10:04:17.732177",
     "exception": false,
     "start_time": "2020-11-12T10:04:17.699789",
     "status": "completed"
    },
    "tags": []
   },
   "source": [
    "# \"A Basic Neural Network: Differentiate Hand-Written Digits\"\n",
    "\n",
    "- badges: true\n",
    "- author: Akshith Sriram"
   ]
  },
  {
   "cell_type": "markdown",
   "metadata": {
    "papermill": {
     "duration": 0.024682,
     "end_time": "2020-11-12T10:04:17.781780",
     "exception": false,
     "start_time": "2020-11-12T10:04:17.757098",
     "status": "completed"
    },
    "tags": []
   },
   "source": [
    "### Key Objectives:\n",
    "- Building a neural network that differentiates two hand-written digits 3 and 8.\n",
    "- Comparing the results of this Neural Network (NN) to that of a Logistic Regression (LR) model.\n",
    "\n",
    "### Requirements:\n",
    "- 'Kudzu' : A neural network library that was designed during our course by [Univ.AI](www.univ.ai). \n",
    "- MNIST Database\n",
    "\n",
    "If MNIST is not installed, use the command `!pip install mnist` given below.\n",
    "It can be run both from the command line and Jupyter Notebook."
   ]
  },
  {
   "cell_type": "code",
   "execution_count": 1,
   "metadata": {
    "execution": {
     "iopub.execute_input": "2020-11-12T10:04:17.840203Z",
     "iopub.status.busy": "2020-11-12T10:04:17.839549Z",
     "iopub.status.idle": "2020-11-12T10:04:19.923670Z",
     "shell.execute_reply": "2020-11-12T10:04:19.922549Z"
    },
    "papermill": {
     "duration": 2.115549,
     "end_time": "2020-11-12T10:04:19.923871",
     "exception": false,
     "start_time": "2020-11-12T10:04:17.808322",
     "status": "completed"
    },
    "tags": []
   },
   "outputs": [
    {
     "name": "stdout",
     "output_type": "stream",
     "text": [
      "Collecting mnist\r\n"
     ]
    },
    {
     "name": "stdout",
     "output_type": "stream",
     "text": [
      "  Downloading mnist-0.2.2-py2.py3-none-any.whl (3.5 kB)\r\n"
     ]
    },
    {
     "name": "stdout",
     "output_type": "stream",
     "text": [
      "Requirement already satisfied: numpy in /opt/hostedtoolcache/Python/3.6.12/x64/lib/python3.6/site-packages (from mnist) (1.19.4)\r\n"
     ]
    },
    {
     "name": "stdout",
     "output_type": "stream",
     "text": [
      "Installing collected packages: mnist\r\n"
     ]
    },
    {
     "name": "stdout",
     "output_type": "stream",
     "text": [
      "Successfully installed mnist-0.2.2\r\n"
     ]
    }
   ],
   "source": [
    "!pip install mnist "
   ]
  },
  {
   "cell_type": "markdown",
   "metadata": {
    "papermill": {
     "duration": 0.026135,
     "end_time": "2020-11-12T10:04:19.977399",
     "exception": false,
     "start_time": "2020-11-12T10:04:19.951264",
     "status": "completed"
    },
    "tags": []
   },
   "source": [
    "#### Importing necessary libraries"
   ]
  },
  {
   "cell_type": "code",
   "execution_count": 2,
   "metadata": {
    "execution": {
     "iopub.execute_input": "2020-11-12T10:04:20.039178Z",
     "iopub.status.busy": "2020-11-12T10:04:20.038613Z",
     "iopub.status.idle": "2020-11-12T10:04:20.606016Z",
     "shell.execute_reply": "2020-11-12T10:04:20.605373Z"
    },
    "papermill": {
     "duration": 0.601355,
     "end_time": "2020-11-12T10:04:20.606190",
     "exception": false,
     "start_time": "2020-11-12T10:04:20.004835",
     "status": "completed"
    },
    "tags": []
   },
   "outputs": [],
   "source": [
    "%load_ext autoreload\n",
    "%autoreload 2\n",
    "\n",
    "%matplotlib inline\n",
    "import matplotlib.pyplot as plt\n",
    "\n",
    "import numpy as np\n",
    "import pandas as pd"
   ]
  },
  {
   "cell_type": "markdown",
   "metadata": {
    "papermill": {
     "duration": 0.028177,
     "end_time": "2020-11-12T10:04:20.662313",
     "exception": false,
     "start_time": "2020-11-12T10:04:20.634136",
     "status": "completed"
    },
    "tags": []
   },
   "source": [
    "### Preparing the Data"
   ]
  },
  {
   "cell_type": "code",
   "execution_count": 3,
   "metadata": {
    "execution": {
     "iopub.execute_input": "2020-11-12T10:04:20.721031Z",
     "iopub.status.busy": "2020-11-12T10:04:20.720430Z",
     "iopub.status.idle": "2020-11-12T10:04:20.732409Z",
     "shell.execute_reply": "2020-11-12T10:04:20.732928Z"
    },
    "papermill": {
     "duration": 0.044719,
     "end_time": "2020-11-12T10:04:20.733065",
     "exception": false,
     "start_time": "2020-11-12T10:04:20.688346",
     "status": "completed"
    },
    "tags": []
   },
   "outputs": [],
   "source": [
    "import mnist"
   ]
  },
  {
   "cell_type": "code",
   "execution_count": 4,
   "metadata": {
    "execution": {
     "iopub.execute_input": "2020-11-12T10:04:20.787752Z",
     "iopub.status.busy": "2020-11-12T10:04:20.787194Z",
     "iopub.status.idle": "2020-11-12T10:04:21.567727Z",
     "shell.execute_reply": "2020-11-12T10:04:21.568218Z"
    },
    "papermill": {
     "duration": 0.810245,
     "end_time": "2020-11-12T10:04:21.568379",
     "exception": false,
     "start_time": "2020-11-12T10:04:20.758134",
     "status": "completed"
    },
    "tags": []
   },
   "outputs": [],
   "source": [
    "train_images = mnist.train_images()\n",
    "train_labels = mnist.train_labels()"
   ]
  },
  {
   "cell_type": "code",
   "execution_count": 5,
   "metadata": {
    "execution": {
     "iopub.execute_input": "2020-11-12T10:04:21.628239Z",
     "iopub.status.busy": "2020-11-12T10:04:21.627621Z",
     "iopub.status.idle": "2020-11-12T10:04:21.640661Z",
     "shell.execute_reply": "2020-11-12T10:04:21.640167Z"
    },
    "papermill": {
     "duration": 0.046801,
     "end_time": "2020-11-12T10:04:21.640797",
     "exception": false,
     "start_time": "2020-11-12T10:04:21.593996",
     "status": "completed"
    },
    "tags": []
   },
   "outputs": [
    {
     "data": {
      "text/plain": [
       "((60000, 28, 28), (60000,))"
      ]
     },
     "execution_count": 5,
     "metadata": {},
     "output_type": "execute_result"
    }
   ],
   "source": [
    "train_images.shape, train_labels.shape"
   ]
  },
  {
   "cell_type": "code",
   "execution_count": 6,
   "metadata": {
    "execution": {
     "iopub.execute_input": "2020-11-12T10:04:21.700547Z",
     "iopub.status.busy": "2020-11-12T10:04:21.699863Z",
     "iopub.status.idle": "2020-11-12T10:04:21.963721Z",
     "shell.execute_reply": "2020-11-12T10:04:21.963159Z"
    },
    "papermill": {
     "duration": 0.294315,
     "end_time": "2020-11-12T10:04:21.963861",
     "exception": false,
     "start_time": "2020-11-12T10:04:21.669546",
     "status": "completed"
    },
    "tags": []
   },
   "outputs": [],
   "source": [
    "test_images = mnist.test_images()\n",
    "test_labels = mnist.test_labels()"
   ]
  },
  {
   "cell_type": "code",
   "execution_count": 7,
   "metadata": {
    "execution": {
     "iopub.execute_input": "2020-11-12T10:04:22.022955Z",
     "iopub.status.busy": "2020-11-12T10:04:22.022384Z",
     "iopub.status.idle": "2020-11-12T10:04:22.035999Z",
     "shell.execute_reply": "2020-11-12T10:04:22.036670Z"
    },
    "papermill": {
     "duration": 0.045432,
     "end_time": "2020-11-12T10:04:22.036848",
     "exception": false,
     "start_time": "2020-11-12T10:04:21.991416",
     "status": "completed"
    },
    "tags": []
   },
   "outputs": [
    {
     "data": {
      "text/plain": [
       "((10000, 28, 28), (10000,))"
      ]
     },
     "execution_count": 7,
     "metadata": {},
     "output_type": "execute_result"
    }
   ],
   "source": [
    "test_images.shape, test_labels.shape"
   ]
  },
  {
   "cell_type": "code",
   "execution_count": 8,
   "metadata": {
    "execution": {
     "iopub.execute_input": "2020-11-12T10:04:22.101078Z",
     "iopub.status.busy": "2020-11-12T10:04:22.100468Z",
     "iopub.status.idle": "2020-11-12T10:04:22.261766Z",
     "shell.execute_reply": "2020-11-12T10:04:22.261257Z"
    },
    "papermill": {
     "duration": 0.193754,
     "end_time": "2020-11-12T10:04:22.261911",
     "exception": false,
     "start_time": "2020-11-12T10:04:22.068157",
     "status": "completed"
    },
    "tags": []
   },
   "outputs": [
    {
     "name": "stdout",
     "output_type": "stream",
     "text": [
      "2\n"
     ]
    },
    {
     "data": {
      "text/plain": [
       "<matplotlib.image.AxesImage at 0x7fcdfb9c3390>"
      ]
     },
     "execution_count": 8,
     "metadata": {},
     "output_type": "execute_result"
    },
    {
     "data": {
      "image/png": "[encoded data removed]",
      "text/plain": [
       "<Figure size 432x288 with 1 Axes>"
      ]
     },
     "metadata": {
      "needs_background": "light"
     },
     "output_type": "display_data"
    }
   ],
   "source": [
    "image_index = 7776 # You may select anything up to 60,000\n",
    "print(train_labels[image_index]) \n",
    "plt.imshow(train_images[image_index], cmap='Greys')"
   ]
  },
  {
   "cell_type": "markdown",
   "metadata": {
    "papermill": {
     "duration": 0.026845,
     "end_time": "2020-11-12T10:04:22.316980",
     "exception": false,
     "start_time": "2020-11-12T10:04:22.290135",
     "status": "completed"
    },
    "tags": []
   },
   "source": [
    "## Filter data to get 3 and 8 out"
   ]
  },
  {
   "cell_type": "code",
   "execution_count": 9,
   "metadata": {
    "execution": {
     "iopub.execute_input": "2020-11-12T10:04:22.380857Z",
     "iopub.status.busy": "2020-11-12T10:04:22.373826Z",
     "iopub.status.idle": "2020-11-12T10:04:22.391467Z",
     "shell.execute_reply": "2020-11-12T10:04:22.390677Z"
    },
    "papermill": {
     "duration": 0.04851,
     "end_time": "2020-11-12T10:04:22.391624",
     "exception": false,
     "start_time": "2020-11-12T10:04:22.343114",
     "status": "completed"
    },
    "tags": []
   },
   "outputs": [],
   "source": [
    "train_filter = np.where((train_labels == 3 ) | (train_labels == 8))\n",
    "test_filter = np.where((test_labels == 3) | (test_labels == 8))\n",
    "X_train, y_train = train_images[train_filter], train_labels[train_filter]\n",
    "X_test, y_test = test_images[test_filter], test_labels[test_filter]"
   ]
  },
  {
   "cell_type": "markdown",
   "metadata": {
    "papermill": {
     "duration": 0.028236,
     "end_time": "2020-11-12T10:04:22.449147",
     "exception": false,
     "start_time": "2020-11-12T10:04:22.420911",
     "status": "completed"
    },
    "tags": []
   },
   "source": [
    "We normalize the pixel values in the 0 to 1 range"
   ]
  },
  {
   "cell_type": "code",
   "execution_count": 10,
   "metadata": {
    "execution": {
     "iopub.execute_input": "2020-11-12T10:04:22.512083Z",
     "iopub.status.busy": "2020-11-12T10:04:22.511446Z",
     "iopub.status.idle": "2020-11-12T10:04:22.563713Z",
     "shell.execute_reply": "2020-11-12T10:04:22.563063Z"
    },
    "papermill": {
     "duration": 0.085209,
     "end_time": "2020-11-12T10:04:22.563887",
     "exception": false,
     "start_time": "2020-11-12T10:04:22.478678",
     "status": "completed"
    },
    "tags": []
   },
   "outputs": [],
   "source": [
    "X_train = X_train/255.\n",
    "X_test = X_test/255."
   ]
  },
  {
   "cell_type": "markdown",
   "metadata": {
    "papermill": {
     "duration": 0.027723,
     "end_time": "2020-11-12T10:04:22.621026",
     "exception": false,
     "start_time": "2020-11-12T10:04:22.593303",
     "status": "completed"
    },
    "tags": []
   },
   "source": [
    "Setup the labels as 1 (when the digit is 3) and 0 (when the digit is 8)"
   ]
  },
  {
   "cell_type": "code",
   "execution_count": 11,
   "metadata": {
    "execution": {
     "iopub.execute_input": "2020-11-12T10:04:22.681112Z",
     "iopub.status.busy": "2020-11-12T10:04:22.680614Z",
     "iopub.status.idle": "2020-11-12T10:04:22.694666Z",
     "shell.execute_reply": "2020-11-12T10:04:22.694026Z"
    },
    "papermill": {
     "duration": 0.04654,
     "end_time": "2020-11-12T10:04:22.694816",
     "exception": false,
     "start_time": "2020-11-12T10:04:22.648276",
     "status": "completed"
    },
    "tags": []
   },
   "outputs": [],
   "source": [
    "y_train = 1*(y_train==3)\n",
    "y_test = 1*(y_test==3)"
   ]
  },
  {
   "cell_type": "code",
   "execution_count": 12,
   "metadata": {
    "execution": {
     "iopub.execute_input": "2020-11-12T10:04:22.757308Z",
     "iopub.status.busy": "2020-11-12T10:04:22.756712Z",
     "iopub.status.idle": "2020-11-12T10:04:22.770845Z",
     "shell.execute_reply": "2020-11-12T10:04:22.770346Z"
    },
    "papermill": {
     "duration": 0.048281,
     "end_time": "2020-11-12T10:04:22.771014",
     "exception": false,
     "start_time": "2020-11-12T10:04:22.722733",
     "status": "completed"
    },
    "tags": []
   },
   "outputs": [
    {
     "data": {
      "text/plain": [
       "((11982, 28, 28), (1984, 28, 28))"
      ]
     },
     "execution_count": 12,
     "metadata": {},
     "output_type": "execute_result"
    }
   ],
   "source": [
    "X_train.shape, X_test.shape"
   ]
  },
  {
   "cell_type": "markdown",
   "metadata": {
    "papermill": {
     "duration": 0.028727,
     "end_time": "2020-11-12T10:04:22.827523",
     "exception": false,
     "start_time": "2020-11-12T10:04:22.798796",
     "status": "completed"
    },
    "tags": []
   },
   "source": [
    "### Reshape the input data to create a linear array"
   ]
  },
  {
   "cell_type": "code",
   "execution_count": 13,
   "metadata": {
    "execution": {
     "iopub.execute_input": "2020-11-12T10:04:22.892155Z",
     "iopub.status.busy": "2020-11-12T10:04:22.891562Z",
     "iopub.status.idle": "2020-11-12T10:04:22.903185Z",
     "shell.execute_reply": "2020-11-12T10:04:22.903752Z"
    },
    "papermill": {
     "duration": 0.048186,
     "end_time": "2020-11-12T10:04:22.903890",
     "exception": false,
     "start_time": "2020-11-12T10:04:22.855704",
     "status": "completed"
    },
    "tags": []
   },
   "outputs": [
    {
     "data": {
      "text/plain": [
       "((11982, 784), (1984, 784))"
      ]
     },
     "execution_count": 13,
     "metadata": {},
     "output_type": "execute_result"
    }
   ],
   "source": [
    "X_train = X_train.reshape(X_train.shape[0], -1)\n",
    "X_test = X_test.reshape(X_test.shape[0], -1)\n",
    "X_train.shape, X_test.shape"
   ]
  },
  {
   "cell_type": "markdown",
   "metadata": {
    "papermill": {
     "duration": 0.02792,
     "end_time": "2020-11-12T10:04:22.958818",
     "exception": false,
     "start_time": "2020-11-12T10:04:22.930898",
     "status": "completed"
    },
    "tags": []
   },
   "source": [
    "### Importing appropriate functions from 'Kudzu'"
   ]
  },
  {
   "cell_type": "code",
   "execution_count": 14,
   "metadata": {
    "execution": {
     "iopub.execute_input": "2020-11-12T10:04:23.035923Z",
     "iopub.status.busy": "2020-11-12T10:04:23.027807Z",
     "iopub.status.idle": "2020-11-12T10:04:23.042960Z",
     "shell.execute_reply": "2020-11-12T10:04:23.043471Z"
    },
    "papermill": {
     "duration": 0.057259,
     "end_time": "2020-11-12T10:04:23.043617",
     "exception": false,
     "start_time": "2020-11-12T10:04:22.986358",
     "status": "completed"
    },
    "tags": []
   },
   "outputs": [],
   "source": [
    "from kudzu.layer import Sigmoid\n",
    "from kudzu.layer import Relu\n",
    "from kudzu.layer import Affine, Sigmoid\n",
    "\n",
    "from kudzu.model import Model\n",
    "from kudzu.train import Learner\n",
    "from kudzu.optim import GD\n",
    "from kudzu.data import Data, Dataloader, Sampler\n",
    "\n",
    "from kudzu.callbacks import AccCallback\n",
    "from kudzu.callbacks import ClfCallback\n",
    "\n",
    "from kudzu.loss import MSE"
   ]
  },
  {
   "cell_type": "markdown",
   "metadata": {
    "papermill": {
     "duration": 0.028706,
     "end_time": "2020-11-12T10:04:23.102163",
     "exception": false,
     "start_time": "2020-11-12T10:04:23.073457",
     "status": "completed"
    },
    "tags": []
   },
   "source": [
    "### Let us create a `Config` class, to store important parameters. \n",
    "This class essentially plays the role of a dictionary."
   ]
  },
  {
   "cell_type": "code",
   "execution_count": 15,
   "metadata": {
    "execution": {
     "iopub.execute_input": "2020-11-12T10:04:23.169636Z",
     "iopub.status.busy": "2020-11-12T10:04:23.168857Z",
     "iopub.status.idle": "2020-11-12T10:04:23.182017Z",
     "shell.execute_reply": "2020-11-12T10:04:23.181552Z"
    },
    "papermill": {
     "duration": 0.05104,
     "end_time": "2020-11-12T10:04:23.182170",
     "exception": false,
     "start_time": "2020-11-12T10:04:23.131130",
     "status": "completed"
    },
    "tags": []
   },
   "outputs": [],
   "source": [
    "class Config:\n",
    "    pass\n",
    "config = Config()\n",
    "config.lr = 0.001\n",
    "config.num_epochs = 251\n",
    "config.bs = 50"
   ]
  },
  {
   "cell_type": "markdown",
   "metadata": {
    "papermill": {
     "duration": 0.029136,
     "end_time": "2020-11-12T10:04:23.241476",
     "exception": false,
     "start_time": "2020-11-12T10:04:23.212340",
     "status": "completed"
    },
    "tags": []
   },
   "source": [
    "### Initializing data to the variables"
   ]
  },
  {
   "cell_type": "code",
   "execution_count": 16,
   "metadata": {
    "execution": {
     "iopub.execute_input": "2020-11-12T10:04:23.308419Z",
     "iopub.status.busy": "2020-11-12T10:04:23.307398Z",
     "iopub.status.idle": "2020-11-12T10:04:23.321595Z",
     "shell.execute_reply": "2020-11-12T10:04:23.322063Z"
    },
    "papermill": {
     "duration": 0.049771,
     "end_time": "2020-11-12T10:04:23.322228",
     "exception": false,
     "start_time": "2020-11-12T10:04:23.272457",
     "status": "completed"
    },
    "tags": []
   },
   "outputs": [],
   "source": [
    "data = Data(X_train, y_train.reshape(-1,1))\n",
    "sampler = Sampler(data, config.bs, shuffle=True)\n",
    "\n",
    "dl = Dataloader(data, sampler)\n",
    "\n",
    "opt = GD(config.lr)\n",
    "loss = MSE()"
   ]
  },
  {
   "cell_type": "code",
   "execution_count": 17,
   "metadata": {
    "execution": {
     "iopub.execute_input": "2020-11-12T10:04:23.389113Z",
     "iopub.status.busy": "2020-11-12T10:04:23.388477Z",
     "iopub.status.idle": "2020-11-12T10:04:23.401732Z",
     "shell.execute_reply": "2020-11-12T10:04:23.402603Z"
    },
    "papermill": {
     "duration": 0.05058,
     "end_time": "2020-11-12T10:04:23.402778",
     "exception": false,
     "start_time": "2020-11-12T10:04:23.352198",
     "status": "completed"
    },
    "tags": []
   },
   "outputs": [],
   "source": [
    "training_xdata = X_train\n",
    "testing_xdata = X_test\n",
    "training_ydata = y_train.reshape(-1,1)\n",
    "testing_ydata = y_test.reshape(-1,1)"
   ]
  },
  {
   "cell_type": "markdown",
   "metadata": {
    "papermill": {
     "duration": 0.029667,
     "end_time": "2020-11-12T10:04:23.462855",
     "exception": false,
     "start_time": "2020-11-12T10:04:23.433188",
     "status": "completed"
    },
    "tags": []
   },
   "source": [
    "### Running Models with the Training data\n",
    "Details about the network layers:\n",
    "- A first affine layer has 784 inputs and does 100 affine transforms. These are followed by a Relu\n",
    "- A second affine layer has 100 inputs from the 100 activations of the past layer, and does 100 affine transforms. These are followed by a Relu\n",
    "- A third affine layer has 100 activations and does 2 affine transformations to create an embedding for visualization. There is no non-linearity here.\n",
    "- A final \"logistic regression\" which has an affine transform from 2 inputs to 1 output, which is squeezed through a sigmoid.\n",
    "\n",
    "Help taken from Anshuman's Notebook."
   ]
  },
  {
   "cell_type": "code",
   "execution_count": 18,
   "metadata": {
    "execution": {
     "iopub.execute_input": "2020-11-12T10:04:23.528485Z",
     "iopub.status.busy": "2020-11-12T10:04:23.527853Z",
     "iopub.status.idle": "2020-11-12T10:04:23.547157Z",
     "shell.execute_reply": "2020-11-12T10:04:23.546592Z"
    },
    "papermill": {
     "duration": 0.05459,
     "end_time": "2020-11-12T10:04:23.547299",
     "exception": false,
     "start_time": "2020-11-12T10:04:23.492709",
     "status": "completed"
    },
    "tags": []
   },
   "outputs": [],
   "source": [
    "# layers for the Neural Network\n",
    "layers = [Affine(\"first\", 784, 100), Relu(\"first\"), Affine(\"second\", 100, 100), Relu(\"second\"), Affine(\"third\", 100, 2), Affine(\"final\", 2, 1), Sigmoid(\"final\")]\n",
    "model_nn = Model(layers)\n",
    "\n",
    "# layers for the Logistic Regression\n",
    "layers_lr = [Affine(\"logits\", 784, 1), Sigmoid(\"sigmoid\")]\n",
    "model_lr = Model(layers_lr)"
   ]
  },
  {
   "cell_type": "code",
   "execution_count": 19,
   "metadata": {
    "execution": {
     "iopub.execute_input": "2020-11-12T10:04:23.612498Z",
     "iopub.status.busy": "2020-11-12T10:04:23.611870Z",
     "iopub.status.idle": "2020-11-12T10:04:23.625450Z",
     "shell.execute_reply": "2020-11-12T10:04:23.625968Z"
    },
    "papermill": {
     "duration": 0.049036,
     "end_time": "2020-11-12T10:04:23.626116",
     "exception": false,
     "start_time": "2020-11-12T10:04:23.577080",
     "status": "completed"
    },
    "tags": []
   },
   "outputs": [],
   "source": [
    "# suffix _nn stands for Neural Network.\n",
    "learner_nn = Learner(loss, model_nn, opt, config.num_epochs)\n",
    "acc_nn = ClfCallback(learner_nn, config.bs, training_xdata , testing_xdata, training_ydata, testing_ydata)\n",
    "learner_nn.set_callbacks([acc_nn])"
   ]
  },
  {
   "cell_type": "code",
   "execution_count": 20,
   "metadata": {
    "execution": {
     "iopub.execute_input": "2020-11-12T10:04:23.691397Z",
     "iopub.status.busy": "2020-11-12T10:04:23.690418Z",
     "iopub.status.idle": "2020-11-12T10:05:50.360367Z",
     "shell.execute_reply": "2020-11-12T10:05:50.360923Z"
    },
    "papermill": {
     "duration": 86.704689,
     "end_time": "2020-11-12T10:05:50.361077",
     "exception": false,
     "start_time": "2020-11-12T10:04:23.656388",
     "status": "completed"
    },
    "tags": []
   },
   "outputs": [
    {
     "name": "stdout",
     "output_type": "stream",
     "text": [
      "====== Neural Network ======\n"
     ]
    },
    {
     "name": "stdout",
     "output_type": "stream",
     "text": [
      "Epoch 0, Loss 0.2555\n",
      "Training Accuracy: 0.5083, Testing Accuracy: 0.5015\n",
      "\n"
     ]
    },
    {
     "name": "stdout",
     "output_type": "stream",
     "text": [
      "Epoch 10, Loss 0.1704\n",
      "Training Accuracy: 0.8903, Testing Accuracy: 0.8997\n",
      "\n"
     ]
    },
    {
     "name": "stdout",
     "output_type": "stream",
     "text": [
      "Epoch 20, Loss 0.0783\n",
      "Training Accuracy: 0.9260, Testing Accuracy: 0.9355\n",
      "\n"
     ]
    },
    {
     "name": "stdout",
     "output_type": "stream",
     "text": [
      "Epoch 30, Loss 0.0533\n",
      "Training Accuracy: 0.9432, Testing Accuracy: 0.9496\n",
      "\n"
     ]
    },
    {
     "name": "stdout",
     "output_type": "stream",
     "text": [
      "Epoch 40, Loss 0.0437\n",
      "Training Accuracy: 0.9506, Testing Accuracy: 0.9582\n",
      "\n"
     ]
    },
    {
     "name": "stdout",
     "output_type": "stream",
     "text": [
      "Epoch 50, Loss 0.0386\n",
      "Training Accuracy: 0.9559, Testing Accuracy: 0.9617\n",
      "\n"
     ]
    },
    {
     "name": "stdout",
     "output_type": "stream",
     "text": [
      "Epoch 60, Loss 0.0352\n",
      "Training Accuracy: 0.9592, Testing Accuracy: 0.9657\n",
      "\n"
     ]
    },
    {
     "name": "stdout",
     "output_type": "stream",
     "text": [
      "Epoch 70, Loss 0.0329\n",
      "Training Accuracy: 0.9612, Testing Accuracy: 0.9677\n",
      "\n"
     ]
    },
    {
     "name": "stdout",
     "output_type": "stream",
     "text": [
      "Epoch 80, Loss 0.0311\n",
      "Training Accuracy: 0.9632, Testing Accuracy: 0.9693\n",
      "\n"
     ]
    },
    {
     "name": "stdout",
     "output_type": "stream",
     "text": [
      "Epoch 90, Loss 0.0296\n",
      "Training Accuracy: 0.9649, Testing Accuracy: 0.9698\n",
      "\n"
     ]
    },
    {
     "name": "stdout",
     "output_type": "stream",
     "text": [
      "Epoch 100, Loss 0.0284\n",
      "Training Accuracy: 0.9659, Testing Accuracy: 0.9693\n",
      "\n"
     ]
    },
    {
     "name": "stdout",
     "output_type": "stream",
     "text": [
      "Epoch 110, Loss 0.0274\n",
      "Training Accuracy: 0.9674, Testing Accuracy: 0.9688\n",
      "\n"
     ]
    },
    {
     "name": "stdout",
     "output_type": "stream",
     "text": [
      "Epoch 120, Loss 0.0265\n",
      "Training Accuracy: 0.9691, Testing Accuracy: 0.9708\n",
      "\n"
     ]
    },
    {
     "name": "stdout",
     "output_type": "stream",
     "text": [
      "Epoch 130, Loss 0.0257\n",
      "Training Accuracy: 0.9700, Testing Accuracy: 0.9708\n",
      "\n"
     ]
    },
    {
     "name": "stdout",
     "output_type": "stream",
     "text": [
      "Epoch 140, Loss 0.025\n",
      "Training Accuracy: 0.9711, Testing Accuracy: 0.9708\n",
      "\n"
     ]
    },
    {
     "name": "stdout",
     "output_type": "stream",
     "text": [
      "Epoch 150, Loss 0.0244\n",
      "Training Accuracy: 0.9717, Testing Accuracy: 0.9703\n",
      "\n"
     ]
    },
    {
     "name": "stdout",
     "output_type": "stream",
     "text": [
      "Epoch 160, Loss 0.0238\n",
      "Training Accuracy: 0.9725, Testing Accuracy: 0.9703\n",
      "\n"
     ]
    },
    {
     "name": "stdout",
     "output_type": "stream",
     "text": [
      "Epoch 170, Loss 0.0232\n",
      "Training Accuracy: 0.9735, Testing Accuracy: 0.9703\n",
      "\n"
     ]
    },
    {
     "name": "stdout",
     "output_type": "stream",
     "text": [
      "Epoch 180, Loss 0.0227\n",
      "Training Accuracy: 0.9742, Testing Accuracy: 0.9703\n",
      "\n"
     ]
    },
    {
     "name": "stdout",
     "output_type": "stream",
     "text": [
      "Epoch 190, Loss 0.0222\n",
      "Training Accuracy: 0.9746, Testing Accuracy: 0.9703\n",
      "\n"
     ]
    },
    {
     "name": "stdout",
     "output_type": "stream",
     "text": [
      "Epoch 200, Loss 0.0217\n",
      "Training Accuracy: 0.9752, Testing Accuracy: 0.9708\n",
      "\n"
     ]
    },
    {
     "name": "stdout",
     "output_type": "stream",
     "text": [
      "Epoch 210, Loss 0.0213\n",
      "Training Accuracy: 0.9757, Testing Accuracy: 0.9713\n",
      "\n"
     ]
    },
    {
     "name": "stdout",
     "output_type": "stream",
     "text": [
      "Epoch 220, Loss 0.0209\n",
      "Training Accuracy: 0.9761, Testing Accuracy: 0.9713\n",
      "\n"
     ]
    },
    {
     "name": "stdout",
     "output_type": "stream",
     "text": [
      "Epoch 230, Loss 0.0205\n",
      "Training Accuracy: 0.9765, Testing Accuracy: 0.9713\n",
      "\n"
     ]
    },
    {
     "name": "stdout",
     "output_type": "stream",
     "text": [
      "Epoch 240, Loss 0.0201\n",
      "Training Accuracy: 0.9771, Testing Accuracy: 0.9723\n",
      "\n"
     ]
    },
    {
     "name": "stdout",
     "output_type": "stream",
     "text": [
      "Epoch 250, Loss 0.0197\n",
      "Training Accuracy: 0.9776, Testing Accuracy: 0.9723\n",
      "\n"
     ]
    },
    {
     "data": {
      "text/plain": [
       "0.02716136779703232"
      ]
     },
     "execution_count": 20,
     "metadata": {},
     "output_type": "execute_result"
    }
   ],
   "source": [
    "print(\"====== Neural Network ======\")\n",
    "learner_nn.train_loop(dl)"
   ]
  },
  {
   "cell_type": "markdown",
   "metadata": {
    "papermill": {
     "duration": 0.035345,
     "end_time": "2020-11-12T10:05:50.434809",
     "exception": false,
     "start_time": "2020-11-12T10:05:50.399464",
     "status": "completed"
    },
    "tags": []
   },
   "source": [
    "### Logistic Regression based Implementation."
   ]
  },
  {
   "cell_type": "code",
   "execution_count": 21,
   "metadata": {
    "execution": {
     "iopub.execute_input": "2020-11-12T10:05:50.515771Z",
     "iopub.status.busy": "2020-11-12T10:05:50.510630Z",
     "iopub.status.idle": "2020-11-12T10:05:50.525169Z",
     "shell.execute_reply": "2020-11-12T10:05:50.525615Z"
    },
    "papermill": {
     "duration": 0.055736,
     "end_time": "2020-11-12T10:05:50.525752",
     "exception": false,
     "start_time": "2020-11-12T10:05:50.470016",
     "status": "completed"
    },
    "tags": []
   },
   "outputs": [],
   "source": [
    "learner_lr = Learner(loss, model_lr, opt, config.num_epochs)\n",
    "acc_lr = ClfCallback(learner_lr, config.bs, training_xdata , testing_xdata, training_ydata, testing_ydata)\n",
    "learner_lr.set_callbacks([acc_lr])"
   ]
  },
  {
   "cell_type": "code",
   "execution_count": 22,
   "metadata": {
    "execution": {
     "iopub.execute_input": "2020-11-12T10:05:50.600925Z",
     "iopub.status.busy": "2020-11-12T10:05:50.599917Z",
     "iopub.status.idle": "2020-11-12T10:06:05.481397Z",
     "shell.execute_reply": "2020-11-12T10:06:05.482218Z"
    },
    "papermill": {
     "duration": 14.92052,
     "end_time": "2020-11-12T10:06:05.482378",
     "exception": false,
     "start_time": "2020-11-12T10:05:50.561858",
     "status": "completed"
    },
    "tags": []
   },
   "outputs": [
    {
     "name": "stdout",
     "output_type": "stream",
     "text": [
      "====== Logistic Regression ======\n",
      "Epoch 0, Loss 0.2458\n",
      "Training Accuracy: 0.6459, Testing Accuracy: 0.6346\n",
      "\n"
     ]
    },
    {
     "name": "stdout",
     "output_type": "stream",
     "text": [
      "Epoch 10, Loss 0.1071\n",
      "Training Accuracy: 0.8955, Testing Accuracy: 0.9022\n",
      "\n"
     ]
    },
    {
     "name": "stdout",
     "output_type": "stream",
     "text": [
      "Epoch 20, Loss 0.0812\n",
      "Training Accuracy: 0.9222, Testing Accuracy: 0.9350\n",
      "\n"
     ]
    },
    {
     "name": "stdout",
     "output_type": "stream",
     "text": [
      "Epoch 30, Loss 0.0692\n",
      "Training Accuracy: 0.9342, Testing Accuracy: 0.9476\n",
      "\n"
     ]
    },
    {
     "name": "stdout",
     "output_type": "stream",
     "text": [
      "Epoch 40, Loss 0.0621\n",
      "Training Accuracy: 0.9407, Testing Accuracy: 0.9567\n",
      "\n"
     ]
    },
    {
     "name": "stdout",
     "output_type": "stream",
     "text": [
      "Epoch 50, Loss 0.0573\n",
      "Training Accuracy: 0.9458, Testing Accuracy: 0.9592\n",
      "\n"
     ]
    },
    {
     "name": "stdout",
     "output_type": "stream",
     "text": [
      "Epoch 60, Loss 0.0538\n",
      "Training Accuracy: 0.9488, Testing Accuracy: 0.9607\n",
      "\n"
     ]
    },
    {
     "name": "stdout",
     "output_type": "stream",
     "text": [
      "Epoch 70, Loss 0.0512\n",
      "Training Accuracy: 0.9504, Testing Accuracy: 0.9607\n",
      "\n"
     ]
    },
    {
     "name": "stdout",
     "output_type": "stream",
     "text": [
      "Epoch 80, Loss 0.0491\n",
      "Training Accuracy: 0.9514, Testing Accuracy: 0.9622\n",
      "\n"
     ]
    },
    {
     "name": "stdout",
     "output_type": "stream",
     "text": [
      "Epoch 90, Loss 0.0473\n",
      "Training Accuracy: 0.9525, Testing Accuracy: 0.9622\n",
      "\n"
     ]
    },
    {
     "name": "stdout",
     "output_type": "stream",
     "text": [
      "Epoch 100, Loss 0.0459\n",
      "Training Accuracy: 0.9542, Testing Accuracy: 0.9627\n",
      "\n"
     ]
    },
    {
     "name": "stdout",
     "output_type": "stream",
     "text": [
      "Epoch 110, Loss 0.0447\n",
      "Training Accuracy: 0.9551, Testing Accuracy: 0.9642\n",
      "\n"
     ]
    },
    {
     "name": "stdout",
     "output_type": "stream",
     "text": [
      "Epoch 120, Loss 0.0436\n",
      "Training Accuracy: 0.9556, Testing Accuracy: 0.9657\n",
      "\n"
     ]
    },
    {
     "name": "stdout",
     "output_type": "stream",
     "text": [
      "Epoch 130, Loss 0.0427\n",
      "Training Accuracy: 0.9564, Testing Accuracy: 0.9657\n",
      "\n"
     ]
    },
    {
     "name": "stdout",
     "output_type": "stream",
     "text": [
      "Epoch 140, Loss 0.0418\n",
      "Training Accuracy: 0.9570, Testing Accuracy: 0.9667\n",
      "\n"
     ]
    },
    {
     "name": "stdout",
     "output_type": "stream",
     "text": [
      "Epoch 150, Loss 0.0411\n",
      "Training Accuracy: 0.9574, Testing Accuracy: 0.9667\n",
      "\n"
     ]
    },
    {
     "name": "stdout",
     "output_type": "stream",
     "text": [
      "Epoch 160, Loss 0.0404\n",
      "Training Accuracy: 0.9579, Testing Accuracy: 0.9672\n",
      "\n"
     ]
    },
    {
     "name": "stdout",
     "output_type": "stream",
     "text": [
      "Epoch 170, Loss 0.0398\n",
      "Training Accuracy: 0.9584, Testing Accuracy: 0.9677\n",
      "\n"
     ]
    },
    {
     "name": "stdout",
     "output_type": "stream",
     "text": [
      "Epoch 180, Loss 0.0393\n",
      "Training Accuracy: 0.9593, Testing Accuracy: 0.9672\n",
      "\n"
     ]
    },
    {
     "name": "stdout",
     "output_type": "stream",
     "text": [
      "Epoch 190, Loss 0.0387\n",
      "Training Accuracy: 0.9594, Testing Accuracy: 0.9682\n",
      "\n"
     ]
    },
    {
     "name": "stdout",
     "output_type": "stream",
     "text": [
      "Epoch 200, Loss 0.0383\n",
      "Training Accuracy: 0.9601, Testing Accuracy: 0.9682\n",
      "\n"
     ]
    },
    {
     "name": "stdout",
     "output_type": "stream",
     "text": [
      "Epoch 210, Loss 0.0378\n",
      "Training Accuracy: 0.9605, Testing Accuracy: 0.9682\n",
      "\n"
     ]
    },
    {
     "name": "stdout",
     "output_type": "stream",
     "text": [
      "Epoch 220, Loss 0.0374\n",
      "Training Accuracy: 0.9607, Testing Accuracy: 0.9677\n",
      "\n"
     ]
    },
    {
     "name": "stdout",
     "output_type": "stream",
     "text": [
      "Epoch 230, Loss 0.037\n",
      "Training Accuracy: 0.9613, Testing Accuracy: 0.9677\n",
      "\n"
     ]
    },
    {
     "name": "stdout",
     "output_type": "stream",
     "text": [
      "Epoch 240, Loss 0.0367\n",
      "Training Accuracy: 0.9615, Testing Accuracy: 0.9677\n",
      "\n"
     ]
    },
    {
     "name": "stdout",
     "output_type": "stream",
     "text": [
      "Epoch 250, Loss 0.0363\n",
      "Training Accuracy: 0.9616, Testing Accuracy: 0.9677\n",
      "\n"
     ]
    },
    {
     "data": {
      "text/plain": [
       "0.02476762658997487"
      ]
     },
     "execution_count": 22,
     "metadata": {},
     "output_type": "execute_result"
    }
   ],
   "source": [
    "print(\"====== Logistic Regression ======\")\n",
    "learner_lr.train_loop(dl)"
   ]
  },
  {
   "cell_type": "markdown",
   "metadata": {
    "papermill": {
     "duration": 0.042212,
     "end_time": "2020-11-12T10:06:05.567213",
     "exception": false,
     "start_time": "2020-11-12T10:06:05.525001",
     "status": "completed"
    },
    "tags": []
   },
   "source": [
    "### Comparing results of NN and LR"
   ]
  },
  {
   "cell_type": "code",
   "execution_count": 23,
   "metadata": {
    "execution": {
     "iopub.execute_input": "2020-11-12T10:06:05.656936Z",
     "iopub.status.busy": "2020-11-12T10:06:05.656231Z",
     "iopub.status.idle": "2020-11-12T10:06:05.893784Z",
     "shell.execute_reply": "2020-11-12T10:06:05.894242Z"
    },
    "papermill": {
     "duration": 0.284807,
     "end_time": "2020-11-12T10:06:05.894403",
     "exception": false,
     "start_time": "2020-11-12T10:06:05.609596",
     "status": "completed"
    },
    "tags": []
   },
   "outputs": [
    {
     "data": {
      "text/plain": [
       "<matplotlib.legend.Legend at 0x7fcdf41a2048>"
      ]
     },
     "execution_count": 23,
     "metadata": {},
     "output_type": "execute_result"
    },
    {
     "data": {
      "image/png": "[encoded data removed]",
      "text/plain": [
       "<Figure size 1080x720 with 1 Axes>"
      ]
     },
     "metadata": {
      "needs_background": "light"
     },
     "output_type": "display_data"
    }
   ],
   "source": [
    "plt.figure(figsize=(15,10))\n",
    "\n",
    "# Neural Network plots\n",
    "plt.plot(acc_nn.accuracies, 'r-', label = \"Training Accuracies - NN\")\n",
    "plt.plot(acc_nn.test_accuracies, 'g-', label = \"Testing Accuracies - NN\")\n",
    "\n",
    "# Logistic Regression plots\n",
    "plt.plot(acc_lr.accuracies, 'k-', label = \"Training Accuracies - LR\")\n",
    "plt.plot(acc_lr.test_accuracies, 'b-', label = \"Testing Accuracies - LR\")\n",
    "\n",
    "plt.ylim(0.8, 1)\n",
    "\n",
    "plt.legend()\n",
    "\n"
   ]
  },
  {
   "cell_type": "markdown",
   "metadata": {
    "papermill": {
     "duration": 0.044144,
     "end_time": "2020-11-12T10:06:05.981696",
     "exception": false,
     "start_time": "2020-11-12T10:06:05.937552",
     "status": "completed"
    },
    "tags": []
   },
   "source": [
    "### From the plot, we can observe the following:\n",
    "- Neural Network achieves higher accuracy than the Logistic Regression model.\n",
    "- This apparently, is because of overfitting, i.e. NN captures more noise than data.\n",
    "- Testing accuracy of NN drops below the Training accuracy at higher epochs. This explains the over-fitting on training data.\n",
    "- Logistic Regression gives a reliable accuracy, without the above mentioned problem.\n"
   ]
  },
  {
   "cell_type": "markdown",
   "metadata": {
    "papermill": {
     "duration": 0.044435,
     "end_time": "2020-11-12T10:06:06.071387",
     "exception": false,
     "start_time": "2020-11-12T10:06:06.026952",
     "status": "completed"
    },
    "tags": []
   },
   "source": [
    "### Moving till the last but one layer (excluding it).\n",
    "#### Plotting the outputs of this layer of the NN."
   ]
  },
  {
   "cell_type": "code",
   "execution_count": 24,
   "metadata": {
    "execution": {
     "iopub.execute_input": "2020-11-12T10:06:06.180347Z",
     "iopub.status.busy": "2020-11-12T10:06:06.179465Z",
     "iopub.status.idle": "2020-11-12T10:06:06.183667Z",
     "shell.execute_reply": "2020-11-12T10:06:06.184111Z"
    },
    "papermill": {
     "duration": 0.068607,
     "end_time": "2020-11-12T10:06:06.184256",
     "exception": false,
     "start_time": "2020-11-12T10:06:06.115649",
     "status": "completed"
    },
    "tags": []
   },
   "outputs": [],
   "source": [
    "model_new = Model(layers[:-2])"
   ]
  },
  {
   "cell_type": "code",
   "execution_count": 25,
   "metadata": {
    "execution": {
     "iopub.execute_input": "2020-11-12T10:06:06.280492Z",
     "iopub.status.busy": "2020-11-12T10:06:06.279887Z",
     "iopub.status.idle": "2020-11-12T10:06:06.298892Z",
     "shell.execute_reply": "2020-11-12T10:06:06.299451Z"
    },
    "papermill": {
     "duration": 0.070648,
     "end_time": "2020-11-12T10:06:06.299624",
     "exception": false,
     "start_time": "2020-11-12T10:06:06.228976",
     "status": "completed"
    },
    "tags": []
   },
   "outputs": [],
   "source": [
    "plot_testing = model_new(testing_xdata)"
   ]
  },
  {
   "cell_type": "code",
   "execution_count": 26,
   "metadata": {
    "execution": {
     "iopub.execute_input": "2020-11-12T10:06:06.396557Z",
     "iopub.status.busy": "2020-11-12T10:06:06.395960Z",
     "iopub.status.idle": "2020-11-12T10:06:06.625115Z",
     "shell.execute_reply": "2020-11-12T10:06:06.624621Z"
    },
    "papermill": {
     "duration": 0.279063,
     "end_time": "2020-11-12T10:06:06.625251",
     "exception": false,
     "start_time": "2020-11-12T10:06:06.346188",
     "status": "completed"
    },
    "tags": []
   },
   "outputs": [
    {
     "data": {
      "text/plain": [
       "Text(0.5, 1.0, 'Outputs')"
      ]
     },
     "execution_count": 26,
     "metadata": {},
     "output_type": "execute_result"
    },
    {
     "data": {
      "image/png": "[encoded data removed]",
      "text/plain": [
       "<Figure size 576x504 with 1 Axes>"
      ]
     },
     "metadata": {
      "needs_background": "light"
     },
     "output_type": "display_data"
    }
   ],
   "source": [
    "plt.figure(figsize=(8,7))\n",
    "plt.scatter(plot_testing[:,0], plot_testing[:,1], alpha = 0.1, c = y_test.ravel());\n",
    "plt.title('Outputs')"
   ]
  },
  {
   "cell_type": "markdown",
   "metadata": {
    "papermill": {
     "duration": 0.049417,
     "end_time": "2020-11-12T10:06:06.724834",
     "exception": false,
     "start_time": "2020-11-12T10:06:06.675417",
     "status": "completed"
    },
    "tags": []
   },
   "source": [
    "### Plotting probability contours"
   ]
  },
  {
   "cell_type": "code",
   "execution_count": 27,
   "metadata": {
    "execution": {
     "iopub.execute_input": "2020-11-12T10:06:06.832985Z",
     "iopub.status.busy": "2020-11-12T10:06:06.828751Z",
     "iopub.status.idle": "2020-11-12T10:06:06.843783Z",
     "shell.execute_reply": "2020-11-12T10:06:06.844563Z"
    },
    "papermill": {
     "duration": 0.070145,
     "end_time": "2020-11-12T10:06:06.844716",
     "exception": false,
     "start_time": "2020-11-12T10:06:06.774571",
     "status": "completed"
    },
    "tags": []
   },
   "outputs": [],
   "source": [
    "model_prob = Model(layers[-2:]) "
   ]
  },
  {
   "cell_type": "code",
   "execution_count": 28,
   "metadata": {
    "execution": {
     "iopub.execute_input": "2020-11-12T10:06:06.953678Z",
     "iopub.status.busy": "2020-11-12T10:06:06.951527Z",
     "iopub.status.idle": "2020-11-12T10:06:06.966092Z",
     "shell.execute_reply": "2020-11-12T10:06:06.966533Z"
    },
    "papermill": {
     "duration": 0.072201,
     "end_time": "2020-11-12T10:06:06.966680",
     "exception": false,
     "start_time": "2020-11-12T10:06:06.894479",
     "status": "completed"
    },
    "tags": []
   },
   "outputs": [],
   "source": [
    "# Adjust the x and y ranges according to the above generated plot.\n",
    "x_range = np.linspace(-4, 1, 100) \n",
    "y_range = np.linspace(-6, 6, 100) \n",
    "x_grid, y_grid = np.meshgrid(x_range, y_range) # x_grid and y_grig are of size 100 X 100\n",
    "\n",
    "# converting x_grid and y_grid to continuous arrays\n",
    "x_grid_flat = np.ravel(x_grid)\n",
    "y_grid_flat = np.ravel(y_grid)\n",
    "\n",
    "# The last layer of the current model takes two columns as input. Hence transpose of np.vstack() is required.\n",
    "X = np.vstack((x_grid_flat, y_grid_flat)).T\n",
    "\n",
    "# x_grid and y_grid are of size 100 x 100\n",
    "probability_contour = model_prob(X).reshape(100,100) "
   ]
  },
  {
   "cell_type": "code",
   "execution_count": 29,
   "metadata": {
    "execution": {
     "iopub.execute_input": "2020-11-12T10:06:07.072492Z",
     "iopub.status.busy": "2020-11-12T10:06:07.071891Z",
     "iopub.status.idle": "2020-11-12T10:06:07.332565Z",
     "shell.execute_reply": "2020-11-12T10:06:07.333017Z"
    },
    "papermill": {
     "duration": 0.315912,
     "end_time": "2020-11-12T10:06:07.333166",
     "exception": false,
     "start_time": "2020-11-12T10:06:07.017254",
     "status": "completed"
    },
    "tags": []
   },
   "outputs": [
    {
     "data": {
      "image/png": "[encoded data removed]",
      "text/plain": [
       "<Figure size 720x648 with 1 Axes>"
      ]
     },
     "metadata": {
      "needs_background": "light"
     },
     "output_type": "display_data"
    }
   ],
   "source": [
    "plt.figure(figsize=(10,9))\n",
    "plt.scatter(plot_testing[:,0], plot_testing[:,1], alpha = 0.1, c = y_test.ravel())\n",
    "contours = plt.contour(x_grid,y_grid,probability_contour)\n",
    "plt.title('Probability Contours')\n",
    "plt.clabel(contours, inline = True );"
   ]
  }
 ],
 "metadata": {
  "kernelspec": {
   "display_name": "Python 3",
   "language": "python",
   "name": "python3"
  },
  "language_info": {
   "codemirror_mode": {
    "name": "ipython",
    "version": 3
   },
   "file_extension": ".py",
   "mimetype": "text/x-python",
   "name": "python",
   "nbconvert_exporter": "python",
   "pygments_lexer": "ipython3",
   "version": "3.6.12"
  },
  "papermill": {
   "duration": 111.076432,
   "end_time": "2020-11-12T10:06:07.691986",
   "environment_variables": {},
   "exception": null,
   "input_path": "2020-08-11-NeuralNetwork.ipynb",
   "output_path": "2020-08-11-NeuralNetwork.ipynb",
   "parameters": {},
   "start_time": "2020-11-12T10:04:16.615554",
   "version": "2.1.2"
  }
 },
 "nbformat": 4,
 "nbformat_minor": 4
}