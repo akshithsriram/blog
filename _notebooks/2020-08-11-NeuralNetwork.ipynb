{
 "cells": [
  {
   "cell_type": "markdown",
   "metadata": {
    "papermill": {
     "duration": 0.039529,
     "end_time": "2020-10-08T10:04:59.072830",
     "exception": false,
     "start_time": "2020-10-08T10:04:59.033301",
     "status": "completed"
    },
    "tags": []
   },
   "source": [
    "# \"A Basic Neural Network: Differentiate Hand-Written Digits\"\n",
    "\n",
    "- badges: true\n",
    "- author: Akshith Sriram"
   ]
  },
  {
   "cell_type": "markdown",
   "metadata": {
    "papermill": {
     "duration": 0.025627,
     "end_time": "2020-10-08T10:04:59.125856",
     "exception": false,
     "start_time": "2020-10-08T10:04:59.100229",
     "status": "completed"
    },
    "tags": []
   },
   "source": [
    "### Key Objectives:\n",
    "- Building a neural network that differentiates two hand-written digits 3 and 8.\n",
    "- Comparing the results of this Neural Network (NN) to that of a Logistic Regression (LR) model.\n",
    "\n",
    "### Requirements:\n",
    "- 'Kudzu' : A neural network library that was designed during our course by [Univ.AI](www.univ.ai). \n",
    "- MNIST Database\n",
    "\n",
    "If MNIST is not installed, use the command `!pip install mnist` given below.\n",
    "It can be run both from the command line and Jupyter Notebook."
   ]
  },
  {
   "cell_type": "code",
   "execution_count": 1,
   "metadata": {
    "execution": {
     "iopub.execute_input": "2020-10-08T10:04:59.184130Z",
     "iopub.status.busy": "2020-10-08T10:04:59.183457Z",
     "iopub.status.idle": "2020-10-08T10:05:00.739951Z",
     "shell.execute_reply": "2020-10-08T10:05:00.739183Z"
    },
    "papermill": {
     "duration": 1.588174,
     "end_time": "2020-10-08T10:05:00.740130",
     "exception": false,
     "start_time": "2020-10-08T10:04:59.151956",
     "status": "completed"
    },
    "tags": []
   },
   "outputs": [
    {
     "name": "stdout",
     "output_type": "stream",
     "text": [
      "Collecting mnist\r\n"
     ]
    },
    {
     "name": "stdout",
     "output_type": "stream",
     "text": [
      "  Downloading mnist-0.2.2-py2.py3-none-any.whl (3.5 kB)\r\n",
      "Requirement already satisfied: numpy in /opt/hostedtoolcache/Python/3.6.12/x64/lib/python3.6/site-packages (from mnist) (1.19.2)\r\n"
     ]
    },
    {
     "name": "stdout",
     "output_type": "stream",
     "text": [
      "Installing collected packages: mnist\r\n"
     ]
    },
    {
     "name": "stdout",
     "output_type": "stream",
     "text": [
      "Successfully installed mnist-0.2.2\r\n"
     ]
    }
   ],
   "source": [
    "!pip install mnist "
   ]
  },
  {
   "cell_type": "markdown",
   "metadata": {
    "papermill": {
     "duration": 0.027941,
     "end_time": "2020-10-08T10:05:00.798497",
     "exception": false,
     "start_time": "2020-10-08T10:05:00.770556",
     "status": "completed"
    },
    "tags": []
   },
   "source": [
    "#### Importing necessary libraries"
   ]
  },
  {
   "cell_type": "code",
   "execution_count": 2,
   "metadata": {
    "execution": {
     "iopub.execute_input": "2020-10-08T10:05:00.865618Z",
     "iopub.status.busy": "2020-10-08T10:05:00.864596Z",
     "iopub.status.idle": "2020-10-08T10:05:01.482532Z",
     "shell.execute_reply": "2020-10-08T10:05:01.483055Z"
    },
    "papermill": {
     "duration": 0.653693,
     "end_time": "2020-10-08T10:05:01.483241",
     "exception": false,
     "start_time": "2020-10-08T10:05:00.829548",
     "status": "completed"
    },
    "tags": []
   },
   "outputs": [],
   "source": [
    "%load_ext autoreload\n",
    "%autoreload 2\n",
    "\n",
    "%matplotlib inline\n",
    "import matplotlib.pyplot as plt\n",
    "\n",
    "import numpy as np\n",
    "import pandas as pd"
   ]
  },
  {
   "cell_type": "markdown",
   "metadata": {
    "papermill": {
     "duration": 0.027726,
     "end_time": "2020-10-08T10:05:01.539563",
     "exception": false,
     "start_time": "2020-10-08T10:05:01.511837",
     "status": "completed"
    },
    "tags": []
   },
   "source": [
    "### Preparing the Data"
   ]
  },
  {
   "cell_type": "code",
   "execution_count": 3,
   "metadata": {
    "execution": {
     "iopub.execute_input": "2020-10-08T10:05:01.600805Z",
     "iopub.status.busy": "2020-10-08T10:05:01.600119Z",
     "iopub.status.idle": "2020-10-08T10:05:01.611610Z",
     "shell.execute_reply": "2020-10-08T10:05:01.611102Z"
    },
    "papermill": {
     "duration": 0.04506,
     "end_time": "2020-10-08T10:05:01.611748",
     "exception": false,
     "start_time": "2020-10-08T10:05:01.566688",
     "status": "completed"
    },
    "tags": []
   },
   "outputs": [],
   "source": [
    "import mnist"
   ]
  },
  {
   "cell_type": "code",
   "execution_count": 4,
   "metadata": {
    "execution": {
     "iopub.execute_input": "2020-10-08T10:05:01.674218Z",
     "iopub.status.busy": "2020-10-08T10:05:01.673577Z",
     "iopub.status.idle": "2020-10-08T10:05:02.402277Z",
     "shell.execute_reply": "2020-10-08T10:05:02.401682Z"
    },
    "papermill": {
     "duration": 0.763509,
     "end_time": "2020-10-08T10:05:02.402427",
     "exception": false,
     "start_time": "2020-10-08T10:05:01.638918",
     "status": "completed"
    },
    "tags": []
   },
   "outputs": [],
   "source": [
    "train_images = mnist.train_images()\n",
    "train_labels = mnist.train_labels()"
   ]
  },
  {
   "cell_type": "code",
   "execution_count": 5,
   "metadata": {
    "execution": {
     "iopub.execute_input": "2020-10-08T10:05:02.467583Z",
     "iopub.status.busy": "2020-10-08T10:05:02.464201Z",
     "iopub.status.idle": "2020-10-08T10:05:02.482195Z",
     "shell.execute_reply": "2020-10-08T10:05:02.483020Z"
    },
    "papermill": {
     "duration": 0.050411,
     "end_time": "2020-10-08T10:05:02.483173",
     "exception": false,
     "start_time": "2020-10-08T10:05:02.432762",
     "status": "completed"
    },
    "tags": []
   },
   "outputs": [
    {
     "data": {
      "text/plain": [
       "((60000, 28, 28), (60000,))"
      ]
     },
     "execution_count": 5,
     "metadata": {},
     "output_type": "execute_result"
    }
   ],
   "source": [
    "train_images.shape, train_labels.shape"
   ]
  },
  {
   "cell_type": "code",
   "execution_count": 6,
   "metadata": {
    "execution": {
     "iopub.execute_input": "2020-10-08T10:05:02.556693Z",
     "iopub.status.busy": "2020-10-08T10:05:02.554193Z",
     "iopub.status.idle": "2020-10-08T10:05:02.835883Z",
     "shell.execute_reply": "2020-10-08T10:05:02.836494Z"
    },
    "papermill": {
     "duration": 0.325872,
     "end_time": "2020-10-08T10:05:02.836672",
     "exception": false,
     "start_time": "2020-10-08T10:05:02.510800",
     "status": "completed"
    },
    "tags": []
   },
   "outputs": [],
   "source": [
    "test_images = mnist.test_images()\n",
    "test_labels = mnist.test_labels()"
   ]
  },
  {
   "cell_type": "code",
   "execution_count": 7,
   "metadata": {
    "execution": {
     "iopub.execute_input": "2020-10-08T10:05:02.897584Z",
     "iopub.status.busy": "2020-10-08T10:05:02.896906Z",
     "iopub.status.idle": "2020-10-08T10:05:02.910055Z",
     "shell.execute_reply": "2020-10-08T10:05:02.910696Z"
    },
    "papermill": {
     "duration": 0.046515,
     "end_time": "2020-10-08T10:05:02.910866",
     "exception": false,
     "start_time": "2020-10-08T10:05:02.864351",
     "status": "completed"
    },
    "tags": []
   },
   "outputs": [
    {
     "data": {
      "text/plain": [
       "((10000, 28, 28), (10000,))"
      ]
     },
     "execution_count": 7,
     "metadata": {},
     "output_type": "execute_result"
    }
   ],
   "source": [
    "test_images.shape, test_labels.shape"
   ]
  },
  {
   "cell_type": "code",
   "execution_count": 8,
   "metadata": {
    "execution": {
     "iopub.execute_input": "2020-10-08T10:05:02.978221Z",
     "iopub.status.busy": "2020-10-08T10:05:02.977581Z",
     "iopub.status.idle": "2020-10-08T10:05:03.161019Z",
     "shell.execute_reply": "2020-10-08T10:05:03.161725Z"
    },
    "papermill": {
     "duration": 0.222131,
     "end_time": "2020-10-08T10:05:03.161908",
     "exception": false,
     "start_time": "2020-10-08T10:05:02.939777",
     "status": "completed"
    },
    "tags": []
   },
   "outputs": [
    {
     "name": "stdout",
     "output_type": "stream",
     "text": [
      "2\n"
     ]
    },
    {
     "data": {
      "text/plain": [
       "<matplotlib.image.AxesImage at 0x7fdf4b2b5978>"
      ]
     },
     "execution_count": 8,
     "metadata": {},
     "output_type": "execute_result"
    },
    {
     "data": {
      "image/png": "[encoded data removed]",
      "text/plain": [
       "<Figure size 432x288 with 1 Axes>"
      ]
     },
     "metadata": {
      "needs_background": "light"
     },
     "output_type": "display_data"
    }
   ],
   "source": [
    "image_index = 7776 # You may select anything up to 60,000\n",
    "print(train_labels[image_index]) \n",
    "plt.imshow(train_images[image_index], cmap='Greys')"
   ]
  },
  {
   "cell_type": "markdown",
   "metadata": {
    "papermill": {
     "duration": 0.029236,
     "end_time": "2020-10-08T10:05:03.220322",
     "exception": false,
     "start_time": "2020-10-08T10:05:03.191086",
     "status": "completed"
    },
    "tags": []
   },
   "source": [
    "## Filter data to get 3 and 8 out"
   ]
  },
  {
   "cell_type": "code",
   "execution_count": 9,
   "metadata": {
    "execution": {
     "iopub.execute_input": "2020-10-08T10:05:03.301571Z",
     "iopub.status.busy": "2020-10-08T10:05:03.298525Z",
     "iopub.status.idle": "2020-10-08T10:05:03.309269Z",
     "shell.execute_reply": "2020-10-08T10:05:03.309764Z"
    },
    "papermill": {
     "duration": 0.060983,
     "end_time": "2020-10-08T10:05:03.309942",
     "exception": false,
     "start_time": "2020-10-08T10:05:03.248959",
     "status": "completed"
    },
    "tags": []
   },
   "outputs": [],
   "source": [
    "train_filter = np.where((train_labels == 3 ) | (train_labels == 8))\n",
    "test_filter = np.where((test_labels == 3) | (test_labels == 8))\n",
    "X_train, y_train = train_images[train_filter], train_labels[train_filter]\n",
    "X_test, y_test = test_images[test_filter], test_labels[test_filter]"
   ]
  },
  {
   "cell_type": "markdown",
   "metadata": {
    "papermill": {
     "duration": 0.028431,
     "end_time": "2020-10-08T10:05:03.366995",
     "exception": false,
     "start_time": "2020-10-08T10:05:03.338564",
     "status": "completed"
    },
    "tags": []
   },
   "source": [
    "We normalize the pixel values in the 0 to 1 range"
   ]
  },
  {
   "cell_type": "code",
   "execution_count": 10,
   "metadata": {
    "execution": {
     "iopub.execute_input": "2020-10-08T10:05:03.441581Z",
     "iopub.status.busy": "2020-10-08T10:05:03.436562Z",
     "iopub.status.idle": "2020-10-08T10:05:03.495136Z",
     "shell.execute_reply": "2020-10-08T10:05:03.495713Z"
    },
    "papermill": {
     "duration": 0.100703,
     "end_time": "2020-10-08T10:05:03.495890",
     "exception": false,
     "start_time": "2020-10-08T10:05:03.395187",
     "status": "completed"
    },
    "tags": []
   },
   "outputs": [],
   "source": [
    "X_train = X_train/255.\n",
    "X_test = X_test/255."
   ]
  },
  {
   "cell_type": "markdown",
   "metadata": {
    "papermill": {
     "duration": 0.028952,
     "end_time": "2020-10-08T10:05:03.555669",
     "exception": false,
     "start_time": "2020-10-08T10:05:03.526717",
     "status": "completed"
    },
    "tags": []
   },
   "source": [
    "Setup the labels as 1 (when the digit is 3) and 0 (when the digit is 8)"
   ]
  },
  {
   "cell_type": "code",
   "execution_count": 11,
   "metadata": {
    "execution": {
     "iopub.execute_input": "2020-10-08T10:05:03.633320Z",
     "iopub.status.busy": "2020-10-08T10:05:03.631449Z",
     "iopub.status.idle": "2020-10-08T10:05:03.636411Z",
     "shell.execute_reply": "2020-10-08T10:05:03.635465Z"
    },
    "papermill": {
     "duration": 0.051524,
     "end_time": "2020-10-08T10:05:03.636562",
     "exception": false,
     "start_time": "2020-10-08T10:05:03.585038",
     "status": "completed"
    },
    "tags": []
   },
   "outputs": [],
   "source": [
    "y_train = 1*(y_train==3)\n",
    "y_test = 1*(y_test==3)"
   ]
  },
  {
   "cell_type": "code",
   "execution_count": 12,
   "metadata": {
    "execution": {
     "iopub.execute_input": "2020-10-08T10:05:03.706488Z",
     "iopub.status.busy": "2020-10-08T10:05:03.705808Z",
     "iopub.status.idle": "2020-10-08T10:05:03.712947Z",
     "shell.execute_reply": "2020-10-08T10:05:03.712366Z"
    },
    "papermill": {
     "duration": 0.046654,
     "end_time": "2020-10-08T10:05:03.713085",
     "exception": false,
     "start_time": "2020-10-08T10:05:03.666431",
     "status": "completed"
    },
    "tags": []
   },
   "outputs": [
    {
     "data": {
      "text/plain": [
       "((11982, 28, 28), (1984, 28, 28))"
      ]
     },
     "execution_count": 12,
     "metadata": {},
     "output_type": "execute_result"
    }
   ],
   "source": [
    "X_train.shape, X_test.shape"
   ]
  },
  {
   "cell_type": "markdown",
   "metadata": {
    "papermill": {
     "duration": 0.029992,
     "end_time": "2020-10-08T10:05:03.772417",
     "exception": false,
     "start_time": "2020-10-08T10:05:03.742425",
     "status": "completed"
    },
    "tags": []
   },
   "source": [
    "### Reshape the input data to create a linear array"
   ]
  },
  {
   "cell_type": "code",
   "execution_count": 13,
   "metadata": {
    "execution": {
     "iopub.execute_input": "2020-10-08T10:05:03.851993Z",
     "iopub.status.busy": "2020-10-08T10:05:03.850384Z",
     "iopub.status.idle": "2020-10-08T10:05:03.855104Z",
     "shell.execute_reply": "2020-10-08T10:05:03.855586Z"
    },
    "papermill": {
     "duration": 0.054171,
     "end_time": "2020-10-08T10:05:03.855752",
     "exception": false,
     "start_time": "2020-10-08T10:05:03.801581",
     "status": "completed"
    },
    "tags": []
   },
   "outputs": [
    {
     "data": {
      "text/plain": [
       "((11982, 784), (1984, 784))"
      ]
     },
     "execution_count": 13,
     "metadata": {},
     "output_type": "execute_result"
    }
   ],
   "source": [
    "X_train = X_train.reshape(X_train.shape[0], -1)\n",
    "X_test = X_test.reshape(X_test.shape[0], -1)\n",
    "X_train.shape, X_test.shape"
   ]
  },
  {
   "cell_type": "markdown",
   "metadata": {
    "papermill": {
     "duration": 0.029811,
     "end_time": "2020-10-08T10:05:03.915230",
     "exception": false,
     "start_time": "2020-10-08T10:05:03.885419",
     "status": "completed"
    },
    "tags": []
   },
   "source": [
    "### Importing appropriate functions from 'Kudzu'"
   ]
  },
  {
   "cell_type": "code",
   "execution_count": 14,
   "metadata": {
    "execution": {
     "iopub.execute_input": "2020-10-08T10:05:03.997754Z",
     "iopub.status.busy": "2020-10-08T10:05:03.989564Z",
     "iopub.status.idle": "2020-10-08T10:05:04.004317Z",
     "shell.execute_reply": "2020-10-08T10:05:04.003784Z"
    },
    "papermill": {
     "duration": 0.05957,
     "end_time": "2020-10-08T10:05:04.004464",
     "exception": false,
     "start_time": "2020-10-08T10:05:03.944894",
     "status": "completed"
    },
    "tags": []
   },
   "outputs": [],
   "source": [
    "from kudzu.layer import Sigmoid\n",
    "from kudzu.layer import Relu\n",
    "from kudzu.layer import Affine, Sigmoid\n",
    "\n",
    "from kudzu.model import Model\n",
    "from kudzu.train import Learner\n",
    "from kudzu.optim import GD\n",
    "from kudzu.data import Data, Dataloader, Sampler\n",
    "\n",
    "from kudzu.callbacks import AccCallback\n",
    "from kudzu.callbacks import ClfCallback\n",
    "\n",
    "from kudzu.loss import MSE"
   ]
  },
  {
   "cell_type": "markdown",
   "metadata": {
    "papermill": {
     "duration": 0.029369,
     "end_time": "2020-10-08T10:05:04.067470",
     "exception": false,
     "start_time": "2020-10-08T10:05:04.038101",
     "status": "completed"
    },
    "tags": []
   },
   "source": [
    "### Let us create a `Config` class, to store important parameters. \n",
    "This class essentially plays the role of a dictionary."
   ]
  },
  {
   "cell_type": "code",
   "execution_count": 15,
   "metadata": {
    "execution": {
     "iopub.execute_input": "2020-10-08T10:05:04.148910Z",
     "iopub.status.busy": "2020-10-08T10:05:04.148224Z",
     "iopub.status.idle": "2020-10-08T10:05:04.151142Z",
     "shell.execute_reply": "2020-10-08T10:05:04.150608Z"
    },
    "papermill": {
     "duration": 0.054021,
     "end_time": "2020-10-08T10:05:04.151286",
     "exception": false,
     "start_time": "2020-10-08T10:05:04.097265",
     "status": "completed"
    },
    "tags": []
   },
   "outputs": [],
   "source": [
    "class Config:\n",
    "    pass\n",
    "config = Config()\n",
    "config.lr = 0.001\n",
    "config.num_epochs = 251\n",
    "config.bs = 50"
   ]
  },
  {
   "cell_type": "markdown",
   "metadata": {
    "papermill": {
     "duration": 0.027228,
     "end_time": "2020-10-08T10:05:04.206491",
     "exception": false,
     "start_time": "2020-10-08T10:05:04.179263",
     "status": "completed"
    },
    "tags": []
   },
   "source": [
    "### Initializing data to the variables"
   ]
  },
  {
   "cell_type": "code",
   "execution_count": 16,
   "metadata": {
    "execution": {
     "iopub.execute_input": "2020-10-08T10:05:04.277879Z",
     "iopub.status.busy": "2020-10-08T10:05:04.269537Z",
     "iopub.status.idle": "2020-10-08T10:05:04.281145Z",
     "shell.execute_reply": "2020-10-08T10:05:04.281714Z"
    },
    "papermill": {
     "duration": 0.047364,
     "end_time": "2020-10-08T10:05:04.281858",
     "exception": false,
     "start_time": "2020-10-08T10:05:04.234494",
     "status": "completed"
    },
    "tags": []
   },
   "outputs": [],
   "source": [
    "data = Data(X_train, y_train.reshape(-1,1))\n",
    "sampler = Sampler(data, config.bs, shuffle=True)\n",
    "\n",
    "dl = Dataloader(data, sampler)\n",
    "\n",
    "opt = GD(config.lr)\n",
    "loss = MSE()"
   ]
  },
  {
   "cell_type": "code",
   "execution_count": 17,
   "metadata": {
    "execution": {
     "iopub.execute_input": "2020-10-08T10:05:04.346206Z",
     "iopub.status.busy": "2020-10-08T10:05:04.345552Z",
     "iopub.status.idle": "2020-10-08T10:05:04.356129Z",
     "shell.execute_reply": "2020-10-08T10:05:04.356710Z"
    },
    "papermill": {
     "duration": 0.047426,
     "end_time": "2020-10-08T10:05:04.356935",
     "exception": false,
     "start_time": "2020-10-08T10:05:04.309509",
     "status": "completed"
    },
    "tags": []
   },
   "outputs": [],
   "source": [
    "training_xdata = X_train\n",
    "testing_xdata = X_test\n",
    "training_ydata = y_train.reshape(-1,1)\n",
    "testing_ydata = y_test.reshape(-1,1)"
   ]
  },
  {
   "cell_type": "markdown",
   "metadata": {
    "papermill": {
     "duration": 0.027738,
     "end_time": "2020-10-08T10:05:04.413841",
     "exception": false,
     "start_time": "2020-10-08T10:05:04.386103",
     "status": "completed"
    },
    "tags": []
   },
   "source": [
    "### Running Models with the Training data\n",
    "Details about the network layers:\n",
    "- A first affine layer has 784 inputs and does 100 affine transforms. These are followed by a Relu\n",
    "- A second affine layer has 100 inputs from the 100 activations of the past layer, and does 100 affine transforms. These are followed by a Relu\n",
    "- A third affine layer has 100 activations and does 2 affine transformations to create an embedding for visualization. There is no non-linearity here.\n",
    "- A final \"logistic regression\" which has an affine transform from 2 inputs to 1 output, which is squeezed through a sigmoid.\n",
    "\n",
    "Help taken from Anshuman's Notebook."
   ]
  },
  {
   "cell_type": "code",
   "execution_count": 18,
   "metadata": {
    "execution": {
     "iopub.execute_input": "2020-10-08T10:05:04.478211Z",
     "iopub.status.busy": "2020-10-08T10:05:04.477539Z",
     "iopub.status.idle": "2020-10-08T10:05:04.491870Z",
     "shell.execute_reply": "2020-10-08T10:05:04.492331Z"
    },
    "papermill": {
     "duration": 0.050628,
     "end_time": "2020-10-08T10:05:04.492476",
     "exception": false,
     "start_time": "2020-10-08T10:05:04.441848",
     "status": "completed"
    },
    "tags": []
   },
   "outputs": [],
   "source": [
    "# layers for the Neural Network\n",
    "layers = [Affine(\"first\", 784, 100), Relu(\"first\"), Affine(\"second\", 100, 100), Relu(\"second\"), Affine(\"third\", 100, 2), Affine(\"final\", 2, 1), Sigmoid(\"final\")]\n",
    "model_nn = Model(layers)\n",
    "\n",
    "# layers for the Logistic Regression\n",
    "layers_lr = [Affine(\"logits\", 784, 1), Sigmoid(\"sigmoid\")]\n",
    "model_lr = Model(layers_lr)"
   ]
  },
  {
   "cell_type": "code",
   "execution_count": 19,
   "metadata": {
    "execution": {
     "iopub.execute_input": "2020-10-08T10:05:04.558066Z",
     "iopub.status.busy": "2020-10-08T10:05:04.557443Z",
     "iopub.status.idle": "2020-10-08T10:05:04.566626Z",
     "shell.execute_reply": "2020-10-08T10:05:04.567080Z"
    },
    "papermill": {
     "duration": 0.046184,
     "end_time": "2020-10-08T10:05:04.567217",
     "exception": false,
     "start_time": "2020-10-08T10:05:04.521033",
     "status": "completed"
    },
    "tags": []
   },
   "outputs": [],
   "source": [
    "# suffix _nn stands for Neural Network.\n",
    "learner_nn = Learner(loss, model_nn, opt, config.num_epochs)\n",
    "acc_nn = ClfCallback(learner_nn, config.bs, training_xdata , testing_xdata, training_ydata, testing_ydata)\n",
    "learner_nn.set_callbacks([acc_nn])"
   ]
  },
  {
   "cell_type": "code",
   "execution_count": 20,
   "metadata": {
    "execution": {
     "iopub.execute_input": "2020-10-08T10:05:04.627951Z",
     "iopub.status.busy": "2020-10-08T10:05:04.627264Z",
     "iopub.status.idle": "2020-10-08T10:07:10.040899Z",
     "shell.execute_reply": "2020-10-08T10:07:10.041598Z"
    },
    "papermill": {
     "duration": 125.446809,
     "end_time": "2020-10-08T10:07:10.041766",
     "exception": false,
     "start_time": "2020-10-08T10:05:04.594957",
     "status": "completed"
    },
    "tags": []
   },
   "outputs": [
    {
     "name": "stdout",
     "output_type": "stream",
     "text": [
      "====== Neural Network ======\n"
     ]
    },
    {
     "name": "stdout",
     "output_type": "stream",
     "text": [
      "Epoch 0, Loss 0.2451\n",
      "Training Accuracy: 0.6501, Testing Accuracy: 0.6694\n",
      "\n"
     ]
    },
    {
     "name": "stdout",
     "output_type": "stream",
     "text": [
      "Epoch 10, Loss 0.0993\n",
      "Training Accuracy: 0.9075, Testing Accuracy: 0.9189\n",
      "\n"
     ]
    },
    {
     "name": "stdout",
     "output_type": "stream",
     "text": [
      "Epoch 20, Loss 0.0609\n",
      "Training Accuracy: 0.9324, Testing Accuracy: 0.9451\n",
      "\n"
     ]
    },
    {
     "name": "stdout",
     "output_type": "stream",
     "text": [
      "Epoch 30, Loss 0.0471\n",
      "Training Accuracy: 0.9456, Testing Accuracy: 0.9556\n",
      "\n"
     ]
    },
    {
     "name": "stdout",
     "output_type": "stream",
     "text": [
      "Epoch 40, Loss 0.0402\n",
      "Training Accuracy: 0.9543, Testing Accuracy: 0.9592\n",
      "\n"
     ]
    },
    {
     "name": "stdout",
     "output_type": "stream",
     "text": [
      "Epoch 50, Loss 0.036\n",
      "Training Accuracy: 0.9581, Testing Accuracy: 0.9637\n",
      "\n"
     ]
    },
    {
     "name": "stdout",
     "output_type": "stream",
     "text": [
      "Epoch 60, Loss 0.0331\n",
      "Training Accuracy: 0.9619, Testing Accuracy: 0.9657\n",
      "\n"
     ]
    },
    {
     "name": "stdout",
     "output_type": "stream",
     "text": [
      "Epoch 70, Loss 0.031\n",
      "Training Accuracy: 0.9644, Testing Accuracy: 0.9682\n",
      "\n"
     ]
    },
    {
     "name": "stdout",
     "output_type": "stream",
     "text": [
      "Epoch 80, Loss 0.0293\n",
      "Training Accuracy: 0.9669, Testing Accuracy: 0.9698\n",
      "\n"
     ]
    },
    {
     "name": "stdout",
     "output_type": "stream",
     "text": [
      "Epoch 90, Loss 0.028\n",
      "Training Accuracy: 0.9684, Testing Accuracy: 0.9728\n",
      "\n"
     ]
    },
    {
     "name": "stdout",
     "output_type": "stream",
     "text": [
      "Epoch 100, Loss 0.0269\n",
      "Training Accuracy: 0.9694, Testing Accuracy: 0.9728\n",
      "\n"
     ]
    },
    {
     "name": "stdout",
     "output_type": "stream",
     "text": [
      "Epoch 110, Loss 0.0259\n",
      "Training Accuracy: 0.9705, Testing Accuracy: 0.9733\n",
      "\n"
     ]
    },
    {
     "name": "stdout",
     "output_type": "stream",
     "text": [
      "Epoch 120, Loss 0.0251\n",
      "Training Accuracy: 0.9711, Testing Accuracy: 0.9723\n",
      "\n"
     ]
    },
    {
     "name": "stdout",
     "output_type": "stream",
     "text": [
      "Epoch 130, Loss 0.0243\n",
      "Training Accuracy: 0.9725, Testing Accuracy: 0.9728\n",
      "\n"
     ]
    },
    {
     "name": "stdout",
     "output_type": "stream",
     "text": [
      "Epoch 140, Loss 0.0237\n",
      "Training Accuracy: 0.9734, Testing Accuracy: 0.9728\n",
      "\n"
     ]
    },
    {
     "name": "stdout",
     "output_type": "stream",
     "text": [
      "Epoch 150, Loss 0.0231\n",
      "Training Accuracy: 0.9741, Testing Accuracy: 0.9723\n",
      "\n"
     ]
    },
    {
     "name": "stdout",
     "output_type": "stream",
     "text": [
      "Epoch 160, Loss 0.0226\n",
      "Training Accuracy: 0.9749, Testing Accuracy: 0.9723\n",
      "\n"
     ]
    },
    {
     "name": "stdout",
     "output_type": "stream",
     "text": [
      "Epoch 170, Loss 0.0221\n",
      "Training Accuracy: 0.9755, Testing Accuracy: 0.9723\n",
      "\n"
     ]
    },
    {
     "name": "stdout",
     "output_type": "stream",
     "text": [
      "Epoch 180, Loss 0.0216\n",
      "Training Accuracy: 0.9755, Testing Accuracy: 0.9718\n",
      "\n"
     ]
    },
    {
     "name": "stdout",
     "output_type": "stream",
     "text": [
      "Epoch 190, Loss 0.0211\n",
      "Training Accuracy: 0.9765, Testing Accuracy: 0.9718\n",
      "\n"
     ]
    },
    {
     "name": "stdout",
     "output_type": "stream",
     "text": [
      "Epoch 200, Loss 0.0207\n",
      "Training Accuracy: 0.9771, Testing Accuracy: 0.9718\n",
      "\n"
     ]
    },
    {
     "name": "stdout",
     "output_type": "stream",
     "text": [
      "Epoch 210, Loss 0.0203\n",
      "Training Accuracy: 0.9776, Testing Accuracy: 0.9718\n",
      "\n"
     ]
    },
    {
     "name": "stdout",
     "output_type": "stream",
     "text": [
      "Epoch 220, Loss 0.0199\n",
      "Training Accuracy: 0.9778, Testing Accuracy: 0.9718\n",
      "\n"
     ]
    },
    {
     "name": "stdout",
     "output_type": "stream",
     "text": [
      "Epoch 230, Loss 0.0196\n",
      "Training Accuracy: 0.9783, Testing Accuracy: 0.9718\n",
      "\n"
     ]
    },
    {
     "name": "stdout",
     "output_type": "stream",
     "text": [
      "Epoch 240, Loss 0.0192\n",
      "Training Accuracy: 0.9786, Testing Accuracy: 0.9718\n",
      "\n"
     ]
    },
    {
     "name": "stdout",
     "output_type": "stream",
     "text": [
      "Epoch 250, Loss 0.0189\n",
      "Training Accuracy: 0.9788, Testing Accuracy: 0.9718\n",
      "\n"
     ]
    },
    {
     "data": {
      "text/plain": [
       "0.004316389008605356"
      ]
     },
     "execution_count": 20,
     "metadata": {},
     "output_type": "execute_result"
    }
   ],
   "source": [
    "print(\"====== Neural Network ======\")\n",
    "learner_nn.train_loop(dl)"
   ]
  },
  {
   "cell_type": "markdown",
   "metadata": {
    "papermill": {
     "duration": 0.038201,
     "end_time": "2020-10-08T10:07:10.117579",
     "exception": false,
     "start_time": "2020-10-08T10:07:10.079378",
     "status": "completed"
    },
    "tags": []
   },
   "source": [
    "### Logistic Regression based Implementation."
   ]
  },
  {
   "cell_type": "code",
   "execution_count": 21,
   "metadata": {
    "execution": {
     "iopub.execute_input": "2020-10-08T10:07:10.198061Z",
     "iopub.status.busy": "2020-10-08T10:07:10.197104Z",
     "iopub.status.idle": "2020-10-08T10:07:10.208043Z",
     "shell.execute_reply": "2020-10-08T10:07:10.207548Z"
    },
    "papermill": {
     "duration": 0.055146,
     "end_time": "2020-10-08T10:07:10.208469",
     "exception": false,
     "start_time": "2020-10-08T10:07:10.153323",
     "status": "completed"
    },
    "tags": []
   },
   "outputs": [],
   "source": [
    "learner_lr = Learner(loss, model_lr, opt, config.num_epochs)\n",
    "acc_lr = ClfCallback(learner_lr, config.bs, training_xdata , testing_xdata, training_ydata, testing_ydata)\n",
    "learner_lr.set_callbacks([acc_lr])"
   ]
  },
  {
   "cell_type": "code",
   "execution_count": 22,
   "metadata": {
    "execution": {
     "iopub.execute_input": "2020-10-08T10:07:10.284259Z",
     "iopub.status.busy": "2020-10-08T10:07:10.283656Z",
     "iopub.status.idle": "2020-10-08T10:07:28.472240Z",
     "shell.execute_reply": "2020-10-08T10:07:28.473179Z"
    },
    "papermill": {
     "duration": 18.227856,
     "end_time": "2020-10-08T10:07:28.473369",
     "exception": false,
     "start_time": "2020-10-08T10:07:10.245513",
     "status": "completed"
    },
    "tags": []
   },
   "outputs": [
    {
     "name": "stdout",
     "output_type": "stream",
     "text": [
      "====== Logistic Regression ======\n",
      "Epoch 0, Loss 0.2366\n",
      "Training Accuracy: 0.7160, Testing Accuracy: 0.6915\n",
      "\n"
     ]
    },
    {
     "name": "stdout",
     "output_type": "stream",
     "text": [
      "Epoch 10, Loss 0.1036\n",
      "Training Accuracy: 0.9081, Testing Accuracy: 0.9183\n",
      "\n"
     ]
    },
    {
     "name": "stdout",
     "output_type": "stream",
     "text": [
      "Epoch 20, Loss 0.0797\n",
      "Training Accuracy: 0.9270, Testing Accuracy: 0.9365\n",
      "\n"
     ]
    },
    {
     "name": "stdout",
     "output_type": "stream",
     "text": [
      "Epoch 30, Loss 0.0686\n",
      "Training Accuracy: 0.9351, Testing Accuracy: 0.9441\n",
      "\n"
     ]
    },
    {
     "name": "stdout",
     "output_type": "stream",
     "text": [
      "Epoch 40, Loss 0.0619\n",
      "Training Accuracy: 0.9401, Testing Accuracy: 0.9511\n",
      "\n"
     ]
    },
    {
     "name": "stdout",
     "output_type": "stream",
     "text": [
      "Epoch 50, Loss 0.0573\n",
      "Training Accuracy: 0.9446, Testing Accuracy: 0.9551\n",
      "\n"
     ]
    },
    {
     "name": "stdout",
     "output_type": "stream",
     "text": [
      "Epoch 60, Loss 0.054\n",
      "Training Accuracy: 0.9474, Testing Accuracy: 0.9592\n",
      "\n"
     ]
    },
    {
     "name": "stdout",
     "output_type": "stream",
     "text": [
      "Epoch 70, Loss 0.0514\n",
      "Training Accuracy: 0.9494, Testing Accuracy: 0.9612\n",
      "\n"
     ]
    },
    {
     "name": "stdout",
     "output_type": "stream",
     "text": [
      "Epoch 80, Loss 0.0493\n",
      "Training Accuracy: 0.9513, Testing Accuracy: 0.9632\n",
      "\n"
     ]
    },
    {
     "name": "stdout",
     "output_type": "stream",
     "text": [
      "Epoch 90, Loss 0.0476\n",
      "Training Accuracy: 0.9526, Testing Accuracy: 0.9632\n",
      "\n"
     ]
    },
    {
     "name": "stdout",
     "output_type": "stream",
     "text": [
      "Epoch 100, Loss 0.0462\n",
      "Training Accuracy: 0.9540, Testing Accuracy: 0.9642\n",
      "\n"
     ]
    },
    {
     "name": "stdout",
     "output_type": "stream",
     "text": [
      "Epoch 110, Loss 0.0449\n",
      "Training Accuracy: 0.9548, Testing Accuracy: 0.9642\n",
      "\n"
     ]
    },
    {
     "name": "stdout",
     "output_type": "stream",
     "text": [
      "Epoch 120, Loss 0.0439\n",
      "Training Accuracy: 0.9557, Testing Accuracy: 0.9652\n",
      "\n"
     ]
    },
    {
     "name": "stdout",
     "output_type": "stream",
     "text": [
      "Epoch 130, Loss 0.0429\n",
      "Training Accuracy: 0.9564, Testing Accuracy: 0.9652\n",
      "\n"
     ]
    },
    {
     "name": "stdout",
     "output_type": "stream",
     "text": [
      "Epoch 140, Loss 0.0421\n",
      "Training Accuracy: 0.9565, Testing Accuracy: 0.9657\n",
      "\n"
     ]
    },
    {
     "name": "stdout",
     "output_type": "stream",
     "text": [
      "Epoch 150, Loss 0.0413\n",
      "Training Accuracy: 0.9572, Testing Accuracy: 0.9657\n",
      "\n"
     ]
    },
    {
     "name": "stdout",
     "output_type": "stream",
     "text": [
      "Epoch 160, Loss 0.0407\n",
      "Training Accuracy: 0.9579, Testing Accuracy: 0.9662\n",
      "\n"
     ]
    },
    {
     "name": "stdout",
     "output_type": "stream",
     "text": [
      "Epoch 170, Loss 0.04\n",
      "Training Accuracy: 0.9585, Testing Accuracy: 0.9662\n",
      "\n"
     ]
    },
    {
     "name": "stdout",
     "output_type": "stream",
     "text": [
      "Epoch 180, Loss 0.0395\n",
      "Training Accuracy: 0.9589, Testing Accuracy: 0.9662\n",
      "\n"
     ]
    },
    {
     "name": "stdout",
     "output_type": "stream",
     "text": [
      "Epoch 190, Loss 0.0389\n",
      "Training Accuracy: 0.9600, Testing Accuracy: 0.9662\n",
      "\n"
     ]
    },
    {
     "name": "stdout",
     "output_type": "stream",
     "text": [
      "Epoch 200, Loss 0.0385\n",
      "Training Accuracy: 0.9602, Testing Accuracy: 0.9667\n",
      "\n"
     ]
    },
    {
     "name": "stdout",
     "output_type": "stream",
     "text": [
      "Epoch 210, Loss 0.038\n",
      "Training Accuracy: 0.9604, Testing Accuracy: 0.9667\n",
      "\n"
     ]
    },
    {
     "name": "stdout",
     "output_type": "stream",
     "text": [
      "Epoch 220, Loss 0.0376\n",
      "Training Accuracy: 0.9604, Testing Accuracy: 0.9667\n",
      "\n"
     ]
    },
    {
     "name": "stdout",
     "output_type": "stream",
     "text": [
      "Epoch 230, Loss 0.0372\n",
      "Training Accuracy: 0.9604, Testing Accuracy: 0.9667\n",
      "\n"
     ]
    },
    {
     "name": "stdout",
     "output_type": "stream",
     "text": [
      "Epoch 240, Loss 0.0369\n",
      "Training Accuracy: 0.9608, Testing Accuracy: 0.9667\n",
      "\n"
     ]
    },
    {
     "name": "stdout",
     "output_type": "stream",
     "text": [
      "Epoch 250, Loss 0.0365\n",
      "Training Accuracy: 0.9614, Testing Accuracy: 0.9667\n",
      "\n"
     ]
    },
    {
     "data": {
      "text/plain": [
       "0.06618952077765713"
      ]
     },
     "execution_count": 22,
     "metadata": {},
     "output_type": "execute_result"
    }
   ],
   "source": [
    "print(\"====== Logistic Regression ======\")\n",
    "learner_lr.train_loop(dl)"
   ]
  },
  {
   "cell_type": "markdown",
   "metadata": {
    "papermill": {
     "duration": 0.04587,
     "end_time": "2020-10-08T10:07:28.565931",
     "exception": false,
     "start_time": "2020-10-08T10:07:28.520061",
     "status": "completed"
    },
    "tags": []
   },
   "source": [
    "### Comparing results of NN and LR"
   ]
  },
  {
   "cell_type": "code",
   "execution_count": 23,
   "metadata": {
    "execution": {
     "iopub.execute_input": "2020-10-08T10:07:28.663870Z",
     "iopub.status.busy": "2020-10-08T10:07:28.662500Z",
     "iopub.status.idle": "2020-10-08T10:07:28.919495Z",
     "shell.execute_reply": "2020-10-08T10:07:28.918990Z"
    },
    "papermill": {
     "duration": 0.306943,
     "end_time": "2020-10-08T10:07:28.919639",
     "exception": false,
     "start_time": "2020-10-08T10:07:28.612696",
     "status": "completed"
    },
    "tags": []
   },
   "outputs": [
    {
     "data": {
      "text/plain": [
       "<matplotlib.legend.Legend at 0x7fdf48e17128>"
      ]
     },
     "execution_count": 23,
     "metadata": {},
     "output_type": "execute_result"
    },
    {
     "data": {
      "image/png": "[encoded data removed]",
      "text/plain": [
       "<Figure size 1080x720 with 1 Axes>"
      ]
     },
     "metadata": {
      "needs_background": "light"
     },
     "output_type": "display_data"
    }
   ],
   "source": [
    "plt.figure(figsize=(15,10))\n",
    "\n",
    "# Neural Network plots\n",
    "plt.plot(acc_nn.accuracies, 'r-', label = \"Training Accuracies - NN\")\n",
    "plt.plot(acc_nn.test_accuracies, 'g-', label = \"Testing Accuracies - NN\")\n",
    "\n",
    "# Logistic Regression plots\n",
    "plt.plot(acc_lr.accuracies, 'k-', label = \"Training Accuracies - LR\")\n",
    "plt.plot(acc_lr.test_accuracies, 'b-', label = \"Testing Accuracies - LR\")\n",
    "\n",
    "plt.ylim(0.8, 1)\n",
    "\n",
    "plt.legend()\n",
    "\n"
   ]
  },
  {
   "cell_type": "markdown",
   "metadata": {
    "papermill": {
     "duration": 0.045321,
     "end_time": "2020-10-08T10:07:29.011669",
     "exception": false,
     "start_time": "2020-10-08T10:07:28.966348",
     "status": "completed"
    },
    "tags": []
   },
   "source": [
    "### From the plot, we can observe the following:\n",
    "- Neural Network achieves higher accuracy than the Logistic Regression model.\n",
    "- This apparently, is because of overfitting, i.e. NN captures more noise than data.\n",
    "- Testing accuracy of NN drops below the Training accuracy at higher epochs. This explains the over-fitting on training data.\n",
    "- Logistic Regression gives a reliable accuracy, without the above mentioned problem.\n"
   ]
  },
  {
   "cell_type": "markdown",
   "metadata": {
    "papermill": {
     "duration": 0.04748,
     "end_time": "2020-10-08T10:07:29.104733",
     "exception": false,
     "start_time": "2020-10-08T10:07:29.057253",
     "status": "completed"
    },
    "tags": []
   },
   "source": [
    "### Moving till the last but one layer (excluding it).\n",
    "#### Plotting the outputs of this layer of the NN."
   ]
  },
  {
   "cell_type": "code",
   "execution_count": 24,
   "metadata": {
    "execution": {
     "iopub.execute_input": "2020-10-08T10:07:29.213090Z",
     "iopub.status.busy": "2020-10-08T10:07:29.201471Z",
     "iopub.status.idle": "2020-10-08T10:07:29.217112Z",
     "shell.execute_reply": "2020-10-08T10:07:29.216258Z"
    },
    "papermill": {
     "duration": 0.067636,
     "end_time": "2020-10-08T10:07:29.217239",
     "exception": false,
     "start_time": "2020-10-08T10:07:29.149603",
     "status": "completed"
    },
    "tags": []
   },
   "outputs": [],
   "source": [
    "model_new = Model(layers[:-2])"
   ]
  },
  {
   "cell_type": "code",
   "execution_count": 25,
   "metadata": {
    "execution": {
     "iopub.execute_input": "2020-10-08T10:07:29.312417Z",
     "iopub.status.busy": "2020-10-08T10:07:29.311216Z",
     "iopub.status.idle": "2020-10-08T10:07:29.337859Z",
     "shell.execute_reply": "2020-10-08T10:07:29.338412Z"
    },
    "papermill": {
     "duration": 0.07592,
     "end_time": "2020-10-08T10:07:29.338622",
     "exception": false,
     "start_time": "2020-10-08T10:07:29.262702",
     "status": "completed"
    },
    "tags": []
   },
   "outputs": [],
   "source": [
    "plot_testing = model_new(testing_xdata)"
   ]
  },
  {
   "cell_type": "code",
   "execution_count": 26,
   "metadata": {
    "execution": {
     "iopub.execute_input": "2020-10-08T10:07:29.434658Z",
     "iopub.status.busy": "2020-10-08T10:07:29.433519Z",
     "iopub.status.idle": "2020-10-08T10:07:29.637325Z",
     "shell.execute_reply": "2020-10-08T10:07:29.637831Z"
    },
    "papermill": {
     "duration": 0.253418,
     "end_time": "2020-10-08T10:07:29.638016",
     "exception": false,
     "start_time": "2020-10-08T10:07:29.384598",
     "status": "completed"
    },
    "tags": []
   },
   "outputs": [
    {
     "data": {
      "text/plain": [
       "Text(0.5, 1.0, 'Outputs')"
      ]
     },
     "execution_count": 26,
     "metadata": {},
     "output_type": "execute_result"
    },
    {
     "data": {
      "image/png": "[encoded data removed]",
      "text/plain": [
       "<Figure size 576x504 with 1 Axes>"
      ]
     },
     "metadata": {
      "needs_background": "light"
     },
     "output_type": "display_data"
    }
   ],
   "source": [
    "plt.figure(figsize=(8,7))\n",
    "plt.scatter(plot_testing[:,0], plot_testing[:,1], alpha = 0.1, c = y_test.ravel());\n",
    "plt.title('Outputs')"
   ]
  },
  {
   "cell_type": "markdown",
   "metadata": {
    "papermill": {
     "duration": 0.045726,
     "end_time": "2020-10-08T10:07:29.732103",
     "exception": false,
     "start_time": "2020-10-08T10:07:29.686377",
     "status": "completed"
    },
    "tags": []
   },
   "source": [
    "### Plotting probability contours"
   ]
  },
  {
   "cell_type": "code",
   "execution_count": 27,
   "metadata": {
    "execution": {
     "iopub.execute_input": "2020-10-08T10:07:29.828331Z",
     "iopub.status.busy": "2020-10-08T10:07:29.827733Z",
     "iopub.status.idle": "2020-10-08T10:07:29.839039Z",
     "shell.execute_reply": "2020-10-08T10:07:29.839506Z"
    },
    "papermill": {
     "duration": 0.061647,
     "end_time": "2020-10-08T10:07:29.839646",
     "exception": false,
     "start_time": "2020-10-08T10:07:29.777999",
     "status": "completed"
    },
    "tags": []
   },
   "outputs": [],
   "source": [
    "model_prob = Model(layers[-2:]) "
   ]
  },
  {
   "cell_type": "code",
   "execution_count": 28,
   "metadata": {
    "execution": {
     "iopub.execute_input": "2020-10-08T10:07:29.938008Z",
     "iopub.status.busy": "2020-10-08T10:07:29.937409Z",
     "iopub.status.idle": "2020-10-08T10:07:29.947592Z",
     "shell.execute_reply": "2020-10-08T10:07:29.948052Z"
    },
    "papermill": {
     "duration": 0.063122,
     "end_time": "2020-10-08T10:07:29.948189",
     "exception": false,
     "start_time": "2020-10-08T10:07:29.885067",
     "status": "completed"
    },
    "tags": []
   },
   "outputs": [],
   "source": [
    "# Adjust the x and y ranges according to the above generated plot.\n",
    "x_range = np.linspace(-4, 1, 100) \n",
    "y_range = np.linspace(-6, 6, 100) \n",
    "x_grid, y_grid = np.meshgrid(x_range, y_range) # x_grid and y_grig are of size 100 X 100\n",
    "\n",
    "# converting x_grid and y_grid to continuous arrays\n",
    "x_grid_flat = np.ravel(x_grid)\n",
    "y_grid_flat = np.ravel(y_grid)\n",
    "\n",
    "# The last layer of the current model takes two columns as input. Hence transpose of np.vstack() is required.\n",
    "X = np.vstack((x_grid_flat, y_grid_flat)).T\n",
    "\n",
    "# x_grid and y_grid are of size 100 x 100\n",
    "probability_contour = model_prob(X).reshape(100,100) "
   ]
  },
  {
   "cell_type": "code",
   "execution_count": 29,
   "metadata": {
    "execution": {
     "iopub.execute_input": "2020-10-08T10:07:30.058001Z",
     "iopub.status.busy": "2020-10-08T10:07:30.057349Z",
     "iopub.status.idle": "2020-10-08T10:07:30.316997Z",
     "shell.execute_reply": "2020-10-08T10:07:30.316101Z"
    },
    "papermill": {
     "duration": 0.321415,
     "end_time": "2020-10-08T10:07:30.317184",
     "exception": false,
     "start_time": "2020-10-08T10:07:29.995769",
     "status": "completed"
    },
    "tags": []
   },
   "outputs": [
    {
     "data": {
      "image/png": "[encoded data removed]",
      "text/plain": [
       "<Figure size 720x648 with 1 Axes>"
      ]
     },
     "metadata": {
      "needs_background": "light"
     },
     "output_type": "display_data"
    }
   ],
   "source": [
    "plt.figure(figsize=(10,9))\n",
    "plt.scatter(plot_testing[:,0], plot_testing[:,1], alpha = 0.1, c = y_test.ravel())\n",
    "contours = plt.contour(x_grid,y_grid,probability_contour)\n",
    "plt.title('Probability Contours')\n",
    "plt.clabel(contours, inline = True );"
   ]
  }
 ],
 "metadata": {
  "kernelspec": {
   "display_name": "Python 3",
   "language": "python",
   "name": "python3"
  },
  "language_info": {
   "codemirror_mode": {
    "name": "ipython",
    "version": 3
   },
   "file_extension": ".py",
   "mimetype": "text/x-python",
   "name": "python",
   "nbconvert_exporter": "python",
   "pygments_lexer": "ipython3",
   "version": "3.6.12"
  },
  "papermill": {
   "duration": 152.85941,
   "end_time": "2020-10-08T10:07:30.796708",
   "environment_variables": {},
   "exception": null,
   "input_path": "2020-08-11-NeuralNetwork.ipynb",
   "output_path": "2020-08-11-NeuralNetwork.ipynb",
   "parameters": {},
   "start_time": "2020-10-08T10:04:57.937298",
   "version": "2.1.2"
  }
 },
 "nbformat": 4,
 "nbformat_minor": 4
}