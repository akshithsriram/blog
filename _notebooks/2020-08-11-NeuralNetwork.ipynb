{
 "cells": [
  {
   "cell_type": "markdown",
   "metadata": {
    "papermill": {
     "duration": 0.032402,
     "end_time": "2020-11-07T10:14:03.065806",
     "exception": false,
     "start_time": "2020-11-07T10:14:03.033404",
     "status": "completed"
    },
    "tags": []
   },
   "source": [
    "# \"A Basic Neural Network: Differentiate Hand-Written Digits\"\n",
    "\n",
    "- badges: true\n",
    "- author: Akshith Sriram"
   ]
  },
  {
   "cell_type": "markdown",
   "metadata": {
    "papermill": {
     "duration": 0.028361,
     "end_time": "2020-11-07T10:14:03.124207",
     "exception": false,
     "start_time": "2020-11-07T10:14:03.095846",
     "status": "completed"
    },
    "tags": []
   },
   "source": [
    "### Key Objectives:\n",
    "- Building a neural network that differentiates two hand-written digits 3 and 8.\n",
    "- Comparing the results of this Neural Network (NN) to that of a Logistic Regression (LR) model.\n",
    "\n",
    "### Requirements:\n",
    "- 'Kudzu' : A neural network library that was designed during our course by [Univ.AI](www.univ.ai). \n",
    "- MNIST Database\n",
    "\n",
    "If MNIST is not installed, use the command `!pip install mnist` given below.\n",
    "It can be run both from the command line and Jupyter Notebook."
   ]
  },
  {
   "cell_type": "code",
   "execution_count": 1,
   "metadata": {
    "execution": {
     "iopub.execute_input": "2020-11-07T10:14:03.188054Z",
     "iopub.status.busy": "2020-11-07T10:14:03.187376Z",
     "iopub.status.idle": "2020-11-07T10:14:04.854217Z",
     "shell.execute_reply": "2020-11-07T10:14:04.853567Z"
    },
    "papermill": {
     "duration": 1.701129,
     "end_time": "2020-11-07T10:14:04.854388",
     "exception": false,
     "start_time": "2020-11-07T10:14:03.153259",
     "status": "completed"
    },
    "tags": []
   },
   "outputs": [
    {
     "name": "stdout",
     "output_type": "stream",
     "text": [
      "Collecting mnist\r\n"
     ]
    },
    {
     "name": "stdout",
     "output_type": "stream",
     "text": [
      "  Downloading mnist-0.2.2-py2.py3-none-any.whl (3.5 kB)\r\n",
      "Requirement already satisfied: numpy in /opt/hostedtoolcache/Python/3.6.12/x64/lib/python3.6/site-packages (from mnist) (1.19.4)\r\n"
     ]
    },
    {
     "name": "stdout",
     "output_type": "stream",
     "text": [
      "Installing collected packages: mnist\r\n"
     ]
    },
    {
     "name": "stdout",
     "output_type": "stream",
     "text": [
      "Successfully installed mnist-0.2.2\r\n"
     ]
    }
   ],
   "source": [
    "!pip install mnist "
   ]
  },
  {
   "cell_type": "markdown",
   "metadata": {
    "papermill": {
     "duration": 0.030259,
     "end_time": "2020-11-07T10:14:04.917806",
     "exception": false,
     "start_time": "2020-11-07T10:14:04.887547",
     "status": "completed"
    },
    "tags": []
   },
   "source": [
    "#### Importing necessary libraries"
   ]
  },
  {
   "cell_type": "code",
   "execution_count": 2,
   "metadata": {
    "execution": {
     "iopub.execute_input": "2020-11-07T10:14:04.998227Z",
     "iopub.status.busy": "2020-11-07T10:14:04.997534Z",
     "iopub.status.idle": "2020-11-07T10:14:05.671604Z",
     "shell.execute_reply": "2020-11-07T10:14:05.672137Z"
    },
    "papermill": {
     "duration": 0.720056,
     "end_time": "2020-11-07T10:14:05.672319",
     "exception": false,
     "start_time": "2020-11-07T10:14:04.952263",
     "status": "completed"
    },
    "tags": []
   },
   "outputs": [],
   "source": [
    "%load_ext autoreload\n",
    "%autoreload 2\n",
    "\n",
    "%matplotlib inline\n",
    "import matplotlib.pyplot as plt\n",
    "\n",
    "import numpy as np\n",
    "import pandas as pd"
   ]
  },
  {
   "cell_type": "markdown",
   "metadata": {
    "papermill": {
     "duration": 0.030647,
     "end_time": "2020-11-07T10:14:05.739418",
     "exception": false,
     "start_time": "2020-11-07T10:14:05.708771",
     "status": "completed"
    },
    "tags": []
   },
   "source": [
    "### Preparing the Data"
   ]
  },
  {
   "cell_type": "code",
   "execution_count": 3,
   "metadata": {
    "execution": {
     "iopub.execute_input": "2020-11-07T10:14:05.804552Z",
     "iopub.status.busy": "2020-11-07T10:14:05.803861Z",
     "iopub.status.idle": "2020-11-07T10:14:05.818650Z",
     "shell.execute_reply": "2020-11-07T10:14:05.818016Z"
    },
    "papermill": {
     "duration": 0.049869,
     "end_time": "2020-11-07T10:14:05.818826",
     "exception": false,
     "start_time": "2020-11-07T10:14:05.768957",
     "status": "completed"
    },
    "tags": []
   },
   "outputs": [],
   "source": [
    "import mnist"
   ]
  },
  {
   "cell_type": "code",
   "execution_count": 4,
   "metadata": {
    "execution": {
     "iopub.execute_input": "2020-11-07T10:14:05.885188Z",
     "iopub.status.busy": "2020-11-07T10:14:05.884519Z",
     "iopub.status.idle": "2020-11-07T10:14:06.895986Z",
     "shell.execute_reply": "2020-11-07T10:14:06.895359Z"
    },
    "papermill": {
     "duration": 1.046828,
     "end_time": "2020-11-07T10:14:06.896154",
     "exception": false,
     "start_time": "2020-11-07T10:14:05.849326",
     "status": "completed"
    },
    "tags": []
   },
   "outputs": [],
   "source": [
    "train_images = mnist.train_images()\n",
    "train_labels = mnist.train_labels()"
   ]
  },
  {
   "cell_type": "code",
   "execution_count": 5,
   "metadata": {
    "execution": {
     "iopub.execute_input": "2020-11-07T10:14:06.971955Z",
     "iopub.status.busy": "2020-11-07T10:14:06.971254Z",
     "iopub.status.idle": "2020-11-07T10:14:06.990149Z",
     "shell.execute_reply": "2020-11-07T10:14:06.989190Z"
    },
    "papermill": {
     "duration": 0.055207,
     "end_time": "2020-11-07T10:14:06.990302",
     "exception": false,
     "start_time": "2020-11-07T10:14:06.935095",
     "status": "completed"
    },
    "tags": []
   },
   "outputs": [
    {
     "data": {
      "text/plain": [
       "((60000, 28, 28), (60000,))"
      ]
     },
     "execution_count": 5,
     "metadata": {},
     "output_type": "execute_result"
    }
   ],
   "source": [
    "train_images.shape, train_labels.shape"
   ]
  },
  {
   "cell_type": "code",
   "execution_count": 6,
   "metadata": {
    "execution": {
     "iopub.execute_input": "2020-11-07T10:14:07.060968Z",
     "iopub.status.busy": "2020-11-07T10:14:07.059315Z",
     "iopub.status.idle": "2020-11-07T10:14:07.315442Z",
     "shell.execute_reply": "2020-11-07T10:14:07.315973Z"
    },
    "papermill": {
     "duration": 0.293264,
     "end_time": "2020-11-07T10:14:07.316182",
     "exception": false,
     "start_time": "2020-11-07T10:14:07.022918",
     "status": "completed"
    },
    "tags": []
   },
   "outputs": [],
   "source": [
    "test_images = mnist.test_images()\n",
    "test_labels = mnist.test_labels()"
   ]
  },
  {
   "cell_type": "code",
   "execution_count": 7,
   "metadata": {
    "execution": {
     "iopub.execute_input": "2020-11-07T10:14:07.381911Z",
     "iopub.status.busy": "2020-11-07T10:14:07.381252Z",
     "iopub.status.idle": "2020-11-07T10:14:07.397663Z",
     "shell.execute_reply": "2020-11-07T10:14:07.398625Z"
    },
    "papermill": {
     "duration": 0.051643,
     "end_time": "2020-11-07T10:14:07.398984",
     "exception": false,
     "start_time": "2020-11-07T10:14:07.347341",
     "status": "completed"
    },
    "tags": []
   },
   "outputs": [
    {
     "data": {
      "text/plain": [
       "((10000, 28, 28), (10000,))"
      ]
     },
     "execution_count": 7,
     "metadata": {},
     "output_type": "execute_result"
    }
   ],
   "source": [
    "test_images.shape, test_labels.shape"
   ]
  },
  {
   "cell_type": "code",
   "execution_count": 8,
   "metadata": {
    "execution": {
     "iopub.execute_input": "2020-11-07T10:14:07.471389Z",
     "iopub.status.busy": "2020-11-07T10:14:07.470712Z",
     "iopub.status.idle": "2020-11-07T10:14:07.659280Z",
     "shell.execute_reply": "2020-11-07T10:14:07.660127Z"
    },
    "papermill": {
     "duration": 0.224945,
     "end_time": "2020-11-07T10:14:07.660304",
     "exception": false,
     "start_time": "2020-11-07T10:14:07.435359",
     "status": "completed"
    },
    "tags": []
   },
   "outputs": [
    {
     "name": "stdout",
     "output_type": "stream",
     "text": [
      "2\n"
     ]
    },
    {
     "data": {
      "text/plain": [
       "<matplotlib.image.AxesImage at 0x7f0177ed5438>"
      ]
     },
     "execution_count": 8,
     "metadata": {},
     "output_type": "execute_result"
    },
    {
     "data": {
      "image/png": "[encoded data removed]",
      "text/plain": [
       "<Figure size 432x288 with 1 Axes>"
      ]
     },
     "metadata": {
      "needs_background": "light"
     },
     "output_type": "display_data"
    }
   ],
   "source": [
    "image_index = 7776 # You may select anything up to 60,000\n",
    "print(train_labels[image_index]) \n",
    "plt.imshow(train_images[image_index], cmap='Greys')"
   ]
  },
  {
   "cell_type": "markdown",
   "metadata": {
    "papermill": {
     "duration": 0.032668,
     "end_time": "2020-11-07T10:14:07.728174",
     "exception": false,
     "start_time": "2020-11-07T10:14:07.695506",
     "status": "completed"
    },
    "tags": []
   },
   "source": [
    "## Filter data to get 3 and 8 out"
   ]
  },
  {
   "cell_type": "code",
   "execution_count": 9,
   "metadata": {
    "execution": {
     "iopub.execute_input": "2020-11-07T10:14:07.797039Z",
     "iopub.status.busy": "2020-11-07T10:14:07.796357Z",
     "iopub.status.idle": "2020-11-07T10:14:07.815686Z",
     "shell.execute_reply": "2020-11-07T10:14:07.814977Z"
    },
    "papermill": {
     "duration": 0.055887,
     "end_time": "2020-11-07T10:14:07.815836",
     "exception": false,
     "start_time": "2020-11-07T10:14:07.759949",
     "status": "completed"
    },
    "tags": []
   },
   "outputs": [],
   "source": [
    "train_filter = np.where((train_labels == 3 ) | (train_labels == 8))\n",
    "test_filter = np.where((test_labels == 3) | (test_labels == 8))\n",
    "X_train, y_train = train_images[train_filter], train_labels[train_filter]\n",
    "X_test, y_test = test_images[test_filter], test_labels[test_filter]"
   ]
  },
  {
   "cell_type": "markdown",
   "metadata": {
    "papermill": {
     "duration": 0.033731,
     "end_time": "2020-11-07T10:14:07.881517",
     "exception": false,
     "start_time": "2020-11-07T10:14:07.847786",
     "status": "completed"
    },
    "tags": []
   },
   "source": [
    "We normalize the pixel values in the 0 to 1 range"
   ]
  },
  {
   "cell_type": "code",
   "execution_count": 10,
   "metadata": {
    "execution": {
     "iopub.execute_input": "2020-11-07T10:14:07.949509Z",
     "iopub.status.busy": "2020-11-07T10:14:07.948838Z",
     "iopub.status.idle": "2020-11-07T10:14:08.019769Z",
     "shell.execute_reply": "2020-11-07T10:14:08.020738Z"
    },
    "papermill": {
     "duration": 0.107623,
     "end_time": "2020-11-07T10:14:08.021118",
     "exception": false,
     "start_time": "2020-11-07T10:14:07.913495",
     "status": "completed"
    },
    "tags": []
   },
   "outputs": [],
   "source": [
    "X_train = X_train/255.\n",
    "X_test = X_test/255."
   ]
  },
  {
   "cell_type": "markdown",
   "metadata": {
    "papermill": {
     "duration": 0.034449,
     "end_time": "2020-11-07T10:14:08.096843",
     "exception": false,
     "start_time": "2020-11-07T10:14:08.062394",
     "status": "completed"
    },
    "tags": []
   },
   "source": [
    "Setup the labels as 1 (when the digit is 3) and 0 (when the digit is 8)"
   ]
  },
  {
   "cell_type": "code",
   "execution_count": 11,
   "metadata": {
    "execution": {
     "iopub.execute_input": "2020-11-07T10:14:08.165397Z",
     "iopub.status.busy": "2020-11-07T10:14:08.164723Z",
     "iopub.status.idle": "2020-11-07T10:14:08.182851Z",
     "shell.execute_reply": "2020-11-07T10:14:08.182205Z"
    },
    "papermill": {
     "duration": 0.053702,
     "end_time": "2020-11-07T10:14:08.183004",
     "exception": false,
     "start_time": "2020-11-07T10:14:08.129302",
     "status": "completed"
    },
    "tags": []
   },
   "outputs": [],
   "source": [
    "y_train = 1*(y_train==3)\n",
    "y_test = 1*(y_test==3)"
   ]
  },
  {
   "cell_type": "code",
   "execution_count": 12,
   "metadata": {
    "execution": {
     "iopub.execute_input": "2020-11-07T10:14:08.265616Z",
     "iopub.status.busy": "2020-11-07T10:14:08.264950Z",
     "iopub.status.idle": "2020-11-07T10:14:08.281233Z",
     "shell.execute_reply": "2020-11-07T10:14:08.280672Z"
    },
    "papermill": {
     "duration": 0.053966,
     "end_time": "2020-11-07T10:14:08.281384",
     "exception": false,
     "start_time": "2020-11-07T10:14:08.227418",
     "status": "completed"
    },
    "tags": []
   },
   "outputs": [
    {
     "data": {
      "text/plain": [
       "((11982, 28, 28), (1984, 28, 28))"
      ]
     },
     "execution_count": 12,
     "metadata": {},
     "output_type": "execute_result"
    }
   ],
   "source": [
    "X_train.shape, X_test.shape"
   ]
  },
  {
   "cell_type": "markdown",
   "metadata": {
    "papermill": {
     "duration": 0.032108,
     "end_time": "2020-11-07T10:14:08.349090",
     "exception": false,
     "start_time": "2020-11-07T10:14:08.316982",
     "status": "completed"
    },
    "tags": []
   },
   "source": [
    "### Reshape the input data to create a linear array"
   ]
  },
  {
   "cell_type": "code",
   "execution_count": 13,
   "metadata": {
    "execution": {
     "iopub.execute_input": "2020-11-07T10:14:08.425523Z",
     "iopub.status.busy": "2020-11-07T10:14:08.424852Z",
     "iopub.status.idle": "2020-11-07T10:14:08.442315Z",
     "shell.execute_reply": "2020-11-07T10:14:08.441522Z"
    },
    "papermill": {
     "duration": 0.060583,
     "end_time": "2020-11-07T10:14:08.442469",
     "exception": false,
     "start_time": "2020-11-07T10:14:08.381886",
     "status": "completed"
    },
    "tags": []
   },
   "outputs": [
    {
     "data": {
      "text/plain": [
       "((11982, 784), (1984, 784))"
      ]
     },
     "execution_count": 13,
     "metadata": {},
     "output_type": "execute_result"
    }
   ],
   "source": [
    "X_train = X_train.reshape(X_train.shape[0], -1)\n",
    "X_test = X_test.reshape(X_test.shape[0], -1)\n",
    "X_train.shape, X_test.shape"
   ]
  },
  {
   "cell_type": "markdown",
   "metadata": {
    "papermill": {
     "duration": 0.032903,
     "end_time": "2020-11-07T10:14:08.508013",
     "exception": false,
     "start_time": "2020-11-07T10:14:08.475110",
     "status": "completed"
    },
    "tags": []
   },
   "source": [
    "### Importing appropriate functions from 'Kudzu'"
   ]
  },
  {
   "cell_type": "code",
   "execution_count": 14,
   "metadata": {
    "execution": {
     "iopub.execute_input": "2020-11-07T10:14:08.583155Z",
     "iopub.status.busy": "2020-11-07T10:14:08.582314Z",
     "iopub.status.idle": "2020-11-07T10:14:08.603801Z",
     "shell.execute_reply": "2020-11-07T10:14:08.603219Z"
    },
    "papermill": {
     "duration": 0.06217,
     "end_time": "2020-11-07T10:14:08.603961",
     "exception": false,
     "start_time": "2020-11-07T10:14:08.541791",
     "status": "completed"
    },
    "tags": []
   },
   "outputs": [],
   "source": [
    "from kudzu.layer import Sigmoid\n",
    "from kudzu.layer import Relu\n",
    "from kudzu.layer import Affine, Sigmoid\n",
    "\n",
    "from kudzu.model import Model\n",
    "from kudzu.train import Learner\n",
    "from kudzu.optim import GD\n",
    "from kudzu.data import Data, Dataloader, Sampler\n",
    "\n",
    "from kudzu.callbacks import AccCallback\n",
    "from kudzu.callbacks import ClfCallback\n",
    "\n",
    "from kudzu.loss import MSE"
   ]
  },
  {
   "cell_type": "markdown",
   "metadata": {
    "papermill": {
     "duration": 0.033218,
     "end_time": "2020-11-07T10:14:08.669724",
     "exception": false,
     "start_time": "2020-11-07T10:14:08.636506",
     "status": "completed"
    },
    "tags": []
   },
   "source": [
    "### Let us create a `Config` class, to store important parameters. \n",
    "This class essentially plays the role of a dictionary."
   ]
  },
  {
   "cell_type": "code",
   "execution_count": 15,
   "metadata": {
    "execution": {
     "iopub.execute_input": "2020-11-07T10:14:08.742379Z",
     "iopub.status.busy": "2020-11-07T10:14:08.741710Z",
     "iopub.status.idle": "2020-11-07T10:14:08.756929Z",
     "shell.execute_reply": "2020-11-07T10:14:08.757490Z"
    },
    "papermill": {
     "duration": 0.053933,
     "end_time": "2020-11-07T10:14:08.757666",
     "exception": false,
     "start_time": "2020-11-07T10:14:08.703733",
     "status": "completed"
    },
    "tags": []
   },
   "outputs": [],
   "source": [
    "class Config:\n",
    "    pass\n",
    "config = Config()\n",
    "config.lr = 0.001\n",
    "config.num_epochs = 251\n",
    "config.bs = 50"
   ]
  },
  {
   "cell_type": "markdown",
   "metadata": {
    "papermill": {
     "duration": 0.032628,
     "end_time": "2020-11-07T10:14:08.824244",
     "exception": false,
     "start_time": "2020-11-07T10:14:08.791616",
     "status": "completed"
    },
    "tags": []
   },
   "source": [
    "### Initializing data to the variables"
   ]
  },
  {
   "cell_type": "code",
   "execution_count": 16,
   "metadata": {
    "execution": {
     "iopub.execute_input": "2020-11-07T10:14:08.897194Z",
     "iopub.status.busy": "2020-11-07T10:14:08.896507Z",
     "iopub.status.idle": "2020-11-07T10:14:08.911562Z",
     "shell.execute_reply": "2020-11-07T10:14:08.910985Z"
    },
    "papermill": {
     "duration": 0.054656,
     "end_time": "2020-11-07T10:14:08.911744",
     "exception": false,
     "start_time": "2020-11-07T10:14:08.857088",
     "status": "completed"
    },
    "tags": []
   },
   "outputs": [],
   "source": [
    "data = Data(X_train, y_train.reshape(-1,1))\n",
    "sampler = Sampler(data, config.bs, shuffle=True)\n",
    "\n",
    "dl = Dataloader(data, sampler)\n",
    "\n",
    "opt = GD(config.lr)\n",
    "loss = MSE()"
   ]
  },
  {
   "cell_type": "code",
   "execution_count": 17,
   "metadata": {
    "execution": {
     "iopub.execute_input": "2020-11-07T10:14:08.982595Z",
     "iopub.status.busy": "2020-11-07T10:14:08.981880Z",
     "iopub.status.idle": "2020-11-07T10:14:08.997181Z",
     "shell.execute_reply": "2020-11-07T10:14:08.996537Z"
    },
    "papermill": {
     "duration": 0.052631,
     "end_time": "2020-11-07T10:14:08.997363",
     "exception": false,
     "start_time": "2020-11-07T10:14:08.944732",
     "status": "completed"
    },
    "tags": []
   },
   "outputs": [],
   "source": [
    "training_xdata = X_train\n",
    "testing_xdata = X_test\n",
    "training_ydata = y_train.reshape(-1,1)\n",
    "testing_ydata = y_test.reshape(-1,1)"
   ]
  },
  {
   "cell_type": "markdown",
   "metadata": {
    "papermill": {
     "duration": 0.037452,
     "end_time": "2020-11-07T10:14:09.071172",
     "exception": false,
     "start_time": "2020-11-07T10:14:09.033720",
     "status": "completed"
    },
    "tags": []
   },
   "source": [
    "### Running Models with the Training data\n",
    "Details about the network layers:\n",
    "- A first affine layer has 784 inputs and does 100 affine transforms. These are followed by a Relu\n",
    "- A second affine layer has 100 inputs from the 100 activations of the past layer, and does 100 affine transforms. These are followed by a Relu\n",
    "- A third affine layer has 100 activations and does 2 affine transformations to create an embedding for visualization. There is no non-linearity here.\n",
    "- A final \"logistic regression\" which has an affine transform from 2 inputs to 1 output, which is squeezed through a sigmoid.\n",
    "\n",
    "Help taken from Anshuman's Notebook."
   ]
  },
  {
   "cell_type": "code",
   "execution_count": 18,
   "metadata": {
    "execution": {
     "iopub.execute_input": "2020-11-07T10:14:09.151922Z",
     "iopub.status.busy": "2020-11-07T10:14:09.151233Z",
     "iopub.status.idle": "2020-11-07T10:14:09.170082Z",
     "shell.execute_reply": "2020-11-07T10:14:09.170650Z"
    },
    "papermill": {
     "duration": 0.057435,
     "end_time": "2020-11-07T10:14:09.170854",
     "exception": false,
     "start_time": "2020-11-07T10:14:09.113419",
     "status": "completed"
    },
    "tags": []
   },
   "outputs": [],
   "source": [
    "# layers for the Neural Network\n",
    "layers = [Affine(\"first\", 784, 100), Relu(\"first\"), Affine(\"second\", 100, 100), Relu(\"second\"), Affine(\"third\", 100, 2), Affine(\"final\", 2, 1), Sigmoid(\"final\")]\n",
    "model_nn = Model(layers)\n",
    "\n",
    "# layers for the Logistic Regression\n",
    "layers_lr = [Affine(\"logits\", 784, 1), Sigmoid(\"sigmoid\")]\n",
    "model_lr = Model(layers_lr)"
   ]
  },
  {
   "cell_type": "code",
   "execution_count": 19,
   "metadata": {
    "execution": {
     "iopub.execute_input": "2020-11-07T10:14:09.274594Z",
     "iopub.status.busy": "2020-11-07T10:14:09.273931Z",
     "iopub.status.idle": "2020-11-07T10:14:09.288872Z",
     "shell.execute_reply": "2020-11-07T10:14:09.288260Z"
    },
    "papermill": {
     "duration": 0.061341,
     "end_time": "2020-11-07T10:14:09.289035",
     "exception": false,
     "start_time": "2020-11-07T10:14:09.227694",
     "status": "completed"
    },
    "tags": []
   },
   "outputs": [],
   "source": [
    "# suffix _nn stands for Neural Network.\n",
    "learner_nn = Learner(loss, model_nn, opt, config.num_epochs)\n",
    "acc_nn = ClfCallback(learner_nn, config.bs, training_xdata , testing_xdata, training_ydata, testing_ydata)\n",
    "learner_nn.set_callbacks([acc_nn])"
   ]
  },
  {
   "cell_type": "code",
   "execution_count": 20,
   "metadata": {
    "execution": {
     "iopub.execute_input": "2020-11-07T10:14:09.360084Z",
     "iopub.status.busy": "2020-11-07T10:14:09.359410Z",
     "iopub.status.idle": "2020-11-07T10:16:37.318738Z",
     "shell.execute_reply": "2020-11-07T10:16:37.319610Z"
    },
    "papermill": {
     "duration": 147.997564,
     "end_time": "2020-11-07T10:16:37.319788",
     "exception": false,
     "start_time": "2020-11-07T10:14:09.322224",
     "status": "completed"
    },
    "tags": []
   },
   "outputs": [
    {
     "name": "stdout",
     "output_type": "stream",
     "text": [
      "====== Neural Network ======\n"
     ]
    },
    {
     "name": "stdout",
     "output_type": "stream",
     "text": [
      "Epoch 0, Loss 0.2571\n",
      "Training Accuracy: 0.6715, Testing Accuracy: 0.6830\n",
      "\n"
     ]
    },
    {
     "name": "stdout",
     "output_type": "stream",
     "text": [
      "Epoch 10, Loss 0.0672\n",
      "Training Accuracy: 0.9340, Testing Accuracy: 0.9471\n",
      "\n"
     ]
    },
    {
     "name": "stdout",
     "output_type": "stream",
     "text": [
      "Epoch 20, Loss 0.0447\n",
      "Training Accuracy: 0.9536, Testing Accuracy: 0.9597\n",
      "\n"
     ]
    },
    {
     "name": "stdout",
     "output_type": "stream",
     "text": [
      "Epoch 30, Loss 0.0368\n",
      "Training Accuracy: 0.9589, Testing Accuracy: 0.9637\n",
      "\n"
     ]
    },
    {
     "name": "stdout",
     "output_type": "stream",
     "text": [
      "Epoch 40, Loss 0.0326\n",
      "Training Accuracy: 0.9625, Testing Accuracy: 0.9698\n",
      "\n"
     ]
    },
    {
     "name": "stdout",
     "output_type": "stream",
     "text": [
      "Epoch 50, Loss 0.0299\n",
      "Training Accuracy: 0.9659, Testing Accuracy: 0.9688\n",
      "\n"
     ]
    },
    {
     "name": "stdout",
     "output_type": "stream",
     "text": [
      "Epoch 60, Loss 0.0279\n",
      "Training Accuracy: 0.9680, Testing Accuracy: 0.9708\n",
      "\n"
     ]
    },
    {
     "name": "stdout",
     "output_type": "stream",
     "text": [
      "Epoch 70, Loss 0.0263\n",
      "Training Accuracy: 0.9701, Testing Accuracy: 0.9713\n",
      "\n"
     ]
    },
    {
     "name": "stdout",
     "output_type": "stream",
     "text": [
      "Epoch 80, Loss 0.025\n",
      "Training Accuracy: 0.9714, Testing Accuracy: 0.9728\n",
      "\n"
     ]
    },
    {
     "name": "stdout",
     "output_type": "stream",
     "text": [
      "Epoch 90, Loss 0.0239\n",
      "Training Accuracy: 0.9726, Testing Accuracy: 0.9728\n",
      "\n"
     ]
    },
    {
     "name": "stdout",
     "output_type": "stream",
     "text": [
      "Epoch 100, Loss 0.0229\n",
      "Training Accuracy: 0.9743, Testing Accuracy: 0.9743\n",
      "\n"
     ]
    },
    {
     "name": "stdout",
     "output_type": "stream",
     "text": [
      "Epoch 110, Loss 0.0221\n",
      "Training Accuracy: 0.9751, Testing Accuracy: 0.9738\n",
      "\n"
     ]
    },
    {
     "name": "stdout",
     "output_type": "stream",
     "text": [
      "Epoch 120, Loss 0.0213\n",
      "Training Accuracy: 0.9758, Testing Accuracy: 0.9748\n",
      "\n"
     ]
    },
    {
     "name": "stdout",
     "output_type": "stream",
     "text": [
      "Epoch 130, Loss 0.0206\n",
      "Training Accuracy: 0.9765, Testing Accuracy: 0.9753\n",
      "\n"
     ]
    },
    {
     "name": "stdout",
     "output_type": "stream",
     "text": [
      "Epoch 140, Loss 0.0199\n",
      "Training Accuracy: 0.9773, Testing Accuracy: 0.9743\n",
      "\n"
     ]
    },
    {
     "name": "stdout",
     "output_type": "stream",
     "text": [
      "Epoch 150, Loss 0.0193\n",
      "Training Accuracy: 0.9780, Testing Accuracy: 0.9753\n",
      "\n"
     ]
    },
    {
     "name": "stdout",
     "output_type": "stream",
     "text": [
      "Epoch 160, Loss 0.0188\n",
      "Training Accuracy: 0.9790, Testing Accuracy: 0.9753\n",
      "\n"
     ]
    },
    {
     "name": "stdout",
     "output_type": "stream",
     "text": [
      "Epoch 170, Loss 0.0182\n",
      "Training Accuracy: 0.9801, Testing Accuracy: 0.9758\n",
      "\n"
     ]
    },
    {
     "name": "stdout",
     "output_type": "stream",
     "text": [
      "Epoch 180, Loss 0.0177\n",
      "Training Accuracy: 0.9806, Testing Accuracy: 0.9763\n",
      "\n"
     ]
    },
    {
     "name": "stdout",
     "output_type": "stream",
     "text": [
      "Epoch 190, Loss 0.0173\n",
      "Training Accuracy: 0.9812, Testing Accuracy: 0.9763\n",
      "\n"
     ]
    },
    {
     "name": "stdout",
     "output_type": "stream",
     "text": [
      "Epoch 200, Loss 0.0168\n",
      "Training Accuracy: 0.9818, Testing Accuracy: 0.9763\n",
      "\n"
     ]
    },
    {
     "name": "stdout",
     "output_type": "stream",
     "text": [
      "Epoch 210, Loss 0.0164\n",
      "Training Accuracy: 0.9822, Testing Accuracy: 0.9773\n",
      "\n"
     ]
    },
    {
     "name": "stdout",
     "output_type": "stream",
     "text": [
      "Epoch 220, Loss 0.0159\n",
      "Training Accuracy: 0.9831, Testing Accuracy: 0.9773\n",
      "\n"
     ]
    },
    {
     "name": "stdout",
     "output_type": "stream",
     "text": [
      "Epoch 230, Loss 0.0155\n",
      "Training Accuracy: 0.9836, Testing Accuracy: 0.9778\n",
      "\n"
     ]
    },
    {
     "name": "stdout",
     "output_type": "stream",
     "text": [
      "Epoch 240, Loss 0.0151\n",
      "Training Accuracy: 0.9841, Testing Accuracy: 0.9778\n",
      "\n"
     ]
    },
    {
     "name": "stdout",
     "output_type": "stream",
     "text": [
      "Epoch 250, Loss 0.0148\n",
      "Training Accuracy: 0.9845, Testing Accuracy: 0.9783\n",
      "\n"
     ]
    },
    {
     "data": {
      "text/plain": [
       "0.018768278519699144"
      ]
     },
     "execution_count": 20,
     "metadata": {},
     "output_type": "execute_result"
    }
   ],
   "source": [
    "print(\"====== Neural Network ======\")\n",
    "learner_nn.train_loop(dl)"
   ]
  },
  {
   "cell_type": "markdown",
   "metadata": {
    "papermill": {
     "duration": 0.049399,
     "end_time": "2020-11-07T10:16:37.415672",
     "exception": false,
     "start_time": "2020-11-07T10:16:37.366273",
     "status": "completed"
    },
    "tags": []
   },
   "source": [
    "### Logistic Regression based Implementation."
   ]
  },
  {
   "cell_type": "code",
   "execution_count": 21,
   "metadata": {
    "execution": {
     "iopub.execute_input": "2020-11-07T10:16:37.509428Z",
     "iopub.status.busy": "2020-11-07T10:16:37.508731Z",
     "iopub.status.idle": "2020-11-07T10:16:37.522942Z",
     "shell.execute_reply": "2020-11-07T10:16:37.522263Z"
    },
    "papermill": {
     "duration": 0.062656,
     "end_time": "2020-11-07T10:16:37.523094",
     "exception": false,
     "start_time": "2020-11-07T10:16:37.460438",
     "status": "completed"
    },
    "tags": []
   },
   "outputs": [],
   "source": [
    "learner_lr = Learner(loss, model_lr, opt, config.num_epochs)\n",
    "acc_lr = ClfCallback(learner_lr, config.bs, training_xdata , testing_xdata, training_ydata, testing_ydata)\n",
    "learner_lr.set_callbacks([acc_lr])"
   ]
  },
  {
   "cell_type": "code",
   "execution_count": 22,
   "metadata": {
    "execution": {
     "iopub.execute_input": "2020-11-07T10:16:37.637179Z",
     "iopub.status.busy": "2020-11-07T10:16:37.636062Z",
     "iopub.status.idle": "2020-11-07T10:16:59.686303Z",
     "shell.execute_reply": "2020-11-07T10:16:59.687277Z"
    },
    "papermill": {
     "duration": 22.109785,
     "end_time": "2020-11-07T10:16:59.687457",
     "exception": false,
     "start_time": "2020-11-07T10:16:37.577672",
     "status": "completed"
    },
    "tags": []
   },
   "outputs": [
    {
     "name": "stdout",
     "output_type": "stream",
     "text": [
      "====== Logistic Regression ======\n",
      "Epoch 0, Loss 0.2146\n",
      "Training Accuracy: 0.7615, Testing Accuracy: 0.7621\n",
      "\n"
     ]
    },
    {
     "name": "stdout",
     "output_type": "stream",
     "text": [
      "Epoch 10, Loss 0.1023\n",
      "Training Accuracy: 0.9045, Testing Accuracy: 0.9143\n",
      "\n"
     ]
    },
    {
     "name": "stdout",
     "output_type": "stream",
     "text": [
      "Epoch 20, Loss 0.0792\n",
      "Training Accuracy: 0.9266, Testing Accuracy: 0.9345\n",
      "\n"
     ]
    },
    {
     "name": "stdout",
     "output_type": "stream",
     "text": [
      "Epoch 30, Loss 0.0682\n",
      "Training Accuracy: 0.9362, Testing Accuracy: 0.9456\n",
      "\n"
     ]
    },
    {
     "name": "stdout",
     "output_type": "stream",
     "text": [
      "Epoch 40, Loss 0.0616\n",
      "Training Accuracy: 0.9423, Testing Accuracy: 0.9496\n",
      "\n"
     ]
    },
    {
     "name": "stdout",
     "output_type": "stream",
     "text": [
      "Epoch 50, Loss 0.0571\n",
      "Training Accuracy: 0.9458, Testing Accuracy: 0.9521\n",
      "\n"
     ]
    },
    {
     "name": "stdout",
     "output_type": "stream",
     "text": [
      "Epoch 60, Loss 0.0537\n",
      "Training Accuracy: 0.9483, Testing Accuracy: 0.9561\n",
      "\n"
     ]
    },
    {
     "name": "stdout",
     "output_type": "stream",
     "text": [
      "Epoch 70, Loss 0.0511\n",
      "Training Accuracy: 0.9505, Testing Accuracy: 0.9577\n",
      "\n"
     ]
    },
    {
     "name": "stdout",
     "output_type": "stream",
     "text": [
      "Epoch 80, Loss 0.0491\n",
      "Training Accuracy: 0.9518, Testing Accuracy: 0.9587\n",
      "\n"
     ]
    },
    {
     "name": "stdout",
     "output_type": "stream",
     "text": [
      "Epoch 90, Loss 0.0474\n",
      "Training Accuracy: 0.9523, Testing Accuracy: 0.9597\n",
      "\n"
     ]
    },
    {
     "name": "stdout",
     "output_type": "stream",
     "text": [
      "Epoch 100, Loss 0.0459\n",
      "Training Accuracy: 0.9533, Testing Accuracy: 0.9602\n",
      "\n"
     ]
    },
    {
     "name": "stdout",
     "output_type": "stream",
     "text": [
      "Epoch 110, Loss 0.0447\n",
      "Training Accuracy: 0.9538, Testing Accuracy: 0.9617\n",
      "\n"
     ]
    },
    {
     "name": "stdout",
     "output_type": "stream",
     "text": [
      "Epoch 120, Loss 0.0437\n",
      "Training Accuracy: 0.9548, Testing Accuracy: 0.9617\n",
      "\n"
     ]
    },
    {
     "name": "stdout",
     "output_type": "stream",
     "text": [
      "Epoch 130, Loss 0.0427\n",
      "Training Accuracy: 0.9552, Testing Accuracy: 0.9622\n",
      "\n"
     ]
    },
    {
     "name": "stdout",
     "output_type": "stream",
     "text": [
      "Epoch 140, Loss 0.0419\n",
      "Training Accuracy: 0.9559, Testing Accuracy: 0.9627\n",
      "\n"
     ]
    },
    {
     "name": "stdout",
     "output_type": "stream",
     "text": [
      "Epoch 150, Loss 0.0411\n",
      "Training Accuracy: 0.9568, Testing Accuracy: 0.9627\n",
      "\n"
     ]
    },
    {
     "name": "stdout",
     "output_type": "stream",
     "text": [
      "Epoch 160, Loss 0.0405\n",
      "Training Accuracy: 0.9571, Testing Accuracy: 0.9642\n",
      "\n"
     ]
    },
    {
     "name": "stdout",
     "output_type": "stream",
     "text": [
      "Epoch 170, Loss 0.0399\n",
      "Training Accuracy: 0.9579, Testing Accuracy: 0.9647\n",
      "\n"
     ]
    },
    {
     "name": "stdout",
     "output_type": "stream",
     "text": [
      "Epoch 180, Loss 0.0393\n",
      "Training Accuracy: 0.9587, Testing Accuracy: 0.9647\n",
      "\n"
     ]
    },
    {
     "name": "stdout",
     "output_type": "stream",
     "text": [
      "Epoch 190, Loss 0.0388\n",
      "Training Accuracy: 0.9594, Testing Accuracy: 0.9657\n",
      "\n"
     ]
    },
    {
     "name": "stdout",
     "output_type": "stream",
     "text": [
      "Epoch 200, Loss 0.0383\n",
      "Training Accuracy: 0.9596, Testing Accuracy: 0.9662\n",
      "\n"
     ]
    },
    {
     "name": "stdout",
     "output_type": "stream",
     "text": [
      "Epoch 210, Loss 0.0379\n",
      "Training Accuracy: 0.9599, Testing Accuracy: 0.9662\n",
      "\n"
     ]
    },
    {
     "name": "stdout",
     "output_type": "stream",
     "text": [
      "Epoch 220, Loss 0.0374\n",
      "Training Accuracy: 0.9604, Testing Accuracy: 0.9667\n",
      "\n"
     ]
    },
    {
     "name": "stdout",
     "output_type": "stream",
     "text": [
      "Epoch 230, Loss 0.0371\n",
      "Training Accuracy: 0.9609, Testing Accuracy: 0.9682\n",
      "\n"
     ]
    },
    {
     "name": "stdout",
     "output_type": "stream",
     "text": [
      "Epoch 240, Loss 0.0367\n",
      "Training Accuracy: 0.9614, Testing Accuracy: 0.9682\n",
      "\n"
     ]
    },
    {
     "name": "stdout",
     "output_type": "stream",
     "text": [
      "Epoch 250, Loss 0.0364\n",
      "Training Accuracy: 0.9617, Testing Accuracy: 0.9682\n",
      "\n"
     ]
    },
    {
     "data": {
      "text/plain": [
       "0.031031372583849328"
      ]
     },
     "execution_count": 22,
     "metadata": {},
     "output_type": "execute_result"
    }
   ],
   "source": [
    "print(\"====== Logistic Regression ======\")\n",
    "learner_lr.train_loop(dl)"
   ]
  },
  {
   "cell_type": "markdown",
   "metadata": {
    "papermill": {
     "duration": 0.052276,
     "end_time": "2020-11-07T10:16:59.790938",
     "exception": false,
     "start_time": "2020-11-07T10:16:59.738662",
     "status": "completed"
    },
    "tags": []
   },
   "source": [
    "### Comparing results of NN and LR"
   ]
  },
  {
   "cell_type": "code",
   "execution_count": 23,
   "metadata": {
    "execution": {
     "iopub.execute_input": "2020-11-07T10:16:59.903559Z",
     "iopub.status.busy": "2020-11-07T10:16:59.902294Z",
     "iopub.status.idle": "2020-11-07T10:17:00.238586Z",
     "shell.execute_reply": "2020-11-07T10:17:00.237954Z"
    },
    "papermill": {
     "duration": 0.39571,
     "end_time": "2020-11-07T10:17:00.238763",
     "exception": false,
     "start_time": "2020-11-07T10:16:59.843053",
     "status": "completed"
    },
    "tags": []
   },
   "outputs": [
    {
     "data": {
      "text/plain": [
       "<matplotlib.legend.Legend at 0x7f01706b2128>"
      ]
     },
     "execution_count": 23,
     "metadata": {},
     "output_type": "execute_result"
    },
    {
     "data": {
      "image/png": "[encoded data removed]",
      "text/plain": [
       "<Figure size 1080x720 with 1 Axes>"
      ]
     },
     "metadata": {
      "needs_background": "light"
     },
     "output_type": "display_data"
    }
   ],
   "source": [
    "plt.figure(figsize=(15,10))\n",
    "\n",
    "# Neural Network plots\n",
    "plt.plot(acc_nn.accuracies, 'r-', label = \"Training Accuracies - NN\")\n",
    "plt.plot(acc_nn.test_accuracies, 'g-', label = \"Testing Accuracies - NN\")\n",
    "\n",
    "# Logistic Regression plots\n",
    "plt.plot(acc_lr.accuracies, 'k-', label = \"Training Accuracies - LR\")\n",
    "plt.plot(acc_lr.test_accuracies, 'b-', label = \"Testing Accuracies - LR\")\n",
    "\n",
    "plt.ylim(0.8, 1)\n",
    "\n",
    "plt.legend()\n",
    "\n"
   ]
  },
  {
   "cell_type": "markdown",
   "metadata": {
    "papermill": {
     "duration": 0.054455,
     "end_time": "2020-11-07T10:17:00.346426",
     "exception": false,
     "start_time": "2020-11-07T10:17:00.291971",
     "status": "completed"
    },
    "tags": []
   },
   "source": [
    "### From the plot, we can observe the following:\n",
    "- Neural Network achieves higher accuracy than the Logistic Regression model.\n",
    "- This apparently, is because of overfitting, i.e. NN captures more noise than data.\n",
    "- Testing accuracy of NN drops below the Training accuracy at higher epochs. This explains the over-fitting on training data.\n",
    "- Logistic Regression gives a reliable accuracy, without the above mentioned problem.\n"
   ]
  },
  {
   "cell_type": "markdown",
   "metadata": {
    "papermill": {
     "duration": 0.059715,
     "end_time": "2020-11-07T10:17:00.459593",
     "exception": false,
     "start_time": "2020-11-07T10:17:00.399878",
     "status": "completed"
    },
    "tags": []
   },
   "source": [
    "### Moving till the last but one layer (excluding it).\n",
    "#### Plotting the outputs of this layer of the NN."
   ]
  },
  {
   "cell_type": "code",
   "execution_count": 24,
   "metadata": {
    "execution": {
     "iopub.execute_input": "2020-11-07T10:17:00.571357Z",
     "iopub.status.busy": "2020-11-07T10:17:00.570443Z",
     "iopub.status.idle": "2020-11-07T10:17:00.589382Z",
     "shell.execute_reply": "2020-11-07T10:17:00.589960Z"
    },
    "papermill": {
     "duration": 0.076275,
     "end_time": "2020-11-07T10:17:00.590168",
     "exception": false,
     "start_time": "2020-11-07T10:17:00.513893",
     "status": "completed"
    },
    "tags": []
   },
   "outputs": [],
   "source": [
    "model_new = Model(layers[:-2])"
   ]
  },
  {
   "cell_type": "code",
   "execution_count": 25,
   "metadata": {
    "execution": {
     "iopub.execute_input": "2020-11-07T10:17:00.704681Z",
     "iopub.status.busy": "2020-11-07T10:17:00.700033Z",
     "iopub.status.idle": "2020-11-07T10:17:00.729816Z",
     "shell.execute_reply": "2020-11-07T10:17:00.730411Z"
    },
    "papermill": {
     "duration": 0.085944,
     "end_time": "2020-11-07T10:17:00.730604",
     "exception": false,
     "start_time": "2020-11-07T10:17:00.644660",
     "status": "completed"
    },
    "tags": []
   },
   "outputs": [],
   "source": [
    "plot_testing = model_new(testing_xdata)"
   ]
  },
  {
   "cell_type": "code",
   "execution_count": 26,
   "metadata": {
    "execution": {
     "iopub.execute_input": "2020-11-07T10:17:00.848824Z",
     "iopub.status.busy": "2020-11-07T10:17:00.848149Z",
     "iopub.status.idle": "2020-11-07T10:17:01.080464Z",
     "shell.execute_reply": "2020-11-07T10:17:01.080993Z"
    },
    "papermill": {
     "duration": 0.292784,
     "end_time": "2020-11-07T10:17:01.081173",
     "exception": false,
     "start_time": "2020-11-07T10:17:00.788389",
     "status": "completed"
    },
    "tags": []
   },
   "outputs": [
    {
     "data": {
      "text/plain": [
       "Text(0.5, 1.0, 'Outputs')"
      ]
     },
     "execution_count": 26,
     "metadata": {},
     "output_type": "execute_result"
    },
    {
     "data": {
      "image/png": "[encoded data removed]",
      "text/plain": [
       "<Figure size 576x504 with 1 Axes>"
      ]
     },
     "metadata": {
      "needs_background": "light"
     },
     "output_type": "display_data"
    }
   ],
   "source": [
    "plt.figure(figsize=(8,7))\n",
    "plt.scatter(plot_testing[:,0], plot_testing[:,1], alpha = 0.1, c = y_test.ravel());\n",
    "plt.title('Outputs')"
   ]
  },
  {
   "cell_type": "markdown",
   "metadata": {
    "papermill": {
     "duration": 0.056988,
     "end_time": "2020-11-07T10:17:01.196494",
     "exception": false,
     "start_time": "2020-11-07T10:17:01.139506",
     "status": "completed"
    },
    "tags": []
   },
   "source": [
    "### Plotting probability contours"
   ]
  },
  {
   "cell_type": "code",
   "execution_count": 27,
   "metadata": {
    "execution": {
     "iopub.execute_input": "2020-11-07T10:17:01.315658Z",
     "iopub.status.busy": "2020-11-07T10:17:01.310479Z",
     "iopub.status.idle": "2020-11-07T10:17:01.331154Z",
     "shell.execute_reply": "2020-11-07T10:17:01.330500Z"
    },
    "papermill": {
     "duration": 0.081066,
     "end_time": "2020-11-07T10:17:01.331304",
     "exception": false,
     "start_time": "2020-11-07T10:17:01.250238",
     "status": "completed"
    },
    "tags": []
   },
   "outputs": [],
   "source": [
    "model_prob = Model(layers[-2:]) "
   ]
  },
  {
   "cell_type": "code",
   "execution_count": 28,
   "metadata": {
    "execution": {
     "iopub.execute_input": "2020-11-07T10:17:01.460155Z",
     "iopub.status.busy": "2020-11-07T10:17:01.455401Z",
     "iopub.status.idle": "2020-11-07T10:17:01.472724Z",
     "shell.execute_reply": "2020-11-07T10:17:01.472031Z"
    },
    "papermill": {
     "duration": 0.082032,
     "end_time": "2020-11-07T10:17:01.472886",
     "exception": false,
     "start_time": "2020-11-07T10:17:01.390854",
     "status": "completed"
    },
    "tags": []
   },
   "outputs": [],
   "source": [
    "# Adjust the x and y ranges according to the above generated plot.\n",
    "x_range = np.linspace(-4, 1, 100) \n",
    "y_range = np.linspace(-6, 6, 100) \n",
    "x_grid, y_grid = np.meshgrid(x_range, y_range) # x_grid and y_grig are of size 100 X 100\n",
    "\n",
    "# converting x_grid and y_grid to continuous arrays\n",
    "x_grid_flat = np.ravel(x_grid)\n",
    "y_grid_flat = np.ravel(y_grid)\n",
    "\n",
    "# The last layer of the current model takes two columns as input. Hence transpose of np.vstack() is required.\n",
    "X = np.vstack((x_grid_flat, y_grid_flat)).T\n",
    "\n",
    "# x_grid and y_grid are of size 100 x 100\n",
    "probability_contour = model_prob(X).reshape(100,100) "
   ]
  },
  {
   "cell_type": "code",
   "execution_count": 29,
   "metadata": {
    "execution": {
     "iopub.execute_input": "2020-11-07T10:17:01.589915Z",
     "iopub.status.busy": "2020-11-07T10:17:01.589230Z",
     "iopub.status.idle": "2020-11-07T10:17:01.933487Z",
     "shell.execute_reply": "2020-11-07T10:17:01.934098Z"
    },
    "papermill": {
     "duration": 0.403685,
     "end_time": "2020-11-07T10:17:01.934283",
     "exception": false,
     "start_time": "2020-11-07T10:17:01.530598",
     "status": "completed"
    },
    "tags": []
   },
   "outputs": [
    {
     "data": {
      "image/png": "[encoded data removed]",
      "text/plain": [
       "<Figure size 720x648 with 1 Axes>"
      ]
     },
     "metadata": {
      "needs_background": "light"
     },
     "output_type": "display_data"
    }
   ],
   "source": [
    "plt.figure(figsize=(10,9))\n",
    "plt.scatter(plot_testing[:,0], plot_testing[:,1], alpha = 0.1, c = y_test.ravel())\n",
    "contours = plt.contour(x_grid,y_grid,probability_contour)\n",
    "plt.title('Probability Contours')\n",
    "plt.clabel(contours, inline = True );"
   ]
  }
 ],
 "metadata": {
  "kernelspec": {
   "display_name": "Python 3",
   "language": "python",
   "name": "python3"
  },
  "language_info": {
   "codemirror_mode": {
    "name": "ipython",
    "version": 3
   },
   "file_extension": ".py",
   "mimetype": "text/x-python",
   "name": "python",
   "nbconvert_exporter": "python",
   "pygments_lexer": "ipython3",
   "version": "3.6.12"
  },
  "papermill": {
   "duration": 181.477359,
   "end_time": "2020-11-07T10:17:03.295342",
   "environment_variables": {},
   "exception": null,
   "input_path": "2020-08-11-NeuralNetwork.ipynb",
   "output_path": "2020-08-11-NeuralNetwork.ipynb",
   "parameters": {},
   "start_time": "2020-11-07T10:14:01.817983",
   "version": "2.1.2"
  }
 },
 "nbformat": 4,
 "nbformat_minor": 4
}