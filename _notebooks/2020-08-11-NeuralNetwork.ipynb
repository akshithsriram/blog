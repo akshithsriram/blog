{
 "cells": [
  {
   "cell_type": "markdown",
   "metadata": {
    "papermill": {
     "duration": 0.033964,
     "end_time": "2020-12-22T10:11:27.896971",
     "exception": false,
     "start_time": "2020-12-22T10:11:27.863007",
     "status": "completed"
    },
    "tags": []
   },
   "source": [
    "# \"A Basic Neural Network: Differentiate Hand-Written Digits\"\n",
    "\n",
    "- badges: true\n",
    "- author: Akshith Sriram"
   ]
  },
  {
   "cell_type": "markdown",
   "metadata": {
    "papermill": {
     "duration": 0.029239,
     "end_time": "2020-12-22T10:11:27.956348",
     "exception": false,
     "start_time": "2020-12-22T10:11:27.927109",
     "status": "completed"
    },
    "tags": []
   },
   "source": [
    "### Key Objectives:\n",
    "- Building a neural network that differentiates two hand-written digits 3 and 8.\n",
    "- Comparing the results of this Neural Network (NN) to that of a Logistic Regression (LR) model.\n",
    "\n",
    "### Requirements:\n",
    "- 'Kudzu' : A neural network library that was designed during our course by [Univ.AI](www.univ.ai). \n",
    "- MNIST Database\n",
    "\n",
    "If MNIST is not installed, use the command `!pip install mnist` given below.\n",
    "It can be run both from the command line and Jupyter Notebook."
   ]
  },
  {
   "cell_type": "code",
   "execution_count": 1,
   "metadata": {
    "execution": {
     "iopub.execute_input": "2020-12-22T10:11:28.026528Z",
     "iopub.status.busy": "2020-12-22T10:11:28.025773Z",
     "iopub.status.idle": "2020-12-22T10:11:29.838527Z",
     "shell.execute_reply": "2020-12-22T10:11:29.837901Z"
    },
    "papermill": {
     "duration": 1.852262,
     "end_time": "2020-12-22T10:11:29.838731",
     "exception": false,
     "start_time": "2020-12-22T10:11:27.986469",
     "status": "completed"
    },
    "tags": []
   },
   "outputs": [
    {
     "name": "stdout",
     "output_type": "stream",
     "text": [
      "Collecting mnist\r\n"
     ]
    },
    {
     "name": "stdout",
     "output_type": "stream",
     "text": [
      "  Downloading mnist-0.2.2-py2.py3-none-any.whl (3.5 kB)\r\n",
      "Requirement already satisfied: numpy in /opt/hostedtoolcache/Python/3.6.12/x64/lib/python3.6/site-packages (from mnist) (1.19.4)\r\n"
     ]
    },
    {
     "name": "stdout",
     "output_type": "stream",
     "text": [
      "Installing collected packages: mnist\r\n"
     ]
    },
    {
     "name": "stdout",
     "output_type": "stream",
     "text": [
      "Successfully installed mnist-0.2.2\r\n"
     ]
    },
    {
     "name": "stdout",
     "output_type": "stream",
     "text": [
      "\u001b[33mWARNING: You are using pip version 20.3.1; however, version 20.3.3 is available.\r\n",
      "You should consider upgrading via the '/opt/hostedtoolcache/Python/3.6.12/x64/bin/python -m pip install --upgrade pip' command.\u001b[0m\r\n"
     ]
    }
   ],
   "source": [
    "!pip install mnist "
   ]
  },
  {
   "cell_type": "markdown",
   "metadata": {
    "papermill": {
     "duration": 0.030538,
     "end_time": "2020-12-22T10:11:29.900245",
     "exception": false,
     "start_time": "2020-12-22T10:11:29.869707",
     "status": "completed"
    },
    "tags": []
   },
   "source": [
    "#### Importing necessary libraries"
   ]
  },
  {
   "cell_type": "code",
   "execution_count": 2,
   "metadata": {
    "execution": {
     "iopub.execute_input": "2020-12-22T10:11:29.971429Z",
     "iopub.status.busy": "2020-12-22T10:11:29.970714Z",
     "iopub.status.idle": "2020-12-22T10:11:30.624215Z",
     "shell.execute_reply": "2020-12-22T10:11:30.623632Z"
    },
    "papermill": {
     "duration": 0.693051,
     "end_time": "2020-12-22T10:11:30.624378",
     "exception": false,
     "start_time": "2020-12-22T10:11:29.931327",
     "status": "completed"
    },
    "tags": []
   },
   "outputs": [],
   "source": [
    "%load_ext autoreload\n",
    "%autoreload 2\n",
    "\n",
    "%matplotlib inline\n",
    "import matplotlib.pyplot as plt\n",
    "\n",
    "import numpy as np\n",
    "import pandas as pd"
   ]
  },
  {
   "cell_type": "markdown",
   "metadata": {
    "papermill": {
     "duration": 0.031827,
     "end_time": "2020-12-22T10:11:30.687670",
     "exception": false,
     "start_time": "2020-12-22T10:11:30.655843",
     "status": "completed"
    },
    "tags": []
   },
   "source": [
    "### Preparing the Data"
   ]
  },
  {
   "cell_type": "code",
   "execution_count": 3,
   "metadata": {
    "execution": {
     "iopub.execute_input": "2020-12-22T10:11:30.760639Z",
     "iopub.status.busy": "2020-12-22T10:11:30.759937Z",
     "iopub.status.idle": "2020-12-22T10:11:30.769962Z",
     "shell.execute_reply": "2020-12-22T10:11:30.769316Z"
    },
    "papermill": {
     "duration": 0.051178,
     "end_time": "2020-12-22T10:11:30.770122",
     "exception": false,
     "start_time": "2020-12-22T10:11:30.718944",
     "status": "completed"
    },
    "tags": []
   },
   "outputs": [],
   "source": [
    "import mnist"
   ]
  },
  {
   "cell_type": "code",
   "execution_count": 4,
   "metadata": {
    "execution": {
     "iopub.execute_input": "2020-12-22T10:11:30.839654Z",
     "iopub.status.busy": "2020-12-22T10:11:30.838960Z",
     "iopub.status.idle": "2020-12-22T10:11:32.520979Z",
     "shell.execute_reply": "2020-12-22T10:11:32.519807Z"
    },
    "papermill": {
     "duration": 1.719794,
     "end_time": "2020-12-22T10:11:32.521143",
     "exception": false,
     "start_time": "2020-12-22T10:11:30.801349",
     "status": "completed"
    },
    "tags": []
   },
   "outputs": [],
   "source": [
    "train_images = mnist.train_images()\n",
    "train_labels = mnist.train_labels()"
   ]
  },
  {
   "cell_type": "code",
   "execution_count": 5,
   "metadata": {
    "execution": {
     "iopub.execute_input": "2020-12-22T10:11:32.589335Z",
     "iopub.status.busy": "2020-12-22T10:11:32.588651Z",
     "iopub.status.idle": "2020-12-22T10:11:32.603586Z",
     "shell.execute_reply": "2020-12-22T10:11:32.603006Z"
    },
    "papermill": {
     "duration": 0.051794,
     "end_time": "2020-12-22T10:11:32.603735",
     "exception": false,
     "start_time": "2020-12-22T10:11:32.551941",
     "status": "completed"
    },
    "tags": []
   },
   "outputs": [
    {
     "data": {
      "text/plain": [
       "((60000, 28, 28), (60000,))"
      ]
     },
     "execution_count": 5,
     "metadata": {},
     "output_type": "execute_result"
    }
   ],
   "source": [
    "train_images.shape, train_labels.shape"
   ]
  },
  {
   "cell_type": "code",
   "execution_count": 6,
   "metadata": {
    "execution": {
     "iopub.execute_input": "2020-12-22T10:11:32.675604Z",
     "iopub.status.busy": "2020-12-22T10:11:32.674860Z",
     "iopub.status.idle": "2020-12-22T10:11:33.471887Z",
     "shell.execute_reply": "2020-12-22T10:11:33.472479Z"
    },
    "papermill": {
     "duration": 0.836884,
     "end_time": "2020-12-22T10:11:33.472657",
     "exception": false,
     "start_time": "2020-12-22T10:11:32.635773",
     "status": "completed"
    },
    "tags": []
   },
   "outputs": [],
   "source": [
    "test_images = mnist.test_images()\n",
    "test_labels = mnist.test_labels()"
   ]
  },
  {
   "cell_type": "code",
   "execution_count": 7,
   "metadata": {
    "execution": {
     "iopub.execute_input": "2020-12-22T10:11:33.540760Z",
     "iopub.status.busy": "2020-12-22T10:11:33.540106Z",
     "iopub.status.idle": "2020-12-22T10:11:33.555179Z",
     "shell.execute_reply": "2020-12-22T10:11:33.554606Z"
    },
    "papermill": {
     "duration": 0.052056,
     "end_time": "2020-12-22T10:11:33.555344",
     "exception": false,
     "start_time": "2020-12-22T10:11:33.503288",
     "status": "completed"
    },
    "tags": []
   },
   "outputs": [
    {
     "data": {
      "text/plain": [
       "((10000, 28, 28), (10000,))"
      ]
     },
     "execution_count": 7,
     "metadata": {},
     "output_type": "execute_result"
    }
   ],
   "source": [
    "test_images.shape, test_labels.shape"
   ]
  },
  {
   "cell_type": "code",
   "execution_count": 8,
   "metadata": {
    "execution": {
     "iopub.execute_input": "2020-12-22T10:11:33.651625Z",
     "iopub.status.busy": "2020-12-22T10:11:33.628247Z",
     "iopub.status.idle": "2020-12-22T10:11:33.813640Z",
     "shell.execute_reply": "2020-12-22T10:11:33.813067Z"
    },
    "papermill": {
     "duration": 0.227447,
     "end_time": "2020-12-22T10:11:33.813796",
     "exception": false,
     "start_time": "2020-12-22T10:11:33.586349",
     "status": "completed"
    },
    "tags": []
   },
   "outputs": [
    {
     "name": "stdout",
     "output_type": "stream",
     "text": [
      "2\n"
     ]
    },
    {
     "data": {
      "text/plain": [
       "<matplotlib.image.AxesImage at 0x7f9c8dc622e8>"
      ]
     },
     "execution_count": 8,
     "metadata": {},
     "output_type": "execute_result"
    },
    {
     "data": {
      "image/png": "[encoded data removed]",
      "text/plain": [
       "<Figure size 432x288 with 1 Axes>"
      ]
     },
     "metadata": {
      "needs_background": "light"
     },
     "output_type": "display_data"
    }
   ],
   "source": [
    "image_index = 7776 # You may select anything up to 60,000\n",
    "print(train_labels[image_index]) \n",
    "plt.imshow(train_images[image_index], cmap='Greys')"
   ]
  },
  {
   "cell_type": "markdown",
   "metadata": {
    "papermill": {
     "duration": 0.032448,
     "end_time": "2020-12-22T10:11:33.878785",
     "exception": false,
     "start_time": "2020-12-22T10:11:33.846337",
     "status": "completed"
    },
    "tags": []
   },
   "source": [
    "## Filter data to get 3 and 8 out"
   ]
  },
  {
   "cell_type": "code",
   "execution_count": 9,
   "metadata": {
    "execution": {
     "iopub.execute_input": "2020-12-22T10:11:33.950353Z",
     "iopub.status.busy": "2020-12-22T10:11:33.949637Z",
     "iopub.status.idle": "2020-12-22T10:11:33.970175Z",
     "shell.execute_reply": "2020-12-22T10:11:33.969532Z"
    },
    "papermill": {
     "duration": 0.058942,
     "end_time": "2020-12-22T10:11:33.970337",
     "exception": false,
     "start_time": "2020-12-22T10:11:33.911395",
     "status": "completed"
    },
    "tags": []
   },
   "outputs": [],
   "source": [
    "train_filter = np.where((train_labels == 3 ) | (train_labels == 8))\n",
    "test_filter = np.where((test_labels == 3) | (test_labels == 8))\n",
    "X_train, y_train = train_images[train_filter], train_labels[train_filter]\n",
    "X_test, y_test = test_images[test_filter], test_labels[test_filter]"
   ]
  },
  {
   "cell_type": "markdown",
   "metadata": {
    "papermill": {
     "duration": 0.032868,
     "end_time": "2020-12-22T10:11:34.036891",
     "exception": false,
     "start_time": "2020-12-22T10:11:34.004023",
     "status": "completed"
    },
    "tags": []
   },
   "source": [
    "We normalize the pixel values in the 0 to 1 range"
   ]
  },
  {
   "cell_type": "code",
   "execution_count": 10,
   "metadata": {
    "execution": {
     "iopub.execute_input": "2020-12-22T10:11:34.112106Z",
     "iopub.status.busy": "2020-12-22T10:11:34.111424Z",
     "iopub.status.idle": "2020-12-22T10:11:34.175870Z",
     "shell.execute_reply": "2020-12-22T10:11:34.175284Z"
    },
    "papermill": {
     "duration": 0.105649,
     "end_time": "2020-12-22T10:11:34.176040",
     "exception": false,
     "start_time": "2020-12-22T10:11:34.070391",
     "status": "completed"
    },
    "tags": []
   },
   "outputs": [],
   "source": [
    "X_train = X_train/255.\n",
    "X_test = X_test/255."
   ]
  },
  {
   "cell_type": "markdown",
   "metadata": {
    "papermill": {
     "duration": 0.033039,
     "end_time": "2020-12-22T10:11:34.242550",
     "exception": false,
     "start_time": "2020-12-22T10:11:34.209511",
     "status": "completed"
    },
    "tags": []
   },
   "source": [
    "Setup the labels as 1 (when the digit is 3) and 0 (when the digit is 8)"
   ]
  },
  {
   "cell_type": "code",
   "execution_count": 11,
   "metadata": {
    "execution": {
     "iopub.execute_input": "2020-12-22T10:11:34.325625Z",
     "iopub.status.busy": "2020-12-22T10:11:34.318974Z",
     "iopub.status.idle": "2020-12-22T10:11:34.328028Z",
     "shell.execute_reply": "2020-12-22T10:11:34.328554Z"
    },
    "papermill": {
     "duration": 0.053886,
     "end_time": "2020-12-22T10:11:34.328752",
     "exception": false,
     "start_time": "2020-12-22T10:11:34.274866",
     "status": "completed"
    },
    "tags": []
   },
   "outputs": [],
   "source": [
    "y_train = 1*(y_train==3)\n",
    "y_test = 1*(y_test==3)"
   ]
  },
  {
   "cell_type": "code",
   "execution_count": 12,
   "metadata": {
    "execution": {
     "iopub.execute_input": "2020-12-22T10:11:34.399393Z",
     "iopub.status.busy": "2020-12-22T10:11:34.398707Z",
     "iopub.status.idle": "2020-12-22T10:11:34.412558Z",
     "shell.execute_reply": "2020-12-22T10:11:34.411894Z"
    },
    "papermill": {
     "duration": 0.050986,
     "end_time": "2020-12-22T10:11:34.412715",
     "exception": false,
     "start_time": "2020-12-22T10:11:34.361729",
     "status": "completed"
    },
    "tags": []
   },
   "outputs": [
    {
     "data": {
      "text/plain": [
       "((11982, 28, 28), (1984, 28, 28))"
      ]
     },
     "execution_count": 12,
     "metadata": {},
     "output_type": "execute_result"
    }
   ],
   "source": [
    "X_train.shape, X_test.shape"
   ]
  },
  {
   "cell_type": "markdown",
   "metadata": {
    "papermill": {
     "duration": 0.033046,
     "end_time": "2020-12-22T10:11:34.478543",
     "exception": false,
     "start_time": "2020-12-22T10:11:34.445497",
     "status": "completed"
    },
    "tags": []
   },
   "source": [
    "### Reshape the input data to create a linear array"
   ]
  },
  {
   "cell_type": "code",
   "execution_count": 13,
   "metadata": {
    "execution": {
     "iopub.execute_input": "2020-12-22T10:11:34.552073Z",
     "iopub.status.busy": "2020-12-22T10:11:34.551395Z",
     "iopub.status.idle": "2020-12-22T10:11:34.566731Z",
     "shell.execute_reply": "2020-12-22T10:11:34.567324Z"
    },
    "papermill": {
     "duration": 0.055128,
     "end_time": "2020-12-22T10:11:34.567502",
     "exception": false,
     "start_time": "2020-12-22T10:11:34.512374",
     "status": "completed"
    },
    "tags": []
   },
   "outputs": [
    {
     "data": {
      "text/plain": [
       "((11982, 784), (1984, 784))"
      ]
     },
     "execution_count": 13,
     "metadata": {},
     "output_type": "execute_result"
    }
   ],
   "source": [
    "X_train = X_train.reshape(X_train.shape[0], -1)\n",
    "X_test = X_test.reshape(X_test.shape[0], -1)\n",
    "X_train.shape, X_test.shape"
   ]
  },
  {
   "cell_type": "markdown",
   "metadata": {
    "papermill": {
     "duration": 0.035206,
     "end_time": "2020-12-22T10:11:34.635670",
     "exception": false,
     "start_time": "2020-12-22T10:11:34.600464",
     "status": "completed"
    },
    "tags": []
   },
   "source": [
    "### Importing appropriate functions from 'Kudzu'"
   ]
  },
  {
   "cell_type": "code",
   "execution_count": 14,
   "metadata": {
    "execution": {
     "iopub.execute_input": "2020-12-22T10:11:34.709758Z",
     "iopub.status.busy": "2020-12-22T10:11:34.708949Z",
     "iopub.status.idle": "2020-12-22T10:11:34.731047Z",
     "shell.execute_reply": "2020-12-22T10:11:34.731623Z"
    },
    "papermill": {
     "duration": 0.061578,
     "end_time": "2020-12-22T10:11:34.731811",
     "exception": false,
     "start_time": "2020-12-22T10:11:34.670233",
     "status": "completed"
    },
    "tags": []
   },
   "outputs": [],
   "source": [
    "from kudzu.layer import Sigmoid\n",
    "from kudzu.layer import Relu\n",
    "from kudzu.layer import Affine, Sigmoid\n",
    "\n",
    "from kudzu.model import Model\n",
    "from kudzu.train import Learner\n",
    "from kudzu.optim import GD\n",
    "from kudzu.data import Data, Dataloader, Sampler\n",
    "\n",
    "from kudzu.callbacks import AccCallback\n",
    "from kudzu.callbacks import ClfCallback\n",
    "\n",
    "from kudzu.loss import MSE"
   ]
  },
  {
   "cell_type": "markdown",
   "metadata": {
    "papermill": {
     "duration": 0.032764,
     "end_time": "2020-12-22T10:11:34.799068",
     "exception": false,
     "start_time": "2020-12-22T10:11:34.766304",
     "status": "completed"
    },
    "tags": []
   },
   "source": [
    "### Let us create a `Config` class, to store important parameters. \n",
    "This class essentially plays the role of a dictionary."
   ]
  },
  {
   "cell_type": "code",
   "execution_count": 15,
   "metadata": {
    "execution": {
     "iopub.execute_input": "2020-12-22T10:11:34.870992Z",
     "iopub.status.busy": "2020-12-22T10:11:34.870287Z",
     "iopub.status.idle": "2020-12-22T10:11:34.883942Z",
     "shell.execute_reply": "2020-12-22T10:11:34.883368Z"
    },
    "papermill": {
     "duration": 0.051501,
     "end_time": "2020-12-22T10:11:34.884109",
     "exception": false,
     "start_time": "2020-12-22T10:11:34.832608",
     "status": "completed"
    },
    "tags": []
   },
   "outputs": [],
   "source": [
    "class Config:\n",
    "    pass\n",
    "config = Config()\n",
    "config.lr = 0.001\n",
    "config.num_epochs = 251\n",
    "config.bs = 50"
   ]
  },
  {
   "cell_type": "markdown",
   "metadata": {
    "papermill": {
     "duration": 0.033059,
     "end_time": "2020-12-22T10:11:34.951016",
     "exception": false,
     "start_time": "2020-12-22T10:11:34.917957",
     "status": "completed"
    },
    "tags": []
   },
   "source": [
    "### Initializing data to the variables"
   ]
  },
  {
   "cell_type": "code",
   "execution_count": 16,
   "metadata": {
    "execution": {
     "iopub.execute_input": "2020-12-22T10:11:35.025383Z",
     "iopub.status.busy": "2020-12-22T10:11:35.024697Z",
     "iopub.status.idle": "2020-12-22T10:11:35.038647Z",
     "shell.execute_reply": "2020-12-22T10:11:35.039187Z"
    },
    "papermill": {
     "duration": 0.054661,
     "end_time": "2020-12-22T10:11:35.039375",
     "exception": false,
     "start_time": "2020-12-22T10:11:34.984714",
     "status": "completed"
    },
    "tags": []
   },
   "outputs": [],
   "source": [
    "data = Data(X_train, y_train.reshape(-1,1))\n",
    "sampler = Sampler(data, config.bs, shuffle=True)\n",
    "\n",
    "dl = Dataloader(data, sampler)\n",
    "\n",
    "opt = GD(config.lr)\n",
    "loss = MSE()"
   ]
  },
  {
   "cell_type": "code",
   "execution_count": 17,
   "metadata": {
    "execution": {
     "iopub.execute_input": "2020-12-22T10:11:35.117506Z",
     "iopub.status.busy": "2020-12-22T10:11:35.116837Z",
     "iopub.status.idle": "2020-12-22T10:11:35.129248Z",
     "shell.execute_reply": "2020-12-22T10:11:35.129757Z"
    },
    "papermill": {
     "duration": 0.052332,
     "end_time": "2020-12-22T10:11:35.129991",
     "exception": false,
     "start_time": "2020-12-22T10:11:35.077659",
     "status": "completed"
    },
    "tags": []
   },
   "outputs": [],
   "source": [
    "training_xdata = X_train\n",
    "testing_xdata = X_test\n",
    "training_ydata = y_train.reshape(-1,1)\n",
    "testing_ydata = y_test.reshape(-1,1)"
   ]
  },
  {
   "cell_type": "markdown",
   "metadata": {
    "papermill": {
     "duration": 0.033816,
     "end_time": "2020-12-22T10:11:35.197816",
     "exception": false,
     "start_time": "2020-12-22T10:11:35.164000",
     "status": "completed"
    },
    "tags": []
   },
   "source": [
    "### Running Models with the Training data\n",
    "Details about the network layers:\n",
    "- A first affine layer has 784 inputs and does 100 affine transforms. These are followed by a Relu\n",
    "- A second affine layer has 100 inputs from the 100 activations of the past layer, and does 100 affine transforms. These are followed by a Relu\n",
    "- A third affine layer has 100 activations and does 2 affine transformations to create an embedding for visualization. There is no non-linearity here.\n",
    "- A final \"logistic regression\" which has an affine transform from 2 inputs to 1 output, which is squeezed through a sigmoid.\n",
    "\n",
    "Help taken from Anshuman's Notebook."
   ]
  },
  {
   "cell_type": "code",
   "execution_count": 18,
   "metadata": {
    "execution": {
     "iopub.execute_input": "2020-12-22T10:11:35.270254Z",
     "iopub.status.busy": "2020-12-22T10:11:35.269551Z",
     "iopub.status.idle": "2020-12-22T10:11:35.288537Z",
     "shell.execute_reply": "2020-12-22T10:11:35.287952Z"
    },
    "papermill": {
     "duration": 0.057446,
     "end_time": "2020-12-22T10:11:35.288699",
     "exception": false,
     "start_time": "2020-12-22T10:11:35.231253",
     "status": "completed"
    },
    "tags": []
   },
   "outputs": [],
   "source": [
    "# layers for the Neural Network\n",
    "layers = [Affine(\"first\", 784, 100), Relu(\"first\"), Affine(\"second\", 100, 100), Relu(\"second\"), Affine(\"third\", 100, 2), Affine(\"final\", 2, 1), Sigmoid(\"final\")]\n",
    "model_nn = Model(layers)\n",
    "\n",
    "# layers for the Logistic Regression\n",
    "layers_lr = [Affine(\"logits\", 784, 1), Sigmoid(\"sigmoid\")]\n",
    "model_lr = Model(layers_lr)"
   ]
  },
  {
   "cell_type": "code",
   "execution_count": 19,
   "metadata": {
    "execution": {
     "iopub.execute_input": "2020-12-22T10:11:35.360734Z",
     "iopub.status.busy": "2020-12-22T10:11:35.360046Z",
     "iopub.status.idle": "2020-12-22T10:11:35.374298Z",
     "shell.execute_reply": "2020-12-22T10:11:35.374836Z"
    },
    "papermill": {
     "duration": 0.052928,
     "end_time": "2020-12-22T10:11:35.375039",
     "exception": false,
     "start_time": "2020-12-22T10:11:35.322111",
     "status": "completed"
    },
    "tags": []
   },
   "outputs": [],
   "source": [
    "# suffix _nn stands for Neural Network.\n",
    "learner_nn = Learner(loss, model_nn, opt, config.num_epochs)\n",
    "acc_nn = ClfCallback(learner_nn, config.bs, training_xdata , testing_xdata, training_ydata, testing_ydata)\n",
    "learner_nn.set_callbacks([acc_nn])"
   ]
  },
  {
   "cell_type": "code",
   "execution_count": 20,
   "metadata": {
    "execution": {
     "iopub.execute_input": "2020-12-22T10:11:35.446721Z",
     "iopub.status.busy": "2020-12-22T10:11:35.446040Z",
     "iopub.status.idle": "2020-12-22T10:13:54.587598Z",
     "shell.execute_reply": "2020-12-22T10:13:54.588530Z"
    },
    "papermill": {
     "duration": 139.179909,
     "end_time": "2020-12-22T10:13:54.588712",
     "exception": false,
     "start_time": "2020-12-22T10:11:35.408803",
     "status": "completed"
    },
    "tags": []
   },
   "outputs": [
    {
     "name": "stdout",
     "output_type": "stream",
     "text": [
      "====== Neural Network ======\n"
     ]
    },
    {
     "name": "stdout",
     "output_type": "stream",
     "text": [
      "Epoch 0, Loss 0.2481\n",
      "Training Accuracy: 0.5598, Testing Accuracy: 0.5479\n",
      "\n"
     ]
    },
    {
     "name": "stdout",
     "output_type": "stream",
     "text": [
      "Epoch 10, Loss 0.2339\n",
      "Training Accuracy: 0.8161, Testing Accuracy: 0.8120\n",
      "\n"
     ]
    },
    {
     "name": "stdout",
     "output_type": "stream",
     "text": [
      "Epoch 20, Loss 0.1624\n",
      "Training Accuracy: 0.8817, Testing Accuracy: 0.8957\n",
      "\n"
     ]
    },
    {
     "name": "stdout",
     "output_type": "stream",
     "text": [
      "Epoch 30, Loss 0.0824\n",
      "Training Accuracy: 0.9160, Testing Accuracy: 0.9309\n",
      "\n"
     ]
    },
    {
     "name": "stdout",
     "output_type": "stream",
     "text": [
      "Epoch 40, Loss 0.0573\n",
      "Training Accuracy: 0.9372, Testing Accuracy: 0.9536\n",
      "\n"
     ]
    },
    {
     "name": "stdout",
     "output_type": "stream",
     "text": [
      "Epoch 50, Loss 0.0463\n",
      "Training Accuracy: 0.9471, Testing Accuracy: 0.9617\n",
      "\n"
     ]
    },
    {
     "name": "stdout",
     "output_type": "stream",
     "text": [
      "Epoch 60, Loss 0.0402\n",
      "Training Accuracy: 0.9533, Testing Accuracy: 0.9657\n",
      "\n"
     ]
    },
    {
     "name": "stdout",
     "output_type": "stream",
     "text": [
      "Epoch 70, Loss 0.0364\n",
      "Training Accuracy: 0.9579, Testing Accuracy: 0.9657\n",
      "\n"
     ]
    },
    {
     "name": "stdout",
     "output_type": "stream",
     "text": [
      "Epoch 80, Loss 0.0336\n",
      "Training Accuracy: 0.9604, Testing Accuracy: 0.9647\n",
      "\n"
     ]
    },
    {
     "name": "stdout",
     "output_type": "stream",
     "text": [
      "Epoch 90, Loss 0.0316\n",
      "Training Accuracy: 0.9632, Testing Accuracy: 0.9672\n",
      "\n"
     ]
    },
    {
     "name": "stdout",
     "output_type": "stream",
     "text": [
      "Epoch 100, Loss 0.03\n",
      "Training Accuracy: 0.9645, Testing Accuracy: 0.9688\n",
      "\n"
     ]
    },
    {
     "name": "stdout",
     "output_type": "stream",
     "text": [
      "Epoch 110, Loss 0.0286\n",
      "Training Accuracy: 0.9663, Testing Accuracy: 0.9703\n",
      "\n"
     ]
    },
    {
     "name": "stdout",
     "output_type": "stream",
     "text": [
      "Epoch 120, Loss 0.0275\n",
      "Training Accuracy: 0.9677, Testing Accuracy: 0.9698\n",
      "\n"
     ]
    },
    {
     "name": "stdout",
     "output_type": "stream",
     "text": [
      "Epoch 130, Loss 0.0266\n",
      "Training Accuracy: 0.9690, Testing Accuracy: 0.9698\n",
      "\n"
     ]
    },
    {
     "name": "stdout",
     "output_type": "stream",
     "text": [
      "Epoch 140, Loss 0.0257\n",
      "Training Accuracy: 0.9700, Testing Accuracy: 0.9703\n",
      "\n"
     ]
    },
    {
     "name": "stdout",
     "output_type": "stream",
     "text": [
      "Epoch 150, Loss 0.025\n",
      "Training Accuracy: 0.9715, Testing Accuracy: 0.9708\n",
      "\n"
     ]
    },
    {
     "name": "stdout",
     "output_type": "stream",
     "text": [
      "Epoch 160, Loss 0.0243\n",
      "Training Accuracy: 0.9724, Testing Accuracy: 0.9723\n",
      "\n"
     ]
    },
    {
     "name": "stdout",
     "output_type": "stream",
     "text": [
      "Epoch 170, Loss 0.0236\n",
      "Training Accuracy: 0.9729, Testing Accuracy: 0.9718\n",
      "\n"
     ]
    },
    {
     "name": "stdout",
     "output_type": "stream",
     "text": [
      "Epoch 180, Loss 0.0231\n",
      "Training Accuracy: 0.9733, Testing Accuracy: 0.9723\n",
      "\n"
     ]
    },
    {
     "name": "stdout",
     "output_type": "stream",
     "text": [
      "Epoch 190, Loss 0.0225\n",
      "Training Accuracy: 0.9743, Testing Accuracy: 0.9733\n",
      "\n"
     ]
    },
    {
     "name": "stdout",
     "output_type": "stream",
     "text": [
      "Epoch 200, Loss 0.022\n",
      "Training Accuracy: 0.9750, Testing Accuracy: 0.9728\n",
      "\n"
     ]
    },
    {
     "name": "stdout",
     "output_type": "stream",
     "text": [
      "Epoch 210, Loss 0.0216\n",
      "Training Accuracy: 0.9755, Testing Accuracy: 0.9718\n",
      "\n"
     ]
    },
    {
     "name": "stdout",
     "output_type": "stream",
     "text": [
      "Epoch 220, Loss 0.0211\n",
      "Training Accuracy: 0.9756, Testing Accuracy: 0.9728\n",
      "\n"
     ]
    },
    {
     "name": "stdout",
     "output_type": "stream",
     "text": [
      "Epoch 230, Loss 0.0207\n",
      "Training Accuracy: 0.9763, Testing Accuracy: 0.9728\n",
      "\n"
     ]
    },
    {
     "name": "stdout",
     "output_type": "stream",
     "text": [
      "Epoch 240, Loss 0.0203\n",
      "Training Accuracy: 0.9766, Testing Accuracy: 0.9738\n",
      "\n"
     ]
    },
    {
     "name": "stdout",
     "output_type": "stream",
     "text": [
      "Epoch 250, Loss 0.0199\n",
      "Training Accuracy: 0.9770, Testing Accuracy: 0.9733\n",
      "\n"
     ]
    },
    {
     "data": {
      "text/plain": [
       "0.026324923162271557"
      ]
     },
     "execution_count": 20,
     "metadata": {},
     "output_type": "execute_result"
    }
   ],
   "source": [
    "print(\"====== Neural Network ======\")\n",
    "learner_nn.train_loop(dl)"
   ]
  },
  {
   "cell_type": "markdown",
   "metadata": {
    "papermill": {
     "duration": 0.041779,
     "end_time": "2020-12-22T10:13:54.673271",
     "exception": false,
     "start_time": "2020-12-22T10:13:54.631492",
     "status": "completed"
    },
    "tags": []
   },
   "source": [
    "### Logistic Regression based Implementation."
   ]
  },
  {
   "cell_type": "code",
   "execution_count": 21,
   "metadata": {
    "execution": {
     "iopub.execute_input": "2020-12-22T10:13:54.770021Z",
     "iopub.status.busy": "2020-12-22T10:13:54.769257Z",
     "iopub.status.idle": "2020-12-22T10:13:54.783123Z",
     "shell.execute_reply": "2020-12-22T10:13:54.782475Z"
    },
    "papermill": {
     "duration": 0.063051,
     "end_time": "2020-12-22T10:13:54.783280",
     "exception": false,
     "start_time": "2020-12-22T10:13:54.720229",
     "status": "completed"
    },
    "tags": []
   },
   "outputs": [],
   "source": [
    "learner_lr = Learner(loss, model_lr, opt, config.num_epochs)\n",
    "acc_lr = ClfCallback(learner_lr, config.bs, training_xdata , testing_xdata, training_ydata, testing_ydata)\n",
    "learner_lr.set_callbacks([acc_lr])"
   ]
  },
  {
   "cell_type": "code",
   "execution_count": 22,
   "metadata": {
    "execution": {
     "iopub.execute_input": "2020-12-22T10:13:54.875701Z",
     "iopub.status.busy": "2020-12-22T10:13:54.875016Z",
     "iopub.status.idle": "2020-12-22T10:14:15.883247Z",
     "shell.execute_reply": "2020-12-22T10:14:15.884138Z"
    },
    "papermill": {
     "duration": 21.057903,
     "end_time": "2020-12-22T10:14:15.884314",
     "exception": false,
     "start_time": "2020-12-22T10:13:54.826411",
     "status": "completed"
    },
    "tags": []
   },
   "outputs": [
    {
     "name": "stdout",
     "output_type": "stream",
     "text": [
      "====== Logistic Regression ======\n",
      "Epoch 0, Loss 0.2466\n",
      "Training Accuracy: 0.6763, Testing Accuracy: 0.6794\n",
      "\n"
     ]
    },
    {
     "name": "stdout",
     "output_type": "stream",
     "text": [
      "Epoch 10, Loss 0.1017\n",
      "Training Accuracy: 0.9138, Testing Accuracy: 0.9249\n",
      "\n"
     ]
    },
    {
     "name": "stdout",
     "output_type": "stream",
     "text": [
      "Epoch 20, Loss 0.0785\n",
      "Training Accuracy: 0.9292, Testing Accuracy: 0.9395\n",
      "\n"
     ]
    },
    {
     "name": "stdout",
     "output_type": "stream",
     "text": [
      "Epoch 30, Loss 0.0679\n",
      "Training Accuracy: 0.9364, Testing Accuracy: 0.9461\n",
      "\n"
     ]
    },
    {
     "name": "stdout",
     "output_type": "stream",
     "text": [
      "Epoch 40, Loss 0.0615\n",
      "Training Accuracy: 0.9417, Testing Accuracy: 0.9501\n",
      "\n"
     ]
    },
    {
     "name": "stdout",
     "output_type": "stream",
     "text": [
      "Epoch 50, Loss 0.0571\n",
      "Training Accuracy: 0.9460, Testing Accuracy: 0.9541\n",
      "\n"
     ]
    },
    {
     "name": "stdout",
     "output_type": "stream",
     "text": [
      "Epoch 60, Loss 0.0539\n",
      "Training Accuracy: 0.9473, Testing Accuracy: 0.9561\n",
      "\n"
     ]
    },
    {
     "name": "stdout",
     "output_type": "stream",
     "text": [
      "Epoch 70, Loss 0.0514\n",
      "Training Accuracy: 0.9489, Testing Accuracy: 0.9567\n",
      "\n"
     ]
    },
    {
     "name": "stdout",
     "output_type": "stream",
     "text": [
      "Epoch 80, Loss 0.0494\n",
      "Training Accuracy: 0.9500, Testing Accuracy: 0.9582\n",
      "\n"
     ]
    },
    {
     "name": "stdout",
     "output_type": "stream",
     "text": [
      "Epoch 90, Loss 0.0477\n",
      "Training Accuracy: 0.9510, Testing Accuracy: 0.9607\n",
      "\n"
     ]
    },
    {
     "name": "stdout",
     "output_type": "stream",
     "text": [
      "Epoch 100, Loss 0.0463\n",
      "Training Accuracy: 0.9527, Testing Accuracy: 0.9627\n",
      "\n"
     ]
    },
    {
     "name": "stdout",
     "output_type": "stream",
     "text": [
      "Epoch 110, Loss 0.0451\n",
      "Training Accuracy: 0.9538, Testing Accuracy: 0.9622\n",
      "\n"
     ]
    },
    {
     "name": "stdout",
     "output_type": "stream",
     "text": [
      "Epoch 120, Loss 0.0441\n",
      "Training Accuracy: 0.9546, Testing Accuracy: 0.9622\n",
      "\n"
     ]
    },
    {
     "name": "stdout",
     "output_type": "stream",
     "text": [
      "Epoch 130, Loss 0.0431\n",
      "Training Accuracy: 0.9556, Testing Accuracy: 0.9622\n",
      "\n"
     ]
    },
    {
     "name": "stdout",
     "output_type": "stream",
     "text": [
      "Epoch 140, Loss 0.0423\n",
      "Training Accuracy: 0.9564, Testing Accuracy: 0.9632\n",
      "\n"
     ]
    },
    {
     "name": "stdout",
     "output_type": "stream",
     "text": [
      "Epoch 150, Loss 0.0415\n",
      "Training Accuracy: 0.9566, Testing Accuracy: 0.9642\n",
      "\n"
     ]
    },
    {
     "name": "stdout",
     "output_type": "stream",
     "text": [
      "Epoch 160, Loss 0.0409\n",
      "Training Accuracy: 0.9573, Testing Accuracy: 0.9652\n",
      "\n"
     ]
    },
    {
     "name": "stdout",
     "output_type": "stream",
     "text": [
      "Epoch 170, Loss 0.0403\n",
      "Training Accuracy: 0.9579, Testing Accuracy: 0.9657\n",
      "\n"
     ]
    },
    {
     "name": "stdout",
     "output_type": "stream",
     "text": [
      "Epoch 180, Loss 0.0397\n",
      "Training Accuracy: 0.9585, Testing Accuracy: 0.9662\n",
      "\n"
     ]
    },
    {
     "name": "stdout",
     "output_type": "stream",
     "text": [
      "Epoch 190, Loss 0.0392\n",
      "Training Accuracy: 0.9590, Testing Accuracy: 0.9662\n",
      "\n"
     ]
    },
    {
     "name": "stdout",
     "output_type": "stream",
     "text": [
      "Epoch 200, Loss 0.0387\n",
      "Training Accuracy: 0.9594, Testing Accuracy: 0.9662\n",
      "\n"
     ]
    },
    {
     "name": "stdout",
     "output_type": "stream",
     "text": [
      "Epoch 210, Loss 0.0383\n",
      "Training Accuracy: 0.9598, Testing Accuracy: 0.9657\n",
      "\n"
     ]
    },
    {
     "name": "stdout",
     "output_type": "stream",
     "text": [
      "Epoch 220, Loss 0.0378\n",
      "Training Accuracy: 0.9599, Testing Accuracy: 0.9657\n",
      "\n"
     ]
    },
    {
     "name": "stdout",
     "output_type": "stream",
     "text": [
      "Epoch 230, Loss 0.0375\n",
      "Training Accuracy: 0.9602, Testing Accuracy: 0.9657\n",
      "\n"
     ]
    },
    {
     "name": "stdout",
     "output_type": "stream",
     "text": [
      "Epoch 240, Loss 0.0371\n",
      "Training Accuracy: 0.9606, Testing Accuracy: 0.9662\n",
      "\n"
     ]
    },
    {
     "name": "stdout",
     "output_type": "stream",
     "text": [
      "Epoch 250, Loss 0.0368\n",
      "Training Accuracy: 0.9609, Testing Accuracy: 0.9662\n",
      "\n"
     ]
    },
    {
     "data": {
      "text/plain": [
       "0.03372116830489623"
      ]
     },
     "execution_count": 22,
     "metadata": {},
     "output_type": "execute_result"
    }
   ],
   "source": [
    "print(\"====== Logistic Regression ======\")\n",
    "learner_lr.train_loop(dl)"
   ]
  },
  {
   "cell_type": "markdown",
   "metadata": {
    "papermill": {
     "duration": 0.050124,
     "end_time": "2020-12-22T10:14:15.986656",
     "exception": false,
     "start_time": "2020-12-22T10:14:15.936532",
     "status": "completed"
    },
    "tags": []
   },
   "source": [
    "### Comparing results of NN and LR"
   ]
  },
  {
   "cell_type": "code",
   "execution_count": 23,
   "metadata": {
    "execution": {
     "iopub.execute_input": "2020-12-22T10:14:16.099124Z",
     "iopub.status.busy": "2020-12-22T10:14:16.098412Z",
     "iopub.status.idle": "2020-12-22T10:14:16.388111Z",
     "shell.execute_reply": "2020-12-22T10:14:16.388681Z"
    },
    "papermill": {
     "duration": 0.350645,
     "end_time": "2020-12-22T10:14:16.388854",
     "exception": false,
     "start_time": "2020-12-22T10:14:16.038209",
     "status": "completed"
    },
    "tags": []
   },
   "outputs": [
    {
     "data": {
      "text/plain": [
       "<matplotlib.legend.Legend at 0x7f9c8b834b00>"
      ]
     },
     "execution_count": 23,
     "metadata": {},
     "output_type": "execute_result"
    },
    {
     "data": {
      "image/png": "[encoded data removed]",
      "text/plain": [
       "<Figure size 1080x720 with 1 Axes>"
      ]
     },
     "metadata": {
      "needs_background": "light"
     },
     "output_type": "display_data"
    }
   ],
   "source": [
    "plt.figure(figsize=(15,10))\n",
    "\n",
    "# Neural Network plots\n",
    "plt.plot(acc_nn.accuracies, 'r-', label = \"Training Accuracies - NN\")\n",
    "plt.plot(acc_nn.test_accuracies, 'g-', label = \"Testing Accuracies - NN\")\n",
    "\n",
    "# Logistic Regression plots\n",
    "plt.plot(acc_lr.accuracies, 'k-', label = \"Training Accuracies - LR\")\n",
    "plt.plot(acc_lr.test_accuracies, 'b-', label = \"Testing Accuracies - LR\")\n",
    "\n",
    "plt.ylim(0.8, 1)\n",
    "\n",
    "plt.legend()\n",
    "\n"
   ]
  },
  {
   "cell_type": "markdown",
   "metadata": {
    "papermill": {
     "duration": 0.053762,
     "end_time": "2020-12-22T10:14:16.496628",
     "exception": false,
     "start_time": "2020-12-22T10:14:16.442866",
     "status": "completed"
    },
    "tags": []
   },
   "source": [
    "### From the plot, we can observe the following:\n",
    "- Neural Network achieves higher accuracy than the Logistic Regression model.\n",
    "- This apparently, is because of overfitting, i.e. NN captures more noise than data.\n",
    "- Testing accuracy of NN drops below the Training accuracy at higher epochs. This explains the over-fitting on training data.\n",
    "- Logistic Regression gives a reliable accuracy, without the above mentioned problem.\n"
   ]
  },
  {
   "cell_type": "markdown",
   "metadata": {
    "papermill": {
     "duration": 0.054368,
     "end_time": "2020-12-22T10:14:16.604127",
     "exception": false,
     "start_time": "2020-12-22T10:14:16.549759",
     "status": "completed"
    },
    "tags": []
   },
   "source": [
    "### Moving till the last but one layer (excluding it).\n",
    "#### Plotting the outputs of this layer of the NN."
   ]
  },
  {
   "cell_type": "code",
   "execution_count": 24,
   "metadata": {
    "execution": {
     "iopub.execute_input": "2020-12-22T10:14:16.727617Z",
     "iopub.status.busy": "2020-12-22T10:14:16.726691Z",
     "iopub.status.idle": "2020-12-22T10:14:16.735061Z",
     "shell.execute_reply": "2020-12-22T10:14:16.735588Z"
    },
    "papermill": {
     "duration": 0.077888,
     "end_time": "2020-12-22T10:14:16.735778",
     "exception": false,
     "start_time": "2020-12-22T10:14:16.657890",
     "status": "completed"
    },
    "tags": []
   },
   "outputs": [],
   "source": [
    "model_new = Model(layers[:-2])"
   ]
  },
  {
   "cell_type": "code",
   "execution_count": 25,
   "metadata": {
    "execution": {
     "iopub.execute_input": "2020-12-22T10:14:16.852397Z",
     "iopub.status.busy": "2020-12-22T10:14:16.849949Z",
     "iopub.status.idle": "2020-12-22T10:14:16.876615Z",
     "shell.execute_reply": "2020-12-22T10:14:16.877489Z"
    },
    "papermill": {
     "duration": 0.087568,
     "end_time": "2020-12-22T10:14:16.877664",
     "exception": false,
     "start_time": "2020-12-22T10:14:16.790096",
     "status": "completed"
    },
    "tags": []
   },
   "outputs": [],
   "source": [
    "plot_testing = model_new(testing_xdata)"
   ]
  },
  {
   "cell_type": "code",
   "execution_count": 26,
   "metadata": {
    "execution": {
     "iopub.execute_input": "2020-12-22T10:14:16.988768Z",
     "iopub.status.busy": "2020-12-22T10:14:16.988076Z",
     "iopub.status.idle": "2020-12-22T10:14:17.232773Z",
     "shell.execute_reply": "2020-12-22T10:14:17.233313Z"
    },
    "papermill": {
     "duration": 0.302829,
     "end_time": "2020-12-22T10:14:17.233494",
     "exception": false,
     "start_time": "2020-12-22T10:14:16.930665",
     "status": "completed"
    },
    "tags": []
   },
   "outputs": [
    {
     "data": {
      "text/plain": [
       "Text(0.5, 1.0, 'Outputs')"
      ]
     },
     "execution_count": 26,
     "metadata": {},
     "output_type": "execute_result"
    },
    {
     "data": {
      "image/png": "[encoded data removed]",
      "text/plain": [
       "<Figure size 576x504 with 1 Axes>"
      ]
     },
     "metadata": {
      "needs_background": "light"
     },
     "output_type": "display_data"
    }
   ],
   "source": [
    "plt.figure(figsize=(8,7))\n",
    "plt.scatter(plot_testing[:,0], plot_testing[:,1], alpha = 0.1, c = y_test.ravel());\n",
    "plt.title('Outputs')"
   ]
  },
  {
   "cell_type": "markdown",
   "metadata": {
    "papermill": {
     "duration": 0.067023,
     "end_time": "2020-12-22T10:14:17.356311",
     "exception": false,
     "start_time": "2020-12-22T10:14:17.289288",
     "status": "completed"
    },
    "tags": []
   },
   "source": [
    "### Plotting probability contours"
   ]
  },
  {
   "cell_type": "code",
   "execution_count": 27,
   "metadata": {
    "execution": {
     "iopub.execute_input": "2020-12-22T10:14:17.480551Z",
     "iopub.status.busy": "2020-12-22T10:14:17.479855Z",
     "iopub.status.idle": "2020-12-22T10:14:17.491610Z",
     "shell.execute_reply": "2020-12-22T10:14:17.491014Z"
    },
    "papermill": {
     "duration": 0.080214,
     "end_time": "2020-12-22T10:14:17.491769",
     "exception": false,
     "start_time": "2020-12-22T10:14:17.411555",
     "status": "completed"
    },
    "tags": []
   },
   "outputs": [],
   "source": [
    "model_prob = Model(layers[-2:]) "
   ]
  },
  {
   "cell_type": "code",
   "execution_count": 28,
   "metadata": {
    "execution": {
     "iopub.execute_input": "2020-12-22T10:14:17.608746Z",
     "iopub.status.busy": "2020-12-22T10:14:17.608066Z",
     "iopub.status.idle": "2020-12-22T10:14:17.622520Z",
     "shell.execute_reply": "2020-12-22T10:14:17.623054Z"
    },
    "papermill": {
     "duration": 0.075213,
     "end_time": "2020-12-22T10:14:17.623243",
     "exception": false,
     "start_time": "2020-12-22T10:14:17.548030",
     "status": "completed"
    },
    "tags": []
   },
   "outputs": [],
   "source": [
    "# Adjust the x and y ranges according to the above generated plot.\n",
    "x_range = np.linspace(-4, 1, 100) \n",
    "y_range = np.linspace(-6, 6, 100) \n",
    "x_grid, y_grid = np.meshgrid(x_range, y_range) # x_grid and y_grig are of size 100 X 100\n",
    "\n",
    "# converting x_grid and y_grid to continuous arrays\n",
    "x_grid_flat = np.ravel(x_grid)\n",
    "y_grid_flat = np.ravel(y_grid)\n",
    "\n",
    "# The last layer of the current model takes two columns as input. Hence transpose of np.vstack() is required.\n",
    "X = np.vstack((x_grid_flat, y_grid_flat)).T\n",
    "\n",
    "# x_grid and y_grid are of size 100 x 100\n",
    "probability_contour = model_prob(X).reshape(100,100) "
   ]
  },
  {
   "cell_type": "code",
   "execution_count": 29,
   "metadata": {
    "execution": {
     "iopub.execute_input": "2020-12-22T10:14:17.766881Z",
     "iopub.status.busy": "2020-12-22T10:14:17.766192Z",
     "iopub.status.idle": "2020-12-22T10:14:18.071638Z",
     "shell.execute_reply": "2020-12-22T10:14:18.071049Z"
    },
    "papermill": {
     "duration": 0.366425,
     "end_time": "2020-12-22T10:14:18.071792",
     "exception": false,
     "start_time": "2020-12-22T10:14:17.705367",
     "status": "completed"
    },
    "tags": []
   },
   "outputs": [
    {
     "data": {
      "image/png": "[encoded data removed]",
      "text/plain": [
       "<Figure size 720x648 with 1 Axes>"
      ]
     },
     "metadata": {
      "needs_background": "light"
     },
     "output_type": "display_data"
    }
   ],
   "source": [
    "plt.figure(figsize=(10,9))\n",
    "plt.scatter(plot_testing[:,0], plot_testing[:,1], alpha = 0.1, c = y_test.ravel())\n",
    "contours = plt.contour(x_grid,y_grid,probability_contour)\n",
    "plt.title('Probability Contours')\n",
    "plt.clabel(contours, inline = True );"
   ]
  }
 ],
 "metadata": {
  "kernelspec": {
   "display_name": "Python 3",
   "language": "python",
   "name": "python3"
  },
  "language_info": {
   "codemirror_mode": {
    "name": "ipython",
    "version": 3
   },
   "file_extension": ".py",
   "mimetype": "text/x-python",
   "name": "python",
   "nbconvert_exporter": "python",
   "pygments_lexer": "ipython3",
   "version": "3.6.12"
  },
  "papermill": {
   "duration": 171.829569,
   "end_time": "2020-12-22T10:14:18.536592",
   "environment_variables": {},
   "exception": null,
   "input_path": "2020-08-11-NeuralNetwork.ipynb",
   "output_path": "2020-08-11-NeuralNetwork.ipynb",
   "parameters": {},
   "start_time": "2020-12-22T10:11:26.707023",
   "version": "2.1.2"
  }
 },
 "nbformat": 4,
 "nbformat_minor": 4
}