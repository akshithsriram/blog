{
 "cells": [
  {
   "cell_type": "markdown",
   "metadata": {
    "papermill": {
     "duration": 0.031432,
     "end_time": "2020-11-03T10:04:22.028894",
     "exception": false,
     "start_time": "2020-11-03T10:04:21.997462",
     "status": "completed"
    },
    "tags": []
   },
   "source": [
    "# \"A Basic Neural Network: Differentiate Hand-Written Digits\"\n",
    "\n",
    "- badges: true\n",
    "- author: Akshith Sriram"
   ]
  },
  {
   "cell_type": "markdown",
   "metadata": {
    "papermill": {
     "duration": 0.02456,
     "end_time": "2020-11-03T10:04:22.078642",
     "exception": false,
     "start_time": "2020-11-03T10:04:22.054082",
     "status": "completed"
    },
    "tags": []
   },
   "source": [
    "### Key Objectives:\n",
    "- Building a neural network that differentiates two hand-written digits 3 and 8.\n",
    "- Comparing the results of this Neural Network (NN) to that of a Logistic Regression (LR) model.\n",
    "\n",
    "### Requirements:\n",
    "- 'Kudzu' : A neural network library that was designed during our course by [Univ.AI](www.univ.ai). \n",
    "- MNIST Database\n",
    "\n",
    "If MNIST is not installed, use the command `!pip install mnist` given below.\n",
    "It can be run both from the command line and Jupyter Notebook."
   ]
  },
  {
   "cell_type": "code",
   "execution_count": 1,
   "metadata": {
    "execution": {
     "iopub.execute_input": "2020-11-03T10:04:22.131795Z",
     "iopub.status.busy": "2020-11-03T10:04:22.131145Z",
     "iopub.status.idle": "2020-11-03T10:04:24.276318Z",
     "shell.execute_reply": "2020-11-03T10:04:24.275763Z"
    },
    "papermill": {
     "duration": 2.173547,
     "end_time": "2020-11-03T10:04:24.276506",
     "exception": false,
     "start_time": "2020-11-03T10:04:22.102959",
     "status": "completed"
    },
    "tags": []
   },
   "outputs": [
    {
     "name": "stdout",
     "output_type": "stream",
     "text": [
      "Collecting mnist\r\n"
     ]
    },
    {
     "name": "stdout",
     "output_type": "stream",
     "text": [
      "  Downloading mnist-0.2.2-py2.py3-none-any.whl (3.5 kB)\r\n",
      "Requirement already satisfied: numpy in /opt/hostedtoolcache/Python/3.6.12/x64/lib/python3.6/site-packages (from mnist) (1.19.4)\r\n"
     ]
    },
    {
     "name": "stdout",
     "output_type": "stream",
     "text": [
      "Installing collected packages: mnist\r\n"
     ]
    },
    {
     "name": "stdout",
     "output_type": "stream",
     "text": [
      "Successfully installed mnist-0.2.2\r\n"
     ]
    }
   ],
   "source": [
    "!pip install mnist "
   ]
  },
  {
   "cell_type": "markdown",
   "metadata": {
    "papermill": {
     "duration": 0.046633,
     "end_time": "2020-11-03T10:04:24.352739",
     "exception": false,
     "start_time": "2020-11-03T10:04:24.306106",
     "status": "completed"
    },
    "tags": []
   },
   "source": [
    "#### Importing necessary libraries"
   ]
  },
  {
   "cell_type": "code",
   "execution_count": 2,
   "metadata": {
    "execution": {
     "iopub.execute_input": "2020-11-03T10:04:24.416860Z",
     "iopub.status.busy": "2020-11-03T10:04:24.416249Z",
     "iopub.status.idle": "2020-11-03T10:04:24.945361Z",
     "shell.execute_reply": "2020-11-03T10:04:24.944480Z"
    },
    "papermill": {
     "duration": 0.563345,
     "end_time": "2020-11-03T10:04:24.945582",
     "exception": false,
     "start_time": "2020-11-03T10:04:24.382237",
     "status": "completed"
    },
    "tags": []
   },
   "outputs": [],
   "source": [
    "%load_ext autoreload\n",
    "%autoreload 2\n",
    "\n",
    "%matplotlib inline\n",
    "import matplotlib.pyplot as plt\n",
    "\n",
    "import numpy as np\n",
    "import pandas as pd"
   ]
  },
  {
   "cell_type": "markdown",
   "metadata": {
    "papermill": {
     "duration": 0.023697,
     "end_time": "2020-11-03T10:04:24.995549",
     "exception": false,
     "start_time": "2020-11-03T10:04:24.971852",
     "status": "completed"
    },
    "tags": []
   },
   "source": [
    "### Preparing the Data"
   ]
  },
  {
   "cell_type": "code",
   "execution_count": 3,
   "metadata": {
    "execution": {
     "iopub.execute_input": "2020-11-03T10:04:25.050336Z",
     "iopub.status.busy": "2020-11-03T10:04:25.049799Z",
     "iopub.status.idle": "2020-11-03T10:04:25.062200Z",
     "shell.execute_reply": "2020-11-03T10:04:25.061702Z"
    },
    "papermill": {
     "duration": 0.042373,
     "end_time": "2020-11-03T10:04:25.062326",
     "exception": false,
     "start_time": "2020-11-03T10:04:25.019953",
     "status": "completed"
    },
    "tags": []
   },
   "outputs": [],
   "source": [
    "import mnist"
   ]
  },
  {
   "cell_type": "code",
   "execution_count": 4,
   "metadata": {
    "execution": {
     "iopub.execute_input": "2020-11-03T10:04:25.117760Z",
     "iopub.status.busy": "2020-11-03T10:04:25.117183Z",
     "iopub.status.idle": "2020-11-03T10:04:25.801641Z",
     "shell.execute_reply": "2020-11-03T10:04:25.801002Z"
    },
    "papermill": {
     "duration": 0.713852,
     "end_time": "2020-11-03T10:04:25.801810",
     "exception": false,
     "start_time": "2020-11-03T10:04:25.087958",
     "status": "completed"
    },
    "tags": []
   },
   "outputs": [],
   "source": [
    "train_images = mnist.train_images()\n",
    "train_labels = mnist.train_labels()"
   ]
  },
  {
   "cell_type": "code",
   "execution_count": 5,
   "metadata": {
    "execution": {
     "iopub.execute_input": "2020-11-03T10:04:25.861061Z",
     "iopub.status.busy": "2020-11-03T10:04:25.860455Z",
     "iopub.status.idle": "2020-11-03T10:04:25.871754Z",
     "shell.execute_reply": "2020-11-03T10:04:25.872245Z"
    },
    "papermill": {
     "duration": 0.044845,
     "end_time": "2020-11-03T10:04:25.872380",
     "exception": false,
     "start_time": "2020-11-03T10:04:25.827535",
     "status": "completed"
    },
    "tags": []
   },
   "outputs": [
    {
     "data": {
      "text/plain": [
       "((60000, 28, 28), (60000,))"
      ]
     },
     "execution_count": 5,
     "metadata": {},
     "output_type": "execute_result"
    }
   ],
   "source": [
    "train_images.shape, train_labels.shape"
   ]
  },
  {
   "cell_type": "code",
   "execution_count": 6,
   "metadata": {
    "execution": {
     "iopub.execute_input": "2020-11-03T10:04:25.934584Z",
     "iopub.status.busy": "2020-11-03T10:04:25.934123Z",
     "iopub.status.idle": "2020-11-03T10:04:26.182082Z",
     "shell.execute_reply": "2020-11-03T10:04:26.182627Z"
    },
    "papermill": {
     "duration": 0.286734,
     "end_time": "2020-11-03T10:04:26.182784",
     "exception": false,
     "start_time": "2020-11-03T10:04:25.896050",
     "status": "completed"
    },
    "tags": []
   },
   "outputs": [],
   "source": [
    "test_images = mnist.test_images()\n",
    "test_labels = mnist.test_labels()"
   ]
  },
  {
   "cell_type": "code",
   "execution_count": 7,
   "metadata": {
    "execution": {
     "iopub.execute_input": "2020-11-03T10:04:26.239853Z",
     "iopub.status.busy": "2020-11-03T10:04:26.239272Z",
     "iopub.status.idle": "2020-11-03T10:04:26.254059Z",
     "shell.execute_reply": "2020-11-03T10:04:26.254549Z"
    },
    "papermill": {
     "duration": 0.045762,
     "end_time": "2020-11-03T10:04:26.254698",
     "exception": false,
     "start_time": "2020-11-03T10:04:26.208936",
     "status": "completed"
    },
    "tags": []
   },
   "outputs": [
    {
     "data": {
      "text/plain": [
       "((10000, 28, 28), (10000,))"
      ]
     },
     "execution_count": 7,
     "metadata": {},
     "output_type": "execute_result"
    }
   ],
   "source": [
    "test_images.shape, test_labels.shape"
   ]
  },
  {
   "cell_type": "code",
   "execution_count": 8,
   "metadata": {
    "execution": {
     "iopub.execute_input": "2020-11-03T10:04:26.312116Z",
     "iopub.status.busy": "2020-11-03T10:04:26.311532Z",
     "iopub.status.idle": "2020-11-03T10:04:26.456257Z",
     "shell.execute_reply": "2020-11-03T10:04:26.456719Z"
    },
    "papermill": {
     "duration": 0.17597,
     "end_time": "2020-11-03T10:04:26.456865",
     "exception": false,
     "start_time": "2020-11-03T10:04:26.280895",
     "status": "completed"
    },
    "tags": []
   },
   "outputs": [
    {
     "name": "stdout",
     "output_type": "stream",
     "text": [
      "2\n"
     ]
    },
    {
     "data": {
      "text/plain": [
       "<matplotlib.image.AxesImage at 0x7f7ed6723438>"
      ]
     },
     "execution_count": 8,
     "metadata": {},
     "output_type": "execute_result"
    },
    {
     "data": {
      "image/png": "[encoded data removed]",
      "text/plain": [
       "<Figure size 432x288 with 1 Axes>"
      ]
     },
     "metadata": {
      "needs_background": "light"
     },
     "output_type": "display_data"
    }
   ],
   "source": [
    "image_index = 7776 # You may select anything up to 60,000\n",
    "print(train_labels[image_index]) \n",
    "plt.imshow(train_images[image_index], cmap='Greys')"
   ]
  },
  {
   "cell_type": "markdown",
   "metadata": {
    "papermill": {
     "duration": 0.027747,
     "end_time": "2020-11-03T10:04:26.512844",
     "exception": false,
     "start_time": "2020-11-03T10:04:26.485097",
     "status": "completed"
    },
    "tags": []
   },
   "source": [
    "## Filter data to get 3 and 8 out"
   ]
  },
  {
   "cell_type": "code",
   "execution_count": 9,
   "metadata": {
    "execution": {
     "iopub.execute_input": "2020-11-03T10:04:26.577738Z",
     "iopub.status.busy": "2020-11-03T10:04:26.577156Z",
     "iopub.status.idle": "2020-11-03T10:04:26.592194Z",
     "shell.execute_reply": "2020-11-03T10:04:26.591737Z"
    },
    "papermill": {
     "duration": 0.052011,
     "end_time": "2020-11-03T10:04:26.592308",
     "exception": false,
     "start_time": "2020-11-03T10:04:26.540297",
     "status": "completed"
    },
    "tags": []
   },
   "outputs": [],
   "source": [
    "train_filter = np.where((train_labels == 3 ) | (train_labels == 8))\n",
    "test_filter = np.where((test_labels == 3) | (test_labels == 8))\n",
    "X_train, y_train = train_images[train_filter], train_labels[train_filter]\n",
    "X_test, y_test = test_images[test_filter], test_labels[test_filter]"
   ]
  },
  {
   "cell_type": "markdown",
   "metadata": {
    "papermill": {
     "duration": 0.024195,
     "end_time": "2020-11-03T10:04:26.643749",
     "exception": false,
     "start_time": "2020-11-03T10:04:26.619554",
     "status": "completed"
    },
    "tags": []
   },
   "source": [
    "We normalize the pixel values in the 0 to 1 range"
   ]
  },
  {
   "cell_type": "code",
   "execution_count": 10,
   "metadata": {
    "execution": {
     "iopub.execute_input": "2020-11-03T10:04:26.706208Z",
     "iopub.status.busy": "2020-11-03T10:04:26.705612Z",
     "iopub.status.idle": "2020-11-03T10:04:26.747272Z",
     "shell.execute_reply": "2020-11-03T10:04:26.746687Z"
    },
    "papermill": {
     "duration": 0.076628,
     "end_time": "2020-11-03T10:04:26.747416",
     "exception": false,
     "start_time": "2020-11-03T10:04:26.670788",
     "status": "completed"
    },
    "tags": []
   },
   "outputs": [],
   "source": [
    "X_train = X_train/255.\n",
    "X_test = X_test/255."
   ]
  },
  {
   "cell_type": "markdown",
   "metadata": {
    "papermill": {
     "duration": 0.02568,
     "end_time": "2020-11-03T10:04:26.798245",
     "exception": false,
     "start_time": "2020-11-03T10:04:26.772565",
     "status": "completed"
    },
    "tags": []
   },
   "source": [
    "Setup the labels as 1 (when the digit is 3) and 0 (when the digit is 8)"
   ]
  },
  {
   "cell_type": "code",
   "execution_count": 11,
   "metadata": {
    "execution": {
     "iopub.execute_input": "2020-11-03T10:04:26.853243Z",
     "iopub.status.busy": "2020-11-03T10:04:26.852656Z",
     "iopub.status.idle": "2020-11-03T10:04:26.864135Z",
     "shell.execute_reply": "2020-11-03T10:04:26.864600Z"
    },
    "papermill": {
     "duration": 0.0413,
     "end_time": "2020-11-03T10:04:26.864742",
     "exception": false,
     "start_time": "2020-11-03T10:04:26.823442",
     "status": "completed"
    },
    "tags": []
   },
   "outputs": [],
   "source": [
    "y_train = 1*(y_train==3)\n",
    "y_test = 1*(y_test==3)"
   ]
  },
  {
   "cell_type": "code",
   "execution_count": 12,
   "metadata": {
    "execution": {
     "iopub.execute_input": "2020-11-03T10:04:26.919772Z",
     "iopub.status.busy": "2020-11-03T10:04:26.919308Z",
     "iopub.status.idle": "2020-11-03T10:04:26.933201Z",
     "shell.execute_reply": "2020-11-03T10:04:26.932801Z"
    },
    "papermill": {
     "duration": 0.042637,
     "end_time": "2020-11-03T10:04:26.933299",
     "exception": false,
     "start_time": "2020-11-03T10:04:26.890662",
     "status": "completed"
    },
    "tags": []
   },
   "outputs": [
    {
     "data": {
      "text/plain": [
       "((11982, 28, 28), (1984, 28, 28))"
      ]
     },
     "execution_count": 12,
     "metadata": {},
     "output_type": "execute_result"
    }
   ],
   "source": [
    "X_train.shape, X_test.shape"
   ]
  },
  {
   "cell_type": "markdown",
   "metadata": {
    "papermill": {
     "duration": 0.024608,
     "end_time": "2020-11-03T10:04:26.983737",
     "exception": false,
     "start_time": "2020-11-03T10:04:26.959129",
     "status": "completed"
    },
    "tags": []
   },
   "source": [
    "### Reshape the input data to create a linear array"
   ]
  },
  {
   "cell_type": "code",
   "execution_count": 13,
   "metadata": {
    "execution": {
     "iopub.execute_input": "2020-11-03T10:04:27.050458Z",
     "iopub.status.busy": "2020-11-03T10:04:27.049868Z",
     "iopub.status.idle": "2020-11-03T10:04:27.058829Z",
     "shell.execute_reply": "2020-11-03T10:04:27.058364Z"
    },
    "papermill": {
     "duration": 0.049812,
     "end_time": "2020-11-03T10:04:27.058951",
     "exception": false,
     "start_time": "2020-11-03T10:04:27.009139",
     "status": "completed"
    },
    "tags": []
   },
   "outputs": [
    {
     "data": {
      "text/plain": [
       "((11982, 784), (1984, 784))"
      ]
     },
     "execution_count": 13,
     "metadata": {},
     "output_type": "execute_result"
    }
   ],
   "source": [
    "X_train = X_train.reshape(X_train.shape[0], -1)\n",
    "X_test = X_test.reshape(X_test.shape[0], -1)\n",
    "X_train.shape, X_test.shape"
   ]
  },
  {
   "cell_type": "markdown",
   "metadata": {
    "papermill": {
     "duration": 0.027739,
     "end_time": "2020-11-03T10:04:27.114887",
     "exception": false,
     "start_time": "2020-11-03T10:04:27.087148",
     "status": "completed"
    },
    "tags": []
   },
   "source": [
    "### Importing appropriate functions from 'Kudzu'"
   ]
  },
  {
   "cell_type": "code",
   "execution_count": 14,
   "metadata": {
    "execution": {
     "iopub.execute_input": "2020-11-03T10:04:27.178588Z",
     "iopub.status.busy": "2020-11-03T10:04:27.177964Z",
     "iopub.status.idle": "2020-11-03T10:04:27.196494Z",
     "shell.execute_reply": "2020-11-03T10:04:27.195989Z"
    },
    "papermill": {
     "duration": 0.053927,
     "end_time": "2020-11-03T10:04:27.196625",
     "exception": false,
     "start_time": "2020-11-03T10:04:27.142698",
     "status": "completed"
    },
    "tags": []
   },
   "outputs": [],
   "source": [
    "from kudzu.layer import Sigmoid\n",
    "from kudzu.layer import Relu\n",
    "from kudzu.layer import Affine, Sigmoid\n",
    "\n",
    "from kudzu.model import Model\n",
    "from kudzu.train import Learner\n",
    "from kudzu.optim import GD\n",
    "from kudzu.data import Data, Dataloader, Sampler\n",
    "\n",
    "from kudzu.callbacks import AccCallback\n",
    "from kudzu.callbacks import ClfCallback\n",
    "\n",
    "from kudzu.loss import MSE"
   ]
  },
  {
   "cell_type": "markdown",
   "metadata": {
    "papermill": {
     "duration": 0.028245,
     "end_time": "2020-11-03T10:04:27.252376",
     "exception": false,
     "start_time": "2020-11-03T10:04:27.224131",
     "status": "completed"
    },
    "tags": []
   },
   "source": [
    "### Let us create a `Config` class, to store important parameters. \n",
    "This class essentially plays the role of a dictionary."
   ]
  },
  {
   "cell_type": "code",
   "execution_count": 15,
   "metadata": {
    "execution": {
     "iopub.execute_input": "2020-11-03T10:04:27.329967Z",
     "iopub.status.busy": "2020-11-03T10:04:27.326387Z",
     "iopub.status.idle": "2020-11-03T10:04:27.332519Z",
     "shell.execute_reply": "2020-11-03T10:04:27.331997Z"
    },
    "papermill": {
     "duration": 0.052071,
     "end_time": "2020-11-03T10:04:27.332650",
     "exception": false,
     "start_time": "2020-11-03T10:04:27.280579",
     "status": "completed"
    },
    "tags": []
   },
   "outputs": [],
   "source": [
    "class Config:\n",
    "    pass\n",
    "config = Config()\n",
    "config.lr = 0.001\n",
    "config.num_epochs = 251\n",
    "config.bs = 50"
   ]
  },
  {
   "cell_type": "markdown",
   "metadata": {
    "papermill": {
     "duration": 0.027893,
     "end_time": "2020-11-03T10:04:27.388496",
     "exception": false,
     "start_time": "2020-11-03T10:04:27.360603",
     "status": "completed"
    },
    "tags": []
   },
   "source": [
    "### Initializing data to the variables"
   ]
  },
  {
   "cell_type": "code",
   "execution_count": 16,
   "metadata": {
    "execution": {
     "iopub.execute_input": "2020-11-03T10:04:27.449532Z",
     "iopub.status.busy": "2020-11-03T10:04:27.448960Z",
     "iopub.status.idle": "2020-11-03T10:04:27.460631Z",
     "shell.execute_reply": "2020-11-03T10:04:27.461066Z"
    },
    "papermill": {
     "duration": 0.04458,
     "end_time": "2020-11-03T10:04:27.461197",
     "exception": false,
     "start_time": "2020-11-03T10:04:27.416617",
     "status": "completed"
    },
    "tags": []
   },
   "outputs": [],
   "source": [
    "data = Data(X_train, y_train.reshape(-1,1))\n",
    "sampler = Sampler(data, config.bs, shuffle=True)\n",
    "\n",
    "dl = Dataloader(data, sampler)\n",
    "\n",
    "opt = GD(config.lr)\n",
    "loss = MSE()"
   ]
  },
  {
   "cell_type": "code",
   "execution_count": 17,
   "metadata": {
    "execution": {
     "iopub.execute_input": "2020-11-03T10:04:27.522636Z",
     "iopub.status.busy": "2020-11-03T10:04:27.522099Z",
     "iopub.status.idle": "2020-11-03T10:04:27.532579Z",
     "shell.execute_reply": "2020-11-03T10:04:27.532990Z"
    },
    "papermill": {
     "duration": 0.044837,
     "end_time": "2020-11-03T10:04:27.533122",
     "exception": false,
     "start_time": "2020-11-03T10:04:27.488285",
     "status": "completed"
    },
    "tags": []
   },
   "outputs": [],
   "source": [
    "training_xdata = X_train\n",
    "testing_xdata = X_test\n",
    "training_ydata = y_train.reshape(-1,1)\n",
    "testing_ydata = y_test.reshape(-1,1)"
   ]
  },
  {
   "cell_type": "markdown",
   "metadata": {
    "papermill": {
     "duration": 0.025715,
     "end_time": "2020-11-03T10:04:27.586459",
     "exception": false,
     "start_time": "2020-11-03T10:04:27.560744",
     "status": "completed"
    },
    "tags": []
   },
   "source": [
    "### Running Models with the Training data\n",
    "Details about the network layers:\n",
    "- A first affine layer has 784 inputs and does 100 affine transforms. These are followed by a Relu\n",
    "- A second affine layer has 100 inputs from the 100 activations of the past layer, and does 100 affine transforms. These are followed by a Relu\n",
    "- A third affine layer has 100 activations and does 2 affine transformations to create an embedding for visualization. There is no non-linearity here.\n",
    "- A final \"logistic regression\" which has an affine transform from 2 inputs to 1 output, which is squeezed through a sigmoid.\n",
    "\n",
    "Help taken from Anshuman's Notebook."
   ]
  },
  {
   "cell_type": "code",
   "execution_count": 18,
   "metadata": {
    "execution": {
     "iopub.execute_input": "2020-11-03T10:04:27.645227Z",
     "iopub.status.busy": "2020-11-03T10:04:27.644779Z",
     "iopub.status.idle": "2020-11-03T10:04:27.660702Z",
     "shell.execute_reply": "2020-11-03T10:04:27.660215Z"
    },
    "papermill": {
     "duration": 0.04893,
     "end_time": "2020-11-03T10:04:27.660842",
     "exception": false,
     "start_time": "2020-11-03T10:04:27.611912",
     "status": "completed"
    },
    "tags": []
   },
   "outputs": [],
   "source": [
    "# layers for the Neural Network\n",
    "layers = [Affine(\"first\", 784, 100), Relu(\"first\"), Affine(\"second\", 100, 100), Relu(\"second\"), Affine(\"third\", 100, 2), Affine(\"final\", 2, 1), Sigmoid(\"final\")]\n",
    "model_nn = Model(layers)\n",
    "\n",
    "# layers for the Logistic Regression\n",
    "layers_lr = [Affine(\"logits\", 784, 1), Sigmoid(\"sigmoid\")]\n",
    "model_lr = Model(layers_lr)"
   ]
  },
  {
   "cell_type": "code",
   "execution_count": 19,
   "metadata": {
    "execution": {
     "iopub.execute_input": "2020-11-03T10:04:27.717854Z",
     "iopub.status.busy": "2020-11-03T10:04:27.717288Z",
     "iopub.status.idle": "2020-11-03T10:04:27.728726Z",
     "shell.execute_reply": "2020-11-03T10:04:27.728291Z"
    },
    "papermill": {
     "duration": 0.042914,
     "end_time": "2020-11-03T10:04:27.728825",
     "exception": false,
     "start_time": "2020-11-03T10:04:27.685911",
     "status": "completed"
    },
    "tags": []
   },
   "outputs": [],
   "source": [
    "# suffix _nn stands for Neural Network.\n",
    "learner_nn = Learner(loss, model_nn, opt, config.num_epochs)\n",
    "acc_nn = ClfCallback(learner_nn, config.bs, training_xdata , testing_xdata, training_ydata, testing_ydata)\n",
    "learner_nn.set_callbacks([acc_nn])"
   ]
  },
  {
   "cell_type": "code",
   "execution_count": 20,
   "metadata": {
    "execution": {
     "iopub.execute_input": "2020-11-03T10:04:27.785316Z",
     "iopub.status.busy": "2020-11-03T10:04:27.784743Z",
     "iopub.status.idle": "2020-11-03T10:05:48.677198Z",
     "shell.execute_reply": "2020-11-03T10:05:48.677711Z"
    },
    "papermill": {
     "duration": 80.922846,
     "end_time": "2020-11-03T10:05:48.677854",
     "exception": false,
     "start_time": "2020-11-03T10:04:27.755008",
     "status": "completed"
    },
    "tags": []
   },
   "outputs": [
    {
     "name": "stdout",
     "output_type": "stream",
     "text": [
      "====== Neural Network ======\n"
     ]
    },
    {
     "name": "stdout",
     "output_type": "stream",
     "text": [
      "Epoch 0, Loss 0.2519\n",
      "Training Accuracy: 0.5702, Testing Accuracy: 0.5600\n",
      "\n"
     ]
    },
    {
     "name": "stdout",
     "output_type": "stream",
     "text": [
      "Epoch 10, Loss 0.1266\n",
      "Training Accuracy: 0.8976, Testing Accuracy: 0.9098\n",
      "\n"
     ]
    },
    {
     "name": "stdout",
     "output_type": "stream",
     "text": [
      "Epoch 20, Loss 0.0694\n",
      "Training Accuracy: 0.9311, Testing Accuracy: 0.9435\n",
      "\n"
     ]
    },
    {
     "name": "stdout",
     "output_type": "stream",
     "text": [
      "Epoch 30, Loss 0.051\n",
      "Training Accuracy: 0.9461, Testing Accuracy: 0.9582\n",
      "\n"
     ]
    },
    {
     "name": "stdout",
     "output_type": "stream",
     "text": [
      "Epoch 40, Loss 0.0424\n",
      "Training Accuracy: 0.9529, Testing Accuracy: 0.9627\n",
      "\n"
     ]
    },
    {
     "name": "stdout",
     "output_type": "stream",
     "text": [
      "Epoch 50, Loss 0.0374\n",
      "Training Accuracy: 0.9581, Testing Accuracy: 0.9627\n",
      "\n"
     ]
    },
    {
     "name": "stdout",
     "output_type": "stream",
     "text": [
      "Epoch 60, Loss 0.0341\n",
      "Training Accuracy: 0.9616, Testing Accuracy: 0.9667\n",
      "\n"
     ]
    },
    {
     "name": "stdout",
     "output_type": "stream",
     "text": [
      "Epoch 70, Loss 0.0318\n",
      "Training Accuracy: 0.9635, Testing Accuracy: 0.9713\n",
      "\n"
     ]
    },
    {
     "name": "stdout",
     "output_type": "stream",
     "text": [
      "Epoch 80, Loss 0.03\n",
      "Training Accuracy: 0.9659, Testing Accuracy: 0.9713\n",
      "\n"
     ]
    },
    {
     "name": "stdout",
     "output_type": "stream",
     "text": [
      "Epoch 90, Loss 0.0286\n",
      "Training Accuracy: 0.9679, Testing Accuracy: 0.9713\n",
      "\n"
     ]
    },
    {
     "name": "stdout",
     "output_type": "stream",
     "text": [
      "Epoch 100, Loss 0.0274\n",
      "Training Accuracy: 0.9682, Testing Accuracy: 0.9718\n",
      "\n"
     ]
    },
    {
     "name": "stdout",
     "output_type": "stream",
     "text": [
      "Epoch 110, Loss 0.0264\n",
      "Training Accuracy: 0.9693, Testing Accuracy: 0.9728\n",
      "\n"
     ]
    },
    {
     "name": "stdout",
     "output_type": "stream",
     "text": [
      "Epoch 120, Loss 0.0255\n",
      "Training Accuracy: 0.9704, Testing Accuracy: 0.9743\n",
      "\n"
     ]
    },
    {
     "name": "stdout",
     "output_type": "stream",
     "text": [
      "Epoch 130, Loss 0.0248\n",
      "Training Accuracy: 0.9714, Testing Accuracy: 0.9738\n",
      "\n"
     ]
    },
    {
     "name": "stdout",
     "output_type": "stream",
     "text": [
      "Epoch 140, Loss 0.024\n",
      "Training Accuracy: 0.9720, Testing Accuracy: 0.9733\n",
      "\n"
     ]
    },
    {
     "name": "stdout",
     "output_type": "stream",
     "text": [
      "Epoch 150, Loss 0.0234\n",
      "Training Accuracy: 0.9733, Testing Accuracy: 0.9748\n",
      "\n"
     ]
    },
    {
     "name": "stdout",
     "output_type": "stream",
     "text": [
      "Epoch 160, Loss 0.0228\n",
      "Training Accuracy: 0.9740, Testing Accuracy: 0.9753\n",
      "\n"
     ]
    },
    {
     "name": "stdout",
     "output_type": "stream",
     "text": [
      "Epoch 170, Loss 0.0222\n",
      "Training Accuracy: 0.9749, Testing Accuracy: 0.9753\n",
      "\n"
     ]
    },
    {
     "name": "stdout",
     "output_type": "stream",
     "text": [
      "Epoch 180, Loss 0.0217\n",
      "Training Accuracy: 0.9754, Testing Accuracy: 0.9748\n",
      "\n"
     ]
    },
    {
     "name": "stdout",
     "output_type": "stream",
     "text": [
      "Epoch 190, Loss 0.0212\n",
      "Training Accuracy: 0.9758, Testing Accuracy: 0.9753\n",
      "\n"
     ]
    },
    {
     "name": "stdout",
     "output_type": "stream",
     "text": [
      "Epoch 200, Loss 0.0207\n",
      "Training Accuracy: 0.9766, Testing Accuracy: 0.9753\n",
      "\n"
     ]
    },
    {
     "name": "stdout",
     "output_type": "stream",
     "text": [
      "Epoch 210, Loss 0.0203\n",
      "Training Accuracy: 0.9771, Testing Accuracy: 0.9753\n",
      "\n"
     ]
    },
    {
     "name": "stdout",
     "output_type": "stream",
     "text": [
      "Epoch 220, Loss 0.0198\n",
      "Training Accuracy: 0.9775, Testing Accuracy: 0.9753\n",
      "\n"
     ]
    },
    {
     "name": "stdout",
     "output_type": "stream",
     "text": [
      "Epoch 230, Loss 0.0194\n",
      "Training Accuracy: 0.9781, Testing Accuracy: 0.9763\n",
      "\n"
     ]
    },
    {
     "name": "stdout",
     "output_type": "stream",
     "text": [
      "Epoch 240, Loss 0.019\n",
      "Training Accuracy: 0.9789, Testing Accuracy: 0.9773\n",
      "\n"
     ]
    },
    {
     "name": "stdout",
     "output_type": "stream",
     "text": [
      "Epoch 250, Loss 0.0186\n",
      "Training Accuracy: 0.9793, Testing Accuracy: 0.9768\n",
      "\n"
     ]
    },
    {
     "data": {
      "text/plain": [
       "0.01695644166169286"
      ]
     },
     "execution_count": 20,
     "metadata": {},
     "output_type": "execute_result"
    }
   ],
   "source": [
    "print(\"====== Neural Network ======\")\n",
    "learner_nn.train_loop(dl)"
   ]
  },
  {
   "cell_type": "markdown",
   "metadata": {
    "papermill": {
     "duration": 0.036261,
     "end_time": "2020-11-03T10:05:48.750287",
     "exception": false,
     "start_time": "2020-11-03T10:05:48.714026",
     "status": "completed"
    },
    "tags": []
   },
   "source": [
    "### Logistic Regression based Implementation."
   ]
  },
  {
   "cell_type": "code",
   "execution_count": 21,
   "metadata": {
    "execution": {
     "iopub.execute_input": "2020-11-03T10:05:48.834153Z",
     "iopub.status.busy": "2020-11-03T10:05:48.833232Z",
     "iopub.status.idle": "2020-11-03T10:05:48.839171Z",
     "shell.execute_reply": "2020-11-03T10:05:48.838416Z"
    },
    "papermill": {
     "duration": 0.053963,
     "end_time": "2020-11-03T10:05:48.839297",
     "exception": false,
     "start_time": "2020-11-03T10:05:48.785334",
     "status": "completed"
    },
    "tags": []
   },
   "outputs": [],
   "source": [
    "learner_lr = Learner(loss, model_lr, opt, config.num_epochs)\n",
    "acc_lr = ClfCallback(learner_lr, config.bs, training_xdata , testing_xdata, training_ydata, testing_ydata)\n",
    "learner_lr.set_callbacks([acc_lr])"
   ]
  },
  {
   "cell_type": "code",
   "execution_count": 22,
   "metadata": {
    "execution": {
     "iopub.execute_input": "2020-11-03T10:05:48.914224Z",
     "iopub.status.busy": "2020-11-03T10:05:48.913650Z",
     "iopub.status.idle": "2020-11-03T10:06:03.628105Z",
     "shell.execute_reply": "2020-11-03T10:06:03.628826Z"
    },
    "papermill": {
     "duration": 14.754243,
     "end_time": "2020-11-03T10:06:03.628976",
     "exception": false,
     "start_time": "2020-11-03T10:05:48.874733",
     "status": "completed"
    },
    "tags": []
   },
   "outputs": [
    {
     "name": "stdout",
     "output_type": "stream",
     "text": [
      "====== Logistic Regression ======\n",
      "Epoch 0, Loss 0.2054\n",
      "Training Accuracy: 0.8171, Testing Accuracy: 0.8196\n",
      "\n"
     ]
    },
    {
     "name": "stdout",
     "output_type": "stream",
     "text": [
      "Epoch 10, Loss 0.0973\n",
      "Training Accuracy: 0.9154, Testing Accuracy: 0.9269\n",
      "\n"
     ]
    },
    {
     "name": "stdout",
     "output_type": "stream",
     "text": [
      "Epoch 20, Loss 0.0767\n",
      "Training Accuracy: 0.9302, Testing Accuracy: 0.9435\n",
      "\n"
     ]
    },
    {
     "name": "stdout",
     "output_type": "stream",
     "text": [
      "Epoch 30, Loss 0.0668\n",
      "Training Accuracy: 0.9382, Testing Accuracy: 0.9491\n",
      "\n"
     ]
    },
    {
     "name": "stdout",
     "output_type": "stream",
     "text": [
      "Epoch 40, Loss 0.0606\n",
      "Training Accuracy: 0.9429, Testing Accuracy: 0.9546\n",
      "\n"
     ]
    },
    {
     "name": "stdout",
     "output_type": "stream",
     "text": [
      "Epoch 50, Loss 0.0564\n",
      "Training Accuracy: 0.9468, Testing Accuracy: 0.9561\n",
      "\n"
     ]
    },
    {
     "name": "stdout",
     "output_type": "stream",
     "text": [
      "Epoch 60, Loss 0.0532\n",
      "Training Accuracy: 0.9482, Testing Accuracy: 0.9602\n",
      "\n"
     ]
    },
    {
     "name": "stdout",
     "output_type": "stream",
     "text": [
      "Epoch 70, Loss 0.0507\n",
      "Training Accuracy: 0.9499, Testing Accuracy: 0.9607\n",
      "\n"
     ]
    },
    {
     "name": "stdout",
     "output_type": "stream",
     "text": [
      "Epoch 80, Loss 0.0487\n",
      "Training Accuracy: 0.9510, Testing Accuracy: 0.9617\n",
      "\n"
     ]
    },
    {
     "name": "stdout",
     "output_type": "stream",
     "text": [
      "Epoch 90, Loss 0.0471\n",
      "Training Accuracy: 0.9531, Testing Accuracy: 0.9627\n",
      "\n"
     ]
    },
    {
     "name": "stdout",
     "output_type": "stream",
     "text": [
      "Epoch 100, Loss 0.0457\n",
      "Training Accuracy: 0.9543, Testing Accuracy: 0.9637\n",
      "\n"
     ]
    },
    {
     "name": "stdout",
     "output_type": "stream",
     "text": [
      "Epoch 110, Loss 0.0445\n",
      "Training Accuracy: 0.9553, Testing Accuracy: 0.9652\n",
      "\n"
     ]
    },
    {
     "name": "stdout",
     "output_type": "stream",
     "text": [
      "Epoch 120, Loss 0.0435\n",
      "Training Accuracy: 0.9560, Testing Accuracy: 0.9652\n",
      "\n"
     ]
    },
    {
     "name": "stdout",
     "output_type": "stream",
     "text": [
      "Epoch 130, Loss 0.0425\n",
      "Training Accuracy: 0.9568, Testing Accuracy: 0.9662\n",
      "\n"
     ]
    },
    {
     "name": "stdout",
     "output_type": "stream",
     "text": [
      "Epoch 140, Loss 0.0417\n",
      "Training Accuracy: 0.9577, Testing Accuracy: 0.9682\n",
      "\n"
     ]
    },
    {
     "name": "stdout",
     "output_type": "stream",
     "text": [
      "Epoch 150, Loss 0.041\n",
      "Training Accuracy: 0.9581, Testing Accuracy: 0.9693\n",
      "\n"
     ]
    },
    {
     "name": "stdout",
     "output_type": "stream",
     "text": [
      "Epoch 160, Loss 0.0403\n",
      "Training Accuracy: 0.9584, Testing Accuracy: 0.9688\n",
      "\n"
     ]
    },
    {
     "name": "stdout",
     "output_type": "stream",
     "text": [
      "Epoch 170, Loss 0.0397\n",
      "Training Accuracy: 0.9585, Testing Accuracy: 0.9693\n",
      "\n"
     ]
    },
    {
     "name": "stdout",
     "output_type": "stream",
     "text": [
      "Epoch 180, Loss 0.0391\n",
      "Training Accuracy: 0.9591, Testing Accuracy: 0.9693\n",
      "\n"
     ]
    },
    {
     "name": "stdout",
     "output_type": "stream",
     "text": [
      "Epoch 190, Loss 0.0386\n",
      "Training Accuracy: 0.9594, Testing Accuracy: 0.9693\n",
      "\n"
     ]
    },
    {
     "name": "stdout",
     "output_type": "stream",
     "text": [
      "Epoch 200, Loss 0.0382\n",
      "Training Accuracy: 0.9599, Testing Accuracy: 0.9693\n",
      "\n"
     ]
    },
    {
     "name": "stdout",
     "output_type": "stream",
     "text": [
      "Epoch 210, Loss 0.0377\n",
      "Training Accuracy: 0.9601, Testing Accuracy: 0.9698\n",
      "\n"
     ]
    },
    {
     "name": "stdout",
     "output_type": "stream",
     "text": [
      "Epoch 220, Loss 0.0373\n",
      "Training Accuracy: 0.9605, Testing Accuracy: 0.9693\n",
      "\n"
     ]
    },
    {
     "name": "stdout",
     "output_type": "stream",
     "text": [
      "Epoch 230, Loss 0.0369\n",
      "Training Accuracy: 0.9609, Testing Accuracy: 0.9698\n",
      "\n"
     ]
    },
    {
     "name": "stdout",
     "output_type": "stream",
     "text": [
      "Epoch 240, Loss 0.0366\n",
      "Training Accuracy: 0.9612, Testing Accuracy: 0.9698\n",
      "\n"
     ]
    },
    {
     "name": "stdout",
     "output_type": "stream",
     "text": [
      "Epoch 250, Loss 0.0363\n",
      "Training Accuracy: 0.9615, Testing Accuracy: 0.9698\n",
      "\n"
     ]
    },
    {
     "data": {
      "text/plain": [
       "0.016150845842763523"
      ]
     },
     "execution_count": 22,
     "metadata": {},
     "output_type": "execute_result"
    }
   ],
   "source": [
    "print(\"====== Logistic Regression ======\")\n",
    "learner_lr.train_loop(dl)"
   ]
  },
  {
   "cell_type": "markdown",
   "metadata": {
    "papermill": {
     "duration": 0.040319,
     "end_time": "2020-11-03T10:06:03.711538",
     "exception": false,
     "start_time": "2020-11-03T10:06:03.671219",
     "status": "completed"
    },
    "tags": []
   },
   "source": [
    "### Comparing results of NN and LR"
   ]
  },
  {
   "cell_type": "code",
   "execution_count": 23,
   "metadata": {
    "execution": {
     "iopub.execute_input": "2020-11-03T10:06:03.796557Z",
     "iopub.status.busy": "2020-11-03T10:06:03.795498Z",
     "iopub.status.idle": "2020-11-03T10:06:04.023395Z",
     "shell.execute_reply": "2020-11-03T10:06:04.023886Z"
    },
    "papermill": {
     "duration": 0.272659,
     "end_time": "2020-11-03T10:06:04.024041",
     "exception": false,
     "start_time": "2020-11-03T10:06:03.751382",
     "status": "completed"
    },
    "tags": []
   },
   "outputs": [
    {
     "data": {
      "text/plain": [
       "<matplotlib.legend.Legend at 0x7f7ecfae10f0>"
      ]
     },
     "execution_count": 23,
     "metadata": {},
     "output_type": "execute_result"
    },
    {
     "data": {
      "image/png": "[encoded data removed]",
      "text/plain": [
       "<Figure size 1080x720 with 1 Axes>"
      ]
     },
     "metadata": {
      "needs_background": "light"
     },
     "output_type": "display_data"
    }
   ],
   "source": [
    "plt.figure(figsize=(15,10))\n",
    "\n",
    "# Neural Network plots\n",
    "plt.plot(acc_nn.accuracies, 'r-', label = \"Training Accuracies - NN\")\n",
    "plt.plot(acc_nn.test_accuracies, 'g-', label = \"Testing Accuracies - NN\")\n",
    "\n",
    "# Logistic Regression plots\n",
    "plt.plot(acc_lr.accuracies, 'k-', label = \"Training Accuracies - LR\")\n",
    "plt.plot(acc_lr.test_accuracies, 'b-', label = \"Testing Accuracies - LR\")\n",
    "\n",
    "plt.ylim(0.8, 1)\n",
    "\n",
    "plt.legend()\n",
    "\n"
   ]
  },
  {
   "cell_type": "markdown",
   "metadata": {
    "papermill": {
     "duration": 0.044219,
     "end_time": "2020-11-03T10:06:04.113857",
     "exception": false,
     "start_time": "2020-11-03T10:06:04.069638",
     "status": "completed"
    },
    "tags": []
   },
   "source": [
    "### From the plot, we can observe the following:\n",
    "- Neural Network achieves higher accuracy than the Logistic Regression model.\n",
    "- This apparently, is because of overfitting, i.e. NN captures more noise than data.\n",
    "- Testing accuracy of NN drops below the Training accuracy at higher epochs. This explains the over-fitting on training data.\n",
    "- Logistic Regression gives a reliable accuracy, without the above mentioned problem.\n"
   ]
  },
  {
   "cell_type": "markdown",
   "metadata": {
    "papermill": {
     "duration": 0.044259,
     "end_time": "2020-11-03T10:06:04.202820",
     "exception": false,
     "start_time": "2020-11-03T10:06:04.158561",
     "status": "completed"
    },
    "tags": []
   },
   "source": [
    "### Moving till the last but one layer (excluding it).\n",
    "#### Plotting the outputs of this layer of the NN."
   ]
  },
  {
   "cell_type": "code",
   "execution_count": 24,
   "metadata": {
    "execution": {
     "iopub.execute_input": "2020-11-03T10:06:04.300181Z",
     "iopub.status.busy": "2020-11-03T10:06:04.299603Z",
     "iopub.status.idle": "2020-11-03T10:06:04.310984Z",
     "shell.execute_reply": "2020-11-03T10:06:04.311456Z"
    },
    "papermill": {
     "duration": 0.064288,
     "end_time": "2020-11-03T10:06:04.311614",
     "exception": false,
     "start_time": "2020-11-03T10:06:04.247326",
     "status": "completed"
    },
    "tags": []
   },
   "outputs": [],
   "source": [
    "model_new = Model(layers[:-2])"
   ]
  },
  {
   "cell_type": "code",
   "execution_count": 25,
   "metadata": {
    "execution": {
     "iopub.execute_input": "2020-11-03T10:06:04.425662Z",
     "iopub.status.busy": "2020-11-03T10:06:04.418438Z",
     "iopub.status.idle": "2020-11-03T10:06:04.430603Z",
     "shell.execute_reply": "2020-11-03T10:06:04.431276Z"
    },
    "papermill": {
     "duration": 0.074368,
     "end_time": "2020-11-03T10:06:04.431429",
     "exception": false,
     "start_time": "2020-11-03T10:06:04.357061",
     "status": "completed"
    },
    "tags": []
   },
   "outputs": [],
   "source": [
    "plot_testing = model_new(testing_xdata)"
   ]
  },
  {
   "cell_type": "code",
   "execution_count": 26,
   "metadata": {
    "execution": {
     "iopub.execute_input": "2020-11-03T10:06:04.526881Z",
     "iopub.status.busy": "2020-11-03T10:06:04.526299Z",
     "iopub.status.idle": "2020-11-03T10:06:04.732693Z",
     "shell.execute_reply": "2020-11-03T10:06:04.732180Z"
    },
    "papermill": {
     "duration": 0.256624,
     "end_time": "2020-11-03T10:06:04.732834",
     "exception": false,
     "start_time": "2020-11-03T10:06:04.476210",
     "status": "completed"
    },
    "tags": []
   },
   "outputs": [
    {
     "data": {
      "text/plain": [
       "Text(0.5, 1.0, 'Outputs')"
      ]
     },
     "execution_count": 26,
     "metadata": {},
     "output_type": "execute_result"
    },
    {
     "data": {
      "image/png": "[encoded data removed]",
      "text/plain": [
       "<Figure size 576x504 with 1 Axes>"
      ]
     },
     "metadata": {
      "needs_background": "light"
     },
     "output_type": "display_data"
    }
   ],
   "source": [
    "plt.figure(figsize=(8,7))\n",
    "plt.scatter(plot_testing[:,0], plot_testing[:,1], alpha = 0.1, c = y_test.ravel());\n",
    "plt.title('Outputs')"
   ]
  },
  {
   "cell_type": "markdown",
   "metadata": {
    "papermill": {
     "duration": 0.046639,
     "end_time": "2020-11-03T10:06:04.827180",
     "exception": false,
     "start_time": "2020-11-03T10:06:04.780541",
     "status": "completed"
    },
    "tags": []
   },
   "source": [
    "### Plotting probability contours"
   ]
  },
  {
   "cell_type": "code",
   "execution_count": 27,
   "metadata": {
    "execution": {
     "iopub.execute_input": "2020-11-03T10:06:04.925420Z",
     "iopub.status.busy": "2020-11-03T10:06:04.924831Z",
     "iopub.status.idle": "2020-11-03T10:06:04.939265Z",
     "shell.execute_reply": "2020-11-03T10:06:04.939708Z"
    },
    "papermill": {
     "duration": 0.06598,
     "end_time": "2020-11-03T10:06:04.939849",
     "exception": false,
     "start_time": "2020-11-03T10:06:04.873869",
     "status": "completed"
    },
    "tags": []
   },
   "outputs": [],
   "source": [
    "model_prob = Model(layers[-2:]) "
   ]
  },
  {
   "cell_type": "code",
   "execution_count": 28,
   "metadata": {
    "execution": {
     "iopub.execute_input": "2020-11-03T10:06:05.039798Z",
     "iopub.status.busy": "2020-11-03T10:06:05.039196Z",
     "iopub.status.idle": "2020-11-03T10:06:05.056273Z",
     "shell.execute_reply": "2020-11-03T10:06:05.056755Z"
    },
    "papermill": {
     "duration": 0.070458,
     "end_time": "2020-11-03T10:06:05.056908",
     "exception": false,
     "start_time": "2020-11-03T10:06:04.986450",
     "status": "completed"
    },
    "tags": []
   },
   "outputs": [],
   "source": [
    "# Adjust the x and y ranges according to the above generated plot.\n",
    "x_range = np.linspace(-4, 1, 100) \n",
    "y_range = np.linspace(-6, 6, 100) \n",
    "x_grid, y_grid = np.meshgrid(x_range, y_range) # x_grid and y_grig are of size 100 X 100\n",
    "\n",
    "# converting x_grid and y_grid to continuous arrays\n",
    "x_grid_flat = np.ravel(x_grid)\n",
    "y_grid_flat = np.ravel(y_grid)\n",
    "\n",
    "# The last layer of the current model takes two columns as input. Hence transpose of np.vstack() is required.\n",
    "X = np.vstack((x_grid_flat, y_grid_flat)).T\n",
    "\n",
    "# x_grid and y_grid are of size 100 x 100\n",
    "probability_contour = model_prob(X).reshape(100,100) "
   ]
  },
  {
   "cell_type": "code",
   "execution_count": 29,
   "metadata": {
    "execution": {
     "iopub.execute_input": "2020-11-03T10:06:05.164070Z",
     "iopub.status.busy": "2020-11-03T10:06:05.157181Z",
     "iopub.status.idle": "2020-11-03T10:06:05.415704Z",
     "shell.execute_reply": "2020-11-03T10:06:05.416557Z"
    },
    "papermill": {
     "duration": 0.312373,
     "end_time": "2020-11-03T10:06:05.416802",
     "exception": false,
     "start_time": "2020-11-03T10:06:05.104429",
     "status": "completed"
    },
    "tags": []
   },
   "outputs": [
    {
     "data": {
      "image/png": "[encoded data removed]",
      "text/plain": [
       "<Figure size 720x648 with 1 Axes>"
      ]
     },
     "metadata": {
      "needs_background": "light"
     },
     "output_type": "display_data"
    }
   ],
   "source": [
    "plt.figure(figsize=(10,9))\n",
    "plt.scatter(plot_testing[:,0], plot_testing[:,1], alpha = 0.1, c = y_test.ravel())\n",
    "contours = plt.contour(x_grid,y_grid,probability_contour)\n",
    "plt.title('Probability Contours')\n",
    "plt.clabel(contours, inline = True );"
   ]
  }
 ],
 "metadata": {
  "kernelspec": {
   "display_name": "Python 3",
   "language": "python",
   "name": "python3"
  },
  "language_info": {
   "codemirror_mode": {
    "name": "ipython",
    "version": 3
   },
   "file_extension": ".py",
   "mimetype": "text/x-python",
   "name": "python",
   "nbconvert_exporter": "python",
   "pygments_lexer": "ipython3",
   "version": "3.6.12"
  },
  "papermill": {
   "duration": 104.950901,
   "end_time": "2020-11-03T10:06:05.875515",
   "environment_variables": {},
   "exception": null,
   "input_path": "2020-08-11-NeuralNetwork.ipynb",
   "output_path": "2020-08-11-NeuralNetwork.ipynb",
   "parameters": {},
   "start_time": "2020-11-03T10:04:20.924614",
   "version": "2.1.2"
  }
 },
 "nbformat": 4,
 "nbformat_minor": 4
}