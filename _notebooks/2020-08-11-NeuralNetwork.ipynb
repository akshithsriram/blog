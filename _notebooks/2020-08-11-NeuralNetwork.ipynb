{
 "cells": [
  {
   "cell_type": "markdown",
   "metadata": {
    "papermill": {
     "duration": 0.03703,
     "end_time": "2020-09-06T10:04:23.246540",
     "exception": false,
     "start_time": "2020-09-06T10:04:23.209510",
     "status": "completed"
    },
    "tags": []
   },
   "source": [
    "# \"A Basic Neural Network: Differentiate Hand-Written Digits\"\n",
    "\n",
    "- badges: true\n",
    "- author: Akshith Sriram"
   ]
  },
  {
   "cell_type": "markdown",
   "metadata": {
    "papermill": {
     "duration": 0.028373,
     "end_time": "2020-09-06T10:04:23.308093",
     "exception": false,
     "start_time": "2020-09-06T10:04:23.279720",
     "status": "completed"
    },
    "tags": []
   },
   "source": [
    "### Key Objectives:\n",
    "- Building a neural network that differentiates two hand-written digits 3 and 8.\n",
    "- Comparing the results of this Neural Network (NN) to that of a Logistic Regression (LR) model.\n",
    "\n",
    "### Requirements:\n",
    "- 'Kudzu' : A neural network library that was designed during our course by [Univ.AI](www.univ.ai). \n",
    "- MNIST Database\n",
    "\n",
    "If MNIST is not installed, use the command `!pip install mnist` given below.\n",
    "It can be run both from the command line and Jupyter Notebook."
   ]
  },
  {
   "cell_type": "code",
   "execution_count": 1,
   "metadata": {
    "execution": {
     "iopub.execute_input": "2020-09-06T10:04:23.367940Z",
     "iopub.status.busy": "2020-09-06T10:04:23.367244Z",
     "iopub.status.idle": "2020-09-06T10:04:25.114621Z",
     "shell.execute_reply": "2020-09-06T10:04:25.115145Z"
    },
    "papermill": {
     "duration": 1.779508,
     "end_time": "2020-09-06T10:04:25.115348",
     "exception": false,
     "start_time": "2020-09-06T10:04:23.335840",
     "status": "completed"
    },
    "tags": []
   },
   "outputs": [
    {
     "name": "stdout",
     "output_type": "stream",
     "text": [
      "Collecting mnist\r\n"
     ]
    },
    {
     "name": "stdout",
     "output_type": "stream",
     "text": [
      "  Downloading mnist-0.2.2-py2.py3-none-any.whl (3.5 kB)\r\n"
     ]
    },
    {
     "name": "stdout",
     "output_type": "stream",
     "text": [
      "Requirement already satisfied: numpy in /opt/hostedtoolcache/Python/3.6.12/x64/lib/python3.6/site-packages (from mnist) (1.19.1)\r\n"
     ]
    },
    {
     "name": "stdout",
     "output_type": "stream",
     "text": [
      "Installing collected packages: mnist\r\n"
     ]
    },
    {
     "name": "stdout",
     "output_type": "stream",
     "text": [
      "Successfully installed mnist-0.2.2\r\n"
     ]
    }
   ],
   "source": [
    "!pip install mnist "
   ]
  },
  {
   "cell_type": "markdown",
   "metadata": {
    "papermill": {
     "duration": 0.036954,
     "end_time": "2020-09-06T10:04:25.192115",
     "exception": false,
     "start_time": "2020-09-06T10:04:25.155161",
     "status": "completed"
    },
    "tags": []
   },
   "source": [
    "#### Importing necessary libraries"
   ]
  },
  {
   "cell_type": "code",
   "execution_count": 2,
   "metadata": {
    "execution": {
     "iopub.execute_input": "2020-09-06T10:04:25.263181Z",
     "iopub.status.busy": "2020-09-06T10:04:25.262504Z",
     "iopub.status.idle": "2020-09-06T10:04:25.896902Z",
     "shell.execute_reply": "2020-09-06T10:04:25.896271Z"
    },
    "papermill": {
     "duration": 0.673582,
     "end_time": "2020-09-06T10:04:25.897073",
     "exception": false,
     "start_time": "2020-09-06T10:04:25.223491",
     "status": "completed"
    },
    "tags": []
   },
   "outputs": [],
   "source": [
    "%load_ext autoreload\n",
    "%autoreload 2\n",
    "\n",
    "%matplotlib inline\n",
    "import matplotlib.pyplot as plt\n",
    "\n",
    "import numpy as np\n",
    "import pandas as pd"
   ]
  },
  {
   "cell_type": "markdown",
   "metadata": {
    "papermill": {
     "duration": 0.038258,
     "end_time": "2020-09-06T10:04:25.973294",
     "exception": false,
     "start_time": "2020-09-06T10:04:25.935036",
     "status": "completed"
    },
    "tags": []
   },
   "source": [
    "### Preparing the Data"
   ]
  },
  {
   "cell_type": "code",
   "execution_count": 3,
   "metadata": {
    "execution": {
     "iopub.execute_input": "2020-09-06T10:04:26.038617Z",
     "iopub.status.busy": "2020-09-06T10:04:26.037973Z",
     "iopub.status.idle": "2020-09-06T10:04:26.052646Z",
     "shell.execute_reply": "2020-09-06T10:04:26.051942Z"
    },
    "papermill": {
     "duration": 0.047774,
     "end_time": "2020-09-06T10:04:26.052784",
     "exception": false,
     "start_time": "2020-09-06T10:04:26.005010",
     "status": "completed"
    },
    "tags": []
   },
   "outputs": [],
   "source": [
    "import mnist"
   ]
  },
  {
   "cell_type": "code",
   "execution_count": 4,
   "metadata": {
    "execution": {
     "iopub.execute_input": "2020-09-06T10:04:26.117645Z",
     "iopub.status.busy": "2020-09-06T10:04:26.116937Z",
     "iopub.status.idle": "2020-09-06T10:04:27.113062Z",
     "shell.execute_reply": "2020-09-06T10:04:27.112333Z"
    },
    "papermill": {
     "duration": 1.02911,
     "end_time": "2020-09-06T10:04:27.113238",
     "exception": false,
     "start_time": "2020-09-06T10:04:26.084128",
     "status": "completed"
    },
    "tags": []
   },
   "outputs": [],
   "source": [
    "train_images = mnist.train_images()\n",
    "train_labels = mnist.train_labels()"
   ]
  },
  {
   "cell_type": "code",
   "execution_count": 5,
   "metadata": {
    "execution": {
     "iopub.execute_input": "2020-09-06T10:04:27.182039Z",
     "iopub.status.busy": "2020-09-06T10:04:27.181391Z",
     "iopub.status.idle": "2020-09-06T10:04:27.198225Z",
     "shell.execute_reply": "2020-09-06T10:04:27.198870Z"
    },
    "papermill": {
     "duration": 0.051004,
     "end_time": "2020-09-06T10:04:27.199057",
     "exception": false,
     "start_time": "2020-09-06T10:04:27.148053",
     "status": "completed"
    },
    "tags": []
   },
   "outputs": [
    {
     "data": {
      "text/plain": [
       "((60000, 28, 28), (60000,))"
      ]
     },
     "execution_count": 5,
     "metadata": {},
     "output_type": "execute_result"
    }
   ],
   "source": [
    "train_images.shape, train_labels.shape"
   ]
  },
  {
   "cell_type": "code",
   "execution_count": 6,
   "metadata": {
    "execution": {
     "iopub.execute_input": "2020-09-06T10:04:27.274713Z",
     "iopub.status.busy": "2020-09-06T10:04:27.274083Z",
     "iopub.status.idle": "2020-09-06T10:04:27.676930Z",
     "shell.execute_reply": "2020-09-06T10:04:27.675339Z"
    },
    "papermill": {
     "duration": 0.444413,
     "end_time": "2020-09-06T10:04:27.677104",
     "exception": false,
     "start_time": "2020-09-06T10:04:27.232691",
     "status": "completed"
    },
    "tags": []
   },
   "outputs": [],
   "source": [
    "test_images = mnist.test_images()\n",
    "test_labels = mnist.test_labels()"
   ]
  },
  {
   "cell_type": "code",
   "execution_count": 7,
   "metadata": {
    "execution": {
     "iopub.execute_input": "2020-09-06T10:04:27.749375Z",
     "iopub.status.busy": "2020-09-06T10:04:27.748725Z",
     "iopub.status.idle": "2020-09-06T10:04:27.763665Z",
     "shell.execute_reply": "2020-09-06T10:04:27.763041Z"
    },
    "papermill": {
     "duration": 0.05051,
     "end_time": "2020-09-06T10:04:27.763820",
     "exception": false,
     "start_time": "2020-09-06T10:04:27.713310",
     "status": "completed"
    },
    "tags": []
   },
   "outputs": [
    {
     "data": {
      "text/plain": [
       "((10000, 28, 28), (10000,))"
      ]
     },
     "execution_count": 7,
     "metadata": {},
     "output_type": "execute_result"
    }
   ],
   "source": [
    "test_images.shape, test_labels.shape"
   ]
  },
  {
   "cell_type": "code",
   "execution_count": 8,
   "metadata": {
    "execution": {
     "iopub.execute_input": "2020-09-06T10:04:27.840748Z",
     "iopub.status.busy": "2020-09-06T10:04:27.840075Z",
     "iopub.status.idle": "2020-09-06T10:04:28.036175Z",
     "shell.execute_reply": "2020-09-06T10:04:28.036745Z"
    },
    "papermill": {
     "duration": 0.23627,
     "end_time": "2020-09-06T10:04:28.036934",
     "exception": false,
     "start_time": "2020-09-06T10:04:27.800664",
     "status": "completed"
    },
    "tags": []
   },
   "outputs": [
    {
     "name": "stdout",
     "output_type": "stream",
     "text": [
      "2\n"
     ]
    },
    {
     "data": {
      "text/plain": [
       "<matplotlib.image.AxesImage at 0x7fcf317a2be0>"
      ]
     },
     "execution_count": 8,
     "metadata": {},
     "output_type": "execute_result"
    },
    {
     "data": {
      "image/png": "[encoded data removed]",
      "text/plain": [
       "<Figure size 432x288 with 1 Axes>"
      ]
     },
     "metadata": {
      "needs_background": "light"
     },
     "output_type": "display_data"
    }
   ],
   "source": [
    "image_index = 7776 # You may select anything up to 60,000\n",
    "print(train_labels[image_index]) \n",
    "plt.imshow(train_images[image_index], cmap='Greys')"
   ]
  },
  {
   "cell_type": "markdown",
   "metadata": {
    "papermill": {
     "duration": 0.033249,
     "end_time": "2020-09-06T10:04:28.106923",
     "exception": false,
     "start_time": "2020-09-06T10:04:28.073674",
     "status": "completed"
    },
    "tags": []
   },
   "source": [
    "## Filter data to get 3 and 8 out"
   ]
  },
  {
   "cell_type": "code",
   "execution_count": 9,
   "metadata": {
    "execution": {
     "iopub.execute_input": "2020-09-06T10:04:28.174936Z",
     "iopub.status.busy": "2020-09-06T10:04:28.173789Z",
     "iopub.status.idle": "2020-09-06T10:04:28.194914Z",
     "shell.execute_reply": "2020-09-06T10:04:28.193470Z"
    },
    "papermill": {
     "duration": 0.056308,
     "end_time": "2020-09-06T10:04:28.195080",
     "exception": false,
     "start_time": "2020-09-06T10:04:28.138772",
     "status": "completed"
    },
    "tags": []
   },
   "outputs": [],
   "source": [
    "train_filter = np.where((train_labels == 3 ) | (train_labels == 8))\n",
    "test_filter = np.where((test_labels == 3) | (test_labels == 8))\n",
    "X_train, y_train = train_images[train_filter], train_labels[train_filter]\n",
    "X_test, y_test = test_images[test_filter], test_labels[test_filter]"
   ]
  },
  {
   "cell_type": "markdown",
   "metadata": {
    "papermill": {
     "duration": 0.032467,
     "end_time": "2020-09-06T10:04:28.264855",
     "exception": false,
     "start_time": "2020-09-06T10:04:28.232388",
     "status": "completed"
    },
    "tags": []
   },
   "source": [
    "We normalize the pixel values in the 0 to 1 range"
   ]
  },
  {
   "cell_type": "code",
   "execution_count": 10,
   "metadata": {
    "execution": {
     "iopub.execute_input": "2020-09-06T10:04:28.337642Z",
     "iopub.status.busy": "2020-09-06T10:04:28.336066Z",
     "iopub.status.idle": "2020-09-06T10:04:28.408571Z",
     "shell.execute_reply": "2020-09-06T10:04:28.407979Z"
    },
    "papermill": {
     "duration": 0.111903,
     "end_time": "2020-09-06T10:04:28.408739",
     "exception": false,
     "start_time": "2020-09-06T10:04:28.296836",
     "status": "completed"
    },
    "tags": []
   },
   "outputs": [],
   "source": [
    "X_train = X_train/255.\n",
    "X_test = X_test/255."
   ]
  },
  {
   "cell_type": "markdown",
   "metadata": {
    "papermill": {
     "duration": 0.030935,
     "end_time": "2020-09-06T10:04:28.472206",
     "exception": false,
     "start_time": "2020-09-06T10:04:28.441271",
     "status": "completed"
    },
    "tags": []
   },
   "source": [
    "Setup the labels as 1 (when the digit is 3) and 0 (when the digit is 8)"
   ]
  },
  {
   "cell_type": "code",
   "execution_count": 11,
   "metadata": {
    "execution": {
     "iopub.execute_input": "2020-09-06T10:04:28.540516Z",
     "iopub.status.busy": "2020-09-06T10:04:28.539844Z",
     "iopub.status.idle": "2020-09-06T10:04:28.553454Z",
     "shell.execute_reply": "2020-09-06T10:04:28.552903Z"
    },
    "papermill": {
     "duration": 0.049428,
     "end_time": "2020-09-06T10:04:28.553590",
     "exception": false,
     "start_time": "2020-09-06T10:04:28.504162",
     "status": "completed"
    },
    "tags": []
   },
   "outputs": [],
   "source": [
    "y_train = 1*(y_train==3)\n",
    "y_test = 1*(y_test==3)"
   ]
  },
  {
   "cell_type": "code",
   "execution_count": 12,
   "metadata": {
    "execution": {
     "iopub.execute_input": "2020-09-06T10:04:28.620826Z",
     "iopub.status.busy": "2020-09-06T10:04:28.620179Z",
     "iopub.status.idle": "2020-09-06T10:04:28.634186Z",
     "shell.execute_reply": "2020-09-06T10:04:28.634807Z"
    },
    "papermill": {
     "duration": 0.049143,
     "end_time": "2020-09-06T10:04:28.634954",
     "exception": false,
     "start_time": "2020-09-06T10:04:28.585811",
     "status": "completed"
    },
    "tags": []
   },
   "outputs": [
    {
     "data": {
      "text/plain": [
       "((11982, 28, 28), (1984, 28, 28))"
      ]
     },
     "execution_count": 12,
     "metadata": {},
     "output_type": "execute_result"
    }
   ],
   "source": [
    "X_train.shape, X_test.shape"
   ]
  },
  {
   "cell_type": "markdown",
   "metadata": {
    "papermill": {
     "duration": 0.031573,
     "end_time": "2020-09-06T10:04:28.698169",
     "exception": false,
     "start_time": "2020-09-06T10:04:28.666596",
     "status": "completed"
    },
    "tags": []
   },
   "source": [
    "### Reshape the input data to create a linear array"
   ]
  },
  {
   "cell_type": "code",
   "execution_count": 13,
   "metadata": {
    "execution": {
     "iopub.execute_input": "2020-09-06T10:04:28.772019Z",
     "iopub.status.busy": "2020-09-06T10:04:28.771367Z",
     "iopub.status.idle": "2020-09-06T10:04:28.787379Z",
     "shell.execute_reply": "2020-09-06T10:04:28.787931Z"
    },
    "papermill": {
     "duration": 0.056702,
     "end_time": "2020-09-06T10:04:28.788087",
     "exception": false,
     "start_time": "2020-09-06T10:04:28.731385",
     "status": "completed"
    },
    "tags": []
   },
   "outputs": [
    {
     "data": {
      "text/plain": [
       "((11982, 784), (1984, 784))"
      ]
     },
     "execution_count": 13,
     "metadata": {},
     "output_type": "execute_result"
    }
   ],
   "source": [
    "X_train = X_train.reshape(X_train.shape[0], -1)\n",
    "X_test = X_test.reshape(X_test.shape[0], -1)\n",
    "X_train.shape, X_test.shape"
   ]
  },
  {
   "cell_type": "markdown",
   "metadata": {
    "papermill": {
     "duration": 0.032628,
     "end_time": "2020-09-06T10:04:28.851865",
     "exception": false,
     "start_time": "2020-09-06T10:04:28.819237",
     "status": "completed"
    },
    "tags": []
   },
   "source": [
    "### Importing appropriate functions from 'Kudzu'"
   ]
  },
  {
   "cell_type": "code",
   "execution_count": 14,
   "metadata": {
    "execution": {
     "iopub.execute_input": "2020-09-06T10:04:28.921045Z",
     "iopub.status.busy": "2020-09-06T10:04:28.920399Z",
     "iopub.status.idle": "2020-09-06T10:04:28.943369Z",
     "shell.execute_reply": "2020-09-06T10:04:28.942826Z"
    },
    "papermill": {
     "duration": 0.059177,
     "end_time": "2020-09-06T10:04:28.943509",
     "exception": false,
     "start_time": "2020-09-06T10:04:28.884332",
     "status": "completed"
    },
    "tags": []
   },
   "outputs": [],
   "source": [
    "from kudzu.layer import Sigmoid\n",
    "from kudzu.layer import Relu\n",
    "from kudzu.layer import Affine, Sigmoid\n",
    "\n",
    "from kudzu.model import Model\n",
    "from kudzu.train import Learner\n",
    "from kudzu.optim import GD\n",
    "from kudzu.data import Data, Dataloader, Sampler\n",
    "\n",
    "from kudzu.callbacks import AccCallback\n",
    "from kudzu.callbacks import ClfCallback\n",
    "\n",
    "from kudzu.loss import MSE"
   ]
  },
  {
   "cell_type": "markdown",
   "metadata": {
    "papermill": {
     "duration": 0.037704,
     "end_time": "2020-09-06T10:04:29.013006",
     "exception": false,
     "start_time": "2020-09-06T10:04:28.975302",
     "status": "completed"
    },
    "tags": []
   },
   "source": [
    "### Let us create a `Config` class, to store important parameters. \n",
    "This class essentially plays the role of a dictionary."
   ]
  },
  {
   "cell_type": "code",
   "execution_count": 15,
   "metadata": {
    "execution": {
     "iopub.execute_input": "2020-09-06T10:04:29.091712Z",
     "iopub.status.busy": "2020-09-06T10:04:29.080705Z",
     "iopub.status.idle": "2020-09-06T10:04:29.097581Z",
     "shell.execute_reply": "2020-09-06T10:04:29.098118Z"
    },
    "papermill": {
     "duration": 0.052889,
     "end_time": "2020-09-06T10:04:29.098290",
     "exception": false,
     "start_time": "2020-09-06T10:04:29.045401",
     "status": "completed"
    },
    "tags": []
   },
   "outputs": [],
   "source": [
    "class Config:\n",
    "    pass\n",
    "config = Config()\n",
    "config.lr = 0.001\n",
    "config.num_epochs = 251\n",
    "config.bs = 50"
   ]
  },
  {
   "cell_type": "markdown",
   "metadata": {
    "papermill": {
     "duration": 0.040256,
     "end_time": "2020-09-06T10:04:29.185042",
     "exception": false,
     "start_time": "2020-09-06T10:04:29.144786",
     "status": "completed"
    },
    "tags": []
   },
   "source": [
    "### Initializing data to the variables"
   ]
  },
  {
   "cell_type": "code",
   "execution_count": 16,
   "metadata": {
    "execution": {
     "iopub.execute_input": "2020-09-06T10:04:29.264690Z",
     "iopub.status.busy": "2020-09-06T10:04:29.264042Z",
     "iopub.status.idle": "2020-09-06T10:04:29.279788Z",
     "shell.execute_reply": "2020-09-06T10:04:29.279256Z"
    },
    "papermill": {
     "duration": 0.054435,
     "end_time": "2020-09-06T10:04:29.279957",
     "exception": false,
     "start_time": "2020-09-06T10:04:29.225522",
     "status": "completed"
    },
    "tags": []
   },
   "outputs": [],
   "source": [
    "data = Data(X_train, y_train.reshape(-1,1))\n",
    "sampler = Sampler(data, config.bs, shuffle=True)\n",
    "\n",
    "dl = Dataloader(data, sampler)\n",
    "\n",
    "opt = GD(config.lr)\n",
    "loss = MSE()"
   ]
  },
  {
   "cell_type": "code",
   "execution_count": 17,
   "metadata": {
    "execution": {
     "iopub.execute_input": "2020-09-06T10:04:29.350243Z",
     "iopub.status.busy": "2020-09-06T10:04:29.349593Z",
     "iopub.status.idle": "2020-09-06T10:04:29.370243Z",
     "shell.execute_reply": "2020-09-06T10:04:29.369621Z"
    },
    "papermill": {
     "duration": 0.057658,
     "end_time": "2020-09-06T10:04:29.370396",
     "exception": false,
     "start_time": "2020-09-06T10:04:29.312738",
     "status": "completed"
    },
    "tags": []
   },
   "outputs": [],
   "source": [
    "training_xdata = X_train\n",
    "testing_xdata = X_test\n",
    "training_ydata = y_train.reshape(-1,1)\n",
    "testing_ydata = y_test.reshape(-1,1)"
   ]
  },
  {
   "cell_type": "markdown",
   "metadata": {
    "papermill": {
     "duration": 0.039063,
     "end_time": "2020-09-06T10:04:29.451313",
     "exception": false,
     "start_time": "2020-09-06T10:04:29.412250",
     "status": "completed"
    },
    "tags": []
   },
   "source": [
    "### Running Models with the Training data\n",
    "Details about the network layers:\n",
    "- A first affine layer has 784 inputs and does 100 affine transforms. These are followed by a Relu\n",
    "- A second affine layer has 100 inputs from the 100 activations of the past layer, and does 100 affine transforms. These are followed by a Relu\n",
    "- A third affine layer has 100 activations and does 2 affine transformations to create an embedding for visualization. There is no non-linearity here.\n",
    "- A final \"logistic regression\" which has an affine transform from 2 inputs to 1 output, which is squeezed through a sigmoid.\n",
    "\n",
    "Help taken from Anshuman's Notebook."
   ]
  },
  {
   "cell_type": "code",
   "execution_count": 18,
   "metadata": {
    "execution": {
     "iopub.execute_input": "2020-09-06T10:04:29.542558Z",
     "iopub.status.busy": "2020-09-06T10:04:29.541587Z",
     "iopub.status.idle": "2020-09-06T10:04:29.561901Z",
     "shell.execute_reply": "2020-09-06T10:04:29.561277Z"
    },
    "papermill": {
     "duration": 0.070481,
     "end_time": "2020-09-06T10:04:29.562055",
     "exception": false,
     "start_time": "2020-09-06T10:04:29.491574",
     "status": "completed"
    },
    "tags": []
   },
   "outputs": [],
   "source": [
    "# layers for the Neural Network\n",
    "layers = [Affine(\"first\", 784, 100), Relu(\"first\"), Affine(\"second\", 100, 100), Relu(\"second\"), Affine(\"third\", 100, 2), Affine(\"final\", 2, 1), Sigmoid(\"final\")]\n",
    "model_nn = Model(layers)\n",
    "\n",
    "# layers for the Logistic Regression\n",
    "layers_lr = [Affine(\"logits\", 784, 1), Sigmoid(\"sigmoid\")]\n",
    "model_lr = Model(layers_lr)"
   ]
  },
  {
   "cell_type": "code",
   "execution_count": 19,
   "metadata": {
    "execution": {
     "iopub.execute_input": "2020-09-06T10:04:29.632513Z",
     "iopub.status.busy": "2020-09-06T10:04:29.631770Z",
     "iopub.status.idle": "2020-09-06T10:04:29.646910Z",
     "shell.execute_reply": "2020-09-06T10:04:29.647527Z"
    },
    "papermill": {
     "duration": 0.052235,
     "end_time": "2020-09-06T10:04:29.647701",
     "exception": false,
     "start_time": "2020-09-06T10:04:29.595466",
     "status": "completed"
    },
    "tags": []
   },
   "outputs": [],
   "source": [
    "# suffix _nn stands for Neural Network.\n",
    "learner_nn = Learner(loss, model_nn, opt, config.num_epochs)\n",
    "acc_nn = ClfCallback(learner_nn, config.bs, training_xdata , testing_xdata, training_ydata, testing_ydata)\n",
    "learner_nn.set_callbacks([acc_nn])"
   ]
  },
  {
   "cell_type": "code",
   "execution_count": 20,
   "metadata": {
    "execution": {
     "iopub.execute_input": "2020-09-06T10:04:29.734545Z",
     "iopub.status.busy": "2020-09-06T10:04:29.733808Z",
     "iopub.status.idle": "2020-09-06T10:06:41.845037Z",
     "shell.execute_reply": "2020-09-06T10:06:41.844482Z"
    },
    "papermill": {
     "duration": 132.158217,
     "end_time": "2020-09-06T10:06:41.845190",
     "exception": false,
     "start_time": "2020-09-06T10:04:29.686973",
     "status": "completed"
    },
    "tags": []
   },
   "outputs": [
    {
     "name": "stdout",
     "output_type": "stream",
     "text": [
      "====== Neural Network ======\n"
     ]
    },
    {
     "name": "stdout",
     "output_type": "stream",
     "text": [
      "Epoch 0, Loss 0.2462\n",
      "Training Accuracy: 0.5825, Testing Accuracy: 0.5842\n",
      "\n"
     ]
    },
    {
     "name": "stdout",
     "output_type": "stream",
     "text": [
      "Epoch 10, Loss 0.137\n",
      "Training Accuracy: 0.9024, Testing Accuracy: 0.9163\n",
      "\n"
     ]
    },
    {
     "name": "stdout",
     "output_type": "stream",
     "text": [
      "Epoch 20, Loss 0.0723\n",
      "Training Accuracy: 0.9285, Testing Accuracy: 0.9441\n",
      "\n"
     ]
    },
    {
     "name": "stdout",
     "output_type": "stream",
     "text": [
      "Epoch 30, Loss 0.0529\n",
      "Training Accuracy: 0.9444, Testing Accuracy: 0.9536\n",
      "\n"
     ]
    },
    {
     "name": "stdout",
     "output_type": "stream",
     "text": [
      "Epoch 40, Loss 0.0442\n",
      "Training Accuracy: 0.9518, Testing Accuracy: 0.9592\n",
      "\n"
     ]
    },
    {
     "name": "stdout",
     "output_type": "stream",
     "text": [
      "Epoch 50, Loss 0.0392\n",
      "Training Accuracy: 0.9562, Testing Accuracy: 0.9627\n",
      "\n"
     ]
    },
    {
     "name": "stdout",
     "output_type": "stream",
     "text": [
      "Epoch 60, Loss 0.0361\n",
      "Training Accuracy: 0.9588, Testing Accuracy: 0.9657\n",
      "\n"
     ]
    },
    {
     "name": "stdout",
     "output_type": "stream",
     "text": [
      "Epoch 70, Loss 0.0338\n",
      "Training Accuracy: 0.9612, Testing Accuracy: 0.9662\n",
      "\n"
     ]
    },
    {
     "name": "stdout",
     "output_type": "stream",
     "text": [
      "Epoch 80, Loss 0.032\n",
      "Training Accuracy: 0.9633, Testing Accuracy: 0.9682\n",
      "\n"
     ]
    },
    {
     "name": "stdout",
     "output_type": "stream",
     "text": [
      "Epoch 90, Loss 0.0306\n",
      "Training Accuracy: 0.9645, Testing Accuracy: 0.9693\n",
      "\n"
     ]
    },
    {
     "name": "stdout",
     "output_type": "stream",
     "text": [
      "Epoch 100, Loss 0.0294\n",
      "Training Accuracy: 0.9659, Testing Accuracy: 0.9713\n",
      "\n"
     ]
    },
    {
     "name": "stdout",
     "output_type": "stream",
     "text": [
      "Epoch 110, Loss 0.0284\n",
      "Training Accuracy: 0.9670, Testing Accuracy: 0.9718\n",
      "\n"
     ]
    },
    {
     "name": "stdout",
     "output_type": "stream",
     "text": [
      "Epoch 120, Loss 0.0276\n",
      "Training Accuracy: 0.9680, Testing Accuracy: 0.9723\n",
      "\n"
     ]
    },
    {
     "name": "stdout",
     "output_type": "stream",
     "text": [
      "Epoch 130, Loss 0.0268\n",
      "Training Accuracy: 0.9691, Testing Accuracy: 0.9718\n",
      "\n"
     ]
    },
    {
     "name": "stdout",
     "output_type": "stream",
     "text": [
      "Epoch 140, Loss 0.0261\n",
      "Training Accuracy: 0.9697, Testing Accuracy: 0.9723\n",
      "\n"
     ]
    },
    {
     "name": "stdout",
     "output_type": "stream",
     "text": [
      "Epoch 150, Loss 0.0255\n",
      "Training Accuracy: 0.9705, Testing Accuracy: 0.9723\n",
      "\n"
     ]
    },
    {
     "name": "stdout",
     "output_type": "stream",
     "text": [
      "Epoch 160, Loss 0.0249\n",
      "Training Accuracy: 0.9714, Testing Accuracy: 0.9723\n",
      "\n"
     ]
    },
    {
     "name": "stdout",
     "output_type": "stream",
     "text": [
      "Epoch 170, Loss 0.0244\n",
      "Training Accuracy: 0.9719, Testing Accuracy: 0.9723\n",
      "\n"
     ]
    },
    {
     "name": "stdout",
     "output_type": "stream",
     "text": [
      "Epoch 180, Loss 0.0239\n",
      "Training Accuracy: 0.9723, Testing Accuracy: 0.9723\n",
      "\n"
     ]
    },
    {
     "name": "stdout",
     "output_type": "stream",
     "text": [
      "Epoch 190, Loss 0.0234\n",
      "Training Accuracy: 0.9730, Testing Accuracy: 0.9733\n",
      "\n"
     ]
    },
    {
     "name": "stdout",
     "output_type": "stream",
     "text": [
      "Epoch 200, Loss 0.023\n",
      "Training Accuracy: 0.9732, Testing Accuracy: 0.9728\n",
      "\n"
     ]
    },
    {
     "name": "stdout",
     "output_type": "stream",
     "text": [
      "Epoch 210, Loss 0.0226\n",
      "Training Accuracy: 0.9736, Testing Accuracy: 0.9728\n",
      "\n"
     ]
    },
    {
     "name": "stdout",
     "output_type": "stream",
     "text": [
      "Epoch 220, Loss 0.0222\n",
      "Training Accuracy: 0.9740, Testing Accuracy: 0.9728\n",
      "\n"
     ]
    },
    {
     "name": "stdout",
     "output_type": "stream",
     "text": [
      "Epoch 230, Loss 0.0218\n",
      "Training Accuracy: 0.9745, Testing Accuracy: 0.9728\n",
      "\n"
     ]
    },
    {
     "name": "stdout",
     "output_type": "stream",
     "text": [
      "Epoch 240, Loss 0.0215\n",
      "Training Accuracy: 0.9749, Testing Accuracy: 0.9728\n",
      "\n"
     ]
    },
    {
     "name": "stdout",
     "output_type": "stream",
     "text": [
      "Epoch 250, Loss 0.0211\n",
      "Training Accuracy: 0.9761, Testing Accuracy: 0.9723\n",
      "\n"
     ]
    },
    {
     "data": {
      "text/plain": [
       "0.03517329530985308"
      ]
     },
     "execution_count": 20,
     "metadata": {},
     "output_type": "execute_result"
    }
   ],
   "source": [
    "print(\"====== Neural Network ======\")\n",
    "learner_nn.train_loop(dl)"
   ]
  },
  {
   "cell_type": "markdown",
   "metadata": {
    "papermill": {
     "duration": 0.039994,
     "end_time": "2020-09-06T10:06:41.928125",
     "exception": false,
     "start_time": "2020-09-06T10:06:41.888131",
     "status": "completed"
    },
    "tags": []
   },
   "source": [
    "### Logistic Regression based Implementation."
   ]
  },
  {
   "cell_type": "code",
   "execution_count": 21,
   "metadata": {
    "execution": {
     "iopub.execute_input": "2020-09-06T10:06:42.018562Z",
     "iopub.status.busy": "2020-09-06T10:06:42.017900Z",
     "iopub.status.idle": "2020-09-06T10:06:42.031098Z",
     "shell.execute_reply": "2020-09-06T10:06:42.031872Z"
    },
    "papermill": {
     "duration": 0.062216,
     "end_time": "2020-09-06T10:06:42.032065",
     "exception": false,
     "start_time": "2020-09-06T10:06:41.969849",
     "status": "completed"
    },
    "tags": []
   },
   "outputs": [],
   "source": [
    "learner_lr = Learner(loss, model_lr, opt, config.num_epochs)\n",
    "acc_lr = ClfCallback(learner_lr, config.bs, training_xdata , testing_xdata, training_ydata, testing_ydata)\n",
    "learner_lr.set_callbacks([acc_lr])"
   ]
  },
  {
   "cell_type": "code",
   "execution_count": 22,
   "metadata": {
    "execution": {
     "iopub.execute_input": "2020-09-06T10:06:42.128099Z",
     "iopub.status.busy": "2020-09-06T10:06:42.127375Z",
     "iopub.status.idle": "2020-09-06T10:07:01.326472Z",
     "shell.execute_reply": "2020-09-06T10:07:01.327451Z"
    },
    "papermill": {
     "duration": 19.250063,
     "end_time": "2020-09-06T10:07:01.327646",
     "exception": false,
     "start_time": "2020-09-06T10:06:42.077583",
     "status": "completed"
    },
    "tags": []
   },
   "outputs": [
    {
     "name": "stdout",
     "output_type": "stream",
     "text": [
      "====== Logistic Regression ======\n",
      "Epoch 0, Loss 0.2381\n",
      "Training Accuracy: 0.7135, Testing Accuracy: 0.7218\n",
      "\n"
     ]
    },
    {
     "name": "stdout",
     "output_type": "stream",
     "text": [
      "Epoch 10, Loss 0.0999\n",
      "Training Accuracy: 0.9204, Testing Accuracy: 0.9254\n",
      "\n"
     ]
    },
    {
     "name": "stdout",
     "output_type": "stream",
     "text": [
      "Epoch 20, Loss 0.0769\n",
      "Training Accuracy: 0.9342, Testing Accuracy: 0.9400\n",
      "\n"
     ]
    },
    {
     "name": "stdout",
     "output_type": "stream",
     "text": [
      "Epoch 30, Loss 0.0665\n",
      "Training Accuracy: 0.9404, Testing Accuracy: 0.9451\n",
      "\n"
     ]
    },
    {
     "name": "stdout",
     "output_type": "stream",
     "text": [
      "Epoch 40, Loss 0.0602\n",
      "Training Accuracy: 0.9451, Testing Accuracy: 0.9521\n",
      "\n"
     ]
    },
    {
     "name": "stdout",
     "output_type": "stream",
     "text": [
      "Epoch 50, Loss 0.056\n",
      "Training Accuracy: 0.9475, Testing Accuracy: 0.9561\n",
      "\n"
     ]
    },
    {
     "name": "stdout",
     "output_type": "stream",
     "text": [
      "Epoch 60, Loss 0.0528\n",
      "Training Accuracy: 0.9497, Testing Accuracy: 0.9577\n",
      "\n"
     ]
    },
    {
     "name": "stdout",
     "output_type": "stream",
     "text": [
      "Epoch 70, Loss 0.0504\n",
      "Training Accuracy: 0.9515, Testing Accuracy: 0.9592\n",
      "\n"
     ]
    },
    {
     "name": "stdout",
     "output_type": "stream",
     "text": [
      "Epoch 80, Loss 0.0485\n",
      "Training Accuracy: 0.9523, Testing Accuracy: 0.9602\n",
      "\n"
     ]
    },
    {
     "name": "stdout",
     "output_type": "stream",
     "text": [
      "Epoch 90, Loss 0.0468\n",
      "Training Accuracy: 0.9528, Testing Accuracy: 0.9602\n",
      "\n"
     ]
    },
    {
     "name": "stdout",
     "output_type": "stream",
     "text": [
      "Epoch 100, Loss 0.0455\n",
      "Training Accuracy: 0.9538, Testing Accuracy: 0.9617\n",
      "\n"
     ]
    },
    {
     "name": "stdout",
     "output_type": "stream",
     "text": [
      "Epoch 110, Loss 0.0443\n",
      "Training Accuracy: 0.9545, Testing Accuracy: 0.9622\n",
      "\n"
     ]
    },
    {
     "name": "stdout",
     "output_type": "stream",
     "text": [
      "Epoch 120, Loss 0.0433\n",
      "Training Accuracy: 0.9553, Testing Accuracy: 0.9622\n",
      "\n"
     ]
    },
    {
     "name": "stdout",
     "output_type": "stream",
     "text": [
      "Epoch 130, Loss 0.0424\n",
      "Training Accuracy: 0.9564, Testing Accuracy: 0.9622\n",
      "\n"
     ]
    },
    {
     "name": "stdout",
     "output_type": "stream",
     "text": [
      "Epoch 140, Loss 0.0416\n",
      "Training Accuracy: 0.9571, Testing Accuracy: 0.9637\n",
      "\n"
     ]
    },
    {
     "name": "stdout",
     "output_type": "stream",
     "text": [
      "Epoch 150, Loss 0.0409\n",
      "Training Accuracy: 0.9576, Testing Accuracy: 0.9637\n",
      "\n"
     ]
    },
    {
     "name": "stdout",
     "output_type": "stream",
     "text": [
      "Epoch 160, Loss 0.0402\n",
      "Training Accuracy: 0.9581, Testing Accuracy: 0.9642\n",
      "\n"
     ]
    },
    {
     "name": "stdout",
     "output_type": "stream",
     "text": [
      "Epoch 170, Loss 0.0396\n",
      "Training Accuracy: 0.9589, Testing Accuracy: 0.9642\n",
      "\n"
     ]
    },
    {
     "name": "stdout",
     "output_type": "stream",
     "text": [
      "Epoch 180, Loss 0.0391\n",
      "Training Accuracy: 0.9595, Testing Accuracy: 0.9652\n",
      "\n"
     ]
    },
    {
     "name": "stdout",
     "output_type": "stream",
     "text": [
      "Epoch 190, Loss 0.0386\n",
      "Training Accuracy: 0.9599, Testing Accuracy: 0.9647\n",
      "\n"
     ]
    },
    {
     "name": "stdout",
     "output_type": "stream",
     "text": [
      "Epoch 200, Loss 0.0381\n",
      "Training Accuracy: 0.9603, Testing Accuracy: 0.9642\n",
      "\n"
     ]
    },
    {
     "name": "stdout",
     "output_type": "stream",
     "text": [
      "Epoch 210, Loss 0.0377\n",
      "Training Accuracy: 0.9601, Testing Accuracy: 0.9647\n",
      "\n"
     ]
    },
    {
     "name": "stdout",
     "output_type": "stream",
     "text": [
      "Epoch 220, Loss 0.0373\n",
      "Training Accuracy: 0.9603, Testing Accuracy: 0.9657\n",
      "\n"
     ]
    },
    {
     "name": "stdout",
     "output_type": "stream",
     "text": [
      "Epoch 230, Loss 0.0369\n",
      "Training Accuracy: 0.9605, Testing Accuracy: 0.9652\n",
      "\n"
     ]
    },
    {
     "name": "stdout",
     "output_type": "stream",
     "text": [
      "Epoch 240, Loss 0.0366\n",
      "Training Accuracy: 0.9608, Testing Accuracy: 0.9662\n",
      "\n"
     ]
    },
    {
     "name": "stdout",
     "output_type": "stream",
     "text": [
      "Epoch 250, Loss 0.0362\n",
      "Training Accuracy: 0.9610, Testing Accuracy: 0.9667\n",
      "\n"
     ]
    },
    {
     "data": {
      "text/plain": [
       "0.04789367388065591"
      ]
     },
     "execution_count": 22,
     "metadata": {},
     "output_type": "execute_result"
    }
   ],
   "source": [
    "print(\"====== Logistic Regression ======\")\n",
    "learner_lr.train_loop(dl)"
   ]
  },
  {
   "cell_type": "markdown",
   "metadata": {
    "papermill": {
     "duration": 0.05836,
     "end_time": "2020-09-06T10:07:01.447207",
     "exception": false,
     "start_time": "2020-09-06T10:07:01.388847",
     "status": "completed"
    },
    "tags": []
   },
   "source": [
    "### Comparing results of NN and LR"
   ]
  },
  {
   "cell_type": "code",
   "execution_count": 23,
   "metadata": {
    "execution": {
     "iopub.execute_input": "2020-09-06T10:07:01.561008Z",
     "iopub.status.busy": "2020-09-06T10:07:01.559159Z",
     "iopub.status.idle": "2020-09-06T10:07:01.839269Z",
     "shell.execute_reply": "2020-09-06T10:07:01.839788Z"
    },
    "papermill": {
     "duration": 0.33838,
     "end_time": "2020-09-06T10:07:01.840010",
     "exception": false,
     "start_time": "2020-09-06T10:07:01.501630",
     "status": "completed"
    },
    "tags": []
   },
   "outputs": [
    {
     "data": {
      "text/plain": [
       "<matplotlib.legend.Legend at 0x7fcf31388320>"
      ]
     },
     "execution_count": 23,
     "metadata": {},
     "output_type": "execute_result"
    },
    {
     "data": {
      "image/png": "[encoded data removed]",
      "text/plain": [
       "<Figure size 1080x720 with 1 Axes>"
      ]
     },
     "metadata": {
      "needs_background": "light"
     },
     "output_type": "display_data"
    }
   ],
   "source": [
    "plt.figure(figsize=(15,10))\n",
    "\n",
    "# Neural Network plots\n",
    "plt.plot(acc_nn.accuracies, 'r-', label = \"Training Accuracies - NN\")\n",
    "plt.plot(acc_nn.test_accuracies, 'g-', label = \"Testing Accuracies - NN\")\n",
    "\n",
    "# Logistic Regression plots\n",
    "plt.plot(acc_lr.accuracies, 'k-', label = \"Training Accuracies - LR\")\n",
    "plt.plot(acc_lr.test_accuracies, 'b-', label = \"Testing Accuracies - LR\")\n",
    "\n",
    "plt.ylim(0.8, 1)\n",
    "\n",
    "plt.legend()\n",
    "\n"
   ]
  },
  {
   "cell_type": "markdown",
   "metadata": {
    "papermill": {
     "duration": 0.053346,
     "end_time": "2020-09-06T10:07:01.945458",
     "exception": false,
     "start_time": "2020-09-06T10:07:01.892112",
     "status": "completed"
    },
    "tags": []
   },
   "source": [
    "### From the plot, we can observe the following:\n",
    "- Neural Network achieves higher accuracy than the Logistic Regression model.\n",
    "- This apparently, is because of overfitting, i.e. NN captures more noise than data.\n",
    "- Testing accuracy of NN drops below the Training accuracy at higher epochs. This explains the over-fitting on training data.\n",
    "- Logistic Regression gives a reliable accuracy, without the above mentioned problem.\n"
   ]
  },
  {
   "cell_type": "markdown",
   "metadata": {
    "papermill": {
     "duration": 0.050852,
     "end_time": "2020-09-06T10:07:02.049439",
     "exception": false,
     "start_time": "2020-09-06T10:07:01.998587",
     "status": "completed"
    },
    "tags": []
   },
   "source": [
    "### Moving till the last but one layer (excluding it).\n",
    "#### Plotting the outputs of this layer of the NN."
   ]
  },
  {
   "cell_type": "code",
   "execution_count": 24,
   "metadata": {
    "execution": {
     "iopub.execute_input": "2020-09-06T10:07:02.153401Z",
     "iopub.status.busy": "2020-09-06T10:07:02.151765Z",
     "iopub.status.idle": "2020-09-06T10:07:02.166432Z",
     "shell.execute_reply": "2020-09-06T10:07:02.167045Z"
    },
    "papermill": {
     "duration": 0.068986,
     "end_time": "2020-09-06T10:07:02.167277",
     "exception": false,
     "start_time": "2020-09-06T10:07:02.098291",
     "status": "completed"
    },
    "tags": []
   },
   "outputs": [],
   "source": [
    "model_new = Model(layers[:-2])"
   ]
  },
  {
   "cell_type": "code",
   "execution_count": 25,
   "metadata": {
    "execution": {
     "iopub.execute_input": "2020-09-06T10:07:02.292327Z",
     "iopub.status.busy": "2020-09-06T10:07:02.291564Z",
     "iopub.status.idle": "2020-09-06T10:07:02.319287Z",
     "shell.execute_reply": "2020-09-06T10:07:02.320303Z"
    },
    "papermill": {
     "duration": 0.092133,
     "end_time": "2020-09-06T10:07:02.320499",
     "exception": false,
     "start_time": "2020-09-06T10:07:02.228366",
     "status": "completed"
    },
    "tags": []
   },
   "outputs": [],
   "source": [
    "plot_testing = model_new(testing_xdata)"
   ]
  },
  {
   "cell_type": "code",
   "execution_count": 26,
   "metadata": {
    "execution": {
     "iopub.execute_input": "2020-09-06T10:07:02.446214Z",
     "iopub.status.busy": "2020-09-06T10:07:02.445445Z",
     "iopub.status.idle": "2020-09-06T10:07:02.696686Z",
     "shell.execute_reply": "2020-09-06T10:07:02.696159Z"
    },
    "papermill": {
     "duration": 0.315675,
     "end_time": "2020-09-06T10:07:02.696835",
     "exception": false,
     "start_time": "2020-09-06T10:07:02.381160",
     "status": "completed"
    },
    "tags": []
   },
   "outputs": [
    {
     "data": {
      "text/plain": [
       "Text(0.5, 1.0, 'Outputs')"
      ]
     },
     "execution_count": 26,
     "metadata": {},
     "output_type": "execute_result"
    },
    {
     "data": {
      "image/png": "[encoded data removed]",
      "text/plain": [
       "<Figure size 576x504 with 1 Axes>"
      ]
     },
     "metadata": {
      "needs_background": "light"
     },
     "output_type": "display_data"
    }
   ],
   "source": [
    "plt.figure(figsize=(8,7))\n",
    "plt.scatter(plot_testing[:,0], plot_testing[:,1], alpha = 0.1, c = y_test.ravel());\n",
    "plt.title('Outputs')"
   ]
  },
  {
   "cell_type": "markdown",
   "metadata": {
    "papermill": {
     "duration": 0.04812,
     "end_time": "2020-09-06T10:07:02.797199",
     "exception": false,
     "start_time": "2020-09-06T10:07:02.749079",
     "status": "completed"
    },
    "tags": []
   },
   "source": [
    "### Plotting probability contours"
   ]
  },
  {
   "cell_type": "code",
   "execution_count": 27,
   "metadata": {
    "execution": {
     "iopub.execute_input": "2020-09-06T10:07:02.905364Z",
     "iopub.status.busy": "2020-09-06T10:07:02.898845Z",
     "iopub.status.idle": "2020-09-06T10:07:02.911902Z",
     "shell.execute_reply": "2020-09-06T10:07:02.912374Z"
    },
    "papermill": {
     "duration": 0.067306,
     "end_time": "2020-09-06T10:07:02.912509",
     "exception": false,
     "start_time": "2020-09-06T10:07:02.845203",
     "status": "completed"
    },
    "tags": []
   },
   "outputs": [],
   "source": [
    "model_prob = Model(layers[-2:]) "
   ]
  },
  {
   "cell_type": "code",
   "execution_count": 28,
   "metadata": {
    "execution": {
     "iopub.execute_input": "2020-09-06T10:07:03.025516Z",
     "iopub.status.busy": "2020-09-06T10:07:03.016846Z",
     "iopub.status.idle": "2020-09-06T10:07:03.034639Z",
     "shell.execute_reply": "2020-09-06T10:07:03.035078Z"
    },
    "papermill": {
     "duration": 0.074032,
     "end_time": "2020-09-06T10:07:03.035215",
     "exception": false,
     "start_time": "2020-09-06T10:07:02.961183",
     "status": "completed"
    },
    "tags": []
   },
   "outputs": [],
   "source": [
    "# Adjust the x and y ranges according to the above generated plot.\n",
    "x_range = np.linspace(-4, 1, 100) \n",
    "y_range = np.linspace(-6, 6, 100) \n",
    "x_grid, y_grid = np.meshgrid(x_range, y_range) # x_grid and y_grig are of size 100 X 100\n",
    "\n",
    "# converting x_grid and y_grid to continuous arrays\n",
    "x_grid_flat = np.ravel(x_grid)\n",
    "y_grid_flat = np.ravel(y_grid)\n",
    "\n",
    "# The last layer of the current model takes two columns as input. Hence transpose of np.vstack() is required.\n",
    "X = np.vstack((x_grid_flat, y_grid_flat)).T\n",
    "\n",
    "# x_grid and y_grid are of size 100 x 100\n",
    "probability_contour = model_prob(X).reshape(100,100) "
   ]
  },
  {
   "cell_type": "code",
   "execution_count": 29,
   "metadata": {
    "execution": {
     "iopub.execute_input": "2020-09-06T10:07:03.151487Z",
     "iopub.status.busy": "2020-09-06T10:07:03.150749Z",
     "iopub.status.idle": "2020-09-06T10:07:03.441006Z",
     "shell.execute_reply": "2020-09-06T10:07:03.441493Z"
    },
    "papermill": {
     "duration": 0.353921,
     "end_time": "2020-09-06T10:07:03.441664",
     "exception": false,
     "start_time": "2020-09-06T10:07:03.087743",
     "status": "completed"
    },
    "tags": []
   },
   "outputs": [
    {
     "data": {
      "image/png": "[encoded data removed]",
      "text/plain": [
       "<Figure size 720x648 with 1 Axes>"
      ]
     },
     "metadata": {
      "needs_background": "light"
     },
     "output_type": "display_data"
    }
   ],
   "source": [
    "plt.figure(figsize=(10,9))\n",
    "plt.scatter(plot_testing[:,0], plot_testing[:,1], alpha = 0.1, c = y_test.ravel())\n",
    "contours = plt.contour(x_grid,y_grid,probability_contour)\n",
    "plt.title('Probability Contours')\n",
    "plt.clabel(contours, inline = True );"
   ]
  }
 ],
 "metadata": {
  "kernelspec": {
   "display_name": "Python 3",
   "language": "python",
   "name": "python3"
  },
  "language_info": {
   "codemirror_mode": {
    "name": "ipython",
    "version": 3
   },
   "file_extension": ".py",
   "mimetype": "text/x-python",
   "name": "python",
   "nbconvert_exporter": "python",
   "pygments_lexer": "ipython3",
   "version": "3.6.12"
  },
  "papermill": {
   "duration": 161.940887,
   "end_time": "2020-09-06T10:07:03.927353",
   "environment_variables": {},
   "exception": null,
   "input_path": "2020-08-11-NeuralNetwork.ipynb",
   "output_path": "2020-08-11-NeuralNetwork.ipynb",
   "parameters": {},
   "start_time": "2020-09-06T10:04:21.986466",
   "version": "2.1.2"
  }
 },
 "nbformat": 4,
 "nbformat_minor": 4
}