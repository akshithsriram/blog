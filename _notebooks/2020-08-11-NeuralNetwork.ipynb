{
 "cells": [
  {
   "cell_type": "markdown",
   "id": "fitted-suggestion",
   "metadata": {
    "papermill": {
     "duration": 0.03412,
     "end_time": "2021-06-12T10:05:04.118115",
     "exception": false,
     "start_time": "2021-06-12T10:05:04.083995",
     "status": "completed"
    },
    "tags": []
   },
   "source": [
    "# \"A Basic Neural Network: Differentiate Hand-Written Digits\"\n",
    "\n",
    "- badges: true\n",
    "- author: Akshith Sriram"
   ]
  },
  {
   "cell_type": "markdown",
   "id": "signal-flexibility",
   "metadata": {
    "papermill": {
     "duration": 0.030273,
     "end_time": "2021-06-12T10:05:04.180096",
     "exception": false,
     "start_time": "2021-06-12T10:05:04.149823",
     "status": "completed"
    },
    "tags": []
   },
   "source": [
    "### Key Objectives:\n",
    "- Building a neural network that differentiates two hand-written digits 3 and 8.\n",
    "- Comparing the results of this Neural Network (NN) to that of a Logistic Regression (LR) model.\n",
    "\n",
    "### Requirements:\n",
    "- 'Kudzu' : A neural network library that was designed during our course by [Univ.AI](www.univ.ai). \n",
    "- MNIST Database\n",
    "\n",
    "If MNIST is not installed, use the command `!pip install mnist` given below.\n",
    "It can be run both from the command line and Jupyter Notebook."
   ]
  },
  {
   "cell_type": "code",
   "execution_count": 1,
   "id": "british-texture",
   "metadata": {
    "execution": {
     "iopub.execute_input": "2021-06-12T10:05:04.253544Z",
     "iopub.status.busy": "2021-06-12T10:05:04.252895Z",
     "iopub.status.idle": "2021-06-12T10:05:05.880036Z",
     "shell.execute_reply": "2021-06-12T10:05:05.879381Z"
    },
    "papermill": {
     "duration": 1.668803,
     "end_time": "2021-06-12T10:05:05.880185",
     "exception": false,
     "start_time": "2021-06-12T10:05:04.211382",
     "status": "completed"
    },
    "tags": []
   },
   "outputs": [
    {
     "name": "stdout",
     "output_type": "stream",
     "text": [
      "Collecting mnist\r\n"
     ]
    },
    {
     "name": "stdout",
     "output_type": "stream",
     "text": [
      "  Downloading mnist-0.2.2-py2.py3-none-any.whl (3.5 kB)\r\n",
      "Requirement already satisfied: numpy in /opt/hostedtoolcache/Python/3.6.13/x64/lib/python3.6/site-packages (from mnist) (1.19.5)\r\n"
     ]
    },
    {
     "name": "stdout",
     "output_type": "stream",
     "text": [
      "Installing collected packages: mnist\r\n"
     ]
    },
    {
     "name": "stdout",
     "output_type": "stream",
     "text": [
      "Successfully installed mnist-0.2.2\r\n"
     ]
    }
   ],
   "source": [
    "!pip install mnist "
   ]
  },
  {
   "cell_type": "markdown",
   "id": "stunning-extra",
   "metadata": {
    "papermill": {
     "duration": 0.033899,
     "end_time": "2021-06-12T10:05:05.948034",
     "exception": false,
     "start_time": "2021-06-12T10:05:05.914135",
     "status": "completed"
    },
    "tags": []
   },
   "source": [
    "#### Importing necessary libraries"
   ]
  },
  {
   "cell_type": "code",
   "execution_count": 2,
   "id": "wooden-france",
   "metadata": {
    "execution": {
     "iopub.execute_input": "2021-06-12T10:05:06.019313Z",
     "iopub.status.busy": "2021-06-12T10:05:06.018562Z",
     "iopub.status.idle": "2021-06-12T10:05:06.604004Z",
     "shell.execute_reply": "2021-06-12T10:05:06.603437Z"
    },
    "papermill": {
     "duration": 0.623806,
     "end_time": "2021-06-12T10:05:06.604169",
     "exception": false,
     "start_time": "2021-06-12T10:05:05.980363",
     "status": "completed"
    },
    "tags": []
   },
   "outputs": [],
   "source": [
    "%load_ext autoreload\n",
    "%autoreload 2\n",
    "\n",
    "%matplotlib inline\n",
    "import matplotlib.pyplot as plt\n",
    "\n",
    "import numpy as np\n",
    "import pandas as pd"
   ]
  },
  {
   "cell_type": "markdown",
   "id": "stunning-physics",
   "metadata": {
    "papermill": {
     "duration": 0.033923,
     "end_time": "2021-06-12T10:05:06.672134",
     "exception": false,
     "start_time": "2021-06-12T10:05:06.638211",
     "status": "completed"
    },
    "tags": []
   },
   "source": [
    "### Preparing the Data"
   ]
  },
  {
   "cell_type": "code",
   "execution_count": 3,
   "id": "unauthorized-remainder",
   "metadata": {
    "execution": {
     "iopub.execute_input": "2021-06-12T10:05:06.757212Z",
     "iopub.status.busy": "2021-06-12T10:05:06.756545Z",
     "iopub.status.idle": "2021-06-12T10:05:06.760922Z",
     "shell.execute_reply": "2021-06-12T10:05:06.761555Z"
    },
    "papermill": {
     "duration": 0.055025,
     "end_time": "2021-06-12T10:05:06.761720",
     "exception": false,
     "start_time": "2021-06-12T10:05:06.706695",
     "status": "completed"
    },
    "tags": []
   },
   "outputs": [],
   "source": [
    "import mnist"
   ]
  },
  {
   "cell_type": "code",
   "execution_count": 4,
   "id": "correct-antarctica",
   "metadata": {
    "execution": {
     "iopub.execute_input": "2021-06-12T10:05:06.839878Z",
     "iopub.status.busy": "2021-06-12T10:05:06.839182Z",
     "iopub.status.idle": "2021-06-12T10:09:39.831121Z",
     "shell.execute_reply": "2021-06-12T10:09:39.830614Z"
    },
    "papermill": {
     "duration": 273.035599,
     "end_time": "2021-06-12T10:09:39.831322",
     "exception": false,
     "start_time": "2021-06-12T10:05:06.795723",
     "status": "completed"
    },
    "tags": []
   },
   "outputs": [],
   "source": [
    "train_images = mnist.train_images()\n",
    "train_labels = mnist.train_labels()"
   ]
  },
  {
   "cell_type": "code",
   "execution_count": 5,
   "id": "musical-prospect",
   "metadata": {
    "execution": {
     "iopub.execute_input": "2021-06-12T10:09:39.898212Z",
     "iopub.status.busy": "2021-06-12T10:09:39.897576Z",
     "iopub.status.idle": "2021-06-12T10:09:39.911823Z",
     "shell.execute_reply": "2021-06-12T10:09:39.912516Z"
    },
    "papermill": {
     "duration": 0.048439,
     "end_time": "2021-06-12T10:09:39.912648",
     "exception": false,
     "start_time": "2021-06-12T10:09:39.864209",
     "status": "completed"
    },
    "tags": []
   },
   "outputs": [
    {
     "data": {
      "text/plain": [
       "((60000, 28, 28), (60000,))"
      ]
     },
     "execution_count": 5,
     "metadata": {},
     "output_type": "execute_result"
    }
   ],
   "source": [
    "train_images.shape, train_labels.shape"
   ]
  },
  {
   "cell_type": "code",
   "execution_count": 6,
   "id": "preliminary-elizabeth",
   "metadata": {
    "execution": {
     "iopub.execute_input": "2021-06-12T10:09:39.978050Z",
     "iopub.status.busy": "2021-06-12T10:09:39.977429Z",
     "iopub.status.idle": "2021-06-12T10:10:13.714186Z",
     "shell.execute_reply": "2021-06-12T10:10:13.713084Z"
    },
    "papermill": {
     "duration": 33.771172,
     "end_time": "2021-06-12T10:10:13.714350",
     "exception": false,
     "start_time": "2021-06-12T10:09:39.943178",
     "status": "completed"
    },
    "tags": []
   },
   "outputs": [],
   "source": [
    "test_images = mnist.test_images()\n",
    "test_labels = mnist.test_labels()"
   ]
  },
  {
   "cell_type": "code",
   "execution_count": 7,
   "id": "acknowledged-oxygen",
   "metadata": {
    "execution": {
     "iopub.execute_input": "2021-06-12T10:10:13.800700Z",
     "iopub.status.busy": "2021-06-12T10:10:13.786788Z",
     "iopub.status.idle": "2021-06-12T10:10:13.806331Z",
     "shell.execute_reply": "2021-06-12T10:10:13.805822Z"
    },
    "papermill": {
     "duration": 0.057404,
     "end_time": "2021-06-12T10:10:13.806447",
     "exception": false,
     "start_time": "2021-06-12T10:10:13.749043",
     "status": "completed"
    },
    "tags": []
   },
   "outputs": [
    {
     "data": {
      "text/plain": [
       "((10000, 28, 28), (10000,))"
      ]
     },
     "execution_count": 7,
     "metadata": {},
     "output_type": "execute_result"
    }
   ],
   "source": [
    "test_images.shape, test_labels.shape"
   ]
  },
  {
   "cell_type": "code",
   "execution_count": 8,
   "id": "innovative-organic",
   "metadata": {
    "execution": {
     "iopub.execute_input": "2021-06-12T10:10:13.888147Z",
     "iopub.status.busy": "2021-06-12T10:10:13.885918Z",
     "iopub.status.idle": "2021-06-12T10:10:14.050402Z",
     "shell.execute_reply": "2021-06-12T10:10:14.050863Z"
    },
    "papermill": {
     "duration": 0.21086,
     "end_time": "2021-06-12T10:10:14.051011",
     "exception": false,
     "start_time": "2021-06-12T10:10:13.840151",
     "status": "completed"
    },
    "tags": []
   },
   "outputs": [
    {
     "name": "stdout",
     "output_type": "stream",
     "text": [
      "2\n"
     ]
    },
    {
     "data": {
      "text/plain": [
       "<matplotlib.image.AxesImage at 0x7f1b509f3748>"
      ]
     },
     "execution_count": 8,
     "metadata": {},
     "output_type": "execute_result"
    },
    {
     "data": {
      "image/png": "[encoded data removed]",
      "text/plain": [
       "<Figure size 432x288 with 1 Axes>"
      ]
     },
     "metadata": {
      "needs_background": "light"
     },
     "output_type": "display_data"
    }
   ],
   "source": [
    "image_index = 7776 # You may select anything up to 60,000\n",
    "print(train_labels[image_index]) \n",
    "plt.imshow(train_images[image_index], cmap='Greys')"
   ]
  },
  {
   "cell_type": "markdown",
   "id": "facial-modem",
   "metadata": {
    "papermill": {
     "duration": 0.033241,
     "end_time": "2021-06-12T10:10:14.120600",
     "exception": false,
     "start_time": "2021-06-12T10:10:14.087359",
     "status": "completed"
    },
    "tags": []
   },
   "source": [
    "## Filter data to get 3 and 8 out"
   ]
  },
  {
   "cell_type": "code",
   "execution_count": 9,
   "id": "thousand-acquisition",
   "metadata": {
    "execution": {
     "iopub.execute_input": "2021-06-12T10:10:14.195644Z",
     "iopub.status.busy": "2021-06-12T10:10:14.194944Z",
     "iopub.status.idle": "2021-06-12T10:10:14.213567Z",
     "shell.execute_reply": "2021-06-12T10:10:14.212884Z"
    },
    "papermill": {
     "duration": 0.05926,
     "end_time": "2021-06-12T10:10:14.213736",
     "exception": false,
     "start_time": "2021-06-12T10:10:14.154476",
     "status": "completed"
    },
    "tags": []
   },
   "outputs": [],
   "source": [
    "train_filter = np.where((train_labels == 3 ) | (train_labels == 8))\n",
    "test_filter = np.where((test_labels == 3) | (test_labels == 8))\n",
    "X_train, y_train = train_images[train_filter], train_labels[train_filter]\n",
    "X_test, y_test = test_images[test_filter], test_labels[test_filter]"
   ]
  },
  {
   "cell_type": "markdown",
   "id": "ruled-access",
   "metadata": {
    "papermill": {
     "duration": 0.03285,
     "end_time": "2021-06-12T10:10:14.282510",
     "exception": false,
     "start_time": "2021-06-12T10:10:14.249660",
     "status": "completed"
    },
    "tags": []
   },
   "source": [
    "We normalize the pixel values in the 0 to 1 range"
   ]
  },
  {
   "cell_type": "code",
   "execution_count": 10,
   "id": "isolated-denver",
   "metadata": {
    "execution": {
     "iopub.execute_input": "2021-06-12T10:10:14.353015Z",
     "iopub.status.busy": "2021-06-12T10:10:14.352358Z",
     "iopub.status.idle": "2021-06-12T10:10:14.411790Z",
     "shell.execute_reply": "2021-06-12T10:10:14.411183Z"
    },
    "papermill": {
     "duration": 0.097059,
     "end_time": "2021-06-12T10:10:14.411931",
     "exception": false,
     "start_time": "2021-06-12T10:10:14.314872",
     "status": "completed"
    },
    "tags": []
   },
   "outputs": [],
   "source": [
    "X_train = X_train/255.\n",
    "X_test = X_test/255."
   ]
  },
  {
   "cell_type": "markdown",
   "id": "perfect-summary",
   "metadata": {
    "papermill": {
     "duration": 0.033273,
     "end_time": "2021-06-12T10:10:14.480486",
     "exception": false,
     "start_time": "2021-06-12T10:10:14.447213",
     "status": "completed"
    },
    "tags": []
   },
   "source": [
    "Setup the labels as 1 (when the digit is 3) and 0 (when the digit is 8)"
   ]
  },
  {
   "cell_type": "code",
   "execution_count": 11,
   "id": "personalized-growing",
   "metadata": {
    "execution": {
     "iopub.execute_input": "2021-06-12T10:10:14.553112Z",
     "iopub.status.busy": "2021-06-12T10:10:14.550240Z",
     "iopub.status.idle": "2021-06-12T10:10:14.563827Z",
     "shell.execute_reply": "2021-06-12T10:10:14.563323Z"
    },
    "papermill": {
     "duration": 0.051625,
     "end_time": "2021-06-12T10:10:14.563938",
     "exception": false,
     "start_time": "2021-06-12T10:10:14.512313",
     "status": "completed"
    },
    "tags": []
   },
   "outputs": [],
   "source": [
    "y_train = 1*(y_train==3)\n",
    "y_test = 1*(y_test==3)"
   ]
  },
  {
   "cell_type": "code",
   "execution_count": 12,
   "id": "considered-virgin",
   "metadata": {
    "execution": {
     "iopub.execute_input": "2021-06-12T10:10:14.644112Z",
     "iopub.status.busy": "2021-06-12T10:10:14.635181Z",
     "iopub.status.idle": "2021-06-12T10:10:14.652857Z",
     "shell.execute_reply": "2021-06-12T10:10:14.652354Z"
    },
    "papermill": {
     "duration": 0.056115,
     "end_time": "2021-06-12T10:10:14.652979",
     "exception": false,
     "start_time": "2021-06-12T10:10:14.596864",
     "status": "completed"
    },
    "tags": []
   },
   "outputs": [
    {
     "data": {
      "text/plain": [
       "((11982, 28, 28), (1984, 28, 28))"
      ]
     },
     "execution_count": 12,
     "metadata": {},
     "output_type": "execute_result"
    }
   ],
   "source": [
    "X_train.shape, X_test.shape"
   ]
  },
  {
   "cell_type": "markdown",
   "id": "civilian-mobile",
   "metadata": {
    "papermill": {
     "duration": 0.033144,
     "end_time": "2021-06-12T10:10:14.719683",
     "exception": false,
     "start_time": "2021-06-12T10:10:14.686539",
     "status": "completed"
    },
    "tags": []
   },
   "source": [
    "### Reshape the input data to create a linear array"
   ]
  },
  {
   "cell_type": "code",
   "execution_count": 13,
   "id": "colonial-adams",
   "metadata": {
    "execution": {
     "iopub.execute_input": "2021-06-12T10:10:14.792853Z",
     "iopub.status.busy": "2021-06-12T10:10:14.792219Z",
     "iopub.status.idle": "2021-06-12T10:10:14.805006Z",
     "shell.execute_reply": "2021-06-12T10:10:14.805577Z"
    },
    "papermill": {
     "duration": 0.053758,
     "end_time": "2021-06-12T10:10:14.805737",
     "exception": false,
     "start_time": "2021-06-12T10:10:14.751979",
     "status": "completed"
    },
    "tags": []
   },
   "outputs": [
    {
     "data": {
      "text/plain": [
       "((11982, 784), (1984, 784))"
      ]
     },
     "execution_count": 13,
     "metadata": {},
     "output_type": "execute_result"
    }
   ],
   "source": [
    "X_train = X_train.reshape(X_train.shape[0], -1)\n",
    "X_test = X_test.reshape(X_test.shape[0], -1)\n",
    "X_train.shape, X_test.shape"
   ]
  },
  {
   "cell_type": "markdown",
   "id": "smart-details",
   "metadata": {
    "papermill": {
     "duration": 0.033362,
     "end_time": "2021-06-12T10:10:14.874169",
     "exception": false,
     "start_time": "2021-06-12T10:10:14.840807",
     "status": "completed"
    },
    "tags": []
   },
   "source": [
    "### Importing appropriate functions from 'Kudzu'"
   ]
  },
  {
   "cell_type": "code",
   "execution_count": 14,
   "id": "celtic-trial",
   "metadata": {
    "execution": {
     "iopub.execute_input": "2021-06-12T10:10:14.946749Z",
     "iopub.status.busy": "2021-06-12T10:10:14.946142Z",
     "iopub.status.idle": "2021-06-12T10:10:14.966191Z",
     "shell.execute_reply": "2021-06-12T10:10:14.965650Z"
    },
    "papermill": {
     "duration": 0.057969,
     "end_time": "2021-06-12T10:10:14.966333",
     "exception": false,
     "start_time": "2021-06-12T10:10:14.908364",
     "status": "completed"
    },
    "tags": []
   },
   "outputs": [],
   "source": [
    "from kudzu.layer import Sigmoid\n",
    "from kudzu.layer import Relu\n",
    "from kudzu.layer import Affine, Sigmoid\n",
    "\n",
    "from kudzu.model import Model\n",
    "from kudzu.train import Learner\n",
    "from kudzu.optim import GD\n",
    "from kudzu.data import Data, Dataloader, Sampler\n",
    "\n",
    "from kudzu.callbacks import AccCallback\n",
    "from kudzu.callbacks import ClfCallback\n",
    "\n",
    "from kudzu.loss import MSE"
   ]
  },
  {
   "cell_type": "markdown",
   "id": "coupled-customer",
   "metadata": {
    "papermill": {
     "duration": 0.033803,
     "end_time": "2021-06-12T10:10:15.034241",
     "exception": false,
     "start_time": "2021-06-12T10:10:15.000438",
     "status": "completed"
    },
    "tags": []
   },
   "source": [
    "### Let us create a `Config` class, to store important parameters. \n",
    "This class essentially plays the role of a dictionary."
   ]
  },
  {
   "cell_type": "code",
   "execution_count": 15,
   "id": "young-ceiling",
   "metadata": {
    "execution": {
     "iopub.execute_input": "2021-06-12T10:10:15.116816Z",
     "iopub.status.busy": "2021-06-12T10:10:15.108513Z",
     "iopub.status.idle": "2021-06-12T10:10:15.119521Z",
     "shell.execute_reply": "2021-06-12T10:10:15.119003Z"
    },
    "papermill": {
     "duration": 0.052487,
     "end_time": "2021-06-12T10:10:15.119635",
     "exception": false,
     "start_time": "2021-06-12T10:10:15.067148",
     "status": "completed"
    },
    "tags": []
   },
   "outputs": [],
   "source": [
    "class Config:\n",
    "    pass\n",
    "config = Config()\n",
    "config.lr = 0.001\n",
    "config.num_epochs = 251\n",
    "config.bs = 50"
   ]
  },
  {
   "cell_type": "markdown",
   "id": "according-mandate",
   "metadata": {
    "papermill": {
     "duration": 0.033471,
     "end_time": "2021-06-12T10:10:15.186168",
     "exception": false,
     "start_time": "2021-06-12T10:10:15.152697",
     "status": "completed"
    },
    "tags": []
   },
   "source": [
    "### Initializing data to the variables"
   ]
  },
  {
   "cell_type": "code",
   "execution_count": 16,
   "id": "academic-disposition",
   "metadata": {
    "execution": {
     "iopub.execute_input": "2021-06-12T10:10:15.260656Z",
     "iopub.status.busy": "2021-06-12T10:10:15.260038Z",
     "iopub.status.idle": "2021-06-12T10:10:15.270721Z",
     "shell.execute_reply": "2021-06-12T10:10:15.271545Z"
    },
    "papermill": {
     "duration": 0.052578,
     "end_time": "2021-06-12T10:10:15.271685",
     "exception": false,
     "start_time": "2021-06-12T10:10:15.219107",
     "status": "completed"
    },
    "tags": []
   },
   "outputs": [],
   "source": [
    "data = Data(X_train, y_train.reshape(-1,1))\n",
    "sampler = Sampler(data, config.bs, shuffle=True)\n",
    "\n",
    "dl = Dataloader(data, sampler)\n",
    "\n",
    "opt = GD(config.lr)\n",
    "loss = MSE()"
   ]
  },
  {
   "cell_type": "code",
   "execution_count": 17,
   "id": "featured-commission",
   "metadata": {
    "execution": {
     "iopub.execute_input": "2021-06-12T10:10:15.340991Z",
     "iopub.status.busy": "2021-06-12T10:10:15.340377Z",
     "iopub.status.idle": "2021-06-12T10:10:15.352667Z",
     "shell.execute_reply": "2021-06-12T10:10:15.352119Z"
    },
    "papermill": {
     "duration": 0.048344,
     "end_time": "2021-06-12T10:10:15.352777",
     "exception": false,
     "start_time": "2021-06-12T10:10:15.304433",
     "status": "completed"
    },
    "tags": []
   },
   "outputs": [],
   "source": [
    "training_xdata = X_train\n",
    "testing_xdata = X_test\n",
    "training_ydata = y_train.reshape(-1,1)\n",
    "testing_ydata = y_test.reshape(-1,1)"
   ]
  },
  {
   "cell_type": "markdown",
   "id": "played-safety",
   "metadata": {
    "papermill": {
     "duration": 0.034336,
     "end_time": "2021-06-12T10:10:15.420301",
     "exception": false,
     "start_time": "2021-06-12T10:10:15.385965",
     "status": "completed"
    },
    "tags": []
   },
   "source": [
    "### Running Models with the Training data\n",
    "Details about the network layers:\n",
    "- A first affine layer has 784 inputs and does 100 affine transforms. These are followed by a Relu\n",
    "- A second affine layer has 100 inputs from the 100 activations of the past layer, and does 100 affine transforms. These are followed by a Relu\n",
    "- A third affine layer has 100 activations and does 2 affine transformations to create an embedding for visualization. There is no non-linearity here.\n",
    "- A final \"logistic regression\" which has an affine transform from 2 inputs to 1 output, which is squeezed through a sigmoid.\n",
    "\n",
    "Help taken from Anshuman's Notebook."
   ]
  },
  {
   "cell_type": "code",
   "execution_count": 18,
   "id": "asian-bankruptcy",
   "metadata": {
    "execution": {
     "iopub.execute_input": "2021-06-12T10:10:15.501159Z",
     "iopub.status.busy": "2021-06-12T10:10:15.500486Z",
     "iopub.status.idle": "2021-06-12T10:10:15.517861Z",
     "shell.execute_reply": "2021-06-12T10:10:15.517274Z"
    },
    "papermill": {
     "duration": 0.061098,
     "end_time": "2021-06-12T10:10:15.518004",
     "exception": false,
     "start_time": "2021-06-12T10:10:15.456906",
     "status": "completed"
    },
    "tags": []
   },
   "outputs": [],
   "source": [
    "# layers for the Neural Network\n",
    "layers = [Affine(\"first\", 784, 100), Relu(\"first\"), Affine(\"second\", 100, 100), Relu(\"second\"), Affine(\"third\", 100, 2), Affine(\"final\", 2, 1), Sigmoid(\"final\")]\n",
    "model_nn = Model(layers)\n",
    "\n",
    "# layers for the Logistic Regression\n",
    "layers_lr = [Affine(\"logits\", 784, 1), Sigmoid(\"sigmoid\")]\n",
    "model_lr = Model(layers_lr)"
   ]
  },
  {
   "cell_type": "code",
   "execution_count": 19,
   "id": "removed-butler",
   "metadata": {
    "execution": {
     "iopub.execute_input": "2021-06-12T10:10:15.596733Z",
     "iopub.status.busy": "2021-06-12T10:10:15.596090Z",
     "iopub.status.idle": "2021-06-12T10:10:15.608899Z",
     "shell.execute_reply": "2021-06-12T10:10:15.608345Z"
    },
    "papermill": {
     "duration": 0.054338,
     "end_time": "2021-06-12T10:10:15.609028",
     "exception": false,
     "start_time": "2021-06-12T10:10:15.554690",
     "status": "completed"
    },
    "tags": []
   },
   "outputs": [],
   "source": [
    "# suffix _nn stands for Neural Network.\n",
    "learner_nn = Learner(loss, model_nn, opt, config.num_epochs)\n",
    "acc_nn = ClfCallback(learner_nn, config.bs, training_xdata , testing_xdata, training_ydata, testing_ydata)\n",
    "learner_nn.set_callbacks([acc_nn])"
   ]
  },
  {
   "cell_type": "code",
   "execution_count": 20,
   "id": "conceptual-throw",
   "metadata": {
    "execution": {
     "iopub.execute_input": "2021-06-12T10:10:15.682755Z",
     "iopub.status.busy": "2021-06-12T10:10:15.682097Z",
     "iopub.status.idle": "2021-06-12T10:12:17.376849Z",
     "shell.execute_reply": "2021-06-12T10:12:17.377412Z"
    },
    "papermill": {
     "duration": 121.734002,
     "end_time": "2021-06-12T10:12:17.377600",
     "exception": false,
     "start_time": "2021-06-12T10:10:15.643598",
     "status": "completed"
    },
    "tags": []
   },
   "outputs": [
    {
     "name": "stdout",
     "output_type": "stream",
     "text": [
      "====== Neural Network ======\n"
     ]
    },
    {
     "name": "stdout",
     "output_type": "stream",
     "text": [
      "Epoch 0, Loss 0.248\n",
      "Training Accuracy: 0.6669, Testing Accuracy: 0.6532\n",
      "\n"
     ]
    },
    {
     "name": "stdout",
     "output_type": "stream",
     "text": [
      "Epoch 10, Loss 0.0812\n",
      "Training Accuracy: 0.9254, Testing Accuracy: 0.9355\n",
      "\n"
     ]
    },
    {
     "name": "stdout",
     "output_type": "stream",
     "text": [
      "Epoch 20, Loss 0.0513\n",
      "Training Accuracy: 0.9449, Testing Accuracy: 0.9582\n",
      "\n"
     ]
    },
    {
     "name": "stdout",
     "output_type": "stream",
     "text": [
      "Epoch 30, Loss 0.0412\n",
      "Training Accuracy: 0.9541, Testing Accuracy: 0.9657\n",
      "\n"
     ]
    },
    {
     "name": "stdout",
     "output_type": "stream",
     "text": [
      "Epoch 40, Loss 0.0361\n",
      "Training Accuracy: 0.9589, Testing Accuracy: 0.9682\n",
      "\n"
     ]
    },
    {
     "name": "stdout",
     "output_type": "stream",
     "text": [
      "Epoch 50, Loss 0.0328\n",
      "Training Accuracy: 0.9622, Testing Accuracy: 0.9672\n",
      "\n"
     ]
    },
    {
     "name": "stdout",
     "output_type": "stream",
     "text": [
      "Epoch 60, Loss 0.0305\n",
      "Training Accuracy: 0.9652, Testing Accuracy: 0.9682\n",
      "\n"
     ]
    },
    {
     "name": "stdout",
     "output_type": "stream",
     "text": [
      "Epoch 70, Loss 0.0287\n",
      "Training Accuracy: 0.9666, Testing Accuracy: 0.9682\n",
      "\n"
     ]
    },
    {
     "name": "stdout",
     "output_type": "stream",
     "text": [
      "Epoch 80, Loss 0.0273\n",
      "Training Accuracy: 0.9681, Testing Accuracy: 0.9693\n",
      "\n"
     ]
    },
    {
     "name": "stdout",
     "output_type": "stream",
     "text": [
      "Epoch 90, Loss 0.0261\n",
      "Training Accuracy: 0.9694, Testing Accuracy: 0.9698\n",
      "\n"
     ]
    },
    {
     "name": "stdout",
     "output_type": "stream",
     "text": [
      "Epoch 100, Loss 0.0251\n",
      "Training Accuracy: 0.9710, Testing Accuracy: 0.9703\n",
      "\n"
     ]
    },
    {
     "name": "stdout",
     "output_type": "stream",
     "text": [
      "Epoch 110, Loss 0.0242\n",
      "Training Accuracy: 0.9725, Testing Accuracy: 0.9713\n",
      "\n"
     ]
    },
    {
     "name": "stdout",
     "output_type": "stream",
     "text": [
      "Epoch 120, Loss 0.0234\n",
      "Training Accuracy: 0.9730, Testing Accuracy: 0.9713\n",
      "\n"
     ]
    },
    {
     "name": "stdout",
     "output_type": "stream",
     "text": [
      "Epoch 130, Loss 0.0227\n",
      "Training Accuracy: 0.9738, Testing Accuracy: 0.9728\n",
      "\n"
     ]
    },
    {
     "name": "stdout",
     "output_type": "stream",
     "text": [
      "Epoch 140, Loss 0.022\n",
      "Training Accuracy: 0.9745, Testing Accuracy: 0.9728\n",
      "\n"
     ]
    },
    {
     "name": "stdout",
     "output_type": "stream",
     "text": [
      "Epoch 150, Loss 0.0214\n",
      "Training Accuracy: 0.9751, Testing Accuracy: 0.9733\n",
      "\n"
     ]
    },
    {
     "name": "stdout",
     "output_type": "stream",
     "text": [
      "Epoch 160, Loss 0.0209\n",
      "Training Accuracy: 0.9761, Testing Accuracy: 0.9738\n",
      "\n"
     ]
    },
    {
     "name": "stdout",
     "output_type": "stream",
     "text": [
      "Epoch 170, Loss 0.0204\n",
      "Training Accuracy: 0.9773, Testing Accuracy: 0.9738\n",
      "\n"
     ]
    },
    {
     "name": "stdout",
     "output_type": "stream",
     "text": [
      "Epoch 180, Loss 0.0199\n",
      "Training Accuracy: 0.9780, Testing Accuracy: 0.9743\n",
      "\n"
     ]
    },
    {
     "name": "stdout",
     "output_type": "stream",
     "text": [
      "Epoch 190, Loss 0.0194\n",
      "Training Accuracy: 0.9786, Testing Accuracy: 0.9743\n",
      "\n"
     ]
    },
    {
     "name": "stdout",
     "output_type": "stream",
     "text": [
      "Epoch 200, Loss 0.019\n",
      "Training Accuracy: 0.9789, Testing Accuracy: 0.9748\n",
      "\n"
     ]
    },
    {
     "name": "stdout",
     "output_type": "stream",
     "text": [
      "Epoch 210, Loss 0.0186\n",
      "Training Accuracy: 0.9797, Testing Accuracy: 0.9748\n",
      "\n"
     ]
    },
    {
     "name": "stdout",
     "output_type": "stream",
     "text": [
      "Epoch 220, Loss 0.0182\n",
      "Training Accuracy: 0.9801, Testing Accuracy: 0.9758\n",
      "\n"
     ]
    },
    {
     "name": "stdout",
     "output_type": "stream",
     "text": [
      "Epoch 230, Loss 0.0178\n",
      "Training Accuracy: 0.9811, Testing Accuracy: 0.9768\n",
      "\n"
     ]
    },
    {
     "name": "stdout",
     "output_type": "stream",
     "text": [
      "Epoch 240, Loss 0.0174\n",
      "Training Accuracy: 0.9814, Testing Accuracy: 0.9768\n",
      "\n"
     ]
    },
    {
     "name": "stdout",
     "output_type": "stream",
     "text": [
      "Epoch 250, Loss 0.0171\n",
      "Training Accuracy: 0.9817, Testing Accuracy: 0.9768\n",
      "\n"
     ]
    },
    {
     "data": {
      "text/plain": [
       "0.04492604924130736"
      ]
     },
     "execution_count": 20,
     "metadata": {},
     "output_type": "execute_result"
    }
   ],
   "source": [
    "print(\"====== Neural Network ======\")\n",
    "learner_nn.train_loop(dl)"
   ]
  },
  {
   "cell_type": "markdown",
   "id": "competent-suffering",
   "metadata": {
    "papermill": {
     "duration": 0.044801,
     "end_time": "2021-06-12T10:12:17.467464",
     "exception": false,
     "start_time": "2021-06-12T10:12:17.422663",
     "status": "completed"
    },
    "tags": []
   },
   "source": [
    "### Logistic Regression based Implementation."
   ]
  },
  {
   "cell_type": "code",
   "execution_count": 21,
   "id": "qualified-psychiatry",
   "metadata": {
    "execution": {
     "iopub.execute_input": "2021-06-12T10:12:17.558722Z",
     "iopub.status.busy": "2021-06-12T10:12:17.558101Z",
     "iopub.status.idle": "2021-06-12T10:12:17.578979Z",
     "shell.execute_reply": "2021-06-12T10:12:17.578391Z"
    },
    "papermill": {
     "duration": 0.067999,
     "end_time": "2021-06-12T10:12:17.579132",
     "exception": false,
     "start_time": "2021-06-12T10:12:17.511133",
     "status": "completed"
    },
    "tags": []
   },
   "outputs": [],
   "source": [
    "learner_lr = Learner(loss, model_lr, opt, config.num_epochs)\n",
    "acc_lr = ClfCallback(learner_lr, config.bs, training_xdata , testing_xdata, training_ydata, testing_ydata)\n",
    "learner_lr.set_callbacks([acc_lr])"
   ]
  },
  {
   "cell_type": "code",
   "execution_count": 22,
   "id": "average-outside",
   "metadata": {
    "execution": {
     "iopub.execute_input": "2021-06-12T10:12:17.671879Z",
     "iopub.status.busy": "2021-06-12T10:12:17.669620Z",
     "iopub.status.idle": "2021-06-12T10:12:35.449741Z",
     "shell.execute_reply": "2021-06-12T10:12:35.450374Z"
    },
    "papermill": {
     "duration": 17.82847,
     "end_time": "2021-06-12T10:12:35.450554",
     "exception": false,
     "start_time": "2021-06-12T10:12:17.622084",
     "status": "completed"
    },
    "tags": []
   },
   "outputs": [
    {
     "name": "stdout",
     "output_type": "stream",
     "text": [
      "====== Logistic Regression ======\n",
      "Epoch 0, Loss 0.2339\n",
      "Training Accuracy: 0.7046, Testing Accuracy: 0.6946\n",
      "\n"
     ]
    },
    {
     "name": "stdout",
     "output_type": "stream",
     "text": [
      "Epoch 10, Loss 0.1054\n",
      "Training Accuracy: 0.9032, Testing Accuracy: 0.9113\n",
      "\n"
     ]
    },
    {
     "name": "stdout",
     "output_type": "stream",
     "text": [
      "Epoch 20, Loss 0.0808\n",
      "Training Accuracy: 0.9240, Testing Accuracy: 0.9325\n",
      "\n"
     ]
    },
    {
     "name": "stdout",
     "output_type": "stream",
     "text": [
      "Epoch 30, Loss 0.0693\n",
      "Training Accuracy: 0.9337, Testing Accuracy: 0.9471\n",
      "\n"
     ]
    },
    {
     "name": "stdout",
     "output_type": "stream",
     "text": [
      "Epoch 40, Loss 0.0624\n",
      "Training Accuracy: 0.9406, Testing Accuracy: 0.9526\n",
      "\n"
     ]
    },
    {
     "name": "stdout",
     "output_type": "stream",
     "text": [
      "Epoch 50, Loss 0.0577\n",
      "Training Accuracy: 0.9449, Testing Accuracy: 0.9556\n",
      "\n"
     ]
    },
    {
     "name": "stdout",
     "output_type": "stream",
     "text": [
      "Epoch 60, Loss 0.0543\n",
      "Training Accuracy: 0.9480, Testing Accuracy: 0.9582\n",
      "\n"
     ]
    },
    {
     "name": "stdout",
     "output_type": "stream",
     "text": [
      "Epoch 70, Loss 0.0516\n",
      "Training Accuracy: 0.9504, Testing Accuracy: 0.9597\n",
      "\n"
     ]
    },
    {
     "name": "stdout",
     "output_type": "stream",
     "text": [
      "Epoch 80, Loss 0.0495\n",
      "Training Accuracy: 0.9522, Testing Accuracy: 0.9622\n",
      "\n"
     ]
    },
    {
     "name": "stdout",
     "output_type": "stream",
     "text": [
      "Epoch 90, Loss 0.0478\n",
      "Training Accuracy: 0.9537, Testing Accuracy: 0.9637\n",
      "\n"
     ]
    },
    {
     "name": "stdout",
     "output_type": "stream",
     "text": [
      "Epoch 100, Loss 0.0463\n",
      "Training Accuracy: 0.9547, Testing Accuracy: 0.9647\n",
      "\n"
     ]
    },
    {
     "name": "stdout",
     "output_type": "stream",
     "text": [
      "Epoch 110, Loss 0.045\n",
      "Training Accuracy: 0.9553, Testing Accuracy: 0.9652\n",
      "\n"
     ]
    },
    {
     "name": "stdout",
     "output_type": "stream",
     "text": [
      "Epoch 120, Loss 0.044\n",
      "Training Accuracy: 0.9562, Testing Accuracy: 0.9652\n",
      "\n"
     ]
    },
    {
     "name": "stdout",
     "output_type": "stream",
     "text": [
      "Epoch 130, Loss 0.043\n",
      "Training Accuracy: 0.9567, Testing Accuracy: 0.9662\n",
      "\n"
     ]
    },
    {
     "name": "stdout",
     "output_type": "stream",
     "text": [
      "Epoch 140, Loss 0.0421\n",
      "Training Accuracy: 0.9573, Testing Accuracy: 0.9672\n",
      "\n"
     ]
    },
    {
     "name": "stdout",
     "output_type": "stream",
     "text": [
      "Epoch 150, Loss 0.0414\n",
      "Training Accuracy: 0.9579, Testing Accuracy: 0.9677\n",
      "\n"
     ]
    },
    {
     "name": "stdout",
     "output_type": "stream",
     "text": [
      "Epoch 160, Loss 0.0407\n",
      "Training Accuracy: 0.9585, Testing Accuracy: 0.9677\n",
      "\n"
     ]
    },
    {
     "name": "stdout",
     "output_type": "stream",
     "text": [
      "Epoch 170, Loss 0.0401\n",
      "Training Accuracy: 0.9589, Testing Accuracy: 0.9693\n",
      "\n"
     ]
    },
    {
     "name": "stdout",
     "output_type": "stream",
     "text": [
      "Epoch 180, Loss 0.0395\n",
      "Training Accuracy: 0.9591, Testing Accuracy: 0.9693\n",
      "\n"
     ]
    },
    {
     "name": "stdout",
     "output_type": "stream",
     "text": [
      "Epoch 190, Loss 0.039\n",
      "Training Accuracy: 0.9595, Testing Accuracy: 0.9698\n",
      "\n"
     ]
    },
    {
     "name": "stdout",
     "output_type": "stream",
     "text": [
      "Epoch 200, Loss 0.0385\n",
      "Training Accuracy: 0.9595, Testing Accuracy: 0.9698\n",
      "\n"
     ]
    },
    {
     "name": "stdout",
     "output_type": "stream",
     "text": [
      "Epoch 210, Loss 0.038\n",
      "Training Accuracy: 0.9598, Testing Accuracy: 0.9703\n",
      "\n"
     ]
    },
    {
     "name": "stdout",
     "output_type": "stream",
     "text": [
      "Epoch 220, Loss 0.0376\n",
      "Training Accuracy: 0.9602, Testing Accuracy: 0.9703\n",
      "\n"
     ]
    },
    {
     "name": "stdout",
     "output_type": "stream",
     "text": [
      "Epoch 230, Loss 0.0372\n",
      "Training Accuracy: 0.9605, Testing Accuracy: 0.9703\n",
      "\n"
     ]
    },
    {
     "name": "stdout",
     "output_type": "stream",
     "text": [
      "Epoch 240, Loss 0.0368\n",
      "Training Accuracy: 0.9607, Testing Accuracy: 0.9703\n",
      "\n"
     ]
    },
    {
     "name": "stdout",
     "output_type": "stream",
     "text": [
      "Epoch 250, Loss 0.0365\n",
      "Training Accuracy: 0.9610, Testing Accuracy: 0.9703\n",
      "\n"
     ]
    },
    {
     "data": {
      "text/plain": [
       "0.016147244476553246"
      ]
     },
     "execution_count": 22,
     "metadata": {},
     "output_type": "execute_result"
    }
   ],
   "source": [
    "print(\"====== Logistic Regression ======\")\n",
    "learner_lr.train_loop(dl)"
   ]
  },
  {
   "cell_type": "markdown",
   "id": "adjusted-possible",
   "metadata": {
    "papermill": {
     "duration": 0.049671,
     "end_time": "2021-06-12T10:12:35.554527",
     "exception": false,
     "start_time": "2021-06-12T10:12:35.504856",
     "status": "completed"
    },
    "tags": []
   },
   "source": [
    "### Comparing results of NN and LR"
   ]
  },
  {
   "cell_type": "code",
   "execution_count": 23,
   "id": "mental-multimedia",
   "metadata": {
    "execution": {
     "iopub.execute_input": "2021-06-12T10:12:35.693188Z",
     "iopub.status.busy": "2021-06-12T10:12:35.678201Z",
     "iopub.status.idle": "2021-06-12T10:12:35.921977Z",
     "shell.execute_reply": "2021-06-12T10:12:35.921473Z"
    },
    "papermill": {
     "duration": 0.319396,
     "end_time": "2021-06-12T10:12:35.922103",
     "exception": false,
     "start_time": "2021-06-12T10:12:35.602707",
     "status": "completed"
    },
    "tags": []
   },
   "outputs": [
    {
     "data": {
      "text/plain": [
       "<matplotlib.legend.Legend at 0x7f1b48556128>"
      ]
     },
     "execution_count": 23,
     "metadata": {},
     "output_type": "execute_result"
    },
    {
     "data": {
      "image/png": "[encoded data removed]",
      "text/plain": [
       "<Figure size 1080x720 with 1 Axes>"
      ]
     },
     "metadata": {
      "needs_background": "light"
     },
     "output_type": "display_data"
    }
   ],
   "source": [
    "plt.figure(figsize=(15,10))\n",
    "\n",
    "# Neural Network plots\n",
    "plt.plot(acc_nn.accuracies, 'r-', label = \"Training Accuracies - NN\")\n",
    "plt.plot(acc_nn.test_accuracies, 'g-', label = \"Testing Accuracies - NN\")\n",
    "\n",
    "# Logistic Regression plots\n",
    "plt.plot(acc_lr.accuracies, 'k-', label = \"Training Accuracies - LR\")\n",
    "plt.plot(acc_lr.test_accuracies, 'b-', label = \"Testing Accuracies - LR\")\n",
    "\n",
    "plt.ylim(0.8, 1)\n",
    "\n",
    "plt.legend()\n",
    "\n"
   ]
  },
  {
   "cell_type": "markdown",
   "id": "sexual-flesh",
   "metadata": {
    "papermill": {
     "duration": 0.048572,
     "end_time": "2021-06-12T10:12:36.020217",
     "exception": false,
     "start_time": "2021-06-12T10:12:35.971645",
     "status": "completed"
    },
    "tags": []
   },
   "source": [
    "### From the plot, we can observe the following:\n",
    "- Neural Network achieves higher accuracy than the Logistic Regression model.\n",
    "- This apparently, is because of overfitting, i.e. NN captures more noise than data.\n",
    "- Testing accuracy of NN drops below the Training accuracy at higher epochs. This explains the over-fitting on training data.\n",
    "- Logistic Regression gives a reliable accuracy, without the above mentioned problem.\n"
   ]
  },
  {
   "cell_type": "markdown",
   "id": "institutional-pacific",
   "metadata": {
    "papermill": {
     "duration": 0.049124,
     "end_time": "2021-06-12T10:12:36.120911",
     "exception": false,
     "start_time": "2021-06-12T10:12:36.071787",
     "status": "completed"
    },
    "tags": []
   },
   "source": [
    "### Moving till the last but one layer (excluding it).\n",
    "#### Plotting the outputs of this layer of the NN."
   ]
  },
  {
   "cell_type": "code",
   "execution_count": 24,
   "id": "economic-server",
   "metadata": {
    "execution": {
     "iopub.execute_input": "2021-06-12T10:12:36.232764Z",
     "iopub.status.busy": "2021-06-12T10:12:36.231927Z",
     "iopub.status.idle": "2021-06-12T10:12:36.239053Z",
     "shell.execute_reply": "2021-06-12T10:12:36.239586Z"
    },
    "papermill": {
     "duration": 0.07017,
     "end_time": "2021-06-12T10:12:36.239712",
     "exception": false,
     "start_time": "2021-06-12T10:12:36.169542",
     "status": "completed"
    },
    "tags": []
   },
   "outputs": [],
   "source": [
    "model_new = Model(layers[:-2])"
   ]
  },
  {
   "cell_type": "code",
   "execution_count": 25,
   "id": "varied-upgrade",
   "metadata": {
    "execution": {
     "iopub.execute_input": "2021-06-12T10:12:36.365797Z",
     "iopub.status.busy": "2021-06-12T10:12:36.365173Z",
     "iopub.status.idle": "2021-06-12T10:12:36.386394Z",
     "shell.execute_reply": "2021-06-12T10:12:36.386899Z"
    },
    "papermill": {
     "duration": 0.096825,
     "end_time": "2021-06-12T10:12:36.387047",
     "exception": false,
     "start_time": "2021-06-12T10:12:36.290222",
     "status": "completed"
    },
    "tags": []
   },
   "outputs": [],
   "source": [
    "plot_testing = model_new(testing_xdata)"
   ]
  },
  {
   "cell_type": "code",
   "execution_count": 26,
   "id": "specific-handling",
   "metadata": {
    "execution": {
     "iopub.execute_input": "2021-06-12T10:12:36.518977Z",
     "iopub.status.busy": "2021-06-12T10:12:36.505439Z",
     "iopub.status.idle": "2021-06-12T10:12:36.738699Z",
     "shell.execute_reply": "2021-06-12T10:12:36.739140Z"
    },
    "papermill": {
     "duration": 0.293562,
     "end_time": "2021-06-12T10:12:36.739310",
     "exception": false,
     "start_time": "2021-06-12T10:12:36.445748",
     "status": "completed"
    },
    "tags": []
   },
   "outputs": [
    {
     "data": {
      "text/plain": [
       "Text(0.5, 1.0, 'Outputs')"
      ]
     },
     "execution_count": 26,
     "metadata": {},
     "output_type": "execute_result"
    },
    {
     "data": {
      "image/png": "[encoded data removed]",
      "text/plain": [
       "<Figure size 576x504 with 1 Axes>"
      ]
     },
     "metadata": {
      "needs_background": "light"
     },
     "output_type": "display_data"
    }
   ],
   "source": [
    "plt.figure(figsize=(8,7))\n",
    "plt.scatter(plot_testing[:,0], plot_testing[:,1], alpha = 0.1, c = y_test.ravel());\n",
    "plt.title('Outputs')"
   ]
  },
  {
   "cell_type": "markdown",
   "id": "described-knowing",
   "metadata": {
    "papermill": {
     "duration": 0.051449,
     "end_time": "2021-06-12T10:12:36.842754",
     "exception": false,
     "start_time": "2021-06-12T10:12:36.791305",
     "status": "completed"
    },
    "tags": []
   },
   "source": [
    "### Plotting probability contours"
   ]
  },
  {
   "cell_type": "code",
   "execution_count": 27,
   "id": "needed-growing",
   "metadata": {
    "execution": {
     "iopub.execute_input": "2021-06-12T10:12:36.954302Z",
     "iopub.status.busy": "2021-06-12T10:12:36.953694Z",
     "iopub.status.idle": "2021-06-12T10:12:36.964889Z",
     "shell.execute_reply": "2021-06-12T10:12:36.965451Z"
    },
    "papermill": {
     "duration": 0.069368,
     "end_time": "2021-06-12T10:12:36.965577",
     "exception": false,
     "start_time": "2021-06-12T10:12:36.896209",
     "status": "completed"
    },
    "tags": []
   },
   "outputs": [],
   "source": [
    "model_prob = Model(layers[-2:]) "
   ]
  },
  {
   "cell_type": "code",
   "execution_count": 28,
   "id": "introductory-enforcement",
   "metadata": {
    "execution": {
     "iopub.execute_input": "2021-06-12T10:12:37.075343Z",
     "iopub.status.busy": "2021-06-12T10:12:37.074735Z",
     "iopub.status.idle": "2021-06-12T10:12:37.088535Z",
     "shell.execute_reply": "2021-06-12T10:12:37.088977Z"
    },
    "papermill": {
     "duration": 0.072048,
     "end_time": "2021-06-12T10:12:37.089106",
     "exception": false,
     "start_time": "2021-06-12T10:12:37.017058",
     "status": "completed"
    },
    "tags": []
   },
   "outputs": [],
   "source": [
    "# Adjust the x and y ranges according to the above generated plot.\n",
    "x_range = np.linspace(-4, 1, 100) \n",
    "y_range = np.linspace(-6, 6, 100) \n",
    "x_grid, y_grid = np.meshgrid(x_range, y_range) # x_grid and y_grig are of size 100 X 100\n",
    "\n",
    "# converting x_grid and y_grid to continuous arrays\n",
    "x_grid_flat = np.ravel(x_grid)\n",
    "y_grid_flat = np.ravel(y_grid)\n",
    "\n",
    "# The last layer of the current model takes two columns as input. Hence transpose of np.vstack() is required.\n",
    "X = np.vstack((x_grid_flat, y_grid_flat)).T\n",
    "\n",
    "# x_grid and y_grid are of size 100 x 100\n",
    "probability_contour = model_prob(X).reshape(100,100) "
   ]
  },
  {
   "cell_type": "code",
   "execution_count": 29,
   "id": "understood-landing",
   "metadata": {
    "execution": {
     "iopub.execute_input": "2021-06-12T10:12:37.208508Z",
     "iopub.status.busy": "2021-06-12T10:12:37.207825Z",
     "iopub.status.idle": "2021-06-12T10:12:37.481902Z",
     "shell.execute_reply": "2021-06-12T10:12:37.481407Z"
    },
    "papermill": {
     "duration": 0.331746,
     "end_time": "2021-06-12T10:12:37.482042",
     "exception": false,
     "start_time": "2021-06-12T10:12:37.150296",
     "status": "completed"
    },
    "tags": []
   },
   "outputs": [
    {
     "data": {
      "image/png": "[encoded data removed]",
      "text/plain": [
       "<Figure size 720x648 with 1 Axes>"
      ]
     },
     "metadata": {
      "needs_background": "light"
     },
     "output_type": "display_data"
    }
   ],
   "source": [
    "plt.figure(figsize=(10,9))\n",
    "plt.scatter(plot_testing[:,0], plot_testing[:,1], alpha = 0.1, c = y_test.ravel())\n",
    "contours = plt.contour(x_grid,y_grid,probability_contour)\n",
    "plt.title('Probability Contours')\n",
    "plt.clabel(contours, inline = True );"
   ]
  }
 ],
 "metadata": {
  "kernelspec": {
   "display_name": "Python 3",
   "language": "python",
   "name": "python3"
  },
  "language_info": {
   "codemirror_mode": {
    "name": "ipython",
    "version": 3
   },
   "file_extension": ".py",
   "mimetype": "text/x-python",
   "name": "python",
   "nbconvert_exporter": "python",
   "pygments_lexer": "ipython3",
   "version": "3.6.13"
  },
  "papermill": {
   "duration": 454.858059,
   "end_time": "2021-06-12T10:12:37.848507",
   "environment_variables": {},
   "exception": null,
   "input_path": "2020-08-11-NeuralNetwork.ipynb",
   "output_path": "2020-08-11-NeuralNetwork.ipynb",
   "parameters": {},
   "start_time": "2021-06-12T10:05:02.990448",
   "version": "2.1.2"
  }
 },
 "nbformat": 4,
 "nbformat_minor": 5
}