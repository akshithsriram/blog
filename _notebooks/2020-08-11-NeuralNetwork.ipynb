{
 "cells": [
  {
   "cell_type": "markdown",
   "id": "fitted-suggestion",
   "metadata": {
    "papermill": {
     "duration": 0.041178,
     "end_time": "2021-08-06T00:16:51.481375",
     "exception": false,
     "start_time": "2021-08-06T00:16:51.440197",
     "status": "completed"
    },
    "tags": []
   },
   "source": [
    "# \"A Basic Neural Network: Differentiate Hand-Written Digits\"\n",
    "\n",
    "- badges: true\n",
    "- author: Akshith Sriram"
   ]
  },
  {
   "cell_type": "markdown",
   "id": "signal-flexibility",
   "metadata": {
    "papermill": {
     "duration": 0.032486,
     "end_time": "2021-08-06T00:16:51.547377",
     "exception": false,
     "start_time": "2021-08-06T00:16:51.514891",
     "status": "completed"
    },
    "tags": []
   },
   "source": [
    "### Key Objectives:\n",
    "- Building a neural network that differentiates two hand-written digits 3 and 8.\n",
    "- Comparing the results of this Neural Network (NN) to that of a Logistic Regression (LR) model.\n",
    "\n",
    "### Requirements:\n",
    "- 'Kudzu' : A neural network library that was designed during our course by [Univ.AI](www.univ.ai). \n",
    "- MNIST Database\n",
    "\n",
    "If MNIST is not installed, use the command `!pip install mnist` given below.\n",
    "It can be run both from the command line and Jupyter Notebook."
   ]
  },
  {
   "cell_type": "code",
   "execution_count": 1,
   "id": "british-texture",
   "metadata": {
    "execution": {
     "iopub.execute_input": "2021-08-06T00:16:51.625050Z",
     "iopub.status.busy": "2021-08-06T00:16:51.624390Z",
     "iopub.status.idle": "2021-08-06T00:16:53.652167Z",
     "shell.execute_reply": "2021-08-06T00:16:53.651486Z"
    },
    "papermill": {
     "duration": 2.071191,
     "end_time": "2021-08-06T00:16:53.652331",
     "exception": false,
     "start_time": "2021-08-06T00:16:51.581140",
     "status": "completed"
    },
    "tags": []
   },
   "outputs": [
    {
     "name": "stdout",
     "output_type": "stream",
     "text": [
      "Collecting mnist\r\n"
     ]
    },
    {
     "name": "stdout",
     "output_type": "stream",
     "text": [
      "  Downloading mnist-0.2.2-py2.py3-none-any.whl (3.5 kB)\r\n",
      "Requirement already satisfied: numpy in /opt/hostedtoolcache/Python/3.6.14/x64/lib/python3.6/site-packages (from mnist) (1.19.5)\r\n"
     ]
    },
    {
     "name": "stdout",
     "output_type": "stream",
     "text": [
      "Installing collected packages: mnist\r\n"
     ]
    },
    {
     "name": "stdout",
     "output_type": "stream",
     "text": [
      "Successfully installed mnist-0.2.2\r\n"
     ]
    }
   ],
   "source": [
    "!pip install mnist "
   ]
  },
  {
   "cell_type": "markdown",
   "id": "stunning-extra",
   "metadata": {
    "papermill": {
     "duration": 0.03227,
     "end_time": "2021-08-06T00:16:53.718028",
     "exception": false,
     "start_time": "2021-08-06T00:16:53.685758",
     "status": "completed"
    },
    "tags": []
   },
   "source": [
    "#### Importing necessary libraries"
   ]
  },
  {
   "cell_type": "code",
   "execution_count": 2,
   "id": "wooden-france",
   "metadata": {
    "execution": {
     "iopub.execute_input": "2021-08-06T00:16:53.792123Z",
     "iopub.status.busy": "2021-08-06T00:16:53.791405Z",
     "iopub.status.idle": "2021-08-06T00:16:54.427324Z",
     "shell.execute_reply": "2021-08-06T00:16:54.426803Z"
    },
    "papermill": {
     "duration": 0.675966,
     "end_time": "2021-08-06T00:16:54.427524",
     "exception": false,
     "start_time": "2021-08-06T00:16:53.751558",
     "status": "completed"
    },
    "tags": []
   },
   "outputs": [],
   "source": [
    "%load_ext autoreload\n",
    "%autoreload 2\n",
    "\n",
    "%matplotlib inline\n",
    "import matplotlib.pyplot as plt\n",
    "\n",
    "import numpy as np\n",
    "import pandas as pd"
   ]
  },
  {
   "cell_type": "markdown",
   "id": "stunning-physics",
   "metadata": {
    "papermill": {
     "duration": 0.047039,
     "end_time": "2021-08-06T00:16:54.506500",
     "exception": false,
     "start_time": "2021-08-06T00:16:54.459461",
     "status": "completed"
    },
    "tags": []
   },
   "source": [
    "### Preparing the Data"
   ]
  },
  {
   "cell_type": "code",
   "execution_count": 3,
   "id": "unauthorized-remainder",
   "metadata": {
    "execution": {
     "iopub.execute_input": "2021-08-06T00:16:54.579008Z",
     "iopub.status.busy": "2021-08-06T00:16:54.578274Z",
     "iopub.status.idle": "2021-08-06T00:16:54.609025Z",
     "shell.execute_reply": "2021-08-06T00:16:54.608263Z"
    },
    "papermill": {
     "duration": 0.068571,
     "end_time": "2021-08-06T00:16:54.609150",
     "exception": false,
     "start_time": "2021-08-06T00:16:54.540579",
     "status": "completed"
    },
    "tags": []
   },
   "outputs": [],
   "source": [
    "import mnist"
   ]
  },
  {
   "cell_type": "code",
   "execution_count": 4,
   "id": "correct-antarctica",
   "metadata": {
    "execution": {
     "iopub.execute_input": "2021-08-06T00:16:54.741968Z",
     "iopub.status.busy": "2021-08-06T00:16:54.741144Z",
     "iopub.status.idle": "2021-08-06T00:21:50.805011Z",
     "shell.execute_reply": "2021-08-06T00:21:50.804457Z"
    },
    "papermill": {
     "duration": 296.133247,
     "end_time": "2021-08-06T00:21:50.805151",
     "exception": false,
     "start_time": "2021-08-06T00:16:54.671904",
     "status": "completed"
    },
    "tags": []
   },
   "outputs": [],
   "source": [
    "train_images = mnist.train_images()\n",
    "train_labels = mnist.train_labels()"
   ]
  },
  {
   "cell_type": "code",
   "execution_count": 5,
   "id": "musical-prospect",
   "metadata": {
    "execution": {
     "iopub.execute_input": "2021-08-06T00:21:50.874308Z",
     "iopub.status.busy": "2021-08-06T00:21:50.873587Z",
     "iopub.status.idle": "2021-08-06T00:21:50.889920Z",
     "shell.execute_reply": "2021-08-06T00:21:50.890609Z"
    },
    "papermill": {
     "duration": 0.052467,
     "end_time": "2021-08-06T00:21:50.890766",
     "exception": false,
     "start_time": "2021-08-06T00:21:50.838299",
     "status": "completed"
    },
    "tags": []
   },
   "outputs": [
    {
     "data": {
      "text/plain": [
       "((60000, 28, 28), (60000,))"
      ]
     },
     "execution_count": 5,
     "metadata": {},
     "output_type": "execute_result"
    }
   ],
   "source": [
    "train_images.shape, train_labels.shape"
   ]
  },
  {
   "cell_type": "code",
   "execution_count": 6,
   "id": "preliminary-elizabeth",
   "metadata": {
    "execution": {
     "iopub.execute_input": "2021-08-06T00:21:50.968481Z",
     "iopub.status.busy": "2021-08-06T00:21:50.967705Z",
     "iopub.status.idle": "2021-08-06T00:22:39.753127Z",
     "shell.execute_reply": "2021-08-06T00:22:39.752227Z"
    },
    "papermill": {
     "duration": 48.825227,
     "end_time": "2021-08-06T00:22:39.753382",
     "exception": false,
     "start_time": "2021-08-06T00:21:50.928155",
     "status": "completed"
    },
    "tags": []
   },
   "outputs": [],
   "source": [
    "test_images = mnist.test_images()\n",
    "test_labels = mnist.test_labels()"
   ]
  },
  {
   "cell_type": "code",
   "execution_count": 7,
   "id": "acknowledged-oxygen",
   "metadata": {
    "execution": {
     "iopub.execute_input": "2021-08-06T00:22:39.825773Z",
     "iopub.status.busy": "2021-08-06T00:22:39.825103Z",
     "iopub.status.idle": "2021-08-06T00:22:39.839480Z",
     "shell.execute_reply": "2021-08-06T00:22:39.838978Z"
    },
    "papermill": {
     "duration": 0.05159,
     "end_time": "2021-08-06T00:22:39.839599",
     "exception": false,
     "start_time": "2021-08-06T00:22:39.788009",
     "status": "completed"
    },
    "tags": []
   },
   "outputs": [
    {
     "data": {
      "text/plain": [
       "((10000, 28, 28), (10000,))"
      ]
     },
     "execution_count": 7,
     "metadata": {},
     "output_type": "execute_result"
    }
   ],
   "source": [
    "test_images.shape, test_labels.shape"
   ]
  },
  {
   "cell_type": "code",
   "execution_count": 8,
   "id": "innovative-organic",
   "metadata": {
    "execution": {
     "iopub.execute_input": "2021-08-06T00:22:39.912415Z",
     "iopub.status.busy": "2021-08-06T00:22:39.911587Z",
     "iopub.status.idle": "2021-08-06T00:22:40.096576Z",
     "shell.execute_reply": "2021-08-06T00:22:40.096026Z"
    },
    "papermill": {
     "duration": 0.223569,
     "end_time": "2021-08-06T00:22:40.096711",
     "exception": false,
     "start_time": "2021-08-06T00:22:39.873142",
     "status": "completed"
    },
    "tags": []
   },
   "outputs": [
    {
     "name": "stdout",
     "output_type": "stream",
     "text": [
      "2\n"
     ]
    },
    {
     "data": {
      "text/plain": [
       "<matplotlib.image.AxesImage at 0x7f3a5f7219e8>"
      ]
     },
     "execution_count": 8,
     "metadata": {},
     "output_type": "execute_result"
    },
    {
     "data": {
      "image/png": "[encoded data removed]",
      "text/plain": [
       "<Figure size 432x288 with 1 Axes>"
      ]
     },
     "metadata": {
      "needs_background": "light"
     },
     "output_type": "display_data"
    }
   ],
   "source": [
    "image_index = 7776 # You may select anything up to 60,000\n",
    "print(train_labels[image_index]) \n",
    "plt.imshow(train_images[image_index], cmap='Greys')"
   ]
  },
  {
   "cell_type": "markdown",
   "id": "facial-modem",
   "metadata": {
    "papermill": {
     "duration": 0.033666,
     "end_time": "2021-08-06T00:22:40.165404",
     "exception": false,
     "start_time": "2021-08-06T00:22:40.131738",
     "status": "completed"
    },
    "tags": []
   },
   "source": [
    "## Filter data to get 3 and 8 out"
   ]
  },
  {
   "cell_type": "code",
   "execution_count": 9,
   "id": "thousand-acquisition",
   "metadata": {
    "execution": {
     "iopub.execute_input": "2021-08-06T00:22:40.252232Z",
     "iopub.status.busy": "2021-08-06T00:22:40.247211Z",
     "iopub.status.idle": "2021-08-06T00:22:40.264269Z",
     "shell.execute_reply": "2021-08-06T00:22:40.264799Z"
    },
    "papermill": {
     "duration": 0.063844,
     "end_time": "2021-08-06T00:22:40.264943",
     "exception": false,
     "start_time": "2021-08-06T00:22:40.201099",
     "status": "completed"
    },
    "tags": []
   },
   "outputs": [],
   "source": [
    "train_filter = np.where((train_labels == 3 ) | (train_labels == 8))\n",
    "test_filter = np.where((test_labels == 3) | (test_labels == 8))\n",
    "X_train, y_train = train_images[train_filter], train_labels[train_filter]\n",
    "X_test, y_test = test_images[test_filter], test_labels[test_filter]"
   ]
  },
  {
   "cell_type": "markdown",
   "id": "ruled-access",
   "metadata": {
    "papermill": {
     "duration": 0.034089,
     "end_time": "2021-08-06T00:22:40.335884",
     "exception": false,
     "start_time": "2021-08-06T00:22:40.301795",
     "status": "completed"
    },
    "tags": []
   },
   "source": [
    "We normalize the pixel values in the 0 to 1 range"
   ]
  },
  {
   "cell_type": "code",
   "execution_count": 10,
   "id": "isolated-denver",
   "metadata": {
    "execution": {
     "iopub.execute_input": "2021-08-06T00:22:40.411585Z",
     "iopub.status.busy": "2021-08-06T00:22:40.410819Z",
     "iopub.status.idle": "2021-08-06T00:22:40.470492Z",
     "shell.execute_reply": "2021-08-06T00:22:40.470997Z"
    },
    "papermill": {
     "duration": 0.101595,
     "end_time": "2021-08-06T00:22:40.471161",
     "exception": false,
     "start_time": "2021-08-06T00:22:40.369566",
     "status": "completed"
    },
    "tags": []
   },
   "outputs": [],
   "source": [
    "X_train = X_train/255.\n",
    "X_test = X_test/255."
   ]
  },
  {
   "cell_type": "markdown",
   "id": "perfect-summary",
   "metadata": {
    "papermill": {
     "duration": 0.035971,
     "end_time": "2021-08-06T00:22:40.542550",
     "exception": false,
     "start_time": "2021-08-06T00:22:40.506579",
     "status": "completed"
    },
    "tags": []
   },
   "source": [
    "Setup the labels as 1 (when the digit is 3) and 0 (when the digit is 8)"
   ]
  },
  {
   "cell_type": "code",
   "execution_count": 11,
   "id": "personalized-growing",
   "metadata": {
    "execution": {
     "iopub.execute_input": "2021-08-06T00:22:40.622550Z",
     "iopub.status.busy": "2021-08-06T00:22:40.621588Z",
     "iopub.status.idle": "2021-08-06T00:22:40.634558Z",
     "shell.execute_reply": "2021-08-06T00:22:40.634065Z"
    },
    "papermill": {
     "duration": 0.058152,
     "end_time": "2021-08-06T00:22:40.634681",
     "exception": false,
     "start_time": "2021-08-06T00:22:40.576529",
     "status": "completed"
    },
    "tags": []
   },
   "outputs": [],
   "source": [
    "y_train = 1*(y_train==3)\n",
    "y_test = 1*(y_test==3)"
   ]
  },
  {
   "cell_type": "code",
   "execution_count": 12,
   "id": "considered-virgin",
   "metadata": {
    "execution": {
     "iopub.execute_input": "2021-08-06T00:22:40.711690Z",
     "iopub.status.busy": "2021-08-06T00:22:40.711101Z",
     "iopub.status.idle": "2021-08-06T00:22:40.725092Z",
     "shell.execute_reply": "2021-08-06T00:22:40.724595Z"
    },
    "papermill": {
     "duration": 0.054575,
     "end_time": "2021-08-06T00:22:40.725205",
     "exception": false,
     "start_time": "2021-08-06T00:22:40.670630",
     "status": "completed"
    },
    "tags": []
   },
   "outputs": [
    {
     "data": {
      "text/plain": [
       "((11982, 28, 28), (1984, 28, 28))"
      ]
     },
     "execution_count": 12,
     "metadata": {},
     "output_type": "execute_result"
    }
   ],
   "source": [
    "X_train.shape, X_test.shape"
   ]
  },
  {
   "cell_type": "markdown",
   "id": "civilian-mobile",
   "metadata": {
    "papermill": {
     "duration": 0.037245,
     "end_time": "2021-08-06T00:22:40.797232",
     "exception": false,
     "start_time": "2021-08-06T00:22:40.759987",
     "status": "completed"
    },
    "tags": []
   },
   "source": [
    "### Reshape the input data to create a linear array"
   ]
  },
  {
   "cell_type": "code",
   "execution_count": 13,
   "id": "colonial-adams",
   "metadata": {
    "execution": {
     "iopub.execute_input": "2021-08-06T00:22:40.872181Z",
     "iopub.status.busy": "2021-08-06T00:22:40.871342Z",
     "iopub.status.idle": "2021-08-06T00:22:40.885773Z",
     "shell.execute_reply": "2021-08-06T00:22:40.886499Z"
    },
    "papermill": {
     "duration": 0.053798,
     "end_time": "2021-08-06T00:22:40.886634",
     "exception": false,
     "start_time": "2021-08-06T00:22:40.832836",
     "status": "completed"
    },
    "tags": []
   },
   "outputs": [
    {
     "data": {
      "text/plain": [
       "((11982, 784), (1984, 784))"
      ]
     },
     "execution_count": 13,
     "metadata": {},
     "output_type": "execute_result"
    }
   ],
   "source": [
    "X_train = X_train.reshape(X_train.shape[0], -1)\n",
    "X_test = X_test.reshape(X_test.shape[0], -1)\n",
    "X_train.shape, X_test.shape"
   ]
  },
  {
   "cell_type": "markdown",
   "id": "smart-details",
   "metadata": {
    "papermill": {
     "duration": 0.036061,
     "end_time": "2021-08-06T00:22:40.957467",
     "exception": false,
     "start_time": "2021-08-06T00:22:40.921406",
     "status": "completed"
    },
    "tags": []
   },
   "source": [
    "### Importing appropriate functions from 'Kudzu'"
   ]
  },
  {
   "cell_type": "code",
   "execution_count": 14,
   "id": "celtic-trial",
   "metadata": {
    "execution": {
     "iopub.execute_input": "2021-08-06T00:22:41.036721Z",
     "iopub.status.busy": "2021-08-06T00:22:41.036038Z",
     "iopub.status.idle": "2021-08-06T00:22:41.057665Z",
     "shell.execute_reply": "2021-08-06T00:22:41.058613Z"
    },
    "papermill": {
     "duration": 0.065066,
     "end_time": "2021-08-06T00:22:41.058838",
     "exception": false,
     "start_time": "2021-08-06T00:22:40.993772",
     "status": "completed"
    },
    "tags": []
   },
   "outputs": [],
   "source": [
    "from kudzu.layer import Sigmoid\n",
    "from kudzu.layer import Relu\n",
    "from kudzu.layer import Affine, Sigmoid\n",
    "\n",
    "from kudzu.model import Model\n",
    "from kudzu.train import Learner\n",
    "from kudzu.optim import GD\n",
    "from kudzu.data import Data, Dataloader, Sampler\n",
    "\n",
    "from kudzu.callbacks import AccCallback\n",
    "from kudzu.callbacks import ClfCallback\n",
    "\n",
    "from kudzu.loss import MSE"
   ]
  },
  {
   "cell_type": "markdown",
   "id": "coupled-customer",
   "metadata": {
    "papermill": {
     "duration": 0.036375,
     "end_time": "2021-08-06T00:22:41.133009",
     "exception": false,
     "start_time": "2021-08-06T00:22:41.096634",
     "status": "completed"
    },
    "tags": []
   },
   "source": [
    "### Let us create a `Config` class, to store important parameters. \n",
    "This class essentially plays the role of a dictionary."
   ]
  },
  {
   "cell_type": "code",
   "execution_count": 15,
   "id": "young-ceiling",
   "metadata": {
    "execution": {
     "iopub.execute_input": "2021-08-06T00:22:41.207924Z",
     "iopub.status.busy": "2021-08-06T00:22:41.206827Z",
     "iopub.status.idle": "2021-08-06T00:22:41.221873Z",
     "shell.execute_reply": "2021-08-06T00:22:41.222508Z"
    },
    "papermill": {
     "duration": 0.0546,
     "end_time": "2021-08-06T00:22:41.222666",
     "exception": false,
     "start_time": "2021-08-06T00:22:41.168066",
     "status": "completed"
    },
    "tags": []
   },
   "outputs": [],
   "source": [
    "class Config:\n",
    "    pass\n",
    "config = Config()\n",
    "config.lr = 0.001\n",
    "config.num_epochs = 251\n",
    "config.bs = 50"
   ]
  },
  {
   "cell_type": "markdown",
   "id": "according-mandate",
   "metadata": {
    "papermill": {
     "duration": 0.034789,
     "end_time": "2021-08-06T00:22:41.306904",
     "exception": false,
     "start_time": "2021-08-06T00:22:41.272115",
     "status": "completed"
    },
    "tags": []
   },
   "source": [
    "### Initializing data to the variables"
   ]
  },
  {
   "cell_type": "code",
   "execution_count": 16,
   "id": "academic-disposition",
   "metadata": {
    "execution": {
     "iopub.execute_input": "2021-08-06T00:22:41.380097Z",
     "iopub.status.busy": "2021-08-06T00:22:41.379374Z",
     "iopub.status.idle": "2021-08-06T00:22:41.393496Z",
     "shell.execute_reply": "2021-08-06T00:22:41.393995Z"
    },
    "papermill": {
     "duration": 0.052819,
     "end_time": "2021-08-06T00:22:41.394176",
     "exception": false,
     "start_time": "2021-08-06T00:22:41.341357",
     "status": "completed"
    },
    "tags": []
   },
   "outputs": [],
   "source": [
    "data = Data(X_train, y_train.reshape(-1,1))\n",
    "sampler = Sampler(data, config.bs, shuffle=True)\n",
    "\n",
    "dl = Dataloader(data, sampler)\n",
    "\n",
    "opt = GD(config.lr)\n",
    "loss = MSE()"
   ]
  },
  {
   "cell_type": "code",
   "execution_count": 17,
   "id": "featured-commission",
   "metadata": {
    "execution": {
     "iopub.execute_input": "2021-08-06T00:22:41.486357Z",
     "iopub.status.busy": "2021-08-06T00:22:41.477457Z",
     "iopub.status.idle": "2021-08-06T00:22:41.488305Z",
     "shell.execute_reply": "2021-08-06T00:22:41.488829Z"
    },
    "papermill": {
     "duration": 0.054408,
     "end_time": "2021-08-06T00:22:41.488963",
     "exception": false,
     "start_time": "2021-08-06T00:22:41.434555",
     "status": "completed"
    },
    "tags": []
   },
   "outputs": [],
   "source": [
    "training_xdata = X_train\n",
    "testing_xdata = X_test\n",
    "training_ydata = y_train.reshape(-1,1)\n",
    "testing_ydata = y_test.reshape(-1,1)"
   ]
  },
  {
   "cell_type": "markdown",
   "id": "played-safety",
   "metadata": {
    "papermill": {
     "duration": 0.035251,
     "end_time": "2021-08-06T00:22:41.561274",
     "exception": false,
     "start_time": "2021-08-06T00:22:41.526023",
     "status": "completed"
    },
    "tags": []
   },
   "source": [
    "### Running Models with the Training data\n",
    "Details about the network layers:\n",
    "- A first affine layer has 784 inputs and does 100 affine transforms. These are followed by a Relu\n",
    "- A second affine layer has 100 inputs from the 100 activations of the past layer, and does 100 affine transforms. These are followed by a Relu\n",
    "- A third affine layer has 100 activations and does 2 affine transformations to create an embedding for visualization. There is no non-linearity here.\n",
    "- A final \"logistic regression\" which has an affine transform from 2 inputs to 1 output, which is squeezed through a sigmoid.\n",
    "\n",
    "Help taken from Anshuman's Notebook."
   ]
  },
  {
   "cell_type": "code",
   "execution_count": 18,
   "id": "asian-bankruptcy",
   "metadata": {
    "execution": {
     "iopub.execute_input": "2021-08-06T00:22:41.642174Z",
     "iopub.status.busy": "2021-08-06T00:22:41.640859Z",
     "iopub.status.idle": "2021-08-06T00:22:41.657270Z",
     "shell.execute_reply": "2021-08-06T00:22:41.657733Z"
    },
    "papermill": {
     "duration": 0.059883,
     "end_time": "2021-08-06T00:22:41.657875",
     "exception": false,
     "start_time": "2021-08-06T00:22:41.597992",
     "status": "completed"
    },
    "tags": []
   },
   "outputs": [],
   "source": [
    "# layers for the Neural Network\n",
    "layers = [Affine(\"first\", 784, 100), Relu(\"first\"), Affine(\"second\", 100, 100), Relu(\"second\"), Affine(\"third\", 100, 2), Affine(\"final\", 2, 1), Sigmoid(\"final\")]\n",
    "model_nn = Model(layers)\n",
    "\n",
    "# layers for the Logistic Regression\n",
    "layers_lr = [Affine(\"logits\", 784, 1), Sigmoid(\"sigmoid\")]\n",
    "model_lr = Model(layers_lr)"
   ]
  },
  {
   "cell_type": "code",
   "execution_count": 19,
   "id": "removed-butler",
   "metadata": {
    "execution": {
     "iopub.execute_input": "2021-08-06T00:22:41.739860Z",
     "iopub.status.busy": "2021-08-06T00:22:41.738504Z",
     "iopub.status.idle": "2021-08-06T00:22:41.751997Z",
     "shell.execute_reply": "2021-08-06T00:22:41.751408Z"
    },
    "papermill": {
     "duration": 0.055491,
     "end_time": "2021-08-06T00:22:41.752122",
     "exception": false,
     "start_time": "2021-08-06T00:22:41.696631",
     "status": "completed"
    },
    "tags": []
   },
   "outputs": [],
   "source": [
    "# suffix _nn stands for Neural Network.\n",
    "learner_nn = Learner(loss, model_nn, opt, config.num_epochs)\n",
    "acc_nn = ClfCallback(learner_nn, config.bs, training_xdata , testing_xdata, training_ydata, testing_ydata)\n",
    "learner_nn.set_callbacks([acc_nn])"
   ]
  },
  {
   "cell_type": "code",
   "execution_count": 20,
   "id": "conceptual-throw",
   "metadata": {
    "execution": {
     "iopub.execute_input": "2021-08-06T00:22:41.837292Z",
     "iopub.status.busy": "2021-08-06T00:22:41.836610Z",
     "iopub.status.idle": "2021-08-06T00:25:08.942315Z",
     "shell.execute_reply": "2021-08-06T00:25:08.943430Z"
    },
    "papermill": {
     "duration": 147.145635,
     "end_time": "2021-08-06T00:25:08.943602",
     "exception": false,
     "start_time": "2021-08-06T00:22:41.797967",
     "status": "completed"
    },
    "tags": []
   },
   "outputs": [
    {
     "name": "stdout",
     "output_type": "stream",
     "text": [
      "====== Neural Network ======\n"
     ]
    },
    {
     "name": "stdout",
     "output_type": "stream",
     "text": [
      "Epoch 0, Loss 0.2368\n",
      "Training Accuracy: 0.7399, Testing Accuracy: 0.7445\n",
      "\n"
     ]
    },
    {
     "name": "stdout",
     "output_type": "stream",
     "text": [
      "Epoch 10, Loss 0.0659\n",
      "Training Accuracy: 0.9341, Testing Accuracy: 0.9425\n",
      "\n"
     ]
    },
    {
     "name": "stdout",
     "output_type": "stream",
     "text": [
      "Epoch 20, Loss 0.0447\n",
      "Training Accuracy: 0.9528, Testing Accuracy: 0.9582\n",
      "\n"
     ]
    },
    {
     "name": "stdout",
     "output_type": "stream",
     "text": [
      "Epoch 30, Loss 0.0372\n",
      "Training Accuracy: 0.9585, Testing Accuracy: 0.9677\n",
      "\n"
     ]
    },
    {
     "name": "stdout",
     "output_type": "stream",
     "text": [
      "Epoch 40, Loss 0.0331\n",
      "Training Accuracy: 0.9631, Testing Accuracy: 0.9703\n",
      "\n"
     ]
    },
    {
     "name": "stdout",
     "output_type": "stream",
     "text": [
      "Epoch 50, Loss 0.0304\n",
      "Training Accuracy: 0.9659, Testing Accuracy: 0.9728\n",
      "\n"
     ]
    },
    {
     "name": "stdout",
     "output_type": "stream",
     "text": [
      "Epoch 60, Loss 0.0284\n",
      "Training Accuracy: 0.9681, Testing Accuracy: 0.9713\n",
      "\n"
     ]
    },
    {
     "name": "stdout",
     "output_type": "stream",
     "text": [
      "Epoch 70, Loss 0.0268\n",
      "Training Accuracy: 0.9700, Testing Accuracy: 0.9718\n",
      "\n"
     ]
    },
    {
     "name": "stdout",
     "output_type": "stream",
     "text": [
      "Epoch 80, Loss 0.0255\n",
      "Training Accuracy: 0.9716, Testing Accuracy: 0.9728\n",
      "\n"
     ]
    },
    {
     "name": "stdout",
     "output_type": "stream",
     "text": [
      "Epoch 90, Loss 0.0244\n",
      "Training Accuracy: 0.9726, Testing Accuracy: 0.9723\n",
      "\n"
     ]
    },
    {
     "name": "stdout",
     "output_type": "stream",
     "text": [
      "Epoch 100, Loss 0.0234\n",
      "Training Accuracy: 0.9742, Testing Accuracy: 0.9723\n",
      "\n"
     ]
    },
    {
     "name": "stdout",
     "output_type": "stream",
     "text": [
      "Epoch 110, Loss 0.0226\n",
      "Training Accuracy: 0.9753, Testing Accuracy: 0.9723\n",
      "\n"
     ]
    },
    {
     "name": "stdout",
     "output_type": "stream",
     "text": [
      "Epoch 120, Loss 0.0218\n",
      "Training Accuracy: 0.9764, Testing Accuracy: 0.9728\n",
      "\n"
     ]
    },
    {
     "name": "stdout",
     "output_type": "stream",
     "text": [
      "Epoch 130, Loss 0.0211\n",
      "Training Accuracy: 0.9770, Testing Accuracy: 0.9733\n",
      "\n"
     ]
    },
    {
     "name": "stdout",
     "output_type": "stream",
     "text": [
      "Epoch 140, Loss 0.0205\n",
      "Training Accuracy: 0.9778, Testing Accuracy: 0.9748\n",
      "\n"
     ]
    },
    {
     "name": "stdout",
     "output_type": "stream",
     "text": [
      "Epoch 150, Loss 0.0199\n",
      "Training Accuracy: 0.9787, Testing Accuracy: 0.9753\n",
      "\n"
     ]
    },
    {
     "name": "stdout",
     "output_type": "stream",
     "text": [
      "Epoch 160, Loss 0.0193\n",
      "Training Accuracy: 0.9796, Testing Accuracy: 0.9758\n",
      "\n"
     ]
    },
    {
     "name": "stdout",
     "output_type": "stream",
     "text": [
      "Epoch 170, Loss 0.0188\n",
      "Training Accuracy: 0.9799, Testing Accuracy: 0.9763\n",
      "\n"
     ]
    },
    {
     "name": "stdout",
     "output_type": "stream",
     "text": [
      "Epoch 180, Loss 0.0184\n",
      "Training Accuracy: 0.9806, Testing Accuracy: 0.9758\n",
      "\n"
     ]
    },
    {
     "name": "stdout",
     "output_type": "stream",
     "text": [
      "Epoch 190, Loss 0.0179\n",
      "Training Accuracy: 0.9812, Testing Accuracy: 0.9758\n",
      "\n"
     ]
    },
    {
     "name": "stdout",
     "output_type": "stream",
     "text": [
      "Epoch 200, Loss 0.0175\n",
      "Training Accuracy: 0.9818, Testing Accuracy: 0.9763\n",
      "\n"
     ]
    },
    {
     "name": "stdout",
     "output_type": "stream",
     "text": [
      "Epoch 210, Loss 0.0171\n",
      "Training Accuracy: 0.9820, Testing Accuracy: 0.9763\n",
      "\n"
     ]
    },
    {
     "name": "stdout",
     "output_type": "stream",
     "text": [
      "Epoch 220, Loss 0.0167\n",
      "Training Accuracy: 0.9825, Testing Accuracy: 0.9768\n",
      "\n"
     ]
    },
    {
     "name": "stdout",
     "output_type": "stream",
     "text": [
      "Epoch 230, Loss 0.0163\n",
      "Training Accuracy: 0.9830, Testing Accuracy: 0.9768\n",
      "\n"
     ]
    },
    {
     "name": "stdout",
     "output_type": "stream",
     "text": [
      "Epoch 240, Loss 0.0159\n",
      "Training Accuracy: 0.9832, Testing Accuracy: 0.9768\n",
      "\n"
     ]
    },
    {
     "name": "stdout",
     "output_type": "stream",
     "text": [
      "Epoch 250, Loss 0.0156\n",
      "Training Accuracy: 0.9836, Testing Accuracy: 0.9773\n",
      "\n"
     ]
    },
    {
     "data": {
      "text/plain": [
       "0.00538845151523406"
      ]
     },
     "execution_count": 20,
     "metadata": {},
     "output_type": "execute_result"
    }
   ],
   "source": [
    "print(\"====== Neural Network ======\")\n",
    "learner_nn.train_loop(dl)"
   ]
  },
  {
   "cell_type": "markdown",
   "id": "competent-suffering",
   "metadata": {
    "papermill": {
     "duration": 0.046271,
     "end_time": "2021-08-06T00:25:09.035581",
     "exception": false,
     "start_time": "2021-08-06T00:25:08.989310",
     "status": "completed"
    },
    "tags": []
   },
   "source": [
    "### Logistic Regression based Implementation."
   ]
  },
  {
   "cell_type": "code",
   "execution_count": 21,
   "id": "qualified-psychiatry",
   "metadata": {
    "execution": {
     "iopub.execute_input": "2021-08-06T00:25:09.139657Z",
     "iopub.status.busy": "2021-08-06T00:25:09.138900Z",
     "iopub.status.idle": "2021-08-06T00:25:09.155689Z",
     "shell.execute_reply": "2021-08-06T00:25:09.156279Z"
    },
    "papermill": {
     "duration": 0.074696,
     "end_time": "2021-08-06T00:25:09.156442",
     "exception": false,
     "start_time": "2021-08-06T00:25:09.081746",
     "status": "completed"
    },
    "tags": []
   },
   "outputs": [],
   "source": [
    "learner_lr = Learner(loss, model_lr, opt, config.num_epochs)\n",
    "acc_lr = ClfCallback(learner_lr, config.bs, training_xdata , testing_xdata, training_ydata, testing_ydata)\n",
    "learner_lr.set_callbacks([acc_lr])"
   ]
  },
  {
   "cell_type": "code",
   "execution_count": 22,
   "id": "average-outside",
   "metadata": {
    "execution": {
     "iopub.execute_input": "2021-08-06T00:25:09.249871Z",
     "iopub.status.busy": "2021-08-06T00:25:09.249195Z",
     "iopub.status.idle": "2021-08-06T00:25:30.757073Z",
     "shell.execute_reply": "2021-08-06T00:25:30.757888Z"
    },
    "papermill": {
     "duration": 21.556384,
     "end_time": "2021-08-06T00:25:30.758048",
     "exception": false,
     "start_time": "2021-08-06T00:25:09.201664",
     "status": "completed"
    },
    "tags": []
   },
   "outputs": [
    {
     "name": "stdout",
     "output_type": "stream",
     "text": [
      "====== Logistic Regression ======\n",
      "Epoch 0, Loss 0.2385\n",
      "Training Accuracy: 0.6722, Testing Accuracy: 0.6663\n",
      "\n"
     ]
    },
    {
     "name": "stdout",
     "output_type": "stream",
     "text": [
      "Epoch 10, Loss 0.1021\n",
      "Training Accuracy: 0.9107, Testing Accuracy: 0.9214\n",
      "\n"
     ]
    },
    {
     "name": "stdout",
     "output_type": "stream",
     "text": [
      "Epoch 20, Loss 0.0782\n",
      "Training Accuracy: 0.9301, Testing Accuracy: 0.9425\n",
      "\n"
     ]
    },
    {
     "name": "stdout",
     "output_type": "stream",
     "text": [
      "Epoch 30, Loss 0.0674\n",
      "Training Accuracy: 0.9385, Testing Accuracy: 0.9476\n",
      "\n"
     ]
    },
    {
     "name": "stdout",
     "output_type": "stream",
     "text": [
      "Epoch 40, Loss 0.061\n",
      "Training Accuracy: 0.9429, Testing Accuracy: 0.9551\n",
      "\n"
     ]
    },
    {
     "name": "stdout",
     "output_type": "stream",
     "text": [
      "Epoch 50, Loss 0.0566\n",
      "Training Accuracy: 0.9457, Testing Accuracy: 0.9561\n",
      "\n"
     ]
    },
    {
     "name": "stdout",
     "output_type": "stream",
     "text": [
      "Epoch 60, Loss 0.0534\n",
      "Training Accuracy: 0.9479, Testing Accuracy: 0.9577\n",
      "\n"
     ]
    },
    {
     "name": "stdout",
     "output_type": "stream",
     "text": [
      "Epoch 70, Loss 0.051\n",
      "Training Accuracy: 0.9499, Testing Accuracy: 0.9592\n",
      "\n"
     ]
    },
    {
     "name": "stdout",
     "output_type": "stream",
     "text": [
      "Epoch 80, Loss 0.049\n",
      "Training Accuracy: 0.9518, Testing Accuracy: 0.9592\n",
      "\n"
     ]
    },
    {
     "name": "stdout",
     "output_type": "stream",
     "text": [
      "Epoch 90, Loss 0.0473\n",
      "Training Accuracy: 0.9532, Testing Accuracy: 0.9607\n",
      "\n"
     ]
    },
    {
     "name": "stdout",
     "output_type": "stream",
     "text": [
      "Epoch 100, Loss 0.0459\n",
      "Training Accuracy: 0.9543, Testing Accuracy: 0.9612\n",
      "\n"
     ]
    },
    {
     "name": "stdout",
     "output_type": "stream",
     "text": [
      "Epoch 110, Loss 0.0447\n",
      "Training Accuracy: 0.9548, Testing Accuracy: 0.9627\n",
      "\n"
     ]
    },
    {
     "name": "stdout",
     "output_type": "stream",
     "text": [
      "Epoch 120, Loss 0.0437\n",
      "Training Accuracy: 0.9554, Testing Accuracy: 0.9642\n",
      "\n"
     ]
    },
    {
     "name": "stdout",
     "output_type": "stream",
     "text": [
      "Epoch 130, Loss 0.0428\n",
      "Training Accuracy: 0.9559, Testing Accuracy: 0.9647\n",
      "\n"
     ]
    },
    {
     "name": "stdout",
     "output_type": "stream",
     "text": [
      "Epoch 140, Loss 0.042\n",
      "Training Accuracy: 0.9564, Testing Accuracy: 0.9652\n",
      "\n"
     ]
    },
    {
     "name": "stdout",
     "output_type": "stream",
     "text": [
      "Epoch 150, Loss 0.0412\n",
      "Training Accuracy: 0.9571, Testing Accuracy: 0.9652\n",
      "\n"
     ]
    },
    {
     "name": "stdout",
     "output_type": "stream",
     "text": [
      "Epoch 160, Loss 0.0406\n",
      "Training Accuracy: 0.9574, Testing Accuracy: 0.9657\n",
      "\n"
     ]
    },
    {
     "name": "stdout",
     "output_type": "stream",
     "text": [
      "Epoch 170, Loss 0.04\n",
      "Training Accuracy: 0.9574, Testing Accuracy: 0.9662\n",
      "\n"
     ]
    },
    {
     "name": "stdout",
     "output_type": "stream",
     "text": [
      "Epoch 180, Loss 0.0394\n",
      "Training Accuracy: 0.9574, Testing Accuracy: 0.9667\n",
      "\n"
     ]
    },
    {
     "name": "stdout",
     "output_type": "stream",
     "text": [
      "Epoch 190, Loss 0.0389\n",
      "Training Accuracy: 0.9577, Testing Accuracy: 0.9662\n",
      "\n"
     ]
    },
    {
     "name": "stdout",
     "output_type": "stream",
     "text": [
      "Epoch 200, Loss 0.0385\n",
      "Training Accuracy: 0.9586, Testing Accuracy: 0.9667\n",
      "\n"
     ]
    },
    {
     "name": "stdout",
     "output_type": "stream",
     "text": [
      "Epoch 210, Loss 0.038\n",
      "Training Accuracy: 0.9588, Testing Accuracy: 0.9667\n",
      "\n"
     ]
    },
    {
     "name": "stdout",
     "output_type": "stream",
     "text": [
      "Epoch 220, Loss 0.0376\n",
      "Training Accuracy: 0.9594, Testing Accuracy: 0.9672\n",
      "\n"
     ]
    },
    {
     "name": "stdout",
     "output_type": "stream",
     "text": [
      "Epoch 230, Loss 0.0372\n",
      "Training Accuracy: 0.9600, Testing Accuracy: 0.9672\n",
      "\n"
     ]
    },
    {
     "name": "stdout",
     "output_type": "stream",
     "text": [
      "Epoch 240, Loss 0.0369\n",
      "Training Accuracy: 0.9604, Testing Accuracy: 0.9682\n",
      "\n"
     ]
    },
    {
     "name": "stdout",
     "output_type": "stream",
     "text": [
      "Epoch 250, Loss 0.0365\n",
      "Training Accuracy: 0.9607, Testing Accuracy: 0.9688\n",
      "\n"
     ]
    },
    {
     "data": {
      "text/plain": [
       "0.014457063227162937"
      ]
     },
     "execution_count": 22,
     "metadata": {},
     "output_type": "execute_result"
    }
   ],
   "source": [
    "print(\"====== Logistic Regression ======\")\n",
    "learner_lr.train_loop(dl)"
   ]
  },
  {
   "cell_type": "markdown",
   "id": "adjusted-possible",
   "metadata": {
    "papermill": {
     "duration": 0.054663,
     "end_time": "2021-08-06T00:25:30.875573",
     "exception": false,
     "start_time": "2021-08-06T00:25:30.820910",
     "status": "completed"
    },
    "tags": []
   },
   "source": [
    "### Comparing results of NN and LR"
   ]
  },
  {
   "cell_type": "code",
   "execution_count": 23,
   "id": "mental-multimedia",
   "metadata": {
    "execution": {
     "iopub.execute_input": "2021-08-06T00:25:30.985031Z",
     "iopub.status.busy": "2021-08-06T00:25:30.984197Z",
     "iopub.status.idle": "2021-08-06T00:25:31.305622Z",
     "shell.execute_reply": "2021-08-06T00:25:31.305136Z"
    },
    "papermill": {
     "duration": 0.375879,
     "end_time": "2021-08-06T00:25:31.305750",
     "exception": false,
     "start_time": "2021-08-06T00:25:30.929871",
     "status": "completed"
    },
    "tags": []
   },
   "outputs": [
    {
     "data": {
      "text/plain": [
       "<matplotlib.legend.Legend at 0x7f3a572fe5c0>"
      ]
     },
     "execution_count": 23,
     "metadata": {},
     "output_type": "execute_result"
    },
    {
     "data": {
      "image/png": "[encoded data removed]",
      "text/plain": [
       "<Figure size 1080x720 with 1 Axes>"
      ]
     },
     "metadata": {
      "needs_background": "light"
     },
     "output_type": "display_data"
    }
   ],
   "source": [
    "plt.figure(figsize=(15,10))\n",
    "\n",
    "# Neural Network plots\n",
    "plt.plot(acc_nn.accuracies, 'r-', label = \"Training Accuracies - NN\")\n",
    "plt.plot(acc_nn.test_accuracies, 'g-', label = \"Testing Accuracies - NN\")\n",
    "\n",
    "# Logistic Regression plots\n",
    "plt.plot(acc_lr.accuracies, 'k-', label = \"Training Accuracies - LR\")\n",
    "plt.plot(acc_lr.test_accuracies, 'b-', label = \"Testing Accuracies - LR\")\n",
    "\n",
    "plt.ylim(0.8, 1)\n",
    "\n",
    "plt.legend()\n",
    "\n"
   ]
  },
  {
   "cell_type": "markdown",
   "id": "sexual-flesh",
   "metadata": {
    "papermill": {
     "duration": 0.056981,
     "end_time": "2021-08-06T00:25:31.416102",
     "exception": false,
     "start_time": "2021-08-06T00:25:31.359121",
     "status": "completed"
    },
    "tags": []
   },
   "source": [
    "### From the plot, we can observe the following:\n",
    "- Neural Network achieves higher accuracy than the Logistic Regression model.\n",
    "- This apparently, is because of overfitting, i.e. NN captures more noise than data.\n",
    "- Testing accuracy of NN drops below the Training accuracy at higher epochs. This explains the over-fitting on training data.\n",
    "- Logistic Regression gives a reliable accuracy, without the above mentioned problem.\n"
   ]
  },
  {
   "cell_type": "markdown",
   "id": "institutional-pacific",
   "metadata": {
    "papermill": {
     "duration": 0.056072,
     "end_time": "2021-08-06T00:25:31.526337",
     "exception": false,
     "start_time": "2021-08-06T00:25:31.470265",
     "status": "completed"
    },
    "tags": []
   },
   "source": [
    "### Moving till the last but one layer (excluding it).\n",
    "#### Plotting the outputs of this layer of the NN."
   ]
  },
  {
   "cell_type": "code",
   "execution_count": 24,
   "id": "economic-server",
   "metadata": {
    "execution": {
     "iopub.execute_input": "2021-08-06T00:25:31.639107Z",
     "iopub.status.busy": "2021-08-06T00:25:31.638491Z",
     "iopub.status.idle": "2021-08-06T00:25:31.651174Z",
     "shell.execute_reply": "2021-08-06T00:25:31.651703Z"
    },
    "papermill": {
     "duration": 0.072774,
     "end_time": "2021-08-06T00:25:31.651871",
     "exception": false,
     "start_time": "2021-08-06T00:25:31.579097",
     "status": "completed"
    },
    "tags": []
   },
   "outputs": [],
   "source": [
    "model_new = Model(layers[:-2])"
   ]
  },
  {
   "cell_type": "code",
   "execution_count": 25,
   "id": "varied-upgrade",
   "metadata": {
    "execution": {
     "iopub.execute_input": "2021-08-06T00:25:31.792828Z",
     "iopub.status.busy": "2021-08-06T00:25:31.792188Z",
     "iopub.status.idle": "2021-08-06T00:25:31.820183Z",
     "shell.execute_reply": "2021-08-06T00:25:31.820838Z"
    },
    "papermill": {
     "duration": 0.112453,
     "end_time": "2021-08-06T00:25:31.821002",
     "exception": false,
     "start_time": "2021-08-06T00:25:31.708549",
     "status": "completed"
    },
    "tags": []
   },
   "outputs": [],
   "source": [
    "plot_testing = model_new(testing_xdata)"
   ]
  },
  {
   "cell_type": "code",
   "execution_count": 26,
   "id": "specific-handling",
   "metadata": {
    "execution": {
     "iopub.execute_input": "2021-08-06T00:25:31.947888Z",
     "iopub.status.busy": "2021-08-06T00:25:31.947239Z",
     "iopub.status.idle": "2021-08-06T00:25:32.224221Z",
     "shell.execute_reply": "2021-08-06T00:25:32.224764Z"
    },
    "papermill": {
     "duration": 0.33919,
     "end_time": "2021-08-06T00:25:32.224962",
     "exception": false,
     "start_time": "2021-08-06T00:25:31.885772",
     "status": "completed"
    },
    "tags": []
   },
   "outputs": [
    {
     "data": {
      "text/plain": [
       "Text(0.5, 1.0, 'Outputs')"
      ]
     },
     "execution_count": 26,
     "metadata": {},
     "output_type": "execute_result"
    },
    {
     "data": {
      "image/png": "[encoded data removed]",
      "text/plain": [
       "<Figure size 576x504 with 1 Axes>"
      ]
     },
     "metadata": {
      "needs_background": "light"
     },
     "output_type": "display_data"
    }
   ],
   "source": [
    "plt.figure(figsize=(8,7))\n",
    "plt.scatter(plot_testing[:,0], plot_testing[:,1], alpha = 0.1, c = y_test.ravel());\n",
    "plt.title('Outputs')"
   ]
  },
  {
   "cell_type": "markdown",
   "id": "described-knowing",
   "metadata": {
    "papermill": {
     "duration": 0.058401,
     "end_time": "2021-08-06T00:25:32.341283",
     "exception": false,
     "start_time": "2021-08-06T00:25:32.282882",
     "status": "completed"
    },
    "tags": []
   },
   "source": [
    "### Plotting probability contours"
   ]
  },
  {
   "cell_type": "code",
   "execution_count": 27,
   "id": "needed-growing",
   "metadata": {
    "execution": {
     "iopub.execute_input": "2021-08-06T00:25:32.463292Z",
     "iopub.status.busy": "2021-08-06T00:25:32.462367Z",
     "iopub.status.idle": "2021-08-06T00:25:32.476452Z",
     "shell.execute_reply": "2021-08-06T00:25:32.475837Z"
    },
    "papermill": {
     "duration": 0.08026,
     "end_time": "2021-08-06T00:25:32.476589",
     "exception": false,
     "start_time": "2021-08-06T00:25:32.396329",
     "status": "completed"
    },
    "tags": []
   },
   "outputs": [],
   "source": [
    "model_prob = Model(layers[-2:]) "
   ]
  },
  {
   "cell_type": "code",
   "execution_count": 28,
   "id": "introductory-enforcement",
   "metadata": {
    "execution": {
     "iopub.execute_input": "2021-08-06T00:25:32.609591Z",
     "iopub.status.busy": "2021-08-06T00:25:32.608458Z",
     "iopub.status.idle": "2021-08-06T00:25:32.624289Z",
     "shell.execute_reply": "2021-08-06T00:25:32.624760Z"
    },
    "papermill": {
     "duration": 0.087686,
     "end_time": "2021-08-06T00:25:32.624914",
     "exception": false,
     "start_time": "2021-08-06T00:25:32.537228",
     "status": "completed"
    },
    "tags": []
   },
   "outputs": [],
   "source": [
    "# Adjust the x and y ranges according to the above generated plot.\n",
    "x_range = np.linspace(-4, 1, 100) \n",
    "y_range = np.linspace(-6, 6, 100) \n",
    "x_grid, y_grid = np.meshgrid(x_range, y_range) # x_grid and y_grig are of size 100 X 100\n",
    "\n",
    "# converting x_grid and y_grid to continuous arrays\n",
    "x_grid_flat = np.ravel(x_grid)\n",
    "y_grid_flat = np.ravel(y_grid)\n",
    "\n",
    "# The last layer of the current model takes two columns as input. Hence transpose of np.vstack() is required.\n",
    "X = np.vstack((x_grid_flat, y_grid_flat)).T\n",
    "\n",
    "# x_grid and y_grid are of size 100 x 100\n",
    "probability_contour = model_prob(X).reshape(100,100) "
   ]
  },
  {
   "cell_type": "code",
   "execution_count": 29,
   "id": "understood-landing",
   "metadata": {
    "execution": {
     "iopub.execute_input": "2021-08-06T00:25:32.757333Z",
     "iopub.status.busy": "2021-08-06T00:25:32.756588Z",
     "iopub.status.idle": "2021-08-06T00:25:33.075569Z",
     "shell.execute_reply": "2021-08-06T00:25:33.075005Z"
    },
    "papermill": {
     "duration": 0.38758,
     "end_time": "2021-08-06T00:25:33.075809",
     "exception": false,
     "start_time": "2021-08-06T00:25:32.688229",
     "status": "completed"
    },
    "tags": []
   },
   "outputs": [
    {
     "data": {
      "image/png": "[encoded data removed]",
      "text/plain": [
       "<Figure size 720x648 with 1 Axes>"
      ]
     },
     "metadata": {
      "needs_background": "light"
     },
     "output_type": "display_data"
    }
   ],
   "source": [
    "plt.figure(figsize=(10,9))\n",
    "plt.scatter(plot_testing[:,0], plot_testing[:,1], alpha = 0.1, c = y_test.ravel())\n",
    "contours = plt.contour(x_grid,y_grid,probability_contour)\n",
    "plt.title('Probability Contours')\n",
    "plt.clabel(contours, inline = True );"
   ]
  }
 ],
 "metadata": {
  "kernelspec": {
   "display_name": "Python 3",
   "language": "python",
   "name": "python3"
  },
  "language_info": {
   "codemirror_mode": {
    "name": "ipython",
    "version": 3
   },
   "file_extension": ".py",
   "mimetype": "text/x-python",
   "name": "python",
   "nbconvert_exporter": "python",
   "pygments_lexer": "ipython3",
   "version": "3.6.14"
  },
  "papermill": {
   "duration": 523.221778,
   "end_time": "2021-08-06T00:25:33.544768",
   "environment_variables": {},
   "exception": null,
   "input_path": "2020-08-11-NeuralNetwork.ipynb",
   "output_path": "2020-08-11-NeuralNetwork.ipynb",
   "parameters": {},
   "start_time": "2021-08-06T00:16:50.322990",
   "version": "2.1.2"
  }
 },
 "nbformat": 4,
 "nbformat_minor": 5
}