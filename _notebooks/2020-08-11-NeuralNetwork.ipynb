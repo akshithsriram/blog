{
 "cells": [
  {
   "cell_type": "markdown",
   "id": "fitted-suggestion",
   "metadata": {
    "papermill": {
     "duration": 0.043787,
     "end_time": "2021-08-17T20:05:28.339415",
     "exception": false,
     "start_time": "2021-08-17T20:05:28.295628",
     "status": "completed"
    },
    "tags": []
   },
   "source": [
    "# \"A Basic Neural Network: Differentiate Hand-Written Digits\"\n",
    "\n",
    "- badges: true\n",
    "- author: Akshith Sriram"
   ]
  },
  {
   "cell_type": "markdown",
   "id": "signal-flexibility",
   "metadata": {
    "papermill": {
     "duration": 0.034627,
     "end_time": "2021-08-17T20:05:28.409347",
     "exception": false,
     "start_time": "2021-08-17T20:05:28.374720",
     "status": "completed"
    },
    "tags": []
   },
   "source": [
    "### Key Objectives:\n",
    "- Building a neural network that differentiates two hand-written digits 3 and 8.\n",
    "- Comparing the results of this Neural Network (NN) to that of a Logistic Regression (LR) model.\n",
    "\n",
    "### Requirements:\n",
    "- 'Kudzu' : A neural network library that was designed during our course by [Univ.AI](www.univ.ai). \n",
    "- MNIST Database\n",
    "\n",
    "If MNIST is not installed, use the command `!pip install mnist` given below.\n",
    "It can be run both from the command line and Jupyter Notebook."
   ]
  },
  {
   "cell_type": "code",
   "execution_count": 1,
   "id": "british-texture",
   "metadata": {
    "execution": {
     "iopub.execute_input": "2021-08-17T20:05:28.491388Z",
     "iopub.status.busy": "2021-08-17T20:05:28.490620Z",
     "iopub.status.idle": "2021-08-17T20:05:30.643703Z",
     "shell.execute_reply": "2021-08-17T20:05:30.642157Z"
    },
    "papermill": {
     "duration": 2.201154,
     "end_time": "2021-08-17T20:05:30.643868",
     "exception": false,
     "start_time": "2021-08-17T20:05:28.442714",
     "status": "completed"
    },
    "tags": []
   },
   "outputs": [
    {
     "name": "stdout",
     "output_type": "stream",
     "text": [
      "Collecting mnist\r\n"
     ]
    },
    {
     "name": "stdout",
     "output_type": "stream",
     "text": [
      "  Downloading mnist-0.2.2-py2.py3-none-any.whl (3.5 kB)\r\n",
      "Requirement already satisfied: numpy in /opt/hostedtoolcache/Python/3.6.14/x64/lib/python3.6/site-packages (from mnist) (1.19.5)\r\n"
     ]
    },
    {
     "name": "stdout",
     "output_type": "stream",
     "text": [
      "Installing collected packages: mnist\r\n"
     ]
    },
    {
     "name": "stdout",
     "output_type": "stream",
     "text": [
      "Successfully installed mnist-0.2.2\r\n"
     ]
    },
    {
     "name": "stdout",
     "output_type": "stream",
     "text": [
      "\u001b[33mWARNING: You are using pip version 21.2.3; however, version 21.2.4 is available.\r\n",
      "You should consider upgrading via the '/opt/hostedtoolcache/Python/3.6.14/x64/bin/python -m pip install --upgrade pip' command.\u001b[0m\r\n"
     ]
    }
   ],
   "source": [
    "!pip install mnist "
   ]
  },
  {
   "cell_type": "markdown",
   "id": "stunning-extra",
   "metadata": {
    "papermill": {
     "duration": 0.037109,
     "end_time": "2021-08-17T20:05:30.727704",
     "exception": false,
     "start_time": "2021-08-17T20:05:30.690595",
     "status": "completed"
    },
    "tags": []
   },
   "source": [
    "#### Importing necessary libraries"
   ]
  },
  {
   "cell_type": "code",
   "execution_count": 2,
   "id": "wooden-france",
   "metadata": {
    "execution": {
     "iopub.execute_input": "2021-08-17T20:05:30.808996Z",
     "iopub.status.busy": "2021-08-17T20:05:30.808324Z",
     "iopub.status.idle": "2021-08-17T20:05:31.487414Z",
     "shell.execute_reply": "2021-08-17T20:05:31.487957Z"
    },
    "papermill": {
     "duration": 0.723473,
     "end_time": "2021-08-17T20:05:31.488165",
     "exception": false,
     "start_time": "2021-08-17T20:05:30.764692",
     "status": "completed"
    },
    "tags": []
   },
   "outputs": [],
   "source": [
    "%load_ext autoreload\n",
    "%autoreload 2\n",
    "\n",
    "%matplotlib inline\n",
    "import matplotlib.pyplot as plt\n",
    "\n",
    "import numpy as np\n",
    "import pandas as pd"
   ]
  },
  {
   "cell_type": "markdown",
   "id": "stunning-physics",
   "metadata": {
    "papermill": {
     "duration": 0.03674,
     "end_time": "2021-08-17T20:05:31.561727",
     "exception": false,
     "start_time": "2021-08-17T20:05:31.524987",
     "status": "completed"
    },
    "tags": []
   },
   "source": [
    "### Preparing the Data"
   ]
  },
  {
   "cell_type": "code",
   "execution_count": 3,
   "id": "unauthorized-remainder",
   "metadata": {
    "execution": {
     "iopub.execute_input": "2021-08-17T20:05:31.638906Z",
     "iopub.status.busy": "2021-08-17T20:05:31.638230Z",
     "iopub.status.idle": "2021-08-17T20:05:31.654636Z",
     "shell.execute_reply": "2021-08-17T20:05:31.655301Z"
    },
    "papermill": {
     "duration": 0.057078,
     "end_time": "2021-08-17T20:05:31.655479",
     "exception": false,
     "start_time": "2021-08-17T20:05:31.598401",
     "status": "completed"
    },
    "tags": []
   },
   "outputs": [],
   "source": [
    "import mnist"
   ]
  },
  {
   "cell_type": "code",
   "execution_count": 4,
   "id": "correct-antarctica",
   "metadata": {
    "execution": {
     "iopub.execute_input": "2021-08-17T20:05:31.742164Z",
     "iopub.status.busy": "2021-08-17T20:05:31.741400Z",
     "iopub.status.idle": "2021-08-17T20:10:03.342915Z",
     "shell.execute_reply": "2021-08-17T20:10:03.343512Z"
    },
    "papermill": {
     "duration": 271.647898,
     "end_time": "2021-08-17T20:10:03.343714",
     "exception": false,
     "start_time": "2021-08-17T20:05:31.695816",
     "status": "completed"
    },
    "tags": []
   },
   "outputs": [],
   "source": [
    "train_images = mnist.train_images()\n",
    "train_labels = mnist.train_labels()"
   ]
  },
  {
   "cell_type": "code",
   "execution_count": 5,
   "id": "musical-prospect",
   "metadata": {
    "execution": {
     "iopub.execute_input": "2021-08-17T20:10:03.432811Z",
     "iopub.status.busy": "2021-08-17T20:10:03.432105Z",
     "iopub.status.idle": "2021-08-17T20:10:03.448351Z",
     "shell.execute_reply": "2021-08-17T20:10:03.447723Z"
    },
    "papermill": {
     "duration": 0.060314,
     "end_time": "2021-08-17T20:10:03.448490",
     "exception": false,
     "start_time": "2021-08-17T20:10:03.388176",
     "status": "completed"
    },
    "tags": []
   },
   "outputs": [
    {
     "data": {
      "text/plain": [
       "((60000, 28, 28), (60000,))"
      ]
     },
     "execution_count": 5,
     "metadata": {},
     "output_type": "execute_result"
    }
   ],
   "source": [
    "train_images.shape, train_labels.shape"
   ]
  },
  {
   "cell_type": "code",
   "execution_count": 6,
   "id": "preliminary-elizabeth",
   "metadata": {
    "execution": {
     "iopub.execute_input": "2021-08-17T20:10:03.527459Z",
     "iopub.status.busy": "2021-08-17T20:10:03.526662Z",
     "iopub.status.idle": "2021-08-17T20:10:46.452673Z",
     "shell.execute_reply": "2021-08-17T20:10:46.452091Z"
    },
    "papermill": {
     "duration": 42.967234,
     "end_time": "2021-08-17T20:10:46.452822",
     "exception": false,
     "start_time": "2021-08-17T20:10:03.485588",
     "status": "completed"
    },
    "tags": []
   },
   "outputs": [],
   "source": [
    "test_images = mnist.test_images()\n",
    "test_labels = mnist.test_labels()"
   ]
  },
  {
   "cell_type": "code",
   "execution_count": 7,
   "id": "acknowledged-oxygen",
   "metadata": {
    "execution": {
     "iopub.execute_input": "2021-08-17T20:10:46.538717Z",
     "iopub.status.busy": "2021-08-17T20:10:46.538012Z",
     "iopub.status.idle": "2021-08-17T20:10:46.558174Z",
     "shell.execute_reply": "2021-08-17T20:10:46.557478Z"
    },
    "papermill": {
     "duration": 0.062381,
     "end_time": "2021-08-17T20:10:46.558339",
     "exception": false,
     "start_time": "2021-08-17T20:10:46.495958",
     "status": "completed"
    },
    "tags": []
   },
   "outputs": [
    {
     "data": {
      "text/plain": [
       "((10000, 28, 28), (10000,))"
      ]
     },
     "execution_count": 7,
     "metadata": {},
     "output_type": "execute_result"
    }
   ],
   "source": [
    "test_images.shape, test_labels.shape"
   ]
  },
  {
   "cell_type": "code",
   "execution_count": 8,
   "id": "innovative-organic",
   "metadata": {
    "execution": {
     "iopub.execute_input": "2021-08-17T20:10:46.639597Z",
     "iopub.status.busy": "2021-08-17T20:10:46.638635Z",
     "iopub.status.idle": "2021-08-17T20:10:46.852051Z",
     "shell.execute_reply": "2021-08-17T20:10:46.852718Z"
    },
    "papermill": {
     "duration": 0.257232,
     "end_time": "2021-08-17T20:10:46.852896",
     "exception": false,
     "start_time": "2021-08-17T20:10:46.595664",
     "status": "completed"
    },
    "tags": []
   },
   "outputs": [
    {
     "name": "stdout",
     "output_type": "stream",
     "text": [
      "2\n"
     ]
    },
    {
     "data": {
      "text/plain": [
       "<matplotlib.image.AxesImage at 0x7f48f19421d0>"
      ]
     },
     "execution_count": 8,
     "metadata": {},
     "output_type": "execute_result"
    },
    {
     "data": {
      "image/png": "[encoded data removed]",
      "text/plain": [
       "<Figure size 432x288 with 1 Axes>"
      ]
     },
     "metadata": {
      "needs_background": "light"
     },
     "output_type": "display_data"
    }
   ],
   "source": [
    "image_index = 7776 # You may select anything up to 60,000\n",
    "print(train_labels[image_index]) \n",
    "plt.imshow(train_images[image_index], cmap='Greys')"
   ]
  },
  {
   "cell_type": "markdown",
   "id": "facial-modem",
   "metadata": {
    "papermill": {
     "duration": 0.037845,
     "end_time": "2021-08-17T20:10:46.930307",
     "exception": false,
     "start_time": "2021-08-17T20:10:46.892462",
     "status": "completed"
    },
    "tags": []
   },
   "source": [
    "## Filter data to get 3 and 8 out"
   ]
  },
  {
   "cell_type": "code",
   "execution_count": 9,
   "id": "thousand-acquisition",
   "metadata": {
    "execution": {
     "iopub.execute_input": "2021-08-17T20:10:47.020823Z",
     "iopub.status.busy": "2021-08-17T20:10:47.020133Z",
     "iopub.status.idle": "2021-08-17T20:10:47.042460Z",
     "shell.execute_reply": "2021-08-17T20:10:47.041824Z"
    },
    "papermill": {
     "duration": 0.065964,
     "end_time": "2021-08-17T20:10:47.042627",
     "exception": false,
     "start_time": "2021-08-17T20:10:46.976663",
     "status": "completed"
    },
    "tags": []
   },
   "outputs": [],
   "source": [
    "train_filter = np.where((train_labels == 3 ) | (train_labels == 8))\n",
    "test_filter = np.where((test_labels == 3) | (test_labels == 8))\n",
    "X_train, y_train = train_images[train_filter], train_labels[train_filter]\n",
    "X_test, y_test = test_images[test_filter], test_labels[test_filter]"
   ]
  },
  {
   "cell_type": "markdown",
   "id": "ruled-access",
   "metadata": {
    "papermill": {
     "duration": 0.039112,
     "end_time": "2021-08-17T20:10:47.126919",
     "exception": false,
     "start_time": "2021-08-17T20:10:47.087807",
     "status": "completed"
    },
    "tags": []
   },
   "source": [
    "We normalize the pixel values in the 0 to 1 range"
   ]
  },
  {
   "cell_type": "code",
   "execution_count": 10,
   "id": "isolated-denver",
   "metadata": {
    "execution": {
     "iopub.execute_input": "2021-08-17T20:10:47.215293Z",
     "iopub.status.busy": "2021-08-17T20:10:47.214362Z",
     "iopub.status.idle": "2021-08-17T20:10:47.282429Z",
     "shell.execute_reply": "2021-08-17T20:10:47.281781Z"
    },
    "papermill": {
     "duration": 0.112969,
     "end_time": "2021-08-17T20:10:47.282637",
     "exception": false,
     "start_time": "2021-08-17T20:10:47.169668",
     "status": "completed"
    },
    "tags": []
   },
   "outputs": [],
   "source": [
    "X_train = X_train/255.\n",
    "X_test = X_test/255."
   ]
  },
  {
   "cell_type": "markdown",
   "id": "perfect-summary",
   "metadata": {
    "papermill": {
     "duration": 0.046473,
     "end_time": "2021-08-17T20:10:47.379949",
     "exception": false,
     "start_time": "2021-08-17T20:10:47.333476",
     "status": "completed"
    },
    "tags": []
   },
   "source": [
    "Setup the labels as 1 (when the digit is 3) and 0 (when the digit is 8)"
   ]
  },
  {
   "cell_type": "code",
   "execution_count": 11,
   "id": "personalized-growing",
   "metadata": {
    "execution": {
     "iopub.execute_input": "2021-08-17T20:10:47.464359Z",
     "iopub.status.busy": "2021-08-17T20:10:47.463650Z",
     "iopub.status.idle": "2021-08-17T20:10:47.480933Z",
     "shell.execute_reply": "2021-08-17T20:10:47.480174Z"
    },
    "papermill": {
     "duration": 0.062558,
     "end_time": "2021-08-17T20:10:47.481085",
     "exception": false,
     "start_time": "2021-08-17T20:10:47.418527",
     "status": "completed"
    },
    "tags": []
   },
   "outputs": [],
   "source": [
    "y_train = 1*(y_train==3)\n",
    "y_test = 1*(y_test==3)"
   ]
  },
  {
   "cell_type": "code",
   "execution_count": 12,
   "id": "considered-virgin",
   "metadata": {
    "execution": {
     "iopub.execute_input": "2021-08-17T20:10:47.562067Z",
     "iopub.status.busy": "2021-08-17T20:10:47.561400Z",
     "iopub.status.idle": "2021-08-17T20:10:47.577073Z",
     "shell.execute_reply": "2021-08-17T20:10:47.576504Z"
    },
    "papermill": {
     "duration": 0.05689,
     "end_time": "2021-08-17T20:10:47.577229",
     "exception": false,
     "start_time": "2021-08-17T20:10:47.520339",
     "status": "completed"
    },
    "tags": []
   },
   "outputs": [
    {
     "data": {
      "text/plain": [
       "((11982, 28, 28), (1984, 28, 28))"
      ]
     },
     "execution_count": 12,
     "metadata": {},
     "output_type": "execute_result"
    }
   ],
   "source": [
    "X_train.shape, X_test.shape"
   ]
  },
  {
   "cell_type": "markdown",
   "id": "civilian-mobile",
   "metadata": {
    "papermill": {
     "duration": 0.039473,
     "end_time": "2021-08-17T20:10:47.656658",
     "exception": false,
     "start_time": "2021-08-17T20:10:47.617185",
     "status": "completed"
    },
    "tags": []
   },
   "source": [
    "### Reshape the input data to create a linear array"
   ]
  },
  {
   "cell_type": "code",
   "execution_count": 13,
   "id": "colonial-adams",
   "metadata": {
    "execution": {
     "iopub.execute_input": "2021-08-17T20:10:47.739937Z",
     "iopub.status.busy": "2021-08-17T20:10:47.739258Z",
     "iopub.status.idle": "2021-08-17T20:10:47.757228Z",
     "shell.execute_reply": "2021-08-17T20:10:47.756604Z"
    },
    "papermill": {
     "duration": 0.06132,
     "end_time": "2021-08-17T20:10:47.757368",
     "exception": false,
     "start_time": "2021-08-17T20:10:47.696048",
     "status": "completed"
    },
    "tags": []
   },
   "outputs": [
    {
     "data": {
      "text/plain": [
       "((11982, 784), (1984, 784))"
      ]
     },
     "execution_count": 13,
     "metadata": {},
     "output_type": "execute_result"
    }
   ],
   "source": [
    "X_train = X_train.reshape(X_train.shape[0], -1)\n",
    "X_test = X_test.reshape(X_test.shape[0], -1)\n",
    "X_train.shape, X_test.shape"
   ]
  },
  {
   "cell_type": "markdown",
   "id": "smart-details",
   "metadata": {
    "papermill": {
     "duration": 0.039134,
     "end_time": "2021-08-17T20:10:47.836439",
     "exception": false,
     "start_time": "2021-08-17T20:10:47.797305",
     "status": "completed"
    },
    "tags": []
   },
   "source": [
    "### Importing appropriate functions from 'Kudzu'"
   ]
  },
  {
   "cell_type": "code",
   "execution_count": 14,
   "id": "celtic-trial",
   "metadata": {
    "execution": {
     "iopub.execute_input": "2021-08-17T20:10:47.925373Z",
     "iopub.status.busy": "2021-08-17T20:10:47.924600Z",
     "iopub.status.idle": "2021-08-17T20:10:47.951688Z",
     "shell.execute_reply": "2021-08-17T20:10:47.952386Z"
    },
    "papermill": {
     "duration": 0.077045,
     "end_time": "2021-08-17T20:10:47.952573",
     "exception": false,
     "start_time": "2021-08-17T20:10:47.875528",
     "status": "completed"
    },
    "tags": []
   },
   "outputs": [],
   "source": [
    "from kudzu.layer import Sigmoid\n",
    "from kudzu.layer import Relu\n",
    "from kudzu.layer import Affine, Sigmoid\n",
    "\n",
    "from kudzu.model import Model\n",
    "from kudzu.train import Learner\n",
    "from kudzu.optim import GD\n",
    "from kudzu.data import Data, Dataloader, Sampler\n",
    "\n",
    "from kudzu.callbacks import AccCallback\n",
    "from kudzu.callbacks import ClfCallback\n",
    "\n",
    "from kudzu.loss import MSE"
   ]
  },
  {
   "cell_type": "markdown",
   "id": "coupled-customer",
   "metadata": {
    "papermill": {
     "duration": 0.038579,
     "end_time": "2021-08-17T20:10:48.030545",
     "exception": false,
     "start_time": "2021-08-17T20:10:47.991966",
     "status": "completed"
    },
    "tags": []
   },
   "source": [
    "### Let us create a `Config` class, to store important parameters. \n",
    "This class essentially plays the role of a dictionary."
   ]
  },
  {
   "cell_type": "code",
   "execution_count": 15,
   "id": "young-ceiling",
   "metadata": {
    "execution": {
     "iopub.execute_input": "2021-08-17T20:10:48.123363Z",
     "iopub.status.busy": "2021-08-17T20:10:48.122653Z",
     "iopub.status.idle": "2021-08-17T20:10:48.137172Z",
     "shell.execute_reply": "2021-08-17T20:10:48.137713Z"
    },
    "papermill": {
     "duration": 0.063196,
     "end_time": "2021-08-17T20:10:48.137878",
     "exception": false,
     "start_time": "2021-08-17T20:10:48.074682",
     "status": "completed"
    },
    "tags": []
   },
   "outputs": [],
   "source": [
    "class Config:\n",
    "    pass\n",
    "config = Config()\n",
    "config.lr = 0.001\n",
    "config.num_epochs = 251\n",
    "config.bs = 50"
   ]
  },
  {
   "cell_type": "markdown",
   "id": "according-mandate",
   "metadata": {
    "papermill": {
     "duration": 0.041796,
     "end_time": "2021-08-17T20:10:48.228858",
     "exception": false,
     "start_time": "2021-08-17T20:10:48.187062",
     "status": "completed"
    },
    "tags": []
   },
   "source": [
    "### Initializing data to the variables"
   ]
  },
  {
   "cell_type": "code",
   "execution_count": 16,
   "id": "academic-disposition",
   "metadata": {
    "execution": {
     "iopub.execute_input": "2021-08-17T20:10:48.314852Z",
     "iopub.status.busy": "2021-08-17T20:10:48.314155Z",
     "iopub.status.idle": "2021-08-17T20:10:48.332285Z",
     "shell.execute_reply": "2021-08-17T20:10:48.331708Z"
    },
    "papermill": {
     "duration": 0.063094,
     "end_time": "2021-08-17T20:10:48.332434",
     "exception": false,
     "start_time": "2021-08-17T20:10:48.269340",
     "status": "completed"
    },
    "tags": []
   },
   "outputs": [],
   "source": [
    "data = Data(X_train, y_train.reshape(-1,1))\n",
    "sampler = Sampler(data, config.bs, shuffle=True)\n",
    "\n",
    "dl = Dataloader(data, sampler)\n",
    "\n",
    "opt = GD(config.lr)\n",
    "loss = MSE()"
   ]
  },
  {
   "cell_type": "code",
   "execution_count": 17,
   "id": "featured-commission",
   "metadata": {
    "execution": {
     "iopub.execute_input": "2021-08-17T20:10:48.420704Z",
     "iopub.status.busy": "2021-08-17T20:10:48.416433Z",
     "iopub.status.idle": "2021-08-17T20:10:48.437476Z",
     "shell.execute_reply": "2021-08-17T20:10:48.436731Z"
    },
    "papermill": {
     "duration": 0.065504,
     "end_time": "2021-08-17T20:10:48.437647",
     "exception": false,
     "start_time": "2021-08-17T20:10:48.372143",
     "status": "completed"
    },
    "tags": []
   },
   "outputs": [],
   "source": [
    "training_xdata = X_train\n",
    "testing_xdata = X_test\n",
    "training_ydata = y_train.reshape(-1,1)\n",
    "testing_ydata = y_test.reshape(-1,1)"
   ]
  },
  {
   "cell_type": "markdown",
   "id": "played-safety",
   "metadata": {
    "papermill": {
     "duration": 0.042561,
     "end_time": "2021-08-17T20:10:48.529730",
     "exception": false,
     "start_time": "2021-08-17T20:10:48.487169",
     "status": "completed"
    },
    "tags": []
   },
   "source": [
    "### Running Models with the Training data\n",
    "Details about the network layers:\n",
    "- A first affine layer has 784 inputs and does 100 affine transforms. These are followed by a Relu\n",
    "- A second affine layer has 100 inputs from the 100 activations of the past layer, and does 100 affine transforms. These are followed by a Relu\n",
    "- A third affine layer has 100 activations and does 2 affine transformations to create an embedding for visualization. There is no non-linearity here.\n",
    "- A final \"logistic regression\" which has an affine transform from 2 inputs to 1 output, which is squeezed through a sigmoid.\n",
    "\n",
    "Help taken from Anshuman's Notebook."
   ]
  },
  {
   "cell_type": "code",
   "execution_count": 18,
   "id": "asian-bankruptcy",
   "metadata": {
    "execution": {
     "iopub.execute_input": "2021-08-17T20:10:48.626435Z",
     "iopub.status.busy": "2021-08-17T20:10:48.625703Z",
     "iopub.status.idle": "2021-08-17T20:10:48.646679Z",
     "shell.execute_reply": "2021-08-17T20:10:48.647300Z"
    },
    "papermill": {
     "duration": 0.069253,
     "end_time": "2021-08-17T20:10:48.647476",
     "exception": false,
     "start_time": "2021-08-17T20:10:48.578223",
     "status": "completed"
    },
    "tags": []
   },
   "outputs": [],
   "source": [
    "# layers for the Neural Network\n",
    "layers = [Affine(\"first\", 784, 100), Relu(\"first\"), Affine(\"second\", 100, 100), Relu(\"second\"), Affine(\"third\", 100, 2), Affine(\"final\", 2, 1), Sigmoid(\"final\")]\n",
    "model_nn = Model(layers)\n",
    "\n",
    "# layers for the Logistic Regression\n",
    "layers_lr = [Affine(\"logits\", 784, 1), Sigmoid(\"sigmoid\")]\n",
    "model_lr = Model(layers_lr)"
   ]
  },
  {
   "cell_type": "code",
   "execution_count": 19,
   "id": "removed-butler",
   "metadata": {
    "execution": {
     "iopub.execute_input": "2021-08-17T20:10:48.734319Z",
     "iopub.status.busy": "2021-08-17T20:10:48.733460Z",
     "iopub.status.idle": "2021-08-17T20:10:48.751995Z",
     "shell.execute_reply": "2021-08-17T20:10:48.752584Z"
    },
    "papermill": {
     "duration": 0.065789,
     "end_time": "2021-08-17T20:10:48.752761",
     "exception": false,
     "start_time": "2021-08-17T20:10:48.686972",
     "status": "completed"
    },
    "tags": []
   },
   "outputs": [],
   "source": [
    "# suffix _nn stands for Neural Network.\n",
    "learner_nn = Learner(loss, model_nn, opt, config.num_epochs)\n",
    "acc_nn = ClfCallback(learner_nn, config.bs, training_xdata , testing_xdata, training_ydata, testing_ydata)\n",
    "learner_nn.set_callbacks([acc_nn])"
   ]
  },
  {
   "cell_type": "code",
   "execution_count": 20,
   "id": "conceptual-throw",
   "metadata": {
    "execution": {
     "iopub.execute_input": "2021-08-17T20:10:48.835718Z",
     "iopub.status.busy": "2021-08-17T20:10:48.834998Z",
     "iopub.status.idle": "2021-08-17T20:13:16.439422Z",
     "shell.execute_reply": "2021-08-17T20:13:16.440409Z"
    },
    "papermill": {
     "duration": 147.64875,
     "end_time": "2021-08-17T20:13:16.440586",
     "exception": false,
     "start_time": "2021-08-17T20:10:48.791836",
     "status": "completed"
    },
    "tags": []
   },
   "outputs": [
    {
     "name": "stdout",
     "output_type": "stream",
     "text": [
      "====== Neural Network ======\n"
     ]
    },
    {
     "name": "stdout",
     "output_type": "stream",
     "text": [
      "Epoch 0, Loss 0.2339\n",
      "Training Accuracy: 0.7624, Testing Accuracy: 0.7843\n",
      "\n"
     ]
    },
    {
     "name": "stdout",
     "output_type": "stream",
     "text": [
      "Epoch 10, Loss 0.0597\n",
      "Training Accuracy: 0.9384, Testing Accuracy: 0.9526\n",
      "\n"
     ]
    },
    {
     "name": "stdout",
     "output_type": "stream",
     "text": [
      "Epoch 20, Loss 0.0419\n",
      "Training Accuracy: 0.9558, Testing Accuracy: 0.9703\n",
      "\n"
     ]
    },
    {
     "name": "stdout",
     "output_type": "stream",
     "text": [
      "Epoch 30, Loss 0.0348\n",
      "Training Accuracy: 0.9613, Testing Accuracy: 0.9718\n",
      "\n"
     ]
    },
    {
     "name": "stdout",
     "output_type": "stream",
     "text": [
      "Epoch 40, Loss 0.0308\n",
      "Training Accuracy: 0.9656, Testing Accuracy: 0.9738\n",
      "\n"
     ]
    },
    {
     "name": "stdout",
     "output_type": "stream",
     "text": [
      "Epoch 50, Loss 0.0282\n",
      "Training Accuracy: 0.9686, Testing Accuracy: 0.9748\n",
      "\n"
     ]
    },
    {
     "name": "stdout",
     "output_type": "stream",
     "text": [
      "Epoch 60, Loss 0.0263\n",
      "Training Accuracy: 0.9699, Testing Accuracy: 0.9763\n",
      "\n"
     ]
    },
    {
     "name": "stdout",
     "output_type": "stream",
     "text": [
      "Epoch 70, Loss 0.0248\n",
      "Training Accuracy: 0.9709, Testing Accuracy: 0.9773\n",
      "\n"
     ]
    },
    {
     "name": "stdout",
     "output_type": "stream",
     "text": [
      "Epoch 80, Loss 0.0236\n",
      "Training Accuracy: 0.9729, Testing Accuracy: 0.9768\n",
      "\n"
     ]
    },
    {
     "name": "stdout",
     "output_type": "stream",
     "text": [
      "Epoch 90, Loss 0.0224\n",
      "Training Accuracy: 0.9746, Testing Accuracy: 0.9758\n",
      "\n"
     ]
    },
    {
     "name": "stdout",
     "output_type": "stream",
     "text": [
      "Epoch 100, Loss 0.0215\n",
      "Training Accuracy: 0.9757, Testing Accuracy: 0.9748\n",
      "\n"
     ]
    },
    {
     "name": "stdout",
     "output_type": "stream",
     "text": [
      "Epoch 110, Loss 0.0206\n",
      "Training Accuracy: 0.9768, Testing Accuracy: 0.9758\n",
      "\n"
     ]
    },
    {
     "name": "stdout",
     "output_type": "stream",
     "text": [
      "Epoch 120, Loss 0.0198\n",
      "Training Accuracy: 0.9781, Testing Accuracy: 0.9763\n",
      "\n"
     ]
    },
    {
     "name": "stdout",
     "output_type": "stream",
     "text": [
      "Epoch 130, Loss 0.0191\n",
      "Training Accuracy: 0.9789, Testing Accuracy: 0.9773\n",
      "\n"
     ]
    },
    {
     "name": "stdout",
     "output_type": "stream",
     "text": [
      "Epoch 140, Loss 0.0184\n",
      "Training Accuracy: 0.9795, Testing Accuracy: 0.9778\n",
      "\n"
     ]
    },
    {
     "name": "stdout",
     "output_type": "stream",
     "text": [
      "Epoch 150, Loss 0.0177\n",
      "Training Accuracy: 0.9805, Testing Accuracy: 0.9783\n",
      "\n"
     ]
    },
    {
     "name": "stdout",
     "output_type": "stream",
     "text": [
      "Epoch 160, Loss 0.0171\n",
      "Training Accuracy: 0.9815, Testing Accuracy: 0.9803\n",
      "\n"
     ]
    },
    {
     "name": "stdout",
     "output_type": "stream",
     "text": [
      "Epoch 170, Loss 0.0165\n",
      "Training Accuracy: 0.9821, Testing Accuracy: 0.9808\n",
      "\n"
     ]
    },
    {
     "name": "stdout",
     "output_type": "stream",
     "text": [
      "Epoch 180, Loss 0.016\n",
      "Training Accuracy: 0.9827, Testing Accuracy: 0.9819\n",
      "\n"
     ]
    },
    {
     "name": "stdout",
     "output_type": "stream",
     "text": [
      "Epoch 190, Loss 0.0155\n",
      "Training Accuracy: 0.9831, Testing Accuracy: 0.9814\n",
      "\n"
     ]
    },
    {
     "name": "stdout",
     "output_type": "stream",
     "text": [
      "Epoch 200, Loss 0.015\n",
      "Training Accuracy: 0.9840, Testing Accuracy: 0.9814\n",
      "\n"
     ]
    },
    {
     "name": "stdout",
     "output_type": "stream",
     "text": [
      "Epoch 210, Loss 0.0146\n",
      "Training Accuracy: 0.9846, Testing Accuracy: 0.9814\n",
      "\n"
     ]
    },
    {
     "name": "stdout",
     "output_type": "stream",
     "text": [
      "Epoch 220, Loss 0.0141\n",
      "Training Accuracy: 0.9856, Testing Accuracy: 0.9819\n",
      "\n"
     ]
    },
    {
     "name": "stdout",
     "output_type": "stream",
     "text": [
      "Epoch 230, Loss 0.0137\n",
      "Training Accuracy: 0.9858, Testing Accuracy: 0.9829\n",
      "\n"
     ]
    },
    {
     "name": "stdout",
     "output_type": "stream",
     "text": [
      "Epoch 240, Loss 0.0133\n",
      "Training Accuracy: 0.9865, Testing Accuracy: 0.9834\n",
      "\n"
     ]
    },
    {
     "name": "stdout",
     "output_type": "stream",
     "text": [
      "Epoch 250, Loss 0.0129\n",
      "Training Accuracy: 0.9873, Testing Accuracy: 0.9834\n",
      "\n"
     ]
    },
    {
     "data": {
      "text/plain": [
       "0.0359398719022344"
      ]
     },
     "execution_count": 20,
     "metadata": {},
     "output_type": "execute_result"
    }
   ],
   "source": [
    "print(\"====== Neural Network ======\")\n",
    "learner_nn.train_loop(dl)"
   ]
  },
  {
   "cell_type": "markdown",
   "id": "competent-suffering",
   "metadata": {
    "papermill": {
     "duration": 0.047929,
     "end_time": "2021-08-17T20:13:16.535782",
     "exception": false,
     "start_time": "2021-08-17T20:13:16.487853",
     "status": "completed"
    },
    "tags": []
   },
   "source": [
    "### Logistic Regression based Implementation."
   ]
  },
  {
   "cell_type": "code",
   "execution_count": 21,
   "id": "qualified-psychiatry",
   "metadata": {
    "execution": {
     "iopub.execute_input": "2021-08-17T20:13:16.644631Z",
     "iopub.status.busy": "2021-08-17T20:13:16.643943Z",
     "iopub.status.idle": "2021-08-17T20:13:16.651001Z",
     "shell.execute_reply": "2021-08-17T20:13:16.650448Z"
    },
    "papermill": {
     "duration": 0.068451,
     "end_time": "2021-08-17T20:13:16.651173",
     "exception": false,
     "start_time": "2021-08-17T20:13:16.582722",
     "status": "completed"
    },
    "tags": []
   },
   "outputs": [],
   "source": [
    "learner_lr = Learner(loss, model_lr, opt, config.num_epochs)\n",
    "acc_lr = ClfCallback(learner_lr, config.bs, training_xdata , testing_xdata, training_ydata, testing_ydata)\n",
    "learner_lr.set_callbacks([acc_lr])"
   ]
  },
  {
   "cell_type": "code",
   "execution_count": 22,
   "id": "average-outside",
   "metadata": {
    "execution": {
     "iopub.execute_input": "2021-08-17T20:13:16.752138Z",
     "iopub.status.busy": "2021-08-17T20:13:16.751445Z",
     "iopub.status.idle": "2021-08-17T20:13:38.177898Z",
     "shell.execute_reply": "2021-08-17T20:13:38.178525Z"
    },
    "papermill": {
     "duration": 21.478764,
     "end_time": "2021-08-17T20:13:38.178733",
     "exception": false,
     "start_time": "2021-08-17T20:13:16.699969",
     "status": "completed"
    },
    "tags": []
   },
   "outputs": [
    {
     "name": "stdout",
     "output_type": "stream",
     "text": [
      "====== Logistic Regression ======\n",
      "Epoch 0, Loss 0.2454\n",
      "Training Accuracy: 0.6536, Testing Accuracy: 0.6240\n",
      "\n"
     ]
    },
    {
     "name": "stdout",
     "output_type": "stream",
     "text": [
      "Epoch 10, Loss 0.1043\n",
      "Training Accuracy: 0.9075, Testing Accuracy: 0.9153\n",
      "\n"
     ]
    },
    {
     "name": "stdout",
     "output_type": "stream",
     "text": [
      "Epoch 20, Loss 0.0796\n",
      "Training Accuracy: 0.9271, Testing Accuracy: 0.9395\n",
      "\n"
     ]
    },
    {
     "name": "stdout",
     "output_type": "stream",
     "text": [
      "Epoch 30, Loss 0.0684\n",
      "Training Accuracy: 0.9345, Testing Accuracy: 0.9476\n",
      "\n"
     ]
    },
    {
     "name": "stdout",
     "output_type": "stream",
     "text": [
      "Epoch 40, Loss 0.0618\n",
      "Training Accuracy: 0.9414, Testing Accuracy: 0.9531\n",
      "\n"
     ]
    },
    {
     "name": "stdout",
     "output_type": "stream",
     "text": [
      "Epoch 50, Loss 0.0572\n",
      "Training Accuracy: 0.9451, Testing Accuracy: 0.9551\n",
      "\n"
     ]
    },
    {
     "name": "stdout",
     "output_type": "stream",
     "text": [
      "Epoch 60, Loss 0.0539\n",
      "Training Accuracy: 0.9475, Testing Accuracy: 0.9587\n",
      "\n"
     ]
    },
    {
     "name": "stdout",
     "output_type": "stream",
     "text": [
      "Epoch 70, Loss 0.0513\n",
      "Training Accuracy: 0.9493, Testing Accuracy: 0.9597\n",
      "\n"
     ]
    },
    {
     "name": "stdout",
     "output_type": "stream",
     "text": [
      "Epoch 80, Loss 0.0493\n",
      "Training Accuracy: 0.9507, Testing Accuracy: 0.9617\n",
      "\n"
     ]
    },
    {
     "name": "stdout",
     "output_type": "stream",
     "text": [
      "Epoch 90, Loss 0.0476\n",
      "Training Accuracy: 0.9517, Testing Accuracy: 0.9617\n",
      "\n"
     ]
    },
    {
     "name": "stdout",
     "output_type": "stream",
     "text": [
      "Epoch 100, Loss 0.0461\n",
      "Training Accuracy: 0.9531, Testing Accuracy: 0.9622\n",
      "\n"
     ]
    },
    {
     "name": "stdout",
     "output_type": "stream",
     "text": [
      "Epoch 110, Loss 0.0449\n",
      "Training Accuracy: 0.9540, Testing Accuracy: 0.9627\n",
      "\n"
     ]
    },
    {
     "name": "stdout",
     "output_type": "stream",
     "text": [
      "Epoch 120, Loss 0.0438\n",
      "Training Accuracy: 0.9555, Testing Accuracy: 0.9637\n",
      "\n"
     ]
    },
    {
     "name": "stdout",
     "output_type": "stream",
     "text": [
      "Epoch 130, Loss 0.0429\n",
      "Training Accuracy: 0.9561, Testing Accuracy: 0.9647\n",
      "\n"
     ]
    },
    {
     "name": "stdout",
     "output_type": "stream",
     "text": [
      "Epoch 140, Loss 0.0421\n",
      "Training Accuracy: 0.9563, Testing Accuracy: 0.9647\n",
      "\n"
     ]
    },
    {
     "name": "stdout",
     "output_type": "stream",
     "text": [
      "Epoch 150, Loss 0.0413\n",
      "Training Accuracy: 0.9570, Testing Accuracy: 0.9647\n",
      "\n"
     ]
    },
    {
     "name": "stdout",
     "output_type": "stream",
     "text": [
      "Epoch 160, Loss 0.0406\n",
      "Training Accuracy: 0.9575, Testing Accuracy: 0.9642\n",
      "\n"
     ]
    },
    {
     "name": "stdout",
     "output_type": "stream",
     "text": [
      "Epoch 170, Loss 0.04\n",
      "Training Accuracy: 0.9578, Testing Accuracy: 0.9647\n",
      "\n"
     ]
    },
    {
     "name": "stdout",
     "output_type": "stream",
     "text": [
      "Epoch 180, Loss 0.0395\n",
      "Training Accuracy: 0.9585, Testing Accuracy: 0.9652\n",
      "\n"
     ]
    },
    {
     "name": "stdout",
     "output_type": "stream",
     "text": [
      "Epoch 190, Loss 0.0389\n",
      "Training Accuracy: 0.9591, Testing Accuracy: 0.9652\n",
      "\n"
     ]
    },
    {
     "name": "stdout",
     "output_type": "stream",
     "text": [
      "Epoch 200, Loss 0.0385\n",
      "Training Accuracy: 0.9597, Testing Accuracy: 0.9652\n",
      "\n"
     ]
    },
    {
     "name": "stdout",
     "output_type": "stream",
     "text": [
      "Epoch 210, Loss 0.038\n",
      "Training Accuracy: 0.9599, Testing Accuracy: 0.9647\n",
      "\n"
     ]
    },
    {
     "name": "stdout",
     "output_type": "stream",
     "text": [
      "Epoch 220, Loss 0.0376\n",
      "Training Accuracy: 0.9602, Testing Accuracy: 0.9652\n",
      "\n"
     ]
    },
    {
     "name": "stdout",
     "output_type": "stream",
     "text": [
      "Epoch 230, Loss 0.0372\n",
      "Training Accuracy: 0.9601, Testing Accuracy: 0.9652\n",
      "\n"
     ]
    },
    {
     "name": "stdout",
     "output_type": "stream",
     "text": [
      "Epoch 240, Loss 0.0369\n",
      "Training Accuracy: 0.9608, Testing Accuracy: 0.9652\n",
      "\n"
     ]
    },
    {
     "name": "stdout",
     "output_type": "stream",
     "text": [
      "Epoch 250, Loss 0.0365\n",
      "Training Accuracy: 0.9609, Testing Accuracy: 0.9652\n",
      "\n"
     ]
    },
    {
     "data": {
      "text/plain": [
       "0.028012402576171977"
      ]
     },
     "execution_count": 22,
     "metadata": {},
     "output_type": "execute_result"
    }
   ],
   "source": [
    "print(\"====== Logistic Regression ======\")\n",
    "learner_lr.train_loop(dl)"
   ]
  },
  {
   "cell_type": "markdown",
   "id": "adjusted-possible",
   "metadata": {
    "papermill": {
     "duration": 0.056618,
     "end_time": "2021-08-17T20:13:38.301868",
     "exception": false,
     "start_time": "2021-08-17T20:13:38.245250",
     "status": "completed"
    },
    "tags": []
   },
   "source": [
    "### Comparing results of NN and LR"
   ]
  },
  {
   "cell_type": "code",
   "execution_count": 23,
   "id": "mental-multimedia",
   "metadata": {
    "execution": {
     "iopub.execute_input": "2021-08-17T20:13:38.432681Z",
     "iopub.status.busy": "2021-08-17T20:13:38.431943Z",
     "iopub.status.idle": "2021-08-17T20:13:38.780684Z",
     "shell.execute_reply": "2021-08-17T20:13:38.781223Z"
    },
    "papermill": {
     "duration": 0.420553,
     "end_time": "2021-08-17T20:13:38.781430",
     "exception": false,
     "start_time": "2021-08-17T20:13:38.360877",
     "status": "completed"
    },
    "tags": []
   },
   "outputs": [
    {
     "data": {
      "text/plain": [
       "<matplotlib.legend.Legend at 0x7f48e95200f0>"
      ]
     },
     "execution_count": 23,
     "metadata": {},
     "output_type": "execute_result"
    },
    {
     "data": {
      "image/png": "[encoded data removed]",
      "text/plain": [
       "<Figure size 1080x720 with 1 Axes>"
      ]
     },
     "metadata": {
      "needs_background": "light"
     },
     "output_type": "display_data"
    }
   ],
   "source": [
    "plt.figure(figsize=(15,10))\n",
    "\n",
    "# Neural Network plots\n",
    "plt.plot(acc_nn.accuracies, 'r-', label = \"Training Accuracies - NN\")\n",
    "plt.plot(acc_nn.test_accuracies, 'g-', label = \"Testing Accuracies - NN\")\n",
    "\n",
    "# Logistic Regression plots\n",
    "plt.plot(acc_lr.accuracies, 'k-', label = \"Training Accuracies - LR\")\n",
    "plt.plot(acc_lr.test_accuracies, 'b-', label = \"Testing Accuracies - LR\")\n",
    "\n",
    "plt.ylim(0.8, 1)\n",
    "\n",
    "plt.legend()\n",
    "\n"
   ]
  },
  {
   "cell_type": "markdown",
   "id": "sexual-flesh",
   "metadata": {
    "papermill": {
     "duration": 0.059041,
     "end_time": "2021-08-17T20:13:38.900651",
     "exception": false,
     "start_time": "2021-08-17T20:13:38.841610",
     "status": "completed"
    },
    "tags": []
   },
   "source": [
    "### From the plot, we can observe the following:\n",
    "- Neural Network achieves higher accuracy than the Logistic Regression model.\n",
    "- This apparently, is because of overfitting, i.e. NN captures more noise than data.\n",
    "- Testing accuracy of NN drops below the Training accuracy at higher epochs. This explains the over-fitting on training data.\n",
    "- Logistic Regression gives a reliable accuracy, without the above mentioned problem.\n"
   ]
  },
  {
   "cell_type": "markdown",
   "id": "institutional-pacific",
   "metadata": {
    "papermill": {
     "duration": 0.084318,
     "end_time": "2021-08-17T20:13:39.044883",
     "exception": false,
     "start_time": "2021-08-17T20:13:38.960565",
     "status": "completed"
    },
    "tags": []
   },
   "source": [
    "### Moving till the last but one layer (excluding it).\n",
    "#### Plotting the outputs of this layer of the NN."
   ]
  },
  {
   "cell_type": "code",
   "execution_count": 24,
   "id": "economic-server",
   "metadata": {
    "execution": {
     "iopub.execute_input": "2021-08-17T20:13:39.184788Z",
     "iopub.status.busy": "2021-08-17T20:13:39.181166Z",
     "iopub.status.idle": "2021-08-17T20:13:39.195785Z",
     "shell.execute_reply": "2021-08-17T20:13:39.196322Z"
    },
    "papermill": {
     "duration": 0.084556,
     "end_time": "2021-08-17T20:13:39.196476",
     "exception": false,
     "start_time": "2021-08-17T20:13:39.111920",
     "status": "completed"
    },
    "tags": []
   },
   "outputs": [],
   "source": [
    "model_new = Model(layers[:-2])"
   ]
  },
  {
   "cell_type": "code",
   "execution_count": 25,
   "id": "varied-upgrade",
   "metadata": {
    "execution": {
     "iopub.execute_input": "2021-08-17T20:13:39.322126Z",
     "iopub.status.busy": "2021-08-17T20:13:39.318512Z",
     "iopub.status.idle": "2021-08-17T20:13:39.355594Z",
     "shell.execute_reply": "2021-08-17T20:13:39.356285Z"
    },
    "papermill": {
     "duration": 0.099446,
     "end_time": "2021-08-17T20:13:39.356488",
     "exception": false,
     "start_time": "2021-08-17T20:13:39.257042",
     "status": "completed"
    },
    "tags": []
   },
   "outputs": [],
   "source": [
    "plot_testing = model_new(testing_xdata)"
   ]
  },
  {
   "cell_type": "code",
   "execution_count": 26,
   "id": "specific-handling",
   "metadata": {
    "execution": {
     "iopub.execute_input": "2021-08-17T20:13:39.487361Z",
     "iopub.status.busy": "2021-08-17T20:13:39.486520Z",
     "iopub.status.idle": "2021-08-17T20:13:39.740335Z",
     "shell.execute_reply": "2021-08-17T20:13:39.739757Z"
    },
    "papermill": {
     "duration": 0.322225,
     "end_time": "2021-08-17T20:13:39.740503",
     "exception": false,
     "start_time": "2021-08-17T20:13:39.418278",
     "status": "completed"
    },
    "tags": []
   },
   "outputs": [
    {
     "data": {
      "text/plain": [
       "Text(0.5, 1.0, 'Outputs')"
      ]
     },
     "execution_count": 26,
     "metadata": {},
     "output_type": "execute_result"
    },
    {
     "data": {
      "image/png": "[encoded data removed]",
      "text/plain": [
       "<Figure size 576x504 with 1 Axes>"
      ]
     },
     "metadata": {
      "needs_background": "light"
     },
     "output_type": "display_data"
    }
   ],
   "source": [
    "plt.figure(figsize=(8,7))\n",
    "plt.scatter(plot_testing[:,0], plot_testing[:,1], alpha = 0.1, c = y_test.ravel());\n",
    "plt.title('Outputs')"
   ]
  },
  {
   "cell_type": "markdown",
   "id": "described-knowing",
   "metadata": {
    "papermill": {
     "duration": 0.066082,
     "end_time": "2021-08-17T20:13:39.870568",
     "exception": false,
     "start_time": "2021-08-17T20:13:39.804486",
     "status": "completed"
    },
    "tags": []
   },
   "source": [
    "### Plotting probability contours"
   ]
  },
  {
   "cell_type": "code",
   "execution_count": 27,
   "id": "needed-growing",
   "metadata": {
    "execution": {
     "iopub.execute_input": "2021-08-17T20:13:39.995538Z",
     "iopub.status.busy": "2021-08-17T20:13:39.994823Z",
     "iopub.status.idle": "2021-08-17T20:13:40.008727Z",
     "shell.execute_reply": "2021-08-17T20:13:40.008034Z"
    },
    "papermill": {
     "duration": 0.079122,
     "end_time": "2021-08-17T20:13:40.008862",
     "exception": false,
     "start_time": "2021-08-17T20:13:39.929740",
     "status": "completed"
    },
    "tags": []
   },
   "outputs": [],
   "source": [
    "model_prob = Model(layers[-2:]) "
   ]
  },
  {
   "cell_type": "code",
   "execution_count": 28,
   "id": "introductory-enforcement",
   "metadata": {
    "execution": {
     "iopub.execute_input": "2021-08-17T20:13:40.137433Z",
     "iopub.status.busy": "2021-08-17T20:13:40.136698Z",
     "iopub.status.idle": "2021-08-17T20:13:40.152664Z",
     "shell.execute_reply": "2021-08-17T20:13:40.153167Z"
    },
    "papermill": {
     "duration": 0.082791,
     "end_time": "2021-08-17T20:13:40.153318",
     "exception": false,
     "start_time": "2021-08-17T20:13:40.070527",
     "status": "completed"
    },
    "tags": []
   },
   "outputs": [],
   "source": [
    "# Adjust the x and y ranges according to the above generated plot.\n",
    "x_range = np.linspace(-4, 1, 100) \n",
    "y_range = np.linspace(-6, 6, 100) \n",
    "x_grid, y_grid = np.meshgrid(x_range, y_range) # x_grid and y_grig are of size 100 X 100\n",
    "\n",
    "# converting x_grid and y_grid to continuous arrays\n",
    "x_grid_flat = np.ravel(x_grid)\n",
    "y_grid_flat = np.ravel(y_grid)\n",
    "\n",
    "# The last layer of the current model takes two columns as input. Hence transpose of np.vstack() is required.\n",
    "X = np.vstack((x_grid_flat, y_grid_flat)).T\n",
    "\n",
    "# x_grid and y_grid are of size 100 x 100\n",
    "probability_contour = model_prob(X).reshape(100,100) "
   ]
  },
  {
   "cell_type": "code",
   "execution_count": 29,
   "id": "understood-landing",
   "metadata": {
    "execution": {
     "iopub.execute_input": "2021-08-17T20:13:40.296291Z",
     "iopub.status.busy": "2021-08-17T20:13:40.295600Z",
     "iopub.status.idle": "2021-08-17T20:13:40.621982Z",
     "shell.execute_reply": "2021-08-17T20:13:40.621423Z"
    },
    "papermill": {
     "duration": 0.39931,
     "end_time": "2021-08-17T20:13:40.622125",
     "exception": false,
     "start_time": "2021-08-17T20:13:40.222815",
     "status": "completed"
    },
    "tags": []
   },
   "outputs": [
    {
     "data": {
      "image/png": "[encoded data removed]",
      "text/plain": [
       "<Figure size 720x648 with 1 Axes>"
      ]
     },
     "metadata": {
      "needs_background": "light"
     },
     "output_type": "display_data"
    }
   ],
   "source": [
    "plt.figure(figsize=(10,9))\n",
    "plt.scatter(plot_testing[:,0], plot_testing[:,1], alpha = 0.1, c = y_test.ravel())\n",
    "contours = plt.contour(x_grid,y_grid,probability_contour)\n",
    "plt.title('Probability Contours')\n",
    "plt.clabel(contours, inline = True );"
   ]
  }
 ],
 "metadata": {
  "kernelspec": {
   "display_name": "Python 3",
   "language": "python",
   "name": "python3"
  },
  "language_info": {
   "codemirror_mode": {
    "name": "ipython",
    "version": 3
   },
   "file_extension": ".py",
   "mimetype": "text/x-python",
   "name": "python",
   "nbconvert_exporter": "python",
   "pygments_lexer": "ipython3",
   "version": "3.6.14"
  },
  "papermill": {
   "duration": 493.975146,
   "end_time": "2021-08-17T20:13:41.095808",
   "environment_variables": {},
   "exception": null,
   "input_path": "2020-08-11-NeuralNetwork.ipynb",
   "output_path": "2020-08-11-NeuralNetwork.ipynb",
   "parameters": {},
   "start_time": "2021-08-17T20:05:27.120662",
   "version": "2.1.2"
  }
 },
 "nbformat": 4,
 "nbformat_minor": 5
}