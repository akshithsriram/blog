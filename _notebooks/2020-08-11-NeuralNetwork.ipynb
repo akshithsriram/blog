{
 "cells": [
  {
   "cell_type": "markdown",
   "metadata": {
    "papermill": {
     "duration": 0.030911,
     "end_time": "2020-10-25T00:07:19.146646",
     "exception": false,
     "start_time": "2020-10-25T00:07:19.115735",
     "status": "completed"
    },
    "tags": []
   },
   "source": [
    "# \"A Basic Neural Network: Differentiate Hand-Written Digits\"\n",
    "\n",
    "- badges: true\n",
    "- author: Akshith Sriram"
   ]
  },
  {
   "cell_type": "markdown",
   "metadata": {
    "papermill": {
     "duration": 0.047602,
     "end_time": "2020-10-25T00:07:19.240380",
     "exception": false,
     "start_time": "2020-10-25T00:07:19.192778",
     "status": "completed"
    },
    "tags": []
   },
   "source": [
    "### Key Objectives:\n",
    "- Building a neural network that differentiates two hand-written digits 3 and 8.\n",
    "- Comparing the results of this Neural Network (NN) to that of a Logistic Regression (LR) model.\n",
    "\n",
    "### Requirements:\n",
    "- 'Kudzu' : A neural network library that was designed during our course by [Univ.AI](www.univ.ai). \n",
    "- MNIST Database\n",
    "\n",
    "If MNIST is not installed, use the command `!pip install mnist` given below.\n",
    "It can be run both from the command line and Jupyter Notebook."
   ]
  },
  {
   "cell_type": "code",
   "execution_count": 1,
   "metadata": {
    "execution": {
     "iopub.execute_input": "2020-10-25T00:07:19.353929Z",
     "iopub.status.busy": "2020-10-25T00:07:19.352934Z",
     "iopub.status.idle": "2020-10-25T00:07:20.951819Z",
     "shell.execute_reply": "2020-10-25T00:07:20.952443Z"
    },
    "papermill": {
     "duration": 1.650396,
     "end_time": "2020-10-25T00:07:20.952691",
     "exception": false,
     "start_time": "2020-10-25T00:07:19.302295",
     "status": "completed"
    },
    "tags": []
   },
   "outputs": [
    {
     "name": "stdout",
     "output_type": "stream",
     "text": [
      "Collecting mnist\r\n"
     ]
    },
    {
     "name": "stdout",
     "output_type": "stream",
     "text": [
      "  Downloading mnist-0.2.2-py2.py3-none-any.whl (3.5 kB)\r\n",
      "Requirement already satisfied: numpy in /opt/hostedtoolcache/Python/3.6.12/x64/lib/python3.6/site-packages (from mnist) (1.19.2)\r\n"
     ]
    },
    {
     "name": "stdout",
     "output_type": "stream",
     "text": [
      "Installing collected packages: mnist\r\n"
     ]
    },
    {
     "name": "stdout",
     "output_type": "stream",
     "text": [
      "Successfully installed mnist-0.2.2\r\n",
      "\u001b[33mWARNING: You are using pip version 20.2.3; however, version 20.2.4 is available.\r\n",
      "You should consider upgrading via the '/opt/hostedtoolcache/Python/3.6.12/x64/bin/python -m pip install --upgrade pip' command.\u001b[0m\r\n"
     ]
    }
   ],
   "source": [
    "!pip install mnist "
   ]
  },
  {
   "cell_type": "markdown",
   "metadata": {
    "papermill": {
     "duration": 0.027945,
     "end_time": "2020-10-25T00:07:21.008601",
     "exception": false,
     "start_time": "2020-10-25T00:07:20.980656",
     "status": "completed"
    },
    "tags": []
   },
   "source": [
    "#### Importing necessary libraries"
   ]
  },
  {
   "cell_type": "code",
   "execution_count": 2,
   "metadata": {
    "execution": {
     "iopub.execute_input": "2020-10-25T00:07:21.077426Z",
     "iopub.status.busy": "2020-10-25T00:07:21.076746Z",
     "iopub.status.idle": "2020-10-25T00:07:21.661127Z",
     "shell.execute_reply": "2020-10-25T00:07:21.661953Z"
    },
    "papermill": {
     "duration": 0.623725,
     "end_time": "2020-10-25T00:07:21.662147",
     "exception": false,
     "start_time": "2020-10-25T00:07:21.038422",
     "status": "completed"
    },
    "tags": []
   },
   "outputs": [],
   "source": [
    "%load_ext autoreload\n",
    "%autoreload 2\n",
    "\n",
    "%matplotlib inline\n",
    "import matplotlib.pyplot as plt\n",
    "\n",
    "import numpy as np\n",
    "import pandas as pd"
   ]
  },
  {
   "cell_type": "markdown",
   "metadata": {
    "papermill": {
     "duration": 0.02676,
     "end_time": "2020-10-25T00:07:21.714762",
     "exception": false,
     "start_time": "2020-10-25T00:07:21.688002",
     "status": "completed"
    },
    "tags": []
   },
   "source": [
    "### Preparing the Data"
   ]
  },
  {
   "cell_type": "code",
   "execution_count": 3,
   "metadata": {
    "execution": {
     "iopub.execute_input": "2020-10-25T00:07:21.775248Z",
     "iopub.status.busy": "2020-10-25T00:07:21.769586Z",
     "iopub.status.idle": "2020-10-25T00:07:21.781286Z",
     "shell.execute_reply": "2020-10-25T00:07:21.780760Z"
    },
    "papermill": {
     "duration": 0.040253,
     "end_time": "2020-10-25T00:07:21.781436",
     "exception": false,
     "start_time": "2020-10-25T00:07:21.741183",
     "status": "completed"
    },
    "tags": []
   },
   "outputs": [],
   "source": [
    "import mnist"
   ]
  },
  {
   "cell_type": "code",
   "execution_count": 4,
   "metadata": {
    "execution": {
     "iopub.execute_input": "2020-10-25T00:07:21.846716Z",
     "iopub.status.busy": "2020-10-25T00:07:21.845995Z",
     "iopub.status.idle": "2020-10-25T00:07:23.329256Z",
     "shell.execute_reply": "2020-10-25T00:07:23.329960Z"
    },
    "papermill": {
     "duration": 1.522185,
     "end_time": "2020-10-25T00:07:23.330198",
     "exception": false,
     "start_time": "2020-10-25T00:07:21.808013",
     "status": "completed"
    },
    "tags": []
   },
   "outputs": [],
   "source": [
    "train_images = mnist.train_images()\n",
    "train_labels = mnist.train_labels()"
   ]
  },
  {
   "cell_type": "code",
   "execution_count": 5,
   "metadata": {
    "execution": {
     "iopub.execute_input": "2020-10-25T00:07:23.410229Z",
     "iopub.status.busy": "2020-10-25T00:07:23.409667Z",
     "iopub.status.idle": "2020-10-25T00:07:23.415746Z",
     "shell.execute_reply": "2020-10-25T00:07:23.416593Z"
    },
    "papermill": {
     "duration": 0.056483,
     "end_time": "2020-10-25T00:07:23.416739",
     "exception": false,
     "start_time": "2020-10-25T00:07:23.360256",
     "status": "completed"
    },
    "tags": []
   },
   "outputs": [
    {
     "data": {
      "text/plain": [
       "((60000, 28, 28), (60000,))"
      ]
     },
     "execution_count": 5,
     "metadata": {},
     "output_type": "execute_result"
    }
   ],
   "source": [
    "train_images.shape, train_labels.shape"
   ]
  },
  {
   "cell_type": "code",
   "execution_count": 6,
   "metadata": {
    "execution": {
     "iopub.execute_input": "2020-10-25T00:07:23.477209Z",
     "iopub.status.busy": "2020-10-25T00:07:23.476556Z",
     "iopub.status.idle": "2020-10-25T00:07:24.318116Z",
     "shell.execute_reply": "2020-10-25T00:07:24.317472Z"
    },
    "papermill": {
     "duration": 0.874714,
     "end_time": "2020-10-25T00:07:24.318271",
     "exception": false,
     "start_time": "2020-10-25T00:07:23.443557",
     "status": "completed"
    },
    "tags": []
   },
   "outputs": [],
   "source": [
    "test_images = mnist.test_images()\n",
    "test_labels = mnist.test_labels()"
   ]
  },
  {
   "cell_type": "code",
   "execution_count": 7,
   "metadata": {
    "execution": {
     "iopub.execute_input": "2020-10-25T00:07:24.377371Z",
     "iopub.status.busy": "2020-10-25T00:07:24.376719Z",
     "iopub.status.idle": "2020-10-25T00:07:24.392007Z",
     "shell.execute_reply": "2020-10-25T00:07:24.391244Z"
    },
    "papermill": {
     "duration": 0.045958,
     "end_time": "2020-10-25T00:07:24.392166",
     "exception": false,
     "start_time": "2020-10-25T00:07:24.346208",
     "status": "completed"
    },
    "tags": []
   },
   "outputs": [
    {
     "data": {
      "text/plain": [
       "((10000, 28, 28), (10000,))"
      ]
     },
     "execution_count": 7,
     "metadata": {},
     "output_type": "execute_result"
    }
   ],
   "source": [
    "test_images.shape, test_labels.shape"
   ]
  },
  {
   "cell_type": "code",
   "execution_count": 8,
   "metadata": {
    "execution": {
     "iopub.execute_input": "2020-10-25T00:07:24.453834Z",
     "iopub.status.busy": "2020-10-25T00:07:24.453118Z",
     "iopub.status.idle": "2020-10-25T00:07:24.644564Z",
     "shell.execute_reply": "2020-10-25T00:07:24.645230Z"
    },
    "papermill": {
     "duration": 0.224564,
     "end_time": "2020-10-25T00:07:24.645594",
     "exception": false,
     "start_time": "2020-10-25T00:07:24.421030",
     "status": "completed"
    },
    "tags": []
   },
   "outputs": [
    {
     "name": "stdout",
     "output_type": "stream",
     "text": [
      "2\n"
     ]
    },
    {
     "data": {
      "text/plain": [
       "<matplotlib.image.AxesImage at 0x7f6ad0e44978>"
      ]
     },
     "execution_count": 8,
     "metadata": {},
     "output_type": "execute_result"
    },
    {
     "data": {
      "image/png": "[encoded data removed]",
      "text/plain": [
       "<Figure size 432x288 with 1 Axes>"
      ]
     },
     "metadata": {
      "needs_background": "light"
     },
     "output_type": "display_data"
    }
   ],
   "source": [
    "image_index = 7776 # You may select anything up to 60,000\n",
    "print(train_labels[image_index]) \n",
    "plt.imshow(train_images[image_index], cmap='Greys')"
   ]
  },
  {
   "cell_type": "markdown",
   "metadata": {
    "papermill": {
     "duration": 0.02846,
     "end_time": "2020-10-25T00:07:24.710213",
     "exception": false,
     "start_time": "2020-10-25T00:07:24.681753",
     "status": "completed"
    },
    "tags": []
   },
   "source": [
    "## Filter data to get 3 and 8 out"
   ]
  },
  {
   "cell_type": "code",
   "execution_count": 9,
   "metadata": {
    "execution": {
     "iopub.execute_input": "2020-10-25T00:07:24.769812Z",
     "iopub.status.busy": "2020-10-25T00:07:24.769185Z",
     "iopub.status.idle": "2020-10-25T00:07:24.786391Z",
     "shell.execute_reply": "2020-10-25T00:07:24.785854Z"
    },
    "papermill": {
     "duration": 0.047022,
     "end_time": "2020-10-25T00:07:24.786536",
     "exception": false,
     "start_time": "2020-10-25T00:07:24.739514",
     "status": "completed"
    },
    "tags": []
   },
   "outputs": [],
   "source": [
    "train_filter = np.where((train_labels == 3 ) | (train_labels == 8))\n",
    "test_filter = np.where((test_labels == 3) | (test_labels == 8))\n",
    "X_train, y_train = train_images[train_filter], train_labels[train_filter]\n",
    "X_test, y_test = test_images[test_filter], test_labels[test_filter]"
   ]
  },
  {
   "cell_type": "markdown",
   "metadata": {
    "papermill": {
     "duration": 0.026689,
     "end_time": "2020-10-25T00:07:24.839890",
     "exception": false,
     "start_time": "2020-10-25T00:07:24.813201",
     "status": "completed"
    },
    "tags": []
   },
   "source": [
    "We normalize the pixel values in the 0 to 1 range"
   ]
  },
  {
   "cell_type": "code",
   "execution_count": 10,
   "metadata": {
    "execution": {
     "iopub.execute_input": "2020-10-25T00:07:24.901205Z",
     "iopub.status.busy": "2020-10-25T00:07:24.900594Z",
     "iopub.status.idle": "2020-10-25T00:07:24.960807Z",
     "shell.execute_reply": "2020-10-25T00:07:24.960227Z"
    },
    "papermill": {
     "duration": 0.094695,
     "end_time": "2020-10-25T00:07:24.960939",
     "exception": false,
     "start_time": "2020-10-25T00:07:24.866244",
     "status": "completed"
    },
    "tags": []
   },
   "outputs": [],
   "source": [
    "X_train = X_train/255.\n",
    "X_test = X_test/255."
   ]
  },
  {
   "cell_type": "markdown",
   "metadata": {
    "papermill": {
     "duration": 0.028057,
     "end_time": "2020-10-25T00:07:25.016525",
     "exception": false,
     "start_time": "2020-10-25T00:07:24.988468",
     "status": "completed"
    },
    "tags": []
   },
   "source": [
    "Setup the labels as 1 (when the digit is 3) and 0 (when the digit is 8)"
   ]
  },
  {
   "cell_type": "code",
   "execution_count": 11,
   "metadata": {
    "execution": {
     "iopub.execute_input": "2020-10-25T00:07:25.087340Z",
     "iopub.status.busy": "2020-10-25T00:07:25.086684Z",
     "iopub.status.idle": "2020-10-25T00:07:25.089126Z",
     "shell.execute_reply": "2020-10-25T00:07:25.089601Z"
    },
    "papermill": {
     "duration": 0.046383,
     "end_time": "2020-10-25T00:07:25.089720",
     "exception": false,
     "start_time": "2020-10-25T00:07:25.043337",
     "status": "completed"
    },
    "tags": []
   },
   "outputs": [],
   "source": [
    "y_train = 1*(y_train==3)\n",
    "y_test = 1*(y_test==3)"
   ]
  },
  {
   "cell_type": "code",
   "execution_count": 12,
   "metadata": {
    "execution": {
     "iopub.execute_input": "2020-10-25T00:07:25.147849Z",
     "iopub.status.busy": "2020-10-25T00:07:25.147205Z",
     "iopub.status.idle": "2020-10-25T00:07:25.158579Z",
     "shell.execute_reply": "2020-10-25T00:07:25.159159Z"
    },
    "papermill": {
     "duration": 0.043999,
     "end_time": "2020-10-25T00:07:25.159295",
     "exception": false,
     "start_time": "2020-10-25T00:07:25.115296",
     "status": "completed"
    },
    "tags": []
   },
   "outputs": [
    {
     "data": {
      "text/plain": [
       "((11982, 28, 28), (1984, 28, 28))"
      ]
     },
     "execution_count": 12,
     "metadata": {},
     "output_type": "execute_result"
    }
   ],
   "source": [
    "X_train.shape, X_test.shape"
   ]
  },
  {
   "cell_type": "markdown",
   "metadata": {
    "papermill": {
     "duration": 0.031367,
     "end_time": "2020-10-25T00:07:25.222179",
     "exception": false,
     "start_time": "2020-10-25T00:07:25.190812",
     "status": "completed"
    },
    "tags": []
   },
   "source": [
    "### Reshape the input data to create a linear array"
   ]
  },
  {
   "cell_type": "code",
   "execution_count": 13,
   "metadata": {
    "execution": {
     "iopub.execute_input": "2020-10-25T00:07:25.282851Z",
     "iopub.status.busy": "2020-10-25T00:07:25.282177Z",
     "iopub.status.idle": "2020-10-25T00:07:25.295904Z",
     "shell.execute_reply": "2020-10-25T00:07:25.295392Z"
    },
    "papermill": {
     "duration": 0.044122,
     "end_time": "2020-10-25T00:07:25.296021",
     "exception": false,
     "start_time": "2020-10-25T00:07:25.251899",
     "status": "completed"
    },
    "tags": []
   },
   "outputs": [
    {
     "data": {
      "text/plain": [
       "((11982, 784), (1984, 784))"
      ]
     },
     "execution_count": 13,
     "metadata": {},
     "output_type": "execute_result"
    }
   ],
   "source": [
    "X_train = X_train.reshape(X_train.shape[0], -1)\n",
    "X_test = X_test.reshape(X_test.shape[0], -1)\n",
    "X_train.shape, X_test.shape"
   ]
  },
  {
   "cell_type": "markdown",
   "metadata": {
    "papermill": {
     "duration": 0.032118,
     "end_time": "2020-10-25T00:07:25.357946",
     "exception": false,
     "start_time": "2020-10-25T00:07:25.325828",
     "status": "completed"
    },
    "tags": []
   },
   "source": [
    "### Importing appropriate functions from 'Kudzu'"
   ]
  },
  {
   "cell_type": "code",
   "execution_count": 14,
   "metadata": {
    "execution": {
     "iopub.execute_input": "2020-10-25T00:07:25.429441Z",
     "iopub.status.busy": "2020-10-25T00:07:25.427956Z",
     "iopub.status.idle": "2020-10-25T00:07:25.444861Z",
     "shell.execute_reply": "2020-10-25T00:07:25.445349Z"
    },
    "papermill": {
     "duration": 0.0594,
     "end_time": "2020-10-25T00:07:25.445491",
     "exception": false,
     "start_time": "2020-10-25T00:07:25.386091",
     "status": "completed"
    },
    "tags": []
   },
   "outputs": [],
   "source": [
    "from kudzu.layer import Sigmoid\n",
    "from kudzu.layer import Relu\n",
    "from kudzu.layer import Affine, Sigmoid\n",
    "\n",
    "from kudzu.model import Model\n",
    "from kudzu.train import Learner\n",
    "from kudzu.optim import GD\n",
    "from kudzu.data import Data, Dataloader, Sampler\n",
    "\n",
    "from kudzu.callbacks import AccCallback\n",
    "from kudzu.callbacks import ClfCallback\n",
    "\n",
    "from kudzu.loss import MSE"
   ]
  },
  {
   "cell_type": "markdown",
   "metadata": {
    "papermill": {
     "duration": 0.027978,
     "end_time": "2020-10-25T00:07:25.506083",
     "exception": false,
     "start_time": "2020-10-25T00:07:25.478105",
     "status": "completed"
    },
    "tags": []
   },
   "source": [
    "### Let us create a `Config` class, to store important parameters. \n",
    "This class essentially plays the role of a dictionary."
   ]
  },
  {
   "cell_type": "code",
   "execution_count": 15,
   "metadata": {
    "execution": {
     "iopub.execute_input": "2020-10-25T00:07:25.564233Z",
     "iopub.status.busy": "2020-10-25T00:07:25.563618Z",
     "iopub.status.idle": "2020-10-25T00:07:25.580194Z",
     "shell.execute_reply": "2020-10-25T00:07:25.579691Z"
    },
    "papermill": {
     "duration": 0.046771,
     "end_time": "2020-10-25T00:07:25.580328",
     "exception": false,
     "start_time": "2020-10-25T00:07:25.533557",
     "status": "completed"
    },
    "tags": []
   },
   "outputs": [],
   "source": [
    "class Config:\n",
    "    pass\n",
    "config = Config()\n",
    "config.lr = 0.001\n",
    "config.num_epochs = 251\n",
    "config.bs = 50"
   ]
  },
  {
   "cell_type": "markdown",
   "metadata": {
    "papermill": {
     "duration": 0.026712,
     "end_time": "2020-10-25T00:07:25.638245",
     "exception": false,
     "start_time": "2020-10-25T00:07:25.611533",
     "status": "completed"
    },
    "tags": []
   },
   "source": [
    "### Initializing data to the variables"
   ]
  },
  {
   "cell_type": "code",
   "execution_count": 16,
   "metadata": {
    "execution": {
     "iopub.execute_input": "2020-10-25T00:07:25.702881Z",
     "iopub.status.busy": "2020-10-25T00:07:25.702216Z",
     "iopub.status.idle": "2020-10-25T00:07:25.715020Z",
     "shell.execute_reply": "2020-10-25T00:07:25.715554Z"
    },
    "papermill": {
     "duration": 0.048436,
     "end_time": "2020-10-25T00:07:25.715704",
     "exception": false,
     "start_time": "2020-10-25T00:07:25.667268",
     "status": "completed"
    },
    "tags": []
   },
   "outputs": [],
   "source": [
    "data = Data(X_train, y_train.reshape(-1,1))\n",
    "sampler = Sampler(data, config.bs, shuffle=True)\n",
    "\n",
    "dl = Dataloader(data, sampler)\n",
    "\n",
    "opt = GD(config.lr)\n",
    "loss = MSE()"
   ]
  },
  {
   "cell_type": "code",
   "execution_count": 17,
   "metadata": {
    "execution": {
     "iopub.execute_input": "2020-10-25T00:07:25.790504Z",
     "iopub.status.busy": "2020-10-25T00:07:25.789767Z",
     "iopub.status.idle": "2020-10-25T00:07:25.792715Z",
     "shell.execute_reply": "2020-10-25T00:07:25.792196Z"
    },
    "papermill": {
     "duration": 0.050131,
     "end_time": "2020-10-25T00:07:25.792823",
     "exception": false,
     "start_time": "2020-10-25T00:07:25.742692",
     "status": "completed"
    },
    "tags": []
   },
   "outputs": [],
   "source": [
    "training_xdata = X_train\n",
    "testing_xdata = X_test\n",
    "training_ydata = y_train.reshape(-1,1)\n",
    "testing_ydata = y_test.reshape(-1,1)"
   ]
  },
  {
   "cell_type": "markdown",
   "metadata": {
    "papermill": {
     "duration": 0.027613,
     "end_time": "2020-10-25T00:07:25.848629",
     "exception": false,
     "start_time": "2020-10-25T00:07:25.821016",
     "status": "completed"
    },
    "tags": []
   },
   "source": [
    "### Running Models with the Training data\n",
    "Details about the network layers:\n",
    "- A first affine layer has 784 inputs and does 100 affine transforms. These are followed by a Relu\n",
    "- A second affine layer has 100 inputs from the 100 activations of the past layer, and does 100 affine transforms. These are followed by a Relu\n",
    "- A third affine layer has 100 activations and does 2 affine transformations to create an embedding for visualization. There is no non-linearity here.\n",
    "- A final \"logistic regression\" which has an affine transform from 2 inputs to 1 output, which is squeezed through a sigmoid.\n",
    "\n",
    "Help taken from Anshuman's Notebook."
   ]
  },
  {
   "cell_type": "code",
   "execution_count": 18,
   "metadata": {
    "execution": {
     "iopub.execute_input": "2020-10-25T00:07:25.919294Z",
     "iopub.status.busy": "2020-10-25T00:07:25.911606Z",
     "iopub.status.idle": "2020-10-25T00:07:25.926778Z",
     "shell.execute_reply": "2020-10-25T00:07:25.925882Z"
    },
    "papermill": {
     "duration": 0.051217,
     "end_time": "2020-10-25T00:07:25.927012",
     "exception": false,
     "start_time": "2020-10-25T00:07:25.875795",
     "status": "completed"
    },
    "tags": []
   },
   "outputs": [],
   "source": [
    "# layers for the Neural Network\n",
    "layers = [Affine(\"first\", 784, 100), Relu(\"first\"), Affine(\"second\", 100, 100), Relu(\"second\"), Affine(\"third\", 100, 2), Affine(\"final\", 2, 1), Sigmoid(\"final\")]\n",
    "model_nn = Model(layers)\n",
    "\n",
    "# layers for the Logistic Regression\n",
    "layers_lr = [Affine(\"logits\", 784, 1), Sigmoid(\"sigmoid\")]\n",
    "model_lr = Model(layers_lr)"
   ]
  },
  {
   "cell_type": "code",
   "execution_count": 19,
   "metadata": {
    "execution": {
     "iopub.execute_input": "2020-10-25T00:07:25.995563Z",
     "iopub.status.busy": "2020-10-25T00:07:25.989669Z",
     "iopub.status.idle": "2020-10-25T00:07:25.998025Z",
     "shell.execute_reply": "2020-10-25T00:07:25.998515Z"
    },
    "papermill": {
     "duration": 0.045037,
     "end_time": "2020-10-25T00:07:25.998638",
     "exception": false,
     "start_time": "2020-10-25T00:07:25.953601",
     "status": "completed"
    },
    "tags": []
   },
   "outputs": [],
   "source": [
    "# suffix _nn stands for Neural Network.\n",
    "learner_nn = Learner(loss, model_nn, opt, config.num_epochs)\n",
    "acc_nn = ClfCallback(learner_nn, config.bs, training_xdata , testing_xdata, training_ydata, testing_ydata)\n",
    "learner_nn.set_callbacks([acc_nn])"
   ]
  },
  {
   "cell_type": "code",
   "execution_count": 20,
   "metadata": {
    "execution": {
     "iopub.execute_input": "2020-10-25T00:07:26.068112Z",
     "iopub.status.busy": "2020-10-25T00:07:26.067515Z",
     "iopub.status.idle": "2020-10-25T00:09:46.728968Z",
     "shell.execute_reply": "2020-10-25T00:09:46.729641Z"
    },
    "papermill": {
     "duration": 140.703254,
     "end_time": "2020-10-25T00:09:46.729827",
     "exception": false,
     "start_time": "2020-10-25T00:07:26.026573",
     "status": "completed"
    },
    "tags": []
   },
   "outputs": [
    {
     "name": "stdout",
     "output_type": "stream",
     "text": [
      "====== Neural Network ======\n"
     ]
    },
    {
     "name": "stdout",
     "output_type": "stream",
     "text": [
      "Epoch 0, Loss 0.2469\n",
      "Training Accuracy: 0.5809, Testing Accuracy: 0.5887\n",
      "\n"
     ]
    },
    {
     "name": "stdout",
     "output_type": "stream",
     "text": [
      "Epoch 10, Loss 0.1025\n",
      "Training Accuracy: 0.9191, Testing Accuracy: 0.9279\n",
      "\n"
     ]
    },
    {
     "name": "stdout",
     "output_type": "stream",
     "text": [
      "Epoch 20, Loss 0.0589\n",
      "Training Accuracy: 0.9416, Testing Accuracy: 0.9496\n",
      "\n"
     ]
    },
    {
     "name": "stdout",
     "output_type": "stream",
     "text": [
      "Epoch 30, Loss 0.0452\n",
      "Training Accuracy: 0.9527, Testing Accuracy: 0.9617\n",
      "\n"
     ]
    },
    {
     "name": "stdout",
     "output_type": "stream",
     "text": [
      "Epoch 40, Loss 0.0386\n",
      "Training Accuracy: 0.9579, Testing Accuracy: 0.9652\n",
      "\n"
     ]
    },
    {
     "name": "stdout",
     "output_type": "stream",
     "text": [
      "Epoch 50, Loss 0.0347\n",
      "Training Accuracy: 0.9607, Testing Accuracy: 0.9667\n",
      "\n"
     ]
    },
    {
     "name": "stdout",
     "output_type": "stream",
     "text": [
      "Epoch 60, Loss 0.0322\n",
      "Training Accuracy: 0.9631, Testing Accuracy: 0.9693\n",
      "\n"
     ]
    },
    {
     "name": "stdout",
     "output_type": "stream",
     "text": [
      "Epoch 70, Loss 0.0302\n",
      "Training Accuracy: 0.9646, Testing Accuracy: 0.9703\n",
      "\n"
     ]
    },
    {
     "name": "stdout",
     "output_type": "stream",
     "text": [
      "Epoch 80, Loss 0.0287\n",
      "Training Accuracy: 0.9664, Testing Accuracy: 0.9698\n",
      "\n"
     ]
    },
    {
     "name": "stdout",
     "output_type": "stream",
     "text": [
      "Epoch 90, Loss 0.0275\n",
      "Training Accuracy: 0.9683, Testing Accuracy: 0.9703\n",
      "\n"
     ]
    },
    {
     "name": "stdout",
     "output_type": "stream",
     "text": [
      "Epoch 100, Loss 0.0265\n",
      "Training Accuracy: 0.9698, Testing Accuracy: 0.9708\n",
      "\n"
     ]
    },
    {
     "name": "stdout",
     "output_type": "stream",
     "text": [
      "Epoch 110, Loss 0.0256\n",
      "Training Accuracy: 0.9711, Testing Accuracy: 0.9713\n",
      "\n"
     ]
    },
    {
     "name": "stdout",
     "output_type": "stream",
     "text": [
      "Epoch 120, Loss 0.0248\n",
      "Training Accuracy: 0.9715, Testing Accuracy: 0.9718\n",
      "\n"
     ]
    },
    {
     "name": "stdout",
     "output_type": "stream",
     "text": [
      "Epoch 130, Loss 0.0241\n",
      "Training Accuracy: 0.9722, Testing Accuracy: 0.9723\n",
      "\n"
     ]
    },
    {
     "name": "stdout",
     "output_type": "stream",
     "text": [
      "Epoch 140, Loss 0.0235\n",
      "Training Accuracy: 0.9731, Testing Accuracy: 0.9723\n",
      "\n"
     ]
    },
    {
     "name": "stdout",
     "output_type": "stream",
     "text": [
      "Epoch 150, Loss 0.0229\n",
      "Training Accuracy: 0.9737, Testing Accuracy: 0.9723\n",
      "\n"
     ]
    },
    {
     "name": "stdout",
     "output_type": "stream",
     "text": [
      "Epoch 160, Loss 0.0223\n",
      "Training Accuracy: 0.9741, Testing Accuracy: 0.9738\n",
      "\n"
     ]
    },
    {
     "name": "stdout",
     "output_type": "stream",
     "text": [
      "Epoch 170, Loss 0.0218\n",
      "Training Accuracy: 0.9745, Testing Accuracy: 0.9738\n",
      "\n"
     ]
    },
    {
     "name": "stdout",
     "output_type": "stream",
     "text": [
      "Epoch 180, Loss 0.0213\n",
      "Training Accuracy: 0.9750, Testing Accuracy: 0.9738\n",
      "\n"
     ]
    },
    {
     "name": "stdout",
     "output_type": "stream",
     "text": [
      "Epoch 190, Loss 0.0208\n",
      "Training Accuracy: 0.9755, Testing Accuracy: 0.9738\n",
      "\n"
     ]
    },
    {
     "name": "stdout",
     "output_type": "stream",
     "text": [
      "Epoch 200, Loss 0.0204\n",
      "Training Accuracy: 0.9762, Testing Accuracy: 0.9738\n",
      "\n"
     ]
    },
    {
     "name": "stdout",
     "output_type": "stream",
     "text": [
      "Epoch 210, Loss 0.0199\n",
      "Training Accuracy: 0.9772, Testing Accuracy: 0.9738\n",
      "\n"
     ]
    },
    {
     "name": "stdout",
     "output_type": "stream",
     "text": [
      "Epoch 220, Loss 0.0195\n",
      "Training Accuracy: 0.9781, Testing Accuracy: 0.9743\n",
      "\n"
     ]
    },
    {
     "name": "stdout",
     "output_type": "stream",
     "text": [
      "Epoch 230, Loss 0.0191\n",
      "Training Accuracy: 0.9783, Testing Accuracy: 0.9743\n",
      "\n"
     ]
    },
    {
     "name": "stdout",
     "output_type": "stream",
     "text": [
      "Epoch 240, Loss 0.0188\n",
      "Training Accuracy: 0.9790, Testing Accuracy: 0.9748\n",
      "\n"
     ]
    },
    {
     "name": "stdout",
     "output_type": "stream",
     "text": [
      "Epoch 250, Loss 0.0184\n",
      "Training Accuracy: 0.9791, Testing Accuracy: 0.9748\n",
      "\n"
     ]
    },
    {
     "data": {
      "text/plain": [
       "0.0383472900685064"
      ]
     },
     "execution_count": 20,
     "metadata": {},
     "output_type": "execute_result"
    }
   ],
   "source": [
    "print(\"====== Neural Network ======\")\n",
    "learner_nn.train_loop(dl)"
   ]
  },
  {
   "cell_type": "markdown",
   "metadata": {
    "papermill": {
     "duration": 0.049125,
     "end_time": "2020-10-25T00:09:46.822580",
     "exception": false,
     "start_time": "2020-10-25T00:09:46.773455",
     "status": "completed"
    },
    "tags": []
   },
   "source": [
    "### Logistic Regression based Implementation."
   ]
  },
  {
   "cell_type": "code",
   "execution_count": 21,
   "metadata": {
    "execution": {
     "iopub.execute_input": "2020-10-25T00:09:46.920758Z",
     "iopub.status.busy": "2020-10-25T00:09:46.920036Z",
     "iopub.status.idle": "2020-10-25T00:09:46.928556Z",
     "shell.execute_reply": "2020-10-25T00:09:46.929172Z"
    },
    "papermill": {
     "duration": 0.063005,
     "end_time": "2020-10-25T00:09:46.929364",
     "exception": false,
     "start_time": "2020-10-25T00:09:46.866359",
     "status": "completed"
    },
    "tags": []
   },
   "outputs": [],
   "source": [
    "learner_lr = Learner(loss, model_lr, opt, config.num_epochs)\n",
    "acc_lr = ClfCallback(learner_lr, config.bs, training_xdata , testing_xdata, training_ydata, testing_ydata)\n",
    "learner_lr.set_callbacks([acc_lr])"
   ]
  },
  {
   "cell_type": "code",
   "execution_count": 22,
   "metadata": {
    "execution": {
     "iopub.execute_input": "2020-10-25T00:09:47.020423Z",
     "iopub.status.busy": "2020-10-25T00:09:47.019641Z",
     "iopub.status.idle": "2020-10-25T00:10:07.159132Z",
     "shell.execute_reply": "2020-10-25T00:10:07.159806Z"
    },
    "papermill": {
     "duration": 20.187138,
     "end_time": "2020-10-25T00:10:07.159991",
     "exception": false,
     "start_time": "2020-10-25T00:09:46.972853",
     "status": "completed"
    },
    "tags": []
   },
   "outputs": [
    {
     "name": "stdout",
     "output_type": "stream",
     "text": [
      "====== Logistic Regression ======\n",
      "Epoch 0, Loss 0.2459\n",
      "Training Accuracy: 0.6521, Testing Accuracy: 0.6593\n",
      "\n"
     ]
    },
    {
     "name": "stdout",
     "output_type": "stream",
     "text": [
      "Epoch 10, Loss 0.1071\n",
      "Training Accuracy: 0.8990, Testing Accuracy: 0.9138\n",
      "\n"
     ]
    },
    {
     "name": "stdout",
     "output_type": "stream",
     "text": [
      "Epoch 20, Loss 0.0814\n",
      "Training Accuracy: 0.9249, Testing Accuracy: 0.9355\n",
      "\n"
     ]
    },
    {
     "name": "stdout",
     "output_type": "stream",
     "text": [
      "Epoch 30, Loss 0.0697\n",
      "Training Accuracy: 0.9346, Testing Accuracy: 0.9441\n",
      "\n"
     ]
    },
    {
     "name": "stdout",
     "output_type": "stream",
     "text": [
      "Epoch 40, Loss 0.0628\n",
      "Training Accuracy: 0.9398, Testing Accuracy: 0.9486\n",
      "\n"
     ]
    },
    {
     "name": "stdout",
     "output_type": "stream",
     "text": [
      "Epoch 50, Loss 0.058\n",
      "Training Accuracy: 0.9428, Testing Accuracy: 0.9536\n",
      "\n"
     ]
    },
    {
     "name": "stdout",
     "output_type": "stream",
     "text": [
      "Epoch 60, Loss 0.0546\n",
      "Training Accuracy: 0.9460, Testing Accuracy: 0.9551\n",
      "\n"
     ]
    },
    {
     "name": "stdout",
     "output_type": "stream",
     "text": [
      "Epoch 70, Loss 0.0519\n",
      "Training Accuracy: 0.9481, Testing Accuracy: 0.9587\n",
      "\n"
     ]
    },
    {
     "name": "stdout",
     "output_type": "stream",
     "text": [
      "Epoch 80, Loss 0.0498\n",
      "Training Accuracy: 0.9493, Testing Accuracy: 0.9612\n",
      "\n"
     ]
    },
    {
     "name": "stdout",
     "output_type": "stream",
     "text": [
      "Epoch 90, Loss 0.048\n",
      "Training Accuracy: 0.9516, Testing Accuracy: 0.9627\n",
      "\n"
     ]
    },
    {
     "name": "stdout",
     "output_type": "stream",
     "text": [
      "Epoch 100, Loss 0.0466\n",
      "Training Accuracy: 0.9531, Testing Accuracy: 0.9632\n",
      "\n"
     ]
    },
    {
     "name": "stdout",
     "output_type": "stream",
     "text": [
      "Epoch 110, Loss 0.0453\n",
      "Training Accuracy: 0.9544, Testing Accuracy: 0.9637\n",
      "\n"
     ]
    },
    {
     "name": "stdout",
     "output_type": "stream",
     "text": [
      "Epoch 120, Loss 0.0442\n",
      "Training Accuracy: 0.9552, Testing Accuracy: 0.9647\n",
      "\n"
     ]
    },
    {
     "name": "stdout",
     "output_type": "stream",
     "text": [
      "Epoch 130, Loss 0.0432\n",
      "Training Accuracy: 0.9557, Testing Accuracy: 0.9657\n",
      "\n"
     ]
    },
    {
     "name": "stdout",
     "output_type": "stream",
     "text": [
      "Epoch 140, Loss 0.0424\n",
      "Training Accuracy: 0.9561, Testing Accuracy: 0.9667\n",
      "\n"
     ]
    },
    {
     "name": "stdout",
     "output_type": "stream",
     "text": [
      "Epoch 150, Loss 0.0416\n",
      "Training Accuracy: 0.9567, Testing Accuracy: 0.9672\n",
      "\n"
     ]
    },
    {
     "name": "stdout",
     "output_type": "stream",
     "text": [
      "Epoch 160, Loss 0.0409\n",
      "Training Accuracy: 0.9572, Testing Accuracy: 0.9672\n",
      "\n"
     ]
    },
    {
     "name": "stdout",
     "output_type": "stream",
     "text": [
      "Epoch 170, Loss 0.0403\n",
      "Training Accuracy: 0.9581, Testing Accuracy: 0.9667\n",
      "\n"
     ]
    },
    {
     "name": "stdout",
     "output_type": "stream",
     "text": [
      "Epoch 180, Loss 0.0397\n",
      "Training Accuracy: 0.9589, Testing Accuracy: 0.9682\n",
      "\n"
     ]
    },
    {
     "name": "stdout",
     "output_type": "stream",
     "text": [
      "Epoch 190, Loss 0.0392\n",
      "Training Accuracy: 0.9591, Testing Accuracy: 0.9682\n",
      "\n"
     ]
    },
    {
     "name": "stdout",
     "output_type": "stream",
     "text": [
      "Epoch 200, Loss 0.0387\n",
      "Training Accuracy: 0.9595, Testing Accuracy: 0.9682\n",
      "\n"
     ]
    },
    {
     "name": "stdout",
     "output_type": "stream",
     "text": [
      "Epoch 210, Loss 0.0382\n",
      "Training Accuracy: 0.9597, Testing Accuracy: 0.9682\n",
      "\n"
     ]
    },
    {
     "name": "stdout",
     "output_type": "stream",
     "text": [
      "Epoch 220, Loss 0.0378\n",
      "Training Accuracy: 0.9602, Testing Accuracy: 0.9677\n",
      "\n"
     ]
    },
    {
     "name": "stdout",
     "output_type": "stream",
     "text": [
      "Epoch 230, Loss 0.0374\n",
      "Training Accuracy: 0.9606, Testing Accuracy: 0.9672\n",
      "\n"
     ]
    },
    {
     "name": "stdout",
     "output_type": "stream",
     "text": [
      "Epoch 240, Loss 0.0371\n",
      "Training Accuracy: 0.9609, Testing Accuracy: 0.9672\n",
      "\n"
     ]
    },
    {
     "name": "stdout",
     "output_type": "stream",
     "text": [
      "Epoch 250, Loss 0.0367\n",
      "Training Accuracy: 0.9610, Testing Accuracy: 0.9677\n",
      "\n"
     ]
    },
    {
     "data": {
      "text/plain": [
       "0.014378605018878794"
      ]
     },
     "execution_count": 22,
     "metadata": {},
     "output_type": "execute_result"
    }
   ],
   "source": [
    "print(\"====== Logistic Regression ======\")\n",
    "learner_lr.train_loop(dl)"
   ]
  },
  {
   "cell_type": "markdown",
   "metadata": {
    "papermill": {
     "duration": 0.051674,
     "end_time": "2020-10-25T00:10:07.263870",
     "exception": false,
     "start_time": "2020-10-25T00:10:07.212196",
     "status": "completed"
    },
    "tags": []
   },
   "source": [
    "### Comparing results of NN and LR"
   ]
  },
  {
   "cell_type": "code",
   "execution_count": 23,
   "metadata": {
    "execution": {
     "iopub.execute_input": "2020-10-25T00:10:07.379627Z",
     "iopub.status.busy": "2020-10-25T00:10:07.377849Z",
     "iopub.status.idle": "2020-10-25T00:10:07.685867Z",
     "shell.execute_reply": "2020-10-25T00:10:07.686460Z"
    },
    "papermill": {
     "duration": 0.371302,
     "end_time": "2020-10-25T00:10:07.686685",
     "exception": false,
     "start_time": "2020-10-25T00:10:07.315383",
     "status": "completed"
    },
    "tags": []
   },
   "outputs": [
    {
     "data": {
      "text/plain": [
       "<matplotlib.legend.Legend at 0x7f6ac961d2b0>"
      ]
     },
     "execution_count": 23,
     "metadata": {},
     "output_type": "execute_result"
    },
    {
     "data": {
      "image/png": "[encoded data removed]",
      "text/plain": [
       "<Figure size 1080x720 with 1 Axes>"
      ]
     },
     "metadata": {
      "needs_background": "light"
     },
     "output_type": "display_data"
    }
   ],
   "source": [
    "plt.figure(figsize=(15,10))\n",
    "\n",
    "# Neural Network plots\n",
    "plt.plot(acc_nn.accuracies, 'r-', label = \"Training Accuracies - NN\")\n",
    "plt.plot(acc_nn.test_accuracies, 'g-', label = \"Testing Accuracies - NN\")\n",
    "\n",
    "# Logistic Regression plots\n",
    "plt.plot(acc_lr.accuracies, 'k-', label = \"Training Accuracies - LR\")\n",
    "plt.plot(acc_lr.test_accuracies, 'b-', label = \"Testing Accuracies - LR\")\n",
    "\n",
    "plt.ylim(0.8, 1)\n",
    "\n",
    "plt.legend()\n",
    "\n"
   ]
  },
  {
   "cell_type": "markdown",
   "metadata": {
    "papermill": {
     "duration": 0.053427,
     "end_time": "2020-10-25T00:10:07.794813",
     "exception": false,
     "start_time": "2020-10-25T00:10:07.741386",
     "status": "completed"
    },
    "tags": []
   },
   "source": [
    "### From the plot, we can observe the following:\n",
    "- Neural Network achieves higher accuracy than the Logistic Regression model.\n",
    "- This apparently, is because of overfitting, i.e. NN captures more noise than data.\n",
    "- Testing accuracy of NN drops below the Training accuracy at higher epochs. This explains the over-fitting on training data.\n",
    "- Logistic Regression gives a reliable accuracy, without the above mentioned problem.\n"
   ]
  },
  {
   "cell_type": "markdown",
   "metadata": {
    "papermill": {
     "duration": 0.053662,
     "end_time": "2020-10-25T00:10:07.903262",
     "exception": false,
     "start_time": "2020-10-25T00:10:07.849600",
     "status": "completed"
    },
    "tags": []
   },
   "source": [
    "### Moving till the last but one layer (excluding it).\n",
    "#### Plotting the outputs of this layer of the NN."
   ]
  },
  {
   "cell_type": "code",
   "execution_count": 24,
   "metadata": {
    "execution": {
     "iopub.execute_input": "2020-10-25T00:10:08.016522Z",
     "iopub.status.busy": "2020-10-25T00:10:08.015092Z",
     "iopub.status.idle": "2020-10-25T00:10:08.031325Z",
     "shell.execute_reply": "2020-10-25T00:10:08.031915Z"
    },
    "papermill": {
     "duration": 0.074436,
     "end_time": "2020-10-25T00:10:08.032106",
     "exception": false,
     "start_time": "2020-10-25T00:10:07.957670",
     "status": "completed"
    },
    "tags": []
   },
   "outputs": [],
   "source": [
    "model_new = Model(layers[:-2])"
   ]
  },
  {
   "cell_type": "code",
   "execution_count": 25,
   "metadata": {
    "execution": {
     "iopub.execute_input": "2020-10-25T00:10:08.147666Z",
     "iopub.status.busy": "2020-10-25T00:10:08.144476Z",
     "iopub.status.idle": "2020-10-25T00:10:08.173762Z",
     "shell.execute_reply": "2020-10-25T00:10:08.174337Z"
    },
    "papermill": {
     "duration": 0.088482,
     "end_time": "2020-10-25T00:10:08.174576",
     "exception": false,
     "start_time": "2020-10-25T00:10:08.086094",
     "status": "completed"
    },
    "tags": []
   },
   "outputs": [],
   "source": [
    "plot_testing = model_new(testing_xdata)"
   ]
  },
  {
   "cell_type": "code",
   "execution_count": 26,
   "metadata": {
    "execution": {
     "iopub.execute_input": "2020-10-25T00:10:08.289099Z",
     "iopub.status.busy": "2020-10-25T00:10:08.288005Z",
     "iopub.status.idle": "2020-10-25T00:10:08.548911Z",
     "shell.execute_reply": "2020-10-25T00:10:08.549446Z"
    },
    "papermill": {
     "duration": 0.322182,
     "end_time": "2020-10-25T00:10:08.549634",
     "exception": false,
     "start_time": "2020-10-25T00:10:08.227452",
     "status": "completed"
    },
    "tags": []
   },
   "outputs": [
    {
     "data": {
      "text/plain": [
       "Text(0.5, 1.0, 'Outputs')"
      ]
     },
     "execution_count": 26,
     "metadata": {},
     "output_type": "execute_result"
    },
    {
     "data": {
      "image/png": "[encoded data removed]",
      "text/plain": [
       "<Figure size 576x504 with 1 Axes>"
      ]
     },
     "metadata": {
      "needs_background": "light"
     },
     "output_type": "display_data"
    }
   ],
   "source": [
    "plt.figure(figsize=(8,7))\n",
    "plt.scatter(plot_testing[:,0], plot_testing[:,1], alpha = 0.1, c = y_test.ravel());\n",
    "plt.title('Outputs')"
   ]
  },
  {
   "cell_type": "markdown",
   "metadata": {
    "papermill": {
     "duration": 0.055229,
     "end_time": "2020-10-25T00:10:08.659986",
     "exception": false,
     "start_time": "2020-10-25T00:10:08.604757",
     "status": "completed"
    },
    "tags": []
   },
   "source": [
    "### Plotting probability contours"
   ]
  },
  {
   "cell_type": "code",
   "execution_count": 27,
   "metadata": {
    "execution": {
     "iopub.execute_input": "2020-10-25T00:10:08.775520Z",
     "iopub.status.busy": "2020-10-25T00:10:08.774817Z",
     "iopub.status.idle": "2020-10-25T00:10:08.806072Z",
     "shell.execute_reply": "2020-10-25T00:10:08.805477Z"
    },
    "papermill": {
     "duration": 0.09077,
     "end_time": "2020-10-25T00:10:08.806239",
     "exception": false,
     "start_time": "2020-10-25T00:10:08.715469",
     "status": "completed"
    },
    "tags": []
   },
   "outputs": [],
   "source": [
    "model_prob = Model(layers[-2:]) "
   ]
  },
  {
   "cell_type": "code",
   "execution_count": 28,
   "metadata": {
    "execution": {
     "iopub.execute_input": "2020-10-25T00:10:08.923801Z",
     "iopub.status.busy": "2020-10-25T00:10:08.923074Z",
     "iopub.status.idle": "2020-10-25T00:10:08.940236Z",
     "shell.execute_reply": "2020-10-25T00:10:08.940805Z"
    },
    "papermill": {
     "duration": 0.078895,
     "end_time": "2020-10-25T00:10:08.941003",
     "exception": false,
     "start_time": "2020-10-25T00:10:08.862108",
     "status": "completed"
    },
    "tags": []
   },
   "outputs": [],
   "source": [
    "# Adjust the x and y ranges according to the above generated plot.\n",
    "x_range = np.linspace(-4, 1, 100) \n",
    "y_range = np.linspace(-6, 6, 100) \n",
    "x_grid, y_grid = np.meshgrid(x_range, y_range) # x_grid and y_grig are of size 100 X 100\n",
    "\n",
    "# converting x_grid and y_grid to continuous arrays\n",
    "x_grid_flat = np.ravel(x_grid)\n",
    "y_grid_flat = np.ravel(y_grid)\n",
    "\n",
    "# The last layer of the current model takes two columns as input. Hence transpose of np.vstack() is required.\n",
    "X = np.vstack((x_grid_flat, y_grid_flat)).T\n",
    "\n",
    "# x_grid and y_grid are of size 100 x 100\n",
    "probability_contour = model_prob(X).reshape(100,100) "
   ]
  },
  {
   "cell_type": "code",
   "execution_count": 29,
   "metadata": {
    "execution": {
     "iopub.execute_input": "2020-10-25T00:10:09.075739Z",
     "iopub.status.busy": "2020-10-25T00:10:09.068006Z",
     "iopub.status.idle": "2020-10-25T00:10:09.395960Z",
     "shell.execute_reply": "2020-10-25T00:10:09.396547Z"
    },
    "papermill": {
     "duration": 0.398736,
     "end_time": "2020-10-25T00:10:09.396735",
     "exception": false,
     "start_time": "2020-10-25T00:10:08.997999",
     "status": "completed"
    },
    "tags": []
   },
   "outputs": [
    {
     "data": {
      "image/png": "[encoded data removed]",
      "text/plain": [
       "<Figure size 720x648 with 1 Axes>"
      ]
     },
     "metadata": {
      "needs_background": "light"
     },
     "output_type": "display_data"
    }
   ],
   "source": [
    "plt.figure(figsize=(10,9))\n",
    "plt.scatter(plot_testing[:,0], plot_testing[:,1], alpha = 0.1, c = y_test.ravel())\n",
    "contours = plt.contour(x_grid,y_grid,probability_contour)\n",
    "plt.title('Probability Contours')\n",
    "plt.clabel(contours, inline = True );"
   ]
  }
 ],
 "metadata": {
  "kernelspec": {
   "display_name": "Python 3",
   "language": "python",
   "name": "python3"
  },
  "language_info": {
   "codemirror_mode": {
    "name": "ipython",
    "version": 3
   },
   "file_extension": ".py",
   "mimetype": "text/x-python",
   "name": "python",
   "nbconvert_exporter": "python",
   "pygments_lexer": "ipython3",
   "version": "3.6.12"
  },
  "papermill": {
   "duration": 171.877253,
   "end_time": "2020-10-25T00:10:09.900435",
   "environment_variables": {},
   "exception": null,
   "input_path": "2020-08-11-NeuralNetwork.ipynb",
   "output_path": "2020-08-11-NeuralNetwork.ipynb",
   "parameters": {},
   "start_time": "2020-10-25T00:07:18.023182",
   "version": "2.1.2"
  }
 },
 "nbformat": 4,
 "nbformat_minor": 4
}