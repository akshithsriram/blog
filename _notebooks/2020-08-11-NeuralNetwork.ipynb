{
 "cells": [
  {
   "cell_type": "markdown",
   "metadata": {
    "papermill": {
     "duration": 0.031889,
     "end_time": "2020-12-15T00:10:33.657072",
     "exception": false,
     "start_time": "2020-12-15T00:10:33.625183",
     "status": "completed"
    },
    "tags": []
   },
   "source": [
    "# \"A Basic Neural Network: Differentiate Hand-Written Digits\"\n",
    "\n",
    "- badges: true\n",
    "- author: Akshith Sriram"
   ]
  },
  {
   "cell_type": "markdown",
   "metadata": {
    "papermill": {
     "duration": 0.024901,
     "end_time": "2020-12-15T00:10:33.708434",
     "exception": false,
     "start_time": "2020-12-15T00:10:33.683533",
     "status": "completed"
    },
    "tags": []
   },
   "source": [
    "### Key Objectives:\n",
    "- Building a neural network that differentiates two hand-written digits 3 and 8.\n",
    "- Comparing the results of this Neural Network (NN) to that of a Logistic Regression (LR) model.\n",
    "\n",
    "### Requirements:\n",
    "- 'Kudzu' : A neural network library that was designed during our course by [Univ.AI](www.univ.ai). \n",
    "- MNIST Database\n",
    "\n",
    "If MNIST is not installed, use the command `!pip install mnist` given below.\n",
    "It can be run both from the command line and Jupyter Notebook."
   ]
  },
  {
   "cell_type": "code",
   "execution_count": 1,
   "metadata": {
    "execution": {
     "iopub.execute_input": "2020-12-15T00:10:33.768509Z",
     "iopub.status.busy": "2020-12-15T00:10:33.767858Z",
     "iopub.status.idle": "2020-12-15T00:10:35.224721Z",
     "shell.execute_reply": "2020-12-15T00:10:35.224205Z"
    },
    "papermill": {
     "duration": 1.491212,
     "end_time": "2020-12-15T00:10:35.224882",
     "exception": false,
     "start_time": "2020-12-15T00:10:33.733670",
     "status": "completed"
    },
    "tags": []
   },
   "outputs": [
    {
     "name": "stdout",
     "output_type": "stream",
     "text": [
      "Collecting mnist\r\n"
     ]
    },
    {
     "name": "stdout",
     "output_type": "stream",
     "text": [
      "  Downloading mnist-0.2.2-py2.py3-none-any.whl (3.5 kB)\r\n",
      "Requirement already satisfied: numpy in /opt/hostedtoolcache/Python/3.6.12/x64/lib/python3.6/site-packages (from mnist) (1.19.4)\r\n"
     ]
    },
    {
     "name": "stdout",
     "output_type": "stream",
     "text": [
      "Installing collected packages: mnist\r\n"
     ]
    },
    {
     "name": "stdout",
     "output_type": "stream",
     "text": [
      "Successfully installed mnist-0.2.2\r\n"
     ]
    },
    {
     "name": "stdout",
     "output_type": "stream",
     "text": [
      "\u001b[33mWARNING: You are using pip version 20.2.4; however, version 20.3.1 is available.\r\n",
      "You should consider upgrading via the '/opt/hostedtoolcache/Python/3.6.12/x64/bin/python -m pip install --upgrade pip' command.\u001b[0m\r\n"
     ]
    }
   ],
   "source": [
    "!pip install mnist "
   ]
  },
  {
   "cell_type": "markdown",
   "metadata": {
    "papermill": {
     "duration": 0.026594,
     "end_time": "2020-12-15T00:10:35.281785",
     "exception": false,
     "start_time": "2020-12-15T00:10:35.255191",
     "status": "completed"
    },
    "tags": []
   },
   "source": [
    "#### Importing necessary libraries"
   ]
  },
  {
   "cell_type": "code",
   "execution_count": 2,
   "metadata": {
    "execution": {
     "iopub.execute_input": "2020-12-15T00:10:35.340372Z",
     "iopub.status.busy": "2020-12-15T00:10:35.339795Z",
     "iopub.status.idle": "2020-12-15T00:10:35.882154Z",
     "shell.execute_reply": "2020-12-15T00:10:35.882673Z"
    },
    "papermill": {
     "duration": 0.57491,
     "end_time": "2020-12-15T00:10:35.882841",
     "exception": false,
     "start_time": "2020-12-15T00:10:35.307931",
     "status": "completed"
    },
    "tags": []
   },
   "outputs": [],
   "source": [
    "%load_ext autoreload\n",
    "%autoreload 2\n",
    "\n",
    "%matplotlib inline\n",
    "import matplotlib.pyplot as plt\n",
    "\n",
    "import numpy as np\n",
    "import pandas as pd"
   ]
  },
  {
   "cell_type": "markdown",
   "metadata": {
    "papermill": {
     "duration": 0.026302,
     "end_time": "2020-12-15T00:10:35.935993",
     "exception": false,
     "start_time": "2020-12-15T00:10:35.909691",
     "status": "completed"
    },
    "tags": []
   },
   "source": [
    "### Preparing the Data"
   ]
  },
  {
   "cell_type": "code",
   "execution_count": 3,
   "metadata": {
    "execution": {
     "iopub.execute_input": "2020-12-15T00:10:35.993104Z",
     "iopub.status.busy": "2020-12-15T00:10:35.992435Z",
     "iopub.status.idle": "2020-12-15T00:10:36.005004Z",
     "shell.execute_reply": "2020-12-15T00:10:36.004449Z"
    },
    "papermill": {
     "duration": 0.043448,
     "end_time": "2020-12-15T00:10:36.005146",
     "exception": false,
     "start_time": "2020-12-15T00:10:35.961698",
     "status": "completed"
    },
    "tags": []
   },
   "outputs": [],
   "source": [
    "import mnist"
   ]
  },
  {
   "cell_type": "code",
   "execution_count": 4,
   "metadata": {
    "execution": {
     "iopub.execute_input": "2020-12-15T00:10:36.062524Z",
     "iopub.status.busy": "2020-12-15T00:10:36.061839Z",
     "iopub.status.idle": "2020-12-15T00:10:36.818515Z",
     "shell.execute_reply": "2020-12-15T00:10:36.817985Z"
    },
    "papermill": {
     "duration": 0.787432,
     "end_time": "2020-12-15T00:10:36.818659",
     "exception": false,
     "start_time": "2020-12-15T00:10:36.031227",
     "status": "completed"
    },
    "tags": []
   },
   "outputs": [],
   "source": [
    "train_images = mnist.train_images()\n",
    "train_labels = mnist.train_labels()"
   ]
  },
  {
   "cell_type": "code",
   "execution_count": 5,
   "metadata": {
    "execution": {
     "iopub.execute_input": "2020-12-15T00:10:36.884683Z",
     "iopub.status.busy": "2020-12-15T00:10:36.884035Z",
     "iopub.status.idle": "2020-12-15T00:10:36.893704Z",
     "shell.execute_reply": "2020-12-15T00:10:36.893184Z"
    },
    "papermill": {
     "duration": 0.048568,
     "end_time": "2020-12-15T00:10:36.893823",
     "exception": false,
     "start_time": "2020-12-15T00:10:36.845255",
     "status": "completed"
    },
    "tags": []
   },
   "outputs": [
    {
     "data": {
      "text/plain": [
       "((60000, 28, 28), (60000,))"
      ]
     },
     "execution_count": 5,
     "metadata": {},
     "output_type": "execute_result"
    }
   ],
   "source": [
    "train_images.shape, train_labels.shape"
   ]
  },
  {
   "cell_type": "code",
   "execution_count": 6,
   "metadata": {
    "execution": {
     "iopub.execute_input": "2020-12-15T00:10:36.964185Z",
     "iopub.status.busy": "2020-12-15T00:10:36.950898Z",
     "iopub.status.idle": "2020-12-15T00:10:37.196217Z",
     "shell.execute_reply": "2020-12-15T00:10:37.195673Z"
    },
    "papermill": {
     "duration": 0.276178,
     "end_time": "2020-12-15T00:10:37.196356",
     "exception": false,
     "start_time": "2020-12-15T00:10:36.920178",
     "status": "completed"
    },
    "tags": []
   },
   "outputs": [],
   "source": [
    "test_images = mnist.test_images()\n",
    "test_labels = mnist.test_labels()"
   ]
  },
  {
   "cell_type": "code",
   "execution_count": 7,
   "metadata": {
    "execution": {
     "iopub.execute_input": "2020-12-15T00:10:37.259576Z",
     "iopub.status.busy": "2020-12-15T00:10:37.258944Z",
     "iopub.status.idle": "2020-12-15T00:10:37.269298Z",
     "shell.execute_reply": "2020-12-15T00:10:37.269875Z"
    },
    "papermill": {
     "duration": 0.045665,
     "end_time": "2020-12-15T00:10:37.270014",
     "exception": false,
     "start_time": "2020-12-15T00:10:37.224349",
     "status": "completed"
    },
    "tags": []
   },
   "outputs": [
    {
     "data": {
      "text/plain": [
       "((10000, 28, 28), (10000,))"
      ]
     },
     "execution_count": 7,
     "metadata": {},
     "output_type": "execute_result"
    }
   ],
   "source": [
    "test_images.shape, test_labels.shape"
   ]
  },
  {
   "cell_type": "code",
   "execution_count": 8,
   "metadata": {
    "execution": {
     "iopub.execute_input": "2020-12-15T00:10:37.351220Z",
     "iopub.status.busy": "2020-12-15T00:10:37.342245Z",
     "iopub.status.idle": "2020-12-15T00:10:37.487281Z",
     "shell.execute_reply": "2020-12-15T00:10:37.486789Z"
    },
    "papermill": {
     "duration": 0.190788,
     "end_time": "2020-12-15T00:10:37.487423",
     "exception": false,
     "start_time": "2020-12-15T00:10:37.296635",
     "status": "completed"
    },
    "tags": []
   },
   "outputs": [
    {
     "name": "stdout",
     "output_type": "stream",
     "text": [
      "2\n"
     ]
    },
    {
     "data": {
      "text/plain": [
       "<matplotlib.image.AxesImage at 0x7fdf2dc23358>"
      ]
     },
     "execution_count": 8,
     "metadata": {},
     "output_type": "execute_result"
    },
    {
     "data": {
      "image/png": "[encoded data removed]",
      "text/plain": [
       "<Figure size 432x288 with 1 Axes>"
      ]
     },
     "metadata": {
      "needs_background": "light"
     },
     "output_type": "display_data"
    }
   ],
   "source": [
    "image_index = 7776 # You may select anything up to 60,000\n",
    "print(train_labels[image_index]) \n",
    "plt.imshow(train_images[image_index], cmap='Greys')"
   ]
  },
  {
   "cell_type": "markdown",
   "metadata": {
    "papermill": {
     "duration": 0.030484,
     "end_time": "2020-12-15T00:10:37.546416",
     "exception": false,
     "start_time": "2020-12-15T00:10:37.515932",
     "status": "completed"
    },
    "tags": []
   },
   "source": [
    "## Filter data to get 3 and 8 out"
   ]
  },
  {
   "cell_type": "code",
   "execution_count": 9,
   "metadata": {
    "execution": {
     "iopub.execute_input": "2020-12-15T00:10:37.609365Z",
     "iopub.status.busy": "2020-12-15T00:10:37.608461Z",
     "iopub.status.idle": "2020-12-15T00:10:37.625292Z",
     "shell.execute_reply": "2020-12-15T00:10:37.624771Z"
    },
    "papermill": {
     "duration": 0.050111,
     "end_time": "2020-12-15T00:10:37.625426",
     "exception": false,
     "start_time": "2020-12-15T00:10:37.575315",
     "status": "completed"
    },
    "tags": []
   },
   "outputs": [],
   "source": [
    "train_filter = np.where((train_labels == 3 ) | (train_labels == 8))\n",
    "test_filter = np.where((test_labels == 3) | (test_labels == 8))\n",
    "X_train, y_train = train_images[train_filter], train_labels[train_filter]\n",
    "X_test, y_test = test_images[test_filter], test_labels[test_filter]"
   ]
  },
  {
   "cell_type": "markdown",
   "metadata": {
    "papermill": {
     "duration": 0.028325,
     "end_time": "2020-12-15T00:10:37.684917",
     "exception": false,
     "start_time": "2020-12-15T00:10:37.656592",
     "status": "completed"
    },
    "tags": []
   },
   "source": [
    "We normalize the pixel values in the 0 to 1 range"
   ]
  },
  {
   "cell_type": "code",
   "execution_count": 10,
   "metadata": {
    "execution": {
     "iopub.execute_input": "2020-12-15T00:10:37.762853Z",
     "iopub.status.busy": "2020-12-15T00:10:37.762246Z",
     "iopub.status.idle": "2020-12-15T00:10:37.808600Z",
     "shell.execute_reply": "2020-12-15T00:10:37.807954Z"
    },
    "papermill": {
     "duration": 0.096175,
     "end_time": "2020-12-15T00:10:37.808773",
     "exception": false,
     "start_time": "2020-12-15T00:10:37.712598",
     "status": "completed"
    },
    "tags": []
   },
   "outputs": [],
   "source": [
    "X_train = X_train/255.\n",
    "X_test = X_test/255."
   ]
  },
  {
   "cell_type": "markdown",
   "metadata": {
    "papermill": {
     "duration": 0.03137,
     "end_time": "2020-12-15T00:10:37.868459",
     "exception": false,
     "start_time": "2020-12-15T00:10:37.837089",
     "status": "completed"
    },
    "tags": []
   },
   "source": [
    "Setup the labels as 1 (when the digit is 3) and 0 (when the digit is 8)"
   ]
  },
  {
   "cell_type": "code",
   "execution_count": 11,
   "metadata": {
    "execution": {
     "iopub.execute_input": "2020-12-15T00:10:37.947618Z",
     "iopub.status.busy": "2020-12-15T00:10:37.946652Z",
     "iopub.status.idle": "2020-12-15T00:10:37.952439Z",
     "shell.execute_reply": "2020-12-15T00:10:37.951641Z"
    },
    "papermill": {
     "duration": 0.051734,
     "end_time": "2020-12-15T00:10:37.952559",
     "exception": false,
     "start_time": "2020-12-15T00:10:37.900825",
     "status": "completed"
    },
    "tags": []
   },
   "outputs": [],
   "source": [
    "y_train = 1*(y_train==3)\n",
    "y_test = 1*(y_test==3)"
   ]
  },
  {
   "cell_type": "code",
   "execution_count": 12,
   "metadata": {
    "execution": {
     "iopub.execute_input": "2020-12-15T00:10:38.013977Z",
     "iopub.status.busy": "2020-12-15T00:10:38.013121Z",
     "iopub.status.idle": "2020-12-15T00:10:38.022779Z",
     "shell.execute_reply": "2020-12-15T00:10:38.023374Z"
    },
    "papermill": {
     "duration": 0.043027,
     "end_time": "2020-12-15T00:10:38.023503",
     "exception": false,
     "start_time": "2020-12-15T00:10:37.980476",
     "status": "completed"
    },
    "tags": []
   },
   "outputs": [
    {
     "data": {
      "text/plain": [
       "((11982, 28, 28), (1984, 28, 28))"
      ]
     },
     "execution_count": 12,
     "metadata": {},
     "output_type": "execute_result"
    }
   ],
   "source": [
    "X_train.shape, X_test.shape"
   ]
  },
  {
   "cell_type": "markdown",
   "metadata": {
    "papermill": {
     "duration": 0.028974,
     "end_time": "2020-12-15T00:10:38.083655",
     "exception": false,
     "start_time": "2020-12-15T00:10:38.054681",
     "status": "completed"
    },
    "tags": []
   },
   "source": [
    "### Reshape the input data to create a linear array"
   ]
  },
  {
   "cell_type": "code",
   "execution_count": 13,
   "metadata": {
    "execution": {
     "iopub.execute_input": "2020-12-15T00:10:38.158286Z",
     "iopub.status.busy": "2020-12-15T00:10:38.152120Z",
     "iopub.status.idle": "2020-12-15T00:10:38.165532Z",
     "shell.execute_reply": "2020-12-15T00:10:38.166113Z"
    },
    "papermill": {
     "duration": 0.052363,
     "end_time": "2020-12-15T00:10:38.166249",
     "exception": false,
     "start_time": "2020-12-15T00:10:38.113886",
     "status": "completed"
    },
    "tags": []
   },
   "outputs": [
    {
     "data": {
      "text/plain": [
       "((11982, 784), (1984, 784))"
      ]
     },
     "execution_count": 13,
     "metadata": {},
     "output_type": "execute_result"
    }
   ],
   "source": [
    "X_train = X_train.reshape(X_train.shape[0], -1)\n",
    "X_test = X_test.reshape(X_test.shape[0], -1)\n",
    "X_train.shape, X_test.shape"
   ]
  },
  {
   "cell_type": "markdown",
   "metadata": {
    "papermill": {
     "duration": 0.027763,
     "end_time": "2020-12-15T00:10:38.222328",
     "exception": false,
     "start_time": "2020-12-15T00:10:38.194565",
     "status": "completed"
    },
    "tags": []
   },
   "source": [
    "### Importing appropriate functions from 'Kudzu'"
   ]
  },
  {
   "cell_type": "code",
   "execution_count": 14,
   "metadata": {
    "execution": {
     "iopub.execute_input": "2020-12-15T00:10:38.298414Z",
     "iopub.status.busy": "2020-12-15T00:10:38.291089Z",
     "iopub.status.idle": "2020-12-15T00:10:38.307932Z",
     "shell.execute_reply": "2020-12-15T00:10:38.307260Z"
    },
    "papermill": {
     "duration": 0.056657,
     "end_time": "2020-12-15T00:10:38.308070",
     "exception": false,
     "start_time": "2020-12-15T00:10:38.251413",
     "status": "completed"
    },
    "tags": []
   },
   "outputs": [],
   "source": [
    "from kudzu.layer import Sigmoid\n",
    "from kudzu.layer import Relu\n",
    "from kudzu.layer import Affine, Sigmoid\n",
    "\n",
    "from kudzu.model import Model\n",
    "from kudzu.train import Learner\n",
    "from kudzu.optim import GD\n",
    "from kudzu.data import Data, Dataloader, Sampler\n",
    "\n",
    "from kudzu.callbacks import AccCallback\n",
    "from kudzu.callbacks import ClfCallback\n",
    "\n",
    "from kudzu.loss import MSE"
   ]
  },
  {
   "cell_type": "markdown",
   "metadata": {
    "papermill": {
     "duration": 0.028568,
     "end_time": "2020-12-15T00:10:38.364887",
     "exception": false,
     "start_time": "2020-12-15T00:10:38.336319",
     "status": "completed"
    },
    "tags": []
   },
   "source": [
    "### Let us create a `Config` class, to store important parameters. \n",
    "This class essentially plays the role of a dictionary."
   ]
  },
  {
   "cell_type": "code",
   "execution_count": 15,
   "metadata": {
    "execution": {
     "iopub.execute_input": "2020-12-15T00:10:38.442745Z",
     "iopub.status.busy": "2020-12-15T00:10:38.442168Z",
     "iopub.status.idle": "2020-12-15T00:10:38.444283Z",
     "shell.execute_reply": "2020-12-15T00:10:38.444816Z"
    },
    "papermill": {
     "duration": 0.04972,
     "end_time": "2020-12-15T00:10:38.444959",
     "exception": false,
     "start_time": "2020-12-15T00:10:38.395239",
     "status": "completed"
    },
    "tags": []
   },
   "outputs": [],
   "source": [
    "class Config:\n",
    "    pass\n",
    "config = Config()\n",
    "config.lr = 0.001\n",
    "config.num_epochs = 251\n",
    "config.bs = 50"
   ]
  },
  {
   "cell_type": "markdown",
   "metadata": {
    "papermill": {
     "duration": 0.029564,
     "end_time": "2020-12-15T00:10:38.503497",
     "exception": false,
     "start_time": "2020-12-15T00:10:38.473933",
     "status": "completed"
    },
    "tags": []
   },
   "source": [
    "### Initializing data to the variables"
   ]
  },
  {
   "cell_type": "code",
   "execution_count": 16,
   "metadata": {
    "execution": {
     "iopub.execute_input": "2020-12-15T00:10:38.577719Z",
     "iopub.status.busy": "2020-12-15T00:10:38.569968Z",
     "iopub.status.idle": "2020-12-15T00:10:38.580952Z",
     "shell.execute_reply": "2020-12-15T00:10:38.580391Z"
    },
    "papermill": {
     "duration": 0.049571,
     "end_time": "2020-12-15T00:10:38.581072",
     "exception": false,
     "start_time": "2020-12-15T00:10:38.531501",
     "status": "completed"
    },
    "tags": []
   },
   "outputs": [],
   "source": [
    "data = Data(X_train, y_train.reshape(-1,1))\n",
    "sampler = Sampler(data, config.bs, shuffle=True)\n",
    "\n",
    "dl = Dataloader(data, sampler)\n",
    "\n",
    "opt = GD(config.lr)\n",
    "loss = MSE()"
   ]
  },
  {
   "cell_type": "code",
   "execution_count": 17,
   "metadata": {
    "execution": {
     "iopub.execute_input": "2020-12-15T00:10:38.645548Z",
     "iopub.status.busy": "2020-12-15T00:10:38.644903Z",
     "iopub.status.idle": "2020-12-15T00:10:38.657743Z",
     "shell.execute_reply": "2020-12-15T00:10:38.658299Z"
    },
    "papermill": {
     "duration": 0.047219,
     "end_time": "2020-12-15T00:10:38.658433",
     "exception": false,
     "start_time": "2020-12-15T00:10:38.611214",
     "status": "completed"
    },
    "tags": []
   },
   "outputs": [],
   "source": [
    "training_xdata = X_train\n",
    "testing_xdata = X_test\n",
    "training_ydata = y_train.reshape(-1,1)\n",
    "testing_ydata = y_test.reshape(-1,1)"
   ]
  },
  {
   "cell_type": "markdown",
   "metadata": {
    "papermill": {
     "duration": 0.028907,
     "end_time": "2020-12-15T00:10:38.715826",
     "exception": false,
     "start_time": "2020-12-15T00:10:38.686919",
     "status": "completed"
    },
    "tags": []
   },
   "source": [
    "### Running Models with the Training data\n",
    "Details about the network layers:\n",
    "- A first affine layer has 784 inputs and does 100 affine transforms. These are followed by a Relu\n",
    "- A second affine layer has 100 inputs from the 100 activations of the past layer, and does 100 affine transforms. These are followed by a Relu\n",
    "- A third affine layer has 100 activations and does 2 affine transformations to create an embedding for visualization. There is no non-linearity here.\n",
    "- A final \"logistic regression\" which has an affine transform from 2 inputs to 1 output, which is squeezed through a sigmoid.\n",
    "\n",
    "Help taken from Anshuman's Notebook."
   ]
  },
  {
   "cell_type": "code",
   "execution_count": 18,
   "metadata": {
    "execution": {
     "iopub.execute_input": "2020-12-15T00:10:38.795040Z",
     "iopub.status.busy": "2020-12-15T00:10:38.794431Z",
     "iopub.status.idle": "2020-12-15T00:10:38.797831Z",
     "shell.execute_reply": "2020-12-15T00:10:38.798285Z"
    },
    "papermill": {
     "duration": 0.054837,
     "end_time": "2020-12-15T00:10:38.798429",
     "exception": false,
     "start_time": "2020-12-15T00:10:38.743592",
     "status": "completed"
    },
    "tags": []
   },
   "outputs": [],
   "source": [
    "# layers for the Neural Network\n",
    "layers = [Affine(\"first\", 784, 100), Relu(\"first\"), Affine(\"second\", 100, 100), Relu(\"second\"), Affine(\"third\", 100, 2), Affine(\"final\", 2, 1), Sigmoid(\"final\")]\n",
    "model_nn = Model(layers)\n",
    "\n",
    "# layers for the Logistic Regression\n",
    "layers_lr = [Affine(\"logits\", 784, 1), Sigmoid(\"sigmoid\")]\n",
    "model_lr = Model(layers_lr)"
   ]
  },
  {
   "cell_type": "code",
   "execution_count": 19,
   "metadata": {
    "execution": {
     "iopub.execute_input": "2020-12-15T00:10:38.861536Z",
     "iopub.status.busy": "2020-12-15T00:10:38.860785Z",
     "iopub.status.idle": "2020-12-15T00:10:38.869938Z",
     "shell.execute_reply": "2020-12-15T00:10:38.870501Z"
    },
    "papermill": {
     "duration": 0.044312,
     "end_time": "2020-12-15T00:10:38.870629",
     "exception": false,
     "start_time": "2020-12-15T00:10:38.826317",
     "status": "completed"
    },
    "tags": []
   },
   "outputs": [],
   "source": [
    "# suffix _nn stands for Neural Network.\n",
    "learner_nn = Learner(loss, model_nn, opt, config.num_epochs)\n",
    "acc_nn = ClfCallback(learner_nn, config.bs, training_xdata , testing_xdata, training_ydata, testing_ydata)\n",
    "learner_nn.set_callbacks([acc_nn])"
   ]
  },
  {
   "cell_type": "code",
   "execution_count": 20,
   "metadata": {
    "execution": {
     "iopub.execute_input": "2020-12-15T00:10:38.930479Z",
     "iopub.status.busy": "2020-12-15T00:10:38.929902Z",
     "iopub.status.idle": "2020-12-15T00:12:36.104853Z",
     "shell.execute_reply": "2020-12-15T00:12:36.105591Z"
    },
    "papermill": {
     "duration": 117.206731,
     "end_time": "2020-12-15T00:12:36.105850",
     "exception": false,
     "start_time": "2020-12-15T00:10:38.899119",
     "status": "completed"
    },
    "tags": []
   },
   "outputs": [
    {
     "name": "stdout",
     "output_type": "stream",
     "text": [
      "====== Neural Network ======\n"
     ]
    },
    {
     "name": "stdout",
     "output_type": "stream",
     "text": [
      "Epoch 0, Loss 0.2481\n",
      "Training Accuracy: 0.5899, Testing Accuracy: 0.5932\n",
      "\n"
     ]
    },
    {
     "name": "stdout",
     "output_type": "stream",
     "text": [
      "Epoch 10, Loss 0.1502\n",
      "Training Accuracy: 0.9097, Testing Accuracy: 0.9264\n",
      "\n"
     ]
    },
    {
     "name": "stdout",
     "output_type": "stream",
     "text": [
      "Epoch 20, Loss 0.0752\n",
      "Training Accuracy: 0.9303, Testing Accuracy: 0.9430\n",
      "\n"
     ]
    },
    {
     "name": "stdout",
     "output_type": "stream",
     "text": [
      "Epoch 30, Loss 0.0532\n",
      "Training Accuracy: 0.9448, Testing Accuracy: 0.9556\n",
      "\n"
     ]
    },
    {
     "name": "stdout",
     "output_type": "stream",
     "text": [
      "Epoch 40, Loss 0.0437\n",
      "Training Accuracy: 0.9518, Testing Accuracy: 0.9617\n",
      "\n"
     ]
    },
    {
     "name": "stdout",
     "output_type": "stream",
     "text": [
      "Epoch 50, Loss 0.0384\n",
      "Training Accuracy: 0.9573, Testing Accuracy: 0.9647\n",
      "\n"
     ]
    },
    {
     "name": "stdout",
     "output_type": "stream",
     "text": [
      "Epoch 60, Loss 0.0351\n",
      "Training Accuracy: 0.9602, Testing Accuracy: 0.9657\n",
      "\n"
     ]
    },
    {
     "name": "stdout",
     "output_type": "stream",
     "text": [
      "Epoch 70, Loss 0.0327\n",
      "Training Accuracy: 0.9626, Testing Accuracy: 0.9682\n",
      "\n"
     ]
    },
    {
     "name": "stdout",
     "output_type": "stream",
     "text": [
      "Epoch 80, Loss 0.0308\n",
      "Training Accuracy: 0.9643, Testing Accuracy: 0.9698\n",
      "\n"
     ]
    },
    {
     "name": "stdout",
     "output_type": "stream",
     "text": [
      "Epoch 90, Loss 0.0294\n",
      "Training Accuracy: 0.9666, Testing Accuracy: 0.9698\n",
      "\n"
     ]
    },
    {
     "name": "stdout",
     "output_type": "stream",
     "text": [
      "Epoch 100, Loss 0.0281\n",
      "Training Accuracy: 0.9680, Testing Accuracy: 0.9718\n",
      "\n"
     ]
    },
    {
     "name": "stdout",
     "output_type": "stream",
     "text": [
      "Epoch 110, Loss 0.0271\n",
      "Training Accuracy: 0.9693, Testing Accuracy: 0.9723\n",
      "\n"
     ]
    },
    {
     "name": "stdout",
     "output_type": "stream",
     "text": [
      "Epoch 120, Loss 0.0262\n",
      "Training Accuracy: 0.9705, Testing Accuracy: 0.9723\n",
      "\n"
     ]
    },
    {
     "name": "stdout",
     "output_type": "stream",
     "text": [
      "Epoch 130, Loss 0.0254\n",
      "Training Accuracy: 0.9710, Testing Accuracy: 0.9733\n",
      "\n"
     ]
    },
    {
     "name": "stdout",
     "output_type": "stream",
     "text": [
      "Epoch 140, Loss 0.0246\n",
      "Training Accuracy: 0.9716, Testing Accuracy: 0.9723\n",
      "\n"
     ]
    },
    {
     "name": "stdout",
     "output_type": "stream",
     "text": [
      "Epoch 150, Loss 0.024\n",
      "Training Accuracy: 0.9724, Testing Accuracy: 0.9728\n",
      "\n"
     ]
    },
    {
     "name": "stdout",
     "output_type": "stream",
     "text": [
      "Epoch 160, Loss 0.0234\n",
      "Training Accuracy: 0.9729, Testing Accuracy: 0.9723\n",
      "\n"
     ]
    },
    {
     "name": "stdout",
     "output_type": "stream",
     "text": [
      "Epoch 170, Loss 0.0228\n",
      "Training Accuracy: 0.9741, Testing Accuracy: 0.9718\n",
      "\n"
     ]
    },
    {
     "name": "stdout",
     "output_type": "stream",
     "text": [
      "Epoch 180, Loss 0.0223\n",
      "Training Accuracy: 0.9750, Testing Accuracy: 0.9728\n",
      "\n"
     ]
    },
    {
     "name": "stdout",
     "output_type": "stream",
     "text": [
      "Epoch 190, Loss 0.0218\n",
      "Training Accuracy: 0.9760, Testing Accuracy: 0.9723\n",
      "\n"
     ]
    },
    {
     "name": "stdout",
     "output_type": "stream",
     "text": [
      "Epoch 200, Loss 0.0213\n",
      "Training Accuracy: 0.9765, Testing Accuracy: 0.9723\n",
      "\n"
     ]
    },
    {
     "name": "stdout",
     "output_type": "stream",
     "text": [
      "Epoch 210, Loss 0.0209\n",
      "Training Accuracy: 0.9770, Testing Accuracy: 0.9733\n",
      "\n"
     ]
    },
    {
     "name": "stdout",
     "output_type": "stream",
     "text": [
      "Epoch 220, Loss 0.0205\n",
      "Training Accuracy: 0.9776, Testing Accuracy: 0.9743\n",
      "\n"
     ]
    },
    {
     "name": "stdout",
     "output_type": "stream",
     "text": [
      "Epoch 230, Loss 0.0201\n",
      "Training Accuracy: 0.9780, Testing Accuracy: 0.9738\n",
      "\n"
     ]
    },
    {
     "name": "stdout",
     "output_type": "stream",
     "text": [
      "Epoch 240, Loss 0.0197\n",
      "Training Accuracy: 0.9786, Testing Accuracy: 0.9738\n",
      "\n"
     ]
    },
    {
     "name": "stdout",
     "output_type": "stream",
     "text": [
      "Epoch 250, Loss 0.0193\n",
      "Training Accuracy: 0.9791, Testing Accuracy: 0.9738\n",
      "\n"
     ]
    },
    {
     "data": {
      "text/plain": [
       "0.029859594554358358"
      ]
     },
     "execution_count": 20,
     "metadata": {},
     "output_type": "execute_result"
    }
   ],
   "source": [
    "print(\"====== Neural Network ======\")\n",
    "learner_nn.train_loop(dl)"
   ]
  },
  {
   "cell_type": "markdown",
   "metadata": {
    "papermill": {
     "duration": 0.041037,
     "end_time": "2020-12-15T00:12:36.186428",
     "exception": false,
     "start_time": "2020-12-15T00:12:36.145391",
     "status": "completed"
    },
    "tags": []
   },
   "source": [
    "### Logistic Regression based Implementation."
   ]
  },
  {
   "cell_type": "code",
   "execution_count": 21,
   "metadata": {
    "execution": {
     "iopub.execute_input": "2020-12-15T00:12:36.276851Z",
     "iopub.status.busy": "2020-12-15T00:12:36.274240Z",
     "iopub.status.idle": "2020-12-15T00:12:36.286366Z",
     "shell.execute_reply": "2020-12-15T00:12:36.286805Z"
    },
    "papermill": {
     "duration": 0.059018,
     "end_time": "2020-12-15T00:12:36.286945",
     "exception": false,
     "start_time": "2020-12-15T00:12:36.227927",
     "status": "completed"
    },
    "tags": []
   },
   "outputs": [],
   "source": [
    "learner_lr = Learner(loss, model_lr, opt, config.num_epochs)\n",
    "acc_lr = ClfCallback(learner_lr, config.bs, training_xdata , testing_xdata, training_ydata, testing_ydata)\n",
    "learner_lr.set_callbacks([acc_lr])"
   ]
  },
  {
   "cell_type": "code",
   "execution_count": 22,
   "metadata": {
    "execution": {
     "iopub.execute_input": "2020-12-15T00:12:36.369039Z",
     "iopub.status.busy": "2020-12-15T00:12:36.368433Z",
     "iopub.status.idle": "2020-12-15T00:12:53.747955Z",
     "shell.execute_reply": "2020-12-15T00:12:53.748815Z"
    },
    "papermill": {
     "duration": 17.421626,
     "end_time": "2020-12-15T00:12:53.748986",
     "exception": false,
     "start_time": "2020-12-15T00:12:36.327360",
     "status": "completed"
    },
    "tags": []
   },
   "outputs": [
    {
     "name": "stdout",
     "output_type": "stream",
     "text": [
      "====== Logistic Regression ======\n",
      "Epoch 0, Loss 0.2542\n",
      "Training Accuracy: 0.6386, Testing Accuracy: 0.6431\n",
      "\n"
     ]
    },
    {
     "name": "stdout",
     "output_type": "stream",
     "text": [
      "Epoch 10, Loss 0.0999\n",
      "Training Accuracy: 0.9208, Testing Accuracy: 0.9299\n",
      "\n"
     ]
    },
    {
     "name": "stdout",
     "output_type": "stream",
     "text": [
      "Epoch 20, Loss 0.077\n",
      "Training Accuracy: 0.9326, Testing Accuracy: 0.9446\n",
      "\n"
     ]
    },
    {
     "name": "stdout",
     "output_type": "stream",
     "text": [
      "Epoch 30, Loss 0.0667\n",
      "Training Accuracy: 0.9397, Testing Accuracy: 0.9526\n",
      "\n"
     ]
    },
    {
     "name": "stdout",
     "output_type": "stream",
     "text": [
      "Epoch 40, Loss 0.0605\n",
      "Training Accuracy: 0.9426, Testing Accuracy: 0.9541\n",
      "\n"
     ]
    },
    {
     "name": "stdout",
     "output_type": "stream",
     "text": [
      "Epoch 50, Loss 0.0563\n",
      "Training Accuracy: 0.9450, Testing Accuracy: 0.9556\n",
      "\n"
     ]
    },
    {
     "name": "stdout",
     "output_type": "stream",
     "text": [
      "Epoch 60, Loss 0.0532\n",
      "Training Accuracy: 0.9473, Testing Accuracy: 0.9597\n",
      "\n"
     ]
    },
    {
     "name": "stdout",
     "output_type": "stream",
     "text": [
      "Epoch 70, Loss 0.0507\n",
      "Training Accuracy: 0.9497, Testing Accuracy: 0.9607\n",
      "\n"
     ]
    },
    {
     "name": "stdout",
     "output_type": "stream",
     "text": [
      "Epoch 80, Loss 0.0488\n",
      "Training Accuracy: 0.9519, Testing Accuracy: 0.9612\n",
      "\n"
     ]
    },
    {
     "name": "stdout",
     "output_type": "stream",
     "text": [
      "Epoch 90, Loss 0.0472\n",
      "Training Accuracy: 0.9527, Testing Accuracy: 0.9617\n",
      "\n"
     ]
    },
    {
     "name": "stdout",
     "output_type": "stream",
     "text": [
      "Epoch 100, Loss 0.0458\n",
      "Training Accuracy: 0.9538, Testing Accuracy: 0.9617\n",
      "\n"
     ]
    },
    {
     "name": "stdout",
     "output_type": "stream",
     "text": [
      "Epoch 110, Loss 0.0446\n",
      "Training Accuracy: 0.9544, Testing Accuracy: 0.9617\n",
      "\n"
     ]
    },
    {
     "name": "stdout",
     "output_type": "stream",
     "text": [
      "Epoch 120, Loss 0.0436\n",
      "Training Accuracy: 0.9552, Testing Accuracy: 0.9622\n",
      "\n"
     ]
    },
    {
     "name": "stdout",
     "output_type": "stream",
     "text": [
      "Epoch 130, Loss 0.0427\n",
      "Training Accuracy: 0.9559, Testing Accuracy: 0.9647\n",
      "\n"
     ]
    },
    {
     "name": "stdout",
     "output_type": "stream",
     "text": [
      "Epoch 140, Loss 0.0419\n",
      "Training Accuracy: 0.9566, Testing Accuracy: 0.9657\n",
      "\n"
     ]
    },
    {
     "name": "stdout",
     "output_type": "stream",
     "text": [
      "Epoch 150, Loss 0.0411\n",
      "Training Accuracy: 0.9573, Testing Accuracy: 0.9657\n",
      "\n"
     ]
    },
    {
     "name": "stdout",
     "output_type": "stream",
     "text": [
      "Epoch 160, Loss 0.0405\n",
      "Training Accuracy: 0.9580, Testing Accuracy: 0.9662\n",
      "\n"
     ]
    },
    {
     "name": "stdout",
     "output_type": "stream",
     "text": [
      "Epoch 170, Loss 0.0399\n",
      "Training Accuracy: 0.9583, Testing Accuracy: 0.9667\n",
      "\n"
     ]
    },
    {
     "name": "stdout",
     "output_type": "stream",
     "text": [
      "Epoch 180, Loss 0.0393\n",
      "Training Accuracy: 0.9588, Testing Accuracy: 0.9667\n",
      "\n"
     ]
    },
    {
     "name": "stdout",
     "output_type": "stream",
     "text": [
      "Epoch 190, Loss 0.0388\n",
      "Training Accuracy: 0.9594, Testing Accuracy: 0.9667\n",
      "\n"
     ]
    },
    {
     "name": "stdout",
     "output_type": "stream",
     "text": [
      "Epoch 200, Loss 0.0384\n",
      "Training Accuracy: 0.9596, Testing Accuracy: 0.9672\n",
      "\n"
     ]
    },
    {
     "name": "stdout",
     "output_type": "stream",
     "text": [
      "Epoch 210, Loss 0.0379\n",
      "Training Accuracy: 0.9598, Testing Accuracy: 0.9682\n",
      "\n"
     ]
    },
    {
     "name": "stdout",
     "output_type": "stream",
     "text": [
      "Epoch 220, Loss 0.0375\n",
      "Training Accuracy: 0.9604, Testing Accuracy: 0.9677\n",
      "\n"
     ]
    },
    {
     "name": "stdout",
     "output_type": "stream",
     "text": [
      "Epoch 230, Loss 0.0371\n",
      "Training Accuracy: 0.9607, Testing Accuracy: 0.9682\n",
      "\n"
     ]
    },
    {
     "name": "stdout",
     "output_type": "stream",
     "text": [
      "Epoch 240, Loss 0.0368\n",
      "Training Accuracy: 0.9611, Testing Accuracy: 0.9693\n",
      "\n"
     ]
    },
    {
     "name": "stdout",
     "output_type": "stream",
     "text": [
      "Epoch 250, Loss 0.0365\n",
      "Training Accuracy: 0.9615, Testing Accuracy: 0.9698\n",
      "\n"
     ]
    },
    {
     "data": {
      "text/plain": [
       "0.0820799458328085"
      ]
     },
     "execution_count": 22,
     "metadata": {},
     "output_type": "execute_result"
    }
   ],
   "source": [
    "print(\"====== Logistic Regression ======\")\n",
    "learner_lr.train_loop(dl)"
   ]
  },
  {
   "cell_type": "markdown",
   "metadata": {
    "papermill": {
     "duration": 0.048799,
     "end_time": "2020-12-15T00:12:53.847538",
     "exception": false,
     "start_time": "2020-12-15T00:12:53.798739",
     "status": "completed"
    },
    "tags": []
   },
   "source": [
    "### Comparing results of NN and LR"
   ]
  },
  {
   "cell_type": "code",
   "execution_count": 23,
   "metadata": {
    "execution": {
     "iopub.execute_input": "2020-12-15T00:12:53.952448Z",
     "iopub.status.busy": "2020-12-15T00:12:53.951127Z",
     "iopub.status.idle": "2020-12-15T00:12:54.210276Z",
     "shell.execute_reply": "2020-12-15T00:12:54.209771Z"
    },
    "papermill": {
     "duration": 0.313746,
     "end_time": "2020-12-15T00:12:54.210410",
     "exception": false,
     "start_time": "2020-12-15T00:12:53.896664",
     "status": "completed"
    },
    "tags": []
   },
   "outputs": [
    {
     "data": {
      "text/plain": [
       "<matplotlib.legend.Legend at 0x7fdf2646bb38>"
      ]
     },
     "execution_count": 23,
     "metadata": {},
     "output_type": "execute_result"
    },
    {
     "data": {
      "image/png": "[encoded data removed]",
      "text/plain": [
       "<Figure size 1080x720 with 1 Axes>"
      ]
     },
     "metadata": {
      "needs_background": "light"
     },
     "output_type": "display_data"
    }
   ],
   "source": [
    "plt.figure(figsize=(15,10))\n",
    "\n",
    "# Neural Network plots\n",
    "plt.plot(acc_nn.accuracies, 'r-', label = \"Training Accuracies - NN\")\n",
    "plt.plot(acc_nn.test_accuracies, 'g-', label = \"Testing Accuracies - NN\")\n",
    "\n",
    "# Logistic Regression plots\n",
    "plt.plot(acc_lr.accuracies, 'k-', label = \"Training Accuracies - LR\")\n",
    "plt.plot(acc_lr.test_accuracies, 'b-', label = \"Testing Accuracies - LR\")\n",
    "\n",
    "plt.ylim(0.8, 1)\n",
    "\n",
    "plt.legend()\n",
    "\n"
   ]
  },
  {
   "cell_type": "markdown",
   "metadata": {
    "papermill": {
     "duration": 0.046315,
     "end_time": "2020-12-15T00:12:54.304234",
     "exception": false,
     "start_time": "2020-12-15T00:12:54.257919",
     "status": "completed"
    },
    "tags": []
   },
   "source": [
    "### From the plot, we can observe the following:\n",
    "- Neural Network achieves higher accuracy than the Logistic Regression model.\n",
    "- This apparently, is because of overfitting, i.e. NN captures more noise than data.\n",
    "- Testing accuracy of NN drops below the Training accuracy at higher epochs. This explains the over-fitting on training data.\n",
    "- Logistic Regression gives a reliable accuracy, without the above mentioned problem.\n"
   ]
  },
  {
   "cell_type": "markdown",
   "metadata": {
    "papermill": {
     "duration": 0.047013,
     "end_time": "2020-12-15T00:12:54.399093",
     "exception": false,
     "start_time": "2020-12-15T00:12:54.352080",
     "status": "completed"
    },
    "tags": []
   },
   "source": [
    "### Moving till the last but one layer (excluding it).\n",
    "#### Plotting the outputs of this layer of the NN."
   ]
  },
  {
   "cell_type": "code",
   "execution_count": 24,
   "metadata": {
    "execution": {
     "iopub.execute_input": "2020-12-15T00:12:54.512642Z",
     "iopub.status.busy": "2020-12-15T00:12:54.512023Z",
     "iopub.status.idle": "2020-12-15T00:12:54.513845Z",
     "shell.execute_reply": "2020-12-15T00:12:54.514320Z"
    },
    "papermill": {
     "duration": 0.067733,
     "end_time": "2020-12-15T00:12:54.514470",
     "exception": false,
     "start_time": "2020-12-15T00:12:54.446737",
     "status": "completed"
    },
    "tags": []
   },
   "outputs": [],
   "source": [
    "model_new = Model(layers[:-2])"
   ]
  },
  {
   "cell_type": "code",
   "execution_count": 25,
   "metadata": {
    "execution": {
     "iopub.execute_input": "2020-12-15T00:12:54.624019Z",
     "iopub.status.busy": "2020-12-15T00:12:54.621339Z",
     "iopub.status.idle": "2020-12-15T00:12:54.645674Z",
     "shell.execute_reply": "2020-12-15T00:12:54.646196Z"
    },
    "papermill": {
     "duration": 0.080778,
     "end_time": "2020-12-15T00:12:54.646366",
     "exception": false,
     "start_time": "2020-12-15T00:12:54.565588",
     "status": "completed"
    },
    "tags": []
   },
   "outputs": [],
   "source": [
    "plot_testing = model_new(testing_xdata)"
   ]
  },
  {
   "cell_type": "code",
   "execution_count": 26,
   "metadata": {
    "execution": {
     "iopub.execute_input": "2020-12-15T00:12:54.746840Z",
     "iopub.status.busy": "2020-12-15T00:12:54.746171Z",
     "iopub.status.idle": "2020-12-15T00:12:54.946688Z",
     "shell.execute_reply": "2020-12-15T00:12:54.947169Z"
    },
    "papermill": {
     "duration": 0.252362,
     "end_time": "2020-12-15T00:12:54.947329",
     "exception": false,
     "start_time": "2020-12-15T00:12:54.694967",
     "status": "completed"
    },
    "tags": []
   },
   "outputs": [
    {
     "data": {
      "text/plain": [
       "Text(0.5, 1.0, 'Outputs')"
      ]
     },
     "execution_count": 26,
     "metadata": {},
     "output_type": "execute_result"
    },
    {
     "data": {
      "image/png": "[encoded data removed]",
      "text/plain": [
       "<Figure size 576x504 with 1 Axes>"
      ]
     },
     "metadata": {
      "needs_background": "light"
     },
     "output_type": "display_data"
    }
   ],
   "source": [
    "plt.figure(figsize=(8,7))\n",
    "plt.scatter(plot_testing[:,0], plot_testing[:,1], alpha = 0.1, c = y_test.ravel());\n",
    "plt.title('Outputs')"
   ]
  },
  {
   "cell_type": "markdown",
   "metadata": {
    "papermill": {
     "duration": 0.050587,
     "end_time": "2020-12-15T00:12:55.045911",
     "exception": false,
     "start_time": "2020-12-15T00:12:54.995324",
     "status": "completed"
    },
    "tags": []
   },
   "source": [
    "### Plotting probability contours"
   ]
  },
  {
   "cell_type": "code",
   "execution_count": 27,
   "metadata": {
    "execution": {
     "iopub.execute_input": "2020-12-15T00:12:55.160631Z",
     "iopub.status.busy": "2020-12-15T00:12:55.159799Z",
     "iopub.status.idle": "2020-12-15T00:12:55.163665Z",
     "shell.execute_reply": "2020-12-15T00:12:55.164138Z"
    },
    "papermill": {
     "duration": 0.070135,
     "end_time": "2020-12-15T00:12:55.164274",
     "exception": false,
     "start_time": "2020-12-15T00:12:55.094139",
     "status": "completed"
    },
    "tags": []
   },
   "outputs": [],
   "source": [
    "model_prob = Model(layers[-2:]) "
   ]
  },
  {
   "cell_type": "code",
   "execution_count": 28,
   "metadata": {
    "execution": {
     "iopub.execute_input": "2020-12-15T00:12:55.276188Z",
     "iopub.status.busy": "2020-12-15T00:12:55.264368Z",
     "iopub.status.idle": "2020-12-15T00:12:55.280693Z",
     "shell.execute_reply": "2020-12-15T00:12:55.281375Z"
    },
    "papermill": {
     "duration": 0.068709,
     "end_time": "2020-12-15T00:12:55.281548",
     "exception": false,
     "start_time": "2020-12-15T00:12:55.212839",
     "status": "completed"
    },
    "tags": []
   },
   "outputs": [],
   "source": [
    "# Adjust the x and y ranges according to the above generated plot.\n",
    "x_range = np.linspace(-4, 1, 100) \n",
    "y_range = np.linspace(-6, 6, 100) \n",
    "x_grid, y_grid = np.meshgrid(x_range, y_range) # x_grid and y_grig are of size 100 X 100\n",
    "\n",
    "# converting x_grid and y_grid to continuous arrays\n",
    "x_grid_flat = np.ravel(x_grid)\n",
    "y_grid_flat = np.ravel(y_grid)\n",
    "\n",
    "# The last layer of the current model takes two columns as input. Hence transpose of np.vstack() is required.\n",
    "X = np.vstack((x_grid_flat, y_grid_flat)).T\n",
    "\n",
    "# x_grid and y_grid are of size 100 x 100\n",
    "probability_contour = model_prob(X).reshape(100,100) "
   ]
  },
  {
   "cell_type": "code",
   "execution_count": 29,
   "metadata": {
    "execution": {
     "iopub.execute_input": "2020-12-15T00:12:55.404420Z",
     "iopub.status.busy": "2020-12-15T00:12:55.403826Z",
     "iopub.status.idle": "2020-12-15T00:12:55.668959Z",
     "shell.execute_reply": "2020-12-15T00:12:55.668090Z"
    },
    "papermill": {
     "duration": 0.337776,
     "end_time": "2020-12-15T00:12:55.669104",
     "exception": false,
     "start_time": "2020-12-15T00:12:55.331328",
     "status": "completed"
    },
    "tags": []
   },
   "outputs": [
    {
     "data": {
      "image/png": "[encoded data removed]",
      "text/plain": [
       "<Figure size 720x648 with 1 Axes>"
      ]
     },
     "metadata": {
      "needs_background": "light"
     },
     "output_type": "display_data"
    }
   ],
   "source": [
    "plt.figure(figsize=(10,9))\n",
    "plt.scatter(plot_testing[:,0], plot_testing[:,1], alpha = 0.1, c = y_test.ravel())\n",
    "contours = plt.contour(x_grid,y_grid,probability_contour)\n",
    "plt.title('Probability Contours')\n",
    "plt.clabel(contours, inline = True );"
   ]
  }
 ],
 "metadata": {
  "kernelspec": {
   "display_name": "Python 3",
   "language": "python",
   "name": "python3"
  },
  "language_info": {
   "codemirror_mode": {
    "name": "ipython",
    "version": 3
   },
   "file_extension": ".py",
   "mimetype": "text/x-python",
   "name": "python",
   "nbconvert_exporter": "python",
   "pygments_lexer": "ipython3",
   "version": "3.6.12"
  },
  "papermill": {
   "duration": 144.369882,
   "end_time": "2020-12-15T00:12:56.933727",
   "environment_variables": {},
   "exception": null,
   "input_path": "2020-08-11-NeuralNetwork.ipynb",
   "output_path": "2020-08-11-NeuralNetwork.ipynb",
   "parameters": {},
   "start_time": "2020-12-15T00:10:32.563845",
   "version": "2.1.2"
  }
 },
 "nbformat": 4,
 "nbformat_minor": 4
}