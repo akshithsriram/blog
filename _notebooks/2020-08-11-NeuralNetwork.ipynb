{
 "cells": [
  {
   "cell_type": "markdown",
   "metadata": {
    "papermill": {
     "duration": 0.032864,
     "end_time": "2020-12-17T20:05:00.212374",
     "exception": false,
     "start_time": "2020-12-17T20:05:00.179510",
     "status": "completed"
    },
    "tags": []
   },
   "source": [
    "# \"A Basic Neural Network: Differentiate Hand-Written Digits\"\n",
    "\n",
    "- badges: true\n",
    "- author: Akshith Sriram"
   ]
  },
  {
   "cell_type": "markdown",
   "metadata": {
    "papermill": {
     "duration": 0.028392,
     "end_time": "2020-12-17T20:05:00.270205",
     "exception": false,
     "start_time": "2020-12-17T20:05:00.241813",
     "status": "completed"
    },
    "tags": []
   },
   "source": [
    "### Key Objectives:\n",
    "- Building a neural network that differentiates two hand-written digits 3 and 8.\n",
    "- Comparing the results of this Neural Network (NN) to that of a Logistic Regression (LR) model.\n",
    "\n",
    "### Requirements:\n",
    "- 'Kudzu' : A neural network library that was designed during our course by [Univ.AI](www.univ.ai). \n",
    "- MNIST Database\n",
    "\n",
    "If MNIST is not installed, use the command `!pip install mnist` given below.\n",
    "It can be run both from the command line and Jupyter Notebook."
   ]
  },
  {
   "cell_type": "code",
   "execution_count": 1,
   "metadata": {
    "execution": {
     "iopub.execute_input": "2020-12-17T20:05:00.339242Z",
     "iopub.status.busy": "2020-12-17T20:05:00.338535Z",
     "iopub.status.idle": "2020-12-17T20:05:02.084236Z",
     "shell.execute_reply": "2020-12-17T20:05:02.084937Z"
    },
    "papermill": {
     "duration": 1.784498,
     "end_time": "2020-12-17T20:05:02.085140",
     "exception": false,
     "start_time": "2020-12-17T20:05:00.300642",
     "status": "completed"
    },
    "tags": []
   },
   "outputs": [
    {
     "name": "stdout",
     "output_type": "stream",
     "text": [
      "Collecting mnist\r\n"
     ]
    },
    {
     "name": "stdout",
     "output_type": "stream",
     "text": [
      "  Downloading mnist-0.2.2-py2.py3-none-any.whl (3.5 kB)\r\n",
      "Requirement already satisfied: numpy in /opt/hostedtoolcache/Python/3.6.12/x64/lib/python3.6/site-packages (from mnist) (1.19.4)\r\n"
     ]
    },
    {
     "name": "stdout",
     "output_type": "stream",
     "text": [
      "Installing collected packages: mnist\r\n",
      "Successfully installed mnist-0.2.2\r\n"
     ]
    },
    {
     "name": "stdout",
     "output_type": "stream",
     "text": [
      "\u001b[33mWARNING: You are using pip version 20.3.1; however, version 20.3.3 is available.\r\n",
      "You should consider upgrading via the '/opt/hostedtoolcache/Python/3.6.12/x64/bin/python -m pip install --upgrade pip' command.\u001b[0m\r\n"
     ]
    }
   ],
   "source": [
    "!pip install mnist "
   ]
  },
  {
   "cell_type": "markdown",
   "metadata": {
    "papermill": {
     "duration": 0.048908,
     "end_time": "2020-12-17T20:05:02.193214",
     "exception": false,
     "start_time": "2020-12-17T20:05:02.144306",
     "status": "completed"
    },
    "tags": []
   },
   "source": [
    "#### Importing necessary libraries"
   ]
  },
  {
   "cell_type": "code",
   "execution_count": 2,
   "metadata": {
    "execution": {
     "iopub.execute_input": "2020-12-17T20:05:02.263099Z",
     "iopub.status.busy": "2020-12-17T20:05:02.262326Z",
     "iopub.status.idle": "2020-12-17T20:05:02.954949Z",
     "shell.execute_reply": "2020-12-17T20:05:02.954377Z"
    },
    "papermill": {
     "duration": 0.731736,
     "end_time": "2020-12-17T20:05:02.955107",
     "exception": false,
     "start_time": "2020-12-17T20:05:02.223371",
     "status": "completed"
    },
    "tags": []
   },
   "outputs": [],
   "source": [
    "%load_ext autoreload\n",
    "%autoreload 2\n",
    "\n",
    "%matplotlib inline\n",
    "import matplotlib.pyplot as plt\n",
    "\n",
    "import numpy as np\n",
    "import pandas as pd"
   ]
  },
  {
   "cell_type": "markdown",
   "metadata": {
    "papermill": {
     "duration": 0.033653,
     "end_time": "2020-12-17T20:05:03.019783",
     "exception": false,
     "start_time": "2020-12-17T20:05:02.986130",
     "status": "completed"
    },
    "tags": []
   },
   "source": [
    "### Preparing the Data"
   ]
  },
  {
   "cell_type": "code",
   "execution_count": 3,
   "metadata": {
    "execution": {
     "iopub.execute_input": "2020-12-17T20:05:03.085023Z",
     "iopub.status.busy": "2020-12-17T20:05:03.084285Z",
     "iopub.status.idle": "2020-12-17T20:05:03.102227Z",
     "shell.execute_reply": "2020-12-17T20:05:03.101654Z"
    },
    "papermill": {
     "duration": 0.05231,
     "end_time": "2020-12-17T20:05:03.102379",
     "exception": false,
     "start_time": "2020-12-17T20:05:03.050069",
     "status": "completed"
    },
    "tags": []
   },
   "outputs": [],
   "source": [
    "import mnist"
   ]
  },
  {
   "cell_type": "code",
   "execution_count": 4,
   "metadata": {
    "execution": {
     "iopub.execute_input": "2020-12-17T20:05:03.165905Z",
     "iopub.status.busy": "2020-12-17T20:05:03.165220Z",
     "iopub.status.idle": "2020-12-17T20:05:03.946605Z",
     "shell.execute_reply": "2020-12-17T20:05:03.947169Z"
    },
    "papermill": {
     "duration": 0.815284,
     "end_time": "2020-12-17T20:05:03.947350",
     "exception": false,
     "start_time": "2020-12-17T20:05:03.132066",
     "status": "completed"
    },
    "tags": []
   },
   "outputs": [],
   "source": [
    "train_images = mnist.train_images()\n",
    "train_labels = mnist.train_labels()"
   ]
  },
  {
   "cell_type": "code",
   "execution_count": 5,
   "metadata": {
    "execution": {
     "iopub.execute_input": "2020-12-17T20:05:04.026957Z",
     "iopub.status.busy": "2020-12-17T20:05:04.026247Z",
     "iopub.status.idle": "2020-12-17T20:05:04.046741Z",
     "shell.execute_reply": "2020-12-17T20:05:04.047274Z"
    },
    "papermill": {
     "duration": 0.067098,
     "end_time": "2020-12-17T20:05:04.047466",
     "exception": false,
     "start_time": "2020-12-17T20:05:03.980368",
     "status": "completed"
    },
    "tags": []
   },
   "outputs": [
    {
     "data": {
      "text/plain": [
       "((60000, 28, 28), (60000,))"
      ]
     },
     "execution_count": 5,
     "metadata": {},
     "output_type": "execute_result"
    }
   ],
   "source": [
    "train_images.shape, train_labels.shape"
   ]
  },
  {
   "cell_type": "code",
   "execution_count": 6,
   "metadata": {
    "execution": {
     "iopub.execute_input": "2020-12-17T20:05:04.425282Z",
     "iopub.status.busy": "2020-12-17T20:05:04.422857Z",
     "iopub.status.idle": "2020-12-17T20:05:04.738656Z",
     "shell.execute_reply": "2020-12-17T20:05:04.737715Z"
    },
    "papermill": {
     "duration": 0.656253,
     "end_time": "2020-12-17T20:05:04.738810",
     "exception": false,
     "start_time": "2020-12-17T20:05:04.082557",
     "status": "completed"
    },
    "tags": []
   },
   "outputs": [],
   "source": [
    "test_images = mnist.test_images()\n",
    "test_labels = mnist.test_labels()"
   ]
  },
  {
   "cell_type": "code",
   "execution_count": 7,
   "metadata": {
    "execution": {
     "iopub.execute_input": "2020-12-17T20:05:04.808225Z",
     "iopub.status.busy": "2020-12-17T20:05:04.802015Z",
     "iopub.status.idle": "2020-12-17T20:05:04.817961Z",
     "shell.execute_reply": "2020-12-17T20:05:04.817155Z"
    },
    "papermill": {
     "duration": 0.04955,
     "end_time": "2020-12-17T20:05:04.818105",
     "exception": false,
     "start_time": "2020-12-17T20:05:04.768555",
     "status": "completed"
    },
    "tags": []
   },
   "outputs": [
    {
     "data": {
      "text/plain": [
       "((10000, 28, 28), (10000,))"
      ]
     },
     "execution_count": 7,
     "metadata": {},
     "output_type": "execute_result"
    }
   ],
   "source": [
    "test_images.shape, test_labels.shape"
   ]
  },
  {
   "cell_type": "code",
   "execution_count": 8,
   "metadata": {
    "execution": {
     "iopub.execute_input": "2020-12-17T20:05:04.890307Z",
     "iopub.status.busy": "2020-12-17T20:05:04.889586Z",
     "iopub.status.idle": "2020-12-17T20:05:05.077369Z",
     "shell.execute_reply": "2020-12-17T20:05:05.074337Z"
    },
    "papermill": {
     "duration": 0.229213,
     "end_time": "2020-12-17T20:05:05.077536",
     "exception": false,
     "start_time": "2020-12-17T20:05:04.848323",
     "status": "completed"
    },
    "tags": []
   },
   "outputs": [
    {
     "name": "stdout",
     "output_type": "stream",
     "text": [
      "2\n"
     ]
    },
    {
     "data": {
      "text/plain": [
       "<matplotlib.image.AxesImage at 0x7f9b76c17278>"
      ]
     },
     "execution_count": 8,
     "metadata": {},
     "output_type": "execute_result"
    },
    {
     "data": {
      "image/png": "[encoded data removed]",
      "text/plain": [
       "<Figure size 432x288 with 1 Axes>"
      ]
     },
     "metadata": {
      "needs_background": "light"
     },
     "output_type": "display_data"
    }
   ],
   "source": [
    "image_index = 7776 # You may select anything up to 60,000\n",
    "print(train_labels[image_index]) \n",
    "plt.imshow(train_images[image_index], cmap='Greys')"
   ]
  },
  {
   "cell_type": "markdown",
   "metadata": {
    "papermill": {
     "duration": 0.033583,
     "end_time": "2020-12-17T20:05:05.144563",
     "exception": false,
     "start_time": "2020-12-17T20:05:05.110980",
     "status": "completed"
    },
    "tags": []
   },
   "source": [
    "## Filter data to get 3 and 8 out"
   ]
  },
  {
   "cell_type": "code",
   "execution_count": 9,
   "metadata": {
    "execution": {
     "iopub.execute_input": "2020-12-17T20:05:05.222072Z",
     "iopub.status.busy": "2020-12-17T20:05:05.221386Z",
     "iopub.status.idle": "2020-12-17T20:05:05.240839Z",
     "shell.execute_reply": "2020-12-17T20:05:05.241403Z"
    },
    "papermill": {
     "duration": 0.063561,
     "end_time": "2020-12-17T20:05:05.241576",
     "exception": false,
     "start_time": "2020-12-17T20:05:05.178015",
     "status": "completed"
    },
    "tags": []
   },
   "outputs": [],
   "source": [
    "train_filter = np.where((train_labels == 3 ) | (train_labels == 8))\n",
    "test_filter = np.where((test_labels == 3) | (test_labels == 8))\n",
    "X_train, y_train = train_images[train_filter], train_labels[train_filter]\n",
    "X_test, y_test = test_images[test_filter], test_labels[test_filter]"
   ]
  },
  {
   "cell_type": "markdown",
   "metadata": {
    "papermill": {
     "duration": 0.032334,
     "end_time": "2020-12-17T20:05:05.305390",
     "exception": false,
     "start_time": "2020-12-17T20:05:05.273056",
     "status": "completed"
    },
    "tags": []
   },
   "source": [
    "We normalize the pixel values in the 0 to 1 range"
   ]
  },
  {
   "cell_type": "code",
   "execution_count": 10,
   "metadata": {
    "execution": {
     "iopub.execute_input": "2020-12-17T20:05:05.374764Z",
     "iopub.status.busy": "2020-12-17T20:05:05.374094Z",
     "iopub.status.idle": "2020-12-17T20:05:05.443479Z",
     "shell.execute_reply": "2020-12-17T20:05:05.444105Z"
    },
    "papermill": {
     "duration": 0.106899,
     "end_time": "2020-12-17T20:05:05.444334",
     "exception": false,
     "start_time": "2020-12-17T20:05:05.337435",
     "status": "completed"
    },
    "tags": []
   },
   "outputs": [],
   "source": [
    "X_train = X_train/255.\n",
    "X_test = X_test/255."
   ]
  },
  {
   "cell_type": "markdown",
   "metadata": {
    "papermill": {
     "duration": 0.032422,
     "end_time": "2020-12-17T20:05:05.512862",
     "exception": false,
     "start_time": "2020-12-17T20:05:05.480440",
     "status": "completed"
    },
    "tags": []
   },
   "source": [
    "Setup the labels as 1 (when the digit is 3) and 0 (when the digit is 8)"
   ]
  },
  {
   "cell_type": "code",
   "execution_count": 11,
   "metadata": {
    "execution": {
     "iopub.execute_input": "2020-12-17T20:05:05.587410Z",
     "iopub.status.busy": "2020-12-17T20:05:05.586662Z",
     "iopub.status.idle": "2020-12-17T20:05:05.597314Z",
     "shell.execute_reply": "2020-12-17T20:05:05.596657Z"
    },
    "papermill": {
     "duration": 0.053403,
     "end_time": "2020-12-17T20:05:05.597488",
     "exception": false,
     "start_time": "2020-12-17T20:05:05.544085",
     "status": "completed"
    },
    "tags": []
   },
   "outputs": [],
   "source": [
    "y_train = 1*(y_train==3)\n",
    "y_test = 1*(y_test==3)"
   ]
  },
  {
   "cell_type": "code",
   "execution_count": 12,
   "metadata": {
    "execution": {
     "iopub.execute_input": "2020-12-17T20:05:05.665080Z",
     "iopub.status.busy": "2020-12-17T20:05:05.664359Z",
     "iopub.status.idle": "2020-12-17T20:05:05.682126Z",
     "shell.execute_reply": "2020-12-17T20:05:05.681546Z"
    },
    "papermill": {
     "duration": 0.053427,
     "end_time": "2020-12-17T20:05:05.682276",
     "exception": false,
     "start_time": "2020-12-17T20:05:05.628849",
     "status": "completed"
    },
    "tags": []
   },
   "outputs": [
    {
     "data": {
      "text/plain": [
       "((11982, 28, 28), (1984, 28, 28))"
      ]
     },
     "execution_count": 12,
     "metadata": {},
     "output_type": "execute_result"
    }
   ],
   "source": [
    "X_train.shape, X_test.shape"
   ]
  },
  {
   "cell_type": "markdown",
   "metadata": {
    "papermill": {
     "duration": 0.032338,
     "end_time": "2020-12-17T20:05:05.746530",
     "exception": false,
     "start_time": "2020-12-17T20:05:05.714192",
     "status": "completed"
    },
    "tags": []
   },
   "source": [
    "### Reshape the input data to create a linear array"
   ]
  },
  {
   "cell_type": "code",
   "execution_count": 13,
   "metadata": {
    "execution": {
     "iopub.execute_input": "2020-12-17T20:05:05.816614Z",
     "iopub.status.busy": "2020-12-17T20:05:05.815942Z",
     "iopub.status.idle": "2020-12-17T20:05:05.830882Z",
     "shell.execute_reply": "2020-12-17T20:05:05.830309Z"
    },
    "papermill": {
     "duration": 0.052257,
     "end_time": "2020-12-17T20:05:05.831031",
     "exception": false,
     "start_time": "2020-12-17T20:05:05.778774",
     "status": "completed"
    },
    "tags": []
   },
   "outputs": [
    {
     "data": {
      "text/plain": [
       "((11982, 784), (1984, 784))"
      ]
     },
     "execution_count": 13,
     "metadata": {},
     "output_type": "execute_result"
    }
   ],
   "source": [
    "X_train = X_train.reshape(X_train.shape[0], -1)\n",
    "X_test = X_test.reshape(X_test.shape[0], -1)\n",
    "X_train.shape, X_test.shape"
   ]
  },
  {
   "cell_type": "markdown",
   "metadata": {
    "papermill": {
     "duration": 0.033191,
     "end_time": "2020-12-17T20:05:05.896239",
     "exception": false,
     "start_time": "2020-12-17T20:05:05.863048",
     "status": "completed"
    },
    "tags": []
   },
   "source": [
    "### Importing appropriate functions from 'Kudzu'"
   ]
  },
  {
   "cell_type": "code",
   "execution_count": 14,
   "metadata": {
    "execution": {
     "iopub.execute_input": "2020-12-17T20:05:05.969887Z",
     "iopub.status.busy": "2020-12-17T20:05:05.969180Z",
     "iopub.status.idle": "2020-12-17T20:05:05.992100Z",
     "shell.execute_reply": "2020-12-17T20:05:05.991049Z"
    },
    "papermill": {
     "duration": 0.063309,
     "end_time": "2020-12-17T20:05:05.992287",
     "exception": false,
     "start_time": "2020-12-17T20:05:05.928978",
     "status": "completed"
    },
    "tags": []
   },
   "outputs": [],
   "source": [
    "from kudzu.layer import Sigmoid\n",
    "from kudzu.layer import Relu\n",
    "from kudzu.layer import Affine, Sigmoid\n",
    "\n",
    "from kudzu.model import Model\n",
    "from kudzu.train import Learner\n",
    "from kudzu.optim import GD\n",
    "from kudzu.data import Data, Dataloader, Sampler\n",
    "\n",
    "from kudzu.callbacks import AccCallback\n",
    "from kudzu.callbacks import ClfCallback\n",
    "\n",
    "from kudzu.loss import MSE"
   ]
  },
  {
   "cell_type": "markdown",
   "metadata": {
    "papermill": {
     "duration": 0.03235,
     "end_time": "2020-12-17T20:05:06.057211",
     "exception": false,
     "start_time": "2020-12-17T20:05:06.024861",
     "status": "completed"
    },
    "tags": []
   },
   "source": [
    "### Let us create a `Config` class, to store important parameters. \n",
    "This class essentially plays the role of a dictionary."
   ]
  },
  {
   "cell_type": "code",
   "execution_count": 15,
   "metadata": {
    "execution": {
     "iopub.execute_input": "2020-12-17T20:05:06.131322Z",
     "iopub.status.busy": "2020-12-17T20:05:06.130634Z",
     "iopub.status.idle": "2020-12-17T20:05:06.145685Z",
     "shell.execute_reply": "2020-12-17T20:05:06.144902Z"
    },
    "papermill": {
     "duration": 0.054934,
     "end_time": "2020-12-17T20:05:06.145858",
     "exception": false,
     "start_time": "2020-12-17T20:05:06.090924",
     "status": "completed"
    },
    "tags": []
   },
   "outputs": [],
   "source": [
    "class Config:\n",
    "    pass\n",
    "config = Config()\n",
    "config.lr = 0.001\n",
    "config.num_epochs = 251\n",
    "config.bs = 50"
   ]
  },
  {
   "cell_type": "markdown",
   "metadata": {
    "papermill": {
     "duration": 0.034616,
     "end_time": "2020-12-17T20:05:06.213261",
     "exception": false,
     "start_time": "2020-12-17T20:05:06.178645",
     "status": "completed"
    },
    "tags": []
   },
   "source": [
    "### Initializing data to the variables"
   ]
  },
  {
   "cell_type": "code",
   "execution_count": 16,
   "metadata": {
    "execution": {
     "iopub.execute_input": "2020-12-17T20:05:06.285312Z",
     "iopub.status.busy": "2020-12-17T20:05:06.284261Z",
     "iopub.status.idle": "2020-12-17T20:05:06.299583Z",
     "shell.execute_reply": "2020-12-17T20:05:06.298715Z"
    },
    "papermill": {
     "duration": 0.053833,
     "end_time": "2020-12-17T20:05:06.299752",
     "exception": false,
     "start_time": "2020-12-17T20:05:06.245919",
     "status": "completed"
    },
    "tags": []
   },
   "outputs": [],
   "source": [
    "data = Data(X_train, y_train.reshape(-1,1))\n",
    "sampler = Sampler(data, config.bs, shuffle=True)\n",
    "\n",
    "dl = Dataloader(data, sampler)\n",
    "\n",
    "opt = GD(config.lr)\n",
    "loss = MSE()"
   ]
  },
  {
   "cell_type": "code",
   "execution_count": 17,
   "metadata": {
    "execution": {
     "iopub.execute_input": "2020-12-17T20:05:06.371429Z",
     "iopub.status.busy": "2020-12-17T20:05:06.370727Z",
     "iopub.status.idle": "2020-12-17T20:05:06.384899Z",
     "shell.execute_reply": "2020-12-17T20:05:06.385564Z"
    },
    "papermill": {
     "duration": 0.053422,
     "end_time": "2020-12-17T20:05:06.385758",
     "exception": false,
     "start_time": "2020-12-17T20:05:06.332336",
     "status": "completed"
    },
    "tags": []
   },
   "outputs": [],
   "source": [
    "training_xdata = X_train\n",
    "testing_xdata = X_test\n",
    "training_ydata = y_train.reshape(-1,1)\n",
    "testing_ydata = y_test.reshape(-1,1)"
   ]
  },
  {
   "cell_type": "markdown",
   "metadata": {
    "papermill": {
     "duration": 0.033987,
     "end_time": "2020-12-17T20:05:06.454297",
     "exception": false,
     "start_time": "2020-12-17T20:05:06.420310",
     "status": "completed"
    },
    "tags": []
   },
   "source": [
    "### Running Models with the Training data\n",
    "Details about the network layers:\n",
    "- A first affine layer has 784 inputs and does 100 affine transforms. These are followed by a Relu\n",
    "- A second affine layer has 100 inputs from the 100 activations of the past layer, and does 100 affine transforms. These are followed by a Relu\n",
    "- A third affine layer has 100 activations and does 2 affine transformations to create an embedding for visualization. There is no non-linearity here.\n",
    "- A final \"logistic regression\" which has an affine transform from 2 inputs to 1 output, which is squeezed through a sigmoid.\n",
    "\n",
    "Help taken from Anshuman's Notebook."
   ]
  },
  {
   "cell_type": "code",
   "execution_count": 18,
   "metadata": {
    "execution": {
     "iopub.execute_input": "2020-12-17T20:05:06.534556Z",
     "iopub.status.busy": "2020-12-17T20:05:06.533832Z",
     "iopub.status.idle": "2020-12-17T20:05:06.553340Z",
     "shell.execute_reply": "2020-12-17T20:05:06.552726Z"
    },
    "papermill": {
     "duration": 0.063376,
     "end_time": "2020-12-17T20:05:06.553498",
     "exception": false,
     "start_time": "2020-12-17T20:05:06.490122",
     "status": "completed"
    },
    "tags": []
   },
   "outputs": [],
   "source": [
    "# layers for the Neural Network\n",
    "layers = [Affine(\"first\", 784, 100), Relu(\"first\"), Affine(\"second\", 100, 100), Relu(\"second\"), Affine(\"third\", 100, 2), Affine(\"final\", 2, 1), Sigmoid(\"final\")]\n",
    "model_nn = Model(layers)\n",
    "\n",
    "# layers for the Logistic Regression\n",
    "layers_lr = [Affine(\"logits\", 784, 1), Sigmoid(\"sigmoid\")]\n",
    "model_lr = Model(layers_lr)"
   ]
  },
  {
   "cell_type": "code",
   "execution_count": 19,
   "metadata": {
    "execution": {
     "iopub.execute_input": "2020-12-17T20:05:06.627608Z",
     "iopub.status.busy": "2020-12-17T20:05:06.626753Z",
     "iopub.status.idle": "2020-12-17T20:05:06.643104Z",
     "shell.execute_reply": "2020-12-17T20:05:06.642493Z"
    },
    "papermill": {
     "duration": 0.054909,
     "end_time": "2020-12-17T20:05:06.643254",
     "exception": false,
     "start_time": "2020-12-17T20:05:06.588345",
     "status": "completed"
    },
    "tags": []
   },
   "outputs": [],
   "source": [
    "# suffix _nn stands for Neural Network.\n",
    "learner_nn = Learner(loss, model_nn, opt, config.num_epochs)\n",
    "acc_nn = ClfCallback(learner_nn, config.bs, training_xdata , testing_xdata, training_ydata, testing_ydata)\n",
    "learner_nn.set_callbacks([acc_nn])"
   ]
  },
  {
   "cell_type": "code",
   "execution_count": 20,
   "metadata": {
    "execution": {
     "iopub.execute_input": "2020-12-17T20:05:06.732932Z",
     "iopub.status.busy": "2020-12-17T20:05:06.732241Z",
     "iopub.status.idle": "2020-12-17T20:07:18.255638Z",
     "shell.execute_reply": "2020-12-17T20:07:18.256288Z"
    },
    "papermill": {
     "duration": 131.558979,
     "end_time": "2020-12-17T20:07:18.256475",
     "exception": false,
     "start_time": "2020-12-17T20:05:06.697496",
     "status": "completed"
    },
    "tags": []
   },
   "outputs": [
    {
     "name": "stdout",
     "output_type": "stream",
     "text": [
      "====== Neural Network ======\n"
     ]
    },
    {
     "name": "stdout",
     "output_type": "stream",
     "text": [
      "Epoch 0, Loss 0.2378\n",
      "Training Accuracy: 0.7322, Testing Accuracy: 0.7303\n",
      "\n"
     ]
    },
    {
     "name": "stdout",
     "output_type": "stream",
     "text": [
      "Epoch 10, Loss 0.1562\n",
      "Training Accuracy: 0.8916, Testing Accuracy: 0.8962\n",
      "\n"
     ]
    },
    {
     "name": "stdout",
     "output_type": "stream",
     "text": [
      "Epoch 20, Loss 0.079\n",
      "Training Accuracy: 0.9241, Testing Accuracy: 0.9335\n",
      "\n"
     ]
    },
    {
     "name": "stdout",
     "output_type": "stream",
     "text": [
      "Epoch 30, Loss 0.0546\n",
      "Training Accuracy: 0.9414, Testing Accuracy: 0.9506\n",
      "\n"
     ]
    },
    {
     "name": "stdout",
     "output_type": "stream",
     "text": [
      "Epoch 40, Loss 0.0444\n",
      "Training Accuracy: 0.9507, Testing Accuracy: 0.9612\n",
      "\n"
     ]
    },
    {
     "name": "stdout",
     "output_type": "stream",
     "text": [
      "Epoch 50, Loss 0.039\n",
      "Training Accuracy: 0.9561, Testing Accuracy: 0.9632\n",
      "\n"
     ]
    },
    {
     "name": "stdout",
     "output_type": "stream",
     "text": [
      "Epoch 60, Loss 0.0356\n",
      "Training Accuracy: 0.9591, Testing Accuracy: 0.9652\n",
      "\n"
     ]
    },
    {
     "name": "stdout",
     "output_type": "stream",
     "text": [
      "Epoch 70, Loss 0.0333\n",
      "Training Accuracy: 0.9615, Testing Accuracy: 0.9682\n",
      "\n"
     ]
    },
    {
     "name": "stdout",
     "output_type": "stream",
     "text": [
      "Epoch 80, Loss 0.0315\n",
      "Training Accuracy: 0.9629, Testing Accuracy: 0.9688\n",
      "\n"
     ]
    },
    {
     "name": "stdout",
     "output_type": "stream",
     "text": [
      "Epoch 90, Loss 0.03\n",
      "Training Accuracy: 0.9633, Testing Accuracy: 0.9708\n",
      "\n"
     ]
    },
    {
     "name": "stdout",
     "output_type": "stream",
     "text": [
      "Epoch 100, Loss 0.0288\n",
      "Training Accuracy: 0.9646, Testing Accuracy: 0.9703\n",
      "\n"
     ]
    },
    {
     "name": "stdout",
     "output_type": "stream",
     "text": [
      "Epoch 110, Loss 0.0278\n",
      "Training Accuracy: 0.9671, Testing Accuracy: 0.9708\n",
      "\n"
     ]
    },
    {
     "name": "stdout",
     "output_type": "stream",
     "text": [
      "Epoch 120, Loss 0.0269\n",
      "Training Accuracy: 0.9676, Testing Accuracy: 0.9713\n",
      "\n"
     ]
    },
    {
     "name": "stdout",
     "output_type": "stream",
     "text": [
      "Epoch 130, Loss 0.0261\n",
      "Training Accuracy: 0.9685, Testing Accuracy: 0.9713\n",
      "\n"
     ]
    },
    {
     "name": "stdout",
     "output_type": "stream",
     "text": [
      "Epoch 140, Loss 0.0254\n",
      "Training Accuracy: 0.9695, Testing Accuracy: 0.9713\n",
      "\n"
     ]
    },
    {
     "name": "stdout",
     "output_type": "stream",
     "text": [
      "Epoch 150, Loss 0.0247\n",
      "Training Accuracy: 0.9704, Testing Accuracy: 0.9713\n",
      "\n"
     ]
    },
    {
     "name": "stdout",
     "output_type": "stream",
     "text": [
      "Epoch 160, Loss 0.0241\n",
      "Training Accuracy: 0.9715, Testing Accuracy: 0.9713\n",
      "\n"
     ]
    },
    {
     "name": "stdout",
     "output_type": "stream",
     "text": [
      "Epoch 170, Loss 0.0235\n",
      "Training Accuracy: 0.9725, Testing Accuracy: 0.9723\n",
      "\n"
     ]
    },
    {
     "name": "stdout",
     "output_type": "stream",
     "text": [
      "Epoch 180, Loss 0.023\n",
      "Training Accuracy: 0.9729, Testing Accuracy: 0.9728\n",
      "\n"
     ]
    },
    {
     "name": "stdout",
     "output_type": "stream",
     "text": [
      "Epoch 190, Loss 0.0225\n",
      "Training Accuracy: 0.9745, Testing Accuracy: 0.9728\n",
      "\n"
     ]
    },
    {
     "name": "stdout",
     "output_type": "stream",
     "text": [
      "Epoch 200, Loss 0.022\n",
      "Training Accuracy: 0.9749, Testing Accuracy: 0.9733\n",
      "\n"
     ]
    },
    {
     "name": "stdout",
     "output_type": "stream",
     "text": [
      "Epoch 210, Loss 0.0215\n",
      "Training Accuracy: 0.9755, Testing Accuracy: 0.9733\n",
      "\n"
     ]
    },
    {
     "name": "stdout",
     "output_type": "stream",
     "text": [
      "Epoch 220, Loss 0.0211\n",
      "Training Accuracy: 0.9762, Testing Accuracy: 0.9728\n",
      "\n"
     ]
    },
    {
     "name": "stdout",
     "output_type": "stream",
     "text": [
      "Epoch 230, Loss 0.0207\n",
      "Training Accuracy: 0.9767, Testing Accuracy: 0.9723\n",
      "\n"
     ]
    },
    {
     "name": "stdout",
     "output_type": "stream",
     "text": [
      "Epoch 240, Loss 0.0203\n",
      "Training Accuracy: 0.9774, Testing Accuracy: 0.9728\n",
      "\n"
     ]
    },
    {
     "name": "stdout",
     "output_type": "stream",
     "text": [
      "Epoch 250, Loss 0.0199\n",
      "Training Accuracy: 0.9782, Testing Accuracy: 0.9733\n",
      "\n"
     ]
    },
    {
     "data": {
      "text/plain": [
       "0.019012099384343843"
      ]
     },
     "execution_count": 20,
     "metadata": {},
     "output_type": "execute_result"
    }
   ],
   "source": [
    "print(\"====== Neural Network ======\")\n",
    "learner_nn.train_loop(dl)"
   ]
  },
  {
   "cell_type": "markdown",
   "metadata": {
    "papermill": {
     "duration": 0.054632,
     "end_time": "2020-12-17T20:07:18.353283",
     "exception": false,
     "start_time": "2020-12-17T20:07:18.298651",
     "status": "completed"
    },
    "tags": []
   },
   "source": [
    "### Logistic Regression based Implementation."
   ]
  },
  {
   "cell_type": "code",
   "execution_count": 21,
   "metadata": {
    "execution": {
     "iopub.execute_input": "2020-12-17T20:07:18.452036Z",
     "iopub.status.busy": "2020-12-17T20:07:18.451313Z",
     "iopub.status.idle": "2020-12-17T20:07:18.472866Z",
     "shell.execute_reply": "2020-12-17T20:07:18.472160Z"
    },
    "papermill": {
     "duration": 0.078186,
     "end_time": "2020-12-17T20:07:18.473017",
     "exception": false,
     "start_time": "2020-12-17T20:07:18.394831",
     "status": "completed"
    },
    "tags": []
   },
   "outputs": [],
   "source": [
    "learner_lr = Learner(loss, model_lr, opt, config.num_epochs)\n",
    "acc_lr = ClfCallback(learner_lr, config.bs, training_xdata , testing_xdata, training_ydata, testing_ydata)\n",
    "learner_lr.set_callbacks([acc_lr])"
   ]
  },
  {
   "cell_type": "code",
   "execution_count": 22,
   "metadata": {
    "execution": {
     "iopub.execute_input": "2020-12-17T20:07:18.571866Z",
     "iopub.status.busy": "2020-12-17T20:07:18.570897Z",
     "iopub.status.idle": "2020-12-17T20:07:37.985210Z",
     "shell.execute_reply": "2020-12-17T20:07:37.986324Z"
    },
    "papermill": {
     "duration": 19.46502,
     "end_time": "2020-12-17T20:07:37.986514",
     "exception": false,
     "start_time": "2020-12-17T20:07:18.521494",
     "status": "completed"
    },
    "tags": []
   },
   "outputs": [
    {
     "name": "stdout",
     "output_type": "stream",
     "text": [
      "====== Logistic Regression ======\n",
      "Epoch 0, Loss 0.2207\n",
      "Training Accuracy: 0.7319, Testing Accuracy: 0.7203\n",
      "\n"
     ]
    },
    {
     "name": "stdout",
     "output_type": "stream",
     "text": [
      "Epoch 10, Loss 0.1036\n",
      "Training Accuracy: 0.9039, Testing Accuracy: 0.9052\n",
      "\n"
     ]
    },
    {
     "name": "stdout",
     "output_type": "stream",
     "text": [
      "Epoch 20, Loss 0.0804\n",
      "Training Accuracy: 0.9226, Testing Accuracy: 0.9355\n",
      "\n"
     ]
    },
    {
     "name": "stdout",
     "output_type": "stream",
     "text": [
      "Epoch 30, Loss 0.0692\n",
      "Training Accuracy: 0.9319, Testing Accuracy: 0.9471\n",
      "\n"
     ]
    },
    {
     "name": "stdout",
     "output_type": "stream",
     "text": [
      "Epoch 40, Loss 0.0624\n",
      "Training Accuracy: 0.9387, Testing Accuracy: 0.9511\n",
      "\n"
     ]
    },
    {
     "name": "stdout",
     "output_type": "stream",
     "text": [
      "Epoch 50, Loss 0.0577\n",
      "Training Accuracy: 0.9423, Testing Accuracy: 0.9541\n",
      "\n"
     ]
    },
    {
     "name": "stdout",
     "output_type": "stream",
     "text": [
      "Epoch 60, Loss 0.0543\n",
      "Training Accuracy: 0.9458, Testing Accuracy: 0.9551\n",
      "\n"
     ]
    },
    {
     "name": "stdout",
     "output_type": "stream",
     "text": [
      "Epoch 70, Loss 0.0516\n",
      "Training Accuracy: 0.9477, Testing Accuracy: 0.9582\n",
      "\n"
     ]
    },
    {
     "name": "stdout",
     "output_type": "stream",
     "text": [
      "Epoch 80, Loss 0.0495\n",
      "Training Accuracy: 0.9503, Testing Accuracy: 0.9602\n",
      "\n"
     ]
    },
    {
     "name": "stdout",
     "output_type": "stream",
     "text": [
      "Epoch 90, Loss 0.0478\n",
      "Training Accuracy: 0.9523, Testing Accuracy: 0.9632\n",
      "\n"
     ]
    },
    {
     "name": "stdout",
     "output_type": "stream",
     "text": [
      "Epoch 100, Loss 0.0463\n",
      "Training Accuracy: 0.9540, Testing Accuracy: 0.9637\n",
      "\n"
     ]
    },
    {
     "name": "stdout",
     "output_type": "stream",
     "text": [
      "Epoch 110, Loss 0.0451\n",
      "Training Accuracy: 0.9548, Testing Accuracy: 0.9647\n",
      "\n"
     ]
    },
    {
     "name": "stdout",
     "output_type": "stream",
     "text": [
      "Epoch 120, Loss 0.044\n",
      "Training Accuracy: 0.9560, Testing Accuracy: 0.9657\n",
      "\n"
     ]
    },
    {
     "name": "stdout",
     "output_type": "stream",
     "text": [
      "Epoch 130, Loss 0.043\n",
      "Training Accuracy: 0.9564, Testing Accuracy: 0.9657\n",
      "\n"
     ]
    },
    {
     "name": "stdout",
     "output_type": "stream",
     "text": [
      "Epoch 140, Loss 0.0422\n",
      "Training Accuracy: 0.9569, Testing Accuracy: 0.9657\n",
      "\n"
     ]
    },
    {
     "name": "stdout",
     "output_type": "stream",
     "text": [
      "Epoch 150, Loss 0.0414\n",
      "Training Accuracy: 0.9578, Testing Accuracy: 0.9667\n",
      "\n"
     ]
    },
    {
     "name": "stdout",
     "output_type": "stream",
     "text": [
      "Epoch 160, Loss 0.0408\n",
      "Training Accuracy: 0.9582, Testing Accuracy: 0.9667\n",
      "\n"
     ]
    },
    {
     "name": "stdout",
     "output_type": "stream",
     "text": [
      "Epoch 170, Loss 0.0401\n",
      "Training Accuracy: 0.9591, Testing Accuracy: 0.9672\n",
      "\n"
     ]
    },
    {
     "name": "stdout",
     "output_type": "stream",
     "text": [
      "Epoch 180, Loss 0.0396\n",
      "Training Accuracy: 0.9595, Testing Accuracy: 0.9672\n",
      "\n"
     ]
    },
    {
     "name": "stdout",
     "output_type": "stream",
     "text": [
      "Epoch 190, Loss 0.0391\n",
      "Training Accuracy: 0.9597, Testing Accuracy: 0.9672\n",
      "\n"
     ]
    },
    {
     "name": "stdout",
     "output_type": "stream",
     "text": [
      "Epoch 200, Loss 0.0386\n",
      "Training Accuracy: 0.9599, Testing Accuracy: 0.9672\n",
      "\n"
     ]
    },
    {
     "name": "stdout",
     "output_type": "stream",
     "text": [
      "Epoch 210, Loss 0.0381\n",
      "Training Accuracy: 0.9600, Testing Accuracy: 0.9672\n",
      "\n"
     ]
    },
    {
     "name": "stdout",
     "output_type": "stream",
     "text": [
      "Epoch 220, Loss 0.0377\n",
      "Training Accuracy: 0.9605, Testing Accuracy: 0.9672\n",
      "\n"
     ]
    },
    {
     "name": "stdout",
     "output_type": "stream",
     "text": [
      "Epoch 230, Loss 0.0373\n",
      "Training Accuracy: 0.9609, Testing Accuracy: 0.9672\n",
      "\n"
     ]
    },
    {
     "name": "stdout",
     "output_type": "stream",
     "text": [
      "Epoch 240, Loss 0.037\n",
      "Training Accuracy: 0.9611, Testing Accuracy: 0.9667\n",
      "\n"
     ]
    },
    {
     "name": "stdout",
     "output_type": "stream",
     "text": [
      "Epoch 250, Loss 0.0366\n",
      "Training Accuracy: 0.9613, Testing Accuracy: 0.9667\n",
      "\n"
     ]
    },
    {
     "data": {
      "text/plain": [
       "0.013770964784570959"
      ]
     },
     "execution_count": 22,
     "metadata": {},
     "output_type": "execute_result"
    }
   ],
   "source": [
    "print(\"====== Logistic Regression ======\")\n",
    "learner_lr.train_loop(dl)"
   ]
  },
  {
   "cell_type": "markdown",
   "metadata": {
    "papermill": {
     "duration": 0.049567,
     "end_time": "2020-12-17T20:07:38.087674",
     "exception": false,
     "start_time": "2020-12-17T20:07:38.038107",
     "status": "completed"
    },
    "tags": []
   },
   "source": [
    "### Comparing results of NN and LR"
   ]
  },
  {
   "cell_type": "code",
   "execution_count": 23,
   "metadata": {
    "execution": {
     "iopub.execute_input": "2020-12-17T20:07:38.199328Z",
     "iopub.status.busy": "2020-12-17T20:07:38.197657Z",
     "iopub.status.idle": "2020-12-17T20:07:38.483937Z",
     "shell.execute_reply": "2020-12-17T20:07:38.483348Z"
    },
    "papermill": {
     "duration": 0.346813,
     "end_time": "2020-12-17T20:07:38.484096",
     "exception": false,
     "start_time": "2020-12-17T20:07:38.137283",
     "status": "completed"
    },
    "tags": []
   },
   "outputs": [
    {
     "data": {
      "text/plain": [
       "<matplotlib.legend.Legend at 0x7f9b747e9ba8>"
      ]
     },
     "execution_count": 23,
     "metadata": {},
     "output_type": "execute_result"
    },
    {
     "data": {
      "image/png": "[encoded data removed]",
      "text/plain": [
       "<Figure size 1080x720 with 1 Axes>"
      ]
     },
     "metadata": {
      "needs_background": "light"
     },
     "output_type": "display_data"
    }
   ],
   "source": [
    "plt.figure(figsize=(15,10))\n",
    "\n",
    "# Neural Network plots\n",
    "plt.plot(acc_nn.accuracies, 'r-', label = \"Training Accuracies - NN\")\n",
    "plt.plot(acc_nn.test_accuracies, 'g-', label = \"Testing Accuracies - NN\")\n",
    "\n",
    "# Logistic Regression plots\n",
    "plt.plot(acc_lr.accuracies, 'k-', label = \"Training Accuracies - LR\")\n",
    "plt.plot(acc_lr.test_accuracies, 'b-', label = \"Testing Accuracies - LR\")\n",
    "\n",
    "plt.ylim(0.8, 1)\n",
    "\n",
    "plt.legend()\n",
    "\n"
   ]
  },
  {
   "cell_type": "markdown",
   "metadata": {
    "papermill": {
     "duration": 0.054313,
     "end_time": "2020-12-17T20:07:38.591623",
     "exception": false,
     "start_time": "2020-12-17T20:07:38.537310",
     "status": "completed"
    },
    "tags": []
   },
   "source": [
    "### From the plot, we can observe the following:\n",
    "- Neural Network achieves higher accuracy than the Logistic Regression model.\n",
    "- This apparently, is because of overfitting, i.e. NN captures more noise than data.\n",
    "- Testing accuracy of NN drops below the Training accuracy at higher epochs. This explains the over-fitting on training data.\n",
    "- Logistic Regression gives a reliable accuracy, without the above mentioned problem.\n"
   ]
  },
  {
   "cell_type": "markdown",
   "metadata": {
    "papermill": {
     "duration": 0.051733,
     "end_time": "2020-12-17T20:07:38.695806",
     "exception": false,
     "start_time": "2020-12-17T20:07:38.644073",
     "status": "completed"
    },
    "tags": []
   },
   "source": [
    "### Moving till the last but one layer (excluding it).\n",
    "#### Plotting the outputs of this layer of the NN."
   ]
  },
  {
   "cell_type": "code",
   "execution_count": 24,
   "metadata": {
    "execution": {
     "iopub.execute_input": "2020-12-17T20:07:38.808951Z",
     "iopub.status.busy": "2020-12-17T20:07:38.807578Z",
     "iopub.status.idle": "2020-12-17T20:07:38.825544Z",
     "shell.execute_reply": "2020-12-17T20:07:38.824801Z"
    },
    "papermill": {
     "duration": 0.074541,
     "end_time": "2020-12-17T20:07:38.825701",
     "exception": false,
     "start_time": "2020-12-17T20:07:38.751160",
     "status": "completed"
    },
    "tags": []
   },
   "outputs": [],
   "source": [
    "model_new = Model(layers[:-2])"
   ]
  },
  {
   "cell_type": "code",
   "execution_count": 25,
   "metadata": {
    "execution": {
     "iopub.execute_input": "2020-12-17T20:07:38.953459Z",
     "iopub.status.busy": "2020-12-17T20:07:38.946787Z",
     "iopub.status.idle": "2020-12-17T20:07:38.981019Z",
     "shell.execute_reply": "2020-12-17T20:07:38.981718Z"
    },
    "papermill": {
     "duration": 0.092762,
     "end_time": "2020-12-17T20:07:38.981896",
     "exception": false,
     "start_time": "2020-12-17T20:07:38.889134",
     "status": "completed"
    },
    "tags": []
   },
   "outputs": [],
   "source": [
    "plot_testing = model_new(testing_xdata)"
   ]
  },
  {
   "cell_type": "code",
   "execution_count": 26,
   "metadata": {
    "execution": {
     "iopub.execute_input": "2020-12-17T20:07:39.110560Z",
     "iopub.status.busy": "2020-12-17T20:07:39.109702Z",
     "iopub.status.idle": "2020-12-17T20:07:39.379303Z",
     "shell.execute_reply": "2020-12-17T20:07:39.378690Z"
    },
    "papermill": {
     "duration": 0.338851,
     "end_time": "2020-12-17T20:07:39.379519",
     "exception": false,
     "start_time": "2020-12-17T20:07:39.040668",
     "status": "completed"
    },
    "tags": []
   },
   "outputs": [
    {
     "data": {
      "text/plain": [
       "Text(0.5, 1.0, 'Outputs')"
      ]
     },
     "execution_count": 26,
     "metadata": {},
     "output_type": "execute_result"
    },
    {
     "data": {
      "image/png": "[encoded data removed]",
      "text/plain": [
       "<Figure size 576x504 with 1 Axes>"
      ]
     },
     "metadata": {
      "needs_background": "light"
     },
     "output_type": "display_data"
    }
   ],
   "source": [
    "plt.figure(figsize=(8,7))\n",
    "plt.scatter(plot_testing[:,0], plot_testing[:,1], alpha = 0.1, c = y_test.ravel());\n",
    "plt.title('Outputs')"
   ]
  },
  {
   "cell_type": "markdown",
   "metadata": {
    "papermill": {
     "duration": 0.065238,
     "end_time": "2020-12-17T20:07:39.514680",
     "exception": false,
     "start_time": "2020-12-17T20:07:39.449442",
     "status": "completed"
    },
    "tags": []
   },
   "source": [
    "### Plotting probability contours"
   ]
  },
  {
   "cell_type": "code",
   "execution_count": 27,
   "metadata": {
    "execution": {
     "iopub.execute_input": "2020-12-17T20:07:39.649205Z",
     "iopub.status.busy": "2020-12-17T20:07:39.641670Z",
     "iopub.status.idle": "2020-12-17T20:07:39.655875Z",
     "shell.execute_reply": "2020-12-17T20:07:39.655178Z"
    },
    "papermill": {
     "duration": 0.081914,
     "end_time": "2020-12-17T20:07:39.656030",
     "exception": false,
     "start_time": "2020-12-17T20:07:39.574116",
     "status": "completed"
    },
    "tags": []
   },
   "outputs": [],
   "source": [
    "model_prob = Model(layers[-2:]) "
   ]
  },
  {
   "cell_type": "code",
   "execution_count": 28,
   "metadata": {
    "execution": {
     "iopub.execute_input": "2020-12-17T20:07:39.809536Z",
     "iopub.status.busy": "2020-12-17T20:07:39.808852Z",
     "iopub.status.idle": "2020-12-17T20:07:39.830323Z",
     "shell.execute_reply": "2020-12-17T20:07:39.831369Z"
    },
    "papermill": {
     "duration": 0.122251,
     "end_time": "2020-12-17T20:07:39.831550",
     "exception": false,
     "start_time": "2020-12-17T20:07:39.709299",
     "status": "completed"
    },
    "tags": []
   },
   "outputs": [],
   "source": [
    "# Adjust the x and y ranges according to the above generated plot.\n",
    "x_range = np.linspace(-4, 1, 100) \n",
    "y_range = np.linspace(-6, 6, 100) \n",
    "x_grid, y_grid = np.meshgrid(x_range, y_range) # x_grid and y_grig are of size 100 X 100\n",
    "\n",
    "# converting x_grid and y_grid to continuous arrays\n",
    "x_grid_flat = np.ravel(x_grid)\n",
    "y_grid_flat = np.ravel(y_grid)\n",
    "\n",
    "# The last layer of the current model takes two columns as input. Hence transpose of np.vstack() is required.\n",
    "X = np.vstack((x_grid_flat, y_grid_flat)).T\n",
    "\n",
    "# x_grid and y_grid are of size 100 x 100\n",
    "probability_contour = model_prob(X).reshape(100,100) "
   ]
  },
  {
   "cell_type": "code",
   "execution_count": 29,
   "metadata": {
    "execution": {
     "iopub.execute_input": "2020-12-17T20:07:39.974742Z",
     "iopub.status.busy": "2020-12-17T20:07:39.973011Z",
     "iopub.status.idle": "2020-12-17T20:07:40.278471Z",
     "shell.execute_reply": "2020-12-17T20:07:40.279016Z"
    },
    "papermill": {
     "duration": 0.3711,
     "end_time": "2020-12-17T20:07:40.279186",
     "exception": false,
     "start_time": "2020-12-17T20:07:39.908086",
     "status": "completed"
    },
    "tags": []
   },
   "outputs": [
    {
     "data": {
      "image/png": "[encoded data removed]",
      "text/plain": [
       "<Figure size 720x648 with 1 Axes>"
      ]
     },
     "metadata": {
      "needs_background": "light"
     },
     "output_type": "display_data"
    }
   ],
   "source": [
    "plt.figure(figsize=(10,9))\n",
    "plt.scatter(plot_testing[:,0], plot_testing[:,1], alpha = 0.1, c = y_test.ravel())\n",
    "contours = plt.contour(x_grid,y_grid,probability_contour)\n",
    "plt.title('Probability Contours')\n",
    "plt.clabel(contours, inline = True );"
   ]
  }
 ],
 "metadata": {
  "kernelspec": {
   "display_name": "Python 3",
   "language": "python",
   "name": "python3"
  },
  "language_info": {
   "codemirror_mode": {
    "name": "ipython",
    "version": 3
   },
   "file_extension": ".py",
   "mimetype": "text/x-python",
   "name": "python",
   "nbconvert_exporter": "python",
   "pygments_lexer": "ipython3",
   "version": "3.6.12"
  },
  "papermill": {
   "duration": 161.763172,
   "end_time": "2020-12-17T20:07:40.743368",
   "environment_variables": {},
   "exception": null,
   "input_path": "2020-08-11-NeuralNetwork.ipynb",
   "output_path": "2020-08-11-NeuralNetwork.ipynb",
   "parameters": {},
   "start_time": "2020-12-17T20:04:58.980196",
   "version": "2.1.2"
  }
 },
 "nbformat": 4,
 "nbformat_minor": 4
}