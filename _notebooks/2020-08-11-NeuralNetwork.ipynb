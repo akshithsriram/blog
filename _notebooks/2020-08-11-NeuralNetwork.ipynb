{
 "cells": [
  {
   "cell_type": "markdown",
   "id": "fitted-suggestion",
   "metadata": {
    "papermill": {
     "duration": 0.026603,
     "end_time": "2021-07-11T00:16:02.718176",
     "exception": false,
     "start_time": "2021-07-11T00:16:02.691573",
     "status": "completed"
    },
    "tags": []
   },
   "source": [
    "# \"A Basic Neural Network: Differentiate Hand-Written Digits\"\n",
    "\n",
    "- badges: true\n",
    "- author: Akshith Sriram"
   ]
  },
  {
   "cell_type": "markdown",
   "id": "signal-flexibility",
   "metadata": {
    "papermill": {
     "duration": 0.022239,
     "end_time": "2021-07-11T00:16:02.763437",
     "exception": false,
     "start_time": "2021-07-11T00:16:02.741198",
     "status": "completed"
    },
    "tags": []
   },
   "source": [
    "### Key Objectives:\n",
    "- Building a neural network that differentiates two hand-written digits 3 and 8.\n",
    "- Comparing the results of this Neural Network (NN) to that of a Logistic Regression (LR) model.\n",
    "\n",
    "### Requirements:\n",
    "- 'Kudzu' : A neural network library that was designed during our course by [Univ.AI](www.univ.ai). \n",
    "- MNIST Database\n",
    "\n",
    "If MNIST is not installed, use the command `!pip install mnist` given below.\n",
    "It can be run both from the command line and Jupyter Notebook."
   ]
  },
  {
   "cell_type": "code",
   "execution_count": 1,
   "id": "british-texture",
   "metadata": {
    "execution": {
     "iopub.execute_input": "2021-07-11T00:16:02.818617Z",
     "iopub.status.busy": "2021-07-11T00:16:02.818113Z",
     "iopub.status.idle": "2021-07-11T00:16:04.238504Z",
     "shell.execute_reply": "2021-07-11T00:16:04.237631Z"
    },
    "papermill": {
     "duration": 1.452996,
     "end_time": "2021-07-11T00:16:04.238673",
     "exception": false,
     "start_time": "2021-07-11T00:16:02.785677",
     "status": "completed"
    },
    "tags": []
   },
   "outputs": [
    {
     "name": "stdout",
     "output_type": "stream",
     "text": [
      "Collecting mnist\r\n"
     ]
    },
    {
     "name": "stdout",
     "output_type": "stream",
     "text": [
      "  Downloading mnist-0.2.2-py2.py3-none-any.whl (3.5 kB)\r\n",
      "Requirement already satisfied: numpy in /opt/hostedtoolcache/Python/3.6.13/x64/lib/python3.6/site-packages (from mnist) (1.19.5)\r\n"
     ]
    },
    {
     "name": "stdout",
     "output_type": "stream",
     "text": [
      "Installing collected packages: mnist\r\n",
      "Successfully installed mnist-0.2.2\r\n"
     ]
    }
   ],
   "source": [
    "!pip install mnist "
   ]
  },
  {
   "cell_type": "markdown",
   "id": "stunning-extra",
   "metadata": {
    "papermill": {
     "duration": 0.023068,
     "end_time": "2021-07-11T00:16:04.285196",
     "exception": false,
     "start_time": "2021-07-11T00:16:04.262128",
     "status": "completed"
    },
    "tags": []
   },
   "source": [
    "#### Importing necessary libraries"
   ]
  },
  {
   "cell_type": "code",
   "execution_count": 2,
   "id": "wooden-france",
   "metadata": {
    "execution": {
     "iopub.execute_input": "2021-07-11T00:16:04.338817Z",
     "iopub.status.busy": "2021-07-11T00:16:04.338357Z",
     "iopub.status.idle": "2021-07-11T00:16:04.874520Z",
     "shell.execute_reply": "2021-07-11T00:16:04.875066Z"
    },
    "papermill": {
     "duration": 0.567097,
     "end_time": "2021-07-11T00:16:04.875252",
     "exception": false,
     "start_time": "2021-07-11T00:16:04.308155",
     "status": "completed"
    },
    "tags": []
   },
   "outputs": [],
   "source": [
    "%load_ext autoreload\n",
    "%autoreload 2\n",
    "\n",
    "%matplotlib inline\n",
    "import matplotlib.pyplot as plt\n",
    "\n",
    "import numpy as np\n",
    "import pandas as pd"
   ]
  },
  {
   "cell_type": "markdown",
   "id": "stunning-physics",
   "metadata": {
    "papermill": {
     "duration": 0.023545,
     "end_time": "2021-07-11T00:16:04.923006",
     "exception": false,
     "start_time": "2021-07-11T00:16:04.899461",
     "status": "completed"
    },
    "tags": []
   },
   "source": [
    "### Preparing the Data"
   ]
  },
  {
   "cell_type": "code",
   "execution_count": 3,
   "id": "unauthorized-remainder",
   "metadata": {
    "execution": {
     "iopub.execute_input": "2021-07-11T00:16:04.986644Z",
     "iopub.status.busy": "2021-07-11T00:16:04.980657Z",
     "iopub.status.idle": "2021-07-11T00:16:04.989877Z",
     "shell.execute_reply": "2021-07-11T00:16:04.989466Z"
    },
    "papermill": {
     "duration": 0.04255,
     "end_time": "2021-07-11T00:16:04.989986",
     "exception": false,
     "start_time": "2021-07-11T00:16:04.947436",
     "status": "completed"
    },
    "tags": []
   },
   "outputs": [],
   "source": [
    "import mnist"
   ]
  },
  {
   "cell_type": "code",
   "execution_count": 4,
   "id": "correct-antarctica",
   "metadata": {
    "execution": {
     "iopub.execute_input": "2021-07-11T00:16:05.056276Z",
     "iopub.status.busy": "2021-07-11T00:16:05.054445Z",
     "iopub.status.idle": "2021-07-11T00:20:47.052015Z",
     "shell.execute_reply": "2021-07-11T00:20:47.051360Z"
    },
    "papermill": {
     "duration": 282.038874,
     "end_time": "2021-07-11T00:20:47.052139",
     "exception": false,
     "start_time": "2021-07-11T00:16:05.013265",
     "status": "completed"
    },
    "tags": []
   },
   "outputs": [],
   "source": [
    "train_images = mnist.train_images()\n",
    "train_labels = mnist.train_labels()"
   ]
  },
  {
   "cell_type": "code",
   "execution_count": 5,
   "id": "musical-prospect",
   "metadata": {
    "execution": {
     "iopub.execute_input": "2021-07-11T00:20:47.111162Z",
     "iopub.status.busy": "2021-07-11T00:20:47.110643Z",
     "iopub.status.idle": "2021-07-11T00:20:47.123371Z",
     "shell.execute_reply": "2021-07-11T00:20:47.123783Z"
    },
    "papermill": {
     "duration": 0.045245,
     "end_time": "2021-07-11T00:20:47.123929",
     "exception": false,
     "start_time": "2021-07-11T00:20:47.078684",
     "status": "completed"
    },
    "tags": []
   },
   "outputs": [
    {
     "data": {
      "text/plain": [
       "((60000, 28, 28), (60000,))"
      ]
     },
     "execution_count": 5,
     "metadata": {},
     "output_type": "execute_result"
    }
   ],
   "source": [
    "train_images.shape, train_labels.shape"
   ]
  },
  {
   "cell_type": "code",
   "execution_count": 6,
   "id": "preliminary-elizabeth",
   "metadata": {
    "execution": {
     "iopub.execute_input": "2021-07-11T00:20:47.182090Z",
     "iopub.status.busy": "2021-07-11T00:20:47.181570Z",
     "iopub.status.idle": "2021-07-11T00:21:21.134842Z",
     "shell.execute_reply": "2021-07-11T00:21:21.134416Z"
    },
    "papermill": {
     "duration": 33.984483,
     "end_time": "2021-07-11T00:21:21.134960",
     "exception": false,
     "start_time": "2021-07-11T00:20:47.150477",
     "status": "completed"
    },
    "tags": []
   },
   "outputs": [],
   "source": [
    "test_images = mnist.test_images()\n",
    "test_labels = mnist.test_labels()"
   ]
  },
  {
   "cell_type": "code",
   "execution_count": 7,
   "id": "acknowledged-oxygen",
   "metadata": {
    "execution": {
     "iopub.execute_input": "2021-07-11T00:21:21.187889Z",
     "iopub.status.busy": "2021-07-11T00:21:21.187420Z",
     "iopub.status.idle": "2021-07-11T00:21:21.198017Z",
     "shell.execute_reply": "2021-07-11T00:21:21.197643Z"
    },
    "papermill": {
     "duration": 0.039442,
     "end_time": "2021-07-11T00:21:21.198128",
     "exception": false,
     "start_time": "2021-07-11T00:21:21.158686",
     "status": "completed"
    },
    "tags": []
   },
   "outputs": [
    {
     "data": {
      "text/plain": [
       "((10000, 28, 28), (10000,))"
      ]
     },
     "execution_count": 7,
     "metadata": {},
     "output_type": "execute_result"
    }
   ],
   "source": [
    "test_images.shape, test_labels.shape"
   ]
  },
  {
   "cell_type": "code",
   "execution_count": 8,
   "id": "innovative-organic",
   "metadata": {
    "execution": {
     "iopub.execute_input": "2021-07-11T00:21:21.249216Z",
     "iopub.status.busy": "2021-07-11T00:21:21.248763Z",
     "iopub.status.idle": "2021-07-11T00:21:21.372308Z",
     "shell.execute_reply": "2021-07-11T00:21:21.372782Z"
    },
    "papermill": {
     "duration": 0.151216,
     "end_time": "2021-07-11T00:21:21.372940",
     "exception": false,
     "start_time": "2021-07-11T00:21:21.221724",
     "status": "completed"
    },
    "tags": []
   },
   "outputs": [
    {
     "name": "stdout",
     "output_type": "stream",
     "text": [
      "2\n"
     ]
    },
    {
     "data": {
      "text/plain": [
       "<matplotlib.image.AxesImage at 0x7feb81f5b588>"
      ]
     },
     "execution_count": 8,
     "metadata": {},
     "output_type": "execute_result"
    },
    {
     "data": {
      "image/png": "[encoded data removed]",
      "text/plain": [
       "<Figure size 432x288 with 1 Axes>"
      ]
     },
     "metadata": {
      "needs_background": "light"
     },
     "output_type": "display_data"
    }
   ],
   "source": [
    "image_index = 7776 # You may select anything up to 60,000\n",
    "print(train_labels[image_index]) \n",
    "plt.imshow(train_images[image_index], cmap='Greys')"
   ]
  },
  {
   "cell_type": "markdown",
   "id": "facial-modem",
   "metadata": {
    "papermill": {
     "duration": 0.024943,
     "end_time": "2021-07-11T00:21:21.423716",
     "exception": false,
     "start_time": "2021-07-11T00:21:21.398773",
     "status": "completed"
    },
    "tags": []
   },
   "source": [
    "## Filter data to get 3 and 8 out"
   ]
  },
  {
   "cell_type": "code",
   "execution_count": 9,
   "id": "thousand-acquisition",
   "metadata": {
    "execution": {
     "iopub.execute_input": "2021-07-11T00:21:21.477068Z",
     "iopub.status.busy": "2021-07-11T00:21:21.476609Z",
     "iopub.status.idle": "2021-07-11T00:21:21.495141Z",
     "shell.execute_reply": "2021-07-11T00:21:21.494737Z"
    },
    "papermill": {
     "duration": 0.047055,
     "end_time": "2021-07-11T00:21:21.495280",
     "exception": false,
     "start_time": "2021-07-11T00:21:21.448225",
     "status": "completed"
    },
    "tags": []
   },
   "outputs": [],
   "source": [
    "train_filter = np.where((train_labels == 3 ) | (train_labels == 8))\n",
    "test_filter = np.where((test_labels == 3) | (test_labels == 8))\n",
    "X_train, y_train = train_images[train_filter], train_labels[train_filter]\n",
    "X_test, y_test = test_images[test_filter], test_labels[test_filter]"
   ]
  },
  {
   "cell_type": "markdown",
   "id": "ruled-access",
   "metadata": {
    "papermill": {
     "duration": 0.024522,
     "end_time": "2021-07-11T00:21:21.544605",
     "exception": false,
     "start_time": "2021-07-11T00:21:21.520083",
     "status": "completed"
    },
    "tags": []
   },
   "source": [
    "We normalize the pixel values in the 0 to 1 range"
   ]
  },
  {
   "cell_type": "code",
   "execution_count": 10,
   "id": "isolated-denver",
   "metadata": {
    "execution": {
     "iopub.execute_input": "2021-07-11T00:21:21.608345Z",
     "iopub.status.busy": "2021-07-11T00:21:21.604142Z",
     "iopub.status.idle": "2021-07-11T00:21:21.644777Z",
     "shell.execute_reply": "2021-07-11T00:21:21.644274Z"
    },
    "papermill": {
     "duration": 0.075692,
     "end_time": "2021-07-11T00:21:21.644919",
     "exception": false,
     "start_time": "2021-07-11T00:21:21.569227",
     "status": "completed"
    },
    "tags": []
   },
   "outputs": [],
   "source": [
    "X_train = X_train/255.\n",
    "X_test = X_test/255."
   ]
  },
  {
   "cell_type": "markdown",
   "id": "perfect-summary",
   "metadata": {
    "papermill": {
     "duration": 0.024525,
     "end_time": "2021-07-11T00:21:21.695969",
     "exception": false,
     "start_time": "2021-07-11T00:21:21.671444",
     "status": "completed"
    },
    "tags": []
   },
   "source": [
    "Setup the labels as 1 (when the digit is 3) and 0 (when the digit is 8)"
   ]
  },
  {
   "cell_type": "code",
   "execution_count": 11,
   "id": "personalized-growing",
   "metadata": {
    "execution": {
     "iopub.execute_input": "2021-07-11T00:21:21.748295Z",
     "iopub.status.busy": "2021-07-11T00:21:21.747845Z",
     "iopub.status.idle": "2021-07-11T00:21:21.759954Z",
     "shell.execute_reply": "2021-07-11T00:21:21.759578Z"
    },
    "papermill": {
     "duration": 0.039765,
     "end_time": "2021-07-11T00:21:21.760064",
     "exception": false,
     "start_time": "2021-07-11T00:21:21.720299",
     "status": "completed"
    },
    "tags": []
   },
   "outputs": [],
   "source": [
    "y_train = 1*(y_train==3)\n",
    "y_test = 1*(y_test==3)"
   ]
  },
  {
   "cell_type": "code",
   "execution_count": 12,
   "id": "considered-virgin",
   "metadata": {
    "execution": {
     "iopub.execute_input": "2021-07-11T00:21:21.813275Z",
     "iopub.status.busy": "2021-07-11T00:21:21.812814Z",
     "iopub.status.idle": "2021-07-11T00:21:21.824550Z",
     "shell.execute_reply": "2021-07-11T00:21:21.824890Z"
    },
    "papermill": {
     "duration": 0.040336,
     "end_time": "2021-07-11T00:21:21.825017",
     "exception": false,
     "start_time": "2021-07-11T00:21:21.784681",
     "status": "completed"
    },
    "tags": []
   },
   "outputs": [
    {
     "data": {
      "text/plain": [
       "((11982, 28, 28), (1984, 28, 28))"
      ]
     },
     "execution_count": 12,
     "metadata": {},
     "output_type": "execute_result"
    }
   ],
   "source": [
    "X_train.shape, X_test.shape"
   ]
  },
  {
   "cell_type": "markdown",
   "id": "civilian-mobile",
   "metadata": {
    "papermill": {
     "duration": 0.024566,
     "end_time": "2021-07-11T00:21:21.874228",
     "exception": false,
     "start_time": "2021-07-11T00:21:21.849662",
     "status": "completed"
    },
    "tags": []
   },
   "source": [
    "### Reshape the input data to create a linear array"
   ]
  },
  {
   "cell_type": "code",
   "execution_count": 13,
   "id": "colonial-adams",
   "metadata": {
    "execution": {
     "iopub.execute_input": "2021-07-11T00:21:21.938952Z",
     "iopub.status.busy": "2021-07-11T00:21:21.931949Z",
     "iopub.status.idle": "2021-07-11T00:21:21.941716Z",
     "shell.execute_reply": "2021-07-11T00:21:21.941325Z"
    },
    "papermill": {
     "duration": 0.042758,
     "end_time": "2021-07-11T00:21:21.941819",
     "exception": false,
     "start_time": "2021-07-11T00:21:21.899061",
     "status": "completed"
    },
    "tags": []
   },
   "outputs": [
    {
     "data": {
      "text/plain": [
       "((11982, 784), (1984, 784))"
      ]
     },
     "execution_count": 13,
     "metadata": {},
     "output_type": "execute_result"
    }
   ],
   "source": [
    "X_train = X_train.reshape(X_train.shape[0], -1)\n",
    "X_test = X_test.reshape(X_test.shape[0], -1)\n",
    "X_train.shape, X_test.shape"
   ]
  },
  {
   "cell_type": "markdown",
   "id": "smart-details",
   "metadata": {
    "papermill": {
     "duration": 0.024863,
     "end_time": "2021-07-11T00:21:21.991587",
     "exception": false,
     "start_time": "2021-07-11T00:21:21.966724",
     "status": "completed"
    },
    "tags": []
   },
   "source": [
    "### Importing appropriate functions from 'Kudzu'"
   ]
  },
  {
   "cell_type": "code",
   "execution_count": 14,
   "id": "celtic-trial",
   "metadata": {
    "execution": {
     "iopub.execute_input": "2021-07-11T00:21:22.046295Z",
     "iopub.status.busy": "2021-07-11T00:21:22.045834Z",
     "iopub.status.idle": "2021-07-11T00:21:22.063643Z",
     "shell.execute_reply": "2021-07-11T00:21:22.063244Z"
    },
    "papermill": {
     "duration": 0.047043,
     "end_time": "2021-07-11T00:21:22.063756",
     "exception": false,
     "start_time": "2021-07-11T00:21:22.016713",
     "status": "completed"
    },
    "tags": []
   },
   "outputs": [],
   "source": [
    "from kudzu.layer import Sigmoid\n",
    "from kudzu.layer import Relu\n",
    "from kudzu.layer import Affine, Sigmoid\n",
    "\n",
    "from kudzu.model import Model\n",
    "from kudzu.train import Learner\n",
    "from kudzu.optim import GD\n",
    "from kudzu.data import Data, Dataloader, Sampler\n",
    "\n",
    "from kudzu.callbacks import AccCallback\n",
    "from kudzu.callbacks import ClfCallback\n",
    "\n",
    "from kudzu.loss import MSE"
   ]
  },
  {
   "cell_type": "markdown",
   "id": "coupled-customer",
   "metadata": {
    "papermill": {
     "duration": 0.024806,
     "end_time": "2021-07-11T00:21:22.113651",
     "exception": false,
     "start_time": "2021-07-11T00:21:22.088845",
     "status": "completed"
    },
    "tags": []
   },
   "source": [
    "### Let us create a `Config` class, to store important parameters. \n",
    "This class essentially plays the role of a dictionary."
   ]
  },
  {
   "cell_type": "code",
   "execution_count": 15,
   "id": "young-ceiling",
   "metadata": {
    "execution": {
     "iopub.execute_input": "2021-07-11T00:21:22.167463Z",
     "iopub.status.busy": "2021-07-11T00:21:22.166977Z",
     "iopub.status.idle": "2021-07-11T00:21:22.178650Z",
     "shell.execute_reply": "2021-07-11T00:21:22.178258Z"
    },
    "papermill": {
     "duration": 0.040042,
     "end_time": "2021-07-11T00:21:22.178754",
     "exception": false,
     "start_time": "2021-07-11T00:21:22.138712",
     "status": "completed"
    },
    "tags": []
   },
   "outputs": [],
   "source": [
    "class Config:\n",
    "    pass\n",
    "config = Config()\n",
    "config.lr = 0.001\n",
    "config.num_epochs = 251\n",
    "config.bs = 50"
   ]
  },
  {
   "cell_type": "markdown",
   "id": "according-mandate",
   "metadata": {
    "papermill": {
     "duration": 0.024886,
     "end_time": "2021-07-11T00:21:22.228498",
     "exception": false,
     "start_time": "2021-07-11T00:21:22.203612",
     "status": "completed"
    },
    "tags": []
   },
   "source": [
    "### Initializing data to the variables"
   ]
  },
  {
   "cell_type": "code",
   "execution_count": 16,
   "id": "academic-disposition",
   "metadata": {
    "execution": {
     "iopub.execute_input": "2021-07-11T00:21:22.283841Z",
     "iopub.status.busy": "2021-07-11T00:21:22.283377Z",
     "iopub.status.idle": "2021-07-11T00:21:22.294047Z",
     "shell.execute_reply": "2021-07-11T00:21:22.293674Z"
    },
    "papermill": {
     "duration": 0.040581,
     "end_time": "2021-07-11T00:21:22.294158",
     "exception": false,
     "start_time": "2021-07-11T00:21:22.253577",
     "status": "completed"
    },
    "tags": []
   },
   "outputs": [],
   "source": [
    "data = Data(X_train, y_train.reshape(-1,1))\n",
    "sampler = Sampler(data, config.bs, shuffle=True)\n",
    "\n",
    "dl = Dataloader(data, sampler)\n",
    "\n",
    "opt = GD(config.lr)\n",
    "loss = MSE()"
   ]
  },
  {
   "cell_type": "code",
   "execution_count": 17,
   "id": "featured-commission",
   "metadata": {
    "execution": {
     "iopub.execute_input": "2021-07-11T00:21:22.352477Z",
     "iopub.status.busy": "2021-07-11T00:21:22.352016Z",
     "iopub.status.idle": "2021-07-11T00:21:22.360965Z",
     "shell.execute_reply": "2021-07-11T00:21:22.361412Z"
    },
    "papermill": {
     "duration": 0.042413,
     "end_time": "2021-07-11T00:21:22.361541",
     "exception": false,
     "start_time": "2021-07-11T00:21:22.319128",
     "status": "completed"
    },
    "tags": []
   },
   "outputs": [],
   "source": [
    "training_xdata = X_train\n",
    "testing_xdata = X_test\n",
    "training_ydata = y_train.reshape(-1,1)\n",
    "testing_ydata = y_test.reshape(-1,1)"
   ]
  },
  {
   "cell_type": "markdown",
   "id": "played-safety",
   "metadata": {
    "papermill": {
     "duration": 0.02505,
     "end_time": "2021-07-11T00:21:22.411706",
     "exception": false,
     "start_time": "2021-07-11T00:21:22.386656",
     "status": "completed"
    },
    "tags": []
   },
   "source": [
    "### Running Models with the Training data\n",
    "Details about the network layers:\n",
    "- A first affine layer has 784 inputs and does 100 affine transforms. These are followed by a Relu\n",
    "- A second affine layer has 100 inputs from the 100 activations of the past layer, and does 100 affine transforms. These are followed by a Relu\n",
    "- A third affine layer has 100 activations and does 2 affine transformations to create an embedding for visualization. There is no non-linearity here.\n",
    "- A final \"logistic regression\" which has an affine transform from 2 inputs to 1 output, which is squeezed through a sigmoid.\n",
    "\n",
    "Help taken from Anshuman's Notebook."
   ]
  },
  {
   "cell_type": "code",
   "execution_count": 18,
   "id": "asian-bankruptcy",
   "metadata": {
    "execution": {
     "iopub.execute_input": "2021-07-11T00:21:22.465952Z",
     "iopub.status.busy": "2021-07-11T00:21:22.465490Z",
     "iopub.status.idle": "2021-07-11T00:21:22.478869Z",
     "shell.execute_reply": "2021-07-11T00:21:22.479260Z"
    },
    "papermill": {
     "duration": 0.042786,
     "end_time": "2021-07-11T00:21:22.479391",
     "exception": false,
     "start_time": "2021-07-11T00:21:22.436605",
     "status": "completed"
    },
    "tags": []
   },
   "outputs": [],
   "source": [
    "# layers for the Neural Network\n",
    "layers = [Affine(\"first\", 784, 100), Relu(\"first\"), Affine(\"second\", 100, 100), Relu(\"second\"), Affine(\"third\", 100, 2), Affine(\"final\", 2, 1), Sigmoid(\"final\")]\n",
    "model_nn = Model(layers)\n",
    "\n",
    "# layers for the Logistic Regression\n",
    "layers_lr = [Affine(\"logits\", 784, 1), Sigmoid(\"sigmoid\")]\n",
    "model_lr = Model(layers_lr)"
   ]
  },
  {
   "cell_type": "code",
   "execution_count": 19,
   "id": "removed-butler",
   "metadata": {
    "execution": {
     "iopub.execute_input": "2021-07-11T00:21:22.536386Z",
     "iopub.status.busy": "2021-07-11T00:21:22.535940Z",
     "iopub.status.idle": "2021-07-11T00:21:22.545769Z",
     "shell.execute_reply": "2021-07-11T00:21:22.545395Z"
    },
    "papermill": {
     "duration": 0.041265,
     "end_time": "2021-07-11T00:21:22.545874",
     "exception": false,
     "start_time": "2021-07-11T00:21:22.504609",
     "status": "completed"
    },
    "tags": []
   },
   "outputs": [],
   "source": [
    "# suffix _nn stands for Neural Network.\n",
    "learner_nn = Learner(loss, model_nn, opt, config.num_epochs)\n",
    "acc_nn = ClfCallback(learner_nn, config.bs, training_xdata , testing_xdata, training_ydata, testing_ydata)\n",
    "learner_nn.set_callbacks([acc_nn])"
   ]
  },
  {
   "cell_type": "code",
   "execution_count": 20,
   "id": "conceptual-throw",
   "metadata": {
    "execution": {
     "iopub.execute_input": "2021-07-11T00:21:22.603541Z",
     "iopub.status.busy": "2021-07-11T00:21:22.603045Z",
     "iopub.status.idle": "2021-07-11T00:22:43.272658Z",
     "shell.execute_reply": "2021-07-11T00:22:43.273292Z"
    },
    "papermill": {
     "duration": 80.702695,
     "end_time": "2021-07-11T00:22:43.273442",
     "exception": false,
     "start_time": "2021-07-11T00:21:22.570747",
     "status": "completed"
    },
    "tags": []
   },
   "outputs": [
    {
     "name": "stdout",
     "output_type": "stream",
     "text": [
      "====== Neural Network ======\n"
     ]
    },
    {
     "name": "stdout",
     "output_type": "stream",
     "text": [
      "Epoch 0, Loss 0.2477\n",
      "Training Accuracy: 0.5887, Testing Accuracy: 0.6235\n",
      "\n"
     ]
    },
    {
     "name": "stdout",
     "output_type": "stream",
     "text": [
      "Epoch 10, Loss 0.1816\n",
      "Training Accuracy: 0.8529, Testing Accuracy: 0.8690\n",
      "\n"
     ]
    },
    {
     "name": "stdout",
     "output_type": "stream",
     "text": [
      "Epoch 20, Loss 0.093\n",
      "Training Accuracy: 0.9044, Testing Accuracy: 0.9158\n",
      "\n"
     ]
    },
    {
     "name": "stdout",
     "output_type": "stream",
     "text": [
      "Epoch 30, Loss 0.0616\n",
      "Training Accuracy: 0.9329, Testing Accuracy: 0.9461\n",
      "\n"
     ]
    },
    {
     "name": "stdout",
     "output_type": "stream",
     "text": [
      "Epoch 40, Loss 0.0484\n",
      "Training Accuracy: 0.9460, Testing Accuracy: 0.9531\n",
      "\n"
     ]
    },
    {
     "name": "stdout",
     "output_type": "stream",
     "text": [
      "Epoch 50, Loss 0.0416\n",
      "Training Accuracy: 0.9518, Testing Accuracy: 0.9582\n",
      "\n"
     ]
    },
    {
     "name": "stdout",
     "output_type": "stream",
     "text": [
      "Epoch 60, Loss 0.0376\n",
      "Training Accuracy: 0.9559, Testing Accuracy: 0.9632\n",
      "\n"
     ]
    },
    {
     "name": "stdout",
     "output_type": "stream",
     "text": [
      "Epoch 70, Loss 0.0349\n",
      "Training Accuracy: 0.9599, Testing Accuracy: 0.9662\n",
      "\n"
     ]
    },
    {
     "name": "stdout",
     "output_type": "stream",
     "text": [
      "Epoch 80, Loss 0.0328\n",
      "Training Accuracy: 0.9619, Testing Accuracy: 0.9662\n",
      "\n"
     ]
    },
    {
     "name": "stdout",
     "output_type": "stream",
     "text": [
      "Epoch 90, Loss 0.0312\n",
      "Training Accuracy: 0.9639, Testing Accuracy: 0.9667\n",
      "\n"
     ]
    },
    {
     "name": "stdout",
     "output_type": "stream",
     "text": [
      "Epoch 100, Loss 0.0299\n",
      "Training Accuracy: 0.9654, Testing Accuracy: 0.9667\n",
      "\n"
     ]
    },
    {
     "name": "stdout",
     "output_type": "stream",
     "text": [
      "Epoch 110, Loss 0.0288\n",
      "Training Accuracy: 0.9671, Testing Accuracy: 0.9672\n",
      "\n"
     ]
    },
    {
     "name": "stdout",
     "output_type": "stream",
     "text": [
      "Epoch 120, Loss 0.0279\n",
      "Training Accuracy: 0.9675, Testing Accuracy: 0.9693\n",
      "\n"
     ]
    },
    {
     "name": "stdout",
     "output_type": "stream",
     "text": [
      "Epoch 130, Loss 0.027\n",
      "Training Accuracy: 0.9692, Testing Accuracy: 0.9688\n",
      "\n"
     ]
    },
    {
     "name": "stdout",
     "output_type": "stream",
     "text": [
      "Epoch 140, Loss 0.0263\n",
      "Training Accuracy: 0.9703, Testing Accuracy: 0.9688\n",
      "\n"
     ]
    },
    {
     "name": "stdout",
     "output_type": "stream",
     "text": [
      "Epoch 150, Loss 0.0256\n",
      "Training Accuracy: 0.9708, Testing Accuracy: 0.9693\n",
      "\n"
     ]
    },
    {
     "name": "stdout",
     "output_type": "stream",
     "text": [
      "Epoch 160, Loss 0.025\n",
      "Training Accuracy: 0.9715, Testing Accuracy: 0.9693\n",
      "\n"
     ]
    },
    {
     "name": "stdout",
     "output_type": "stream",
     "text": [
      "Epoch 170, Loss 0.0245\n",
      "Training Accuracy: 0.9719, Testing Accuracy: 0.9698\n",
      "\n"
     ]
    },
    {
     "name": "stdout",
     "output_type": "stream",
     "text": [
      "Epoch 180, Loss 0.024\n",
      "Training Accuracy: 0.9723, Testing Accuracy: 0.9703\n",
      "\n"
     ]
    },
    {
     "name": "stdout",
     "output_type": "stream",
     "text": [
      "Epoch 190, Loss 0.0235\n",
      "Training Accuracy: 0.9724, Testing Accuracy: 0.9703\n",
      "\n"
     ]
    },
    {
     "name": "stdout",
     "output_type": "stream",
     "text": [
      "Epoch 200, Loss 0.0231\n",
      "Training Accuracy: 0.9730, Testing Accuracy: 0.9698\n",
      "\n"
     ]
    },
    {
     "name": "stdout",
     "output_type": "stream",
     "text": [
      "Epoch 210, Loss 0.0226\n",
      "Training Accuracy: 0.9733, Testing Accuracy: 0.9698\n",
      "\n"
     ]
    },
    {
     "name": "stdout",
     "output_type": "stream",
     "text": [
      "Epoch 220, Loss 0.0222\n",
      "Training Accuracy: 0.9736, Testing Accuracy: 0.9703\n",
      "\n"
     ]
    },
    {
     "name": "stdout",
     "output_type": "stream",
     "text": [
      "Epoch 230, Loss 0.0219\n",
      "Training Accuracy: 0.9743, Testing Accuracy: 0.9703\n",
      "\n"
     ]
    },
    {
     "name": "stdout",
     "output_type": "stream",
     "text": [
      "Epoch 240, Loss 0.0215\n",
      "Training Accuracy: 0.9745, Testing Accuracy: 0.9708\n",
      "\n"
     ]
    },
    {
     "name": "stdout",
     "output_type": "stream",
     "text": [
      "Epoch 250, Loss 0.0211\n",
      "Training Accuracy: 0.9750, Testing Accuracy: 0.9713\n",
      "\n"
     ]
    },
    {
     "data": {
      "text/plain": [
       "0.00793990476126338"
      ]
     },
     "execution_count": 20,
     "metadata": {},
     "output_type": "execute_result"
    }
   ],
   "source": [
    "print(\"====== Neural Network ======\")\n",
    "learner_nn.train_loop(dl)"
   ]
  },
  {
   "cell_type": "markdown",
   "id": "competent-suffering",
   "metadata": {
    "papermill": {
     "duration": 0.031194,
     "end_time": "2021-07-11T00:22:43.336379",
     "exception": false,
     "start_time": "2021-07-11T00:22:43.305185",
     "status": "completed"
    },
    "tags": []
   },
   "source": [
    "### Logistic Regression based Implementation."
   ]
  },
  {
   "cell_type": "code",
   "execution_count": 21,
   "id": "qualified-psychiatry",
   "metadata": {
    "execution": {
     "iopub.execute_input": "2021-07-11T00:22:43.402366Z",
     "iopub.status.busy": "2021-07-11T00:22:43.401880Z",
     "iopub.status.idle": "2021-07-11T00:22:43.414556Z",
     "shell.execute_reply": "2021-07-11T00:22:43.414028Z"
    },
    "papermill": {
     "duration": 0.047234,
     "end_time": "2021-07-11T00:22:43.414685",
     "exception": false,
     "start_time": "2021-07-11T00:22:43.367451",
     "status": "completed"
    },
    "tags": []
   },
   "outputs": [],
   "source": [
    "learner_lr = Learner(loss, model_lr, opt, config.num_epochs)\n",
    "acc_lr = ClfCallback(learner_lr, config.bs, training_xdata , testing_xdata, training_ydata, testing_ydata)\n",
    "learner_lr.set_callbacks([acc_lr])"
   ]
  },
  {
   "cell_type": "code",
   "execution_count": 22,
   "id": "average-outside",
   "metadata": {
    "execution": {
     "iopub.execute_input": "2021-07-11T00:22:43.481043Z",
     "iopub.status.busy": "2021-07-11T00:22:43.480560Z",
     "iopub.status.idle": "2021-07-11T00:22:58.244510Z",
     "shell.execute_reply": "2021-07-11T00:22:58.245151Z"
    },
    "papermill": {
     "duration": 14.799146,
     "end_time": "2021-07-11T00:22:58.245294",
     "exception": false,
     "start_time": "2021-07-11T00:22:43.446148",
     "status": "completed"
    },
    "tags": []
   },
   "outputs": [
    {
     "name": "stdout",
     "output_type": "stream",
     "text": [
      "====== Logistic Regression ======\n",
      "Epoch 0, Loss 0.2388\n",
      "Training Accuracy: 0.6950, Testing Accuracy: 0.7036\n",
      "\n"
     ]
    },
    {
     "name": "stdout",
     "output_type": "stream",
     "text": [
      "Epoch 10, Loss 0.1051\n",
      "Training Accuracy: 0.9052, Testing Accuracy: 0.9204\n",
      "\n"
     ]
    },
    {
     "name": "stdout",
     "output_type": "stream",
     "text": [
      "Epoch 20, Loss 0.0807\n",
      "Training Accuracy: 0.9256, Testing Accuracy: 0.9415\n",
      "\n"
     ]
    },
    {
     "name": "stdout",
     "output_type": "stream",
     "text": [
      "Epoch 30, Loss 0.0693\n",
      "Training Accuracy: 0.9335, Testing Accuracy: 0.9496\n",
      "\n"
     ]
    },
    {
     "name": "stdout",
     "output_type": "stream",
     "text": [
      "Epoch 40, Loss 0.0624\n",
      "Training Accuracy: 0.9396, Testing Accuracy: 0.9531\n",
      "\n"
     ]
    },
    {
     "name": "stdout",
     "output_type": "stream",
     "text": [
      "Epoch 50, Loss 0.0577\n",
      "Training Accuracy: 0.9435, Testing Accuracy: 0.9556\n",
      "\n"
     ]
    },
    {
     "name": "stdout",
     "output_type": "stream",
     "text": [
      "Epoch 60, Loss 0.0543\n",
      "Training Accuracy: 0.9456, Testing Accuracy: 0.9556\n",
      "\n"
     ]
    },
    {
     "name": "stdout",
     "output_type": "stream",
     "text": [
      "Epoch 70, Loss 0.0516\n",
      "Training Accuracy: 0.9480, Testing Accuracy: 0.9556\n",
      "\n"
     ]
    },
    {
     "name": "stdout",
     "output_type": "stream",
     "text": [
      "Epoch 80, Loss 0.0495\n",
      "Training Accuracy: 0.9503, Testing Accuracy: 0.9567\n",
      "\n"
     ]
    },
    {
     "name": "stdout",
     "output_type": "stream",
     "text": [
      "Epoch 90, Loss 0.0478\n",
      "Training Accuracy: 0.9518, Testing Accuracy: 0.9587\n",
      "\n"
     ]
    },
    {
     "name": "stdout",
     "output_type": "stream",
     "text": [
      "Epoch 100, Loss 0.0463\n",
      "Training Accuracy: 0.9533, Testing Accuracy: 0.9607\n",
      "\n"
     ]
    },
    {
     "name": "stdout",
     "output_type": "stream",
     "text": [
      "Epoch 110, Loss 0.045\n",
      "Training Accuracy: 0.9544, Testing Accuracy: 0.9617\n",
      "\n"
     ]
    },
    {
     "name": "stdout",
     "output_type": "stream",
     "text": [
      "Epoch 120, Loss 0.0439\n",
      "Training Accuracy: 0.9557, Testing Accuracy: 0.9622\n",
      "\n"
     ]
    },
    {
     "name": "stdout",
     "output_type": "stream",
     "text": [
      "Epoch 130, Loss 0.043\n",
      "Training Accuracy: 0.9565, Testing Accuracy: 0.9637\n",
      "\n"
     ]
    },
    {
     "name": "stdout",
     "output_type": "stream",
     "text": [
      "Epoch 140, Loss 0.0421\n",
      "Training Accuracy: 0.9570, Testing Accuracy: 0.9647\n",
      "\n"
     ]
    },
    {
     "name": "stdout",
     "output_type": "stream",
     "text": [
      "Epoch 150, Loss 0.0414\n",
      "Training Accuracy: 0.9577, Testing Accuracy: 0.9647\n",
      "\n"
     ]
    },
    {
     "name": "stdout",
     "output_type": "stream",
     "text": [
      "Epoch 160, Loss 0.0407\n",
      "Training Accuracy: 0.9579, Testing Accuracy: 0.9647\n",
      "\n"
     ]
    },
    {
     "name": "stdout",
     "output_type": "stream",
     "text": [
      "Epoch 170, Loss 0.0401\n",
      "Training Accuracy: 0.9586, Testing Accuracy: 0.9652\n",
      "\n"
     ]
    },
    {
     "name": "stdout",
     "output_type": "stream",
     "text": [
      "Epoch 180, Loss 0.0395\n",
      "Training Accuracy: 0.9589, Testing Accuracy: 0.9657\n",
      "\n"
     ]
    },
    {
     "name": "stdout",
     "output_type": "stream",
     "text": [
      "Epoch 190, Loss 0.039\n",
      "Training Accuracy: 0.9595, Testing Accuracy: 0.9662\n",
      "\n"
     ]
    },
    {
     "name": "stdout",
     "output_type": "stream",
     "text": [
      "Epoch 200, Loss 0.0385\n",
      "Training Accuracy: 0.9596, Testing Accuracy: 0.9667\n",
      "\n"
     ]
    },
    {
     "name": "stdout",
     "output_type": "stream",
     "text": [
      "Epoch 210, Loss 0.038\n",
      "Training Accuracy: 0.9600, Testing Accuracy: 0.9677\n",
      "\n"
     ]
    },
    {
     "name": "stdout",
     "output_type": "stream",
     "text": [
      "Epoch 220, Loss 0.0376\n",
      "Training Accuracy: 0.9602, Testing Accuracy: 0.9677\n",
      "\n"
     ]
    },
    {
     "name": "stdout",
     "output_type": "stream",
     "text": [
      "Epoch 230, Loss 0.0372\n",
      "Training Accuracy: 0.9605, Testing Accuracy: 0.9677\n",
      "\n"
     ]
    },
    {
     "name": "stdout",
     "output_type": "stream",
     "text": [
      "Epoch 240, Loss 0.0368\n",
      "Training Accuracy: 0.9608, Testing Accuracy: 0.9688\n",
      "\n"
     ]
    },
    {
     "name": "stdout",
     "output_type": "stream",
     "text": [
      "Epoch 250, Loss 0.0365\n",
      "Training Accuracy: 0.9614, Testing Accuracy: 0.9693\n",
      "\n"
     ]
    },
    {
     "data": {
      "text/plain": [
       "0.06825415244358647"
      ]
     },
     "execution_count": 22,
     "metadata": {},
     "output_type": "execute_result"
    }
   ],
   "source": [
    "print(\"====== Logistic Regression ======\")\n",
    "learner_lr.train_loop(dl)"
   ]
  },
  {
   "cell_type": "markdown",
   "id": "adjusted-possible",
   "metadata": {
    "papermill": {
     "duration": 0.037373,
     "end_time": "2021-07-11T00:22:58.320558",
     "exception": false,
     "start_time": "2021-07-11T00:22:58.283185",
     "status": "completed"
    },
    "tags": []
   },
   "source": [
    "### Comparing results of NN and LR"
   ]
  },
  {
   "cell_type": "code",
   "execution_count": 23,
   "id": "mental-multimedia",
   "metadata": {
    "execution": {
     "iopub.execute_input": "2021-07-11T00:22:58.400338Z",
     "iopub.status.busy": "2021-07-11T00:22:58.399820Z",
     "iopub.status.idle": "2021-07-11T00:22:58.630593Z",
     "shell.execute_reply": "2021-07-11T00:22:58.630156Z"
    },
    "papermill": {
     "duration": 0.272603,
     "end_time": "2021-07-11T00:22:58.630718",
     "exception": false,
     "start_time": "2021-07-11T00:22:58.358115",
     "status": "completed"
    },
    "tags": []
   },
   "outputs": [
    {
     "data": {
      "text/plain": [
       "<matplotlib.legend.Legend at 0x7feb79abc1d0>"
      ]
     },
     "execution_count": 23,
     "metadata": {},
     "output_type": "execute_result"
    },
    {
     "data": {
      "image/png": "[encoded data removed]",
      "text/plain": [
       "<Figure size 1080x720 with 1 Axes>"
      ]
     },
     "metadata": {
      "needs_background": "light"
     },
     "output_type": "display_data"
    }
   ],
   "source": [
    "plt.figure(figsize=(15,10))\n",
    "\n",
    "# Neural Network plots\n",
    "plt.plot(acc_nn.accuracies, 'r-', label = \"Training Accuracies - NN\")\n",
    "plt.plot(acc_nn.test_accuracies, 'g-', label = \"Testing Accuracies - NN\")\n",
    "\n",
    "# Logistic Regression plots\n",
    "plt.plot(acc_lr.accuracies, 'k-', label = \"Training Accuracies - LR\")\n",
    "plt.plot(acc_lr.test_accuracies, 'b-', label = \"Testing Accuracies - LR\")\n",
    "\n",
    "plt.ylim(0.8, 1)\n",
    "\n",
    "plt.legend()\n",
    "\n"
   ]
  },
  {
   "cell_type": "markdown",
   "id": "sexual-flesh",
   "metadata": {
    "papermill": {
     "duration": 0.039383,
     "end_time": "2021-07-11T00:22:58.709588",
     "exception": false,
     "start_time": "2021-07-11T00:22:58.670205",
     "status": "completed"
    },
    "tags": []
   },
   "source": [
    "### From the plot, we can observe the following:\n",
    "- Neural Network achieves higher accuracy than the Logistic Regression model.\n",
    "- This apparently, is because of overfitting, i.e. NN captures more noise than data.\n",
    "- Testing accuracy of NN drops below the Training accuracy at higher epochs. This explains the over-fitting on training data.\n",
    "- Logistic Regression gives a reliable accuracy, without the above mentioned problem.\n"
   ]
  },
  {
   "cell_type": "markdown",
   "id": "institutional-pacific",
   "metadata": {
    "papermill": {
     "duration": 0.038988,
     "end_time": "2021-07-11T00:22:58.787594",
     "exception": false,
     "start_time": "2021-07-11T00:22:58.748606",
     "status": "completed"
    },
    "tags": []
   },
   "source": [
    "### Moving till the last but one layer (excluding it).\n",
    "#### Plotting the outputs of this layer of the NN."
   ]
  },
  {
   "cell_type": "code",
   "execution_count": 24,
   "id": "economic-server",
   "metadata": {
    "execution": {
     "iopub.execute_input": "2021-07-11T00:22:58.916366Z",
     "iopub.status.busy": "2021-07-11T00:22:58.909267Z",
     "iopub.status.idle": "2021-07-11T00:22:58.918418Z",
     "shell.execute_reply": "2021-07-11T00:22:58.918036Z"
    },
    "papermill": {
     "duration": 0.091817,
     "end_time": "2021-07-11T00:22:58.918532",
     "exception": false,
     "start_time": "2021-07-11T00:22:58.826715",
     "status": "completed"
    },
    "tags": []
   },
   "outputs": [],
   "source": [
    "model_new = Model(layers[:-2])"
   ]
  },
  {
   "cell_type": "code",
   "execution_count": 25,
   "id": "varied-upgrade",
   "metadata": {
    "execution": {
     "iopub.execute_input": "2021-07-11T00:22:59.000287Z",
     "iopub.status.busy": "2021-07-11T00:22:58.999826Z",
     "iopub.status.idle": "2021-07-11T00:22:59.020452Z",
     "shell.execute_reply": "2021-07-11T00:22:59.020858Z"
    },
    "papermill": {
     "duration": 0.063472,
     "end_time": "2021-07-11T00:22:59.020999",
     "exception": false,
     "start_time": "2021-07-11T00:22:58.957527",
     "status": "completed"
    },
    "tags": []
   },
   "outputs": [],
   "source": [
    "plot_testing = model_new(testing_xdata)"
   ]
  },
  {
   "cell_type": "code",
   "execution_count": 26,
   "id": "specific-handling",
   "metadata": {
    "execution": {
     "iopub.execute_input": "2021-07-11T00:22:59.112736Z",
     "iopub.status.busy": "2021-07-11T00:22:59.112243Z",
     "iopub.status.idle": "2021-07-11T00:22:59.292809Z",
     "shell.execute_reply": "2021-07-11T00:22:59.293166Z"
    },
    "papermill": {
     "duration": 0.224638,
     "end_time": "2021-07-11T00:22:59.293309",
     "exception": false,
     "start_time": "2021-07-11T00:22:59.068671",
     "status": "completed"
    },
    "tags": []
   },
   "outputs": [
    {
     "data": {
      "text/plain": [
       "Text(0.5, 1.0, 'Outputs')"
      ]
     },
     "execution_count": 26,
     "metadata": {},
     "output_type": "execute_result"
    },
    {
     "data": {
      "image/png": "[encoded data removed]",
      "text/plain": [
       "<Figure size 576x504 with 1 Axes>"
      ]
     },
     "metadata": {
      "needs_background": "light"
     },
     "output_type": "display_data"
    }
   ],
   "source": [
    "plt.figure(figsize=(8,7))\n",
    "plt.scatter(plot_testing[:,0], plot_testing[:,1], alpha = 0.1, c = y_test.ravel());\n",
    "plt.title('Outputs')"
   ]
  },
  {
   "cell_type": "markdown",
   "id": "described-knowing",
   "metadata": {
    "papermill": {
     "duration": 0.040631,
     "end_time": "2021-07-11T00:22:59.374865",
     "exception": false,
     "start_time": "2021-07-11T00:22:59.334234",
     "status": "completed"
    },
    "tags": []
   },
   "source": [
    "### Plotting probability contours"
   ]
  },
  {
   "cell_type": "code",
   "execution_count": 27,
   "id": "needed-growing",
   "metadata": {
    "execution": {
     "iopub.execute_input": "2021-07-11T00:22:59.464286Z",
     "iopub.status.busy": "2021-07-11T00:22:59.459513Z",
     "iopub.status.idle": "2021-07-11T00:22:59.469954Z",
     "shell.execute_reply": "2021-07-11T00:22:59.470319Z"
    },
    "papermill": {
     "duration": 0.054803,
     "end_time": "2021-07-11T00:22:59.470456",
     "exception": false,
     "start_time": "2021-07-11T00:22:59.415653",
     "status": "completed"
    },
    "tags": []
   },
   "outputs": [],
   "source": [
    "model_prob = Model(layers[-2:]) "
   ]
  },
  {
   "cell_type": "code",
   "execution_count": 28,
   "id": "introductory-enforcement",
   "metadata": {
    "execution": {
     "iopub.execute_input": "2021-07-11T00:22:59.559804Z",
     "iopub.status.busy": "2021-07-11T00:22:59.559329Z",
     "iopub.status.idle": "2021-07-11T00:22:59.571456Z",
     "shell.execute_reply": "2021-07-11T00:22:59.571810Z"
    },
    "papermill": {
     "duration": 0.06057,
     "end_time": "2021-07-11T00:22:59.571939",
     "exception": false,
     "start_time": "2021-07-11T00:22:59.511369",
     "status": "completed"
    },
    "tags": []
   },
   "outputs": [],
   "source": [
    "# Adjust the x and y ranges according to the above generated plot.\n",
    "x_range = np.linspace(-4, 1, 100) \n",
    "y_range = np.linspace(-6, 6, 100) \n",
    "x_grid, y_grid = np.meshgrid(x_range, y_range) # x_grid and y_grig are of size 100 X 100\n",
    "\n",
    "# converting x_grid and y_grid to continuous arrays\n",
    "x_grid_flat = np.ravel(x_grid)\n",
    "y_grid_flat = np.ravel(y_grid)\n",
    "\n",
    "# The last layer of the current model takes two columns as input. Hence transpose of np.vstack() is required.\n",
    "X = np.vstack((x_grid_flat, y_grid_flat)).T\n",
    "\n",
    "# x_grid and y_grid are of size 100 x 100\n",
    "probability_contour = model_prob(X).reshape(100,100) "
   ]
  },
  {
   "cell_type": "code",
   "execution_count": 29,
   "id": "understood-landing",
   "metadata": {
    "execution": {
     "iopub.execute_input": "2021-07-11T00:22:59.668645Z",
     "iopub.status.busy": "2021-07-11T00:22:59.668135Z",
     "iopub.status.idle": "2021-07-11T00:22:59.905777Z",
     "shell.execute_reply": "2021-07-11T00:22:59.905221Z"
    },
    "papermill": {
     "duration": 0.28762,
     "end_time": "2021-07-11T00:22:59.905892",
     "exception": false,
     "start_time": "2021-07-11T00:22:59.618272",
     "status": "completed"
    },
    "tags": []
   },
   "outputs": [
    {
     "data": {
      "image/png": "[encoded data removed]",
      "text/plain": [
       "<Figure size 720x648 with 1 Axes>"
      ]
     },
     "metadata": {
      "needs_background": "light"
     },
     "output_type": "display_data"
    }
   ],
   "source": [
    "plt.figure(figsize=(10,9))\n",
    "plt.scatter(plot_testing[:,0], plot_testing[:,1], alpha = 0.1, c = y_test.ravel())\n",
    "contours = plt.contour(x_grid,y_grid,probability_contour)\n",
    "plt.title('Probability Contours')\n",
    "plt.clabel(contours, inline = True );"
   ]
  }
 ],
 "metadata": {
  "kernelspec": {
   "display_name": "Python 3",
   "language": "python",
   "name": "python3"
  },
  "language_info": {
   "codemirror_mode": {
    "name": "ipython",
    "version": 3
   },
   "file_extension": ".py",
   "mimetype": "text/x-python",
   "name": "python",
   "nbconvert_exporter": "python",
   "pygments_lexer": "ipython3",
   "version": "3.6.13"
  },
  "papermill": {
   "duration": 418.720563,
   "end_time": "2021-07-11T00:23:00.358166",
   "environment_variables": {},
   "exception": null,
   "input_path": "2020-08-11-NeuralNetwork.ipynb",
   "output_path": "2020-08-11-NeuralNetwork.ipynb",
   "parameters": {},
   "start_time": "2021-07-11T00:16:01.637603",
   "version": "2.1.2"
  }
 },
 "nbformat": 4,
 "nbformat_minor": 5
}