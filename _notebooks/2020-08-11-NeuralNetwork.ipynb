{
 "cells": [
  {
   "cell_type": "markdown",
   "metadata": {
    "papermill": {
     "duration": 0.031195,
     "end_time": "2020-12-20T00:06:51.490773",
     "exception": false,
     "start_time": "2020-12-20T00:06:51.459578",
     "status": "completed"
    },
    "tags": []
   },
   "source": [
    "# \"A Basic Neural Network: Differentiate Hand-Written Digits\"\n",
    "\n",
    "- badges: true\n",
    "- author: Akshith Sriram"
   ]
  },
  {
   "cell_type": "markdown",
   "metadata": {
    "papermill": {
     "duration": 0.028038,
     "end_time": "2020-12-20T00:06:51.545675",
     "exception": false,
     "start_time": "2020-12-20T00:06:51.517637",
     "status": "completed"
    },
    "tags": []
   },
   "source": [
    "### Key Objectives:\n",
    "- Building a neural network that differentiates two hand-written digits 3 and 8.\n",
    "- Comparing the results of this Neural Network (NN) to that of a Logistic Regression (LR) model.\n",
    "\n",
    "### Requirements:\n",
    "- 'Kudzu' : A neural network library that was designed during our course by [Univ.AI](www.univ.ai). \n",
    "- MNIST Database\n",
    "\n",
    "If MNIST is not installed, use the command `!pip install mnist` given below.\n",
    "It can be run both from the command line and Jupyter Notebook."
   ]
  },
  {
   "cell_type": "code",
   "execution_count": 1,
   "metadata": {
    "execution": {
     "iopub.execute_input": "2020-12-20T00:06:51.611578Z",
     "iopub.status.busy": "2020-12-20T00:06:51.610903Z",
     "iopub.status.idle": "2020-12-20T00:06:53.172904Z",
     "shell.execute_reply": "2020-12-20T00:06:53.173411Z"
    },
    "papermill": {
     "duration": 1.599825,
     "end_time": "2020-12-20T00:06:53.173610",
     "exception": false,
     "start_time": "2020-12-20T00:06:51.573785",
     "status": "completed"
    },
    "tags": []
   },
   "outputs": [
    {
     "name": "stdout",
     "output_type": "stream",
     "text": [
      "Collecting mnist\r\n"
     ]
    },
    {
     "name": "stdout",
     "output_type": "stream",
     "text": [
      "  Downloading mnist-0.2.2-py2.py3-none-any.whl (3.5 kB)\r\n"
     ]
    },
    {
     "name": "stdout",
     "output_type": "stream",
     "text": [
      "Requirement already satisfied: numpy in /opt/hostedtoolcache/Python/3.6.12/x64/lib/python3.6/site-packages (from mnist) (1.19.4)\r\n"
     ]
    },
    {
     "name": "stdout",
     "output_type": "stream",
     "text": [
      "Installing collected packages: mnist\r\n"
     ]
    },
    {
     "name": "stdout",
     "output_type": "stream",
     "text": [
      "Successfully installed mnist-0.2.2\r\n",
      "\u001b[33mWARNING: You are using pip version 20.3.1; however, version 20.3.3 is available.\r\n",
      "You should consider upgrading via the '/opt/hostedtoolcache/Python/3.6.12/x64/bin/python -m pip install --upgrade pip' command.\u001b[0m\r\n"
     ]
    }
   ],
   "source": [
    "!pip install mnist "
   ]
  },
  {
   "cell_type": "markdown",
   "metadata": {
    "papermill": {
     "duration": 0.028981,
     "end_time": "2020-12-20T00:06:53.233888",
     "exception": false,
     "start_time": "2020-12-20T00:06:53.204907",
     "status": "completed"
    },
    "tags": []
   },
   "source": [
    "#### Importing necessary libraries"
   ]
  },
  {
   "cell_type": "code",
   "execution_count": 2,
   "metadata": {
    "execution": {
     "iopub.execute_input": "2020-12-20T00:06:53.297783Z",
     "iopub.status.busy": "2020-12-20T00:06:53.297107Z",
     "iopub.status.idle": "2020-12-20T00:06:53.872846Z",
     "shell.execute_reply": "2020-12-20T00:06:53.872295Z"
    },
    "papermill": {
     "duration": 0.611115,
     "end_time": "2020-12-20T00:06:53.872996",
     "exception": false,
     "start_time": "2020-12-20T00:06:53.261881",
     "status": "completed"
    },
    "tags": []
   },
   "outputs": [],
   "source": [
    "%load_ext autoreload\n",
    "%autoreload 2\n",
    "\n",
    "%matplotlib inline\n",
    "import matplotlib.pyplot as plt\n",
    "\n",
    "import numpy as np\n",
    "import pandas as pd"
   ]
  },
  {
   "cell_type": "markdown",
   "metadata": {
    "papermill": {
     "duration": 0.029868,
     "end_time": "2020-12-20T00:06:53.930690",
     "exception": false,
     "start_time": "2020-12-20T00:06:53.900822",
     "status": "completed"
    },
    "tags": []
   },
   "source": [
    "### Preparing the Data"
   ]
  },
  {
   "cell_type": "code",
   "execution_count": 3,
   "metadata": {
    "execution": {
     "iopub.execute_input": "2020-12-20T00:06:53.994945Z",
     "iopub.status.busy": "2020-12-20T00:06:53.994296Z",
     "iopub.status.idle": "2020-12-20T00:06:54.007449Z",
     "shell.execute_reply": "2020-12-20T00:06:54.006819Z"
    },
    "papermill": {
     "duration": 0.044552,
     "end_time": "2020-12-20T00:06:54.007605",
     "exception": false,
     "start_time": "2020-12-20T00:06:53.963053",
     "status": "completed"
    },
    "tags": []
   },
   "outputs": [],
   "source": [
    "import mnist"
   ]
  },
  {
   "cell_type": "code",
   "execution_count": 4,
   "metadata": {
    "execution": {
     "iopub.execute_input": "2020-12-20T00:06:54.086452Z",
     "iopub.status.busy": "2020-12-20T00:06:54.085801Z",
     "iopub.status.idle": "2020-12-20T00:06:54.930947Z",
     "shell.execute_reply": "2020-12-20T00:06:54.931666Z"
    },
    "papermill": {
     "duration": 0.896384,
     "end_time": "2020-12-20T00:06:54.931850",
     "exception": false,
     "start_time": "2020-12-20T00:06:54.035466",
     "status": "completed"
    },
    "tags": []
   },
   "outputs": [],
   "source": [
    "train_images = mnist.train_images()\n",
    "train_labels = mnist.train_labels()"
   ]
  },
  {
   "cell_type": "code",
   "execution_count": 5,
   "metadata": {
    "execution": {
     "iopub.execute_input": "2020-12-20T00:06:54.996156Z",
     "iopub.status.busy": "2020-12-20T00:06:54.995518Z",
     "iopub.status.idle": "2020-12-20T00:06:55.010784Z",
     "shell.execute_reply": "2020-12-20T00:06:55.010251Z"
    },
    "papermill": {
     "duration": 0.048748,
     "end_time": "2020-12-20T00:06:55.010922",
     "exception": false,
     "start_time": "2020-12-20T00:06:54.962174",
     "status": "completed"
    },
    "tags": []
   },
   "outputs": [
    {
     "data": {
      "text/plain": [
       "((60000, 28, 28), (60000,))"
      ]
     },
     "execution_count": 5,
     "metadata": {},
     "output_type": "execute_result"
    }
   ],
   "source": [
    "train_images.shape, train_labels.shape"
   ]
  },
  {
   "cell_type": "code",
   "execution_count": 6,
   "metadata": {
    "execution": {
     "iopub.execute_input": "2020-12-20T00:06:55.074433Z",
     "iopub.status.busy": "2020-12-20T00:06:55.073804Z",
     "iopub.status.idle": "2020-12-20T00:06:55.342261Z",
     "shell.execute_reply": "2020-12-20T00:06:55.341665Z"
    },
    "papermill": {
     "duration": 0.302088,
     "end_time": "2020-12-20T00:06:55.342422",
     "exception": false,
     "start_time": "2020-12-20T00:06:55.040334",
     "status": "completed"
    },
    "tags": []
   },
   "outputs": [],
   "source": [
    "test_images = mnist.test_images()\n",
    "test_labels = mnist.test_labels()"
   ]
  },
  {
   "cell_type": "code",
   "execution_count": 7,
   "metadata": {
    "execution": {
     "iopub.execute_input": "2020-12-20T00:06:55.411585Z",
     "iopub.status.busy": "2020-12-20T00:06:55.410858Z",
     "iopub.status.idle": "2020-12-20T00:06:55.421149Z",
     "shell.execute_reply": "2020-12-20T00:06:55.421763Z"
    },
    "papermill": {
     "duration": 0.050274,
     "end_time": "2020-12-20T00:06:55.421923",
     "exception": false,
     "start_time": "2020-12-20T00:06:55.371649",
     "status": "completed"
    },
    "tags": []
   },
   "outputs": [
    {
     "data": {
      "text/plain": [
       "((10000, 28, 28), (10000,))"
      ]
     },
     "execution_count": 7,
     "metadata": {},
     "output_type": "execute_result"
    }
   ],
   "source": [
    "test_images.shape, test_labels.shape"
   ]
  },
  {
   "cell_type": "code",
   "execution_count": 8,
   "metadata": {
    "execution": {
     "iopub.execute_input": "2020-12-20T00:06:55.488231Z",
     "iopub.status.busy": "2020-12-20T00:06:55.487522Z",
     "iopub.status.idle": "2020-12-20T00:06:55.654555Z",
     "shell.execute_reply": "2020-12-20T00:06:55.654037Z"
    },
    "papermill": {
     "duration": 0.201792,
     "end_time": "2020-12-20T00:06:55.654700",
     "exception": false,
     "start_time": "2020-12-20T00:06:55.452908",
     "status": "completed"
    },
    "tags": []
   },
   "outputs": [
    {
     "name": "stdout",
     "output_type": "stream",
     "text": [
      "2\n"
     ]
    },
    {
     "data": {
      "text/plain": [
       "<matplotlib.image.AxesImage at 0x7f6d661ea208>"
      ]
     },
     "execution_count": 8,
     "metadata": {},
     "output_type": "execute_result"
    },
    {
     "data": {
      "image/png": "[encoded data removed]",
      "text/plain": [
       "<Figure size 432x288 with 1 Axes>"
      ]
     },
     "metadata": {
      "needs_background": "light"
     },
     "output_type": "display_data"
    }
   ],
   "source": [
    "image_index = 7776 # You may select anything up to 60,000\n",
    "print(train_labels[image_index]) \n",
    "plt.imshow(train_images[image_index], cmap='Greys')"
   ]
  },
  {
   "cell_type": "markdown",
   "metadata": {
    "papermill": {
     "duration": 0.031555,
     "end_time": "2020-12-20T00:06:55.715513",
     "exception": false,
     "start_time": "2020-12-20T00:06:55.683958",
     "status": "completed"
    },
    "tags": []
   },
   "source": [
    "## Filter data to get 3 and 8 out"
   ]
  },
  {
   "cell_type": "code",
   "execution_count": 9,
   "metadata": {
    "execution": {
     "iopub.execute_input": "2020-12-20T00:06:55.780155Z",
     "iopub.status.busy": "2020-12-20T00:06:55.779502Z",
     "iopub.status.idle": "2020-12-20T00:06:55.797281Z",
     "shell.execute_reply": "2020-12-20T00:06:55.796713Z"
    },
    "papermill": {
     "duration": 0.051998,
     "end_time": "2020-12-20T00:06:55.797442",
     "exception": false,
     "start_time": "2020-12-20T00:06:55.745444",
     "status": "completed"
    },
    "tags": []
   },
   "outputs": [],
   "source": [
    "train_filter = np.where((train_labels == 3 ) | (train_labels == 8))\n",
    "test_filter = np.where((test_labels == 3) | (test_labels == 8))\n",
    "X_train, y_train = train_images[train_filter], train_labels[train_filter]\n",
    "X_test, y_test = test_images[test_filter], test_labels[test_filter]"
   ]
  },
  {
   "cell_type": "markdown",
   "metadata": {
    "papermill": {
     "duration": 0.030194,
     "end_time": "2020-12-20T00:06:55.858483",
     "exception": false,
     "start_time": "2020-12-20T00:06:55.828289",
     "status": "completed"
    },
    "tags": []
   },
   "source": [
    "We normalize the pixel values in the 0 to 1 range"
   ]
  },
  {
   "cell_type": "code",
   "execution_count": 10,
   "metadata": {
    "execution": {
     "iopub.execute_input": "2020-12-20T00:06:55.935608Z",
     "iopub.status.busy": "2020-12-20T00:06:55.934974Z",
     "iopub.status.idle": "2020-12-20T00:06:55.981606Z",
     "shell.execute_reply": "2020-12-20T00:06:55.981057Z"
    },
    "papermill": {
     "duration": 0.094086,
     "end_time": "2020-12-20T00:06:55.981758",
     "exception": false,
     "start_time": "2020-12-20T00:06:55.887672",
     "status": "completed"
    },
    "tags": []
   },
   "outputs": [],
   "source": [
    "X_train = X_train/255.\n",
    "X_test = X_test/255."
   ]
  },
  {
   "cell_type": "markdown",
   "metadata": {
    "papermill": {
     "duration": 0.030279,
     "end_time": "2020-12-20T00:06:56.041760",
     "exception": false,
     "start_time": "2020-12-20T00:06:56.011481",
     "status": "completed"
    },
    "tags": []
   },
   "source": [
    "Setup the labels as 1 (when the digit is 3) and 0 (when the digit is 8)"
   ]
  },
  {
   "cell_type": "code",
   "execution_count": 11,
   "metadata": {
    "execution": {
     "iopub.execute_input": "2020-12-20T00:06:56.111254Z",
     "iopub.status.busy": "2020-12-20T00:06:56.110606Z",
     "iopub.status.idle": "2020-12-20T00:06:56.120725Z",
     "shell.execute_reply": "2020-12-20T00:06:56.121299Z"
    },
    "papermill": {
     "duration": 0.047684,
     "end_time": "2020-12-20T00:06:56.121439",
     "exception": false,
     "start_time": "2020-12-20T00:06:56.073755",
     "status": "completed"
    },
    "tags": []
   },
   "outputs": [],
   "source": [
    "y_train = 1*(y_train==3)\n",
    "y_test = 1*(y_test==3)"
   ]
  },
  {
   "cell_type": "code",
   "execution_count": 12,
   "metadata": {
    "execution": {
     "iopub.execute_input": "2020-12-20T00:06:56.199554Z",
     "iopub.status.busy": "2020-12-20T00:06:56.193772Z",
     "iopub.status.idle": "2020-12-20T00:06:56.202725Z",
     "shell.execute_reply": "2020-12-20T00:06:56.203291Z"
    },
    "papermill": {
     "duration": 0.051806,
     "end_time": "2020-12-20T00:06:56.203442",
     "exception": false,
     "start_time": "2020-12-20T00:06:56.151636",
     "status": "completed"
    },
    "tags": []
   },
   "outputs": [
    {
     "data": {
      "text/plain": [
       "((11982, 28, 28), (1984, 28, 28))"
      ]
     },
     "execution_count": 12,
     "metadata": {},
     "output_type": "execute_result"
    }
   ],
   "source": [
    "X_train.shape, X_test.shape"
   ]
  },
  {
   "cell_type": "markdown",
   "metadata": {
    "papermill": {
     "duration": 0.030134,
     "end_time": "2020-12-20T00:06:56.263494",
     "exception": false,
     "start_time": "2020-12-20T00:06:56.233360",
     "status": "completed"
    },
    "tags": []
   },
   "source": [
    "### Reshape the input data to create a linear array"
   ]
  },
  {
   "cell_type": "code",
   "execution_count": 13,
   "metadata": {
    "execution": {
     "iopub.execute_input": "2020-12-20T00:06:56.340148Z",
     "iopub.status.busy": "2020-12-20T00:06:56.333578Z",
     "iopub.status.idle": "2020-12-20T00:06:56.343785Z",
     "shell.execute_reply": "2020-12-20T00:06:56.343173Z"
    },
    "papermill": {
     "duration": 0.050771,
     "end_time": "2020-12-20T00:06:56.343919",
     "exception": false,
     "start_time": "2020-12-20T00:06:56.293148",
     "status": "completed"
    },
    "tags": []
   },
   "outputs": [
    {
     "data": {
      "text/plain": [
       "((11982, 784), (1984, 784))"
      ]
     },
     "execution_count": 13,
     "metadata": {},
     "output_type": "execute_result"
    }
   ],
   "source": [
    "X_train = X_train.reshape(X_train.shape[0], -1)\n",
    "X_test = X_test.reshape(X_test.shape[0], -1)\n",
    "X_train.shape, X_test.shape"
   ]
  },
  {
   "cell_type": "markdown",
   "metadata": {
    "papermill": {
     "duration": 0.328152,
     "end_time": "2020-12-20T00:06:56.711334",
     "exception": false,
     "start_time": "2020-12-20T00:06:56.383182",
     "status": "completed"
    },
    "tags": []
   },
   "source": [
    "### Importing appropriate functions from 'Kudzu'"
   ]
  },
  {
   "cell_type": "code",
   "execution_count": 14,
   "metadata": {
    "execution": {
     "iopub.execute_input": "2020-12-20T00:06:56.806219Z",
     "iopub.status.busy": "2020-12-20T00:06:56.805573Z",
     "iopub.status.idle": "2020-12-20T00:06:56.825964Z",
     "shell.execute_reply": "2020-12-20T00:06:56.825392Z"
    },
    "papermill": {
     "duration": 0.072399,
     "end_time": "2020-12-20T00:06:56.826113",
     "exception": false,
     "start_time": "2020-12-20T00:06:56.753714",
     "status": "completed"
    },
    "tags": []
   },
   "outputs": [],
   "source": [
    "from kudzu.layer import Sigmoid\n",
    "from kudzu.layer import Relu\n",
    "from kudzu.layer import Affine, Sigmoid\n",
    "\n",
    "from kudzu.model import Model\n",
    "from kudzu.train import Learner\n",
    "from kudzu.optim import GD\n",
    "from kudzu.data import Data, Dataloader, Sampler\n",
    "\n",
    "from kudzu.callbacks import AccCallback\n",
    "from kudzu.callbacks import ClfCallback\n",
    "\n",
    "from kudzu.loss import MSE"
   ]
  },
  {
   "cell_type": "markdown",
   "metadata": {
    "papermill": {
     "duration": 0.046884,
     "end_time": "2020-12-20T00:06:56.957090",
     "exception": false,
     "start_time": "2020-12-20T00:06:56.910206",
     "status": "completed"
    },
    "tags": []
   },
   "source": [
    "### Let us create a `Config` class, to store important parameters. \n",
    "This class essentially plays the role of a dictionary."
   ]
  },
  {
   "cell_type": "code",
   "execution_count": 15,
   "metadata": {
    "execution": {
     "iopub.execute_input": "2020-12-20T00:06:57.052703Z",
     "iopub.status.busy": "2020-12-20T00:06:57.052040Z",
     "iopub.status.idle": "2020-12-20T00:06:57.066698Z",
     "shell.execute_reply": "2020-12-20T00:06:57.065606Z"
    },
    "papermill": {
     "duration": 0.058896,
     "end_time": "2020-12-20T00:06:57.066864",
     "exception": false,
     "start_time": "2020-12-20T00:06:57.007968",
     "status": "completed"
    },
    "tags": []
   },
   "outputs": [],
   "source": [
    "class Config:\n",
    "    pass\n",
    "config = Config()\n",
    "config.lr = 0.001\n",
    "config.num_epochs = 251\n",
    "config.bs = 50"
   ]
  },
  {
   "cell_type": "markdown",
   "metadata": {
    "papermill": {
     "duration": 0.03209,
     "end_time": "2020-12-20T00:06:57.146575",
     "exception": false,
     "start_time": "2020-12-20T00:06:57.114485",
     "status": "completed"
    },
    "tags": []
   },
   "source": [
    "### Initializing data to the variables"
   ]
  },
  {
   "cell_type": "code",
   "execution_count": 16,
   "metadata": {
    "execution": {
     "iopub.execute_input": "2020-12-20T00:06:57.368344Z",
     "iopub.status.busy": "2020-12-20T00:06:57.367672Z",
     "iopub.status.idle": "2020-12-20T00:06:57.382863Z",
     "shell.execute_reply": "2020-12-20T00:06:57.383534Z"
    },
    "papermill": {
     "duration": 0.07587,
     "end_time": "2020-12-20T00:06:57.383733",
     "exception": false,
     "start_time": "2020-12-20T00:06:57.307863",
     "status": "completed"
    },
    "tags": []
   },
   "outputs": [],
   "source": [
    "data = Data(X_train, y_train.reshape(-1,1))\n",
    "sampler = Sampler(data, config.bs, shuffle=True)\n",
    "\n",
    "dl = Dataloader(data, sampler)\n",
    "\n",
    "opt = GD(config.lr)\n",
    "loss = MSE()"
   ]
  },
  {
   "cell_type": "code",
   "execution_count": 17,
   "metadata": {
    "execution": {
     "iopub.execute_input": "2020-12-20T00:06:57.452222Z",
     "iopub.status.busy": "2020-12-20T00:06:57.451566Z",
     "iopub.status.idle": "2020-12-20T00:06:57.466287Z",
     "shell.execute_reply": "2020-12-20T00:06:57.465751Z"
    },
    "papermill": {
     "duration": 0.049954,
     "end_time": "2020-12-20T00:06:57.466419",
     "exception": false,
     "start_time": "2020-12-20T00:06:57.416465",
     "status": "completed"
    },
    "tags": []
   },
   "outputs": [],
   "source": [
    "training_xdata = X_train\n",
    "testing_xdata = X_test\n",
    "training_ydata = y_train.reshape(-1,1)\n",
    "testing_ydata = y_test.reshape(-1,1)"
   ]
  },
  {
   "cell_type": "markdown",
   "metadata": {
    "papermill": {
     "duration": 0.032323,
     "end_time": "2020-12-20T00:06:57.538972",
     "exception": false,
     "start_time": "2020-12-20T00:06:57.506649",
     "status": "completed"
    },
    "tags": []
   },
   "source": [
    "### Running Models with the Training data\n",
    "Details about the network layers:\n",
    "- A first affine layer has 784 inputs and does 100 affine transforms. These are followed by a Relu\n",
    "- A second affine layer has 100 inputs from the 100 activations of the past layer, and does 100 affine transforms. These are followed by a Relu\n",
    "- A third affine layer has 100 activations and does 2 affine transformations to create an embedding for visualization. There is no non-linearity here.\n",
    "- A final \"logistic regression\" which has an affine transform from 2 inputs to 1 output, which is squeezed through a sigmoid.\n",
    "\n",
    "Help taken from Anshuman's Notebook."
   ]
  },
  {
   "cell_type": "code",
   "execution_count": 18,
   "metadata": {
    "execution": {
     "iopub.execute_input": "2020-12-20T00:06:57.606315Z",
     "iopub.status.busy": "2020-12-20T00:06:57.605652Z",
     "iopub.status.idle": "2020-12-20T00:06:57.622372Z",
     "shell.execute_reply": "2020-12-20T00:06:57.622905Z"
    },
    "papermill": {
     "duration": 0.052829,
     "end_time": "2020-12-20T00:06:57.623086",
     "exception": false,
     "start_time": "2020-12-20T00:06:57.570257",
     "status": "completed"
    },
    "tags": []
   },
   "outputs": [],
   "source": [
    "# layers for the Neural Network\n",
    "layers = [Affine(\"first\", 784, 100), Relu(\"first\"), Affine(\"second\", 100, 100), Relu(\"second\"), Affine(\"third\", 100, 2), Affine(\"final\", 2, 1), Sigmoid(\"final\")]\n",
    "model_nn = Model(layers)\n",
    "\n",
    "# layers for the Logistic Regression\n",
    "layers_lr = [Affine(\"logits\", 784, 1), Sigmoid(\"sigmoid\")]\n",
    "model_lr = Model(layers_lr)"
   ]
  },
  {
   "cell_type": "code",
   "execution_count": 19,
   "metadata": {
    "execution": {
     "iopub.execute_input": "2020-12-20T00:06:57.692124Z",
     "iopub.status.busy": "2020-12-20T00:06:57.691460Z",
     "iopub.status.idle": "2020-12-20T00:06:57.704098Z",
     "shell.execute_reply": "2020-12-20T00:06:57.704723Z"
    },
    "papermill": {
     "duration": 0.050025,
     "end_time": "2020-12-20T00:06:57.704877",
     "exception": false,
     "start_time": "2020-12-20T00:06:57.654852",
     "status": "completed"
    },
    "tags": []
   },
   "outputs": [],
   "source": [
    "# suffix _nn stands for Neural Network.\n",
    "learner_nn = Learner(loss, model_nn, opt, config.num_epochs)\n",
    "acc_nn = ClfCallback(learner_nn, config.bs, training_xdata , testing_xdata, training_ydata, testing_ydata)\n",
    "learner_nn.set_callbacks([acc_nn])"
   ]
  },
  {
   "cell_type": "code",
   "execution_count": 20,
   "metadata": {
    "execution": {
     "iopub.execute_input": "2020-12-20T00:06:57.772593Z",
     "iopub.status.busy": "2020-12-20T00:06:57.771927Z",
     "iopub.status.idle": "2020-12-20T00:08:59.069637Z",
     "shell.execute_reply": "2020-12-20T00:08:59.070196Z"
    },
    "papermill": {
     "duration": 121.334617,
     "end_time": "2020-12-20T00:08:59.070373",
     "exception": false,
     "start_time": "2020-12-20T00:06:57.735756",
     "status": "completed"
    },
    "tags": []
   },
   "outputs": [
    {
     "name": "stdout",
     "output_type": "stream",
     "text": [
      "====== Neural Network ======\n"
     ]
    },
    {
     "name": "stdout",
     "output_type": "stream",
     "text": [
      "Epoch 0, Loss 0.2391\n",
      "Training Accuracy: 0.7191, Testing Accuracy: 0.7198\n",
      "\n"
     ]
    },
    {
     "name": "stdout",
     "output_type": "stream",
     "text": [
      "Epoch 10, Loss 0.1064\n",
      "Training Accuracy: 0.9078, Testing Accuracy: 0.9173\n",
      "\n"
     ]
    },
    {
     "name": "stdout",
     "output_type": "stream",
     "text": [
      "Epoch 20, Loss 0.0628\n",
      "Training Accuracy: 0.9382, Testing Accuracy: 0.9451\n",
      "\n"
     ]
    },
    {
     "name": "stdout",
     "output_type": "stream",
     "text": [
      "Epoch 30, Loss 0.0476\n",
      "Training Accuracy: 0.9479, Testing Accuracy: 0.9567\n",
      "\n"
     ]
    },
    {
     "name": "stdout",
     "output_type": "stream",
     "text": [
      "Epoch 40, Loss 0.0402\n",
      "Training Accuracy: 0.9550, Testing Accuracy: 0.9592\n",
      "\n"
     ]
    },
    {
     "name": "stdout",
     "output_type": "stream",
     "text": [
      "Epoch 50, Loss 0.036\n",
      "Training Accuracy: 0.9607, Testing Accuracy: 0.9632\n",
      "\n"
     ]
    },
    {
     "name": "stdout",
     "output_type": "stream",
     "text": [
      "Epoch 60, Loss 0.0332\n",
      "Training Accuracy: 0.9631, Testing Accuracy: 0.9642\n",
      "\n"
     ]
    },
    {
     "name": "stdout",
     "output_type": "stream",
     "text": [
      "Epoch 70, Loss 0.0311\n",
      "Training Accuracy: 0.9649, Testing Accuracy: 0.9657\n",
      "\n"
     ]
    },
    {
     "name": "stdout",
     "output_type": "stream",
     "text": [
      "Epoch 80, Loss 0.0296\n",
      "Training Accuracy: 0.9661, Testing Accuracy: 0.9667\n",
      "\n"
     ]
    },
    {
     "name": "stdout",
     "output_type": "stream",
     "text": [
      "Epoch 90, Loss 0.0283\n",
      "Training Accuracy: 0.9670, Testing Accuracy: 0.9667\n",
      "\n"
     ]
    },
    {
     "name": "stdout",
     "output_type": "stream",
     "text": [
      "Epoch 100, Loss 0.0272\n",
      "Training Accuracy: 0.9684, Testing Accuracy: 0.9677\n",
      "\n"
     ]
    },
    {
     "name": "stdout",
     "output_type": "stream",
     "text": [
      "Epoch 110, Loss 0.0263\n",
      "Training Accuracy: 0.9692, Testing Accuracy: 0.9682\n",
      "\n"
     ]
    },
    {
     "name": "stdout",
     "output_type": "stream",
     "text": [
      "Epoch 120, Loss 0.0256\n",
      "Training Accuracy: 0.9704, Testing Accuracy: 0.9688\n",
      "\n"
     ]
    },
    {
     "name": "stdout",
     "output_type": "stream",
     "text": [
      "Epoch 130, Loss 0.0248\n",
      "Training Accuracy: 0.9710, Testing Accuracy: 0.9688\n",
      "\n"
     ]
    },
    {
     "name": "stdout",
     "output_type": "stream",
     "text": [
      "Epoch 140, Loss 0.0242\n",
      "Training Accuracy: 0.9717, Testing Accuracy: 0.9693\n",
      "\n"
     ]
    },
    {
     "name": "stdout",
     "output_type": "stream",
     "text": [
      "Epoch 150, Loss 0.0236\n",
      "Training Accuracy: 0.9724, Testing Accuracy: 0.9698\n",
      "\n"
     ]
    },
    {
     "name": "stdout",
     "output_type": "stream",
     "text": [
      "Epoch 160, Loss 0.0231\n",
      "Training Accuracy: 0.9734, Testing Accuracy: 0.9708\n",
      "\n"
     ]
    },
    {
     "name": "stdout",
     "output_type": "stream",
     "text": [
      "Epoch 170, Loss 0.0226\n",
      "Training Accuracy: 0.9742, Testing Accuracy: 0.9718\n",
      "\n"
     ]
    },
    {
     "name": "stdout",
     "output_type": "stream",
     "text": [
      "Epoch 180, Loss 0.0221\n",
      "Training Accuracy: 0.9750, Testing Accuracy: 0.9718\n",
      "\n"
     ]
    },
    {
     "name": "stdout",
     "output_type": "stream",
     "text": [
      "Epoch 190, Loss 0.0217\n",
      "Training Accuracy: 0.9757, Testing Accuracy: 0.9718\n",
      "\n"
     ]
    },
    {
     "name": "stdout",
     "output_type": "stream",
     "text": [
      "Epoch 200, Loss 0.0212\n",
      "Training Accuracy: 0.9763, Testing Accuracy: 0.9723\n",
      "\n"
     ]
    },
    {
     "name": "stdout",
     "output_type": "stream",
     "text": [
      "Epoch 210, Loss 0.0208\n",
      "Training Accuracy: 0.9770, Testing Accuracy: 0.9718\n",
      "\n"
     ]
    },
    {
     "name": "stdout",
     "output_type": "stream",
     "text": [
      "Epoch 220, Loss 0.0205\n",
      "Training Accuracy: 0.9774, Testing Accuracy: 0.9723\n",
      "\n"
     ]
    },
    {
     "name": "stdout",
     "output_type": "stream",
     "text": [
      "Epoch 230, Loss 0.0201\n",
      "Training Accuracy: 0.9777, Testing Accuracy: 0.9728\n",
      "\n"
     ]
    },
    {
     "name": "stdout",
     "output_type": "stream",
     "text": [
      "Epoch 240, Loss 0.0197\n",
      "Training Accuracy: 0.9784, Testing Accuracy: 0.9728\n",
      "\n"
     ]
    },
    {
     "name": "stdout",
     "output_type": "stream",
     "text": [
      "Epoch 250, Loss 0.0194\n",
      "Training Accuracy: 0.9786, Testing Accuracy: 0.9733\n",
      "\n"
     ]
    },
    {
     "data": {
      "text/plain": [
       "0.001968570162606061"
      ]
     },
     "execution_count": 20,
     "metadata": {},
     "output_type": "execute_result"
    }
   ],
   "source": [
    "print(\"====== Neural Network ======\")\n",
    "learner_nn.train_loop(dl)"
   ]
  },
  {
   "cell_type": "markdown",
   "metadata": {
    "papermill": {
     "duration": 0.04112,
     "end_time": "2020-12-20T00:08:59.154784",
     "exception": false,
     "start_time": "2020-12-20T00:08:59.113664",
     "status": "completed"
    },
    "tags": []
   },
   "source": [
    "### Logistic Regression based Implementation."
   ]
  },
  {
   "cell_type": "code",
   "execution_count": 21,
   "metadata": {
    "execution": {
     "iopub.execute_input": "2020-12-20T00:08:59.255002Z",
     "iopub.status.busy": "2020-12-20T00:08:59.251088Z",
     "iopub.status.idle": "2020-12-20T00:08:59.259078Z",
     "shell.execute_reply": "2020-12-20T00:08:59.258492Z"
    },
    "papermill": {
     "duration": 0.061606,
     "end_time": "2020-12-20T00:08:59.259226",
     "exception": false,
     "start_time": "2020-12-20T00:08:59.197620",
     "status": "completed"
    },
    "tags": []
   },
   "outputs": [],
   "source": [
    "learner_lr = Learner(loss, model_lr, opt, config.num_epochs)\n",
    "acc_lr = ClfCallback(learner_lr, config.bs, training_xdata , testing_xdata, training_ydata, testing_ydata)\n",
    "learner_lr.set_callbacks([acc_lr])"
   ]
  },
  {
   "cell_type": "code",
   "execution_count": 22,
   "metadata": {
    "execution": {
     "iopub.execute_input": "2020-12-20T00:08:59.350515Z",
     "iopub.status.busy": "2020-12-20T00:08:59.345753Z",
     "iopub.status.idle": "2020-12-20T00:09:17.893148Z",
     "shell.execute_reply": "2020-12-20T00:09:17.894046Z"
    },
    "papermill": {
     "duration": 18.594014,
     "end_time": "2020-12-20T00:09:17.894236",
     "exception": false,
     "start_time": "2020-12-20T00:08:59.300222",
     "status": "completed"
    },
    "tags": []
   },
   "outputs": [
    {
     "name": "stdout",
     "output_type": "stream",
     "text": [
      "====== Logistic Regression ======\n",
      "Epoch 0, Loss 0.253\n",
      "Training Accuracy: 0.6564, Testing Accuracy: 0.6386\n",
      "\n"
     ]
    },
    {
     "name": "stdout",
     "output_type": "stream",
     "text": [
      "Epoch 10, Loss 0.1007\n",
      "Training Accuracy: 0.9115, Testing Accuracy: 0.9199\n",
      "\n"
     ]
    },
    {
     "name": "stdout",
     "output_type": "stream",
     "text": [
      "Epoch 20, Loss 0.0776\n",
      "Training Accuracy: 0.9309, Testing Accuracy: 0.9380\n",
      "\n"
     ]
    },
    {
     "name": "stdout",
     "output_type": "stream",
     "text": [
      "Epoch 30, Loss 0.067\n",
      "Training Accuracy: 0.9372, Testing Accuracy: 0.9425\n",
      "\n"
     ]
    },
    {
     "name": "stdout",
     "output_type": "stream",
     "text": [
      "Epoch 40, Loss 0.0607\n",
      "Training Accuracy: 0.9403, Testing Accuracy: 0.9486\n",
      "\n"
     ]
    },
    {
     "name": "stdout",
     "output_type": "stream",
     "text": [
      "Epoch 50, Loss 0.0563\n",
      "Training Accuracy: 0.9448, Testing Accuracy: 0.9541\n",
      "\n"
     ]
    },
    {
     "name": "stdout",
     "output_type": "stream",
     "text": [
      "Epoch 60, Loss 0.0531\n",
      "Training Accuracy: 0.9467, Testing Accuracy: 0.9556\n",
      "\n"
     ]
    },
    {
     "name": "stdout",
     "output_type": "stream",
     "text": [
      "Epoch 70, Loss 0.0506\n",
      "Training Accuracy: 0.9498, Testing Accuracy: 0.9561\n",
      "\n"
     ]
    },
    {
     "name": "stdout",
     "output_type": "stream",
     "text": [
      "Epoch 80, Loss 0.0486\n",
      "Training Accuracy: 0.9501, Testing Accuracy: 0.9572\n",
      "\n"
     ]
    },
    {
     "name": "stdout",
     "output_type": "stream",
     "text": [
      "Epoch 90, Loss 0.047\n",
      "Training Accuracy: 0.9513, Testing Accuracy: 0.9587\n",
      "\n"
     ]
    },
    {
     "name": "stdout",
     "output_type": "stream",
     "text": [
      "Epoch 100, Loss 0.0456\n",
      "Training Accuracy: 0.9525, Testing Accuracy: 0.9587\n",
      "\n"
     ]
    },
    {
     "name": "stdout",
     "output_type": "stream",
     "text": [
      "Epoch 110, Loss 0.0444\n",
      "Training Accuracy: 0.9533, Testing Accuracy: 0.9597\n",
      "\n"
     ]
    },
    {
     "name": "stdout",
     "output_type": "stream",
     "text": [
      "Epoch 120, Loss 0.0434\n",
      "Training Accuracy: 0.9546, Testing Accuracy: 0.9627\n",
      "\n"
     ]
    },
    {
     "name": "stdout",
     "output_type": "stream",
     "text": [
      "Epoch 130, Loss 0.0424\n",
      "Training Accuracy: 0.9552, Testing Accuracy: 0.9637\n",
      "\n"
     ]
    },
    {
     "name": "stdout",
     "output_type": "stream",
     "text": [
      "Epoch 140, Loss 0.0416\n",
      "Training Accuracy: 0.9563, Testing Accuracy: 0.9637\n",
      "\n"
     ]
    },
    {
     "name": "stdout",
     "output_type": "stream",
     "text": [
      "Epoch 150, Loss 0.0409\n",
      "Training Accuracy: 0.9572, Testing Accuracy: 0.9642\n",
      "\n"
     ]
    },
    {
     "name": "stdout",
     "output_type": "stream",
     "text": [
      "Epoch 160, Loss 0.0402\n",
      "Training Accuracy: 0.9579, Testing Accuracy: 0.9642\n",
      "\n"
     ]
    },
    {
     "name": "stdout",
     "output_type": "stream",
     "text": [
      "Epoch 170, Loss 0.0396\n",
      "Training Accuracy: 0.9581, Testing Accuracy: 0.9647\n",
      "\n"
     ]
    },
    {
     "name": "stdout",
     "output_type": "stream",
     "text": [
      "Epoch 180, Loss 0.0391\n",
      "Training Accuracy: 0.9589, Testing Accuracy: 0.9657\n",
      "\n"
     ]
    },
    {
     "name": "stdout",
     "output_type": "stream",
     "text": [
      "Epoch 190, Loss 0.0386\n",
      "Training Accuracy: 0.9595, Testing Accuracy: 0.9662\n",
      "\n"
     ]
    },
    {
     "name": "stdout",
     "output_type": "stream",
     "text": [
      "Epoch 200, Loss 0.0381\n",
      "Training Accuracy: 0.9602, Testing Accuracy: 0.9662\n",
      "\n"
     ]
    },
    {
     "name": "stdout",
     "output_type": "stream",
     "text": [
      "Epoch 210, Loss 0.0377\n",
      "Training Accuracy: 0.9607, Testing Accuracy: 0.9667\n",
      "\n"
     ]
    },
    {
     "name": "stdout",
     "output_type": "stream",
     "text": [
      "Epoch 220, Loss 0.0373\n",
      "Training Accuracy: 0.9609, Testing Accuracy: 0.9667\n",
      "\n"
     ]
    },
    {
     "name": "stdout",
     "output_type": "stream",
     "text": [
      "Epoch 230, Loss 0.0369\n",
      "Training Accuracy: 0.9610, Testing Accuracy: 0.9667\n",
      "\n"
     ]
    },
    {
     "name": "stdout",
     "output_type": "stream",
     "text": [
      "Epoch 240, Loss 0.0365\n",
      "Training Accuracy: 0.9612, Testing Accuracy: 0.9677\n",
      "\n"
     ]
    },
    {
     "name": "stdout",
     "output_type": "stream",
     "text": [
      "Epoch 250, Loss 0.0362\n",
      "Training Accuracy: 0.9611, Testing Accuracy: 0.9667\n",
      "\n"
     ]
    },
    {
     "data": {
      "text/plain": [
       "0.04384030604499352"
      ]
     },
     "execution_count": 22,
     "metadata": {},
     "output_type": "execute_result"
    }
   ],
   "source": [
    "print(\"====== Logistic Regression ======\")\n",
    "learner_lr.train_loop(dl)"
   ]
  },
  {
   "cell_type": "markdown",
   "metadata": {
    "papermill": {
     "duration": 0.043409,
     "end_time": "2020-12-20T00:09:17.982619",
     "exception": false,
     "start_time": "2020-12-20T00:09:17.939210",
     "status": "completed"
    },
    "tags": []
   },
   "source": [
    "### Comparing results of NN and LR"
   ]
  },
  {
   "cell_type": "code",
   "execution_count": 23,
   "metadata": {
    "execution": {
     "iopub.execute_input": "2020-12-20T00:09:18.079548Z",
     "iopub.status.busy": "2020-12-20T00:09:18.077800Z",
     "iopub.status.idle": "2020-12-20T00:09:18.341125Z",
     "shell.execute_reply": "2020-12-20T00:09:18.340094Z"
    },
    "papermill": {
     "duration": 0.313875,
     "end_time": "2020-12-20T00:09:18.341279",
     "exception": false,
     "start_time": "2020-12-20T00:09:18.027404",
     "status": "completed"
    },
    "tags": []
   },
   "outputs": [
    {
     "data": {
      "text/plain": [
       "<matplotlib.legend.Legend at 0x7f6d5f60fb38>"
      ]
     },
     "execution_count": 23,
     "metadata": {},
     "output_type": "execute_result"
    },
    {
     "data": {
      "image/png": "[encoded data removed]",
      "text/plain": [
       "<Figure size 1080x720 with 1 Axes>"
      ]
     },
     "metadata": {
      "needs_background": "light"
     },
     "output_type": "display_data"
    }
   ],
   "source": [
    "plt.figure(figsize=(15,10))\n",
    "\n",
    "# Neural Network plots\n",
    "plt.plot(acc_nn.accuracies, 'r-', label = \"Training Accuracies - NN\")\n",
    "plt.plot(acc_nn.test_accuracies, 'g-', label = \"Testing Accuracies - NN\")\n",
    "\n",
    "# Logistic Regression plots\n",
    "plt.plot(acc_lr.accuracies, 'k-', label = \"Training Accuracies - LR\")\n",
    "plt.plot(acc_lr.test_accuracies, 'b-', label = \"Testing Accuracies - LR\")\n",
    "\n",
    "plt.ylim(0.8, 1)\n",
    "\n",
    "plt.legend()\n",
    "\n"
   ]
  },
  {
   "cell_type": "markdown",
   "metadata": {
    "papermill": {
     "duration": 0.048099,
     "end_time": "2020-12-20T00:09:18.438997",
     "exception": false,
     "start_time": "2020-12-20T00:09:18.390898",
     "status": "completed"
    },
    "tags": []
   },
   "source": [
    "### From the plot, we can observe the following:\n",
    "- Neural Network achieves higher accuracy than the Logistic Regression model.\n",
    "- This apparently, is because of overfitting, i.e. NN captures more noise than data.\n",
    "- Testing accuracy of NN drops below the Training accuracy at higher epochs. This explains the over-fitting on training data.\n",
    "- Logistic Regression gives a reliable accuracy, without the above mentioned problem.\n"
   ]
  },
  {
   "cell_type": "markdown",
   "metadata": {
    "papermill": {
     "duration": 0.045518,
     "end_time": "2020-12-20T00:09:18.529805",
     "exception": false,
     "start_time": "2020-12-20T00:09:18.484287",
     "status": "completed"
    },
    "tags": []
   },
   "source": [
    "### Moving till the last but one layer (excluding it).\n",
    "#### Plotting the outputs of this layer of the NN."
   ]
  },
  {
   "cell_type": "code",
   "execution_count": 24,
   "metadata": {
    "execution": {
     "iopub.execute_input": "2020-12-20T00:09:18.647712Z",
     "iopub.status.busy": "2020-12-20T00:09:18.645711Z",
     "iopub.status.idle": "2020-12-20T00:09:18.650555Z",
     "shell.execute_reply": "2020-12-20T00:09:18.650015Z"
    },
    "papermill": {
     "duration": 0.071671,
     "end_time": "2020-12-20T00:09:18.650698",
     "exception": false,
     "start_time": "2020-12-20T00:09:18.579027",
     "status": "completed"
    },
    "tags": []
   },
   "outputs": [],
   "source": [
    "model_new = Model(layers[:-2])"
   ]
  },
  {
   "cell_type": "code",
   "execution_count": 25,
   "metadata": {
    "execution": {
     "iopub.execute_input": "2020-12-20T00:09:18.752680Z",
     "iopub.status.busy": "2020-12-20T00:09:18.752025Z",
     "iopub.status.idle": "2020-12-20T00:09:18.779565Z",
     "shell.execute_reply": "2020-12-20T00:09:18.780178Z"
    },
    "papermill": {
     "duration": 0.079385,
     "end_time": "2020-12-20T00:09:18.780347",
     "exception": false,
     "start_time": "2020-12-20T00:09:18.700962",
     "status": "completed"
    },
    "tags": []
   },
   "outputs": [],
   "source": [
    "plot_testing = model_new(testing_xdata)"
   ]
  },
  {
   "cell_type": "code",
   "execution_count": 26,
   "metadata": {
    "execution": {
     "iopub.execute_input": "2020-12-20T00:09:18.910432Z",
     "iopub.status.busy": "2020-12-20T00:09:18.900142Z",
     "iopub.status.idle": "2020-12-20T00:09:19.139376Z",
     "shell.execute_reply": "2020-12-20T00:09:19.138780Z"
    },
    "papermill": {
     "duration": 0.304084,
     "end_time": "2020-12-20T00:09:19.139531",
     "exception": false,
     "start_time": "2020-12-20T00:09:18.835447",
     "status": "completed"
    },
    "tags": []
   },
   "outputs": [
    {
     "data": {
      "text/plain": [
       "Text(0.5, 1.0, 'Outputs')"
      ]
     },
     "execution_count": 26,
     "metadata": {},
     "output_type": "execute_result"
    },
    {
     "data": {
      "image/png": "[encoded data removed]",
      "text/plain": [
       "<Figure size 576x504 with 1 Axes>"
      ]
     },
     "metadata": {
      "needs_background": "light"
     },
     "output_type": "display_data"
    }
   ],
   "source": [
    "plt.figure(figsize=(8,7))\n",
    "plt.scatter(plot_testing[:,0], plot_testing[:,1], alpha = 0.1, c = y_test.ravel());\n",
    "plt.title('Outputs')"
   ]
  },
  {
   "cell_type": "markdown",
   "metadata": {
    "papermill": {
     "duration": 0.050875,
     "end_time": "2020-12-20T00:09:19.242838",
     "exception": false,
     "start_time": "2020-12-20T00:09:19.191963",
     "status": "completed"
    },
    "tags": []
   },
   "source": [
    "### Plotting probability contours"
   ]
  },
  {
   "cell_type": "code",
   "execution_count": 27,
   "metadata": {
    "execution": {
     "iopub.execute_input": "2020-12-20T00:09:19.350754Z",
     "iopub.status.busy": "2020-12-20T00:09:19.350094Z",
     "iopub.status.idle": "2020-12-20T00:09:19.364862Z",
     "shell.execute_reply": "2020-12-20T00:09:19.364277Z"
    },
    "papermill": {
     "duration": 0.07064,
     "end_time": "2020-12-20T00:09:19.365007",
     "exception": false,
     "start_time": "2020-12-20T00:09:19.294367",
     "status": "completed"
    },
    "tags": []
   },
   "outputs": [],
   "source": [
    "model_prob = Model(layers[-2:]) "
   ]
  },
  {
   "cell_type": "code",
   "execution_count": 28,
   "metadata": {
    "execution": {
     "iopub.execute_input": "2020-12-20T00:09:19.494332Z",
     "iopub.status.busy": "2020-12-20T00:09:19.493649Z",
     "iopub.status.idle": "2020-12-20T00:09:19.501299Z",
     "shell.execute_reply": "2020-12-20T00:09:19.500645Z"
    },
    "papermill": {
     "duration": 0.082292,
     "end_time": "2020-12-20T00:09:19.501455",
     "exception": false,
     "start_time": "2020-12-20T00:09:19.419163",
     "status": "completed"
    },
    "tags": []
   },
   "outputs": [],
   "source": [
    "# Adjust the x and y ranges according to the above generated plot.\n",
    "x_range = np.linspace(-4, 1, 100) \n",
    "y_range = np.linspace(-6, 6, 100) \n",
    "x_grid, y_grid = np.meshgrid(x_range, y_range) # x_grid and y_grig are of size 100 X 100\n",
    "\n",
    "# converting x_grid and y_grid to continuous arrays\n",
    "x_grid_flat = np.ravel(x_grid)\n",
    "y_grid_flat = np.ravel(y_grid)\n",
    "\n",
    "# The last layer of the current model takes two columns as input. Hence transpose of np.vstack() is required.\n",
    "X = np.vstack((x_grid_flat, y_grid_flat)).T\n",
    "\n",
    "# x_grid and y_grid are of size 100 x 100\n",
    "probability_contour = model_prob(X).reshape(100,100) "
   ]
  },
  {
   "cell_type": "code",
   "execution_count": 29,
   "metadata": {
    "execution": {
     "iopub.execute_input": "2020-12-20T00:09:19.644177Z",
     "iopub.status.busy": "2020-12-20T00:09:19.643207Z",
     "iopub.status.idle": "2020-12-20T00:09:19.925896Z",
     "shell.execute_reply": "2020-12-20T00:09:19.926412Z"
    },
    "papermill": {
     "duration": 0.343217,
     "end_time": "2020-12-20T00:09:19.926569",
     "exception": false,
     "start_time": "2020-12-20T00:09:19.583352",
     "status": "completed"
    },
    "tags": []
   },
   "outputs": [
    {
     "data": {
      "image/png": "[encoded data removed]",
      "text/plain": [
       "<Figure size 720x648 with 1 Axes>"
      ]
     },
     "metadata": {
      "needs_background": "light"
     },
     "output_type": "display_data"
    }
   ],
   "source": [
    "plt.figure(figsize=(10,9))\n",
    "plt.scatter(plot_testing[:,0], plot_testing[:,1], alpha = 0.1, c = y_test.ravel())\n",
    "contours = plt.contour(x_grid,y_grid,probability_contour)\n",
    "plt.title('Probability Contours')\n",
    "plt.clabel(contours, inline = True );"
   ]
  }
 ],
 "metadata": {
  "kernelspec": {
   "display_name": "Python 3",
   "language": "python",
   "name": "python3"
  },
  "language_info": {
   "codemirror_mode": {
    "name": "ipython",
    "version": 3
   },
   "file_extension": ".py",
   "mimetype": "text/x-python",
   "name": "python",
   "nbconvert_exporter": "python",
   "pygments_lexer": "ipython3",
   "version": "3.6.12"
  },
  "papermill": {
   "duration": 150.011749,
   "end_time": "2020-12-20T00:09:20.387685",
   "environment_variables": {},
   "exception": null,
   "input_path": "2020-08-11-NeuralNetwork.ipynb",
   "output_path": "2020-08-11-NeuralNetwork.ipynb",
   "parameters": {},
   "start_time": "2020-12-20T00:06:50.375936",
   "version": "2.1.2"
  }
 },
 "nbformat": 4,
 "nbformat_minor": 4
}