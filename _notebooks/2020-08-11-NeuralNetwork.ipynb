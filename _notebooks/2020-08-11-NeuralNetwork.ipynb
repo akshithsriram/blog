{
 "cells": [
  {
   "cell_type": "markdown",
   "metadata": {
    "papermill": {
     "duration": 0.033549,
     "end_time": "2020-08-22T20:04:30.255327",
     "exception": false,
     "start_time": "2020-08-22T20:04:30.221778",
     "status": "completed"
    },
    "tags": []
   },
   "source": [
    "# \"A Basic Neural Network: Differentiate Hand-Written Digits\"\n",
    "\n",
    "- badges: true\n",
    "- author: Akshith Sriram"
   ]
  },
  {
   "cell_type": "markdown",
   "metadata": {
    "papermill": {
     "duration": 0.030014,
     "end_time": "2020-08-22T20:04:30.314184",
     "exception": false,
     "start_time": "2020-08-22T20:04:30.284170",
     "status": "completed"
    },
    "tags": []
   },
   "source": [
    "### Key Objectives:\n",
    "- Building a neural network that differentiates two hand-written digits 3 and 8.\n",
    "- Comparing the results of this Neural Network (NN) to that of a Logistic Regression (LR) model.\n",
    "\n",
    "### Requirements:\n",
    "- 'Kudzu' : A neural network library that was designed during our course by [Univ.AI](www.univ.ai). \n",
    "- MNIST Database\n",
    "\n",
    "If MNIST is not installed, use the command `!pip install mnist` given below.\n",
    "It can be run both from the command line and Jupyter Notebook."
   ]
  },
  {
   "cell_type": "code",
   "execution_count": 1,
   "metadata": {
    "execution": {
     "iopub.execute_input": "2020-08-22T20:04:30.374628Z",
     "iopub.status.busy": "2020-08-22T20:04:30.373998Z",
     "iopub.status.idle": "2020-08-22T20:04:32.704405Z",
     "shell.execute_reply": "2020-08-22T20:04:32.703514Z"
    },
    "papermill": {
     "duration": 2.362689,
     "end_time": "2020-08-22T20:04:32.704624",
     "exception": false,
     "start_time": "2020-08-22T20:04:30.341935",
     "status": "completed"
    },
    "tags": []
   },
   "outputs": [
    {
     "name": "stdout",
     "output_type": "stream",
     "text": [
      "Collecting mnist\r\n"
     ]
    },
    {
     "name": "stdout",
     "output_type": "stream",
     "text": [
      "  Downloading mnist-0.2.2-py2.py3-none-any.whl (3.5 kB)\r\n"
     ]
    },
    {
     "name": "stdout",
     "output_type": "stream",
     "text": [
      "Requirement already satisfied: numpy in /opt/hostedtoolcache/Python/3.6.11/x64/lib/python3.6/site-packages (from mnist) (1.19.1)\r\n"
     ]
    },
    {
     "name": "stdout",
     "output_type": "stream",
     "text": [
      "Installing collected packages: mnist\r\n"
     ]
    },
    {
     "name": "stdout",
     "output_type": "stream",
     "text": [
      "Successfully installed mnist-0.2.2\r\n"
     ]
    }
   ],
   "source": [
    "!pip install mnist "
   ]
  },
  {
   "cell_type": "markdown",
   "metadata": {
    "papermill": {
     "duration": 0.030923,
     "end_time": "2020-08-22T20:04:32.767809",
     "exception": false,
     "start_time": "2020-08-22T20:04:32.736886",
     "status": "completed"
    },
    "tags": []
   },
   "source": [
    "#### Importing necessary libraries"
   ]
  },
  {
   "cell_type": "code",
   "execution_count": 2,
   "metadata": {
    "execution": {
     "iopub.execute_input": "2020-08-22T20:04:32.839381Z",
     "iopub.status.busy": "2020-08-22T20:04:32.838712Z",
     "iopub.status.idle": "2020-08-22T20:04:33.460898Z",
     "shell.execute_reply": "2020-08-22T20:04:33.460243Z"
    },
    "papermill": {
     "duration": 0.658094,
     "end_time": "2020-08-22T20:04:33.461073",
     "exception": false,
     "start_time": "2020-08-22T20:04:32.802979",
     "status": "completed"
    },
    "tags": []
   },
   "outputs": [],
   "source": [
    "%load_ext autoreload\n",
    "%autoreload 2\n",
    "\n",
    "%matplotlib inline\n",
    "import matplotlib.pyplot as plt\n",
    "\n",
    "import numpy as np\n",
    "import pandas as pd"
   ]
  },
  {
   "cell_type": "markdown",
   "metadata": {
    "papermill": {
     "duration": 0.029556,
     "end_time": "2020-08-22T20:04:33.521435",
     "exception": false,
     "start_time": "2020-08-22T20:04:33.491879",
     "status": "completed"
    },
    "tags": []
   },
   "source": [
    "### Preparing the Data"
   ]
  },
  {
   "cell_type": "code",
   "execution_count": 3,
   "metadata": {
    "execution": {
     "iopub.execute_input": "2020-08-22T20:04:33.584940Z",
     "iopub.status.busy": "2020-08-22T20:04:33.584204Z",
     "iopub.status.idle": "2020-08-22T20:04:33.596982Z",
     "shell.execute_reply": "2020-08-22T20:04:33.597448Z"
    },
    "papermill": {
     "duration": 0.046768,
     "end_time": "2020-08-22T20:04:33.597620",
     "exception": false,
     "start_time": "2020-08-22T20:04:33.550852",
     "status": "completed"
    },
    "tags": []
   },
   "outputs": [],
   "source": [
    "import mnist"
   ]
  },
  {
   "cell_type": "code",
   "execution_count": 4,
   "metadata": {
    "execution": {
     "iopub.execute_input": "2020-08-22T20:04:33.663813Z",
     "iopub.status.busy": "2020-08-22T20:04:33.662936Z",
     "iopub.status.idle": "2020-08-22T20:04:34.492384Z",
     "shell.execute_reply": "2020-08-22T20:04:34.491682Z"
    },
    "papermill": {
     "duration": 0.864107,
     "end_time": "2020-08-22T20:04:34.492582",
     "exception": false,
     "start_time": "2020-08-22T20:04:33.628475",
     "status": "completed"
    },
    "tags": []
   },
   "outputs": [],
   "source": [
    "train_images = mnist.train_images()\n",
    "train_labels = mnist.train_labels()"
   ]
  },
  {
   "cell_type": "code",
   "execution_count": 5,
   "metadata": {
    "execution": {
     "iopub.execute_input": "2020-08-22T20:04:34.555525Z",
     "iopub.status.busy": "2020-08-22T20:04:34.554887Z",
     "iopub.status.idle": "2020-08-22T20:04:34.570414Z",
     "shell.execute_reply": "2020-08-22T20:04:34.570915Z"
    },
    "papermill": {
     "duration": 0.049979,
     "end_time": "2020-08-22T20:04:34.571074",
     "exception": false,
     "start_time": "2020-08-22T20:04:34.521095",
     "status": "completed"
    },
    "tags": []
   },
   "outputs": [
    {
     "data": {
      "text/plain": [
       "((60000, 28, 28), (60000,))"
      ]
     },
     "execution_count": 5,
     "metadata": {},
     "output_type": "execute_result"
    }
   ],
   "source": [
    "train_images.shape, train_labels.shape"
   ]
  },
  {
   "cell_type": "code",
   "execution_count": 6,
   "metadata": {
    "execution": {
     "iopub.execute_input": "2020-08-22T20:04:34.635662Z",
     "iopub.status.busy": "2020-08-22T20:04:34.634790Z",
     "iopub.status.idle": "2020-08-22T20:04:34.922004Z",
     "shell.execute_reply": "2020-08-22T20:04:34.921413Z"
    },
    "papermill": {
     "duration": 0.320944,
     "end_time": "2020-08-22T20:04:34.922138",
     "exception": false,
     "start_time": "2020-08-22T20:04:34.601194",
     "status": "completed"
    },
    "tags": []
   },
   "outputs": [],
   "source": [
    "test_images = mnist.test_images()\n",
    "test_labels = mnist.test_labels()"
   ]
  },
  {
   "cell_type": "code",
   "execution_count": 7,
   "metadata": {
    "execution": {
     "iopub.execute_input": "2020-08-22T20:04:34.989009Z",
     "iopub.status.busy": "2020-08-22T20:04:34.988282Z",
     "iopub.status.idle": "2020-08-22T20:04:35.003838Z",
     "shell.execute_reply": "2020-08-22T20:04:35.003294Z"
    },
    "papermill": {
     "duration": 0.049944,
     "end_time": "2020-08-22T20:04:35.003971",
     "exception": false,
     "start_time": "2020-08-22T20:04:34.954027",
     "status": "completed"
    },
    "tags": []
   },
   "outputs": [
    {
     "data": {
      "text/plain": [
       "((10000, 28, 28), (10000,))"
      ]
     },
     "execution_count": 7,
     "metadata": {},
     "output_type": "execute_result"
    }
   ],
   "source": [
    "test_images.shape, test_labels.shape"
   ]
  },
  {
   "cell_type": "code",
   "execution_count": 8,
   "metadata": {
    "execution": {
     "iopub.execute_input": "2020-08-22T20:04:35.070348Z",
     "iopub.status.busy": "2020-08-22T20:04:35.069589Z",
     "iopub.status.idle": "2020-08-22T20:04:35.254263Z",
     "shell.execute_reply": "2020-08-22T20:04:35.254804Z"
    },
    "papermill": {
     "duration": 0.221475,
     "end_time": "2020-08-22T20:04:35.254985",
     "exception": false,
     "start_time": "2020-08-22T20:04:35.033510",
     "status": "completed"
    },
    "tags": []
   },
   "outputs": [
    {
     "name": "stdout",
     "output_type": "stream",
     "text": [
      "2\n"
     ]
    },
    {
     "data": {
      "text/plain": [
       "<matplotlib.image.AxesImage at 0x7f7a6b331080>"
      ]
     },
     "execution_count": 8,
     "metadata": {},
     "output_type": "execute_result"
    },
    {
     "data": {
      "image/png": "[encoded data removed]",
      "text/plain": [
       "<Figure size 432x288 with 1 Axes>"
      ]
     },
     "metadata": {
      "needs_background": "light"
     },
     "output_type": "display_data"
    }
   ],
   "source": [
    "image_index = 7776 # You may select anything up to 60,000\n",
    "print(train_labels[image_index]) \n",
    "plt.imshow(train_images[image_index], cmap='Greys')"
   ]
  },
  {
   "cell_type": "markdown",
   "metadata": {
    "papermill": {
     "duration": 0.032578,
     "end_time": "2020-08-22T20:04:35.318327",
     "exception": false,
     "start_time": "2020-08-22T20:04:35.285749",
     "status": "completed"
    },
    "tags": []
   },
   "source": [
    "## Filter data to get 3 and 8 out"
   ]
  },
  {
   "cell_type": "code",
   "execution_count": 9,
   "metadata": {
    "execution": {
     "iopub.execute_input": "2020-08-22T20:04:35.388155Z",
     "iopub.status.busy": "2020-08-22T20:04:35.387528Z",
     "iopub.status.idle": "2020-08-22T20:04:35.409645Z",
     "shell.execute_reply": "2020-08-22T20:04:35.408911Z"
    },
    "papermill": {
     "duration": 0.059985,
     "end_time": "2020-08-22T20:04:35.409833",
     "exception": false,
     "start_time": "2020-08-22T20:04:35.349848",
     "status": "completed"
    },
    "tags": []
   },
   "outputs": [],
   "source": [
    "train_filter = np.where((train_labels == 3 ) | (train_labels == 8))\n",
    "test_filter = np.where((test_labels == 3) | (test_labels == 8))\n",
    "X_train, y_train = train_images[train_filter], train_labels[train_filter]\n",
    "X_test, y_test = test_images[test_filter], test_labels[test_filter]"
   ]
  },
  {
   "cell_type": "markdown",
   "metadata": {
    "papermill": {
     "duration": 0.032426,
     "end_time": "2020-08-22T20:04:35.472939",
     "exception": false,
     "start_time": "2020-08-22T20:04:35.440513",
     "status": "completed"
    },
    "tags": []
   },
   "source": [
    "We normalize the pixel values in the 0 to 1 range"
   ]
  },
  {
   "cell_type": "code",
   "execution_count": 10,
   "metadata": {
    "execution": {
     "iopub.execute_input": "2020-08-22T20:04:35.540985Z",
     "iopub.status.busy": "2020-08-22T20:04:35.540105Z",
     "iopub.status.idle": "2020-08-22T20:04:35.604131Z",
     "shell.execute_reply": "2020-08-22T20:04:35.604607Z"
    },
    "papermill": {
     "duration": 0.100691,
     "end_time": "2020-08-22T20:04:35.604772",
     "exception": false,
     "start_time": "2020-08-22T20:04:35.504081",
     "status": "completed"
    },
    "tags": []
   },
   "outputs": [],
   "source": [
    "X_train = X_train/255.\n",
    "X_test = X_test/255."
   ]
  },
  {
   "cell_type": "markdown",
   "metadata": {
    "papermill": {
     "duration": 0.031584,
     "end_time": "2020-08-22T20:04:35.668174",
     "exception": false,
     "start_time": "2020-08-22T20:04:35.636590",
     "status": "completed"
    },
    "tags": []
   },
   "source": [
    "Setup the labels as 1 (when the digit is 3) and 0 (when the digit is 8)"
   ]
  },
  {
   "cell_type": "code",
   "execution_count": 11,
   "metadata": {
    "execution": {
     "iopub.execute_input": "2020-08-22T20:04:35.739868Z",
     "iopub.status.busy": "2020-08-22T20:04:35.739208Z",
     "iopub.status.idle": "2020-08-22T20:04:35.753401Z",
     "shell.execute_reply": "2020-08-22T20:04:35.752831Z"
    },
    "papermill": {
     "duration": 0.053352,
     "end_time": "2020-08-22T20:04:35.753553",
     "exception": false,
     "start_time": "2020-08-22T20:04:35.700201",
     "status": "completed"
    },
    "tags": []
   },
   "outputs": [],
   "source": [
    "y_train = 1*(y_train==3)\n",
    "y_test = 1*(y_test==3)"
   ]
  },
  {
   "cell_type": "code",
   "execution_count": 12,
   "metadata": {
    "execution": {
     "iopub.execute_input": "2020-08-22T20:04:35.821122Z",
     "iopub.status.busy": "2020-08-22T20:04:35.820470Z",
     "iopub.status.idle": "2020-08-22T20:04:35.834506Z",
     "shell.execute_reply": "2020-08-22T20:04:35.835040Z"
    },
    "papermill": {
     "duration": 0.050364,
     "end_time": "2020-08-22T20:04:35.835217",
     "exception": false,
     "start_time": "2020-08-22T20:04:35.784853",
     "status": "completed"
    },
    "tags": []
   },
   "outputs": [
    {
     "data": {
      "text/plain": [
       "((11982, 28, 28), (1984, 28, 28))"
      ]
     },
     "execution_count": 12,
     "metadata": {},
     "output_type": "execute_result"
    }
   ],
   "source": [
    "X_train.shape, X_test.shape"
   ]
  },
  {
   "cell_type": "markdown",
   "metadata": {
    "papermill": {
     "duration": 0.032053,
     "end_time": "2020-08-22T20:04:35.899889",
     "exception": false,
     "start_time": "2020-08-22T20:04:35.867836",
     "status": "completed"
    },
    "tags": []
   },
   "source": [
    "### Reshape the input data to create a linear array"
   ]
  },
  {
   "cell_type": "code",
   "execution_count": 13,
   "metadata": {
    "execution": {
     "iopub.execute_input": "2020-08-22T20:04:35.968559Z",
     "iopub.status.busy": "2020-08-22T20:04:35.967962Z",
     "iopub.status.idle": "2020-08-22T20:04:35.981861Z",
     "shell.execute_reply": "2020-08-22T20:04:35.982514Z"
    },
    "papermill": {
     "duration": 0.051011,
     "end_time": "2020-08-22T20:04:35.982669",
     "exception": false,
     "start_time": "2020-08-22T20:04:35.931658",
     "status": "completed"
    },
    "tags": []
   },
   "outputs": [
    {
     "data": {
      "text/plain": [
       "((11982, 784), (1984, 784))"
      ]
     },
     "execution_count": 13,
     "metadata": {},
     "output_type": "execute_result"
    }
   ],
   "source": [
    "X_train = X_train.reshape(X_train.shape[0], -1)\n",
    "X_test = X_test.reshape(X_test.shape[0], -1)\n",
    "X_train.shape, X_test.shape"
   ]
  },
  {
   "cell_type": "markdown",
   "metadata": {
    "papermill": {
     "duration": 0.031278,
     "end_time": "2020-08-22T20:04:36.047367",
     "exception": false,
     "start_time": "2020-08-22T20:04:36.016089",
     "status": "completed"
    },
    "tags": []
   },
   "source": [
    "### Importing appropriate functions from 'Kudzu'"
   ]
  },
  {
   "cell_type": "code",
   "execution_count": 14,
   "metadata": {
    "execution": {
     "iopub.execute_input": "2020-08-22T20:04:36.116163Z",
     "iopub.status.busy": "2020-08-22T20:04:36.115457Z",
     "iopub.status.idle": "2020-08-22T20:04:36.136184Z",
     "shell.execute_reply": "2020-08-22T20:04:36.136660Z"
    },
    "papermill": {
     "duration": 0.056804,
     "end_time": "2020-08-22T20:04:36.136816",
     "exception": false,
     "start_time": "2020-08-22T20:04:36.080012",
     "status": "completed"
    },
    "tags": []
   },
   "outputs": [],
   "source": [
    "from kudzu.layer import Sigmoid\n",
    "from kudzu.layer import Relu\n",
    "from kudzu.layer import Affine, Sigmoid\n",
    "\n",
    "from kudzu.model import Model\n",
    "from kudzu.train import Learner\n",
    "from kudzu.optim import GD\n",
    "from kudzu.data import Data, Dataloader, Sampler\n",
    "\n",
    "from kudzu.callbacks import AccCallback\n",
    "from kudzu.callbacks import ClfCallback\n",
    "\n",
    "from kudzu.loss import MSE"
   ]
  },
  {
   "cell_type": "markdown",
   "metadata": {
    "papermill": {
     "duration": 0.030557,
     "end_time": "2020-08-22T20:04:36.200330",
     "exception": false,
     "start_time": "2020-08-22T20:04:36.169773",
     "status": "completed"
    },
    "tags": []
   },
   "source": [
    "### Let us create a `Config` class, to store important parameters. \n",
    "This class essentially plays the role of a dictionary."
   ]
  },
  {
   "cell_type": "code",
   "execution_count": 15,
   "metadata": {
    "execution": {
     "iopub.execute_input": "2020-08-22T20:04:36.273538Z",
     "iopub.status.busy": "2020-08-22T20:04:36.272877Z",
     "iopub.status.idle": "2020-08-22T20:04:36.285915Z",
     "shell.execute_reply": "2020-08-22T20:04:36.286440Z"
    },
    "papermill": {
     "duration": 0.051048,
     "end_time": "2020-08-22T20:04:36.286582",
     "exception": false,
     "start_time": "2020-08-22T20:04:36.235534",
     "status": "completed"
    },
    "tags": []
   },
   "outputs": [],
   "source": [
    "class Config:\n",
    "    pass\n",
    "config = Config()\n",
    "config.lr = 0.001\n",
    "config.num_epochs = 251\n",
    "config.bs = 50"
   ]
  },
  {
   "cell_type": "markdown",
   "metadata": {
    "papermill": {
     "duration": 0.030612,
     "end_time": "2020-08-22T20:04:36.349252",
     "exception": false,
     "start_time": "2020-08-22T20:04:36.318640",
     "status": "completed"
    },
    "tags": []
   },
   "source": [
    "### Initializing data to the variables"
   ]
  },
  {
   "cell_type": "code",
   "execution_count": 16,
   "metadata": {
    "execution": {
     "iopub.execute_input": "2020-08-22T20:04:36.421016Z",
     "iopub.status.busy": "2020-08-22T20:04:36.420422Z",
     "iopub.status.idle": "2020-08-22T20:04:36.433132Z",
     "shell.execute_reply": "2020-08-22T20:04:36.433571Z"
    },
    "papermill": {
     "duration": 0.0498,
     "end_time": "2020-08-22T20:04:36.433753",
     "exception": false,
     "start_time": "2020-08-22T20:04:36.383953",
     "status": "completed"
    },
    "tags": []
   },
   "outputs": [],
   "source": [
    "data = Data(X_train, y_train.reshape(-1,1))\n",
    "sampler = Sampler(data, config.bs, shuffle=True)\n",
    "\n",
    "dl = Dataloader(data, sampler)\n",
    "\n",
    "opt = GD(config.lr)\n",
    "loss = MSE()"
   ]
  },
  {
   "cell_type": "code",
   "execution_count": 17,
   "metadata": {
    "execution": {
     "iopub.execute_input": "2020-08-22T20:04:36.504501Z",
     "iopub.status.busy": "2020-08-22T20:04:36.503906Z",
     "iopub.status.idle": "2020-08-22T20:04:36.517274Z",
     "shell.execute_reply": "2020-08-22T20:04:36.516765Z"
    },
    "papermill": {
     "duration": 0.050157,
     "end_time": "2020-08-22T20:04:36.517403",
     "exception": false,
     "start_time": "2020-08-22T20:04:36.467246",
     "status": "completed"
    },
    "tags": []
   },
   "outputs": [],
   "source": [
    "training_xdata = X_train\n",
    "testing_xdata = X_test\n",
    "training_ydata = y_train.reshape(-1,1)\n",
    "testing_ydata = y_test.reshape(-1,1)"
   ]
  },
  {
   "cell_type": "markdown",
   "metadata": {
    "papermill": {
     "duration": 0.03195,
     "end_time": "2020-08-22T20:04:36.580799",
     "exception": false,
     "start_time": "2020-08-22T20:04:36.548849",
     "status": "completed"
    },
    "tags": []
   },
   "source": [
    "### Running Models with the Training data\n",
    "Details about the network layers:\n",
    "- A first affine layer has 784 inputs and does 100 affine transforms. These are followed by a Relu\n",
    "- A second affine layer has 100 inputs from the 100 activations of the past layer, and does 100 affine transforms. These are followed by a Relu\n",
    "- A third affine layer has 100 activations and does 2 affine transformations to create an embedding for visualization. There is no non-linearity here.\n",
    "- A final \"logistic regression\" which has an affine transform from 2 inputs to 1 output, which is squeezed through a sigmoid.\n",
    "\n",
    "Help taken from Anshuman's Notebook."
   ]
  },
  {
   "cell_type": "code",
   "execution_count": 18,
   "metadata": {
    "execution": {
     "iopub.execute_input": "2020-08-22T20:04:36.650722Z",
     "iopub.status.busy": "2020-08-22T20:04:36.649932Z",
     "iopub.status.idle": "2020-08-22T20:04:36.667554Z",
     "shell.execute_reply": "2020-08-22T20:04:36.666957Z"
    },
    "papermill": {
     "duration": 0.054687,
     "end_time": "2020-08-22T20:04:36.667698",
     "exception": false,
     "start_time": "2020-08-22T20:04:36.613011",
     "status": "completed"
    },
    "tags": []
   },
   "outputs": [],
   "source": [
    "# layers for the Neural Network\n",
    "layers = [Affine(\"first\", 784, 100), Relu(\"first\"), Affine(\"second\", 100, 100), Relu(\"second\"), Affine(\"third\", 100, 2), Affine(\"final\", 2, 1), Sigmoid(\"final\")]\n",
    "model_nn = Model(layers)\n",
    "\n",
    "# layers for the Logistic Regression\n",
    "layers_lr = [Affine(\"logits\", 784, 1), Sigmoid(\"sigmoid\")]\n",
    "model_lr = Model(layers_lr)"
   ]
  },
  {
   "cell_type": "code",
   "execution_count": 19,
   "metadata": {
    "execution": {
     "iopub.execute_input": "2020-08-22T20:04:36.741480Z",
     "iopub.status.busy": "2020-08-22T20:04:36.740698Z",
     "iopub.status.idle": "2020-08-22T20:04:36.754290Z",
     "shell.execute_reply": "2020-08-22T20:04:36.753738Z"
    },
    "papermill": {
     "duration": 0.053576,
     "end_time": "2020-08-22T20:04:36.754443",
     "exception": false,
     "start_time": "2020-08-22T20:04:36.700867",
     "status": "completed"
    },
    "tags": []
   },
   "outputs": [],
   "source": [
    "# suffix _nn stands for Neural Network.\n",
    "learner_nn = Learner(loss, model_nn, opt, config.num_epochs)\n",
    "acc_nn = ClfCallback(learner_nn, config.bs, training_xdata , testing_xdata, training_ydata, testing_ydata)\n",
    "learner_nn.set_callbacks([acc_nn])"
   ]
  },
  {
   "cell_type": "code",
   "execution_count": 20,
   "metadata": {
    "execution": {
     "iopub.execute_input": "2020-08-22T20:04:36.826815Z",
     "iopub.status.busy": "2020-08-22T20:04:36.826200Z",
     "iopub.status.idle": "2020-08-22T20:06:57.659245Z",
     "shell.execute_reply": "2020-08-22T20:06:57.660148Z"
    },
    "papermill": {
     "duration": 140.870051,
     "end_time": "2020-08-22T20:06:57.660313",
     "exception": false,
     "start_time": "2020-08-22T20:04:36.790262",
     "status": "completed"
    },
    "tags": []
   },
   "outputs": [
    {
     "name": "stdout",
     "output_type": "stream",
     "text": [
      "====== Neural Network ======\n"
     ]
    },
    {
     "name": "stdout",
     "output_type": "stream",
     "text": [
      "Epoch 0, Loss 0.2145\n",
      "Training Accuracy: 0.7888, Testing Accuracy: 0.7777\n",
      "\n"
     ]
    },
    {
     "name": "stdout",
     "output_type": "stream",
     "text": [
      "Epoch 10, Loss 0.0592\n",
      "Training Accuracy: 0.9387, Testing Accuracy: 0.9476\n",
      "\n"
     ]
    },
    {
     "name": "stdout",
     "output_type": "stream",
     "text": [
      "Epoch 20, Loss 0.0415\n",
      "Training Accuracy: 0.9552, Testing Accuracy: 0.9642\n",
      "\n"
     ]
    },
    {
     "name": "stdout",
     "output_type": "stream",
     "text": [
      "Epoch 30, Loss 0.0346\n",
      "Training Accuracy: 0.9599, Testing Accuracy: 0.9688\n",
      "\n"
     ]
    },
    {
     "name": "stdout",
     "output_type": "stream",
     "text": [
      "Epoch 40, Loss 0.0307\n",
      "Training Accuracy: 0.9654, Testing Accuracy: 0.9698\n",
      "\n"
     ]
    },
    {
     "name": "stdout",
     "output_type": "stream",
     "text": [
      "Epoch 50, Loss 0.0281\n",
      "Training Accuracy: 0.9688, Testing Accuracy: 0.9738\n",
      "\n"
     ]
    },
    {
     "name": "stdout",
     "output_type": "stream",
     "text": [
      "Epoch 60, Loss 0.0262\n",
      "Training Accuracy: 0.9707, Testing Accuracy: 0.9758\n",
      "\n"
     ]
    },
    {
     "name": "stdout",
     "output_type": "stream",
     "text": [
      "Epoch 70, Loss 0.0246\n",
      "Training Accuracy: 0.9722, Testing Accuracy: 0.9778\n",
      "\n"
     ]
    },
    {
     "name": "stdout",
     "output_type": "stream",
     "text": [
      "Epoch 80, Loss 0.0234\n",
      "Training Accuracy: 0.9735, Testing Accuracy: 0.9773\n",
      "\n"
     ]
    },
    {
     "name": "stdout",
     "output_type": "stream",
     "text": [
      "Epoch 90, Loss 0.0223\n",
      "Training Accuracy: 0.9753, Testing Accuracy: 0.9778\n",
      "\n"
     ]
    },
    {
     "name": "stdout",
     "output_type": "stream",
     "text": [
      "Epoch 100, Loss 0.0213\n",
      "Training Accuracy: 0.9766, Testing Accuracy: 0.9783\n",
      "\n"
     ]
    },
    {
     "name": "stdout",
     "output_type": "stream",
     "text": [
      "Epoch 110, Loss 0.0205\n",
      "Training Accuracy: 0.9772, Testing Accuracy: 0.9788\n",
      "\n"
     ]
    },
    {
     "name": "stdout",
     "output_type": "stream",
     "text": [
      "Epoch 120, Loss 0.0197\n",
      "Training Accuracy: 0.9785, Testing Accuracy: 0.9783\n",
      "\n"
     ]
    },
    {
     "name": "stdout",
     "output_type": "stream",
     "text": [
      "Epoch 130, Loss 0.019\n",
      "Training Accuracy: 0.9791, Testing Accuracy: 0.9783\n",
      "\n"
     ]
    },
    {
     "name": "stdout",
     "output_type": "stream",
     "text": [
      "Epoch 140, Loss 0.0183\n",
      "Training Accuracy: 0.9803, Testing Accuracy: 0.9783\n",
      "\n"
     ]
    },
    {
     "name": "stdout",
     "output_type": "stream",
     "text": [
      "Epoch 150, Loss 0.0177\n",
      "Training Accuracy: 0.9811, Testing Accuracy: 0.9788\n",
      "\n"
     ]
    },
    {
     "name": "stdout",
     "output_type": "stream",
     "text": [
      "Epoch 160, Loss 0.0172\n",
      "Training Accuracy: 0.9821, Testing Accuracy: 0.9788\n",
      "\n"
     ]
    },
    {
     "name": "stdout",
     "output_type": "stream",
     "text": [
      "Epoch 170, Loss 0.0166\n",
      "Training Accuracy: 0.9824, Testing Accuracy: 0.9788\n",
      "\n"
     ]
    },
    {
     "name": "stdout",
     "output_type": "stream",
     "text": [
      "Epoch 180, Loss 0.0161\n",
      "Training Accuracy: 0.9829, Testing Accuracy: 0.9793\n",
      "\n"
     ]
    },
    {
     "name": "stdout",
     "output_type": "stream",
     "text": [
      "Epoch 190, Loss 0.0155\n",
      "Training Accuracy: 0.9835, Testing Accuracy: 0.9788\n",
      "\n"
     ]
    },
    {
     "name": "stdout",
     "output_type": "stream",
     "text": [
      "Epoch 200, Loss 0.0151\n",
      "Training Accuracy: 0.9842, Testing Accuracy: 0.9798\n",
      "\n"
     ]
    },
    {
     "name": "stdout",
     "output_type": "stream",
     "text": [
      "Epoch 210, Loss 0.0146\n",
      "Training Accuracy: 0.9850, Testing Accuracy: 0.9798\n",
      "\n"
     ]
    },
    {
     "name": "stdout",
     "output_type": "stream",
     "text": [
      "Epoch 220, Loss 0.0141\n",
      "Training Accuracy: 0.9853, Testing Accuracy: 0.9798\n",
      "\n"
     ]
    },
    {
     "name": "stdout",
     "output_type": "stream",
     "text": [
      "Epoch 230, Loss 0.0137\n",
      "Training Accuracy: 0.9861, Testing Accuracy: 0.9803\n",
      "\n"
     ]
    },
    {
     "name": "stdout",
     "output_type": "stream",
     "text": [
      "Epoch 240, Loss 0.0133\n",
      "Training Accuracy: 0.9864, Testing Accuracy: 0.9803\n",
      "\n"
     ]
    },
    {
     "name": "stdout",
     "output_type": "stream",
     "text": [
      "Epoch 250, Loss 0.0129\n",
      "Training Accuracy: 0.9868, Testing Accuracy: 0.9803\n",
      "\n"
     ]
    },
    {
     "data": {
      "text/plain": [
       "0.004656252327486776"
      ]
     },
     "execution_count": 20,
     "metadata": {},
     "output_type": "execute_result"
    }
   ],
   "source": [
    "print(\"====== Neural Network ======\")\n",
    "learner_nn.train_loop(dl)"
   ]
  },
  {
   "cell_type": "markdown",
   "metadata": {
    "papermill": {
     "duration": 0.045023,
     "end_time": "2020-08-22T20:06:57.749932",
     "exception": false,
     "start_time": "2020-08-22T20:06:57.704909",
     "status": "completed"
    },
    "tags": []
   },
   "source": [
    "### Logistic Regression based Implementation."
   ]
  },
  {
   "cell_type": "code",
   "execution_count": 21,
   "metadata": {
    "execution": {
     "iopub.execute_input": "2020-08-22T20:06:57.841841Z",
     "iopub.status.busy": "2020-08-22T20:06:57.841234Z",
     "iopub.status.idle": "2020-08-22T20:06:57.854170Z",
     "shell.execute_reply": "2020-08-22T20:06:57.853586Z"
    },
    "papermill": {
     "duration": 0.061383,
     "end_time": "2020-08-22T20:06:57.854328",
     "exception": false,
     "start_time": "2020-08-22T20:06:57.792945",
     "status": "completed"
    },
    "tags": []
   },
   "outputs": [],
   "source": [
    "learner_lr = Learner(loss, model_lr, opt, config.num_epochs)\n",
    "acc_lr = ClfCallback(learner_lr, config.bs, training_xdata , testing_xdata, training_ydata, testing_ydata)\n",
    "learner_lr.set_callbacks([acc_lr])"
   ]
  },
  {
   "cell_type": "code",
   "execution_count": 22,
   "metadata": {
    "execution": {
     "iopub.execute_input": "2020-08-22T20:06:57.941117Z",
     "iopub.status.busy": "2020-08-22T20:06:57.940486Z",
     "iopub.status.idle": "2020-08-22T20:07:18.657073Z",
     "shell.execute_reply": "2020-08-22T20:07:18.658119Z"
    },
    "papermill": {
     "duration": 20.76382,
     "end_time": "2020-08-22T20:07:18.658388",
     "exception": false,
     "start_time": "2020-08-22T20:06:57.894568",
     "status": "completed"
    },
    "tags": []
   },
   "outputs": [
    {
     "name": "stdout",
     "output_type": "stream",
     "text": [
      "====== Logistic Regression ======\n",
      "Epoch 0, Loss 0.2854\n",
      "Training Accuracy: 0.4734, Testing Accuracy: 0.5071\n",
      "\n"
     ]
    },
    {
     "name": "stdout",
     "output_type": "stream",
     "text": [
      "Epoch 10, Loss 0.109\n",
      "Training Accuracy: 0.9004, Testing Accuracy: 0.9148\n",
      "\n"
     ]
    },
    {
     "name": "stdout",
     "output_type": "stream",
     "text": [
      "Epoch 20, Loss 0.0816\n",
      "Training Accuracy: 0.9238, Testing Accuracy: 0.9390\n",
      "\n"
     ]
    },
    {
     "name": "stdout",
     "output_type": "stream",
     "text": [
      "Epoch 30, Loss 0.0696\n",
      "Training Accuracy: 0.9345, Testing Accuracy: 0.9466\n",
      "\n"
     ]
    },
    {
     "name": "stdout",
     "output_type": "stream",
     "text": [
      "Epoch 40, Loss 0.0625\n",
      "Training Accuracy: 0.9408, Testing Accuracy: 0.9531\n",
      "\n"
     ]
    },
    {
     "name": "stdout",
     "output_type": "stream",
     "text": [
      "Epoch 50, Loss 0.0577\n",
      "Training Accuracy: 0.9446, Testing Accuracy: 0.9541\n",
      "\n"
     ]
    },
    {
     "name": "stdout",
     "output_type": "stream",
     "text": [
      "Epoch 60, Loss 0.0542\n",
      "Training Accuracy: 0.9462, Testing Accuracy: 0.9546\n",
      "\n"
     ]
    },
    {
     "name": "stdout",
     "output_type": "stream",
     "text": [
      "Epoch 70, Loss 0.0516\n",
      "Training Accuracy: 0.9478, Testing Accuracy: 0.9572\n",
      "\n"
     ]
    },
    {
     "name": "stdout",
     "output_type": "stream",
     "text": [
      "Epoch 80, Loss 0.0494\n",
      "Training Accuracy: 0.9497, Testing Accuracy: 0.9567\n",
      "\n"
     ]
    },
    {
     "name": "stdout",
     "output_type": "stream",
     "text": [
      "Epoch 90, Loss 0.0477\n",
      "Training Accuracy: 0.9508, Testing Accuracy: 0.9572\n",
      "\n"
     ]
    },
    {
     "name": "stdout",
     "output_type": "stream",
     "text": [
      "Epoch 100, Loss 0.0462\n",
      "Training Accuracy: 0.9523, Testing Accuracy: 0.9612\n",
      "\n"
     ]
    },
    {
     "name": "stdout",
     "output_type": "stream",
     "text": [
      "Epoch 110, Loss 0.045\n",
      "Training Accuracy: 0.9536, Testing Accuracy: 0.9612\n",
      "\n"
     ]
    },
    {
     "name": "stdout",
     "output_type": "stream",
     "text": [
      "Epoch 120, Loss 0.0439\n",
      "Training Accuracy: 0.9544, Testing Accuracy: 0.9627\n",
      "\n"
     ]
    },
    {
     "name": "stdout",
     "output_type": "stream",
     "text": [
      "Epoch 130, Loss 0.043\n",
      "Training Accuracy: 0.9555, Testing Accuracy: 0.9632\n",
      "\n"
     ]
    },
    {
     "name": "stdout",
     "output_type": "stream",
     "text": [
      "Epoch 140, Loss 0.0421\n",
      "Training Accuracy: 0.9562, Testing Accuracy: 0.9637\n",
      "\n"
     ]
    },
    {
     "name": "stdout",
     "output_type": "stream",
     "text": [
      "Epoch 150, Loss 0.0414\n",
      "Training Accuracy: 0.9568, Testing Accuracy: 0.9642\n",
      "\n"
     ]
    },
    {
     "name": "stdout",
     "output_type": "stream",
     "text": [
      "Epoch 160, Loss 0.0407\n",
      "Training Accuracy: 0.9572, Testing Accuracy: 0.9637\n",
      "\n"
     ]
    },
    {
     "name": "stdout",
     "output_type": "stream",
     "text": [
      "Epoch 170, Loss 0.0401\n",
      "Training Accuracy: 0.9579, Testing Accuracy: 0.9647\n",
      "\n"
     ]
    },
    {
     "name": "stdout",
     "output_type": "stream",
     "text": [
      "Epoch 180, Loss 0.0395\n",
      "Training Accuracy: 0.9585, Testing Accuracy: 0.9652\n",
      "\n"
     ]
    },
    {
     "name": "stdout",
     "output_type": "stream",
     "text": [
      "Epoch 190, Loss 0.039\n",
      "Training Accuracy: 0.9592, Testing Accuracy: 0.9652\n",
      "\n"
     ]
    },
    {
     "name": "stdout",
     "output_type": "stream",
     "text": [
      "Epoch 200, Loss 0.0385\n",
      "Training Accuracy: 0.9596, Testing Accuracy: 0.9652\n",
      "\n"
     ]
    },
    {
     "name": "stdout",
     "output_type": "stream",
     "text": [
      "Epoch 210, Loss 0.0381\n",
      "Training Accuracy: 0.9599, Testing Accuracy: 0.9662\n",
      "\n"
     ]
    },
    {
     "name": "stdout",
     "output_type": "stream",
     "text": [
      "Epoch 220, Loss 0.0376\n",
      "Training Accuracy: 0.9601, Testing Accuracy: 0.9667\n",
      "\n"
     ]
    },
    {
     "name": "stdout",
     "output_type": "stream",
     "text": [
      "Epoch 230, Loss 0.0373\n",
      "Training Accuracy: 0.9600, Testing Accuracy: 0.9657\n",
      "\n"
     ]
    },
    {
     "name": "stdout",
     "output_type": "stream",
     "text": [
      "Epoch 240, Loss 0.0369\n",
      "Training Accuracy: 0.9601, Testing Accuracy: 0.9657\n",
      "\n"
     ]
    },
    {
     "name": "stdout",
     "output_type": "stream",
     "text": [
      "Epoch 250, Loss 0.0365\n",
      "Training Accuracy: 0.9601, Testing Accuracy: 0.9657\n",
      "\n"
     ]
    },
    {
     "data": {
      "text/plain": [
       "0.03802868066606424"
      ]
     },
     "execution_count": 22,
     "metadata": {},
     "output_type": "execute_result"
    }
   ],
   "source": [
    "print(\"====== Logistic Regression ======\")\n",
    "learner_lr.train_loop(dl)"
   ]
  },
  {
   "cell_type": "markdown",
   "metadata": {
    "papermill": {
     "duration": 0.051642,
     "end_time": "2020-08-22T20:07:18.762328",
     "exception": false,
     "start_time": "2020-08-22T20:07:18.710686",
     "status": "completed"
    },
    "tags": []
   },
   "source": [
    "### Comparing results of NN and LR"
   ]
  },
  {
   "cell_type": "code",
   "execution_count": 23,
   "metadata": {
    "execution": {
     "iopub.execute_input": "2020-08-22T20:07:18.868628Z",
     "iopub.status.busy": "2020-08-22T20:07:18.867986Z",
     "iopub.status.idle": "2020-08-22T20:07:19.161384Z",
     "shell.execute_reply": "2020-08-22T20:07:19.160732Z"
    },
    "papermill": {
     "duration": 0.348144,
     "end_time": "2020-08-22T20:07:19.161543",
     "exception": false,
     "start_time": "2020-08-22T20:07:18.813399",
     "status": "completed"
    },
    "tags": []
   },
   "outputs": [
    {
     "data": {
      "text/plain": [
       "<matplotlib.legend.Legend at 0x7f7a6af0b7f0>"
      ]
     },
     "execution_count": 23,
     "metadata": {},
     "output_type": "execute_result"
    },
    {
     "data": {
      "image/png": "[encoded data removed]",
      "text/plain": [
       "<Figure size 1080x720 with 1 Axes>"
      ]
     },
     "metadata": {
      "needs_background": "light"
     },
     "output_type": "display_data"
    }
   ],
   "source": [
    "plt.figure(figsize=(15,10))\n",
    "\n",
    "# Neural Network plots\n",
    "plt.plot(acc_nn.accuracies, 'r-', label = \"Training Accuracies - NN\")\n",
    "plt.plot(acc_nn.test_accuracies, 'g-', label = \"Testing Accuracies - NN\")\n",
    "\n",
    "# Logistic Regression plots\n",
    "plt.plot(acc_lr.accuracies, 'k-', label = \"Training Accuracies - LR\")\n",
    "plt.plot(acc_lr.test_accuracies, 'b-', label = \"Testing Accuracies - LR\")\n",
    "\n",
    "plt.ylim(0.8, 1)\n",
    "\n",
    "plt.legend()\n",
    "\n"
   ]
  },
  {
   "cell_type": "markdown",
   "metadata": {
    "papermill": {
     "duration": 0.055994,
     "end_time": "2020-08-22T20:07:19.276533",
     "exception": false,
     "start_time": "2020-08-22T20:07:19.220539",
     "status": "completed"
    },
    "tags": []
   },
   "source": [
    "### From the plot, we can observe the following:\n",
    "- Neural Network achieves higher accuracy than the Logistic Regression model.\n",
    "- This apparently, is because of overfitting, i.e. NN captures more noise than data.\n",
    "- Testing accuracy of NN drops below the Training accuracy at higher epochs. This explains the over-fitting on training data.\n",
    "- Logistic Regression gives a reliable accuracy, without the above mentioned problem.\n"
   ]
  },
  {
   "cell_type": "markdown",
   "metadata": {
    "papermill": {
     "duration": 0.055113,
     "end_time": "2020-08-22T20:07:19.385512",
     "exception": false,
     "start_time": "2020-08-22T20:07:19.330399",
     "status": "completed"
    },
    "tags": []
   },
   "source": [
    "### Moving till the last but one layer (excluding it).\n",
    "#### Plotting the outputs of this layer of the NN."
   ]
  },
  {
   "cell_type": "code",
   "execution_count": 24,
   "metadata": {
    "execution": {
     "iopub.execute_input": "2020-08-22T20:07:19.501666Z",
     "iopub.status.busy": "2020-08-22T20:07:19.500894Z",
     "iopub.status.idle": "2020-08-22T20:07:19.516133Z",
     "shell.execute_reply": "2020-08-22T20:07:19.515568Z"
    },
    "papermill": {
     "duration": 0.074497,
     "end_time": "2020-08-22T20:07:19.516275",
     "exception": false,
     "start_time": "2020-08-22T20:07:19.441778",
     "status": "completed"
    },
    "tags": []
   },
   "outputs": [],
   "source": [
    "model_new = Model(layers[:-2])"
   ]
  },
  {
   "cell_type": "code",
   "execution_count": 25,
   "metadata": {
    "execution": {
     "iopub.execute_input": "2020-08-22T20:07:19.634760Z",
     "iopub.status.busy": "2020-08-22T20:07:19.634057Z",
     "iopub.status.idle": "2020-08-22T20:07:19.662585Z",
     "shell.execute_reply": "2020-08-22T20:07:19.663202Z"
    },
    "papermill": {
     "duration": 0.088578,
     "end_time": "2020-08-22T20:07:19.663395",
     "exception": false,
     "start_time": "2020-08-22T20:07:19.574817",
     "status": "completed"
    },
    "tags": []
   },
   "outputs": [],
   "source": [
    "plot_testing = model_new(testing_xdata)"
   ]
  },
  {
   "cell_type": "code",
   "execution_count": 26,
   "metadata": {
    "execution": {
     "iopub.execute_input": "2020-08-22T20:07:19.780286Z",
     "iopub.status.busy": "2020-08-22T20:07:19.779598Z",
     "iopub.status.idle": "2020-08-22T20:07:20.027487Z",
     "shell.execute_reply": "2020-08-22T20:07:20.025704Z"
    },
    "papermill": {
     "duration": 0.309527,
     "end_time": "2020-08-22T20:07:20.027821",
     "exception": false,
     "start_time": "2020-08-22T20:07:19.718294",
     "status": "completed"
    },
    "tags": []
   },
   "outputs": [
    {
     "data": {
      "text/plain": [
       "Text(0.5, 1.0, 'Outputs')"
      ]
     },
     "execution_count": 26,
     "metadata": {},
     "output_type": "execute_result"
    },
    {
     "data": {
      "image/png": "[encoded data removed]",
      "text/plain": [
       "<Figure size 576x504 with 1 Axes>"
      ]
     },
     "metadata": {
      "needs_background": "light"
     },
     "output_type": "display_data"
    }
   ],
   "source": [
    "plt.figure(figsize=(8,7))\n",
    "plt.scatter(plot_testing[:,0], plot_testing[:,1], alpha = 0.1, c = y_test.ravel());\n",
    "plt.title('Outputs')"
   ]
  },
  {
   "cell_type": "markdown",
   "metadata": {
    "papermill": {
     "duration": 0.05739,
     "end_time": "2020-08-22T20:07:20.143961",
     "exception": false,
     "start_time": "2020-08-22T20:07:20.086571",
     "status": "completed"
    },
    "tags": []
   },
   "source": [
    "### Plotting probability contours"
   ]
  },
  {
   "cell_type": "code",
   "execution_count": 27,
   "metadata": {
    "execution": {
     "iopub.execute_input": "2020-08-22T20:07:20.260945Z",
     "iopub.status.busy": "2020-08-22T20:07:20.260126Z",
     "iopub.status.idle": "2020-08-22T20:07:20.272987Z",
     "shell.execute_reply": "2020-08-22T20:07:20.272294Z"
    },
    "papermill": {
     "duration": 0.072652,
     "end_time": "2020-08-22T20:07:20.273169",
     "exception": false,
     "start_time": "2020-08-22T20:07:20.200517",
     "status": "completed"
    },
    "tags": []
   },
   "outputs": [],
   "source": [
    "model_prob = Model(layers[-2:]) "
   ]
  },
  {
   "cell_type": "code",
   "execution_count": 28,
   "metadata": {
    "execution": {
     "iopub.execute_input": "2020-08-22T20:07:20.389015Z",
     "iopub.status.busy": "2020-08-22T20:07:20.388326Z",
     "iopub.status.idle": "2020-08-22T20:07:20.403668Z",
     "shell.execute_reply": "2020-08-22T20:07:20.404200Z"
    },
    "papermill": {
     "duration": 0.07563,
     "end_time": "2020-08-22T20:07:20.404368",
     "exception": false,
     "start_time": "2020-08-22T20:07:20.328738",
     "status": "completed"
    },
    "tags": []
   },
   "outputs": [],
   "source": [
    "# Adjust the x and y ranges according to the above generated plot.\n",
    "x_range = np.linspace(-4, 1, 100) \n",
    "y_range = np.linspace(-6, 6, 100) \n",
    "x_grid, y_grid = np.meshgrid(x_range, y_range) # x_grid and y_grig are of size 100 X 100\n",
    "\n",
    "# converting x_grid and y_grid to continuous arrays\n",
    "x_grid_flat = np.ravel(x_grid)\n",
    "y_grid_flat = np.ravel(y_grid)\n",
    "\n",
    "# The last layer of the current model takes two columns as input. Hence transpose of np.vstack() is required.\n",
    "X = np.vstack((x_grid_flat, y_grid_flat)).T\n",
    "\n",
    "# x_grid and y_grid are of size 100 x 100\n",
    "probability_contour = model_prob(X).reshape(100,100) "
   ]
  },
  {
   "cell_type": "code",
   "execution_count": 29,
   "metadata": {
    "execution": {
     "iopub.execute_input": "2020-08-22T20:07:20.524872Z",
     "iopub.status.busy": "2020-08-22T20:07:20.524174Z",
     "iopub.status.idle": "2020-08-22T20:07:20.832896Z",
     "shell.execute_reply": "2020-08-22T20:07:20.832305Z"
    },
    "papermill": {
     "duration": 0.371553,
     "end_time": "2020-08-22T20:07:20.833053",
     "exception": false,
     "start_time": "2020-08-22T20:07:20.461500",
     "status": "completed"
    },
    "tags": []
   },
   "outputs": [
    {
     "data": {
      "image/png": "[encoded data removed]",
      "text/plain": [
       "<Figure size 720x648 with 1 Axes>"
      ]
     },
     "metadata": {
      "needs_background": "light"
     },
     "output_type": "display_data"
    }
   ],
   "source": [
    "plt.figure(figsize=(10,9))\n",
    "plt.scatter(plot_testing[:,0], plot_testing[:,1], alpha = 0.1, c = y_test.ravel())\n",
    "contours = plt.contour(x_grid,y_grid,probability_contour)\n",
    "plt.title('Probability Contours')\n",
    "plt.clabel(contours, inline = True );"
   ]
  }
 ],
 "metadata": {
  "kernelspec": {
   "display_name": "Python 3",
   "language": "python",
   "name": "python3"
  },
  "language_info": {
   "codemirror_mode": {
    "name": "ipython",
    "version": 3
   },
   "file_extension": ".py",
   "mimetype": "text/x-python",
   "name": "python",
   "nbconvert_exporter": "python",
   "pygments_lexer": "ipython3",
   "version": "3.6.11"
  },
  "papermill": {
   "duration": 172.205344,
   "end_time": "2020-08-22T20:07:21.325853",
   "environment_variables": {},
   "exception": null,
   "input_path": "2020-08-11-NeuralNetwork.ipynb",
   "output_path": "2020-08-11-NeuralNetwork.ipynb",
   "parameters": {},
   "start_time": "2020-08-22T20:04:29.120509",
   "version": "2.1.2"
  }
 },
 "nbformat": 4,
 "nbformat_minor": 4
}