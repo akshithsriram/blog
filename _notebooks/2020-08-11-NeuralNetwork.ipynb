{
 "cells": [
  {
   "cell_type": "markdown",
   "metadata": {
    "papermill": {
     "duration": 0.032654,
     "end_time": "2020-08-27T10:03:58.987130",
     "exception": false,
     "start_time": "2020-08-27T10:03:58.954476",
     "status": "completed"
    },
    "tags": []
   },
   "source": [
    "# \"A Basic Neural Network: Differentiate Hand-Written Digits\"\n",
    "\n",
    "- badges: true\n",
    "- author: Akshith Sriram"
   ]
  },
  {
   "cell_type": "markdown",
   "metadata": {
    "papermill": {
     "duration": 0.025292,
     "end_time": "2020-08-27T10:03:59.038913",
     "exception": false,
     "start_time": "2020-08-27T10:03:59.013621",
     "status": "completed"
    },
    "tags": []
   },
   "source": [
    "### Key Objectives:\n",
    "- Building a neural network that differentiates two hand-written digits 3 and 8.\n",
    "- Comparing the results of this Neural Network (NN) to that of a Logistic Regression (LR) model.\n",
    "\n",
    "### Requirements:\n",
    "- 'Kudzu' : A neural network library that was designed during our course by [Univ.AI](www.univ.ai). \n",
    "- MNIST Database\n",
    "\n",
    "If MNIST is not installed, use the command `!pip install mnist` given below.\n",
    "It can be run both from the command line and Jupyter Notebook."
   ]
  },
  {
   "cell_type": "code",
   "execution_count": 1,
   "metadata": {
    "execution": {
     "iopub.execute_input": "2020-08-27T10:03:59.094361Z",
     "iopub.status.busy": "2020-08-27T10:03:59.093770Z",
     "iopub.status.idle": "2020-08-27T10:04:00.520865Z",
     "shell.execute_reply": "2020-08-27T10:04:00.519531Z"
    },
    "papermill": {
     "duration": 1.457143,
     "end_time": "2020-08-27T10:04:00.521045",
     "exception": false,
     "start_time": "2020-08-27T10:03:59.063902",
     "status": "completed"
    },
    "tags": []
   },
   "outputs": [
    {
     "name": "stdout",
     "output_type": "stream",
     "text": [
      "Collecting mnist\r\n"
     ]
    },
    {
     "name": "stdout",
     "output_type": "stream",
     "text": [
      "  Downloading mnist-0.2.2-py2.py3-none-any.whl (3.5 kB)\r\n"
     ]
    },
    {
     "name": "stdout",
     "output_type": "stream",
     "text": [
      "Requirement already satisfied: numpy in /opt/hostedtoolcache/Python/3.6.11/x64/lib/python3.6/site-packages (from mnist) (1.19.1)\r\n"
     ]
    },
    {
     "name": "stdout",
     "output_type": "stream",
     "text": [
      "Installing collected packages: mnist\r\n"
     ]
    },
    {
     "name": "stdout",
     "output_type": "stream",
     "text": [
      "Successfully installed mnist-0.2.2\r\n"
     ]
    }
   ],
   "source": [
    "!pip install mnist "
   ]
  },
  {
   "cell_type": "markdown",
   "metadata": {
    "papermill": {
     "duration": 0.026693,
     "end_time": "2020-08-27T10:04:00.574296",
     "exception": false,
     "start_time": "2020-08-27T10:04:00.547603",
     "status": "completed"
    },
    "tags": []
   },
   "source": [
    "#### Importing necessary libraries"
   ]
  },
  {
   "cell_type": "code",
   "execution_count": 2,
   "metadata": {
    "execution": {
     "iopub.execute_input": "2020-08-27T10:04:00.640479Z",
     "iopub.status.busy": "2020-08-27T10:04:00.638453Z",
     "iopub.status.idle": "2020-08-27T10:04:01.205078Z",
     "shell.execute_reply": "2020-08-27T10:04:01.204511Z"
    },
    "papermill": {
     "duration": 0.601734,
     "end_time": "2020-08-27T10:04:01.205226",
     "exception": false,
     "start_time": "2020-08-27T10:04:00.603492",
     "status": "completed"
    },
    "tags": []
   },
   "outputs": [],
   "source": [
    "%load_ext autoreload\n",
    "%autoreload 2\n",
    "\n",
    "%matplotlib inline\n",
    "import matplotlib.pyplot as plt\n",
    "\n",
    "import numpy as np\n",
    "import pandas as pd"
   ]
  },
  {
   "cell_type": "markdown",
   "metadata": {
    "papermill": {
     "duration": 0.025911,
     "end_time": "2020-08-27T10:04:01.260828",
     "exception": false,
     "start_time": "2020-08-27T10:04:01.234917",
     "status": "completed"
    },
    "tags": []
   },
   "source": [
    "### Preparing the Data"
   ]
  },
  {
   "cell_type": "code",
   "execution_count": 3,
   "metadata": {
    "execution": {
     "iopub.execute_input": "2020-08-27T10:04:01.316775Z",
     "iopub.status.busy": "2020-08-27T10:04:01.316182Z",
     "iopub.status.idle": "2020-08-27T10:04:01.328532Z",
     "shell.execute_reply": "2020-08-27T10:04:01.328055Z"
    },
    "papermill": {
     "duration": 0.041681,
     "end_time": "2020-08-27T10:04:01.328674",
     "exception": false,
     "start_time": "2020-08-27T10:04:01.286993",
     "status": "completed"
    },
    "tags": []
   },
   "outputs": [],
   "source": [
    "import mnist"
   ]
  },
  {
   "cell_type": "code",
   "execution_count": 4,
   "metadata": {
    "execution": {
     "iopub.execute_input": "2020-08-27T10:04:01.387073Z",
     "iopub.status.busy": "2020-08-27T10:04:01.386483Z",
     "iopub.status.idle": "2020-08-27T10:04:02.203605Z",
     "shell.execute_reply": "2020-08-27T10:04:02.201709Z"
    },
    "papermill": {
     "duration": 0.848384,
     "end_time": "2020-08-27T10:04:02.203834",
     "exception": false,
     "start_time": "2020-08-27T10:04:01.355450",
     "status": "completed"
    },
    "tags": []
   },
   "outputs": [],
   "source": [
    "train_images = mnist.train_images()\n",
    "train_labels = mnist.train_labels()"
   ]
  },
  {
   "cell_type": "code",
   "execution_count": 5,
   "metadata": {
    "execution": {
     "iopub.execute_input": "2020-08-27T10:04:02.263844Z",
     "iopub.status.busy": "2020-08-27T10:04:02.262080Z",
     "iopub.status.idle": "2020-08-27T10:04:02.276404Z",
     "shell.execute_reply": "2020-08-27T10:04:02.276932Z"
    },
    "papermill": {
     "duration": 0.045193,
     "end_time": "2020-08-27T10:04:02.277083",
     "exception": false,
     "start_time": "2020-08-27T10:04:02.231890",
     "status": "completed"
    },
    "tags": []
   },
   "outputs": [
    {
     "data": {
      "text/plain": [
       "((60000, 28, 28), (60000,))"
      ]
     },
     "execution_count": 5,
     "metadata": {},
     "output_type": "execute_result"
    }
   ],
   "source": [
    "train_images.shape, train_labels.shape"
   ]
  },
  {
   "cell_type": "code",
   "execution_count": 6,
   "metadata": {
    "execution": {
     "iopub.execute_input": "2020-08-27T10:04:02.337257Z",
     "iopub.status.busy": "2020-08-27T10:04:02.336645Z",
     "iopub.status.idle": "2020-08-27T10:04:02.599911Z",
     "shell.execute_reply": "2020-08-27T10:04:02.599054Z"
    },
    "papermill": {
     "duration": 0.296235,
     "end_time": "2020-08-27T10:04:02.600133",
     "exception": false,
     "start_time": "2020-08-27T10:04:02.303898",
     "status": "completed"
    },
    "tags": []
   },
   "outputs": [],
   "source": [
    "test_images = mnist.test_images()\n",
    "test_labels = mnist.test_labels()"
   ]
  },
  {
   "cell_type": "code",
   "execution_count": 7,
   "metadata": {
    "execution": {
     "iopub.execute_input": "2020-08-27T10:04:02.659981Z",
     "iopub.status.busy": "2020-08-27T10:04:02.659398Z",
     "iopub.status.idle": "2020-08-27T10:04:02.673842Z",
     "shell.execute_reply": "2020-08-27T10:04:02.674348Z"
    },
    "papermill": {
     "duration": 0.046407,
     "end_time": "2020-08-27T10:04:02.674499",
     "exception": false,
     "start_time": "2020-08-27T10:04:02.628092",
     "status": "completed"
    },
    "tags": []
   },
   "outputs": [
    {
     "data": {
      "text/plain": [
       "((10000, 28, 28), (10000,))"
      ]
     },
     "execution_count": 7,
     "metadata": {},
     "output_type": "execute_result"
    }
   ],
   "source": [
    "test_images.shape, test_labels.shape"
   ]
  },
  {
   "cell_type": "code",
   "execution_count": 8,
   "metadata": {
    "execution": {
     "iopub.execute_input": "2020-08-27T10:04:02.734005Z",
     "iopub.status.busy": "2020-08-27T10:04:02.733430Z",
     "iopub.status.idle": "2020-08-27T10:04:02.883218Z",
     "shell.execute_reply": "2020-08-27T10:04:02.882391Z"
    },
    "papermill": {
     "duration": 0.18149,
     "end_time": "2020-08-27T10:04:02.883442",
     "exception": false,
     "start_time": "2020-08-27T10:04:02.701952",
     "status": "completed"
    },
    "tags": []
   },
   "outputs": [
    {
     "name": "stdout",
     "output_type": "stream",
     "text": [
      "2\n"
     ]
    },
    {
     "data": {
      "text/plain": [
       "<matplotlib.image.AxesImage at 0x7f1655e19b38>"
      ]
     },
     "execution_count": 8,
     "metadata": {},
     "output_type": "execute_result"
    },
    {
     "data": {
      "image/png": "[encoded data removed]",
      "text/plain": [
       "<Figure size 432x288 with 1 Axes>"
      ]
     },
     "metadata": {
      "needs_background": "light"
     },
     "output_type": "display_data"
    }
   ],
   "source": [
    "image_index = 7776 # You may select anything up to 60,000\n",
    "print(train_labels[image_index]) \n",
    "plt.imshow(train_images[image_index], cmap='Greys')"
   ]
  },
  {
   "cell_type": "markdown",
   "metadata": {
    "papermill": {
     "duration": 0.028932,
     "end_time": "2020-08-27T10:04:02.941664",
     "exception": false,
     "start_time": "2020-08-27T10:04:02.912732",
     "status": "completed"
    },
    "tags": []
   },
   "source": [
    "## Filter data to get 3 and 8 out"
   ]
  },
  {
   "cell_type": "code",
   "execution_count": 9,
   "metadata": {
    "execution": {
     "iopub.execute_input": "2020-08-27T10:04:03.010945Z",
     "iopub.status.busy": "2020-08-27T10:04:03.010335Z",
     "iopub.status.idle": "2020-08-27T10:04:03.033482Z",
     "shell.execute_reply": "2020-08-27T10:04:03.032503Z"
    },
    "papermill": {
     "duration": 0.063742,
     "end_time": "2020-08-27T10:04:03.033677",
     "exception": false,
     "start_time": "2020-08-27T10:04:02.969935",
     "status": "completed"
    },
    "tags": []
   },
   "outputs": [],
   "source": [
    "train_filter = np.where((train_labels == 3 ) | (train_labels == 8))\n",
    "test_filter = np.where((test_labels == 3) | (test_labels == 8))\n",
    "X_train, y_train = train_images[train_filter], train_labels[train_filter]\n",
    "X_test, y_test = test_images[test_filter], test_labels[test_filter]"
   ]
  },
  {
   "cell_type": "markdown",
   "metadata": {
    "papermill": {
     "duration": 0.02861,
     "end_time": "2020-08-27T10:04:03.092523",
     "exception": false,
     "start_time": "2020-08-27T10:04:03.063913",
     "status": "completed"
    },
    "tags": []
   },
   "source": [
    "We normalize the pixel values in the 0 to 1 range"
   ]
  },
  {
   "cell_type": "code",
   "execution_count": 10,
   "metadata": {
    "execution": {
     "iopub.execute_input": "2020-08-27T10:04:03.155054Z",
     "iopub.status.busy": "2020-08-27T10:04:03.154468Z",
     "iopub.status.idle": "2020-08-27T10:04:03.208531Z",
     "shell.execute_reply": "2020-08-27T10:04:03.207676Z"
    },
    "papermill": {
     "duration": 0.087141,
     "end_time": "2020-08-27T10:04:03.208730",
     "exception": false,
     "start_time": "2020-08-27T10:04:03.121589",
     "status": "completed"
    },
    "tags": []
   },
   "outputs": [],
   "source": [
    "X_train = X_train/255.\n",
    "X_test = X_test/255."
   ]
  },
  {
   "cell_type": "markdown",
   "metadata": {
    "papermill": {
     "duration": 0.028426,
     "end_time": "2020-08-27T10:04:03.265940",
     "exception": false,
     "start_time": "2020-08-27T10:04:03.237514",
     "status": "completed"
    },
    "tags": []
   },
   "source": [
    "Setup the labels as 1 (when the digit is 3) and 0 (when the digit is 8)"
   ]
  },
  {
   "cell_type": "code",
   "execution_count": 11,
   "metadata": {
    "execution": {
     "iopub.execute_input": "2020-08-27T10:04:03.327933Z",
     "iopub.status.busy": "2020-08-27T10:04:03.327360Z",
     "iopub.status.idle": "2020-08-27T10:04:03.341232Z",
     "shell.execute_reply": "2020-08-27T10:04:03.341743Z"
    },
    "papermill": {
     "duration": 0.047331,
     "end_time": "2020-08-27T10:04:03.341889",
     "exception": false,
     "start_time": "2020-08-27T10:04:03.294558",
     "status": "completed"
    },
    "tags": []
   },
   "outputs": [],
   "source": [
    "y_train = 1*(y_train==3)\n",
    "y_test = 1*(y_test==3)"
   ]
  },
  {
   "cell_type": "code",
   "execution_count": 12,
   "metadata": {
    "execution": {
     "iopub.execute_input": "2020-08-27T10:04:03.405421Z",
     "iopub.status.busy": "2020-08-27T10:04:03.404813Z",
     "iopub.status.idle": "2020-08-27T10:04:03.421599Z",
     "shell.execute_reply": "2020-08-27T10:04:03.420062Z"
    },
    "papermill": {
     "duration": 0.050879,
     "end_time": "2020-08-27T10:04:03.421738",
     "exception": false,
     "start_time": "2020-08-27T10:04:03.370859",
     "status": "completed"
    },
    "tags": []
   },
   "outputs": [
    {
     "data": {
      "text/plain": [
       "((11982, 28, 28), (1984, 28, 28))"
      ]
     },
     "execution_count": 12,
     "metadata": {},
     "output_type": "execute_result"
    }
   ],
   "source": [
    "X_train.shape, X_test.shape"
   ]
  },
  {
   "cell_type": "markdown",
   "metadata": {
    "papermill": {
     "duration": 0.029084,
     "end_time": "2020-08-27T10:04:03.479663",
     "exception": false,
     "start_time": "2020-08-27T10:04:03.450579",
     "status": "completed"
    },
    "tags": []
   },
   "source": [
    "### Reshape the input data to create a linear array"
   ]
  },
  {
   "cell_type": "code",
   "execution_count": 13,
   "metadata": {
    "execution": {
     "iopub.execute_input": "2020-08-27T10:04:03.549060Z",
     "iopub.status.busy": "2020-08-27T10:04:03.542118Z",
     "iopub.status.idle": "2020-08-27T10:04:03.555792Z",
     "shell.execute_reply": "2020-08-27T10:04:03.556233Z"
    },
    "papermill": {
     "duration": 0.047184,
     "end_time": "2020-08-27T10:04:03.556384",
     "exception": false,
     "start_time": "2020-08-27T10:04:03.509200",
     "status": "completed"
    },
    "tags": []
   },
   "outputs": [
    {
     "data": {
      "text/plain": [
       "((11982, 784), (1984, 784))"
      ]
     },
     "execution_count": 13,
     "metadata": {},
     "output_type": "execute_result"
    }
   ],
   "source": [
    "X_train = X_train.reshape(X_train.shape[0], -1)\n",
    "X_test = X_test.reshape(X_test.shape[0], -1)\n",
    "X_train.shape, X_test.shape"
   ]
  },
  {
   "cell_type": "markdown",
   "metadata": {
    "papermill": {
     "duration": 0.029006,
     "end_time": "2020-08-27T10:04:03.614416",
     "exception": false,
     "start_time": "2020-08-27T10:04:03.585410",
     "status": "completed"
    },
    "tags": []
   },
   "source": [
    "### Importing appropriate functions from 'Kudzu'"
   ]
  },
  {
   "cell_type": "code",
   "execution_count": 14,
   "metadata": {
    "execution": {
     "iopub.execute_input": "2020-08-27T10:04:03.677980Z",
     "iopub.status.busy": "2020-08-27T10:04:03.677392Z",
     "iopub.status.idle": "2020-08-27T10:04:03.698236Z",
     "shell.execute_reply": "2020-08-27T10:04:03.697370Z"
    },
    "papermill": {
     "duration": 0.055171,
     "end_time": "2020-08-27T10:04:03.698442",
     "exception": false,
     "start_time": "2020-08-27T10:04:03.643271",
     "status": "completed"
    },
    "tags": []
   },
   "outputs": [],
   "source": [
    "from kudzu.layer import Sigmoid\n",
    "from kudzu.layer import Relu\n",
    "from kudzu.layer import Affine, Sigmoid\n",
    "\n",
    "from kudzu.model import Model\n",
    "from kudzu.train import Learner\n",
    "from kudzu.optim import GD\n",
    "from kudzu.data import Data, Dataloader, Sampler\n",
    "\n",
    "from kudzu.callbacks import AccCallback\n",
    "from kudzu.callbacks import ClfCallback\n",
    "\n",
    "from kudzu.loss import MSE"
   ]
  },
  {
   "cell_type": "markdown",
   "metadata": {
    "papermill": {
     "duration": 0.029111,
     "end_time": "2020-08-27T10:04:03.759678",
     "exception": false,
     "start_time": "2020-08-27T10:04:03.730567",
     "status": "completed"
    },
    "tags": []
   },
   "source": [
    "### Let us create a `Config` class, to store important parameters. \n",
    "This class essentially plays the role of a dictionary."
   ]
  },
  {
   "cell_type": "code",
   "execution_count": 15,
   "metadata": {
    "execution": {
     "iopub.execute_input": "2020-08-27T10:04:03.826507Z",
     "iopub.status.busy": "2020-08-27T10:04:03.821012Z",
     "iopub.status.idle": "2020-08-27T10:04:03.836730Z",
     "shell.execute_reply": "2020-08-27T10:04:03.835739Z"
    },
    "papermill": {
     "duration": 0.048493,
     "end_time": "2020-08-27T10:04:03.836875",
     "exception": false,
     "start_time": "2020-08-27T10:04:03.788382",
     "status": "completed"
    },
    "tags": []
   },
   "outputs": [],
   "source": [
    "class Config:\n",
    "    pass\n",
    "config = Config()\n",
    "config.lr = 0.001\n",
    "config.num_epochs = 251\n",
    "config.bs = 50"
   ]
  },
  {
   "cell_type": "markdown",
   "metadata": {
    "papermill": {
     "duration": 0.033421,
     "end_time": "2020-08-27T10:04:03.902513",
     "exception": false,
     "start_time": "2020-08-27T10:04:03.869092",
     "status": "completed"
    },
    "tags": []
   },
   "source": [
    "### Initializing data to the variables"
   ]
  },
  {
   "cell_type": "code",
   "execution_count": 16,
   "metadata": {
    "execution": {
     "iopub.execute_input": "2020-08-27T10:04:03.974037Z",
     "iopub.status.busy": "2020-08-27T10:04:03.966142Z",
     "iopub.status.idle": "2020-08-27T10:04:03.980754Z",
     "shell.execute_reply": "2020-08-27T10:04:03.980261Z"
    },
    "papermill": {
     "duration": 0.04969,
     "end_time": "2020-08-27T10:04:03.980908",
     "exception": false,
     "start_time": "2020-08-27T10:04:03.931218",
     "status": "completed"
    },
    "tags": []
   },
   "outputs": [],
   "source": [
    "data = Data(X_train, y_train.reshape(-1,1))\n",
    "sampler = Sampler(data, config.bs, shuffle=True)\n",
    "\n",
    "dl = Dataloader(data, sampler)\n",
    "\n",
    "opt = GD(config.lr)\n",
    "loss = MSE()"
   ]
  },
  {
   "cell_type": "code",
   "execution_count": 17,
   "metadata": {
    "execution": {
     "iopub.execute_input": "2020-08-27T10:04:04.045183Z",
     "iopub.status.busy": "2020-08-27T10:04:04.044572Z",
     "iopub.status.idle": "2020-08-27T10:04:04.058293Z",
     "shell.execute_reply": "2020-08-27T10:04:04.057822Z"
    },
    "papermill": {
     "duration": 0.046587,
     "end_time": "2020-08-27T10:04:04.058422",
     "exception": false,
     "start_time": "2020-08-27T10:04:04.011835",
     "status": "completed"
    },
    "tags": []
   },
   "outputs": [],
   "source": [
    "training_xdata = X_train\n",
    "testing_xdata = X_test\n",
    "training_ydata = y_train.reshape(-1,1)\n",
    "testing_ydata = y_test.reshape(-1,1)"
   ]
  },
  {
   "cell_type": "markdown",
   "metadata": {
    "papermill": {
     "duration": 0.028685,
     "end_time": "2020-08-27T10:04:04.116118",
     "exception": false,
     "start_time": "2020-08-27T10:04:04.087433",
     "status": "completed"
    },
    "tags": []
   },
   "source": [
    "### Running Models with the Training data\n",
    "Details about the network layers:\n",
    "- A first affine layer has 784 inputs and does 100 affine transforms. These are followed by a Relu\n",
    "- A second affine layer has 100 inputs from the 100 activations of the past layer, and does 100 affine transforms. These are followed by a Relu\n",
    "- A third affine layer has 100 activations and does 2 affine transformations to create an embedding for visualization. There is no non-linearity here.\n",
    "- A final \"logistic regression\" which has an affine transform from 2 inputs to 1 output, which is squeezed through a sigmoid.\n",
    "\n",
    "Help taken from Anshuman's Notebook."
   ]
  },
  {
   "cell_type": "code",
   "execution_count": 18,
   "metadata": {
    "execution": {
     "iopub.execute_input": "2020-08-27T10:04:04.181356Z",
     "iopub.status.busy": "2020-08-27T10:04:04.180733Z",
     "iopub.status.idle": "2020-08-27T10:04:04.198651Z",
     "shell.execute_reply": "2020-08-27T10:04:04.198176Z"
    },
    "papermill": {
     "duration": 0.0535,
     "end_time": "2020-08-27T10:04:04.198782",
     "exception": false,
     "start_time": "2020-08-27T10:04:04.145282",
     "status": "completed"
    },
    "tags": []
   },
   "outputs": [],
   "source": [
    "# layers for the Neural Network\n",
    "layers = [Affine(\"first\", 784, 100), Relu(\"first\"), Affine(\"second\", 100, 100), Relu(\"second\"), Affine(\"third\", 100, 2), Affine(\"final\", 2, 1), Sigmoid(\"final\")]\n",
    "model_nn = Model(layers)\n",
    "\n",
    "# layers for the Logistic Regression\n",
    "layers_lr = [Affine(\"logits\", 784, 1), Sigmoid(\"sigmoid\")]\n",
    "model_lr = Model(layers_lr)"
   ]
  },
  {
   "cell_type": "code",
   "execution_count": 19,
   "metadata": {
    "execution": {
     "iopub.execute_input": "2020-08-27T10:04:04.262659Z",
     "iopub.status.busy": "2020-08-27T10:04:04.262030Z",
     "iopub.status.idle": "2020-08-27T10:04:04.275186Z",
     "shell.execute_reply": "2020-08-27T10:04:04.274681Z"
    },
    "papermill": {
     "duration": 0.047507,
     "end_time": "2020-08-27T10:04:04.275321",
     "exception": false,
     "start_time": "2020-08-27T10:04:04.227814",
     "status": "completed"
    },
    "tags": []
   },
   "outputs": [],
   "source": [
    "# suffix _nn stands for Neural Network.\n",
    "learner_nn = Learner(loss, model_nn, opt, config.num_epochs)\n",
    "acc_nn = ClfCallback(learner_nn, config.bs, training_xdata , testing_xdata, training_ydata, testing_ydata)\n",
    "learner_nn.set_callbacks([acc_nn])"
   ]
  },
  {
   "cell_type": "code",
   "execution_count": 20,
   "metadata": {
    "execution": {
     "iopub.execute_input": "2020-08-27T10:04:04.337904Z",
     "iopub.status.busy": "2020-08-27T10:04:04.337308Z",
     "iopub.status.idle": "2020-08-27T10:05:30.206203Z",
     "shell.execute_reply": "2020-08-27T10:05:30.205721Z"
    },
    "papermill": {
     "duration": 85.902025,
     "end_time": "2020-08-27T10:05:30.206341",
     "exception": false,
     "start_time": "2020-08-27T10:04:04.304316",
     "status": "completed"
    },
    "tags": []
   },
   "outputs": [
    {
     "name": "stdout",
     "output_type": "stream",
     "text": [
      "====== Neural Network ======\n"
     ]
    },
    {
     "name": "stdout",
     "output_type": "stream",
     "text": [
      "Epoch 0, Loss 0.2578\n",
      "Training Accuracy: 0.4830, Testing Accuracy: 0.4874\n",
      "\n"
     ]
    },
    {
     "name": "stdout",
     "output_type": "stream",
     "text": [
      "Epoch 10, Loss 0.2123\n",
      "Training Accuracy: 0.8266, Testing Accuracy: 0.8543\n",
      "\n"
     ]
    },
    {
     "name": "stdout",
     "output_type": "stream",
     "text": [
      "Epoch 20, Loss 0.1218\n",
      "Training Accuracy: 0.8862, Testing Accuracy: 0.9052\n",
      "\n"
     ]
    },
    {
     "name": "stdout",
     "output_type": "stream",
     "text": [
      "Epoch 30, Loss 0.0738\n",
      "Training Accuracy: 0.9210, Testing Accuracy: 0.9345\n",
      "\n"
     ]
    },
    {
     "name": "stdout",
     "output_type": "stream",
     "text": [
      "Epoch 40, Loss 0.0554\n",
      "Training Accuracy: 0.9370, Testing Accuracy: 0.9481\n",
      "\n"
     ]
    },
    {
     "name": "stdout",
     "output_type": "stream",
     "text": [
      "Epoch 50, Loss 0.046\n",
      "Training Accuracy: 0.9474, Testing Accuracy: 0.9567\n",
      "\n"
     ]
    },
    {
     "name": "stdout",
     "output_type": "stream",
     "text": [
      "Epoch 60, Loss 0.0404\n",
      "Training Accuracy: 0.9535, Testing Accuracy: 0.9632\n",
      "\n"
     ]
    },
    {
     "name": "stdout",
     "output_type": "stream",
     "text": [
      "Epoch 70, Loss 0.0367\n",
      "Training Accuracy: 0.9572, Testing Accuracy: 0.9667\n",
      "\n"
     ]
    },
    {
     "name": "stdout",
     "output_type": "stream",
     "text": [
      "Epoch 80, Loss 0.0341\n",
      "Training Accuracy: 0.9612, Testing Accuracy: 0.9682\n",
      "\n"
     ]
    },
    {
     "name": "stdout",
     "output_type": "stream",
     "text": [
      "Epoch 90, Loss 0.0321\n",
      "Training Accuracy: 0.9638, Testing Accuracy: 0.9682\n",
      "\n"
     ]
    },
    {
     "name": "stdout",
     "output_type": "stream",
     "text": [
      "Epoch 100, Loss 0.0305\n",
      "Training Accuracy: 0.9654, Testing Accuracy: 0.9677\n",
      "\n"
     ]
    },
    {
     "name": "stdout",
     "output_type": "stream",
     "text": [
      "Epoch 110, Loss 0.0292\n",
      "Training Accuracy: 0.9664, Testing Accuracy: 0.9682\n",
      "\n"
     ]
    },
    {
     "name": "stdout",
     "output_type": "stream",
     "text": [
      "Epoch 120, Loss 0.028\n",
      "Training Accuracy: 0.9674, Testing Accuracy: 0.9677\n",
      "\n"
     ]
    },
    {
     "name": "stdout",
     "output_type": "stream",
     "text": [
      "Epoch 130, Loss 0.0271\n",
      "Training Accuracy: 0.9685, Testing Accuracy: 0.9677\n",
      "\n"
     ]
    },
    {
     "name": "stdout",
     "output_type": "stream",
     "text": [
      "Epoch 140, Loss 0.0262\n",
      "Training Accuracy: 0.9698, Testing Accuracy: 0.9672\n",
      "\n"
     ]
    },
    {
     "name": "stdout",
     "output_type": "stream",
     "text": [
      "Epoch 150, Loss 0.0254\n",
      "Training Accuracy: 0.9706, Testing Accuracy: 0.9667\n",
      "\n"
     ]
    },
    {
     "name": "stdout",
     "output_type": "stream",
     "text": [
      "Epoch 160, Loss 0.0247\n",
      "Training Accuracy: 0.9712, Testing Accuracy: 0.9672\n",
      "\n"
     ]
    },
    {
     "name": "stdout",
     "output_type": "stream",
     "text": [
      "Epoch 170, Loss 0.024\n",
      "Training Accuracy: 0.9725, Testing Accuracy: 0.9672\n",
      "\n"
     ]
    },
    {
     "name": "stdout",
     "output_type": "stream",
     "text": [
      "Epoch 180, Loss 0.0234\n",
      "Training Accuracy: 0.9730, Testing Accuracy: 0.9677\n",
      "\n"
     ]
    },
    {
     "name": "stdout",
     "output_type": "stream",
     "text": [
      "Epoch 190, Loss 0.0229\n",
      "Training Accuracy: 0.9739, Testing Accuracy: 0.9688\n",
      "\n"
     ]
    },
    {
     "name": "stdout",
     "output_type": "stream",
     "text": [
      "Epoch 200, Loss 0.0223\n",
      "Training Accuracy: 0.9743, Testing Accuracy: 0.9698\n",
      "\n"
     ]
    },
    {
     "name": "stdout",
     "output_type": "stream",
     "text": [
      "Epoch 210, Loss 0.0219\n",
      "Training Accuracy: 0.9748, Testing Accuracy: 0.9698\n",
      "\n"
     ]
    },
    {
     "name": "stdout",
     "output_type": "stream",
     "text": [
      "Epoch 220, Loss 0.0214\n",
      "Training Accuracy: 0.9755, Testing Accuracy: 0.9703\n",
      "\n"
     ]
    },
    {
     "name": "stdout",
     "output_type": "stream",
     "text": [
      "Epoch 230, Loss 0.021\n",
      "Training Accuracy: 0.9759, Testing Accuracy: 0.9703\n",
      "\n"
     ]
    },
    {
     "name": "stdout",
     "output_type": "stream",
     "text": [
      "Epoch 240, Loss 0.0205\n",
      "Training Accuracy: 0.9770, Testing Accuracy: 0.9703\n",
      "\n"
     ]
    },
    {
     "name": "stdout",
     "output_type": "stream",
     "text": [
      "Epoch 250, Loss 0.0201\n",
      "Training Accuracy: 0.9778, Testing Accuracy: 0.9708\n",
      "\n"
     ]
    },
    {
     "data": {
      "text/plain": [
       "0.024774212554920894"
      ]
     },
     "execution_count": 20,
     "metadata": {},
     "output_type": "execute_result"
    }
   ],
   "source": [
    "print(\"====== Neural Network ======\")\n",
    "learner_nn.train_loop(dl)"
   ]
  },
  {
   "cell_type": "markdown",
   "metadata": {
    "papermill": {
     "duration": 0.038319,
     "end_time": "2020-08-27T10:05:30.282770",
     "exception": false,
     "start_time": "2020-08-27T10:05:30.244451",
     "status": "completed"
    },
    "tags": []
   },
   "source": [
    "### Logistic Regression based Implementation."
   ]
  },
  {
   "cell_type": "code",
   "execution_count": 21,
   "metadata": {
    "execution": {
     "iopub.execute_input": "2020-08-27T10:05:30.364437Z",
     "iopub.status.busy": "2020-08-27T10:05:30.363853Z",
     "iopub.status.idle": "2020-08-27T10:05:30.377116Z",
     "shell.execute_reply": "2020-08-27T10:05:30.377565Z"
    },
    "papermill": {
     "duration": 0.056515,
     "end_time": "2020-08-27T10:05:30.377720",
     "exception": false,
     "start_time": "2020-08-27T10:05:30.321205",
     "status": "completed"
    },
    "tags": []
   },
   "outputs": [],
   "source": [
    "learner_lr = Learner(loss, model_lr, opt, config.num_epochs)\n",
    "acc_lr = ClfCallback(learner_lr, config.bs, training_xdata , testing_xdata, training_ydata, testing_ydata)\n",
    "learner_lr.set_callbacks([acc_lr])"
   ]
  },
  {
   "cell_type": "code",
   "execution_count": 22,
   "metadata": {
    "execution": {
     "iopub.execute_input": "2020-08-27T10:05:30.455570Z",
     "iopub.status.busy": "2020-08-27T10:05:30.454980Z",
     "iopub.status.idle": "2020-08-27T10:05:46.264247Z",
     "shell.execute_reply": "2020-08-27T10:05:46.265096Z"
    },
    "papermill": {
     "duration": 15.851193,
     "end_time": "2020-08-27T10:05:46.265257",
     "exception": false,
     "start_time": "2020-08-27T10:05:30.414064",
     "status": "completed"
    },
    "tags": []
   },
   "outputs": [
    {
     "name": "stdout",
     "output_type": "stream",
     "text": [
      "====== Logistic Regression ======\n",
      "Epoch 0, Loss 0.2602\n",
      "Training Accuracy: 0.6023, Testing Accuracy: 0.6316\n",
      "\n"
     ]
    },
    {
     "name": "stdout",
     "output_type": "stream",
     "text": [
      "Epoch 10, Loss 0.1032\n",
      "Training Accuracy: 0.9133, Testing Accuracy: 0.9264\n",
      "\n"
     ]
    },
    {
     "name": "stdout",
     "output_type": "stream",
     "text": [
      "Epoch 20, Loss 0.0787\n",
      "Training Accuracy: 0.9297, Testing Accuracy: 0.9400\n",
      "\n"
     ]
    },
    {
     "name": "stdout",
     "output_type": "stream",
     "text": [
      "Epoch 30, Loss 0.0677\n",
      "Training Accuracy: 0.9378, Testing Accuracy: 0.9456\n",
      "\n"
     ]
    },
    {
     "name": "stdout",
     "output_type": "stream",
     "text": [
      "Epoch 40, Loss 0.0611\n",
      "Training Accuracy: 0.9411, Testing Accuracy: 0.9521\n",
      "\n"
     ]
    },
    {
     "name": "stdout",
     "output_type": "stream",
     "text": [
      "Epoch 50, Loss 0.0567\n",
      "Training Accuracy: 0.9438, Testing Accuracy: 0.9546\n",
      "\n"
     ]
    },
    {
     "name": "stdout",
     "output_type": "stream",
     "text": [
      "Epoch 60, Loss 0.0534\n",
      "Training Accuracy: 0.9468, Testing Accuracy: 0.9556\n",
      "\n"
     ]
    },
    {
     "name": "stdout",
     "output_type": "stream",
     "text": [
      "Epoch 70, Loss 0.0509\n",
      "Training Accuracy: 0.9486, Testing Accuracy: 0.9567\n",
      "\n"
     ]
    },
    {
     "name": "stdout",
     "output_type": "stream",
     "text": [
      "Epoch 80, Loss 0.0489\n",
      "Training Accuracy: 0.9508, Testing Accuracy: 0.9567\n",
      "\n"
     ]
    },
    {
     "name": "stdout",
     "output_type": "stream",
     "text": [
      "Epoch 90, Loss 0.0472\n",
      "Training Accuracy: 0.9526, Testing Accuracy: 0.9577\n",
      "\n"
     ]
    },
    {
     "name": "stdout",
     "output_type": "stream",
     "text": [
      "Epoch 100, Loss 0.0458\n",
      "Training Accuracy: 0.9543, Testing Accuracy: 0.9597\n",
      "\n"
     ]
    },
    {
     "name": "stdout",
     "output_type": "stream",
     "text": [
      "Epoch 110, Loss 0.0446\n",
      "Training Accuracy: 0.9553, Testing Accuracy: 0.9592\n",
      "\n"
     ]
    },
    {
     "name": "stdout",
     "output_type": "stream",
     "text": [
      "Epoch 120, Loss 0.0436\n",
      "Training Accuracy: 0.9554, Testing Accuracy: 0.9607\n",
      "\n"
     ]
    },
    {
     "name": "stdout",
     "output_type": "stream",
     "text": [
      "Epoch 130, Loss 0.0427\n",
      "Training Accuracy: 0.9561, Testing Accuracy: 0.9617\n",
      "\n"
     ]
    },
    {
     "name": "stdout",
     "output_type": "stream",
     "text": [
      "Epoch 140, Loss 0.0418\n",
      "Training Accuracy: 0.9574, Testing Accuracy: 0.9612\n",
      "\n"
     ]
    },
    {
     "name": "stdout",
     "output_type": "stream",
     "text": [
      "Epoch 150, Loss 0.0411\n",
      "Training Accuracy: 0.9574, Testing Accuracy: 0.9607\n",
      "\n"
     ]
    },
    {
     "name": "stdout",
     "output_type": "stream",
     "text": [
      "Epoch 160, Loss 0.0404\n",
      "Training Accuracy: 0.9579, Testing Accuracy: 0.9607\n",
      "\n"
     ]
    },
    {
     "name": "stdout",
     "output_type": "stream",
     "text": [
      "Epoch 170, Loss 0.0398\n",
      "Training Accuracy: 0.9586, Testing Accuracy: 0.9602\n",
      "\n"
     ]
    },
    {
     "name": "stdout",
     "output_type": "stream",
     "text": [
      "Epoch 180, Loss 0.0393\n",
      "Training Accuracy: 0.9591, Testing Accuracy: 0.9612\n",
      "\n"
     ]
    },
    {
     "name": "stdout",
     "output_type": "stream",
     "text": [
      "Epoch 190, Loss 0.0388\n",
      "Training Accuracy: 0.9594, Testing Accuracy: 0.9612\n",
      "\n"
     ]
    },
    {
     "name": "stdout",
     "output_type": "stream",
     "text": [
      "Epoch 200, Loss 0.0383\n",
      "Training Accuracy: 0.9600, Testing Accuracy: 0.9627\n",
      "\n"
     ]
    },
    {
     "name": "stdout",
     "output_type": "stream",
     "text": [
      "Epoch 210, Loss 0.0379\n",
      "Training Accuracy: 0.9604, Testing Accuracy: 0.9632\n",
      "\n"
     ]
    },
    {
     "name": "stdout",
     "output_type": "stream",
     "text": [
      "Epoch 220, Loss 0.0375\n",
      "Training Accuracy: 0.9609, Testing Accuracy: 0.9632\n",
      "\n"
     ]
    },
    {
     "name": "stdout",
     "output_type": "stream",
     "text": [
      "Epoch 230, Loss 0.0371\n",
      "Training Accuracy: 0.9610, Testing Accuracy: 0.9637\n",
      "\n"
     ]
    },
    {
     "name": "stdout",
     "output_type": "stream",
     "text": [
      "Epoch 240, Loss 0.0367\n",
      "Training Accuracy: 0.9611, Testing Accuracy: 0.9637\n",
      "\n"
     ]
    },
    {
     "name": "stdout",
     "output_type": "stream",
     "text": [
      "Epoch 250, Loss 0.0364\n",
      "Training Accuracy: 0.9613, Testing Accuracy: 0.9642\n",
      "\n"
     ]
    },
    {
     "data": {
      "text/plain": [
       "0.04539481331288452"
      ]
     },
     "execution_count": 22,
     "metadata": {},
     "output_type": "execute_result"
    }
   ],
   "source": [
    "print(\"====== Logistic Regression ======\")\n",
    "learner_lr.train_loop(dl)"
   ]
  },
  {
   "cell_type": "markdown",
   "metadata": {
    "papermill": {
     "duration": 0.045011,
     "end_time": "2020-08-27T10:05:46.355919",
     "exception": false,
     "start_time": "2020-08-27T10:05:46.310908",
     "status": "completed"
    },
    "tags": []
   },
   "source": [
    "### Comparing results of NN and LR"
   ]
  },
  {
   "cell_type": "code",
   "execution_count": 23,
   "metadata": {
    "execution": {
     "iopub.execute_input": "2020-08-27T10:05:46.457032Z",
     "iopub.status.busy": "2020-08-27T10:05:46.456376Z",
     "iopub.status.idle": "2020-08-27T10:05:46.707009Z",
     "shell.execute_reply": "2020-08-27T10:05:46.706453Z"
    },
    "papermill": {
     "duration": 0.301787,
     "end_time": "2020-08-27T10:05:46.707143",
     "exception": false,
     "start_time": "2020-08-27T10:05:46.405356",
     "status": "completed"
    },
    "tags": []
   },
   "outputs": [
    {
     "data": {
      "text/plain": [
       "<matplotlib.legend.Legend at 0x7f16512582b0>"
      ]
     },
     "execution_count": 23,
     "metadata": {},
     "output_type": "execute_result"
    },
    {
     "data": {
      "image/png": "[encoded data removed]",
      "text/plain": [
       "<Figure size 1080x720 with 1 Axes>"
      ]
     },
     "metadata": {
      "needs_background": "light"
     },
     "output_type": "display_data"
    }
   ],
   "source": [
    "plt.figure(figsize=(15,10))\n",
    "\n",
    "# Neural Network plots\n",
    "plt.plot(acc_nn.accuracies, 'r-', label = \"Training Accuracies - NN\")\n",
    "plt.plot(acc_nn.test_accuracies, 'g-', label = \"Testing Accuracies - NN\")\n",
    "\n",
    "# Logistic Regression plots\n",
    "plt.plot(acc_lr.accuracies, 'k-', label = \"Training Accuracies - LR\")\n",
    "plt.plot(acc_lr.test_accuracies, 'b-', label = \"Testing Accuracies - LR\")\n",
    "\n",
    "plt.ylim(0.8, 1)\n",
    "\n",
    "plt.legend()\n",
    "\n"
   ]
  },
  {
   "cell_type": "markdown",
   "metadata": {
    "papermill": {
     "duration": 0.04719,
     "end_time": "2020-08-27T10:05:46.801143",
     "exception": false,
     "start_time": "2020-08-27T10:05:46.753953",
     "status": "completed"
    },
    "tags": []
   },
   "source": [
    "### From the plot, we can observe the following:\n",
    "- Neural Network achieves higher accuracy than the Logistic Regression model.\n",
    "- This apparently, is because of overfitting, i.e. NN captures more noise than data.\n",
    "- Testing accuracy of NN drops below the Training accuracy at higher epochs. This explains the over-fitting on training data.\n",
    "- Logistic Regression gives a reliable accuracy, without the above mentioned problem.\n"
   ]
  },
  {
   "cell_type": "markdown",
   "metadata": {
    "papermill": {
     "duration": 0.047231,
     "end_time": "2020-08-27T10:05:46.894886",
     "exception": false,
     "start_time": "2020-08-27T10:05:46.847655",
     "status": "completed"
    },
    "tags": []
   },
   "source": [
    "### Moving till the last but one layer (excluding it).\n",
    "#### Plotting the outputs of this layer of the NN."
   ]
  },
  {
   "cell_type": "code",
   "execution_count": 24,
   "metadata": {
    "execution": {
     "iopub.execute_input": "2020-08-27T10:05:46.997866Z",
     "iopub.status.busy": "2020-08-27T10:05:46.991781Z",
     "iopub.status.idle": "2020-08-27T10:05:47.003925Z",
     "shell.execute_reply": "2020-08-27T10:05:47.004404Z"
    },
    "papermill": {
     "duration": 0.063064,
     "end_time": "2020-08-27T10:05:47.004558",
     "exception": false,
     "start_time": "2020-08-27T10:05:46.941494",
     "status": "completed"
    },
    "tags": []
   },
   "outputs": [],
   "source": [
    "model_new = Model(layers[:-2])"
   ]
  },
  {
   "cell_type": "code",
   "execution_count": 25,
   "metadata": {
    "execution": {
     "iopub.execute_input": "2020-08-27T10:05:47.104708Z",
     "iopub.status.busy": "2020-08-27T10:05:47.104116Z",
     "iopub.status.idle": "2020-08-27T10:05:47.126197Z",
     "shell.execute_reply": "2020-08-27T10:05:47.126693Z"
    },
    "papermill": {
     "duration": 0.075244,
     "end_time": "2020-08-27T10:05:47.126850",
     "exception": false,
     "start_time": "2020-08-27T10:05:47.051606",
     "status": "completed"
    },
    "tags": []
   },
   "outputs": [],
   "source": [
    "plot_testing = model_new(testing_xdata)"
   ]
  },
  {
   "cell_type": "code",
   "execution_count": 26,
   "metadata": {
    "execution": {
     "iopub.execute_input": "2020-08-27T10:05:47.234434Z",
     "iopub.status.busy": "2020-08-27T10:05:47.233844Z",
     "iopub.status.idle": "2020-08-27T10:05:47.441737Z",
     "shell.execute_reply": "2020-08-27T10:05:47.442212Z"
    },
    "papermill": {
     "duration": 0.26491,
     "end_time": "2020-08-27T10:05:47.442363",
     "exception": false,
     "start_time": "2020-08-27T10:05:47.177453",
     "status": "completed"
    },
    "tags": []
   },
   "outputs": [
    {
     "data": {
      "text/plain": [
       "Text(0.5, 1.0, 'Outputs')"
      ]
     },
     "execution_count": 26,
     "metadata": {},
     "output_type": "execute_result"
    },
    {
     "data": {
      "image/png": "[encoded data removed]",
      "text/plain": [
       "<Figure size 576x504 with 1 Axes>"
      ]
     },
     "metadata": {
      "needs_background": "light"
     },
     "output_type": "display_data"
    }
   ],
   "source": [
    "plt.figure(figsize=(8,7))\n",
    "plt.scatter(plot_testing[:,0], plot_testing[:,1], alpha = 0.1, c = y_test.ravel());\n",
    "plt.title('Outputs')"
   ]
  },
  {
   "cell_type": "markdown",
   "metadata": {
    "papermill": {
     "duration": 0.048906,
     "end_time": "2020-08-27T10:05:47.542150",
     "exception": false,
     "start_time": "2020-08-27T10:05:47.493244",
     "status": "completed"
    },
    "tags": []
   },
   "source": [
    "### Plotting probability contours"
   ]
  },
  {
   "cell_type": "code",
   "execution_count": 27,
   "metadata": {
    "execution": {
     "iopub.execute_input": "2020-08-27T10:05:47.646227Z",
     "iopub.status.busy": "2020-08-27T10:05:47.645643Z",
     "iopub.status.idle": "2020-08-27T10:05:47.659991Z",
     "shell.execute_reply": "2020-08-27T10:05:47.659489Z"
    },
    "papermill": {
     "duration": 0.068865,
     "end_time": "2020-08-27T10:05:47.660119",
     "exception": false,
     "start_time": "2020-08-27T10:05:47.591254",
     "status": "completed"
    },
    "tags": []
   },
   "outputs": [],
   "source": [
    "model_prob = Model(layers[-2:]) "
   ]
  },
  {
   "cell_type": "code",
   "execution_count": 28,
   "metadata": {
    "execution": {
     "iopub.execute_input": "2020-08-27T10:05:47.762826Z",
     "iopub.status.busy": "2020-08-27T10:05:47.762215Z",
     "iopub.status.idle": "2020-08-27T10:05:47.777690Z",
     "shell.execute_reply": "2020-08-27T10:05:47.778143Z"
    },
    "papermill": {
     "duration": 0.06958,
     "end_time": "2020-08-27T10:05:47.778302",
     "exception": false,
     "start_time": "2020-08-27T10:05:47.708722",
     "status": "completed"
    },
    "tags": []
   },
   "outputs": [],
   "source": [
    "# Adjust the x and y ranges according to the above generated plot.\n",
    "x_range = np.linspace(-4, 1, 100) \n",
    "y_range = np.linspace(-6, 6, 100) \n",
    "x_grid, y_grid = np.meshgrid(x_range, y_range) # x_grid and y_grig are of size 100 X 100\n",
    "\n",
    "# converting x_grid and y_grid to continuous arrays\n",
    "x_grid_flat = np.ravel(x_grid)\n",
    "y_grid_flat = np.ravel(y_grid)\n",
    "\n",
    "# The last layer of the current model takes two columns as input. Hence transpose of np.vstack() is required.\n",
    "X = np.vstack((x_grid_flat, y_grid_flat)).T\n",
    "\n",
    "# x_grid and y_grid are of size 100 x 100\n",
    "probability_contour = model_prob(X).reshape(100,100) "
   ]
  },
  {
   "cell_type": "code",
   "execution_count": 29,
   "metadata": {
    "execution": {
     "iopub.execute_input": "2020-08-27T10:05:47.886825Z",
     "iopub.status.busy": "2020-08-27T10:05:47.886205Z",
     "iopub.status.idle": "2020-08-27T10:05:48.138468Z",
     "shell.execute_reply": "2020-08-27T10:05:48.137954Z"
    },
    "papermill": {
     "duration": 0.310368,
     "end_time": "2020-08-27T10:05:48.138604",
     "exception": false,
     "start_time": "2020-08-27T10:05:47.828236",
     "status": "completed"
    },
    "tags": []
   },
   "outputs": [
    {
     "data": {
      "image/png": "[encoded data removed]",
      "text/plain": [
       "<Figure size 720x648 with 1 Axes>"
      ]
     },
     "metadata": {
      "needs_background": "light"
     },
     "output_type": "display_data"
    }
   ],
   "source": [
    "plt.figure(figsize=(10,9))\n",
    "plt.scatter(plot_testing[:,0], plot_testing[:,1], alpha = 0.1, c = y_test.ravel())\n",
    "contours = plt.contour(x_grid,y_grid,probability_contour)\n",
    "plt.title('Probability Contours')\n",
    "plt.clabel(contours, inline = True );"
   ]
  }
 ],
 "metadata": {
  "kernelspec": {
   "display_name": "Python 3",
   "language": "python",
   "name": "python3"
  },
  "language_info": {
   "codemirror_mode": {
    "name": "ipython",
    "version": 3
   },
   "file_extension": ".py",
   "mimetype": "text/x-python",
   "name": "python",
   "nbconvert_exporter": "python",
   "pygments_lexer": "ipython3",
   "version": "3.6.11"
  },
  "papermill": {
   "duration": 110.726453,
   "end_time": "2020-08-27T10:05:48.601884",
   "environment_variables": {},
   "exception": null,
   "input_path": "2020-08-11-NeuralNetwork.ipynb",
   "output_path": "2020-08-11-NeuralNetwork.ipynb",
   "parameters": {},
   "start_time": "2020-08-27T10:03:57.875431",
   "version": "2.1.2"
  }
 },
 "nbformat": 4,
 "nbformat_minor": 4
}