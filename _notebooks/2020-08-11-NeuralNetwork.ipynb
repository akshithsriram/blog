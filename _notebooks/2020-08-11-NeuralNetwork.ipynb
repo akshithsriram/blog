{
 "cells": [
  {
   "cell_type": "markdown",
   "metadata": {
    "papermill": {
     "duration": 0.025238,
     "end_time": "2020-09-06T20:04:24.085730",
     "exception": false,
     "start_time": "2020-09-06T20:04:24.060492",
     "status": "completed"
    },
    "tags": []
   },
   "source": [
    "# \"A Basic Neural Network: Differentiate Hand-Written Digits\"\n",
    "\n",
    "- badges: true\n",
    "- author: Akshith Sriram"
   ]
  },
  {
   "cell_type": "markdown",
   "metadata": {
    "papermill": {
     "duration": 0.022134,
     "end_time": "2020-09-06T20:04:24.130208",
     "exception": false,
     "start_time": "2020-09-06T20:04:24.108074",
     "status": "completed"
    },
    "tags": []
   },
   "source": [
    "### Key Objectives:\n",
    "- Building a neural network that differentiates two hand-written digits 3 and 8.\n",
    "- Comparing the results of this Neural Network (NN) to that of a Logistic Regression (LR) model.\n",
    "\n",
    "### Requirements:\n",
    "- 'Kudzu' : A neural network library that was designed during our course by [Univ.AI](www.univ.ai). \n",
    "- MNIST Database\n",
    "\n",
    "If MNIST is not installed, use the command `!pip install mnist` given below.\n",
    "It can be run both from the command line and Jupyter Notebook."
   ]
  },
  {
   "cell_type": "code",
   "execution_count": 1,
   "metadata": {
    "execution": {
     "iopub.execute_input": "2020-09-06T20:04:24.178500Z",
     "iopub.status.busy": "2020-09-06T20:04:24.177953Z",
     "iopub.status.idle": "2020-09-06T20:04:25.614502Z",
     "shell.execute_reply": "2020-09-06T20:04:25.613754Z"
    },
    "papermill": {
     "duration": 1.462455,
     "end_time": "2020-09-06T20:04:25.614653",
     "exception": false,
     "start_time": "2020-09-06T20:04:24.152198",
     "status": "completed"
    },
    "tags": []
   },
   "outputs": [
    {
     "name": "stdout",
     "output_type": "stream",
     "text": [
      "Collecting mnist\r\n"
     ]
    },
    {
     "name": "stdout",
     "output_type": "stream",
     "text": [
      "  Downloading mnist-0.2.2-py2.py3-none-any.whl (3.5 kB)\r\n"
     ]
    },
    {
     "name": "stdout",
     "output_type": "stream",
     "text": [
      "Requirement already satisfied: numpy in /opt/hostedtoolcache/Python/3.6.12/x64/lib/python3.6/site-packages (from mnist) (1.19.1)\r\n"
     ]
    },
    {
     "name": "stdout",
     "output_type": "stream",
     "text": [
      "Installing collected packages: mnist\r\n"
     ]
    },
    {
     "name": "stdout",
     "output_type": "stream",
     "text": [
      "Successfully installed mnist-0.2.2\r\n"
     ]
    }
   ],
   "source": [
    "!pip install mnist "
   ]
  },
  {
   "cell_type": "markdown",
   "metadata": {
    "papermill": {
     "duration": 0.023491,
     "end_time": "2020-09-06T20:04:25.663665",
     "exception": false,
     "start_time": "2020-09-06T20:04:25.640174",
     "status": "completed"
    },
    "tags": []
   },
   "source": [
    "#### Importing necessary libraries"
   ]
  },
  {
   "cell_type": "code",
   "execution_count": 2,
   "metadata": {
    "execution": {
     "iopub.execute_input": "2020-09-06T20:04:25.717927Z",
     "iopub.status.busy": "2020-09-06T20:04:25.717397Z",
     "iopub.status.idle": "2020-09-06T20:04:26.241656Z",
     "shell.execute_reply": "2020-09-06T20:04:26.242146Z"
    },
    "papermill": {
     "duration": 0.554264,
     "end_time": "2020-09-06T20:04:26.242309",
     "exception": false,
     "start_time": "2020-09-06T20:04:25.688045",
     "status": "completed"
    },
    "tags": []
   },
   "outputs": [],
   "source": [
    "%load_ext autoreload\n",
    "%autoreload 2\n",
    "\n",
    "%matplotlib inline\n",
    "import matplotlib.pyplot as plt\n",
    "\n",
    "import numpy as np\n",
    "import pandas as pd"
   ]
  },
  {
   "cell_type": "markdown",
   "metadata": {
    "papermill": {
     "duration": 0.035639,
     "end_time": "2020-09-06T20:04:26.318351",
     "exception": false,
     "start_time": "2020-09-06T20:04:26.282712",
     "status": "completed"
    },
    "tags": []
   },
   "source": [
    "### Preparing the Data"
   ]
  },
  {
   "cell_type": "code",
   "execution_count": 3,
   "metadata": {
    "execution": {
     "iopub.execute_input": "2020-09-06T20:04:26.429682Z",
     "iopub.status.busy": "2020-09-06T20:04:26.427673Z",
     "iopub.status.idle": "2020-09-06T20:04:26.442314Z",
     "shell.execute_reply": "2020-09-06T20:04:26.441821Z"
    },
    "papermill": {
     "duration": 0.065291,
     "end_time": "2020-09-06T20:04:26.442432",
     "exception": false,
     "start_time": "2020-09-06T20:04:26.377141",
     "status": "completed"
    },
    "tags": []
   },
   "outputs": [],
   "source": [
    "import mnist"
   ]
  },
  {
   "cell_type": "code",
   "execution_count": 4,
   "metadata": {
    "execution": {
     "iopub.execute_input": "2020-09-06T20:04:26.536114Z",
     "iopub.status.busy": "2020-09-06T20:04:26.535340Z",
     "iopub.status.idle": "2020-09-06T20:04:28.144124Z",
     "shell.execute_reply": "2020-09-06T20:04:28.144620Z"
    },
    "papermill": {
     "duration": 1.675294,
     "end_time": "2020-09-06T20:04:28.144768",
     "exception": false,
     "start_time": "2020-09-06T20:04:26.469474",
     "status": "completed"
    },
    "tags": []
   },
   "outputs": [],
   "source": [
    "train_images = mnist.train_images()\n",
    "train_labels = mnist.train_labels()"
   ]
  },
  {
   "cell_type": "code",
   "execution_count": 5,
   "metadata": {
    "execution": {
     "iopub.execute_input": "2020-09-06T20:04:28.195544Z",
     "iopub.status.busy": "2020-09-06T20:04:28.194733Z",
     "iopub.status.idle": "2020-09-06T20:04:28.206839Z",
     "shell.execute_reply": "2020-09-06T20:04:28.207273Z"
    },
    "papermill": {
     "duration": 0.038608,
     "end_time": "2020-09-06T20:04:28.207397",
     "exception": false,
     "start_time": "2020-09-06T20:04:28.168789",
     "status": "completed"
    },
    "tags": []
   },
   "outputs": [
    {
     "data": {
      "text/plain": [
       "((60000, 28, 28), (60000,))"
      ]
     },
     "execution_count": 5,
     "metadata": {},
     "output_type": "execute_result"
    }
   ],
   "source": [
    "train_images.shape, train_labels.shape"
   ]
  },
  {
   "cell_type": "code",
   "execution_count": 6,
   "metadata": {
    "execution": {
     "iopub.execute_input": "2020-09-06T20:04:28.258547Z",
     "iopub.status.busy": "2020-09-06T20:04:28.257787Z",
     "iopub.status.idle": "2020-09-06T20:04:29.265059Z",
     "shell.execute_reply": "2020-09-06T20:04:29.264588Z"
    },
    "papermill": {
     "duration": 1.034,
     "end_time": "2020-09-06T20:04:29.265191",
     "exception": false,
     "start_time": "2020-09-06T20:04:28.231191",
     "status": "completed"
    },
    "tags": []
   },
   "outputs": [],
   "source": [
    "test_images = mnist.test_images()\n",
    "test_labels = mnist.test_labels()"
   ]
  },
  {
   "cell_type": "code",
   "execution_count": 7,
   "metadata": {
    "execution": {
     "iopub.execute_input": "2020-09-06T20:04:29.317293Z",
     "iopub.status.busy": "2020-09-06T20:04:29.316760Z",
     "iopub.status.idle": "2020-09-06T20:04:29.327902Z",
     "shell.execute_reply": "2020-09-06T20:04:29.327447Z"
    },
    "papermill": {
     "duration": 0.038105,
     "end_time": "2020-09-06T20:04:29.328011",
     "exception": false,
     "start_time": "2020-09-06T20:04:29.289906",
     "status": "completed"
    },
    "tags": []
   },
   "outputs": [
    {
     "data": {
      "text/plain": [
       "((10000, 28, 28), (10000,))"
      ]
     },
     "execution_count": 7,
     "metadata": {},
     "output_type": "execute_result"
    }
   ],
   "source": [
    "test_images.shape, test_labels.shape"
   ]
  },
  {
   "cell_type": "code",
   "execution_count": 8,
   "metadata": {
    "execution": {
     "iopub.execute_input": "2020-09-06T20:04:29.406435Z",
     "iopub.status.busy": "2020-09-06T20:04:29.388217Z",
     "iopub.status.idle": "2020-09-06T20:04:29.536411Z",
     "shell.execute_reply": "2020-09-06T20:04:29.535966Z"
    },
    "papermill": {
     "duration": 0.184578,
     "end_time": "2020-09-06T20:04:29.536531",
     "exception": false,
     "start_time": "2020-09-06T20:04:29.351953",
     "status": "completed"
    },
    "tags": []
   },
   "outputs": [
    {
     "name": "stdout",
     "output_type": "stream",
     "text": [
      "2\n"
     ]
    },
    {
     "data": {
      "text/plain": [
       "<matplotlib.image.AxesImage at 0x7f0214bcce48>"
      ]
     },
     "execution_count": 8,
     "metadata": {},
     "output_type": "execute_result"
    },
    {
     "data": {
      "image/png": "[encoded data removed]",
      "text/plain": [
       "<Figure size 432x288 with 1 Axes>"
      ]
     },
     "metadata": {
      "needs_background": "light"
     },
     "output_type": "display_data"
    }
   ],
   "source": [
    "image_index = 7776 # You may select anything up to 60,000\n",
    "print(train_labels[image_index]) \n",
    "plt.imshow(train_images[image_index], cmap='Greys')"
   ]
  },
  {
   "cell_type": "markdown",
   "metadata": {
    "papermill": {
     "duration": 0.025666,
     "end_time": "2020-09-06T20:04:29.587673",
     "exception": false,
     "start_time": "2020-09-06T20:04:29.562007",
     "status": "completed"
    },
    "tags": []
   },
   "source": [
    "## Filter data to get 3 and 8 out"
   ]
  },
  {
   "cell_type": "code",
   "execution_count": 9,
   "metadata": {
    "execution": {
     "iopub.execute_input": "2020-09-06T20:04:29.644116Z",
     "iopub.status.busy": "2020-09-06T20:04:29.643425Z",
     "iopub.status.idle": "2020-09-06T20:04:29.659608Z",
     "shell.execute_reply": "2020-09-06T20:04:29.659133Z"
    },
    "papermill": {
     "duration": 0.046628,
     "end_time": "2020-09-06T20:04:29.659729",
     "exception": false,
     "start_time": "2020-09-06T20:04:29.613101",
     "status": "completed"
    },
    "tags": []
   },
   "outputs": [],
   "source": [
    "train_filter = np.where((train_labels == 3 ) | (train_labels == 8))\n",
    "test_filter = np.where((test_labels == 3) | (test_labels == 8))\n",
    "X_train, y_train = train_images[train_filter], train_labels[train_filter]\n",
    "X_test, y_test = test_images[test_filter], test_labels[test_filter]"
   ]
  },
  {
   "cell_type": "markdown",
   "metadata": {
    "papermill": {
     "duration": 0.025723,
     "end_time": "2020-09-06T20:04:29.711312",
     "exception": false,
     "start_time": "2020-09-06T20:04:29.685589",
     "status": "completed"
    },
    "tags": []
   },
   "source": [
    "We normalize the pixel values in the 0 to 1 range"
   ]
  },
  {
   "cell_type": "code",
   "execution_count": 10,
   "metadata": {
    "execution": {
     "iopub.execute_input": "2020-09-06T20:04:29.767303Z",
     "iopub.status.busy": "2020-09-06T20:04:29.766774Z",
     "iopub.status.idle": "2020-09-06T20:04:29.815160Z",
     "shell.execute_reply": "2020-09-06T20:04:29.814663Z"
    },
    "papermill": {
     "duration": 0.078628,
     "end_time": "2020-09-06T20:04:29.815290",
     "exception": false,
     "start_time": "2020-09-06T20:04:29.736662",
     "status": "completed"
    },
    "tags": []
   },
   "outputs": [],
   "source": [
    "X_train = X_train/255.\n",
    "X_test = X_test/255."
   ]
  },
  {
   "cell_type": "markdown",
   "metadata": {
    "papermill": {
     "duration": 0.025304,
     "end_time": "2020-09-06T20:04:29.866464",
     "exception": false,
     "start_time": "2020-09-06T20:04:29.841160",
     "status": "completed"
    },
    "tags": []
   },
   "source": [
    "Setup the labels as 1 (when the digit is 3) and 0 (when the digit is 8)"
   ]
  },
  {
   "cell_type": "code",
   "execution_count": 11,
   "metadata": {
    "execution": {
     "iopub.execute_input": "2020-09-06T20:04:29.925926Z",
     "iopub.status.busy": "2020-09-06T20:04:29.925393Z",
     "iopub.status.idle": "2020-09-06T20:04:29.933876Z",
     "shell.execute_reply": "2020-09-06T20:04:29.934337Z"
    },
    "papermill": {
     "duration": 0.042796,
     "end_time": "2020-09-06T20:04:29.934460",
     "exception": false,
     "start_time": "2020-09-06T20:04:29.891664",
     "status": "completed"
    },
    "tags": []
   },
   "outputs": [],
   "source": [
    "y_train = 1*(y_train==3)\n",
    "y_test = 1*(y_test==3)"
   ]
  },
  {
   "cell_type": "code",
   "execution_count": 12,
   "metadata": {
    "execution": {
     "iopub.execute_input": "2020-09-06T20:04:29.988288Z",
     "iopub.status.busy": "2020-09-06T20:04:29.987763Z",
     "iopub.status.idle": "2020-09-06T20:04:29.998413Z",
     "shell.execute_reply": "2020-09-06T20:04:29.997933Z"
    },
    "papermill": {
     "duration": 0.038284,
     "end_time": "2020-09-06T20:04:29.998521",
     "exception": false,
     "start_time": "2020-09-06T20:04:29.960237",
     "status": "completed"
    },
    "tags": []
   },
   "outputs": [
    {
     "data": {
      "text/plain": [
       "((11982, 28, 28), (1984, 28, 28))"
      ]
     },
     "execution_count": 12,
     "metadata": {},
     "output_type": "execute_result"
    }
   ],
   "source": [
    "X_train.shape, X_test.shape"
   ]
  },
  {
   "cell_type": "markdown",
   "metadata": {
    "papermill": {
     "duration": 0.026518,
     "end_time": "2020-09-06T20:04:30.050370",
     "exception": false,
     "start_time": "2020-09-06T20:04:30.023852",
     "status": "completed"
    },
    "tags": []
   },
   "source": [
    "### Reshape the input data to create a linear array"
   ]
  },
  {
   "cell_type": "code",
   "execution_count": 13,
   "metadata": {
    "execution": {
     "iopub.execute_input": "2020-09-06T20:04:30.106331Z",
     "iopub.status.busy": "2020-09-06T20:04:30.105769Z",
     "iopub.status.idle": "2020-09-06T20:04:30.117260Z",
     "shell.execute_reply": "2020-09-06T20:04:30.116804Z"
    },
    "papermill": {
     "duration": 0.039976,
     "end_time": "2020-09-06T20:04:30.117370",
     "exception": false,
     "start_time": "2020-09-06T20:04:30.077394",
     "status": "completed"
    },
    "tags": []
   },
   "outputs": [
    {
     "data": {
      "text/plain": [
       "((11982, 784), (1984, 784))"
      ]
     },
     "execution_count": 13,
     "metadata": {},
     "output_type": "execute_result"
    }
   ],
   "source": [
    "X_train = X_train.reshape(X_train.shape[0], -1)\n",
    "X_test = X_test.reshape(X_test.shape[0], -1)\n",
    "X_train.shape, X_test.shape"
   ]
  },
  {
   "cell_type": "markdown",
   "metadata": {
    "papermill": {
     "duration": 0.027226,
     "end_time": "2020-09-06T20:04:30.170327",
     "exception": false,
     "start_time": "2020-09-06T20:04:30.143101",
     "status": "completed"
    },
    "tags": []
   },
   "source": [
    "### Importing appropriate functions from 'Kudzu'"
   ]
  },
  {
   "cell_type": "code",
   "execution_count": 14,
   "metadata": {
    "execution": {
     "iopub.execute_input": "2020-09-06T20:04:30.226170Z",
     "iopub.status.busy": "2020-09-06T20:04:30.225590Z",
     "iopub.status.idle": "2020-09-06T20:04:30.241425Z",
     "shell.execute_reply": "2020-09-06T20:04:30.240969Z"
    },
    "papermill": {
     "duration": 0.044933,
     "end_time": "2020-09-06T20:04:30.241533",
     "exception": false,
     "start_time": "2020-09-06T20:04:30.196600",
     "status": "completed"
    },
    "tags": []
   },
   "outputs": [],
   "source": [
    "from kudzu.layer import Sigmoid\n",
    "from kudzu.layer import Relu\n",
    "from kudzu.layer import Affine, Sigmoid\n",
    "\n",
    "from kudzu.model import Model\n",
    "from kudzu.train import Learner\n",
    "from kudzu.optim import GD\n",
    "from kudzu.data import Data, Dataloader, Sampler\n",
    "\n",
    "from kudzu.callbacks import AccCallback\n",
    "from kudzu.callbacks import ClfCallback\n",
    "\n",
    "from kudzu.loss import MSE"
   ]
  },
  {
   "cell_type": "markdown",
   "metadata": {
    "papermill": {
     "duration": 0.025803,
     "end_time": "2020-09-06T20:04:30.293408",
     "exception": false,
     "start_time": "2020-09-06T20:04:30.267605",
     "status": "completed"
    },
    "tags": []
   },
   "source": [
    "### Let us create a `Config` class, to store important parameters. \n",
    "This class essentially plays the role of a dictionary."
   ]
  },
  {
   "cell_type": "code",
   "execution_count": 15,
   "metadata": {
    "execution": {
     "iopub.execute_input": "2020-09-06T20:04:30.347886Z",
     "iopub.status.busy": "2020-09-06T20:04:30.347352Z",
     "iopub.status.idle": "2020-09-06T20:04:30.357010Z",
     "shell.execute_reply": "2020-09-06T20:04:30.357446Z"
    },
    "papermill": {
     "duration": 0.038242,
     "end_time": "2020-09-06T20:04:30.357567",
     "exception": false,
     "start_time": "2020-09-06T20:04:30.319325",
     "status": "completed"
    },
    "tags": []
   },
   "outputs": [],
   "source": [
    "class Config:\n",
    "    pass\n",
    "config = Config()\n",
    "config.lr = 0.001\n",
    "config.num_epochs = 251\n",
    "config.bs = 50"
   ]
  },
  {
   "cell_type": "markdown",
   "metadata": {
    "papermill": {
     "duration": 0.026114,
     "end_time": "2020-09-06T20:04:30.409127",
     "exception": false,
     "start_time": "2020-09-06T20:04:30.383013",
     "status": "completed"
    },
    "tags": []
   },
   "source": [
    "### Initializing data to the variables"
   ]
  },
  {
   "cell_type": "code",
   "execution_count": 16,
   "metadata": {
    "execution": {
     "iopub.execute_input": "2020-09-06T20:04:30.471315Z",
     "iopub.status.busy": "2020-09-06T20:04:30.470779Z",
     "iopub.status.idle": "2020-09-06T20:04:30.479250Z",
     "shell.execute_reply": "2020-09-06T20:04:30.478795Z"
    },
    "papermill": {
     "duration": 0.040798,
     "end_time": "2020-09-06T20:04:30.479359",
     "exception": false,
     "start_time": "2020-09-06T20:04:30.438561",
     "status": "completed"
    },
    "tags": []
   },
   "outputs": [],
   "source": [
    "data = Data(X_train, y_train.reshape(-1,1))\n",
    "sampler = Sampler(data, config.bs, shuffle=True)\n",
    "\n",
    "dl = Dataloader(data, sampler)\n",
    "\n",
    "opt = GD(config.lr)\n",
    "loss = MSE()"
   ]
  },
  {
   "cell_type": "code",
   "execution_count": 17,
   "metadata": {
    "execution": {
     "iopub.execute_input": "2020-09-06T20:04:30.536997Z",
     "iopub.status.busy": "2020-09-06T20:04:30.536460Z",
     "iopub.status.idle": "2020-09-06T20:04:30.544783Z",
     "shell.execute_reply": "2020-09-06T20:04:30.544316Z"
    },
    "papermill": {
     "duration": 0.039462,
     "end_time": "2020-09-06T20:04:30.544895",
     "exception": false,
     "start_time": "2020-09-06T20:04:30.505433",
     "status": "completed"
    },
    "tags": []
   },
   "outputs": [],
   "source": [
    "training_xdata = X_train\n",
    "testing_xdata = X_test\n",
    "training_ydata = y_train.reshape(-1,1)\n",
    "testing_ydata = y_test.reshape(-1,1)"
   ]
  },
  {
   "cell_type": "markdown",
   "metadata": {
    "papermill": {
     "duration": 0.0256,
     "end_time": "2020-09-06T20:04:30.597128",
     "exception": false,
     "start_time": "2020-09-06T20:04:30.571528",
     "status": "completed"
    },
    "tags": []
   },
   "source": [
    "### Running Models with the Training data\n",
    "Details about the network layers:\n",
    "- A first affine layer has 784 inputs and does 100 affine transforms. These are followed by a Relu\n",
    "- A second affine layer has 100 inputs from the 100 activations of the past layer, and does 100 affine transforms. These are followed by a Relu\n",
    "- A third affine layer has 100 activations and does 2 affine transformations to create an embedding for visualization. There is no non-linearity here.\n",
    "- A final \"logistic regression\" which has an affine transform from 2 inputs to 1 output, which is squeezed through a sigmoid.\n",
    "\n",
    "Help taken from Anshuman's Notebook."
   ]
  },
  {
   "cell_type": "code",
   "execution_count": 18,
   "metadata": {
    "execution": {
     "iopub.execute_input": "2020-09-06T20:04:30.652181Z",
     "iopub.status.busy": "2020-09-06T20:04:30.651631Z",
     "iopub.status.idle": "2020-09-06T20:04:30.664888Z",
     "shell.execute_reply": "2020-09-06T20:04:30.664180Z"
    },
    "papermill": {
     "duration": 0.042297,
     "end_time": "2020-09-06T20:04:30.665022",
     "exception": false,
     "start_time": "2020-09-06T20:04:30.622725",
     "status": "completed"
    },
    "tags": []
   },
   "outputs": [],
   "source": [
    "# layers for the Neural Network\n",
    "layers = [Affine(\"first\", 784, 100), Relu(\"first\"), Affine(\"second\", 100, 100), Relu(\"second\"), Affine(\"third\", 100, 2), Affine(\"final\", 2, 1), Sigmoid(\"final\")]\n",
    "model_nn = Model(layers)\n",
    "\n",
    "# layers for the Logistic Regression\n",
    "layers_lr = [Affine(\"logits\", 784, 1), Sigmoid(\"sigmoid\")]\n",
    "model_lr = Model(layers_lr)"
   ]
  },
  {
   "cell_type": "code",
   "execution_count": 19,
   "metadata": {
    "execution": {
     "iopub.execute_input": "2020-09-06T20:04:30.722352Z",
     "iopub.status.busy": "2020-09-06T20:04:30.721791Z",
     "iopub.status.idle": "2020-09-06T20:04:30.731991Z",
     "shell.execute_reply": "2020-09-06T20:04:30.731537Z"
    },
    "papermill": {
     "duration": 0.040704,
     "end_time": "2020-09-06T20:04:30.732099",
     "exception": false,
     "start_time": "2020-09-06T20:04:30.691395",
     "status": "completed"
    },
    "tags": []
   },
   "outputs": [],
   "source": [
    "# suffix _nn stands for Neural Network.\n",
    "learner_nn = Learner(loss, model_nn, opt, config.num_epochs)\n",
    "acc_nn = ClfCallback(learner_nn, config.bs, training_xdata , testing_xdata, training_ydata, testing_ydata)\n",
    "learner_nn.set_callbacks([acc_nn])"
   ]
  },
  {
   "cell_type": "code",
   "execution_count": 20,
   "metadata": {
    "execution": {
     "iopub.execute_input": "2020-09-06T20:04:30.792856Z",
     "iopub.status.busy": "2020-09-06T20:04:30.792233Z",
     "iopub.status.idle": "2020-09-06T20:06:33.366289Z",
     "shell.execute_reply": "2020-09-06T20:06:33.367264Z"
    },
    "papermill": {
     "duration": 122.608924,
     "end_time": "2020-09-06T20:06:33.367447",
     "exception": false,
     "start_time": "2020-09-06T20:04:30.758523",
     "status": "completed"
    },
    "tags": []
   },
   "outputs": [
    {
     "name": "stdout",
     "output_type": "stream",
     "text": [
      "====== Neural Network ======\n"
     ]
    },
    {
     "name": "stdout",
     "output_type": "stream",
     "text": [
      "Epoch 0, Loss 0.2414\n",
      "Training Accuracy: 0.5456, Testing Accuracy: 0.5444\n",
      "\n"
     ]
    },
    {
     "name": "stdout",
     "output_type": "stream",
     "text": [
      "Epoch 10, Loss 0.1177\n",
      "Training Accuracy: 0.9109, Testing Accuracy: 0.9143\n",
      "\n"
     ]
    },
    {
     "name": "stdout",
     "output_type": "stream",
     "text": [
      "Epoch 20, Loss 0.0643\n",
      "Training Accuracy: 0.9367, Testing Accuracy: 0.9420\n",
      "\n"
     ]
    },
    {
     "name": "stdout",
     "output_type": "stream",
     "text": [
      "Epoch 30, Loss 0.0488\n",
      "Training Accuracy: 0.9458, Testing Accuracy: 0.9536\n",
      "\n"
     ]
    },
    {
     "name": "stdout",
     "output_type": "stream",
     "text": [
      "Epoch 40, Loss 0.0417\n",
      "Training Accuracy: 0.9518, Testing Accuracy: 0.9592\n",
      "\n"
     ]
    },
    {
     "name": "stdout",
     "output_type": "stream",
     "text": [
      "Epoch 50, Loss 0.0375\n",
      "Training Accuracy: 0.9560, Testing Accuracy: 0.9617\n",
      "\n"
     ]
    },
    {
     "name": "stdout",
     "output_type": "stream",
     "text": [
      "Epoch 60, Loss 0.0347\n",
      "Training Accuracy: 0.9593, Testing Accuracy: 0.9647\n",
      "\n"
     ]
    },
    {
     "name": "stdout",
     "output_type": "stream",
     "text": [
      "Epoch 70, Loss 0.0326\n",
      "Training Accuracy: 0.9618, Testing Accuracy: 0.9662\n",
      "\n"
     ]
    },
    {
     "name": "stdout",
     "output_type": "stream",
     "text": [
      "Epoch 80, Loss 0.031\n",
      "Training Accuracy: 0.9636, Testing Accuracy: 0.9672\n",
      "\n"
     ]
    },
    {
     "name": "stdout",
     "output_type": "stream",
     "text": [
      "Epoch 90, Loss 0.0297\n",
      "Training Accuracy: 0.9657, Testing Accuracy: 0.9672\n",
      "\n"
     ]
    },
    {
     "name": "stdout",
     "output_type": "stream",
     "text": [
      "Epoch 100, Loss 0.0286\n",
      "Training Accuracy: 0.9670, Testing Accuracy: 0.9677\n",
      "\n"
     ]
    },
    {
     "name": "stdout",
     "output_type": "stream",
     "text": [
      "Epoch 110, Loss 0.0277\n",
      "Training Accuracy: 0.9676, Testing Accuracy: 0.9677\n",
      "\n"
     ]
    },
    {
     "name": "stdout",
     "output_type": "stream",
     "text": [
      "Epoch 120, Loss 0.0269\n",
      "Training Accuracy: 0.9686, Testing Accuracy: 0.9688\n",
      "\n"
     ]
    },
    {
     "name": "stdout",
     "output_type": "stream",
     "text": [
      "Epoch 130, Loss 0.0262\n",
      "Training Accuracy: 0.9699, Testing Accuracy: 0.9688\n",
      "\n"
     ]
    },
    {
     "name": "stdout",
     "output_type": "stream",
     "text": [
      "Epoch 140, Loss 0.0255\n",
      "Training Accuracy: 0.9705, Testing Accuracy: 0.9688\n",
      "\n"
     ]
    },
    {
     "name": "stdout",
     "output_type": "stream",
     "text": [
      "Epoch 150, Loss 0.0249\n",
      "Training Accuracy: 0.9712, Testing Accuracy: 0.9688\n",
      "\n"
     ]
    },
    {
     "name": "stdout",
     "output_type": "stream",
     "text": [
      "Epoch 160, Loss 0.0244\n",
      "Training Accuracy: 0.9715, Testing Accuracy: 0.9677\n",
      "\n"
     ]
    },
    {
     "name": "stdout",
     "output_type": "stream",
     "text": [
      "Epoch 170, Loss 0.0239\n",
      "Training Accuracy: 0.9724, Testing Accuracy: 0.9688\n",
      "\n"
     ]
    },
    {
     "name": "stdout",
     "output_type": "stream",
     "text": [
      "Epoch 180, Loss 0.0235\n",
      "Training Accuracy: 0.9729, Testing Accuracy: 0.9682\n",
      "\n"
     ]
    },
    {
     "name": "stdout",
     "output_type": "stream",
     "text": [
      "Epoch 190, Loss 0.023\n",
      "Training Accuracy: 0.9735, Testing Accuracy: 0.9677\n",
      "\n"
     ]
    },
    {
     "name": "stdout",
     "output_type": "stream",
     "text": [
      "Epoch 200, Loss 0.0226\n",
      "Training Accuracy: 0.9738, Testing Accuracy: 0.9682\n",
      "\n"
     ]
    },
    {
     "name": "stdout",
     "output_type": "stream",
     "text": [
      "Epoch 210, Loss 0.0223\n",
      "Training Accuracy: 0.9745, Testing Accuracy: 0.9688\n",
      "\n"
     ]
    },
    {
     "name": "stdout",
     "output_type": "stream",
     "text": [
      "Epoch 220, Loss 0.0219\n",
      "Training Accuracy: 0.9749, Testing Accuracy: 0.9698\n",
      "\n"
     ]
    },
    {
     "name": "stdout",
     "output_type": "stream",
     "text": [
      "Epoch 230, Loss 0.0216\n",
      "Training Accuracy: 0.9751, Testing Accuracy: 0.9698\n",
      "\n"
     ]
    },
    {
     "name": "stdout",
     "output_type": "stream",
     "text": [
      "Epoch 240, Loss 0.0212\n",
      "Training Accuracy: 0.9756, Testing Accuracy: 0.9703\n",
      "\n"
     ]
    },
    {
     "name": "stdout",
     "output_type": "stream",
     "text": [
      "Epoch 250, Loss 0.0209\n",
      "Training Accuracy: 0.9760, Testing Accuracy: 0.9708\n",
      "\n"
     ]
    },
    {
     "data": {
      "text/plain": [
       "0.005863473713460319"
      ]
     },
     "execution_count": 20,
     "metadata": {},
     "output_type": "execute_result"
    }
   ],
   "source": [
    "print(\"====== Neural Network ======\")\n",
    "learner_nn.train_loop(dl)"
   ]
  },
  {
   "cell_type": "markdown",
   "metadata": {
    "papermill": {
     "duration": 0.036984,
     "end_time": "2020-09-06T20:06:33.446213",
     "exception": false,
     "start_time": "2020-09-06T20:06:33.409229",
     "status": "completed"
    },
    "tags": []
   },
   "source": [
    "### Logistic Regression based Implementation."
   ]
  },
  {
   "cell_type": "code",
   "execution_count": 21,
   "metadata": {
    "execution": {
     "iopub.execute_input": "2020-09-06T20:06:33.523482Z",
     "iopub.status.busy": "2020-09-06T20:06:33.522847Z",
     "iopub.status.idle": "2020-09-06T20:06:33.533525Z",
     "shell.execute_reply": "2020-09-06T20:06:33.533084Z"
    },
    "papermill": {
     "duration": 0.051896,
     "end_time": "2020-09-06T20:06:33.533645",
     "exception": false,
     "start_time": "2020-09-06T20:06:33.481749",
     "status": "completed"
    },
    "tags": []
   },
   "outputs": [],
   "source": [
    "learner_lr = Learner(loss, model_lr, opt, config.num_epochs)\n",
    "acc_lr = ClfCallback(learner_lr, config.bs, training_xdata , testing_xdata, training_ydata, testing_ydata)\n",
    "learner_lr.set_callbacks([acc_lr])"
   ]
  },
  {
   "cell_type": "code",
   "execution_count": 22,
   "metadata": {
    "execution": {
     "iopub.execute_input": "2020-09-06T20:06:33.622716Z",
     "iopub.status.busy": "2020-09-06T20:06:33.620442Z",
     "iopub.status.idle": "2020-09-06T20:06:51.896924Z",
     "shell.execute_reply": "2020-09-06T20:06:51.897893Z"
    },
    "papermill": {
     "duration": 18.324535,
     "end_time": "2020-09-06T20:06:51.898106",
     "exception": false,
     "start_time": "2020-09-06T20:06:33.573571",
     "status": "completed"
    },
    "tags": []
   },
   "outputs": [
    {
     "name": "stdout",
     "output_type": "stream",
     "text": [
      "====== Logistic Regression ======\n",
      "Epoch 0, Loss 0.2044\n",
      "Training Accuracy: 0.7940, Testing Accuracy: 0.8059\n",
      "\n"
     ]
    },
    {
     "name": "stdout",
     "output_type": "stream",
     "text": [
      "Epoch 10, Loss 0.1021\n",
      "Training Accuracy: 0.9015, Testing Accuracy: 0.9173\n",
      "\n"
     ]
    },
    {
     "name": "stdout",
     "output_type": "stream",
     "text": [
      "Epoch 20, Loss 0.0797\n",
      "Training Accuracy: 0.9230, Testing Accuracy: 0.9355\n",
      "\n"
     ]
    },
    {
     "name": "stdout",
     "output_type": "stream",
     "text": [
      "Epoch 30, Loss 0.069\n",
      "Training Accuracy: 0.9321, Testing Accuracy: 0.9451\n",
      "\n"
     ]
    },
    {
     "name": "stdout",
     "output_type": "stream",
     "text": [
      "Epoch 40, Loss 0.0624\n",
      "Training Accuracy: 0.9378, Testing Accuracy: 0.9491\n",
      "\n"
     ]
    },
    {
     "name": "stdout",
     "output_type": "stream",
     "text": [
      "Epoch 50, Loss 0.0579\n",
      "Training Accuracy: 0.9420, Testing Accuracy: 0.9536\n",
      "\n"
     ]
    },
    {
     "name": "stdout",
     "output_type": "stream",
     "text": [
      "Epoch 60, Loss 0.0546\n",
      "Training Accuracy: 0.9449, Testing Accuracy: 0.9577\n",
      "\n"
     ]
    },
    {
     "name": "stdout",
     "output_type": "stream",
     "text": [
      "Epoch 70, Loss 0.052\n",
      "Training Accuracy: 0.9469, Testing Accuracy: 0.9587\n",
      "\n"
     ]
    },
    {
     "name": "stdout",
     "output_type": "stream",
     "text": [
      "Epoch 80, Loss 0.0499\n",
      "Training Accuracy: 0.9486, Testing Accuracy: 0.9597\n",
      "\n"
     ]
    },
    {
     "name": "stdout",
     "output_type": "stream",
     "text": [
      "Epoch 90, Loss 0.0482\n",
      "Training Accuracy: 0.9498, Testing Accuracy: 0.9612\n",
      "\n"
     ]
    },
    {
     "name": "stdout",
     "output_type": "stream",
     "text": [
      "Epoch 100, Loss 0.0468\n",
      "Training Accuracy: 0.9512, Testing Accuracy: 0.9627\n",
      "\n"
     ]
    },
    {
     "name": "stdout",
     "output_type": "stream",
     "text": [
      "Epoch 110, Loss 0.0455\n",
      "Training Accuracy: 0.9528, Testing Accuracy: 0.9632\n",
      "\n"
     ]
    },
    {
     "name": "stdout",
     "output_type": "stream",
     "text": [
      "Epoch 120, Loss 0.0444\n",
      "Training Accuracy: 0.9538, Testing Accuracy: 0.9647\n",
      "\n"
     ]
    },
    {
     "name": "stdout",
     "output_type": "stream",
     "text": [
      "Epoch 130, Loss 0.0435\n",
      "Training Accuracy: 0.9551, Testing Accuracy: 0.9647\n",
      "\n"
     ]
    },
    {
     "name": "stdout",
     "output_type": "stream",
     "text": [
      "Epoch 140, Loss 0.0426\n",
      "Training Accuracy: 0.9557, Testing Accuracy: 0.9647\n",
      "\n"
     ]
    },
    {
     "name": "stdout",
     "output_type": "stream",
     "text": [
      "Epoch 150, Loss 0.0419\n",
      "Training Accuracy: 0.9561, Testing Accuracy: 0.9657\n",
      "\n"
     ]
    },
    {
     "name": "stdout",
     "output_type": "stream",
     "text": [
      "Epoch 160, Loss 0.0412\n",
      "Training Accuracy: 0.9567, Testing Accuracy: 0.9657\n",
      "\n"
     ]
    },
    {
     "name": "stdout",
     "output_type": "stream",
     "text": [
      "Epoch 170, Loss 0.0406\n",
      "Training Accuracy: 0.9574, Testing Accuracy: 0.9662\n",
      "\n"
     ]
    },
    {
     "name": "stdout",
     "output_type": "stream",
     "text": [
      "Epoch 180, Loss 0.04\n",
      "Training Accuracy: 0.9574, Testing Accuracy: 0.9667\n",
      "\n"
     ]
    },
    {
     "name": "stdout",
     "output_type": "stream",
     "text": [
      "Epoch 190, Loss 0.0394\n",
      "Training Accuracy: 0.9579, Testing Accuracy: 0.9667\n",
      "\n"
     ]
    },
    {
     "name": "stdout",
     "output_type": "stream",
     "text": [
      "Epoch 200, Loss 0.039\n",
      "Training Accuracy: 0.9584, Testing Accuracy: 0.9662\n",
      "\n"
     ]
    },
    {
     "name": "stdout",
     "output_type": "stream",
     "text": [
      "Epoch 210, Loss 0.0385\n",
      "Training Accuracy: 0.9589, Testing Accuracy: 0.9657\n",
      "\n"
     ]
    },
    {
     "name": "stdout",
     "output_type": "stream",
     "text": [
      "Epoch 220, Loss 0.0381\n",
      "Training Accuracy: 0.9595, Testing Accuracy: 0.9662\n",
      "\n"
     ]
    },
    {
     "name": "stdout",
     "output_type": "stream",
     "text": [
      "Epoch 230, Loss 0.0377\n",
      "Training Accuracy: 0.9600, Testing Accuracy: 0.9657\n",
      "\n"
     ]
    },
    {
     "name": "stdout",
     "output_type": "stream",
     "text": [
      "Epoch 240, Loss 0.0373\n",
      "Training Accuracy: 0.9602, Testing Accuracy: 0.9662\n",
      "\n"
     ]
    },
    {
     "name": "stdout",
     "output_type": "stream",
     "text": [
      "Epoch 250, Loss 0.037\n",
      "Training Accuracy: 0.9605, Testing Accuracy: 0.9667\n",
      "\n"
     ]
    },
    {
     "data": {
      "text/plain": [
       "0.01842647996401647"
      ]
     },
     "execution_count": 22,
     "metadata": {},
     "output_type": "execute_result"
    }
   ],
   "source": [
    "print(\"====== Logistic Regression ======\")\n",
    "learner_lr.train_loop(dl)"
   ]
  },
  {
   "cell_type": "markdown",
   "metadata": {
    "papermill": {
     "duration": 0.039847,
     "end_time": "2020-09-06T20:06:51.981859",
     "exception": false,
     "start_time": "2020-09-06T20:06:51.942012",
     "status": "completed"
    },
    "tags": []
   },
   "source": [
    "### Comparing results of NN and LR"
   ]
  },
  {
   "cell_type": "code",
   "execution_count": 23,
   "metadata": {
    "execution": {
     "iopub.execute_input": "2020-09-06T20:06:52.073595Z",
     "iopub.status.busy": "2020-09-06T20:06:52.071690Z",
     "iopub.status.idle": "2020-09-06T20:06:52.309181Z",
     "shell.execute_reply": "2020-09-06T20:06:52.308648Z"
    },
    "papermill": {
     "duration": 0.28722,
     "end_time": "2020-09-06T20:06:52.309314",
     "exception": false,
     "start_time": "2020-09-06T20:06:52.022094",
     "status": "completed"
    },
    "tags": []
   },
   "outputs": [
    {
     "data": {
      "text/plain": [
       "<matplotlib.legend.Legend at 0x7f020dfb12e8>"
      ]
     },
     "execution_count": 23,
     "metadata": {},
     "output_type": "execute_result"
    },
    {
     "data": {
      "image/png": "[encoded data removed]",
      "text/plain": [
       "<Figure size 1080x720 with 1 Axes>"
      ]
     },
     "metadata": {
      "needs_background": "light"
     },
     "output_type": "display_data"
    }
   ],
   "source": [
    "plt.figure(figsize=(15,10))\n",
    "\n",
    "# Neural Network plots\n",
    "plt.plot(acc_nn.accuracies, 'r-', label = \"Training Accuracies - NN\")\n",
    "plt.plot(acc_nn.test_accuracies, 'g-', label = \"Testing Accuracies - NN\")\n",
    "\n",
    "# Logistic Regression plots\n",
    "plt.plot(acc_lr.accuracies, 'k-', label = \"Training Accuracies - LR\")\n",
    "plt.plot(acc_lr.test_accuracies, 'b-', label = \"Testing Accuracies - LR\")\n",
    "\n",
    "plt.ylim(0.8, 1)\n",
    "\n",
    "plt.legend()\n",
    "\n"
   ]
  },
  {
   "cell_type": "markdown",
   "metadata": {
    "papermill": {
     "duration": 0.045688,
     "end_time": "2020-09-06T20:06:52.399290",
     "exception": false,
     "start_time": "2020-09-06T20:06:52.353602",
     "status": "completed"
    },
    "tags": []
   },
   "source": [
    "### From the plot, we can observe the following:\n",
    "- Neural Network achieves higher accuracy than the Logistic Regression model.\n",
    "- This apparently, is because of overfitting, i.e. NN captures more noise than data.\n",
    "- Testing accuracy of NN drops below the Training accuracy at higher epochs. This explains the over-fitting on training data.\n",
    "- Logistic Regression gives a reliable accuracy, without the above mentioned problem.\n"
   ]
  },
  {
   "cell_type": "markdown",
   "metadata": {
    "papermill": {
     "duration": 0.042119,
     "end_time": "2020-09-06T20:06:52.486223",
     "exception": false,
     "start_time": "2020-09-06T20:06:52.444104",
     "status": "completed"
    },
    "tags": []
   },
   "source": [
    "### Moving till the last but one layer (excluding it).\n",
    "#### Plotting the outputs of this layer of the NN."
   ]
  },
  {
   "cell_type": "code",
   "execution_count": 24,
   "metadata": {
    "execution": {
     "iopub.execute_input": "2020-09-06T20:06:52.571334Z",
     "iopub.status.busy": "2020-09-06T20:06:52.570804Z",
     "iopub.status.idle": "2020-09-06T20:06:52.581063Z",
     "shell.execute_reply": "2020-09-06T20:06:52.581476Z"
    },
    "papermill": {
     "duration": 0.054373,
     "end_time": "2020-09-06T20:06:52.581604",
     "exception": false,
     "start_time": "2020-09-06T20:06:52.527231",
     "status": "completed"
    },
    "tags": []
   },
   "outputs": [],
   "source": [
    "model_new = Model(layers[:-2])"
   ]
  },
  {
   "cell_type": "code",
   "execution_count": 25,
   "metadata": {
    "execution": {
     "iopub.execute_input": "2020-09-06T20:06:52.672881Z",
     "iopub.status.busy": "2020-09-06T20:06:52.672352Z",
     "iopub.status.idle": "2020-09-06T20:06:52.690758Z",
     "shell.execute_reply": "2020-09-06T20:06:52.691261Z"
    },
    "papermill": {
     "duration": 0.068484,
     "end_time": "2020-09-06T20:06:52.691390",
     "exception": false,
     "start_time": "2020-09-06T20:06:52.622906",
     "status": "completed"
    },
    "tags": []
   },
   "outputs": [],
   "source": [
    "plot_testing = model_new(testing_xdata)"
   ]
  },
  {
   "cell_type": "code",
   "execution_count": 26,
   "metadata": {
    "execution": {
     "iopub.execute_input": "2020-09-06T20:06:52.783324Z",
     "iopub.status.busy": "2020-09-06T20:06:52.782789Z",
     "iopub.status.idle": "2020-09-06T20:06:52.972699Z",
     "shell.execute_reply": "2020-09-06T20:06:52.973117Z"
    },
    "papermill": {
     "duration": 0.240287,
     "end_time": "2020-09-06T20:06:52.973253",
     "exception": false,
     "start_time": "2020-09-06T20:06:52.732966",
     "status": "completed"
    },
    "tags": []
   },
   "outputs": [
    {
     "data": {
      "text/plain": [
       "Text(0.5, 1.0, 'Outputs')"
      ]
     },
     "execution_count": 26,
     "metadata": {},
     "output_type": "execute_result"
    },
    {
     "data": {
      "image/png": "[encoded data removed]",
      "text/plain": [
       "<Figure size 576x504 with 1 Axes>"
      ]
     },
     "metadata": {
      "needs_background": "light"
     },
     "output_type": "display_data"
    }
   ],
   "source": [
    "plt.figure(figsize=(8,7))\n",
    "plt.scatter(plot_testing[:,0], plot_testing[:,1], alpha = 0.1, c = y_test.ravel());\n",
    "plt.title('Outputs')"
   ]
  },
  {
   "cell_type": "markdown",
   "metadata": {
    "papermill": {
     "duration": 0.042737,
     "end_time": "2020-09-06T20:06:53.059178",
     "exception": false,
     "start_time": "2020-09-06T20:06:53.016441",
     "status": "completed"
    },
    "tags": []
   },
   "source": [
    "### Plotting probability contours"
   ]
  },
  {
   "cell_type": "code",
   "execution_count": 27,
   "metadata": {
    "execution": {
     "iopub.execute_input": "2020-09-06T20:06:53.148062Z",
     "iopub.status.busy": "2020-09-06T20:06:53.147524Z",
     "iopub.status.idle": "2020-09-06T20:06:53.158262Z",
     "shell.execute_reply": "2020-09-06T20:06:53.157799Z"
    },
    "papermill": {
     "duration": 0.055865,
     "end_time": "2020-09-06T20:06:53.158378",
     "exception": false,
     "start_time": "2020-09-06T20:06:53.102513",
     "status": "completed"
    },
    "tags": []
   },
   "outputs": [],
   "source": [
    "model_prob = Model(layers[-2:]) "
   ]
  },
  {
   "cell_type": "code",
   "execution_count": 28,
   "metadata": {
    "execution": {
     "iopub.execute_input": "2020-09-06T20:06:53.260042Z",
     "iopub.status.busy": "2020-09-06T20:06:53.250836Z",
     "iopub.status.idle": "2020-09-06T20:06:53.260623Z",
     "shell.execute_reply": "2020-09-06T20:06:53.261058Z"
    },
    "papermill": {
     "duration": 0.060705,
     "end_time": "2020-09-06T20:06:53.261179",
     "exception": false,
     "start_time": "2020-09-06T20:06:53.200474",
     "status": "completed"
    },
    "tags": []
   },
   "outputs": [],
   "source": [
    "# Adjust the x and y ranges according to the above generated plot.\n",
    "x_range = np.linspace(-4, 1, 100) \n",
    "y_range = np.linspace(-6, 6, 100) \n",
    "x_grid, y_grid = np.meshgrid(x_range, y_range) # x_grid and y_grig are of size 100 X 100\n",
    "\n",
    "# converting x_grid and y_grid to continuous arrays\n",
    "x_grid_flat = np.ravel(x_grid)\n",
    "y_grid_flat = np.ravel(y_grid)\n",
    "\n",
    "# The last layer of the current model takes two columns as input. Hence transpose of np.vstack() is required.\n",
    "X = np.vstack((x_grid_flat, y_grid_flat)).T\n",
    "\n",
    "# x_grid and y_grid are of size 100 x 100\n",
    "probability_contour = model_prob(X).reshape(100,100) "
   ]
  },
  {
   "cell_type": "code",
   "execution_count": 29,
   "metadata": {
    "execution": {
     "iopub.execute_input": "2020-09-06T20:06:53.353992Z",
     "iopub.status.busy": "2020-09-06T20:06:53.351529Z",
     "iopub.status.idle": "2020-09-06T20:06:53.595412Z",
     "shell.execute_reply": "2020-09-06T20:06:53.595852Z"
    },
    "papermill": {
     "duration": 0.292677,
     "end_time": "2020-09-06T20:06:53.595979",
     "exception": false,
     "start_time": "2020-09-06T20:06:53.303302",
     "status": "completed"
    },
    "tags": []
   },
   "outputs": [
    {
     "data": {
      "image/png": "[encoded data removed]",
      "text/plain": [
       "<Figure size 720x648 with 1 Axes>"
      ]
     },
     "metadata": {
      "needs_background": "light"
     },
     "output_type": "display_data"
    }
   ],
   "source": [
    "plt.figure(figsize=(10,9))\n",
    "plt.scatter(plot_testing[:,0], plot_testing[:,1], alpha = 0.1, c = y_test.ravel())\n",
    "contours = plt.contour(x_grid,y_grid,probability_contour)\n",
    "plt.title('Probability Contours')\n",
    "plt.clabel(contours, inline = True );"
   ]
  }
 ],
 "metadata": {
  "kernelspec": {
   "display_name": "Python 3",
   "language": "python",
   "name": "python3"
  },
  "language_info": {
   "codemirror_mode": {
    "name": "ipython",
    "version": 3
   },
   "file_extension": ".py",
   "mimetype": "text/x-python",
   "name": "python",
   "nbconvert_exporter": "python",
   "pygments_lexer": "ipython3",
   "version": "3.6.12"
  },
  "papermill": {
   "duration": 150.967427,
   "end_time": "2020-09-06T20:06:53.965412",
   "environment_variables": {},
   "exception": null,
   "input_path": "2020-08-11-NeuralNetwork.ipynb",
   "output_path": "2020-08-11-NeuralNetwork.ipynb",
   "parameters": {},
   "start_time": "2020-09-06T20:04:22.997985",
   "version": "2.1.2"
  }
 },
 "nbformat": 4,
 "nbformat_minor": 4
}