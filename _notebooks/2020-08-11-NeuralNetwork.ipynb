{
 "cells": [
  {
   "cell_type": "markdown",
   "id": "fitted-suggestion",
   "metadata": {
    "papermill": {
     "duration": 0.029523,
     "end_time": "2021-03-02T10:03:51.968138",
     "exception": false,
     "start_time": "2021-03-02T10:03:51.938615",
     "status": "completed"
    },
    "tags": []
   },
   "source": [
    "# \"A Basic Neural Network: Differentiate Hand-Written Digits\"\n",
    "\n",
    "- badges: true\n",
    "- author: Akshith Sriram"
   ]
  },
  {
   "cell_type": "markdown",
   "id": "signal-flexibility",
   "metadata": {
    "papermill": {
     "duration": 0.020543,
     "end_time": "2021-03-02T10:03:52.012489",
     "exception": false,
     "start_time": "2021-03-02T10:03:51.991946",
     "status": "completed"
    },
    "tags": []
   },
   "source": [
    "### Key Objectives:\n",
    "- Building a neural network that differentiates two hand-written digits 3 and 8.\n",
    "- Comparing the results of this Neural Network (NN) to that of a Logistic Regression (LR) model.\n",
    "\n",
    "### Requirements:\n",
    "- 'Kudzu' : A neural network library that was designed during our course by [Univ.AI](www.univ.ai). \n",
    "- MNIST Database\n",
    "\n",
    "If MNIST is not installed, use the command `!pip install mnist` given below.\n",
    "It can be run both from the command line and Jupyter Notebook."
   ]
  },
  {
   "cell_type": "code",
   "execution_count": 1,
   "id": "british-texture",
   "metadata": {
    "execution": {
     "iopub.execute_input": "2021-03-02T10:03:52.068283Z",
     "iopub.status.busy": "2021-03-02T10:03:52.067448Z",
     "iopub.status.idle": "2021-03-02T10:03:53.358519Z",
     "shell.execute_reply": "2021-03-02T10:03:53.357138Z"
    },
    "papermill": {
     "duration": 1.325162,
     "end_time": "2021-03-02T10:03:53.358758",
     "exception": false,
     "start_time": "2021-03-02T10:03:52.033596",
     "status": "completed"
    },
    "tags": []
   },
   "outputs": [
    {
     "name": "stdout",
     "output_type": "stream",
     "text": [
      "Collecting mnist\r\n"
     ]
    },
    {
     "name": "stdout",
     "output_type": "stream",
     "text": [
      "  Downloading mnist-0.2.2-py2.py3-none-any.whl (3.5 kB)\r\n",
      "Requirement already satisfied: numpy in /opt/hostedtoolcache/Python/3.6.13/x64/lib/python3.6/site-packages (from mnist) (1.19.5)\r\n"
     ]
    },
    {
     "name": "stdout",
     "output_type": "stream",
     "text": [
      "Installing collected packages: mnist\r\n"
     ]
    },
    {
     "name": "stdout",
     "output_type": "stream",
     "text": [
      "Successfully installed mnist-0.2.2\r\n"
     ]
    }
   ],
   "source": [
    "!pip install mnist "
   ]
  },
  {
   "cell_type": "markdown",
   "id": "stunning-extra",
   "metadata": {
    "papermill": {
     "duration": 0.023535,
     "end_time": "2021-03-02T10:03:53.409070",
     "exception": false,
     "start_time": "2021-03-02T10:03:53.385535",
     "status": "completed"
    },
    "tags": []
   },
   "source": [
    "#### Importing necessary libraries"
   ]
  },
  {
   "cell_type": "code",
   "execution_count": 2,
   "id": "wooden-france",
   "metadata": {
    "execution": {
     "iopub.execute_input": "2021-03-02T10:03:53.464989Z",
     "iopub.status.busy": "2021-03-02T10:03:53.464204Z",
     "iopub.status.idle": "2021-03-02T10:03:53.922855Z",
     "shell.execute_reply": "2021-03-02T10:03:53.921995Z"
    },
    "papermill": {
     "duration": 0.490018,
     "end_time": "2021-03-02T10:03:53.922969",
     "exception": false,
     "start_time": "2021-03-02T10:03:53.432951",
     "status": "completed"
    },
    "tags": []
   },
   "outputs": [],
   "source": [
    "%load_ext autoreload\n",
    "%autoreload 2\n",
    "\n",
    "%matplotlib inline\n",
    "import matplotlib.pyplot as plt\n",
    "\n",
    "import numpy as np\n",
    "import pandas as pd"
   ]
  },
  {
   "cell_type": "markdown",
   "id": "stunning-physics",
   "metadata": {
    "papermill": {
     "duration": 0.022639,
     "end_time": "2021-03-02T10:03:53.967661",
     "exception": false,
     "start_time": "2021-03-02T10:03:53.945022",
     "status": "completed"
    },
    "tags": []
   },
   "source": [
    "### Preparing the Data"
   ]
  },
  {
   "cell_type": "code",
   "execution_count": 3,
   "id": "unauthorized-remainder",
   "metadata": {
    "execution": {
     "iopub.execute_input": "2021-03-02T10:03:54.014307Z",
     "iopub.status.busy": "2021-03-02T10:03:54.013890Z",
     "iopub.status.idle": "2021-03-02T10:03:54.026012Z",
     "shell.execute_reply": "2021-03-02T10:03:54.026474Z"
    },
    "papermill": {
     "duration": 0.037641,
     "end_time": "2021-03-02T10:03:54.026596",
     "exception": false,
     "start_time": "2021-03-02T10:03:53.988955",
     "status": "completed"
    },
    "tags": []
   },
   "outputs": [],
   "source": [
    "import mnist"
   ]
  },
  {
   "cell_type": "code",
   "execution_count": 4,
   "id": "correct-antarctica",
   "metadata": {
    "execution": {
     "iopub.execute_input": "2021-03-02T10:03:54.077090Z",
     "iopub.status.busy": "2021-03-02T10:03:54.076585Z",
     "iopub.status.idle": "2021-03-02T10:03:54.834642Z",
     "shell.execute_reply": "2021-03-02T10:03:54.835468Z"
    },
    "papermill": {
     "duration": 0.785322,
     "end_time": "2021-03-02T10:03:54.835719",
     "exception": false,
     "start_time": "2021-03-02T10:03:54.050397",
     "status": "completed"
    },
    "tags": []
   },
   "outputs": [],
   "source": [
    "train_images = mnist.train_images()\n",
    "train_labels = mnist.train_labels()"
   ]
  },
  {
   "cell_type": "code",
   "execution_count": 5,
   "id": "musical-prospect",
   "metadata": {
    "execution": {
     "iopub.execute_input": "2021-03-02T10:03:55.313727Z",
     "iopub.status.busy": "2021-03-02T10:03:55.312464Z",
     "iopub.status.idle": "2021-03-02T10:03:55.325903Z",
     "shell.execute_reply": "2021-03-02T10:03:55.325467Z"
    },
    "papermill": {
     "duration": 0.46259,
     "end_time": "2021-03-02T10:03:55.326020",
     "exception": false,
     "start_time": "2021-03-02T10:03:54.863430",
     "status": "completed"
    },
    "tags": []
   },
   "outputs": [
    {
     "data": {
      "text/plain": [
       "((60000, 28, 28), (60000,))"
      ]
     },
     "execution_count": 5,
     "metadata": {},
     "output_type": "execute_result"
    }
   ],
   "source": [
    "train_images.shape, train_labels.shape"
   ]
  },
  {
   "cell_type": "code",
   "execution_count": 6,
   "id": "preliminary-elizabeth",
   "metadata": {
    "execution": {
     "iopub.execute_input": "2021-03-02T10:03:55.376465Z",
     "iopub.status.busy": "2021-03-02T10:03:55.376054Z",
     "iopub.status.idle": "2021-03-02T10:03:55.665881Z",
     "shell.execute_reply": "2021-03-02T10:03:55.665369Z"
    },
    "papermill": {
     "duration": 0.31487,
     "end_time": "2021-03-02T10:03:55.666000",
     "exception": false,
     "start_time": "2021-03-02T10:03:55.351130",
     "status": "completed"
    },
    "tags": []
   },
   "outputs": [],
   "source": [
    "test_images = mnist.test_images()\n",
    "test_labels = mnist.test_labels()"
   ]
  },
  {
   "cell_type": "code",
   "execution_count": 7,
   "id": "acknowledged-oxygen",
   "metadata": {
    "execution": {
     "iopub.execute_input": "2021-03-02T10:03:55.719102Z",
     "iopub.status.busy": "2021-03-02T10:03:55.718688Z",
     "iopub.status.idle": "2021-03-02T10:03:55.733778Z",
     "shell.execute_reply": "2021-03-02T10:03:55.733381Z"
    },
    "papermill": {
     "duration": 0.041145,
     "end_time": "2021-03-02T10:03:55.733873",
     "exception": false,
     "start_time": "2021-03-02T10:03:55.692728",
     "status": "completed"
    },
    "tags": []
   },
   "outputs": [
    {
     "data": {
      "text/plain": [
       "((10000, 28, 28), (10000,))"
      ]
     },
     "execution_count": 7,
     "metadata": {},
     "output_type": "execute_result"
    }
   ],
   "source": [
    "test_images.shape, test_labels.shape"
   ]
  },
  {
   "cell_type": "code",
   "execution_count": 8,
   "id": "innovative-organic",
   "metadata": {
    "execution": {
     "iopub.execute_input": "2021-03-02T10:03:55.786372Z",
     "iopub.status.busy": "2021-03-02T10:03:55.785366Z",
     "iopub.status.idle": "2021-03-02T10:03:55.905446Z",
     "shell.execute_reply": "2021-03-02T10:03:55.906259Z"
    },
    "papermill": {
     "duration": 0.148993,
     "end_time": "2021-03-02T10:03:55.906470",
     "exception": false,
     "start_time": "2021-03-02T10:03:55.757477",
     "status": "completed"
    },
    "tags": []
   },
   "outputs": [
    {
     "name": "stdout",
     "output_type": "stream",
     "text": [
      "2\n"
     ]
    },
    {
     "data": {
      "text/plain": [
       "<matplotlib.image.AxesImage at 0x7f0bca6d9438>"
      ]
     },
     "execution_count": 8,
     "metadata": {},
     "output_type": "execute_result"
    },
    {
     "data": {
      "image/png": "[encoded data removed]",
      "text/plain": [
       "<Figure size 432x288 with 1 Axes>"
      ]
     },
     "metadata": {
      "needs_background": "light"
     },
     "output_type": "display_data"
    }
   ],
   "source": [
    "image_index = 7776 # You may select anything up to 60,000\n",
    "print(train_labels[image_index]) \n",
    "plt.imshow(train_images[image_index], cmap='Greys')"
   ]
  },
  {
   "cell_type": "markdown",
   "id": "facial-modem",
   "metadata": {
    "papermill": {
     "duration": 0.0247,
     "end_time": "2021-03-02T10:03:55.957499",
     "exception": false,
     "start_time": "2021-03-02T10:03:55.932799",
     "status": "completed"
    },
    "tags": []
   },
   "source": [
    "## Filter data to get 3 and 8 out"
   ]
  },
  {
   "cell_type": "code",
   "execution_count": 9,
   "id": "thousand-acquisition",
   "metadata": {
    "execution": {
     "iopub.execute_input": "2021-03-02T10:03:56.010579Z",
     "iopub.status.busy": "2021-03-02T10:03:56.009402Z",
     "iopub.status.idle": "2021-03-02T10:03:56.028189Z",
     "shell.execute_reply": "2021-03-02T10:03:56.027193Z"
    },
    "papermill": {
     "duration": 0.046237,
     "end_time": "2021-03-02T10:03:56.028314",
     "exception": false,
     "start_time": "2021-03-02T10:03:55.982077",
     "status": "completed"
    },
    "tags": []
   },
   "outputs": [],
   "source": [
    "train_filter = np.where((train_labels == 3 ) | (train_labels == 8))\n",
    "test_filter = np.where((test_labels == 3) | (test_labels == 8))\n",
    "X_train, y_train = train_images[train_filter], train_labels[train_filter]\n",
    "X_test, y_test = test_images[test_filter], test_labels[test_filter]"
   ]
  },
  {
   "cell_type": "markdown",
   "id": "ruled-access",
   "metadata": {
    "papermill": {
     "duration": 0.026202,
     "end_time": "2021-03-02T10:03:56.084180",
     "exception": false,
     "start_time": "2021-03-02T10:03:56.057978",
     "status": "completed"
    },
    "tags": []
   },
   "source": [
    "We normalize the pixel values in the 0 to 1 range"
   ]
  },
  {
   "cell_type": "code",
   "execution_count": 10,
   "id": "isolated-denver",
   "metadata": {
    "execution": {
     "iopub.execute_input": "2021-03-02T10:03:56.150243Z",
     "iopub.status.busy": "2021-03-02T10:03:56.141646Z",
     "iopub.status.idle": "2021-03-02T10:03:56.187779Z",
     "shell.execute_reply": "2021-03-02T10:03:56.187190Z"
    },
    "papermill": {
     "duration": 0.077542,
     "end_time": "2021-03-02T10:03:56.187917",
     "exception": false,
     "start_time": "2021-03-02T10:03:56.110375",
     "status": "completed"
    },
    "tags": []
   },
   "outputs": [],
   "source": [
    "X_train = X_train/255.\n",
    "X_test = X_test/255."
   ]
  },
  {
   "cell_type": "markdown",
   "id": "perfect-summary",
   "metadata": {
    "papermill": {
     "duration": 0.024394,
     "end_time": "2021-03-02T10:03:56.240205",
     "exception": false,
     "start_time": "2021-03-02T10:03:56.215811",
     "status": "completed"
    },
    "tags": []
   },
   "source": [
    "Setup the labels as 1 (when the digit is 3) and 0 (when the digit is 8)"
   ]
  },
  {
   "cell_type": "code",
   "execution_count": 11,
   "id": "personalized-growing",
   "metadata": {
    "execution": {
     "iopub.execute_input": "2021-03-02T10:03:56.295922Z",
     "iopub.status.busy": "2021-03-02T10:03:56.294775Z",
     "iopub.status.idle": "2021-03-02T10:03:56.309973Z",
     "shell.execute_reply": "2021-03-02T10:03:56.309569Z"
    },
    "papermill": {
     "duration": 0.044322,
     "end_time": "2021-03-02T10:03:56.310071",
     "exception": false,
     "start_time": "2021-03-02T10:03:56.265749",
     "status": "completed"
    },
    "tags": []
   },
   "outputs": [],
   "source": [
    "y_train = 1*(y_train==3)\n",
    "y_test = 1*(y_test==3)"
   ]
  },
  {
   "cell_type": "code",
   "execution_count": 12,
   "id": "considered-virgin",
   "metadata": {
    "execution": {
     "iopub.execute_input": "2021-03-02T10:03:56.365676Z",
     "iopub.status.busy": "2021-03-02T10:03:56.365176Z",
     "iopub.status.idle": "2021-03-02T10:03:56.380413Z",
     "shell.execute_reply": "2021-03-02T10:03:56.380014Z"
    },
    "papermill": {
     "duration": 0.044808,
     "end_time": "2021-03-02T10:03:56.380557",
     "exception": false,
     "start_time": "2021-03-02T10:03:56.335749",
     "status": "completed"
    },
    "tags": []
   },
   "outputs": [
    {
     "data": {
      "text/plain": [
       "((11982, 28, 28), (1984, 28, 28))"
      ]
     },
     "execution_count": 12,
     "metadata": {},
     "output_type": "execute_result"
    }
   ],
   "source": [
    "X_train.shape, X_test.shape"
   ]
  },
  {
   "cell_type": "markdown",
   "id": "civilian-mobile",
   "metadata": {
    "papermill": {
     "duration": 0.024906,
     "end_time": "2021-03-02T10:03:56.432522",
     "exception": false,
     "start_time": "2021-03-02T10:03:56.407616",
     "status": "completed"
    },
    "tags": []
   },
   "source": [
    "### Reshape the input data to create a linear array"
   ]
  },
  {
   "cell_type": "code",
   "execution_count": 13,
   "id": "colonial-adams",
   "metadata": {
    "execution": {
     "iopub.execute_input": "2021-03-02T10:03:56.490305Z",
     "iopub.status.busy": "2021-03-02T10:03:56.489766Z",
     "iopub.status.idle": "2021-03-02T10:03:56.502602Z",
     "shell.execute_reply": "2021-03-02T10:03:56.503037Z"
    },
    "papermill": {
     "duration": 0.044687,
     "end_time": "2021-03-02T10:03:56.503150",
     "exception": false,
     "start_time": "2021-03-02T10:03:56.458463",
     "status": "completed"
    },
    "tags": []
   },
   "outputs": [
    {
     "data": {
      "text/plain": [
       "((11982, 784), (1984, 784))"
      ]
     },
     "execution_count": 13,
     "metadata": {},
     "output_type": "execute_result"
    }
   ],
   "source": [
    "X_train = X_train.reshape(X_train.shape[0], -1)\n",
    "X_test = X_test.reshape(X_test.shape[0], -1)\n",
    "X_train.shape, X_test.shape"
   ]
  },
  {
   "cell_type": "markdown",
   "id": "smart-details",
   "metadata": {
    "papermill": {
     "duration": 0.029193,
     "end_time": "2021-03-02T10:03:56.560967",
     "exception": false,
     "start_time": "2021-03-02T10:03:56.531774",
     "status": "completed"
    },
    "tags": []
   },
   "source": [
    "### Importing appropriate functions from 'Kudzu'"
   ]
  },
  {
   "cell_type": "code",
   "execution_count": 14,
   "id": "celtic-trial",
   "metadata": {
    "execution": {
     "iopub.execute_input": "2021-03-02T10:03:56.621883Z",
     "iopub.status.busy": "2021-03-02T10:03:56.621347Z",
     "iopub.status.idle": "2021-03-02T10:03:56.639699Z",
     "shell.execute_reply": "2021-03-02T10:03:56.639242Z"
    },
    "papermill": {
     "duration": 0.049802,
     "end_time": "2021-03-02T10:03:56.639804",
     "exception": false,
     "start_time": "2021-03-02T10:03:56.590002",
     "status": "completed"
    },
    "tags": []
   },
   "outputs": [],
   "source": [
    "from kudzu.layer import Sigmoid\n",
    "from kudzu.layer import Relu\n",
    "from kudzu.layer import Affine, Sigmoid\n",
    "\n",
    "from kudzu.model import Model\n",
    "from kudzu.train import Learner\n",
    "from kudzu.optim import GD\n",
    "from kudzu.data import Data, Dataloader, Sampler\n",
    "\n",
    "from kudzu.callbacks import AccCallback\n",
    "from kudzu.callbacks import ClfCallback\n",
    "\n",
    "from kudzu.loss import MSE"
   ]
  },
  {
   "cell_type": "markdown",
   "id": "coupled-customer",
   "metadata": {
    "papermill": {
     "duration": 0.025161,
     "end_time": "2021-03-02T10:03:56.691614",
     "exception": false,
     "start_time": "2021-03-02T10:03:56.666453",
     "status": "completed"
    },
    "tags": []
   },
   "source": [
    "### Let us create a `Config` class, to store important parameters. \n",
    "This class essentially plays the role of a dictionary."
   ]
  },
  {
   "cell_type": "code",
   "execution_count": 15,
   "id": "young-ceiling",
   "metadata": {
    "execution": {
     "iopub.execute_input": "2021-03-02T10:03:56.743748Z",
     "iopub.status.busy": "2021-03-02T10:03:56.743340Z",
     "iopub.status.idle": "2021-03-02T10:03:56.754249Z",
     "shell.execute_reply": "2021-03-02T10:03:56.753878Z"
    },
    "papermill": {
     "duration": 0.037815,
     "end_time": "2021-03-02T10:03:56.754328",
     "exception": false,
     "start_time": "2021-03-02T10:03:56.716513",
     "status": "completed"
    },
    "tags": []
   },
   "outputs": [],
   "source": [
    "class Config:\n",
    "    pass\n",
    "config = Config()\n",
    "config.lr = 0.001\n",
    "config.num_epochs = 251\n",
    "config.bs = 50"
   ]
  },
  {
   "cell_type": "markdown",
   "id": "according-mandate",
   "metadata": {
    "papermill": {
     "duration": 0.025899,
     "end_time": "2021-03-02T10:03:56.805077",
     "exception": false,
     "start_time": "2021-03-02T10:03:56.779178",
     "status": "completed"
    },
    "tags": []
   },
   "source": [
    "### Initializing data to the variables"
   ]
  },
  {
   "cell_type": "code",
   "execution_count": 16,
   "id": "academic-disposition",
   "metadata": {
    "execution": {
     "iopub.execute_input": "2021-03-02T10:03:56.865747Z",
     "iopub.status.busy": "2021-03-02T10:03:56.865266Z",
     "iopub.status.idle": "2021-03-02T10:03:56.877647Z",
     "shell.execute_reply": "2021-03-02T10:03:56.877320Z"
    },
    "papermill": {
     "duration": 0.045763,
     "end_time": "2021-03-02T10:03:56.877729",
     "exception": false,
     "start_time": "2021-03-02T10:03:56.831966",
     "status": "completed"
    },
    "tags": []
   },
   "outputs": [],
   "source": [
    "data = Data(X_train, y_train.reshape(-1,1))\n",
    "sampler = Sampler(data, config.bs, shuffle=True)\n",
    "\n",
    "dl = Dataloader(data, sampler)\n",
    "\n",
    "opt = GD(config.lr)\n",
    "loss = MSE()"
   ]
  },
  {
   "cell_type": "code",
   "execution_count": 17,
   "id": "featured-commission",
   "metadata": {
    "execution": {
     "iopub.execute_input": "2021-03-02T10:03:56.935113Z",
     "iopub.status.busy": "2021-03-02T10:03:56.934649Z",
     "iopub.status.idle": "2021-03-02T10:03:56.948397Z",
     "shell.execute_reply": "2021-03-02T10:03:56.948800Z"
    },
    "papermill": {
     "duration": 0.045184,
     "end_time": "2021-03-02T10:03:56.948921",
     "exception": false,
     "start_time": "2021-03-02T10:03:56.903737",
     "status": "completed"
    },
    "tags": []
   },
   "outputs": [],
   "source": [
    "training_xdata = X_train\n",
    "testing_xdata = X_test\n",
    "training_ydata = y_train.reshape(-1,1)\n",
    "testing_ydata = y_test.reshape(-1,1)"
   ]
  },
  {
   "cell_type": "markdown",
   "id": "played-safety",
   "metadata": {
    "papermill": {
     "duration": 0.026381,
     "end_time": "2021-03-02T10:03:57.002723",
     "exception": false,
     "start_time": "2021-03-02T10:03:56.976342",
     "status": "completed"
    },
    "tags": []
   },
   "source": [
    "### Running Models with the Training data\n",
    "Details about the network layers:\n",
    "- A first affine layer has 784 inputs and does 100 affine transforms. These are followed by a Relu\n",
    "- A second affine layer has 100 inputs from the 100 activations of the past layer, and does 100 affine transforms. These are followed by a Relu\n",
    "- A third affine layer has 100 activations and does 2 affine transformations to create an embedding for visualization. There is no non-linearity here.\n",
    "- A final \"logistic regression\" which has an affine transform from 2 inputs to 1 output, which is squeezed through a sigmoid.\n",
    "\n",
    "Help taken from Anshuman's Notebook."
   ]
  },
  {
   "cell_type": "code",
   "execution_count": 18,
   "id": "asian-bankruptcy",
   "metadata": {
    "execution": {
     "iopub.execute_input": "2021-03-02T10:03:57.056756Z",
     "iopub.status.busy": "2021-03-02T10:03:57.055566Z",
     "iopub.status.idle": "2021-03-02T10:03:57.070683Z",
     "shell.execute_reply": "2021-03-02T10:03:57.071019Z"
    },
    "papermill": {
     "duration": 0.043679,
     "end_time": "2021-03-02T10:03:57.071108",
     "exception": false,
     "start_time": "2021-03-02T10:03:57.027429",
     "status": "completed"
    },
    "tags": []
   },
   "outputs": [],
   "source": [
    "# layers for the Neural Network\n",
    "layers = [Affine(\"first\", 784, 100), Relu(\"first\"), Affine(\"second\", 100, 100), Relu(\"second\"), Affine(\"third\", 100, 2), Affine(\"final\", 2, 1), Sigmoid(\"final\")]\n",
    "model_nn = Model(layers)\n",
    "\n",
    "# layers for the Logistic Regression\n",
    "layers_lr = [Affine(\"logits\", 784, 1), Sigmoid(\"sigmoid\")]\n",
    "model_lr = Model(layers_lr)"
   ]
  },
  {
   "cell_type": "code",
   "execution_count": 19,
   "id": "removed-butler",
   "metadata": {
    "execution": {
     "iopub.execute_input": "2021-03-02T10:03:57.120725Z",
     "iopub.status.busy": "2021-03-02T10:03:57.120225Z",
     "iopub.status.idle": "2021-03-02T10:03:57.130124Z",
     "shell.execute_reply": "2021-03-02T10:03:57.129800Z"
    },
    "papermill": {
     "duration": 0.036686,
     "end_time": "2021-03-02T10:03:57.130203",
     "exception": false,
     "start_time": "2021-03-02T10:03:57.093517",
     "status": "completed"
    },
    "tags": []
   },
   "outputs": [],
   "source": [
    "# suffix _nn stands for Neural Network.\n",
    "learner_nn = Learner(loss, model_nn, opt, config.num_epochs)\n",
    "acc_nn = ClfCallback(learner_nn, config.bs, training_xdata , testing_xdata, training_ydata, testing_ydata)\n",
    "learner_nn.set_callbacks([acc_nn])"
   ]
  },
  {
   "cell_type": "code",
   "execution_count": 20,
   "id": "conceptual-throw",
   "metadata": {
    "execution": {
     "iopub.execute_input": "2021-03-02T10:03:57.180744Z",
     "iopub.status.busy": "2021-03-02T10:03:57.180311Z",
     "iopub.status.idle": "2021-03-02T10:05:12.458604Z",
     "shell.execute_reply": "2021-03-02T10:05:12.459208Z"
    },
    "papermill": {
     "duration": 75.305707,
     "end_time": "2021-03-02T10:05:12.459330",
     "exception": false,
     "start_time": "2021-03-02T10:03:57.153623",
     "status": "completed"
    },
    "tags": []
   },
   "outputs": [
    {
     "name": "stdout",
     "output_type": "stream",
     "text": [
      "====== Neural Network ======\n"
     ]
    },
    {
     "name": "stdout",
     "output_type": "stream",
     "text": [
      "Epoch 0, Loss 0.2448\n",
      "Training Accuracy: 0.5961, Testing Accuracy: 0.6053\n",
      "\n"
     ]
    },
    {
     "name": "stdout",
     "output_type": "stream",
     "text": [
      "Epoch 10, Loss 0.1029\n",
      "Training Accuracy: 0.9064, Testing Accuracy: 0.9168\n",
      "\n"
     ]
    },
    {
     "name": "stdout",
     "output_type": "stream",
     "text": [
      "Epoch 20, Loss 0.0623\n",
      "Training Accuracy: 0.9365, Testing Accuracy: 0.9481\n",
      "\n"
     ]
    },
    {
     "name": "stdout",
     "output_type": "stream",
     "text": [
      "Epoch 30, Loss 0.0472\n",
      "Training Accuracy: 0.9483, Testing Accuracy: 0.9582\n",
      "\n"
     ]
    },
    {
     "name": "stdout",
     "output_type": "stream",
     "text": [
      "Epoch 40, Loss 0.04\n",
      "Training Accuracy: 0.9553, Testing Accuracy: 0.9647\n",
      "\n"
     ]
    },
    {
     "name": "stdout",
     "output_type": "stream",
     "text": [
      "Epoch 50, Loss 0.0358\n",
      "Training Accuracy: 0.9591, Testing Accuracy: 0.9672\n",
      "\n"
     ]
    },
    {
     "name": "stdout",
     "output_type": "stream",
     "text": [
      "Epoch 60, Loss 0.033\n",
      "Training Accuracy: 0.9616, Testing Accuracy: 0.9693\n",
      "\n"
     ]
    },
    {
     "name": "stdout",
     "output_type": "stream",
     "text": [
      "Epoch 70, Loss 0.0309\n",
      "Training Accuracy: 0.9635, Testing Accuracy: 0.9693\n",
      "\n"
     ]
    },
    {
     "name": "stdout",
     "output_type": "stream",
     "text": [
      "Epoch 80, Loss 0.0294\n",
      "Training Accuracy: 0.9648, Testing Accuracy: 0.9708\n",
      "\n"
     ]
    },
    {
     "name": "stdout",
     "output_type": "stream",
     "text": [
      "Epoch 90, Loss 0.0281\n",
      "Training Accuracy: 0.9664, Testing Accuracy: 0.9718\n",
      "\n"
     ]
    },
    {
     "name": "stdout",
     "output_type": "stream",
     "text": [
      "Epoch 100, Loss 0.027\n",
      "Training Accuracy: 0.9680, Testing Accuracy: 0.9723\n",
      "\n"
     ]
    },
    {
     "name": "stdout",
     "output_type": "stream",
     "text": [
      "Epoch 110, Loss 0.0261\n",
      "Training Accuracy: 0.9693, Testing Accuracy: 0.9723\n",
      "\n"
     ]
    },
    {
     "name": "stdout",
     "output_type": "stream",
     "text": [
      "Epoch 120, Loss 0.0253\n",
      "Training Accuracy: 0.9696, Testing Accuracy: 0.9723\n",
      "\n"
     ]
    },
    {
     "name": "stdout",
     "output_type": "stream",
     "text": [
      "Epoch 130, Loss 0.0246\n",
      "Training Accuracy: 0.9705, Testing Accuracy: 0.9723\n",
      "\n"
     ]
    },
    {
     "name": "stdout",
     "output_type": "stream",
     "text": [
      "Epoch 140, Loss 0.0239\n",
      "Training Accuracy: 0.9720, Testing Accuracy: 0.9718\n",
      "\n"
     ]
    },
    {
     "name": "stdout",
     "output_type": "stream",
     "text": [
      "Epoch 150, Loss 0.0234\n",
      "Training Accuracy: 0.9728, Testing Accuracy: 0.9718\n",
      "\n"
     ]
    },
    {
     "name": "stdout",
     "output_type": "stream",
     "text": [
      "Epoch 160, Loss 0.0228\n",
      "Training Accuracy: 0.9738, Testing Accuracy: 0.9713\n",
      "\n"
     ]
    },
    {
     "name": "stdout",
     "output_type": "stream",
     "text": [
      "Epoch 170, Loss 0.0223\n",
      "Training Accuracy: 0.9745, Testing Accuracy: 0.9713\n",
      "\n"
     ]
    },
    {
     "name": "stdout",
     "output_type": "stream",
     "text": [
      "Epoch 180, Loss 0.0218\n",
      "Training Accuracy: 0.9751, Testing Accuracy: 0.9713\n",
      "\n"
     ]
    },
    {
     "name": "stdout",
     "output_type": "stream",
     "text": [
      "Epoch 190, Loss 0.0214\n",
      "Training Accuracy: 0.9753, Testing Accuracy: 0.9718\n",
      "\n"
     ]
    },
    {
     "name": "stdout",
     "output_type": "stream",
     "text": [
      "Epoch 200, Loss 0.021\n",
      "Training Accuracy: 0.9759, Testing Accuracy: 0.9713\n",
      "\n"
     ]
    },
    {
     "name": "stdout",
     "output_type": "stream",
     "text": [
      "Epoch 210, Loss 0.0206\n",
      "Training Accuracy: 0.9766, Testing Accuracy: 0.9708\n",
      "\n"
     ]
    },
    {
     "name": "stdout",
     "output_type": "stream",
     "text": [
      "Epoch 220, Loss 0.0202\n",
      "Training Accuracy: 0.9775, Testing Accuracy: 0.9713\n",
      "\n"
     ]
    },
    {
     "name": "stdout",
     "output_type": "stream",
     "text": [
      "Epoch 230, Loss 0.0198\n",
      "Training Accuracy: 0.9777, Testing Accuracy: 0.9708\n",
      "\n"
     ]
    },
    {
     "name": "stdout",
     "output_type": "stream",
     "text": [
      "Epoch 240, Loss 0.0195\n",
      "Training Accuracy: 0.9781, Testing Accuracy: 0.9718\n",
      "\n"
     ]
    },
    {
     "name": "stdout",
     "output_type": "stream",
     "text": [
      "Epoch 250, Loss 0.0191\n",
      "Training Accuracy: 0.9786, Testing Accuracy: 0.9718\n",
      "\n"
     ]
    },
    {
     "data": {
      "text/plain": [
       "0.005404347206825907"
      ]
     },
     "execution_count": 20,
     "metadata": {},
     "output_type": "execute_result"
    }
   ],
   "source": [
    "print(\"====== Neural Network ======\")\n",
    "learner_nn.train_loop(dl)"
   ]
  },
  {
   "cell_type": "markdown",
   "id": "competent-suffering",
   "metadata": {
    "papermill": {
     "duration": 0.030045,
     "end_time": "2021-03-02T10:05:12.519961",
     "exception": false,
     "start_time": "2021-03-02T10:05:12.489916",
     "status": "completed"
    },
    "tags": []
   },
   "source": [
    "### Logistic Regression based Implementation."
   ]
  },
  {
   "cell_type": "code",
   "execution_count": 21,
   "id": "qualified-psychiatry",
   "metadata": {
    "execution": {
     "iopub.execute_input": "2021-03-02T10:05:12.588569Z",
     "iopub.status.busy": "2021-03-02T10:05:12.586480Z",
     "iopub.status.idle": "2021-03-02T10:05:12.598335Z",
     "shell.execute_reply": "2021-03-02T10:05:12.597867Z"
    },
    "papermill": {
     "duration": 0.046167,
     "end_time": "2021-03-02T10:05:12.598451",
     "exception": false,
     "start_time": "2021-03-02T10:05:12.552284",
     "status": "completed"
    },
    "tags": []
   },
   "outputs": [],
   "source": [
    "learner_lr = Learner(loss, model_lr, opt, config.num_epochs)\n",
    "acc_lr = ClfCallback(learner_lr, config.bs, training_xdata , testing_xdata, training_ydata, testing_ydata)\n",
    "learner_lr.set_callbacks([acc_lr])"
   ]
  },
  {
   "cell_type": "code",
   "execution_count": 22,
   "id": "average-outside",
   "metadata": {
    "execution": {
     "iopub.execute_input": "2021-03-02T10:05:12.672324Z",
     "iopub.status.busy": "2021-03-02T10:05:12.671912Z",
     "iopub.status.idle": "2021-03-02T10:05:25.718523Z",
     "shell.execute_reply": "2021-03-02T10:05:25.719119Z"
    },
    "papermill": {
     "duration": 13.085913,
     "end_time": "2021-03-02T10:05:25.719238",
     "exception": false,
     "start_time": "2021-03-02T10:05:12.633325",
     "status": "completed"
    },
    "tags": []
   },
   "outputs": [
    {
     "name": "stdout",
     "output_type": "stream",
     "text": [
      "====== Logistic Regression ======\n",
      "Epoch 0, Loss 0.243\n",
      "Training Accuracy: 0.6762, Testing Accuracy: 0.6930\n",
      "\n"
     ]
    },
    {
     "name": "stdout",
     "output_type": "stream",
     "text": [
      "Epoch 10, Loss 0.1031\n",
      "Training Accuracy: 0.9045, Testing Accuracy: 0.9158\n",
      "\n"
     ]
    },
    {
     "name": "stdout",
     "output_type": "stream",
     "text": [
      "Epoch 20, Loss 0.0796\n",
      "Training Accuracy: 0.9244, Testing Accuracy: 0.9365\n",
      "\n"
     ]
    },
    {
     "name": "stdout",
     "output_type": "stream",
     "text": [
      "Epoch 30, Loss 0.0687\n",
      "Training Accuracy: 0.9331, Testing Accuracy: 0.9481\n",
      "\n"
     ]
    },
    {
     "name": "stdout",
     "output_type": "stream",
     "text": [
      "Epoch 40, Loss 0.0621\n",
      "Training Accuracy: 0.9396, Testing Accuracy: 0.9521\n",
      "\n"
     ]
    },
    {
     "name": "stdout",
     "output_type": "stream",
     "text": [
      "Epoch 50, Loss 0.0575\n",
      "Training Accuracy: 0.9436, Testing Accuracy: 0.9541\n",
      "\n"
     ]
    },
    {
     "name": "stdout",
     "output_type": "stream",
     "text": [
      "Epoch 60, Loss 0.0541\n",
      "Training Accuracy: 0.9463, Testing Accuracy: 0.9561\n",
      "\n"
     ]
    },
    {
     "name": "stdout",
     "output_type": "stream",
     "text": [
      "Epoch 70, Loss 0.0515\n",
      "Training Accuracy: 0.9484, Testing Accuracy: 0.9592\n",
      "\n"
     ]
    },
    {
     "name": "stdout",
     "output_type": "stream",
     "text": [
      "Epoch 80, Loss 0.0494\n",
      "Training Accuracy: 0.9499, Testing Accuracy: 0.9602\n",
      "\n"
     ]
    },
    {
     "name": "stdout",
     "output_type": "stream",
     "text": [
      "Epoch 90, Loss 0.0477\n",
      "Training Accuracy: 0.9509, Testing Accuracy: 0.9622\n",
      "\n"
     ]
    },
    {
     "name": "stdout",
     "output_type": "stream",
     "text": [
      "Epoch 100, Loss 0.0463\n",
      "Training Accuracy: 0.9523, Testing Accuracy: 0.9622\n",
      "\n"
     ]
    },
    {
     "name": "stdout",
     "output_type": "stream",
     "text": [
      "Epoch 110, Loss 0.045\n",
      "Training Accuracy: 0.9538, Testing Accuracy: 0.9627\n",
      "\n"
     ]
    },
    {
     "name": "stdout",
     "output_type": "stream",
     "text": [
      "Epoch 120, Loss 0.0439\n",
      "Training Accuracy: 0.9548, Testing Accuracy: 0.9637\n",
      "\n"
     ]
    },
    {
     "name": "stdout",
     "output_type": "stream",
     "text": [
      "Epoch 130, Loss 0.043\n",
      "Training Accuracy: 0.9555, Testing Accuracy: 0.9657\n",
      "\n"
     ]
    },
    {
     "name": "stdout",
     "output_type": "stream",
     "text": [
      "Epoch 140, Loss 0.0421\n",
      "Training Accuracy: 0.9565, Testing Accuracy: 0.9657\n",
      "\n"
     ]
    },
    {
     "name": "stdout",
     "output_type": "stream",
     "text": [
      "Epoch 150, Loss 0.0414\n",
      "Training Accuracy: 0.9569, Testing Accuracy: 0.9657\n",
      "\n"
     ]
    },
    {
     "name": "stdout",
     "output_type": "stream",
     "text": [
      "Epoch 160, Loss 0.0407\n",
      "Training Accuracy: 0.9576, Testing Accuracy: 0.9662\n",
      "\n"
     ]
    },
    {
     "name": "stdout",
     "output_type": "stream",
     "text": [
      "Epoch 170, Loss 0.0401\n",
      "Training Accuracy: 0.9579, Testing Accuracy: 0.9672\n",
      "\n"
     ]
    },
    {
     "name": "stdout",
     "output_type": "stream",
     "text": [
      "Epoch 180, Loss 0.0395\n",
      "Training Accuracy: 0.9587, Testing Accuracy: 0.9672\n",
      "\n"
     ]
    },
    {
     "name": "stdout",
     "output_type": "stream",
     "text": [
      "Epoch 190, Loss 0.039\n",
      "Training Accuracy: 0.9593, Testing Accuracy: 0.9672\n",
      "\n"
     ]
    },
    {
     "name": "stdout",
     "output_type": "stream",
     "text": [
      "Epoch 200, Loss 0.0385\n",
      "Training Accuracy: 0.9596, Testing Accuracy: 0.9677\n",
      "\n"
     ]
    },
    {
     "name": "stdout",
     "output_type": "stream",
     "text": [
      "Epoch 210, Loss 0.038\n",
      "Training Accuracy: 0.9598, Testing Accuracy: 0.9677\n",
      "\n"
     ]
    },
    {
     "name": "stdout",
     "output_type": "stream",
     "text": [
      "Epoch 220, Loss 0.0376\n",
      "Training Accuracy: 0.9603, Testing Accuracy: 0.9682\n",
      "\n"
     ]
    },
    {
     "name": "stdout",
     "output_type": "stream",
     "text": [
      "Epoch 230, Loss 0.0372\n",
      "Training Accuracy: 0.9604, Testing Accuracy: 0.9682\n",
      "\n"
     ]
    },
    {
     "name": "stdout",
     "output_type": "stream",
     "text": [
      "Epoch 240, Loss 0.0368\n",
      "Training Accuracy: 0.9604, Testing Accuracy: 0.9682\n",
      "\n"
     ]
    },
    {
     "name": "stdout",
     "output_type": "stream",
     "text": [
      "Epoch 250, Loss 0.0365\n",
      "Training Accuracy: 0.9606, Testing Accuracy: 0.9682\n",
      "\n"
     ]
    },
    {
     "data": {
      "text/plain": [
       "0.05193801352963757"
      ]
     },
     "execution_count": 22,
     "metadata": {},
     "output_type": "execute_result"
    }
   ],
   "source": [
    "print(\"====== Logistic Regression ======\")\n",
    "learner_lr.train_loop(dl)"
   ]
  },
  {
   "cell_type": "markdown",
   "id": "adjusted-possible",
   "metadata": {
    "papermill": {
     "duration": 0.042025,
     "end_time": "2021-03-02T10:05:25.798279",
     "exception": false,
     "start_time": "2021-03-02T10:05:25.756254",
     "status": "completed"
    },
    "tags": []
   },
   "source": [
    "### Comparing results of NN and LR"
   ]
  },
  {
   "cell_type": "code",
   "execution_count": 23,
   "id": "mental-multimedia",
   "metadata": {
    "execution": {
     "iopub.execute_input": "2021-03-02T10:05:25.895008Z",
     "iopub.status.busy": "2021-03-02T10:05:25.893335Z",
     "iopub.status.idle": "2021-03-02T10:05:26.114315Z",
     "shell.execute_reply": "2021-03-02T10:05:26.114976Z"
    },
    "papermill": {
     "duration": 0.274743,
     "end_time": "2021-03-02T10:05:26.115097",
     "exception": false,
     "start_time": "2021-03-02T10:05:25.840354",
     "status": "completed"
    },
    "tags": []
   },
   "outputs": [
    {
     "data": {
      "text/plain": [
       "<matplotlib.legend.Legend at 0x7f0bc22420f0>"
      ]
     },
     "execution_count": 23,
     "metadata": {},
     "output_type": "execute_result"
    },
    {
     "data": {
      "image/png": "[encoded data removed]",
      "text/plain": [
       "<Figure size 1080x720 with 1 Axes>"
      ]
     },
     "metadata": {
      "needs_background": "light"
     },
     "output_type": "display_data"
    }
   ],
   "source": [
    "plt.figure(figsize=(15,10))\n",
    "\n",
    "# Neural Network plots\n",
    "plt.plot(acc_nn.accuracies, 'r-', label = \"Training Accuracies - NN\")\n",
    "plt.plot(acc_nn.test_accuracies, 'g-', label = \"Testing Accuracies - NN\")\n",
    "\n",
    "# Logistic Regression plots\n",
    "plt.plot(acc_lr.accuracies, 'k-', label = \"Training Accuracies - LR\")\n",
    "plt.plot(acc_lr.test_accuracies, 'b-', label = \"Testing Accuracies - LR\")\n",
    "\n",
    "plt.ylim(0.8, 1)\n",
    "\n",
    "plt.legend()\n",
    "\n"
   ]
  },
  {
   "cell_type": "markdown",
   "id": "sexual-flesh",
   "metadata": {
    "papermill": {
     "duration": 0.040018,
     "end_time": "2021-03-02T10:05:26.194816",
     "exception": false,
     "start_time": "2021-03-02T10:05:26.154798",
     "status": "completed"
    },
    "tags": []
   },
   "source": [
    "### From the plot, we can observe the following:\n",
    "- Neural Network achieves higher accuracy than the Logistic Regression model.\n",
    "- This apparently, is because of overfitting, i.e. NN captures more noise than data.\n",
    "- Testing accuracy of NN drops below the Training accuracy at higher epochs. This explains the over-fitting on training data.\n",
    "- Logistic Regression gives a reliable accuracy, without the above mentioned problem.\n"
   ]
  },
  {
   "cell_type": "markdown",
   "id": "institutional-pacific",
   "metadata": {
    "papermill": {
     "duration": 0.041208,
     "end_time": "2021-03-02T10:05:26.277885",
     "exception": false,
     "start_time": "2021-03-02T10:05:26.236677",
     "status": "completed"
    },
    "tags": []
   },
   "source": [
    "### Moving till the last but one layer (excluding it).\n",
    "#### Plotting the outputs of this layer of the NN."
   ]
  },
  {
   "cell_type": "code",
   "execution_count": 24,
   "id": "economic-server",
   "metadata": {
    "execution": {
     "iopub.execute_input": "2021-03-02T10:05:26.361686Z",
     "iopub.status.busy": "2021-03-02T10:05:26.361144Z",
     "iopub.status.idle": "2021-03-02T10:05:26.369133Z",
     "shell.execute_reply": "2021-03-02T10:05:26.368765Z"
    },
    "papermill": {
     "duration": 0.053751,
     "end_time": "2021-03-02T10:05:26.369220",
     "exception": false,
     "start_time": "2021-03-02T10:05:26.315469",
     "status": "completed"
    },
    "tags": []
   },
   "outputs": [],
   "source": [
    "model_new = Model(layers[:-2])"
   ]
  },
  {
   "cell_type": "code",
   "execution_count": 25,
   "id": "varied-upgrade",
   "metadata": {
    "execution": {
     "iopub.execute_input": "2021-03-02T10:05:26.455597Z",
     "iopub.status.busy": "2021-03-02T10:05:26.455076Z",
     "iopub.status.idle": "2021-03-02T10:05:26.474632Z",
     "shell.execute_reply": "2021-03-02T10:05:26.475067Z"
    },
    "papermill": {
     "duration": 0.069988,
     "end_time": "2021-03-02T10:05:26.475191",
     "exception": false,
     "start_time": "2021-03-02T10:05:26.405203",
     "status": "completed"
    },
    "tags": []
   },
   "outputs": [],
   "source": [
    "plot_testing = model_new(testing_xdata)"
   ]
  },
  {
   "cell_type": "code",
   "execution_count": 26,
   "id": "specific-handling",
   "metadata": {
    "execution": {
     "iopub.execute_input": "2021-03-02T10:05:26.575644Z",
     "iopub.status.busy": "2021-03-02T10:05:26.575067Z",
     "iopub.status.idle": "2021-03-02T10:05:26.743371Z",
     "shell.execute_reply": "2021-03-02T10:05:26.742949Z"
    },
    "papermill": {
     "duration": 0.224806,
     "end_time": "2021-03-02T10:05:26.743485",
     "exception": false,
     "start_time": "2021-03-02T10:05:26.518679",
     "status": "completed"
    },
    "tags": []
   },
   "outputs": [
    {
     "data": {
      "text/plain": [
       "Text(0.5, 1.0, 'Outputs')"
      ]
     },
     "execution_count": 26,
     "metadata": {},
     "output_type": "execute_result"
    },
    {
     "data": {
      "image/png": "[encoded data removed]",
      "text/plain": [
       "<Figure size 576x504 with 1 Axes>"
      ]
     },
     "metadata": {
      "needs_background": "light"
     },
     "output_type": "display_data"
    }
   ],
   "source": [
    "plt.figure(figsize=(8,7))\n",
    "plt.scatter(plot_testing[:,0], plot_testing[:,1], alpha = 0.1, c = y_test.ravel());\n",
    "plt.title('Outputs')"
   ]
  },
  {
   "cell_type": "markdown",
   "id": "described-knowing",
   "metadata": {
    "papermill": {
     "duration": 0.038523,
     "end_time": "2021-03-02T10:05:26.820931",
     "exception": false,
     "start_time": "2021-03-02T10:05:26.782408",
     "status": "completed"
    },
    "tags": []
   },
   "source": [
    "### Plotting probability contours"
   ]
  },
  {
   "cell_type": "code",
   "execution_count": 27,
   "id": "needed-growing",
   "metadata": {
    "execution": {
     "iopub.execute_input": "2021-03-02T10:05:26.913758Z",
     "iopub.status.busy": "2021-03-02T10:05:26.913242Z",
     "iopub.status.idle": "2021-03-02T10:05:26.924520Z",
     "shell.execute_reply": "2021-03-02T10:05:26.924936Z"
    },
    "papermill": {
     "duration": 0.060409,
     "end_time": "2021-03-02T10:05:26.925045",
     "exception": false,
     "start_time": "2021-03-02T10:05:26.864636",
     "status": "completed"
    },
    "tags": []
   },
   "outputs": [],
   "source": [
    "model_prob = Model(layers[-2:]) "
   ]
  },
  {
   "cell_type": "code",
   "execution_count": 28,
   "id": "introductory-enforcement",
   "metadata": {
    "execution": {
     "iopub.execute_input": "2021-03-02T10:05:27.011555Z",
     "iopub.status.busy": "2021-03-02T10:05:27.011023Z",
     "iopub.status.idle": "2021-03-02T10:05:27.023207Z",
     "shell.execute_reply": "2021-03-02T10:05:27.023674Z"
    },
    "papermill": {
     "duration": 0.058512,
     "end_time": "2021-03-02T10:05:27.023800",
     "exception": false,
     "start_time": "2021-03-02T10:05:26.965288",
     "status": "completed"
    },
    "tags": []
   },
   "outputs": [],
   "source": [
    "# Adjust the x and y ranges according to the above generated plot.\n",
    "x_range = np.linspace(-4, 1, 100) \n",
    "y_range = np.linspace(-6, 6, 100) \n",
    "x_grid, y_grid = np.meshgrid(x_range, y_range) # x_grid and y_grig are of size 100 X 100\n",
    "\n",
    "# converting x_grid and y_grid to continuous arrays\n",
    "x_grid_flat = np.ravel(x_grid)\n",
    "y_grid_flat = np.ravel(y_grid)\n",
    "\n",
    "# The last layer of the current model takes two columns as input. Hence transpose of np.vstack() is required.\n",
    "X = np.vstack((x_grid_flat, y_grid_flat)).T\n",
    "\n",
    "# x_grid and y_grid are of size 100 x 100\n",
    "probability_contour = model_prob(X).reshape(100,100) "
   ]
  },
  {
   "cell_type": "code",
   "execution_count": 29,
   "id": "understood-landing",
   "metadata": {
    "execution": {
     "iopub.execute_input": "2021-03-02T10:05:27.153748Z",
     "iopub.status.busy": "2021-03-02T10:05:27.153183Z",
     "iopub.status.idle": "2021-03-02T10:05:27.378086Z",
     "shell.execute_reply": "2021-03-02T10:05:27.378465Z"
    },
    "papermill": {
     "duration": 0.306122,
     "end_time": "2021-03-02T10:05:27.378617",
     "exception": false,
     "start_time": "2021-03-02T10:05:27.072495",
     "status": "completed"
    },
    "tags": []
   },
   "outputs": [
    {
     "data": {
      "image/png": "[encoded data removed]",
      "text/plain": [
       "<Figure size 720x648 with 1 Axes>"
      ]
     },
     "metadata": {
      "needs_background": "light"
     },
     "output_type": "display_data"
    }
   ],
   "source": [
    "plt.figure(figsize=(10,9))\n",
    "plt.scatter(plot_testing[:,0], plot_testing[:,1], alpha = 0.1, c = y_test.ravel())\n",
    "contours = plt.contour(x_grid,y_grid,probability_contour)\n",
    "plt.title('Probability Contours')\n",
    "plt.clabel(contours, inline = True );"
   ]
  }
 ],
 "metadata": {
  "kernelspec": {
   "display_name": "Python 3",
   "language": "python",
   "name": "python3"
  },
  "language_info": {
   "codemirror_mode": {
    "name": "ipython",
    "version": 3
   },
   "file_extension": ".py",
   "mimetype": "text/x-python",
   "name": "python",
   "nbconvert_exporter": "python",
   "pygments_lexer": "ipython3",
   "version": "3.6.13"
  },
  "papermill": {
   "duration": 96.835763,
   "end_time": "2021-03-02T10:05:27.732941",
   "environment_variables": {},
   "exception": null,
   "input_path": "2020-08-11-NeuralNetwork.ipynb",
   "output_path": "2020-08-11-NeuralNetwork.ipynb",
   "parameters": {},
   "start_time": "2021-03-02T10:03:50.897178",
   "version": "2.1.2"
  }
 },
 "nbformat": 4,
 "nbformat_minor": 5
}