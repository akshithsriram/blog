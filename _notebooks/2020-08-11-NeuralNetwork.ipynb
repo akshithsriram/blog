{
 "cells": [
  {
   "cell_type": "markdown",
   "metadata": {
    "papermill": {
     "duration": 0.034408,
     "end_time": "2020-11-09T00:13:22.141922",
     "exception": false,
     "start_time": "2020-11-09T00:13:22.107514",
     "status": "completed"
    },
    "tags": []
   },
   "source": [
    "# \"A Basic Neural Network: Differentiate Hand-Written Digits\"\n",
    "\n",
    "- badges: true\n",
    "- author: Akshith Sriram"
   ]
  },
  {
   "cell_type": "markdown",
   "metadata": {
    "papermill": {
     "duration": 0.20359,
     "end_time": "2020-11-09T00:13:22.676855",
     "exception": false,
     "start_time": "2020-11-09T00:13:22.473265",
     "status": "completed"
    },
    "tags": []
   },
   "source": [
    "### Key Objectives:\n",
    "- Building a neural network that differentiates two hand-written digits 3 and 8.\n",
    "- Comparing the results of this Neural Network (NN) to that of a Logistic Regression (LR) model.\n",
    "\n",
    "### Requirements:\n",
    "- 'Kudzu' : A neural network library that was designed during our course by [Univ.AI](www.univ.ai). \n",
    "- MNIST Database\n",
    "\n",
    "If MNIST is not installed, use the command `!pip install mnist` given below.\n",
    "It can be run both from the command line and Jupyter Notebook."
   ]
  },
  {
   "cell_type": "code",
   "execution_count": 1,
   "metadata": {
    "execution": {
     "iopub.execute_input": "2020-11-09T00:13:22.736106Z",
     "iopub.status.busy": "2020-11-09T00:13:22.735083Z",
     "iopub.status.idle": "2020-11-09T00:13:24.288783Z",
     "shell.execute_reply": "2020-11-09T00:13:24.289273Z"
    },
    "papermill": {
     "duration": 1.585427,
     "end_time": "2020-11-09T00:13:24.289473",
     "exception": false,
     "start_time": "2020-11-09T00:13:22.704046",
     "status": "completed"
    },
    "tags": []
   },
   "outputs": [
    {
     "name": "stdout",
     "output_type": "stream",
     "text": [
      "Collecting mnist\r\n"
     ]
    },
    {
     "name": "stdout",
     "output_type": "stream",
     "text": [
      "  Downloading mnist-0.2.2-py2.py3-none-any.whl (3.5 kB)\r\n",
      "Requirement already satisfied: numpy in /opt/hostedtoolcache/Python/3.6.12/x64/lib/python3.6/site-packages (from mnist) (1.19.4)\r\n"
     ]
    },
    {
     "name": "stdout",
     "output_type": "stream",
     "text": [
      "Installing collected packages: mnist\r\n"
     ]
    },
    {
     "name": "stdout",
     "output_type": "stream",
     "text": [
      "Successfully installed mnist-0.2.2\r\n"
     ]
    }
   ],
   "source": [
    "!pip install mnist "
   ]
  },
  {
   "cell_type": "markdown",
   "metadata": {
    "papermill": {
     "duration": 0.03431,
     "end_time": "2020-11-09T00:13:24.358480",
     "exception": false,
     "start_time": "2020-11-09T00:13:24.324170",
     "status": "completed"
    },
    "tags": []
   },
   "source": [
    "#### Importing necessary libraries"
   ]
  },
  {
   "cell_type": "code",
   "execution_count": 2,
   "metadata": {
    "execution": {
     "iopub.execute_input": "2020-11-09T00:13:24.427742Z",
     "iopub.status.busy": "2020-11-09T00:13:24.425207Z",
     "iopub.status.idle": "2020-11-09T00:13:25.083292Z",
     "shell.execute_reply": "2020-11-09T00:13:25.084118Z"
    },
    "papermill": {
     "duration": 0.697543,
     "end_time": "2020-11-09T00:13:25.084382",
     "exception": false,
     "start_time": "2020-11-09T00:13:24.386839",
     "status": "completed"
    },
    "tags": []
   },
   "outputs": [],
   "source": [
    "%load_ext autoreload\n",
    "%autoreload 2\n",
    "\n",
    "%matplotlib inline\n",
    "import matplotlib.pyplot as plt\n",
    "\n",
    "import numpy as np\n",
    "import pandas as pd"
   ]
  },
  {
   "cell_type": "markdown",
   "metadata": {
    "papermill": {
     "duration": 0.028073,
     "end_time": "2020-11-09T00:13:25.144880",
     "exception": false,
     "start_time": "2020-11-09T00:13:25.116807",
     "status": "completed"
    },
    "tags": []
   },
   "source": [
    "### Preparing the Data"
   ]
  },
  {
   "cell_type": "code",
   "execution_count": 3,
   "metadata": {
    "execution": {
     "iopub.execute_input": "2020-11-09T00:13:25.205265Z",
     "iopub.status.busy": "2020-11-09T00:13:25.204656Z",
     "iopub.status.idle": "2020-11-09T00:13:25.218089Z",
     "shell.execute_reply": "2020-11-09T00:13:25.218610Z"
    },
    "papermill": {
     "duration": 0.047172,
     "end_time": "2020-11-09T00:13:25.218766",
     "exception": false,
     "start_time": "2020-11-09T00:13:25.171594",
     "status": "completed"
    },
    "tags": []
   },
   "outputs": [],
   "source": [
    "import mnist"
   ]
  },
  {
   "cell_type": "code",
   "execution_count": 4,
   "metadata": {
    "execution": {
     "iopub.execute_input": "2020-11-09T00:13:25.282021Z",
     "iopub.status.busy": "2020-11-09T00:13:25.281454Z",
     "iopub.status.idle": "2020-11-09T00:13:26.065606Z",
     "shell.execute_reply": "2020-11-09T00:13:26.065034Z"
    },
    "papermill": {
     "duration": 0.820257,
     "end_time": "2020-11-09T00:13:26.065750",
     "exception": false,
     "start_time": "2020-11-09T00:13:25.245493",
     "status": "completed"
    },
    "tags": []
   },
   "outputs": [],
   "source": [
    "train_images = mnist.train_images()\n",
    "train_labels = mnist.train_labels()"
   ]
  },
  {
   "cell_type": "code",
   "execution_count": 5,
   "metadata": {
    "execution": {
     "iopub.execute_input": "2020-11-09T00:13:26.128747Z",
     "iopub.status.busy": "2020-11-09T00:13:26.127180Z",
     "iopub.status.idle": "2020-11-09T00:13:26.145324Z",
     "shell.execute_reply": "2020-11-09T00:13:26.144786Z"
    },
    "papermill": {
     "duration": 0.051107,
     "end_time": "2020-11-09T00:13:26.145463",
     "exception": false,
     "start_time": "2020-11-09T00:13:26.094356",
     "status": "completed"
    },
    "tags": []
   },
   "outputs": [
    {
     "data": {
      "text/plain": [
       "((60000, 28, 28), (60000,))"
      ]
     },
     "execution_count": 5,
     "metadata": {},
     "output_type": "execute_result"
    }
   ],
   "source": [
    "train_images.shape, train_labels.shape"
   ]
  },
  {
   "cell_type": "code",
   "execution_count": 6,
   "metadata": {
    "execution": {
     "iopub.execute_input": "2020-11-09T00:13:26.210223Z",
     "iopub.status.busy": "2020-11-09T00:13:26.209614Z",
     "iopub.status.idle": "2020-11-09T00:13:26.499336Z",
     "shell.execute_reply": "2020-11-09T00:13:26.498818Z"
    },
    "papermill": {
     "duration": 0.322475,
     "end_time": "2020-11-09T00:13:26.499481",
     "exception": false,
     "start_time": "2020-11-09T00:13:26.177006",
     "status": "completed"
    },
    "tags": []
   },
   "outputs": [],
   "source": [
    "test_images = mnist.test_images()\n",
    "test_labels = mnist.test_labels()"
   ]
  },
  {
   "cell_type": "code",
   "execution_count": 7,
   "metadata": {
    "execution": {
     "iopub.execute_input": "2020-11-09T00:13:26.561492Z",
     "iopub.status.busy": "2020-11-09T00:13:26.560890Z",
     "iopub.status.idle": "2020-11-09T00:13:26.573946Z",
     "shell.execute_reply": "2020-11-09T00:13:26.574488Z"
    },
    "papermill": {
     "duration": 0.046682,
     "end_time": "2020-11-09T00:13:26.574646",
     "exception": false,
     "start_time": "2020-11-09T00:13:26.527964",
     "status": "completed"
    },
    "tags": []
   },
   "outputs": [
    {
     "data": {
      "text/plain": [
       "((10000, 28, 28), (10000,))"
      ]
     },
     "execution_count": 7,
     "metadata": {},
     "output_type": "execute_result"
    }
   ],
   "source": [
    "test_images.shape, test_labels.shape"
   ]
  },
  {
   "cell_type": "code",
   "execution_count": 8,
   "metadata": {
    "execution": {
     "iopub.execute_input": "2020-11-09T00:13:26.636053Z",
     "iopub.status.busy": "2020-11-09T00:13:26.635450Z",
     "iopub.status.idle": "2020-11-09T00:13:26.795630Z",
     "shell.execute_reply": "2020-11-09T00:13:26.795096Z"
    },
    "papermill": {
     "duration": 0.19247,
     "end_time": "2020-11-09T00:13:26.795766",
     "exception": false,
     "start_time": "2020-11-09T00:13:26.603296",
     "status": "completed"
    },
    "tags": []
   },
   "outputs": [
    {
     "name": "stdout",
     "output_type": "stream",
     "text": [
      "2\n"
     ]
    },
    {
     "data": {
      "text/plain": [
       "<matplotlib.image.AxesImage at 0x7f5d56378438>"
      ]
     },
     "execution_count": 8,
     "metadata": {},
     "output_type": "execute_result"
    },
    {
     "data": {
      "image/png": "[encoded data removed]",
      "text/plain": [
       "<Figure size 432x288 with 1 Axes>"
      ]
     },
     "metadata": {
      "needs_background": "light"
     },
     "output_type": "display_data"
    }
   ],
   "source": [
    "image_index = 7776 # You may select anything up to 60,000\n",
    "print(train_labels[image_index]) \n",
    "plt.imshow(train_images[image_index], cmap='Greys')"
   ]
  },
  {
   "cell_type": "markdown",
   "metadata": {
    "papermill": {
     "duration": 0.030313,
     "end_time": "2020-11-09T00:13:26.855535",
     "exception": false,
     "start_time": "2020-11-09T00:13:26.825222",
     "status": "completed"
    },
    "tags": []
   },
   "source": [
    "## Filter data to get 3 and 8 out"
   ]
  },
  {
   "cell_type": "code",
   "execution_count": 9,
   "metadata": {
    "execution": {
     "iopub.execute_input": "2020-11-09T00:13:26.922110Z",
     "iopub.status.busy": "2020-11-09T00:13:26.921450Z",
     "iopub.status.idle": "2020-11-09T00:13:26.940929Z",
     "shell.execute_reply": "2020-11-09T00:13:26.940329Z"
    },
    "papermill": {
     "duration": 0.056074,
     "end_time": "2020-11-09T00:13:26.941068",
     "exception": false,
     "start_time": "2020-11-09T00:13:26.884994",
     "status": "completed"
    },
    "tags": []
   },
   "outputs": [],
   "source": [
    "train_filter = np.where((train_labels == 3 ) | (train_labels == 8))\n",
    "test_filter = np.where((test_labels == 3) | (test_labels == 8))\n",
    "X_train, y_train = train_images[train_filter], train_labels[train_filter]\n",
    "X_test, y_test = test_images[test_filter], test_labels[test_filter]"
   ]
  },
  {
   "cell_type": "markdown",
   "metadata": {
    "papermill": {
     "duration": 0.02971,
     "end_time": "2020-11-09T00:13:27.000487",
     "exception": false,
     "start_time": "2020-11-09T00:13:26.970777",
     "status": "completed"
    },
    "tags": []
   },
   "source": [
    "We normalize the pixel values in the 0 to 1 range"
   ]
  },
  {
   "cell_type": "code",
   "execution_count": 10,
   "metadata": {
    "execution": {
     "iopub.execute_input": "2020-11-09T00:13:27.072356Z",
     "iopub.status.busy": "2020-11-09T00:13:27.071756Z",
     "iopub.status.idle": "2020-11-09T00:13:27.127349Z",
     "shell.execute_reply": "2020-11-09T00:13:27.126833Z"
    },
    "papermill": {
     "duration": 0.095788,
     "end_time": "2020-11-09T00:13:27.127499",
     "exception": false,
     "start_time": "2020-11-09T00:13:27.031711",
     "status": "completed"
    },
    "tags": []
   },
   "outputs": [],
   "source": [
    "X_train = X_train/255.\n",
    "X_test = X_test/255."
   ]
  },
  {
   "cell_type": "markdown",
   "metadata": {
    "papermill": {
     "duration": 0.028398,
     "end_time": "2020-11-09T00:13:27.193934",
     "exception": false,
     "start_time": "2020-11-09T00:13:27.165536",
     "status": "completed"
    },
    "tags": []
   },
   "source": [
    "Setup the labels as 1 (when the digit is 3) and 0 (when the digit is 8)"
   ]
  },
  {
   "cell_type": "code",
   "execution_count": 11,
   "metadata": {
    "execution": {
     "iopub.execute_input": "2020-11-09T00:13:27.256953Z",
     "iopub.status.busy": "2020-11-09T00:13:27.256319Z",
     "iopub.status.idle": "2020-11-09T00:13:27.271861Z",
     "shell.execute_reply": "2020-11-09T00:13:27.271144Z"
    },
    "papermill": {
     "duration": 0.049676,
     "end_time": "2020-11-09T00:13:27.272036",
     "exception": false,
     "start_time": "2020-11-09T00:13:27.222360",
     "status": "completed"
    },
    "tags": []
   },
   "outputs": [],
   "source": [
    "y_train = 1*(y_train==3)\n",
    "y_test = 1*(y_test==3)"
   ]
  },
  {
   "cell_type": "code",
   "execution_count": 12,
   "metadata": {
    "execution": {
     "iopub.execute_input": "2020-11-09T00:13:27.337482Z",
     "iopub.status.busy": "2020-11-09T00:13:27.336862Z",
     "iopub.status.idle": "2020-11-09T00:13:27.353053Z",
     "shell.execute_reply": "2020-11-09T00:13:27.352463Z"
    },
    "papermill": {
     "duration": 0.049976,
     "end_time": "2020-11-09T00:13:27.353199",
     "exception": false,
     "start_time": "2020-11-09T00:13:27.303223",
     "status": "completed"
    },
    "tags": []
   },
   "outputs": [
    {
     "data": {
      "text/plain": [
       "((11982, 28, 28), (1984, 28, 28))"
      ]
     },
     "execution_count": 12,
     "metadata": {},
     "output_type": "execute_result"
    }
   ],
   "source": [
    "X_train.shape, X_test.shape"
   ]
  },
  {
   "cell_type": "markdown",
   "metadata": {
    "papermill": {
     "duration": 0.029058,
     "end_time": "2020-11-09T00:13:27.412069",
     "exception": false,
     "start_time": "2020-11-09T00:13:27.383011",
     "status": "completed"
    },
    "tags": []
   },
   "source": [
    "### Reshape the input data to create a linear array"
   ]
  },
  {
   "cell_type": "code",
   "execution_count": 13,
   "metadata": {
    "execution": {
     "iopub.execute_input": "2020-11-09T00:13:27.478520Z",
     "iopub.status.busy": "2020-11-09T00:13:27.477713Z",
     "iopub.status.idle": "2020-11-09T00:13:27.494355Z",
     "shell.execute_reply": "2020-11-09T00:13:27.493666Z"
    },
    "papermill": {
     "duration": 0.053211,
     "end_time": "2020-11-09T00:13:27.494492",
     "exception": false,
     "start_time": "2020-11-09T00:13:27.441281",
     "status": "completed"
    },
    "tags": []
   },
   "outputs": [
    {
     "data": {
      "text/plain": [
       "((11982, 784), (1984, 784))"
      ]
     },
     "execution_count": 13,
     "metadata": {},
     "output_type": "execute_result"
    }
   ],
   "source": [
    "X_train = X_train.reshape(X_train.shape[0], -1)\n",
    "X_test = X_test.reshape(X_test.shape[0], -1)\n",
    "X_train.shape, X_test.shape"
   ]
  },
  {
   "cell_type": "markdown",
   "metadata": {
    "papermill": {
     "duration": 0.036862,
     "end_time": "2020-11-09T00:13:27.561808",
     "exception": false,
     "start_time": "2020-11-09T00:13:27.524946",
     "status": "completed"
    },
    "tags": []
   },
   "source": [
    "### Importing appropriate functions from 'Kudzu'"
   ]
  },
  {
   "cell_type": "code",
   "execution_count": 14,
   "metadata": {
    "execution": {
     "iopub.execute_input": "2020-11-09T00:13:27.630990Z",
     "iopub.status.busy": "2020-11-09T00:13:27.630369Z",
     "iopub.status.idle": "2020-11-09T00:13:27.648945Z",
     "shell.execute_reply": "2020-11-09T00:13:27.648410Z"
    },
    "papermill": {
     "duration": 0.056603,
     "end_time": "2020-11-09T00:13:27.649089",
     "exception": false,
     "start_time": "2020-11-09T00:13:27.592486",
     "status": "completed"
    },
    "tags": []
   },
   "outputs": [],
   "source": [
    "from kudzu.layer import Sigmoid\n",
    "from kudzu.layer import Relu\n",
    "from kudzu.layer import Affine, Sigmoid\n",
    "\n",
    "from kudzu.model import Model\n",
    "from kudzu.train import Learner\n",
    "from kudzu.optim import GD\n",
    "from kudzu.data import Data, Dataloader, Sampler\n",
    "\n",
    "from kudzu.callbacks import AccCallback\n",
    "from kudzu.callbacks import ClfCallback\n",
    "\n",
    "from kudzu.loss import MSE"
   ]
  },
  {
   "cell_type": "markdown",
   "metadata": {
    "papermill": {
     "duration": 0.031475,
     "end_time": "2020-11-09T00:13:27.711567",
     "exception": false,
     "start_time": "2020-11-09T00:13:27.680092",
     "status": "completed"
    },
    "tags": []
   },
   "source": [
    "### Let us create a `Config` class, to store important parameters. \n",
    "This class essentially plays the role of a dictionary."
   ]
  },
  {
   "cell_type": "code",
   "execution_count": 15,
   "metadata": {
    "execution": {
     "iopub.execute_input": "2020-11-09T00:13:27.786338Z",
     "iopub.status.busy": "2020-11-09T00:13:27.785668Z",
     "iopub.status.idle": "2020-11-09T00:13:27.798281Z",
     "shell.execute_reply": "2020-11-09T00:13:27.798767Z"
    },
    "papermill": {
     "duration": 0.056142,
     "end_time": "2020-11-09T00:13:27.798942",
     "exception": false,
     "start_time": "2020-11-09T00:13:27.742800",
     "status": "completed"
    },
    "tags": []
   },
   "outputs": [],
   "source": [
    "class Config:\n",
    "    pass\n",
    "config = Config()\n",
    "config.lr = 0.001\n",
    "config.num_epochs = 251\n",
    "config.bs = 50"
   ]
  },
  {
   "cell_type": "markdown",
   "metadata": {
    "papermill": {
     "duration": 0.029815,
     "end_time": "2020-11-09T00:13:27.858693",
     "exception": false,
     "start_time": "2020-11-09T00:13:27.828878",
     "status": "completed"
    },
    "tags": []
   },
   "source": [
    "### Initializing data to the variables"
   ]
  },
  {
   "cell_type": "code",
   "execution_count": 16,
   "metadata": {
    "execution": {
     "iopub.execute_input": "2020-11-09T00:13:27.925935Z",
     "iopub.status.busy": "2020-11-09T00:13:27.925114Z",
     "iopub.status.idle": "2020-11-09T00:13:27.941413Z",
     "shell.execute_reply": "2020-11-09T00:13:27.940876Z"
    },
    "papermill": {
     "duration": 0.052333,
     "end_time": "2020-11-09T00:13:27.941560",
     "exception": false,
     "start_time": "2020-11-09T00:13:27.889227",
     "status": "completed"
    },
    "tags": []
   },
   "outputs": [],
   "source": [
    "data = Data(X_train, y_train.reshape(-1,1))\n",
    "sampler = Sampler(data, config.bs, shuffle=True)\n",
    "\n",
    "dl = Dataloader(data, sampler)\n",
    "\n",
    "opt = GD(config.lr)\n",
    "loss = MSE()"
   ]
  },
  {
   "cell_type": "code",
   "execution_count": 17,
   "metadata": {
    "execution": {
     "iopub.execute_input": "2020-11-09T00:13:28.010426Z",
     "iopub.status.busy": "2020-11-09T00:13:28.009829Z",
     "iopub.status.idle": "2020-11-09T00:13:28.023313Z",
     "shell.execute_reply": "2020-11-09T00:13:28.023794Z"
    },
    "papermill": {
     "duration": 0.05279,
     "end_time": "2020-11-09T00:13:28.023946",
     "exception": false,
     "start_time": "2020-11-09T00:13:27.971156",
     "status": "completed"
    },
    "tags": []
   },
   "outputs": [],
   "source": [
    "training_xdata = X_train\n",
    "testing_xdata = X_test\n",
    "training_ydata = y_train.reshape(-1,1)\n",
    "testing_ydata = y_test.reshape(-1,1)"
   ]
  },
  {
   "cell_type": "markdown",
   "metadata": {
    "papermill": {
     "duration": 0.033321,
     "end_time": "2020-11-09T00:13:28.090181",
     "exception": false,
     "start_time": "2020-11-09T00:13:28.056860",
     "status": "completed"
    },
    "tags": []
   },
   "source": [
    "### Running Models with the Training data\n",
    "Details about the network layers:\n",
    "- A first affine layer has 784 inputs and does 100 affine transforms. These are followed by a Relu\n",
    "- A second affine layer has 100 inputs from the 100 activations of the past layer, and does 100 affine transforms. These are followed by a Relu\n",
    "- A third affine layer has 100 activations and does 2 affine transformations to create an embedding for visualization. There is no non-linearity here.\n",
    "- A final \"logistic regression\" which has an affine transform from 2 inputs to 1 output, which is squeezed through a sigmoid.\n",
    "\n",
    "Help taken from Anshuman's Notebook."
   ]
  },
  {
   "cell_type": "code",
   "execution_count": 18,
   "metadata": {
    "execution": {
     "iopub.execute_input": "2020-11-09T00:13:28.155564Z",
     "iopub.status.busy": "2020-11-09T00:13:28.154948Z",
     "iopub.status.idle": "2020-11-09T00:13:28.178399Z",
     "shell.execute_reply": "2020-11-09T00:13:28.177819Z"
    },
    "papermill": {
     "duration": 0.058144,
     "end_time": "2020-11-09T00:13:28.178556",
     "exception": false,
     "start_time": "2020-11-09T00:13:28.120412",
     "status": "completed"
    },
    "tags": []
   },
   "outputs": [],
   "source": [
    "# layers for the Neural Network\n",
    "layers = [Affine(\"first\", 784, 100), Relu(\"first\"), Affine(\"second\", 100, 100), Relu(\"second\"), Affine(\"third\", 100, 2), Affine(\"final\", 2, 1), Sigmoid(\"final\")]\n",
    "model_nn = Model(layers)\n",
    "\n",
    "# layers for the Logistic Regression\n",
    "layers_lr = [Affine(\"logits\", 784, 1), Sigmoid(\"sigmoid\")]\n",
    "model_lr = Model(layers_lr)"
   ]
  },
  {
   "cell_type": "code",
   "execution_count": 19,
   "metadata": {
    "execution": {
     "iopub.execute_input": "2020-11-09T00:13:28.247270Z",
     "iopub.status.busy": "2020-11-09T00:13:28.246630Z",
     "iopub.status.idle": "2020-11-09T00:13:28.260718Z",
     "shell.execute_reply": "2020-11-09T00:13:28.260162Z"
    },
    "papermill": {
     "duration": 0.049757,
     "end_time": "2020-11-09T00:13:28.260867",
     "exception": false,
     "start_time": "2020-11-09T00:13:28.211110",
     "status": "completed"
    },
    "tags": []
   },
   "outputs": [],
   "source": [
    "# suffix _nn stands for Neural Network.\n",
    "learner_nn = Learner(loss, model_nn, opt, config.num_epochs)\n",
    "acc_nn = ClfCallback(learner_nn, config.bs, training_xdata , testing_xdata, training_ydata, testing_ydata)\n",
    "learner_nn.set_callbacks([acc_nn])"
   ]
  },
  {
   "cell_type": "code",
   "execution_count": 20,
   "metadata": {
    "execution": {
     "iopub.execute_input": "2020-11-09T00:13:28.332366Z",
     "iopub.status.busy": "2020-11-09T00:13:28.331739Z",
     "iopub.status.idle": "2020-11-09T00:14:56.157284Z",
     "shell.execute_reply": "2020-11-09T00:14:56.158093Z"
    },
    "papermill": {
     "duration": 87.868356,
     "end_time": "2020-11-09T00:14:56.158251",
     "exception": false,
     "start_time": "2020-11-09T00:13:28.289895",
     "status": "completed"
    },
    "tags": []
   },
   "outputs": [
    {
     "name": "stdout",
     "output_type": "stream",
     "text": [
      "====== Neural Network ======\n"
     ]
    },
    {
     "name": "stdout",
     "output_type": "stream",
     "text": [
      "Epoch 0, Loss 0.2332\n",
      "Training Accuracy: 0.7363, Testing Accuracy: 0.7354\n",
      "\n"
     ]
    },
    {
     "name": "stdout",
     "output_type": "stream",
     "text": [
      "Epoch 10, Loss 0.0944\n",
      "Training Accuracy: 0.9200, Testing Accuracy: 0.9269\n",
      "\n"
     ]
    },
    {
     "name": "stdout",
     "output_type": "stream",
     "text": [
      "Epoch 20, Loss 0.0556\n",
      "Training Accuracy: 0.9440, Testing Accuracy: 0.9526\n",
      "\n"
     ]
    },
    {
     "name": "stdout",
     "output_type": "stream",
     "text": [
      "Epoch 30, Loss 0.0434\n",
      "Training Accuracy: 0.9539, Testing Accuracy: 0.9592\n",
      "\n"
     ]
    },
    {
     "name": "stdout",
     "output_type": "stream",
     "text": [
      "Epoch 40, Loss 0.0374\n",
      "Training Accuracy: 0.9589, Testing Accuracy: 0.9637\n",
      "\n"
     ]
    },
    {
     "name": "stdout",
     "output_type": "stream",
     "text": [
      "Epoch 50, Loss 0.0338\n",
      "Training Accuracy: 0.9619, Testing Accuracy: 0.9672\n",
      "\n"
     ]
    },
    {
     "name": "stdout",
     "output_type": "stream",
     "text": [
      "Epoch 60, Loss 0.0313\n",
      "Training Accuracy: 0.9647, Testing Accuracy: 0.9698\n",
      "\n"
     ]
    },
    {
     "name": "stdout",
     "output_type": "stream",
     "text": [
      "Epoch 70, Loss 0.0294\n",
      "Training Accuracy: 0.9668, Testing Accuracy: 0.9708\n",
      "\n"
     ]
    },
    {
     "name": "stdout",
     "output_type": "stream",
     "text": [
      "Epoch 80, Loss 0.0278\n",
      "Training Accuracy: 0.9680, Testing Accuracy: 0.9718\n",
      "\n"
     ]
    },
    {
     "name": "stdout",
     "output_type": "stream",
     "text": [
      "Epoch 90, Loss 0.0266\n",
      "Training Accuracy: 0.9695, Testing Accuracy: 0.9718\n",
      "\n"
     ]
    },
    {
     "name": "stdout",
     "output_type": "stream",
     "text": [
      "Epoch 100, Loss 0.0255\n",
      "Training Accuracy: 0.9711, Testing Accuracy: 0.9713\n",
      "\n"
     ]
    },
    {
     "name": "stdout",
     "output_type": "stream",
     "text": [
      "Epoch 110, Loss 0.0246\n",
      "Training Accuracy: 0.9721, Testing Accuracy: 0.9713\n",
      "\n"
     ]
    },
    {
     "name": "stdout",
     "output_type": "stream",
     "text": [
      "Epoch 120, Loss 0.0238\n",
      "Training Accuracy: 0.9733, Testing Accuracy: 0.9718\n",
      "\n"
     ]
    },
    {
     "name": "stdout",
     "output_type": "stream",
     "text": [
      "Epoch 130, Loss 0.0231\n",
      "Training Accuracy: 0.9739, Testing Accuracy: 0.9723\n",
      "\n"
     ]
    },
    {
     "name": "stdout",
     "output_type": "stream",
     "text": [
      "Epoch 140, Loss 0.0224\n",
      "Training Accuracy: 0.9746, Testing Accuracy: 0.9718\n",
      "\n"
     ]
    },
    {
     "name": "stdout",
     "output_type": "stream",
     "text": [
      "Epoch 150, Loss 0.0218\n",
      "Training Accuracy: 0.9755, Testing Accuracy: 0.9728\n",
      "\n"
     ]
    },
    {
     "name": "stdout",
     "output_type": "stream",
     "text": [
      "Epoch 160, Loss 0.0213\n",
      "Training Accuracy: 0.9761, Testing Accuracy: 0.9733\n",
      "\n"
     ]
    },
    {
     "name": "stdout",
     "output_type": "stream",
     "text": [
      "Epoch 170, Loss 0.0207\n",
      "Training Accuracy: 0.9769, Testing Accuracy: 0.9738\n",
      "\n"
     ]
    },
    {
     "name": "stdout",
     "output_type": "stream",
     "text": [
      "Epoch 180, Loss 0.0203\n",
      "Training Accuracy: 0.9775, Testing Accuracy: 0.9738\n",
      "\n"
     ]
    },
    {
     "name": "stdout",
     "output_type": "stream",
     "text": [
      "Epoch 190, Loss 0.0198\n",
      "Training Accuracy: 0.9781, Testing Accuracy: 0.9738\n",
      "\n"
     ]
    },
    {
     "name": "stdout",
     "output_type": "stream",
     "text": [
      "Epoch 200, Loss 0.0194\n",
      "Training Accuracy: 0.9783, Testing Accuracy: 0.9738\n",
      "\n"
     ]
    },
    {
     "name": "stdout",
     "output_type": "stream",
     "text": [
      "Epoch 210, Loss 0.019\n",
      "Training Accuracy: 0.9791, Testing Accuracy: 0.9738\n",
      "\n"
     ]
    },
    {
     "name": "stdout",
     "output_type": "stream",
     "text": [
      "Epoch 220, Loss 0.0186\n",
      "Training Accuracy: 0.9792, Testing Accuracy: 0.9738\n",
      "\n"
     ]
    },
    {
     "name": "stdout",
     "output_type": "stream",
     "text": [
      "Epoch 230, Loss 0.0182\n",
      "Training Accuracy: 0.9796, Testing Accuracy: 0.9738\n",
      "\n"
     ]
    },
    {
     "name": "stdout",
     "output_type": "stream",
     "text": [
      "Epoch 240, Loss 0.0179\n",
      "Training Accuracy: 0.9800, Testing Accuracy: 0.9738\n",
      "\n"
     ]
    },
    {
     "name": "stdout",
     "output_type": "stream",
     "text": [
      "Epoch 250, Loss 0.0175\n",
      "Training Accuracy: 0.9810, Testing Accuracy: 0.9743\n",
      "\n"
     ]
    },
    {
     "data": {
      "text/plain": [
       "0.008292728614185398"
      ]
     },
     "execution_count": 20,
     "metadata": {},
     "output_type": "execute_result"
    }
   ],
   "source": [
    "print(\"====== Neural Network ======\")\n",
    "learner_nn.train_loop(dl)"
   ]
  },
  {
   "cell_type": "markdown",
   "metadata": {
    "papermill": {
     "duration": 0.036336,
     "end_time": "2020-11-09T00:14:56.232072",
     "exception": false,
     "start_time": "2020-11-09T00:14:56.195736",
     "status": "completed"
    },
    "tags": []
   },
   "source": [
    "### Logistic Regression based Implementation."
   ]
  },
  {
   "cell_type": "code",
   "execution_count": 21,
   "metadata": {
    "execution": {
     "iopub.execute_input": "2020-11-09T00:14:56.310406Z",
     "iopub.status.busy": "2020-11-09T00:14:56.309589Z",
     "iopub.status.idle": "2020-11-09T00:14:56.322217Z",
     "shell.execute_reply": "2020-11-09T00:14:56.323038Z"
    },
    "papermill": {
     "duration": 0.054867,
     "end_time": "2020-11-09T00:14:56.323197",
     "exception": false,
     "start_time": "2020-11-09T00:14:56.268330",
     "status": "completed"
    },
    "tags": []
   },
   "outputs": [],
   "source": [
    "learner_lr = Learner(loss, model_lr, opt, config.num_epochs)\n",
    "acc_lr = ClfCallback(learner_lr, config.bs, training_xdata , testing_xdata, training_ydata, testing_ydata)\n",
    "learner_lr.set_callbacks([acc_lr])"
   ]
  },
  {
   "cell_type": "code",
   "execution_count": 22,
   "metadata": {
    "execution": {
     "iopub.execute_input": "2020-11-09T00:14:56.405983Z",
     "iopub.status.busy": "2020-11-09T00:14:56.405389Z",
     "iopub.status.idle": "2020-11-09T00:15:12.035987Z",
     "shell.execute_reply": "2020-11-09T00:15:12.035496Z"
    },
    "papermill": {
     "duration": 15.674994,
     "end_time": "2020-11-09T00:15:12.036125",
     "exception": false,
     "start_time": "2020-11-09T00:14:56.361131",
     "status": "completed"
    },
    "tags": []
   },
   "outputs": [
    {
     "name": "stdout",
     "output_type": "stream",
     "text": [
      "====== Logistic Regression ======\n",
      "Epoch 0, Loss 0.2647\n",
      "Training Accuracy: 0.6036, Testing Accuracy: 0.6416\n",
      "\n"
     ]
    },
    {
     "name": "stdout",
     "output_type": "stream",
     "text": [
      "Epoch 10, Loss 0.101\n",
      "Training Accuracy: 0.9179, Testing Accuracy: 0.9274\n",
      "\n"
     ]
    },
    {
     "name": "stdout",
     "output_type": "stream",
     "text": [
      "Epoch 20, Loss 0.0776\n",
      "Training Accuracy: 0.9337, Testing Accuracy: 0.9435\n",
      "\n"
     ]
    },
    {
     "name": "stdout",
     "output_type": "stream",
     "text": [
      "Epoch 30, Loss 0.0668\n",
      "Training Accuracy: 0.9415, Testing Accuracy: 0.9506\n",
      "\n"
     ]
    },
    {
     "name": "stdout",
     "output_type": "stream",
     "text": [
      "Epoch 40, Loss 0.0604\n",
      "Training Accuracy: 0.9453, Testing Accuracy: 0.9516\n",
      "\n"
     ]
    },
    {
     "name": "stdout",
     "output_type": "stream",
     "text": [
      "Epoch 50, Loss 0.0561\n",
      "Training Accuracy: 0.9488, Testing Accuracy: 0.9561\n",
      "\n"
     ]
    },
    {
     "name": "stdout",
     "output_type": "stream",
     "text": [
      "Epoch 60, Loss 0.0529\n",
      "Training Accuracy: 0.9503, Testing Accuracy: 0.9567\n",
      "\n"
     ]
    },
    {
     "name": "stdout",
     "output_type": "stream",
     "text": [
      "Epoch 70, Loss 0.0504\n",
      "Training Accuracy: 0.9513, Testing Accuracy: 0.9577\n",
      "\n"
     ]
    },
    {
     "name": "stdout",
     "output_type": "stream",
     "text": [
      "Epoch 80, Loss 0.0484\n",
      "Training Accuracy: 0.9529, Testing Accuracy: 0.9602\n",
      "\n"
     ]
    },
    {
     "name": "stdout",
     "output_type": "stream",
     "text": [
      "Epoch 90, Loss 0.0468\n",
      "Training Accuracy: 0.9534, Testing Accuracy: 0.9622\n",
      "\n"
     ]
    },
    {
     "name": "stdout",
     "output_type": "stream",
     "text": [
      "Epoch 100, Loss 0.0455\n",
      "Training Accuracy: 0.9548, Testing Accuracy: 0.9637\n",
      "\n"
     ]
    },
    {
     "name": "stdout",
     "output_type": "stream",
     "text": [
      "Epoch 110, Loss 0.0443\n",
      "Training Accuracy: 0.9553, Testing Accuracy: 0.9647\n",
      "\n"
     ]
    },
    {
     "name": "stdout",
     "output_type": "stream",
     "text": [
      "Epoch 120, Loss 0.0433\n",
      "Training Accuracy: 0.9563, Testing Accuracy: 0.9652\n",
      "\n"
     ]
    },
    {
     "name": "stdout",
     "output_type": "stream",
     "text": [
      "Epoch 130, Loss 0.0424\n",
      "Training Accuracy: 0.9569, Testing Accuracy: 0.9657\n",
      "\n"
     ]
    },
    {
     "name": "stdout",
     "output_type": "stream",
     "text": [
      "Epoch 140, Loss 0.0416\n",
      "Training Accuracy: 0.9574, Testing Accuracy: 0.9652\n",
      "\n"
     ]
    },
    {
     "name": "stdout",
     "output_type": "stream",
     "text": [
      "Epoch 150, Loss 0.0409\n",
      "Training Accuracy: 0.9581, Testing Accuracy: 0.9657\n",
      "\n"
     ]
    },
    {
     "name": "stdout",
     "output_type": "stream",
     "text": [
      "Epoch 160, Loss 0.0402\n",
      "Training Accuracy: 0.9588, Testing Accuracy: 0.9662\n",
      "\n"
     ]
    },
    {
     "name": "stdout",
     "output_type": "stream",
     "text": [
      "Epoch 170, Loss 0.0396\n",
      "Training Accuracy: 0.9595, Testing Accuracy: 0.9657\n",
      "\n"
     ]
    },
    {
     "name": "stdout",
     "output_type": "stream",
     "text": [
      "Epoch 180, Loss 0.0391\n",
      "Training Accuracy: 0.9601, Testing Accuracy: 0.9657\n",
      "\n"
     ]
    },
    {
     "name": "stdout",
     "output_type": "stream",
     "text": [
      "Epoch 190, Loss 0.0386\n",
      "Training Accuracy: 0.9602, Testing Accuracy: 0.9662\n",
      "\n"
     ]
    },
    {
     "name": "stdout",
     "output_type": "stream",
     "text": [
      "Epoch 200, Loss 0.0381\n",
      "Training Accuracy: 0.9605, Testing Accuracy: 0.9662\n",
      "\n"
     ]
    },
    {
     "name": "stdout",
     "output_type": "stream",
     "text": [
      "Epoch 210, Loss 0.0377\n",
      "Training Accuracy: 0.9609, Testing Accuracy: 0.9662\n",
      "\n"
     ]
    },
    {
     "name": "stdout",
     "output_type": "stream",
     "text": [
      "Epoch 220, Loss 0.0373\n",
      "Training Accuracy: 0.9612, Testing Accuracy: 0.9662\n",
      "\n"
     ]
    },
    {
     "name": "stdout",
     "output_type": "stream",
     "text": [
      "Epoch 230, Loss 0.0369\n",
      "Training Accuracy: 0.9614, Testing Accuracy: 0.9657\n",
      "\n"
     ]
    },
    {
     "name": "stdout",
     "output_type": "stream",
     "text": [
      "Epoch 240, Loss 0.0366\n",
      "Training Accuracy: 0.9617, Testing Accuracy: 0.9662\n",
      "\n"
     ]
    },
    {
     "name": "stdout",
     "output_type": "stream",
     "text": [
      "Epoch 250, Loss 0.0362\n",
      "Training Accuracy: 0.9619, Testing Accuracy: 0.9662\n",
      "\n"
     ]
    },
    {
     "data": {
      "text/plain": [
       "0.036678732321883636"
      ]
     },
     "execution_count": 22,
     "metadata": {},
     "output_type": "execute_result"
    }
   ],
   "source": [
    "print(\"====== Logistic Regression ======\")\n",
    "learner_lr.train_loop(dl)"
   ]
  },
  {
   "cell_type": "markdown",
   "metadata": {
    "papermill": {
     "duration": 0.044233,
     "end_time": "2020-11-09T00:15:12.125252",
     "exception": false,
     "start_time": "2020-11-09T00:15:12.081019",
     "status": "completed"
    },
    "tags": []
   },
   "source": [
    "### Comparing results of NN and LR"
   ]
  },
  {
   "cell_type": "code",
   "execution_count": 23,
   "metadata": {
    "execution": {
     "iopub.execute_input": "2020-11-09T00:15:12.222864Z",
     "iopub.status.busy": "2020-11-09T00:15:12.222248Z",
     "iopub.status.idle": "2020-11-09T00:15:12.488035Z",
     "shell.execute_reply": "2020-11-09T00:15:12.487185Z"
    },
    "papermill": {
     "duration": 0.31849,
     "end_time": "2020-11-09T00:15:12.488177",
     "exception": false,
     "start_time": "2020-11-09T00:15:12.169687",
     "status": "completed"
    },
    "tags": []
   },
   "outputs": [
    {
     "data": {
      "text/plain": [
       "<matplotlib.legend.Legend at 0x7f5d53ee2128>"
      ]
     },
     "execution_count": 23,
     "metadata": {},
     "output_type": "execute_result"
    },
    {
     "data": {
      "image/png": "[encoded data removed]",
      "text/plain": [
       "<Figure size 1080x720 with 1 Axes>"
      ]
     },
     "metadata": {
      "needs_background": "light"
     },
     "output_type": "display_data"
    }
   ],
   "source": [
    "plt.figure(figsize=(15,10))\n",
    "\n",
    "# Neural Network plots\n",
    "plt.plot(acc_nn.accuracies, 'r-', label = \"Training Accuracies - NN\")\n",
    "plt.plot(acc_nn.test_accuracies, 'g-', label = \"Testing Accuracies - NN\")\n",
    "\n",
    "# Logistic Regression plots\n",
    "plt.plot(acc_lr.accuracies, 'k-', label = \"Training Accuracies - LR\")\n",
    "plt.plot(acc_lr.test_accuracies, 'b-', label = \"Testing Accuracies - LR\")\n",
    "\n",
    "plt.ylim(0.8, 1)\n",
    "\n",
    "plt.legend()\n",
    "\n"
   ]
  },
  {
   "cell_type": "markdown",
   "metadata": {
    "papermill": {
     "duration": 0.047242,
     "end_time": "2020-11-09T00:15:12.585966",
     "exception": false,
     "start_time": "2020-11-09T00:15:12.538724",
     "status": "completed"
    },
    "tags": []
   },
   "source": [
    "### From the plot, we can observe the following:\n",
    "- Neural Network achieves higher accuracy than the Logistic Regression model.\n",
    "- This apparently, is because of overfitting, i.e. NN captures more noise than data.\n",
    "- Testing accuracy of NN drops below the Training accuracy at higher epochs. This explains the over-fitting on training data.\n",
    "- Logistic Regression gives a reliable accuracy, without the above mentioned problem.\n"
   ]
  },
  {
   "cell_type": "markdown",
   "metadata": {
    "papermill": {
     "duration": 0.054045,
     "end_time": "2020-11-09T00:15:12.687119",
     "exception": false,
     "start_time": "2020-11-09T00:15:12.633074",
     "status": "completed"
    },
    "tags": []
   },
   "source": [
    "### Moving till the last but one layer (excluding it).\n",
    "#### Plotting the outputs of this layer of the NN."
   ]
  },
  {
   "cell_type": "code",
   "execution_count": 24,
   "metadata": {
    "execution": {
     "iopub.execute_input": "2020-11-09T00:15:12.786817Z",
     "iopub.status.busy": "2020-11-09T00:15:12.786222Z",
     "iopub.status.idle": "2020-11-09T00:15:12.801203Z",
     "shell.execute_reply": "2020-11-09T00:15:12.801716Z"
    },
    "papermill": {
     "duration": 0.066869,
     "end_time": "2020-11-09T00:15:12.801875",
     "exception": false,
     "start_time": "2020-11-09T00:15:12.735006",
     "status": "completed"
    },
    "tags": []
   },
   "outputs": [],
   "source": [
    "model_new = Model(layers[:-2])"
   ]
  },
  {
   "cell_type": "code",
   "execution_count": 25,
   "metadata": {
    "execution": {
     "iopub.execute_input": "2020-11-09T00:15:12.909034Z",
     "iopub.status.busy": "2020-11-09T00:15:12.908385Z",
     "iopub.status.idle": "2020-11-09T00:15:12.930805Z",
     "shell.execute_reply": "2020-11-09T00:15:12.931868Z"
    },
    "papermill": {
     "duration": 0.080627,
     "end_time": "2020-11-09T00:15:12.932780",
     "exception": false,
     "start_time": "2020-11-09T00:15:12.852153",
     "status": "completed"
    },
    "tags": []
   },
   "outputs": [],
   "source": [
    "plot_testing = model_new(testing_xdata)"
   ]
  },
  {
   "cell_type": "code",
   "execution_count": 26,
   "metadata": {
    "execution": {
     "iopub.execute_input": "2020-11-09T00:15:13.045991Z",
     "iopub.status.busy": "2020-11-09T00:15:13.045392Z",
     "iopub.status.idle": "2020-11-09T00:15:13.265530Z",
     "shell.execute_reply": "2020-11-09T00:15:13.266036Z"
    },
    "papermill": {
     "duration": 0.283638,
     "end_time": "2020-11-09T00:15:13.266192",
     "exception": false,
     "start_time": "2020-11-09T00:15:12.982554",
     "status": "completed"
    },
    "tags": []
   },
   "outputs": [
    {
     "data": {
      "text/plain": [
       "Text(0.5, 1.0, 'Outputs')"
      ]
     },
     "execution_count": 26,
     "metadata": {},
     "output_type": "execute_result"
    },
    {
     "data": {
      "image/png": "[encoded data removed]",
      "text/plain": [
       "<Figure size 576x504 with 1 Axes>"
      ]
     },
     "metadata": {
      "needs_background": "light"
     },
     "output_type": "display_data"
    }
   ],
   "source": [
    "plt.figure(figsize=(8,7))\n",
    "plt.scatter(plot_testing[:,0], plot_testing[:,1], alpha = 0.1, c = y_test.ravel());\n",
    "plt.title('Outputs')"
   ]
  },
  {
   "cell_type": "markdown",
   "metadata": {
    "papermill": {
     "duration": 0.048637,
     "end_time": "2020-11-09T00:15:13.365269",
     "exception": false,
     "start_time": "2020-11-09T00:15:13.316632",
     "status": "completed"
    },
    "tags": []
   },
   "source": [
    "### Plotting probability contours"
   ]
  },
  {
   "cell_type": "code",
   "execution_count": 27,
   "metadata": {
    "execution": {
     "iopub.execute_input": "2020-11-09T00:15:13.472698Z",
     "iopub.status.busy": "2020-11-09T00:15:13.471439Z",
     "iopub.status.idle": "2020-11-09T00:15:13.485282Z",
     "shell.execute_reply": "2020-11-09T00:15:13.484775Z"
    },
    "papermill": {
     "duration": 0.068154,
     "end_time": "2020-11-09T00:15:13.485418",
     "exception": false,
     "start_time": "2020-11-09T00:15:13.417264",
     "status": "completed"
    },
    "tags": []
   },
   "outputs": [],
   "source": [
    "model_prob = Model(layers[-2:]) "
   ]
  },
  {
   "cell_type": "code",
   "execution_count": 28,
   "metadata": {
    "execution": {
     "iopub.execute_input": "2020-11-09T00:15:13.597751Z",
     "iopub.status.busy": "2020-11-09T00:15:13.597158Z",
     "iopub.status.idle": "2020-11-09T00:15:13.608499Z",
     "shell.execute_reply": "2020-11-09T00:15:13.608969Z"
    },
    "papermill": {
     "duration": 0.073226,
     "end_time": "2020-11-09T00:15:13.609122",
     "exception": false,
     "start_time": "2020-11-09T00:15:13.535896",
     "status": "completed"
    },
    "tags": []
   },
   "outputs": [],
   "source": [
    "# Adjust the x and y ranges according to the above generated plot.\n",
    "x_range = np.linspace(-4, 1, 100) \n",
    "y_range = np.linspace(-6, 6, 100) \n",
    "x_grid, y_grid = np.meshgrid(x_range, y_range) # x_grid and y_grig are of size 100 X 100\n",
    "\n",
    "# converting x_grid and y_grid to continuous arrays\n",
    "x_grid_flat = np.ravel(x_grid)\n",
    "y_grid_flat = np.ravel(y_grid)\n",
    "\n",
    "# The last layer of the current model takes two columns as input. Hence transpose of np.vstack() is required.\n",
    "X = np.vstack((x_grid_flat, y_grid_flat)).T\n",
    "\n",
    "# x_grid and y_grid are of size 100 x 100\n",
    "probability_contour = model_prob(X).reshape(100,100) "
   ]
  },
  {
   "cell_type": "code",
   "execution_count": 29,
   "metadata": {
    "execution": {
     "iopub.execute_input": "2020-11-09T00:15:13.726247Z",
     "iopub.status.busy": "2020-11-09T00:15:13.725659Z",
     "iopub.status.idle": "2020-11-09T00:15:13.987589Z",
     "shell.execute_reply": "2020-11-09T00:15:13.987079Z"
    },
    "papermill": {
     "duration": 0.321969,
     "end_time": "2020-11-09T00:15:13.987721",
     "exception": false,
     "start_time": "2020-11-09T00:15:13.665752",
     "status": "completed"
    },
    "tags": []
   },
   "outputs": [
    {
     "data": {
      "image/png": "[encoded data removed]",
      "text/plain": [
       "<Figure size 720x648 with 1 Axes>"
      ]
     },
     "metadata": {
      "needs_background": "light"
     },
     "output_type": "display_data"
    }
   ],
   "source": [
    "plt.figure(figsize=(10,9))\n",
    "plt.scatter(plot_testing[:,0], plot_testing[:,1], alpha = 0.1, c = y_test.ravel())\n",
    "contours = plt.contour(x_grid,y_grid,probability_contour)\n",
    "plt.title('Probability Contours')\n",
    "plt.clabel(contours, inline = True );"
   ]
  }
 ],
 "metadata": {
  "kernelspec": {
   "display_name": "Python 3",
   "language": "python",
   "name": "python3"
  },
  "language_info": {
   "codemirror_mode": {
    "name": "ipython",
    "version": 3
   },
   "file_extension": ".py",
   "mimetype": "text/x-python",
   "name": "python",
   "nbconvert_exporter": "python",
   "pygments_lexer": "ipython3",
   "version": "3.6.12"
  },
  "papermill": {
   "duration": 114.399804,
   "end_time": "2020-11-09T00:15:15.395391",
   "environment_variables": {},
   "exception": null,
   "input_path": "2020-08-11-NeuralNetwork.ipynb",
   "output_path": "2020-08-11-NeuralNetwork.ipynb",
   "parameters": {},
   "start_time": "2020-11-09T00:13:20.995587",
   "version": "2.1.2"
  }
 },
 "nbformat": 4,
 "nbformat_minor": 4
}