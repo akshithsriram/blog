{
 "cells": [
  {
   "cell_type": "markdown",
   "id": "fitted-suggestion",
   "metadata": {
    "papermill": {
     "duration": 0.029198,
     "end_time": "2021-05-29T20:35:04.870797",
     "exception": false,
     "start_time": "2021-05-29T20:35:04.841599",
     "status": "completed"
    },
    "tags": []
   },
   "source": [
    "# \"A Basic Neural Network: Differentiate Hand-Written Digits\"\n",
    "\n",
    "- badges: true\n",
    "- author: Akshith Sriram"
   ]
  },
  {
   "cell_type": "markdown",
   "id": "signal-flexibility",
   "metadata": {
    "papermill": {
     "duration": 0.025025,
     "end_time": "2021-05-29T20:35:04.921997",
     "exception": false,
     "start_time": "2021-05-29T20:35:04.896972",
     "status": "completed"
    },
    "tags": []
   },
   "source": [
    "### Key Objectives:\n",
    "- Building a neural network that differentiates two hand-written digits 3 and 8.\n",
    "- Comparing the results of this Neural Network (NN) to that of a Logistic Regression (LR) model.\n",
    "\n",
    "### Requirements:\n",
    "- 'Kudzu' : A neural network library that was designed during our course by [Univ.AI](www.univ.ai). \n",
    "- MNIST Database\n",
    "\n",
    "If MNIST is not installed, use the command `!pip install mnist` given below.\n",
    "It can be run both from the command line and Jupyter Notebook."
   ]
  },
  {
   "cell_type": "code",
   "execution_count": 1,
   "id": "british-texture",
   "metadata": {
    "execution": {
     "iopub.execute_input": "2021-05-29T20:35:04.981735Z",
     "iopub.status.busy": "2021-05-29T20:35:04.981179Z",
     "iopub.status.idle": "2021-05-29T20:35:06.768502Z",
     "shell.execute_reply": "2021-05-29T20:35:06.767658Z"
    },
    "papermill": {
     "duration": 1.821526,
     "end_time": "2021-05-29T20:35:06.768651",
     "exception": false,
     "start_time": "2021-05-29T20:35:04.947125",
     "status": "completed"
    },
    "tags": []
   },
   "outputs": [
    {
     "name": "stdout",
     "output_type": "stream",
     "text": [
      "Collecting mnist\r\n",
      "  Downloading mnist-0.2.2-py2.py3-none-any.whl (3.5 kB)\r\n"
     ]
    },
    {
     "name": "stdout",
     "output_type": "stream",
     "text": [
      "Requirement already satisfied: numpy in /opt/hostedtoolcache/Python/3.6.13/x64/lib/python3.6/site-packages (from mnist) (1.19.5)\r\n"
     ]
    },
    {
     "name": "stdout",
     "output_type": "stream",
     "text": [
      "Installing collected packages: mnist\r\n"
     ]
    },
    {
     "name": "stdout",
     "output_type": "stream",
     "text": [
      "Successfully installed mnist-0.2.2\r\n"
     ]
    }
   ],
   "source": [
    "!pip install mnist "
   ]
  },
  {
   "cell_type": "markdown",
   "id": "stunning-extra",
   "metadata": {
    "papermill": {
     "duration": 0.026495,
     "end_time": "2021-05-29T20:35:06.822616",
     "exception": false,
     "start_time": "2021-05-29T20:35:06.796121",
     "status": "completed"
    },
    "tags": []
   },
   "source": [
    "#### Importing necessary libraries"
   ]
  },
  {
   "cell_type": "code",
   "execution_count": 2,
   "id": "wooden-france",
   "metadata": {
    "execution": {
     "iopub.execute_input": "2021-05-29T20:35:06.881498Z",
     "iopub.status.busy": "2021-05-29T20:35:06.880971Z",
     "iopub.status.idle": "2021-05-29T20:35:07.378401Z",
     "shell.execute_reply": "2021-05-29T20:35:07.377918Z"
    },
    "papermill": {
     "duration": 0.529857,
     "end_time": "2021-05-29T20:35:07.378526",
     "exception": false,
     "start_time": "2021-05-29T20:35:06.848669",
     "status": "completed"
    },
    "tags": []
   },
   "outputs": [],
   "source": [
    "%load_ext autoreload\n",
    "%autoreload 2\n",
    "\n",
    "%matplotlib inline\n",
    "import matplotlib.pyplot as plt\n",
    "\n",
    "import numpy as np\n",
    "import pandas as pd"
   ]
  },
  {
   "cell_type": "markdown",
   "id": "stunning-physics",
   "metadata": {
    "papermill": {
     "duration": 0.02666,
     "end_time": "2021-05-29T20:35:07.432388",
     "exception": false,
     "start_time": "2021-05-29T20:35:07.405728",
     "status": "completed"
    },
    "tags": []
   },
   "source": [
    "### Preparing the Data"
   ]
  },
  {
   "cell_type": "code",
   "execution_count": 3,
   "id": "unauthorized-remainder",
   "metadata": {
    "execution": {
     "iopub.execute_input": "2021-05-29T20:35:07.488812Z",
     "iopub.status.busy": "2021-05-29T20:35:07.488315Z",
     "iopub.status.idle": "2021-05-29T20:35:07.498577Z",
     "shell.execute_reply": "2021-05-29T20:35:07.499037Z"
    },
    "papermill": {
     "duration": 0.040536,
     "end_time": "2021-05-29T20:35:07.499154",
     "exception": false,
     "start_time": "2021-05-29T20:35:07.458618",
     "status": "completed"
    },
    "tags": []
   },
   "outputs": [],
   "source": [
    "import mnist"
   ]
  },
  {
   "cell_type": "code",
   "execution_count": 4,
   "id": "correct-antarctica",
   "metadata": {
    "execution": {
     "iopub.execute_input": "2021-05-29T20:35:07.569135Z",
     "iopub.status.busy": "2021-05-29T20:35:07.560238Z",
     "iopub.status.idle": "2021-05-29T20:39:22.384708Z",
     "shell.execute_reply": "2021-05-29T20:39:22.384186Z"
    },
    "papermill": {
     "duration": 254.859575,
     "end_time": "2021-05-29T20:39:22.384830",
     "exception": false,
     "start_time": "2021-05-29T20:35:07.525255",
     "status": "completed"
    },
    "tags": []
   },
   "outputs": [],
   "source": [
    "train_images = mnist.train_images()\n",
    "train_labels = mnist.train_labels()"
   ]
  },
  {
   "cell_type": "code",
   "execution_count": 5,
   "id": "musical-prospect",
   "metadata": {
    "execution": {
     "iopub.execute_input": "2021-05-29T20:39:22.450125Z",
     "iopub.status.busy": "2021-05-29T20:39:22.449617Z",
     "iopub.status.idle": "2021-05-29T20:39:22.459402Z",
     "shell.execute_reply": "2021-05-29T20:39:22.460158Z"
    },
    "papermill": {
     "duration": 0.047761,
     "end_time": "2021-05-29T20:39:22.460292",
     "exception": false,
     "start_time": "2021-05-29T20:39:22.412531",
     "status": "completed"
    },
    "tags": []
   },
   "outputs": [
    {
     "data": {
      "text/plain": [
       "((60000, 28, 28), (60000,))"
      ]
     },
     "execution_count": 5,
     "metadata": {},
     "output_type": "execute_result"
    }
   ],
   "source": [
    "train_images.shape, train_labels.shape"
   ]
  },
  {
   "cell_type": "code",
   "execution_count": 6,
   "id": "preliminary-elizabeth",
   "metadata": {
    "execution": {
     "iopub.execute_input": "2021-05-29T20:39:22.520733Z",
     "iopub.status.busy": "2021-05-29T20:39:22.520239Z",
     "iopub.status.idle": "2021-05-29T20:40:02.383382Z",
     "shell.execute_reply": "2021-05-29T20:40:02.382874Z"
    },
    "papermill": {
     "duration": 39.89467,
     "end_time": "2021-05-29T20:40:02.383513",
     "exception": false,
     "start_time": "2021-05-29T20:39:22.488843",
     "status": "completed"
    },
    "tags": []
   },
   "outputs": [],
   "source": [
    "test_images = mnist.test_images()\n",
    "test_labels = mnist.test_labels()"
   ]
  },
  {
   "cell_type": "code",
   "execution_count": 7,
   "id": "acknowledged-oxygen",
   "metadata": {
    "execution": {
     "iopub.execute_input": "2021-05-29T20:40:02.442412Z",
     "iopub.status.busy": "2021-05-29T20:40:02.441916Z",
     "iopub.status.idle": "2021-05-29T20:40:02.453022Z",
     "shell.execute_reply": "2021-05-29T20:40:02.453522Z"
    },
    "papermill": {
     "duration": 0.043155,
     "end_time": "2021-05-29T20:40:02.453646",
     "exception": false,
     "start_time": "2021-05-29T20:40:02.410491",
     "status": "completed"
    },
    "tags": []
   },
   "outputs": [
    {
     "data": {
      "text/plain": [
       "((10000, 28, 28), (10000,))"
      ]
     },
     "execution_count": 7,
     "metadata": {},
     "output_type": "execute_result"
    }
   ],
   "source": [
    "test_images.shape, test_labels.shape"
   ]
  },
  {
   "cell_type": "code",
   "execution_count": 8,
   "id": "innovative-organic",
   "metadata": {
    "execution": {
     "iopub.execute_input": "2021-05-29T20:40:02.512253Z",
     "iopub.status.busy": "2021-05-29T20:40:02.511759Z",
     "iopub.status.idle": "2021-05-29T20:40:02.639300Z",
     "shell.execute_reply": "2021-05-29T20:40:02.639701Z"
    },
    "papermill": {
     "duration": 0.159633,
     "end_time": "2021-05-29T20:40:02.639830",
     "exception": false,
     "start_time": "2021-05-29T20:40:02.480197",
     "status": "completed"
    },
    "tags": []
   },
   "outputs": [
    {
     "name": "stdout",
     "output_type": "stream",
     "text": [
      "2\n"
     ]
    },
    {
     "data": {
      "text/plain": [
       "<matplotlib.image.AxesImage at 0x7f3274eba668>"
      ]
     },
     "execution_count": 8,
     "metadata": {},
     "output_type": "execute_result"
    },
    {
     "data": {
      "image/png": "[encoded data removed]",
      "text/plain": [
       "<Figure size 432x288 with 1 Axes>"
      ]
     },
     "metadata": {
      "needs_background": "light"
     },
     "output_type": "display_data"
    }
   ],
   "source": [
    "image_index = 7776 # You may select anything up to 60,000\n",
    "print(train_labels[image_index]) \n",
    "plt.imshow(train_images[image_index], cmap='Greys')"
   ]
  },
  {
   "cell_type": "markdown",
   "id": "facial-modem",
   "metadata": {
    "papermill": {
     "duration": 0.028084,
     "end_time": "2021-05-29T20:40:02.695869",
     "exception": false,
     "start_time": "2021-05-29T20:40:02.667785",
     "status": "completed"
    },
    "tags": []
   },
   "source": [
    "## Filter data to get 3 and 8 out"
   ]
  },
  {
   "cell_type": "code",
   "execution_count": 9,
   "id": "thousand-acquisition",
   "metadata": {
    "execution": {
     "iopub.execute_input": "2021-05-29T20:40:02.758644Z",
     "iopub.status.busy": "2021-05-29T20:40:02.758135Z",
     "iopub.status.idle": "2021-05-29T20:40:02.773842Z",
     "shell.execute_reply": "2021-05-29T20:40:02.774317Z"
    },
    "papermill": {
     "duration": 0.050788,
     "end_time": "2021-05-29T20:40:02.774438",
     "exception": false,
     "start_time": "2021-05-29T20:40:02.723650",
     "status": "completed"
    },
    "tags": []
   },
   "outputs": [],
   "source": [
    "train_filter = np.where((train_labels == 3 ) | (train_labels == 8))\n",
    "test_filter = np.where((test_labels == 3) | (test_labels == 8))\n",
    "X_train, y_train = train_images[train_filter], train_labels[train_filter]\n",
    "X_test, y_test = test_images[test_filter], test_labels[test_filter]"
   ]
  },
  {
   "cell_type": "markdown",
   "id": "ruled-access",
   "metadata": {
    "papermill": {
     "duration": 0.027787,
     "end_time": "2021-05-29T20:40:02.830117",
     "exception": false,
     "start_time": "2021-05-29T20:40:02.802330",
     "status": "completed"
    },
    "tags": []
   },
   "source": [
    "We normalize the pixel values in the 0 to 1 range"
   ]
  },
  {
   "cell_type": "code",
   "execution_count": 10,
   "id": "isolated-denver",
   "metadata": {
    "execution": {
     "iopub.execute_input": "2021-05-29T20:40:02.894566Z",
     "iopub.status.busy": "2021-05-29T20:40:02.894054Z",
     "iopub.status.idle": "2021-05-29T20:40:02.937844Z",
     "shell.execute_reply": "2021-05-29T20:40:02.937253Z"
    },
    "papermill": {
     "duration": 0.080217,
     "end_time": "2021-05-29T20:40:02.937971",
     "exception": false,
     "start_time": "2021-05-29T20:40:02.857754",
     "status": "completed"
    },
    "tags": []
   },
   "outputs": [],
   "source": [
    "X_train = X_train/255.\n",
    "X_test = X_test/255."
   ]
  },
  {
   "cell_type": "markdown",
   "id": "perfect-summary",
   "metadata": {
    "papermill": {
     "duration": 0.028356,
     "end_time": "2021-05-29T20:40:02.995106",
     "exception": false,
     "start_time": "2021-05-29T20:40:02.966750",
     "status": "completed"
    },
    "tags": []
   },
   "source": [
    "Setup the labels as 1 (when the digit is 3) and 0 (when the digit is 8)"
   ]
  },
  {
   "cell_type": "code",
   "execution_count": 11,
   "id": "personalized-growing",
   "metadata": {
    "execution": {
     "iopub.execute_input": "2021-05-29T20:40:03.066419Z",
     "iopub.status.busy": "2021-05-29T20:40:03.063162Z",
     "iopub.status.idle": "2021-05-29T20:40:03.068655Z",
     "shell.execute_reply": "2021-05-29T20:40:03.068166Z"
    },
    "papermill": {
     "duration": 0.045964,
     "end_time": "2021-05-29T20:40:03.068757",
     "exception": false,
     "start_time": "2021-05-29T20:40:03.022793",
     "status": "completed"
    },
    "tags": []
   },
   "outputs": [],
   "source": [
    "y_train = 1*(y_train==3)\n",
    "y_test = 1*(y_test==3)"
   ]
  },
  {
   "cell_type": "code",
   "execution_count": 12,
   "id": "considered-virgin",
   "metadata": {
    "execution": {
     "iopub.execute_input": "2021-05-29T20:40:03.129237Z",
     "iopub.status.busy": "2021-05-29T20:40:03.128741Z",
     "iopub.status.idle": "2021-05-29T20:40:03.139759Z",
     "shell.execute_reply": "2021-05-29T20:40:03.139359Z"
    },
    "papermill": {
     "duration": 0.04339,
     "end_time": "2021-05-29T20:40:03.139864",
     "exception": false,
     "start_time": "2021-05-29T20:40:03.096474",
     "status": "completed"
    },
    "tags": []
   },
   "outputs": [
    {
     "data": {
      "text/plain": [
       "((11982, 28, 28), (1984, 28, 28))"
      ]
     },
     "execution_count": 12,
     "metadata": {},
     "output_type": "execute_result"
    }
   ],
   "source": [
    "X_train.shape, X_test.shape"
   ]
  },
  {
   "cell_type": "markdown",
   "id": "civilian-mobile",
   "metadata": {
    "papermill": {
     "duration": 0.027999,
     "end_time": "2021-05-29T20:40:03.195822",
     "exception": false,
     "start_time": "2021-05-29T20:40:03.167823",
     "status": "completed"
    },
    "tags": []
   },
   "source": [
    "### Reshape the input data to create a linear array"
   ]
  },
  {
   "cell_type": "code",
   "execution_count": 13,
   "id": "colonial-adams",
   "metadata": {
    "execution": {
     "iopub.execute_input": "2021-05-29T20:40:03.270888Z",
     "iopub.status.busy": "2021-05-29T20:40:03.270379Z",
     "iopub.status.idle": "2021-05-29T20:40:03.273525Z",
     "shell.execute_reply": "2021-05-29T20:40:03.273075Z"
    },
    "papermill": {
     "duration": 0.049589,
     "end_time": "2021-05-29T20:40:03.273632",
     "exception": false,
     "start_time": "2021-05-29T20:40:03.224043",
     "status": "completed"
    },
    "tags": []
   },
   "outputs": [
    {
     "data": {
      "text/plain": [
       "((11982, 784), (1984, 784))"
      ]
     },
     "execution_count": 13,
     "metadata": {},
     "output_type": "execute_result"
    }
   ],
   "source": [
    "X_train = X_train.reshape(X_train.shape[0], -1)\n",
    "X_test = X_test.reshape(X_test.shape[0], -1)\n",
    "X_train.shape, X_test.shape"
   ]
  },
  {
   "cell_type": "markdown",
   "id": "smart-details",
   "metadata": {
    "papermill": {
     "duration": 0.028319,
     "end_time": "2021-05-29T20:40:03.330210",
     "exception": false,
     "start_time": "2021-05-29T20:40:03.301891",
     "status": "completed"
    },
    "tags": []
   },
   "source": [
    "### Importing appropriate functions from 'Kudzu'"
   ]
  },
  {
   "cell_type": "code",
   "execution_count": 14,
   "id": "celtic-trial",
   "metadata": {
    "execution": {
     "iopub.execute_input": "2021-05-29T20:40:03.393578Z",
     "iopub.status.busy": "2021-05-29T20:40:03.393045Z",
     "iopub.status.idle": "2021-05-29T20:40:03.409034Z",
     "shell.execute_reply": "2021-05-29T20:40:03.408631Z"
    },
    "papermill": {
     "duration": 0.050567,
     "end_time": "2021-05-29T20:40:03.409141",
     "exception": false,
     "start_time": "2021-05-29T20:40:03.358574",
     "status": "completed"
    },
    "tags": []
   },
   "outputs": [],
   "source": [
    "from kudzu.layer import Sigmoid\n",
    "from kudzu.layer import Relu\n",
    "from kudzu.layer import Affine, Sigmoid\n",
    "\n",
    "from kudzu.model import Model\n",
    "from kudzu.train import Learner\n",
    "from kudzu.optim import GD\n",
    "from kudzu.data import Data, Dataloader, Sampler\n",
    "\n",
    "from kudzu.callbacks import AccCallback\n",
    "from kudzu.callbacks import ClfCallback\n",
    "\n",
    "from kudzu.loss import MSE"
   ]
  },
  {
   "cell_type": "markdown",
   "id": "coupled-customer",
   "metadata": {
    "papermill": {
     "duration": 0.028255,
     "end_time": "2021-05-29T20:40:03.465757",
     "exception": false,
     "start_time": "2021-05-29T20:40:03.437502",
     "status": "completed"
    },
    "tags": []
   },
   "source": [
    "### Let us create a `Config` class, to store important parameters. \n",
    "This class essentially plays the role of a dictionary."
   ]
  },
  {
   "cell_type": "code",
   "execution_count": 15,
   "id": "young-ceiling",
   "metadata": {
    "execution": {
     "iopub.execute_input": "2021-05-29T20:40:03.534287Z",
     "iopub.status.busy": "2021-05-29T20:40:03.533781Z",
     "iopub.status.idle": "2021-05-29T20:40:03.539607Z",
     "shell.execute_reply": "2021-05-29T20:40:03.539988Z"
    },
    "papermill": {
     "duration": 0.046136,
     "end_time": "2021-05-29T20:40:03.540111",
     "exception": false,
     "start_time": "2021-05-29T20:40:03.493975",
     "status": "completed"
    },
    "tags": []
   },
   "outputs": [],
   "source": [
    "class Config:\n",
    "    pass\n",
    "config = Config()\n",
    "config.lr = 0.001\n",
    "config.num_epochs = 251\n",
    "config.bs = 50"
   ]
  },
  {
   "cell_type": "markdown",
   "id": "according-mandate",
   "metadata": {
    "papermill": {
     "duration": 0.028171,
     "end_time": "2021-05-29T20:40:03.596421",
     "exception": false,
     "start_time": "2021-05-29T20:40:03.568250",
     "status": "completed"
    },
    "tags": []
   },
   "source": [
    "### Initializing data to the variables"
   ]
  },
  {
   "cell_type": "code",
   "execution_count": 16,
   "id": "academic-disposition",
   "metadata": {
    "execution": {
     "iopub.execute_input": "2021-05-29T20:40:03.656966Z",
     "iopub.status.busy": "2021-05-29T20:40:03.656474Z",
     "iopub.status.idle": "2021-05-29T20:40:03.668153Z",
     "shell.execute_reply": "2021-05-29T20:40:03.667731Z"
    },
    "papermill": {
     "duration": 0.043393,
     "end_time": "2021-05-29T20:40:03.668254",
     "exception": false,
     "start_time": "2021-05-29T20:40:03.624861",
     "status": "completed"
    },
    "tags": []
   },
   "outputs": [],
   "source": [
    "data = Data(X_train, y_train.reshape(-1,1))\n",
    "sampler = Sampler(data, config.bs, shuffle=True)\n",
    "\n",
    "dl = Dataloader(data, sampler)\n",
    "\n",
    "opt = GD(config.lr)\n",
    "loss = MSE()"
   ]
  },
  {
   "cell_type": "code",
   "execution_count": 17,
   "id": "featured-commission",
   "metadata": {
    "execution": {
     "iopub.execute_input": "2021-05-29T20:40:03.729291Z",
     "iopub.status.busy": "2021-05-29T20:40:03.728794Z",
     "iopub.status.idle": "2021-05-29T20:40:03.739205Z",
     "shell.execute_reply": "2021-05-29T20:40:03.738807Z"
    },
    "papermill": {
     "duration": 0.042982,
     "end_time": "2021-05-29T20:40:03.739308",
     "exception": false,
     "start_time": "2021-05-29T20:40:03.696326",
     "status": "completed"
    },
    "tags": []
   },
   "outputs": [],
   "source": [
    "training_xdata = X_train\n",
    "testing_xdata = X_test\n",
    "training_ydata = y_train.reshape(-1,1)\n",
    "testing_ydata = y_test.reshape(-1,1)"
   ]
  },
  {
   "cell_type": "markdown",
   "id": "played-safety",
   "metadata": {
    "papermill": {
     "duration": 0.028066,
     "end_time": "2021-05-29T20:40:03.795536",
     "exception": false,
     "start_time": "2021-05-29T20:40:03.767470",
     "status": "completed"
    },
    "tags": []
   },
   "source": [
    "### Running Models with the Training data\n",
    "Details about the network layers:\n",
    "- A first affine layer has 784 inputs and does 100 affine transforms. These are followed by a Relu\n",
    "- A second affine layer has 100 inputs from the 100 activations of the past layer, and does 100 affine transforms. These are followed by a Relu\n",
    "- A third affine layer has 100 activations and does 2 affine transformations to create an embedding for visualization. There is no non-linearity here.\n",
    "- A final \"logistic regression\" which has an affine transform from 2 inputs to 1 output, which is squeezed through a sigmoid.\n",
    "\n",
    "Help taken from Anshuman's Notebook."
   ]
  },
  {
   "cell_type": "code",
   "execution_count": 18,
   "id": "asian-bankruptcy",
   "metadata": {
    "execution": {
     "iopub.execute_input": "2021-05-29T20:40:03.858511Z",
     "iopub.status.busy": "2021-05-29T20:40:03.858008Z",
     "iopub.status.idle": "2021-05-29T20:40:03.872126Z",
     "shell.execute_reply": "2021-05-29T20:40:03.871665Z"
    },
    "papermill": {
     "duration": 0.048683,
     "end_time": "2021-05-29T20:40:03.872243",
     "exception": false,
     "start_time": "2021-05-29T20:40:03.823560",
     "status": "completed"
    },
    "tags": []
   },
   "outputs": [],
   "source": [
    "# layers for the Neural Network\n",
    "layers = [Affine(\"first\", 784, 100), Relu(\"first\"), Affine(\"second\", 100, 100), Relu(\"second\"), Affine(\"third\", 100, 2), Affine(\"final\", 2, 1), Sigmoid(\"final\")]\n",
    "model_nn = Model(layers)\n",
    "\n",
    "# layers for the Logistic Regression\n",
    "layers_lr = [Affine(\"logits\", 784, 1), Sigmoid(\"sigmoid\")]\n",
    "model_lr = Model(layers_lr)"
   ]
  },
  {
   "cell_type": "code",
   "execution_count": 19,
   "id": "removed-butler",
   "metadata": {
    "execution": {
     "iopub.execute_input": "2021-05-29T20:40:03.937003Z",
     "iopub.status.busy": "2021-05-29T20:40:03.936427Z",
     "iopub.status.idle": "2021-05-29T20:40:03.946395Z",
     "shell.execute_reply": "2021-05-29T20:40:03.945968Z"
    },
    "papermill": {
     "duration": 0.044849,
     "end_time": "2021-05-29T20:40:03.946496",
     "exception": false,
     "start_time": "2021-05-29T20:40:03.901647",
     "status": "completed"
    },
    "tags": []
   },
   "outputs": [],
   "source": [
    "# suffix _nn stands for Neural Network.\n",
    "learner_nn = Learner(loss, model_nn, opt, config.num_epochs)\n",
    "acc_nn = ClfCallback(learner_nn, config.bs, training_xdata , testing_xdata, training_ydata, testing_ydata)\n",
    "learner_nn.set_callbacks([acc_nn])"
   ]
  },
  {
   "cell_type": "code",
   "execution_count": 20,
   "id": "conceptual-throw",
   "metadata": {
    "execution": {
     "iopub.execute_input": "2021-05-29T20:40:04.009384Z",
     "iopub.status.busy": "2021-05-29T20:40:04.008871Z",
     "iopub.status.idle": "2021-05-29T20:41:17.109705Z",
     "shell.execute_reply": "2021-05-29T20:41:17.110185Z"
    },
    "papermill": {
     "duration": 73.135701,
     "end_time": "2021-05-29T20:41:17.110316",
     "exception": false,
     "start_time": "2021-05-29T20:40:03.974615",
     "status": "completed"
    },
    "tags": []
   },
   "outputs": [
    {
     "name": "stdout",
     "output_type": "stream",
     "text": [
      "====== Neural Network ======\n"
     ]
    },
    {
     "name": "stdout",
     "output_type": "stream",
     "text": [
      "Epoch 0, Loss 0.2657\n",
      "Training Accuracy: 0.4846, Testing Accuracy: 0.4763\n",
      "\n"
     ]
    },
    {
     "name": "stdout",
     "output_type": "stream",
     "text": [
      "Epoch 10, Loss 0.1221\n",
      "Training Accuracy: 0.8867, Testing Accuracy: 0.8947\n",
      "\n"
     ]
    },
    {
     "name": "stdout",
     "output_type": "stream",
     "text": [
      "Epoch 20, Loss 0.0687\n",
      "Training Accuracy: 0.9276, Testing Accuracy: 0.9380\n",
      "\n"
     ]
    },
    {
     "name": "stdout",
     "output_type": "stream",
     "text": [
      "Epoch 30, Loss 0.0511\n",
      "Training Accuracy: 0.9431, Testing Accuracy: 0.9511\n",
      "\n"
     ]
    },
    {
     "name": "stdout",
     "output_type": "stream",
     "text": [
      "Epoch 40, Loss 0.0429\n",
      "Training Accuracy: 0.9514, Testing Accuracy: 0.9572\n",
      "\n"
     ]
    },
    {
     "name": "stdout",
     "output_type": "stream",
     "text": [
      "Epoch 50, Loss 0.0383\n",
      "Training Accuracy: 0.9557, Testing Accuracy: 0.9617\n",
      "\n"
     ]
    },
    {
     "name": "stdout",
     "output_type": "stream",
     "text": [
      "Epoch 60, Loss 0.0351\n",
      "Training Accuracy: 0.9584, Testing Accuracy: 0.9627\n",
      "\n"
     ]
    },
    {
     "name": "stdout",
     "output_type": "stream",
     "text": [
      "Epoch 70, Loss 0.0328\n",
      "Training Accuracy: 0.9618, Testing Accuracy: 0.9652\n",
      "\n"
     ]
    },
    {
     "name": "stdout",
     "output_type": "stream",
     "text": [
      "Epoch 80, Loss 0.031\n",
      "Training Accuracy: 0.9639, Testing Accuracy: 0.9667\n",
      "\n"
     ]
    },
    {
     "name": "stdout",
     "output_type": "stream",
     "text": [
      "Epoch 90, Loss 0.0295\n",
      "Training Accuracy: 0.9655, Testing Accuracy: 0.9688\n",
      "\n"
     ]
    },
    {
     "name": "stdout",
     "output_type": "stream",
     "text": [
      "Epoch 100, Loss 0.0283\n",
      "Training Accuracy: 0.9674, Testing Accuracy: 0.9693\n",
      "\n"
     ]
    },
    {
     "name": "stdout",
     "output_type": "stream",
     "text": [
      "Epoch 110, Loss 0.0272\n",
      "Training Accuracy: 0.9686, Testing Accuracy: 0.9693\n",
      "\n"
     ]
    },
    {
     "name": "stdout",
     "output_type": "stream",
     "text": [
      "Epoch 120, Loss 0.0262\n",
      "Training Accuracy: 0.9693, Testing Accuracy: 0.9698\n",
      "\n"
     ]
    },
    {
     "name": "stdout",
     "output_type": "stream",
     "text": [
      "Epoch 130, Loss 0.0254\n",
      "Training Accuracy: 0.9702, Testing Accuracy: 0.9698\n",
      "\n"
     ]
    },
    {
     "name": "stdout",
     "output_type": "stream",
     "text": [
      "Epoch 140, Loss 0.0246\n",
      "Training Accuracy: 0.9716, Testing Accuracy: 0.9703\n",
      "\n"
     ]
    },
    {
     "name": "stdout",
     "output_type": "stream",
     "text": [
      "Epoch 150, Loss 0.0239\n",
      "Training Accuracy: 0.9723, Testing Accuracy: 0.9708\n",
      "\n"
     ]
    },
    {
     "name": "stdout",
     "output_type": "stream",
     "text": [
      "Epoch 160, Loss 0.0233\n",
      "Training Accuracy: 0.9729, Testing Accuracy: 0.9728\n",
      "\n"
     ]
    },
    {
     "name": "stdout",
     "output_type": "stream",
     "text": [
      "Epoch 170, Loss 0.0227\n",
      "Training Accuracy: 0.9740, Testing Accuracy: 0.9728\n",
      "\n"
     ]
    },
    {
     "name": "stdout",
     "output_type": "stream",
     "text": [
      "Epoch 180, Loss 0.0221\n",
      "Training Accuracy: 0.9745, Testing Accuracy: 0.9743\n",
      "\n"
     ]
    },
    {
     "name": "stdout",
     "output_type": "stream",
     "text": [
      "Epoch 190, Loss 0.0216\n",
      "Training Accuracy: 0.9759, Testing Accuracy: 0.9743\n",
      "\n"
     ]
    },
    {
     "name": "stdout",
     "output_type": "stream",
     "text": [
      "Epoch 200, Loss 0.021\n",
      "Training Accuracy: 0.9761, Testing Accuracy: 0.9738\n",
      "\n"
     ]
    },
    {
     "name": "stdout",
     "output_type": "stream",
     "text": [
      "Epoch 210, Loss 0.0206\n",
      "Training Accuracy: 0.9770, Testing Accuracy: 0.9743\n",
      "\n"
     ]
    },
    {
     "name": "stdout",
     "output_type": "stream",
     "text": [
      "Epoch 220, Loss 0.0201\n",
      "Training Accuracy: 0.9776, Testing Accuracy: 0.9748\n",
      "\n"
     ]
    },
    {
     "name": "stdout",
     "output_type": "stream",
     "text": [
      "Epoch 230, Loss 0.0196\n",
      "Training Accuracy: 0.9779, Testing Accuracy: 0.9753\n",
      "\n"
     ]
    },
    {
     "name": "stdout",
     "output_type": "stream",
     "text": [
      "Epoch 240, Loss 0.0192\n",
      "Training Accuracy: 0.9786, Testing Accuracy: 0.9758\n",
      "\n"
     ]
    },
    {
     "name": "stdout",
     "output_type": "stream",
     "text": [
      "Epoch 250, Loss 0.0188\n",
      "Training Accuracy: 0.9792, Testing Accuracy: 0.9753\n",
      "\n"
     ]
    },
    {
     "data": {
      "text/plain": [
       "0.01545258555730634"
      ]
     },
     "execution_count": 20,
     "metadata": {},
     "output_type": "execute_result"
    }
   ],
   "source": [
    "print(\"====== Neural Network ======\")\n",
    "learner_nn.train_loop(dl)"
   ]
  },
  {
   "cell_type": "markdown",
   "id": "competent-suffering",
   "metadata": {
    "papermill": {
     "duration": 0.035502,
     "end_time": "2021-05-29T20:41:17.181977",
     "exception": false,
     "start_time": "2021-05-29T20:41:17.146475",
     "status": "completed"
    },
    "tags": []
   },
   "source": [
    "### Logistic Regression based Implementation."
   ]
  },
  {
   "cell_type": "code",
   "execution_count": 21,
   "id": "qualified-psychiatry",
   "metadata": {
    "execution": {
     "iopub.execute_input": "2021-05-29T20:41:17.259619Z",
     "iopub.status.busy": "2021-05-29T20:41:17.259015Z",
     "iopub.status.idle": "2021-05-29T20:41:17.270581Z",
     "shell.execute_reply": "2021-05-29T20:41:17.269650Z"
    },
    "papermill": {
     "duration": 0.053173,
     "end_time": "2021-05-29T20:41:17.270693",
     "exception": false,
     "start_time": "2021-05-29T20:41:17.217520",
     "status": "completed"
    },
    "tags": []
   },
   "outputs": [],
   "source": [
    "learner_lr = Learner(loss, model_lr, opt, config.num_epochs)\n",
    "acc_lr = ClfCallback(learner_lr, config.bs, training_xdata , testing_xdata, training_ydata, testing_ydata)\n",
    "learner_lr.set_callbacks([acc_lr])"
   ]
  },
  {
   "cell_type": "code",
   "execution_count": 22,
   "id": "average-outside",
   "metadata": {
    "execution": {
     "iopub.execute_input": "2021-05-29T20:41:17.369539Z",
     "iopub.status.busy": "2021-05-29T20:41:17.364860Z",
     "iopub.status.idle": "2021-05-29T20:41:30.308353Z",
     "shell.execute_reply": "2021-05-29T20:41:30.307652Z"
    },
    "papermill": {
     "duration": 12.995674,
     "end_time": "2021-05-29T20:41:30.308471",
     "exception": false,
     "start_time": "2021-05-29T20:41:17.312797",
     "status": "completed"
    },
    "tags": []
   },
   "outputs": [
    {
     "name": "stdout",
     "output_type": "stream",
     "text": [
      "====== Logistic Regression ======\n",
      "Epoch 0, Loss 0.2567\n",
      "Training Accuracy: 0.6123, Testing Accuracy: 0.6079\n",
      "\n"
     ]
    },
    {
     "name": "stdout",
     "output_type": "stream",
     "text": [
      "Epoch 10, Loss 0.1059\n",
      "Training Accuracy: 0.9047, Testing Accuracy: 0.9128\n",
      "\n"
     ]
    },
    {
     "name": "stdout",
     "output_type": "stream",
     "text": [
      "Epoch 20, Loss 0.0795\n",
      "Training Accuracy: 0.9305, Testing Accuracy: 0.9380\n",
      "\n"
     ]
    },
    {
     "name": "stdout",
     "output_type": "stream",
     "text": [
      "Epoch 30, Loss 0.0679\n",
      "Training Accuracy: 0.9387, Testing Accuracy: 0.9435\n",
      "\n"
     ]
    },
    {
     "name": "stdout",
     "output_type": "stream",
     "text": [
      "Epoch 40, Loss 0.0611\n",
      "Training Accuracy: 0.9433, Testing Accuracy: 0.9506\n",
      "\n"
     ]
    },
    {
     "name": "stdout",
     "output_type": "stream",
     "text": [
      "Epoch 50, Loss 0.0565\n",
      "Training Accuracy: 0.9458, Testing Accuracy: 0.9541\n",
      "\n"
     ]
    },
    {
     "name": "stdout",
     "output_type": "stream",
     "text": [
      "Epoch 60, Loss 0.0532\n",
      "Training Accuracy: 0.9484, Testing Accuracy: 0.9561\n",
      "\n"
     ]
    },
    {
     "name": "stdout",
     "output_type": "stream",
     "text": [
      "Epoch 70, Loss 0.0507\n",
      "Training Accuracy: 0.9503, Testing Accuracy: 0.9597\n",
      "\n"
     ]
    },
    {
     "name": "stdout",
     "output_type": "stream",
     "text": [
      "Epoch 80, Loss 0.0486\n",
      "Training Accuracy: 0.9520, Testing Accuracy: 0.9607\n",
      "\n"
     ]
    },
    {
     "name": "stdout",
     "output_type": "stream",
     "text": [
      "Epoch 90, Loss 0.047\n",
      "Training Accuracy: 0.9533, Testing Accuracy: 0.9617\n",
      "\n"
     ]
    },
    {
     "name": "stdout",
     "output_type": "stream",
     "text": [
      "Epoch 100, Loss 0.0456\n",
      "Training Accuracy: 0.9541, Testing Accuracy: 0.9642\n",
      "\n"
     ]
    },
    {
     "name": "stdout",
     "output_type": "stream",
     "text": [
      "Epoch 110, Loss 0.0444\n",
      "Training Accuracy: 0.9552, Testing Accuracy: 0.9647\n",
      "\n"
     ]
    },
    {
     "name": "stdout",
     "output_type": "stream",
     "text": [
      "Epoch 120, Loss 0.0434\n",
      "Training Accuracy: 0.9559, Testing Accuracy: 0.9647\n",
      "\n"
     ]
    },
    {
     "name": "stdout",
     "output_type": "stream",
     "text": [
      "Epoch 130, Loss 0.0425\n",
      "Training Accuracy: 0.9562, Testing Accuracy: 0.9652\n",
      "\n"
     ]
    },
    {
     "name": "stdout",
     "output_type": "stream",
     "text": [
      "Epoch 140, Loss 0.0417\n",
      "Training Accuracy: 0.9564, Testing Accuracy: 0.9652\n",
      "\n"
     ]
    },
    {
     "name": "stdout",
     "output_type": "stream",
     "text": [
      "Epoch 150, Loss 0.0409\n",
      "Training Accuracy: 0.9573, Testing Accuracy: 0.9652\n",
      "\n"
     ]
    },
    {
     "name": "stdout",
     "output_type": "stream",
     "text": [
      "Epoch 160, Loss 0.0403\n",
      "Training Accuracy: 0.9579, Testing Accuracy: 0.9657\n",
      "\n"
     ]
    },
    {
     "name": "stdout",
     "output_type": "stream",
     "text": [
      "Epoch 170, Loss 0.0397\n",
      "Training Accuracy: 0.9586, Testing Accuracy: 0.9657\n",
      "\n"
     ]
    },
    {
     "name": "stdout",
     "output_type": "stream",
     "text": [
      "Epoch 180, Loss 0.0392\n",
      "Training Accuracy: 0.9590, Testing Accuracy: 0.9662\n",
      "\n"
     ]
    },
    {
     "name": "stdout",
     "output_type": "stream",
     "text": [
      "Epoch 190, Loss 0.0387\n",
      "Training Accuracy: 0.9598, Testing Accuracy: 0.9662\n",
      "\n"
     ]
    },
    {
     "name": "stdout",
     "output_type": "stream",
     "text": [
      "Epoch 200, Loss 0.0382\n",
      "Training Accuracy: 0.9600, Testing Accuracy: 0.9662\n",
      "\n"
     ]
    },
    {
     "name": "stdout",
     "output_type": "stream",
     "text": [
      "Epoch 210, Loss 0.0378\n",
      "Training Accuracy: 0.9601, Testing Accuracy: 0.9662\n",
      "\n"
     ]
    },
    {
     "name": "stdout",
     "output_type": "stream",
     "text": [
      "Epoch 220, Loss 0.0374\n",
      "Training Accuracy: 0.9604, Testing Accuracy: 0.9662\n",
      "\n"
     ]
    },
    {
     "name": "stdout",
     "output_type": "stream",
     "text": [
      "Epoch 230, Loss 0.037\n",
      "Training Accuracy: 0.9609, Testing Accuracy: 0.9657\n",
      "\n"
     ]
    },
    {
     "name": "stdout",
     "output_type": "stream",
     "text": [
      "Epoch 240, Loss 0.0366\n",
      "Training Accuracy: 0.9609, Testing Accuracy: 0.9662\n",
      "\n"
     ]
    },
    {
     "name": "stdout",
     "output_type": "stream",
     "text": [
      "Epoch 250, Loss 0.0363\n",
      "Training Accuracy: 0.9610, Testing Accuracy: 0.9672\n",
      "\n"
     ]
    },
    {
     "data": {
      "text/plain": [
       "0.02499038518455535"
      ]
     },
     "execution_count": 22,
     "metadata": {},
     "output_type": "execute_result"
    }
   ],
   "source": [
    "print(\"====== Logistic Regression ======\")\n",
    "learner_lr.train_loop(dl)"
   ]
  },
  {
   "cell_type": "markdown",
   "id": "adjusted-possible",
   "metadata": {
    "papermill": {
     "duration": 0.042338,
     "end_time": "2021-05-29T20:41:30.393381",
     "exception": false,
     "start_time": "2021-05-29T20:41:30.351043",
     "status": "completed"
    },
    "tags": []
   },
   "source": [
    "### Comparing results of NN and LR"
   ]
  },
  {
   "cell_type": "code",
   "execution_count": 23,
   "id": "mental-multimedia",
   "metadata": {
    "execution": {
     "iopub.execute_input": "2021-05-29T20:41:30.486351Z",
     "iopub.status.busy": "2021-05-29T20:41:30.485821Z",
     "iopub.status.idle": "2021-05-29T20:41:30.696885Z",
     "shell.execute_reply": "2021-05-29T20:41:30.697301Z"
    },
    "papermill": {
     "duration": 0.261747,
     "end_time": "2021-05-29T20:41:30.697451",
     "exception": false,
     "start_time": "2021-05-29T20:41:30.435704",
     "status": "completed"
    },
    "tags": []
   },
   "outputs": [
    {
     "data": {
      "text/plain": [
       "<matplotlib.legend.Legend at 0x7f326ca1c0f0>"
      ]
     },
     "execution_count": 23,
     "metadata": {},
     "output_type": "execute_result"
    },
    {
     "data": {
      "image/png": "[encoded data removed]",
      "text/plain": [
       "<Figure size 1080x720 with 1 Axes>"
      ]
     },
     "metadata": {
      "needs_background": "light"
     },
     "output_type": "display_data"
    }
   ],
   "source": [
    "plt.figure(figsize=(15,10))\n",
    "\n",
    "# Neural Network plots\n",
    "plt.plot(acc_nn.accuracies, 'r-', label = \"Training Accuracies - NN\")\n",
    "plt.plot(acc_nn.test_accuracies, 'g-', label = \"Testing Accuracies - NN\")\n",
    "\n",
    "# Logistic Regression plots\n",
    "plt.plot(acc_lr.accuracies, 'k-', label = \"Training Accuracies - LR\")\n",
    "plt.plot(acc_lr.test_accuracies, 'b-', label = \"Testing Accuracies - LR\")\n",
    "\n",
    "plt.ylim(0.8, 1)\n",
    "\n",
    "plt.legend()\n",
    "\n"
   ]
  },
  {
   "cell_type": "markdown",
   "id": "sexual-flesh",
   "metadata": {
    "papermill": {
     "duration": 0.044227,
     "end_time": "2021-05-29T20:41:30.786064",
     "exception": false,
     "start_time": "2021-05-29T20:41:30.741837",
     "status": "completed"
    },
    "tags": []
   },
   "source": [
    "### From the plot, we can observe the following:\n",
    "- Neural Network achieves higher accuracy than the Logistic Regression model.\n",
    "- This apparently, is because of overfitting, i.e. NN captures more noise than data.\n",
    "- Testing accuracy of NN drops below the Training accuracy at higher epochs. This explains the over-fitting on training data.\n",
    "- Logistic Regression gives a reliable accuracy, without the above mentioned problem.\n"
   ]
  },
  {
   "cell_type": "markdown",
   "id": "institutional-pacific",
   "metadata": {
    "papermill": {
     "duration": 0.044057,
     "end_time": "2021-05-29T20:41:30.874190",
     "exception": false,
     "start_time": "2021-05-29T20:41:30.830133",
     "status": "completed"
    },
    "tags": []
   },
   "source": [
    "### Moving till the last but one layer (excluding it).\n",
    "#### Plotting the outputs of this layer of the NN."
   ]
  },
  {
   "cell_type": "code",
   "execution_count": 24,
   "id": "economic-server",
   "metadata": {
    "execution": {
     "iopub.execute_input": "2021-05-29T20:41:30.970456Z",
     "iopub.status.busy": "2021-05-29T20:41:30.969730Z",
     "iopub.status.idle": "2021-05-29T20:41:30.979889Z",
     "shell.execute_reply": "2021-05-29T20:41:30.979225Z"
    },
    "papermill": {
     "duration": 0.061567,
     "end_time": "2021-05-29T20:41:30.979999",
     "exception": false,
     "start_time": "2021-05-29T20:41:30.918432",
     "status": "completed"
    },
    "tags": []
   },
   "outputs": [],
   "source": [
    "model_new = Model(layers[:-2])"
   ]
  },
  {
   "cell_type": "code",
   "execution_count": 25,
   "id": "varied-upgrade",
   "metadata": {
    "execution": {
     "iopub.execute_input": "2021-05-29T20:41:31.075344Z",
     "iopub.status.busy": "2021-05-29T20:41:31.074847Z",
     "iopub.status.idle": "2021-05-29T20:41:31.091607Z",
     "shell.execute_reply": "2021-05-29T20:41:31.091174Z"
    },
    "papermill": {
     "duration": 0.067366,
     "end_time": "2021-05-29T20:41:31.091713",
     "exception": false,
     "start_time": "2021-05-29T20:41:31.024347",
     "status": "completed"
    },
    "tags": []
   },
   "outputs": [],
   "source": [
    "plot_testing = model_new(testing_xdata)"
   ]
  },
  {
   "cell_type": "code",
   "execution_count": 26,
   "id": "specific-handling",
   "metadata": {
    "execution": {
     "iopub.execute_input": "2021-05-29T20:41:31.208863Z",
     "iopub.status.busy": "2021-05-29T20:41:31.208336Z",
     "iopub.status.idle": "2021-05-29T20:41:31.372975Z",
     "shell.execute_reply": "2021-05-29T20:41:31.372558Z"
    },
    "papermill": {
     "duration": 0.236848,
     "end_time": "2021-05-29T20:41:31.373091",
     "exception": false,
     "start_time": "2021-05-29T20:41:31.136243",
     "status": "completed"
    },
    "tags": []
   },
   "outputs": [
    {
     "data": {
      "text/plain": [
       "Text(0.5, 1.0, 'Outputs')"
      ]
     },
     "execution_count": 26,
     "metadata": {},
     "output_type": "execute_result"
    },
    {
     "data": {
      "image/png": "[encoded data removed]",
      "text/plain": [
       "<Figure size 576x504 with 1 Axes>"
      ]
     },
     "metadata": {
      "needs_background": "light"
     },
     "output_type": "display_data"
    }
   ],
   "source": [
    "plt.figure(figsize=(8,7))\n",
    "plt.scatter(plot_testing[:,0], plot_testing[:,1], alpha = 0.1, c = y_test.ravel());\n",
    "plt.title('Outputs')"
   ]
  },
  {
   "cell_type": "markdown",
   "id": "described-knowing",
   "metadata": {
    "papermill": {
     "duration": 0.04609,
     "end_time": "2021-05-29T20:41:31.465591",
     "exception": false,
     "start_time": "2021-05-29T20:41:31.419501",
     "status": "completed"
    },
    "tags": []
   },
   "source": [
    "### Plotting probability contours"
   ]
  },
  {
   "cell_type": "code",
   "execution_count": 27,
   "id": "needed-growing",
   "metadata": {
    "execution": {
     "iopub.execute_input": "2021-05-29T20:41:31.564334Z",
     "iopub.status.busy": "2021-05-29T20:41:31.562951Z",
     "iopub.status.idle": "2021-05-29T20:41:31.573479Z",
     "shell.execute_reply": "2021-05-29T20:41:31.573029Z"
    },
    "papermill": {
     "duration": 0.061689,
     "end_time": "2021-05-29T20:41:31.573586",
     "exception": false,
     "start_time": "2021-05-29T20:41:31.511897",
     "status": "completed"
    },
    "tags": []
   },
   "outputs": [],
   "source": [
    "model_prob = Model(layers[-2:]) "
   ]
  },
  {
   "cell_type": "code",
   "execution_count": 28,
   "id": "introductory-enforcement",
   "metadata": {
    "execution": {
     "iopub.execute_input": "2021-05-29T20:41:31.672200Z",
     "iopub.status.busy": "2021-05-29T20:41:31.671699Z",
     "iopub.status.idle": "2021-05-29T20:41:31.683305Z",
     "shell.execute_reply": "2021-05-29T20:41:31.683694Z"
    },
    "papermill": {
     "duration": 0.063871,
     "end_time": "2021-05-29T20:41:31.683820",
     "exception": false,
     "start_time": "2021-05-29T20:41:31.619949",
     "status": "completed"
    },
    "tags": []
   },
   "outputs": [],
   "source": [
    "# Adjust the x and y ranges according to the above generated plot.\n",
    "x_range = np.linspace(-4, 1, 100) \n",
    "y_range = np.linspace(-6, 6, 100) \n",
    "x_grid, y_grid = np.meshgrid(x_range, y_range) # x_grid and y_grig are of size 100 X 100\n",
    "\n",
    "# converting x_grid and y_grid to continuous arrays\n",
    "x_grid_flat = np.ravel(x_grid)\n",
    "y_grid_flat = np.ravel(y_grid)\n",
    "\n",
    "# The last layer of the current model takes two columns as input. Hence transpose of np.vstack() is required.\n",
    "X = np.vstack((x_grid_flat, y_grid_flat)).T\n",
    "\n",
    "# x_grid and y_grid are of size 100 x 100\n",
    "probability_contour = model_prob(X).reshape(100,100) "
   ]
  },
  {
   "cell_type": "code",
   "execution_count": 29,
   "id": "understood-landing",
   "metadata": {
    "execution": {
     "iopub.execute_input": "2021-05-29T20:41:31.785252Z",
     "iopub.status.busy": "2021-05-29T20:41:31.784727Z",
     "iopub.status.idle": "2021-05-29T20:41:31.994586Z",
     "shell.execute_reply": "2021-05-29T20:41:31.994143Z"
    },
    "papermill": {
     "duration": 0.264162,
     "end_time": "2021-05-29T20:41:31.994696",
     "exception": false,
     "start_time": "2021-05-29T20:41:31.730534",
     "status": "completed"
    },
    "tags": []
   },
   "outputs": [
    {
     "data": {
      "image/png": "[encoded data removed]",
      "text/plain": [
       "<Figure size 720x648 with 1 Axes>"
      ]
     },
     "metadata": {
      "needs_background": "light"
     },
     "output_type": "display_data"
    }
   ],
   "source": [
    "plt.figure(figsize=(10,9))\n",
    "plt.scatter(plot_testing[:,0], plot_testing[:,1], alpha = 0.1, c = y_test.ravel())\n",
    "contours = plt.contour(x_grid,y_grid,probability_contour)\n",
    "plt.title('Probability Contours')\n",
    "plt.clabel(contours, inline = True );"
   ]
  }
 ],
 "metadata": {
  "kernelspec": {
   "display_name": "Python 3",
   "language": "python",
   "name": "python3"
  },
  "language_info": {
   "codemirror_mode": {
    "name": "ipython",
    "version": 3
   },
   "file_extension": ".py",
   "mimetype": "text/x-python",
   "name": "python",
   "nbconvert_exporter": "python",
   "pygments_lexer": "ipython3",
   "version": "3.6.13"
  },
  "papermill": {
   "duration": 388.754432,
   "end_time": "2021-05-29T20:41:32.350949",
   "environment_variables": {},
   "exception": null,
   "input_path": "2020-08-11-NeuralNetwork.ipynb",
   "output_path": "2020-08-11-NeuralNetwork.ipynb",
   "parameters": {},
   "start_time": "2021-05-29T20:35:03.596517",
   "version": "2.1.2"
  }
 },
 "nbformat": 4,
 "nbformat_minor": 5
}