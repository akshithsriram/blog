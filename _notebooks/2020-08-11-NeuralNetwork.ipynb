{
 "cells": [
  {
   "cell_type": "markdown",
   "metadata": {
    "papermill": {
     "duration": 0.033555,
     "end_time": "2020-08-26T10:04:16.188770",
     "exception": false,
     "start_time": "2020-08-26T10:04:16.155215",
     "status": "completed"
    },
    "tags": []
   },
   "source": [
    "# \"A Basic Neural Network: Differentiate Hand-Written Digits\"\n",
    "\n",
    "- badges: true\n",
    "- author: Akshith Sriram"
   ]
  },
  {
   "cell_type": "markdown",
   "metadata": {
    "papermill": {
     "duration": 0.025433,
     "end_time": "2020-08-26T10:04:16.240453",
     "exception": false,
     "start_time": "2020-08-26T10:04:16.215020",
     "status": "completed"
    },
    "tags": []
   },
   "source": [
    "### Key Objectives:\n",
    "- Building a neural network that differentiates two hand-written digits 3 and 8.\n",
    "- Comparing the results of this Neural Network (NN) to that of a Logistic Regression (LR) model.\n",
    "\n",
    "### Requirements:\n",
    "- 'Kudzu' : A neural network library that was designed during our course by [Univ.AI](www.univ.ai). \n",
    "- MNIST Database\n",
    "\n",
    "If MNIST is not installed, use the command `!pip install mnist` given below.\n",
    "It can be run both from the command line and Jupyter Notebook."
   ]
  },
  {
   "cell_type": "code",
   "execution_count": 1,
   "metadata": {
    "execution": {
     "iopub.execute_input": "2020-08-26T10:04:16.294465Z",
     "iopub.status.busy": "2020-08-26T10:04:16.293879Z",
     "iopub.status.idle": "2020-08-26T10:04:17.728838Z",
     "shell.execute_reply": "2020-08-26T10:04:17.729330Z"
    },
    "papermill": {
     "duration": 1.46404,
     "end_time": "2020-08-26T10:04:17.729538",
     "exception": false,
     "start_time": "2020-08-26T10:04:16.265498",
     "status": "completed"
    },
    "tags": []
   },
   "outputs": [
    {
     "name": "stdout",
     "output_type": "stream",
     "text": [
      "Collecting mnist\r\n"
     ]
    },
    {
     "name": "stdout",
     "output_type": "stream",
     "text": [
      "  Downloading mnist-0.2.2-py2.py3-none-any.whl (3.5 kB)\r\n",
      "Requirement already satisfied: numpy in /opt/hostedtoolcache/Python/3.6.11/x64/lib/python3.6/site-packages (from mnist) (1.19.1)\r\n"
     ]
    },
    {
     "name": "stdout",
     "output_type": "stream",
     "text": [
      "Installing collected packages: mnist\r\n",
      "Successfully installed mnist-0.2.2\r\n"
     ]
    }
   ],
   "source": [
    "!pip install mnist "
   ]
  },
  {
   "cell_type": "markdown",
   "metadata": {
    "papermill": {
     "duration": 0.026941,
     "end_time": "2020-08-26T10:04:17.786076",
     "exception": false,
     "start_time": "2020-08-26T10:04:17.759135",
     "status": "completed"
    },
    "tags": []
   },
   "source": [
    "#### Importing necessary libraries"
   ]
  },
  {
   "cell_type": "code",
   "execution_count": 2,
   "metadata": {
    "execution": {
     "iopub.execute_input": "2020-08-26T10:04:17.860770Z",
     "iopub.status.busy": "2020-08-26T10:04:17.860166Z",
     "iopub.status.idle": "2020-08-26T10:04:18.474471Z",
     "shell.execute_reply": "2020-08-26T10:04:18.475263Z"
    },
    "papermill": {
     "duration": 0.650016,
     "end_time": "2020-08-26T10:04:18.475428",
     "exception": false,
     "start_time": "2020-08-26T10:04:17.825412",
     "status": "completed"
    },
    "tags": []
   },
   "outputs": [],
   "source": [
    "%load_ext autoreload\n",
    "%autoreload 2\n",
    "\n",
    "%matplotlib inline\n",
    "import matplotlib.pyplot as plt\n",
    "\n",
    "import numpy as np\n",
    "import pandas as pd"
   ]
  },
  {
   "cell_type": "markdown",
   "metadata": {
    "papermill": {
     "duration": 0.028288,
     "end_time": "2020-08-26T10:04:18.530725",
     "exception": false,
     "start_time": "2020-08-26T10:04:18.502437",
     "status": "completed"
    },
    "tags": []
   },
   "source": [
    "### Preparing the Data"
   ]
  },
  {
   "cell_type": "code",
   "execution_count": 3,
   "metadata": {
    "execution": {
     "iopub.execute_input": "2020-08-26T10:04:18.585564Z",
     "iopub.status.busy": "2020-08-26T10:04:18.584800Z",
     "iopub.status.idle": "2020-08-26T10:04:18.598652Z",
     "shell.execute_reply": "2020-08-26T10:04:18.598152Z"
    },
    "papermill": {
     "duration": 0.042204,
     "end_time": "2020-08-26T10:04:18.598781",
     "exception": false,
     "start_time": "2020-08-26T10:04:18.556577",
     "status": "completed"
    },
    "tags": []
   },
   "outputs": [],
   "source": [
    "import mnist"
   ]
  },
  {
   "cell_type": "code",
   "execution_count": 4,
   "metadata": {
    "execution": {
     "iopub.execute_input": "2020-08-26T10:04:18.656753Z",
     "iopub.status.busy": "2020-08-26T10:04:18.656156Z",
     "iopub.status.idle": "2020-08-26T10:04:19.591951Z",
     "shell.execute_reply": "2020-08-26T10:04:19.591383Z"
    },
    "papermill": {
     "duration": 0.96639,
     "end_time": "2020-08-26T10:04:19.592078",
     "exception": false,
     "start_time": "2020-08-26T10:04:18.625688",
     "status": "completed"
    },
    "tags": []
   },
   "outputs": [],
   "source": [
    "train_images = mnist.train_images()\n",
    "train_labels = mnist.train_labels()"
   ]
  },
  {
   "cell_type": "code",
   "execution_count": 5,
   "metadata": {
    "execution": {
     "iopub.execute_input": "2020-08-26T10:04:19.650314Z",
     "iopub.status.busy": "2020-08-26T10:04:19.649729Z",
     "iopub.status.idle": "2020-08-26T10:04:19.664623Z",
     "shell.execute_reply": "2020-08-26T10:04:19.664157Z"
    },
    "papermill": {
     "duration": 0.045437,
     "end_time": "2020-08-26T10:04:19.664747",
     "exception": false,
     "start_time": "2020-08-26T10:04:19.619310",
     "status": "completed"
    },
    "tags": []
   },
   "outputs": [
    {
     "data": {
      "text/plain": [
       "((60000, 28, 28), (60000,))"
      ]
     },
     "execution_count": 5,
     "metadata": {},
     "output_type": "execute_result"
    }
   ],
   "source": [
    "train_images.shape, train_labels.shape"
   ]
  },
  {
   "cell_type": "code",
   "execution_count": 6,
   "metadata": {
    "execution": {
     "iopub.execute_input": "2020-08-26T10:04:19.726949Z",
     "iopub.status.busy": "2020-08-26T10:04:19.726351Z",
     "iopub.status.idle": "2020-08-26T10:04:20.121685Z",
     "shell.execute_reply": "2020-08-26T10:04:20.120470Z"
    },
    "papermill": {
     "duration": 0.429693,
     "end_time": "2020-08-26T10:04:20.121837",
     "exception": false,
     "start_time": "2020-08-26T10:04:19.692144",
     "status": "completed"
    },
    "tags": []
   },
   "outputs": [],
   "source": [
    "test_images = mnist.test_images()\n",
    "test_labels = mnist.test_labels()"
   ]
  },
  {
   "cell_type": "code",
   "execution_count": 7,
   "metadata": {
    "execution": {
     "iopub.execute_input": "2020-08-26T10:04:20.179711Z",
     "iopub.status.busy": "2020-08-26T10:04:20.179015Z",
     "iopub.status.idle": "2020-08-26T10:04:20.193717Z",
     "shell.execute_reply": "2020-08-26T10:04:20.193073Z"
    },
    "papermill": {
     "duration": 0.043685,
     "end_time": "2020-08-26T10:04:20.193855",
     "exception": false,
     "start_time": "2020-08-26T10:04:20.150170",
     "status": "completed"
    },
    "tags": []
   },
   "outputs": [
    {
     "data": {
      "text/plain": [
       "((10000, 28, 28), (10000,))"
      ]
     },
     "execution_count": 7,
     "metadata": {},
     "output_type": "execute_result"
    }
   ],
   "source": [
    "test_images.shape, test_labels.shape"
   ]
  },
  {
   "cell_type": "code",
   "execution_count": 8,
   "metadata": {
    "execution": {
     "iopub.execute_input": "2020-08-26T10:04:20.252539Z",
     "iopub.status.busy": "2020-08-26T10:04:20.251932Z",
     "iopub.status.idle": "2020-08-26T10:04:20.404034Z",
     "shell.execute_reply": "2020-08-26T10:04:20.404511Z"
    },
    "papermill": {
     "duration": 0.186086,
     "end_time": "2020-08-26T10:04:20.404665",
     "exception": false,
     "start_time": "2020-08-26T10:04:20.218579",
     "status": "completed"
    },
    "tags": []
   },
   "outputs": [
    {
     "name": "stdout",
     "output_type": "stream",
     "text": [
      "2\n"
     ]
    },
    {
     "data": {
      "text/plain": [
       "<matplotlib.image.AxesImage at 0x7f20418a0b00>"
      ]
     },
     "execution_count": 8,
     "metadata": {},
     "output_type": "execute_result"
    },
    {
     "data": {
      "image/png": "[encoded data removed]",
      "text/plain": [
       "<Figure size 432x288 with 1 Axes>"
      ]
     },
     "metadata": {
      "needs_background": "light"
     },
     "output_type": "display_data"
    }
   ],
   "source": [
    "image_index = 7776 # You may select anything up to 60,000\n",
    "print(train_labels[image_index]) \n",
    "plt.imshow(train_images[image_index], cmap='Greys')"
   ]
  },
  {
   "cell_type": "markdown",
   "metadata": {
    "papermill": {
     "duration": 0.406328,
     "end_time": "2020-08-26T10:04:20.926624",
     "exception": false,
     "start_time": "2020-08-26T10:04:20.520296",
     "status": "completed"
    },
    "tags": []
   },
   "source": [
    "## Filter data to get 3 and 8 out"
   ]
  },
  {
   "cell_type": "code",
   "execution_count": 9,
   "metadata": {
    "execution": {
     "iopub.execute_input": "2020-08-26T10:04:20.994946Z",
     "iopub.status.busy": "2020-08-26T10:04:20.994336Z",
     "iopub.status.idle": "2020-08-26T10:04:21.016814Z",
     "shell.execute_reply": "2020-08-26T10:04:21.016099Z"
    },
    "papermill": {
     "duration": 0.05659,
     "end_time": "2020-08-26T10:04:21.016988",
     "exception": false,
     "start_time": "2020-08-26T10:04:20.960398",
     "status": "completed"
    },
    "tags": []
   },
   "outputs": [],
   "source": [
    "train_filter = np.where((train_labels == 3 ) | (train_labels == 8))\n",
    "test_filter = np.where((test_labels == 3) | (test_labels == 8))\n",
    "X_train, y_train = train_images[train_filter], train_labels[train_filter]\n",
    "X_test, y_test = test_images[test_filter], test_labels[test_filter]"
   ]
  },
  {
   "cell_type": "markdown",
   "metadata": {
    "papermill": {
     "duration": 0.028185,
     "end_time": "2020-08-26T10:04:21.073358",
     "exception": false,
     "start_time": "2020-08-26T10:04:21.045173",
     "status": "completed"
    },
    "tags": []
   },
   "source": [
    "We normalize the pixel values in the 0 to 1 range"
   ]
  },
  {
   "cell_type": "code",
   "execution_count": 10,
   "metadata": {
    "execution": {
     "iopub.execute_input": "2020-08-26T10:04:21.134395Z",
     "iopub.status.busy": "2020-08-26T10:04:21.133802Z",
     "iopub.status.idle": "2020-08-26T10:04:21.188656Z",
     "shell.execute_reply": "2020-08-26T10:04:21.188127Z"
    },
    "papermill": {
     "duration": 0.086714,
     "end_time": "2020-08-26T10:04:21.188798",
     "exception": false,
     "start_time": "2020-08-26T10:04:21.102084",
     "status": "completed"
    },
    "tags": []
   },
   "outputs": [],
   "source": [
    "X_train = X_train/255.\n",
    "X_test = X_test/255."
   ]
  },
  {
   "cell_type": "markdown",
   "metadata": {
    "papermill": {
     "duration": 0.034005,
     "end_time": "2020-08-26T10:04:21.251651",
     "exception": false,
     "start_time": "2020-08-26T10:04:21.217646",
     "status": "completed"
    },
    "tags": []
   },
   "source": [
    "Setup the labels as 1 (when the digit is 3) and 0 (when the digit is 8)"
   ]
  },
  {
   "cell_type": "code",
   "execution_count": 11,
   "metadata": {
    "execution": {
     "iopub.execute_input": "2020-08-26T10:04:21.318563Z",
     "iopub.status.busy": "2020-08-26T10:04:21.317974Z",
     "iopub.status.idle": "2020-08-26T10:04:21.332240Z",
     "shell.execute_reply": "2020-08-26T10:04:21.331611Z"
    },
    "papermill": {
     "duration": 0.049153,
     "end_time": "2020-08-26T10:04:21.332420",
     "exception": false,
     "start_time": "2020-08-26T10:04:21.283267",
     "status": "completed"
    },
    "tags": []
   },
   "outputs": [],
   "source": [
    "y_train = 1*(y_train==3)\n",
    "y_test = 1*(y_test==3)"
   ]
  },
  {
   "cell_type": "code",
   "execution_count": 12,
   "metadata": {
    "execution": {
     "iopub.execute_input": "2020-08-26T10:04:21.395530Z",
     "iopub.status.busy": "2020-08-26T10:04:21.394890Z",
     "iopub.status.idle": "2020-08-26T10:04:21.409354Z",
     "shell.execute_reply": "2020-08-26T10:04:21.408811Z"
    },
    "papermill": {
     "duration": 0.048985,
     "end_time": "2020-08-26T10:04:21.409493",
     "exception": false,
     "start_time": "2020-08-26T10:04:21.360508",
     "status": "completed"
    },
    "tags": []
   },
   "outputs": [
    {
     "data": {
      "text/plain": [
       "((11982, 28, 28), (1984, 28, 28))"
      ]
     },
     "execution_count": 12,
     "metadata": {},
     "output_type": "execute_result"
    }
   ],
   "source": [
    "X_train.shape, X_test.shape"
   ]
  },
  {
   "cell_type": "markdown",
   "metadata": {
    "papermill": {
     "duration": 0.027462,
     "end_time": "2020-08-26T10:04:21.465195",
     "exception": false,
     "start_time": "2020-08-26T10:04:21.437733",
     "status": "completed"
    },
    "tags": []
   },
   "source": [
    "### Reshape the input data to create a linear array"
   ]
  },
  {
   "cell_type": "code",
   "execution_count": 13,
   "metadata": {
    "execution": {
     "iopub.execute_input": "2020-08-26T10:04:21.527527Z",
     "iopub.status.busy": "2020-08-26T10:04:21.526937Z",
     "iopub.status.idle": "2020-08-26T10:04:21.543445Z",
     "shell.execute_reply": "2020-08-26T10:04:21.542969Z"
    },
    "papermill": {
     "duration": 0.049488,
     "end_time": "2020-08-26T10:04:21.543578",
     "exception": false,
     "start_time": "2020-08-26T10:04:21.494090",
     "status": "completed"
    },
    "tags": []
   },
   "outputs": [
    {
     "data": {
      "text/plain": [
       "((11982, 784), (1984, 784))"
      ]
     },
     "execution_count": 13,
     "metadata": {},
     "output_type": "execute_result"
    }
   ],
   "source": [
    "X_train = X_train.reshape(X_train.shape[0], -1)\n",
    "X_test = X_test.reshape(X_test.shape[0], -1)\n",
    "X_train.shape, X_test.shape"
   ]
  },
  {
   "cell_type": "markdown",
   "metadata": {
    "papermill": {
     "duration": 0.026572,
     "end_time": "2020-08-26T10:04:21.598115",
     "exception": false,
     "start_time": "2020-08-26T10:04:21.571543",
     "status": "completed"
    },
    "tags": []
   },
   "source": [
    "### Importing appropriate functions from 'Kudzu'"
   ]
  },
  {
   "cell_type": "code",
   "execution_count": 14,
   "metadata": {
    "execution": {
     "iopub.execute_input": "2020-08-26T10:04:21.663196Z",
     "iopub.status.busy": "2020-08-26T10:04:21.662485Z",
     "iopub.status.idle": "2020-08-26T10:04:21.683301Z",
     "shell.execute_reply": "2020-08-26T10:04:21.682689Z"
    },
    "papermill": {
     "duration": 0.054992,
     "end_time": "2020-08-26T10:04:21.683432",
     "exception": false,
     "start_time": "2020-08-26T10:04:21.628440",
     "status": "completed"
    },
    "tags": []
   },
   "outputs": [],
   "source": [
    "from kudzu.layer import Sigmoid\n",
    "from kudzu.layer import Relu\n",
    "from kudzu.layer import Affine, Sigmoid\n",
    "\n",
    "from kudzu.model import Model\n",
    "from kudzu.train import Learner\n",
    "from kudzu.optim import GD\n",
    "from kudzu.data import Data, Dataloader, Sampler\n",
    "\n",
    "from kudzu.callbacks import AccCallback\n",
    "from kudzu.callbacks import ClfCallback\n",
    "\n",
    "from kudzu.loss import MSE"
   ]
  },
  {
   "cell_type": "markdown",
   "metadata": {
    "papermill": {
     "duration": 0.030625,
     "end_time": "2020-08-26T10:04:21.744351",
     "exception": false,
     "start_time": "2020-08-26T10:04:21.713726",
     "status": "completed"
    },
    "tags": []
   },
   "source": [
    "### Let us create a `Config` class, to store important parameters. \n",
    "This class essentially plays the role of a dictionary."
   ]
  },
  {
   "cell_type": "code",
   "execution_count": 15,
   "metadata": {
    "execution": {
     "iopub.execute_input": "2020-08-26T10:04:21.807060Z",
     "iopub.status.busy": "2020-08-26T10:04:21.806467Z",
     "iopub.status.idle": "2020-08-26T10:04:21.821145Z",
     "shell.execute_reply": "2020-08-26T10:04:21.820665Z"
    },
    "papermill": {
     "duration": 0.047693,
     "end_time": "2020-08-26T10:04:21.821305",
     "exception": false,
     "start_time": "2020-08-26T10:04:21.773612",
     "status": "completed"
    },
    "tags": []
   },
   "outputs": [],
   "source": [
    "class Config:\n",
    "    pass\n",
    "config = Config()\n",
    "config.lr = 0.001\n",
    "config.num_epochs = 251\n",
    "config.bs = 50"
   ]
  },
  {
   "cell_type": "markdown",
   "metadata": {
    "papermill": {
     "duration": 0.030525,
     "end_time": "2020-08-26T10:04:21.879738",
     "exception": false,
     "start_time": "2020-08-26T10:04:21.849213",
     "status": "completed"
    },
    "tags": []
   },
   "source": [
    "### Initializing data to the variables"
   ]
  },
  {
   "cell_type": "code",
   "execution_count": 16,
   "metadata": {
    "execution": {
     "iopub.execute_input": "2020-08-26T10:04:21.940571Z",
     "iopub.status.busy": "2020-08-26T10:04:21.939973Z",
     "iopub.status.idle": "2020-08-26T10:04:21.953772Z",
     "shell.execute_reply": "2020-08-26T10:04:21.953038Z"
    },
    "papermill": {
     "duration": 0.047707,
     "end_time": "2020-08-26T10:04:21.953973",
     "exception": false,
     "start_time": "2020-08-26T10:04:21.906266",
     "status": "completed"
    },
    "tags": []
   },
   "outputs": [],
   "source": [
    "data = Data(X_train, y_train.reshape(-1,1))\n",
    "sampler = Sampler(data, config.bs, shuffle=True)\n",
    "\n",
    "dl = Dataloader(data, sampler)\n",
    "\n",
    "opt = GD(config.lr)\n",
    "loss = MSE()"
   ]
  },
  {
   "cell_type": "code",
   "execution_count": 17,
   "metadata": {
    "execution": {
     "iopub.execute_input": "2020-08-26T10:04:22.016576Z",
     "iopub.status.busy": "2020-08-26T10:04:22.015992Z",
     "iopub.status.idle": "2020-08-26T10:04:22.029897Z",
     "shell.execute_reply": "2020-08-26T10:04:22.029443Z"
    },
    "papermill": {
     "duration": 0.045951,
     "end_time": "2020-08-26T10:04:22.030020",
     "exception": false,
     "start_time": "2020-08-26T10:04:21.984069",
     "status": "completed"
    },
    "tags": []
   },
   "outputs": [],
   "source": [
    "training_xdata = X_train\n",
    "testing_xdata = X_test\n",
    "training_ydata = y_train.reshape(-1,1)\n",
    "testing_ydata = y_test.reshape(-1,1)"
   ]
  },
  {
   "cell_type": "markdown",
   "metadata": {
    "papermill": {
     "duration": 0.030015,
     "end_time": "2020-08-26T10:04:22.088777",
     "exception": false,
     "start_time": "2020-08-26T10:04:22.058762",
     "status": "completed"
    },
    "tags": []
   },
   "source": [
    "### Running Models with the Training data\n",
    "Details about the network layers:\n",
    "- A first affine layer has 784 inputs and does 100 affine transforms. These are followed by a Relu\n",
    "- A second affine layer has 100 inputs from the 100 activations of the past layer, and does 100 affine transforms. These are followed by a Relu\n",
    "- A third affine layer has 100 activations and does 2 affine transformations to create an embedding for visualization. There is no non-linearity here.\n",
    "- A final \"logistic regression\" which has an affine transform from 2 inputs to 1 output, which is squeezed through a sigmoid.\n",
    "\n",
    "Help taken from Anshuman's Notebook."
   ]
  },
  {
   "cell_type": "code",
   "execution_count": 18,
   "metadata": {
    "execution": {
     "iopub.execute_input": "2020-08-26T10:04:22.150433Z",
     "iopub.status.busy": "2020-08-26T10:04:22.149851Z",
     "iopub.status.idle": "2020-08-26T10:04:22.169432Z",
     "shell.execute_reply": "2020-08-26T10:04:22.168898Z"
    },
    "papermill": {
     "duration": 0.051992,
     "end_time": "2020-08-26T10:04:22.169565",
     "exception": false,
     "start_time": "2020-08-26T10:04:22.117573",
     "status": "completed"
    },
    "tags": []
   },
   "outputs": [],
   "source": [
    "# layers for the Neural Network\n",
    "layers = [Affine(\"first\", 784, 100), Relu(\"first\"), Affine(\"second\", 100, 100), Relu(\"second\"), Affine(\"third\", 100, 2), Affine(\"final\", 2, 1), Sigmoid(\"final\")]\n",
    "model_nn = Model(layers)\n",
    "\n",
    "# layers for the Logistic Regression\n",
    "layers_lr = [Affine(\"logits\", 784, 1), Sigmoid(\"sigmoid\")]\n",
    "model_lr = Model(layers_lr)"
   ]
  },
  {
   "cell_type": "code",
   "execution_count": 19,
   "metadata": {
    "execution": {
     "iopub.execute_input": "2020-08-26T10:04:22.232699Z",
     "iopub.status.busy": "2020-08-26T10:04:22.232120Z",
     "iopub.status.idle": "2020-08-26T10:04:22.246745Z",
     "shell.execute_reply": "2020-08-26T10:04:22.247227Z"
    },
    "papermill": {
     "duration": 0.047962,
     "end_time": "2020-08-26T10:04:22.247374",
     "exception": false,
     "start_time": "2020-08-26T10:04:22.199412",
     "status": "completed"
    },
    "tags": []
   },
   "outputs": [],
   "source": [
    "# suffix _nn stands for Neural Network.\n",
    "learner_nn = Learner(loss, model_nn, opt, config.num_epochs)\n",
    "acc_nn = ClfCallback(learner_nn, config.bs, training_xdata , testing_xdata, training_ydata, testing_ydata)\n",
    "learner_nn.set_callbacks([acc_nn])"
   ]
  },
  {
   "cell_type": "code",
   "execution_count": 20,
   "metadata": {
    "execution": {
     "iopub.execute_input": "2020-08-26T10:04:22.310417Z",
     "iopub.status.busy": "2020-08-26T10:04:22.309812Z",
     "iopub.status.idle": "2020-08-26T10:05:50.970615Z",
     "shell.execute_reply": "2020-08-26T10:05:50.972021Z"
    },
    "papermill": {
     "duration": 88.695302,
     "end_time": "2020-08-26T10:05:50.972277",
     "exception": false,
     "start_time": "2020-08-26T10:04:22.276975",
     "status": "completed"
    },
    "tags": []
   },
   "outputs": [
    {
     "name": "stdout",
     "output_type": "stream",
     "text": [
      "====== Neural Network ======\n"
     ]
    },
    {
     "name": "stdout",
     "output_type": "stream",
     "text": [
      "Epoch 0, Loss 0.2366\n",
      "Training Accuracy: 0.7482, Testing Accuracy: 0.7399\n",
      "\n"
     ]
    },
    {
     "name": "stdout",
     "output_type": "stream",
     "text": [
      "Epoch 10, Loss 0.0685\n",
      "Training Accuracy: 0.9301, Testing Accuracy: 0.9320\n",
      "\n"
     ]
    },
    {
     "name": "stdout",
     "output_type": "stream",
     "text": [
      "Epoch 20, Loss 0.047\n",
      "Training Accuracy: 0.9483, Testing Accuracy: 0.9536\n",
      "\n"
     ]
    },
    {
     "name": "stdout",
     "output_type": "stream",
     "text": [
      "Epoch 30, Loss 0.0386\n",
      "Training Accuracy: 0.9567, Testing Accuracy: 0.9602\n",
      "\n"
     ]
    },
    {
     "name": "stdout",
     "output_type": "stream",
     "text": [
      "Epoch 40, Loss 0.034\n",
      "Training Accuracy: 0.9613, Testing Accuracy: 0.9652\n",
      "\n"
     ]
    },
    {
     "name": "stdout",
     "output_type": "stream",
     "text": [
      "Epoch 50, Loss 0.031\n",
      "Training Accuracy: 0.9645, Testing Accuracy: 0.9698\n",
      "\n"
     ]
    },
    {
     "name": "stdout",
     "output_type": "stream",
     "text": [
      "Epoch 60, Loss 0.0289\n",
      "Training Accuracy: 0.9669, Testing Accuracy: 0.9693\n",
      "\n"
     ]
    },
    {
     "name": "stdout",
     "output_type": "stream",
     "text": [
      "Epoch 70, Loss 0.0272\n",
      "Training Accuracy: 0.9685, Testing Accuracy: 0.9703\n",
      "\n"
     ]
    },
    {
     "name": "stdout",
     "output_type": "stream",
     "text": [
      "Epoch 80, Loss 0.0259\n",
      "Training Accuracy: 0.9695, Testing Accuracy: 0.9713\n",
      "\n"
     ]
    },
    {
     "name": "stdout",
     "output_type": "stream",
     "text": [
      "Epoch 90, Loss 0.0247\n",
      "Training Accuracy: 0.9710, Testing Accuracy: 0.9718\n",
      "\n"
     ]
    },
    {
     "name": "stdout",
     "output_type": "stream",
     "text": [
      "Epoch 100, Loss 0.0238\n",
      "Training Accuracy: 0.9725, Testing Accuracy: 0.9718\n",
      "\n"
     ]
    },
    {
     "name": "stdout",
     "output_type": "stream",
     "text": [
      "Epoch 110, Loss 0.0229\n",
      "Training Accuracy: 0.9734, Testing Accuracy: 0.9723\n",
      "\n"
     ]
    },
    {
     "name": "stdout",
     "output_type": "stream",
     "text": [
      "Epoch 120, Loss 0.0221\n",
      "Training Accuracy: 0.9743, Testing Accuracy: 0.9728\n",
      "\n"
     ]
    },
    {
     "name": "stdout",
     "output_type": "stream",
     "text": [
      "Epoch 130, Loss 0.0214\n",
      "Training Accuracy: 0.9752, Testing Accuracy: 0.9738\n",
      "\n"
     ]
    },
    {
     "name": "stdout",
     "output_type": "stream",
     "text": [
      "Epoch 140, Loss 0.0208\n",
      "Training Accuracy: 0.9762, Testing Accuracy: 0.9733\n",
      "\n"
     ]
    },
    {
     "name": "stdout",
     "output_type": "stream",
     "text": [
      "Epoch 150, Loss 0.0202\n",
      "Training Accuracy: 0.9769, Testing Accuracy: 0.9743\n",
      "\n"
     ]
    },
    {
     "name": "stdout",
     "output_type": "stream",
     "text": [
      "Epoch 160, Loss 0.0197\n",
      "Training Accuracy: 0.9779, Testing Accuracy: 0.9743\n",
      "\n"
     ]
    },
    {
     "name": "stdout",
     "output_type": "stream",
     "text": [
      "Epoch 170, Loss 0.0191\n",
      "Training Accuracy: 0.9789, Testing Accuracy: 0.9743\n",
      "\n"
     ]
    },
    {
     "name": "stdout",
     "output_type": "stream",
     "text": [
      "Epoch 180, Loss 0.0187\n",
      "Training Accuracy: 0.9794, Testing Accuracy: 0.9758\n",
      "\n"
     ]
    },
    {
     "name": "stdout",
     "output_type": "stream",
     "text": [
      "Epoch 190, Loss 0.0182\n",
      "Training Accuracy: 0.9796, Testing Accuracy: 0.9758\n",
      "\n"
     ]
    },
    {
     "name": "stdout",
     "output_type": "stream",
     "text": [
      "Epoch 200, Loss 0.0178\n",
      "Training Accuracy: 0.9802, Testing Accuracy: 0.9758\n",
      "\n"
     ]
    },
    {
     "name": "stdout",
     "output_type": "stream",
     "text": [
      "Epoch 210, Loss 0.0173\n",
      "Training Accuracy: 0.9806, Testing Accuracy: 0.9758\n",
      "\n"
     ]
    },
    {
     "name": "stdout",
     "output_type": "stream",
     "text": [
      "Epoch 220, Loss 0.0169\n",
      "Training Accuracy: 0.9816, Testing Accuracy: 0.9758\n",
      "\n"
     ]
    },
    {
     "name": "stdout",
     "output_type": "stream",
     "text": [
      "Epoch 230, Loss 0.0165\n",
      "Training Accuracy: 0.9823, Testing Accuracy: 0.9758\n",
      "\n"
     ]
    },
    {
     "name": "stdout",
     "output_type": "stream",
     "text": [
      "Epoch 240, Loss 0.0162\n",
      "Training Accuracy: 0.9828, Testing Accuracy: 0.9768\n",
      "\n"
     ]
    },
    {
     "name": "stdout",
     "output_type": "stream",
     "text": [
      "Epoch 250, Loss 0.0158\n",
      "Training Accuracy: 0.9832, Testing Accuracy: 0.9778\n",
      "\n"
     ]
    },
    {
     "data": {
      "text/plain": [
       "0.002690240623170473"
      ]
     },
     "execution_count": 20,
     "metadata": {},
     "output_type": "execute_result"
    }
   ],
   "source": [
    "print(\"====== Neural Network ======\")\n",
    "learner_nn.train_loop(dl)"
   ]
  },
  {
   "cell_type": "markdown",
   "metadata": {
    "papermill": {
     "duration": 0.036416,
     "end_time": "2020-08-26T10:05:51.050398",
     "exception": false,
     "start_time": "2020-08-26T10:05:51.013982",
     "status": "completed"
    },
    "tags": []
   },
   "source": [
    "### Logistic Regression based Implementation."
   ]
  },
  {
   "cell_type": "code",
   "execution_count": 21,
   "metadata": {
    "execution": {
     "iopub.execute_input": "2020-08-26T10:05:51.146789Z",
     "iopub.status.busy": "2020-08-26T10:05:51.146152Z",
     "iopub.status.idle": "2020-08-26T10:05:51.157235Z",
     "shell.execute_reply": "2020-08-26T10:05:51.157697Z"
    },
    "papermill": {
     "duration": 0.053217,
     "end_time": "2020-08-26T10:05:51.157841",
     "exception": false,
     "start_time": "2020-08-26T10:05:51.104624",
     "status": "completed"
    },
    "tags": []
   },
   "outputs": [],
   "source": [
    "learner_lr = Learner(loss, model_lr, opt, config.num_epochs)\n",
    "acc_lr = ClfCallback(learner_lr, config.bs, training_xdata , testing_xdata, training_ydata, testing_ydata)\n",
    "learner_lr.set_callbacks([acc_lr])"
   ]
  },
  {
   "cell_type": "code",
   "execution_count": 22,
   "metadata": {
    "execution": {
     "iopub.execute_input": "2020-08-26T10:05:51.237958Z",
     "iopub.status.busy": "2020-08-26T10:05:51.237346Z",
     "iopub.status.idle": "2020-08-26T10:06:07.621742Z",
     "shell.execute_reply": "2020-08-26T10:06:07.621235Z"
    },
    "papermill": {
     "duration": 16.427526,
     "end_time": "2020-08-26T10:06:07.621882",
     "exception": false,
     "start_time": "2020-08-26T10:05:51.194356",
     "status": "completed"
    },
    "tags": []
   },
   "outputs": [
    {
     "name": "stdout",
     "output_type": "stream",
     "text": [
      "====== Logistic Regression ======\n",
      "Epoch 0, Loss 0.2072\n",
      "Training Accuracy: 0.7987, Testing Accuracy: 0.8105\n",
      "\n"
     ]
    },
    {
     "name": "stdout",
     "output_type": "stream",
     "text": [
      "Epoch 10, Loss 0.1004\n",
      "Training Accuracy: 0.9101, Testing Accuracy: 0.9254\n",
      "\n"
     ]
    },
    {
     "name": "stdout",
     "output_type": "stream",
     "text": [
      "Epoch 20, Loss 0.0786\n",
      "Training Accuracy: 0.9259, Testing Accuracy: 0.9441\n",
      "\n"
     ]
    },
    {
     "name": "stdout",
     "output_type": "stream",
     "text": [
      "Epoch 30, Loss 0.068\n",
      "Training Accuracy: 0.9345, Testing Accuracy: 0.9496\n",
      "\n"
     ]
    },
    {
     "name": "stdout",
     "output_type": "stream",
     "text": [
      "Epoch 40, Loss 0.0616\n",
      "Training Accuracy: 0.9403, Testing Accuracy: 0.9546\n",
      "\n"
     ]
    },
    {
     "name": "stdout",
     "output_type": "stream",
     "text": [
      "Epoch 50, Loss 0.0571\n",
      "Training Accuracy: 0.9442, Testing Accuracy: 0.9577\n",
      "\n"
     ]
    },
    {
     "name": "stdout",
     "output_type": "stream",
     "text": [
      "Epoch 60, Loss 0.0538\n",
      "Training Accuracy: 0.9464, Testing Accuracy: 0.9607\n",
      "\n"
     ]
    },
    {
     "name": "stdout",
     "output_type": "stream",
     "text": [
      "Epoch 70, Loss 0.0513\n",
      "Training Accuracy: 0.9486, Testing Accuracy: 0.9612\n",
      "\n"
     ]
    },
    {
     "name": "stdout",
     "output_type": "stream",
     "text": [
      "Epoch 80, Loss 0.0493\n",
      "Training Accuracy: 0.9502, Testing Accuracy: 0.9612\n",
      "\n"
     ]
    },
    {
     "name": "stdout",
     "output_type": "stream",
     "text": [
      "Epoch 90, Loss 0.0476\n",
      "Training Accuracy: 0.9516, Testing Accuracy: 0.9622\n",
      "\n"
     ]
    },
    {
     "name": "stdout",
     "output_type": "stream",
     "text": [
      "Epoch 100, Loss 0.0462\n",
      "Training Accuracy: 0.9527, Testing Accuracy: 0.9647\n",
      "\n"
     ]
    },
    {
     "name": "stdout",
     "output_type": "stream",
     "text": [
      "Epoch 110, Loss 0.045\n",
      "Training Accuracy: 0.9538, Testing Accuracy: 0.9652\n",
      "\n"
     ]
    },
    {
     "name": "stdout",
     "output_type": "stream",
     "text": [
      "Epoch 120, Loss 0.0439\n",
      "Training Accuracy: 0.9548, Testing Accuracy: 0.9667\n",
      "\n"
     ]
    },
    {
     "name": "stdout",
     "output_type": "stream",
     "text": [
      "Epoch 130, Loss 0.043\n",
      "Training Accuracy: 0.9551, Testing Accuracy: 0.9662\n",
      "\n"
     ]
    },
    {
     "name": "stdout",
     "output_type": "stream",
     "text": [
      "Epoch 140, Loss 0.0422\n",
      "Training Accuracy: 0.9558, Testing Accuracy: 0.9672\n",
      "\n"
     ]
    },
    {
     "name": "stdout",
     "output_type": "stream",
     "text": [
      "Epoch 150, Loss 0.0414\n",
      "Training Accuracy: 0.9561, Testing Accuracy: 0.9677\n",
      "\n"
     ]
    },
    {
     "name": "stdout",
     "output_type": "stream",
     "text": [
      "Epoch 160, Loss 0.0408\n",
      "Training Accuracy: 0.9573, Testing Accuracy: 0.9672\n",
      "\n"
     ]
    },
    {
     "name": "stdout",
     "output_type": "stream",
     "text": [
      "Epoch 170, Loss 0.0401\n",
      "Training Accuracy: 0.9577, Testing Accuracy: 0.9672\n",
      "\n"
     ]
    },
    {
     "name": "stdout",
     "output_type": "stream",
     "text": [
      "Epoch 180, Loss 0.0396\n",
      "Training Accuracy: 0.9583, Testing Accuracy: 0.9677\n",
      "\n"
     ]
    },
    {
     "name": "stdout",
     "output_type": "stream",
     "text": [
      "Epoch 190, Loss 0.0391\n",
      "Training Accuracy: 0.9584, Testing Accuracy: 0.9682\n",
      "\n"
     ]
    },
    {
     "name": "stdout",
     "output_type": "stream",
     "text": [
      "Epoch 200, Loss 0.0386\n",
      "Training Accuracy: 0.9589, Testing Accuracy: 0.9688\n",
      "\n"
     ]
    },
    {
     "name": "stdout",
     "output_type": "stream",
     "text": [
      "Epoch 210, Loss 0.0381\n",
      "Training Accuracy: 0.9593, Testing Accuracy: 0.9688\n",
      "\n"
     ]
    },
    {
     "name": "stdout",
     "output_type": "stream",
     "text": [
      "Epoch 220, Loss 0.0377\n",
      "Training Accuracy: 0.9600, Testing Accuracy: 0.9688\n",
      "\n"
     ]
    },
    {
     "name": "stdout",
     "output_type": "stream",
     "text": [
      "Epoch 230, Loss 0.0373\n",
      "Training Accuracy: 0.9602, Testing Accuracy: 0.9693\n",
      "\n"
     ]
    },
    {
     "name": "stdout",
     "output_type": "stream",
     "text": [
      "Epoch 240, Loss 0.037\n",
      "Training Accuracy: 0.9604, Testing Accuracy: 0.9693\n",
      "\n"
     ]
    },
    {
     "name": "stdout",
     "output_type": "stream",
     "text": [
      "Epoch 250, Loss 0.0366\n",
      "Training Accuracy: 0.9608, Testing Accuracy: 0.9688\n",
      "\n"
     ]
    },
    {
     "data": {
      "text/plain": [
       "0.05494204426355154"
      ]
     },
     "execution_count": 22,
     "metadata": {},
     "output_type": "execute_result"
    }
   ],
   "source": [
    "print(\"====== Logistic Regression ======\")\n",
    "learner_lr.train_loop(dl)"
   ]
  },
  {
   "cell_type": "markdown",
   "metadata": {
    "papermill": {
     "duration": 0.048398,
     "end_time": "2020-08-26T10:06:07.719213",
     "exception": false,
     "start_time": "2020-08-26T10:06:07.670815",
     "status": "completed"
    },
    "tags": []
   },
   "source": [
    "### Comparing results of NN and LR"
   ]
  },
  {
   "cell_type": "code",
   "execution_count": 23,
   "metadata": {
    "execution": {
     "iopub.execute_input": "2020-08-26T10:06:07.818988Z",
     "iopub.status.busy": "2020-08-26T10:06:07.818229Z",
     "iopub.status.idle": "2020-08-26T10:06:08.067941Z",
     "shell.execute_reply": "2020-08-26T10:06:08.068427Z"
    },
    "papermill": {
     "duration": 0.300535,
     "end_time": "2020-08-26T10:06:08.068584",
     "exception": false,
     "start_time": "2020-08-26T10:06:07.768049",
     "status": "completed"
    },
    "tags": []
   },
   "outputs": [
    {
     "data": {
      "text/plain": [
       "<matplotlib.legend.Legend at 0x7f2041489240>"
      ]
     },
     "execution_count": 23,
     "metadata": {},
     "output_type": "execute_result"
    },
    {
     "data": {
      "image/png": "[encoded data removed]",
      "text/plain": [
       "<Figure size 1080x720 with 1 Axes>"
      ]
     },
     "metadata": {
      "needs_background": "light"
     },
     "output_type": "display_data"
    }
   ],
   "source": [
    "plt.figure(figsize=(15,10))\n",
    "\n",
    "# Neural Network plots\n",
    "plt.plot(acc_nn.accuracies, 'r-', label = \"Training Accuracies - NN\")\n",
    "plt.plot(acc_nn.test_accuracies, 'g-', label = \"Testing Accuracies - NN\")\n",
    "\n",
    "# Logistic Regression plots\n",
    "plt.plot(acc_lr.accuracies, 'k-', label = \"Training Accuracies - LR\")\n",
    "plt.plot(acc_lr.test_accuracies, 'b-', label = \"Testing Accuracies - LR\")\n",
    "\n",
    "plt.ylim(0.8, 1)\n",
    "\n",
    "plt.legend()\n",
    "\n"
   ]
  },
  {
   "cell_type": "markdown",
   "metadata": {
    "papermill": {
     "duration": 0.047598,
     "end_time": "2020-08-26T10:06:08.163687",
     "exception": false,
     "start_time": "2020-08-26T10:06:08.116089",
     "status": "completed"
    },
    "tags": []
   },
   "source": [
    "### From the plot, we can observe the following:\n",
    "- Neural Network achieves higher accuracy than the Logistic Regression model.\n",
    "- This apparently, is because of overfitting, i.e. NN captures more noise than data.\n",
    "- Testing accuracy of NN drops below the Training accuracy at higher epochs. This explains the over-fitting on training data.\n",
    "- Logistic Regression gives a reliable accuracy, without the above mentioned problem.\n"
   ]
  },
  {
   "cell_type": "markdown",
   "metadata": {
    "papermill": {
     "duration": 0.047276,
     "end_time": "2020-08-26T10:06:08.258365",
     "exception": false,
     "start_time": "2020-08-26T10:06:08.211089",
     "status": "completed"
    },
    "tags": []
   },
   "source": [
    "### Moving till the last but one layer (excluding it).\n",
    "#### Plotting the outputs of this layer of the NN."
   ]
  },
  {
   "cell_type": "code",
   "execution_count": 24,
   "metadata": {
    "execution": {
     "iopub.execute_input": "2020-08-26T10:06:08.363932Z",
     "iopub.status.busy": "2020-08-26T10:06:08.363342Z",
     "iopub.status.idle": "2020-08-26T10:06:08.378213Z",
     "shell.execute_reply": "2020-08-26T10:06:08.378787Z"
    },
    "papermill": {
     "duration": 0.066877,
     "end_time": "2020-08-26T10:06:08.378943",
     "exception": false,
     "start_time": "2020-08-26T10:06:08.312066",
     "status": "completed"
    },
    "tags": []
   },
   "outputs": [],
   "source": [
    "model_new = Model(layers[:-2])"
   ]
  },
  {
   "cell_type": "code",
   "execution_count": 25,
   "metadata": {
    "execution": {
     "iopub.execute_input": "2020-08-26T10:06:08.477903Z",
     "iopub.status.busy": "2020-08-26T10:06:08.477299Z",
     "iopub.status.idle": "2020-08-26T10:06:08.499017Z",
     "shell.execute_reply": "2020-08-26T10:06:08.499540Z"
    },
    "papermill": {
     "duration": 0.072858,
     "end_time": "2020-08-26T10:06:08.499701",
     "exception": false,
     "start_time": "2020-08-26T10:06:08.426843",
     "status": "completed"
    },
    "tags": []
   },
   "outputs": [],
   "source": [
    "plot_testing = model_new(testing_xdata)"
   ]
  },
  {
   "cell_type": "code",
   "execution_count": 26,
   "metadata": {
    "execution": {
     "iopub.execute_input": "2020-08-26T10:06:08.614981Z",
     "iopub.status.busy": "2020-08-26T10:06:08.614377Z",
     "iopub.status.idle": "2020-08-26T10:06:08.846983Z",
     "shell.execute_reply": "2020-08-26T10:06:08.848447Z"
    },
    "papermill": {
     "duration": 0.291995,
     "end_time": "2020-08-26T10:06:08.848638",
     "exception": false,
     "start_time": "2020-08-26T10:06:08.556643",
     "status": "completed"
    },
    "tags": []
   },
   "outputs": [
    {
     "data": {
      "text/plain": [
       "Text(0.5, 1.0, 'Outputs')"
      ]
     },
     "execution_count": 26,
     "metadata": {},
     "output_type": "execute_result"
    },
    {
     "data": {
      "image/png": "[encoded data removed]",
      "text/plain": [
       "<Figure size 576x504 with 1 Axes>"
      ]
     },
     "metadata": {
      "needs_background": "light"
     },
     "output_type": "display_data"
    }
   ],
   "source": [
    "plt.figure(figsize=(8,7))\n",
    "plt.scatter(plot_testing[:,0], plot_testing[:,1], alpha = 0.1, c = y_test.ravel());\n",
    "plt.title('Outputs')"
   ]
  },
  {
   "cell_type": "markdown",
   "metadata": {
    "papermill": {
     "duration": 0.051583,
     "end_time": "2020-08-26T10:06:08.950483",
     "exception": false,
     "start_time": "2020-08-26T10:06:08.898900",
     "status": "completed"
    },
    "tags": []
   },
   "source": [
    "### Plotting probability contours"
   ]
  },
  {
   "cell_type": "code",
   "execution_count": 27,
   "metadata": {
    "execution": {
     "iopub.execute_input": "2020-08-26T10:06:09.061431Z",
     "iopub.status.busy": "2020-08-26T10:06:09.060819Z",
     "iopub.status.idle": "2020-08-26T10:06:09.074645Z",
     "shell.execute_reply": "2020-08-26T10:06:09.074144Z"
    },
    "papermill": {
     "duration": 0.070987,
     "end_time": "2020-08-26T10:06:09.074775",
     "exception": false,
     "start_time": "2020-08-26T10:06:09.003788",
     "status": "completed"
    },
    "tags": []
   },
   "outputs": [],
   "source": [
    "model_prob = Model(layers[-2:]) "
   ]
  },
  {
   "cell_type": "code",
   "execution_count": 28,
   "metadata": {
    "execution": {
     "iopub.execute_input": "2020-08-26T10:06:09.186322Z",
     "iopub.status.busy": "2020-08-26T10:06:09.185717Z",
     "iopub.status.idle": "2020-08-26T10:06:09.200157Z",
     "shell.execute_reply": "2020-08-26T10:06:09.200616Z"
    },
    "papermill": {
     "duration": 0.075848,
     "end_time": "2020-08-26T10:06:09.200779",
     "exception": false,
     "start_time": "2020-08-26T10:06:09.124931",
     "status": "completed"
    },
    "tags": []
   },
   "outputs": [],
   "source": [
    "# Adjust the x and y ranges according to the above generated plot.\n",
    "x_range = np.linspace(-4, 1, 100) \n",
    "y_range = np.linspace(-6, 6, 100) \n",
    "x_grid, y_grid = np.meshgrid(x_range, y_range) # x_grid and y_grig are of size 100 X 100\n",
    "\n",
    "# converting x_grid and y_grid to continuous arrays\n",
    "x_grid_flat = np.ravel(x_grid)\n",
    "y_grid_flat = np.ravel(y_grid)\n",
    "\n",
    "# The last layer of the current model takes two columns as input. Hence transpose of np.vstack() is required.\n",
    "X = np.vstack((x_grid_flat, y_grid_flat)).T\n",
    "\n",
    "# x_grid and y_grid are of size 100 x 100\n",
    "probability_contour = model_prob(X).reshape(100,100) "
   ]
  },
  {
   "cell_type": "code",
   "execution_count": 29,
   "metadata": {
    "execution": {
     "iopub.execute_input": "2020-08-26T10:06:09.318842Z",
     "iopub.status.busy": "2020-08-26T10:06:09.318244Z",
     "iopub.status.idle": "2020-08-26T10:06:09.570365Z",
     "shell.execute_reply": "2020-08-26T10:06:09.570838Z"
    },
    "papermill": {
     "duration": 0.31797,
     "end_time": "2020-08-26T10:06:09.570995",
     "exception": false,
     "start_time": "2020-08-26T10:06:09.253025",
     "status": "completed"
    },
    "tags": []
   },
   "outputs": [
    {
     "data": {
      "image/png": "[encoded data removed]",
      "text/plain": [
       "<Figure size 720x648 with 1 Axes>"
      ]
     },
     "metadata": {
      "needs_background": "light"
     },
     "output_type": "display_data"
    }
   ],
   "source": [
    "plt.figure(figsize=(10,9))\n",
    "plt.scatter(plot_testing[:,0], plot_testing[:,1], alpha = 0.1, c = y_test.ravel())\n",
    "contours = plt.contour(x_grid,y_grid,probability_contour)\n",
    "plt.title('Probability Contours')\n",
    "plt.clabel(contours, inline = True );"
   ]
  }
 ],
 "metadata": {
  "kernelspec": {
   "display_name": "Python 3",
   "language": "python",
   "name": "python3"
  },
  "language_info": {
   "codemirror_mode": {
    "name": "ipython",
    "version": 3
   },
   "file_extension": ".py",
   "mimetype": "text/x-python",
   "name": "python",
   "nbconvert_exporter": "python",
   "pygments_lexer": "ipython3",
   "version": "3.6.11"
  },
  "papermill": {
   "duration": 115.019508,
   "end_time": "2020-08-26T10:06:10.037419",
   "environment_variables": {},
   "exception": null,
   "input_path": "2020-08-11-NeuralNetwork.ipynb",
   "output_path": "2020-08-11-NeuralNetwork.ipynb",
   "parameters": {},
   "start_time": "2020-08-26T10:04:15.017911",
   "version": "2.1.2"
  }
 },
 "nbformat": 4,
 "nbformat_minor": 4
}