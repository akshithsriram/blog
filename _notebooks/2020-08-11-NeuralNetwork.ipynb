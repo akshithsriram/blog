{
 "cells": [
  {
   "cell_type": "markdown",
   "id": "fitted-suggestion",
   "metadata": {
    "papermill": {
     "duration": 0.034822,
     "end_time": "2021-08-15T10:04:56.206664",
     "exception": false,
     "start_time": "2021-08-15T10:04:56.171842",
     "status": "completed"
    },
    "tags": []
   },
   "source": [
    "# \"A Basic Neural Network: Differentiate Hand-Written Digits\"\n",
    "\n",
    "- badges: true\n",
    "- author: Akshith Sriram"
   ]
  },
  {
   "cell_type": "markdown",
   "id": "signal-flexibility",
   "metadata": {
    "papermill": {
     "duration": 0.028493,
     "end_time": "2021-08-15T10:04:56.264136",
     "exception": false,
     "start_time": "2021-08-15T10:04:56.235643",
     "status": "completed"
    },
    "tags": []
   },
   "source": [
    "### Key Objectives:\n",
    "- Building a neural network that differentiates two hand-written digits 3 and 8.\n",
    "- Comparing the results of this Neural Network (NN) to that of a Logistic Regression (LR) model.\n",
    "\n",
    "### Requirements:\n",
    "- 'Kudzu' : A neural network library that was designed during our course by [Univ.AI](www.univ.ai). \n",
    "- MNIST Database\n",
    "\n",
    "If MNIST is not installed, use the command `!pip install mnist` given below.\n",
    "It can be run both from the command line and Jupyter Notebook."
   ]
  },
  {
   "cell_type": "code",
   "execution_count": 1,
   "id": "british-texture",
   "metadata": {
    "execution": {
     "iopub.execute_input": "2021-08-15T10:04:56.335305Z",
     "iopub.status.busy": "2021-08-15T10:04:56.334392Z",
     "iopub.status.idle": "2021-08-15T10:04:58.266644Z",
     "shell.execute_reply": "2021-08-15T10:04:58.265434Z"
    },
    "papermill": {
     "duration": 1.974382,
     "end_time": "2021-08-15T10:04:58.266810",
     "exception": false,
     "start_time": "2021-08-15T10:04:56.292428",
     "status": "completed"
    },
    "tags": []
   },
   "outputs": [
    {
     "name": "stdout",
     "output_type": "stream",
     "text": [
      "Collecting mnist\r\n"
     ]
    },
    {
     "name": "stdout",
     "output_type": "stream",
     "text": [
      "  Downloading mnist-0.2.2-py2.py3-none-any.whl (3.5 kB)\r\n",
      "Requirement already satisfied: numpy in /opt/hostedtoolcache/Python/3.6.14/x64/lib/python3.6/site-packages (from mnist) (1.19.5)\r\n"
     ]
    },
    {
     "name": "stdout",
     "output_type": "stream",
     "text": [
      "Installing collected packages: mnist\r\n"
     ]
    },
    {
     "name": "stdout",
     "output_type": "stream",
     "text": [
      "Successfully installed mnist-0.2.2\r\n"
     ]
    },
    {
     "name": "stdout",
     "output_type": "stream",
     "text": [
      "\u001b[33mWARNING: You are using pip version 21.2.3; however, version 21.2.4 is available.\r\n",
      "You should consider upgrading via the '/opt/hostedtoolcache/Python/3.6.14/x64/bin/python -m pip install --upgrade pip' command.\u001b[0m\r\n"
     ]
    }
   ],
   "source": [
    "!pip install mnist "
   ]
  },
  {
   "cell_type": "markdown",
   "id": "stunning-extra",
   "metadata": {
    "papermill": {
     "duration": 0.029777,
     "end_time": "2021-08-15T10:04:58.326772",
     "exception": false,
     "start_time": "2021-08-15T10:04:58.296995",
     "status": "completed"
    },
    "tags": []
   },
   "source": [
    "#### Importing necessary libraries"
   ]
  },
  {
   "cell_type": "code",
   "execution_count": 2,
   "id": "wooden-france",
   "metadata": {
    "execution": {
     "iopub.execute_input": "2021-08-15T10:04:58.394560Z",
     "iopub.status.busy": "2021-08-15T10:04:58.393920Z",
     "iopub.status.idle": "2021-08-15T10:04:58.998439Z",
     "shell.execute_reply": "2021-08-15T10:04:58.997308Z"
    },
    "papermill": {
     "duration": 0.642036,
     "end_time": "2021-08-15T10:04:58.998620",
     "exception": false,
     "start_time": "2021-08-15T10:04:58.356584",
     "status": "completed"
    },
    "tags": []
   },
   "outputs": [],
   "source": [
    "%load_ext autoreload\n",
    "%autoreload 2\n",
    "\n",
    "%matplotlib inline\n",
    "import matplotlib.pyplot as plt\n",
    "\n",
    "import numpy as np\n",
    "import pandas as pd"
   ]
  },
  {
   "cell_type": "markdown",
   "id": "stunning-physics",
   "metadata": {
    "papermill": {
     "duration": 0.02966,
     "end_time": "2021-08-15T10:04:59.058502",
     "exception": false,
     "start_time": "2021-08-15T10:04:59.028842",
     "status": "completed"
    },
    "tags": []
   },
   "source": [
    "### Preparing the Data"
   ]
  },
  {
   "cell_type": "code",
   "execution_count": 3,
   "id": "unauthorized-remainder",
   "metadata": {
    "execution": {
     "iopub.execute_input": "2021-08-15T10:04:59.127489Z",
     "iopub.status.busy": "2021-08-15T10:04:59.122507Z",
     "iopub.status.idle": "2021-08-15T10:04:59.134626Z",
     "shell.execute_reply": "2021-08-15T10:04:59.135120Z"
    },
    "papermill": {
     "duration": 0.046264,
     "end_time": "2021-08-15T10:04:59.135275",
     "exception": false,
     "start_time": "2021-08-15T10:04:59.089011",
     "status": "completed"
    },
    "tags": []
   },
   "outputs": [],
   "source": [
    "import mnist"
   ]
  },
  {
   "cell_type": "code",
   "execution_count": 4,
   "id": "correct-antarctica",
   "metadata": {
    "execution": {
     "iopub.execute_input": "2021-08-15T10:04:59.207974Z",
     "iopub.status.busy": "2021-08-15T10:04:59.207363Z",
     "iopub.status.idle": "2021-08-15T10:07:00.930266Z",
     "shell.execute_reply": "2021-08-15T10:07:00.929341Z"
    },
    "papermill": {
     "duration": 121.765166,
     "end_time": "2021-08-15T10:07:00.930490",
     "exception": false,
     "start_time": "2021-08-15T10:04:59.165324",
     "status": "completed"
    },
    "tags": []
   },
   "outputs": [],
   "source": [
    "train_images = mnist.train_images()\n",
    "train_labels = mnist.train_labels()"
   ]
  },
  {
   "cell_type": "code",
   "execution_count": 5,
   "id": "musical-prospect",
   "metadata": {
    "execution": {
     "iopub.execute_input": "2021-08-15T10:07:00.996256Z",
     "iopub.status.busy": "2021-08-15T10:07:00.995173Z",
     "iopub.status.idle": "2021-08-15T10:07:01.014283Z",
     "shell.execute_reply": "2021-08-15T10:07:01.013776Z"
    },
    "papermill": {
     "duration": 0.052644,
     "end_time": "2021-08-15T10:07:01.014415",
     "exception": false,
     "start_time": "2021-08-15T10:07:00.961771",
     "status": "completed"
    },
    "tags": []
   },
   "outputs": [
    {
     "data": {
      "text/plain": [
       "((60000, 28, 28), (60000,))"
      ]
     },
     "execution_count": 5,
     "metadata": {},
     "output_type": "execute_result"
    }
   ],
   "source": [
    "train_images.shape, train_labels.shape"
   ]
  },
  {
   "cell_type": "code",
   "execution_count": 6,
   "id": "preliminary-elizabeth",
   "metadata": {
    "execution": {
     "iopub.execute_input": "2021-08-15T10:07:01.080112Z",
     "iopub.status.busy": "2021-08-15T10:07:01.079505Z",
     "iopub.status.idle": "2021-08-15T10:07:23.795439Z",
     "shell.execute_reply": "2021-08-15T10:07:23.794889Z"
    },
    "papermill": {
     "duration": 22.751039,
     "end_time": "2021-08-15T10:07:23.795571",
     "exception": false,
     "start_time": "2021-08-15T10:07:01.044532",
     "status": "completed"
    },
    "tags": []
   },
   "outputs": [],
   "source": [
    "test_images = mnist.test_images()\n",
    "test_labels = mnist.test_labels()"
   ]
  },
  {
   "cell_type": "code",
   "execution_count": 7,
   "id": "acknowledged-oxygen",
   "metadata": {
    "execution": {
     "iopub.execute_input": "2021-08-15T10:07:23.860853Z",
     "iopub.status.busy": "2021-08-15T10:07:23.860261Z",
     "iopub.status.idle": "2021-08-15T10:07:23.874405Z",
     "shell.execute_reply": "2021-08-15T10:07:23.874946Z"
    },
    "papermill": {
     "duration": 0.049231,
     "end_time": "2021-08-15T10:07:23.875099",
     "exception": false,
     "start_time": "2021-08-15T10:07:23.825868",
     "status": "completed"
    },
    "tags": []
   },
   "outputs": [
    {
     "data": {
      "text/plain": [
       "((10000, 28, 28), (10000,))"
      ]
     },
     "execution_count": 7,
     "metadata": {},
     "output_type": "execute_result"
    }
   ],
   "source": [
    "test_images.shape, test_labels.shape"
   ]
  },
  {
   "cell_type": "code",
   "execution_count": 8,
   "id": "innovative-organic",
   "metadata": {
    "execution": {
     "iopub.execute_input": "2021-08-15T10:07:23.940040Z",
     "iopub.status.busy": "2021-08-15T10:07:23.939449Z",
     "iopub.status.idle": "2021-08-15T10:07:24.097171Z",
     "shell.execute_reply": "2021-08-15T10:07:24.095877Z"
    },
    "papermill": {
     "duration": 0.192074,
     "end_time": "2021-08-15T10:07:24.097392",
     "exception": false,
     "start_time": "2021-08-15T10:07:23.905318",
     "status": "completed"
    },
    "tags": []
   },
   "outputs": [
    {
     "name": "stdout",
     "output_type": "stream",
     "text": [
      "2\n"
     ]
    },
    {
     "data": {
      "text/plain": [
       "<matplotlib.image.AxesImage at 0x7f15b3406828>"
      ]
     },
     "execution_count": 8,
     "metadata": {},
     "output_type": "execute_result"
    },
    {
     "data": {
      "image/png": "[encoded data removed]",
      "text/plain": [
       "<Figure size 432x288 with 1 Axes>"
      ]
     },
     "metadata": {
      "needs_background": "light"
     },
     "output_type": "display_data"
    }
   ],
   "source": [
    "image_index = 7776 # You may select anything up to 60,000\n",
    "print(train_labels[image_index]) \n",
    "plt.imshow(train_images[image_index], cmap='Greys')"
   ]
  },
  {
   "cell_type": "markdown",
   "id": "facial-modem",
   "metadata": {
    "papermill": {
     "duration": 0.03142,
     "end_time": "2021-08-15T10:07:24.162044",
     "exception": false,
     "start_time": "2021-08-15T10:07:24.130624",
     "status": "completed"
    },
    "tags": []
   },
   "source": [
    "## Filter data to get 3 and 8 out"
   ]
  },
  {
   "cell_type": "code",
   "execution_count": 9,
   "id": "thousand-acquisition",
   "metadata": {
    "execution": {
     "iopub.execute_input": "2021-08-15T10:07:24.231027Z",
     "iopub.status.busy": "2021-08-15T10:07:24.230390Z",
     "iopub.status.idle": "2021-08-15T10:07:24.250206Z",
     "shell.execute_reply": "2021-08-15T10:07:24.249695Z"
    },
    "papermill": {
     "duration": 0.056886,
     "end_time": "2021-08-15T10:07:24.250339",
     "exception": false,
     "start_time": "2021-08-15T10:07:24.193453",
     "status": "completed"
    },
    "tags": []
   },
   "outputs": [],
   "source": [
    "train_filter = np.where((train_labels == 3 ) | (train_labels == 8))\n",
    "test_filter = np.where((test_labels == 3) | (test_labels == 8))\n",
    "X_train, y_train = train_images[train_filter], train_labels[train_filter]\n",
    "X_test, y_test = test_images[test_filter], test_labels[test_filter]"
   ]
  },
  {
   "cell_type": "markdown",
   "id": "ruled-access",
   "metadata": {
    "papermill": {
     "duration": 0.031348,
     "end_time": "2021-08-15T10:07:24.313357",
     "exception": false,
     "start_time": "2021-08-15T10:07:24.282009",
     "status": "completed"
    },
    "tags": []
   },
   "source": [
    "We normalize the pixel values in the 0 to 1 range"
   ]
  },
  {
   "cell_type": "code",
   "execution_count": 10,
   "id": "isolated-denver",
   "metadata": {
    "execution": {
     "iopub.execute_input": "2021-08-15T10:07:24.383063Z",
     "iopub.status.busy": "2021-08-15T10:07:24.382428Z",
     "iopub.status.idle": "2021-08-15T10:07:24.435303Z",
     "shell.execute_reply": "2021-08-15T10:07:24.434415Z"
    },
    "papermill": {
     "duration": 0.090849,
     "end_time": "2021-08-15T10:07:24.435522",
     "exception": false,
     "start_time": "2021-08-15T10:07:24.344673",
     "status": "completed"
    },
    "tags": []
   },
   "outputs": [],
   "source": [
    "X_train = X_train/255.\n",
    "X_test = X_test/255."
   ]
  },
  {
   "cell_type": "markdown",
   "id": "perfect-summary",
   "metadata": {
    "papermill": {
     "duration": 0.031643,
     "end_time": "2021-08-15T10:07:24.502222",
     "exception": false,
     "start_time": "2021-08-15T10:07:24.470579",
     "status": "completed"
    },
    "tags": []
   },
   "source": [
    "Setup the labels as 1 (when the digit is 3) and 0 (when the digit is 8)"
   ]
  },
  {
   "cell_type": "code",
   "execution_count": 11,
   "id": "personalized-growing",
   "metadata": {
    "execution": {
     "iopub.execute_input": "2021-08-15T10:07:24.570121Z",
     "iopub.status.busy": "2021-08-15T10:07:24.569516Z",
     "iopub.status.idle": "2021-08-15T10:07:24.584189Z",
     "shell.execute_reply": "2021-08-15T10:07:24.583707Z"
    },
    "papermill": {
     "duration": 0.050674,
     "end_time": "2021-08-15T10:07:24.584322",
     "exception": false,
     "start_time": "2021-08-15T10:07:24.533648",
     "status": "completed"
    },
    "tags": []
   },
   "outputs": [],
   "source": [
    "y_train = 1*(y_train==3)\n",
    "y_test = 1*(y_test==3)"
   ]
  },
  {
   "cell_type": "code",
   "execution_count": 12,
   "id": "considered-virgin",
   "metadata": {
    "execution": {
     "iopub.execute_input": "2021-08-15T10:07:24.654689Z",
     "iopub.status.busy": "2021-08-15T10:07:24.654048Z",
     "iopub.status.idle": "2021-08-15T10:07:24.668744Z",
     "shell.execute_reply": "2021-08-15T10:07:24.668264Z"
    },
    "papermill": {
     "duration": 0.05284,
     "end_time": "2021-08-15T10:07:24.668876",
     "exception": false,
     "start_time": "2021-08-15T10:07:24.616036",
     "status": "completed"
    },
    "tags": []
   },
   "outputs": [
    {
     "data": {
      "text/plain": [
       "((11982, 28, 28), (1984, 28, 28))"
      ]
     },
     "execution_count": 12,
     "metadata": {},
     "output_type": "execute_result"
    }
   ],
   "source": [
    "X_train.shape, X_test.shape"
   ]
  },
  {
   "cell_type": "markdown",
   "id": "civilian-mobile",
   "metadata": {
    "papermill": {
     "duration": 0.031654,
     "end_time": "2021-08-15T10:07:24.732352",
     "exception": false,
     "start_time": "2021-08-15T10:07:24.700698",
     "status": "completed"
    },
    "tags": []
   },
   "source": [
    "### Reshape the input data to create a linear array"
   ]
  },
  {
   "cell_type": "code",
   "execution_count": 13,
   "id": "colonial-adams",
   "metadata": {
    "execution": {
     "iopub.execute_input": "2021-08-15T10:07:24.802772Z",
     "iopub.status.busy": "2021-08-15T10:07:24.802151Z",
     "iopub.status.idle": "2021-08-15T10:07:24.819262Z",
     "shell.execute_reply": "2021-08-15T10:07:24.818760Z"
    },
    "papermill": {
     "duration": 0.054982,
     "end_time": "2021-08-15T10:07:24.819391",
     "exception": false,
     "start_time": "2021-08-15T10:07:24.764409",
     "status": "completed"
    },
    "tags": []
   },
   "outputs": [
    {
     "data": {
      "text/plain": [
       "((11982, 784), (1984, 784))"
      ]
     },
     "execution_count": 13,
     "metadata": {},
     "output_type": "execute_result"
    }
   ],
   "source": [
    "X_train = X_train.reshape(X_train.shape[0], -1)\n",
    "X_test = X_test.reshape(X_test.shape[0], -1)\n",
    "X_train.shape, X_test.shape"
   ]
  },
  {
   "cell_type": "markdown",
   "id": "smart-details",
   "metadata": {
    "papermill": {
     "duration": 0.03191,
     "end_time": "2021-08-15T10:07:24.883245",
     "exception": false,
     "start_time": "2021-08-15T10:07:24.851335",
     "status": "completed"
    },
    "tags": []
   },
   "source": [
    "### Importing appropriate functions from 'Kudzu'"
   ]
  },
  {
   "cell_type": "code",
   "execution_count": 14,
   "id": "celtic-trial",
   "metadata": {
    "execution": {
     "iopub.execute_input": "2021-08-15T10:07:24.953000Z",
     "iopub.status.busy": "2021-08-15T10:07:24.952390Z",
     "iopub.status.idle": "2021-08-15T10:07:24.975011Z",
     "shell.execute_reply": "2021-08-15T10:07:24.974326Z"
    },
    "papermill": {
     "duration": 0.059752,
     "end_time": "2021-08-15T10:07:24.975185",
     "exception": false,
     "start_time": "2021-08-15T10:07:24.915433",
     "status": "completed"
    },
    "tags": []
   },
   "outputs": [],
   "source": [
    "from kudzu.layer import Sigmoid\n",
    "from kudzu.layer import Relu\n",
    "from kudzu.layer import Affine, Sigmoid\n",
    "\n",
    "from kudzu.model import Model\n",
    "from kudzu.train import Learner\n",
    "from kudzu.optim import GD\n",
    "from kudzu.data import Data, Dataloader, Sampler\n",
    "\n",
    "from kudzu.callbacks import AccCallback\n",
    "from kudzu.callbacks import ClfCallback\n",
    "\n",
    "from kudzu.loss import MSE"
   ]
  },
  {
   "cell_type": "markdown",
   "id": "coupled-customer",
   "metadata": {
    "papermill": {
     "duration": 0.032101,
     "end_time": "2021-08-15T10:07:25.040744",
     "exception": false,
     "start_time": "2021-08-15T10:07:25.008643",
     "status": "completed"
    },
    "tags": []
   },
   "source": [
    "### Let us create a `Config` class, to store important parameters. \n",
    "This class essentially plays the role of a dictionary."
   ]
  },
  {
   "cell_type": "code",
   "execution_count": 15,
   "id": "young-ceiling",
   "metadata": {
    "execution": {
     "iopub.execute_input": "2021-08-15T10:07:25.110613Z",
     "iopub.status.busy": "2021-08-15T10:07:25.109995Z",
     "iopub.status.idle": "2021-08-15T10:07:25.124156Z",
     "shell.execute_reply": "2021-08-15T10:07:25.124628Z"
    },
    "papermill": {
     "duration": 0.051549,
     "end_time": "2021-08-15T10:07:25.124783",
     "exception": false,
     "start_time": "2021-08-15T10:07:25.073234",
     "status": "completed"
    },
    "tags": []
   },
   "outputs": [],
   "source": [
    "class Config:\n",
    "    pass\n",
    "config = Config()\n",
    "config.lr = 0.001\n",
    "config.num_epochs = 251\n",
    "config.bs = 50"
   ]
  },
  {
   "cell_type": "markdown",
   "id": "according-mandate",
   "metadata": {
    "papermill": {
     "duration": 0.032085,
     "end_time": "2021-08-15T10:07:25.188976",
     "exception": false,
     "start_time": "2021-08-15T10:07:25.156891",
     "status": "completed"
    },
    "tags": []
   },
   "source": [
    "### Initializing data to the variables"
   ]
  },
  {
   "cell_type": "code",
   "execution_count": 16,
   "id": "academic-disposition",
   "metadata": {
    "execution": {
     "iopub.execute_input": "2021-08-15T10:07:25.258942Z",
     "iopub.status.busy": "2021-08-15T10:07:25.258308Z",
     "iopub.status.idle": "2021-08-15T10:07:25.274426Z",
     "shell.execute_reply": "2021-08-15T10:07:25.273945Z"
    },
    "papermill": {
     "duration": 0.05342,
     "end_time": "2021-08-15T10:07:25.274579",
     "exception": false,
     "start_time": "2021-08-15T10:07:25.221159",
     "status": "completed"
    },
    "tags": []
   },
   "outputs": [],
   "source": [
    "data = Data(X_train, y_train.reshape(-1,1))\n",
    "sampler = Sampler(data, config.bs, shuffle=True)\n",
    "\n",
    "dl = Dataloader(data, sampler)\n",
    "\n",
    "opt = GD(config.lr)\n",
    "loss = MSE()"
   ]
  },
  {
   "cell_type": "code",
   "execution_count": 17,
   "id": "featured-commission",
   "metadata": {
    "execution": {
     "iopub.execute_input": "2021-08-15T10:07:25.344722Z",
     "iopub.status.busy": "2021-08-15T10:07:25.344109Z",
     "iopub.status.idle": "2021-08-15T10:07:25.358460Z",
     "shell.execute_reply": "2021-08-15T10:07:25.357964Z"
    },
    "papermill": {
     "duration": 0.051858,
     "end_time": "2021-08-15T10:07:25.358621",
     "exception": false,
     "start_time": "2021-08-15T10:07:25.306763",
     "status": "completed"
    },
    "tags": []
   },
   "outputs": [],
   "source": [
    "training_xdata = X_train\n",
    "testing_xdata = X_test\n",
    "training_ydata = y_train.reshape(-1,1)\n",
    "testing_ydata = y_test.reshape(-1,1)"
   ]
  },
  {
   "cell_type": "markdown",
   "id": "played-safety",
   "metadata": {
    "papermill": {
     "duration": 0.031988,
     "end_time": "2021-08-15T10:07:25.422842",
     "exception": false,
     "start_time": "2021-08-15T10:07:25.390854",
     "status": "completed"
    },
    "tags": []
   },
   "source": [
    "### Running Models with the Training data\n",
    "Details about the network layers:\n",
    "- A first affine layer has 784 inputs and does 100 affine transforms. These are followed by a Relu\n",
    "- A second affine layer has 100 inputs from the 100 activations of the past layer, and does 100 affine transforms. These are followed by a Relu\n",
    "- A third affine layer has 100 activations and does 2 affine transformations to create an embedding for visualization. There is no non-linearity here.\n",
    "- A final \"logistic regression\" which has an affine transform from 2 inputs to 1 output, which is squeezed through a sigmoid.\n",
    "\n",
    "Help taken from Anshuman's Notebook."
   ]
  },
  {
   "cell_type": "code",
   "execution_count": 18,
   "id": "asian-bankruptcy",
   "metadata": {
    "execution": {
     "iopub.execute_input": "2021-08-15T10:07:25.492564Z",
     "iopub.status.busy": "2021-08-15T10:07:25.491954Z",
     "iopub.status.idle": "2021-08-15T10:07:25.508557Z",
     "shell.execute_reply": "2021-08-15T10:07:25.509003Z"
    },
    "papermill": {
     "duration": 0.054545,
     "end_time": "2021-08-15T10:07:25.509159",
     "exception": false,
     "start_time": "2021-08-15T10:07:25.454614",
     "status": "completed"
    },
    "tags": []
   },
   "outputs": [],
   "source": [
    "# layers for the Neural Network\n",
    "layers = [Affine(\"first\", 784, 100), Relu(\"first\"), Affine(\"second\", 100, 100), Relu(\"second\"), Affine(\"third\", 100, 2), Affine(\"final\", 2, 1), Sigmoid(\"final\")]\n",
    "model_nn = Model(layers)\n",
    "\n",
    "# layers for the Logistic Regression\n",
    "layers_lr = [Affine(\"logits\", 784, 1), Sigmoid(\"sigmoid\")]\n",
    "model_lr = Model(layers_lr)"
   ]
  },
  {
   "cell_type": "code",
   "execution_count": 19,
   "id": "removed-butler",
   "metadata": {
    "execution": {
     "iopub.execute_input": "2021-08-15T10:07:25.582416Z",
     "iopub.status.busy": "2021-08-15T10:07:25.581809Z",
     "iopub.status.idle": "2021-08-15T10:07:25.593476Z",
     "shell.execute_reply": "2021-08-15T10:07:25.593922Z"
    },
    "papermill": {
     "duration": 0.052612,
     "end_time": "2021-08-15T10:07:25.594077",
     "exception": false,
     "start_time": "2021-08-15T10:07:25.541465",
     "status": "completed"
    },
    "tags": []
   },
   "outputs": [],
   "source": [
    "# suffix _nn stands for Neural Network.\n",
    "learner_nn = Learner(loss, model_nn, opt, config.num_epochs)\n",
    "acc_nn = ClfCallback(learner_nn, config.bs, training_xdata , testing_xdata, training_ydata, testing_ydata)\n",
    "learner_nn.set_callbacks([acc_nn])"
   ]
  },
  {
   "cell_type": "code",
   "execution_count": 20,
   "id": "conceptual-throw",
   "metadata": {
    "execution": {
     "iopub.execute_input": "2021-08-15T10:07:25.662247Z",
     "iopub.status.busy": "2021-08-15T10:07:25.661669Z",
     "iopub.status.idle": "2021-08-15T10:08:56.980969Z",
     "shell.execute_reply": "2021-08-15T10:08:56.981770Z"
    },
    "papermill": {
     "duration": 91.355649,
     "end_time": "2021-08-15T10:08:56.981925",
     "exception": false,
     "start_time": "2021-08-15T10:07:25.626276",
     "status": "completed"
    },
    "tags": []
   },
   "outputs": [
    {
     "name": "stdout",
     "output_type": "stream",
     "text": [
      "====== Neural Network ======\n"
     ]
    },
    {
     "name": "stdout",
     "output_type": "stream",
     "text": [
      "Epoch 0, Loss 0.2499\n",
      "Training Accuracy: 0.5578, Testing Accuracy: 0.5620\n",
      "\n"
     ]
    },
    {
     "name": "stdout",
     "output_type": "stream",
     "text": [
      "Epoch 10, Loss 0.1558\n",
      "Training Accuracy: 0.8810, Testing Accuracy: 0.9022\n",
      "\n"
     ]
    },
    {
     "name": "stdout",
     "output_type": "stream",
     "text": [
      "Epoch 20, Loss 0.0775\n",
      "Training Accuracy: 0.9239, Testing Accuracy: 0.9370\n",
      "\n"
     ]
    },
    {
     "name": "stdout",
     "output_type": "stream",
     "text": [
      "Epoch 30, Loss 0.0527\n",
      "Training Accuracy: 0.9432, Testing Accuracy: 0.9572\n",
      "\n"
     ]
    },
    {
     "name": "stdout",
     "output_type": "stream",
     "text": [
      "Epoch 40, Loss 0.0426\n",
      "Training Accuracy: 0.9527, Testing Accuracy: 0.9627\n",
      "\n"
     ]
    },
    {
     "name": "stdout",
     "output_type": "stream",
     "text": [
      "Epoch 50, Loss 0.0373\n",
      "Training Accuracy: 0.9580, Testing Accuracy: 0.9667\n",
      "\n"
     ]
    },
    {
     "name": "stdout",
     "output_type": "stream",
     "text": [
      "Epoch 60, Loss 0.034\n",
      "Training Accuracy: 0.9602, Testing Accuracy: 0.9677\n",
      "\n"
     ]
    },
    {
     "name": "stdout",
     "output_type": "stream",
     "text": [
      "Epoch 70, Loss 0.0317\n",
      "Training Accuracy: 0.9633, Testing Accuracy: 0.9708\n",
      "\n"
     ]
    },
    {
     "name": "stdout",
     "output_type": "stream",
     "text": [
      "Epoch 80, Loss 0.03\n",
      "Training Accuracy: 0.9654, Testing Accuracy: 0.9708\n",
      "\n"
     ]
    },
    {
     "name": "stdout",
     "output_type": "stream",
     "text": [
      "Epoch 90, Loss 0.0286\n",
      "Training Accuracy: 0.9669, Testing Accuracy: 0.9713\n",
      "\n"
     ]
    },
    {
     "name": "stdout",
     "output_type": "stream",
     "text": [
      "Epoch 100, Loss 0.0274\n",
      "Training Accuracy: 0.9687, Testing Accuracy: 0.9708\n",
      "\n"
     ]
    },
    {
     "name": "stdout",
     "output_type": "stream",
     "text": [
      "Epoch 110, Loss 0.0264\n",
      "Training Accuracy: 0.9702, Testing Accuracy: 0.9713\n",
      "\n"
     ]
    },
    {
     "name": "stdout",
     "output_type": "stream",
     "text": [
      "Epoch 120, Loss 0.0256\n",
      "Training Accuracy: 0.9710, Testing Accuracy: 0.9713\n",
      "\n"
     ]
    },
    {
     "name": "stdout",
     "output_type": "stream",
     "text": [
      "Epoch 130, Loss 0.0248\n",
      "Training Accuracy: 0.9719, Testing Accuracy: 0.9723\n",
      "\n"
     ]
    },
    {
     "name": "stdout",
     "output_type": "stream",
     "text": [
      "Epoch 140, Loss 0.0241\n",
      "Training Accuracy: 0.9728, Testing Accuracy: 0.9723\n",
      "\n"
     ]
    },
    {
     "name": "stdout",
     "output_type": "stream",
     "text": [
      "Epoch 150, Loss 0.0235\n",
      "Training Accuracy: 0.9735, Testing Accuracy: 0.9728\n",
      "\n"
     ]
    },
    {
     "name": "stdout",
     "output_type": "stream",
     "text": [
      "Epoch 160, Loss 0.0229\n",
      "Training Accuracy: 0.9741, Testing Accuracy: 0.9728\n",
      "\n"
     ]
    },
    {
     "name": "stdout",
     "output_type": "stream",
     "text": [
      "Epoch 170, Loss 0.0223\n",
      "Training Accuracy: 0.9749, Testing Accuracy: 0.9743\n",
      "\n"
     ]
    },
    {
     "name": "stdout",
     "output_type": "stream",
     "text": [
      "Epoch 180, Loss 0.0218\n",
      "Training Accuracy: 0.9751, Testing Accuracy: 0.9753\n",
      "\n"
     ]
    },
    {
     "name": "stdout",
     "output_type": "stream",
     "text": [
      "Epoch 190, Loss 0.0214\n",
      "Training Accuracy: 0.9762, Testing Accuracy: 0.9748\n",
      "\n"
     ]
    },
    {
     "name": "stdout",
     "output_type": "stream",
     "text": [
      "Epoch 200, Loss 0.0209\n",
      "Training Accuracy: 0.9764, Testing Accuracy: 0.9748\n",
      "\n"
     ]
    },
    {
     "name": "stdout",
     "output_type": "stream",
     "text": [
      "Epoch 210, Loss 0.0205\n",
      "Training Accuracy: 0.9770, Testing Accuracy: 0.9753\n",
      "\n"
     ]
    },
    {
     "name": "stdout",
     "output_type": "stream",
     "text": [
      "Epoch 220, Loss 0.0201\n",
      "Training Accuracy: 0.9772, Testing Accuracy: 0.9748\n",
      "\n"
     ]
    },
    {
     "name": "stdout",
     "output_type": "stream",
     "text": [
      "Epoch 230, Loss 0.0197\n",
      "Training Accuracy: 0.9779, Testing Accuracy: 0.9743\n",
      "\n"
     ]
    },
    {
     "name": "stdout",
     "output_type": "stream",
     "text": [
      "Epoch 240, Loss 0.0193\n",
      "Training Accuracy: 0.9782, Testing Accuracy: 0.9738\n",
      "\n"
     ]
    },
    {
     "name": "stdout",
     "output_type": "stream",
     "text": [
      "Epoch 250, Loss 0.019\n",
      "Training Accuracy: 0.9788, Testing Accuracy: 0.9743\n",
      "\n"
     ]
    },
    {
     "data": {
      "text/plain": [
       "0.048713397409309904"
      ]
     },
     "execution_count": 20,
     "metadata": {},
     "output_type": "execute_result"
    }
   ],
   "source": [
    "print(\"====== Neural Network ======\")\n",
    "learner_nn.train_loop(dl)"
   ]
  },
  {
   "cell_type": "markdown",
   "id": "competent-suffering",
   "metadata": {
    "papermill": {
     "duration": 0.039936,
     "end_time": "2021-08-15T10:08:57.062940",
     "exception": false,
     "start_time": "2021-08-15T10:08:57.023004",
     "status": "completed"
    },
    "tags": []
   },
   "source": [
    "### Logistic Regression based Implementation."
   ]
  },
  {
   "cell_type": "code",
   "execution_count": 21,
   "id": "qualified-psychiatry",
   "metadata": {
    "execution": {
     "iopub.execute_input": "2021-08-15T10:08:57.147517Z",
     "iopub.status.busy": "2021-08-15T10:08:57.146911Z",
     "iopub.status.idle": "2021-08-15T10:08:57.161896Z",
     "shell.execute_reply": "2021-08-15T10:08:57.162376Z"
    },
    "papermill": {
     "duration": 0.059748,
     "end_time": "2021-08-15T10:08:57.162560",
     "exception": false,
     "start_time": "2021-08-15T10:08:57.102812",
     "status": "completed"
    },
    "tags": []
   },
   "outputs": [],
   "source": [
    "learner_lr = Learner(loss, model_lr, opt, config.num_epochs)\n",
    "acc_lr = ClfCallback(learner_lr, config.bs, training_xdata , testing_xdata, training_ydata, testing_ydata)\n",
    "learner_lr.set_callbacks([acc_lr])"
   ]
  },
  {
   "cell_type": "code",
   "execution_count": 22,
   "id": "average-outside",
   "metadata": {
    "execution": {
     "iopub.execute_input": "2021-08-15T10:08:57.250857Z",
     "iopub.status.busy": "2021-08-15T10:08:57.250209Z",
     "iopub.status.idle": "2021-08-15T10:09:13.560815Z",
     "shell.execute_reply": "2021-08-15T10:09:13.561611Z"
    },
    "papermill": {
     "duration": 16.358828,
     "end_time": "2021-08-15T10:09:13.561770",
     "exception": false,
     "start_time": "2021-08-15T10:08:57.202942",
     "status": "completed"
    },
    "tags": []
   },
   "outputs": [
    {
     "name": "stdout",
     "output_type": "stream",
     "text": [
      "====== Logistic Regression ======\n",
      "Epoch 0, Loss 0.2366\n",
      "Training Accuracy: 0.6878, Testing Accuracy: 0.6618\n",
      "\n"
     ]
    },
    {
     "name": "stdout",
     "output_type": "stream",
     "text": [
      "Epoch 10, Loss 0.1041\n",
      "Training Accuracy: 0.9056, Testing Accuracy: 0.9173\n",
      "\n"
     ]
    },
    {
     "name": "stdout",
     "output_type": "stream",
     "text": [
      "Epoch 20, Loss 0.0805\n",
      "Training Accuracy: 0.9242, Testing Accuracy: 0.9400\n",
      "\n"
     ]
    },
    {
     "name": "stdout",
     "output_type": "stream",
     "text": [
      "Epoch 30, Loss 0.0694\n",
      "Training Accuracy: 0.9346, Testing Accuracy: 0.9461\n",
      "\n"
     ]
    },
    {
     "name": "stdout",
     "output_type": "stream",
     "text": [
      "Epoch 40, Loss 0.0627\n",
      "Training Accuracy: 0.9398, Testing Accuracy: 0.9506\n",
      "\n"
     ]
    },
    {
     "name": "stdout",
     "output_type": "stream",
     "text": [
      "Epoch 50, Loss 0.058\n",
      "Training Accuracy: 0.9427, Testing Accuracy: 0.9556\n",
      "\n"
     ]
    },
    {
     "name": "stdout",
     "output_type": "stream",
     "text": [
      "Epoch 60, Loss 0.0546\n",
      "Training Accuracy: 0.9456, Testing Accuracy: 0.9577\n",
      "\n"
     ]
    },
    {
     "name": "stdout",
     "output_type": "stream",
     "text": [
      "Epoch 70, Loss 0.0519\n",
      "Training Accuracy: 0.9476, Testing Accuracy: 0.9592\n",
      "\n"
     ]
    },
    {
     "name": "stdout",
     "output_type": "stream",
     "text": [
      "Epoch 80, Loss 0.0498\n",
      "Training Accuracy: 0.9496, Testing Accuracy: 0.9607\n",
      "\n"
     ]
    },
    {
     "name": "stdout",
     "output_type": "stream",
     "text": [
      "Epoch 90, Loss 0.048\n",
      "Training Accuracy: 0.9506, Testing Accuracy: 0.9612\n",
      "\n"
     ]
    },
    {
     "name": "stdout",
     "output_type": "stream",
     "text": [
      "Epoch 100, Loss 0.0465\n",
      "Training Accuracy: 0.9522, Testing Accuracy: 0.9627\n",
      "\n"
     ]
    },
    {
     "name": "stdout",
     "output_type": "stream",
     "text": [
      "Epoch 110, Loss 0.0453\n",
      "Training Accuracy: 0.9538, Testing Accuracy: 0.9632\n",
      "\n"
     ]
    },
    {
     "name": "stdout",
     "output_type": "stream",
     "text": [
      "Epoch 120, Loss 0.0441\n",
      "Training Accuracy: 0.9546, Testing Accuracy: 0.9642\n",
      "\n"
     ]
    },
    {
     "name": "stdout",
     "output_type": "stream",
     "text": [
      "Epoch 130, Loss 0.0432\n",
      "Training Accuracy: 0.9555, Testing Accuracy: 0.9647\n",
      "\n"
     ]
    },
    {
     "name": "stdout",
     "output_type": "stream",
     "text": [
      "Epoch 140, Loss 0.0423\n",
      "Training Accuracy: 0.9561, Testing Accuracy: 0.9652\n",
      "\n"
     ]
    },
    {
     "name": "stdout",
     "output_type": "stream",
     "text": [
      "Epoch 150, Loss 0.0415\n",
      "Training Accuracy: 0.9569, Testing Accuracy: 0.9652\n",
      "\n"
     ]
    },
    {
     "name": "stdout",
     "output_type": "stream",
     "text": [
      "Epoch 160, Loss 0.0408\n",
      "Training Accuracy: 0.9585, Testing Accuracy: 0.9662\n",
      "\n"
     ]
    },
    {
     "name": "stdout",
     "output_type": "stream",
     "text": [
      "Epoch 170, Loss 0.0402\n",
      "Training Accuracy: 0.9593, Testing Accuracy: 0.9667\n",
      "\n"
     ]
    },
    {
     "name": "stdout",
     "output_type": "stream",
     "text": [
      "Epoch 180, Loss 0.0396\n",
      "Training Accuracy: 0.9595, Testing Accuracy: 0.9667\n",
      "\n"
     ]
    },
    {
     "name": "stdout",
     "output_type": "stream",
     "text": [
      "Epoch 190, Loss 0.0391\n",
      "Training Accuracy: 0.9599, Testing Accuracy: 0.9677\n",
      "\n"
     ]
    },
    {
     "name": "stdout",
     "output_type": "stream",
     "text": [
      "Epoch 200, Loss 0.0386\n",
      "Training Accuracy: 0.9602, Testing Accuracy: 0.9682\n",
      "\n"
     ]
    },
    {
     "name": "stdout",
     "output_type": "stream",
     "text": [
      "Epoch 210, Loss 0.0382\n",
      "Training Accuracy: 0.9606, Testing Accuracy: 0.9693\n",
      "\n"
     ]
    },
    {
     "name": "stdout",
     "output_type": "stream",
     "text": [
      "Epoch 220, Loss 0.0377\n",
      "Training Accuracy: 0.9609, Testing Accuracy: 0.9693\n",
      "\n"
     ]
    },
    {
     "name": "stdout",
     "output_type": "stream",
     "text": [
      "Epoch 230, Loss 0.0373\n",
      "Training Accuracy: 0.9616, Testing Accuracy: 0.9688\n",
      "\n"
     ]
    },
    {
     "name": "stdout",
     "output_type": "stream",
     "text": [
      "Epoch 240, Loss 0.037\n",
      "Training Accuracy: 0.9619, Testing Accuracy: 0.9688\n",
      "\n"
     ]
    },
    {
     "name": "stdout",
     "output_type": "stream",
     "text": [
      "Epoch 250, Loss 0.0366\n",
      "Training Accuracy: 0.9621, Testing Accuracy: 0.9688\n",
      "\n"
     ]
    },
    {
     "data": {
      "text/plain": [
       "0.05004502706904415"
      ]
     },
     "execution_count": 22,
     "metadata": {},
     "output_type": "execute_result"
    }
   ],
   "source": [
    "print(\"====== Logistic Regression ======\")\n",
    "learner_lr.train_loop(dl)"
   ]
  },
  {
   "cell_type": "markdown",
   "id": "adjusted-possible",
   "metadata": {
    "papermill": {
     "duration": 0.048005,
     "end_time": "2021-08-15T10:09:13.658525",
     "exception": false,
     "start_time": "2021-08-15T10:09:13.610520",
     "status": "completed"
    },
    "tags": []
   },
   "source": [
    "### Comparing results of NN and LR"
   ]
  },
  {
   "cell_type": "code",
   "execution_count": 23,
   "id": "mental-multimedia",
   "metadata": {
    "execution": {
     "iopub.execute_input": "2021-08-15T10:09:13.767817Z",
     "iopub.status.busy": "2021-08-15T10:09:13.767172Z",
     "iopub.status.idle": "2021-08-15T10:09:14.045754Z",
     "shell.execute_reply": "2021-08-15T10:09:14.046406Z"
    },
    "papermill": {
     "duration": 0.33996,
     "end_time": "2021-08-15T10:09:14.046666",
     "exception": false,
     "start_time": "2021-08-15T10:09:13.706706",
     "status": "completed"
    },
    "tags": []
   },
   "outputs": [
    {
     "data": {
      "text/plain": [
       "<matplotlib.legend.Legend at 0x7f15b2fe53c8>"
      ]
     },
     "execution_count": 23,
     "metadata": {},
     "output_type": "execute_result"
    },
    {
     "data": {
      "image/png": "[encoded data removed]",
      "text/plain": [
       "<Figure size 1080x720 with 1 Axes>"
      ]
     },
     "metadata": {
      "needs_background": "light"
     },
     "output_type": "display_data"
    }
   ],
   "source": [
    "plt.figure(figsize=(15,10))\n",
    "\n",
    "# Neural Network plots\n",
    "plt.plot(acc_nn.accuracies, 'r-', label = \"Training Accuracies - NN\")\n",
    "plt.plot(acc_nn.test_accuracies, 'g-', label = \"Testing Accuracies - NN\")\n",
    "\n",
    "# Logistic Regression plots\n",
    "plt.plot(acc_lr.accuracies, 'k-', label = \"Training Accuracies - LR\")\n",
    "plt.plot(acc_lr.test_accuracies, 'b-', label = \"Testing Accuracies - LR\")\n",
    "\n",
    "plt.ylim(0.8, 1)\n",
    "\n",
    "plt.legend()\n",
    "\n"
   ]
  },
  {
   "cell_type": "markdown",
   "id": "sexual-flesh",
   "metadata": {
    "papermill": {
     "duration": 0.04979,
     "end_time": "2021-08-15T10:09:14.147006",
     "exception": false,
     "start_time": "2021-08-15T10:09:14.097216",
     "status": "completed"
    },
    "tags": []
   },
   "source": [
    "### From the plot, we can observe the following:\n",
    "- Neural Network achieves higher accuracy than the Logistic Regression model.\n",
    "- This apparently, is because of overfitting, i.e. NN captures more noise than data.\n",
    "- Testing accuracy of NN drops below the Training accuracy at higher epochs. This explains the over-fitting on training data.\n",
    "- Logistic Regression gives a reliable accuracy, without the above mentioned problem.\n"
   ]
  },
  {
   "cell_type": "markdown",
   "id": "institutional-pacific",
   "metadata": {
    "papermill": {
     "duration": 0.049691,
     "end_time": "2021-08-15T10:09:14.246479",
     "exception": false,
     "start_time": "2021-08-15T10:09:14.196788",
     "status": "completed"
    },
    "tags": []
   },
   "source": [
    "### Moving till the last but one layer (excluding it).\n",
    "#### Plotting the outputs of this layer of the NN."
   ]
  },
  {
   "cell_type": "code",
   "execution_count": 24,
   "id": "economic-server",
   "metadata": {
    "execution": {
     "iopub.execute_input": "2021-08-15T10:09:14.352435Z",
     "iopub.status.busy": "2021-08-15T10:09:14.351843Z",
     "iopub.status.idle": "2021-08-15T10:09:14.363573Z",
     "shell.execute_reply": "2021-08-15T10:09:14.363087Z"
    },
    "papermill": {
     "duration": 0.06725,
     "end_time": "2021-08-15T10:09:14.363709",
     "exception": false,
     "start_time": "2021-08-15T10:09:14.296459",
     "status": "completed"
    },
    "tags": []
   },
   "outputs": [],
   "source": [
    "model_new = Model(layers[:-2])"
   ]
  },
  {
   "cell_type": "code",
   "execution_count": 25,
   "id": "varied-upgrade",
   "metadata": {
    "execution": {
     "iopub.execute_input": "2021-08-15T10:09:14.500464Z",
     "iopub.status.busy": "2021-08-15T10:09:14.499866Z",
     "iopub.status.idle": "2021-08-15T10:09:14.523270Z",
     "shell.execute_reply": "2021-08-15T10:09:14.523760Z"
    },
    "papermill": {
     "duration": 0.110202,
     "end_time": "2021-08-15T10:09:14.523919",
     "exception": false,
     "start_time": "2021-08-15T10:09:14.413717",
     "status": "completed"
    },
    "tags": []
   },
   "outputs": [],
   "source": [
    "plot_testing = model_new(testing_xdata)"
   ]
  },
  {
   "cell_type": "code",
   "execution_count": 26,
   "id": "specific-handling",
   "metadata": {
    "execution": {
     "iopub.execute_input": "2021-08-15T10:09:14.640581Z",
     "iopub.status.busy": "2021-08-15T10:09:14.639979Z",
     "iopub.status.idle": "2021-08-15T10:09:14.889157Z",
     "shell.execute_reply": "2021-08-15T10:09:14.889637Z"
    },
    "papermill": {
     "duration": 0.309635,
     "end_time": "2021-08-15T10:09:14.889787",
     "exception": false,
     "start_time": "2021-08-15T10:09:14.580152",
     "status": "completed"
    },
    "tags": []
   },
   "outputs": [
    {
     "data": {
      "text/plain": [
       "Text(0.5, 1.0, 'Outputs')"
      ]
     },
     "execution_count": 26,
     "metadata": {},
     "output_type": "execute_result"
    },
    {
     "data": {
      "image/png": "[encoded data removed]",
      "text/plain": [
       "<Figure size 576x504 with 1 Axes>"
      ]
     },
     "metadata": {
      "needs_background": "light"
     },
     "output_type": "display_data"
    }
   ],
   "source": [
    "plt.figure(figsize=(8,7))\n",
    "plt.scatter(plot_testing[:,0], plot_testing[:,1], alpha = 0.1, c = y_test.ravel());\n",
    "plt.title('Outputs')"
   ]
  },
  {
   "cell_type": "markdown",
   "id": "described-knowing",
   "metadata": {
    "papermill": {
     "duration": 0.052801,
     "end_time": "2021-08-15T10:09:14.995913",
     "exception": false,
     "start_time": "2021-08-15T10:09:14.943112",
     "status": "completed"
    },
    "tags": []
   },
   "source": [
    "### Plotting probability contours"
   ]
  },
  {
   "cell_type": "code",
   "execution_count": 27,
   "id": "needed-growing",
   "metadata": {
    "execution": {
     "iopub.execute_input": "2021-08-15T10:09:15.115969Z",
     "iopub.status.busy": "2021-08-15T10:09:15.115357Z",
     "iopub.status.idle": "2021-08-15T10:09:15.119150Z",
     "shell.execute_reply": "2021-08-15T10:09:15.118658Z"
    },
    "papermill": {
     "duration": 0.070151,
     "end_time": "2021-08-15T10:09:15.119283",
     "exception": false,
     "start_time": "2021-08-15T10:09:15.049132",
     "status": "completed"
    },
    "tags": []
   },
   "outputs": [],
   "source": [
    "model_prob = Model(layers[-2:]) "
   ]
  },
  {
   "cell_type": "code",
   "execution_count": 28,
   "id": "introductory-enforcement",
   "metadata": {
    "execution": {
     "iopub.execute_input": "2021-08-15T10:09:15.232359Z",
     "iopub.status.busy": "2021-08-15T10:09:15.231744Z",
     "iopub.status.idle": "2021-08-15T10:09:15.248657Z",
     "shell.execute_reply": "2021-08-15T10:09:15.249097Z"
    },
    "papermill": {
     "duration": 0.076747,
     "end_time": "2021-08-15T10:09:15.249251",
     "exception": false,
     "start_time": "2021-08-15T10:09:15.172504",
     "status": "completed"
    },
    "tags": []
   },
   "outputs": [],
   "source": [
    "# Adjust the x and y ranges according to the above generated plot.\n",
    "x_range = np.linspace(-4, 1, 100) \n",
    "y_range = np.linspace(-6, 6, 100) \n",
    "x_grid, y_grid = np.meshgrid(x_range, y_range) # x_grid and y_grig are of size 100 X 100\n",
    "\n",
    "# converting x_grid and y_grid to continuous arrays\n",
    "x_grid_flat = np.ravel(x_grid)\n",
    "y_grid_flat = np.ravel(y_grid)\n",
    "\n",
    "# The last layer of the current model takes two columns as input. Hence transpose of np.vstack() is required.\n",
    "X = np.vstack((x_grid_flat, y_grid_flat)).T\n",
    "\n",
    "# x_grid and y_grid are of size 100 x 100\n",
    "probability_contour = model_prob(X).reshape(100,100) "
   ]
  },
  {
   "cell_type": "code",
   "execution_count": 29,
   "id": "understood-landing",
   "metadata": {
    "execution": {
     "iopub.execute_input": "2021-08-15T10:09:15.374305Z",
     "iopub.status.busy": "2021-08-15T10:09:15.373708Z",
     "iopub.status.idle": "2021-08-15T10:09:15.669847Z",
     "shell.execute_reply": "2021-08-15T10:09:15.670661Z"
    },
    "papermill": {
     "duration": 0.356794,
     "end_time": "2021-08-15T10:09:15.670897",
     "exception": false,
     "start_time": "2021-08-15T10:09:15.314103",
     "status": "completed"
    },
    "tags": []
   },
   "outputs": [
    {
     "data": {
      "image/png": "[encoded data removed]",
      "text/plain": [
       "<Figure size 720x648 with 1 Axes>"
      ]
     },
     "metadata": {
      "needs_background": "light"
     },
     "output_type": "display_data"
    }
   ],
   "source": [
    "plt.figure(figsize=(10,9))\n",
    "plt.scatter(plot_testing[:,0], plot_testing[:,1], alpha = 0.1, c = y_test.ravel())\n",
    "contours = plt.contour(x_grid,y_grid,probability_contour)\n",
    "plt.title('Probability Contours')\n",
    "plt.clabel(contours, inline = True );"
   ]
  }
 ],
 "metadata": {
  "kernelspec": {
   "display_name": "Python 3",
   "language": "python",
   "name": "python3"
  },
  "language_info": {
   "codemirror_mode": {
    "name": "ipython",
    "version": 3
   },
   "file_extension": ".py",
   "mimetype": "text/x-python",
   "name": "python",
   "nbconvert_exporter": "python",
   "pygments_lexer": "ipython3",
   "version": "3.6.14"
  },
  "papermill": {
   "duration": 261.07376,
   "end_time": "2021-08-15T10:09:16.137425",
   "environment_variables": {},
   "exception": null,
   "input_path": "2020-08-11-NeuralNetwork.ipynb",
   "output_path": "2020-08-11-NeuralNetwork.ipynb",
   "parameters": {},
   "start_time": "2021-08-15T10:04:55.063665",
   "version": "2.1.2"
  }
 },
 "nbformat": 4,
 "nbformat_minor": 5
}