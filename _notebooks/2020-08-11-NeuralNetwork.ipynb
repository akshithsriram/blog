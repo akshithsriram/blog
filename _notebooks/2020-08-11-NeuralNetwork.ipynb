{
 "cells": [
  {
   "cell_type": "markdown",
   "metadata": {
    "papermill": {
     "duration": 0.029117,
     "end_time": "2020-10-31T10:04:23.743507",
     "exception": false,
     "start_time": "2020-10-31T10:04:23.714390",
     "status": "completed"
    },
    "tags": []
   },
   "source": [
    "# \"A Basic Neural Network: Differentiate Hand-Written Digits\"\n",
    "\n",
    "- badges: true\n",
    "- author: Akshith Sriram"
   ]
  },
  {
   "cell_type": "markdown",
   "metadata": {
    "papermill": {
     "duration": 0.02438,
     "end_time": "2020-10-31T10:04:23.793601",
     "exception": false,
     "start_time": "2020-10-31T10:04:23.769221",
     "status": "completed"
    },
    "tags": []
   },
   "source": [
    "### Key Objectives:\n",
    "- Building a neural network that differentiates two hand-written digits 3 and 8.\n",
    "- Comparing the results of this Neural Network (NN) to that of a Logistic Regression (LR) model.\n",
    "\n",
    "### Requirements:\n",
    "- 'Kudzu' : A neural network library that was designed during our course by [Univ.AI](www.univ.ai). \n",
    "- MNIST Database\n",
    "\n",
    "If MNIST is not installed, use the command `!pip install mnist` given below.\n",
    "It can be run both from the command line and Jupyter Notebook."
   ]
  },
  {
   "cell_type": "code",
   "execution_count": 1,
   "metadata": {
    "execution": {
     "iopub.execute_input": "2020-10-31T10:04:23.848544Z",
     "iopub.status.busy": "2020-10-31T10:04:23.847934Z",
     "iopub.status.idle": "2020-10-31T10:04:25.311916Z",
     "shell.execute_reply": "2020-10-31T10:04:25.312427Z"
    },
    "papermill": {
     "duration": 1.49404,
     "end_time": "2020-10-31T10:04:25.312636",
     "exception": false,
     "start_time": "2020-10-31T10:04:23.818596",
     "status": "completed"
    },
    "tags": []
   },
   "outputs": [
    {
     "name": "stdout",
     "output_type": "stream",
     "text": [
      "Collecting mnist\r\n"
     ]
    },
    {
     "name": "stdout",
     "output_type": "stream",
     "text": [
      "  Downloading mnist-0.2.2-py2.py3-none-any.whl (3.5 kB)\r\n",
      "Requirement already satisfied: numpy in /opt/hostedtoolcache/Python/3.6.12/x64/lib/python3.6/site-packages (from mnist) (1.19.3)\r\n"
     ]
    },
    {
     "name": "stdout",
     "output_type": "stream",
     "text": [
      "Installing collected packages: mnist\r\n"
     ]
    },
    {
     "name": "stdout",
     "output_type": "stream",
     "text": [
      "Successfully installed mnist-0.2.2\r\n"
     ]
    }
   ],
   "source": [
    "!pip install mnist "
   ]
  },
  {
   "cell_type": "markdown",
   "metadata": {
    "papermill": {
     "duration": 0.026512,
     "end_time": "2020-10-31T10:04:25.366228",
     "exception": false,
     "start_time": "2020-10-31T10:04:25.339716",
     "status": "completed"
    },
    "tags": []
   },
   "source": [
    "#### Importing necessary libraries"
   ]
  },
  {
   "cell_type": "code",
   "execution_count": 2,
   "metadata": {
    "execution": {
     "iopub.execute_input": "2020-10-31T10:04:25.436952Z",
     "iopub.status.busy": "2020-10-31T10:04:25.426498Z",
     "iopub.status.idle": "2020-10-31T10:04:26.005178Z",
     "shell.execute_reply": "2020-10-31T10:04:26.005651Z"
    },
    "papermill": {
     "duration": 0.612408,
     "end_time": "2020-10-31T10:04:26.005848",
     "exception": false,
     "start_time": "2020-10-31T10:04:25.393440",
     "status": "completed"
    },
    "tags": []
   },
   "outputs": [],
   "source": [
    "%load_ext autoreload\n",
    "%autoreload 2\n",
    "\n",
    "%matplotlib inline\n",
    "import matplotlib.pyplot as plt\n",
    "\n",
    "import numpy as np\n",
    "import pandas as pd"
   ]
  },
  {
   "cell_type": "markdown",
   "metadata": {
    "papermill": {
     "duration": 0.026377,
     "end_time": "2020-10-31T10:04:26.058853",
     "exception": false,
     "start_time": "2020-10-31T10:04:26.032476",
     "status": "completed"
    },
    "tags": []
   },
   "source": [
    "### Preparing the Data"
   ]
  },
  {
   "cell_type": "code",
   "execution_count": 3,
   "metadata": {
    "execution": {
     "iopub.execute_input": "2020-10-31T10:04:26.119865Z",
     "iopub.status.busy": "2020-10-31T10:04:26.119256Z",
     "iopub.status.idle": "2020-10-31T10:04:26.129724Z",
     "shell.execute_reply": "2020-10-31T10:04:26.130237Z"
    },
    "papermill": {
     "duration": 0.045039,
     "end_time": "2020-10-31T10:04:26.130390",
     "exception": false,
     "start_time": "2020-10-31T10:04:26.085351",
     "status": "completed"
    },
    "tags": []
   },
   "outputs": [],
   "source": [
    "import mnist"
   ]
  },
  {
   "cell_type": "code",
   "execution_count": 4,
   "metadata": {
    "execution": {
     "iopub.execute_input": "2020-10-31T10:04:26.189117Z",
     "iopub.status.busy": "2020-10-31T10:04:26.188514Z",
     "iopub.status.idle": "2020-10-31T10:04:26.904030Z",
     "shell.execute_reply": "2020-10-31T10:04:26.904549Z"
    },
    "papermill": {
     "duration": 0.74838,
     "end_time": "2020-10-31T10:04:26.904723",
     "exception": false,
     "start_time": "2020-10-31T10:04:26.156343",
     "status": "completed"
    },
    "tags": []
   },
   "outputs": [],
   "source": [
    "train_images = mnist.train_images()\n",
    "train_labels = mnist.train_labels()"
   ]
  },
  {
   "cell_type": "code",
   "execution_count": 5,
   "metadata": {
    "execution": {
     "iopub.execute_input": "2020-10-31T10:04:26.962271Z",
     "iopub.status.busy": "2020-10-31T10:04:26.961652Z",
     "iopub.status.idle": "2020-10-31T10:04:26.976442Z",
     "shell.execute_reply": "2020-10-31T10:04:26.975959Z"
    },
    "papermill": {
     "duration": 0.045834,
     "end_time": "2020-10-31T10:04:26.976576",
     "exception": false,
     "start_time": "2020-10-31T10:04:26.930742",
     "status": "completed"
    },
    "tags": []
   },
   "outputs": [
    {
     "data": {
      "text/plain": [
       "((60000, 28, 28), (60000,))"
      ]
     },
     "execution_count": 5,
     "metadata": {},
     "output_type": "execute_result"
    }
   ],
   "source": [
    "train_images.shape, train_labels.shape"
   ]
  },
  {
   "cell_type": "code",
   "execution_count": 6,
   "metadata": {
    "execution": {
     "iopub.execute_input": "2020-10-31T10:04:27.032529Z",
     "iopub.status.busy": "2020-10-31T10:04:27.031931Z",
     "iopub.status.idle": "2020-10-31T10:04:27.308228Z",
     "shell.execute_reply": "2020-10-31T10:04:27.307376Z"
    },
    "papermill": {
     "duration": 0.305566,
     "end_time": "2020-10-31T10:04:27.308364",
     "exception": false,
     "start_time": "2020-10-31T10:04:27.002798",
     "status": "completed"
    },
    "tags": []
   },
   "outputs": [],
   "source": [
    "test_images = mnist.test_images()\n",
    "test_labels = mnist.test_labels()"
   ]
  },
  {
   "cell_type": "code",
   "execution_count": 7,
   "metadata": {
    "execution": {
     "iopub.execute_input": "2020-10-31T10:04:27.365294Z",
     "iopub.status.busy": "2020-10-31T10:04:27.364692Z",
     "iopub.status.idle": "2020-10-31T10:04:27.379369Z",
     "shell.execute_reply": "2020-10-31T10:04:27.379824Z"
    },
    "papermill": {
     "duration": 0.044947,
     "end_time": "2020-10-31T10:04:27.379978",
     "exception": false,
     "start_time": "2020-10-31T10:04:27.335031",
     "status": "completed"
    },
    "tags": []
   },
   "outputs": [
    {
     "data": {
      "text/plain": [
       "((10000, 28, 28), (10000,))"
      ]
     },
     "execution_count": 7,
     "metadata": {},
     "output_type": "execute_result"
    }
   ],
   "source": [
    "test_images.shape, test_labels.shape"
   ]
  },
  {
   "cell_type": "code",
   "execution_count": 8,
   "metadata": {
    "execution": {
     "iopub.execute_input": "2020-10-31T10:04:27.437819Z",
     "iopub.status.busy": "2020-10-31T10:04:27.437209Z",
     "iopub.status.idle": "2020-10-31T10:04:27.589717Z",
     "shell.execute_reply": "2020-10-31T10:04:27.589216Z"
    },
    "papermill": {
     "duration": 0.183255,
     "end_time": "2020-10-31T10:04:27.589857",
     "exception": false,
     "start_time": "2020-10-31T10:04:27.406602",
     "status": "completed"
    },
    "tags": []
   },
   "outputs": [
    {
     "name": "stdout",
     "output_type": "stream",
     "text": [
      "2\n"
     ]
    },
    {
     "data": {
      "text/plain": [
       "<matplotlib.image.AxesImage at 0x7f5559c04438>"
      ]
     },
     "execution_count": 8,
     "metadata": {},
     "output_type": "execute_result"
    },
    {
     "data": {
      "image/png": "[encoded data removed]",
      "text/plain": [
       "<Figure size 432x288 with 1 Axes>"
      ]
     },
     "metadata": {
      "needs_background": "light"
     },
     "output_type": "display_data"
    }
   ],
   "source": [
    "image_index = 7776 # You may select anything up to 60,000\n",
    "print(train_labels[image_index]) \n",
    "plt.imshow(train_images[image_index], cmap='Greys')"
   ]
  },
  {
   "cell_type": "markdown",
   "metadata": {
    "papermill": {
     "duration": 0.027888,
     "end_time": "2020-10-31T10:04:27.645937",
     "exception": false,
     "start_time": "2020-10-31T10:04:27.618049",
     "status": "completed"
    },
    "tags": []
   },
   "source": [
    "## Filter data to get 3 and 8 out"
   ]
  },
  {
   "cell_type": "code",
   "execution_count": 9,
   "metadata": {
    "execution": {
     "iopub.execute_input": "2020-10-31T10:04:27.712172Z",
     "iopub.status.busy": "2020-10-31T10:04:27.705647Z",
     "iopub.status.idle": "2020-10-31T10:04:27.725643Z",
     "shell.execute_reply": "2020-10-31T10:04:27.725078Z"
    },
    "papermill": {
     "duration": 0.051796,
     "end_time": "2020-10-31T10:04:27.725779",
     "exception": false,
     "start_time": "2020-10-31T10:04:27.673983",
     "status": "completed"
    },
    "tags": []
   },
   "outputs": [],
   "source": [
    "train_filter = np.where((train_labels == 3 ) | (train_labels == 8))\n",
    "test_filter = np.where((test_labels == 3) | (test_labels == 8))\n",
    "X_train, y_train = train_images[train_filter], train_labels[train_filter]\n",
    "X_test, y_test = test_images[test_filter], test_labels[test_filter]"
   ]
  },
  {
   "cell_type": "markdown",
   "metadata": {
    "papermill": {
     "duration": 0.028556,
     "end_time": "2020-10-31T10:04:27.783079",
     "exception": false,
     "start_time": "2020-10-31T10:04:27.754523",
     "status": "completed"
    },
    "tags": []
   },
   "source": [
    "We normalize the pixel values in the 0 to 1 range"
   ]
  },
  {
   "cell_type": "code",
   "execution_count": 10,
   "metadata": {
    "execution": {
     "iopub.execute_input": "2020-10-31T10:04:27.851775Z",
     "iopub.status.busy": "2020-10-31T10:04:27.851133Z",
     "iopub.status.idle": "2020-10-31T10:04:27.901234Z",
     "shell.execute_reply": "2020-10-31T10:04:27.900523Z"
    },
    "papermill": {
     "duration": 0.089576,
     "end_time": "2020-10-31T10:04:27.901434",
     "exception": false,
     "start_time": "2020-10-31T10:04:27.811858",
     "status": "completed"
    },
    "tags": []
   },
   "outputs": [],
   "source": [
    "X_train = X_train/255.\n",
    "X_test = X_test/255."
   ]
  },
  {
   "cell_type": "markdown",
   "metadata": {
    "papermill": {
     "duration": 0.029447,
     "end_time": "2020-10-31T10:04:27.961376",
     "exception": false,
     "start_time": "2020-10-31T10:04:27.931929",
     "status": "completed"
    },
    "tags": []
   },
   "source": [
    "Setup the labels as 1 (when the digit is 3) and 0 (when the digit is 8)"
   ]
  },
  {
   "cell_type": "code",
   "execution_count": 11,
   "metadata": {
    "execution": {
     "iopub.execute_input": "2020-10-31T10:04:28.033012Z",
     "iopub.status.busy": "2020-10-31T10:04:28.031985Z",
     "iopub.status.idle": "2020-10-31T10:04:28.040380Z",
     "shell.execute_reply": "2020-10-31T10:04:28.040838Z"
    },
    "papermill": {
     "duration": 0.048114,
     "end_time": "2020-10-31T10:04:28.040999",
     "exception": false,
     "start_time": "2020-10-31T10:04:27.992885",
     "status": "completed"
    },
    "tags": []
   },
   "outputs": [],
   "source": [
    "y_train = 1*(y_train==3)\n",
    "y_test = 1*(y_test==3)"
   ]
  },
  {
   "cell_type": "code",
   "execution_count": 12,
   "metadata": {
    "execution": {
     "iopub.execute_input": "2020-10-31T10:04:28.120536Z",
     "iopub.status.busy": "2020-10-31T10:04:28.106098Z",
     "iopub.status.idle": "2020-10-31T10:04:28.124185Z",
     "shell.execute_reply": "2020-10-31T10:04:28.123410Z"
    },
    "papermill": {
     "duration": 0.052816,
     "end_time": "2020-10-31T10:04:28.124318",
     "exception": false,
     "start_time": "2020-10-31T10:04:28.071502",
     "status": "completed"
    },
    "tags": []
   },
   "outputs": [
    {
     "data": {
      "text/plain": [
       "((11982, 28, 28), (1984, 28, 28))"
      ]
     },
     "execution_count": 12,
     "metadata": {},
     "output_type": "execute_result"
    }
   ],
   "source": [
    "X_train.shape, X_test.shape"
   ]
  },
  {
   "cell_type": "markdown",
   "metadata": {
    "papermill": {
     "duration": 0.02822,
     "end_time": "2020-10-31T10:04:28.181081",
     "exception": false,
     "start_time": "2020-10-31T10:04:28.152861",
     "status": "completed"
    },
    "tags": []
   },
   "source": [
    "### Reshape the input data to create a linear array"
   ]
  },
  {
   "cell_type": "code",
   "execution_count": 13,
   "metadata": {
    "execution": {
     "iopub.execute_input": "2020-10-31T10:04:28.254913Z",
     "iopub.status.busy": "2020-10-31T10:04:28.254312Z",
     "iopub.status.idle": "2020-10-31T10:04:28.268708Z",
     "shell.execute_reply": "2020-10-31T10:04:28.269194Z"
    },
    "papermill": {
     "duration": 0.050194,
     "end_time": "2020-10-31T10:04:28.269348",
     "exception": false,
     "start_time": "2020-10-31T10:04:28.219154",
     "status": "completed"
    },
    "tags": []
   },
   "outputs": [
    {
     "data": {
      "text/plain": [
       "((11982, 784), (1984, 784))"
      ]
     },
     "execution_count": 13,
     "metadata": {},
     "output_type": "execute_result"
    }
   ],
   "source": [
    "X_train = X_train.reshape(X_train.shape[0], -1)\n",
    "X_test = X_test.reshape(X_test.shape[0], -1)\n",
    "X_train.shape, X_test.shape"
   ]
  },
  {
   "cell_type": "markdown",
   "metadata": {
    "papermill": {
     "duration": 0.0531,
     "end_time": "2020-10-31T10:04:28.350900",
     "exception": false,
     "start_time": "2020-10-31T10:04:28.297800",
     "status": "completed"
    },
    "tags": []
   },
   "source": [
    "### Importing appropriate functions from 'Kudzu'"
   ]
  },
  {
   "cell_type": "code",
   "execution_count": 14,
   "metadata": {
    "execution": {
     "iopub.execute_input": "2020-10-31T10:04:28.610870Z",
     "iopub.status.busy": "2020-10-31T10:04:28.610233Z",
     "iopub.status.idle": "2020-10-31T10:04:28.629503Z",
     "shell.execute_reply": "2020-10-31T10:04:28.629961Z"
    },
    "papermill": {
     "duration": 0.249461,
     "end_time": "2020-10-31T10:04:28.630119",
     "exception": false,
     "start_time": "2020-10-31T10:04:28.380658",
     "status": "completed"
    },
    "tags": []
   },
   "outputs": [],
   "source": [
    "from kudzu.layer import Sigmoid\n",
    "from kudzu.layer import Relu\n",
    "from kudzu.layer import Affine, Sigmoid\n",
    "\n",
    "from kudzu.model import Model\n",
    "from kudzu.train import Learner\n",
    "from kudzu.optim import GD\n",
    "from kudzu.data import Data, Dataloader, Sampler\n",
    "\n",
    "from kudzu.callbacks import AccCallback\n",
    "from kudzu.callbacks import ClfCallback\n",
    "\n",
    "from kudzu.loss import MSE"
   ]
  },
  {
   "cell_type": "markdown",
   "metadata": {
    "papermill": {
     "duration": 0.027852,
     "end_time": "2020-10-31T10:04:28.686609",
     "exception": false,
     "start_time": "2020-10-31T10:04:28.658757",
     "status": "completed"
    },
    "tags": []
   },
   "source": [
    "### Let us create a `Config` class, to store important parameters. \n",
    "This class essentially plays the role of a dictionary."
   ]
  },
  {
   "cell_type": "code",
   "execution_count": 15,
   "metadata": {
    "execution": {
     "iopub.execute_input": "2020-10-31T10:04:28.748442Z",
     "iopub.status.busy": "2020-10-31T10:04:28.747852Z",
     "iopub.status.idle": "2020-10-31T10:04:28.761466Z",
     "shell.execute_reply": "2020-10-31T10:04:28.761888Z"
    },
    "papermill": {
     "duration": 0.046701,
     "end_time": "2020-10-31T10:04:28.762033",
     "exception": false,
     "start_time": "2020-10-31T10:04:28.715332",
     "status": "completed"
    },
    "tags": []
   },
   "outputs": [],
   "source": [
    "class Config:\n",
    "    pass\n",
    "config = Config()\n",
    "config.lr = 0.001\n",
    "config.num_epochs = 251\n",
    "config.bs = 50"
   ]
  },
  {
   "cell_type": "markdown",
   "metadata": {
    "papermill": {
     "duration": 0.028269,
     "end_time": "2020-10-31T10:04:28.818330",
     "exception": false,
     "start_time": "2020-10-31T10:04:28.790061",
     "status": "completed"
    },
    "tags": []
   },
   "source": [
    "### Initializing data to the variables"
   ]
  },
  {
   "cell_type": "code",
   "execution_count": 16,
   "metadata": {
    "execution": {
     "iopub.execute_input": "2020-10-31T10:04:28.880016Z",
     "iopub.status.busy": "2020-10-31T10:04:28.879406Z",
     "iopub.status.idle": "2020-10-31T10:04:28.892621Z",
     "shell.execute_reply": "2020-10-31T10:04:28.893126Z"
    },
    "papermill": {
     "duration": 0.046509,
     "end_time": "2020-10-31T10:04:28.893273",
     "exception": false,
     "start_time": "2020-10-31T10:04:28.846764",
     "status": "completed"
    },
    "tags": []
   },
   "outputs": [],
   "source": [
    "data = Data(X_train, y_train.reshape(-1,1))\n",
    "sampler = Sampler(data, config.bs, shuffle=True)\n",
    "\n",
    "dl = Dataloader(data, sampler)\n",
    "\n",
    "opt = GD(config.lr)\n",
    "loss = MSE()"
   ]
  },
  {
   "cell_type": "code",
   "execution_count": 17,
   "metadata": {
    "execution": {
     "iopub.execute_input": "2020-10-31T10:04:28.955861Z",
     "iopub.status.busy": "2020-10-31T10:04:28.955265Z",
     "iopub.status.idle": "2020-10-31T10:04:28.968522Z",
     "shell.execute_reply": "2020-10-31T10:04:28.968037Z"
    },
    "papermill": {
     "duration": 0.047117,
     "end_time": "2020-10-31T10:04:28.968652",
     "exception": false,
     "start_time": "2020-10-31T10:04:28.921535",
     "status": "completed"
    },
    "tags": []
   },
   "outputs": [],
   "source": [
    "training_xdata = X_train\n",
    "testing_xdata = X_test\n",
    "training_ydata = y_train.reshape(-1,1)\n",
    "testing_ydata = y_test.reshape(-1,1)"
   ]
  },
  {
   "cell_type": "markdown",
   "metadata": {
    "papermill": {
     "duration": 0.028567,
     "end_time": "2020-10-31T10:04:29.025745",
     "exception": false,
     "start_time": "2020-10-31T10:04:28.997178",
     "status": "completed"
    },
    "tags": []
   },
   "source": [
    "### Running Models with the Training data\n",
    "Details about the network layers:\n",
    "- A first affine layer has 784 inputs and does 100 affine transforms. These are followed by a Relu\n",
    "- A second affine layer has 100 inputs from the 100 activations of the past layer, and does 100 affine transforms. These are followed by a Relu\n",
    "- A third affine layer has 100 activations and does 2 affine transformations to create an embedding for visualization. There is no non-linearity here.\n",
    "- A final \"logistic regression\" which has an affine transform from 2 inputs to 1 output, which is squeezed through a sigmoid.\n",
    "\n",
    "Help taken from Anshuman's Notebook."
   ]
  },
  {
   "cell_type": "code",
   "execution_count": 18,
   "metadata": {
    "execution": {
     "iopub.execute_input": "2020-10-31T10:04:29.088018Z",
     "iopub.status.busy": "2020-10-31T10:04:29.087028Z",
     "iopub.status.idle": "2020-10-31T10:04:29.109213Z",
     "shell.execute_reply": "2020-10-31T10:04:29.109871Z"
    },
    "papermill": {
     "duration": 0.056359,
     "end_time": "2020-10-31T10:04:29.110069",
     "exception": false,
     "start_time": "2020-10-31T10:04:29.053710",
     "status": "completed"
    },
    "tags": []
   },
   "outputs": [],
   "source": [
    "# layers for the Neural Network\n",
    "layers = [Affine(\"first\", 784, 100), Relu(\"first\"), Affine(\"second\", 100, 100), Relu(\"second\"), Affine(\"third\", 100, 2), Affine(\"final\", 2, 1), Sigmoid(\"final\")]\n",
    "model_nn = Model(layers)\n",
    "\n",
    "# layers for the Logistic Regression\n",
    "layers_lr = [Affine(\"logits\", 784, 1), Sigmoid(\"sigmoid\")]\n",
    "model_lr = Model(layers_lr)"
   ]
  },
  {
   "cell_type": "code",
   "execution_count": 19,
   "metadata": {
    "execution": {
     "iopub.execute_input": "2020-10-31T10:04:29.178801Z",
     "iopub.status.busy": "2020-10-31T10:04:29.178205Z",
     "iopub.status.idle": "2020-10-31T10:04:29.188833Z",
     "shell.execute_reply": "2020-10-31T10:04:29.188343Z"
    },
    "papermill": {
     "duration": 0.048434,
     "end_time": "2020-10-31T10:04:29.188967",
     "exception": false,
     "start_time": "2020-10-31T10:04:29.140533",
     "status": "completed"
    },
    "tags": []
   },
   "outputs": [],
   "source": [
    "# suffix _nn stands for Neural Network.\n",
    "learner_nn = Learner(loss, model_nn, opt, config.num_epochs)\n",
    "acc_nn = ClfCallback(learner_nn, config.bs, training_xdata , testing_xdata, training_ydata, testing_ydata)\n",
    "learner_nn.set_callbacks([acc_nn])"
   ]
  },
  {
   "cell_type": "code",
   "execution_count": 20,
   "metadata": {
    "execution": {
     "iopub.execute_input": "2020-10-31T10:04:29.254284Z",
     "iopub.status.busy": "2020-10-31T10:04:29.253638Z",
     "iopub.status.idle": "2020-10-31T10:05:58.320066Z",
     "shell.execute_reply": "2020-10-31T10:05:58.320914Z"
    },
    "papermill": {
     "duration": 89.103189,
     "end_time": "2020-10-31T10:05:58.321085",
     "exception": false,
     "start_time": "2020-10-31T10:04:29.217896",
     "status": "completed"
    },
    "tags": []
   },
   "outputs": [
    {
     "name": "stdout",
     "output_type": "stream",
     "text": [
      "====== Neural Network ======\n"
     ]
    },
    {
     "name": "stdout",
     "output_type": "stream",
     "text": [
      "Epoch 0, Loss 0.2619\n",
      "Training Accuracy: 0.5401, Testing Accuracy: 0.5252\n",
      "\n"
     ]
    },
    {
     "name": "stdout",
     "output_type": "stream",
     "text": [
      "Epoch 10, Loss 0.1007\n",
      "Training Accuracy: 0.9108, Testing Accuracy: 0.9178\n",
      "\n"
     ]
    },
    {
     "name": "stdout",
     "output_type": "stream",
     "text": [
      "Epoch 20, Loss 0.0575\n",
      "Training Accuracy: 0.9410, Testing Accuracy: 0.9506\n",
      "\n"
     ]
    },
    {
     "name": "stdout",
     "output_type": "stream",
     "text": [
      "Epoch 30, Loss 0.0443\n",
      "Training Accuracy: 0.9517, Testing Accuracy: 0.9587\n",
      "\n"
     ]
    },
    {
     "name": "stdout",
     "output_type": "stream",
     "text": [
      "Epoch 40, Loss 0.0381\n",
      "Training Accuracy: 0.9564, Testing Accuracy: 0.9647\n",
      "\n"
     ]
    },
    {
     "name": "stdout",
     "output_type": "stream",
     "text": [
      "Epoch 50, Loss 0.0343\n",
      "Training Accuracy: 0.9603, Testing Accuracy: 0.9677\n",
      "\n"
     ]
    },
    {
     "name": "stdout",
     "output_type": "stream",
     "text": [
      "Epoch 60, Loss 0.0318\n",
      "Training Accuracy: 0.9639, Testing Accuracy: 0.9698\n",
      "\n"
     ]
    },
    {
     "name": "stdout",
     "output_type": "stream",
     "text": [
      "Epoch 70, Loss 0.0299\n",
      "Training Accuracy: 0.9655, Testing Accuracy: 0.9708\n",
      "\n"
     ]
    },
    {
     "name": "stdout",
     "output_type": "stream",
     "text": [
      "Epoch 80, Loss 0.0284\n",
      "Training Accuracy: 0.9667, Testing Accuracy: 0.9703\n",
      "\n"
     ]
    },
    {
     "name": "stdout",
     "output_type": "stream",
     "text": [
      "Epoch 90, Loss 0.0272\n",
      "Training Accuracy: 0.9679, Testing Accuracy: 0.9718\n",
      "\n"
     ]
    },
    {
     "name": "stdout",
     "output_type": "stream",
     "text": [
      "Epoch 100, Loss 0.0261\n",
      "Training Accuracy: 0.9691, Testing Accuracy: 0.9728\n",
      "\n"
     ]
    },
    {
     "name": "stdout",
     "output_type": "stream",
     "text": [
      "Epoch 110, Loss 0.0252\n",
      "Training Accuracy: 0.9701, Testing Accuracy: 0.9728\n",
      "\n"
     ]
    },
    {
     "name": "stdout",
     "output_type": "stream",
     "text": [
      "Epoch 120, Loss 0.0244\n",
      "Training Accuracy: 0.9710, Testing Accuracy: 0.9733\n",
      "\n"
     ]
    },
    {
     "name": "stdout",
     "output_type": "stream",
     "text": [
      "Epoch 130, Loss 0.0236\n",
      "Training Accuracy: 0.9721, Testing Accuracy: 0.9738\n",
      "\n"
     ]
    },
    {
     "name": "stdout",
     "output_type": "stream",
     "text": [
      "Epoch 140, Loss 0.023\n",
      "Training Accuracy: 0.9735, Testing Accuracy: 0.9738\n",
      "\n"
     ]
    },
    {
     "name": "stdout",
     "output_type": "stream",
     "text": [
      "Epoch 150, Loss 0.0223\n",
      "Training Accuracy: 0.9747, Testing Accuracy: 0.9748\n",
      "\n"
     ]
    },
    {
     "name": "stdout",
     "output_type": "stream",
     "text": [
      "Epoch 160, Loss 0.0218\n",
      "Training Accuracy: 0.9750, Testing Accuracy: 0.9753\n",
      "\n"
     ]
    },
    {
     "name": "stdout",
     "output_type": "stream",
     "text": [
      "Epoch 170, Loss 0.0213\n",
      "Training Accuracy: 0.9760, Testing Accuracy: 0.9758\n",
      "\n"
     ]
    },
    {
     "name": "stdout",
     "output_type": "stream",
     "text": [
      "Epoch 180, Loss 0.0208\n",
      "Training Accuracy: 0.9769, Testing Accuracy: 0.9758\n",
      "\n"
     ]
    },
    {
     "name": "stdout",
     "output_type": "stream",
     "text": [
      "Epoch 190, Loss 0.0203\n",
      "Training Accuracy: 0.9775, Testing Accuracy: 0.9768\n",
      "\n"
     ]
    },
    {
     "name": "stdout",
     "output_type": "stream",
     "text": [
      "Epoch 200, Loss 0.0199\n",
      "Training Accuracy: 0.9777, Testing Accuracy: 0.9768\n",
      "\n"
     ]
    },
    {
     "name": "stdout",
     "output_type": "stream",
     "text": [
      "Epoch 210, Loss 0.0194\n",
      "Training Accuracy: 0.9785, Testing Accuracy: 0.9768\n",
      "\n"
     ]
    },
    {
     "name": "stdout",
     "output_type": "stream",
     "text": [
      "Epoch 220, Loss 0.019\n",
      "Training Accuracy: 0.9790, Testing Accuracy: 0.9768\n",
      "\n"
     ]
    },
    {
     "name": "stdout",
     "output_type": "stream",
     "text": [
      "Epoch 230, Loss 0.0186\n",
      "Training Accuracy: 0.9791, Testing Accuracy: 0.9763\n",
      "\n"
     ]
    },
    {
     "name": "stdout",
     "output_type": "stream",
     "text": [
      "Epoch 240, Loss 0.0183\n",
      "Training Accuracy: 0.9796, Testing Accuracy: 0.9763\n",
      "\n"
     ]
    },
    {
     "name": "stdout",
     "output_type": "stream",
     "text": [
      "Epoch 250, Loss 0.0179\n",
      "Training Accuracy: 0.9799, Testing Accuracy: 0.9763\n",
      "\n"
     ]
    },
    {
     "data": {
      "text/plain": [
       "0.03172439259906903"
      ]
     },
     "execution_count": 20,
     "metadata": {},
     "output_type": "execute_result"
    }
   ],
   "source": [
    "print(\"====== Neural Network ======\")\n",
    "learner_nn.train_loop(dl)"
   ]
  },
  {
   "cell_type": "markdown",
   "metadata": {
    "papermill": {
     "duration": 0.036348,
     "end_time": "2020-10-31T10:05:58.395495",
     "exception": false,
     "start_time": "2020-10-31T10:05:58.359147",
     "status": "completed"
    },
    "tags": []
   },
   "source": [
    "### Logistic Regression based Implementation."
   ]
  },
  {
   "cell_type": "code",
   "execution_count": 21,
   "metadata": {
    "execution": {
     "iopub.execute_input": "2020-10-31T10:05:58.483072Z",
     "iopub.status.busy": "2020-10-31T10:05:58.482404Z",
     "iopub.status.idle": "2020-10-31T10:05:58.490877Z",
     "shell.execute_reply": "2020-10-31T10:05:58.490404Z"
    },
    "papermill": {
     "duration": 0.059081,
     "end_time": "2020-10-31T10:05:58.491035",
     "exception": false,
     "start_time": "2020-10-31T10:05:58.431954",
     "status": "completed"
    },
    "tags": []
   },
   "outputs": [],
   "source": [
    "learner_lr = Learner(loss, model_lr, opt, config.num_epochs)\n",
    "acc_lr = ClfCallback(learner_lr, config.bs, training_xdata , testing_xdata, training_ydata, testing_ydata)\n",
    "learner_lr.set_callbacks([acc_lr])"
   ]
  },
  {
   "cell_type": "code",
   "execution_count": 22,
   "metadata": {
    "execution": {
     "iopub.execute_input": "2020-10-31T10:05:58.571745Z",
     "iopub.status.busy": "2020-10-31T10:05:58.570002Z",
     "iopub.status.idle": "2020-10-31T10:06:14.335205Z",
     "shell.execute_reply": "2020-10-31T10:06:14.334341Z"
    },
    "papermill": {
     "duration": 15.806541,
     "end_time": "2020-10-31T10:06:14.335355",
     "exception": false,
     "start_time": "2020-10-31T10:05:58.528814",
     "status": "completed"
    },
    "tags": []
   },
   "outputs": [
    {
     "name": "stdout",
     "output_type": "stream",
     "text": [
      "====== Logistic Regression ======\n",
      "Epoch 0, Loss 0.2056\n",
      "Training Accuracy: 0.7792, Testing Accuracy: 0.7888\n",
      "\n"
     ]
    },
    {
     "name": "stdout",
     "output_type": "stream",
     "text": [
      "Epoch 10, Loss 0.1017\n",
      "Training Accuracy: 0.9050, Testing Accuracy: 0.9128\n",
      "\n"
     ]
    },
    {
     "name": "stdout",
     "output_type": "stream",
     "text": [
      "Epoch 20, Loss 0.0791\n",
      "Training Accuracy: 0.9260, Testing Accuracy: 0.9325\n",
      "\n"
     ]
    },
    {
     "name": "stdout",
     "output_type": "stream",
     "text": [
      "Epoch 30, Loss 0.0683\n",
      "Training Accuracy: 0.9342, Testing Accuracy: 0.9446\n",
      "\n"
     ]
    },
    {
     "name": "stdout",
     "output_type": "stream",
     "text": [
      "Epoch 40, Loss 0.0618\n",
      "Training Accuracy: 0.9402, Testing Accuracy: 0.9491\n",
      "\n"
     ]
    },
    {
     "name": "stdout",
     "output_type": "stream",
     "text": [
      "Epoch 50, Loss 0.0573\n",
      "Training Accuracy: 0.9427, Testing Accuracy: 0.9531\n",
      "\n"
     ]
    },
    {
     "name": "stdout",
     "output_type": "stream",
     "text": [
      "Epoch 60, Loss 0.054\n",
      "Training Accuracy: 0.9461, Testing Accuracy: 0.9561\n",
      "\n"
     ]
    },
    {
     "name": "stdout",
     "output_type": "stream",
     "text": [
      "Epoch 70, Loss 0.0515\n",
      "Training Accuracy: 0.9474, Testing Accuracy: 0.9567\n",
      "\n"
     ]
    },
    {
     "name": "stdout",
     "output_type": "stream",
     "text": [
      "Epoch 80, Loss 0.0494\n",
      "Training Accuracy: 0.9491, Testing Accuracy: 0.9597\n",
      "\n"
     ]
    },
    {
     "name": "stdout",
     "output_type": "stream",
     "text": [
      "Epoch 90, Loss 0.0477\n",
      "Training Accuracy: 0.9503, Testing Accuracy: 0.9602\n",
      "\n"
     ]
    },
    {
     "name": "stdout",
     "output_type": "stream",
     "text": [
      "Epoch 100, Loss 0.0463\n",
      "Training Accuracy: 0.9517, Testing Accuracy: 0.9617\n",
      "\n"
     ]
    },
    {
     "name": "stdout",
     "output_type": "stream",
     "text": [
      "Epoch 110, Loss 0.0451\n",
      "Training Accuracy: 0.9533, Testing Accuracy: 0.9617\n",
      "\n"
     ]
    },
    {
     "name": "stdout",
     "output_type": "stream",
     "text": [
      "Epoch 120, Loss 0.044\n",
      "Training Accuracy: 0.9545, Testing Accuracy: 0.9622\n",
      "\n"
     ]
    },
    {
     "name": "stdout",
     "output_type": "stream",
     "text": [
      "Epoch 130, Loss 0.0431\n",
      "Training Accuracy: 0.9550, Testing Accuracy: 0.9627\n",
      "\n"
     ]
    },
    {
     "name": "stdout",
     "output_type": "stream",
     "text": [
      "Epoch 140, Loss 0.0423\n",
      "Training Accuracy: 0.9559, Testing Accuracy: 0.9627\n",
      "\n"
     ]
    },
    {
     "name": "stdout",
     "output_type": "stream",
     "text": [
      "Epoch 150, Loss 0.0415\n",
      "Training Accuracy: 0.9568, Testing Accuracy: 0.9632\n",
      "\n"
     ]
    },
    {
     "name": "stdout",
     "output_type": "stream",
     "text": [
      "Epoch 160, Loss 0.0408\n",
      "Training Accuracy: 0.9574, Testing Accuracy: 0.9627\n",
      "\n"
     ]
    },
    {
     "name": "stdout",
     "output_type": "stream",
     "text": [
      "Epoch 170, Loss 0.0402\n",
      "Training Accuracy: 0.9579, Testing Accuracy: 0.9632\n",
      "\n"
     ]
    },
    {
     "name": "stdout",
     "output_type": "stream",
     "text": [
      "Epoch 180, Loss 0.0396\n",
      "Training Accuracy: 0.9583, Testing Accuracy: 0.9642\n",
      "\n"
     ]
    },
    {
     "name": "stdout",
     "output_type": "stream",
     "text": [
      "Epoch 190, Loss 0.0391\n",
      "Training Accuracy: 0.9587, Testing Accuracy: 0.9637\n",
      "\n"
     ]
    },
    {
     "name": "stdout",
     "output_type": "stream",
     "text": [
      "Epoch 200, Loss 0.0386\n",
      "Training Accuracy: 0.9592, Testing Accuracy: 0.9637\n",
      "\n"
     ]
    },
    {
     "name": "stdout",
     "output_type": "stream",
     "text": [
      "Epoch 210, Loss 0.0382\n",
      "Training Accuracy: 0.9595, Testing Accuracy: 0.9637\n",
      "\n"
     ]
    },
    {
     "name": "stdout",
     "output_type": "stream",
     "text": [
      "Epoch 220, Loss 0.0378\n",
      "Training Accuracy: 0.9601, Testing Accuracy: 0.9652\n",
      "\n"
     ]
    },
    {
     "name": "stdout",
     "output_type": "stream",
     "text": [
      "Epoch 230, Loss 0.0374\n",
      "Training Accuracy: 0.9604, Testing Accuracy: 0.9647\n",
      "\n"
     ]
    },
    {
     "name": "stdout",
     "output_type": "stream",
     "text": [
      "Epoch 240, Loss 0.037\n",
      "Training Accuracy: 0.9606, Testing Accuracy: 0.9657\n",
      "\n"
     ]
    },
    {
     "name": "stdout",
     "output_type": "stream",
     "text": [
      "Epoch 250, Loss 0.0367\n",
      "Training Accuracy: 0.9607, Testing Accuracy: 0.9657\n",
      "\n"
     ]
    },
    {
     "data": {
      "text/plain": [
       "0.028130259129841767"
      ]
     },
     "execution_count": 22,
     "metadata": {},
     "output_type": "execute_result"
    }
   ],
   "source": [
    "print(\"====== Logistic Regression ======\")\n",
    "learner_lr.train_loop(dl)"
   ]
  },
  {
   "cell_type": "markdown",
   "metadata": {
    "papermill": {
     "duration": 0.043864,
     "end_time": "2020-10-31T10:06:14.423330",
     "exception": false,
     "start_time": "2020-10-31T10:06:14.379466",
     "status": "completed"
    },
    "tags": []
   },
   "source": [
    "### Comparing results of NN and LR"
   ]
  },
  {
   "cell_type": "code",
   "execution_count": 23,
   "metadata": {
    "execution": {
     "iopub.execute_input": "2020-10-31T10:06:14.523066Z",
     "iopub.status.busy": "2020-10-31T10:06:14.522430Z",
     "iopub.status.idle": "2020-10-31T10:06:14.762430Z",
     "shell.execute_reply": "2020-10-31T10:06:14.761921Z"
    },
    "papermill": {
     "duration": 0.295472,
     "end_time": "2020-10-31T10:06:14.762573",
     "exception": false,
     "start_time": "2020-10-31T10:06:14.467101",
     "status": "completed"
    },
    "tags": []
   },
   "outputs": [
    {
     "data": {
      "text/plain": [
       "<matplotlib.legend.Legend at 0x7f555176f128>"
      ]
     },
     "execution_count": 23,
     "metadata": {},
     "output_type": "execute_result"
    },
    {
     "data": {
      "image/png": "[encoded data removed]",
      "text/plain": [
       "<Figure size 1080x720 with 1 Axes>"
      ]
     },
     "metadata": {
      "needs_background": "light"
     },
     "output_type": "display_data"
    }
   ],
   "source": [
    "plt.figure(figsize=(15,10))\n",
    "\n",
    "# Neural Network plots\n",
    "plt.plot(acc_nn.accuracies, 'r-', label = \"Training Accuracies - NN\")\n",
    "plt.plot(acc_nn.test_accuracies, 'g-', label = \"Testing Accuracies - NN\")\n",
    "\n",
    "# Logistic Regression plots\n",
    "plt.plot(acc_lr.accuracies, 'k-', label = \"Training Accuracies - LR\")\n",
    "plt.plot(acc_lr.test_accuracies, 'b-', label = \"Testing Accuracies - LR\")\n",
    "\n",
    "plt.ylim(0.8, 1)\n",
    "\n",
    "plt.legend()\n",
    "\n"
   ]
  },
  {
   "cell_type": "markdown",
   "metadata": {
    "papermill": {
     "duration": 0.044848,
     "end_time": "2020-10-31T10:06:14.853065",
     "exception": false,
     "start_time": "2020-10-31T10:06:14.808217",
     "status": "completed"
    },
    "tags": []
   },
   "source": [
    "### From the plot, we can observe the following:\n",
    "- Neural Network achieves higher accuracy than the Logistic Regression model.\n",
    "- This apparently, is because of overfitting, i.e. NN captures more noise than data.\n",
    "- Testing accuracy of NN drops below the Training accuracy at higher epochs. This explains the over-fitting on training data.\n",
    "- Logistic Regression gives a reliable accuracy, without the above mentioned problem.\n"
   ]
  },
  {
   "cell_type": "markdown",
   "metadata": {
    "papermill": {
     "duration": 0.045555,
     "end_time": "2020-10-31T10:06:14.943544",
     "exception": false,
     "start_time": "2020-10-31T10:06:14.897989",
     "status": "completed"
    },
    "tags": []
   },
   "source": [
    "### Moving till the last but one layer (excluding it).\n",
    "#### Plotting the outputs of this layer of the NN."
   ]
  },
  {
   "cell_type": "code",
   "execution_count": 24,
   "metadata": {
    "execution": {
     "iopub.execute_input": "2020-10-31T10:06:15.044083Z",
     "iopub.status.busy": "2020-10-31T10:06:15.038591Z",
     "iopub.status.idle": "2020-10-31T10:06:15.051543Z",
     "shell.execute_reply": "2020-10-31T10:06:15.052023Z"
    },
    "papermill": {
     "duration": 0.062864,
     "end_time": "2020-10-31T10:06:15.052174",
     "exception": false,
     "start_time": "2020-10-31T10:06:14.989310",
     "status": "completed"
    },
    "tags": []
   },
   "outputs": [],
   "source": [
    "model_new = Model(layers[:-2])"
   ]
  },
  {
   "cell_type": "code",
   "execution_count": 25,
   "metadata": {
    "execution": {
     "iopub.execute_input": "2020-10-31T10:06:15.155791Z",
     "iopub.status.busy": "2020-10-31T10:06:15.147788Z",
     "iopub.status.idle": "2020-10-31T10:06:15.168488Z",
     "shell.execute_reply": "2020-10-31T10:06:15.169225Z"
    },
    "papermill": {
     "duration": 0.071503,
     "end_time": "2020-10-31T10:06:15.169395",
     "exception": false,
     "start_time": "2020-10-31T10:06:15.097892",
     "status": "completed"
    },
    "tags": []
   },
   "outputs": [],
   "source": [
    "plot_testing = model_new(testing_xdata)"
   ]
  },
  {
   "cell_type": "code",
   "execution_count": 26,
   "metadata": {
    "execution": {
     "iopub.execute_input": "2020-10-31T10:06:15.265683Z",
     "iopub.status.busy": "2020-10-31T10:06:15.265081Z",
     "iopub.status.idle": "2020-10-31T10:06:15.486962Z",
     "shell.execute_reply": "2020-10-31T10:06:15.487574Z"
    },
    "papermill": {
     "duration": 0.272482,
     "end_time": "2020-10-31T10:06:15.487760",
     "exception": false,
     "start_time": "2020-10-31T10:06:15.215278",
     "status": "completed"
    },
    "tags": []
   },
   "outputs": [
    {
     "data": {
      "text/plain": [
       "Text(0.5, 1.0, 'Outputs')"
      ]
     },
     "execution_count": 26,
     "metadata": {},
     "output_type": "execute_result"
    },
    {
     "data": {
      "image/png": "[encoded data removed]",
      "text/plain": [
       "<Figure size 576x504 with 1 Axes>"
      ]
     },
     "metadata": {
      "needs_background": "light"
     },
     "output_type": "display_data"
    }
   ],
   "source": [
    "plt.figure(figsize=(8,7))\n",
    "plt.scatter(plot_testing[:,0], plot_testing[:,1], alpha = 0.1, c = y_test.ravel());\n",
    "plt.title('Outputs')"
   ]
  },
  {
   "cell_type": "markdown",
   "metadata": {
    "papermill": {
     "duration": 0.048776,
     "end_time": "2020-10-31T10:06:15.586331",
     "exception": false,
     "start_time": "2020-10-31T10:06:15.537555",
     "status": "completed"
    },
    "tags": []
   },
   "source": [
    "### Plotting probability contours"
   ]
  },
  {
   "cell_type": "code",
   "execution_count": 27,
   "metadata": {
    "execution": {
     "iopub.execute_input": "2020-10-31T10:06:15.688183Z",
     "iopub.status.busy": "2020-10-31T10:06:15.687580Z",
     "iopub.status.idle": "2020-10-31T10:06:15.702643Z",
     "shell.execute_reply": "2020-10-31T10:06:15.703147Z"
    },
    "papermill": {
     "duration": 0.06857,
     "end_time": "2020-10-31T10:06:15.703300",
     "exception": false,
     "start_time": "2020-10-31T10:06:15.634730",
     "status": "completed"
    },
    "tags": []
   },
   "outputs": [],
   "source": [
    "model_prob = Model(layers[-2:]) "
   ]
  },
  {
   "cell_type": "code",
   "execution_count": 28,
   "metadata": {
    "execution": {
     "iopub.execute_input": "2020-10-31T10:06:15.811477Z",
     "iopub.status.busy": "2020-10-31T10:06:15.810609Z",
     "iopub.status.idle": "2020-10-31T10:06:15.834904Z",
     "shell.execute_reply": "2020-10-31T10:06:15.835410Z"
    },
    "papermill": {
     "duration": 0.083768,
     "end_time": "2020-10-31T10:06:15.835575",
     "exception": false,
     "start_time": "2020-10-31T10:06:15.751807",
     "status": "completed"
    },
    "tags": []
   },
   "outputs": [],
   "source": [
    "# Adjust the x and y ranges according to the above generated plot.\n",
    "x_range = np.linspace(-4, 1, 100) \n",
    "y_range = np.linspace(-6, 6, 100) \n",
    "x_grid, y_grid = np.meshgrid(x_range, y_range) # x_grid and y_grig are of size 100 X 100\n",
    "\n",
    "# converting x_grid and y_grid to continuous arrays\n",
    "x_grid_flat = np.ravel(x_grid)\n",
    "y_grid_flat = np.ravel(y_grid)\n",
    "\n",
    "# The last layer of the current model takes two columns as input. Hence transpose of np.vstack() is required.\n",
    "X = np.vstack((x_grid_flat, y_grid_flat)).T\n",
    "\n",
    "# x_grid and y_grid are of size 100 x 100\n",
    "probability_contour = model_prob(X).reshape(100,100) "
   ]
  },
  {
   "cell_type": "code",
   "execution_count": 29,
   "metadata": {
    "execution": {
     "iopub.execute_input": "2020-10-31T10:06:15.940520Z",
     "iopub.status.busy": "2020-10-31T10:06:15.939903Z",
     "iopub.status.idle": "2020-10-31T10:06:16.206221Z",
     "shell.execute_reply": "2020-10-31T10:06:16.205692Z"
    },
    "papermill": {
     "duration": 0.321331,
     "end_time": "2020-10-31T10:06:16.206364",
     "exception": false,
     "start_time": "2020-10-31T10:06:15.885033",
     "status": "completed"
    },
    "tags": []
   },
   "outputs": [
    {
     "data": {
      "image/png": "[encoded data removed]",
      "text/plain": [
       "<Figure size 720x648 with 1 Axes>"
      ]
     },
     "metadata": {
      "needs_background": "light"
     },
     "output_type": "display_data"
    }
   ],
   "source": [
    "plt.figure(figsize=(10,9))\n",
    "plt.scatter(plot_testing[:,0], plot_testing[:,1], alpha = 0.1, c = y_test.ravel())\n",
    "contours = plt.contour(x_grid,y_grid,probability_contour)\n",
    "plt.title('Probability Contours')\n",
    "plt.clabel(contours, inline = True );"
   ]
  }
 ],
 "metadata": {
  "kernelspec": {
   "display_name": "Python 3",
   "language": "python",
   "name": "python3"
  },
  "language_info": {
   "codemirror_mode": {
    "name": "ipython",
    "version": 3
   },
   "file_extension": ".py",
   "mimetype": "text/x-python",
   "name": "python",
   "nbconvert_exporter": "python",
   "pygments_lexer": "ipython3",
   "version": "3.6.12"
  },
  "papermill": {
   "duration": 114.040924,
   "end_time": "2020-10-31T10:06:16.668420",
   "environment_variables": {},
   "exception": null,
   "input_path": "2020-08-11-NeuralNetwork.ipynb",
   "output_path": "2020-08-11-NeuralNetwork.ipynb",
   "parameters": {},
   "start_time": "2020-10-31T10:04:22.627496",
   "version": "2.1.2"
  }
 },
 "nbformat": 4,
 "nbformat_minor": 4
}