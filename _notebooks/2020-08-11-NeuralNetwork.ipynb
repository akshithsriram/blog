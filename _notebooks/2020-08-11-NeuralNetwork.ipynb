{
 "cells": [
  {
   "cell_type": "markdown",
   "metadata": {
    "papermill": {
     "duration": 0.033254,
     "end_time": "2020-12-15T20:04:53.652697",
     "exception": false,
     "start_time": "2020-12-15T20:04:53.619443",
     "status": "completed"
    },
    "tags": []
   },
   "source": [
    "# \"A Basic Neural Network: Differentiate Hand-Written Digits\"\n",
    "\n",
    "- badges: true\n",
    "- author: Akshith Sriram"
   ]
  },
  {
   "cell_type": "markdown",
   "metadata": {
    "papermill": {
     "duration": 0.028283,
     "end_time": "2020-12-15T20:04:53.723816",
     "exception": false,
     "start_time": "2020-12-15T20:04:53.695533",
     "status": "completed"
    },
    "tags": []
   },
   "source": [
    "### Key Objectives:\n",
    "- Building a neural network that differentiates two hand-written digits 3 and 8.\n",
    "- Comparing the results of this Neural Network (NN) to that of a Logistic Regression (LR) model.\n",
    "\n",
    "### Requirements:\n",
    "- 'Kudzu' : A neural network library that was designed during our course by [Univ.AI](www.univ.ai). \n",
    "- MNIST Database\n",
    "\n",
    "If MNIST is not installed, use the command `!pip install mnist` given below.\n",
    "It can be run both from the command line and Jupyter Notebook."
   ]
  },
  {
   "cell_type": "code",
   "execution_count": 1,
   "metadata": {
    "execution": {
     "iopub.execute_input": "2020-12-15T20:04:53.791006Z",
     "iopub.status.busy": "2020-12-15T20:04:53.790323Z",
     "iopub.status.idle": "2020-12-15T20:04:55.487551Z",
     "shell.execute_reply": "2020-12-15T20:04:55.488208Z"
    },
    "papermill": {
     "duration": 1.736543,
     "end_time": "2020-12-15T20:04:55.488453",
     "exception": false,
     "start_time": "2020-12-15T20:04:53.751910",
     "status": "completed"
    },
    "tags": []
   },
   "outputs": [
    {
     "name": "stdout",
     "output_type": "stream",
     "text": [
      "Collecting mnist\r\n"
     ]
    },
    {
     "name": "stdout",
     "output_type": "stream",
     "text": [
      "  Downloading mnist-0.2.2-py2.py3-none-any.whl (3.5 kB)\r\n",
      "Requirement already satisfied: numpy in /opt/hostedtoolcache/Python/3.6.12/x64/lib/python3.6/site-packages (from mnist) (1.19.4)\r\n"
     ]
    },
    {
     "name": "stdout",
     "output_type": "stream",
     "text": [
      "Installing collected packages: mnist\r\n"
     ]
    },
    {
     "name": "stdout",
     "output_type": "stream",
     "text": [
      "Successfully installed mnist-0.2.2\r\n",
      "\u001b[33mWARNING: You are using pip version 20.2.4; however, version 20.3.3 is available.\r\n",
      "You should consider upgrading via the '/opt/hostedtoolcache/Python/3.6.12/x64/bin/python -m pip install --upgrade pip' command.\u001b[0m\r\n"
     ]
    }
   ],
   "source": [
    "!pip install mnist "
   ]
  },
  {
   "cell_type": "markdown",
   "metadata": {
    "papermill": {
     "duration": 0.028928,
     "end_time": "2020-12-15T20:04:55.549954",
     "exception": false,
     "start_time": "2020-12-15T20:04:55.521026",
     "status": "completed"
    },
    "tags": []
   },
   "source": [
    "#### Importing necessary libraries"
   ]
  },
  {
   "cell_type": "code",
   "execution_count": 2,
   "metadata": {
    "execution": {
     "iopub.execute_input": "2020-12-15T20:04:55.617351Z",
     "iopub.status.busy": "2020-12-15T20:04:55.616630Z",
     "iopub.status.idle": "2020-12-15T20:04:56.233250Z",
     "shell.execute_reply": "2020-12-15T20:04:56.232646Z"
    },
    "papermill": {
     "duration": 0.654214,
     "end_time": "2020-12-15T20:04:56.233417",
     "exception": false,
     "start_time": "2020-12-15T20:04:55.579203",
     "status": "completed"
    },
    "tags": []
   },
   "outputs": [],
   "source": [
    "%load_ext autoreload\n",
    "%autoreload 2\n",
    "\n",
    "%matplotlib inline\n",
    "import matplotlib.pyplot as plt\n",
    "\n",
    "import numpy as np\n",
    "import pandas as pd"
   ]
  },
  {
   "cell_type": "markdown",
   "metadata": {
    "papermill": {
     "duration": 0.028525,
     "end_time": "2020-12-15T20:04:56.293559",
     "exception": false,
     "start_time": "2020-12-15T20:04:56.265034",
     "status": "completed"
    },
    "tags": []
   },
   "source": [
    "### Preparing the Data"
   ]
  },
  {
   "cell_type": "code",
   "execution_count": 3,
   "metadata": {
    "execution": {
     "iopub.execute_input": "2020-12-15T20:04:56.369981Z",
     "iopub.status.busy": "2020-12-15T20:04:56.367667Z",
     "iopub.status.idle": "2020-12-15T20:04:56.372817Z",
     "shell.execute_reply": "2020-12-15T20:04:56.372257Z"
    },
    "papermill": {
     "duration": 0.051461,
     "end_time": "2020-12-15T20:04:56.372952",
     "exception": false,
     "start_time": "2020-12-15T20:04:56.321491",
     "status": "completed"
    },
    "tags": []
   },
   "outputs": [],
   "source": [
    "import mnist"
   ]
  },
  {
   "cell_type": "code",
   "execution_count": 4,
   "metadata": {
    "execution": {
     "iopub.execute_input": "2020-12-15T20:04:56.446235Z",
     "iopub.status.busy": "2020-12-15T20:04:56.438269Z",
     "iopub.status.idle": "2020-12-15T20:04:57.432811Z",
     "shell.execute_reply": "2020-12-15T20:04:57.432208Z"
    },
    "papermill": {
     "duration": 1.031989,
     "end_time": "2020-12-15T20:04:57.432969",
     "exception": false,
     "start_time": "2020-12-15T20:04:56.400980",
     "status": "completed"
    },
    "tags": []
   },
   "outputs": [],
   "source": [
    "train_images = mnist.train_images()\n",
    "train_labels = mnist.train_labels()"
   ]
  },
  {
   "cell_type": "code",
   "execution_count": 5,
   "metadata": {
    "execution": {
     "iopub.execute_input": "2020-12-15T20:04:57.511060Z",
     "iopub.status.busy": "2020-12-15T20:04:57.505985Z",
     "iopub.status.idle": "2020-12-15T20:04:57.514189Z",
     "shell.execute_reply": "2020-12-15T20:04:57.514727Z"
    },
    "papermill": {
     "duration": 0.053106,
     "end_time": "2020-12-15T20:04:57.514880",
     "exception": false,
     "start_time": "2020-12-15T20:04:57.461774",
     "status": "completed"
    },
    "tags": []
   },
   "outputs": [
    {
     "data": {
      "text/plain": [
       "((60000, 28, 28), (60000,))"
      ]
     },
     "execution_count": 5,
     "metadata": {},
     "output_type": "execute_result"
    }
   ],
   "source": [
    "train_images.shape, train_labels.shape"
   ]
  },
  {
   "cell_type": "code",
   "execution_count": 6,
   "metadata": {
    "execution": {
     "iopub.execute_input": "2020-12-15T20:04:57.575124Z",
     "iopub.status.busy": "2020-12-15T20:04:57.574471Z",
     "iopub.status.idle": "2020-12-15T20:04:57.868652Z",
     "shell.execute_reply": "2020-12-15T20:04:57.868071Z"
    },
    "papermill": {
     "duration": 0.325718,
     "end_time": "2020-12-15T20:04:57.868817",
     "exception": false,
     "start_time": "2020-12-15T20:04:57.543099",
     "status": "completed"
    },
    "tags": []
   },
   "outputs": [],
   "source": [
    "test_images = mnist.test_images()\n",
    "test_labels = mnist.test_labels()"
   ]
  },
  {
   "cell_type": "code",
   "execution_count": 7,
   "metadata": {
    "execution": {
     "iopub.execute_input": "2020-12-15T20:04:57.930324Z",
     "iopub.status.busy": "2020-12-15T20:04:57.929662Z",
     "iopub.status.idle": "2020-12-15T20:04:57.943659Z",
     "shell.execute_reply": "2020-12-15T20:04:57.944359Z"
    },
    "papermill": {
     "duration": 0.046874,
     "end_time": "2020-12-15T20:04:57.944515",
     "exception": false,
     "start_time": "2020-12-15T20:04:57.897641",
     "status": "completed"
    },
    "tags": []
   },
   "outputs": [
    {
     "data": {
      "text/plain": [
       "((10000, 28, 28), (10000,))"
      ]
     },
     "execution_count": 7,
     "metadata": {},
     "output_type": "execute_result"
    }
   ],
   "source": [
    "test_images.shape, test_labels.shape"
   ]
  },
  {
   "cell_type": "code",
   "execution_count": 8,
   "metadata": {
    "execution": {
     "iopub.execute_input": "2020-12-15T20:04:58.036029Z",
     "iopub.status.busy": "2020-12-15T20:04:58.011488Z",
     "iopub.status.idle": "2020-12-15T20:04:58.182971Z",
     "shell.execute_reply": "2020-12-15T20:04:58.182377Z"
    },
    "papermill": {
     "duration": 0.210316,
     "end_time": "2020-12-15T20:04:58.183131",
     "exception": false,
     "start_time": "2020-12-15T20:04:57.972815",
     "status": "completed"
    },
    "tags": []
   },
   "outputs": [
    {
     "name": "stdout",
     "output_type": "stream",
     "text": [
      "2\n"
     ]
    },
    {
     "data": {
      "text/plain": [
       "<matplotlib.image.AxesImage at 0x7f178cd48390>"
      ]
     },
     "execution_count": 8,
     "metadata": {},
     "output_type": "execute_result"
    },
    {
     "data": {
      "image/png": "[encoded data removed]",
      "text/plain": [
       "<Figure size 432x288 with 1 Axes>"
      ]
     },
     "metadata": {
      "needs_background": "light"
     },
     "output_type": "display_data"
    }
   ],
   "source": [
    "image_index = 7776 # You may select anything up to 60,000\n",
    "print(train_labels[image_index]) \n",
    "plt.imshow(train_images[image_index], cmap='Greys')"
   ]
  },
  {
   "cell_type": "markdown",
   "metadata": {
    "papermill": {
     "duration": 0.031102,
     "end_time": "2020-12-15T20:04:58.247050",
     "exception": false,
     "start_time": "2020-12-15T20:04:58.215948",
     "status": "completed"
    },
    "tags": []
   },
   "source": [
    "## Filter data to get 3 and 8 out"
   ]
  },
  {
   "cell_type": "code",
   "execution_count": 9,
   "metadata": {
    "execution": {
     "iopub.execute_input": "2020-12-15T20:04:58.324507Z",
     "iopub.status.busy": "2020-12-15T20:04:58.313738Z",
     "iopub.status.idle": "2020-12-15T20:04:58.332237Z",
     "shell.execute_reply": "2020-12-15T20:04:58.331655Z"
    },
    "papermill": {
     "duration": 0.054388,
     "end_time": "2020-12-15T20:04:58.332401",
     "exception": false,
     "start_time": "2020-12-15T20:04:58.278013",
     "status": "completed"
    },
    "tags": []
   },
   "outputs": [],
   "source": [
    "train_filter = np.where((train_labels == 3 ) | (train_labels == 8))\n",
    "test_filter = np.where((test_labels == 3) | (test_labels == 8))\n",
    "X_train, y_train = train_images[train_filter], train_labels[train_filter]\n",
    "X_test, y_test = test_images[test_filter], test_labels[test_filter]"
   ]
  },
  {
   "cell_type": "markdown",
   "metadata": {
    "papermill": {
     "duration": 0.030153,
     "end_time": "2020-12-15T20:04:58.396227",
     "exception": false,
     "start_time": "2020-12-15T20:04:58.366074",
     "status": "completed"
    },
    "tags": []
   },
   "source": [
    "We normalize the pixel values in the 0 to 1 range"
   ]
  },
  {
   "cell_type": "code",
   "execution_count": 10,
   "metadata": {
    "execution": {
     "iopub.execute_input": "2020-12-15T20:04:58.478054Z",
     "iopub.status.busy": "2020-12-15T20:04:58.470016Z",
     "iopub.status.idle": "2020-12-15T20:04:58.525876Z",
     "shell.execute_reply": "2020-12-15T20:04:58.526426Z"
    },
    "papermill": {
     "duration": 0.097177,
     "end_time": "2020-12-15T20:04:58.526619",
     "exception": false,
     "start_time": "2020-12-15T20:04:58.429442",
     "status": "completed"
    },
    "tags": []
   },
   "outputs": [],
   "source": [
    "X_train = X_train/255.\n",
    "X_test = X_test/255."
   ]
  },
  {
   "cell_type": "markdown",
   "metadata": {
    "papermill": {
     "duration": 0.032099,
     "end_time": "2020-12-15T20:04:58.591563",
     "exception": false,
     "start_time": "2020-12-15T20:04:58.559464",
     "status": "completed"
    },
    "tags": []
   },
   "source": [
    "Setup the labels as 1 (when the digit is 3) and 0 (when the digit is 8)"
   ]
  },
  {
   "cell_type": "code",
   "execution_count": 11,
   "metadata": {
    "execution": {
     "iopub.execute_input": "2020-12-15T20:04:58.673689Z",
     "iopub.status.busy": "2020-12-15T20:04:58.670038Z",
     "iopub.status.idle": "2020-12-15T20:04:58.676616Z",
     "shell.execute_reply": "2020-12-15T20:04:58.675965Z"
    },
    "papermill": {
     "duration": 0.053343,
     "end_time": "2020-12-15T20:04:58.676765",
     "exception": false,
     "start_time": "2020-12-15T20:04:58.623422",
     "status": "completed"
    },
    "tags": []
   },
   "outputs": [],
   "source": [
    "y_train = 1*(y_train==3)\n",
    "y_test = 1*(y_test==3)"
   ]
  },
  {
   "cell_type": "code",
   "execution_count": 12,
   "metadata": {
    "execution": {
     "iopub.execute_input": "2020-12-15T20:04:58.743512Z",
     "iopub.status.busy": "2020-12-15T20:04:58.742738Z",
     "iopub.status.idle": "2020-12-15T20:04:58.757832Z",
     "shell.execute_reply": "2020-12-15T20:04:58.757255Z"
    },
    "papermill": {
     "duration": 0.049877,
     "end_time": "2020-12-15T20:04:58.757971",
     "exception": false,
     "start_time": "2020-12-15T20:04:58.708094",
     "status": "completed"
    },
    "tags": []
   },
   "outputs": [
    {
     "data": {
      "text/plain": [
       "((11982, 28, 28), (1984, 28, 28))"
      ]
     },
     "execution_count": 12,
     "metadata": {},
     "output_type": "execute_result"
    }
   ],
   "source": [
    "X_train.shape, X_test.shape"
   ]
  },
  {
   "cell_type": "markdown",
   "metadata": {
    "papermill": {
     "duration": 0.032567,
     "end_time": "2020-12-15T20:04:58.821274",
     "exception": false,
     "start_time": "2020-12-15T20:04:58.788707",
     "status": "completed"
    },
    "tags": []
   },
   "source": [
    "### Reshape the input data to create a linear array"
   ]
  },
  {
   "cell_type": "code",
   "execution_count": 13,
   "metadata": {
    "execution": {
     "iopub.execute_input": "2020-12-15T20:04:59.249569Z",
     "iopub.status.busy": "2020-12-15T20:04:59.248808Z",
     "iopub.status.idle": "2020-12-15T20:04:59.263764Z",
     "shell.execute_reply": "2020-12-15T20:04:59.264314Z"
    },
    "papermill": {
     "duration": 0.318138,
     "end_time": "2020-12-15T20:04:59.264478",
     "exception": false,
     "start_time": "2020-12-15T20:04:58.946340",
     "status": "completed"
    },
    "tags": []
   },
   "outputs": [
    {
     "data": {
      "text/plain": [
       "((11982, 784), (1984, 784))"
      ]
     },
     "execution_count": 13,
     "metadata": {},
     "output_type": "execute_result"
    }
   ],
   "source": [
    "X_train = X_train.reshape(X_train.shape[0], -1)\n",
    "X_test = X_test.reshape(X_test.shape[0], -1)\n",
    "X_train.shape, X_test.shape"
   ]
  },
  {
   "cell_type": "markdown",
   "metadata": {
    "papermill": {
     "duration": 0.031298,
     "end_time": "2020-12-15T20:04:59.327082",
     "exception": false,
     "start_time": "2020-12-15T20:04:59.295784",
     "status": "completed"
    },
    "tags": []
   },
   "source": [
    "### Importing appropriate functions from 'Kudzu'"
   ]
  },
  {
   "cell_type": "code",
   "execution_count": 14,
   "metadata": {
    "execution": {
     "iopub.execute_input": "2020-12-15T20:04:59.399636Z",
     "iopub.status.busy": "2020-12-15T20:04:59.398956Z",
     "iopub.status.idle": "2020-12-15T20:04:59.416876Z",
     "shell.execute_reply": "2020-12-15T20:04:59.417445Z"
    },
    "papermill": {
     "duration": 0.058916,
     "end_time": "2020-12-15T20:04:59.417606",
     "exception": false,
     "start_time": "2020-12-15T20:04:59.358690",
     "status": "completed"
    },
    "tags": []
   },
   "outputs": [],
   "source": [
    "from kudzu.layer import Sigmoid\n",
    "from kudzu.layer import Relu\n",
    "from kudzu.layer import Affine, Sigmoid\n",
    "\n",
    "from kudzu.model import Model\n",
    "from kudzu.train import Learner\n",
    "from kudzu.optim import GD\n",
    "from kudzu.data import Data, Dataloader, Sampler\n",
    "\n",
    "from kudzu.callbacks import AccCallback\n",
    "from kudzu.callbacks import ClfCallback\n",
    "\n",
    "from kudzu.loss import MSE"
   ]
  },
  {
   "cell_type": "markdown",
   "metadata": {
    "papermill": {
     "duration": 0.03089,
     "end_time": "2020-12-15T20:04:59.479913",
     "exception": false,
     "start_time": "2020-12-15T20:04:59.449023",
     "status": "completed"
    },
    "tags": []
   },
   "source": [
    "### Let us create a `Config` class, to store important parameters. \n",
    "This class essentially plays the role of a dictionary."
   ]
  },
  {
   "cell_type": "code",
   "execution_count": 15,
   "metadata": {
    "execution": {
     "iopub.execute_input": "2020-12-15T20:04:59.550681Z",
     "iopub.status.busy": "2020-12-15T20:04:59.550009Z",
     "iopub.status.idle": "2020-12-15T20:04:59.560636Z",
     "shell.execute_reply": "2020-12-15T20:04:59.561318Z"
    },
    "papermill": {
     "duration": 0.050701,
     "end_time": "2020-12-15T20:04:59.561475",
     "exception": false,
     "start_time": "2020-12-15T20:04:59.510774",
     "status": "completed"
    },
    "tags": []
   },
   "outputs": [],
   "source": [
    "class Config:\n",
    "    pass\n",
    "config = Config()\n",
    "config.lr = 0.001\n",
    "config.num_epochs = 251\n",
    "config.bs = 50"
   ]
  },
  {
   "cell_type": "markdown",
   "metadata": {
    "papermill": {
     "duration": 0.031009,
     "end_time": "2020-12-15T20:04:59.628020",
     "exception": false,
     "start_time": "2020-12-15T20:04:59.597011",
     "status": "completed"
    },
    "tags": []
   },
   "source": [
    "### Initializing data to the variables"
   ]
  },
  {
   "cell_type": "code",
   "execution_count": 16,
   "metadata": {
    "execution": {
     "iopub.execute_input": "2020-12-15T20:04:59.710289Z",
     "iopub.status.busy": "2020-12-15T20:04:59.704479Z",
     "iopub.status.idle": "2020-12-15T20:04:59.712519Z",
     "shell.execute_reply": "2020-12-15T20:04:59.713042Z"
    },
    "papermill": {
     "duration": 0.053593,
     "end_time": "2020-12-15T20:04:59.713233",
     "exception": false,
     "start_time": "2020-12-15T20:04:59.659640",
     "status": "completed"
    },
    "tags": []
   },
   "outputs": [],
   "source": [
    "data = Data(X_train, y_train.reshape(-1,1))\n",
    "sampler = Sampler(data, config.bs, shuffle=True)\n",
    "\n",
    "dl = Dataloader(data, sampler)\n",
    "\n",
    "opt = GD(config.lr)\n",
    "loss = MSE()"
   ]
  },
  {
   "cell_type": "code",
   "execution_count": 17,
   "metadata": {
    "execution": {
     "iopub.execute_input": "2020-12-15T20:04:59.778821Z",
     "iopub.status.busy": "2020-12-15T20:04:59.778146Z",
     "iopub.status.idle": "2020-12-15T20:04:59.790230Z",
     "shell.execute_reply": "2020-12-15T20:04:59.790875Z"
    },
    "papermill": {
     "duration": 0.046317,
     "end_time": "2020-12-15T20:04:59.791025",
     "exception": false,
     "start_time": "2020-12-15T20:04:59.744708",
     "status": "completed"
    },
    "tags": []
   },
   "outputs": [],
   "source": [
    "training_xdata = X_train\n",
    "testing_xdata = X_test\n",
    "training_ydata = y_train.reshape(-1,1)\n",
    "testing_ydata = y_test.reshape(-1,1)"
   ]
  },
  {
   "cell_type": "markdown",
   "metadata": {
    "papermill": {
     "duration": 0.030826,
     "end_time": "2020-12-15T20:04:59.852546",
     "exception": false,
     "start_time": "2020-12-15T20:04:59.821720",
     "status": "completed"
    },
    "tags": []
   },
   "source": [
    "### Running Models with the Training data\n",
    "Details about the network layers:\n",
    "- A first affine layer has 784 inputs and does 100 affine transforms. These are followed by a Relu\n",
    "- A second affine layer has 100 inputs from the 100 activations of the past layer, and does 100 affine transforms. These are followed by a Relu\n",
    "- A third affine layer has 100 activations and does 2 affine transformations to create an embedding for visualization. There is no non-linearity here.\n",
    "- A final \"logistic regression\" which has an affine transform from 2 inputs to 1 output, which is squeezed through a sigmoid.\n",
    "\n",
    "Help taken from Anshuman's Notebook."
   ]
  },
  {
   "cell_type": "code",
   "execution_count": 18,
   "metadata": {
    "execution": {
     "iopub.execute_input": "2020-12-15T20:04:59.920897Z",
     "iopub.status.busy": "2020-12-15T20:04:59.920215Z",
     "iopub.status.idle": "2020-12-15T20:04:59.937937Z",
     "shell.execute_reply": "2020-12-15T20:04:59.938482Z"
    },
    "papermill": {
     "duration": 0.052889,
     "end_time": "2020-12-15T20:04:59.938637",
     "exception": false,
     "start_time": "2020-12-15T20:04:59.885748",
     "status": "completed"
    },
    "tags": []
   },
   "outputs": [],
   "source": [
    "# layers for the Neural Network\n",
    "layers = [Affine(\"first\", 784, 100), Relu(\"first\"), Affine(\"second\", 100, 100), Relu(\"second\"), Affine(\"third\", 100, 2), Affine(\"final\", 2, 1), Sigmoid(\"final\")]\n",
    "model_nn = Model(layers)\n",
    "\n",
    "# layers for the Logistic Regression\n",
    "layers_lr = [Affine(\"logits\", 784, 1), Sigmoid(\"sigmoid\")]\n",
    "model_lr = Model(layers_lr)"
   ]
  },
  {
   "cell_type": "code",
   "execution_count": 19,
   "metadata": {
    "execution": {
     "iopub.execute_input": "2020-12-15T20:05:00.016495Z",
     "iopub.status.busy": "2020-12-15T20:05:00.009786Z",
     "iopub.status.idle": "2020-12-15T20:05:00.019641Z",
     "shell.execute_reply": "2020-12-15T20:05:00.019067Z"
    },
    "papermill": {
     "duration": 0.04959,
     "end_time": "2020-12-15T20:05:00.019777",
     "exception": false,
     "start_time": "2020-12-15T20:04:59.970187",
     "status": "completed"
    },
    "tags": []
   },
   "outputs": [],
   "source": [
    "# suffix _nn stands for Neural Network.\n",
    "learner_nn = Learner(loss, model_nn, opt, config.num_epochs)\n",
    "acc_nn = ClfCallback(learner_nn, config.bs, training_xdata , testing_xdata, training_ydata, testing_ydata)\n",
    "learner_nn.set_callbacks([acc_nn])"
   ]
  },
  {
   "cell_type": "code",
   "execution_count": 20,
   "metadata": {
    "execution": {
     "iopub.execute_input": "2020-12-15T20:05:00.097006Z",
     "iopub.status.busy": "2020-12-15T20:05:00.096227Z",
     "iopub.status.idle": "2020-12-15T20:07:03.918536Z",
     "shell.execute_reply": "2020-12-15T20:07:03.919509Z"
    },
    "papermill": {
     "duration": 123.86847,
     "end_time": "2020-12-15T20:07:03.919693",
     "exception": false,
     "start_time": "2020-12-15T20:05:00.051223",
     "status": "completed"
    },
    "tags": []
   },
   "outputs": [
    {
     "name": "stdout",
     "output_type": "stream",
     "text": [
      "====== Neural Network ======\n"
     ]
    },
    {
     "name": "stdout",
     "output_type": "stream",
     "text": [
      "Epoch 0, Loss 0.228\n",
      "Training Accuracy: 0.7348, Testing Accuracy: 0.7404\n",
      "\n"
     ]
    },
    {
     "name": "stdout",
     "output_type": "stream",
     "text": [
      "Epoch 10, Loss 0.0837\n",
      "Training Accuracy: 0.9215, Testing Accuracy: 0.9309\n",
      "\n"
     ]
    },
    {
     "name": "stdout",
     "output_type": "stream",
     "text": [
      "Epoch 20, Loss 0.0531\n",
      "Training Accuracy: 0.9442, Testing Accuracy: 0.9501\n",
      "\n"
     ]
    },
    {
     "name": "stdout",
     "output_type": "stream",
     "text": [
      "Epoch 30, Loss 0.0426\n",
      "Training Accuracy: 0.9528, Testing Accuracy: 0.9607\n",
      "\n"
     ]
    },
    {
     "name": "stdout",
     "output_type": "stream",
     "text": [
      "Epoch 40, Loss 0.0373\n",
      "Training Accuracy: 0.9580, Testing Accuracy: 0.9632\n",
      "\n"
     ]
    },
    {
     "name": "stdout",
     "output_type": "stream",
     "text": [
      "Epoch 50, Loss 0.034\n",
      "Training Accuracy: 0.9612, Testing Accuracy: 0.9637\n",
      "\n"
     ]
    },
    {
     "name": "stdout",
     "output_type": "stream",
     "text": [
      "Epoch 60, Loss 0.0317\n",
      "Training Accuracy: 0.9642, Testing Accuracy: 0.9672\n",
      "\n"
     ]
    },
    {
     "name": "stdout",
     "output_type": "stream",
     "text": [
      "Epoch 70, Loss 0.0299\n",
      "Training Accuracy: 0.9659, Testing Accuracy: 0.9677\n",
      "\n"
     ]
    },
    {
     "name": "stdout",
     "output_type": "stream",
     "text": [
      "Epoch 80, Loss 0.0284\n",
      "Training Accuracy: 0.9670, Testing Accuracy: 0.9672\n",
      "\n"
     ]
    },
    {
     "name": "stdout",
     "output_type": "stream",
     "text": [
      "Epoch 90, Loss 0.0272\n",
      "Training Accuracy: 0.9683, Testing Accuracy: 0.9682\n",
      "\n"
     ]
    },
    {
     "name": "stdout",
     "output_type": "stream",
     "text": [
      "Epoch 100, Loss 0.0262\n",
      "Training Accuracy: 0.9695, Testing Accuracy: 0.9718\n",
      "\n"
     ]
    },
    {
     "name": "stdout",
     "output_type": "stream",
     "text": [
      "Epoch 110, Loss 0.0253\n",
      "Training Accuracy: 0.9705, Testing Accuracy: 0.9728\n",
      "\n"
     ]
    },
    {
     "name": "stdout",
     "output_type": "stream",
     "text": [
      "Epoch 120, Loss 0.0245\n",
      "Training Accuracy: 0.9711, Testing Accuracy: 0.9723\n",
      "\n"
     ]
    },
    {
     "name": "stdout",
     "output_type": "stream",
     "text": [
      "Epoch 130, Loss 0.0238\n",
      "Training Accuracy: 0.9722, Testing Accuracy: 0.9728\n",
      "\n"
     ]
    },
    {
     "name": "stdout",
     "output_type": "stream",
     "text": [
      "Epoch 140, Loss 0.0232\n",
      "Training Accuracy: 0.9730, Testing Accuracy: 0.9738\n",
      "\n"
     ]
    },
    {
     "name": "stdout",
     "output_type": "stream",
     "text": [
      "Epoch 150, Loss 0.0226\n",
      "Training Accuracy: 0.9737, Testing Accuracy: 0.9748\n",
      "\n"
     ]
    },
    {
     "name": "stdout",
     "output_type": "stream",
     "text": [
      "Epoch 160, Loss 0.022\n",
      "Training Accuracy: 0.9742, Testing Accuracy: 0.9748\n",
      "\n"
     ]
    },
    {
     "name": "stdout",
     "output_type": "stream",
     "text": [
      "Epoch 170, Loss 0.0215\n",
      "Training Accuracy: 0.9751, Testing Accuracy: 0.9733\n",
      "\n"
     ]
    },
    {
     "name": "stdout",
     "output_type": "stream",
     "text": [
      "Epoch 180, Loss 0.021\n",
      "Training Accuracy: 0.9760, Testing Accuracy: 0.9738\n",
      "\n"
     ]
    },
    {
     "name": "stdout",
     "output_type": "stream",
     "text": [
      "Epoch 190, Loss 0.0205\n",
      "Training Accuracy: 0.9762, Testing Accuracy: 0.9738\n",
      "\n"
     ]
    },
    {
     "name": "stdout",
     "output_type": "stream",
     "text": [
      "Epoch 200, Loss 0.0201\n",
      "Training Accuracy: 0.9766, Testing Accuracy: 0.9743\n",
      "\n"
     ]
    },
    {
     "name": "stdout",
     "output_type": "stream",
     "text": [
      "Epoch 210, Loss 0.0196\n",
      "Training Accuracy: 0.9774, Testing Accuracy: 0.9743\n",
      "\n"
     ]
    },
    {
     "name": "stdout",
     "output_type": "stream",
     "text": [
      "Epoch 220, Loss 0.0192\n",
      "Training Accuracy: 0.9784, Testing Accuracy: 0.9748\n",
      "\n"
     ]
    },
    {
     "name": "stdout",
     "output_type": "stream",
     "text": [
      "Epoch 230, Loss 0.0188\n",
      "Training Accuracy: 0.9790, Testing Accuracy: 0.9748\n",
      "\n"
     ]
    },
    {
     "name": "stdout",
     "output_type": "stream",
     "text": [
      "Epoch 240, Loss 0.0184\n",
      "Training Accuracy: 0.9792, Testing Accuracy: 0.9753\n",
      "\n"
     ]
    },
    {
     "name": "stdout",
     "output_type": "stream",
     "text": [
      "Epoch 250, Loss 0.018\n",
      "Training Accuracy: 0.9796, Testing Accuracy: 0.9753\n",
      "\n"
     ]
    },
    {
     "data": {
      "text/plain": [
       "0.015936945480810143"
      ]
     },
     "execution_count": 20,
     "metadata": {},
     "output_type": "execute_result"
    }
   ],
   "source": [
    "print(\"====== Neural Network ======\")\n",
    "learner_nn.train_loop(dl)"
   ]
  },
  {
   "cell_type": "markdown",
   "metadata": {
    "papermill": {
     "duration": 0.040145,
     "end_time": "2020-12-15T20:07:04.002432",
     "exception": false,
     "start_time": "2020-12-15T20:07:03.962287",
     "status": "completed"
    },
    "tags": []
   },
   "source": [
    "### Logistic Regression based Implementation."
   ]
  },
  {
   "cell_type": "code",
   "execution_count": 21,
   "metadata": {
    "execution": {
     "iopub.execute_input": "2020-12-15T20:07:04.092206Z",
     "iopub.status.busy": "2020-12-15T20:07:04.088921Z",
     "iopub.status.idle": "2020-12-15T20:07:04.106401Z",
     "shell.execute_reply": "2020-12-15T20:07:04.106956Z"
    },
    "papermill": {
     "duration": 0.063259,
     "end_time": "2020-12-15T20:07:04.107117",
     "exception": false,
     "start_time": "2020-12-15T20:07:04.043858",
     "status": "completed"
    },
    "tags": []
   },
   "outputs": [],
   "source": [
    "learner_lr = Learner(loss, model_lr, opt, config.num_epochs)\n",
    "acc_lr = ClfCallback(learner_lr, config.bs, training_xdata , testing_xdata, training_ydata, testing_ydata)\n",
    "learner_lr.set_callbacks([acc_lr])"
   ]
  },
  {
   "cell_type": "code",
   "execution_count": 22,
   "metadata": {
    "execution": {
     "iopub.execute_input": "2020-12-15T20:07:04.202583Z",
     "iopub.status.busy": "2020-12-15T20:07:04.193750Z",
     "iopub.status.idle": "2020-12-15T20:07:23.045697Z",
     "shell.execute_reply": "2020-12-15T20:07:23.046340Z"
    },
    "papermill": {
     "duration": 18.895862,
     "end_time": "2020-12-15T20:07:23.046520",
     "exception": false,
     "start_time": "2020-12-15T20:07:04.150658",
     "status": "completed"
    },
    "tags": []
   },
   "outputs": [
    {
     "name": "stdout",
     "output_type": "stream",
     "text": [
      "====== Logistic Regression ======\n",
      "Epoch 0, Loss 0.2089\n",
      "Training Accuracy: 0.7680, Testing Accuracy: 0.7722\n",
      "\n"
     ]
    },
    {
     "name": "stdout",
     "output_type": "stream",
     "text": [
      "Epoch 10, Loss 0.0999\n",
      "Training Accuracy: 0.9081, Testing Accuracy: 0.9204\n",
      "\n"
     ]
    },
    {
     "name": "stdout",
     "output_type": "stream",
     "text": [
      "Epoch 20, Loss 0.0786\n",
      "Training Accuracy: 0.9256, Testing Accuracy: 0.9380\n",
      "\n"
     ]
    },
    {
     "name": "stdout",
     "output_type": "stream",
     "text": [
      "Epoch 30, Loss 0.0682\n",
      "Training Accuracy: 0.9351, Testing Accuracy: 0.9456\n",
      "\n"
     ]
    },
    {
     "name": "stdout",
     "output_type": "stream",
     "text": [
      "Epoch 40, Loss 0.0617\n",
      "Training Accuracy: 0.9402, Testing Accuracy: 0.9511\n",
      "\n"
     ]
    },
    {
     "name": "stdout",
     "output_type": "stream",
     "text": [
      "Epoch 50, Loss 0.0573\n",
      "Training Accuracy: 0.9454, Testing Accuracy: 0.9546\n",
      "\n"
     ]
    },
    {
     "name": "stdout",
     "output_type": "stream",
     "text": [
      "Epoch 60, Loss 0.0539\n",
      "Training Accuracy: 0.9483, Testing Accuracy: 0.9577\n",
      "\n"
     ]
    },
    {
     "name": "stdout",
     "output_type": "stream",
     "text": [
      "Epoch 70, Loss 0.0514\n",
      "Training Accuracy: 0.9500, Testing Accuracy: 0.9602\n",
      "\n"
     ]
    },
    {
     "name": "stdout",
     "output_type": "stream",
     "text": [
      "Epoch 80, Loss 0.0493\n",
      "Training Accuracy: 0.9523, Testing Accuracy: 0.9612\n",
      "\n"
     ]
    },
    {
     "name": "stdout",
     "output_type": "stream",
     "text": [
      "Epoch 90, Loss 0.0476\n",
      "Training Accuracy: 0.9538, Testing Accuracy: 0.9622\n",
      "\n"
     ]
    },
    {
     "name": "stdout",
     "output_type": "stream",
     "text": [
      "Epoch 100, Loss 0.0462\n",
      "Training Accuracy: 0.9551, Testing Accuracy: 0.9632\n",
      "\n"
     ]
    },
    {
     "name": "stdout",
     "output_type": "stream",
     "text": [
      "Epoch 110, Loss 0.0449\n",
      "Training Accuracy: 0.9560, Testing Accuracy: 0.9647\n",
      "\n"
     ]
    },
    {
     "name": "stdout",
     "output_type": "stream",
     "text": [
      "Epoch 120, Loss 0.0439\n",
      "Training Accuracy: 0.9568, Testing Accuracy: 0.9657\n",
      "\n"
     ]
    },
    {
     "name": "stdout",
     "output_type": "stream",
     "text": [
      "Epoch 130, Loss 0.0429\n",
      "Training Accuracy: 0.9574, Testing Accuracy: 0.9652\n",
      "\n"
     ]
    },
    {
     "name": "stdout",
     "output_type": "stream",
     "text": [
      "Epoch 140, Loss 0.0421\n",
      "Training Accuracy: 0.9579, Testing Accuracy: 0.9652\n",
      "\n"
     ]
    },
    {
     "name": "stdout",
     "output_type": "stream",
     "text": [
      "Epoch 150, Loss 0.0413\n",
      "Training Accuracy: 0.9583, Testing Accuracy: 0.9657\n",
      "\n"
     ]
    },
    {
     "name": "stdout",
     "output_type": "stream",
     "text": [
      "Epoch 160, Loss 0.0406\n",
      "Training Accuracy: 0.9587, Testing Accuracy: 0.9657\n",
      "\n"
     ]
    },
    {
     "name": "stdout",
     "output_type": "stream",
     "text": [
      "Epoch 170, Loss 0.04\n",
      "Training Accuracy: 0.9592, Testing Accuracy: 0.9657\n",
      "\n"
     ]
    },
    {
     "name": "stdout",
     "output_type": "stream",
     "text": [
      "Epoch 180, Loss 0.0395\n",
      "Training Accuracy: 0.9596, Testing Accuracy: 0.9672\n",
      "\n"
     ]
    },
    {
     "name": "stdout",
     "output_type": "stream",
     "text": [
      "Epoch 190, Loss 0.0389\n",
      "Training Accuracy: 0.9599, Testing Accuracy: 0.9672\n",
      "\n"
     ]
    },
    {
     "name": "stdout",
     "output_type": "stream",
     "text": [
      "Epoch 200, Loss 0.0385\n",
      "Training Accuracy: 0.9604, Testing Accuracy: 0.9672\n",
      "\n"
     ]
    },
    {
     "name": "stdout",
     "output_type": "stream",
     "text": [
      "Epoch 210, Loss 0.038\n",
      "Training Accuracy: 0.9609, Testing Accuracy: 0.9667\n",
      "\n"
     ]
    },
    {
     "name": "stdout",
     "output_type": "stream",
     "text": [
      "Epoch 220, Loss 0.0376\n",
      "Training Accuracy: 0.9610, Testing Accuracy: 0.9672\n",
      "\n"
     ]
    },
    {
     "name": "stdout",
     "output_type": "stream",
     "text": [
      "Epoch 230, Loss 0.0372\n",
      "Training Accuracy: 0.9613, Testing Accuracy: 0.9672\n",
      "\n"
     ]
    },
    {
     "name": "stdout",
     "output_type": "stream",
     "text": [
      "Epoch 240, Loss 0.0368\n",
      "Training Accuracy: 0.9615, Testing Accuracy: 0.9672\n",
      "\n"
     ]
    },
    {
     "name": "stdout",
     "output_type": "stream",
     "text": [
      "Epoch 250, Loss 0.0365\n",
      "Training Accuracy: 0.9619, Testing Accuracy: 0.9672\n",
      "\n"
     ]
    },
    {
     "data": {
      "text/plain": [
       "0.027913672660700654"
      ]
     },
     "execution_count": 22,
     "metadata": {},
     "output_type": "execute_result"
    }
   ],
   "source": [
    "print(\"====== Logistic Regression ======\")\n",
    "learner_lr.train_loop(dl)"
   ]
  },
  {
   "cell_type": "markdown",
   "metadata": {
    "papermill": {
     "duration": 0.048637,
     "end_time": "2020-12-15T20:07:23.143897",
     "exception": false,
     "start_time": "2020-12-15T20:07:23.095260",
     "status": "completed"
    },
    "tags": []
   },
   "source": [
    "### Comparing results of NN and LR"
   ]
  },
  {
   "cell_type": "code",
   "execution_count": 23,
   "metadata": {
    "execution": {
     "iopub.execute_input": "2020-12-15T20:07:23.277365Z",
     "iopub.status.busy": "2020-12-15T20:07:23.254049Z",
     "iopub.status.idle": "2020-12-15T20:07:23.520905Z",
     "shell.execute_reply": "2020-12-15T20:07:23.520319Z"
    },
    "papermill": {
     "duration": 0.329751,
     "end_time": "2020-12-15T20:07:23.521118",
     "exception": false,
     "start_time": "2020-12-15T20:07:23.191367",
     "status": "completed"
    },
    "tags": []
   },
   "outputs": [
    {
     "data": {
      "text/plain": [
       "<matplotlib.legend.Legend at 0x7f178558dba8>"
      ]
     },
     "execution_count": 23,
     "metadata": {},
     "output_type": "execute_result"
    },
    {
     "data": {
      "image/png": "[encoded data removed]",
      "text/plain": [
       "<Figure size 1080x720 with 1 Axes>"
      ]
     },
     "metadata": {
      "needs_background": "light"
     },
     "output_type": "display_data"
    }
   ],
   "source": [
    "plt.figure(figsize=(15,10))\n",
    "\n",
    "# Neural Network plots\n",
    "plt.plot(acc_nn.accuracies, 'r-', label = \"Training Accuracies - NN\")\n",
    "plt.plot(acc_nn.test_accuracies, 'g-', label = \"Testing Accuracies - NN\")\n",
    "\n",
    "# Logistic Regression plots\n",
    "plt.plot(acc_lr.accuracies, 'k-', label = \"Training Accuracies - LR\")\n",
    "plt.plot(acc_lr.test_accuracies, 'b-', label = \"Testing Accuracies - LR\")\n",
    "\n",
    "plt.ylim(0.8, 1)\n",
    "\n",
    "plt.legend()\n",
    "\n"
   ]
  },
  {
   "cell_type": "markdown",
   "metadata": {
    "papermill": {
     "duration": 0.056949,
     "end_time": "2020-12-15T20:07:23.633362",
     "exception": false,
     "start_time": "2020-12-15T20:07:23.576413",
     "status": "completed"
    },
    "tags": []
   },
   "source": [
    "### From the plot, we can observe the following:\n",
    "- Neural Network achieves higher accuracy than the Logistic Regression model.\n",
    "- This apparently, is because of overfitting, i.e. NN captures more noise than data.\n",
    "- Testing accuracy of NN drops below the Training accuracy at higher epochs. This explains the over-fitting on training data.\n",
    "- Logistic Regression gives a reliable accuracy, without the above mentioned problem.\n"
   ]
  },
  {
   "cell_type": "markdown",
   "metadata": {
    "papermill": {
     "duration": 0.050194,
     "end_time": "2020-12-15T20:07:23.734660",
     "exception": false,
     "start_time": "2020-12-15T20:07:23.684466",
     "status": "completed"
    },
    "tags": []
   },
   "source": [
    "### Moving till the last but one layer (excluding it).\n",
    "#### Plotting the outputs of this layer of the NN."
   ]
  },
  {
   "cell_type": "code",
   "execution_count": 24,
   "metadata": {
    "execution": {
     "iopub.execute_input": "2020-12-15T20:07:23.851531Z",
     "iopub.status.busy": "2020-12-15T20:07:23.842046Z",
     "iopub.status.idle": "2020-12-15T20:07:23.854495Z",
     "shell.execute_reply": "2020-12-15T20:07:23.853923Z"
    },
    "papermill": {
     "duration": 0.068834,
     "end_time": "2020-12-15T20:07:23.854635",
     "exception": false,
     "start_time": "2020-12-15T20:07:23.785801",
     "status": "completed"
    },
    "tags": []
   },
   "outputs": [],
   "source": [
    "model_new = Model(layers[:-2])"
   ]
  },
  {
   "cell_type": "code",
   "execution_count": 25,
   "metadata": {
    "execution": {
     "iopub.execute_input": "2020-12-15T20:07:23.962601Z",
     "iopub.status.busy": "2020-12-15T20:07:23.961740Z",
     "iopub.status.idle": "2020-12-15T20:07:23.985795Z",
     "shell.execute_reply": "2020-12-15T20:07:23.986382Z"
    },
    "papermill": {
     "duration": 0.081289,
     "end_time": "2020-12-15T20:07:23.986561",
     "exception": false,
     "start_time": "2020-12-15T20:07:23.905272",
     "status": "completed"
    },
    "tags": []
   },
   "outputs": [],
   "source": [
    "plot_testing = model_new(testing_xdata)"
   ]
  },
  {
   "cell_type": "code",
   "execution_count": 26,
   "metadata": {
    "execution": {
     "iopub.execute_input": "2020-12-15T20:07:24.094862Z",
     "iopub.status.busy": "2020-12-15T20:07:24.094201Z",
     "iopub.status.idle": "2020-12-15T20:07:24.336881Z",
     "shell.execute_reply": "2020-12-15T20:07:24.337465Z"
    },
    "papermill": {
     "duration": 0.300996,
     "end_time": "2020-12-15T20:07:24.337645",
     "exception": false,
     "start_time": "2020-12-15T20:07:24.036649",
     "status": "completed"
    },
    "tags": []
   },
   "outputs": [
    {
     "data": {
      "text/plain": [
       "Text(0.5, 1.0, 'Outputs')"
      ]
     },
     "execution_count": 26,
     "metadata": {},
     "output_type": "execute_result"
    },
    {
     "data": {
      "image/png": "[encoded data removed]",
      "text/plain": [
       "<Figure size 576x504 with 1 Axes>"
      ]
     },
     "metadata": {
      "needs_background": "light"
     },
     "output_type": "display_data"
    }
   ],
   "source": [
    "plt.figure(figsize=(8,7))\n",
    "plt.scatter(plot_testing[:,0], plot_testing[:,1], alpha = 0.1, c = y_test.ravel());\n",
    "plt.title('Outputs')"
   ]
  },
  {
   "cell_type": "markdown",
   "metadata": {
    "papermill": {
     "duration": 0.058097,
     "end_time": "2020-12-15T20:07:24.448252",
     "exception": false,
     "start_time": "2020-12-15T20:07:24.390155",
     "status": "completed"
    },
    "tags": []
   },
   "source": [
    "### Plotting probability contours"
   ]
  },
  {
   "cell_type": "code",
   "execution_count": 27,
   "metadata": {
    "execution": {
     "iopub.execute_input": "2020-12-15T20:07:24.562929Z",
     "iopub.status.busy": "2020-12-15T20:07:24.562088Z",
     "iopub.status.idle": "2020-12-15T20:07:24.575241Z",
     "shell.execute_reply": "2020-12-15T20:07:24.574660Z"
    },
    "papermill": {
     "duration": 0.07083,
     "end_time": "2020-12-15T20:07:24.575384",
     "exception": false,
     "start_time": "2020-12-15T20:07:24.504554",
     "status": "completed"
    },
    "tags": []
   },
   "outputs": [],
   "source": [
    "model_prob = Model(layers[-2:]) "
   ]
  },
  {
   "cell_type": "code",
   "execution_count": 28,
   "metadata": {
    "execution": {
     "iopub.execute_input": "2020-12-15T20:07:24.710191Z",
     "iopub.status.busy": "2020-12-15T20:07:24.703548Z",
     "iopub.status.idle": "2020-12-15T20:07:24.712210Z",
     "shell.execute_reply": "2020-12-15T20:07:24.713085Z"
    },
    "papermill": {
     "duration": 0.082696,
     "end_time": "2020-12-15T20:07:24.713272",
     "exception": false,
     "start_time": "2020-12-15T20:07:24.630576",
     "status": "completed"
    },
    "tags": []
   },
   "outputs": [],
   "source": [
    "# Adjust the x and y ranges according to the above generated plot.\n",
    "x_range = np.linspace(-4, 1, 100) \n",
    "y_range = np.linspace(-6, 6, 100) \n",
    "x_grid, y_grid = np.meshgrid(x_range, y_range) # x_grid and y_grig are of size 100 X 100\n",
    "\n",
    "# converting x_grid and y_grid to continuous arrays\n",
    "x_grid_flat = np.ravel(x_grid)\n",
    "y_grid_flat = np.ravel(y_grid)\n",
    "\n",
    "# The last layer of the current model takes two columns as input. Hence transpose of np.vstack() is required.\n",
    "X = np.vstack((x_grid_flat, y_grid_flat)).T\n",
    "\n",
    "# x_grid and y_grid are of size 100 x 100\n",
    "probability_contour = model_prob(X).reshape(100,100) "
   ]
  },
  {
   "cell_type": "code",
   "execution_count": 29,
   "metadata": {
    "execution": {
     "iopub.execute_input": "2020-12-15T20:07:24.845815Z",
     "iopub.status.busy": "2020-12-15T20:07:24.845052Z",
     "iopub.status.idle": "2020-12-15T20:07:25.143290Z",
     "shell.execute_reply": "2020-12-15T20:07:25.143882Z"
    },
    "papermill": {
     "duration": 0.377425,
     "end_time": "2020-12-15T20:07:25.144118",
     "exception": false,
     "start_time": "2020-12-15T20:07:24.766693",
     "status": "completed"
    },
    "tags": []
   },
   "outputs": [
    {
     "data": {
      "image/png": "[encoded data removed]",
      "text/plain": [
       "<Figure size 720x648 with 1 Axes>"
      ]
     },
     "metadata": {
      "needs_background": "light"
     },
     "output_type": "display_data"
    }
   ],
   "source": [
    "plt.figure(figsize=(10,9))\n",
    "plt.scatter(plot_testing[:,0], plot_testing[:,1], alpha = 0.1, c = y_test.ravel())\n",
    "contours = plt.contour(x_grid,y_grid,probability_contour)\n",
    "plt.title('Probability Contours')\n",
    "plt.clabel(contours, inline = True );"
   ]
  }
 ],
 "metadata": {
  "kernelspec": {
   "display_name": "Python 3",
   "language": "python",
   "name": "python3"
  },
  "language_info": {
   "codemirror_mode": {
    "name": "ipython",
    "version": 3
   },
   "file_extension": ".py",
   "mimetype": "text/x-python",
   "name": "python",
   "nbconvert_exporter": "python",
   "pygments_lexer": "ipython3",
   "version": "3.6.12"
  },
  "papermill": {
   "duration": 153.115578,
   "end_time": "2020-12-15T20:07:25.608573",
   "environment_variables": {},
   "exception": null,
   "input_path": "2020-08-11-NeuralNetwork.ipynb",
   "output_path": "2020-08-11-NeuralNetwork.ipynb",
   "parameters": {},
   "start_time": "2020-12-15T20:04:52.492995",
   "version": "2.1.2"
  }
 },
 "nbformat": 4,
 "nbformat_minor": 4
}