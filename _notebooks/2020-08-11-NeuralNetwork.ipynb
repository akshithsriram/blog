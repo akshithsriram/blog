{
 "cells": [
  {
   "cell_type": "markdown",
   "metadata": {
    "papermill": {
     "duration": 0.029509,
     "end_time": "2021-01-08T00:20:56.455766",
     "exception": false,
     "start_time": "2021-01-08T00:20:56.426257",
     "status": "completed"
    },
    "tags": []
   },
   "source": [
    "# \"A Basic Neural Network: Differentiate Hand-Written Digits\"\n",
    "\n",
    "- badges: true\n",
    "- author: Akshith Sriram"
   ]
  },
  {
   "cell_type": "markdown",
   "metadata": {
    "papermill": {
     "duration": 0.025289,
     "end_time": "2021-01-08T00:20:56.508969",
     "exception": false,
     "start_time": "2021-01-08T00:20:56.483680",
     "status": "completed"
    },
    "tags": []
   },
   "source": [
    "### Key Objectives:\n",
    "- Building a neural network that differentiates two hand-written digits 3 and 8.\n",
    "- Comparing the results of this Neural Network (NN) to that of a Logistic Regression (LR) model.\n",
    "\n",
    "### Requirements:\n",
    "- 'Kudzu' : A neural network library that was designed during our course by [Univ.AI](www.univ.ai). \n",
    "- MNIST Database\n",
    "\n",
    "If MNIST is not installed, use the command `!pip install mnist` given below.\n",
    "It can be run both from the command line and Jupyter Notebook."
   ]
  },
  {
   "cell_type": "code",
   "execution_count": 1,
   "metadata": {
    "execution": {
     "iopub.execute_input": "2021-01-08T00:20:56.577674Z",
     "iopub.status.busy": "2021-01-08T00:20:56.577014Z",
     "iopub.status.idle": "2021-01-08T00:20:58.143684Z",
     "shell.execute_reply": "2021-01-08T00:20:58.143153Z"
    },
    "papermill": {
     "duration": 1.605013,
     "end_time": "2021-01-08T00:20:58.143854",
     "exception": false,
     "start_time": "2021-01-08T00:20:56.538841",
     "status": "completed"
    },
    "tags": []
   },
   "outputs": [
    {
     "name": "stdout",
     "output_type": "stream",
     "text": [
      "Collecting mnist\r\n"
     ]
    },
    {
     "name": "stdout",
     "output_type": "stream",
     "text": [
      "  Downloading mnist-0.2.2-py2.py3-none-any.whl (3.5 kB)\r\n"
     ]
    },
    {
     "name": "stdout",
     "output_type": "stream",
     "text": [
      "Requirement already satisfied: numpy in /opt/hostedtoolcache/Python/3.6.12/x64/lib/python3.6/site-packages (from mnist) (1.19.5)\r\n"
     ]
    },
    {
     "name": "stdout",
     "output_type": "stream",
     "text": [
      "Installing collected packages: mnist\r\n"
     ]
    },
    {
     "name": "stdout",
     "output_type": "stream",
     "text": [
      "Successfully installed mnist-0.2.2\r\n"
     ]
    },
    {
     "name": "stdout",
     "output_type": "stream",
     "text": [
      "\u001b[33mWARNING: You are using pip version 20.3.1; however, version 20.3.3 is available.\r\n",
      "You should consider upgrading via the '/opt/hostedtoolcache/Python/3.6.12/x64/bin/python -m pip install --upgrade pip' command.\u001b[0m\r\n"
     ]
    }
   ],
   "source": [
    "!pip install mnist "
   ]
  },
  {
   "cell_type": "markdown",
   "metadata": {
    "papermill": {
     "duration": 0.027428,
     "end_time": "2021-01-08T00:20:58.203101",
     "exception": false,
     "start_time": "2021-01-08T00:20:58.175673",
     "status": "completed"
    },
    "tags": []
   },
   "source": [
    "#### Importing necessary libraries"
   ]
  },
  {
   "cell_type": "code",
   "execution_count": 2,
   "metadata": {
    "execution": {
     "iopub.execute_input": "2021-01-08T00:20:58.263560Z",
     "iopub.status.busy": "2021-01-08T00:20:58.261751Z",
     "iopub.status.idle": "2021-01-08T00:20:58.851320Z",
     "shell.execute_reply": "2021-01-08T00:20:58.850803Z"
    },
    "papermill": {
     "duration": 0.6229,
     "end_time": "2021-01-08T00:20:58.851494",
     "exception": false,
     "start_time": "2021-01-08T00:20:58.228594",
     "status": "completed"
    },
    "tags": []
   },
   "outputs": [],
   "source": [
    "%load_ext autoreload\n",
    "%autoreload 2\n",
    "\n",
    "%matplotlib inline\n",
    "import matplotlib.pyplot as plt\n",
    "\n",
    "import numpy as np\n",
    "import pandas as pd"
   ]
  },
  {
   "cell_type": "markdown",
   "metadata": {
    "papermill": {
     "duration": 0.028866,
     "end_time": "2021-01-08T00:20:58.907410",
     "exception": false,
     "start_time": "2021-01-08T00:20:58.878544",
     "status": "completed"
    },
    "tags": []
   },
   "source": [
    "### Preparing the Data"
   ]
  },
  {
   "cell_type": "code",
   "execution_count": 3,
   "metadata": {
    "execution": {
     "iopub.execute_input": "2021-01-08T00:20:58.968485Z",
     "iopub.status.busy": "2021-01-08T00:20:58.967735Z",
     "iopub.status.idle": "2021-01-08T00:20:58.979027Z",
     "shell.execute_reply": "2021-01-08T00:20:58.979649Z"
    },
    "papermill": {
     "duration": 0.042114,
     "end_time": "2021-01-08T00:20:58.979786",
     "exception": false,
     "start_time": "2021-01-08T00:20:58.937672",
     "status": "completed"
    },
    "tags": []
   },
   "outputs": [],
   "source": [
    "import mnist"
   ]
  },
  {
   "cell_type": "code",
   "execution_count": 4,
   "metadata": {
    "execution": {
     "iopub.execute_input": "2021-01-08T00:20:59.045385Z",
     "iopub.status.busy": "2021-01-08T00:20:59.044855Z",
     "iopub.status.idle": "2021-01-08T00:20:59.718655Z",
     "shell.execute_reply": "2021-01-08T00:20:59.719146Z"
    },
    "papermill": {
     "duration": 0.711917,
     "end_time": "2021-01-08T00:20:59.719312",
     "exception": false,
     "start_time": "2021-01-08T00:20:59.007395",
     "status": "completed"
    },
    "tags": []
   },
   "outputs": [],
   "source": [
    "train_images = mnist.train_images()\n",
    "train_labels = mnist.train_labels()"
   ]
  },
  {
   "cell_type": "code",
   "execution_count": 5,
   "metadata": {
    "execution": {
     "iopub.execute_input": "2021-01-08T00:20:59.779179Z",
     "iopub.status.busy": "2021-01-08T00:20:59.778316Z",
     "iopub.status.idle": "2021-01-08T00:20:59.804840Z",
     "shell.execute_reply": "2021-01-08T00:20:59.805368Z"
    },
    "papermill": {
     "duration": 0.06073,
     "end_time": "2021-01-08T00:20:59.805523",
     "exception": false,
     "start_time": "2021-01-08T00:20:59.744793",
     "status": "completed"
    },
    "tags": []
   },
   "outputs": [
    {
     "data": {
      "text/plain": [
       "((60000, 28, 28), (60000,))"
      ]
     },
     "execution_count": 5,
     "metadata": {},
     "output_type": "execute_result"
    }
   ],
   "source": [
    "train_images.shape, train_labels.shape"
   ]
  },
  {
   "cell_type": "code",
   "execution_count": 6,
   "metadata": {
    "execution": {
     "iopub.execute_input": "2021-01-08T00:21:00.435923Z",
     "iopub.status.busy": "2021-01-08T00:21:00.435100Z",
     "iopub.status.idle": "2021-01-08T00:21:00.691320Z",
     "shell.execute_reply": "2021-01-08T00:21:00.690775Z"
    },
    "papermill": {
     "duration": 0.851014,
     "end_time": "2021-01-08T00:21:00.691461",
     "exception": false,
     "start_time": "2021-01-08T00:20:59.840447",
     "status": "completed"
    },
    "tags": []
   },
   "outputs": [],
   "source": [
    "test_images = mnist.test_images()\n",
    "test_labels = mnist.test_labels()"
   ]
  },
  {
   "cell_type": "code",
   "execution_count": 7,
   "metadata": {
    "execution": {
     "iopub.execute_input": "2021-01-08T00:21:00.750404Z",
     "iopub.status.busy": "2021-01-08T00:21:00.749819Z",
     "iopub.status.idle": "2021-01-08T00:21:00.762608Z",
     "shell.execute_reply": "2021-01-08T00:21:00.763253Z"
    },
    "papermill": {
     "duration": 0.043842,
     "end_time": "2021-01-08T00:21:00.763377",
     "exception": false,
     "start_time": "2021-01-08T00:21:00.719535",
     "status": "completed"
    },
    "tags": []
   },
   "outputs": [
    {
     "data": {
      "text/plain": [
       "((10000, 28, 28), (10000,))"
      ]
     },
     "execution_count": 7,
     "metadata": {},
     "output_type": "execute_result"
    }
   ],
   "source": [
    "test_images.shape, test_labels.shape"
   ]
  },
  {
   "cell_type": "code",
   "execution_count": 8,
   "metadata": {
    "execution": {
     "iopub.execute_input": "2021-01-08T00:21:00.832960Z",
     "iopub.status.busy": "2021-01-08T00:21:00.832379Z",
     "iopub.status.idle": "2021-01-08T00:21:01.005591Z",
     "shell.execute_reply": "2021-01-08T00:21:01.004976Z"
    },
    "papermill": {
     "duration": 0.21069,
     "end_time": "2021-01-08T00:21:01.005730",
     "exception": false,
     "start_time": "2021-01-08T00:21:00.795040",
     "status": "completed"
    },
    "tags": []
   },
   "outputs": [
    {
     "name": "stdout",
     "output_type": "stream",
     "text": [
      "2\n"
     ]
    },
    {
     "data": {
      "text/plain": [
       "<matplotlib.image.AxesImage at 0x7f95058fc2b0>"
      ]
     },
     "execution_count": 8,
     "metadata": {},
     "output_type": "execute_result"
    },
    {
     "data": {
      "image/png": "[encoded data removed]",
      "text/plain": [
       "<Figure size 432x288 with 1 Axes>"
      ]
     },
     "metadata": {
      "needs_background": "light"
     },
     "output_type": "display_data"
    }
   ],
   "source": [
    "image_index = 7776 # You may select anything up to 60,000\n",
    "print(train_labels[image_index]) \n",
    "plt.imshow(train_images[image_index], cmap='Greys')"
   ]
  },
  {
   "cell_type": "markdown",
   "metadata": {
    "papermill": {
     "duration": 0.029485,
     "end_time": "2021-01-08T00:21:01.066250",
     "exception": false,
     "start_time": "2021-01-08T00:21:01.036765",
     "status": "completed"
    },
    "tags": []
   },
   "source": [
    "## Filter data to get 3 and 8 out"
   ]
  },
  {
   "cell_type": "code",
   "execution_count": 9,
   "metadata": {
    "execution": {
     "iopub.execute_input": "2021-01-08T00:21:01.132077Z",
     "iopub.status.busy": "2021-01-08T00:21:01.131502Z",
     "iopub.status.idle": "2021-01-08T00:21:01.152106Z",
     "shell.execute_reply": "2021-01-08T00:21:01.151516Z"
    },
    "papermill": {
     "duration": 0.056787,
     "end_time": "2021-01-08T00:21:01.152285",
     "exception": false,
     "start_time": "2021-01-08T00:21:01.095498",
     "status": "completed"
    },
    "tags": []
   },
   "outputs": [],
   "source": [
    "train_filter = np.where((train_labels == 3 ) | (train_labels == 8))\n",
    "test_filter = np.where((test_labels == 3) | (test_labels == 8))\n",
    "X_train, y_train = train_images[train_filter], train_labels[train_filter]\n",
    "X_test, y_test = test_images[test_filter], test_labels[test_filter]"
   ]
  },
  {
   "cell_type": "markdown",
   "metadata": {
    "papermill": {
     "duration": 0.031878,
     "end_time": "2021-01-08T00:21:01.216954",
     "exception": false,
     "start_time": "2021-01-08T00:21:01.185076",
     "status": "completed"
    },
    "tags": []
   },
   "source": [
    "We normalize the pixel values in the 0 to 1 range"
   ]
  },
  {
   "cell_type": "code",
   "execution_count": 10,
   "metadata": {
    "execution": {
     "iopub.execute_input": "2021-01-08T00:21:01.286632Z",
     "iopub.status.busy": "2021-01-08T00:21:01.285892Z",
     "iopub.status.idle": "2021-01-08T00:21:01.353233Z",
     "shell.execute_reply": "2021-01-08T00:21:01.352693Z"
    },
    "papermill": {
     "duration": 0.105,
     "end_time": "2021-01-08T00:21:01.353381",
     "exception": false,
     "start_time": "2021-01-08T00:21:01.248381",
     "status": "completed"
    },
    "tags": []
   },
   "outputs": [],
   "source": [
    "X_train = X_train/255.\n",
    "X_test = X_test/255."
   ]
  },
  {
   "cell_type": "markdown",
   "metadata": {
    "papermill": {
     "duration": 0.031,
     "end_time": "2021-01-08T00:21:01.415603",
     "exception": false,
     "start_time": "2021-01-08T00:21:01.384603",
     "status": "completed"
    },
    "tags": []
   },
   "source": [
    "Setup the labels as 1 (when the digit is 3) and 0 (when the digit is 8)"
   ]
  },
  {
   "cell_type": "code",
   "execution_count": 11,
   "metadata": {
    "execution": {
     "iopub.execute_input": "2021-01-08T00:21:01.486995Z",
     "iopub.status.busy": "2021-01-08T00:21:01.486328Z",
     "iopub.status.idle": "2021-01-08T00:21:01.498235Z",
     "shell.execute_reply": "2021-01-08T00:21:01.498898Z"
    },
    "papermill": {
     "duration": 0.051427,
     "end_time": "2021-01-08T00:21:01.499134",
     "exception": false,
     "start_time": "2021-01-08T00:21:01.447707",
     "status": "completed"
    },
    "tags": []
   },
   "outputs": [],
   "source": [
    "y_train = 1*(y_train==3)\n",
    "y_test = 1*(y_test==3)"
   ]
  },
  {
   "cell_type": "code",
   "execution_count": 12,
   "metadata": {
    "execution": {
     "iopub.execute_input": "2021-01-08T00:21:01.568867Z",
     "iopub.status.busy": "2021-01-08T00:21:01.568252Z",
     "iopub.status.idle": "2021-01-08T00:21:01.583911Z",
     "shell.execute_reply": "2021-01-08T00:21:01.583396Z"
    },
    "papermill": {
     "duration": 0.05045,
     "end_time": "2021-01-08T00:21:01.584050",
     "exception": false,
     "start_time": "2021-01-08T00:21:01.533600",
     "status": "completed"
    },
    "tags": []
   },
   "outputs": [
    {
     "data": {
      "text/plain": [
       "((11982, 28, 28), (1984, 28, 28))"
      ]
     },
     "execution_count": 12,
     "metadata": {},
     "output_type": "execute_result"
    }
   ],
   "source": [
    "X_train.shape, X_test.shape"
   ]
  },
  {
   "cell_type": "markdown",
   "metadata": {
    "papermill": {
     "duration": 0.029439,
     "end_time": "2021-01-08T00:21:01.643724",
     "exception": false,
     "start_time": "2021-01-08T00:21:01.614285",
     "status": "completed"
    },
    "tags": []
   },
   "source": [
    "### Reshape the input data to create a linear array"
   ]
  },
  {
   "cell_type": "code",
   "execution_count": 13,
   "metadata": {
    "execution": {
     "iopub.execute_input": "2021-01-08T00:21:01.707980Z",
     "iopub.status.busy": "2021-01-08T00:21:01.707407Z",
     "iopub.status.idle": "2021-01-08T00:21:01.720974Z",
     "shell.execute_reply": "2021-01-08T00:21:01.720506Z"
    },
    "papermill": {
     "duration": 0.046188,
     "end_time": "2021-01-08T00:21:01.721089",
     "exception": false,
     "start_time": "2021-01-08T00:21:01.674901",
     "status": "completed"
    },
    "tags": []
   },
   "outputs": [
    {
     "data": {
      "text/plain": [
       "((11982, 784), (1984, 784))"
      ]
     },
     "execution_count": 13,
     "metadata": {},
     "output_type": "execute_result"
    }
   ],
   "source": [
    "X_train = X_train.reshape(X_train.shape[0], -1)\n",
    "X_test = X_test.reshape(X_test.shape[0], -1)\n",
    "X_train.shape, X_test.shape"
   ]
  },
  {
   "cell_type": "markdown",
   "metadata": {
    "papermill": {
     "duration": 0.032438,
     "end_time": "2021-01-08T00:21:01.780264",
     "exception": false,
     "start_time": "2021-01-08T00:21:01.747826",
     "status": "completed"
    },
    "tags": []
   },
   "source": [
    "### Importing appropriate functions from 'Kudzu'"
   ]
  },
  {
   "cell_type": "code",
   "execution_count": 14,
   "metadata": {
    "execution": {
     "iopub.execute_input": "2021-01-08T00:21:01.855818Z",
     "iopub.status.busy": "2021-01-08T00:21:01.855130Z",
     "iopub.status.idle": "2021-01-08T00:21:01.876933Z",
     "shell.execute_reply": "2021-01-08T00:21:01.877464Z"
    },
    "papermill": {
     "duration": 0.065538,
     "end_time": "2021-01-08T00:21:01.877683",
     "exception": false,
     "start_time": "2021-01-08T00:21:01.812145",
     "status": "completed"
    },
    "tags": []
   },
   "outputs": [],
   "source": [
    "from kudzu.layer import Sigmoid\n",
    "from kudzu.layer import Relu\n",
    "from kudzu.layer import Affine, Sigmoid\n",
    "\n",
    "from kudzu.model import Model\n",
    "from kudzu.train import Learner\n",
    "from kudzu.optim import GD\n",
    "from kudzu.data import Data, Dataloader, Sampler\n",
    "\n",
    "from kudzu.callbacks import AccCallback\n",
    "from kudzu.callbacks import ClfCallback\n",
    "\n",
    "from kudzu.loss import MSE"
   ]
  },
  {
   "cell_type": "markdown",
   "metadata": {
    "papermill": {
     "duration": 0.027133,
     "end_time": "2021-01-08T00:21:01.935151",
     "exception": false,
     "start_time": "2021-01-08T00:21:01.908018",
     "status": "completed"
    },
    "tags": []
   },
   "source": [
    "### Let us create a `Config` class, to store important parameters. \n",
    "This class essentially plays the role of a dictionary."
   ]
  },
  {
   "cell_type": "code",
   "execution_count": 15,
   "metadata": {
    "execution": {
     "iopub.execute_input": "2021-01-08T00:21:02.004262Z",
     "iopub.status.busy": "2021-01-08T00:21:02.003540Z",
     "iopub.status.idle": "2021-01-08T00:21:02.015263Z",
     "shell.execute_reply": "2021-01-08T00:21:02.015764Z"
    },
    "papermill": {
     "duration": 0.051763,
     "end_time": "2021-01-08T00:21:02.015910",
     "exception": false,
     "start_time": "2021-01-08T00:21:01.964147",
     "status": "completed"
    },
    "tags": []
   },
   "outputs": [],
   "source": [
    "class Config:\n",
    "    pass\n",
    "config = Config()\n",
    "config.lr = 0.001\n",
    "config.num_epochs = 251\n",
    "config.bs = 50"
   ]
  },
  {
   "cell_type": "markdown",
   "metadata": {
    "papermill": {
     "duration": 0.029866,
     "end_time": "2021-01-08T00:21:02.076902",
     "exception": false,
     "start_time": "2021-01-08T00:21:02.047036",
     "status": "completed"
    },
    "tags": []
   },
   "source": [
    "### Initializing data to the variables"
   ]
  },
  {
   "cell_type": "code",
   "execution_count": 16,
   "metadata": {
    "execution": {
     "iopub.execute_input": "2021-01-08T00:21:02.144391Z",
     "iopub.status.busy": "2021-01-08T00:21:02.143764Z",
     "iopub.status.idle": "2021-01-08T00:21:02.156873Z",
     "shell.execute_reply": "2021-01-08T00:21:02.157405Z"
    },
    "papermill": {
     "duration": 0.047041,
     "end_time": "2021-01-08T00:21:02.157530",
     "exception": false,
     "start_time": "2021-01-08T00:21:02.110489",
     "status": "completed"
    },
    "tags": []
   },
   "outputs": [],
   "source": [
    "data = Data(X_train, y_train.reshape(-1,1))\n",
    "sampler = Sampler(data, config.bs, shuffle=True)\n",
    "\n",
    "dl = Dataloader(data, sampler)\n",
    "\n",
    "opt = GD(config.lr)\n",
    "loss = MSE()"
   ]
  },
  {
   "cell_type": "code",
   "execution_count": 17,
   "metadata": {
    "execution": {
     "iopub.execute_input": "2021-01-08T00:21:02.229165Z",
     "iopub.status.busy": "2021-01-08T00:21:02.228561Z",
     "iopub.status.idle": "2021-01-08T00:21:02.240657Z",
     "shell.execute_reply": "2021-01-08T00:21:02.241162Z"
    },
    "papermill": {
     "duration": 0.054196,
     "end_time": "2021-01-08T00:21:02.241305",
     "exception": false,
     "start_time": "2021-01-08T00:21:02.187109",
     "status": "completed"
    },
    "tags": []
   },
   "outputs": [],
   "source": [
    "training_xdata = X_train\n",
    "testing_xdata = X_test\n",
    "training_ydata = y_train.reshape(-1,1)\n",
    "testing_ydata = y_test.reshape(-1,1)"
   ]
  },
  {
   "cell_type": "markdown",
   "metadata": {
    "papermill": {
     "duration": 0.030995,
     "end_time": "2021-01-08T00:21:02.301754",
     "exception": false,
     "start_time": "2021-01-08T00:21:02.270759",
     "status": "completed"
    },
    "tags": []
   },
   "source": [
    "### Running Models with the Training data\n",
    "Details about the network layers:\n",
    "- A first affine layer has 784 inputs and does 100 affine transforms. These are followed by a Relu\n",
    "- A second affine layer has 100 inputs from the 100 activations of the past layer, and does 100 affine transforms. These are followed by a Relu\n",
    "- A third affine layer has 100 activations and does 2 affine transformations to create an embedding for visualization. There is no non-linearity here.\n",
    "- A final \"logistic regression\" which has an affine transform from 2 inputs to 1 output, which is squeezed through a sigmoid.\n",
    "\n",
    "Help taken from Anshuman's Notebook."
   ]
  },
  {
   "cell_type": "code",
   "execution_count": 18,
   "metadata": {
    "execution": {
     "iopub.execute_input": "2021-01-08T00:21:02.372502Z",
     "iopub.status.busy": "2021-01-08T00:21:02.371898Z",
     "iopub.status.idle": "2021-01-08T00:21:02.386874Z",
     "shell.execute_reply": "2021-01-08T00:21:02.386225Z"
    },
    "papermill": {
     "duration": 0.054026,
     "end_time": "2021-01-08T00:21:02.387009",
     "exception": false,
     "start_time": "2021-01-08T00:21:02.332983",
     "status": "completed"
    },
    "tags": []
   },
   "outputs": [],
   "source": [
    "# layers for the Neural Network\n",
    "layers = [Affine(\"first\", 784, 100), Relu(\"first\"), Affine(\"second\", 100, 100), Relu(\"second\"), Affine(\"third\", 100, 2), Affine(\"final\", 2, 1), Sigmoid(\"final\")]\n",
    "model_nn = Model(layers)\n",
    "\n",
    "# layers for the Logistic Regression\n",
    "layers_lr = [Affine(\"logits\", 784, 1), Sigmoid(\"sigmoid\")]\n",
    "model_lr = Model(layers_lr)"
   ]
  },
  {
   "cell_type": "code",
   "execution_count": 19,
   "metadata": {
    "execution": {
     "iopub.execute_input": "2021-01-08T00:21:02.455324Z",
     "iopub.status.busy": "2021-01-08T00:21:02.454631Z",
     "iopub.status.idle": "2021-01-08T00:21:02.465005Z",
     "shell.execute_reply": "2021-01-08T00:21:02.464511Z"
    },
    "papermill": {
     "duration": 0.049922,
     "end_time": "2021-01-08T00:21:02.465115",
     "exception": false,
     "start_time": "2021-01-08T00:21:02.415193",
     "status": "completed"
    },
    "tags": []
   },
   "outputs": [],
   "source": [
    "# suffix _nn stands for Neural Network.\n",
    "learner_nn = Learner(loss, model_nn, opt, config.num_epochs)\n",
    "acc_nn = ClfCallback(learner_nn, config.bs, training_xdata , testing_xdata, training_ydata, testing_ydata)\n",
    "learner_nn.set_callbacks([acc_nn])"
   ]
  },
  {
   "cell_type": "code",
   "execution_count": 20,
   "metadata": {
    "execution": {
     "iopub.execute_input": "2021-01-08T00:21:02.537057Z",
     "iopub.status.busy": "2021-01-08T00:21:02.536082Z",
     "iopub.status.idle": "2021-01-08T00:23:30.257544Z",
     "shell.execute_reply": "2021-01-08T00:23:30.258366Z"
    },
    "papermill": {
     "duration": 147.765107,
     "end_time": "2021-01-08T00:23:30.258524",
     "exception": false,
     "start_time": "2021-01-08T00:21:02.493417",
     "status": "completed"
    },
    "tags": []
   },
   "outputs": [
    {
     "name": "stdout",
     "output_type": "stream",
     "text": [
      "====== Neural Network ======\n"
     ]
    },
    {
     "name": "stdout",
     "output_type": "stream",
     "text": [
      "Epoch 0, Loss 0.2572\n",
      "Training Accuracy: 0.6819, Testing Accuracy: 0.6966\n",
      "\n"
     ]
    },
    {
     "name": "stdout",
     "output_type": "stream",
     "text": [
      "Epoch 10, Loss 0.0623\n",
      "Training Accuracy: 0.9394, Testing Accuracy: 0.9536\n",
      "\n"
     ]
    },
    {
     "name": "stdout",
     "output_type": "stream",
     "text": [
      "Epoch 20, Loss 0.0435\n",
      "Training Accuracy: 0.9547, Testing Accuracy: 0.9652\n",
      "\n"
     ]
    },
    {
     "name": "stdout",
     "output_type": "stream",
     "text": [
      "Epoch 30, Loss 0.0362\n",
      "Training Accuracy: 0.9613, Testing Accuracy: 0.9677\n",
      "\n"
     ]
    },
    {
     "name": "stdout",
     "output_type": "stream",
     "text": [
      "Epoch 40, Loss 0.0321\n",
      "Training Accuracy: 0.9645, Testing Accuracy: 0.9693\n",
      "\n"
     ]
    },
    {
     "name": "stdout",
     "output_type": "stream",
     "text": [
      "Epoch 50, Loss 0.0294\n",
      "Training Accuracy: 0.9673, Testing Accuracy: 0.9713\n",
      "\n"
     ]
    },
    {
     "name": "stdout",
     "output_type": "stream",
     "text": [
      "Epoch 60, Loss 0.0274\n",
      "Training Accuracy: 0.9695, Testing Accuracy: 0.9738\n",
      "\n"
     ]
    },
    {
     "name": "stdout",
     "output_type": "stream",
     "text": [
      "Epoch 70, Loss 0.0259\n",
      "Training Accuracy: 0.9711, Testing Accuracy: 0.9738\n",
      "\n"
     ]
    },
    {
     "name": "stdout",
     "output_type": "stream",
     "text": [
      "Epoch 80, Loss 0.0246\n",
      "Training Accuracy: 0.9725, Testing Accuracy: 0.9748\n",
      "\n"
     ]
    },
    {
     "name": "stdout",
     "output_type": "stream",
     "text": [
      "Epoch 90, Loss 0.0236\n",
      "Training Accuracy: 0.9738, Testing Accuracy: 0.9743\n",
      "\n"
     ]
    },
    {
     "name": "stdout",
     "output_type": "stream",
     "text": [
      "Epoch 100, Loss 0.0226\n",
      "Training Accuracy: 0.9749, Testing Accuracy: 0.9773\n",
      "\n"
     ]
    },
    {
     "name": "stdout",
     "output_type": "stream",
     "text": [
      "Epoch 110, Loss 0.0218\n",
      "Training Accuracy: 0.9761, Testing Accuracy: 0.9768\n",
      "\n"
     ]
    },
    {
     "name": "stdout",
     "output_type": "stream",
     "text": [
      "Epoch 120, Loss 0.0211\n",
      "Training Accuracy: 0.9766, Testing Accuracy: 0.9773\n",
      "\n"
     ]
    },
    {
     "name": "stdout",
     "output_type": "stream",
     "text": [
      "Epoch 130, Loss 0.0205\n",
      "Training Accuracy: 0.9770, Testing Accuracy: 0.9783\n",
      "\n"
     ]
    },
    {
     "name": "stdout",
     "output_type": "stream",
     "text": [
      "Epoch 140, Loss 0.0198\n",
      "Training Accuracy: 0.9776, Testing Accuracy: 0.9778\n",
      "\n"
     ]
    },
    {
     "name": "stdout",
     "output_type": "stream",
     "text": [
      "Epoch 150, Loss 0.0193\n",
      "Training Accuracy: 0.9780, Testing Accuracy: 0.9778\n",
      "\n"
     ]
    },
    {
     "name": "stdout",
     "output_type": "stream",
     "text": [
      "Epoch 160, Loss 0.0187\n",
      "Training Accuracy: 0.9790, Testing Accuracy: 0.9778\n",
      "\n"
     ]
    },
    {
     "name": "stdout",
     "output_type": "stream",
     "text": [
      "Epoch 170, Loss 0.0182\n",
      "Training Accuracy: 0.9798, Testing Accuracy: 0.9778\n",
      "\n"
     ]
    },
    {
     "name": "stdout",
     "output_type": "stream",
     "text": [
      "Epoch 180, Loss 0.0178\n",
      "Training Accuracy: 0.9806, Testing Accuracy: 0.9778\n",
      "\n"
     ]
    },
    {
     "name": "stdout",
     "output_type": "stream",
     "text": [
      "Epoch 190, Loss 0.0173\n",
      "Training Accuracy: 0.9809, Testing Accuracy: 0.9788\n",
      "\n"
     ]
    },
    {
     "name": "stdout",
     "output_type": "stream",
     "text": [
      "Epoch 200, Loss 0.0169\n",
      "Training Accuracy: 0.9816, Testing Accuracy: 0.9793\n",
      "\n"
     ]
    },
    {
     "name": "stdout",
     "output_type": "stream",
     "text": [
      "Epoch 210, Loss 0.0165\n",
      "Training Accuracy: 0.9819, Testing Accuracy: 0.9798\n",
      "\n"
     ]
    },
    {
     "name": "stdout",
     "output_type": "stream",
     "text": [
      "Epoch 220, Loss 0.0161\n",
      "Training Accuracy: 0.9822, Testing Accuracy: 0.9803\n",
      "\n"
     ]
    },
    {
     "name": "stdout",
     "output_type": "stream",
     "text": [
      "Epoch 230, Loss 0.0158\n",
      "Training Accuracy: 0.9826, Testing Accuracy: 0.9803\n",
      "\n"
     ]
    },
    {
     "name": "stdout",
     "output_type": "stream",
     "text": [
      "Epoch 240, Loss 0.0154\n",
      "Training Accuracy: 0.9829, Testing Accuracy: 0.9803\n",
      "\n"
     ]
    },
    {
     "name": "stdout",
     "output_type": "stream",
     "text": [
      "Epoch 250, Loss 0.0151\n",
      "Training Accuracy: 0.9834, Testing Accuracy: 0.9814\n",
      "\n"
     ]
    },
    {
     "data": {
      "text/plain": [
       "0.008465740041504174"
      ]
     },
     "execution_count": 20,
     "metadata": {},
     "output_type": "execute_result"
    }
   ],
   "source": [
    "print(\"====== Neural Network ======\")\n",
    "learner_nn.train_loop(dl)"
   ]
  },
  {
   "cell_type": "markdown",
   "metadata": {
    "papermill": {
     "duration": 0.042109,
     "end_time": "2021-01-08T00:23:30.342013",
     "exception": false,
     "start_time": "2021-01-08T00:23:30.299904",
     "status": "completed"
    },
    "tags": []
   },
   "source": [
    "### Logistic Regression based Implementation."
   ]
  },
  {
   "cell_type": "code",
   "execution_count": 21,
   "metadata": {
    "execution": {
     "iopub.execute_input": "2021-01-08T00:23:30.429353Z",
     "iopub.status.busy": "2021-01-08T00:23:30.428020Z",
     "iopub.status.idle": "2021-01-08T00:23:30.439507Z",
     "shell.execute_reply": "2021-01-08T00:23:30.439978Z"
    },
    "papermill": {
     "duration": 0.055522,
     "end_time": "2021-01-08T00:23:30.440118",
     "exception": false,
     "start_time": "2021-01-08T00:23:30.384596",
     "status": "completed"
    },
    "tags": []
   },
   "outputs": [],
   "source": [
    "learner_lr = Learner(loss, model_lr, opt, config.num_epochs)\n",
    "acc_lr = ClfCallback(learner_lr, config.bs, training_xdata , testing_xdata, training_ydata, testing_ydata)\n",
    "learner_lr.set_callbacks([acc_lr])"
   ]
  },
  {
   "cell_type": "code",
   "execution_count": 22,
   "metadata": {
    "execution": {
     "iopub.execute_input": "2021-01-08T00:23:30.528980Z",
     "iopub.status.busy": "2021-01-08T00:23:30.527657Z",
     "iopub.status.idle": "2021-01-08T00:23:51.632333Z",
     "shell.execute_reply": "2021-01-08T00:23:51.633077Z"
    },
    "papermill": {
     "duration": 21.152755,
     "end_time": "2021-01-08T00:23:51.633229",
     "exception": false,
     "start_time": "2021-01-08T00:23:30.480474",
     "status": "completed"
    },
    "tags": []
   },
   "outputs": [
    {
     "name": "stdout",
     "output_type": "stream",
     "text": [
      "====== Logistic Regression ======\n",
      "Epoch 0, Loss 0.2601\n",
      "Training Accuracy: 0.6247, Testing Accuracy: 0.6426\n",
      "\n"
     ]
    },
    {
     "name": "stdout",
     "output_type": "stream",
     "text": [
      "Epoch 10, Loss 0.1042\n",
      "Training Accuracy: 0.9049, Testing Accuracy: 0.9068\n",
      "\n"
     ]
    },
    {
     "name": "stdout",
     "output_type": "stream",
     "text": [
      "Epoch 20, Loss 0.0795\n",
      "Training Accuracy: 0.9257, Testing Accuracy: 0.9390\n",
      "\n"
     ]
    },
    {
     "name": "stdout",
     "output_type": "stream",
     "text": [
      "Epoch 30, Loss 0.0681\n",
      "Training Accuracy: 0.9357, Testing Accuracy: 0.9466\n",
      "\n"
     ]
    },
    {
     "name": "stdout",
     "output_type": "stream",
     "text": [
      "Epoch 40, Loss 0.0613\n",
      "Training Accuracy: 0.9412, Testing Accuracy: 0.9536\n",
      "\n"
     ]
    },
    {
     "name": "stdout",
     "output_type": "stream",
     "text": [
      "Epoch 50, Loss 0.0567\n",
      "Training Accuracy: 0.9448, Testing Accuracy: 0.9572\n",
      "\n"
     ]
    },
    {
     "name": "stdout",
     "output_type": "stream",
     "text": [
      "Epoch 60, Loss 0.0533\n",
      "Training Accuracy: 0.9482, Testing Accuracy: 0.9587\n",
      "\n"
     ]
    },
    {
     "name": "stdout",
     "output_type": "stream",
     "text": [
      "Epoch 70, Loss 0.0508\n",
      "Training Accuracy: 0.9498, Testing Accuracy: 0.9612\n",
      "\n"
     ]
    },
    {
     "name": "stdout",
     "output_type": "stream",
     "text": [
      "Epoch 80, Loss 0.0487\n",
      "Training Accuracy: 0.9515, Testing Accuracy: 0.9612\n",
      "\n"
     ]
    },
    {
     "name": "stdout",
     "output_type": "stream",
     "text": [
      "Epoch 90, Loss 0.0471\n",
      "Training Accuracy: 0.9527, Testing Accuracy: 0.9622\n",
      "\n"
     ]
    },
    {
     "name": "stdout",
     "output_type": "stream",
     "text": [
      "Epoch 100, Loss 0.0457\n",
      "Training Accuracy: 0.9537, Testing Accuracy: 0.9632\n",
      "\n"
     ]
    },
    {
     "name": "stdout",
     "output_type": "stream",
     "text": [
      "Epoch 110, Loss 0.0445\n",
      "Training Accuracy: 0.9546, Testing Accuracy: 0.9637\n",
      "\n"
     ]
    },
    {
     "name": "stdout",
     "output_type": "stream",
     "text": [
      "Epoch 120, Loss 0.0434\n",
      "Training Accuracy: 0.9561, Testing Accuracy: 0.9647\n",
      "\n"
     ]
    },
    {
     "name": "stdout",
     "output_type": "stream",
     "text": [
      "Epoch 130, Loss 0.0425\n",
      "Training Accuracy: 0.9567, Testing Accuracy: 0.9647\n",
      "\n"
     ]
    },
    {
     "name": "stdout",
     "output_type": "stream",
     "text": [
      "Epoch 140, Loss 0.0417\n",
      "Training Accuracy: 0.9573, Testing Accuracy: 0.9652\n",
      "\n"
     ]
    },
    {
     "name": "stdout",
     "output_type": "stream",
     "text": [
      "Epoch 150, Loss 0.041\n",
      "Training Accuracy: 0.9576, Testing Accuracy: 0.9657\n",
      "\n"
     ]
    },
    {
     "name": "stdout",
     "output_type": "stream",
     "text": [
      "Epoch 160, Loss 0.0403\n",
      "Training Accuracy: 0.9580, Testing Accuracy: 0.9667\n",
      "\n"
     ]
    },
    {
     "name": "stdout",
     "output_type": "stream",
     "text": [
      "Epoch 170, Loss 0.0397\n",
      "Training Accuracy: 0.9582, Testing Accuracy: 0.9662\n",
      "\n"
     ]
    },
    {
     "name": "stdout",
     "output_type": "stream",
     "text": [
      "Epoch 180, Loss 0.0392\n",
      "Training Accuracy: 0.9584, Testing Accuracy: 0.9667\n",
      "\n"
     ]
    },
    {
     "name": "stdout",
     "output_type": "stream",
     "text": [
      "Epoch 190, Loss 0.0387\n",
      "Training Accuracy: 0.9589, Testing Accuracy: 0.9667\n",
      "\n"
     ]
    },
    {
     "name": "stdout",
     "output_type": "stream",
     "text": [
      "Epoch 200, Loss 0.0382\n",
      "Training Accuracy: 0.9595, Testing Accuracy: 0.9667\n",
      "\n"
     ]
    },
    {
     "name": "stdout",
     "output_type": "stream",
     "text": [
      "Epoch 210, Loss 0.0378\n",
      "Training Accuracy: 0.9603, Testing Accuracy: 0.9667\n",
      "\n"
     ]
    },
    {
     "name": "stdout",
     "output_type": "stream",
     "text": [
      "Epoch 220, Loss 0.0374\n",
      "Training Accuracy: 0.9604, Testing Accuracy: 0.9662\n",
      "\n"
     ]
    },
    {
     "name": "stdout",
     "output_type": "stream",
     "text": [
      "Epoch 230, Loss 0.037\n",
      "Training Accuracy: 0.9608, Testing Accuracy: 0.9662\n",
      "\n"
     ]
    },
    {
     "name": "stdout",
     "output_type": "stream",
     "text": [
      "Epoch 240, Loss 0.0366\n",
      "Training Accuracy: 0.9612, Testing Accuracy: 0.9662\n",
      "\n"
     ]
    },
    {
     "name": "stdout",
     "output_type": "stream",
     "text": [
      "Epoch 250, Loss 0.0363\n",
      "Training Accuracy: 0.9618, Testing Accuracy: 0.9662\n",
      "\n"
     ]
    },
    {
     "data": {
      "text/plain": [
       "0.06579787210337554"
      ]
     },
     "execution_count": 22,
     "metadata": {},
     "output_type": "execute_result"
    }
   ],
   "source": [
    "print(\"====== Logistic Regression ======\")\n",
    "learner_lr.train_loop(dl)"
   ]
  },
  {
   "cell_type": "markdown",
   "metadata": {
    "papermill": {
     "duration": 0.049292,
     "end_time": "2021-01-08T00:23:51.733838",
     "exception": false,
     "start_time": "2021-01-08T00:23:51.684546",
     "status": "completed"
    },
    "tags": []
   },
   "source": [
    "### Comparing results of NN and LR"
   ]
  },
  {
   "cell_type": "code",
   "execution_count": 23,
   "metadata": {
    "execution": {
     "iopub.execute_input": "2021-01-08T00:23:51.834837Z",
     "iopub.status.busy": "2021-01-08T00:23:51.834159Z",
     "iopub.status.idle": "2021-01-08T00:23:52.119560Z",
     "shell.execute_reply": "2021-01-08T00:23:52.119098Z"
    },
    "papermill": {
     "duration": 0.337868,
     "end_time": "2021-01-08T00:23:52.119706",
     "exception": false,
     "start_time": "2021-01-08T00:23:51.781838",
     "status": "completed"
    },
    "tags": []
   },
   "outputs": [
    {
     "data": {
      "text/plain": [
       "<matplotlib.legend.Legend at 0x7f95054d0be0>"
      ]
     },
     "execution_count": 23,
     "metadata": {},
     "output_type": "execute_result"
    },
    {
     "data": {
      "image/png": "[encoded data removed]",
      "text/plain": [
       "<Figure size 1080x720 with 1 Axes>"
      ]
     },
     "metadata": {
      "needs_background": "light"
     },
     "output_type": "display_data"
    }
   ],
   "source": [
    "plt.figure(figsize=(15,10))\n",
    "\n",
    "# Neural Network plots\n",
    "plt.plot(acc_nn.accuracies, 'r-', label = \"Training Accuracies - NN\")\n",
    "plt.plot(acc_nn.test_accuracies, 'g-', label = \"Testing Accuracies - NN\")\n",
    "\n",
    "# Logistic Regression plots\n",
    "plt.plot(acc_lr.accuracies, 'k-', label = \"Training Accuracies - LR\")\n",
    "plt.plot(acc_lr.test_accuracies, 'b-', label = \"Testing Accuracies - LR\")\n",
    "\n",
    "plt.ylim(0.8, 1)\n",
    "\n",
    "plt.legend()\n",
    "\n"
   ]
  },
  {
   "cell_type": "markdown",
   "metadata": {
    "papermill": {
     "duration": 0.047014,
     "end_time": "2021-01-08T00:23:52.212218",
     "exception": false,
     "start_time": "2021-01-08T00:23:52.165204",
     "status": "completed"
    },
    "tags": []
   },
   "source": [
    "### From the plot, we can observe the following:\n",
    "- Neural Network achieves higher accuracy than the Logistic Regression model.\n",
    "- This apparently, is because of overfitting, i.e. NN captures more noise than data.\n",
    "- Testing accuracy of NN drops below the Training accuracy at higher epochs. This explains the over-fitting on training data.\n",
    "- Logistic Regression gives a reliable accuracy, without the above mentioned problem.\n"
   ]
  },
  {
   "cell_type": "markdown",
   "metadata": {
    "papermill": {
     "duration": 0.04856,
     "end_time": "2021-01-08T00:23:52.307440",
     "exception": false,
     "start_time": "2021-01-08T00:23:52.258880",
     "status": "completed"
    },
    "tags": []
   },
   "source": [
    "### Moving till the last but one layer (excluding it).\n",
    "#### Plotting the outputs of this layer of the NN."
   ]
  },
  {
   "cell_type": "code",
   "execution_count": 24,
   "metadata": {
    "execution": {
     "iopub.execute_input": "2021-01-08T00:23:52.414678Z",
     "iopub.status.busy": "2021-01-08T00:23:52.410120Z",
     "iopub.status.idle": "2021-01-08T00:23:52.421996Z",
     "shell.execute_reply": "2021-01-08T00:23:52.422739Z"
    },
    "papermill": {
     "duration": 0.066,
     "end_time": "2021-01-08T00:23:52.422915",
     "exception": false,
     "start_time": "2021-01-08T00:23:52.356915",
     "status": "completed"
    },
    "tags": []
   },
   "outputs": [],
   "source": [
    "model_new = Model(layers[:-2])"
   ]
  },
  {
   "cell_type": "code",
   "execution_count": 25,
   "metadata": {
    "execution": {
     "iopub.execute_input": "2021-01-08T00:23:52.521861Z",
     "iopub.status.busy": "2021-01-08T00:23:52.521251Z",
     "iopub.status.idle": "2021-01-08T00:23:52.544303Z",
     "shell.execute_reply": "2021-01-08T00:23:52.545051Z"
    },
    "papermill": {
     "duration": 0.076213,
     "end_time": "2021-01-08T00:23:52.545260",
     "exception": false,
     "start_time": "2021-01-08T00:23:52.469047",
     "status": "completed"
    },
    "tags": []
   },
   "outputs": [],
   "source": [
    "plot_testing = model_new(testing_xdata)"
   ]
  },
  {
   "cell_type": "code",
   "execution_count": 26,
   "metadata": {
    "execution": {
     "iopub.execute_input": "2021-01-08T00:23:52.651805Z",
     "iopub.status.busy": "2021-01-08T00:23:52.651082Z",
     "iopub.status.idle": "2021-01-08T00:23:52.844948Z",
     "shell.execute_reply": "2021-01-08T00:23:52.844360Z"
    },
    "papermill": {
     "duration": 0.250369,
     "end_time": "2021-01-08T00:23:52.845134",
     "exception": false,
     "start_time": "2021-01-08T00:23:52.594765",
     "status": "completed"
    },
    "tags": []
   },
   "outputs": [
    {
     "data": {
      "text/plain": [
       "Text(0.5, 1.0, 'Outputs')"
      ]
     },
     "execution_count": 26,
     "metadata": {},
     "output_type": "execute_result"
    },
    {
     "data": {
      "image/png": "[encoded data removed]",
      "text/plain": [
       "<Figure size 576x504 with 1 Axes>"
      ]
     },
     "metadata": {
      "needs_background": "light"
     },
     "output_type": "display_data"
    }
   ],
   "source": [
    "plt.figure(figsize=(8,7))\n",
    "plt.scatter(plot_testing[:,0], plot_testing[:,1], alpha = 0.1, c = y_test.ravel());\n",
    "plt.title('Outputs')"
   ]
  },
  {
   "cell_type": "markdown",
   "metadata": {
    "papermill": {
     "duration": 0.053698,
     "end_time": "2021-01-08T00:23:52.949841",
     "exception": false,
     "start_time": "2021-01-08T00:23:52.896143",
     "status": "completed"
    },
    "tags": []
   },
   "source": [
    "### Plotting probability contours"
   ]
  },
  {
   "cell_type": "code",
   "execution_count": 27,
   "metadata": {
    "execution": {
     "iopub.execute_input": "2021-01-08T00:23:53.079733Z",
     "iopub.status.busy": "2021-01-08T00:23:53.077865Z",
     "iopub.status.idle": "2021-01-08T00:23:53.092617Z",
     "shell.execute_reply": "2021-01-08T00:23:53.091895Z"
    },
    "papermill": {
     "duration": 0.092762,
     "end_time": "2021-01-08T00:23:53.092774",
     "exception": false,
     "start_time": "2021-01-08T00:23:53.000012",
     "status": "completed"
    },
    "tags": []
   },
   "outputs": [],
   "source": [
    "model_prob = Model(layers[-2:]) "
   ]
  },
  {
   "cell_type": "code",
   "execution_count": 28,
   "metadata": {
    "execution": {
     "iopub.execute_input": "2021-01-08T00:23:53.207593Z",
     "iopub.status.busy": "2021-01-08T00:23:53.206668Z",
     "iopub.status.idle": "2021-01-08T00:23:53.222241Z",
     "shell.execute_reply": "2021-01-08T00:23:53.222763Z"
    },
    "papermill": {
     "duration": 0.075841,
     "end_time": "2021-01-08T00:23:53.222900",
     "exception": false,
     "start_time": "2021-01-08T00:23:53.147059",
     "status": "completed"
    },
    "tags": []
   },
   "outputs": [],
   "source": [
    "# Adjust the x and y ranges according to the above generated plot.\n",
    "x_range = np.linspace(-4, 1, 100) \n",
    "y_range = np.linspace(-6, 6, 100) \n",
    "x_grid, y_grid = np.meshgrid(x_range, y_range) # x_grid and y_grig are of size 100 X 100\n",
    "\n",
    "# converting x_grid and y_grid to continuous arrays\n",
    "x_grid_flat = np.ravel(x_grid)\n",
    "y_grid_flat = np.ravel(y_grid)\n",
    "\n",
    "# The last layer of the current model takes two columns as input. Hence transpose of np.vstack() is required.\n",
    "X = np.vstack((x_grid_flat, y_grid_flat)).T\n",
    "\n",
    "# x_grid and y_grid are of size 100 x 100\n",
    "probability_contour = model_prob(X).reshape(100,100) "
   ]
  },
  {
   "cell_type": "code",
   "execution_count": 29,
   "metadata": {
    "execution": {
     "iopub.execute_input": "2021-01-08T00:23:53.342262Z",
     "iopub.status.busy": "2021-01-08T00:23:53.341659Z",
     "iopub.status.idle": "2021-01-08T00:23:53.628567Z",
     "shell.execute_reply": "2021-01-08T00:23:53.627635Z"
    },
    "papermill": {
     "duration": 0.350611,
     "end_time": "2021-01-08T00:23:53.628728",
     "exception": false,
     "start_time": "2021-01-08T00:23:53.278117",
     "status": "completed"
    },
    "tags": []
   },
   "outputs": [
    {
     "data": {
      "image/png": "[encoded data removed]",
      "text/plain": [
       "<Figure size 720x648 with 1 Axes>"
      ]
     },
     "metadata": {
      "needs_background": "light"
     },
     "output_type": "display_data"
    }
   ],
   "source": [
    "plt.figure(figsize=(10,9))\n",
    "plt.scatter(plot_testing[:,0], plot_testing[:,1], alpha = 0.1, c = y_test.ravel())\n",
    "contours = plt.contour(x_grid,y_grid,probability_contour)\n",
    "plt.title('Probability Contours')\n",
    "plt.clabel(contours, inline = True );"
   ]
  }
 ],
 "metadata": {
  "kernelspec": {
   "display_name": "Python 3",
   "language": "python",
   "name": "python3"
  },
  "language_info": {
   "codemirror_mode": {
    "name": "ipython",
    "version": 3
   },
   "file_extension": ".py",
   "mimetype": "text/x-python",
   "name": "python",
   "nbconvert_exporter": "python",
   "pygments_lexer": "ipython3",
   "version": "3.6.12"
  },
  "papermill": {
   "duration": 178.647649,
   "end_time": "2021-01-08T00:23:53.989472",
   "environment_variables": {},
   "exception": null,
   "input_path": "2020-08-11-NeuralNetwork.ipynb",
   "output_path": "2020-08-11-NeuralNetwork.ipynb",
   "parameters": {},
   "start_time": "2021-01-08T00:20:55.341823",
   "version": "2.1.2"
  }
 },
 "nbformat": 4,
 "nbformat_minor": 4
}