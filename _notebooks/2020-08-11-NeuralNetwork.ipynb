{
 "cells": [
  {
   "cell_type": "markdown",
   "metadata": {
    "papermill": {
     "duration": 0.031341,
     "end_time": "2020-12-28T10:11:33.725107",
     "exception": false,
     "start_time": "2020-12-28T10:11:33.693766",
     "status": "completed"
    },
    "tags": []
   },
   "source": [
    "# \"A Basic Neural Network: Differentiate Hand-Written Digits\"\n",
    "\n",
    "- badges: true\n",
    "- author: Akshith Sriram"
   ]
  },
  {
   "cell_type": "markdown",
   "metadata": {
    "papermill": {
     "duration": 0.025014,
     "end_time": "2020-12-28T10:11:33.776045",
     "exception": false,
     "start_time": "2020-12-28T10:11:33.751031",
     "status": "completed"
    },
    "tags": []
   },
   "source": [
    "### Key Objectives:\n",
    "- Building a neural network that differentiates two hand-written digits 3 and 8.\n",
    "- Comparing the results of this Neural Network (NN) to that of a Logistic Regression (LR) model.\n",
    "\n",
    "### Requirements:\n",
    "- 'Kudzu' : A neural network library that was designed during our course by [Univ.AI](www.univ.ai). \n",
    "- MNIST Database\n",
    "\n",
    "If MNIST is not installed, use the command `!pip install mnist` given below.\n",
    "It can be run both from the command line and Jupyter Notebook."
   ]
  },
  {
   "cell_type": "code",
   "execution_count": 1,
   "metadata": {
    "execution": {
     "iopub.execute_input": "2020-12-28T10:11:33.843099Z",
     "iopub.status.busy": "2020-12-28T10:11:33.842483Z",
     "iopub.status.idle": "2020-12-28T10:11:35.510756Z",
     "shell.execute_reply": "2020-12-28T10:11:35.511324Z"
    },
    "papermill": {
     "duration": 1.71048,
     "end_time": "2020-12-28T10:11:35.511591",
     "exception": false,
     "start_time": "2020-12-28T10:11:33.801111",
     "status": "completed"
    },
    "tags": []
   },
   "outputs": [
    {
     "name": "stdout",
     "output_type": "stream",
     "text": [
      "Collecting mnist\r\n"
     ]
    },
    {
     "name": "stdout",
     "output_type": "stream",
     "text": [
      "  Downloading mnist-0.2.2-py2.py3-none-any.whl (3.5 kB)\r\n",
      "Requirement already satisfied: numpy in /opt/hostedtoolcache/Python/3.6.12/x64/lib/python3.6/site-packages (from mnist) (1.19.4)\r\n"
     ]
    },
    {
     "name": "stdout",
     "output_type": "stream",
     "text": [
      "Installing collected packages: mnist\r\n"
     ]
    },
    {
     "name": "stdout",
     "output_type": "stream",
     "text": [
      "Successfully installed mnist-0.2.2\r\n",
      "\u001b[33mWARNING: You are using pip version 20.3.1; however, version 20.3.3 is available.\r\n",
      "You should consider upgrading via the '/opt/hostedtoolcache/Python/3.6.12/x64/bin/python -m pip install --upgrade pip' command.\u001b[0m\r\n"
     ]
    }
   ],
   "source": [
    "!pip install mnist "
   ]
  },
  {
   "cell_type": "markdown",
   "metadata": {
    "papermill": {
     "duration": 0.027901,
     "end_time": "2020-12-28T10:11:35.571755",
     "exception": false,
     "start_time": "2020-12-28T10:11:35.543854",
     "status": "completed"
    },
    "tags": []
   },
   "source": [
    "#### Importing necessary libraries"
   ]
  },
  {
   "cell_type": "code",
   "execution_count": 2,
   "metadata": {
    "execution": {
     "iopub.execute_input": "2020-12-28T10:11:35.648717Z",
     "iopub.status.busy": "2020-12-28T10:11:35.647305Z",
     "iopub.status.idle": "2020-12-28T10:11:36.313634Z",
     "shell.execute_reply": "2020-12-28T10:11:36.312640Z"
    },
    "papermill": {
     "duration": 0.712134,
     "end_time": "2020-12-28T10:11:36.313791",
     "exception": false,
     "start_time": "2020-12-28T10:11:35.601657",
     "status": "completed"
    },
    "tags": []
   },
   "outputs": [],
   "source": [
    "%load_ext autoreload\n",
    "%autoreload 2\n",
    "\n",
    "%matplotlib inline\n",
    "import matplotlib.pyplot as plt\n",
    "\n",
    "import numpy as np\n",
    "import pandas as pd"
   ]
  },
  {
   "cell_type": "markdown",
   "metadata": {
    "papermill": {
     "duration": 0.031929,
     "end_time": "2020-12-28T10:11:36.373008",
     "exception": false,
     "start_time": "2020-12-28T10:11:36.341079",
     "status": "completed"
    },
    "tags": []
   },
   "source": [
    "### Preparing the Data"
   ]
  },
  {
   "cell_type": "code",
   "execution_count": 3,
   "metadata": {
    "execution": {
     "iopub.execute_input": "2020-12-28T10:11:36.430998Z",
     "iopub.status.busy": "2020-12-28T10:11:36.430392Z",
     "iopub.status.idle": "2020-12-28T10:11:36.445818Z",
     "shell.execute_reply": "2020-12-28T10:11:36.445333Z"
    },
    "papermill": {
     "duration": 0.046173,
     "end_time": "2020-12-28T10:11:36.445951",
     "exception": false,
     "start_time": "2020-12-28T10:11:36.399778",
     "status": "completed"
    },
    "tags": []
   },
   "outputs": [],
   "source": [
    "import mnist"
   ]
  },
  {
   "cell_type": "code",
   "execution_count": 4,
   "metadata": {
    "execution": {
     "iopub.execute_input": "2020-12-28T10:11:36.516345Z",
     "iopub.status.busy": "2020-12-28T10:11:36.509910Z",
     "iopub.status.idle": "2020-12-28T10:11:37.329256Z",
     "shell.execute_reply": "2020-12-28T10:11:37.328654Z"
    },
    "papermill": {
     "duration": 0.855863,
     "end_time": "2020-12-28T10:11:37.329397",
     "exception": false,
     "start_time": "2020-12-28T10:11:36.473534",
     "status": "completed"
    },
    "tags": []
   },
   "outputs": [],
   "source": [
    "train_images = mnist.train_images()\n",
    "train_labels = mnist.train_labels()"
   ]
  },
  {
   "cell_type": "code",
   "execution_count": 5,
   "metadata": {
    "execution": {
     "iopub.execute_input": "2020-12-28T10:11:37.394407Z",
     "iopub.status.busy": "2020-12-28T10:11:37.393816Z",
     "iopub.status.idle": "2020-12-28T10:11:37.410196Z",
     "shell.execute_reply": "2020-12-28T10:11:37.409695Z"
    },
    "papermill": {
     "duration": 0.050536,
     "end_time": "2020-12-28T10:11:37.410325",
     "exception": false,
     "start_time": "2020-12-28T10:11:37.359789",
     "status": "completed"
    },
    "tags": []
   },
   "outputs": [
    {
     "data": {
      "text/plain": [
       "((60000, 28, 28), (60000,))"
      ]
     },
     "execution_count": 5,
     "metadata": {},
     "output_type": "execute_result"
    }
   ],
   "source": [
    "train_images.shape, train_labels.shape"
   ]
  },
  {
   "cell_type": "code",
   "execution_count": 6,
   "metadata": {
    "execution": {
     "iopub.execute_input": "2020-12-28T10:11:37.474925Z",
     "iopub.status.busy": "2020-12-28T10:11:37.474340Z",
     "iopub.status.idle": "2020-12-28T10:11:37.761221Z",
     "shell.execute_reply": "2020-12-28T10:11:37.761796Z"
    },
    "papermill": {
     "duration": 0.323633,
     "end_time": "2020-12-28T10:11:37.761961",
     "exception": false,
     "start_time": "2020-12-28T10:11:37.438328",
     "status": "completed"
    },
    "tags": []
   },
   "outputs": [],
   "source": [
    "test_images = mnist.test_images()\n",
    "test_labels = mnist.test_labels()"
   ]
  },
  {
   "cell_type": "code",
   "execution_count": 7,
   "metadata": {
    "execution": {
     "iopub.execute_input": "2020-12-28T10:11:38.113757Z",
     "iopub.status.busy": "2020-12-28T10:11:38.113155Z",
     "iopub.status.idle": "2020-12-28T10:11:38.127491Z",
     "shell.execute_reply": "2020-12-28T10:11:38.127951Z"
    },
    "papermill": {
     "duration": 0.337929,
     "end_time": "2020-12-28T10:11:38.128108",
     "exception": false,
     "start_time": "2020-12-28T10:11:37.790179",
     "status": "completed"
    },
    "tags": []
   },
   "outputs": [
    {
     "data": {
      "text/plain": [
       "((10000, 28, 28), (10000,))"
      ]
     },
     "execution_count": 7,
     "metadata": {},
     "output_type": "execute_result"
    }
   ],
   "source": [
    "test_images.shape, test_labels.shape"
   ]
  },
  {
   "cell_type": "code",
   "execution_count": 8,
   "metadata": {
    "execution": {
     "iopub.execute_input": "2020-12-28T10:11:38.353472Z",
     "iopub.status.busy": "2020-12-28T10:11:38.352878Z",
     "iopub.status.idle": "2020-12-28T10:11:38.507826Z",
     "shell.execute_reply": "2020-12-28T10:11:38.508309Z"
    },
    "papermill": {
     "duration": 0.208738,
     "end_time": "2020-12-28T10:11:38.508469",
     "exception": false,
     "start_time": "2020-12-28T10:11:38.299731",
     "status": "completed"
    },
    "tags": []
   },
   "outputs": [
    {
     "name": "stdout",
     "output_type": "stream",
     "text": [
      "2\n"
     ]
    },
    {
     "data": {
      "text/plain": [
       "<matplotlib.image.AxesImage at 0x7f60c7eb62b0>"
      ]
     },
     "execution_count": 8,
     "metadata": {},
     "output_type": "execute_result"
    },
    {
     "data": {
      "image/png": "[encoded data removed]",
      "text/plain": [
       "<Figure size 432x288 with 1 Axes>"
      ]
     },
     "metadata": {
      "needs_background": "light"
     },
     "output_type": "display_data"
    }
   ],
   "source": [
    "image_index = 7776 # You may select anything up to 60,000\n",
    "print(train_labels[image_index]) \n",
    "plt.imshow(train_images[image_index], cmap='Greys')"
   ]
  },
  {
   "cell_type": "markdown",
   "metadata": {
    "papermill": {
     "duration": 0.029732,
     "end_time": "2020-12-28T10:11:38.568057",
     "exception": false,
     "start_time": "2020-12-28T10:11:38.538325",
     "status": "completed"
    },
    "tags": []
   },
   "source": [
    "## Filter data to get 3 and 8 out"
   ]
  },
  {
   "cell_type": "code",
   "execution_count": 9,
   "metadata": {
    "execution": {
     "iopub.execute_input": "2020-12-28T10:11:38.631148Z",
     "iopub.status.busy": "2020-12-28T10:11:38.630554Z",
     "iopub.status.idle": "2020-12-28T10:11:38.653778Z",
     "shell.execute_reply": "2020-12-28T10:11:38.653265Z"
    },
    "papermill": {
     "duration": 0.057296,
     "end_time": "2020-12-28T10:11:38.653909",
     "exception": false,
     "start_time": "2020-12-28T10:11:38.596613",
     "status": "completed"
    },
    "tags": []
   },
   "outputs": [],
   "source": [
    "train_filter = np.where((train_labels == 3 ) | (train_labels == 8))\n",
    "test_filter = np.where((test_labels == 3) | (test_labels == 8))\n",
    "X_train, y_train = train_images[train_filter], train_labels[train_filter]\n",
    "X_test, y_test = test_images[test_filter], test_labels[test_filter]"
   ]
  },
  {
   "cell_type": "markdown",
   "metadata": {
    "papermill": {
     "duration": 0.032297,
     "end_time": "2020-12-28T10:11:38.715339",
     "exception": false,
     "start_time": "2020-12-28T10:11:38.683042",
     "status": "completed"
    },
    "tags": []
   },
   "source": [
    "We normalize the pixel values in the 0 to 1 range"
   ]
  },
  {
   "cell_type": "code",
   "execution_count": 10,
   "metadata": {
    "execution": {
     "iopub.execute_input": "2020-12-28T10:11:38.790921Z",
     "iopub.status.busy": "2020-12-28T10:11:38.790323Z",
     "iopub.status.idle": "2020-12-28T10:11:38.839337Z",
     "shell.execute_reply": "2020-12-28T10:11:38.838805Z"
    },
    "papermill": {
     "duration": 0.092106,
     "end_time": "2020-12-28T10:11:38.839512",
     "exception": false,
     "start_time": "2020-12-28T10:11:38.747406",
     "status": "completed"
    },
    "tags": []
   },
   "outputs": [],
   "source": [
    "X_train = X_train/255.\n",
    "X_test = X_test/255."
   ]
  },
  {
   "cell_type": "markdown",
   "metadata": {
    "papermill": {
     "duration": 0.034137,
     "end_time": "2020-12-28T10:11:38.908801",
     "exception": false,
     "start_time": "2020-12-28T10:11:38.874664",
     "status": "completed"
    },
    "tags": []
   },
   "source": [
    "Setup the labels as 1 (when the digit is 3) and 0 (when the digit is 8)"
   ]
  },
  {
   "cell_type": "code",
   "execution_count": 11,
   "metadata": {
    "execution": {
     "iopub.execute_input": "2020-12-28T10:11:38.974704Z",
     "iopub.status.busy": "2020-12-28T10:11:38.974103Z",
     "iopub.status.idle": "2020-12-28T10:11:38.989533Z",
     "shell.execute_reply": "2020-12-28T10:11:38.988477Z"
    },
    "papermill": {
     "duration": 0.051009,
     "end_time": "2020-12-28T10:11:38.989671",
     "exception": false,
     "start_time": "2020-12-28T10:11:38.938662",
     "status": "completed"
    },
    "tags": []
   },
   "outputs": [],
   "source": [
    "y_train = 1*(y_train==3)\n",
    "y_test = 1*(y_test==3)"
   ]
  },
  {
   "cell_type": "code",
   "execution_count": 12,
   "metadata": {
    "execution": {
     "iopub.execute_input": "2020-12-28T10:11:39.057001Z",
     "iopub.status.busy": "2020-12-28T10:11:39.055950Z",
     "iopub.status.idle": "2020-12-28T10:11:39.069815Z",
     "shell.execute_reply": "2020-12-28T10:11:39.070279Z"
    },
    "papermill": {
     "duration": 0.04914,
     "end_time": "2020-12-28T10:11:39.070433",
     "exception": false,
     "start_time": "2020-12-28T10:11:39.021293",
     "status": "completed"
    },
    "tags": []
   },
   "outputs": [
    {
     "data": {
      "text/plain": [
       "((11982, 28, 28), (1984, 28, 28))"
      ]
     },
     "execution_count": 12,
     "metadata": {},
     "output_type": "execute_result"
    }
   ],
   "source": [
    "X_train.shape, X_test.shape"
   ]
  },
  {
   "cell_type": "markdown",
   "metadata": {
    "papermill": {
     "duration": 0.02832,
     "end_time": "2020-12-28T10:11:39.127166",
     "exception": false,
     "start_time": "2020-12-28T10:11:39.098846",
     "status": "completed"
    },
    "tags": []
   },
   "source": [
    "### Reshape the input data to create a linear array"
   ]
  },
  {
   "cell_type": "code",
   "execution_count": 13,
   "metadata": {
    "execution": {
     "iopub.execute_input": "2020-12-28T10:11:39.189011Z",
     "iopub.status.busy": "2020-12-28T10:11:39.188415Z",
     "iopub.status.idle": "2020-12-28T10:11:39.205031Z",
     "shell.execute_reply": "2020-12-28T10:11:39.204494Z"
    },
    "papermill": {
     "duration": 0.049342,
     "end_time": "2020-12-28T10:11:39.205164",
     "exception": false,
     "start_time": "2020-12-28T10:11:39.155822",
     "status": "completed"
    },
    "tags": []
   },
   "outputs": [
    {
     "data": {
      "text/plain": [
       "((11982, 784), (1984, 784))"
      ]
     },
     "execution_count": 13,
     "metadata": {},
     "output_type": "execute_result"
    }
   ],
   "source": [
    "X_train = X_train.reshape(X_train.shape[0], -1)\n",
    "X_test = X_test.reshape(X_test.shape[0], -1)\n",
    "X_train.shape, X_test.shape"
   ]
  },
  {
   "cell_type": "markdown",
   "metadata": {
    "papermill": {
     "duration": 0.030025,
     "end_time": "2020-12-28T10:11:39.265935",
     "exception": false,
     "start_time": "2020-12-28T10:11:39.235910",
     "status": "completed"
    },
    "tags": []
   },
   "source": [
    "### Importing appropriate functions from 'Kudzu'"
   ]
  },
  {
   "cell_type": "code",
   "execution_count": 14,
   "metadata": {
    "execution": {
     "iopub.execute_input": "2020-12-28T10:11:39.336230Z",
     "iopub.status.busy": "2020-12-28T10:11:39.335628Z",
     "iopub.status.idle": "2020-12-28T10:11:39.355359Z",
     "shell.execute_reply": "2020-12-28T10:11:39.355926Z"
    },
    "papermill": {
     "duration": 0.054277,
     "end_time": "2020-12-28T10:11:39.356290",
     "exception": false,
     "start_time": "2020-12-28T10:11:39.302013",
     "status": "completed"
    },
    "tags": []
   },
   "outputs": [],
   "source": [
    "from kudzu.layer import Sigmoid\n",
    "from kudzu.layer import Relu\n",
    "from kudzu.layer import Affine, Sigmoid\n",
    "\n",
    "from kudzu.model import Model\n",
    "from kudzu.train import Learner\n",
    "from kudzu.optim import GD\n",
    "from kudzu.data import Data, Dataloader, Sampler\n",
    "\n",
    "from kudzu.callbacks import AccCallback\n",
    "from kudzu.callbacks import ClfCallback\n",
    "\n",
    "from kudzu.loss import MSE"
   ]
  },
  {
   "cell_type": "markdown",
   "metadata": {
    "papermill": {
     "duration": 0.036962,
     "end_time": "2020-12-28T10:11:39.426961",
     "exception": false,
     "start_time": "2020-12-28T10:11:39.389999",
     "status": "completed"
    },
    "tags": []
   },
   "source": [
    "### Let us create a `Config` class, to store important parameters. \n",
    "This class essentially plays the role of a dictionary."
   ]
  },
  {
   "cell_type": "code",
   "execution_count": 15,
   "metadata": {
    "execution": {
     "iopub.execute_input": "2020-12-28T10:11:39.488874Z",
     "iopub.status.busy": "2020-12-28T10:11:39.488243Z",
     "iopub.status.idle": "2020-12-28T10:11:39.505140Z",
     "shell.execute_reply": "2020-12-28T10:11:39.505617Z"
    },
    "papermill": {
     "duration": 0.049267,
     "end_time": "2020-12-28T10:11:39.505768",
     "exception": false,
     "start_time": "2020-12-28T10:11:39.456501",
     "status": "completed"
    },
    "tags": []
   },
   "outputs": [],
   "source": [
    "class Config:\n",
    "    pass\n",
    "config = Config()\n",
    "config.lr = 0.001\n",
    "config.num_epochs = 251\n",
    "config.bs = 50"
   ]
  },
  {
   "cell_type": "markdown",
   "metadata": {
    "papermill": {
     "duration": 0.033204,
     "end_time": "2020-12-28T10:11:39.573800",
     "exception": false,
     "start_time": "2020-12-28T10:11:39.540596",
     "status": "completed"
    },
    "tags": []
   },
   "source": [
    "### Initializing data to the variables"
   ]
  },
  {
   "cell_type": "code",
   "execution_count": 16,
   "metadata": {
    "execution": {
     "iopub.execute_input": "2020-12-28T10:11:39.644078Z",
     "iopub.status.busy": "2020-12-28T10:11:39.643477Z",
     "iopub.status.idle": "2020-12-28T10:11:39.659384Z",
     "shell.execute_reply": "2020-12-28T10:11:39.658871Z"
    },
    "papermill": {
     "duration": 0.052874,
     "end_time": "2020-12-28T10:11:39.659535",
     "exception": false,
     "start_time": "2020-12-28T10:11:39.606661",
     "status": "completed"
    },
    "tags": []
   },
   "outputs": [],
   "source": [
    "data = Data(X_train, y_train.reshape(-1,1))\n",
    "sampler = Sampler(data, config.bs, shuffle=True)\n",
    "\n",
    "dl = Dataloader(data, sampler)\n",
    "\n",
    "opt = GD(config.lr)\n",
    "loss = MSE()"
   ]
  },
  {
   "cell_type": "code",
   "execution_count": 17,
   "metadata": {
    "execution": {
     "iopub.execute_input": "2020-12-28T10:11:39.730532Z",
     "iopub.status.busy": "2020-12-28T10:11:39.729942Z",
     "iopub.status.idle": "2020-12-28T10:11:39.740304Z",
     "shell.execute_reply": "2020-12-28T10:11:39.740778Z"
    },
    "papermill": {
     "duration": 0.048231,
     "end_time": "2020-12-28T10:11:39.740924",
     "exception": false,
     "start_time": "2020-12-28T10:11:39.692693",
     "status": "completed"
    },
    "tags": []
   },
   "outputs": [],
   "source": [
    "training_xdata = X_train\n",
    "testing_xdata = X_test\n",
    "training_ydata = y_train.reshape(-1,1)\n",
    "testing_ydata = y_test.reshape(-1,1)"
   ]
  },
  {
   "cell_type": "markdown",
   "metadata": {
    "papermill": {
     "duration": 0.033314,
     "end_time": "2020-12-28T10:11:39.803679",
     "exception": false,
     "start_time": "2020-12-28T10:11:39.770365",
     "status": "completed"
    },
    "tags": []
   },
   "source": [
    "### Running Models with the Training data\n",
    "Details about the network layers:\n",
    "- A first affine layer has 784 inputs and does 100 affine transforms. These are followed by a Relu\n",
    "- A second affine layer has 100 inputs from the 100 activations of the past layer, and does 100 affine transforms. These are followed by a Relu\n",
    "- A third affine layer has 100 activations and does 2 affine transformations to create an embedding for visualization. There is no non-linearity here.\n",
    "- A final \"logistic regression\" which has an affine transform from 2 inputs to 1 output, which is squeezed through a sigmoid.\n",
    "\n",
    "Help taken from Anshuman's Notebook."
   ]
  },
  {
   "cell_type": "code",
   "execution_count": 18,
   "metadata": {
    "execution": {
     "iopub.execute_input": "2020-12-28T10:11:39.884247Z",
     "iopub.status.busy": "2020-12-28T10:11:39.875976Z",
     "iopub.status.idle": "2020-12-28T10:11:39.895889Z",
     "shell.execute_reply": "2020-12-28T10:11:39.895246Z"
    },
    "papermill": {
     "duration": 0.06319,
     "end_time": "2020-12-28T10:11:39.896021",
     "exception": false,
     "start_time": "2020-12-28T10:11:39.832831",
     "status": "completed"
    },
    "tags": []
   },
   "outputs": [],
   "source": [
    "# layers for the Neural Network\n",
    "layers = [Affine(\"first\", 784, 100), Relu(\"first\"), Affine(\"second\", 100, 100), Relu(\"second\"), Affine(\"third\", 100, 2), Affine(\"final\", 2, 1), Sigmoid(\"final\")]\n",
    "model_nn = Model(layers)\n",
    "\n",
    "# layers for the Logistic Regression\n",
    "layers_lr = [Affine(\"logits\", 784, 1), Sigmoid(\"sigmoid\")]\n",
    "model_lr = Model(layers_lr)"
   ]
  },
  {
   "cell_type": "code",
   "execution_count": 19,
   "metadata": {
    "execution": {
     "iopub.execute_input": "2020-12-28T10:11:39.963238Z",
     "iopub.status.busy": "2020-12-28T10:11:39.962643Z",
     "iopub.status.idle": "2020-12-28T10:11:39.975923Z",
     "shell.execute_reply": "2020-12-28T10:11:39.975363Z"
    },
    "papermill": {
     "duration": 0.047673,
     "end_time": "2020-12-28T10:11:39.976054",
     "exception": false,
     "start_time": "2020-12-28T10:11:39.928381",
     "status": "completed"
    },
    "tags": []
   },
   "outputs": [],
   "source": [
    "# suffix _nn stands for Neural Network.\n",
    "learner_nn = Learner(loss, model_nn, opt, config.num_epochs)\n",
    "acc_nn = ClfCallback(learner_nn, config.bs, training_xdata , testing_xdata, training_ydata, testing_ydata)\n",
    "learner_nn.set_callbacks([acc_nn])"
   ]
  },
  {
   "cell_type": "code",
   "execution_count": 20,
   "metadata": {
    "execution": {
     "iopub.execute_input": "2020-12-28T10:11:40.044825Z",
     "iopub.status.busy": "2020-12-28T10:11:40.044232Z",
     "iopub.status.idle": "2020-12-28T10:13:07.106507Z",
     "shell.execute_reply": "2020-12-28T10:13:07.107313Z"
    },
    "papermill": {
     "duration": 87.096721,
     "end_time": "2020-12-28T10:13:07.107498",
     "exception": false,
     "start_time": "2020-12-28T10:11:40.010777",
     "status": "completed"
    },
    "tags": []
   },
   "outputs": [
    {
     "name": "stdout",
     "output_type": "stream",
     "text": [
      "====== Neural Network ======\n"
     ]
    },
    {
     "name": "stdout",
     "output_type": "stream",
     "text": [
      "Epoch 0, Loss 0.2489\n",
      "Training Accuracy: 0.5789, Testing Accuracy: 0.5751\n",
      "\n"
     ]
    },
    {
     "name": "stdout",
     "output_type": "stream",
     "text": [
      "Epoch 10, Loss 0.2296\n",
      "Training Accuracy: 0.8479, Testing Accuracy: 0.8589\n",
      "\n"
     ]
    },
    {
     "name": "stdout",
     "output_type": "stream",
     "text": [
      "Epoch 20, Loss 0.1489\n",
      "Training Accuracy: 0.8958, Testing Accuracy: 0.9083\n",
      "\n"
     ]
    },
    {
     "name": "stdout",
     "output_type": "stream",
     "text": [
      "Epoch 30, Loss 0.0761\n",
      "Training Accuracy: 0.9256, Testing Accuracy: 0.9375\n",
      "\n"
     ]
    },
    {
     "name": "stdout",
     "output_type": "stream",
     "text": [
      "Epoch 40, Loss 0.0541\n",
      "Training Accuracy: 0.9424, Testing Accuracy: 0.9531\n",
      "\n"
     ]
    },
    {
     "name": "stdout",
     "output_type": "stream",
     "text": [
      "Epoch 50, Loss 0.0446\n",
      "Training Accuracy: 0.9489, Testing Accuracy: 0.9622\n",
      "\n"
     ]
    },
    {
     "name": "stdout",
     "output_type": "stream",
     "text": [
      "Epoch 60, Loss 0.0394\n",
      "Training Accuracy: 0.9543, Testing Accuracy: 0.9652\n",
      "\n"
     ]
    },
    {
     "name": "stdout",
     "output_type": "stream",
     "text": [
      "Epoch 70, Loss 0.0361\n",
      "Training Accuracy: 0.9569, Testing Accuracy: 0.9682\n",
      "\n"
     ]
    },
    {
     "name": "stdout",
     "output_type": "stream",
     "text": [
      "Epoch 80, Loss 0.0338\n",
      "Training Accuracy: 0.9602, Testing Accuracy: 0.9693\n",
      "\n"
     ]
    },
    {
     "name": "stdout",
     "output_type": "stream",
     "text": [
      "Epoch 90, Loss 0.032\n",
      "Training Accuracy: 0.9619, Testing Accuracy: 0.9693\n",
      "\n"
     ]
    },
    {
     "name": "stdout",
     "output_type": "stream",
     "text": [
      "Epoch 100, Loss 0.0306\n",
      "Training Accuracy: 0.9639, Testing Accuracy: 0.9698\n",
      "\n"
     ]
    },
    {
     "name": "stdout",
     "output_type": "stream",
     "text": [
      "Epoch 110, Loss 0.0293\n",
      "Training Accuracy: 0.9653, Testing Accuracy: 0.9693\n",
      "\n"
     ]
    },
    {
     "name": "stdout",
     "output_type": "stream",
     "text": [
      "Epoch 120, Loss 0.0283\n",
      "Training Accuracy: 0.9664, Testing Accuracy: 0.9703\n",
      "\n"
     ]
    },
    {
     "name": "stdout",
     "output_type": "stream",
     "text": [
      "Epoch 130, Loss 0.0274\n",
      "Training Accuracy: 0.9674, Testing Accuracy: 0.9693\n",
      "\n"
     ]
    },
    {
     "name": "stdout",
     "output_type": "stream",
     "text": [
      "Epoch 140, Loss 0.0266\n",
      "Training Accuracy: 0.9677, Testing Accuracy: 0.9708\n",
      "\n"
     ]
    },
    {
     "name": "stdout",
     "output_type": "stream",
     "text": [
      "Epoch 150, Loss 0.0259\n",
      "Training Accuracy: 0.9685, Testing Accuracy: 0.9708\n",
      "\n"
     ]
    },
    {
     "name": "stdout",
     "output_type": "stream",
     "text": [
      "Epoch 160, Loss 0.0252\n",
      "Training Accuracy: 0.9703, Testing Accuracy: 0.9708\n",
      "\n"
     ]
    },
    {
     "name": "stdout",
     "output_type": "stream",
     "text": [
      "Epoch 170, Loss 0.0245\n",
      "Training Accuracy: 0.9712, Testing Accuracy: 0.9708\n",
      "\n"
     ]
    },
    {
     "name": "stdout",
     "output_type": "stream",
     "text": [
      "Epoch 180, Loss 0.0239\n",
      "Training Accuracy: 0.9717, Testing Accuracy: 0.9713\n",
      "\n"
     ]
    },
    {
     "name": "stdout",
     "output_type": "stream",
     "text": [
      "Epoch 190, Loss 0.0234\n",
      "Training Accuracy: 0.9725, Testing Accuracy: 0.9723\n",
      "\n"
     ]
    },
    {
     "name": "stdout",
     "output_type": "stream",
     "text": [
      "Epoch 200, Loss 0.0228\n",
      "Training Accuracy: 0.9730, Testing Accuracy: 0.9738\n",
      "\n"
     ]
    },
    {
     "name": "stdout",
     "output_type": "stream",
     "text": [
      "Epoch 210, Loss 0.0223\n",
      "Training Accuracy: 0.9736, Testing Accuracy: 0.9738\n",
      "\n"
     ]
    },
    {
     "name": "stdout",
     "output_type": "stream",
     "text": [
      "Epoch 220, Loss 0.0218\n",
      "Training Accuracy: 0.9741, Testing Accuracy: 0.9743\n",
      "\n"
     ]
    },
    {
     "name": "stdout",
     "output_type": "stream",
     "text": [
      "Epoch 230, Loss 0.0214\n",
      "Training Accuracy: 0.9745, Testing Accuracy: 0.9753\n",
      "\n"
     ]
    },
    {
     "name": "stdout",
     "output_type": "stream",
     "text": [
      "Epoch 240, Loss 0.0209\n",
      "Training Accuracy: 0.9755, Testing Accuracy: 0.9758\n",
      "\n"
     ]
    },
    {
     "name": "stdout",
     "output_type": "stream",
     "text": [
      "Epoch 250, Loss 0.0205\n",
      "Training Accuracy: 0.9760, Testing Accuracy: 0.9758\n",
      "\n"
     ]
    },
    {
     "data": {
      "text/plain": [
       "0.11517576178804045"
      ]
     },
     "execution_count": 20,
     "metadata": {},
     "output_type": "execute_result"
    }
   ],
   "source": [
    "print(\"====== Neural Network ======\")\n",
    "learner_nn.train_loop(dl)"
   ]
  },
  {
   "cell_type": "markdown",
   "metadata": {
    "papermill": {
     "duration": 0.036674,
     "end_time": "2020-12-28T10:13:07.186711",
     "exception": false,
     "start_time": "2020-12-28T10:13:07.150037",
     "status": "completed"
    },
    "tags": []
   },
   "source": [
    "### Logistic Regression based Implementation."
   ]
  },
  {
   "cell_type": "code",
   "execution_count": 21,
   "metadata": {
    "execution": {
     "iopub.execute_input": "2020-12-28T10:13:07.265794Z",
     "iopub.status.busy": "2020-12-28T10:13:07.264743Z",
     "iopub.status.idle": "2020-12-28T10:13:07.276885Z",
     "shell.execute_reply": "2020-12-28T10:13:07.276375Z"
    },
    "papermill": {
     "duration": 0.053656,
     "end_time": "2020-12-28T10:13:07.277015",
     "exception": false,
     "start_time": "2020-12-28T10:13:07.223359",
     "status": "completed"
    },
    "tags": []
   },
   "outputs": [],
   "source": [
    "learner_lr = Learner(loss, model_lr, opt, config.num_epochs)\n",
    "acc_lr = ClfCallback(learner_lr, config.bs, training_xdata , testing_xdata, training_ydata, testing_ydata)\n",
    "learner_lr.set_callbacks([acc_lr])"
   ]
  },
  {
   "cell_type": "code",
   "execution_count": 22,
   "metadata": {
    "execution": {
     "iopub.execute_input": "2020-12-28T10:13:07.355987Z",
     "iopub.status.busy": "2020-12-28T10:13:07.355358Z",
     "iopub.status.idle": "2020-12-28T10:13:24.613336Z",
     "shell.execute_reply": "2020-12-28T10:13:24.613818Z"
    },
    "papermill": {
     "duration": 17.299773,
     "end_time": "2020-12-28T10:13:24.613978",
     "exception": false,
     "start_time": "2020-12-28T10:13:07.314205",
     "status": "completed"
    },
    "tags": []
   },
   "outputs": [
    {
     "name": "stdout",
     "output_type": "stream",
     "text": [
      "====== Logistic Regression ======\n",
      "Epoch 0, Loss 0.2223\n",
      "Training Accuracy: 0.7688, Testing Accuracy: 0.7848\n",
      "\n"
     ]
    },
    {
     "name": "stdout",
     "output_type": "stream",
     "text": [
      "Epoch 10, Loss 0.1023\n",
      "Training Accuracy: 0.9089, Testing Accuracy: 0.9209\n",
      "\n"
     ]
    },
    {
     "name": "stdout",
     "output_type": "stream",
     "text": [
      "Epoch 20, Loss 0.0794\n",
      "Training Accuracy: 0.9259, Testing Accuracy: 0.9420\n",
      "\n"
     ]
    },
    {
     "name": "stdout",
     "output_type": "stream",
     "text": [
      "Epoch 30, Loss 0.0685\n",
      "Training Accuracy: 0.9349, Testing Accuracy: 0.9496\n",
      "\n"
     ]
    },
    {
     "name": "stdout",
     "output_type": "stream",
     "text": [
      "Epoch 40, Loss 0.0619\n",
      "Training Accuracy: 0.9412, Testing Accuracy: 0.9531\n",
      "\n"
     ]
    },
    {
     "name": "stdout",
     "output_type": "stream",
     "text": [
      "Epoch 50, Loss 0.0574\n",
      "Training Accuracy: 0.9435, Testing Accuracy: 0.9577\n",
      "\n"
     ]
    },
    {
     "name": "stdout",
     "output_type": "stream",
     "text": [
      "Epoch 60, Loss 0.054\n",
      "Training Accuracy: 0.9457, Testing Accuracy: 0.9597\n",
      "\n"
     ]
    },
    {
     "name": "stdout",
     "output_type": "stream",
     "text": [
      "Epoch 70, Loss 0.0515\n",
      "Training Accuracy: 0.9474, Testing Accuracy: 0.9607\n",
      "\n"
     ]
    },
    {
     "name": "stdout",
     "output_type": "stream",
     "text": [
      "Epoch 80, Loss 0.0494\n",
      "Training Accuracy: 0.9490, Testing Accuracy: 0.9612\n",
      "\n"
     ]
    },
    {
     "name": "stdout",
     "output_type": "stream",
     "text": [
      "Epoch 90, Loss 0.0477\n",
      "Training Accuracy: 0.9506, Testing Accuracy: 0.9627\n",
      "\n"
     ]
    },
    {
     "name": "stdout",
     "output_type": "stream",
     "text": [
      "Epoch 100, Loss 0.0463\n",
      "Training Accuracy: 0.9519, Testing Accuracy: 0.9632\n",
      "\n"
     ]
    },
    {
     "name": "stdout",
     "output_type": "stream",
     "text": [
      "Epoch 110, Loss 0.045\n",
      "Training Accuracy: 0.9528, Testing Accuracy: 0.9637\n",
      "\n"
     ]
    },
    {
     "name": "stdout",
     "output_type": "stream",
     "text": [
      "Epoch 120, Loss 0.044\n",
      "Training Accuracy: 0.9542, Testing Accuracy: 0.9652\n",
      "\n"
     ]
    },
    {
     "name": "stdout",
     "output_type": "stream",
     "text": [
      "Epoch 130, Loss 0.043\n",
      "Training Accuracy: 0.9543, Testing Accuracy: 0.9647\n",
      "\n"
     ]
    },
    {
     "name": "stdout",
     "output_type": "stream",
     "text": [
      "Epoch 140, Loss 0.0422\n",
      "Training Accuracy: 0.9553, Testing Accuracy: 0.9652\n",
      "\n"
     ]
    },
    {
     "name": "stdout",
     "output_type": "stream",
     "text": [
      "Epoch 150, Loss 0.0415\n",
      "Training Accuracy: 0.9561, Testing Accuracy: 0.9657\n",
      "\n"
     ]
    },
    {
     "name": "stdout",
     "output_type": "stream",
     "text": [
      "Epoch 160, Loss 0.0408\n",
      "Training Accuracy: 0.9568, Testing Accuracy: 0.9657\n",
      "\n"
     ]
    },
    {
     "name": "stdout",
     "output_type": "stream",
     "text": [
      "Epoch 170, Loss 0.0402\n",
      "Training Accuracy: 0.9575, Testing Accuracy: 0.9662\n",
      "\n"
     ]
    },
    {
     "name": "stdout",
     "output_type": "stream",
     "text": [
      "Epoch 180, Loss 0.0396\n",
      "Training Accuracy: 0.9579, Testing Accuracy: 0.9667\n",
      "\n"
     ]
    },
    {
     "name": "stdout",
     "output_type": "stream",
     "text": [
      "Epoch 190, Loss 0.0391\n",
      "Training Accuracy: 0.9586, Testing Accuracy: 0.9662\n",
      "\n"
     ]
    },
    {
     "name": "stdout",
     "output_type": "stream",
     "text": [
      "Epoch 200, Loss 0.0386\n",
      "Training Accuracy: 0.9589, Testing Accuracy: 0.9672\n",
      "\n"
     ]
    },
    {
     "name": "stdout",
     "output_type": "stream",
     "text": [
      "Epoch 210, Loss 0.0382\n",
      "Training Accuracy: 0.9590, Testing Accuracy: 0.9672\n",
      "\n"
     ]
    },
    {
     "name": "stdout",
     "output_type": "stream",
     "text": [
      "Epoch 220, Loss 0.0378\n",
      "Training Accuracy: 0.9595, Testing Accuracy: 0.9667\n",
      "\n"
     ]
    },
    {
     "name": "stdout",
     "output_type": "stream",
     "text": [
      "Epoch 230, Loss 0.0374\n",
      "Training Accuracy: 0.9597, Testing Accuracy: 0.9672\n",
      "\n"
     ]
    },
    {
     "name": "stdout",
     "output_type": "stream",
     "text": [
      "Epoch 240, Loss 0.037\n",
      "Training Accuracy: 0.9601, Testing Accuracy: 0.9672\n",
      "\n"
     ]
    },
    {
     "name": "stdout",
     "output_type": "stream",
     "text": [
      "Epoch 250, Loss 0.0367\n",
      "Training Accuracy: 0.9602, Testing Accuracy: 0.9672\n",
      "\n"
     ]
    },
    {
     "data": {
      "text/plain": [
       "0.02740419137068549"
      ]
     },
     "execution_count": 22,
     "metadata": {},
     "output_type": "execute_result"
    }
   ],
   "source": [
    "print(\"====== Logistic Regression ======\")\n",
    "learner_lr.train_loop(dl)"
   ]
  },
  {
   "cell_type": "markdown",
   "metadata": {
    "papermill": {
     "duration": 0.044361,
     "end_time": "2020-12-28T10:13:24.704000",
     "exception": false,
     "start_time": "2020-12-28T10:13:24.659639",
     "status": "completed"
    },
    "tags": []
   },
   "source": [
    "### Comparing results of NN and LR"
   ]
  },
  {
   "cell_type": "code",
   "execution_count": 23,
   "metadata": {
    "execution": {
     "iopub.execute_input": "2020-12-28T10:13:24.800004Z",
     "iopub.status.busy": "2020-12-28T10:13:24.799260Z",
     "iopub.status.idle": "2020-12-28T10:13:25.046012Z",
     "shell.execute_reply": "2020-12-28T10:13:25.045477Z"
    },
    "papermill": {
     "duration": 0.297751,
     "end_time": "2020-12-28T10:13:25.046161",
     "exception": false,
     "start_time": "2020-12-28T10:13:24.748410",
     "status": "completed"
    },
    "tags": []
   },
   "outputs": [
    {
     "data": {
      "text/plain": [
       "<matplotlib.legend.Legend at 0x7f60c2704c18>"
      ]
     },
     "execution_count": 23,
     "metadata": {},
     "output_type": "execute_result"
    },
    {
     "data": {
      "image/png": "[encoded data removed]",
      "text/plain": [
       "<Figure size 1080x720 with 1 Axes>"
      ]
     },
     "metadata": {
      "needs_background": "light"
     },
     "output_type": "display_data"
    }
   ],
   "source": [
    "plt.figure(figsize=(15,10))\n",
    "\n",
    "# Neural Network plots\n",
    "plt.plot(acc_nn.accuracies, 'r-', label = \"Training Accuracies - NN\")\n",
    "plt.plot(acc_nn.test_accuracies, 'g-', label = \"Testing Accuracies - NN\")\n",
    "\n",
    "# Logistic Regression plots\n",
    "plt.plot(acc_lr.accuracies, 'k-', label = \"Training Accuracies - LR\")\n",
    "plt.plot(acc_lr.test_accuracies, 'b-', label = \"Testing Accuracies - LR\")\n",
    "\n",
    "plt.ylim(0.8, 1)\n",
    "\n",
    "plt.legend()\n",
    "\n"
   ]
  },
  {
   "cell_type": "markdown",
   "metadata": {
    "papermill": {
     "duration": 0.046662,
     "end_time": "2020-12-28T10:13:25.140209",
     "exception": false,
     "start_time": "2020-12-28T10:13:25.093547",
     "status": "completed"
    },
    "tags": []
   },
   "source": [
    "### From the plot, we can observe the following:\n",
    "- Neural Network achieves higher accuracy than the Logistic Regression model.\n",
    "- This apparently, is because of overfitting, i.e. NN captures more noise than data.\n",
    "- Testing accuracy of NN drops below the Training accuracy at higher epochs. This explains the over-fitting on training data.\n",
    "- Logistic Regression gives a reliable accuracy, without the above mentioned problem.\n"
   ]
  },
  {
   "cell_type": "markdown",
   "metadata": {
    "papermill": {
     "duration": 0.046502,
     "end_time": "2020-12-28T10:13:25.233412",
     "exception": false,
     "start_time": "2020-12-28T10:13:25.186910",
     "status": "completed"
    },
    "tags": []
   },
   "source": [
    "### Moving till the last but one layer (excluding it).\n",
    "#### Plotting the outputs of this layer of the NN."
   ]
  },
  {
   "cell_type": "code",
   "execution_count": 24,
   "metadata": {
    "execution": {
     "iopub.execute_input": "2020-12-28T10:13:25.330868Z",
     "iopub.status.busy": "2020-12-28T10:13:25.330266Z",
     "iopub.status.idle": "2020-12-28T10:13:25.347341Z",
     "shell.execute_reply": "2020-12-28T10:13:25.346860Z"
    },
    "papermill": {
     "duration": 0.06727,
     "end_time": "2020-12-28T10:13:25.347516",
     "exception": false,
     "start_time": "2020-12-28T10:13:25.280246",
     "status": "completed"
    },
    "tags": []
   },
   "outputs": [],
   "source": [
    "model_new = Model(layers[:-2])"
   ]
  },
  {
   "cell_type": "code",
   "execution_count": 25,
   "metadata": {
    "execution": {
     "iopub.execute_input": "2020-12-28T10:13:25.449277Z",
     "iopub.status.busy": "2020-12-28T10:13:25.447275Z",
     "iopub.status.idle": "2020-12-28T10:13:25.469903Z",
     "shell.execute_reply": "2020-12-28T10:13:25.470367Z"
    },
    "papermill": {
     "duration": 0.076326,
     "end_time": "2020-12-28T10:13:25.470531",
     "exception": false,
     "start_time": "2020-12-28T10:13:25.394205",
     "status": "completed"
    },
    "tags": []
   },
   "outputs": [],
   "source": [
    "plot_testing = model_new(testing_xdata)"
   ]
  },
  {
   "cell_type": "code",
   "execution_count": 26,
   "metadata": {
    "execution": {
     "iopub.execute_input": "2020-12-28T10:13:25.570388Z",
     "iopub.status.busy": "2020-12-28T10:13:25.569032Z",
     "iopub.status.idle": "2020-12-28T10:13:25.812035Z",
     "shell.execute_reply": "2020-12-28T10:13:25.812516Z"
    },
    "papermill": {
     "duration": 0.295174,
     "end_time": "2020-12-28T10:13:25.812672",
     "exception": false,
     "start_time": "2020-12-28T10:13:25.517498",
     "status": "completed"
    },
    "tags": []
   },
   "outputs": [
    {
     "data": {
      "text/plain": [
       "Text(0.5, 1.0, 'Outputs')"
      ]
     },
     "execution_count": 26,
     "metadata": {},
     "output_type": "execute_result"
    },
    {
     "data": {
      "image/png": "[encoded data removed]",
      "text/plain": [
       "<Figure size 576x504 with 1 Axes>"
      ]
     },
     "metadata": {
      "needs_background": "light"
     },
     "output_type": "display_data"
    }
   ],
   "source": [
    "plt.figure(figsize=(8,7))\n",
    "plt.scatter(plot_testing[:,0], plot_testing[:,1], alpha = 0.1, c = y_test.ravel());\n",
    "plt.title('Outputs')"
   ]
  },
  {
   "cell_type": "markdown",
   "metadata": {
    "papermill": {
     "duration": 0.051516,
     "end_time": "2020-12-28T10:13:25.918658",
     "exception": false,
     "start_time": "2020-12-28T10:13:25.867142",
     "status": "completed"
    },
    "tags": []
   },
   "source": [
    "### Plotting probability contours"
   ]
  },
  {
   "cell_type": "code",
   "execution_count": 27,
   "metadata": {
    "execution": {
     "iopub.execute_input": "2020-12-28T10:13:26.030063Z",
     "iopub.status.busy": "2020-12-28T10:13:26.029470Z",
     "iopub.status.idle": "2020-12-28T10:13:26.043137Z",
     "shell.execute_reply": "2020-12-28T10:13:26.043690Z"
    },
    "papermill": {
     "duration": 0.0725,
     "end_time": "2020-12-28T10:13:26.043846",
     "exception": false,
     "start_time": "2020-12-28T10:13:25.971346",
     "status": "completed"
    },
    "tags": []
   },
   "outputs": [],
   "source": [
    "model_prob = Model(layers[-2:]) "
   ]
  },
  {
   "cell_type": "code",
   "execution_count": 28,
   "metadata": {
    "execution": {
     "iopub.execute_input": "2020-12-28T10:13:26.158532Z",
     "iopub.status.busy": "2020-12-28T10:13:26.157921Z",
     "iopub.status.idle": "2020-12-28T10:13:26.176245Z",
     "shell.execute_reply": "2020-12-28T10:13:26.176716Z"
    },
    "papermill": {
     "duration": 0.077655,
     "end_time": "2020-12-28T10:13:26.176878",
     "exception": false,
     "start_time": "2020-12-28T10:13:26.099223",
     "status": "completed"
    },
    "tags": []
   },
   "outputs": [],
   "source": [
    "# Adjust the x and y ranges according to the above generated plot.\n",
    "x_range = np.linspace(-4, 1, 100) \n",
    "y_range = np.linspace(-6, 6, 100) \n",
    "x_grid, y_grid = np.meshgrid(x_range, y_range) # x_grid and y_grig are of size 100 X 100\n",
    "\n",
    "# converting x_grid and y_grid to continuous arrays\n",
    "x_grid_flat = np.ravel(x_grid)\n",
    "y_grid_flat = np.ravel(y_grid)\n",
    "\n",
    "# The last layer of the current model takes two columns as input. Hence transpose of np.vstack() is required.\n",
    "X = np.vstack((x_grid_flat, y_grid_flat)).T\n",
    "\n",
    "# x_grid and y_grid are of size 100 x 100\n",
    "probability_contour = model_prob(X).reshape(100,100) "
   ]
  },
  {
   "cell_type": "code",
   "execution_count": 29,
   "metadata": {
    "execution": {
     "iopub.execute_input": "2020-12-28T10:13:26.312614Z",
     "iopub.status.busy": "2020-12-28T10:13:26.312014Z",
     "iopub.status.idle": "2020-12-28T10:13:26.594942Z",
     "shell.execute_reply": "2020-12-28T10:13:26.595557Z"
    },
    "papermill": {
     "duration": 0.368688,
     "end_time": "2020-12-28T10:13:26.595749",
     "exception": false,
     "start_time": "2020-12-28T10:13:26.227061",
     "status": "completed"
    },
    "tags": []
   },
   "outputs": [
    {
     "data": {
      "image/png": "[encoded data removed]",
      "text/plain": [
       "<Figure size 720x648 with 1 Axes>"
      ]
     },
     "metadata": {
      "needs_background": "light"
     },
     "output_type": "display_data"
    }
   ],
   "source": [
    "plt.figure(figsize=(10,9))\n",
    "plt.scatter(plot_testing[:,0], plot_testing[:,1], alpha = 0.1, c = y_test.ravel())\n",
    "contours = plt.contour(x_grid,y_grid,probability_contour)\n",
    "plt.title('Probability Contours')\n",
    "plt.clabel(contours, inline = True );"
   ]
  }
 ],
 "metadata": {
  "kernelspec": {
   "display_name": "Python 3",
   "language": "python",
   "name": "python3"
  },
  "language_info": {
   "codemirror_mode": {
    "name": "ipython",
    "version": 3
   },
   "file_extension": ".py",
   "mimetype": "text/x-python",
   "name": "python",
   "nbconvert_exporter": "python",
   "pygments_lexer": "ipython3",
   "version": "3.6.12"
  },
  "papermill": {
   "duration": 115.39601,
   "end_time": "2020-12-28T10:13:27.972284",
   "environment_variables": {},
   "exception": null,
   "input_path": "2020-08-11-NeuralNetwork.ipynb",
   "output_path": "2020-08-11-NeuralNetwork.ipynb",
   "parameters": {},
   "start_time": "2020-12-28T10:11:32.576274",
   "version": "2.1.2"
  }
 },
 "nbformat": 4,
 "nbformat_minor": 4
}