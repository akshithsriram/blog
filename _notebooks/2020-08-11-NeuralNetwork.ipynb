{
 "cells": [
  {
   "cell_type": "markdown",
   "metadata": {
    "papermill": {
     "duration": 0.031085,
     "end_time": "2020-12-16T10:05:54.408094",
     "exception": false,
     "start_time": "2020-12-16T10:05:54.377009",
     "status": "completed"
    },
    "tags": []
   },
   "source": [
    "# \"A Basic Neural Network: Differentiate Hand-Written Digits\"\n",
    "\n",
    "- badges: true\n",
    "- author: Akshith Sriram"
   ]
  },
  {
   "cell_type": "markdown",
   "metadata": {
    "papermill": {
     "duration": 0.024104,
     "end_time": "2020-12-16T10:05:54.456344",
     "exception": false,
     "start_time": "2020-12-16T10:05:54.432240",
     "status": "completed"
    },
    "tags": []
   },
   "source": [
    "### Key Objectives:\n",
    "- Building a neural network that differentiates two hand-written digits 3 and 8.\n",
    "- Comparing the results of this Neural Network (NN) to that of a Logistic Regression (LR) model.\n",
    "\n",
    "### Requirements:\n",
    "- 'Kudzu' : A neural network library that was designed during our course by [Univ.AI](www.univ.ai). \n",
    "- MNIST Database\n",
    "\n",
    "If MNIST is not installed, use the command `!pip install mnist` given below.\n",
    "It can be run both from the command line and Jupyter Notebook."
   ]
  },
  {
   "cell_type": "code",
   "execution_count": 1,
   "metadata": {
    "execution": {
     "iopub.execute_input": "2020-12-16T10:05:54.517347Z",
     "iopub.status.busy": "2020-12-16T10:05:54.516719Z",
     "iopub.status.idle": "2020-12-16T10:05:56.054833Z",
     "shell.execute_reply": "2020-12-16T10:05:56.056086Z"
    },
    "papermill": {
     "duration": 1.575264,
     "end_time": "2020-12-16T10:05:56.056346",
     "exception": false,
     "start_time": "2020-12-16T10:05:54.481082",
     "status": "completed"
    },
    "tags": []
   },
   "outputs": [
    {
     "name": "stdout",
     "output_type": "stream",
     "text": [
      "Collecting mnist\r\n",
      "  Downloading mnist-0.2.2-py2.py3-none-any.whl (3.5 kB)\r\n"
     ]
    },
    {
     "name": "stdout",
     "output_type": "stream",
     "text": [
      "Requirement already satisfied: numpy in /opt/hostedtoolcache/Python/3.6.12/x64/lib/python3.6/site-packages (from mnist) (1.19.4)\r\n"
     ]
    },
    {
     "name": "stdout",
     "output_type": "stream",
     "text": [
      "Installing collected packages: mnist\r\n"
     ]
    },
    {
     "name": "stdout",
     "output_type": "stream",
     "text": [
      "Successfully installed mnist-0.2.2\r\n"
     ]
    },
    {
     "name": "stdout",
     "output_type": "stream",
     "text": [
      "\u001b[33mWARNING: You are using pip version 20.2.4; however, version 20.3.3 is available.\r\n",
      "You should consider upgrading via the '/opt/hostedtoolcache/Python/3.6.12/x64/bin/python -m pip install --upgrade pip' command.\u001b[0m\r\n"
     ]
    }
   ],
   "source": [
    "!pip install mnist "
   ]
  },
  {
   "cell_type": "markdown",
   "metadata": {
    "papermill": {
     "duration": 0.025053,
     "end_time": "2020-12-16T10:05:56.107559",
     "exception": false,
     "start_time": "2020-12-16T10:05:56.082506",
     "status": "completed"
    },
    "tags": []
   },
   "source": [
    "#### Importing necessary libraries"
   ]
  },
  {
   "cell_type": "code",
   "execution_count": 2,
   "metadata": {
    "execution": {
     "iopub.execute_input": "2020-12-16T10:05:56.170460Z",
     "iopub.status.busy": "2020-12-16T10:05:56.168090Z",
     "iopub.status.idle": "2020-12-16T10:05:56.736579Z",
     "shell.execute_reply": "2020-12-16T10:05:56.736038Z"
    },
    "papermill": {
     "duration": 0.602316,
     "end_time": "2020-12-16T10:05:56.736721",
     "exception": false,
     "start_time": "2020-12-16T10:05:56.134405",
     "status": "completed"
    },
    "tags": []
   },
   "outputs": [],
   "source": [
    "%load_ext autoreload\n",
    "%autoreload 2\n",
    "\n",
    "%matplotlib inline\n",
    "import matplotlib.pyplot as plt\n",
    "\n",
    "import numpy as np\n",
    "import pandas as pd"
   ]
  },
  {
   "cell_type": "markdown",
   "metadata": {
    "papermill": {
     "duration": 0.026376,
     "end_time": "2020-12-16T10:05:56.789245",
     "exception": false,
     "start_time": "2020-12-16T10:05:56.762869",
     "status": "completed"
    },
    "tags": []
   },
   "source": [
    "### Preparing the Data"
   ]
  },
  {
   "cell_type": "code",
   "execution_count": 3,
   "metadata": {
    "execution": {
     "iopub.execute_input": "2020-12-16T10:05:56.845460Z",
     "iopub.status.busy": "2020-12-16T10:05:56.844343Z",
     "iopub.status.idle": "2020-12-16T10:05:56.859483Z",
     "shell.execute_reply": "2020-12-16T10:05:56.859975Z"
    },
    "papermill": {
     "duration": 0.0448,
     "end_time": "2020-12-16T10:05:56.860144",
     "exception": false,
     "start_time": "2020-12-16T10:05:56.815344",
     "status": "completed"
    },
    "tags": []
   },
   "outputs": [],
   "source": [
    "import mnist"
   ]
  },
  {
   "cell_type": "code",
   "execution_count": 4,
   "metadata": {
    "execution": {
     "iopub.execute_input": "2020-12-16T10:05:56.916719Z",
     "iopub.status.busy": "2020-12-16T10:05:56.916144Z",
     "iopub.status.idle": "2020-12-16T10:06:00.178762Z",
     "shell.execute_reply": "2020-12-16T10:06:00.177670Z"
    },
    "papermill": {
     "duration": 3.292866,
     "end_time": "2020-12-16T10:06:00.178896",
     "exception": false,
     "start_time": "2020-12-16T10:05:56.886030",
     "status": "completed"
    },
    "tags": []
   },
   "outputs": [],
   "source": [
    "train_images = mnist.train_images()\n",
    "train_labels = mnist.train_labels()"
   ]
  },
  {
   "cell_type": "code",
   "execution_count": 5,
   "metadata": {
    "execution": {
     "iopub.execute_input": "2020-12-16T10:06:00.244983Z",
     "iopub.status.busy": "2020-12-16T10:06:00.236908Z",
     "iopub.status.idle": "2020-12-16T10:06:00.250938Z",
     "shell.execute_reply": "2020-12-16T10:06:00.251408Z"
    },
    "papermill": {
     "duration": 0.047464,
     "end_time": "2020-12-16T10:06:00.251557",
     "exception": false,
     "start_time": "2020-12-16T10:06:00.204093",
     "status": "completed"
    },
    "tags": []
   },
   "outputs": [
    {
     "data": {
      "text/plain": [
       "((60000, 28, 28), (60000,))"
      ]
     },
     "execution_count": 5,
     "metadata": {},
     "output_type": "execute_result"
    }
   ],
   "source": [
    "train_images.shape, train_labels.shape"
   ]
  },
  {
   "cell_type": "code",
   "execution_count": 6,
   "metadata": {
    "execution": {
     "iopub.execute_input": "2020-12-16T10:06:00.314233Z",
     "iopub.status.busy": "2020-12-16T10:06:00.313688Z",
     "iopub.status.idle": "2020-12-16T10:06:01.392229Z",
     "shell.execute_reply": "2020-12-16T10:06:01.391321Z"
    },
    "papermill": {
     "duration": 1.110431,
     "end_time": "2020-12-16T10:06:01.392455",
     "exception": false,
     "start_time": "2020-12-16T10:06:00.282024",
     "status": "completed"
    },
    "tags": []
   },
   "outputs": [],
   "source": [
    "test_images = mnist.test_images()\n",
    "test_labels = mnist.test_labels()"
   ]
  },
  {
   "cell_type": "code",
   "execution_count": 7,
   "metadata": {
    "execution": {
     "iopub.execute_input": "2020-12-16T10:06:01.452232Z",
     "iopub.status.busy": "2020-12-16T10:06:01.451630Z",
     "iopub.status.idle": "2020-12-16T10:06:01.465830Z",
     "shell.execute_reply": "2020-12-16T10:06:01.465362Z"
    },
    "papermill": {
     "duration": 0.046605,
     "end_time": "2020-12-16T10:06:01.465954",
     "exception": false,
     "start_time": "2020-12-16T10:06:01.419349",
     "status": "completed"
    },
    "tags": []
   },
   "outputs": [
    {
     "data": {
      "text/plain": [
       "((10000, 28, 28), (10000,))"
      ]
     },
     "execution_count": 7,
     "metadata": {},
     "output_type": "execute_result"
    }
   ],
   "source": [
    "test_images.shape, test_labels.shape"
   ]
  },
  {
   "cell_type": "code",
   "execution_count": 8,
   "metadata": {
    "execution": {
     "iopub.execute_input": "2020-12-16T10:06:01.523129Z",
     "iopub.status.busy": "2020-12-16T10:06:01.522557Z",
     "iopub.status.idle": "2020-12-16T10:06:01.671421Z",
     "shell.execute_reply": "2020-12-16T10:06:01.670937Z"
    },
    "papermill": {
     "duration": 0.178785,
     "end_time": "2020-12-16T10:06:01.671557",
     "exception": false,
     "start_time": "2020-12-16T10:06:01.492772",
     "status": "completed"
    },
    "tags": []
   },
   "outputs": [
    {
     "name": "stdout",
     "output_type": "stream",
     "text": [
      "2\n"
     ]
    },
    {
     "data": {
      "text/plain": [
       "<matplotlib.image.AxesImage at 0x7f769bf45278>"
      ]
     },
     "execution_count": 8,
     "metadata": {},
     "output_type": "execute_result"
    },
    {
     "data": {
      "image/png": "[encoded data removed]",
      "text/plain": [
       "<Figure size 432x288 with 1 Axes>"
      ]
     },
     "metadata": {
      "needs_background": "light"
     },
     "output_type": "display_data"
    }
   ],
   "source": [
    "image_index = 7776 # You may select anything up to 60,000\n",
    "print(train_labels[image_index]) \n",
    "plt.imshow(train_images[image_index], cmap='Greys')"
   ]
  },
  {
   "cell_type": "markdown",
   "metadata": {
    "papermill": {
     "duration": 0.027967,
     "end_time": "2020-12-16T10:06:01.727156",
     "exception": false,
     "start_time": "2020-12-16T10:06:01.699189",
     "status": "completed"
    },
    "tags": []
   },
   "source": [
    "## Filter data to get 3 and 8 out"
   ]
  },
  {
   "cell_type": "code",
   "execution_count": 9,
   "metadata": {
    "execution": {
     "iopub.execute_input": "2020-12-16T10:06:01.786718Z",
     "iopub.status.busy": "2020-12-16T10:06:01.786140Z",
     "iopub.status.idle": "2020-12-16T10:06:01.807264Z",
     "shell.execute_reply": "2020-12-16T10:06:01.807738Z"
    },
    "papermill": {
     "duration": 0.054379,
     "end_time": "2020-12-16T10:06:01.807884",
     "exception": false,
     "start_time": "2020-12-16T10:06:01.753505",
     "status": "completed"
    },
    "tags": []
   },
   "outputs": [],
   "source": [
    "train_filter = np.where((train_labels == 3 ) | (train_labels == 8))\n",
    "test_filter = np.where((test_labels == 3) | (test_labels == 8))\n",
    "X_train, y_train = train_images[train_filter], train_labels[train_filter]\n",
    "X_test, y_test = test_images[test_filter], test_labels[test_filter]"
   ]
  },
  {
   "cell_type": "markdown",
   "metadata": {
    "papermill": {
     "duration": 0.027055,
     "end_time": "2020-12-16T10:06:01.862879",
     "exception": false,
     "start_time": "2020-12-16T10:06:01.835824",
     "status": "completed"
    },
    "tags": []
   },
   "source": [
    "We normalize the pixel values in the 0 to 1 range"
   ]
  },
  {
   "cell_type": "code",
   "execution_count": 10,
   "metadata": {
    "execution": {
     "iopub.execute_input": "2020-12-16T10:06:01.936951Z",
     "iopub.status.busy": "2020-12-16T10:06:01.928854Z",
     "iopub.status.idle": "2020-12-16T10:06:01.978099Z",
     "shell.execute_reply": "2020-12-16T10:06:01.977260Z"
    },
    "papermill": {
     "duration": 0.088538,
     "end_time": "2020-12-16T10:06:01.978315",
     "exception": false,
     "start_time": "2020-12-16T10:06:01.889777",
     "status": "completed"
    },
    "tags": []
   },
   "outputs": [],
   "source": [
    "X_train = X_train/255.\n",
    "X_test = X_test/255."
   ]
  },
  {
   "cell_type": "markdown",
   "metadata": {
    "papermill": {
     "duration": 0.026419,
     "end_time": "2020-12-16T10:06:02.034786",
     "exception": false,
     "start_time": "2020-12-16T10:06:02.008367",
     "status": "completed"
    },
    "tags": []
   },
   "source": [
    "Setup the labels as 1 (when the digit is 3) and 0 (when the digit is 8)"
   ]
  },
  {
   "cell_type": "code",
   "execution_count": 11,
   "metadata": {
    "execution": {
     "iopub.execute_input": "2020-12-16T10:06:02.091784Z",
     "iopub.status.busy": "2020-12-16T10:06:02.091198Z",
     "iopub.status.idle": "2020-12-16T10:06:02.105846Z",
     "shell.execute_reply": "2020-12-16T10:06:02.104810Z"
    },
    "papermill": {
     "duration": 0.04472,
     "end_time": "2020-12-16T10:06:02.105975",
     "exception": false,
     "start_time": "2020-12-16T10:06:02.061255",
     "status": "completed"
    },
    "tags": []
   },
   "outputs": [],
   "source": [
    "y_train = 1*(y_train==3)\n",
    "y_test = 1*(y_test==3)"
   ]
  },
  {
   "cell_type": "code",
   "execution_count": 12,
   "metadata": {
    "execution": {
     "iopub.execute_input": "2020-12-16T10:06:02.165162Z",
     "iopub.status.busy": "2020-12-16T10:06:02.164010Z",
     "iopub.status.idle": "2020-12-16T10:06:02.177658Z",
     "shell.execute_reply": "2020-12-16T10:06:02.177197Z"
    },
    "papermill": {
     "duration": 0.044138,
     "end_time": "2020-12-16T10:06:02.177776",
     "exception": false,
     "start_time": "2020-12-16T10:06:02.133638",
     "status": "completed"
    },
    "tags": []
   },
   "outputs": [
    {
     "data": {
      "text/plain": [
       "((11982, 28, 28), (1984, 28, 28))"
      ]
     },
     "execution_count": 12,
     "metadata": {},
     "output_type": "execute_result"
    }
   ],
   "source": [
    "X_train.shape, X_test.shape"
   ]
  },
  {
   "cell_type": "markdown",
   "metadata": {
    "papermill": {
     "duration": 0.027936,
     "end_time": "2020-12-16T10:06:02.233251",
     "exception": false,
     "start_time": "2020-12-16T10:06:02.205315",
     "status": "completed"
    },
    "tags": []
   },
   "source": [
    "### Reshape the input data to create a linear array"
   ]
  },
  {
   "cell_type": "code",
   "execution_count": 13,
   "metadata": {
    "execution": {
     "iopub.execute_input": "2020-12-16T10:06:02.293199Z",
     "iopub.status.busy": "2020-12-16T10:06:02.292624Z",
     "iopub.status.idle": "2020-12-16T10:06:02.310183Z",
     "shell.execute_reply": "2020-12-16T10:06:02.309691Z"
    },
    "papermill": {
     "duration": 0.049831,
     "end_time": "2020-12-16T10:06:02.310308",
     "exception": false,
     "start_time": "2020-12-16T10:06:02.260477",
     "status": "completed"
    },
    "tags": []
   },
   "outputs": [
    {
     "data": {
      "text/plain": [
       "((11982, 784), (1984, 784))"
      ]
     },
     "execution_count": 13,
     "metadata": {},
     "output_type": "execute_result"
    }
   ],
   "source": [
    "X_train = X_train.reshape(X_train.shape[0], -1)\n",
    "X_test = X_test.reshape(X_test.shape[0], -1)\n",
    "X_train.shape, X_test.shape"
   ]
  },
  {
   "cell_type": "markdown",
   "metadata": {
    "papermill": {
     "duration": 0.028302,
     "end_time": "2020-12-16T10:06:02.367089",
     "exception": false,
     "start_time": "2020-12-16T10:06:02.338787",
     "status": "completed"
    },
    "tags": []
   },
   "source": [
    "### Importing appropriate functions from 'Kudzu'"
   ]
  },
  {
   "cell_type": "code",
   "execution_count": 14,
   "metadata": {
    "execution": {
     "iopub.execute_input": "2020-12-16T10:06:02.430565Z",
     "iopub.status.busy": "2020-12-16T10:06:02.429976Z",
     "iopub.status.idle": "2020-12-16T10:06:02.451612Z",
     "shell.execute_reply": "2020-12-16T10:06:02.452085Z"
    },
    "papermill": {
     "duration": 0.057136,
     "end_time": "2020-12-16T10:06:02.452237",
     "exception": false,
     "start_time": "2020-12-16T10:06:02.395101",
     "status": "completed"
    },
    "tags": []
   },
   "outputs": [],
   "source": [
    "from kudzu.layer import Sigmoid\n",
    "from kudzu.layer import Relu\n",
    "from kudzu.layer import Affine, Sigmoid\n",
    "\n",
    "from kudzu.model import Model\n",
    "from kudzu.train import Learner\n",
    "from kudzu.optim import GD\n",
    "from kudzu.data import Data, Dataloader, Sampler\n",
    "\n",
    "from kudzu.callbacks import AccCallback\n",
    "from kudzu.callbacks import ClfCallback\n",
    "\n",
    "from kudzu.loss import MSE"
   ]
  },
  {
   "cell_type": "markdown",
   "metadata": {
    "papermill": {
     "duration": 0.027308,
     "end_time": "2020-12-16T10:06:02.507833",
     "exception": false,
     "start_time": "2020-12-16T10:06:02.480525",
     "status": "completed"
    },
    "tags": []
   },
   "source": [
    "### Let us create a `Config` class, to store important parameters. \n",
    "This class essentially plays the role of a dictionary."
   ]
  },
  {
   "cell_type": "code",
   "execution_count": 15,
   "metadata": {
    "execution": {
     "iopub.execute_input": "2020-12-16T10:06:02.569098Z",
     "iopub.status.busy": "2020-12-16T10:06:02.568545Z",
     "iopub.status.idle": "2020-12-16T10:06:02.582726Z",
     "shell.execute_reply": "2020-12-16T10:06:02.582226Z"
    },
    "papermill": {
     "duration": 0.047683,
     "end_time": "2020-12-16T10:06:02.582844",
     "exception": false,
     "start_time": "2020-12-16T10:06:02.535161",
     "status": "completed"
    },
    "tags": []
   },
   "outputs": [],
   "source": [
    "class Config:\n",
    "    pass\n",
    "config = Config()\n",
    "config.lr = 0.001\n",
    "config.num_epochs = 251\n",
    "config.bs = 50"
   ]
  },
  {
   "cell_type": "markdown",
   "metadata": {
    "papermill": {
     "duration": 0.02812,
     "end_time": "2020-12-16T10:06:02.638672",
     "exception": false,
     "start_time": "2020-12-16T10:06:02.610552",
     "status": "completed"
    },
    "tags": []
   },
   "source": [
    "### Initializing data to the variables"
   ]
  },
  {
   "cell_type": "code",
   "execution_count": 16,
   "metadata": {
    "execution": {
     "iopub.execute_input": "2020-12-16T10:06:02.700668Z",
     "iopub.status.busy": "2020-12-16T10:06:02.700075Z",
     "iopub.status.idle": "2020-12-16T10:06:02.715202Z",
     "shell.execute_reply": "2020-12-16T10:06:02.714705Z"
    },
    "papermill": {
     "duration": 0.048478,
     "end_time": "2020-12-16T10:06:02.715324",
     "exception": false,
     "start_time": "2020-12-16T10:06:02.666846",
     "status": "completed"
    },
    "tags": []
   },
   "outputs": [],
   "source": [
    "data = Data(X_train, y_train.reshape(-1,1))\n",
    "sampler = Sampler(data, config.bs, shuffle=True)\n",
    "\n",
    "dl = Dataloader(data, sampler)\n",
    "\n",
    "opt = GD(config.lr)\n",
    "loss = MSE()"
   ]
  },
  {
   "cell_type": "code",
   "execution_count": 17,
   "metadata": {
    "execution": {
     "iopub.execute_input": "2020-12-16T10:06:02.777105Z",
     "iopub.status.busy": "2020-12-16T10:06:02.776510Z",
     "iopub.status.idle": "2020-12-16T10:06:02.787621Z",
     "shell.execute_reply": "2020-12-16T10:06:02.788090Z"
    },
    "papermill": {
     "duration": 0.046238,
     "end_time": "2020-12-16T10:06:02.788229",
     "exception": false,
     "start_time": "2020-12-16T10:06:02.741991",
     "status": "completed"
    },
    "tags": []
   },
   "outputs": [],
   "source": [
    "training_xdata = X_train\n",
    "testing_xdata = X_test\n",
    "training_ydata = y_train.reshape(-1,1)\n",
    "testing_ydata = y_test.reshape(-1,1)"
   ]
  },
  {
   "cell_type": "markdown",
   "metadata": {
    "papermill": {
     "duration": 0.028178,
     "end_time": "2020-12-16T10:06:02.844913",
     "exception": false,
     "start_time": "2020-12-16T10:06:02.816735",
     "status": "completed"
    },
    "tags": []
   },
   "source": [
    "### Running Models with the Training data\n",
    "Details about the network layers:\n",
    "- A first affine layer has 784 inputs and does 100 affine transforms. These are followed by a Relu\n",
    "- A second affine layer has 100 inputs from the 100 activations of the past layer, and does 100 affine transforms. These are followed by a Relu\n",
    "- A third affine layer has 100 activations and does 2 affine transformations to create an embedding for visualization. There is no non-linearity here.\n",
    "- A final \"logistic regression\" which has an affine transform from 2 inputs to 1 output, which is squeezed through a sigmoid.\n",
    "\n",
    "Help taken from Anshuman's Notebook."
   ]
  },
  {
   "cell_type": "code",
   "execution_count": 18,
   "metadata": {
    "execution": {
     "iopub.execute_input": "2020-12-16T10:06:02.906559Z",
     "iopub.status.busy": "2020-12-16T10:06:02.905948Z",
     "iopub.status.idle": "2020-12-16T10:06:02.923638Z",
     "shell.execute_reply": "2020-12-16T10:06:02.923197Z"
    },
    "papermill": {
     "duration": 0.050725,
     "end_time": "2020-12-16T10:06:02.923758",
     "exception": false,
     "start_time": "2020-12-16T10:06:02.873033",
     "status": "completed"
    },
    "tags": []
   },
   "outputs": [],
   "source": [
    "# layers for the Neural Network\n",
    "layers = [Affine(\"first\", 784, 100), Relu(\"first\"), Affine(\"second\", 100, 100), Relu(\"second\"), Affine(\"third\", 100, 2), Affine(\"final\", 2, 1), Sigmoid(\"final\")]\n",
    "model_nn = Model(layers)\n",
    "\n",
    "# layers for the Logistic Regression\n",
    "layers_lr = [Affine(\"logits\", 784, 1), Sigmoid(\"sigmoid\")]\n",
    "model_lr = Model(layers_lr)"
   ]
  },
  {
   "cell_type": "code",
   "execution_count": 19,
   "metadata": {
    "execution": {
     "iopub.execute_input": "2020-12-16T10:06:02.984098Z",
     "iopub.status.busy": "2020-12-16T10:06:02.983493Z",
     "iopub.status.idle": "2020-12-16T10:06:02.996086Z",
     "shell.execute_reply": "2020-12-16T10:06:02.995591Z"
    },
    "papermill": {
     "duration": 0.044312,
     "end_time": "2020-12-16T10:06:02.996215",
     "exception": false,
     "start_time": "2020-12-16T10:06:02.951903",
     "status": "completed"
    },
    "tags": []
   },
   "outputs": [],
   "source": [
    "# suffix _nn stands for Neural Network.\n",
    "learner_nn = Learner(loss, model_nn, opt, config.num_epochs)\n",
    "acc_nn = ClfCallback(learner_nn, config.bs, training_xdata , testing_xdata, training_ydata, testing_ydata)\n",
    "learner_nn.set_callbacks([acc_nn])"
   ]
  },
  {
   "cell_type": "code",
   "execution_count": 20,
   "metadata": {
    "execution": {
     "iopub.execute_input": "2020-12-16T10:06:03.057954Z",
     "iopub.status.busy": "2020-12-16T10:06:03.057367Z",
     "iopub.status.idle": "2020-12-16T10:07:27.505845Z",
     "shell.execute_reply": "2020-12-16T10:07:27.506562Z"
    },
    "papermill": {
     "duration": 84.482285,
     "end_time": "2020-12-16T10:07:27.506708",
     "exception": false,
     "start_time": "2020-12-16T10:06:03.024423",
     "status": "completed"
    },
    "tags": []
   },
   "outputs": [
    {
     "name": "stdout",
     "output_type": "stream",
     "text": [
      "====== Neural Network ======\n"
     ]
    },
    {
     "name": "stdout",
     "output_type": "stream",
     "text": [
      "Epoch 0, Loss 0.2364\n",
      "Training Accuracy: 0.7646, Testing Accuracy: 0.7581\n",
      "\n"
     ]
    },
    {
     "name": "stdout",
     "output_type": "stream",
     "text": [
      "Epoch 10, Loss 0.0529\n",
      "Training Accuracy: 0.9435, Testing Accuracy: 0.9516\n",
      "\n"
     ]
    },
    {
     "name": "stdout",
     "output_type": "stream",
     "text": [
      "Epoch 20, Loss 0.039\n",
      "Training Accuracy: 0.9559, Testing Accuracy: 0.9647\n",
      "\n"
     ]
    },
    {
     "name": "stdout",
     "output_type": "stream",
     "text": [
      "Epoch 30, Loss 0.033\n",
      "Training Accuracy: 0.9617, Testing Accuracy: 0.9713\n",
      "\n"
     ]
    },
    {
     "name": "stdout",
     "output_type": "stream",
     "text": [
      "Epoch 40, Loss 0.0294\n",
      "Training Accuracy: 0.9657, Testing Accuracy: 0.9733\n",
      "\n"
     ]
    },
    {
     "name": "stdout",
     "output_type": "stream",
     "text": [
      "Epoch 50, Loss 0.027\n",
      "Training Accuracy: 0.9693, Testing Accuracy: 0.9733\n",
      "\n"
     ]
    },
    {
     "name": "stdout",
     "output_type": "stream",
     "text": [
      "Epoch 60, Loss 0.0251\n",
      "Training Accuracy: 0.9723, Testing Accuracy: 0.9733\n",
      "\n"
     ]
    },
    {
     "name": "stdout",
     "output_type": "stream",
     "text": [
      "Epoch 70, Loss 0.0237\n",
      "Training Accuracy: 0.9737, Testing Accuracy: 0.9753\n",
      "\n"
     ]
    },
    {
     "name": "stdout",
     "output_type": "stream",
     "text": [
      "Epoch 80, Loss 0.0224\n",
      "Training Accuracy: 0.9748, Testing Accuracy: 0.9738\n",
      "\n"
     ]
    },
    {
     "name": "stdout",
     "output_type": "stream",
     "text": [
      "Epoch 90, Loss 0.0214\n",
      "Training Accuracy: 0.9755, Testing Accuracy: 0.9758\n",
      "\n"
     ]
    },
    {
     "name": "stdout",
     "output_type": "stream",
     "text": [
      "Epoch 100, Loss 0.0205\n",
      "Training Accuracy: 0.9773, Testing Accuracy: 0.9763\n",
      "\n"
     ]
    },
    {
     "name": "stdout",
     "output_type": "stream",
     "text": [
      "Epoch 110, Loss 0.0197\n",
      "Training Accuracy: 0.9781, Testing Accuracy: 0.9768\n",
      "\n"
     ]
    },
    {
     "name": "stdout",
     "output_type": "stream",
     "text": [
      "Epoch 120, Loss 0.0189\n",
      "Training Accuracy: 0.9790, Testing Accuracy: 0.9768\n",
      "\n"
     ]
    },
    {
     "name": "stdout",
     "output_type": "stream",
     "text": [
      "Epoch 130, Loss 0.0183\n",
      "Training Accuracy: 0.9800, Testing Accuracy: 0.9768\n",
      "\n"
     ]
    },
    {
     "name": "stdout",
     "output_type": "stream",
     "text": [
      "Epoch 140, Loss 0.0177\n",
      "Training Accuracy: 0.9807, Testing Accuracy: 0.9768\n",
      "\n"
     ]
    },
    {
     "name": "stdout",
     "output_type": "stream",
     "text": [
      "Epoch 150, Loss 0.0171\n",
      "Training Accuracy: 0.9817, Testing Accuracy: 0.9778\n",
      "\n"
     ]
    },
    {
     "name": "stdout",
     "output_type": "stream",
     "text": [
      "Epoch 160, Loss 0.0165\n",
      "Training Accuracy: 0.9821, Testing Accuracy: 0.9778\n",
      "\n"
     ]
    },
    {
     "name": "stdout",
     "output_type": "stream",
     "text": [
      "Epoch 170, Loss 0.016\n",
      "Training Accuracy: 0.9824, Testing Accuracy: 0.9773\n",
      "\n"
     ]
    },
    {
     "name": "stdout",
     "output_type": "stream",
     "text": [
      "Epoch 180, Loss 0.0156\n",
      "Training Accuracy: 0.9828, Testing Accuracy: 0.9783\n",
      "\n"
     ]
    },
    {
     "name": "stdout",
     "output_type": "stream",
     "text": [
      "Epoch 190, Loss 0.0151\n",
      "Training Accuracy: 0.9833, Testing Accuracy: 0.9788\n",
      "\n"
     ]
    },
    {
     "name": "stdout",
     "output_type": "stream",
     "text": [
      "Epoch 200, Loss 0.0147\n",
      "Training Accuracy: 0.9841, Testing Accuracy: 0.9788\n",
      "\n"
     ]
    },
    {
     "name": "stdout",
     "output_type": "stream",
     "text": [
      "Epoch 210, Loss 0.0143\n",
      "Training Accuracy: 0.9846, Testing Accuracy: 0.9788\n",
      "\n"
     ]
    },
    {
     "name": "stdout",
     "output_type": "stream",
     "text": [
      "Epoch 220, Loss 0.0139\n",
      "Training Accuracy: 0.9851, Testing Accuracy: 0.9788\n",
      "\n"
     ]
    },
    {
     "name": "stdout",
     "output_type": "stream",
     "text": [
      "Epoch 230, Loss 0.0135\n",
      "Training Accuracy: 0.9853, Testing Accuracy: 0.9788\n",
      "\n"
     ]
    },
    {
     "name": "stdout",
     "output_type": "stream",
     "text": [
      "Epoch 240, Loss 0.0131\n",
      "Training Accuracy: 0.9861, Testing Accuracy: 0.9793\n",
      "\n"
     ]
    },
    {
     "name": "stdout",
     "output_type": "stream",
     "text": [
      "Epoch 250, Loss 0.0128\n",
      "Training Accuracy: 0.9866, Testing Accuracy: 0.9793\n",
      "\n"
     ]
    },
    {
     "data": {
      "text/plain": [
       "0.004251069833394045"
      ]
     },
     "execution_count": 20,
     "metadata": {},
     "output_type": "execute_result"
    }
   ],
   "source": [
    "print(\"====== Neural Network ======\")\n",
    "learner_nn.train_loop(dl)"
   ]
  },
  {
   "cell_type": "markdown",
   "metadata": {
    "papermill": {
     "duration": 0.036616,
     "end_time": "2020-12-16T10:07:27.578933",
     "exception": false,
     "start_time": "2020-12-16T10:07:27.542317",
     "status": "completed"
    },
    "tags": []
   },
   "source": [
    "### Logistic Regression based Implementation."
   ]
  },
  {
   "cell_type": "code",
   "execution_count": 21,
   "metadata": {
    "execution": {
     "iopub.execute_input": "2020-12-16T10:07:27.658556Z",
     "iopub.status.busy": "2020-12-16T10:07:27.656180Z",
     "iopub.status.idle": "2020-12-16T10:07:27.667899Z",
     "shell.execute_reply": "2020-12-16T10:07:27.668364Z"
    },
    "papermill": {
     "duration": 0.05426,
     "end_time": "2020-12-16T10:07:27.668509",
     "exception": false,
     "start_time": "2020-12-16T10:07:27.614249",
     "status": "completed"
    },
    "tags": []
   },
   "outputs": [],
   "source": [
    "learner_lr = Learner(loss, model_lr, opt, config.num_epochs)\n",
    "acc_lr = ClfCallback(learner_lr, config.bs, training_xdata , testing_xdata, training_ydata, testing_ydata)\n",
    "learner_lr.set_callbacks([acc_lr])"
   ]
  },
  {
   "cell_type": "code",
   "execution_count": 22,
   "metadata": {
    "execution": {
     "iopub.execute_input": "2020-12-16T10:07:27.743375Z",
     "iopub.status.busy": "2020-12-16T10:07:27.742826Z",
     "iopub.status.idle": "2020-12-16T10:07:43.033956Z",
     "shell.execute_reply": "2020-12-16T10:07:43.034742Z"
    },
    "papermill": {
     "duration": 15.33146,
     "end_time": "2020-12-16T10:07:43.034899",
     "exception": false,
     "start_time": "2020-12-16T10:07:27.703439",
     "status": "completed"
    },
    "tags": []
   },
   "outputs": [
    {
     "name": "stdout",
     "output_type": "stream",
     "text": [
      "====== Logistic Regression ======\n",
      "Epoch 0, Loss 0.2374\n",
      "Training Accuracy: 0.6917, Testing Accuracy: 0.7188\n",
      "\n"
     ]
    },
    {
     "name": "stdout",
     "output_type": "stream",
     "text": [
      "Epoch 10, Loss 0.1034\n",
      "Training Accuracy: 0.9094, Testing Accuracy: 0.9189\n",
      "\n"
     ]
    },
    {
     "name": "stdout",
     "output_type": "stream",
     "text": [
      "Epoch 20, Loss 0.0798\n",
      "Training Accuracy: 0.9256, Testing Accuracy: 0.9355\n",
      "\n"
     ]
    },
    {
     "name": "stdout",
     "output_type": "stream",
     "text": [
      "Epoch 30, Loss 0.0686\n",
      "Training Accuracy: 0.9346, Testing Accuracy: 0.9456\n",
      "\n"
     ]
    },
    {
     "name": "stdout",
     "output_type": "stream",
     "text": [
      "Epoch 40, Loss 0.0619\n",
      "Training Accuracy: 0.9407, Testing Accuracy: 0.9521\n",
      "\n"
     ]
    },
    {
     "name": "stdout",
     "output_type": "stream",
     "text": [
      "Epoch 50, Loss 0.0573\n",
      "Training Accuracy: 0.9447, Testing Accuracy: 0.9551\n",
      "\n"
     ]
    },
    {
     "name": "stdout",
     "output_type": "stream",
     "text": [
      "Epoch 60, Loss 0.0539\n",
      "Training Accuracy: 0.9470, Testing Accuracy: 0.9572\n",
      "\n"
     ]
    },
    {
     "name": "stdout",
     "output_type": "stream",
     "text": [
      "Epoch 70, Loss 0.0513\n",
      "Training Accuracy: 0.9494, Testing Accuracy: 0.9602\n",
      "\n"
     ]
    },
    {
     "name": "stdout",
     "output_type": "stream",
     "text": [
      "Epoch 80, Loss 0.0492\n",
      "Training Accuracy: 0.9515, Testing Accuracy: 0.9612\n",
      "\n"
     ]
    },
    {
     "name": "stdout",
     "output_type": "stream",
     "text": [
      "Epoch 90, Loss 0.0475\n",
      "Training Accuracy: 0.9529, Testing Accuracy: 0.9617\n",
      "\n"
     ]
    },
    {
     "name": "stdout",
     "output_type": "stream",
     "text": [
      "Epoch 100, Loss 0.0461\n",
      "Training Accuracy: 0.9535, Testing Accuracy: 0.9612\n",
      "\n"
     ]
    },
    {
     "name": "stdout",
     "output_type": "stream",
     "text": [
      "Epoch 110, Loss 0.0449\n",
      "Training Accuracy: 0.9548, Testing Accuracy: 0.9627\n",
      "\n"
     ]
    },
    {
     "name": "stdout",
     "output_type": "stream",
     "text": [
      "Epoch 120, Loss 0.0438\n",
      "Training Accuracy: 0.9554, Testing Accuracy: 0.9637\n",
      "\n"
     ]
    },
    {
     "name": "stdout",
     "output_type": "stream",
     "text": [
      "Epoch 130, Loss 0.0429\n",
      "Training Accuracy: 0.9558, Testing Accuracy: 0.9652\n",
      "\n"
     ]
    },
    {
     "name": "stdout",
     "output_type": "stream",
     "text": [
      "Epoch 140, Loss 0.042\n",
      "Training Accuracy: 0.9562, Testing Accuracy: 0.9652\n",
      "\n"
     ]
    },
    {
     "name": "stdout",
     "output_type": "stream",
     "text": [
      "Epoch 150, Loss 0.0413\n",
      "Training Accuracy: 0.9568, Testing Accuracy: 0.9667\n",
      "\n"
     ]
    },
    {
     "name": "stdout",
     "output_type": "stream",
     "text": [
      "Epoch 160, Loss 0.0406\n",
      "Training Accuracy: 0.9577, Testing Accuracy: 0.9672\n",
      "\n"
     ]
    },
    {
     "name": "stdout",
     "output_type": "stream",
     "text": [
      "Epoch 170, Loss 0.04\n",
      "Training Accuracy: 0.9584, Testing Accuracy: 0.9672\n",
      "\n"
     ]
    },
    {
     "name": "stdout",
     "output_type": "stream",
     "text": [
      "Epoch 180, Loss 0.0395\n",
      "Training Accuracy: 0.9592, Testing Accuracy: 0.9677\n",
      "\n"
     ]
    },
    {
     "name": "stdout",
     "output_type": "stream",
     "text": [
      "Epoch 190, Loss 0.0389\n",
      "Training Accuracy: 0.9596, Testing Accuracy: 0.9688\n",
      "\n"
     ]
    },
    {
     "name": "stdout",
     "output_type": "stream",
     "text": [
      "Epoch 200, Loss 0.0385\n",
      "Training Accuracy: 0.9599, Testing Accuracy: 0.9698\n",
      "\n"
     ]
    },
    {
     "name": "stdout",
     "output_type": "stream",
     "text": [
      "Epoch 210, Loss 0.038\n",
      "Training Accuracy: 0.9601, Testing Accuracy: 0.9703\n",
      "\n"
     ]
    },
    {
     "name": "stdout",
     "output_type": "stream",
     "text": [
      "Epoch 220, Loss 0.0376\n",
      "Training Accuracy: 0.9603, Testing Accuracy: 0.9703\n",
      "\n"
     ]
    },
    {
     "name": "stdout",
     "output_type": "stream",
     "text": [
      "Epoch 230, Loss 0.0372\n",
      "Training Accuracy: 0.9605, Testing Accuracy: 0.9703\n",
      "\n"
     ]
    },
    {
     "name": "stdout",
     "output_type": "stream",
     "text": [
      "Epoch 240, Loss 0.0369\n",
      "Training Accuracy: 0.9611, Testing Accuracy: 0.9703\n",
      "\n"
     ]
    },
    {
     "name": "stdout",
     "output_type": "stream",
     "text": [
      "Epoch 250, Loss 0.0365\n",
      "Training Accuracy: 0.9613, Testing Accuracy: 0.9698\n",
      "\n"
     ]
    },
    {
     "data": {
      "text/plain": [
       "0.06081468669306206"
      ]
     },
     "execution_count": 22,
     "metadata": {},
     "output_type": "execute_result"
    }
   ],
   "source": [
    "print(\"====== Logistic Regression ======\")\n",
    "learner_lr.train_loop(dl)"
   ]
  },
  {
   "cell_type": "markdown",
   "metadata": {
    "papermill": {
     "duration": 0.043735,
     "end_time": "2020-12-16T10:07:43.123431",
     "exception": false,
     "start_time": "2020-12-16T10:07:43.079696",
     "status": "completed"
    },
    "tags": []
   },
   "source": [
    "### Comparing results of NN and LR"
   ]
  },
  {
   "cell_type": "code",
   "execution_count": 23,
   "metadata": {
    "execution": {
     "iopub.execute_input": "2020-12-16T10:07:43.216983Z",
     "iopub.status.busy": "2020-12-16T10:07:43.216366Z",
     "iopub.status.idle": "2020-12-16T10:07:43.461236Z",
     "shell.execute_reply": "2020-12-16T10:07:43.461716Z"
    },
    "papermill": {
     "duration": 0.294543,
     "end_time": "2020-12-16T10:07:43.461870",
     "exception": false,
     "start_time": "2020-12-16T10:07:43.167327",
     "status": "completed"
    },
    "tags": []
   },
   "outputs": [
    {
     "data": {
      "text/plain": [
       "<matplotlib.legend.Legend at 0x7f7699b15ba8>"
      ]
     },
     "execution_count": 23,
     "metadata": {},
     "output_type": "execute_result"
    },
    {
     "data": {
      "image/png": "[encoded data removed]",
      "text/plain": [
       "<Figure size 1080x720 with 1 Axes>"
      ]
     },
     "metadata": {
      "needs_background": "light"
     },
     "output_type": "display_data"
    }
   ],
   "source": [
    "plt.figure(figsize=(15,10))\n",
    "\n",
    "# Neural Network plots\n",
    "plt.plot(acc_nn.accuracies, 'r-', label = \"Training Accuracies - NN\")\n",
    "plt.plot(acc_nn.test_accuracies, 'g-', label = \"Testing Accuracies - NN\")\n",
    "\n",
    "# Logistic Regression plots\n",
    "plt.plot(acc_lr.accuracies, 'k-', label = \"Training Accuracies - LR\")\n",
    "plt.plot(acc_lr.test_accuracies, 'b-', label = \"Testing Accuracies - LR\")\n",
    "\n",
    "plt.ylim(0.8, 1)\n",
    "\n",
    "plt.legend()\n",
    "\n"
   ]
  },
  {
   "cell_type": "markdown",
   "metadata": {
    "papermill": {
     "duration": 0.045686,
     "end_time": "2020-12-16T10:07:43.553028",
     "exception": false,
     "start_time": "2020-12-16T10:07:43.507342",
     "status": "completed"
    },
    "tags": []
   },
   "source": [
    "### From the plot, we can observe the following:\n",
    "- Neural Network achieves higher accuracy than the Logistic Regression model.\n",
    "- This apparently, is because of overfitting, i.e. NN captures more noise than data.\n",
    "- Testing accuracy of NN drops below the Training accuracy at higher epochs. This explains the over-fitting on training data.\n",
    "- Logistic Regression gives a reliable accuracy, without the above mentioned problem.\n"
   ]
  },
  {
   "cell_type": "markdown",
   "metadata": {
    "papermill": {
     "duration": 0.045759,
     "end_time": "2020-12-16T10:07:43.643871",
     "exception": false,
     "start_time": "2020-12-16T10:07:43.598112",
     "status": "completed"
    },
    "tags": []
   },
   "source": [
    "### Moving till the last but one layer (excluding it).\n",
    "#### Plotting the outputs of this layer of the NN."
   ]
  },
  {
   "cell_type": "code",
   "execution_count": 24,
   "metadata": {
    "execution": {
     "iopub.execute_input": "2020-12-16T10:07:43.741051Z",
     "iopub.status.busy": "2020-12-16T10:07:43.740469Z",
     "iopub.status.idle": "2020-12-16T10:07:43.754788Z",
     "shell.execute_reply": "2020-12-16T10:07:43.754295Z"
    },
    "papermill": {
     "duration": 0.064622,
     "end_time": "2020-12-16T10:07:43.754912",
     "exception": false,
     "start_time": "2020-12-16T10:07:43.690290",
     "status": "completed"
    },
    "tags": []
   },
   "outputs": [],
   "source": [
    "model_new = Model(layers[:-2])"
   ]
  },
  {
   "cell_type": "code",
   "execution_count": 25,
   "metadata": {
    "execution": {
     "iopub.execute_input": "2020-12-16T10:07:43.860844Z",
     "iopub.status.busy": "2020-12-16T10:07:43.853232Z",
     "iopub.status.idle": "2020-12-16T10:07:43.876104Z",
     "shell.execute_reply": "2020-12-16T10:07:43.875560Z"
    },
    "papermill": {
     "duration": 0.075115,
     "end_time": "2020-12-16T10:07:43.876238",
     "exception": false,
     "start_time": "2020-12-16T10:07:43.801123",
     "status": "completed"
    },
    "tags": []
   },
   "outputs": [],
   "source": [
    "plot_testing = model_new(testing_xdata)"
   ]
  },
  {
   "cell_type": "code",
   "execution_count": 26,
   "metadata": {
    "execution": {
     "iopub.execute_input": "2020-12-16T10:07:43.981324Z",
     "iopub.status.busy": "2020-12-16T10:07:43.980713Z",
     "iopub.status.idle": "2020-12-16T10:07:44.179267Z",
     "shell.execute_reply": "2020-12-16T10:07:44.179746Z"
    },
    "papermill": {
     "duration": 0.256991,
     "end_time": "2020-12-16T10:07:44.179899",
     "exception": false,
     "start_time": "2020-12-16T10:07:43.922908",
     "status": "completed"
    },
    "tags": []
   },
   "outputs": [
    {
     "data": {
      "text/plain": [
       "Text(0.5, 1.0, 'Outputs')"
      ]
     },
     "execution_count": 26,
     "metadata": {},
     "output_type": "execute_result"
    },
    {
     "data": {
      "image/png": "[encoded data removed]",
      "text/plain": [
       "<Figure size 576x504 with 1 Axes>"
      ]
     },
     "metadata": {
      "needs_background": "light"
     },
     "output_type": "display_data"
    }
   ],
   "source": [
    "plt.figure(figsize=(8,7))\n",
    "plt.scatter(plot_testing[:,0], plot_testing[:,1], alpha = 0.1, c = y_test.ravel());\n",
    "plt.title('Outputs')"
   ]
  },
  {
   "cell_type": "markdown",
   "metadata": {
    "papermill": {
     "duration": 0.048079,
     "end_time": "2020-12-16T10:07:44.276348",
     "exception": false,
     "start_time": "2020-12-16T10:07:44.228269",
     "status": "completed"
    },
    "tags": []
   },
   "source": [
    "### Plotting probability contours"
   ]
  },
  {
   "cell_type": "code",
   "execution_count": 27,
   "metadata": {
    "execution": {
     "iopub.execute_input": "2020-12-16T10:07:44.385532Z",
     "iopub.status.busy": "2020-12-16T10:07:44.384928Z",
     "iopub.status.idle": "2020-12-16T10:07:44.395476Z",
     "shell.execute_reply": "2020-12-16T10:07:44.396276Z"
    },
    "papermill": {
     "duration": 0.071785,
     "end_time": "2020-12-16T10:07:44.396425",
     "exception": false,
     "start_time": "2020-12-16T10:07:44.324640",
     "status": "completed"
    },
    "tags": []
   },
   "outputs": [],
   "source": [
    "model_prob = Model(layers[-2:]) "
   ]
  },
  {
   "cell_type": "code",
   "execution_count": 28,
   "metadata": {
    "execution": {
     "iopub.execute_input": "2020-12-16T10:07:44.497973Z",
     "iopub.status.busy": "2020-12-16T10:07:44.497385Z",
     "iopub.status.idle": "2020-12-16T10:07:44.514819Z",
     "shell.execute_reply": "2020-12-16T10:07:44.515259Z"
    },
    "papermill": {
     "duration": 0.070626,
     "end_time": "2020-12-16T10:07:44.515406",
     "exception": false,
     "start_time": "2020-12-16T10:07:44.444780",
     "status": "completed"
    },
    "tags": []
   },
   "outputs": [],
   "source": [
    "# Adjust the x and y ranges according to the above generated plot.\n",
    "x_range = np.linspace(-4, 1, 100) \n",
    "y_range = np.linspace(-6, 6, 100) \n",
    "x_grid, y_grid = np.meshgrid(x_range, y_range) # x_grid and y_grig are of size 100 X 100\n",
    "\n",
    "# converting x_grid and y_grid to continuous arrays\n",
    "x_grid_flat = np.ravel(x_grid)\n",
    "y_grid_flat = np.ravel(y_grid)\n",
    "\n",
    "# The last layer of the current model takes two columns as input. Hence transpose of np.vstack() is required.\n",
    "X = np.vstack((x_grid_flat, y_grid_flat)).T\n",
    "\n",
    "# x_grid and y_grid are of size 100 x 100\n",
    "probability_contour = model_prob(X).reshape(100,100) "
   ]
  },
  {
   "cell_type": "code",
   "execution_count": 29,
   "metadata": {
    "execution": {
     "iopub.execute_input": "2020-12-16T10:07:44.621616Z",
     "iopub.status.busy": "2020-12-16T10:07:44.621039Z",
     "iopub.status.idle": "2020-12-16T10:07:44.886682Z",
     "shell.execute_reply": "2020-12-16T10:07:44.886177Z"
    },
    "papermill": {
     "duration": 0.322998,
     "end_time": "2020-12-16T10:07:44.886812",
     "exception": false,
     "start_time": "2020-12-16T10:07:44.563814",
     "status": "completed"
    },
    "tags": []
   },
   "outputs": [
    {
     "data": {
      "image/png": "[encoded data removed]",
      "text/plain": [
       "<Figure size 720x648 with 1 Axes>"
      ]
     },
     "metadata": {
      "needs_background": "light"
     },
     "output_type": "display_data"
    }
   ],
   "source": [
    "plt.figure(figsize=(10,9))\n",
    "plt.scatter(plot_testing[:,0], plot_testing[:,1], alpha = 0.1, c = y_test.ravel())\n",
    "contours = plt.contour(x_grid,y_grid,probability_contour)\n",
    "plt.title('Probability Contours')\n",
    "plt.clabel(contours, inline = True );"
   ]
  }
 ],
 "metadata": {
  "kernelspec": {
   "display_name": "Python 3",
   "language": "python",
   "name": "python3"
  },
  "language_info": {
   "codemirror_mode": {
    "name": "ipython",
    "version": 3
   },
   "file_extension": ".py",
   "mimetype": "text/x-python",
   "name": "python",
   "nbconvert_exporter": "python",
   "pygments_lexer": "ipython3",
   "version": "3.6.12"
  },
  "papermill": {
   "duration": 112.0579,
   "end_time": "2020-12-16T10:07:45.346640",
   "environment_variables": {},
   "exception": null,
   "input_path": "2020-08-11-NeuralNetwork.ipynb",
   "output_path": "2020-08-11-NeuralNetwork.ipynb",
   "parameters": {},
   "start_time": "2020-12-16T10:05:53.288740",
   "version": "2.1.2"
  }
 },
 "nbformat": 4,
 "nbformat_minor": 4
}