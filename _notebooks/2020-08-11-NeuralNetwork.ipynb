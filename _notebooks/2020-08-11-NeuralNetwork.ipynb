{
 "cells": [
  {
   "cell_type": "markdown",
   "id": "fitted-suggestion",
   "metadata": {
    "papermill": {
     "duration": 0.034885,
     "end_time": "2021-06-11T20:04:34.199500",
     "exception": false,
     "start_time": "2021-06-11T20:04:34.164615",
     "status": "completed"
    },
    "tags": []
   },
   "source": [
    "# \"A Basic Neural Network: Differentiate Hand-Written Digits\"\n",
    "\n",
    "- badges: true\n",
    "- author: Akshith Sriram"
   ]
  },
  {
   "cell_type": "markdown",
   "id": "signal-flexibility",
   "metadata": {
    "papermill": {
     "duration": 0.027985,
     "end_time": "2021-06-11T20:04:34.261632",
     "exception": false,
     "start_time": "2021-06-11T20:04:34.233647",
     "status": "completed"
    },
    "tags": []
   },
   "source": [
    "### Key Objectives:\n",
    "- Building a neural network that differentiates two hand-written digits 3 and 8.\n",
    "- Comparing the results of this Neural Network (NN) to that of a Logistic Regression (LR) model.\n",
    "\n",
    "### Requirements:\n",
    "- 'Kudzu' : A neural network library that was designed during our course by [Univ.AI](www.univ.ai). \n",
    "- MNIST Database\n",
    "\n",
    "If MNIST is not installed, use the command `!pip install mnist` given below.\n",
    "It can be run both from the command line and Jupyter Notebook."
   ]
  },
  {
   "cell_type": "code",
   "execution_count": 1,
   "id": "british-texture",
   "metadata": {
    "execution": {
     "iopub.execute_input": "2021-06-11T20:04:34.340405Z",
     "iopub.status.busy": "2021-06-11T20:04:34.335804Z",
     "iopub.status.idle": "2021-06-11T20:04:35.878804Z",
     "shell.execute_reply": "2021-06-11T20:04:35.877830Z"
    },
    "papermill": {
     "duration": 1.583451,
     "end_time": "2021-06-11T20:04:35.878952",
     "exception": false,
     "start_time": "2021-06-11T20:04:34.295501",
     "status": "completed"
    },
    "tags": []
   },
   "outputs": [
    {
     "name": "stdout",
     "output_type": "stream",
     "text": [
      "Collecting mnist\r\n",
      "  Downloading mnist-0.2.2-py2.py3-none-any.whl (3.5 kB)\r\n"
     ]
    },
    {
     "name": "stdout",
     "output_type": "stream",
     "text": [
      "Requirement already satisfied: numpy in /opt/hostedtoolcache/Python/3.6.13/x64/lib/python3.6/site-packages (from mnist) (1.19.5)\r\n"
     ]
    },
    {
     "name": "stdout",
     "output_type": "stream",
     "text": [
      "Installing collected packages: mnist\r\n"
     ]
    },
    {
     "name": "stdout",
     "output_type": "stream",
     "text": [
      "Successfully installed mnist-0.2.2\r\n"
     ]
    }
   ],
   "source": [
    "!pip install mnist "
   ]
  },
  {
   "cell_type": "markdown",
   "id": "stunning-extra",
   "metadata": {
    "papermill": {
     "duration": 0.0302,
     "end_time": "2021-06-11T20:04:35.939566",
     "exception": false,
     "start_time": "2021-06-11T20:04:35.909366",
     "status": "completed"
    },
    "tags": []
   },
   "source": [
    "#### Importing necessary libraries"
   ]
  },
  {
   "cell_type": "code",
   "execution_count": 2,
   "id": "wooden-france",
   "metadata": {
    "execution": {
     "iopub.execute_input": "2021-06-11T20:04:36.011584Z",
     "iopub.status.busy": "2021-06-11T20:04:36.010903Z",
     "iopub.status.idle": "2021-06-11T20:04:36.593524Z",
     "shell.execute_reply": "2021-06-11T20:04:36.593047Z"
    },
    "papermill": {
     "duration": 0.622064,
     "end_time": "2021-06-11T20:04:36.593651",
     "exception": false,
     "start_time": "2021-06-11T20:04:35.971587",
     "status": "completed"
    },
    "tags": []
   },
   "outputs": [],
   "source": [
    "%load_ext autoreload\n",
    "%autoreload 2\n",
    "\n",
    "%matplotlib inline\n",
    "import matplotlib.pyplot as plt\n",
    "\n",
    "import numpy as np\n",
    "import pandas as pd"
   ]
  },
  {
   "cell_type": "markdown",
   "id": "stunning-physics",
   "metadata": {
    "papermill": {
     "duration": 0.029153,
     "end_time": "2021-06-11T20:04:36.655725",
     "exception": false,
     "start_time": "2021-06-11T20:04:36.626572",
     "status": "completed"
    },
    "tags": []
   },
   "source": [
    "### Preparing the Data"
   ]
  },
  {
   "cell_type": "code",
   "execution_count": 3,
   "id": "unauthorized-remainder",
   "metadata": {
    "execution": {
     "iopub.execute_input": "2021-06-11T20:04:36.722560Z",
     "iopub.status.busy": "2021-06-11T20:04:36.721963Z",
     "iopub.status.idle": "2021-06-11T20:04:36.736181Z",
     "shell.execute_reply": "2021-06-11T20:04:36.736880Z"
    },
    "papermill": {
     "duration": 0.052256,
     "end_time": "2021-06-11T20:04:36.737087",
     "exception": false,
     "start_time": "2021-06-11T20:04:36.684831",
     "status": "completed"
    },
    "tags": []
   },
   "outputs": [],
   "source": [
    "import mnist"
   ]
  },
  {
   "cell_type": "code",
   "execution_count": 4,
   "id": "correct-antarctica",
   "metadata": {
    "execution": {
     "iopub.execute_input": "2021-06-11T20:04:36.804179Z",
     "iopub.status.busy": "2021-06-11T20:04:36.803492Z",
     "iopub.status.idle": "2021-06-11T20:07:50.085585Z",
     "shell.execute_reply": "2021-06-11T20:07:50.085053Z"
    },
    "papermill": {
     "duration": 193.314901,
     "end_time": "2021-06-11T20:07:50.085730",
     "exception": false,
     "start_time": "2021-06-11T20:04:36.770829",
     "status": "completed"
    },
    "tags": []
   },
   "outputs": [],
   "source": [
    "train_images = mnist.train_images()\n",
    "train_labels = mnist.train_labels()"
   ]
  },
  {
   "cell_type": "code",
   "execution_count": 5,
   "id": "musical-prospect",
   "metadata": {
    "execution": {
     "iopub.execute_input": "2021-06-11T20:07:50.150454Z",
     "iopub.status.busy": "2021-06-11T20:07:50.149662Z",
     "iopub.status.idle": "2021-06-11T20:07:50.164063Z",
     "shell.execute_reply": "2021-06-11T20:07:50.164744Z"
    },
    "papermill": {
     "duration": 0.050107,
     "end_time": "2021-06-11T20:07:50.164917",
     "exception": false,
     "start_time": "2021-06-11T20:07:50.114810",
     "status": "completed"
    },
    "tags": []
   },
   "outputs": [
    {
     "data": {
      "text/plain": [
       "((60000, 28, 28), (60000,))"
      ]
     },
     "execution_count": 5,
     "metadata": {},
     "output_type": "execute_result"
    }
   ],
   "source": [
    "train_images.shape, train_labels.shape"
   ]
  },
  {
   "cell_type": "code",
   "execution_count": 6,
   "id": "preliminary-elizabeth",
   "metadata": {
    "execution": {
     "iopub.execute_input": "2021-06-11T20:07:50.230647Z",
     "iopub.status.busy": "2021-06-11T20:07:50.228723Z",
     "iopub.status.idle": "2021-06-11T20:08:39.707944Z",
     "shell.execute_reply": "2021-06-11T20:08:39.708395Z"
    },
    "papermill": {
     "duration": 49.512055,
     "end_time": "2021-06-11T20:08:39.708565",
     "exception": false,
     "start_time": "2021-06-11T20:07:50.196510",
     "status": "completed"
    },
    "tags": []
   },
   "outputs": [],
   "source": [
    "test_images = mnist.test_images()\n",
    "test_labels = mnist.test_labels()"
   ]
  },
  {
   "cell_type": "code",
   "execution_count": 7,
   "id": "acknowledged-oxygen",
   "metadata": {
    "execution": {
     "iopub.execute_input": "2021-06-11T20:08:39.780368Z",
     "iopub.status.busy": "2021-06-11T20:08:39.777798Z",
     "iopub.status.idle": "2021-06-11T20:08:39.792779Z",
     "shell.execute_reply": "2021-06-11T20:08:39.793365Z"
    },
    "papermill": {
     "duration": 0.055154,
     "end_time": "2021-06-11T20:08:39.793543",
     "exception": false,
     "start_time": "2021-06-11T20:08:39.738389",
     "status": "completed"
    },
    "tags": []
   },
   "outputs": [
    {
     "data": {
      "text/plain": [
       "((10000, 28, 28), (10000,))"
      ]
     },
     "execution_count": 7,
     "metadata": {},
     "output_type": "execute_result"
    }
   ],
   "source": [
    "test_images.shape, test_labels.shape"
   ]
  },
  {
   "cell_type": "code",
   "execution_count": 8,
   "id": "innovative-organic",
   "metadata": {
    "execution": {
     "iopub.execute_input": "2021-06-11T20:08:39.863288Z",
     "iopub.status.busy": "2021-06-11T20:08:39.859658Z",
     "iopub.status.idle": "2021-06-11T20:08:40.026079Z",
     "shell.execute_reply": "2021-06-11T20:08:40.025005Z"
    },
    "papermill": {
     "duration": 0.20208,
     "end_time": "2021-06-11T20:08:40.026281",
     "exception": false,
     "start_time": "2021-06-11T20:08:39.824201",
     "status": "completed"
    },
    "tags": []
   },
   "outputs": [
    {
     "name": "stdout",
     "output_type": "stream",
     "text": [
      "2\n"
     ]
    },
    {
     "data": {
      "text/plain": [
       "<matplotlib.image.AxesImage at 0x7f2c99078668>"
      ]
     },
     "execution_count": 8,
     "metadata": {},
     "output_type": "execute_result"
    },
    {
     "data": {
      "image/png": "[encoded data removed]",
      "text/plain": [
       "<Figure size 432x288 with 1 Axes>"
      ]
     },
     "metadata": {
      "needs_background": "light"
     },
     "output_type": "display_data"
    }
   ],
   "source": [
    "image_index = 7776 # You may select anything up to 60,000\n",
    "print(train_labels[image_index]) \n",
    "plt.imshow(train_images[image_index], cmap='Greys')"
   ]
  },
  {
   "cell_type": "markdown",
   "id": "facial-modem",
   "metadata": {
    "papermill": {
     "duration": 0.036173,
     "end_time": "2021-06-11T20:08:40.092873",
     "exception": false,
     "start_time": "2021-06-11T20:08:40.056700",
     "status": "completed"
    },
    "tags": []
   },
   "source": [
    "## Filter data to get 3 and 8 out"
   ]
  },
  {
   "cell_type": "code",
   "execution_count": 9,
   "id": "thousand-acquisition",
   "metadata": {
    "execution": {
     "iopub.execute_input": "2021-06-11T20:08:40.170750Z",
     "iopub.status.busy": "2021-06-11T20:08:40.165111Z",
     "iopub.status.idle": "2021-06-11T20:08:40.178762Z",
     "shell.execute_reply": "2021-06-11T20:08:40.179580Z"
    },
    "papermill": {
     "duration": 0.055691,
     "end_time": "2021-06-11T20:08:40.179714",
     "exception": false,
     "start_time": "2021-06-11T20:08:40.124023",
     "status": "completed"
    },
    "tags": []
   },
   "outputs": [],
   "source": [
    "train_filter = np.where((train_labels == 3 ) | (train_labels == 8))\n",
    "test_filter = np.where((test_labels == 3) | (test_labels == 8))\n",
    "X_train, y_train = train_images[train_filter], train_labels[train_filter]\n",
    "X_test, y_test = test_images[test_filter], test_labels[test_filter]"
   ]
  },
  {
   "cell_type": "markdown",
   "id": "ruled-access",
   "metadata": {
    "papermill": {
     "duration": 0.030337,
     "end_time": "2021-06-11T20:08:40.240187",
     "exception": false,
     "start_time": "2021-06-11T20:08:40.209850",
     "status": "completed"
    },
    "tags": []
   },
   "source": [
    "We normalize the pixel values in the 0 to 1 range"
   ]
  },
  {
   "cell_type": "code",
   "execution_count": 10,
   "id": "isolated-denver",
   "metadata": {
    "execution": {
     "iopub.execute_input": "2021-06-11T20:08:40.306983Z",
     "iopub.status.busy": "2021-06-11T20:08:40.305172Z",
     "iopub.status.idle": "2021-06-11T20:08:40.364548Z",
     "shell.execute_reply": "2021-06-11T20:08:40.363978Z"
    },
    "papermill": {
     "duration": 0.091642,
     "end_time": "2021-06-11T20:08:40.364669",
     "exception": false,
     "start_time": "2021-06-11T20:08:40.273027",
     "status": "completed"
    },
    "tags": []
   },
   "outputs": [],
   "source": [
    "X_train = X_train/255.\n",
    "X_test = X_test/255."
   ]
  },
  {
   "cell_type": "markdown",
   "id": "perfect-summary",
   "metadata": {
    "papermill": {
     "duration": 0.033324,
     "end_time": "2021-06-11T20:08:40.430291",
     "exception": false,
     "start_time": "2021-06-11T20:08:40.396967",
     "status": "completed"
    },
    "tags": []
   },
   "source": [
    "Setup the labels as 1 (when the digit is 3) and 0 (when the digit is 8)"
   ]
  },
  {
   "cell_type": "code",
   "execution_count": 11,
   "id": "personalized-growing",
   "metadata": {
    "execution": {
     "iopub.execute_input": "2021-06-11T20:08:40.500784Z",
     "iopub.status.busy": "2021-06-11T20:08:40.500122Z",
     "iopub.status.idle": "2021-06-11T20:08:40.513668Z",
     "shell.execute_reply": "2021-06-11T20:08:40.514168Z"
    },
    "papermill": {
     "duration": 0.048298,
     "end_time": "2021-06-11T20:08:40.514316",
     "exception": false,
     "start_time": "2021-06-11T20:08:40.466018",
     "status": "completed"
    },
    "tags": []
   },
   "outputs": [],
   "source": [
    "y_train = 1*(y_train==3)\n",
    "y_test = 1*(y_test==3)"
   ]
  },
  {
   "cell_type": "code",
   "execution_count": 12,
   "id": "considered-virgin",
   "metadata": {
    "execution": {
     "iopub.execute_input": "2021-06-11T20:08:40.584187Z",
     "iopub.status.busy": "2021-06-11T20:08:40.581891Z",
     "iopub.status.idle": "2021-06-11T20:08:40.596651Z",
     "shell.execute_reply": "2021-06-11T20:08:40.597191Z"
    },
    "papermill": {
     "duration": 0.050681,
     "end_time": "2021-06-11T20:08:40.597380",
     "exception": false,
     "start_time": "2021-06-11T20:08:40.546699",
     "status": "completed"
    },
    "tags": []
   },
   "outputs": [
    {
     "data": {
      "text/plain": [
       "((11982, 28, 28), (1984, 28, 28))"
      ]
     },
     "execution_count": 12,
     "metadata": {},
     "output_type": "execute_result"
    }
   ],
   "source": [
    "X_train.shape, X_test.shape"
   ]
  },
  {
   "cell_type": "markdown",
   "id": "civilian-mobile",
   "metadata": {
    "papermill": {
     "duration": 0.032075,
     "end_time": "2021-06-11T20:08:40.663255",
     "exception": false,
     "start_time": "2021-06-11T20:08:40.631180",
     "status": "completed"
    },
    "tags": []
   },
   "source": [
    "### Reshape the input data to create a linear array"
   ]
  },
  {
   "cell_type": "code",
   "execution_count": 13,
   "id": "colonial-adams",
   "metadata": {
    "execution": {
     "iopub.execute_input": "2021-06-11T20:08:40.731122Z",
     "iopub.status.busy": "2021-06-11T20:08:40.730562Z",
     "iopub.status.idle": "2021-06-11T20:08:40.744131Z",
     "shell.execute_reply": "2021-06-11T20:08:40.743610Z"
    },
    "papermill": {
     "duration": 0.048504,
     "end_time": "2021-06-11T20:08:40.744239",
     "exception": false,
     "start_time": "2021-06-11T20:08:40.695735",
     "status": "completed"
    },
    "tags": []
   },
   "outputs": [
    {
     "data": {
      "text/plain": [
       "((11982, 784), (1984, 784))"
      ]
     },
     "execution_count": 13,
     "metadata": {},
     "output_type": "execute_result"
    }
   ],
   "source": [
    "X_train = X_train.reshape(X_train.shape[0], -1)\n",
    "X_test = X_test.reshape(X_test.shape[0], -1)\n",
    "X_train.shape, X_test.shape"
   ]
  },
  {
   "cell_type": "markdown",
   "id": "smart-details",
   "metadata": {
    "papermill": {
     "duration": 0.031292,
     "end_time": "2021-06-11T20:08:40.805590",
     "exception": false,
     "start_time": "2021-06-11T20:08:40.774298",
     "status": "completed"
    },
    "tags": []
   },
   "source": [
    "### Importing appropriate functions from 'Kudzu'"
   ]
  },
  {
   "cell_type": "code",
   "execution_count": 14,
   "id": "celtic-trial",
   "metadata": {
    "execution": {
     "iopub.execute_input": "2021-06-11T20:08:40.871825Z",
     "iopub.status.busy": "2021-06-11T20:08:40.871216Z",
     "iopub.status.idle": "2021-06-11T20:08:40.889310Z",
     "shell.execute_reply": "2021-06-11T20:08:40.888878Z"
    },
    "papermill": {
     "duration": 0.053138,
     "end_time": "2021-06-11T20:08:40.889411",
     "exception": false,
     "start_time": "2021-06-11T20:08:40.836273",
     "status": "completed"
    },
    "tags": []
   },
   "outputs": [],
   "source": [
    "from kudzu.layer import Sigmoid\n",
    "from kudzu.layer import Relu\n",
    "from kudzu.layer import Affine, Sigmoid\n",
    "\n",
    "from kudzu.model import Model\n",
    "from kudzu.train import Learner\n",
    "from kudzu.optim import GD\n",
    "from kudzu.data import Data, Dataloader, Sampler\n",
    "\n",
    "from kudzu.callbacks import AccCallback\n",
    "from kudzu.callbacks import ClfCallback\n",
    "\n",
    "from kudzu.loss import MSE"
   ]
  },
  {
   "cell_type": "markdown",
   "id": "coupled-customer",
   "metadata": {
    "papermill": {
     "duration": 0.033113,
     "end_time": "2021-06-11T20:08:40.956993",
     "exception": false,
     "start_time": "2021-06-11T20:08:40.923880",
     "status": "completed"
    },
    "tags": []
   },
   "source": [
    "### Let us create a `Config` class, to store important parameters. \n",
    "This class essentially plays the role of a dictionary."
   ]
  },
  {
   "cell_type": "code",
   "execution_count": 15,
   "id": "young-ceiling",
   "metadata": {
    "execution": {
     "iopub.execute_input": "2021-06-11T20:08:41.036109Z",
     "iopub.status.busy": "2021-06-11T20:08:41.035575Z",
     "iopub.status.idle": "2021-06-11T20:08:41.043704Z",
     "shell.execute_reply": "2021-06-11T20:08:41.043291Z"
    },
    "papermill": {
     "duration": 0.052272,
     "end_time": "2021-06-11T20:08:41.043809",
     "exception": false,
     "start_time": "2021-06-11T20:08:40.991537",
     "status": "completed"
    },
    "tags": []
   },
   "outputs": [],
   "source": [
    "class Config:\n",
    "    pass\n",
    "config = Config()\n",
    "config.lr = 0.001\n",
    "config.num_epochs = 251\n",
    "config.bs = 50"
   ]
  },
  {
   "cell_type": "markdown",
   "id": "according-mandate",
   "metadata": {
    "papermill": {
     "duration": 0.030334,
     "end_time": "2021-06-11T20:08:41.106113",
     "exception": false,
     "start_time": "2021-06-11T20:08:41.075779",
     "status": "completed"
    },
    "tags": []
   },
   "source": [
    "### Initializing data to the variables"
   ]
  },
  {
   "cell_type": "code",
   "execution_count": 16,
   "id": "academic-disposition",
   "metadata": {
    "execution": {
     "iopub.execute_input": "2021-06-11T20:08:41.170418Z",
     "iopub.status.busy": "2021-06-11T20:08:41.169735Z",
     "iopub.status.idle": "2021-06-11T20:08:41.180624Z",
     "shell.execute_reply": "2021-06-11T20:08:41.180132Z"
    },
    "papermill": {
     "duration": 0.043956,
     "end_time": "2021-06-11T20:08:41.180745",
     "exception": false,
     "start_time": "2021-06-11T20:08:41.136789",
     "status": "completed"
    },
    "tags": []
   },
   "outputs": [],
   "source": [
    "data = Data(X_train, y_train.reshape(-1,1))\n",
    "sampler = Sampler(data, config.bs, shuffle=True)\n",
    "\n",
    "dl = Dataloader(data, sampler)\n",
    "\n",
    "opt = GD(config.lr)\n",
    "loss = MSE()"
   ]
  },
  {
   "cell_type": "code",
   "execution_count": 17,
   "id": "featured-commission",
   "metadata": {
    "execution": {
     "iopub.execute_input": "2021-06-11T20:08:41.242561Z",
     "iopub.status.busy": "2021-06-11T20:08:41.241955Z",
     "iopub.status.idle": "2021-06-11T20:08:41.253326Z",
     "shell.execute_reply": "2021-06-11T20:08:41.253811Z"
    },
    "papermill": {
     "duration": 0.044278,
     "end_time": "2021-06-11T20:08:41.253924",
     "exception": false,
     "start_time": "2021-06-11T20:08:41.209646",
     "status": "completed"
    },
    "tags": []
   },
   "outputs": [],
   "source": [
    "training_xdata = X_train\n",
    "testing_xdata = X_test\n",
    "training_ydata = y_train.reshape(-1,1)\n",
    "testing_ydata = y_test.reshape(-1,1)"
   ]
  },
  {
   "cell_type": "markdown",
   "id": "played-safety",
   "metadata": {
    "papermill": {
     "duration": 0.030255,
     "end_time": "2021-06-11T20:08:41.315282",
     "exception": false,
     "start_time": "2021-06-11T20:08:41.285027",
     "status": "completed"
    },
    "tags": []
   },
   "source": [
    "### Running Models with the Training data\n",
    "Details about the network layers:\n",
    "- A first affine layer has 784 inputs and does 100 affine transforms. These are followed by a Relu\n",
    "- A second affine layer has 100 inputs from the 100 activations of the past layer, and does 100 affine transforms. These are followed by a Relu\n",
    "- A third affine layer has 100 activations and does 2 affine transformations to create an embedding for visualization. There is no non-linearity here.\n",
    "- A final \"logistic regression\" which has an affine transform from 2 inputs to 1 output, which is squeezed through a sigmoid.\n",
    "\n",
    "Help taken from Anshuman's Notebook."
   ]
  },
  {
   "cell_type": "code",
   "execution_count": 18,
   "id": "asian-bankruptcy",
   "metadata": {
    "execution": {
     "iopub.execute_input": "2021-06-11T20:08:41.383491Z",
     "iopub.status.busy": "2021-06-11T20:08:41.382814Z",
     "iopub.status.idle": "2021-06-11T20:08:41.400991Z",
     "shell.execute_reply": "2021-06-11T20:08:41.401584Z"
    },
    "papermill": {
     "duration": 0.055465,
     "end_time": "2021-06-11T20:08:41.401709",
     "exception": false,
     "start_time": "2021-06-11T20:08:41.346244",
     "status": "completed"
    },
    "tags": []
   },
   "outputs": [],
   "source": [
    "# layers for the Neural Network\n",
    "layers = [Affine(\"first\", 784, 100), Relu(\"first\"), Affine(\"second\", 100, 100), Relu(\"second\"), Affine(\"third\", 100, 2), Affine(\"final\", 2, 1), Sigmoid(\"final\")]\n",
    "model_nn = Model(layers)\n",
    "\n",
    "# layers for the Logistic Regression\n",
    "layers_lr = [Affine(\"logits\", 784, 1), Sigmoid(\"sigmoid\")]\n",
    "model_lr = Model(layers_lr)"
   ]
  },
  {
   "cell_type": "code",
   "execution_count": 19,
   "id": "removed-butler",
   "metadata": {
    "execution": {
     "iopub.execute_input": "2021-06-11T20:08:41.469227Z",
     "iopub.status.busy": "2021-06-11T20:08:41.468594Z",
     "iopub.status.idle": "2021-06-11T20:08:41.480689Z",
     "shell.execute_reply": "2021-06-11T20:08:41.481136Z"
    },
    "papermill": {
     "duration": 0.046969,
     "end_time": "2021-06-11T20:08:41.481251",
     "exception": false,
     "start_time": "2021-06-11T20:08:41.434282",
     "status": "completed"
    },
    "tags": []
   },
   "outputs": [],
   "source": [
    "# suffix _nn stands for Neural Network.\n",
    "learner_nn = Learner(loss, model_nn, opt, config.num_epochs)\n",
    "acc_nn = ClfCallback(learner_nn, config.bs, training_xdata , testing_xdata, training_ydata, testing_ydata)\n",
    "learner_nn.set_callbacks([acc_nn])"
   ]
  },
  {
   "cell_type": "code",
   "execution_count": 20,
   "id": "conceptual-throw",
   "metadata": {
    "execution": {
     "iopub.execute_input": "2021-06-11T20:08:41.553607Z",
     "iopub.status.busy": "2021-06-11T20:08:41.551550Z",
     "iopub.status.idle": "2021-06-11T20:11:00.986952Z",
     "shell.execute_reply": "2021-06-11T20:11:00.987681Z"
    },
    "papermill": {
     "duration": 139.473482,
     "end_time": "2021-06-11T20:11:00.987825",
     "exception": false,
     "start_time": "2021-06-11T20:08:41.514343",
     "status": "completed"
    },
    "tags": []
   },
   "outputs": [
    {
     "name": "stdout",
     "output_type": "stream",
     "text": [
      "====== Neural Network ======\n"
     ]
    },
    {
     "name": "stdout",
     "output_type": "stream",
     "text": [
      "Epoch 0, Loss 0.2519\n",
      "Training Accuracy: 0.4445, Testing Accuracy: 0.4536\n",
      "\n"
     ]
    },
    {
     "name": "stdout",
     "output_type": "stream",
     "text": [
      "Epoch 10, Loss 0.2461\n",
      "Training Accuracy: 0.6332, Testing Accuracy: 0.6462\n",
      "\n"
     ]
    },
    {
     "name": "stdout",
     "output_type": "stream",
     "text": [
      "Epoch 20, Loss 0.2269\n",
      "Training Accuracy: 0.8055, Testing Accuracy: 0.8115\n",
      "\n"
     ]
    },
    {
     "name": "stdout",
     "output_type": "stream",
     "text": [
      "Epoch 30, Loss 0.1482\n",
      "Training Accuracy: 0.8930, Testing Accuracy: 0.9022\n",
      "\n"
     ]
    },
    {
     "name": "stdout",
     "output_type": "stream",
     "text": [
      "Epoch 40, Loss 0.079\n",
      "Training Accuracy: 0.9210, Testing Accuracy: 0.9330\n",
      "\n"
     ]
    },
    {
     "name": "stdout",
     "output_type": "stream",
     "text": [
      "Epoch 50, Loss 0.0555\n",
      "Training Accuracy: 0.9420, Testing Accuracy: 0.9491\n",
      "\n"
     ]
    },
    {
     "name": "stdout",
     "output_type": "stream",
     "text": [
      "Epoch 60, Loss 0.0449\n",
      "Training Accuracy: 0.9517, Testing Accuracy: 0.9582\n",
      "\n"
     ]
    },
    {
     "name": "stdout",
     "output_type": "stream",
     "text": [
      "Epoch 70, Loss 0.0394\n",
      "Training Accuracy: 0.9564, Testing Accuracy: 0.9632\n",
      "\n"
     ]
    },
    {
     "name": "stdout",
     "output_type": "stream",
     "text": [
      "Epoch 80, Loss 0.036\n",
      "Training Accuracy: 0.9588, Testing Accuracy: 0.9657\n",
      "\n"
     ]
    },
    {
     "name": "stdout",
     "output_type": "stream",
     "text": [
      "Epoch 90, Loss 0.0337\n",
      "Training Accuracy: 0.9608, Testing Accuracy: 0.9662\n",
      "\n"
     ]
    },
    {
     "name": "stdout",
     "output_type": "stream",
     "text": [
      "Epoch 100, Loss 0.032\n",
      "Training Accuracy: 0.9627, Testing Accuracy: 0.9677\n",
      "\n"
     ]
    },
    {
     "name": "stdout",
     "output_type": "stream",
     "text": [
      "Epoch 110, Loss 0.0306\n",
      "Training Accuracy: 0.9639, Testing Accuracy: 0.9698\n",
      "\n"
     ]
    },
    {
     "name": "stdout",
     "output_type": "stream",
     "text": [
      "Epoch 120, Loss 0.0295\n",
      "Training Accuracy: 0.9650, Testing Accuracy: 0.9698\n",
      "\n"
     ]
    },
    {
     "name": "stdout",
     "output_type": "stream",
     "text": [
      "Epoch 130, Loss 0.0286\n",
      "Training Accuracy: 0.9656, Testing Accuracy: 0.9698\n",
      "\n"
     ]
    },
    {
     "name": "stdout",
     "output_type": "stream",
     "text": [
      "Epoch 140, Loss 0.0277\n",
      "Training Accuracy: 0.9666, Testing Accuracy: 0.9703\n",
      "\n"
     ]
    },
    {
     "name": "stdout",
     "output_type": "stream",
     "text": [
      "Epoch 150, Loss 0.027\n",
      "Training Accuracy: 0.9674, Testing Accuracy: 0.9713\n",
      "\n"
     ]
    },
    {
     "name": "stdout",
     "output_type": "stream",
     "text": [
      "Epoch 160, Loss 0.0264\n",
      "Training Accuracy: 0.9680, Testing Accuracy: 0.9713\n",
      "\n"
     ]
    },
    {
     "name": "stdout",
     "output_type": "stream",
     "text": [
      "Epoch 170, Loss 0.0258\n",
      "Training Accuracy: 0.9691, Testing Accuracy: 0.9723\n",
      "\n"
     ]
    },
    {
     "name": "stdout",
     "output_type": "stream",
     "text": [
      "Epoch 180, Loss 0.0252\n",
      "Training Accuracy: 0.9699, Testing Accuracy: 0.9718\n",
      "\n"
     ]
    },
    {
     "name": "stdout",
     "output_type": "stream",
     "text": [
      "Epoch 190, Loss 0.0247\n",
      "Training Accuracy: 0.9701, Testing Accuracy: 0.9718\n",
      "\n"
     ]
    },
    {
     "name": "stdout",
     "output_type": "stream",
     "text": [
      "Epoch 200, Loss 0.0242\n",
      "Training Accuracy: 0.9706, Testing Accuracy: 0.9713\n",
      "\n"
     ]
    },
    {
     "name": "stdout",
     "output_type": "stream",
     "text": [
      "Epoch 210, Loss 0.0238\n",
      "Training Accuracy: 0.9714, Testing Accuracy: 0.9713\n",
      "\n"
     ]
    },
    {
     "name": "stdout",
     "output_type": "stream",
     "text": [
      "Epoch 220, Loss 0.0234\n",
      "Training Accuracy: 0.9722, Testing Accuracy: 0.9723\n",
      "\n"
     ]
    },
    {
     "name": "stdout",
     "output_type": "stream",
     "text": [
      "Epoch 230, Loss 0.023\n",
      "Training Accuracy: 0.9728, Testing Accuracy: 0.9713\n",
      "\n"
     ]
    },
    {
     "name": "stdout",
     "output_type": "stream",
     "text": [
      "Epoch 240, Loss 0.0226\n",
      "Training Accuracy: 0.9730, Testing Accuracy: 0.9718\n",
      "\n"
     ]
    },
    {
     "name": "stdout",
     "output_type": "stream",
     "text": [
      "Epoch 250, Loss 0.0222\n",
      "Training Accuracy: 0.9735, Testing Accuracy: 0.9708\n",
      "\n"
     ]
    },
    {
     "data": {
      "text/plain": [
       "0.012406112822800006"
      ]
     },
     "execution_count": 20,
     "metadata": {},
     "output_type": "execute_result"
    }
   ],
   "source": [
    "print(\"====== Neural Network ======\")\n",
    "learner_nn.train_loop(dl)"
   ]
  },
  {
   "cell_type": "markdown",
   "id": "competent-suffering",
   "metadata": {
    "papermill": {
     "duration": 0.047984,
     "end_time": "2021-06-11T20:11:01.087672",
     "exception": false,
     "start_time": "2021-06-11T20:11:01.039688",
     "status": "completed"
    },
    "tags": []
   },
   "source": [
    "### Logistic Regression based Implementation."
   ]
  },
  {
   "cell_type": "code",
   "execution_count": 21,
   "id": "qualified-psychiatry",
   "metadata": {
    "execution": {
     "iopub.execute_input": "2021-06-11T20:11:01.185987Z",
     "iopub.status.busy": "2021-06-11T20:11:01.185352Z",
     "iopub.status.idle": "2021-06-11T20:11:01.198481Z",
     "shell.execute_reply": "2021-06-11T20:11:01.197866Z"
    },
    "papermill": {
     "duration": 0.064256,
     "end_time": "2021-06-11T20:11:01.198613",
     "exception": false,
     "start_time": "2021-06-11T20:11:01.134357",
     "status": "completed"
    },
    "tags": []
   },
   "outputs": [],
   "source": [
    "learner_lr = Learner(loss, model_lr, opt, config.num_epochs)\n",
    "acc_lr = ClfCallback(learner_lr, config.bs, training_xdata , testing_xdata, training_ydata, testing_ydata)\n",
    "learner_lr.set_callbacks([acc_lr])"
   ]
  },
  {
   "cell_type": "code",
   "execution_count": 22,
   "id": "average-outside",
   "metadata": {
    "execution": {
     "iopub.execute_input": "2021-06-11T20:11:01.294762Z",
     "iopub.status.busy": "2021-06-11T20:11:01.288244Z",
     "iopub.status.idle": "2021-06-11T20:11:21.064087Z",
     "shell.execute_reply": "2021-06-11T20:11:21.064948Z"
    },
    "papermill": {
     "duration": 19.824465,
     "end_time": "2021-06-11T20:11:21.065106",
     "exception": false,
     "start_time": "2021-06-11T20:11:01.240641",
     "status": "completed"
    },
    "tags": []
   },
   "outputs": [
    {
     "name": "stdout",
     "output_type": "stream",
     "text": [
      "====== Logistic Regression ======\n",
      "Epoch 0, Loss 0.2213\n",
      "Training Accuracy: 0.7486, Testing Accuracy: 0.7581\n",
      "\n"
     ]
    },
    {
     "name": "stdout",
     "output_type": "stream",
     "text": [
      "Epoch 10, Loss 0.1023\n",
      "Training Accuracy: 0.9082, Testing Accuracy: 0.9148\n",
      "\n"
     ]
    },
    {
     "name": "stdout",
     "output_type": "stream",
     "text": [
      "Epoch 20, Loss 0.0789\n",
      "Training Accuracy: 0.9278, Testing Accuracy: 0.9360\n",
      "\n"
     ]
    },
    {
     "name": "stdout",
     "output_type": "stream",
     "text": [
      "Epoch 30, Loss 0.068\n",
      "Training Accuracy: 0.9366, Testing Accuracy: 0.9456\n",
      "\n"
     ]
    },
    {
     "name": "stdout",
     "output_type": "stream",
     "text": [
      "Epoch 40, Loss 0.0614\n",
      "Training Accuracy: 0.9427, Testing Accuracy: 0.9496\n",
      "\n"
     ]
    },
    {
     "name": "stdout",
     "output_type": "stream",
     "text": [
      "Epoch 50, Loss 0.0569\n",
      "Training Accuracy: 0.9462, Testing Accuracy: 0.9536\n",
      "\n"
     ]
    },
    {
     "name": "stdout",
     "output_type": "stream",
     "text": [
      "Epoch 60, Loss 0.0537\n",
      "Training Accuracy: 0.9485, Testing Accuracy: 0.9556\n",
      "\n"
     ]
    },
    {
     "name": "stdout",
     "output_type": "stream",
     "text": [
      "Epoch 70, Loss 0.0511\n",
      "Training Accuracy: 0.9492, Testing Accuracy: 0.9587\n",
      "\n"
     ]
    },
    {
     "name": "stdout",
     "output_type": "stream",
     "text": [
      "Epoch 80, Loss 0.0491\n",
      "Training Accuracy: 0.9498, Testing Accuracy: 0.9607\n",
      "\n"
     ]
    },
    {
     "name": "stdout",
     "output_type": "stream",
     "text": [
      "Epoch 90, Loss 0.0474\n",
      "Training Accuracy: 0.9510, Testing Accuracy: 0.9607\n",
      "\n"
     ]
    },
    {
     "name": "stdout",
     "output_type": "stream",
     "text": [
      "Epoch 100, Loss 0.046\n",
      "Training Accuracy: 0.9523, Testing Accuracy: 0.9617\n",
      "\n"
     ]
    },
    {
     "name": "stdout",
     "output_type": "stream",
     "text": [
      "Epoch 110, Loss 0.0448\n",
      "Training Accuracy: 0.9533, Testing Accuracy: 0.9627\n",
      "\n"
     ]
    },
    {
     "name": "stdout",
     "output_type": "stream",
     "text": [
      "Epoch 120, Loss 0.0438\n",
      "Training Accuracy: 0.9539, Testing Accuracy: 0.9627\n",
      "\n"
     ]
    },
    {
     "name": "stdout",
     "output_type": "stream",
     "text": [
      "Epoch 130, Loss 0.0428\n",
      "Training Accuracy: 0.9546, Testing Accuracy: 0.9632\n",
      "\n"
     ]
    },
    {
     "name": "stdout",
     "output_type": "stream",
     "text": [
      "Epoch 140, Loss 0.042\n",
      "Training Accuracy: 0.9554, Testing Accuracy: 0.9637\n",
      "\n"
     ]
    },
    {
     "name": "stdout",
     "output_type": "stream",
     "text": [
      "Epoch 150, Loss 0.0413\n",
      "Training Accuracy: 0.9557, Testing Accuracy: 0.9647\n",
      "\n"
     ]
    },
    {
     "name": "stdout",
     "output_type": "stream",
     "text": [
      "Epoch 160, Loss 0.0406\n",
      "Training Accuracy: 0.9564, Testing Accuracy: 0.9647\n",
      "\n"
     ]
    },
    {
     "name": "stdout",
     "output_type": "stream",
     "text": [
      "Epoch 170, Loss 0.04\n",
      "Training Accuracy: 0.9569, Testing Accuracy: 0.9652\n",
      "\n"
     ]
    },
    {
     "name": "stdout",
     "output_type": "stream",
     "text": [
      "Epoch 180, Loss 0.0395\n",
      "Training Accuracy: 0.9571, Testing Accuracy: 0.9652\n",
      "\n"
     ]
    },
    {
     "name": "stdout",
     "output_type": "stream",
     "text": [
      "Epoch 190, Loss 0.0389\n",
      "Training Accuracy: 0.9575, Testing Accuracy: 0.9657\n",
      "\n"
     ]
    },
    {
     "name": "stdout",
     "output_type": "stream",
     "text": [
      "Epoch 200, Loss 0.0385\n",
      "Training Accuracy: 0.9578, Testing Accuracy: 0.9657\n",
      "\n"
     ]
    },
    {
     "name": "stdout",
     "output_type": "stream",
     "text": [
      "Epoch 210, Loss 0.038\n",
      "Training Accuracy: 0.9579, Testing Accuracy: 0.9662\n",
      "\n"
     ]
    },
    {
     "name": "stdout",
     "output_type": "stream",
     "text": [
      "Epoch 220, Loss 0.0376\n",
      "Training Accuracy: 0.9587, Testing Accuracy: 0.9662\n",
      "\n"
     ]
    },
    {
     "name": "stdout",
     "output_type": "stream",
     "text": [
      "Epoch 230, Loss 0.0372\n",
      "Training Accuracy: 0.9593, Testing Accuracy: 0.9667\n",
      "\n"
     ]
    },
    {
     "name": "stdout",
     "output_type": "stream",
     "text": [
      "Epoch 240, Loss 0.0369\n",
      "Training Accuracy: 0.9597, Testing Accuracy: 0.9662\n",
      "\n"
     ]
    },
    {
     "name": "stdout",
     "output_type": "stream",
     "text": [
      "Epoch 250, Loss 0.0365\n",
      "Training Accuracy: 0.9600, Testing Accuracy: 0.9662\n",
      "\n"
     ]
    },
    {
     "data": {
      "text/plain": [
       "0.04487665543450565"
      ]
     },
     "execution_count": 22,
     "metadata": {},
     "output_type": "execute_result"
    }
   ],
   "source": [
    "print(\"====== Logistic Regression ======\")\n",
    "learner_lr.train_loop(dl)"
   ]
  },
  {
   "cell_type": "markdown",
   "id": "adjusted-possible",
   "metadata": {
    "papermill": {
     "duration": 0.049881,
     "end_time": "2021-06-11T20:11:21.166178",
     "exception": false,
     "start_time": "2021-06-11T20:11:21.116297",
     "status": "completed"
    },
    "tags": []
   },
   "source": [
    "### Comparing results of NN and LR"
   ]
  },
  {
   "cell_type": "code",
   "execution_count": 23,
   "id": "mental-multimedia",
   "metadata": {
    "execution": {
     "iopub.execute_input": "2021-06-11T20:11:21.291655Z",
     "iopub.status.busy": "2021-06-11T20:11:21.290801Z",
     "iopub.status.idle": "2021-06-11T20:11:21.565216Z",
     "shell.execute_reply": "2021-06-11T20:11:21.564279Z"
    },
    "papermill": {
     "duration": 0.345369,
     "end_time": "2021-06-11T20:11:21.565341",
     "exception": false,
     "start_time": "2021-06-11T20:11:21.219972",
     "status": "completed"
    },
    "tags": []
   },
   "outputs": [
    {
     "data": {
      "text/plain": [
       "<matplotlib.legend.Legend at 0x7f2c90bd9128>"
      ]
     },
     "execution_count": 23,
     "metadata": {},
     "output_type": "execute_result"
    },
    {
     "data": {
      "image/png": "[encoded data removed]",
      "text/plain": [
       "<Figure size 1080x720 with 1 Axes>"
      ]
     },
     "metadata": {
      "needs_background": "light"
     },
     "output_type": "display_data"
    }
   ],
   "source": [
    "plt.figure(figsize=(15,10))\n",
    "\n",
    "# Neural Network plots\n",
    "plt.plot(acc_nn.accuracies, 'r-', label = \"Training Accuracies - NN\")\n",
    "plt.plot(acc_nn.test_accuracies, 'g-', label = \"Testing Accuracies - NN\")\n",
    "\n",
    "# Logistic Regression plots\n",
    "plt.plot(acc_lr.accuracies, 'k-', label = \"Training Accuracies - LR\")\n",
    "plt.plot(acc_lr.test_accuracies, 'b-', label = \"Testing Accuracies - LR\")\n",
    "\n",
    "plt.ylim(0.8, 1)\n",
    "\n",
    "plt.legend()\n",
    "\n"
   ]
  },
  {
   "cell_type": "markdown",
   "id": "sexual-flesh",
   "metadata": {
    "papermill": {
     "duration": 0.048777,
     "end_time": "2021-06-11T20:11:21.662494",
     "exception": false,
     "start_time": "2021-06-11T20:11:21.613717",
     "status": "completed"
    },
    "tags": []
   },
   "source": [
    "### From the plot, we can observe the following:\n",
    "- Neural Network achieves higher accuracy than the Logistic Regression model.\n",
    "- This apparently, is because of overfitting, i.e. NN captures more noise than data.\n",
    "- Testing accuracy of NN drops below the Training accuracy at higher epochs. This explains the over-fitting on training data.\n",
    "- Logistic Regression gives a reliable accuracy, without the above mentioned problem.\n"
   ]
  },
  {
   "cell_type": "markdown",
   "id": "institutional-pacific",
   "metadata": {
    "papermill": {
     "duration": 0.049359,
     "end_time": "2021-06-11T20:11:21.763316",
     "exception": false,
     "start_time": "2021-06-11T20:11:21.713957",
     "status": "completed"
    },
    "tags": []
   },
   "source": [
    "### Moving till the last but one layer (excluding it).\n",
    "#### Plotting the outputs of this layer of the NN."
   ]
  },
  {
   "cell_type": "code",
   "execution_count": 24,
   "id": "economic-server",
   "metadata": {
    "execution": {
     "iopub.execute_input": "2021-06-11T20:11:21.866508Z",
     "iopub.status.busy": "2021-06-11T20:11:21.865927Z",
     "iopub.status.idle": "2021-06-11T20:11:21.877925Z",
     "shell.execute_reply": "2021-06-11T20:11:21.878463Z"
    },
    "papermill": {
     "duration": 0.06596,
     "end_time": "2021-06-11T20:11:21.878602",
     "exception": false,
     "start_time": "2021-06-11T20:11:21.812642",
     "status": "completed"
    },
    "tags": []
   },
   "outputs": [],
   "source": [
    "model_new = Model(layers[:-2])"
   ]
  },
  {
   "cell_type": "code",
   "execution_count": 25,
   "id": "varied-upgrade",
   "metadata": {
    "execution": {
     "iopub.execute_input": "2021-06-11T20:11:21.980440Z",
     "iopub.status.busy": "2021-06-11T20:11:21.979898Z",
     "iopub.status.idle": "2021-06-11T20:11:22.003661Z",
     "shell.execute_reply": "2021-06-11T20:11:22.004360Z"
    },
    "papermill": {
     "duration": 0.07749,
     "end_time": "2021-06-11T20:11:22.004555",
     "exception": false,
     "start_time": "2021-06-11T20:11:21.927065",
     "status": "completed"
    },
    "tags": []
   },
   "outputs": [],
   "source": [
    "plot_testing = model_new(testing_xdata)"
   ]
  },
  {
   "cell_type": "code",
   "execution_count": 26,
   "id": "specific-handling",
   "metadata": {
    "execution": {
     "iopub.execute_input": "2021-06-11T20:11:22.151584Z",
     "iopub.status.busy": "2021-06-11T20:11:22.150994Z",
     "iopub.status.idle": "2021-06-11T20:11:22.360611Z",
     "shell.execute_reply": "2021-06-11T20:11:22.361044Z"
    },
    "papermill": {
     "duration": 0.272756,
     "end_time": "2021-06-11T20:11:22.361181",
     "exception": false,
     "start_time": "2021-06-11T20:11:22.088425",
     "status": "completed"
    },
    "tags": []
   },
   "outputs": [
    {
     "data": {
      "text/plain": [
       "Text(0.5, 1.0, 'Outputs')"
      ]
     },
     "execution_count": 26,
     "metadata": {},
     "output_type": "execute_result"
    },
    {
     "data": {
      "image/png": "[encoded data removed]",
      "text/plain": [
       "<Figure size 576x504 with 1 Axes>"
      ]
     },
     "metadata": {
      "needs_background": "light"
     },
     "output_type": "display_data"
    }
   ],
   "source": [
    "plt.figure(figsize=(8,7))\n",
    "plt.scatter(plot_testing[:,0], plot_testing[:,1], alpha = 0.1, c = y_test.ravel());\n",
    "plt.title('Outputs')"
   ]
  },
  {
   "cell_type": "markdown",
   "id": "described-knowing",
   "metadata": {
    "papermill": {
     "duration": 0.050102,
     "end_time": "2021-06-11T20:11:22.461387",
     "exception": false,
     "start_time": "2021-06-11T20:11:22.411285",
     "status": "completed"
    },
    "tags": []
   },
   "source": [
    "### Plotting probability contours"
   ]
  },
  {
   "cell_type": "code",
   "execution_count": 27,
   "id": "needed-growing",
   "metadata": {
    "execution": {
     "iopub.execute_input": "2021-06-11T20:11:22.571907Z",
     "iopub.status.busy": "2021-06-11T20:11:22.566679Z",
     "iopub.status.idle": "2021-06-11T20:11:22.578545Z",
     "shell.execute_reply": "2021-06-11T20:11:22.579056Z"
    },
    "papermill": {
     "duration": 0.067049,
     "end_time": "2021-06-11T20:11:22.579179",
     "exception": false,
     "start_time": "2021-06-11T20:11:22.512130",
     "status": "completed"
    },
    "tags": []
   },
   "outputs": [],
   "source": [
    "model_prob = Model(layers[-2:]) "
   ]
  },
  {
   "cell_type": "code",
   "execution_count": 28,
   "id": "introductory-enforcement",
   "metadata": {
    "execution": {
     "iopub.execute_input": "2021-06-11T20:11:22.689463Z",
     "iopub.status.busy": "2021-06-11T20:11:22.688938Z",
     "iopub.status.idle": "2021-06-11T20:11:22.700700Z",
     "shell.execute_reply": "2021-06-11T20:11:22.700187Z"
    },
    "papermill": {
     "duration": 0.071738,
     "end_time": "2021-06-11T20:11:22.700881",
     "exception": false,
     "start_time": "2021-06-11T20:11:22.629143",
     "status": "completed"
    },
    "tags": []
   },
   "outputs": [],
   "source": [
    "# Adjust the x and y ranges according to the above generated plot.\n",
    "x_range = np.linspace(-4, 1, 100) \n",
    "y_range = np.linspace(-6, 6, 100) \n",
    "x_grid, y_grid = np.meshgrid(x_range, y_range) # x_grid and y_grig are of size 100 X 100\n",
    "\n",
    "# converting x_grid and y_grid to continuous arrays\n",
    "x_grid_flat = np.ravel(x_grid)\n",
    "y_grid_flat = np.ravel(y_grid)\n",
    "\n",
    "# The last layer of the current model takes two columns as input. Hence transpose of np.vstack() is required.\n",
    "X = np.vstack((x_grid_flat, y_grid_flat)).T\n",
    "\n",
    "# x_grid and y_grid are of size 100 x 100\n",
    "probability_contour = model_prob(X).reshape(100,100) "
   ]
  },
  {
   "cell_type": "code",
   "execution_count": 29,
   "id": "understood-landing",
   "metadata": {
    "execution": {
     "iopub.execute_input": "2021-06-11T20:11:22.820316Z",
     "iopub.status.busy": "2021-06-11T20:11:22.819787Z",
     "iopub.status.idle": "2021-06-11T20:11:23.102808Z",
     "shell.execute_reply": "2021-06-11T20:11:23.102289Z"
    },
    "papermill": {
     "duration": 0.342202,
     "end_time": "2021-06-11T20:11:23.102936",
     "exception": false,
     "start_time": "2021-06-11T20:11:22.760734",
     "status": "completed"
    },
    "tags": []
   },
   "outputs": [
    {
     "data": {
      "image/png": "[encoded data removed]",
      "text/plain": [
       "<Figure size 720x648 with 1 Axes>"
      ]
     },
     "metadata": {
      "needs_background": "light"
     },
     "output_type": "display_data"
    }
   ],
   "source": [
    "plt.figure(figsize=(10,9))\n",
    "plt.scatter(plot_testing[:,0], plot_testing[:,1], alpha = 0.1, c = y_test.ravel())\n",
    "contours = plt.contour(x_grid,y_grid,probability_contour)\n",
    "plt.title('Probability Contours')\n",
    "plt.clabel(contours, inline = True );"
   ]
  }
 ],
 "metadata": {
  "kernelspec": {
   "display_name": "Python 3",
   "language": "python",
   "name": "python3"
  },
  "language_info": {
   "codemirror_mode": {
    "name": "ipython",
    "version": 3
   },
   "file_extension": ".py",
   "mimetype": "text/x-python",
   "name": "python",
   "nbconvert_exporter": "python",
   "pygments_lexer": "ipython3",
   "version": "3.6.13"
  },
  "papermill": {
   "duration": 411.477319,
   "end_time": "2021-06-11T20:11:24.404288",
   "environment_variables": {},
   "exception": null,
   "input_path": "2020-08-11-NeuralNetwork.ipynb",
   "output_path": "2020-08-11-NeuralNetwork.ipynb",
   "parameters": {},
   "start_time": "2021-06-11T20:04:32.926969",
   "version": "2.1.2"
  }
 },
 "nbformat": 4,
 "nbformat_minor": 5
}