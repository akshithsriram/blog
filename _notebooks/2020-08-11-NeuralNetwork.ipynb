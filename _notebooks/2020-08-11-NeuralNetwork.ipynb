{
 "cells": [
  {
   "cell_type": "markdown",
   "metadata": {
    "papermill": {
     "duration": 0.024309,
     "end_time": "2020-11-04T10:04:12.146917",
     "exception": false,
     "start_time": "2020-11-04T10:04:12.122608",
     "status": "completed"
    },
    "tags": []
   },
   "source": [
    "# \"A Basic Neural Network: Differentiate Hand-Written Digits\"\n",
    "\n",
    "- badges: true\n",
    "- author: Akshith Sriram"
   ]
  },
  {
   "cell_type": "markdown",
   "metadata": {
    "papermill": {
     "duration": 0.022124,
     "end_time": "2020-11-04T10:04:12.193590",
     "exception": false,
     "start_time": "2020-11-04T10:04:12.171466",
     "status": "completed"
    },
    "tags": []
   },
   "source": [
    "### Key Objectives:\n",
    "- Building a neural network that differentiates two hand-written digits 3 and 8.\n",
    "- Comparing the results of this Neural Network (NN) to that of a Logistic Regression (LR) model.\n",
    "\n",
    "### Requirements:\n",
    "- 'Kudzu' : A neural network library that was designed during our course by [Univ.AI](www.univ.ai). \n",
    "- MNIST Database\n",
    "\n",
    "If MNIST is not installed, use the command `!pip install mnist` given below.\n",
    "It can be run both from the command line and Jupyter Notebook."
   ]
  },
  {
   "cell_type": "code",
   "execution_count": 1,
   "metadata": {
    "execution": {
     "iopub.execute_input": "2020-11-04T10:04:12.242174Z",
     "iopub.status.busy": "2020-11-04T10:04:12.241623Z",
     "iopub.status.idle": "2020-11-04T10:04:13.598651Z",
     "shell.execute_reply": "2020-11-04T10:04:13.597737Z"
    },
    "papermill": {
     "duration": 1.383689,
     "end_time": "2020-11-04T10:04:13.598919",
     "exception": false,
     "start_time": "2020-11-04T10:04:12.215230",
     "status": "completed"
    },
    "tags": []
   },
   "outputs": [
    {
     "name": "stdout",
     "output_type": "stream",
     "text": [
      "Collecting mnist\r\n"
     ]
    },
    {
     "name": "stdout",
     "output_type": "stream",
     "text": [
      "  Downloading mnist-0.2.2-py2.py3-none-any.whl (3.5 kB)\r\n",
      "Requirement already satisfied: numpy in /opt/hostedtoolcache/Python/3.6.12/x64/lib/python3.6/site-packages (from mnist) (1.19.4)\r\n"
     ]
    },
    {
     "name": "stdout",
     "output_type": "stream",
     "text": [
      "Installing collected packages: mnist\r\n"
     ]
    },
    {
     "name": "stdout",
     "output_type": "stream",
     "text": [
      "Successfully installed mnist-0.2.2\r\n"
     ]
    }
   ],
   "source": [
    "!pip install mnist "
   ]
  },
  {
   "cell_type": "markdown",
   "metadata": {
    "papermill": {
     "duration": 0.024106,
     "end_time": "2020-11-04T10:04:13.647171",
     "exception": false,
     "start_time": "2020-11-04T10:04:13.623065",
     "status": "completed"
    },
    "tags": []
   },
   "source": [
    "#### Importing necessary libraries"
   ]
  },
  {
   "cell_type": "code",
   "execution_count": 2,
   "metadata": {
    "execution": {
     "iopub.execute_input": "2020-11-04T10:04:13.706360Z",
     "iopub.status.busy": "2020-11-04T10:04:13.705797Z",
     "iopub.status.idle": "2020-11-04T10:04:14.237553Z",
     "shell.execute_reply": "2020-11-04T10:04:14.237013Z"
    },
    "papermill": {
     "duration": 0.566278,
     "end_time": "2020-11-04T10:04:14.237705",
     "exception": false,
     "start_time": "2020-11-04T10:04:13.671427",
     "status": "completed"
    },
    "tags": []
   },
   "outputs": [],
   "source": [
    "%load_ext autoreload\n",
    "%autoreload 2\n",
    "\n",
    "%matplotlib inline\n",
    "import matplotlib.pyplot as plt\n",
    "\n",
    "import numpy as np\n",
    "import pandas as pd"
   ]
  },
  {
   "cell_type": "markdown",
   "metadata": {
    "papermill": {
     "duration": 0.02412,
     "end_time": "2020-11-04T10:04:14.287164",
     "exception": false,
     "start_time": "2020-11-04T10:04:14.263044",
     "status": "completed"
    },
    "tags": []
   },
   "source": [
    "### Preparing the Data"
   ]
  },
  {
   "cell_type": "code",
   "execution_count": 3,
   "metadata": {
    "execution": {
     "iopub.execute_input": "2020-11-04T10:04:14.332513Z",
     "iopub.status.busy": "2020-11-04T10:04:14.331914Z",
     "iopub.status.idle": "2020-11-04T10:04:14.344087Z",
     "shell.execute_reply": "2020-11-04T10:04:14.343724Z"
    },
    "papermill": {
     "duration": 0.035982,
     "end_time": "2020-11-04T10:04:14.344181",
     "exception": false,
     "start_time": "2020-11-04T10:04:14.308199",
     "status": "completed"
    },
    "tags": []
   },
   "outputs": [],
   "source": [
    "import mnist"
   ]
  },
  {
   "cell_type": "code",
   "execution_count": 4,
   "metadata": {
    "execution": {
     "iopub.execute_input": "2020-11-04T10:04:14.395252Z",
     "iopub.status.busy": "2020-11-04T10:04:14.394692Z",
     "iopub.status.idle": "2020-11-04T10:04:15.428547Z",
     "shell.execute_reply": "2020-11-04T10:04:15.427672Z"
    },
    "papermill": {
     "duration": 1.061621,
     "end_time": "2020-11-04T10:04:15.428776",
     "exception": false,
     "start_time": "2020-11-04T10:04:14.367155",
     "status": "completed"
    },
    "tags": []
   },
   "outputs": [],
   "source": [
    "train_images = mnist.train_images()\n",
    "train_labels = mnist.train_labels()"
   ]
  },
  {
   "cell_type": "code",
   "execution_count": 5,
   "metadata": {
    "execution": {
     "iopub.execute_input": "2020-11-04T10:04:15.479024Z",
     "iopub.status.busy": "2020-11-04T10:04:15.478459Z",
     "iopub.status.idle": "2020-11-04T10:04:15.494518Z",
     "shell.execute_reply": "2020-11-04T10:04:15.494047Z"
    },
    "papermill": {
     "duration": 0.041666,
     "end_time": "2020-11-04T10:04:15.494637",
     "exception": false,
     "start_time": "2020-11-04T10:04:15.452971",
     "status": "completed"
    },
    "tags": []
   },
   "outputs": [
    {
     "data": {
      "text/plain": [
       "((60000, 28, 28), (60000,))"
      ]
     },
     "execution_count": 5,
     "metadata": {},
     "output_type": "execute_result"
    }
   ],
   "source": [
    "train_images.shape, train_labels.shape"
   ]
  },
  {
   "cell_type": "code",
   "execution_count": 6,
   "metadata": {
    "execution": {
     "iopub.execute_input": "2020-11-04T10:04:15.544700Z",
     "iopub.status.busy": "2020-11-04T10:04:15.544116Z",
     "iopub.status.idle": "2020-11-04T10:04:15.977549Z",
     "shell.execute_reply": "2020-11-04T10:04:15.977078Z"
    },
    "papermill": {
     "duration": 0.459892,
     "end_time": "2020-11-04T10:04:15.977663",
     "exception": false,
     "start_time": "2020-11-04T10:04:15.517771",
     "status": "completed"
    },
    "tags": []
   },
   "outputs": [],
   "source": [
    "test_images = mnist.test_images()\n",
    "test_labels = mnist.test_labels()"
   ]
  },
  {
   "cell_type": "code",
   "execution_count": 7,
   "metadata": {
    "execution": {
     "iopub.execute_input": "2020-11-04T10:04:16.024665Z",
     "iopub.status.busy": "2020-11-04T10:04:16.024121Z",
     "iopub.status.idle": "2020-11-04T10:04:16.037738Z",
     "shell.execute_reply": "2020-11-04T10:04:16.037016Z"
    },
    "papermill": {
     "duration": 0.037367,
     "end_time": "2020-11-04T10:04:16.037858",
     "exception": false,
     "start_time": "2020-11-04T10:04:16.000491",
     "status": "completed"
    },
    "tags": []
   },
   "outputs": [
    {
     "data": {
      "text/plain": [
       "((10000, 28, 28), (10000,))"
      ]
     },
     "execution_count": 7,
     "metadata": {},
     "output_type": "execute_result"
    }
   ],
   "source": [
    "test_images.shape, test_labels.shape"
   ]
  },
  {
   "cell_type": "code",
   "execution_count": 8,
   "metadata": {
    "execution": {
     "iopub.execute_input": "2020-11-04T10:04:16.092177Z",
     "iopub.status.busy": "2020-11-04T10:04:16.091620Z",
     "iopub.status.idle": "2020-11-04T10:04:16.230472Z",
     "shell.execute_reply": "2020-11-04T10:04:16.230928Z"
    },
    "papermill": {
     "duration": 0.169059,
     "end_time": "2020-11-04T10:04:16.231094",
     "exception": false,
     "start_time": "2020-11-04T10:04:16.062035",
     "status": "completed"
    },
    "tags": []
   },
   "outputs": [
    {
     "name": "stdout",
     "output_type": "stream",
     "text": [
      "2\n"
     ]
    },
    {
     "data": {
      "text/plain": [
       "<matplotlib.image.AxesImage at 0x7f00ae437470>"
      ]
     },
     "execution_count": 8,
     "metadata": {},
     "output_type": "execute_result"
    },
    {
     "data": {
      "image/png": "[encoded data removed]",
      "text/plain": [
       "<Figure size 432x288 with 1 Axes>"
      ]
     },
     "metadata": {
      "needs_background": "light"
     },
     "output_type": "display_data"
    }
   ],
   "source": [
    "image_index = 7776 # You may select anything up to 60,000\n",
    "print(train_labels[image_index]) \n",
    "plt.imshow(train_images[image_index], cmap='Greys')"
   ]
  },
  {
   "cell_type": "markdown",
   "metadata": {
    "papermill": {
     "duration": 0.02426,
     "end_time": "2020-11-04T10:04:16.280799",
     "exception": false,
     "start_time": "2020-11-04T10:04:16.256539",
     "status": "completed"
    },
    "tags": []
   },
   "source": [
    "## Filter data to get 3 and 8 out"
   ]
  },
  {
   "cell_type": "code",
   "execution_count": 9,
   "metadata": {
    "execution": {
     "iopub.execute_input": "2020-11-04T10:04:16.332543Z",
     "iopub.status.busy": "2020-11-04T10:04:16.331991Z",
     "iopub.status.idle": "2020-11-04T10:04:16.350425Z",
     "shell.execute_reply": "2020-11-04T10:04:16.349986Z"
    },
    "papermill": {
     "duration": 0.047018,
     "end_time": "2020-11-04T10:04:16.350548",
     "exception": false,
     "start_time": "2020-11-04T10:04:16.303530",
     "status": "completed"
    },
    "tags": []
   },
   "outputs": [],
   "source": [
    "train_filter = np.where((train_labels == 3 ) | (train_labels == 8))\n",
    "test_filter = np.where((test_labels == 3) | (test_labels == 8))\n",
    "X_train, y_train = train_images[train_filter], train_labels[train_filter]\n",
    "X_test, y_test = test_images[test_filter], test_labels[test_filter]"
   ]
  },
  {
   "cell_type": "markdown",
   "metadata": {
    "papermill": {
     "duration": 0.025502,
     "end_time": "2020-11-04T10:04:16.402625",
     "exception": false,
     "start_time": "2020-11-04T10:04:16.377123",
     "status": "completed"
    },
    "tags": []
   },
   "source": [
    "We normalize the pixel values in the 0 to 1 range"
   ]
  },
  {
   "cell_type": "code",
   "execution_count": 10,
   "metadata": {
    "execution": {
     "iopub.execute_input": "2020-11-04T10:04:16.465883Z",
     "iopub.status.busy": "2020-11-04T10:04:16.465291Z",
     "iopub.status.idle": "2020-11-04T10:04:16.515261Z",
     "shell.execute_reply": "2020-11-04T10:04:16.514488Z"
    },
    "papermill": {
     "duration": 0.086497,
     "end_time": "2020-11-04T10:04:16.515467",
     "exception": false,
     "start_time": "2020-11-04T10:04:16.428970",
     "status": "completed"
    },
    "tags": []
   },
   "outputs": [],
   "source": [
    "X_train = X_train/255.\n",
    "X_test = X_test/255."
   ]
  },
  {
   "cell_type": "markdown",
   "metadata": {
    "papermill": {
     "duration": 0.024609,
     "end_time": "2020-11-04T10:04:16.567399",
     "exception": false,
     "start_time": "2020-11-04T10:04:16.542790",
     "status": "completed"
    },
    "tags": []
   },
   "source": [
    "Setup the labels as 1 (when the digit is 3) and 0 (when the digit is 8)"
   ]
  },
  {
   "cell_type": "code",
   "execution_count": 11,
   "metadata": {
    "execution": {
     "iopub.execute_input": "2020-11-04T10:04:16.632165Z",
     "iopub.status.busy": "2020-11-04T10:04:16.625929Z",
     "iopub.status.idle": "2020-11-04T10:04:16.640445Z",
     "shell.execute_reply": "2020-11-04T10:04:16.639978Z"
    },
    "papermill": {
     "duration": 0.04633,
     "end_time": "2020-11-04T10:04:16.640564",
     "exception": false,
     "start_time": "2020-11-04T10:04:16.594234",
     "status": "completed"
    },
    "tags": []
   },
   "outputs": [],
   "source": [
    "y_train = 1*(y_train==3)\n",
    "y_test = 1*(y_test==3)"
   ]
  },
  {
   "cell_type": "code",
   "execution_count": 12,
   "metadata": {
    "execution": {
     "iopub.execute_input": "2020-11-04T10:04:16.696049Z",
     "iopub.status.busy": "2020-11-04T10:04:16.695459Z",
     "iopub.status.idle": "2020-11-04T10:04:16.708940Z",
     "shell.execute_reply": "2020-11-04T10:04:16.709383Z"
    },
    "papermill": {
     "duration": 0.043027,
     "end_time": "2020-11-04T10:04:16.709533",
     "exception": false,
     "start_time": "2020-11-04T10:04:16.666506",
     "status": "completed"
    },
    "tags": []
   },
   "outputs": [
    {
     "data": {
      "text/plain": [
       "((11982, 28, 28), (1984, 28, 28))"
      ]
     },
     "execution_count": 12,
     "metadata": {},
     "output_type": "execute_result"
    }
   ],
   "source": [
    "X_train.shape, X_test.shape"
   ]
  },
  {
   "cell_type": "markdown",
   "metadata": {
    "papermill": {
     "duration": 0.027579,
     "end_time": "2020-11-04T10:04:16.764809",
     "exception": false,
     "start_time": "2020-11-04T10:04:16.737230",
     "status": "completed"
    },
    "tags": []
   },
   "source": [
    "### Reshape the input data to create a linear array"
   ]
  },
  {
   "cell_type": "code",
   "execution_count": 13,
   "metadata": {
    "execution": {
     "iopub.execute_input": "2020-11-04T10:04:16.820723Z",
     "iopub.status.busy": "2020-11-04T10:04:16.820179Z",
     "iopub.status.idle": "2020-11-04T10:04:16.837726Z",
     "shell.execute_reply": "2020-11-04T10:04:16.837251Z"
    },
    "papermill": {
     "duration": 0.047446,
     "end_time": "2020-11-04T10:04:16.837861",
     "exception": false,
     "start_time": "2020-11-04T10:04:16.790415",
     "status": "completed"
    },
    "tags": []
   },
   "outputs": [
    {
     "data": {
      "text/plain": [
       "((11982, 784), (1984, 784))"
      ]
     },
     "execution_count": 13,
     "metadata": {},
     "output_type": "execute_result"
    }
   ],
   "source": [
    "X_train = X_train.reshape(X_train.shape[0], -1)\n",
    "X_test = X_test.reshape(X_test.shape[0], -1)\n",
    "X_train.shape, X_test.shape"
   ]
  },
  {
   "cell_type": "markdown",
   "metadata": {
    "papermill": {
     "duration": 0.025154,
     "end_time": "2020-11-04T10:04:16.889705",
     "exception": false,
     "start_time": "2020-11-04T10:04:16.864551",
     "status": "completed"
    },
    "tags": []
   },
   "source": [
    "### Importing appropriate functions from 'Kudzu'"
   ]
  },
  {
   "cell_type": "code",
   "execution_count": 14,
   "metadata": {
    "execution": {
     "iopub.execute_input": "2020-11-04T10:04:16.946235Z",
     "iopub.status.busy": "2020-11-04T10:04:16.945745Z",
     "iopub.status.idle": "2020-11-04T10:04:16.965866Z",
     "shell.execute_reply": "2020-11-04T10:04:16.965277Z"
    },
    "papermill": {
     "duration": 0.051094,
     "end_time": "2020-11-04T10:04:16.965986",
     "exception": false,
     "start_time": "2020-11-04T10:04:16.914892",
     "status": "completed"
    },
    "tags": []
   },
   "outputs": [],
   "source": [
    "from kudzu.layer import Sigmoid\n",
    "from kudzu.layer import Relu\n",
    "from kudzu.layer import Affine, Sigmoid\n",
    "\n",
    "from kudzu.model import Model\n",
    "from kudzu.train import Learner\n",
    "from kudzu.optim import GD\n",
    "from kudzu.data import Data, Dataloader, Sampler\n",
    "\n",
    "from kudzu.callbacks import AccCallback\n",
    "from kudzu.callbacks import ClfCallback\n",
    "\n",
    "from kudzu.loss import MSE"
   ]
  },
  {
   "cell_type": "markdown",
   "metadata": {
    "papermill": {
     "duration": 0.027761,
     "end_time": "2020-11-04T10:04:17.020007",
     "exception": false,
     "start_time": "2020-11-04T10:04:16.992246",
     "status": "completed"
    },
    "tags": []
   },
   "source": [
    "### Let us create a `Config` class, to store important parameters. \n",
    "This class essentially plays the role of a dictionary."
   ]
  },
  {
   "cell_type": "code",
   "execution_count": 15,
   "metadata": {
    "execution": {
     "iopub.execute_input": "2020-11-04T10:04:17.084313Z",
     "iopub.status.busy": "2020-11-04T10:04:17.079640Z",
     "iopub.status.idle": "2020-11-04T10:04:17.091006Z",
     "shell.execute_reply": "2020-11-04T10:04:17.090490Z"
    },
    "papermill": {
     "duration": 0.042797,
     "end_time": "2020-11-04T10:04:17.091113",
     "exception": false,
     "start_time": "2020-11-04T10:04:17.048316",
     "status": "completed"
    },
    "tags": []
   },
   "outputs": [],
   "source": [
    "class Config:\n",
    "    pass\n",
    "config = Config()\n",
    "config.lr = 0.001\n",
    "config.num_epochs = 251\n",
    "config.bs = 50"
   ]
  },
  {
   "cell_type": "markdown",
   "metadata": {
    "papermill": {
     "duration": 0.024286,
     "end_time": "2020-11-04T10:04:17.139636",
     "exception": false,
     "start_time": "2020-11-04T10:04:17.115350",
     "status": "completed"
    },
    "tags": []
   },
   "source": [
    "### Initializing data to the variables"
   ]
  },
  {
   "cell_type": "code",
   "execution_count": 16,
   "metadata": {
    "execution": {
     "iopub.execute_input": "2020-11-04T10:04:17.196283Z",
     "iopub.status.busy": "2020-11-04T10:04:17.195801Z",
     "iopub.status.idle": "2020-11-04T10:04:17.209492Z",
     "shell.execute_reply": "2020-11-04T10:04:17.208536Z"
    },
    "papermill": {
     "duration": 0.043789,
     "end_time": "2020-11-04T10:04:17.209602",
     "exception": false,
     "start_time": "2020-11-04T10:04:17.165813",
     "status": "completed"
    },
    "tags": []
   },
   "outputs": [],
   "source": [
    "data = Data(X_train, y_train.reshape(-1,1))\n",
    "sampler = Sampler(data, config.bs, shuffle=True)\n",
    "\n",
    "dl = Dataloader(data, sampler)\n",
    "\n",
    "opt = GD(config.lr)\n",
    "loss = MSE()"
   ]
  },
  {
   "cell_type": "code",
   "execution_count": 17,
   "metadata": {
    "execution": {
     "iopub.execute_input": "2020-11-04T10:04:17.265021Z",
     "iopub.status.busy": "2020-11-04T10:04:17.264429Z",
     "iopub.status.idle": "2020-11-04T10:04:17.279111Z",
     "shell.execute_reply": "2020-11-04T10:04:17.279596Z"
    },
    "papermill": {
     "duration": 0.044787,
     "end_time": "2020-11-04T10:04:17.279734",
     "exception": false,
     "start_time": "2020-11-04T10:04:17.234947",
     "status": "completed"
    },
    "tags": []
   },
   "outputs": [],
   "source": [
    "training_xdata = X_train\n",
    "testing_xdata = X_test\n",
    "training_ydata = y_train.reshape(-1,1)\n",
    "testing_ydata = y_test.reshape(-1,1)"
   ]
  },
  {
   "cell_type": "markdown",
   "metadata": {
    "papermill": {
     "duration": 0.02353,
     "end_time": "2020-11-04T10:04:17.326201",
     "exception": false,
     "start_time": "2020-11-04T10:04:17.302671",
     "status": "completed"
    },
    "tags": []
   },
   "source": [
    "### Running Models with the Training data\n",
    "Details about the network layers:\n",
    "- A first affine layer has 784 inputs and does 100 affine transforms. These are followed by a Relu\n",
    "- A second affine layer has 100 inputs from the 100 activations of the past layer, and does 100 affine transforms. These are followed by a Relu\n",
    "- A third affine layer has 100 activations and does 2 affine transformations to create an embedding for visualization. There is no non-linearity here.\n",
    "- A final \"logistic regression\" which has an affine transform from 2 inputs to 1 output, which is squeezed through a sigmoid.\n",
    "\n",
    "Help taken from Anshuman's Notebook."
   ]
  },
  {
   "cell_type": "code",
   "execution_count": 18,
   "metadata": {
    "execution": {
     "iopub.execute_input": "2020-11-04T10:04:17.388099Z",
     "iopub.status.busy": "2020-11-04T10:04:17.387517Z",
     "iopub.status.idle": "2020-11-04T10:04:17.405240Z",
     "shell.execute_reply": "2020-11-04T10:04:17.405826Z"
    },
    "papermill": {
     "duration": 0.052595,
     "end_time": "2020-11-04T10:04:17.406014",
     "exception": false,
     "start_time": "2020-11-04T10:04:17.353419",
     "status": "completed"
    },
    "tags": []
   },
   "outputs": [],
   "source": [
    "# layers for the Neural Network\n",
    "layers = [Affine(\"first\", 784, 100), Relu(\"first\"), Affine(\"second\", 100, 100), Relu(\"second\"), Affine(\"third\", 100, 2), Affine(\"final\", 2, 1), Sigmoid(\"final\")]\n",
    "model_nn = Model(layers)\n",
    "\n",
    "# layers for the Logistic Regression\n",
    "layers_lr = [Affine(\"logits\", 784, 1), Sigmoid(\"sigmoid\")]\n",
    "model_lr = Model(layers_lr)"
   ]
  },
  {
   "cell_type": "code",
   "execution_count": 19,
   "metadata": {
    "execution": {
     "iopub.execute_input": "2020-11-04T10:04:17.460700Z",
     "iopub.status.busy": "2020-11-04T10:04:17.459687Z",
     "iopub.status.idle": "2020-11-04T10:04:17.473001Z",
     "shell.execute_reply": "2020-11-04T10:04:17.472536Z"
    },
    "papermill": {
     "duration": 0.040433,
     "end_time": "2020-11-04T10:04:17.473109",
     "exception": false,
     "start_time": "2020-11-04T10:04:17.432676",
     "status": "completed"
    },
    "tags": []
   },
   "outputs": [],
   "source": [
    "# suffix _nn stands for Neural Network.\n",
    "learner_nn = Learner(loss, model_nn, opt, config.num_epochs)\n",
    "acc_nn = ClfCallback(learner_nn, config.bs, training_xdata , testing_xdata, training_ydata, testing_ydata)\n",
    "learner_nn.set_callbacks([acc_nn])"
   ]
  },
  {
   "cell_type": "code",
   "execution_count": 20,
   "metadata": {
    "execution": {
     "iopub.execute_input": "2020-11-04T10:04:17.524597Z",
     "iopub.status.busy": "2020-11-04T10:04:17.523978Z",
     "iopub.status.idle": "2020-11-04T10:05:37.628740Z",
     "shell.execute_reply": "2020-11-04T10:05:37.629425Z"
    },
    "papermill": {
     "duration": 80.134094,
     "end_time": "2020-11-04T10:05:37.629570",
     "exception": false,
     "start_time": "2020-11-04T10:04:17.495476",
     "status": "completed"
    },
    "tags": []
   },
   "outputs": [
    {
     "name": "stdout",
     "output_type": "stream",
     "text": [
      "====== Neural Network ======\n"
     ]
    },
    {
     "name": "stdout",
     "output_type": "stream",
     "text": [
      "Epoch 0, Loss 0.252\n",
      "Training Accuracy: 0.5408, Testing Accuracy: 0.5368\n",
      "\n"
     ]
    },
    {
     "name": "stdout",
     "output_type": "stream",
     "text": [
      "Epoch 10, Loss 0.1595\n",
      "Training Accuracy: 0.8978, Testing Accuracy: 0.9057\n",
      "\n"
     ]
    },
    {
     "name": "stdout",
     "output_type": "stream",
     "text": [
      "Epoch 20, Loss 0.0768\n",
      "Training Accuracy: 0.9296, Testing Accuracy: 0.9340\n",
      "\n"
     ]
    },
    {
     "name": "stdout",
     "output_type": "stream",
     "text": [
      "Epoch 30, Loss 0.0529\n",
      "Training Accuracy: 0.9453, Testing Accuracy: 0.9521\n",
      "\n"
     ]
    },
    {
     "name": "stdout",
     "output_type": "stream",
     "text": [
      "Epoch 40, Loss 0.0432\n",
      "Training Accuracy: 0.9523, Testing Accuracy: 0.9597\n",
      "\n"
     ]
    },
    {
     "name": "stdout",
     "output_type": "stream",
     "text": [
      "Epoch 50, Loss 0.0381\n",
      "Training Accuracy: 0.9565, Testing Accuracy: 0.9627\n",
      "\n"
     ]
    },
    {
     "name": "stdout",
     "output_type": "stream",
     "text": [
      "Epoch 60, Loss 0.0348\n",
      "Training Accuracy: 0.9594, Testing Accuracy: 0.9682\n",
      "\n"
     ]
    },
    {
     "name": "stdout",
     "output_type": "stream",
     "text": [
      "Epoch 70, Loss 0.0325\n",
      "Training Accuracy: 0.9623, Testing Accuracy: 0.9688\n",
      "\n"
     ]
    },
    {
     "name": "stdout",
     "output_type": "stream",
     "text": [
      "Epoch 80, Loss 0.0308\n",
      "Training Accuracy: 0.9648, Testing Accuracy: 0.9693\n",
      "\n"
     ]
    },
    {
     "name": "stdout",
     "output_type": "stream",
     "text": [
      "Epoch 90, Loss 0.0295\n",
      "Training Accuracy: 0.9661, Testing Accuracy: 0.9693\n",
      "\n"
     ]
    },
    {
     "name": "stdout",
     "output_type": "stream",
     "text": [
      "Epoch 100, Loss 0.0284\n",
      "Training Accuracy: 0.9667, Testing Accuracy: 0.9698\n",
      "\n"
     ]
    },
    {
     "name": "stdout",
     "output_type": "stream",
     "text": [
      "Epoch 110, Loss 0.0274\n",
      "Training Accuracy: 0.9677, Testing Accuracy: 0.9682\n",
      "\n"
     ]
    },
    {
     "name": "stdout",
     "output_type": "stream",
     "text": [
      "Epoch 120, Loss 0.0266\n",
      "Training Accuracy: 0.9690, Testing Accuracy: 0.9682\n",
      "\n"
     ]
    },
    {
     "name": "stdout",
     "output_type": "stream",
     "text": [
      "Epoch 130, Loss 0.0258\n",
      "Training Accuracy: 0.9700, Testing Accuracy: 0.9698\n",
      "\n"
     ]
    },
    {
     "name": "stdout",
     "output_type": "stream",
     "text": [
      "Epoch 140, Loss 0.0252\n",
      "Training Accuracy: 0.9711, Testing Accuracy: 0.9698\n",
      "\n"
     ]
    },
    {
     "name": "stdout",
     "output_type": "stream",
     "text": [
      "Epoch 150, Loss 0.0246\n",
      "Training Accuracy: 0.9717, Testing Accuracy: 0.9708\n",
      "\n"
     ]
    },
    {
     "name": "stdout",
     "output_type": "stream",
     "text": [
      "Epoch 160, Loss 0.024\n",
      "Training Accuracy: 0.9725, Testing Accuracy: 0.9708\n",
      "\n"
     ]
    },
    {
     "name": "stdout",
     "output_type": "stream",
     "text": [
      "Epoch 170, Loss 0.0235\n",
      "Training Accuracy: 0.9736, Testing Accuracy: 0.9713\n",
      "\n"
     ]
    },
    {
     "name": "stdout",
     "output_type": "stream",
     "text": [
      "Epoch 180, Loss 0.023\n",
      "Training Accuracy: 0.9742, Testing Accuracy: 0.9708\n",
      "\n"
     ]
    },
    {
     "name": "stdout",
     "output_type": "stream",
     "text": [
      "Epoch 190, Loss 0.0225\n",
      "Training Accuracy: 0.9749, Testing Accuracy: 0.9713\n",
      "\n"
     ]
    },
    {
     "name": "stdout",
     "output_type": "stream",
     "text": [
      "Epoch 200, Loss 0.0221\n",
      "Training Accuracy: 0.9754, Testing Accuracy: 0.9713\n",
      "\n"
     ]
    },
    {
     "name": "stdout",
     "output_type": "stream",
     "text": [
      "Epoch 210, Loss 0.0217\n",
      "Training Accuracy: 0.9757, Testing Accuracy: 0.9723\n",
      "\n"
     ]
    },
    {
     "name": "stdout",
     "output_type": "stream",
     "text": [
      "Epoch 220, Loss 0.0213\n",
      "Training Accuracy: 0.9759, Testing Accuracy: 0.9723\n",
      "\n"
     ]
    },
    {
     "name": "stdout",
     "output_type": "stream",
     "text": [
      "Epoch 230, Loss 0.0209\n",
      "Training Accuracy: 0.9762, Testing Accuracy: 0.9723\n",
      "\n"
     ]
    },
    {
     "name": "stdout",
     "output_type": "stream",
     "text": [
      "Epoch 240, Loss 0.0206\n",
      "Training Accuracy: 0.9765, Testing Accuracy: 0.9733\n",
      "\n"
     ]
    },
    {
     "name": "stdout",
     "output_type": "stream",
     "text": [
      "Epoch 250, Loss 0.0202\n",
      "Training Accuracy: 0.9767, Testing Accuracy: 0.9733\n",
      "\n"
     ]
    },
    {
     "data": {
      "text/plain": [
       "0.007303350914813962"
      ]
     },
     "execution_count": 20,
     "metadata": {},
     "output_type": "execute_result"
    }
   ],
   "source": [
    "print(\"====== Neural Network ======\")\n",
    "learner_nn.train_loop(dl)"
   ]
  },
  {
   "cell_type": "markdown",
   "metadata": {
    "papermill": {
     "duration": 0.032939,
     "end_time": "2020-11-04T10:05:37.695370",
     "exception": false,
     "start_time": "2020-11-04T10:05:37.662431",
     "status": "completed"
    },
    "tags": []
   },
   "source": [
    "### Logistic Regression based Implementation."
   ]
  },
  {
   "cell_type": "code",
   "execution_count": 21,
   "metadata": {
    "execution": {
     "iopub.execute_input": "2020-11-04T10:05:37.767322Z",
     "iopub.status.busy": "2020-11-04T10:05:37.766013Z",
     "iopub.status.idle": "2020-11-04T10:05:37.777498Z",
     "shell.execute_reply": "2020-11-04T10:05:37.777056Z"
    },
    "papermill": {
     "duration": 0.048223,
     "end_time": "2020-11-04T10:05:37.777618",
     "exception": false,
     "start_time": "2020-11-04T10:05:37.729395",
     "status": "completed"
    },
    "tags": []
   },
   "outputs": [],
   "source": [
    "learner_lr = Learner(loss, model_lr, opt, config.num_epochs)\n",
    "acc_lr = ClfCallback(learner_lr, config.bs, training_xdata , testing_xdata, training_ydata, testing_ydata)\n",
    "learner_lr.set_callbacks([acc_lr])"
   ]
  },
  {
   "cell_type": "code",
   "execution_count": 22,
   "metadata": {
    "execution": {
     "iopub.execute_input": "2020-11-04T10:05:37.845811Z",
     "iopub.status.busy": "2020-11-04T10:05:37.845230Z",
     "iopub.status.idle": "2020-11-04T10:05:51.630381Z",
     "shell.execute_reply": "2020-11-04T10:05:51.629981Z"
    },
    "papermill": {
     "duration": 13.820978,
     "end_time": "2020-11-04T10:05:51.630502",
     "exception": false,
     "start_time": "2020-11-04T10:05:37.809524",
     "status": "completed"
    },
    "tags": []
   },
   "outputs": [
    {
     "name": "stdout",
     "output_type": "stream",
     "text": [
      "====== Logistic Regression ======\n",
      "Epoch 0, Loss 0.2633\n",
      "Training Accuracy: 0.5756, Testing Accuracy: 0.6003\n",
      "\n"
     ]
    },
    {
     "name": "stdout",
     "output_type": "stream",
     "text": [
      "Epoch 10, Loss 0.1043\n",
      "Training Accuracy: 0.9140, Testing Accuracy: 0.9289\n",
      "\n"
     ]
    },
    {
     "name": "stdout",
     "output_type": "stream",
     "text": [
      "Epoch 20, Loss 0.0794\n",
      "Training Accuracy: 0.9297, Testing Accuracy: 0.9425\n",
      "\n"
     ]
    },
    {
     "name": "stdout",
     "output_type": "stream",
     "text": [
      "Epoch 30, Loss 0.0683\n",
      "Training Accuracy: 0.9376, Testing Accuracy: 0.9486\n",
      "\n"
     ]
    },
    {
     "name": "stdout",
     "output_type": "stream",
     "text": [
      "Epoch 40, Loss 0.0616\n",
      "Training Accuracy: 0.9418, Testing Accuracy: 0.9536\n",
      "\n"
     ]
    },
    {
     "name": "stdout",
     "output_type": "stream",
     "text": [
      "Epoch 50, Loss 0.0572\n",
      "Training Accuracy: 0.9457, Testing Accuracy: 0.9556\n",
      "\n"
     ]
    },
    {
     "name": "stdout",
     "output_type": "stream",
     "text": [
      "Epoch 60, Loss 0.0539\n",
      "Training Accuracy: 0.9473, Testing Accuracy: 0.9561\n",
      "\n"
     ]
    },
    {
     "name": "stdout",
     "output_type": "stream",
     "text": [
      "Epoch 70, Loss 0.0514\n",
      "Training Accuracy: 0.9492, Testing Accuracy: 0.9572\n",
      "\n"
     ]
    },
    {
     "name": "stdout",
     "output_type": "stream",
     "text": [
      "Epoch 80, Loss 0.0493\n",
      "Training Accuracy: 0.9518, Testing Accuracy: 0.9602\n",
      "\n"
     ]
    },
    {
     "name": "stdout",
     "output_type": "stream",
     "text": [
      "Epoch 90, Loss 0.0477\n",
      "Training Accuracy: 0.9532, Testing Accuracy: 0.9612\n",
      "\n"
     ]
    },
    {
     "name": "stdout",
     "output_type": "stream",
     "text": [
      "Epoch 100, Loss 0.0463\n",
      "Training Accuracy: 0.9546, Testing Accuracy: 0.9607\n",
      "\n"
     ]
    },
    {
     "name": "stdout",
     "output_type": "stream",
     "text": [
      "Epoch 110, Loss 0.045\n",
      "Training Accuracy: 0.9559, Testing Accuracy: 0.9632\n",
      "\n"
     ]
    },
    {
     "name": "stdout",
     "output_type": "stream",
     "text": [
      "Epoch 120, Loss 0.044\n",
      "Training Accuracy: 0.9561, Testing Accuracy: 0.9637\n",
      "\n"
     ]
    },
    {
     "name": "stdout",
     "output_type": "stream",
     "text": [
      "Epoch 130, Loss 0.0431\n",
      "Training Accuracy: 0.9567, Testing Accuracy: 0.9637\n",
      "\n"
     ]
    },
    {
     "name": "stdout",
     "output_type": "stream",
     "text": [
      "Epoch 140, Loss 0.0422\n",
      "Training Accuracy: 0.9574, Testing Accuracy: 0.9642\n",
      "\n"
     ]
    },
    {
     "name": "stdout",
     "output_type": "stream",
     "text": [
      "Epoch 150, Loss 0.0415\n",
      "Training Accuracy: 0.9575, Testing Accuracy: 0.9637\n",
      "\n"
     ]
    },
    {
     "name": "stdout",
     "output_type": "stream",
     "text": [
      "Epoch 160, Loss 0.0408\n",
      "Training Accuracy: 0.9577, Testing Accuracy: 0.9637\n",
      "\n"
     ]
    },
    {
     "name": "stdout",
     "output_type": "stream",
     "text": [
      "Epoch 170, Loss 0.0402\n",
      "Training Accuracy: 0.9580, Testing Accuracy: 0.9637\n",
      "\n"
     ]
    },
    {
     "name": "stdout",
     "output_type": "stream",
     "text": [
      "Epoch 180, Loss 0.0397\n",
      "Training Accuracy: 0.9585, Testing Accuracy: 0.9647\n",
      "\n"
     ]
    },
    {
     "name": "stdout",
     "output_type": "stream",
     "text": [
      "Epoch 190, Loss 0.0392\n",
      "Training Accuracy: 0.9589, Testing Accuracy: 0.9647\n",
      "\n"
     ]
    },
    {
     "name": "stdout",
     "output_type": "stream",
     "text": [
      "Epoch 200, Loss 0.0387\n",
      "Training Accuracy: 0.9590, Testing Accuracy: 0.9647\n",
      "\n"
     ]
    },
    {
     "name": "stdout",
     "output_type": "stream",
     "text": [
      "Epoch 210, Loss 0.0382\n",
      "Training Accuracy: 0.9595, Testing Accuracy: 0.9652\n",
      "\n"
     ]
    },
    {
     "name": "stdout",
     "output_type": "stream",
     "text": [
      "Epoch 220, Loss 0.0378\n",
      "Training Accuracy: 0.9601, Testing Accuracy: 0.9652\n",
      "\n"
     ]
    },
    {
     "name": "stdout",
     "output_type": "stream",
     "text": [
      "Epoch 230, Loss 0.0374\n",
      "Training Accuracy: 0.9601, Testing Accuracy: 0.9652\n",
      "\n"
     ]
    },
    {
     "name": "stdout",
     "output_type": "stream",
     "text": [
      "Epoch 240, Loss 0.0371\n",
      "Training Accuracy: 0.9603, Testing Accuracy: 0.9662\n",
      "\n"
     ]
    },
    {
     "name": "stdout",
     "output_type": "stream",
     "text": [
      "Epoch 250, Loss 0.0367\n",
      "Training Accuracy: 0.9607, Testing Accuracy: 0.9657\n",
      "\n"
     ]
    },
    {
     "data": {
      "text/plain": [
       "0.03291218723223915"
      ]
     },
     "execution_count": 22,
     "metadata": {},
     "output_type": "execute_result"
    }
   ],
   "source": [
    "print(\"====== Logistic Regression ======\")\n",
    "learner_lr.train_loop(dl)"
   ]
  },
  {
   "cell_type": "markdown",
   "metadata": {
    "papermill": {
     "duration": 0.039814,
     "end_time": "2020-11-04T10:05:51.713025",
     "exception": false,
     "start_time": "2020-11-04T10:05:51.673211",
     "status": "completed"
    },
    "tags": []
   },
   "source": [
    "### Comparing results of NN and LR"
   ]
  },
  {
   "cell_type": "code",
   "execution_count": 23,
   "metadata": {
    "execution": {
     "iopub.execute_input": "2020-11-04T10:05:51.798021Z",
     "iopub.status.busy": "2020-11-04T10:05:51.797503Z",
     "iopub.status.idle": "2020-11-04T10:05:52.009947Z",
     "shell.execute_reply": "2020-11-04T10:05:52.009458Z"
    },
    "papermill": {
     "duration": 0.256946,
     "end_time": "2020-11-04T10:05:52.010062",
     "exception": false,
     "start_time": "2020-11-04T10:05:51.753116",
     "status": "completed"
    },
    "tags": []
   },
   "outputs": [
    {
     "data": {
      "text/plain": [
       "<matplotlib.legend.Legend at 0x7f00abfa20f0>"
      ]
     },
     "execution_count": 23,
     "metadata": {},
     "output_type": "execute_result"
    },
    {
     "data": {
      "image/png": "[encoded data removed]",
      "text/plain": [
       "<Figure size 1080x720 with 1 Axes>"
      ]
     },
     "metadata": {
      "needs_background": "light"
     },
     "output_type": "display_data"
    }
   ],
   "source": [
    "plt.figure(figsize=(15,10))\n",
    "\n",
    "# Neural Network plots\n",
    "plt.plot(acc_nn.accuracies, 'r-', label = \"Training Accuracies - NN\")\n",
    "plt.plot(acc_nn.test_accuracies, 'g-', label = \"Testing Accuracies - NN\")\n",
    "\n",
    "# Logistic Regression plots\n",
    "plt.plot(acc_lr.accuracies, 'k-', label = \"Training Accuracies - LR\")\n",
    "plt.plot(acc_lr.test_accuracies, 'b-', label = \"Testing Accuracies - LR\")\n",
    "\n",
    "plt.ylim(0.8, 1)\n",
    "\n",
    "plt.legend()\n",
    "\n"
   ]
  },
  {
   "cell_type": "markdown",
   "metadata": {
    "papermill": {
     "duration": 0.041547,
     "end_time": "2020-11-04T10:05:52.090309",
     "exception": false,
     "start_time": "2020-11-04T10:05:52.048762",
     "status": "completed"
    },
    "tags": []
   },
   "source": [
    "### From the plot, we can observe the following:\n",
    "- Neural Network achieves higher accuracy than the Logistic Regression model.\n",
    "- This apparently, is because of overfitting, i.e. NN captures more noise than data.\n",
    "- Testing accuracy of NN drops below the Training accuracy at higher epochs. This explains the over-fitting on training data.\n",
    "- Logistic Regression gives a reliable accuracy, without the above mentioned problem.\n"
   ]
  },
  {
   "cell_type": "markdown",
   "metadata": {
    "papermill": {
     "duration": 0.038537,
     "end_time": "2020-11-04T10:05:52.168411",
     "exception": false,
     "start_time": "2020-11-04T10:05:52.129874",
     "status": "completed"
    },
    "tags": []
   },
   "source": [
    "### Moving till the last but one layer (excluding it).\n",
    "#### Plotting the outputs of this layer of the NN."
   ]
  },
  {
   "cell_type": "code",
   "execution_count": 24,
   "metadata": {
    "execution": {
     "iopub.execute_input": "2020-11-04T10:05:52.260686Z",
     "iopub.status.busy": "2020-11-04T10:05:52.259968Z",
     "iopub.status.idle": "2020-11-04T10:05:52.269198Z",
     "shell.execute_reply": "2020-11-04T10:05:52.268493Z"
    },
    "papermill": {
     "duration": 0.061039,
     "end_time": "2020-11-04T10:05:52.269319",
     "exception": false,
     "start_time": "2020-11-04T10:05:52.208280",
     "status": "completed"
    },
    "tags": []
   },
   "outputs": [],
   "source": [
    "model_new = Model(layers[:-2])"
   ]
  },
  {
   "cell_type": "code",
   "execution_count": 25,
   "metadata": {
    "execution": {
     "iopub.execute_input": "2020-11-04T10:05:52.348021Z",
     "iopub.status.busy": "2020-11-04T10:05:52.347543Z",
     "iopub.status.idle": "2020-11-04T10:05:52.366417Z",
     "shell.execute_reply": "2020-11-04T10:05:52.366874Z"
    },
    "papermill": {
     "duration": 0.059425,
     "end_time": "2020-11-04T10:05:52.367010",
     "exception": false,
     "start_time": "2020-11-04T10:05:52.307585",
     "status": "completed"
    },
    "tags": []
   },
   "outputs": [],
   "source": [
    "plot_testing = model_new(testing_xdata)"
   ]
  },
  {
   "cell_type": "code",
   "execution_count": 26,
   "metadata": {
    "execution": {
     "iopub.execute_input": "2020-11-04T10:05:52.468356Z",
     "iopub.status.busy": "2020-11-04T10:05:52.467855Z",
     "iopub.status.idle": "2020-11-04T10:05:52.647074Z",
     "shell.execute_reply": "2020-11-04T10:05:52.647817Z"
    },
    "papermill": {
     "duration": 0.239655,
     "end_time": "2020-11-04T10:05:52.647984",
     "exception": false,
     "start_time": "2020-11-04T10:05:52.408329",
     "status": "completed"
    },
    "tags": []
   },
   "outputs": [
    {
     "data": {
      "text/plain": [
       "Text(0.5, 1.0, 'Outputs')"
      ]
     },
     "execution_count": 26,
     "metadata": {},
     "output_type": "execute_result"
    },
    {
     "data": {
      "image/png": "[encoded data removed]",
      "text/plain": [
       "<Figure size 576x504 with 1 Axes>"
      ]
     },
     "metadata": {
      "needs_background": "light"
     },
     "output_type": "display_data"
    }
   ],
   "source": [
    "plt.figure(figsize=(8,7))\n",
    "plt.scatter(plot_testing[:,0], plot_testing[:,1], alpha = 0.1, c = y_test.ravel());\n",
    "plt.title('Outputs')"
   ]
  },
  {
   "cell_type": "markdown",
   "metadata": {
    "papermill": {
     "duration": 0.04136,
     "end_time": "2020-11-04T10:05:52.732197",
     "exception": false,
     "start_time": "2020-11-04T10:05:52.690837",
     "status": "completed"
    },
    "tags": []
   },
   "source": [
    "### Plotting probability contours"
   ]
  },
  {
   "cell_type": "code",
   "execution_count": 27,
   "metadata": {
    "execution": {
     "iopub.execute_input": "2020-11-04T10:05:52.828743Z",
     "iopub.status.busy": "2020-11-04T10:05:52.816783Z",
     "iopub.status.idle": "2020-11-04T10:05:52.831680Z",
     "shell.execute_reply": "2020-11-04T10:05:52.831079Z"
    },
    "papermill": {
     "duration": 0.056753,
     "end_time": "2020-11-04T10:05:52.831803",
     "exception": false,
     "start_time": "2020-11-04T10:05:52.775050",
     "status": "completed"
    },
    "tags": []
   },
   "outputs": [],
   "source": [
    "model_prob = Model(layers[-2:]) "
   ]
  },
  {
   "cell_type": "code",
   "execution_count": 28,
   "metadata": {
    "execution": {
     "iopub.execute_input": "2020-11-04T10:05:52.920924Z",
     "iopub.status.busy": "2020-11-04T10:05:52.920043Z",
     "iopub.status.idle": "2020-11-04T10:05:52.936745Z",
     "shell.execute_reply": "2020-11-04T10:05:52.937187Z"
    },
    "papermill": {
     "duration": 0.0632,
     "end_time": "2020-11-04T10:05:52.937327",
     "exception": false,
     "start_time": "2020-11-04T10:05:52.874127",
     "status": "completed"
    },
    "tags": []
   },
   "outputs": [],
   "source": [
    "# Adjust the x and y ranges according to the above generated plot.\n",
    "x_range = np.linspace(-4, 1, 100) \n",
    "y_range = np.linspace(-6, 6, 100) \n",
    "x_grid, y_grid = np.meshgrid(x_range, y_range) # x_grid and y_grig are of size 100 X 100\n",
    "\n",
    "# converting x_grid and y_grid to continuous arrays\n",
    "x_grid_flat = np.ravel(x_grid)\n",
    "y_grid_flat = np.ravel(y_grid)\n",
    "\n",
    "# The last layer of the current model takes two columns as input. Hence transpose of np.vstack() is required.\n",
    "X = np.vstack((x_grid_flat, y_grid_flat)).T\n",
    "\n",
    "# x_grid and y_grid are of size 100 x 100\n",
    "probability_contour = model_prob(X).reshape(100,100) "
   ]
  },
  {
   "cell_type": "code",
   "execution_count": 29,
   "metadata": {
    "execution": {
     "iopub.execute_input": "2020-11-04T10:05:53.029333Z",
     "iopub.status.busy": "2020-11-04T10:05:53.028850Z",
     "iopub.status.idle": "2020-11-04T10:05:53.258288Z",
     "shell.execute_reply": "2020-11-04T10:05:53.257843Z"
    },
    "papermill": {
     "duration": 0.276897,
     "end_time": "2020-11-04T10:05:53.258409",
     "exception": false,
     "start_time": "2020-11-04T10:05:52.981512",
     "status": "completed"
    },
    "tags": []
   },
   "outputs": [
    {
     "data": {
      "image/png": "[encoded data removed]",
      "text/plain": [
       "<Figure size 720x648 with 1 Axes>"
      ]
     },
     "metadata": {
      "needs_background": "light"
     },
     "output_type": "display_data"
    }
   ],
   "source": [
    "plt.figure(figsize=(10,9))\n",
    "plt.scatter(plot_testing[:,0], plot_testing[:,1], alpha = 0.1, c = y_test.ravel())\n",
    "contours = plt.contour(x_grid,y_grid,probability_contour)\n",
    "plt.title('Probability Contours')\n",
    "plt.clabel(contours, inline = True );"
   ]
  }
 ],
 "metadata": {
  "kernelspec": {
   "display_name": "Python 3",
   "language": "python",
   "name": "python3"
  },
  "language_info": {
   "codemirror_mode": {
    "name": "ipython",
    "version": 3
   },
   "file_extension": ".py",
   "mimetype": "text/x-python",
   "name": "python",
   "nbconvert_exporter": "python",
   "pygments_lexer": "ipython3",
   "version": "3.6.12"
  },
  "papermill": {
   "duration": 102.548784,
   "end_time": "2020-11-04T10:05:53.610015",
   "environment_variables": {},
   "exception": null,
   "input_path": "2020-08-11-NeuralNetwork.ipynb",
   "output_path": "2020-08-11-NeuralNetwork.ipynb",
   "parameters": {},
   "start_time": "2020-11-04T10:04:11.061231",
   "version": "2.1.2"
  }
 },
 "nbformat": 4,
 "nbformat_minor": 4
}