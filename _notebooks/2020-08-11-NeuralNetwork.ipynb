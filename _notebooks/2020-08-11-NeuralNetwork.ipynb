{
 "cells": [
  {
   "cell_type": "markdown",
   "metadata": {
    "papermill": {
     "duration": 0.029043,
     "end_time": "2020-11-27T00:09:28.662809",
     "exception": false,
     "start_time": "2020-11-27T00:09:28.633766",
     "status": "completed"
    },
    "tags": []
   },
   "source": [
    "# \"A Basic Neural Network: Differentiate Hand-Written Digits\"\n",
    "\n",
    "- badges: true\n",
    "- author: Akshith Sriram"
   ]
  },
  {
   "cell_type": "markdown",
   "metadata": {
    "papermill": {
     "duration": 0.022953,
     "end_time": "2020-11-27T00:09:28.710634",
     "exception": false,
     "start_time": "2020-11-27T00:09:28.687681",
     "status": "completed"
    },
    "tags": []
   },
   "source": [
    "### Key Objectives:\n",
    "- Building a neural network that differentiates two hand-written digits 3 and 8.\n",
    "- Comparing the results of this Neural Network (NN) to that of a Logistic Regression (LR) model.\n",
    "\n",
    "### Requirements:\n",
    "- 'Kudzu' : A neural network library that was designed during our course by [Univ.AI](www.univ.ai). \n",
    "- MNIST Database\n",
    "\n",
    "If MNIST is not installed, use the command `!pip install mnist` given below.\n",
    "It can be run both from the command line and Jupyter Notebook."
   ]
  },
  {
   "cell_type": "code",
   "execution_count": 1,
   "metadata": {
    "execution": {
     "iopub.execute_input": "2020-11-27T00:09:28.764907Z",
     "iopub.status.busy": "2020-11-27T00:09:28.764347Z",
     "iopub.status.idle": "2020-11-27T00:09:30.077842Z",
     "shell.execute_reply": "2020-11-27T00:09:30.077270Z"
    },
    "papermill": {
     "duration": 1.343876,
     "end_time": "2020-11-27T00:09:30.077998",
     "exception": false,
     "start_time": "2020-11-27T00:09:28.734122",
     "status": "completed"
    },
    "tags": []
   },
   "outputs": [
    {
     "name": "stdout",
     "output_type": "stream",
     "text": [
      "Collecting mnist\r\n",
      "  Downloading mnist-0.2.2-py2.py3-none-any.whl (3.5 kB)\r\n"
     ]
    },
    {
     "name": "stdout",
     "output_type": "stream",
     "text": [
      "Requirement already satisfied: numpy in /opt/hostedtoolcache/Python/3.6.12/x64/lib/python3.6/site-packages (from mnist) (1.19.4)\r\n"
     ]
    },
    {
     "name": "stdout",
     "output_type": "stream",
     "text": [
      "Installing collected packages: mnist\r\n"
     ]
    },
    {
     "name": "stdout",
     "output_type": "stream",
     "text": [
      "Successfully installed mnist-0.2.2\r\n"
     ]
    }
   ],
   "source": [
    "!pip install mnist "
   ]
  },
  {
   "cell_type": "markdown",
   "metadata": {
    "papermill": {
     "duration": 0.021465,
     "end_time": "2020-11-27T00:09:30.123680",
     "exception": false,
     "start_time": "2020-11-27T00:09:30.102215",
     "status": "completed"
    },
    "tags": []
   },
   "source": [
    "#### Importing necessary libraries"
   ]
  },
  {
   "cell_type": "code",
   "execution_count": 2,
   "metadata": {
    "execution": {
     "iopub.execute_input": "2020-11-27T00:09:30.176007Z",
     "iopub.status.busy": "2020-11-27T00:09:30.173910Z",
     "iopub.status.idle": "2020-11-27T00:09:30.701631Z",
     "shell.execute_reply": "2020-11-27T00:09:30.700638Z"
    },
    "papermill": {
     "duration": 0.554448,
     "end_time": "2020-11-27T00:09:30.701762",
     "exception": false,
     "start_time": "2020-11-27T00:09:30.147314",
     "status": "completed"
    },
    "tags": []
   },
   "outputs": [],
   "source": [
    "%load_ext autoreload\n",
    "%autoreload 2\n",
    "\n",
    "%matplotlib inline\n",
    "import matplotlib.pyplot as plt\n",
    "\n",
    "import numpy as np\n",
    "import pandas as pd"
   ]
  },
  {
   "cell_type": "markdown",
   "metadata": {
    "papermill": {
     "duration": 0.026445,
     "end_time": "2020-11-27T00:09:30.754311",
     "exception": false,
     "start_time": "2020-11-27T00:09:30.727866",
     "status": "completed"
    },
    "tags": []
   },
   "source": [
    "### Preparing the Data"
   ]
  },
  {
   "cell_type": "code",
   "execution_count": 3,
   "metadata": {
    "execution": {
     "iopub.execute_input": "2020-11-27T00:09:30.815423Z",
     "iopub.status.busy": "2020-11-27T00:09:30.813941Z",
     "iopub.status.idle": "2020-11-27T00:09:30.828386Z",
     "shell.execute_reply": "2020-11-27T00:09:30.827877Z"
    },
    "papermill": {
     "duration": 0.047443,
     "end_time": "2020-11-27T00:09:30.828518",
     "exception": false,
     "start_time": "2020-11-27T00:09:30.781075",
     "status": "completed"
    },
    "tags": []
   },
   "outputs": [],
   "source": [
    "import mnist"
   ]
  },
  {
   "cell_type": "code",
   "execution_count": 4,
   "metadata": {
    "execution": {
     "iopub.execute_input": "2020-11-27T00:09:30.882135Z",
     "iopub.status.busy": "2020-11-27T00:09:30.881579Z",
     "iopub.status.idle": "2020-11-27T00:09:31.642907Z",
     "shell.execute_reply": "2020-11-27T00:09:31.642001Z"
    },
    "papermill": {
     "duration": 0.78957,
     "end_time": "2020-11-27T00:09:31.643138",
     "exception": false,
     "start_time": "2020-11-27T00:09:30.853568",
     "status": "completed"
    },
    "tags": []
   },
   "outputs": [],
   "source": [
    "train_images = mnist.train_images()\n",
    "train_labels = mnist.train_labels()"
   ]
  },
  {
   "cell_type": "code",
   "execution_count": 5,
   "metadata": {
    "execution": {
     "iopub.execute_input": "2020-11-27T00:09:31.706085Z",
     "iopub.status.busy": "2020-11-27T00:09:31.699403Z",
     "iopub.status.idle": "2020-11-27T00:09:31.708947Z",
     "shell.execute_reply": "2020-11-27T00:09:31.708562Z"
    },
    "papermill": {
     "duration": 0.042167,
     "end_time": "2020-11-27T00:09:31.709112",
     "exception": false,
     "start_time": "2020-11-27T00:09:31.666945",
     "status": "completed"
    },
    "tags": []
   },
   "outputs": [
    {
     "data": {
      "text/plain": [
       "((60000, 28, 28), (60000,))"
      ]
     },
     "execution_count": 5,
     "metadata": {},
     "output_type": "execute_result"
    }
   ],
   "source": [
    "train_images.shape, train_labels.shape"
   ]
  },
  {
   "cell_type": "code",
   "execution_count": 6,
   "metadata": {
    "execution": {
     "iopub.execute_input": "2020-11-27T00:09:31.763885Z",
     "iopub.status.busy": "2020-11-27T00:09:31.763312Z",
     "iopub.status.idle": "2020-11-27T00:09:32.025171Z",
     "shell.execute_reply": "2020-11-27T00:09:32.023950Z"
    },
    "papermill": {
     "duration": 0.292194,
     "end_time": "2020-11-27T00:09:32.025319",
     "exception": false,
     "start_time": "2020-11-27T00:09:31.733125",
     "status": "completed"
    },
    "tags": []
   },
   "outputs": [],
   "source": [
    "test_images = mnist.test_images()\n",
    "test_labels = mnist.test_labels()"
   ]
  },
  {
   "cell_type": "code",
   "execution_count": 7,
   "metadata": {
    "execution": {
     "iopub.execute_input": "2020-11-27T00:09:32.087633Z",
     "iopub.status.busy": "2020-11-27T00:09:32.080041Z",
     "iopub.status.idle": "2020-11-27T00:09:32.092694Z",
     "shell.execute_reply": "2020-11-27T00:09:32.092058Z"
    },
    "papermill": {
     "duration": 0.041119,
     "end_time": "2020-11-27T00:09:32.092865",
     "exception": false,
     "start_time": "2020-11-27T00:09:32.051746",
     "status": "completed"
    },
    "tags": []
   },
   "outputs": [
    {
     "data": {
      "text/plain": [
       "((10000, 28, 28), (10000,))"
      ]
     },
     "execution_count": 7,
     "metadata": {},
     "output_type": "execute_result"
    }
   ],
   "source": [
    "test_images.shape, test_labels.shape"
   ]
  },
  {
   "cell_type": "code",
   "execution_count": 8,
   "metadata": {
    "execution": {
     "iopub.execute_input": "2020-11-27T00:09:32.144690Z",
     "iopub.status.busy": "2020-11-27T00:09:32.144228Z",
     "iopub.status.idle": "2020-11-27T00:09:32.273103Z",
     "shell.execute_reply": "2020-11-27T00:09:32.273920Z"
    },
    "papermill": {
     "duration": 0.157675,
     "end_time": "2020-11-27T00:09:32.274147",
     "exception": false,
     "start_time": "2020-11-27T00:09:32.116472",
     "status": "completed"
    },
    "tags": []
   },
   "outputs": [
    {
     "name": "stdout",
     "output_type": "stream",
     "text": [
      "2\n"
     ]
    },
    {
     "data": {
      "text/plain": [
       "<matplotlib.image.AxesImage at 0x7f6108a1b0b8>"
      ]
     },
     "execution_count": 8,
     "metadata": {},
     "output_type": "execute_result"
    },
    {
     "data": {
      "image/png": "[encoded data removed]",
      "text/plain": [
       "<Figure size 432x288 with 1 Axes>"
      ]
     },
     "metadata": {
      "needs_background": "light"
     },
     "output_type": "display_data"
    }
   ],
   "source": [
    "image_index = 7776 # You may select anything up to 60,000\n",
    "print(train_labels[image_index]) \n",
    "plt.imshow(train_images[image_index], cmap='Greys')"
   ]
  },
  {
   "cell_type": "markdown",
   "metadata": {
    "papermill": {
     "duration": 0.025107,
     "end_time": "2020-11-27T00:09:32.325256",
     "exception": false,
     "start_time": "2020-11-27T00:09:32.300149",
     "status": "completed"
    },
    "tags": []
   },
   "source": [
    "## Filter data to get 3 and 8 out"
   ]
  },
  {
   "cell_type": "code",
   "execution_count": 9,
   "metadata": {
    "execution": {
     "iopub.execute_input": "2020-11-27T00:09:32.384435Z",
     "iopub.status.busy": "2020-11-27T00:09:32.383521Z",
     "iopub.status.idle": "2020-11-27T00:09:32.396471Z",
     "shell.execute_reply": "2020-11-27T00:09:32.396118Z"
    },
    "papermill": {
     "duration": 0.046837,
     "end_time": "2020-11-27T00:09:32.396602",
     "exception": false,
     "start_time": "2020-11-27T00:09:32.349765",
     "status": "completed"
    },
    "tags": []
   },
   "outputs": [],
   "source": [
    "train_filter = np.where((train_labels == 3 ) | (train_labels == 8))\n",
    "test_filter = np.where((test_labels == 3) | (test_labels == 8))\n",
    "X_train, y_train = train_images[train_filter], train_labels[train_filter]\n",
    "X_test, y_test = test_images[test_filter], test_labels[test_filter]"
   ]
  },
  {
   "cell_type": "markdown",
   "metadata": {
    "papermill": {
     "duration": 0.496854,
     "end_time": "2020-11-27T00:09:33.491466",
     "exception": false,
     "start_time": "2020-11-27T00:09:32.994612",
     "status": "completed"
    },
    "tags": []
   },
   "source": [
    "We normalize the pixel values in the 0 to 1 range"
   ]
  },
  {
   "cell_type": "code",
   "execution_count": 10,
   "metadata": {
    "execution": {
     "iopub.execute_input": "2020-11-27T00:09:34.049043Z",
     "iopub.status.busy": "2020-11-27T00:09:34.048016Z",
     "iopub.status.idle": "2020-11-27T00:09:34.097077Z",
     "shell.execute_reply": "2020-11-27T00:09:34.096156Z"
    },
    "papermill": {
     "duration": 0.105252,
     "end_time": "2020-11-27T00:09:34.097294",
     "exception": false,
     "start_time": "2020-11-27T00:09:33.992042",
     "status": "completed"
    },
    "tags": []
   },
   "outputs": [],
   "source": [
    "X_train = X_train/255.\n",
    "X_test = X_test/255."
   ]
  },
  {
   "cell_type": "markdown",
   "metadata": {
    "papermill": {
     "duration": 0.800382,
     "end_time": "2020-11-27T00:09:35.247977",
     "exception": false,
     "start_time": "2020-11-27T00:09:34.447595",
     "status": "completed"
    },
    "tags": []
   },
   "source": [
    "Setup the labels as 1 (when the digit is 3) and 0 (when the digit is 8)"
   ]
  },
  {
   "cell_type": "code",
   "execution_count": 11,
   "metadata": {
    "execution": {
     "iopub.execute_input": "2020-11-27T00:09:35.852033Z",
     "iopub.status.busy": "2020-11-27T00:09:35.851429Z",
     "iopub.status.idle": "2020-11-27T00:09:35.858312Z",
     "shell.execute_reply": "2020-11-27T00:09:35.858870Z"
    },
    "papermill": {
     "duration": 0.154597,
     "end_time": "2020-11-27T00:09:35.859018",
     "exception": false,
     "start_time": "2020-11-27T00:09:35.704421",
     "status": "completed"
    },
    "tags": []
   },
   "outputs": [],
   "source": [
    "y_train = 1*(y_train==3)\n",
    "y_test = 1*(y_test==3)"
   ]
  },
  {
   "cell_type": "code",
   "execution_count": 12,
   "metadata": {
    "execution": {
     "iopub.execute_input": "2020-11-27T00:09:37.499783Z",
     "iopub.status.busy": "2020-11-27T00:09:37.499084Z",
     "iopub.status.idle": "2020-11-27T00:09:37.511273Z",
     "shell.execute_reply": "2020-11-27T00:09:37.510882Z"
    },
    "papermill": {
     "duration": 0.918115,
     "end_time": "2020-11-27T00:09:37.511384",
     "exception": false,
     "start_time": "2020-11-27T00:09:36.593269",
     "status": "completed"
    },
    "tags": []
   },
   "outputs": [
    {
     "data": {
      "text/plain": [
       "((11982, 28, 28), (1984, 28, 28))"
      ]
     },
     "execution_count": 12,
     "metadata": {},
     "output_type": "execute_result"
    }
   ],
   "source": [
    "X_train.shape, X_test.shape"
   ]
  },
  {
   "cell_type": "markdown",
   "metadata": {
    "papermill": {
     "duration": 0.155088,
     "end_time": "2020-11-27T00:09:37.744440",
     "exception": false,
     "start_time": "2020-11-27T00:09:37.589352",
     "status": "completed"
    },
    "tags": []
   },
   "source": [
    "### Reshape the input data to create a linear array"
   ]
  },
  {
   "cell_type": "code",
   "execution_count": 13,
   "metadata": {
    "execution": {
     "iopub.execute_input": "2020-11-27T00:09:38.454960Z",
     "iopub.status.busy": "2020-11-27T00:09:38.453054Z",
     "iopub.status.idle": "2020-11-27T00:09:38.466112Z",
     "shell.execute_reply": "2020-11-27T00:09:38.465528Z"
    },
    "papermill": {
     "duration": 0.268804,
     "end_time": "2020-11-27T00:09:38.466243",
     "exception": false,
     "start_time": "2020-11-27T00:09:38.197439",
     "status": "completed"
    },
    "tags": []
   },
   "outputs": [
    {
     "data": {
      "text/plain": [
       "((11982, 784), (1984, 784))"
      ]
     },
     "execution_count": 13,
     "metadata": {},
     "output_type": "execute_result"
    }
   ],
   "source": [
    "X_train = X_train.reshape(X_train.shape[0], -1)\n",
    "X_test = X_test.reshape(X_test.shape[0], -1)\n",
    "X_train.shape, X_test.shape"
   ]
  },
  {
   "cell_type": "markdown",
   "metadata": {
    "papermill": {
     "duration": 0.02888,
     "end_time": "2020-11-27T00:09:38.519928",
     "exception": false,
     "start_time": "2020-11-27T00:09:38.491048",
     "status": "completed"
    },
    "tags": []
   },
   "source": [
    "### Importing appropriate functions from 'Kudzu'"
   ]
  },
  {
   "cell_type": "code",
   "execution_count": 14,
   "metadata": {
    "execution": {
     "iopub.execute_input": "2020-11-27T00:09:38.587966Z",
     "iopub.status.busy": "2020-11-27T00:09:38.587376Z",
     "iopub.status.idle": "2020-11-27T00:09:38.609095Z",
     "shell.execute_reply": "2020-11-27T00:09:38.609649Z"
    },
    "papermill": {
     "duration": 0.057485,
     "end_time": "2020-11-27T00:09:38.609827",
     "exception": false,
     "start_time": "2020-11-27T00:09:38.552342",
     "status": "completed"
    },
    "tags": []
   },
   "outputs": [],
   "source": [
    "from kudzu.layer import Sigmoid\n",
    "from kudzu.layer import Relu\n",
    "from kudzu.layer import Affine, Sigmoid\n",
    "\n",
    "from kudzu.model import Model\n",
    "from kudzu.train import Learner\n",
    "from kudzu.optim import GD\n",
    "from kudzu.data import Data, Dataloader, Sampler\n",
    "\n",
    "from kudzu.callbacks import AccCallback\n",
    "from kudzu.callbacks import ClfCallback\n",
    "\n",
    "from kudzu.loss import MSE"
   ]
  },
  {
   "cell_type": "markdown",
   "metadata": {
    "papermill": {
     "duration": 0.022769,
     "end_time": "2020-11-27T00:09:38.660505",
     "exception": false,
     "start_time": "2020-11-27T00:09:38.637736",
     "status": "completed"
    },
    "tags": []
   },
   "source": [
    "### Let us create a `Config` class, to store important parameters. \n",
    "This class essentially plays the role of a dictionary."
   ]
  },
  {
   "cell_type": "code",
   "execution_count": 15,
   "metadata": {
    "execution": {
     "iopub.execute_input": "2020-11-27T00:09:38.713825Z",
     "iopub.status.busy": "2020-11-27T00:09:38.713252Z",
     "iopub.status.idle": "2020-11-27T00:09:38.724938Z",
     "shell.execute_reply": "2020-11-27T00:09:38.725470Z"
    },
    "papermill": {
     "duration": 0.042195,
     "end_time": "2020-11-27T00:09:38.725605",
     "exception": false,
     "start_time": "2020-11-27T00:09:38.683410",
     "status": "completed"
    },
    "tags": []
   },
   "outputs": [],
   "source": [
    "class Config:\n",
    "    pass\n",
    "config = Config()\n",
    "config.lr = 0.001\n",
    "config.num_epochs = 251\n",
    "config.bs = 50"
   ]
  },
  {
   "cell_type": "markdown",
   "metadata": {
    "papermill": {
     "duration": 0.027317,
     "end_time": "2020-11-27T00:09:38.780425",
     "exception": false,
     "start_time": "2020-11-27T00:09:38.753108",
     "status": "completed"
    },
    "tags": []
   },
   "source": [
    "### Initializing data to the variables"
   ]
  },
  {
   "cell_type": "code",
   "execution_count": 16,
   "metadata": {
    "execution": {
     "iopub.execute_input": "2020-11-27T00:09:38.836627Z",
     "iopub.status.busy": "2020-11-27T00:09:38.836032Z",
     "iopub.status.idle": "2020-11-27T00:09:38.847950Z",
     "shell.execute_reply": "2020-11-27T00:09:38.848392Z"
    },
    "papermill": {
     "duration": 0.041387,
     "end_time": "2020-11-27T00:09:38.848532",
     "exception": false,
     "start_time": "2020-11-27T00:09:38.807145",
     "status": "completed"
    },
    "tags": []
   },
   "outputs": [],
   "source": [
    "data = Data(X_train, y_train.reshape(-1,1))\n",
    "sampler = Sampler(data, config.bs, shuffle=True)\n",
    "\n",
    "dl = Dataloader(data, sampler)\n",
    "\n",
    "opt = GD(config.lr)\n",
    "loss = MSE()"
   ]
  },
  {
   "cell_type": "code",
   "execution_count": 17,
   "metadata": {
    "execution": {
     "iopub.execute_input": "2020-11-27T00:09:38.911021Z",
     "iopub.status.busy": "2020-11-27T00:09:38.910422Z",
     "iopub.status.idle": "2020-11-27T00:09:38.921104Z",
     "shell.execute_reply": "2020-11-27T00:09:38.921543Z"
    },
    "papermill": {
     "duration": 0.045664,
     "end_time": "2020-11-27T00:09:38.921687",
     "exception": false,
     "start_time": "2020-11-27T00:09:38.876023",
     "status": "completed"
    },
    "tags": []
   },
   "outputs": [],
   "source": [
    "training_xdata = X_train\n",
    "testing_xdata = X_test\n",
    "training_ydata = y_train.reshape(-1,1)\n",
    "testing_ydata = y_test.reshape(-1,1)"
   ]
  },
  {
   "cell_type": "markdown",
   "metadata": {
    "papermill": {
     "duration": 0.026089,
     "end_time": "2020-11-27T00:09:38.972142",
     "exception": false,
     "start_time": "2020-11-27T00:09:38.946053",
     "status": "completed"
    },
    "tags": []
   },
   "source": [
    "### Running Models with the Training data\n",
    "Details about the network layers:\n",
    "- A first affine layer has 784 inputs and does 100 affine transforms. These are followed by a Relu\n",
    "- A second affine layer has 100 inputs from the 100 activations of the past layer, and does 100 affine transforms. These are followed by a Relu\n",
    "- A third affine layer has 100 activations and does 2 affine transformations to create an embedding for visualization. There is no non-linearity here.\n",
    "- A final \"logistic regression\" which has an affine transform from 2 inputs to 1 output, which is squeezed through a sigmoid.\n",
    "\n",
    "Help taken from Anshuman's Notebook."
   ]
  },
  {
   "cell_type": "code",
   "execution_count": 18,
   "metadata": {
    "execution": {
     "iopub.execute_input": "2020-11-27T00:09:39.029859Z",
     "iopub.status.busy": "2020-11-27T00:09:39.029377Z",
     "iopub.status.idle": "2020-11-27T00:09:39.045745Z",
     "shell.execute_reply": "2020-11-27T00:09:39.045339Z"
    },
    "papermill": {
     "duration": 0.047066,
     "end_time": "2020-11-27T00:09:39.045858",
     "exception": false,
     "start_time": "2020-11-27T00:09:38.998792",
     "status": "completed"
    },
    "tags": []
   },
   "outputs": [],
   "source": [
    "# layers for the Neural Network\n",
    "layers = [Affine(\"first\", 784, 100), Relu(\"first\"), Affine(\"second\", 100, 100), Relu(\"second\"), Affine(\"third\", 100, 2), Affine(\"final\", 2, 1), Sigmoid(\"final\")]\n",
    "model_nn = Model(layers)\n",
    "\n",
    "# layers for the Logistic Regression\n",
    "layers_lr = [Affine(\"logits\", 784, 1), Sigmoid(\"sigmoid\")]\n",
    "model_lr = Model(layers_lr)"
   ]
  },
  {
   "cell_type": "code",
   "execution_count": 19,
   "metadata": {
    "execution": {
     "iopub.execute_input": "2020-11-27T00:09:39.107607Z",
     "iopub.status.busy": "2020-11-27T00:09:39.107033Z",
     "iopub.status.idle": "2020-11-27T00:09:39.118690Z",
     "shell.execute_reply": "2020-11-27T00:09:39.119157Z"
    },
    "papermill": {
     "duration": 0.047255,
     "end_time": "2020-11-27T00:09:39.119294",
     "exception": false,
     "start_time": "2020-11-27T00:09:39.072039",
     "status": "completed"
    },
    "tags": []
   },
   "outputs": [],
   "source": [
    "# suffix _nn stands for Neural Network.\n",
    "learner_nn = Learner(loss, model_nn, opt, config.num_epochs)\n",
    "acc_nn = ClfCallback(learner_nn, config.bs, training_xdata , testing_xdata, training_ydata, testing_ydata)\n",
    "learner_nn.set_callbacks([acc_nn])"
   ]
  },
  {
   "cell_type": "code",
   "execution_count": 20,
   "metadata": {
    "execution": {
     "iopub.execute_input": "2020-11-27T00:09:39.175908Z",
     "iopub.status.busy": "2020-11-27T00:09:39.175363Z",
     "iopub.status.idle": "2020-11-27T00:10:58.809832Z",
     "shell.execute_reply": "2020-11-27T00:10:58.810522Z"
    },
    "papermill": {
     "duration": 79.666314,
     "end_time": "2020-11-27T00:10:58.810677",
     "exception": false,
     "start_time": "2020-11-27T00:09:39.144363",
     "status": "completed"
    },
    "tags": []
   },
   "outputs": [
    {
     "name": "stdout",
     "output_type": "stream",
     "text": [
      "====== Neural Network ======\n"
     ]
    },
    {
     "name": "stdout",
     "output_type": "stream",
     "text": [
      "Epoch 0, Loss 0.2467\n",
      "Training Accuracy: 0.7170, Testing Accuracy: 0.7379\n",
      "\n"
     ]
    },
    {
     "name": "stdout",
     "output_type": "stream",
     "text": [
      "Epoch 10, Loss 0.074\n",
      "Training Accuracy: 0.9231, Testing Accuracy: 0.9325\n",
      "\n"
     ]
    },
    {
     "name": "stdout",
     "output_type": "stream",
     "text": [
      "Epoch 20, Loss 0.0482\n",
      "Training Accuracy: 0.9472, Testing Accuracy: 0.9582\n",
      "\n"
     ]
    },
    {
     "name": "stdout",
     "output_type": "stream",
     "text": [
      "Epoch 30, Loss 0.0386\n",
      "Training Accuracy: 0.9572, Testing Accuracy: 0.9622\n",
      "\n"
     ]
    },
    {
     "name": "stdout",
     "output_type": "stream",
     "text": [
      "Epoch 40, Loss 0.0336\n",
      "Training Accuracy: 0.9629, Testing Accuracy: 0.9672\n",
      "\n"
     ]
    },
    {
     "name": "stdout",
     "output_type": "stream",
     "text": [
      "Epoch 50, Loss 0.0304\n",
      "Training Accuracy: 0.9654, Testing Accuracy: 0.9693\n",
      "\n"
     ]
    },
    {
     "name": "stdout",
     "output_type": "stream",
     "text": [
      "Epoch 60, Loss 0.0282\n",
      "Training Accuracy: 0.9682, Testing Accuracy: 0.9698\n",
      "\n"
     ]
    },
    {
     "name": "stdout",
     "output_type": "stream",
     "text": [
      "Epoch 70, Loss 0.0264\n",
      "Training Accuracy: 0.9703, Testing Accuracy: 0.9698\n",
      "\n"
     ]
    },
    {
     "name": "stdout",
     "output_type": "stream",
     "text": [
      "Epoch 80, Loss 0.0251\n",
      "Training Accuracy: 0.9718, Testing Accuracy: 0.9693\n",
      "\n"
     ]
    },
    {
     "name": "stdout",
     "output_type": "stream",
     "text": [
      "Epoch 90, Loss 0.0239\n",
      "Training Accuracy: 0.9731, Testing Accuracy: 0.9698\n",
      "\n"
     ]
    },
    {
     "name": "stdout",
     "output_type": "stream",
     "text": [
      "Epoch 100, Loss 0.0229\n",
      "Training Accuracy: 0.9740, Testing Accuracy: 0.9708\n",
      "\n"
     ]
    },
    {
     "name": "stdout",
     "output_type": "stream",
     "text": [
      "Epoch 110, Loss 0.022\n",
      "Training Accuracy: 0.9750, Testing Accuracy: 0.9723\n",
      "\n"
     ]
    },
    {
     "name": "stdout",
     "output_type": "stream",
     "text": [
      "Epoch 120, Loss 0.0212\n",
      "Training Accuracy: 0.9764, Testing Accuracy: 0.9743\n",
      "\n"
     ]
    },
    {
     "name": "stdout",
     "output_type": "stream",
     "text": [
      "Epoch 130, Loss 0.0205\n",
      "Training Accuracy: 0.9775, Testing Accuracy: 0.9763\n",
      "\n"
     ]
    },
    {
     "name": "stdout",
     "output_type": "stream",
     "text": [
      "Epoch 140, Loss 0.0199\n",
      "Training Accuracy: 0.9780, Testing Accuracy: 0.9758\n",
      "\n"
     ]
    },
    {
     "name": "stdout",
     "output_type": "stream",
     "text": [
      "Epoch 150, Loss 0.0193\n",
      "Training Accuracy: 0.9786, Testing Accuracy: 0.9768\n",
      "\n"
     ]
    },
    {
     "name": "stdout",
     "output_type": "stream",
     "text": [
      "Epoch 160, Loss 0.0187\n",
      "Training Accuracy: 0.9795, Testing Accuracy: 0.9778\n",
      "\n"
     ]
    },
    {
     "name": "stdout",
     "output_type": "stream",
     "text": [
      "Epoch 170, Loss 0.0182\n",
      "Training Accuracy: 0.9803, Testing Accuracy: 0.9778\n",
      "\n"
     ]
    },
    {
     "name": "stdout",
     "output_type": "stream",
     "text": [
      "Epoch 180, Loss 0.0177\n",
      "Training Accuracy: 0.9808, Testing Accuracy: 0.9783\n",
      "\n"
     ]
    },
    {
     "name": "stdout",
     "output_type": "stream",
     "text": [
      "Epoch 190, Loss 0.0172\n",
      "Training Accuracy: 0.9815, Testing Accuracy: 0.9783\n",
      "\n"
     ]
    },
    {
     "name": "stdout",
     "output_type": "stream",
     "text": [
      "Epoch 200, Loss 0.0168\n",
      "Training Accuracy: 0.9817, Testing Accuracy: 0.9793\n",
      "\n"
     ]
    },
    {
     "name": "stdout",
     "output_type": "stream",
     "text": [
      "Epoch 210, Loss 0.0164\n",
      "Training Accuracy: 0.9821, Testing Accuracy: 0.9798\n",
      "\n"
     ]
    },
    {
     "name": "stdout",
     "output_type": "stream",
     "text": [
      "Epoch 220, Loss 0.016\n",
      "Training Accuracy: 0.9825, Testing Accuracy: 0.9798\n",
      "\n"
     ]
    },
    {
     "name": "stdout",
     "output_type": "stream",
     "text": [
      "Epoch 230, Loss 0.0156\n",
      "Training Accuracy: 0.9827, Testing Accuracy: 0.9798\n",
      "\n"
     ]
    },
    {
     "name": "stdout",
     "output_type": "stream",
     "text": [
      "Epoch 240, Loss 0.0152\n",
      "Training Accuracy: 0.9839, Testing Accuracy: 0.9803\n",
      "\n"
     ]
    },
    {
     "name": "stdout",
     "output_type": "stream",
     "text": [
      "Epoch 250, Loss 0.0149\n",
      "Training Accuracy: 0.9841, Testing Accuracy: 0.9808\n",
      "\n"
     ]
    },
    {
     "data": {
      "text/plain": [
       "0.025297486151888125"
      ]
     },
     "execution_count": 20,
     "metadata": {},
     "output_type": "execute_result"
    }
   ],
   "source": [
    "print(\"====== Neural Network ======\")\n",
    "learner_nn.train_loop(dl)"
   ]
  },
  {
   "cell_type": "markdown",
   "metadata": {
    "papermill": {
     "duration": 0.034918,
     "end_time": "2020-11-27T00:10:58.878687",
     "exception": false,
     "start_time": "2020-11-27T00:10:58.843769",
     "status": "completed"
    },
    "tags": []
   },
   "source": [
    "### Logistic Regression based Implementation."
   ]
  },
  {
   "cell_type": "code",
   "execution_count": 21,
   "metadata": {
    "execution": {
     "iopub.execute_input": "2020-11-27T00:10:58.953142Z",
     "iopub.status.busy": "2020-11-27T00:10:58.951233Z",
     "iopub.status.idle": "2020-11-27T00:10:58.964260Z",
     "shell.execute_reply": "2020-11-27T00:10:58.963693Z"
    },
    "papermill": {
     "duration": 0.052254,
     "end_time": "2020-11-27T00:10:58.964393",
     "exception": false,
     "start_time": "2020-11-27T00:10:58.912139",
     "status": "completed"
    },
    "tags": []
   },
   "outputs": [],
   "source": [
    "learner_lr = Learner(loss, model_lr, opt, config.num_epochs)\n",
    "acc_lr = ClfCallback(learner_lr, config.bs, training_xdata , testing_xdata, training_ydata, testing_ydata)\n",
    "learner_lr.set_callbacks([acc_lr])"
   ]
  },
  {
   "cell_type": "code",
   "execution_count": 22,
   "metadata": {
    "execution": {
     "iopub.execute_input": "2020-11-27T00:10:59.041140Z",
     "iopub.status.busy": "2020-11-27T00:10:59.040066Z",
     "iopub.status.idle": "2020-11-27T00:11:13.307651Z",
     "shell.execute_reply": "2020-11-27T00:11:13.308393Z"
    },
    "papermill": {
     "duration": 14.310539,
     "end_time": "2020-11-27T00:11:13.308545",
     "exception": false,
     "start_time": "2020-11-27T00:10:58.998006",
     "status": "completed"
    },
    "tags": []
   },
   "outputs": [
    {
     "name": "stdout",
     "output_type": "stream",
     "text": [
      "====== Logistic Regression ======\n",
      "Epoch 0, Loss 0.2049\n",
      "Training Accuracy: 0.7838, Testing Accuracy: 0.7913\n",
      "\n"
     ]
    },
    {
     "name": "stdout",
     "output_type": "stream",
     "text": [
      "Epoch 10, Loss 0.1002\n",
      "Training Accuracy: 0.9090, Testing Accuracy: 0.9189\n",
      "\n"
     ]
    },
    {
     "name": "stdout",
     "output_type": "stream",
     "text": [
      "Epoch 20, Loss 0.078\n",
      "Training Accuracy: 0.9277, Testing Accuracy: 0.9345\n",
      "\n"
     ]
    },
    {
     "name": "stdout",
     "output_type": "stream",
     "text": [
      "Epoch 30, Loss 0.0674\n",
      "Training Accuracy: 0.9376, Testing Accuracy: 0.9476\n",
      "\n"
     ]
    },
    {
     "name": "stdout",
     "output_type": "stream",
     "text": [
      "Epoch 40, Loss 0.0609\n",
      "Training Accuracy: 0.9427, Testing Accuracy: 0.9526\n",
      "\n"
     ]
    },
    {
     "name": "stdout",
     "output_type": "stream",
     "text": [
      "Epoch 50, Loss 0.0565\n",
      "Training Accuracy: 0.9471, Testing Accuracy: 0.9567\n",
      "\n"
     ]
    },
    {
     "name": "stdout",
     "output_type": "stream",
     "text": [
      "Epoch 60, Loss 0.0532\n",
      "Training Accuracy: 0.9480, Testing Accuracy: 0.9582\n",
      "\n"
     ]
    },
    {
     "name": "stdout",
     "output_type": "stream",
     "text": [
      "Epoch 70, Loss 0.0507\n",
      "Training Accuracy: 0.9501, Testing Accuracy: 0.9612\n",
      "\n"
     ]
    },
    {
     "name": "stdout",
     "output_type": "stream",
     "text": [
      "Epoch 80, Loss 0.0487\n",
      "Training Accuracy: 0.9516, Testing Accuracy: 0.9622\n",
      "\n"
     ]
    },
    {
     "name": "stdout",
     "output_type": "stream",
     "text": [
      "Epoch 90, Loss 0.0471\n",
      "Training Accuracy: 0.9533, Testing Accuracy: 0.9632\n",
      "\n"
     ]
    },
    {
     "name": "stdout",
     "output_type": "stream",
     "text": [
      "Epoch 100, Loss 0.0457\n",
      "Training Accuracy: 0.9548, Testing Accuracy: 0.9642\n",
      "\n"
     ]
    },
    {
     "name": "stdout",
     "output_type": "stream",
     "text": [
      "Epoch 110, Loss 0.0445\n",
      "Training Accuracy: 0.9556, Testing Accuracy: 0.9647\n",
      "\n"
     ]
    },
    {
     "name": "stdout",
     "output_type": "stream",
     "text": [
      "Epoch 120, Loss 0.0434\n",
      "Training Accuracy: 0.9560, Testing Accuracy: 0.9647\n",
      "\n"
     ]
    },
    {
     "name": "stdout",
     "output_type": "stream",
     "text": [
      "Epoch 130, Loss 0.0425\n",
      "Training Accuracy: 0.9562, Testing Accuracy: 0.9647\n",
      "\n"
     ]
    },
    {
     "name": "stdout",
     "output_type": "stream",
     "text": [
      "Epoch 140, Loss 0.0417\n",
      "Training Accuracy: 0.9567, Testing Accuracy: 0.9647\n",
      "\n"
     ]
    },
    {
     "name": "stdout",
     "output_type": "stream",
     "text": [
      "Epoch 150, Loss 0.041\n",
      "Training Accuracy: 0.9574, Testing Accuracy: 0.9652\n",
      "\n"
     ]
    },
    {
     "name": "stdout",
     "output_type": "stream",
     "text": [
      "Epoch 160, Loss 0.0403\n",
      "Training Accuracy: 0.9577, Testing Accuracy: 0.9657\n",
      "\n"
     ]
    },
    {
     "name": "stdout",
     "output_type": "stream",
     "text": [
      "Epoch 170, Loss 0.0397\n",
      "Training Accuracy: 0.9579, Testing Accuracy: 0.9662\n",
      "\n"
     ]
    },
    {
     "name": "stdout",
     "output_type": "stream",
     "text": [
      "Epoch 180, Loss 0.0392\n",
      "Training Accuracy: 0.9584, Testing Accuracy: 0.9657\n",
      "\n"
     ]
    },
    {
     "name": "stdout",
     "output_type": "stream",
     "text": [
      "Epoch 190, Loss 0.0387\n",
      "Training Accuracy: 0.9589, Testing Accuracy: 0.9657\n",
      "\n"
     ]
    },
    {
     "name": "stdout",
     "output_type": "stream",
     "text": [
      "Epoch 200, Loss 0.0382\n",
      "Training Accuracy: 0.9593, Testing Accuracy: 0.9662\n",
      "\n"
     ]
    },
    {
     "name": "stdout",
     "output_type": "stream",
     "text": [
      "Epoch 210, Loss 0.0378\n",
      "Training Accuracy: 0.9593, Testing Accuracy: 0.9662\n",
      "\n"
     ]
    },
    {
     "name": "stdout",
     "output_type": "stream",
     "text": [
      "Epoch 220, Loss 0.0374\n",
      "Training Accuracy: 0.9596, Testing Accuracy: 0.9662\n",
      "\n"
     ]
    },
    {
     "name": "stdout",
     "output_type": "stream",
     "text": [
      "Epoch 230, Loss 0.037\n",
      "Training Accuracy: 0.9596, Testing Accuracy: 0.9662\n",
      "\n"
     ]
    },
    {
     "name": "stdout",
     "output_type": "stream",
     "text": [
      "Epoch 240, Loss 0.0367\n",
      "Training Accuracy: 0.9599, Testing Accuracy: 0.9672\n",
      "\n"
     ]
    },
    {
     "name": "stdout",
     "output_type": "stream",
     "text": [
      "Epoch 250, Loss 0.0363\n",
      "Training Accuracy: 0.9600, Testing Accuracy: 0.9667\n",
      "\n"
     ]
    },
    {
     "data": {
      "text/plain": [
       "0.029644751151009514"
      ]
     },
     "execution_count": 22,
     "metadata": {},
     "output_type": "execute_result"
    }
   ],
   "source": [
    "print(\"====== Logistic Regression ======\")\n",
    "learner_lr.train_loop(dl)"
   ]
  },
  {
   "cell_type": "markdown",
   "metadata": {
    "papermill": {
     "duration": 0.044668,
     "end_time": "2020-11-27T00:11:13.397094",
     "exception": false,
     "start_time": "2020-11-27T00:11:13.352426",
     "status": "completed"
    },
    "tags": []
   },
   "source": [
    "### Comparing results of NN and LR"
   ]
  },
  {
   "cell_type": "code",
   "execution_count": 23,
   "metadata": {
    "execution": {
     "iopub.execute_input": "2020-11-27T00:11:13.489483Z",
     "iopub.status.busy": "2020-11-27T00:11:13.488435Z",
     "iopub.status.idle": "2020-11-27T00:11:13.725898Z",
     "shell.execute_reply": "2020-11-27T00:11:13.725401Z"
    },
    "papermill": {
     "duration": 0.286709,
     "end_time": "2020-11-27T00:11:13.726035",
     "exception": false,
     "start_time": "2020-11-27T00:11:13.439326",
     "status": "completed"
    },
    "tags": []
   },
   "outputs": [
    {
     "data": {
      "text/plain": [
       "<matplotlib.legend.Legend at 0x7f610125f9b0>"
      ]
     },
     "execution_count": 23,
     "metadata": {},
     "output_type": "execute_result"
    },
    {
     "data": {
      "image/png": "[encoded data removed]",
      "text/plain": [
       "<Figure size 1080x720 with 1 Axes>"
      ]
     },
     "metadata": {
      "needs_background": "light"
     },
     "output_type": "display_data"
    }
   ],
   "source": [
    "plt.figure(figsize=(15,10))\n",
    "\n",
    "# Neural Network plots\n",
    "plt.plot(acc_nn.accuracies, 'r-', label = \"Training Accuracies - NN\")\n",
    "plt.plot(acc_nn.test_accuracies, 'g-', label = \"Testing Accuracies - NN\")\n",
    "\n",
    "# Logistic Regression plots\n",
    "plt.plot(acc_lr.accuracies, 'k-', label = \"Training Accuracies - LR\")\n",
    "plt.plot(acc_lr.test_accuracies, 'b-', label = \"Testing Accuracies - LR\")\n",
    "\n",
    "plt.ylim(0.8, 1)\n",
    "\n",
    "plt.legend()\n",
    "\n"
   ]
  },
  {
   "cell_type": "markdown",
   "metadata": {
    "papermill": {
     "duration": 0.037855,
     "end_time": "2020-11-27T00:11:13.805025",
     "exception": false,
     "start_time": "2020-11-27T00:11:13.767170",
     "status": "completed"
    },
    "tags": []
   },
   "source": [
    "### From the plot, we can observe the following:\n",
    "- Neural Network achieves higher accuracy than the Logistic Regression model.\n",
    "- This apparently, is because of overfitting, i.e. NN captures more noise than data.\n",
    "- Testing accuracy of NN drops below the Training accuracy at higher epochs. This explains the over-fitting on training data.\n",
    "- Logistic Regression gives a reliable accuracy, without the above mentioned problem.\n"
   ]
  },
  {
   "cell_type": "markdown",
   "metadata": {
    "papermill": {
     "duration": 0.034747,
     "end_time": "2020-11-27T00:11:13.874713",
     "exception": false,
     "start_time": "2020-11-27T00:11:13.839966",
     "status": "completed"
    },
    "tags": []
   },
   "source": [
    "### Moving till the last but one layer (excluding it).\n",
    "#### Plotting the outputs of this layer of the NN."
   ]
  },
  {
   "cell_type": "code",
   "execution_count": 24,
   "metadata": {
    "execution": {
     "iopub.execute_input": "2020-11-27T00:11:13.963165Z",
     "iopub.status.busy": "2020-11-27T00:11:13.956622Z",
     "iopub.status.idle": "2020-11-27T00:11:13.970090Z",
     "shell.execute_reply": "2020-11-27T00:11:13.969673Z"
    },
    "papermill": {
     "duration": 0.058626,
     "end_time": "2020-11-27T00:11:13.970181",
     "exception": false,
     "start_time": "2020-11-27T00:11:13.911555",
     "status": "completed"
    },
    "tags": []
   },
   "outputs": [],
   "source": [
    "model_new = Model(layers[:-2])"
   ]
  },
  {
   "cell_type": "code",
   "execution_count": 25,
   "metadata": {
    "execution": {
     "iopub.execute_input": "2020-11-27T00:11:14.051474Z",
     "iopub.status.busy": "2020-11-27T00:11:14.050953Z",
     "iopub.status.idle": "2020-11-27T00:11:14.071315Z",
     "shell.execute_reply": "2020-11-27T00:11:14.071902Z"
    },
    "papermill": {
     "duration": 0.063812,
     "end_time": "2020-11-27T00:11:14.072025",
     "exception": false,
     "start_time": "2020-11-27T00:11:14.008213",
     "status": "completed"
    },
    "tags": []
   },
   "outputs": [],
   "source": [
    "plot_testing = model_new(testing_xdata)"
   ]
  },
  {
   "cell_type": "code",
   "execution_count": 26,
   "metadata": {
    "execution": {
     "iopub.execute_input": "2020-11-27T00:11:14.163911Z",
     "iopub.status.busy": "2020-11-27T00:11:14.163430Z",
     "iopub.status.idle": "2020-11-27T00:11:14.345965Z",
     "shell.execute_reply": "2020-11-27T00:11:14.346410Z"
    },
    "papermill": {
     "duration": 0.2349,
     "end_time": "2020-11-27T00:11:14.346582",
     "exception": false,
     "start_time": "2020-11-27T00:11:14.111682",
     "status": "completed"
    },
    "tags": []
   },
   "outputs": [
    {
     "data": {
      "text/plain": [
       "Text(0.5, 1.0, 'Outputs')"
      ]
     },
     "execution_count": 26,
     "metadata": {},
     "output_type": "execute_result"
    },
    {
     "data": {
      "image/png": "[encoded data removed]",
      "text/plain": [
       "<Figure size 576x504 with 1 Axes>"
      ]
     },
     "metadata": {
      "needs_background": "light"
     },
     "output_type": "display_data"
    }
   ],
   "source": [
    "plt.figure(figsize=(8,7))\n",
    "plt.scatter(plot_testing[:,0], plot_testing[:,1], alpha = 0.1, c = y_test.ravel());\n",
    "plt.title('Outputs')"
   ]
  },
  {
   "cell_type": "markdown",
   "metadata": {
    "papermill": {
     "duration": 0.037621,
     "end_time": "2020-11-27T00:11:14.428241",
     "exception": false,
     "start_time": "2020-11-27T00:11:14.390620",
     "status": "completed"
    },
    "tags": []
   },
   "source": [
    "### Plotting probability contours"
   ]
  },
  {
   "cell_type": "code",
   "execution_count": 27,
   "metadata": {
    "execution": {
     "iopub.execute_input": "2020-11-27T00:11:14.515964Z",
     "iopub.status.busy": "2020-11-27T00:11:14.515319Z",
     "iopub.status.idle": "2020-11-27T00:11:14.527051Z",
     "shell.execute_reply": "2020-11-27T00:11:14.526639Z"
    },
    "papermill": {
     "duration": 0.058031,
     "end_time": "2020-11-27T00:11:14.527153",
     "exception": false,
     "start_time": "2020-11-27T00:11:14.469122",
     "status": "completed"
    },
    "tags": []
   },
   "outputs": [],
   "source": [
    "model_prob = Model(layers[-2:]) "
   ]
  },
  {
   "cell_type": "code",
   "execution_count": 28,
   "metadata": {
    "execution": {
     "iopub.execute_input": "2020-11-27T00:11:14.617833Z",
     "iopub.status.busy": "2020-11-27T00:11:14.617289Z",
     "iopub.status.idle": "2020-11-27T00:11:14.629443Z",
     "shell.execute_reply": "2020-11-27T00:11:14.629840Z"
    },
    "papermill": {
     "duration": 0.062486,
     "end_time": "2020-11-27T00:11:14.629968",
     "exception": false,
     "start_time": "2020-11-27T00:11:14.567482",
     "status": "completed"
    },
    "tags": []
   },
   "outputs": [],
   "source": [
    "# Adjust the x and y ranges according to the above generated plot.\n",
    "x_range = np.linspace(-4, 1, 100) \n",
    "y_range = np.linspace(-6, 6, 100) \n",
    "x_grid, y_grid = np.meshgrid(x_range, y_range) # x_grid and y_grig are of size 100 X 100\n",
    "\n",
    "# converting x_grid and y_grid to continuous arrays\n",
    "x_grid_flat = np.ravel(x_grid)\n",
    "y_grid_flat = np.ravel(y_grid)\n",
    "\n",
    "# The last layer of the current model takes two columns as input. Hence transpose of np.vstack() is required.\n",
    "X = np.vstack((x_grid_flat, y_grid_flat)).T\n",
    "\n",
    "# x_grid and y_grid are of size 100 x 100\n",
    "probability_contour = model_prob(X).reshape(100,100) "
   ]
  },
  {
   "cell_type": "code",
   "execution_count": 29,
   "metadata": {
    "execution": {
     "iopub.execute_input": "2020-11-27T00:11:14.736254Z",
     "iopub.status.busy": "2020-11-27T00:11:14.735677Z",
     "iopub.status.idle": "2020-11-27T00:11:14.976897Z",
     "shell.execute_reply": "2020-11-27T00:11:14.976304Z"
    },
    "papermill": {
     "duration": 0.299968,
     "end_time": "2020-11-27T00:11:14.977036",
     "exception": false,
     "start_time": "2020-11-27T00:11:14.677068",
     "status": "completed"
    },
    "tags": []
   },
   "outputs": [
    {
     "data": {
      "image/png": "[encoded data removed]",
      "text/plain": [
       "<Figure size 720x648 with 1 Axes>"
      ]
     },
     "metadata": {
      "needs_background": "light"
     },
     "output_type": "display_data"
    }
   ],
   "source": [
    "plt.figure(figsize=(10,9))\n",
    "plt.scatter(plot_testing[:,0], plot_testing[:,1], alpha = 0.1, c = y_test.ravel())\n",
    "contours = plt.contour(x_grid,y_grid,probability_contour)\n",
    "plt.title('Probability Contours')\n",
    "plt.clabel(contours, inline = True );"
   ]
  }
 ],
 "metadata": {
  "kernelspec": {
   "display_name": "Python 3",
   "language": "python",
   "name": "python3"
  },
  "language_info": {
   "codemirror_mode": {
    "name": "ipython",
    "version": 3
   },
   "file_extension": ".py",
   "mimetype": "text/x-python",
   "name": "python",
   "nbconvert_exporter": "python",
   "pygments_lexer": "ipython3",
   "version": "3.6.12"
  },
  "papermill": {
   "duration": 107.843907,
   "end_time": "2020-11-27T00:11:15.436168",
   "environment_variables": {},
   "exception": null,
   "input_path": "2020-08-11-NeuralNetwork.ipynb",
   "output_path": "2020-08-11-NeuralNetwork.ipynb",
   "parameters": {},
   "start_time": "2020-11-27T00:09:27.592261",
   "version": "2.1.2"
  }
 },
 "nbformat": 4,
 "nbformat_minor": 4
}