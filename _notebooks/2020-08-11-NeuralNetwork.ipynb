{
 "cells": [
  {
   "cell_type": "markdown",
   "metadata": {
    "papermill": {
     "duration": 0.022908,
     "end_time": "2020-08-21T00:05:47.600500",
     "exception": false,
     "start_time": "2020-08-21T00:05:47.577592",
     "status": "completed"
    },
    "tags": []
   },
   "source": [
    "# \"A Basic Neural Network: Differentiate Hand-Written Digits\"\n",
    "\n",
    "- badges: true\n",
    "- author: Akshith Sriram"
   ]
  },
  {
   "cell_type": "markdown",
   "metadata": {
    "papermill": {
     "duration": 0.020442,
     "end_time": "2020-08-21T00:05:47.641626",
     "exception": false,
     "start_time": "2020-08-21T00:05:47.621184",
     "status": "completed"
    },
    "tags": []
   },
   "source": [
    "### Key Objectives:\n",
    "- Building a neural network that differentiates two hand-written digits 3 and 8.\n",
    "- Comparing the results of this Neural Network (NN) to that of a Logistic Regression (LR) model.\n",
    "\n",
    "### Requirements:\n",
    "- 'Kudzu' : A neural network library that was designed during our course by [Univ.AI](www.univ.ai). \n",
    "- MNIST Database\n",
    "\n",
    "If MNIST is not installed, use the command `!pip install mnist` given below.\n",
    "It can be run both from the command line and Jupyter Notebook."
   ]
  },
  {
   "cell_type": "code",
   "execution_count": 1,
   "metadata": {
    "execution": {
     "iopub.execute_input": "2020-08-21T00:05:47.685801Z",
     "iopub.status.busy": "2020-08-21T00:05:47.685328Z",
     "iopub.status.idle": "2020-08-21T00:05:48.988860Z",
     "shell.execute_reply": "2020-08-21T00:05:48.987969Z"
    },
    "papermill": {
     "duration": 1.328153,
     "end_time": "2020-08-21T00:05:48.989116",
     "exception": false,
     "start_time": "2020-08-21T00:05:47.660963",
     "status": "completed"
    },
    "tags": []
   },
   "outputs": [
    {
     "name": "stdout",
     "output_type": "stream",
     "text": [
      "Collecting mnist\r\n"
     ]
    },
    {
     "name": "stdout",
     "output_type": "stream",
     "text": [
      "  Downloading mnist-0.2.2-py2.py3-none-any.whl (3.5 kB)\r\n",
      "Requirement already satisfied: numpy in /opt/hostedtoolcache/Python/3.6.11/x64/lib/python3.6/site-packages (from mnist) (1.19.1)\r\n"
     ]
    },
    {
     "name": "stdout",
     "output_type": "stream",
     "text": [
      "Installing collected packages: mnist\r\n"
     ]
    },
    {
     "name": "stdout",
     "output_type": "stream",
     "text": [
      "Successfully installed mnist-0.2.2\r\n"
     ]
    }
   ],
   "source": [
    "!pip install mnist "
   ]
  },
  {
   "cell_type": "markdown",
   "metadata": {
    "papermill": {
     "duration": 0.01995,
     "end_time": "2020-08-21T00:05:49.033518",
     "exception": false,
     "start_time": "2020-08-21T00:05:49.013568",
     "status": "completed"
    },
    "tags": []
   },
   "source": [
    "#### Importing necessary libraries"
   ]
  },
  {
   "cell_type": "code",
   "execution_count": 2,
   "metadata": {
    "execution": {
     "iopub.execute_input": "2020-08-21T00:05:49.085481Z",
     "iopub.status.busy": "2020-08-21T00:05:49.085060Z",
     "iopub.status.idle": "2020-08-21T00:05:49.553037Z",
     "shell.execute_reply": "2020-08-21T00:05:49.552522Z"
    },
    "papermill": {
     "duration": 0.497918,
     "end_time": "2020-08-21T00:05:49.553162",
     "exception": false,
     "start_time": "2020-08-21T00:05:49.055244",
     "status": "completed"
    },
    "tags": []
   },
   "outputs": [],
   "source": [
    "%load_ext autoreload\n",
    "%autoreload 2\n",
    "\n",
    "%matplotlib inline\n",
    "import matplotlib.pyplot as plt\n",
    "\n",
    "import numpy as np\n",
    "import pandas as pd"
   ]
  },
  {
   "cell_type": "markdown",
   "metadata": {
    "papermill": {
     "duration": 0.021869,
     "end_time": "2020-08-21T00:05:49.599038",
     "exception": false,
     "start_time": "2020-08-21T00:05:49.577169",
     "status": "completed"
    },
    "tags": []
   },
   "source": [
    "### Preparing the Data"
   ]
  },
  {
   "cell_type": "code",
   "execution_count": 3,
   "metadata": {
    "execution": {
     "iopub.execute_input": "2020-08-21T00:05:49.647406Z",
     "iopub.status.busy": "2020-08-21T00:05:49.646938Z",
     "iopub.status.idle": "2020-08-21T00:05:49.659008Z",
     "shell.execute_reply": "2020-08-21T00:05:49.659493Z"
    },
    "papermill": {
     "duration": 0.038152,
     "end_time": "2020-08-21T00:05:49.659625",
     "exception": false,
     "start_time": "2020-08-21T00:05:49.621473",
     "status": "completed"
    },
    "tags": []
   },
   "outputs": [],
   "source": [
    "import mnist"
   ]
  },
  {
   "cell_type": "code",
   "execution_count": 4,
   "metadata": {
    "execution": {
     "iopub.execute_input": "2020-08-21T00:05:49.706482Z",
     "iopub.status.busy": "2020-08-21T00:05:49.706074Z",
     "iopub.status.idle": "2020-08-21T00:05:50.456114Z",
     "shell.execute_reply": "2020-08-21T00:05:50.455615Z"
    },
    "papermill": {
     "duration": 0.77416,
     "end_time": "2020-08-21T00:05:50.456229",
     "exception": false,
     "start_time": "2020-08-21T00:05:49.682069",
     "status": "completed"
    },
    "tags": []
   },
   "outputs": [],
   "source": [
    "train_images = mnist.train_images()\n",
    "train_labels = mnist.train_labels()"
   ]
  },
  {
   "cell_type": "code",
   "execution_count": 5,
   "metadata": {
    "execution": {
     "iopub.execute_input": "2020-08-21T00:05:50.500874Z",
     "iopub.status.busy": "2020-08-21T00:05:50.500396Z",
     "iopub.status.idle": "2020-08-21T00:05:50.513797Z",
     "shell.execute_reply": "2020-08-21T00:05:50.513393Z"
    },
    "papermill": {
     "duration": 0.037424,
     "end_time": "2020-08-21T00:05:50.513894",
     "exception": false,
     "start_time": "2020-08-21T00:05:50.476470",
     "status": "completed"
    },
    "tags": []
   },
   "outputs": [
    {
     "data": {
      "text/plain": [
       "((60000, 28, 28), (60000,))"
      ]
     },
     "execution_count": 5,
     "metadata": {},
     "output_type": "execute_result"
    }
   ],
   "source": [
    "train_images.shape, train_labels.shape"
   ]
  },
  {
   "cell_type": "code",
   "execution_count": 6,
   "metadata": {
    "execution": {
     "iopub.execute_input": "2020-08-21T00:05:50.557280Z",
     "iopub.status.busy": "2020-08-21T00:05:50.556876Z",
     "iopub.status.idle": "2020-08-21T00:05:50.832161Z",
     "shell.execute_reply": "2020-08-21T00:05:50.831238Z"
    },
    "papermill": {
     "duration": 0.298698,
     "end_time": "2020-08-21T00:05:50.832389",
     "exception": false,
     "start_time": "2020-08-21T00:05:50.533691",
     "status": "completed"
    },
    "tags": []
   },
   "outputs": [],
   "source": [
    "test_images = mnist.test_images()\n",
    "test_labels = mnist.test_labels()"
   ]
  },
  {
   "cell_type": "code",
   "execution_count": 7,
   "metadata": {
    "execution": {
     "iopub.execute_input": "2020-08-21T00:05:50.881209Z",
     "iopub.status.busy": "2020-08-21T00:05:50.880737Z",
     "iopub.status.idle": "2020-08-21T00:05:50.896150Z",
     "shell.execute_reply": "2020-08-21T00:05:50.896969Z"
    },
    "papermill": {
     "duration": 0.04008,
     "end_time": "2020-08-21T00:05:50.897195",
     "exception": false,
     "start_time": "2020-08-21T00:05:50.857115",
     "status": "completed"
    },
    "tags": []
   },
   "outputs": [
    {
     "data": {
      "text/plain": [
       "((10000, 28, 28), (10000,))"
      ]
     },
     "execution_count": 7,
     "metadata": {},
     "output_type": "execute_result"
    }
   ],
   "source": [
    "test_images.shape, test_labels.shape"
   ]
  },
  {
   "cell_type": "code",
   "execution_count": 8,
   "metadata": {
    "execution": {
     "iopub.execute_input": "2020-08-21T00:05:50.952019Z",
     "iopub.status.busy": "2020-08-21T00:05:50.951517Z",
     "iopub.status.idle": "2020-08-21T00:05:51.078442Z",
     "shell.execute_reply": "2020-08-21T00:05:51.079086Z"
    },
    "papermill": {
     "duration": 0.157118,
     "end_time": "2020-08-21T00:05:51.079277",
     "exception": false,
     "start_time": "2020-08-21T00:05:50.922159",
     "status": "completed"
    },
    "tags": []
   },
   "outputs": [
    {
     "name": "stdout",
     "output_type": "stream",
     "text": [
      "2\n"
     ]
    },
    {
     "data": {
      "text/plain": [
       "<matplotlib.image.AxesImage at 0x7f33034b1080>"
      ]
     },
     "execution_count": 8,
     "metadata": {},
     "output_type": "execute_result"
    },
    {
     "data": {
      "image/png": "[encoded data removed]",
      "text/plain": [
       "<Figure size 432x288 with 1 Axes>"
      ]
     },
     "metadata": {
      "needs_background": "light"
     },
     "output_type": "display_data"
    }
   ],
   "source": [
    "image_index = 7776 # You may select anything up to 60,000\n",
    "print(train_labels[image_index]) \n",
    "plt.imshow(train_images[image_index], cmap='Greys')"
   ]
  },
  {
   "cell_type": "markdown",
   "metadata": {
    "papermill": {
     "duration": 0.022068,
     "end_time": "2020-08-21T00:05:51.126543",
     "exception": false,
     "start_time": "2020-08-21T00:05:51.104475",
     "status": "completed"
    },
    "tags": []
   },
   "source": [
    "## Filter data to get 3 and 8 out"
   ]
  },
  {
   "cell_type": "code",
   "execution_count": 9,
   "metadata": {
    "execution": {
     "iopub.execute_input": "2020-08-21T00:05:51.182364Z",
     "iopub.status.busy": "2020-08-21T00:05:51.181892Z",
     "iopub.status.idle": "2020-08-21T00:05:51.196357Z",
     "shell.execute_reply": "2020-08-21T00:05:51.196831Z"
    },
    "papermill": {
     "duration": 0.045479,
     "end_time": "2020-08-21T00:05:51.196956",
     "exception": false,
     "start_time": "2020-08-21T00:05:51.151477",
     "status": "completed"
    },
    "tags": []
   },
   "outputs": [],
   "source": [
    "train_filter = np.where((train_labels == 3 ) | (train_labels == 8))\n",
    "test_filter = np.where((test_labels == 3) | (test_labels == 8))\n",
    "X_train, y_train = train_images[train_filter], train_labels[train_filter]\n",
    "X_test, y_test = test_images[test_filter], test_labels[test_filter]"
   ]
  },
  {
   "cell_type": "markdown",
   "metadata": {
    "papermill": {
     "duration": 0.022376,
     "end_time": "2020-08-21T00:05:51.241735",
     "exception": false,
     "start_time": "2020-08-21T00:05:51.219359",
     "status": "completed"
    },
    "tags": []
   },
   "source": [
    "We normalize the pixel values in the 0 to 1 range"
   ]
  },
  {
   "cell_type": "code",
   "execution_count": 10,
   "metadata": {
    "execution": {
     "iopub.execute_input": "2020-08-21T00:05:51.288956Z",
     "iopub.status.busy": "2020-08-21T00:05:51.288474Z",
     "iopub.status.idle": "2020-08-21T00:05:51.334803Z",
     "shell.execute_reply": "2020-08-21T00:05:51.335611Z"
    },
    "papermill": {
     "duration": 0.07175,
     "end_time": "2020-08-21T00:05:51.335899",
     "exception": false,
     "start_time": "2020-08-21T00:05:51.264149",
     "status": "completed"
    },
    "tags": []
   },
   "outputs": [],
   "source": [
    "X_train = X_train/255.\n",
    "X_test = X_test/255."
   ]
  },
  {
   "cell_type": "markdown",
   "metadata": {
    "papermill": {
     "duration": 0.023145,
     "end_time": "2020-08-21T00:05:51.386259",
     "exception": false,
     "start_time": "2020-08-21T00:05:51.363114",
     "status": "completed"
    },
    "tags": []
   },
   "source": [
    "Setup the labels as 1 (when the digit is 3) and 0 (when the digit is 8)"
   ]
  },
  {
   "cell_type": "code",
   "execution_count": 11,
   "metadata": {
    "execution": {
     "iopub.execute_input": "2020-08-21T00:05:51.436744Z",
     "iopub.status.busy": "2020-08-21T00:05:51.436174Z",
     "iopub.status.idle": "2020-08-21T00:05:51.449352Z",
     "shell.execute_reply": "2020-08-21T00:05:51.448686Z"
    },
    "papermill": {
     "duration": 0.039933,
     "end_time": "2020-08-21T00:05:51.449488",
     "exception": false,
     "start_time": "2020-08-21T00:05:51.409555",
     "status": "completed"
    },
    "tags": []
   },
   "outputs": [],
   "source": [
    "y_train = 1*(y_train==3)\n",
    "y_test = 1*(y_test==3)"
   ]
  },
  {
   "cell_type": "code",
   "execution_count": 12,
   "metadata": {
    "execution": {
     "iopub.execute_input": "2020-08-21T00:05:51.501408Z",
     "iopub.status.busy": "2020-08-21T00:05:51.500413Z",
     "iopub.status.idle": "2020-08-21T00:05:51.510412Z",
     "shell.execute_reply": "2020-08-21T00:05:51.510012Z"
    },
    "papermill": {
     "duration": 0.036456,
     "end_time": "2020-08-21T00:05:51.510507",
     "exception": false,
     "start_time": "2020-08-21T00:05:51.474051",
     "status": "completed"
    },
    "tags": []
   },
   "outputs": [
    {
     "data": {
      "text/plain": [
       "((11982, 28, 28), (1984, 28, 28))"
      ]
     },
     "execution_count": 12,
     "metadata": {},
     "output_type": "execute_result"
    }
   ],
   "source": [
    "X_train.shape, X_test.shape"
   ]
  },
  {
   "cell_type": "markdown",
   "metadata": {
    "papermill": {
     "duration": 0.022356,
     "end_time": "2020-08-21T00:05:51.554009",
     "exception": false,
     "start_time": "2020-08-21T00:05:51.531653",
     "status": "completed"
    },
    "tags": []
   },
   "source": [
    "### Reshape the input data to create a linear array"
   ]
  },
  {
   "cell_type": "code",
   "execution_count": 13,
   "metadata": {
    "execution": {
     "iopub.execute_input": "2020-08-21T00:05:51.604484Z",
     "iopub.status.busy": "2020-08-21T00:05:51.604067Z",
     "iopub.status.idle": "2020-08-21T00:05:51.615412Z",
     "shell.execute_reply": "2020-08-21T00:05:51.615742Z"
    },
    "papermill": {
     "duration": 0.038503,
     "end_time": "2020-08-21T00:05:51.615841",
     "exception": false,
     "start_time": "2020-08-21T00:05:51.577338",
     "status": "completed"
    },
    "tags": []
   },
   "outputs": [
    {
     "data": {
      "text/plain": [
       "((11982, 784), (1984, 784))"
      ]
     },
     "execution_count": 13,
     "metadata": {},
     "output_type": "execute_result"
    }
   ],
   "source": [
    "X_train = X_train.reshape(X_train.shape[0], -1)\n",
    "X_test = X_test.reshape(X_test.shape[0], -1)\n",
    "X_train.shape, X_test.shape"
   ]
  },
  {
   "cell_type": "markdown",
   "metadata": {
    "papermill": {
     "duration": 0.021678,
     "end_time": "2020-08-21T00:05:51.659276",
     "exception": false,
     "start_time": "2020-08-21T00:05:51.637598",
     "status": "completed"
    },
    "tags": []
   },
   "source": [
    "### Importing appropriate functions from 'Kudzu'"
   ]
  },
  {
   "cell_type": "code",
   "execution_count": 14,
   "metadata": {
    "execution": {
     "iopub.execute_input": "2020-08-21T00:05:51.708993Z",
     "iopub.status.busy": "2020-08-21T00:05:51.708525Z",
     "iopub.status.idle": "2020-08-21T00:05:51.725105Z",
     "shell.execute_reply": "2020-08-21T00:05:51.725462Z"
    },
    "papermill": {
     "duration": 0.043915,
     "end_time": "2020-08-21T00:05:51.725571",
     "exception": false,
     "start_time": "2020-08-21T00:05:51.681656",
     "status": "completed"
    },
    "tags": []
   },
   "outputs": [],
   "source": [
    "from kudzu.layer import Sigmoid\n",
    "from kudzu.layer import Relu\n",
    "from kudzu.layer import Affine, Sigmoid\n",
    "\n",
    "from kudzu.model import Model\n",
    "from kudzu.train import Learner\n",
    "from kudzu.optim import GD\n",
    "from kudzu.data import Data, Dataloader, Sampler\n",
    "\n",
    "from kudzu.callbacks import AccCallback\n",
    "from kudzu.callbacks import ClfCallback\n",
    "\n",
    "from kudzu.loss import MSE"
   ]
  },
  {
   "cell_type": "markdown",
   "metadata": {
    "papermill": {
     "duration": 0.023841,
     "end_time": "2020-08-21T00:05:51.771807",
     "exception": false,
     "start_time": "2020-08-21T00:05:51.747966",
     "status": "completed"
    },
    "tags": []
   },
   "source": [
    "### Let us create a `Config` class, to store important parameters. \n",
    "This class essentially plays the role of a dictionary."
   ]
  },
  {
   "cell_type": "code",
   "execution_count": 15,
   "metadata": {
    "execution": {
     "iopub.execute_input": "2020-08-21T00:05:52.265448Z",
     "iopub.status.busy": "2020-08-21T00:05:52.264986Z",
     "iopub.status.idle": "2020-08-21T00:05:52.275347Z",
     "shell.execute_reply": "2020-08-21T00:05:52.275750Z"
    },
    "papermill": {
     "duration": 0.216656,
     "end_time": "2020-08-21T00:05:52.275874",
     "exception": false,
     "start_time": "2020-08-21T00:05:52.059218",
     "status": "completed"
    },
    "tags": []
   },
   "outputs": [],
   "source": [
    "class Config:\n",
    "    pass\n",
    "config = Config()\n",
    "config.lr = 0.001\n",
    "config.num_epochs = 251\n",
    "config.bs = 50"
   ]
  },
  {
   "cell_type": "markdown",
   "metadata": {
    "papermill": {
     "duration": 0.204426,
     "end_time": "2020-08-21T00:05:52.874400",
     "exception": false,
     "start_time": "2020-08-21T00:05:52.669974",
     "status": "completed"
    },
    "tags": []
   },
   "source": [
    "### Initializing data to the variables"
   ]
  },
  {
   "cell_type": "code",
   "execution_count": 16,
   "metadata": {
    "execution": {
     "iopub.execute_input": "2020-08-21T00:05:53.040181Z",
     "iopub.status.busy": "2020-08-21T00:05:53.039026Z",
     "iopub.status.idle": "2020-08-21T00:05:53.050216Z",
     "shell.execute_reply": "2020-08-21T00:05:53.049828Z"
    },
    "papermill": {
     "duration": 0.038188,
     "end_time": "2020-08-21T00:05:53.050321",
     "exception": false,
     "start_time": "2020-08-21T00:05:53.012133",
     "status": "completed"
    },
    "tags": []
   },
   "outputs": [],
   "source": [
    "data = Data(X_train, y_train.reshape(-1,1))\n",
    "sampler = Sampler(data, config.bs, shuffle=True)\n",
    "\n",
    "dl = Dataloader(data, sampler)\n",
    "\n",
    "opt = GD(config.lr)\n",
    "loss = MSE()"
   ]
  },
  {
   "cell_type": "code",
   "execution_count": 17,
   "metadata": {
    "execution": {
     "iopub.execute_input": "2020-08-21T00:05:53.101260Z",
     "iopub.status.busy": "2020-08-21T00:05:53.100847Z",
     "iopub.status.idle": "2020-08-21T00:05:53.111041Z",
     "shell.execute_reply": "2020-08-21T00:05:53.111392Z"
    },
    "papermill": {
     "duration": 0.037719,
     "end_time": "2020-08-21T00:05:53.111513",
     "exception": false,
     "start_time": "2020-08-21T00:05:53.073794",
     "status": "completed"
    },
    "tags": []
   },
   "outputs": [],
   "source": [
    "training_xdata = X_train\n",
    "testing_xdata = X_test\n",
    "training_ydata = y_train.reshape(-1,1)\n",
    "testing_ydata = y_test.reshape(-1,1)"
   ]
  },
  {
   "cell_type": "markdown",
   "metadata": {
    "papermill": {
     "duration": 0.021303,
     "end_time": "2020-08-21T00:05:53.155420",
     "exception": false,
     "start_time": "2020-08-21T00:05:53.134117",
     "status": "completed"
    },
    "tags": []
   },
   "source": [
    "### Running Models with the Training data\n",
    "Details about the network layers:\n",
    "- A first affine layer has 784 inputs and does 100 affine transforms. These are followed by a Relu\n",
    "- A second affine layer has 100 inputs from the 100 activations of the past layer, and does 100 affine transforms. These are followed by a Relu\n",
    "- A third affine layer has 100 activations and does 2 affine transformations to create an embedding for visualization. There is no non-linearity here.\n",
    "- A final \"logistic regression\" which has an affine transform from 2 inputs to 1 output, which is squeezed through a sigmoid.\n",
    "\n",
    "Help taken from Anshuman's Notebook."
   ]
  },
  {
   "cell_type": "code",
   "execution_count": 18,
   "metadata": {
    "execution": {
     "iopub.execute_input": "2020-08-21T00:05:53.209632Z",
     "iopub.status.busy": "2020-08-21T00:05:53.209054Z",
     "iopub.status.idle": "2020-08-21T00:05:53.227453Z",
     "shell.execute_reply": "2020-08-21T00:05:53.228115Z"
    },
    "papermill": {
     "duration": 0.050149,
     "end_time": "2020-08-21T00:05:53.228287",
     "exception": false,
     "start_time": "2020-08-21T00:05:53.178138",
     "status": "completed"
    },
    "tags": []
   },
   "outputs": [],
   "source": [
    "# layers for the Neural Network\n",
    "layers = [Affine(\"first\", 784, 100), Relu(\"first\"), Affine(\"second\", 100, 100), Relu(\"second\"), Affine(\"third\", 100, 2), Affine(\"final\", 2, 1), Sigmoid(\"final\")]\n",
    "model_nn = Model(layers)\n",
    "\n",
    "# layers for the Logistic Regression\n",
    "layers_lr = [Affine(\"logits\", 784, 1), Sigmoid(\"sigmoid\")]\n",
    "model_lr = Model(layers_lr)"
   ]
  },
  {
   "cell_type": "code",
   "execution_count": 19,
   "metadata": {
    "execution": {
     "iopub.execute_input": "2020-08-21T00:05:53.282937Z",
     "iopub.status.busy": "2020-08-21T00:05:53.282361Z",
     "iopub.status.idle": "2020-08-21T00:05:53.294663Z",
     "shell.execute_reply": "2020-08-21T00:05:53.294280Z"
    },
    "papermill": {
     "duration": 0.040624,
     "end_time": "2020-08-21T00:05:53.294764",
     "exception": false,
     "start_time": "2020-08-21T00:05:53.254140",
     "status": "completed"
    },
    "tags": []
   },
   "outputs": [],
   "source": [
    "# suffix _nn stands for Neural Network.\n",
    "learner_nn = Learner(loss, model_nn, opt, config.num_epochs)\n",
    "acc_nn = ClfCallback(learner_nn, config.bs, training_xdata , testing_xdata, training_ydata, testing_ydata)\n",
    "learner_nn.set_callbacks([acc_nn])"
   ]
  },
  {
   "cell_type": "code",
   "execution_count": 20,
   "metadata": {
    "execution": {
     "iopub.execute_input": "2020-08-21T00:05:53.344580Z",
     "iopub.status.busy": "2020-08-21T00:05:53.344113Z",
     "iopub.status.idle": "2020-08-21T00:07:09.039651Z",
     "shell.execute_reply": "2020-08-21T00:07:09.040395Z"
    },
    "papermill": {
     "duration": 75.723615,
     "end_time": "2020-08-21T00:07:09.040546",
     "exception": false,
     "start_time": "2020-08-21T00:05:53.316931",
     "status": "completed"
    },
    "tags": []
   },
   "outputs": [
    {
     "name": "stdout",
     "output_type": "stream",
     "text": [
      "====== Neural Network ======\n"
     ]
    },
    {
     "name": "stdout",
     "output_type": "stream",
     "text": [
      "Epoch 0, Loss 0.2482\n",
      "Training Accuracy: 0.6266, Testing Accuracy: 0.6119\n",
      "\n"
     ]
    },
    {
     "name": "stdout",
     "output_type": "stream",
     "text": [
      "Epoch 10, Loss 0.1251\n",
      "Training Accuracy: 0.8864, Testing Accuracy: 0.9032\n",
      "\n"
     ]
    },
    {
     "name": "stdout",
     "output_type": "stream",
     "text": [
      "Epoch 20, Loss 0.0702\n",
      "Training Accuracy: 0.9268, Testing Accuracy: 0.9370\n",
      "\n"
     ]
    },
    {
     "name": "stdout",
     "output_type": "stream",
     "text": [
      "Epoch 30, Loss 0.0515\n",
      "Training Accuracy: 0.9457, Testing Accuracy: 0.9506\n",
      "\n"
     ]
    },
    {
     "name": "stdout",
     "output_type": "stream",
     "text": [
      "Epoch 40, Loss 0.043\n",
      "Training Accuracy: 0.9519, Testing Accuracy: 0.9582\n",
      "\n"
     ]
    },
    {
     "name": "stdout",
     "output_type": "stream",
     "text": [
      "Epoch 50, Loss 0.0383\n",
      "Training Accuracy: 0.9569, Testing Accuracy: 0.9632\n",
      "\n"
     ]
    },
    {
     "name": "stdout",
     "output_type": "stream",
     "text": [
      "Epoch 60, Loss 0.0353\n",
      "Training Accuracy: 0.9604, Testing Accuracy: 0.9667\n",
      "\n"
     ]
    },
    {
     "name": "stdout",
     "output_type": "stream",
     "text": [
      "Epoch 70, Loss 0.0331\n",
      "Training Accuracy: 0.9631, Testing Accuracy: 0.9667\n",
      "\n"
     ]
    },
    {
     "name": "stdout",
     "output_type": "stream",
     "text": [
      "Epoch 80, Loss 0.0315\n",
      "Training Accuracy: 0.9639, Testing Accuracy: 0.9682\n",
      "\n"
     ]
    },
    {
     "name": "stdout",
     "output_type": "stream",
     "text": [
      "Epoch 90, Loss 0.0301\n",
      "Training Accuracy: 0.9656, Testing Accuracy: 0.9682\n",
      "\n"
     ]
    },
    {
     "name": "stdout",
     "output_type": "stream",
     "text": [
      "Epoch 100, Loss 0.029\n",
      "Training Accuracy: 0.9670, Testing Accuracy: 0.9693\n",
      "\n"
     ]
    },
    {
     "name": "stdout",
     "output_type": "stream",
     "text": [
      "Epoch 110, Loss 0.0281\n",
      "Training Accuracy: 0.9679, Testing Accuracy: 0.9698\n",
      "\n"
     ]
    },
    {
     "name": "stdout",
     "output_type": "stream",
     "text": [
      "Epoch 120, Loss 0.0272\n",
      "Training Accuracy: 0.9689, Testing Accuracy: 0.9693\n",
      "\n"
     ]
    },
    {
     "name": "stdout",
     "output_type": "stream",
     "text": [
      "Epoch 130, Loss 0.0265\n",
      "Training Accuracy: 0.9695, Testing Accuracy: 0.9703\n",
      "\n"
     ]
    },
    {
     "name": "stdout",
     "output_type": "stream",
     "text": [
      "Epoch 140, Loss 0.0258\n",
      "Training Accuracy: 0.9704, Testing Accuracy: 0.9703\n",
      "\n"
     ]
    },
    {
     "name": "stdout",
     "output_type": "stream",
     "text": [
      "Epoch 150, Loss 0.0252\n",
      "Training Accuracy: 0.9711, Testing Accuracy: 0.9698\n",
      "\n"
     ]
    },
    {
     "name": "stdout",
     "output_type": "stream",
     "text": [
      "Epoch 160, Loss 0.0246\n",
      "Training Accuracy: 0.9720, Testing Accuracy: 0.9713\n",
      "\n"
     ]
    },
    {
     "name": "stdout",
     "output_type": "stream",
     "text": [
      "Epoch 170, Loss 0.024\n",
      "Training Accuracy: 0.9728, Testing Accuracy: 0.9713\n",
      "\n"
     ]
    },
    {
     "name": "stdout",
     "output_type": "stream",
     "text": [
      "Epoch 180, Loss 0.0235\n",
      "Training Accuracy: 0.9730, Testing Accuracy: 0.9718\n",
      "\n"
     ]
    },
    {
     "name": "stdout",
     "output_type": "stream",
     "text": [
      "Epoch 190, Loss 0.023\n",
      "Training Accuracy: 0.9735, Testing Accuracy: 0.9723\n",
      "\n"
     ]
    },
    {
     "name": "stdout",
     "output_type": "stream",
     "text": [
      "Epoch 200, Loss 0.0226\n",
      "Training Accuracy: 0.9741, Testing Accuracy: 0.9728\n",
      "\n"
     ]
    },
    {
     "name": "stdout",
     "output_type": "stream",
     "text": [
      "Epoch 210, Loss 0.0221\n",
      "Training Accuracy: 0.9749, Testing Accuracy: 0.9733\n",
      "\n"
     ]
    },
    {
     "name": "stdout",
     "output_type": "stream",
     "text": [
      "Epoch 220, Loss 0.0217\n",
      "Training Accuracy: 0.9753, Testing Accuracy: 0.9733\n",
      "\n"
     ]
    },
    {
     "name": "stdout",
     "output_type": "stream",
     "text": [
      "Epoch 230, Loss 0.0213\n",
      "Training Accuracy: 0.9756, Testing Accuracy: 0.9733\n",
      "\n"
     ]
    },
    {
     "name": "stdout",
     "output_type": "stream",
     "text": [
      "Epoch 240, Loss 0.0209\n",
      "Training Accuracy: 0.9764, Testing Accuracy: 0.9733\n",
      "\n"
     ]
    },
    {
     "name": "stdout",
     "output_type": "stream",
     "text": [
      "Epoch 250, Loss 0.0205\n",
      "Training Accuracy: 0.9770, Testing Accuracy: 0.9733\n",
      "\n"
     ]
    },
    {
     "data": {
      "text/plain": [
       "0.002383200112579539"
      ]
     },
     "execution_count": 20,
     "metadata": {},
     "output_type": "execute_result"
    }
   ],
   "source": [
    "print(\"====== Neural Network ======\")\n",
    "learner_nn.train_loop(dl)"
   ]
  },
  {
   "cell_type": "markdown",
   "metadata": {
    "papermill": {
     "duration": 0.030505,
     "end_time": "2020-08-21T00:07:09.105368",
     "exception": false,
     "start_time": "2020-08-21T00:07:09.074863",
     "status": "completed"
    },
    "tags": []
   },
   "source": [
    "### Logistic Regression based Implementation."
   ]
  },
  {
   "cell_type": "code",
   "execution_count": 21,
   "metadata": {
    "execution": {
     "iopub.execute_input": "2020-08-21T00:07:09.168119Z",
     "iopub.status.busy": "2020-08-21T00:07:09.167582Z",
     "iopub.status.idle": "2020-08-21T00:07:09.177230Z",
     "shell.execute_reply": "2020-08-21T00:07:09.177566Z"
    },
    "papermill": {
     "duration": 0.043121,
     "end_time": "2020-08-21T00:07:09.177674",
     "exception": false,
     "start_time": "2020-08-21T00:07:09.134553",
     "status": "completed"
    },
    "tags": []
   },
   "outputs": [],
   "source": [
    "learner_lr = Learner(loss, model_lr, opt, config.num_epochs)\n",
    "acc_lr = ClfCallback(learner_lr, config.bs, training_xdata , testing_xdata, training_ydata, testing_ydata)\n",
    "learner_lr.set_callbacks([acc_lr])"
   ]
  },
  {
   "cell_type": "code",
   "execution_count": 22,
   "metadata": {
    "execution": {
     "iopub.execute_input": "2020-08-21T00:07:09.238362Z",
     "iopub.status.busy": "2020-08-21T00:07:09.237904Z",
     "iopub.status.idle": "2020-08-21T00:07:22.823399Z",
     "shell.execute_reply": "2020-08-21T00:07:22.822586Z"
    },
    "papermill": {
     "duration": 13.617474,
     "end_time": "2020-08-21T00:07:22.823556",
     "exception": false,
     "start_time": "2020-08-21T00:07:09.206082",
     "status": "completed"
    },
    "tags": []
   },
   "outputs": [
    {
     "name": "stdout",
     "output_type": "stream",
     "text": [
      "====== Logistic Regression ======\n",
      "Epoch 0, Loss 0.2363\n",
      "Training Accuracy: 0.6933, Testing Accuracy: 0.6825\n",
      "\n"
     ]
    },
    {
     "name": "stdout",
     "output_type": "stream",
     "text": [
      "Epoch 10, Loss 0.1032\n",
      "Training Accuracy: 0.9113, Testing Accuracy: 0.9219\n",
      "\n"
     ]
    },
    {
     "name": "stdout",
     "output_type": "stream",
     "text": [
      "Epoch 20, Loss 0.079\n",
      "Training Accuracy: 0.9286, Testing Accuracy: 0.9400\n",
      "\n"
     ]
    },
    {
     "name": "stdout",
     "output_type": "stream",
     "text": [
      "Epoch 30, Loss 0.0679\n",
      "Training Accuracy: 0.9358, Testing Accuracy: 0.9461\n",
      "\n"
     ]
    },
    {
     "name": "stdout",
     "output_type": "stream",
     "text": [
      "Epoch 40, Loss 0.0612\n",
      "Training Accuracy: 0.9413, Testing Accuracy: 0.9536\n",
      "\n"
     ]
    },
    {
     "name": "stdout",
     "output_type": "stream",
     "text": [
      "Epoch 50, Loss 0.0567\n",
      "Training Accuracy: 0.9460, Testing Accuracy: 0.9546\n",
      "\n"
     ]
    },
    {
     "name": "stdout",
     "output_type": "stream",
     "text": [
      "Epoch 60, Loss 0.0534\n",
      "Training Accuracy: 0.9485, Testing Accuracy: 0.9577\n",
      "\n"
     ]
    },
    {
     "name": "stdout",
     "output_type": "stream",
     "text": [
      "Epoch 70, Loss 0.0508\n",
      "Training Accuracy: 0.9496, Testing Accuracy: 0.9597\n",
      "\n"
     ]
    },
    {
     "name": "stdout",
     "output_type": "stream",
     "text": [
      "Epoch 80, Loss 0.0488\n",
      "Training Accuracy: 0.9508, Testing Accuracy: 0.9617\n",
      "\n"
     ]
    },
    {
     "name": "stdout",
     "output_type": "stream",
     "text": [
      "Epoch 90, Loss 0.0471\n",
      "Training Accuracy: 0.9520, Testing Accuracy: 0.9632\n",
      "\n"
     ]
    },
    {
     "name": "stdout",
     "output_type": "stream",
     "text": [
      "Epoch 100, Loss 0.0457\n",
      "Training Accuracy: 0.9532, Testing Accuracy: 0.9642\n",
      "\n"
     ]
    },
    {
     "name": "stdout",
     "output_type": "stream",
     "text": [
      "Epoch 110, Loss 0.0445\n",
      "Training Accuracy: 0.9541, Testing Accuracy: 0.9642\n",
      "\n"
     ]
    },
    {
     "name": "stdout",
     "output_type": "stream",
     "text": [
      "Epoch 120, Loss 0.0434\n",
      "Training Accuracy: 0.9548, Testing Accuracy: 0.9647\n",
      "\n"
     ]
    },
    {
     "name": "stdout",
     "output_type": "stream",
     "text": [
      "Epoch 130, Loss 0.0425\n",
      "Training Accuracy: 0.9556, Testing Accuracy: 0.9647\n",
      "\n"
     ]
    },
    {
     "name": "stdout",
     "output_type": "stream",
     "text": [
      "Epoch 140, Loss 0.0417\n",
      "Training Accuracy: 0.9564, Testing Accuracy: 0.9662\n",
      "\n"
     ]
    },
    {
     "name": "stdout",
     "output_type": "stream",
     "text": [
      "Epoch 150, Loss 0.041\n",
      "Training Accuracy: 0.9570, Testing Accuracy: 0.9657\n",
      "\n"
     ]
    },
    {
     "name": "stdout",
     "output_type": "stream",
     "text": [
      "Epoch 160, Loss 0.0403\n",
      "Training Accuracy: 0.9580, Testing Accuracy: 0.9662\n",
      "\n"
     ]
    },
    {
     "name": "stdout",
     "output_type": "stream",
     "text": [
      "Epoch 170, Loss 0.0397\n",
      "Training Accuracy: 0.9584, Testing Accuracy: 0.9667\n",
      "\n"
     ]
    },
    {
     "name": "stdout",
     "output_type": "stream",
     "text": [
      "Epoch 180, Loss 0.0392\n",
      "Training Accuracy: 0.9589, Testing Accuracy: 0.9667\n",
      "\n"
     ]
    },
    {
     "name": "stdout",
     "output_type": "stream",
     "text": [
      "Epoch 190, Loss 0.0387\n",
      "Training Accuracy: 0.9591, Testing Accuracy: 0.9672\n",
      "\n"
     ]
    },
    {
     "name": "stdout",
     "output_type": "stream",
     "text": [
      "Epoch 200, Loss 0.0382\n",
      "Training Accuracy: 0.9594, Testing Accuracy: 0.9672\n",
      "\n"
     ]
    },
    {
     "name": "stdout",
     "output_type": "stream",
     "text": [
      "Epoch 210, Loss 0.0378\n",
      "Training Accuracy: 0.9599, Testing Accuracy: 0.9672\n",
      "\n"
     ]
    },
    {
     "name": "stdout",
     "output_type": "stream",
     "text": [
      "Epoch 220, Loss 0.0373\n",
      "Training Accuracy: 0.9602, Testing Accuracy: 0.9662\n",
      "\n"
     ]
    },
    {
     "name": "stdout",
     "output_type": "stream",
     "text": [
      "Epoch 230, Loss 0.037\n",
      "Training Accuracy: 0.9604, Testing Accuracy: 0.9662\n",
      "\n"
     ]
    },
    {
     "name": "stdout",
     "output_type": "stream",
     "text": [
      "Epoch 240, Loss 0.0366\n",
      "Training Accuracy: 0.9607, Testing Accuracy: 0.9667\n",
      "\n"
     ]
    },
    {
     "name": "stdout",
     "output_type": "stream",
     "text": [
      "Epoch 250, Loss 0.0363\n",
      "Training Accuracy: 0.9609, Testing Accuracy: 0.9667\n",
      "\n"
     ]
    },
    {
     "data": {
      "text/plain": [
       "0.049766761304762486"
      ]
     },
     "execution_count": 22,
     "metadata": {},
     "output_type": "execute_result"
    }
   ],
   "source": [
    "print(\"====== Logistic Regression ======\")\n",
    "learner_lr.train_loop(dl)"
   ]
  },
  {
   "cell_type": "markdown",
   "metadata": {
    "papermill": {
     "duration": 0.035956,
     "end_time": "2020-08-21T00:07:22.901979",
     "exception": false,
     "start_time": "2020-08-21T00:07:22.866023",
     "status": "completed"
    },
    "tags": []
   },
   "source": [
    "### Comparing results of NN and LR"
   ]
  },
  {
   "cell_type": "code",
   "execution_count": 23,
   "metadata": {
    "execution": {
     "iopub.execute_input": "2020-08-21T00:07:22.983711Z",
     "iopub.status.busy": "2020-08-21T00:07:22.982669Z",
     "iopub.status.idle": "2020-08-21T00:07:23.188465Z",
     "shell.execute_reply": "2020-08-21T00:07:23.188863Z"
    },
    "papermill": {
     "duration": 0.248392,
     "end_time": "2020-08-21T00:07:23.188995",
     "exception": false,
     "start_time": "2020-08-21T00:07:22.940603",
     "status": "completed"
    },
    "tags": []
   },
   "outputs": [
    {
     "data": {
      "text/plain": [
       "<matplotlib.legend.Legend at 0x7f32fe8df7f0>"
      ]
     },
     "execution_count": 23,
     "metadata": {},
     "output_type": "execute_result"
    },
    {
     "data": {
      "image/png": "[encoded data removed]",
      "text/plain": [
       "<Figure size 1080x720 with 1 Axes>"
      ]
     },
     "metadata": {
      "needs_background": "light"
     },
     "output_type": "display_data"
    }
   ],
   "source": [
    "plt.figure(figsize=(15,10))\n",
    "\n",
    "# Neural Network plots\n",
    "plt.plot(acc_nn.accuracies, 'r-', label = \"Training Accuracies - NN\")\n",
    "plt.plot(acc_nn.test_accuracies, 'g-', label = \"Testing Accuracies - NN\")\n",
    "\n",
    "# Logistic Regression plots\n",
    "plt.plot(acc_lr.accuracies, 'k-', label = \"Training Accuracies - LR\")\n",
    "plt.plot(acc_lr.test_accuracies, 'b-', label = \"Testing Accuracies - LR\")\n",
    "\n",
    "plt.ylim(0.8, 1)\n",
    "\n",
    "plt.legend()\n",
    "\n"
   ]
  },
  {
   "cell_type": "markdown",
   "metadata": {
    "papermill": {
     "duration": 0.037148,
     "end_time": "2020-08-21T00:07:23.261894",
     "exception": false,
     "start_time": "2020-08-21T00:07:23.224746",
     "status": "completed"
    },
    "tags": []
   },
   "source": [
    "### From the plot, we can observe the following:\n",
    "- Neural Network achieves higher accuracy than the Logistic Regression model.\n",
    "- This apparently, is because of overfitting, i.e. NN captures more noise than data.\n",
    "- Testing accuracy of NN drops below the Training accuracy at higher epochs. This explains the over-fitting on training data.\n",
    "- Logistic Regression gives a reliable accuracy, without the above mentioned problem.\n"
   ]
  },
  {
   "cell_type": "markdown",
   "metadata": {
    "papermill": {
     "duration": 0.037139,
     "end_time": "2020-08-21T00:07:23.335873",
     "exception": false,
     "start_time": "2020-08-21T00:07:23.298734",
     "status": "completed"
    },
    "tags": []
   },
   "source": [
    "### Moving till the last but one layer (excluding it).\n",
    "#### Plotting the outputs of this layer of the NN."
   ]
  },
  {
   "cell_type": "code",
   "execution_count": 24,
   "metadata": {
    "execution": {
     "iopub.execute_input": "2020-08-21T00:07:23.417420Z",
     "iopub.status.busy": "2020-08-21T00:07:23.416880Z",
     "iopub.status.idle": "2020-08-21T00:07:23.431000Z",
     "shell.execute_reply": "2020-08-21T00:07:23.430524Z"
    },
    "papermill": {
     "duration": 0.05716,
     "end_time": "2020-08-21T00:07:23.431099",
     "exception": false,
     "start_time": "2020-08-21T00:07:23.373939",
     "status": "completed"
    },
    "tags": []
   },
   "outputs": [],
   "source": [
    "model_new = Model(layers[:-2])"
   ]
  },
  {
   "cell_type": "code",
   "execution_count": 25,
   "metadata": {
    "execution": {
     "iopub.execute_input": "2020-08-21T00:07:23.507871Z",
     "iopub.status.busy": "2020-08-21T00:07:23.507383Z",
     "iopub.status.idle": "2020-08-21T00:07:23.527922Z",
     "shell.execute_reply": "2020-08-21T00:07:23.528311Z"
    },
    "papermill": {
     "duration": 0.062062,
     "end_time": "2020-08-21T00:07:23.528430",
     "exception": false,
     "start_time": "2020-08-21T00:07:23.466368",
     "status": "completed"
    },
    "tags": []
   },
   "outputs": [],
   "source": [
    "plot_testing = model_new(testing_xdata)"
   ]
  },
  {
   "cell_type": "code",
   "execution_count": 26,
   "metadata": {
    "execution": {
     "iopub.execute_input": "2020-08-21T00:07:23.616749Z",
     "iopub.status.busy": "2020-08-21T00:07:23.616340Z",
     "iopub.status.idle": "2020-08-21T00:07:23.792225Z",
     "shell.execute_reply": "2020-08-21T00:07:23.791699Z"
    },
    "papermill": {
     "duration": 0.22508,
     "end_time": "2020-08-21T00:07:23.792344",
     "exception": false,
     "start_time": "2020-08-21T00:07:23.567264",
     "status": "completed"
    },
    "tags": []
   },
   "outputs": [
    {
     "data": {
      "text/plain": [
       "Text(0.5, 1.0, 'Outputs')"
      ]
     },
     "execution_count": 26,
     "metadata": {},
     "output_type": "execute_result"
    },
    {
     "data": {
      "image/png": "[encoded data removed]",
      "text/plain": [
       "<Figure size 576x504 with 1 Axes>"
      ]
     },
     "metadata": {
      "needs_background": "light"
     },
     "output_type": "display_data"
    }
   ],
   "source": [
    "plt.figure(figsize=(8,7))\n",
    "plt.scatter(plot_testing[:,0], plot_testing[:,1], alpha = 0.1, c = y_test.ravel());\n",
    "plt.title('Outputs')"
   ]
  },
  {
   "cell_type": "markdown",
   "metadata": {
    "papermill": {
     "duration": 0.039892,
     "end_time": "2020-08-21T00:07:23.875381",
     "exception": false,
     "start_time": "2020-08-21T00:07:23.835489",
     "status": "completed"
    },
    "tags": []
   },
   "source": [
    "### Plotting probability contours"
   ]
  },
  {
   "cell_type": "code",
   "execution_count": 27,
   "metadata": {
    "execution": {
     "iopub.execute_input": "2020-08-21T00:07:23.957500Z",
     "iopub.status.busy": "2020-08-21T00:07:23.957095Z",
     "iopub.status.idle": "2020-08-21T00:07:23.968686Z",
     "shell.execute_reply": "2020-08-21T00:07:23.969043Z"
    },
    "papermill": {
     "duration": 0.05533,
     "end_time": "2020-08-21T00:07:23.969158",
     "exception": false,
     "start_time": "2020-08-21T00:07:23.913828",
     "status": "completed"
    },
    "tags": []
   },
   "outputs": [],
   "source": [
    "model_prob = Model(layers[-2:]) "
   ]
  },
  {
   "cell_type": "code",
   "execution_count": 28,
   "metadata": {
    "execution": {
     "iopub.execute_input": "2020-08-21T00:07:24.052425Z",
     "iopub.status.busy": "2020-08-21T00:07:24.051962Z",
     "iopub.status.idle": "2020-08-21T00:07:24.078228Z",
     "shell.execute_reply": "2020-08-21T00:07:24.078708Z"
    },
    "papermill": {
     "duration": 0.07156,
     "end_time": "2020-08-21T00:07:24.078862",
     "exception": false,
     "start_time": "2020-08-21T00:07:24.007302",
     "status": "completed"
    },
    "tags": []
   },
   "outputs": [],
   "source": [
    "# Adjust the x and y ranges according to the above generated plot.\n",
    "x_range = np.linspace(-4, 1, 100) \n",
    "y_range = np.linspace(-6, 6, 100) \n",
    "x_grid, y_grid = np.meshgrid(x_range, y_range) # x_grid and y_grig are of size 100 X 100\n",
    "\n",
    "# converting x_grid and y_grid to continuous arrays\n",
    "x_grid_flat = np.ravel(x_grid)\n",
    "y_grid_flat = np.ravel(y_grid)\n",
    "\n",
    "# The last layer of the current model takes two columns as input. Hence transpose of np.vstack() is required.\n",
    "X = np.vstack((x_grid_flat, y_grid_flat)).T\n",
    "\n",
    "# x_grid and y_grid are of size 100 x 100\n",
    "probability_contour = model_prob(X).reshape(100,100) "
   ]
  },
  {
   "cell_type": "code",
   "execution_count": 29,
   "metadata": {
    "execution": {
     "iopub.execute_input": "2020-08-21T00:07:24.180995Z",
     "iopub.status.busy": "2020-08-21T00:07:24.180469Z",
     "iopub.status.idle": "2020-08-21T00:07:24.405979Z",
     "shell.execute_reply": "2020-08-21T00:07:24.406422Z"
    },
    "papermill": {
     "duration": 0.280863,
     "end_time": "2020-08-21T00:07:24.406590",
     "exception": false,
     "start_time": "2020-08-21T00:07:24.125727",
     "status": "completed"
    },
    "tags": []
   },
   "outputs": [
    {
     "data": {
      "image/png": "[encoded data removed]",
      "text/plain": [
       "<Figure size 720x648 with 1 Axes>"
      ]
     },
     "metadata": {
      "needs_background": "light"
     },
     "output_type": "display_data"
    }
   ],
   "source": [
    "plt.figure(figsize=(10,9))\n",
    "plt.scatter(plot_testing[:,0], plot_testing[:,1], alpha = 0.1, c = y_test.ravel())\n",
    "contours = plt.contour(x_grid,y_grid,probability_contour)\n",
    "plt.title('Probability Contours')\n",
    "plt.clabel(contours, inline = True );"
   ]
  }
 ],
 "metadata": {
  "kernelspec": {
   "display_name": "Python 3",
   "language": "python",
   "name": "python3"
  },
  "language_info": {
   "codemirror_mode": {
    "name": "ipython",
    "version": 3
   },
   "file_extension": ".py",
   "mimetype": "text/x-python",
   "name": "python",
   "nbconvert_exporter": "python",
   "pygments_lexer": "ipython3",
   "version": "3.6.11"
  },
  "papermill": {
   "duration": 98.051811,
   "end_time": "2020-08-21T00:07:24.768639",
   "environment_variables": {},
   "exception": null,
   "input_path": "2020-08-11-NeuralNetwork.ipynb",
   "output_path": "2020-08-11-NeuralNetwork.ipynb",
   "parameters": {},
   "start_time": "2020-08-21T00:05:46.716828",
   "version": "2.1.2"
  }
 },
 "nbformat": 4,
 "nbformat_minor": 4
}