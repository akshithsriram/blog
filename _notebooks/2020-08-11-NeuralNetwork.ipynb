{
 "cells": [
  {
   "cell_type": "markdown",
   "id": "fitted-suggestion",
   "metadata": {
    "papermill": {
     "duration": 0.039354,
     "end_time": "2021-02-13T00:06:28.482407",
     "exception": false,
     "start_time": "2021-02-13T00:06:28.443053",
     "status": "completed"
    },
    "tags": []
   },
   "source": [
    "# \"A Basic Neural Network: Differentiate Hand-Written Digits\"\n",
    "\n",
    "- badges: true\n",
    "- author: Akshith Sriram"
   ]
  },
  {
   "cell_type": "markdown",
   "id": "signal-flexibility",
   "metadata": {
    "papermill": {
     "duration": 0.035892,
     "end_time": "2021-02-13T00:06:28.552046",
     "exception": false,
     "start_time": "2021-02-13T00:06:28.516154",
     "status": "completed"
    },
    "tags": []
   },
   "source": [
    "### Key Objectives:\n",
    "- Building a neural network that differentiates two hand-written digits 3 and 8.\n",
    "- Comparing the results of this Neural Network (NN) to that of a Logistic Regression (LR) model.\n",
    "\n",
    "### Requirements:\n",
    "- 'Kudzu' : A neural network library that was designed during our course by [Univ.AI](www.univ.ai). \n",
    "- MNIST Database\n",
    "\n",
    "If MNIST is not installed, use the command `!pip install mnist` given below.\n",
    "It can be run both from the command line and Jupyter Notebook."
   ]
  },
  {
   "cell_type": "code",
   "execution_count": 1,
   "id": "british-texture",
   "metadata": {
    "execution": {
     "iopub.execute_input": "2021-02-13T00:06:28.629803Z",
     "iopub.status.busy": "2021-02-13T00:06:28.629034Z",
     "iopub.status.idle": "2021-02-13T00:06:30.346000Z",
     "shell.execute_reply": "2021-02-13T00:06:30.346649Z"
    },
    "papermill": {
     "duration": 1.759732,
     "end_time": "2021-02-13T00:06:30.346846",
     "exception": false,
     "start_time": "2021-02-13T00:06:28.587114",
     "status": "completed"
    },
    "tags": []
   },
   "outputs": [
    {
     "name": "stdout",
     "output_type": "stream",
     "text": [
      "Collecting mnist\r\n"
     ]
    },
    {
     "name": "stdout",
     "output_type": "stream",
     "text": [
      "  Downloading mnist-0.2.2-py2.py3-none-any.whl (3.5 kB)\r\n",
      "Requirement already satisfied: numpy in /opt/hostedtoolcache/Python/3.6.12/x64/lib/python3.6/site-packages (from mnist) (1.19.5)\r\n"
     ]
    },
    {
     "name": "stdout",
     "output_type": "stream",
     "text": [
      "Installing collected packages: mnist\r\n"
     ]
    },
    {
     "name": "stdout",
     "output_type": "stream",
     "text": [
      "Successfully installed mnist-0.2.2\r\n"
     ]
    }
   ],
   "source": [
    "!pip install mnist "
   ]
  },
  {
   "cell_type": "markdown",
   "id": "stunning-extra",
   "metadata": {
    "papermill": {
     "duration": 0.033764,
     "end_time": "2021-02-13T00:06:30.416710",
     "exception": false,
     "start_time": "2021-02-13T00:06:30.382946",
     "status": "completed"
    },
    "tags": []
   },
   "source": [
    "#### Importing necessary libraries"
   ]
  },
  {
   "cell_type": "code",
   "execution_count": 2,
   "id": "wooden-france",
   "metadata": {
    "execution": {
     "iopub.execute_input": "2021-02-13T00:06:30.494589Z",
     "iopub.status.busy": "2021-02-13T00:06:30.493853Z",
     "iopub.status.idle": "2021-02-13T00:06:31.160236Z",
     "shell.execute_reply": "2021-02-13T00:06:31.161054Z"
    },
    "papermill": {
     "duration": 0.710985,
     "end_time": "2021-02-13T00:06:31.161257",
     "exception": false,
     "start_time": "2021-02-13T00:06:30.450272",
     "status": "completed"
    },
    "tags": []
   },
   "outputs": [],
   "source": [
    "%load_ext autoreload\n",
    "%autoreload 2\n",
    "\n",
    "%matplotlib inline\n",
    "import matplotlib.pyplot as plt\n",
    "\n",
    "import numpy as np\n",
    "import pandas as pd"
   ]
  },
  {
   "cell_type": "markdown",
   "id": "stunning-physics",
   "metadata": {
    "papermill": {
     "duration": 0.035124,
     "end_time": "2021-02-13T00:06:31.240707",
     "exception": false,
     "start_time": "2021-02-13T00:06:31.205583",
     "status": "completed"
    },
    "tags": []
   },
   "source": [
    "### Preparing the Data"
   ]
  },
  {
   "cell_type": "code",
   "execution_count": 3,
   "id": "unauthorized-remainder",
   "metadata": {
    "execution": {
     "iopub.execute_input": "2021-02-13T00:06:31.336605Z",
     "iopub.status.busy": "2021-02-13T00:06:31.335920Z",
     "iopub.status.idle": "2021-02-13T00:06:31.354371Z",
     "shell.execute_reply": "2021-02-13T00:06:31.353588Z"
    },
    "papermill": {
     "duration": 0.073677,
     "end_time": "2021-02-13T00:06:31.354532",
     "exception": false,
     "start_time": "2021-02-13T00:06:31.280855",
     "status": "completed"
    },
    "tags": []
   },
   "outputs": [],
   "source": [
    "import mnist"
   ]
  },
  {
   "cell_type": "code",
   "execution_count": 4,
   "id": "correct-antarctica",
   "metadata": {
    "execution": {
     "iopub.execute_input": "2021-02-13T00:06:31.455173Z",
     "iopub.status.busy": "2021-02-13T00:06:31.454353Z",
     "iopub.status.idle": "2021-02-13T00:06:32.226893Z",
     "shell.execute_reply": "2021-02-13T00:06:32.226301Z"
    },
    "papermill": {
     "duration": 0.834907,
     "end_time": "2021-02-13T00:06:32.227076",
     "exception": false,
     "start_time": "2021-02-13T00:06:31.392169",
     "status": "completed"
    },
    "tags": []
   },
   "outputs": [],
   "source": [
    "train_images = mnist.train_images()\n",
    "train_labels = mnist.train_labels()"
   ]
  },
  {
   "cell_type": "code",
   "execution_count": 5,
   "id": "musical-prospect",
   "metadata": {
    "execution": {
     "iopub.execute_input": "2021-02-13T00:06:32.306365Z",
     "iopub.status.busy": "2021-02-13T00:06:32.305676Z",
     "iopub.status.idle": "2021-02-13T00:06:32.323849Z",
     "shell.execute_reply": "2021-02-13T00:06:32.323178Z"
    },
    "papermill": {
     "duration": 0.059489,
     "end_time": "2021-02-13T00:06:32.324051",
     "exception": false,
     "start_time": "2021-02-13T00:06:32.264562",
     "status": "completed"
    },
    "tags": []
   },
   "outputs": [
    {
     "data": {
      "text/plain": [
       "((60000, 28, 28), (60000,))"
      ]
     },
     "execution_count": 5,
     "metadata": {},
     "output_type": "execute_result"
    }
   ],
   "source": [
    "train_images.shape, train_labels.shape"
   ]
  },
  {
   "cell_type": "code",
   "execution_count": 6,
   "id": "preliminary-elizabeth",
   "metadata": {
    "execution": {
     "iopub.execute_input": "2021-02-13T00:06:32.403977Z",
     "iopub.status.busy": "2021-02-13T00:06:32.402180Z",
     "iopub.status.idle": "2021-02-13T00:06:32.718680Z",
     "shell.execute_reply": "2021-02-13T00:06:32.718029Z"
    },
    "papermill": {
     "duration": 0.358177,
     "end_time": "2021-02-13T00:06:32.718838",
     "exception": false,
     "start_time": "2021-02-13T00:06:32.360661",
     "status": "completed"
    },
    "tags": []
   },
   "outputs": [],
   "source": [
    "test_images = mnist.test_images()\n",
    "test_labels = mnist.test_labels()"
   ]
  },
  {
   "cell_type": "code",
   "execution_count": 7,
   "id": "acknowledged-oxygen",
   "metadata": {
    "execution": {
     "iopub.execute_input": "2021-02-13T00:06:32.796141Z",
     "iopub.status.busy": "2021-02-13T00:06:32.795175Z",
     "iopub.status.idle": "2021-02-13T00:06:32.812362Z",
     "shell.execute_reply": "2021-02-13T00:06:32.813226Z"
    },
    "papermill": {
     "duration": 0.058764,
     "end_time": "2021-02-13T00:06:32.813497",
     "exception": false,
     "start_time": "2021-02-13T00:06:32.754733",
     "status": "completed"
    },
    "tags": []
   },
   "outputs": [
    {
     "data": {
      "text/plain": [
       "((10000, 28, 28), (10000,))"
      ]
     },
     "execution_count": 7,
     "metadata": {},
     "output_type": "execute_result"
    }
   ],
   "source": [
    "test_images.shape, test_labels.shape"
   ]
  },
  {
   "cell_type": "code",
   "execution_count": 8,
   "id": "innovative-organic",
   "metadata": {
    "execution": {
     "iopub.execute_input": "2021-02-13T00:06:32.890475Z",
     "iopub.status.busy": "2021-02-13T00:06:32.889803Z",
     "iopub.status.idle": "2021-02-13T00:06:33.078824Z",
     "shell.execute_reply": "2021-02-13T00:06:33.078196Z"
    },
    "papermill": {
     "duration": 0.228316,
     "end_time": "2021-02-13T00:06:33.078968",
     "exception": false,
     "start_time": "2021-02-13T00:06:32.850652",
     "status": "completed"
    },
    "tags": []
   },
   "outputs": [
    {
     "name": "stdout",
     "output_type": "stream",
     "text": [
      "2\n"
     ]
    },
    {
     "data": {
      "text/plain": [
       "<matplotlib.image.AxesImage at 0x7fc249c98ef0>"
      ]
     },
     "execution_count": 8,
     "metadata": {},
     "output_type": "execute_result"
    },
    {
     "data": {
      "image/png": "[encoded data removed]",
      "text/plain": [
       "<Figure size 432x288 with 1 Axes>"
      ]
     },
     "metadata": {
      "needs_background": "light"
     },
     "output_type": "display_data"
    }
   ],
   "source": [
    "image_index = 7776 # You may select anything up to 60,000\n",
    "print(train_labels[image_index]) \n",
    "plt.imshow(train_images[image_index], cmap='Greys')"
   ]
  },
  {
   "cell_type": "markdown",
   "id": "facial-modem",
   "metadata": {
    "papermill": {
     "duration": 0.036436,
     "end_time": "2021-02-13T00:06:33.152421",
     "exception": false,
     "start_time": "2021-02-13T00:06:33.115985",
     "status": "completed"
    },
    "tags": []
   },
   "source": [
    "## Filter data to get 3 and 8 out"
   ]
  },
  {
   "cell_type": "code",
   "execution_count": 9,
   "id": "thousand-acquisition",
   "metadata": {
    "execution": {
     "iopub.execute_input": "2021-02-13T00:06:33.237026Z",
     "iopub.status.busy": "2021-02-13T00:06:33.236352Z",
     "iopub.status.idle": "2021-02-13T00:06:33.258146Z",
     "shell.execute_reply": "2021-02-13T00:06:33.257158Z"
    },
    "papermill": {
     "duration": 0.068837,
     "end_time": "2021-02-13T00:06:33.258578",
     "exception": false,
     "start_time": "2021-02-13T00:06:33.189741",
     "status": "completed"
    },
    "tags": []
   },
   "outputs": [],
   "source": [
    "train_filter = np.where((train_labels == 3 ) | (train_labels == 8))\n",
    "test_filter = np.where((test_labels == 3) | (test_labels == 8))\n",
    "X_train, y_train = train_images[train_filter], train_labels[train_filter]\n",
    "X_test, y_test = test_images[test_filter], test_labels[test_filter]"
   ]
  },
  {
   "cell_type": "markdown",
   "id": "ruled-access",
   "metadata": {
    "papermill": {
     "duration": 0.041294,
     "end_time": "2021-02-13T00:06:33.340834",
     "exception": false,
     "start_time": "2021-02-13T00:06:33.299540",
     "status": "completed"
    },
    "tags": []
   },
   "source": [
    "We normalize the pixel values in the 0 to 1 range"
   ]
  },
  {
   "cell_type": "code",
   "execution_count": 10,
   "id": "isolated-denver",
   "metadata": {
    "execution": {
     "iopub.execute_input": "2021-02-13T00:06:33.419553Z",
     "iopub.status.busy": "2021-02-13T00:06:33.418863Z",
     "iopub.status.idle": "2021-02-13T00:06:33.482357Z",
     "shell.execute_reply": "2021-02-13T00:06:33.481659Z"
    },
    "papermill": {
     "duration": 0.104864,
     "end_time": "2021-02-13T00:06:33.482515",
     "exception": false,
     "start_time": "2021-02-13T00:06:33.377651",
     "status": "completed"
    },
    "tags": []
   },
   "outputs": [],
   "source": [
    "X_train = X_train/255.\n",
    "X_test = X_test/255."
   ]
  },
  {
   "cell_type": "markdown",
   "id": "perfect-summary",
   "metadata": {
    "papermill": {
     "duration": 0.036712,
     "end_time": "2021-02-13T00:06:33.557277",
     "exception": false,
     "start_time": "2021-02-13T00:06:33.520565",
     "status": "completed"
    },
    "tags": []
   },
   "source": [
    "Setup the labels as 1 (when the digit is 3) and 0 (when the digit is 8)"
   ]
  },
  {
   "cell_type": "code",
   "execution_count": 11,
   "id": "personalized-growing",
   "metadata": {
    "execution": {
     "iopub.execute_input": "2021-02-13T00:06:33.637991Z",
     "iopub.status.busy": "2021-02-13T00:06:33.637326Z",
     "iopub.status.idle": "2021-02-13T00:06:33.648329Z",
     "shell.execute_reply": "2021-02-13T00:06:33.647777Z"
    },
    "papermill": {
     "duration": 0.055631,
     "end_time": "2021-02-13T00:06:33.648500",
     "exception": false,
     "start_time": "2021-02-13T00:06:33.592869",
     "status": "completed"
    },
    "tags": []
   },
   "outputs": [],
   "source": [
    "y_train = 1*(y_train==3)\n",
    "y_test = 1*(y_test==3)"
   ]
  },
  {
   "cell_type": "code",
   "execution_count": 12,
   "id": "considered-virgin",
   "metadata": {
    "execution": {
     "iopub.execute_input": "2021-02-13T00:06:33.730183Z",
     "iopub.status.busy": "2021-02-13T00:06:33.728555Z",
     "iopub.status.idle": "2021-02-13T00:06:33.744231Z",
     "shell.execute_reply": "2021-02-13T00:06:33.744841Z"
    },
    "papermill": {
     "duration": 0.058539,
     "end_time": "2021-02-13T00:06:33.744999",
     "exception": false,
     "start_time": "2021-02-13T00:06:33.686460",
     "status": "completed"
    },
    "tags": []
   },
   "outputs": [
    {
     "data": {
      "text/plain": [
       "((11982, 28, 28), (1984, 28, 28))"
      ]
     },
     "execution_count": 12,
     "metadata": {},
     "output_type": "execute_result"
    }
   ],
   "source": [
    "X_train.shape, X_test.shape"
   ]
  },
  {
   "cell_type": "markdown",
   "id": "civilian-mobile",
   "metadata": {
    "papermill": {
     "duration": 0.045406,
     "end_time": "2021-02-13T00:06:33.830052",
     "exception": false,
     "start_time": "2021-02-13T00:06:33.784646",
     "status": "completed"
    },
    "tags": []
   },
   "source": [
    "### Reshape the input data to create a linear array"
   ]
  },
  {
   "cell_type": "code",
   "execution_count": 13,
   "id": "colonial-adams",
   "metadata": {
    "execution": {
     "iopub.execute_input": "2021-02-13T00:06:33.914733Z",
     "iopub.status.busy": "2021-02-13T00:06:33.914034Z",
     "iopub.status.idle": "2021-02-13T00:06:33.927950Z",
     "shell.execute_reply": "2021-02-13T00:06:33.927329Z"
    },
    "papermill": {
     "duration": 0.05868,
     "end_time": "2021-02-13T00:06:33.928092",
     "exception": false,
     "start_time": "2021-02-13T00:06:33.869412",
     "status": "completed"
    },
    "tags": []
   },
   "outputs": [
    {
     "data": {
      "text/plain": [
       "((11982, 784), (1984, 784))"
      ]
     },
     "execution_count": 13,
     "metadata": {},
     "output_type": "execute_result"
    }
   ],
   "source": [
    "X_train = X_train.reshape(X_train.shape[0], -1)\n",
    "X_test = X_test.reshape(X_test.shape[0], -1)\n",
    "X_train.shape, X_test.shape"
   ]
  },
  {
   "cell_type": "markdown",
   "id": "smart-details",
   "metadata": {
    "papermill": {
     "duration": 0.038697,
     "end_time": "2021-02-13T00:06:34.004564",
     "exception": false,
     "start_time": "2021-02-13T00:06:33.965867",
     "status": "completed"
    },
    "tags": []
   },
   "source": [
    "### Importing appropriate functions from 'Kudzu'"
   ]
  },
  {
   "cell_type": "code",
   "execution_count": 14,
   "id": "celtic-trial",
   "metadata": {
    "execution": {
     "iopub.execute_input": "2021-02-13T00:06:34.086840Z",
     "iopub.status.busy": "2021-02-13T00:06:34.086158Z",
     "iopub.status.idle": "2021-02-13T00:06:34.106647Z",
     "shell.execute_reply": "2021-02-13T00:06:34.106040Z"
    },
    "papermill": {
     "duration": 0.065167,
     "end_time": "2021-02-13T00:06:34.106788",
     "exception": false,
     "start_time": "2021-02-13T00:06:34.041621",
     "status": "completed"
    },
    "tags": []
   },
   "outputs": [],
   "source": [
    "from kudzu.layer import Sigmoid\n",
    "from kudzu.layer import Relu\n",
    "from kudzu.layer import Affine, Sigmoid\n",
    "\n",
    "from kudzu.model import Model\n",
    "from kudzu.train import Learner\n",
    "from kudzu.optim import GD\n",
    "from kudzu.data import Data, Dataloader, Sampler\n",
    "\n",
    "from kudzu.callbacks import AccCallback\n",
    "from kudzu.callbacks import ClfCallback\n",
    "\n",
    "from kudzu.loss import MSE"
   ]
  },
  {
   "cell_type": "markdown",
   "id": "coupled-customer",
   "metadata": {
    "papermill": {
     "duration": 0.03859,
     "end_time": "2021-02-13T00:06:34.183696",
     "exception": false,
     "start_time": "2021-02-13T00:06:34.145106",
     "status": "completed"
    },
    "tags": []
   },
   "source": [
    "### Let us create a `Config` class, to store important parameters. \n",
    "This class essentially plays the role of a dictionary."
   ]
  },
  {
   "cell_type": "code",
   "execution_count": 15,
   "id": "young-ceiling",
   "metadata": {
    "execution": {
     "iopub.execute_input": "2021-02-13T00:06:34.264278Z",
     "iopub.status.busy": "2021-02-13T00:06:34.263461Z",
     "iopub.status.idle": "2021-02-13T00:06:34.276358Z",
     "shell.execute_reply": "2021-02-13T00:06:34.276979Z"
    },
    "papermill": {
     "duration": 0.05553,
     "end_time": "2021-02-13T00:06:34.277189",
     "exception": false,
     "start_time": "2021-02-13T00:06:34.221659",
     "status": "completed"
    },
    "tags": []
   },
   "outputs": [],
   "source": [
    "class Config:\n",
    "    pass\n",
    "config = Config()\n",
    "config.lr = 0.001\n",
    "config.num_epochs = 251\n",
    "config.bs = 50"
   ]
  },
  {
   "cell_type": "markdown",
   "id": "according-mandate",
   "metadata": {
    "papermill": {
     "duration": 0.039207,
     "end_time": "2021-02-13T00:06:34.355228",
     "exception": false,
     "start_time": "2021-02-13T00:06:34.316021",
     "status": "completed"
    },
    "tags": []
   },
   "source": [
    "### Initializing data to the variables"
   ]
  },
  {
   "cell_type": "code",
   "execution_count": 16,
   "id": "academic-disposition",
   "metadata": {
    "execution": {
     "iopub.execute_input": "2021-02-13T00:06:34.438084Z",
     "iopub.status.busy": "2021-02-13T00:06:34.437373Z",
     "iopub.status.idle": "2021-02-13T00:06:34.450695Z",
     "shell.execute_reply": "2021-02-13T00:06:34.451422Z"
    },
    "papermill": {
     "duration": 0.057725,
     "end_time": "2021-02-13T00:06:34.451581",
     "exception": false,
     "start_time": "2021-02-13T00:06:34.393856",
     "status": "completed"
    },
    "tags": []
   },
   "outputs": [],
   "source": [
    "data = Data(X_train, y_train.reshape(-1,1))\n",
    "sampler = Sampler(data, config.bs, shuffle=True)\n",
    "\n",
    "dl = Dataloader(data, sampler)\n",
    "\n",
    "opt = GD(config.lr)\n",
    "loss = MSE()"
   ]
  },
  {
   "cell_type": "code",
   "execution_count": 17,
   "id": "featured-commission",
   "metadata": {
    "execution": {
     "iopub.execute_input": "2021-02-13T00:06:34.544155Z",
     "iopub.status.busy": "2021-02-13T00:06:34.535612Z",
     "iopub.status.idle": "2021-02-13T00:06:34.549120Z",
     "shell.execute_reply": "2021-02-13T00:06:34.549681Z"
    },
    "papermill": {
     "duration": 0.060402,
     "end_time": "2021-02-13T00:06:34.549847",
     "exception": false,
     "start_time": "2021-02-13T00:06:34.489445",
     "status": "completed"
    },
    "tags": []
   },
   "outputs": [],
   "source": [
    "training_xdata = X_train\n",
    "testing_xdata = X_test\n",
    "training_ydata = y_train.reshape(-1,1)\n",
    "testing_ydata = y_test.reshape(-1,1)"
   ]
  },
  {
   "cell_type": "markdown",
   "id": "played-safety",
   "metadata": {
    "papermill": {
     "duration": 0.03819,
     "end_time": "2021-02-13T00:06:34.626026",
     "exception": false,
     "start_time": "2021-02-13T00:06:34.587836",
     "status": "completed"
    },
    "tags": []
   },
   "source": [
    "### Running Models with the Training data\n",
    "Details about the network layers:\n",
    "- A first affine layer has 784 inputs and does 100 affine transforms. These are followed by a Relu\n",
    "- A second affine layer has 100 inputs from the 100 activations of the past layer, and does 100 affine transforms. These are followed by a Relu\n",
    "- A third affine layer has 100 activations and does 2 affine transformations to create an embedding for visualization. There is no non-linearity here.\n",
    "- A final \"logistic regression\" which has an affine transform from 2 inputs to 1 output, which is squeezed through a sigmoid.\n",
    "\n",
    "Help taken from Anshuman's Notebook."
   ]
  },
  {
   "cell_type": "code",
   "execution_count": 18,
   "id": "asian-bankruptcy",
   "metadata": {
    "execution": {
     "iopub.execute_input": "2021-02-13T00:06:34.709949Z",
     "iopub.status.busy": "2021-02-13T00:06:34.709227Z",
     "iopub.status.idle": "2021-02-13T00:06:34.727678Z",
     "shell.execute_reply": "2021-02-13T00:06:34.727002Z"
    },
    "papermill": {
     "duration": 0.062918,
     "end_time": "2021-02-13T00:06:34.727836",
     "exception": false,
     "start_time": "2021-02-13T00:06:34.664918",
     "status": "completed"
    },
    "tags": []
   },
   "outputs": [],
   "source": [
    "# layers for the Neural Network\n",
    "layers = [Affine(\"first\", 784, 100), Relu(\"first\"), Affine(\"second\", 100, 100), Relu(\"second\"), Affine(\"third\", 100, 2), Affine(\"final\", 2, 1), Sigmoid(\"final\")]\n",
    "model_nn = Model(layers)\n",
    "\n",
    "# layers for the Logistic Regression\n",
    "layers_lr = [Affine(\"logits\", 784, 1), Sigmoid(\"sigmoid\")]\n",
    "model_lr = Model(layers_lr)"
   ]
  },
  {
   "cell_type": "code",
   "execution_count": 19,
   "id": "removed-butler",
   "metadata": {
    "execution": {
     "iopub.execute_input": "2021-02-13T00:06:34.810599Z",
     "iopub.status.busy": "2021-02-13T00:06:34.809897Z",
     "iopub.status.idle": "2021-02-13T00:06:34.822958Z",
     "shell.execute_reply": "2021-02-13T00:06:34.822363Z"
    },
    "papermill": {
     "duration": 0.057555,
     "end_time": "2021-02-13T00:06:34.823106",
     "exception": false,
     "start_time": "2021-02-13T00:06:34.765551",
     "status": "completed"
    },
    "tags": []
   },
   "outputs": [],
   "source": [
    "# suffix _nn stands for Neural Network.\n",
    "learner_nn = Learner(loss, model_nn, opt, config.num_epochs)\n",
    "acc_nn = ClfCallback(learner_nn, config.bs, training_xdata , testing_xdata, training_ydata, testing_ydata)\n",
    "learner_nn.set_callbacks([acc_nn])"
   ]
  },
  {
   "cell_type": "code",
   "execution_count": 20,
   "id": "conceptual-throw",
   "metadata": {
    "execution": {
     "iopub.execute_input": "2021-02-13T00:06:34.907928Z",
     "iopub.status.busy": "2021-02-13T00:06:34.907201Z",
     "iopub.status.idle": "2021-02-13T00:08:59.266321Z",
     "shell.execute_reply": "2021-02-13T00:08:59.267215Z"
    },
    "papermill": {
     "duration": 144.404296,
     "end_time": "2021-02-13T00:08:59.267398",
     "exception": false,
     "start_time": "2021-02-13T00:06:34.863102",
     "status": "completed"
    },
    "tags": []
   },
   "outputs": [
    {
     "name": "stdout",
     "output_type": "stream",
     "text": [
      "====== Neural Network ======\n"
     ]
    },
    {
     "name": "stdout",
     "output_type": "stream",
     "text": [
      "Epoch 0, Loss 0.2469\n",
      "Training Accuracy: 0.6960, Testing Accuracy: 0.7268\n",
      "\n"
     ]
    },
    {
     "name": "stdout",
     "output_type": "stream",
     "text": [
      "Epoch 10, Loss 0.0685\n",
      "Training Accuracy: 0.9277, Testing Accuracy: 0.9370\n",
      "\n"
     ]
    },
    {
     "name": "stdout",
     "output_type": "stream",
     "text": [
      "Epoch 20, Loss 0.0462\n",
      "Training Accuracy: 0.9496, Testing Accuracy: 0.9572\n",
      "\n"
     ]
    },
    {
     "name": "stdout",
     "output_type": "stream",
     "text": [
      "Epoch 30, Loss 0.0378\n",
      "Training Accuracy: 0.9583, Testing Accuracy: 0.9637\n",
      "\n"
     ]
    },
    {
     "name": "stdout",
     "output_type": "stream",
     "text": [
      "Epoch 40, Loss 0.0332\n",
      "Training Accuracy: 0.9629, Testing Accuracy: 0.9693\n",
      "\n"
     ]
    },
    {
     "name": "stdout",
     "output_type": "stream",
     "text": [
      "Epoch 50, Loss 0.0304\n",
      "Training Accuracy: 0.9659, Testing Accuracy: 0.9718\n",
      "\n"
     ]
    },
    {
     "name": "stdout",
     "output_type": "stream",
     "text": [
      "Epoch 60, Loss 0.0283\n",
      "Training Accuracy: 0.9677, Testing Accuracy: 0.9723\n",
      "\n"
     ]
    },
    {
     "name": "stdout",
     "output_type": "stream",
     "text": [
      "Epoch 70, Loss 0.0268\n",
      "Training Accuracy: 0.9695, Testing Accuracy: 0.9733\n",
      "\n"
     ]
    },
    {
     "name": "stdout",
     "output_type": "stream",
     "text": [
      "Epoch 80, Loss 0.0255\n",
      "Training Accuracy: 0.9711, Testing Accuracy: 0.9728\n",
      "\n"
     ]
    },
    {
     "name": "stdout",
     "output_type": "stream",
     "text": [
      "Epoch 90, Loss 0.0244\n",
      "Training Accuracy: 0.9721, Testing Accuracy: 0.9738\n",
      "\n"
     ]
    },
    {
     "name": "stdout",
     "output_type": "stream",
     "text": [
      "Epoch 100, Loss 0.0235\n",
      "Training Accuracy: 0.9730, Testing Accuracy: 0.9753\n",
      "\n"
     ]
    },
    {
     "name": "stdout",
     "output_type": "stream",
     "text": [
      "Epoch 110, Loss 0.0226\n",
      "Training Accuracy: 0.9742, Testing Accuracy: 0.9753\n",
      "\n"
     ]
    },
    {
     "name": "stdout",
     "output_type": "stream",
     "text": [
      "Epoch 120, Loss 0.0219\n",
      "Training Accuracy: 0.9753, Testing Accuracy: 0.9753\n",
      "\n"
     ]
    },
    {
     "name": "stdout",
     "output_type": "stream",
     "text": [
      "Epoch 130, Loss 0.0212\n",
      "Training Accuracy: 0.9759, Testing Accuracy: 0.9753\n",
      "\n"
     ]
    },
    {
     "name": "stdout",
     "output_type": "stream",
     "text": [
      "Epoch 140, Loss 0.0206\n",
      "Training Accuracy: 0.9765, Testing Accuracy: 0.9758\n",
      "\n"
     ]
    },
    {
     "name": "stdout",
     "output_type": "stream",
     "text": [
      "Epoch 150, Loss 0.02\n",
      "Training Accuracy: 0.9774, Testing Accuracy: 0.9758\n",
      "\n"
     ]
    },
    {
     "name": "stdout",
     "output_type": "stream",
     "text": [
      "Epoch 160, Loss 0.0195\n",
      "Training Accuracy: 0.9786, Testing Accuracy: 0.9758\n",
      "\n"
     ]
    },
    {
     "name": "stdout",
     "output_type": "stream",
     "text": [
      "Epoch 170, Loss 0.0189\n",
      "Training Accuracy: 0.9793, Testing Accuracy: 0.9758\n",
      "\n"
     ]
    },
    {
     "name": "stdout",
     "output_type": "stream",
     "text": [
      "Epoch 180, Loss 0.0184\n",
      "Training Accuracy: 0.9801, Testing Accuracy: 0.9758\n",
      "\n"
     ]
    },
    {
     "name": "stdout",
     "output_type": "stream",
     "text": [
      "Epoch 190, Loss 0.018\n",
      "Training Accuracy: 0.9809, Testing Accuracy: 0.9768\n",
      "\n"
     ]
    },
    {
     "name": "stdout",
     "output_type": "stream",
     "text": [
      "Epoch 200, Loss 0.0175\n",
      "Training Accuracy: 0.9816, Testing Accuracy: 0.9753\n",
      "\n"
     ]
    },
    {
     "name": "stdout",
     "output_type": "stream",
     "text": [
      "Epoch 210, Loss 0.0171\n",
      "Training Accuracy: 0.9821, Testing Accuracy: 0.9763\n",
      "\n"
     ]
    },
    {
     "name": "stdout",
     "output_type": "stream",
     "text": [
      "Epoch 220, Loss 0.0167\n",
      "Training Accuracy: 0.9826, Testing Accuracy: 0.9758\n",
      "\n"
     ]
    },
    {
     "name": "stdout",
     "output_type": "stream",
     "text": [
      "Epoch 230, Loss 0.0163\n",
      "Training Accuracy: 0.9830, Testing Accuracy: 0.9763\n",
      "\n"
     ]
    },
    {
     "name": "stdout",
     "output_type": "stream",
     "text": [
      "Epoch 240, Loss 0.0159\n",
      "Training Accuracy: 0.9835, Testing Accuracy: 0.9763\n",
      "\n"
     ]
    },
    {
     "name": "stdout",
     "output_type": "stream",
     "text": [
      "Epoch 250, Loss 0.0155\n",
      "Training Accuracy: 0.9838, Testing Accuracy: 0.9778\n",
      "\n"
     ]
    },
    {
     "data": {
      "text/plain": [
       "0.002508688041591295"
      ]
     },
     "execution_count": 20,
     "metadata": {},
     "output_type": "execute_result"
    }
   ],
   "source": [
    "print(\"====== Neural Network ======\")\n",
    "learner_nn.train_loop(dl)"
   ]
  },
  {
   "cell_type": "markdown",
   "id": "competent-suffering",
   "metadata": {
    "papermill": {
     "duration": 0.048331,
     "end_time": "2021-02-13T00:08:59.362052",
     "exception": false,
     "start_time": "2021-02-13T00:08:59.313721",
     "status": "completed"
    },
    "tags": []
   },
   "source": [
    "### Logistic Regression based Implementation."
   ]
  },
  {
   "cell_type": "code",
   "execution_count": 21,
   "id": "qualified-psychiatry",
   "metadata": {
    "execution": {
     "iopub.execute_input": "2021-02-13T00:08:59.466279Z",
     "iopub.status.busy": "2021-02-13T00:08:59.464411Z",
     "iopub.status.idle": "2021-02-13T00:08:59.479528Z",
     "shell.execute_reply": "2021-02-13T00:08:59.478726Z"
    },
    "papermill": {
     "duration": 0.068998,
     "end_time": "2021-02-13T00:08:59.479673",
     "exception": false,
     "start_time": "2021-02-13T00:08:59.410675",
     "status": "completed"
    },
    "tags": []
   },
   "outputs": [],
   "source": [
    "learner_lr = Learner(loss, model_lr, opt, config.num_epochs)\n",
    "acc_lr = ClfCallback(learner_lr, config.bs, training_xdata , testing_xdata, training_ydata, testing_ydata)\n",
    "learner_lr.set_callbacks([acc_lr])"
   ]
  },
  {
   "cell_type": "code",
   "execution_count": 22,
   "id": "average-outside",
   "metadata": {
    "execution": {
     "iopub.execute_input": "2021-02-13T00:08:59.591333Z",
     "iopub.status.busy": "2021-02-13T00:08:59.588858Z",
     "iopub.status.idle": "2021-02-13T00:09:21.183698Z",
     "shell.execute_reply": "2021-02-13T00:09:21.182612Z"
    },
    "papermill": {
     "duration": 21.651947,
     "end_time": "2021-02-13T00:09:21.183845",
     "exception": false,
     "start_time": "2021-02-13T00:08:59.531898",
     "status": "completed"
    },
    "tags": []
   },
   "outputs": [
    {
     "name": "stdout",
     "output_type": "stream",
     "text": [
      "====== Logistic Regression ======\n",
      "Epoch 0, Loss 0.2379\n",
      "Training Accuracy: 0.6897, Testing Accuracy: 0.7056\n",
      "\n"
     ]
    },
    {
     "name": "stdout",
     "output_type": "stream",
     "text": [
      "Epoch 10, Loss 0.1038\n",
      "Training Accuracy: 0.9062, Testing Accuracy: 0.9158\n",
      "\n"
     ]
    },
    {
     "name": "stdout",
     "output_type": "stream",
     "text": [
      "Epoch 20, Loss 0.0798\n",
      "Training Accuracy: 0.9260, Testing Accuracy: 0.9380\n",
      "\n"
     ]
    },
    {
     "name": "stdout",
     "output_type": "stream",
     "text": [
      "Epoch 30, Loss 0.0686\n",
      "Training Accuracy: 0.9345, Testing Accuracy: 0.9420\n",
      "\n"
     ]
    },
    {
     "name": "stdout",
     "output_type": "stream",
     "text": [
      "Epoch 40, Loss 0.0619\n",
      "Training Accuracy: 0.9394, Testing Accuracy: 0.9496\n",
      "\n"
     ]
    },
    {
     "name": "stdout",
     "output_type": "stream",
     "text": [
      "Epoch 50, Loss 0.0574\n",
      "Training Accuracy: 0.9428, Testing Accuracy: 0.9551\n",
      "\n"
     ]
    },
    {
     "name": "stdout",
     "output_type": "stream",
     "text": [
      "Epoch 60, Loss 0.054\n",
      "Training Accuracy: 0.9450, Testing Accuracy: 0.9561\n",
      "\n"
     ]
    },
    {
     "name": "stdout",
     "output_type": "stream",
     "text": [
      "Epoch 70, Loss 0.0514\n",
      "Training Accuracy: 0.9468, Testing Accuracy: 0.9582\n",
      "\n"
     ]
    },
    {
     "name": "stdout",
     "output_type": "stream",
     "text": [
      "Epoch 80, Loss 0.0493\n",
      "Training Accuracy: 0.9488, Testing Accuracy: 0.9597\n",
      "\n"
     ]
    },
    {
     "name": "stdout",
     "output_type": "stream",
     "text": [
      "Epoch 90, Loss 0.0476\n",
      "Training Accuracy: 0.9505, Testing Accuracy: 0.9612\n",
      "\n"
     ]
    },
    {
     "name": "stdout",
     "output_type": "stream",
     "text": [
      "Epoch 100, Loss 0.0462\n",
      "Training Accuracy: 0.9523, Testing Accuracy: 0.9632\n",
      "\n"
     ]
    },
    {
     "name": "stdout",
     "output_type": "stream",
     "text": [
      "Epoch 110, Loss 0.045\n",
      "Training Accuracy: 0.9531, Testing Accuracy: 0.9622\n",
      "\n"
     ]
    },
    {
     "name": "stdout",
     "output_type": "stream",
     "text": [
      "Epoch 120, Loss 0.0439\n",
      "Training Accuracy: 0.9539, Testing Accuracy: 0.9632\n",
      "\n"
     ]
    },
    {
     "name": "stdout",
     "output_type": "stream",
     "text": [
      "Epoch 130, Loss 0.0429\n",
      "Training Accuracy: 0.9549, Testing Accuracy: 0.9637\n",
      "\n"
     ]
    },
    {
     "name": "stdout",
     "output_type": "stream",
     "text": [
      "Epoch 140, Loss 0.0421\n",
      "Training Accuracy: 0.9561, Testing Accuracy: 0.9637\n",
      "\n"
     ]
    },
    {
     "name": "stdout",
     "output_type": "stream",
     "text": [
      "Epoch 150, Loss 0.0414\n",
      "Training Accuracy: 0.9565, Testing Accuracy: 0.9637\n",
      "\n"
     ]
    },
    {
     "name": "stdout",
     "output_type": "stream",
     "text": [
      "Epoch 160, Loss 0.0407\n",
      "Training Accuracy: 0.9569, Testing Accuracy: 0.9647\n",
      "\n"
     ]
    },
    {
     "name": "stdout",
     "output_type": "stream",
     "text": [
      "Epoch 170, Loss 0.0401\n",
      "Training Accuracy: 0.9574, Testing Accuracy: 0.9652\n",
      "\n"
     ]
    },
    {
     "name": "stdout",
     "output_type": "stream",
     "text": [
      "Epoch 180, Loss 0.0395\n",
      "Training Accuracy: 0.9576, Testing Accuracy: 0.9657\n",
      "\n"
     ]
    },
    {
     "name": "stdout",
     "output_type": "stream",
     "text": [
      "Epoch 190, Loss 0.039\n",
      "Training Accuracy: 0.9580, Testing Accuracy: 0.9662\n",
      "\n"
     ]
    },
    {
     "name": "stdout",
     "output_type": "stream",
     "text": [
      "Epoch 200, Loss 0.0385\n",
      "Training Accuracy: 0.9588, Testing Accuracy: 0.9667\n",
      "\n"
     ]
    },
    {
     "name": "stdout",
     "output_type": "stream",
     "text": [
      "Epoch 210, Loss 0.038\n",
      "Training Accuracy: 0.9592, Testing Accuracy: 0.9672\n",
      "\n"
     ]
    },
    {
     "name": "stdout",
     "output_type": "stream",
     "text": [
      "Epoch 220, Loss 0.0376\n",
      "Training Accuracy: 0.9595, Testing Accuracy: 0.9672\n",
      "\n"
     ]
    },
    {
     "name": "stdout",
     "output_type": "stream",
     "text": [
      "Epoch 230, Loss 0.0372\n",
      "Training Accuracy: 0.9597, Testing Accuracy: 0.9672\n",
      "\n"
     ]
    },
    {
     "name": "stdout",
     "output_type": "stream",
     "text": [
      "Epoch 240, Loss 0.0369\n",
      "Training Accuracy: 0.9600, Testing Accuracy: 0.9672\n",
      "\n"
     ]
    },
    {
     "name": "stdout",
     "output_type": "stream",
     "text": [
      "Epoch 250, Loss 0.0365\n",
      "Training Accuracy: 0.9603, Testing Accuracy: 0.9672\n",
      "\n"
     ]
    },
    {
     "data": {
      "text/plain": [
       "0.04710490846405195"
      ]
     },
     "execution_count": 22,
     "metadata": {},
     "output_type": "execute_result"
    }
   ],
   "source": [
    "print(\"====== Logistic Regression ======\")\n",
    "learner_lr.train_loop(dl)"
   ]
  },
  {
   "cell_type": "markdown",
   "id": "adjusted-possible",
   "metadata": {
    "papermill": {
     "duration": 0.05901,
     "end_time": "2021-02-13T00:09:21.298994",
     "exception": false,
     "start_time": "2021-02-13T00:09:21.239984",
     "status": "completed"
    },
    "tags": []
   },
   "source": [
    "### Comparing results of NN and LR"
   ]
  },
  {
   "cell_type": "code",
   "execution_count": 23,
   "id": "mental-multimedia",
   "metadata": {
    "execution": {
     "iopub.execute_input": "2021-02-13T00:09:21.422112Z",
     "iopub.status.busy": "2021-02-13T00:09:21.421401Z",
     "iopub.status.idle": "2021-02-13T00:09:21.712568Z",
     "shell.execute_reply": "2021-02-13T00:09:21.711875Z"
    },
    "papermill": {
     "duration": 0.357612,
     "end_time": "2021-02-13T00:09:21.712714",
     "exception": false,
     "start_time": "2021-02-13T00:09:21.355102",
     "status": "completed"
    },
    "tags": []
   },
   "outputs": [
    {
     "data": {
      "text/plain": [
       "<matplotlib.legend.Legend at 0x7fc23c46bbe0>"
      ]
     },
     "execution_count": 23,
     "metadata": {},
     "output_type": "execute_result"
    },
    {
     "data": {
      "image/png": "[encoded data removed]",
      "text/plain": [
       "<Figure size 1080x720 with 1 Axes>"
      ]
     },
     "metadata": {
      "needs_background": "light"
     },
     "output_type": "display_data"
    }
   ],
   "source": [
    "plt.figure(figsize=(15,10))\n",
    "\n",
    "# Neural Network plots\n",
    "plt.plot(acc_nn.accuracies, 'r-', label = \"Training Accuracies - NN\")\n",
    "plt.plot(acc_nn.test_accuracies, 'g-', label = \"Testing Accuracies - NN\")\n",
    "\n",
    "# Logistic Regression plots\n",
    "plt.plot(acc_lr.accuracies, 'k-', label = \"Training Accuracies - LR\")\n",
    "plt.plot(acc_lr.test_accuracies, 'b-', label = \"Testing Accuracies - LR\")\n",
    "\n",
    "plt.ylim(0.8, 1)\n",
    "\n",
    "plt.legend()\n",
    "\n"
   ]
  },
  {
   "cell_type": "markdown",
   "id": "sexual-flesh",
   "metadata": {
    "papermill": {
     "duration": 0.05809,
     "end_time": "2021-02-13T00:09:21.829730",
     "exception": false,
     "start_time": "2021-02-13T00:09:21.771640",
     "status": "completed"
    },
    "tags": []
   },
   "source": [
    "### From the plot, we can observe the following:\n",
    "- Neural Network achieves higher accuracy than the Logistic Regression model.\n",
    "- This apparently, is because of overfitting, i.e. NN captures more noise than data.\n",
    "- Testing accuracy of NN drops below the Training accuracy at higher epochs. This explains the over-fitting on training data.\n",
    "- Logistic Regression gives a reliable accuracy, without the above mentioned problem.\n"
   ]
  },
  {
   "cell_type": "markdown",
   "id": "institutional-pacific",
   "metadata": {
    "papermill": {
     "duration": 0.058773,
     "end_time": "2021-02-13T00:09:21.948823",
     "exception": false,
     "start_time": "2021-02-13T00:09:21.890050",
     "status": "completed"
    },
    "tags": []
   },
   "source": [
    "### Moving till the last but one layer (excluding it).\n",
    "#### Plotting the outputs of this layer of the NN."
   ]
  },
  {
   "cell_type": "code",
   "execution_count": 24,
   "id": "economic-server",
   "metadata": {
    "execution": {
     "iopub.execute_input": "2021-02-13T00:09:22.070764Z",
     "iopub.status.busy": "2021-02-13T00:09:22.070005Z",
     "iopub.status.idle": "2021-02-13T00:09:22.083609Z",
     "shell.execute_reply": "2021-02-13T00:09:22.084170Z"
    },
    "papermill": {
     "duration": 0.0773,
     "end_time": "2021-02-13T00:09:22.084338",
     "exception": false,
     "start_time": "2021-02-13T00:09:22.007038",
     "status": "completed"
    },
    "tags": []
   },
   "outputs": [],
   "source": [
    "model_new = Model(layers[:-2])"
   ]
  },
  {
   "cell_type": "code",
   "execution_count": 25,
   "id": "varied-upgrade",
   "metadata": {
    "execution": {
     "iopub.execute_input": "2021-02-13T00:09:22.213136Z",
     "iopub.status.busy": "2021-02-13T00:09:22.212437Z",
     "iopub.status.idle": "2021-02-13T00:09:22.237622Z",
     "shell.execute_reply": "2021-02-13T00:09:22.236939Z"
    },
    "papermill": {
     "duration": 0.094719,
     "end_time": "2021-02-13T00:09:22.237831",
     "exception": false,
     "start_time": "2021-02-13T00:09:22.143112",
     "status": "completed"
    },
    "tags": []
   },
   "outputs": [],
   "source": [
    "plot_testing = model_new(testing_xdata)"
   ]
  },
  {
   "cell_type": "code",
   "execution_count": 26,
   "id": "specific-handling",
   "metadata": {
    "execution": {
     "iopub.execute_input": "2021-02-13T00:09:22.365438Z",
     "iopub.status.busy": "2021-02-13T00:09:22.364728Z",
     "iopub.status.idle": "2021-02-13T00:09:22.643257Z",
     "shell.execute_reply": "2021-02-13T00:09:22.642692Z"
    },
    "papermill": {
     "duration": 0.347021,
     "end_time": "2021-02-13T00:09:22.643413",
     "exception": false,
     "start_time": "2021-02-13T00:09:22.296392",
     "status": "completed"
    },
    "tags": []
   },
   "outputs": [
    {
     "data": {
      "text/plain": [
       "Text(0.5, 1.0, 'Outputs')"
      ]
     },
     "execution_count": 26,
     "metadata": {},
     "output_type": "execute_result"
    },
    {
     "data": {
      "image/png": "[encoded data removed]",
      "text/plain": [
       "<Figure size 576x504 with 1 Axes>"
      ]
     },
     "metadata": {
      "needs_background": "light"
     },
     "output_type": "display_data"
    }
   ],
   "source": [
    "plt.figure(figsize=(8,7))\n",
    "plt.scatter(plot_testing[:,0], plot_testing[:,1], alpha = 0.1, c = y_test.ravel());\n",
    "plt.title('Outputs')"
   ]
  },
  {
   "cell_type": "markdown",
   "id": "described-knowing",
   "metadata": {
    "papermill": {
     "duration": 0.059914,
     "end_time": "2021-02-13T00:09:22.764919",
     "exception": false,
     "start_time": "2021-02-13T00:09:22.705005",
     "status": "completed"
    },
    "tags": []
   },
   "source": [
    "### Plotting probability contours"
   ]
  },
  {
   "cell_type": "code",
   "execution_count": 27,
   "id": "needed-growing",
   "metadata": {
    "execution": {
     "iopub.execute_input": "2021-02-13T00:09:22.905626Z",
     "iopub.status.busy": "2021-02-13T00:09:22.901998Z",
     "iopub.status.idle": "2021-02-13T00:09:22.921930Z",
     "shell.execute_reply": "2021-02-13T00:09:22.922528Z"
    },
    "papermill": {
     "duration": 0.08809,
     "end_time": "2021-02-13T00:09:22.922700",
     "exception": false,
     "start_time": "2021-02-13T00:09:22.834610",
     "status": "completed"
    },
    "tags": []
   },
   "outputs": [],
   "source": [
    "model_prob = Model(layers[-2:]) "
   ]
  },
  {
   "cell_type": "code",
   "execution_count": 28,
   "id": "introductory-enforcement",
   "metadata": {
    "execution": {
     "iopub.execute_input": "2021-02-13T00:09:23.092183Z",
     "iopub.status.busy": "2021-02-13T00:09:23.091505Z",
     "iopub.status.idle": "2021-02-13T00:09:23.107541Z",
     "shell.execute_reply": "2021-02-13T00:09:23.108262Z"
    },
    "papermill": {
     "duration": 0.119224,
     "end_time": "2021-02-13T00:09:23.108506",
     "exception": false,
     "start_time": "2021-02-13T00:09:22.989282",
     "status": "completed"
    },
    "tags": []
   },
   "outputs": [],
   "source": [
    "# Adjust the x and y ranges according to the above generated plot.\n",
    "x_range = np.linspace(-4, 1, 100) \n",
    "y_range = np.linspace(-6, 6, 100) \n",
    "x_grid, y_grid = np.meshgrid(x_range, y_range) # x_grid and y_grig are of size 100 X 100\n",
    "\n",
    "# converting x_grid and y_grid to continuous arrays\n",
    "x_grid_flat = np.ravel(x_grid)\n",
    "y_grid_flat = np.ravel(y_grid)\n",
    "\n",
    "# The last layer of the current model takes two columns as input. Hence transpose of np.vstack() is required.\n",
    "X = np.vstack((x_grid_flat, y_grid_flat)).T\n",
    "\n",
    "# x_grid and y_grid are of size 100 x 100\n",
    "probability_contour = model_prob(X).reshape(100,100) "
   ]
  },
  {
   "cell_type": "code",
   "execution_count": 29,
   "id": "understood-landing",
   "metadata": {
    "execution": {
     "iopub.execute_input": "2021-02-13T00:09:23.267930Z",
     "iopub.status.busy": "2021-02-13T00:09:23.248630Z",
     "iopub.status.idle": "2021-02-13T00:09:23.539995Z",
     "shell.execute_reply": "2021-02-13T00:09:23.539454Z"
    },
    "papermill": {
     "duration": 0.368536,
     "end_time": "2021-02-13T00:09:23.540135",
     "exception": false,
     "start_time": "2021-02-13T00:09:23.171599",
     "status": "completed"
    },
    "tags": []
   },
   "outputs": [
    {
     "data": {
      "image/png": "[encoded data removed]",
      "text/plain": [
       "<Figure size 720x648 with 1 Axes>"
      ]
     },
     "metadata": {
      "needs_background": "light"
     },
     "output_type": "display_data"
    }
   ],
   "source": [
    "plt.figure(figsize=(10,9))\n",
    "plt.scatter(plot_testing[:,0], plot_testing[:,1], alpha = 0.1, c = y_test.ravel())\n",
    "contours = plt.contour(x_grid,y_grid,probability_contour)\n",
    "plt.title('Probability Contours')\n",
    "plt.clabel(contours, inline = True );"
   ]
  }
 ],
 "metadata": {
  "kernelspec": {
   "display_name": "Python 3",
   "language": "python",
   "name": "python3"
  },
  "language_info": {
   "codemirror_mode": {
    "name": "ipython",
    "version": 3
   },
   "file_extension": ".py",
   "mimetype": "text/x-python",
   "name": "python",
   "nbconvert_exporter": "python",
   "pygments_lexer": "ipython3",
   "version": "3.6.12"
  },
  "papermill": {
   "duration": 176.768293,
   "end_time": "2021-02-13T00:09:24.012976",
   "environment_variables": {},
   "exception": null,
   "input_path": "2020-08-11-NeuralNetwork.ipynb",
   "output_path": "2020-08-11-NeuralNetwork.ipynb",
   "parameters": {},
   "start_time": "2021-02-13T00:06:27.244683",
   "version": "2.1.2"
  }
 },
 "nbformat": 4,
 "nbformat_minor": 5
}