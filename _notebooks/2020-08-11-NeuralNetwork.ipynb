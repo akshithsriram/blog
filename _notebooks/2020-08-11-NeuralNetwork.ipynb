{
 "cells": [
  {
   "cell_type": "markdown",
   "metadata": {
    "papermill": {
     "duration": 0.031538,
     "end_time": "2020-11-13T20:04:14.825376",
     "exception": false,
     "start_time": "2020-11-13T20:04:14.793838",
     "status": "completed"
    },
    "tags": []
   },
   "source": [
    "# \"A Basic Neural Network: Differentiate Hand-Written Digits\"\n",
    "\n",
    "- badges: true\n",
    "- author: Akshith Sriram"
   ]
  },
  {
   "cell_type": "markdown",
   "metadata": {
    "papermill": {
     "duration": 0.027248,
     "end_time": "2020-11-13T20:04:14.881366",
     "exception": false,
     "start_time": "2020-11-13T20:04:14.854118",
     "status": "completed"
    },
    "tags": []
   },
   "source": [
    "### Key Objectives:\n",
    "- Building a neural network that differentiates two hand-written digits 3 and 8.\n",
    "- Comparing the results of this Neural Network (NN) to that of a Logistic Regression (LR) model.\n",
    "\n",
    "### Requirements:\n",
    "- 'Kudzu' : A neural network library that was designed during our course by [Univ.AI](www.univ.ai). \n",
    "- MNIST Database\n",
    "\n",
    "If MNIST is not installed, use the command `!pip install mnist` given below.\n",
    "It can be run both from the command line and Jupyter Notebook."
   ]
  },
  {
   "cell_type": "code",
   "execution_count": 1,
   "metadata": {
    "execution": {
     "iopub.execute_input": "2020-11-13T20:04:14.939471Z",
     "iopub.status.busy": "2020-11-13T20:04:14.938813Z",
     "iopub.status.idle": "2020-11-13T20:04:16.556886Z",
     "shell.execute_reply": "2020-11-13T20:04:16.555980Z"
    },
    "papermill": {
     "duration": 1.649148,
     "end_time": "2020-11-13T20:04:16.557059",
     "exception": false,
     "start_time": "2020-11-13T20:04:14.907911",
     "status": "completed"
    },
    "tags": []
   },
   "outputs": [
    {
     "name": "stdout",
     "output_type": "stream",
     "text": [
      "Collecting mnist\r\n"
     ]
    },
    {
     "name": "stdout",
     "output_type": "stream",
     "text": [
      "  Downloading mnist-0.2.2-py2.py3-none-any.whl (3.5 kB)\r\n",
      "Requirement already satisfied: numpy in /opt/hostedtoolcache/Python/3.6.12/x64/lib/python3.6/site-packages (from mnist) (1.19.4)\r\n"
     ]
    },
    {
     "name": "stdout",
     "output_type": "stream",
     "text": [
      "Installing collected packages: mnist\r\n"
     ]
    },
    {
     "name": "stdout",
     "output_type": "stream",
     "text": [
      "Successfully installed mnist-0.2.2\r\n"
     ]
    }
   ],
   "source": [
    "!pip install mnist "
   ]
  },
  {
   "cell_type": "markdown",
   "metadata": {
    "papermill": {
     "duration": 0.028553,
     "end_time": "2020-11-13T20:04:16.614986",
     "exception": false,
     "start_time": "2020-11-13T20:04:16.586433",
     "status": "completed"
    },
    "tags": []
   },
   "source": [
    "#### Importing necessary libraries"
   ]
  },
  {
   "cell_type": "code",
   "execution_count": 2,
   "metadata": {
    "execution": {
     "iopub.execute_input": "2020-11-13T20:04:16.679953Z",
     "iopub.status.busy": "2020-11-13T20:04:16.679287Z",
     "iopub.status.idle": "2020-11-13T20:04:17.255700Z",
     "shell.execute_reply": "2020-11-13T20:04:17.255121Z"
    },
    "papermill": {
     "duration": 0.611958,
     "end_time": "2020-11-13T20:04:17.255857",
     "exception": false,
     "start_time": "2020-11-13T20:04:16.643899",
     "status": "completed"
    },
    "tags": []
   },
   "outputs": [],
   "source": [
    "%load_ext autoreload\n",
    "%autoreload 2\n",
    "\n",
    "%matplotlib inline\n",
    "import matplotlib.pyplot as plt\n",
    "\n",
    "import numpy as np\n",
    "import pandas as pd"
   ]
  },
  {
   "cell_type": "markdown",
   "metadata": {
    "papermill": {
     "duration": 0.028832,
     "end_time": "2020-11-13T20:04:17.313506",
     "exception": false,
     "start_time": "2020-11-13T20:04:17.284674",
     "status": "completed"
    },
    "tags": []
   },
   "source": [
    "### Preparing the Data"
   ]
  },
  {
   "cell_type": "code",
   "execution_count": 3,
   "metadata": {
    "execution": {
     "iopub.execute_input": "2020-11-13T20:04:17.390047Z",
     "iopub.status.busy": "2020-11-13T20:04:17.385595Z",
     "iopub.status.idle": "2020-11-13T20:04:17.392719Z",
     "shell.execute_reply": "2020-11-13T20:04:17.392155Z"
    },
    "papermill": {
     "duration": 0.050273,
     "end_time": "2020-11-13T20:04:17.392850",
     "exception": false,
     "start_time": "2020-11-13T20:04:17.342577",
     "status": "completed"
    },
    "tags": []
   },
   "outputs": [],
   "source": [
    "import mnist"
   ]
  },
  {
   "cell_type": "code",
   "execution_count": 4,
   "metadata": {
    "execution": {
     "iopub.execute_input": "2020-11-13T20:04:17.453819Z",
     "iopub.status.busy": "2020-11-13T20:04:17.453163Z",
     "iopub.status.idle": "2020-11-13T20:04:18.679193Z",
     "shell.execute_reply": "2020-11-13T20:04:18.678600Z"
    },
    "papermill": {
     "duration": 1.257915,
     "end_time": "2020-11-13T20:04:18.679355",
     "exception": false,
     "start_time": "2020-11-13T20:04:17.421440",
     "status": "completed"
    },
    "tags": []
   },
   "outputs": [],
   "source": [
    "train_images = mnist.train_images()\n",
    "train_labels = mnist.train_labels()"
   ]
  },
  {
   "cell_type": "code",
   "execution_count": 5,
   "metadata": {
    "execution": {
     "iopub.execute_input": "2020-11-13T20:04:18.759306Z",
     "iopub.status.busy": "2020-11-13T20:04:18.758641Z",
     "iopub.status.idle": "2020-11-13T20:04:18.772868Z",
     "shell.execute_reply": "2020-11-13T20:04:18.772296Z"
    },
    "papermill": {
     "duration": 0.064352,
     "end_time": "2020-11-13T20:04:18.773011",
     "exception": false,
     "start_time": "2020-11-13T20:04:18.708659",
     "status": "completed"
    },
    "tags": []
   },
   "outputs": [
    {
     "data": {
      "text/plain": [
       "((60000, 28, 28), (60000,))"
      ]
     },
     "execution_count": 5,
     "metadata": {},
     "output_type": "execute_result"
    }
   ],
   "source": [
    "train_images.shape, train_labels.shape"
   ]
  },
  {
   "cell_type": "code",
   "execution_count": 6,
   "metadata": {
    "execution": {
     "iopub.execute_input": "2020-11-13T20:04:19.276044Z",
     "iopub.status.busy": "2020-11-13T20:04:19.275323Z",
     "iopub.status.idle": "2020-11-13T20:04:19.918977Z",
     "shell.execute_reply": "2020-11-13T20:04:19.918108Z"
    },
    "papermill": {
     "duration": 1.117515,
     "end_time": "2020-11-13T20:04:19.919130",
     "exception": false,
     "start_time": "2020-11-13T20:04:18.801615",
     "status": "completed"
    },
    "tags": []
   },
   "outputs": [],
   "source": [
    "test_images = mnist.test_images()\n",
    "test_labels = mnist.test_labels()"
   ]
  },
  {
   "cell_type": "code",
   "execution_count": 7,
   "metadata": {
    "execution": {
     "iopub.execute_input": "2020-11-13T20:04:19.997170Z",
     "iopub.status.busy": "2020-11-13T20:04:19.995857Z",
     "iopub.status.idle": "2020-11-13T20:04:20.002169Z",
     "shell.execute_reply": "2020-11-13T20:04:20.002725Z"
    },
    "papermill": {
     "duration": 0.054616,
     "end_time": "2020-11-13T20:04:20.002874",
     "exception": false,
     "start_time": "2020-11-13T20:04:19.948258",
     "status": "completed"
    },
    "tags": []
   },
   "outputs": [
    {
     "data": {
      "text/plain": [
       "((10000, 28, 28), (10000,))"
      ]
     },
     "execution_count": 7,
     "metadata": {},
     "output_type": "execute_result"
    }
   ],
   "source": [
    "test_images.shape, test_labels.shape"
   ]
  },
  {
   "cell_type": "code",
   "execution_count": 8,
   "metadata": {
    "execution": {
     "iopub.execute_input": "2020-11-13T20:04:20.072567Z",
     "iopub.status.busy": "2020-11-13T20:04:20.071916Z",
     "iopub.status.idle": "2020-11-13T20:04:20.228152Z",
     "shell.execute_reply": "2020-11-13T20:04:20.228660Z"
    },
    "papermill": {
     "duration": 0.19663,
     "end_time": "2020-11-13T20:04:20.228839",
     "exception": false,
     "start_time": "2020-11-13T20:04:20.032209",
     "status": "completed"
    },
    "tags": []
   },
   "outputs": [
    {
     "name": "stdout",
     "output_type": "stream",
     "text": [
      "2\n"
     ]
    },
    {
     "data": {
      "text/plain": [
       "<matplotlib.image.AxesImage at 0x7fc60cc4a6d8>"
      ]
     },
     "execution_count": 8,
     "metadata": {},
     "output_type": "execute_result"
    },
    {
     "data": {
      "image/png": "[encoded data removed]",
      "text/plain": [
       "<Figure size 432x288 with 1 Axes>"
      ]
     },
     "metadata": {
      "needs_background": "light"
     },
     "output_type": "display_data"
    }
   ],
   "source": [
    "image_index = 7776 # You may select anything up to 60,000\n",
    "print(train_labels[image_index]) \n",
    "plt.imshow(train_images[image_index], cmap='Greys')"
   ]
  },
  {
   "cell_type": "markdown",
   "metadata": {
    "papermill": {
     "duration": 0.030091,
     "end_time": "2020-11-13T20:04:20.290875",
     "exception": false,
     "start_time": "2020-11-13T20:04:20.260784",
     "status": "completed"
    },
    "tags": []
   },
   "source": [
    "## Filter data to get 3 and 8 out"
   ]
  },
  {
   "cell_type": "code",
   "execution_count": 9,
   "metadata": {
    "execution": {
     "iopub.execute_input": "2020-11-13T20:04:20.357460Z",
     "iopub.status.busy": "2020-11-13T20:04:20.356813Z",
     "iopub.status.idle": "2020-11-13T20:04:20.376643Z",
     "shell.execute_reply": "2020-11-13T20:04:20.377212Z"
    },
    "papermill": {
     "duration": 0.056343,
     "end_time": "2020-11-13T20:04:20.377378",
     "exception": false,
     "start_time": "2020-11-13T20:04:20.321035",
     "status": "completed"
    },
    "tags": []
   },
   "outputs": [],
   "source": [
    "train_filter = np.where((train_labels == 3 ) | (train_labels == 8))\n",
    "test_filter = np.where((test_labels == 3) | (test_labels == 8))\n",
    "X_train, y_train = train_images[train_filter], train_labels[train_filter]\n",
    "X_test, y_test = test_images[test_filter], test_labels[test_filter]"
   ]
  },
  {
   "cell_type": "markdown",
   "metadata": {
    "papermill": {
     "duration": 0.032222,
     "end_time": "2020-11-13T20:04:20.439896",
     "exception": false,
     "start_time": "2020-11-13T20:04:20.407674",
     "status": "completed"
    },
    "tags": []
   },
   "source": [
    "We normalize the pixel values in the 0 to 1 range"
   ]
  },
  {
   "cell_type": "code",
   "execution_count": 10,
   "metadata": {
    "execution": {
     "iopub.execute_input": "2020-11-13T20:04:20.507065Z",
     "iopub.status.busy": "2020-11-13T20:04:20.506409Z",
     "iopub.status.idle": "2020-11-13T20:04:20.567031Z",
     "shell.execute_reply": "2020-11-13T20:04:20.567564Z"
    },
    "papermill": {
     "duration": 0.097233,
     "end_time": "2020-11-13T20:04:20.567746",
     "exception": false,
     "start_time": "2020-11-13T20:04:20.470513",
     "status": "completed"
    },
    "tags": []
   },
   "outputs": [],
   "source": [
    "X_train = X_train/255.\n",
    "X_test = X_test/255."
   ]
  },
  {
   "cell_type": "markdown",
   "metadata": {
    "papermill": {
     "duration": 0.030718,
     "end_time": "2020-11-13T20:04:20.630356",
     "exception": false,
     "start_time": "2020-11-13T20:04:20.599638",
     "status": "completed"
    },
    "tags": []
   },
   "source": [
    "Setup the labels as 1 (when the digit is 3) and 0 (when the digit is 8)"
   ]
  },
  {
   "cell_type": "code",
   "execution_count": 11,
   "metadata": {
    "execution": {
     "iopub.execute_input": "2020-11-13T20:04:20.699740Z",
     "iopub.status.busy": "2020-11-13T20:04:20.699088Z",
     "iopub.status.idle": "2020-11-13T20:04:20.709222Z",
     "shell.execute_reply": "2020-11-13T20:04:20.708693Z"
    },
    "papermill": {
     "duration": 0.048615,
     "end_time": "2020-11-13T20:04:20.709359",
     "exception": false,
     "start_time": "2020-11-13T20:04:20.660744",
     "status": "completed"
    },
    "tags": []
   },
   "outputs": [],
   "source": [
    "y_train = 1*(y_train==3)\n",
    "y_test = 1*(y_test==3)"
   ]
  },
  {
   "cell_type": "code",
   "execution_count": 12,
   "metadata": {
    "execution": {
     "iopub.execute_input": "2020-11-13T20:04:20.773772Z",
     "iopub.status.busy": "2020-11-13T20:04:20.773110Z",
     "iopub.status.idle": "2020-11-13T20:04:20.786453Z",
     "shell.execute_reply": "2020-11-13T20:04:20.787080Z"
    },
    "papermill": {
     "duration": 0.047567,
     "end_time": "2020-11-13T20:04:20.787229",
     "exception": false,
     "start_time": "2020-11-13T20:04:20.739662",
     "status": "completed"
    },
    "tags": []
   },
   "outputs": [
    {
     "data": {
      "text/plain": [
       "((11982, 28, 28), (1984, 28, 28))"
      ]
     },
     "execution_count": 12,
     "metadata": {},
     "output_type": "execute_result"
    }
   ],
   "source": [
    "X_train.shape, X_test.shape"
   ]
  },
  {
   "cell_type": "markdown",
   "metadata": {
    "papermill": {
     "duration": 0.030415,
     "end_time": "2020-11-13T20:04:20.848936",
     "exception": false,
     "start_time": "2020-11-13T20:04:20.818521",
     "status": "completed"
    },
    "tags": []
   },
   "source": [
    "### Reshape the input data to create a linear array"
   ]
  },
  {
   "cell_type": "code",
   "execution_count": 13,
   "metadata": {
    "execution": {
     "iopub.execute_input": "2020-11-13T20:04:20.926815Z",
     "iopub.status.busy": "2020-11-13T20:04:20.917707Z",
     "iopub.status.idle": "2020-11-13T20:04:20.929735Z",
     "shell.execute_reply": "2020-11-13T20:04:20.930291Z"
    },
    "papermill": {
     "duration": 0.051418,
     "end_time": "2020-11-13T20:04:20.930476",
     "exception": false,
     "start_time": "2020-11-13T20:04:20.879058",
     "status": "completed"
    },
    "tags": []
   },
   "outputs": [
    {
     "data": {
      "text/plain": [
       "((11982, 784), (1984, 784))"
      ]
     },
     "execution_count": 13,
     "metadata": {},
     "output_type": "execute_result"
    }
   ],
   "source": [
    "X_train = X_train.reshape(X_train.shape[0], -1)\n",
    "X_test = X_test.reshape(X_test.shape[0], -1)\n",
    "X_train.shape, X_test.shape"
   ]
  },
  {
   "cell_type": "markdown",
   "metadata": {
    "papermill": {
     "duration": 0.030249,
     "end_time": "2020-11-13T20:04:20.990892",
     "exception": false,
     "start_time": "2020-11-13T20:04:20.960643",
     "status": "completed"
    },
    "tags": []
   },
   "source": [
    "### Importing appropriate functions from 'Kudzu'"
   ]
  },
  {
   "cell_type": "code",
   "execution_count": 14,
   "metadata": {
    "execution": {
     "iopub.execute_input": "2020-11-13T20:04:21.080708Z",
     "iopub.status.busy": "2020-11-13T20:04:21.073052Z",
     "iopub.status.idle": "2020-11-13T20:04:21.082893Z",
     "shell.execute_reply": "2020-11-13T20:04:21.083390Z"
    },
    "papermill": {
     "duration": 0.061425,
     "end_time": "2020-11-13T20:04:21.083538",
     "exception": false,
     "start_time": "2020-11-13T20:04:21.022113",
     "status": "completed"
    },
    "tags": []
   },
   "outputs": [],
   "source": [
    "from kudzu.layer import Sigmoid\n",
    "from kudzu.layer import Relu\n",
    "from kudzu.layer import Affine, Sigmoid\n",
    "\n",
    "from kudzu.model import Model\n",
    "from kudzu.train import Learner\n",
    "from kudzu.optim import GD\n",
    "from kudzu.data import Data, Dataloader, Sampler\n",
    "\n",
    "from kudzu.callbacks import AccCallback\n",
    "from kudzu.callbacks import ClfCallback\n",
    "\n",
    "from kudzu.loss import MSE"
   ]
  },
  {
   "cell_type": "markdown",
   "metadata": {
    "papermill": {
     "duration": 0.030951,
     "end_time": "2020-11-13T20:04:21.145094",
     "exception": false,
     "start_time": "2020-11-13T20:04:21.114143",
     "status": "completed"
    },
    "tags": []
   },
   "source": [
    "### Let us create a `Config` class, to store important parameters. \n",
    "This class essentially plays the role of a dictionary."
   ]
  },
  {
   "cell_type": "code",
   "execution_count": 15,
   "metadata": {
    "execution": {
     "iopub.execute_input": "2020-11-13T20:04:21.211588Z",
     "iopub.status.busy": "2020-11-13T20:04:21.210946Z",
     "iopub.status.idle": "2020-11-13T20:04:21.223086Z",
     "shell.execute_reply": "2020-11-13T20:04:21.223644Z"
    },
    "papermill": {
     "duration": 0.048018,
     "end_time": "2020-11-13T20:04:21.223793",
     "exception": false,
     "start_time": "2020-11-13T20:04:21.175775",
     "status": "completed"
    },
    "tags": []
   },
   "outputs": [],
   "source": [
    "class Config:\n",
    "    pass\n",
    "config = Config()\n",
    "config.lr = 0.001\n",
    "config.num_epochs = 251\n",
    "config.bs = 50"
   ]
  },
  {
   "cell_type": "markdown",
   "metadata": {
    "papermill": {
     "duration": 0.0328,
     "end_time": "2020-11-13T20:04:21.286914",
     "exception": false,
     "start_time": "2020-11-13T20:04:21.254114",
     "status": "completed"
    },
    "tags": []
   },
   "source": [
    "### Initializing data to the variables"
   ]
  },
  {
   "cell_type": "code",
   "execution_count": 16,
   "metadata": {
    "execution": {
     "iopub.execute_input": "2020-11-13T20:04:21.358013Z",
     "iopub.status.busy": "2020-11-13T20:04:21.357354Z",
     "iopub.status.idle": "2020-11-13T20:04:21.371913Z",
     "shell.execute_reply": "2020-11-13T20:04:21.372445Z"
    },
    "papermill": {
     "duration": 0.053064,
     "end_time": "2020-11-13T20:04:21.372600",
     "exception": false,
     "start_time": "2020-11-13T20:04:21.319536",
     "status": "completed"
    },
    "tags": []
   },
   "outputs": [],
   "source": [
    "data = Data(X_train, y_train.reshape(-1,1))\n",
    "sampler = Sampler(data, config.bs, shuffle=True)\n",
    "\n",
    "dl = Dataloader(data, sampler)\n",
    "\n",
    "opt = GD(config.lr)\n",
    "loss = MSE()"
   ]
  },
  {
   "cell_type": "code",
   "execution_count": 17,
   "metadata": {
    "execution": {
     "iopub.execute_input": "2020-11-13T20:04:21.455689Z",
     "iopub.status.busy": "2020-11-13T20:04:21.449122Z",
     "iopub.status.idle": "2020-11-13T20:04:21.457812Z",
     "shell.execute_reply": "2020-11-13T20:04:21.458476Z"
    },
    "papermill": {
     "duration": 0.051236,
     "end_time": "2020-11-13T20:04:21.458633",
     "exception": false,
     "start_time": "2020-11-13T20:04:21.407397",
     "status": "completed"
    },
    "tags": []
   },
   "outputs": [],
   "source": [
    "training_xdata = X_train\n",
    "testing_xdata = X_test\n",
    "training_ydata = y_train.reshape(-1,1)\n",
    "testing_ydata = y_test.reshape(-1,1)"
   ]
  },
  {
   "cell_type": "markdown",
   "metadata": {
    "papermill": {
     "duration": 0.031014,
     "end_time": "2020-11-13T20:04:21.521168",
     "exception": false,
     "start_time": "2020-11-13T20:04:21.490154",
     "status": "completed"
    },
    "tags": []
   },
   "source": [
    "### Running Models with the Training data\n",
    "Details about the network layers:\n",
    "- A first affine layer has 784 inputs and does 100 affine transforms. These are followed by a Relu\n",
    "- A second affine layer has 100 inputs from the 100 activations of the past layer, and does 100 affine transforms. These are followed by a Relu\n",
    "- A third affine layer has 100 activations and does 2 affine transformations to create an embedding for visualization. There is no non-linearity here.\n",
    "- A final \"logistic regression\" which has an affine transform from 2 inputs to 1 output, which is squeezed through a sigmoid.\n",
    "\n",
    "Help taken from Anshuman's Notebook."
   ]
  },
  {
   "cell_type": "code",
   "execution_count": 18,
   "metadata": {
    "execution": {
     "iopub.execute_input": "2020-11-13T20:04:21.594004Z",
     "iopub.status.busy": "2020-11-13T20:04:21.593334Z",
     "iopub.status.idle": "2020-11-13T20:04:21.610351Z",
     "shell.execute_reply": "2020-11-13T20:04:21.609677Z"
    },
    "papermill": {
     "duration": 0.056709,
     "end_time": "2020-11-13T20:04:21.610495",
     "exception": false,
     "start_time": "2020-11-13T20:04:21.553786",
     "status": "completed"
    },
    "tags": []
   },
   "outputs": [],
   "source": [
    "# layers for the Neural Network\n",
    "layers = [Affine(\"first\", 784, 100), Relu(\"first\"), Affine(\"second\", 100, 100), Relu(\"second\"), Affine(\"third\", 100, 2), Affine(\"final\", 2, 1), Sigmoid(\"final\")]\n",
    "model_nn = Model(layers)\n",
    "\n",
    "# layers for the Logistic Regression\n",
    "layers_lr = [Affine(\"logits\", 784, 1), Sigmoid(\"sigmoid\")]\n",
    "model_lr = Model(layers_lr)"
   ]
  },
  {
   "cell_type": "code",
   "execution_count": 19,
   "metadata": {
    "execution": {
     "iopub.execute_input": "2020-11-13T20:04:21.679466Z",
     "iopub.status.busy": "2020-11-13T20:04:21.678814Z",
     "iopub.status.idle": "2020-11-13T20:04:21.691379Z",
     "shell.execute_reply": "2020-11-13T20:04:21.691944Z"
    },
    "papermill": {
     "duration": 0.049208,
     "end_time": "2020-11-13T20:04:21.692092",
     "exception": false,
     "start_time": "2020-11-13T20:04:21.642884",
     "status": "completed"
    },
    "tags": []
   },
   "outputs": [],
   "source": [
    "# suffix _nn stands for Neural Network.\n",
    "learner_nn = Learner(loss, model_nn, opt, config.num_epochs)\n",
    "acc_nn = ClfCallback(learner_nn, config.bs, training_xdata , testing_xdata, training_ydata, testing_ydata)\n",
    "learner_nn.set_callbacks([acc_nn])"
   ]
  },
  {
   "cell_type": "code",
   "execution_count": 20,
   "metadata": {
    "execution": {
     "iopub.execute_input": "2020-11-13T20:04:21.758016Z",
     "iopub.status.busy": "2020-11-13T20:04:21.757360Z",
     "iopub.status.idle": "2020-11-13T20:06:22.188406Z",
     "shell.execute_reply": "2020-11-13T20:06:22.189245Z"
    },
    "papermill": {
     "duration": 120.465853,
     "end_time": "2020-11-13T20:06:22.189419",
     "exception": false,
     "start_time": "2020-11-13T20:04:21.723566",
     "status": "completed"
    },
    "tags": []
   },
   "outputs": [
    {
     "name": "stdout",
     "output_type": "stream",
     "text": [
      "====== Neural Network ======\n"
     ]
    },
    {
     "name": "stdout",
     "output_type": "stream",
     "text": [
      "Epoch 0, Loss 0.2566\n",
      "Training Accuracy: 0.4831, Testing Accuracy: 0.4723\n",
      "\n"
     ]
    },
    {
     "name": "stdout",
     "output_type": "stream",
     "text": [
      "Epoch 10, Loss 0.1623\n",
      "Training Accuracy: 0.8890, Testing Accuracy: 0.8997\n",
      "\n"
     ]
    },
    {
     "name": "stdout",
     "output_type": "stream",
     "text": [
      "Epoch 20, Loss 0.0801\n",
      "Training Accuracy: 0.9241, Testing Accuracy: 0.9350\n",
      "\n"
     ]
    },
    {
     "name": "stdout",
     "output_type": "stream",
     "text": [
      "Epoch 30, Loss 0.055\n",
      "Training Accuracy: 0.9427, Testing Accuracy: 0.9541\n",
      "\n"
     ]
    },
    {
     "name": "stdout",
     "output_type": "stream",
     "text": [
      "Epoch 40, Loss 0.0448\n",
      "Training Accuracy: 0.9498, Testing Accuracy: 0.9561\n",
      "\n"
     ]
    },
    {
     "name": "stdout",
     "output_type": "stream",
     "text": [
      "Epoch 50, Loss 0.0394\n",
      "Training Accuracy: 0.9554, Testing Accuracy: 0.9607\n",
      "\n"
     ]
    },
    {
     "name": "stdout",
     "output_type": "stream",
     "text": [
      "Epoch 60, Loss 0.036\n",
      "Training Accuracy: 0.9585, Testing Accuracy: 0.9642\n",
      "\n"
     ]
    },
    {
     "name": "stdout",
     "output_type": "stream",
     "text": [
      "Epoch 70, Loss 0.0336\n",
      "Training Accuracy: 0.9609, Testing Accuracy: 0.9657\n",
      "\n"
     ]
    },
    {
     "name": "stdout",
     "output_type": "stream",
     "text": [
      "Epoch 80, Loss 0.0318\n",
      "Training Accuracy: 0.9626, Testing Accuracy: 0.9657\n",
      "\n"
     ]
    },
    {
     "name": "stdout",
     "output_type": "stream",
     "text": [
      "Epoch 90, Loss 0.0304\n",
      "Training Accuracy: 0.9646, Testing Accuracy: 0.9667\n",
      "\n"
     ]
    },
    {
     "name": "stdout",
     "output_type": "stream",
     "text": [
      "Epoch 100, Loss 0.0292\n",
      "Training Accuracy: 0.9664, Testing Accuracy: 0.9672\n",
      "\n"
     ]
    },
    {
     "name": "stdout",
     "output_type": "stream",
     "text": [
      "Epoch 110, Loss 0.0282\n",
      "Training Accuracy: 0.9674, Testing Accuracy: 0.9688\n",
      "\n"
     ]
    },
    {
     "name": "stdout",
     "output_type": "stream",
     "text": [
      "Epoch 120, Loss 0.0274\n",
      "Training Accuracy: 0.9680, Testing Accuracy: 0.9682\n",
      "\n"
     ]
    },
    {
     "name": "stdout",
     "output_type": "stream",
     "text": [
      "Epoch 130, Loss 0.0266\n",
      "Training Accuracy: 0.9689, Testing Accuracy: 0.9688\n",
      "\n"
     ]
    },
    {
     "name": "stdout",
     "output_type": "stream",
     "text": [
      "Epoch 140, Loss 0.0259\n",
      "Training Accuracy: 0.9697, Testing Accuracy: 0.9693\n",
      "\n"
     ]
    },
    {
     "name": "stdout",
     "output_type": "stream",
     "text": [
      "Epoch 150, Loss 0.0253\n",
      "Training Accuracy: 0.9706, Testing Accuracy: 0.9698\n",
      "\n"
     ]
    },
    {
     "name": "stdout",
     "output_type": "stream",
     "text": [
      "Epoch 160, Loss 0.0247\n",
      "Training Accuracy: 0.9714, Testing Accuracy: 0.9698\n",
      "\n"
     ]
    },
    {
     "name": "stdout",
     "output_type": "stream",
     "text": [
      "Epoch 170, Loss 0.0242\n",
      "Training Accuracy: 0.9720, Testing Accuracy: 0.9698\n",
      "\n"
     ]
    },
    {
     "name": "stdout",
     "output_type": "stream",
     "text": [
      "Epoch 180, Loss 0.0237\n",
      "Training Accuracy: 0.9726, Testing Accuracy: 0.9698\n",
      "\n"
     ]
    },
    {
     "name": "stdout",
     "output_type": "stream",
     "text": [
      "Epoch 190, Loss 0.0232\n",
      "Training Accuracy: 0.9732, Testing Accuracy: 0.9728\n",
      "\n"
     ]
    },
    {
     "name": "stdout",
     "output_type": "stream",
     "text": [
      "Epoch 200, Loss 0.0227\n",
      "Training Accuracy: 0.9738, Testing Accuracy: 0.9728\n",
      "\n"
     ]
    },
    {
     "name": "stdout",
     "output_type": "stream",
     "text": [
      "Epoch 210, Loss 0.0223\n",
      "Training Accuracy: 0.9750, Testing Accuracy: 0.9718\n",
      "\n"
     ]
    },
    {
     "name": "stdout",
     "output_type": "stream",
     "text": [
      "Epoch 220, Loss 0.0219\n",
      "Training Accuracy: 0.9750, Testing Accuracy: 0.9728\n",
      "\n"
     ]
    },
    {
     "name": "stdout",
     "output_type": "stream",
     "text": [
      "Epoch 230, Loss 0.0215\n",
      "Training Accuracy: 0.9755, Testing Accuracy: 0.9733\n",
      "\n"
     ]
    },
    {
     "name": "stdout",
     "output_type": "stream",
     "text": [
      "Epoch 240, Loss 0.0211\n",
      "Training Accuracy: 0.9760, Testing Accuracy: 0.9728\n",
      "\n"
     ]
    },
    {
     "name": "stdout",
     "output_type": "stream",
     "text": [
      "Epoch 250, Loss 0.0207\n",
      "Training Accuracy: 0.9763, Testing Accuracy: 0.9738\n",
      "\n"
     ]
    },
    {
     "data": {
      "text/plain": [
       "0.013880711901443188"
      ]
     },
     "execution_count": 20,
     "metadata": {},
     "output_type": "execute_result"
    }
   ],
   "source": [
    "print(\"====== Neural Network ======\")\n",
    "learner_nn.train_loop(dl)"
   ]
  },
  {
   "cell_type": "markdown",
   "metadata": {
    "papermill": {
     "duration": 0.040767,
     "end_time": "2020-11-13T20:06:22.272555",
     "exception": false,
     "start_time": "2020-11-13T20:06:22.231788",
     "status": "completed"
    },
    "tags": []
   },
   "source": [
    "### Logistic Regression based Implementation."
   ]
  },
  {
   "cell_type": "code",
   "execution_count": 21,
   "metadata": {
    "execution": {
     "iopub.execute_input": "2020-11-13T20:06:22.359084Z",
     "iopub.status.busy": "2020-11-13T20:06:22.358401Z",
     "iopub.status.idle": "2020-11-13T20:06:22.371751Z",
     "shell.execute_reply": "2020-11-13T20:06:22.371211Z"
    },
    "papermill": {
     "duration": 0.057122,
     "end_time": "2020-11-13T20:06:22.371888",
     "exception": false,
     "start_time": "2020-11-13T20:06:22.314766",
     "status": "completed"
    },
    "tags": []
   },
   "outputs": [],
   "source": [
    "learner_lr = Learner(loss, model_lr, opt, config.num_epochs)\n",
    "acc_lr = ClfCallback(learner_lr, config.bs, training_xdata , testing_xdata, training_ydata, testing_ydata)\n",
    "learner_lr.set_callbacks([acc_lr])"
   ]
  },
  {
   "cell_type": "code",
   "execution_count": 22,
   "metadata": {
    "execution": {
     "iopub.execute_input": "2020-11-13T20:06:22.475703Z",
     "iopub.status.busy": "2020-11-13T20:06:22.470804Z",
     "iopub.status.idle": "2020-11-13T20:06:40.867701Z",
     "shell.execute_reply": "2020-11-13T20:06:40.868320Z"
    },
    "papermill": {
     "duration": 18.455964,
     "end_time": "2020-11-13T20:06:40.868489",
     "exception": false,
     "start_time": "2020-11-13T20:06:22.412525",
     "status": "completed"
    },
    "tags": []
   },
   "outputs": [
    {
     "name": "stdout",
     "output_type": "stream",
     "text": [
      "====== Logistic Regression ======\n",
      "Epoch 0, Loss 0.223\n",
      "Training Accuracy: 0.7496, Testing Accuracy: 0.7283\n",
      "\n"
     ]
    },
    {
     "name": "stdout",
     "output_type": "stream",
     "text": [
      "Epoch 10, Loss 0.1003\n",
      "Training Accuracy: 0.9140, Testing Accuracy: 0.9194\n",
      "\n"
     ]
    },
    {
     "name": "stdout",
     "output_type": "stream",
     "text": [
      "Epoch 20, Loss 0.0775\n",
      "Training Accuracy: 0.9310, Testing Accuracy: 0.9405\n",
      "\n"
     ]
    },
    {
     "name": "stdout",
     "output_type": "stream",
     "text": [
      "Epoch 30, Loss 0.0669\n",
      "Training Accuracy: 0.9382, Testing Accuracy: 0.9451\n",
      "\n"
     ]
    },
    {
     "name": "stdout",
     "output_type": "stream",
     "text": [
      "Epoch 40, Loss 0.0605\n",
      "Training Accuracy: 0.9436, Testing Accuracy: 0.9506\n",
      "\n"
     ]
    },
    {
     "name": "stdout",
     "output_type": "stream",
     "text": [
      "Epoch 50, Loss 0.0562\n",
      "Training Accuracy: 0.9462, Testing Accuracy: 0.9546\n",
      "\n"
     ]
    },
    {
     "name": "stdout",
     "output_type": "stream",
     "text": [
      "Epoch 60, Loss 0.053\n",
      "Training Accuracy: 0.9490, Testing Accuracy: 0.9577\n",
      "\n"
     ]
    },
    {
     "name": "stdout",
     "output_type": "stream",
     "text": [
      "Epoch 70, Loss 0.0505\n",
      "Training Accuracy: 0.9507, Testing Accuracy: 0.9597\n",
      "\n"
     ]
    },
    {
     "name": "stdout",
     "output_type": "stream",
     "text": [
      "Epoch 80, Loss 0.0486\n",
      "Training Accuracy: 0.9517, Testing Accuracy: 0.9612\n",
      "\n"
     ]
    },
    {
     "name": "stdout",
     "output_type": "stream",
     "text": [
      "Epoch 90, Loss 0.0469\n",
      "Training Accuracy: 0.9523, Testing Accuracy: 0.9637\n",
      "\n"
     ]
    },
    {
     "name": "stdout",
     "output_type": "stream",
     "text": [
      "Epoch 100, Loss 0.0456\n",
      "Training Accuracy: 0.9526, Testing Accuracy: 0.9632\n",
      "\n"
     ]
    },
    {
     "name": "stdout",
     "output_type": "stream",
     "text": [
      "Epoch 110, Loss 0.0444\n",
      "Training Accuracy: 0.9533, Testing Accuracy: 0.9647\n",
      "\n"
     ]
    },
    {
     "name": "stdout",
     "output_type": "stream",
     "text": [
      "Epoch 120, Loss 0.0434\n",
      "Training Accuracy: 0.9544, Testing Accuracy: 0.9652\n",
      "\n"
     ]
    },
    {
     "name": "stdout",
     "output_type": "stream",
     "text": [
      "Epoch 130, Loss 0.0425\n",
      "Training Accuracy: 0.9556, Testing Accuracy: 0.9652\n",
      "\n"
     ]
    },
    {
     "name": "stdout",
     "output_type": "stream",
     "text": [
      "Epoch 140, Loss 0.0417\n",
      "Training Accuracy: 0.9564, Testing Accuracy: 0.9647\n",
      "\n"
     ]
    },
    {
     "name": "stdout",
     "output_type": "stream",
     "text": [
      "Epoch 150, Loss 0.0409\n",
      "Training Accuracy: 0.9567, Testing Accuracy: 0.9652\n",
      "\n"
     ]
    },
    {
     "name": "stdout",
     "output_type": "stream",
     "text": [
      "Epoch 160, Loss 0.0403\n",
      "Training Accuracy: 0.9574, Testing Accuracy: 0.9657\n",
      "\n"
     ]
    },
    {
     "name": "stdout",
     "output_type": "stream",
     "text": [
      "Epoch 170, Loss 0.0397\n",
      "Training Accuracy: 0.9584, Testing Accuracy: 0.9662\n",
      "\n"
     ]
    },
    {
     "name": "stdout",
     "output_type": "stream",
     "text": [
      "Epoch 180, Loss 0.0392\n",
      "Training Accuracy: 0.9588, Testing Accuracy: 0.9662\n",
      "\n"
     ]
    },
    {
     "name": "stdout",
     "output_type": "stream",
     "text": [
      "Epoch 190, Loss 0.0387\n",
      "Training Accuracy: 0.9593, Testing Accuracy: 0.9667\n",
      "\n"
     ]
    },
    {
     "name": "stdout",
     "output_type": "stream",
     "text": [
      "Epoch 200, Loss 0.0382\n",
      "Training Accuracy: 0.9596, Testing Accuracy: 0.9672\n",
      "\n"
     ]
    },
    {
     "name": "stdout",
     "output_type": "stream",
     "text": [
      "Epoch 210, Loss 0.0378\n",
      "Training Accuracy: 0.9603, Testing Accuracy: 0.9667\n",
      "\n"
     ]
    },
    {
     "name": "stdout",
     "output_type": "stream",
     "text": [
      "Epoch 220, Loss 0.0374\n",
      "Training Accuracy: 0.9605, Testing Accuracy: 0.9667\n",
      "\n"
     ]
    },
    {
     "name": "stdout",
     "output_type": "stream",
     "text": [
      "Epoch 230, Loss 0.037\n",
      "Training Accuracy: 0.9609, Testing Accuracy: 0.9672\n",
      "\n"
     ]
    },
    {
     "name": "stdout",
     "output_type": "stream",
     "text": [
      "Epoch 240, Loss 0.0366\n",
      "Training Accuracy: 0.9611, Testing Accuracy: 0.9677\n",
      "\n"
     ]
    },
    {
     "name": "stdout",
     "output_type": "stream",
     "text": [
      "Epoch 250, Loss 0.0363\n",
      "Training Accuracy: 0.9614, Testing Accuracy: 0.9677\n",
      "\n"
     ]
    },
    {
     "data": {
      "text/plain": [
       "0.05483427692401708"
      ]
     },
     "execution_count": 22,
     "metadata": {},
     "output_type": "execute_result"
    }
   ],
   "source": [
    "print(\"====== Logistic Regression ======\")\n",
    "learner_lr.train_loop(dl)"
   ]
  },
  {
   "cell_type": "markdown",
   "metadata": {
    "papermill": {
     "duration": 0.047104,
     "end_time": "2020-11-13T20:06:40.966213",
     "exception": false,
     "start_time": "2020-11-13T20:06:40.919109",
     "status": "completed"
    },
    "tags": []
   },
   "source": [
    "### Comparing results of NN and LR"
   ]
  },
  {
   "cell_type": "code",
   "execution_count": 23,
   "metadata": {
    "execution": {
     "iopub.execute_input": "2020-11-13T20:06:41.072177Z",
     "iopub.status.busy": "2020-11-13T20:06:41.071444Z",
     "iopub.status.idle": "2020-11-13T20:06:41.338994Z",
     "shell.execute_reply": "2020-11-13T20:06:41.338420Z"
    },
    "papermill": {
     "duration": 0.32307,
     "end_time": "2020-11-13T20:06:41.339141",
     "exception": false,
     "start_time": "2020-11-13T20:06:41.016071",
     "status": "completed"
    },
    "tags": []
   },
   "outputs": [
    {
     "data": {
      "text/plain": [
       "<matplotlib.legend.Legend at 0x7fc60a7b62e8>"
      ]
     },
     "execution_count": 23,
     "metadata": {},
     "output_type": "execute_result"
    },
    {
     "data": {
      "image/png": "[encoded data removed]",
      "text/plain": [
       "<Figure size 1080x720 with 1 Axes>"
      ]
     },
     "metadata": {
      "needs_background": "light"
     },
     "output_type": "display_data"
    }
   ],
   "source": [
    "plt.figure(figsize=(15,10))\n",
    "\n",
    "# Neural Network plots\n",
    "plt.plot(acc_nn.accuracies, 'r-', label = \"Training Accuracies - NN\")\n",
    "plt.plot(acc_nn.test_accuracies, 'g-', label = \"Testing Accuracies - NN\")\n",
    "\n",
    "# Logistic Regression plots\n",
    "plt.plot(acc_lr.accuracies, 'k-', label = \"Training Accuracies - LR\")\n",
    "plt.plot(acc_lr.test_accuracies, 'b-', label = \"Testing Accuracies - LR\")\n",
    "\n",
    "plt.ylim(0.8, 1)\n",
    "\n",
    "plt.legend()\n",
    "\n"
   ]
  },
  {
   "cell_type": "markdown",
   "metadata": {
    "papermill": {
     "duration": 0.051091,
     "end_time": "2020-11-13T20:06:41.440381",
     "exception": false,
     "start_time": "2020-11-13T20:06:41.389290",
     "status": "completed"
    },
    "tags": []
   },
   "source": [
    "### From the plot, we can observe the following:\n",
    "- Neural Network achieves higher accuracy than the Logistic Regression model.\n",
    "- This apparently, is because of overfitting, i.e. NN captures more noise than data.\n",
    "- Testing accuracy of NN drops below the Training accuracy at higher epochs. This explains the over-fitting on training data.\n",
    "- Logistic Regression gives a reliable accuracy, without the above mentioned problem.\n"
   ]
  },
  {
   "cell_type": "markdown",
   "metadata": {
    "papermill": {
     "duration": 0.050646,
     "end_time": "2020-11-13T20:06:41.539591",
     "exception": false,
     "start_time": "2020-11-13T20:06:41.488945",
     "status": "completed"
    },
    "tags": []
   },
   "source": [
    "### Moving till the last but one layer (excluding it).\n",
    "#### Plotting the outputs of this layer of the NN."
   ]
  },
  {
   "cell_type": "code",
   "execution_count": 24,
   "metadata": {
    "execution": {
     "iopub.execute_input": "2020-11-13T20:06:41.658774Z",
     "iopub.status.busy": "2020-11-13T20:06:41.655166Z",
     "iopub.status.idle": "2020-11-13T20:06:41.662782Z",
     "shell.execute_reply": "2020-11-13T20:06:41.663691Z"
    },
    "papermill": {
     "duration": 0.071786,
     "end_time": "2020-11-13T20:06:41.663849",
     "exception": false,
     "start_time": "2020-11-13T20:06:41.592063",
     "status": "completed"
    },
    "tags": []
   },
   "outputs": [],
   "source": [
    "model_new = Model(layers[:-2])"
   ]
  },
  {
   "cell_type": "code",
   "execution_count": 25,
   "metadata": {
    "execution": {
     "iopub.execute_input": "2020-11-13T20:06:41.788172Z",
     "iopub.status.busy": "2020-11-13T20:06:41.787496Z",
     "iopub.status.idle": "2020-11-13T20:06:41.800018Z",
     "shell.execute_reply": "2020-11-13T20:06:41.800600Z"
    },
    "papermill": {
     "duration": 0.086636,
     "end_time": "2020-11-13T20:06:41.800773",
     "exception": false,
     "start_time": "2020-11-13T20:06:41.714137",
     "status": "completed"
    },
    "tags": []
   },
   "outputs": [],
   "source": [
    "plot_testing = model_new(testing_xdata)"
   ]
  },
  {
   "cell_type": "code",
   "execution_count": 26,
   "metadata": {
    "execution": {
     "iopub.execute_input": "2020-11-13T20:06:41.909228Z",
     "iopub.status.busy": "2020-11-13T20:06:41.908569Z",
     "iopub.status.idle": "2020-11-13T20:06:42.140907Z",
     "shell.execute_reply": "2020-11-13T20:06:42.140338Z"
    },
    "papermill": {
     "duration": 0.289734,
     "end_time": "2020-11-13T20:06:42.141054",
     "exception": false,
     "start_time": "2020-11-13T20:06:41.851320",
     "status": "completed"
    },
    "tags": []
   },
   "outputs": [
    {
     "data": {
      "text/plain": [
       "Text(0.5, 1.0, 'Outputs')"
      ]
     },
     "execution_count": 26,
     "metadata": {},
     "output_type": "execute_result"
    },
    {
     "data": {
      "image/png": "[encoded data removed]",
      "text/plain": [
       "<Figure size 576x504 with 1 Axes>"
      ]
     },
     "metadata": {
      "needs_background": "light"
     },
     "output_type": "display_data"
    }
   ],
   "source": [
    "plt.figure(figsize=(8,7))\n",
    "plt.scatter(plot_testing[:,0], plot_testing[:,1], alpha = 0.1, c = y_test.ravel());\n",
    "plt.title('Outputs')"
   ]
  },
  {
   "cell_type": "markdown",
   "metadata": {
    "papermill": {
     "duration": 0.053799,
     "end_time": "2020-11-13T20:06:42.246767",
     "exception": false,
     "start_time": "2020-11-13T20:06:42.192968",
     "status": "completed"
    },
    "tags": []
   },
   "source": [
    "### Plotting probability contours"
   ]
  },
  {
   "cell_type": "code",
   "execution_count": 27,
   "metadata": {
    "execution": {
     "iopub.execute_input": "2020-11-13T20:06:42.371128Z",
     "iopub.status.busy": "2020-11-13T20:06:42.370468Z",
     "iopub.status.idle": "2020-11-13T20:06:42.373075Z",
     "shell.execute_reply": "2020-11-13T20:06:42.373816Z"
    },
    "papermill": {
     "duration": 0.075453,
     "end_time": "2020-11-13T20:06:42.373972",
     "exception": false,
     "start_time": "2020-11-13T20:06:42.298519",
     "status": "completed"
    },
    "tags": []
   },
   "outputs": [],
   "source": [
    "model_prob = Model(layers[-2:]) "
   ]
  },
  {
   "cell_type": "code",
   "execution_count": 28,
   "metadata": {
    "execution": {
     "iopub.execute_input": "2020-11-13T20:06:42.486811Z",
     "iopub.status.busy": "2020-11-13T20:06:42.481465Z",
     "iopub.status.idle": "2020-11-13T20:06:42.501366Z",
     "shell.execute_reply": "2020-11-13T20:06:42.500728Z"
    },
    "papermill": {
     "duration": 0.076286,
     "end_time": "2020-11-13T20:06:42.501500",
     "exception": false,
     "start_time": "2020-11-13T20:06:42.425214",
     "status": "completed"
    },
    "tags": []
   },
   "outputs": [],
   "source": [
    "# Adjust the x and y ranges according to the above generated plot.\n",
    "x_range = np.linspace(-4, 1, 100) \n",
    "y_range = np.linspace(-6, 6, 100) \n",
    "x_grid, y_grid = np.meshgrid(x_range, y_range) # x_grid and y_grig are of size 100 X 100\n",
    "\n",
    "# converting x_grid and y_grid to continuous arrays\n",
    "x_grid_flat = np.ravel(x_grid)\n",
    "y_grid_flat = np.ravel(y_grid)\n",
    "\n",
    "# The last layer of the current model takes two columns as input. Hence transpose of np.vstack() is required.\n",
    "X = np.vstack((x_grid_flat, y_grid_flat)).T\n",
    "\n",
    "# x_grid and y_grid are of size 100 x 100\n",
    "probability_contour = model_prob(X).reshape(100,100) "
   ]
  },
  {
   "cell_type": "code",
   "execution_count": 29,
   "metadata": {
    "execution": {
     "iopub.execute_input": "2020-11-13T20:06:42.641080Z",
     "iopub.status.busy": "2020-11-13T20:06:42.631698Z",
     "iopub.status.idle": "2020-11-13T20:06:42.906985Z",
     "shell.execute_reply": "2020-11-13T20:06:42.907492Z"
    },
    "papermill": {
     "duration": 0.355065,
     "end_time": "2020-11-13T20:06:42.907666",
     "exception": false,
     "start_time": "2020-11-13T20:06:42.552601",
     "status": "completed"
    },
    "tags": []
   },
   "outputs": [
    {
     "data": {
      "image/png": "[encoded data removed]",
      "text/plain": [
       "<Figure size 720x648 with 1 Axes>"
      ]
     },
     "metadata": {
      "needs_background": "light"
     },
     "output_type": "display_data"
    }
   ],
   "source": [
    "plt.figure(figsize=(10,9))\n",
    "plt.scatter(plot_testing[:,0], plot_testing[:,1], alpha = 0.1, c = y_test.ravel())\n",
    "contours = plt.contour(x_grid,y_grid,probability_contour)\n",
    "plt.title('Probability Contours')\n",
    "plt.clabel(contours, inline = True );"
   ]
  }
 ],
 "metadata": {
  "kernelspec": {
   "display_name": "Python 3",
   "language": "python",
   "name": "python3"
  },
  "language_info": {
   "codemirror_mode": {
    "name": "ipython",
    "version": 3
   },
   "file_extension": ".py",
   "mimetype": "text/x-python",
   "name": "python",
   "nbconvert_exporter": "python",
   "pygments_lexer": "ipython3",
   "version": "3.6.12"
  },
  "papermill": {
   "duration": 149.620757,
   "end_time": "2020-11-13T20:06:43.291371",
   "environment_variables": {},
   "exception": null,
   "input_path": "2020-08-11-NeuralNetwork.ipynb",
   "output_path": "2020-08-11-NeuralNetwork.ipynb",
   "parameters": {},
   "start_time": "2020-11-13T20:04:13.670614",
   "version": "2.1.2"
  }
 },
 "nbformat": 4,
 "nbformat_minor": 4
}