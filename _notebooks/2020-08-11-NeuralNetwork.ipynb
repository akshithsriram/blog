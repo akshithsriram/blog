{
 "cells": [
  {
   "cell_type": "markdown",
   "metadata": {
    "papermill": {
     "duration": 0.034648,
     "end_time": "2021-01-14T10:45:45.472728",
     "exception": false,
     "start_time": "2021-01-14T10:45:45.438080",
     "status": "completed"
    },
    "tags": []
   },
   "source": [
    "# \"A Basic Neural Network: Differentiate Hand-Written Digits\"\n",
    "\n",
    "- badges: true\n",
    "- author: Akshith Sriram"
   ]
  },
  {
   "cell_type": "markdown",
   "metadata": {
    "papermill": {
     "duration": 0.035508,
     "end_time": "2021-01-14T10:45:45.540650",
     "exception": false,
     "start_time": "2021-01-14T10:45:45.505142",
     "status": "completed"
    },
    "tags": []
   },
   "source": [
    "### Key Objectives:\n",
    "- Building a neural network that differentiates two hand-written digits 3 and 8.\n",
    "- Comparing the results of this Neural Network (NN) to that of a Logistic Regression (LR) model.\n",
    "\n",
    "### Requirements:\n",
    "- 'Kudzu' : A neural network library that was designed during our course by [Univ.AI](www.univ.ai). \n",
    "- MNIST Database\n",
    "\n",
    "If MNIST is not installed, use the command `!pip install mnist` given below.\n",
    "It can be run both from the command line and Jupyter Notebook."
   ]
  },
  {
   "cell_type": "code",
   "execution_count": 1,
   "metadata": {
    "execution": {
     "iopub.execute_input": "2021-01-14T10:45:45.606362Z",
     "iopub.status.busy": "2021-01-14T10:45:45.605712Z",
     "iopub.status.idle": "2021-01-14T10:45:47.345522Z",
     "shell.execute_reply": "2021-01-14T10:45:47.344904Z"
    },
    "papermill": {
     "duration": 1.777679,
     "end_time": "2021-01-14T10:45:47.345719",
     "exception": false,
     "start_time": "2021-01-14T10:45:45.568040",
     "status": "completed"
    },
    "tags": []
   },
   "outputs": [
    {
     "name": "stdout",
     "output_type": "stream",
     "text": [
      "Collecting mnist\r\n"
     ]
    },
    {
     "name": "stdout",
     "output_type": "stream",
     "text": [
      "  Downloading mnist-0.2.2-py2.py3-none-any.whl (3.5 kB)\r\n"
     ]
    },
    {
     "name": "stdout",
     "output_type": "stream",
     "text": [
      "Requirement already satisfied: numpy in /opt/hostedtoolcache/Python/3.6.12/x64/lib/python3.6/site-packages (from mnist) (1.19.5)\r\n"
     ]
    },
    {
     "name": "stdout",
     "output_type": "stream",
     "text": [
      "Installing collected packages: mnist\r\n"
     ]
    },
    {
     "name": "stdout",
     "output_type": "stream",
     "text": [
      "Successfully installed mnist-0.2.2\r\n"
     ]
    }
   ],
   "source": [
    "!pip install mnist "
   ]
  },
  {
   "cell_type": "markdown",
   "metadata": {
    "papermill": {
     "duration": 0.040308,
     "end_time": "2021-01-14T10:45:47.414375",
     "exception": false,
     "start_time": "2021-01-14T10:45:47.374067",
     "status": "completed"
    },
    "tags": []
   },
   "source": [
    "#### Importing necessary libraries"
   ]
  },
  {
   "cell_type": "code",
   "execution_count": 2,
   "metadata": {
    "execution": {
     "iopub.execute_input": "2021-01-14T10:45:47.492993Z",
     "iopub.status.busy": "2021-01-14T10:45:47.492358Z",
     "iopub.status.idle": "2021-01-14T10:45:48.149896Z",
     "shell.execute_reply": "2021-01-14T10:45:48.149376Z"
    },
    "papermill": {
     "duration": 0.694766,
     "end_time": "2021-01-14T10:45:48.150042",
     "exception": false,
     "start_time": "2021-01-14T10:45:47.455276",
     "status": "completed"
    },
    "tags": []
   },
   "outputs": [],
   "source": [
    "%load_ext autoreload\n",
    "%autoreload 2\n",
    "\n",
    "%matplotlib inline\n",
    "import matplotlib.pyplot as plt\n",
    "\n",
    "import numpy as np\n",
    "import pandas as pd"
   ]
  },
  {
   "cell_type": "markdown",
   "metadata": {
    "papermill": {
     "duration": 0.130807,
     "end_time": "2021-01-14T10:45:48.312331",
     "exception": false,
     "start_time": "2021-01-14T10:45:48.181524",
     "status": "completed"
    },
    "tags": []
   },
   "source": [
    "### Preparing the Data"
   ]
  },
  {
   "cell_type": "code",
   "execution_count": 3,
   "metadata": {
    "execution": {
     "iopub.execute_input": "2021-01-14T10:45:48.397355Z",
     "iopub.status.busy": "2021-01-14T10:45:48.396631Z",
     "iopub.status.idle": "2021-01-14T10:45:48.402440Z",
     "shell.execute_reply": "2021-01-14T10:45:48.401913Z"
    },
    "papermill": {
     "duration": 0.059571,
     "end_time": "2021-01-14T10:45:48.402578",
     "exception": false,
     "start_time": "2021-01-14T10:45:48.343007",
     "status": "completed"
    },
    "tags": []
   },
   "outputs": [],
   "source": [
    "import mnist"
   ]
  },
  {
   "cell_type": "code",
   "execution_count": 4,
   "metadata": {
    "execution": {
     "iopub.execute_input": "2021-01-14T10:45:48.495738Z",
     "iopub.status.busy": "2021-01-14T10:45:48.493084Z",
     "iopub.status.idle": "2021-01-14T10:45:49.608805Z",
     "shell.execute_reply": "2021-01-14T10:45:49.609475Z"
    },
    "papermill": {
     "duration": 1.158292,
     "end_time": "2021-01-14T10:45:49.609642",
     "exception": false,
     "start_time": "2021-01-14T10:45:48.451350",
     "status": "completed"
    },
    "tags": []
   },
   "outputs": [],
   "source": [
    "train_images = mnist.train_images()\n",
    "train_labels = mnist.train_labels()"
   ]
  },
  {
   "cell_type": "code",
   "execution_count": 5,
   "metadata": {
    "execution": {
     "iopub.execute_input": "2021-01-14T10:45:49.679095Z",
     "iopub.status.busy": "2021-01-14T10:45:49.676398Z",
     "iopub.status.idle": "2021-01-14T10:45:49.690775Z",
     "shell.execute_reply": "2021-01-14T10:45:49.690295Z"
    },
    "papermill": {
     "duration": 0.053152,
     "end_time": "2021-01-14T10:45:49.690916",
     "exception": false,
     "start_time": "2021-01-14T10:45:49.637764",
     "status": "completed"
    },
    "tags": []
   },
   "outputs": [
    {
     "data": {
      "text/plain": [
       "((60000, 28, 28), (60000,))"
      ]
     },
     "execution_count": 5,
     "metadata": {},
     "output_type": "execute_result"
    }
   ],
   "source": [
    "train_images.shape, train_labels.shape"
   ]
  },
  {
   "cell_type": "code",
   "execution_count": 6,
   "metadata": {
    "execution": {
     "iopub.execute_input": "2021-01-14T10:45:49.754268Z",
     "iopub.status.busy": "2021-01-14T10:45:49.753614Z",
     "iopub.status.idle": "2021-01-14T10:45:50.036747Z",
     "shell.execute_reply": "2021-01-14T10:45:50.036170Z"
    },
    "papermill": {
     "duration": 0.316155,
     "end_time": "2021-01-14T10:45:50.036897",
     "exception": false,
     "start_time": "2021-01-14T10:45:49.720742",
     "status": "completed"
    },
    "tags": []
   },
   "outputs": [],
   "source": [
    "test_images = mnist.test_images()\n",
    "test_labels = mnist.test_labels()"
   ]
  },
  {
   "cell_type": "code",
   "execution_count": 7,
   "metadata": {
    "execution": {
     "iopub.execute_input": "2021-01-14T10:45:50.097900Z",
     "iopub.status.busy": "2021-01-14T10:45:50.097310Z",
     "iopub.status.idle": "2021-01-14T10:45:50.111153Z",
     "shell.execute_reply": "2021-01-14T10:45:50.111663Z"
    },
    "papermill": {
     "duration": 0.046016,
     "end_time": "2021-01-14T10:45:50.111820",
     "exception": false,
     "start_time": "2021-01-14T10:45:50.065804",
     "status": "completed"
    },
    "tags": []
   },
   "outputs": [
    {
     "data": {
      "text/plain": [
       "((10000, 28, 28), (10000,))"
      ]
     },
     "execution_count": 7,
     "metadata": {},
     "output_type": "execute_result"
    }
   ],
   "source": [
    "test_images.shape, test_labels.shape"
   ]
  },
  {
   "cell_type": "code",
   "execution_count": 8,
   "metadata": {
    "execution": {
     "iopub.execute_input": "2021-01-14T10:45:50.174951Z",
     "iopub.status.busy": "2021-01-14T10:45:50.173910Z",
     "iopub.status.idle": "2021-01-14T10:45:50.333145Z",
     "shell.execute_reply": "2021-01-14T10:45:50.333625Z"
    },
    "papermill": {
     "duration": 0.192676,
     "end_time": "2021-01-14T10:45:50.333783",
     "exception": false,
     "start_time": "2021-01-14T10:45:50.141107",
     "status": "completed"
    },
    "tags": []
   },
   "outputs": [
    {
     "name": "stdout",
     "output_type": "stream",
     "text": [
      "2\n"
     ]
    },
    {
     "data": {
      "text/plain": [
       "<matplotlib.image.AxesImage at 0x7f873c4085f8>"
      ]
     },
     "execution_count": 8,
     "metadata": {},
     "output_type": "execute_result"
    },
    {
     "data": {
      "image/png": "[encoded data removed]",
      "text/plain": [
       "<Figure size 432x288 with 1 Axes>"
      ]
     },
     "metadata": {
      "needs_background": "light"
     },
     "output_type": "display_data"
    }
   ],
   "source": [
    "image_index = 7776 # You may select anything up to 60,000\n",
    "print(train_labels[image_index]) \n",
    "plt.imshow(train_images[image_index], cmap='Greys')"
   ]
  },
  {
   "cell_type": "markdown",
   "metadata": {
    "papermill": {
     "duration": 0.029771,
     "end_time": "2021-01-14T10:45:50.397829",
     "exception": false,
     "start_time": "2021-01-14T10:45:50.368058",
     "status": "completed"
    },
    "tags": []
   },
   "source": [
    "## Filter data to get 3 and 8 out"
   ]
  },
  {
   "cell_type": "code",
   "execution_count": 9,
   "metadata": {
    "execution": {
     "iopub.execute_input": "2021-01-14T10:45:50.468267Z",
     "iopub.status.busy": "2021-01-14T10:45:50.467458Z",
     "iopub.status.idle": "2021-01-14T10:45:50.489728Z",
     "shell.execute_reply": "2021-01-14T10:45:50.489208Z"
    },
    "papermill": {
     "duration": 0.061127,
     "end_time": "2021-01-14T10:45:50.489872",
     "exception": false,
     "start_time": "2021-01-14T10:45:50.428745",
     "status": "completed"
    },
    "tags": []
   },
   "outputs": [],
   "source": [
    "train_filter = np.where((train_labels == 3 ) | (train_labels == 8))\n",
    "test_filter = np.where((test_labels == 3) | (test_labels == 8))\n",
    "X_train, y_train = train_images[train_filter], train_labels[train_filter]\n",
    "X_test, y_test = test_images[test_filter], test_labels[test_filter]"
   ]
  },
  {
   "cell_type": "markdown",
   "metadata": {
    "papermill": {
     "duration": 0.029351,
     "end_time": "2021-01-14T10:45:50.549865",
     "exception": false,
     "start_time": "2021-01-14T10:45:50.520514",
     "status": "completed"
    },
    "tags": []
   },
   "source": [
    "We normalize the pixel values in the 0 to 1 range"
   ]
  },
  {
   "cell_type": "code",
   "execution_count": 10,
   "metadata": {
    "execution": {
     "iopub.execute_input": "2021-01-14T10:45:50.613561Z",
     "iopub.status.busy": "2021-01-14T10:45:50.612939Z",
     "iopub.status.idle": "2021-01-14T10:45:50.667695Z",
     "shell.execute_reply": "2021-01-14T10:45:50.668252Z"
    },
    "papermill": {
     "duration": 0.0897,
     "end_time": "2021-01-14T10:45:50.668580",
     "exception": false,
     "start_time": "2021-01-14T10:45:50.578880",
     "status": "completed"
    },
    "tags": []
   },
   "outputs": [],
   "source": [
    "X_train = X_train/255.\n",
    "X_test = X_test/255."
   ]
  },
  {
   "cell_type": "markdown",
   "metadata": {
    "papermill": {
     "duration": 0.029438,
     "end_time": "2021-01-14T10:45:50.733575",
     "exception": false,
     "start_time": "2021-01-14T10:45:50.704137",
     "status": "completed"
    },
    "tags": []
   },
   "source": [
    "Setup the labels as 1 (when the digit is 3) and 0 (when the digit is 8)"
   ]
  },
  {
   "cell_type": "code",
   "execution_count": 11,
   "metadata": {
    "execution": {
     "iopub.execute_input": "2021-01-14T10:45:50.806028Z",
     "iopub.status.busy": "2021-01-14T10:45:50.804403Z",
     "iopub.status.idle": "2021-01-14T10:45:50.818048Z",
     "shell.execute_reply": "2021-01-14T10:45:50.817438Z"
    },
    "papermill": {
     "duration": 0.053105,
     "end_time": "2021-01-14T10:45:50.818186",
     "exception": false,
     "start_time": "2021-01-14T10:45:50.765081",
     "status": "completed"
    },
    "tags": []
   },
   "outputs": [],
   "source": [
    "y_train = 1*(y_train==3)\n",
    "y_test = 1*(y_test==3)"
   ]
  },
  {
   "cell_type": "code",
   "execution_count": 12,
   "metadata": {
    "execution": {
     "iopub.execute_input": "2021-01-14T10:45:50.882605Z",
     "iopub.status.busy": "2021-01-14T10:45:50.882002Z",
     "iopub.status.idle": "2021-01-14T10:45:50.896122Z",
     "shell.execute_reply": "2021-01-14T10:45:50.896585Z"
    },
    "papermill": {
     "duration": 0.04875,
     "end_time": "2021-01-14T10:45:50.896749",
     "exception": false,
     "start_time": "2021-01-14T10:45:50.847999",
     "status": "completed"
    },
    "tags": []
   },
   "outputs": [
    {
     "data": {
      "text/plain": [
       "((11982, 28, 28), (1984, 28, 28))"
      ]
     },
     "execution_count": 12,
     "metadata": {},
     "output_type": "execute_result"
    }
   ],
   "source": [
    "X_train.shape, X_test.shape"
   ]
  },
  {
   "cell_type": "markdown",
   "metadata": {
    "papermill": {
     "duration": 0.030453,
     "end_time": "2021-01-14T10:45:50.967307",
     "exception": false,
     "start_time": "2021-01-14T10:45:50.936854",
     "status": "completed"
    },
    "tags": []
   },
   "source": [
    "### Reshape the input data to create a linear array"
   ]
  },
  {
   "cell_type": "code",
   "execution_count": 13,
   "metadata": {
    "execution": {
     "iopub.execute_input": "2021-01-14T10:45:51.038717Z",
     "iopub.status.busy": "2021-01-14T10:45:51.038118Z",
     "iopub.status.idle": "2021-01-14T10:45:51.053778Z",
     "shell.execute_reply": "2021-01-14T10:45:51.053291Z"
    },
    "papermill": {
     "duration": 0.052351,
     "end_time": "2021-01-14T10:45:51.053917",
     "exception": false,
     "start_time": "2021-01-14T10:45:51.001566",
     "status": "completed"
    },
    "tags": []
   },
   "outputs": [
    {
     "data": {
      "text/plain": [
       "((11982, 784), (1984, 784))"
      ]
     },
     "execution_count": 13,
     "metadata": {},
     "output_type": "execute_result"
    }
   ],
   "source": [
    "X_train = X_train.reshape(X_train.shape[0], -1)\n",
    "X_test = X_test.reshape(X_test.shape[0], -1)\n",
    "X_train.shape, X_test.shape"
   ]
  },
  {
   "cell_type": "markdown",
   "metadata": {
    "papermill": {
     "duration": 0.030286,
     "end_time": "2021-01-14T10:45:51.114280",
     "exception": false,
     "start_time": "2021-01-14T10:45:51.083994",
     "status": "completed"
    },
    "tags": []
   },
   "source": [
    "### Importing appropriate functions from 'Kudzu'"
   ]
  },
  {
   "cell_type": "code",
   "execution_count": 14,
   "metadata": {
    "execution": {
     "iopub.execute_input": "2021-01-14T10:45:51.190582Z",
     "iopub.status.busy": "2021-01-14T10:45:51.189960Z",
     "iopub.status.idle": "2021-01-14T10:45:51.215397Z",
     "shell.execute_reply": "2021-01-14T10:45:51.214656Z"
    },
    "papermill": {
     "duration": 0.070639,
     "end_time": "2021-01-14T10:45:51.215561",
     "exception": false,
     "start_time": "2021-01-14T10:45:51.144922",
     "status": "completed"
    },
    "tags": []
   },
   "outputs": [],
   "source": [
    "from kudzu.layer import Sigmoid\n",
    "from kudzu.layer import Relu\n",
    "from kudzu.layer import Affine, Sigmoid\n",
    "\n",
    "from kudzu.model import Model\n",
    "from kudzu.train import Learner\n",
    "from kudzu.optim import GD\n",
    "from kudzu.data import Data, Dataloader, Sampler\n",
    "\n",
    "from kudzu.callbacks import AccCallback\n",
    "from kudzu.callbacks import ClfCallback\n",
    "\n",
    "from kudzu.loss import MSE"
   ]
  },
  {
   "cell_type": "markdown",
   "metadata": {
    "papermill": {
     "duration": 0.030968,
     "end_time": "2021-01-14T10:45:51.276464",
     "exception": false,
     "start_time": "2021-01-14T10:45:51.245496",
     "status": "completed"
    },
    "tags": []
   },
   "source": [
    "### Let us create a `Config` class, to store important parameters. \n",
    "This class essentially plays the role of a dictionary."
   ]
  },
  {
   "cell_type": "code",
   "execution_count": 15,
   "metadata": {
    "execution": {
     "iopub.execute_input": "2021-01-14T10:45:51.344308Z",
     "iopub.status.busy": "2021-01-14T10:45:51.343609Z",
     "iopub.status.idle": "2021-01-14T10:45:51.355572Z",
     "shell.execute_reply": "2021-01-14T10:45:51.355081Z"
    },
    "papermill": {
     "duration": 0.049229,
     "end_time": "2021-01-14T10:45:51.355714",
     "exception": false,
     "start_time": "2021-01-14T10:45:51.306485",
     "status": "completed"
    },
    "tags": []
   },
   "outputs": [],
   "source": [
    "class Config:\n",
    "    pass\n",
    "config = Config()\n",
    "config.lr = 0.001\n",
    "config.num_epochs = 251\n",
    "config.bs = 50"
   ]
  },
  {
   "cell_type": "markdown",
   "metadata": {
    "papermill": {
     "duration": 0.029668,
     "end_time": "2021-01-14T10:45:51.415505",
     "exception": false,
     "start_time": "2021-01-14T10:45:51.385837",
     "status": "completed"
    },
    "tags": []
   },
   "source": [
    "### Initializing data to the variables"
   ]
  },
  {
   "cell_type": "code",
   "execution_count": 16,
   "metadata": {
    "execution": {
     "iopub.execute_input": "2021-01-14T10:45:51.486948Z",
     "iopub.status.busy": "2021-01-14T10:45:51.486159Z",
     "iopub.status.idle": "2021-01-14T10:45:51.501934Z",
     "shell.execute_reply": "2021-01-14T10:45:51.501418Z"
    },
    "papermill": {
     "duration": 0.056622,
     "end_time": "2021-01-14T10:45:51.502076",
     "exception": false,
     "start_time": "2021-01-14T10:45:51.445454",
     "status": "completed"
    },
    "tags": []
   },
   "outputs": [],
   "source": [
    "data = Data(X_train, y_train.reshape(-1,1))\n",
    "sampler = Sampler(data, config.bs, shuffle=True)\n",
    "\n",
    "dl = Dataloader(data, sampler)\n",
    "\n",
    "opt = GD(config.lr)\n",
    "loss = MSE()"
   ]
  },
  {
   "cell_type": "code",
   "execution_count": 17,
   "metadata": {
    "execution": {
     "iopub.execute_input": "2021-01-14T10:45:51.574731Z",
     "iopub.status.busy": "2021-01-14T10:45:51.574091Z",
     "iopub.status.idle": "2021-01-14T10:45:51.591851Z",
     "shell.execute_reply": "2021-01-14T10:45:51.591293Z"
    },
    "papermill": {
     "duration": 0.057987,
     "end_time": "2021-01-14T10:45:51.591993",
     "exception": false,
     "start_time": "2021-01-14T10:45:51.534006",
     "status": "completed"
    },
    "tags": []
   },
   "outputs": [],
   "source": [
    "training_xdata = X_train\n",
    "testing_xdata = X_test\n",
    "training_ydata = y_train.reshape(-1,1)\n",
    "testing_ydata = y_test.reshape(-1,1)"
   ]
  },
  {
   "cell_type": "markdown",
   "metadata": {
    "papermill": {
     "duration": 0.032358,
     "end_time": "2021-01-14T10:45:51.655917",
     "exception": false,
     "start_time": "2021-01-14T10:45:51.623559",
     "status": "completed"
    },
    "tags": []
   },
   "source": [
    "### Running Models with the Training data\n",
    "Details about the network layers:\n",
    "- A first affine layer has 784 inputs and does 100 affine transforms. These are followed by a Relu\n",
    "- A second affine layer has 100 inputs from the 100 activations of the past layer, and does 100 affine transforms. These are followed by a Relu\n",
    "- A third affine layer has 100 activations and does 2 affine transformations to create an embedding for visualization. There is no non-linearity here.\n",
    "- A final \"logistic regression\" which has an affine transform from 2 inputs to 1 output, which is squeezed through a sigmoid.\n",
    "\n",
    "Help taken from Anshuman's Notebook."
   ]
  },
  {
   "cell_type": "code",
   "execution_count": 18,
   "metadata": {
    "execution": {
     "iopub.execute_input": "2021-01-14T10:45:51.738397Z",
     "iopub.status.busy": "2021-01-14T10:45:51.737763Z",
     "iopub.status.idle": "2021-01-14T10:45:51.757960Z",
     "shell.execute_reply": "2021-01-14T10:45:51.757406Z"
    },
    "papermill": {
     "duration": 0.057526,
     "end_time": "2021-01-14T10:45:51.758101",
     "exception": false,
     "start_time": "2021-01-14T10:45:51.700575",
     "status": "completed"
    },
    "tags": []
   },
   "outputs": [],
   "source": [
    "# layers for the Neural Network\n",
    "layers = [Affine(\"first\", 784, 100), Relu(\"first\"), Affine(\"second\", 100, 100), Relu(\"second\"), Affine(\"third\", 100, 2), Affine(\"final\", 2, 1), Sigmoid(\"final\")]\n",
    "model_nn = Model(layers)\n",
    "\n",
    "# layers for the Logistic Regression\n",
    "layers_lr = [Affine(\"logits\", 784, 1), Sigmoid(\"sigmoid\")]\n",
    "model_lr = Model(layers_lr)"
   ]
  },
  {
   "cell_type": "code",
   "execution_count": 19,
   "metadata": {
    "execution": {
     "iopub.execute_input": "2021-01-14T10:45:51.826379Z",
     "iopub.status.busy": "2021-01-14T10:45:51.825758Z",
     "iopub.status.idle": "2021-01-14T10:45:51.840517Z",
     "shell.execute_reply": "2021-01-14T10:45:51.839906Z"
    },
    "papermill": {
     "duration": 0.052394,
     "end_time": "2021-01-14T10:45:51.840659",
     "exception": false,
     "start_time": "2021-01-14T10:45:51.788265",
     "status": "completed"
    },
    "tags": []
   },
   "outputs": [],
   "source": [
    "# suffix _nn stands for Neural Network.\n",
    "learner_nn = Learner(loss, model_nn, opt, config.num_epochs)\n",
    "acc_nn = ClfCallback(learner_nn, config.bs, training_xdata , testing_xdata, training_ydata, testing_ydata)\n",
    "learner_nn.set_callbacks([acc_nn])"
   ]
  },
  {
   "cell_type": "code",
   "execution_count": 20,
   "metadata": {
    "execution": {
     "iopub.execute_input": "2021-01-14T10:45:51.921931Z",
     "iopub.status.busy": "2021-01-14T10:45:51.921291Z",
     "iopub.status.idle": "2021-01-14T10:47:34.834747Z",
     "shell.execute_reply": "2021-01-14T10:47:34.835544Z"
    },
    "papermill": {
     "duration": 102.954351,
     "end_time": "2021-01-14T10:47:34.835703",
     "exception": false,
     "start_time": "2021-01-14T10:45:51.881352",
     "status": "completed"
    },
    "tags": []
   },
   "outputs": [
    {
     "name": "stdout",
     "output_type": "stream",
     "text": [
      "====== Neural Network ======\n"
     ]
    },
    {
     "name": "stdout",
     "output_type": "stream",
     "text": [
      "Epoch 0, Loss 0.2428\n",
      "Training Accuracy: 0.6465, Testing Accuracy: 0.6890\n",
      "\n"
     ]
    },
    {
     "name": "stdout",
     "output_type": "stream",
     "text": [
      "Epoch 10, Loss 0.0892\n",
      "Training Accuracy: 0.9178, Testing Accuracy: 0.9284\n",
      "\n"
     ]
    },
    {
     "name": "stdout",
     "output_type": "stream",
     "text": [
      "Epoch 20, Loss 0.0555\n",
      "Training Accuracy: 0.9406, Testing Accuracy: 0.9476\n",
      "\n"
     ]
    },
    {
     "name": "stdout",
     "output_type": "stream",
     "text": [
      "Epoch 30, Loss 0.0441\n",
      "Training Accuracy: 0.9513, Testing Accuracy: 0.9602\n",
      "\n"
     ]
    },
    {
     "name": "stdout",
     "output_type": "stream",
     "text": [
      "Epoch 40, Loss 0.0385\n",
      "Training Accuracy: 0.9559, Testing Accuracy: 0.9657\n",
      "\n"
     ]
    },
    {
     "name": "stdout",
     "output_type": "stream",
     "text": [
      "Epoch 50, Loss 0.0351\n",
      "Training Accuracy: 0.9592, Testing Accuracy: 0.9682\n",
      "\n"
     ]
    },
    {
     "name": "stdout",
     "output_type": "stream",
     "text": [
      "Epoch 60, Loss 0.0328\n",
      "Training Accuracy: 0.9611, Testing Accuracy: 0.9698\n",
      "\n"
     ]
    },
    {
     "name": "stdout",
     "output_type": "stream",
     "text": [
      "Epoch 70, Loss 0.031\n",
      "Training Accuracy: 0.9636, Testing Accuracy: 0.9713\n",
      "\n"
     ]
    },
    {
     "name": "stdout",
     "output_type": "stream",
     "text": [
      "Epoch 80, Loss 0.0296\n",
      "Training Accuracy: 0.9653, Testing Accuracy: 0.9723\n",
      "\n"
     ]
    },
    {
     "name": "stdout",
     "output_type": "stream",
     "text": [
      "Epoch 90, Loss 0.0284\n",
      "Training Accuracy: 0.9668, Testing Accuracy: 0.9733\n",
      "\n"
     ]
    },
    {
     "name": "stdout",
     "output_type": "stream",
     "text": [
      "Epoch 100, Loss 0.0273\n",
      "Training Accuracy: 0.9680, Testing Accuracy: 0.9733\n",
      "\n"
     ]
    },
    {
     "name": "stdout",
     "output_type": "stream",
     "text": [
      "Epoch 110, Loss 0.0264\n",
      "Training Accuracy: 0.9691, Testing Accuracy: 0.9733\n",
      "\n"
     ]
    },
    {
     "name": "stdout",
     "output_type": "stream",
     "text": [
      "Epoch 120, Loss 0.0256\n",
      "Training Accuracy: 0.9705, Testing Accuracy: 0.9733\n",
      "\n"
     ]
    },
    {
     "name": "stdout",
     "output_type": "stream",
     "text": [
      "Epoch 130, Loss 0.0249\n",
      "Training Accuracy: 0.9712, Testing Accuracy: 0.9728\n",
      "\n"
     ]
    },
    {
     "name": "stdout",
     "output_type": "stream",
     "text": [
      "Epoch 140, Loss 0.0242\n",
      "Training Accuracy: 0.9726, Testing Accuracy: 0.9728\n",
      "\n"
     ]
    },
    {
     "name": "stdout",
     "output_type": "stream",
     "text": [
      "Epoch 150, Loss 0.0236\n",
      "Training Accuracy: 0.9733, Testing Accuracy: 0.9728\n",
      "\n"
     ]
    },
    {
     "name": "stdout",
     "output_type": "stream",
     "text": [
      "Epoch 160, Loss 0.023\n",
      "Training Accuracy: 0.9739, Testing Accuracy: 0.9728\n",
      "\n"
     ]
    },
    {
     "name": "stdout",
     "output_type": "stream",
     "text": [
      "Epoch 170, Loss 0.0225\n",
      "Training Accuracy: 0.9741, Testing Accuracy: 0.9723\n",
      "\n"
     ]
    },
    {
     "name": "stdout",
     "output_type": "stream",
     "text": [
      "Epoch 180, Loss 0.0219\n",
      "Training Accuracy: 0.9751, Testing Accuracy: 0.9723\n",
      "\n"
     ]
    },
    {
     "name": "stdout",
     "output_type": "stream",
     "text": [
      "Epoch 190, Loss 0.0214\n",
      "Training Accuracy: 0.9755, Testing Accuracy: 0.9728\n",
      "\n"
     ]
    },
    {
     "name": "stdout",
     "output_type": "stream",
     "text": [
      "Epoch 200, Loss 0.0209\n",
      "Training Accuracy: 0.9764, Testing Accuracy: 0.9733\n",
      "\n"
     ]
    },
    {
     "name": "stdout",
     "output_type": "stream",
     "text": [
      "Epoch 210, Loss 0.0205\n",
      "Training Accuracy: 0.9770, Testing Accuracy: 0.9743\n",
      "\n"
     ]
    },
    {
     "name": "stdout",
     "output_type": "stream",
     "text": [
      "Epoch 220, Loss 0.02\n",
      "Training Accuracy: 0.9775, Testing Accuracy: 0.9748\n",
      "\n"
     ]
    },
    {
     "name": "stdout",
     "output_type": "stream",
     "text": [
      "Epoch 230, Loss 0.0196\n",
      "Training Accuracy: 0.9781, Testing Accuracy: 0.9748\n",
      "\n"
     ]
    },
    {
     "name": "stdout",
     "output_type": "stream",
     "text": [
      "Epoch 240, Loss 0.0192\n",
      "Training Accuracy: 0.9787, Testing Accuracy: 0.9753\n",
      "\n"
     ]
    },
    {
     "name": "stdout",
     "output_type": "stream",
     "text": [
      "Epoch 250, Loss 0.0187\n",
      "Training Accuracy: 0.9795, Testing Accuracy: 0.9753\n",
      "\n"
     ]
    },
    {
     "data": {
      "text/plain": [
       "0.002575095350461792"
      ]
     },
     "execution_count": 20,
     "metadata": {},
     "output_type": "execute_result"
    }
   ],
   "source": [
    "print(\"====== Neural Network ======\")\n",
    "learner_nn.train_loop(dl)"
   ]
  },
  {
   "cell_type": "markdown",
   "metadata": {
    "papermill": {
     "duration": 0.037376,
     "end_time": "2021-01-14T10:47:34.912430",
     "exception": false,
     "start_time": "2021-01-14T10:47:34.875054",
     "status": "completed"
    },
    "tags": []
   },
   "source": [
    "### Logistic Regression based Implementation."
   ]
  },
  {
   "cell_type": "code",
   "execution_count": 21,
   "metadata": {
    "execution": {
     "iopub.execute_input": "2021-01-14T10:47:34.997741Z",
     "iopub.status.busy": "2021-01-14T10:47:34.996702Z",
     "iopub.status.idle": "2021-01-14T10:47:35.009709Z",
     "shell.execute_reply": "2021-01-14T10:47:35.009189Z"
    },
    "papermill": {
     "duration": 0.059417,
     "end_time": "2021-01-14T10:47:35.009845",
     "exception": false,
     "start_time": "2021-01-14T10:47:34.950428",
     "status": "completed"
    },
    "tags": []
   },
   "outputs": [],
   "source": [
    "learner_lr = Learner(loss, model_lr, opt, config.num_epochs)\n",
    "acc_lr = ClfCallback(learner_lr, config.bs, training_xdata , testing_xdata, training_ydata, testing_ydata)\n",
    "learner_lr.set_callbacks([acc_lr])"
   ]
  },
  {
   "cell_type": "code",
   "execution_count": 22,
   "metadata": {
    "execution": {
     "iopub.execute_input": "2021-01-14T10:47:35.092412Z",
     "iopub.status.busy": "2021-01-14T10:47:35.091777Z",
     "iopub.status.idle": "2021-01-14T10:47:52.407641Z",
     "shell.execute_reply": "2021-01-14T10:47:52.408548Z"
    },
    "papermill": {
     "duration": 17.360719,
     "end_time": "2021-01-14T10:47:52.408716",
     "exception": false,
     "start_time": "2021-01-14T10:47:35.047997",
     "status": "completed"
    },
    "tags": []
   },
   "outputs": [
    {
     "name": "stdout",
     "output_type": "stream",
     "text": [
      "====== Logistic Regression ======\n",
      "Epoch 0, Loss 0.2581\n",
      "Training Accuracy: 0.6233, Testing Accuracy: 0.6270\n",
      "\n"
     ]
    },
    {
     "name": "stdout",
     "output_type": "stream",
     "text": [
      "Epoch 10, Loss 0.1014\n",
      "Training Accuracy: 0.9151, Testing Accuracy: 0.9350\n",
      "\n"
     ]
    },
    {
     "name": "stdout",
     "output_type": "stream",
     "text": [
      "Epoch 20, Loss 0.078\n",
      "Training Accuracy: 0.9303, Testing Accuracy: 0.9456\n",
      "\n"
     ]
    },
    {
     "name": "stdout",
     "output_type": "stream",
     "text": [
      "Epoch 30, Loss 0.0674\n",
      "Training Accuracy: 0.9377, Testing Accuracy: 0.9521\n",
      "\n"
     ]
    },
    {
     "name": "stdout",
     "output_type": "stream",
     "text": [
      "Epoch 40, Loss 0.061\n",
      "Training Accuracy: 0.9421, Testing Accuracy: 0.9577\n",
      "\n"
     ]
    },
    {
     "name": "stdout",
     "output_type": "stream",
     "text": [
      "Epoch 50, Loss 0.0566\n",
      "Training Accuracy: 0.9445, Testing Accuracy: 0.9617\n",
      "\n"
     ]
    },
    {
     "name": "stdout",
     "output_type": "stream",
     "text": [
      "Epoch 60, Loss 0.0534\n",
      "Training Accuracy: 0.9468, Testing Accuracy: 0.9622\n",
      "\n"
     ]
    },
    {
     "name": "stdout",
     "output_type": "stream",
     "text": [
      "Epoch 70, Loss 0.0509\n",
      "Training Accuracy: 0.9490, Testing Accuracy: 0.9632\n",
      "\n"
     ]
    },
    {
     "name": "stdout",
     "output_type": "stream",
     "text": [
      "Epoch 80, Loss 0.0489\n",
      "Training Accuracy: 0.9513, Testing Accuracy: 0.9637\n",
      "\n"
     ]
    },
    {
     "name": "stdout",
     "output_type": "stream",
     "text": [
      "Epoch 90, Loss 0.0472\n",
      "Training Accuracy: 0.9527, Testing Accuracy: 0.9642\n",
      "\n"
     ]
    },
    {
     "name": "stdout",
     "output_type": "stream",
     "text": [
      "Epoch 100, Loss 0.0458\n",
      "Training Accuracy: 0.9538, Testing Accuracy: 0.9647\n",
      "\n"
     ]
    },
    {
     "name": "stdout",
     "output_type": "stream",
     "text": [
      "Epoch 110, Loss 0.0446\n",
      "Training Accuracy: 0.9552, Testing Accuracy: 0.9657\n",
      "\n"
     ]
    },
    {
     "name": "stdout",
     "output_type": "stream",
     "text": [
      "Epoch 120, Loss 0.0435\n",
      "Training Accuracy: 0.9558, Testing Accuracy: 0.9662\n",
      "\n"
     ]
    },
    {
     "name": "stdout",
     "output_type": "stream",
     "text": [
      "Epoch 130, Loss 0.0426\n",
      "Training Accuracy: 0.9566, Testing Accuracy: 0.9662\n",
      "\n"
     ]
    },
    {
     "name": "stdout",
     "output_type": "stream",
     "text": [
      "Epoch 140, Loss 0.0418\n",
      "Training Accuracy: 0.9568, Testing Accuracy: 0.9667\n",
      "\n"
     ]
    },
    {
     "name": "stdout",
     "output_type": "stream",
     "text": [
      "Epoch 150, Loss 0.041\n",
      "Training Accuracy: 0.9574, Testing Accuracy: 0.9672\n",
      "\n"
     ]
    },
    {
     "name": "stdout",
     "output_type": "stream",
     "text": [
      "Epoch 160, Loss 0.0404\n",
      "Training Accuracy: 0.9579, Testing Accuracy: 0.9672\n",
      "\n"
     ]
    },
    {
     "name": "stdout",
     "output_type": "stream",
     "text": [
      "Epoch 170, Loss 0.0397\n",
      "Training Accuracy: 0.9589, Testing Accuracy: 0.9672\n",
      "\n"
     ]
    },
    {
     "name": "stdout",
     "output_type": "stream",
     "text": [
      "Epoch 180, Loss 0.0392\n",
      "Training Accuracy: 0.9591, Testing Accuracy: 0.9672\n",
      "\n"
     ]
    },
    {
     "name": "stdout",
     "output_type": "stream",
     "text": [
      "Epoch 190, Loss 0.0387\n",
      "Training Accuracy: 0.9594, Testing Accuracy: 0.9672\n",
      "\n"
     ]
    },
    {
     "name": "stdout",
     "output_type": "stream",
     "text": [
      "Epoch 200, Loss 0.0382\n",
      "Training Accuracy: 0.9599, Testing Accuracy: 0.9662\n",
      "\n"
     ]
    },
    {
     "name": "stdout",
     "output_type": "stream",
     "text": [
      "Epoch 210, Loss 0.0378\n",
      "Training Accuracy: 0.9605, Testing Accuracy: 0.9667\n",
      "\n"
     ]
    },
    {
     "name": "stdout",
     "output_type": "stream",
     "text": [
      "Epoch 220, Loss 0.0373\n",
      "Training Accuracy: 0.9608, Testing Accuracy: 0.9677\n",
      "\n"
     ]
    },
    {
     "name": "stdout",
     "output_type": "stream",
     "text": [
      "Epoch 230, Loss 0.037\n",
      "Training Accuracy: 0.9614, Testing Accuracy: 0.9677\n",
      "\n"
     ]
    },
    {
     "name": "stdout",
     "output_type": "stream",
     "text": [
      "Epoch 240, Loss 0.0366\n",
      "Training Accuracy: 0.9617, Testing Accuracy: 0.9682\n",
      "\n"
     ]
    },
    {
     "name": "stdout",
     "output_type": "stream",
     "text": [
      "Epoch 250, Loss 0.0363\n",
      "Training Accuracy: 0.9619, Testing Accuracy: 0.9682\n",
      "\n"
     ]
    },
    {
     "data": {
      "text/plain": [
       "0.010084020606932718"
      ]
     },
     "execution_count": 22,
     "metadata": {},
     "output_type": "execute_result"
    }
   ],
   "source": [
    "print(\"====== Logistic Regression ======\")\n",
    "learner_lr.train_loop(dl)"
   ]
  },
  {
   "cell_type": "markdown",
   "metadata": {
    "papermill": {
     "duration": 0.046093,
     "end_time": "2021-01-14T10:47:52.500946",
     "exception": false,
     "start_time": "2021-01-14T10:47:52.454853",
     "status": "completed"
    },
    "tags": []
   },
   "source": [
    "### Comparing results of NN and LR"
   ]
  },
  {
   "cell_type": "code",
   "execution_count": 23,
   "metadata": {
    "execution": {
     "iopub.execute_input": "2021-01-14T10:47:52.608459Z",
     "iopub.status.busy": "2021-01-14T10:47:52.607795Z",
     "iopub.status.idle": "2021-01-14T10:47:52.863486Z",
     "shell.execute_reply": "2021-01-14T10:47:52.862976Z"
    },
    "papermill": {
     "duration": 0.316932,
     "end_time": "2021-01-14T10:47:52.863629",
     "exception": false,
     "start_time": "2021-01-14T10:47:52.546697",
     "status": "completed"
    },
    "tags": []
   },
   "outputs": [
    {
     "data": {
      "text/plain": [
       "<matplotlib.legend.Legend at 0x7f8733f6d2b0>"
      ]
     },
     "execution_count": 23,
     "metadata": {},
     "output_type": "execute_result"
    },
    {
     "data": {
      "image/png": "[encoded data removed]",
      "text/plain": [
       "<Figure size 1080x720 with 1 Axes>"
      ]
     },
     "metadata": {
      "needs_background": "light"
     },
     "output_type": "display_data"
    }
   ],
   "source": [
    "plt.figure(figsize=(15,10))\n",
    "\n",
    "# Neural Network plots\n",
    "plt.plot(acc_nn.accuracies, 'r-', label = \"Training Accuracies - NN\")\n",
    "plt.plot(acc_nn.test_accuracies, 'g-', label = \"Testing Accuracies - NN\")\n",
    "\n",
    "# Logistic Regression plots\n",
    "plt.plot(acc_lr.accuracies, 'k-', label = \"Training Accuracies - LR\")\n",
    "plt.plot(acc_lr.test_accuracies, 'b-', label = \"Testing Accuracies - LR\")\n",
    "\n",
    "plt.ylim(0.8, 1)\n",
    "\n",
    "plt.legend()\n",
    "\n"
   ]
  },
  {
   "cell_type": "markdown",
   "metadata": {
    "papermill": {
     "duration": 0.047378,
     "end_time": "2021-01-14T10:47:52.960049",
     "exception": false,
     "start_time": "2021-01-14T10:47:52.912671",
     "status": "completed"
    },
    "tags": []
   },
   "source": [
    "### From the plot, we can observe the following:\n",
    "- Neural Network achieves higher accuracy than the Logistic Regression model.\n",
    "- This apparently, is because of overfitting, i.e. NN captures more noise than data.\n",
    "- Testing accuracy of NN drops below the Training accuracy at higher epochs. This explains the over-fitting on training data.\n",
    "- Logistic Regression gives a reliable accuracy, without the above mentioned problem.\n"
   ]
  },
  {
   "cell_type": "markdown",
   "metadata": {
    "papermill": {
     "duration": 0.049947,
     "end_time": "2021-01-14T10:47:53.064698",
     "exception": false,
     "start_time": "2021-01-14T10:47:53.014751",
     "status": "completed"
    },
    "tags": []
   },
   "source": [
    "### Moving till the last but one layer (excluding it).\n",
    "#### Plotting the outputs of this layer of the NN."
   ]
  },
  {
   "cell_type": "code",
   "execution_count": 24,
   "metadata": {
    "execution": {
     "iopub.execute_input": "2021-01-14T10:47:53.174176Z",
     "iopub.status.busy": "2021-01-14T10:47:53.173556Z",
     "iopub.status.idle": "2021-01-14T10:47:53.186707Z",
     "shell.execute_reply": "2021-01-14T10:47:53.187358Z"
    },
    "papermill": {
     "duration": 0.074899,
     "end_time": "2021-01-14T10:47:53.187529",
     "exception": false,
     "start_time": "2021-01-14T10:47:53.112630",
     "status": "completed"
    },
    "tags": []
   },
   "outputs": [],
   "source": [
    "model_new = Model(layers[:-2])"
   ]
  },
  {
   "cell_type": "code",
   "execution_count": 25,
   "metadata": {
    "execution": {
     "iopub.execute_input": "2021-01-14T10:47:53.305833Z",
     "iopub.status.busy": "2021-01-14T10:47:53.305195Z",
     "iopub.status.idle": "2021-01-14T10:47:53.323026Z",
     "shell.execute_reply": "2021-01-14T10:47:53.323530Z"
    },
    "papermill": {
     "duration": 0.087736,
     "end_time": "2021-01-14T10:47:53.323705",
     "exception": false,
     "start_time": "2021-01-14T10:47:53.235969",
     "status": "completed"
    },
    "tags": []
   },
   "outputs": [],
   "source": [
    "plot_testing = model_new(testing_xdata)"
   ]
  },
  {
   "cell_type": "code",
   "execution_count": 26,
   "metadata": {
    "execution": {
     "iopub.execute_input": "2021-01-14T10:47:53.437832Z",
     "iopub.status.busy": "2021-01-14T10:47:53.437193Z",
     "iopub.status.idle": "2021-01-14T10:47:53.650978Z",
     "shell.execute_reply": "2021-01-14T10:47:53.651439Z"
    },
    "papermill": {
     "duration": 0.279072,
     "end_time": "2021-01-14T10:47:53.651606",
     "exception": false,
     "start_time": "2021-01-14T10:47:53.372534",
     "status": "completed"
    },
    "tags": []
   },
   "outputs": [
    {
     "data": {
      "text/plain": [
       "Text(0.5, 1.0, 'Outputs')"
      ]
     },
     "execution_count": 26,
     "metadata": {},
     "output_type": "execute_result"
    },
    {
     "data": {
      "image/png": "[encoded data removed]",
      "text/plain": [
       "<Figure size 576x504 with 1 Axes>"
      ]
     },
     "metadata": {
      "needs_background": "light"
     },
     "output_type": "display_data"
    }
   ],
   "source": [
    "plt.figure(figsize=(8,7))\n",
    "plt.scatter(plot_testing[:,0], plot_testing[:,1], alpha = 0.1, c = y_test.ravel());\n",
    "plt.title('Outputs')"
   ]
  },
  {
   "cell_type": "markdown",
   "metadata": {
    "papermill": {
     "duration": 0.05007,
     "end_time": "2021-01-14T10:47:53.753120",
     "exception": false,
     "start_time": "2021-01-14T10:47:53.703050",
     "status": "completed"
    },
    "tags": []
   },
   "source": [
    "### Plotting probability contours"
   ]
  },
  {
   "cell_type": "code",
   "execution_count": 27,
   "metadata": {
    "execution": {
     "iopub.execute_input": "2021-01-14T10:47:53.860540Z",
     "iopub.status.busy": "2021-01-14T10:47:53.859838Z",
     "iopub.status.idle": "2021-01-14T10:47:53.872688Z",
     "shell.execute_reply": "2021-01-14T10:47:53.872130Z"
    },
    "papermill": {
     "duration": 0.067959,
     "end_time": "2021-01-14T10:47:53.872824",
     "exception": false,
     "start_time": "2021-01-14T10:47:53.804865",
     "status": "completed"
    },
    "tags": []
   },
   "outputs": [],
   "source": [
    "model_prob = Model(layers[-2:]) "
   ]
  },
  {
   "cell_type": "code",
   "execution_count": 28,
   "metadata": {
    "execution": {
     "iopub.execute_input": "2021-01-14T10:47:53.989810Z",
     "iopub.status.busy": "2021-01-14T10:47:53.989182Z",
     "iopub.status.idle": "2021-01-14T10:47:54.003749Z",
     "shell.execute_reply": "2021-01-14T10:47:54.004246Z"
    },
    "papermill": {
     "duration": 0.078736,
     "end_time": "2021-01-14T10:47:54.004414",
     "exception": false,
     "start_time": "2021-01-14T10:47:53.925678",
     "status": "completed"
    },
    "tags": []
   },
   "outputs": [],
   "source": [
    "# Adjust the x and y ranges according to the above generated plot.\n",
    "x_range = np.linspace(-4, 1, 100) \n",
    "y_range = np.linspace(-6, 6, 100) \n",
    "x_grid, y_grid = np.meshgrid(x_range, y_range) # x_grid and y_grig are of size 100 X 100\n",
    "\n",
    "# converting x_grid and y_grid to continuous arrays\n",
    "x_grid_flat = np.ravel(x_grid)\n",
    "y_grid_flat = np.ravel(y_grid)\n",
    "\n",
    "# The last layer of the current model takes two columns as input. Hence transpose of np.vstack() is required.\n",
    "X = np.vstack((x_grid_flat, y_grid_flat)).T\n",
    "\n",
    "# x_grid and y_grid are of size 100 x 100\n",
    "probability_contour = model_prob(X).reshape(100,100) "
   ]
  },
  {
   "cell_type": "code",
   "execution_count": 29,
   "metadata": {
    "execution": {
     "iopub.execute_input": "2021-01-14T10:47:54.145541Z",
     "iopub.status.busy": "2021-01-14T10:47:54.144731Z",
     "iopub.status.idle": "2021-01-14T10:47:54.402640Z",
     "shell.execute_reply": "2021-01-14T10:47:54.403116Z"
    },
    "papermill": {
     "duration": 0.31316,
     "end_time": "2021-01-14T10:47:54.403275",
     "exception": false,
     "start_time": "2021-01-14T10:47:54.090115",
     "status": "completed"
    },
    "tags": []
   },
   "outputs": [
    {
     "data": {
      "image/png": "[encoded data removed]",
      "text/plain": [
       "<Figure size 720x648 with 1 Axes>"
      ]
     },
     "metadata": {
      "needs_background": "light"
     },
     "output_type": "display_data"
    }
   ],
   "source": [
    "plt.figure(figsize=(10,9))\n",
    "plt.scatter(plot_testing[:,0], plot_testing[:,1], alpha = 0.1, c = y_test.ravel())\n",
    "contours = plt.contour(x_grid,y_grid,probability_contour)\n",
    "plt.title('Probability Contours')\n",
    "plt.clabel(contours, inline = True );"
   ]
  }
 ],
 "metadata": {
  "kernelspec": {
   "display_name": "Python 3",
   "language": "python",
   "name": "python3"
  },
  "language_info": {
   "codemirror_mode": {
    "name": "ipython",
    "version": 3
   },
   "file_extension": ".py",
   "mimetype": "text/x-python",
   "name": "python",
   "nbconvert_exporter": "python",
   "pygments_lexer": "ipython3",
   "version": "3.6.12"
  },
  "papermill": {
   "duration": 131.430387,
   "end_time": "2021-01-14T10:47:55.702564",
   "environment_variables": {},
   "exception": null,
   "input_path": "2020-08-11-NeuralNetwork.ipynb",
   "output_path": "2020-08-11-NeuralNetwork.ipynb",
   "parameters": {},
   "start_time": "2021-01-14T10:45:44.272177",
   "version": "2.1.2"
  }
 },
 "nbformat": 4,
 "nbformat_minor": 4
}