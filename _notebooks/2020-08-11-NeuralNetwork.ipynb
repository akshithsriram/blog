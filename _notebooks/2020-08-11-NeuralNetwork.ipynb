{
 "cells": [
  {
   "cell_type": "markdown",
   "metadata": {
    "papermill": {
     "duration": 0.028324,
     "end_time": "2020-08-21T10:04:21.686939",
     "exception": false,
     "start_time": "2020-08-21T10:04:21.658615",
     "status": "completed"
    },
    "tags": []
   },
   "source": [
    "# \"A Basic Neural Network: Differentiate Hand-Written Digits\"\n",
    "\n",
    "- badges: true\n",
    "- author: Akshith Sriram"
   ]
  },
  {
   "cell_type": "markdown",
   "metadata": {
    "papermill": {
     "duration": 0.022526,
     "end_time": "2020-08-21T10:04:21.732854",
     "exception": false,
     "start_time": "2020-08-21T10:04:21.710328",
     "status": "completed"
    },
    "tags": []
   },
   "source": [
    "### Key Objectives:\n",
    "- Building a neural network that differentiates two hand-written digits 3 and 8.\n",
    "- Comparing the results of this Neural Network (NN) to that of a Logistic Regression (LR) model.\n",
    "\n",
    "### Requirements:\n",
    "- 'Kudzu' : A neural network library that was designed during our course by [Univ.AI](www.univ.ai). \n",
    "- MNIST Database\n",
    "\n",
    "If MNIST is not installed, use the command `!pip install mnist` given below.\n",
    "It can be run both from the command line and Jupyter Notebook."
   ]
  },
  {
   "cell_type": "code",
   "execution_count": 1,
   "metadata": {
    "execution": {
     "iopub.execute_input": "2020-08-21T10:04:21.783705Z",
     "iopub.status.busy": "2020-08-21T10:04:21.783092Z",
     "iopub.status.idle": "2020-08-21T10:04:23.303482Z",
     "shell.execute_reply": "2020-08-21T10:04:23.304309Z"
    },
    "papermill": {
     "duration": 1.550023,
     "end_time": "2020-08-21T10:04:23.304597",
     "exception": false,
     "start_time": "2020-08-21T10:04:21.754574",
     "status": "completed"
    },
    "tags": []
   },
   "outputs": [
    {
     "name": "stdout",
     "output_type": "stream",
     "text": [
      "Collecting mnist\r\n"
     ]
    },
    {
     "name": "stdout",
     "output_type": "stream",
     "text": [
      "  Downloading mnist-0.2.2-py2.py3-none-any.whl (3.5 kB)\r\n",
      "Requirement already satisfied: numpy in /opt/hostedtoolcache/Python/3.6.11/x64/lib/python3.6/site-packages (from mnist) (1.19.1)\r\n"
     ]
    },
    {
     "name": "stdout",
     "output_type": "stream",
     "text": [
      "Installing collected packages: mnist\r\n"
     ]
    },
    {
     "name": "stdout",
     "output_type": "stream",
     "text": [
      "Successfully installed mnist-0.2.2\r\n"
     ]
    }
   ],
   "source": [
    "!pip install mnist "
   ]
  },
  {
   "cell_type": "markdown",
   "metadata": {
    "papermill": {
     "duration": 0.022277,
     "end_time": "2020-08-21T10:04:23.350577",
     "exception": false,
     "start_time": "2020-08-21T10:04:23.328300",
     "status": "completed"
    },
    "tags": []
   },
   "source": [
    "#### Importing necessary libraries"
   ]
  },
  {
   "cell_type": "code",
   "execution_count": 2,
   "metadata": {
    "execution": {
     "iopub.execute_input": "2020-08-21T10:04:23.410547Z",
     "iopub.status.busy": "2020-08-21T10:04:23.408768Z",
     "iopub.status.idle": "2020-08-21T10:04:23.924681Z",
     "shell.execute_reply": "2020-08-21T10:04:23.923617Z"
    },
    "papermill": {
     "duration": 0.549385,
     "end_time": "2020-08-21T10:04:23.924829",
     "exception": false,
     "start_time": "2020-08-21T10:04:23.375444",
     "status": "completed"
    },
    "tags": []
   },
   "outputs": [],
   "source": [
    "%load_ext autoreload\n",
    "%autoreload 2\n",
    "\n",
    "%matplotlib inline\n",
    "import matplotlib.pyplot as plt\n",
    "\n",
    "import numpy as np\n",
    "import pandas as pd"
   ]
  },
  {
   "cell_type": "markdown",
   "metadata": {
    "papermill": {
     "duration": 0.022932,
     "end_time": "2020-08-21T10:04:23.970322",
     "exception": false,
     "start_time": "2020-08-21T10:04:23.947390",
     "status": "completed"
    },
    "tags": []
   },
   "source": [
    "### Preparing the Data"
   ]
  },
  {
   "cell_type": "code",
   "execution_count": 3,
   "metadata": {
    "execution": {
     "iopub.execute_input": "2020-08-21T10:04:24.029636Z",
     "iopub.status.busy": "2020-08-21T10:04:24.022388Z",
     "iopub.status.idle": "2020-08-21T10:04:24.033575Z",
     "shell.execute_reply": "2020-08-21T10:04:24.033141Z"
    },
    "papermill": {
     "duration": 0.039429,
     "end_time": "2020-08-21T10:04:24.033697",
     "exception": false,
     "start_time": "2020-08-21T10:04:23.994268",
     "status": "completed"
    },
    "tags": []
   },
   "outputs": [],
   "source": [
    "import mnist"
   ]
  },
  {
   "cell_type": "code",
   "execution_count": 4,
   "metadata": {
    "execution": {
     "iopub.execute_input": "2020-08-21T10:04:24.086083Z",
     "iopub.status.busy": "2020-08-21T10:04:24.085606Z",
     "iopub.status.idle": "2020-08-21T10:04:24.785090Z",
     "shell.execute_reply": "2020-08-21T10:04:24.783677Z"
    },
    "papermill": {
     "duration": 0.726591,
     "end_time": "2020-08-21T10:04:24.785233",
     "exception": false,
     "start_time": "2020-08-21T10:04:24.058642",
     "status": "completed"
    },
    "tags": []
   },
   "outputs": [],
   "source": [
    "train_images = mnist.train_images()\n",
    "train_labels = mnist.train_labels()"
   ]
  },
  {
   "cell_type": "code",
   "execution_count": 5,
   "metadata": {
    "execution": {
     "iopub.execute_input": "2020-08-21T10:04:24.839033Z",
     "iopub.status.busy": "2020-08-21T10:04:24.837394Z",
     "iopub.status.idle": "2020-08-21T10:04:24.849931Z",
     "shell.execute_reply": "2020-08-21T10:04:24.850375Z"
    },
    "papermill": {
     "duration": 0.042235,
     "end_time": "2020-08-21T10:04:24.850510",
     "exception": false,
     "start_time": "2020-08-21T10:04:24.808275",
     "status": "completed"
    },
    "tags": []
   },
   "outputs": [
    {
     "data": {
      "text/plain": [
       "((60000, 28, 28), (60000,))"
      ]
     },
     "execution_count": 5,
     "metadata": {},
     "output_type": "execute_result"
    }
   ],
   "source": [
    "train_images.shape, train_labels.shape"
   ]
  },
  {
   "cell_type": "code",
   "execution_count": 6,
   "metadata": {
    "execution": {
     "iopub.execute_input": "2020-08-21T10:04:24.905090Z",
     "iopub.status.busy": "2020-08-21T10:04:24.904525Z",
     "iopub.status.idle": "2020-08-21T10:04:25.152977Z",
     "shell.execute_reply": "2020-08-21T10:04:25.151883Z"
    },
    "papermill": {
     "duration": 0.278607,
     "end_time": "2020-08-21T10:04:25.153130",
     "exception": false,
     "start_time": "2020-08-21T10:04:24.874523",
     "status": "completed"
    },
    "tags": []
   },
   "outputs": [],
   "source": [
    "test_images = mnist.test_images()\n",
    "test_labels = mnist.test_labels()"
   ]
  },
  {
   "cell_type": "code",
   "execution_count": 7,
   "metadata": {
    "execution": {
     "iopub.execute_input": "2020-08-21T10:04:25.205199Z",
     "iopub.status.busy": "2020-08-21T10:04:25.204143Z",
     "iopub.status.idle": "2020-08-21T10:04:25.215731Z",
     "shell.execute_reply": "2020-08-21T10:04:25.216202Z"
    },
    "papermill": {
     "duration": 0.038726,
     "end_time": "2020-08-21T10:04:25.216337",
     "exception": false,
     "start_time": "2020-08-21T10:04:25.177611",
     "status": "completed"
    },
    "tags": []
   },
   "outputs": [
    {
     "data": {
      "text/plain": [
       "((10000, 28, 28), (10000,))"
      ]
     },
     "execution_count": 7,
     "metadata": {},
     "output_type": "execute_result"
    }
   ],
   "source": [
    "test_images.shape, test_labels.shape"
   ]
  },
  {
   "cell_type": "code",
   "execution_count": 8,
   "metadata": {
    "execution": {
     "iopub.execute_input": "2020-08-21T10:04:25.271555Z",
     "iopub.status.busy": "2020-08-21T10:04:25.270999Z",
     "iopub.status.idle": "2020-08-21T10:04:25.405668Z",
     "shell.execute_reply": "2020-08-21T10:04:25.405163Z"
    },
    "papermill": {
     "duration": 0.16366,
     "end_time": "2020-08-21T10:04:25.405797",
     "exception": false,
     "start_time": "2020-08-21T10:04:25.242137",
     "status": "completed"
    },
    "tags": []
   },
   "outputs": [
    {
     "name": "stdout",
     "output_type": "stream",
     "text": [
      "2\n"
     ]
    },
    {
     "data": {
      "text/plain": [
       "<matplotlib.image.AxesImage at 0x7f5765f26080>"
      ]
     },
     "execution_count": 8,
     "metadata": {},
     "output_type": "execute_result"
    },
    {
     "data": {
      "image/png": "[encoded data removed]",
      "text/plain": [
       "<Figure size 432x288 with 1 Axes>"
      ]
     },
     "metadata": {
      "needs_background": "light"
     },
     "output_type": "display_data"
    }
   ],
   "source": [
    "image_index = 7776 # You may select anything up to 60,000\n",
    "print(train_labels[image_index]) \n",
    "plt.imshow(train_images[image_index], cmap='Greys')"
   ]
  },
  {
   "cell_type": "markdown",
   "metadata": {
    "papermill": {
     "duration": 0.024654,
     "end_time": "2020-08-21T10:04:25.456332",
     "exception": false,
     "start_time": "2020-08-21T10:04:25.431678",
     "status": "completed"
    },
    "tags": []
   },
   "source": [
    "## Filter data to get 3 and 8 out"
   ]
  },
  {
   "cell_type": "code",
   "execution_count": 9,
   "metadata": {
    "execution": {
     "iopub.execute_input": "2020-08-21T10:04:25.513474Z",
     "iopub.status.busy": "2020-08-21T10:04:25.512878Z",
     "iopub.status.idle": "2020-08-21T10:04:25.532124Z",
     "shell.execute_reply": "2020-08-21T10:04:25.531638Z"
    },
    "papermill": {
     "duration": 0.050007,
     "end_time": "2020-08-21T10:04:25.532245",
     "exception": false,
     "start_time": "2020-08-21T10:04:25.482238",
     "status": "completed"
    },
    "tags": []
   },
   "outputs": [],
   "source": [
    "train_filter = np.where((train_labels == 3 ) | (train_labels == 8))\n",
    "test_filter = np.where((test_labels == 3) | (test_labels == 8))\n",
    "X_train, y_train = train_images[train_filter], train_labels[train_filter]\n",
    "X_test, y_test = test_images[test_filter], test_labels[test_filter]"
   ]
  },
  {
   "cell_type": "markdown",
   "metadata": {
    "papermill": {
     "duration": 0.02722,
     "end_time": "2020-08-21T10:04:25.587929",
     "exception": false,
     "start_time": "2020-08-21T10:04:25.560709",
     "status": "completed"
    },
    "tags": []
   },
   "source": [
    "We normalize the pixel values in the 0 to 1 range"
   ]
  },
  {
   "cell_type": "code",
   "execution_count": 10,
   "metadata": {
    "execution": {
     "iopub.execute_input": "2020-08-21T10:04:25.641812Z",
     "iopub.status.busy": "2020-08-21T10:04:25.641278Z",
     "iopub.status.idle": "2020-08-21T10:04:25.695344Z",
     "shell.execute_reply": "2020-08-21T10:04:25.694760Z"
    },
    "papermill": {
     "duration": 0.082767,
     "end_time": "2020-08-21T10:04:25.695477",
     "exception": false,
     "start_time": "2020-08-21T10:04:25.612710",
     "status": "completed"
    },
    "tags": []
   },
   "outputs": [],
   "source": [
    "X_train = X_train/255.\n",
    "X_test = X_test/255."
   ]
  },
  {
   "cell_type": "markdown",
   "metadata": {
    "papermill": {
     "duration": 0.028753,
     "end_time": "2020-08-21T10:04:25.753523",
     "exception": false,
     "start_time": "2020-08-21T10:04:25.724770",
     "status": "completed"
    },
    "tags": []
   },
   "source": [
    "Setup the labels as 1 (when the digit is 3) and 0 (when the digit is 8)"
   ]
  },
  {
   "cell_type": "code",
   "execution_count": 11,
   "metadata": {
    "execution": {
     "iopub.execute_input": "2020-08-21T10:04:25.819548Z",
     "iopub.status.busy": "2020-08-21T10:04:25.818952Z",
     "iopub.status.idle": "2020-08-21T10:04:25.831141Z",
     "shell.execute_reply": "2020-08-21T10:04:25.831652Z"
    },
    "papermill": {
     "duration": 0.045739,
     "end_time": "2020-08-21T10:04:25.831799",
     "exception": false,
     "start_time": "2020-08-21T10:04:25.786060",
     "status": "completed"
    },
    "tags": []
   },
   "outputs": [],
   "source": [
    "y_train = 1*(y_train==3)\n",
    "y_test = 1*(y_test==3)"
   ]
  },
  {
   "cell_type": "code",
   "execution_count": 12,
   "metadata": {
    "execution": {
     "iopub.execute_input": "2020-08-21T10:04:25.892728Z",
     "iopub.status.busy": "2020-08-21T10:04:25.892144Z",
     "iopub.status.idle": "2020-08-21T10:04:25.908331Z",
     "shell.execute_reply": "2020-08-21T10:04:25.908813Z"
    },
    "papermill": {
     "duration": 0.048673,
     "end_time": "2020-08-21T10:04:25.908996",
     "exception": false,
     "start_time": "2020-08-21T10:04:25.860323",
     "status": "completed"
    },
    "tags": []
   },
   "outputs": [
    {
     "data": {
      "text/plain": [
       "((11982, 28, 28), (1984, 28, 28))"
      ]
     },
     "execution_count": 12,
     "metadata": {},
     "output_type": "execute_result"
    }
   ],
   "source": [
    "X_train.shape, X_test.shape"
   ]
  },
  {
   "cell_type": "markdown",
   "metadata": {
    "papermill": {
     "duration": 0.026694,
     "end_time": "2020-08-21T10:04:25.963839",
     "exception": false,
     "start_time": "2020-08-21T10:04:25.937145",
     "status": "completed"
    },
    "tags": []
   },
   "source": [
    "### Reshape the input data to create a linear array"
   ]
  },
  {
   "cell_type": "code",
   "execution_count": 13,
   "metadata": {
    "execution": {
     "iopub.execute_input": "2020-08-21T10:04:26.024232Z",
     "iopub.status.busy": "2020-08-21T10:04:26.023658Z",
     "iopub.status.idle": "2020-08-21T10:04:26.039133Z",
     "shell.execute_reply": "2020-08-21T10:04:26.038406Z"
    },
    "papermill": {
     "duration": 0.047533,
     "end_time": "2020-08-21T10:04:26.039260",
     "exception": false,
     "start_time": "2020-08-21T10:04:25.991727",
     "status": "completed"
    },
    "tags": []
   },
   "outputs": [
    {
     "data": {
      "text/plain": [
       "((11982, 784), (1984, 784))"
      ]
     },
     "execution_count": 13,
     "metadata": {},
     "output_type": "execute_result"
    }
   ],
   "source": [
    "X_train = X_train.reshape(X_train.shape[0], -1)\n",
    "X_test = X_test.reshape(X_test.shape[0], -1)\n",
    "X_train.shape, X_test.shape"
   ]
  },
  {
   "cell_type": "markdown",
   "metadata": {
    "papermill": {
     "duration": 0.031405,
     "end_time": "2020-08-21T10:04:26.105807",
     "exception": false,
     "start_time": "2020-08-21T10:04:26.074402",
     "status": "completed"
    },
    "tags": []
   },
   "source": [
    "### Importing appropriate functions from 'Kudzu'"
   ]
  },
  {
   "cell_type": "code",
   "execution_count": 14,
   "metadata": {
    "execution": {
     "iopub.execute_input": "2020-08-21T10:04:26.167848Z",
     "iopub.status.busy": "2020-08-21T10:04:26.167227Z",
     "iopub.status.idle": "2020-08-21T10:04:26.189378Z",
     "shell.execute_reply": "2020-08-21T10:04:26.188841Z"
    },
    "papermill": {
     "duration": 0.056223,
     "end_time": "2020-08-21T10:04:26.189504",
     "exception": false,
     "start_time": "2020-08-21T10:04:26.133281",
     "status": "completed"
    },
    "tags": []
   },
   "outputs": [],
   "source": [
    "from kudzu.layer import Sigmoid\n",
    "from kudzu.layer import Relu\n",
    "from kudzu.layer import Affine, Sigmoid\n",
    "\n",
    "from kudzu.model import Model\n",
    "from kudzu.train import Learner\n",
    "from kudzu.optim import GD\n",
    "from kudzu.data import Data, Dataloader, Sampler\n",
    "\n",
    "from kudzu.callbacks import AccCallback\n",
    "from kudzu.callbacks import ClfCallback\n",
    "\n",
    "from kudzu.loss import MSE"
   ]
  },
  {
   "cell_type": "markdown",
   "metadata": {
    "papermill": {
     "duration": 0.027078,
     "end_time": "2020-08-21T10:04:26.243173",
     "exception": false,
     "start_time": "2020-08-21T10:04:26.216095",
     "status": "completed"
    },
    "tags": []
   },
   "source": [
    "### Let us create a `Config` class, to store important parameters. \n",
    "This class essentially plays the role of a dictionary."
   ]
  },
  {
   "cell_type": "code",
   "execution_count": 15,
   "metadata": {
    "execution": {
     "iopub.execute_input": "2020-08-21T10:04:26.302742Z",
     "iopub.status.busy": "2020-08-21T10:04:26.302148Z",
     "iopub.status.idle": "2020-08-21T10:04:26.314614Z",
     "shell.execute_reply": "2020-08-21T10:04:26.315035Z"
    },
    "papermill": {
     "duration": 0.044232,
     "end_time": "2020-08-21T10:04:26.315184",
     "exception": false,
     "start_time": "2020-08-21T10:04:26.270952",
     "status": "completed"
    },
    "tags": []
   },
   "outputs": [],
   "source": [
    "class Config:\n",
    "    pass\n",
    "config = Config()\n",
    "config.lr = 0.001\n",
    "config.num_epochs = 251\n",
    "config.bs = 50"
   ]
  },
  {
   "cell_type": "markdown",
   "metadata": {
    "papermill": {
     "duration": 0.026761,
     "end_time": "2020-08-21T10:04:26.368427",
     "exception": false,
     "start_time": "2020-08-21T10:04:26.341666",
     "status": "completed"
    },
    "tags": []
   },
   "source": [
    "### Initializing data to the variables"
   ]
  },
  {
   "cell_type": "code",
   "execution_count": 16,
   "metadata": {
    "execution": {
     "iopub.execute_input": "2020-08-21T10:04:26.426789Z",
     "iopub.status.busy": "2020-08-21T10:04:26.426284Z",
     "iopub.status.idle": "2020-08-21T10:04:26.440098Z",
     "shell.execute_reply": "2020-08-21T10:04:26.439651Z"
    },
    "papermill": {
     "duration": 0.044484,
     "end_time": "2020-08-21T10:04:26.440224",
     "exception": false,
     "start_time": "2020-08-21T10:04:26.395740",
     "status": "completed"
    },
    "tags": []
   },
   "outputs": [],
   "source": [
    "data = Data(X_train, y_train.reshape(-1,1))\n",
    "sampler = Sampler(data, config.bs, shuffle=True)\n",
    "\n",
    "dl = Dataloader(data, sampler)\n",
    "\n",
    "opt = GD(config.lr)\n",
    "loss = MSE()"
   ]
  },
  {
   "cell_type": "code",
   "execution_count": 17,
   "metadata": {
    "execution": {
     "iopub.execute_input": "2020-08-21T10:04:26.494088Z",
     "iopub.status.busy": "2020-08-21T10:04:26.493267Z",
     "iopub.status.idle": "2020-08-21T10:04:26.506730Z",
     "shell.execute_reply": "2020-08-21T10:04:26.506267Z"
    },
    "papermill": {
     "duration": 0.042181,
     "end_time": "2020-08-21T10:04:26.506846",
     "exception": false,
     "start_time": "2020-08-21T10:04:26.464665",
     "status": "completed"
    },
    "tags": []
   },
   "outputs": [],
   "source": [
    "training_xdata = X_train\n",
    "testing_xdata = X_test\n",
    "training_ydata = y_train.reshape(-1,1)\n",
    "testing_ydata = y_test.reshape(-1,1)"
   ]
  },
  {
   "cell_type": "markdown",
   "metadata": {
    "papermill": {
     "duration": 0.024627,
     "end_time": "2020-08-21T10:04:26.556400",
     "exception": false,
     "start_time": "2020-08-21T10:04:26.531773",
     "status": "completed"
    },
    "tags": []
   },
   "source": [
    "### Running Models with the Training data\n",
    "Details about the network layers:\n",
    "- A first affine layer has 784 inputs and does 100 affine transforms. These are followed by a Relu\n",
    "- A second affine layer has 100 inputs from the 100 activations of the past layer, and does 100 affine transforms. These are followed by a Relu\n",
    "- A third affine layer has 100 activations and does 2 affine transformations to create an embedding for visualization. There is no non-linearity here.\n",
    "- A final \"logistic regression\" which has an affine transform from 2 inputs to 1 output, which is squeezed through a sigmoid.\n",
    "\n",
    "Help taken from Anshuman's Notebook."
   ]
  },
  {
   "cell_type": "code",
   "execution_count": 18,
   "metadata": {
    "execution": {
     "iopub.execute_input": "2020-08-21T10:04:26.622831Z",
     "iopub.status.busy": "2020-08-21T10:04:26.622270Z",
     "iopub.status.idle": "2020-08-21T10:04:26.642040Z",
     "shell.execute_reply": "2020-08-21T10:04:26.640956Z"
    },
    "papermill": {
     "duration": 0.055677,
     "end_time": "2020-08-21T10:04:26.642192",
     "exception": false,
     "start_time": "2020-08-21T10:04:26.586515",
     "status": "completed"
    },
    "tags": []
   },
   "outputs": [],
   "source": [
    "# layers for the Neural Network\n",
    "layers = [Affine(\"first\", 784, 100), Relu(\"first\"), Affine(\"second\", 100, 100), Relu(\"second\"), Affine(\"third\", 100, 2), Affine(\"final\", 2, 1), Sigmoid(\"final\")]\n",
    "model_nn = Model(layers)\n",
    "\n",
    "# layers for the Logistic Regression\n",
    "layers_lr = [Affine(\"logits\", 784, 1), Sigmoid(\"sigmoid\")]\n",
    "model_lr = Model(layers_lr)"
   ]
  },
  {
   "cell_type": "code",
   "execution_count": 19,
   "metadata": {
    "execution": {
     "iopub.execute_input": "2020-08-21T10:04:26.700062Z",
     "iopub.status.busy": "2020-08-21T10:04:26.699539Z",
     "iopub.status.idle": "2020-08-21T10:04:26.711679Z",
     "shell.execute_reply": "2020-08-21T10:04:26.711176Z"
    },
    "papermill": {
     "duration": 0.044221,
     "end_time": "2020-08-21T10:04:26.711788",
     "exception": false,
     "start_time": "2020-08-21T10:04:26.667567",
     "status": "completed"
    },
    "tags": []
   },
   "outputs": [],
   "source": [
    "# suffix _nn stands for Neural Network.\n",
    "learner_nn = Learner(loss, model_nn, opt, config.num_epochs)\n",
    "acc_nn = ClfCallback(learner_nn, config.bs, training_xdata , testing_xdata, training_ydata, testing_ydata)\n",
    "learner_nn.set_callbacks([acc_nn])"
   ]
  },
  {
   "cell_type": "code",
   "execution_count": 20,
   "metadata": {
    "execution": {
     "iopub.execute_input": "2020-08-21T10:04:26.768980Z",
     "iopub.status.busy": "2020-08-21T10:04:26.768364Z",
     "iopub.status.idle": "2020-08-21T10:05:50.193761Z",
     "shell.execute_reply": "2020-08-21T10:05:50.194582Z"
    },
    "papermill": {
     "duration": 83.456803,
     "end_time": "2020-08-21T10:05:50.194736",
     "exception": false,
     "start_time": "2020-08-21T10:04:26.737933",
     "status": "completed"
    },
    "tags": []
   },
   "outputs": [
    {
     "name": "stdout",
     "output_type": "stream",
     "text": [
      "====== Neural Network ======\n"
     ]
    },
    {
     "name": "stdout",
     "output_type": "stream",
     "text": [
      "Epoch 0, Loss 0.2479\n",
      "Training Accuracy: 0.5917, Testing Accuracy: 0.6089\n",
      "\n"
     ]
    },
    {
     "name": "stdout",
     "output_type": "stream",
     "text": [
      "Epoch 10, Loss 0.2224\n",
      "Training Accuracy: 0.8601, Testing Accuracy: 0.8775\n",
      "\n"
     ]
    },
    {
     "name": "stdout",
     "output_type": "stream",
     "text": [
      "Epoch 20, Loss 0.1291\n",
      "Training Accuracy: 0.9061, Testing Accuracy: 0.9204\n",
      "\n"
     ]
    },
    {
     "name": "stdout",
     "output_type": "stream",
     "text": [
      "Epoch 30, Loss 0.069\n",
      "Training Accuracy: 0.9329, Testing Accuracy: 0.9461\n",
      "\n"
     ]
    },
    {
     "name": "stdout",
     "output_type": "stream",
     "text": [
      "Epoch 40, Loss 0.0503\n",
      "Training Accuracy: 0.9465, Testing Accuracy: 0.9561\n",
      "\n"
     ]
    },
    {
     "name": "stdout",
     "output_type": "stream",
     "text": [
      "Epoch 50, Loss 0.0422\n",
      "Training Accuracy: 0.9526, Testing Accuracy: 0.9642\n",
      "\n"
     ]
    },
    {
     "name": "stdout",
     "output_type": "stream",
     "text": [
      "Epoch 60, Loss 0.0378\n",
      "Training Accuracy: 0.9571, Testing Accuracy: 0.9652\n",
      "\n"
     ]
    },
    {
     "name": "stdout",
     "output_type": "stream",
     "text": [
      "Epoch 70, Loss 0.0349\n",
      "Training Accuracy: 0.9600, Testing Accuracy: 0.9688\n",
      "\n"
     ]
    },
    {
     "name": "stdout",
     "output_type": "stream",
     "text": [
      "Epoch 80, Loss 0.0328\n",
      "Training Accuracy: 0.9615, Testing Accuracy: 0.9693\n",
      "\n"
     ]
    },
    {
     "name": "stdout",
     "output_type": "stream",
     "text": [
      "Epoch 90, Loss 0.0312\n",
      "Training Accuracy: 0.9637, Testing Accuracy: 0.9698\n",
      "\n"
     ]
    },
    {
     "name": "stdout",
     "output_type": "stream",
     "text": [
      "Epoch 100, Loss 0.0299\n",
      "Training Accuracy: 0.9653, Testing Accuracy: 0.9703\n",
      "\n"
     ]
    },
    {
     "name": "stdout",
     "output_type": "stream",
     "text": [
      "Epoch 110, Loss 0.0288\n",
      "Training Accuracy: 0.9657, Testing Accuracy: 0.9688\n",
      "\n"
     ]
    },
    {
     "name": "stdout",
     "output_type": "stream",
     "text": [
      "Epoch 120, Loss 0.0278\n",
      "Training Accuracy: 0.9666, Testing Accuracy: 0.9698\n",
      "\n"
     ]
    },
    {
     "name": "stdout",
     "output_type": "stream",
     "text": [
      "Epoch 130, Loss 0.027\n",
      "Training Accuracy: 0.9675, Testing Accuracy: 0.9688\n",
      "\n"
     ]
    },
    {
     "name": "stdout",
     "output_type": "stream",
     "text": [
      "Epoch 140, Loss 0.0263\n",
      "Training Accuracy: 0.9688, Testing Accuracy: 0.9688\n",
      "\n"
     ]
    },
    {
     "name": "stdout",
     "output_type": "stream",
     "text": [
      "Epoch 150, Loss 0.0256\n",
      "Training Accuracy: 0.9699, Testing Accuracy: 0.9693\n",
      "\n"
     ]
    },
    {
     "name": "stdout",
     "output_type": "stream",
     "text": [
      "Epoch 160, Loss 0.025\n",
      "Training Accuracy: 0.9702, Testing Accuracy: 0.9693\n",
      "\n"
     ]
    },
    {
     "name": "stdout",
     "output_type": "stream",
     "text": [
      "Epoch 170, Loss 0.0245\n",
      "Training Accuracy: 0.9710, Testing Accuracy: 0.9693\n",
      "\n"
     ]
    },
    {
     "name": "stdout",
     "output_type": "stream",
     "text": [
      "Epoch 180, Loss 0.024\n",
      "Training Accuracy: 0.9718, Testing Accuracy: 0.9693\n",
      "\n"
     ]
    },
    {
     "name": "stdout",
     "output_type": "stream",
     "text": [
      "Epoch 190, Loss 0.0235\n",
      "Training Accuracy: 0.9728, Testing Accuracy: 0.9698\n",
      "\n"
     ]
    },
    {
     "name": "stdout",
     "output_type": "stream",
     "text": [
      "Epoch 200, Loss 0.0231\n",
      "Training Accuracy: 0.9735, Testing Accuracy: 0.9698\n",
      "\n"
     ]
    },
    {
     "name": "stdout",
     "output_type": "stream",
     "text": [
      "Epoch 210, Loss 0.0226\n",
      "Training Accuracy: 0.9743, Testing Accuracy: 0.9703\n",
      "\n"
     ]
    },
    {
     "name": "stdout",
     "output_type": "stream",
     "text": [
      "Epoch 220, Loss 0.0222\n",
      "Training Accuracy: 0.9745, Testing Accuracy: 0.9698\n",
      "\n"
     ]
    },
    {
     "name": "stdout",
     "output_type": "stream",
     "text": [
      "Epoch 230, Loss 0.0219\n",
      "Training Accuracy: 0.9750, Testing Accuracy: 0.9693\n",
      "\n"
     ]
    },
    {
     "name": "stdout",
     "output_type": "stream",
     "text": [
      "Epoch 240, Loss 0.0215\n",
      "Training Accuracy: 0.9756, Testing Accuracy: 0.9703\n",
      "\n"
     ]
    },
    {
     "name": "stdout",
     "output_type": "stream",
     "text": [
      "Epoch 250, Loss 0.0212\n",
      "Training Accuracy: 0.9760, Testing Accuracy: 0.9698\n",
      "\n"
     ]
    },
    {
     "data": {
      "text/plain": [
       "0.012516847282596937"
      ]
     },
     "execution_count": 20,
     "metadata": {},
     "output_type": "execute_result"
    }
   ],
   "source": [
    "print(\"====== Neural Network ======\")\n",
    "learner_nn.train_loop(dl)"
   ]
  },
  {
   "cell_type": "markdown",
   "metadata": {
    "papermill": {
     "duration": 0.03503,
     "end_time": "2020-08-21T10:05:50.267507",
     "exception": false,
     "start_time": "2020-08-21T10:05:50.232477",
     "status": "completed"
    },
    "tags": []
   },
   "source": [
    "### Logistic Regression based Implementation."
   ]
  },
  {
   "cell_type": "code",
   "execution_count": 21,
   "metadata": {
    "execution": {
     "iopub.execute_input": "2020-08-21T10:05:50.349153Z",
     "iopub.status.busy": "2020-08-21T10:05:50.348123Z",
     "iopub.status.idle": "2020-08-21T10:05:50.359791Z",
     "shell.execute_reply": "2020-08-21T10:05:50.359311Z"
    },
    "papermill": {
     "duration": 0.053129,
     "end_time": "2020-08-21T10:05:50.359919",
     "exception": false,
     "start_time": "2020-08-21T10:05:50.306790",
     "status": "completed"
    },
    "tags": []
   },
   "outputs": [],
   "source": [
    "learner_lr = Learner(loss, model_lr, opt, config.num_epochs)\n",
    "acc_lr = ClfCallback(learner_lr, config.bs, training_xdata , testing_xdata, training_ydata, testing_ydata)\n",
    "learner_lr.set_callbacks([acc_lr])"
   ]
  },
  {
   "cell_type": "code",
   "execution_count": 22,
   "metadata": {
    "execution": {
     "iopub.execute_input": "2020-08-21T10:05:50.437551Z",
     "iopub.status.busy": "2020-08-21T10:05:50.436947Z",
     "iopub.status.idle": "2020-08-21T10:06:06.039144Z",
     "shell.execute_reply": "2020-08-21T10:06:06.039607Z"
    },
    "papermill": {
     "duration": 15.644366,
     "end_time": "2020-08-21T10:06:06.039754",
     "exception": false,
     "start_time": "2020-08-21T10:05:50.395388",
     "status": "completed"
    },
    "tags": []
   },
   "outputs": [
    {
     "name": "stdout",
     "output_type": "stream",
     "text": [
      "====== Logistic Regression ======\n",
      "Epoch 0, Loss 0.2328\n",
      "Training Accuracy: 0.7041, Testing Accuracy: 0.7329\n",
      "\n"
     ]
    },
    {
     "name": "stdout",
     "output_type": "stream",
     "text": [
      "Epoch 10, Loss 0.1002\n",
      "Training Accuracy: 0.9141, Testing Accuracy: 0.9239\n",
      "\n"
     ]
    },
    {
     "name": "stdout",
     "output_type": "stream",
     "text": [
      "Epoch 20, Loss 0.0777\n",
      "Training Accuracy: 0.9295, Testing Accuracy: 0.9410\n",
      "\n"
     ]
    },
    {
     "name": "stdout",
     "output_type": "stream",
     "text": [
      "Epoch 30, Loss 0.0673\n",
      "Training Accuracy: 0.9378, Testing Accuracy: 0.9511\n",
      "\n"
     ]
    },
    {
     "name": "stdout",
     "output_type": "stream",
     "text": [
      "Epoch 40, Loss 0.0609\n",
      "Training Accuracy: 0.9428, Testing Accuracy: 0.9556\n",
      "\n"
     ]
    },
    {
     "name": "stdout",
     "output_type": "stream",
     "text": [
      "Epoch 50, Loss 0.0566\n",
      "Training Accuracy: 0.9452, Testing Accuracy: 0.9556\n",
      "\n"
     ]
    },
    {
     "name": "stdout",
     "output_type": "stream",
     "text": [
      "Epoch 60, Loss 0.0534\n",
      "Training Accuracy: 0.9471, Testing Accuracy: 0.9577\n",
      "\n"
     ]
    },
    {
     "name": "stdout",
     "output_type": "stream",
     "text": [
      "Epoch 70, Loss 0.0509\n",
      "Training Accuracy: 0.9491, Testing Accuracy: 0.9597\n",
      "\n"
     ]
    },
    {
     "name": "stdout",
     "output_type": "stream",
     "text": [
      "Epoch 80, Loss 0.0489\n",
      "Training Accuracy: 0.9511, Testing Accuracy: 0.9637\n",
      "\n"
     ]
    },
    {
     "name": "stdout",
     "output_type": "stream",
     "text": [
      "Epoch 90, Loss 0.0472\n",
      "Training Accuracy: 0.9523, Testing Accuracy: 0.9642\n",
      "\n"
     ]
    },
    {
     "name": "stdout",
     "output_type": "stream",
     "text": [
      "Epoch 100, Loss 0.0458\n",
      "Training Accuracy: 0.9530, Testing Accuracy: 0.9637\n",
      "\n"
     ]
    },
    {
     "name": "stdout",
     "output_type": "stream",
     "text": [
      "Epoch 110, Loss 0.0446\n",
      "Training Accuracy: 0.9539, Testing Accuracy: 0.9637\n",
      "\n"
     ]
    },
    {
     "name": "stdout",
     "output_type": "stream",
     "text": [
      "Epoch 120, Loss 0.0436\n",
      "Training Accuracy: 0.9549, Testing Accuracy: 0.9637\n",
      "\n"
     ]
    },
    {
     "name": "stdout",
     "output_type": "stream",
     "text": [
      "Epoch 130, Loss 0.0427\n",
      "Training Accuracy: 0.9557, Testing Accuracy: 0.9642\n",
      "\n"
     ]
    },
    {
     "name": "stdout",
     "output_type": "stream",
     "text": [
      "Epoch 140, Loss 0.0419\n",
      "Training Accuracy: 0.9565, Testing Accuracy: 0.9647\n",
      "\n"
     ]
    },
    {
     "name": "stdout",
     "output_type": "stream",
     "text": [
      "Epoch 150, Loss 0.0411\n",
      "Training Accuracy: 0.9573, Testing Accuracy: 0.9647\n",
      "\n"
     ]
    },
    {
     "name": "stdout",
     "output_type": "stream",
     "text": [
      "Epoch 160, Loss 0.0405\n",
      "Training Accuracy: 0.9579, Testing Accuracy: 0.9652\n",
      "\n"
     ]
    },
    {
     "name": "stdout",
     "output_type": "stream",
     "text": [
      "Epoch 170, Loss 0.0399\n",
      "Training Accuracy: 0.9584, Testing Accuracy: 0.9652\n",
      "\n"
     ]
    },
    {
     "name": "stdout",
     "output_type": "stream",
     "text": [
      "Epoch 180, Loss 0.0393\n",
      "Training Accuracy: 0.9585, Testing Accuracy: 0.9657\n",
      "\n"
     ]
    },
    {
     "name": "stdout",
     "output_type": "stream",
     "text": [
      "Epoch 190, Loss 0.0388\n",
      "Training Accuracy: 0.9591, Testing Accuracy: 0.9652\n",
      "\n"
     ]
    },
    {
     "name": "stdout",
     "output_type": "stream",
     "text": [
      "Epoch 200, Loss 0.0383\n",
      "Training Accuracy: 0.9599, Testing Accuracy: 0.9652\n",
      "\n"
     ]
    },
    {
     "name": "stdout",
     "output_type": "stream",
     "text": [
      "Epoch 210, Loss 0.0379\n",
      "Training Accuracy: 0.9601, Testing Accuracy: 0.9652\n",
      "\n"
     ]
    },
    {
     "name": "stdout",
     "output_type": "stream",
     "text": [
      "Epoch 220, Loss 0.0375\n",
      "Training Accuracy: 0.9604, Testing Accuracy: 0.9647\n",
      "\n"
     ]
    },
    {
     "name": "stdout",
     "output_type": "stream",
     "text": [
      "Epoch 230, Loss 0.0371\n",
      "Training Accuracy: 0.9609, Testing Accuracy: 0.9652\n",
      "\n"
     ]
    },
    {
     "name": "stdout",
     "output_type": "stream",
     "text": [
      "Epoch 240, Loss 0.0368\n",
      "Training Accuracy: 0.9610, Testing Accuracy: 0.9652\n",
      "\n"
     ]
    },
    {
     "name": "stdout",
     "output_type": "stream",
     "text": [
      "Epoch 250, Loss 0.0364\n",
      "Training Accuracy: 0.9610, Testing Accuracy: 0.9652\n",
      "\n"
     ]
    },
    {
     "data": {
      "text/plain": [
       "0.03454016389611967"
      ]
     },
     "execution_count": 22,
     "metadata": {},
     "output_type": "execute_result"
    }
   ],
   "source": [
    "print(\"====== Logistic Regression ======\")\n",
    "learner_lr.train_loop(dl)"
   ]
  },
  {
   "cell_type": "markdown",
   "metadata": {
    "papermill": {
     "duration": 0.04332,
     "end_time": "2020-08-21T10:06:06.124952",
     "exception": false,
     "start_time": "2020-08-21T10:06:06.081632",
     "status": "completed"
    },
    "tags": []
   },
   "source": [
    "### Comparing results of NN and LR"
   ]
  },
  {
   "cell_type": "code",
   "execution_count": 23,
   "metadata": {
    "execution": {
     "iopub.execute_input": "2020-08-21T10:06:06.217726Z",
     "iopub.status.busy": "2020-08-21T10:06:06.215780Z",
     "iopub.status.idle": "2020-08-21T10:06:06.447691Z",
     "shell.execute_reply": "2020-08-21T10:06:06.448152Z"
    },
    "papermill": {
     "duration": 0.281036,
     "end_time": "2020-08-21T10:06:06.448303",
     "exception": false,
     "start_time": "2020-08-21T10:06:06.167267",
     "status": "completed"
    },
    "tags": []
   },
   "outputs": [
    {
     "data": {
      "text/plain": [
       "<matplotlib.legend.Legend at 0x7f5765aff780>"
      ]
     },
     "execution_count": 23,
     "metadata": {},
     "output_type": "execute_result"
    },
    {
     "data": {
      "image/png": "[encoded data removed]",
      "text/plain": [
       "<Figure size 1080x720 with 1 Axes>"
      ]
     },
     "metadata": {
      "needs_background": "light"
     },
     "output_type": "display_data"
    }
   ],
   "source": [
    "plt.figure(figsize=(15,10))\n",
    "\n",
    "# Neural Network plots\n",
    "plt.plot(acc_nn.accuracies, 'r-', label = \"Training Accuracies - NN\")\n",
    "plt.plot(acc_nn.test_accuracies, 'g-', label = \"Testing Accuracies - NN\")\n",
    "\n",
    "# Logistic Regression plots\n",
    "plt.plot(acc_lr.accuracies, 'k-', label = \"Training Accuracies - LR\")\n",
    "plt.plot(acc_lr.test_accuracies, 'b-', label = \"Testing Accuracies - LR\")\n",
    "\n",
    "plt.ylim(0.8, 1)\n",
    "\n",
    "plt.legend()\n",
    "\n"
   ]
  },
  {
   "cell_type": "markdown",
   "metadata": {
    "papermill": {
     "duration": 0.044939,
     "end_time": "2020-08-21T10:06:06.536790",
     "exception": false,
     "start_time": "2020-08-21T10:06:06.491851",
     "status": "completed"
    },
    "tags": []
   },
   "source": [
    "### From the plot, we can observe the following:\n",
    "- Neural Network achieves higher accuracy than the Logistic Regression model.\n",
    "- This apparently, is because of overfitting, i.e. NN captures more noise than data.\n",
    "- Testing accuracy of NN drops below the Training accuracy at higher epochs. This explains the over-fitting on training data.\n",
    "- Logistic Regression gives a reliable accuracy, without the above mentioned problem.\n"
   ]
  },
  {
   "cell_type": "markdown",
   "metadata": {
    "papermill": {
     "duration": 0.042975,
     "end_time": "2020-08-21T10:06:06.624560",
     "exception": false,
     "start_time": "2020-08-21T10:06:06.581585",
     "status": "completed"
    },
    "tags": []
   },
   "source": [
    "### Moving till the last but one layer (excluding it).\n",
    "#### Plotting the outputs of this layer of the NN."
   ]
  },
  {
   "cell_type": "code",
   "execution_count": 24,
   "metadata": {
    "execution": {
     "iopub.execute_input": "2020-08-21T10:06:06.718233Z",
     "iopub.status.busy": "2020-08-21T10:06:06.717614Z",
     "iopub.status.idle": "2020-08-21T10:06:06.735322Z",
     "shell.execute_reply": "2020-08-21T10:06:06.734802Z"
    },
    "papermill": {
     "duration": 0.066874,
     "end_time": "2020-08-21T10:06:06.735452",
     "exception": false,
     "start_time": "2020-08-21T10:06:06.668578",
     "status": "completed"
    },
    "tags": []
   },
   "outputs": [],
   "source": [
    "model_new = Model(layers[:-2])"
   ]
  },
  {
   "cell_type": "code",
   "execution_count": 25,
   "metadata": {
    "execution": {
     "iopub.execute_input": "2020-08-21T10:06:06.835448Z",
     "iopub.status.busy": "2020-08-21T10:06:06.834898Z",
     "iopub.status.idle": "2020-08-21T10:06:06.856887Z",
     "shell.execute_reply": "2020-08-21T10:06:06.857381Z"
    },
    "papermill": {
     "duration": 0.07523,
     "end_time": "2020-08-21T10:06:06.857532",
     "exception": false,
     "start_time": "2020-08-21T10:06:06.782302",
     "status": "completed"
    },
    "tags": []
   },
   "outputs": [],
   "source": [
    "plot_testing = model_new(testing_xdata)"
   ]
  },
  {
   "cell_type": "code",
   "execution_count": 26,
   "metadata": {
    "execution": {
     "iopub.execute_input": "2020-08-21T10:06:06.954455Z",
     "iopub.status.busy": "2020-08-21T10:06:06.953862Z",
     "iopub.status.idle": "2020-08-21T10:06:07.157860Z",
     "shell.execute_reply": "2020-08-21T10:06:07.158444Z"
    },
    "papermill": {
     "duration": 0.254742,
     "end_time": "2020-08-21T10:06:07.158605",
     "exception": false,
     "start_time": "2020-08-21T10:06:06.903863",
     "status": "completed"
    },
    "tags": []
   },
   "outputs": [
    {
     "data": {
      "text/plain": [
       "Text(0.5, 1.0, 'Outputs')"
      ]
     },
     "execution_count": 26,
     "metadata": {},
     "output_type": "execute_result"
    },
    {
     "data": {
      "image/png": "[encoded data removed]",
      "text/plain": [
       "<Figure size 576x504 with 1 Axes>"
      ]
     },
     "metadata": {
      "needs_background": "light"
     },
     "output_type": "display_data"
    }
   ],
   "source": [
    "plt.figure(figsize=(8,7))\n",
    "plt.scatter(plot_testing[:,0], plot_testing[:,1], alpha = 0.1, c = y_test.ravel());\n",
    "plt.title('Outputs')"
   ]
  },
  {
   "cell_type": "markdown",
   "metadata": {
    "papermill": {
     "duration": 0.045736,
     "end_time": "2020-08-21T10:06:07.250140",
     "exception": false,
     "start_time": "2020-08-21T10:06:07.204404",
     "status": "completed"
    },
    "tags": []
   },
   "source": [
    "### Plotting probability contours"
   ]
  },
  {
   "cell_type": "code",
   "execution_count": 27,
   "metadata": {
    "execution": {
     "iopub.execute_input": "2020-08-21T10:06:07.352606Z",
     "iopub.status.busy": "2020-08-21T10:06:07.351589Z",
     "iopub.status.idle": "2020-08-21T10:06:07.364954Z",
     "shell.execute_reply": "2020-08-21T10:06:07.364443Z"
    },
    "papermill": {
     "duration": 0.066673,
     "end_time": "2020-08-21T10:06:07.365083",
     "exception": false,
     "start_time": "2020-08-21T10:06:07.298410",
     "status": "completed"
    },
    "tags": []
   },
   "outputs": [],
   "source": [
    "model_prob = Model(layers[-2:]) "
   ]
  },
  {
   "cell_type": "code",
   "execution_count": 28,
   "metadata": {
    "execution": {
     "iopub.execute_input": "2020-08-21T10:06:07.461214Z",
     "iopub.status.busy": "2020-08-21T10:06:07.460296Z",
     "iopub.status.idle": "2020-08-21T10:06:07.474502Z",
     "shell.execute_reply": "2020-08-21T10:06:07.474954Z"
    },
    "papermill": {
     "duration": 0.062489,
     "end_time": "2020-08-21T10:06:07.475102",
     "exception": false,
     "start_time": "2020-08-21T10:06:07.412613",
     "status": "completed"
    },
    "tags": []
   },
   "outputs": [],
   "source": [
    "# Adjust the x and y ranges according to the above generated plot.\n",
    "x_range = np.linspace(-4, 1, 100) \n",
    "y_range = np.linspace(-6, 6, 100) \n",
    "x_grid, y_grid = np.meshgrid(x_range, y_range) # x_grid and y_grig are of size 100 X 100\n",
    "\n",
    "# converting x_grid and y_grid to continuous arrays\n",
    "x_grid_flat = np.ravel(x_grid)\n",
    "y_grid_flat = np.ravel(y_grid)\n",
    "\n",
    "# The last layer of the current model takes two columns as input. Hence transpose of np.vstack() is required.\n",
    "X = np.vstack((x_grid_flat, y_grid_flat)).T\n",
    "\n",
    "# x_grid and y_grid are of size 100 x 100\n",
    "probability_contour = model_prob(X).reshape(100,100) "
   ]
  },
  {
   "cell_type": "code",
   "execution_count": 29,
   "metadata": {
    "execution": {
     "iopub.execute_input": "2020-08-21T10:06:07.574682Z",
     "iopub.status.busy": "2020-08-21T10:06:07.574132Z",
     "iopub.status.idle": "2020-08-21T10:06:07.824024Z",
     "shell.execute_reply": "2020-08-21T10:06:07.823528Z"
    },
    "papermill": {
     "duration": 0.3027,
     "end_time": "2020-08-21T10:06:07.824165",
     "exception": false,
     "start_time": "2020-08-21T10:06:07.521465",
     "status": "completed"
    },
    "tags": []
   },
   "outputs": [
    {
     "data": {
      "image/png": "[encoded data removed]",
      "text/plain": [
       "<Figure size 720x648 with 1 Axes>"
      ]
     },
     "metadata": {
      "needs_background": "light"
     },
     "output_type": "display_data"
    }
   ],
   "source": [
    "plt.figure(figsize=(10,9))\n",
    "plt.scatter(plot_testing[:,0], plot_testing[:,1], alpha = 0.1, c = y_test.ravel())\n",
    "contours = plt.contour(x_grid,y_grid,probability_contour)\n",
    "plt.title('Probability Contours')\n",
    "plt.clabel(contours, inline = True );"
   ]
  }
 ],
 "metadata": {
  "kernelspec": {
   "display_name": "Python 3",
   "language": "python",
   "name": "python3"
  },
  "language_info": {
   "codemirror_mode": {
    "name": "ipython",
    "version": 3
   },
   "file_extension": ".py",
   "mimetype": "text/x-python",
   "name": "python",
   "nbconvert_exporter": "python",
   "pygments_lexer": "ipython3",
   "version": "3.6.11"
  },
  "papermill": {
   "duration": 107.676824,
   "end_time": "2020-08-21T10:06:08.284335",
   "environment_variables": {},
   "exception": null,
   "input_path": "2020-08-11-NeuralNetwork.ipynb",
   "output_path": "2020-08-11-NeuralNetwork.ipynb",
   "parameters": {},
   "start_time": "2020-08-21T10:04:20.607511",
   "version": "2.1.2"
  }
 },
 "nbformat": 4,
 "nbformat_minor": 4
}