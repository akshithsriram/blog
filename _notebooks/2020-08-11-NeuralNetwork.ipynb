{
 "cells": [
  {
   "cell_type": "markdown",
   "metadata": {
    "papermill": {
     "duration": 0.024408,
     "end_time": "2020-09-15T20:04:01.260910",
     "exception": false,
     "start_time": "2020-09-15T20:04:01.236502",
     "status": "completed"
    },
    "tags": []
   },
   "source": [
    "# \"A Basic Neural Network: Differentiate Hand-Written Digits\"\n",
    "\n",
    "- badges: true\n",
    "- author: Akshith Sriram"
   ]
  },
  {
   "cell_type": "markdown",
   "metadata": {
    "papermill": {
     "duration": 0.022189,
     "end_time": "2020-09-15T20:04:01.304465",
     "exception": false,
     "start_time": "2020-09-15T20:04:01.282276",
     "status": "completed"
    },
    "tags": []
   },
   "source": [
    "### Key Objectives:\n",
    "- Building a neural network that differentiates two hand-written digits 3 and 8.\n",
    "- Comparing the results of this Neural Network (NN) to that of a Logistic Regression (LR) model.\n",
    "\n",
    "### Requirements:\n",
    "- 'Kudzu' : A neural network library that was designed during our course by [Univ.AI](www.univ.ai). \n",
    "- MNIST Database\n",
    "\n",
    "If MNIST is not installed, use the command `!pip install mnist` given below.\n",
    "It can be run both from the command line and Jupyter Notebook."
   ]
  },
  {
   "cell_type": "code",
   "execution_count": 1,
   "metadata": {
    "execution": {
     "iopub.execute_input": "2020-09-15T20:04:01.354419Z",
     "iopub.status.busy": "2020-09-15T20:04:01.353793Z",
     "iopub.status.idle": "2020-09-15T20:04:02.676266Z",
     "shell.execute_reply": "2020-09-15T20:04:02.675265Z"
    },
    "papermill": {
     "duration": 1.34922,
     "end_time": "2020-09-15T20:04:02.676433",
     "exception": false,
     "start_time": "2020-09-15T20:04:01.327213",
     "status": "completed"
    },
    "tags": []
   },
   "outputs": [
    {
     "name": "stdout",
     "output_type": "stream",
     "text": [
      "Collecting mnist\r\n"
     ]
    },
    {
     "name": "stdout",
     "output_type": "stream",
     "text": [
      "  Downloading mnist-0.2.2-py2.py3-none-any.whl (3.5 kB)\r\n"
     ]
    },
    {
     "name": "stdout",
     "output_type": "stream",
     "text": [
      "Requirement already satisfied: numpy in /opt/hostedtoolcache/Python/3.6.12/x64/lib/python3.6/site-packages (from mnist) (1.19.2)\r\n"
     ]
    },
    {
     "name": "stdout",
     "output_type": "stream",
     "text": [
      "Installing collected packages: mnist\r\n"
     ]
    },
    {
     "name": "stdout",
     "output_type": "stream",
     "text": [
      "Successfully installed mnist-0.2.2\r\n"
     ]
    }
   ],
   "source": [
    "!pip install mnist "
   ]
  },
  {
   "cell_type": "markdown",
   "metadata": {
    "papermill": {
     "duration": 0.024422,
     "end_time": "2020-09-15T20:04:02.725378",
     "exception": false,
     "start_time": "2020-09-15T20:04:02.700956",
     "status": "completed"
    },
    "tags": []
   },
   "source": [
    "#### Importing necessary libraries"
   ]
  },
  {
   "cell_type": "code",
   "execution_count": 2,
   "metadata": {
    "execution": {
     "iopub.execute_input": "2020-09-15T20:04:02.780512Z",
     "iopub.status.busy": "2020-09-15T20:04:02.778487Z",
     "iopub.status.idle": "2020-09-15T20:04:03.249397Z",
     "shell.execute_reply": "2020-09-15T20:04:03.248496Z"
    },
    "papermill": {
     "duration": 0.500255,
     "end_time": "2020-09-15T20:04:03.249534",
     "exception": false,
     "start_time": "2020-09-15T20:04:02.749279",
     "status": "completed"
    },
    "tags": []
   },
   "outputs": [],
   "source": [
    "%load_ext autoreload\n",
    "%autoreload 2\n",
    "\n",
    "%matplotlib inline\n",
    "import matplotlib.pyplot as plt\n",
    "\n",
    "import numpy as np\n",
    "import pandas as pd"
   ]
  },
  {
   "cell_type": "markdown",
   "metadata": {
    "papermill": {
     "duration": 0.022659,
     "end_time": "2020-09-15T20:04:03.296505",
     "exception": false,
     "start_time": "2020-09-15T20:04:03.273846",
     "status": "completed"
    },
    "tags": []
   },
   "source": [
    "### Preparing the Data"
   ]
  },
  {
   "cell_type": "code",
   "execution_count": 3,
   "metadata": {
    "execution": {
     "iopub.execute_input": "2020-09-15T20:04:03.351598Z",
     "iopub.status.busy": "2020-09-15T20:04:03.344597Z",
     "iopub.status.idle": "2020-09-15T20:04:03.354052Z",
     "shell.execute_reply": "2020-09-15T20:04:03.353614Z"
    },
    "papermill": {
     "duration": 0.035267,
     "end_time": "2020-09-15T20:04:03.354157",
     "exception": false,
     "start_time": "2020-09-15T20:04:03.318890",
     "status": "completed"
    },
    "tags": []
   },
   "outputs": [],
   "source": [
    "import mnist"
   ]
  },
  {
   "cell_type": "code",
   "execution_count": 4,
   "metadata": {
    "execution": {
     "iopub.execute_input": "2020-09-15T20:04:03.403820Z",
     "iopub.status.busy": "2020-09-15T20:04:03.403268Z",
     "iopub.status.idle": "2020-09-15T20:04:04.047457Z",
     "shell.execute_reply": "2020-09-15T20:04:04.046975Z"
    },
    "papermill": {
     "duration": 0.670787,
     "end_time": "2020-09-15T20:04:04.047580",
     "exception": false,
     "start_time": "2020-09-15T20:04:03.376793",
     "status": "completed"
    },
    "tags": []
   },
   "outputs": [],
   "source": [
    "train_images = mnist.train_images()\n",
    "train_labels = mnist.train_labels()"
   ]
  },
  {
   "cell_type": "code",
   "execution_count": 5,
   "metadata": {
    "execution": {
     "iopub.execute_input": "2020-09-15T20:04:04.112520Z",
     "iopub.status.busy": "2020-09-15T20:04:04.109868Z",
     "iopub.status.idle": "2020-09-15T20:04:04.115467Z",
     "shell.execute_reply": "2020-09-15T20:04:04.115054Z"
    },
    "papermill": {
     "duration": 0.042176,
     "end_time": "2020-09-15T20:04:04.115574",
     "exception": false,
     "start_time": "2020-09-15T20:04:04.073398",
     "status": "completed"
    },
    "tags": []
   },
   "outputs": [
    {
     "data": {
      "text/plain": [
       "((60000, 28, 28), (60000,))"
      ]
     },
     "execution_count": 5,
     "metadata": {},
     "output_type": "execute_result"
    }
   ],
   "source": [
    "train_images.shape, train_labels.shape"
   ]
  },
  {
   "cell_type": "code",
   "execution_count": 6,
   "metadata": {
    "execution": {
     "iopub.execute_input": "2020-09-15T20:04:04.170708Z",
     "iopub.status.busy": "2020-09-15T20:04:04.165131Z",
     "iopub.status.idle": "2020-09-15T20:04:04.438397Z",
     "shell.execute_reply": "2020-09-15T20:04:04.437941Z"
    },
    "papermill": {
     "duration": 0.299506,
     "end_time": "2020-09-15T20:04:04.438509",
     "exception": false,
     "start_time": "2020-09-15T20:04:04.139003",
     "status": "completed"
    },
    "tags": []
   },
   "outputs": [],
   "source": [
    "test_images = mnist.test_images()\n",
    "test_labels = mnist.test_labels()"
   ]
  },
  {
   "cell_type": "code",
   "execution_count": 7,
   "metadata": {
    "execution": {
     "iopub.execute_input": "2020-09-15T20:04:04.489135Z",
     "iopub.status.busy": "2020-09-15T20:04:04.488633Z",
     "iopub.status.idle": "2020-09-15T20:04:04.497449Z",
     "shell.execute_reply": "2020-09-15T20:04:04.497935Z"
    },
    "papermill": {
     "duration": 0.036905,
     "end_time": "2020-09-15T20:04:04.498048",
     "exception": false,
     "start_time": "2020-09-15T20:04:04.461143",
     "status": "completed"
    },
    "tags": []
   },
   "outputs": [
    {
     "data": {
      "text/plain": [
       "((10000, 28, 28), (10000,))"
      ]
     },
     "execution_count": 7,
     "metadata": {},
     "output_type": "execute_result"
    }
   ],
   "source": [
    "test_images.shape, test_labels.shape"
   ]
  },
  {
   "cell_type": "code",
   "execution_count": 8,
   "metadata": {
    "execution": {
     "iopub.execute_input": "2020-09-15T20:04:04.613379Z",
     "iopub.status.busy": "2020-09-15T20:04:04.612828Z",
     "iopub.status.idle": "2020-09-15T20:04:04.772557Z",
     "shell.execute_reply": "2020-09-15T20:04:04.773306Z"
    },
    "papermill": {
     "duration": 0.247758,
     "end_time": "2020-09-15T20:04:04.773475",
     "exception": false,
     "start_time": "2020-09-15T20:04:04.525717",
     "status": "completed"
    },
    "tags": []
   },
   "outputs": [
    {
     "name": "stdout",
     "output_type": "stream",
     "text": [
      "2\n"
     ]
    },
    {
     "data": {
      "text/plain": [
       "<matplotlib.image.AxesImage at 0x7fb46b93f828>"
      ]
     },
     "execution_count": 8,
     "metadata": {},
     "output_type": "execute_result"
    },
    {
     "data": {
      "image/png": "[encoded data removed]",
      "text/plain": [
       "<Figure size 432x288 with 1 Axes>"
      ]
     },
     "metadata": {
      "needs_background": "light"
     },
     "output_type": "display_data"
    }
   ],
   "source": [
    "image_index = 7776 # You may select anything up to 60,000\n",
    "print(train_labels[image_index]) \n",
    "plt.imshow(train_images[image_index], cmap='Greys')"
   ]
  },
  {
   "cell_type": "markdown",
   "metadata": {
    "papermill": {
     "duration": 0.397249,
     "end_time": "2020-09-15T20:04:05.196784",
     "exception": false,
     "start_time": "2020-09-15T20:04:04.799535",
     "status": "completed"
    },
    "tags": []
   },
   "source": [
    "## Filter data to get 3 and 8 out"
   ]
  },
  {
   "cell_type": "code",
   "execution_count": 9,
   "metadata": {
    "execution": {
     "iopub.execute_input": "2020-09-15T20:04:05.657700Z",
     "iopub.status.busy": "2020-09-15T20:04:05.657174Z",
     "iopub.status.idle": "2020-09-15T20:04:05.675977Z",
     "shell.execute_reply": "2020-09-15T20:04:05.675534Z"
    },
    "papermill": {
     "duration": 0.417272,
     "end_time": "2020-09-15T20:04:05.676128",
     "exception": false,
     "start_time": "2020-09-15T20:04:05.258856",
     "status": "completed"
    },
    "tags": []
   },
   "outputs": [],
   "source": [
    "train_filter = np.where((train_labels == 3 ) | (train_labels == 8))\n",
    "test_filter = np.where((test_labels == 3) | (test_labels == 8))\n",
    "X_train, y_train = train_images[train_filter], train_labels[train_filter]\n",
    "X_test, y_test = test_images[test_filter], test_labels[test_filter]"
   ]
  },
  {
   "cell_type": "markdown",
   "metadata": {
    "papermill": {
     "duration": 0.053164,
     "end_time": "2020-09-15T20:04:05.758378",
     "exception": false,
     "start_time": "2020-09-15T20:04:05.705214",
     "status": "completed"
    },
    "tags": []
   },
   "source": [
    "We normalize the pixel values in the 0 to 1 range"
   ]
  },
  {
   "cell_type": "code",
   "execution_count": 10,
   "metadata": {
    "execution": {
     "iopub.execute_input": "2020-09-15T20:04:05.833859Z",
     "iopub.status.busy": "2020-09-15T20:04:05.832985Z",
     "iopub.status.idle": "2020-09-15T20:04:05.885906Z",
     "shell.execute_reply": "2020-09-15T20:04:05.885414Z"
    },
    "papermill": {
     "duration": 0.079738,
     "end_time": "2020-09-15T20:04:05.886032",
     "exception": false,
     "start_time": "2020-09-15T20:04:05.806294",
     "status": "completed"
    },
    "tags": []
   },
   "outputs": [],
   "source": [
    "X_train = X_train/255.\n",
    "X_test = X_test/255."
   ]
  },
  {
   "cell_type": "markdown",
   "metadata": {
    "papermill": {
     "duration": 0.02432,
     "end_time": "2020-09-15T20:04:05.934277",
     "exception": false,
     "start_time": "2020-09-15T20:04:05.909957",
     "status": "completed"
    },
    "tags": []
   },
   "source": [
    "Setup the labels as 1 (when the digit is 3) and 0 (when the digit is 8)"
   ]
  },
  {
   "cell_type": "code",
   "execution_count": 11,
   "metadata": {
    "execution": {
     "iopub.execute_input": "2020-09-15T20:04:05.985156Z",
     "iopub.status.busy": "2020-09-15T20:04:05.984638Z",
     "iopub.status.idle": "2020-09-15T20:04:05.995569Z",
     "shell.execute_reply": "2020-09-15T20:04:05.995126Z"
    },
    "papermill": {
     "duration": 0.037839,
     "end_time": "2020-09-15T20:04:05.995672",
     "exception": false,
     "start_time": "2020-09-15T20:04:05.957833",
     "status": "completed"
    },
    "tags": []
   },
   "outputs": [],
   "source": [
    "y_train = 1*(y_train==3)\n",
    "y_test = 1*(y_test==3)"
   ]
  },
  {
   "cell_type": "code",
   "execution_count": 12,
   "metadata": {
    "execution": {
     "iopub.execute_input": "2020-09-15T20:04:06.045814Z",
     "iopub.status.busy": "2020-09-15T20:04:06.045285Z",
     "iopub.status.idle": "2020-09-15T20:04:06.075012Z",
     "shell.execute_reply": "2020-09-15T20:04:06.074575Z"
    },
    "papermill": {
     "duration": 0.055991,
     "end_time": "2020-09-15T20:04:06.075122",
     "exception": false,
     "start_time": "2020-09-15T20:04:06.019131",
     "status": "completed"
    },
    "tags": []
   },
   "outputs": [
    {
     "data": {
      "text/plain": [
       "((11982, 28, 28), (1984, 28, 28))"
      ]
     },
     "execution_count": 12,
     "metadata": {},
     "output_type": "execute_result"
    }
   ],
   "source": [
    "X_train.shape, X_test.shape"
   ]
  },
  {
   "cell_type": "markdown",
   "metadata": {
    "papermill": {
     "duration": 0.024087,
     "end_time": "2020-09-15T20:04:06.123539",
     "exception": false,
     "start_time": "2020-09-15T20:04:06.099452",
     "status": "completed"
    },
    "tags": []
   },
   "source": [
    "### Reshape the input data to create a linear array"
   ]
  },
  {
   "cell_type": "code",
   "execution_count": 13,
   "metadata": {
    "execution": {
     "iopub.execute_input": "2020-09-15T20:04:06.182005Z",
     "iopub.status.busy": "2020-09-15T20:04:06.174524Z",
     "iopub.status.idle": "2020-09-15T20:04:06.187112Z",
     "shell.execute_reply": "2020-09-15T20:04:06.186661Z"
    },
    "papermill": {
     "duration": 0.040134,
     "end_time": "2020-09-15T20:04:06.187217",
     "exception": false,
     "start_time": "2020-09-15T20:04:06.147083",
     "status": "completed"
    },
    "tags": []
   },
   "outputs": [
    {
     "data": {
      "text/plain": [
       "((11982, 784), (1984, 784))"
      ]
     },
     "execution_count": 13,
     "metadata": {},
     "output_type": "execute_result"
    }
   ],
   "source": [
    "X_train = X_train.reshape(X_train.shape[0], -1)\n",
    "X_test = X_test.reshape(X_test.shape[0], -1)\n",
    "X_train.shape, X_test.shape"
   ]
  },
  {
   "cell_type": "markdown",
   "metadata": {
    "papermill": {
     "duration": 0.025276,
     "end_time": "2020-09-15T20:04:06.238824",
     "exception": false,
     "start_time": "2020-09-15T20:04:06.213548",
     "status": "completed"
    },
    "tags": []
   },
   "source": [
    "### Importing appropriate functions from 'Kudzu'"
   ]
  },
  {
   "cell_type": "code",
   "execution_count": 14,
   "metadata": {
    "execution": {
     "iopub.execute_input": "2020-09-15T20:04:06.290637Z",
     "iopub.status.busy": "2020-09-15T20:04:06.290125Z",
     "iopub.status.idle": "2020-09-15T20:04:06.305313Z",
     "shell.execute_reply": "2020-09-15T20:04:06.305758Z"
    },
    "papermill": {
     "duration": 0.04288,
     "end_time": "2020-09-15T20:04:06.305871",
     "exception": false,
     "start_time": "2020-09-15T20:04:06.262991",
     "status": "completed"
    },
    "tags": []
   },
   "outputs": [],
   "source": [
    "from kudzu.layer import Sigmoid\n",
    "from kudzu.layer import Relu\n",
    "from kudzu.layer import Affine, Sigmoid\n",
    "\n",
    "from kudzu.model import Model\n",
    "from kudzu.train import Learner\n",
    "from kudzu.optim import GD\n",
    "from kudzu.data import Data, Dataloader, Sampler\n",
    "\n",
    "from kudzu.callbacks import AccCallback\n",
    "from kudzu.callbacks import ClfCallback\n",
    "\n",
    "from kudzu.loss import MSE"
   ]
  },
  {
   "cell_type": "markdown",
   "metadata": {
    "papermill": {
     "duration": 0.024693,
     "end_time": "2020-09-15T20:04:06.355179",
     "exception": false,
     "start_time": "2020-09-15T20:04:06.330486",
     "status": "completed"
    },
    "tags": []
   },
   "source": [
    "### Let us create a `Config` class, to store important parameters. \n",
    "This class essentially plays the role of a dictionary."
   ]
  },
  {
   "cell_type": "code",
   "execution_count": 15,
   "metadata": {
    "execution": {
     "iopub.execute_input": "2020-09-15T20:04:06.406222Z",
     "iopub.status.busy": "2020-09-15T20:04:06.405712Z",
     "iopub.status.idle": "2020-09-15T20:04:06.415412Z",
     "shell.execute_reply": "2020-09-15T20:04:06.414906Z"
    },
    "papermill": {
     "duration": 0.036322,
     "end_time": "2020-09-15T20:04:06.415514",
     "exception": false,
     "start_time": "2020-09-15T20:04:06.379192",
     "status": "completed"
    },
    "tags": []
   },
   "outputs": [],
   "source": [
    "class Config:\n",
    "    pass\n",
    "config = Config()\n",
    "config.lr = 0.001\n",
    "config.num_epochs = 251\n",
    "config.bs = 50"
   ]
  },
  {
   "cell_type": "markdown",
   "metadata": {
    "papermill": {
     "duration": 0.02432,
     "end_time": "2020-09-15T20:04:06.463443",
     "exception": false,
     "start_time": "2020-09-15T20:04:06.439123",
     "status": "completed"
    },
    "tags": []
   },
   "source": [
    "### Initializing data to the variables"
   ]
  },
  {
   "cell_type": "code",
   "execution_count": 16,
   "metadata": {
    "execution": {
     "iopub.execute_input": "2020-09-15T20:04:06.521482Z",
     "iopub.status.busy": "2020-09-15T20:04:06.520945Z",
     "iopub.status.idle": "2020-09-15T20:04:06.523196Z",
     "shell.execute_reply": "2020-09-15T20:04:06.523769Z"
    },
    "papermill": {
     "duration": 0.036187,
     "end_time": "2020-09-15T20:04:06.523980",
     "exception": false,
     "start_time": "2020-09-15T20:04:06.487793",
     "status": "completed"
    },
    "tags": []
   },
   "outputs": [],
   "source": [
    "data = Data(X_train, y_train.reshape(-1,1))\n",
    "sampler = Sampler(data, config.bs, shuffle=True)\n",
    "\n",
    "dl = Dataloader(data, sampler)\n",
    "\n",
    "opt = GD(config.lr)\n",
    "loss = MSE()"
   ]
  },
  {
   "cell_type": "code",
   "execution_count": 17,
   "metadata": {
    "execution": {
     "iopub.execute_input": "2020-09-15T20:04:06.575745Z",
     "iopub.status.busy": "2020-09-15T20:04:06.575226Z",
     "iopub.status.idle": "2020-09-15T20:04:06.584750Z",
     "shell.execute_reply": "2020-09-15T20:04:06.584331Z"
    },
    "papermill": {
     "duration": 0.036706,
     "end_time": "2020-09-15T20:04:06.584852",
     "exception": false,
     "start_time": "2020-09-15T20:04:06.548146",
     "status": "completed"
    },
    "tags": []
   },
   "outputs": [],
   "source": [
    "training_xdata = X_train\n",
    "testing_xdata = X_test\n",
    "training_ydata = y_train.reshape(-1,1)\n",
    "testing_ydata = y_test.reshape(-1,1)"
   ]
  },
  {
   "cell_type": "markdown",
   "metadata": {
    "papermill": {
     "duration": 0.02596,
     "end_time": "2020-09-15T20:04:06.635887",
     "exception": false,
     "start_time": "2020-09-15T20:04:06.609927",
     "status": "completed"
    },
    "tags": []
   },
   "source": [
    "### Running Models with the Training data\n",
    "Details about the network layers:\n",
    "- A first affine layer has 784 inputs and does 100 affine transforms. These are followed by a Relu\n",
    "- A second affine layer has 100 inputs from the 100 activations of the past layer, and does 100 affine transforms. These are followed by a Relu\n",
    "- A third affine layer has 100 activations and does 2 affine transformations to create an embedding for visualization. There is no non-linearity here.\n",
    "- A final \"logistic regression\" which has an affine transform from 2 inputs to 1 output, which is squeezed through a sigmoid.\n",
    "\n",
    "Help taken from Anshuman's Notebook."
   ]
  },
  {
   "cell_type": "code",
   "execution_count": 18,
   "metadata": {
    "execution": {
     "iopub.execute_input": "2020-09-15T20:04:06.693738Z",
     "iopub.status.busy": "2020-09-15T20:04:06.693195Z",
     "iopub.status.idle": "2020-09-15T20:04:06.706165Z",
     "shell.execute_reply": "2020-09-15T20:04:06.706607Z"
    },
    "papermill": {
     "duration": 0.045245,
     "end_time": "2020-09-15T20:04:06.706720",
     "exception": false,
     "start_time": "2020-09-15T20:04:06.661475",
     "status": "completed"
    },
    "tags": []
   },
   "outputs": [],
   "source": [
    "# layers for the Neural Network\n",
    "layers = [Affine(\"first\", 784, 100), Relu(\"first\"), Affine(\"second\", 100, 100), Relu(\"second\"), Affine(\"third\", 100, 2), Affine(\"final\", 2, 1), Sigmoid(\"final\")]\n",
    "model_nn = Model(layers)\n",
    "\n",
    "# layers for the Logistic Regression\n",
    "layers_lr = [Affine(\"logits\", 784, 1), Sigmoid(\"sigmoid\")]\n",
    "model_lr = Model(layers_lr)"
   ]
  },
  {
   "cell_type": "code",
   "execution_count": 19,
   "metadata": {
    "execution": {
     "iopub.execute_input": "2020-09-15T20:04:06.773354Z",
     "iopub.status.busy": "2020-09-15T20:04:06.772839Z",
     "iopub.status.idle": "2020-09-15T20:04:06.777704Z",
     "shell.execute_reply": "2020-09-15T20:04:06.778131Z"
    },
    "papermill": {
     "duration": 0.045686,
     "end_time": "2020-09-15T20:04:06.778245",
     "exception": false,
     "start_time": "2020-09-15T20:04:06.732559",
     "status": "completed"
    },
    "tags": []
   },
   "outputs": [],
   "source": [
    "# suffix _nn stands for Neural Network.\n",
    "learner_nn = Learner(loss, model_nn, opt, config.num_epochs)\n",
    "acc_nn = ClfCallback(learner_nn, config.bs, training_xdata , testing_xdata, training_ydata, testing_ydata)\n",
    "learner_nn.set_callbacks([acc_nn])"
   ]
  },
  {
   "cell_type": "code",
   "execution_count": 20,
   "metadata": {
    "execution": {
     "iopub.execute_input": "2020-09-15T20:04:06.839568Z",
     "iopub.status.busy": "2020-09-15T20:04:06.828932Z",
     "iopub.status.idle": "2020-09-15T20:06:05.190095Z",
     "shell.execute_reply": "2020-09-15T20:06:05.189647Z"
    },
    "papermill": {
     "duration": 118.388001,
     "end_time": "2020-09-15T20:06:05.190214",
     "exception": false,
     "start_time": "2020-09-15T20:04:06.802213",
     "status": "completed"
    },
    "tags": []
   },
   "outputs": [
    {
     "name": "stdout",
     "output_type": "stream",
     "text": [
      "====== Neural Network ======\n"
     ]
    },
    {
     "name": "stdout",
     "output_type": "stream",
     "text": [
      "Epoch 0, Loss 0.2507\n",
      "Training Accuracy: 0.5579, Testing Accuracy: 0.5590\n",
      "\n"
     ]
    },
    {
     "name": "stdout",
     "output_type": "stream",
     "text": [
      "Epoch 10, Loss 0.131\n",
      "Training Accuracy: 0.9060, Testing Accuracy: 0.9153\n",
      "\n"
     ]
    },
    {
     "name": "stdout",
     "output_type": "stream",
     "text": [
      "Epoch 20, Loss 0.0689\n",
      "Training Accuracy: 0.9318, Testing Accuracy: 0.9430\n",
      "\n"
     ]
    },
    {
     "name": "stdout",
     "output_type": "stream",
     "text": [
      "Epoch 30, Loss 0.0505\n",
      "Training Accuracy: 0.9443, Testing Accuracy: 0.9551\n",
      "\n"
     ]
    },
    {
     "name": "stdout",
     "output_type": "stream",
     "text": [
      "Epoch 40, Loss 0.042\n",
      "Training Accuracy: 0.9529, Testing Accuracy: 0.9602\n",
      "\n"
     ]
    },
    {
     "name": "stdout",
     "output_type": "stream",
     "text": [
      "Epoch 50, Loss 0.0371\n",
      "Training Accuracy: 0.9578, Testing Accuracy: 0.9637\n",
      "\n"
     ]
    },
    {
     "name": "stdout",
     "output_type": "stream",
     "text": [
      "Epoch 60, Loss 0.034\n",
      "Training Accuracy: 0.9614, Testing Accuracy: 0.9662\n",
      "\n"
     ]
    },
    {
     "name": "stdout",
     "output_type": "stream",
     "text": [
      "Epoch 70, Loss 0.0318\n",
      "Training Accuracy: 0.9634, Testing Accuracy: 0.9657\n",
      "\n"
     ]
    },
    {
     "name": "stdout",
     "output_type": "stream",
     "text": [
      "Epoch 80, Loss 0.0301\n",
      "Training Accuracy: 0.9648, Testing Accuracy: 0.9662\n",
      "\n"
     ]
    },
    {
     "name": "stdout",
     "output_type": "stream",
     "text": [
      "Epoch 90, Loss 0.0288\n",
      "Training Accuracy: 0.9672, Testing Accuracy: 0.9682\n",
      "\n"
     ]
    },
    {
     "name": "stdout",
     "output_type": "stream",
     "text": [
      "Epoch 100, Loss 0.0277\n",
      "Training Accuracy: 0.9681, Testing Accuracy: 0.9682\n",
      "\n"
     ]
    },
    {
     "name": "stdout",
     "output_type": "stream",
     "text": [
      "Epoch 110, Loss 0.0268\n",
      "Training Accuracy: 0.9689, Testing Accuracy: 0.9698\n",
      "\n"
     ]
    },
    {
     "name": "stdout",
     "output_type": "stream",
     "text": [
      "Epoch 120, Loss 0.026\n",
      "Training Accuracy: 0.9698, Testing Accuracy: 0.9713\n",
      "\n"
     ]
    },
    {
     "name": "stdout",
     "output_type": "stream",
     "text": [
      "Epoch 130, Loss 0.0253\n",
      "Training Accuracy: 0.9705, Testing Accuracy: 0.9708\n",
      "\n"
     ]
    },
    {
     "name": "stdout",
     "output_type": "stream",
     "text": [
      "Epoch 140, Loss 0.0247\n",
      "Training Accuracy: 0.9715, Testing Accuracy: 0.9708\n",
      "\n"
     ]
    },
    {
     "name": "stdout",
     "output_type": "stream",
     "text": [
      "Epoch 150, Loss 0.0241\n",
      "Training Accuracy: 0.9719, Testing Accuracy: 0.9708\n",
      "\n"
     ]
    },
    {
     "name": "stdout",
     "output_type": "stream",
     "text": [
      "Epoch 160, Loss 0.0236\n",
      "Training Accuracy: 0.9732, Testing Accuracy: 0.9718\n",
      "\n"
     ]
    },
    {
     "name": "stdout",
     "output_type": "stream",
     "text": [
      "Epoch 170, Loss 0.0231\n",
      "Training Accuracy: 0.9736, Testing Accuracy: 0.9728\n",
      "\n"
     ]
    },
    {
     "name": "stdout",
     "output_type": "stream",
     "text": [
      "Epoch 180, Loss 0.0226\n",
      "Training Accuracy: 0.9740, Testing Accuracy: 0.9733\n",
      "\n"
     ]
    },
    {
     "name": "stdout",
     "output_type": "stream",
     "text": [
      "Epoch 190, Loss 0.0222\n",
      "Training Accuracy: 0.9745, Testing Accuracy: 0.9738\n",
      "\n"
     ]
    },
    {
     "name": "stdout",
     "output_type": "stream",
     "text": [
      "Epoch 200, Loss 0.0218\n",
      "Training Accuracy: 0.9750, Testing Accuracy: 0.9733\n",
      "\n"
     ]
    },
    {
     "name": "stdout",
     "output_type": "stream",
     "text": [
      "Epoch 210, Loss 0.0214\n",
      "Training Accuracy: 0.9756, Testing Accuracy: 0.9733\n",
      "\n"
     ]
    },
    {
     "name": "stdout",
     "output_type": "stream",
     "text": [
      "Epoch 220, Loss 0.0211\n",
      "Training Accuracy: 0.9765, Testing Accuracy: 0.9743\n",
      "\n"
     ]
    },
    {
     "name": "stdout",
     "output_type": "stream",
     "text": [
      "Epoch 230, Loss 0.0207\n",
      "Training Accuracy: 0.9769, Testing Accuracy: 0.9748\n",
      "\n"
     ]
    },
    {
     "name": "stdout",
     "output_type": "stream",
     "text": [
      "Epoch 240, Loss 0.0204\n",
      "Training Accuracy: 0.9772, Testing Accuracy: 0.9748\n",
      "\n"
     ]
    },
    {
     "name": "stdout",
     "output_type": "stream",
     "text": [
      "Epoch 250, Loss 0.0201\n",
      "Training Accuracy: 0.9776, Testing Accuracy: 0.9743\n",
      "\n"
     ]
    },
    {
     "data": {
      "text/plain": [
       "0.003303848341540305"
      ]
     },
     "execution_count": 20,
     "metadata": {},
     "output_type": "execute_result"
    }
   ],
   "source": [
    "print(\"====== Neural Network ======\")\n",
    "learner_nn.train_loop(dl)"
   ]
  },
  {
   "cell_type": "markdown",
   "metadata": {
    "papermill": {
     "duration": 0.031621,
     "end_time": "2020-09-15T20:06:05.254594",
     "exception": false,
     "start_time": "2020-09-15T20:06:05.222973",
     "status": "completed"
    },
    "tags": []
   },
   "source": [
    "### Logistic Regression based Implementation."
   ]
  },
  {
   "cell_type": "code",
   "execution_count": 21,
   "metadata": {
    "execution": {
     "iopub.execute_input": "2020-09-15T20:06:05.320917Z",
     "iopub.status.busy": "2020-09-15T20:06:05.320405Z",
     "iopub.status.idle": "2020-09-15T20:06:05.330118Z",
     "shell.execute_reply": "2020-09-15T20:06:05.329684Z"
    },
    "papermill": {
     "duration": 0.045052,
     "end_time": "2020-09-15T20:06:05.330217",
     "exception": false,
     "start_time": "2020-09-15T20:06:05.285165",
     "status": "completed"
    },
    "tags": []
   },
   "outputs": [],
   "source": [
    "learner_lr = Learner(loss, model_lr, opt, config.num_epochs)\n",
    "acc_lr = ClfCallback(learner_lr, config.bs, training_xdata , testing_xdata, training_ydata, testing_ydata)\n",
    "learner_lr.set_callbacks([acc_lr])"
   ]
  },
  {
   "cell_type": "code",
   "execution_count": 22,
   "metadata": {
    "execution": {
     "iopub.execute_input": "2020-09-15T20:06:05.395073Z",
     "iopub.status.busy": "2020-09-15T20:06:05.394553Z",
     "iopub.status.idle": "2020-09-15T20:06:22.506331Z",
     "shell.execute_reply": "2020-09-15T20:06:22.507235Z"
    },
    "papermill": {
     "duration": 17.146668,
     "end_time": "2020-09-15T20:06:22.507377",
     "exception": false,
     "start_time": "2020-09-15T20:06:05.360709",
     "status": "completed"
    },
    "tags": []
   },
   "outputs": [
    {
     "name": "stdout",
     "output_type": "stream",
     "text": [
      "====== Logistic Regression ======\n",
      "Epoch 0, Loss 0.2407\n",
      "Training Accuracy: 0.7145, Testing Accuracy: 0.7248\n",
      "\n"
     ]
    },
    {
     "name": "stdout",
     "output_type": "stream",
     "text": [
      "Epoch 10, Loss 0.1008\n",
      "Training Accuracy: 0.9181, Testing Accuracy: 0.9365\n",
      "\n"
     ]
    },
    {
     "name": "stdout",
     "output_type": "stream",
     "text": [
      "Epoch 20, Loss 0.078\n",
      "Training Accuracy: 0.9318, Testing Accuracy: 0.9451\n",
      "\n"
     ]
    },
    {
     "name": "stdout",
     "output_type": "stream",
     "text": [
      "Epoch 30, Loss 0.0675\n",
      "Training Accuracy: 0.9379, Testing Accuracy: 0.9526\n",
      "\n"
     ]
    },
    {
     "name": "stdout",
     "output_type": "stream",
     "text": [
      "Epoch 40, Loss 0.0612\n",
      "Training Accuracy: 0.9415, Testing Accuracy: 0.9567\n",
      "\n"
     ]
    },
    {
     "name": "stdout",
     "output_type": "stream",
     "text": [
      "Epoch 50, Loss 0.0569\n",
      "Training Accuracy: 0.9448, Testing Accuracy: 0.9567\n",
      "\n"
     ]
    },
    {
     "name": "stdout",
     "output_type": "stream",
     "text": [
      "Epoch 60, Loss 0.0537\n",
      "Training Accuracy: 0.9472, Testing Accuracy: 0.9597\n",
      "\n"
     ]
    },
    {
     "name": "stdout",
     "output_type": "stream",
     "text": [
      "Epoch 70, Loss 0.0512\n",
      "Training Accuracy: 0.9493, Testing Accuracy: 0.9617\n",
      "\n"
     ]
    },
    {
     "name": "stdout",
     "output_type": "stream",
     "text": [
      "Epoch 80, Loss 0.0492\n",
      "Training Accuracy: 0.9508, Testing Accuracy: 0.9617\n",
      "\n"
     ]
    },
    {
     "name": "stdout",
     "output_type": "stream",
     "text": [
      "Epoch 90, Loss 0.0475\n",
      "Training Accuracy: 0.9523, Testing Accuracy: 0.9622\n",
      "\n"
     ]
    },
    {
     "name": "stdout",
     "output_type": "stream",
     "text": [
      "Epoch 100, Loss 0.0461\n",
      "Training Accuracy: 0.9533, Testing Accuracy: 0.9632\n",
      "\n"
     ]
    },
    {
     "name": "stdout",
     "output_type": "stream",
     "text": [
      "Epoch 110, Loss 0.0449\n",
      "Training Accuracy: 0.9538, Testing Accuracy: 0.9647\n",
      "\n"
     ]
    },
    {
     "name": "stdout",
     "output_type": "stream",
     "text": [
      "Epoch 120, Loss 0.0438\n",
      "Training Accuracy: 0.9544, Testing Accuracy: 0.9652\n",
      "\n"
     ]
    },
    {
     "name": "stdout",
     "output_type": "stream",
     "text": [
      "Epoch 130, Loss 0.0429\n",
      "Training Accuracy: 0.9553, Testing Accuracy: 0.9647\n",
      "\n"
     ]
    },
    {
     "name": "stdout",
     "output_type": "stream",
     "text": [
      "Epoch 140, Loss 0.0421\n",
      "Training Accuracy: 0.9559, Testing Accuracy: 0.9657\n",
      "\n"
     ]
    },
    {
     "name": "stdout",
     "output_type": "stream",
     "text": [
      "Epoch 150, Loss 0.0413\n",
      "Training Accuracy: 0.9570, Testing Accuracy: 0.9657\n",
      "\n"
     ]
    },
    {
     "name": "stdout",
     "output_type": "stream",
     "text": [
      "Epoch 160, Loss 0.0407\n",
      "Training Accuracy: 0.9581, Testing Accuracy: 0.9657\n",
      "\n"
     ]
    },
    {
     "name": "stdout",
     "output_type": "stream",
     "text": [
      "Epoch 170, Loss 0.04\n",
      "Training Accuracy: 0.9584, Testing Accuracy: 0.9667\n",
      "\n"
     ]
    },
    {
     "name": "stdout",
     "output_type": "stream",
     "text": [
      "Epoch 180, Loss 0.0395\n",
      "Training Accuracy: 0.9591, Testing Accuracy: 0.9667\n",
      "\n"
     ]
    },
    {
     "name": "stdout",
     "output_type": "stream",
     "text": [
      "Epoch 190, Loss 0.039\n",
      "Training Accuracy: 0.9594, Testing Accuracy: 0.9667\n",
      "\n"
     ]
    },
    {
     "name": "stdout",
     "output_type": "stream",
     "text": [
      "Epoch 200, Loss 0.0385\n",
      "Training Accuracy: 0.9594, Testing Accuracy: 0.9667\n",
      "\n"
     ]
    },
    {
     "name": "stdout",
     "output_type": "stream",
     "text": [
      "Epoch 210, Loss 0.038\n",
      "Training Accuracy: 0.9599, Testing Accuracy: 0.9672\n",
      "\n"
     ]
    },
    {
     "name": "stdout",
     "output_type": "stream",
     "text": [
      "Epoch 220, Loss 0.0376\n",
      "Training Accuracy: 0.9605, Testing Accuracy: 0.9672\n",
      "\n"
     ]
    },
    {
     "name": "stdout",
     "output_type": "stream",
     "text": [
      "Epoch 230, Loss 0.0372\n",
      "Training Accuracy: 0.9606, Testing Accuracy: 0.9677\n",
      "\n"
     ]
    },
    {
     "name": "stdout",
     "output_type": "stream",
     "text": [
      "Epoch 240, Loss 0.0369\n",
      "Training Accuracy: 0.9607, Testing Accuracy: 0.9677\n",
      "\n"
     ]
    },
    {
     "name": "stdout",
     "output_type": "stream",
     "text": [
      "Epoch 250, Loss 0.0365\n",
      "Training Accuracy: 0.9610, Testing Accuracy: 0.9672\n",
      "\n"
     ]
    },
    {
     "data": {
      "text/plain": [
       "0.041699309546279796"
      ]
     },
     "execution_count": 22,
     "metadata": {},
     "output_type": "execute_result"
    }
   ],
   "source": [
    "print(\"====== Logistic Regression ======\")\n",
    "learner_lr.train_loop(dl)"
   ]
  },
  {
   "cell_type": "markdown",
   "metadata": {
    "papermill": {
     "duration": 0.037293,
     "end_time": "2020-09-15T20:06:22.583689",
     "exception": false,
     "start_time": "2020-09-15T20:06:22.546396",
     "status": "completed"
    },
    "tags": []
   },
   "source": [
    "### Comparing results of NN and LR"
   ]
  },
  {
   "cell_type": "code",
   "execution_count": 23,
   "metadata": {
    "execution": {
     "iopub.execute_input": "2020-09-15T20:06:22.664286Z",
     "iopub.status.busy": "2020-09-15T20:06:22.663077Z",
     "iopub.status.idle": "2020-09-15T20:06:22.898997Z",
     "shell.execute_reply": "2020-09-15T20:06:22.898533Z"
    },
    "papermill": {
     "duration": 0.277576,
     "end_time": "2020-09-15T20:06:22.899111",
     "exception": false,
     "start_time": "2020-09-15T20:06:22.621535",
     "status": "completed"
    },
    "tags": []
   },
   "outputs": [
    {
     "data": {
      "text/plain": [
       "<matplotlib.legend.Legend at 0x7fb4694a62e8>"
      ]
     },
     "execution_count": 23,
     "metadata": {},
     "output_type": "execute_result"
    },
    {
     "data": {
      "image/png": "[encoded data removed]",
      "text/plain": [
       "<Figure size 1080x720 with 1 Axes>"
      ]
     },
     "metadata": {
      "needs_background": "light"
     },
     "output_type": "display_data"
    }
   ],
   "source": [
    "plt.figure(figsize=(15,10))\n",
    "\n",
    "# Neural Network plots\n",
    "plt.plot(acc_nn.accuracies, 'r-', label = \"Training Accuracies - NN\")\n",
    "plt.plot(acc_nn.test_accuracies, 'g-', label = \"Testing Accuracies - NN\")\n",
    "\n",
    "# Logistic Regression plots\n",
    "plt.plot(acc_lr.accuracies, 'k-', label = \"Training Accuracies - LR\")\n",
    "plt.plot(acc_lr.test_accuracies, 'b-', label = \"Testing Accuracies - LR\")\n",
    "\n",
    "plt.ylim(0.8, 1)\n",
    "\n",
    "plt.legend()\n",
    "\n"
   ]
  },
  {
   "cell_type": "markdown",
   "metadata": {
    "papermill": {
     "duration": 0.039323,
     "end_time": "2020-09-15T20:06:22.977910",
     "exception": false,
     "start_time": "2020-09-15T20:06:22.938587",
     "status": "completed"
    },
    "tags": []
   },
   "source": [
    "### From the plot, we can observe the following:\n",
    "- Neural Network achieves higher accuracy than the Logistic Regression model.\n",
    "- This apparently, is because of overfitting, i.e. NN captures more noise than data.\n",
    "- Testing accuracy of NN drops below the Training accuracy at higher epochs. This explains the over-fitting on training data.\n",
    "- Logistic Regression gives a reliable accuracy, without the above mentioned problem.\n"
   ]
  },
  {
   "cell_type": "markdown",
   "metadata": {
    "papermill": {
     "duration": 0.039285,
     "end_time": "2020-09-15T20:06:23.056352",
     "exception": false,
     "start_time": "2020-09-15T20:06:23.017067",
     "status": "completed"
    },
    "tags": []
   },
   "source": [
    "### Moving till the last but one layer (excluding it).\n",
    "#### Plotting the outputs of this layer of the NN."
   ]
  },
  {
   "cell_type": "code",
   "execution_count": 24,
   "metadata": {
    "execution": {
     "iopub.execute_input": "2020-09-15T20:06:23.142108Z",
     "iopub.status.busy": "2020-09-15T20:06:23.141594Z",
     "iopub.status.idle": "2020-09-15T20:06:23.151186Z",
     "shell.execute_reply": "2020-09-15T20:06:23.151580Z"
    },
    "papermill": {
     "duration": 0.05536,
     "end_time": "2020-09-15T20:06:23.151706",
     "exception": false,
     "start_time": "2020-09-15T20:06:23.096346",
     "status": "completed"
    },
    "tags": []
   },
   "outputs": [],
   "source": [
    "model_new = Model(layers[:-2])"
   ]
  },
  {
   "cell_type": "code",
   "execution_count": 25,
   "metadata": {
    "execution": {
     "iopub.execute_input": "2020-09-15T20:06:23.235982Z",
     "iopub.status.busy": "2020-09-15T20:06:23.230179Z",
     "iopub.status.idle": "2020-09-15T20:06:23.254389Z",
     "shell.execute_reply": "2020-09-15T20:06:23.254873Z"
    },
    "papermill": {
     "duration": 0.065396,
     "end_time": "2020-09-15T20:06:23.254990",
     "exception": false,
     "start_time": "2020-09-15T20:06:23.189594",
     "status": "completed"
    },
    "tags": []
   },
   "outputs": [],
   "source": [
    "plot_testing = model_new(testing_xdata)"
   ]
  },
  {
   "cell_type": "code",
   "execution_count": 26,
   "metadata": {
    "execution": {
     "iopub.execute_input": "2020-09-15T20:06:23.345314Z",
     "iopub.status.busy": "2020-09-15T20:06:23.344784Z",
     "iopub.status.idle": "2020-09-15T20:06:23.540496Z",
     "shell.execute_reply": "2020-09-15T20:06:23.540922Z"
    },
    "papermill": {
     "duration": 0.247027,
     "end_time": "2020-09-15T20:06:23.541058",
     "exception": false,
     "start_time": "2020-09-15T20:06:23.294031",
     "status": "completed"
    },
    "tags": []
   },
   "outputs": [
    {
     "data": {
      "text/plain": [
       "Text(0.5, 1.0, 'Outputs')"
      ]
     },
     "execution_count": 26,
     "metadata": {},
     "output_type": "execute_result"
    },
    {
     "data": {
      "image/png": "[encoded data removed]",
      "text/plain": [
       "<Figure size 576x504 with 1 Axes>"
      ]
     },
     "metadata": {
      "needs_background": "light"
     },
     "output_type": "display_data"
    }
   ],
   "source": [
    "plt.figure(figsize=(8,7))\n",
    "plt.scatter(plot_testing[:,0], plot_testing[:,1], alpha = 0.1, c = y_test.ravel());\n",
    "plt.title('Outputs')"
   ]
  },
  {
   "cell_type": "markdown",
   "metadata": {
    "papermill": {
     "duration": 0.045165,
     "end_time": "2020-09-15T20:06:23.632324",
     "exception": false,
     "start_time": "2020-09-15T20:06:23.587159",
     "status": "completed"
    },
    "tags": []
   },
   "source": [
    "### Plotting probability contours"
   ]
  },
  {
   "cell_type": "code",
   "execution_count": 27,
   "metadata": {
    "execution": {
     "iopub.execute_input": "2020-09-15T20:06:23.722323Z",
     "iopub.status.busy": "2020-09-15T20:06:23.721798Z",
     "iopub.status.idle": "2020-09-15T20:06:23.730043Z",
     "shell.execute_reply": "2020-09-15T20:06:23.730479Z"
    },
    "papermill": {
     "duration": 0.05633,
     "end_time": "2020-09-15T20:06:23.730603",
     "exception": false,
     "start_time": "2020-09-15T20:06:23.674273",
     "status": "completed"
    },
    "tags": []
   },
   "outputs": [],
   "source": [
    "model_prob = Model(layers[-2:]) "
   ]
  },
  {
   "cell_type": "code",
   "execution_count": 28,
   "metadata": {
    "execution": {
     "iopub.execute_input": "2020-09-15T20:06:23.816184Z",
     "iopub.status.busy": "2020-09-15T20:06:23.815621Z",
     "iopub.status.idle": "2020-09-15T20:06:23.827155Z",
     "shell.execute_reply": "2020-09-15T20:06:23.827557Z"
    },
    "papermill": {
     "duration": 0.056892,
     "end_time": "2020-09-15T20:06:23.827680",
     "exception": false,
     "start_time": "2020-09-15T20:06:23.770788",
     "status": "completed"
    },
    "tags": []
   },
   "outputs": [],
   "source": [
    "# Adjust the x and y ranges according to the above generated plot.\n",
    "x_range = np.linspace(-4, 1, 100) \n",
    "y_range = np.linspace(-6, 6, 100) \n",
    "x_grid, y_grid = np.meshgrid(x_range, y_range) # x_grid and y_grig are of size 100 X 100\n",
    "\n",
    "# converting x_grid and y_grid to continuous arrays\n",
    "x_grid_flat = np.ravel(x_grid)\n",
    "y_grid_flat = np.ravel(y_grid)\n",
    "\n",
    "# The last layer of the current model takes two columns as input. Hence transpose of np.vstack() is required.\n",
    "X = np.vstack((x_grid_flat, y_grid_flat)).T\n",
    "\n",
    "# x_grid and y_grid are of size 100 x 100\n",
    "probability_contour = model_prob(X).reshape(100,100) "
   ]
  },
  {
   "cell_type": "code",
   "execution_count": 29,
   "metadata": {
    "execution": {
     "iopub.execute_input": "2020-09-15T20:06:23.925209Z",
     "iopub.status.busy": "2020-09-15T20:06:23.924701Z",
     "iopub.status.idle": "2020-09-15T20:06:24.165305Z",
     "shell.execute_reply": "2020-09-15T20:06:24.165702Z"
    },
    "papermill": {
     "duration": 0.292267,
     "end_time": "2020-09-15T20:06:24.165823",
     "exception": false,
     "start_time": "2020-09-15T20:06:23.873556",
     "status": "completed"
    },
    "tags": []
   },
   "outputs": [
    {
     "data": {
      "image/png": "[encoded data removed]",
      "text/plain": [
       "<Figure size 720x648 with 1 Axes>"
      ]
     },
     "metadata": {
      "needs_background": "light"
     },
     "output_type": "display_data"
    }
   ],
   "source": [
    "plt.figure(figsize=(10,9))\n",
    "plt.scatter(plot_testing[:,0], plot_testing[:,1], alpha = 0.1, c = y_test.ravel())\n",
    "contours = plt.contour(x_grid,y_grid,probability_contour)\n",
    "plt.title('Probability Contours')\n",
    "plt.clabel(contours, inline = True );"
   ]
  }
 ],
 "metadata": {
  "kernelspec": {
   "display_name": "Python 3",
   "language": "python",
   "name": "python3"
  },
  "language_info": {
   "codemirror_mode": {
    "name": "ipython",
    "version": 3
   },
   "file_extension": ".py",
   "mimetype": "text/x-python",
   "name": "python",
   "nbconvert_exporter": "python",
   "pygments_lexer": "ipython3",
   "version": "3.6.12"
  },
  "papermill": {
   "duration": 144.302835,
   "end_time": "2020-09-15T20:06:24.513320",
   "environment_variables": {},
   "exception": null,
   "input_path": "2020-08-11-NeuralNetwork.ipynb",
   "output_path": "2020-08-11-NeuralNetwork.ipynb",
   "parameters": {},
   "start_time": "2020-09-15T20:04:00.210485",
   "version": "2.1.2"
  }
 },
 "nbformat": 4,
 "nbformat_minor": 4
}