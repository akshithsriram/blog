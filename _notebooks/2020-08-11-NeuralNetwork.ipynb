{
 "cells": [
  {
   "cell_type": "markdown",
   "metadata": {
    "papermill": {
     "duration": 0.025217,
     "end_time": "2020-09-17T20:04:47.861417",
     "exception": false,
     "start_time": "2020-09-17T20:04:47.836200",
     "status": "completed"
    },
    "tags": []
   },
   "source": [
    "# \"A Basic Neural Network: Differentiate Hand-Written Digits\"\n",
    "\n",
    "- badges: true\n",
    "- author: Akshith Sriram"
   ]
  },
  {
   "cell_type": "markdown",
   "metadata": {
    "papermill": {
     "duration": 0.022031,
     "end_time": "2020-09-17T20:04:47.905639",
     "exception": false,
     "start_time": "2020-09-17T20:04:47.883608",
     "status": "completed"
    },
    "tags": []
   },
   "source": [
    "### Key Objectives:\n",
    "- Building a neural network that differentiates two hand-written digits 3 and 8.\n",
    "- Comparing the results of this Neural Network (NN) to that of a Logistic Regression (LR) model.\n",
    "\n",
    "### Requirements:\n",
    "- 'Kudzu' : A neural network library that was designed during our course by [Univ.AI](www.univ.ai). \n",
    "- MNIST Database\n",
    "\n",
    "If MNIST is not installed, use the command `!pip install mnist` given below.\n",
    "It can be run both from the command line and Jupyter Notebook."
   ]
  },
  {
   "cell_type": "code",
   "execution_count": 1,
   "metadata": {
    "execution": {
     "iopub.execute_input": "2020-09-17T20:04:47.954372Z",
     "iopub.status.busy": "2020-09-17T20:04:47.953876Z",
     "iopub.status.idle": "2020-09-17T20:04:49.264505Z",
     "shell.execute_reply": "2020-09-17T20:04:49.263545Z"
    },
    "papermill": {
     "duration": 1.336383,
     "end_time": "2020-09-17T20:04:49.264764",
     "exception": false,
     "start_time": "2020-09-17T20:04:47.928381",
     "status": "completed"
    },
    "tags": []
   },
   "outputs": [
    {
     "name": "stdout",
     "output_type": "stream",
     "text": [
      "Collecting mnist\r\n"
     ]
    },
    {
     "name": "stdout",
     "output_type": "stream",
     "text": [
      "  Downloading mnist-0.2.2-py2.py3-none-any.whl (3.5 kB)\r\n",
      "Requirement already satisfied: numpy in /opt/hostedtoolcache/Python/3.6.12/x64/lib/python3.6/site-packages (from mnist) (1.19.2)\r\n"
     ]
    },
    {
     "name": "stdout",
     "output_type": "stream",
     "text": [
      "Installing collected packages: mnist\r\n"
     ]
    },
    {
     "name": "stdout",
     "output_type": "stream",
     "text": [
      "Successfully installed mnist-0.2.2\r\n"
     ]
    }
   ],
   "source": [
    "!pip install mnist "
   ]
  },
  {
   "cell_type": "markdown",
   "metadata": {
    "papermill": {
     "duration": 0.021654,
     "end_time": "2020-09-17T20:04:49.308598",
     "exception": false,
     "start_time": "2020-09-17T20:04:49.286944",
     "status": "completed"
    },
    "tags": []
   },
   "source": [
    "#### Importing necessary libraries"
   ]
  },
  {
   "cell_type": "code",
   "execution_count": 2,
   "metadata": {
    "execution": {
     "iopub.execute_input": "2020-09-17T20:04:49.361116Z",
     "iopub.status.busy": "2020-09-17T20:04:49.360522Z",
     "iopub.status.idle": "2020-09-17T20:04:49.853741Z",
     "shell.execute_reply": "2020-09-17T20:04:49.853103Z"
    },
    "papermill": {
     "duration": 0.522697,
     "end_time": "2020-09-17T20:04:49.853875",
     "exception": false,
     "start_time": "2020-09-17T20:04:49.331178",
     "status": "completed"
    },
    "tags": []
   },
   "outputs": [],
   "source": [
    "%load_ext autoreload\n",
    "%autoreload 2\n",
    "\n",
    "%matplotlib inline\n",
    "import matplotlib.pyplot as plt\n",
    "\n",
    "import numpy as np\n",
    "import pandas as pd"
   ]
  },
  {
   "cell_type": "markdown",
   "metadata": {
    "papermill": {
     "duration": 0.021624,
     "end_time": "2020-09-17T20:04:49.900643",
     "exception": false,
     "start_time": "2020-09-17T20:04:49.879019",
     "status": "completed"
    },
    "tags": []
   },
   "source": [
    "### Preparing the Data"
   ]
  },
  {
   "cell_type": "code",
   "execution_count": 3,
   "metadata": {
    "execution": {
     "iopub.execute_input": "2020-09-17T20:04:49.947903Z",
     "iopub.status.busy": "2020-09-17T20:04:49.947302Z",
     "iopub.status.idle": "2020-09-17T20:04:49.961228Z",
     "shell.execute_reply": "2020-09-17T20:04:49.961727Z"
    },
    "papermill": {
     "duration": 0.040723,
     "end_time": "2020-09-17T20:04:49.961874",
     "exception": false,
     "start_time": "2020-09-17T20:04:49.921151",
     "status": "completed"
    },
    "tags": []
   },
   "outputs": [],
   "source": [
    "import mnist"
   ]
  },
  {
   "cell_type": "code",
   "execution_count": 4,
   "metadata": {
    "execution": {
     "iopub.execute_input": "2020-09-17T20:04:50.014467Z",
     "iopub.status.busy": "2020-09-17T20:04:50.013934Z",
     "iopub.status.idle": "2020-09-17T20:04:51.773984Z",
     "shell.execute_reply": "2020-09-17T20:04:51.773045Z"
    },
    "papermill": {
     "duration": 1.78941,
     "end_time": "2020-09-17T20:04:51.774201",
     "exception": false,
     "start_time": "2020-09-17T20:04:49.984791",
     "status": "completed"
    },
    "tags": []
   },
   "outputs": [],
   "source": [
    "train_images = mnist.train_images()\n",
    "train_labels = mnist.train_labels()"
   ]
  },
  {
   "cell_type": "code",
   "execution_count": 5,
   "metadata": {
    "execution": {
     "iopub.execute_input": "2020-09-17T20:04:51.823473Z",
     "iopub.status.busy": "2020-09-17T20:04:51.822945Z",
     "iopub.status.idle": "2020-09-17T20:04:51.836718Z",
     "shell.execute_reply": "2020-09-17T20:04:51.837212Z"
    },
    "papermill": {
     "duration": 0.040746,
     "end_time": "2020-09-17T20:04:51.837349",
     "exception": false,
     "start_time": "2020-09-17T20:04:51.796603",
     "status": "completed"
    },
    "tags": []
   },
   "outputs": [
    {
     "data": {
      "text/plain": [
       "((60000, 28, 28), (60000,))"
      ]
     },
     "execution_count": 5,
     "metadata": {},
     "output_type": "execute_result"
    }
   ],
   "source": [
    "train_images.shape, train_labels.shape"
   ]
  },
  {
   "cell_type": "code",
   "execution_count": 6,
   "metadata": {
    "execution": {
     "iopub.execute_input": "2020-09-17T20:04:51.884559Z",
     "iopub.status.busy": "2020-09-17T20:04:51.884095Z",
     "iopub.status.idle": "2020-09-17T20:04:52.794701Z",
     "shell.execute_reply": "2020-09-17T20:04:52.793804Z"
    },
    "papermill": {
     "duration": 0.936205,
     "end_time": "2020-09-17T20:04:52.794929",
     "exception": false,
     "start_time": "2020-09-17T20:04:51.858724",
     "status": "completed"
    },
    "tags": []
   },
   "outputs": [],
   "source": [
    "test_images = mnist.test_images()\n",
    "test_labels = mnist.test_labels()"
   ]
  },
  {
   "cell_type": "code",
   "execution_count": 7,
   "metadata": {
    "execution": {
     "iopub.execute_input": "2020-09-17T20:04:52.841755Z",
     "iopub.status.busy": "2020-09-17T20:04:52.841165Z",
     "iopub.status.idle": "2020-09-17T20:04:52.855664Z",
     "shell.execute_reply": "2020-09-17T20:04:52.856075Z"
    },
    "papermill": {
     "duration": 0.039263,
     "end_time": "2020-09-17T20:04:52.856214",
     "exception": false,
     "start_time": "2020-09-17T20:04:52.816951",
     "status": "completed"
    },
    "tags": []
   },
   "outputs": [
    {
     "data": {
      "text/plain": [
       "((10000, 28, 28), (10000,))"
      ]
     },
     "execution_count": 7,
     "metadata": {},
     "output_type": "execute_result"
    }
   ],
   "source": [
    "test_images.shape, test_labels.shape"
   ]
  },
  {
   "cell_type": "code",
   "execution_count": 8,
   "metadata": {
    "execution": {
     "iopub.execute_input": "2020-09-17T20:04:52.903933Z",
     "iopub.status.busy": "2020-09-17T20:04:52.903515Z",
     "iopub.status.idle": "2020-09-17T20:04:53.030950Z",
     "shell.execute_reply": "2020-09-17T20:04:53.031337Z"
    },
    "papermill": {
     "duration": 0.154132,
     "end_time": "2020-09-17T20:04:53.031457",
     "exception": false,
     "start_time": "2020-09-17T20:04:52.877325",
     "status": "completed"
    },
    "tags": []
   },
   "outputs": [
    {
     "name": "stdout",
     "output_type": "stream",
     "text": [
      "2\n"
     ]
    },
    {
     "data": {
      "text/plain": [
       "<matplotlib.image.AxesImage at 0x7ff881ab07b8>"
      ]
     },
     "execution_count": 8,
     "metadata": {},
     "output_type": "execute_result"
    },
    {
     "data": {
      "image/png": "[encoded data removed]",
      "text/plain": [
       "<Figure size 432x288 with 1 Axes>"
      ]
     },
     "metadata": {
      "needs_background": "light"
     },
     "output_type": "display_data"
    }
   ],
   "source": [
    "image_index = 7776 # You may select anything up to 60,000\n",
    "print(train_labels[image_index]) \n",
    "plt.imshow(train_images[image_index], cmap='Greys')"
   ]
  },
  {
   "cell_type": "markdown",
   "metadata": {
    "papermill": {
     "duration": 0.025696,
     "end_time": "2020-09-17T20:04:53.081957",
     "exception": false,
     "start_time": "2020-09-17T20:04:53.056261",
     "status": "completed"
    },
    "tags": []
   },
   "source": [
    "## Filter data to get 3 and 8 out"
   ]
  },
  {
   "cell_type": "code",
   "execution_count": 9,
   "metadata": {
    "execution": {
     "iopub.execute_input": "2020-09-17T20:04:53.133411Z",
     "iopub.status.busy": "2020-09-17T20:04:53.132932Z",
     "iopub.status.idle": "2020-09-17T20:04:53.149936Z",
     "shell.execute_reply": "2020-09-17T20:04:53.150418Z"
    },
    "papermill": {
     "duration": 0.044394,
     "end_time": "2020-09-17T20:04:53.150565",
     "exception": false,
     "start_time": "2020-09-17T20:04:53.106171",
     "status": "completed"
    },
    "tags": []
   },
   "outputs": [],
   "source": [
    "train_filter = np.where((train_labels == 3 ) | (train_labels == 8))\n",
    "test_filter = np.where((test_labels == 3) | (test_labels == 8))\n",
    "X_train, y_train = train_images[train_filter], train_labels[train_filter]\n",
    "X_test, y_test = test_images[test_filter], test_labels[test_filter]"
   ]
  },
  {
   "cell_type": "markdown",
   "metadata": {
    "papermill": {
     "duration": 0.022182,
     "end_time": "2020-09-17T20:04:53.194717",
     "exception": false,
     "start_time": "2020-09-17T20:04:53.172535",
     "status": "completed"
    },
    "tags": []
   },
   "source": [
    "We normalize the pixel values in the 0 to 1 range"
   ]
  },
  {
   "cell_type": "code",
   "execution_count": 10,
   "metadata": {
    "execution": {
     "iopub.execute_input": "2020-09-17T20:04:53.242580Z",
     "iopub.status.busy": "2020-09-17T20:04:53.242103Z",
     "iopub.status.idle": "2020-09-17T20:04:53.291259Z",
     "shell.execute_reply": "2020-09-17T20:04:53.290296Z"
    },
    "papermill": {
     "duration": 0.074831,
     "end_time": "2020-09-17T20:04:53.291486",
     "exception": false,
     "start_time": "2020-09-17T20:04:53.216655",
     "status": "completed"
    },
    "tags": []
   },
   "outputs": [],
   "source": [
    "X_train = X_train/255.\n",
    "X_test = X_test/255."
   ]
  },
  {
   "cell_type": "markdown",
   "metadata": {
    "papermill": {
     "duration": 0.024921,
     "end_time": "2020-09-17T20:04:53.340782",
     "exception": false,
     "start_time": "2020-09-17T20:04:53.315861",
     "status": "completed"
    },
    "tags": []
   },
   "source": [
    "Setup the labels as 1 (when the digit is 3) and 0 (when the digit is 8)"
   ]
  },
  {
   "cell_type": "code",
   "execution_count": 11,
   "metadata": {
    "execution": {
     "iopub.execute_input": "2020-09-17T20:04:53.392282Z",
     "iopub.status.busy": "2020-09-17T20:04:53.391866Z",
     "iopub.status.idle": "2020-09-17T20:04:53.409313Z",
     "shell.execute_reply": "2020-09-17T20:04:53.408808Z"
    },
    "papermill": {
     "duration": 0.045205,
     "end_time": "2020-09-17T20:04:53.409433",
     "exception": false,
     "start_time": "2020-09-17T20:04:53.364228",
     "status": "completed"
    },
    "tags": []
   },
   "outputs": [],
   "source": [
    "y_train = 1*(y_train==3)\n",
    "y_test = 1*(y_test==3)"
   ]
  },
  {
   "cell_type": "code",
   "execution_count": 12,
   "metadata": {
    "execution": {
     "iopub.execute_input": "2020-09-17T20:04:53.459030Z",
     "iopub.status.busy": "2020-09-17T20:04:53.458472Z",
     "iopub.status.idle": "2020-09-17T20:04:53.471398Z",
     "shell.execute_reply": "2020-09-17T20:04:53.470909Z"
    },
    "papermill": {
     "duration": 0.040149,
     "end_time": "2020-09-17T20:04:53.471508",
     "exception": false,
     "start_time": "2020-09-17T20:04:53.431359",
     "status": "completed"
    },
    "tags": []
   },
   "outputs": [
    {
     "data": {
      "text/plain": [
       "((11982, 28, 28), (1984, 28, 28))"
      ]
     },
     "execution_count": 12,
     "metadata": {},
     "output_type": "execute_result"
    }
   ],
   "source": [
    "X_train.shape, X_test.shape"
   ]
  },
  {
   "cell_type": "markdown",
   "metadata": {
    "papermill": {
     "duration": 0.023541,
     "end_time": "2020-09-17T20:04:53.518543",
     "exception": false,
     "start_time": "2020-09-17T20:04:53.495002",
     "status": "completed"
    },
    "tags": []
   },
   "source": [
    "### Reshape the input data to create a linear array"
   ]
  },
  {
   "cell_type": "code",
   "execution_count": 13,
   "metadata": {
    "execution": {
     "iopub.execute_input": "2020-09-17T20:04:53.569648Z",
     "iopub.status.busy": "2020-09-17T20:04:53.569117Z",
     "iopub.status.idle": "2020-09-17T20:04:53.586219Z",
     "shell.execute_reply": "2020-09-17T20:04:53.585717Z"
    },
    "papermill": {
     "duration": 0.044739,
     "end_time": "2020-09-17T20:04:53.586329",
     "exception": false,
     "start_time": "2020-09-17T20:04:53.541590",
     "status": "completed"
    },
    "tags": []
   },
   "outputs": [
    {
     "data": {
      "text/plain": [
       "((11982, 784), (1984, 784))"
      ]
     },
     "execution_count": 13,
     "metadata": {},
     "output_type": "execute_result"
    }
   ],
   "source": [
    "X_train = X_train.reshape(X_train.shape[0], -1)\n",
    "X_test = X_test.reshape(X_test.shape[0], -1)\n",
    "X_train.shape, X_test.shape"
   ]
  },
  {
   "cell_type": "markdown",
   "metadata": {
    "papermill": {
     "duration": 0.025649,
     "end_time": "2020-09-17T20:04:53.637594",
     "exception": false,
     "start_time": "2020-09-17T20:04:53.611945",
     "status": "completed"
    },
    "tags": []
   },
   "source": [
    "### Importing appropriate functions from 'Kudzu'"
   ]
  },
  {
   "cell_type": "code",
   "execution_count": 14,
   "metadata": {
    "execution": {
     "iopub.execute_input": "2020-09-17T20:04:53.689676Z",
     "iopub.status.busy": "2020-09-17T20:04:53.689034Z",
     "iopub.status.idle": "2020-09-17T20:04:53.711949Z",
     "shell.execute_reply": "2020-09-17T20:04:53.712462Z"
    },
    "papermill": {
     "duration": 0.049957,
     "end_time": "2020-09-17T20:04:53.712612",
     "exception": false,
     "start_time": "2020-09-17T20:04:53.662655",
     "status": "completed"
    },
    "tags": []
   },
   "outputs": [],
   "source": [
    "from kudzu.layer import Sigmoid\n",
    "from kudzu.layer import Relu\n",
    "from kudzu.layer import Affine, Sigmoid\n",
    "\n",
    "from kudzu.model import Model\n",
    "from kudzu.train import Learner\n",
    "from kudzu.optim import GD\n",
    "from kudzu.data import Data, Dataloader, Sampler\n",
    "\n",
    "from kudzu.callbacks import AccCallback\n",
    "from kudzu.callbacks import ClfCallback\n",
    "\n",
    "from kudzu.loss import MSE"
   ]
  },
  {
   "cell_type": "markdown",
   "metadata": {
    "papermill": {
     "duration": 0.024926,
     "end_time": "2020-09-17T20:04:53.761602",
     "exception": false,
     "start_time": "2020-09-17T20:04:53.736676",
     "status": "completed"
    },
    "tags": []
   },
   "source": [
    "### Let us create a `Config` class, to store important parameters. \n",
    "This class essentially plays the role of a dictionary."
   ]
  },
  {
   "cell_type": "code",
   "execution_count": 15,
   "metadata": {
    "execution": {
     "iopub.execute_input": "2020-09-17T20:04:53.813428Z",
     "iopub.status.busy": "2020-09-17T20:04:53.812957Z",
     "iopub.status.idle": "2020-09-17T20:04:53.826578Z",
     "shell.execute_reply": "2020-09-17T20:04:53.826932Z"
    },
    "papermill": {
     "duration": 0.042767,
     "end_time": "2020-09-17T20:04:53.827028",
     "exception": false,
     "start_time": "2020-09-17T20:04:53.784261",
     "status": "completed"
    },
    "tags": []
   },
   "outputs": [],
   "source": [
    "class Config:\n",
    "    pass\n",
    "config = Config()\n",
    "config.lr = 0.001\n",
    "config.num_epochs = 251\n",
    "config.bs = 50"
   ]
  },
  {
   "cell_type": "markdown",
   "metadata": {
    "papermill": {
     "duration": 0.023398,
     "end_time": "2020-09-17T20:04:53.872804",
     "exception": false,
     "start_time": "2020-09-17T20:04:53.849406",
     "status": "completed"
    },
    "tags": []
   },
   "source": [
    "### Initializing data to the variables"
   ]
  },
  {
   "cell_type": "code",
   "execution_count": 16,
   "metadata": {
    "execution": {
     "iopub.execute_input": "2020-09-17T20:04:53.925293Z",
     "iopub.status.busy": "2020-09-17T20:04:53.924717Z",
     "iopub.status.idle": "2020-09-17T20:04:53.936055Z",
     "shell.execute_reply": "2020-09-17T20:04:53.935613Z"
    },
    "papermill": {
     "duration": 0.038819,
     "end_time": "2020-09-17T20:04:53.936152",
     "exception": false,
     "start_time": "2020-09-17T20:04:53.897333",
     "status": "completed"
    },
    "tags": []
   },
   "outputs": [],
   "source": [
    "data = Data(X_train, y_train.reshape(-1,1))\n",
    "sampler = Sampler(data, config.bs, shuffle=True)\n",
    "\n",
    "dl = Dataloader(data, sampler)\n",
    "\n",
    "opt = GD(config.lr)\n",
    "loss = MSE()"
   ]
  },
  {
   "cell_type": "code",
   "execution_count": 17,
   "metadata": {
    "execution": {
     "iopub.execute_input": "2020-09-17T20:04:53.992184Z",
     "iopub.status.busy": "2020-09-17T20:04:53.991643Z",
     "iopub.status.idle": "2020-09-17T20:04:54.002514Z",
     "shell.execute_reply": "2020-09-17T20:04:54.002074Z"
    },
    "papermill": {
     "duration": 0.042392,
     "end_time": "2020-09-17T20:04:54.002625",
     "exception": false,
     "start_time": "2020-09-17T20:04:53.960233",
     "status": "completed"
    },
    "tags": []
   },
   "outputs": [],
   "source": [
    "training_xdata = X_train\n",
    "testing_xdata = X_test\n",
    "training_ydata = y_train.reshape(-1,1)\n",
    "testing_ydata = y_test.reshape(-1,1)"
   ]
  },
  {
   "cell_type": "markdown",
   "metadata": {
    "papermill": {
     "duration": 0.026102,
     "end_time": "2020-09-17T20:04:54.053828",
     "exception": false,
     "start_time": "2020-09-17T20:04:54.027726",
     "status": "completed"
    },
    "tags": []
   },
   "source": [
    "### Running Models with the Training data\n",
    "Details about the network layers:\n",
    "- A first affine layer has 784 inputs and does 100 affine transforms. These are followed by a Relu\n",
    "- A second affine layer has 100 inputs from the 100 activations of the past layer, and does 100 affine transforms. These are followed by a Relu\n",
    "- A third affine layer has 100 activations and does 2 affine transformations to create an embedding for visualization. There is no non-linearity here.\n",
    "- A final \"logistic regression\" which has an affine transform from 2 inputs to 1 output, which is squeezed through a sigmoid.\n",
    "\n",
    "Help taken from Anshuman's Notebook."
   ]
  },
  {
   "cell_type": "code",
   "execution_count": 18,
   "metadata": {
    "execution": {
     "iopub.execute_input": "2020-09-17T20:04:54.113702Z",
     "iopub.status.busy": "2020-09-17T20:04:54.113093Z",
     "iopub.status.idle": "2020-09-17T20:04:54.128682Z",
     "shell.execute_reply": "2020-09-17T20:04:54.128298Z"
    },
    "papermill": {
     "duration": 0.049385,
     "end_time": "2020-09-17T20:04:54.128771",
     "exception": false,
     "start_time": "2020-09-17T20:04:54.079386",
     "status": "completed"
    },
    "tags": []
   },
   "outputs": [],
   "source": [
    "# layers for the Neural Network\n",
    "layers = [Affine(\"first\", 784, 100), Relu(\"first\"), Affine(\"second\", 100, 100), Relu(\"second\"), Affine(\"third\", 100, 2), Affine(\"final\", 2, 1), Sigmoid(\"final\")]\n",
    "model_nn = Model(layers)\n",
    "\n",
    "# layers for the Logistic Regression\n",
    "layers_lr = [Affine(\"logits\", 784, 1), Sigmoid(\"sigmoid\")]\n",
    "model_lr = Model(layers_lr)"
   ]
  },
  {
   "cell_type": "code",
   "execution_count": 19,
   "metadata": {
    "execution": {
     "iopub.execute_input": "2020-09-17T20:04:54.181166Z",
     "iopub.status.busy": "2020-09-17T20:04:54.180585Z",
     "iopub.status.idle": "2020-09-17T20:04:54.192709Z",
     "shell.execute_reply": "2020-09-17T20:04:54.192164Z"
    },
    "papermill": {
     "duration": 0.041501,
     "end_time": "2020-09-17T20:04:54.192810",
     "exception": false,
     "start_time": "2020-09-17T20:04:54.151309",
     "status": "completed"
    },
    "tags": []
   },
   "outputs": [],
   "source": [
    "# suffix _nn stands for Neural Network.\n",
    "learner_nn = Learner(loss, model_nn, opt, config.num_epochs)\n",
    "acc_nn = ClfCallback(learner_nn, config.bs, training_xdata , testing_xdata, training_ydata, testing_ydata)\n",
    "learner_nn.set_callbacks([acc_nn])"
   ]
  },
  {
   "cell_type": "code",
   "execution_count": 20,
   "metadata": {
    "execution": {
     "iopub.execute_input": "2020-09-17T20:04:54.244514Z",
     "iopub.status.busy": "2020-09-17T20:04:54.244020Z",
     "iopub.status.idle": "2020-09-17T20:06:11.658822Z",
     "shell.execute_reply": "2020-09-17T20:06:11.659564Z"
    },
    "papermill": {
     "duration": 77.443662,
     "end_time": "2020-09-17T20:06:11.659719",
     "exception": false,
     "start_time": "2020-09-17T20:04:54.216057",
     "status": "completed"
    },
    "tags": []
   },
   "outputs": [
    {
     "name": "stdout",
     "output_type": "stream",
     "text": [
      "====== Neural Network ======\n"
     ]
    },
    {
     "name": "stdout",
     "output_type": "stream",
     "text": [
      "Epoch 0, Loss 0.2531\n",
      "Training Accuracy: 0.4981, Testing Accuracy: 0.5277\n",
      "\n"
     ]
    },
    {
     "name": "stdout",
     "output_type": "stream",
     "text": [
      "Epoch 10, Loss 0.1584\n",
      "Training Accuracy: 0.8943, Testing Accuracy: 0.9068\n",
      "\n"
     ]
    },
    {
     "name": "stdout",
     "output_type": "stream",
     "text": [
      "Epoch 20, Loss 0.0765\n",
      "Training Accuracy: 0.9282, Testing Accuracy: 0.9385\n",
      "\n"
     ]
    },
    {
     "name": "stdout",
     "output_type": "stream",
     "text": [
      "Epoch 30, Loss 0.052\n",
      "Training Accuracy: 0.9461, Testing Accuracy: 0.9597\n",
      "\n"
     ]
    },
    {
     "name": "stdout",
     "output_type": "stream",
     "text": [
      "Epoch 40, Loss 0.042\n",
      "Training Accuracy: 0.9557, Testing Accuracy: 0.9637\n",
      "\n"
     ]
    },
    {
     "name": "stdout",
     "output_type": "stream",
     "text": [
      "Epoch 50, Loss 0.0368\n",
      "Training Accuracy: 0.9600, Testing Accuracy: 0.9642\n",
      "\n"
     ]
    },
    {
     "name": "stdout",
     "output_type": "stream",
     "text": [
      "Epoch 60, Loss 0.0335\n",
      "Training Accuracy: 0.9624, Testing Accuracy: 0.9662\n",
      "\n"
     ]
    },
    {
     "name": "stdout",
     "output_type": "stream",
     "text": [
      "Epoch 70, Loss 0.0313\n",
      "Training Accuracy: 0.9645, Testing Accuracy: 0.9672\n",
      "\n"
     ]
    },
    {
     "name": "stdout",
     "output_type": "stream",
     "text": [
      "Epoch 80, Loss 0.0296\n",
      "Training Accuracy: 0.9668, Testing Accuracy: 0.9693\n",
      "\n"
     ]
    },
    {
     "name": "stdout",
     "output_type": "stream",
     "text": [
      "Epoch 90, Loss 0.0283\n",
      "Training Accuracy: 0.9680, Testing Accuracy: 0.9693\n",
      "\n"
     ]
    },
    {
     "name": "stdout",
     "output_type": "stream",
     "text": [
      "Epoch 100, Loss 0.0272\n",
      "Training Accuracy: 0.9689, Testing Accuracy: 0.9698\n",
      "\n"
     ]
    },
    {
     "name": "stdout",
     "output_type": "stream",
     "text": [
      "Epoch 110, Loss 0.0263\n",
      "Training Accuracy: 0.9696, Testing Accuracy: 0.9688\n",
      "\n"
     ]
    },
    {
     "name": "stdout",
     "output_type": "stream",
     "text": [
      "Epoch 120, Loss 0.0254\n",
      "Training Accuracy: 0.9704, Testing Accuracy: 0.9703\n",
      "\n"
     ]
    },
    {
     "name": "stdout",
     "output_type": "stream",
     "text": [
      "Epoch 130, Loss 0.0247\n",
      "Training Accuracy: 0.9712, Testing Accuracy: 0.9708\n",
      "\n"
     ]
    },
    {
     "name": "stdout",
     "output_type": "stream",
     "text": [
      "Epoch 140, Loss 0.024\n",
      "Training Accuracy: 0.9720, Testing Accuracy: 0.9703\n",
      "\n"
     ]
    },
    {
     "name": "stdout",
     "output_type": "stream",
     "text": [
      "Epoch 150, Loss 0.0234\n",
      "Training Accuracy: 0.9722, Testing Accuracy: 0.9718\n",
      "\n"
     ]
    },
    {
     "name": "stdout",
     "output_type": "stream",
     "text": [
      "Epoch 160, Loss 0.0228\n",
      "Training Accuracy: 0.9732, Testing Accuracy: 0.9728\n",
      "\n"
     ]
    },
    {
     "name": "stdout",
     "output_type": "stream",
     "text": [
      "Epoch 170, Loss 0.0223\n",
      "Training Accuracy: 0.9741, Testing Accuracy: 0.9728\n",
      "\n"
     ]
    },
    {
     "name": "stdout",
     "output_type": "stream",
     "text": [
      "Epoch 180, Loss 0.0218\n",
      "Training Accuracy: 0.9749, Testing Accuracy: 0.9728\n",
      "\n"
     ]
    },
    {
     "name": "stdout",
     "output_type": "stream",
     "text": [
      "Epoch 190, Loss 0.0214\n",
      "Training Accuracy: 0.9754, Testing Accuracy: 0.9733\n",
      "\n"
     ]
    },
    {
     "name": "stdout",
     "output_type": "stream",
     "text": [
      "Epoch 200, Loss 0.0209\n",
      "Training Accuracy: 0.9761, Testing Accuracy: 0.9738\n",
      "\n"
     ]
    },
    {
     "name": "stdout",
     "output_type": "stream",
     "text": [
      "Epoch 210, Loss 0.0205\n",
      "Training Accuracy: 0.9772, Testing Accuracy: 0.9733\n",
      "\n"
     ]
    },
    {
     "name": "stdout",
     "output_type": "stream",
     "text": [
      "Epoch 220, Loss 0.0201\n",
      "Training Accuracy: 0.9775, Testing Accuracy: 0.9728\n",
      "\n"
     ]
    },
    {
     "name": "stdout",
     "output_type": "stream",
     "text": [
      "Epoch 230, Loss 0.0197\n",
      "Training Accuracy: 0.9781, Testing Accuracy: 0.9728\n",
      "\n"
     ]
    },
    {
     "name": "stdout",
     "output_type": "stream",
     "text": [
      "Epoch 240, Loss 0.0194\n",
      "Training Accuracy: 0.9790, Testing Accuracy: 0.9728\n",
      "\n"
     ]
    },
    {
     "name": "stdout",
     "output_type": "stream",
     "text": [
      "Epoch 250, Loss 0.019\n",
      "Training Accuracy: 0.9794, Testing Accuracy: 0.9723\n",
      "\n"
     ]
    },
    {
     "data": {
      "text/plain": [
       "0.01679990638624198"
      ]
     },
     "execution_count": 20,
     "metadata": {},
     "output_type": "execute_result"
    }
   ],
   "source": [
    "print(\"====== Neural Network ======\")\n",
    "learner_nn.train_loop(dl)"
   ]
  },
  {
   "cell_type": "markdown",
   "metadata": {
    "papermill": {
     "duration": 0.032658,
     "end_time": "2020-09-17T20:06:11.725358",
     "exception": false,
     "start_time": "2020-09-17T20:06:11.692700",
     "status": "completed"
    },
    "tags": []
   },
   "source": [
    "### Logistic Regression based Implementation."
   ]
  },
  {
   "cell_type": "code",
   "execution_count": 21,
   "metadata": {
    "execution": {
     "iopub.execute_input": "2020-09-17T20:06:11.793568Z",
     "iopub.status.busy": "2020-09-17T20:06:11.792257Z",
     "iopub.status.idle": "2020-09-17T20:06:11.803755Z",
     "shell.execute_reply": "2020-09-17T20:06:11.803370Z"
    },
    "papermill": {
     "duration": 0.046318,
     "end_time": "2020-09-17T20:06:11.803860",
     "exception": false,
     "start_time": "2020-09-17T20:06:11.757542",
     "status": "completed"
    },
    "tags": []
   },
   "outputs": [],
   "source": [
    "learner_lr = Learner(loss, model_lr, opt, config.num_epochs)\n",
    "acc_lr = ClfCallback(learner_lr, config.bs, training_xdata , testing_xdata, training_ydata, testing_ydata)\n",
    "learner_lr.set_callbacks([acc_lr])"
   ]
  },
  {
   "cell_type": "code",
   "execution_count": 22,
   "metadata": {
    "execution": {
     "iopub.execute_input": "2020-09-17T20:06:11.871918Z",
     "iopub.status.busy": "2020-09-17T20:06:11.870747Z",
     "iopub.status.idle": "2020-09-17T20:06:27.445546Z",
     "shell.execute_reply": "2020-09-17T20:06:27.446231Z"
    },
    "papermill": {
     "duration": 15.611464,
     "end_time": "2020-09-17T20:06:27.446370",
     "exception": false,
     "start_time": "2020-09-17T20:06:11.834906",
     "status": "completed"
    },
    "tags": []
   },
   "outputs": [
    {
     "name": "stdout",
     "output_type": "stream",
     "text": [
      "====== Logistic Regression ======\n",
      "Epoch 0, Loss 0.2603\n",
      "Training Accuracy: 0.5892, Testing Accuracy: 0.5600\n",
      "\n"
     ]
    },
    {
     "name": "stdout",
     "output_type": "stream",
     "text": [
      "Epoch 10, Loss 0.1072\n",
      "Training Accuracy: 0.9044, Testing Accuracy: 0.9153\n",
      "\n"
     ]
    },
    {
     "name": "stdout",
     "output_type": "stream",
     "text": [
      "Epoch 20, Loss 0.0817\n",
      "Training Accuracy: 0.9264, Testing Accuracy: 0.9345\n",
      "\n"
     ]
    },
    {
     "name": "stdout",
     "output_type": "stream",
     "text": [
      "Epoch 30, Loss 0.0701\n",
      "Training Accuracy: 0.9347, Testing Accuracy: 0.9451\n",
      "\n"
     ]
    },
    {
     "name": "stdout",
     "output_type": "stream",
     "text": [
      "Epoch 40, Loss 0.0632\n",
      "Training Accuracy: 0.9397, Testing Accuracy: 0.9496\n",
      "\n"
     ]
    },
    {
     "name": "stdout",
     "output_type": "stream",
     "text": [
      "Epoch 50, Loss 0.0584\n",
      "Training Accuracy: 0.9435, Testing Accuracy: 0.9526\n",
      "\n"
     ]
    },
    {
     "name": "stdout",
     "output_type": "stream",
     "text": [
      "Epoch 60, Loss 0.0549\n",
      "Training Accuracy: 0.9453, Testing Accuracy: 0.9541\n",
      "\n"
     ]
    },
    {
     "name": "stdout",
     "output_type": "stream",
     "text": [
      "Epoch 70, Loss 0.0523\n",
      "Training Accuracy: 0.9477, Testing Accuracy: 0.9567\n",
      "\n"
     ]
    },
    {
     "name": "stdout",
     "output_type": "stream",
     "text": [
      "Epoch 80, Loss 0.0501\n",
      "Training Accuracy: 0.9496, Testing Accuracy: 0.9592\n",
      "\n"
     ]
    },
    {
     "name": "stdout",
     "output_type": "stream",
     "text": [
      "Epoch 90, Loss 0.0483\n",
      "Training Accuracy: 0.9510, Testing Accuracy: 0.9602\n",
      "\n"
     ]
    },
    {
     "name": "stdout",
     "output_type": "stream",
     "text": [
      "Epoch 100, Loss 0.0468\n",
      "Training Accuracy: 0.9519, Testing Accuracy: 0.9597\n",
      "\n"
     ]
    },
    {
     "name": "stdout",
     "output_type": "stream",
     "text": [
      "Epoch 110, Loss 0.0455\n",
      "Training Accuracy: 0.9533, Testing Accuracy: 0.9597\n",
      "\n"
     ]
    },
    {
     "name": "stdout",
     "output_type": "stream",
     "text": [
      "Epoch 120, Loss 0.0444\n",
      "Training Accuracy: 0.9541, Testing Accuracy: 0.9607\n",
      "\n"
     ]
    },
    {
     "name": "stdout",
     "output_type": "stream",
     "text": [
      "Epoch 130, Loss 0.0435\n",
      "Training Accuracy: 0.9551, Testing Accuracy: 0.9622\n",
      "\n"
     ]
    },
    {
     "name": "stdout",
     "output_type": "stream",
     "text": [
      "Epoch 140, Loss 0.0426\n",
      "Training Accuracy: 0.9559, Testing Accuracy: 0.9627\n",
      "\n"
     ]
    },
    {
     "name": "stdout",
     "output_type": "stream",
     "text": [
      "Epoch 150, Loss 0.0418\n",
      "Training Accuracy: 0.9564, Testing Accuracy: 0.9652\n",
      "\n"
     ]
    },
    {
     "name": "stdout",
     "output_type": "stream",
     "text": [
      "Epoch 160, Loss 0.0411\n",
      "Training Accuracy: 0.9568, Testing Accuracy: 0.9647\n",
      "\n"
     ]
    },
    {
     "name": "stdout",
     "output_type": "stream",
     "text": [
      "Epoch 170, Loss 0.0405\n",
      "Training Accuracy: 0.9574, Testing Accuracy: 0.9652\n",
      "\n"
     ]
    },
    {
     "name": "stdout",
     "output_type": "stream",
     "text": [
      "Epoch 180, Loss 0.0399\n",
      "Training Accuracy: 0.9577, Testing Accuracy: 0.9662\n",
      "\n"
     ]
    },
    {
     "name": "stdout",
     "output_type": "stream",
     "text": [
      "Epoch 190, Loss 0.0393\n",
      "Training Accuracy: 0.9579, Testing Accuracy: 0.9657\n",
      "\n"
     ]
    },
    {
     "name": "stdout",
     "output_type": "stream",
     "text": [
      "Epoch 200, Loss 0.0389\n",
      "Training Accuracy: 0.9583, Testing Accuracy: 0.9657\n",
      "\n"
     ]
    },
    {
     "name": "stdout",
     "output_type": "stream",
     "text": [
      "Epoch 210, Loss 0.0384\n",
      "Training Accuracy: 0.9584, Testing Accuracy: 0.9657\n",
      "\n"
     ]
    },
    {
     "name": "stdout",
     "output_type": "stream",
     "text": [
      "Epoch 220, Loss 0.038\n",
      "Training Accuracy: 0.9589, Testing Accuracy: 0.9657\n",
      "\n"
     ]
    },
    {
     "name": "stdout",
     "output_type": "stream",
     "text": [
      "Epoch 230, Loss 0.0376\n",
      "Training Accuracy: 0.9599, Testing Accuracy: 0.9657\n",
      "\n"
     ]
    },
    {
     "name": "stdout",
     "output_type": "stream",
     "text": [
      "Epoch 240, Loss 0.0372\n",
      "Training Accuracy: 0.9606, Testing Accuracy: 0.9657\n",
      "\n"
     ]
    },
    {
     "name": "stdout",
     "output_type": "stream",
     "text": [
      "Epoch 250, Loss 0.0368\n",
      "Training Accuracy: 0.9609, Testing Accuracy: 0.9657\n",
      "\n"
     ]
    },
    {
     "data": {
      "text/plain": [
       "0.018338652372309718"
      ]
     },
     "execution_count": 22,
     "metadata": {},
     "output_type": "execute_result"
    }
   ],
   "source": [
    "print(\"====== Logistic Regression ======\")\n",
    "learner_lr.train_loop(dl)"
   ]
  },
  {
   "cell_type": "markdown",
   "metadata": {
    "papermill": {
     "duration": 0.041035,
     "end_time": "2020-09-17T20:06:27.527230",
     "exception": false,
     "start_time": "2020-09-17T20:06:27.486195",
     "status": "completed"
    },
    "tags": []
   },
   "source": [
    "### Comparing results of NN and LR"
   ]
  },
  {
   "cell_type": "code",
   "execution_count": 23,
   "metadata": {
    "execution": {
     "iopub.execute_input": "2020-09-17T20:06:27.616702Z",
     "iopub.status.busy": "2020-09-17T20:06:27.615587Z",
     "iopub.status.idle": "2020-09-17T20:06:27.829612Z",
     "shell.execute_reply": "2020-09-17T20:06:27.830039Z"
    },
    "papermill": {
     "duration": 0.261631,
     "end_time": "2020-09-17T20:06:27.830195",
     "exception": false,
     "start_time": "2020-09-17T20:06:27.568564",
     "status": "completed"
    },
    "tags": []
   },
   "outputs": [
    {
     "data": {
      "text/plain": [
       "<matplotlib.legend.Legend at 0x7ff87f6162b0>"
      ]
     },
     "execution_count": 23,
     "metadata": {},
     "output_type": "execute_result"
    },
    {
     "data": {
      "image/png": "[encoded data removed]",
      "text/plain": [
       "<Figure size 1080x720 with 1 Axes>"
      ]
     },
     "metadata": {
      "needs_background": "light"
     },
     "output_type": "display_data"
    }
   ],
   "source": [
    "plt.figure(figsize=(15,10))\n",
    "\n",
    "# Neural Network plots\n",
    "plt.plot(acc_nn.accuracies, 'r-', label = \"Training Accuracies - NN\")\n",
    "plt.plot(acc_nn.test_accuracies, 'g-', label = \"Testing Accuracies - NN\")\n",
    "\n",
    "# Logistic Regression plots\n",
    "plt.plot(acc_lr.accuracies, 'k-', label = \"Training Accuracies - LR\")\n",
    "plt.plot(acc_lr.test_accuracies, 'b-', label = \"Testing Accuracies - LR\")\n",
    "\n",
    "plt.ylim(0.8, 1)\n",
    "\n",
    "plt.legend()\n",
    "\n"
   ]
  },
  {
   "cell_type": "markdown",
   "metadata": {
    "papermill": {
     "duration": 0.039575,
     "end_time": "2020-09-17T20:06:27.907496",
     "exception": false,
     "start_time": "2020-09-17T20:06:27.867921",
     "status": "completed"
    },
    "tags": []
   },
   "source": [
    "### From the plot, we can observe the following:\n",
    "- Neural Network achieves higher accuracy than the Logistic Regression model.\n",
    "- This apparently, is because of overfitting, i.e. NN captures more noise than data.\n",
    "- Testing accuracy of NN drops below the Training accuracy at higher epochs. This explains the over-fitting on training data.\n",
    "- Logistic Regression gives a reliable accuracy, without the above mentioned problem.\n"
   ]
  },
  {
   "cell_type": "markdown",
   "metadata": {
    "papermill": {
     "duration": 0.039254,
     "end_time": "2020-09-17T20:06:27.987755",
     "exception": false,
     "start_time": "2020-09-17T20:06:27.948501",
     "status": "completed"
    },
    "tags": []
   },
   "source": [
    "### Moving till the last but one layer (excluding it).\n",
    "#### Plotting the outputs of this layer of the NN."
   ]
  },
  {
   "cell_type": "code",
   "execution_count": 24,
   "metadata": {
    "execution": {
     "iopub.execute_input": "2020-09-17T20:06:28.074936Z",
     "iopub.status.busy": "2020-09-17T20:06:28.074367Z",
     "iopub.status.idle": "2020-09-17T20:06:28.088293Z",
     "shell.execute_reply": "2020-09-17T20:06:28.087905Z"
    },
    "papermill": {
     "duration": 0.058438,
     "end_time": "2020-09-17T20:06:28.088427",
     "exception": false,
     "start_time": "2020-09-17T20:06:28.029989",
     "status": "completed"
    },
    "tags": []
   },
   "outputs": [],
   "source": [
    "model_new = Model(layers[:-2])"
   ]
  },
  {
   "cell_type": "code",
   "execution_count": 25,
   "metadata": {
    "execution": {
     "iopub.execute_input": "2020-09-17T20:06:28.178619Z",
     "iopub.status.busy": "2020-09-17T20:06:28.178046Z",
     "iopub.status.idle": "2020-09-17T20:06:28.198705Z",
     "shell.execute_reply": "2020-09-17T20:06:28.199178Z"
    },
    "papermill": {
     "duration": 0.067968,
     "end_time": "2020-09-17T20:06:28.199317",
     "exception": false,
     "start_time": "2020-09-17T20:06:28.131349",
     "status": "completed"
    },
    "tags": []
   },
   "outputs": [],
   "source": [
    "plot_testing = model_new(testing_xdata)"
   ]
  },
  {
   "cell_type": "code",
   "execution_count": 26,
   "metadata": {
    "execution": {
     "iopub.execute_input": "2020-09-17T20:06:28.291960Z",
     "iopub.status.busy": "2020-09-17T20:06:28.291409Z",
     "iopub.status.idle": "2020-09-17T20:06:28.464505Z",
     "shell.execute_reply": "2020-09-17T20:06:28.463210Z"
    },
    "papermill": {
     "duration": 0.222468,
     "end_time": "2020-09-17T20:06:28.464727",
     "exception": false,
     "start_time": "2020-09-17T20:06:28.242259",
     "status": "completed"
    },
    "tags": []
   },
   "outputs": [
    {
     "data": {
      "text/plain": [
       "Text(0.5, 1.0, 'Outputs')"
      ]
     },
     "execution_count": 26,
     "metadata": {},
     "output_type": "execute_result"
    },
    {
     "data": {
      "image/png": "[encoded data removed]",
      "text/plain": [
       "<Figure size 576x504 with 1 Axes>"
      ]
     },
     "metadata": {
      "needs_background": "light"
     },
     "output_type": "display_data"
    }
   ],
   "source": [
    "plt.figure(figsize=(8,7))\n",
    "plt.scatter(plot_testing[:,0], plot_testing[:,1], alpha = 0.1, c = y_test.ravel());\n",
    "plt.title('Outputs')"
   ]
  },
  {
   "cell_type": "markdown",
   "metadata": {
    "papermill": {
     "duration": 0.043986,
     "end_time": "2020-09-17T20:06:28.548912",
     "exception": false,
     "start_time": "2020-09-17T20:06:28.504926",
     "status": "completed"
    },
    "tags": []
   },
   "source": [
    "### Plotting probability contours"
   ]
  },
  {
   "cell_type": "code",
   "execution_count": 27,
   "metadata": {
    "execution": {
     "iopub.execute_input": "2020-09-17T20:06:28.638423Z",
     "iopub.status.busy": "2020-09-17T20:06:28.637909Z",
     "iopub.status.idle": "2020-09-17T20:06:28.651027Z",
     "shell.execute_reply": "2020-09-17T20:06:28.651468Z"
    },
    "papermill": {
     "duration": 0.059823,
     "end_time": "2020-09-17T20:06:28.651607",
     "exception": false,
     "start_time": "2020-09-17T20:06:28.591784",
     "status": "completed"
    },
    "tags": []
   },
   "outputs": [],
   "source": [
    "model_prob = Model(layers[-2:]) "
   ]
  },
  {
   "cell_type": "code",
   "execution_count": 28,
   "metadata": {
    "execution": {
     "iopub.execute_input": "2020-09-17T20:06:28.747109Z",
     "iopub.status.busy": "2020-09-17T20:06:28.746157Z",
     "iopub.status.idle": "2020-09-17T20:06:28.760595Z",
     "shell.execute_reply": "2020-09-17T20:06:28.761075Z"
    },
    "papermill": {
     "duration": 0.064265,
     "end_time": "2020-09-17T20:06:28.761220",
     "exception": false,
     "start_time": "2020-09-17T20:06:28.696955",
     "status": "completed"
    },
    "tags": []
   },
   "outputs": [],
   "source": [
    "# Adjust the x and y ranges according to the above generated plot.\n",
    "x_range = np.linspace(-4, 1, 100) \n",
    "y_range = np.linspace(-6, 6, 100) \n",
    "x_grid, y_grid = np.meshgrid(x_range, y_range) # x_grid and y_grig are of size 100 X 100\n",
    "\n",
    "# converting x_grid and y_grid to continuous arrays\n",
    "x_grid_flat = np.ravel(x_grid)\n",
    "y_grid_flat = np.ravel(y_grid)\n",
    "\n",
    "# The last layer of the current model takes two columns as input. Hence transpose of np.vstack() is required.\n",
    "X = np.vstack((x_grid_flat, y_grid_flat)).T\n",
    "\n",
    "# x_grid and y_grid are of size 100 x 100\n",
    "probability_contour = model_prob(X).reshape(100,100) "
   ]
  },
  {
   "cell_type": "code",
   "execution_count": 29,
   "metadata": {
    "execution": {
     "iopub.execute_input": "2020-09-17T20:06:28.850800Z",
     "iopub.status.busy": "2020-09-17T20:06:28.850224Z",
     "iopub.status.idle": "2020-09-17T20:06:29.082051Z",
     "shell.execute_reply": "2020-09-17T20:06:29.082499Z"
    },
    "papermill": {
     "duration": 0.278237,
     "end_time": "2020-09-17T20:06:29.082649",
     "exception": false,
     "start_time": "2020-09-17T20:06:28.804412",
     "status": "completed"
    },
    "tags": []
   },
   "outputs": [
    {
     "data": {
      "image/png": "[encoded data removed]",
      "text/plain": [
       "<Figure size 720x648 with 1 Axes>"
      ]
     },
     "metadata": {
      "needs_background": "light"
     },
     "output_type": "display_data"
    }
   ],
   "source": [
    "plt.figure(figsize=(10,9))\n",
    "plt.scatter(plot_testing[:,0], plot_testing[:,1], alpha = 0.1, c = y_test.ravel())\n",
    "contours = plt.contour(x_grid,y_grid,probability_contour)\n",
    "plt.title('Probability Contours')\n",
    "plt.clabel(contours, inline = True );"
   ]
  }
 ],
 "metadata": {
  "kernelspec": {
   "display_name": "Python 3",
   "language": "python",
   "name": "python3"
  },
  "language_info": {
   "codemirror_mode": {
    "name": "ipython",
    "version": 3
   },
   "file_extension": ".py",
   "mimetype": "text/x-python",
   "name": "python",
   "nbconvert_exporter": "python",
   "pygments_lexer": "ipython3",
   "version": "3.6.12"
  },
  "papermill": {
   "duration": 102.635477,
   "end_time": "2020-09-17T20:06:29.434641",
   "environment_variables": {},
   "exception": null,
   "input_path": "2020-08-11-NeuralNetwork.ipynb",
   "output_path": "2020-08-11-NeuralNetwork.ipynb",
   "parameters": {},
   "start_time": "2020-09-17T20:04:46.799164",
   "version": "2.1.2"
  }
 },
 "nbformat": 4,
 "nbformat_minor": 4
}