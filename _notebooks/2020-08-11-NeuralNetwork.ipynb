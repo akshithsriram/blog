{
 "cells": [
  {
   "cell_type": "markdown",
   "metadata": {
    "papermill": {
     "duration": 0.036441,
     "end_time": "2020-09-24T10:05:01.487453",
     "exception": false,
     "start_time": "2020-09-24T10:05:01.451012",
     "status": "completed"
    },
    "tags": []
   },
   "source": [
    "# \"A Basic Neural Network: Differentiate Hand-Written Digits\"\n",
    "\n",
    "- badges: true\n",
    "- author: Akshith Sriram"
   ]
  },
  {
   "cell_type": "markdown",
   "metadata": {
    "papermill": {
     "duration": 0.025009,
     "end_time": "2020-09-24T10:05:01.538669",
     "exception": false,
     "start_time": "2020-09-24T10:05:01.513660",
     "status": "completed"
    },
    "tags": []
   },
   "source": [
    "### Key Objectives:\n",
    "- Building a neural network that differentiates two hand-written digits 3 and 8.\n",
    "- Comparing the results of this Neural Network (NN) to that of a Logistic Regression (LR) model.\n",
    "\n",
    "### Requirements:\n",
    "- 'Kudzu' : A neural network library that was designed during our course by [Univ.AI](www.univ.ai). \n",
    "- MNIST Database\n",
    "\n",
    "If MNIST is not installed, use the command `!pip install mnist` given below.\n",
    "It can be run both from the command line and Jupyter Notebook."
   ]
  },
  {
   "cell_type": "code",
   "execution_count": 1,
   "metadata": {
    "execution": {
     "iopub.execute_input": "2020-09-24T10:05:01.593746Z",
     "iopub.status.busy": "2020-09-24T10:05:01.593140Z",
     "iopub.status.idle": "2020-09-24T10:05:03.045508Z",
     "shell.execute_reply": "2020-09-24T10:05:03.046113Z"
    },
    "papermill": {
     "duration": 1.482706,
     "end_time": "2020-09-24T10:05:03.046344",
     "exception": false,
     "start_time": "2020-09-24T10:05:01.563638",
     "status": "completed"
    },
    "tags": []
   },
   "outputs": [
    {
     "name": "stdout",
     "output_type": "stream",
     "text": [
      "Collecting mnist\r\n"
     ]
    },
    {
     "name": "stdout",
     "output_type": "stream",
     "text": [
      "  Downloading mnist-0.2.2-py2.py3-none-any.whl (3.5 kB)\r\n",
      "Requirement already satisfied: numpy in /opt/hostedtoolcache/Python/3.6.12/x64/lib/python3.6/site-packages (from mnist) (1.19.2)\r\n"
     ]
    },
    {
     "name": "stdout",
     "output_type": "stream",
     "text": [
      "Installing collected packages: mnist\r\n"
     ]
    },
    {
     "name": "stdout",
     "output_type": "stream",
     "text": [
      "Successfully installed mnist-0.2.2\r\n"
     ]
    }
   ],
   "source": [
    "!pip install mnist "
   ]
  },
  {
   "cell_type": "markdown",
   "metadata": {
    "papermill": {
     "duration": 0.106489,
     "end_time": "2020-09-24T10:05:03.212037",
     "exception": false,
     "start_time": "2020-09-24T10:05:03.105548",
     "status": "completed"
    },
    "tags": []
   },
   "source": [
    "#### Importing necessary libraries"
   ]
  },
  {
   "cell_type": "code",
   "execution_count": 2,
   "metadata": {
    "execution": {
     "iopub.execute_input": "2020-09-24T10:05:03.358385Z",
     "iopub.status.busy": "2020-09-24T10:05:03.357772Z",
     "iopub.status.idle": "2020-09-24T10:05:03.948439Z",
     "shell.execute_reply": "2020-09-24T10:05:03.947769Z"
    },
    "papermill": {
     "duration": 0.629182,
     "end_time": "2020-09-24T10:05:03.948611",
     "exception": false,
     "start_time": "2020-09-24T10:05:03.319429",
     "status": "completed"
    },
    "tags": []
   },
   "outputs": [],
   "source": [
    "%load_ext autoreload\n",
    "%autoreload 2\n",
    "\n",
    "%matplotlib inline\n",
    "import matplotlib.pyplot as plt\n",
    "\n",
    "import numpy as np\n",
    "import pandas as pd"
   ]
  },
  {
   "cell_type": "markdown",
   "metadata": {
    "papermill": {
     "duration": 0.026415,
     "end_time": "2020-09-24T10:05:04.002486",
     "exception": false,
     "start_time": "2020-09-24T10:05:03.976071",
     "status": "completed"
    },
    "tags": []
   },
   "source": [
    "### Preparing the Data"
   ]
  },
  {
   "cell_type": "code",
   "execution_count": 3,
   "metadata": {
    "execution": {
     "iopub.execute_input": "2020-09-24T10:05:04.058044Z",
     "iopub.status.busy": "2020-09-24T10:05:04.057438Z",
     "iopub.status.idle": "2020-09-24T10:05:04.072272Z",
     "shell.execute_reply": "2020-09-24T10:05:04.071737Z"
    },
    "papermill": {
     "duration": 0.043955,
     "end_time": "2020-09-24T10:05:04.072409",
     "exception": false,
     "start_time": "2020-09-24T10:05:04.028454",
     "status": "completed"
    },
    "tags": []
   },
   "outputs": [],
   "source": [
    "import mnist"
   ]
  },
  {
   "cell_type": "code",
   "execution_count": 4,
   "metadata": {
    "execution": {
     "iopub.execute_input": "2020-09-24T10:05:04.147444Z",
     "iopub.status.busy": "2020-09-24T10:05:04.146847Z",
     "iopub.status.idle": "2020-09-24T10:05:04.941655Z",
     "shell.execute_reply": "2020-09-24T10:05:04.940939Z"
    },
    "papermill": {
     "duration": 0.829696,
     "end_time": "2020-09-24T10:05:04.941841",
     "exception": false,
     "start_time": "2020-09-24T10:05:04.112145",
     "status": "completed"
    },
    "tags": []
   },
   "outputs": [],
   "source": [
    "train_images = mnist.train_images()\n",
    "train_labels = mnist.train_labels()"
   ]
  },
  {
   "cell_type": "code",
   "execution_count": 5,
   "metadata": {
    "execution": {
     "iopub.execute_input": "2020-09-24T10:05:05.001027Z",
     "iopub.status.busy": "2020-09-24T10:05:04.999923Z",
     "iopub.status.idle": "2020-09-24T10:05:05.018819Z",
     "shell.execute_reply": "2020-09-24T10:05:05.018202Z"
    },
    "papermill": {
     "duration": 0.049096,
     "end_time": "2020-09-24T10:05:05.018955",
     "exception": false,
     "start_time": "2020-09-24T10:05:04.969859",
     "status": "completed"
    },
    "tags": []
   },
   "outputs": [
    {
     "data": {
      "text/plain": [
       "((60000, 28, 28), (60000,))"
      ]
     },
     "execution_count": 5,
     "metadata": {},
     "output_type": "execute_result"
    }
   ],
   "source": [
    "train_images.shape, train_labels.shape"
   ]
  },
  {
   "cell_type": "code",
   "execution_count": 6,
   "metadata": {
    "execution": {
     "iopub.execute_input": "2020-09-24T10:05:05.080942Z",
     "iopub.status.busy": "2020-09-24T10:05:05.080327Z",
     "iopub.status.idle": "2020-09-24T10:05:05.332992Z",
     "shell.execute_reply": "2020-09-24T10:05:05.332433Z"
    },
    "papermill": {
     "duration": 0.282673,
     "end_time": "2020-09-24T10:05:05.333141",
     "exception": false,
     "start_time": "2020-09-24T10:05:05.050468",
     "status": "completed"
    },
    "tags": []
   },
   "outputs": [],
   "source": [
    "test_images = mnist.test_images()\n",
    "test_labels = mnist.test_labels()"
   ]
  },
  {
   "cell_type": "code",
   "execution_count": 7,
   "metadata": {
    "execution": {
     "iopub.execute_input": "2020-09-24T10:05:05.408706Z",
     "iopub.status.busy": "2020-09-24T10:05:05.407928Z",
     "iopub.status.idle": "2020-09-24T10:05:05.423122Z",
     "shell.execute_reply": "2020-09-24T10:05:05.422607Z"
    },
    "papermill": {
     "duration": 0.051914,
     "end_time": "2020-09-24T10:05:05.423252",
     "exception": false,
     "start_time": "2020-09-24T10:05:05.371338",
     "status": "completed"
    },
    "tags": []
   },
   "outputs": [
    {
     "data": {
      "text/plain": [
       "((10000, 28, 28), (10000,))"
      ]
     },
     "execution_count": 7,
     "metadata": {},
     "output_type": "execute_result"
    }
   ],
   "source": [
    "test_images.shape, test_labels.shape"
   ]
  },
  {
   "cell_type": "code",
   "execution_count": 8,
   "metadata": {
    "execution": {
     "iopub.execute_input": "2020-09-24T10:05:05.488426Z",
     "iopub.status.busy": "2020-09-24T10:05:05.487812Z",
     "iopub.status.idle": "2020-09-24T10:05:05.635714Z",
     "shell.execute_reply": "2020-09-24T10:05:05.636176Z"
    },
    "papermill": {
     "duration": 0.18375,
     "end_time": "2020-09-24T10:05:05.636341",
     "exception": false,
     "start_time": "2020-09-24T10:05:05.452591",
     "status": "completed"
    },
    "tags": []
   },
   "outputs": [
    {
     "name": "stdout",
     "output_type": "stream",
     "text": [
      "2\n"
     ]
    },
    {
     "data": {
      "text/plain": [
       "<matplotlib.image.AxesImage at 0x7fa6dc1227b8>"
      ]
     },
     "execution_count": 8,
     "metadata": {},
     "output_type": "execute_result"
    },
    {
     "data": {
      "image/png": "[encoded data removed]",
      "text/plain": [
       "<Figure size 432x288 with 1 Axes>"
      ]
     },
     "metadata": {
      "needs_background": "light"
     },
     "output_type": "display_data"
    }
   ],
   "source": [
    "image_index = 7776 # You may select anything up to 60,000\n",
    "print(train_labels[image_index]) \n",
    "plt.imshow(train_images[image_index], cmap='Greys')"
   ]
  },
  {
   "cell_type": "markdown",
   "metadata": {
    "papermill": {
     "duration": 0.028522,
     "end_time": "2020-09-24T10:05:05.692866",
     "exception": false,
     "start_time": "2020-09-24T10:05:05.664344",
     "status": "completed"
    },
    "tags": []
   },
   "source": [
    "## Filter data to get 3 and 8 out"
   ]
  },
  {
   "cell_type": "code",
   "execution_count": 9,
   "metadata": {
    "execution": {
     "iopub.execute_input": "2020-09-24T10:05:05.756569Z",
     "iopub.status.busy": "2020-09-24T10:05:05.755948Z",
     "iopub.status.idle": "2020-09-24T10:05:05.773768Z",
     "shell.execute_reply": "2020-09-24T10:05:05.774299Z"
    },
    "papermill": {
     "duration": 0.053745,
     "end_time": "2020-09-24T10:05:05.774460",
     "exception": false,
     "start_time": "2020-09-24T10:05:05.720715",
     "status": "completed"
    },
    "tags": []
   },
   "outputs": [],
   "source": [
    "train_filter = np.where((train_labels == 3 ) | (train_labels == 8))\n",
    "test_filter = np.where((test_labels == 3) | (test_labels == 8))\n",
    "X_train, y_train = train_images[train_filter], train_labels[train_filter]\n",
    "X_test, y_test = test_images[test_filter], test_labels[test_filter]"
   ]
  },
  {
   "cell_type": "markdown",
   "metadata": {
    "papermill": {
     "duration": 0.02768,
     "end_time": "2020-09-24T10:05:05.830124",
     "exception": false,
     "start_time": "2020-09-24T10:05:05.802444",
     "status": "completed"
    },
    "tags": []
   },
   "source": [
    "We normalize the pixel values in the 0 to 1 range"
   ]
  },
  {
   "cell_type": "code",
   "execution_count": 10,
   "metadata": {
    "execution": {
     "iopub.execute_input": "2020-09-24T10:05:05.901752Z",
     "iopub.status.busy": "2020-09-24T10:05:05.893770Z",
     "iopub.status.idle": "2020-09-24T10:05:05.940145Z",
     "shell.execute_reply": "2020-09-24T10:05:05.939586Z"
    },
    "papermill": {
     "duration": 0.0825,
     "end_time": "2020-09-24T10:05:05.940283",
     "exception": false,
     "start_time": "2020-09-24T10:05:05.857783",
     "status": "completed"
    },
    "tags": []
   },
   "outputs": [],
   "source": [
    "X_train = X_train/255.\n",
    "X_test = X_test/255."
   ]
  },
  {
   "cell_type": "markdown",
   "metadata": {
    "papermill": {
     "duration": 0.027708,
     "end_time": "2020-09-24T10:05:05.996386",
     "exception": false,
     "start_time": "2020-09-24T10:05:05.968678",
     "status": "completed"
    },
    "tags": []
   },
   "source": [
    "Setup the labels as 1 (when the digit is 3) and 0 (when the digit is 8)"
   ]
  },
  {
   "cell_type": "code",
   "execution_count": 11,
   "metadata": {
    "execution": {
     "iopub.execute_input": "2020-09-24T10:05:06.058593Z",
     "iopub.status.busy": "2020-09-24T10:05:06.057533Z",
     "iopub.status.idle": "2020-09-24T10:05:06.070216Z",
     "shell.execute_reply": "2020-09-24T10:05:06.069680Z"
    },
    "papermill": {
     "duration": 0.046278,
     "end_time": "2020-09-24T10:05:06.070351",
     "exception": false,
     "start_time": "2020-09-24T10:05:06.024073",
     "status": "completed"
    },
    "tags": []
   },
   "outputs": [],
   "source": [
    "y_train = 1*(y_train==3)\n",
    "y_test = 1*(y_test==3)"
   ]
  },
  {
   "cell_type": "code",
   "execution_count": 12,
   "metadata": {
    "execution": {
     "iopub.execute_input": "2020-09-24T10:05:06.130335Z",
     "iopub.status.busy": "2020-09-24T10:05:06.129743Z",
     "iopub.status.idle": "2020-09-24T10:05:06.145172Z",
     "shell.execute_reply": "2020-09-24T10:05:06.144631Z"
    },
    "papermill": {
     "duration": 0.047068,
     "end_time": "2020-09-24T10:05:06.145309",
     "exception": false,
     "start_time": "2020-09-24T10:05:06.098241",
     "status": "completed"
    },
    "tags": []
   },
   "outputs": [
    {
     "data": {
      "text/plain": [
       "((11982, 28, 28), (1984, 28, 28))"
      ]
     },
     "execution_count": 12,
     "metadata": {},
     "output_type": "execute_result"
    }
   ],
   "source": [
    "X_train.shape, X_test.shape"
   ]
  },
  {
   "cell_type": "markdown",
   "metadata": {
    "papermill": {
     "duration": 0.028038,
     "end_time": "2020-09-24T10:05:06.201477",
     "exception": false,
     "start_time": "2020-09-24T10:05:06.173439",
     "status": "completed"
    },
    "tags": []
   },
   "source": [
    "### Reshape the input data to create a linear array"
   ]
  },
  {
   "cell_type": "code",
   "execution_count": 13,
   "metadata": {
    "execution": {
     "iopub.execute_input": "2020-09-24T10:05:06.263129Z",
     "iopub.status.busy": "2020-09-24T10:05:06.262539Z",
     "iopub.status.idle": "2020-09-24T10:05:06.278569Z",
     "shell.execute_reply": "2020-09-24T10:05:06.278058Z"
    },
    "papermill": {
     "duration": 0.048992,
     "end_time": "2020-09-24T10:05:06.278701",
     "exception": false,
     "start_time": "2020-09-24T10:05:06.229709",
     "status": "completed"
    },
    "tags": []
   },
   "outputs": [
    {
     "data": {
      "text/plain": [
       "((11982, 784), (1984, 784))"
      ]
     },
     "execution_count": 13,
     "metadata": {},
     "output_type": "execute_result"
    }
   ],
   "source": [
    "X_train = X_train.reshape(X_train.shape[0], -1)\n",
    "X_test = X_test.reshape(X_test.shape[0], -1)\n",
    "X_train.shape, X_test.shape"
   ]
  },
  {
   "cell_type": "markdown",
   "metadata": {
    "papermill": {
     "duration": 0.028333,
     "end_time": "2020-09-24T10:05:06.335422",
     "exception": false,
     "start_time": "2020-09-24T10:05:06.307089",
     "status": "completed"
    },
    "tags": []
   },
   "source": [
    "### Importing appropriate functions from 'Kudzu'"
   ]
  },
  {
   "cell_type": "code",
   "execution_count": 14,
   "metadata": {
    "execution": {
     "iopub.execute_input": "2020-09-24T10:05:06.400814Z",
     "iopub.status.busy": "2020-09-24T10:05:06.400211Z",
     "iopub.status.idle": "2020-09-24T10:05:06.419348Z",
     "shell.execute_reply": "2020-09-24T10:05:06.419905Z"
    },
    "papermill": {
     "duration": 0.056139,
     "end_time": "2020-09-24T10:05:06.420094",
     "exception": false,
     "start_time": "2020-09-24T10:05:06.363955",
     "status": "completed"
    },
    "tags": []
   },
   "outputs": [],
   "source": [
    "from kudzu.layer import Sigmoid\n",
    "from kudzu.layer import Relu\n",
    "from kudzu.layer import Affine, Sigmoid\n",
    "\n",
    "from kudzu.model import Model\n",
    "from kudzu.train import Learner\n",
    "from kudzu.optim import GD\n",
    "from kudzu.data import Data, Dataloader, Sampler\n",
    "\n",
    "from kudzu.callbacks import AccCallback\n",
    "from kudzu.callbacks import ClfCallback\n",
    "\n",
    "from kudzu.loss import MSE"
   ]
  },
  {
   "cell_type": "markdown",
   "metadata": {
    "papermill": {
     "duration": 0.028431,
     "end_time": "2020-09-24T10:05:06.478148",
     "exception": false,
     "start_time": "2020-09-24T10:05:06.449717",
     "status": "completed"
    },
    "tags": []
   },
   "source": [
    "### Let us create a `Config` class, to store important parameters. \n",
    "This class essentially plays the role of a dictionary."
   ]
  },
  {
   "cell_type": "code",
   "execution_count": 15,
   "metadata": {
    "execution": {
     "iopub.execute_input": "2020-09-24T10:05:06.539082Z",
     "iopub.status.busy": "2020-09-24T10:05:06.538490Z",
     "iopub.status.idle": "2020-09-24T10:05:06.557359Z",
     "shell.execute_reply": "2020-09-24T10:05:06.557872Z"
    },
    "papermill": {
     "duration": 0.051404,
     "end_time": "2020-09-24T10:05:06.558029",
     "exception": false,
     "start_time": "2020-09-24T10:05:06.506625",
     "status": "completed"
    },
    "tags": []
   },
   "outputs": [],
   "source": [
    "class Config:\n",
    "    pass\n",
    "config = Config()\n",
    "config.lr = 0.001\n",
    "config.num_epochs = 251\n",
    "config.bs = 50"
   ]
  },
  {
   "cell_type": "markdown",
   "metadata": {
    "papermill": {
     "duration": 0.02857,
     "end_time": "2020-09-24T10:05:06.615012",
     "exception": false,
     "start_time": "2020-09-24T10:05:06.586442",
     "status": "completed"
    },
    "tags": []
   },
   "source": [
    "### Initializing data to the variables"
   ]
  },
  {
   "cell_type": "code",
   "execution_count": 16,
   "metadata": {
    "execution": {
     "iopub.execute_input": "2020-09-24T10:05:06.676448Z",
     "iopub.status.busy": "2020-09-24T10:05:06.675859Z",
     "iopub.status.idle": "2020-09-24T10:05:06.688378Z",
     "shell.execute_reply": "2020-09-24T10:05:06.688884Z"
    },
    "papermill": {
     "duration": 0.045706,
     "end_time": "2020-09-24T10:05:06.689093",
     "exception": false,
     "start_time": "2020-09-24T10:05:06.643387",
     "status": "completed"
    },
    "tags": []
   },
   "outputs": [],
   "source": [
    "data = Data(X_train, y_train.reshape(-1,1))\n",
    "sampler = Sampler(data, config.bs, shuffle=True)\n",
    "\n",
    "dl = Dataloader(data, sampler)\n",
    "\n",
    "opt = GD(config.lr)\n",
    "loss = MSE()"
   ]
  },
  {
   "cell_type": "code",
   "execution_count": 17,
   "metadata": {
    "execution": {
     "iopub.execute_input": "2020-09-24T10:05:06.750613Z",
     "iopub.status.busy": "2020-09-24T10:05:06.750024Z",
     "iopub.status.idle": "2020-09-24T10:05:06.767772Z",
     "shell.execute_reply": "2020-09-24T10:05:06.767244Z"
    },
    "papermill": {
     "duration": 0.050195,
     "end_time": "2020-09-24T10:05:06.767907",
     "exception": false,
     "start_time": "2020-09-24T10:05:06.717712",
     "status": "completed"
    },
    "tags": []
   },
   "outputs": [],
   "source": [
    "training_xdata = X_train\n",
    "testing_xdata = X_test\n",
    "training_ydata = y_train.reshape(-1,1)\n",
    "testing_ydata = y_test.reshape(-1,1)"
   ]
  },
  {
   "cell_type": "markdown",
   "metadata": {
    "papermill": {
     "duration": 0.028551,
     "end_time": "2020-09-24T10:05:06.825046",
     "exception": false,
     "start_time": "2020-09-24T10:05:06.796495",
     "status": "completed"
    },
    "tags": []
   },
   "source": [
    "### Running Models with the Training data\n",
    "Details about the network layers:\n",
    "- A first affine layer has 784 inputs and does 100 affine transforms. These are followed by a Relu\n",
    "- A second affine layer has 100 inputs from the 100 activations of the past layer, and does 100 affine transforms. These are followed by a Relu\n",
    "- A third affine layer has 100 activations and does 2 affine transformations to create an embedding for visualization. There is no non-linearity here.\n",
    "- A final \"logistic regression\" which has an affine transform from 2 inputs to 1 output, which is squeezed through a sigmoid.\n",
    "\n",
    "Help taken from Anshuman's Notebook."
   ]
  },
  {
   "cell_type": "code",
   "execution_count": 18,
   "metadata": {
    "execution": {
     "iopub.execute_input": "2020-09-24T10:05:06.886482Z",
     "iopub.status.busy": "2020-09-24T10:05:06.885883Z",
     "iopub.status.idle": "2020-09-24T10:05:06.903804Z",
     "shell.execute_reply": "2020-09-24T10:05:06.904467Z"
    },
    "papermill": {
     "duration": 0.051277,
     "end_time": "2020-09-24T10:05:06.904666",
     "exception": false,
     "start_time": "2020-09-24T10:05:06.853389",
     "status": "completed"
    },
    "tags": []
   },
   "outputs": [],
   "source": [
    "# layers for the Neural Network\n",
    "layers = [Affine(\"first\", 784, 100), Relu(\"first\"), Affine(\"second\", 100, 100), Relu(\"second\"), Affine(\"third\", 100, 2), Affine(\"final\", 2, 1), Sigmoid(\"final\")]\n",
    "model_nn = Model(layers)\n",
    "\n",
    "# layers for the Logistic Regression\n",
    "layers_lr = [Affine(\"logits\", 784, 1), Sigmoid(\"sigmoid\")]\n",
    "model_lr = Model(layers_lr)"
   ]
  },
  {
   "cell_type": "code",
   "execution_count": 19,
   "metadata": {
    "execution": {
     "iopub.execute_input": "2020-09-24T10:05:06.967752Z",
     "iopub.status.busy": "2020-09-24T10:05:06.967162Z",
     "iopub.status.idle": "2020-09-24T10:05:06.981333Z",
     "shell.execute_reply": "2020-09-24T10:05:06.980811Z"
    },
    "papermill": {
     "duration": 0.046551,
     "end_time": "2020-09-24T10:05:06.981473",
     "exception": false,
     "start_time": "2020-09-24T10:05:06.934922",
     "status": "completed"
    },
    "tags": []
   },
   "outputs": [],
   "source": [
    "# suffix _nn stands for Neural Network.\n",
    "learner_nn = Learner(loss, model_nn, opt, config.num_epochs)\n",
    "acc_nn = ClfCallback(learner_nn, config.bs, training_xdata , testing_xdata, training_ydata, testing_ydata)\n",
    "learner_nn.set_callbacks([acc_nn])"
   ]
  },
  {
   "cell_type": "code",
   "execution_count": 20,
   "metadata": {
    "execution": {
     "iopub.execute_input": "2020-09-24T10:05:07.044414Z",
     "iopub.status.busy": "2020-09-24T10:05:07.043822Z",
     "iopub.status.idle": "2020-09-24T10:06:33.537705Z",
     "shell.execute_reply": "2020-09-24T10:06:33.538264Z"
    },
    "papermill": {
     "duration": 86.528638,
     "end_time": "2020-09-24T10:06:33.538419",
     "exception": false,
     "start_time": "2020-09-24T10:05:07.009781",
     "status": "completed"
    },
    "tags": []
   },
   "outputs": [
    {
     "name": "stdout",
     "output_type": "stream",
     "text": [
      "====== Neural Network ======\n"
     ]
    },
    {
     "name": "stdout",
     "output_type": "stream",
     "text": [
      "Epoch 0, Loss 0.2347\n",
      "Training Accuracy: 0.6375, Testing Accuracy: 0.6442\n",
      "\n"
     ]
    },
    {
     "name": "stdout",
     "output_type": "stream",
     "text": [
      "Epoch 10, Loss 0.104\n",
      "Training Accuracy: 0.9004, Testing Accuracy: 0.9123\n",
      "\n"
     ]
    },
    {
     "name": "stdout",
     "output_type": "stream",
     "text": [
      "Epoch 20, Loss 0.0646\n",
      "Training Accuracy: 0.9308, Testing Accuracy: 0.9395\n",
      "\n"
     ]
    },
    {
     "name": "stdout",
     "output_type": "stream",
     "text": [
      "Epoch 30, Loss 0.0501\n",
      "Training Accuracy: 0.9434, Testing Accuracy: 0.9556\n",
      "\n"
     ]
    },
    {
     "name": "stdout",
     "output_type": "stream",
     "text": [
      "Epoch 40, Loss 0.0428\n",
      "Training Accuracy: 0.9513, Testing Accuracy: 0.9602\n",
      "\n"
     ]
    },
    {
     "name": "stdout",
     "output_type": "stream",
     "text": [
      "Epoch 50, Loss 0.0385\n",
      "Training Accuracy: 0.9558, Testing Accuracy: 0.9622\n",
      "\n"
     ]
    },
    {
     "name": "stdout",
     "output_type": "stream",
     "text": [
      "Epoch 60, Loss 0.0355\n",
      "Training Accuracy: 0.9590, Testing Accuracy: 0.9647\n",
      "\n"
     ]
    },
    {
     "name": "stdout",
     "output_type": "stream",
     "text": [
      "Epoch 70, Loss 0.0333\n",
      "Training Accuracy: 0.9612, Testing Accuracy: 0.9657\n",
      "\n"
     ]
    },
    {
     "name": "stdout",
     "output_type": "stream",
     "text": [
      "Epoch 80, Loss 0.0316\n",
      "Training Accuracy: 0.9637, Testing Accuracy: 0.9667\n",
      "\n"
     ]
    },
    {
     "name": "stdout",
     "output_type": "stream",
     "text": [
      "Epoch 90, Loss 0.0303\n",
      "Training Accuracy: 0.9653, Testing Accuracy: 0.9672\n",
      "\n"
     ]
    },
    {
     "name": "stdout",
     "output_type": "stream",
     "text": [
      "Epoch 100, Loss 0.0291\n",
      "Training Accuracy: 0.9661, Testing Accuracy: 0.9682\n",
      "\n"
     ]
    },
    {
     "name": "stdout",
     "output_type": "stream",
     "text": [
      "Epoch 110, Loss 0.0281\n",
      "Training Accuracy: 0.9670, Testing Accuracy: 0.9682\n",
      "\n"
     ]
    },
    {
     "name": "stdout",
     "output_type": "stream",
     "text": [
      "Epoch 120, Loss 0.0273\n",
      "Training Accuracy: 0.9684, Testing Accuracy: 0.9688\n",
      "\n"
     ]
    },
    {
     "name": "stdout",
     "output_type": "stream",
     "text": [
      "Epoch 130, Loss 0.0266\n",
      "Training Accuracy: 0.9690, Testing Accuracy: 0.9688\n",
      "\n"
     ]
    },
    {
     "name": "stdout",
     "output_type": "stream",
     "text": [
      "Epoch 140, Loss 0.0259\n",
      "Training Accuracy: 0.9699, Testing Accuracy: 0.9688\n",
      "\n"
     ]
    },
    {
     "name": "stdout",
     "output_type": "stream",
     "text": [
      "Epoch 150, Loss 0.0253\n",
      "Training Accuracy: 0.9706, Testing Accuracy: 0.9688\n",
      "\n"
     ]
    },
    {
     "name": "stdout",
     "output_type": "stream",
     "text": [
      "Epoch 160, Loss 0.0247\n",
      "Training Accuracy: 0.9710, Testing Accuracy: 0.9682\n",
      "\n"
     ]
    },
    {
     "name": "stdout",
     "output_type": "stream",
     "text": [
      "Epoch 170, Loss 0.0242\n",
      "Training Accuracy: 0.9717, Testing Accuracy: 0.9688\n",
      "\n"
     ]
    },
    {
     "name": "stdout",
     "output_type": "stream",
     "text": [
      "Epoch 180, Loss 0.0237\n",
      "Training Accuracy: 0.9720, Testing Accuracy: 0.9688\n",
      "\n"
     ]
    },
    {
     "name": "stdout",
     "output_type": "stream",
     "text": [
      "Epoch 190, Loss 0.0233\n",
      "Training Accuracy: 0.9725, Testing Accuracy: 0.9708\n",
      "\n"
     ]
    },
    {
     "name": "stdout",
     "output_type": "stream",
     "text": [
      "Epoch 200, Loss 0.0229\n",
      "Training Accuracy: 0.9733, Testing Accuracy: 0.9713\n",
      "\n"
     ]
    },
    {
     "name": "stdout",
     "output_type": "stream",
     "text": [
      "Epoch 210, Loss 0.0225\n",
      "Training Accuracy: 0.9739, Testing Accuracy: 0.9708\n",
      "\n"
     ]
    },
    {
     "name": "stdout",
     "output_type": "stream",
     "text": [
      "Epoch 220, Loss 0.0221\n",
      "Training Accuracy: 0.9743, Testing Accuracy: 0.9708\n",
      "\n"
     ]
    },
    {
     "name": "stdout",
     "output_type": "stream",
     "text": [
      "Epoch 230, Loss 0.0218\n",
      "Training Accuracy: 0.9750, Testing Accuracy: 0.9708\n",
      "\n"
     ]
    },
    {
     "name": "stdout",
     "output_type": "stream",
     "text": [
      "Epoch 240, Loss 0.0214\n",
      "Training Accuracy: 0.9755, Testing Accuracy: 0.9713\n",
      "\n"
     ]
    },
    {
     "name": "stdout",
     "output_type": "stream",
     "text": [
      "Epoch 250, Loss 0.0211\n",
      "Training Accuracy: 0.9756, Testing Accuracy: 0.9713\n",
      "\n"
     ]
    },
    {
     "data": {
      "text/plain": [
       "0.018061188862383996"
      ]
     },
     "execution_count": 20,
     "metadata": {},
     "output_type": "execute_result"
    }
   ],
   "source": [
    "print(\"====== Neural Network ======\")\n",
    "learner_nn.train_loop(dl)"
   ]
  },
  {
   "cell_type": "markdown",
   "metadata": {
    "papermill": {
     "duration": 0.03638,
     "end_time": "2020-09-24T10:06:33.611889",
     "exception": false,
     "start_time": "2020-09-24T10:06:33.575509",
     "status": "completed"
    },
    "tags": []
   },
   "source": [
    "### Logistic Regression based Implementation."
   ]
  },
  {
   "cell_type": "code",
   "execution_count": 21,
   "metadata": {
    "execution": {
     "iopub.execute_input": "2020-09-24T10:06:33.694105Z",
     "iopub.status.busy": "2020-09-24T10:06:33.693508Z",
     "iopub.status.idle": "2020-09-24T10:06:33.706298Z",
     "shell.execute_reply": "2020-09-24T10:06:33.705814Z"
    },
    "papermill": {
     "duration": 0.058438,
     "end_time": "2020-09-24T10:06:33.706431",
     "exception": false,
     "start_time": "2020-09-24T10:06:33.647993",
     "status": "completed"
    },
    "tags": []
   },
   "outputs": [],
   "source": [
    "learner_lr = Learner(loss, model_lr, opt, config.num_epochs)\n",
    "acc_lr = ClfCallback(learner_lr, config.bs, training_xdata , testing_xdata, training_ydata, testing_ydata)\n",
    "learner_lr.set_callbacks([acc_lr])"
   ]
  },
  {
   "cell_type": "code",
   "execution_count": 22,
   "metadata": {
    "execution": {
     "iopub.execute_input": "2020-09-24T10:06:33.786259Z",
     "iopub.status.busy": "2020-09-24T10:06:33.785648Z",
     "iopub.status.idle": "2020-09-24T10:06:51.025885Z",
     "shell.execute_reply": "2020-09-24T10:06:51.026357Z"
    },
    "papermill": {
     "duration": 17.28338,
     "end_time": "2020-09-24T10:06:51.026516",
     "exception": false,
     "start_time": "2020-09-24T10:06:33.743136",
     "status": "completed"
    },
    "tags": []
   },
   "outputs": [
    {
     "name": "stdout",
     "output_type": "stream",
     "text": [
      "====== Logistic Regression ======\n",
      "Epoch 0, Loss 0.2713\n",
      "Training Accuracy: 0.5727, Testing Accuracy: 0.5716\n",
      "\n"
     ]
    },
    {
     "name": "stdout",
     "output_type": "stream",
     "text": [
      "Epoch 10, Loss 0.1071\n",
      "Training Accuracy: 0.9016, Testing Accuracy: 0.9128\n",
      "\n"
     ]
    },
    {
     "name": "stdout",
     "output_type": "stream",
     "text": [
      "Epoch 20, Loss 0.0817\n",
      "Training Accuracy: 0.9241, Testing Accuracy: 0.9320\n",
      "\n"
     ]
    },
    {
     "name": "stdout",
     "output_type": "stream",
     "text": [
      "Epoch 30, Loss 0.0702\n",
      "Training Accuracy: 0.9328, Testing Accuracy: 0.9430\n",
      "\n"
     ]
    },
    {
     "name": "stdout",
     "output_type": "stream",
     "text": [
      "Epoch 40, Loss 0.0632\n",
      "Training Accuracy: 0.9397, Testing Accuracy: 0.9476\n",
      "\n"
     ]
    },
    {
     "name": "stdout",
     "output_type": "stream",
     "text": [
      "Epoch 50, Loss 0.0585\n",
      "Training Accuracy: 0.9437, Testing Accuracy: 0.9541\n",
      "\n"
     ]
    },
    {
     "name": "stdout",
     "output_type": "stream",
     "text": [
      "Epoch 60, Loss 0.055\n",
      "Training Accuracy: 0.9461, Testing Accuracy: 0.9551\n",
      "\n"
     ]
    },
    {
     "name": "stdout",
     "output_type": "stream",
     "text": [
      "Epoch 70, Loss 0.0524\n",
      "Training Accuracy: 0.9479, Testing Accuracy: 0.9567\n",
      "\n"
     ]
    },
    {
     "name": "stdout",
     "output_type": "stream",
     "text": [
      "Epoch 80, Loss 0.0502\n",
      "Training Accuracy: 0.9492, Testing Accuracy: 0.9597\n",
      "\n"
     ]
    },
    {
     "name": "stdout",
     "output_type": "stream",
     "text": [
      "Epoch 90, Loss 0.0484\n",
      "Training Accuracy: 0.9508, Testing Accuracy: 0.9617\n",
      "\n"
     ]
    },
    {
     "name": "stdout",
     "output_type": "stream",
     "text": [
      "Epoch 100, Loss 0.0469\n",
      "Training Accuracy: 0.9523, Testing Accuracy: 0.9627\n",
      "\n"
     ]
    },
    {
     "name": "stdout",
     "output_type": "stream",
     "text": [
      "Epoch 110, Loss 0.0456\n",
      "Training Accuracy: 0.9531, Testing Accuracy: 0.9632\n",
      "\n"
     ]
    },
    {
     "name": "stdout",
     "output_type": "stream",
     "text": [
      "Epoch 120, Loss 0.0445\n",
      "Training Accuracy: 0.9538, Testing Accuracy: 0.9642\n",
      "\n"
     ]
    },
    {
     "name": "stdout",
     "output_type": "stream",
     "text": [
      "Epoch 130, Loss 0.0436\n",
      "Training Accuracy: 0.9550, Testing Accuracy: 0.9642\n",
      "\n"
     ]
    },
    {
     "name": "stdout",
     "output_type": "stream",
     "text": [
      "Epoch 140, Loss 0.0427\n",
      "Training Accuracy: 0.9557, Testing Accuracy: 0.9647\n",
      "\n"
     ]
    },
    {
     "name": "stdout",
     "output_type": "stream",
     "text": [
      "Epoch 150, Loss 0.0419\n",
      "Training Accuracy: 0.9561, Testing Accuracy: 0.9652\n",
      "\n"
     ]
    },
    {
     "name": "stdout",
     "output_type": "stream",
     "text": [
      "Epoch 160, Loss 0.0412\n",
      "Training Accuracy: 0.9564, Testing Accuracy: 0.9652\n",
      "\n"
     ]
    },
    {
     "name": "stdout",
     "output_type": "stream",
     "text": [
      "Epoch 170, Loss 0.0405\n",
      "Training Accuracy: 0.9568, Testing Accuracy: 0.9657\n",
      "\n"
     ]
    },
    {
     "name": "stdout",
     "output_type": "stream",
     "text": [
      "Epoch 180, Loss 0.04\n",
      "Training Accuracy: 0.9576, Testing Accuracy: 0.9662\n",
      "\n"
     ]
    },
    {
     "name": "stdout",
     "output_type": "stream",
     "text": [
      "Epoch 190, Loss 0.0394\n",
      "Training Accuracy: 0.9582, Testing Accuracy: 0.9662\n",
      "\n"
     ]
    },
    {
     "name": "stdout",
     "output_type": "stream",
     "text": [
      "Epoch 200, Loss 0.0389\n",
      "Training Accuracy: 0.9589, Testing Accuracy: 0.9672\n",
      "\n"
     ]
    },
    {
     "name": "stdout",
     "output_type": "stream",
     "text": [
      "Epoch 210, Loss 0.0385\n",
      "Training Accuracy: 0.9598, Testing Accuracy: 0.9672\n",
      "\n"
     ]
    },
    {
     "name": "stdout",
     "output_type": "stream",
     "text": [
      "Epoch 220, Loss 0.038\n",
      "Training Accuracy: 0.9601, Testing Accuracy: 0.9677\n",
      "\n"
     ]
    },
    {
     "name": "stdout",
     "output_type": "stream",
     "text": [
      "Epoch 230, Loss 0.0376\n",
      "Training Accuracy: 0.9606, Testing Accuracy: 0.9677\n",
      "\n"
     ]
    },
    {
     "name": "stdout",
     "output_type": "stream",
     "text": [
      "Epoch 240, Loss 0.0372\n",
      "Training Accuracy: 0.9605, Testing Accuracy: 0.9677\n",
      "\n"
     ]
    },
    {
     "name": "stdout",
     "output_type": "stream",
     "text": [
      "Epoch 250, Loss 0.0369\n",
      "Training Accuracy: 0.9611, Testing Accuracy: 0.9682\n",
      "\n"
     ]
    },
    {
     "data": {
      "text/plain": [
       "0.06401223606928577"
      ]
     },
     "execution_count": 22,
     "metadata": {},
     "output_type": "execute_result"
    }
   ],
   "source": [
    "print(\"====== Logistic Regression ======\")\n",
    "learner_lr.train_loop(dl)"
   ]
  },
  {
   "cell_type": "markdown",
   "metadata": {
    "papermill": {
     "duration": 0.04356,
     "end_time": "2020-09-24T10:06:51.114845",
     "exception": false,
     "start_time": "2020-09-24T10:06:51.071285",
     "status": "completed"
    },
    "tags": []
   },
   "source": [
    "### Comparing results of NN and LR"
   ]
  },
  {
   "cell_type": "code",
   "execution_count": 23,
   "metadata": {
    "execution": {
     "iopub.execute_input": "2020-09-24T10:06:51.216457Z",
     "iopub.status.busy": "2020-09-24T10:06:51.215316Z",
     "iopub.status.idle": "2020-09-24T10:06:51.453941Z",
     "shell.execute_reply": "2020-09-24T10:06:51.454433Z"
    },
    "papermill": {
     "duration": 0.295795,
     "end_time": "2020-09-24T10:06:51.454593",
     "exception": false,
     "start_time": "2020-09-24T10:06:51.158798",
     "status": "completed"
    },
    "tags": []
   },
   "outputs": [
    {
     "data": {
      "text/plain": [
       "<matplotlib.legend.Legend at 0x7fa6d54d9208>"
      ]
     },
     "execution_count": 23,
     "metadata": {},
     "output_type": "execute_result"
    },
    {
     "data": {
      "image/png": "[encoded data removed]",
      "text/plain": [
       "<Figure size 1080x720 with 1 Axes>"
      ]
     },
     "metadata": {
      "needs_background": "light"
     },
     "output_type": "display_data"
    }
   ],
   "source": [
    "plt.figure(figsize=(15,10))\n",
    "\n",
    "# Neural Network plots\n",
    "plt.plot(acc_nn.accuracies, 'r-', label = \"Training Accuracies - NN\")\n",
    "plt.plot(acc_nn.test_accuracies, 'g-', label = \"Testing Accuracies - NN\")\n",
    "\n",
    "# Logistic Regression plots\n",
    "plt.plot(acc_lr.accuracies, 'k-', label = \"Training Accuracies - LR\")\n",
    "plt.plot(acc_lr.test_accuracies, 'b-', label = \"Testing Accuracies - LR\")\n",
    "\n",
    "plt.ylim(0.8, 1)\n",
    "\n",
    "plt.legend()\n",
    "\n"
   ]
  },
  {
   "cell_type": "markdown",
   "metadata": {
    "papermill": {
     "duration": 0.04562,
     "end_time": "2020-09-24T10:06:51.546675",
     "exception": false,
     "start_time": "2020-09-24T10:06:51.501055",
     "status": "completed"
    },
    "tags": []
   },
   "source": [
    "### From the plot, we can observe the following:\n",
    "- Neural Network achieves higher accuracy than the Logistic Regression model.\n",
    "- This apparently, is because of overfitting, i.e. NN captures more noise than data.\n",
    "- Testing accuracy of NN drops below the Training accuracy at higher epochs. This explains the over-fitting on training data.\n",
    "- Logistic Regression gives a reliable accuracy, without the above mentioned problem.\n"
   ]
  },
  {
   "cell_type": "markdown",
   "metadata": {
    "papermill": {
     "duration": 0.045298,
     "end_time": "2020-09-24T10:06:51.637302",
     "exception": false,
     "start_time": "2020-09-24T10:06:51.592004",
     "status": "completed"
    },
    "tags": []
   },
   "source": [
    "### Moving till the last but one layer (excluding it).\n",
    "#### Plotting the outputs of this layer of the NN."
   ]
  },
  {
   "cell_type": "code",
   "execution_count": 24,
   "metadata": {
    "execution": {
     "iopub.execute_input": "2020-09-24T10:06:51.736575Z",
     "iopub.status.busy": "2020-09-24T10:06:51.735993Z",
     "iopub.status.idle": "2020-09-24T10:06:51.751466Z",
     "shell.execute_reply": "2020-09-24T10:06:51.750667Z"
    },
    "papermill": {
     "duration": 0.065734,
     "end_time": "2020-09-24T10:06:51.751600",
     "exception": false,
     "start_time": "2020-09-24T10:06:51.685866",
     "status": "completed"
    },
    "tags": []
   },
   "outputs": [],
   "source": [
    "model_new = Model(layers[:-2])"
   ]
  },
  {
   "cell_type": "code",
   "execution_count": 25,
   "metadata": {
    "execution": {
     "iopub.execute_input": "2020-09-24T10:06:51.847434Z",
     "iopub.status.busy": "2020-09-24T10:06:51.846812Z",
     "iopub.status.idle": "2020-09-24T10:06:51.869827Z",
     "shell.execute_reply": "2020-09-24T10:06:51.870647Z"
    },
    "papermill": {
     "duration": 0.073203,
     "end_time": "2020-09-24T10:06:51.870814",
     "exception": false,
     "start_time": "2020-09-24T10:06:51.797611",
     "status": "completed"
    },
    "tags": []
   },
   "outputs": [],
   "source": [
    "plot_testing = model_new(testing_xdata)"
   ]
  },
  {
   "cell_type": "code",
   "execution_count": 26,
   "metadata": {
    "execution": {
     "iopub.execute_input": "2020-09-24T10:06:51.995741Z",
     "iopub.status.busy": "2020-09-24T10:06:51.995143Z",
     "iopub.status.idle": "2020-09-24T10:06:52.221856Z",
     "shell.execute_reply": "2020-09-24T10:06:52.222337Z"
    },
    "papermill": {
     "duration": 0.295126,
     "end_time": "2020-09-24T10:06:52.222491",
     "exception": false,
     "start_time": "2020-09-24T10:06:51.927365",
     "status": "completed"
    },
    "tags": []
   },
   "outputs": [
    {
     "data": {
      "text/plain": [
       "Text(0.5, 1.0, 'Outputs')"
      ]
     },
     "execution_count": 26,
     "metadata": {},
     "output_type": "execute_result"
    },
    {
     "data": {
      "image/png": "[encoded data removed]",
      "text/plain": [
       "<Figure size 576x504 with 1 Axes>"
      ]
     },
     "metadata": {
      "needs_background": "light"
     },
     "output_type": "display_data"
    }
   ],
   "source": [
    "plt.figure(figsize=(8,7))\n",
    "plt.scatter(plot_testing[:,0], plot_testing[:,1], alpha = 0.1, c = y_test.ravel());\n",
    "plt.title('Outputs')"
   ]
  },
  {
   "cell_type": "markdown",
   "metadata": {
    "papermill": {
     "duration": 0.048967,
     "end_time": "2020-09-24T10:06:52.320693",
     "exception": false,
     "start_time": "2020-09-24T10:06:52.271726",
     "status": "completed"
    },
    "tags": []
   },
   "source": [
    "### Plotting probability contours"
   ]
  },
  {
   "cell_type": "code",
   "execution_count": 27,
   "metadata": {
    "execution": {
     "iopub.execute_input": "2020-09-24T10:06:52.423335Z",
     "iopub.status.busy": "2020-09-24T10:06:52.422730Z",
     "iopub.status.idle": "2020-09-24T10:06:52.466431Z",
     "shell.execute_reply": "2020-09-24T10:06:52.471040Z"
    },
    "papermill": {
     "duration": 0.101645,
     "end_time": "2020-09-24T10:06:52.471281",
     "exception": false,
     "start_time": "2020-09-24T10:06:52.369636",
     "status": "completed"
    },
    "tags": []
   },
   "outputs": [],
   "source": [
    "model_prob = Model(layers[-2:]) "
   ]
  },
  {
   "cell_type": "code",
   "execution_count": 28,
   "metadata": {
    "execution": {
     "iopub.execute_input": "2020-09-24T10:06:52.575125Z",
     "iopub.status.busy": "2020-09-24T10:06:52.574408Z",
     "iopub.status.idle": "2020-09-24T10:06:52.590198Z",
     "shell.execute_reply": "2020-09-24T10:06:52.591019Z"
    },
    "papermill": {
     "duration": 0.070684,
     "end_time": "2020-09-24T10:06:52.591193",
     "exception": false,
     "start_time": "2020-09-24T10:06:52.520509",
     "status": "completed"
    },
    "tags": []
   },
   "outputs": [],
   "source": [
    "# Adjust the x and y ranges according to the above generated plot.\n",
    "x_range = np.linspace(-4, 1, 100) \n",
    "y_range = np.linspace(-6, 6, 100) \n",
    "x_grid, y_grid = np.meshgrid(x_range, y_range) # x_grid and y_grig are of size 100 X 100\n",
    "\n",
    "# converting x_grid and y_grid to continuous arrays\n",
    "x_grid_flat = np.ravel(x_grid)\n",
    "y_grid_flat = np.ravel(y_grid)\n",
    "\n",
    "# The last layer of the current model takes two columns as input. Hence transpose of np.vstack() is required.\n",
    "X = np.vstack((x_grid_flat, y_grid_flat)).T\n",
    "\n",
    "# x_grid and y_grid are of size 100 x 100\n",
    "probability_contour = model_prob(X).reshape(100,100) "
   ]
  },
  {
   "cell_type": "code",
   "execution_count": 29,
   "metadata": {
    "execution": {
     "iopub.execute_input": "2020-09-24T10:06:52.704625Z",
     "iopub.status.busy": "2020-09-24T10:06:52.704020Z",
     "iopub.status.idle": "2020-09-24T10:06:52.951313Z",
     "shell.execute_reply": "2020-09-24T10:06:52.951761Z"
    },
    "papermill": {
     "duration": 0.309876,
     "end_time": "2020-09-24T10:06:52.951921",
     "exception": false,
     "start_time": "2020-09-24T10:06:52.642045",
     "status": "completed"
    },
    "tags": []
   },
   "outputs": [
    {
     "data": {
      "image/png": "[encoded data removed]",
      "text/plain": [
       "<Figure size 720x648 with 1 Axes>"
      ]
     },
     "metadata": {
      "needs_background": "light"
     },
     "output_type": "display_data"
    }
   ],
   "source": [
    "plt.figure(figsize=(10,9))\n",
    "plt.scatter(plot_testing[:,0], plot_testing[:,1], alpha = 0.1, c = y_test.ravel())\n",
    "contours = plt.contour(x_grid,y_grid,probability_contour)\n",
    "plt.title('Probability Contours')\n",
    "plt.clabel(contours, inline = True );"
   ]
  }
 ],
 "metadata": {
  "kernelspec": {
   "display_name": "Python 3",
   "language": "python",
   "name": "python3"
  },
  "language_info": {
   "codemirror_mode": {
    "name": "ipython",
    "version": 3
   },
   "file_extension": ".py",
   "mimetype": "text/x-python",
   "name": "python",
   "nbconvert_exporter": "python",
   "pygments_lexer": "ipython3",
   "version": "3.6.12"
  },
  "papermill": {
   "duration": 113.066198,
   "end_time": "2020-09-24T10:06:53.413807",
   "environment_variables": {},
   "exception": null,
   "input_path": "2020-08-11-NeuralNetwork.ipynb",
   "output_path": "2020-08-11-NeuralNetwork.ipynb",
   "parameters": {},
   "start_time": "2020-09-24T10:05:00.347609",
   "version": "2.1.2"
  }
 },
 "nbformat": 4,
 "nbformat_minor": 4
}