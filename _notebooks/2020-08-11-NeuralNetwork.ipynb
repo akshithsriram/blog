{
 "cells": [
  {
   "cell_type": "markdown",
   "metadata": {
    "papermill": {
     "duration": 0.025949,
     "end_time": "2020-12-13T00:09:41.647396",
     "exception": false,
     "start_time": "2020-12-13T00:09:41.621447",
     "status": "completed"
    },
    "tags": []
   },
   "source": [
    "# \"A Basic Neural Network: Differentiate Hand-Written Digits\"\n",
    "\n",
    "- badges: true\n",
    "- author: Akshith Sriram"
   ]
  },
  {
   "cell_type": "markdown",
   "metadata": {
    "papermill": {
     "duration": 0.021965,
     "end_time": "2020-12-13T00:09:41.692020",
     "exception": false,
     "start_time": "2020-12-13T00:09:41.670055",
     "status": "completed"
    },
    "tags": []
   },
   "source": [
    "### Key Objectives:\n",
    "- Building a neural network that differentiates two hand-written digits 3 and 8.\n",
    "- Comparing the results of this Neural Network (NN) to that of a Logistic Regression (LR) model.\n",
    "\n",
    "### Requirements:\n",
    "- 'Kudzu' : A neural network library that was designed during our course by [Univ.AI](www.univ.ai). \n",
    "- MNIST Database\n",
    "\n",
    "If MNIST is not installed, use the command `!pip install mnist` given below.\n",
    "It can be run both from the command line and Jupyter Notebook."
   ]
  },
  {
   "cell_type": "code",
   "execution_count": 1,
   "metadata": {
    "execution": {
     "iopub.execute_input": "2020-12-13T00:09:41.745589Z",
     "iopub.status.busy": "2020-12-13T00:09:41.745057Z",
     "iopub.status.idle": "2020-12-13T00:09:43.087801Z",
     "shell.execute_reply": "2020-12-13T00:09:43.087311Z"
    },
    "papermill": {
     "duration": 1.373827,
     "end_time": "2020-12-13T00:09:43.087949",
     "exception": false,
     "start_time": "2020-12-13T00:09:41.714122",
     "status": "completed"
    },
    "tags": []
   },
   "outputs": [
    {
     "name": "stdout",
     "output_type": "stream",
     "text": [
      "Collecting mnist\r\n"
     ]
    },
    {
     "name": "stdout",
     "output_type": "stream",
     "text": [
      "  Downloading mnist-0.2.2-py2.py3-none-any.whl (3.5 kB)\r\n"
     ]
    },
    {
     "name": "stdout",
     "output_type": "stream",
     "text": [
      "Requirement already satisfied: numpy in /opt/hostedtoolcache/Python/3.6.12/x64/lib/python3.6/site-packages (from mnist) (1.19.4)\r\n"
     ]
    },
    {
     "name": "stdout",
     "output_type": "stream",
     "text": [
      "Installing collected packages: mnist\r\n"
     ]
    },
    {
     "name": "stdout",
     "output_type": "stream",
     "text": [
      "Successfully installed mnist-0.2.2\r\n",
      "\u001b[33mWARNING: You are using pip version 20.2.4; however, version 20.3.1 is available.\r\n",
      "You should consider upgrading via the '/opt/hostedtoolcache/Python/3.6.12/x64/bin/python -m pip install --upgrade pip' command.\u001b[0m\r\n"
     ]
    }
   ],
   "source": [
    "!pip install mnist "
   ]
  },
  {
   "cell_type": "markdown",
   "metadata": {
    "papermill": {
     "duration": 0.024364,
     "end_time": "2020-12-13T00:09:43.136130",
     "exception": false,
     "start_time": "2020-12-13T00:09:43.111766",
     "status": "completed"
    },
    "tags": []
   },
   "source": [
    "#### Importing necessary libraries"
   ]
  },
  {
   "cell_type": "code",
   "execution_count": 2,
   "metadata": {
    "execution": {
     "iopub.execute_input": "2020-12-13T00:09:43.193101Z",
     "iopub.status.busy": "2020-12-13T00:09:43.192584Z",
     "iopub.status.idle": "2020-12-13T00:09:43.700114Z",
     "shell.execute_reply": "2020-12-13T00:09:43.699583Z"
    },
    "papermill": {
     "duration": 0.539604,
     "end_time": "2020-12-13T00:09:43.700262",
     "exception": false,
     "start_time": "2020-12-13T00:09:43.160658",
     "status": "completed"
    },
    "tags": []
   },
   "outputs": [],
   "source": [
    "%load_ext autoreload\n",
    "%autoreload 2\n",
    "\n",
    "%matplotlib inline\n",
    "import matplotlib.pyplot as plt\n",
    "\n",
    "import numpy as np\n",
    "import pandas as pd"
   ]
  },
  {
   "cell_type": "markdown",
   "metadata": {
    "papermill": {
     "duration": 0.023673,
     "end_time": "2020-12-13T00:09:43.748451",
     "exception": false,
     "start_time": "2020-12-13T00:09:43.724778",
     "status": "completed"
    },
    "tags": []
   },
   "source": [
    "### Preparing the Data"
   ]
  },
  {
   "cell_type": "code",
   "execution_count": 3,
   "metadata": {
    "execution": {
     "iopub.execute_input": "2020-12-13T00:09:43.803189Z",
     "iopub.status.busy": "2020-12-13T00:09:43.802683Z",
     "iopub.status.idle": "2020-12-13T00:09:43.811188Z",
     "shell.execute_reply": "2020-12-13T00:09:43.810776Z"
    },
    "papermill": {
     "duration": 0.039618,
     "end_time": "2020-12-13T00:09:43.811299",
     "exception": false,
     "start_time": "2020-12-13T00:09:43.771681",
     "status": "completed"
    },
    "tags": []
   },
   "outputs": [],
   "source": [
    "import mnist"
   ]
  },
  {
   "cell_type": "code",
   "execution_count": 4,
   "metadata": {
    "execution": {
     "iopub.execute_input": "2020-12-13T00:09:43.864090Z",
     "iopub.status.busy": "2020-12-13T00:09:43.863593Z",
     "iopub.status.idle": "2020-12-13T00:09:44.572836Z",
     "shell.execute_reply": "2020-12-13T00:09:44.571781Z"
    },
    "papermill": {
     "duration": 0.738247,
     "end_time": "2020-12-13T00:09:44.572971",
     "exception": false,
     "start_time": "2020-12-13T00:09:43.834724",
     "status": "completed"
    },
    "tags": []
   },
   "outputs": [],
   "source": [
    "train_images = mnist.train_images()\n",
    "train_labels = mnist.train_labels()"
   ]
  },
  {
   "cell_type": "code",
   "execution_count": 5,
   "metadata": {
    "execution": {
     "iopub.execute_input": "2020-12-13T00:09:45.282449Z",
     "iopub.status.busy": "2020-12-13T00:09:45.281879Z",
     "iopub.status.idle": "2020-12-13T00:09:45.294585Z",
     "shell.execute_reply": "2020-12-13T00:09:45.294968Z"
    },
    "papermill": {
     "duration": 0.698384,
     "end_time": "2020-12-13T00:09:45.295111",
     "exception": false,
     "start_time": "2020-12-13T00:09:44.596727",
     "status": "completed"
    },
    "tags": []
   },
   "outputs": [
    {
     "data": {
      "text/plain": [
       "((60000, 28, 28), (60000,))"
      ]
     },
     "execution_count": 5,
     "metadata": {},
     "output_type": "execute_result"
    }
   ],
   "source": [
    "train_images.shape, train_labels.shape"
   ]
  },
  {
   "cell_type": "code",
   "execution_count": 6,
   "metadata": {
    "execution": {
     "iopub.execute_input": "2020-12-13T00:09:45.564358Z",
     "iopub.status.busy": "2020-12-13T00:09:45.557526Z",
     "iopub.status.idle": "2020-12-13T00:09:45.799820Z",
     "shell.execute_reply": "2020-12-13T00:09:45.800295Z"
    },
    "papermill": {
     "duration": 0.272393,
     "end_time": "2020-12-13T00:09:45.800470",
     "exception": false,
     "start_time": "2020-12-13T00:09:45.528077",
     "status": "completed"
    },
    "tags": []
   },
   "outputs": [],
   "source": [
    "test_images = mnist.test_images()\n",
    "test_labels = mnist.test_labels()"
   ]
  },
  {
   "cell_type": "code",
   "execution_count": 7,
   "metadata": {
    "execution": {
     "iopub.execute_input": "2020-12-13T00:09:45.854886Z",
     "iopub.status.busy": "2020-12-13T00:09:45.854360Z",
     "iopub.status.idle": "2020-12-13T00:09:45.866293Z",
     "shell.execute_reply": "2020-12-13T00:09:45.865816Z"
    },
    "papermill": {
     "duration": 0.041414,
     "end_time": "2020-12-13T00:09:45.866420",
     "exception": false,
     "start_time": "2020-12-13T00:09:45.825006",
     "status": "completed"
    },
    "tags": []
   },
   "outputs": [
    {
     "data": {
      "text/plain": [
       "((10000, 28, 28), (10000,))"
      ]
     },
     "execution_count": 7,
     "metadata": {},
     "output_type": "execute_result"
    }
   ],
   "source": [
    "test_images.shape, test_labels.shape"
   ]
  },
  {
   "cell_type": "code",
   "execution_count": 8,
   "metadata": {
    "execution": {
     "iopub.execute_input": "2020-12-13T00:09:45.919284Z",
     "iopub.status.busy": "2020-12-13T00:09:45.918778Z",
     "iopub.status.idle": "2020-12-13T00:09:46.047259Z",
     "shell.execute_reply": "2020-12-13T00:09:46.048398Z"
    },
    "papermill": {
     "duration": 0.157948,
     "end_time": "2020-12-13T00:09:46.048570",
     "exception": false,
     "start_time": "2020-12-13T00:09:45.890622",
     "status": "completed"
    },
    "tags": []
   },
   "outputs": [
    {
     "name": "stdout",
     "output_type": "stream",
     "text": [
      "2\n"
     ]
    },
    {
     "data": {
      "text/plain": [
       "<matplotlib.image.AxesImage at 0x7f9b78fc6278>"
      ]
     },
     "execution_count": 8,
     "metadata": {},
     "output_type": "execute_result"
    },
    {
     "data": {
      "image/png": "[encoded data removed]",
      "text/plain": [
       "<Figure size 432x288 with 1 Axes>"
      ]
     },
     "metadata": {
      "needs_background": "light"
     },
     "output_type": "display_data"
    }
   ],
   "source": [
    "image_index = 7776 # You may select anything up to 60,000\n",
    "print(train_labels[image_index]) \n",
    "plt.imshow(train_images[image_index], cmap='Greys')"
   ]
  },
  {
   "cell_type": "markdown",
   "metadata": {
    "papermill": {
     "duration": 0.025205,
     "end_time": "2020-12-13T00:09:46.098762",
     "exception": false,
     "start_time": "2020-12-13T00:09:46.073557",
     "status": "completed"
    },
    "tags": []
   },
   "source": [
    "## Filter data to get 3 and 8 out"
   ]
  },
  {
   "cell_type": "code",
   "execution_count": 9,
   "metadata": {
    "execution": {
     "iopub.execute_input": "2020-12-13T00:09:46.174026Z",
     "iopub.status.busy": "2020-12-13T00:09:46.166913Z",
     "iopub.status.idle": "2020-12-13T00:09:46.175939Z",
     "shell.execute_reply": "2020-12-13T00:09:46.176324Z"
    },
    "papermill": {
     "duration": 0.052808,
     "end_time": "2020-12-13T00:09:46.176464",
     "exception": false,
     "start_time": "2020-12-13T00:09:46.123656",
     "status": "completed"
    },
    "tags": []
   },
   "outputs": [],
   "source": [
    "train_filter = np.where((train_labels == 3 ) | (train_labels == 8))\n",
    "test_filter = np.where((test_labels == 3) | (test_labels == 8))\n",
    "X_train, y_train = train_images[train_filter], train_labels[train_filter]\n",
    "X_test, y_test = test_images[test_filter], test_labels[test_filter]"
   ]
  },
  {
   "cell_type": "markdown",
   "metadata": {
    "papermill": {
     "duration": 0.024954,
     "end_time": "2020-12-13T00:09:46.226410",
     "exception": false,
     "start_time": "2020-12-13T00:09:46.201456",
     "status": "completed"
    },
    "tags": []
   },
   "source": [
    "We normalize the pixel values in the 0 to 1 range"
   ]
  },
  {
   "cell_type": "code",
   "execution_count": 10,
   "metadata": {
    "execution": {
     "iopub.execute_input": "2020-12-13T00:09:46.279267Z",
     "iopub.status.busy": "2020-12-13T00:09:46.278764Z",
     "iopub.status.idle": "2020-12-13T00:09:46.327093Z",
     "shell.execute_reply": "2020-12-13T00:09:46.326574Z"
    },
    "papermill": {
     "duration": 0.076144,
     "end_time": "2020-12-13T00:09:46.327231",
     "exception": false,
     "start_time": "2020-12-13T00:09:46.251087",
     "status": "completed"
    },
    "tags": []
   },
   "outputs": [],
   "source": [
    "X_train = X_train/255.\n",
    "X_test = X_test/255."
   ]
  },
  {
   "cell_type": "markdown",
   "metadata": {
    "papermill": {
     "duration": 0.024828,
     "end_time": "2020-12-13T00:09:46.377606",
     "exception": false,
     "start_time": "2020-12-13T00:09:46.352778",
     "status": "completed"
    },
    "tags": []
   },
   "source": [
    "Setup the labels as 1 (when the digit is 3) and 0 (when the digit is 8)"
   ]
  },
  {
   "cell_type": "code",
   "execution_count": 11,
   "metadata": {
    "execution": {
     "iopub.execute_input": "2020-12-13T00:09:46.434809Z",
     "iopub.status.busy": "2020-12-13T00:09:46.434289Z",
     "iopub.status.idle": "2020-12-13T00:09:46.443436Z",
     "shell.execute_reply": "2020-12-13T00:09:46.443840Z"
    },
    "papermill": {
     "duration": 0.041617,
     "end_time": "2020-12-13T00:09:46.443974",
     "exception": false,
     "start_time": "2020-12-13T00:09:46.402357",
     "status": "completed"
    },
    "tags": []
   },
   "outputs": [],
   "source": [
    "y_train = 1*(y_train==3)\n",
    "y_test = 1*(y_test==3)"
   ]
  },
  {
   "cell_type": "code",
   "execution_count": 12,
   "metadata": {
    "execution": {
     "iopub.execute_input": "2020-12-13T00:09:46.504574Z",
     "iopub.status.busy": "2020-12-13T00:09:46.504066Z",
     "iopub.status.idle": "2020-12-13T00:09:46.512599Z",
     "shell.execute_reply": "2020-12-13T00:09:46.512190Z"
    },
    "papermill": {
     "duration": 0.043705,
     "end_time": "2020-12-13T00:09:46.512712",
     "exception": false,
     "start_time": "2020-12-13T00:09:46.469007",
     "status": "completed"
    },
    "tags": []
   },
   "outputs": [
    {
     "data": {
      "text/plain": [
       "((11982, 28, 28), (1984, 28, 28))"
      ]
     },
     "execution_count": 12,
     "metadata": {},
     "output_type": "execute_result"
    }
   ],
   "source": [
    "X_train.shape, X_test.shape"
   ]
  },
  {
   "cell_type": "markdown",
   "metadata": {
    "papermill": {
     "duration": 0.025397,
     "end_time": "2020-12-13T00:09:46.563339",
     "exception": false,
     "start_time": "2020-12-13T00:09:46.537942",
     "status": "completed"
    },
    "tags": []
   },
   "source": [
    "### Reshape the input data to create a linear array"
   ]
  },
  {
   "cell_type": "code",
   "execution_count": 13,
   "metadata": {
    "execution": {
     "iopub.execute_input": "2020-12-13T00:09:46.626616Z",
     "iopub.status.busy": "2020-12-13T00:09:46.626075Z",
     "iopub.status.idle": "2020-12-13T00:09:46.634707Z",
     "shell.execute_reply": "2020-12-13T00:09:46.634259Z"
    },
    "papermill": {
     "duration": 0.045948,
     "end_time": "2020-12-13T00:09:46.634827",
     "exception": false,
     "start_time": "2020-12-13T00:09:46.588879",
     "status": "completed"
    },
    "tags": []
   },
   "outputs": [
    {
     "data": {
      "text/plain": [
       "((11982, 784), (1984, 784))"
      ]
     },
     "execution_count": 13,
     "metadata": {},
     "output_type": "execute_result"
    }
   ],
   "source": [
    "X_train = X_train.reshape(X_train.shape[0], -1)\n",
    "X_test = X_test.reshape(X_test.shape[0], -1)\n",
    "X_train.shape, X_test.shape"
   ]
  },
  {
   "cell_type": "markdown",
   "metadata": {
    "papermill": {
     "duration": 0.02545,
     "end_time": "2020-12-13T00:09:46.685822",
     "exception": false,
     "start_time": "2020-12-13T00:09:46.660372",
     "status": "completed"
    },
    "tags": []
   },
   "source": [
    "### Importing appropriate functions from 'Kudzu'"
   ]
  },
  {
   "cell_type": "code",
   "execution_count": 14,
   "metadata": {
    "execution": {
     "iopub.execute_input": "2020-12-13T00:09:46.742676Z",
     "iopub.status.busy": "2020-12-13T00:09:46.742144Z",
     "iopub.status.idle": "2020-12-13T00:09:46.760659Z",
     "shell.execute_reply": "2020-12-13T00:09:46.760167Z"
    },
    "papermill": {
     "duration": 0.049232,
     "end_time": "2020-12-13T00:09:46.760809",
     "exception": false,
     "start_time": "2020-12-13T00:09:46.711577",
     "status": "completed"
    },
    "tags": []
   },
   "outputs": [],
   "source": [
    "from kudzu.layer import Sigmoid\n",
    "from kudzu.layer import Relu\n",
    "from kudzu.layer import Affine, Sigmoid\n",
    "\n",
    "from kudzu.model import Model\n",
    "from kudzu.train import Learner\n",
    "from kudzu.optim import GD\n",
    "from kudzu.data import Data, Dataloader, Sampler\n",
    "\n",
    "from kudzu.callbacks import AccCallback\n",
    "from kudzu.callbacks import ClfCallback\n",
    "\n",
    "from kudzu.loss import MSE"
   ]
  },
  {
   "cell_type": "markdown",
   "metadata": {
    "papermill": {
     "duration": 0.025494,
     "end_time": "2020-12-13T00:09:46.812835",
     "exception": false,
     "start_time": "2020-12-13T00:09:46.787341",
     "status": "completed"
    },
    "tags": []
   },
   "source": [
    "### Let us create a `Config` class, to store important parameters. \n",
    "This class essentially plays the role of a dictionary."
   ]
  },
  {
   "cell_type": "code",
   "execution_count": 15,
   "metadata": {
    "execution": {
     "iopub.execute_input": "2020-12-13T00:09:46.883387Z",
     "iopub.status.busy": "2020-12-13T00:09:46.882833Z",
     "iopub.status.idle": "2020-12-13T00:09:46.885308Z",
     "shell.execute_reply": "2020-12-13T00:09:46.884864Z"
    },
    "papermill": {
     "duration": 0.046833,
     "end_time": "2020-12-13T00:09:46.885430",
     "exception": false,
     "start_time": "2020-12-13T00:09:46.838597",
     "status": "completed"
    },
    "tags": []
   },
   "outputs": [],
   "source": [
    "class Config:\n",
    "    pass\n",
    "config = Config()\n",
    "config.lr = 0.001\n",
    "config.num_epochs = 251\n",
    "config.bs = 50"
   ]
  },
  {
   "cell_type": "markdown",
   "metadata": {
    "papermill": {
     "duration": 0.025599,
     "end_time": "2020-12-13T00:09:46.936548",
     "exception": false,
     "start_time": "2020-12-13T00:09:46.910949",
     "status": "completed"
    },
    "tags": []
   },
   "source": [
    "### Initializing data to the variables"
   ]
  },
  {
   "cell_type": "code",
   "execution_count": 16,
   "metadata": {
    "execution": {
     "iopub.execute_input": "2020-12-13T00:09:46.996321Z",
     "iopub.status.busy": "2020-12-13T00:09:46.995797Z",
     "iopub.status.idle": "2020-12-13T00:09:47.006534Z",
     "shell.execute_reply": "2020-12-13T00:09:47.006929Z"
    },
    "papermill": {
     "duration": 0.044944,
     "end_time": "2020-12-13T00:09:47.007075",
     "exception": false,
     "start_time": "2020-12-13T00:09:46.962131",
     "status": "completed"
    },
    "tags": []
   },
   "outputs": [],
   "source": [
    "data = Data(X_train, y_train.reshape(-1,1))\n",
    "sampler = Sampler(data, config.bs, shuffle=True)\n",
    "\n",
    "dl = Dataloader(data, sampler)\n",
    "\n",
    "opt = GD(config.lr)\n",
    "loss = MSE()"
   ]
  },
  {
   "cell_type": "code",
   "execution_count": 17,
   "metadata": {
    "execution": {
     "iopub.execute_input": "2020-12-13T00:09:47.069246Z",
     "iopub.status.busy": "2020-12-13T00:09:47.068724Z",
     "iopub.status.idle": "2020-12-13T00:09:47.076373Z",
     "shell.execute_reply": "2020-12-13T00:09:47.076779Z"
    },
    "papermill": {
     "duration": 0.044336,
     "end_time": "2020-12-13T00:09:47.076917",
     "exception": false,
     "start_time": "2020-12-13T00:09:47.032581",
     "status": "completed"
    },
    "tags": []
   },
   "outputs": [],
   "source": [
    "training_xdata = X_train\n",
    "testing_xdata = X_test\n",
    "training_ydata = y_train.reshape(-1,1)\n",
    "testing_ydata = y_test.reshape(-1,1)"
   ]
  },
  {
   "cell_type": "markdown",
   "metadata": {
    "papermill": {
     "duration": 0.025555,
     "end_time": "2020-12-13T00:09:47.128173",
     "exception": false,
     "start_time": "2020-12-13T00:09:47.102618",
     "status": "completed"
    },
    "tags": []
   },
   "source": [
    "### Running Models with the Training data\n",
    "Details about the network layers:\n",
    "- A first affine layer has 784 inputs and does 100 affine transforms. These are followed by a Relu\n",
    "- A second affine layer has 100 inputs from the 100 activations of the past layer, and does 100 affine transforms. These are followed by a Relu\n",
    "- A third affine layer has 100 activations and does 2 affine transformations to create an embedding for visualization. There is no non-linearity here.\n",
    "- A final \"logistic regression\" which has an affine transform from 2 inputs to 1 output, which is squeezed through a sigmoid.\n",
    "\n",
    "Help taken from Anshuman's Notebook."
   ]
  },
  {
   "cell_type": "code",
   "execution_count": 18,
   "metadata": {
    "execution": {
     "iopub.execute_input": "2020-12-13T00:09:47.198814Z",
     "iopub.status.busy": "2020-12-13T00:09:47.198237Z",
     "iopub.status.idle": "2020-12-13T00:09:47.205088Z",
     "shell.execute_reply": "2020-12-13T00:09:47.204653Z"
    },
    "papermill": {
     "duration": 0.051551,
     "end_time": "2020-12-13T00:09:47.205213",
     "exception": false,
     "start_time": "2020-12-13T00:09:47.153662",
     "status": "completed"
    },
    "tags": []
   },
   "outputs": [],
   "source": [
    "# layers for the Neural Network\n",
    "layers = [Affine(\"first\", 784, 100), Relu(\"first\"), Affine(\"second\", 100, 100), Relu(\"second\"), Affine(\"third\", 100, 2), Affine(\"final\", 2, 1), Sigmoid(\"final\")]\n",
    "model_nn = Model(layers)\n",
    "\n",
    "# layers for the Logistic Regression\n",
    "layers_lr = [Affine(\"logits\", 784, 1), Sigmoid(\"sigmoid\")]\n",
    "model_lr = Model(layers_lr)"
   ]
  },
  {
   "cell_type": "code",
   "execution_count": 19,
   "metadata": {
    "execution": {
     "iopub.execute_input": "2020-12-13T00:09:47.275512Z",
     "iopub.status.busy": "2020-12-13T00:09:47.274316Z",
     "iopub.status.idle": "2020-12-13T00:09:47.277866Z",
     "shell.execute_reply": "2020-12-13T00:09:47.277430Z"
    },
    "papermill": {
     "duration": 0.04692,
     "end_time": "2020-12-13T00:09:47.278004",
     "exception": false,
     "start_time": "2020-12-13T00:09:47.231084",
     "status": "completed"
    },
    "tags": []
   },
   "outputs": [],
   "source": [
    "# suffix _nn stands for Neural Network.\n",
    "learner_nn = Learner(loss, model_nn, opt, config.num_epochs)\n",
    "acc_nn = ClfCallback(learner_nn, config.bs, training_xdata , testing_xdata, training_ydata, testing_ydata)\n",
    "learner_nn.set_callbacks([acc_nn])"
   ]
  },
  {
   "cell_type": "code",
   "execution_count": 20,
   "metadata": {
    "execution": {
     "iopub.execute_input": "2020-12-13T00:09:47.347175Z",
     "iopub.status.busy": "2020-12-13T00:09:47.334750Z",
     "iopub.status.idle": "2020-12-13T00:11:07.378150Z",
     "shell.execute_reply": "2020-12-13T00:11:07.378858Z"
    },
    "papermill": {
     "duration": 80.075421,
     "end_time": "2020-12-13T00:11:07.379008",
     "exception": false,
     "start_time": "2020-12-13T00:09:47.303587",
     "status": "completed"
    },
    "tags": []
   },
   "outputs": [
    {
     "name": "stdout",
     "output_type": "stream",
     "text": [
      "====== Neural Network ======\n"
     ]
    },
    {
     "name": "stdout",
     "output_type": "stream",
     "text": [
      "Epoch 0, Loss 0.2381\n",
      "Training Accuracy: 0.7009, Testing Accuracy: 0.7092\n",
      "\n"
     ]
    },
    {
     "name": "stdout",
     "output_type": "stream",
     "text": [
      "Epoch 10, Loss 0.0969\n",
      "Training Accuracy: 0.9155, Testing Accuracy: 0.9239\n",
      "\n"
     ]
    },
    {
     "name": "stdout",
     "output_type": "stream",
     "text": [
      "Epoch 20, Loss 0.0579\n",
      "Training Accuracy: 0.9417, Testing Accuracy: 0.9491\n",
      "\n"
     ]
    },
    {
     "name": "stdout",
     "output_type": "stream",
     "text": [
      "Epoch 30, Loss 0.0452\n",
      "Training Accuracy: 0.9503, Testing Accuracy: 0.9607\n",
      "\n"
     ]
    },
    {
     "name": "stdout",
     "output_type": "stream",
     "text": [
      "Epoch 40, Loss 0.0392\n",
      "Training Accuracy: 0.9565, Testing Accuracy: 0.9657\n",
      "\n"
     ]
    },
    {
     "name": "stdout",
     "output_type": "stream",
     "text": [
      "Epoch 50, Loss 0.0355\n",
      "Training Accuracy: 0.9595, Testing Accuracy: 0.9693\n",
      "\n"
     ]
    },
    {
     "name": "stdout",
     "output_type": "stream",
     "text": [
      "Epoch 60, Loss 0.033\n",
      "Training Accuracy: 0.9618, Testing Accuracy: 0.9708\n",
      "\n"
     ]
    },
    {
     "name": "stdout",
     "output_type": "stream",
     "text": [
      "Epoch 70, Loss 0.031\n",
      "Training Accuracy: 0.9641, Testing Accuracy: 0.9713\n",
      "\n"
     ]
    },
    {
     "name": "stdout",
     "output_type": "stream",
     "text": [
      "Epoch 80, Loss 0.0295\n",
      "Training Accuracy: 0.9662, Testing Accuracy: 0.9713\n",
      "\n"
     ]
    },
    {
     "name": "stdout",
     "output_type": "stream",
     "text": [
      "Epoch 90, Loss 0.0282\n",
      "Training Accuracy: 0.9678, Testing Accuracy: 0.9733\n",
      "\n"
     ]
    },
    {
     "name": "stdout",
     "output_type": "stream",
     "text": [
      "Epoch 100, Loss 0.0271\n",
      "Training Accuracy: 0.9686, Testing Accuracy: 0.9733\n",
      "\n"
     ]
    },
    {
     "name": "stdout",
     "output_type": "stream",
     "text": [
      "Epoch 110, Loss 0.0261\n",
      "Training Accuracy: 0.9693, Testing Accuracy: 0.9723\n",
      "\n"
     ]
    },
    {
     "name": "stdout",
     "output_type": "stream",
     "text": [
      "Epoch 120, Loss 0.0252\n",
      "Training Accuracy: 0.9710, Testing Accuracy: 0.9728\n",
      "\n"
     ]
    },
    {
     "name": "stdout",
     "output_type": "stream",
     "text": [
      "Epoch 130, Loss 0.0244\n",
      "Training Accuracy: 0.9722, Testing Accuracy: 0.9733\n",
      "\n"
     ]
    },
    {
     "name": "stdout",
     "output_type": "stream",
     "text": [
      "Epoch 140, Loss 0.0237\n",
      "Training Accuracy: 0.9727, Testing Accuracy: 0.9738\n",
      "\n"
     ]
    },
    {
     "name": "stdout",
     "output_type": "stream",
     "text": [
      "Epoch 150, Loss 0.023\n",
      "Training Accuracy: 0.9738, Testing Accuracy: 0.9743\n",
      "\n"
     ]
    },
    {
     "name": "stdout",
     "output_type": "stream",
     "text": [
      "Epoch 160, Loss 0.0224\n",
      "Training Accuracy: 0.9749, Testing Accuracy: 0.9748\n",
      "\n"
     ]
    },
    {
     "name": "stdout",
     "output_type": "stream",
     "text": [
      "Epoch 170, Loss 0.0218\n",
      "Training Accuracy: 0.9754, Testing Accuracy: 0.9743\n",
      "\n"
     ]
    },
    {
     "name": "stdout",
     "output_type": "stream",
     "text": [
      "Epoch 180, Loss 0.0212\n",
      "Training Accuracy: 0.9757, Testing Accuracy: 0.9743\n",
      "\n"
     ]
    },
    {
     "name": "stdout",
     "output_type": "stream",
     "text": [
      "Epoch 190, Loss 0.0207\n",
      "Training Accuracy: 0.9760, Testing Accuracy: 0.9733\n",
      "\n"
     ]
    },
    {
     "name": "stdout",
     "output_type": "stream",
     "text": [
      "Epoch 200, Loss 0.0202\n",
      "Training Accuracy: 0.9768, Testing Accuracy: 0.9743\n",
      "\n"
     ]
    },
    {
     "name": "stdout",
     "output_type": "stream",
     "text": [
      "Epoch 210, Loss 0.0197\n",
      "Training Accuracy: 0.9769, Testing Accuracy: 0.9743\n",
      "\n"
     ]
    },
    {
     "name": "stdout",
     "output_type": "stream",
     "text": [
      "Epoch 220, Loss 0.0193\n",
      "Training Accuracy: 0.9776, Testing Accuracy: 0.9743\n",
      "\n"
     ]
    },
    {
     "name": "stdout",
     "output_type": "stream",
     "text": [
      "Epoch 230, Loss 0.0189\n",
      "Training Accuracy: 0.9782, Testing Accuracy: 0.9738\n",
      "\n"
     ]
    },
    {
     "name": "stdout",
     "output_type": "stream",
     "text": [
      "Epoch 240, Loss 0.0185\n",
      "Training Accuracy: 0.9791, Testing Accuracy: 0.9743\n",
      "\n"
     ]
    },
    {
     "name": "stdout",
     "output_type": "stream",
     "text": [
      "Epoch 250, Loss 0.0181\n",
      "Training Accuracy: 0.9803, Testing Accuracy: 0.9743\n",
      "\n"
     ]
    },
    {
     "data": {
      "text/plain": [
       "0.010840211617554326"
      ]
     },
     "execution_count": 20,
     "metadata": {},
     "output_type": "execute_result"
    }
   ],
   "source": [
    "print(\"====== Neural Network ======\")\n",
    "learner_nn.train_loop(dl)"
   ]
  },
  {
   "cell_type": "markdown",
   "metadata": {
    "papermill": {
     "duration": 0.032322,
     "end_time": "2020-12-13T00:11:07.444536",
     "exception": false,
     "start_time": "2020-12-13T00:11:07.412214",
     "status": "completed"
    },
    "tags": []
   },
   "source": [
    "### Logistic Regression based Implementation."
   ]
  },
  {
   "cell_type": "code",
   "execution_count": 21,
   "metadata": {
    "execution": {
     "iopub.execute_input": "2020-12-13T00:11:07.515520Z",
     "iopub.status.busy": "2020-12-13T00:11:07.514861Z",
     "iopub.status.idle": "2020-12-13T00:11:07.525129Z",
     "shell.execute_reply": "2020-12-13T00:11:07.525531Z"
    },
    "papermill": {
     "duration": 0.048831,
     "end_time": "2020-12-13T00:11:07.525678",
     "exception": false,
     "start_time": "2020-12-13T00:11:07.476847",
     "status": "completed"
    },
    "tags": []
   },
   "outputs": [],
   "source": [
    "learner_lr = Learner(loss, model_lr, opt, config.num_epochs)\n",
    "acc_lr = ClfCallback(learner_lr, config.bs, training_xdata , testing_xdata, training_ydata, testing_ydata)\n",
    "learner_lr.set_callbacks([acc_lr])"
   ]
  },
  {
   "cell_type": "code",
   "execution_count": 22,
   "metadata": {
    "execution": {
     "iopub.execute_input": "2020-12-13T00:11:07.598129Z",
     "iopub.status.busy": "2020-12-13T00:11:07.597576Z",
     "iopub.status.idle": "2020-12-13T00:11:21.894756Z",
     "shell.execute_reply": "2020-12-13T00:11:21.895164Z"
    },
    "papermill": {
     "duration": 14.336551,
     "end_time": "2020-12-13T00:11:21.895313",
     "exception": false,
     "start_time": "2020-12-13T00:11:07.558762",
     "status": "completed"
    },
    "tags": []
   },
   "outputs": [
    {
     "name": "stdout",
     "output_type": "stream",
     "text": [
      "====== Logistic Regression ======\n",
      "Epoch 0, Loss 0.2833\n",
      "Training Accuracy: 0.5407, Testing Accuracy: 0.5161\n",
      "\n"
     ]
    },
    {
     "name": "stdout",
     "output_type": "stream",
     "text": [
      "Epoch 10, Loss 0.1114\n",
      "Training Accuracy: 0.8900, Testing Accuracy: 0.9047\n",
      "\n"
     ]
    },
    {
     "name": "stdout",
     "output_type": "stream",
     "text": [
      "Epoch 20, Loss 0.0834\n",
      "Training Accuracy: 0.9212, Testing Accuracy: 0.9345\n",
      "\n"
     ]
    },
    {
     "name": "stdout",
     "output_type": "stream",
     "text": [
      "Epoch 30, Loss 0.071\n",
      "Training Accuracy: 0.9326, Testing Accuracy: 0.9476\n",
      "\n"
     ]
    },
    {
     "name": "stdout",
     "output_type": "stream",
     "text": [
      "Epoch 40, Loss 0.0636\n",
      "Training Accuracy: 0.9382, Testing Accuracy: 0.9516\n",
      "\n"
     ]
    },
    {
     "name": "stdout",
     "output_type": "stream",
     "text": [
      "Epoch 50, Loss 0.0587\n",
      "Training Accuracy: 0.9427, Testing Accuracy: 0.9541\n",
      "\n"
     ]
    },
    {
     "name": "stdout",
     "output_type": "stream",
     "text": [
      "Epoch 60, Loss 0.0551\n",
      "Training Accuracy: 0.9458, Testing Accuracy: 0.9572\n",
      "\n"
     ]
    },
    {
     "name": "stdout",
     "output_type": "stream",
     "text": [
      "Epoch 70, Loss 0.0523\n",
      "Training Accuracy: 0.9475, Testing Accuracy: 0.9597\n",
      "\n"
     ]
    },
    {
     "name": "stdout",
     "output_type": "stream",
     "text": [
      "Epoch 80, Loss 0.0501\n",
      "Training Accuracy: 0.9492, Testing Accuracy: 0.9607\n",
      "\n"
     ]
    },
    {
     "name": "stdout",
     "output_type": "stream",
     "text": [
      "Epoch 90, Loss 0.0483\n",
      "Training Accuracy: 0.9512, Testing Accuracy: 0.9612\n",
      "\n"
     ]
    },
    {
     "name": "stdout",
     "output_type": "stream",
     "text": [
      "Epoch 100, Loss 0.0468\n",
      "Training Accuracy: 0.9521, Testing Accuracy: 0.9622\n",
      "\n"
     ]
    },
    {
     "name": "stdout",
     "output_type": "stream",
     "text": [
      "Epoch 110, Loss 0.0456\n",
      "Training Accuracy: 0.9537, Testing Accuracy: 0.9632\n",
      "\n"
     ]
    },
    {
     "name": "stdout",
     "output_type": "stream",
     "text": [
      "Epoch 120, Loss 0.0444\n",
      "Training Accuracy: 0.9545, Testing Accuracy: 0.9642\n",
      "\n"
     ]
    },
    {
     "name": "stdout",
     "output_type": "stream",
     "text": [
      "Epoch 130, Loss 0.0435\n",
      "Training Accuracy: 0.9557, Testing Accuracy: 0.9652\n",
      "\n"
     ]
    },
    {
     "name": "stdout",
     "output_type": "stream",
     "text": [
      "Epoch 140, Loss 0.0426\n",
      "Training Accuracy: 0.9563, Testing Accuracy: 0.9652\n",
      "\n"
     ]
    },
    {
     "name": "stdout",
     "output_type": "stream",
     "text": [
      "Epoch 150, Loss 0.0418\n",
      "Training Accuracy: 0.9569, Testing Accuracy: 0.9657\n",
      "\n"
     ]
    },
    {
     "name": "stdout",
     "output_type": "stream",
     "text": [
      "Epoch 160, Loss 0.0411\n",
      "Training Accuracy: 0.9569, Testing Accuracy: 0.9657\n",
      "\n"
     ]
    },
    {
     "name": "stdout",
     "output_type": "stream",
     "text": [
      "Epoch 170, Loss 0.0405\n",
      "Training Accuracy: 0.9572, Testing Accuracy: 0.9657\n",
      "\n"
     ]
    },
    {
     "name": "stdout",
     "output_type": "stream",
     "text": [
      "Epoch 180, Loss 0.0399\n",
      "Training Accuracy: 0.9574, Testing Accuracy: 0.9672\n",
      "\n"
     ]
    },
    {
     "name": "stdout",
     "output_type": "stream",
     "text": [
      "Epoch 190, Loss 0.0394\n",
      "Training Accuracy: 0.9580, Testing Accuracy: 0.9677\n",
      "\n"
     ]
    },
    {
     "name": "stdout",
     "output_type": "stream",
     "text": [
      "Epoch 200, Loss 0.0389\n",
      "Training Accuracy: 0.9585, Testing Accuracy: 0.9682\n",
      "\n"
     ]
    },
    {
     "name": "stdout",
     "output_type": "stream",
     "text": [
      "Epoch 210, Loss 0.0384\n",
      "Training Accuracy: 0.9589, Testing Accuracy: 0.9677\n",
      "\n"
     ]
    },
    {
     "name": "stdout",
     "output_type": "stream",
     "text": [
      "Epoch 220, Loss 0.038\n",
      "Training Accuracy: 0.9594, Testing Accuracy: 0.9677\n",
      "\n"
     ]
    },
    {
     "name": "stdout",
     "output_type": "stream",
     "text": [
      "Epoch 230, Loss 0.0376\n",
      "Training Accuracy: 0.9600, Testing Accuracy: 0.9688\n",
      "\n"
     ]
    },
    {
     "name": "stdout",
     "output_type": "stream",
     "text": [
      "Epoch 240, Loss 0.0372\n",
      "Training Accuracy: 0.9597, Testing Accuracy: 0.9693\n",
      "\n"
     ]
    },
    {
     "name": "stdout",
     "output_type": "stream",
     "text": [
      "Epoch 250, Loss 0.0368\n",
      "Training Accuracy: 0.9601, Testing Accuracy: 0.9693\n",
      "\n"
     ]
    },
    {
     "data": {
      "text/plain": [
       "0.04832647321786353"
      ]
     },
     "execution_count": 22,
     "metadata": {},
     "output_type": "execute_result"
    }
   ],
   "source": [
    "print(\"====== Logistic Regression ======\")\n",
    "learner_lr.train_loop(dl)"
   ]
  },
  {
   "cell_type": "markdown",
   "metadata": {
    "papermill": {
     "duration": 0.039094,
     "end_time": "2020-12-13T00:11:21.974307",
     "exception": false,
     "start_time": "2020-12-13T00:11:21.935213",
     "status": "completed"
    },
    "tags": []
   },
   "source": [
    "### Comparing results of NN and LR"
   ]
  },
  {
   "cell_type": "code",
   "execution_count": 23,
   "metadata": {
    "execution": {
     "iopub.execute_input": "2020-12-13T00:11:22.094112Z",
     "iopub.status.busy": "2020-12-13T00:11:22.086973Z",
     "iopub.status.idle": "2020-12-13T00:11:22.280842Z",
     "shell.execute_reply": "2020-12-13T00:11:22.281548Z"
    },
    "papermill": {
     "duration": 0.268343,
     "end_time": "2020-12-13T00:11:22.281709",
     "exception": false,
     "start_time": "2020-12-13T00:11:22.013366",
     "status": "completed"
    },
    "tags": []
   },
   "outputs": [
    {
     "data": {
      "text/plain": [
       "<matplotlib.legend.Legend at 0x7f9b76b96cc0>"
      ]
     },
     "execution_count": 23,
     "metadata": {},
     "output_type": "execute_result"
    },
    {
     "data": {
      "image/png": "[encoded data removed]",
      "text/plain": [
       "<Figure size 1080x720 with 1 Axes>"
      ]
     },
     "metadata": {
      "needs_background": "light"
     },
     "output_type": "display_data"
    }
   ],
   "source": [
    "plt.figure(figsize=(15,10))\n",
    "\n",
    "# Neural Network plots\n",
    "plt.plot(acc_nn.accuracies, 'r-', label = \"Training Accuracies - NN\")\n",
    "plt.plot(acc_nn.test_accuracies, 'g-', label = \"Testing Accuracies - NN\")\n",
    "\n",
    "# Logistic Regression plots\n",
    "plt.plot(acc_lr.accuracies, 'k-', label = \"Training Accuracies - LR\")\n",
    "plt.plot(acc_lr.test_accuracies, 'b-', label = \"Testing Accuracies - LR\")\n",
    "\n",
    "plt.ylim(0.8, 1)\n",
    "\n",
    "plt.legend()\n",
    "\n"
   ]
  },
  {
   "cell_type": "markdown",
   "metadata": {
    "papermill": {
     "duration": 0.041156,
     "end_time": "2020-12-13T00:11:22.363925",
     "exception": false,
     "start_time": "2020-12-13T00:11:22.322769",
     "status": "completed"
    },
    "tags": []
   },
   "source": [
    "### From the plot, we can observe the following:\n",
    "- Neural Network achieves higher accuracy than the Logistic Regression model.\n",
    "- This apparently, is because of overfitting, i.e. NN captures more noise than data.\n",
    "- Testing accuracy of NN drops below the Training accuracy at higher epochs. This explains the over-fitting on training data.\n",
    "- Logistic Regression gives a reliable accuracy, without the above mentioned problem.\n"
   ]
  },
  {
   "cell_type": "markdown",
   "metadata": {
    "papermill": {
     "duration": 0.040738,
     "end_time": "2020-12-13T00:11:22.445435",
     "exception": false,
     "start_time": "2020-12-13T00:11:22.404697",
     "status": "completed"
    },
    "tags": []
   },
   "source": [
    "### Moving till the last but one layer (excluding it).\n",
    "#### Plotting the outputs of this layer of the NN."
   ]
  },
  {
   "cell_type": "code",
   "execution_count": 24,
   "metadata": {
    "execution": {
     "iopub.execute_input": "2020-12-13T00:11:22.539298Z",
     "iopub.status.busy": "2020-12-13T00:11:22.530754Z",
     "iopub.status.idle": "2020-12-13T00:11:22.542308Z",
     "shell.execute_reply": "2020-12-13T00:11:22.542722Z"
    },
    "papermill": {
     "duration": 0.056524,
     "end_time": "2020-12-13T00:11:22.542856",
     "exception": false,
     "start_time": "2020-12-13T00:11:22.486332",
     "status": "completed"
    },
    "tags": []
   },
   "outputs": [],
   "source": [
    "model_new = Model(layers[:-2])"
   ]
  },
  {
   "cell_type": "code",
   "execution_count": 25,
   "metadata": {
    "execution": {
     "iopub.execute_input": "2020-12-13T00:11:22.639690Z",
     "iopub.status.busy": "2020-12-13T00:11:22.634822Z",
     "iopub.status.idle": "2020-12-13T00:11:22.650379Z",
     "shell.execute_reply": "2020-12-13T00:11:22.651040Z"
    },
    "papermill": {
     "duration": 0.067681,
     "end_time": "2020-12-13T00:11:22.651192",
     "exception": false,
     "start_time": "2020-12-13T00:11:22.583511",
     "status": "completed"
    },
    "tags": []
   },
   "outputs": [],
   "source": [
    "plot_testing = model_new(testing_xdata)"
   ]
  },
  {
   "cell_type": "code",
   "execution_count": 26,
   "metadata": {
    "execution": {
     "iopub.execute_input": "2020-12-13T00:11:22.744693Z",
     "iopub.status.busy": "2020-12-13T00:11:22.744166Z",
     "iopub.status.idle": "2020-12-13T00:11:22.918945Z",
     "shell.execute_reply": "2020-12-13T00:11:22.918479Z"
    },
    "papermill": {
     "duration": 0.226618,
     "end_time": "2020-12-13T00:11:22.919078",
     "exception": false,
     "start_time": "2020-12-13T00:11:22.692460",
     "status": "completed"
    },
    "tags": []
   },
   "outputs": [
    {
     "data": {
      "text/plain": [
       "Text(0.5, 1.0, 'Outputs')"
      ]
     },
     "execution_count": 26,
     "metadata": {},
     "output_type": "execute_result"
    },
    {
     "data": {
      "image/png": "[encoded data removed]",
      "text/plain": [
       "<Figure size 576x504 with 1 Axes>"
      ]
     },
     "metadata": {
      "needs_background": "light"
     },
     "output_type": "display_data"
    }
   ],
   "source": [
    "plt.figure(figsize=(8,7))\n",
    "plt.scatter(plot_testing[:,0], plot_testing[:,1], alpha = 0.1, c = y_test.ravel());\n",
    "plt.title('Outputs')"
   ]
  },
  {
   "cell_type": "markdown",
   "metadata": {
    "papermill": {
     "duration": 0.042417,
     "end_time": "2020-12-13T00:11:23.004431",
     "exception": false,
     "start_time": "2020-12-13T00:11:22.962014",
     "status": "completed"
    },
    "tags": []
   },
   "source": [
    "### Plotting probability contours"
   ]
  },
  {
   "cell_type": "code",
   "execution_count": 27,
   "metadata": {
    "execution": {
     "iopub.execute_input": "2020-12-13T00:11:23.094231Z",
     "iopub.status.busy": "2020-12-13T00:11:23.093697Z",
     "iopub.status.idle": "2020-12-13T00:11:23.105015Z",
     "shell.execute_reply": "2020-12-13T00:11:23.105401Z"
    },
    "papermill": {
     "duration": 0.058683,
     "end_time": "2020-12-13T00:11:23.105544",
     "exception": false,
     "start_time": "2020-12-13T00:11:23.046861",
     "status": "completed"
    },
    "tags": []
   },
   "outputs": [],
   "source": [
    "model_prob = Model(layers[-2:]) "
   ]
  },
  {
   "cell_type": "code",
   "execution_count": 28,
   "metadata": {
    "execution": {
     "iopub.execute_input": "2020-12-13T00:11:23.196422Z",
     "iopub.status.busy": "2020-12-13T00:11:23.195848Z",
     "iopub.status.idle": "2020-12-13T00:11:23.209949Z",
     "shell.execute_reply": "2020-12-13T00:11:23.210383Z"
    },
    "papermill": {
     "duration": 0.062177,
     "end_time": "2020-12-13T00:11:23.210530",
     "exception": false,
     "start_time": "2020-12-13T00:11:23.148353",
     "status": "completed"
    },
    "tags": []
   },
   "outputs": [],
   "source": [
    "# Adjust the x and y ranges according to the above generated plot.\n",
    "x_range = np.linspace(-4, 1, 100) \n",
    "y_range = np.linspace(-6, 6, 100) \n",
    "x_grid, y_grid = np.meshgrid(x_range, y_range) # x_grid and y_grig are of size 100 X 100\n",
    "\n",
    "# converting x_grid and y_grid to continuous arrays\n",
    "x_grid_flat = np.ravel(x_grid)\n",
    "y_grid_flat = np.ravel(y_grid)\n",
    "\n",
    "# The last layer of the current model takes two columns as input. Hence transpose of np.vstack() is required.\n",
    "X = np.vstack((x_grid_flat, y_grid_flat)).T\n",
    "\n",
    "# x_grid and y_grid are of size 100 x 100\n",
    "probability_contour = model_prob(X).reshape(100,100) "
   ]
  },
  {
   "cell_type": "code",
   "execution_count": 29,
   "metadata": {
    "execution": {
     "iopub.execute_input": "2020-12-13T00:11:23.300326Z",
     "iopub.status.busy": "2020-12-13T00:11:23.299813Z",
     "iopub.status.idle": "2020-12-13T00:11:23.522789Z",
     "shell.execute_reply": "2020-12-13T00:11:23.523233Z"
    },
    "papermill": {
     "duration": 0.269831,
     "end_time": "2020-12-13T00:11:23.523383",
     "exception": false,
     "start_time": "2020-12-13T00:11:23.253552",
     "status": "completed"
    },
    "tags": []
   },
   "outputs": [
    {
     "data": {
      "image/png": "[encoded data removed]",
      "text/plain": [
       "<Figure size 720x648 with 1 Axes>"
      ]
     },
     "metadata": {
      "needs_background": "light"
     },
     "output_type": "display_data"
    }
   ],
   "source": [
    "plt.figure(figsize=(10,9))\n",
    "plt.scatter(plot_testing[:,0], plot_testing[:,1], alpha = 0.1, c = y_test.ravel())\n",
    "contours = plt.contour(x_grid,y_grid,probability_contour)\n",
    "plt.title('Probability Contours')\n",
    "plt.clabel(contours, inline = True );"
   ]
  }
 ],
 "metadata": {
  "kernelspec": {
   "display_name": "Python 3",
   "language": "python",
   "name": "python3"
  },
  "language_info": {
   "codemirror_mode": {
    "name": "ipython",
    "version": 3
   },
   "file_extension": ".py",
   "mimetype": "text/x-python",
   "name": "python",
   "nbconvert_exporter": "python",
   "pygments_lexer": "ipython3",
   "version": "3.6.12"
  },
  "papermill": {
   "duration": 104.317077,
   "end_time": "2020-12-13T00:11:24.888217",
   "environment_variables": {},
   "exception": null,
   "input_path": "2020-08-11-NeuralNetwork.ipynb",
   "output_path": "2020-08-11-NeuralNetwork.ipynb",
   "parameters": {},
   "start_time": "2020-12-13T00:09:40.571140",
   "version": "2.1.2"
  }
 },
 "nbformat": 4,
 "nbformat_minor": 4
}