{
 "cells": [
  {
   "cell_type": "markdown",
   "metadata": {
    "papermill": {
     "duration": 0.036657,
     "end_time": "2020-10-11T20:04:52.422998",
     "exception": false,
     "start_time": "2020-10-11T20:04:52.386341",
     "status": "completed"
    },
    "tags": []
   },
   "source": [
    "# \"A Basic Neural Network: Differentiate Hand-Written Digits\"\n",
    "\n",
    "- badges: true\n",
    "- author: Akshith Sriram"
   ]
  },
  {
   "cell_type": "markdown",
   "metadata": {
    "papermill": {
     "duration": 0.029267,
     "end_time": "2020-10-11T20:04:52.484953",
     "exception": false,
     "start_time": "2020-10-11T20:04:52.455686",
     "status": "completed"
    },
    "tags": []
   },
   "source": [
    "### Key Objectives:\n",
    "- Building a neural network that differentiates two hand-written digits 3 and 8.\n",
    "- Comparing the results of this Neural Network (NN) to that of a Logistic Regression (LR) model.\n",
    "\n",
    "### Requirements:\n",
    "- 'Kudzu' : A neural network library that was designed during our course by [Univ.AI](www.univ.ai). \n",
    "- MNIST Database\n",
    "\n",
    "If MNIST is not installed, use the command `!pip install mnist` given below.\n",
    "It can be run both from the command line and Jupyter Notebook."
   ]
  },
  {
   "cell_type": "code",
   "execution_count": 1,
   "metadata": {
    "execution": {
     "iopub.execute_input": "2020-10-11T20:04:52.546391Z",
     "iopub.status.busy": "2020-10-11T20:04:52.545798Z",
     "iopub.status.idle": "2020-10-11T20:04:54.046350Z",
     "shell.execute_reply": "2020-10-11T20:04:54.045764Z"
    },
    "papermill": {
     "duration": 1.533023,
     "end_time": "2020-10-11T20:04:54.046496",
     "exception": false,
     "start_time": "2020-10-11T20:04:52.513473",
     "status": "completed"
    },
    "tags": []
   },
   "outputs": [
    {
     "name": "stdout",
     "output_type": "stream",
     "text": [
      "Collecting mnist\r\n"
     ]
    },
    {
     "name": "stdout",
     "output_type": "stream",
     "text": [
      "  Downloading mnist-0.2.2-py2.py3-none-any.whl (3.5 kB)\r\n",
      "Requirement already satisfied: numpy in /opt/hostedtoolcache/Python/3.6.12/x64/lib/python3.6/site-packages (from mnist) (1.19.2)\r\n"
     ]
    },
    {
     "name": "stdout",
     "output_type": "stream",
     "text": [
      "Installing collected packages: mnist\r\n",
      "Successfully installed mnist-0.2.2\r\n"
     ]
    }
   ],
   "source": [
    "!pip install mnist "
   ]
  },
  {
   "cell_type": "markdown",
   "metadata": {
    "papermill": {
     "duration": 0.026558,
     "end_time": "2020-10-11T20:04:54.102736",
     "exception": false,
     "start_time": "2020-10-11T20:04:54.076178",
     "status": "completed"
    },
    "tags": []
   },
   "source": [
    "#### Importing necessary libraries"
   ]
  },
  {
   "cell_type": "code",
   "execution_count": 2,
   "metadata": {
    "execution": {
     "iopub.execute_input": "2020-10-11T20:04:54.165662Z",
     "iopub.status.busy": "2020-10-11T20:04:54.164936Z",
     "iopub.status.idle": "2020-10-11T20:04:54.744103Z",
     "shell.execute_reply": "2020-10-11T20:04:54.743571Z"
    },
    "papermill": {
     "duration": 0.613589,
     "end_time": "2020-10-11T20:04:54.744290",
     "exception": false,
     "start_time": "2020-10-11T20:04:54.130701",
     "status": "completed"
    },
    "tags": []
   },
   "outputs": [],
   "source": [
    "%load_ext autoreload\n",
    "%autoreload 2\n",
    "\n",
    "%matplotlib inline\n",
    "import matplotlib.pyplot as plt\n",
    "\n",
    "import numpy as np\n",
    "import pandas as pd"
   ]
  },
  {
   "cell_type": "markdown",
   "metadata": {
    "papermill": {
     "duration": 0.029694,
     "end_time": "2020-10-11T20:04:54.803739",
     "exception": false,
     "start_time": "2020-10-11T20:04:54.774045",
     "status": "completed"
    },
    "tags": []
   },
   "source": [
    "### Preparing the Data"
   ]
  },
  {
   "cell_type": "code",
   "execution_count": 3,
   "metadata": {
    "execution": {
     "iopub.execute_input": "2020-10-11T20:04:54.867049Z",
     "iopub.status.busy": "2020-10-11T20:04:54.866437Z",
     "iopub.status.idle": "2020-10-11T20:04:54.878052Z",
     "shell.execute_reply": "2020-10-11T20:04:54.878622Z"
    },
    "papermill": {
     "duration": 0.045119,
     "end_time": "2020-10-11T20:04:54.878761",
     "exception": false,
     "start_time": "2020-10-11T20:04:54.833642",
     "status": "completed"
    },
    "tags": []
   },
   "outputs": [],
   "source": [
    "import mnist"
   ]
  },
  {
   "cell_type": "code",
   "execution_count": 4,
   "metadata": {
    "execution": {
     "iopub.execute_input": "2020-10-11T20:04:54.936586Z",
     "iopub.status.busy": "2020-10-11T20:04:54.935940Z",
     "iopub.status.idle": "2020-10-11T20:04:59.777232Z",
     "shell.execute_reply": "2020-10-11T20:04:59.777817Z"
    },
    "papermill": {
     "duration": 4.872409,
     "end_time": "2020-10-11T20:04:59.778040",
     "exception": false,
     "start_time": "2020-10-11T20:04:54.905631",
     "status": "completed"
    },
    "tags": []
   },
   "outputs": [],
   "source": [
    "train_images = mnist.train_images()\n",
    "train_labels = mnist.train_labels()"
   ]
  },
  {
   "cell_type": "code",
   "execution_count": 5,
   "metadata": {
    "execution": {
     "iopub.execute_input": "2020-10-11T20:04:59.840724Z",
     "iopub.status.busy": "2020-10-11T20:04:59.839801Z",
     "iopub.status.idle": "2020-10-11T20:04:59.856890Z",
     "shell.execute_reply": "2020-10-11T20:04:59.856372Z"
    },
    "papermill": {
     "duration": 0.050165,
     "end_time": "2020-10-11T20:04:59.857032",
     "exception": false,
     "start_time": "2020-10-11T20:04:59.806867",
     "status": "completed"
    },
    "tags": []
   },
   "outputs": [
    {
     "data": {
      "text/plain": [
       "((60000, 28, 28), (60000,))"
      ]
     },
     "execution_count": 5,
     "metadata": {},
     "output_type": "execute_result"
    }
   ],
   "source": [
    "train_images.shape, train_labels.shape"
   ]
  },
  {
   "cell_type": "code",
   "execution_count": 6,
   "metadata": {
    "execution": {
     "iopub.execute_input": "2020-10-11T20:04:59.916799Z",
     "iopub.status.busy": "2020-10-11T20:04:59.916208Z",
     "iopub.status.idle": "2020-10-11T20:05:01.344793Z",
     "shell.execute_reply": "2020-10-11T20:05:01.344251Z"
    },
    "papermill": {
     "duration": 1.460122,
     "end_time": "2020-10-11T20:05:01.344947",
     "exception": false,
     "start_time": "2020-10-11T20:04:59.884825",
     "status": "completed"
    },
    "tags": []
   },
   "outputs": [],
   "source": [
    "test_images = mnist.test_images()\n",
    "test_labels = mnist.test_labels()"
   ]
  },
  {
   "cell_type": "code",
   "execution_count": 7,
   "metadata": {
    "execution": {
     "iopub.execute_input": "2020-10-11T20:05:01.415968Z",
     "iopub.status.busy": "2020-10-11T20:05:01.408632Z",
     "iopub.status.idle": "2020-10-11T20:05:01.425831Z",
     "shell.execute_reply": "2020-10-11T20:05:01.426332Z"
    },
    "papermill": {
     "duration": 0.053066,
     "end_time": "2020-10-11T20:05:01.426530",
     "exception": false,
     "start_time": "2020-10-11T20:05:01.373464",
     "status": "completed"
    },
    "tags": []
   },
   "outputs": [
    {
     "data": {
      "text/plain": [
       "((10000, 28, 28), (10000,))"
      ]
     },
     "execution_count": 7,
     "metadata": {},
     "output_type": "execute_result"
    }
   ],
   "source": [
    "test_images.shape, test_labels.shape"
   ]
  },
  {
   "cell_type": "code",
   "execution_count": 8,
   "metadata": {
    "execution": {
     "iopub.execute_input": "2020-10-11T20:05:01.495239Z",
     "iopub.status.busy": "2020-10-11T20:05:01.489469Z",
     "iopub.status.idle": "2020-10-11T20:05:01.670831Z",
     "shell.execute_reply": "2020-10-11T20:05:01.671418Z"
    },
    "papermill": {
     "duration": 0.216426,
     "end_time": "2020-10-11T20:05:01.671618",
     "exception": false,
     "start_time": "2020-10-11T20:05:01.455192",
     "status": "completed"
    },
    "tags": []
   },
   "outputs": [
    {
     "name": "stdout",
     "output_type": "stream",
     "text": [
      "2\n"
     ]
    },
    {
     "data": {
      "text/plain": [
       "<matplotlib.image.AxesImage at 0x7f2938394908>"
      ]
     },
     "execution_count": 8,
     "metadata": {},
     "output_type": "execute_result"
    },
    {
     "data": {
      "image/png": "[encoded data removed]",
      "text/plain": [
       "<Figure size 432x288 with 1 Axes>"
      ]
     },
     "metadata": {
      "needs_background": "light"
     },
     "output_type": "display_data"
    }
   ],
   "source": [
    "image_index = 7776 # You may select anything up to 60,000\n",
    "print(train_labels[image_index]) \n",
    "plt.imshow(train_images[image_index], cmap='Greys')"
   ]
  },
  {
   "cell_type": "markdown",
   "metadata": {
    "papermill": {
     "duration": 0.029228,
     "end_time": "2020-10-11T20:05:01.731502",
     "exception": false,
     "start_time": "2020-10-11T20:05:01.702274",
     "status": "completed"
    },
    "tags": []
   },
   "source": [
    "## Filter data to get 3 and 8 out"
   ]
  },
  {
   "cell_type": "code",
   "execution_count": 9,
   "metadata": {
    "execution": {
     "iopub.execute_input": "2020-10-11T20:05:01.794094Z",
     "iopub.status.busy": "2020-10-11T20:05:01.793204Z",
     "iopub.status.idle": "2020-10-11T20:05:01.812731Z",
     "shell.execute_reply": "2020-10-11T20:05:01.812226Z"
    },
    "papermill": {
     "duration": 0.053315,
     "end_time": "2020-10-11T20:05:01.812878",
     "exception": false,
     "start_time": "2020-10-11T20:05:01.759563",
     "status": "completed"
    },
    "tags": []
   },
   "outputs": [],
   "source": [
    "train_filter = np.where((train_labels == 3 ) | (train_labels == 8))\n",
    "test_filter = np.where((test_labels == 3) | (test_labels == 8))\n",
    "X_train, y_train = train_images[train_filter], train_labels[train_filter]\n",
    "X_test, y_test = test_images[test_filter], test_labels[test_filter]"
   ]
  },
  {
   "cell_type": "markdown",
   "metadata": {
    "papermill": {
     "duration": 0.029106,
     "end_time": "2020-10-11T20:05:01.870339",
     "exception": false,
     "start_time": "2020-10-11T20:05:01.841233",
     "status": "completed"
    },
    "tags": []
   },
   "source": [
    "We normalize the pixel values in the 0 to 1 range"
   ]
  },
  {
   "cell_type": "code",
   "execution_count": 10,
   "metadata": {
    "execution": {
     "iopub.execute_input": "2020-10-11T20:05:01.936841Z",
     "iopub.status.busy": "2020-10-11T20:05:01.936191Z",
     "iopub.status.idle": "2020-10-11T20:05:01.998496Z",
     "shell.execute_reply": "2020-10-11T20:05:01.999123Z"
    },
    "papermill": {
     "duration": 0.100651,
     "end_time": "2020-10-11T20:05:01.999291",
     "exception": false,
     "start_time": "2020-10-11T20:05:01.898640",
     "status": "completed"
    },
    "tags": []
   },
   "outputs": [],
   "source": [
    "X_train = X_train/255.\n",
    "X_test = X_test/255."
   ]
  },
  {
   "cell_type": "markdown",
   "metadata": {
    "papermill": {
     "duration": 0.037119,
     "end_time": "2020-10-11T20:05:02.066865",
     "exception": false,
     "start_time": "2020-10-11T20:05:02.029746",
     "status": "completed"
    },
    "tags": []
   },
   "source": [
    "Setup the labels as 1 (when the digit is 3) and 0 (when the digit is 8)"
   ]
  },
  {
   "cell_type": "code",
   "execution_count": 11,
   "metadata": {
    "execution": {
     "iopub.execute_input": "2020-10-11T20:05:02.134201Z",
     "iopub.status.busy": "2020-10-11T20:05:02.132982Z",
     "iopub.status.idle": "2020-10-11T20:05:02.145760Z",
     "shell.execute_reply": "2020-10-11T20:05:02.146299Z"
    },
    "papermill": {
     "duration": 0.048442,
     "end_time": "2020-10-11T20:05:02.146469",
     "exception": false,
     "start_time": "2020-10-11T20:05:02.098027",
     "status": "completed"
    },
    "tags": []
   },
   "outputs": [],
   "source": [
    "y_train = 1*(y_train==3)\n",
    "y_test = 1*(y_test==3)"
   ]
  },
  {
   "cell_type": "code",
   "execution_count": 12,
   "metadata": {
    "execution": {
     "iopub.execute_input": "2020-10-11T20:05:02.209659Z",
     "iopub.status.busy": "2020-10-11T20:05:02.208976Z",
     "iopub.status.idle": "2020-10-11T20:05:02.223334Z",
     "shell.execute_reply": "2020-10-11T20:05:02.222824Z"
    },
    "papermill": {
     "duration": 0.045919,
     "end_time": "2020-10-11T20:05:02.223476",
     "exception": false,
     "start_time": "2020-10-11T20:05:02.177557",
     "status": "completed"
    },
    "tags": []
   },
   "outputs": [
    {
     "data": {
      "text/plain": [
       "((11982, 28, 28), (1984, 28, 28))"
      ]
     },
     "execution_count": 12,
     "metadata": {},
     "output_type": "execute_result"
    }
   ],
   "source": [
    "X_train.shape, X_test.shape"
   ]
  },
  {
   "cell_type": "markdown",
   "metadata": {
    "papermill": {
     "duration": 0.029616,
     "end_time": "2020-10-11T20:05:02.281341",
     "exception": false,
     "start_time": "2020-10-11T20:05:02.251725",
     "status": "completed"
    },
    "tags": []
   },
   "source": [
    "### Reshape the input data to create a linear array"
   ]
  },
  {
   "cell_type": "code",
   "execution_count": 13,
   "metadata": {
    "execution": {
     "iopub.execute_input": "2020-10-11T20:05:02.345147Z",
     "iopub.status.busy": "2020-10-11T20:05:02.344528Z",
     "iopub.status.idle": "2020-10-11T20:05:02.359475Z",
     "shell.execute_reply": "2020-10-11T20:05:02.358959Z"
    },
    "papermill": {
     "duration": 0.048735,
     "end_time": "2020-10-11T20:05:02.359605",
     "exception": false,
     "start_time": "2020-10-11T20:05:02.310870",
     "status": "completed"
    },
    "tags": []
   },
   "outputs": [
    {
     "data": {
      "text/plain": [
       "((11982, 784), (1984, 784))"
      ]
     },
     "execution_count": 13,
     "metadata": {},
     "output_type": "execute_result"
    }
   ],
   "source": [
    "X_train = X_train.reshape(X_train.shape[0], -1)\n",
    "X_test = X_test.reshape(X_test.shape[0], -1)\n",
    "X_train.shape, X_test.shape"
   ]
  },
  {
   "cell_type": "markdown",
   "metadata": {
    "papermill": {
     "duration": 0.028529,
     "end_time": "2020-10-11T20:05:02.417209",
     "exception": false,
     "start_time": "2020-10-11T20:05:02.388680",
     "status": "completed"
    },
    "tags": []
   },
   "source": [
    "### Importing appropriate functions from 'Kudzu'"
   ]
  },
  {
   "cell_type": "code",
   "execution_count": 14,
   "metadata": {
    "execution": {
     "iopub.execute_input": "2020-10-11T20:05:02.482802Z",
     "iopub.status.busy": "2020-10-11T20:05:02.482099Z",
     "iopub.status.idle": "2020-10-11T20:05:02.503230Z",
     "shell.execute_reply": "2020-10-11T20:05:02.502662Z"
    },
    "papermill": {
     "duration": 0.056989,
     "end_time": "2020-10-11T20:05:02.503363",
     "exception": false,
     "start_time": "2020-10-11T20:05:02.446374",
     "status": "completed"
    },
    "tags": []
   },
   "outputs": [],
   "source": [
    "from kudzu.layer import Sigmoid\n",
    "from kudzu.layer import Relu\n",
    "from kudzu.layer import Affine, Sigmoid\n",
    "\n",
    "from kudzu.model import Model\n",
    "from kudzu.train import Learner\n",
    "from kudzu.optim import GD\n",
    "from kudzu.data import Data, Dataloader, Sampler\n",
    "\n",
    "from kudzu.callbacks import AccCallback\n",
    "from kudzu.callbacks import ClfCallback\n",
    "\n",
    "from kudzu.loss import MSE"
   ]
  },
  {
   "cell_type": "markdown",
   "metadata": {
    "papermill": {
     "duration": 0.029553,
     "end_time": "2020-10-11T20:05:02.563533",
     "exception": false,
     "start_time": "2020-10-11T20:05:02.533980",
     "status": "completed"
    },
    "tags": []
   },
   "source": [
    "### Let us create a `Config` class, to store important parameters. \n",
    "This class essentially plays the role of a dictionary."
   ]
  },
  {
   "cell_type": "code",
   "execution_count": 15,
   "metadata": {
    "execution": {
     "iopub.execute_input": "2020-10-11T20:05:02.630931Z",
     "iopub.status.busy": "2020-10-11T20:05:02.630075Z",
     "iopub.status.idle": "2020-10-11T20:05:02.645956Z",
     "shell.execute_reply": "2020-10-11T20:05:02.645327Z"
    },
    "papermill": {
     "duration": 0.050924,
     "end_time": "2020-10-11T20:05:02.646238",
     "exception": false,
     "start_time": "2020-10-11T20:05:02.595314",
     "status": "completed"
    },
    "tags": []
   },
   "outputs": [],
   "source": [
    "class Config:\n",
    "    pass\n",
    "config = Config()\n",
    "config.lr = 0.001\n",
    "config.num_epochs = 251\n",
    "config.bs = 50"
   ]
  },
  {
   "cell_type": "markdown",
   "metadata": {
    "papermill": {
     "duration": 0.031003,
     "end_time": "2020-10-11T20:05:02.710191",
     "exception": false,
     "start_time": "2020-10-11T20:05:02.679188",
     "status": "completed"
    },
    "tags": []
   },
   "source": [
    "### Initializing data to the variables"
   ]
  },
  {
   "cell_type": "code",
   "execution_count": 16,
   "metadata": {
    "execution": {
     "iopub.execute_input": "2020-10-11T20:05:02.779968Z",
     "iopub.status.busy": "2020-10-11T20:05:02.779308Z",
     "iopub.status.idle": "2020-10-11T20:05:02.791610Z",
     "shell.execute_reply": "2020-10-11T20:05:02.792212Z"
    },
    "papermill": {
     "duration": 0.051967,
     "end_time": "2020-10-11T20:05:02.792382",
     "exception": false,
     "start_time": "2020-10-11T20:05:02.740415",
     "status": "completed"
    },
    "tags": []
   },
   "outputs": [],
   "source": [
    "data = Data(X_train, y_train.reshape(-1,1))\n",
    "sampler = Sampler(data, config.bs, shuffle=True)\n",
    "\n",
    "dl = Dataloader(data, sampler)\n",
    "\n",
    "opt = GD(config.lr)\n",
    "loss = MSE()"
   ]
  },
  {
   "cell_type": "code",
   "execution_count": 17,
   "metadata": {
    "execution": {
     "iopub.execute_input": "2020-10-11T20:05:02.867558Z",
     "iopub.status.busy": "2020-10-11T20:05:02.866967Z",
     "iopub.status.idle": "2020-10-11T20:05:02.879491Z",
     "shell.execute_reply": "2020-10-11T20:05:02.879930Z"
    },
    "papermill": {
     "duration": 0.04847,
     "end_time": "2020-10-11T20:05:02.880070",
     "exception": false,
     "start_time": "2020-10-11T20:05:02.831600",
     "status": "completed"
    },
    "tags": []
   },
   "outputs": [],
   "source": [
    "training_xdata = X_train\n",
    "testing_xdata = X_test\n",
    "training_ydata = y_train.reshape(-1,1)\n",
    "testing_ydata = y_test.reshape(-1,1)"
   ]
  },
  {
   "cell_type": "markdown",
   "metadata": {
    "papermill": {
     "duration": 0.0306,
     "end_time": "2020-10-11T20:05:02.943675",
     "exception": false,
     "start_time": "2020-10-11T20:05:02.913075",
     "status": "completed"
    },
    "tags": []
   },
   "source": [
    "### Running Models with the Training data\n",
    "Details about the network layers:\n",
    "- A first affine layer has 784 inputs and does 100 affine transforms. These are followed by a Relu\n",
    "- A second affine layer has 100 inputs from the 100 activations of the past layer, and does 100 affine transforms. These are followed by a Relu\n",
    "- A third affine layer has 100 activations and does 2 affine transformations to create an embedding for visualization. There is no non-linearity here.\n",
    "- A final \"logistic regression\" which has an affine transform from 2 inputs to 1 output, which is squeezed through a sigmoid.\n",
    "\n",
    "Help taken from Anshuman's Notebook."
   ]
  },
  {
   "cell_type": "code",
   "execution_count": 18,
   "metadata": {
    "execution": {
     "iopub.execute_input": "2020-10-11T20:05:03.010118Z",
     "iopub.status.busy": "2020-10-11T20:05:03.009480Z",
     "iopub.status.idle": "2020-10-11T20:05:03.032707Z",
     "shell.execute_reply": "2020-10-11T20:05:03.031643Z"
    },
    "papermill": {
     "duration": 0.058334,
     "end_time": "2020-10-11T20:05:03.032908",
     "exception": false,
     "start_time": "2020-10-11T20:05:02.974574",
     "status": "completed"
    },
    "tags": []
   },
   "outputs": [],
   "source": [
    "# layers for the Neural Network\n",
    "layers = [Affine(\"first\", 784, 100), Relu(\"first\"), Affine(\"second\", 100, 100), Relu(\"second\"), Affine(\"third\", 100, 2), Affine(\"final\", 2, 1), Sigmoid(\"final\")]\n",
    "model_nn = Model(layers)\n",
    "\n",
    "# layers for the Logistic Regression\n",
    "layers_lr = [Affine(\"logits\", 784, 1), Sigmoid(\"sigmoid\")]\n",
    "model_lr = Model(layers_lr)"
   ]
  },
  {
   "cell_type": "code",
   "execution_count": 19,
   "metadata": {
    "execution": {
     "iopub.execute_input": "2020-10-11T20:05:03.106523Z",
     "iopub.status.busy": "2020-10-11T20:05:03.101156Z",
     "iopub.status.idle": "2020-10-11T20:05:03.114695Z",
     "shell.execute_reply": "2020-10-11T20:05:03.114022Z"
    },
    "papermill": {
     "duration": 0.048723,
     "end_time": "2020-10-11T20:05:03.114869",
     "exception": false,
     "start_time": "2020-10-11T20:05:03.066146",
     "status": "completed"
    },
    "tags": []
   },
   "outputs": [],
   "source": [
    "# suffix _nn stands for Neural Network.\n",
    "learner_nn = Learner(loss, model_nn, opt, config.num_epochs)\n",
    "acc_nn = ClfCallback(learner_nn, config.bs, training_xdata , testing_xdata, training_ydata, testing_ydata)\n",
    "learner_nn.set_callbacks([acc_nn])"
   ]
  },
  {
   "cell_type": "code",
   "execution_count": 20,
   "metadata": {
    "execution": {
     "iopub.execute_input": "2020-10-11T20:05:03.189693Z",
     "iopub.status.busy": "2020-10-11T20:05:03.188997Z",
     "iopub.status.idle": "2020-10-11T20:07:23.188469Z",
     "shell.execute_reply": "2020-10-11T20:07:23.189356Z"
    },
    "papermill": {
     "duration": 140.042525,
     "end_time": "2020-10-11T20:07:23.189592",
     "exception": false,
     "start_time": "2020-10-11T20:05:03.147067",
     "status": "completed"
    },
    "tags": []
   },
   "outputs": [
    {
     "name": "stdout",
     "output_type": "stream",
     "text": [
      "====== Neural Network ======\n"
     ]
    },
    {
     "name": "stdout",
     "output_type": "stream",
     "text": [
      "Epoch 0, Loss 0.2155\n",
      "Training Accuracy: 0.8075, Testing Accuracy: 0.7923\n",
      "\n"
     ]
    },
    {
     "name": "stdout",
     "output_type": "stream",
     "text": [
      "Epoch 10, Loss 0.0668\n",
      "Training Accuracy: 0.9362, Testing Accuracy: 0.9430\n",
      "\n"
     ]
    },
    {
     "name": "stdout",
     "output_type": "stream",
     "text": [
      "Epoch 20, Loss 0.0445\n",
      "Training Accuracy: 0.9541, Testing Accuracy: 0.9622\n",
      "\n"
     ]
    },
    {
     "name": "stdout",
     "output_type": "stream",
     "text": [
      "Epoch 30, Loss 0.0366\n",
      "Training Accuracy: 0.9597, Testing Accuracy: 0.9637\n",
      "\n"
     ]
    },
    {
     "name": "stdout",
     "output_type": "stream",
     "text": [
      "Epoch 40, Loss 0.0326\n",
      "Training Accuracy: 0.9633, Testing Accuracy: 0.9647\n",
      "\n"
     ]
    },
    {
     "name": "stdout",
     "output_type": "stream",
     "text": [
      "Epoch 50, Loss 0.0301\n",
      "Training Accuracy: 0.9651, Testing Accuracy: 0.9647\n",
      "\n"
     ]
    },
    {
     "name": "stdout",
     "output_type": "stream",
     "text": [
      "Epoch 60, Loss 0.0283\n",
      "Training Accuracy: 0.9673, Testing Accuracy: 0.9662\n",
      "\n"
     ]
    },
    {
     "name": "stdout",
     "output_type": "stream",
     "text": [
      "Epoch 70, Loss 0.0269\n",
      "Training Accuracy: 0.9698, Testing Accuracy: 0.9672\n",
      "\n"
     ]
    },
    {
     "name": "stdout",
     "output_type": "stream",
     "text": [
      "Epoch 80, Loss 0.0258\n",
      "Training Accuracy: 0.9707, Testing Accuracy: 0.9693\n",
      "\n"
     ]
    },
    {
     "name": "stdout",
     "output_type": "stream",
     "text": [
      "Epoch 90, Loss 0.0249\n",
      "Training Accuracy: 0.9714, Testing Accuracy: 0.9698\n",
      "\n"
     ]
    },
    {
     "name": "stdout",
     "output_type": "stream",
     "text": [
      "Epoch 100, Loss 0.0241\n",
      "Training Accuracy: 0.9721, Testing Accuracy: 0.9693\n",
      "\n"
     ]
    },
    {
     "name": "stdout",
     "output_type": "stream",
     "text": [
      "Epoch 110, Loss 0.0234\n",
      "Training Accuracy: 0.9730, Testing Accuracy: 0.9703\n",
      "\n"
     ]
    },
    {
     "name": "stdout",
     "output_type": "stream",
     "text": [
      "Epoch 120, Loss 0.0227\n",
      "Training Accuracy: 0.9740, Testing Accuracy: 0.9703\n",
      "\n"
     ]
    },
    {
     "name": "stdout",
     "output_type": "stream",
     "text": [
      "Epoch 130, Loss 0.0221\n",
      "Training Accuracy: 0.9748, Testing Accuracy: 0.9703\n",
      "\n"
     ]
    },
    {
     "name": "stdout",
     "output_type": "stream",
     "text": [
      "Epoch 140, Loss 0.0216\n",
      "Training Accuracy: 0.9757, Testing Accuracy: 0.9708\n",
      "\n"
     ]
    },
    {
     "name": "stdout",
     "output_type": "stream",
     "text": [
      "Epoch 150, Loss 0.021\n",
      "Training Accuracy: 0.9761, Testing Accuracy: 0.9713\n",
      "\n"
     ]
    },
    {
     "name": "stdout",
     "output_type": "stream",
     "text": [
      "Epoch 160, Loss 0.0205\n",
      "Training Accuracy: 0.9765, Testing Accuracy: 0.9713\n",
      "\n"
     ]
    },
    {
     "name": "stdout",
     "output_type": "stream",
     "text": [
      "Epoch 170, Loss 0.0201\n",
      "Training Accuracy: 0.9775, Testing Accuracy: 0.9718\n",
      "\n"
     ]
    },
    {
     "name": "stdout",
     "output_type": "stream",
     "text": [
      "Epoch 180, Loss 0.0196\n",
      "Training Accuracy: 0.9782, Testing Accuracy: 0.9723\n",
      "\n"
     ]
    },
    {
     "name": "stdout",
     "output_type": "stream",
     "text": [
      "Epoch 190, Loss 0.0192\n",
      "Training Accuracy: 0.9786, Testing Accuracy: 0.9723\n",
      "\n"
     ]
    },
    {
     "name": "stdout",
     "output_type": "stream",
     "text": [
      "Epoch 200, Loss 0.0188\n",
      "Training Accuracy: 0.9793, Testing Accuracy: 0.9728\n",
      "\n"
     ]
    },
    {
     "name": "stdout",
     "output_type": "stream",
     "text": [
      "Epoch 210, Loss 0.0184\n",
      "Training Accuracy: 0.9801, Testing Accuracy: 0.9738\n",
      "\n"
     ]
    },
    {
     "name": "stdout",
     "output_type": "stream",
     "text": [
      "Epoch 220, Loss 0.018\n",
      "Training Accuracy: 0.9803, Testing Accuracy: 0.9748\n",
      "\n"
     ]
    },
    {
     "name": "stdout",
     "output_type": "stream",
     "text": [
      "Epoch 230, Loss 0.0176\n",
      "Training Accuracy: 0.9811, Testing Accuracy: 0.9743\n",
      "\n"
     ]
    },
    {
     "name": "stdout",
     "output_type": "stream",
     "text": [
      "Epoch 240, Loss 0.0172\n",
      "Training Accuracy: 0.9816, Testing Accuracy: 0.9743\n",
      "\n"
     ]
    },
    {
     "name": "stdout",
     "output_type": "stream",
     "text": [
      "Epoch 250, Loss 0.0169\n",
      "Training Accuracy: 0.9819, Testing Accuracy: 0.9748\n",
      "\n"
     ]
    },
    {
     "data": {
      "text/plain": [
       "0.03877312567017573"
      ]
     },
     "execution_count": 20,
     "metadata": {},
     "output_type": "execute_result"
    }
   ],
   "source": [
    "print(\"====== Neural Network ======\")\n",
    "learner_nn.train_loop(dl)"
   ]
  },
  {
   "cell_type": "markdown",
   "metadata": {
    "papermill": {
     "duration": 0.038251,
     "end_time": "2020-10-11T20:07:23.269944",
     "exception": false,
     "start_time": "2020-10-11T20:07:23.231693",
     "status": "completed"
    },
    "tags": []
   },
   "source": [
    "### Logistic Regression based Implementation."
   ]
  },
  {
   "cell_type": "code",
   "execution_count": 21,
   "metadata": {
    "execution": {
     "iopub.execute_input": "2020-10-11T20:07:23.355637Z",
     "iopub.status.busy": "2020-10-11T20:07:23.354905Z",
     "iopub.status.idle": "2020-10-11T20:07:23.367310Z",
     "shell.execute_reply": "2020-10-11T20:07:23.366721Z"
    },
    "papermill": {
     "duration": 0.057312,
     "end_time": "2020-10-11T20:07:23.367439",
     "exception": false,
     "start_time": "2020-10-11T20:07:23.310127",
     "status": "completed"
    },
    "tags": []
   },
   "outputs": [],
   "source": [
    "learner_lr = Learner(loss, model_lr, opt, config.num_epochs)\n",
    "acc_lr = ClfCallback(learner_lr, config.bs, training_xdata , testing_xdata, training_ydata, testing_ydata)\n",
    "learner_lr.set_callbacks([acc_lr])"
   ]
  },
  {
   "cell_type": "code",
   "execution_count": 22,
   "metadata": {
    "execution": {
     "iopub.execute_input": "2020-10-11T20:07:23.457801Z",
     "iopub.status.busy": "2020-10-11T20:07:23.457058Z",
     "iopub.status.idle": "2020-10-11T20:07:44.769624Z",
     "shell.execute_reply": "2020-10-11T20:07:44.770563Z"
    },
    "papermill": {
     "duration": 21.3624,
     "end_time": "2020-10-11T20:07:44.770745",
     "exception": false,
     "start_time": "2020-10-11T20:07:23.408345",
     "status": "completed"
    },
    "tags": []
   },
   "outputs": [
    {
     "name": "stdout",
     "output_type": "stream",
     "text": [
      "====== Logistic Regression ======\n",
      "Epoch 0, Loss 0.2985\n",
      "Training Accuracy: 0.4811, Testing Accuracy: 0.4960\n",
      "\n"
     ]
    },
    {
     "name": "stdout",
     "output_type": "stream",
     "text": [
      "Epoch 10, Loss 0.1078\n",
      "Training Accuracy: 0.9074, Testing Accuracy: 0.9088\n",
      "\n"
     ]
    },
    {
     "name": "stdout",
     "output_type": "stream",
     "text": [
      "Epoch 20, Loss 0.0803\n",
      "Training Accuracy: 0.9263, Testing Accuracy: 0.9370\n",
      "\n"
     ]
    },
    {
     "name": "stdout",
     "output_type": "stream",
     "text": [
      "Epoch 30, Loss 0.0683\n",
      "Training Accuracy: 0.9362, Testing Accuracy: 0.9501\n",
      "\n"
     ]
    },
    {
     "name": "stdout",
     "output_type": "stream",
     "text": [
      "Epoch 40, Loss 0.0614\n",
      "Training Accuracy: 0.9423, Testing Accuracy: 0.9526\n",
      "\n"
     ]
    },
    {
     "name": "stdout",
     "output_type": "stream",
     "text": [
      "Epoch 50, Loss 0.0567\n",
      "Training Accuracy: 0.9456, Testing Accuracy: 0.9546\n",
      "\n"
     ]
    },
    {
     "name": "stdout",
     "output_type": "stream",
     "text": [
      "Epoch 60, Loss 0.0534\n",
      "Training Accuracy: 0.9476, Testing Accuracy: 0.9561\n",
      "\n"
     ]
    },
    {
     "name": "stdout",
     "output_type": "stream",
     "text": [
      "Epoch 70, Loss 0.0509\n",
      "Training Accuracy: 0.9498, Testing Accuracy: 0.9582\n",
      "\n"
     ]
    },
    {
     "name": "stdout",
     "output_type": "stream",
     "text": [
      "Epoch 80, Loss 0.0488\n",
      "Training Accuracy: 0.9516, Testing Accuracy: 0.9582\n",
      "\n"
     ]
    },
    {
     "name": "stdout",
     "output_type": "stream",
     "text": [
      "Epoch 90, Loss 0.0472\n",
      "Training Accuracy: 0.9533, Testing Accuracy: 0.9607\n",
      "\n"
     ]
    },
    {
     "name": "stdout",
     "output_type": "stream",
     "text": [
      "Epoch 100, Loss 0.0458\n",
      "Training Accuracy: 0.9540, Testing Accuracy: 0.9632\n",
      "\n"
     ]
    },
    {
     "name": "stdout",
     "output_type": "stream",
     "text": [
      "Epoch 110, Loss 0.0446\n",
      "Training Accuracy: 0.9549, Testing Accuracy: 0.9627\n",
      "\n"
     ]
    },
    {
     "name": "stdout",
     "output_type": "stream",
     "text": [
      "Epoch 120, Loss 0.0436\n",
      "Training Accuracy: 0.9559, Testing Accuracy: 0.9637\n",
      "\n"
     ]
    },
    {
     "name": "stdout",
     "output_type": "stream",
     "text": [
      "Epoch 130, Loss 0.0426\n",
      "Training Accuracy: 0.9564, Testing Accuracy: 0.9642\n",
      "\n"
     ]
    },
    {
     "name": "stdout",
     "output_type": "stream",
     "text": [
      "Epoch 140, Loss 0.0418\n",
      "Training Accuracy: 0.9570, Testing Accuracy: 0.9647\n",
      "\n"
     ]
    },
    {
     "name": "stdout",
     "output_type": "stream",
     "text": [
      "Epoch 150, Loss 0.0411\n",
      "Training Accuracy: 0.9575, Testing Accuracy: 0.9647\n",
      "\n"
     ]
    },
    {
     "name": "stdout",
     "output_type": "stream",
     "text": [
      "Epoch 160, Loss 0.0405\n",
      "Training Accuracy: 0.9579, Testing Accuracy: 0.9657\n",
      "\n"
     ]
    },
    {
     "name": "stdout",
     "output_type": "stream",
     "text": [
      "Epoch 170, Loss 0.0399\n",
      "Training Accuracy: 0.9580, Testing Accuracy: 0.9662\n",
      "\n"
     ]
    },
    {
     "name": "stdout",
     "output_type": "stream",
     "text": [
      "Epoch 180, Loss 0.0393\n",
      "Training Accuracy: 0.9584, Testing Accuracy: 0.9662\n",
      "\n"
     ]
    },
    {
     "name": "stdout",
     "output_type": "stream",
     "text": [
      "Epoch 190, Loss 0.0388\n",
      "Training Accuracy: 0.9588, Testing Accuracy: 0.9662\n",
      "\n"
     ]
    },
    {
     "name": "stdout",
     "output_type": "stream",
     "text": [
      "Epoch 200, Loss 0.0384\n",
      "Training Accuracy: 0.9590, Testing Accuracy: 0.9667\n",
      "\n"
     ]
    },
    {
     "name": "stdout",
     "output_type": "stream",
     "text": [
      "Epoch 210, Loss 0.0379\n",
      "Training Accuracy: 0.9592, Testing Accuracy: 0.9677\n",
      "\n"
     ]
    },
    {
     "name": "stdout",
     "output_type": "stream",
     "text": [
      "Epoch 220, Loss 0.0375\n",
      "Training Accuracy: 0.9594, Testing Accuracy: 0.9688\n",
      "\n"
     ]
    },
    {
     "name": "stdout",
     "output_type": "stream",
     "text": [
      "Epoch 230, Loss 0.0372\n",
      "Training Accuracy: 0.9597, Testing Accuracy: 0.9688\n",
      "\n"
     ]
    },
    {
     "name": "stdout",
     "output_type": "stream",
     "text": [
      "Epoch 240, Loss 0.0368\n",
      "Training Accuracy: 0.9599, Testing Accuracy: 0.9688\n",
      "\n"
     ]
    },
    {
     "name": "stdout",
     "output_type": "stream",
     "text": [
      "Epoch 250, Loss 0.0365\n",
      "Training Accuracy: 0.9601, Testing Accuracy: 0.9682\n",
      "\n"
     ]
    },
    {
     "data": {
      "text/plain": [
       "0.02008899589097983"
      ]
     },
     "execution_count": 22,
     "metadata": {},
     "output_type": "execute_result"
    }
   ],
   "source": [
    "print(\"====== Logistic Regression ======\")\n",
    "learner_lr.train_loop(dl)"
   ]
  },
  {
   "cell_type": "markdown",
   "metadata": {
    "papermill": {
     "duration": 0.048386,
     "end_time": "2020-10-11T20:07:44.870033",
     "exception": false,
     "start_time": "2020-10-11T20:07:44.821647",
     "status": "completed"
    },
    "tags": []
   },
   "source": [
    "### Comparing results of NN and LR"
   ]
  },
  {
   "cell_type": "code",
   "execution_count": 23,
   "metadata": {
    "execution": {
     "iopub.execute_input": "2020-10-11T20:07:44.975043Z",
     "iopub.status.busy": "2020-10-11T20:07:44.974251Z",
     "iopub.status.idle": "2020-10-11T20:07:45.265752Z",
     "shell.execute_reply": "2020-10-11T20:07:45.264770Z"
    },
    "papermill": {
     "duration": 0.34775,
     "end_time": "2020-10-11T20:07:45.265964",
     "exception": false,
     "start_time": "2020-10-11T20:07:44.918214",
     "status": "completed"
    },
    "tags": []
   },
   "outputs": [
    {
     "data": {
      "text/plain": [
       "<matplotlib.legend.Legend at 0x7f2935ef9080>"
      ]
     },
     "execution_count": 23,
     "metadata": {},
     "output_type": "execute_result"
    },
    {
     "data": {
      "image/png": "[encoded data removed]",
      "text/plain": [
       "<Figure size 1080x720 with 1 Axes>"
      ]
     },
     "metadata": {
      "needs_background": "light"
     },
     "output_type": "display_data"
    }
   ],
   "source": [
    "plt.figure(figsize=(15,10))\n",
    "\n",
    "# Neural Network plots\n",
    "plt.plot(acc_nn.accuracies, 'r-', label = \"Training Accuracies - NN\")\n",
    "plt.plot(acc_nn.test_accuracies, 'g-', label = \"Testing Accuracies - NN\")\n",
    "\n",
    "# Logistic Regression plots\n",
    "plt.plot(acc_lr.accuracies, 'k-', label = \"Training Accuracies - LR\")\n",
    "plt.plot(acc_lr.test_accuracies, 'b-', label = \"Testing Accuracies - LR\")\n",
    "\n",
    "plt.ylim(0.8, 1)\n",
    "\n",
    "plt.legend()\n",
    "\n"
   ]
  },
  {
   "cell_type": "markdown",
   "metadata": {
    "papermill": {
     "duration": 0.052587,
     "end_time": "2020-10-11T20:07:45.369124",
     "exception": false,
     "start_time": "2020-10-11T20:07:45.316537",
     "status": "completed"
    },
    "tags": []
   },
   "source": [
    "### From the plot, we can observe the following:\n",
    "- Neural Network achieves higher accuracy than the Logistic Regression model.\n",
    "- This apparently, is because of overfitting, i.e. NN captures more noise than data.\n",
    "- Testing accuracy of NN drops below the Training accuracy at higher epochs. This explains the over-fitting on training data.\n",
    "- Logistic Regression gives a reliable accuracy, without the above mentioned problem.\n"
   ]
  },
  {
   "cell_type": "markdown",
   "metadata": {
    "papermill": {
     "duration": 0.050188,
     "end_time": "2020-10-11T20:07:45.471583",
     "exception": false,
     "start_time": "2020-10-11T20:07:45.421395",
     "status": "completed"
    },
    "tags": []
   },
   "source": [
    "### Moving till the last but one layer (excluding it).\n",
    "#### Plotting the outputs of this layer of the NN."
   ]
  },
  {
   "cell_type": "code",
   "execution_count": 24,
   "metadata": {
    "execution": {
     "iopub.execute_input": "2020-10-11T20:07:45.578654Z",
     "iopub.status.busy": "2020-10-11T20:07:45.577924Z",
     "iopub.status.idle": "2020-10-11T20:07:45.590460Z",
     "shell.execute_reply": "2020-10-11T20:07:45.591095Z"
    },
    "papermill": {
     "duration": 0.070049,
     "end_time": "2020-10-11T20:07:45.591266",
     "exception": false,
     "start_time": "2020-10-11T20:07:45.521217",
     "status": "completed"
    },
    "tags": []
   },
   "outputs": [],
   "source": [
    "model_new = Model(layers[:-2])"
   ]
  },
  {
   "cell_type": "code",
   "execution_count": 25,
   "metadata": {
    "execution": {
     "iopub.execute_input": "2020-10-11T20:07:45.702357Z",
     "iopub.status.busy": "2020-10-11T20:07:45.701654Z",
     "iopub.status.idle": "2020-10-11T20:07:45.727832Z",
     "shell.execute_reply": "2020-10-11T20:07:45.728605Z"
    },
    "papermill": {
     "duration": 0.083518,
     "end_time": "2020-10-11T20:07:45.728785",
     "exception": false,
     "start_time": "2020-10-11T20:07:45.645267",
     "status": "completed"
    },
    "tags": []
   },
   "outputs": [],
   "source": [
    "plot_testing = model_new(testing_xdata)"
   ]
  },
  {
   "cell_type": "code",
   "execution_count": 26,
   "metadata": {
    "execution": {
     "iopub.execute_input": "2020-10-11T20:07:45.839112Z",
     "iopub.status.busy": "2020-10-11T20:07:45.838552Z",
     "iopub.status.idle": "2020-10-11T20:07:46.076225Z",
     "shell.execute_reply": "2020-10-11T20:07:46.076687Z"
    },
    "papermill": {
     "duration": 0.297083,
     "end_time": "2020-10-11T20:07:46.076853",
     "exception": false,
     "start_time": "2020-10-11T20:07:45.779770",
     "status": "completed"
    },
    "tags": []
   },
   "outputs": [
    {
     "data": {
      "text/plain": [
       "Text(0.5, 1.0, 'Outputs')"
      ]
     },
     "execution_count": 26,
     "metadata": {},
     "output_type": "execute_result"
    },
    {
     "data": {
      "image/png": "[encoded data removed]",
      "text/plain": [
       "<Figure size 576x504 with 1 Axes>"
      ]
     },
     "metadata": {
      "needs_background": "light"
     },
     "output_type": "display_data"
    }
   ],
   "source": [
    "plt.figure(figsize=(8,7))\n",
    "plt.scatter(plot_testing[:,0], plot_testing[:,1], alpha = 0.1, c = y_test.ravel());\n",
    "plt.title('Outputs')"
   ]
  },
  {
   "cell_type": "markdown",
   "metadata": {
    "papermill": {
     "duration": 0.04853,
     "end_time": "2020-10-11T20:07:46.182522",
     "exception": false,
     "start_time": "2020-10-11T20:07:46.133992",
     "status": "completed"
    },
    "tags": []
   },
   "source": [
    "### Plotting probability contours"
   ]
  },
  {
   "cell_type": "code",
   "execution_count": 27,
   "metadata": {
    "execution": {
     "iopub.execute_input": "2020-10-11T20:07:46.290745Z",
     "iopub.status.busy": "2020-10-11T20:07:46.290119Z",
     "iopub.status.idle": "2020-10-11T20:07:46.301996Z",
     "shell.execute_reply": "2020-10-11T20:07:46.301466Z"
    },
    "papermill": {
     "duration": 0.069195,
     "end_time": "2020-10-11T20:07:46.302138",
     "exception": false,
     "start_time": "2020-10-11T20:07:46.232943",
     "status": "completed"
    },
    "tags": []
   },
   "outputs": [],
   "source": [
    "model_prob = Model(layers[-2:]) "
   ]
  },
  {
   "cell_type": "code",
   "execution_count": 28,
   "metadata": {
    "execution": {
     "iopub.execute_input": "2020-10-11T20:07:46.422997Z",
     "iopub.status.busy": "2020-10-11T20:07:46.416108Z",
     "iopub.status.idle": "2020-10-11T20:07:46.429412Z",
     "shell.execute_reply": "2020-10-11T20:07:46.429915Z"
    },
    "papermill": {
     "duration": 0.077017,
     "end_time": "2020-10-11T20:07:46.430115",
     "exception": false,
     "start_time": "2020-10-11T20:07:46.353098",
     "status": "completed"
    },
    "tags": []
   },
   "outputs": [],
   "source": [
    "# Adjust the x and y ranges according to the above generated plot.\n",
    "x_range = np.linspace(-4, 1, 100) \n",
    "y_range = np.linspace(-6, 6, 100) \n",
    "x_grid, y_grid = np.meshgrid(x_range, y_range) # x_grid and y_grig are of size 100 X 100\n",
    "\n",
    "# converting x_grid and y_grid to continuous arrays\n",
    "x_grid_flat = np.ravel(x_grid)\n",
    "y_grid_flat = np.ravel(y_grid)\n",
    "\n",
    "# The last layer of the current model takes two columns as input. Hence transpose of np.vstack() is required.\n",
    "X = np.vstack((x_grid_flat, y_grid_flat)).T\n",
    "\n",
    "# x_grid and y_grid are of size 100 x 100\n",
    "probability_contour = model_prob(X).reshape(100,100) "
   ]
  },
  {
   "cell_type": "code",
   "execution_count": 29,
   "metadata": {
    "execution": {
     "iopub.execute_input": "2020-10-11T20:07:46.543121Z",
     "iopub.status.busy": "2020-10-11T20:07:46.542342Z",
     "iopub.status.idle": "2020-10-11T20:07:46.826368Z",
     "shell.execute_reply": "2020-10-11T20:07:46.825558Z"
    },
    "papermill": {
     "duration": 0.343074,
     "end_time": "2020-10-11T20:07:46.826495",
     "exception": false,
     "start_time": "2020-10-11T20:07:46.483421",
     "status": "completed"
    },
    "tags": []
   },
   "outputs": [
    {
     "data": {
      "image/png": "[encoded data removed]",
      "text/plain": [
       "<Figure size 720x648 with 1 Axes>"
      ]
     },
     "metadata": {
      "needs_background": "light"
     },
     "output_type": "display_data"
    }
   ],
   "source": [
    "plt.figure(figsize=(10,9))\n",
    "plt.scatter(plot_testing[:,0], plot_testing[:,1], alpha = 0.1, c = y_test.ravel())\n",
    "contours = plt.contour(x_grid,y_grid,probability_contour)\n",
    "plt.title('Probability Contours')\n",
    "plt.clabel(contours, inline = True );"
   ]
  }
 ],
 "metadata": {
  "kernelspec": {
   "display_name": "Python 3",
   "language": "python",
   "name": "python3"
  },
  "language_info": {
   "codemirror_mode": {
    "name": "ipython",
    "version": 3
   },
   "file_extension": ".py",
   "mimetype": "text/x-python",
   "name": "python",
   "nbconvert_exporter": "python",
   "pygments_lexer": "ipython3",
   "version": "3.6.12"
  },
  "papermill": {
   "duration": 176.027022,
   "end_time": "2020-10-11T20:07:47.307825",
   "environment_variables": {},
   "exception": null,
   "input_path": "2020-08-11-NeuralNetwork.ipynb",
   "output_path": "2020-08-11-NeuralNetwork.ipynb",
   "parameters": {},
   "start_time": "2020-10-11T20:04:51.280803",
   "version": "2.1.2"
  }
 },
 "nbformat": 4,
 "nbformat_minor": 4
}