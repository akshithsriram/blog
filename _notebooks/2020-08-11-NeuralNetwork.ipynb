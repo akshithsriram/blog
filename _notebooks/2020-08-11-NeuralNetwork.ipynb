{
 "cells": [
  {
   "cell_type": "markdown",
   "metadata": {
    "papermill": {
     "duration": 0.030481,
     "end_time": "2020-12-28T00:12:54.644477",
     "exception": false,
     "start_time": "2020-12-28T00:12:54.613996",
     "status": "completed"
    },
    "tags": []
   },
   "source": [
    "# \"A Basic Neural Network: Differentiate Hand-Written Digits\"\n",
    "\n",
    "- badges: true\n",
    "- author: Akshith Sriram"
   ]
  },
  {
   "cell_type": "markdown",
   "metadata": {
    "papermill": {
     "duration": 0.027389,
     "end_time": "2020-12-28T00:12:54.700191",
     "exception": false,
     "start_time": "2020-12-28T00:12:54.672802",
     "status": "completed"
    },
    "tags": []
   },
   "source": [
    "### Key Objectives:\n",
    "- Building a neural network that differentiates two hand-written digits 3 and 8.\n",
    "- Comparing the results of this Neural Network (NN) to that of a Logistic Regression (LR) model.\n",
    "\n",
    "### Requirements:\n",
    "- 'Kudzu' : A neural network library that was designed during our course by [Univ.AI](www.univ.ai). \n",
    "- MNIST Database\n",
    "\n",
    "If MNIST is not installed, use the command `!pip install mnist` given below.\n",
    "It can be run both from the command line and Jupyter Notebook."
   ]
  },
  {
   "cell_type": "code",
   "execution_count": 1,
   "metadata": {
    "execution": {
     "iopub.execute_input": "2020-12-28T00:12:54.766567Z",
     "iopub.status.busy": "2020-12-28T00:12:54.765924Z",
     "iopub.status.idle": "2020-12-28T00:12:56.452385Z",
     "shell.execute_reply": "2020-12-28T00:12:56.451167Z"
    },
    "papermill": {
     "duration": 1.725391,
     "end_time": "2020-12-28T00:12:56.452576",
     "exception": false,
     "start_time": "2020-12-28T00:12:54.727185",
     "status": "completed"
    },
    "tags": []
   },
   "outputs": [
    {
     "name": "stdout",
     "output_type": "stream",
     "text": [
      "Collecting mnist\r\n"
     ]
    },
    {
     "name": "stdout",
     "output_type": "stream",
     "text": [
      "  Downloading mnist-0.2.2-py2.py3-none-any.whl (3.5 kB)\r\n",
      "Requirement already satisfied: numpy in /opt/hostedtoolcache/Python/3.6.12/x64/lib/python3.6/site-packages (from mnist) (1.19.4)\r\n"
     ]
    },
    {
     "name": "stdout",
     "output_type": "stream",
     "text": [
      "Installing collected packages: mnist\r\n"
     ]
    },
    {
     "name": "stdout",
     "output_type": "stream",
     "text": [
      "Successfully installed mnist-0.2.2\r\n",
      "\u001b[33mWARNING: You are using pip version 20.3.1; however, version 20.3.3 is available.\r\n",
      "You should consider upgrading via the '/opt/hostedtoolcache/Python/3.6.12/x64/bin/python -m pip install --upgrade pip' command.\u001b[0m\r\n"
     ]
    }
   ],
   "source": [
    "!pip install mnist "
   ]
  },
  {
   "cell_type": "markdown",
   "metadata": {
    "papermill": {
     "duration": 0.029075,
     "end_time": "2020-12-28T00:12:56.510827",
     "exception": false,
     "start_time": "2020-12-28T00:12:56.481752",
     "status": "completed"
    },
    "tags": []
   },
   "source": [
    "#### Importing necessary libraries"
   ]
  },
  {
   "cell_type": "code",
   "execution_count": 2,
   "metadata": {
    "execution": {
     "iopub.execute_input": "2020-12-28T00:12:56.573556Z",
     "iopub.status.busy": "2020-12-28T00:12:56.572920Z",
     "iopub.status.idle": "2020-12-28T00:12:57.209079Z",
     "shell.execute_reply": "2020-12-28T00:12:57.208122Z"
    },
    "papermill": {
     "duration": 0.671337,
     "end_time": "2020-12-28T00:12:57.209255",
     "exception": false,
     "start_time": "2020-12-28T00:12:56.537918",
     "status": "completed"
    },
    "tags": []
   },
   "outputs": [],
   "source": [
    "%load_ext autoreload\n",
    "%autoreload 2\n",
    "\n",
    "%matplotlib inline\n",
    "import matplotlib.pyplot as plt\n",
    "\n",
    "import numpy as np\n",
    "import pandas as pd"
   ]
  },
  {
   "cell_type": "markdown",
   "metadata": {
    "papermill": {
     "duration": 0.027763,
     "end_time": "2020-12-28T00:12:57.266055",
     "exception": false,
     "start_time": "2020-12-28T00:12:57.238292",
     "status": "completed"
    },
    "tags": []
   },
   "source": [
    "### Preparing the Data"
   ]
  },
  {
   "cell_type": "code",
   "execution_count": 3,
   "metadata": {
    "execution": {
     "iopub.execute_input": "2020-12-28T00:12:57.334147Z",
     "iopub.status.busy": "2020-12-28T00:12:57.333264Z",
     "iopub.status.idle": "2020-12-28T00:12:57.345844Z",
     "shell.execute_reply": "2020-12-28T00:12:57.345287Z"
    },
    "papermill": {
     "duration": 0.049279,
     "end_time": "2020-12-28T00:12:57.345982",
     "exception": false,
     "start_time": "2020-12-28T00:12:57.296703",
     "status": "completed"
    },
    "tags": []
   },
   "outputs": [],
   "source": [
    "import mnist"
   ]
  },
  {
   "cell_type": "code",
   "execution_count": 4,
   "metadata": {
    "execution": {
     "iopub.execute_input": "2020-12-28T00:12:57.407407Z",
     "iopub.status.busy": "2020-12-28T00:12:57.406794Z",
     "iopub.status.idle": "2020-12-28T00:12:58.424974Z",
     "shell.execute_reply": "2020-12-28T00:12:58.424349Z"
    },
    "papermill": {
     "duration": 1.051868,
     "end_time": "2020-12-28T00:12:58.425112",
     "exception": false,
     "start_time": "2020-12-28T00:12:57.373244",
     "status": "completed"
    },
    "tags": []
   },
   "outputs": [],
   "source": [
    "train_images = mnist.train_images()\n",
    "train_labels = mnist.train_labels()"
   ]
  },
  {
   "cell_type": "code",
   "execution_count": 5,
   "metadata": {
    "execution": {
     "iopub.execute_input": "2020-12-28T00:12:58.487974Z",
     "iopub.status.busy": "2020-12-28T00:12:58.487188Z",
     "iopub.status.idle": "2020-12-28T00:12:58.502880Z",
     "shell.execute_reply": "2020-12-28T00:12:58.502393Z"
    },
    "papermill": {
     "duration": 0.049452,
     "end_time": "2020-12-28T00:12:58.503019",
     "exception": false,
     "start_time": "2020-12-28T00:12:58.453567",
     "status": "completed"
    },
    "tags": []
   },
   "outputs": [
    {
     "data": {
      "text/plain": [
       "((60000, 28, 28), (60000,))"
      ]
     },
     "execution_count": 5,
     "metadata": {},
     "output_type": "execute_result"
    }
   ],
   "source": [
    "train_images.shape, train_labels.shape"
   ]
  },
  {
   "cell_type": "code",
   "execution_count": 6,
   "metadata": {
    "execution": {
     "iopub.execute_input": "2020-12-28T00:12:58.567260Z",
     "iopub.status.busy": "2020-12-28T00:12:58.566649Z",
     "iopub.status.idle": "2020-12-28T00:12:59.018712Z",
     "shell.execute_reply": "2020-12-28T00:12:59.018183Z"
    },
    "papermill": {
     "duration": 0.48789,
     "end_time": "2020-12-28T00:12:59.018854",
     "exception": false,
     "start_time": "2020-12-28T00:12:58.530964",
     "status": "completed"
    },
    "tags": []
   },
   "outputs": [],
   "source": [
    "test_images = mnist.test_images()\n",
    "test_labels = mnist.test_labels()"
   ]
  },
  {
   "cell_type": "code",
   "execution_count": 7,
   "metadata": {
    "execution": {
     "iopub.execute_input": "2020-12-28T00:12:59.853779Z",
     "iopub.status.busy": "2020-12-28T00:12:59.852665Z",
     "iopub.status.idle": "2020-12-28T00:12:59.863520Z",
     "shell.execute_reply": "2020-12-28T00:12:59.863993Z"
    },
    "papermill": {
     "duration": 0.815179,
     "end_time": "2020-12-28T00:12:59.864157",
     "exception": false,
     "start_time": "2020-12-28T00:12:59.048978",
     "status": "completed"
    },
    "tags": []
   },
   "outputs": [
    {
     "data": {
      "text/plain": [
       "((10000, 28, 28), (10000,))"
      ]
     },
     "execution_count": 7,
     "metadata": {},
     "output_type": "execute_result"
    }
   ],
   "source": [
    "test_images.shape, test_labels.shape"
   ]
  },
  {
   "cell_type": "code",
   "execution_count": 8,
   "metadata": {
    "execution": {
     "iopub.execute_input": "2020-12-28T00:13:00.192863Z",
     "iopub.status.busy": "2020-12-28T00:13:00.192136Z",
     "iopub.status.idle": "2020-12-28T00:13:00.355296Z",
     "shell.execute_reply": "2020-12-28T00:13:00.355786Z"
    },
    "papermill": {
     "duration": 0.418957,
     "end_time": "2020-12-28T00:13:00.355946",
     "exception": false,
     "start_time": "2020-12-28T00:12:59.936989",
     "status": "completed"
    },
    "tags": []
   },
   "outputs": [
    {
     "name": "stdout",
     "output_type": "stream",
     "text": [
      "2\n"
     ]
    },
    {
     "data": {
      "text/plain": [
       "<matplotlib.image.AxesImage at 0x7f91b8b867b8>"
      ]
     },
     "execution_count": 8,
     "metadata": {},
     "output_type": "execute_result"
    },
    {
     "data": {
      "image/png": "[encoded data removed]",
      "text/plain": [
       "<Figure size 432x288 with 1 Axes>"
      ]
     },
     "metadata": {
      "needs_background": "light"
     },
     "output_type": "display_data"
    }
   ],
   "source": [
    "image_index = 7776 # You may select anything up to 60,000\n",
    "print(train_labels[image_index]) \n",
    "plt.imshow(train_images[image_index], cmap='Greys')"
   ]
  },
  {
   "cell_type": "markdown",
   "metadata": {
    "papermill": {
     "duration": 0.036639,
     "end_time": "2020-12-28T00:13:00.422308",
     "exception": false,
     "start_time": "2020-12-28T00:13:00.385669",
     "status": "completed"
    },
    "tags": []
   },
   "source": [
    "## Filter data to get 3 and 8 out"
   ]
  },
  {
   "cell_type": "code",
   "execution_count": 9,
   "metadata": {
    "execution": {
     "iopub.execute_input": "2020-12-28T00:13:00.492430Z",
     "iopub.status.busy": "2020-12-28T00:13:00.491814Z",
     "iopub.status.idle": "2020-12-28T00:13:00.509760Z",
     "shell.execute_reply": "2020-12-28T00:13:00.509093Z"
    },
    "papermill": {
     "duration": 0.053893,
     "end_time": "2020-12-28T00:13:00.509931",
     "exception": false,
     "start_time": "2020-12-28T00:13:00.456038",
     "status": "completed"
    },
    "tags": []
   },
   "outputs": [],
   "source": [
    "train_filter = np.where((train_labels == 3 ) | (train_labels == 8))\n",
    "test_filter = np.where((test_labels == 3) | (test_labels == 8))\n",
    "X_train, y_train = train_images[train_filter], train_labels[train_filter]\n",
    "X_test, y_test = test_images[test_filter], test_labels[test_filter]"
   ]
  },
  {
   "cell_type": "markdown",
   "metadata": {
    "papermill": {
     "duration": 0.035274,
     "end_time": "2020-12-28T00:13:00.575113",
     "exception": false,
     "start_time": "2020-12-28T00:13:00.539839",
     "status": "completed"
    },
    "tags": []
   },
   "source": [
    "We normalize the pixel values in the 0 to 1 range"
   ]
  },
  {
   "cell_type": "code",
   "execution_count": 10,
   "metadata": {
    "execution": {
     "iopub.execute_input": "2020-12-28T00:13:00.651588Z",
     "iopub.status.busy": "2020-12-28T00:13:00.650991Z",
     "iopub.status.idle": "2020-12-28T00:13:00.708613Z",
     "shell.execute_reply": "2020-12-28T00:13:00.709122Z"
    },
    "papermill": {
     "duration": 0.092129,
     "end_time": "2020-12-28T00:13:00.709306",
     "exception": false,
     "start_time": "2020-12-28T00:13:00.617177",
     "status": "completed"
    },
    "tags": []
   },
   "outputs": [],
   "source": [
    "X_train = X_train/255.\n",
    "X_test = X_test/255."
   ]
  },
  {
   "cell_type": "markdown",
   "metadata": {
    "papermill": {
     "duration": 0.029639,
     "end_time": "2020-12-28T00:13:00.770156",
     "exception": false,
     "start_time": "2020-12-28T00:13:00.740517",
     "status": "completed"
    },
    "tags": []
   },
   "source": [
    "Setup the labels as 1 (when the digit is 3) and 0 (when the digit is 8)"
   ]
  },
  {
   "cell_type": "code",
   "execution_count": 11,
   "metadata": {
    "execution": {
     "iopub.execute_input": "2020-12-28T00:13:00.834820Z",
     "iopub.status.busy": "2020-12-28T00:13:00.834227Z",
     "iopub.status.idle": "2020-12-28T00:13:00.849425Z",
     "shell.execute_reply": "2020-12-28T00:13:00.848678Z"
    },
    "papermill": {
     "duration": 0.049132,
     "end_time": "2020-12-28T00:13:00.849587",
     "exception": false,
     "start_time": "2020-12-28T00:13:00.800455",
     "status": "completed"
    },
    "tags": []
   },
   "outputs": [],
   "source": [
    "y_train = 1*(y_train==3)\n",
    "y_test = 1*(y_test==3)"
   ]
  },
  {
   "cell_type": "code",
   "execution_count": 12,
   "metadata": {
    "execution": {
     "iopub.execute_input": "2020-12-28T00:13:00.913681Z",
     "iopub.status.busy": "2020-12-28T00:13:00.913048Z",
     "iopub.status.idle": "2020-12-28T00:13:00.929318Z",
     "shell.execute_reply": "2020-12-28T00:13:00.928767Z"
    },
    "papermill": {
     "duration": 0.049593,
     "end_time": "2020-12-28T00:13:00.929457",
     "exception": false,
     "start_time": "2020-12-28T00:13:00.879864",
     "status": "completed"
    },
    "tags": []
   },
   "outputs": [
    {
     "data": {
      "text/plain": [
       "((11982, 28, 28), (1984, 28, 28))"
      ]
     },
     "execution_count": 12,
     "metadata": {},
     "output_type": "execute_result"
    }
   ],
   "source": [
    "X_train.shape, X_test.shape"
   ]
  },
  {
   "cell_type": "markdown",
   "metadata": {
    "papermill": {
     "duration": 0.029388,
     "end_time": "2020-12-28T00:13:00.988777",
     "exception": false,
     "start_time": "2020-12-28T00:13:00.959389",
     "status": "completed"
    },
    "tags": []
   },
   "source": [
    "### Reshape the input data to create a linear array"
   ]
  },
  {
   "cell_type": "code",
   "execution_count": 13,
   "metadata": {
    "execution": {
     "iopub.execute_input": "2020-12-28T00:13:01.052738Z",
     "iopub.status.busy": "2020-12-28T00:13:01.052182Z",
     "iopub.status.idle": "2020-12-28T00:13:01.070894Z",
     "shell.execute_reply": "2020-12-28T00:13:01.070394Z"
    },
    "papermill": {
     "duration": 0.051638,
     "end_time": "2020-12-28T00:13:01.071035",
     "exception": false,
     "start_time": "2020-12-28T00:13:01.019397",
     "status": "completed"
    },
    "tags": []
   },
   "outputs": [
    {
     "data": {
      "text/plain": [
       "((11982, 784), (1984, 784))"
      ]
     },
     "execution_count": 13,
     "metadata": {},
     "output_type": "execute_result"
    }
   ],
   "source": [
    "X_train = X_train.reshape(X_train.shape[0], -1)\n",
    "X_test = X_test.reshape(X_test.shape[0], -1)\n",
    "X_train.shape, X_test.shape"
   ]
  },
  {
   "cell_type": "markdown",
   "metadata": {
    "papermill": {
     "duration": 0.030826,
     "end_time": "2020-12-28T00:13:01.131825",
     "exception": false,
     "start_time": "2020-12-28T00:13:01.100999",
     "status": "completed"
    },
    "tags": []
   },
   "source": [
    "### Importing appropriate functions from 'Kudzu'"
   ]
  },
  {
   "cell_type": "code",
   "execution_count": 14,
   "metadata": {
    "execution": {
     "iopub.execute_input": "2020-12-28T00:13:01.196446Z",
     "iopub.status.busy": "2020-12-28T00:13:01.195842Z",
     "iopub.status.idle": "2020-12-28T00:13:01.217247Z",
     "shell.execute_reply": "2020-12-28T00:13:01.218846Z"
    },
    "papermill": {
     "duration": 0.057293,
     "end_time": "2020-12-28T00:13:01.219030",
     "exception": false,
     "start_time": "2020-12-28T00:13:01.161737",
     "status": "completed"
    },
    "tags": []
   },
   "outputs": [],
   "source": [
    "from kudzu.layer import Sigmoid\n",
    "from kudzu.layer import Relu\n",
    "from kudzu.layer import Affine, Sigmoid\n",
    "\n",
    "from kudzu.model import Model\n",
    "from kudzu.train import Learner\n",
    "from kudzu.optim import GD\n",
    "from kudzu.data import Data, Dataloader, Sampler\n",
    "\n",
    "from kudzu.callbacks import AccCallback\n",
    "from kudzu.callbacks import ClfCallback\n",
    "\n",
    "from kudzu.loss import MSE"
   ]
  },
  {
   "cell_type": "markdown",
   "metadata": {
    "papermill": {
     "duration": 0.031481,
     "end_time": "2020-12-28T00:13:01.282475",
     "exception": false,
     "start_time": "2020-12-28T00:13:01.250994",
     "status": "completed"
    },
    "tags": []
   },
   "source": [
    "### Let us create a `Config` class, to store important parameters. \n",
    "This class essentially plays the role of a dictionary."
   ]
  },
  {
   "cell_type": "code",
   "execution_count": 15,
   "metadata": {
    "execution": {
     "iopub.execute_input": "2020-12-28T00:13:01.353758Z",
     "iopub.status.busy": "2020-12-28T00:13:01.352947Z",
     "iopub.status.idle": "2020-12-28T00:13:01.366911Z",
     "shell.execute_reply": "2020-12-28T00:13:01.366382Z"
    },
    "papermill": {
     "duration": 0.053453,
     "end_time": "2020-12-28T00:13:01.367055",
     "exception": false,
     "start_time": "2020-12-28T00:13:01.313602",
     "status": "completed"
    },
    "tags": []
   },
   "outputs": [],
   "source": [
    "class Config:\n",
    "    pass\n",
    "config = Config()\n",
    "config.lr = 0.001\n",
    "config.num_epochs = 251\n",
    "config.bs = 50"
   ]
  },
  {
   "cell_type": "markdown",
   "metadata": {
    "papermill": {
     "duration": 0.030812,
     "end_time": "2020-12-28T00:13:01.428250",
     "exception": false,
     "start_time": "2020-12-28T00:13:01.397438",
     "status": "completed"
    },
    "tags": []
   },
   "source": [
    "### Initializing data to the variables"
   ]
  },
  {
   "cell_type": "code",
   "execution_count": 16,
   "metadata": {
    "execution": {
     "iopub.execute_input": "2020-12-28T00:13:01.492895Z",
     "iopub.status.busy": "2020-12-28T00:13:01.492283Z",
     "iopub.status.idle": "2020-12-28T00:13:01.505510Z",
     "shell.execute_reply": "2020-12-28T00:13:01.504939Z"
    },
    "papermill": {
     "duration": 0.047306,
     "end_time": "2020-12-28T00:13:01.505652",
     "exception": false,
     "start_time": "2020-12-28T00:13:01.458346",
     "status": "completed"
    },
    "tags": []
   },
   "outputs": [],
   "source": [
    "data = Data(X_train, y_train.reshape(-1,1))\n",
    "sampler = Sampler(data, config.bs, shuffle=True)\n",
    "\n",
    "dl = Dataloader(data, sampler)\n",
    "\n",
    "opt = GD(config.lr)\n",
    "loss = MSE()"
   ]
  },
  {
   "cell_type": "code",
   "execution_count": 17,
   "metadata": {
    "execution": {
     "iopub.execute_input": "2020-12-28T00:13:01.577373Z",
     "iopub.status.busy": "2020-12-28T00:13:01.576736Z",
     "iopub.status.idle": "2020-12-28T00:13:01.590728Z",
     "shell.execute_reply": "2020-12-28T00:13:01.591224Z"
    },
    "papermill": {
     "duration": 0.054995,
     "end_time": "2020-12-28T00:13:01.591383",
     "exception": false,
     "start_time": "2020-12-28T00:13:01.536388",
     "status": "completed"
    },
    "tags": []
   },
   "outputs": [],
   "source": [
    "training_xdata = X_train\n",
    "testing_xdata = X_test\n",
    "training_ydata = y_train.reshape(-1,1)\n",
    "testing_ydata = y_test.reshape(-1,1)"
   ]
  },
  {
   "cell_type": "markdown",
   "metadata": {
    "papermill": {
     "duration": 0.029955,
     "end_time": "2020-12-28T00:13:01.652222",
     "exception": false,
     "start_time": "2020-12-28T00:13:01.622267",
     "status": "completed"
    },
    "tags": []
   },
   "source": [
    "### Running Models with the Training data\n",
    "Details about the network layers:\n",
    "- A first affine layer has 784 inputs and does 100 affine transforms. These are followed by a Relu\n",
    "- A second affine layer has 100 inputs from the 100 activations of the past layer, and does 100 affine transforms. These are followed by a Relu\n",
    "- A third affine layer has 100 activations and does 2 affine transformations to create an embedding for visualization. There is no non-linearity here.\n",
    "- A final \"logistic regression\" which has an affine transform from 2 inputs to 1 output, which is squeezed through a sigmoid.\n",
    "\n",
    "Help taken from Anshuman's Notebook."
   ]
  },
  {
   "cell_type": "code",
   "execution_count": 18,
   "metadata": {
    "execution": {
     "iopub.execute_input": "2020-12-28T00:13:01.719179Z",
     "iopub.status.busy": "2020-12-28T00:13:01.717897Z",
     "iopub.status.idle": "2020-12-28T00:13:01.736690Z",
     "shell.execute_reply": "2020-12-28T00:13:01.737217Z"
    },
    "papermill": {
     "duration": 0.053382,
     "end_time": "2020-12-28T00:13:01.737381",
     "exception": false,
     "start_time": "2020-12-28T00:13:01.683999",
     "status": "completed"
    },
    "tags": []
   },
   "outputs": [],
   "source": [
    "# layers for the Neural Network\n",
    "layers = [Affine(\"first\", 784, 100), Relu(\"first\"), Affine(\"second\", 100, 100), Relu(\"second\"), Affine(\"third\", 100, 2), Affine(\"final\", 2, 1), Sigmoid(\"final\")]\n",
    "model_nn = Model(layers)\n",
    "\n",
    "# layers for the Logistic Regression\n",
    "layers_lr = [Affine(\"logits\", 784, 1), Sigmoid(\"sigmoid\")]\n",
    "model_lr = Model(layers_lr)"
   ]
  },
  {
   "cell_type": "code",
   "execution_count": 19,
   "metadata": {
    "execution": {
     "iopub.execute_input": "2020-12-28T00:13:01.802992Z",
     "iopub.status.busy": "2020-12-28T00:13:01.802038Z",
     "iopub.status.idle": "2020-12-28T00:13:01.816782Z",
     "shell.execute_reply": "2020-12-28T00:13:01.816281Z"
    },
    "papermill": {
     "duration": 0.048661,
     "end_time": "2020-12-28T00:13:01.816923",
     "exception": false,
     "start_time": "2020-12-28T00:13:01.768262",
     "status": "completed"
    },
    "tags": []
   },
   "outputs": [],
   "source": [
    "# suffix _nn stands for Neural Network.\n",
    "learner_nn = Learner(loss, model_nn, opt, config.num_epochs)\n",
    "acc_nn = ClfCallback(learner_nn, config.bs, training_xdata , testing_xdata, training_ydata, testing_ydata)\n",
    "learner_nn.set_callbacks([acc_nn])"
   ]
  },
  {
   "cell_type": "code",
   "execution_count": 20,
   "metadata": {
    "execution": {
     "iopub.execute_input": "2020-12-28T00:13:01.883234Z",
     "iopub.status.busy": "2020-12-28T00:13:01.882616Z",
     "iopub.status.idle": "2020-12-28T00:14:39.153585Z",
     "shell.execute_reply": "2020-12-28T00:14:39.154590Z"
    },
    "papermill": {
     "duration": 97.308322,
     "end_time": "2020-12-28T00:14:39.154756",
     "exception": false,
     "start_time": "2020-12-28T00:13:01.846434",
     "status": "completed"
    },
    "tags": []
   },
   "outputs": [
    {
     "name": "stdout",
     "output_type": "stream",
     "text": [
      "====== Neural Network ======\n"
     ]
    },
    {
     "name": "stdout",
     "output_type": "stream",
     "text": [
      "Epoch 0, Loss 0.2382\n",
      "Training Accuracy: 0.7159, Testing Accuracy: 0.7480\n",
      "\n"
     ]
    },
    {
     "name": "stdout",
     "output_type": "stream",
     "text": [
      "Epoch 10, Loss 0.0805\n",
      "Training Accuracy: 0.9170, Testing Accuracy: 0.9304\n",
      "\n"
     ]
    },
    {
     "name": "stdout",
     "output_type": "stream",
     "text": [
      "Epoch 20, Loss 0.0528\n",
      "Training Accuracy: 0.9417, Testing Accuracy: 0.9551\n",
      "\n"
     ]
    },
    {
     "name": "stdout",
     "output_type": "stream",
     "text": [
      "Epoch 30, Loss 0.0424\n",
      "Training Accuracy: 0.9522, Testing Accuracy: 0.9622\n",
      "\n"
     ]
    },
    {
     "name": "stdout",
     "output_type": "stream",
     "text": [
      "Epoch 40, Loss 0.0369\n",
      "Training Accuracy: 0.9572, Testing Accuracy: 0.9677\n",
      "\n"
     ]
    },
    {
     "name": "stdout",
     "output_type": "stream",
     "text": [
      "Epoch 50, Loss 0.0333\n",
      "Training Accuracy: 0.9618, Testing Accuracy: 0.9703\n",
      "\n"
     ]
    },
    {
     "name": "stdout",
     "output_type": "stream",
     "text": [
      "Epoch 60, Loss 0.0308\n",
      "Training Accuracy: 0.9654, Testing Accuracy: 0.9693\n",
      "\n"
     ]
    },
    {
     "name": "stdout",
     "output_type": "stream",
     "text": [
      "Epoch 70, Loss 0.0288\n",
      "Training Accuracy: 0.9669, Testing Accuracy: 0.9703\n",
      "\n"
     ]
    },
    {
     "name": "stdout",
     "output_type": "stream",
     "text": [
      "Epoch 80, Loss 0.0273\n",
      "Training Accuracy: 0.9690, Testing Accuracy: 0.9723\n",
      "\n"
     ]
    },
    {
     "name": "stdout",
     "output_type": "stream",
     "text": [
      "Epoch 90, Loss 0.026\n",
      "Training Accuracy: 0.9704, Testing Accuracy: 0.9723\n",
      "\n"
     ]
    },
    {
     "name": "stdout",
     "output_type": "stream",
     "text": [
      "Epoch 100, Loss 0.0248\n",
      "Training Accuracy: 0.9718, Testing Accuracy: 0.9728\n",
      "\n"
     ]
    },
    {
     "name": "stdout",
     "output_type": "stream",
     "text": [
      "Epoch 110, Loss 0.0239\n",
      "Training Accuracy: 0.9726, Testing Accuracy: 0.9728\n",
      "\n"
     ]
    },
    {
     "name": "stdout",
     "output_type": "stream",
     "text": [
      "Epoch 120, Loss 0.023\n",
      "Training Accuracy: 0.9737, Testing Accuracy: 0.9738\n",
      "\n"
     ]
    },
    {
     "name": "stdout",
     "output_type": "stream",
     "text": [
      "Epoch 130, Loss 0.0222\n",
      "Training Accuracy: 0.9750, Testing Accuracy: 0.9743\n",
      "\n"
     ]
    },
    {
     "name": "stdout",
     "output_type": "stream",
     "text": [
      "Epoch 140, Loss 0.0215\n",
      "Training Accuracy: 0.9757, Testing Accuracy: 0.9753\n",
      "\n"
     ]
    },
    {
     "name": "stdout",
     "output_type": "stream",
     "text": [
      "Epoch 150, Loss 0.0209\n",
      "Training Accuracy: 0.9765, Testing Accuracy: 0.9753\n",
      "\n"
     ]
    },
    {
     "name": "stdout",
     "output_type": "stream",
     "text": [
      "Epoch 160, Loss 0.0203\n",
      "Training Accuracy: 0.9775, Testing Accuracy: 0.9763\n",
      "\n"
     ]
    },
    {
     "name": "stdout",
     "output_type": "stream",
     "text": [
      "Epoch 170, Loss 0.0197\n",
      "Training Accuracy: 0.9775, Testing Accuracy: 0.9763\n",
      "\n"
     ]
    },
    {
     "name": "stdout",
     "output_type": "stream",
     "text": [
      "Epoch 180, Loss 0.0192\n",
      "Training Accuracy: 0.9782, Testing Accuracy: 0.9773\n",
      "\n"
     ]
    },
    {
     "name": "stdout",
     "output_type": "stream",
     "text": [
      "Epoch 190, Loss 0.0187\n",
      "Training Accuracy: 0.9789, Testing Accuracy: 0.9773\n",
      "\n"
     ]
    },
    {
     "name": "stdout",
     "output_type": "stream",
     "text": [
      "Epoch 200, Loss 0.0182\n",
      "Training Accuracy: 0.9793, Testing Accuracy: 0.9778\n",
      "\n"
     ]
    },
    {
     "name": "stdout",
     "output_type": "stream",
     "text": [
      "Epoch 210, Loss 0.0178\n",
      "Training Accuracy: 0.9799, Testing Accuracy: 0.9793\n",
      "\n"
     ]
    },
    {
     "name": "stdout",
     "output_type": "stream",
     "text": [
      "Epoch 220, Loss 0.0173\n",
      "Training Accuracy: 0.9805, Testing Accuracy: 0.9798\n",
      "\n"
     ]
    },
    {
     "name": "stdout",
     "output_type": "stream",
     "text": [
      "Epoch 230, Loss 0.0169\n",
      "Training Accuracy: 0.9813, Testing Accuracy: 0.9793\n",
      "\n"
     ]
    },
    {
     "name": "stdout",
     "output_type": "stream",
     "text": [
      "Epoch 240, Loss 0.0165\n",
      "Training Accuracy: 0.9820, Testing Accuracy: 0.9803\n",
      "\n"
     ]
    },
    {
     "name": "stdout",
     "output_type": "stream",
     "text": [
      "Epoch 250, Loss 0.0161\n",
      "Training Accuracy: 0.9826, Testing Accuracy: 0.9808\n",
      "\n"
     ]
    },
    {
     "data": {
      "text/plain": [
       "0.009059937866287733"
      ]
     },
     "execution_count": 20,
     "metadata": {},
     "output_type": "execute_result"
    }
   ],
   "source": [
    "print(\"====== Neural Network ======\")\n",
    "learner_nn.train_loop(dl)"
   ]
  },
  {
   "cell_type": "markdown",
   "metadata": {
    "papermill": {
     "duration": 0.048239,
     "end_time": "2020-12-28T00:14:39.244304",
     "exception": false,
     "start_time": "2020-12-28T00:14:39.196065",
     "status": "completed"
    },
    "tags": []
   },
   "source": [
    "### Logistic Regression based Implementation."
   ]
  },
  {
   "cell_type": "code",
   "execution_count": 21,
   "metadata": {
    "execution": {
     "iopub.execute_input": "2020-12-28T00:14:39.331069Z",
     "iopub.status.busy": "2020-12-28T00:14:39.330125Z",
     "iopub.status.idle": "2020-12-28T00:14:39.342445Z",
     "shell.execute_reply": "2020-12-28T00:14:39.341904Z"
    },
    "papermill": {
     "duration": 0.058061,
     "end_time": "2020-12-28T00:14:39.342583",
     "exception": false,
     "start_time": "2020-12-28T00:14:39.284522",
     "status": "completed"
    },
    "tags": []
   },
   "outputs": [],
   "source": [
    "learner_lr = Learner(loss, model_lr, opt, config.num_epochs)\n",
    "acc_lr = ClfCallback(learner_lr, config.bs, training_xdata , testing_xdata, training_ydata, testing_ydata)\n",
    "learner_lr.set_callbacks([acc_lr])"
   ]
  },
  {
   "cell_type": "code",
   "execution_count": 22,
   "metadata": {
    "execution": {
     "iopub.execute_input": "2020-12-28T00:14:39.424964Z",
     "iopub.status.busy": "2020-12-28T00:14:39.424302Z",
     "iopub.status.idle": "2020-12-28T00:14:56.895380Z",
     "shell.execute_reply": "2020-12-28T00:14:56.894786Z"
    },
    "papermill": {
     "duration": 17.513015,
     "end_time": "2020-12-28T00:14:56.895533",
     "exception": false,
     "start_time": "2020-12-28T00:14:39.382518",
     "status": "completed"
    },
    "tags": []
   },
   "outputs": [
    {
     "name": "stdout",
     "output_type": "stream",
     "text": [
      "====== Logistic Regression ======\n",
      "Epoch 0, Loss 0.2388\n",
      "Training Accuracy: 0.7157, Testing Accuracy: 0.7253\n",
      "\n"
     ]
    },
    {
     "name": "stdout",
     "output_type": "stream",
     "text": [
      "Epoch 10, Loss 0.1021\n",
      "Training Accuracy: 0.9081, Testing Accuracy: 0.9269\n",
      "\n"
     ]
    },
    {
     "name": "stdout",
     "output_type": "stream",
     "text": [
      "Epoch 20, Loss 0.0789\n",
      "Training Accuracy: 0.9251, Testing Accuracy: 0.9420\n",
      "\n"
     ]
    },
    {
     "name": "stdout",
     "output_type": "stream",
     "text": [
      "Epoch 30, Loss 0.0681\n",
      "Training Accuracy: 0.9343, Testing Accuracy: 0.9501\n",
      "\n"
     ]
    },
    {
     "name": "stdout",
     "output_type": "stream",
     "text": [
      "Epoch 40, Loss 0.0616\n",
      "Training Accuracy: 0.9397, Testing Accuracy: 0.9536\n",
      "\n"
     ]
    },
    {
     "name": "stdout",
     "output_type": "stream",
     "text": [
      "Epoch 50, Loss 0.0571\n",
      "Training Accuracy: 0.9432, Testing Accuracy: 0.9556\n",
      "\n"
     ]
    },
    {
     "name": "stdout",
     "output_type": "stream",
     "text": [
      "Epoch 60, Loss 0.0538\n",
      "Training Accuracy: 0.9463, Testing Accuracy: 0.9592\n",
      "\n"
     ]
    },
    {
     "name": "stdout",
     "output_type": "stream",
     "text": [
      "Epoch 70, Loss 0.0513\n",
      "Training Accuracy: 0.9488, Testing Accuracy: 0.9612\n",
      "\n"
     ]
    },
    {
     "name": "stdout",
     "output_type": "stream",
     "text": [
      "Epoch 80, Loss 0.0492\n",
      "Training Accuracy: 0.9504, Testing Accuracy: 0.9607\n",
      "\n"
     ]
    },
    {
     "name": "stdout",
     "output_type": "stream",
     "text": [
      "Epoch 90, Loss 0.0475\n",
      "Training Accuracy: 0.9513, Testing Accuracy: 0.9612\n",
      "\n"
     ]
    },
    {
     "name": "stdout",
     "output_type": "stream",
     "text": [
      "Epoch 100, Loss 0.0461\n",
      "Training Accuracy: 0.9522, Testing Accuracy: 0.9627\n",
      "\n"
     ]
    },
    {
     "name": "stdout",
     "output_type": "stream",
     "text": [
      "Epoch 110, Loss 0.0448\n",
      "Training Accuracy: 0.9540, Testing Accuracy: 0.9632\n",
      "\n"
     ]
    },
    {
     "name": "stdout",
     "output_type": "stream",
     "text": [
      "Epoch 120, Loss 0.0438\n",
      "Training Accuracy: 0.9546, Testing Accuracy: 0.9632\n",
      "\n"
     ]
    },
    {
     "name": "stdout",
     "output_type": "stream",
     "text": [
      "Epoch 130, Loss 0.0428\n",
      "Training Accuracy: 0.9553, Testing Accuracy: 0.9632\n",
      "\n"
     ]
    },
    {
     "name": "stdout",
     "output_type": "stream",
     "text": [
      "Epoch 140, Loss 0.042\n",
      "Training Accuracy: 0.9562, Testing Accuracy: 0.9647\n",
      "\n"
     ]
    },
    {
     "name": "stdout",
     "output_type": "stream",
     "text": [
      "Epoch 150, Loss 0.0412\n",
      "Training Accuracy: 0.9566, Testing Accuracy: 0.9652\n",
      "\n"
     ]
    },
    {
     "name": "stdout",
     "output_type": "stream",
     "text": [
      "Epoch 160, Loss 0.0405\n",
      "Training Accuracy: 0.9576, Testing Accuracy: 0.9657\n",
      "\n"
     ]
    },
    {
     "name": "stdout",
     "output_type": "stream",
     "text": [
      "Epoch 170, Loss 0.0399\n",
      "Training Accuracy: 0.9576, Testing Accuracy: 0.9662\n",
      "\n"
     ]
    },
    {
     "name": "stdout",
     "output_type": "stream",
     "text": [
      "Epoch 180, Loss 0.0394\n",
      "Training Accuracy: 0.9579, Testing Accuracy: 0.9667\n",
      "\n"
     ]
    },
    {
     "name": "stdout",
     "output_type": "stream",
     "text": [
      "Epoch 190, Loss 0.0388\n",
      "Training Accuracy: 0.9585, Testing Accuracy: 0.9672\n",
      "\n"
     ]
    },
    {
     "name": "stdout",
     "output_type": "stream",
     "text": [
      "Epoch 200, Loss 0.0384\n",
      "Training Accuracy: 0.9594, Testing Accuracy: 0.9672\n",
      "\n"
     ]
    },
    {
     "name": "stdout",
     "output_type": "stream",
     "text": [
      "Epoch 210, Loss 0.0379\n",
      "Training Accuracy: 0.9599, Testing Accuracy: 0.9677\n",
      "\n"
     ]
    },
    {
     "name": "stdout",
     "output_type": "stream",
     "text": [
      "Epoch 220, Loss 0.0375\n",
      "Training Accuracy: 0.9602, Testing Accuracy: 0.9677\n",
      "\n"
     ]
    },
    {
     "name": "stdout",
     "output_type": "stream",
     "text": [
      "Epoch 230, Loss 0.0371\n",
      "Training Accuracy: 0.9609, Testing Accuracy: 0.9677\n",
      "\n"
     ]
    },
    {
     "name": "stdout",
     "output_type": "stream",
     "text": [
      "Epoch 240, Loss 0.0368\n",
      "Training Accuracy: 0.9610, Testing Accuracy: 0.9677\n",
      "\n"
     ]
    },
    {
     "name": "stdout",
     "output_type": "stream",
     "text": [
      "Epoch 250, Loss 0.0364\n",
      "Training Accuracy: 0.9616, Testing Accuracy: 0.9677\n",
      "\n"
     ]
    },
    {
     "data": {
      "text/plain": [
       "0.013653380120141579"
      ]
     },
     "execution_count": 22,
     "metadata": {},
     "output_type": "execute_result"
    }
   ],
   "source": [
    "print(\"====== Logistic Regression ======\")\n",
    "learner_lr.train_loop(dl)"
   ]
  },
  {
   "cell_type": "markdown",
   "metadata": {
    "papermill": {
     "duration": 0.050645,
     "end_time": "2020-12-28T00:14:56.994366",
     "exception": false,
     "start_time": "2020-12-28T00:14:56.943721",
     "status": "completed"
    },
    "tags": []
   },
   "source": [
    "### Comparing results of NN and LR"
   ]
  },
  {
   "cell_type": "code",
   "execution_count": 23,
   "metadata": {
    "execution": {
     "iopub.execute_input": "2020-12-28T00:14:57.093539Z",
     "iopub.status.busy": "2020-12-28T00:14:57.092879Z",
     "iopub.status.idle": "2020-12-28T00:14:57.362633Z",
     "shell.execute_reply": "2020-12-28T00:14:57.363152Z"
    },
    "papermill": {
     "duration": 0.322885,
     "end_time": "2020-12-28T00:14:57.363324",
     "exception": false,
     "start_time": "2020-12-28T00:14:57.040439",
     "status": "completed"
    },
    "tags": []
   },
   "outputs": [
    {
     "data": {
      "text/plain": [
       "<matplotlib.legend.Legend at 0x7f91b3fbcb70>"
      ]
     },
     "execution_count": 23,
     "metadata": {},
     "output_type": "execute_result"
    },
    {
     "data": {
      "image/png": "[encoded data removed]",
      "text/plain": [
       "<Figure size 1080x720 with 1 Axes>"
      ]
     },
     "metadata": {
      "needs_background": "light"
     },
     "output_type": "display_data"
    }
   ],
   "source": [
    "plt.figure(figsize=(15,10))\n",
    "\n",
    "# Neural Network plots\n",
    "plt.plot(acc_nn.accuracies, 'r-', label = \"Training Accuracies - NN\")\n",
    "plt.plot(acc_nn.test_accuracies, 'g-', label = \"Testing Accuracies - NN\")\n",
    "\n",
    "# Logistic Regression plots\n",
    "plt.plot(acc_lr.accuracies, 'k-', label = \"Training Accuracies - LR\")\n",
    "plt.plot(acc_lr.test_accuracies, 'b-', label = \"Testing Accuracies - LR\")\n",
    "\n",
    "plt.ylim(0.8, 1)\n",
    "\n",
    "plt.legend()\n",
    "\n"
   ]
  },
  {
   "cell_type": "markdown",
   "metadata": {
    "papermill": {
     "duration": 0.050305,
     "end_time": "2020-12-28T00:14:57.463014",
     "exception": false,
     "start_time": "2020-12-28T00:14:57.412709",
     "status": "completed"
    },
    "tags": []
   },
   "source": [
    "### From the plot, we can observe the following:\n",
    "- Neural Network achieves higher accuracy than the Logistic Regression model.\n",
    "- This apparently, is because of overfitting, i.e. NN captures more noise than data.\n",
    "- Testing accuracy of NN drops below the Training accuracy at higher epochs. This explains the over-fitting on training data.\n",
    "- Logistic Regression gives a reliable accuracy, without the above mentioned problem.\n"
   ]
  },
  {
   "cell_type": "markdown",
   "metadata": {
    "papermill": {
     "duration": 0.048743,
     "end_time": "2020-12-28T00:14:57.559257",
     "exception": false,
     "start_time": "2020-12-28T00:14:57.510514",
     "status": "completed"
    },
    "tags": []
   },
   "source": [
    "### Moving till the last but one layer (excluding it).\n",
    "#### Plotting the outputs of this layer of the NN."
   ]
  },
  {
   "cell_type": "code",
   "execution_count": 24,
   "metadata": {
    "execution": {
     "iopub.execute_input": "2020-12-28T00:14:57.663691Z",
     "iopub.status.busy": "2020-12-28T00:14:57.661794Z",
     "iopub.status.idle": "2020-12-28T00:14:57.675589Z",
     "shell.execute_reply": "2020-12-28T00:14:57.675082Z"
    },
    "papermill": {
     "duration": 0.067973,
     "end_time": "2020-12-28T00:14:57.675730",
     "exception": false,
     "start_time": "2020-12-28T00:14:57.607757",
     "status": "completed"
    },
    "tags": []
   },
   "outputs": [],
   "source": [
    "model_new = Model(layers[:-2])"
   ]
  },
  {
   "cell_type": "code",
   "execution_count": 25,
   "metadata": {
    "execution": {
     "iopub.execute_input": "2020-12-28T00:14:57.783479Z",
     "iopub.status.busy": "2020-12-28T00:14:57.782676Z",
     "iopub.status.idle": "2020-12-28T00:14:57.802691Z",
     "shell.execute_reply": "2020-12-28T00:14:57.803184Z"
    },
    "papermill": {
     "duration": 0.078732,
     "end_time": "2020-12-28T00:14:57.803359",
     "exception": false,
     "start_time": "2020-12-28T00:14:57.724627",
     "status": "completed"
    },
    "tags": []
   },
   "outputs": [],
   "source": [
    "plot_testing = model_new(testing_xdata)"
   ]
  },
  {
   "cell_type": "code",
   "execution_count": 26,
   "metadata": {
    "execution": {
     "iopub.execute_input": "2020-12-28T00:14:57.919142Z",
     "iopub.status.busy": "2020-12-28T00:14:57.918356Z",
     "iopub.status.idle": "2020-12-28T00:14:58.135285Z",
     "shell.execute_reply": "2020-12-28T00:14:58.134507Z"
    },
    "papermill": {
     "duration": 0.27849,
     "end_time": "2020-12-28T00:14:58.135447",
     "exception": false,
     "start_time": "2020-12-28T00:14:57.856957",
     "status": "completed"
    },
    "tags": []
   },
   "outputs": [
    {
     "data": {
      "text/plain": [
       "Text(0.5, 1.0, 'Outputs')"
      ]
     },
     "execution_count": 26,
     "metadata": {},
     "output_type": "execute_result"
    },
    {
     "data": {
      "image/png": "[encoded data removed]",
      "text/plain": [
       "<Figure size 576x504 with 1 Axes>"
      ]
     },
     "metadata": {
      "needs_background": "light"
     },
     "output_type": "display_data"
    }
   ],
   "source": [
    "plt.figure(figsize=(8,7))\n",
    "plt.scatter(plot_testing[:,0], plot_testing[:,1], alpha = 0.1, c = y_test.ravel());\n",
    "plt.title('Outputs')"
   ]
  },
  {
   "cell_type": "markdown",
   "metadata": {
    "papermill": {
     "duration": 0.054811,
     "end_time": "2020-12-28T00:14:58.242059",
     "exception": false,
     "start_time": "2020-12-28T00:14:58.187248",
     "status": "completed"
    },
    "tags": []
   },
   "source": [
    "### Plotting probability contours"
   ]
  },
  {
   "cell_type": "code",
   "execution_count": 27,
   "metadata": {
    "execution": {
     "iopub.execute_input": "2020-12-28T00:14:58.359077Z",
     "iopub.status.busy": "2020-12-28T00:14:58.358363Z",
     "iopub.status.idle": "2020-12-28T00:14:58.373415Z",
     "shell.execute_reply": "2020-12-28T00:14:58.373897Z"
    },
    "papermill": {
     "duration": 0.078276,
     "end_time": "2020-12-28T00:14:58.374068",
     "exception": false,
     "start_time": "2020-12-28T00:14:58.295792",
     "status": "completed"
    },
    "tags": []
   },
   "outputs": [],
   "source": [
    "model_prob = Model(layers[-2:]) "
   ]
  },
  {
   "cell_type": "code",
   "execution_count": 28,
   "metadata": {
    "execution": {
     "iopub.execute_input": "2020-12-28T00:14:58.483550Z",
     "iopub.status.busy": "2020-12-28T00:14:58.482934Z",
     "iopub.status.idle": "2020-12-28T00:14:58.497400Z",
     "shell.execute_reply": "2020-12-28T00:14:58.497874Z"
    },
    "papermill": {
     "duration": 0.070776,
     "end_time": "2020-12-28T00:14:58.498042",
     "exception": false,
     "start_time": "2020-12-28T00:14:58.427266",
     "status": "completed"
    },
    "tags": []
   },
   "outputs": [],
   "source": [
    "# Adjust the x and y ranges according to the above generated plot.\n",
    "x_range = np.linspace(-4, 1, 100) \n",
    "y_range = np.linspace(-6, 6, 100) \n",
    "x_grid, y_grid = np.meshgrid(x_range, y_range) # x_grid and y_grig are of size 100 X 100\n",
    "\n",
    "# converting x_grid and y_grid to continuous arrays\n",
    "x_grid_flat = np.ravel(x_grid)\n",
    "y_grid_flat = np.ravel(y_grid)\n",
    "\n",
    "# The last layer of the current model takes two columns as input. Hence transpose of np.vstack() is required.\n",
    "X = np.vstack((x_grid_flat, y_grid_flat)).T\n",
    "\n",
    "# x_grid and y_grid are of size 100 x 100\n",
    "probability_contour = model_prob(X).reshape(100,100) "
   ]
  },
  {
   "cell_type": "code",
   "execution_count": 29,
   "metadata": {
    "execution": {
     "iopub.execute_input": "2020-12-28T00:14:58.646835Z",
     "iopub.status.busy": "2020-12-28T00:14:58.646213Z",
     "iopub.status.idle": "2020-12-28T00:14:58.924749Z",
     "shell.execute_reply": "2020-12-28T00:14:58.924234Z"
    },
    "papermill": {
     "duration": 0.341216,
     "end_time": "2020-12-28T00:14:58.924890",
     "exception": false,
     "start_time": "2020-12-28T00:14:58.583674",
     "status": "completed"
    },
    "tags": []
   },
   "outputs": [
    {
     "data": {
      "image/png": "[encoded data removed]",
      "text/plain": [
       "<Figure size 720x648 with 1 Axes>"
      ]
     },
     "metadata": {
      "needs_background": "light"
     },
     "output_type": "display_data"
    }
   ],
   "source": [
    "plt.figure(figsize=(10,9))\n",
    "plt.scatter(plot_testing[:,0], plot_testing[:,1], alpha = 0.1, c = y_test.ravel())\n",
    "contours = plt.contour(x_grid,y_grid,probability_contour)\n",
    "plt.title('Probability Contours')\n",
    "plt.clabel(contours, inline = True );"
   ]
  }
 ],
 "metadata": {
  "kernelspec": {
   "display_name": "Python 3",
   "language": "python",
   "name": "python3"
  },
  "language_info": {
   "codemirror_mode": {
    "name": "ipython",
    "version": 3
   },
   "file_extension": ".py",
   "mimetype": "text/x-python",
   "name": "python",
   "nbconvert_exporter": "python",
   "pygments_lexer": "ipython3",
   "version": "3.6.12"
  },
  "papermill": {
   "duration": 125.89781,
   "end_time": "2020-12-28T00:14:59.389690",
   "environment_variables": {},
   "exception": null,
   "input_path": "2020-08-11-NeuralNetwork.ipynb",
   "output_path": "2020-08-11-NeuralNetwork.ipynb",
   "parameters": {},
   "start_time": "2020-12-28T00:12:53.491880",
   "version": "2.1.2"
  }
 },
 "nbformat": 4,
 "nbformat_minor": 4
}