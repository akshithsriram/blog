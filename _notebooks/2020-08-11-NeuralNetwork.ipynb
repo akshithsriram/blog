{
 "cells": [
  {
   "cell_type": "markdown",
   "id": "fitted-suggestion",
   "metadata": {
    "papermill": {
     "duration": 0.032498,
     "end_time": "2021-04-02T10:09:53.786429",
     "exception": false,
     "start_time": "2021-04-02T10:09:53.753931",
     "status": "completed"
    },
    "tags": []
   },
   "source": [
    "# \"A Basic Neural Network: Differentiate Hand-Written Digits\"\n",
    "\n",
    "- badges: true\n",
    "- author: Akshith Sriram"
   ]
  },
  {
   "cell_type": "markdown",
   "id": "signal-flexibility",
   "metadata": {
    "papermill": {
     "duration": 0.03026,
     "end_time": "2021-04-02T10:09:53.851166",
     "exception": false,
     "start_time": "2021-04-02T10:09:53.820906",
     "status": "completed"
    },
    "tags": []
   },
   "source": [
    "### Key Objectives:\n",
    "- Building a neural network that differentiates two hand-written digits 3 and 8.\n",
    "- Comparing the results of this Neural Network (NN) to that of a Logistic Regression (LR) model.\n",
    "\n",
    "### Requirements:\n",
    "- 'Kudzu' : A neural network library that was designed during our course by [Univ.AI](www.univ.ai). \n",
    "- MNIST Database\n",
    "\n",
    "If MNIST is not installed, use the command `!pip install mnist` given below.\n",
    "It can be run both from the command line and Jupyter Notebook."
   ]
  },
  {
   "cell_type": "code",
   "execution_count": 1,
   "id": "british-texture",
   "metadata": {
    "execution": {
     "iopub.execute_input": "2021-04-02T10:09:53.920127Z",
     "iopub.status.busy": "2021-04-02T10:09:53.919420Z",
     "iopub.status.idle": "2021-04-02T10:09:55.537358Z",
     "shell.execute_reply": "2021-04-02T10:09:55.537941Z"
    },
    "papermill": {
     "duration": 1.658616,
     "end_time": "2021-04-02T10:09:55.538219",
     "exception": false,
     "start_time": "2021-04-02T10:09:53.879603",
     "status": "completed"
    },
    "tags": []
   },
   "outputs": [
    {
     "name": "stdout",
     "output_type": "stream",
     "text": [
      "Collecting mnist\r\n"
     ]
    },
    {
     "name": "stdout",
     "output_type": "stream",
     "text": [
      "  Downloading mnist-0.2.2-py2.py3-none-any.whl (3.5 kB)\r\n",
      "Requirement already satisfied: numpy in /opt/hostedtoolcache/Python/3.6.13/x64/lib/python3.6/site-packages (from mnist) (1.19.5)\r\n"
     ]
    },
    {
     "name": "stdout",
     "output_type": "stream",
     "text": [
      "Installing collected packages: mnist\r\n"
     ]
    },
    {
     "name": "stdout",
     "output_type": "stream",
     "text": [
      "Successfully installed mnist-0.2.2\r\n"
     ]
    }
   ],
   "source": [
    "!pip install mnist "
   ]
  },
  {
   "cell_type": "markdown",
   "id": "stunning-extra",
   "metadata": {
    "papermill": {
     "duration": 0.028441,
     "end_time": "2021-04-02T10:09:55.595931",
     "exception": false,
     "start_time": "2021-04-02T10:09:55.567490",
     "status": "completed"
    },
    "tags": []
   },
   "source": [
    "#### Importing necessary libraries"
   ]
  },
  {
   "cell_type": "code",
   "execution_count": 2,
   "id": "wooden-france",
   "metadata": {
    "execution": {
     "iopub.execute_input": "2021-04-02T10:09:55.660303Z",
     "iopub.status.busy": "2021-04-02T10:09:55.659749Z",
     "iopub.status.idle": "2021-04-02T10:09:56.216994Z",
     "shell.execute_reply": "2021-04-02T10:09:56.216446Z"
    },
    "papermill": {
     "duration": 0.592845,
     "end_time": "2021-04-02T10:09:56.217138",
     "exception": false,
     "start_time": "2021-04-02T10:09:55.624293",
     "status": "completed"
    },
    "tags": []
   },
   "outputs": [],
   "source": [
    "%load_ext autoreload\n",
    "%autoreload 2\n",
    "\n",
    "%matplotlib inline\n",
    "import matplotlib.pyplot as plt\n",
    "\n",
    "import numpy as np\n",
    "import pandas as pd"
   ]
  },
  {
   "cell_type": "markdown",
   "id": "stunning-physics",
   "metadata": {
    "papermill": {
     "duration": 0.029069,
     "end_time": "2021-04-02T10:09:56.277040",
     "exception": false,
     "start_time": "2021-04-02T10:09:56.247971",
     "status": "completed"
    },
    "tags": []
   },
   "source": [
    "### Preparing the Data"
   ]
  },
  {
   "cell_type": "code",
   "execution_count": 3,
   "id": "unauthorized-remainder",
   "metadata": {
    "execution": {
     "iopub.execute_input": "2021-04-02T10:09:56.350869Z",
     "iopub.status.busy": "2021-04-02T10:09:56.349980Z",
     "iopub.status.idle": "2021-04-02T10:09:56.358373Z",
     "shell.execute_reply": "2021-04-02T10:09:56.358910Z"
    },
    "papermill": {
     "duration": 0.052534,
     "end_time": "2021-04-02T10:09:56.359032",
     "exception": false,
     "start_time": "2021-04-02T10:09:56.306498",
     "status": "completed"
    },
    "tags": []
   },
   "outputs": [],
   "source": [
    "import mnist"
   ]
  },
  {
   "cell_type": "code",
   "execution_count": 4,
   "id": "correct-antarctica",
   "metadata": {
    "execution": {
     "iopub.execute_input": "2021-04-02T10:09:56.431521Z",
     "iopub.status.busy": "2021-04-02T10:09:56.427174Z",
     "iopub.status.idle": "2021-04-02T10:14:49.544927Z",
     "shell.execute_reply": "2021-04-02T10:14:49.545375Z"
    },
    "papermill": {
     "duration": 293.156856,
     "end_time": "2021-04-02T10:14:49.545513",
     "exception": false,
     "start_time": "2021-04-02T10:09:56.388657",
     "status": "completed"
    },
    "tags": []
   },
   "outputs": [],
   "source": [
    "train_images = mnist.train_images()\n",
    "train_labels = mnist.train_labels()"
   ]
  },
  {
   "cell_type": "code",
   "execution_count": 5,
   "id": "musical-prospect",
   "metadata": {
    "execution": {
     "iopub.execute_input": "2021-04-02T10:14:49.607130Z",
     "iopub.status.busy": "2021-04-02T10:14:49.606593Z",
     "iopub.status.idle": "2021-04-02T10:14:49.621960Z",
     "shell.execute_reply": "2021-04-02T10:14:49.622384Z"
    },
    "papermill": {
     "duration": 0.046661,
     "end_time": "2021-04-02T10:14:49.622497",
     "exception": false,
     "start_time": "2021-04-02T10:14:49.575836",
     "status": "completed"
    },
    "tags": []
   },
   "outputs": [
    {
     "data": {
      "text/plain": [
       "((60000, 28, 28), (60000,))"
      ]
     },
     "execution_count": 5,
     "metadata": {},
     "output_type": "execute_result"
    }
   ],
   "source": [
    "train_images.shape, train_labels.shape"
   ]
  },
  {
   "cell_type": "code",
   "execution_count": 6,
   "id": "preliminary-elizabeth",
   "metadata": {
    "execution": {
     "iopub.execute_input": "2021-04-02T10:14:49.685858Z",
     "iopub.status.busy": "2021-04-02T10:14:49.685232Z",
     "iopub.status.idle": "2021-04-02T10:15:31.876112Z",
     "shell.execute_reply": "2021-04-02T10:15:31.876681Z"
    },
    "papermill": {
     "duration": 42.225506,
     "end_time": "2021-04-02T10:15:31.876879",
     "exception": false,
     "start_time": "2021-04-02T10:14:49.651373",
     "status": "completed"
    },
    "tags": []
   },
   "outputs": [],
   "source": [
    "test_images = mnist.test_images()\n",
    "test_labels = mnist.test_labels()"
   ]
  },
  {
   "cell_type": "code",
   "execution_count": 7,
   "id": "acknowledged-oxygen",
   "metadata": {
    "execution": {
     "iopub.execute_input": "2021-04-02T10:15:31.949301Z",
     "iopub.status.busy": "2021-04-02T10:15:31.945537Z",
     "iopub.status.idle": "2021-04-02T10:15:31.960240Z",
     "shell.execute_reply": "2021-04-02T10:15:31.959783Z"
    },
    "papermill": {
     "duration": 0.048816,
     "end_time": "2021-04-02T10:15:31.960368",
     "exception": false,
     "start_time": "2021-04-02T10:15:31.911552",
     "status": "completed"
    },
    "tags": []
   },
   "outputs": [
    {
     "data": {
      "text/plain": [
       "((10000, 28, 28), (10000,))"
      ]
     },
     "execution_count": 7,
     "metadata": {},
     "output_type": "execute_result"
    }
   ],
   "source": [
    "test_images.shape, test_labels.shape"
   ]
  },
  {
   "cell_type": "code",
   "execution_count": 8,
   "id": "innovative-organic",
   "metadata": {
    "execution": {
     "iopub.execute_input": "2021-04-02T10:15:32.027763Z",
     "iopub.status.busy": "2021-04-02T10:15:32.027235Z",
     "iopub.status.idle": "2021-04-02T10:15:32.204373Z",
     "shell.execute_reply": "2021-04-02T10:15:32.204918Z"
    },
    "papermill": {
     "duration": 0.213257,
     "end_time": "2021-04-02T10:15:32.205058",
     "exception": false,
     "start_time": "2021-04-02T10:15:31.991801",
     "status": "completed"
    },
    "tags": []
   },
   "outputs": [
    {
     "name": "stdout",
     "output_type": "stream",
     "text": [
      "2\n"
     ]
    },
    {
     "data": {
      "text/plain": [
       "<matplotlib.image.AxesImage at 0x7faf3f7da9e8>"
      ]
     },
     "execution_count": 8,
     "metadata": {},
     "output_type": "execute_result"
    },
    {
     "data": {
      "image/png": "[encoded data removed]",
      "text/plain": [
       "<Figure size 432x288 with 1 Axes>"
      ]
     },
     "metadata": {
      "needs_background": "light"
     },
     "output_type": "display_data"
    }
   ],
   "source": [
    "image_index = 7776 # You may select anything up to 60,000\n",
    "print(train_labels[image_index]) \n",
    "plt.imshow(train_images[image_index], cmap='Greys')"
   ]
  },
  {
   "cell_type": "markdown",
   "id": "facial-modem",
   "metadata": {
    "papermill": {
     "duration": 0.033531,
     "end_time": "2021-04-02T10:15:32.272299",
     "exception": false,
     "start_time": "2021-04-02T10:15:32.238768",
     "status": "completed"
    },
    "tags": []
   },
   "source": [
    "## Filter data to get 3 and 8 out"
   ]
  },
  {
   "cell_type": "code",
   "execution_count": 9,
   "id": "thousand-acquisition",
   "metadata": {
    "execution": {
     "iopub.execute_input": "2021-04-02T10:15:32.341808Z",
     "iopub.status.busy": "2021-04-02T10:15:32.341114Z",
     "iopub.status.idle": "2021-04-02T10:15:32.361349Z",
     "shell.execute_reply": "2021-04-02T10:15:32.360782Z"
    },
    "papermill": {
     "duration": 0.056982,
     "end_time": "2021-04-02T10:15:32.361490",
     "exception": false,
     "start_time": "2021-04-02T10:15:32.304508",
     "status": "completed"
    },
    "tags": []
   },
   "outputs": [],
   "source": [
    "train_filter = np.where((train_labels == 3 ) | (train_labels == 8))\n",
    "test_filter = np.where((test_labels == 3) | (test_labels == 8))\n",
    "X_train, y_train = train_images[train_filter], train_labels[train_filter]\n",
    "X_test, y_test = test_images[test_filter], test_labels[test_filter]"
   ]
  },
  {
   "cell_type": "markdown",
   "id": "ruled-access",
   "metadata": {
    "papermill": {
     "duration": 0.032731,
     "end_time": "2021-04-02T10:15:32.429047",
     "exception": false,
     "start_time": "2021-04-02T10:15:32.396316",
     "status": "completed"
    },
    "tags": []
   },
   "source": [
    "We normalize the pixel values in the 0 to 1 range"
   ]
  },
  {
   "cell_type": "code",
   "execution_count": 10,
   "id": "isolated-denver",
   "metadata": {
    "execution": {
     "iopub.execute_input": "2021-04-02T10:15:32.511489Z",
     "iopub.status.busy": "2021-04-02T10:15:32.504367Z",
     "iopub.status.idle": "2021-04-02T10:15:32.562261Z",
     "shell.execute_reply": "2021-04-02T10:15:32.561748Z"
    },
    "papermill": {
     "duration": 0.102142,
     "end_time": "2021-04-02T10:15:32.562463",
     "exception": false,
     "start_time": "2021-04-02T10:15:32.460321",
     "status": "completed"
    },
    "tags": []
   },
   "outputs": [],
   "source": [
    "X_train = X_train/255.\n",
    "X_test = X_test/255."
   ]
  },
  {
   "cell_type": "markdown",
   "id": "perfect-summary",
   "metadata": {
    "papermill": {
     "duration": 0.034472,
     "end_time": "2021-04-02T10:15:32.629814",
     "exception": false,
     "start_time": "2021-04-02T10:15:32.595342",
     "status": "completed"
    },
    "tags": []
   },
   "source": [
    "Setup the labels as 1 (when the digit is 3) and 0 (when the digit is 8)"
   ]
  },
  {
   "cell_type": "code",
   "execution_count": 11,
   "id": "personalized-growing",
   "metadata": {
    "execution": {
     "iopub.execute_input": "2021-04-02T10:15:32.703610Z",
     "iopub.status.busy": "2021-04-02T10:15:32.702957Z",
     "iopub.status.idle": "2021-04-02T10:15:32.713025Z",
     "shell.execute_reply": "2021-04-02T10:15:32.712522Z"
    },
    "papermill": {
     "duration": 0.050807,
     "end_time": "2021-04-02T10:15:32.713136",
     "exception": false,
     "start_time": "2021-04-02T10:15:32.662329",
     "status": "completed"
    },
    "tags": []
   },
   "outputs": [],
   "source": [
    "y_train = 1*(y_train==3)\n",
    "y_test = 1*(y_test==3)"
   ]
  },
  {
   "cell_type": "code",
   "execution_count": 12,
   "id": "considered-virgin",
   "metadata": {
    "execution": {
     "iopub.execute_input": "2021-04-02T10:15:32.782369Z",
     "iopub.status.busy": "2021-04-02T10:15:32.781819Z",
     "iopub.status.idle": "2021-04-02T10:15:32.795668Z",
     "shell.execute_reply": "2021-04-02T10:15:32.795232Z"
    },
    "papermill": {
     "duration": 0.04938,
     "end_time": "2021-04-02T10:15:32.795808",
     "exception": false,
     "start_time": "2021-04-02T10:15:32.746428",
     "status": "completed"
    },
    "tags": []
   },
   "outputs": [
    {
     "data": {
      "text/plain": [
       "((11982, 28, 28), (1984, 28, 28))"
      ]
     },
     "execution_count": 12,
     "metadata": {},
     "output_type": "execute_result"
    }
   ],
   "source": [
    "X_train.shape, X_test.shape"
   ]
  },
  {
   "cell_type": "markdown",
   "id": "civilian-mobile",
   "metadata": {
    "papermill": {
     "duration": 0.033307,
     "end_time": "2021-04-02T10:15:32.860839",
     "exception": false,
     "start_time": "2021-04-02T10:15:32.827532",
     "status": "completed"
    },
    "tags": []
   },
   "source": [
    "### Reshape the input data to create a linear array"
   ]
  },
  {
   "cell_type": "code",
   "execution_count": 13,
   "id": "colonial-adams",
   "metadata": {
    "execution": {
     "iopub.execute_input": "2021-04-02T10:15:32.935017Z",
     "iopub.status.busy": "2021-04-02T10:15:32.934409Z",
     "iopub.status.idle": "2021-04-02T10:15:32.947358Z",
     "shell.execute_reply": "2021-04-02T10:15:32.947864Z"
    },
    "papermill": {
     "duration": 0.051615,
     "end_time": "2021-04-02T10:15:32.948043",
     "exception": false,
     "start_time": "2021-04-02T10:15:32.896428",
     "status": "completed"
    },
    "tags": []
   },
   "outputs": [
    {
     "data": {
      "text/plain": [
       "((11982, 784), (1984, 784))"
      ]
     },
     "execution_count": 13,
     "metadata": {},
     "output_type": "execute_result"
    }
   ],
   "source": [
    "X_train = X_train.reshape(X_train.shape[0], -1)\n",
    "X_test = X_test.reshape(X_test.shape[0], -1)\n",
    "X_train.shape, X_test.shape"
   ]
  },
  {
   "cell_type": "markdown",
   "id": "smart-details",
   "metadata": {
    "papermill": {
     "duration": 0.032701,
     "end_time": "2021-04-02T10:15:33.015100",
     "exception": false,
     "start_time": "2021-04-02T10:15:32.982399",
     "status": "completed"
    },
    "tags": []
   },
   "source": [
    "### Importing appropriate functions from 'Kudzu'"
   ]
  },
  {
   "cell_type": "code",
   "execution_count": 14,
   "id": "celtic-trial",
   "metadata": {
    "execution": {
     "iopub.execute_input": "2021-04-02T10:15:33.093672Z",
     "iopub.status.busy": "2021-04-02T10:15:33.093123Z",
     "iopub.status.idle": "2021-04-02T10:15:33.115358Z",
     "shell.execute_reply": "2021-04-02T10:15:33.115822Z"
    },
    "papermill": {
     "duration": 0.064886,
     "end_time": "2021-04-02T10:15:33.115972",
     "exception": false,
     "start_time": "2021-04-02T10:15:33.051086",
     "status": "completed"
    },
    "tags": []
   },
   "outputs": [],
   "source": [
    "from kudzu.layer import Sigmoid\n",
    "from kudzu.layer import Relu\n",
    "from kudzu.layer import Affine, Sigmoid\n",
    "\n",
    "from kudzu.model import Model\n",
    "from kudzu.train import Learner\n",
    "from kudzu.optim import GD\n",
    "from kudzu.data import Data, Dataloader, Sampler\n",
    "\n",
    "from kudzu.callbacks import AccCallback\n",
    "from kudzu.callbacks import ClfCallback\n",
    "\n",
    "from kudzu.loss import MSE"
   ]
  },
  {
   "cell_type": "markdown",
   "id": "coupled-customer",
   "metadata": {
    "papermill": {
     "duration": 0.03222,
     "end_time": "2021-04-02T10:15:33.182166",
     "exception": false,
     "start_time": "2021-04-02T10:15:33.149946",
     "status": "completed"
    },
    "tags": []
   },
   "source": [
    "### Let us create a `Config` class, to store important parameters. \n",
    "This class essentially plays the role of a dictionary."
   ]
  },
  {
   "cell_type": "code",
   "execution_count": 15,
   "id": "young-ceiling",
   "metadata": {
    "execution": {
     "iopub.execute_input": "2021-04-02T10:15:33.256051Z",
     "iopub.status.busy": "2021-04-02T10:15:33.255522Z",
     "iopub.status.idle": "2021-04-02T10:15:33.267576Z",
     "shell.execute_reply": "2021-04-02T10:15:33.268178Z"
    },
    "papermill": {
     "duration": 0.053311,
     "end_time": "2021-04-02T10:15:33.268396",
     "exception": false,
     "start_time": "2021-04-02T10:15:33.215085",
     "status": "completed"
    },
    "tags": []
   },
   "outputs": [],
   "source": [
    "class Config:\n",
    "    pass\n",
    "config = Config()\n",
    "config.lr = 0.001\n",
    "config.num_epochs = 251\n",
    "config.bs = 50"
   ]
  },
  {
   "cell_type": "markdown",
   "id": "according-mandate",
   "metadata": {
    "papermill": {
     "duration": 0.031043,
     "end_time": "2021-04-02T10:15:33.332761",
     "exception": false,
     "start_time": "2021-04-02T10:15:33.301718",
     "status": "completed"
    },
    "tags": []
   },
   "source": [
    "### Initializing data to the variables"
   ]
  },
  {
   "cell_type": "code",
   "execution_count": 16,
   "id": "academic-disposition",
   "metadata": {
    "execution": {
     "iopub.execute_input": "2021-04-02T10:15:33.404933Z",
     "iopub.status.busy": "2021-04-02T10:15:33.404388Z",
     "iopub.status.idle": "2021-04-02T10:15:33.416237Z",
     "shell.execute_reply": "2021-04-02T10:15:33.416750Z"
    },
    "papermill": {
     "duration": 0.052308,
     "end_time": "2021-04-02T10:15:33.416884",
     "exception": false,
     "start_time": "2021-04-02T10:15:33.364576",
     "status": "completed"
    },
    "tags": []
   },
   "outputs": [],
   "source": [
    "data = Data(X_train, y_train.reshape(-1,1))\n",
    "sampler = Sampler(data, config.bs, shuffle=True)\n",
    "\n",
    "dl = Dataloader(data, sampler)\n",
    "\n",
    "opt = GD(config.lr)\n",
    "loss = MSE()"
   ]
  },
  {
   "cell_type": "code",
   "execution_count": 17,
   "id": "featured-commission",
   "metadata": {
    "execution": {
     "iopub.execute_input": "2021-04-02T10:15:33.488220Z",
     "iopub.status.busy": "2021-04-02T10:15:33.487518Z",
     "iopub.status.idle": "2021-04-02T10:15:33.497839Z",
     "shell.execute_reply": "2021-04-02T10:15:33.497374Z"
    },
    "papermill": {
     "duration": 0.046828,
     "end_time": "2021-04-02T10:15:33.497945",
     "exception": false,
     "start_time": "2021-04-02T10:15:33.451117",
     "status": "completed"
    },
    "tags": []
   },
   "outputs": [],
   "source": [
    "training_xdata = X_train\n",
    "testing_xdata = X_test\n",
    "training_ydata = y_train.reshape(-1,1)\n",
    "testing_ydata = y_test.reshape(-1,1)"
   ]
  },
  {
   "cell_type": "markdown",
   "id": "played-safety",
   "metadata": {
    "papermill": {
     "duration": 0.033899,
     "end_time": "2021-04-02T10:15:33.565340",
     "exception": false,
     "start_time": "2021-04-02T10:15:33.531441",
     "status": "completed"
    },
    "tags": []
   },
   "source": [
    "### Running Models with the Training data\n",
    "Details about the network layers:\n",
    "- A first affine layer has 784 inputs and does 100 affine transforms. These are followed by a Relu\n",
    "- A second affine layer has 100 inputs from the 100 activations of the past layer, and does 100 affine transforms. These are followed by a Relu\n",
    "- A third affine layer has 100 activations and does 2 affine transformations to create an embedding for visualization. There is no non-linearity here.\n",
    "- A final \"logistic regression\" which has an affine transform from 2 inputs to 1 output, which is squeezed through a sigmoid.\n",
    "\n",
    "Help taken from Anshuman's Notebook."
   ]
  },
  {
   "cell_type": "code",
   "execution_count": 18,
   "id": "asian-bankruptcy",
   "metadata": {
    "execution": {
     "iopub.execute_input": "2021-04-02T10:15:33.636984Z",
     "iopub.status.busy": "2021-04-02T10:15:33.636299Z",
     "iopub.status.idle": "2021-04-02T10:15:33.652626Z",
     "shell.execute_reply": "2021-04-02T10:15:33.652158Z"
    },
    "papermill": {
     "duration": 0.057061,
     "end_time": "2021-04-02T10:15:33.652749",
     "exception": false,
     "start_time": "2021-04-02T10:15:33.595688",
     "status": "completed"
    },
    "tags": []
   },
   "outputs": [],
   "source": [
    "# layers for the Neural Network\n",
    "layers = [Affine(\"first\", 784, 100), Relu(\"first\"), Affine(\"second\", 100, 100), Relu(\"second\"), Affine(\"third\", 100, 2), Affine(\"final\", 2, 1), Sigmoid(\"final\")]\n",
    "model_nn = Model(layers)\n",
    "\n",
    "# layers for the Logistic Regression\n",
    "layers_lr = [Affine(\"logits\", 784, 1), Sigmoid(\"sigmoid\")]\n",
    "model_lr = Model(layers_lr)"
   ]
  },
  {
   "cell_type": "code",
   "execution_count": 19,
   "id": "removed-butler",
   "metadata": {
    "execution": {
     "iopub.execute_input": "2021-04-02T10:15:33.732629Z",
     "iopub.status.busy": "2021-04-02T10:15:33.731972Z",
     "iopub.status.idle": "2021-04-02T10:15:33.744379Z",
     "shell.execute_reply": "2021-04-02T10:15:33.744940Z"
    },
    "papermill": {
     "duration": 0.057062,
     "end_time": "2021-04-02T10:15:33.745111",
     "exception": false,
     "start_time": "2021-04-02T10:15:33.688049",
     "status": "completed"
    },
    "tags": []
   },
   "outputs": [],
   "source": [
    "# suffix _nn stands for Neural Network.\n",
    "learner_nn = Learner(loss, model_nn, opt, config.num_epochs)\n",
    "acc_nn = ClfCallback(learner_nn, config.bs, training_xdata , testing_xdata, training_ydata, testing_ydata)\n",
    "learner_nn.set_callbacks([acc_nn])"
   ]
  },
  {
   "cell_type": "code",
   "execution_count": 20,
   "id": "conceptual-throw",
   "metadata": {
    "execution": {
     "iopub.execute_input": "2021-04-02T10:15:33.813246Z",
     "iopub.status.busy": "2021-04-02T10:15:33.812716Z",
     "iopub.status.idle": "2021-04-02T10:17:53.508952Z",
     "shell.execute_reply": "2021-04-02T10:17:53.508447Z"
    },
    "papermill": {
     "duration": 139.730902,
     "end_time": "2021-04-02T10:17:53.509104",
     "exception": false,
     "start_time": "2021-04-02T10:15:33.778202",
     "status": "completed"
    },
    "tags": []
   },
   "outputs": [
    {
     "name": "stdout",
     "output_type": "stream",
     "text": [
      "====== Neural Network ======\n"
     ]
    },
    {
     "name": "stdout",
     "output_type": "stream",
     "text": [
      "Epoch 0, Loss 0.1965\n",
      "Training Accuracy: 0.8109, Testing Accuracy: 0.8211\n",
      "\n"
     ]
    },
    {
     "name": "stdout",
     "output_type": "stream",
     "text": [
      "Epoch 10, Loss 0.0515\n",
      "Training Accuracy: 0.9434, Testing Accuracy: 0.9582\n",
      "\n"
     ]
    },
    {
     "name": "stdout",
     "output_type": "stream",
     "text": [
      "Epoch 20, Loss 0.0376\n",
      "Training Accuracy: 0.9585, Testing Accuracy: 0.9647\n",
      "\n"
     ]
    },
    {
     "name": "stdout",
     "output_type": "stream",
     "text": [
      "Epoch 30, Loss 0.0321\n",
      "Training Accuracy: 0.9638, Testing Accuracy: 0.9698\n",
      "\n"
     ]
    },
    {
     "name": "stdout",
     "output_type": "stream",
     "text": [
      "Epoch 40, Loss 0.0289\n",
      "Training Accuracy: 0.9670, Testing Accuracy: 0.9703\n",
      "\n"
     ]
    },
    {
     "name": "stdout",
     "output_type": "stream",
     "text": [
      "Epoch 50, Loss 0.0268\n",
      "Training Accuracy: 0.9691, Testing Accuracy: 0.9718\n",
      "\n"
     ]
    },
    {
     "name": "stdout",
     "output_type": "stream",
     "text": [
      "Epoch 60, Loss 0.0253\n",
      "Training Accuracy: 0.9712, Testing Accuracy: 0.9728\n",
      "\n"
     ]
    },
    {
     "name": "stdout",
     "output_type": "stream",
     "text": [
      "Epoch 70, Loss 0.024\n",
      "Training Accuracy: 0.9721, Testing Accuracy: 0.9738\n",
      "\n"
     ]
    },
    {
     "name": "stdout",
     "output_type": "stream",
     "text": [
      "Epoch 80, Loss 0.0229\n",
      "Training Accuracy: 0.9741, Testing Accuracy: 0.9753\n",
      "\n"
     ]
    },
    {
     "name": "stdout",
     "output_type": "stream",
     "text": [
      "Epoch 90, Loss 0.022\n",
      "Training Accuracy: 0.9750, Testing Accuracy: 0.9773\n",
      "\n"
     ]
    },
    {
     "name": "stdout",
     "output_type": "stream",
     "text": [
      "Epoch 100, Loss 0.0212\n",
      "Training Accuracy: 0.9760, Testing Accuracy: 0.9773\n",
      "\n"
     ]
    },
    {
     "name": "stdout",
     "output_type": "stream",
     "text": [
      "Epoch 110, Loss 0.0204\n",
      "Training Accuracy: 0.9772, Testing Accuracy: 0.9778\n",
      "\n"
     ]
    },
    {
     "name": "stdout",
     "output_type": "stream",
     "text": [
      "Epoch 120, Loss 0.0197\n",
      "Training Accuracy: 0.9779, Testing Accuracy: 0.9778\n",
      "\n"
     ]
    },
    {
     "name": "stdout",
     "output_type": "stream",
     "text": [
      "Epoch 130, Loss 0.0191\n",
      "Training Accuracy: 0.9788, Testing Accuracy: 0.9778\n",
      "\n"
     ]
    },
    {
     "name": "stdout",
     "output_type": "stream",
     "text": [
      "Epoch 140, Loss 0.0184\n",
      "Training Accuracy: 0.9791, Testing Accuracy: 0.9778\n",
      "\n"
     ]
    },
    {
     "name": "stdout",
     "output_type": "stream",
     "text": [
      "Epoch 150, Loss 0.0179\n",
      "Training Accuracy: 0.9800, Testing Accuracy: 0.9783\n",
      "\n"
     ]
    },
    {
     "name": "stdout",
     "output_type": "stream",
     "text": [
      "Epoch 160, Loss 0.0173\n",
      "Training Accuracy: 0.9812, Testing Accuracy: 0.9788\n",
      "\n"
     ]
    },
    {
     "name": "stdout",
     "output_type": "stream",
     "text": [
      "Epoch 170, Loss 0.0167\n",
      "Training Accuracy: 0.9819, Testing Accuracy: 0.9798\n",
      "\n"
     ]
    },
    {
     "name": "stdout",
     "output_type": "stream",
     "text": [
      "Epoch 180, Loss 0.0162\n",
      "Training Accuracy: 0.9828, Testing Accuracy: 0.9793\n",
      "\n"
     ]
    },
    {
     "name": "stdout",
     "output_type": "stream",
     "text": [
      "Epoch 190, Loss 0.0157\n",
      "Training Accuracy: 0.9834, Testing Accuracy: 0.9788\n",
      "\n"
     ]
    },
    {
     "name": "stdout",
     "output_type": "stream",
     "text": [
      "Epoch 200, Loss 0.0153\n",
      "Training Accuracy: 0.9837, Testing Accuracy: 0.9798\n",
      "\n"
     ]
    },
    {
     "name": "stdout",
     "output_type": "stream",
     "text": [
      "Epoch 210, Loss 0.0148\n",
      "Training Accuracy: 0.9841, Testing Accuracy: 0.9808\n",
      "\n"
     ]
    },
    {
     "name": "stdout",
     "output_type": "stream",
     "text": [
      "Epoch 220, Loss 0.0143\n",
      "Training Accuracy: 0.9850, Testing Accuracy: 0.9803\n",
      "\n"
     ]
    },
    {
     "name": "stdout",
     "output_type": "stream",
     "text": [
      "Epoch 230, Loss 0.0139\n",
      "Training Accuracy: 0.9856, Testing Accuracy: 0.9803\n",
      "\n"
     ]
    },
    {
     "name": "stdout",
     "output_type": "stream",
     "text": [
      "Epoch 240, Loss 0.0135\n",
      "Training Accuracy: 0.9863, Testing Accuracy: 0.9808\n",
      "\n"
     ]
    },
    {
     "name": "stdout",
     "output_type": "stream",
     "text": [
      "Epoch 250, Loss 0.0131\n",
      "Training Accuracy: 0.9869, Testing Accuracy: 0.9808\n",
      "\n"
     ]
    },
    {
     "data": {
      "text/plain": [
       "0.0005160139424425428"
      ]
     },
     "execution_count": 20,
     "metadata": {},
     "output_type": "execute_result"
    }
   ],
   "source": [
    "print(\"====== Neural Network ======\")\n",
    "learner_nn.train_loop(dl)"
   ]
  },
  {
   "cell_type": "markdown",
   "id": "competent-suffering",
   "metadata": {
    "papermill": {
     "duration": 0.042699,
     "end_time": "2021-04-02T10:17:53.592367",
     "exception": false,
     "start_time": "2021-04-02T10:17:53.549668",
     "status": "completed"
    },
    "tags": []
   },
   "source": [
    "### Logistic Regression based Implementation."
   ]
  },
  {
   "cell_type": "code",
   "execution_count": 21,
   "id": "qualified-psychiatry",
   "metadata": {
    "execution": {
     "iopub.execute_input": "2021-04-02T10:17:53.690035Z",
     "iopub.status.busy": "2021-04-02T10:17:53.689441Z",
     "iopub.status.idle": "2021-04-02T10:17:53.701141Z",
     "shell.execute_reply": "2021-04-02T10:17:53.700456Z"
    },
    "papermill": {
     "duration": 0.061671,
     "end_time": "2021-04-02T10:17:53.701297",
     "exception": false,
     "start_time": "2021-04-02T10:17:53.639626",
     "status": "completed"
    },
    "tags": []
   },
   "outputs": [],
   "source": [
    "learner_lr = Learner(loss, model_lr, opt, config.num_epochs)\n",
    "acc_lr = ClfCallback(learner_lr, config.bs, training_xdata , testing_xdata, training_ydata, testing_ydata)\n",
    "learner_lr.set_callbacks([acc_lr])"
   ]
  },
  {
   "cell_type": "code",
   "execution_count": 22,
   "id": "average-outside",
   "metadata": {
    "execution": {
     "iopub.execute_input": "2021-04-02T10:17:53.800283Z",
     "iopub.status.busy": "2021-04-02T10:17:53.799247Z",
     "iopub.status.idle": "2021-04-02T10:18:13.640061Z",
     "shell.execute_reply": "2021-04-02T10:18:13.640631Z"
    },
    "papermill": {
     "duration": 19.894373,
     "end_time": "2021-04-02T10:18:13.640785",
     "exception": false,
     "start_time": "2021-04-02T10:17:53.746412",
     "status": "completed"
    },
    "tags": []
   },
   "outputs": [
    {
     "name": "stdout",
     "output_type": "stream",
     "text": [
      "====== Logistic Regression ======\n",
      "Epoch 0, Loss 0.224\n",
      "Training Accuracy: 0.7485, Testing Accuracy: 0.7510\n",
      "\n"
     ]
    },
    {
     "name": "stdout",
     "output_type": "stream",
     "text": [
      "Epoch 10, Loss 0.1031\n",
      "Training Accuracy: 0.9035, Testing Accuracy: 0.9143\n",
      "\n"
     ]
    },
    {
     "name": "stdout",
     "output_type": "stream",
     "text": [
      "Epoch 20, Loss 0.0801\n",
      "Training Accuracy: 0.9230, Testing Accuracy: 0.9390\n",
      "\n"
     ]
    },
    {
     "name": "stdout",
     "output_type": "stream",
     "text": [
      "Epoch 30, Loss 0.0692\n",
      "Training Accuracy: 0.9327, Testing Accuracy: 0.9456\n",
      "\n"
     ]
    },
    {
     "name": "stdout",
     "output_type": "stream",
     "text": [
      "Epoch 40, Loss 0.0625\n",
      "Training Accuracy: 0.9382, Testing Accuracy: 0.9491\n",
      "\n"
     ]
    },
    {
     "name": "stdout",
     "output_type": "stream",
     "text": [
      "Epoch 50, Loss 0.0579\n",
      "Training Accuracy: 0.9414, Testing Accuracy: 0.9546\n",
      "\n"
     ]
    },
    {
     "name": "stdout",
     "output_type": "stream",
     "text": [
      "Epoch 60, Loss 0.0545\n",
      "Training Accuracy: 0.9441, Testing Accuracy: 0.9567\n",
      "\n"
     ]
    },
    {
     "name": "stdout",
     "output_type": "stream",
     "text": [
      "Epoch 70, Loss 0.0519\n",
      "Training Accuracy: 0.9471, Testing Accuracy: 0.9577\n",
      "\n"
     ]
    },
    {
     "name": "stdout",
     "output_type": "stream",
     "text": [
      "Epoch 80, Loss 0.0497\n",
      "Training Accuracy: 0.9494, Testing Accuracy: 0.9607\n",
      "\n"
     ]
    },
    {
     "name": "stdout",
     "output_type": "stream",
     "text": [
      "Epoch 90, Loss 0.048\n",
      "Training Accuracy: 0.9507, Testing Accuracy: 0.9617\n",
      "\n"
     ]
    },
    {
     "name": "stdout",
     "output_type": "stream",
     "text": [
      "Epoch 100, Loss 0.0465\n",
      "Training Accuracy: 0.9522, Testing Accuracy: 0.9622\n",
      "\n"
     ]
    },
    {
     "name": "stdout",
     "output_type": "stream",
     "text": [
      "Epoch 110, Loss 0.0453\n",
      "Training Accuracy: 0.9531, Testing Accuracy: 0.9622\n",
      "\n"
     ]
    },
    {
     "name": "stdout",
     "output_type": "stream",
     "text": [
      "Epoch 120, Loss 0.0442\n",
      "Training Accuracy: 0.9535, Testing Accuracy: 0.9637\n",
      "\n"
     ]
    },
    {
     "name": "stdout",
     "output_type": "stream",
     "text": [
      "Epoch 130, Loss 0.0432\n",
      "Training Accuracy: 0.9542, Testing Accuracy: 0.9652\n",
      "\n"
     ]
    },
    {
     "name": "stdout",
     "output_type": "stream",
     "text": [
      "Epoch 140, Loss 0.0424\n",
      "Training Accuracy: 0.9554, Testing Accuracy: 0.9657\n",
      "\n"
     ]
    },
    {
     "name": "stdout",
     "output_type": "stream",
     "text": [
      "Epoch 150, Loss 0.0416\n",
      "Training Accuracy: 0.9563, Testing Accuracy: 0.9662\n",
      "\n"
     ]
    },
    {
     "name": "stdout",
     "output_type": "stream",
     "text": [
      "Epoch 160, Loss 0.0409\n",
      "Training Accuracy: 0.9573, Testing Accuracy: 0.9662\n",
      "\n"
     ]
    },
    {
     "name": "stdout",
     "output_type": "stream",
     "text": [
      "Epoch 170, Loss 0.0403\n",
      "Training Accuracy: 0.9572, Testing Accuracy: 0.9662\n",
      "\n"
     ]
    },
    {
     "name": "stdout",
     "output_type": "stream",
     "text": [
      "Epoch 180, Loss 0.0397\n",
      "Training Accuracy: 0.9577, Testing Accuracy: 0.9662\n",
      "\n"
     ]
    },
    {
     "name": "stdout",
     "output_type": "stream",
     "text": [
      "Epoch 190, Loss 0.0392\n",
      "Training Accuracy: 0.9582, Testing Accuracy: 0.9662\n",
      "\n"
     ]
    },
    {
     "name": "stdout",
     "output_type": "stream",
     "text": [
      "Epoch 200, Loss 0.0387\n",
      "Training Accuracy: 0.9589, Testing Accuracy: 0.9667\n",
      "\n"
     ]
    },
    {
     "name": "stdout",
     "output_type": "stream",
     "text": [
      "Epoch 210, Loss 0.0383\n",
      "Training Accuracy: 0.9594, Testing Accuracy: 0.9662\n",
      "\n"
     ]
    },
    {
     "name": "stdout",
     "output_type": "stream",
     "text": [
      "Epoch 220, Loss 0.0379\n",
      "Training Accuracy: 0.9597, Testing Accuracy: 0.9667\n",
      "\n"
     ]
    },
    {
     "name": "stdout",
     "output_type": "stream",
     "text": [
      "Epoch 230, Loss 0.0375\n",
      "Training Accuracy: 0.9604, Testing Accuracy: 0.9667\n",
      "\n"
     ]
    },
    {
     "name": "stdout",
     "output_type": "stream",
     "text": [
      "Epoch 240, Loss 0.0371\n",
      "Training Accuracy: 0.9607, Testing Accuracy: 0.9667\n",
      "\n"
     ]
    },
    {
     "name": "stdout",
     "output_type": "stream",
     "text": [
      "Epoch 250, Loss 0.0367\n",
      "Training Accuracy: 0.9608, Testing Accuracy: 0.9672\n",
      "\n"
     ]
    },
    {
     "data": {
      "text/plain": [
       "0.008884624796283203"
      ]
     },
     "execution_count": 22,
     "metadata": {},
     "output_type": "execute_result"
    }
   ],
   "source": [
    "print(\"====== Logistic Regression ======\")\n",
    "learner_lr.train_loop(dl)"
   ]
  },
  {
   "cell_type": "markdown",
   "id": "adjusted-possible",
   "metadata": {
    "papermill": {
     "duration": 0.046871,
     "end_time": "2021-04-02T10:18:13.737005",
     "exception": false,
     "start_time": "2021-04-02T10:18:13.690134",
     "status": "completed"
    },
    "tags": []
   },
   "source": [
    "### Comparing results of NN and LR"
   ]
  },
  {
   "cell_type": "code",
   "execution_count": 23,
   "id": "mental-multimedia",
   "metadata": {
    "execution": {
     "iopub.execute_input": "2021-04-02T10:18:13.839828Z",
     "iopub.status.busy": "2021-04-02T10:18:13.839267Z",
     "iopub.status.idle": "2021-04-02T10:18:14.103601Z",
     "shell.execute_reply": "2021-04-02T10:18:14.103180Z"
    },
    "papermill": {
     "duration": 0.317424,
     "end_time": "2021-04-02T10:18:14.103715",
     "exception": false,
     "start_time": "2021-04-02T10:18:13.786291",
     "status": "completed"
    },
    "tags": []
   },
   "outputs": [
    {
     "data": {
      "text/plain": [
       "<matplotlib.legend.Legend at 0x7faf37342438>"
      ]
     },
     "execution_count": 23,
     "metadata": {},
     "output_type": "execute_result"
    },
    {
     "data": {
      "image/png": "[encoded data removed]",
      "text/plain": [
       "<Figure size 1080x720 with 1 Axes>"
      ]
     },
     "metadata": {
      "needs_background": "light"
     },
     "output_type": "display_data"
    }
   ],
   "source": [
    "plt.figure(figsize=(15,10))\n",
    "\n",
    "# Neural Network plots\n",
    "plt.plot(acc_nn.accuracies, 'r-', label = \"Training Accuracies - NN\")\n",
    "plt.plot(acc_nn.test_accuracies, 'g-', label = \"Testing Accuracies - NN\")\n",
    "\n",
    "# Logistic Regression plots\n",
    "plt.plot(acc_lr.accuracies, 'k-', label = \"Training Accuracies - LR\")\n",
    "plt.plot(acc_lr.test_accuracies, 'b-', label = \"Testing Accuracies - LR\")\n",
    "\n",
    "plt.ylim(0.8, 1)\n",
    "\n",
    "plt.legend()\n",
    "\n"
   ]
  },
  {
   "cell_type": "markdown",
   "id": "sexual-flesh",
   "metadata": {
    "papermill": {
     "duration": 0.04926,
     "end_time": "2021-04-02T10:18:14.199491",
     "exception": false,
     "start_time": "2021-04-02T10:18:14.150231",
     "status": "completed"
    },
    "tags": []
   },
   "source": [
    "### From the plot, we can observe the following:\n",
    "- Neural Network achieves higher accuracy than the Logistic Regression model.\n",
    "- This apparently, is because of overfitting, i.e. NN captures more noise than data.\n",
    "- Testing accuracy of NN drops below the Training accuracy at higher epochs. This explains the over-fitting on training data.\n",
    "- Logistic Regression gives a reliable accuracy, without the above mentioned problem.\n"
   ]
  },
  {
   "cell_type": "markdown",
   "id": "institutional-pacific",
   "metadata": {
    "papermill": {
     "duration": 0.048855,
     "end_time": "2021-04-02T10:18:14.296609",
     "exception": false,
     "start_time": "2021-04-02T10:18:14.247754",
     "status": "completed"
    },
    "tags": []
   },
   "source": [
    "### Moving till the last but one layer (excluding it).\n",
    "#### Plotting the outputs of this layer of the NN."
   ]
  },
  {
   "cell_type": "code",
   "execution_count": 24,
   "id": "economic-server",
   "metadata": {
    "execution": {
     "iopub.execute_input": "2021-04-02T10:18:14.400187Z",
     "iopub.status.busy": "2021-04-02T10:18:14.399399Z",
     "iopub.status.idle": "2021-04-02T10:18:14.409397Z",
     "shell.execute_reply": "2021-04-02T10:18:14.409807Z"
    },
    "papermill": {
     "duration": 0.064265,
     "end_time": "2021-04-02T10:18:14.409920",
     "exception": false,
     "start_time": "2021-04-02T10:18:14.345655",
     "status": "completed"
    },
    "tags": []
   },
   "outputs": [],
   "source": [
    "model_new = Model(layers[:-2])"
   ]
  },
  {
   "cell_type": "code",
   "execution_count": 25,
   "id": "varied-upgrade",
   "metadata": {
    "execution": {
     "iopub.execute_input": "2021-04-02T10:18:14.506439Z",
     "iopub.status.busy": "2021-04-02T10:18:14.505543Z",
     "iopub.status.idle": "2021-04-02T10:18:14.529791Z",
     "shell.execute_reply": "2021-04-02T10:18:14.530532Z"
    },
    "papermill": {
     "duration": 0.074358,
     "end_time": "2021-04-02T10:18:14.530743",
     "exception": false,
     "start_time": "2021-04-02T10:18:14.456385",
     "status": "completed"
    },
    "tags": []
   },
   "outputs": [],
   "source": [
    "plot_testing = model_new(testing_xdata)"
   ]
  },
  {
   "cell_type": "code",
   "execution_count": 26,
   "id": "specific-handling",
   "metadata": {
    "execution": {
     "iopub.execute_input": "2021-04-02T10:18:14.644574Z",
     "iopub.status.busy": "2021-04-02T10:18:14.644015Z",
     "iopub.status.idle": "2021-04-02T10:18:14.861359Z",
     "shell.execute_reply": "2021-04-02T10:18:14.861819Z"
    },
    "papermill": {
     "duration": 0.281014,
     "end_time": "2021-04-02T10:18:14.861958",
     "exception": false,
     "start_time": "2021-04-02T10:18:14.580944",
     "status": "completed"
    },
    "tags": []
   },
   "outputs": [
    {
     "data": {
      "text/plain": [
       "Text(0.5, 1.0, 'Outputs')"
      ]
     },
     "execution_count": 26,
     "metadata": {},
     "output_type": "execute_result"
    },
    {
     "data": {
      "image/png": "[encoded data removed]",
      "text/plain": [
       "<Figure size 576x504 with 1 Axes>"
      ]
     },
     "metadata": {
      "needs_background": "light"
     },
     "output_type": "display_data"
    }
   ],
   "source": [
    "plt.figure(figsize=(8,7))\n",
    "plt.scatter(plot_testing[:,0], plot_testing[:,1], alpha = 0.1, c = y_test.ravel());\n",
    "plt.title('Outputs')"
   ]
  },
  {
   "cell_type": "markdown",
   "id": "described-knowing",
   "metadata": {
    "papermill": {
     "duration": 0.072331,
     "end_time": "2021-04-02T10:18:14.989125",
     "exception": false,
     "start_time": "2021-04-02T10:18:14.916794",
     "status": "completed"
    },
    "tags": []
   },
   "source": [
    "### Plotting probability contours"
   ]
  },
  {
   "cell_type": "code",
   "execution_count": 27,
   "id": "needed-growing",
   "metadata": {
    "execution": {
     "iopub.execute_input": "2021-04-02T10:18:15.112159Z",
     "iopub.status.busy": "2021-04-02T10:18:15.103587Z",
     "iopub.status.idle": "2021-04-02T10:18:15.115506Z",
     "shell.execute_reply": "2021-04-02T10:18:15.116071Z"
    },
    "papermill": {
     "duration": 0.070766,
     "end_time": "2021-04-02T10:18:15.116196",
     "exception": false,
     "start_time": "2021-04-02T10:18:15.045430",
     "status": "completed"
    },
    "tags": []
   },
   "outputs": [],
   "source": [
    "model_prob = Model(layers[-2:]) "
   ]
  },
  {
   "cell_type": "code",
   "execution_count": 28,
   "id": "introductory-enforcement",
   "metadata": {
    "execution": {
     "iopub.execute_input": "2021-04-02T10:18:15.227081Z",
     "iopub.status.busy": "2021-04-02T10:18:15.226409Z",
     "iopub.status.idle": "2021-04-02T10:18:15.238972Z",
     "shell.execute_reply": "2021-04-02T10:18:15.239378Z"
    },
    "papermill": {
     "duration": 0.071205,
     "end_time": "2021-04-02T10:18:15.239503",
     "exception": false,
     "start_time": "2021-04-02T10:18:15.168298",
     "status": "completed"
    },
    "tags": []
   },
   "outputs": [],
   "source": [
    "# Adjust the x and y ranges according to the above generated plot.\n",
    "x_range = np.linspace(-4, 1, 100) \n",
    "y_range = np.linspace(-6, 6, 100) \n",
    "x_grid, y_grid = np.meshgrid(x_range, y_range) # x_grid and y_grig are of size 100 X 100\n",
    "\n",
    "# converting x_grid and y_grid to continuous arrays\n",
    "x_grid_flat = np.ravel(x_grid)\n",
    "y_grid_flat = np.ravel(y_grid)\n",
    "\n",
    "# The last layer of the current model takes two columns as input. Hence transpose of np.vstack() is required.\n",
    "X = np.vstack((x_grid_flat, y_grid_flat)).T\n",
    "\n",
    "# x_grid and y_grid are of size 100 x 100\n",
    "probability_contour = model_prob(X).reshape(100,100) "
   ]
  },
  {
   "cell_type": "code",
   "execution_count": 29,
   "id": "understood-landing",
   "metadata": {
    "execution": {
     "iopub.execute_input": "2021-04-02T10:18:15.354988Z",
     "iopub.status.busy": "2021-04-02T10:18:15.354443Z",
     "iopub.status.idle": "2021-04-02T10:18:15.618182Z",
     "shell.execute_reply": "2021-04-02T10:18:15.617139Z"
    },
    "papermill": {
     "duration": 0.323417,
     "end_time": "2021-04-02T10:18:15.618317",
     "exception": false,
     "start_time": "2021-04-02T10:18:15.294900",
     "status": "completed"
    },
    "tags": []
   },
   "outputs": [
    {
     "data": {
      "image/png": "[encoded data removed]",
      "text/plain": [
       "<Figure size 720x648 with 1 Axes>"
      ]
     },
     "metadata": {
      "needs_background": "light"
     },
     "output_type": "display_data"
    }
   ],
   "source": [
    "plt.figure(figsize=(10,9))\n",
    "plt.scatter(plot_testing[:,0], plot_testing[:,1], alpha = 0.1, c = y_test.ravel())\n",
    "contours = plt.contour(x_grid,y_grid,probability_contour)\n",
    "plt.title('Probability Contours')\n",
    "plt.clabel(contours, inline = True );"
   ]
  }
 ],
 "metadata": {
  "kernelspec": {
   "display_name": "Python 3",
   "language": "python",
   "name": "python3"
  },
  "language_info": {
   "codemirror_mode": {
    "name": "ipython",
    "version": 3
   },
   "file_extension": ".py",
   "mimetype": "text/x-python",
   "name": "python",
   "nbconvert_exporter": "python",
   "pygments_lexer": "ipython3",
   "version": "3.6.13"
  },
  "papermill": {
   "duration": 504.474967,
   "end_time": "2021-04-02T10:18:16.945409",
   "environment_variables": {},
   "exception": null,
   "input_path": "2020-08-11-NeuralNetwork.ipynb",
   "output_path": "2020-08-11-NeuralNetwork.ipynb",
   "parameters": {},
   "start_time": "2021-04-02T10:09:52.470442",
   "version": "2.1.2"
  }
 },
 "nbformat": 4,
 "nbformat_minor": 5
}