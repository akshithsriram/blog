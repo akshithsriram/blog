{
 "cells": [
  {
   "cell_type": "markdown",
   "metadata": {
    "papermill": {
     "duration": 0.031997,
     "end_time": "2020-10-08T00:06:59.319797",
     "exception": false,
     "start_time": "2020-10-08T00:06:59.287800",
     "status": "completed"
    },
    "tags": []
   },
   "source": [
    "# \"A Basic Neural Network: Differentiate Hand-Written Digits\"\n",
    "\n",
    "- badges: true\n",
    "- author: Akshith Sriram"
   ]
  },
  {
   "cell_type": "markdown",
   "metadata": {
    "papermill": {
     "duration": 0.032862,
     "end_time": "2020-10-08T00:06:59.380245",
     "exception": false,
     "start_time": "2020-10-08T00:06:59.347383",
     "status": "completed"
    },
    "tags": []
   },
   "source": [
    "### Key Objectives:\n",
    "- Building a neural network that differentiates two hand-written digits 3 and 8.\n",
    "- Comparing the results of this Neural Network (NN) to that of a Logistic Regression (LR) model.\n",
    "\n",
    "### Requirements:\n",
    "- 'Kudzu' : A neural network library that was designed during our course by [Univ.AI](www.univ.ai). \n",
    "- MNIST Database\n",
    "\n",
    "If MNIST is not installed, use the command `!pip install mnist` given below.\n",
    "It can be run both from the command line and Jupyter Notebook."
   ]
  },
  {
   "cell_type": "code",
   "execution_count": 1,
   "metadata": {
    "execution": {
     "iopub.execute_input": "2020-10-08T00:06:59.445066Z",
     "iopub.status.busy": "2020-10-08T00:06:59.444346Z",
     "iopub.status.idle": "2020-10-08T00:07:01.096761Z",
     "shell.execute_reply": "2020-10-08T00:07:01.097612Z"
    },
    "papermill": {
     "duration": 1.688867,
     "end_time": "2020-10-08T00:07:01.097888",
     "exception": false,
     "start_time": "2020-10-08T00:06:59.409021",
     "status": "completed"
    },
    "tags": []
   },
   "outputs": [
    {
     "name": "stdout",
     "output_type": "stream",
     "text": [
      "Collecting mnist\r\n"
     ]
    },
    {
     "name": "stdout",
     "output_type": "stream",
     "text": [
      "  Downloading mnist-0.2.2-py2.py3-none-any.whl (3.5 kB)\r\n",
      "Requirement already satisfied: numpy in /opt/hostedtoolcache/Python/3.6.12/x64/lib/python3.6/site-packages (from mnist) (1.19.2)\r\n"
     ]
    },
    {
     "name": "stdout",
     "output_type": "stream",
     "text": [
      "Installing collected packages: mnist\r\n"
     ]
    },
    {
     "name": "stdout",
     "output_type": "stream",
     "text": [
      "Successfully installed mnist-0.2.2\r\n"
     ]
    }
   ],
   "source": [
    "!pip install mnist "
   ]
  },
  {
   "cell_type": "markdown",
   "metadata": {
    "papermill": {
     "duration": 0.028947,
     "end_time": "2020-10-08T00:07:01.157336",
     "exception": false,
     "start_time": "2020-10-08T00:07:01.128389",
     "status": "completed"
    },
    "tags": []
   },
   "source": [
    "#### Importing necessary libraries"
   ]
  },
  {
   "cell_type": "code",
   "execution_count": 2,
   "metadata": {
    "execution": {
     "iopub.execute_input": "2020-10-08T00:07:01.230971Z",
     "iopub.status.busy": "2020-10-08T00:07:01.230247Z",
     "iopub.status.idle": "2020-10-08T00:07:01.921346Z",
     "shell.execute_reply": "2020-10-08T00:07:01.920813Z"
    },
    "papermill": {
     "duration": 0.730811,
     "end_time": "2020-10-08T00:07:01.921496",
     "exception": false,
     "start_time": "2020-10-08T00:07:01.190685",
     "status": "completed"
    },
    "tags": []
   },
   "outputs": [],
   "source": [
    "%load_ext autoreload\n",
    "%autoreload 2\n",
    "\n",
    "%matplotlib inline\n",
    "import matplotlib.pyplot as plt\n",
    "\n",
    "import numpy as np\n",
    "import pandas as pd"
   ]
  },
  {
   "cell_type": "markdown",
   "metadata": {
    "papermill": {
     "duration": 0.029046,
     "end_time": "2020-10-08T00:07:01.987359",
     "exception": false,
     "start_time": "2020-10-08T00:07:01.958313",
     "status": "completed"
    },
    "tags": []
   },
   "source": [
    "### Preparing the Data"
   ]
  },
  {
   "cell_type": "code",
   "execution_count": 3,
   "metadata": {
    "execution": {
     "iopub.execute_input": "2020-10-08T00:07:02.051922Z",
     "iopub.status.busy": "2020-10-08T00:07:02.051298Z",
     "iopub.status.idle": "2020-10-08T00:07:02.066502Z",
     "shell.execute_reply": "2020-10-08T00:07:02.065917Z"
    },
    "papermill": {
     "duration": 0.049547,
     "end_time": "2020-10-08T00:07:02.066642",
     "exception": false,
     "start_time": "2020-10-08T00:07:02.017095",
     "status": "completed"
    },
    "tags": []
   },
   "outputs": [],
   "source": [
    "import mnist"
   ]
  },
  {
   "cell_type": "code",
   "execution_count": 4,
   "metadata": {
    "execution": {
     "iopub.execute_input": "2020-10-08T00:07:02.129543Z",
     "iopub.status.busy": "2020-10-08T00:07:02.128912Z",
     "iopub.status.idle": "2020-10-08T00:07:03.775278Z",
     "shell.execute_reply": "2020-10-08T00:07:03.774226Z"
    },
    "papermill": {
     "duration": 1.678723,
     "end_time": "2020-10-08T00:07:03.775481",
     "exception": false,
     "start_time": "2020-10-08T00:07:02.096758",
     "status": "completed"
    },
    "tags": []
   },
   "outputs": [],
   "source": [
    "train_images = mnist.train_images()\n",
    "train_labels = mnist.train_labels()"
   ]
  },
  {
   "cell_type": "code",
   "execution_count": 5,
   "metadata": {
    "execution": {
     "iopub.execute_input": "2020-10-08T00:07:03.842330Z",
     "iopub.status.busy": "2020-10-08T00:07:03.838809Z",
     "iopub.status.idle": "2020-10-08T00:07:03.855883Z",
     "shell.execute_reply": "2020-10-08T00:07:03.856421Z"
    },
    "papermill": {
     "duration": 0.052179,
     "end_time": "2020-10-08T00:07:03.856584",
     "exception": false,
     "start_time": "2020-10-08T00:07:03.804405",
     "status": "completed"
    },
    "tags": []
   },
   "outputs": [
    {
     "data": {
      "text/plain": [
       "((60000, 28, 28), (60000,))"
      ]
     },
     "execution_count": 5,
     "metadata": {},
     "output_type": "execute_result"
    }
   ],
   "source": [
    "train_images.shape, train_labels.shape"
   ]
  },
  {
   "cell_type": "code",
   "execution_count": 6,
   "metadata": {
    "execution": {
     "iopub.execute_input": "2020-10-08T00:07:03.920223Z",
     "iopub.status.busy": "2020-10-08T00:07:03.919616Z",
     "iopub.status.idle": "2020-10-08T00:07:04.799952Z",
     "shell.execute_reply": "2020-10-08T00:07:04.798915Z"
    },
    "papermill": {
     "duration": 0.9136,
     "end_time": "2020-10-08T00:07:04.800106",
     "exception": false,
     "start_time": "2020-10-08T00:07:03.886506",
     "status": "completed"
    },
    "tags": []
   },
   "outputs": [],
   "source": [
    "test_images = mnist.test_images()\n",
    "test_labels = mnist.test_labels()"
   ]
  },
  {
   "cell_type": "code",
   "execution_count": 7,
   "metadata": {
    "execution": {
     "iopub.execute_input": "2020-10-08T00:07:04.867288Z",
     "iopub.status.busy": "2020-10-08T00:07:04.866669Z",
     "iopub.status.idle": "2020-10-08T00:07:04.880945Z",
     "shell.execute_reply": "2020-10-08T00:07:04.881690Z"
    },
    "papermill": {
     "duration": 0.050242,
     "end_time": "2020-10-08T00:07:04.881865",
     "exception": false,
     "start_time": "2020-10-08T00:07:04.831623",
     "status": "completed"
    },
    "tags": []
   },
   "outputs": [
    {
     "data": {
      "text/plain": [
       "((10000, 28, 28), (10000,))"
      ]
     },
     "execution_count": 7,
     "metadata": {},
     "output_type": "execute_result"
    }
   ],
   "source": [
    "test_images.shape, test_labels.shape"
   ]
  },
  {
   "cell_type": "code",
   "execution_count": 8,
   "metadata": {
    "execution": {
     "iopub.execute_input": "2020-10-08T00:07:04.946850Z",
     "iopub.status.busy": "2020-10-08T00:07:04.946097Z",
     "iopub.status.idle": "2020-10-08T00:07:05.125565Z",
     "shell.execute_reply": "2020-10-08T00:07:05.126068Z"
    },
    "papermill": {
     "duration": 0.215075,
     "end_time": "2020-10-08T00:07:05.126235",
     "exception": false,
     "start_time": "2020-10-08T00:07:04.911160",
     "status": "completed"
    },
    "tags": []
   },
   "outputs": [
    {
     "name": "stdout",
     "output_type": "stream",
     "text": [
      "2\n"
     ]
    },
    {
     "data": {
      "text/plain": [
       "<matplotlib.image.AxesImage at 0x7f4158ec88d0>"
      ]
     },
     "execution_count": 8,
     "metadata": {},
     "output_type": "execute_result"
    },
    {
     "data": {
      "image/png": "[encoded data removed]",
      "text/plain": [
       "<Figure size 432x288 with 1 Axes>"
      ]
     },
     "metadata": {
      "needs_background": "light"
     },
     "output_type": "display_data"
    }
   ],
   "source": [
    "image_index = 7776 # You may select anything up to 60,000\n",
    "print(train_labels[image_index]) \n",
    "plt.imshow(train_images[image_index], cmap='Greys')"
   ]
  },
  {
   "cell_type": "markdown",
   "metadata": {
    "papermill": {
     "duration": 0.032412,
     "end_time": "2020-10-08T00:07:05.188672",
     "exception": false,
     "start_time": "2020-10-08T00:07:05.156260",
     "status": "completed"
    },
    "tags": []
   },
   "source": [
    "## Filter data to get 3 and 8 out"
   ]
  },
  {
   "cell_type": "code",
   "execution_count": 9,
   "metadata": {
    "execution": {
     "iopub.execute_input": "2020-10-08T00:07:05.253229Z",
     "iopub.status.busy": "2020-10-08T00:07:05.252525Z",
     "iopub.status.idle": "2020-10-08T00:07:05.271555Z",
     "shell.execute_reply": "2020-10-08T00:07:05.270932Z"
    },
    "papermill": {
     "duration": 0.053101,
     "end_time": "2020-10-08T00:07:05.271697",
     "exception": false,
     "start_time": "2020-10-08T00:07:05.218596",
     "status": "completed"
    },
    "tags": []
   },
   "outputs": [],
   "source": [
    "train_filter = np.where((train_labels == 3 ) | (train_labels == 8))\n",
    "test_filter = np.where((test_labels == 3) | (test_labels == 8))\n",
    "X_train, y_train = train_images[train_filter], train_labels[train_filter]\n",
    "X_test, y_test = test_images[test_filter], test_labels[test_filter]"
   ]
  },
  {
   "cell_type": "markdown",
   "metadata": {
    "papermill": {
     "duration": 0.029464,
     "end_time": "2020-10-08T00:07:05.330742",
     "exception": false,
     "start_time": "2020-10-08T00:07:05.301278",
     "status": "completed"
    },
    "tags": []
   },
   "source": [
    "We normalize the pixel values in the 0 to 1 range"
   ]
  },
  {
   "cell_type": "code",
   "execution_count": 10,
   "metadata": {
    "execution": {
     "iopub.execute_input": "2020-10-08T00:07:05.393690Z",
     "iopub.status.busy": "2020-10-08T00:07:05.392456Z",
     "iopub.status.idle": "2020-10-08T00:07:05.445108Z",
     "shell.execute_reply": "2020-10-08T00:07:05.445603Z"
    },
    "papermill": {
     "duration": 0.086372,
     "end_time": "2020-10-08T00:07:05.445783",
     "exception": false,
     "start_time": "2020-10-08T00:07:05.359411",
     "status": "completed"
    },
    "tags": []
   },
   "outputs": [],
   "source": [
    "X_train = X_train/255.\n",
    "X_test = X_test/255."
   ]
  },
  {
   "cell_type": "markdown",
   "metadata": {
    "papermill": {
     "duration": 0.033105,
     "end_time": "2020-10-08T00:07:05.509812",
     "exception": false,
     "start_time": "2020-10-08T00:07:05.476707",
     "status": "completed"
    },
    "tags": []
   },
   "source": [
    "Setup the labels as 1 (when the digit is 3) and 0 (when the digit is 8)"
   ]
  },
  {
   "cell_type": "code",
   "execution_count": 11,
   "metadata": {
    "execution": {
     "iopub.execute_input": "2020-10-08T00:07:05.577917Z",
     "iopub.status.busy": "2020-10-08T00:07:05.577268Z",
     "iopub.status.idle": "2020-10-08T00:07:05.590959Z",
     "shell.execute_reply": "2020-10-08T00:07:05.590386Z"
    },
    "papermill": {
     "duration": 0.050125,
     "end_time": "2020-10-08T00:07:05.591098",
     "exception": false,
     "start_time": "2020-10-08T00:07:05.540973",
     "status": "completed"
    },
    "tags": []
   },
   "outputs": [],
   "source": [
    "y_train = 1*(y_train==3)\n",
    "y_test = 1*(y_test==3)"
   ]
  },
  {
   "cell_type": "code",
   "execution_count": 12,
   "metadata": {
    "execution": {
     "iopub.execute_input": "2020-10-08T00:07:05.661157Z",
     "iopub.status.busy": "2020-10-08T00:07:05.660486Z",
     "iopub.status.idle": "2020-10-08T00:07:05.677206Z",
     "shell.execute_reply": "2020-10-08T00:07:05.676561Z"
    },
    "papermill": {
     "duration": 0.05578,
     "end_time": "2020-10-08T00:07:05.677347",
     "exception": false,
     "start_time": "2020-10-08T00:07:05.621567",
     "status": "completed"
    },
    "tags": []
   },
   "outputs": [
    {
     "data": {
      "text/plain": [
       "((11982, 28, 28), (1984, 28, 28))"
      ]
     },
     "execution_count": 12,
     "metadata": {},
     "output_type": "execute_result"
    }
   ],
   "source": [
    "X_train.shape, X_test.shape"
   ]
  },
  {
   "cell_type": "markdown",
   "metadata": {
    "papermill": {
     "duration": 0.029748,
     "end_time": "2020-10-08T00:07:05.738523",
     "exception": false,
     "start_time": "2020-10-08T00:07:05.708775",
     "status": "completed"
    },
    "tags": []
   },
   "source": [
    "### Reshape the input data to create a linear array"
   ]
  },
  {
   "cell_type": "code",
   "execution_count": 13,
   "metadata": {
    "execution": {
     "iopub.execute_input": "2020-10-08T00:07:05.805573Z",
     "iopub.status.busy": "2020-10-08T00:07:05.804844Z",
     "iopub.status.idle": "2020-10-08T00:07:05.820919Z",
     "shell.execute_reply": "2020-10-08T00:07:05.820379Z"
    },
    "papermill": {
     "duration": 0.051668,
     "end_time": "2020-10-08T00:07:05.821056",
     "exception": false,
     "start_time": "2020-10-08T00:07:05.769388",
     "status": "completed"
    },
    "tags": []
   },
   "outputs": [
    {
     "data": {
      "text/plain": [
       "((11982, 784), (1984, 784))"
      ]
     },
     "execution_count": 13,
     "metadata": {},
     "output_type": "execute_result"
    }
   ],
   "source": [
    "X_train = X_train.reshape(X_train.shape[0], -1)\n",
    "X_test = X_test.reshape(X_test.shape[0], -1)\n",
    "X_train.shape, X_test.shape"
   ]
  },
  {
   "cell_type": "markdown",
   "metadata": {
    "papermill": {
     "duration": 0.030828,
     "end_time": "2020-10-08T00:07:05.884673",
     "exception": false,
     "start_time": "2020-10-08T00:07:05.853845",
     "status": "completed"
    },
    "tags": []
   },
   "source": [
    "### Importing appropriate functions from 'Kudzu'"
   ]
  },
  {
   "cell_type": "code",
   "execution_count": 14,
   "metadata": {
    "execution": {
     "iopub.execute_input": "2020-10-08T00:07:05.954249Z",
     "iopub.status.busy": "2020-10-08T00:07:05.953239Z",
     "iopub.status.idle": "2020-10-08T00:07:05.978708Z",
     "shell.execute_reply": "2020-10-08T00:07:05.978138Z"
    },
    "papermill": {
     "duration": 0.061791,
     "end_time": "2020-10-08T00:07:05.978847",
     "exception": false,
     "start_time": "2020-10-08T00:07:05.917056",
     "status": "completed"
    },
    "tags": []
   },
   "outputs": [],
   "source": [
    "from kudzu.layer import Sigmoid\n",
    "from kudzu.layer import Relu\n",
    "from kudzu.layer import Affine, Sigmoid\n",
    "\n",
    "from kudzu.model import Model\n",
    "from kudzu.train import Learner\n",
    "from kudzu.optim import GD\n",
    "from kudzu.data import Data, Dataloader, Sampler\n",
    "\n",
    "from kudzu.callbacks import AccCallback\n",
    "from kudzu.callbacks import ClfCallback\n",
    "\n",
    "from kudzu.loss import MSE"
   ]
  },
  {
   "cell_type": "markdown",
   "metadata": {
    "papermill": {
     "duration": 0.034032,
     "end_time": "2020-10-08T00:07:06.048185",
     "exception": false,
     "start_time": "2020-10-08T00:07:06.014153",
     "status": "completed"
    },
    "tags": []
   },
   "source": [
    "### Let us create a `Config` class, to store important parameters. \n",
    "This class essentially plays the role of a dictionary."
   ]
  },
  {
   "cell_type": "code",
   "execution_count": 15,
   "metadata": {
    "execution": {
     "iopub.execute_input": "2020-10-08T00:07:06.116656Z",
     "iopub.status.busy": "2020-10-08T00:07:06.115969Z",
     "iopub.status.idle": "2020-10-08T00:07:06.130457Z",
     "shell.execute_reply": "2020-10-08T00:07:06.131083Z"
    },
    "papermill": {
     "duration": 0.051682,
     "end_time": "2020-10-08T00:07:06.131258",
     "exception": false,
     "start_time": "2020-10-08T00:07:06.079576",
     "status": "completed"
    },
    "tags": []
   },
   "outputs": [],
   "source": [
    "class Config:\n",
    "    pass\n",
    "config = Config()\n",
    "config.lr = 0.001\n",
    "config.num_epochs = 251\n",
    "config.bs = 50"
   ]
  },
  {
   "cell_type": "markdown",
   "metadata": {
    "papermill": {
     "duration": 0.031025,
     "end_time": "2020-10-08T00:07:06.199444",
     "exception": false,
     "start_time": "2020-10-08T00:07:06.168419",
     "status": "completed"
    },
    "tags": []
   },
   "source": [
    "### Initializing data to the variables"
   ]
  },
  {
   "cell_type": "code",
   "execution_count": 16,
   "metadata": {
    "execution": {
     "iopub.execute_input": "2020-10-08T00:07:06.263852Z",
     "iopub.status.busy": "2020-10-08T00:07:06.263232Z",
     "iopub.status.idle": "2020-10-08T00:07:06.280324Z",
     "shell.execute_reply": "2020-10-08T00:07:06.280885Z"
    },
    "papermill": {
     "duration": 0.050914,
     "end_time": "2020-10-08T00:07:06.281063",
     "exception": false,
     "start_time": "2020-10-08T00:07:06.230149",
     "status": "completed"
    },
    "tags": []
   },
   "outputs": [],
   "source": [
    "data = Data(X_train, y_train.reshape(-1,1))\n",
    "sampler = Sampler(data, config.bs, shuffle=True)\n",
    "\n",
    "dl = Dataloader(data, sampler)\n",
    "\n",
    "opt = GD(config.lr)\n",
    "loss = MSE()"
   ]
  },
  {
   "cell_type": "code",
   "execution_count": 17,
   "metadata": {
    "execution": {
     "iopub.execute_input": "2020-10-08T00:07:06.345276Z",
     "iopub.status.busy": "2020-10-08T00:07:06.344681Z",
     "iopub.status.idle": "2020-10-08T00:07:06.362751Z",
     "shell.execute_reply": "2020-10-08T00:07:06.362193Z"
    },
    "papermill": {
     "duration": 0.051233,
     "end_time": "2020-10-08T00:07:06.362887",
     "exception": false,
     "start_time": "2020-10-08T00:07:06.311654",
     "status": "completed"
    },
    "tags": []
   },
   "outputs": [],
   "source": [
    "training_xdata = X_train\n",
    "testing_xdata = X_test\n",
    "training_ydata = y_train.reshape(-1,1)\n",
    "testing_ydata = y_test.reshape(-1,1)"
   ]
  },
  {
   "cell_type": "markdown",
   "metadata": {
    "papermill": {
     "duration": 0.029115,
     "end_time": "2020-10-08T00:07:06.421374",
     "exception": false,
     "start_time": "2020-10-08T00:07:06.392259",
     "status": "completed"
    },
    "tags": []
   },
   "source": [
    "### Running Models with the Training data\n",
    "Details about the network layers:\n",
    "- A first affine layer has 784 inputs and does 100 affine transforms. These are followed by a Relu\n",
    "- A second affine layer has 100 inputs from the 100 activations of the past layer, and does 100 affine transforms. These are followed by a Relu\n",
    "- A third affine layer has 100 activations and does 2 affine transformations to create an embedding for visualization. There is no non-linearity here.\n",
    "- A final \"logistic regression\" which has an affine transform from 2 inputs to 1 output, which is squeezed through a sigmoid.\n",
    "\n",
    "Help taken from Anshuman's Notebook."
   ]
  },
  {
   "cell_type": "code",
   "execution_count": 18,
   "metadata": {
    "execution": {
     "iopub.execute_input": "2020-10-08T00:07:06.485263Z",
     "iopub.status.busy": "2020-10-08T00:07:06.484646Z",
     "iopub.status.idle": "2020-10-08T00:07:06.506381Z",
     "shell.execute_reply": "2020-10-08T00:07:06.505762Z"
    },
    "papermill": {
     "duration": 0.056022,
     "end_time": "2020-10-08T00:07:06.506526",
     "exception": false,
     "start_time": "2020-10-08T00:07:06.450504",
     "status": "completed"
    },
    "tags": []
   },
   "outputs": [],
   "source": [
    "# layers for the Neural Network\n",
    "layers = [Affine(\"first\", 784, 100), Relu(\"first\"), Affine(\"second\", 100, 100), Relu(\"second\"), Affine(\"third\", 100, 2), Affine(\"final\", 2, 1), Sigmoid(\"final\")]\n",
    "model_nn = Model(layers)\n",
    "\n",
    "# layers for the Logistic Regression\n",
    "layers_lr = [Affine(\"logits\", 784, 1), Sigmoid(\"sigmoid\")]\n",
    "model_lr = Model(layers_lr)"
   ]
  },
  {
   "cell_type": "code",
   "execution_count": 19,
   "metadata": {
    "execution": {
     "iopub.execute_input": "2020-10-08T00:07:06.576269Z",
     "iopub.status.busy": "2020-10-08T00:07:06.575633Z",
     "iopub.status.idle": "2020-10-08T00:07:06.592113Z",
     "shell.execute_reply": "2020-10-08T00:07:06.591553Z"
    },
    "papermill": {
     "duration": 0.053567,
     "end_time": "2020-10-08T00:07:06.592253",
     "exception": false,
     "start_time": "2020-10-08T00:07:06.538686",
     "status": "completed"
    },
    "tags": []
   },
   "outputs": [],
   "source": [
    "# suffix _nn stands for Neural Network.\n",
    "learner_nn = Learner(loss, model_nn, opt, config.num_epochs)\n",
    "acc_nn = ClfCallback(learner_nn, config.bs, training_xdata , testing_xdata, training_ydata, testing_ydata)\n",
    "learner_nn.set_callbacks([acc_nn])"
   ]
  },
  {
   "cell_type": "code",
   "execution_count": 20,
   "metadata": {
    "execution": {
     "iopub.execute_input": "2020-10-08T00:07:06.669660Z",
     "iopub.status.busy": "2020-10-08T00:07:06.668541Z",
     "iopub.status.idle": "2020-10-08T00:08:56.179955Z",
     "shell.execute_reply": "2020-10-08T00:08:56.180545Z"
    },
    "papermill": {
     "duration": 109.557325,
     "end_time": "2020-10-08T00:08:56.180704",
     "exception": false,
     "start_time": "2020-10-08T00:07:06.623379",
     "status": "completed"
    },
    "tags": []
   },
   "outputs": [
    {
     "name": "stdout",
     "output_type": "stream",
     "text": [
      "====== Neural Network ======\n"
     ]
    },
    {
     "name": "stdout",
     "output_type": "stream",
     "text": [
      "Epoch 0, Loss 0.2463\n",
      "Training Accuracy: 0.6168, Testing Accuracy: 0.6008\n",
      "\n"
     ]
    },
    {
     "name": "stdout",
     "output_type": "stream",
     "text": [
      "Epoch 10, Loss 0.1459\n",
      "Training Accuracy: 0.9086, Testing Accuracy: 0.9123\n",
      "\n"
     ]
    },
    {
     "name": "stdout",
     "output_type": "stream",
     "text": [
      "Epoch 20, Loss 0.0735\n",
      "Training Accuracy: 0.9310, Testing Accuracy: 0.9405\n",
      "\n"
     ]
    },
    {
     "name": "stdout",
     "output_type": "stream",
     "text": [
      "Epoch 30, Loss 0.0526\n",
      "Training Accuracy: 0.9442, Testing Accuracy: 0.9521\n",
      "\n"
     ]
    },
    {
     "name": "stdout",
     "output_type": "stream",
     "text": [
      "Epoch 40, Loss 0.0436\n",
      "Training Accuracy: 0.9513, Testing Accuracy: 0.9597\n",
      "\n"
     ]
    },
    {
     "name": "stdout",
     "output_type": "stream",
     "text": [
      "Epoch 50, Loss 0.0385\n",
      "Training Accuracy: 0.9563, Testing Accuracy: 0.9612\n",
      "\n"
     ]
    },
    {
     "name": "stdout",
     "output_type": "stream",
     "text": [
      "Epoch 60, Loss 0.0353\n",
      "Training Accuracy: 0.9598, Testing Accuracy: 0.9652\n",
      "\n"
     ]
    },
    {
     "name": "stdout",
     "output_type": "stream",
     "text": [
      "Epoch 70, Loss 0.0329\n",
      "Training Accuracy: 0.9623, Testing Accuracy: 0.9657\n",
      "\n"
     ]
    },
    {
     "name": "stdout",
     "output_type": "stream",
     "text": [
      "Epoch 80, Loss 0.0311\n",
      "Training Accuracy: 0.9639, Testing Accuracy: 0.9677\n",
      "\n"
     ]
    },
    {
     "name": "stdout",
     "output_type": "stream",
     "text": [
      "Epoch 90, Loss 0.0297\n",
      "Training Accuracy: 0.9654, Testing Accuracy: 0.9677\n",
      "\n"
     ]
    },
    {
     "name": "stdout",
     "output_type": "stream",
     "text": [
      "Epoch 100, Loss 0.0285\n",
      "Training Accuracy: 0.9674, Testing Accuracy: 0.9682\n",
      "\n"
     ]
    },
    {
     "name": "stdout",
     "output_type": "stream",
     "text": [
      "Epoch 110, Loss 0.0275\n",
      "Training Accuracy: 0.9685, Testing Accuracy: 0.9688\n",
      "\n"
     ]
    },
    {
     "name": "stdout",
     "output_type": "stream",
     "text": [
      "Epoch 120, Loss 0.0266\n",
      "Training Accuracy: 0.9696, Testing Accuracy: 0.9688\n",
      "\n"
     ]
    },
    {
     "name": "stdout",
     "output_type": "stream",
     "text": [
      "Epoch 130, Loss 0.0259\n",
      "Training Accuracy: 0.9705, Testing Accuracy: 0.9693\n",
      "\n"
     ]
    },
    {
     "name": "stdout",
     "output_type": "stream",
     "text": [
      "Epoch 140, Loss 0.0251\n",
      "Training Accuracy: 0.9710, Testing Accuracy: 0.9698\n",
      "\n"
     ]
    },
    {
     "name": "stdout",
     "output_type": "stream",
     "text": [
      "Epoch 150, Loss 0.0245\n",
      "Training Accuracy: 0.9721, Testing Accuracy: 0.9703\n",
      "\n"
     ]
    },
    {
     "name": "stdout",
     "output_type": "stream",
     "text": [
      "Epoch 160, Loss 0.0239\n",
      "Training Accuracy: 0.9725, Testing Accuracy: 0.9698\n",
      "\n"
     ]
    },
    {
     "name": "stdout",
     "output_type": "stream",
     "text": [
      "Epoch 170, Loss 0.0234\n",
      "Training Accuracy: 0.9731, Testing Accuracy: 0.9703\n",
      "\n"
     ]
    },
    {
     "name": "stdout",
     "output_type": "stream",
     "text": [
      "Epoch 180, Loss 0.0228\n",
      "Training Accuracy: 0.9736, Testing Accuracy: 0.9698\n",
      "\n"
     ]
    },
    {
     "name": "stdout",
     "output_type": "stream",
     "text": [
      "Epoch 190, Loss 0.0224\n",
      "Training Accuracy: 0.9740, Testing Accuracy: 0.9693\n",
      "\n"
     ]
    },
    {
     "name": "stdout",
     "output_type": "stream",
     "text": [
      "Epoch 200, Loss 0.0219\n",
      "Training Accuracy: 0.9747, Testing Accuracy: 0.9693\n",
      "\n"
     ]
    },
    {
     "name": "stdout",
     "output_type": "stream",
     "text": [
      "Epoch 210, Loss 0.0214\n",
      "Training Accuracy: 0.9755, Testing Accuracy: 0.9703\n",
      "\n"
     ]
    },
    {
     "name": "stdout",
     "output_type": "stream",
     "text": [
      "Epoch 220, Loss 0.021\n",
      "Training Accuracy: 0.9763, Testing Accuracy: 0.9718\n",
      "\n"
     ]
    },
    {
     "name": "stdout",
     "output_type": "stream",
     "text": [
      "Epoch 230, Loss 0.0206\n",
      "Training Accuracy: 0.9769, Testing Accuracy: 0.9718\n",
      "\n"
     ]
    },
    {
     "name": "stdout",
     "output_type": "stream",
     "text": [
      "Epoch 240, Loss 0.0202\n",
      "Training Accuracy: 0.9777, Testing Accuracy: 0.9728\n",
      "\n"
     ]
    },
    {
     "name": "stdout",
     "output_type": "stream",
     "text": [
      "Epoch 250, Loss 0.0198\n",
      "Training Accuracy: 0.9782, Testing Accuracy: 0.9728\n",
      "\n"
     ]
    },
    {
     "data": {
      "text/plain": [
       "0.031686147806951"
      ]
     },
     "execution_count": 20,
     "metadata": {},
     "output_type": "execute_result"
    }
   ],
   "source": [
    "print(\"====== Neural Network ======\")\n",
    "learner_nn.train_loop(dl)"
   ]
  },
  {
   "cell_type": "markdown",
   "metadata": {
    "papermill": {
     "duration": 0.042945,
     "end_time": "2020-10-08T00:08:56.267694",
     "exception": false,
     "start_time": "2020-10-08T00:08:56.224749",
     "status": "completed"
    },
    "tags": []
   },
   "source": [
    "### Logistic Regression based Implementation."
   ]
  },
  {
   "cell_type": "code",
   "execution_count": 21,
   "metadata": {
    "execution": {
     "iopub.execute_input": "2020-10-08T00:08:56.361495Z",
     "iopub.status.busy": "2020-10-08T00:08:56.359608Z",
     "iopub.status.idle": "2020-10-08T00:08:56.375402Z",
     "shell.execute_reply": "2020-10-08T00:08:56.375884Z"
    },
    "papermill": {
     "duration": 0.067394,
     "end_time": "2020-10-08T00:08:56.376056",
     "exception": false,
     "start_time": "2020-10-08T00:08:56.308662",
     "status": "completed"
    },
    "tags": []
   },
   "outputs": [],
   "source": [
    "learner_lr = Learner(loss, model_lr, opt, config.num_epochs)\n",
    "acc_lr = ClfCallback(learner_lr, config.bs, training_xdata , testing_xdata, training_ydata, testing_ydata)\n",
    "learner_lr.set_callbacks([acc_lr])"
   ]
  },
  {
   "cell_type": "code",
   "execution_count": 22,
   "metadata": {
    "execution": {
     "iopub.execute_input": "2020-10-08T00:08:56.468434Z",
     "iopub.status.busy": "2020-10-08T00:08:56.467231Z",
     "iopub.status.idle": "2020-10-08T00:09:18.767081Z",
     "shell.execute_reply": "2020-10-08T00:09:18.768007Z"
    },
    "papermill": {
     "duration": 22.352359,
     "end_time": "2020-10-08T00:09:18.768176",
     "exception": false,
     "start_time": "2020-10-08T00:08:56.415817",
     "status": "completed"
    },
    "tags": []
   },
   "outputs": [
    {
     "name": "stdout",
     "output_type": "stream",
     "text": [
      "====== Logistic Regression ======\n",
      "Epoch 0, Loss 0.2399\n",
      "Training Accuracy: 0.6805, Testing Accuracy: 0.7011\n",
      "\n"
     ]
    },
    {
     "name": "stdout",
     "output_type": "stream",
     "text": [
      "Epoch 10, Loss 0.1048\n",
      "Training Accuracy: 0.9006, Testing Accuracy: 0.9042\n",
      "\n"
     ]
    },
    {
     "name": "stdout",
     "output_type": "stream",
     "text": [
      "Epoch 20, Loss 0.0803\n",
      "Training Accuracy: 0.9243, Testing Accuracy: 0.9284\n",
      "\n"
     ]
    },
    {
     "name": "stdout",
     "output_type": "stream",
     "text": [
      "Epoch 30, Loss 0.0689\n",
      "Training Accuracy: 0.9338, Testing Accuracy: 0.9435\n",
      "\n"
     ]
    },
    {
     "name": "stdout",
     "output_type": "stream",
     "text": [
      "Epoch 40, Loss 0.0621\n",
      "Training Accuracy: 0.9398, Testing Accuracy: 0.9476\n",
      "\n"
     ]
    },
    {
     "name": "stdout",
     "output_type": "stream",
     "text": [
      "Epoch 50, Loss 0.0575\n",
      "Training Accuracy: 0.9442, Testing Accuracy: 0.9531\n",
      "\n"
     ]
    },
    {
     "name": "stdout",
     "output_type": "stream",
     "text": [
      "Epoch 60, Loss 0.0541\n",
      "Training Accuracy: 0.9463, Testing Accuracy: 0.9561\n",
      "\n"
     ]
    },
    {
     "name": "stdout",
     "output_type": "stream",
     "text": [
      "Epoch 70, Loss 0.0515\n",
      "Training Accuracy: 0.9483, Testing Accuracy: 0.9582\n",
      "\n"
     ]
    },
    {
     "name": "stdout",
     "output_type": "stream",
     "text": [
      "Epoch 80, Loss 0.0495\n",
      "Training Accuracy: 0.9500, Testing Accuracy: 0.9617\n",
      "\n"
     ]
    },
    {
     "name": "stdout",
     "output_type": "stream",
     "text": [
      "Epoch 90, Loss 0.0478\n",
      "Training Accuracy: 0.9508, Testing Accuracy: 0.9627\n",
      "\n"
     ]
    },
    {
     "name": "stdout",
     "output_type": "stream",
     "text": [
      "Epoch 100, Loss 0.0463\n",
      "Training Accuracy: 0.9517, Testing Accuracy: 0.9632\n",
      "\n"
     ]
    },
    {
     "name": "stdout",
     "output_type": "stream",
     "text": [
      "Epoch 110, Loss 0.0451\n",
      "Training Accuracy: 0.9526, Testing Accuracy: 0.9647\n",
      "\n"
     ]
    },
    {
     "name": "stdout",
     "output_type": "stream",
     "text": [
      "Epoch 120, Loss 0.044\n",
      "Training Accuracy: 0.9533, Testing Accuracy: 0.9662\n",
      "\n"
     ]
    },
    {
     "name": "stdout",
     "output_type": "stream",
     "text": [
      "Epoch 130, Loss 0.0431\n",
      "Training Accuracy: 0.9543, Testing Accuracy: 0.9672\n",
      "\n"
     ]
    },
    {
     "name": "stdout",
     "output_type": "stream",
     "text": [
      "Epoch 140, Loss 0.0422\n",
      "Training Accuracy: 0.9550, Testing Accuracy: 0.9672\n",
      "\n"
     ]
    },
    {
     "name": "stdout",
     "output_type": "stream",
     "text": [
      "Epoch 150, Loss 0.0415\n",
      "Training Accuracy: 0.9552, Testing Accuracy: 0.9672\n",
      "\n"
     ]
    },
    {
     "name": "stdout",
     "output_type": "stream",
     "text": [
      "Epoch 160, Loss 0.0408\n",
      "Training Accuracy: 0.9558, Testing Accuracy: 0.9667\n",
      "\n"
     ]
    },
    {
     "name": "stdout",
     "output_type": "stream",
     "text": [
      "Epoch 170, Loss 0.0402\n",
      "Training Accuracy: 0.9565, Testing Accuracy: 0.9667\n",
      "\n"
     ]
    },
    {
     "name": "stdout",
     "output_type": "stream",
     "text": [
      "Epoch 180, Loss 0.0396\n",
      "Training Accuracy: 0.9571, Testing Accuracy: 0.9672\n",
      "\n"
     ]
    },
    {
     "name": "stdout",
     "output_type": "stream",
     "text": [
      "Epoch 190, Loss 0.0391\n",
      "Training Accuracy: 0.9574, Testing Accuracy: 0.9672\n",
      "\n"
     ]
    },
    {
     "name": "stdout",
     "output_type": "stream",
     "text": [
      "Epoch 200, Loss 0.0386\n",
      "Training Accuracy: 0.9577, Testing Accuracy: 0.9682\n",
      "\n"
     ]
    },
    {
     "name": "stdout",
     "output_type": "stream",
     "text": [
      "Epoch 210, Loss 0.0382\n",
      "Training Accuracy: 0.9579, Testing Accuracy: 0.9682\n",
      "\n"
     ]
    },
    {
     "name": "stdout",
     "output_type": "stream",
     "text": [
      "Epoch 220, Loss 0.0378\n",
      "Training Accuracy: 0.9584, Testing Accuracy: 0.9682\n",
      "\n"
     ]
    },
    {
     "name": "stdout",
     "output_type": "stream",
     "text": [
      "Epoch 230, Loss 0.0374\n",
      "Training Accuracy: 0.9586, Testing Accuracy: 0.9682\n",
      "\n"
     ]
    },
    {
     "name": "stdout",
     "output_type": "stream",
     "text": [
      "Epoch 240, Loss 0.037\n",
      "Training Accuracy: 0.9589, Testing Accuracy: 0.9682\n",
      "\n"
     ]
    },
    {
     "name": "stdout",
     "output_type": "stream",
     "text": [
      "Epoch 250, Loss 0.0367\n",
      "Training Accuracy: 0.9594, Testing Accuracy: 0.9682\n",
      "\n"
     ]
    },
    {
     "data": {
      "text/plain": [
       "0.03407539932369192"
      ]
     },
     "execution_count": 22,
     "metadata": {},
     "output_type": "execute_result"
    }
   ],
   "source": [
    "print(\"====== Logistic Regression ======\")\n",
    "learner_lr.train_loop(dl)"
   ]
  },
  {
   "cell_type": "markdown",
   "metadata": {
    "papermill": {
     "duration": 0.04734,
     "end_time": "2020-10-08T00:09:18.862603",
     "exception": false,
     "start_time": "2020-10-08T00:09:18.815263",
     "status": "completed"
    },
    "tags": []
   },
   "source": [
    "### Comparing results of NN and LR"
   ]
  },
  {
   "cell_type": "code",
   "execution_count": 23,
   "metadata": {
    "execution": {
     "iopub.execute_input": "2020-10-08T00:09:18.965286Z",
     "iopub.status.busy": "2020-10-08T00:09:18.964663Z",
     "iopub.status.idle": "2020-10-08T00:09:19.245634Z",
     "shell.execute_reply": "2020-10-08T00:09:19.245094Z"
    },
    "papermill": {
     "duration": 0.335789,
     "end_time": "2020-10-08T00:09:19.245774",
     "exception": false,
     "start_time": "2020-10-08T00:09:18.909985",
     "status": "completed"
    },
    "tags": []
   },
   "outputs": [
    {
     "data": {
      "text/plain": [
       "<matplotlib.legend.Legend at 0x7f41522800b8>"
      ]
     },
     "execution_count": 23,
     "metadata": {},
     "output_type": "execute_result"
    },
    {
     "data": {
      "image/png": "[encoded data removed]",
      "text/plain": [
       "<Figure size 1080x720 with 1 Axes>"
      ]
     },
     "metadata": {
      "needs_background": "light"
     },
     "output_type": "display_data"
    }
   ],
   "source": [
    "plt.figure(figsize=(15,10))\n",
    "\n",
    "# Neural Network plots\n",
    "plt.plot(acc_nn.accuracies, 'r-', label = \"Training Accuracies - NN\")\n",
    "plt.plot(acc_nn.test_accuracies, 'g-', label = \"Testing Accuracies - NN\")\n",
    "\n",
    "# Logistic Regression plots\n",
    "plt.plot(acc_lr.accuracies, 'k-', label = \"Training Accuracies - LR\")\n",
    "plt.plot(acc_lr.test_accuracies, 'b-', label = \"Testing Accuracies - LR\")\n",
    "\n",
    "plt.ylim(0.8, 1)\n",
    "\n",
    "plt.legend()\n",
    "\n"
   ]
  },
  {
   "cell_type": "markdown",
   "metadata": {
    "papermill": {
     "duration": 0.047255,
     "end_time": "2020-10-08T00:09:19.342814",
     "exception": false,
     "start_time": "2020-10-08T00:09:19.295559",
     "status": "completed"
    },
    "tags": []
   },
   "source": [
    "### From the plot, we can observe the following:\n",
    "- Neural Network achieves higher accuracy than the Logistic Regression model.\n",
    "- This apparently, is because of overfitting, i.e. NN captures more noise than data.\n",
    "- Testing accuracy of NN drops below the Training accuracy at higher epochs. This explains the over-fitting on training data.\n",
    "- Logistic Regression gives a reliable accuracy, without the above mentioned problem.\n"
   ]
  },
  {
   "cell_type": "markdown",
   "metadata": {
    "papermill": {
     "duration": 0.047411,
     "end_time": "2020-10-08T00:09:19.437353",
     "exception": false,
     "start_time": "2020-10-08T00:09:19.389942",
     "status": "completed"
    },
    "tags": []
   },
   "source": [
    "### Moving till the last but one layer (excluding it).\n",
    "#### Plotting the outputs of this layer of the NN."
   ]
  },
  {
   "cell_type": "code",
   "execution_count": 24,
   "metadata": {
    "execution": {
     "iopub.execute_input": "2020-10-08T00:09:19.538083Z",
     "iopub.status.busy": "2020-10-08T00:09:19.537444Z",
     "iopub.status.idle": "2020-10-08T00:09:19.553798Z",
     "shell.execute_reply": "2020-10-08T00:09:19.553153Z"
    },
    "papermill": {
     "duration": 0.069497,
     "end_time": "2020-10-08T00:09:19.553960",
     "exception": false,
     "start_time": "2020-10-08T00:09:19.484463",
     "status": "completed"
    },
    "tags": []
   },
   "outputs": [],
   "source": [
    "model_new = Model(layers[:-2])"
   ]
  },
  {
   "cell_type": "code",
   "execution_count": 25,
   "metadata": {
    "execution": {
     "iopub.execute_input": "2020-10-08T00:09:19.661061Z",
     "iopub.status.busy": "2020-10-08T00:09:19.660314Z",
     "iopub.status.idle": "2020-10-08T00:09:19.686871Z",
     "shell.execute_reply": "2020-10-08T00:09:19.687686Z"
    },
    "papermill": {
     "duration": 0.08176,
     "end_time": "2020-10-08T00:09:19.687857",
     "exception": false,
     "start_time": "2020-10-08T00:09:19.606097",
     "status": "completed"
    },
    "tags": []
   },
   "outputs": [],
   "source": [
    "plot_testing = model_new(testing_xdata)"
   ]
  },
  {
   "cell_type": "code",
   "execution_count": 26,
   "metadata": {
    "execution": {
     "iopub.execute_input": "2020-10-08T00:09:19.799714Z",
     "iopub.status.busy": "2020-10-08T00:09:19.799068Z",
     "iopub.status.idle": "2020-10-08T00:09:20.014753Z",
     "shell.execute_reply": "2020-10-08T00:09:20.015247Z"
    },
    "papermill": {
     "duration": 0.277503,
     "end_time": "2020-10-08T00:09:20.015408",
     "exception": false,
     "start_time": "2020-10-08T00:09:19.737905",
     "status": "completed"
    },
    "tags": []
   },
   "outputs": [
    {
     "data": {
      "text/plain": [
       "Text(0.5, 1.0, 'Outputs')"
      ]
     },
     "execution_count": 26,
     "metadata": {},
     "output_type": "execute_result"
    },
    {
     "data": {
      "image/png": "[encoded data removed]",
      "text/plain": [
       "<Figure size 576x504 with 1 Axes>"
      ]
     },
     "metadata": {
      "needs_background": "light"
     },
     "output_type": "display_data"
    }
   ],
   "source": [
    "plt.figure(figsize=(8,7))\n",
    "plt.scatter(plot_testing[:,0], plot_testing[:,1], alpha = 0.1, c = y_test.ravel());\n",
    "plt.title('Outputs')"
   ]
  },
  {
   "cell_type": "markdown",
   "metadata": {
    "papermill": {
     "duration": 0.051895,
     "end_time": "2020-10-08T00:09:20.119580",
     "exception": false,
     "start_time": "2020-10-08T00:09:20.067685",
     "status": "completed"
    },
    "tags": []
   },
   "source": [
    "### Plotting probability contours"
   ]
  },
  {
   "cell_type": "code",
   "execution_count": 27,
   "metadata": {
    "execution": {
     "iopub.execute_input": "2020-10-08T00:09:20.234168Z",
     "iopub.status.busy": "2020-10-08T00:09:20.233500Z",
     "iopub.status.idle": "2020-10-08T00:09:20.255046Z",
     "shell.execute_reply": "2020-10-08T00:09:20.254424Z"
    },
    "papermill": {
     "duration": 0.078553,
     "end_time": "2020-10-08T00:09:20.255196",
     "exception": false,
     "start_time": "2020-10-08T00:09:20.176643",
     "status": "completed"
    },
    "tags": []
   },
   "outputs": [],
   "source": [
    "model_prob = Model(layers[-2:]) "
   ]
  },
  {
   "cell_type": "code",
   "execution_count": 28,
   "metadata": {
    "execution": {
     "iopub.execute_input": "2020-10-08T00:09:20.365748Z",
     "iopub.status.busy": "2020-10-08T00:09:20.365127Z",
     "iopub.status.idle": "2020-10-08T00:09:20.379143Z",
     "shell.execute_reply": "2020-10-08T00:09:20.379624Z"
    },
    "papermill": {
     "duration": 0.071789,
     "end_time": "2020-10-08T00:09:20.379847",
     "exception": false,
     "start_time": "2020-10-08T00:09:20.308058",
     "status": "completed"
    },
    "tags": []
   },
   "outputs": [],
   "source": [
    "# Adjust the x and y ranges according to the above generated plot.\n",
    "x_range = np.linspace(-4, 1, 100) \n",
    "y_range = np.linspace(-6, 6, 100) \n",
    "x_grid, y_grid = np.meshgrid(x_range, y_range) # x_grid and y_grig are of size 100 X 100\n",
    "\n",
    "# converting x_grid and y_grid to continuous arrays\n",
    "x_grid_flat = np.ravel(x_grid)\n",
    "y_grid_flat = np.ravel(y_grid)\n",
    "\n",
    "# The last layer of the current model takes two columns as input. Hence transpose of np.vstack() is required.\n",
    "X = np.vstack((x_grid_flat, y_grid_flat)).T\n",
    "\n",
    "# x_grid and y_grid are of size 100 x 100\n",
    "probability_contour = model_prob(X).reshape(100,100) "
   ]
  },
  {
   "cell_type": "code",
   "execution_count": 29,
   "metadata": {
    "execution": {
     "iopub.execute_input": "2020-10-08T00:09:20.491551Z",
     "iopub.status.busy": "2020-10-08T00:09:20.490947Z",
     "iopub.status.idle": "2020-10-08T00:09:20.770393Z",
     "shell.execute_reply": "2020-10-08T00:09:20.768836Z"
    },
    "papermill": {
     "duration": 0.342108,
     "end_time": "2020-10-08T00:09:20.770613",
     "exception": false,
     "start_time": "2020-10-08T00:09:20.428505",
     "status": "completed"
    },
    "tags": []
   },
   "outputs": [
    {
     "data": {
      "image/png": "[encoded data removed]",
      "text/plain": [
       "<Figure size 720x648 with 1 Axes>"
      ]
     },
     "metadata": {
      "needs_background": "light"
     },
     "output_type": "display_data"
    }
   ],
   "source": [
    "plt.figure(figsize=(10,9))\n",
    "plt.scatter(plot_testing[:,0], plot_testing[:,1], alpha = 0.1, c = y_test.ravel())\n",
    "contours = plt.contour(x_grid,y_grid,probability_contour)\n",
    "plt.title('Probability Contours')\n",
    "plt.clabel(contours, inline = True );"
   ]
  }
 ],
 "metadata": {
  "kernelspec": {
   "display_name": "Python 3",
   "language": "python",
   "name": "python3"
  },
  "language_info": {
   "codemirror_mode": {
    "name": "ipython",
    "version": 3
   },
   "file_extension": ".py",
   "mimetype": "text/x-python",
   "name": "python",
   "nbconvert_exporter": "python",
   "pygments_lexer": "ipython3",
   "version": "3.6.12"
  },
  "papermill": {
   "duration": 143.253052,
   "end_time": "2020-10-08T00:09:21.380129",
   "environment_variables": {},
   "exception": null,
   "input_path": "2020-08-11-NeuralNetwork.ipynb",
   "output_path": "2020-08-11-NeuralNetwork.ipynb",
   "parameters": {},
   "start_time": "2020-10-08T00:06:58.127077",
   "version": "2.1.2"
  }
 },
 "nbformat": 4,
 "nbformat_minor": 4
}