{
 "cells": [
  {
   "cell_type": "markdown",
   "metadata": {
    "papermill": {
     "duration": 0.044717,
     "end_time": "2021-01-11T10:26:58.461577",
     "exception": false,
     "start_time": "2021-01-11T10:26:58.416860",
     "status": "completed"
    },
    "tags": []
   },
   "source": [
    "# \"A Basic Neural Network: Differentiate Hand-Written Digits\"\n",
    "\n",
    "- badges: true\n",
    "- author: Akshith Sriram"
   ]
  },
  {
   "cell_type": "markdown",
   "metadata": {
    "papermill": {
     "duration": 0.032017,
     "end_time": "2021-01-11T10:26:58.952131",
     "exception": false,
     "start_time": "2021-01-11T10:26:58.920114",
     "status": "completed"
    },
    "tags": []
   },
   "source": [
    "### Key Objectives:\n",
    "- Building a neural network that differentiates two hand-written digits 3 and 8.\n",
    "- Comparing the results of this Neural Network (NN) to that of a Logistic Regression (LR) model.\n",
    "\n",
    "### Requirements:\n",
    "- 'Kudzu' : A neural network library that was designed during our course by [Univ.AI](www.univ.ai). \n",
    "- MNIST Database\n",
    "\n",
    "If MNIST is not installed, use the command `!pip install mnist` given below.\n",
    "It can be run both from the command line and Jupyter Notebook."
   ]
  },
  {
   "cell_type": "code",
   "execution_count": 1,
   "metadata": {
    "execution": {
     "iopub.execute_input": "2021-01-11T10:26:59.018977Z",
     "iopub.status.busy": "2021-01-11T10:26:59.015538Z",
     "iopub.status.idle": "2021-01-11T10:27:00.716954Z",
     "shell.execute_reply": "2021-01-11T10:27:00.716293Z"
    },
    "papermill": {
     "duration": 1.738058,
     "end_time": "2021-01-11T10:27:00.717143",
     "exception": false,
     "start_time": "2021-01-11T10:26:58.979085",
     "status": "completed"
    },
    "tags": []
   },
   "outputs": [
    {
     "name": "stdout",
     "output_type": "stream",
     "text": [
      "Collecting mnist\r\n"
     ]
    },
    {
     "name": "stdout",
     "output_type": "stream",
     "text": [
      "  Downloading mnist-0.2.2-py2.py3-none-any.whl (3.5 kB)\r\n",
      "Requirement already satisfied: numpy in /opt/hostedtoolcache/Python/3.6.12/x64/lib/python3.6/site-packages (from mnist) (1.19.5)\r\n"
     ]
    },
    {
     "name": "stdout",
     "output_type": "stream",
     "text": [
      "Installing collected packages: mnist\r\n"
     ]
    },
    {
     "name": "stdout",
     "output_type": "stream",
     "text": [
      "Successfully installed mnist-0.2.2\r\n"
     ]
    },
    {
     "name": "stdout",
     "output_type": "stream",
     "text": [
      "\u001b[33mWARNING: You are using pip version 20.3.1; however, version 20.3.3 is available.\r\n",
      "You should consider upgrading via the '/opt/hostedtoolcache/Python/3.6.12/x64/bin/python -m pip install --upgrade pip' command.\u001b[0m\r\n"
     ]
    }
   ],
   "source": [
    "!pip install mnist "
   ]
  },
  {
   "cell_type": "markdown",
   "metadata": {
    "papermill": {
     "duration": 0.027203,
     "end_time": "2021-01-11T10:27:00.772755",
     "exception": false,
     "start_time": "2021-01-11T10:27:00.745552",
     "status": "completed"
    },
    "tags": []
   },
   "source": [
    "#### Importing necessary libraries"
   ]
  },
  {
   "cell_type": "code",
   "execution_count": 2,
   "metadata": {
    "execution": {
     "iopub.execute_input": "2021-01-11T10:27:00.837649Z",
     "iopub.status.busy": "2021-01-11T10:27:00.836995Z",
     "iopub.status.idle": "2021-01-11T10:27:01.433901Z",
     "shell.execute_reply": "2021-01-11T10:27:01.434391Z"
    },
    "papermill": {
     "duration": 0.632208,
     "end_time": "2021-01-11T10:27:01.434553",
     "exception": false,
     "start_time": "2021-01-11T10:27:00.802345",
     "status": "completed"
    },
    "tags": []
   },
   "outputs": [],
   "source": [
    "%load_ext autoreload\n",
    "%autoreload 2\n",
    "\n",
    "%matplotlib inline\n",
    "import matplotlib.pyplot as plt\n",
    "\n",
    "import numpy as np\n",
    "import pandas as pd"
   ]
  },
  {
   "cell_type": "markdown",
   "metadata": {
    "papermill": {
     "duration": 0.029199,
     "end_time": "2021-01-11T10:27:01.493672",
     "exception": false,
     "start_time": "2021-01-11T10:27:01.464473",
     "status": "completed"
    },
    "tags": []
   },
   "source": [
    "### Preparing the Data"
   ]
  },
  {
   "cell_type": "code",
   "execution_count": 3,
   "metadata": {
    "execution": {
     "iopub.execute_input": "2021-01-11T10:27:01.555675Z",
     "iopub.status.busy": "2021-01-11T10:27:01.555092Z",
     "iopub.status.idle": "2021-01-11T10:27:01.567243Z",
     "shell.execute_reply": "2021-01-11T10:27:01.566771Z"
    },
    "papermill": {
     "duration": 0.044043,
     "end_time": "2021-01-11T10:27:01.567397",
     "exception": false,
     "start_time": "2021-01-11T10:27:01.523354",
     "status": "completed"
    },
    "tags": []
   },
   "outputs": [],
   "source": [
    "import mnist"
   ]
  },
  {
   "cell_type": "code",
   "execution_count": 4,
   "metadata": {
    "execution": {
     "iopub.execute_input": "2021-01-11T10:27:01.632064Z",
     "iopub.status.busy": "2021-01-11T10:27:01.631443Z",
     "iopub.status.idle": "2021-01-11T10:27:03.446983Z",
     "shell.execute_reply": "2021-01-11T10:27:03.447439Z"
    },
    "papermill": {
     "duration": 1.84919,
     "end_time": "2021-01-11T10:27:03.447613",
     "exception": false,
     "start_time": "2021-01-11T10:27:01.598423",
     "status": "completed"
    },
    "tags": []
   },
   "outputs": [],
   "source": [
    "train_images = mnist.train_images()\n",
    "train_labels = mnist.train_labels()"
   ]
  },
  {
   "cell_type": "code",
   "execution_count": 5,
   "metadata": {
    "execution": {
     "iopub.execute_input": "2021-01-11T10:27:03.507209Z",
     "iopub.status.busy": "2021-01-11T10:27:03.506558Z",
     "iopub.status.idle": "2021-01-11T10:27:03.521653Z",
     "shell.execute_reply": "2021-01-11T10:27:03.520989Z"
    },
    "papermill": {
     "duration": 0.046663,
     "end_time": "2021-01-11T10:27:03.521835",
     "exception": false,
     "start_time": "2021-01-11T10:27:03.475172",
     "status": "completed"
    },
    "tags": []
   },
   "outputs": [
    {
     "data": {
      "text/plain": [
       "((60000, 28, 28), (60000,))"
      ]
     },
     "execution_count": 5,
     "metadata": {},
     "output_type": "execute_result"
    }
   ],
   "source": [
    "train_images.shape, train_labels.shape"
   ]
  },
  {
   "cell_type": "code",
   "execution_count": 6,
   "metadata": {
    "execution": {
     "iopub.execute_input": "2021-01-11T10:27:03.584113Z",
     "iopub.status.busy": "2021-01-11T10:27:03.583379Z",
     "iopub.status.idle": "2021-01-11T10:27:04.610535Z",
     "shell.execute_reply": "2021-01-11T10:27:04.609980Z"
    },
    "papermill": {
     "duration": 1.059506,
     "end_time": "2021-01-11T10:27:04.610694",
     "exception": false,
     "start_time": "2021-01-11T10:27:03.551188",
     "status": "completed"
    },
    "tags": []
   },
   "outputs": [],
   "source": [
    "test_images = mnist.test_images()\n",
    "test_labels = mnist.test_labels()"
   ]
  },
  {
   "cell_type": "code",
   "execution_count": 7,
   "metadata": {
    "execution": {
     "iopub.execute_input": "2021-01-11T10:27:04.681967Z",
     "iopub.status.busy": "2021-01-11T10:27:04.674151Z",
     "iopub.status.idle": "2021-01-11T10:27:04.687392Z",
     "shell.execute_reply": "2021-01-11T10:27:04.686793Z"
    },
    "papermill": {
     "duration": 0.046756,
     "end_time": "2021-01-11T10:27:04.687519",
     "exception": false,
     "start_time": "2021-01-11T10:27:04.640763",
     "status": "completed"
    },
    "tags": []
   },
   "outputs": [
    {
     "data": {
      "text/plain": [
       "((10000, 28, 28), (10000,))"
      ]
     },
     "execution_count": 7,
     "metadata": {},
     "output_type": "execute_result"
    }
   ],
   "source": [
    "test_images.shape, test_labels.shape"
   ]
  },
  {
   "cell_type": "code",
   "execution_count": 8,
   "metadata": {
    "execution": {
     "iopub.execute_input": "2021-01-11T10:27:04.750566Z",
     "iopub.status.busy": "2021-01-11T10:27:04.749932Z",
     "iopub.status.idle": "2021-01-11T10:27:04.924108Z",
     "shell.execute_reply": "2021-01-11T10:27:04.923539Z"
    },
    "papermill": {
     "duration": 0.207471,
     "end_time": "2021-01-11T10:27:04.924250",
     "exception": false,
     "start_time": "2021-01-11T10:27:04.716779",
     "status": "completed"
    },
    "tags": []
   },
   "outputs": [
    {
     "name": "stdout",
     "output_type": "stream",
     "text": [
      "2\n"
     ]
    },
    {
     "data": {
      "text/plain": [
       "<matplotlib.image.AxesImage at 0x7fea87160320>"
      ]
     },
     "execution_count": 8,
     "metadata": {},
     "output_type": "execute_result"
    },
    {
     "data": {
      "image/png": "[encoded data removed]",
      "text/plain": [
       "<Figure size 432x288 with 1 Axes>"
      ]
     },
     "metadata": {
      "needs_background": "light"
     },
     "output_type": "display_data"
    }
   ],
   "source": [
    "image_index = 7776 # You may select anything up to 60,000\n",
    "print(train_labels[image_index]) \n",
    "plt.imshow(train_images[image_index], cmap='Greys')"
   ]
  },
  {
   "cell_type": "markdown",
   "metadata": {
    "papermill": {
     "duration": 0.032121,
     "end_time": "2021-01-11T10:27:04.988909",
     "exception": false,
     "start_time": "2021-01-11T10:27:04.956788",
     "status": "completed"
    },
    "tags": []
   },
   "source": [
    "## Filter data to get 3 and 8 out"
   ]
  },
  {
   "cell_type": "code",
   "execution_count": 9,
   "metadata": {
    "execution": {
     "iopub.execute_input": "2021-01-11T10:27:05.053835Z",
     "iopub.status.busy": "2021-01-11T10:27:05.052995Z",
     "iopub.status.idle": "2021-01-11T10:27:05.071262Z",
     "shell.execute_reply": "2021-01-11T10:27:05.070650Z"
    },
    "papermill": {
     "duration": 0.053145,
     "end_time": "2021-01-11T10:27:05.071438",
     "exception": false,
     "start_time": "2021-01-11T10:27:05.018293",
     "status": "completed"
    },
    "tags": []
   },
   "outputs": [],
   "source": [
    "train_filter = np.where((train_labels == 3 ) | (train_labels == 8))\n",
    "test_filter = np.where((test_labels == 3) | (test_labels == 8))\n",
    "X_train, y_train = train_images[train_filter], train_labels[train_filter]\n",
    "X_test, y_test = test_images[test_filter], test_labels[test_filter]"
   ]
  },
  {
   "cell_type": "markdown",
   "metadata": {
    "papermill": {
     "duration": 0.030817,
     "end_time": "2021-01-11T10:27:05.134576",
     "exception": false,
     "start_time": "2021-01-11T10:27:05.103759",
     "status": "completed"
    },
    "tags": []
   },
   "source": [
    "We normalize the pixel values in the 0 to 1 range"
   ]
  },
  {
   "cell_type": "code",
   "execution_count": 10,
   "metadata": {
    "execution": {
     "iopub.execute_input": "2021-01-11T10:27:05.200314Z",
     "iopub.status.busy": "2021-01-11T10:27:05.199631Z",
     "iopub.status.idle": "2021-01-11T10:27:05.260009Z",
     "shell.execute_reply": "2021-01-11T10:27:05.259320Z"
    },
    "papermill": {
     "duration": 0.095688,
     "end_time": "2021-01-11T10:27:05.260160",
     "exception": false,
     "start_time": "2021-01-11T10:27:05.164472",
     "status": "completed"
    },
    "tags": []
   },
   "outputs": [],
   "source": [
    "X_train = X_train/255.\n",
    "X_test = X_test/255."
   ]
  },
  {
   "cell_type": "markdown",
   "metadata": {
    "papermill": {
     "duration": 0.033548,
     "end_time": "2021-01-11T10:27:05.328976",
     "exception": false,
     "start_time": "2021-01-11T10:27:05.295428",
     "status": "completed"
    },
    "tags": []
   },
   "source": [
    "Setup the labels as 1 (when the digit is 3) and 0 (when the digit is 8)"
   ]
  },
  {
   "cell_type": "code",
   "execution_count": 11,
   "metadata": {
    "execution": {
     "iopub.execute_input": "2021-01-11T10:27:05.396631Z",
     "iopub.status.busy": "2021-01-11T10:27:05.396021Z",
     "iopub.status.idle": "2021-01-11T10:27:05.407816Z",
     "shell.execute_reply": "2021-01-11T10:27:05.408329Z"
    },
    "papermill": {
     "duration": 0.048189,
     "end_time": "2021-01-11T10:27:05.408465",
     "exception": false,
     "start_time": "2021-01-11T10:27:05.360276",
     "status": "completed"
    },
    "tags": []
   },
   "outputs": [],
   "source": [
    "y_train = 1*(y_train==3)\n",
    "y_test = 1*(y_test==3)"
   ]
  },
  {
   "cell_type": "code",
   "execution_count": 12,
   "metadata": {
    "execution": {
     "iopub.execute_input": "2021-01-11T10:27:05.474984Z",
     "iopub.status.busy": "2021-01-11T10:27:05.474362Z",
     "iopub.status.idle": "2021-01-11T10:27:05.487759Z",
     "shell.execute_reply": "2021-01-11T10:27:05.487250Z"
    },
    "papermill": {
     "duration": 0.049193,
     "end_time": "2021-01-11T10:27:05.487895",
     "exception": false,
     "start_time": "2021-01-11T10:27:05.438702",
     "status": "completed"
    },
    "tags": []
   },
   "outputs": [
    {
     "data": {
      "text/plain": [
       "((11982, 28, 28), (1984, 28, 28))"
      ]
     },
     "execution_count": 12,
     "metadata": {},
     "output_type": "execute_result"
    }
   ],
   "source": [
    "X_train.shape, X_test.shape"
   ]
  },
  {
   "cell_type": "markdown",
   "metadata": {
    "papermill": {
     "duration": 0.030531,
     "end_time": "2021-01-11T10:27:05.549582",
     "exception": false,
     "start_time": "2021-01-11T10:27:05.519051",
     "status": "completed"
    },
    "tags": []
   },
   "source": [
    "### Reshape the input data to create a linear array"
   ]
  },
  {
   "cell_type": "code",
   "execution_count": 13,
   "metadata": {
    "execution": {
     "iopub.execute_input": "2021-01-11T10:27:05.619758Z",
     "iopub.status.busy": "2021-01-11T10:27:05.619154Z",
     "iopub.status.idle": "2021-01-11T10:27:05.640723Z",
     "shell.execute_reply": "2021-01-11T10:27:05.641438Z"
    },
    "papermill": {
     "duration": 0.061327,
     "end_time": "2021-01-11T10:27:05.641640",
     "exception": false,
     "start_time": "2021-01-11T10:27:05.580313",
     "status": "completed"
    },
    "tags": []
   },
   "outputs": [
    {
     "data": {
      "text/plain": [
       "((11982, 784), (1984, 784))"
      ]
     },
     "execution_count": 13,
     "metadata": {},
     "output_type": "execute_result"
    }
   ],
   "source": [
    "X_train = X_train.reshape(X_train.shape[0], -1)\n",
    "X_test = X_test.reshape(X_test.shape[0], -1)\n",
    "X_train.shape, X_test.shape"
   ]
  },
  {
   "cell_type": "markdown",
   "metadata": {
    "papermill": {
     "duration": 0.029993,
     "end_time": "2021-01-11T10:27:05.702445",
     "exception": false,
     "start_time": "2021-01-11T10:27:05.672452",
     "status": "completed"
    },
    "tags": []
   },
   "source": [
    "### Importing appropriate functions from 'Kudzu'"
   ]
  },
  {
   "cell_type": "code",
   "execution_count": 14,
   "metadata": {
    "execution": {
     "iopub.execute_input": "2021-01-11T10:27:05.771950Z",
     "iopub.status.busy": "2021-01-11T10:27:05.771371Z",
     "iopub.status.idle": "2021-01-11T10:27:05.790332Z",
     "shell.execute_reply": "2021-01-11T10:27:05.789832Z"
    },
    "papermill": {
     "duration": 0.05723,
     "end_time": "2021-01-11T10:27:05.790459",
     "exception": false,
     "start_time": "2021-01-11T10:27:05.733229",
     "status": "completed"
    },
    "tags": []
   },
   "outputs": [],
   "source": [
    "from kudzu.layer import Sigmoid\n",
    "from kudzu.layer import Relu\n",
    "from kudzu.layer import Affine, Sigmoid\n",
    "\n",
    "from kudzu.model import Model\n",
    "from kudzu.train import Learner\n",
    "from kudzu.optim import GD\n",
    "from kudzu.data import Data, Dataloader, Sampler\n",
    "\n",
    "from kudzu.callbacks import AccCallback\n",
    "from kudzu.callbacks import ClfCallback\n",
    "\n",
    "from kudzu.loss import MSE"
   ]
  },
  {
   "cell_type": "markdown",
   "metadata": {
    "papermill": {
     "duration": 0.032646,
     "end_time": "2021-01-11T10:27:05.854595",
     "exception": false,
     "start_time": "2021-01-11T10:27:05.821949",
     "status": "completed"
    },
    "tags": []
   },
   "source": [
    "### Let us create a `Config` class, to store important parameters. \n",
    "This class essentially plays the role of a dictionary."
   ]
  },
  {
   "cell_type": "code",
   "execution_count": 15,
   "metadata": {
    "execution": {
     "iopub.execute_input": "2021-01-11T10:27:05.922678Z",
     "iopub.status.busy": "2021-01-11T10:27:05.922013Z",
     "iopub.status.idle": "2021-01-11T10:27:05.935519Z",
     "shell.execute_reply": "2021-01-11T10:27:05.934855Z"
    },
    "papermill": {
     "duration": 0.049472,
     "end_time": "2021-01-11T10:27:05.935674",
     "exception": false,
     "start_time": "2021-01-11T10:27:05.886202",
     "status": "completed"
    },
    "tags": []
   },
   "outputs": [],
   "source": [
    "class Config:\n",
    "    pass\n",
    "config = Config()\n",
    "config.lr = 0.001\n",
    "config.num_epochs = 251\n",
    "config.bs = 50"
   ]
  },
  {
   "cell_type": "markdown",
   "metadata": {
    "papermill": {
     "duration": 0.03236,
     "end_time": "2021-01-11T10:27:06.000981",
     "exception": false,
     "start_time": "2021-01-11T10:27:05.968621",
     "status": "completed"
    },
    "tags": []
   },
   "source": [
    "### Initializing data to the variables"
   ]
  },
  {
   "cell_type": "code",
   "execution_count": 16,
   "metadata": {
    "execution": {
     "iopub.execute_input": "2021-01-11T10:27:06.071427Z",
     "iopub.status.busy": "2021-01-11T10:27:06.070618Z",
     "iopub.status.idle": "2021-01-11T10:27:06.084499Z",
     "shell.execute_reply": "2021-01-11T10:27:06.083932Z"
    },
    "papermill": {
     "duration": 0.051294,
     "end_time": "2021-01-11T10:27:06.084635",
     "exception": false,
     "start_time": "2021-01-11T10:27:06.033341",
     "status": "completed"
    },
    "tags": []
   },
   "outputs": [],
   "source": [
    "data = Data(X_train, y_train.reshape(-1,1))\n",
    "sampler = Sampler(data, config.bs, shuffle=True)\n",
    "\n",
    "dl = Dataloader(data, sampler)\n",
    "\n",
    "opt = GD(config.lr)\n",
    "loss = MSE()"
   ]
  },
  {
   "cell_type": "code",
   "execution_count": 17,
   "metadata": {
    "execution": {
     "iopub.execute_input": "2021-01-11T10:27:06.160052Z",
     "iopub.status.busy": "2021-01-11T10:27:06.159328Z",
     "iopub.status.idle": "2021-01-11T10:27:06.172642Z",
     "shell.execute_reply": "2021-01-11T10:27:06.172132Z"
    },
    "papermill": {
     "duration": 0.054739,
     "end_time": "2021-01-11T10:27:06.172768",
     "exception": false,
     "start_time": "2021-01-11T10:27:06.118029",
     "status": "completed"
    },
    "tags": []
   },
   "outputs": [],
   "source": [
    "training_xdata = X_train\n",
    "testing_xdata = X_test\n",
    "training_ydata = y_train.reshape(-1,1)\n",
    "testing_ydata = y_test.reshape(-1,1)"
   ]
  },
  {
   "cell_type": "markdown",
   "metadata": {
    "papermill": {
     "duration": 0.03314,
     "end_time": "2021-01-11T10:27:06.239076",
     "exception": false,
     "start_time": "2021-01-11T10:27:06.205936",
     "status": "completed"
    },
    "tags": []
   },
   "source": [
    "### Running Models with the Training data\n",
    "Details about the network layers:\n",
    "- A first affine layer has 784 inputs and does 100 affine transforms. These are followed by a Relu\n",
    "- A second affine layer has 100 inputs from the 100 activations of the past layer, and does 100 affine transforms. These are followed by a Relu\n",
    "- A third affine layer has 100 activations and does 2 affine transformations to create an embedding for visualization. There is no non-linearity here.\n",
    "- A final \"logistic regression\" which has an affine transform from 2 inputs to 1 output, which is squeezed through a sigmoid.\n",
    "\n",
    "Help taken from Anshuman's Notebook."
   ]
  },
  {
   "cell_type": "code",
   "execution_count": 18,
   "metadata": {
    "execution": {
     "iopub.execute_input": "2021-01-11T10:27:06.310847Z",
     "iopub.status.busy": "2021-01-11T10:27:06.310239Z",
     "iopub.status.idle": "2021-01-11T10:27:06.327445Z",
     "shell.execute_reply": "2021-01-11T10:27:06.326718Z"
    },
    "papermill": {
     "duration": 0.053957,
     "end_time": "2021-01-11T10:27:06.327642",
     "exception": false,
     "start_time": "2021-01-11T10:27:06.273685",
     "status": "completed"
    },
    "tags": []
   },
   "outputs": [],
   "source": [
    "# layers for the Neural Network\n",
    "layers = [Affine(\"first\", 784, 100), Relu(\"first\"), Affine(\"second\", 100, 100), Relu(\"second\"), Affine(\"third\", 100, 2), Affine(\"final\", 2, 1), Sigmoid(\"final\")]\n",
    "model_nn = Model(layers)\n",
    "\n",
    "# layers for the Logistic Regression\n",
    "layers_lr = [Affine(\"logits\", 784, 1), Sigmoid(\"sigmoid\")]\n",
    "model_lr = Model(layers_lr)"
   ]
  },
  {
   "cell_type": "code",
   "execution_count": 19,
   "metadata": {
    "execution": {
     "iopub.execute_input": "2021-01-11T10:27:06.396296Z",
     "iopub.status.busy": "2021-01-11T10:27:06.395574Z",
     "iopub.status.idle": "2021-01-11T10:27:06.408545Z",
     "shell.execute_reply": "2021-01-11T10:27:06.407976Z"
    },
    "papermill": {
     "duration": 0.048542,
     "end_time": "2021-01-11T10:27:06.408666",
     "exception": false,
     "start_time": "2021-01-11T10:27:06.360124",
     "status": "completed"
    },
    "tags": []
   },
   "outputs": [],
   "source": [
    "# suffix _nn stands for Neural Network.\n",
    "learner_nn = Learner(loss, model_nn, opt, config.num_epochs)\n",
    "acc_nn = ClfCallback(learner_nn, config.bs, training_xdata , testing_xdata, training_ydata, testing_ydata)\n",
    "learner_nn.set_callbacks([acc_nn])"
   ]
  },
  {
   "cell_type": "code",
   "execution_count": 20,
   "metadata": {
    "execution": {
     "iopub.execute_input": "2021-01-11T10:27:06.476410Z",
     "iopub.status.busy": "2021-01-11T10:27:06.475756Z",
     "iopub.status.idle": "2021-01-11T10:29:26.980028Z",
     "shell.execute_reply": "2021-01-11T10:29:26.981088Z"
    },
    "papermill": {
     "duration": 140.540595,
     "end_time": "2021-01-11T10:29:26.981283",
     "exception": false,
     "start_time": "2021-01-11T10:27:06.440688",
     "status": "completed"
    },
    "tags": []
   },
   "outputs": [
    {
     "name": "stdout",
     "output_type": "stream",
     "text": [
      "====== Neural Network ======\n"
     ]
    },
    {
     "name": "stdout",
     "output_type": "stream",
     "text": [
      "Epoch 0, Loss 0.2427\n",
      "Training Accuracy: 0.6018, Testing Accuracy: 0.6008\n",
      "\n"
     ]
    },
    {
     "name": "stdout",
     "output_type": "stream",
     "text": [
      "Epoch 10, Loss 0.1683\n",
      "Training Accuracy: 0.8890, Testing Accuracy: 0.9037\n",
      "\n"
     ]
    },
    {
     "name": "stdout",
     "output_type": "stream",
     "text": [
      "Epoch 20, Loss 0.0785\n",
      "Training Accuracy: 0.9236, Testing Accuracy: 0.9335\n",
      "\n"
     ]
    },
    {
     "name": "stdout",
     "output_type": "stream",
     "text": [
      "Epoch 30, Loss 0.0539\n",
      "Training Accuracy: 0.9421, Testing Accuracy: 0.9501\n",
      "\n"
     ]
    },
    {
     "name": "stdout",
     "output_type": "stream",
     "text": [
      "Epoch 40, Loss 0.0441\n",
      "Training Accuracy: 0.9507, Testing Accuracy: 0.9577\n",
      "\n"
     ]
    },
    {
     "name": "stdout",
     "output_type": "stream",
     "text": [
      "Epoch 50, Loss 0.0388\n",
      "Training Accuracy: 0.9549, Testing Accuracy: 0.9622\n",
      "\n"
     ]
    },
    {
     "name": "stdout",
     "output_type": "stream",
     "text": [
      "Epoch 60, Loss 0.0355\n",
      "Training Accuracy: 0.9590, Testing Accuracy: 0.9632\n",
      "\n"
     ]
    },
    {
     "name": "stdout",
     "output_type": "stream",
     "text": [
      "Epoch 70, Loss 0.0331\n",
      "Training Accuracy: 0.9619, Testing Accuracy: 0.9647\n",
      "\n"
     ]
    },
    {
     "name": "stdout",
     "output_type": "stream",
     "text": [
      "Epoch 80, Loss 0.0313\n",
      "Training Accuracy: 0.9635, Testing Accuracy: 0.9662\n",
      "\n"
     ]
    },
    {
     "name": "stdout",
     "output_type": "stream",
     "text": [
      "Epoch 90, Loss 0.0299\n",
      "Training Accuracy: 0.9645, Testing Accuracy: 0.9672\n",
      "\n"
     ]
    },
    {
     "name": "stdout",
     "output_type": "stream",
     "text": [
      "Epoch 100, Loss 0.0287\n",
      "Training Accuracy: 0.9657, Testing Accuracy: 0.9688\n",
      "\n"
     ]
    },
    {
     "name": "stdout",
     "output_type": "stream",
     "text": [
      "Epoch 110, Loss 0.0277\n",
      "Training Accuracy: 0.9669, Testing Accuracy: 0.9677\n",
      "\n"
     ]
    },
    {
     "name": "stdout",
     "output_type": "stream",
     "text": [
      "Epoch 120, Loss 0.0268\n",
      "Training Accuracy: 0.9675, Testing Accuracy: 0.9688\n",
      "\n"
     ]
    },
    {
     "name": "stdout",
     "output_type": "stream",
     "text": [
      "Epoch 130, Loss 0.026\n",
      "Training Accuracy: 0.9689, Testing Accuracy: 0.9698\n",
      "\n"
     ]
    },
    {
     "name": "stdout",
     "output_type": "stream",
     "text": [
      "Epoch 140, Loss 0.0252\n",
      "Training Accuracy: 0.9701, Testing Accuracy: 0.9703\n",
      "\n"
     ]
    },
    {
     "name": "stdout",
     "output_type": "stream",
     "text": [
      "Epoch 150, Loss 0.0245\n",
      "Training Accuracy: 0.9709, Testing Accuracy: 0.9698\n",
      "\n"
     ]
    },
    {
     "name": "stdout",
     "output_type": "stream",
     "text": [
      "Epoch 160, Loss 0.0239\n",
      "Training Accuracy: 0.9715, Testing Accuracy: 0.9703\n",
      "\n"
     ]
    },
    {
     "name": "stdout",
     "output_type": "stream",
     "text": [
      "Epoch 170, Loss 0.0234\n",
      "Training Accuracy: 0.9724, Testing Accuracy: 0.9698\n",
      "\n"
     ]
    },
    {
     "name": "stdout",
     "output_type": "stream",
     "text": [
      "Epoch 180, Loss 0.0228\n",
      "Training Accuracy: 0.9730, Testing Accuracy: 0.9698\n",
      "\n"
     ]
    },
    {
     "name": "stdout",
     "output_type": "stream",
     "text": [
      "Epoch 190, Loss 0.0223\n",
      "Training Accuracy: 0.9739, Testing Accuracy: 0.9698\n",
      "\n"
     ]
    },
    {
     "name": "stdout",
     "output_type": "stream",
     "text": [
      "Epoch 200, Loss 0.0218\n",
      "Training Accuracy: 0.9745, Testing Accuracy: 0.9703\n",
      "\n"
     ]
    },
    {
     "name": "stdout",
     "output_type": "stream",
     "text": [
      "Epoch 210, Loss 0.0214\n",
      "Training Accuracy: 0.9748, Testing Accuracy: 0.9703\n",
      "\n"
     ]
    },
    {
     "name": "stdout",
     "output_type": "stream",
     "text": [
      "Epoch 220, Loss 0.021\n",
      "Training Accuracy: 0.9755, Testing Accuracy: 0.9708\n",
      "\n"
     ]
    },
    {
     "name": "stdout",
     "output_type": "stream",
     "text": [
      "Epoch 230, Loss 0.0206\n",
      "Training Accuracy: 0.9762, Testing Accuracy: 0.9713\n",
      "\n"
     ]
    },
    {
     "name": "stdout",
     "output_type": "stream",
     "text": [
      "Epoch 240, Loss 0.0202\n",
      "Training Accuracy: 0.9770, Testing Accuracy: 0.9708\n",
      "\n"
     ]
    },
    {
     "name": "stdout",
     "output_type": "stream",
     "text": [
      "Epoch 250, Loss 0.0198\n",
      "Training Accuracy: 0.9776, Testing Accuracy: 0.9708\n",
      "\n"
     ]
    },
    {
     "data": {
      "text/plain": [
       "0.0019803030912404636"
      ]
     },
     "execution_count": 20,
     "metadata": {},
     "output_type": "execute_result"
    }
   ],
   "source": [
    "print(\"====== Neural Network ======\")\n",
    "learner_nn.train_loop(dl)"
   ]
  },
  {
   "cell_type": "markdown",
   "metadata": {
    "papermill": {
     "duration": 0.04503,
     "end_time": "2021-01-11T10:29:27.068206",
     "exception": false,
     "start_time": "2021-01-11T10:29:27.023176",
     "status": "completed"
    },
    "tags": []
   },
   "source": [
    "### Logistic Regression based Implementation."
   ]
  },
  {
   "cell_type": "code",
   "execution_count": 21,
   "metadata": {
    "execution": {
     "iopub.execute_input": "2021-01-11T10:29:27.158468Z",
     "iopub.status.busy": "2021-01-11T10:29:27.157798Z",
     "iopub.status.idle": "2021-01-11T10:29:27.168503Z",
     "shell.execute_reply": "2021-01-11T10:29:27.169065Z"
    },
    "papermill": {
     "duration": 0.057826,
     "end_time": "2021-01-11T10:29:27.169253",
     "exception": false,
     "start_time": "2021-01-11T10:29:27.111427",
     "status": "completed"
    },
    "tags": []
   },
   "outputs": [],
   "source": [
    "learner_lr = Learner(loss, model_lr, opt, config.num_epochs)\n",
    "acc_lr = ClfCallback(learner_lr, config.bs, training_xdata , testing_xdata, training_ydata, testing_ydata)\n",
    "learner_lr.set_callbacks([acc_lr])"
   ]
  },
  {
   "cell_type": "code",
   "execution_count": 22,
   "metadata": {
    "execution": {
     "iopub.execute_input": "2021-01-11T10:29:27.263414Z",
     "iopub.status.busy": "2021-01-11T10:29:27.262681Z",
     "iopub.status.idle": "2021-01-11T10:29:47.404424Z",
     "shell.execute_reply": "2021-01-11T10:29:47.405461Z"
    },
    "papermill": {
     "duration": 20.19242,
     "end_time": "2021-01-11T10:29:47.405655",
     "exception": false,
     "start_time": "2021-01-11T10:29:27.213235",
     "status": "completed"
    },
    "tags": []
   },
   "outputs": [
    {
     "name": "stdout",
     "output_type": "stream",
     "text": [
      "====== Logistic Regression ======\n",
      "Epoch 0, Loss 0.2115\n",
      "Training Accuracy: 0.8116, Testing Accuracy: 0.7954\n",
      "\n"
     ]
    },
    {
     "name": "stdout",
     "output_type": "stream",
     "text": [
      "Epoch 10, Loss 0.096\n",
      "Training Accuracy: 0.9209, Testing Accuracy: 0.9294\n",
      "\n"
     ]
    },
    {
     "name": "stdout",
     "output_type": "stream",
     "text": [
      "Epoch 20, Loss 0.0757\n",
      "Training Accuracy: 0.9311, Testing Accuracy: 0.9441\n",
      "\n"
     ]
    },
    {
     "name": "stdout",
     "output_type": "stream",
     "text": [
      "Epoch 30, Loss 0.066\n",
      "Training Accuracy: 0.9365, Testing Accuracy: 0.9481\n",
      "\n"
     ]
    },
    {
     "name": "stdout",
     "output_type": "stream",
     "text": [
      "Epoch 40, Loss 0.0601\n",
      "Training Accuracy: 0.9404, Testing Accuracy: 0.9506\n",
      "\n"
     ]
    },
    {
     "name": "stdout",
     "output_type": "stream",
     "text": [
      "Epoch 50, Loss 0.056\n",
      "Training Accuracy: 0.9440, Testing Accuracy: 0.9556\n",
      "\n"
     ]
    },
    {
     "name": "stdout",
     "output_type": "stream",
     "text": [
      "Epoch 60, Loss 0.0529\n",
      "Training Accuracy: 0.9468, Testing Accuracy: 0.9567\n",
      "\n"
     ]
    },
    {
     "name": "stdout",
     "output_type": "stream",
     "text": [
      "Epoch 70, Loss 0.0506\n",
      "Training Accuracy: 0.9484, Testing Accuracy: 0.9587\n",
      "\n"
     ]
    },
    {
     "name": "stdout",
     "output_type": "stream",
     "text": [
      "Epoch 80, Loss 0.0486\n",
      "Training Accuracy: 0.9502, Testing Accuracy: 0.9592\n",
      "\n"
     ]
    },
    {
     "name": "stdout",
     "output_type": "stream",
     "text": [
      "Epoch 90, Loss 0.047\n",
      "Training Accuracy: 0.9516, Testing Accuracy: 0.9602\n",
      "\n"
     ]
    },
    {
     "name": "stdout",
     "output_type": "stream",
     "text": [
      "Epoch 100, Loss 0.0457\n",
      "Training Accuracy: 0.9532, Testing Accuracy: 0.9617\n",
      "\n"
     ]
    },
    {
     "name": "stdout",
     "output_type": "stream",
     "text": [
      "Epoch 110, Loss 0.0445\n",
      "Training Accuracy: 0.9543, Testing Accuracy: 0.9617\n",
      "\n"
     ]
    },
    {
     "name": "stdout",
     "output_type": "stream",
     "text": [
      "Epoch 120, Loss 0.0435\n",
      "Training Accuracy: 0.9554, Testing Accuracy: 0.9627\n",
      "\n"
     ]
    },
    {
     "name": "stdout",
     "output_type": "stream",
     "text": [
      "Epoch 130, Loss 0.0426\n",
      "Training Accuracy: 0.9559, Testing Accuracy: 0.9627\n",
      "\n"
     ]
    },
    {
     "name": "stdout",
     "output_type": "stream",
     "text": [
      "Epoch 140, Loss 0.0417\n",
      "Training Accuracy: 0.9566, Testing Accuracy: 0.9627\n",
      "\n"
     ]
    },
    {
     "name": "stdout",
     "output_type": "stream",
     "text": [
      "Epoch 150, Loss 0.041\n",
      "Training Accuracy: 0.9573, Testing Accuracy: 0.9637\n",
      "\n"
     ]
    },
    {
     "name": "stdout",
     "output_type": "stream",
     "text": [
      "Epoch 160, Loss 0.0404\n",
      "Training Accuracy: 0.9576, Testing Accuracy: 0.9642\n",
      "\n"
     ]
    },
    {
     "name": "stdout",
     "output_type": "stream",
     "text": [
      "Epoch 170, Loss 0.0398\n",
      "Training Accuracy: 0.9582, Testing Accuracy: 0.9642\n",
      "\n"
     ]
    },
    {
     "name": "stdout",
     "output_type": "stream",
     "text": [
      "Epoch 180, Loss 0.0392\n",
      "Training Accuracy: 0.9587, Testing Accuracy: 0.9647\n",
      "\n"
     ]
    },
    {
     "name": "stdout",
     "output_type": "stream",
     "text": [
      "Epoch 190, Loss 0.0387\n",
      "Training Accuracy: 0.9590, Testing Accuracy: 0.9647\n",
      "\n"
     ]
    },
    {
     "name": "stdout",
     "output_type": "stream",
     "text": [
      "Epoch 200, Loss 0.0382\n",
      "Training Accuracy: 0.9594, Testing Accuracy: 0.9647\n",
      "\n"
     ]
    },
    {
     "name": "stdout",
     "output_type": "stream",
     "text": [
      "Epoch 210, Loss 0.0378\n",
      "Training Accuracy: 0.9597, Testing Accuracy: 0.9647\n",
      "\n"
     ]
    },
    {
     "name": "stdout",
     "output_type": "stream",
     "text": [
      "Epoch 220, Loss 0.0374\n",
      "Training Accuracy: 0.9601, Testing Accuracy: 0.9647\n",
      "\n"
     ]
    },
    {
     "name": "stdout",
     "output_type": "stream",
     "text": [
      "Epoch 230, Loss 0.037\n",
      "Training Accuracy: 0.9603, Testing Accuracy: 0.9647\n",
      "\n"
     ]
    },
    {
     "name": "stdout",
     "output_type": "stream",
     "text": [
      "Epoch 240, Loss 0.0367\n",
      "Training Accuracy: 0.9604, Testing Accuracy: 0.9652\n",
      "\n"
     ]
    },
    {
     "name": "stdout",
     "output_type": "stream",
     "text": [
      "Epoch 250, Loss 0.0363\n",
      "Training Accuracy: 0.9606, Testing Accuracy: 0.9657\n",
      "\n"
     ]
    },
    {
     "data": {
      "text/plain": [
       "0.04319862750208208"
      ]
     },
     "execution_count": 22,
     "metadata": {},
     "output_type": "execute_result"
    }
   ],
   "source": [
    "print(\"====== Logistic Regression ======\")\n",
    "learner_lr.train_loop(dl)"
   ]
  },
  {
   "cell_type": "markdown",
   "metadata": {
    "papermill": {
     "duration": 0.050403,
     "end_time": "2021-01-11T10:29:47.507746",
     "exception": false,
     "start_time": "2021-01-11T10:29:47.457343",
     "status": "completed"
    },
    "tags": []
   },
   "source": [
    "### Comparing results of NN and LR"
   ]
  },
  {
   "cell_type": "code",
   "execution_count": 23,
   "metadata": {
    "execution": {
     "iopub.execute_input": "2021-01-11T10:29:47.620279Z",
     "iopub.status.busy": "2021-01-11T10:29:47.619195Z",
     "iopub.status.idle": "2021-01-11T10:29:47.905264Z",
     "shell.execute_reply": "2021-01-11T10:29:47.904201Z"
    },
    "papermill": {
     "duration": 0.344364,
     "end_time": "2021-01-11T10:29:47.905408",
     "exception": false,
     "start_time": "2021-01-11T10:29:47.561044",
     "status": "completed"
    },
    "tags": []
   },
   "outputs": [
    {
     "data": {
      "text/plain": [
       "<matplotlib.legend.Legend at 0x7fea7a587c88>"
      ]
     },
     "execution_count": 23,
     "metadata": {},
     "output_type": "execute_result"
    },
    {
     "data": {
      "image/png": "[encoded data removed]",
      "text/plain": [
       "<Figure size 1080x720 with 1 Axes>"
      ]
     },
     "metadata": {
      "needs_background": "light"
     },
     "output_type": "display_data"
    }
   ],
   "source": [
    "plt.figure(figsize=(15,10))\n",
    "\n",
    "# Neural Network plots\n",
    "plt.plot(acc_nn.accuracies, 'r-', label = \"Training Accuracies - NN\")\n",
    "plt.plot(acc_nn.test_accuracies, 'g-', label = \"Testing Accuracies - NN\")\n",
    "\n",
    "# Logistic Regression plots\n",
    "plt.plot(acc_lr.accuracies, 'k-', label = \"Training Accuracies - LR\")\n",
    "plt.plot(acc_lr.test_accuracies, 'b-', label = \"Testing Accuracies - LR\")\n",
    "\n",
    "plt.ylim(0.8, 1)\n",
    "\n",
    "plt.legend()\n",
    "\n"
   ]
  },
  {
   "cell_type": "markdown",
   "metadata": {
    "papermill": {
     "duration": 0.04966,
     "end_time": "2021-01-11T10:29:48.007410",
     "exception": false,
     "start_time": "2021-01-11T10:29:47.957750",
     "status": "completed"
    },
    "tags": []
   },
   "source": [
    "### From the plot, we can observe the following:\n",
    "- Neural Network achieves higher accuracy than the Logistic Regression model.\n",
    "- This apparently, is because of overfitting, i.e. NN captures more noise than data.\n",
    "- Testing accuracy of NN drops below the Training accuracy at higher epochs. This explains the over-fitting on training data.\n",
    "- Logistic Regression gives a reliable accuracy, without the above mentioned problem.\n"
   ]
  },
  {
   "cell_type": "markdown",
   "metadata": {
    "papermill": {
     "duration": 0.051721,
     "end_time": "2021-01-11T10:29:48.113341",
     "exception": false,
     "start_time": "2021-01-11T10:29:48.061620",
     "status": "completed"
    },
    "tags": []
   },
   "source": [
    "### Moving till the last but one layer (excluding it).\n",
    "#### Plotting the outputs of this layer of the NN."
   ]
  },
  {
   "cell_type": "code",
   "execution_count": 24,
   "metadata": {
    "execution": {
     "iopub.execute_input": "2021-01-11T10:29:48.221444Z",
     "iopub.status.busy": "2021-01-11T10:29:48.220429Z",
     "iopub.status.idle": "2021-01-11T10:29:48.232975Z",
     "shell.execute_reply": "2021-01-11T10:29:48.233470Z"
    },
    "papermill": {
     "duration": 0.067839,
     "end_time": "2021-01-11T10:29:48.233620",
     "exception": false,
     "start_time": "2021-01-11T10:29:48.165781",
     "status": "completed"
    },
    "tags": []
   },
   "outputs": [],
   "source": [
    "model_new = Model(layers[:-2])"
   ]
  },
  {
   "cell_type": "code",
   "execution_count": 25,
   "metadata": {
    "execution": {
     "iopub.execute_input": "2021-01-11T10:29:48.347253Z",
     "iopub.status.busy": "2021-01-11T10:29:48.339198Z",
     "iopub.status.idle": "2021-01-11T10:29:48.365485Z",
     "shell.execute_reply": "2021-01-11T10:29:48.366247Z"
    },
    "papermill": {
     "duration": 0.081945,
     "end_time": "2021-01-11T10:29:48.366402",
     "exception": false,
     "start_time": "2021-01-11T10:29:48.284457",
     "status": "completed"
    },
    "tags": []
   },
   "outputs": [],
   "source": [
    "plot_testing = model_new(testing_xdata)"
   ]
  },
  {
   "cell_type": "code",
   "execution_count": 26,
   "metadata": {
    "execution": {
     "iopub.execute_input": "2021-01-11T10:29:48.488616Z",
     "iopub.status.busy": "2021-01-11T10:29:48.486323Z",
     "iopub.status.idle": "2021-01-11T10:29:48.724241Z",
     "shell.execute_reply": "2021-01-11T10:29:48.724773Z"
    },
    "papermill": {
     "duration": 0.297236,
     "end_time": "2021-01-11T10:29:48.724926",
     "exception": false,
     "start_time": "2021-01-11T10:29:48.427690",
     "status": "completed"
    },
    "tags": []
   },
   "outputs": [
    {
     "data": {
      "text/plain": [
       "Text(0.5, 1.0, 'Outputs')"
      ]
     },
     "execution_count": 26,
     "metadata": {},
     "output_type": "execute_result"
    },
    {
     "data": {
      "image/png": "[encoded data removed]",
      "text/plain": [
       "<Figure size 576x504 with 1 Axes>"
      ]
     },
     "metadata": {
      "needs_background": "light"
     },
     "output_type": "display_data"
    }
   ],
   "source": [
    "plt.figure(figsize=(8,7))\n",
    "plt.scatter(plot_testing[:,0], plot_testing[:,1], alpha = 0.1, c = y_test.ravel());\n",
    "plt.title('Outputs')"
   ]
  },
  {
   "cell_type": "markdown",
   "metadata": {
    "papermill": {
     "duration": 0.051291,
     "end_time": "2021-01-11T10:29:48.829161",
     "exception": false,
     "start_time": "2021-01-11T10:29:48.777870",
     "status": "completed"
    },
    "tags": []
   },
   "source": [
    "### Plotting probability contours"
   ]
  },
  {
   "cell_type": "code",
   "execution_count": 27,
   "metadata": {
    "execution": {
     "iopub.execute_input": "2021-01-11T10:29:48.935514Z",
     "iopub.status.busy": "2021-01-11T10:29:48.934862Z",
     "iopub.status.idle": "2021-01-11T10:29:48.947516Z",
     "shell.execute_reply": "2021-01-11T10:29:48.948119Z"
    },
    "papermill": {
     "duration": 0.069203,
     "end_time": "2021-01-11T10:29:48.948255",
     "exception": false,
     "start_time": "2021-01-11T10:29:48.879052",
     "status": "completed"
    },
    "tags": []
   },
   "outputs": [],
   "source": [
    "model_prob = Model(layers[-2:]) "
   ]
  },
  {
   "cell_type": "code",
   "execution_count": 28,
   "metadata": {
    "execution": {
     "iopub.execute_input": "2021-01-11T10:29:49.057218Z",
     "iopub.status.busy": "2021-01-11T10:29:49.056612Z",
     "iopub.status.idle": "2021-01-11T10:29:49.071418Z",
     "shell.execute_reply": "2021-01-11T10:29:49.071980Z"
    },
    "papermill": {
     "duration": 0.073033,
     "end_time": "2021-01-11T10:29:49.072174",
     "exception": false,
     "start_time": "2021-01-11T10:29:48.999141",
     "status": "completed"
    },
    "tags": []
   },
   "outputs": [],
   "source": [
    "# Adjust the x and y ranges according to the above generated plot.\n",
    "x_range = np.linspace(-4, 1, 100) \n",
    "y_range = np.linspace(-6, 6, 100) \n",
    "x_grid, y_grid = np.meshgrid(x_range, y_range) # x_grid and y_grig are of size 100 X 100\n",
    "\n",
    "# converting x_grid and y_grid to continuous arrays\n",
    "x_grid_flat = np.ravel(x_grid)\n",
    "y_grid_flat = np.ravel(y_grid)\n",
    "\n",
    "# The last layer of the current model takes two columns as input. Hence transpose of np.vstack() is required.\n",
    "X = np.vstack((x_grid_flat, y_grid_flat)).T\n",
    "\n",
    "# x_grid and y_grid are of size 100 x 100\n",
    "probability_contour = model_prob(X).reshape(100,100) "
   ]
  },
  {
   "cell_type": "code",
   "execution_count": 29,
   "metadata": {
    "execution": {
     "iopub.execute_input": "2021-01-11T10:29:49.204884Z",
     "iopub.status.busy": "2021-01-11T10:29:49.204263Z",
     "iopub.status.idle": "2021-01-11T10:29:49.520990Z",
     "shell.execute_reply": "2021-01-11T10:29:49.520430Z"
    },
    "papermill": {
     "duration": 0.373103,
     "end_time": "2021-01-11T10:29:49.521143",
     "exception": false,
     "start_time": "2021-01-11T10:29:49.148040",
     "status": "completed"
    },
    "tags": []
   },
   "outputs": [
    {
     "data": {
      "image/png": "[encoded data removed]",
      "text/plain": [
       "<Figure size 720x648 with 1 Axes>"
      ]
     },
     "metadata": {
      "needs_background": "light"
     },
     "output_type": "display_data"
    }
   ],
   "source": [
    "plt.figure(figsize=(10,9))\n",
    "plt.scatter(plot_testing[:,0], plot_testing[:,1], alpha = 0.1, c = y_test.ravel())\n",
    "contours = plt.contour(x_grid,y_grid,probability_contour)\n",
    "plt.title('Probability Contours')\n",
    "plt.clabel(contours, inline = True );"
   ]
  }
 ],
 "metadata": {
  "kernelspec": {
   "display_name": "Python 3",
   "language": "python",
   "name": "python3"
  },
  "language_info": {
   "codemirror_mode": {
    "name": "ipython",
    "version": 3
   },
   "file_extension": ".py",
   "mimetype": "text/x-python",
   "name": "python",
   "nbconvert_exporter": "python",
   "pygments_lexer": "ipython3",
   "version": "3.6.12"
  },
  "papermill": {
   "duration": 172.68258,
   "end_time": "2021-01-11T10:29:49.986441",
   "environment_variables": {},
   "exception": null,
   "input_path": "2020-08-11-NeuralNetwork.ipynb",
   "output_path": "2020-08-11-NeuralNetwork.ipynb",
   "parameters": {},
   "start_time": "2021-01-11T10:26:57.303861",
   "version": "2.1.2"
  }
 },
 "nbformat": 4,
 "nbformat_minor": 4
}