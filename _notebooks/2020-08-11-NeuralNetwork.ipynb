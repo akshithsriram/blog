{
 "cells": [
  {
   "cell_type": "markdown",
   "id": "fitted-suggestion",
   "metadata": {
    "papermill": {
     "duration": 0.039298,
     "end_time": "2021-08-06T10:05:11.498323",
     "exception": false,
     "start_time": "2021-08-06T10:05:11.459025",
     "status": "completed"
    },
    "tags": []
   },
   "source": [
    "# \"A Basic Neural Network: Differentiate Hand-Written Digits\"\n",
    "\n",
    "- badges: true\n",
    "- author: Akshith Sriram"
   ]
  },
  {
   "cell_type": "markdown",
   "id": "signal-flexibility",
   "metadata": {
    "papermill": {
     "duration": 0.027383,
     "end_time": "2021-08-06T10:05:11.552715",
     "exception": false,
     "start_time": "2021-08-06T10:05:11.525332",
     "status": "completed"
    },
    "tags": []
   },
   "source": [
    "### Key Objectives:\n",
    "- Building a neural network that differentiates two hand-written digits 3 and 8.\n",
    "- Comparing the results of this Neural Network (NN) to that of a Logistic Regression (LR) model.\n",
    "\n",
    "### Requirements:\n",
    "- 'Kudzu' : A neural network library that was designed during our course by [Univ.AI](www.univ.ai). \n",
    "- MNIST Database\n",
    "\n",
    "If MNIST is not installed, use the command `!pip install mnist` given below.\n",
    "It can be run both from the command line and Jupyter Notebook."
   ]
  },
  {
   "cell_type": "code",
   "execution_count": 1,
   "id": "british-texture",
   "metadata": {
    "execution": {
     "iopub.execute_input": "2021-08-06T10:05:11.620200Z",
     "iopub.status.busy": "2021-08-06T10:05:11.619602Z",
     "iopub.status.idle": "2021-08-06T10:05:13.416125Z",
     "shell.execute_reply": "2021-08-06T10:05:13.415521Z"
    },
    "papermill": {
     "duration": 1.836371,
     "end_time": "2021-08-06T10:05:13.416265",
     "exception": false,
     "start_time": "2021-08-06T10:05:11.579894",
     "status": "completed"
    },
    "tags": []
   },
   "outputs": [
    {
     "name": "stdout",
     "output_type": "stream",
     "text": [
      "Collecting mnist\r\n"
     ]
    },
    {
     "name": "stdout",
     "output_type": "stream",
     "text": [
      "  Downloading mnist-0.2.2-py2.py3-none-any.whl (3.5 kB)\r\n",
      "Requirement already satisfied: numpy in /opt/hostedtoolcache/Python/3.6.14/x64/lib/python3.6/site-packages (from mnist) (1.19.5)\r\n"
     ]
    },
    {
     "name": "stdout",
     "output_type": "stream",
     "text": [
      "Installing collected packages: mnist\r\n",
      "Successfully installed mnist-0.2.2\r\n"
     ]
    }
   ],
   "source": [
    "!pip install mnist "
   ]
  },
  {
   "cell_type": "markdown",
   "id": "stunning-extra",
   "metadata": {
    "papermill": {
     "duration": 0.029187,
     "end_time": "2021-08-06T10:05:13.474737",
     "exception": false,
     "start_time": "2021-08-06T10:05:13.445550",
     "status": "completed"
    },
    "tags": []
   },
   "source": [
    "#### Importing necessary libraries"
   ]
  },
  {
   "cell_type": "code",
   "execution_count": 2,
   "id": "wooden-france",
   "metadata": {
    "execution": {
     "iopub.execute_input": "2021-08-06T10:05:13.544477Z",
     "iopub.status.busy": "2021-08-06T10:05:13.543872Z",
     "iopub.status.idle": "2021-08-06T10:05:14.125424Z",
     "shell.execute_reply": "2021-08-06T10:05:14.124892Z"
    },
    "papermill": {
     "duration": 0.621748,
     "end_time": "2021-08-06T10:05:14.125567",
     "exception": false,
     "start_time": "2021-08-06T10:05:13.503819",
     "status": "completed"
    },
    "tags": []
   },
   "outputs": [],
   "source": [
    "%load_ext autoreload\n",
    "%autoreload 2\n",
    "\n",
    "%matplotlib inline\n",
    "import matplotlib.pyplot as plt\n",
    "\n",
    "import numpy as np\n",
    "import pandas as pd"
   ]
  },
  {
   "cell_type": "markdown",
   "id": "stunning-physics",
   "metadata": {
    "papermill": {
     "duration": 0.028891,
     "end_time": "2021-08-06T10:05:14.183585",
     "exception": false,
     "start_time": "2021-08-06T10:05:14.154694",
     "status": "completed"
    },
    "tags": []
   },
   "source": [
    "### Preparing the Data"
   ]
  },
  {
   "cell_type": "code",
   "execution_count": 3,
   "id": "unauthorized-remainder",
   "metadata": {
    "execution": {
     "iopub.execute_input": "2021-08-06T10:05:14.245367Z",
     "iopub.status.busy": "2021-08-06T10:05:14.244773Z",
     "iopub.status.idle": "2021-08-06T10:05:14.257303Z",
     "shell.execute_reply": "2021-08-06T10:05:14.257806Z"
    },
    "papermill": {
     "duration": 0.045332,
     "end_time": "2021-08-06T10:05:14.257952",
     "exception": false,
     "start_time": "2021-08-06T10:05:14.212620",
     "status": "completed"
    },
    "tags": []
   },
   "outputs": [],
   "source": [
    "import mnist"
   ]
  },
  {
   "cell_type": "code",
   "execution_count": 4,
   "id": "correct-antarctica",
   "metadata": {
    "execution": {
     "iopub.execute_input": "2021-08-06T10:05:14.321581Z",
     "iopub.status.busy": "2021-08-06T10:05:14.321000Z",
     "iopub.status.idle": "2021-08-06T10:09:22.897239Z",
     "shell.execute_reply": "2021-08-06T10:09:22.896404Z"
    },
    "papermill": {
     "duration": 248.6091,
     "end_time": "2021-08-06T10:09:22.897381",
     "exception": false,
     "start_time": "2021-08-06T10:05:14.288281",
     "status": "completed"
    },
    "tags": []
   },
   "outputs": [],
   "source": [
    "train_images = mnist.train_images()\n",
    "train_labels = mnist.train_labels()"
   ]
  },
  {
   "cell_type": "code",
   "execution_count": 5,
   "id": "musical-prospect",
   "metadata": {
    "execution": {
     "iopub.execute_input": "2021-08-06T10:09:22.960209Z",
     "iopub.status.busy": "2021-08-06T10:09:22.959438Z",
     "iopub.status.idle": "2021-08-06T10:09:22.980051Z",
     "shell.execute_reply": "2021-08-06T10:09:22.980546Z"
    },
    "papermill": {
     "duration": 0.054439,
     "end_time": "2021-08-06T10:09:22.980688",
     "exception": false,
     "start_time": "2021-08-06T10:09:22.926249",
     "status": "completed"
    },
    "tags": []
   },
   "outputs": [
    {
     "data": {
      "text/plain": [
       "((60000, 28, 28), (60000,))"
      ]
     },
     "execution_count": 5,
     "metadata": {},
     "output_type": "execute_result"
    }
   ],
   "source": [
    "train_images.shape, train_labels.shape"
   ]
  },
  {
   "cell_type": "code",
   "execution_count": 6,
   "id": "preliminary-elizabeth",
   "metadata": {
    "execution": {
     "iopub.execute_input": "2021-08-06T10:09:23.041858Z",
     "iopub.status.busy": "2021-08-06T10:09:23.041247Z",
     "iopub.status.idle": "2021-08-06T10:10:04.264421Z",
     "shell.execute_reply": "2021-08-06T10:10:04.263412Z"
    },
    "papermill": {
     "duration": 41.25599,
     "end_time": "2021-08-06T10:10:04.264574",
     "exception": false,
     "start_time": "2021-08-06T10:09:23.008584",
     "status": "completed"
    },
    "tags": []
   },
   "outputs": [],
   "source": [
    "test_images = mnist.test_images()\n",
    "test_labels = mnist.test_labels()"
   ]
  },
  {
   "cell_type": "code",
   "execution_count": 7,
   "id": "acknowledged-oxygen",
   "metadata": {
    "execution": {
     "iopub.execute_input": "2021-08-06T10:10:04.331174Z",
     "iopub.status.busy": "2021-08-06T10:10:04.330567Z",
     "iopub.status.idle": "2021-08-06T10:10:04.342607Z",
     "shell.execute_reply": "2021-08-06T10:10:04.342124Z"
    },
    "papermill": {
     "duration": 0.048078,
     "end_time": "2021-08-06T10:10:04.342740",
     "exception": false,
     "start_time": "2021-08-06T10:10:04.294662",
     "status": "completed"
    },
    "tags": []
   },
   "outputs": [
    {
     "data": {
      "text/plain": [
       "((10000, 28, 28), (10000,))"
      ]
     },
     "execution_count": 7,
     "metadata": {},
     "output_type": "execute_result"
    }
   ],
   "source": [
    "test_images.shape, test_labels.shape"
   ]
  },
  {
   "cell_type": "code",
   "execution_count": 8,
   "id": "innovative-organic",
   "metadata": {
    "execution": {
     "iopub.execute_input": "2021-08-06T10:10:04.411897Z",
     "iopub.status.busy": "2021-08-06T10:10:04.411316Z",
     "iopub.status.idle": "2021-08-06T10:10:04.576690Z",
     "shell.execute_reply": "2021-08-06T10:10:04.577315Z"
    },
    "papermill": {
     "duration": 0.203205,
     "end_time": "2021-08-06T10:10:04.577484",
     "exception": false,
     "start_time": "2021-08-06T10:10:04.374279",
     "status": "completed"
    },
    "tags": []
   },
   "outputs": [
    {
     "name": "stdout",
     "output_type": "stream",
     "text": [
      "2\n"
     ]
    },
    {
     "data": {
      "text/plain": [
       "<matplotlib.image.AxesImage at 0x7fe56282c978>"
      ]
     },
     "execution_count": 8,
     "metadata": {},
     "output_type": "execute_result"
    },
    {
     "data": {
      "image/png": "[encoded data removed]",
      "text/plain": [
       "<Figure size 432x288 with 1 Axes>"
      ]
     },
     "metadata": {
      "needs_background": "light"
     },
     "output_type": "display_data"
    }
   ],
   "source": [
    "image_index = 7776 # You may select anything up to 60,000\n",
    "print(train_labels[image_index]) \n",
    "plt.imshow(train_images[image_index], cmap='Greys')"
   ]
  },
  {
   "cell_type": "markdown",
   "id": "facial-modem",
   "metadata": {
    "papermill": {
     "duration": 0.035545,
     "end_time": "2021-08-06T10:10:04.648605",
     "exception": false,
     "start_time": "2021-08-06T10:10:04.613060",
     "status": "completed"
    },
    "tags": []
   },
   "source": [
    "## Filter data to get 3 and 8 out"
   ]
  },
  {
   "cell_type": "code",
   "execution_count": 9,
   "id": "thousand-acquisition",
   "metadata": {
    "execution": {
     "iopub.execute_input": "2021-08-06T10:10:04.719887Z",
     "iopub.status.busy": "2021-08-06T10:10:04.719267Z",
     "iopub.status.idle": "2021-08-06T10:10:04.746513Z",
     "shell.execute_reply": "2021-08-06T10:10:04.745992Z"
    },
    "papermill": {
     "duration": 0.064308,
     "end_time": "2021-08-06T10:10:04.746651",
     "exception": false,
     "start_time": "2021-08-06T10:10:04.682343",
     "status": "completed"
    },
    "tags": []
   },
   "outputs": [],
   "source": [
    "train_filter = np.where((train_labels == 3 ) | (train_labels == 8))\n",
    "test_filter = np.where((test_labels == 3) | (test_labels == 8))\n",
    "X_train, y_train = train_images[train_filter], train_labels[train_filter]\n",
    "X_test, y_test = test_images[test_filter], test_labels[test_filter]"
   ]
  },
  {
   "cell_type": "markdown",
   "id": "ruled-access",
   "metadata": {
    "papermill": {
     "duration": 0.032839,
     "end_time": "2021-08-06T10:10:04.812487",
     "exception": false,
     "start_time": "2021-08-06T10:10:04.779648",
     "status": "completed"
    },
    "tags": []
   },
   "source": [
    "We normalize the pixel values in the 0 to 1 range"
   ]
  },
  {
   "cell_type": "code",
   "execution_count": 10,
   "id": "isolated-denver",
   "metadata": {
    "execution": {
     "iopub.execute_input": "2021-08-06T10:10:04.884545Z",
     "iopub.status.busy": "2021-08-06T10:10:04.883958Z",
     "iopub.status.idle": "2021-08-06T10:10:04.937159Z",
     "shell.execute_reply": "2021-08-06T10:10:04.936601Z"
    },
    "papermill": {
     "duration": 0.090044,
     "end_time": "2021-08-06T10:10:04.937288",
     "exception": false,
     "start_time": "2021-08-06T10:10:04.847244",
     "status": "completed"
    },
    "tags": []
   },
   "outputs": [],
   "source": [
    "X_train = X_train/255.\n",
    "X_test = X_test/255."
   ]
  },
  {
   "cell_type": "markdown",
   "id": "perfect-summary",
   "metadata": {
    "papermill": {
     "duration": 0.031496,
     "end_time": "2021-08-06T10:10:05.005127",
     "exception": false,
     "start_time": "2021-08-06T10:10:04.973631",
     "status": "completed"
    },
    "tags": []
   },
   "source": [
    "Setup the labels as 1 (when the digit is 3) and 0 (when the digit is 8)"
   ]
  },
  {
   "cell_type": "code",
   "execution_count": 11,
   "id": "personalized-growing",
   "metadata": {
    "execution": {
     "iopub.execute_input": "2021-08-06T10:10:05.070174Z",
     "iopub.status.busy": "2021-08-06T10:10:05.069534Z",
     "iopub.status.idle": "2021-08-06T10:10:05.083520Z",
     "shell.execute_reply": "2021-08-06T10:10:05.084012Z"
    },
    "papermill": {
     "duration": 0.049056,
     "end_time": "2021-08-06T10:10:05.084144",
     "exception": false,
     "start_time": "2021-08-06T10:10:05.035088",
     "status": "completed"
    },
    "tags": []
   },
   "outputs": [],
   "source": [
    "y_train = 1*(y_train==3)\n",
    "y_test = 1*(y_test==3)"
   ]
  },
  {
   "cell_type": "code",
   "execution_count": 12,
   "id": "considered-virgin",
   "metadata": {
    "execution": {
     "iopub.execute_input": "2021-08-06T10:10:05.153425Z",
     "iopub.status.busy": "2021-08-06T10:10:05.152838Z",
     "iopub.status.idle": "2021-08-06T10:10:05.169259Z",
     "shell.execute_reply": "2021-08-06T10:10:05.169754Z"
    },
    "papermill": {
     "duration": 0.055201,
     "end_time": "2021-08-06T10:10:05.169902",
     "exception": false,
     "start_time": "2021-08-06T10:10:05.114701",
     "status": "completed"
    },
    "tags": []
   },
   "outputs": [
    {
     "data": {
      "text/plain": [
       "((11982, 28, 28), (1984, 28, 28))"
      ]
     },
     "execution_count": 12,
     "metadata": {},
     "output_type": "execute_result"
    }
   ],
   "source": [
    "X_train.shape, X_test.shape"
   ]
  },
  {
   "cell_type": "markdown",
   "id": "civilian-mobile",
   "metadata": {
    "papermill": {
     "duration": 0.030269,
     "end_time": "2021-08-06T10:10:05.230978",
     "exception": false,
     "start_time": "2021-08-06T10:10:05.200709",
     "status": "completed"
    },
    "tags": []
   },
   "source": [
    "### Reshape the input data to create a linear array"
   ]
  },
  {
   "cell_type": "code",
   "execution_count": 13,
   "id": "colonial-adams",
   "metadata": {
    "execution": {
     "iopub.execute_input": "2021-08-06T10:10:05.296662Z",
     "iopub.status.busy": "2021-08-06T10:10:05.296072Z",
     "iopub.status.idle": "2021-08-06T10:10:05.322553Z",
     "shell.execute_reply": "2021-08-06T10:10:05.321972Z"
    },
    "papermill": {
     "duration": 0.061076,
     "end_time": "2021-08-06T10:10:05.322690",
     "exception": false,
     "start_time": "2021-08-06T10:10:05.261614",
     "status": "completed"
    },
    "tags": []
   },
   "outputs": [
    {
     "data": {
      "text/plain": [
       "((11982, 784), (1984, 784))"
      ]
     },
     "execution_count": 13,
     "metadata": {},
     "output_type": "execute_result"
    }
   ],
   "source": [
    "X_train = X_train.reshape(X_train.shape[0], -1)\n",
    "X_test = X_test.reshape(X_test.shape[0], -1)\n",
    "X_train.shape, X_test.shape"
   ]
  },
  {
   "cell_type": "markdown",
   "id": "smart-details",
   "metadata": {
    "papermill": {
     "duration": 0.031378,
     "end_time": "2021-08-06T10:10:05.385951",
     "exception": false,
     "start_time": "2021-08-06T10:10:05.354573",
     "status": "completed"
    },
    "tags": []
   },
   "source": [
    "### Importing appropriate functions from 'Kudzu'"
   ]
  },
  {
   "cell_type": "code",
   "execution_count": 14,
   "id": "celtic-trial",
   "metadata": {
    "execution": {
     "iopub.execute_input": "2021-08-06T10:10:05.453995Z",
     "iopub.status.busy": "2021-08-06T10:10:05.453380Z",
     "iopub.status.idle": "2021-08-06T10:10:05.475715Z",
     "shell.execute_reply": "2021-08-06T10:10:05.474921Z"
    },
    "papermill": {
     "duration": 0.058209,
     "end_time": "2021-08-06T10:10:05.475874",
     "exception": false,
     "start_time": "2021-08-06T10:10:05.417665",
     "status": "completed"
    },
    "tags": []
   },
   "outputs": [],
   "source": [
    "from kudzu.layer import Sigmoid\n",
    "from kudzu.layer import Relu\n",
    "from kudzu.layer import Affine, Sigmoid\n",
    "\n",
    "from kudzu.model import Model\n",
    "from kudzu.train import Learner\n",
    "from kudzu.optim import GD\n",
    "from kudzu.data import Data, Dataloader, Sampler\n",
    "\n",
    "from kudzu.callbacks import AccCallback\n",
    "from kudzu.callbacks import ClfCallback\n",
    "\n",
    "from kudzu.loss import MSE"
   ]
  },
  {
   "cell_type": "markdown",
   "id": "coupled-customer",
   "metadata": {
    "papermill": {
     "duration": 0.031667,
     "end_time": "2021-08-06T10:10:05.540614",
     "exception": false,
     "start_time": "2021-08-06T10:10:05.508947",
     "status": "completed"
    },
    "tags": []
   },
   "source": [
    "### Let us create a `Config` class, to store important parameters. \n",
    "This class essentially plays the role of a dictionary."
   ]
  },
  {
   "cell_type": "code",
   "execution_count": 15,
   "id": "young-ceiling",
   "metadata": {
    "execution": {
     "iopub.execute_input": "2021-08-06T10:10:05.607613Z",
     "iopub.status.busy": "2021-08-06T10:10:05.607018Z",
     "iopub.status.idle": "2021-08-06T10:10:05.622597Z",
     "shell.execute_reply": "2021-08-06T10:10:05.622081Z"
    },
    "papermill": {
     "duration": 0.050848,
     "end_time": "2021-08-06T10:10:05.622731",
     "exception": false,
     "start_time": "2021-08-06T10:10:05.571883",
     "status": "completed"
    },
    "tags": []
   },
   "outputs": [],
   "source": [
    "class Config:\n",
    "    pass\n",
    "config = Config()\n",
    "config.lr = 0.001\n",
    "config.num_epochs = 251\n",
    "config.bs = 50"
   ]
  },
  {
   "cell_type": "markdown",
   "id": "according-mandate",
   "metadata": {
    "papermill": {
     "duration": 0.034536,
     "end_time": "2021-08-06T10:10:05.694267",
     "exception": false,
     "start_time": "2021-08-06T10:10:05.659731",
     "status": "completed"
    },
    "tags": []
   },
   "source": [
    "### Initializing data to the variables"
   ]
  },
  {
   "cell_type": "code",
   "execution_count": 16,
   "id": "academic-disposition",
   "metadata": {
    "execution": {
     "iopub.execute_input": "2021-08-06T10:10:05.769591Z",
     "iopub.status.busy": "2021-08-06T10:10:05.768999Z",
     "iopub.status.idle": "2021-08-06T10:10:05.782375Z",
     "shell.execute_reply": "2021-08-06T10:10:05.782937Z"
    },
    "papermill": {
     "duration": 0.055458,
     "end_time": "2021-08-06T10:10:05.783085",
     "exception": false,
     "start_time": "2021-08-06T10:10:05.727627",
     "status": "completed"
    },
    "tags": []
   },
   "outputs": [],
   "source": [
    "data = Data(X_train, y_train.reshape(-1,1))\n",
    "sampler = Sampler(data, config.bs, shuffle=True)\n",
    "\n",
    "dl = Dataloader(data, sampler)\n",
    "\n",
    "opt = GD(config.lr)\n",
    "loss = MSE()"
   ]
  },
  {
   "cell_type": "code",
   "execution_count": 17,
   "id": "featured-commission",
   "metadata": {
    "execution": {
     "iopub.execute_input": "2021-08-06T10:10:05.851236Z",
     "iopub.status.busy": "2021-08-06T10:10:05.850645Z",
     "iopub.status.idle": "2021-08-06T10:10:05.878867Z",
     "shell.execute_reply": "2021-08-06T10:10:05.879446Z"
    },
    "papermill": {
     "duration": 0.064087,
     "end_time": "2021-08-06T10:10:05.879614",
     "exception": false,
     "start_time": "2021-08-06T10:10:05.815527",
     "status": "completed"
    },
    "tags": []
   },
   "outputs": [],
   "source": [
    "training_xdata = X_train\n",
    "testing_xdata = X_test\n",
    "training_ydata = y_train.reshape(-1,1)\n",
    "testing_ydata = y_test.reshape(-1,1)"
   ]
  },
  {
   "cell_type": "markdown",
   "id": "played-safety",
   "metadata": {
    "papermill": {
     "duration": 0.032012,
     "end_time": "2021-08-06T10:10:05.944505",
     "exception": false,
     "start_time": "2021-08-06T10:10:05.912493",
     "status": "completed"
    },
    "tags": []
   },
   "source": [
    "### Running Models with the Training data\n",
    "Details about the network layers:\n",
    "- A first affine layer has 784 inputs and does 100 affine transforms. These are followed by a Relu\n",
    "- A second affine layer has 100 inputs from the 100 activations of the past layer, and does 100 affine transforms. These are followed by a Relu\n",
    "- A third affine layer has 100 activations and does 2 affine transformations to create an embedding for visualization. There is no non-linearity here.\n",
    "- A final \"logistic regression\" which has an affine transform from 2 inputs to 1 output, which is squeezed through a sigmoid.\n",
    "\n",
    "Help taken from Anshuman's Notebook."
   ]
  },
  {
   "cell_type": "code",
   "execution_count": 18,
   "id": "asian-bankruptcy",
   "metadata": {
    "execution": {
     "iopub.execute_input": "2021-08-06T10:10:06.017510Z",
     "iopub.status.busy": "2021-08-06T10:10:06.016946Z",
     "iopub.status.idle": "2021-08-06T10:10:06.033558Z",
     "shell.execute_reply": "2021-08-06T10:10:06.033024Z"
    },
    "papermill": {
     "duration": 0.053355,
     "end_time": "2021-08-06T10:10:06.033707",
     "exception": false,
     "start_time": "2021-08-06T10:10:05.980352",
     "status": "completed"
    },
    "tags": []
   },
   "outputs": [],
   "source": [
    "# layers for the Neural Network\n",
    "layers = [Affine(\"first\", 784, 100), Relu(\"first\"), Affine(\"second\", 100, 100), Relu(\"second\"), Affine(\"third\", 100, 2), Affine(\"final\", 2, 1), Sigmoid(\"final\")]\n",
    "model_nn = Model(layers)\n",
    "\n",
    "# layers for the Logistic Regression\n",
    "layers_lr = [Affine(\"logits\", 784, 1), Sigmoid(\"sigmoid\")]\n",
    "model_lr = Model(layers_lr)"
   ]
  },
  {
   "cell_type": "code",
   "execution_count": 19,
   "id": "removed-butler",
   "metadata": {
    "execution": {
     "iopub.execute_input": "2021-08-06T10:10:06.102913Z",
     "iopub.status.busy": "2021-08-06T10:10:06.102328Z",
     "iopub.status.idle": "2021-08-06T10:10:06.115356Z",
     "shell.execute_reply": "2021-08-06T10:10:06.114902Z"
    },
    "papermill": {
     "duration": 0.049759,
     "end_time": "2021-08-06T10:10:06.115476",
     "exception": false,
     "start_time": "2021-08-06T10:10:06.065717",
     "status": "completed"
    },
    "tags": []
   },
   "outputs": [],
   "source": [
    "# suffix _nn stands for Neural Network.\n",
    "learner_nn = Learner(loss, model_nn, opt, config.num_epochs)\n",
    "acc_nn = ClfCallback(learner_nn, config.bs, training_xdata , testing_xdata, training_ydata, testing_ydata)\n",
    "learner_nn.set_callbacks([acc_nn])"
   ]
  },
  {
   "cell_type": "code",
   "execution_count": 20,
   "id": "conceptual-throw",
   "metadata": {
    "execution": {
     "iopub.execute_input": "2021-08-06T10:10:06.187307Z",
     "iopub.status.busy": "2021-08-06T10:10:06.186761Z",
     "iopub.status.idle": "2021-08-06T10:11:31.890359Z",
     "shell.execute_reply": "2021-08-06T10:11:31.890875Z"
    },
    "papermill": {
     "duration": 85.743522,
     "end_time": "2021-08-06T10:11:31.891018",
     "exception": false,
     "start_time": "2021-08-06T10:10:06.147496",
     "status": "completed"
    },
    "tags": []
   },
   "outputs": [
    {
     "name": "stdout",
     "output_type": "stream",
     "text": [
      "====== Neural Network ======\n"
     ]
    },
    {
     "name": "stdout",
     "output_type": "stream",
     "text": [
      "Epoch 0, Loss 0.2425\n",
      "Training Accuracy: 0.6898, Testing Accuracy: 0.7258\n",
      "\n"
     ]
    },
    {
     "name": "stdout",
     "output_type": "stream",
     "text": [
      "Epoch 10, Loss 0.0857\n",
      "Training Accuracy: 0.9271, Testing Accuracy: 0.9345\n",
      "\n"
     ]
    },
    {
     "name": "stdout",
     "output_type": "stream",
     "text": [
      "Epoch 20, Loss 0.0527\n",
      "Training Accuracy: 0.9474, Testing Accuracy: 0.9546\n",
      "\n"
     ]
    },
    {
     "name": "stdout",
     "output_type": "stream",
     "text": [
      "Epoch 30, Loss 0.0419\n",
      "Training Accuracy: 0.9543, Testing Accuracy: 0.9627\n",
      "\n"
     ]
    },
    {
     "name": "stdout",
     "output_type": "stream",
     "text": [
      "Epoch 40, Loss 0.0365\n",
      "Training Accuracy: 0.9595, Testing Accuracy: 0.9682\n",
      "\n"
     ]
    },
    {
     "name": "stdout",
     "output_type": "stream",
     "text": [
      "Epoch 50, Loss 0.0332\n",
      "Training Accuracy: 0.9624, Testing Accuracy: 0.9703\n",
      "\n"
     ]
    },
    {
     "name": "stdout",
     "output_type": "stream",
     "text": [
      "Epoch 60, Loss 0.0309\n",
      "Training Accuracy: 0.9644, Testing Accuracy: 0.9708\n",
      "\n"
     ]
    },
    {
     "name": "stdout",
     "output_type": "stream",
     "text": [
      "Epoch 70, Loss 0.0291\n",
      "Training Accuracy: 0.9658, Testing Accuracy: 0.9708\n",
      "\n"
     ]
    },
    {
     "name": "stdout",
     "output_type": "stream",
     "text": [
      "Epoch 80, Loss 0.0277\n",
      "Training Accuracy: 0.9675, Testing Accuracy: 0.9713\n",
      "\n"
     ]
    },
    {
     "name": "stdout",
     "output_type": "stream",
     "text": [
      "Epoch 90, Loss 0.0266\n",
      "Training Accuracy: 0.9689, Testing Accuracy: 0.9698\n",
      "\n"
     ]
    },
    {
     "name": "stdout",
     "output_type": "stream",
     "text": [
      "Epoch 100, Loss 0.0256\n",
      "Training Accuracy: 0.9704, Testing Accuracy: 0.9708\n",
      "\n"
     ]
    },
    {
     "name": "stdout",
     "output_type": "stream",
     "text": [
      "Epoch 110, Loss 0.0247\n",
      "Training Accuracy: 0.9712, Testing Accuracy: 0.9708\n",
      "\n"
     ]
    },
    {
     "name": "stdout",
     "output_type": "stream",
     "text": [
      "Epoch 120, Loss 0.024\n",
      "Training Accuracy: 0.9724, Testing Accuracy: 0.9713\n",
      "\n"
     ]
    },
    {
     "name": "stdout",
     "output_type": "stream",
     "text": [
      "Epoch 130, Loss 0.0233\n",
      "Training Accuracy: 0.9733, Testing Accuracy: 0.9723\n",
      "\n"
     ]
    },
    {
     "name": "stdout",
     "output_type": "stream",
     "text": [
      "Epoch 140, Loss 0.0226\n",
      "Training Accuracy: 0.9747, Testing Accuracy: 0.9728\n",
      "\n"
     ]
    },
    {
     "name": "stdout",
     "output_type": "stream",
     "text": [
      "Epoch 150, Loss 0.0221\n",
      "Training Accuracy: 0.9751, Testing Accuracy: 0.9728\n",
      "\n"
     ]
    },
    {
     "name": "stdout",
     "output_type": "stream",
     "text": [
      "Epoch 160, Loss 0.0215\n",
      "Training Accuracy: 0.9759, Testing Accuracy: 0.9733\n",
      "\n"
     ]
    },
    {
     "name": "stdout",
     "output_type": "stream",
     "text": [
      "Epoch 170, Loss 0.021\n",
      "Training Accuracy: 0.9761, Testing Accuracy: 0.9738\n",
      "\n"
     ]
    },
    {
     "name": "stdout",
     "output_type": "stream",
     "text": [
      "Epoch 180, Loss 0.0206\n",
      "Training Accuracy: 0.9767, Testing Accuracy: 0.9748\n",
      "\n"
     ]
    },
    {
     "name": "stdout",
     "output_type": "stream",
     "text": [
      "Epoch 190, Loss 0.0201\n",
      "Training Accuracy: 0.9770, Testing Accuracy: 0.9743\n",
      "\n"
     ]
    },
    {
     "name": "stdout",
     "output_type": "stream",
     "text": [
      "Epoch 200, Loss 0.0197\n",
      "Training Accuracy: 0.9778, Testing Accuracy: 0.9753\n",
      "\n"
     ]
    },
    {
     "name": "stdout",
     "output_type": "stream",
     "text": [
      "Epoch 210, Loss 0.0192\n",
      "Training Accuracy: 0.9785, Testing Accuracy: 0.9758\n",
      "\n"
     ]
    },
    {
     "name": "stdout",
     "output_type": "stream",
     "text": [
      "Epoch 220, Loss 0.0188\n",
      "Training Accuracy: 0.9788, Testing Accuracy: 0.9758\n",
      "\n"
     ]
    },
    {
     "name": "stdout",
     "output_type": "stream",
     "text": [
      "Epoch 230, Loss 0.0185\n",
      "Training Accuracy: 0.9794, Testing Accuracy: 0.9763\n",
      "\n"
     ]
    },
    {
     "name": "stdout",
     "output_type": "stream",
     "text": [
      "Epoch 240, Loss 0.0181\n",
      "Training Accuracy: 0.9801, Testing Accuracy: 0.9763\n",
      "\n"
     ]
    },
    {
     "name": "stdout",
     "output_type": "stream",
     "text": [
      "Epoch 250, Loss 0.0177\n",
      "Training Accuracy: 0.9807, Testing Accuracy: 0.9763\n",
      "\n"
     ]
    },
    {
     "data": {
      "text/plain": [
       "0.0229459055454003"
      ]
     },
     "execution_count": 20,
     "metadata": {},
     "output_type": "execute_result"
    }
   ],
   "source": [
    "print(\"====== Neural Network ======\")\n",
    "learner_nn.train_loop(dl)"
   ]
  },
  {
   "cell_type": "markdown",
   "id": "competent-suffering",
   "metadata": {
    "papermill": {
     "duration": 0.040159,
     "end_time": "2021-08-06T10:11:31.976984",
     "exception": false,
     "start_time": "2021-08-06T10:11:31.936825",
     "status": "completed"
    },
    "tags": []
   },
   "source": [
    "### Logistic Regression based Implementation."
   ]
  },
  {
   "cell_type": "code",
   "execution_count": 21,
   "id": "qualified-psychiatry",
   "metadata": {
    "execution": {
     "iopub.execute_input": "2021-08-06T10:11:32.063304Z",
     "iopub.status.busy": "2021-08-06T10:11:32.062734Z",
     "iopub.status.idle": "2021-08-06T10:11:32.076395Z",
     "shell.execute_reply": "2021-08-06T10:11:32.075919Z"
    },
    "papermill": {
     "duration": 0.057211,
     "end_time": "2021-08-06T10:11:32.076521",
     "exception": false,
     "start_time": "2021-08-06T10:11:32.019310",
     "status": "completed"
    },
    "tags": []
   },
   "outputs": [],
   "source": [
    "learner_lr = Learner(loss, model_lr, opt, config.num_epochs)\n",
    "acc_lr = ClfCallback(learner_lr, config.bs, training_xdata , testing_xdata, training_ydata, testing_ydata)\n",
    "learner_lr.set_callbacks([acc_lr])"
   ]
  },
  {
   "cell_type": "code",
   "execution_count": 22,
   "id": "average-outside",
   "metadata": {
    "execution": {
     "iopub.execute_input": "2021-08-06T10:11:32.158537Z",
     "iopub.status.busy": "2021-08-06T10:11:32.157668Z",
     "iopub.status.idle": "2021-08-06T10:11:47.124867Z",
     "shell.execute_reply": "2021-08-06T10:11:47.125322Z"
    },
    "papermill": {
     "duration": 15.01006,
     "end_time": "2021-08-06T10:11:47.125479",
     "exception": false,
     "start_time": "2021-08-06T10:11:32.115419",
     "status": "completed"
    },
    "tags": []
   },
   "outputs": [
    {
     "name": "stdout",
     "output_type": "stream",
     "text": [
      "====== Logistic Regression ======\n",
      "Epoch 0, Loss 0.2185\n",
      "Training Accuracy: 0.7594, Testing Accuracy: 0.8065\n",
      "\n"
     ]
    },
    {
     "name": "stdout",
     "output_type": "stream",
     "text": [
      "Epoch 10, Loss 0.098\n",
      "Training Accuracy: 0.9171, Testing Accuracy: 0.9284\n",
      "\n"
     ]
    },
    {
     "name": "stdout",
     "output_type": "stream",
     "text": [
      "Epoch 20, Loss 0.0767\n",
      "Training Accuracy: 0.9308, Testing Accuracy: 0.9400\n",
      "\n"
     ]
    },
    {
     "name": "stdout",
     "output_type": "stream",
     "text": [
      "Epoch 30, Loss 0.0667\n",
      "Training Accuracy: 0.9377, Testing Accuracy: 0.9456\n",
      "\n"
     ]
    },
    {
     "name": "stdout",
     "output_type": "stream",
     "text": [
      "Epoch 40, Loss 0.0605\n",
      "Training Accuracy: 0.9415, Testing Accuracy: 0.9511\n",
      "\n"
     ]
    },
    {
     "name": "stdout",
     "output_type": "stream",
     "text": [
      "Epoch 50, Loss 0.0563\n",
      "Training Accuracy: 0.9451, Testing Accuracy: 0.9551\n",
      "\n"
     ]
    },
    {
     "name": "stdout",
     "output_type": "stream",
     "text": [
      "Epoch 60, Loss 0.0531\n",
      "Training Accuracy: 0.9477, Testing Accuracy: 0.9567\n",
      "\n"
     ]
    },
    {
     "name": "stdout",
     "output_type": "stream",
     "text": [
      "Epoch 70, Loss 0.0507\n",
      "Training Accuracy: 0.9498, Testing Accuracy: 0.9597\n",
      "\n"
     ]
    },
    {
     "name": "stdout",
     "output_type": "stream",
     "text": [
      "Epoch 80, Loss 0.0487\n",
      "Training Accuracy: 0.9518, Testing Accuracy: 0.9607\n",
      "\n"
     ]
    },
    {
     "name": "stdout",
     "output_type": "stream",
     "text": [
      "Epoch 90, Loss 0.0471\n",
      "Training Accuracy: 0.9532, Testing Accuracy: 0.9602\n",
      "\n"
     ]
    },
    {
     "name": "stdout",
     "output_type": "stream",
     "text": [
      "Epoch 100, Loss 0.0457\n",
      "Training Accuracy: 0.9543, Testing Accuracy: 0.9612\n",
      "\n"
     ]
    },
    {
     "name": "stdout",
     "output_type": "stream",
     "text": [
      "Epoch 110, Loss 0.0445\n",
      "Training Accuracy: 0.9553, Testing Accuracy: 0.9622\n",
      "\n"
     ]
    },
    {
     "name": "stdout",
     "output_type": "stream",
     "text": [
      "Epoch 120, Loss 0.0435\n",
      "Training Accuracy: 0.9557, Testing Accuracy: 0.9627\n",
      "\n"
     ]
    },
    {
     "name": "stdout",
     "output_type": "stream",
     "text": [
      "Epoch 130, Loss 0.0426\n",
      "Training Accuracy: 0.9559, Testing Accuracy: 0.9627\n",
      "\n"
     ]
    },
    {
     "name": "stdout",
     "output_type": "stream",
     "text": [
      "Epoch 140, Loss 0.0418\n",
      "Training Accuracy: 0.9564, Testing Accuracy: 0.9632\n",
      "\n"
     ]
    },
    {
     "name": "stdout",
     "output_type": "stream",
     "text": [
      "Epoch 150, Loss 0.0411\n",
      "Training Accuracy: 0.9577, Testing Accuracy: 0.9642\n",
      "\n"
     ]
    },
    {
     "name": "stdout",
     "output_type": "stream",
     "text": [
      "Epoch 160, Loss 0.0404\n",
      "Training Accuracy: 0.9579, Testing Accuracy: 0.9647\n",
      "\n"
     ]
    },
    {
     "name": "stdout",
     "output_type": "stream",
     "text": [
      "Epoch 170, Loss 0.0398\n",
      "Training Accuracy: 0.9584, Testing Accuracy: 0.9652\n",
      "\n"
     ]
    },
    {
     "name": "stdout",
     "output_type": "stream",
     "text": [
      "Epoch 180, Loss 0.0392\n",
      "Training Accuracy: 0.9587, Testing Accuracy: 0.9657\n",
      "\n"
     ]
    },
    {
     "name": "stdout",
     "output_type": "stream",
     "text": [
      "Epoch 190, Loss 0.0387\n",
      "Training Accuracy: 0.9591, Testing Accuracy: 0.9657\n",
      "\n"
     ]
    },
    {
     "name": "stdout",
     "output_type": "stream",
     "text": [
      "Epoch 200, Loss 0.0383\n",
      "Training Accuracy: 0.9591, Testing Accuracy: 0.9657\n",
      "\n"
     ]
    },
    {
     "name": "stdout",
     "output_type": "stream",
     "text": [
      "Epoch 210, Loss 0.0378\n",
      "Training Accuracy: 0.9596, Testing Accuracy: 0.9657\n",
      "\n"
     ]
    },
    {
     "name": "stdout",
     "output_type": "stream",
     "text": [
      "Epoch 220, Loss 0.0374\n",
      "Training Accuracy: 0.9599, Testing Accuracy: 0.9662\n",
      "\n"
     ]
    },
    {
     "name": "stdout",
     "output_type": "stream",
     "text": [
      "Epoch 230, Loss 0.037\n",
      "Training Accuracy: 0.9600, Testing Accuracy: 0.9667\n",
      "\n"
     ]
    },
    {
     "name": "stdout",
     "output_type": "stream",
     "text": [
      "Epoch 240, Loss 0.0367\n",
      "Training Accuracy: 0.9603, Testing Accuracy: 0.9667\n",
      "\n"
     ]
    },
    {
     "name": "stdout",
     "output_type": "stream",
     "text": [
      "Epoch 250, Loss 0.0363\n",
      "Training Accuracy: 0.9606, Testing Accuracy: 0.9667\n",
      "\n"
     ]
    },
    {
     "data": {
      "text/plain": [
       "0.02838465247779161"
      ]
     },
     "execution_count": 22,
     "metadata": {},
     "output_type": "execute_result"
    }
   ],
   "source": [
    "print(\"====== Logistic Regression ======\")\n",
    "learner_lr.train_loop(dl)"
   ]
  },
  {
   "cell_type": "markdown",
   "id": "adjusted-possible",
   "metadata": {
    "papermill": {
     "duration": 0.047133,
     "end_time": "2021-08-06T10:11:47.219181",
     "exception": false,
     "start_time": "2021-08-06T10:11:47.172048",
     "status": "completed"
    },
    "tags": []
   },
   "source": [
    "### Comparing results of NN and LR"
   ]
  },
  {
   "cell_type": "code",
   "execution_count": 23,
   "id": "mental-multimedia",
   "metadata": {
    "execution": {
     "iopub.execute_input": "2021-08-06T10:11:47.320097Z",
     "iopub.status.busy": "2021-08-06T10:11:47.319501Z",
     "iopub.status.idle": "2021-08-06T10:11:47.589150Z",
     "shell.execute_reply": "2021-08-06T10:11:47.588452Z"
    },
    "papermill": {
     "duration": 0.323775,
     "end_time": "2021-08-06T10:11:47.589276",
     "exception": false,
     "start_time": "2021-08-06T10:11:47.265501",
     "status": "completed"
    },
    "tags": []
   },
   "outputs": [
    {
     "data": {
      "text/plain": [
       "<matplotlib.legend.Legend at 0x7fe55a3a9630>"
      ]
     },
     "execution_count": 23,
     "metadata": {},
     "output_type": "execute_result"
    },
    {
     "data": {
      "image/png": "[encoded data removed]",
      "text/plain": [
       "<Figure size 1080x720 with 1 Axes>"
      ]
     },
     "metadata": {
      "needs_background": "light"
     },
     "output_type": "display_data"
    }
   ],
   "source": [
    "plt.figure(figsize=(15,10))\n",
    "\n",
    "# Neural Network plots\n",
    "plt.plot(acc_nn.accuracies, 'r-', label = \"Training Accuracies - NN\")\n",
    "plt.plot(acc_nn.test_accuracies, 'g-', label = \"Testing Accuracies - NN\")\n",
    "\n",
    "# Logistic Regression plots\n",
    "plt.plot(acc_lr.accuracies, 'k-', label = \"Training Accuracies - LR\")\n",
    "plt.plot(acc_lr.test_accuracies, 'b-', label = \"Testing Accuracies - LR\")\n",
    "\n",
    "plt.ylim(0.8, 1)\n",
    "\n",
    "plt.legend()\n",
    "\n"
   ]
  },
  {
   "cell_type": "markdown",
   "id": "sexual-flesh",
   "metadata": {
    "papermill": {
     "duration": 0.048774,
     "end_time": "2021-08-06T10:11:47.684543",
     "exception": false,
     "start_time": "2021-08-06T10:11:47.635769",
     "status": "completed"
    },
    "tags": []
   },
   "source": [
    "### From the plot, we can observe the following:\n",
    "- Neural Network achieves higher accuracy than the Logistic Regression model.\n",
    "- This apparently, is because of overfitting, i.e. NN captures more noise than data.\n",
    "- Testing accuracy of NN drops below the Training accuracy at higher epochs. This explains the over-fitting on training data.\n",
    "- Logistic Regression gives a reliable accuracy, without the above mentioned problem.\n"
   ]
  },
  {
   "cell_type": "markdown",
   "id": "institutional-pacific",
   "metadata": {
    "papermill": {
     "duration": 0.049108,
     "end_time": "2021-08-06T10:11:47.781795",
     "exception": false,
     "start_time": "2021-08-06T10:11:47.732687",
     "status": "completed"
    },
    "tags": []
   },
   "source": [
    "### Moving till the last but one layer (excluding it).\n",
    "#### Plotting the outputs of this layer of the NN."
   ]
  },
  {
   "cell_type": "code",
   "execution_count": 24,
   "id": "economic-server",
   "metadata": {
    "execution": {
     "iopub.execute_input": "2021-08-06T10:11:47.883945Z",
     "iopub.status.busy": "2021-08-06T10:11:47.883391Z",
     "iopub.status.idle": "2021-08-06T10:11:47.895574Z",
     "shell.execute_reply": "2021-08-06T10:11:47.895030Z"
    },
    "papermill": {
     "duration": 0.065847,
     "end_time": "2021-08-06T10:11:47.895679",
     "exception": false,
     "start_time": "2021-08-06T10:11:47.829832",
     "status": "completed"
    },
    "tags": []
   },
   "outputs": [],
   "source": [
    "model_new = Model(layers[:-2])"
   ]
  },
  {
   "cell_type": "code",
   "execution_count": 25,
   "id": "varied-upgrade",
   "metadata": {
    "execution": {
     "iopub.execute_input": "2021-08-06T10:11:47.998558Z",
     "iopub.status.busy": "2021-08-06T10:11:47.994770Z",
     "iopub.status.idle": "2021-08-06T10:11:48.015981Z",
     "shell.execute_reply": "2021-08-06T10:11:48.016638Z"
    },
    "papermill": {
     "duration": 0.07446,
     "end_time": "2021-08-06T10:11:48.016780",
     "exception": false,
     "start_time": "2021-08-06T10:11:47.942320",
     "status": "completed"
    },
    "tags": []
   },
   "outputs": [],
   "source": [
    "plot_testing = model_new(testing_xdata)"
   ]
  },
  {
   "cell_type": "code",
   "execution_count": 26,
   "id": "specific-handling",
   "metadata": {
    "execution": {
     "iopub.execute_input": "2021-08-06T10:11:48.180403Z",
     "iopub.status.busy": "2021-08-06T10:11:48.179810Z",
     "iopub.status.idle": "2021-08-06T10:11:48.406883Z",
     "shell.execute_reply": "2021-08-06T10:11:48.406428Z"
    },
    "papermill": {
     "duration": 0.295393,
     "end_time": "2021-08-06T10:11:48.407009",
     "exception": false,
     "start_time": "2021-08-06T10:11:48.111616",
     "status": "completed"
    },
    "tags": []
   },
   "outputs": [
    {
     "data": {
      "text/plain": [
       "Text(0.5, 1.0, 'Outputs')"
      ]
     },
     "execution_count": 26,
     "metadata": {},
     "output_type": "execute_result"
    },
    {
     "data": {
      "image/png": "[encoded data removed]",
      "text/plain": [
       "<Figure size 576x504 with 1 Axes>"
      ]
     },
     "metadata": {
      "needs_background": "light"
     },
     "output_type": "display_data"
    }
   ],
   "source": [
    "plt.figure(figsize=(8,7))\n",
    "plt.scatter(plot_testing[:,0], plot_testing[:,1], alpha = 0.1, c = y_test.ravel());\n",
    "plt.title('Outputs')"
   ]
  },
  {
   "cell_type": "markdown",
   "id": "described-knowing",
   "metadata": {
    "papermill": {
     "duration": 0.050084,
     "end_time": "2021-08-06T10:11:48.507007",
     "exception": false,
     "start_time": "2021-08-06T10:11:48.456923",
     "status": "completed"
    },
    "tags": []
   },
   "source": [
    "### Plotting probability contours"
   ]
  },
  {
   "cell_type": "code",
   "execution_count": 27,
   "id": "needed-growing",
   "metadata": {
    "execution": {
     "iopub.execute_input": "2021-08-06T10:11:48.608462Z",
     "iopub.status.busy": "2021-08-06T10:11:48.607883Z",
     "iopub.status.idle": "2021-08-06T10:11:48.623976Z",
     "shell.execute_reply": "2021-08-06T10:11:48.623450Z"
    },
    "papermill": {
     "duration": 0.06869,
     "end_time": "2021-08-06T10:11:48.624089",
     "exception": false,
     "start_time": "2021-08-06T10:11:48.555399",
     "status": "completed"
    },
    "tags": []
   },
   "outputs": [],
   "source": [
    "model_prob = Model(layers[-2:]) "
   ]
  },
  {
   "cell_type": "code",
   "execution_count": 28,
   "id": "introductory-enforcement",
   "metadata": {
    "execution": {
     "iopub.execute_input": "2021-08-06T10:11:48.729954Z",
     "iopub.status.busy": "2021-08-06T10:11:48.729296Z",
     "iopub.status.idle": "2021-08-06T10:11:48.744348Z",
     "shell.execute_reply": "2021-08-06T10:11:48.744782Z"
    },
    "papermill": {
     "duration": 0.071569,
     "end_time": "2021-08-06T10:11:48.744924",
     "exception": false,
     "start_time": "2021-08-06T10:11:48.673355",
     "status": "completed"
    },
    "tags": []
   },
   "outputs": [],
   "source": [
    "# Adjust the x and y ranges according to the above generated plot.\n",
    "x_range = np.linspace(-4, 1, 100) \n",
    "y_range = np.linspace(-6, 6, 100) \n",
    "x_grid, y_grid = np.meshgrid(x_range, y_range) # x_grid and y_grig are of size 100 X 100\n",
    "\n",
    "# converting x_grid and y_grid to continuous arrays\n",
    "x_grid_flat = np.ravel(x_grid)\n",
    "y_grid_flat = np.ravel(y_grid)\n",
    "\n",
    "# The last layer of the current model takes two columns as input. Hence transpose of np.vstack() is required.\n",
    "X = np.vstack((x_grid_flat, y_grid_flat)).T\n",
    "\n",
    "# x_grid and y_grid are of size 100 x 100\n",
    "probability_contour = model_prob(X).reshape(100,100) "
   ]
  },
  {
   "cell_type": "code",
   "execution_count": 29,
   "id": "understood-landing",
   "metadata": {
    "execution": {
     "iopub.execute_input": "2021-08-06T10:11:48.867016Z",
     "iopub.status.busy": "2021-08-06T10:11:48.866444Z",
     "iopub.status.idle": "2021-08-06T10:11:49.144284Z",
     "shell.execute_reply": "2021-08-06T10:11:49.143209Z"
    },
    "papermill": {
     "duration": 0.343364,
     "end_time": "2021-08-06T10:11:49.144417",
     "exception": false,
     "start_time": "2021-08-06T10:11:48.801053",
     "status": "completed"
    },
    "tags": []
   },
   "outputs": [
    {
     "data": {
      "image/png": "[encoded data removed]",
      "text/plain": [
       "<Figure size 720x648 with 1 Axes>"
      ]
     },
     "metadata": {
      "needs_background": "light"
     },
     "output_type": "display_data"
    }
   ],
   "source": [
    "plt.figure(figsize=(10,9))\n",
    "plt.scatter(plot_testing[:,0], plot_testing[:,1], alpha = 0.1, c = y_test.ravel())\n",
    "contours = plt.contour(x_grid,y_grid,probability_contour)\n",
    "plt.title('Probability Contours')\n",
    "plt.clabel(contours, inline = True );"
   ]
  }
 ],
 "metadata": {
  "kernelspec": {
   "display_name": "Python 3",
   "language": "python",
   "name": "python3"
  },
  "language_info": {
   "codemirror_mode": {
    "name": "ipython",
    "version": 3
   },
   "file_extension": ".py",
   "mimetype": "text/x-python",
   "name": "python",
   "nbconvert_exporter": "python",
   "pygments_lexer": "ipython3",
   "version": "3.6.14"
  },
  "papermill": {
   "duration": 399.225039,
   "end_time": "2021-08-06T10:11:49.606730",
   "environment_variables": {},
   "exception": null,
   "input_path": "2020-08-11-NeuralNetwork.ipynb",
   "output_path": "2020-08-11-NeuralNetwork.ipynb",
   "parameters": {},
   "start_time": "2021-08-06T10:05:10.381691",
   "version": "2.1.2"
  }
 },
 "nbformat": 4,
 "nbformat_minor": 5
}