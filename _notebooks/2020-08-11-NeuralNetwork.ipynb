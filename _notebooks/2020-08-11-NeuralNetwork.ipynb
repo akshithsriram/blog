{
 "cells": [
  {
   "cell_type": "markdown",
   "metadata": {
    "papermill": {
     "duration": 0.028634,
     "end_time": "2020-12-28T20:08:22.984854",
     "exception": false,
     "start_time": "2020-12-28T20:08:22.956220",
     "status": "completed"
    },
    "tags": []
   },
   "source": [
    "# \"A Basic Neural Network: Differentiate Hand-Written Digits\"\n",
    "\n",
    "- badges: true\n",
    "- author: Akshith Sriram"
   ]
  },
  {
   "cell_type": "markdown",
   "metadata": {
    "papermill": {
     "duration": 0.028522,
     "end_time": "2020-12-28T20:08:23.039654",
     "exception": false,
     "start_time": "2020-12-28T20:08:23.011132",
     "status": "completed"
    },
    "tags": []
   },
   "source": [
    "### Key Objectives:\n",
    "- Building a neural network that differentiates two hand-written digits 3 and 8.\n",
    "- Comparing the results of this Neural Network (NN) to that of a Logistic Regression (LR) model.\n",
    "\n",
    "### Requirements:\n",
    "- 'Kudzu' : A neural network library that was designed during our course by [Univ.AI](www.univ.ai). \n",
    "- MNIST Database\n",
    "\n",
    "If MNIST is not installed, use the command `!pip install mnist` given below.\n",
    "It can be run both from the command line and Jupyter Notebook."
   ]
  },
  {
   "cell_type": "code",
   "execution_count": 1,
   "metadata": {
    "execution": {
     "iopub.execute_input": "2020-12-28T20:08:23.103432Z",
     "iopub.status.busy": "2020-12-28T20:08:23.101615Z",
     "iopub.status.idle": "2020-12-28T20:08:24.598352Z",
     "shell.execute_reply": "2020-12-28T20:08:24.597460Z"
    },
    "papermill": {
     "duration": 1.529431,
     "end_time": "2020-12-28T20:08:24.598513",
     "exception": false,
     "start_time": "2020-12-28T20:08:23.069082",
     "status": "completed"
    },
    "tags": []
   },
   "outputs": [
    {
     "name": "stdout",
     "output_type": "stream",
     "text": [
      "Collecting mnist\r\n"
     ]
    },
    {
     "name": "stdout",
     "output_type": "stream",
     "text": [
      "  Downloading mnist-0.2.2-py2.py3-none-any.whl (3.5 kB)\r\n",
      "Requirement already satisfied: numpy in /opt/hostedtoolcache/Python/3.6.12/x64/lib/python3.6/site-packages (from mnist) (1.19.4)\r\n"
     ]
    },
    {
     "name": "stdout",
     "output_type": "stream",
     "text": [
      "Installing collected packages: mnist\r\n"
     ]
    },
    {
     "name": "stdout",
     "output_type": "stream",
     "text": [
      "Successfully installed mnist-0.2.2\r\n",
      "\u001b[33mWARNING: You are using pip version 20.3.1; however, version 20.3.3 is available.\r\n",
      "You should consider upgrading via the '/opt/hostedtoolcache/Python/3.6.12/x64/bin/python -m pip install --upgrade pip' command.\u001b[0m\r\n"
     ]
    }
   ],
   "source": [
    "!pip install mnist "
   ]
  },
  {
   "cell_type": "markdown",
   "metadata": {
    "papermill": {
     "duration": 0.025629,
     "end_time": "2020-12-28T20:08:24.650227",
     "exception": false,
     "start_time": "2020-12-28T20:08:24.624598",
     "status": "completed"
    },
    "tags": []
   },
   "source": [
    "#### Importing necessary libraries"
   ]
  },
  {
   "cell_type": "code",
   "execution_count": 2,
   "metadata": {
    "execution": {
     "iopub.execute_input": "2020-12-28T20:08:24.709001Z",
     "iopub.status.busy": "2020-12-28T20:08:24.708362Z",
     "iopub.status.idle": "2020-12-28T20:08:25.222521Z",
     "shell.execute_reply": "2020-12-28T20:08:25.221989Z"
    },
    "papermill": {
     "duration": 0.546495,
     "end_time": "2020-12-28T20:08:25.222657",
     "exception": false,
     "start_time": "2020-12-28T20:08:24.676162",
     "status": "completed"
    },
    "tags": []
   },
   "outputs": [],
   "source": [
    "%load_ext autoreload\n",
    "%autoreload 2\n",
    "\n",
    "%matplotlib inline\n",
    "import matplotlib.pyplot as plt\n",
    "\n",
    "import numpy as np\n",
    "import pandas as pd"
   ]
  },
  {
   "cell_type": "markdown",
   "metadata": {
    "papermill": {
     "duration": 0.026237,
     "end_time": "2020-12-28T20:08:25.275575",
     "exception": false,
     "start_time": "2020-12-28T20:08:25.249338",
     "status": "completed"
    },
    "tags": []
   },
   "source": [
    "### Preparing the Data"
   ]
  },
  {
   "cell_type": "code",
   "execution_count": 3,
   "metadata": {
    "execution": {
     "iopub.execute_input": "2020-12-28T20:08:25.340475Z",
     "iopub.status.busy": "2020-12-28T20:08:25.339872Z",
     "iopub.status.idle": "2020-12-28T20:08:25.349032Z",
     "shell.execute_reply": "2020-12-28T20:08:25.349589Z"
    },
    "papermill": {
     "duration": 0.047034,
     "end_time": "2020-12-28T20:08:25.349723",
     "exception": false,
     "start_time": "2020-12-28T20:08:25.302689",
     "status": "completed"
    },
    "tags": []
   },
   "outputs": [],
   "source": [
    "import mnist"
   ]
  },
  {
   "cell_type": "code",
   "execution_count": 4,
   "metadata": {
    "execution": {
     "iopub.execute_input": "2020-12-28T20:08:25.410624Z",
     "iopub.status.busy": "2020-12-28T20:08:25.410013Z",
     "iopub.status.idle": "2020-12-28T20:08:27.063069Z",
     "shell.execute_reply": "2020-12-28T20:08:27.062482Z"
    },
    "papermill": {
     "duration": 1.687728,
     "end_time": "2020-12-28T20:08:27.063217",
     "exception": false,
     "start_time": "2020-12-28T20:08:25.375489",
     "status": "completed"
    },
    "tags": []
   },
   "outputs": [],
   "source": [
    "train_images = mnist.train_images()\n",
    "train_labels = mnist.train_labels()"
   ]
  },
  {
   "cell_type": "code",
   "execution_count": 5,
   "metadata": {
    "execution": {
     "iopub.execute_input": "2020-12-28T20:08:27.121058Z",
     "iopub.status.busy": "2020-12-28T20:08:27.120395Z",
     "iopub.status.idle": "2020-12-28T20:08:27.133460Z",
     "shell.execute_reply": "2020-12-28T20:08:27.134101Z"
    },
    "papermill": {
     "duration": 0.043437,
     "end_time": "2020-12-28T20:08:27.134267",
     "exception": false,
     "start_time": "2020-12-28T20:08:27.090830",
     "status": "completed"
    },
    "tags": []
   },
   "outputs": [
    {
     "data": {
      "text/plain": [
       "((60000, 28, 28), (60000,))"
      ]
     },
     "execution_count": 5,
     "metadata": {},
     "output_type": "execute_result"
    }
   ],
   "source": [
    "train_images.shape, train_labels.shape"
   ]
  },
  {
   "cell_type": "code",
   "execution_count": 6,
   "metadata": {
    "execution": {
     "iopub.execute_input": "2020-12-28T20:08:27.192358Z",
     "iopub.status.busy": "2020-12-28T20:08:27.191696Z",
     "iopub.status.idle": "2020-12-28T20:08:28.204457Z",
     "shell.execute_reply": "2020-12-28T20:08:28.203489Z"
    },
    "papermill": {
     "duration": 1.044335,
     "end_time": "2020-12-28T20:08:28.204663",
     "exception": false,
     "start_time": "2020-12-28T20:08:27.160328",
     "status": "completed"
    },
    "tags": []
   },
   "outputs": [],
   "source": [
    "test_images = mnist.test_images()\n",
    "test_labels = mnist.test_labels()"
   ]
  },
  {
   "cell_type": "code",
   "execution_count": 7,
   "metadata": {
    "execution": {
     "iopub.execute_input": "2020-12-28T20:08:28.265293Z",
     "iopub.status.busy": "2020-12-28T20:08:28.264674Z",
     "iopub.status.idle": "2020-12-28T20:08:28.272017Z",
     "shell.execute_reply": "2020-12-28T20:08:28.272576Z"
    },
    "papermill": {
     "duration": 0.041657,
     "end_time": "2020-12-28T20:08:28.272705",
     "exception": false,
     "start_time": "2020-12-28T20:08:28.231048",
     "status": "completed"
    },
    "tags": []
   },
   "outputs": [
    {
     "data": {
      "text/plain": [
       "((10000, 28, 28), (10000,))"
      ]
     },
     "execution_count": 7,
     "metadata": {},
     "output_type": "execute_result"
    }
   ],
   "source": [
    "test_images.shape, test_labels.shape"
   ]
  },
  {
   "cell_type": "code",
   "execution_count": 8,
   "metadata": {
    "execution": {
     "iopub.execute_input": "2020-12-28T20:08:28.329420Z",
     "iopub.status.busy": "2020-12-28T20:08:28.328772Z",
     "iopub.status.idle": "2020-12-28T20:08:28.476569Z",
     "shell.execute_reply": "2020-12-28T20:08:28.477071Z"
    },
    "papermill": {
     "duration": 0.176732,
     "end_time": "2020-12-28T20:08:28.477267",
     "exception": false,
     "start_time": "2020-12-28T20:08:28.300535",
     "status": "completed"
    },
    "tags": []
   },
   "outputs": [
    {
     "name": "stdout",
     "output_type": "stream",
     "text": [
      "2\n"
     ]
    },
    {
     "data": {
      "text/plain": [
       "<matplotlib.image.AxesImage at 0x7f83eb93b2b0>"
      ]
     },
     "execution_count": 8,
     "metadata": {},
     "output_type": "execute_result"
    },
    {
     "data": {
      "image/png": "[encoded data removed]",
      "text/plain": [
       "<Figure size 432x288 with 1 Axes>"
      ]
     },
     "metadata": {
      "needs_background": "light"
     },
     "output_type": "display_data"
    }
   ],
   "source": [
    "image_index = 7776 # You may select anything up to 60,000\n",
    "print(train_labels[image_index]) \n",
    "plt.imshow(train_images[image_index], cmap='Greys')"
   ]
  },
  {
   "cell_type": "markdown",
   "metadata": {
    "papermill": {
     "duration": 0.028237,
     "end_time": "2020-12-28T20:08:28.533975",
     "exception": false,
     "start_time": "2020-12-28T20:08:28.505738",
     "status": "completed"
    },
    "tags": []
   },
   "source": [
    "## Filter data to get 3 and 8 out"
   ]
  },
  {
   "cell_type": "code",
   "execution_count": 9,
   "metadata": {
    "execution": {
     "iopub.execute_input": "2020-12-28T20:08:28.593168Z",
     "iopub.status.busy": "2020-12-28T20:08:28.592543Z",
     "iopub.status.idle": "2020-12-28T20:08:28.608365Z",
     "shell.execute_reply": "2020-12-28T20:08:28.607843Z"
    },
    "papermill": {
     "duration": 0.047239,
     "end_time": "2020-12-28T20:08:28.608501",
     "exception": false,
     "start_time": "2020-12-28T20:08:28.561262",
     "status": "completed"
    },
    "tags": []
   },
   "outputs": [],
   "source": [
    "train_filter = np.where((train_labels == 3 ) | (train_labels == 8))\n",
    "test_filter = np.where((test_labels == 3) | (test_labels == 8))\n",
    "X_train, y_train = train_images[train_filter], train_labels[train_filter]\n",
    "X_test, y_test = test_images[test_filter], test_labels[test_filter]"
   ]
  },
  {
   "cell_type": "markdown",
   "metadata": {
    "papermill": {
     "duration": 0.028057,
     "end_time": "2020-12-28T20:08:28.664406",
     "exception": false,
     "start_time": "2020-12-28T20:08:28.636349",
     "status": "completed"
    },
    "tags": []
   },
   "source": [
    "We normalize the pixel values in the 0 to 1 range"
   ]
  },
  {
   "cell_type": "code",
   "execution_count": 10,
   "metadata": {
    "execution": {
     "iopub.execute_input": "2020-12-28T20:08:28.723507Z",
     "iopub.status.busy": "2020-12-28T20:08:28.722931Z",
     "iopub.status.idle": "2020-12-28T20:08:28.775555Z",
     "shell.execute_reply": "2020-12-28T20:08:28.776051Z"
    },
    "papermill": {
     "duration": 0.083981,
     "end_time": "2020-12-28T20:08:28.776213",
     "exception": false,
     "start_time": "2020-12-28T20:08:28.692232",
     "status": "completed"
    },
    "tags": []
   },
   "outputs": [],
   "source": [
    "X_train = X_train/255.\n",
    "X_test = X_test/255."
   ]
  },
  {
   "cell_type": "markdown",
   "metadata": {
    "papermill": {
     "duration": 0.027716,
     "end_time": "2020-12-28T20:08:28.832110",
     "exception": false,
     "start_time": "2020-12-28T20:08:28.804394",
     "status": "completed"
    },
    "tags": []
   },
   "source": [
    "Setup the labels as 1 (when the digit is 3) and 0 (when the digit is 8)"
   ]
  },
  {
   "cell_type": "code",
   "execution_count": 11,
   "metadata": {
    "execution": {
     "iopub.execute_input": "2020-12-28T20:08:28.892045Z",
     "iopub.status.busy": "2020-12-28T20:08:28.891324Z",
     "iopub.status.idle": "2020-12-28T20:08:28.903006Z",
     "shell.execute_reply": "2020-12-28T20:08:28.903552Z"
    },
    "papermill": {
     "duration": 0.044524,
     "end_time": "2020-12-28T20:08:28.903683",
     "exception": false,
     "start_time": "2020-12-28T20:08:28.859159",
     "status": "completed"
    },
    "tags": []
   },
   "outputs": [],
   "source": [
    "y_train = 1*(y_train==3)\n",
    "y_test = 1*(y_test==3)"
   ]
  },
  {
   "cell_type": "code",
   "execution_count": 12,
   "metadata": {
    "execution": {
     "iopub.execute_input": "2020-12-28T20:08:28.964238Z",
     "iopub.status.busy": "2020-12-28T20:08:28.963625Z",
     "iopub.status.idle": "2020-12-28T20:08:28.973226Z",
     "shell.execute_reply": "2020-12-28T20:08:28.973770Z"
    },
    "papermill": {
     "duration": 0.042263,
     "end_time": "2020-12-28T20:08:28.973897",
     "exception": false,
     "start_time": "2020-12-28T20:08:28.931634",
     "status": "completed"
    },
    "tags": []
   },
   "outputs": [
    {
     "data": {
      "text/plain": [
       "((11982, 28, 28), (1984, 28, 28))"
      ]
     },
     "execution_count": 12,
     "metadata": {},
     "output_type": "execute_result"
    }
   ],
   "source": [
    "X_train.shape, X_test.shape"
   ]
  },
  {
   "cell_type": "markdown",
   "metadata": {
    "papermill": {
     "duration": 0.028703,
     "end_time": "2020-12-28T20:08:29.030731",
     "exception": false,
     "start_time": "2020-12-28T20:08:29.002028",
     "status": "completed"
    },
    "tags": []
   },
   "source": [
    "### Reshape the input data to create a linear array"
   ]
  },
  {
   "cell_type": "code",
   "execution_count": 13,
   "metadata": {
    "execution": {
     "iopub.execute_input": "2020-12-28T20:08:29.097899Z",
     "iopub.status.busy": "2020-12-28T20:08:29.097284Z",
     "iopub.status.idle": "2020-12-28T20:08:29.107743Z",
     "shell.execute_reply": "2020-12-28T20:08:29.108315Z"
    },
    "papermill": {
     "duration": 0.048931,
     "end_time": "2020-12-28T20:08:29.108453",
     "exception": false,
     "start_time": "2020-12-28T20:08:29.059522",
     "status": "completed"
    },
    "tags": []
   },
   "outputs": [
    {
     "data": {
      "text/plain": [
       "((11982, 784), (1984, 784))"
      ]
     },
     "execution_count": 13,
     "metadata": {},
     "output_type": "execute_result"
    }
   ],
   "source": [
    "X_train = X_train.reshape(X_train.shape[0], -1)\n",
    "X_test = X_test.reshape(X_test.shape[0], -1)\n",
    "X_train.shape, X_test.shape"
   ]
  },
  {
   "cell_type": "markdown",
   "metadata": {
    "papermill": {
     "duration": 0.027885,
     "end_time": "2020-12-28T20:08:29.164471",
     "exception": false,
     "start_time": "2020-12-28T20:08:29.136586",
     "status": "completed"
    },
    "tags": []
   },
   "source": [
    "### Importing appropriate functions from 'Kudzu'"
   ]
  },
  {
   "cell_type": "code",
   "execution_count": 14,
   "metadata": {
    "execution": {
     "iopub.execute_input": "2020-12-28T20:08:29.225961Z",
     "iopub.status.busy": "2020-12-28T20:08:29.225377Z",
     "iopub.status.idle": "2020-12-28T20:08:29.242461Z",
     "shell.execute_reply": "2020-12-28T20:08:29.241995Z"
    },
    "papermill": {
     "duration": 0.049477,
     "end_time": "2020-12-28T20:08:29.242580",
     "exception": false,
     "start_time": "2020-12-28T20:08:29.193103",
     "status": "completed"
    },
    "tags": []
   },
   "outputs": [],
   "source": [
    "from kudzu.layer import Sigmoid\n",
    "from kudzu.layer import Relu\n",
    "from kudzu.layer import Affine, Sigmoid\n",
    "\n",
    "from kudzu.model import Model\n",
    "from kudzu.train import Learner\n",
    "from kudzu.optim import GD\n",
    "from kudzu.data import Data, Dataloader, Sampler\n",
    "\n",
    "from kudzu.callbacks import AccCallback\n",
    "from kudzu.callbacks import ClfCallback\n",
    "\n",
    "from kudzu.loss import MSE"
   ]
  },
  {
   "cell_type": "markdown",
   "metadata": {
    "papermill": {
     "duration": 0.028081,
     "end_time": "2020-12-28T20:08:29.298195",
     "exception": false,
     "start_time": "2020-12-28T20:08:29.270114",
     "status": "completed"
    },
    "tags": []
   },
   "source": [
    "### Let us create a `Config` class, to store important parameters. \n",
    "This class essentially plays the role of a dictionary."
   ]
  },
  {
   "cell_type": "code",
   "execution_count": 15,
   "metadata": {
    "execution": {
     "iopub.execute_input": "2020-12-28T20:08:29.523995Z",
     "iopub.status.busy": "2020-12-28T20:08:29.523331Z",
     "iopub.status.idle": "2020-12-28T20:08:29.535504Z",
     "shell.execute_reply": "2020-12-28T20:08:29.534926Z"
    },
    "papermill": {
     "duration": 0.208829,
     "end_time": "2020-12-28T20:08:29.535629",
     "exception": false,
     "start_time": "2020-12-28T20:08:29.326800",
     "status": "completed"
    },
    "tags": []
   },
   "outputs": [],
   "source": [
    "class Config:\n",
    "    pass\n",
    "config = Config()\n",
    "config.lr = 0.001\n",
    "config.num_epochs = 251\n",
    "config.bs = 50"
   ]
  },
  {
   "cell_type": "markdown",
   "metadata": {
    "papermill": {
     "duration": 0.107209,
     "end_time": "2020-12-28T20:08:29.676266",
     "exception": false,
     "start_time": "2020-12-28T20:08:29.569057",
     "status": "completed"
    },
    "tags": []
   },
   "source": [
    "### Initializing data to the variables"
   ]
  },
  {
   "cell_type": "code",
   "execution_count": 16,
   "metadata": {
    "execution": {
     "iopub.execute_input": "2020-12-28T20:08:30.240224Z",
     "iopub.status.busy": "2020-12-28T20:08:30.239387Z",
     "iopub.status.idle": "2020-12-28T20:08:30.247524Z",
     "shell.execute_reply": "2020-12-28T20:08:30.248020Z"
    },
    "papermill": {
     "duration": 0.47926,
     "end_time": "2020-12-28T20:08:30.248168",
     "exception": false,
     "start_time": "2020-12-28T20:08:29.768908",
     "status": "completed"
    },
    "tags": []
   },
   "outputs": [],
   "source": [
    "data = Data(X_train, y_train.reshape(-1,1))\n",
    "sampler = Sampler(data, config.bs, shuffle=True)\n",
    "\n",
    "dl = Dataloader(data, sampler)\n",
    "\n",
    "opt = GD(config.lr)\n",
    "loss = MSE()"
   ]
  },
  {
   "cell_type": "code",
   "execution_count": 17,
   "metadata": {
    "execution": {
     "iopub.execute_input": "2020-12-28T20:08:30.660795Z",
     "iopub.status.busy": "2020-12-28T20:08:30.660194Z",
     "iopub.status.idle": "2020-12-28T20:08:30.671461Z",
     "shell.execute_reply": "2020-12-28T20:08:30.672037Z"
    },
    "papermill": {
     "duration": 0.043578,
     "end_time": "2020-12-28T20:08:30.672173",
     "exception": false,
     "start_time": "2020-12-28T20:08:30.628595",
     "status": "completed"
    },
    "tags": []
   },
   "outputs": [],
   "source": [
    "training_xdata = X_train\n",
    "testing_xdata = X_test\n",
    "training_ydata = y_train.reshape(-1,1)\n",
    "testing_ydata = y_test.reshape(-1,1)"
   ]
  },
  {
   "cell_type": "markdown",
   "metadata": {
    "papermill": {
     "duration": 0.027411,
     "end_time": "2020-12-28T20:08:30.727012",
     "exception": false,
     "start_time": "2020-12-28T20:08:30.699601",
     "status": "completed"
    },
    "tags": []
   },
   "source": [
    "### Running Models with the Training data\n",
    "Details about the network layers:\n",
    "- A first affine layer has 784 inputs and does 100 affine transforms. These are followed by a Relu\n",
    "- A second affine layer has 100 inputs from the 100 activations of the past layer, and does 100 affine transforms. These are followed by a Relu\n",
    "- A third affine layer has 100 activations and does 2 affine transformations to create an embedding for visualization. There is no non-linearity here.\n",
    "- A final \"logistic regression\" which has an affine transform from 2 inputs to 1 output, which is squeezed through a sigmoid.\n",
    "\n",
    "Help taken from Anshuman's Notebook."
   ]
  },
  {
   "cell_type": "code",
   "execution_count": 18,
   "metadata": {
    "execution": {
     "iopub.execute_input": "2020-12-28T20:08:30.787086Z",
     "iopub.status.busy": "2020-12-28T20:08:30.786492Z",
     "iopub.status.idle": "2020-12-28T20:08:30.801114Z",
     "shell.execute_reply": "2020-12-28T20:08:30.801606Z"
    },
    "papermill": {
     "duration": 0.047385,
     "end_time": "2020-12-28T20:08:30.801770",
     "exception": false,
     "start_time": "2020-12-28T20:08:30.754385",
     "status": "completed"
    },
    "tags": []
   },
   "outputs": [],
   "source": [
    "# layers for the Neural Network\n",
    "layers = [Affine(\"first\", 784, 100), Relu(\"first\"), Affine(\"second\", 100, 100), Relu(\"second\"), Affine(\"third\", 100, 2), Affine(\"final\", 2, 1), Sigmoid(\"final\")]\n",
    "model_nn = Model(layers)\n",
    "\n",
    "# layers for the Logistic Regression\n",
    "layers_lr = [Affine(\"logits\", 784, 1), Sigmoid(\"sigmoid\")]\n",
    "model_lr = Model(layers_lr)"
   ]
  },
  {
   "cell_type": "code",
   "execution_count": 19,
   "metadata": {
    "execution": {
     "iopub.execute_input": "2020-12-28T20:08:30.868830Z",
     "iopub.status.busy": "2020-12-28T20:08:30.868243Z",
     "iopub.status.idle": "2020-12-28T20:08:30.879339Z",
     "shell.execute_reply": "2020-12-28T20:08:30.879951Z"
    },
    "papermill": {
     "duration": 0.04916,
     "end_time": "2020-12-28T20:08:30.880112",
     "exception": false,
     "start_time": "2020-12-28T20:08:30.830952",
     "status": "completed"
    },
    "tags": []
   },
   "outputs": [],
   "source": [
    "# suffix _nn stands for Neural Network.\n",
    "learner_nn = Learner(loss, model_nn, opt, config.num_epochs)\n",
    "acc_nn = ClfCallback(learner_nn, config.bs, training_xdata , testing_xdata, training_ydata, testing_ydata)\n",
    "learner_nn.set_callbacks([acc_nn])"
   ]
  },
  {
   "cell_type": "code",
   "execution_count": 20,
   "metadata": {
    "execution": {
     "iopub.execute_input": "2020-12-28T20:08:30.939019Z",
     "iopub.status.busy": "2020-12-28T20:08:30.938351Z",
     "iopub.status.idle": "2020-12-28T20:10:30.147019Z",
     "shell.execute_reply": "2020-12-28T20:10:30.147579Z"
    },
    "papermill": {
     "duration": 119.240323,
     "end_time": "2020-12-28T20:10:30.147727",
     "exception": false,
     "start_time": "2020-12-28T20:08:30.907404",
     "status": "completed"
    },
    "tags": []
   },
   "outputs": [
    {
     "name": "stdout",
     "output_type": "stream",
     "text": [
      "====== Neural Network ======\n"
     ]
    },
    {
     "name": "stdout",
     "output_type": "stream",
     "text": [
      "Epoch 0, Loss 0.2371\n",
      "Training Accuracy: 0.7327, Testing Accuracy: 0.7379\n",
      "\n"
     ]
    },
    {
     "name": "stdout",
     "output_type": "stream",
     "text": [
      "Epoch 10, Loss 0.1053\n",
      "Training Accuracy: 0.9116, Testing Accuracy: 0.9254\n",
      "\n"
     ]
    },
    {
     "name": "stdout",
     "output_type": "stream",
     "text": [
      "Epoch 20, Loss 0.0627\n",
      "Training Accuracy: 0.9363, Testing Accuracy: 0.9466\n",
      "\n"
     ]
    },
    {
     "name": "stdout",
     "output_type": "stream",
     "text": [
      "Epoch 30, Loss 0.0482\n",
      "Training Accuracy: 0.9461, Testing Accuracy: 0.9587\n",
      "\n"
     ]
    },
    {
     "name": "stdout",
     "output_type": "stream",
     "text": [
      "Epoch 40, Loss 0.0409\n",
      "Training Accuracy: 0.9524, Testing Accuracy: 0.9622\n",
      "\n"
     ]
    },
    {
     "name": "stdout",
     "output_type": "stream",
     "text": [
      "Epoch 50, Loss 0.0366\n",
      "Training Accuracy: 0.9583, Testing Accuracy: 0.9637\n",
      "\n"
     ]
    },
    {
     "name": "stdout",
     "output_type": "stream",
     "text": [
      "Epoch 60, Loss 0.0336\n",
      "Training Accuracy: 0.9627, Testing Accuracy: 0.9652\n",
      "\n"
     ]
    },
    {
     "name": "stdout",
     "output_type": "stream",
     "text": [
      "Epoch 70, Loss 0.0314\n",
      "Training Accuracy: 0.9650, Testing Accuracy: 0.9667\n",
      "\n"
     ]
    },
    {
     "name": "stdout",
     "output_type": "stream",
     "text": [
      "Epoch 80, Loss 0.0297\n",
      "Training Accuracy: 0.9672, Testing Accuracy: 0.9677\n",
      "\n"
     ]
    },
    {
     "name": "stdout",
     "output_type": "stream",
     "text": [
      "Epoch 90, Loss 0.0283\n",
      "Training Accuracy: 0.9679, Testing Accuracy: 0.9688\n",
      "\n"
     ]
    },
    {
     "name": "stdout",
     "output_type": "stream",
     "text": [
      "Epoch 100, Loss 0.0271\n",
      "Training Accuracy: 0.9689, Testing Accuracy: 0.9698\n",
      "\n"
     ]
    },
    {
     "name": "stdout",
     "output_type": "stream",
     "text": [
      "Epoch 110, Loss 0.0261\n",
      "Training Accuracy: 0.9700, Testing Accuracy: 0.9703\n",
      "\n"
     ]
    },
    {
     "name": "stdout",
     "output_type": "stream",
     "text": [
      "Epoch 120, Loss 0.0252\n",
      "Training Accuracy: 0.9713, Testing Accuracy: 0.9713\n",
      "\n"
     ]
    },
    {
     "name": "stdout",
     "output_type": "stream",
     "text": [
      "Epoch 130, Loss 0.0244\n",
      "Training Accuracy: 0.9721, Testing Accuracy: 0.9718\n",
      "\n"
     ]
    },
    {
     "name": "stdout",
     "output_type": "stream",
     "text": [
      "Epoch 140, Loss 0.0237\n",
      "Training Accuracy: 0.9724, Testing Accuracy: 0.9713\n",
      "\n"
     ]
    },
    {
     "name": "stdout",
     "output_type": "stream",
     "text": [
      "Epoch 150, Loss 0.0231\n",
      "Training Accuracy: 0.9730, Testing Accuracy: 0.9713\n",
      "\n"
     ]
    },
    {
     "name": "stdout",
     "output_type": "stream",
     "text": [
      "Epoch 160, Loss 0.0225\n",
      "Training Accuracy: 0.9740, Testing Accuracy: 0.9733\n",
      "\n"
     ]
    },
    {
     "name": "stdout",
     "output_type": "stream",
     "text": [
      "Epoch 170, Loss 0.022\n",
      "Training Accuracy: 0.9750, Testing Accuracy: 0.9733\n",
      "\n"
     ]
    },
    {
     "name": "stdout",
     "output_type": "stream",
     "text": [
      "Epoch 180, Loss 0.0214\n",
      "Training Accuracy: 0.9755, Testing Accuracy: 0.9733\n",
      "\n"
     ]
    },
    {
     "name": "stdout",
     "output_type": "stream",
     "text": [
      "Epoch 190, Loss 0.021\n",
      "Training Accuracy: 0.9760, Testing Accuracy: 0.9728\n",
      "\n"
     ]
    },
    {
     "name": "stdout",
     "output_type": "stream",
     "text": [
      "Epoch 200, Loss 0.0205\n",
      "Training Accuracy: 0.9768, Testing Accuracy: 0.9738\n",
      "\n"
     ]
    },
    {
     "name": "stdout",
     "output_type": "stream",
     "text": [
      "Epoch 210, Loss 0.0201\n",
      "Training Accuracy: 0.9774, Testing Accuracy: 0.9738\n",
      "\n"
     ]
    },
    {
     "name": "stdout",
     "output_type": "stream",
     "text": [
      "Epoch 220, Loss 0.0197\n",
      "Training Accuracy: 0.9782, Testing Accuracy: 0.9743\n",
      "\n"
     ]
    },
    {
     "name": "stdout",
     "output_type": "stream",
     "text": [
      "Epoch 230, Loss 0.0193\n",
      "Training Accuracy: 0.9788, Testing Accuracy: 0.9743\n",
      "\n"
     ]
    },
    {
     "name": "stdout",
     "output_type": "stream",
     "text": [
      "Epoch 240, Loss 0.019\n",
      "Training Accuracy: 0.9793, Testing Accuracy: 0.9743\n",
      "\n"
     ]
    },
    {
     "name": "stdout",
     "output_type": "stream",
     "text": [
      "Epoch 250, Loss 0.0186\n",
      "Training Accuracy: 0.9795, Testing Accuracy: 0.9743\n",
      "\n"
     ]
    },
    {
     "data": {
      "text/plain": [
       "0.0040119207565688115"
      ]
     },
     "execution_count": 20,
     "metadata": {},
     "output_type": "execute_result"
    }
   ],
   "source": [
    "print(\"====== Neural Network ======\")\n",
    "learner_nn.train_loop(dl)"
   ]
  },
  {
   "cell_type": "markdown",
   "metadata": {
    "papermill": {
     "duration": 0.035763,
     "end_time": "2020-12-28T20:10:30.221466",
     "exception": false,
     "start_time": "2020-12-28T20:10:30.185703",
     "status": "completed"
    },
    "tags": []
   },
   "source": [
    "### Logistic Regression based Implementation."
   ]
  },
  {
   "cell_type": "code",
   "execution_count": 21,
   "metadata": {
    "execution": {
     "iopub.execute_input": "2020-12-28T20:10:30.303825Z",
     "iopub.status.busy": "2020-12-28T20:10:30.301725Z",
     "iopub.status.idle": "2020-12-28T20:10:30.310962Z",
     "shell.execute_reply": "2020-12-28T20:10:30.310496Z"
    },
    "papermill": {
     "duration": 0.054089,
     "end_time": "2020-12-28T20:10:30.311079",
     "exception": false,
     "start_time": "2020-12-28T20:10:30.256990",
     "status": "completed"
    },
    "tags": []
   },
   "outputs": [],
   "source": [
    "learner_lr = Learner(loss, model_lr, opt, config.num_epochs)\n",
    "acc_lr = ClfCallback(learner_lr, config.bs, training_xdata , testing_xdata, training_ydata, testing_ydata)\n",
    "learner_lr.set_callbacks([acc_lr])"
   ]
  },
  {
   "cell_type": "code",
   "execution_count": 22,
   "metadata": {
    "execution": {
     "iopub.execute_input": "2020-12-28T20:10:30.398939Z",
     "iopub.status.busy": "2020-12-28T20:10:30.386187Z",
     "iopub.status.idle": "2020-12-28T20:10:48.094934Z",
     "shell.execute_reply": "2020-12-28T20:10:48.095706Z"
    },
    "papermill": {
     "duration": 17.749314,
     "end_time": "2020-12-28T20:10:48.095862",
     "exception": false,
     "start_time": "2020-12-28T20:10:30.346548",
     "status": "completed"
    },
    "tags": []
   },
   "outputs": [
    {
     "name": "stdout",
     "output_type": "stream",
     "text": [
      "====== Logistic Regression ======\n",
      "Epoch 0, Loss 0.2447\n",
      "Training Accuracy: 0.6572, Testing Accuracy: 0.6512\n",
      "\n"
     ]
    },
    {
     "name": "stdout",
     "output_type": "stream",
     "text": [
      "Epoch 10, Loss 0.109\n",
      "Training Accuracy: 0.8893, Testing Accuracy: 0.9017\n",
      "\n"
     ]
    },
    {
     "name": "stdout",
     "output_type": "stream",
     "text": [
      "Epoch 20, Loss 0.0836\n",
      "Training Accuracy: 0.9160, Testing Accuracy: 0.9279\n",
      "\n"
     ]
    },
    {
     "name": "stdout",
     "output_type": "stream",
     "text": [
      "Epoch 30, Loss 0.0716\n",
      "Training Accuracy: 0.9280, Testing Accuracy: 0.9451\n",
      "\n"
     ]
    },
    {
     "name": "stdout",
     "output_type": "stream",
     "text": [
      "Epoch 40, Loss 0.0643\n",
      "Training Accuracy: 0.9357, Testing Accuracy: 0.9501\n",
      "\n"
     ]
    },
    {
     "name": "stdout",
     "output_type": "stream",
     "text": [
      "Epoch 50, Loss 0.0593\n",
      "Training Accuracy: 0.9402, Testing Accuracy: 0.9556\n",
      "\n"
     ]
    },
    {
     "name": "stdout",
     "output_type": "stream",
     "text": [
      "Epoch 60, Loss 0.0556\n",
      "Training Accuracy: 0.9435, Testing Accuracy: 0.9582\n",
      "\n"
     ]
    },
    {
     "name": "stdout",
     "output_type": "stream",
     "text": [
      "Epoch 70, Loss 0.0528\n",
      "Training Accuracy: 0.9462, Testing Accuracy: 0.9597\n",
      "\n"
     ]
    },
    {
     "name": "stdout",
     "output_type": "stream",
     "text": [
      "Epoch 80, Loss 0.0506\n",
      "Training Accuracy: 0.9488, Testing Accuracy: 0.9627\n",
      "\n"
     ]
    },
    {
     "name": "stdout",
     "output_type": "stream",
     "text": [
      "Epoch 90, Loss 0.0488\n",
      "Training Accuracy: 0.9507, Testing Accuracy: 0.9622\n",
      "\n"
     ]
    },
    {
     "name": "stdout",
     "output_type": "stream",
     "text": [
      "Epoch 100, Loss 0.0472\n",
      "Training Accuracy: 0.9519, Testing Accuracy: 0.9637\n",
      "\n"
     ]
    },
    {
     "name": "stdout",
     "output_type": "stream",
     "text": [
      "Epoch 110, Loss 0.0459\n",
      "Training Accuracy: 0.9528, Testing Accuracy: 0.9637\n",
      "\n"
     ]
    },
    {
     "name": "stdout",
     "output_type": "stream",
     "text": [
      "Epoch 120, Loss 0.0448\n",
      "Training Accuracy: 0.9539, Testing Accuracy: 0.9642\n",
      "\n"
     ]
    },
    {
     "name": "stdout",
     "output_type": "stream",
     "text": [
      "Epoch 130, Loss 0.0438\n",
      "Training Accuracy: 0.9551, Testing Accuracy: 0.9642\n",
      "\n"
     ]
    },
    {
     "name": "stdout",
     "output_type": "stream",
     "text": [
      "Epoch 140, Loss 0.0429\n",
      "Training Accuracy: 0.9561, Testing Accuracy: 0.9652\n",
      "\n"
     ]
    },
    {
     "name": "stdout",
     "output_type": "stream",
     "text": [
      "Epoch 150, Loss 0.0421\n",
      "Training Accuracy: 0.9566, Testing Accuracy: 0.9657\n",
      "\n"
     ]
    },
    {
     "name": "stdout",
     "output_type": "stream",
     "text": [
      "Epoch 160, Loss 0.0414\n",
      "Training Accuracy: 0.9573, Testing Accuracy: 0.9657\n",
      "\n"
     ]
    },
    {
     "name": "stdout",
     "output_type": "stream",
     "text": [
      "Epoch 170, Loss 0.0407\n",
      "Training Accuracy: 0.9576, Testing Accuracy: 0.9657\n",
      "\n"
     ]
    },
    {
     "name": "stdout",
     "output_type": "stream",
     "text": [
      "Epoch 180, Loss 0.0401\n",
      "Training Accuracy: 0.9579, Testing Accuracy: 0.9662\n",
      "\n"
     ]
    },
    {
     "name": "stdout",
     "output_type": "stream",
     "text": [
      "Epoch 190, Loss 0.0396\n",
      "Training Accuracy: 0.9580, Testing Accuracy: 0.9662\n",
      "\n"
     ]
    },
    {
     "name": "stdout",
     "output_type": "stream",
     "text": [
      "Epoch 200, Loss 0.0391\n",
      "Training Accuracy: 0.9580, Testing Accuracy: 0.9662\n",
      "\n"
     ]
    },
    {
     "name": "stdout",
     "output_type": "stream",
     "text": [
      "Epoch 210, Loss 0.0386\n",
      "Training Accuracy: 0.9588, Testing Accuracy: 0.9662\n",
      "\n"
     ]
    },
    {
     "name": "stdout",
     "output_type": "stream",
     "text": [
      "Epoch 220, Loss 0.0382\n",
      "Training Accuracy: 0.9593, Testing Accuracy: 0.9662\n",
      "\n"
     ]
    },
    {
     "name": "stdout",
     "output_type": "stream",
     "text": [
      "Epoch 230, Loss 0.0377\n",
      "Training Accuracy: 0.9594, Testing Accuracy: 0.9667\n",
      "\n"
     ]
    },
    {
     "name": "stdout",
     "output_type": "stream",
     "text": [
      "Epoch 240, Loss 0.0374\n",
      "Training Accuracy: 0.9599, Testing Accuracy: 0.9667\n",
      "\n"
     ]
    },
    {
     "name": "stdout",
     "output_type": "stream",
     "text": [
      "Epoch 250, Loss 0.037\n",
      "Training Accuracy: 0.9601, Testing Accuracy: 0.9682\n",
      "\n"
     ]
    },
    {
     "data": {
      "text/plain": [
       "0.021745797237304562"
      ]
     },
     "execution_count": 22,
     "metadata": {},
     "output_type": "execute_result"
    }
   ],
   "source": [
    "print(\"====== Logistic Regression ======\")\n",
    "learner_lr.train_loop(dl)"
   ]
  },
  {
   "cell_type": "markdown",
   "metadata": {
    "papermill": {
     "duration": 0.043886,
     "end_time": "2020-12-28T20:10:48.183641",
     "exception": false,
     "start_time": "2020-12-28T20:10:48.139755",
     "status": "completed"
    },
    "tags": []
   },
   "source": [
    "### Comparing results of NN and LR"
   ]
  },
  {
   "cell_type": "code",
   "execution_count": 23,
   "metadata": {
    "execution": {
     "iopub.execute_input": "2020-12-28T20:10:48.277802Z",
     "iopub.status.busy": "2020-12-28T20:10:48.275334Z",
     "iopub.status.idle": "2020-12-28T20:10:48.516749Z",
     "shell.execute_reply": "2020-12-28T20:10:48.516187Z"
    },
    "papermill": {
     "duration": 0.289726,
     "end_time": "2020-12-28T20:10:48.516875",
     "exception": false,
     "start_time": "2020-12-28T20:10:48.227149",
     "status": "completed"
    },
    "tags": []
   },
   "outputs": [
    {
     "data": {
      "text/plain": [
       "<matplotlib.legend.Legend at 0x7f83e6d65c18>"
      ]
     },
     "execution_count": 23,
     "metadata": {},
     "output_type": "execute_result"
    },
    {
     "data": {
      "image/png": "[encoded data removed]",
      "text/plain": [
       "<Figure size 1080x720 with 1 Axes>"
      ]
     },
     "metadata": {
      "needs_background": "light"
     },
     "output_type": "display_data"
    }
   ],
   "source": [
    "plt.figure(figsize=(15,10))\n",
    "\n",
    "# Neural Network plots\n",
    "plt.plot(acc_nn.accuracies, 'r-', label = \"Training Accuracies - NN\")\n",
    "plt.plot(acc_nn.test_accuracies, 'g-', label = \"Testing Accuracies - NN\")\n",
    "\n",
    "# Logistic Regression plots\n",
    "plt.plot(acc_lr.accuracies, 'k-', label = \"Training Accuracies - LR\")\n",
    "plt.plot(acc_lr.test_accuracies, 'b-', label = \"Testing Accuracies - LR\")\n",
    "\n",
    "plt.ylim(0.8, 1)\n",
    "\n",
    "plt.legend()\n",
    "\n"
   ]
  },
  {
   "cell_type": "markdown",
   "metadata": {
    "papermill": {
     "duration": 0.050034,
     "end_time": "2020-12-28T20:10:48.610981",
     "exception": false,
     "start_time": "2020-12-28T20:10:48.560947",
     "status": "completed"
    },
    "tags": []
   },
   "source": [
    "### From the plot, we can observe the following:\n",
    "- Neural Network achieves higher accuracy than the Logistic Regression model.\n",
    "- This apparently, is because of overfitting, i.e. NN captures more noise than data.\n",
    "- Testing accuracy of NN drops below the Training accuracy at higher epochs. This explains the over-fitting on training data.\n",
    "- Logistic Regression gives a reliable accuracy, without the above mentioned problem.\n"
   ]
  },
  {
   "cell_type": "markdown",
   "metadata": {
    "papermill": {
     "duration": 0.044786,
     "end_time": "2020-12-28T20:10:48.699714",
     "exception": false,
     "start_time": "2020-12-28T20:10:48.654928",
     "status": "completed"
    },
    "tags": []
   },
   "source": [
    "### Moving till the last but one layer (excluding it).\n",
    "#### Plotting the outputs of this layer of the NN."
   ]
  },
  {
   "cell_type": "code",
   "execution_count": 24,
   "metadata": {
    "execution": {
     "iopub.execute_input": "2020-12-28T20:10:48.798597Z",
     "iopub.status.busy": "2020-12-28T20:10:48.798007Z",
     "iopub.status.idle": "2020-12-28T20:10:48.809569Z",
     "shell.execute_reply": "2020-12-28T20:10:48.809086Z"
    },
    "papermill": {
     "duration": 0.065858,
     "end_time": "2020-12-28T20:10:48.809686",
     "exception": false,
     "start_time": "2020-12-28T20:10:48.743828",
     "status": "completed"
    },
    "tags": []
   },
   "outputs": [],
   "source": [
    "model_new = Model(layers[:-2])"
   ]
  },
  {
   "cell_type": "code",
   "execution_count": 25,
   "metadata": {
    "execution": {
     "iopub.execute_input": "2020-12-28T20:10:48.905253Z",
     "iopub.status.busy": "2020-12-28T20:10:48.904642Z",
     "iopub.status.idle": "2020-12-28T20:10:48.925223Z",
     "shell.execute_reply": "2020-12-28T20:10:48.925731Z"
    },
    "papermill": {
     "duration": 0.071055,
     "end_time": "2020-12-28T20:10:48.926003",
     "exception": false,
     "start_time": "2020-12-28T20:10:48.854948",
     "status": "completed"
    },
    "tags": []
   },
   "outputs": [],
   "source": [
    "plot_testing = model_new(testing_xdata)"
   ]
  },
  {
   "cell_type": "code",
   "execution_count": 26,
   "metadata": {
    "execution": {
     "iopub.execute_input": "2020-12-28T20:10:49.033455Z",
     "iopub.status.busy": "2020-12-28T20:10:49.032853Z",
     "iopub.status.idle": "2020-12-28T20:10:49.247315Z",
     "shell.execute_reply": "2020-12-28T20:10:49.247838Z"
    },
    "papermill": {
     "duration": 0.275652,
     "end_time": "2020-12-28T20:10:49.248026",
     "exception": false,
     "start_time": "2020-12-28T20:10:48.972374",
     "status": "completed"
    },
    "tags": []
   },
   "outputs": [
    {
     "data": {
      "text/plain": [
       "Text(0.5, 1.0, 'Outputs')"
      ]
     },
     "execution_count": 26,
     "metadata": {},
     "output_type": "execute_result"
    },
    {
     "data": {
      "image/png": "[encoded data removed]",
      "text/plain": [
       "<Figure size 576x504 with 1 Axes>"
      ]
     },
     "metadata": {
      "needs_background": "light"
     },
     "output_type": "display_data"
    }
   ],
   "source": [
    "plt.figure(figsize=(8,7))\n",
    "plt.scatter(plot_testing[:,0], plot_testing[:,1], alpha = 0.1, c = y_test.ravel());\n",
    "plt.title('Outputs')"
   ]
  },
  {
   "cell_type": "markdown",
   "metadata": {
    "papermill": {
     "duration": 0.048257,
     "end_time": "2020-12-28T20:10:49.349967",
     "exception": false,
     "start_time": "2020-12-28T20:10:49.301710",
     "status": "completed"
    },
    "tags": []
   },
   "source": [
    "### Plotting probability contours"
   ]
  },
  {
   "cell_type": "code",
   "execution_count": 27,
   "metadata": {
    "execution": {
     "iopub.execute_input": "2020-12-28T20:10:49.458652Z",
     "iopub.status.busy": "2020-12-28T20:10:49.458012Z",
     "iopub.status.idle": "2020-12-28T20:10:49.467486Z",
     "shell.execute_reply": "2020-12-28T20:10:49.468240Z"
    },
    "papermill": {
     "duration": 0.071616,
     "end_time": "2020-12-28T20:10:49.468379",
     "exception": false,
     "start_time": "2020-12-28T20:10:49.396763",
     "status": "completed"
    },
    "tags": []
   },
   "outputs": [],
   "source": [
    "model_prob = Model(layers[-2:]) "
   ]
  },
  {
   "cell_type": "code",
   "execution_count": 28,
   "metadata": {
    "execution": {
     "iopub.execute_input": "2020-12-28T20:10:49.590656Z",
     "iopub.status.busy": "2020-12-28T20:10:49.590037Z",
     "iopub.status.idle": "2020-12-28T20:10:49.603992Z",
     "shell.execute_reply": "2020-12-28T20:10:49.604499Z"
    },
    "papermill": {
     "duration": 0.08842,
     "end_time": "2020-12-28T20:10:49.604646",
     "exception": false,
     "start_time": "2020-12-28T20:10:49.516226",
     "status": "completed"
    },
    "tags": []
   },
   "outputs": [],
   "source": [
    "# Adjust the x and y ranges according to the above generated plot.\n",
    "x_range = np.linspace(-4, 1, 100) \n",
    "y_range = np.linspace(-6, 6, 100) \n",
    "x_grid, y_grid = np.meshgrid(x_range, y_range) # x_grid and y_grig are of size 100 X 100\n",
    "\n",
    "# converting x_grid and y_grid to continuous arrays\n",
    "x_grid_flat = np.ravel(x_grid)\n",
    "y_grid_flat = np.ravel(y_grid)\n",
    "\n",
    "# The last layer of the current model takes two columns as input. Hence transpose of np.vstack() is required.\n",
    "X = np.vstack((x_grid_flat, y_grid_flat)).T\n",
    "\n",
    "# x_grid and y_grid are of size 100 x 100\n",
    "probability_contour = model_prob(X).reshape(100,100) "
   ]
  },
  {
   "cell_type": "code",
   "execution_count": 29,
   "metadata": {
    "execution": {
     "iopub.execute_input": "2020-12-28T20:10:49.718437Z",
     "iopub.status.busy": "2020-12-28T20:10:49.715574Z",
     "iopub.status.idle": "2020-12-28T20:10:49.965936Z",
     "shell.execute_reply": "2020-12-28T20:10:49.965219Z"
    },
    "papermill": {
     "duration": 0.311583,
     "end_time": "2020-12-28T20:10:49.966073",
     "exception": false,
     "start_time": "2020-12-28T20:10:49.654490",
     "status": "completed"
    },
    "tags": []
   },
   "outputs": [
    {
     "data": {
      "image/png": "[encoded data removed]",
      "text/plain": [
       "<Figure size 720x648 with 1 Axes>"
      ]
     },
     "metadata": {
      "needs_background": "light"
     },
     "output_type": "display_data"
    }
   ],
   "source": [
    "plt.figure(figsize=(10,9))\n",
    "plt.scatter(plot_testing[:,0], plot_testing[:,1], alpha = 0.1, c = y_test.ravel())\n",
    "contours = plt.contour(x_grid,y_grid,probability_contour)\n",
    "plt.title('Probability Contours')\n",
    "plt.clabel(contours, inline = True );"
   ]
  }
 ],
 "metadata": {
  "kernelspec": {
   "display_name": "Python 3",
   "language": "python",
   "name": "python3"
  },
  "language_info": {
   "codemirror_mode": {
    "name": "ipython",
    "version": 3
   },
   "file_extension": ".py",
   "mimetype": "text/x-python",
   "name": "python",
   "nbconvert_exporter": "python",
   "pygments_lexer": "ipython3",
   "version": "3.6.12"
  },
  "papermill": {
   "duration": 149.379217,
   "end_time": "2020-12-28T20:10:51.271219",
   "environment_variables": {},
   "exception": null,
   "input_path": "2020-08-11-NeuralNetwork.ipynb",
   "output_path": "2020-08-11-NeuralNetwork.ipynb",
   "parameters": {},
   "start_time": "2020-12-28T20:08:21.892002",
   "version": "2.1.2"
  }
 },
 "nbformat": 4,
 "nbformat_minor": 4
}