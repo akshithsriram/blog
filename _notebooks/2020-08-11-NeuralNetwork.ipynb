{
 "cells": [
  {
   "cell_type": "markdown",
   "id": "fitted-suggestion",
   "metadata": {
    "papermill": {
     "duration": 0.030197,
     "end_time": "2021-04-25T10:09:29.815160",
     "exception": false,
     "start_time": "2021-04-25T10:09:29.784963",
     "status": "completed"
    },
    "tags": []
   },
   "source": [
    "# \"A Basic Neural Network: Differentiate Hand-Written Digits\"\n",
    "\n",
    "- badges: true\n",
    "- author: Akshith Sriram"
   ]
  },
  {
   "cell_type": "markdown",
   "id": "signal-flexibility",
   "metadata": {
    "papermill": {
     "duration": 0.02576,
     "end_time": "2021-04-25T10:09:29.867665",
     "exception": false,
     "start_time": "2021-04-25T10:09:29.841905",
     "status": "completed"
    },
    "tags": []
   },
   "source": [
    "### Key Objectives:\n",
    "- Building a neural network that differentiates two hand-written digits 3 and 8.\n",
    "- Comparing the results of this Neural Network (NN) to that of a Logistic Regression (LR) model.\n",
    "\n",
    "### Requirements:\n",
    "- 'Kudzu' : A neural network library that was designed during our course by [Univ.AI](www.univ.ai). \n",
    "- MNIST Database\n",
    "\n",
    "If MNIST is not installed, use the command `!pip install mnist` given below.\n",
    "It can be run both from the command line and Jupyter Notebook."
   ]
  },
  {
   "cell_type": "code",
   "execution_count": 1,
   "id": "british-texture",
   "metadata": {
    "execution": {
     "iopub.execute_input": "2021-04-25T10:09:29.929018Z",
     "iopub.status.busy": "2021-04-25T10:09:29.928484Z",
     "iopub.status.idle": "2021-04-25T10:09:31.220311Z",
     "shell.execute_reply": "2021-04-25T10:09:31.220784Z"
    },
    "papermill": {
     "duration": 1.327518,
     "end_time": "2021-04-25T10:09:31.220968",
     "exception": false,
     "start_time": "2021-04-25T10:09:29.893450",
     "status": "completed"
    },
    "tags": []
   },
   "outputs": [
    {
     "name": "stdout",
     "output_type": "stream",
     "text": [
      "Collecting mnist\r\n"
     ]
    },
    {
     "name": "stdout",
     "output_type": "stream",
     "text": [
      "  Downloading mnist-0.2.2-py2.py3-none-any.whl (3.5 kB)\r\n",
      "Requirement already satisfied: numpy in /opt/hostedtoolcache/Python/3.6.13/x64/lib/python3.6/site-packages (from mnist) (1.19.5)\r\n"
     ]
    },
    {
     "name": "stdout",
     "output_type": "stream",
     "text": [
      "Installing collected packages: mnist\r\n"
     ]
    },
    {
     "name": "stdout",
     "output_type": "stream",
     "text": [
      "Successfully installed mnist-0.2.2\r\n",
      "\u001b[33mWARNING: You are using pip version 21.0.1; however, version 21.1 is available.\r\n",
      "You should consider upgrading via the '/opt/hostedtoolcache/Python/3.6.13/x64/bin/python -m pip install --upgrade pip' command.\u001b[0m\r\n"
     ]
    }
   ],
   "source": [
    "!pip install mnist "
   ]
  },
  {
   "cell_type": "markdown",
   "id": "stunning-extra",
   "metadata": {
    "papermill": {
     "duration": 0.02719,
     "end_time": "2021-04-25T10:09:31.275605",
     "exception": false,
     "start_time": "2021-04-25T10:09:31.248415",
     "status": "completed"
    },
    "tags": []
   },
   "source": [
    "#### Importing necessary libraries"
   ]
  },
  {
   "cell_type": "code",
   "execution_count": 2,
   "id": "wooden-france",
   "metadata": {
    "execution": {
     "iopub.execute_input": "2021-04-25T10:09:31.336915Z",
     "iopub.status.busy": "2021-04-25T10:09:31.336383Z",
     "iopub.status.idle": "2021-04-25T10:09:31.851281Z",
     "shell.execute_reply": "2021-04-25T10:09:31.850754Z"
    },
    "papermill": {
     "duration": 0.54889,
     "end_time": "2021-04-25T10:09:31.851416",
     "exception": false,
     "start_time": "2021-04-25T10:09:31.302526",
     "status": "completed"
    },
    "tags": []
   },
   "outputs": [],
   "source": [
    "%load_ext autoreload\n",
    "%autoreload 2\n",
    "\n",
    "%matplotlib inline\n",
    "import matplotlib.pyplot as plt\n",
    "\n",
    "import numpy as np\n",
    "import pandas as pd"
   ]
  },
  {
   "cell_type": "markdown",
   "id": "stunning-physics",
   "metadata": {
    "papermill": {
     "duration": 0.02703,
     "end_time": "2021-04-25T10:09:31.906014",
     "exception": false,
     "start_time": "2021-04-25T10:09:31.878984",
     "status": "completed"
    },
    "tags": []
   },
   "source": [
    "### Preparing the Data"
   ]
  },
  {
   "cell_type": "code",
   "execution_count": 3,
   "id": "unauthorized-remainder",
   "metadata": {
    "execution": {
     "iopub.execute_input": "2021-04-25T10:09:31.963830Z",
     "iopub.status.busy": "2021-04-25T10:09:31.963338Z",
     "iopub.status.idle": "2021-04-25T10:09:31.974455Z",
     "shell.execute_reply": "2021-04-25T10:09:31.974877Z"
    },
    "papermill": {
     "duration": 0.04205,
     "end_time": "2021-04-25T10:09:31.975008",
     "exception": false,
     "start_time": "2021-04-25T10:09:31.932958",
     "status": "completed"
    },
    "tags": []
   },
   "outputs": [],
   "source": [
    "import mnist"
   ]
  },
  {
   "cell_type": "code",
   "execution_count": 4,
   "id": "correct-antarctica",
   "metadata": {
    "execution": {
     "iopub.execute_input": "2021-04-25T10:09:32.047678Z",
     "iopub.status.busy": "2021-04-25T10:09:32.039940Z",
     "iopub.status.idle": "2021-04-25T10:13:46.618811Z",
     "shell.execute_reply": "2021-04-25T10:13:46.618288Z"
    },
    "papermill": {
     "duration": 254.617076,
     "end_time": "2021-04-25T10:13:46.618944",
     "exception": false,
     "start_time": "2021-04-25T10:09:32.001868",
     "status": "completed"
    },
    "tags": []
   },
   "outputs": [],
   "source": [
    "train_images = mnist.train_images()\n",
    "train_labels = mnist.train_labels()"
   ]
  },
  {
   "cell_type": "code",
   "execution_count": 5,
   "id": "musical-prospect",
   "metadata": {
    "execution": {
     "iopub.execute_input": "2021-04-25T10:13:46.678411Z",
     "iopub.status.busy": "2021-04-25T10:13:46.677918Z",
     "iopub.status.idle": "2021-04-25T10:13:46.690859Z",
     "shell.execute_reply": "2021-04-25T10:13:46.690433Z"
    },
    "papermill": {
     "duration": 0.044158,
     "end_time": "2021-04-25T10:13:46.690977",
     "exception": false,
     "start_time": "2021-04-25T10:13:46.646819",
     "status": "completed"
    },
    "tags": []
   },
   "outputs": [
    {
     "data": {
      "text/plain": [
       "((60000, 28, 28), (60000,))"
      ]
     },
     "execution_count": 5,
     "metadata": {},
     "output_type": "execute_result"
    }
   ],
   "source": [
    "train_images.shape, train_labels.shape"
   ]
  },
  {
   "cell_type": "code",
   "execution_count": 6,
   "id": "preliminary-elizabeth",
   "metadata": {
    "execution": {
     "iopub.execute_input": "2021-04-25T10:13:46.756662Z",
     "iopub.status.busy": "2021-04-25T10:13:46.756140Z",
     "iopub.status.idle": "2021-04-25T10:14:18.138234Z",
     "shell.execute_reply": "2021-04-25T10:14:18.137728Z"
    },
    "papermill": {
     "duration": 31.420568,
     "end_time": "2021-04-25T10:14:18.138364",
     "exception": false,
     "start_time": "2021-04-25T10:13:46.717796",
     "status": "completed"
    },
    "tags": []
   },
   "outputs": [],
   "source": [
    "test_images = mnist.test_images()\n",
    "test_labels = mnist.test_labels()"
   ]
  },
  {
   "cell_type": "code",
   "execution_count": 7,
   "id": "acknowledged-oxygen",
   "metadata": {
    "execution": {
     "iopub.execute_input": "2021-04-25T10:14:18.198104Z",
     "iopub.status.busy": "2021-04-25T10:14:18.196996Z",
     "iopub.status.idle": "2021-04-25T10:14:18.208831Z",
     "shell.execute_reply": "2021-04-25T10:14:18.209201Z"
    },
    "papermill": {
     "duration": 0.043792,
     "end_time": "2021-04-25T10:14:18.209333",
     "exception": false,
     "start_time": "2021-04-25T10:14:18.165541",
     "status": "completed"
    },
    "tags": []
   },
   "outputs": [
    {
     "data": {
      "text/plain": [
       "((10000, 28, 28), (10000,))"
      ]
     },
     "execution_count": 7,
     "metadata": {},
     "output_type": "execute_result"
    }
   ],
   "source": [
    "test_images.shape, test_labels.shape"
   ]
  },
  {
   "cell_type": "code",
   "execution_count": 8,
   "id": "innovative-organic",
   "metadata": {
    "execution": {
     "iopub.execute_input": "2021-04-25T10:14:18.271119Z",
     "iopub.status.busy": "2021-04-25T10:14:18.270577Z",
     "iopub.status.idle": "2021-04-25T10:14:18.399072Z",
     "shell.execute_reply": "2021-04-25T10:14:18.398571Z"
    },
    "papermill": {
     "duration": 0.162865,
     "end_time": "2021-04-25T10:14:18.399203",
     "exception": false,
     "start_time": "2021-04-25T10:14:18.236338",
     "status": "completed"
    },
    "tags": []
   },
   "outputs": [
    {
     "name": "stdout",
     "output_type": "stream",
     "text": [
      "2\n"
     ]
    },
    {
     "data": {
      "text/plain": [
       "<matplotlib.image.AxesImage at 0x7ff6c4109f60>"
      ]
     },
     "execution_count": 8,
     "metadata": {},
     "output_type": "execute_result"
    },
    {
     "data": {
      "image/png": "[encoded data removed]",
      "text/plain": [
       "<Figure size 432x288 with 1 Axes>"
      ]
     },
     "metadata": {
      "needs_background": "light"
     },
     "output_type": "display_data"
    }
   ],
   "source": [
    "image_index = 7776 # You may select anything up to 60,000\n",
    "print(train_labels[image_index]) \n",
    "plt.imshow(train_images[image_index], cmap='Greys')"
   ]
  },
  {
   "cell_type": "markdown",
   "id": "facial-modem",
   "metadata": {
    "papermill": {
     "duration": 0.027888,
     "end_time": "2021-04-25T10:14:18.456189",
     "exception": false,
     "start_time": "2021-04-25T10:14:18.428301",
     "status": "completed"
    },
    "tags": []
   },
   "source": [
    "## Filter data to get 3 and 8 out"
   ]
  },
  {
   "cell_type": "code",
   "execution_count": 9,
   "id": "thousand-acquisition",
   "metadata": {
    "execution": {
     "iopub.execute_input": "2021-04-25T10:14:18.517351Z",
     "iopub.status.busy": "2021-04-25T10:14:18.516843Z",
     "iopub.status.idle": "2021-04-25T10:14:18.531608Z",
     "shell.execute_reply": "2021-04-25T10:14:18.531198Z"
    },
    "papermill": {
     "duration": 0.047174,
     "end_time": "2021-04-25T10:14:18.531722",
     "exception": false,
     "start_time": "2021-04-25T10:14:18.484548",
     "status": "completed"
    },
    "tags": []
   },
   "outputs": [],
   "source": [
    "train_filter = np.where((train_labels == 3 ) | (train_labels == 8))\n",
    "test_filter = np.where((test_labels == 3) | (test_labels == 8))\n",
    "X_train, y_train = train_images[train_filter], train_labels[train_filter]\n",
    "X_test, y_test = test_images[test_filter], test_labels[test_filter]"
   ]
  },
  {
   "cell_type": "markdown",
   "id": "ruled-access",
   "metadata": {
    "papermill": {
     "duration": 0.02806,
     "end_time": "2021-04-25T10:14:18.588199",
     "exception": false,
     "start_time": "2021-04-25T10:14:18.560139",
     "status": "completed"
    },
    "tags": []
   },
   "source": [
    "We normalize the pixel values in the 0 to 1 range"
   ]
  },
  {
   "cell_type": "code",
   "execution_count": 10,
   "id": "isolated-denver",
   "metadata": {
    "execution": {
     "iopub.execute_input": "2021-04-25T10:14:18.649264Z",
     "iopub.status.busy": "2021-04-25T10:14:18.648776Z",
     "iopub.status.idle": "2021-04-25T10:14:18.694944Z",
     "shell.execute_reply": "2021-04-25T10:14:18.694437Z"
    },
    "papermill": {
     "duration": 0.078835,
     "end_time": "2021-04-25T10:14:18.695074",
     "exception": false,
     "start_time": "2021-04-25T10:14:18.616239",
     "status": "completed"
    },
    "tags": []
   },
   "outputs": [],
   "source": [
    "X_train = X_train/255.\n",
    "X_test = X_test/255."
   ]
  },
  {
   "cell_type": "markdown",
   "id": "perfect-summary",
   "metadata": {
    "papermill": {
     "duration": 0.027954,
     "end_time": "2021-04-25T10:14:18.752163",
     "exception": false,
     "start_time": "2021-04-25T10:14:18.724209",
     "status": "completed"
    },
    "tags": []
   },
   "source": [
    "Setup the labels as 1 (when the digit is 3) and 0 (when the digit is 8)"
   ]
  },
  {
   "cell_type": "code",
   "execution_count": 11,
   "id": "personalized-growing",
   "metadata": {
    "execution": {
     "iopub.execute_input": "2021-04-25T10:14:18.815194Z",
     "iopub.status.busy": "2021-04-25T10:14:18.814686Z",
     "iopub.status.idle": "2021-04-25T10:14:18.823669Z",
     "shell.execute_reply": "2021-04-25T10:14:18.824040Z"
    },
    "papermill": {
     "duration": 0.044145,
     "end_time": "2021-04-25T10:14:18.824169",
     "exception": false,
     "start_time": "2021-04-25T10:14:18.780024",
     "status": "completed"
    },
    "tags": []
   },
   "outputs": [],
   "source": [
    "y_train = 1*(y_train==3)\n",
    "y_test = 1*(y_test==3)"
   ]
  },
  {
   "cell_type": "code",
   "execution_count": 12,
   "id": "considered-virgin",
   "metadata": {
    "execution": {
     "iopub.execute_input": "2021-04-25T10:14:18.889940Z",
     "iopub.status.busy": "2021-04-25T10:14:18.889427Z",
     "iopub.status.idle": "2021-04-25T10:14:18.898246Z",
     "shell.execute_reply": "2021-04-25T10:14:18.898692Z"
    },
    "papermill": {
     "duration": 0.046304,
     "end_time": "2021-04-25T10:14:18.898825",
     "exception": false,
     "start_time": "2021-04-25T10:14:18.852521",
     "status": "completed"
    },
    "tags": []
   },
   "outputs": [
    {
     "data": {
      "text/plain": [
       "((11982, 28, 28), (1984, 28, 28))"
      ]
     },
     "execution_count": 12,
     "metadata": {},
     "output_type": "execute_result"
    }
   ],
   "source": [
    "X_train.shape, X_test.shape"
   ]
  },
  {
   "cell_type": "markdown",
   "id": "civilian-mobile",
   "metadata": {
    "papermill": {
     "duration": 0.028294,
     "end_time": "2021-04-25T10:14:18.955728",
     "exception": false,
     "start_time": "2021-04-25T10:14:18.927434",
     "status": "completed"
    },
    "tags": []
   },
   "source": [
    "### Reshape the input data to create a linear array"
   ]
  },
  {
   "cell_type": "code",
   "execution_count": 13,
   "id": "colonial-adams",
   "metadata": {
    "execution": {
     "iopub.execute_input": "2021-04-25T10:14:19.017359Z",
     "iopub.status.busy": "2021-04-25T10:14:19.016845Z",
     "iopub.status.idle": "2021-04-25T10:14:19.029120Z",
     "shell.execute_reply": "2021-04-25T10:14:19.029512Z"
    },
    "papermill": {
     "duration": 0.045495,
     "end_time": "2021-04-25T10:14:19.029642",
     "exception": false,
     "start_time": "2021-04-25T10:14:18.984147",
     "status": "completed"
    },
    "tags": []
   },
   "outputs": [
    {
     "data": {
      "text/plain": [
       "((11982, 784), (1984, 784))"
      ]
     },
     "execution_count": 13,
     "metadata": {},
     "output_type": "execute_result"
    }
   ],
   "source": [
    "X_train = X_train.reshape(X_train.shape[0], -1)\n",
    "X_test = X_test.reshape(X_test.shape[0], -1)\n",
    "X_train.shape, X_test.shape"
   ]
  },
  {
   "cell_type": "markdown",
   "id": "smart-details",
   "metadata": {
    "papermill": {
     "duration": 0.028501,
     "end_time": "2021-04-25T10:14:19.086985",
     "exception": false,
     "start_time": "2021-04-25T10:14:19.058484",
     "status": "completed"
    },
    "tags": []
   },
   "source": [
    "### Importing appropriate functions from 'Kudzu'"
   ]
  },
  {
   "cell_type": "code",
   "execution_count": 14,
   "id": "celtic-trial",
   "metadata": {
    "execution": {
     "iopub.execute_input": "2021-04-25T10:14:19.149146Z",
     "iopub.status.busy": "2021-04-25T10:14:19.148651Z",
     "iopub.status.idle": "2021-04-25T10:14:19.166849Z",
     "shell.execute_reply": "2021-04-25T10:14:19.166356Z"
    },
    "papermill": {
     "duration": 0.0512,
     "end_time": "2021-04-25T10:14:19.166980",
     "exception": false,
     "start_time": "2021-04-25T10:14:19.115780",
     "status": "completed"
    },
    "tags": []
   },
   "outputs": [],
   "source": [
    "from kudzu.layer import Sigmoid\n",
    "from kudzu.layer import Relu\n",
    "from kudzu.layer import Affine, Sigmoid\n",
    "\n",
    "from kudzu.model import Model\n",
    "from kudzu.train import Learner\n",
    "from kudzu.optim import GD\n",
    "from kudzu.data import Data, Dataloader, Sampler\n",
    "\n",
    "from kudzu.callbacks import AccCallback\n",
    "from kudzu.callbacks import ClfCallback\n",
    "\n",
    "from kudzu.loss import MSE"
   ]
  },
  {
   "cell_type": "markdown",
   "id": "coupled-customer",
   "metadata": {
    "papermill": {
     "duration": 0.02845,
     "end_time": "2021-04-25T10:14:19.225025",
     "exception": false,
     "start_time": "2021-04-25T10:14:19.196575",
     "status": "completed"
    },
    "tags": []
   },
   "source": [
    "### Let us create a `Config` class, to store important parameters. \n",
    "This class essentially plays the role of a dictionary."
   ]
  },
  {
   "cell_type": "code",
   "execution_count": 15,
   "id": "young-ceiling",
   "metadata": {
    "execution": {
     "iopub.execute_input": "2021-04-25T10:14:19.286200Z",
     "iopub.status.busy": "2021-04-25T10:14:19.285694Z",
     "iopub.status.idle": "2021-04-25T10:14:19.297087Z",
     "shell.execute_reply": "2021-04-25T10:14:19.296664Z"
    },
    "papermill": {
     "duration": 0.043305,
     "end_time": "2021-04-25T10:14:19.297196",
     "exception": false,
     "start_time": "2021-04-25T10:14:19.253891",
     "status": "completed"
    },
    "tags": []
   },
   "outputs": [],
   "source": [
    "class Config:\n",
    "    pass\n",
    "config = Config()\n",
    "config.lr = 0.001\n",
    "config.num_epochs = 251\n",
    "config.bs = 50"
   ]
  },
  {
   "cell_type": "markdown",
   "id": "according-mandate",
   "metadata": {
    "papermill": {
     "duration": 0.028327,
     "end_time": "2021-04-25T10:14:19.354045",
     "exception": false,
     "start_time": "2021-04-25T10:14:19.325718",
     "status": "completed"
    },
    "tags": []
   },
   "source": [
    "### Initializing data to the variables"
   ]
  },
  {
   "cell_type": "code",
   "execution_count": 16,
   "id": "academic-disposition",
   "metadata": {
    "execution": {
     "iopub.execute_input": "2021-04-25T10:14:19.415849Z",
     "iopub.status.busy": "2021-04-25T10:14:19.415349Z",
     "iopub.status.idle": "2021-04-25T10:14:19.427030Z",
     "shell.execute_reply": "2021-04-25T10:14:19.426572Z"
    },
    "papermill": {
     "duration": 0.044506,
     "end_time": "2021-04-25T10:14:19.427138",
     "exception": false,
     "start_time": "2021-04-25T10:14:19.382632",
     "status": "completed"
    },
    "tags": []
   },
   "outputs": [],
   "source": [
    "data = Data(X_train, y_train.reshape(-1,1))\n",
    "sampler = Sampler(data, config.bs, shuffle=True)\n",
    "\n",
    "dl = Dataloader(data, sampler)\n",
    "\n",
    "opt = GD(config.lr)\n",
    "loss = MSE()"
   ]
  },
  {
   "cell_type": "code",
   "execution_count": 17,
   "id": "featured-commission",
   "metadata": {
    "execution": {
     "iopub.execute_input": "2021-04-25T10:14:19.496304Z",
     "iopub.status.busy": "2021-04-25T10:14:19.495775Z",
     "iopub.status.idle": "2021-04-25T10:14:19.502442Z",
     "shell.execute_reply": "2021-04-25T10:14:19.502019Z"
    },
    "papermill": {
     "duration": 0.046835,
     "end_time": "2021-04-25T10:14:19.502549",
     "exception": false,
     "start_time": "2021-04-25T10:14:19.455714",
     "status": "completed"
    },
    "tags": []
   },
   "outputs": [],
   "source": [
    "training_xdata = X_train\n",
    "testing_xdata = X_test\n",
    "training_ydata = y_train.reshape(-1,1)\n",
    "testing_ydata = y_test.reshape(-1,1)"
   ]
  },
  {
   "cell_type": "markdown",
   "id": "played-safety",
   "metadata": {
    "papermill": {
     "duration": 0.029002,
     "end_time": "2021-04-25T10:14:19.560260",
     "exception": false,
     "start_time": "2021-04-25T10:14:19.531258",
     "status": "completed"
    },
    "tags": []
   },
   "source": [
    "### Running Models with the Training data\n",
    "Details about the network layers:\n",
    "- A first affine layer has 784 inputs and does 100 affine transforms. These are followed by a Relu\n",
    "- A second affine layer has 100 inputs from the 100 activations of the past layer, and does 100 affine transforms. These are followed by a Relu\n",
    "- A third affine layer has 100 activations and does 2 affine transformations to create an embedding for visualization. There is no non-linearity here.\n",
    "- A final \"logistic regression\" which has an affine transform from 2 inputs to 1 output, which is squeezed through a sigmoid.\n",
    "\n",
    "Help taken from Anshuman's Notebook."
   ]
  },
  {
   "cell_type": "code",
   "execution_count": 18,
   "id": "asian-bankruptcy",
   "metadata": {
    "execution": {
     "iopub.execute_input": "2021-04-25T10:14:19.631303Z",
     "iopub.status.busy": "2021-04-25T10:14:19.623868Z",
     "iopub.status.idle": "2021-04-25T10:14:19.636623Z",
     "shell.execute_reply": "2021-04-25T10:14:19.636211Z"
    },
    "papermill": {
     "duration": 0.047989,
     "end_time": "2021-04-25T10:14:19.636741",
     "exception": false,
     "start_time": "2021-04-25T10:14:19.588752",
     "status": "completed"
    },
    "tags": []
   },
   "outputs": [],
   "source": [
    "# layers for the Neural Network\n",
    "layers = [Affine(\"first\", 784, 100), Relu(\"first\"), Affine(\"second\", 100, 100), Relu(\"second\"), Affine(\"third\", 100, 2), Affine(\"final\", 2, 1), Sigmoid(\"final\")]\n",
    "model_nn = Model(layers)\n",
    "\n",
    "# layers for the Logistic Regression\n",
    "layers_lr = [Affine(\"logits\", 784, 1), Sigmoid(\"sigmoid\")]\n",
    "model_lr = Model(layers_lr)"
   ]
  },
  {
   "cell_type": "code",
   "execution_count": 19,
   "id": "removed-butler",
   "metadata": {
    "execution": {
     "iopub.execute_input": "2021-04-25T10:14:19.701548Z",
     "iopub.status.busy": "2021-04-25T10:14:19.701045Z",
     "iopub.status.idle": "2021-04-25T10:14:19.711245Z",
     "shell.execute_reply": "2021-04-25T10:14:19.710842Z"
    },
    "papermill": {
     "duration": 0.045778,
     "end_time": "2021-04-25T10:14:19.711357",
     "exception": false,
     "start_time": "2021-04-25T10:14:19.665579",
     "status": "completed"
    },
    "tags": []
   },
   "outputs": [],
   "source": [
    "# suffix _nn stands for Neural Network.\n",
    "learner_nn = Learner(loss, model_nn, opt, config.num_epochs)\n",
    "acc_nn = ClfCallback(learner_nn, config.bs, training_xdata , testing_xdata, training_ydata, testing_ydata)\n",
    "learner_nn.set_callbacks([acc_nn])"
   ]
  },
  {
   "cell_type": "code",
   "execution_count": 20,
   "id": "conceptual-throw",
   "metadata": {
    "execution": {
     "iopub.execute_input": "2021-04-25T10:14:19.773691Z",
     "iopub.status.busy": "2021-04-25T10:14:19.773197Z",
     "iopub.status.idle": "2021-04-25T10:15:39.486126Z",
     "shell.execute_reply": "2021-04-25T10:15:39.486835Z"
    },
    "papermill": {
     "duration": 79.745378,
     "end_time": "2021-04-25T10:15:39.486974",
     "exception": false,
     "start_time": "2021-04-25T10:14:19.741596",
     "status": "completed"
    },
    "tags": []
   },
   "outputs": [
    {
     "name": "stdout",
     "output_type": "stream",
     "text": [
      "====== Neural Network ======\n"
     ]
    },
    {
     "name": "stdout",
     "output_type": "stream",
     "text": [
      "Epoch 0, Loss 0.244\n",
      "Training Accuracy: 0.6225, Testing Accuracy: 0.6310\n",
      "\n"
     ]
    },
    {
     "name": "stdout",
     "output_type": "stream",
     "text": [
      "Epoch 10, Loss 0.1246\n",
      "Training Accuracy: 0.9043, Testing Accuracy: 0.9214\n",
      "\n"
     ]
    },
    {
     "name": "stdout",
     "output_type": "stream",
     "text": [
      "Epoch 20, Loss 0.0648\n",
      "Training Accuracy: 0.9371, Testing Accuracy: 0.9496\n",
      "\n"
     ]
    },
    {
     "name": "stdout",
     "output_type": "stream",
     "text": [
      "Epoch 30, Loss 0.0479\n",
      "Training Accuracy: 0.9492, Testing Accuracy: 0.9607\n",
      "\n"
     ]
    },
    {
     "name": "stdout",
     "output_type": "stream",
     "text": [
      "Epoch 40, Loss 0.0404\n",
      "Training Accuracy: 0.9559, Testing Accuracy: 0.9647\n",
      "\n"
     ]
    },
    {
     "name": "stdout",
     "output_type": "stream",
     "text": [
      "Epoch 50, Loss 0.0363\n",
      "Training Accuracy: 0.9592, Testing Accuracy: 0.9667\n",
      "\n"
     ]
    },
    {
     "name": "stdout",
     "output_type": "stream",
     "text": [
      "Epoch 60, Loss 0.0336\n",
      "Training Accuracy: 0.9617, Testing Accuracy: 0.9657\n",
      "\n"
     ]
    },
    {
     "name": "stdout",
     "output_type": "stream",
     "text": [
      "Epoch 70, Loss 0.0316\n",
      "Training Accuracy: 0.9635, Testing Accuracy: 0.9677\n",
      "\n"
     ]
    },
    {
     "name": "stdout",
     "output_type": "stream",
     "text": [
      "Epoch 80, Loss 0.0301\n",
      "Training Accuracy: 0.9651, Testing Accuracy: 0.9698\n",
      "\n"
     ]
    },
    {
     "name": "stdout",
     "output_type": "stream",
     "text": [
      "Epoch 90, Loss 0.0289\n",
      "Training Accuracy: 0.9660, Testing Accuracy: 0.9713\n",
      "\n"
     ]
    },
    {
     "name": "stdout",
     "output_type": "stream",
     "text": [
      "Epoch 100, Loss 0.0278\n",
      "Training Accuracy: 0.9672, Testing Accuracy: 0.9708\n",
      "\n"
     ]
    },
    {
     "name": "stdout",
     "output_type": "stream",
     "text": [
      "Epoch 110, Loss 0.0269\n",
      "Training Accuracy: 0.9682, Testing Accuracy: 0.9713\n",
      "\n"
     ]
    },
    {
     "name": "stdout",
     "output_type": "stream",
     "text": [
      "Epoch 120, Loss 0.0261\n",
      "Training Accuracy: 0.9691, Testing Accuracy: 0.9713\n",
      "\n"
     ]
    },
    {
     "name": "stdout",
     "output_type": "stream",
     "text": [
      "Epoch 130, Loss 0.0254\n",
      "Training Accuracy: 0.9699, Testing Accuracy: 0.9718\n",
      "\n"
     ]
    },
    {
     "name": "stdout",
     "output_type": "stream",
     "text": [
      "Epoch 140, Loss 0.0248\n",
      "Training Accuracy: 0.9706, Testing Accuracy: 0.9723\n",
      "\n"
     ]
    },
    {
     "name": "stdout",
     "output_type": "stream",
     "text": [
      "Epoch 150, Loss 0.0242\n",
      "Training Accuracy: 0.9715, Testing Accuracy: 0.9718\n",
      "\n"
     ]
    },
    {
     "name": "stdout",
     "output_type": "stream",
     "text": [
      "Epoch 160, Loss 0.0237\n",
      "Training Accuracy: 0.9723, Testing Accuracy: 0.9718\n",
      "\n"
     ]
    },
    {
     "name": "stdout",
     "output_type": "stream",
     "text": [
      "Epoch 170, Loss 0.0232\n",
      "Training Accuracy: 0.9730, Testing Accuracy: 0.9713\n",
      "\n"
     ]
    },
    {
     "name": "stdout",
     "output_type": "stream",
     "text": [
      "Epoch 180, Loss 0.0227\n",
      "Training Accuracy: 0.9739, Testing Accuracy: 0.9713\n",
      "\n"
     ]
    },
    {
     "name": "stdout",
     "output_type": "stream",
     "text": [
      "Epoch 190, Loss 0.0223\n",
      "Training Accuracy: 0.9742, Testing Accuracy: 0.9713\n",
      "\n"
     ]
    },
    {
     "name": "stdout",
     "output_type": "stream",
     "text": [
      "Epoch 200, Loss 0.0219\n",
      "Training Accuracy: 0.9745, Testing Accuracy: 0.9718\n",
      "\n"
     ]
    },
    {
     "name": "stdout",
     "output_type": "stream",
     "text": [
      "Epoch 210, Loss 0.0215\n",
      "Training Accuracy: 0.9754, Testing Accuracy: 0.9718\n",
      "\n"
     ]
    },
    {
     "name": "stdout",
     "output_type": "stream",
     "text": [
      "Epoch 220, Loss 0.0211\n",
      "Training Accuracy: 0.9756, Testing Accuracy: 0.9723\n",
      "\n"
     ]
    },
    {
     "name": "stdout",
     "output_type": "stream",
     "text": [
      "Epoch 230, Loss 0.0207\n",
      "Training Accuracy: 0.9761, Testing Accuracy: 0.9723\n",
      "\n"
     ]
    },
    {
     "name": "stdout",
     "output_type": "stream",
     "text": [
      "Epoch 240, Loss 0.0203\n",
      "Training Accuracy: 0.9767, Testing Accuracy: 0.9723\n",
      "\n"
     ]
    },
    {
     "name": "stdout",
     "output_type": "stream",
     "text": [
      "Epoch 250, Loss 0.0199\n",
      "Training Accuracy: 0.9765, Testing Accuracy: 0.9728\n",
      "\n"
     ]
    },
    {
     "data": {
      "text/plain": [
       "0.03138549540680846"
      ]
     },
     "execution_count": 20,
     "metadata": {},
     "output_type": "execute_result"
    }
   ],
   "source": [
    "print(\"====== Neural Network ======\")\n",
    "learner_nn.train_loop(dl)"
   ]
  },
  {
   "cell_type": "markdown",
   "id": "competent-suffering",
   "metadata": {
    "papermill": {
     "duration": 0.035929,
     "end_time": "2021-04-25T10:15:39.559337",
     "exception": false,
     "start_time": "2021-04-25T10:15:39.523408",
     "status": "completed"
    },
    "tags": []
   },
   "source": [
    "### Logistic Regression based Implementation."
   ]
  },
  {
   "cell_type": "code",
   "execution_count": 21,
   "id": "qualified-psychiatry",
   "metadata": {
    "execution": {
     "iopub.execute_input": "2021-04-25T10:15:39.639004Z",
     "iopub.status.busy": "2021-04-25T10:15:39.636626Z",
     "iopub.status.idle": "2021-04-25T10:15:39.648298Z",
     "shell.execute_reply": "2021-04-25T10:15:39.647854Z"
    },
    "papermill": {
     "duration": 0.053093,
     "end_time": "2021-04-25T10:15:39.648409",
     "exception": false,
     "start_time": "2021-04-25T10:15:39.595316",
     "status": "completed"
    },
    "tags": []
   },
   "outputs": [],
   "source": [
    "learner_lr = Learner(loss, model_lr, opt, config.num_epochs)\n",
    "acc_lr = ClfCallback(learner_lr, config.bs, training_xdata , testing_xdata, training_ydata, testing_ydata)\n",
    "learner_lr.set_callbacks([acc_lr])"
   ]
  },
  {
   "cell_type": "code",
   "execution_count": 22,
   "id": "average-outside",
   "metadata": {
    "execution": {
     "iopub.execute_input": "2021-04-25T10:15:39.725478Z",
     "iopub.status.busy": "2021-04-25T10:15:39.724940Z",
     "iopub.status.idle": "2021-04-25T10:15:53.950218Z",
     "shell.execute_reply": "2021-04-25T10:15:53.950936Z"
    },
    "papermill": {
     "duration": 14.26641,
     "end_time": "2021-04-25T10:15:53.951075",
     "exception": false,
     "start_time": "2021-04-25T10:15:39.684665",
     "status": "completed"
    },
    "tags": []
   },
   "outputs": [
    {
     "name": "stdout",
     "output_type": "stream",
     "text": [
      "====== Logistic Regression ======\n",
      "Epoch 0, Loss 0.2518\n",
      "Training Accuracy: 0.6284, Testing Accuracy: 0.6542\n",
      "\n"
     ]
    },
    {
     "name": "stdout",
     "output_type": "stream",
     "text": [
      "Epoch 10, Loss 0.105\n",
      "Training Accuracy: 0.9009, Testing Accuracy: 0.9113\n",
      "\n"
     ]
    },
    {
     "name": "stdout",
     "output_type": "stream",
     "text": [
      "Epoch 20, Loss 0.081\n",
      "Training Accuracy: 0.9217, Testing Accuracy: 0.9299\n",
      "\n"
     ]
    },
    {
     "name": "stdout",
     "output_type": "stream",
     "text": [
      "Epoch 30, Loss 0.0698\n",
      "Training Accuracy: 0.9332, Testing Accuracy: 0.9390\n",
      "\n"
     ]
    },
    {
     "name": "stdout",
     "output_type": "stream",
     "text": [
      "Epoch 40, Loss 0.0629\n",
      "Training Accuracy: 0.9384, Testing Accuracy: 0.9446\n",
      "\n"
     ]
    },
    {
     "name": "stdout",
     "output_type": "stream",
     "text": [
      "Epoch 50, Loss 0.0583\n",
      "Training Accuracy: 0.9422, Testing Accuracy: 0.9501\n",
      "\n"
     ]
    },
    {
     "name": "stdout",
     "output_type": "stream",
     "text": [
      "Epoch 60, Loss 0.0548\n",
      "Training Accuracy: 0.9455, Testing Accuracy: 0.9567\n",
      "\n"
     ]
    },
    {
     "name": "stdout",
     "output_type": "stream",
     "text": [
      "Epoch 70, Loss 0.0522\n",
      "Training Accuracy: 0.9473, Testing Accuracy: 0.9597\n",
      "\n"
     ]
    },
    {
     "name": "stdout",
     "output_type": "stream",
     "text": [
      "Epoch 80, Loss 0.0501\n",
      "Training Accuracy: 0.9495, Testing Accuracy: 0.9617\n",
      "\n"
     ]
    },
    {
     "name": "stdout",
     "output_type": "stream",
     "text": [
      "Epoch 90, Loss 0.0483\n",
      "Training Accuracy: 0.9508, Testing Accuracy: 0.9627\n",
      "\n"
     ]
    },
    {
     "name": "stdout",
     "output_type": "stream",
     "text": [
      "Epoch 100, Loss 0.0468\n",
      "Training Accuracy: 0.9516, Testing Accuracy: 0.9622\n",
      "\n"
     ]
    },
    {
     "name": "stdout",
     "output_type": "stream",
     "text": [
      "Epoch 110, Loss 0.0456\n",
      "Training Accuracy: 0.9529, Testing Accuracy: 0.9637\n",
      "\n"
     ]
    },
    {
     "name": "stdout",
     "output_type": "stream",
     "text": [
      "Epoch 120, Loss 0.0445\n",
      "Training Accuracy: 0.9536, Testing Accuracy: 0.9652\n",
      "\n"
     ]
    },
    {
     "name": "stdout",
     "output_type": "stream",
     "text": [
      "Epoch 130, Loss 0.0435\n",
      "Training Accuracy: 0.9544, Testing Accuracy: 0.9657\n",
      "\n"
     ]
    },
    {
     "name": "stdout",
     "output_type": "stream",
     "text": [
      "Epoch 140, Loss 0.0426\n",
      "Training Accuracy: 0.9553, Testing Accuracy: 0.9652\n",
      "\n"
     ]
    },
    {
     "name": "stdout",
     "output_type": "stream",
     "text": [
      "Epoch 150, Loss 0.0418\n",
      "Training Accuracy: 0.9563, Testing Accuracy: 0.9652\n",
      "\n"
     ]
    },
    {
     "name": "stdout",
     "output_type": "stream",
     "text": [
      "Epoch 160, Loss 0.0411\n",
      "Training Accuracy: 0.9567, Testing Accuracy: 0.9657\n",
      "\n"
     ]
    },
    {
     "name": "stdout",
     "output_type": "stream",
     "text": [
      "Epoch 170, Loss 0.0405\n",
      "Training Accuracy: 0.9577, Testing Accuracy: 0.9657\n",
      "\n"
     ]
    },
    {
     "name": "stdout",
     "output_type": "stream",
     "text": [
      "Epoch 180, Loss 0.0399\n",
      "Training Accuracy: 0.9579, Testing Accuracy: 0.9657\n",
      "\n"
     ]
    },
    {
     "name": "stdout",
     "output_type": "stream",
     "text": [
      "Epoch 190, Loss 0.0394\n",
      "Training Accuracy: 0.9583, Testing Accuracy: 0.9657\n",
      "\n"
     ]
    },
    {
     "name": "stdout",
     "output_type": "stream",
     "text": [
      "Epoch 200, Loss 0.0389\n",
      "Training Accuracy: 0.9585, Testing Accuracy: 0.9657\n",
      "\n"
     ]
    },
    {
     "name": "stdout",
     "output_type": "stream",
     "text": [
      "Epoch 210, Loss 0.0384\n",
      "Training Accuracy: 0.9589, Testing Accuracy: 0.9647\n",
      "\n"
     ]
    },
    {
     "name": "stdout",
     "output_type": "stream",
     "text": [
      "Epoch 220, Loss 0.038\n",
      "Training Accuracy: 0.9592, Testing Accuracy: 0.9647\n",
      "\n"
     ]
    },
    {
     "name": "stdout",
     "output_type": "stream",
     "text": [
      "Epoch 230, Loss 0.0376\n",
      "Training Accuracy: 0.9599, Testing Accuracy: 0.9647\n",
      "\n"
     ]
    },
    {
     "name": "stdout",
     "output_type": "stream",
     "text": [
      "Epoch 240, Loss 0.0372\n",
      "Training Accuracy: 0.9600, Testing Accuracy: 0.9647\n",
      "\n"
     ]
    },
    {
     "name": "stdout",
     "output_type": "stream",
     "text": [
      "Epoch 250, Loss 0.0369\n",
      "Training Accuracy: 0.9601, Testing Accuracy: 0.9647\n",
      "\n"
     ]
    },
    {
     "data": {
      "text/plain": [
       "0.024557661718545412"
      ]
     },
     "execution_count": 22,
     "metadata": {},
     "output_type": "execute_result"
    }
   ],
   "source": [
    "print(\"====== Logistic Regression ======\")\n",
    "learner_lr.train_loop(dl)"
   ]
  },
  {
   "cell_type": "markdown",
   "id": "adjusted-possible",
   "metadata": {
    "papermill": {
     "duration": 0.043105,
     "end_time": "2021-04-25T10:15:54.037621",
     "exception": false,
     "start_time": "2021-04-25T10:15:53.994516",
     "status": "completed"
    },
    "tags": []
   },
   "source": [
    "### Comparing results of NN and LR"
   ]
  },
  {
   "cell_type": "code",
   "execution_count": 23,
   "id": "mental-multimedia",
   "metadata": {
    "execution": {
     "iopub.execute_input": "2021-04-25T10:15:54.133115Z",
     "iopub.status.busy": "2021-04-25T10:15:54.129662Z",
     "iopub.status.idle": "2021-04-25T10:15:54.344483Z",
     "shell.execute_reply": "2021-04-25T10:15:54.344044Z"
    },
    "papermill": {
     "duration": 0.263628,
     "end_time": "2021-04-25T10:15:54.344602",
     "exception": false,
     "start_time": "2021-04-25T10:15:54.080974",
     "status": "completed"
    },
    "tags": []
   },
   "outputs": [
    {
     "data": {
      "text/plain": [
       "<matplotlib.legend.Legend at 0x7ff6b68ed470>"
      ]
     },
     "execution_count": 23,
     "metadata": {},
     "output_type": "execute_result"
    },
    {
     "data": {
      "image/png": "[encoded data removed]",
      "text/plain": [
       "<Figure size 1080x720 with 1 Axes>"
      ]
     },
     "metadata": {
      "needs_background": "light"
     },
     "output_type": "display_data"
    }
   ],
   "source": [
    "plt.figure(figsize=(15,10))\n",
    "\n",
    "# Neural Network plots\n",
    "plt.plot(acc_nn.accuracies, 'r-', label = \"Training Accuracies - NN\")\n",
    "plt.plot(acc_nn.test_accuracies, 'g-', label = \"Testing Accuracies - NN\")\n",
    "\n",
    "# Logistic Regression plots\n",
    "plt.plot(acc_lr.accuracies, 'k-', label = \"Training Accuracies - LR\")\n",
    "plt.plot(acc_lr.test_accuracies, 'b-', label = \"Testing Accuracies - LR\")\n",
    "\n",
    "plt.ylim(0.8, 1)\n",
    "\n",
    "plt.legend()\n",
    "\n"
   ]
  },
  {
   "cell_type": "markdown",
   "id": "sexual-flesh",
   "metadata": {
    "papermill": {
     "duration": 0.045121,
     "end_time": "2021-04-25T10:15:54.434718",
     "exception": false,
     "start_time": "2021-04-25T10:15:54.389597",
     "status": "completed"
    },
    "tags": []
   },
   "source": [
    "### From the plot, we can observe the following:\n",
    "- Neural Network achieves higher accuracy than the Logistic Regression model.\n",
    "- This apparently, is because of overfitting, i.e. NN captures more noise than data.\n",
    "- Testing accuracy of NN drops below the Training accuracy at higher epochs. This explains the over-fitting on training data.\n",
    "- Logistic Regression gives a reliable accuracy, without the above mentioned problem.\n"
   ]
  },
  {
   "cell_type": "markdown",
   "id": "institutional-pacific",
   "metadata": {
    "papermill": {
     "duration": 0.044831,
     "end_time": "2021-04-25T10:15:54.524320",
     "exception": false,
     "start_time": "2021-04-25T10:15:54.479489",
     "status": "completed"
    },
    "tags": []
   },
   "source": [
    "### Moving till the last but one layer (excluding it).\n",
    "#### Plotting the outputs of this layer of the NN."
   ]
  },
  {
   "cell_type": "code",
   "execution_count": 24,
   "id": "economic-server",
   "metadata": {
    "execution": {
     "iopub.execute_input": "2021-04-25T10:15:54.627519Z",
     "iopub.status.busy": "2021-04-25T10:15:54.618665Z",
     "iopub.status.idle": "2021-04-25T10:15:54.629716Z",
     "shell.execute_reply": "2021-04-25T10:15:54.629314Z"
    },
    "papermill": {
     "duration": 0.060548,
     "end_time": "2021-04-25T10:15:54.629828",
     "exception": false,
     "start_time": "2021-04-25T10:15:54.569280",
     "status": "completed"
    },
    "tags": []
   },
   "outputs": [],
   "source": [
    "model_new = Model(layers[:-2])"
   ]
  },
  {
   "cell_type": "code",
   "execution_count": 25,
   "id": "varied-upgrade",
   "metadata": {
    "execution": {
     "iopub.execute_input": "2021-04-25T10:15:54.723186Z",
     "iopub.status.busy": "2021-04-25T10:15:54.722676Z",
     "iopub.status.idle": "2021-04-25T10:15:54.741888Z",
     "shell.execute_reply": "2021-04-25T10:15:54.742451Z"
    },
    "papermill": {
     "duration": 0.0679,
     "end_time": "2021-04-25T10:15:54.742588",
     "exception": false,
     "start_time": "2021-04-25T10:15:54.674688",
     "status": "completed"
    },
    "tags": []
   },
   "outputs": [],
   "source": [
    "plot_testing = model_new(testing_xdata)"
   ]
  },
  {
   "cell_type": "code",
   "execution_count": 26,
   "id": "specific-handling",
   "metadata": {
    "execution": {
     "iopub.execute_input": "2021-04-25T10:15:54.841695Z",
     "iopub.status.busy": "2021-04-25T10:15:54.841181Z",
     "iopub.status.idle": "2021-04-25T10:15:55.013723Z",
     "shell.execute_reply": "2021-04-25T10:15:55.013306Z"
    },
    "papermill": {
     "duration": 0.225803,
     "end_time": "2021-04-25T10:15:55.013838",
     "exception": false,
     "start_time": "2021-04-25T10:15:54.788035",
     "status": "completed"
    },
    "tags": []
   },
   "outputs": [
    {
     "data": {
      "text/plain": [
       "Text(0.5, 1.0, 'Outputs')"
      ]
     },
     "execution_count": 26,
     "metadata": {},
     "output_type": "execute_result"
    },
    {
     "data": {
      "image/png": "[encoded data removed]",
      "text/plain": [
       "<Figure size 576x504 with 1 Axes>"
      ]
     },
     "metadata": {
      "needs_background": "light"
     },
     "output_type": "display_data"
    }
   ],
   "source": [
    "plt.figure(figsize=(8,7))\n",
    "plt.scatter(plot_testing[:,0], plot_testing[:,1], alpha = 0.1, c = y_test.ravel());\n",
    "plt.title('Outputs')"
   ]
  },
  {
   "cell_type": "markdown",
   "id": "described-knowing",
   "metadata": {
    "papermill": {
     "duration": 0.071407,
     "end_time": "2021-04-25T10:15:55.131974",
     "exception": false,
     "start_time": "2021-04-25T10:15:55.060567",
     "status": "completed"
    },
    "tags": []
   },
   "source": [
    "### Plotting probability contours"
   ]
  },
  {
   "cell_type": "code",
   "execution_count": 27,
   "id": "needed-growing",
   "metadata": {
    "execution": {
     "iopub.execute_input": "2021-04-25T10:15:55.229092Z",
     "iopub.status.busy": "2021-04-25T10:15:55.228213Z",
     "iopub.status.idle": "2021-04-25T10:15:55.241060Z",
     "shell.execute_reply": "2021-04-25T10:15:55.240159Z"
    },
    "papermill": {
     "duration": 0.062663,
     "end_time": "2021-04-25T10:15:55.241175",
     "exception": false,
     "start_time": "2021-04-25T10:15:55.178512",
     "status": "completed"
    },
    "tags": []
   },
   "outputs": [],
   "source": [
    "model_prob = Model(layers[-2:]) "
   ]
  },
  {
   "cell_type": "code",
   "execution_count": 28,
   "id": "introductory-enforcement",
   "metadata": {
    "execution": {
     "iopub.execute_input": "2021-04-25T10:15:55.348228Z",
     "iopub.status.busy": "2021-04-25T10:15:55.338478Z",
     "iopub.status.idle": "2021-04-25T10:15:55.354002Z",
     "shell.execute_reply": "2021-04-25T10:15:55.354381Z"
    },
    "papermill": {
     "duration": 0.066767,
     "end_time": "2021-04-25T10:15:55.354520",
     "exception": false,
     "start_time": "2021-04-25T10:15:55.287753",
     "status": "completed"
    },
    "tags": []
   },
   "outputs": [],
   "source": [
    "# Adjust the x and y ranges according to the above generated plot.\n",
    "x_range = np.linspace(-4, 1, 100) \n",
    "y_range = np.linspace(-6, 6, 100) \n",
    "x_grid, y_grid = np.meshgrid(x_range, y_range) # x_grid and y_grig are of size 100 X 100\n",
    "\n",
    "# converting x_grid and y_grid to continuous arrays\n",
    "x_grid_flat = np.ravel(x_grid)\n",
    "y_grid_flat = np.ravel(y_grid)\n",
    "\n",
    "# The last layer of the current model takes two columns as input. Hence transpose of np.vstack() is required.\n",
    "X = np.vstack((x_grid_flat, y_grid_flat)).T\n",
    "\n",
    "# x_grid and y_grid are of size 100 x 100\n",
    "probability_contour = model_prob(X).reshape(100,100) "
   ]
  },
  {
   "cell_type": "code",
   "execution_count": 29,
   "id": "understood-landing",
   "metadata": {
    "execution": {
     "iopub.execute_input": "2021-04-25T10:15:55.454027Z",
     "iopub.status.busy": "2021-04-25T10:15:55.453512Z",
     "iopub.status.idle": "2021-04-25T10:15:55.673148Z",
     "shell.execute_reply": "2021-04-25T10:15:55.672658Z"
    },
    "papermill": {
     "duration": 0.272017,
     "end_time": "2021-04-25T10:15:55.673271",
     "exception": false,
     "start_time": "2021-04-25T10:15:55.401254",
     "status": "completed"
    },
    "tags": []
   },
   "outputs": [
    {
     "data": {
      "image/png": "[encoded data removed]",
      "text/plain": [
       "<Figure size 720x648 with 1 Axes>"
      ]
     },
     "metadata": {
      "needs_background": "light"
     },
     "output_type": "display_data"
    }
   ],
   "source": [
    "plt.figure(figsize=(10,9))\n",
    "plt.scatter(plot_testing[:,0], plot_testing[:,1], alpha = 0.1, c = y_test.ravel())\n",
    "contours = plt.contour(x_grid,y_grid,probability_contour)\n",
    "plt.title('Probability Contours')\n",
    "plt.clabel(contours, inline = True );"
   ]
  }
 ],
 "metadata": {
  "kernelspec": {
   "display_name": "Python 3",
   "language": "python",
   "name": "python3"
  },
  "language_info": {
   "codemirror_mode": {
    "name": "ipython",
    "version": 3
   },
   "file_extension": ".py",
   "mimetype": "text/x-python",
   "name": "python",
   "nbconvert_exporter": "python",
   "pygments_lexer": "ipython3",
   "version": "3.6.13"
  },
  "papermill": {
   "duration": 388.414631,
   "end_time": "2021-04-25T10:15:56.947905",
   "environment_variables": {},
   "exception": null,
   "input_path": "2020-08-11-NeuralNetwork.ipynb",
   "output_path": "2020-08-11-NeuralNetwork.ipynb",
   "parameters": {},
   "start_time": "2021-04-25T10:09:28.533274",
   "version": "2.1.2"
  }
 },
 "nbformat": 4,
 "nbformat_minor": 5
}