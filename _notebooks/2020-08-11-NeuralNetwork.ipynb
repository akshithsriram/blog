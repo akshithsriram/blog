{
 "cells": [
  {
   "cell_type": "markdown",
   "metadata": {
    "papermill": {
     "duration": 0.030871,
     "end_time": "2020-10-17T10:04:51.514243",
     "exception": false,
     "start_time": "2020-10-17T10:04:51.483372",
     "status": "completed"
    },
    "tags": []
   },
   "source": [
    "# \"A Basic Neural Network: Differentiate Hand-Written Digits\"\n",
    "\n",
    "- badges: true\n",
    "- author: Akshith Sriram"
   ]
  },
  {
   "cell_type": "markdown",
   "metadata": {
    "papermill": {
     "duration": 0.025008,
     "end_time": "2020-10-17T10:04:51.564391",
     "exception": false,
     "start_time": "2020-10-17T10:04:51.539383",
     "status": "completed"
    },
    "tags": []
   },
   "source": [
    "### Key Objectives:\n",
    "- Building a neural network that differentiates two hand-written digits 3 and 8.\n",
    "- Comparing the results of this Neural Network (NN) to that of a Logistic Regression (LR) model.\n",
    "\n",
    "### Requirements:\n",
    "- 'Kudzu' : A neural network library that was designed during our course by [Univ.AI](www.univ.ai). \n",
    "- MNIST Database\n",
    "\n",
    "If MNIST is not installed, use the command `!pip install mnist` given below.\n",
    "It can be run both from the command line and Jupyter Notebook."
   ]
  },
  {
   "cell_type": "code",
   "execution_count": 1,
   "metadata": {
    "execution": {
     "iopub.execute_input": "2020-10-17T10:04:51.619321Z",
     "iopub.status.busy": "2020-10-17T10:04:51.618197Z",
     "iopub.status.idle": "2020-10-17T10:04:53.030766Z",
     "shell.execute_reply": "2020-10-17T10:04:53.029342Z"
    },
    "papermill": {
     "duration": 1.442081,
     "end_time": "2020-10-17T10:04:53.030981",
     "exception": false,
     "start_time": "2020-10-17T10:04:51.588900",
     "status": "completed"
    },
    "tags": []
   },
   "outputs": [
    {
     "name": "stdout",
     "output_type": "stream",
     "text": [
      "Collecting mnist\r\n"
     ]
    },
    {
     "name": "stdout",
     "output_type": "stream",
     "text": [
      "  Downloading mnist-0.2.2-py2.py3-none-any.whl (3.5 kB)\r\n"
     ]
    },
    {
     "name": "stdout",
     "output_type": "stream",
     "text": [
      "Requirement already satisfied: numpy in /opt/hostedtoolcache/Python/3.6.12/x64/lib/python3.6/site-packages (from mnist) (1.19.2)\r\n"
     ]
    },
    {
     "name": "stdout",
     "output_type": "stream",
     "text": [
      "Installing collected packages: mnist\r\n"
     ]
    },
    {
     "name": "stdout",
     "output_type": "stream",
     "text": [
      "Successfully installed mnist-0.2.2\r\n"
     ]
    }
   ],
   "source": [
    "!pip install mnist "
   ]
  },
  {
   "cell_type": "markdown",
   "metadata": {
    "papermill": {
     "duration": 0.026122,
     "end_time": "2020-10-17T10:04:53.085975",
     "exception": false,
     "start_time": "2020-10-17T10:04:53.059853",
     "status": "completed"
    },
    "tags": []
   },
   "source": [
    "#### Importing necessary libraries"
   ]
  },
  {
   "cell_type": "code",
   "execution_count": 2,
   "metadata": {
    "execution": {
     "iopub.execute_input": "2020-10-17T10:04:53.150551Z",
     "iopub.status.busy": "2020-10-17T10:04:53.149970Z",
     "iopub.status.idle": "2020-10-17T10:04:53.722522Z",
     "shell.execute_reply": "2020-10-17T10:04:53.721466Z"
    },
    "papermill": {
     "duration": 0.609391,
     "end_time": "2020-10-17T10:04:53.722717",
     "exception": false,
     "start_time": "2020-10-17T10:04:53.113326",
     "status": "completed"
    },
    "tags": []
   },
   "outputs": [],
   "source": [
    "%load_ext autoreload\n",
    "%autoreload 2\n",
    "\n",
    "%matplotlib inline\n",
    "import matplotlib.pyplot as plt\n",
    "\n",
    "import numpy as np\n",
    "import pandas as pd"
   ]
  },
  {
   "cell_type": "markdown",
   "metadata": {
    "papermill": {
     "duration": 0.028471,
     "end_time": "2020-10-17T10:04:53.779811",
     "exception": false,
     "start_time": "2020-10-17T10:04:53.751340",
     "status": "completed"
    },
    "tags": []
   },
   "source": [
    "### Preparing the Data"
   ]
  },
  {
   "cell_type": "code",
   "execution_count": 3,
   "metadata": {
    "execution": {
     "iopub.execute_input": "2020-10-17T10:04:53.837640Z",
     "iopub.status.busy": "2020-10-17T10:04:53.837041Z",
     "iopub.status.idle": "2020-10-17T10:04:53.850337Z",
     "shell.execute_reply": "2020-10-17T10:04:53.850796Z"
    },
    "papermill": {
     "duration": 0.044908,
     "end_time": "2020-10-17T10:04:53.850952",
     "exception": false,
     "start_time": "2020-10-17T10:04:53.806044",
     "status": "completed"
    },
    "tags": []
   },
   "outputs": [],
   "source": [
    "import mnist"
   ]
  },
  {
   "cell_type": "code",
   "execution_count": 4,
   "metadata": {
    "execution": {
     "iopub.execute_input": "2020-10-17T10:04:53.913644Z",
     "iopub.status.busy": "2020-10-17T10:04:53.912611Z",
     "iopub.status.idle": "2020-10-17T10:04:55.594863Z",
     "shell.execute_reply": "2020-10-17T10:04:55.593726Z"
    },
    "papermill": {
     "duration": 1.716761,
     "end_time": "2020-10-17T10:04:55.595005",
     "exception": false,
     "start_time": "2020-10-17T10:04:53.878244",
     "status": "completed"
    },
    "tags": []
   },
   "outputs": [],
   "source": [
    "train_images = mnist.train_images()\n",
    "train_labels = mnist.train_labels()"
   ]
  },
  {
   "cell_type": "code",
   "execution_count": 5,
   "metadata": {
    "execution": {
     "iopub.execute_input": "2020-10-17T10:04:55.900960Z",
     "iopub.status.busy": "2020-10-17T10:04:55.895858Z",
     "iopub.status.idle": "2020-10-17T10:04:55.910085Z",
     "shell.execute_reply": "2020-10-17T10:04:55.910559Z"
    },
    "papermill": {
     "duration": 0.289398,
     "end_time": "2020-10-17T10:04:55.910704",
     "exception": false,
     "start_time": "2020-10-17T10:04:55.621306",
     "status": "completed"
    },
    "tags": []
   },
   "outputs": [
    {
     "data": {
      "text/plain": [
       "((60000, 28, 28), (60000,))"
      ]
     },
     "execution_count": 5,
     "metadata": {},
     "output_type": "execute_result"
    }
   ],
   "source": [
    "train_images.shape, train_labels.shape"
   ]
  },
  {
   "cell_type": "code",
   "execution_count": 6,
   "metadata": {
    "execution": {
     "iopub.execute_input": "2020-10-17T10:04:55.969061Z",
     "iopub.status.busy": "2020-10-17T10:04:55.968478Z",
     "iopub.status.idle": "2020-10-17T10:04:57.348723Z",
     "shell.execute_reply": "2020-10-17T10:04:57.347988Z"
    },
    "papermill": {
     "duration": 1.411586,
     "end_time": "2020-10-17T10:04:57.348893",
     "exception": false,
     "start_time": "2020-10-17T10:04:55.937307",
     "status": "completed"
    },
    "tags": []
   },
   "outputs": [],
   "source": [
    "test_images = mnist.test_images()\n",
    "test_labels = mnist.test_labels()"
   ]
  },
  {
   "cell_type": "code",
   "execution_count": 7,
   "metadata": {
    "execution": {
     "iopub.execute_input": "2020-10-17T10:04:57.422109Z",
     "iopub.status.busy": "2020-10-17T10:04:57.417019Z",
     "iopub.status.idle": "2020-10-17T10:04:57.425231Z",
     "shell.execute_reply": "2020-10-17T10:04:57.424736Z"
    },
    "papermill": {
     "duration": 0.047706,
     "end_time": "2020-10-17T10:04:57.425353",
     "exception": false,
     "start_time": "2020-10-17T10:04:57.377647",
     "status": "completed"
    },
    "tags": []
   },
   "outputs": [
    {
     "data": {
      "text/plain": [
       "((10000, 28, 28), (10000,))"
      ]
     },
     "execution_count": 7,
     "metadata": {},
     "output_type": "execute_result"
    }
   ],
   "source": [
    "test_images.shape, test_labels.shape"
   ]
  },
  {
   "cell_type": "code",
   "execution_count": 8,
   "metadata": {
    "execution": {
     "iopub.execute_input": "2020-10-17T10:04:57.489387Z",
     "iopub.status.busy": "2020-10-17T10:04:57.488804Z",
     "iopub.status.idle": "2020-10-17T10:04:57.636788Z",
     "shell.execute_reply": "2020-10-17T10:04:57.636267Z"
    },
    "papermill": {
     "duration": 0.184396,
     "end_time": "2020-10-17T10:04:57.636918",
     "exception": false,
     "start_time": "2020-10-17T10:04:57.452522",
     "status": "completed"
    },
    "tags": []
   },
   "outputs": [
    {
     "name": "stdout",
     "output_type": "stream",
     "text": [
      "2\n"
     ]
    },
    {
     "data": {
      "text/plain": [
       "<matplotlib.image.AxesImage at 0x7fc09ef169e8>"
      ]
     },
     "execution_count": 8,
     "metadata": {},
     "output_type": "execute_result"
    },
    {
     "data": {
      "image/png": "[encoded data removed]",
      "text/plain": [
       "<Figure size 432x288 with 1 Axes>"
      ]
     },
     "metadata": {
      "needs_background": "light"
     },
     "output_type": "display_data"
    }
   ],
   "source": [
    "image_index = 7776 # You may select anything up to 60,000\n",
    "print(train_labels[image_index]) \n",
    "plt.imshow(train_images[image_index], cmap='Greys')"
   ]
  },
  {
   "cell_type": "markdown",
   "metadata": {
    "papermill": {
     "duration": 0.028437,
     "end_time": "2020-10-17T10:04:57.693513",
     "exception": false,
     "start_time": "2020-10-17T10:04:57.665076",
     "status": "completed"
    },
    "tags": []
   },
   "source": [
    "## Filter data to get 3 and 8 out"
   ]
  },
  {
   "cell_type": "code",
   "execution_count": 9,
   "metadata": {
    "execution": {
     "iopub.execute_input": "2020-10-17T10:04:57.763189Z",
     "iopub.status.busy": "2020-10-17T10:04:57.754070Z",
     "iopub.status.idle": "2020-10-17T10:04:57.773367Z",
     "shell.execute_reply": "2020-10-17T10:04:57.773882Z"
    },
    "papermill": {
     "duration": 0.052757,
     "end_time": "2020-10-17T10:04:57.774031",
     "exception": false,
     "start_time": "2020-10-17T10:04:57.721274",
     "status": "completed"
    },
    "tags": []
   },
   "outputs": [],
   "source": [
    "train_filter = np.where((train_labels == 3 ) | (train_labels == 8))\n",
    "test_filter = np.where((test_labels == 3) | (test_labels == 8))\n",
    "X_train, y_train = train_images[train_filter], train_labels[train_filter]\n",
    "X_test, y_test = test_images[test_filter], test_labels[test_filter]"
   ]
  },
  {
   "cell_type": "markdown",
   "metadata": {
    "papermill": {
     "duration": 0.02944,
     "end_time": "2020-10-17T10:04:57.832864",
     "exception": false,
     "start_time": "2020-10-17T10:04:57.803424",
     "status": "completed"
    },
    "tags": []
   },
   "source": [
    "We normalize the pixel values in the 0 to 1 range"
   ]
  },
  {
   "cell_type": "code",
   "execution_count": 10,
   "metadata": {
    "execution": {
     "iopub.execute_input": "2020-10-17T10:04:57.898306Z",
     "iopub.status.busy": "2020-10-17T10:04:57.897723Z",
     "iopub.status.idle": "2020-10-17T10:04:57.953999Z",
     "shell.execute_reply": "2020-10-17T10:04:57.953167Z"
    },
    "papermill": {
     "duration": 0.08843,
     "end_time": "2020-10-17T10:04:57.954138",
     "exception": false,
     "start_time": "2020-10-17T10:04:57.865708",
     "status": "completed"
    },
    "tags": []
   },
   "outputs": [],
   "source": [
    "X_train = X_train/255.\n",
    "X_test = X_test/255."
   ]
  },
  {
   "cell_type": "markdown",
   "metadata": {
    "papermill": {
     "duration": 0.030843,
     "end_time": "2020-10-17T10:04:58.018136",
     "exception": false,
     "start_time": "2020-10-17T10:04:57.987293",
     "status": "completed"
    },
    "tags": []
   },
   "source": [
    "Setup the labels as 1 (when the digit is 3) and 0 (when the digit is 8)"
   ]
  },
  {
   "cell_type": "code",
   "execution_count": 11,
   "metadata": {
    "execution": {
     "iopub.execute_input": "2020-10-17T10:04:58.087162Z",
     "iopub.status.busy": "2020-10-17T10:04:58.086570Z",
     "iopub.status.idle": "2020-10-17T10:04:58.098699Z",
     "shell.execute_reply": "2020-10-17T10:04:58.099163Z"
    },
    "papermill": {
     "duration": 0.053059,
     "end_time": "2020-10-17T10:04:58.099317",
     "exception": false,
     "start_time": "2020-10-17T10:04:58.046258",
     "status": "completed"
    },
    "tags": []
   },
   "outputs": [],
   "source": [
    "y_train = 1*(y_train==3)\n",
    "y_test = 1*(y_test==3)"
   ]
  },
  {
   "cell_type": "code",
   "execution_count": 12,
   "metadata": {
    "execution": {
     "iopub.execute_input": "2020-10-17T10:04:58.168678Z",
     "iopub.status.busy": "2020-10-17T10:04:58.168040Z",
     "iopub.status.idle": "2020-10-17T10:04:58.180317Z",
     "shell.execute_reply": "2020-10-17T10:04:58.179786Z"
    },
    "papermill": {
     "duration": 0.051111,
     "end_time": "2020-10-17T10:04:58.180446",
     "exception": false,
     "start_time": "2020-10-17T10:04:58.129335",
     "status": "completed"
    },
    "tags": []
   },
   "outputs": [
    {
     "data": {
      "text/plain": [
       "((11982, 28, 28), (1984, 28, 28))"
      ]
     },
     "execution_count": 12,
     "metadata": {},
     "output_type": "execute_result"
    }
   ],
   "source": [
    "X_train.shape, X_test.shape"
   ]
  },
  {
   "cell_type": "markdown",
   "metadata": {
    "papermill": {
     "duration": 0.027935,
     "end_time": "2020-10-17T10:04:58.236234",
     "exception": false,
     "start_time": "2020-10-17T10:04:58.208299",
     "status": "completed"
    },
    "tags": []
   },
   "source": [
    "### Reshape the input data to create a linear array"
   ]
  },
  {
   "cell_type": "code",
   "execution_count": 13,
   "metadata": {
    "execution": {
     "iopub.execute_input": "2020-10-17T10:04:58.297269Z",
     "iopub.status.busy": "2020-10-17T10:04:58.296686Z",
     "iopub.status.idle": "2020-10-17T10:04:58.311416Z",
     "shell.execute_reply": "2020-10-17T10:04:58.311861Z"
    },
    "papermill": {
     "duration": 0.047716,
     "end_time": "2020-10-17T10:04:58.312006",
     "exception": false,
     "start_time": "2020-10-17T10:04:58.264290",
     "status": "completed"
    },
    "tags": []
   },
   "outputs": [
    {
     "data": {
      "text/plain": [
       "((11982, 784), (1984, 784))"
      ]
     },
     "execution_count": 13,
     "metadata": {},
     "output_type": "execute_result"
    }
   ],
   "source": [
    "X_train = X_train.reshape(X_train.shape[0], -1)\n",
    "X_test = X_test.reshape(X_test.shape[0], -1)\n",
    "X_train.shape, X_test.shape"
   ]
  },
  {
   "cell_type": "markdown",
   "metadata": {
    "papermill": {
     "duration": 0.028042,
     "end_time": "2020-10-17T10:04:58.368065",
     "exception": false,
     "start_time": "2020-10-17T10:04:58.340023",
     "status": "completed"
    },
    "tags": []
   },
   "source": [
    "### Importing appropriate functions from 'Kudzu'"
   ]
  },
  {
   "cell_type": "code",
   "execution_count": 14,
   "metadata": {
    "execution": {
     "iopub.execute_input": "2020-10-17T10:04:58.430329Z",
     "iopub.status.busy": "2020-10-17T10:04:58.429749Z",
     "iopub.status.idle": "2020-10-17T10:04:58.449418Z",
     "shell.execute_reply": "2020-10-17T10:04:58.449894Z"
    },
    "papermill": {
     "duration": 0.053737,
     "end_time": "2020-10-17T10:04:58.450031",
     "exception": false,
     "start_time": "2020-10-17T10:04:58.396294",
     "status": "completed"
    },
    "tags": []
   },
   "outputs": [],
   "source": [
    "from kudzu.layer import Sigmoid\n",
    "from kudzu.layer import Relu\n",
    "from kudzu.layer import Affine, Sigmoid\n",
    "\n",
    "from kudzu.model import Model\n",
    "from kudzu.train import Learner\n",
    "from kudzu.optim import GD\n",
    "from kudzu.data import Data, Dataloader, Sampler\n",
    "\n",
    "from kudzu.callbacks import AccCallback\n",
    "from kudzu.callbacks import ClfCallback\n",
    "\n",
    "from kudzu.loss import MSE"
   ]
  },
  {
   "cell_type": "markdown",
   "metadata": {
    "papermill": {
     "duration": 0.028028,
     "end_time": "2020-10-17T10:04:58.506045",
     "exception": false,
     "start_time": "2020-10-17T10:04:58.478017",
     "status": "completed"
    },
    "tags": []
   },
   "source": [
    "### Let us create a `Config` class, to store important parameters. \n",
    "This class essentially plays the role of a dictionary."
   ]
  },
  {
   "cell_type": "code",
   "execution_count": 15,
   "metadata": {
    "execution": {
     "iopub.execute_input": "2020-10-17T10:04:58.567340Z",
     "iopub.status.busy": "2020-10-17T10:04:58.566742Z",
     "iopub.status.idle": "2020-10-17T10:04:58.580893Z",
     "shell.execute_reply": "2020-10-17T10:04:58.579822Z"
    },
    "papermill": {
     "duration": 0.046599,
     "end_time": "2020-10-17T10:04:58.581021",
     "exception": false,
     "start_time": "2020-10-17T10:04:58.534422",
     "status": "completed"
    },
    "tags": []
   },
   "outputs": [],
   "source": [
    "class Config:\n",
    "    pass\n",
    "config = Config()\n",
    "config.lr = 0.001\n",
    "config.num_epochs = 251\n",
    "config.bs = 50"
   ]
  },
  {
   "cell_type": "markdown",
   "metadata": {
    "papermill": {
     "duration": 0.028281,
     "end_time": "2020-10-17T10:04:58.637439",
     "exception": false,
     "start_time": "2020-10-17T10:04:58.609158",
     "status": "completed"
    },
    "tags": []
   },
   "source": [
    "### Initializing data to the variables"
   ]
  },
  {
   "cell_type": "code",
   "execution_count": 16,
   "metadata": {
    "execution": {
     "iopub.execute_input": "2020-10-17T10:04:58.703006Z",
     "iopub.status.busy": "2020-10-17T10:04:58.702418Z",
     "iopub.status.idle": "2020-10-17T10:04:58.715495Z",
     "shell.execute_reply": "2020-10-17T10:04:58.715946Z"
    },
    "papermill": {
     "duration": 0.050339,
     "end_time": "2020-10-17T10:04:58.716094",
     "exception": false,
     "start_time": "2020-10-17T10:04:58.665755",
     "status": "completed"
    },
    "tags": []
   },
   "outputs": [],
   "source": [
    "data = Data(X_train, y_train.reshape(-1,1))\n",
    "sampler = Sampler(data, config.bs, shuffle=True)\n",
    "\n",
    "dl = Dataloader(data, sampler)\n",
    "\n",
    "opt = GD(config.lr)\n",
    "loss = MSE()"
   ]
  },
  {
   "cell_type": "code",
   "execution_count": 17,
   "metadata": {
    "execution": {
     "iopub.execute_input": "2020-10-17T10:04:58.777139Z",
     "iopub.status.busy": "2020-10-17T10:04:58.776553Z",
     "iopub.status.idle": "2020-10-17T10:04:58.788815Z",
     "shell.execute_reply": "2020-10-17T10:04:58.789317Z"
    },
    "papermill": {
     "duration": 0.044624,
     "end_time": "2020-10-17T10:04:58.789460",
     "exception": false,
     "start_time": "2020-10-17T10:04:58.744836",
     "status": "completed"
    },
    "tags": []
   },
   "outputs": [],
   "source": [
    "training_xdata = X_train\n",
    "testing_xdata = X_test\n",
    "training_ydata = y_train.reshape(-1,1)\n",
    "testing_ydata = y_test.reshape(-1,1)"
   ]
  },
  {
   "cell_type": "markdown",
   "metadata": {
    "papermill": {
     "duration": 0.028369,
     "end_time": "2020-10-17T10:04:58.846204",
     "exception": false,
     "start_time": "2020-10-17T10:04:58.817835",
     "status": "completed"
    },
    "tags": []
   },
   "source": [
    "### Running Models with the Training data\n",
    "Details about the network layers:\n",
    "- A first affine layer has 784 inputs and does 100 affine transforms. These are followed by a Relu\n",
    "- A second affine layer has 100 inputs from the 100 activations of the past layer, and does 100 affine transforms. These are followed by a Relu\n",
    "- A third affine layer has 100 activations and does 2 affine transformations to create an embedding for visualization. There is no non-linearity here.\n",
    "- A final \"logistic regression\" which has an affine transform from 2 inputs to 1 output, which is squeezed through a sigmoid.\n",
    "\n",
    "Help taken from Anshuman's Notebook."
   ]
  },
  {
   "cell_type": "code",
   "execution_count": 18,
   "metadata": {
    "execution": {
     "iopub.execute_input": "2020-10-17T10:04:58.924922Z",
     "iopub.status.busy": "2020-10-17T10:04:58.917017Z",
     "iopub.status.idle": "2020-10-17T10:04:58.929225Z",
     "shell.execute_reply": "2020-10-17T10:04:58.929671Z"
    },
    "papermill": {
     "duration": 0.05554,
     "end_time": "2020-10-17T10:04:58.929814",
     "exception": false,
     "start_time": "2020-10-17T10:04:58.874274",
     "status": "completed"
    },
    "tags": []
   },
   "outputs": [],
   "source": [
    "# layers for the Neural Network\n",
    "layers = [Affine(\"first\", 784, 100), Relu(\"first\"), Affine(\"second\", 100, 100), Relu(\"second\"), Affine(\"third\", 100, 2), Affine(\"final\", 2, 1), Sigmoid(\"final\")]\n",
    "model_nn = Model(layers)\n",
    "\n",
    "# layers for the Logistic Regression\n",
    "layers_lr = [Affine(\"logits\", 784, 1), Sigmoid(\"sigmoid\")]\n",
    "model_lr = Model(layers_lr)"
   ]
  },
  {
   "cell_type": "code",
   "execution_count": 19,
   "metadata": {
    "execution": {
     "iopub.execute_input": "2020-10-17T10:04:58.990486Z",
     "iopub.status.busy": "2020-10-17T10:04:58.989906Z",
     "iopub.status.idle": "2020-10-17T10:04:59.011159Z",
     "shell.execute_reply": "2020-10-17T10:04:59.011717Z"
    },
    "papermill": {
     "duration": 0.053727,
     "end_time": "2020-10-17T10:04:59.011859",
     "exception": false,
     "start_time": "2020-10-17T10:04:58.958132",
     "status": "completed"
    },
    "tags": []
   },
   "outputs": [],
   "source": [
    "# suffix _nn stands for Neural Network.\n",
    "learner_nn = Learner(loss, model_nn, opt, config.num_epochs)\n",
    "acc_nn = ClfCallback(learner_nn, config.bs, training_xdata , testing_xdata, training_ydata, testing_ydata)\n",
    "learner_nn.set_callbacks([acc_nn])"
   ]
  },
  {
   "cell_type": "code",
   "execution_count": 20,
   "metadata": {
    "execution": {
     "iopub.execute_input": "2020-10-17T10:04:59.072621Z",
     "iopub.status.busy": "2020-10-17T10:04:59.072013Z",
     "iopub.status.idle": "2020-10-17T10:06:24.446503Z",
     "shell.execute_reply": "2020-10-17T10:06:24.445686Z"
    },
    "papermill": {
     "duration": 85.406609,
     "end_time": "2020-10-17T10:06:24.446638",
     "exception": false,
     "start_time": "2020-10-17T10:04:59.040029",
     "status": "completed"
    },
    "tags": []
   },
   "outputs": [
    {
     "name": "stdout",
     "output_type": "stream",
     "text": [
      "====== Neural Network ======\n"
     ]
    },
    {
     "name": "stdout",
     "output_type": "stream",
     "text": [
      "Epoch 0, Loss 0.2331\n",
      "Training Accuracy: 0.7234, Testing Accuracy: 0.7132\n",
      "\n"
     ]
    },
    {
     "name": "stdout",
     "output_type": "stream",
     "text": [
      "Epoch 10, Loss 0.0656\n",
      "Training Accuracy: 0.9342, Testing Accuracy: 0.9395\n",
      "\n"
     ]
    },
    {
     "name": "stdout",
     "output_type": "stream",
     "text": [
      "Epoch 20, Loss 0.0448\n",
      "Training Accuracy: 0.9507, Testing Accuracy: 0.9582\n",
      "\n"
     ]
    },
    {
     "name": "stdout",
     "output_type": "stream",
     "text": [
      "Epoch 30, Loss 0.0371\n",
      "Training Accuracy: 0.9574, Testing Accuracy: 0.9622\n",
      "\n"
     ]
    },
    {
     "name": "stdout",
     "output_type": "stream",
     "text": [
      "Epoch 40, Loss 0.0329\n",
      "Training Accuracy: 0.9619, Testing Accuracy: 0.9657\n",
      "\n"
     ]
    },
    {
     "name": "stdout",
     "output_type": "stream",
     "text": [
      "Epoch 50, Loss 0.0303\n",
      "Training Accuracy: 0.9643, Testing Accuracy: 0.9677\n",
      "\n"
     ]
    },
    {
     "name": "stdout",
     "output_type": "stream",
     "text": [
      "Epoch 60, Loss 0.0283\n",
      "Training Accuracy: 0.9661, Testing Accuracy: 0.9698\n",
      "\n"
     ]
    },
    {
     "name": "stdout",
     "output_type": "stream",
     "text": [
      "Epoch 70, Loss 0.0268\n",
      "Training Accuracy: 0.9682, Testing Accuracy: 0.9708\n",
      "\n"
     ]
    },
    {
     "name": "stdout",
     "output_type": "stream",
     "text": [
      "Epoch 80, Loss 0.0256\n",
      "Training Accuracy: 0.9700, Testing Accuracy: 0.9728\n",
      "\n"
     ]
    },
    {
     "name": "stdout",
     "output_type": "stream",
     "text": [
      "Epoch 90, Loss 0.0246\n",
      "Training Accuracy: 0.9715, Testing Accuracy: 0.9748\n",
      "\n"
     ]
    },
    {
     "name": "stdout",
     "output_type": "stream",
     "text": [
      "Epoch 100, Loss 0.0236\n",
      "Training Accuracy: 0.9724, Testing Accuracy: 0.9748\n",
      "\n"
     ]
    },
    {
     "name": "stdout",
     "output_type": "stream",
     "text": [
      "Epoch 110, Loss 0.0228\n",
      "Training Accuracy: 0.9739, Testing Accuracy: 0.9753\n",
      "\n"
     ]
    },
    {
     "name": "stdout",
     "output_type": "stream",
     "text": [
      "Epoch 120, Loss 0.0221\n",
      "Training Accuracy: 0.9753, Testing Accuracy: 0.9753\n",
      "\n"
     ]
    },
    {
     "name": "stdout",
     "output_type": "stream",
     "text": [
      "Epoch 130, Loss 0.0214\n",
      "Training Accuracy: 0.9761, Testing Accuracy: 0.9758\n",
      "\n"
     ]
    },
    {
     "name": "stdout",
     "output_type": "stream",
     "text": [
      "Epoch 140, Loss 0.0208\n",
      "Training Accuracy: 0.9767, Testing Accuracy: 0.9758\n",
      "\n"
     ]
    },
    {
     "name": "stdout",
     "output_type": "stream",
     "text": [
      "Epoch 150, Loss 0.0202\n",
      "Training Accuracy: 0.9775, Testing Accuracy: 0.9758\n",
      "\n"
     ]
    },
    {
     "name": "stdout",
     "output_type": "stream",
     "text": [
      "Epoch 160, Loss 0.0196\n",
      "Training Accuracy: 0.9786, Testing Accuracy: 0.9758\n",
      "\n"
     ]
    },
    {
     "name": "stdout",
     "output_type": "stream",
     "text": [
      "Epoch 170, Loss 0.0191\n",
      "Training Accuracy: 0.9790, Testing Accuracy: 0.9773\n",
      "\n"
     ]
    },
    {
     "name": "stdout",
     "output_type": "stream",
     "text": [
      "Epoch 180, Loss 0.0186\n",
      "Training Accuracy: 0.9794, Testing Accuracy: 0.9778\n",
      "\n"
     ]
    },
    {
     "name": "stdout",
     "output_type": "stream",
     "text": [
      "Epoch 190, Loss 0.0181\n",
      "Training Accuracy: 0.9799, Testing Accuracy: 0.9778\n",
      "\n"
     ]
    },
    {
     "name": "stdout",
     "output_type": "stream",
     "text": [
      "Epoch 200, Loss 0.0177\n",
      "Training Accuracy: 0.9803, Testing Accuracy: 0.9778\n",
      "\n"
     ]
    },
    {
     "name": "stdout",
     "output_type": "stream",
     "text": [
      "Epoch 210, Loss 0.0172\n",
      "Training Accuracy: 0.9807, Testing Accuracy: 0.9778\n",
      "\n"
     ]
    },
    {
     "name": "stdout",
     "output_type": "stream",
     "text": [
      "Epoch 220, Loss 0.0168\n",
      "Training Accuracy: 0.9814, Testing Accuracy: 0.9778\n",
      "\n"
     ]
    },
    {
     "name": "stdout",
     "output_type": "stream",
     "text": [
      "Epoch 230, Loss 0.0164\n",
      "Training Accuracy: 0.9822, Testing Accuracy: 0.9778\n",
      "\n"
     ]
    },
    {
     "name": "stdout",
     "output_type": "stream",
     "text": [
      "Epoch 240, Loss 0.016\n",
      "Training Accuracy: 0.9827, Testing Accuracy: 0.9773\n",
      "\n"
     ]
    },
    {
     "name": "stdout",
     "output_type": "stream",
     "text": [
      "Epoch 250, Loss 0.0156\n",
      "Training Accuracy: 0.9833, Testing Accuracy: 0.9783\n",
      "\n"
     ]
    },
    {
     "data": {
      "text/plain": [
       "0.013310912819777487"
      ]
     },
     "execution_count": 20,
     "metadata": {},
     "output_type": "execute_result"
    }
   ],
   "source": [
    "print(\"====== Neural Network ======\")\n",
    "learner_nn.train_loop(dl)"
   ]
  },
  {
   "cell_type": "markdown",
   "metadata": {
    "papermill": {
     "duration": 0.035788,
     "end_time": "2020-10-17T10:06:24.519185",
     "exception": false,
     "start_time": "2020-10-17T10:06:24.483397",
     "status": "completed"
    },
    "tags": []
   },
   "source": [
    "### Logistic Regression based Implementation."
   ]
  },
  {
   "cell_type": "code",
   "execution_count": 21,
   "metadata": {
    "execution": {
     "iopub.execute_input": "2020-10-17T10:06:24.598212Z",
     "iopub.status.busy": "2020-10-17T10:06:24.597594Z",
     "iopub.status.idle": "2020-10-17T10:06:24.609538Z",
     "shell.execute_reply": "2020-10-17T10:06:24.608946Z"
    },
    "papermill": {
     "duration": 0.054587,
     "end_time": "2020-10-17T10:06:24.609664",
     "exception": false,
     "start_time": "2020-10-17T10:06:24.555077",
     "status": "completed"
    },
    "tags": []
   },
   "outputs": [],
   "source": [
    "learner_lr = Learner(loss, model_lr, opt, config.num_epochs)\n",
    "acc_lr = ClfCallback(learner_lr, config.bs, training_xdata , testing_xdata, training_ydata, testing_ydata)\n",
    "learner_lr.set_callbacks([acc_lr])"
   ]
  },
  {
   "cell_type": "code",
   "execution_count": 22,
   "metadata": {
    "execution": {
     "iopub.execute_input": "2020-10-17T10:06:24.688272Z",
     "iopub.status.busy": "2020-10-17T10:06:24.687662Z",
     "iopub.status.idle": "2020-10-17T10:06:42.278299Z",
     "shell.execute_reply": "2020-10-17T10:06:42.278767Z"
    },
    "papermill": {
     "duration": 17.633297,
     "end_time": "2020-10-17T10:06:42.278918",
     "exception": false,
     "start_time": "2020-10-17T10:06:24.645621",
     "status": "completed"
    },
    "tags": []
   },
   "outputs": [
    {
     "name": "stdout",
     "output_type": "stream",
     "text": [
      "====== Logistic Regression ======\n",
      "Epoch 0, Loss 0.2468\n",
      "Training Accuracy: 0.6842, Testing Accuracy: 0.6593\n",
      "\n"
     ]
    },
    {
     "name": "stdout",
     "output_type": "stream",
     "text": [
      "Epoch 10, Loss 0.1043\n",
      "Training Accuracy: 0.9059, Testing Accuracy: 0.9178\n",
      "\n"
     ]
    },
    {
     "name": "stdout",
     "output_type": "stream",
     "text": [
      "Epoch 20, Loss 0.0804\n",
      "Training Accuracy: 0.9247, Testing Accuracy: 0.9365\n",
      "\n"
     ]
    },
    {
     "name": "stdout",
     "output_type": "stream",
     "text": [
      "Epoch 30, Loss 0.0692\n",
      "Training Accuracy: 0.9350, Testing Accuracy: 0.9446\n",
      "\n"
     ]
    },
    {
     "name": "stdout",
     "output_type": "stream",
     "text": [
      "Epoch 40, Loss 0.0625\n",
      "Training Accuracy: 0.9403, Testing Accuracy: 0.9476\n",
      "\n"
     ]
    },
    {
     "name": "stdout",
     "output_type": "stream",
     "text": [
      "Epoch 50, Loss 0.0579\n",
      "Training Accuracy: 0.9437, Testing Accuracy: 0.9531\n",
      "\n"
     ]
    },
    {
     "name": "stdout",
     "output_type": "stream",
     "text": [
      "Epoch 60, Loss 0.0546\n",
      "Training Accuracy: 0.9455, Testing Accuracy: 0.9551\n",
      "\n"
     ]
    },
    {
     "name": "stdout",
     "output_type": "stream",
     "text": [
      "Epoch 70, Loss 0.052\n",
      "Training Accuracy: 0.9474, Testing Accuracy: 0.9561\n",
      "\n"
     ]
    },
    {
     "name": "stdout",
     "output_type": "stream",
     "text": [
      "Epoch 80, Loss 0.0499\n",
      "Training Accuracy: 0.9489, Testing Accuracy: 0.9577\n",
      "\n"
     ]
    },
    {
     "name": "stdout",
     "output_type": "stream",
     "text": [
      "Epoch 90, Loss 0.0481\n",
      "Training Accuracy: 0.9503, Testing Accuracy: 0.9587\n",
      "\n"
     ]
    },
    {
     "name": "stdout",
     "output_type": "stream",
     "text": [
      "Epoch 100, Loss 0.0467\n",
      "Training Accuracy: 0.9512, Testing Accuracy: 0.9602\n",
      "\n"
     ]
    },
    {
     "name": "stdout",
     "output_type": "stream",
     "text": [
      "Epoch 110, Loss 0.0454\n",
      "Training Accuracy: 0.9524, Testing Accuracy: 0.9612\n",
      "\n"
     ]
    },
    {
     "name": "stdout",
     "output_type": "stream",
     "text": [
      "Epoch 120, Loss 0.0444\n",
      "Training Accuracy: 0.9534, Testing Accuracy: 0.9612\n",
      "\n"
     ]
    },
    {
     "name": "stdout",
     "output_type": "stream",
     "text": [
      "Epoch 130, Loss 0.0434\n",
      "Training Accuracy: 0.9545, Testing Accuracy: 0.9622\n",
      "\n"
     ]
    },
    {
     "name": "stdout",
     "output_type": "stream",
     "text": [
      "Epoch 140, Loss 0.0426\n",
      "Training Accuracy: 0.9549, Testing Accuracy: 0.9622\n",
      "\n"
     ]
    },
    {
     "name": "stdout",
     "output_type": "stream",
     "text": [
      "Epoch 150, Loss 0.0418\n",
      "Training Accuracy: 0.9556, Testing Accuracy: 0.9637\n",
      "\n"
     ]
    },
    {
     "name": "stdout",
     "output_type": "stream",
     "text": [
      "Epoch 160, Loss 0.0411\n",
      "Training Accuracy: 0.9562, Testing Accuracy: 0.9642\n",
      "\n"
     ]
    },
    {
     "name": "stdout",
     "output_type": "stream",
     "text": [
      "Epoch 170, Loss 0.0405\n",
      "Training Accuracy: 0.9567, Testing Accuracy: 0.9642\n",
      "\n"
     ]
    },
    {
     "name": "stdout",
     "output_type": "stream",
     "text": [
      "Epoch 180, Loss 0.0399\n",
      "Training Accuracy: 0.9574, Testing Accuracy: 0.9652\n",
      "\n"
     ]
    },
    {
     "name": "stdout",
     "output_type": "stream",
     "text": [
      "Epoch 190, Loss 0.0394\n",
      "Training Accuracy: 0.9577, Testing Accuracy: 0.9652\n",
      "\n"
     ]
    },
    {
     "name": "stdout",
     "output_type": "stream",
     "text": [
      "Epoch 200, Loss 0.0389\n",
      "Training Accuracy: 0.9578, Testing Accuracy: 0.9657\n",
      "\n"
     ]
    },
    {
     "name": "stdout",
     "output_type": "stream",
     "text": [
      "Epoch 210, Loss 0.0384\n",
      "Training Accuracy: 0.9579, Testing Accuracy: 0.9657\n",
      "\n"
     ]
    },
    {
     "name": "stdout",
     "output_type": "stream",
     "text": [
      "Epoch 220, Loss 0.038\n",
      "Training Accuracy: 0.9589, Testing Accuracy: 0.9662\n",
      "\n"
     ]
    },
    {
     "name": "stdout",
     "output_type": "stream",
     "text": [
      "Epoch 230, Loss 0.0376\n",
      "Training Accuracy: 0.9593, Testing Accuracy: 0.9662\n",
      "\n"
     ]
    },
    {
     "name": "stdout",
     "output_type": "stream",
     "text": [
      "Epoch 240, Loss 0.0372\n",
      "Training Accuracy: 0.9595, Testing Accuracy: 0.9662\n",
      "\n"
     ]
    },
    {
     "name": "stdout",
     "output_type": "stream",
     "text": [
      "Epoch 250, Loss 0.0369\n",
      "Training Accuracy: 0.9596, Testing Accuracy: 0.9662\n",
      "\n"
     ]
    },
    {
     "data": {
      "text/plain": [
       "0.021990075417223028"
      ]
     },
     "execution_count": 22,
     "metadata": {},
     "output_type": "execute_result"
    }
   ],
   "source": [
    "print(\"====== Logistic Regression ======\")\n",
    "learner_lr.train_loop(dl)"
   ]
  },
  {
   "cell_type": "markdown",
   "metadata": {
    "papermill": {
     "duration": 0.043019,
     "end_time": "2020-10-17T10:06:42.365787",
     "exception": false,
     "start_time": "2020-10-17T10:06:42.322768",
     "status": "completed"
    },
    "tags": []
   },
   "source": [
    "### Comparing results of NN and LR"
   ]
  },
  {
   "cell_type": "code",
   "execution_count": 23,
   "metadata": {
    "execution": {
     "iopub.execute_input": "2020-10-17T10:06:42.461562Z",
     "iopub.status.busy": "2020-10-17T10:06:42.460977Z",
     "iopub.status.idle": "2020-10-17T10:06:42.698006Z",
     "shell.execute_reply": "2020-10-17T10:06:42.698479Z"
    },
    "papermill": {
     "duration": 0.290313,
     "end_time": "2020-10-17T10:06:42.698630",
     "exception": false,
     "start_time": "2020-10-17T10:06:42.408317",
     "status": "completed"
    },
    "tags": []
   },
   "outputs": [
    {
     "data": {
      "text/plain": [
       "<matplotlib.legend.Legend at 0x7fc09ca7a2b0>"
      ]
     },
     "execution_count": 23,
     "metadata": {},
     "output_type": "execute_result"
    },
    {
     "data": {
      "image/png": "[encoded data removed]",
      "text/plain": [
       "<Figure size 1080x720 with 1 Axes>"
      ]
     },
     "metadata": {
      "needs_background": "light"
     },
     "output_type": "display_data"
    }
   ],
   "source": [
    "plt.figure(figsize=(15,10))\n",
    "\n",
    "# Neural Network plots\n",
    "plt.plot(acc_nn.accuracies, 'r-', label = \"Training Accuracies - NN\")\n",
    "plt.plot(acc_nn.test_accuracies, 'g-', label = \"Testing Accuracies - NN\")\n",
    "\n",
    "# Logistic Regression plots\n",
    "plt.plot(acc_lr.accuracies, 'k-', label = \"Training Accuracies - LR\")\n",
    "plt.plot(acc_lr.test_accuracies, 'b-', label = \"Testing Accuracies - LR\")\n",
    "\n",
    "plt.ylim(0.8, 1)\n",
    "\n",
    "plt.legend()\n",
    "\n"
   ]
  },
  {
   "cell_type": "markdown",
   "metadata": {
    "papermill": {
     "duration": 0.044752,
     "end_time": "2020-10-17T10:06:42.788215",
     "exception": false,
     "start_time": "2020-10-17T10:06:42.743463",
     "status": "completed"
    },
    "tags": []
   },
   "source": [
    "### From the plot, we can observe the following:\n",
    "- Neural Network achieves higher accuracy than the Logistic Regression model.\n",
    "- This apparently, is because of overfitting, i.e. NN captures more noise than data.\n",
    "- Testing accuracy of NN drops below the Training accuracy at higher epochs. This explains the over-fitting on training data.\n",
    "- Logistic Regression gives a reliable accuracy, without the above mentioned problem.\n"
   ]
  },
  {
   "cell_type": "markdown",
   "metadata": {
    "papermill": {
     "duration": 0.043997,
     "end_time": "2020-10-17T10:06:42.876578",
     "exception": false,
     "start_time": "2020-10-17T10:06:42.832581",
     "status": "completed"
    },
    "tags": []
   },
   "source": [
    "### Moving till the last but one layer (excluding it).\n",
    "#### Plotting the outputs of this layer of the NN."
   ]
  },
  {
   "cell_type": "code",
   "execution_count": 24,
   "metadata": {
    "execution": {
     "iopub.execute_input": "2020-10-17T10:06:42.968370Z",
     "iopub.status.busy": "2020-10-17T10:06:42.967774Z",
     "iopub.status.idle": "2020-10-17T10:06:42.980732Z",
     "shell.execute_reply": "2020-10-17T10:06:42.981195Z"
    },
    "papermill": {
     "duration": 0.060946,
     "end_time": "2020-10-17T10:06:42.981343",
     "exception": false,
     "start_time": "2020-10-17T10:06:42.920397",
     "status": "completed"
    },
    "tags": []
   },
   "outputs": [],
   "source": [
    "model_new = Model(layers[:-2])"
   ]
  },
  {
   "cell_type": "code",
   "execution_count": 25,
   "metadata": {
    "execution": {
     "iopub.execute_input": "2020-10-17T10:06:43.075316Z",
     "iopub.status.busy": "2020-10-17T10:06:43.072876Z",
     "iopub.status.idle": "2020-10-17T10:06:43.093541Z",
     "shell.execute_reply": "2020-10-17T10:06:43.093031Z"
    },
    "papermill": {
     "duration": 0.068927,
     "end_time": "2020-10-17T10:06:43.093668",
     "exception": false,
     "start_time": "2020-10-17T10:06:43.024741",
     "status": "completed"
    },
    "tags": []
   },
   "outputs": [],
   "source": [
    "plot_testing = model_new(testing_xdata)"
   ]
  },
  {
   "cell_type": "code",
   "execution_count": 26,
   "metadata": {
    "execution": {
     "iopub.execute_input": "2020-10-17T10:06:43.211408Z",
     "iopub.status.busy": "2020-10-17T10:06:43.187295Z",
     "iopub.status.idle": "2020-10-17T10:06:43.394093Z",
     "shell.execute_reply": "2020-10-17T10:06:43.394566Z"
    },
    "papermill": {
     "duration": 0.256127,
     "end_time": "2020-10-17T10:06:43.394715",
     "exception": false,
     "start_time": "2020-10-17T10:06:43.138588",
     "status": "completed"
    },
    "tags": []
   },
   "outputs": [
    {
     "data": {
      "text/plain": [
       "Text(0.5, 1.0, 'Outputs')"
      ]
     },
     "execution_count": 26,
     "metadata": {},
     "output_type": "execute_result"
    },
    {
     "data": {
      "image/png": "[encoded data removed]",
      "text/plain": [
       "<Figure size 576x504 with 1 Axes>"
      ]
     },
     "metadata": {
      "needs_background": "light"
     },
     "output_type": "display_data"
    }
   ],
   "source": [
    "plt.figure(figsize=(8,7))\n",
    "plt.scatter(plot_testing[:,0], plot_testing[:,1], alpha = 0.1, c = y_test.ravel());\n",
    "plt.title('Outputs')"
   ]
  },
  {
   "cell_type": "markdown",
   "metadata": {
    "papermill": {
     "duration": 0.046898,
     "end_time": "2020-10-17T10:06:43.488544",
     "exception": false,
     "start_time": "2020-10-17T10:06:43.441646",
     "status": "completed"
    },
    "tags": []
   },
   "source": [
    "### Plotting probability contours"
   ]
  },
  {
   "cell_type": "code",
   "execution_count": 27,
   "metadata": {
    "execution": {
     "iopub.execute_input": "2020-10-17T10:06:43.586696Z",
     "iopub.status.busy": "2020-10-17T10:06:43.586118Z",
     "iopub.status.idle": "2020-10-17T10:06:43.599805Z",
     "shell.execute_reply": "2020-10-17T10:06:43.599287Z"
    },
    "papermill": {
     "duration": 0.064623,
     "end_time": "2020-10-17T10:06:43.599925",
     "exception": false,
     "start_time": "2020-10-17T10:06:43.535302",
     "status": "completed"
    },
    "tags": []
   },
   "outputs": [],
   "source": [
    "model_prob = Model(layers[-2:]) "
   ]
  },
  {
   "cell_type": "code",
   "execution_count": 28,
   "metadata": {
    "execution": {
     "iopub.execute_input": "2020-10-17T10:06:43.700488Z",
     "iopub.status.busy": "2020-10-17T10:06:43.699889Z",
     "iopub.status.idle": "2020-10-17T10:06:43.712654Z",
     "shell.execute_reply": "2020-10-17T10:06:43.713100Z"
    },
    "papermill": {
     "duration": 0.066336,
     "end_time": "2020-10-17T10:06:43.713268",
     "exception": false,
     "start_time": "2020-10-17T10:06:43.646932",
     "status": "completed"
    },
    "tags": []
   },
   "outputs": [],
   "source": [
    "# Adjust the x and y ranges according to the above generated plot.\n",
    "x_range = np.linspace(-4, 1, 100) \n",
    "y_range = np.linspace(-6, 6, 100) \n",
    "x_grid, y_grid = np.meshgrid(x_range, y_range) # x_grid and y_grig are of size 100 X 100\n",
    "\n",
    "# converting x_grid and y_grid to continuous arrays\n",
    "x_grid_flat = np.ravel(x_grid)\n",
    "y_grid_flat = np.ravel(y_grid)\n",
    "\n",
    "# The last layer of the current model takes two columns as input. Hence transpose of np.vstack() is required.\n",
    "X = np.vstack((x_grid_flat, y_grid_flat)).T\n",
    "\n",
    "# x_grid and y_grid are of size 100 x 100\n",
    "probability_contour = model_prob(X).reshape(100,100) "
   ]
  },
  {
   "cell_type": "code",
   "execution_count": 29,
   "metadata": {
    "execution": {
     "iopub.execute_input": "2020-10-17T10:06:43.825849Z",
     "iopub.status.busy": "2020-10-17T10:06:43.825274Z",
     "iopub.status.idle": "2020-10-17T10:06:44.079030Z",
     "shell.execute_reply": "2020-10-17T10:06:44.079510Z"
    },
    "papermill": {
     "duration": 0.312212,
     "end_time": "2020-10-17T10:06:44.079663",
     "exception": false,
     "start_time": "2020-10-17T10:06:43.767451",
     "status": "completed"
    },
    "tags": []
   },
   "outputs": [
    {
     "data": {
      "image/png": "[encoded data removed]",
      "text/plain": [
       "<Figure size 720x648 with 1 Axes>"
      ]
     },
     "metadata": {
      "needs_background": "light"
     },
     "output_type": "display_data"
    }
   ],
   "source": [
    "plt.figure(figsize=(10,9))\n",
    "plt.scatter(plot_testing[:,0], plot_testing[:,1], alpha = 0.1, c = y_test.ravel())\n",
    "contours = plt.contour(x_grid,y_grid,probability_contour)\n",
    "plt.title('Probability Contours')\n",
    "plt.clabel(contours, inline = True );"
   ]
  }
 ],
 "metadata": {
  "kernelspec": {
   "display_name": "Python 3",
   "language": "python",
   "name": "python3"
  },
  "language_info": {
   "codemirror_mode": {
    "name": "ipython",
    "version": 3
   },
   "file_extension": ".py",
   "mimetype": "text/x-python",
   "name": "python",
   "nbconvert_exporter": "python",
   "pygments_lexer": "ipython3",
   "version": "3.6.12"
  },
  "papermill": {
   "duration": 114.150835,
   "end_time": "2020-10-17T10:06:44.540106",
   "environment_variables": {},
   "exception": null,
   "input_path": "2020-08-11-NeuralNetwork.ipynb",
   "output_path": "2020-08-11-NeuralNetwork.ipynb",
   "parameters": {},
   "start_time": "2020-10-17T10:04:50.389271",
   "version": "2.1.2"
  }
 },
 "nbformat": 4,
 "nbformat_minor": 4
}