{
 "cells": [
  {
   "cell_type": "markdown",
   "metadata": {
    "papermill": {
     "duration": 0.029225,
     "end_time": "2021-01-18T10:36:36.127103",
     "exception": false,
     "start_time": "2021-01-18T10:36:36.097878",
     "status": "completed"
    },
    "tags": []
   },
   "source": [
    "# \"A Basic Neural Network: Differentiate Hand-Written Digits\"\n",
    "\n",
    "- badges: true\n",
    "- author: Akshith Sriram"
   ]
  },
  {
   "cell_type": "markdown",
   "metadata": {
    "papermill": {
     "duration": 0.026634,
     "end_time": "2021-01-18T10:36:36.179148",
     "exception": false,
     "start_time": "2021-01-18T10:36:36.152514",
     "status": "completed"
    },
    "tags": []
   },
   "source": [
    "### Key Objectives:\n",
    "- Building a neural network that differentiates two hand-written digits 3 and 8.\n",
    "- Comparing the results of this Neural Network (NN) to that of a Logistic Regression (LR) model.\n",
    "\n",
    "### Requirements:\n",
    "- 'Kudzu' : A neural network library that was designed during our course by [Univ.AI](www.univ.ai). \n",
    "- MNIST Database\n",
    "\n",
    "If MNIST is not installed, use the command `!pip install mnist` given below.\n",
    "It can be run both from the command line and Jupyter Notebook."
   ]
  },
  {
   "cell_type": "code",
   "execution_count": 1,
   "metadata": {
    "execution": {
     "iopub.execute_input": "2021-01-18T10:36:36.240877Z",
     "iopub.status.busy": "2021-01-18T10:36:36.240274Z",
     "iopub.status.idle": "2021-01-18T10:36:37.834893Z",
     "shell.execute_reply": "2021-01-18T10:36:37.835589Z"
    },
    "papermill": {
     "duration": 1.631381,
     "end_time": "2021-01-18T10:36:37.835843",
     "exception": false,
     "start_time": "2021-01-18T10:36:36.204462",
     "status": "completed"
    },
    "tags": []
   },
   "outputs": [
    {
     "name": "stdout",
     "output_type": "stream",
     "text": [
      "Collecting mnist\r\n"
     ]
    },
    {
     "name": "stdout",
     "output_type": "stream",
     "text": [
      "  Downloading mnist-0.2.2-py2.py3-none-any.whl (3.5 kB)\r\n",
      "Requirement already satisfied: numpy in /opt/hostedtoolcache/Python/3.6.12/x64/lib/python3.6/site-packages (from mnist) (1.19.5)\r\n"
     ]
    },
    {
     "name": "stdout",
     "output_type": "stream",
     "text": [
      "Installing collected packages: mnist\r\n",
      "Successfully installed mnist-0.2.2\r\n"
     ]
    }
   ],
   "source": [
    "!pip install mnist "
   ]
  },
  {
   "cell_type": "markdown",
   "metadata": {
    "papermill": {
     "duration": 0.026069,
     "end_time": "2021-01-18T10:36:37.890917",
     "exception": false,
     "start_time": "2021-01-18T10:36:37.864848",
     "status": "completed"
    },
    "tags": []
   },
   "source": [
    "#### Importing necessary libraries"
   ]
  },
  {
   "cell_type": "code",
   "execution_count": 2,
   "metadata": {
    "execution": {
     "iopub.execute_input": "2021-01-18T10:36:37.949479Z",
     "iopub.status.busy": "2021-01-18T10:36:37.948563Z",
     "iopub.status.idle": "2021-01-18T10:36:38.519391Z",
     "shell.execute_reply": "2021-01-18T10:36:38.518848Z"
    },
    "papermill": {
     "duration": 0.602868,
     "end_time": "2021-01-18T10:36:38.519513",
     "exception": false,
     "start_time": "2021-01-18T10:36:37.916645",
     "status": "completed"
    },
    "tags": []
   },
   "outputs": [],
   "source": [
    "%load_ext autoreload\n",
    "%autoreload 2\n",
    "\n",
    "%matplotlib inline\n",
    "import matplotlib.pyplot as plt\n",
    "\n",
    "import numpy as np\n",
    "import pandas as pd"
   ]
  },
  {
   "cell_type": "markdown",
   "metadata": {
    "papermill": {
     "duration": 0.025622,
     "end_time": "2021-01-18T10:36:38.570629",
     "exception": false,
     "start_time": "2021-01-18T10:36:38.545007",
     "status": "completed"
    },
    "tags": []
   },
   "source": [
    "### Preparing the Data"
   ]
  },
  {
   "cell_type": "code",
   "execution_count": 3,
   "metadata": {
    "execution": {
     "iopub.execute_input": "2021-01-18T10:36:38.626668Z",
     "iopub.status.busy": "2021-01-18T10:36:38.626042Z",
     "iopub.status.idle": "2021-01-18T10:36:38.638650Z",
     "shell.execute_reply": "2021-01-18T10:36:38.638135Z"
    },
    "papermill": {
     "duration": 0.042438,
     "end_time": "2021-01-18T10:36:38.638783",
     "exception": false,
     "start_time": "2021-01-18T10:36:38.596345",
     "status": "completed"
    },
    "tags": []
   },
   "outputs": [],
   "source": [
    "import mnist"
   ]
  },
  {
   "cell_type": "code",
   "execution_count": 4,
   "metadata": {
    "execution": {
     "iopub.execute_input": "2021-01-18T10:36:38.694747Z",
     "iopub.status.busy": "2021-01-18T10:36:38.693989Z",
     "iopub.status.idle": "2021-01-18T10:36:39.438760Z",
     "shell.execute_reply": "2021-01-18T10:36:39.438104Z"
    },
    "papermill": {
     "duration": 0.77398,
     "end_time": "2021-01-18T10:36:39.438894",
     "exception": false,
     "start_time": "2021-01-18T10:36:38.664914",
     "status": "completed"
    },
    "tags": []
   },
   "outputs": [],
   "source": [
    "train_images = mnist.train_images()\n",
    "train_labels = mnist.train_labels()"
   ]
  },
  {
   "cell_type": "code",
   "execution_count": 5,
   "metadata": {
    "execution": {
     "iopub.execute_input": "2021-01-18T10:36:39.494396Z",
     "iopub.status.busy": "2021-01-18T10:36:39.493775Z",
     "iopub.status.idle": "2021-01-18T10:36:39.510436Z",
     "shell.execute_reply": "2021-01-18T10:36:39.509955Z"
    },
    "papermill": {
     "duration": 0.046624,
     "end_time": "2021-01-18T10:36:39.510567",
     "exception": false,
     "start_time": "2021-01-18T10:36:39.463943",
     "status": "completed"
    },
    "tags": []
   },
   "outputs": [
    {
     "data": {
      "text/plain": [
       "((60000, 28, 28), (60000,))"
      ]
     },
     "execution_count": 5,
     "metadata": {},
     "output_type": "execute_result"
    }
   ],
   "source": [
    "train_images.shape, train_labels.shape"
   ]
  },
  {
   "cell_type": "code",
   "execution_count": 6,
   "metadata": {
    "execution": {
     "iopub.execute_input": "2021-01-18T10:36:39.565014Z",
     "iopub.status.busy": "2021-01-18T10:36:39.564012Z",
     "iopub.status.idle": "2021-01-18T10:36:39.841344Z",
     "shell.execute_reply": "2021-01-18T10:36:39.840475Z"
    },
    "papermill": {
     "duration": 0.305533,
     "end_time": "2021-01-18T10:36:39.841574",
     "exception": false,
     "start_time": "2021-01-18T10:36:39.536041",
     "status": "completed"
    },
    "tags": []
   },
   "outputs": [],
   "source": [
    "test_images = mnist.test_images()\n",
    "test_labels = mnist.test_labels()"
   ]
  },
  {
   "cell_type": "code",
   "execution_count": 7,
   "metadata": {
    "execution": {
     "iopub.execute_input": "2021-01-18T10:36:39.904787Z",
     "iopub.status.busy": "2021-01-18T10:36:39.904219Z",
     "iopub.status.idle": "2021-01-18T10:36:39.917472Z",
     "shell.execute_reply": "2021-01-18T10:36:39.917001Z"
    },
    "papermill": {
     "duration": 0.048153,
     "end_time": "2021-01-18T10:36:39.917606",
     "exception": false,
     "start_time": "2021-01-18T10:36:39.869453",
     "status": "completed"
    },
    "tags": []
   },
   "outputs": [
    {
     "data": {
      "text/plain": [
       "((10000, 28, 28), (10000,))"
      ]
     },
     "execution_count": 7,
     "metadata": {},
     "output_type": "execute_result"
    }
   ],
   "source": [
    "test_images.shape, test_labels.shape"
   ]
  },
  {
   "cell_type": "code",
   "execution_count": 8,
   "metadata": {
    "execution": {
     "iopub.execute_input": "2021-01-18T10:36:39.974593Z",
     "iopub.status.busy": "2021-01-18T10:36:39.973993Z",
     "iopub.status.idle": "2021-01-18T10:36:40.123476Z",
     "shell.execute_reply": "2021-01-18T10:36:40.122976Z"
    },
    "papermill": {
     "duration": 0.179744,
     "end_time": "2021-01-18T10:36:40.123618",
     "exception": false,
     "start_time": "2021-01-18T10:36:39.943874",
     "status": "completed"
    },
    "tags": []
   },
   "outputs": [
    {
     "name": "stdout",
     "output_type": "stream",
     "text": [
      "2\n"
     ]
    },
    {
     "data": {
      "text/plain": [
       "<matplotlib.image.AxesImage at 0x7fc67ff325f8>"
      ]
     },
     "execution_count": 8,
     "metadata": {},
     "output_type": "execute_result"
    },
    {
     "data": {
      "image/png": "[encoded data removed]",
      "text/plain": [
       "<Figure size 432x288 with 1 Axes>"
      ]
     },
     "metadata": {
      "needs_background": "light"
     },
     "output_type": "display_data"
    }
   ],
   "source": [
    "image_index = 7776 # You may select anything up to 60,000\n",
    "print(train_labels[image_index]) \n",
    "plt.imshow(train_images[image_index], cmap='Greys')"
   ]
  },
  {
   "cell_type": "markdown",
   "metadata": {
    "papermill": {
     "duration": 0.026794,
     "end_time": "2021-01-18T10:36:40.178309",
     "exception": false,
     "start_time": "2021-01-18T10:36:40.151515",
     "status": "completed"
    },
    "tags": []
   },
   "source": [
    "## Filter data to get 3 and 8 out"
   ]
  },
  {
   "cell_type": "code",
   "execution_count": 9,
   "metadata": {
    "execution": {
     "iopub.execute_input": "2021-01-18T10:36:40.236985Z",
     "iopub.status.busy": "2021-01-18T10:36:40.236363Z",
     "iopub.status.idle": "2021-01-18T10:36:40.255726Z",
     "shell.execute_reply": "2021-01-18T10:36:40.255194Z"
    },
    "papermill": {
     "duration": 0.050684,
     "end_time": "2021-01-18T10:36:40.255863",
     "exception": false,
     "start_time": "2021-01-18T10:36:40.205179",
     "status": "completed"
    },
    "tags": []
   },
   "outputs": [],
   "source": [
    "train_filter = np.where((train_labels == 3 ) | (train_labels == 8))\n",
    "test_filter = np.where((test_labels == 3) | (test_labels == 8))\n",
    "X_train, y_train = train_images[train_filter], train_labels[train_filter]\n",
    "X_test, y_test = test_images[test_filter], test_labels[test_filter]"
   ]
  },
  {
   "cell_type": "markdown",
   "metadata": {
    "papermill": {
     "duration": 0.026536,
     "end_time": "2021-01-18T10:36:40.310269",
     "exception": false,
     "start_time": "2021-01-18T10:36:40.283733",
     "status": "completed"
    },
    "tags": []
   },
   "source": [
    "We normalize the pixel values in the 0 to 1 range"
   ]
  },
  {
   "cell_type": "code",
   "execution_count": 10,
   "metadata": {
    "execution": {
     "iopub.execute_input": "2021-01-18T10:36:40.371784Z",
     "iopub.status.busy": "2021-01-18T10:36:40.371211Z",
     "iopub.status.idle": "2021-01-18T10:36:40.424701Z",
     "shell.execute_reply": "2021-01-18T10:36:40.424134Z"
    },
    "papermill": {
     "duration": 0.087397,
     "end_time": "2021-01-18T10:36:40.424845",
     "exception": false,
     "start_time": "2021-01-18T10:36:40.337448",
     "status": "completed"
    },
    "tags": []
   },
   "outputs": [],
   "source": [
    "X_train = X_train/255.\n",
    "X_test = X_test/255."
   ]
  },
  {
   "cell_type": "markdown",
   "metadata": {
    "papermill": {
     "duration": 0.02801,
     "end_time": "2021-01-18T10:36:40.481169",
     "exception": false,
     "start_time": "2021-01-18T10:36:40.453159",
     "status": "completed"
    },
    "tags": []
   },
   "source": [
    "Setup the labels as 1 (when the digit is 3) and 0 (when the digit is 8)"
   ]
  },
  {
   "cell_type": "code",
   "execution_count": 11,
   "metadata": {
    "execution": {
     "iopub.execute_input": "2021-01-18T10:36:40.546679Z",
     "iopub.status.busy": "2021-01-18T10:36:40.540943Z",
     "iopub.status.idle": "2021-01-18T10:36:40.552483Z",
     "shell.execute_reply": "2021-01-18T10:36:40.552005Z"
    },
    "papermill": {
     "duration": 0.042623,
     "end_time": "2021-01-18T10:36:40.552602",
     "exception": false,
     "start_time": "2021-01-18T10:36:40.509979",
     "status": "completed"
    },
    "tags": []
   },
   "outputs": [],
   "source": [
    "y_train = 1*(y_train==3)\n",
    "y_test = 1*(y_test==3)"
   ]
  },
  {
   "cell_type": "code",
   "execution_count": 12,
   "metadata": {
    "execution": {
     "iopub.execute_input": "2021-01-18T10:36:40.613863Z",
     "iopub.status.busy": "2021-01-18T10:36:40.613247Z",
     "iopub.status.idle": "2021-01-18T10:36:40.626984Z",
     "shell.execute_reply": "2021-01-18T10:36:40.627455Z"
    },
    "papermill": {
     "duration": 0.046814,
     "end_time": "2021-01-18T10:36:40.627600",
     "exception": false,
     "start_time": "2021-01-18T10:36:40.580786",
     "status": "completed"
    },
    "tags": []
   },
   "outputs": [
    {
     "data": {
      "text/plain": [
       "((11982, 28, 28), (1984, 28, 28))"
      ]
     },
     "execution_count": 12,
     "metadata": {},
     "output_type": "execute_result"
    }
   ],
   "source": [
    "X_train.shape, X_test.shape"
   ]
  },
  {
   "cell_type": "markdown",
   "metadata": {
    "papermill": {
     "duration": 0.027759,
     "end_time": "2021-01-18T10:36:40.682730",
     "exception": false,
     "start_time": "2021-01-18T10:36:40.654971",
     "status": "completed"
    },
    "tags": []
   },
   "source": [
    "### Reshape the input data to create a linear array"
   ]
  },
  {
   "cell_type": "code",
   "execution_count": 13,
   "metadata": {
    "execution": {
     "iopub.execute_input": "2021-01-18T10:36:40.745146Z",
     "iopub.status.busy": "2021-01-18T10:36:40.744565Z",
     "iopub.status.idle": "2021-01-18T10:36:40.759587Z",
     "shell.execute_reply": "2021-01-18T10:36:40.760061Z"
    },
    "papermill": {
     "duration": 0.048751,
     "end_time": "2021-01-18T10:36:40.760211",
     "exception": false,
     "start_time": "2021-01-18T10:36:40.711460",
     "status": "completed"
    },
    "tags": []
   },
   "outputs": [
    {
     "data": {
      "text/plain": [
       "((11982, 784), (1984, 784))"
      ]
     },
     "execution_count": 13,
     "metadata": {},
     "output_type": "execute_result"
    }
   ],
   "source": [
    "X_train = X_train.reshape(X_train.shape[0], -1)\n",
    "X_test = X_test.reshape(X_test.shape[0], -1)\n",
    "X_train.shape, X_test.shape"
   ]
  },
  {
   "cell_type": "markdown",
   "metadata": {
    "papermill": {
     "duration": 0.028598,
     "end_time": "2021-01-18T10:36:40.815743",
     "exception": false,
     "start_time": "2021-01-18T10:36:40.787145",
     "status": "completed"
    },
    "tags": []
   },
   "source": [
    "### Importing appropriate functions from 'Kudzu'"
   ]
  },
  {
   "cell_type": "code",
   "execution_count": 14,
   "metadata": {
    "execution": {
     "iopub.execute_input": "2021-01-18T10:36:40.878625Z",
     "iopub.status.busy": "2021-01-18T10:36:40.878124Z",
     "iopub.status.idle": "2021-01-18T10:36:40.898785Z",
     "shell.execute_reply": "2021-01-18T10:36:40.899267Z"
    },
    "papermill": {
     "duration": 0.056335,
     "end_time": "2021-01-18T10:36:40.899417",
     "exception": false,
     "start_time": "2021-01-18T10:36:40.843082",
     "status": "completed"
    },
    "tags": []
   },
   "outputs": [],
   "source": [
    "from kudzu.layer import Sigmoid\n",
    "from kudzu.layer import Relu\n",
    "from kudzu.layer import Affine, Sigmoid\n",
    "\n",
    "from kudzu.model import Model\n",
    "from kudzu.train import Learner\n",
    "from kudzu.optim import GD\n",
    "from kudzu.data import Data, Dataloader, Sampler\n",
    "\n",
    "from kudzu.callbacks import AccCallback\n",
    "from kudzu.callbacks import ClfCallback\n",
    "\n",
    "from kudzu.loss import MSE"
   ]
  },
  {
   "cell_type": "markdown",
   "metadata": {
    "papermill": {
     "duration": 0.028319,
     "end_time": "2021-01-18T10:36:40.955669",
     "exception": false,
     "start_time": "2021-01-18T10:36:40.927350",
     "status": "completed"
    },
    "tags": []
   },
   "source": [
    "### Let us create a `Config` class, to store important parameters. \n",
    "This class essentially plays the role of a dictionary."
   ]
  },
  {
   "cell_type": "code",
   "execution_count": 15,
   "metadata": {
    "execution": {
     "iopub.execute_input": "2021-01-18T10:36:41.019620Z",
     "iopub.status.busy": "2021-01-18T10:36:41.019024Z",
     "iopub.status.idle": "2021-01-18T10:36:41.032935Z",
     "shell.execute_reply": "2021-01-18T10:36:41.032457Z"
    },
    "papermill": {
     "duration": 0.049111,
     "end_time": "2021-01-18T10:36:41.033082",
     "exception": false,
     "start_time": "2021-01-18T10:36:40.983971",
     "status": "completed"
    },
    "tags": []
   },
   "outputs": [],
   "source": [
    "class Config:\n",
    "    pass\n",
    "config = Config()\n",
    "config.lr = 0.001\n",
    "config.num_epochs = 251\n",
    "config.bs = 50"
   ]
  },
  {
   "cell_type": "markdown",
   "metadata": {
    "papermill": {
     "duration": 0.028106,
     "end_time": "2021-01-18T10:36:41.089485",
     "exception": false,
     "start_time": "2021-01-18T10:36:41.061379",
     "status": "completed"
    },
    "tags": []
   },
   "source": [
    "### Initializing data to the variables"
   ]
  },
  {
   "cell_type": "code",
   "execution_count": 16,
   "metadata": {
    "execution": {
     "iopub.execute_input": "2021-01-18T10:36:41.152736Z",
     "iopub.status.busy": "2021-01-18T10:36:41.152137Z",
     "iopub.status.idle": "2021-01-18T10:36:41.166353Z",
     "shell.execute_reply": "2021-01-18T10:36:41.165874Z"
    },
    "papermill": {
     "duration": 0.048308,
     "end_time": "2021-01-18T10:36:41.166472",
     "exception": false,
     "start_time": "2021-01-18T10:36:41.118164",
     "status": "completed"
    },
    "tags": []
   },
   "outputs": [],
   "source": [
    "data = Data(X_train, y_train.reshape(-1,1))\n",
    "sampler = Sampler(data, config.bs, shuffle=True)\n",
    "\n",
    "dl = Dataloader(data, sampler)\n",
    "\n",
    "opt = GD(config.lr)\n",
    "loss = MSE()"
   ]
  },
  {
   "cell_type": "code",
   "execution_count": 17,
   "metadata": {
    "execution": {
     "iopub.execute_input": "2021-01-18T10:36:41.225837Z",
     "iopub.status.busy": "2021-01-18T10:36:41.225244Z",
     "iopub.status.idle": "2021-01-18T10:36:41.238168Z",
     "shell.execute_reply": "2021-01-18T10:36:41.237665Z"
    },
    "papermill": {
     "duration": 0.044706,
     "end_time": "2021-01-18T10:36:41.238291",
     "exception": false,
     "start_time": "2021-01-18T10:36:41.193585",
     "status": "completed"
    },
    "tags": []
   },
   "outputs": [],
   "source": [
    "training_xdata = X_train\n",
    "testing_xdata = X_test\n",
    "training_ydata = y_train.reshape(-1,1)\n",
    "testing_ydata = y_test.reshape(-1,1)"
   ]
  },
  {
   "cell_type": "markdown",
   "metadata": {
    "papermill": {
     "duration": 0.026822,
     "end_time": "2021-01-18T10:36:41.292269",
     "exception": false,
     "start_time": "2021-01-18T10:36:41.265447",
     "status": "completed"
    },
    "tags": []
   },
   "source": [
    "### Running Models with the Training data\n",
    "Details about the network layers:\n",
    "- A first affine layer has 784 inputs and does 100 affine transforms. These are followed by a Relu\n",
    "- A second affine layer has 100 inputs from the 100 activations of the past layer, and does 100 affine transforms. These are followed by a Relu\n",
    "- A third affine layer has 100 activations and does 2 affine transformations to create an embedding for visualization. There is no non-linearity here.\n",
    "- A final \"logistic regression\" which has an affine transform from 2 inputs to 1 output, which is squeezed through a sigmoid.\n",
    "\n",
    "Help taken from Anshuman's Notebook."
   ]
  },
  {
   "cell_type": "code",
   "execution_count": 18,
   "metadata": {
    "execution": {
     "iopub.execute_input": "2021-01-18T10:36:41.353383Z",
     "iopub.status.busy": "2021-01-18T10:36:41.352777Z",
     "iopub.status.idle": "2021-01-18T10:36:41.372328Z",
     "shell.execute_reply": "2021-01-18T10:36:41.372922Z"
    },
    "papermill": {
     "duration": 0.052677,
     "end_time": "2021-01-18T10:36:41.373099",
     "exception": false,
     "start_time": "2021-01-18T10:36:41.320422",
     "status": "completed"
    },
    "tags": []
   },
   "outputs": [],
   "source": [
    "# layers for the Neural Network\n",
    "layers = [Affine(\"first\", 784, 100), Relu(\"first\"), Affine(\"second\", 100, 100), Relu(\"second\"), Affine(\"third\", 100, 2), Affine(\"final\", 2, 1), Sigmoid(\"final\")]\n",
    "model_nn = Model(layers)\n",
    "\n",
    "# layers for the Logistic Regression\n",
    "layers_lr = [Affine(\"logits\", 784, 1), Sigmoid(\"sigmoid\")]\n",
    "model_lr = Model(layers_lr)"
   ]
  },
  {
   "cell_type": "code",
   "execution_count": 19,
   "metadata": {
    "execution": {
     "iopub.execute_input": "2021-01-18T10:36:41.438325Z",
     "iopub.status.busy": "2021-01-18T10:36:41.437679Z",
     "iopub.status.idle": "2021-01-18T10:36:41.449140Z",
     "shell.execute_reply": "2021-01-18T10:36:41.449662Z"
    },
    "papermill": {
     "duration": 0.047509,
     "end_time": "2021-01-18T10:36:41.449849",
     "exception": false,
     "start_time": "2021-01-18T10:36:41.402340",
     "status": "completed"
    },
    "tags": []
   },
   "outputs": [],
   "source": [
    "# suffix _nn stands for Neural Network.\n",
    "learner_nn = Learner(loss, model_nn, opt, config.num_epochs)\n",
    "acc_nn = ClfCallback(learner_nn, config.bs, training_xdata , testing_xdata, training_ydata, testing_ydata)\n",
    "learner_nn.set_callbacks([acc_nn])"
   ]
  },
  {
   "cell_type": "code",
   "execution_count": 20,
   "metadata": {
    "execution": {
     "iopub.execute_input": "2021-01-18T10:36:41.509552Z",
     "iopub.status.busy": "2021-01-18T10:36:41.508954Z",
     "iopub.status.idle": "2021-01-18T10:38:08.705711Z",
     "shell.execute_reply": "2021-01-18T10:38:08.706516Z"
    },
    "papermill": {
     "duration": 87.230183,
     "end_time": "2021-01-18T10:38:08.706680",
     "exception": false,
     "start_time": "2021-01-18T10:36:41.476497",
     "status": "completed"
    },
    "tags": []
   },
   "outputs": [
    {
     "name": "stdout",
     "output_type": "stream",
     "text": [
      "====== Neural Network ======\n"
     ]
    },
    {
     "name": "stdout",
     "output_type": "stream",
     "text": [
      "Epoch 0, Loss 0.2482\n",
      "Training Accuracy: 0.6283, Testing Accuracy: 0.6421\n",
      "\n"
     ]
    },
    {
     "name": "stdout",
     "output_type": "stream",
     "text": [
      "Epoch 10, Loss 0.0861\n",
      "Training Accuracy: 0.9177, Testing Accuracy: 0.9229\n",
      "\n"
     ]
    },
    {
     "name": "stdout",
     "output_type": "stream",
     "text": [
      "Epoch 20, Loss 0.0536\n",
      "Training Accuracy: 0.9447, Testing Accuracy: 0.9531\n",
      "\n"
     ]
    },
    {
     "name": "stdout",
     "output_type": "stream",
     "text": [
      "Epoch 30, Loss 0.0424\n",
      "Training Accuracy: 0.9538, Testing Accuracy: 0.9592\n",
      "\n"
     ]
    },
    {
     "name": "stdout",
     "output_type": "stream",
     "text": [
      "Epoch 40, Loss 0.037\n",
      "Training Accuracy: 0.9584, Testing Accuracy: 0.9632\n",
      "\n"
     ]
    },
    {
     "name": "stdout",
     "output_type": "stream",
     "text": [
      "Epoch 50, Loss 0.0337\n",
      "Training Accuracy: 0.9617, Testing Accuracy: 0.9662\n",
      "\n"
     ]
    },
    {
     "name": "stdout",
     "output_type": "stream",
     "text": [
      "Epoch 60, Loss 0.0313\n",
      "Training Accuracy: 0.9643, Testing Accuracy: 0.9688\n",
      "\n"
     ]
    },
    {
     "name": "stdout",
     "output_type": "stream",
     "text": [
      "Epoch 70, Loss 0.0295\n",
      "Training Accuracy: 0.9662, Testing Accuracy: 0.9713\n",
      "\n"
     ]
    },
    {
     "name": "stdout",
     "output_type": "stream",
     "text": [
      "Epoch 80, Loss 0.0281\n",
      "Training Accuracy: 0.9680, Testing Accuracy: 0.9703\n",
      "\n"
     ]
    },
    {
     "name": "stdout",
     "output_type": "stream",
     "text": [
      "Epoch 90, Loss 0.0269\n",
      "Training Accuracy: 0.9685, Testing Accuracy: 0.9713\n",
      "\n"
     ]
    },
    {
     "name": "stdout",
     "output_type": "stream",
     "text": [
      "Epoch 100, Loss 0.0259\n",
      "Training Accuracy: 0.9703, Testing Accuracy: 0.9718\n",
      "\n"
     ]
    },
    {
     "name": "stdout",
     "output_type": "stream",
     "text": [
      "Epoch 110, Loss 0.025\n",
      "Training Accuracy: 0.9716, Testing Accuracy: 0.9728\n",
      "\n"
     ]
    },
    {
     "name": "stdout",
     "output_type": "stream",
     "text": [
      "Epoch 120, Loss 0.0242\n",
      "Training Accuracy: 0.9721, Testing Accuracy: 0.9728\n",
      "\n"
     ]
    },
    {
     "name": "stdout",
     "output_type": "stream",
     "text": [
      "Epoch 130, Loss 0.0235\n",
      "Training Accuracy: 0.9726, Testing Accuracy: 0.9733\n",
      "\n"
     ]
    },
    {
     "name": "stdout",
     "output_type": "stream",
     "text": [
      "Epoch 140, Loss 0.0228\n",
      "Training Accuracy: 0.9736, Testing Accuracy: 0.9743\n",
      "\n"
     ]
    },
    {
     "name": "stdout",
     "output_type": "stream",
     "text": [
      "Epoch 150, Loss 0.0222\n",
      "Training Accuracy: 0.9745, Testing Accuracy: 0.9743\n",
      "\n"
     ]
    },
    {
     "name": "stdout",
     "output_type": "stream",
     "text": [
      "Epoch 160, Loss 0.0216\n",
      "Training Accuracy: 0.9751, Testing Accuracy: 0.9743\n",
      "\n"
     ]
    },
    {
     "name": "stdout",
     "output_type": "stream",
     "text": [
      "Epoch 170, Loss 0.021\n",
      "Training Accuracy: 0.9758, Testing Accuracy: 0.9748\n",
      "\n"
     ]
    },
    {
     "name": "stdout",
     "output_type": "stream",
     "text": [
      "Epoch 180, Loss 0.0205\n",
      "Training Accuracy: 0.9766, Testing Accuracy: 0.9738\n",
      "\n"
     ]
    },
    {
     "name": "stdout",
     "output_type": "stream",
     "text": [
      "Epoch 190, Loss 0.02\n",
      "Training Accuracy: 0.9769, Testing Accuracy: 0.9743\n",
      "\n"
     ]
    },
    {
     "name": "stdout",
     "output_type": "stream",
     "text": [
      "Epoch 200, Loss 0.0195\n",
      "Training Accuracy: 0.9776, Testing Accuracy: 0.9753\n",
      "\n"
     ]
    },
    {
     "name": "stdout",
     "output_type": "stream",
     "text": [
      "Epoch 210, Loss 0.0191\n",
      "Training Accuracy: 0.9784, Testing Accuracy: 0.9758\n",
      "\n"
     ]
    },
    {
     "name": "stdout",
     "output_type": "stream",
     "text": [
      "Epoch 220, Loss 0.0187\n",
      "Training Accuracy: 0.9792, Testing Accuracy: 0.9758\n",
      "\n"
     ]
    },
    {
     "name": "stdout",
     "output_type": "stream",
     "text": [
      "Epoch 230, Loss 0.0182\n",
      "Training Accuracy: 0.9800, Testing Accuracy: 0.9758\n",
      "\n"
     ]
    },
    {
     "name": "stdout",
     "output_type": "stream",
     "text": [
      "Epoch 240, Loss 0.0178\n",
      "Training Accuracy: 0.9804, Testing Accuracy: 0.9763\n",
      "\n"
     ]
    },
    {
     "name": "stdout",
     "output_type": "stream",
     "text": [
      "Epoch 250, Loss 0.0174\n",
      "Training Accuracy: 0.9811, Testing Accuracy: 0.9768\n",
      "\n"
     ]
    },
    {
     "data": {
      "text/plain": [
       "0.010656301923873714"
      ]
     },
     "execution_count": 20,
     "metadata": {},
     "output_type": "execute_result"
    }
   ],
   "source": [
    "print(\"====== Neural Network ======\")\n",
    "learner_nn.train_loop(dl)"
   ]
  },
  {
   "cell_type": "markdown",
   "metadata": {
    "papermill": {
     "duration": 0.03681,
     "end_time": "2021-01-18T10:38:08.780989",
     "exception": false,
     "start_time": "2021-01-18T10:38:08.744179",
     "status": "completed"
    },
    "tags": []
   },
   "source": [
    "### Logistic Regression based Implementation."
   ]
  },
  {
   "cell_type": "code",
   "execution_count": 21,
   "metadata": {
    "execution": {
     "iopub.execute_input": "2021-01-18T10:38:08.862343Z",
     "iopub.status.busy": "2021-01-18T10:38:08.860141Z",
     "iopub.status.idle": "2021-01-18T10:38:08.871865Z",
     "shell.execute_reply": "2021-01-18T10:38:08.872315Z"
    },
    "papermill": {
     "duration": 0.055294,
     "end_time": "2021-01-18T10:38:08.872475",
     "exception": false,
     "start_time": "2021-01-18T10:38:08.817181",
     "status": "completed"
    },
    "tags": []
   },
   "outputs": [],
   "source": [
    "learner_lr = Learner(loss, model_lr, opt, config.num_epochs)\n",
    "acc_lr = ClfCallback(learner_lr, config.bs, training_xdata , testing_xdata, training_ydata, testing_ydata)\n",
    "learner_lr.set_callbacks([acc_lr])"
   ]
  },
  {
   "cell_type": "code",
   "execution_count": 22,
   "metadata": {
    "execution": {
     "iopub.execute_input": "2021-01-18T10:38:08.956848Z",
     "iopub.status.busy": "2021-01-18T10:38:08.956243Z",
     "iopub.status.idle": "2021-01-18T10:38:24.330794Z",
     "shell.execute_reply": "2021-01-18T10:38:24.331539Z"
    },
    "papermill": {
     "duration": 15.42154,
     "end_time": "2021-01-18T10:38:24.331697",
     "exception": false,
     "start_time": "2021-01-18T10:38:08.910157",
     "status": "completed"
    },
    "tags": []
   },
   "outputs": [
    {
     "name": "stdout",
     "output_type": "stream",
     "text": [
      "====== Logistic Regression ======\n",
      "Epoch 0, Loss 0.2497\n",
      "Training Accuracy: 0.6311, Testing Accuracy: 0.6124\n",
      "\n"
     ]
    },
    {
     "name": "stdout",
     "output_type": "stream",
     "text": [
      "Epoch 10, Loss 0.104\n",
      "Training Accuracy: 0.9132, Testing Accuracy: 0.9204\n",
      "\n"
     ]
    },
    {
     "name": "stdout",
     "output_type": "stream",
     "text": [
      "Epoch 20, Loss 0.079\n",
      "Training Accuracy: 0.9316, Testing Accuracy: 0.9395\n",
      "\n"
     ]
    },
    {
     "name": "stdout",
     "output_type": "stream",
     "text": [
      "Epoch 30, Loss 0.0679\n",
      "Training Accuracy: 0.9388, Testing Accuracy: 0.9481\n",
      "\n"
     ]
    },
    {
     "name": "stdout",
     "output_type": "stream",
     "text": [
      "Epoch 40, Loss 0.0613\n",
      "Training Accuracy: 0.9430, Testing Accuracy: 0.9516\n",
      "\n"
     ]
    },
    {
     "name": "stdout",
     "output_type": "stream",
     "text": [
      "Epoch 50, Loss 0.0569\n",
      "Training Accuracy: 0.9467, Testing Accuracy: 0.9521\n",
      "\n"
     ]
    },
    {
     "name": "stdout",
     "output_type": "stream",
     "text": [
      "Epoch 60, Loss 0.0536\n",
      "Training Accuracy: 0.9487, Testing Accuracy: 0.9536\n",
      "\n"
     ]
    },
    {
     "name": "stdout",
     "output_type": "stream",
     "text": [
      "Epoch 70, Loss 0.0511\n",
      "Training Accuracy: 0.9505, Testing Accuracy: 0.9567\n",
      "\n"
     ]
    },
    {
     "name": "stdout",
     "output_type": "stream",
     "text": [
      "Epoch 80, Loss 0.0491\n",
      "Training Accuracy: 0.9516, Testing Accuracy: 0.9556\n",
      "\n"
     ]
    },
    {
     "name": "stdout",
     "output_type": "stream",
     "text": [
      "Epoch 90, Loss 0.0474\n",
      "Training Accuracy: 0.9520, Testing Accuracy: 0.9572\n",
      "\n"
     ]
    },
    {
     "name": "stdout",
     "output_type": "stream",
     "text": [
      "Epoch 100, Loss 0.046\n",
      "Training Accuracy: 0.9525, Testing Accuracy: 0.9592\n",
      "\n"
     ]
    },
    {
     "name": "stdout",
     "output_type": "stream",
     "text": [
      "Epoch 110, Loss 0.0448\n",
      "Training Accuracy: 0.9534, Testing Accuracy: 0.9612\n",
      "\n"
     ]
    },
    {
     "name": "stdout",
     "output_type": "stream",
     "text": [
      "Epoch 120, Loss 0.0438\n",
      "Training Accuracy: 0.9543, Testing Accuracy: 0.9632\n",
      "\n"
     ]
    },
    {
     "name": "stdout",
     "output_type": "stream",
     "text": [
      "Epoch 130, Loss 0.0428\n",
      "Training Accuracy: 0.9552, Testing Accuracy: 0.9637\n",
      "\n"
     ]
    },
    {
     "name": "stdout",
     "output_type": "stream",
     "text": [
      "Epoch 140, Loss 0.042\n",
      "Training Accuracy: 0.9559, Testing Accuracy: 0.9637\n",
      "\n"
     ]
    },
    {
     "name": "stdout",
     "output_type": "stream",
     "text": [
      "Epoch 150, Loss 0.0413\n",
      "Training Accuracy: 0.9566, Testing Accuracy: 0.9642\n",
      "\n"
     ]
    },
    {
     "name": "stdout",
     "output_type": "stream",
     "text": [
      "Epoch 160, Loss 0.0406\n",
      "Training Accuracy: 0.9576, Testing Accuracy: 0.9657\n",
      "\n"
     ]
    },
    {
     "name": "stdout",
     "output_type": "stream",
     "text": [
      "Epoch 170, Loss 0.04\n",
      "Training Accuracy: 0.9583, Testing Accuracy: 0.9662\n",
      "\n"
     ]
    },
    {
     "name": "stdout",
     "output_type": "stream",
     "text": [
      "Epoch 180, Loss 0.0395\n",
      "Training Accuracy: 0.9584, Testing Accuracy: 0.9662\n",
      "\n"
     ]
    },
    {
     "name": "stdout",
     "output_type": "stream",
     "text": [
      "Epoch 190, Loss 0.039\n",
      "Training Accuracy: 0.9589, Testing Accuracy: 0.9662\n",
      "\n"
     ]
    },
    {
     "name": "stdout",
     "output_type": "stream",
     "text": [
      "Epoch 200, Loss 0.0385\n",
      "Training Accuracy: 0.9592, Testing Accuracy: 0.9662\n",
      "\n"
     ]
    },
    {
     "name": "stdout",
     "output_type": "stream",
     "text": [
      "Epoch 210, Loss 0.038\n",
      "Training Accuracy: 0.9594, Testing Accuracy: 0.9667\n",
      "\n"
     ]
    },
    {
     "name": "stdout",
     "output_type": "stream",
     "text": [
      "Epoch 220, Loss 0.0376\n",
      "Training Accuracy: 0.9595, Testing Accuracy: 0.9667\n",
      "\n"
     ]
    },
    {
     "name": "stdout",
     "output_type": "stream",
     "text": [
      "Epoch 230, Loss 0.0373\n",
      "Training Accuracy: 0.9599, Testing Accuracy: 0.9672\n",
      "\n"
     ]
    },
    {
     "name": "stdout",
     "output_type": "stream",
     "text": [
      "Epoch 240, Loss 0.0369\n",
      "Training Accuracy: 0.9603, Testing Accuracy: 0.9672\n",
      "\n"
     ]
    },
    {
     "name": "stdout",
     "output_type": "stream",
     "text": [
      "Epoch 250, Loss 0.0366\n",
      "Training Accuracy: 0.9604, Testing Accuracy: 0.9672\n",
      "\n"
     ]
    },
    {
     "data": {
      "text/plain": [
       "0.042233751210978235"
      ]
     },
     "execution_count": 22,
     "metadata": {},
     "output_type": "execute_result"
    }
   ],
   "source": [
    "print(\"====== Logistic Regression ======\")\n",
    "learner_lr.train_loop(dl)"
   ]
  },
  {
   "cell_type": "markdown",
   "metadata": {
    "papermill": {
     "duration": 0.044297,
     "end_time": "2021-01-18T10:38:24.421168",
     "exception": false,
     "start_time": "2021-01-18T10:38:24.376871",
     "status": "completed"
    },
    "tags": []
   },
   "source": [
    "### Comparing results of NN and LR"
   ]
  },
  {
   "cell_type": "code",
   "execution_count": 23,
   "metadata": {
    "execution": {
     "iopub.execute_input": "2021-01-18T10:38:24.515048Z",
     "iopub.status.busy": "2021-01-18T10:38:24.514015Z",
     "iopub.status.idle": "2021-01-18T10:38:24.755796Z",
     "shell.execute_reply": "2021-01-18T10:38:24.756270Z"
    },
    "papermill": {
     "duration": 0.291357,
     "end_time": "2021-01-18T10:38:24.756423",
     "exception": false,
     "start_time": "2021-01-18T10:38:24.465066",
     "status": "completed"
    },
    "tags": []
   },
   "outputs": [
    {
     "data": {
      "text/plain": [
       "<matplotlib.legend.Legend at 0x7fc677b182b0>"
      ]
     },
     "execution_count": 23,
     "metadata": {},
     "output_type": "execute_result"
    },
    {
     "data": {
      "image/png": "[encoded data removed]",
      "text/plain": [
       "<Figure size 1080x720 with 1 Axes>"
      ]
     },
     "metadata": {
      "needs_background": "light"
     },
     "output_type": "display_data"
    }
   ],
   "source": [
    "plt.figure(figsize=(15,10))\n",
    "\n",
    "# Neural Network plots\n",
    "plt.plot(acc_nn.accuracies, 'r-', label = \"Training Accuracies - NN\")\n",
    "plt.plot(acc_nn.test_accuracies, 'g-', label = \"Testing Accuracies - NN\")\n",
    "\n",
    "# Logistic Regression plots\n",
    "plt.plot(acc_lr.accuracies, 'k-', label = \"Training Accuracies - LR\")\n",
    "plt.plot(acc_lr.test_accuracies, 'b-', label = \"Testing Accuracies - LR\")\n",
    "\n",
    "plt.ylim(0.8, 1)\n",
    "\n",
    "plt.legend()\n",
    "\n"
   ]
  },
  {
   "cell_type": "markdown",
   "metadata": {
    "papermill": {
     "duration": 0.045984,
     "end_time": "2021-01-18T10:38:24.848547",
     "exception": false,
     "start_time": "2021-01-18T10:38:24.802563",
     "status": "completed"
    },
    "tags": []
   },
   "source": [
    "### From the plot, we can observe the following:\n",
    "- Neural Network achieves higher accuracy than the Logistic Regression model.\n",
    "- This apparently, is because of overfitting, i.e. NN captures more noise than data.\n",
    "- Testing accuracy of NN drops below the Training accuracy at higher epochs. This explains the over-fitting on training data.\n",
    "- Logistic Regression gives a reliable accuracy, without the above mentioned problem.\n"
   ]
  },
  {
   "cell_type": "markdown",
   "metadata": {
    "papermill": {
     "duration": 0.045847,
     "end_time": "2021-01-18T10:38:24.939994",
     "exception": false,
     "start_time": "2021-01-18T10:38:24.894147",
     "status": "completed"
    },
    "tags": []
   },
   "source": [
    "### Moving till the last but one layer (excluding it).\n",
    "#### Plotting the outputs of this layer of the NN."
   ]
  },
  {
   "cell_type": "code",
   "execution_count": 24,
   "metadata": {
    "execution": {
     "iopub.execute_input": "2021-01-18T10:38:25.041964Z",
     "iopub.status.busy": "2021-01-18T10:38:25.036227Z",
     "iopub.status.idle": "2021-01-18T10:38:25.051879Z",
     "shell.execute_reply": "2021-01-18T10:38:25.051376Z"
    },
    "papermill": {
     "duration": 0.066332,
     "end_time": "2021-01-18T10:38:25.052009",
     "exception": false,
     "start_time": "2021-01-18T10:38:24.985677",
     "status": "completed"
    },
    "tags": []
   },
   "outputs": [],
   "source": [
    "model_new = Model(layers[:-2])"
   ]
  },
  {
   "cell_type": "code",
   "execution_count": 25,
   "metadata": {
    "execution": {
     "iopub.execute_input": "2021-01-18T10:38:25.151430Z",
     "iopub.status.busy": "2021-01-18T10:38:25.150844Z",
     "iopub.status.idle": "2021-01-18T10:38:25.169870Z",
     "shell.execute_reply": "2021-01-18T10:38:25.170348Z"
    },
    "papermill": {
     "duration": 0.073003,
     "end_time": "2021-01-18T10:38:25.170510",
     "exception": false,
     "start_time": "2021-01-18T10:38:25.097507",
     "status": "completed"
    },
    "tags": []
   },
   "outputs": [],
   "source": [
    "plot_testing = model_new(testing_xdata)"
   ]
  },
  {
   "cell_type": "code",
   "execution_count": 26,
   "metadata": {
    "execution": {
     "iopub.execute_input": "2021-01-18T10:38:25.267306Z",
     "iopub.status.busy": "2021-01-18T10:38:25.266724Z",
     "iopub.status.idle": "2021-01-18T10:38:25.465839Z",
     "shell.execute_reply": "2021-01-18T10:38:25.465302Z"
    },
    "papermill": {
     "duration": 0.248705,
     "end_time": "2021-01-18T10:38:25.465978",
     "exception": false,
     "start_time": "2021-01-18T10:38:25.217273",
     "status": "completed"
    },
    "tags": []
   },
   "outputs": [
    {
     "data": {
      "text/plain": [
       "Text(0.5, 1.0, 'Outputs')"
      ]
     },
     "execution_count": 26,
     "metadata": {},
     "output_type": "execute_result"
    },
    {
     "data": {
      "image/png": "[encoded data removed]",
      "text/plain": [
       "<Figure size 576x504 with 1 Axes>"
      ]
     },
     "metadata": {
      "needs_background": "light"
     },
     "output_type": "display_data"
    }
   ],
   "source": [
    "plt.figure(figsize=(8,7))\n",
    "plt.scatter(plot_testing[:,0], plot_testing[:,1], alpha = 0.1, c = y_test.ravel());\n",
    "plt.title('Outputs')"
   ]
  },
  {
   "cell_type": "markdown",
   "metadata": {
    "papermill": {
     "duration": 0.048188,
     "end_time": "2021-01-18T10:38:25.563047",
     "exception": false,
     "start_time": "2021-01-18T10:38:25.514859",
     "status": "completed"
    },
    "tags": []
   },
   "source": [
    "### Plotting probability contours"
   ]
  },
  {
   "cell_type": "code",
   "execution_count": 27,
   "metadata": {
    "execution": {
     "iopub.execute_input": "2021-01-18T10:38:25.667132Z",
     "iopub.status.busy": "2021-01-18T10:38:25.666550Z",
     "iopub.status.idle": "2021-01-18T10:38:25.677031Z",
     "shell.execute_reply": "2021-01-18T10:38:25.677474Z"
    },
    "papermill": {
     "duration": 0.066331,
     "end_time": "2021-01-18T10:38:25.677626",
     "exception": false,
     "start_time": "2021-01-18T10:38:25.611295",
     "status": "completed"
    },
    "tags": []
   },
   "outputs": [],
   "source": [
    "model_prob = Model(layers[-2:]) "
   ]
  },
  {
   "cell_type": "code",
   "execution_count": 28,
   "metadata": {
    "execution": {
     "iopub.execute_input": "2021-01-18T10:38:25.779866Z",
     "iopub.status.busy": "2021-01-18T10:38:25.779286Z",
     "iopub.status.idle": "2021-01-18T10:38:25.794121Z",
     "shell.execute_reply": "2021-01-18T10:38:25.794570Z"
    },
    "papermill": {
     "duration": 0.06873,
     "end_time": "2021-01-18T10:38:25.794727",
     "exception": false,
     "start_time": "2021-01-18T10:38:25.725997",
     "status": "completed"
    },
    "tags": []
   },
   "outputs": [],
   "source": [
    "# Adjust the x and y ranges according to the above generated plot.\n",
    "x_range = np.linspace(-4, 1, 100) \n",
    "y_range = np.linspace(-6, 6, 100) \n",
    "x_grid, y_grid = np.meshgrid(x_range, y_range) # x_grid and y_grig are of size 100 X 100\n",
    "\n",
    "# converting x_grid and y_grid to continuous arrays\n",
    "x_grid_flat = np.ravel(x_grid)\n",
    "y_grid_flat = np.ravel(y_grid)\n",
    "\n",
    "# The last layer of the current model takes two columns as input. Hence transpose of np.vstack() is required.\n",
    "X = np.vstack((x_grid_flat, y_grid_flat)).T\n",
    "\n",
    "# x_grid and y_grid are of size 100 x 100\n",
    "probability_contour = model_prob(X).reshape(100,100) "
   ]
  },
  {
   "cell_type": "code",
   "execution_count": 29,
   "metadata": {
    "execution": {
     "iopub.execute_input": "2021-01-18T10:38:25.922199Z",
     "iopub.status.busy": "2021-01-18T10:38:25.921571Z",
     "iopub.status.idle": "2021-01-18T10:38:26.177284Z",
     "shell.execute_reply": "2021-01-18T10:38:26.176392Z"
    },
    "papermill": {
     "duration": 0.308583,
     "end_time": "2021-01-18T10:38:26.177431",
     "exception": false,
     "start_time": "2021-01-18T10:38:25.868848",
     "status": "completed"
    },
    "tags": []
   },
   "outputs": [
    {
     "data": {
      "image/png": "[encoded data removed]",
      "text/plain": [
       "<Figure size 720x648 with 1 Axes>"
      ]
     },
     "metadata": {
      "needs_background": "light"
     },
     "output_type": "display_data"
    }
   ],
   "source": [
    "plt.figure(figsize=(10,9))\n",
    "plt.scatter(plot_testing[:,0], plot_testing[:,1], alpha = 0.1, c = y_test.ravel())\n",
    "contours = plt.contour(x_grid,y_grid,probability_contour)\n",
    "plt.title('Probability Contours')\n",
    "plt.clabel(contours, inline = True );"
   ]
  }
 ],
 "metadata": {
  "kernelspec": {
   "display_name": "Python 3",
   "language": "python",
   "name": "python3"
  },
  "language_info": {
   "codemirror_mode": {
    "name": "ipython",
    "version": 3
   },
   "file_extension": ".py",
   "mimetype": "text/x-python",
   "name": "python",
   "nbconvert_exporter": "python",
   "pygments_lexer": "ipython3",
   "version": "3.6.12"
  },
  "papermill": {
   "duration": 111.634723,
   "end_time": "2021-01-18T10:38:26.637939",
   "environment_variables": {},
   "exception": null,
   "input_path": "2020-08-11-NeuralNetwork.ipynb",
   "output_path": "2020-08-11-NeuralNetwork.ipynb",
   "parameters": {},
   "start_time": "2021-01-18T10:36:35.003216",
   "version": "2.1.2"
  }
 },
 "nbformat": 4,
 "nbformat_minor": 4
}